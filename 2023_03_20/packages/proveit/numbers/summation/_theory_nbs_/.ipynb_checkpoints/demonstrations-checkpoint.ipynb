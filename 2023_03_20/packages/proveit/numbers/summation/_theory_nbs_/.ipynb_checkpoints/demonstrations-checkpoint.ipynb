{
 "cells": [
  {
   "cell_type": "markdown",
   "metadata": {},
   "source": [
    "Demonstrations for the theory of <a class=\"ProveItLink\" href=\"theory.ipynb\">proveit.numbers.summation</a>\n",
    "========"
   ]
  },
  {
   "cell_type": "code",
   "execution_count": 1,
   "metadata": {},
   "outputs": [],
   "source": [
    "import proveit\n",
    "from proveit import Function\n",
    "from proveit import a, b, c, f, i, j, k, l, m, n, x, fi, fij, A, B\n",
    "from proveit.core_expr_types import f_1_to_i\n",
    "from proveit.logic import Forall, InSet, Card\n",
    "from proveit.numbers import zero, one, two, three, four, five, six, seven, eight, nine, infinity\n",
    "from proveit.numbers import (Add, Exp, frac, greater, Less, LessEq, Mult, num, subtract, Sum )\n",
    "from proveit.numbers import Complex, Integer, Interval, Natural, NaturalPos\n",
    "from proveit.numbers.summation import al, bl, ak, bk\n",
    "%begin demonstrations"
   ]
  },
  {
   "cell_type": "markdown",
   "metadata": {},
   "source": [
    "# Summations $\\sum_{i=1}^{n}f(i)$"
   ]
  },
  {
   "cell_type": "markdown",
   "metadata": {},
   "source": [
    "<div style=\"line-height:1.4; font-size:14pt\">\n",
    "<a href='#introduction'>Introduction</a><br>\n",
    "<a href='#simple_expressions'>Simple Expressions involving the Sum class</a><br>\n",
    "<a href='#common_attributes'>Common Attributes of a Sum</a><br>\n",
    "<a href='#further_demonstrations'>Further Demonstrations</a><br>\n",
    "    <ol>\n",
    "        <li><a href='#demo01'>TBA</a></li>\n",
    "        <li><a href='#demo02'>TBA</a></li>\n",
    "        <li><a href='#demo03'>TBA</a></li>\n",
    "    </ol>\n",
    "<a href='#misc_testing'>Miscellaneous Testing</a><br>\n",
    "</div>"
   ]
  },
  {
   "cell_type": "markdown",
   "metadata": {},
   "source": [
    "## Introduction <a id='introduction'></a>"
   ]
  },
  {
   "cell_type": "markdown",
   "metadata": {},
   "source": [
    "Finite and infinite summations of the form $\\sum_{i=m}^{n}f(i)$ arise in a wide variety of contexts, both as objects of study in their own right and as concise notational tools used within a variety of topics. Such summations are constructed in Prove-It using the `Sum` class defined in `sum.py`.<br/>"
   ]
  },
  {
   "cell_type": "markdown",
   "metadata": {},
   "source": [
    "## Simple Expressions Involving Summations<a id='simple_expressions'></a>"
   ]
  },
  {
   "cell_type": "markdown",
   "metadata": {},
   "source": [
    "Summations are easy to construct using the Sum class, and such Sum objects are easily incorporated into other expressions. A summation object is created by invoking the `Sum` class as follows:<br/>\n",
    "\n",
    "`Sum(index_or_indices, summand, domain=None, domains=None, condition=None,\n",
    "     conditions=None, _lambda_map=None)`\n",
    "     \n",
    "Notice that the index argument and summand arguments are not optional. For example, we cannot create a generic summation expression such as $\\sum f(x)$ with no index specified. We can create a summation, though, in which the domain for the index remains unspecified, such as $sum_{i}f(i)$.</br>\n",
    "\n",
    "Notice also that Prove-It summations using the `Sum` class are defined only for indices that range over contiguous integer domains such as an integral interval (created using the `Interval` class) or the entire set of naturals $\\mathbb{N}$ (for example, specified using `domain=Natural`)."
   ]
  },
  {
   "cell_type": "code",
   "execution_count": 2,
   "metadata": {},
   "outputs": [
    {
     "data": {
      "text/html": [
       "<a class=\"ProveItLink\" href=\"../__pv_it/demonstrations/0e14957880da9c8bd45f703ed2aec4968dcd21f40/expr.ipynb\"><img src=\"data:image/png;base64,iVBORw0KGgoAAAANSUhEUgAAAEwAAAAsBAMAAAA9TUNCAAAAMFBMVEX///92dnZERERmZmaYmJgi\n",
       "IiIQEBBUVFS6urrc3Nzu7u7MzMyqqqqIiIgyMjIAAAAO+LikAAAAAXRSTlMAQObYZgAAAAlwSFlz\n",
       "AAAOxAAADsQBlSsOGwAAAcRJREFUOMtjeP8fAf4y4ATn/28A01wzrud/w62M/X8AjMkSfwC3uvjv\n",
       "cCazAm5l+/87wNmW6JKccIL3/0+4KAu6sjsgguMCiNT/isUOZsEFQJJHAGiMAcMVkMiy/waYysS3\n",
       "gbyzDohZBRj4QFo4/v/BVJbTBJIygboFbI78twXoqjh+gakEKDcLRPD9f4CujBEcmDww8SfgCMj/\n",
       "iKaKpSwcZA8z0AdrQRaLo0QYAvCDw4APGKICbUCGH8T3/7PQlM0H62M9wMB9wA7IOAaNMPS0cR5M\n",
       "sjUwcDHkgmIKqjkATZkoTBkDD8jPbRDRaxPQlKkzQC1l4CsAhtZRSCj9Rg+QXDDJBPTI+gagd50g\n",
       "iQQ9nXH+gIReAVCOE+hdQ3C45aIbxvMBTHEDnczuAmREgIMHI+qZCyB0NNRwsA+V0FUd54O6whmq\n",
       "C5RwmaMQlkGooHVQPhMkBCaBCDdEaPhAKF9YYueCZA5N1NDgSUC3fi44G4DMmQ8PDS57A5wZCxEa\n",
       "c+oxEgoC8P17Bwah+f//f8WdTe2RypAvDEMZrCROmewAOK23gBhVXBd+EaOMc00AUZYyXSBK2frV\n",
       "RCk7x0yUsuU38csDAOmLgf46ryQ7AAAAAElFTkSuQmCC\n",
       "\" style=\"display:inline;vertical-align:middle;\" /></a>"
      ],
      "text/plain": [
       "Sum_{i} f(i)"
      ]
     },
     "metadata": {},
     "output_type": "display_data"
    }
   ],
   "source": [
    "# A summation with summation index i, a generic summand, and no index domain\n",
    "Sum(i, fi)"
   ]
  },
  {
   "cell_type": "code",
   "execution_count": 3,
   "metadata": {},
   "outputs": [
    {
     "data": {
      "text/html": [
       "<strong id=\"sum_01\">sum_01:</strong> <a class=\"ProveItLink\" href=\"../__pv_it/demonstrations/53c58d7baf764b00be78132e2db656ce42af5bda0/expr.ipynb\"><img src=\"data:image/png;base64,iVBORw0KGgoAAAANSUhEUgAAAFkAAAA9BAMAAAA0QNjQAAAAMFBMVEX///9mZmYyMjIiIiJERESY\n",
       "mJgQEBC6urrc3Nzu7u7MzMyqqqpUVFR2dnaIiIgAAAAElYxrAAAAAXRSTlMAQObYZgAAAAlwSFlz\n",
       "AAAOxAAADsQBlSsOGwAAAidJREFUSMftlr1LI0EUwN+uJptNoid+gJ1iZ6WwWChCLGysjIU2NlaC\n",
       "CEkaLSVgYSGci6Acp5z5DxLuDzjTaOvWgro2Iqggih/RO8fZt5vdGRmZydU+yOQx+2P2fe8AoNzc\n",
       "gLqknVRVnf5WMmvq9EYRntTpeCH5oE4bE1uvDbi5U3pWh5O2MahON2f1UgN2Tx/Dl/ynDJBI3qT0\n",
       "PvHzYq5d5x/ljUDCnMcyFSme+Ruq2piULpNsqHfjmhCDRW9pJVGxxnC9EtMruE7e87sphx7R9qGk\n",
       "h+ke2rBN+Eeb9NfkcFu77V6T92O5Er7Luhh9Kfhv9egpVM8ebZaeY/Q/LB1HTCe9rNm9n9E6Gm7m\n",
       "/zGARk3+1SWiW6pc9lG8E5xlER3z36qRhYhuqkCy0i6iU4FHmTd2boEJOU/rsKx5yxoN6eRtMAcH\n",
       "ORpSNdHZRnD2RZGzBPSqLbLEP9N4YSeRC7BXcERe+iVaZuvai1M5keXplucgtjTeOa6A6PvS07zd\n",
       "6cO7A2pjASPMV9WIIJcoq7iO89U5JaiqqNy04ahG0M2iuBsS6ORM9HQW3fikO/EUJnxBar+L6UvM\n",
       "Yxg+s6dN1vJR+NaPiPQDod/1oVh5Qu6l46SHmYMP8CW+/GiIPq0rJ41cl2KuMaZOx0sgv3as1O9f\n",
       "GzYsSqvKrUHnOJVs2YYhGZ3YqU8eSufkNxk3skR+udr7GVii5OVvrT6PXEN+4dy9DLNzbkvYd0Rt\n",
       "q9Z5arQXAAAAAElFTkSuQmCC\n",
       "\" style=\"display:inline;vertical-align:middle;\" /></a><br>"
      ],
      "text/plain": [
       "<IPython.core.display.HTML object>"
      ]
     },
     "metadata": {},
     "output_type": "display_data"
    }
   ],
   "source": [
    "# A simple summation representing the sum of the first\n",
    "# ten positive integers\n",
    "sum_01 = Sum(i, Add(i, one), domain=Interval(zero, nine))"
   ]
  },
  {
   "cell_type": "code",
   "execution_count": 4,
   "metadata": {},
   "outputs": [
    {
     "data": {
      "text/html": [
       "<strong id=\"sum_02\">sum_02:</strong> <a class=\"ProveItLink\" href=\"../__pv_it/demonstrations/07dbf0bd6bcb5fbbcde2aa213801fd9dbf726f100/expr.ipynb\"><img src=\"data:image/png;base64,iVBORw0KGgoAAAANSUhEUgAAADsAAAA2BAMAAACLlfxeAAAAMFBMVEX///92dnZERERmZmaYmJgi\n",
       "IiIQEBBUVFS6urrc3Nzu7u7MzMyqqqqIiIgyMjIAAAAO+LikAAAAAXRSTlMAQObYZgAAAAlwSFlz\n",
       "AAAOxAAADsQBlSsOGwAAAa5JREFUOMtjYMABuKMY8IDldr/wSTPwDnXp9/8R4C+m9Pn/G8A014zr\n",
       "+d8wpdn/B8BEWOIPYNod/x0uxKyAkGb8CaH3/3eAi1nCWexl/0ogpvz/CRdkweIF/a94fbjsvwE+\n",
       "aY7/f/Bql/+2AJ803/8H+KS58j/iNR0WsDgA8/8sVAFYHH2ABuxfvKbPD8ArfW0C3oD5jUVwoXgV\n",
       "lLX/ABZpAwZTqL9zMSUvM/xgmA/xLh+WKAlk8IJJK+FwkigkUBBZlQdLFnZD+MoHWXrSAjRf8STA\n",
       "IumyAwOnASdI33y4r7jsYW5k5EhgmLR78wJkX82ph0fcHuYHDPn//4N89e8dGIQCufA0uYDtApRl\n",
       "j5THviBSAN7kxfCcC2/y+sGIT5r7wxS8hpfA8x0X3qTAwAjxA2ewBINbAXYle4s0GI4zLmDG7h1m\n",
       "ayBx5IIBFudyXGdguAJinD4xF4v0Wv4FXOAy4zTjmkZM6VlHGTjAvjjNYHAJi8W6DCyPlJR0gNIL\n",
       "+bCE368N3AIQ3RxnMaV5HhgwaIEYHgwM17Horp3AMAmYDLjjJjCw44ggISUN7DIAK1CeIZm6R+YA\n",
       "AAAASUVORK5CYII=\n",
       "\" style=\"display:inline;vertical-align:middle;\" /></a><br>"
      ],
      "text/plain": [
       "<IPython.core.display.HTML object>"
      ]
     },
     "metadata": {},
     "output_type": "display_data"
    }
   ],
   "source": [
    "# An infinite geometric sum\n",
    "sum_02 = Sum(i, frac(one, Exp(i, two)), domain=Natural)"
   ]
  },
  {
   "cell_type": "code",
   "execution_count": 5,
   "metadata": {},
   "outputs": [
    {
     "data": {
      "text/html": [
       "<strong id=\"sum_03\">sum_03:</strong> <a class=\"ProveItLink\" href=\"../__pv_it/demonstrations/bb2e9d2288d59e0a058f297efe7d4a7399ecc2230/expr.ipynb\"><img src=\"data:image/png;base64,iVBORw0KGgoAAAANSUhEUgAAAEEAAAA5BAMAAACbqFvaAAAAMFBMVEX///8iIiJ2dnZmZmYQEBBE\n",
       "RETc3NwyMjKqqqpUVFTMzMzu7u66urqIiIiYmJgAAAB5VTh2AAAAAXRSTlMAQObYZgAAAAlwSFlz\n",
       "AAAOxAAADsQBlSsOGwAAAeJJREFUOMvdlD0sA2EYx/9y1Za7FptE4muyKeJjQReJj9AOLEh0MBCS\n",
       "moiJRMLoRiG4iEkiLmGQCJPFdvERqa80qJRIfESKCq/Gtb3re2/b3TO9T/K75/N/D/Bn9gtg7wzJ\n",
       "jZ+bGbXOC/7khA3ovAemkxN2wPIFbKckMpuAteSEVUJdfw/vSFHqdZXEl4zL+P82QTT7ZhKzRFLX\n",
       "N+xzvTGJLJIbn37RJBMp+ow/OTeT2CCaMGrY6iAh/ZZjdvNwKV51q+++F5buHjvQAp/qbBHG3s27\n",
       "IwijUnUE8sHqUcl2Ij/qlL8xpGGSbG7zszorWMiIkfBGotjd0fy86zWhyMuFlTIcwOIxL8rU5KNz\n",
       "g0+poCJypE3n3eFJXjJMXr9VCbWMsnIT3HYjcezRe0IIOxQghPWt9GY5UUyvV68La3jTKVBC4RPy\n",
       "8vXKVJAKYXGkE3NXOoAr0GpgE7daq0EmoGvV6mQS3nhnfCOzZK3VgeWEFWutvo/9WZ6LkBdmkkbd\n",
       "f/vznw5S6WEawK4I7tSESULI8FXDus8WiA3bK6OZJvb2/SbRJqK6K2L+DRmFNDF0ihyJiyk7Qhh/\n",
       "lUWsImNSy2I8Ja04gTc7moVVqfk5EiXAxY6eIogGCYoYxeB5fGJH9DX6BQR9nXclFaECAAAAAElF\n",
       "TkSuQmCC\n",
       "\" style=\"display:inline;vertical-align:middle;\" /></a><br>"
      ],
      "text/plain": [
       "<IPython.core.display.HTML object>"
      ]
     },
     "metadata": {},
     "output_type": "display_data"
    }
   ],
   "source": [
    "# A more explicitly-indexed version of an infinite sum\n",
    "sum_03 = Sum(m,Exp(x,m), domain=Interval(zero,infinity))"
   ]
  },
  {
   "cell_type": "code",
   "execution_count": 6,
   "metadata": {},
   "outputs": [
    {
     "data": {
      "text/html": [
       "<strong id=\"sum_04\">sum_04:</strong> <a class=\"ProveItLink\" href=\"../__pv_it/demonstrations/72f0c75b4018b45d15e15fd22281d68937491c650/expr.ipynb\"><img src=\"data:image/png;base64,iVBORw0KGgoAAAANSUhEUgAAAGMAAAAvBAMAAAAFj2mxAAAAMFBMVEX///92dnZERERmZmaYmJgi\n",
       "IiIQEBBUVFS6urrc3Nzu7u7MzMyqqqqIiIgyMjIAAAAO+LikAAAAAXRSTlMAQObYZgAAAAlwSFlz\n",
       "AAAOxAAADsQBlSsOGwAAAhZJREFUSMdjeP8fAf4yEAXO/98AprlmXM//RpwW9v8BMCZL/AHi9MR/\n",
       "hzOZFYjTsv+/A5xtiRCegF01WJj3/0+4AAucxYvDjb1gUv8rFqmDQHwZXZBbi4EX7KRl/w0wdHA9\n",
       "ABKB6KK8QNFXIAbH/z8YWpgR/mPgcECWcQaT8t8WoGthQ2LzXECRAavl+/8AXcs5nFr4wHZy5X9E\n",
       "12IIFL3sgKZl7XUgwViAkmgQ4AlQjiMBTYsBG9AQFoiLmP9noWmJYWDYw/wAVQvvBH5gZPFADYpH\n",
       "T8MZDAwL2EBKmUNDw1JDQ0Gu4WI4D/Q69weIivkBmFrAClC9bwoKcqgt1yZgOozhORe6FlDc8kBM\n",
       "5/iNHmK6QHf8YETTwvkDlAwhqX0/RhoUBzl6CpoWFpA3mAXA8ZKLkWC2AnEJerywgyxgbQBHKGay\n",
       "ZN2AJfbBQTgVzFTCTPssBhjJkv2APygITcARGYUwEM7SxMy9B0DByAn2vRsihH3grEWY+eEyyBdM\n",
       "E1BDGJYYQKZdwJ6Rb4JjHh7CXPYGRBUwiBCeU4+RoLEDvn/vwCA0////r8QVY/ZIZfIXhpEIuCDR\n",
       "v4EELYyQmI4ebF7huA720OUDxGtZyw/KOsw8D4jXMusoiFzFaECCy3SRinQio+UXOEb4JxCvheeB\n",
       "ARewcNpGSuTXTuDOYWC4TmJA84CrFJJAF193AolaHJgvLyBWLQDVGZ1uh1WEEwAAAABJRU5ErkJg\n",
       "gg==\n",
       "\" style=\"display:inline;vertical-align:middle;\" /></a><br>"
      ],
      "text/plain": [
       "<IPython.core.display.HTML object>"
      ]
     },
     "metadata": {},
     "output_type": "display_data"
    }
   ],
   "source": [
    "# A sum over multiple indices\n",
    "sum_04 = Sum((i,j), Add(i,j))"
   ]
  },
  {
   "cell_type": "code",
   "execution_count": 7,
   "metadata": {},
   "outputs": [
    {
     "name": "stdout",
     "output_type": "stream",
     "text": [
      "Exception: Sum class not yet implemented for multiple domains nor for multiple indices.\n"
     ]
    }
   ],
   "source": [
    "# Even though we can create a summation over multiple indices,\n",
    "# the Sum class is not yet implemented to handle such indices nor\n",
    "# the extension to multiple index domains:\n",
    "try:\n",
    "    sum_04 = Sum((i,j), Add(i,j), domains=[A, B])\n",
    "except Exception as e:\n",
    "    print(\"Exception: {}\".format(e))"
   ]
  },
  {
   "cell_type": "markdown",
   "metadata": {},
   "source": [
    "## Common Attributes of Sum expressions <a id='common_attributes'></a>"
   ]
  },
  {
   "cell_type": "markdown",
   "metadata": {},
   "source": [
    "Let's look at some simple examples of summations and their common attributes."
   ]
  },
  {
   "cell_type": "code",
   "execution_count": 8,
   "metadata": {},
   "outputs": [
    {
     "data": {
      "text/html": [
       "<a class=\"ProveItLink\" href=\"../__pv_it/demonstrations/53c58d7baf764b00be78132e2db656ce42af5bda0/expr.ipynb\"><img src=\"data:image/png;base64,iVBORw0KGgoAAAANSUhEUgAAAFkAAAA9BAMAAAA0QNjQAAAAMFBMVEX///9mZmYyMjIiIiJERESY\n",
       "mJgQEBC6urrc3Nzu7u7MzMyqqqpUVFR2dnaIiIgAAAAElYxrAAAAAXRSTlMAQObYZgAAAAlwSFlz\n",
       "AAAOxAAADsQBlSsOGwAAAidJREFUSMftlr1LI0EUwN+uJptNoid+gJ1iZ6WwWChCLGysjIU2NlaC\n",
       "CEkaLSVgYSGci6Acp5z5DxLuDzjTaOvWgro2Iqggih/RO8fZt5vdGRmZydU+yOQx+2P2fe8AoNzc\n",
       "gLqknVRVnf5WMmvq9EYRntTpeCH5oE4bE1uvDbi5U3pWh5O2MahON2f1UgN2Tx/Dl/ynDJBI3qT0\n",
       "PvHzYq5d5x/ljUDCnMcyFSme+Ruq2piULpNsqHfjmhCDRW9pJVGxxnC9EtMruE7e87sphx7R9qGk\n",
       "h+ke2rBN+Eeb9NfkcFu77V6T92O5Er7Luhh9Kfhv9egpVM8ebZaeY/Q/LB1HTCe9rNm9n9E6Gm7m\n",
       "/zGARk3+1SWiW6pc9lG8E5xlER3z36qRhYhuqkCy0i6iU4FHmTd2boEJOU/rsKx5yxoN6eRtMAcH\n",
       "ORpSNdHZRnD2RZGzBPSqLbLEP9N4YSeRC7BXcERe+iVaZuvai1M5keXplucgtjTeOa6A6PvS07zd\n",
       "6cO7A2pjASPMV9WIIJcoq7iO89U5JaiqqNy04ahG0M2iuBsS6ORM9HQW3fikO/EUJnxBar+L6UvM\n",
       "Yxg+s6dN1vJR+NaPiPQDod/1oVh5Qu6l46SHmYMP8CW+/GiIPq0rJ41cl2KuMaZOx0sgv3as1O9f\n",
       "GzYsSqvKrUHnOJVs2YYhGZ3YqU8eSufkNxk3skR+udr7GVii5OVvrT6PXEN+4dy9DLNzbkvYd0Rt\n",
       "q9Z5arQXAAAAAElFTkSuQmCC\n",
       "\" style=\"display:inline;vertical-align:middle;\" /></a>"
      ],
      "text/plain": [
       "Sum_{i = 0}^{9} (i + 1)"
      ]
     },
     "metadata": {},
     "output_type": "display_data"
    },
    {
     "data": {
      "text/html": [
       "<a class=\"ProveItLink\" href=\"../__pv_it/demonstrations/07dbf0bd6bcb5fbbcde2aa213801fd9dbf726f100/expr.ipynb\"><img src=\"data:image/png;base64,iVBORw0KGgoAAAANSUhEUgAAADsAAAA2BAMAAACLlfxeAAAAMFBMVEX///92dnZERERmZmaYmJgi\n",
       "IiIQEBBUVFS6urrc3Nzu7u7MzMyqqqqIiIgyMjIAAAAO+LikAAAAAXRSTlMAQObYZgAAAAlwSFlz\n",
       "AAAOxAAADsQBlSsOGwAAAa5JREFUOMtjYMABuKMY8IDldr/wSTPwDnXp9/8R4C+m9Pn/G8A014zr\n",
       "+d8wpdn/B8BEWOIPYNod/x0uxKyAkGb8CaH3/3eAi1nCWexl/0ogpvz/CRdkweIF/a94fbjsvwE+\n",
       "aY7/f/Bql/+2AJ803/8H+KS58j/iNR0WsDgA8/8sVAFYHH2ABuxfvKbPD8ArfW0C3oD5jUVwoXgV\n",
       "lLX/ABZpAwZTqL9zMSUvM/xgmA/xLh+WKAlk8IJJK+FwkigkUBBZlQdLFnZD+MoHWXrSAjRf8STA\n",
       "IumyAwOnASdI33y4r7jsYW5k5EhgmLR78wJkX82ph0fcHuYHDPn//4N89e8dGIQCufA0uYDtApRl\n",
       "j5THviBSAN7kxfCcC2/y+sGIT5r7wxS8hpfA8x0X3qTAwAjxA2ewBINbAXYle4s0GI4zLmDG7h1m\n",
       "ayBx5IIBFudyXGdguAJinD4xF4v0Wv4FXOAy4zTjmkZM6VlHGTjAvjjNYHAJi8W6DCyPlJR0gNIL\n",
       "+bCE368N3AIQ3RxnMaV5HhgwaIEYHgwM17Horp3AMAmYDLjjJjCw44ggISUN7DIAK1CeIZm6R+YA\n",
       "AAAASUVORK5CYII=\n",
       "\" style=\"display:inline;vertical-align:middle;\" /></a>"
      ],
      "text/plain": [
       "Sum_{i in Natural} (1 / i^{2})"
      ]
     },
     "metadata": {},
     "output_type": "display_data"
    },
    {
     "data": {
      "text/html": [
       "<a class=\"ProveItLink\" href=\"../__pv_it/demonstrations/bb2e9d2288d59e0a058f297efe7d4a7399ecc2230/expr.ipynb\"><img src=\"data:image/png;base64,iVBORw0KGgoAAAANSUhEUgAAAEEAAAA5BAMAAACbqFvaAAAAMFBMVEX///8iIiJ2dnZmZmYQEBBE\n",
       "RETc3NwyMjKqqqpUVFTMzMzu7u66urqIiIiYmJgAAAB5VTh2AAAAAXRSTlMAQObYZgAAAAlwSFlz\n",
       "AAAOxAAADsQBlSsOGwAAAeJJREFUOMvdlD0sA2EYx/9y1Za7FptE4muyKeJjQReJj9AOLEh0MBCS\n",
       "moiJRMLoRiG4iEkiLmGQCJPFdvERqa80qJRIfESKCq/Gtb3re2/b3TO9T/K75/N/D/Bn9gtg7wzJ\n",
       "jZ+bGbXOC/7khA3ovAemkxN2wPIFbKckMpuAteSEVUJdfw/vSFHqdZXEl4zL+P82QTT7ZhKzRFLX\n",
       "N+xzvTGJLJIbn37RJBMp+ow/OTeT2CCaMGrY6iAh/ZZjdvNwKV51q+++F5buHjvQAp/qbBHG3s27\n",
       "IwijUnUE8sHqUcl2Ij/qlL8xpGGSbG7zszorWMiIkfBGotjd0fy86zWhyMuFlTIcwOIxL8rU5KNz\n",
       "g0+poCJypE3n3eFJXjJMXr9VCbWMsnIT3HYjcezRe0IIOxQghPWt9GY5UUyvV68La3jTKVBC4RPy\n",
       "8vXKVJAKYXGkE3NXOoAr0GpgE7daq0EmoGvV6mQS3nhnfCOzZK3VgeWEFWutvo/9WZ6LkBdmkkbd\n",
       "f/vznw5S6WEawK4I7tSESULI8FXDus8WiA3bK6OZJvb2/SbRJqK6K2L+DRmFNDF0ihyJiyk7Qhh/\n",
       "lUWsImNSy2I8Ja04gTc7moVVqfk5EiXAxY6eIogGCYoYxeB5fGJH9DX6BQR9nXclFaECAAAAAElF\n",
       "TkSuQmCC\n",
       "\" style=\"display:inline;vertical-align:middle;\" /></a>"
      ],
      "text/plain": [
       "Sum_{m = 0}^{infinity} x^{m}"
      ]
     },
     "metadata": {},
     "output_type": "display_data"
    },
    {
     "data": {
      "text/html": [
       "<a class=\"ProveItLink\" href=\"../__pv_it/demonstrations/72f0c75b4018b45d15e15fd22281d68937491c650/expr.ipynb\"><img src=\"data:image/png;base64,iVBORw0KGgoAAAANSUhEUgAAAGMAAAAvBAMAAAAFj2mxAAAAMFBMVEX///92dnZERERmZmaYmJgi\n",
       "IiIQEBBUVFS6urrc3Nzu7u7MzMyqqqqIiIgyMjIAAAAO+LikAAAAAXRSTlMAQObYZgAAAAlwSFlz\n",
       "AAAOxAAADsQBlSsOGwAAAhZJREFUSMdjeP8fAf4yEAXO/98AprlmXM//RpwW9v8BMCZL/AHi9MR/\n",
       "hzOZFYjTsv+/A5xtiRCegF01WJj3/0+4AAucxYvDjb1gUv8rFqmDQHwZXZBbi4EX7KRl/w0wdHA9\n",
       "ABKB6KK8QNFXIAbH/z8YWpgR/mPgcECWcQaT8t8WoGthQ2LzXECRAavl+/8AXcs5nFr4wHZy5X9E\n",
       "12IIFL3sgKZl7XUgwViAkmgQ4AlQjiMBTYsBG9AQFoiLmP9noWmJYWDYw/wAVQvvBH5gZPFADYpH\n",
       "T8MZDAwL2EBKmUNDw1JDQ0Gu4WI4D/Q69weIivkBmFrAClC9bwoKcqgt1yZgOozhORe6FlDc8kBM\n",
       "5/iNHmK6QHf8YETTwvkDlAwhqX0/RhoUBzl6CpoWFpA3mAXA8ZKLkWC2AnEJerywgyxgbQBHKGay\n",
       "ZN2AJfbBQTgVzFTCTPssBhjJkv2APygITcARGYUwEM7SxMy9B0DByAn2vRsihH3grEWY+eEyyBdM\n",
       "E1BDGJYYQKZdwJ6Rb4JjHh7CXPYGRBUwiBCeU4+RoLEDvn/vwCA0////r8QVY/ZIZfIXhpEIuCDR\n",
       "v4EELYyQmI4ebF7huA720OUDxGtZyw/KOsw8D4jXMusoiFzFaECCy3SRinQio+UXOEb4JxCvheeB\n",
       "ARewcNpGSuTXTuDOYWC4TmJA84CrFJJAF193AolaHJgvLyBWLQDVGZ1uh1WEEwAAAABJRU5ErkJg\n",
       "gg==\n",
       "\" style=\"display:inline;vertical-align:middle;\" /></a>"
      ],
      "text/plain": [
       "Sum_{i, j} (i + j)"
      ]
     },
     "metadata": {},
     "output_type": "display_data"
    }
   ],
   "source": [
    "# Recall some enumerated sets defined earlier:\n",
    "display(sum_01)\n",
    "display(sum_02)\n",
    "display(sum_03)\n",
    "display(sum_04)"
   ]
  },
  {
   "cell_type": "markdown",
   "metadata": {},
   "source": [
    "We can look at the construction of such expressions by calling <font style=\"font-family:courier\">expr_info()</font> to see the table version of the expression's underlying directed acyclic graph (DAG) representation:"
   ]
  },
  {
   "cell_type": "code",
   "execution_count": 9,
   "metadata": {},
   "outputs": [
    {
     "data": {
      "text/html": [
       "<table><tr><th>&nbsp;</th><th>core type</th><th>sub-expressions</th><th>expression</th></tr>\n",
       "<tr><td>0</td><td>Operation</td><td>operator:&nbsp;1<br>operand:&nbsp;3<br></td><td><a class=\"ProveItLink\" href=\"../__pv_it/demonstrations/53c58d7baf764b00be78132e2db656ce42af5bda0/expr.ipynb\"><img src=\"data:image/png;base64,iVBORw0KGgoAAAANSUhEUgAAAFkAAAA9BAMAAAA0QNjQAAAAMFBMVEX///9mZmYyMjIiIiJERESY\n",
       "mJgQEBC6urrc3Nzu7u7MzMyqqqpUVFR2dnaIiIgAAAAElYxrAAAAAXRSTlMAQObYZgAAAAlwSFlz\n",
       "AAAOxAAADsQBlSsOGwAAAidJREFUSMftlr1LI0EUwN+uJptNoid+gJ1iZ6WwWChCLGysjIU2NlaC\n",
       "CEkaLSVgYSGci6Acp5z5DxLuDzjTaOvWgro2Iqggih/RO8fZt5vdGRmZydU+yOQx+2P2fe8AoNzc\n",
       "gLqknVRVnf5WMmvq9EYRntTpeCH5oE4bE1uvDbi5U3pWh5O2MahON2f1UgN2Tx/Dl/ynDJBI3qT0\n",
       "PvHzYq5d5x/ljUDCnMcyFSme+Ruq2piULpNsqHfjmhCDRW9pJVGxxnC9EtMruE7e87sphx7R9qGk\n",
       "h+ke2rBN+Eeb9NfkcFu77V6T92O5Er7Luhh9Kfhv9egpVM8ebZaeY/Q/LB1HTCe9rNm9n9E6Gm7m\n",
       "/zGARk3+1SWiW6pc9lG8E5xlER3z36qRhYhuqkCy0i6iU4FHmTd2boEJOU/rsKx5yxoN6eRtMAcH\n",
       "ORpSNdHZRnD2RZGzBPSqLbLEP9N4YSeRC7BXcERe+iVaZuvai1M5keXplucgtjTeOa6A6PvS07zd\n",
       "6cO7A2pjASPMV9WIIJcoq7iO89U5JaiqqNy04ahG0M2iuBsS6ORM9HQW3fikO/EUJnxBar+L6UvM\n",
       "Yxg+s6dN1vJR+NaPiPQDod/1oVh5Qu6l46SHmYMP8CW+/GiIPq0rJ41cl2KuMaZOx0sgv3as1O9f\n",
       "GzYsSqvKrUHnOJVs2YYhGZ3YqU8eSufkNxk3skR+udr7GVii5OVvrT6PXEN+4dy9DLNzbkvYd0Rt\n",
       "q9Z5arQXAAAAAElFTkSuQmCC\n",
       "\" style=\"display:inline;vertical-align:middle;\" /></a></td></tr>\n",
       "<tr><td>1</td><td>Literal</td><td></td><td><a class=\"ProveItLink\" href=\"../__pv_it/common/14fe61cccc388f91dfd83d3ca31cf27448cc070a0/expr.ipynb\"><img src=\"data:image/png;base64,iVBORw0KGgoAAAANSUhEUgAAABwAAAAdBAMAAABLfxECAAAAMFBMVEX///92dnZERERmZmaYmJgi\n",
       "IiIQEBBUVFS6urrc3Nzu7u7MzMyqqqqIiIgyMjIAAAAO+LikAAAAAXRSTlMAQObYZgAAAAlwSFlz\n",
       "AAAOxAAADsQBlSsOGwAAALNJREFUGNNjeP8fAf4yMJz/v4EBBLhmXM//xsDA/j+AAQpY4g8wMMR/\n",
       "h3EZmBUYGPb/d4DzLRkYeP//hHNZgFj/KwMyWPbfAJnL8f8PirT8twXIXL7/D5C5XPkfUVTDHApz\n",
       "zf8sFOn4vyjc+QEo3GsTUBzyG0Vy/wEUe3NRJPlQvMCghMJjjoIzeYDYDWGLD4otPAlAF8Ft4bI3\n",
       "QLJlTj3QY3z/3oFBaP7//8AwtEeKoy8MAN4vTf7DxyIRAAAAAElFTkSuQmCC\n",
       "\" style=\"display:inline;vertical-align:middle;\" /></a></td></tr>\n",
       "<tr><td>2</td><td>ExprTuple</td><td>3</td><td><a class=\"ProveItLink\" href=\"../__pv_it/demonstrations/687c7925f9a500e66cd840c00a4b59ce479f1aaa0/expr.ipynb\"><img src=\"data:image/png;base64,iVBORw0KGgoAAAANSUhEUgAAAPkAAAAVCAMAAACzF7hbAAAANlBMVEX///8WFhYNDQ3MzMxUVFRE\n",
       "RES6uroiIiIQEBCYmJhmZmYyMjLu7u52dnaqqqqIiIjc3NwAAACzeusSAAAAAXRSTlMAQObYZgAA\n",
       "AAlwSFlzAAAOxAAADsQBlSsOGwAAAslJREFUWMO9WNmCqyAM5V52wvr/PzvKoqKxop2Rh2pbkpNj\n",
       "ViRkWpHcW1YI8uZ6jhc9xm35Lfh76gII+xUTHcRbeJTxo6wI5epdBTBjynxqui4lqNzCRqXzFTxN\n",
       "K/VLJQuec8EMhqcxhlUpzpBnmQ2xUL9KN6bVSTIkYZmBtGUuUiapJYls/f0StuHBFJpWjlC3cnIq\n",
       "VXFn7mbBjG/0zQBCVWVmB02hY07KF8Ye4el8cXxAgqnsbH5urp59oK6yLI4y9+GCebXrU3gHLqcF\n",
       "CF6JWp8GUj5leVe24uYqSzwg0dLxMe8xFxDsmc9LqtB0XY5t4gVcnJsLmpiSZjZsor7fK3FLOokR\n",
       "5hEUm4utUmu890oi2NNot425Hve5Pmfu2Ew+3xGhTrj6XWoZOEqM+RzYPs97JYCWr4IXkyvMw3Ce\n",
       "l60BTWcNROboob4RQrwcONKbeokx5nzPfKcE0GGk4C3MBzqQVWIOrpIYEc0Pr4gSNbPVavf/f7Jb\n",
       "aW2/kYEgBwmTtymVL2yceQ9LVQNco2zFK5TFiM+JNcH5kGjtrnDkTlNl3hdNua87m5GLmhYBhzJ7\n",
       "3+e9Eot1rAWv5LlPwwNnre3EATIxTkkm/ZKDFmdOd3WnDUVbicfMOyV406h4pT3rNDzI1n6O90Ev\n",
       "CQ81mARxuAX7utNq+1biKfNeSQifJhm1Ka8X8+7UrSfVJdgdXuH4XN5r3MelX4iRft5JnDB3KR69\n",
       "wHmXblsl4D/MjHN0WkU3Tw12N8sTnI8LXCPjx7J1aua0/sH0SaN09MSSg8SeOWMqAdPrsWnq5Hb6\n",
       "TGzd2CuxjB+PZQ3PGhfY1hhp9jeLiDNGoINX2yqnvyX9rbndB/L1Eo6fTK9PFyoeZRve/+jE8ivr\n",
       "L5iXyZHffCUTFHl1fYmH1cTIz9vopzc8yb/K/Ds8q5BIbM6ON/MzGvYq9y/wosNE88H7B144HsIJ\n",
       "/CSfAAAAAElFTkSuQmCC\n",
       "\" style=\"display:inline;vertical-align:middle;\" /></a></td></tr>\n",
       "<tr><td>3</td><td>Lambda</td><td>parameter:&nbsp;13<br>body:&nbsp;5<br></td><td><a class=\"ProveItLink\" href=\"../__pv_it/demonstrations/a8af1bd6d80ea69886c5d9231607a878bb7491ca0/expr.ipynb\"><img src=\"data:image/png;base64,iVBORw0KGgoAAAANSUhEUgAAAOsAAAAVCAMAAACQTOmOAAAANlBMVEX///8WFhYNDQ1ERETc3NxU\n",
       "VFQyMjKqqqrMzMwQEBC6urqYmJju7u52dnYiIiJmZmaIiIgAAACOnmjQAAAAAXRSTlMAQObYZgAA\n",
       "AAlwSFlzAAAOxAAADsQBlSsOGwAAAmNJREFUWMPFWOm6ozAIdSYhK9ne/2WvNW7ZblE7HX5U+zVw\n",
       "coTAsdN0ydCY6Zt2H49L/gw6CoOPAthovoWngPV8Y6C5y4RUD+XPQFzb5SqkSoYOu+M5FwMxTSEE\n",
       "WL0YdH73jhbHeZoHQhDpzNWkhZb1Ewekw254Qs4xPYUs+jg/Z82r7d6wobOxTakUXKf8BeAWnl0u\n",
       "jhE8QC8JZZe5Rk7lKuMbrutOfivayPxsooOXa1EmwtFNi7/LS99wLcLJ8D2uRkQc5TUfAJXk+xJO\n",
       "LIOb/nYxhqMCy199H7vwoHDlQsOrMWp9VHEZhAsc1jBuXC09r7bP1U1GD9jJ6ogE0XrQ8iqgPq9l\n",
       "ENFtPBmPJ5e5RvJ5zUujroeD3Ch0MhlZZ3KUHjSurOZaBRFdOZDxdq6EaYHavAoolzuvq37ekj52\n",
       "+vePLywd45CDMK1HWJZpvVyAzrWEVXoDPCrpwMskDSWvE4boZExqnX1CjhRCk1cjTjJHhS3LTUu8\n",
       "ntcyCPbmyY6Xz6sk9KbtfKyhnahV2nyWsM9VVR1jEyJnj9tciyD9Br/i5XFpE1kurvO1nVI4l6nr\n",
       "Y9YdY+vDZ4+7XMsgMf6mJfSpMb5RlRpfoXMJO92USpr43s0NZb4WHgOuLvH2STM2gM0ycKjT/Esj\n",
       "anV6TqK62Z/ZS4Yz25EDeSnYweByaoDdeNRcAXQSYI9Xjnmy4vyZ4FhYBkFg7SvNhofBRThvxof6\n",
       "ZndxIZiu9PFhumIXdNN1M44NNOLH5fuHtf9H7H9ybYTIP7aHeKRuNvxfgz7iPmLP8FA/qjYe4Kts\n",
       "H+Bx17j+AH87HQsI6XjyAAAAAElFTkSuQmCC\n",
       "\" style=\"display:inline;vertical-align:middle;\" /></a></td></tr>\n",
       "<tr><td>4</td><td>ExprTuple</td><td>13</td><td><a class=\"ProveItLink\" href=\"../../../__pv_it/common/3b7d7ace2ced0a8261ea4d18d03aaf49e434d69d0/expr.ipynb\"><img src=\"data:image/png;base64,iVBORw0KGgoAAAANSUhEUgAAABMAAAAVBAMAAABWJ8jiAAAAMFBMVEX////MzMxUVFRERES6uroi\n",
       "IiIQEBCYmJhmZmYyMjLu7u52dnaqqqqIiIjc3NwAAACW8nlqAAAAAXRSTlMAQObYZgAAAAlwSFlz\n",
       "AAAOxAAADsQBlSsOGwAAAK1JREFUCNctjyEOwkAQRR+BltLSBoND4LC9AIQLkOBBVHCASiQOgWkw\n",
       "JKhNuADhBFiCoLKKYAgWwQH423aT+Xni7Z8M8II6wqvNmY27piBMwc+ECziCl1K+NbgV4RpuNXZS\n",
       "dtILScGQg7KVQDtjCQNPLd2EFRg3h8bXIg8DkiSw9yXMGavhF+hbzMVqH20905cwUq8zxelV295y\n",
       "NhVuNZOSolhxKrFpL4pyi0/4A8ouIFUMFBTJAAAAAElFTkSuQmCC\n",
       "\" style=\"display:inline;vertical-align:middle;\" /></a></td></tr>\n",
       "<tr><td>5</td><td>Conditional</td><td>value:&nbsp;6<br>condition:&nbsp;7<br></td><td><a class=\"ProveItLink\" href=\"../__pv_it/demonstrations/98d52e4800bb21d458f3b2c07ed605b2b764620f0/expr.ipynb\"><img src=\"data:image/png;base64,iVBORw0KGgoAAAANSUhEUgAAAMMAAAAVBAMAAAAJNkerAAAAMFBMVEX///9ERETMzMxUVFSYmJgQ\n",
       "EBDc3NxmZmYiIiJ2dnaqqqoyMjKIiIi6urru7u4AAAB85a56AAAAAXRSTlMAQObYZgAAAAlwSFlz\n",
       "AAAOxAAADsQBlSsOGwAAAjhJREFUSMdjYGDgu8tAFsCrj20ZMu/0PfxGsZzFLo5fn7Icgs31D0jw\n",
       "FKCp0HgAplIdGBh26V8AMY+jqQDrm3k8AdN09nI7ICmMEOBsABIcE1DDwHw/xIr7BQwsDclgdiea\n",
       "QSB93Av42jADsIdBFWjxDDQrYOAKjHEeYgUfAwOzAfaQAOnzYGCYiCHBHMDAKIDbijVoVoB0oIbh\n",
       "wY6ODXB9wMBY/wDdCv4NDJz/KLDi9jlkfd8ZGPQXoFvxXoCB5y+GFW9KsFvBttWAyTQYFFJ8xx3A\n",
       "AvuQ9fGBrHDA5osvKFawA/094SoOX3AbQOOCkzcAzE9A1sf2E2jFAWxx8YeB4ShCBJgumRZU47CC\n",
       "EWaFFjs4BrhR9IGtmICRomIZlH8xMOTDQzB5LyjdxICYFR0doR0dzViteMAKdq1qBxAIwPUBrbiP\n",
       "4QuG5yfXfAJKWsPsYCp8AM1GeH0BTTkP4eaA9QHjYv0CbAkaaB7nXjgXaAowyB8QsmIzH4jkYEDR\n",
       "J8jA4P8AixWgfIGUmkEp6v2FCQSs4PvLCaJ4DqDoc2VgqMYwnyuO4b0CA8NU1ESrz+aAZsX8BJhz\n",
       "GMFBz/QhBSywC0UfxwK+ILADfsMIkDP6GEQY4In2/QaIUmYXtLgwjt8MshSYKR6Zfga73ATiiMey\n",
       "D5Cs4Ks8rADmtMMJUNlYfgFhBUcBrtyNE9yUQCpA8AGCxSBhQIIVPAHkVXqE9CGlA7Zf5FlBQB9f\n",
       "CBIn3Yo8O/DqY5sMz5IAIdmu5iUOIVoAAAAASUVORK5CYII=\n",
       "\" style=\"display:inline;vertical-align:middle;\" /></a></td></tr>\n",
       "<tr><td>6</td><td>Operation</td><td>operator:&nbsp;8<br>operands:&nbsp;9<br></td><td><a class=\"ProveItLink\" href=\"../__pv_it/demonstrations/a2e143af123f66da09e0988b76b1d4e48661786c0/expr.ipynb\"><img src=\"data:image/png;base64,iVBORw0KGgoAAAANSUhEUgAAACoAAAAQBAMAAACSDPCjAAAALVBMVEX////c3NxUVFQyMjKqqqrM\n",
       "zMwQEBC6urqYmJju7u52dnYiIiJmZmaIiIgAAABgwC6IAAAAAXRSTlMAQObYZgAAAAlwSFlzAAAO\n",
       "xAAADsQBlSsOGwAAAGlJREFUGNNjYGC4w4AKWHeCyF2ogpMOv0TisTdAGbzIoiwXCIpy3mnAIsrF\n",
       "noBFNITHAIvoBDYQj2f37m3Zu3crwG3zm4DNDUac2NzwnAuLKOsDCTRRrodAQgPNvUxqjzWw+A0F\n",
       "wEMHCADB3yY04zKPZwAAAABJRU5ErkJggg==\n",
       "\" style=\"display:inline;vertical-align:middle;\" /></a></td></tr>\n",
       "<tr><td>7</td><td>Operation</td><td>operator:&nbsp;10<br>operands:&nbsp;11<br></td><td><a class=\"ProveItLink\" href=\"../__pv_it/demonstrations/62585c1d9f095361c761f5ff3feacd8df91cf1000/expr.ipynb\"><img src=\"data:image/png;base64,iVBORw0KGgoAAAANSUhEUgAAAGgAAAAVBAMAAABYjraNAAAAMFBMVEX///9ERETc3NxUVFQyMjKq\n",
       "qqrMzMwQEBC6urqYmJju7u52dnYiIiJmZmaIiIgAAACrFvqoAAAAAXRSTlMAQObYZgAAAAlwSFlz\n",
       "AAAOxAAADsQBlSsOGwAAAYNJREFUOMtjYMAEKxoYcANVBazCfB4L8GhiMwTLvkUTjgeKcu+7hEXD\n",
       "3ctAKUYDEPM0mtQeIHZlWIPpjDUP2IqA5h3A5gCgJs4DDNwCGBLmDAyCqJr4ZM4cgWsCOoH1F4am\n",
       "LwwM+xcga+LwW4BkE/8FBrav6Hq4PjIwvG8Aa+J6OwEkorIA2XnrgZp+YrVpAlgTN0cBSMAJIXeF\n",
       "gUF/AwPbP2x+kn/AwAdUn8rrABJwgEsxVUI0/cbQtLyBzT6AgQno7gXsD0BRVnPmzJmDYD0mwPSw\n",
       "fgMDB6ZNXPe2vk9gYFjsColLBi5EAOdKgQOC9Su26ACGHsMWoKnOXCAeUuALA4NcgIHzFzZNwHgC\n",
       "xQXXD24Q7x1q5BYw8Dpg6AhfwPUNGHLAgGD7oAkSYAlASUZHGZYngL0BDGaG9VD9bxYwToCmCEtw\n",
       "PHEZdiFrWrvPDMI5C8Q8FyBs7r03GFCTEcdGpGSED+BMsKRreo5fE5YQAgL9ALyalk/AJsp0GZ8u\n",
       "bVMGBgAKtWiWRQ+qCAAAAABJRU5ErkJggg==\n",
       "\" style=\"display:inline;vertical-align:middle;\" /></a></td></tr>\n",
       "<tr><td>8</td><td>Literal</td><td></td><td><a class=\"ProveItLink\" href=\"../../addition/__pv_it/common/4b7effaab3619a1c2c38fe2dee8601df8ec714590/expr.ipynb\"><img src=\"data:image/png;base64,iVBORw0KGgoAAAANSUhEUgAAAA4AAAAOBAMAAADtZjDiAAAAHlBMVEX///9UVFQQEBAiIiJmZmaI\n",
       "iIiqqqqYmJi6uroAAAAAFVhYAAAAAXRSTlMAQObYZgAAAAlwSFlzAAAOxAAADsQBlSsOGwAAAB9J\n",
       "REFUCNdjYGBgaGeAgFRiaGdjYyVjY0Oi1SPRIHsAgDEGyG9xCpgAAAAASUVORK5CYII=\n",
       "\" style=\"display:inline;vertical-align:middle;\" /></a></td></tr>\n",
       "<tr><td>9</td><td>ExprTuple</td><td>13, 12</td><td><a class=\"ProveItLink\" href=\"../__pv_it/demonstrations/c89850952f9608f21aa2408d82ba7769fea41e400/expr.ipynb\"><img src=\"data:image/png;base64,iVBORw0KGgoAAAANSUhEUgAAACcAAAAVBAMAAAA3P+qgAAAAMFBMVEX////MzMxUVFRERES6uroi\n",
       "IiIQEBCYmJhmZmYyMjLu7u52dnaqqqqIiIjc3NwAAACW8nlqAAAAAXRSTlMAQObYZgAAAAlwSFlz\n",
       "AAAOxAAADsQBlSsOGwAAAOJJREFUGNNjYGB4wIACwFzeA6iCviDiNBDfgAowRgEVFTAwcE0AcqIh\n",
       "Yos6fwHJWQwMHAVIWnlBghUMDGwM6IJsCxhOYghyFjB0A429UYAsyK3AMB1IsiQgC7JPYIhhYJDh\n",
       "mIAsyJPAkMLAsIDtArIg4weQIMP5BciCQMOA2hkmcaFoD2CwBdr+hZuBC8kiA4ZNIEOeM6wH28X9\n",
       "D0hwbGAQBVLqBQyswKBgYFL7qc7AwOrAwCoAMe4U3FtPgSY0QJgb4ILtQGwHZnHBnMrAZwAkFkPs\n",
       "hStkBsUH3wXU6LjHwAAAmJ8zdaX6pWoAAAAASUVORK5CYII=\n",
       "\" style=\"display:inline;vertical-align:middle;\" /></a></td></tr>\n",
       "<tr><td>10</td><td>Literal</td><td></td><td><a class=\"ProveItLink\" href=\"../../../logic/sets/membership/__pv_it/common/477487d8796864d23d5810f83761435f25167f690/expr.ipynb\"><img src=\"data:image/png;base64,iVBORw0KGgoAAAANSUhEUgAAAAwAAAAMBAMAAACkW0HUAAAAKlBMVEX///92dnZUVFSqqqoQEBDM\n",
       "zMzc3Nzu7u66uroyMjIiIiJERESIiIgAAACm0meuAAAAAXRSTlMAQObYZgAAAAlwSFlzAAAOxAAA\n",
       "DsQBlSsOGwAAADxJREFUCNdjYGA4vWrVBAaGzuMMQMA2HUQycCZAKDDJELIKCDYwVEN4XBCK5wCE\n",
       "ngyhinYUgOnGXasmAABvGQ6ucz2C1gAAAABJRU5ErkJggg==\n",
       "\" style=\"display:inline;vertical-align:middle;\" /></a></td></tr>\n",
       "<tr><td>11</td><td>ExprTuple</td><td>13, 14</td><td><a class=\"ProveItLink\" href=\"../__pv_it/demonstrations/68f55002f9664eadd3a77ad1d13b3c8a2d7988960/expr.ipynb\"><img src=\"data:image/png;base64,iVBORw0KGgoAAAANSUhEUgAAAGUAAAAVBAMAAACtcD09AAAAMFBMVEX////MzMxUVFRERES6uroi\n",
       "IiIQEBCYmJhmZmYyMjLu7u52dnaqqqqIiIjc3NwAAACW8nlqAAAAAXRSTlMAQObYZgAAAAlwSFlz\n",
       "AAAOxAAADsQBlSsOGwAAAcVJREFUOMuNk88rBGEYx7/T2h9mZsdelIMDKVLKxk1h/gG1R+GwB+Wm\n",
       "OTpqU0i0SSntYcJubrspRZE9KRzshfZkXeRALVGyKM/7Yy07Y/LU+87b93k+74/neQbADWq2beJv\n",
       "e2CRPDqcr6nhNduDUTrIO8JW5zSKUr0gUTtacYlfSJDL10bbWoCaJGVcevZopJC+cSDpgjJN28Vo\n",
       "uQGErB8uYoIxaFEH0wn0S2YGCOA3Q+frFQfzBhzbggnYOK1jmmahfNQj6jNQMgXTaGGJlKJVY7LE\n",
       "vLqeYwlGa8M6zQ1x6VoEyjkon27vGS4gzOKCSUwAraGk8BhTgnl3MBlT6c3DYJfW45gE7EBBIN3U\n",
       "BdkcGpznqMuHpQiwmaLKPjKGl5JZywDPgf7h1gWUNxzQpvQQuhtWVan3Ua6jCFbcGKoPL4IewyAd\n",
       "/KJB/a5pHNXn/bATW32iZPEcRLHLbniHbLLaOxPIRPgTKL9SBi5tnyX7IJRDM326LPjHqszOUbuI\n",
       "G6XhnxVrbX8OkvGb8EeEelZlPIwzt3Q9uVPuv8w8jSFRAF6iK2+GJcdgTb8l/lA+l/OeTIby4GM/\n",
       "l1GoiUbCC7rvoeka+AIO8HOMXVvElQAAAABJRU5ErkJggg==\n",
       "\" style=\"display:inline;vertical-align:middle;\" /></a></td></tr>\n",
       "<tr><td>12</td><td>Literal</td><td></td><td><a class=\"ProveItLink\" href=\"../../numerals/__pv_it/common/682157d4892d216d9e5626ed533aff9b56b9506e0/expr.ipynb\"><img src=\"data:image/png;base64,iVBORw0KGgoAAAANSUhEUgAAAAgAAAAOBAMAAADgeEClAAAAJ1BMVEX///+YmJgQEBDc3Nx2dnaI\n",
       "iIgyMjJmZmZUVFTu7u4iIiLMzMwAAADHsjQhAAAAAXRSTlMAQObYZgAAAAlwSFlzAAAOxAAADsQB\n",
       "lSsOGwAAAB9JREFUCNdjYOBeycAwo+wkAwMDK8kEy2EGBo6mY40AwiwNMNzp/EYAAAAASUVORK5C\n",
       "YII=\n",
       "\" style=\"display:inline;vertical-align:middle;\" /></a></td></tr>\n",
       "<tr><td>13</td><td>Variable</td><td></td><td><a class=\"ProveItLink\" href=\"../../../__pv_it/common/ae955345c83abf786c3aff8681cd5465beae262d0/expr.ipynb\"><img src=\"data:image/png;base64,iVBORw0KGgoAAAANSUhEUgAAAAcAAAAOBAMAAAARcxsoAAAALVBMVEX////c3NxUVFQyMjKqqqrM\n",
       "zMwQEBC6urqYmJju7u52dnYiIiJmZmaIiIgAAABgwC6IAAAAAXRSTlMAQObYZgAAAAlwSFlzAAAO\n",
       "xAAADsQBlSsOGwAAADpJREFUCNdjYGC4wwAEuxjQAeedBgYGLvYEBoYQHgMGhglsF4CCfhOAhBEn\n",
       "UPY5FwMD6wMJIFejgQEAGf4JG7xeJHMAAAAASUVORK5CYII=\n",
       "\" style=\"display:inline;vertical-align:middle;\" /></a></td></tr>\n",
       "<tr><td>14</td><td>Operation</td><td>operator:&nbsp;15<br>operands:&nbsp;16<br></td><td><a class=\"ProveItLink\" href=\"../__pv_it/demonstrations/3eccb18766da2c32030257a7f1eb332236ae0a560/expr.ipynb\"><img src=\"data:image/png;base64,iVBORw0KGgoAAAANSUhEUgAAAEcAAAAVBAMAAADm2O7QAAAAMFBMVEX///9ERETMzMxUVFSYmJgQ\n",
       "EBDc3NxmZmYiIiJ2dnaqqqoyMjKIiIi6urru7u4AAAB85a56AAAAAXRSTlMAQObYZgAAAAlwSFlz\n",
       "AAAOxAAADsQBlSsOGwAAARlJREFUKM9jYGDgu8uAG7Atg9Cn7+FRxKAsByK5/gGJmccTMOXZy+2A\n",
       "pDCIydnAwMC9gK8NQw1fD4MqUOsMmCIPBoaJGIqYAxgYBZAUAY1c/wBdEf8GBs5/SIq+MzDoL0BX\n",
       "9F6AgecvQhEfSJEDNpO+QBWxb2Bg+wlUdACbm/4wMBwFsVMdIIomYPgulkH5FwNDPtAdyXuBXKCi\n",
       "+xgmMTw/ueYTUNJ6AQNT4QOww9cvwBLcIN9xAk1hYDRgYBBkYPB/gEURKJzAYQMKAlcGhmoMFVxx\n",
       "DO8VGBimwsKJYwFfENitv2EEEPD0MYgwIAUmX+VhBbBEO5wAxXr5BWRF+ADxingC8CsC+4jtF141\n",
       "fCFgKt0KXxqfDAxkAAMZSPM/3ow0AAAAAElFTkSuQmCC\n",
       "\" style=\"display:inline;vertical-align:middle;\" /></a></td></tr>\n",
       "<tr><td>15</td><td>Literal</td><td></td><td><a class=\"ProveItLink\" href=\"../../number_sets/integers/__pv_it/common/92f3a0a77e3c3ea8e4a5c8674edadc54e4f57d550/expr.ipynb\"><img src=\"data:image/png;base64,iVBORw0KGgoAAAANSUhEUgAAAE4AAAAOBAMAAABz3DdCAAAAMFBMVEX///9mZmYQEBCYmJiqqqrc\n",
       "3NwyMjK6urqIiIjMzMwiIiLu7u5UVFRERER2dnYAAACqfl3PAAAAAXRSTlMAQObYZgAAAAlwSFlz\n",
       "AAAOxAAADsQBlSsOGwAAAWVJREFUKM99UT1LA0EUnHg572O9u1QpRGIawUY4iL2HkEKbBGws/Lh/\n",
       "YEqJhWsjNoZrrGzyB5RoJRLwyoCmtwhkwcIgBAMakqhR3yZwlXFhB+btvHmPWQDtn0YF/5+XgcSP\n",
       "iN/m/9YpHQLjO+K5CcYxn0DvRXx2wlyTE1idiF9O0O0GBA6Z7t/vnHKtPqyBtY4qRltNubh5gulh\n",
       "q7UJrEjxIZmKBmddxMm5GBjCtlJ2GmIVU6G2gGYFdal7DaAVLqAO5LrqG/TCxnQ5Jgwvibi4duXS\n",
       "i1K3BzDWQ/wTpoDVP3nGueNSjV4Nb14ubXSlbkiXJs74uCvACUeryHyoUccSyEJPE9X6BCRy3EoO\n",
       "zOFRPrEybNaXGVsh9dnyT6YEZSySWKPR8Mb5WCGy7J0sso5LVbMzDuhYCR4YV3xc5dVR8ravcjxi\n",
       "PZFwDjiqzS8SF4HqMrYzQCnDoZVH6c4RrZbOaoGSwi/CFmi7+HOuzQAAAABJRU5ErkJggg==\n",
       "\" style=\"display:inline;vertical-align:middle;\" /></a></td></tr>\n",
       "<tr><td>16</td><td>ExprTuple</td><td>17, 18</td><td><a class=\"ProveItLink\" href=\"../__pv_it/demonstrations/adb04d4aa1a3922fbb7d466a7aea80d200d0bd320/expr.ipynb\"><img src=\"data:image/png;base64,iVBORw0KGgoAAAANSUhEUgAAACkAAAAVBAMAAAAp9toTAAAAMFBMVEX////MzMxUVFRERES6uroi\n",
       "IiIQEBCYmJhmZmYyMjLu7u52dnaqqqqIiIjc3NwAAACW8nlqAAAAAXRSTlMAQObYZgAAAAlwSFlz\n",
       "AAAOxAAADsQBlSsOGwAAASJJREFUGNNdkb9Lw0AYhp+QtolJWrO418XVgrOaf0Do4tYhg7NkdCwi\n",
       "KIiSTRCHA2lxEYOTg8VOgrhkcbUuzioOYq3gd/lRsAd3fO/Dx3vfvQe88H9luj6coRv6eAR3cFyQ\n",
       "g11FPQInhjN6uU0vNbbhFOwIq43byugSrMAO1MBs4o0z+g13ipriAea7GBMNnU8YBcxFHMKV0K9p\n",
       "b4Tb5ATeEozf0nc9xYrp5PQno/3AWB7ihWyJQ0Il73WObkc+xrumcps3KV8mM1RC7WC2sMYllXm9\n",
       "NqtghdgxStC9cj5Et7gW0aHvOzIVT8qUEOyEBREXg0XYlGb3Zk9kNaDqF4aeKq1fxaRb1O404H3Z\n",
       "a0V9WcKGzu+8EGlJTZ11I535oWf4A6WfSFHS/FNeAAAAAElFTkSuQmCC\n",
       "\" style=\"display:inline;vertical-align:middle;\" /></a></td></tr>\n",
       "<tr><td>17</td><td>Literal</td><td></td><td><a class=\"ProveItLink\" href=\"../../numerals/__pv_it/common/dd4e19e8b134dfb293470ea55fe3589b0ab9f8040/expr.ipynb\"><img src=\"data:image/png;base64,iVBORw0KGgoAAAANSUhEUgAAAAoAAAAOBAMAAADkjZCYAAAAMFBMVEX///8QEBC6urrMzMxUVFRE\n",
       "RESYmJgiIiLu7u6qqqoyMjLc3NxmZmaIiIh2dnYAAABcDckaAAAAAXRSTlMAQObYZgAAAAlwSFlz\n",
       "AAAOxAAADsQBlSsOGwAAAFdJREFUCNdjYOB7e5qBgWElQ/sGBrYCBr4ABlYHBs4fDPwHGJh/MvQD\n",
       "yW8M+x8wMP8Fk/8Y+h8wMP0FyXL+ZGANYGD7wcAmwMCzgIGhkqHRgIGh560zAwAM3BhN1L/+/wAA\n",
       "AABJRU5ErkJggg==\n",
       "\" style=\"display:inline;vertical-align:middle;\" /></a></td></tr>\n",
       "<tr><td>18</td><td>Literal</td><td></td><td><a class=\"ProveItLink\" href=\"../../numerals/__pv_it/common/22593540f11ac41f656b6119a111361a0782e98b0/expr.ipynb\"><img src=\"data:image/png;base64,iVBORw0KGgoAAAANSUhEUgAAAAoAAAAOBAMAAADkjZCYAAAAMFBMVEX///+qqqqYmJi6urp2dnYy\n",
       "MjJERETc3NwQEBDMzMyIiIgiIiLu7u5UVFRmZmYAAAABFGnYAAAAAXRSTlMAQObYZgAAAAlwSFlz\n",
       "AAAOxAAADsQBlSsOGwAAAFFJREFUCNdjYOB7d4eBgWcXw4wCBt4GBrYEBv4ABpY/DOcTGLg+g9mf\n",
       "wOK/GHiaGeZ+ZGA4t0TqJwMQANUAAVA9Yw/D+QkMXHsYkoB8l3cGDACiKhWFWeYZxAAAAABJRU5E\n",
       "rkJggg==\n",
       "\" style=\"display:inline;vertical-align:middle;\" /></a></td></tr>\n",
       "</table>\n"
      ],
      "text/plain": [
       "0. Sum_{i = 0}^{9} (i + 1)\n",
       "   core type: Operation\n",
       "   operator: 1\n",
       "   operand: 3\n",
       "1. Sum\n",
       "   core type: Literal\n",
       "   sub-expressions: \n",
       "2. (i -> {i + 1 if i in {0 .. 9}.)\n",
       "   core type: ExprTuple\n",
       "   sub-expressions: 3\n",
       "3. i -> {i + 1 if i in {0 .. 9}.\n",
       "   core type: Lambda\n",
       "   parameter: 13\n",
       "   body: 5\n",
       "4. (i)\n",
       "   core type: ExprTuple\n",
       "   sub-expressions: 13\n",
       "5. {i + 1 if i in {0 .. 9}.\n",
       "   core type: Conditional\n",
       "   value: 6\n",
       "   condition: 7\n",
       "6. i + 1\n",
       "   core type: Operation\n",
       "   operator: 8\n",
       "   operands: 9\n",
       "7. i in {0 .. 9}\n",
       "   core type: Operation\n",
       "   operator: 10\n",
       "   operands: 11\n",
       "8. +\n",
       "   core type: Literal\n",
       "   sub-expressions: \n",
       "9. (i, 1)\n",
       "   core type: ExprTuple\n",
       "   sub-expressions: 13, 12\n",
       "10. in\n",
       "    core type: Literal\n",
       "    sub-expressions: \n",
       "11. (i, {0 .. 9})\n",
       "    core type: ExprTuple\n",
       "    sub-expressions: 13, 14\n",
       "12. 1\n",
       "    core type: Literal\n",
       "    sub-expressions: \n",
       "13. i\n",
       "    core type: Variable\n",
       "    sub-expressions: \n",
       "14. {0 .. 9}\n",
       "    core type: Operation\n",
       "    operator: 15\n",
       "    operands: 16\n",
       "15. Interval\n",
       "    core type: Literal\n",
       "    sub-expressions: \n",
       "16. (0, 9)\n",
       "    core type: ExprTuple\n",
       "    sub-expressions: 17, 18\n",
       "17. 0\n",
       "    core type: Literal\n",
       "    sub-expressions: \n",
       "18. 9\n",
       "    core type: Literal\n",
       "    sub-expressions: "
      ]
     },
     "metadata": {},
     "output_type": "display_data"
    }
   ],
   "source": [
    "# See how a summation expression is constructed:\n",
    "sum_01.expr_info()"
   ]
  },
  {
   "cell_type": "markdown",
   "metadata": {},
   "source": [
    "We can access the various component elements of a Sum, including the index or indices, the summand, the domain, etc:"
   ]
  },
  {
   "cell_type": "code",
   "execution_count": 10,
   "metadata": {},
   "outputs": [
    {
     "data": {
      "text/html": [
       "<a class=\"ProveItLink\" href=\"../../../__pv_it/common/ae955345c83abf786c3aff8681cd5465beae262d0/expr.ipynb\"><img src=\"data:image/png;base64,iVBORw0KGgoAAAANSUhEUgAAAAcAAAAOBAMAAAARcxsoAAAALVBMVEX////c3NxUVFQyMjKqqqrM\n",
       "zMwQEBC6urqYmJju7u52dnYiIiJmZmaIiIgAAABgwC6IAAAAAXRSTlMAQObYZgAAAAlwSFlzAAAO\n",
       "xAAADsQBlSsOGwAAADpJREFUCNdjYGC4wwAEuxjQAeedBgYGLvYEBoYQHgMGhglsF4CCfhOAhBEn\n",
       "UPY5FwMD6wMJIFejgQEAGf4JG7xeJHMAAAAASUVORK5CYII=\n",
       "\" style=\"display:inline;vertical-align:middle;\" /></a>"
      ],
      "text/plain": [
       "i"
      ]
     },
     "metadata": {},
     "output_type": "display_data"
    }
   ],
   "source": [
    "# the index\n",
    "sum_02.index"
   ]
  },
  {
   "cell_type": "code",
   "execution_count": 11,
   "metadata": {},
   "outputs": [
    {
     "data": {
      "text/html": [
       "<a class=\"ProveItLink\" href=\"../../../__pv_it/common/09295071eadd1b048b4ca029b4f00bff35d041c20/expr.ipynb\"><img src=\"data:image/png;base64,iVBORw0KGgoAAAANSUhEUgAAACYAAAAVBAMAAADY/YGeAAAAMFBMVEX////MzMxUVFRERES6uroi\n",
       "IiIQEBCYmJhmZmYyMjLu7u52dnaqqqqIiIjc3NwAAACW8nlqAAAAAXRSTlMAQObYZgAAAAlwSFlz\n",
       "AAAOxAAADsQBlSsOGwAAAPdJREFUGNNjYGB4wIAM+EAE7wEUMZYLQOI0EN+AiQgvYLjOwMA1AciM\n",
       "hondZGDgXMDAUcCACtgbGNgY0EEWw0kMsekM3UAjb0D1c91VAJKbgKIM3CwJEDEOhnQgWckQw8Ag\n",
       "wzEBInaP4Q+QPMaQwsCwgO0CRGwBzy8gKQ8SYzi/AGo8RwCQcAPpZZjEBRVj3QAkjjLYAq37ws0A\n",
       "EX3vACSKgTYzMH54zrAebE09iOhmEAWS6gUMrFEgrjKICGFgFYAYdQpE5IICMADkZTAAmq7DDnIK\n",
       "KFDsIN66wMD4hxUUvI+BeDFYjBeIe1tALJAavgsoocL7gAEA3xMyDfHYeYwAAAAASUVORK5CYII=\n",
       "\" style=\"display:inline;vertical-align:middle;\" /></a>"
      ],
      "text/plain": [
       "(i, j)"
      ]
     },
     "metadata": {},
     "output_type": "display_data"
    }
   ],
   "source": [
    "# multiple ind4)\n",
    "sum_04.indices"
   ]
  },
  {
   "cell_type": "code",
   "execution_count": 12,
   "metadata": {},
   "outputs": [
    {
     "data": {
      "text/html": [
       "<a class=\"ProveItLink\" href=\"../__pv_it/demonstrations/07dbf0bd6bcb5fbbcde2aa213801fd9dbf726f100/expr.ipynb\"><img src=\"data:image/png;base64,iVBORw0KGgoAAAANSUhEUgAAADsAAAA2BAMAAACLlfxeAAAAMFBMVEX///92dnZERERmZmaYmJgi\n",
       "IiIQEBBUVFS6urrc3Nzu7u7MzMyqqqqIiIgyMjIAAAAO+LikAAAAAXRSTlMAQObYZgAAAAlwSFlz\n",
       "AAAOxAAADsQBlSsOGwAAAa5JREFUOMtjYMABuKMY8IDldr/wSTPwDnXp9/8R4C+m9Pn/G8A014zr\n",
       "+d8wpdn/B8BEWOIPYNod/x0uxKyAkGb8CaH3/3eAi1nCWexl/0ogpvz/CRdkweIF/a94fbjsvwE+\n",
       "aY7/f/Bql/+2AJ803/8H+KS58j/iNR0WsDgA8/8sVAFYHH2ABuxfvKbPD8ArfW0C3oD5jUVwoXgV\n",
       "lLX/ABZpAwZTqL9zMSUvM/xgmA/xLh+WKAlk8IJJK+FwkigkUBBZlQdLFnZD+MoHWXrSAjRf8STA\n",
       "IumyAwOnASdI33y4r7jsYW5k5EhgmLR78wJkX82ph0fcHuYHDPn//4N89e8dGIQCufA0uYDtApRl\n",
       "j5THviBSAN7kxfCcC2/y+sGIT5r7wxS8hpfA8x0X3qTAwAjxA2ewBINbAXYle4s0GI4zLmDG7h1m\n",
       "ayBx5IIBFudyXGdguAJinD4xF4v0Wv4FXOAy4zTjmkZM6VlHGTjAvjjNYHAJi8W6DCyPlJR0gNIL\n",
       "+bCE368N3AIQ3RxnMaV5HhgwaIEYHgwM17Horp3AMAmYDLjjJjCw44ggISUN7DIAK1CeIZm6R+YA\n",
       "AAAASUVORK5CYII=\n",
       "\" style=\"display:inline;vertical-align:middle;\" /></a>"
      ],
      "text/plain": [
       "Sum_{i in Natural} (1 / i^{2})"
      ]
     },
     "metadata": {},
     "output_type": "display_data"
    },
    {
     "data": {
      "text/html": [
       "<a class=\"ProveItLink\" href=\"../../number_sets/natural_numbers/__pv_it/common/8b7c321957f52ed3b05b36af612eeae4fa4783bc0/expr.ipynb\"><img src=\"data:image/png;base64,iVBORw0KGgoAAAANSUhEUgAAAA8AAAAPBAMAAADJ+Ih5AAAAMFBMVEX///9mZmbMzMyIiIiYmJjc\n",
       "3NxUVFSqqqq6uroQEBB2dnYyMjJEREQiIiLu7u4AAAAPqInnAAAAAXRSTlMAQObYZgAAAAlwSFlz\n",
       "AAAOxAAADsQBlSsOGwAAAGpJREFUCNdjePvn9AOGlT8bGBiOcyQw8H1gYGDIDVjCwDAByEg/wB3A\n",
       "cAHISHVm3QBhsClYQRgMB3gaIAxFvnsQBktBzQQwgyGPDcp4xgeRYmAyOABkHAJiIxBjOxAzbmBg\n",
       "0P4J5PFtYAAA324hOGf9e3cAAAAASUVORK5CYII=\n",
       "\" style=\"display:inline;vertical-align:middle;\" /></a>"
      ],
      "text/plain": [
       "Natural"
      ]
     },
     "metadata": {},
     "output_type": "display_data"
    }
   ],
   "source": [
    "# the domain\n",
    "display(sum_02)\n",
    "sum_02.domain"
   ]
  },
  {
   "cell_type": "code",
   "execution_count": 13,
   "metadata": {},
   "outputs": [
    {
     "data": {
      "text/html": [
       "<a class=\"ProveItLink\" href=\"../__pv_it/demonstrations/bb2e9d2288d59e0a058f297efe7d4a7399ecc2230/expr.ipynb\"><img src=\"data:image/png;base64,iVBORw0KGgoAAAANSUhEUgAAAEEAAAA5BAMAAACbqFvaAAAAMFBMVEX///8iIiJ2dnZmZmYQEBBE\n",
       "RETc3NwyMjKqqqpUVFTMzMzu7u66urqIiIiYmJgAAAB5VTh2AAAAAXRSTlMAQObYZgAAAAlwSFlz\n",
       "AAAOxAAADsQBlSsOGwAAAeJJREFUOMvdlD0sA2EYx/9y1Za7FptE4muyKeJjQReJj9AOLEh0MBCS\n",
       "moiJRMLoRiG4iEkiLmGQCJPFdvERqa80qJRIfESKCq/Gtb3re2/b3TO9T/K75/N/D/Bn9gtg7wzJ\n",
       "jZ+bGbXOC/7khA3ovAemkxN2wPIFbKckMpuAteSEVUJdfw/vSFHqdZXEl4zL+P82QTT7ZhKzRFLX\n",
       "N+xzvTGJLJIbn37RJBMp+ow/OTeT2CCaMGrY6iAh/ZZjdvNwKV51q+++F5buHjvQAp/qbBHG3s27\n",
       "IwijUnUE8sHqUcl2Ij/qlL8xpGGSbG7zszorWMiIkfBGotjd0fy86zWhyMuFlTIcwOIxL8rU5KNz\n",
       "g0+poCJypE3n3eFJXjJMXr9VCbWMsnIT3HYjcezRe0IIOxQghPWt9GY5UUyvV68La3jTKVBC4RPy\n",
       "8vXKVJAKYXGkE3NXOoAr0GpgE7daq0EmoGvV6mQS3nhnfCOzZK3VgeWEFWutvo/9WZ6LkBdmkkbd\n",
       "f/vznw5S6WEawK4I7tSESULI8FXDus8WiA3bK6OZJvb2/SbRJqK6K2L+DRmFNDF0ihyJiyk7Qhh/\n",
       "lUWsImNSy2I8Ja04gTc7moVVqfk5EiXAxY6eIogGCYoYxeB5fGJH9DX6BQR9nXclFaECAAAAAElF\n",
       "TkSuQmCC\n",
       "\" style=\"display:inline;vertical-align:middle;\" /></a>"
      ],
      "text/plain": [
       "Sum_{m = 0}^{infinity} x^{m}"
      ]
     },
     "metadata": {},
     "output_type": "display_data"
    },
    {
     "data": {
      "text/html": [
       "<a class=\"ProveItLink\" href=\"../../numerals/__pv_it/common/dd4e19e8b134dfb293470ea55fe3589b0ab9f8040/expr.ipynb\"><img src=\"data:image/png;base64,iVBORw0KGgoAAAANSUhEUgAAAAoAAAAOBAMAAADkjZCYAAAAMFBMVEX///8QEBC6urrMzMxUVFRE\n",
       "RESYmJgiIiLu7u6qqqoyMjLc3NxmZmaIiIh2dnYAAABcDckaAAAAAXRSTlMAQObYZgAAAAlwSFlz\n",
       "AAAOxAAADsQBlSsOGwAAAFdJREFUCNdjYOB7e5qBgWElQ/sGBrYCBr4ABlYHBs4fDPwHGJh/MvQD\n",
       "yW8M+x8wMP8Fk/8Y+h8wMP0FyXL+ZGANYGD7wcAmwMCzgIGhkqHRgIGh560zAwAM3BhN1L/+/wAA\n",
       "AABJRU5ErkJggg==\n",
       "\" style=\"display:inline;vertical-align:middle;\" /></a>"
      ],
      "text/plain": [
       "0"
      ]
     },
     "metadata": {},
     "output_type": "display_data"
    }
   ],
   "source": [
    "# the domain's lower bound\n",
    "display(sum_03)\n",
    "sum_03.domain.lower_bound"
   ]
  },
  {
   "cell_type": "code",
   "execution_count": 14,
   "metadata": {},
   "outputs": [
    {
     "data": {
      "text/html": [
       "<a class=\"ProveItLink\" href=\"../__pv_it/demonstrations/07dbf0bd6bcb5fbbcde2aa213801fd9dbf726f100/expr.ipynb\"><img src=\"data:image/png;base64,iVBORw0KGgoAAAANSUhEUgAAADsAAAA2BAMAAACLlfxeAAAAMFBMVEX///92dnZERERmZmaYmJgi\n",
       "IiIQEBBUVFS6urrc3Nzu7u7MzMyqqqqIiIgyMjIAAAAO+LikAAAAAXRSTlMAQObYZgAAAAlwSFlz\n",
       "AAAOxAAADsQBlSsOGwAAAa5JREFUOMtjYMABuKMY8IDldr/wSTPwDnXp9/8R4C+m9Pn/G8A014zr\n",
       "+d8wpdn/B8BEWOIPYNod/x0uxKyAkGb8CaH3/3eAi1nCWexl/0ogpvz/CRdkweIF/a94fbjsvwE+\n",
       "aY7/f/Bql/+2AJ803/8H+KS58j/iNR0WsDgA8/8sVAFYHH2ABuxfvKbPD8ArfW0C3oD5jUVwoXgV\n",
       "lLX/ABZpAwZTqL9zMSUvM/xgmA/xLh+WKAlk8IJJK+FwkigkUBBZlQdLFnZD+MoHWXrSAjRf8STA\n",
       "IumyAwOnASdI33y4r7jsYW5k5EhgmLR78wJkX82ph0fcHuYHDPn//4N89e8dGIQCufA0uYDtApRl\n",
       "j5THviBSAN7kxfCcC2/y+sGIT5r7wxS8hpfA8x0X3qTAwAjxA2ewBINbAXYle4s0GI4zLmDG7h1m\n",
       "ayBx5IIBFudyXGdguAJinD4xF4v0Wv4FXOAy4zTjmkZM6VlHGTjAvjjNYHAJi8W6DCyPlJR0gNIL\n",
       "+bCE368N3AIQ3RxnMaV5HhgwaIEYHgwM17Horp3AMAmYDLjjJjCw44ggISUN7DIAK1CeIZm6R+YA\n",
       "AAAASUVORK5CYII=\n",
       "\" style=\"display:inline;vertical-align:middle;\" /></a>"
      ],
      "text/plain": [
       "Sum_{i in Natural} (1 / i^{2})"
      ]
     },
     "metadata": {},
     "output_type": "display_data"
    },
    {
     "data": {
      "text/html": [
       "<a class=\"ProveItLink\" href=\"../__pv_it/demonstrations/5c3701e989e4e5737bea1ff2351a1da7569ccbe60/expr.ipynb\"><img src=\"data:image/png;base64,iVBORw0KGgoAAAANSUhEUgAAABEAAAAqBAMAAACn/q2nAAAAMFBMVEX///9ERESqqqq6urqYmJgQ\n",
       "EBDc3Nx2dnaIiIgyMjJmZmZUVFTu7u4iIiLMzMwAAAChWcAIAAAAAXRSTlMAQObYZgAAAAlwSFlz\n",
       "AAAOxAAADsQBlSsOGwAAAIJJREFUGNNjYACCtwcYwIBn13woi4Ghnw6s+gQoY3f8bAcG6oP/UPCB\n",
       "CLXHq/dAWQsY1oLpLobPDPkPQKzrDD5QFgjUwhh8d2CsRJCXeLocGNgWsAH9xM4cwJD47hVQ8BHX\n",
       "BIb4//+BsgdYG2Cq9eEBMJsHyuD5zA4z9EMKTHYLNEwA45Q2+w0+rqQAAAAASUVORK5CYII=\n",
       "\" style=\"display:inline;vertical-align:middle;\" /></a>"
      ],
      "text/plain": [
       "1 / i^{2}"
      ]
     },
     "metadata": {},
     "output_type": "display_data"
    }
   ],
   "source": [
    "# the summand\n",
    "display(sum_02)\n",
    "sum_02.summand"
   ]
  },
  {
   "cell_type": "markdown",
   "metadata": {},
   "source": [
    "We can also dig into a Sum to find pieces of components:"
   ]
  },
  {
   "cell_type": "code",
   "execution_count": 15,
   "metadata": {},
   "outputs": [
    {
     "data": {
      "text/html": [
       "<a class=\"ProveItLink\" href=\"../__pv_it/demonstrations/53c58d7baf764b00be78132e2db656ce42af5bda0/expr.ipynb\"><img src=\"data:image/png;base64,iVBORw0KGgoAAAANSUhEUgAAAFkAAAA9BAMAAAA0QNjQAAAAMFBMVEX///9mZmYyMjIiIiJERESY\n",
       "mJgQEBC6urrc3Nzu7u7MzMyqqqpUVFR2dnaIiIgAAAAElYxrAAAAAXRSTlMAQObYZgAAAAlwSFlz\n",
       "AAAOxAAADsQBlSsOGwAAAidJREFUSMftlr1LI0EUwN+uJptNoid+gJ1iZ6WwWChCLGysjIU2NlaC\n",
       "CEkaLSVgYSGci6Acp5z5DxLuDzjTaOvWgro2Iqggih/RO8fZt5vdGRmZydU+yOQx+2P2fe8AoNzc\n",
       "gLqknVRVnf5WMmvq9EYRntTpeCH5oE4bE1uvDbi5U3pWh5O2MahON2f1UgN2Tx/Dl/ynDJBI3qT0\n",
       "PvHzYq5d5x/ljUDCnMcyFSme+Ruq2piULpNsqHfjmhCDRW9pJVGxxnC9EtMruE7e87sphx7R9qGk\n",
       "h+ke2rBN+Eeb9NfkcFu77V6T92O5Er7Luhh9Kfhv9egpVM8ebZaeY/Q/LB1HTCe9rNm9n9E6Gm7m\n",
       "/zGARk3+1SWiW6pc9lG8E5xlER3z36qRhYhuqkCy0i6iU4FHmTd2boEJOU/rsKx5yxoN6eRtMAcH\n",
       "ORpSNdHZRnD2RZGzBPSqLbLEP9N4YSeRC7BXcERe+iVaZuvai1M5keXplucgtjTeOa6A6PvS07zd\n",
       "6cO7A2pjASPMV9WIIJcoq7iO89U5JaiqqNy04ahG0M2iuBsS6ORM9HQW3fikO/EUJnxBar+L6UvM\n",
       "Yxg+s6dN1vJR+NaPiPQDod/1oVh5Qu6l46SHmYMP8CW+/GiIPq0rJ41cl2KuMaZOx0sgv3as1O9f\n",
       "GzYsSqvKrUHnOJVs2YYhGZ3YqU8eSufkNxk3skR+udr7GVii5OVvrT6PXEN+4dy9DLNzbkvYd0Rt\n",
       "q9Z5arQXAAAAAElFTkSuQmCC\n",
       "\" style=\"display:inline;vertical-align:middle;\" /></a>"
      ],
      "text/plain": [
       "Sum_{i = 0}^{9} (i + 1)"
      ]
     },
     "metadata": {},
     "output_type": "display_data"
    },
    {
     "data": {
      "text/html": [
       "<a class=\"ProveItLink\" href=\"../../numerals/__pv_it/common/682157d4892d216d9e5626ed533aff9b56b9506e0/expr.ipynb\"><img src=\"data:image/png;base64,iVBORw0KGgoAAAANSUhEUgAAAAgAAAAOBAMAAADgeEClAAAAJ1BMVEX///+YmJgQEBDc3Nx2dnaI\n",
       "iIgyMjJmZmZUVFTu7u4iIiLMzMwAAADHsjQhAAAAAXRSTlMAQObYZgAAAAlwSFlzAAAOxAAADsQB\n",
       "lSsOGwAAAB9JREFUCNdjYOBeycAwo+wkAwMDK8kEy2EGBo6mY40AwiwNMNzp/EYAAAAASUVORK5C\n",
       "YII=\n",
       "\" style=\"display:inline;vertical-align:middle;\" /></a>"
      ],
      "text/plain": [
       "1"
      ]
     },
     "metadata": {},
     "output_type": "display_data"
    }
   ],
   "source": [
    "display(sum_01)\n",
    "sum_01.summand.operands[1]"
   ]
  },
  {
   "cell_type": "markdown",
   "metadata": {},
   "source": [
    "## Demonstrations <a id='further_demonstrations'></a>"
   ]
  },
  {
   "cell_type": "markdown",
   "metadata": {},
   "source": [
    "<div style=\"width: 90%; border: 5px solid green; padding: 10px; margin: 0px;\"><a id='demo01'></a><font size=4><b>1.</b> TBA</font></div>"
   ]
  },
  {
   "cell_type": "markdown",
   "metadata": {},
   "source": [
    "<div style=\"width: 90%; border: 5px solid green; padding: 10px; margin: 0px;\"><a id='demo01'></a><font size=4><b>2.</b> TBA</font></div>"
   ]
  },
  {
   "cell_type": "markdown",
   "metadata": {},
   "source": [
    "<div style=\"width: 90%; border: 5px solid green; padding: 10px; margin: 0px;\"><a id='demo01'></a><font size=4><b>3.</b> TBA</font></div>"
   ]
  },
  {
   "cell_type": "markdown",
   "metadata": {},
   "source": [
    "## Miscellaneous Testing\n",
    "The material below was developed to test various enumerated Set and Set-related methods. Some of this material could be integrated into the `_demonstrations_` page eventually and/or deleted as development continues."
   ]
  },
  {
   "cell_type": "markdown",
   "metadata": {},
   "source": [
    "### Testing Sum.deduce_in_number_set()"
   ]
  },
  {
   "cell_type": "code",
   "execution_count": 16,
   "metadata": {},
   "outputs": [
    {
     "data": {
      "text/html": [
       "<strong id=\"sum_1_to_5\">sum_1_to_5:</strong> <a class=\"ProveItLink\" href=\"../__pv_it/demonstrations/497c8ab0ea4ccf59f6d1931b4e88862efef3acc10/expr.ipynb\"><img src=\"data:image/png;base64,iVBORw0KGgoAAAANSUhEUgAAACgAAAA9BAMAAAAtyzZ2AAAAMFBMVEX///9EREQyMjKIiIhmZmZU\n",
       "VFTu7u7MzMwiIiIQEBCqqqqYmJi6urp2dnbc3NwAAACjQrdyAAAAAXRSTlMAQObYZgAAAAlwSFlz\n",
       "AAAOxAAADsQBlSsOGwAAAVZJREFUOMtjYAABvjunFzCgA575vQyYggUMWARrlmERjEtdgEUt+wcM\n",
       "IS4Gtj8YgvwFfP8wBFkSmAMwBNku32UYPED/PwJ8hgmu/w8JNrY3pvN/wgRZ/zfAmNz98KDq/4rw\n",
       "rQCMVf9/A1zUD8Zg/o8IIG44S/4HqnuYHYBE5n8HFEGOC6AI+v8Li/vv/0zAFGT6r4ApyDb/LxIv\n",
       "2RvVq2Bw4STUJ/+nIRLAAieYVz8jzGKYDGW9b0BKGN+gDMsHSG4JgDiQ5zuS7fkHLkACCjnJ1fOB\n",
       "Q41tMrKrWXdDTHHA4ndBLGIsbUjpFAZ2ItyzC57eEe7hmgBjvYe7h80fZiPCPa/i4YHF9EkJDDrm\n",
       "//8Pj0F/pLT0ewDSch42wcswRjaWNMFu3IBFCxdC8HAApiCbwTcGR0Eg2IAkyJfVgEU7owEWwfx0\n",
       "TO0Mi1iwqEy1g5l+6S/UJAAk6nHyJduwywAAAABJRU5ErkJggg==\n",
       "\" style=\"display:inline;vertical-align:middle;\" /></a><br>"
      ],
      "text/plain": [
       "<IPython.core.display.HTML object>"
      ]
     },
     "metadata": {},
     "output_type": "display_data"
    },
    {
     "data": {
      "text/html": [
       "<strong id=\"sum_2_to_6_i_plus_2\">sum_2_to_6_i_plus_2:</strong> <a class=\"ProveItLink\" href=\"../__pv_it/demonstrations/60f73a9fdcef0f946c010555490790086464ad5e0/expr.ipynb\"><img src=\"data:image/png;base64,iVBORw0KGgoAAAANSUhEUgAAAFkAAAA9BAMAAAA0QNjQAAAAMFBMVEX///9ERERUVFQiIiLu7u6q\n",
       "qqrc3NwQEBC6urpmZmbMzMwyMjKYmJiIiIh2dnYAAAA7tyP9AAAAAXRSTlMAQObYZgAAAAlwSFlz\n",
       "AAAOxAAADsQBlSsOGwAAAlpJREFUSMdjYAADvrsHGIgHu7g+EK+YbwJDA/Gq2dtCSHCI/ytPEtyd\n",
       "f4DlG/Gq+Rcw/CFeNXMDww/iVfNM4DIgwZv3bjowjALywP7/CPCXoOr4/wvANEvGpfrvBFUz/YfH\n",
       "Io99AEHl9p/gTE4BgqrX/0ck7Wlgkg27wgQQwfsfkbR5wORV7Kp7waT8Z1RR1gdAIyagCLHN3LiA\n",
       "gRfsBvf/qFLeoAT/AEUokYEPmP63gJgc/7+iSM1BYvdAKDUGhnIGhpNg9vvvKIm7AIkdC6HqHRj0\n",
       "ExjYwcq4/29AdvYGTNXKDAz6Cxi4wQ5nqf+HpIAT6GTfOaiqQdECLKMUUGIfDEAmPGhHV80FTEM8\n",
       "EFs5/5cg5f8ABq6A2eiqmYHmskJ9ZI+U+tgbGFgYakGsycbG5cbGRmDRiSDzoSVrvgGKagbWL2hm\n",
       "84CczAE1+3oCiksYuBUcUFXHMbAlMLBCzOT4hRQmjBeApWjDAxTVXA8YeB0YeCBJdD1yugaF03q2\n",
       "Ayiqk2fOnAwJW2B41yJHJaiMYzqD6m77//9/g0tLUAijpiorzLiE2gAmBVFT7EnMVIWU3DhNEGkE\n",
       "7M0E7LmBDezJ4wjZo2Bv4MidYFOQgg8atbnYVV8DxyM8+FjmTyCU5RHBl6qPnBSxA+7fu8HAuP7/\n",
       "/88Ei5P5SOXgH4ZRAAFuJKl+C4und0okVMicDJwkVPb8DWy/CCrqVYCVAg6EVbNc+MIwURAIgPmW\n",
       "j6BL2FwRShYT9iWo/IBqFCGiveYFc0kmQxpB1dGcMKOlVk0hqNrpGqy4/P+fUPMUAFhUpxM+uzXD\n",
       "AAAAAElFTkSuQmCC\n",
       "\" style=\"display:inline;vertical-align:middle;\" /></a><br>"
      ],
      "text/plain": [
       "<IPython.core.display.HTML object>"
      ]
     },
     "metadata": {},
     "output_type": "display_data"
    },
    {
     "data": {
      "text/html": [
       "<strong id=\"sum_a_to_b\">sum_a_to_b:</strong> <a class=\"ProveItLink\" href=\"../__pv_it/demonstrations/d45c6f60d36035e79669b2b9bef1182a0781166c0/expr.ipynb\"><img src=\"data:image/png;base64,iVBORw0KGgoAAAANSUhEUgAAACsAAAA/BAMAAACLNCx+AAAAMFBMVEX///+6urrc3NyqqqqYmJhm\n",
       "ZmYiIiLu7u6IiIgQEBB2dnZUVFREREQyMjLMzMwAAACFJnCgAAAAAXRSTlMAQObYZgAAAAlwSFlz\n",
       "AAAOxAAADsQBlSsOGwAAAXZJREFUOMtjYACDtwcYsAHuBViFOR9gFX7fsR2bcFtBKzbhIwy+2ITn\n",
       "MURjE/7AMBmbcDoLVoc/7WAYrID3PxJogAsz//8HYRRJ7Pw/AaF8/zc40+0zQpjt/wY4OwYhzPf/\n",
       "C5zNqoAQ7/+P4DgghHn+J6C57k0BkGCf/xVNuBdMyv83wOYjrv/Tsfr0/l+swpX/kRMVe8cGtACA\n",
       "OJ5hCpQV/7MAIdzE8BkeAIiwYyhg/g5lMX1DtooV5j2OScjCbDAHyKOkY30BaCB+RnGvP8zdDSjC\n",
       "e6D0VVTfzYCGLEqy3MwCdV8Ywi8GQHvYIOHJgnAdC1AkIhDDdZYIs5gQritFiia465iskQPy/l0w\n",
       "uJYJTGyIuGZFToMOdEr4fNiF2R5QbnRFMDw5LelCpPQAWwbWM0BwhKFM4T1cmL1gKYwZyvASyZQr\n",
       "MMZEhm4k4U9QQ9g/MRwpR/gGnkcn8X10hwtzwLOlqHMXImR5sQbyxZdYfRMRjk0UAFWahQzTW7GW\n",
       "AAAAAElFTkSuQmCC\n",
       "\" style=\"display:inline;vertical-align:middle;\" /></a><br>"
      ],
      "text/plain": [
       "<IPython.core.display.HTML object>"
      ]
     },
     "metadata": {},
     "output_type": "display_data"
    },
    {
     "data": {
      "text/html": [
       "<strong id=\"sum_a_to_nine\">sum_a_to_nine:</strong> <a class=\"ProveItLink\" href=\"../__pv_it/demonstrations/3a566f87d02429308999f80a2993c12c79d8228f0/expr.ipynb\"><img src=\"data:image/png;base64,iVBORw0KGgoAAAANSUhEUgAAAF4AAAA9BAMAAADWnMOpAAAAMFBMVEX///9mZmYyMjIiIiJERESY\n",
       "mJgQEBC6urrc3Nzu7u7MzMyqqqpUVFR2dnaIiIgAAAAElYxrAAAAAXRSTlMAQObYZgAAAAlwSFlz\n",
       "AAAOxAAADsQBlSsOGwAAAmJJREFUSMdjYACDt28ZSAE8F7gPkKKefwHnT1LU9zcwfCdFPVsB11dS\n",
       "1LN7Tv1NkodnL/hBinKuCewGpKhnCWBaQJL7Q28xjAKqAP3/CPCPCPX7/0NiirP9Tf43YrLKf3hK\n",
       "YLXfQIQG+z9wJqMDEerX/w+AsyXAJAcupWAJvv+IpMwKJl/jTGYPQKT/Z1RR7gsMnG4YybtRyIuB\n",
       "4SmINe2/AIrMJCBmEkB3igPD/QIGpgkgW/6j5kVRUIGBHlI8DQxsCQysYGPuf5uALJUAxPUT0EuE\n",
       "nww8QH9mgthM/xWQnQ/iXMOIJgMGnl8MDKrgqM3/iyTDeAFI6DDslUTXwvyBgeEOSpoAAyZgdHB+\n",
       "5d6RihFRwNAMghj5PxPJGKBXuX9Uc2mgq7cB4m3QNPEPuawDGpAKsXCSMQhYIRLLemj5aYCqnllR\n",
       "CiNyY0BEGYT9rAHVPfM31KOXR8BY72Bg2AxJF7+Qyy6gt+InzN/wAFX9WgaGlwwMIRCfI8cmL7Dm\n",
       "OMQwf8EF1PRgKCgIdLQsOPzzUMpSoLA3A58cagwzA7MrMCLNGTATlxXuvMIBDhcXVMFA3OoZQVmL\n",
       "0RIRCGAPN+BU3wIiwhDy0WDv4M7FHqiByZ0ApvpwKecDmdwPD0xOeQHCxQMiMLvP/yeikmH6pAQG\n",
       "xvn//38moviRRyo/vzKMAkoBqx2JGtJJU87xgUT3OPTBcirn1bcNhOu7FzszGF2AwJVhcsN6wurZ\n",
       "XjPAUqUgwzIimoaCCxA+f0NYfQi7QQPEPZw/GFxnElR/jssA5t8Mru+RBNV7MByFOagw+m0AIeUA\n",
       "jMGqsAtb7RsAAAAASUVORK5CYII=\n",
       "\" style=\"display:inline;vertical-align:middle;\" /></a><br>"
      ],
      "text/plain": [
       "<IPython.core.display.HTML object>"
      ]
     },
     "metadata": {},
     "output_type": "display_data"
    }
   ],
   "source": [
    "# define some summations for testing\n",
    "sum_1_to_5, sum_2_to_6_i_plus_2, sum_a_to_b, sum_a_to_nine = (\n",
    "        Sum(i, i, domain=Interval(one, five)),\n",
    "        Sum(i, Add(i, two), domain=Interval(two, six)),\n",
    "        Sum(j, j, domain=Interval(a, b)),\n",
    "        Sum(k, subtract(k, two), domain=Interval(a, nine)))"
   ]
  },
  {
   "cell_type": "code",
   "execution_count": 17,
   "metadata": {},
   "outputs": [
    {
     "data": {
      "text/html": [
       "<span style=\"font-size:20px;\"> <a class=\"ProveItLink\" href=\"../__pv_it/demonstrations/4bf58eaa4b696d17d858bf68d796418c42e099b50/proof.ipynb\" style=\"text-decoration: none\">&nbsp;&#x22A2;&nbsp;&nbsp;</a><a class=\"ProveItLink\" href=\"../__pv_it/demonstrations/c2f979ed57ada5c652978690ea91d19ea13b93900/expr.ipynb\"><img src=\"data:image/png;base64,iVBORw0KGgoAAAANSUhEUgAAAG0AAAA/BAMAAAAYkFuZAAAAMFBMVEX///92dnZEREQiIiKqqqpU\n",
       "VFTMzMyYmJgQEBDu7u7c3Ny6uroyMjKIiIhmZmYAAABumYecAAAAAXRSTlMAQObYZgAAAAlwSFlz\n",
       "AAAOxAAADsQBlSsOGwAAA2JJREFUSMedV01oE0EUnqRp0skmm+pVS2N7sD1IYwOCIKTYi4LQolih\n",
       "IN2DnkTTgwcPSkUFKVSyCIIXaS3iDwrJTTwZhOIPlZRqsRdrz4K2Nk2b2tZ1N7Pzt915EQeyM+yb\n",
       "b2fmfd97b4KQ037Unii652UPYg2/R3VavEh6LXdQfD1bD/d6wsUZ0utgMwzDt92BduG49P4WjNOL\n",
       "FDd4r0c0HDNBXJZvL7wsGhoWQdwUHYQQ3hQNod8QjFsTRlSe+QbCNSTZQc14v2TqM6DjMV/gll2y\n",
       "qQk64BDg6WWAvT9qm7autkXWgL2MqU1BYC9oaUJpSiQBXN+wWtSQevP96q0UnGfJ4m1bIOK6Eleq\n",
       "ibfPIhTj53O5qnD4DSWuXHs2Winm4AwPiviqChZdIX2mwtnmngopyaWWrMVd953H1Yoyt7heiFs8\n",
       "FCJcTGXv/BO5sfZuO0Ho9ARdnikLtaflxc0OoBiyE0SQyuy+JYufpLaMN1X8ROhLwHZcjG5Ps/x8\n",
       "V/IKbRDh5F2HWcZQa9UnDXUVqB/a00ec3kS6MeDIk8k6ZhV9gtPlUvvIPno+vCjhcO6XEJULwxLu\n",
       "Bd9LZ9CUcExrTgtoRJlLLqsfOOHN15xunON0a5SNz7nJmOL4EWJkPC4oPsMjwWyaIc4iXfhmOp3u\n",
       "rg0/BwoIy7h8SohYU8RhJlmcnLSjYELCzQtkTWERh9gXG41BezHJL5qQofBmQDrfV2q4pNksnJJw\n",
       "WaEYhZefSLgYtXXGTDR5VOLvjkj4GZk/fPIV2dONd20d1X22zrhe/JI6xSFtN9EZqypMn21+4dml\n",
       "qiwsjvTDXBICparEq9NKeYXPuMzNOWWeWN9BQkigtKosK24Q5HkVXOIOipaVpariIeHRkBAWWkVZ\n",
       "/rYICVvTtZbOWZawRmRbma8zRBdCfRCKpb72PyXO3oa6OI4MA7hESl3ioDtDVl0cm1IA7pv6AhPY\n",
       "AHAdalOUuBr7uQdXgG9Ok2Vn6Nyr/3hHGZFXuvhJoAE6+7jHZ72CryGOdEf+2pwfrhW8XjuOeZAw\n",
       "9Ta77RdxeBu8787bv2e9PuvpKRDX4LjygA8uXwBxml1y8Yaxc5+n6/zv2GvnhuLijvUio3VwwRmE\n",
       "z1IWH5Za3NFTow4OH/J9/bbe/yP02PdrkFf+Age9/qsKutFKAAAAAElFTkSuQmCC\n",
       "\" style=\"display:inline;vertical-align:middle;\" /></a></span>"
      ],
      "text/plain": [
       "|- (Sum_{i = 1}^{5} i) in Integer"
      ]
     },
     "metadata": {},
     "output_type": "display_data"
    }
   ],
   "source": [
    "# Integer\n",
    "sum_1_to_5.deduce_in_number_set(Integer)"
   ]
  },
  {
   "cell_type": "code",
   "execution_count": 18,
   "metadata": {},
   "outputs": [
    {
     "data": {
      "text/html": [
       "<span style=\"font-size:20px;\"><a class=\"ProveItLink\" href=\"../../number_sets/integers/__pv_it/theorems/27094ede24067904bb8353fa305df8461a3a4be40/expr.ipynb\"><img src=\"data:image/png;base64,iVBORw0KGgoAAAANSUhEUgAAADMAAAAQBAMAAABJt1qBAAAAMFBMVEX////MzMwyMjKqqqoiIiJm\n",
       "ZmaYmJju7u5EREQQEBC6urqIiIh2dnZUVFTc3NwAAAAqL9KcAAAAAXRSTlMAQObYZgAAAAlwSFlz\n",
       "AAAOxAAADsQBlSsOGwAAAN5JREFUGNNjYMAAJT+aChhO/lzAgAU0c11gYP+ATYbhyoNjDAwTsEpd\n",
       "bmB6wOCAIrTDxUUBRN/L5lNAlVq0Hcq4xyuwByzFd2ffBpAAnzpMzT2GBo4FIKmVDzi+gwSA5sOl\n",
       "RNndgVLs0xhYweYyMSCk2AwsgC5k/cDAcgAkIOkCBA0QKYbrvEApzgaGerDHK5B0MdSyA02q38CQ\n",
       "DxZgQZZi3ADUX2/AcIkZ5ALuDTCpRiDeCJTi2MDsygoWUYZJgRisQM+z3z74diNYpLarAEwL/QTq\n",
       "YFdACag1LS7IAgCEuzrfdn2YkQAAAABJRU5ErkJggg==\n",
       "\" style=\"display:inline;vertical-align:middle;\" /></a>, <a class=\"ProveItLink\" href=\"../__pv_it/demonstrations/5d56aa038eb34c97b005be8161434236efec38e90/expr.ipynb\"><img src=\"data:image/png;base64,iVBORw0KGgoAAAANSUhEUgAAADEAAAAQBAMAAABNQoq8AAAAMFBMVEX///+YmJjMzMzc3NyIiIhU\n",
       "VFR2dna6urqqqqpmZmYyMjIiIiIQEBBERETu7u4AAAD7tRWPAAAAAXRSTlMAQObYZgAAAAlwSFlz\n",
       "AAAOxAAADsQBlSsOGwAAAOVJREFUGNNjYEAHr//eesCQ86eAge/OBjSpG+wBDHwfgAyuCWgy0QaJ\n",
       "DAwHgAz+BjSZiAtcBgwgg+ofQEV8d+9eAKKDRZgXgGWyoRJVflBGMKuCG1hmqUsEiM+8DmZaMMMF\n",
       "3gKgDN+vB+8NQA4xQMho8u0DynD8Y+BxAMkwIGQYG3qBbuNcwMCfAOTr7AaCCxAZhjhWoAx3AkM9\n",
       "yN1vkfQwPOXbAPbOfJC7uZFlmByAuvkV+A6C+CwOMJlLQOwElGEV4IUEzwqYDIgBtJ2BL2wiRODp\n",
       "dUhgaP0BqudbgBxeZbd3I/MB9+pAMX9TA7AAAAAASUVORK5CYII=\n",
       "\" style=\"display:inline;vertical-align:middle;\" /></a> <a class=\"ProveItLink\" href=\"../__pv_it/demonstrations/1860ae7d59bf1aeb2d1d35c014ea65ace2ff40410/proof.ipynb\" style=\"text-decoration: none\">&nbsp;&#x22A2;&nbsp;&nbsp;</a><a class=\"ProveItLink\" href=\"../__pv_it/demonstrations/39f771e1599763ed0657f0cffd8b85327e0b7c570/expr.ipynb\"><img src=\"data:image/png;base64,iVBORw0KGgoAAAANSUhEUgAAAHIAAABLCAMAAACbdiMqAAAANlBMVEX///+/v7+urq7c3Nx2dnZE\n",
       "RESIiIgiIiLMzMyYmJju7u4QEBCqqqpUVFRmZma6uroyMjIAAABMl2BWAAAAAXRSTlMAQObYZgAA\n",
       "AAlwSFlzAAAOxAAADsQBlSsOGwAAA7pJREFUaN69WlmW4yAMZIZ9R/e/7GDHnQ5Y2EbkDZ/ugESp\n",
       "VEjQjL1Hyez54Nqx5ZHi1M9FXLYY/KTb3i5adNMrZOBrJmOZnyKXLBrI03M4hBWT5bRJU243IfUK\n",
       "d5BNRnEPjVrYJOKvN7fTpF+IpMK+qejuwCFHM8J5bVXlRaWbiVCoOQkIU2TNU1tufTU0kxbDZwvl\n",
       "rQZmEDSTEsGVwWb2NlTgibhi+VVDaeUDbw0NVwwdk9SDrFM0ZCNB7H5TicRZDwu6BeC+FcrHukWB\n",
       "KMDKIZQoOpuouXVwT1KgWTn2DCUzPVW0DibAGucKDIa6mD7tMf90M0C3guNZRQ8X6On5uIQmRyJg\n",
       "KWMv1i3zlFWtfmgA7PhIcqxd04QXLctNhRaraBMf5tht2e40SFk2xggPPlcvY7drQGviDz+MdJ8u\n",
       "P1BZGViOL4Lvx0/qz6M7BVSlQemBXkbNmdid9nv4U98qAKQZLjzQghhq9MoGnt75Ik7VBUwQ3yJa\n",
       "oKSu4wOLyK1ivBwm/Zlxouaho5vMRfWzI2fRMCV+TCok18accLW8bfO6M8nL2d1qklVoZT5MWqTz\n",
       "g2G2pa6zPJksCN83kybVbHF610iLSdJIOlWd3EQ6n0wy3CSzgYW9pcCpkkbhdJs/rtWO5ofG62PI\n",
       "ziSr/UZ8mfyLq/VQO1OTiH86k06OdslcZAewAT9ghhmuBbvYJdNDk8yojUQjk8rz4WmXO5PdTAQd\n",
       "eRBDGTlg7EYKM07EXjj6FDvv4f0plZFJcyE/3a3E2aSLMreMKuCPSW5XIDQvL47d7m8ZEbwsZCt4\n",
       "96d6SUN5rri6LoWnSzx51hkphxVkYDr0oZ0u9uPppErojeBuKamUrwuZZ8V6V0hYND1seFbIEGqf\n",
       "QXoEP3Y5zZq0LTDoLZm7WFfOF5W5YRySHjxEuCjJCS1NU63XBcrn0Nq/GgT91Zbms4ZMo57EfrWN\n",
       "1gtXBRtIhGYvwsqNdabcT6h5lq/ewmTy3d8LI0IP3vfBZpIJlPcS3bY92kz5S7rEEwv8CRBppIv/\n",
       "N5TtjZpT6byGE1YJ/tXLuPSrWYmFsvfpP8NuTTCvhzPHz+xITeef3HKOiVOWprTV4IOspF5T+Y8F\n",
       "y4lLtbtnCt9N8XQJ+ZXZHcFPYN32RVrnMFzp13+/IUEQ9Fsos3UYX+nvpuI9F0EwJxuUsJgOLDyb\n",
       "ujdCxc7EY+UFU+3bLNnM8MGvHEFHB1fLVDfrJn2EaZAcrD5Gp9kKePFdeId2zuns1/+xwMytoTNb\n",
       "H3kmmo5u8R8szSuzPF9uZQAAAABJRU5ErkJggg==\n",
       "\" style=\"display:inline;vertical-align:middle;\" /></a></span>"
      ],
      "text/plain": [
       "{a in Natural, b in Natural} |- (Sum_{j = a}^{b} j) in Natural"
      ]
     },
     "metadata": {},
     "output_type": "display_data"
    }
   ],
   "source": [
    "# Natural\n",
    "sum_a_to_b.deduce_in_number_set(Natural, assumptions=[InSet(a, Natural), InSet(b, Natural)])"
   ]
  },
  {
   "cell_type": "code",
   "execution_count": 19,
   "metadata": {},
   "outputs": [
    {
     "data": {
      "text/html": [
       "<span style=\"font-size:20px;\"><a class=\"ProveItLink\" href=\"../../number_sets/integers/__pv_it/theorems/3491a039698971b62ff4e02bff8d5580af19c47d0/expr.ipynb\"><img src=\"data:image/png;base64,iVBORw0KGgoAAAANSUhEUgAAAD8AAAATBAMAAADVH8ihAAAAMFBMVEX////MzMwyMjKqqqoiIiJm\n",
       "ZmaYmJju7u5EREQQEBC6urqIiIh2dnZUVFTc3NwAAAAqL9KcAAAAAXRSTlMAQObYZgAAAAlwSFlz\n",
       "AAAOxAAADsQBlSsOGwAAAO9JREFUKM9jYMADWBkIAA4yFZT8aCpgOPlzAW4TmrkuMLB/wGPFlQfH\n",
       "GBgmMER0dHZ0JGBTcLmB6QGDAxYTdri4KIDoe9l8CtgULNoOZdzjFdiDpIDvzr4NYFodpvIeQwPH\n",
       "AoSClQ84voNooL1wBaLs7g6wkGSfxsDqAFbAgFDAZmAxAR7eHxhYDoAYki5A0ABRwHCdF66As4Gh\n",
       "fgGIUYFkAkMtuwOMV7+BIR/MYEFWwLihAa7AgOESM8h93BtgQo1AvBGugGMDsysk3pVhQiAGqwKM\n",
       "x3774NuNYFZtVwGYFvoJ1M2ugCUO1rS4YAoDAF06PgLRZpp+AAAAAElFTkSuQmCC\n",
       "\" style=\"display:inline;vertical-align:middle;\" /></a>, <a class=\"ProveItLink\" href=\"../__pv_it/demonstrations/338bea1169aca2a51c9e3cdb908726f9096b30730/expr.ipynb\"><img src=\"data:image/png;base64,iVBORw0KGgoAAAANSUhEUgAAAD0AAAATBAMAAADR6hicAAAAMFBMVEX///+YmJjMzMzc3NyIiIhU\n",
       "VFR2dna6urqqqqpmZmYyMjIiIiIQEBBERETu7u4AAAD7tRWPAAAAAXRSTlMAQObYZgAAAAlwSFlz\n",
       "AAAOxAAADsQBlSsOGwAAAPpJREFUKM9jYMANOBnwA16y5F//vfWAIedPAVSe784GNAU32AMY+D7A\n",
       "9XNNQJOPNkhkYDjAMPfunbt3BRgY+BvQ5CMucBkwbIDrr38AFffdvXsBiA4WYV6AJJ8Nla7ygzKC\n",
       "WRXckOSXukSAKOZ1MPODGS7wFsDl+X49eG8AcqYBQl6Tb98GWPhx/GPgcQDJMyDkGRt6D8ADeQED\n",
       "fwKQ1tkNBBcg8gxxrHB57gSGepAP3yLpZ3jKBw80oPfng3zIjSzP5HABLq/AdxBEszjARC4BsRNc\n",
       "nlWAFxLAK2AiKyCuggK+sIkQxtPrkIDU+gPUy7cAM2LLbu/GFAUAVfdEy4QZ+SEAAAAASUVORK5C\n",
       "YII=\n",
       "\" style=\"display:inline;vertical-align:middle;\" /></a> <a class=\"ProveItLink\" href=\"../__pv_it/demonstrations/df75d0ce1591d2116af04bfad83e4dfeb3bda76b0/proof.ipynb\" style=\"text-decoration: none\">&nbsp;&#x22A2;&nbsp;&nbsp;</a><a class=\"ProveItLink\" href=\"../__pv_it/demonstrations/7f57e6eff51a1cc1a6e2ef317adab56f685391870/expr.ipynb\"><img src=\"data:image/png;base64,iVBORw0KGgoAAAANSUhEUgAAAH4AAABLCAMAAACBSsOkAAAANlBMVEX///+/v7+urq7c3Nx2dnZE\n",
       "RESIiIgiIiLMzMyYmJju7u4QEBCqqqpUVFRmZma6uroyMjIAAABMl2BWAAAAAXRSTlMAQObYZgAA\n",
       "AAlwSFlzAAAOxAAADsQBlSsOGwAAA9tJREFUaN61WkuC4yoM5D3+4n//yw52pxMbhG0imsUsMg2F\n",
       "hKokgRl7j5zY88E1sKUjhqk/F2EpuneT5ji7EB2mV0uFr4MPeX6KXIZuSpqew4tfBZ87402+NU7q\n",
       "VXGHGB/EvcvUIuMRO5y5nSbdopNX2G8qwJ3Tlpx+KD2OqrKm4s3EkldwviBRJqsO2Hy7b0OHt5gP\n",
       "t6O/1eFUBB1eIr5nZdvC7dEWt8D3GH/r0Vv5YOeG7nvMgyaqB6xWdO+HLwT3Q09y7LtCmFwK/MXR\n",
       "P9ZLgute0kVJnJGq+5EUPbYQs34mCbehMt+RqAul0OCPsZvLYKiL6STh4cft+9KsBjyp4MqFhzUt\n",
       "6foT70LBaGgvMPKXoR9/ZTOfjSlYmotyrJnfEee1oDgzx1T3YxV/5EPe3rY7oIuUeYsw4YpLJ/jQ\n",
       "TFcVH4M67MnIg9CKJ6ovPUvhhyiN9bLENofeqbA6Aoonmh00Z2I3wDXwuYWHGujx+RmqJ7oTfEXL\n",
       "m1P1Hkh1uO0fW2NNdBVUmSCTRXRHSV3HwUeBW8V4fsEfrXd95IrKc/gePmXVzg6cBcOUwOAVwuVx\n",
       "PEEt/8+60cDz3G+9wm94MiHwFum2y5DNsensO/iM8GaDN7EyEFp4lOad+H6OtS50iozUwTMcnlnP\n",
       "/Kcti7/wHhWTwfHDtjc469TpD43TryEbeFZ7tuC6jPU/nkmGWh5PRP+vgQc5sp5BYKA7eI8nwqGa\n",
       "aMEurGd6CM+MYvIZvHJ8mKFTA9/MRLwmX4GkjOyKHYs2b2ZM9FakWtr29rx/ivkJvLmQveZGqYeH\n",
       "INM5GnNxr0mQuxjDeH9RQjT/lxDRTUKeRfeq0EVULw5TR/U9NBJBKnVlr29SDqtqz7RvQ4F0vxW6\n",
       "7BrR2+IdNaqYuoRLajK7YsmilLOjWBS0NqedjlPOu/H2IwXenp2H3pTCBYak9ZjpFLkI5bgP5aKV\n",
       "obWI5y6nLpaPQ2v302TpP2oRN9HnxzyLD/tn1xuadD/BqQ12KJYUOsS7JUViDvlmjbb/QL3Ubu8n\n",
       "zGTkUN/z9Lml1GZq7+RLXUGIPV/Ir4mJsERY8J5xuFUFFfv1QFgl+N1UQs41n97D598WWP60wLU2\n",
       "57XQ4Hj9seAl9/MmAcBEpwIxbr3LgPUr3pLcYfHcxeF2G6NwK/OSlzR1kP3dy0fnw/aLtACY78UK\n",
       "ePY5QsTLbjv6ZAGL+zXfEIj3OoiXU7ReCYtpzqJPCODtxWxnzmzVC77azc/JzMSSi2zV2LvmWsbD\n",
       "7JbXDD/tSCgrP96Is93Cwm8ndvfPGZPc2g93zNx6OrG1I82cPqxB/wcOcixBOIN/1wAAAABJRU5E\n",
       "rkJggg==\n",
       "\" style=\"display:inline;vertical-align:middle;\" /></a></span>"
      ],
      "text/plain": [
       "{a in NaturalPos, b in NaturalPos} |- (Sum_{j = a}^{b} j) in NaturalPos"
      ]
     },
     "metadata": {},
     "output_type": "display_data"
    }
   ],
   "source": [
    "# NaturalPos\n",
    "sum_a_to_b.deduce_in_number_set(NaturalPos, assumptions=[InSet(a, NaturalPos), InSet(b, NaturalPos)])"
   ]
  },
  {
   "cell_type": "code",
   "execution_count": 20,
   "metadata": {},
   "outputs": [
    {
     "data": {
      "text/html": [
       "<span style=\"font-size:20px;\"> <a class=\"ProveItLink\" href=\"../__pv_it/demonstrations/e5e3c686ee3340c9a5b167152fd23748512307510/proof.ipynb\" style=\"text-decoration: none\">&nbsp;&#x22A2;&nbsp;&nbsp;</a><a class=\"ProveItLink\" href=\"../__pv_it/demonstrations/e0f38a8fa191fef1af86f2a83e57d66da7f301ba0/expr.ipynb\"><img src=\"data:image/png;base64,iVBORw0KGgoAAAANSUhEUgAAAKIAAAA/BAMAAACRJA61AAAAMFBMVEX///92dnZEREQiIiKqqqpU\n",
       "VFTMzMyYmJgQEBDu7u7c3Ny6uroyMjKIiIhmZmYAAABumYecAAAAAXRSTlMAQObYZgAAAAlwSFlz\n",
       "AAAOxAAADsQBlSsOGwAABExJREFUWMOdWEtoE0EY/ps0j90km6B4UxsUfCJGoqIobUUED4K9iHoQ\n",
       "I4ropS2KB0G0oCBaoVEURNBWEV8HW096UFt8IILaUhAVQVd7EMFHbbW11rrO7Mzs7iSd2ekOJDOb\n",
       "f+abmf///scGALevQNq0V6DStKd+M1JdpE8WGpQQoddvQmcb6adDQg0xlPG5xFE6aL5cVEPUjsjl\n",
       "Br209mP3JzVEWCvfuqFAen0YWtvUEMOmVPyYDYYg3aiGWPlHTboC0h2K134gvUGWjQ7CdkVAWF+Q\n",
       "qbHW4eW0z6qIcZkit0KAZvRLuPUvCGJiWCyLDQVBhBMSj+oPhPhdzNx0NhDiejFzOzOBENvrxMfH\n",
       "pE5antajRJ8moagbO32lRe1z7t4mq0kpoI0IRYOElIPOD3t/qiCmhLP0AeKKlquXj0qx4p+PJGq5\n",
       "lDUIMcanh0776IDw9GOkf2+5CDYxUrXjOwu1mzZY7n2TVj6/kgGD6iNk5Xj5KvR5x/9088ssAJYu\n",
       "rTLEl0fhwoAJIWpkrYVXjIZTxSL+wlmo6oAkTQg1pYnBeIuYvceEJIu3nRZ3TcPjEwkyjrRhFsZo\n",
       "HOsu1XN9CO0RMSHOeFVhHeMY7LUe0R2aGkH702kLWbjvzeft1Lc5hK/WCGknUHT/9SKuK0eM5CCC\n",
       "dPSEhlV6pbtv6KzsTRooHMSzltfDP6D93jVyiJi2aPYUDlFnFYtet60U0fFEu6GTVCSaShEb0OgA\n",
       "jQdkuyRTZzRzmwxa3fD4/bfHfIsBdrDSwEVcgrM/j+gwwbxHEd24EPZGnWaAYhw/G/n8ssP5vO2k\n",
       "Bo6ltNqqIpN35VGzQ2z2Yhmi7nWDZhxViyVn3Ie/7nCIp5wVc0NliKnjwN0aHms8YmUGbgCs5hDD\n",
       "zor7mI/Q4bEMdHqz+gJk69EKHhEZE1FlD6fHVI/rM3V2VeYiRrmIhzgS7b/KIerV377lbF55EOGR\n",
       "W6e+aDtdzfGRywa4XtnI8zGMMkYXro44hp+ZX3RiT0s14lLcQXzBV0OFMp+h9svxiHBrZr6LW8n8\n",
       "OsRn2ZhZFin4ELJQVEuxaAZ9Lr3t3ecJFlyifY2oBDBG6Zlc6sRqeaLxje3UIswKw2XUIW6mj5+2\n",
       "U+xov4WF1A+y3qXOBaViTR8Ulm2/eOroayylYo2uG698JHG2+5ndHi5DnMupIMbGhKIa2z7eukfp\n",
       "fcEYClIIylpSXHYeagyEmBbrpt0MhNggLjvjuUCI78UvNBUjgRDnSKhKaKBNzEDaL4nwGTkqo/jJ\n",
       "KZtV6Chzg0P86UzoUyGPTPutvNVGob2g8Kog45yBs2HiJXvcr4RYJVUyNs35dNGYgdpsNJ6sYJgx\n",
       "qfg1+lxf7TxGlyt4tZzE4R6Sn1nYV/hDpV3+X0EClZnaSIHeWjd1f2pu8JFPRQm0i7n3pZ31voeM\n",
       "HfN7I+sBbQs7WItl+R7xmh8btKUTdOonvjOuTAxQk9nlPxguRu5Uq/XLAAAAAElFTkSuQmCC\n",
       "\" style=\"display:inline;vertical-align:middle;\" /></a></span>"
      ],
      "text/plain": [
       "|- (Sum_{i = 2}^{6} (i + 2)) in Complex"
      ]
     },
     "metadata": {},
     "output_type": "display_data"
    }
   ],
   "source": [
    "sum_2_to_6_i_plus_2.deduce_in_number_set(Complex)"
   ]
  },
  {
   "cell_type": "markdown",
   "metadata": {},
   "source": [
    "### Testing the Sum.geom_sum_reduction() method"
   ]
  },
  {
   "cell_type": "code",
   "execution_count": 21,
   "metadata": {},
   "outputs": [
    {
     "data": {
      "text/html": [
       "<strong id=\"example_geom_sum\">example_geom_sum:</strong> <a class=\"ProveItLink\" href=\"../__pv_it/demonstrations/a0b9bb4392d9d2fb4e4518a007f28ccafe4b95b50/expr.ipynb\"><img src=\"data:image/png;base64,iVBORw0KGgoAAAANSUhEUgAAADEAAAA9BAMAAAD2cJxUAAAAMFBMVEX///9EREQyMjKIiIhmZmZU\n",
       "VFTu7u7MzMwiIiIQEBCqqqqYmJi6urp2dnbc3NwAAACjQrdyAAAAAXRSTlMAQObYZgAAAAlwSFlz\n",
       "AAAOxAAADsQBlSsOGwAAAY1JREFUOMtjYAABvjunFzBgBTzzexlwyBQw4JKpWYZLJi51AS5d7B+w\n",
       "i3MxsP3BLsNfwPcPuwxLAnMAdhm2y3cZhhTQ/48An1Fk1v+HxADbG9P5PxHCeQwMrP8bYDzufkSA\n",
       "Xwbi/q+IQBJAMa7+/wY42w9Fhvk/Ipi5YYzD4ACW/4Giks9FsYDN4BuImfnfAVnmIQPvH74ssLN4\n",
       "/v9CloljYJjJwGgAZt//mYAkMz+BIf5BfjqYzfRfAUkmgoEhvmARC8T78/+ihlg/Q6odagjBUhgi\n",
       "/Fj+T0OW4UBKLf0ooeyIxH7fgMThRk5glg+QOGsZ+OBcnu/I9l9gYIb7rx45I7xwcfGAp9DJKJ75\n",
       "//8TjM3kgCuRCOKSYGlDykcoYCfCybtQ8yjCyVwTUGTew53M5o/iFISTX8WjBjnTJyUw6Jj//z9q\n",
       "UvFHSte/B12uy8MpcxnGyFbAVZAZN+DSzIUmczgAhwwoEzkKAsEGdBloJsJmGjQTYZEBZiLspjFA\n",
       "MxEWPbBMxMB36a8BkjgAAP9/2tMMX+MAAAAASUVORK5CYII=\n",
       "\" style=\"display:inline;vertical-align:middle;\" /></a><br>"
      ],
      "text/plain": [
       "<IPython.core.display.HTML object>"
      ]
     },
     "metadata": {},
     "output_type": "display_data"
    }
   ],
   "source": [
    "example_geom_sum = Sum(i, Exp(two, i), domain=Interval(one, five))"
   ]
  },
  {
   "cell_type": "code",
   "execution_count": 22,
   "metadata": {},
   "outputs": [
    {
     "data": {
      "text/html": [
       "<span style=\"font-size:20px;\"> <a class=\"ProveItLink\" href=\"proofs/gen_finite_geom_sum/thm_proof.ipynb\" style=\"text-decoration: none\">&nbsp;&#x22A2;&nbsp;&nbsp;</a><a class=\"ProveItLink\" href=\"../__pv_it/theorems/63e74e2a5778c90cca7c19090c85e6da1fe406ad0/expr.ipynb\"><img src=\"data:image/png;base64,iVBORw0KGgoAAAANSUhEUgAAAeUAAABLCAMAAAB5j296AAAARVBMVEX///+Dg4Ourq7Ozs6/v782\n",
       "NjYbGxsSEhKIiIgiIiIQEBB2dnbu7u5ERETMzMzc3NwyMjK6urpmZmaYmJiqqqpUVFQAAADaiAxL\n",
       "AAAAAXRSTlMAQObYZgAAAAlwSFlzAAAOxAAADsQBlSsOGwAACRRJREFUeNrtXWu3rCYMte1ti/JQ\n",
       "nv//p1YdR8EEQcfj0MX1w1nrZKls2ZCEkDBN8+gl3HzZ5tvXINOSnKtvWVPKBbG0r+5+GohwVI+X\n",
       "/HaHKJuW5F3UFsMyxDL1tbZfYLkvoTtMx5KS3KvT5dCMYtGVssxAb7DrXMkyBm4cS60s2yEtOfE2\n",
       "Xs5kxrBUyrJwMik54/Q4U44DhmCplOVhSEt0S7Lfx9tyJjOCpU6WDZi4BpnKnTzxUaQYlhEsdbI8\n",
       "tGnJqPrOTKCuoMnc/WYZHe3YXNS86QnN1g7lWGaIpUqWrWNJySgjvWFdLlj3gYsubv4+gKVGlpnj\n",
       "Sclklok5QYB117lq8x/FXUKmh0MsNbKsEY1mELOs1AnipKOPgPddQvXuUkLaQyw1ssyBeuaIwh7N\n",
       "smybfKzuEf8rcAk3BWTaQywVssxcm5TMZrkRbUNPjJ1rKpsRdcJxC1zCKMt7LBWyrIFu1Zi25SNM\n",
       "q/OZIxdVtmrMCcctcAmjLO+xVMiyBQEQ6+Qd33XJy2asoeqEWfZdwijLeywVsty5tOTS+sVd3Lkc\n",
       "8jfDVpdQ8fHqpj8aYXmPpT6WM83yBbKuaoQTHRK6hNG5vMdSH8sGrI2Nu2XjUOXHshkhlglKZ7dL\n",
       "dPl3hy5hnOUdlvpYVsBLUvcsdXX+YBkNMRkJUzM3xObfHbqE7/Z6OjhKDrDUx/IAIiDDPTFokb1i\n",
       "1v3U8WzkK8csh3c36Ho5gaU+ljuwru3cLYFklp0pOTWnXl7wIH2FzYZ2uwS8G07yPCz1sQxdYV8y\n",
       "uMiF21zWB+85MVq61wsVUSz/7jNfKWpmuQczLpAYt+OK9ZLYzkW0cWAN2xOaf07CY+xH7oZYqmPZ\n",
       "gGVTKLEOW1fpHAaHTCebcdnYadTQ++/GsVTHMgEhqp2kxes+VNqBtpm+unGCqZE3ae6/G8dSHcsU\n",
       "rHd2kqnCB/N6FYQtw0WQyiwLYoqQxihtfuBuHMvE8va/0Y+x/Gyj/iC3CQkZacYGoobRiibw5Ogn\n",
       "+SK3D+Zhx7Jao2FD/xjLzzbqrTGdSkm4ywt59iwMOVHXFsRyu2NZvMdy/0SJwMLys436bolKSdjo\n",
       "UudtE3ESKoFyEjlDLLNdHha9Q81zLD/bqO9c0aREjjo7BxVzLFyVumJYDrHMLOvF5DxiVt4sP9qo\n",
       "F18AnELJqO9cTgGkGYLwU+EsN90cUuvokyw/2qjPKUlK5hBYbPR5O0TMkj5Y85TDskFYfu1Mc/Yo\n",
       "y0826nOqk5KXaY4Mv2A/6aBnxzu9oHRrv89yb99/stdjh/Yqi+Vdo+d2DML2TzwLF8Po8hhEOtcO\n",
       "i+4QTea8mLksEZbnGUUPUh0IV6N28jTbkWP8etEuExyJioSNrnswSGK57ThV3M+PCtv309bNtAcb\n",
       "L1iEfhXuaamIaY7vEE3xlGJOGAmxLCwbgrlBgljO5RRKtf3UfTSL5df03GeCr9cv99ebD4L7Xlti\n",
       "+RtAOzZPGWHp9s17cRMrWHTuz6Rkcb2jYenIDtGvTJbdj10xLH+4t6erAfS1tmDs4HlE5LFsl7lq\n",
       "2sRcRhv1E8tXAKN2FKb3dSTevuYavOTiXB7f0Ea1Ib5DtJ/L37TL6FweV63v9SshqidT0Ja8e4xp\n",
       "8ZoYPd7L6xOvPniPhTTLW6N+6vmaWE50YIgDU8x9p3d5lnDTgJdcZpmghXBHO0SiILssMLvc9N0y\n",
       "2Ma1geXNYMbvWbVgb8AHe728PjFnj/J/Y9mjkOW10SD1/J1Yznjg9BgRaX95VnQ+WdGCxTwfe5qw\n",
       "Avdd4ztExXtfY7dsynE0beM/cv12zTQ7YHl94sX5+lia5bXRIPX8nVgutT9fd5Nna399dvQbWLN/\n",
       "yVWWRST4dbRD9D9g2VdhMw16mKfmqAWFkOKA5cbPKGbx7FGEZT8OsVnUxRxvACb9ODHo2UKOPStX\n",
       "nuMFiy3gtEXXy+TTni2c5SndbCRCbJNn8b6amI+7PDFp7H/+5vkaGx0oa2K5B0AaoWccePvbG4V9\n",
       "+QfxgkWY0IGleAzqQs+aD3crxI1HPRq4W+F7ll1Dh1fQYYtK9XTuO4qul70nvJ2msyzPmYyMNn5i\n",
       "+QaAzq+XLT7KgrT13lp2VLDIQUwLShp+aZ9Mf7LzyKwablxua7DzGC6fiKRkXpn2fNV5jI7aM1CB\n",
       "HHsiHBn7TPBDluesi9mB2hLLVwDaWksoH2zExw9XKdPr4wWLFmwqQolCJ1Vyl4p8mEVAbmSZgCyC\n",
       "6PCik/bFowv4YDcZ1gxneTGtJhcAx0x6VmgU5IoAiUbXUOmUHPphJc6dLIdYruZ94d+TM5YRltfU\n",
       "c8lOtx+mrZ/9fEyCr6FMlzGAVDEsh1huZdnIayyvqef6fPvrs4K/r/7YYA3HEvS0RZbDIP/waLc0\n",
       "y0EV3QksV1m+nqt1Tw7n5XdI4AiHEmQN1RvrcuomPq23SrMc3/U8xvK7tmInGdzgX23bvTYCMtzn\n",
       "T+utkiwf7HoeY6mxTqo/kKjYdo/OeTO7jeWTdXEJLPWx3IIjA1on79ESH6ZwZnlfeUG5vvbKVgum\n",
       "pXW35P3LT5Puc1jOrIvbYamPZQK8ZfLhCmh9Df1Zlk/Uxe2w1McynHLynsoX++mRBjTRMyfq4nZY\n",
       "ajwjyCUkDA20Zxj8j5wvazs3HHrPJ+ri2tpPghp7oD+WoOH35Lm3rKD6mT2WClmmwNmid7hfxpXz\n",
       "42F7LBWyLAEd8g6CbEGn3e+x1Hhy8vERjRI5fyvn3NuunEQRgKVGlhWIRHqSpfRcrXsfkzLPOPdW\n",
       "FKSwAZYaWZZIKesq2Zeez8xnnHtLClLYAEuVv07SdUcSjrnYyUyFoaCfGgJYqmSZgMC1J3mVnoca\n",
       "O33urXC0GJIFcsx7hSw30IZukl3p+QI6NVNtOYVwCJY6WaagHzbJrvR8mes2FYYox/dCsNTJMgM6\n",
       "jR1r3JRZJgX9AjOCpdLfbIXbPwcbQhkJhJ0qhmQMS62/st3StGRdTSfPvSUFWWUMS60sG4DCXMfF\n",
       "nC6GZBRLrSwjp6eqyznzlhdDMo6lWpabVqcleZfsytHXOJZvsDxfX195CNAf4iJbrSxnKrcwdXF3\n",
       "4shDhkPP1/d7RvZpSdYHFUQyxPLqbd38B5Zks32UCOGsAAAAAElFTkSuQmCC\n",
       "\" style=\"display:inline;vertical-align:middle;\" /></a></span>"
      ],
      "text/plain": [
       "|- forall_{x in Complex | x != 1} [forall_{j, k in Integer | j <= k} ((Sum_{i = j}^{k} x^{i}) = ((x^{j} - x^{k + 1}) / (1 - x)))]"
      ]
     },
     "metadata": {},
     "output_type": "display_data"
    }
   ],
   "source": [
    "# one of the theorems upon which the geom_sum_reduction() method is based:\n",
    "from proveit.numbers.summation import gen_finite_geom_sum\n",
    "gen_finite_geom_sum"
   ]
  },
  {
   "cell_type": "code",
   "execution_count": 23,
   "metadata": {},
   "outputs": [
    {
     "data": {
      "text/html": [
       "<strong id=\"self\">self:</strong> <a class=\"ProveItLink\" href=\"../__pv_it/demonstrations/a0b9bb4392d9d2fb4e4518a007f28ccafe4b95b50/expr.ipynb\"><img src=\"data:image/png;base64,iVBORw0KGgoAAAANSUhEUgAAADEAAAA9BAMAAAD2cJxUAAAAMFBMVEX///9EREQyMjKIiIhmZmZU\n",
       "VFTu7u7MzMwiIiIQEBCqqqqYmJi6urp2dnbc3NwAAACjQrdyAAAAAXRSTlMAQObYZgAAAAlwSFlz\n",
       "AAAOxAAADsQBlSsOGwAAAY1JREFUOMtjYAABvjunFzBgBTzzexlwyBQw4JKpWYZLJi51AS5d7B+w\n",
       "i3MxsP3BLsNfwPcPuwxLAnMAdhm2y3cZhhTQ/48An1Fk1v+HxADbG9P5PxHCeQwMrP8bYDzufkSA\n",
       "Xwbi/q+IQBJAMa7+/wY42w9Fhvk/Ipi5YYzD4ACW/4Giks9FsYDN4BuImfnfAVnmIQPvH74ssLN4\n",
       "/v9CloljYJjJwGgAZt//mYAkMz+BIf5BfjqYzfRfAUkmgoEhvmARC8T78/+ihlg/Q6odagjBUhgi\n",
       "/Fj+T0OW4UBKLf0ooeyIxH7fgMThRk5glg+QOGsZ+OBcnu/I9l9gYIb7rx45I7xwcfGAp9DJKJ75\n",
       "//8TjM3kgCuRCOKSYGlDykcoYCfCybtQ8yjCyVwTUGTew53M5o/iFISTX8WjBjnTJyUw6Jj//z9q\n",
       "UvFHSte/B12uy8MpcxnGyFbAVZAZN+DSzIUmczgAhwwoEzkKAsEGdBloJsJmGjQTYZEBZiLspjFA\n",
       "MxEWPbBMxMB36a8BkjgAAP9/2tMMX+MAAAAASUVORK5CYII=\n",
       "\" style=\"display:inline;vertical-align:middle;\" /></a><br>"
      ],
      "text/plain": [
       "<IPython.core.display.HTML object>"
      ]
     },
     "metadata": {},
     "output_type": "display_data"
    }
   ],
   "source": [
    "self = example_geom_sum"
   ]
  },
  {
   "cell_type": "code",
   "execution_count": 24,
   "metadata": {},
   "outputs": [
    {
     "data": {
      "text/html": [
       "<span style=\"font-size:20px;\"> <a class=\"ProveItLink\" href=\"../__pv_it/demonstrations/1b4800e08c8184218e124b51b1c1e51ed0a4f2370/proof.ipynb\" style=\"text-decoration: none\">&nbsp;&#x22A2;&nbsp;&nbsp;</a><a class=\"ProveItLink\" href=\"../__pv_it/demonstrations/b937776f4ed298f2b4e3e699cc89a607316c9de50/expr.ipynb\"><img src=\"data:image/png;base64,iVBORw0KGgoAAAANSUhEUgAAAKYAAAA/BAMAAACYz67PAAAAMFBMVEX///92dnZEREQiIiKqqqpU\n",
       "VFTMzMyYmJgQEBDu7u7c3Ny6uroyMjKIiIhmZmYAAABumYecAAAAAXRSTlMAQObYZgAAAAlwSFlz\n",
       "AAAOxAAADsQBlSsOGwAAA+FJREFUWMOlmM9rE0EUx1/StMlumh9/gDXFg3opDYhFEGykCL1V0III\n",
       "2pWePEgC6k1sD4JWhcRbETWpilgPpgctgkhDSxGhmKiIemppD1LQpG3atLFN1/2Z3Z2ZdTPjQLrb\n",
       "NzOfvHnvzXcnCyC338pfGHt7BZDGfQC2Fsip1zflMNb3mZE5lVGvk4Q+d5gJyd3UbiZfpfDOG0zM\n",
       "oLZ0eD1+Gu/tTbEw44Jxi/c2LdCw2r6p11ndEIP0BDbK84cC2SrEkUkVyGbwcdMUzL3gVxfXrluW\n",
       "4SthXJ9Amv3y136rgS9OC3DnqRr9eEw33/tEKhwfKaB8O0SscXoMrm1u9eJP5Z8Bp7JYIRibM+Ab\n",
       "tljOAtziNyEtR4/bdWD6N0nOV6HZmrxkCgYyFQglpHtvxSnwd0l+RqHZOvGUtGLhKITkiLhXnJil\n",
       "DNHchE3shuswKN+E2p2YfQnyVikghpYaBNqWFQFxFInsSaL5MOZ4fVxJDkCraGro9yMJ1stBWd+D\n",
       "Q3LrUiyL9b68XKUeUQv4/XdnRAPBKZF0V0nMq6jBayynrBZpuW64vF6/dSkuB9YJSE8YXlgtx4HX\n",
       "ksmvqbEQjW9ZRKeTKvgCwA9rhsIQSFkmtIhGZQeR2mlZI+zNY8Vi1GJ5Uiwu6c+imnqdFw2SXjt+\n",
       "VVK4MqE4pVzmrMUpiju6U1qw3GIU052HIXUxIqXIu7WEc8ldTHfGezQXKB8frboSTIkxTHc6tHLL\n",
       "0DF9evG5xBFUd7iqKsedE3TMUF0J8juo7nhyqhwPxFiZo2IY0R3uXOY/mfX9ielOSS2uJWVvH3Zm\n",
       "pg0VLG2lyLpTStD5mR421XEB0x2lRQrYNPEfzczkyza6Q2A26mfgto3uaMyG42nkCKYEG92hjafB\n",
       "bFm30x125mjBTndo69NXZ360HdMIc9BUh036fnfbP5M7Bcej9vl8Ctc6WDKMqFvdDejSvIkZ3Nae\n",
       "ekYheVFmEuiYgU2skHrR8VuUTO+qWjtGIT1CH5N8mZLp37AWEn9CRA962pDGmZyqxPk5pc0ckeoy\n",
       "ih4wapRM6YAnZ8qsK+iuCdqfULkZRQMEhFlyLJTWFVo/hxw3cyhKy8w6/k6Lh2mZPkcv5oUGmBFz\n",
       "CF1Vp+EHG0D2J2dNMeRrpuMrMbcbQN3mTMdXGXENLc8KPXPI6uGlL2gpRemZaSStPejPjgQ9Mzhs\n",
       "HF9JzAjL6xA5SdLxNbhPagcwJldjYMJ36TPeY+dnMMrCbJJT3mHHzE6wMP3SUVk6vtqsvZ/tndUe\n",
       "6SiTWyD76R1hY7oLoB9fAcbybea+5wIbk+uy73vP+L4Ontl/HUOG/gIgrWSYwA8tzAAAAABJRU5E\n",
       "rkJggg==\n",
       "\" style=\"display:inline;vertical-align:middle;\" /></a></span>"
      ],
      "text/plain": [
       "|- (Sum_{i = 1}^{5} 2^{i}) = ((2 - 2^{6}) / (-1))"
      ]
     },
     "metadata": {},
     "output_type": "display_data"
    }
   ],
   "source": [
    "example_geom_sum.geom_sum_reduction()"
   ]
  },
  {
   "cell_type": "markdown",
   "metadata": {},
   "source": [
    "### Testing the Sum.shifting() method"
   ]
  },
  {
   "cell_type": "code",
   "execution_count": 25,
   "metadata": {},
   "outputs": [
    {
     "data": {
      "text/html": [
       "<span style=\"font-size:20px;\"> <a class=\"ProveItLink\" href=\"../__pv_it/demonstrations/aae87dcf41f5d92f11d20705cf731f87821595c60/proof.ipynb\" style=\"text-decoration: none\">&nbsp;&#x22A2;&nbsp;&nbsp;</a><a class=\"ProveItLink\" href=\"../__pv_it/demonstrations/0a034c6f998c83831e6219948879fe683e011c920/expr.ipynb\"><img src=\"data:image/png;base64,iVBORw0KGgoAAAANSUhEUgAAAQ0AAABABAMAAADyjT89AAAAMFBMVEX///92dnZEREQiIiKqqqpU\n",
       "VFTMzMyYmJgQEBDu7u7c3Ny6uroyMjKIiIhmZmYAAABumYecAAAAAXRSTlMAQObYZgAAAAlwSFlz\n",
       "AAAOxAAADsQBlSsOGwAABvlJREFUaN61WV9oHEUYn/t/u3e3F5C8GXMWUREkp9HSIvZOilCwkrxI\n",
       "64PkRAn44h1asYI0gYo21npntRJq6x21+Be9vNmXkmApRajmEINVpInNQ1Viz5o010ti1pmdmd2Z\n",
       "u5nbuQUXcrud2fn2N9+f3/fNVwD+p0v3sugvcu/7Sen1E6UOk0YN3+4YHVWRpX3rPCdm8D2eyyvh\n",
       "SKQ6TP6Kb37T3FQS9oPzOF3B99tATE1/t8unYmtELQAsKMny99iqeYM8HD5dUsMxmZVPFah/+NSE\n",
       "aa/ZFiVm0a4/d1UNR3BCOrVkPz2m6Jy7KN58jmyhAcoVtbU7ZBPhVXufKUUcAWq/83RkFSQLamuH\n",
       "ZHjjw/Qp0qOII7jG3wF4CCSn1NbGU64A4wVV1viG6MWWeQA8o7qHVcnE/fZTUhnHEPaLvO38ib4/\n",
       "VNe+LXGPFcfsOVVZUewgI14YuC4eDv3tQZZhLdI2veCYFmu9vOBBVqxh+fWqFxzRGeHwWM6LsLcs\n",
       "XvWiSmCsCYcHPOXmOgqyZMrL0mBDOPyPJxxDyMjTPV6W6jeElr7uCUcVkV8dUVfcZK6aytpDQmut\n",
       "o99ZRta/Ss42jlahNBM0ibceP7vXHFdZOyDKpvGmpWYTe6v2xVzxplLqR8uWMYks26MvrqisnRel\n",
       "/mTaIhEzbSeZTFalroJf1LFrBUw7QYErSr4lYooq9vmM4zyGShQEN/EfImTTCQCj0qHQpcP5lBxc\n",
       "3nRY7k/rV5KeyXAY6iJBPGnedN61pPwoIT/ixeW0yFh4MmE67BKxBiTWOUtKFegUxgqta3nBQRjO\n",
       "iRbdf7V0JwCkpE+K6K9OvjewzI8/Av8ut6bE7fADRG8m/D4JFK3I55kTyGl4atFToH8KxHGgBJqi\n",
       "ICK0PmlyO9BQEriPf/XYEhJADg2ZEohTFU6bnPLYSvVrkkwrKNIj+BNxEbHPEtvGTC7mDCYpxuhz\n",
       "omlVPHRdlO7LZ3LFL0sijxO6aYIQ/Dp+zb8uwFGkpNJ/k6WXKGvvGosjil8bmGLsPLvBvj7TjiOU\n",
       "BiFoxQv4HyKWMW1CM9n1u6U4SPE4kmVwTJqMOxjw+eRVHgfyCvh2rwIOrchmmt/gwOWCCIdvuB2H\n",
       "ze20yu0504YjD6W8ioESvlkcRNeDLThsbrcuqEFfbFyEI4LVVi+AshN/dcaogSwIZ5facKDv7eJw\n",
       "cHHh4DBYb3sAgGfpYY3HERy3cTgOGWAybXQKaOAI2fAhumGLpfFZ3CfIpBqT1TLM/GEASlEk2xgc\n",
       "3HZwcHDYxhHGWuivsTh0hn0gDhBsturjJfRzRglHNc3hAEMlkT6ItXgciTcBaxd4NivxOCDHfg7A\n",
       "Tg4H6x8sjksVzi7gvCa0S5riYPh5mnEtP3y9PNXD43gagJ8BeEHqH4yfxtjq+14Icd0n9NMU9Q8H\n",
       "R5iNRBRQeb3A4dB3XLuWtqLQHUeeJede5AiftODwrRF6aMUxydaDYfjB0Mu8fwRgnTeDTsEK/HGE\n",
       "HUan1T0t/BHau7EHipyi/BG1cXzPidzazqdEK2k5jqJNP1yeY4+YQa76/QhQHHbe9POFzYH2PMcl\n",
       "Lb/o+JWhBLSFG44sCPIcm01hnrblLTokhmzrl3U4TpE9rnXI+8Z2Z//o5x7Z6YPsPVMhpT7E7ARt\n",
       "JNupnUNkRoV1EGmf7Hc2sQ/9HJUV6hXbnolGW9Bi4v5SUluTpUnR6WK+0Bq0mLh1yZHoF3KHvBPB\n",
       "iVF33O5DpQZAVVSfjuEwrNpBq9VVGgCIyGM3+KDVHzWVGgDTw9JBJ2hPj5gqDQCEQcPVz+xF6zq3\n",
       "DXJEWgXHmEjVZSupxjewsMGiaS6ryIqgHJHBaZq5lBpbddFGA5bz1hlZDaUmxiptPnR/zXbRFXHt\n",
       "PiL4YwVPa4UKjzQ8ybKOxVUvLS0QFnY6dE+9NpBHYRZNe1maEAfVQU845pGv+ZpelvrFTZL+khdh\n",
       "d1u6xIWV1p27lofF7Iaj+XhXsjRMYRdxWUL54J3eJ1XoQ8xPcVyV91F/2TenwGOkczrGa2IBLCrg\n",
       "OCcRyQduqCeh0OSKYw8t86f6dVB134MuCVCND6NwzqcQBVXMHAaCHJujo6+o4PDJmr+/W+0Vx3kC\n",
       "CuzUT/aAHPVksmRsgddd8PkWBTetdZjQak1wBQkrgMR3Cm5KT0KX4N9nO7lGjdsldSHkD/p7jjGO\n",
       "ujdjDfp2oIbPGLTwc+cAfV069TA5/NBNuRcRVfp/YOi/XLVmjthFX9BdqSQ0LK9L4OLy+8Qukznd\n",
       "PeM8YT/divouNM2cGn3eVSH75W/4IIPsNqimS5EJV/aYYA+R2lNUCbB4cTXL6x0moYGP0boz3Dfn\n",
       "qttPnejUtnZZL3QKxndz3Qm7wDx/3N3SDzoqqzscGvbS/wDuCTpBTgTQGQAAAABJRU5ErkJggg==\n",
       "\" style=\"display:inline;vertical-align:middle;\" /></a></span>"
      ],
      "text/plain": [
       "|- (Sum_{i = 2}^{6} (i + 2)) = (Sum_{i = 3}^{7} (i + 1))"
      ]
     },
     "metadata": {},
     "output_type": "display_data"
    }
   ],
   "source": [
    "sum_2_to_6_i_plus_2.shifting(one)"
   ]
  },
  {
   "cell_type": "code",
   "execution_count": 26,
   "metadata": {},
   "outputs": [
    {
     "data": {
      "text/html": [
       "<span style=\"font-size:20px;\"> <a class=\"ProveItLink\" href=\"../__pv_it/demonstrations/ac9f362f633ade0484f69816f4a3ff5082337b360/proof.ipynb\" style=\"text-decoration: none\">&nbsp;&#x22A2;&nbsp;&nbsp;</a><a class=\"ProveItLink\" href=\"../__pv_it/demonstrations/4f380969e43f7052ae08f502bdab20b8b1a2d9e80/expr.ipynb\"><img src=\"data:image/png;base64,iVBORw0KGgoAAAANSUhEUgAAAVMAAAA/BAMAAACvJDbSAAAAMFBMVEX///92dnZEREQiIiKqqqpU\n",
       "VFTMzMyYmJgQEBDu7u7c3Ny6uroyMjKIiIhmZmYAAABumYecAAAAAXRSTlMAQObYZgAAAAlwSFlz\n",
       "AAAOxAAADsQBlSsOGwAAB3VJREFUaN61WmtoHFUUvrub7O5MdmcjUn9ZE/Kj1ULparRURNtShAqV\n",
       "LEhpFUpXKgV/aBZFRJAmWMHWKlkflVJsd23FF9jNP4tQElpqEUqzvvCBtmvzoxZiktpHuknT8T5n\n",
       "7r1zZ/fu7uyFm5mcmXO+b+6ce+65ZwcA1P4FpC39Feg04/saF60yPoT+yrG7XwetNR4uOU6Oieyg\n",
       "nvKPNa79SQ7fRWfh3wrsL/zUIlUebqxIjveALj3dcLfvpa55MqgVMAoPveh8Q6tUXTjjLXqy79O8\n",
       "5it50/fSAfLe498+AQKj6sJZ9P0bV56/pKm80feZpsihcNfhXGBUXbjBLDmac6BQ1NONVHwuRG+Q\n",
       "YylnzAdH1YE7zSQ3QCqnp9sx73MhkSHHVBbMWX19b/QtD4Iqg3NhHwGpUU3lkz7yAfpaIqNgIbhR\n",
       "ZXCRXibYBXbo6g5k1fIH6DFWiaYDpErhBtc58XXpZV3duNpZo9fY2Q/n85TqJxNLW6ZK4bY3o2vN\n",
       "KsWdkrgXBNMInHG7Gd2uOaW4IA12JSCqBC52oynld5TSoSxoT8Nw4dmmdGeUEXhVm5gSuFRz/jSg\n",
       "jMD/tYsqhhvrbkq3lFG51JV2UcVwMyjqJ2yulbXCx7Bqoi44q1bDBjXgJlD867Dp5Dp4Yqs9rJWY\n",
       "VVXLqiNs3KAG3FUSXK860pev6egmVXel0s5pwwbrw5lkJkRs1/cuamUQqnBccqdowwbrw1HIqO3G\n",
       "dAvHIVOtw8RR1WQfcEO+1yBuRdoVrVhLiuCSi+T8gu3eiuPQzz7rBp0jxlXFxQvcBPIYxO9xHemq\n",
       "dqKWFMFZ1JHCdloccRTDzotqx6aWAcA2tbYqUHMsZIO4rac9Ka240YehTI7U5vTJrCOFcGE6U40R\n",
       "0fk+Rn/uF1V7Qc8oSNDNw1rFnmUVt67KBrFsnHQQEYP5/ik0weUt+xEQWnCkEC7BEusxW3gx/C7r\n",
       "G5o2FVF4i9EBmVD4liCTDGKnzZHuneBVnC5TH6N3PAPAHkcKTcdZKAzZe3llPhY+ScNwFXTCB6O3\n",
       "rVJsGEb4kZYMYgu0q6nGqXZH2bG2vcikEC7lZCsTt3hXHfdS7UyDTuguZ2jgVMwO0X8Fg7htol1N\n",
       "NZETqT4FQbJMCuFcqgdszoEseG6czwlUkY/Bu5foUhUM4vY37YcuqaiGMiJV5KGOVKDqrIWAPmGo\n",
       "a1imOgit0BLUDHmOyX7UHlJRFQzidob27uMqqrFxmWp00ZFCuIKbrs7cdF0tAsfsOVbLcKkiShsF\n",
       "qsIElwIYbxC3B0mPrptSUe0YlqlGMo4UUR3m1kJ35ONw0uTjZTJse9iwWWjhpCW4Hm++ZNyUKg1y\n",
       "TrWPdAO8i+4+hV9I1qGKC3JWf/+a3f39GWdFjs4yOI6qyS1AiCoYyEuj+gr6c1ybqimvaJQq6Kiq\n",
       "RrVLHtVYxpWKVJNvA8EBwGlDpApXsK+cbT2lyvuqTJU3yDsASGTyKgdIS1TXA7PIpBDOnVZgjFtr\n",
       "wvB2YyEkUn0WgN8BeMnXV+XFdkzeFK6kvTDarZpWvSLVaDdI5pkUwrlUo3xaiUJEdPZzgar52PR0\n",
       "mkQbLapRT566hPZBU1IOzdMAyVM9Oj096UgFqgd458NlnC1iXI3Avcc4qmzpxlWPN++gvfNVqdKx\n",
       "9dYWXOcSqK617VuOFMLFHarnBO3V3tWKjm3an+qI8N85b/ExS7q6HQWeJcCVQrgIm4xhcZO9y5uu\n",
       "uCmHnEU5iws/W8LeXTtKdWK+FZdLUroiSCEcSwLBpAuDxivsVxQ+wmgVayeBskHcVtCu3F/01pJC\n",
       "OLYfjrmBJYYsG36VjBXKl02nGpdtyQZxe5925aa0WEsK4ZJznsBCVs6vfbaOzOBN1YYlp4xUG90x\n",
       "KpOuan/UlEK4GCmImG5gOaxVGjRVe6shN1w2bLA+XNd1MbCYj9tapUGqJ8X8jDdS6RqsD2eQ/Hfi\n",
       "LG6n1sDYmdbRjS2qyqtuQt6wQQ24tTgC8SUmrV9ZLNVQRZwg3bhBDbiZYlO6CVVZ1ppvVyUQww01\n",
       "98wp1VuNzbWLKoYrVZrSHVSVZc3b7aKK4eLNOf0F5VK+u11UMVyo2pTuvUppT75NVDGcSaKO0djs\n",
       "Mq4rxSUcTQ8GzpTCnSXJLQvZ7y15WifOqcN6AgdW9uufccdmNsotfhVC4YbE8ayASZ3gofbwmBCt\n",
       "LGClQSBfhVC4gjiXF0ApW1+3pA5xhvATS2rURKOBc7TWfhOmcBbas3b9wqSvaVHt8ZH/g6q3LBOI\n",
       "5YOiSuEMNK8OpfJWH2zL4fmdGm6+6HOhUAZGuQouIluolhTML+0O3G+wf7lBqCDXXZL9gnFyGJgf\n",
       "uhd35AOh6sBFynR7TnckGrGx5Ps1xqOkhkBXr/tAIF+FOHDo0yijmqUOYFbM+iF2s++VsSIofMQc\n",
       "4BiqxgQwqi7c3aj0y1KBIztfrDussb2+l0LjYJPFBnXZzstBUOXg4BsztrGhHLHturpf1IgRK8F+\n",
       "th+K2/YsCOCrEA7OWN2g7pka1z7wPEZvq8sqD/dZg7Gj1idOpodqpUWmFO5//buDJFdVXWkAAAAA\n",
       "SUVORK5CYII=\n",
       "\" style=\"display:inline;vertical-align:middle;\" /></a></span>"
      ],
      "text/plain": [
       "|- (Sum_{i = 2}^{6} (i + 2)) = (Sum_{i = 2 + 1}^{6 + 1} ((i - 1) + 2))"
      ]
     },
     "metadata": {},
     "output_type": "display_data"
    }
   ],
   "source": [
    "sum_2_to_6_i_plus_2.shifting(one, auto_simplify=False)"
   ]
  },
  {
   "cell_type": "code",
   "execution_count": 27,
   "metadata": {},
   "outputs": [
    {
     "data": {
      "text/html": [
       "<span style=\"font-size:20px;\"> <a class=\"ProveItLink\" href=\"../__pv_it/demonstrations/950d2b88928ac9d8ac84ff394d7cb2ca84f3421d0/proof.ipynb\" style=\"text-decoration: none\">&nbsp;&#x22A2;&nbsp;&nbsp;</a><a class=\"ProveItLink\" href=\"../__pv_it/demonstrations/9572c59b688dcdfe761db94abdd6c2eec350f7af0/expr.ipynb\"><img src=\"data:image/png;base64,iVBORw0KGgoAAAANSUhEUgAAAQ0AAAA/BAMAAAAI+YApAAAAMFBMVEX///92dnZEREQiIiKqqqpU\n",
       "VFTMzMyYmJgQEBDu7u7c3Ny6uroyMjKIiIhmZmYAAABumYecAAAAAXRSTlMAQObYZgAAAAlwSFlz\n",
       "AAAOxAAADsQBlSsOGwAABsFJREFUaN6dWV1oHEUcn/vI3c3e3V586FtLYh+sCpLTarGIXqRU+lBJ\n",
       "fAjtiyZQEXy68wPsgzYBpbbWeodajbX1DhU/0QsVaV9KgiEWoZggFovYpjYPUYmcNW3SS2LHmZ2Z\n",
       "3ZnrzO3sDuwHMzv//e3/4/ef+S8ApP3tnEF2QycwaccqbQbtGXJ+d4Ievg3+4N1n2YTHwHYjHNnu\n",
       "NoO/kVPiQt45DNpP3u14jV6XQLViBORW/VB6xbnE8/Twb1HXBvBVerVWQG7MCMdor36oFBAHfMW1\n",
       "KLfjIVAsGeGIH9QOLYCAOMAOboPiELs58d5wr9FU8JBuILEUGEfsEruZclX0SK5mhqNP91ymPzCO\n",
       "+Ip8BeBp8I0ZDJDp9gEYAAf4junFlbkJfG+II76kGbgHBMfRR/2i6PrEyWeGDHGANzTucZWF3vor\n",
       "M+QwkpWiDjIIQrSGurvjnxCybGcSvBEGx7g6wKuXQshKL5NzcikMjpQ6dwwPhRH2usOrYVQJ7BVl\n",
       "dw8IZWQSZLnuMFPjy8ruf0Ph6CNGHu8MM9W6prT0lVA46oT8GiS1ZZDQjKLtgNJaq+Q8Lcj6z8jZ\n",
       "RsgskmbiiHnr0dO70YjJ3B7VCiHTdNSMqLfCL8+VrxulfjJtkZLIotv73FWTubOqjJhzGLQDuUSa\n",
       "LJgkzix+o0VdK4b63e7LRr6lYoo69fmC5zy2SRTEb9CDEDLyAsB2cpWlcVC+WOjWgysij+X+cs6a\n",
       "9My6E1gXWeZJs8h71pHys4b8mBdXVUlslg5mkccuSadDY53TbL2BncJm3hBFsuA4Dudsq+73YOf8\n",
       "hbmCiv4a7H09i3L/w/i42JoSt+IXML0h/H4WKLAs55ljxGlkaoFPkNjK0ECJNVVBxGh9FElfAEkS\n",
       "uFt+9MgCEcA2DYUKyHAVjiNJefPC/UlX7xhDkr4ioyL2aWbbNJJizlYlxSzBsc+dl+LfFUHS4lck\n",
       "kUdFHIA+Fl1VyC5zUum6LtJLCuhwpOhjPWOCnafXRPeY0OI4Q1caKpZBLqEhcf5OLY4M1dRgr4Bj\n",
       "FAnuYOP74/NKHOsMcMCymGl+xx0XSyockf6bcbjcDhjQzlNKHC9SoIxv5jaTdl8LDpfbnYY1GEmP\n",
       "qHAkqdoaJVD14q8hGDXWCxK9C0ocOyQcUlx4OGzR2+4F4El7QoUjPuLi8HDGhEybGgMQHGYffIB/\n",
       "sIOjSN1akUmhkNUKwvghACopIhtOOtobcnEkqBa6ZkQclsA+GAeIN5X6OGWEo56XcIC+ikofzFoy\n",
       "juxrQLQL3ptVVDi2SThE/xBxnK9JdgFTUGmXPMch8PO44FpRrMbqWKcKx7Na/xD8NC2uvu/CEFcj\n",
       "Sj/t5v7h4UiIkUgCqmiVWnB01WgU+uMoiuS8jjjCpy3PRlYYPbTiGBXXgwmssI4XWvxjoDyFkT1g\n",
       "wh+HpfSIj10t/NGxe20XNv8Y54+Ui+NH6bktKj51vDmvx1F26UfKczHtruYjwHG4eTMqL2z2qfKc\n",
       "kLSiqu1XgQfFRqk7qd3lzbt52pU35wUWsW1UV+H4kH3jSpu8b2/1EhU53anbfbBvL9TYUh9j9oI2\n",
       "SXBA3cKSyUwp10GsvLbX+4jnyelN3UK95tozu3xT0FLi/kqztmZTc6rdxWypNWgpcVuaLdGv7Ip5\n",
       "J0kTo+W53QdGBYC6an06TMOw7gYtbJgUAAiRp6/JQWttR0YFgPF+bacXtB8PIpMCAMEA6epn+qzT\n",
       "Ju/He0GjctKwStVVJ6lm1qiwzWWEFk1kJUmOKNA0LTSjGmpD9aExx3kbgqxloyLGEi8+BG/TAaoi\n",
       "vtVHAn+4FGquUuHJ5VCynG1xPUxJCySUlQ4rVK0NFEmYpfJhpmbVQfVyKByzxNcizTBTo+oiSVcl\n",
       "jLDbHV3ShRUM5q7VfjW70Wg+GkgWpBR2li5LOB9EjH6OaQqUGboq38DfcMuAgYJY5XRY1sRL4IQB\n",
       "jkmNSDlwbWAbeF+GPlOVv38/MPj5YWkCFMphlBuzDJJEnTKHTVwufY6/oQlS/jWtiK74+4dTXuHO\n",
       "k6yY4Ohi30Ac9XiuYm/EbVOiCWL+zFadaTMAZ5rgMhGG5UT87QL5Tug8Pj7fxgkK68O/gDqn5RWs\n",
       "XOvtvFRB8ssu/OnYDN1jcLvkfO1irWqHHmSbH/bgHQbuwf+Rkl+usDlE7WLkpx39+nUJnlx9h9vl\n",
       "a/CFL44B9249qbvwNHMBfOs7da9e2xHMIDttro7bnvrTlz0OiptI+HjN5THfqdb+NoPYwEf4ujOF\n",
       "kO9flc88RoRbAq4X2gXUW0PBhJ0R7j8JNvX9tsoKhgNSL/0fQ+01CncKq4MAAAAASUVORK5CYII=\n",
       "\" style=\"display:inline;vertical-align:middle;\" /></a></span>"
      ],
      "text/plain": [
       "|- (Sum_{i = 0}^{9} (i + 1)) = (Sum_{i = 2}^{11} (i - 1))"
      ]
     },
     "metadata": {},
     "output_type": "display_data"
    }
   ],
   "source": [
    "sum_01.shifting(two)"
   ]
  },
  {
   "cell_type": "code",
   "execution_count": 28,
   "metadata": {},
   "outputs": [
    {
     "data": {
      "text/html": [
       "<span style=\"font-size:20px;\"><a class=\"ProveItLink\" href=\"../../number_sets/integers/__pv_it/theorems/27094ede24067904bb8353fa305df8461a3a4be40/expr.ipynb\"><img src=\"data:image/png;base64,iVBORw0KGgoAAAANSUhEUgAAADMAAAAQBAMAAABJt1qBAAAAMFBMVEX////MzMwyMjKqqqoiIiJm\n",
       "ZmaYmJju7u5EREQQEBC6urqIiIh2dnZUVFTc3NwAAAAqL9KcAAAAAXRSTlMAQObYZgAAAAlwSFlz\n",
       "AAAOxAAADsQBlSsOGwAAAN5JREFUGNNjYMAAJT+aChhO/lzAgAU0c11gYP+ATYbhyoNjDAwTsEpd\n",
       "bmB6wOCAIrTDxUUBRN/L5lNAlVq0Hcq4xyuwByzFd2ffBpAAnzpMzT2GBo4FIKmVDzi+gwSA5sOl\n",
       "RNndgVLs0xhYweYyMSCk2AwsgC5k/cDAcgAkIOkCBA0QKYbrvEApzgaGerDHK5B0MdSyA02q38CQ\n",
       "DxZgQZZi3ADUX2/AcIkZ5ALuDTCpRiDeCJTi2MDsygoWUYZJgRisQM+z3z74diNYpLarAEwL/QTq\n",
       "YFdACag1LS7IAgCEuzrfdn2YkQAAAABJRU5ErkJggg==\n",
       "\" style=\"display:inline;vertical-align:middle;\" /></a>, <a class=\"ProveItLink\" href=\"../__pv_it/demonstrations/5d56aa038eb34c97b005be8161434236efec38e90/expr.ipynb\"><img src=\"data:image/png;base64,iVBORw0KGgoAAAANSUhEUgAAADEAAAAQBAMAAABNQoq8AAAAMFBMVEX///+YmJjMzMzc3NyIiIhU\n",
       "VFR2dna6urqqqqpmZmYyMjIiIiIQEBBERETu7u4AAAD7tRWPAAAAAXRSTlMAQObYZgAAAAlwSFlz\n",
       "AAAOxAAADsQBlSsOGwAAAOVJREFUGNNjYEAHr//eesCQ86eAge/OBjSpG+wBDHwfgAyuCWgy0QaJ\n",
       "DAwHgAz+BjSZiAtcBgwgg+ofQEV8d+9eAKKDRZgXgGWyoRJVflBGMKuCG1hmqUsEiM+8DmZaMMMF\n",
       "3gKgDN+vB+8NQA4xQMho8u0DynD8Y+BxAMkwIGQYG3qBbuNcwMCfAOTr7AaCCxAZhjhWoAx3AkM9\n",
       "yN1vkfQwPOXbAPbOfJC7uZFlmByAuvkV+A6C+CwOMJlLQOwElGEV4IUEzwqYDIgBtJ2BL2wiRODp\n",
       "dUhgaP0BqudbgBxeZbd3I/MB9+pAMX9TA7AAAAAASUVORK5CYII=\n",
       "\" style=\"display:inline;vertical-align:middle;\" /></a> <a class=\"ProveItLink\" href=\"../__pv_it/demonstrations/0a84f614026ad9302ca2ac42b0ec38d65d3070140/proof.ipynb\" style=\"text-decoration: none\">&nbsp;&#x22A2;&nbsp;&nbsp;</a><a class=\"ProveItLink\" href=\"../__pv_it/demonstrations/ee64c8c35bb21112d20b3bd831dbed6740aa98f30/expr.ipynb\"><img src=\"data:image/png;base64,iVBORw0KGgoAAAANSUhEUgAAAPgAAABLCAMAAABqUbriAAAANlBMVEX///+/v7+urq7c3Nx2dnZE\n",
       "RESIiIgiIiLMzMyYmJju7u4QEBCqqqpUVFRmZma6uroyMjIAAABMl2BWAAAAAXRSTlMAQObYZgAA\n",
       "AAlwSFlzAAAOxAAADsQBlSsOGwAABmFJREFUeNrNXNuWrCgMdYab3OH/f3bUsqqQe0Cnmoez1rF7\n",
       "uXck2QkBelk+w9kFMBATy/CAQd01CpSNhr0G62EGRi8/GVnKSkJnUPJBfDjUXSNDWcDNsB4NoYvh\n",
       "LzY9MpS1g79GkyH0Eai7RkJ59QNyg7wawB6Cuk3fYsounYXVNSeUsBFF74NCXFG93m55RFnlZkHj\n",
       "9uRRuLI1oEzwiMrbDY8ou9zUyfb3JnBmLaj33K/bI8zud/YL5ezMbQ+pFq3pU3NfPIUKnZ49IP8X\n",
       "ytpnDKRbnUNN4zUeqtBNqK/h1NHlgRFQFj4nY2T73Nw17YDpTxsq+LkgT1geUOZZh93jrllbWo9B\n",
       "qFUoQ7Yh93/4OwTul/WQMsm53+J3Rs0Q9jB5a0ORd3m37ln3iRrvQ1n4rHhuccdJhyUryNObUOT7\n",
       "bOGPFPUfyjzvrquhHSFGQb7eAfVJZ3hTevSEun0o65kacgXpegcUWZ4eH8rST0WMB7hjB5R53PA3\n",
       "5ULcdVdiAH+ZhLprnJSVn/IuA6jXJ6HuGidlA0zFiV4RACL+C4aflN3QqjqQCgnwMfUXDD8py7ny\n",
       "SPh+bZRPVGLDlENZdr4waE0ju60pZIAR1ElZP8pCH6pPZIZAlmrpa+7Muv0XFZxjBHVqHJTVJcVo\n",
       "n8s4vGac654YVcpmA6iT+YzuBZy7fgyfW5EZUqnGeqWaFqs8GCq4kEU5yviajtbN7XJLIoPKOap3\n",
       "XwQXMx8IlYL9wNIMZR3xphuHHFzIayUiNKe3WtflT9SD+g4YnOeRmWiMDTmKNMqjGXD7Is3Eq7Zm\n",
       "YUnd5S29dWgCBUM9hc8VeKS/aZZPi82JJabsYjZik1PISoF2i6+rvLcb1fB+YmrP2cfH4SahzBJt\n",
       "spvbAcKId1cwrCaDvaj9Kc7K3c3PQLy0NA7KMmWDtwwqHjBcVvW/D1UB27rqFE3HU8NprpQqv19Q\n",
       "qqPyo9twWo+EDpk0uMQjP+vv1vxla1y9DOfZgMOVTsFlnzcy3LBg6MjwanxWUT9fh5d45LIk1e/t\n",
       "t0uj/KCcTaBJERkIw5Z1LsFou2fcN5qmFdSvTqgSj9I7X7+jZEw5LymmGHBif5m4Fh+i13DVWq83\n",
       "w1zaHA/hAjdbIzcTL5YxZe//LRSRxYA0l4z7D8Dwf5u63yr8pS3xSB19fRUI6iXxMeXCNKBKPcHw\n",
       "Up7xSoy38xVqVjFMlXgUFsGn4YqlM55lQyUqs7OR4ctNrl5DfVd4tMQjdQ4duPplb2Qtqfoe/msl\n",
       "cceVR3c6a6iwbfc0grTEG7icB3nc4Jhyls1am5voAM19hq8dKr2yEo/MdzTmXKRsYWFjyiybx2sS\n",
       "E/3QAkrWRh7v6Wh8RVsCOlOIJZRzDRRXXC5otXmYiDJl/yKlXrl1LVJey40MD8DS5qBM0mqJkJoz\n",
       "MhWHfP+ytCbDpLM/T1CeR3XCSUpZJ6tBkz3r+oIx1NjuhlLaiKjMaQ31GhEkz6P1sWLKSeeIZ1MK\n",
       "V/CGEqRJBUBF4K4zRRnKMe98SlGyYk5v26LyicCoU+OgzK+emj2mKUy1adQ7A7wYFHDUqXFQthdR\n",
       "zqQUpHR11dS/IWZL+j+AOjUOytftDeddOBiTr80cVitLeumVdlJGUKfGi3LY1zWlXSzeWgt0Fuuo\n",
       "sBoFo06NF2U2d4waAXa42C9PbCeU9dyHtYDTP9rzv2D4SZnOaSfkvBf15i8YflK2fuqqhAb04Ceh\n",
       "7hon5eRIAyyHMMBaYRLqrvGmzCKtZbBDmhIEOQJ18y2ND2U8IznKQy7PwaAeuqXxoWy9/n9CHAr1\n",
       "0C2NL+XwoKWgJrFEYE4xKhVBwJoJAPXQLY0vBxMUnebYljuOzJPzyLxgaFv5o0JnAuYtIKhnbmkE\n",
       "lIMz+0IsOGlMbA9WWUqJsHMZIKhnbmmElGVoloudat+8KG1MOqjmdEI9eEsjpEzDGnr3tND/xP6A\n",
       "cCGyboPB37sf6pFbGlfKQaSmTi33uLNcZAUSfHcCAPXILY0rZfz9X+rU1mwFBObZUgCeCAFQT9zS\n",
       "iCiL7/w7DvFbNIDcDfXE4faYMn3Ng7MrRK2kGYLuhXpiKZdQfm25GmoE2ATwGmEA6r4JF0kBi+BO\n",
       "Oya0yqPlRyNH2YAjSo/GoPnZzZQsZWg1bMcTDPtRBypPeQUawsYbh+uP/h5KgbIFhZ6YaZjan0T5\n",
       "hfJ/HzFYCTp1BFEAAAAASUVORK5CYII=\n",
       "\" style=\"display:inline;vertical-align:middle;\" /></a></span>"
      ],
      "text/plain": [
       "{a in Natural, b in Natural} |- (Sum_{j = a}^{b} j) = (Sum_{j = a + 3}^{b + 3} (j - 3))"
      ]
     },
     "metadata": {},
     "output_type": "display_data"
    }
   ],
   "source": [
    "sum_a_to_b.shifting(three, assumptions=[InSet(a, Natural), InSet(b, Natural)])"
   ]
  },
  {
   "cell_type": "markdown",
   "metadata": {},
   "source": [
    "### Testing the `Sum.partition()`, `Sum.partition_first()`, and `Sum.partition_last` methods\n",
    "Notice that we also see a limited simplification of the resulting index and summand expressions."
   ]
  },
  {
   "cell_type": "code",
   "execution_count": 29,
   "metadata": {},
   "outputs": [
    {
     "data": {
      "text/html": [
       "<span style=\"font-size:20px;\"> <a class=\"ProveItLink\" href=\"../__pv_it/demonstrations/4269c8ffc0513b36fe7e80d7f8ae2eb4d128a3a00/proof.ipynb\" style=\"text-decoration: none\">&nbsp;&#x22A2;&nbsp;&nbsp;</a><a class=\"ProveItLink\" href=\"../__pv_it/demonstrations/e635ca1c4676236b609d4c46cdcff4ec97903ce10/expr.ipynb\"><img src=\"data:image/png;base64,iVBORw0KGgoAAAANSUhEUgAAAcUAAAA/BAMAAABjkc58AAAAMFBMVEX///8AAAAAAAAAAAAAAAAA\n",
       "AAAAAAAAAAAAAAAAAAAAAAAAAAAAAAAAAAAAAAAAAAAv3aB7AAAAD3RSTlMAmXbNRCIQ72Yyq1Td\n",
       "u4mXa1p+AAAACXBIWXMAAA7EAAAOxAGVKw4bAAAIL0lEQVRo3qWbXWwUVRTHz37M7G73q0iCJIJd\n",
       "YvwIRqkhMYRg2hATRB9aTESMwV1B0vjFVkXQSMISEzV+pOuLCZGwGx/U4AONPJAYYosxErRKQ4LK\n",
       "g3bFNzS01La0UBjvfM+ZOXf2zsxNyn8zt/3P78zcc+6dOwuA2m4BvV28B0Sa/KBPZ6yEFRJCnrCz\n",
       "wu8LyefkjHcbNPWGGM99Pn13uBTWiHnGx/ldYfkcnH39uv4FSTGPfIvblZzFCskRMU/4k9sTms/m\n",
       "lN8wPux5uiLmIb/F7RqoYYUdVcEYB4Z5ZwvNZ3PGjKEg3/xkuSDPCe7JlroUSqIxZvfyMjw8n8XZ\n",
       "qOsqzUO1X8wj18npyCxghWy/aIxwinM8Ap/Fud7sWYBiTfCaz3I6Ek2ssA2EYxzhBBCBz60A30Ox\n",
       "V5DnoTacFu+Ry13/CHomxttczxB8huYs64NwWPia1+njP7uUtXJFNCEX6HEXhc/QhlXP4heXiXqk\n",
       "6ITMXMfKWvrYbaKmr9DpGIXP0GMQosWmyMMdU1iDtS7yaCQ+XeUrYTyS8+ThaifWYK2PqijR+HRN\n",
       "L4TxgNfIo0N1rMFaqps4GJFP03yoYQVdZKGfcGnAAUbNSBH5NC2Oh/IYIWeqGy4N1rJUAkTk07Sv\n",
       "Fcqj3KSy4CbWgE26RiVpND5Nu9RpNaE4WkkodwapwTbj1OCm+6hBF41P0x51is4qRmbv2viFMij0\n",
       "+DJHrVTmnBrcdIJYLkTk03RRn4QWrd4Prws90lK/VRxFGth0DfF4FZFPVUkvDznFzq+VQvWBmrbK\n",
       "40gDm454p9WofKoanzOKXdNietmlnwIkc9V2w4fRUK+pBL6mjXEea2g+VePTxjBR7L/Rym6cfixP\n",
       "GhkvL1JjreRSt+m94GtaHfWOuYh8qsaMcZtXXP7fsp9V+NCWpRcAzK0xhaqBw1jdplk2D8Q7+aZF\n",
       "73wfmY9p3ihY8gGcYLK6rvoFD4NxmOyFhFH7zhI1cKKO1W26U82sFt805y3WkfmYJsz1U5+Cbn7M\n",
       "sY55xHiY6Fdnm7RxH3qIfDCPWX0uU+d2DGVqwZi9IMSXrPnwMU2Zl66goD2jlOPz18ahOehgZzR+\n",
       "bYJ4JD9Qweo2HWxjmp9x9YIQX7bkw8fUToGe/5wex704HaPQwUbOOuOxjsh5xZOryDTb3ca047on\n",
       "RhE+I0aaj6ntMaA4M+V2NuRX1VwnhBz77UtBYkSmMfZ5x3Lgm/rGyOfLlnz4UIzWeklr7GoUkoNu\n",
       "nAZze9uonfoJVoyp7UdejMg0wf6ktQn4prF5nxj5fHaMXj5Vq3a57rrqKJU/AXxqbt7aOGosJ7CH\n",
       "s9YpWN2muWHIDC8FvikRowifHSPBp8Zo14Gcc0W/B6CSKuk3ap95o2LqOsR4rzLpXf7LV7G6TVO9\n",
       "IMOrwDctTIO7ty1fbGzs9P6xsSaPj6nDQ3IuXfaoS7KK66K+r/6zKVCMTlMWI2TngG9qxIjuowCf\n",
       "dR8pPhxj/HVAYwHWy/iEbJnyBMBJ5OHMRypGpykbq5BoVvim/jFy+cwYKT5VHcunPudG0zmGOlPA\n",
       "JzwCcBfAR9x8JGoOMs2z01Z7W3xT35rD5zNjJPmY2h4Z9FzGKnBmahs6oXRqyZJRrWqLx4hMCyxp\n",
       "GlKNb+obI5/PiJHmQzEOoARTd92/xDg5RVG61bcOQeZHp2mGEXS8B3xT//mRy2fESPMxTVkeDyDc\n",
       "XN2zJDEu/Cg/xgMudZueAX9TIkYRvmzJh4+ptdTP4+fTdKdn+YwXwxPENvFZ9zOJy/Qg+JvmFzy9\n",
       "InzJmg8fU8t2hT3BalfgPGcTYbsZT3/7Zyu3ab7f3zQ3y322Cs3H1NwuTNuFOa15vMzxOO8Zj659\n",
       "Qoe6TeVxf9PUFHc7MzQf0/i8pzDriyGJ3saMm7fiKrXXUcPqMX0cfE2L3m3FyHxM0/qWtmQX5meF\n",
       "XhRJ1H7OUAtpYNOydz8nKp+qyWu4MEvfKEIvipLkvn0TaWDTvibvPKH5VJX1J8+etVrbcJrNMaMi\n",
       "Hulp4mC1G2lg0yFiDRyRT9OzWmY73yfURDxi1NXMTTk1uGkXNR9F49O0S/ArL+5XG9RrQfMFYmw2\n",
       "lCf0UHFH49N0qBbKo0iNmPQ81qCNrGPR+DQth3p1D40WVcyuYA3YMtRry4h8mqZGQ3msId/473dp\n",
       "sBancjwin6aFuVAev5FHJytYg7U89WYxIp+mkl5k5WCpLV+jJ/ES0l3BuKpNavxH4jN0rX65zKlp\n",
       "96XPRaYfeiJOdCO9aJ7x8lGRG0t/48XF98zDHwTgM3QIX6FOWCFSmuksSc9iNecUiIlk1QY6csy3\n",
       "abEVgM/QKv6bGSgLfIGoTFd0+SZWs5D3SgILMInz3S3Mt1lorJp8hsbUTE+uNnvfEYpxknP8Vqdu\n",
       "NPMrXRGJsUB/28jFt/kxkWE/iVVWk3pHsRL7g7Xf2ed/BVJ6mlc2SrbKpTlYqZqya1kQGKvVEv9c\n",
       "Nt+jW78S57M472Y/W0/aM/EPAqtBHnJ80FbpRfu3DgtcfF4dcPFBQ5zP4syV9P1Kc7NAAKfcy+v5\n",
       "zqF568ZIvwqk4wynA/MNQ7VXmM/iVP8rhjxXN8aC1Cm1n4qO8h8B+22tPm+O1S3qBnab1tHkPQoi\n",
       "vgUoi/PZnH+rrz/NZeH2Qx+3vZHpvfzC0W3r8Zh5iy4cav8N4ne5p0V8y2A1iPI5ONmYkj8zL84B\n",
       "RWnr8aRP5T1n6wt3mmtORWn7DU3pTf4az8m3+/6WMJ+DUz4TcDG4zqfvpTpW4Qc+/jNUaD4n51PB\n",
       "LGS/pJfqWEXbcz59IfkM/R+3FLlwDncFgQAAAABJRU5ErkJggg==\n",
       "\" style=\"display:inline;vertical-align:middle;\" /></a></span>"
      ],
      "text/plain": [
       "|- (Sum_{i = 2}^{6} (i + 2)) = ((Sum_{i = 2}^{4} (i + 2)) + (Sum_{i = 5}^{6} (i + 2)))"
      ]
     },
     "metadata": {},
     "output_type": "display_data"
    }
   ],
   "source": [
    "# Basic splitting. Notice the lower index value expression for\n",
    "# the second sum has been simplified from 4+1 to 5\n",
    "sum_2_to_6_i_plus_2.partition(four)"
   ]
  },
  {
   "cell_type": "code",
   "execution_count": 30,
   "metadata": {},
   "outputs": [
    {
     "data": {
      "text/html": [
       "<span style=\"font-size:20px;\"><a class=\"ProveItLink\" href=\"../../number_sets/integers/__pv_it/theorems/d82a9927958f2919b6e25fa4d8e512f4047160210/expr.ipynb\"><img src=\"data:image/png;base64,iVBORw0KGgoAAAANSUhEUgAAADIAAAAQBAMAAACmdTG/AAAAMFBMVEX////MzMwyMjKqqqoiIiJm\n",
       "ZmaYmJju7u5EREQQEBC6urqIiIh2dnZUVFTc3NwAAAAqL9KcAAAAAXRSTlMAQObYZgAAAAlwSFlz\n",
       "AAAOxAAADsQBlSsOGwAAAN5JREFUGNNjYMAAzJo/NVw6EzAlGLh7BRgUmLBIMLAGMHAnHMYmw/uA\n",
       "oYK9AcWUFhcnEM3OwBDIK4AkwaVdAGMyXhAFUXx39m0A0Y/gEgwcBe0gauUDju8gWg+h3YYNpJZ9\n",
       "GgOrA4irgJCBuJn1AwPLAZDZU1xcXDwgTjE4xcBQwMDZwFC/AKQX4c4KPiD7HkP9BoZ8MN8BLnMR\n",
       "6CP2Dwz1BgyXmB8A+bvhbg5YCvSuAwPHBmZXVpAAkwHczeoMfM0NDOy3D77dCPb6jeUQmZVNMzrm\n",
       "zziAHAgnIKEDBQC4NTJlmjuxlwAAAABJRU5ErkJggg==\n",
       "\" style=\"display:inline;vertical-align:middle;\" /></a>, <a class=\"ProveItLink\" href=\"../__pv_it/demonstrations/ffeed1e850313187bc8edf79bc81d8d745ca2b020/expr.ipynb\"><img src=\"data:image/png;base64,iVBORw0KGgoAAAANSUhEUgAAADIAAAASBAMAAADrvZC0AAAAMFBMVEX////MzMwyMjKqqqoiIiJm\n",
       "ZmaYmJju7u5EREQQEBC6urqIiIh2dnZUVFTc3NwAAAAqL9KcAAAAAXRSTlMAQObYZgAAAAlwSFlz\n",
       "AAAOxAAADsQBlSsOGwAAALZJREFUGNNjYMACnhUw4AD2////n4AmxqwHIk+EhoYYoEqwuYLNOcDA\n",
       "8BRVgtsHYgFQ/QUUiRpvOJNHAEjw3dm3AcwrdUMoegEiVj7g+A6ia5WRtN8CYvZpDKwOIA4vkgwf\n",
       "yM2sHxhYDoC5TxGm8SgACc4GhvoF6C5gaQAS9RsY8tFdzVAPcnS9AcMl5geoPmVYHwAkODYwu7Ii\n",
       "QkcREnAgm9lvH3y7ET1IXxowUAhKXEDAEc4HAAWJLGGWovKAAAAAAElFTkSuQmCC\n",
       "\" style=\"display:inline;vertical-align:middle;\" /></a> <a class=\"ProveItLink\" href=\"../__pv_it/demonstrations/f14fe449ad39f521b890bd13a7a3c43e451bba2d0/proof.ipynb\" style=\"text-decoration: none\">&nbsp;&#x22A2;&nbsp;&nbsp;</a><a class=\"ProveItLink\" href=\"../__pv_it/demonstrations/77b0b2ec0699ce5b91a15435c6d63b3b186154ea0/expr.ipynb\"><img src=\"data:image/png;base64,iVBORw0KGgoAAAANSUhEUgAAAdUAAABABAMAAAC+S/CAAAAAMFBMVEX///92dnZEREQiIiKqqqpU\n",
       "VFTMzMyYmJgQEBDu7u7c3Ny6uroyMjKIiIhmZmYAAABumYecAAAAAXRSTlMAQObYZgAAAAlwSFlz\n",
       "AAAOxAAADsQBlSsOGwAACV1JREFUaN7Nm3toHEUcxyf32tu9u23+8YmYKGK1UnIYLb5zxQdVlBRE\n",
       "FFFyIhX/EHJqtRXUBCpW6yPxAVZbvENFxKKXPwT9pya0iFRKk0iLbakmtmC1tDlt2qRNrevM7szs\n",
       "zO7M3ewsiAvttfv47Pc3O7/H/G4PgP9gq4H/0XYMf05Oql6xeVgBZ094nwfveKyshjV3yI8RWnSR\n",
       "LLUw5n2m21MrFTGFzibHMA4cwJ9djjOtyP1RfuiAvkiGOoon2aKyeVp1zC6RHyK43ALeMQ1sVWyi\n",
       "XXaE0HRE+lRzPf5HvQbOqGI2lqTzkOA2Vqi/XqCKNV+S3rCiL9Kn2mTOZUcy86qY1KtSvyK4o/7J\n",
       "I8qhY4UsEByNI5JS+0ngyF353gllUbfIDhBcZo7uels9TCYlnk1pWiIp9Tt66N3ygjKmV5ZJCC7v\n",
       "h5An1W1NSRT4NB2RhOrTM8O5ojIm39lCLDMY30fIf9taDK2eSExNUtGJSr6s/gDmJJOQ4K72981H\n",
       "sLVXLOHqeCIxtZ9G1NyacyOIelPirhiXYbxqWQRsVuiwPk1PJKb2aRZbDfFugkv/qYe1hdfp0hoc\n",
       "1fxH09bRijBBElx1Wg+bE054XRoR6VGNOU1bs2OivRQ3UNbkvi7aqUujIl1qQnN2AFsY+imuS3ch\n",
       "0hAls664Il3qok5NTEo42SjuuK6tvSLfOB5XpEsdbdfEWCeFDoJxub90ba0LljHaNCrSpTbcWnXc\n",
       "8bezipxXhDMQl762W6DnGawzoehig4KpeCauSJc67pbFvY7n/OaWPUOnFDFdojJ9HO/MuwuvlIND\n",
       "1QdbH3AGFZd1giWbR4sj0qXOevnLoYWX0VNSw0yJzpslfuvx+mbpkacVS/aC4DyPFkckolrY63t8\n",
       "77MVo1WvIOcRHKh7kKTje99BxXAiSPiYFkMkohJyv+OHvyOebKm/k2qws4lQfI+M40dru9a804YP\n",
       "ZI5LFccQiagF7OQFx0+Xhvv3bmllg4NMVbDeIDgwhU+acnzbXKEF6eTbiiuvWcFMnIgrElFt4h1d\n",
       "gVuk2oF5RciaL49eDsBP2IkEVQjFNbBJCSfAWA6X7utCT2FmWxkU8ENzBNG9FFskpCZITbcx0Ovb\n",
       "jMJf0COtTtAxAvJebEsKAibFdeGizhzi3c9ERduu4GUfgTaYVXBrsycc3wkthkhIzZNZkXP4+HcY\n",
       "DUpwvqVrKFEZHj0vKBLpvnEydUcdDmKjhxeKtA+6ifDFwKU56p1kVwyREJGlD6fjFDeeKBuOBkcY\n",
       "np2GF3stq4Sgn0dxQ+TSNofrwmWR4tCEgGf3QS3eNV2kE5eaAEGavkhI9Z0u77ALlxT6z/mhZWQR\n",
       "pOdITyUtSoSMe5AB/Zs94W5kfqiquBdm4jLIe8+xrxSy1YkvElJ9W80htui029022fI/Qj0WeME5\n",
       "UWzd6LAV969unyx1ccgne+AYrGxpq75IzlZagnkDCMfYnE/dtT7UY4ECnvfuhFPnoW60XSuzldaJ\n",
       "tM1Wrdz2WXAxk4HJyvCeWaMit1VbJKJWfVtt1rOSJdQS/CrzQxCDbFrBY9j+AcaZTOJosD52DdK7\n",
       "pfREsKJIwmeaGpTYytC0RSJbGd/pYRYPWRgg7PXeGG52H9wyvzbr96KOYK1BcCZTmyfZFc5r8M/v\n",
       "z3rnbHe5ZVpAZryB6nBPt7u7r1vX3b0ySNMVCamsrfUij0nu+i1kzDPor28i2WqxBQCy9aaZUEfF\n",
       "QDblBhlbued6Kr7IgK17a/z0qJZGg6JgofI5ALdyGNZfRbYWNgBuDpsncqEe13Jg1UCqqGCrpkhE\n",
       "ZWITpyAB7zMwXC0FFtiPALAPgKek/iqITYDTshQ+w9PmiUIgMrWDwjAwOlvHJm2RkMrY2s8WICj+\n",
       "PwSqZb5DY90yM1P0EoeyrRkuNcFMkB4z59r4yz6emTmEU0gLW7VFcraab3AjDc++DBSO8Xkw6Tgo\n",
       "md8YKb9yo/4ofBol8Mu+QHJ1HFhxJEda51dtkZCa9esmvoZu8r2EVZTaSnFDdBdf6CebNHo/BjJb\n",
       "h+KLhFR/sXIpf+6LTZquFX5Nw5rCLCuwT/EremNazj3ML2qY2p/S9EVCKv23fb0fx9yTpP0DuALz\n",
       "7FpQWNOBQ/4Ec5/XEvmTwKPSU5Ou6WKIhFSbrAPW+petdj1D3tBZEpivoeYm0zs1/IRjuLbKv2Mn\n",
       "wofkndgYIiG1MB+K5bhU+0La6MM3XCRoghIcmKqEEo5XtFnSNvF+/Cloh2JaHJGQauB1Q53GcrMx\n",
       "rdigF/SbCA4MeHnA8uPXh4pfCFqCfhOmxRCJqLmTgVj+SZ9TVsOMir6MOMkfpAnHut1R/EIwd1J2\n",
       "qzgiEdX0VtL5v3e6W/eQ48wqttQHBLPRJAvzqrc+G/ew26+DOU/xNQdDVGaPxRXpUns852e+KlF9\n",
       "u6EhGtoeZrWMVmDMVlHD2qJU9mdckS61UQOa27iQjXH2gi42LwrvC3FFutSBii5GOI0IzpjXxS4S\n",
       "hbz5uCJdan1ak5IRfidKcJbuaxigX/CFsDaNinSp2aImpiCMqxS3TtfWKVEYWBdXpEttO62JSQyK\n",
       "9lJcx7Am9wrRTl0aFelSrbOamqrCV5Yprj6hhzWFrybo0ohITN3pOv/NkTGS13B2ksA3pocVv4MU\n",
       "pBmTRyKJxNSBGul5Rdu2S+g46RgLeti8MH4EafsV39PdzlOrKEJZkd9ysiRpoIrDqPmXFhbUxa/D\n",
       "BWhXgXwkkZhqI/c1Or8god48b1KlvGiTmGGTaPA7jwVvvXChirwO8e4Abap9DYgiElNNFE3S++/c\n",
       "YF8Kt8XgnVq/iq1VSbQwzzInICw4iLgV84aMSvFjnpXfjhFZcJReyyIiKXUvSou7AQk1M+BxFcwh\n",
       "2YG9JLUNclh7OjOoUg1L0n2AtmrVP1FEUmoSGl/3W/GvgT0qniD9MUWSPPCbOWx2pKDyu5q67GcQ\n",
       "PG0MfFOOIJJS0S9fnsoVa970MBfA4vdbY9JS4fRnOaM1F4vncLWWeE6hILhPuhCtMSKtTtBWiiDS\n",
       "p14EwMOZInGADZkzz7XGrJXrvogEhjEWm631f93aVkP6UxietgOkh9VFMtTEBFgC7idz4tvVk62X\n",
       "PtbLTeoyMomXstjc4XvOa63uM/nM5Ghf/qwQ1KlIhmpGeR8f5+Ymw0Fx75Qjc5v84iM6jYpkqZ9G\n",
       "1rSp2UGCsyKrM5v8QCs6bRNP/Rcsd+Q0lqbIAAAAAABJRU5ErkJggg==\n",
       "\" style=\"display:inline;vertical-align:middle;\" /></a></span>"
      ],
      "text/plain": [
       "{a in Integer, a <= 7} |- (Sum_{k = a}^{9} (k - 2)) = ((Sum_{k = a}^{7} (k - 2)) + (Sum_{k = 8}^{9} (k - 2)))"
      ]
     },
     "metadata": {},
     "output_type": "display_data"
    }
   ],
   "source": [
    "# Still pretty basic, but with a variable lower-bound; again, the\n",
    "# lower index value for second sum as been simplifed (7 + 1 = 8)\n",
    "sum_a_to_nine.partition(seven, assumptions=[InSet(a, Integer), LessEq(a, seven)])"
   ]
  },
  {
   "cell_type": "code",
   "execution_count": 31,
   "metadata": {},
   "outputs": [
    {
     "data": {
      "text/html": [
       "<span style=\"font-size:20px;\"><a class=\"ProveItLink\" href=\"../../number_sets/integers/__pv_it/theorems/d82a9927958f2919b6e25fa4d8e512f4047160210/expr.ipynb\"><img src=\"data:image/png;base64,iVBORw0KGgoAAAANSUhEUgAAADIAAAAQBAMAAACmdTG/AAAAMFBMVEX////MzMwyMjKqqqoiIiJm\n",
       "ZmaYmJju7u5EREQQEBC6urqIiIh2dnZUVFTc3NwAAAAqL9KcAAAAAXRSTlMAQObYZgAAAAlwSFlz\n",
       "AAAOxAAADsQBlSsOGwAAAN5JREFUGNNjYMAAzJo/NVw6EzAlGLh7BRgUmLBIMLAGMHAnHMYmw/uA\n",
       "oYK9AcWUFhcnEM3OwBDIK4AkwaVdAGMyXhAFUXx39m0A0Y/gEgwcBe0gauUDju8gWg+h3YYNpJZ9\n",
       "GgOrA4irgJCBuJn1AwPLAZDZU1xcXDwgTjE4xcBQwMDZwFC/AKQX4c4KPiD7HkP9BoZ8MN8BLnMR\n",
       "6CP2Dwz1BgyXmB8A+bvhbg5YCvSuAwPHBmZXVpAAkwHczeoMfM0NDOy3D77dCPb6jeUQmZVNMzrm\n",
       "zziAHAgnIKEDBQC4NTJlmjuxlwAAAABJRU5ErkJggg==\n",
       "\" style=\"display:inline;vertical-align:middle;\" /></a>, <a class=\"ProveItLink\" href=\"../__pv_it/demonstrations/ffeed1e850313187bc8edf79bc81d8d745ca2b020/expr.ipynb\"><img src=\"data:image/png;base64,iVBORw0KGgoAAAANSUhEUgAAADIAAAASBAMAAADrvZC0AAAAMFBMVEX////MzMwyMjKqqqoiIiJm\n",
       "ZmaYmJju7u5EREQQEBC6urqIiIh2dnZUVFTc3NwAAAAqL9KcAAAAAXRSTlMAQObYZgAAAAlwSFlz\n",
       "AAAOxAAADsQBlSsOGwAAALZJREFUGNNjYMACnhUw4AD2////n4AmxqwHIk+EhoYYoEqwuYLNOcDA\n",
       "8BRVgtsHYgFQ/QUUiRpvOJNHAEjw3dm3AcwrdUMoegEiVj7g+A6ia5WRtN8CYvZpDKwOIA4vkgwf\n",
       "yM2sHxhYDoC5TxGm8SgACc4GhvoF6C5gaQAS9RsY8tFdzVAPcnS9AcMl5geoPmVYHwAkODYwu7Ii\n",
       "QkcREnAgm9lvH3y7ET1IXxowUAhKXEDAEc4HAAWJLGGWovKAAAAAAElFTkSuQmCC\n",
       "\" style=\"display:inline;vertical-align:middle;\" /></a> <a class=\"ProveItLink\" href=\"../__pv_it/demonstrations/db69506d17dbb60a9afb2f91a8afa0b74b2fd0310/proof.ipynb\" style=\"text-decoration: none\">&nbsp;&#x22A2;&nbsp;&nbsp;</a><a class=\"ProveItLink\" href=\"../__pv_it/demonstrations/8ff35bf99177939b3e39b83527044e4820a004f30/expr.ipynb\"><img src=\"data:image/png;base64,iVBORw0KGgoAAAANSUhEUgAAAekAAAA/BAMAAAA28C0iAAAAMFBMVEX///92dnZEREQiIiKqqqpU\n",
       "VFTMzMyYmJgQEBDu7u7c3Ny6uroyMjKIiIhmZmYAAABumYecAAAAAXRSTlMAQObYZgAAAAlwSFlz\n",
       "AAAOxAAADsQBlSsOGwAACPBJREFUaN6l23uIXFcZAPBv533vPHb+UCslNmMQk9Y/MlAMPrtTfFAF\n",
       "2RWporTsiBQUhBlj7QNsd6HF2KYxYxWaYmAubSnF0s5ghfYf3aWlLZXQnS0tpoWaNQWjYnaT7maT\n",
       "3WRzPffe8917zp1z7pxz5sDutzuP39zv3PO8MwPglbP+byh/ogqK5Xgn4c6zsXjfdY4ia70xWvXL\n",
       "8jLoFHRZv7wYxG/D11SZci3hvsVYdKyaqvvWSNUv2WpmRivtt4b9BXoqNqHbUWU+Kb8LOYypPiyq\n",
       "sqnqKNUvk01rSytrdCPfOhREexsm+6rMsYa0NR3iI5TP59vKTfHBEWpQeg5c1mviD8b9Cp6Jw9BS\n",
       "PrzMQ7J7kAtZOHVe/fBu6SSrQSn0cxe1sg7d0G816R9/enyuoczcJLsDuZDNfXd2RZlNrySrQSle\n",
       "/9iGXtbohv6rYTP4+qSjzEzLHvpqnC1B8VfKbGY7WaXl981tvazRjUeAn8AL6kyppsYDPAHwEXX3\n",
       "ZZXKyHWKdb2sQ5fGdHj4e+E1jcrblDSlWpwtdeD76u50M0nFIbldampmjS6NrbAvv/gzHeo3kg7Y\n",
       "gBhrn11W7zhQWElSsV/f/THNpEOXxlkwK2vim2djUbdUziWp5gXdIFpXDZkF4SyHnDFbvJigjlHQ\n",
       "DWJ+05ApCBdcyBmz8EiCOk55hI2pc6ZNRjh3IGfMwpojV8cp6PpxsmaoZISrI+SMWZhuy9VxCrp+\n",
       "XKgaKvYFYW+v8lG/9Gbk6jgFXT+u+RuOJTcqO4rMr4XtqM9GE7YwL1cNSc7145K/HJ92g6naevad\n",
       "o5cUmf2ijcJSh40mbGpLrhqSnOvH9WCb7oYrvPyU4hbklOhx61w0YcsbctWQ5Fwv2h8Gf09FvbSi\n",
       "OHRMC1ZRyI3BZq5KVVOSc72If7fcaOj8b/BSsqfjzNKqJdOaLN6R+zC5IoZJPdeLZToilN1o+s37\n",
       "v9+WMX+hsSvY9oScPlsc0HXYulSVkHquFyvYi/bHXixTBWtfPC979eUmlGldTwqWDsjpsfD8/z4N\n",
       "8Hf6jytVxSS68OgDSi6JKVzrHXP5bnrc2yPGe+4TMHEZgF5eTQsGW+T0WLsGu/vejjTouB2ZKiZD\n",
       "F95UckksYXMpuvzYecY7m/Ex8gf+LH0/3TcLlqR4mx6bdbxZNE+TWcKBo9gG0SvFydCFDSWXxEJ4\n",
       "wnZf4urYm8sX4rV+tAOz5DnBzSnBZUrk9Fjy6CxJjF6A3I9LkswA4pqIDN3ilpJLYtQ5Sy67icp4\n",
       "/3w8bn+H7HSbUArOQVZQ5cjpsdk6ZEkjfp3upRvxrGMjCE9G7sS8kktiBFpH2Qu4lap/ie7m/8T9\n",
       "KaLPaGStyKbJEz6qmDVPRm5pJnNdZ7TLZR2u9YL6JOfTupj55qGYkiOTSD6o6kqw6arc6JcZSdZq\n",
       "LLRIhr+ki+72iKx5MnSh2/7qM+3RLondCKy4zJX9dMO7MPnn3N/idUeyy8yzWXMFOV0WPkt+bpFl\n",
       "3Y1lzZGhC9PPNn7qjHa9rJm+MMUsBgqk61cOBVV63D+ZB/y/T3vnOziICcGWBzld1l9btuhgNaBN\n",
       "6HMP0CbUjXfYqfhLey78+66gA7ziw02x60cW7NV5Jv3mv4Yu5XhHUZzXylqBhV94v17ij4451/Gs\n",
       "e3VR1l9abaq4saxPOnyT6TYW4szNYDuQqbNZc/1alLUCS1ZWfwT4inLWJx1BC7c2ipsqLonMQME9\n",
       "J0UeMtfpNgb8WFaFcgfyNWm/FoxmCiz8EOBdgIOqo9lQdr6b37I2ygouiQzIXWn3ZqfboNvkL908\n",
       "ubr6AZ0mlLNWYO2bVldJ+/mnatatoX2152YXrc0JBZfL2jrCnVXy6E9B+Sw//0257hXSnPo687UC\n",
       "m3Zdb+HxRdX5+sjQ63puqgH/eFfBJbEQLaL4Nf0B+f78SZBmjZwJa9dlWRdiazPB7kPDJTHaOO3h\n",
       "H3u/nDkj2gnx+zATtkJb4P5mfPcR293tETxZwyUxPPTK56ORz8/JkdYdvYaS3lbYaaqz3ju+QTdy\n",
       "kneacRI0XRIruHG6J3ranX7nkV6TwhcoiK4qXOajBgs34MZOqopJ0HRJLF8cmgzogvM5mfIejjGC\n",
       "C9fIGbBlTOaSVJWQmi6Jebp96YWTgbW2onbRsSe4bobcGKy9LlVNSc71YvFCbDJ4anZoQyMpC4K3\n",
       "Zig3Dlu8kHiTCTl0aNaVYDK4csIvNx513XVFZm4wfBvlxmHzO1LVlORcP04F6xXm3SPVT3KtiWp6\n",
       "iosmbGVTrhqSnOvHNQcMy5KwKhw+6pfSObk6TkHXj3NtU0bYvpAzZyfrcnWcgq4feyuGSk74OUnk\n",
       "jFloVeXqOAVdPxbqhkpZ+FkR5IxZONWUq+MUdP04sWWopOZFtyJnzMK+BHWcso+N9o6h0hV+Lh05\n",
       "Y9a6kKCOUdCl8YT36+cDbWZOvEQ4wcb8l7VZ8Yes4lp+OXwT97FFLZfGOQevtumVVySV4bDxsP4E\n",
       "U5erh5m9wKPe1OsNqu/XtVwau96Y1tM+OluyROhWmWjrf06s15aqjPYZKHlDi78FqWu5NFa8Uemg\n",
       "HX5p5rf3XauiTEgSqswzMV97Duch6xq1z9DulquMdqp6t2bWu/loeSPF7U8dc07vIaVtfSGn9IHz\n",
       "rmQksHaYmH3vGw9XPHYv/M5pqWRt7chvZrSyW9XLmjssr5wkP0caOazVldy8CvOB7I6TTCy8DTjm\n",
       "rcKPlVbLdbnKaHfccVUva3RDPz0A+2r4dkShX1b5qpQt/Y5NehDFXvRuxGF4R6n79eUqoy3CS83T\n",
       "e/aRtqmYNbqhX9wmPeYFG4IW3nVS9yp8qysrrZridhQPFutO0Catbdj7uMLR3ZqgRppdg4mG1rm+\n",
       "dcjfBdnBj/D6ecFpvaiQ9T3yx+yK4u25Oo4/D+cu36swqz6UoDLaG5Dt6GSNLuOnBiknexdW6plv\n",
       "XaPQwBO+tZMahPEG+B42yr/euaywcXqmmaAy2vPvX0v7tb3r/EDdZXzrgP5aIiED5AxY/DBFgsrV\n",
       "hLbL+k9rH90fku582pi1+qNVdmDWdWn8P7mU5ismAhfZAAAAAElFTkSuQmCC\n",
       "\" style=\"display:inline;vertical-align:middle;\" /></a></span>"
      ],
      "text/plain": [
       "{a in Integer, a <= 7} |- (Sum_{k = a}^{9} (k - 2)) = ((Sum_{k = a}^{8} (k - 2)) + (Sum_{k = 8 + 1}^{9} (k - 2)))"
      ]
     },
     "metadata": {},
     "output_type": "display_data"
    }
   ],
   "source": [
    "# This allows the splitting off of the last term but still keeping it\n",
    "# in a summation by disabling auto-simplification.\n",
    "sum_a_to_nine.partition(eight, assumptions=[InSet(a, Integer), LessEq(a, seven)],\n",
    "                        auto_simplify=False)"
   ]
  },
  {
   "cell_type": "code",
   "execution_count": 32,
   "metadata": {
    "scrolled": false
   },
   "outputs": [
    {
     "data": {
      "text/html": [
       "<span style=\"font-size:20px;\"><a class=\"ProveItLink\" href=\"../../number_sets/integers/__pv_it/theorems/d82a9927958f2919b6e25fa4d8e512f4047160210/expr.ipynb\"><img src=\"data:image/png;base64,iVBORw0KGgoAAAANSUhEUgAAADIAAAAQBAMAAACmdTG/AAAAMFBMVEX////MzMwyMjKqqqoiIiJm\n",
       "ZmaYmJju7u5EREQQEBC6urqIiIh2dnZUVFTc3NwAAAAqL9KcAAAAAXRSTlMAQObYZgAAAAlwSFlz\n",
       "AAAOxAAADsQBlSsOGwAAAN5JREFUGNNjYMAAzJo/NVw6EzAlGLh7BRgUmLBIMLAGMHAnHMYmw/uA\n",
       "oYK9AcWUFhcnEM3OwBDIK4AkwaVdAGMyXhAFUXx39m0A0Y/gEgwcBe0gauUDju8gWg+h3YYNpJZ9\n",
       "GgOrA4irgJCBuJn1AwPLAZDZU1xcXDwgTjE4xcBQwMDZwFC/AKQX4c4KPiD7HkP9BoZ8MN8BLnMR\n",
       "6CP2Dwz1BgyXmB8A+bvhbg5YCvSuAwPHBmZXVpAAkwHczeoMfM0NDOy3D77dCPb6jeUQmZVNMzrm\n",
       "zziAHAgnIKEDBQC4NTJlmjuxlwAAAABJRU5ErkJggg==\n",
       "\" style=\"display:inline;vertical-align:middle;\" /></a>, <a class=\"ProveItLink\" href=\"../__pv_it/demonstrations/ffeed1e850313187bc8edf79bc81d8d745ca2b020/expr.ipynb\"><img src=\"data:image/png;base64,iVBORw0KGgoAAAANSUhEUgAAADIAAAASBAMAAADrvZC0AAAAMFBMVEX////MzMwyMjKqqqoiIiJm\n",
       "ZmaYmJju7u5EREQQEBC6urqIiIh2dnZUVFTc3NwAAAAqL9KcAAAAAXRSTlMAQObYZgAAAAlwSFlz\n",
       "AAAOxAAADsQBlSsOGwAAALZJREFUGNNjYMACnhUw4AD2////n4AmxqwHIk+EhoYYoEqwuYLNOcDA\n",
       "8BRVgtsHYgFQ/QUUiRpvOJNHAEjw3dm3AcwrdUMoegEiVj7g+A6ia5WRtN8CYvZpDKwOIA4vkgwf\n",
       "yM2sHxhYDoC5TxGm8SgACc4GhvoF6C5gaQAS9RsY8tFdzVAPcnS9AcMl5geoPmVYHwAkODYwu7Ii\n",
       "QkcREnAgm9lvH3y7ET1IXxowUAhKXEDAEc4HAAWJLGGWovKAAAAAAElFTkSuQmCC\n",
       "\" style=\"display:inline;vertical-align:middle;\" /></a> <a class=\"ProveItLink\" href=\"../__pv_it/demonstrations/213a12b190dc5a10afb31f00a8459df7ab2a389a0/proof.ipynb\" style=\"text-decoration: none\">&nbsp;&#x22A2;&nbsp;&nbsp;</a><a class=\"ProveItLink\" href=\"../__pv_it/demonstrations/616e2fb0c8ac4551db49da9137e181db1df24cb90/expr.ipynb\"><img src=\"data:image/png;base64,iVBORw0KGgoAAAANSUhEUgAAAV0AAAA/BAMAAACx7QZhAAAAMFBMVEX///92dnZEREQiIiKqqqpU\n",
       "VFTMzMyYmJgQEBDu7u7c3Ny6uroyMjKIiIhmZmYAAABumYecAAAAAXRSTlMAQObYZgAAAAlwSFlz\n",
       "AAAOxAAADsQBlSsOGwAAB65JREFUaN6dmm1oHEUYx5/c++zebQ7x7UNpziK2CpLDYqmozYkK1S/J\n",
       "F9/QkhW/+EHIUWutoCZQsba15rCCUYt3lKLFUi+gH/yiFyxSlNJcpMVWxEQLWqVNWvPWpE3X3duZ\n",
       "2ZebmZ3dgeTu9r/322dnnueZZ2YPwGoXwW4TEyDZDlQEIsFpTfv1jdU1SSz6UUbJjdmvyXyiTxKc\n",
       "Kwg0jIPf8OcaKsj2w88ySgPffqeOlmTBt/ElglOX7dfYKIzJYmP5YAXtwm/qNbgqCx4pcUeO4EbK\n",
       "uH8vp8uyWPRWsKKRu8+MphZlwYndPIXiLpAjk5dBum2uBCoDOn6j3vnhnDR4E08guNQCPpB6sn9K\n",
       "GhufClR+oIc+0Jelwb28mCe4LIndLKhvS2MTy0GKc0aqohalwdlCwAXpDR0EuFHeIb4PUuL0wrFy\n",
       "VpfviAXOsBHcPfTOKvCMvL29eoAyQCNdffVmeS68x3FfjEvRUFAuTtTksZmpAKUforUZ9mGCS16K\n",
       "htUuiRV0PaK9DWZSpbjqVDSsuihW0gsR7c0wJy2KG9Qjct8VK7GI4wYaM/NQXDdE9bOaUOksROQm\n",
       "mANHcf9Ftbe3LFQa+YhcZZ7p1RinXo5qb71PqMyMWm/HDaetSILfYY7ZKPaWVuWUdWGNpmRcDAmV\n",
       "8VYZ0WvY4YGOnB6+ImlvN6s0GccHs63KNGHg8Pv426eNIcmSckmozNrZ0qAzcbqnJAeeZJ03S/zY\n",
       "5vXPUuVlyVoqNydSFBwXPY43apIR2MvIsAQHdRsSNxxv/FMyjq+LFKIOGE5Y/mtfmhtoZOYtCC6G\n",
       "byZlOFlEq0lhU9zMYik5HF05w0mn6db/U9x5BgdOlVHMERxM4pMmDSedlqWwaNavfF5xFI14S7fv\n",
       "tEQe0Lo2i768cAfAL9hFGTMNxc1g544ZRT8W3t8pwoLR5nhmchnCSozMnyOG1x0PWEHu91ClAF2j\n",
       "VoHY8k1GIFNcN56O0fD1NiycFGGhx593bpiePlfCSpa4gWp44/Jvqwf9GSBZs5Jg2r6NLGNCpsfG\n",
       "iRs0jJIfC3MirPNVFYeUOSRfEiVDO6nriue+rAFo+O/UPDtpWmSvNWOMxTTFDZOvdhi7/Vh1SYSF\n",
       "7lHiO9ijzRvuI4rjhFnDXXAlrA+3+s1JFiFpjvhx+wMjUVKc44Tj1/zYjiERFvpLPnvNb+hEcexF\n",
       "w+4pX8u3lo4P/dO23jG/cFMYe0eMvA+b7UusrnCxLHsPQru9dE62e9v0HbSYeHxX23rHhLxuX9tO\n",
       "rdr6Vuvj2UvnZIKFavmRw2UuFmbKbfY+S5WqY6/m9rR4yVrqfp36yW/vvdbWhdteTyM45EpKM67A\n",
       "sLDQe6T0Uo2LZdirDDn2unypx1WZZUyn13bZHX6g1YEbnMl6wHYqRiFHcMhVNMVdlZmFhfPb7XOO\n",
       "tbi6DwtdTTxsG3fiYesYo4rb3nrRa2/85F9tBr1i/fsmlL3KrBcLD0zrAiy2192/ZI/AZ++Zmtcf\n",
       "qqWGH2xOT18APOy21+O/LHtze7xYNKcuCLAMe6t9VHHFm4cSM88drFRLviL7eYCzAFu5/suIN3Df\n",
       "tIVNL6G5HB/L8N/GFFVc9g64J6IO85aeg6ruXS0pm6anTaf5I4y9qTkfNjmGFjr4WIa9vXmGvWif\n",
       "p3Yzv3875C5682TcrDxM378/VP5t+rCxEvx+lo9l5N/DJapknPnNW9xsEKw0i1x7KW6YHjoZEsua\n",
       "L4AqTpG1xqu9Kdh5KHtrMXdPERwtsmKFkFha2tF6x1kx6s5FtfucaG1dh79Hh2fH+LJEPQnnHI8q\n",
       "SWGhh3uKqWikyNrhnLWt5c78VdxdvrF399FV37o+7SSzdEkK63IlfzOV3GJbMkvYOfQod5mK76yT\n",
       "sUAnOJgstyWzzXJY4O8nmEoaF2V1mszQjOTOYp2xfiM4GLRTkOLE5KeSG6HKrEhR533J7FC/Ibmz\n",
       "2GBsHKnzXpEmM+VRQ3IjVJ0XKciuprPXTrTa+mHDmJXc3xlkbDAhUpxX7RJl3MYe22hmWMlnI+kV\n",
       "odJjh4drn0v2GdwMaxx6XPW3VaK6muRDQ21BqPC3W4PauGj3VluOis1eEiqD5ahgpt8QXHoxKraz\n",
       "KFTqUxG5KeYOL8EpUR+LwEBeqGSKEbk5pp9R3M6o9k7qQqVjKSI3xtzPpbiuSkTuOrGirETkVpn7\n",
       "9hRXb0bDovkA5URrMzk8nfPA6gQJZisBpx8MjeU/X8PKYI2sA8O1Y5zbwAkt3Upoe8Ons2KAUrWi\n",
       "rh6aq3ASVhWHN7LShxL+4V69HKBoVtxsVehPo9AtUo+nOzimaCQMz1udXDiaD4eFriAFWRGy5dBI\n",
       "TVtjtrWwvzYgA65yPB6tuE5I/vrYnnBYtBKonDH/9pVS5Pg0vCjTD+d4whmSn82OzpwCPRxWKwYq\n",
       "8aY5Gzk7OXvhtIz7cn9JFScdb+aGurOTI4eF+migoi6bfvaVAvbAoWVY+1EwN8l9akp+dmb9Dm2r\n",
       "WqyFwsITEsoqSDZfoDsYe1JXXwvm7uBPX6tIRI7BllQxHwqb3i2hxJqxWnI7+fTdtongkk0R/OIp\n",
       "RhzibnMJ+ZQeBguHdQkFbQif1QXXprj9emjucSnls9DcT0QiwSmh7UWjAcr/32PUciEMDgUAAAAA\n",
       "SUVORK5CYII=\n",
       "\" style=\"display:inline;vertical-align:middle;\" /></a></span>"
      ],
      "text/plain": [
       "{a in Integer, a <= 7} |- (Sum_{k = a}^{9} (k - 2)) = ((Sum_{k = a}^{8} (k - 2)) + 7)"
      ]
     },
     "metadata": {},
     "output_type": "display_data"
    }
   ],
   "source": [
    "# Auto-simplification reduces the last term appropriately.\n",
    "sum_a_to_nine.partition(eight, assumptions=[InSet(a, Integer), LessEq(a, seven)])"
   ]
  },
  {
   "cell_type": "code",
   "execution_count": 33,
   "metadata": {},
   "outputs": [
    {
     "data": {
      "text/html": [
       "<span style=\"font-size:20px;\"><a class=\"ProveItLink\" href=\"../../number_sets/integers/__pv_it/theorems/d82a9927958f2919b6e25fa4d8e512f4047160210/expr.ipynb\"><img src=\"data:image/png;base64,iVBORw0KGgoAAAANSUhEUgAAADIAAAAQBAMAAACmdTG/AAAAMFBMVEX////MzMwyMjKqqqoiIiJm\n",
       "ZmaYmJju7u5EREQQEBC6urqIiIh2dnZUVFTc3NwAAAAqL9KcAAAAAXRSTlMAQObYZgAAAAlwSFlz\n",
       "AAAOxAAADsQBlSsOGwAAAN5JREFUGNNjYMAAzJo/NVw6EzAlGLh7BRgUmLBIMLAGMHAnHMYmw/uA\n",
       "oYK9AcWUFhcnEM3OwBDIK4AkwaVdAGMyXhAFUXx39m0A0Y/gEgwcBe0gauUDju8gWg+h3YYNpJZ9\n",
       "GgOrA4irgJCBuJn1AwPLAZDZU1xcXDwgTjE4xcBQwMDZwFC/AKQX4c4KPiD7HkP9BoZ8MN8BLnMR\n",
       "6CP2Dwz1BgyXmB8A+bvhbg5YCvSuAwPHBmZXVpAAkwHczeoMfM0NDOy3D77dCPb6jeUQmZVNMzrm\n",
       "zziAHAgnIKEDBQC4NTJlmjuxlwAAAABJRU5ErkJggg==\n",
       "\" style=\"display:inline;vertical-align:middle;\" /></a>, <a class=\"ProveItLink\" href=\"../__pv_it/demonstrations/ffeed1e850313187bc8edf79bc81d8d745ca2b020/expr.ipynb\"><img src=\"data:image/png;base64,iVBORw0KGgoAAAANSUhEUgAAADIAAAASBAMAAADrvZC0AAAAMFBMVEX////MzMwyMjKqqqoiIiJm\n",
       "ZmaYmJju7u5EREQQEBC6urqIiIh2dnZUVFTc3NwAAAAqL9KcAAAAAXRSTlMAQObYZgAAAAlwSFlz\n",
       "AAAOxAAADsQBlSsOGwAAALZJREFUGNNjYMACnhUw4AD2////n4AmxqwHIk+EhoYYoEqwuYLNOcDA\n",
       "8BRVgtsHYgFQ/QUUiRpvOJNHAEjw3dm3AcwrdUMoegEiVj7g+A6ia5WRtN8CYvZpDKwOIA4vkgwf\n",
       "yM2sHxhYDoC5TxGm8SgACc4GhvoF6C5gaQAS9RsY8tFdzVAPcnS9AcMl5geoPmVYHwAkODYwu7Ii\n",
       "QkcREnAgm9lvH3y7ET1IXxowUAhKXEDAEc4HAAWJLGGWovKAAAAAAElFTkSuQmCC\n",
       "\" style=\"display:inline;vertical-align:middle;\" /></a> <a class=\"ProveItLink\" href=\"../__pv_it/demonstrations/88179ea0b244be4e8304bb5fed3ea8526a3d02450/proof.ipynb\" style=\"text-decoration: none\">&nbsp;&#x22A2;&nbsp;&nbsp;</a><a class=\"ProveItLink\" href=\"../__pv_it/demonstrations/616e2fb0c8ac4551db49da9137e181db1df24cb90/expr.ipynb\"><img src=\"data:image/png;base64,iVBORw0KGgoAAAANSUhEUgAAAV0AAAA/BAMAAACx7QZhAAAAMFBMVEX///92dnZEREQiIiKqqqpU\n",
       "VFTMzMyYmJgQEBDu7u7c3Ny6uroyMjKIiIhmZmYAAABumYecAAAAAXRSTlMAQObYZgAAAAlwSFlz\n",
       "AAAOxAAADsQBlSsOGwAAB65JREFUaN6dmm1oHEUYx5/c++zebQ7x7UNpziK2CpLDYqmozYkK1S/J\n",
       "F9/QkhW/+EHIUWutoCZQsba15rCCUYt3lKLFUi+gH/yiFyxSlNJcpMVWxEQLWqVNWvPWpE3X3duZ\n",
       "2ZebmZ3dgeTu9r/322dnnueZZ2YPwGoXwW4TEyDZDlQEIsFpTfv1jdU1SSz6UUbJjdmvyXyiTxKc\n",
       "Kwg0jIPf8OcaKsj2w88ySgPffqeOlmTBt/ElglOX7dfYKIzJYmP5YAXtwm/qNbgqCx4pcUeO4EbK\n",
       "uH8vp8uyWPRWsKKRu8+MphZlwYndPIXiLpAjk5dBum2uBCoDOn6j3vnhnDR4E08guNQCPpB6sn9K\n",
       "GhufClR+oIc+0Jelwb28mCe4LIndLKhvS2MTy0GKc0aqohalwdlCwAXpDR0EuFHeIb4PUuL0wrFy\n",
       "VpfviAXOsBHcPfTOKvCMvL29eoAyQCNdffVmeS68x3FfjEvRUFAuTtTksZmpAKUforUZ9mGCS16K\n",
       "htUuiRV0PaK9DWZSpbjqVDSsuihW0gsR7c0wJy2KG9Qjct8VK7GI4wYaM/NQXDdE9bOaUOksROQm\n",
       "mANHcf9Ftbe3LFQa+YhcZZ7p1RinXo5qb71PqMyMWm/HDaetSILfYY7ZKPaWVuWUdWGNpmRcDAmV\n",
       "8VYZ0WvY4YGOnB6+ImlvN6s0GccHs63KNGHg8Pv426eNIcmSckmozNrZ0qAzcbqnJAeeZJ03S/zY\n",
       "5vXPUuVlyVoqNydSFBwXPY43apIR2MvIsAQHdRsSNxxv/FMyjq+LFKIOGE5Y/mtfmhtoZOYtCC6G\n",
       "byZlOFlEq0lhU9zMYik5HF05w0mn6db/U9x5BgdOlVHMERxM4pMmDSedlqWwaNavfF5xFI14S7fv\n",
       "tEQe0Lo2i768cAfAL9hFGTMNxc1g544ZRT8W3t8pwoLR5nhmchnCSozMnyOG1x0PWEHu91ClAF2j\n",
       "VoHY8k1GIFNcN56O0fD1NiycFGGhx593bpiePlfCSpa4gWp44/Jvqwf9GSBZs5Jg2r6NLGNCpsfG\n",
       "iRs0jJIfC3MirPNVFYeUOSRfEiVDO6nriue+rAFo+O/UPDtpWmSvNWOMxTTFDZOvdhi7/Vh1SYSF\n",
       "7lHiO9ijzRvuI4rjhFnDXXAlrA+3+s1JFiFpjvhx+wMjUVKc44Tj1/zYjiERFvpLPnvNb+hEcexF\n",
       "w+4pX8u3lo4P/dO23jG/cFMYe0eMvA+b7UusrnCxLHsPQru9dE62e9v0HbSYeHxX23rHhLxuX9tO\n",
       "rdr6Vuvj2UvnZIKFavmRw2UuFmbKbfY+S5WqY6/m9rR4yVrqfp36yW/vvdbWhdteTyM45EpKM67A\n",
       "sLDQe6T0Uo2LZdirDDn2unypx1WZZUyn13bZHX6g1YEbnMl6wHYqRiFHcMhVNMVdlZmFhfPb7XOO\n",
       "tbi6DwtdTTxsG3fiYesYo4rb3nrRa2/85F9tBr1i/fsmlL3KrBcLD0zrAiy2192/ZI/AZ++Zmtcf\n",
       "qqWGH2xOT18APOy21+O/LHtze7xYNKcuCLAMe6t9VHHFm4cSM88drFRLviL7eYCzAFu5/suIN3Df\n",
       "tIVNL6G5HB/L8N/GFFVc9g64J6IO85aeg6ruXS0pm6anTaf5I4y9qTkfNjmGFjr4WIa9vXmGvWif\n",
       "p3Yzv3875C5682TcrDxM378/VP5t+rCxEvx+lo9l5N/DJapknPnNW9xsEKw0i1x7KW6YHjoZEsua\n",
       "L4AqTpG1xqu9Kdh5KHtrMXdPERwtsmKFkFha2tF6x1kx6s5FtfucaG1dh79Hh2fH+LJEPQnnHI8q\n",
       "SWGhh3uKqWikyNrhnLWt5c78VdxdvrF399FV37o+7SSzdEkK63IlfzOV3GJbMkvYOfQod5mK76yT\n",
       "sUAnOJgstyWzzXJY4O8nmEoaF2V1mszQjOTOYp2xfiM4GLRTkOLE5KeSG6HKrEhR533J7FC/Ibmz\n",
       "2GBsHKnzXpEmM+VRQ3IjVJ0XKciuprPXTrTa+mHDmJXc3xlkbDAhUpxX7RJl3MYe22hmWMlnI+kV\n",
       "odJjh4drn0v2GdwMaxx6XPW3VaK6muRDQ21BqPC3W4PauGj3VluOis1eEiqD5ahgpt8QXHoxKraz\n",
       "KFTqUxG5KeYOL8EpUR+LwEBeqGSKEbk5pp9R3M6o9k7qQqVjKSI3xtzPpbiuSkTuOrGirETkVpn7\n",
       "9hRXb0bDovkA5URrMzk8nfPA6gQJZisBpx8MjeU/X8PKYI2sA8O1Y5zbwAkt3Upoe8Ons2KAUrWi\n",
       "rh6aq3ASVhWHN7LShxL+4V69HKBoVtxsVehPo9AtUo+nOzimaCQMz1udXDiaD4eFriAFWRGy5dBI\n",
       "TVtjtrWwvzYgA65yPB6tuE5I/vrYnnBYtBKonDH/9pVS5Pg0vCjTD+d4whmSn82OzpwCPRxWKwYq\n",
       "8aY5Gzk7OXvhtIz7cn9JFScdb+aGurOTI4eF+migoi6bfvaVAvbAoWVY+1EwN8l9akp+dmb9Dm2r\n",
       "WqyFwsITEsoqSDZfoDsYe1JXXwvm7uBPX6tIRI7BllQxHwqb3i2hxJqxWnI7+fTdtongkk0R/OIp\n",
       "RhzibnMJ+ZQeBguHdQkFbQif1QXXprj9emjucSnls9DcT0QiwSmh7UWjAcr/32PUciEMDgUAAAAA\n",
       "SUVORK5CYII=\n",
       "\" style=\"display:inline;vertical-align:middle;\" /></a></span>"
      ],
      "text/plain": [
       "{a in Integer, a <= 7} |- (Sum_{k = a}^{9} (k - 2)) = ((Sum_{k = a}^{8} (k - 2)) + 7)"
      ]
     },
     "metadata": {},
     "output_type": "display_data"
    }
   ],
   "source": [
    "# Or we can also explicitly use partition_last and allow\n",
    "# simplification of the term being peeled off.  The result is the \n",
    "# same, but the proof is potentially simpler (not so much right now\n",
    "# because the proof of 9-1=8 is overly complicated at the moment).\n",
    "sum_a_to_nine.partition_last(assumptions=[InSet(a, Integer), LessEq(a, seven)])"
   ]
  },
  {
   "cell_type": "code",
   "execution_count": 34,
   "metadata": {},
   "outputs": [
    {
     "data": {
      "text/html": [
       "<span style=\"font-size:20px;\"><a class=\"ProveItLink\" href=\"../../number_sets/integers/__pv_it/theorems/d82a9927958f2919b6e25fa4d8e512f4047160210/expr.ipynb\"><img src=\"data:image/png;base64,iVBORw0KGgoAAAANSUhEUgAAADIAAAAQBAMAAACmdTG/AAAAMFBMVEX////MzMwyMjKqqqoiIiJm\n",
       "ZmaYmJju7u5EREQQEBC6urqIiIh2dnZUVFTc3NwAAAAqL9KcAAAAAXRSTlMAQObYZgAAAAlwSFlz\n",
       "AAAOxAAADsQBlSsOGwAAAN5JREFUGNNjYMAAzJo/NVw6EzAlGLh7BRgUmLBIMLAGMHAnHMYmw/uA\n",
       "oYK9AcWUFhcnEM3OwBDIK4AkwaVdAGMyXhAFUXx39m0A0Y/gEgwcBe0gauUDju8gWg+h3YYNpJZ9\n",
       "GgOrA4irgJCBuJn1AwPLAZDZU1xcXDwgTjE4xcBQwMDZwFC/AKQX4c4KPiD7HkP9BoZ8MN8BLnMR\n",
       "6CP2Dwz1BgyXmB8A+bvhbg5YCvSuAwPHBmZXVpAAkwHczeoMfM0NDOy3D77dCPb6jeUQmZVNMzrm\n",
       "zziAHAgnIKEDBQC4NTJlmjuxlwAAAABJRU5ErkJggg==\n",
       "\" style=\"display:inline;vertical-align:middle;\" /></a>, <a class=\"ProveItLink\" href=\"../__pv_it/demonstrations/ffeed1e850313187bc8edf79bc81d8d745ca2b020/expr.ipynb\"><img src=\"data:image/png;base64,iVBORw0KGgoAAAANSUhEUgAAADIAAAASBAMAAADrvZC0AAAAMFBMVEX////MzMwyMjKqqqoiIiJm\n",
       "ZmaYmJju7u5EREQQEBC6urqIiIh2dnZUVFTc3NwAAAAqL9KcAAAAAXRSTlMAQObYZgAAAAlwSFlz\n",
       "AAAOxAAADsQBlSsOGwAAALZJREFUGNNjYMACnhUw4AD2////n4AmxqwHIk+EhoYYoEqwuYLNOcDA\n",
       "8BRVgtsHYgFQ/QUUiRpvOJNHAEjw3dm3AcwrdUMoegEiVj7g+A6ia5WRtN8CYvZpDKwOIA4vkgwf\n",
       "yM2sHxhYDoC5TxGm8SgACc4GhvoF6C5gaQAS9RsY8tFdzVAPcnS9AcMl5geoPmVYHwAkODYwu7Ii\n",
       "QkcREnAgm9lvH3y7ET1IXxowUAhKXEDAEc4HAAWJLGGWovKAAAAAAElFTkSuQmCC\n",
       "\" style=\"display:inline;vertical-align:middle;\" /></a> <a class=\"ProveItLink\" href=\"../__pv_it/demonstrations/88179ea0b244be4e8304bb5fed3ea8526a3d02450/proof.ipynb\" style=\"text-decoration: none\">&nbsp;&#x22A2;&nbsp;&nbsp;</a><a class=\"ProveItLink\" href=\"../__pv_it/demonstrations/616e2fb0c8ac4551db49da9137e181db1df24cb90/expr.ipynb\"><img src=\"data:image/png;base64,iVBORw0KGgoAAAANSUhEUgAAAV0AAAA/BAMAAACx7QZhAAAAMFBMVEX///92dnZEREQiIiKqqqpU\n",
       "VFTMzMyYmJgQEBDu7u7c3Ny6uroyMjKIiIhmZmYAAABumYecAAAAAXRSTlMAQObYZgAAAAlwSFlz\n",
       "AAAOxAAADsQBlSsOGwAAB65JREFUaN6dmm1oHEUYx5/c++zebQ7x7UNpziK2CpLDYqmozYkK1S/J\n",
       "F9/QkhW/+EHIUWutoCZQsba15rCCUYt3lKLFUi+gH/yiFyxSlNJcpMVWxEQLWqVNWvPWpE3X3duZ\n",
       "2ZebmZ3dgeTu9r/322dnnueZZ2YPwGoXwW4TEyDZDlQEIsFpTfv1jdU1SSz6UUbJjdmvyXyiTxKc\n",
       "Kwg0jIPf8OcaKsj2w88ySgPffqeOlmTBt/ElglOX7dfYKIzJYmP5YAXtwm/qNbgqCx4pcUeO4EbK\n",
       "uH8vp8uyWPRWsKKRu8+MphZlwYndPIXiLpAjk5dBum2uBCoDOn6j3vnhnDR4E08guNQCPpB6sn9K\n",
       "GhufClR+oIc+0Jelwb28mCe4LIndLKhvS2MTy0GKc0aqohalwdlCwAXpDR0EuFHeIb4PUuL0wrFy\n",
       "VpfviAXOsBHcPfTOKvCMvL29eoAyQCNdffVmeS68x3FfjEvRUFAuTtTksZmpAKUforUZ9mGCS16K\n",
       "htUuiRV0PaK9DWZSpbjqVDSsuihW0gsR7c0wJy2KG9Qjct8VK7GI4wYaM/NQXDdE9bOaUOksROQm\n",
       "mANHcf9Ftbe3LFQa+YhcZZ7p1RinXo5qb71PqMyMWm/HDaetSILfYY7ZKPaWVuWUdWGNpmRcDAmV\n",
       "8VYZ0WvY4YGOnB6+ImlvN6s0GccHs63KNGHg8Pv426eNIcmSckmozNrZ0qAzcbqnJAeeZJ03S/zY\n",
       "5vXPUuVlyVoqNydSFBwXPY43apIR2MvIsAQHdRsSNxxv/FMyjq+LFKIOGE5Y/mtfmhtoZOYtCC6G\n",
       "byZlOFlEq0lhU9zMYik5HF05w0mn6db/U9x5BgdOlVHMERxM4pMmDSedlqWwaNavfF5xFI14S7fv\n",
       "tEQe0Lo2i768cAfAL9hFGTMNxc1g544ZRT8W3t8pwoLR5nhmchnCSozMnyOG1x0PWEHu91ClAF2j\n",
       "VoHY8k1GIFNcN56O0fD1NiycFGGhx593bpiePlfCSpa4gWp44/Jvqwf9GSBZs5Jg2r6NLGNCpsfG\n",
       "iRs0jJIfC3MirPNVFYeUOSRfEiVDO6nriue+rAFo+O/UPDtpWmSvNWOMxTTFDZOvdhi7/Vh1SYSF\n",
       "7lHiO9ijzRvuI4rjhFnDXXAlrA+3+s1JFiFpjvhx+wMjUVKc44Tj1/zYjiERFvpLPnvNb+hEcexF\n",
       "w+4pX8u3lo4P/dO23jG/cFMYe0eMvA+b7UusrnCxLHsPQru9dE62e9v0HbSYeHxX23rHhLxuX9tO\n",
       "rdr6Vuvj2UvnZIKFavmRw2UuFmbKbfY+S5WqY6/m9rR4yVrqfp36yW/vvdbWhdteTyM45EpKM67A\n",
       "sLDQe6T0Uo2LZdirDDn2unypx1WZZUyn13bZHX6g1YEbnMl6wHYqRiFHcMhVNMVdlZmFhfPb7XOO\n",
       "tbi6DwtdTTxsG3fiYesYo4rb3nrRa2/85F9tBr1i/fsmlL3KrBcLD0zrAiy2192/ZI/AZ++Zmtcf\n",
       "qqWGH2xOT18APOy21+O/LHtze7xYNKcuCLAMe6t9VHHFm4cSM88drFRLviL7eYCzAFu5/suIN3Df\n",
       "tIVNL6G5HB/L8N/GFFVc9g64J6IO85aeg6ruXS0pm6anTaf5I4y9qTkfNjmGFjr4WIa9vXmGvWif\n",
       "p3Yzv3875C5682TcrDxM378/VP5t+rCxEvx+lo9l5N/DJapknPnNW9xsEKw0i1x7KW6YHjoZEsua\n",
       "L4AqTpG1xqu9Kdh5KHtrMXdPERwtsmKFkFha2tF6x1kx6s5FtfucaG1dh79Hh2fH+LJEPQnnHI8q\n",
       "SWGhh3uKqWikyNrhnLWt5c78VdxdvrF399FV37o+7SSzdEkK63IlfzOV3GJbMkvYOfQod5mK76yT\n",
       "sUAnOJgstyWzzXJY4O8nmEoaF2V1mszQjOTOYp2xfiM4GLRTkOLE5KeSG6HKrEhR533J7FC/Ibmz\n",
       "2GBsHKnzXpEmM+VRQ3IjVJ0XKciuprPXTrTa+mHDmJXc3xlkbDAhUpxX7RJl3MYe22hmWMlnI+kV\n",
       "odJjh4drn0v2GdwMaxx6XPW3VaK6muRDQ21BqPC3W4PauGj3VluOis1eEiqD5ahgpt8QXHoxKraz\n",
       "KFTqUxG5KeYOL8EpUR+LwEBeqGSKEbk5pp9R3M6o9k7qQqVjKSI3xtzPpbiuSkTuOrGirETkVpn7\n",
       "9hRXb0bDovkA5URrMzk8nfPA6gQJZisBpx8MjeU/X8PKYI2sA8O1Y5zbwAkt3Upoe8Ons2KAUrWi\n",
       "rh6aq3ASVhWHN7LShxL+4V69HKBoVtxsVehPo9AtUo+nOzimaCQMz1udXDiaD4eFriAFWRGy5dBI\n",
       "TVtjtrWwvzYgA65yPB6tuE5I/vrYnnBYtBKonDH/9pVS5Pg0vCjTD+d4whmSn82OzpwCPRxWKwYq\n",
       "8aY5Gzk7OXvhtIz7cn9JFScdb+aGurOTI4eF+migoi6bfvaVAvbAoWVY+1EwN8l9akp+dmb9Dm2r\n",
       "WqyFwsITEsoqSDZfoDsYe1JXXwvm7uBPX6tIRI7BllQxHwqb3i2hxJqxWnI7+fTdtongkk0R/OIp\n",
       "RhzibnMJ+ZQeBguHdQkFbQif1QXXprj9emjucSnls9DcT0QiwSmh7UWjAcr/32PUciEMDgUAAAAA\n",
       "SUVORK5CYII=\n",
       "\" style=\"display:inline;vertical-align:middle;\" /></a></span>"
      ],
      "text/plain": [
       "{a in Integer, a <= 7} |- (Sum_{k = a}^{9} (k - 2)) = ((Sum_{k = a}^{8} (k - 2)) + 7)"
      ]
     },
     "metadata": {},
     "output_type": "display_data"
    }
   ],
   "source": [
    "sum_a_to_nine.partition(nine, side='before', assumptions=[InSet(a, Integer), LessEq(a, seven)])"
   ]
  },
  {
   "cell_type": "code",
   "execution_count": 35,
   "metadata": {},
   "outputs": [
    {
     "data": {
      "text/html": [
       "<span style=\"font-size:20px;\"><a class=\"ProveItLink\" href=\"../../number_sets/integers/__pv_it/theorems/d82a9927958f2919b6e25fa4d8e512f4047160210/expr.ipynb\"><img src=\"data:image/png;base64,iVBORw0KGgoAAAANSUhEUgAAADIAAAAQBAMAAACmdTG/AAAAMFBMVEX////MzMwyMjKqqqoiIiJm\n",
       "ZmaYmJju7u5EREQQEBC6urqIiIh2dnZUVFTc3NwAAAAqL9KcAAAAAXRSTlMAQObYZgAAAAlwSFlz\n",
       "AAAOxAAADsQBlSsOGwAAAN5JREFUGNNjYMAAzJo/NVw6EzAlGLh7BRgUmLBIMLAGMHAnHMYmw/uA\n",
       "oYK9AcWUFhcnEM3OwBDIK4AkwaVdAGMyXhAFUXx39m0A0Y/gEgwcBe0gauUDju8gWg+h3YYNpJZ9\n",
       "GgOrA4irgJCBuJn1AwPLAZDZU1xcXDwgTjE4xcBQwMDZwFC/AKQX4c4KPiD7HkP9BoZ8MN8BLnMR\n",
       "6CP2Dwz1BgyXmB8A+bvhbg5YCvSuAwPHBmZXVpAAkwHczeoMfM0NDOy3D77dCPb6jeUQmZVNMzrm\n",
       "zziAHAgnIKEDBQC4NTJlmjuxlwAAAABJRU5ErkJggg==\n",
       "\" style=\"display:inline;vertical-align:middle;\" /></a>, <a class=\"ProveItLink\" href=\"../__pv_it/demonstrations/ffeed1e850313187bc8edf79bc81d8d745ca2b020/expr.ipynb\"><img src=\"data:image/png;base64,iVBORw0KGgoAAAANSUhEUgAAADIAAAASBAMAAADrvZC0AAAAMFBMVEX////MzMwyMjKqqqoiIiJm\n",
       "ZmaYmJju7u5EREQQEBC6urqIiIh2dnZUVFTc3NwAAAAqL9KcAAAAAXRSTlMAQObYZgAAAAlwSFlz\n",
       "AAAOxAAADsQBlSsOGwAAALZJREFUGNNjYMACnhUw4AD2////n4AmxqwHIk+EhoYYoEqwuYLNOcDA\n",
       "8BRVgtsHYgFQ/QUUiRpvOJNHAEjw3dm3AcwrdUMoegEiVj7g+A6ia5WRtN8CYvZpDKwOIA4vkgwf\n",
       "yM2sHxhYDoC5TxGm8SgACc4GhvoF6C5gaQAS9RsY8tFdzVAPcnS9AcMl5geoPmVYHwAkODYwu7Ii\n",
       "QkcREnAgm9lvH3y7ET1IXxowUAhKXEDAEc4HAAWJLGGWovKAAAAAAElFTkSuQmCC\n",
       "\" style=\"display:inline;vertical-align:middle;\" /></a> <a class=\"ProveItLink\" href=\"../__pv_it/demonstrations/88179ea0b244be4e8304bb5fed3ea8526a3d02450/proof.ipynb\" style=\"text-decoration: none\">&nbsp;&#x22A2;&nbsp;&nbsp;</a><a class=\"ProveItLink\" href=\"../__pv_it/demonstrations/616e2fb0c8ac4551db49da9137e181db1df24cb90/expr.ipynb\"><img src=\"data:image/png;base64,iVBORw0KGgoAAAANSUhEUgAAAV0AAAA/BAMAAACx7QZhAAAAMFBMVEX///92dnZEREQiIiKqqqpU\n",
       "VFTMzMyYmJgQEBDu7u7c3Ny6uroyMjKIiIhmZmYAAABumYecAAAAAXRSTlMAQObYZgAAAAlwSFlz\n",
       "AAAOxAAADsQBlSsOGwAAB65JREFUaN6dmm1oHEUYx5/c++zebQ7x7UNpziK2CpLDYqmozYkK1S/J\n",
       "F9/QkhW/+EHIUWutoCZQsba15rCCUYt3lKLFUi+gH/yiFyxSlNJcpMVWxEQLWqVNWvPWpE3X3duZ\n",
       "2ZebmZ3dgeTu9r/322dnnueZZ2YPwGoXwW4TEyDZDlQEIsFpTfv1jdU1SSz6UUbJjdmvyXyiTxKc\n",
       "Kwg0jIPf8OcaKsj2w88ySgPffqeOlmTBt/ElglOX7dfYKIzJYmP5YAXtwm/qNbgqCx4pcUeO4EbK\n",
       "uH8vp8uyWPRWsKKRu8+MphZlwYndPIXiLpAjk5dBum2uBCoDOn6j3vnhnDR4E08guNQCPpB6sn9K\n",
       "GhufClR+oIc+0Jelwb28mCe4LIndLKhvS2MTy0GKc0aqohalwdlCwAXpDR0EuFHeIb4PUuL0wrFy\n",
       "VpfviAXOsBHcPfTOKvCMvL29eoAyQCNdffVmeS68x3FfjEvRUFAuTtTksZmpAKUforUZ9mGCS16K\n",
       "htUuiRV0PaK9DWZSpbjqVDSsuihW0gsR7c0wJy2KG9Qjct8VK7GI4wYaM/NQXDdE9bOaUOksROQm\n",
       "mANHcf9Ftbe3LFQa+YhcZZ7p1RinXo5qb71PqMyMWm/HDaetSILfYY7ZKPaWVuWUdWGNpmRcDAmV\n",
       "8VYZ0WvY4YGOnB6+ImlvN6s0GccHs63KNGHg8Pv426eNIcmSckmozNrZ0qAzcbqnJAeeZJ03S/zY\n",
       "5vXPUuVlyVoqNydSFBwXPY43apIR2MvIsAQHdRsSNxxv/FMyjq+LFKIOGE5Y/mtfmhtoZOYtCC6G\n",
       "byZlOFlEq0lhU9zMYik5HF05w0mn6db/U9x5BgdOlVHMERxM4pMmDSedlqWwaNavfF5xFI14S7fv\n",
       "tEQe0Lo2i768cAfAL9hFGTMNxc1g544ZRT8W3t8pwoLR5nhmchnCSozMnyOG1x0PWEHu91ClAF2j\n",
       "VoHY8k1GIFNcN56O0fD1NiycFGGhx593bpiePlfCSpa4gWp44/Jvqwf9GSBZs5Jg2r6NLGNCpsfG\n",
       "iRs0jJIfC3MirPNVFYeUOSRfEiVDO6nriue+rAFo+O/UPDtpWmSvNWOMxTTFDZOvdhi7/Vh1SYSF\n",
       "7lHiO9ijzRvuI4rjhFnDXXAlrA+3+s1JFiFpjvhx+wMjUVKc44Tj1/zYjiERFvpLPnvNb+hEcexF\n",
       "w+4pX8u3lo4P/dO23jG/cFMYe0eMvA+b7UusrnCxLHsPQru9dE62e9v0HbSYeHxX23rHhLxuX9tO\n",
       "rdr6Vuvj2UvnZIKFavmRw2UuFmbKbfY+S5WqY6/m9rR4yVrqfp36yW/vvdbWhdteTyM45EpKM67A\n",
       "sLDQe6T0Uo2LZdirDDn2unypx1WZZUyn13bZHX6g1YEbnMl6wHYqRiFHcMhVNMVdlZmFhfPb7XOO\n",
       "tbi6DwtdTTxsG3fiYesYo4rb3nrRa2/85F9tBr1i/fsmlL3KrBcLD0zrAiy2192/ZI/AZ++Zmtcf\n",
       "qqWGH2xOT18APOy21+O/LHtze7xYNKcuCLAMe6t9VHHFm4cSM88drFRLviL7eYCzAFu5/suIN3Df\n",
       "tIVNL6G5HB/L8N/GFFVc9g64J6IO85aeg6ruXS0pm6anTaf5I4y9qTkfNjmGFjr4WIa9vXmGvWif\n",
       "p3Yzv3875C5682TcrDxM378/VP5t+rCxEvx+lo9l5N/DJapknPnNW9xsEKw0i1x7KW6YHjoZEsua\n",
       "L4AqTpG1xqu9Kdh5KHtrMXdPERwtsmKFkFha2tF6x1kx6s5FtfucaG1dh79Hh2fH+LJEPQnnHI8q\n",
       "SWGhh3uKqWikyNrhnLWt5c78VdxdvrF399FV37o+7SSzdEkK63IlfzOV3GJbMkvYOfQod5mK76yT\n",
       "sUAnOJgstyWzzXJY4O8nmEoaF2V1mszQjOTOYp2xfiM4GLRTkOLE5KeSG6HKrEhR533J7FC/Ibmz\n",
       "2GBsHKnzXpEmM+VRQ3IjVJ0XKciuprPXTrTa+mHDmJXc3xlkbDAhUpxX7RJl3MYe22hmWMlnI+kV\n",
       "odJjh4drn0v2GdwMaxx6XPW3VaK6muRDQ21BqPC3W4PauGj3VluOis1eEiqD5ahgpt8QXHoxKraz\n",
       "KFTqUxG5KeYOL8EpUR+LwEBeqGSKEbk5pp9R3M6o9k7qQqVjKSI3xtzPpbiuSkTuOrGirETkVpn7\n",
       "9hRXb0bDovkA5URrMzk8nfPA6gQJZisBpx8MjeU/X8PKYI2sA8O1Y5zbwAkt3Upoe8Ons2KAUrWi\n",
       "rh6aq3ASVhWHN7LShxL+4V69HKBoVtxsVehPo9AtUo+nOzimaCQMz1udXDiaD4eFriAFWRGy5dBI\n",
       "TVtjtrWwvzYgA65yPB6tuE5I/vrYnnBYtBKonDH/9pVS5Pg0vCjTD+d4whmSn82OzpwCPRxWKwYq\n",
       "8aY5Gzk7OXvhtIz7cn9JFScdb+aGurOTI4eF+migoi6bfvaVAvbAoWVY+1EwN8l9akp+dmb9Dm2r\n",
       "WqyFwsITEsoqSDZfoDsYe1JXXwvm7uBPX6tIRI7BllQxHwqb3i2hxJqxWnI7+fTdtongkk0R/OIp\n",
       "RhzibnMJ+ZQeBguHdQkFbQif1QXXprj9emjucSnls9DcT0QiwSmh7UWjAcr/32PUciEMDgUAAAAA\n",
       "SUVORK5CYII=\n",
       "\" style=\"display:inline;vertical-align:middle;\" /></a></span>"
      ],
      "text/plain": [
       "{a in Integer, a <= 7} |- (Sum_{k = a}^{9} (k - 2)) = ((Sum_{k = a}^{8} (k - 2)) + 7)"
      ]
     },
     "metadata": {},
     "output_type": "display_data"
    }
   ],
   "source": [
    "# The same thing is accomplished by partitioning this way\n",
    "# where we can recognize that we are splitting off just the last term.\n",
    "sum_a_to_nine.partition(nine, side='before', assumptions=[InSet(a, Integer), LessEq(a, seven)])"
   ]
  },
  {
   "cell_type": "code",
   "execution_count": 36,
   "metadata": {},
   "outputs": [
    {
     "data": {
      "text/html": [
       "<span style=\"font-size:20px;\"><a class=\"ProveItLink\" href=\"../../number_sets/integers/__pv_it/theorems/d82a9927958f2919b6e25fa4d8e512f4047160210/expr.ipynb\"><img src=\"data:image/png;base64,iVBORw0KGgoAAAANSUhEUgAAADIAAAAQBAMAAACmdTG/AAAAMFBMVEX////MzMwyMjKqqqoiIiJm\n",
       "ZmaYmJju7u5EREQQEBC6urqIiIh2dnZUVFTc3NwAAAAqL9KcAAAAAXRSTlMAQObYZgAAAAlwSFlz\n",
       "AAAOxAAADsQBlSsOGwAAAN5JREFUGNNjYMAAzJo/NVw6EzAlGLh7BRgUmLBIMLAGMHAnHMYmw/uA\n",
       "oYK9AcWUFhcnEM3OwBDIK4AkwaVdAGMyXhAFUXx39m0A0Y/gEgwcBe0gauUDju8gWg+h3YYNpJZ9\n",
       "GgOrA4irgJCBuJn1AwPLAZDZU1xcXDwgTjE4xcBQwMDZwFC/AKQX4c4KPiD7HkP9BoZ8MN8BLnMR\n",
       "6CP2Dwz1BgyXmB8A+bvhbg5YCvSuAwPHBmZXVpAAkwHczeoMfM0NDOy3D77dCPb6jeUQmZVNMzrm\n",
       "zziAHAgnIKEDBQC4NTJlmjuxlwAAAABJRU5ErkJggg==\n",
       "\" style=\"display:inline;vertical-align:middle;\" /></a>, <a class=\"ProveItLink\" href=\"../__pv_it/demonstrations/ffeed1e850313187bc8edf79bc81d8d745ca2b020/expr.ipynb\"><img src=\"data:image/png;base64,iVBORw0KGgoAAAANSUhEUgAAADIAAAASBAMAAADrvZC0AAAAMFBMVEX////MzMwyMjKqqqoiIiJm\n",
       "ZmaYmJju7u5EREQQEBC6urqIiIh2dnZUVFTc3NwAAAAqL9KcAAAAAXRSTlMAQObYZgAAAAlwSFlz\n",
       "AAAOxAAADsQBlSsOGwAAALZJREFUGNNjYMACnhUw4AD2////n4AmxqwHIk+EhoYYoEqwuYLNOcDA\n",
       "8BRVgtsHYgFQ/QUUiRpvOJNHAEjw3dm3AcwrdUMoegEiVj7g+A6ia5WRtN8CYvZpDKwOIA4vkgwf\n",
       "yM2sHxhYDoC5TxGm8SgACc4GhvoF6C5gaQAS9RsY8tFdzVAPcnS9AcMl5geoPmVYHwAkODYwu7Ii\n",
       "QkcREnAgm9lvH3y7ET1IXxowUAhKXEDAEc4HAAWJLGGWovKAAAAAAElFTkSuQmCC\n",
       "\" style=\"display:inline;vertical-align:middle;\" /></a> <a class=\"ProveItLink\" href=\"../__pv_it/demonstrations/82ecd9802978453d90457deba084785ef95eb3400/proof.ipynb\" style=\"text-decoration: none\">&nbsp;&#x22A2;&nbsp;&nbsp;</a><a class=\"ProveItLink\" href=\"../__pv_it/demonstrations/2f59501744eea4c9d388fa08c3e6923a397edf740/expr.ipynb\"><img src=\"data:image/png;base64,iVBORw0KGgoAAAANSUhEUgAAAZEAAAA/BAMAAADTbuhOAAAAMFBMVEX///92dnZEREQiIiKqqqpU\n",
       "VFTMzMyYmJgQEBDu7u7c3Ny6uroyMjKIiIhmZmYAAABumYecAAAAAXRSTlMAQObYZgAAAAlwSFlz\n",
       "AAAOxAAADsQBlSsOGwAACE9JREFUaN6dWl1sFFUUvt2f2Z3Z3ek++PeAtBIj2IR0I0owKl2iJmhM\n",
       "2hcjD5KO4cUHTTeAiImhJBgRFLsBE6sSdzXEEA3uJvrgi7aRGKIhdCsQwRhbJSIqtEj/6EId5879\n",
       "mTs/d/bOnaTtdma+b8537znnnntmAYDHFYCO8XEgeBwuh1wkdHqDYVRfFaBVvweRDxaTG0V/k/lE\n",
       "nyA81xlyDdOBX1jGF0+L8P4YXQmLGamiv+2GuigKv4t/idBlmi7GR0VoY/noShyMuhd/qFXBDVH4\n",
       "cJE724RuuORiFFKivibhXhSjE29I15UFUXhiH+8KpbvsZhRSAjaWo0uhmAEDf8jc++6sMHw97wKh\n",
       "U+bdjGJK4pPRlVDMd/TUO0ZTGN5b5VwgdNk+xKissI4uUSWJZnQlBONglXKmIAzPdrYwBUplGcWU\n",
       "gG8lshfGxKlJsVLWEB+Iec5UE7r7PIyCSnqN6EowZoBmoczLt0WAv80JE0ynzLoZPxq7U4g2LREo\n",
       "GNMP5I7p4NOELnlVjla/KotR/5NUMlIKTO6ErjIpR5tZkMWk5iWVpEeDzlK6QUOS9y1ZTEzSC4Ae\n",
       "mC8pXTeQ9dqqJKa9U/KJiUA3oHTXZJX0liQxI3nJJ2pzgdGD6TL/yiqp9Ulipuvw45jpHEuC8DcC\n",
       "57mOfc+uHLMMrdkQjL/dEjELMWN2+dVrogBVPzs7dF0Q3h1U7I3hk1m7mk+YOAG8//UmU9DC2GJ0\n",
       "JTZmBmV/k1YVqZ6iGHwi6L4ZEi+Ir3+GXtkmWJ3mZqMrgRgNR2aP4/W6YA7oDVgxCB2oIZK46Xj9\n",
       "74KZRGKBgxiCGzCdlPE3Moob6qQu6QwxA8tUTCfD6Si9VlvQKtf418IwORzfOdNZHlL27zPcFRWH\n",
       "biWgcCZ0YALfNGE6lttjlSu2oFVn/NfOCGB04pXdHoJEHqirfLZ+fvkeAH7CoRCwplK6aWxwzPRw\n",
       "bADg4J4wWmD6Z9pK7VN/lMMxMVJdDJtutz8ME5A3ErRO0FEHWcQZD0gylK4bFyvqkNvtVVjjnAqj\n",
       "BT2+nGjZcqih7A/HZIlTZUx3zvgTjrrXE5JVmLpTSGA2oFyh58aIU42YLhIduthsGK0DzZQcWzYB\n",
       "sCIck6YD23HdNRYw+494R8e6O2nZiroRsYBGDKUbItA209W7SEMLF8NoQXedOFXDseWmZWA5FOM4\n",
       "e9Zki9sE/OcOr6HJAkha/nMC/ROQ+Cmd4+xjN9kbnoLidofRgv6iR4lli2olp4l6KMZRog6xpZKe\n",
       "t5sLG/7y7W4twK1RlAybbGX3m92rSCwvc2n9SqAtcE5KoRgmAZGKBc2QBVMXEk/u9e1uLXrU4tXR\n",
       "UqGvsY8+nhJasdgHHMNK6bGjJS4tmC55lEBbrDjpboRiKo4SnfXoeBG2Sb5UfvAqeQC2ylglroPQ\n",
       "qUwqnWYD8H44ZJ8VX6hyaf1KoC3DdaW/GIqpMD7bw1TBacsp9b1okg7bg77WKWUGUCwHFM2ETmXK\n",
       "0DhbBb9p/Vzage45bvMaHlrQ0cBTvW4Pmmpoi3rllgkjFMMqqRXcSuKnLvpMfQn++iqSEo1dc6GS\n",
       "h6eMEFqshJmTNAr1jnIohlVyrur2rkpxxPCvtp+S1hVW4oqTICU5dkmzvEudzcyH0PqVxJFbrQjH\n",
       "MBHv4o9ZLIPlStETZc8BcB6Ardw4CYh44BqO1VZZt6jO5vi0/jiBtmwsq/PhGEbJABtRbdYYPwsq\n",
       "hntvrK2fmiqgVCqsRHElaytrJkfV+TY+rV8JtOV0OVYKxzDryQH2RsW6626Qu+L2zbi1ibWWzIci\n",
       "rSeuad1iDXER/HqeT+tfT6Atbcv/AeGYtLPGu8vFtSG9iAJXCaUboqfc5WLcaEXrVxJiC4NxClpP\n",
       "QO0K6XSV3HUvayihowVtzL0fS022oqVltFNB7hLBUHP0B52sYFvAb6B9jK1uClT14ILjn/ZYd7Wi\n",
       "BT2+J/NtYTA6KWh3Ondvt8OGv5vv8ngSO0Y3PN2ilJOCU7aSg61oGcekIdwpgMkt+FJwAq0Jx7iN\n",
       "DKy5PaDtQ+jARMmXglFhoTVa0IKALtUxAUwKF8A1moLV6UnBxl/APp7QgUGUvjUnK3wo2DPRZiT6\n",
       "oRYmM+dJwUf6TUMMPhLQ9szMuS/SFKw9bgq+FMjMRVcCMSraB2VvnrSPNUOmKTomgwF+opJtVQVt\n",
       "28YQ7fF1VvYXfIeZWoquxMb0oABl+reir2Kmg+auh9kFwY0Ccwj24HWJFzo2RuZ1Bd7WBsrDdHpT\n",
       "ljZ7VRIzWJJ9ZKAXErrUgixte0ESU5uUfKIS+IaE0Gmyry/BQF4Sky5IPjEX6M+Ubo+skglDEtO2\n",
       "KPnE2O6gs5SuoyzJu0oWoy1JPrES+BaN0tUacrTqnDTmJPy1LfpzOa+pT5J0AheU1CPRlwaJJIwx\n",
       "g1Vn0x/lOM4RiNNwqkkaEBETqkTcYkwFxn0teqnDSbMVnHpUmNq06GtDTWJVwBgdRu5WzfkS6e3j\n",
       "IotlG8dInSSCS3BiOo/lo9GCDonYwhgVxujmI8NVHX6lbCU4VB0QeWSFE1nqEnND8ucn9kejVSUS\n",
       "EMWcs34OFBVyfgo8LwK/wLtwjqw31uSkzwAjGq0uESYUE29YK/JFpkt4ViRMuN9ijZPJsvJWzek2\n",
       "itGCWl0iTAgm07T8+QsNIDdQm2Dle63RSe53MjKkdhypgq2ZQjUSLXhaIkwczDKQbGyhvbT9yo1X\n",
       "WqN38pfwZSQnjILNSiEfiTa1T2I1cTCxRqya3EH++2b7eOtEqL0eUsYQ91oNusAzRhRacFSi6GIw\n",
       "6troa1GIVZTuUHSzTkg4F4v5JDL6g7CLhE6LrESViHeM+R9xiAi591/J3gAAAABJRU5ErkJggg==\n",
       "\" style=\"display:inline;vertical-align:middle;\" /></a></span>"
      ],
      "text/plain": [
       "{a in Integer, a <= 7} |- (Sum_{k = a}^{9} (k - 2)) = ((Sum_{k = a}^{9 - 1} (k - 2)) + (9 - 2))"
      ]
     },
     "metadata": {},
     "output_type": "display_data"
    }
   ],
   "source": [
    "# We can also explicitly use partition_last and suppress the\n",
    "# simplification of the term being peeled off\n",
    "sum_a_to_nine.partition_last(assumptions=[InSet(a, Integer), LessEq(a, seven)],\n",
    "                             auto_simplify=False)"
   ]
  },
  {
   "cell_type": "code",
   "execution_count": 37,
   "metadata": {},
   "outputs": [
    {
     "data": {
      "text/html": [
       "<span style=\"font-size:20px;\"> <a class=\"ProveItLink\" href=\"../__pv_it/demonstrations/1b0b60494c09e6da8495d589e64315cf41879a490/proof.ipynb\" style=\"text-decoration: none\">&nbsp;&#x22A2;&nbsp;&nbsp;</a><a class=\"ProveItLink\" href=\"../__pv_it/demonstrations/8c4c95c9f0739bcddb9df1adae69d26f899c2aee0/expr.ipynb\"><img src=\"data:image/png;base64,iVBORw0KGgoAAAANSUhEUgAAAVMAAAA/BAMAAACvJDbSAAAAMFBMVEX///92dnZEREQiIiKqqqpU\n",
       "VFTMzMyYmJgQEBDu7u7c3Ny6uroyMjKIiIhmZmYAAABumYecAAAAAXRSTlMAQObYZgAAAAlwSFlz\n",
       "AAAOxAAADsQBlSsOGwAACCZJREFUaN6dWmtoHEUc/99zb/eeIPWTNbEfVISS09jSIjYpRajQkogU\n",
       "H1Byoih+6R1asYI0gfporTVnfRBq2ztq8YlevkiLUBJaahGqiWKwijZn86EqNZdHkzRNdZ29ndmd\n",
       "2Z3ZnexALpf9z/5/v535v+a/ATDGP2CO0O8lkBjqtx7CzKivZOXPMihwuOyGSw/jL9/Ep6SU/Ogh\n",
       "+81XkioUpVDSrW64oSpe1DoMSikJ54Si5HVfya2QlEKB21xw6uv4S+LrB+V0qK8IRQMlX8n+42U5\n",
       "mIFOJ1yG7H/l5qMlOSWbhWBXwE+iTj97WQ4lus8JVyzgL7WSel1OSaQuEMTnwU+iLUClKgezwQl3\n",
       "lkiyBViQfF7RI6W6wVcyD1nJzeuqsnA2bGQQluR0wGkf5V6S+yAr572QamXhIuRvUOrxvCTVrgL/\n",
       "+j3CO2zJbnhSEiU6z8IVOy3RDxclfRMSfGONXxWaqi1Jr/xLEgXeYuF6IMDI8HNFTJhCYlNBYBoM\n",
       "nPpfEB1Jvv9VRJHBQ+I1hko0nDIfRAe8yb3aWxDNF0s87WyYhgsH2hlocF29TTi/LRBK5joNl20N\n",
       "pKSLGxpnhPNnAqFEF2i4oVwgJTVerE9OC217OhCKNkfDNZrheES3x79SVtTH2y9hBjElKQpFH5WB\n",
       "2UvDjTRDaZdumr36+Vj/Nak6cJGXXRaFeacpierYhw+delTvk4FpK1Nws2bY0608pXR0ytS9vGCf\n",
       "FSY7LOmZta48f1WG6ninDadhe++YszdLxtGivHBcE96JJRHdNvFLUt5bt+EIZFG3Xfrv5qeg8MCX\n",
       "4zMeioWSuG6njkxTkybwJ1KgttpwaexEad2u65TmBYEZnMIF8ixvu4SuQiTjur0CzbX5SRAx8PxK\n",
       "3obLEJNpc2BvRD8XHY86eboAabz6Oi8vkMfbIZKEddacoyhUph178eWV2wHwoTZLEhSCC5O8OqAz\n",
       "d6hGSrub1XEMQijm4KNuB6cIayPZc41IovazNn7YMGA2smut0DIIKVN9hMQUBJci+57UGZfMUNko\n",
       "ib8/3oxzu80/Rji2TK6lCdUTTgkM6Yxh0acsPDlWNaKoYi6cRQ8pSFihsOUavU4Jepew4fSXoQfd\n",
       "YU5r41Ty/VjDM+QMtNUpgZC+j76DDq54MmIUQwTNaWGSVBCcZQwolQxT923hUH0YBcYCpMw17uG4\n",
       "HbHfnIuqbdkjN2jNw26qsTzEkFWeM/8gW43gbKpqP52n/0AXLpZYqobJoHXp9qOarnpQHdAp08yg\n",
       "70cuOydDBJFa4UHVSq7NgR4qlOxzUo2j0KaYK9Ewn2Oi3RhrGEIfgwdVK7k2dxIpyZ10US0iwJfN\n",
       "ZyFxGMFVbKoZ2ozuBXiK9DJsqhG0otE+mioTNTChnIuqSoW2BuUTkU6Id15xUTWefLObKmXYHVRN\n",
       "tR+gnDAoZtrb1+1pb++2kiFuwbW4w71qFjpK1aSKFnwvXnCVKoEiVE2VGAQVDjgmm5ndbMGFCCUE\n",
       "R1Ot5Rmq0FV2rKpiEMZmIab6BbhXlaKqUbkGUYXoonNVXzA+TnpSvVBlDADOqg6qG0GrQjRPU6Vt\n",
       "FRP6atu2aw+JqabfANoAINVdZiejDPYZwCYXVcqtkvSBcDXSvxRiqcZzkC6D0iqyVdt5XhW7FQxR\n",
       "zhtGmiuDOXbyEwC/ADznslWKapEOPysMo/yYpfrh5OSEGWD8qM6IqTJdDSPwFbUSM1nbMDmZb0ZL\n",
       "IVX1AI1q9GoeccTVDl2/0exs+aWAS/p2cVylbdxoPMVeZJ8rgg4zw0ZnyxlXE3a2YsqVSMGdrfDa\n",
       "gpBqv/PCVrfke2bCWt7k5trmXVSt0gVWMTqUurtcYSqMNk4PwlVtnXBJwuxBYTdvMlUuWYUfgrO+\n",
       "Z9bbq2h83CU672KsjqpHESiWTNhPY2xLWNTkPIY3l1RWCM46D++yb9ppfBwUHVWrgs22DurgIVHs\n",
       "SKUYVFXRaQyvlGWfCC694IpUZubUBIePX/Fv3hF8XNiNJhIqUm0m+YJ7IMYLku2z4RRcTtUsL1Eb\n",
       "Mk07jXe26hV2arBEsyPVUakOJEmgBlxyzhGpjvfoMk275Byvxyh8E4AlVqTSHtClOpBEowGnmpVu\n",
       "6sb55mjv1/VZGR0Kr11UGRa2V03JiIlyZh2KnVK9/N5RCq7DNHuqmST1liXDW5SIsAFqSjJ0z0rq\n",
       "LUujQME1qoF6dKkpr3boMiTeY4SG6y0F0sFtTynCDVEWglGdpeFq9UA6ijxn14RerQV64wDxaRou\n",
       "kQ+kZJwbJvYI5+8JhJKep+FCi4GU3Mm92iJ879VSDoIS7qPhNDPqqMvzLnWOH7GF/TUsObQ8qpVu\n",
       "Bu68WeQSkLdXPCYTVvkBPCUMrFiyktjuzjGZRENeIWG4XnY96zAhE6v4Fq4IY5JDEsul+yRgzrBw\n",
       "FdaXl6Am8bw1fohThS9SHJJ4ISThztoCC5cxHi85RsQvSVFtEVz/U3hHU3LKLhIiEvE8NMXCqYZf\n",
       "HcmWM6vQuAN9v0nCq0QvjCpCvzIk6ugiXDJgSpD+TsarRh1wF9DPp5vsvVkvUQGIdk9sgYZEe9e+\n",
       "76DEe6sJJ1xk1Dz3k6OCRASsCcv9+8FLErb5xf2LQG3JCWf8A5S6WMAGoNU1/xC7TVxgVr0klfex\n",
       "AQwUNP+qINbtgrvF6MmSUuDY0zt8l1XZJ/aEYS/JlgzZybKHDjJ2lV1waFvU7WQ1UG3tq+MTjxix\n",
       "2kvyHjmZxVeO+e6d9pobTl27zNR8zkP2TmH5EkGaKXHgPlqeDtXrf4+0wvIl/PEBC/c/cBXMGDs+\n",
       "XKsAAAAASUVORK5CYII=\n",
       "\" style=\"display:inline;vertical-align:middle;\" /></a></span>"
      ],
      "text/plain": [
       "|- (Sum_{i = 2}^{6} (i + 2)) = (4 + (Sum_{i = 3}^{6} (i + 2)))"
      ]
     },
     "metadata": {},
     "output_type": "display_data"
    }
   ],
   "source": [
    "# Here we call split, which in turn calls split_off_first\n",
    "sum_2_to_6_i_plus_2.partition(two, side='after')"
   ]
  },
  {
   "cell_type": "code",
   "execution_count": 38,
   "metadata": {},
   "outputs": [
    {
     "data": {
      "text/html": [
       "<span style=\"font-size:20px;\"> <a class=\"ProveItLink\" href=\"../__pv_it/demonstrations/1b0b60494c09e6da8495d589e64315cf41879a490/proof.ipynb\" style=\"text-decoration: none\">&nbsp;&#x22A2;&nbsp;&nbsp;</a><a class=\"ProveItLink\" href=\"../__pv_it/demonstrations/8c4c95c9f0739bcddb9df1adae69d26f899c2aee0/expr.ipynb\"><img src=\"data:image/png;base64,iVBORw0KGgoAAAANSUhEUgAAAVMAAAA/BAMAAACvJDbSAAAAMFBMVEX///92dnZEREQiIiKqqqpU\n",
       "VFTMzMyYmJgQEBDu7u7c3Ny6uroyMjKIiIhmZmYAAABumYecAAAAAXRSTlMAQObYZgAAAAlwSFlz\n",
       "AAAOxAAADsQBlSsOGwAACCZJREFUaN6dWmtoHEUc/99zb/eeIPWTNbEfVISS09jSIjYpRajQkogU\n",
       "H1Byoih+6R1asYI0gfporTVnfRBq2ztq8YlevkiLUBJaahGqiWKwijZn86EqNZdHkzRNdZ29ndmd\n",
       "2Z3ZnexALpf9z/5/v535v+a/ATDGP2CO0O8lkBjqtx7CzKivZOXPMihwuOyGSw/jL9/Ep6SU/Ogh\n",
       "+81XkioUpVDSrW64oSpe1DoMSikJ54Si5HVfya2QlEKB21xw6uv4S+LrB+V0qK8IRQMlX8n+42U5\n",
       "mIFOJ1yG7H/l5qMlOSWbhWBXwE+iTj97WQ4lus8JVyzgL7WSel1OSaQuEMTnwU+iLUClKgezwQl3\n",
       "lkiyBViQfF7RI6W6wVcyD1nJzeuqsnA2bGQQluR0wGkf5V6S+yAr572QamXhIuRvUOrxvCTVrgL/\n",
       "+j3CO2zJbnhSEiU6z8IVOy3RDxclfRMSfGONXxWaqi1Jr/xLEgXeYuF6IMDI8HNFTJhCYlNBYBoM\n",
       "nPpfEB1Jvv9VRJHBQ+I1hko0nDIfRAe8yb3aWxDNF0s87WyYhgsH2hlocF29TTi/LRBK5joNl20N\n",
       "pKSLGxpnhPNnAqFEF2i4oVwgJTVerE9OC217OhCKNkfDNZrheES3x79SVtTH2y9hBjElKQpFH5WB\n",
       "2UvDjTRDaZdumr36+Vj/Nak6cJGXXRaFeacpierYhw+delTvk4FpK1Nws2bY0608pXR0ytS9vGCf\n",
       "FSY7LOmZta48f1WG6ninDadhe++YszdLxtGivHBcE96JJRHdNvFLUt5bt+EIZFG3Xfrv5qeg8MCX\n",
       "4zMeioWSuG6njkxTkybwJ1KgttpwaexEad2u65TmBYEZnMIF8ixvu4SuQiTjur0CzbX5SRAx8PxK\n",
       "3obLEJNpc2BvRD8XHY86eboAabz6Oi8vkMfbIZKEddacoyhUph178eWV2wHwoTZLEhSCC5O8OqAz\n",
       "d6hGSrub1XEMQijm4KNuB6cIayPZc41IovazNn7YMGA2smut0DIIKVN9hMQUBJci+57UGZfMUNko\n",
       "ib8/3oxzu80/Rji2TK6lCdUTTgkM6Yxh0acsPDlWNaKoYi6cRQ8pSFihsOUavU4Jepew4fSXoQfd\n",
       "YU5r41Ty/VjDM+QMtNUpgZC+j76DDq54MmIUQwTNaWGSVBCcZQwolQxT923hUH0YBcYCpMw17uG4\n",
       "HbHfnIuqbdkjN2jNw26qsTzEkFWeM/8gW43gbKpqP52n/0AXLpZYqobJoHXp9qOarnpQHdAp08yg\n",
       "70cuOydDBJFa4UHVSq7NgR4qlOxzUo2j0KaYK9Ewn2Oi3RhrGEIfgwdVK7k2dxIpyZ10US0iwJfN\n",
       "ZyFxGMFVbKoZ2ozuBXiK9DJsqhG0otE+mioTNTChnIuqSoW2BuUTkU6Id15xUTWefLObKmXYHVRN\n",
       "tR+gnDAoZtrb1+1pb++2kiFuwbW4w71qFjpK1aSKFnwvXnCVKoEiVE2VGAQVDjgmm5ndbMGFCCUE\n",
       "R1Ot5Rmq0FV2rKpiEMZmIab6BbhXlaKqUbkGUYXoonNVXzA+TnpSvVBlDADOqg6qG0GrQjRPU6Vt\n",
       "FRP6atu2aw+JqabfANoAINVdZiejDPYZwCYXVcqtkvSBcDXSvxRiqcZzkC6D0iqyVdt5XhW7FQxR\n",
       "zhtGmiuDOXbyEwC/ADznslWKapEOPysMo/yYpfrh5OSEGWD8qM6IqTJdDSPwFbUSM1nbMDmZb0ZL\n",
       "IVX1AI1q9GoeccTVDl2/0exs+aWAS/p2cVylbdxoPMVeZJ8rgg4zw0ZnyxlXE3a2YsqVSMGdrfDa\n",
       "gpBqv/PCVrfke2bCWt7k5trmXVSt0gVWMTqUurtcYSqMNk4PwlVtnXBJwuxBYTdvMlUuWYUfgrO+\n",
       "Z9bbq2h83CU672KsjqpHESiWTNhPY2xLWNTkPIY3l1RWCM46D++yb9ppfBwUHVWrgs22DurgIVHs\n",
       "SKUYVFXRaQyvlGWfCC694IpUZubUBIePX/Fv3hF8XNiNJhIqUm0m+YJ7IMYLku2z4RRcTtUsL1Eb\n",
       "Mk07jXe26hV2arBEsyPVUakOJEmgBlxyzhGpjvfoMk275Byvxyh8E4AlVqTSHtClOpBEowGnmpVu\n",
       "6sb55mjv1/VZGR0Kr11UGRa2V03JiIlyZh2KnVK9/N5RCq7DNHuqmST1liXDW5SIsAFqSjJ0z0rq\n",
       "LUujQME1qoF6dKkpr3boMiTeY4SG6y0F0sFtTynCDVEWglGdpeFq9UA6ijxn14RerQV64wDxaRou\n",
       "kQ+kZJwbJvYI5+8JhJKep+FCi4GU3Mm92iJ879VSDoIS7qPhNDPqqMvzLnWOH7GF/TUsObQ8qpVu\n",
       "Bu68WeQSkLdXPCYTVvkBPCUMrFiyktjuzjGZRENeIWG4XnY96zAhE6v4Fq4IY5JDEsul+yRgzrBw\n",
       "FdaXl6Am8bw1fohThS9SHJJ4ISThztoCC5cxHi85RsQvSVFtEVz/U3hHU3LKLhIiEvE8NMXCqYZf\n",
       "HcmWM6vQuAN9v0nCq0QvjCpCvzIk6ugiXDJgSpD+TsarRh1wF9DPp5vsvVkvUQGIdk9sgYZEe9e+\n",
       "76DEe6sJJ1xk1Dz3k6OCRASsCcv9+8FLErb5xf2LQG3JCWf8A5S6WMAGoNU1/xC7TVxgVr0klfex\n",
       "AQwUNP+qINbtgrvF6MmSUuDY0zt8l1XZJ/aEYS/JlgzZybKHDjJ2lV1waFvU7WQ1UG3tq+MTjxix\n",
       "2kvyHjmZxVeO+e6d9pobTl27zNR8zkP2TmH5EkGaKXHgPlqeDtXrf4+0wvIl/PEBC/c/cBXMGDs+\n",
       "XKsAAAAASUVORK5CYII=\n",
       "\" style=\"display:inline;vertical-align:middle;\" /></a></span>"
      ],
      "text/plain": [
       "|- (Sum_{i = 2}^{6} (i + 2)) = (4 + (Sum_{i = 3}^{6} (i + 2)))"
      ]
     },
     "metadata": {},
     "output_type": "display_data"
    }
   ],
   "source": [
    "# Or we can manually call partition_first\n",
    "sum_2_to_6_i_plus_2.partition_first()"
   ]
  },
  {
   "cell_type": "code",
   "execution_count": 39,
   "metadata": {},
   "outputs": [
    {
     "data": {
      "text/html": [
       "<span style=\"font-size:20px;\"> <a class=\"ProveItLink\" href=\"../__pv_it/demonstrations/fd01121bb0de70331c686fb766c768f8c5fe791f0/proof.ipynb\" style=\"text-decoration: none\">&nbsp;&#x22A2;&nbsp;&nbsp;</a><a class=\"ProveItLink\" href=\"../__pv_it/demonstrations/8f1ecd2c33d1e7380253e570b96453994e3a78c70/expr.ipynb\"><img src=\"data:image/png;base64,iVBORw0KGgoAAAANSUhEUgAAAZkAAAA/BAMAAADAuai6AAAAMFBMVEX///92dnZEREQiIiKqqqpU\n",
       "VFTMzMyYmJgQEBDu7u7c3Ny6uroyMjKIiIhmZmYAAABumYecAAAAAXRSTlMAQObYZgAAAAlwSFlz\n",
       "AAAOxAAADsQBlSsOGwAACCtJREFUaN6lWl1oHEUcn7vLfeze3SYg9amQmActhZLTtMUi7V3pSwVL\n",
       "AiKiIDlRfPQOUawgzUFFW7TmrA8WtN5RxU/08hYRJKFSi1BoFItRbHttHlqk5qMxSdPUrrMzs7sz\n",
       "szN7s5OBpNfZ/P7z+83M/2NmDwCn/QNwi12sAoVm/Bzy0JoGkRuDUSSB2kf1IKP8FPnwU2pByciv\n",
       "Ic/+ii6GxaiSQMz7gowmm2RW2mBcyUi8R/ooezu6GAajTAK1+wKMjLfIh8z3j6rZMN6QPjpRja6G\n",
       "wSiTwNASz8hyN1rj3o8Vueyvy57c0NhoDEadhNO6jvKMKmXyoVU1FPdJoi15kFqJLobFqJNAbQ/P\n",
       "6Iz7pLsMVhWnRDZgbji6GhajTgK1oSbLyGeWGAfrikZOdzAONAhFJoGmoo9llHD/D9LtVEGVQVnc\n",
       "/5CG27CYCCTQWqywjCol79Evl+qKRjJix0n9q+E2HEadBGrvsoxGNKYTWOIMl1yIbkoHQ7V5hpFx\n",
       "V8dGVuypjXZ0UzoYqk1WaUbpFS0j7wh7R8vRLelg6D0/RTOK6y30vDB4DWhYGtiQGGDdphl192kZ\n",
       "GRIm7Jsalm5uTE3XKs1oskfLSEuUJrOLGh64uDE15jLNaB5VrOdtv/2ntF1rolVf19gpPiYyCdSO\n",
       "0IzOo+g+ZGNfNL6+MHZL6VCwJkrMaxp1jY+JTAL7XZ1itISDvu0l4HSxpHJOEuXJ7kJ0NRQmMgnU\n",
       "Lpd8RiZxwuKyv/YqcaFLlKZaGhGFxkQlgVe07TNyWVVsP0j9jX5L6kfSnboZYliGBWYIRkhCAqK7\n",
       "K30+ozxxt7ztF/lp1CFZ6h/IYW9JtOjktkKGBdlpKUZIArXfwm01Cj4jy93/Axy9vfDnEjcbc6fL\n",
       "IE+mzxal1JKH/fbG/dxD1PO7FCMkgXYQTCH5ttxWt5v+IaO4W9icsBmE4RQMD7I2ToEYDKfksqco\n",
       "qHQHyi7W7AO97GUF7snVJRghCXzL5JxaeuS2Em5QhIxy7tpmbSZKWVSuz5LPT6PgfogkB4FvkD6I\n",
       "TTa9jDRBAhbqSbtsJziMkARq16jPIlueAmgp44X73lv0vGXotSY7dKwORiAC/9mA4J5orO5iodkk\n",
       "GeUAMYh73FuJAxxGSAI1Ok2LbMXd9AsZebsO5OwpCveYQM3j8DBUBjm8UiMCT7c9bLIAkisMA9Jz\n",
       "llfD+h9LAg0+FVTD2Eq6ywkZ+WqMMbpiugI7LlVZNc7eBCA23EnNFbyfFzjeqGdTuBqWBNq20GVO\n",
       "XgNyW2I1XmGBGtQdy9Z4NSkYz9N4suax1NlBp+1gmOE5q0zzDJye18PVsCTQasFxer4DcluWW0RD\n",
       "Rg1fjWUf9Y1sB+B599rQV5OA69JVo9UwE2t7WNh2BBg4Pfu5XoNTw5BAQ5ZAqnQjxBajhnKyIlW4\n",
       "vg1APeOosAYHHz48OIi311VnfbD+3mAiNG55WLc0gUt3xF061FPheg2+vCxy1XNmHBjgmNwWiLkA\n",
       "yIhW0yowasBQnVubtKOJ7L9Oal4B/HyiHn7PBNS0CgE1oGstxJZMzUyT2WngjMGp2QvMJugq0Gpo\n",
       "v3GZbccZ/CuWAe7Z10nNTDOw00BuuC63RauhokCWvu/YBgdaj7FqUj0gXwfpPpnfuB4NseBZAP5g\n",
       "GeCelzpEgSx/6RKHgzfGe+S2aL+h1FTomLvJcZDPWTWfzM3N4pAZrgZizT1zcwWGAem50kFNhQ/8\n",
       "TkKomFW5LbEa4xht5Dn48ySXb4q2fQddFHfINxCbgIfhKYYB6XmkQ745FrgKhbSTrwK5LTrfZPxa\n",
       "gCn4EuVgLUBWCEjVjAWxdFR1ZrUQqGzY7BKsOnd2sEWr8SpQ0M9dbgerTqYKHBBc6pG6Os1QmhAW\n",
       "sxMcRkgCtUMdbHmnAMjI+2zt8tfC+bVVdnwkR71iU3oikGKdQ0XoiYAngdg2w20l3BoaMvIugA76\n",
       "oJedX8dllzVN0Q4hfkjq6uNSNVulGCEJ5Ep94bY8X4GM8quByIhLF1Py3v9P8q/oiugy2UcyLMg3\n",
       "pRghCdS+CbfVXfMZpUnN2vKc2phvq1wxiu4FRjXuTWlMVBJM8eAwyi5zkfHTEbuscuG6LOic1Hjr\n",
       "SWEik2AMOIyMOzgy3jmH2uCYbS+p2EiLrlYbU9HVUJjIJPDiTlOMitgXqStgpVfClui1T0Lj7QmF\n",
       "iUwCo8oUo/mm1tV8TkTc0vhaig6GvVqhGY1WtWwIr5zTq9EN6WCYtkQzarW1bFRE4cvUeIdq3t2Y\n",
       "mNQizShT0DJyWRhzDmtYOrwxNfkVmlFsTcvIFmFvbz26JR0MXZvUaEYmDrVGtGBgLIszmcYXBzEm\n",
       "4vhUhB9mGJ3DhyKXx3ubnlLxXfF7+ZxGwsEY0fgfqFhzX9ATRqPsrLTBrAoFsbelNcIth8HjW45/\n",
       "X1Rx6R9ZRg02Oq2DlkJR0RLHdUPjBTOHwePHUeWpoMZcZRlZjhtlL7iPX1NS0yvpv66x868LxldW\n",
       "E1tgGRlOGDjZXbf6YXsAfr5HYT5lL8AbGmHAwfDjK6txB/QYzcCfL/f56WiXQjkiGydf08gYteD4\n",
       "ympmeUaJaXIHRg6oCvG/Jf2S726NrbabH/9q/5b+/qqKGnOdZ+R8HdlYK5OVNttm59D/hPy0oZE3\n",
       "IIYfX3VtksMBRpuddz5uuXbqhRc7Lk76qNwrNTIOxPDjq6o5WA8wik8D4xl3TuFJqaONL0Ki3jaN\n",
       "rbYtML6jxty82CmmmG8GGRk7I45+NuTZ++XoaoKYuGIdURUw+ixivgv7or+poSaIsdSAH7KM/gfB\n",
       "bwK0NzgSDAAAAABJRU5ErkJggg==\n",
       "\" style=\"display:inline;vertical-align:middle;\" /></a></span>"
      ],
      "text/plain": [
       "|- (Sum_{i = 2}^{6} (i + 2)) = ((2 + 2) + (Sum_{i = 2 + 1}^{6} (i + 2)))"
      ]
     },
     "metadata": {},
     "output_type": "display_data"
    }
   ],
   "source": [
    "# Notice that the split of term is automatically simplified unless\n",
    "# we suppress auto-simplification.\n",
    "sum_2_to_6_i_plus_2.partition_first(auto_simplify=False)"
   ]
  },
  {
   "cell_type": "markdown",
   "metadata": {},
   "source": [
    "### Testing the `Sum.joining()` method"
   ]
  },
  {
   "cell_type": "code",
   "execution_count": 40,
   "metadata": {},
   "outputs": [
    {
     "data": {
      "text/html": [
       "<strong id=\"sum_1_to_5_i_squared\">sum_1_to_5_i_squared:</strong> <a class=\"ProveItLink\" href=\"../__pv_it/demonstrations/531b5f3ef1103441236f9e4f1b05fb78371e31550/expr.ipynb\"><img src=\"data:image/png;base64,iVBORw0KGgoAAAANSUhEUgAAAC8AAAA9BAMAAADPFy0PAAAAMFBMVEX///9EREQyMjKIiIhmZmZU\n",
       "VFTu7u7MzMwiIiIQEBCqqqqYmJi6urp2dnbc3NwAAACjQrdyAAAAAXRSTlMAQObYZgAAAAlwSFlz\n",
       "AAAOxAAADsQBlSsOGwAAAYJJREFUOMtjYAABvjunFzBgAzzzexmwSxQw4JCoWYZDIi51AQ497B+w\n",
       "CnMxsP3BKsFfwPcPqwRLAnMAVgm2y3cZhgbQ/48An5El1v+HBDnbG9P5P5ElWP83wJjc/dAgzr0a\n",
       "BiT7vyJCRgBCOzB4AMn6/xvgMn4Q6g/De6D5zP8RAcsNobaBJRjkf6C60wSIb4AYmf8dUCSACYa9\n",
       "DRzh/3+he+5hApi6/zMBVZzPge8BiGb6r4CmobwErJRt/l+kyDTZwDD//3/UYAEBXp4JSGnh/zQ4\n",
       "u4oF2dx+RLgmcBogSbxvQApuZCdaPkCwVdmQ0vR3JFf94UVw6hcgp+7XCEWTkX0XjYgFJgcc6UEQ\n",
       "hzhLG1I+QQY7EW7dhZL/EG7lmoAs8R7uVjZ/ZFcg3Poq/j9ydmf6pAQGHcBIQEkV/khp9/fgyVJs\n",
       "D3BI8MIin20TDhXFFrgMXYFauJnikEjmT2ARBAJpdIlnK3DoYBDGIcH2rQC7UVwKDjh0BMN8/lb/\n",
       "MpI4AATefqimokrJAAAAAElFTkSuQmCC\n",
       "\" style=\"display:inline;vertical-align:middle;\" /></a><br>"
      ],
      "text/plain": [
       "<IPython.core.display.HTML object>"
      ]
     },
     "metadata": {},
     "output_type": "display_data"
    },
    {
     "data": {
      "text/html": [
       "<strong id=\"sum_6_to_9_i_squared\">sum_6_to_9_i_squared:</strong> <a class=\"ProveItLink\" href=\"../__pv_it/demonstrations/3d384c935e01254d866ab997b4a4ff3f3c43ac1c0/expr.ipynb\"><img src=\"data:image/png;base64,iVBORw0KGgoAAAANSUhEUgAAAC8AAAA9BAMAAADPFy0PAAAAMFBMVEX///9mZmYyMjIiIiJERESY\n",
       "mJgQEBC6urrc3Nzu7u7MzMyqqqpUVFR2dnaIiIgAAAAElYxrAAAAAXRSTlMAQObYZgAAAAlwSFlz\n",
       "AAAOxAAADsQBlSsOGwAAAadJREFUOMtjYACDt28ZsAKeC9wHsErwL+D8iVWiv4HhO1YJtgKur1gl\n",
       "2D2n/sZu++wFP7CKc01gN8AqwRLAtAC7HaG3GIYG0P+PAP+QJfb/h3iNs/1N/jeUOPoPDwxW+w0Q\n",
       "xtw7J4Gk/R+4IkYHCC3AIAwk1/8PgMtIQKjvDP1A8/n+I0KcFUJFgiUY/D+juvMhEF8GMab9F0CR\n",
       "sAXGjyU4zP9jRGvLBDB1/9sEVHEOAY4GEM30XwFNw6qFYKWc+X8RgpwPAxjy//9HDRYQ4GVPQKhi\n",
       "/J8JZ69mRDbXHhGuE9geIKddpFS1H9mJzxoQbB1OpGT1C8lV33kRnPUbkFLrh1aEojxk3x1FxAKT\n",
       "AI704IJDnNESzuRGkQhDuDUaJQsg3MqdgJJj4W7llEd2BcKt3ef/I2crpk9KYGAMjASUVCGPlHa/\n",
       "Dp4sxdmAQ4IXHvn3nmJXwbRgPXaJiwzsKIH7BsZK70ZJ2/P4JzC6AIEr59+VosgSnZthaf8rw3wU\n",
       "B/rBGL8Y+AOQvfFzAcQoBnMG/gIkCW4FWLQFMixG8fg5mMF89ySRxAHpZoaK1v7f1QAAAABJRU5E\n",
       "rkJggg==\n",
       "\" style=\"display:inline;vertical-align:middle;\" /></a><br>"
      ],
      "text/plain": [
       "<IPython.core.display.HTML object>"
      ]
     },
     "metadata": {},
     "output_type": "display_data"
    },
    {
     "data": {
      "text/html": [
       "<strong id=\"sum_5_plus_1_to_9_i_squared\">sum_5_plus_1_to_9_i_squared:</strong> <a class=\"ProveItLink\" href=\"../__pv_it/demonstrations/5d0139bc2445f7729eb00beaa498bc8fef6cf8350/expr.ipynb\"><img src=\"data:image/png;base64,iVBORw0KGgoAAAANSUhEUgAAAEIAAAA/BAMAAACmxgPEAAAAMFBMVEX///9mZmYyMjIiIiJERESY\n",
       "mJgQEBC6urrc3Nzu7u7MzMyqqqpUVFR2dnaIiIgAAAAElYxrAAAAAXRSTlMAQObYZgAAAAlwSFlz\n",
       "AAAOxAAADsQBlSsOGwAAAddJREFUSMdjYECAt28Z8AOeC9wH8KvgX8D5E7+K/gaG7/hVsBVwfcWv\n",
       "gt1z6m8CTp294Ad+BVwT2A3wq2AJYFpAwB2htxhGBND/jwD/sKrY/x8SVpztb/K/YU88/+HhzWq/\n",
       "ASHOeffMBCjT/g9clNEBoYKRgRGmdf3/ALiwBFKyK+D4BWXy/UdEPCtCBesEuAoG/8+YruMTYGDg\n",
       "hTtw2n8BDBXMFxgYFk+AR/1/rCmQwxPBvv9tAhYVjQwdcDbTfwUsRnitkkQETv5fNOl5ogxs//9/\n",
       "wAx5OLhQhqaF8X8matLfIIRuqT1qrHIy5GHkW7Tcwo2Rz581oPKZDqD5n/0Xmo75BRdQBdZvQFOx\n",
       "niMA1WEY7uIJRbNVgFBidiGkgNES4UvsKsIQXo3GXjIgvMqdgL0chHuVUx6rkxFe7T7/H2tBxPRJ\n",
       "CQyM8////4zVEnmkfPt1CJc/nA2EVPA+gDJ6y+ExMlUBq9KyzxfAhQowI7zDXgVUQcp/cOwhq2B/\n",
       "A1dRPQGrinn8ExhdgMCVoabzNFYVnZuRUjdWFQx+MMYGYA4RcXFzcQlAVcH5cwHUll+g+hSLGdwK\n",
       "sDQlyfAGqy2c52BhOvftBagKjkt/H+CpDwlGEyO6AAAPSo6HPFE0wwAAAABJRU5ErkJggg==\n",
       "\" style=\"display:inline;vertical-align:middle;\" /></a><br>"
      ],
      "text/plain": [
       "<IPython.core.display.HTML object>"
      ]
     },
     "metadata": {},
     "output_type": "display_data"
    }
   ],
   "source": [
    "# define two simple, contiguous summations:\n",
    "sum_1_to_5_i_squared, sum_6_to_9_i_squared, sum_5_plus_1_to_9_i_squared = (\n",
    "    Sum(i, Exp(i, two), domain=Interval(one, five)),\n",
    "    Sum(i, Exp(i, two), domain=Interval(six, nine)),\n",
    "    Sum(i, Exp(i, two), domain=Interval(Add(five, one), nine)))"
   ]
  },
  {
   "cell_type": "code",
   "execution_count": 41,
   "metadata": {},
   "outputs": [
    {
     "data": {
      "text/html": [
       "<strong id=\"sum_7_to_9_i_squared\">sum_7_to_9_i_squared:</strong> <a class=\"ProveItLink\" href=\"../__pv_it/demonstrations/d39c070dcaf508fc1f9ded6d080b16b31f1ccaee0/expr.ipynb\"><img src=\"data:image/png;base64,iVBORw0KGgoAAAANSUhEUgAAAC8AAAA9BAMAAADPFy0PAAAAMFBMVEX///9mZmYyMjIiIiJERESY\n",
       "mJgQEBC6urrc3Nzu7u7MzMyqqqpUVFR2dnaIiIgAAAAElYxrAAAAAXRSTlMAQObYZgAAAAlwSFlz\n",
       "AAAOxAAADsQBlSsOGwAAAZxJREFUOMtjYACDt28ZsAKeC9wHsErwL+D8iVWiv4HhO1YJtgKur1gl\n",
       "2D2n/sZu++wFP7CKc01gN8AqwRLAtAC7HaG3GIYG0P+PAP+QJfb/h3iNs/1N/jeUOPoPDwxW+w0Q\n",
       "xtw7J4Gk/R+4IkYHCC3AIAwk1/8PgMtIQKjvDP1A8/n+I0KcFUJFgiUY/D+juvMhEF8GMab9F0CR\n",
       "sAXGjyU4zP9jRGvLBDB1/9sEVHEOAY4GEM30XwFNw6qFYKWc+X8RgpwPAxjy//9HDRYQ4GVPQKhi\n",
       "/J8JZ69mRDbXHhGuE9geIKddpFS1H9mJzxoQbB1OpGT1C8lV33kRnPUbkFLrh1aEojxk3x1FxAKT\n",
       "AI704IJDnNESzuRGkQhDuDUaJQsg3MqdgJJj4W7llEd2BcKt3ef/I2crpk9KYGAMjASUVCGPlHa/\n",
       "Dp4sxQkLkQY0CV5Y5IvsWoW93PD//x97xAgwMKIE7hsGuB03kSXm8U9gdAECV2CoFyBLdG6GM6eg\n",
       "Gu0HZ8WieuPnAphRqigS3ApwN6KGOuc5uI+tkMUBCkqCUyMIWmoAAAAASUVORK5CYII=\n",
       "\" style=\"display:inline;vertical-align:middle;\" /></a><br>"
      ],
      "text/plain": [
       "<IPython.core.display.HTML object>"
      ]
     },
     "metadata": {},
     "output_type": "display_data"
    }
   ],
   "source": [
    "sum_7_to_9_i_squared = Sum(i, Exp(i, two), domain=Interval(seven, nine))"
   ]
  },
  {
   "cell_type": "code",
   "execution_count": 42,
   "metadata": {},
   "outputs": [
    {
     "data": {
      "text/html": [
       "<span style=\"font-size:20px;\"> <a class=\"ProveItLink\" href=\"../__pv_it/demonstrations/abfcc9ceb01e5e0afd2d65ca1ee2a5d1760ef1bf0/proof.ipynb\" style=\"text-decoration: none\">&nbsp;&#x22A2;&nbsp;&nbsp;</a><a class=\"ProveItLink\" href=\"../__pv_it/demonstrations/884df2053a6903ca8af87833d0036423fcb2eb570/expr.ipynb\"><img src=\"data:image/png;base64,iVBORw0KGgoAAAANSUhEUgAAAVcAAAA/BAMAAACmz5aoAAAAMFBMVEX///92dnZEREQiIiKqqqpU\n",
       "VFTMzMyYmJgQEBDu7u7c3Ny6uroyMjKIiIhmZmYAAABumYecAAAAAXRSTlMAQObYZgAAAAlwSFlz\n",
       "AAAOxAAADsQBlSsOGwAACDZJREFUaN6Vml1oXEUUgGd/srtzd/fuFtEXWxr7oPZBkloU+6AJFKGC\n",
       "kjxY/AHpgtIX0SwotIKQoqKtWHeLrQ3VumkRtQpuHrQtiCRYigjFbJVCEW1C86CVlk1N89/0en9m\n",
       "5s6dOedOeqGc7O5855ydOefMmdkS4j3XCJHlsR9eJ8rzaZ2gzzXp7/PnwSEcp7/gaojdwnTIWHEs\n",
       "Kk/PlNXhxU7UBqe8p6Oc7gfHcPy3GGf/xHVI2OhwVJ4ENN2D2uCU95QqdBEcxPFkGdWTX8J1hBh9\n",
       "LyrJye/0RR/qRWwIynuaw2QZHMVx+g7q7FAV1xFi9lhUku9PPK2pSu/DIk2KApIbycyDowS+DQ3+\n",
       "q3E6BDZQiUrvT13XY4gNiXKXcuPhG/AwjqcmET2ZuTgdAjurSNJLGiPa8L5h2MjZyKuDlSV4GMfT\n",
       "yOek0B+ng2OqJGTOixtNGVwPosYz9Xw34gvHfyLx3wbRwbBUZ1QScoVcALyaA22kIt8hWS1UYF8E\n",
       "3ocMeDBeB8MGWKIOiHw/cB4qMB/CIRupEvldd2H5w/EcHLSZG/E6GLaDvdxB4p82+K6J0nB7Gvy4\n",
       "YzoeDzB6i5WyWwZro1Woyt5arbMcz8O1rTEZjwdYlgVTds5gLTcGvGmkdPwD8OPBioH3sSSb/6Rh\n",
       "HYgNFR0jpeNtsAZ2GcPIw0osnUudhtFpaP2MlI73QeFE/jPxPjbKMn+0bBhtzUKRWF6tswJvQn1Z\n",
       "/rqJ97E226wCOe6Ez4oyfC+0OGKrK0ik0wKGcjy3BwqSZZN1HxtnLUIg+5wg0Ok3F2oLalgBPci4\n",
       "eC/tsFw78uOzDuQPx5NQE1lYNFn3sRn2IpAdjtjqsj2s3h+48zlfTgBd4oxUccO/X5M7ERUvQq1O\n",
       "qRuzTtdsr3PMYpHNZU8YmTZLnkkyFYS4XgotKS9SThiMl6UxKp6GSnOzE7NuE7ubYxzlcsAJk/Xf\n",
       "QCyTpr86A3rmy4YzTlgubKk8qXgGSnz2TQDrpRFrjmNFFshCOmE5zQbiDWatoTdDRTkNJpzQRak8\n",
       "qTidAZydaGHWs/XAWQ+zWQRxSboUXZfcf3cE31HfAGw5/pIO0NoBuANVlV7YetGd8UQ3x5Ish7kk\n",
       "Q040NDe5K7AlCEo9jZPybktrQDQCeA9QVboqsPWUW8dfrHOswOadS5J3tGw9Xo8OIadExYlswaMO\n",
       "eKpU8XFgv+XvAdatjWJIjn3fnJi29QvKN7cmLV9VUhw6nxKVOjLZCQc6VWp4l35mIrU6Zp18S77m\n",
       "GI+kMCALjtJeHd/5qq+g44bmrBLG4zehiVXxHcD8O6h1696dVzimO0tr0j5NL1VJzQlUmZ0dcpRW\n",
       "AcRjnY1YJ0f/JjnHmcadFZuev7L5cOe0503Oii03Fm8HdW1qs/c8pFYI2Topn5YKRpU0mLlGaNaW\n",
       "Qu8l6Q4DcLahVLO2EnEg3tZ7ROqA1jO9V6POsq/ekHqPnrDU13NhA5VY4TOyl89IQ+lYUkq/BeBu\n",
       "Duk9GV0ArVOyP3zfxSBnm1Jx76vr1qSZVZy11N0Jwg3OytbTi0ZnL0qF8Cy9HWeL76v3NRR1Vo5Z\n",
       "2VnZeqG/LjsLJFheyhK6nLiNBCOjyrEPxIGYlRJMtk4aI2U5ZgFn5XuLzPSXt+FsRt1+QDze2cit\n",
       "yYBVjXeW7pe1PBOOXkWd1aIRwuPrbMR6xy6pue8lOWYuF+5g2HUD4Gwu6uyvcSe+WGdrRusexnuh\n",
       "sKXagI0OWyzRyEQbsWTsuVzgXcB9hujEUOseprWI9pawcChFdCm+RSRTYeoCkyfwnmG8RcSte5i9\n",
       "LJ+F3Wd3qEr5gSk3jZygeWsf1q0s4KzAazFHety6hxVZjnIpVY60UkRL+gG7OA/XrW3QAZbjC9Cx\n",
       "pmqy7mFZ1uRw2RRzQttKrDf1U0tWapGssG59Bh5gu5Fdzr+XK5use1ieHX6ZDCvH5zscJRFG9Xuf\n",
       "/CxQt6zHHehukeP5WfTDOOseRlm/zGTh5jn/2ex2oeoMDAJ7utRtjwfkmUccBzo5Cjy7Al3Pjpms\n",
       "+1gPT7Yg0KXbJvXWsA2VHKm1kx7oopDjNjTtqWmTdR/j16XwtWnk0ILdmq7u4XhherWXv9HbMA8b\n",
       "ZLMwWDUNBxOjumpnZyLXWuoiz5twH2uyrGtOGkZnoCtUI6XjA9CVrmX8bcLHcuyL5roNo4tQrBkp\n",
       "HZ+oQB+/beJ9LMG298SiYXQSunQ1Ujp+P/jx+rqB9zGLVRImKZoxDeh6nVFHzM5ynM7Ct/CteEUM\n",
       "O8deBjLBiyl9U80lcPkCah33/e5TvQjPceTHqMJYRBE5rNx1MGyQzeVgdE5f+V1RdwY0EqXytU3B\n",
       "/bHOc7wAR3k2WrsyfynDGNZg2dlQsnSrsuDIL4MRKh9MX6fOC7wJFzuq1Jq04izDbBb5vsxfwJxN\n",
       "wD/P+dSPPJzzLz+BOCvw9UhQ/kNkRZqzDKMrkjxaqtsb3Oc+zdlGC54Rl6KtRXLZo6r55w/1ws5y\n",
       "nK5gCdiSFanOCuyiJE9sxWZ2CjHiUtbBbuk8CzvLcRsrzMU9EUWKswJLtST5AOKstYwY8ahkSxxF\n",
       "6LK7Mm9pKyPw5ghWnB4lkiLVWYHx/1DlSbpYgcOgox+x4VGNj9nqlSrWEjizAt+OFmLv/4cJRaqz\n",
       "IbY2lOmxSXhmd6M7jEs9afPVqhf7QWc5nt2HOpsYkxQpzkoYn3xX0hd43Tw2vk5exnfxfbRFDv3B\n",
       "82DdGl4NIrzAv6rge5wbgUKRtfa6nNASRh+OSmiDwVtBgOpE8Z9jNuSP8C8iY18oUn8+iTGiU5MY\n",
       "Tkdi9Fioswz7HyiuZvn78BUdAAAAAElFTkSuQmCC\n",
       "\" style=\"display:inline;vertical-align:middle;\" /></a></span>"
      ],
      "text/plain": [
       "|- ((Sum_{i = 1}^{5} i^{2}) + (Sum_{i = 5 + 1}^{9} i^{2})) = (Sum_{i = 1}^{9} i^{2})"
      ]
     },
     "metadata": {},
     "output_type": "display_data"
    }
   ],
   "source": [
    "# This format used to be required, where the upper index value of first sum\n",
    "# and lower index value of second sum had to be explicitly related by a ±1\n",
    "# This still works as originally coded but should now also simplify the\n",
    "# index values if desired and possible\n",
    "sum_1_to_5_i_squared.joining(sum_5_plus_1_to_9_i_squared)"
   ]
  },
  {
   "cell_type": "code",
   "execution_count": 43,
   "metadata": {},
   "outputs": [
    {
     "data": {
      "text/html": [
       "<span style=\"font-size:20px;\"> <a class=\"ProveItLink\" href=\"../__pv_it/demonstrations/e4205184c6516d32a34bd28e6157e1bfdd1b76d10/proof.ipynb\" style=\"text-decoration: none\">&nbsp;&#x22A2;&nbsp;&nbsp;</a><a class=\"ProveItLink\" href=\"../__pv_it/demonstrations/9b0d0cfba59de7f03eaab6fbe3d196f5d4caba280/expr.ipynb\"><img src=\"data:image/png;base64,iVBORw0KGgoAAAANSUhEUgAAAUUAAAA/BAMAAACFlMd9AAAAMFBMVEX///92dnZEREQiIiKqqqpU\n",
       "VFTMzMyYmJgQEBDu7u7c3Ny6uroyMjKIiIhmZmYAAABumYecAAAAAXRSTlMAQObYZgAAAAlwSFlz\n",
       "AAAOxAAADsQBlSsOGwAAB7RJREFUaN6Nmn9oHEUUx98ll7vbvbu9iOhfjYn9w9o/JKdFsYgmUCr9\n",
       "Q0kEi/qH5KBS6B96JxZaQYygaGutuWK1sVovlaJWwQv+aAtSclhUhGKuSrGINqH5o1YqSUx6+dV0\n",
       "3bud2Z038+Z2H7TfXHY/M29n3nszsxeAuv0LIOrR73aCZB8WQWuMSne0y1eMn7GSZlVdPXdOhzda\n",
       "r2A9Naf0lu7S9sGpx2Czcu1XSSn705W29mi/DndsbATrCaKl27V9cKoGJWWwW9qxEpZcdjWTM5Z0\n",
       "uDOkb2CFE9+oMzvcq+mDU+YyZEaVi69hJWy44Gp5BFZ0uBMQFazw7fHHlaaie3XhxKl9kC8oV7cU\n",
       "sap2lWliNLagxSGfw1r/UW3rIU0fHvXV+4PqWLdOYlUsVuNzvv7QvBaHHySFXigpswZ9I3QnHmU8\n",
       "nFFviS5jVSzlJcrB3HIg7jdTqweH0hid2T61A74mrn8vqfbRY8VkVou3dmEFuALnCWdqZB8+tQ5+\n",
       "pHzIYZXtHi+HC6mcFs+zKMp70XTgHFUq3qbD0aNOPk+5kZjEKoejF4PJXbfq8QH2cQCa2zT52yDK\n",
       "msEqWdtMGNy4wUL+RkBvYwWqOgZRyQWskpUmw+BxFmfxWkBviQrxy0AK3pIU22AuDN7CRrtlJmjW\n",
       "qPIRSMH0CFZs3aHwDEvMTFfA3VFqtgIp6CtgxfZfKHyM5fBYe8Dd5jUqSIMoKPdjxeE2GwqfZktK\n",
       "Q1O2YFXp9j3UVDTocYFalcP4Faw4flZC4eNs2W5o1GY5cPj0k7bcaDexL3DpPtsNfeOL80OLcsQu\n",
       "YcWL11IofI59cHVgzrv6Ai+vB255qqETxPbMvb3N9paxeE8vptKsmfQ8Fc5ZHW7ctLXIMZNFLdNW\n",
       "2w+bS0wnYcoNX7WWcbrHj1WrC1NRVkGjVCUtd+lwC6wsx6QmYrafvRarFitQbsxFXs1hTudtP2v/\n",
       "wVSMPUaMSmH22ASeGTVrHEuzIOU6Yft1jIEvst5K6r7Eo22/eMYxZbDoMeYIHyeqOjxedH2sYxYL\n",
       "E64ttuTJReffze6jqfWaU9A9p6PABqyoLPTSeNoZ30iWYy0skbkaQ1Lc3O2M90Y3VtXM5BQM25Ma\n",
       "CnqKWFGpyNF4q1N2txU5lmKjzBXGbCV9Py7iW+CkVzv4r5L2vIaC8RGsqHSNaHFzvXdLgg0OV4jY\n",
       "8unKnDQbTbV457ZHvQrrDW3nYpGmoJstEt3q+QOGijocvoTPOcaDzA+28evygGx/rtFA27zio0+l\n",
       "7ApNwQCblwGivNpa3Lxj+xWOqT4O28IabFwswJDtNtXUR2NolqbC+YhwOHIZErY9o/fRWw8bM5/0\n",
       "V0RroYmP3oImUzBdQDq1oW73yrku4tB+CuEl1kvJ721aiI1nrEozHwXKEuJYpGQf0S7eJvFY71Xs\n",
       "I3vikv/krcKOp5jwf46s8oHYwwdCoKBnlaSgs4pV9HGRxA3Yj3DCR1MsqH1F2Uc0joKP5SxJhfVR\n",
       "xKNLQT6m3xRfQxhhfbwwQlKyj2I8ij6KeKq/KOJqzsCYEL3GSiRkziRrNNUsHoWcEXEojbaLuOpj\n",
       "TCz5sZlPQ/qY76WpkD6KOOTNQnMfh1HcPOHf3bw+7tdQIesjwtt2ITzBekl4vf2iO/4QPvpUSnuY\n",
       "b+bjUCicb2a8TU2L9jTqbXL8PYW/FVqrPdnxvU03cdz39kJNcXlvBlN+SkkP3rqsd9va6BcO2Y8R\n",
       "rJT/zXFrRTxFOvtfv/DEJR8TM5qzp2O7fQd2auZzSHv0DcLTLFm5CoVni3yIU0/InBIqR1S+a1FS\n",
       "dFYohMHjbL/B1PQLz0fyQa6snmc4XfaG3JiWop+vWiZ1nhlsD4Mn2bGRqVd4zM22/EpsTH0bwii/\n",
       "chwbsHPkLZ4STQbhBtvRMh0/27Az99u2fPiCQWLBdanUdRfb4Gwa5eGKr2LFrx8rofAenj/uDkkw\n",
       "eV2YpoqHe0Wg5LdrVg0rLhUzofDm7wfRAanJ20W9pWawBr/TVPFBNlyDhaDbyaAPpDJZrHgmF0Lh\n",
       "ZZZI5YA30xCj3hUGUpBvx4qz9kYoPMGeL5ENuDtNBVQgBRM5rNheDYVH2JIbWQq4u4V6yRlIwZ2S\n",
       "YusshsFNVhOYGtokKFEviwMp4xpWOVbcenY4AD/LProa4UXQeElOD3KyJAo6fpeyovlXKyn3ANnB\n",
       "Px+qkPggG4NBPBbP/iY1d4bsRKJSOelr5VQWq5zYuPjE/sqSeIklXElKvE3SrGq+qMLUbZCUJrOA\n",
       "VZ5LqVhEsyRusVxoaPK8zscI/W2RRO07JiVBp6Sy/V3/73S/zkeGGauCHskUrbWOrVN8LFXpgUCU\n",
       "MbvjsnpZUHUenGaN6hJcqvMF2UcPuyDo8U26cZzSdIIoJyBKKECtLFa16jrzYB7MasbRw1qrgt6l\n",
       "8dFc0XSCqRpkUOCVR7Gq9mC99FY1PnoY/wubuhpLOXqu2/o1fWDqAekPaLZKSmwhnXEvvaeZax9b\n",
       "42u0MkmP427tgoCol2EbKi17sVIrlVMRH7HocRQwPtSOGk/zcDo63iFO9ev6NVKk0h1XxGuf5bBS\n",
       "5sTJu3/wbtbMVgm8nj33YaXWA/0erAkFP0lK2Tu5QLxun0iq2gdNOtFTxihW0sxcAP4/QoldvorB\n",
       "8cYAAAAASUVORK5CYII=\n",
       "\" style=\"display:inline;vertical-align:middle;\" /></a></span>"
      ],
      "text/plain": [
       "|- ((Sum_{i = 1}^{5} i^{2}) + (Sum_{i = 6}^{9} i^{2})) = (Sum_{i = 1}^{9} i^{2})"
      ]
     },
     "metadata": {},
     "output_type": "display_data"
    }
   ],
   "source": [
    "# Now we can also proceed with the implicit ±1 relationship\n",
    "# between the upper index value of first sum and lower index value\n",
    "# of second sum, at least in simple cases.\n",
    "sum_1_to_5_i_squared.joining(sum_6_to_9_i_squared)"
   ]
  },
  {
   "cell_type": "code",
   "execution_count": 44,
   "metadata": {},
   "outputs": [
    {
     "name": "stdout",
     "output_type": "stream",
     "text": [
      "Expected Error: Prerequisites not met: Sum joining using Sum.join() only implemented for when there is an explicit (or easily verified) increment of one unit from the first summation's upper bound to the second summation's lower bound (or decrement of one unit from second summation's lower bound to first summation's upper bound). We have first summation upper bound of 5 with the second summation lower bound of 7. If these appear to have the necessary relationship, you might need to prove this before calling the Sum.join() method.\n"
     ]
    }
   ],
   "source": [
    "from proveit import UnsatisfiedPrerequisites\n",
    "try:\n",
    "    sum_1_to_5_i_squared.joining(sum_7_to_9_i_squared)\n",
    "    assert False\n",
    "except UnsatisfiedPrerequisites as myException:\n",
    "    print(\"Expected Error: {}\".format(myException))"
   ]
  },
  {
   "cell_type": "markdown",
   "metadata": {},
   "source": [
    "### Testing Sum.deduce_bound()"
   ]
  },
  {
   "cell_type": "code",
   "execution_count": 45,
   "metadata": {},
   "outputs": [
    {
     "data": {
      "text/html": [
       "<strong id=\"sum_expr\">sum_expr:</strong> <a class=\"ProveItLink\" href=\"../__pv_it/demonstrations/31303eb91b9e3f2e16892f0ec04aa186c517dfe50/expr.ipynb\"><img src=\"data:image/png;base64,iVBORw0KGgoAAAANSUhEUgAAAEcAAAA6BAMAAAAQIlkzAAAAMFBMVEX///9ERER2dnaqqqoiIiJU\n",
       "VFQyMjLc3NwQEBC6urru7u6IiIjMzMxmZmaYmJgAAADovKYRAAAAAXRSTlMAQObYZgAAAAlwSFlz\n",
       "AAAOxAAADsQBlSsOGwAAAiZJREFUSMflVDtLw1AUPm2ibZOm1sHZ/gBRJ1cdXHzR4uDioJOCiwV1\n",
       "UAfdBBXbRRBdnEQQbEW09TEUXAQHH4NuWnFRsBh8v/B6bm7SJHJDunsg957cfLnn/QFoUrjfOwEX\n",
       "ke7mYMoN5FvrhU83EJSlA5OuIH9OOcm5gSZAPHAFzYNcC/9WBokpX06gRsKyKI1uJd4dy0aaDDUU\n",
       "rXdCRV+KqhJ2Ah2TfFG/sHcQXeKaKpO34nHIBtqkyxLTq5/5JoQIeKM5mdlZJfz+XsHnAWBAewmQ\n",
       "Jy7oEp9zHBL2Vve+zAPRhm7DrmUfy0kvzyU89H3jV+aUlHi0Rd6ZSdOkRTBaFcAbs5eGyULcQ+eL\n",
       "3lCG2Q3pZhQybZnUOVBopUSskR+vFIxhi1rqr6ggRuiYJbEamO+gaoxUk2UGw5BK6qAszZBxUzZu\n",
       "glJpmkJmrkpCc/oFgW+L36l66BLwJw/68+NFx/XWOLb2kSctdCjAQv9YY6mg8czYeKi7ZmQf9yCa\n",
       "KSBATLKM8wvczrZhtlXyW6Vg1hmNtpr1soI8Wsg+5vetGf+NzbmwCbXEL9jpbpwuGZbtYvzSlRMF\n",
       "m/EP9RAntit/7dOkOUHIs9PYXVm44OdfsqHUUwqqoRTQWSmgFoO/Lo+25Gt+8SQVTitR8usLeX9M\n",
       "jvHpzCCUsW2oyOmT8VfM42441AaSI+Kibg5mYQMmglxQhWywkop3XSt8czu6EohBP4zs8jC/RFOh\n",
       "e/Xo9GYAAAAASUVORK5CYII=\n",
       "\" style=\"display:inline;vertical-align:middle;\" /></a><br>"
      ],
      "text/plain": [
       "<IPython.core.display.HTML object>"
      ]
     },
     "metadata": {},
     "output_type": "display_data"
    }
   ],
   "source": [
    "sum_expr = Sum(l, al, domain=Interval(m, n))"
   ]
  },
  {
   "cell_type": "code",
   "execution_count": 46,
   "metadata": {},
   "outputs": [
    {
     "data": {
      "text/html": [
       "<strong id=\"weak_summand_relation\">weak_summand_relation:</strong> <a class=\"ProveItLink\" href=\"../__pv_it/demonstrations/6758c52af909f4a20e9393bbf80b5a16bdbf1f5e0/expr.ipynb\"><img src=\"data:image/png;base64,iVBORw0KGgoAAAANSUhEUgAAAOkAAAAXBAMAAAAcgXW5AAAAMFBMVEX///+IiIgiIiIQEBB2dnbu\n",
       "7u5ERETMzMzc3NwyMjK6urpmZmaYmJiqqqpUVFQAAAB6qHgnAAAAAXRSTlMAQObYZgAAAAlwSFlz\n",
       "AAAOxAAADsQBlSsOGwAAAz5JREFUSMe1lV9IFEEcx3937np7/5YLDIRKTISIElQiJCLs2YorRYhA\n",
       "r4fOoIcW8yEfilMfgiJdH6TAhNPnkKOM6A90RSTlyxI9JBTevUdckBjFQb/f7OzO7OZdntTAb/e3\n",
       "M5+Z7+xvfjMDsN2iSX7G86oCZ6pSWyh7hBuw7Pf8X+F5bgX6+FS7aLxb+B8A+jtJPe+nWLUNuwTZ\n",
       "U6q9W7vqWeGqJj5myZuRZmWPOStgl0C7TlFP1a76XLhR+sUyeStuXexAkr3LAnYJtDC2Klbtqu3C\n",
       "rUOLrDMv6ax0q+3Z1QwWBFoMJxrexrKawl9FU9gswnxh+/byJqXZhQVB1tnScqh21Sgl0+TxMfKX\n",
       "aLRCvCcJCstNOHfQwcLFJovDgiB7DHDBM+DrfEWtkUfucAhFuuAyBfIe2mD+80QeYiwCA3Nuh8EZ\n",
       "9QcPgSDIJkFD7VcJBwy1V/nFU44TxF/ozcMD8tvQ1m5aoxmIs766UF1LQocNSwRZfVLJ4gpnSbAp\n",
       "nfWs2B9l1c0g5F8AtJJ/BO3hMptxiTXeciP8BOA7H1wQZPEEJdMUVT0zfHlSXfUwqD8d1f2sb6Td\n",
       "l02tEClzVUEwynyJjzdaAz9aSHVleUdh95BHD6tykioGTf0GsRKPsFqObFDfZt/OKUN03Y6wRDDq\n",
       "JJ0Xxdu9mX57f5ugvjsKx6BJFqWqLoAF57s+geOAbn5E/zx2WlfLAXylfKfEBi0+wTLBqAlK9w4r\n",
       "BPcZP2qAdtpEfslzaWAVzjq809mIBVJ7n8vZKaab6obCtwjf0Hfo+QUucVgiGKVjvLVfuIHeptNp\n",
       "K/QVJ6knMJPbPBHWE7Qc8Wkn0zFKAw1Xi7RWw/g3FuzCCQWzvjwY6MlzWCJcKpZa0GDEXhKcWJ0R\n",
       "SGklQ+5fZ0RzBky43/tEU9AFxyskoYDHZUpPDCu4h5xsmsKKWIqip3ZDHyOmIHjNENkkHfQQy21y\n",
       "JXhT0XNpuFR9Rl8GbchRXYRwRivSJEJdcIVd/osQOCHlMPYQg150Ft9OpjMtVKRgCJgI/w3Xl97y\n",
       "KQGq1Ld/k5l4igsTsSkVad6SKoxJCc6P08aK/Ry4sSI1XVk0NAf/q4Qq3/E3/pHEb1nF47dE4tj4\n",
       "AAAAAElFTkSuQmCC\n",
       "\" style=\"display:inline;vertical-align:middle;\" /></a><br>"
      ],
      "text/plain": [
       "<IPython.core.display.HTML object>"
      ]
     },
     "metadata": {},
     "output_type": "display_data"
    }
   ],
   "source": [
    "weak_summand_relation = Forall(k, LessEq(ak, bk), domain=Interval(m, n))"
   ]
  },
  {
   "cell_type": "code",
   "execution_count": 47,
   "metadata": {},
   "outputs": [
    {
     "data": {
      "text/html": [
       "<span style=\"font-size:20px;\"><a class=\"ProveItLink\" href=\"../__pv_it/demonstrations/6758c52af909f4a20e9393bbf80b5a16bdbf1f5e0/expr.ipynb\"><img src=\"data:image/png;base64,iVBORw0KGgoAAAANSUhEUgAAAOkAAAAXBAMAAAAcgXW5AAAAMFBMVEX///+IiIgiIiIQEBB2dnbu\n",
       "7u5ERETMzMzc3NwyMjK6urpmZmaYmJiqqqpUVFQAAAB6qHgnAAAAAXRSTlMAQObYZgAAAAlwSFlz\n",
       "AAAOxAAADsQBlSsOGwAAAz5JREFUSMe1lV9IFEEcx3937np7/5YLDIRKTISIElQiJCLs2YorRYhA\n",
       "r4fOoIcW8yEfilMfgiJdH6TAhNPnkKOM6A90RSTlyxI9JBTevUdckBjFQb/f7OzO7OZdntTAb/e3\n",
       "M5+Z7+xvfjMDsN2iSX7G86oCZ6pSWyh7hBuw7Pf8X+F5bgX6+FS7aLxb+B8A+jtJPe+nWLUNuwTZ\n",
       "U6q9W7vqWeGqJj5myZuRZmWPOStgl0C7TlFP1a76XLhR+sUyeStuXexAkr3LAnYJtDC2Klbtqu3C\n",
       "rUOLrDMv6ax0q+3Z1QwWBFoMJxrexrKawl9FU9gswnxh+/byJqXZhQVB1tnScqh21Sgl0+TxMfKX\n",
       "aLRCvCcJCstNOHfQwcLFJovDgiB7DHDBM+DrfEWtkUfucAhFuuAyBfIe2mD+80QeYiwCA3Nuh8EZ\n",
       "9QcPgSDIJkFD7VcJBwy1V/nFU44TxF/ozcMD8tvQ1m5aoxmIs766UF1LQocNSwRZfVLJ4gpnSbAp\n",
       "nfWs2B9l1c0g5F8AtJJ/BO3hMptxiTXeciP8BOA7H1wQZPEEJdMUVT0zfHlSXfUwqD8d1f2sb6Td\n",
       "l02tEClzVUEwynyJjzdaAz9aSHVleUdh95BHD6tykioGTf0GsRKPsFqObFDfZt/OKUN03Y6wRDDq\n",
       "JJ0Xxdu9mX57f5ugvjsKx6BJFqWqLoAF57s+geOAbn5E/zx2WlfLAXylfKfEBi0+wTLBqAlK9w4r\n",
       "BPcZP2qAdtpEfslzaWAVzjq809mIBVJ7n8vZKaab6obCtwjf0Hfo+QUucVgiGKVjvLVfuIHeptNp\n",
       "K/QVJ6knMJPbPBHWE7Qc8Wkn0zFKAw1Xi7RWw/g3FuzCCQWzvjwY6MlzWCJcKpZa0GDEXhKcWJ0R\n",
       "SGklQ+5fZ0RzBky43/tEU9AFxyskoYDHZUpPDCu4h5xsmsKKWIqip3ZDHyOmIHjNENkkHfQQy21y\n",
       "JXhT0XNpuFR9Rl8GbchRXYRwRivSJEJdcIVd/osQOCHlMPYQg150Ft9OpjMtVKRgCJgI/w3Xl97y\n",
       "KQGq1Ld/k5l4igsTsSkVad6SKoxJCc6P08aK/Ry4sSI1XVk0NAf/q4Qq3/E3/pHEb1nF47dE4tj4\n",
       "AAAAAElFTkSuQmCC\n",
       "\" style=\"display:inline;vertical-align:middle;\" /></a> <a class=\"ProveItLink\" href=\"../__pv_it/demonstrations/2b7ad4d5caa4bcaab69538bfe32673a4ae4379c30/proof.ipynb\" style=\"text-decoration: none\">&nbsp;&#x22A2;&nbsp;&nbsp;</a><a class=\"ProveItLink\" href=\"../__pv_it/demonstrations/d88059f305ee18e239c4ada09f4a1f59512acd050/expr.ipynb\"><img src=\"data:image/png;base64,iVBORw0KGgoAAAANSUhEUgAAAOUAAAA/BAMAAADtQhJsAAAAMFBMVEX///92dnZEREQiIiKqqqpU\n",
       "VFTMzMyYmJgQEBDu7u7c3Ny6uroyMjKIiIhmZmYAAABumYecAAAAAXRSTlMAQObYZgAAAAlwSFlz\n",
       "AAAOxAAADsQBlSsOGwAABQtJREFUWMOVmF+IG0Ucx+eyuUsmud0ECoogXCgIfWugcCCiyaMPB5eC\n",
       "vrVcHnzwRRKqiCDc3YNYKi13b/pgyYG2KCLJi1Af5A6hiFJoqFbOajHqw6FYEnue12vvus6/3Z3d\n",
       "/H6bmYFLcjM7n9/uzPf3Z5YQ3u4Rg0a/TRu9Z0lwt0xsklspY2YIjbC5YWQzU8bHzBARgZ5XP5bf\n",
       "vDtIW5p38CEzRETw1LrQt8+T99Ju88V1bMQUERJaTflduLxFDtJsOugjmCJCwvWgZ7pfXE2zmX2I\n",
       "jZgiAkJEyje9QTPN6NcTb2YSQhGcStDRJc4rqTYXkVFzhCK06kHHF8R9MlXreWRDzRGKsESMmzeC\n",
       "+5csCfSxuc3iPux2jy0Juf/MbZKLYK8NQhAyIwubQzDE2SAEoVSxsLnYhnptEIKwWbaw2W2AAb5s\n",
       "SRj2+M+bftSOUqQOBhkbhCDcFGF30ZfOSj+7vfYgJRmBwdQGIQi7Mk761VCFtTqemv+Fem0QnFC4\n",
       "L3/X9iK/xSWRhTzRCsEJAaXlR5L8K47kH8pHZu6n3AiKSBJctd2uHyWqXAz5A//4SkWcXWi5JiGS\n",
       "BC/YoZO7yGKUyVSt6apH8KEYiiDoiSpMyARx6wMfThofsr8VQlSZWNPLkwW5XihidgATZoP1KPqg\n",
       "JskO+/ubFVfKLbTg9/qfCo0hSnWYkA89bu4BWGJxH36e+bIcPNkLB75/KnBzDLG5DhNKYXye9aG6\n",
       "OMs6C2zxZuV2LAWOR4/1w8fBEMcQQjSBrv0TE/jpO5zqsViaY9dMNWI26R+RX6CI63dfAgnRhDB4\n",
       "yXZtQ4QpfnfTzMNz8gmG0hQ9owUaDEEP1zsbEKETTfD8C7HK3ONSdxg8zx44u6rbJLpNDJE9EDPH\n",
       "CR0tU9SOYoWLw1NUnommxe52RoLn1C4WtLVFEVukVIYI+oRuVcs5FdLpKZvb3A9WYzZ1DWEIds+b\n",
       "dYigT9jWnK/T534sV+YZylamGrep+QqGYO45XIcImgCKeinVqZMzWQbIMCP7U0wBldh+6jEBQ5Sa\n",
       "4rg2TtAmtPSkl+lnX/CIVPijy1LxCZtkoZm0GUNMtzMDkKA516VYgD77xJUfee5hK7LMrnZ68ZhA\n",
       "IF9JIE7vEJCQHyUicrLNy6+PCGpzEmKM4ITB8jicy5ajUM+jJXAAmoQYI4SJyHs2cuZY0SSUWFDF\n",
       "Rk3qkp4SrRnPZQhijOA9UiNvRSp/I7YrlWgeIWtQzp6AGCO4+2Mqz8aL2M/5xx31D1RETkQkCTmV\n",
       "CbqhOOgQf/NRgAoYKwQnFPcSKv94yccPysU9vNMMwS+mh1LlhzdEO7Xm+7t4HZ+DDgVWCEGoyeig\n",
       "HTb2U47J4EnTBiEIQ7MXb8rpR+an0hTCStvCZqkK9dogBKE7sLDZAk+aNghByFctbP4K6tEGIQhT\n",
       "BxY2T4C9NghBKByZT6B7sJ8f2RJu8J9mb5WwlzLmCEVY4UpfMBM6snHmCEXocCX9ZvbSA3EKc4Qi\n",
       "eDwHPBc8+85rt91zWLScw4KLMUIRKFMAHZHfj7PWfv9aO99wG4gAMK0YI0LCtjw7ifbpL6xE9JB3\n",
       "TB7qh6aIkOD0SXTJWfKqqILBzehhNk0RIaH4kDhfqoUh75JbpDsDk1/G86ohIiI8TUpu4N4jdpvn\n",
       "PNi3LuB6NENohEzf+zm44Qb5jlz5CeR+0kx5KWeE0Ah03sg7v0mLafO2hKtGobKXNnrVnPA/PTct\n",
       "z+nxk+cAAAAASUVORK5CYII=\n",
       "\" style=\"display:inline;vertical-align:middle;\" /></a></span>"
      ],
      "text/plain": [
       "{forall_{k in {m .. n}} (a(k) <= b(k))} |- (Sum_{l = m}^{n} a(l)) <= (Sum_{l = m}^{n} b(l))"
      ]
     },
     "metadata": {},
     "output_type": "display_data"
    }
   ],
   "source": [
    "sum_expr.deduce_bound(weak_summand_relation, assumptions=[weak_summand_relation])"
   ]
  },
  {
   "cell_type": "code",
   "execution_count": 48,
   "metadata": {},
   "outputs": [
    {
     "data": {
      "text/html": [
       "<strong id=\"strong_summand_relation\">strong_summand_relation:</strong> <a class=\"ProveItLink\" href=\"../__pv_it/demonstrations/7a45369c0e247de6d92149f44e797ed1c28e414e0/expr.ipynb\"><img src=\"data:image/png;base64,iVBORw0KGgoAAAANSUhEUgAAAOkAAAAXBAMAAAAcgXW5AAAAMFBMVEX///+IiIgiIiIQEBB2dnbu\n",
       "7u5ERETMzMzc3NwyMjK6urpmZmaYmJiqqqpUVFQAAAB6qHgnAAAAAXRSTlMAQObYZgAAAAlwSFlz\n",
       "AAAOxAAADsQBlSsOGwAAAzdJREFUSMe1lV9IFEEcx3937np7d3vLBQZCJSpCRAkqERIR9mzFiSL0\n",
       "oudDZ9BDi/mQD8WpD0GRrg9CYMLpc8hRRvQHuiKS8mWJHhIK794jFBKjOOj3m53dmT29y5Ma+N3+\n",
       "du4z8/3tb34zA7Dfpkl+2veoAKcrUntoR4QbsJ3nwl/hBW55evlSvWisS/ifAPo7SD1XSrFuB/YI\n",
       "sufUe7961UvCVS38mSNvdgc2J2CPQLtFWU9Wr/pSuFH6xCJ5qzuwooA9Ai2cAFDs6lXbhFuDFtli\n",
       "XkKsAMuf081gQaDpGGh4H8tqCX8NTWFRhL2F1Y+zAJRGDxYEWUdz88nqVaNUTFPnxslfptnyse4E\n",
       "KHm3qlucrw4XGmwOC4LsKcBl34Rvc2W1Rp+4HsUb6YRrNPkDtMHc18kc6DwDfU0cG5xVf/IUCIJs\n",
       "CjTUfhN35wu1VfjEi64TxE/ozcEj8lvR1u/YY2mIOWPvnnCx9QS0O7BEkNUmlAyucIYEG1IZ34rt\n",
       "aGteBSH/CqCF/NNoj1dYxBv0a8x7/DOAH3xyQZDF4lRM09T1wiypk8qqp0D95aoeY2MjbSWqLRAp\n",
       "clVBMMp6jT/vtDp+tJDq6sqB/OFhnx52ZSVVTJq6CfoGz7BajGzT2MaSDBchuuVkWCIYdYHOi8K9\n",
       "3nS/U/MWqB/OwFlokEWpqxNg0X2vjeM8YFif0R/CQVtqMYCPZEk1bdPiEywTjJqkcm+3Q/CQgWMm\n",
       "aD0W8su+SwO7MOrwQf5O1T8EH7NZp8QMS91W+Bah1tPk7JxvcJXDEsEoA/Ot/cYN9D6VStmh78gb\n",
       "cazkVl+GjTgtR2zGrXTM0kDdjQKt1Qh+jQ2HMKBgxjslnA070J3jsER4lJ5c1GDU2eAYWI0ZSGob\n",
       "pqxaY0azJkx670fFX0EPnBCdunyjCHhCpoz4iIJ7yK2maezQk5Q9tQv6GDENwZumqCb5oNezu1wJ\n",
       "/lL0XRoeVZs2VkAbdlWXIJzWChREqBOus8t/CQLnpRrGEWLSK+7il7u7PJiIUqovtedTAlRpbP8u\n",
       "kfiaBxOxKxVp3JMqjEsFzo/T+rLjXLi+LDVTXjQ0D/+rhcrf8bf/kcQfCcfiuvC6EkcAAAAASUVO\n",
       "RK5CYII=\n",
       "\" style=\"display:inline;vertical-align:middle;\" /></a><br>"
      ],
      "text/plain": [
       "<IPython.core.display.HTML object>"
      ]
     },
     "metadata": {},
     "output_type": "display_data"
    }
   ],
   "source": [
    "strong_summand_relation = Forall(k, Less(ak, bk), domain=Interval(m, n))"
   ]
  },
  {
   "cell_type": "code",
   "execution_count": 49,
   "metadata": {},
   "outputs": [
    {
     "data": {
      "text/html": [
       "<span style=\"font-size:20px;\"><a class=\"ProveItLink\" href=\"../__pv_it/demonstrations/7a45369c0e247de6d92149f44e797ed1c28e414e0/expr.ipynb\"><img src=\"data:image/png;base64,iVBORw0KGgoAAAANSUhEUgAAAOkAAAAXBAMAAAAcgXW5AAAAMFBMVEX///+IiIgiIiIQEBB2dnbu\n",
       "7u5ERETMzMzc3NwyMjK6urpmZmaYmJiqqqpUVFQAAAB6qHgnAAAAAXRSTlMAQObYZgAAAAlwSFlz\n",
       "AAAOxAAADsQBlSsOGwAAAzdJREFUSMe1lV9IFEEcx3937np7d3vLBQZCJSpCRAkqERIR9mzFiSL0\n",
       "oudDZ9BDi/mQD8WpD0GRrg9CYMLpc8hRRvQHuiKS8mWJHhIK794jFBKjOOj3m53dmT29y5Ma+N3+\n",
       "du4z8/3tb34zA7Dfpkl+2veoAKcrUntoR4QbsJ3nwl/hBW55evlSvWisS/ifAPo7SD1XSrFuB/YI\n",
       "sufUe7961UvCVS38mSNvdgc2J2CPQLtFWU9Wr/pSuFH6xCJ5qzuwooA9Ai2cAFDs6lXbhFuDFtli\n",
       "XkKsAMuf081gQaDpGGh4H8tqCX8NTWFRhL2F1Y+zAJRGDxYEWUdz88nqVaNUTFPnxslfptnyse4E\n",
       "KHm3qlucrw4XGmwOC4LsKcBl34Rvc2W1Rp+4HsUb6YRrNPkDtMHc18kc6DwDfU0cG5xVf/IUCIJs\n",
       "CjTUfhN35wu1VfjEi64TxE/ozcEj8lvR1u/YY2mIOWPvnnCx9QS0O7BEkNUmlAyucIYEG1IZ34rt\n",
       "aGteBSH/CqCF/NNoj1dYxBv0a8x7/DOAH3xyQZDF4lRM09T1wiypk8qqp0D95aoeY2MjbSWqLRAp\n",
       "clVBMMp6jT/vtDp+tJDq6sqB/OFhnx52ZSVVTJq6CfoGz7BajGzT2MaSDBchuuVkWCIYdYHOi8K9\n",
       "3nS/U/MWqB/OwFlokEWpqxNg0X2vjeM8YFif0R/CQVtqMYCPZEk1bdPiEywTjJqkcm+3Q/CQgWMm\n",
       "aD0W8su+SwO7MOrwQf5O1T8EH7NZp8QMS91W+Bah1tPk7JxvcJXDEsEoA/Ot/cYN9D6VStmh78gb\n",
       "cazkVl+GjTgtR2zGrXTM0kDdjQKt1Qh+jQ2HMKBgxjslnA070J3jsER4lJ5c1GDU2eAYWI0ZSGob\n",
       "pqxaY0azJkx670fFX0EPnBCdunyjCHhCpoz4iIJ7yK2maezQk5Q9tQv6GDENwZumqCb5oNezu1wJ\n",
       "/lL0XRoeVZs2VkAbdlWXIJzWChREqBOus8t/CQLnpRrGEWLSK+7il7u7PJiIUqovtedTAlRpbP8u\n",
       "kfiaBxOxKxVp3JMqjEsFzo/T+rLjXLi+LDVTXjQ0D/+rhcrf8bf/kcQfCcfiuvC6EkcAAAAASUVO\n",
       "RK5CYII=\n",
       "\" style=\"display:inline;vertical-align:middle;\" /></a>, <a class=\"ProveItLink\" href=\"../__pv_it/demonstrations/42459e4d896c05cfb23a7032bf67ab1d947f926c0/expr.ipynb\"><img src=\"data:image/png;base64,iVBORw0KGgoAAAANSUhEUgAAAIMAAAAVBAMAAACXjEALAAAAMFBMVEX///9ERERUVFSYmJgQEBBm\n",
       "ZmYiIiKqqqoyMjLu7u7MzMyIiIi6urp2dnbc3NwAAAA11vaUAAAAAXRSTlMAQObYZgAAAAlwSFlz\n",
       "AAAOxAAADsQBlSsOGwAAAaxJREFUOMtjeMAABHMOMBAAz0Hq+LDL3QFi7p4JhIzgUgQq4T2A04h6\n",
       "giYwMDAqYDPi7tYHECOuETaBgTcBixEcBZx5FBphxsBwkRwjZhjABYXAgUC6EZzXNsAEvzIwrC+A\n",
       "GcGzad5taa67Mph6T2u+3bgB1SPbbkJoTpARBmAjIoCyjNoM820YSjCNuCC0gfMfMOIdkMLCLBJM\n",
       "8f0FGrEBZASfMwPDGTYBhvcbGOwxTOA5kMjA9wuo6DtycFbEwY24ADSCTwMoM2H+AVDIRGAYwcn5\n",
       "h4H9J5AxqR05Rk5oguSARpwHu2KpJCh5gf3ji+kR9g8MTA1A+sYBFCMkocFZDwlOYNwwaDAw5DLw\n",
       "/OPEMAKon99gAtglSB7RA1OCDAz2iEj1ZQC6mKnhMYYRLBeAPrzAwIsSnHEQ2gTsdKgRwBBj/sDA\n",
       "eOECSGZ+A4wAgvcLGHYwL8AaqQxsBZxecCN4Ehi4Axh4osF5ny0ARgDBMWBImqMkrW3wpMUZu2kB\n",
       "OQl8mgGWzE52NkMYsYUII1gb8BrxvoCwEVMMcBqxC5RQgwia8VYdVEAuwCYFAEU6kT/9yubuAAAA\n",
       "AElFTkSuQmCC\n",
       "\" style=\"display:inline;vertical-align:middle;\" /></a> <a class=\"ProveItLink\" href=\"../__pv_it/demonstrations/a05bedafaefc48405d47171629014f0eb2f7fa870/proof.ipynb\" style=\"text-decoration: none\">&nbsp;&#x22A2;&nbsp;&nbsp;</a><a class=\"ProveItLink\" href=\"../__pv_it/demonstrations/798b81c97a66959fc0c154ed70fa4fe85411b5120/expr.ipynb\"><img src=\"data:image/png;base64,iVBORw0KGgoAAAANSUhEUgAAAOUAAAA/BAMAAADtQhJsAAAAMFBMVEX///92dnZEREQiIiKqqqpU\n",
       "VFTMzMyYmJgQEBDu7u7c3Ny6uroyMjKIiIhmZmYAAABumYecAAAAAXRSTlMAQObYZgAAAAlwSFlz\n",
       "AAAOxAAADsQBlSsOGwAABQNJREFUWMOVmF+IG0UYwOeyuUs2uWwCBaUgXCgIfWtAOBDR5NGHwqWg\n",
       "by2XBx98kYQqIih39yCWinL3pg+WHGiLIpK8CPVB7hCKKIWG1sq1Woz6cCiWxF7P67V3XWdmZ3dn\n",
       "d79v881Aks3Mzu+bP9+/GcZEucsIxf4hrfWuIaG0SZHJrqe00RAaYWOdJDNTwdtoiJBgn1MPS2/e\n",
       "GaYtzbt4Ew0REhy1Lvbb59j7acN8cQ1roSICQrvl/RYubLL9NJkWOgUqIiBc8WumB8WVNJnZh1gL\n",
       "FeETQlK+5QxbaUK/mziYSQhFsKp+RY9Zr6TKXEBa6QhFaDf8iq9Z6clUXc8jG0pHKMIiIxdnDNcv\n",
       "GhLsx3SZxT3Y7B4bEnL/0WWyD8BaE4QkZMYGMkegizNBSEK5aiBzoQPVmiAkYaNiILPXBB18xZAw\n",
       "6ovHa25YDlNUHXQyJghJuCbd7oLrGav95c3VBynBCHSmJghJ2PH8pFsLtLDewEPzfajWBCEIhXve\n",
       "c303tFtcJbKQJRohBMGntN1QJf+OIsWXspGZeykDQRFxQkltd8kNA1UugvxJfH2rPM4OtFyTEHGC\n",
       "4+/QiR1kMSpsqt4qqSm4kA9FEPbxGkzI+H7rYxcOGp/wzzJjKk2sA+kJipgdwoRZfz2KLqiTbJt/\n",
       "/uHJlTILwPmhiHIDJuQDi5t7AKZYwoaf57bsNZ7oa00nvQGgiI01mFAO/POsC+XFWV5Z4Is3623H\n",
       "omZ4r/+lpoMhjiCEsIO9+m9EwU/dHggF4b40x9+ZasZl3jjK4jJjiCt3XgIJYYfAeXnl8rp0U2J0\n",
       "09zCc94MRr4J2kcGLCEzirAP1rrrEKEbdnDc85HM3BGqbvGJ5Tk+uxKRWfgztH8Mkd2XPZOErhYp\n",
       "6oeRxMUSISrPlabNRzvjgefU7E5r+4oiNlm5AhH0Dr2aFnOqrNtXMreEHayQZOoIPuaNBkTQO2xp\n",
       "xtcdCDv2VuZpm69MLSIzsrYIgpvnaA0iaApQ1FOpboOdznJAhgvZm+IaUKXoUARRbsnjWpKgdWjr\n",
       "QS8zyL7gME/DH13wNF6Xyewbt5IyI4jpTmYIEjTj+jDioM88cfFnEXv4iizxt61+0iccTdhnFHFq\n",
       "m4GE/DjmkeNl3vv5lCVksneU75uASBCswFkeg2PZUujqhbcEDkCTEAlCEIicZ0NjjkQqOZmCSjbq\n",
       "6ymxDEEkCM4j1fJWSHsjsivVsB9jq1DMnoBIEEp7CS3PRpPYr8TXbfUHSiInIuKEnIoEvUA57BF+\n",
       "81GAEhgjhCAUd2Na/tmiix+Ui7t4JQ0hXrYPPC0/uCrLM6uuu4Pn8TnoUGCEkIS65x20w8ZeyjEZ\n",
       "PGmaICRhRLt4U0Y/pp9KUwjLHQOZ5RpUa4KQhN7QQGYbPGmaICQhXzOQ+RuojyYISZjaN5B5HKw1\n",
       "QUhC4ZDewd6F7fzQlHBVPNJulbBLGTpCEZaFpp+kKTqycXSEInSFJv1Ou/RAjIKOUARHxIDn/Llv\n",
       "v3azdBbzlnOYcyEjFMHmGmCP2R/HeOl8dLmTb5aaiAJgukJGBIQt7+wkyxe/8hTRQe6YHNQOqYiA\n",
       "YA1Y+MoZ9qrMgsHN6GMyqYiAUHzIrG/UwrD32HXWm4HJL+NxlYgICU+xcsk37zEf5lkHtq3zuD7S\n",
       "EBohM3B+8QfcZD+yi7dA7uetlEs5EkIj2PMk6/w+zafNmxIukVxlP631Ep3wP18kLJXwliRaAAAA\n",
       "AElFTkSuQmCC\n",
       "\" style=\"display:inline;vertical-align:middle;\" /></a></span>"
      ],
      "text/plain": [
       "{forall_{k in {m .. n}} (a(k) < b(k)), |{m .. n}| > 0} |- (Sum_{l = m}^{n} a(l)) < (Sum_{l = m}^{n} b(l))"
      ]
     },
     "metadata": {},
     "output_type": "display_data"
    }
   ],
   "source": [
    "# Note, with some added Interval automation, we should be able to get this to\n",
    "# work assuming m >= n rather than |{m...n}| > 0.  Change this in the future.\n",
    "sum_expr.deduce_bound(strong_summand_relation, \n",
    "                      assumptions=[strong_summand_relation, \n",
    "                                   greater(Card(Interval(m, n)), zero)])"
   ]
  },
  {
   "cell_type": "code",
   "execution_count": 50,
   "metadata": {},
   "outputs": [
    {
     "data": {
      "text/html": [
       "<strong id=\"sum_expr\">sum_expr:</strong> <a class=\"ProveItLink\" href=\"../__pv_it/demonstrations/d68bc9b39a0e514f80d4942607a989b4c6d530ae0/expr.ipynb\"><img src=\"data:image/png;base64,iVBORw0KGgoAAAANSUhEUgAAAIwAAAAuBAMAAAAIOuzoAAAAMFBMVEX///92dnZERERmZmaYmJgi\n",
       "IiIQEBBUVFS6urrc3Nzu7u7MzMyqqqqIiIgyMjIAAAAO+LikAAAAAXRSTlMAQObYZgAAAAlwSFlz\n",
       "AAAOxAAADsQBlSsOGwAAAqFJREFUSMdjeP8fAf4ykA3O/98AprlmXM//Rr4x7P8DYEyW+APkmxP/\n",
       "Hc5kViDfmP3/HeBsS4QwJ5oyTuy6J8CkeP//hAuyIOTvoKm/g92YXiDmuABi6X/FIs0jgMFnjN+A\n",
       "KsYdBXQEyCtXQLxl/w0wjVmHhe+PKrTc7heQfAXEfAtAbvr/B9MYEyx8Oyi7BUrzgoxxBoUF2B3y\n",
       "3xZgGJOAhR8LZZ9FNoYNpDcLxOX7/wAjaB5g8jl/YzOGDxQ4T8AJOP8jujHMoBBmvOuNzGf5gM0Y\n",
       "xgIgIY6SIRAAZAdnDIMRMp9dAZsxLCB3+0Hs+p+FZgwrMFuwCjDkIvPZLmAzhgcUasegGQI9b7M1\n",
       "MDDYQwJ+/QMofz8oxTKYhoamhYaGw43hBnl1P0TX/AAsxiRBHWIA5V9jwOYaDpBr2iAC1yZgeorr\n",
       "L5on1bmwegrkgqNgPsdv9JhiAobDF6AECp8RaxCDAt4JkskxyhlQNAKjSRqZ/2MtmjGMP2FJwxCc\n",
       "bnIxEjE30KmMIr4LkPnOAqjGsJf9KwF6FxhqDBHgRIEla0bj4Z9FlpgKKnDAMaSEpaBwxsNvQc+z\n",
       "zKAMwRyFyDqIMEaLO3Q+vFAEhfAkEMsNocIHzuJCK5a5cBTTYOM1UWObB6l4mIumfi52Y26CIh5k\n",
       "1Hx4bHPZG5BdMSBie049RkYnHvD9ewcGofn//38lv5qyR6rDvzCMguEPlkOrH/YkYUXyUzG4QuS+\n",
       "rtTAOoFx7QLyjQGVgsYbQG2bPVMo8BSwFOSFtLcMKPATw3oGhkWQptacDRQYcw5WKq5lpCSmgJWD\n",
       "n5KS0gEGASmGVeQbE7GAYSO4zjvtwCBFvjEfLjAwgSKakZmBI4B8Y2wbGDi1gbR7+UW9AspS8kIl\n",
       "pQaKDAAAsrG/MDixQuwAAAAASUVORK5CYII=\n",
       "\" style=\"display:inline;vertical-align:middle;\" /></a><br>"
      ],
      "text/plain": [
       "<IPython.core.display.HTML object>"
      ]
     },
     "metadata": {},
     "output_type": "display_data"
    }
   ],
   "source": [
    "sum_expr = Sum(l, Mult(c, Add(l, one)), domain=Integer)"
   ]
  },
  {
   "cell_type": "code",
   "execution_count": 51,
   "metadata": {},
   "outputs": [
    {
     "data": {
      "text/html": [
       "<span style=\"font-size:20px;\"><a class=\"ProveItLink\" href=\"../../addition/__pv_it/theorems/b66b5547fa9b0b910f79351152926c658c2718190/expr.ipynb\"><img src=\"data:image/png;base64,iVBORw0KGgoAAAANSUhEUgAAADEAAAAQBAMAAABNQoq8AAAAMFBMVEX///9UVFQyMjK6urru7u4Q\n",
       "EBBERERmZmaqqqoiIiLc3NzMzMyYmJiIiIh2dnYAAABC1PP/AAAAAXRSTlMAQObYZgAAAAlwSFlz\n",
       "AAAOxAAADsQBlSsOGwAAAMJJREFUGNNjYMAEfplKt/ZhEWfgFT3AUp+OTabWjoGBB5sMd0EKkBRH\n",
       "Fro2c6YCkGJ0SACSPkgSRlcgNBtXAUzo7Z0NQJJLBcpdyP0AylrZwA7SzrQAyt/HfADKmsfAegEk\n",
       "AzNiOfMFCIP9C4TeOhMIEsD2QE1jTYDQbjA9bA5QEX+oXk6YDDPYP8wMDPxA+wxAYXIBHgaGQKII\n",
       "aE8CAx/I1Qwa8HBLqmLpBPnp3RmIFx2THWBhnfqzCiXA7DLBoQMDAANFK7BF6/dnAAAAAElFTkSu\n",
       "QmCC\n",
       "\" style=\"display:inline;vertical-align:middle;\" /></a> <a class=\"ProveItLink\" href=\"../__pv_it/demonstrations/e9c7a0f4d02db9692ef837fc176478ab153c77f40/proof.ipynb\" style=\"text-decoration: none\">&nbsp;&#x22A2;&nbsp;&nbsp;</a><a class=\"ProveItLink\" href=\"../__pv_it/demonstrations/37e9db72bf55dfa305e1ddc06110af9d7c67bf0e0/expr.ipynb\"><img src=\"data:image/png;base64,iVBORw0KGgoAAAANSUhEUgAAAXAAAAA/BAMAAAALTo4BAAAAMFBMVEX///92dnZERERmZmaYmJgQ\n",
       "EBBUVFTc3NyqqqqIiIgyMjLu7u7MzMwiIiK6uroAAADo7FnOAAAAAXRSTlMAQObYZgAAAAlwSFlz\n",
       "AAAOxAAADsQBlSsOGwAABtxJREFUaN692l+ME0UYAPDZbnvbdtteBWNi0FD6IP4LVxBjJJJrRPxD\n",
       "NNdgiBLEa1BIfKIhPsADXn1AA8FcTQBREmnU8KAhVzWHASOtiQ/6gHdKUAwe1wdMJGhb5KDHcdw6\n",
       "29ntzu58U9lzbjeZXOfazv46O/vNN9OiuqaNIiFHWNMmOU/JBXs9pmk3Z3GGIU3LI3Si1KrUa7WK\n",
       "GHikVuPBP3DUYzO1v2Zxhh9rdQwPJQgcCTxehP8dazr/0ZjlCQIYjhZ5Bh9OC4UP572Cr0BC4cEN\n",
       "HsEj02Lh6LRH8HBWMHww5w28dR6R8HDCG/jPSDA8OO0JPDIpGo6e9wTe1RAO7/UEXk4Jh9fTXsD7\n",
       "KsLhgaIX8B4kHC43vYD/Ix4enPAAHrssHq5cI3Cc57aP66Lh8gwMD1Mn1Qru4GgdgQ9q5P5R3zjQ\n",
       "f1U0PHwDhgc1I4X56uJmLeMS3lNqwbusRZB/PC8Y3j3KGSpbrUXQc5Mu4YfzZIyPX7OubEIwfCDB\n",
       "gUc1K/la5hI+mCLwEc1K9R+xXqY43qbAreWMAsMHUxx4RJuwuitnb449FBt8JEHgIc1aXPmtFx90\n",
       "vPkgDL9oFBh+uMCLKoc1y2h1XAgeq7ECDS+PGuGwB1p0B+NMXRp3TIORc/hUaVJgeG+eB/eB+wtv\n",
       "InS3c+VxCi/s99Hw7oYBH9aAC3oCqPfZ/3VshR4zPjMKCO+p8OBq/xX2KRXP5n57mFdfGcLwcImC\n",
       "R28Y8Bi0JbIcqBvLx5h5aUM6fJVRQPhQjjsB1TX2asi4ZblIHl9oDzeM9qcoeLhpzpwLr5aYNjJA\n",
       "/Tdj1BRoeKBECgjvL3HhkraBjRt6fxqt76bhaAMF982Y8LBWZIZ4ka0r0xA8nCYFhGuIP+UPTTFP\n",
       "7dEjaAWCf0LBuyZNuNrPpBSyfm9K7z9L183RZ4dLWVI6wu/cV2Hgw1rc+fKl1I1kh98BwtvTPjVX\n",
       "4z5Uzlpzg17vSkBwf5EUE75yTD9+scF35qmpzYS3p33r0Pt1EwhfQ8HliTZcZsZbFL8oGkfr6Xqg\n",
       "AMGDGVKgHlcN+E/t99LZYS9za53FZT0I3wXD0bgzLwxUccOtdtUpsz6ihwh5bOzMxrGxbBseaZAC\n",
       "wknWJpNUq1y0w6NMXvgybqppXLZ15mVrwUcouHTdgg+MAvC15OFps74fQT0ey5DSAR4g4ySassMV\n",
       "ZuLD8FAG7PE/OPD9OXaoqNcdQ+ceFRwqo6RAY9yAlwvgQiL0AmKHii9bguDvwPAYc5v48LlwGhSz\n",
       "1SXw5kyQ0iGqdOM7u8rC68y0ep/+2jgEfxwe4yPMJKYHOBxS7qLrM8cdcKlpBMpW8OTDcUiR2HAI\n",
       "7BXhoNd9yTkBLcwZgZKFq+vZHSh88aXbnynR9VVxO7xr89SreBBVSekUx2974hA7VIbZzPEUvnhL\n",
       "HWN8S/8RfMHOg3E8DCRZv/PrQdsZdxoFnvI7zJwfs09FqcGz25aQj4LwJND8Kn49lnZmX8t58HF+\n",
       "ruIDFkd+qgcvOLMvK1eZNuDyOaszrbvTEWd88NoEKQlS3Ka1aKX1maw7bDFn1baNzsejZna42jI9\n",
       "bYVgR4eonOWo/oHIhwIXElUe3G/FQr8F/4IDX0zDA8ZCgoqFQSqZ3eF47w64yfeMwlm6pXlwKhbu\n",
       "oq4fvMcSytlWQBkCH2h/YLU3JXiV3xfnwBUrFn55xeUqf4CsOa1YuH2rVhEMr2c58HYsVN5ik8T/\n",
       "gONGdXh46tPWMdY/u6+qO8LLRQ58iJz06Bnt1r+VN+F9hRa8l9rFmxANjzZguEzvHaZdwnsrc79b\n",
       "KzfF79aiIQ+2mf0TcwC/6QFcuSIeHrnsxTcSG8XDQ9NewBeWhMN9GS/gAwXh8HLWgB8zGtq8aNl8\n",
       "4fBwEYarW40Ude38RSl3cP0byLq5SfXDpiXoV7TgkHC4v8np8T34LjuQrEZz0vGSO/hRZMDxukt+\n",
       "TN+ljrydFg5XL3PgeKHzUEXfkP/+dXdDRZkw4XjdtY/MFrL4MY4e5sDPG7vqKJVyB5caJrxs5tpP\n",
       "7Z0DeLkAj/GGkXv7t1fcwVsN1sloI2sxtRCfA3goA8LxjUXWZscll1FlJTLhS5H/o2TyXiRJJbUk\n",
       "HG5uqjvg+MZak0wm8yi+AH3tBq7MtOHnS5FWV//5HZLmAF7PQfDoJfRtq7I3jRa4gXdl2/BGAT2g\n",
       "/42n0N/ihwqSihC8O4R8ei9JMoq5ysdXl9rwR6tomx6Ytrw278gcwPV9NWCofIiUB/HfJ7e8e3/W\n",
       "BVx5iVxGY/mhzksu+X/zfYcfBX/jCBvtHwV/nkxWb/0M5EfBYRJDT4r8UfAlzlOK4xRqbZY/Cq7h\n",
       "UXKy9fhfVuTBk8T2pPsAAAAASUVORK5CYII=\n",
       "\" style=\"display:inline;vertical-align:middle;\" /></a></span>"
      ],
      "text/plain": [
       "{c in Complex} |- [Sum_{l in Integer} (c * (l + 1))] = (c * [Sum_{l in Integer} (l + 1)])"
      ]
     },
     "metadata": {},
     "output_type": "display_data"
    }
   ],
   "source": [
    "sum_expr.factorization(c, assumptions=[InSet(c, Complex)])"
   ]
  },
  {
   "cell_type": "code",
   "execution_count": 52,
   "metadata": {},
   "outputs": [
    {
     "data": {
      "text/html": [
       "<span style=\"font-size:20px;\"><a class=\"ProveItLink\" href=\"../../addition/__pv_it/theorems/b66b5547fa9b0b910f79351152926c658c2718190/expr.ipynb\"><img src=\"data:image/png;base64,iVBORw0KGgoAAAANSUhEUgAAADEAAAAQBAMAAABNQoq8AAAAMFBMVEX///9UVFQyMjK6urru7u4Q\n",
       "EBBERERmZmaqqqoiIiLc3NzMzMyYmJiIiIh2dnYAAABC1PP/AAAAAXRSTlMAQObYZgAAAAlwSFlz\n",
       "AAAOxAAADsQBlSsOGwAAAMJJREFUGNNjYMAEfplKt/ZhEWfgFT3AUp+OTabWjoGBB5sMd0EKkBRH\n",
       "Fro2c6YCkGJ0SACSPkgSRlcgNBtXAUzo7Z0NQJJLBcpdyP0AylrZwA7SzrQAyt/HfADKmsfAegEk\n",
       "AzNiOfMFCIP9C4TeOhMIEsD2QE1jTYDQbjA9bA5QEX+oXk6YDDPYP8wMDPxA+wxAYXIBHgaGQKII\n",
       "aE8CAx/I1Qwa8HBLqmLpBPnp3RmIFx2THWBhnfqzCiXA7DLBoQMDAANFK7BF6/dnAAAAAElFTkSu\n",
       "QmCC\n",
       "\" style=\"display:inline;vertical-align:middle;\" /></a> <a class=\"ProveItLink\" href=\"../__pv_it/demonstrations/e93c09717646a90f71a206428d317b38831d1df50/proof.ipynb\" style=\"text-decoration: none\">&nbsp;&#x22A2;&nbsp;&nbsp;</a><a class=\"ProveItLink\" href=\"../__pv_it/demonstrations/6ca8c04ad0f1eabd7ec6f5e359acb28b825ea5c60/expr.ipynb\"><img src=\"data:image/png;base64,iVBORw0KGgoAAAANSUhEUgAAAXAAAAA/BAMAAAALTo4BAAAAMFBMVEX///92dnZERERmZmaYmJgQ\n",
       "EBBUVFTc3NyqqqqIiIgyMjLu7u7MzMwiIiK6uroAAADo7FnOAAAAAXRSTlMAQObYZgAAAAlwSFlz\n",
       "AAAOxAAADsQBlSsOGwAABsxJREFUaN692l2ME0UcAPDZtnfbdtteA8YXNJQ+iF/hCmKMRNJGgh9E\n",
       "cw2EKEG8Bj0Sn2iID/Cgdz6ggWCuJoCoiTRqeNCQWzWHASOtiQ/6gHfRoBi8jwdMJGjbk4MeR7l1\n",
       "dmd2Z3Z2Fut2bjeZu5vd3u6vs//9z0cL6po2DoRsUU2bczkULAGQ0LRbHs46omlD9j1nVONXvVar\n",
       "ioHHajU3+PuwJBZqf3k464+1OgOPpBAcCNye5+9ONPUfDY8n7WLgYIVv8NGcUPjokF/wdUAoPLzd\n",
       "J3isJRYOfvYJHi0Ihg8X/YEb1xEJj6b8gf8EBMPDLV/gsTnRcLDFF3h3Qzg86wu8khEOr+f8gPdV\n",
       "hcO7yn7Ae4FweLDpB/wf8fDwrA/wxIx4uHwdweGY19puiIYHFwg8Sl1IK3mHg60IPqyh50d5/Wj/\n",
       "NdHw6E0CD2stVPnq8oCW7wDeqxrwbjIJCk0NCYb3jFOhsptMgp6d6wB+fAjF+NR1cmdTguGDKQoe\n",
       "1wrWgTUdwIczCD6m5ax9j1DPAPtM8M9cxIUPH85Q8Jg2S5qoaD+Fc5Nd4WMpBI9oTWtfiBw+xrz8\n",
       "GB9+GRc+/HiJzirHNWIkjRXhx2ei5AavjON02MubgIeTjro0xcysYxfhZXOo8OHZIRoe4K4pvAHA\n",
       "3S1m3zk4mT/sBu9pYPiolnEePcOp99l3nVqn54zPcOHCe6s0XOm/6nyJAnvwkD3NKy+NQHhUdYHH\n",
       "b2J4grckspZTX4cV5m2O6PANuHDhI0VbB1TXOD04PFuwjP6+ZIUYRIcyLvBo0+w5l19THUfznPpv\n",
       "OGpKNLxLRYUL71dtcEnb7swbehviMx6g4WC7CzywYMKjWtkR4mVnXW7x4NEcKly4Buxd/si84yUH\n",
       "9axZ5cE/cYF3z5lwpX/GcQP1Z1N67xm6bkaiHS4VUGkLPqol2Zesph4eO/xOFo49BG51+1QcwTaU\n",
       "L5B+Qq93p3jwUBkVE75+Qt9+4cOtbp9servu5MI3MXDTE5y14EFH7MXhP8STYBtd7yrx4OE8KrwW\n",
       "V1g4yDoepwuwbOPC9zNw00PBwRQ7LuyahhcxrqHMm/UxPUUEJybO75iYKFjwWAMVLvwaC487xoUv\n",
       "wn9v4lu11bxVBnyMwCv6Lc3i9yzdIPDBcQ58M7V0pNePAF6LJ/KotAeXHZ0dhEfy3Bb/g8Djemrc\n",
       "DJzwI0VnqCg3mNC5R+GGyjgqvBh3wiPPAWeoBAoqD/62PVQsDwVPOB6ZAMTBIVHCVpe4D2cKlbay\n",
       "CqizWQDcB/vwXJIHf5yJcdNDxfiYI1vqCQ4+wnfR9YXTDFxq4kRpJM924DFnHw2TXs8VtgNaXsSJ\n",
       "koabHgJXtjlXoODNl+54WqXrG5J2ePfA/MswiKZRaS+PO6ds5+ANW83E+K7+EzD9TjJw00PyeJQz\n",
       "yPrdvR62Xf01XPhdPgP/mDNkooLngG1APv6fPWeac8kN7vVEjh19rXWDT9nHKgHODCtEtdoldvTF\n",
       "H6u0MDx4kTQmOcrkmQB/ngLkFCrtDGvBetL7ENBKl1nbHrfxeNwcHW4kpqdI8mEaR3GZjupvCL0p\n",
       "7kRimoaHSC4MEdAXLvCVbvAuPJGgcmGYGszuY16+j3/6d3FxmbrlaDiVC/dT94y/xhIpus6A8gg+\n",
       "aB1TshnBs/y+JAWXSS788moHs/xBNOckuXDvbscgsVN4vUDBrVwov+kcJP4PODypDo/Of2psE/3e\n",
       "Pra+LbxSpuAj6EInz2vtfxLPg/eVDHiWWtGbFQ2PNwg8SK8d5jqAZ6uLv1obbIpfrQUjPiwzh2YX\n",
       "AX7LB7h8VTw8NuPHJxI7xMMjLT/gy1Xh8EDeD/hgSTi8UsDwU/ikAyvWLBUOj5YJXNmNh6Wbl67I\n",
       "eIfrn0DWzUWqH3auAr+CZR8Ih4eaVIsfhE/W0fR0vCidVr3DTwIMh/Ou4GP6inXsrZxwuDJDweFE\n",
       "56Gqvgj//aveQ0WeNeFw3nUY9RZB8TEOHqbgk3glHWQy3uFSw4RXzLH2k4cWAV4pkRhv4LF3aG/V\n",
       "O9w4YR1FHpqLKaXkIsDRYo8Bhw8TmpudljrIKuuBCV8NQh+l0/cCSVIVVTgcLaobcPgwbUqn00Mg\n",
       "uQx87RUuL1jwSTVmNPWf3wFpEeD1ogmPXwHfGu/iUA4s8wrvLljwRgk8oP9OZsDf4kMFSGUT3hMB\n",
       "Ab1lpCBIeB6Pb1Qt+KPTYI+epHa9suTEIsD1NTYcKh8C+UH4+4ld79xf8AiXX0C3EU9FlCXpVZ31\n",
       "97f5UvA3VepLwZ+n09Ptn9X5peAoyqdnRX4p+IrLIRleQql5/FJwjXnqzho//wVfYr87xyD4tAAA\n",
       "AABJRU5ErkJggg==\n",
       "\" style=\"display:inline;vertical-align:middle;\" /></a></span>"
      ],
      "text/plain": [
       "{c in Complex} |- [Sum_{l in Integer} (c * (l + 1))] = ([Sum_{l in Integer} (l + 1)] * c)"
      ]
     },
     "metadata": {},
     "output_type": "display_data"
    }
   ],
   "source": [
    "sum_expr.factorization(c, pull='right', \n",
    "                       assumptions=[InSet(c, Complex)])"
   ]
  },
  {
   "cell_type": "code",
   "execution_count": 53,
   "metadata": {},
   "outputs": [
    {
     "data": {
      "text/html": [
       "<strong id=\"sum_expr\">sum_expr:</strong> <a class=\"ProveItLink\" href=\"../__pv_it/demonstrations/6e003ff400fde1abcbd5b6a64300a631eea0bc820/expr.ipynb\"><img src=\"data:image/png;base64,iVBORw0KGgoAAAANSUhEUgAAAKUAAAAuBAMAAAC7csTyAAAAMFBMVEX///92dnZERERmZmaYmJgi\n",
       "IiIQEBBUVFS6urrc3Nzu7u7MzMyqqqqIiIgyMjIAAAAO+LikAAAAAXRSTlMAQObYZgAAAAlwSFlz\n",
       "AAAOxAAADsQBlSsOGwAAAvVJREFUSMftlk9o01Acx39t0lnTtAmTIehhsweZopiJF/HQoCAIooVR\n",
       "mSJsBwUZjHYT3MW5XdxhKAuC6EFY2MFre3BHaT0oiKA5iDpFHCIUPLgKbuLUxfde0pfkJc3Fd9yD\n",
       "NL/+vsnn9/783u8FVm2v/QU+7ZVdI3fp/tvyOifmNrvYNsXhBifo8E9qCn2cmHVbp/ZRz23EvRMt\n",
       "bqdS1v5FvSK1snHT0EFMW+jnNjEPrUXoT4J/pb3FoNjzm3lhyQR4jeORUT+0tRBSWmEcOS0oiq3g\n",
       "81dXETOHLvhKumz/CTEFnXEojaAouEHT7Qc/IZ6IA58gf3vXTZbZxTrmzaCYshxbtnxMGMUqeTJn\n",
       "syOFl6yjhxEXalHML5hGei6Vv7OIAZwa48sWdTQ/Xg+IZyGKuRNdiUpgf3oNB5w1kht0DTbNquEX\n",
       "JyKZZ3A+OoMW7FGGeRFhLoFAE0jegC7LJ8JYJPMZ9oy4+5OtSFdQoBakVNJFIMusqK6NxQzZJ0Kp\n",
       "dO5yqVShzDq6Mm6WLRTDzK4+qM5gexAvswrzDdfGYnYksp+zOLtc6Y0RHnvVogtB0rNg+sRkxYxi\n",
       "PsUep39pdqPBQcRswA25HUupoen1iYquRjGP4zVyils9VBNQUiQteVCgVVZPan5RmWNzvtdws0wg\n",
       "0aSx0N5cQt6p3fc+0FwaPxIQxQFmPifLTZTrQ3jqZ9j64LZULabU+UXZ8hdQPJV3iZkPvyZqMUy/\n",
       "mNbZykMGJFzwolJrX1yZ7yTewX0lS3TSS6TT1FqMYy7GxEoawURqbysczophdhCzGLdM9hBNJKmg\n",
       "8Tk2vUR6MG3X+DBzm99IK5Vte43T8V7wfS/9gK221f4j56dd49qewzt4QfFXxeOJfjgPu97zYqKK\n",
       "LRxDdz3zXOfFHHK+GxFZ4DafLZCck+7UC15MecWt/5Kl8mKio1P8nM8fgETClEw+zNQcZEgHbz2C\n",
       "BCemkgXYjw1Vg5u8xv4OnXeovouTU91NnnupO9/PEfcP2uvbl148GvIAAAAASUVORK5CYII=\n",
       "\" style=\"display:inline;vertical-align:middle;\" /></a><br>"
      ],
      "text/plain": [
       "<IPython.core.display.HTML object>"
      ]
     },
     "metadata": {},
     "output_type": "display_data"
    }
   ],
   "source": [
    "sum_expr = Sum(l, Mult(a, b, Add(l, one)), domain=Integer)"
   ]
  },
  {
   "cell_type": "code",
   "execution_count": 54,
   "metadata": {},
   "outputs": [
    {
     "data": {
      "text/html": [
       "<span style=\"font-size:20px;\"><a class=\"ProveItLink\" href=\"../../addition/__pv_it/theorems/e9f87a0977d5044ea8daf1040d2f219396bb3d5b0/expr.ipynb\"><img src=\"data:image/png;base64,iVBORw0KGgoAAAANSUhEUgAAADMAAAAQBAMAAABJt1qBAAAAMFBMVEX////MzMwyMjKqqqoiIiJm\n",
       "ZmaYmJju7u5EREQQEBC6urqIiIh2dnZUVFTc3NwAAAAqL9KcAAAAAXRSTlMAQObYZgAAAAlwSFlz\n",
       "AAAOxAAADsQBlSsOGwAAANFJREFUGNNjYMACalqU9slgk2DgvpnAHt+KVSp6DQMDG1YpxoB2IHkV\n",
       "RWyHi4sCkOItaACSZcgyi7ZDaA6+AKgI3519G8C0OlTgLeMBKGvlA47vIJrpAVRAhisBwmCfxsDq\n",
       "AJaCGfyUawOEwfqBgQVsgKQLEDSA7YIayNnAUL8AxKiA6eIAuxAI6jcw5IMZLDApLrC/uIBSBgyX\n",
       "mEEu4N4AD421QCIIqH0DsysrWEQZHoZNcewmQL+x3z74diNYpLarABbynV/iUANvTQs4oGAAAKqD\n",
       "MEJAsWyMAAAAAElFTkSuQmCC\n",
       "\" style=\"display:inline;vertical-align:middle;\" /></a>, <a class=\"ProveItLink\" href=\"../../addition/__pv_it/theorems/a259ec76dfb0a5be60b7c83d797520fa82c1dba60/expr.ipynb\"><img src=\"data:image/png;base64,iVBORw0KGgoAAAANSUhEUgAAADEAAAAQBAMAAABNQoq8AAAAMFBMVEX///+YmJjMzMzc3NyIiIhU\n",
       "VFR2dna6urqqqqpmZmYyMjIiIiIQEBBERETu7u4AAAD7tRWPAAAAAXRSTlMAQObYZgAAAAlwSFlz\n",
       "AAAOxAAADsQBlSsOGwAAANtJREFUGNNjYMAEz26vclZjYOC7swFNgiVGgG/+TSCDawKazJQyBgZG\n",
       "kAx/A6oE04R7QDISiOsfQIV8d+9eAKRYH1wAkg+BOBsqUeUHoXmZYcYvdYkAUczroHxTpgQIg+/X\n",
       "g/cGIIcYQGXU2AUgDI5/DDwOIBmYCyzZHSAMzgUM/CDtOruB4ALYHqhp3AkM9SB3v4Xp4QW7DeKd\n",
       "+SB3c8Nk2MH+YQfKKPAdBIeJAzwMSoHELKDHBHgh7l8BD7dbk/m6gWJ8YRMhAk+vwwLj2Z3fk1EC\n",
       "rOw2OHRgAAASXDjITT81JQAAAABJRU5ErkJggg==\n",
       "\" style=\"display:inline;vertical-align:middle;\" /></a> <a class=\"ProveItLink\" href=\"../__pv_it/demonstrations/a0a1b2d8047a92515cc057ccfb66391f755f4b7a0/proof.ipynb\" style=\"text-decoration: none\">&nbsp;&#x22A2;&nbsp;&nbsp;</a><a class=\"ProveItLink\" href=\"../__pv_it/demonstrations/c649c0d08daf0d458b37db09c5b5429b42bc888c0/expr.ipynb\"><img src=\"data:image/png;base64,iVBORw0KGgoAAAANSUhEUgAAAbQAAAA/BAMAAAB6GiDaAAAAMFBMVEX///92dnZERERmZmaYmJgQ\n",
       "EBBUVFTc3NyqqqqIiIgyMjLu7u7MzMwiIiK6uroAAADo7FnOAAAAAXRSTlMAQObYZgAAAAlwSFlz\n",
       "AAAOxAAADsQBlSsOGwAAB8pJREFUaN7Fm12ME1UUgO902p22079AQmKQUGoUUcMWxBiJZBsJakjM\n",
       "NihBgrgFgbi+0BBD4AG3PiCBQLYk/PgXacTwICE7YnYNGGlNTNQH3CLBn+Cy+wCJBG27stCyW3ac\n",
       "mXvn7/Z2tnfDzE5y03ZOb+/57px77jlnOqAsikXw4A+/KNaaiNhsC/1Donh/GsP2iWIGgPOC8qFc\n",
       "KhVsQAuUSs3QPm6lf2iy9M80hv2lVJbQfFGIBuw6Xm+idLUltMo0R/VIaGDBzKD1J+xH68/MCNpy\n",
       "YD+ad8NMoAXqDqCByzOB5k85gdabngE0ZVDb0fzRGUD7FTiB5q07jxaoOYIGXnUera3iDFqH82j5\n",
       "uDNo5YTjaJ0FZ9A8OcfR2oEzaGzVcbT/HELzjjmNFhp1CI27C9GkLEc77tmKxk5SoPkNaolZOjSw\n",
       "FqL1inBx8+8d67pjK5p/ggLNK6J485ubW8UkJVq7oKC16Ym2ezhjJ1q4SGOQ2/VE+5UaJdqJDFxr\n",
       "w3d1k4naidYTpUELinosvZQSrTcO0QZFPT98Vv8aZ/UbTYRp1MhovXHD1wg9zWgBcUyf8vRUI3Mm\n",
       "tMEoRPOJelbv1r/8oRVaE+FN1MhoJ5A38GXIPTEPeULUgRJTjRzKGtHyReT820nlI2/E/PnsRrOQ\n",
       "GcZCi8BVSekEbGS0DjTw++bT/KNFtZcJzUWqtslqzcMT2osCAEeMaOEKQusXCbHdefzESUzYaRYP\n",
       "LJf932nUiGjtyBXncM8ZV3uZ0Piu22S13OZtj3+rT0LzCwa04ARCC5GqhsvwEzVMiMocIXW6fTLa\n",
       "StSIaH3QwFi89BPOqL3MW3ZZzBDVYtHcXNcsXcJyxw1o/qoajcy/IzT8Br6VhCYw4Z/IQrJGNI8A\n",
       "GxGtC47iwc+XBdQTQ2PEDUS1gmjI/UY0sMGA5ppU0fxirsGm8TNM0Szk6iQ0fwI2IpoIXw7g5+cB\n",
       "1BMPtPrGiWr1FEhoXxjQ2moqGt/VEN2xshfZ+dBufUF0H8sYharBm9GYFGxWaEtkX73puB48nfro\n",
       "bdQLQ+sXIyS11FVuRptDRNOCLcPSliYxtE6OWNQ08jRfNQrboiQ0dw42FW3FkHz8ZkKTp/dG2qUZ\n",
       "OD8u5NOwF4amBVsmtcBmItpqAxo7pqGxDVYdzCil3hX6fiuA9UahJ0tC8yZhI101HqH9Ib19DbCa\n",
       "gXsn5B/zJgmRfwfuBOSRNT3MaHvJaGAYj/k9I0qJ4ZIyqwA6xFH1vSwclN0dOzR0ZePQUEpDC1Rg\n",
       "I6Kh4PtNqV8FBGXTyuegwwtHYK98zowWxGN+eeRAFdnDWtUeFLRBAxpzT0frKRLQ1gBeSUOUauwl\n",
       "EKqp72XhUUC6aqEkbFOgeaIgPyKrLntsCbKcgb2CcTMad5+gli9JvGo3mqAdTTcaJH/PuDnWADth\n",
       "NIvHeKJBFmEjrTUVTTLIfNaw40vbWocAe+EG6VtHWCeulEBCO0RGCzXU4l1ZwNdAW26feqJuuMsi\n",
       "CcEYQ3QjUdisPOQiCS0D3vGqsxkuSEsP9sLRyoVGtUA4ESGhvUBea4MN277sixeBQ3EtBNsCHjEJ\n",
       "J89haEwVOWfFQVugzZE19F5mtepkwhVHvTC0xpKsPHL4Fr5lz0+jPaURjV/fWOiV7GPg8I/d2rQN\n",
       "zE6YhCsjZrS2reNbJIMZgc0K7aI0YPfDOz/V1uAmOXpSeuH7WpaklnsJtta2dZ2SdLtG3Nf8hPD4\n",
       "L6ucxiD0mobfgxo50ELrhViN3EMo+5y0Vmu/KWErEtFihKFWWqEZhKEEHr0ua4Y2DJe/m1hDXtaI\n",
       "5opaq3XdFKckjDFkHaGxV/VroC9Yq/tFzYRcFDbLpAYsbNITR1uh79eZKdXaYczXgmrkv0r/+sv6\n",
       "LmRVyGgmlAeGgxNTUbSczk41WRDNrXt+d2ZKtRYa0TwoFTV4fmO0s9vKIpsIj6PWpICAbJfLknti\n",
       "aAbPv3fKkX1pU5adhGg9+pR0tHgrZXoVrc4ITUWL0z3/17cpK1o9sDaie/5d28WCnWjlFA2a5vm5\n",
       "D8Q6JZo0kozmH/9SOYa6pvf3odbR8jkatD6o1pkrYuv/tlLROrMKWoehtj5mK1qwQoHGGmv+CUq0\n",
       "joLDd2rYKs1Vm86hovU5fRPKPeYU2n2n0bjbDqEFRh2/K7rRITRf3XG0+YIzaK6k42g9WWfQ8imE\n",
       "NoB+aOuCpbPtRfPnKND47ShBWTN7QZwOTf4TR1mtyP68eTH4Hcz9xF40d5Xmqh2Q/MGx2EgwzZwT\n",
       "6NDOAIQmpe7s89JrIrAvYS8aP0qDJiXTTxfkW34/vUtnkNyYiial7kfglsravNbAMzRo19SbbvE4\n",
       "HRpTUdHyahL00kG70fJZirVWQYmde1eBDk0ZpQxtGhYB+GzEbjRfsnU0yQXACsE5htJDKtX8MrRp\n",
       "9+ex2OOAYQResBdNvSnXCprkAlbHYrEMiMwF39KgcZMa2jUhoFyuv38AjN1o5XTLaMFb4Hvlw8EE\n",
       "mEuD1pbS0CpZ8KT8GomDf202SMDkWkYL+4BLnmmGBSGqfG2VoKE9NwJ2yE52W/esU3ajyVXxVg3y\n",
       "M8A9Jb2+uO3wEykKNO4NaB8ogeVnxRY/wCjL4nGh71rxdtrjQl/FYiOtDwsfF0J3ji/Y9rjQrSYi\n",
       "rpXx+NI0HxcqSbZ4QXn/P4xeB/0uQpZkAAAAAElFTkSuQmCC\n",
       "\" style=\"display:inline;vertical-align:middle;\" /></a></span>"
      ],
      "text/plain": [
       "{a in Complex, b in Complex} |- [Sum_{l in Integer} (a * b * (l + 1))] = ((a * b) * [Sum_{l in Integer} (l + 1)])"
      ]
     },
     "metadata": {},
     "output_type": "display_data"
    }
   ],
   "source": [
    "sum_expr.factorization(Mult(a, b), assumptions=[InSet(a, Complex), InSet(b, Complex)])"
   ]
  },
  {
   "cell_type": "code",
   "execution_count": 55,
   "metadata": {},
   "outputs": [
    {
     "data": {
      "text/html": [
       "<span style=\"font-size:20px;\"><a class=\"ProveItLink\" href=\"../../addition/__pv_it/theorems/e9f87a0977d5044ea8daf1040d2f219396bb3d5b0/expr.ipynb\"><img src=\"data:image/png;base64,iVBORw0KGgoAAAANSUhEUgAAADMAAAAQBAMAAABJt1qBAAAAMFBMVEX////MzMwyMjKqqqoiIiJm\n",
       "ZmaYmJju7u5EREQQEBC6urqIiIh2dnZUVFTc3NwAAAAqL9KcAAAAAXRSTlMAQObYZgAAAAlwSFlz\n",
       "AAAOxAAADsQBlSsOGwAAANFJREFUGNNjYMACalqU9slgk2DgvpnAHt+KVSp6DQMDG1YpxoB2IHkV\n",
       "RWyHi4sCkOItaACSZcgyi7ZDaA6+AKgI3519G8C0OlTgLeMBKGvlA47vIJrpAVRAhisBwmCfxsDq\n",
       "AJaCGfyUawOEwfqBgQVsgKQLEDSA7YIayNnAUL8AxKiA6eIAuxAI6jcw5IMZLDApLrC/uIBSBgyX\n",
       "mEEu4N4AD421QCIIqH0DsysrWEQZHoZNcewmQL+x3z74diNYpLarABbynV/iUANvTQs4oGAAAKqD\n",
       "MEJAsWyMAAAAAElFTkSuQmCC\n",
       "\" style=\"display:inline;vertical-align:middle;\" /></a>, <a class=\"ProveItLink\" href=\"../../addition/__pv_it/theorems/a259ec76dfb0a5be60b7c83d797520fa82c1dba60/expr.ipynb\"><img src=\"data:image/png;base64,iVBORw0KGgoAAAANSUhEUgAAADEAAAAQBAMAAABNQoq8AAAAMFBMVEX///+YmJjMzMzc3NyIiIhU\n",
       "VFR2dna6urqqqqpmZmYyMjIiIiIQEBBERETu7u4AAAD7tRWPAAAAAXRSTlMAQObYZgAAAAlwSFlz\n",
       "AAAOxAAADsQBlSsOGwAAANtJREFUGNNjYMAEz26vclZjYOC7swFNgiVGgG/+TSCDawKazJQyBgZG\n",
       "kAx/A6oE04R7QDISiOsfQIV8d+9eAKRYH1wAkg+BOBsqUeUHoXmZYcYvdYkAUczroHxTpgQIg+/X\n",
       "g/cGIIcYQGXU2AUgDI5/DDwOIBmYCyzZHSAMzgUM/CDtOruB4ALYHqhp3AkM9SB3v4Xp4QW7DeKd\n",
       "+SB3c8Nk2MH+YQfKKPAdBIeJAzwMSoHELKDHBHgh7l8BD7dbk/m6gWJ8YRMhAk+vwwLj2Z3fk1EC\n",
       "rOw2OHRgAAASXDjITT81JQAAAABJRU5ErkJggg==\n",
       "\" style=\"display:inline;vertical-align:middle;\" /></a> <a class=\"ProveItLink\" href=\"../__pv_it/demonstrations/83d46f150ccdaab88f78e5443b23b1b3e49db0440/proof.ipynb\" style=\"text-decoration: none\">&nbsp;&#x22A2;&nbsp;&nbsp;</a><a class=\"ProveItLink\" href=\"../__pv_it/demonstrations/8da919216b55a2d3beacc51c354fe24d60c4116a0/expr.ipynb\"><img src=\"data:image/png;base64,iVBORw0KGgoAAAANSUhEUgAAAbQAAAA/BAMAAAB6GiDaAAAAMFBMVEX///92dnZERERmZmaYmJgQ\n",
       "EBBUVFTc3NyqqqqIiIgyMjLu7u7MzMwiIiK6uroAAADo7FnOAAAAAXRSTlMAQObYZgAAAAlwSFlz\n",
       "AAAOxAAADsQBlSsOGwAAB1pJREFUaN7Fm3+IFFUcwN/s7N3szuzuLQpCSLhukFnhrWZEktygWCHE\n",
       "HYaYXHKLqeBfLhKhf9TtPyaGciuoSUEuKf6RyE3GXWjkbRBUf9SthUXY/fhDIbF29/J0V2+9aWbe\n",
       "/Hjz5s3edM28W3i3e/Md3vf7mfl+3/t+v7MLqrJcBv6/eFluuIjYAgAJWX40j1kHZTnv4bQrkvZW\n",
       "rVRKAaDFKhU3tI+UkZit/DWPWX+qVL2gRVMQDQT1eoN8OFFX/9TmOWmbFzSwfGHQhsTg0YbyC4K2\n",
       "DgSPFuldCLRYkwIa+GUh0PgsDbSB3AKgaUoDR+NTC4D2M6CBFmnSR4s1qKCB1+mjtdfooHXRRxvJ\n",
       "0EGritTRukt00NqK1NE6AR00tk4d7R9KaJFp2miJKUpo3H2IppRB5utBoGjsrIXGI1rlgs9oYCtE\n",
       "G5BhcAvvneq7FygaP2OhReQm/OfL27vlHr/ROiUNrd0qtMMT+SDROsqIQ+6zCu3XGn6jncnDWJu4\n",
       "b7lMKki0/hSCFpezpmCN32gDGYg2KovmsReQWGwZqOTDOX2Q0QYyCFpMnrauaG6uiTkCGudu1mgK\n",
       "okXluikLW6edboXmIrytDzLamQK6Qp6RLSBxrokTBSfaabfTlLSnrC/+naT+UiRp///SDruQmcAa\n",
       "RrEbylUS4SCjdeVRtBCpmaZqfbyJHfxRAuCEA41o4Ak9qms62pCccSq5gh84iwm77eLhder6d0Ef\n",
       "RLTOEoom9N0law3btz3hrUEFjZdwNKKBPOzUxWd0tASpa7gWP9DAhOt0Ow1niqpoG/VBRBvM2bbs\n",
       "KqGtqE7MFuHnm6YjK/aGMzga0cAwvEl83chGlt2THErwvSYxgwl/1/2igKK1SXAQ0fokGxoj9xK1\n",
       "xvUZj6BooBdHIxsIpwzNGmi8XHQ4PX6EKduFXJOExotwENFkYE+0Bh8StfaXSGjnMDQXA8/BwrBh\n",
       "oAl9U46kSA3Sdx47aKUSe0/lUaEREXY0JguHJ7QhOUnSagSxHW0JhuZi4BIMzUy2kKRIufSJbWrG\n",
       "YpSRF4Q6KmxPkdDCRTgMtPVj6utXMpqZbNm0gp1EtM0YmouBmyH3tInGOtw+ntdaveut/VYC21Fh\n",
       "W4GEFumBg3TXBBwNdOExrk5sqrGjHcLQXAw8hKOBCTznb5vUWgzXVJO0kFAWxCnjsyocVZc7dmzs\n",
       "+o6xsayJFqvBQUS7h6PF8ZxfnThW12/3VuN2a2ijFtpI0W4gPAANHIVx98BC6y8T0LYAQStDtG7s\n",
       "NZBoGJ9V4UlAumuJHji8oXGPCFqjPcS7dstCi2cwA7UD0MBbDrSTOadDCg/Q3bMB2BnUGZ4UiA5Z\n",
       "hoMUa0606DZCGISyEgntmNMhSQYew9ESeDyDUAEIDdBePGwcaMKnLIYQTDPEZSQFh6cVElRLTq2g\n",
       "Q0yS0DZgaC4GbsBjbdSRF6gr+EpwLGOmYLvAEzbh7GUMjanrS7K2LHtBizVIWjvu4Fv2MtWlVmNo\n",
       "LgauxtCE7c5Gr+JVw8e/22te1+HFok24MWlHa9/9cJfiJpNweNvXCiSt4dVYrO3pO6+oHsfQXAwc\n",
       "x/Y1npAe/9GqpkGEEZt97+qDnGhhaGdbaz1iq8TKeKJFNJArY2hpwkkbW6EhwoSIp7dr3dAm7Dlk\n",
       "KNVa601bniLiaEQDWWhNqKmjsTese2CFaa4FmpuQS8HhpagB6639Oj+n1v2Oeo146n59+TQy/03W\n",
       "Sa9au1CrNombUFUHVRJL0UkULWyt/OH8nFpXONCIp67Q90e9FEVW/ghSKRxs5ZEuwg/14dJAEFE0\n",
       "ZOU/NOfE0ZyzgXDQ7TRlle2BaP3WNevKBNnR6k4iaJy18n9x1++OVj/sjVgr/4F9jgLAV7RqFkEz\n",
       "V37ufUcB8L/RFE0qGv/wM+011je/7xd5RxspImiDUOvF67L3L1N5RusuaGhdSPN9OlC0eM1CY9Ge\n",
       "v+g3WleJ8pMato7lkP/15RltkPZDqPA0LbRHtNG4u5TQYlPUn4ruoIQWbVJHWybRQQv1UEfrL9BB\n",
       "G8nqaMO6pt3L1ywOFo0vWmjCPr3O27J4ecZnNPVLHFWjD/vDzlXgN7D042DRwnXkrn2ghPup9GQ8\n",
       "x1yWfEa7CHQ0peBnX1LexdhhMVg0YQpBU4rp50rqE73v3/bZIblpA00p+OFjKZYNONbA8wjauP4k\n",
       "DmQyPqMxNQNtxCh9XjkaNNpIwYq1GrgEvfRAyWc0TUsVOj1sAgiFZNBosH2qoSkRDjsElxm/V0it\n",
       "WV6FTh/+NJ1+CjCMJEjBosGHchqaEuGb0+l0HiSXgq98ReNmTbRxKabdrj+/BUzQaNWcgRa/A77R\n",
       "OI+KYKmvaO1ZE61WAM+o78kM+DtghwRM0UDriIKQeiEZFiT8rdc2SSbai5Ngv7oK79m76HzQaGCl\n",
       "6ZCfAO5Z5f3lPcefzvqJxr0J/UOvcIVF6VU+Zlktfi70dQn5udDn6fSk91k9/lyIh1vK1cB+LnTH\n",
       "7Zoq+oTKPH8uVPGyFFzV/v4LFtwKRnYtOyAAAAAASUVORK5CYII=\n",
       "\" style=\"display:inline;vertical-align:middle;\" /></a></span>"
      ],
      "text/plain": [
       "{a in Complex, b in Complex} |- [Sum_{l in Integer} (a * b * (l + 1))] = ([Sum_{l in Integer} (l + 1)] * (a * b))"
      ]
     },
     "metadata": {},
     "output_type": "display_data"
    }
   ],
   "source": [
    "sum_expr.factorization(Mult(a, b), pull='right', assumptions=[InSet(a, Complex), InSet(b, Complex)])"
   ]
  },
  {
   "cell_type": "code",
   "execution_count": 56,
   "metadata": {},
   "outputs": [],
   "source": [
    "%end demonstrations"
   ]
  }
 ],
 "metadata": {
  "kernelspec": {
   "display_name": "Python 3",
   "language": "python",
   "name": "python3"
  },
  "language_info": {
   "codemirror_mode": {
    "name": "ipython",
    "version": 3
   },
   "file_extension": ".py",
   "mimetype": "text/x-python",
   "name": "python",
   "nbconvert_exporter": "python",
   "pygments_lexer": "ipython3",
   "version": "3.7.3"
  }
 },
 "nbformat": 4,
 "nbformat_minor": 1
}
