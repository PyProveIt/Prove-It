{
 "cells": [
  {
   "cell_type": "markdown",
   "metadata": {},
   "source": [
    "Theory of <a class=\"ProveItLink\" href=\"../../../_theory_nbs_/theory.ipynb\">proveit</a>.<a class=\"ProveItLink\" href=\"../../_theory_nbs_/theory.ipynb\">numbers</a>.summation\n",
    "========\n",
    "\n",
    "Provide description here."
   ]
  },
  {
   "cell_type": "code",
   "execution_count": 1,
   "metadata": {},
   "outputs": [
    {
     "data": {
      "text/html": [
       "<h3>Local content of this theory</h3>"
      ],
      "text/plain": [
       "<IPython.core.display.HTML object>"
      ]
     },
     "metadata": {},
     "output_type": "display_data"
    },
    {
     "data": {
      "text/html": [
       "<table><tr>\n",
       "<th><a class=\"ProveItLink\" href=\"common.ipynb\">common expressions</a></th>\n",
       "<th><a class=\"ProveItLink\" href=\"axioms.ipynb\">axioms</a></th>\n",
       "<th><a class=\"ProveItLink\" href=\"theorems.ipynb\">theorems</a></th>\n",
       "<th><a class=\"ProveItLink\" href=\"demonstrations.ipynb\">demonstrations</a></th>\n",
       "</tr></table>\n",
       "<h3>Sub-theories</h3>\n"
      ],
      "text/plain": [
       "<IPython.core.display.HTML object>"
      ]
     },
     "metadata": {},
     "output_type": "display_data"
    },
    {
     "data": {
      "text/html": [
       "<h3>All axioms contained within this theory</h3>"
      ],
      "text/plain": [
       "<IPython.core.display.HTML object>"
      ]
     },
     "metadata": {},
     "output_type": "display_data"
    },
    {
     "data": {
      "text/html": [
       "<dt><a class=\"ProveItLink\" href=\"axioms.ipynb#sum_single\">proveit.numbers.summation.sum_single</a></dt><dd><a class=\"ProveItLink\" href=\"../__pv_it/axioms/dd7c47b6a5a43e230e1d3347ec2de5e0db1e52380/expr.ipynb\"><img src=\"data:image/png;base64,iVBORw0KGgoAAAANSUhEUgAAAUAAAAA/BAMAAABjvQw5AAAAMFBMVEX///+IiIgiIiIQEBB2dnbu\n",
       "7u5ERETMzMzc3NwyMjK6urpmZmaYmJiqqqpUVFQAAAB6qHgnAAAAAXRSTlMAQObYZgAAAAlwSFlz\n",
       "AAAOxAAADsQBlSsOGwAABvBJREFUaN6lmmtsFFUUx892d2YfM22XgIYExU19QDSxC4rio7YSMaIg\n",
       "E5EPYCJrpI0haNfgBz8Yd5EEExNpYyKRhEd9fqiaLoT4gtglBIMP7IIfxEfoEqJ80MBuoXSpLeM8\n",
       "7jzO7Dzu9p6k/JntmTu/e++5Z869XYB6G5LlFATZfocGGfcuUNs6Sde4LE+7/X5ocDAb1EaoH2uw\n",
       "XU8PGMroGh0cdAekaGMojzXY+C56wo3m/zpmCMg9iBXg6SOPBdzSQQ+4psQKKPRjBW5htBZwzy8S\n",
       "NWDzElbAXBYrCIVoOuCepgL9EN7BCrjXoRAeCJWDhqVGDziaZwM0nmU9c0OePxY0hTvpAeMZNsCm\n",
       "DFZlBPO5z4IAR7P0QTjBBpgrYQVIHD65MuiucANB+AAb4EWH0plQofcdZgLk/sNKaYkpet+hIgug\n",
       "OIGV1u6jdw33swDyFazU85anD4caC2BrBit1divSL+MpFsChLqy01lemdo1dYwEcHrDrPtmyqn9g\n",
       "pek7cxcL4D7JrqOynoC5t+Z3XvKP3XF6wF6JAXAMaYtVf4vtJd9CdJoe8KbSzAFjV7C2X7MWn++y\n",
       "aW4gb44WZg5oPMfQnGytzq9wV4iS9BK94tdtfEsuM3PAUNWhslVIicjzRqLvkzfPmE+rxDeRJOVR\n",
       "igBqK/9PJ2CLNkIeaUuYxgq99Q8+uFxtwEhDIdKS7NrcI5Ld9waSYysE8BtV3nMCCmoCiXskfn4C\n",
       "K6yRnXVK5Lw6N+vMa7LnbHeryJ7cUrL7xnWfpnEC+Lo67xknYFQd2O1e1WQNKyTqtq/h37uVfw+b\n",
       "1z+SvOTW5Y5PJLuvWLA33qEBR0p1Mah2eZVXvh3HCrD6kmNohrRrKy+H9d/3DrjUOHorlq++YeIn\n",
       "CaCohEe8fpH8pPx47clJeJiqHgE4fJdpMWx9GNeD8KJLmoykHL679ew6bazixW1td9cDhtvabu6i\n",
       "BuQ6LyOPnxf/o0a/0gA3669XlJmIlL0AxXN3Fogv7Hh4qxqTDsAvAbrrAYUs8BI1oPm6M6xqDJsA\n",
       "85MHFAx9gIb1gRTaNNOhW5OGb2Kp9oL7XveZMgB3QEz15A4V7YDKZzvsTzy38YsnzB1cBavanLwE\n",
       "JV1tfTcp43UcRqR/lRlM2wFxiZM1fNcU4YC6wXcA8lJEDV3+hyxK1N3wuHH98t+bYCEsv84ETGPV\n",
       "EgiqY5or+l4ZIAtfa+8QvS+rky7vNDB8lX3ILeo7RA/NqgHYnNTWSKuE3yQnzTUiKEEAxejpoh9g\n",
       "X6o+8MPaml2kLdW0J+AyE/Ae4NSl+6EDEPqPqH0+twoDxkWlMW7lnDxJ7YIAfoCzUYbjy8a0QaIG\n",
       "a5XmU3ZAFIMvAfHlqiCqA33KCbhKS/PfOd7Fkd+UIX0qn8tzehY//qvfIkng7VNYA+GTwG1qSYOy\n",
       "QMWMZwwuAsN3Glr6TxskVgzCNq0nhxyAsYe0D7dAQmuUS3b5AeZw/ujTJlfJLc0Tz6QTJZJFXAFj\n",
       "ekJW89BzcKqgpJyDTsAWbXVsdlYz55Wf+2E+iDt7el6ESETiJO88uMgt8KMp4PYn/zihzuCAVx7U\n",
       "15PqC8/OefWswnK7Iw8Su9el3OJqsHltVOv8569BxAAMV7AqAesoFr7VZYH5wRvgBSiUHb6xlCsg\n",
       "N+5WDy6NTh7T03hXAT4wj47GsQL04EEp70ElglUK9NYdH52Jlxy+QtFeKpmA9uNHC/DTE3OKsF1p\n",
       "Vbxw9tG9nuWWcKsFp4J3kwzFG0vbKJfa66qZ24wyy/QlNVRTDQOKBc+Kmnu0ZxOelUmscNR6rhpw\n",
       "4jxyzWUcT++sm+Ejxh7B9H0BxY8ByJ/JNlDyT2G15ZhmvPPdSnQuUb9dKfENkb60phFgZFYDexLx\n",
       "MtY+M/S5Yd8jwNhYA6cQqZlvmhLXkFo55u2LcpbmRqrzt/LMAbmrSONXd2nW1inL/kMkVukBR5IM\n",
       "JwvtSIdtZzP+R5RCA+eJw1mWw6N8w+d9+lg3cJ64j+XwaKSIldZaU/S+YyyAfQWstJajP0+MXmYB\n",
       "DKewUp9Y0f+hJDTBAhgZx0prz9O78mkWwFgVK6VxDaTBDWUWQNjlUDpr5K8WI1kmwJE8Vsos00DI\n",
       "vgNMgBu6bBqat9UsSdRNlvfip89KsSk2QCFt07ktmT1Cj2KbtU2W912r6QcwUmED5Ko2LfJJI32o\n",
       "m6zAm6jWSJINEGbbtdUcNXWT5T3sDYTgAWAEbEradAvk9SnWNlneIThAH4KTrICJmqmx9Aoo2DdZ\n",
       "XnaBfgBbyqyAsMLS/R/NkuybLK8suIQe8KjEDMgnsQbbNvoXcczapLsDUny5jFuANdh2N5DRi8bJ\n",
       "svuXy9ZTfLkM3nRoYI/olwisN2quwcGP/wcTYzwnOirLmAAAAABJRU5ErkJggg==\n",
       "\" style=\"display:inline;vertical-align:middle;\" /></a></dd>"
      ],
      "text/plain": [
       "<IPython.core.display.HTML object>"
      ]
     },
     "metadata": {},
     "output_type": "display_data"
    },
    {
     "data": {
      "text/html": [
       "<dt><a class=\"ProveItLink\" href=\"axioms.ipynb#sum_split_last\">proveit.numbers.summation.sum_split_last</a></dt><dd><a class=\"ProveItLink\" href=\"../__pv_it/axioms/c382484991dfcefb9338964fba21be0b9b8d1b4a0/expr.ipynb\"><img src=\"data:image/png;base64,iVBORw0KGgoAAAANSUhEUgAAAiMAAAA/BAMAAADAj9VLAAAAMFBMVEX///+IiIgiIiIQEBB2dnbu\n",
       "7u5ERETMzMzc3NwyMjK6urpmZmaYmJiqqqpUVFQAAAB6qHgnAAAAAXRSTlMAQObYZgAAAAlwSFlz\n",
       "AAAOxAAADsQBlSsOGwAACzpJREFUeNq1XG1sHEcZnvvYu71P222ogIJzBKVFIGonpaQtWHarRgLR\n",
       "1JePBkp+nKM2JqBADlJ+UER9NAgkoNiq1KgVpXZVqZVMkS8pKoVE9YWqFQEVXwkS4kOxURpAAho7\n",
       "iWMndbLs7My7szO7OzuDtSMl73k88zyzz868887HGSFfylvWObS6VOikHw4rVjAeV0BzUaPSfVVN\n",
       "Wpd+3LLaAeXylyefX6Uk76E2MUZs9lBUjesU0Gz7jSH3aU6EV0gMqTb0OsE+NDkVKMn8KgVB+WX6\n",
       "YapBP7wVVSUzEImGbdkt9tVrJGgPqLYUaBl9Kh5Jtrfom/wk5GyK7MJ9kWjYpupu9h9kDWirjpw+\n",
       "kT4mSX4JToCOG5Rd6I4a3ierUWjYjnSdUZGkdItqU4HWpY9HkuwS/TAC7zSxPtGMqJRsRqA59prq\n",
       "9SqSoI+othVoXfp4JMnN0Q9Pu0O2VRyLqFRajkBz7D50QkmS2YZiW4HWpY9HEmgPe8pUvTAXVetQ\n",
       "BJpjN6FXssN22hshSU55zjkk2HgkuQE6pduujmAm/tHrcjTHzqM+pV5SWlJ+f3XexiJJ9gq4Ehc9\n",
       "WX09slqqKUUjdn1xSEkS9AnV1gKta+OQpAz1z7LnOhwdeBbmpWjEfrML8r8zfocMbVo50J7nbSyS\n",
       "1Kjexjt68d2KFK3W1EKbamnSgo1Fkhk6KotLevVuk6LN1LXAUmO6tLfFKMl+mHk1caYbMrT9mgvP\n",
       "ZV1aamOR5CJMM0N69WZbMrSLemClFV1aauOQJH8BhvOAXsXROQmai6qYzKu6tNTGIUnhMvTICb2K\n",
       "qV4Jmouqmm7WpaU2Dklyi7AdU6WbMm5akC/UFyVoxOY8YJZ8Xt+vuo0EtNTGIUlHhX4gW3OzFpkq\n",
       "jO9395+XVkxckaARW7LoLPa5Z05bvVK0tar7A0BLbRySjFKvahKHWLZAIlTskTaz9I4EjdqzbAv0\n",
       "11fkXlM1jgFaauOQBNoCVD3M0RWkc1D2ogSN2qTFfPBL0maMqM53QEttHJKspWM8QT3HiMUm15f5\n",
       "WYFaGhgY5yRo1GYtNrkW+DimwYPWKuFNbATRUhuHJNMUswBj1GJRU5Er+X5qn6HWkqCBXWsxIbg4\n",
       "JkEL5KmGHeFPQYuKtBZI4nTEv4mS+HPVg1caeWcgnt/ve/uFu/B0UIK4JUGfracajuaiWr63//PN\n",
       "+P8/wo/vo4vvoPkLihr3V/y0xNqS/ArbJ0RJ/LnKaZy+xhx0ju2W6OnuOYDf033uz4/zNYPQwBr9\n",
       "ohNO/xNvoRjumiZX5ekDi+aaflpibUkexuNvSJTEn6uc+qnoKXhNeUucG/qew2WOuT//jvaEiXA0\n",
       "sGhKPHtK/WUP7njuKCqSF5BxY7sXAop2tP20xNqSYFHTbVESf65ygqHJBvPgeX5E5IlYLK5Ikd+f\n",
       "bYejuX4mbQm771Okv7MM8vuy+x7eDCjqfBJoibUlKdqa5Xzu1Z+7CklyFr9ST5Owi2XmWuqSoPFL\n",
       "fIk7nf//zDKeCpWEFb0zgNaVBG1ct+5j/hnHl7sKSYx+bs1WPH0T7tsF27saXWce3GJrRIKN6ZaK\n",
       "JNstbjn5+43/dhyn/W9r92fvsh/oHuLCV3ySeIo+3fVfHy2xWJJfILTHL4kvVzUZ0PgamwUhqAex\n",
       "OuEdFVB35xFbpDFv246sw+kmDs1gkrhBPU0LbtdoJv5esDvgiTBJWFHjUrXWEGg9kvwImVgt42jL\n",
       "KwnNDVvtSiSBhUyN+YoCP/5HHYGSNvdv0Ez1P/ZTkqKDnaFohmd5NM25JpMI9FFb2EZxsWw/xEky\n",
       "Ohd8krCipUWU6hRpicWSZKpp7Gozv617JaG5JGSEM47yxz/zgOPPM2LTPSf6AZKgHm4NPEt8qo1f\n",
       "J6eb2XkdSZLcGrhE6t5uo9AD1xGvJHaXuxm6HCtqF+wYEGmZJKVOx492VLmBQ3NJwuf+2e7hiWQj\n",
       "vbUaIEnVc6IfKMloxe8QU47kGxxGrV5invP7avycCL95Oz0b1ktY0eQAmmqLtEwSNHYcS3B6Cx/Q\n",
       "O7k04XP/o3Ucj3/rh8gvyQ/OeE/0/e4VoWu5IOwrCAYOviBxr01eCfMlAe4VJW7ltjvmYDTguxtG\n",
       "FQ54AnwJK2qHJdNVgdbjS9AWJ4p7XVjjOLk7jn8KkXN/Gv02mx5JjLvX4Ed9+F/ciX6AJHneIW4g\n",
       "GJ3I+FK5F9n9i55Xqc04aIrz1aRnoN0I7Zw4jdLukwRIwop21PE9D4HWI8lBR7yjgiQ41/hQFofF\n",
       "+Nx/J5k/H617JNnWGLEleQ4vbz0n+gGSjHABh0niSnsKLC3t6s23yXysHJdk+Vh4lLg8e+ad/fqL\n",
       "6Gd0kg2MS1jRcivT9NGyuASVncfcJ0iCcwvNLB5u+NyfRMVb08gjyVF0wFZkM6ntnuj3wzthcckG\n",
       "fs+G/CJbQcbhzr++gcfQRKgk/YK14xLe4xBfjb6G0K6u0jGM8OEwSVhR461jflqPJMxfiJsDqYkE\n",
       "7kH43P/E8PBwGw1sxkMfJLkddaNsH639iju7VMWlaI5f9sElghvdnEf41a438ctUnH7MF6C8Sbeu\n",
       "WeEX4kwSsegjQYttJomxGCBJrZF5rUrO/R90fvOnFtrsSmIso333oh1fxp89J/q+zQE0zD3DqVyb\n",
       "W+yxBWBPI3pzAGW4xWhp7ifcYo8tAJPLwrLPX1Sg7WnwkmR7g3pJY+SF6g7n3D+D31K6gPIV1ktu\n",
       "zV5+zfY0eMh5TvThrMI9ZiisZ09g/7sBNgUyoAAsufuDtpAmhBOQIyxOsxuf3AMrpb2Q+11x3EI4\n",
       "IxYVafuFXTWmskeS/LE370YH2vjc3/wCXiS8veaLc0ySn76xBr+R4j7viT5aSx14Alz+q+zlY8dx\n",
       "HHYbjSFBm6ANfEADW2QzcNFufPF6AN+J+AfuEDfwfUVF2vO8JJlT9dCNRlJmx/Aw287g45LSXu9P\n",
       "MzRqK17wzcAlvpnfpvbdQSGYgAbWMwOf5DdyYcu3ERQdBhUVaE1h7zXdFbr3mg/Y/stI1n1T1Hvm\n",
       "6c78KPNX09KDhPxVCRq1JpuBd8nvakzNKa5TgZZale3oItKTpEaHrHFJmIEfPWtJL0QUFyRo1Loz\n",
       "sHnKkt/VmFG9XQ601P6/O/Sm5HdJqN5DZuBLTzppXX/U1fzCkgSN2nEC9tgHLcuqyA8KVO+jAC21\n",
       "sRyTw+xHLmxMe05x5RcccvMSNGIL3jPhlnxXXLW9QEttHJIU4cFnWnoVOyoStOKKZjPO6dJSG4ck\n",
       "Jri9Ub3bZWhkQIJm6l18Q9kLurTUxnILaSMEehW9emvrMrSNemCJJV1aamORZJDO2ulFvXr3S9EG\n",
       "q1pgmV5dWmpjkWSUTn/mgt4+9lUp2minFlptTpMWbCyS5GAt8aSeW16SouXGtNCU74QCLdhYJCnC\n",
       "LDzT0FKyIkUrLms14jFdWrCxSGKAs68NaI23lhTN0LrSaK7o0oKN55sWL0KYhV1c18vuCpTs5IZ6\n",
       "5Qg0x6qipZWfYVCw8UhSo57QWMAL03/k2i/hr9C06E5uWN9aiEDDVhmtpuqMgdalj0eSBEyA1+JF\n",
       "4+4sdJpmVjIzFioRaNgqox1RXn5UBPqYvu74AViz4XfFvrpFdnLDxvREFJpj1dBM5YvDQOvSxyQJ\n",
       "fD0Yf7M322si0tXpTm5IejsSDVtFtLJqVOLSuvQxSZKGGOLT6GB6DM7UnZ3c0Jn7lkg026qivaoa\n",
       "6gIto49JEnygRsLqzsJ773gX4OKd3LB0sB6NthspopmbVBsKtIw+WJLV/xmGbZTBuFG1xlMKaNtU\n",
       "I9JcS5cWbMifYTAmV/1nGExo/PdU58IJBTRTVZLPI01al/6hycnq/wAmNysWP62l6wAAAABJRU5E\n",
       "rkJggg==\n",
       "\" style=\"display:inline;vertical-align:middle;\" /></a></dd>"
      ],
      "text/plain": [
       "<IPython.core.display.HTML object>"
      ]
     },
     "metadata": {},
     "output_type": "display_data"
    },
    {
     "data": {
      "text/html": [
       "<dt><a class=\"ProveItLink\" href=\"axioms.ipynb#breakup_sum\">proveit.numbers.summation.breakup_sum</a></dt><dd><a class=\"ProveItLink\" href=\"../__pv_it/axioms/85378f0ada67eb98b7706ce21519b64be1c810960/expr.ipynb\"><img src=\"data:image/png;base64,iVBORw0KGgoAAAANSUhEUgAAAmEAAABABAMAAACgtL3CAAAAMFBMVEX///+IiIgiIiIQEBB2dnbu\n",
       "7u5ERETMzMzc3NwyMjK6urpmZmaYmJiqqqpUVFQAAAB6qHgnAAAAAXRSTlMAQObYZgAAAAlwSFlz\n",
       "AAAOxAAADsQBlSsOGwAAC5JJREFUeNrlXFtsXEcZnrX37J692Nk2aURFm5hUaVD64CRtLm1B3kpU\n",
       "oiLI2zrl+mCjBgNSJC8UIVEEPqhIlYCwVqVWBKquoQ9IppKdgNKWVPUmVY0iKDZUhJeKOALEAyix\n",
       "nSZxrodzmX9u55/ZibI6L8yD/6OzM9/55jsz//xzOSakc6no+yuan0oVenHYiPD5muHHwyoWmpwX\n",
       "9L+ZSyZpABbDbPr+AumkYlemfqX56U5qMxNGhMyI4bcJBevbeOb1eog7LSvCaKxX7DNT051VbEn7\n",
       "yyq9mPbMEPv1P0FRhtVbRfPlqm1ZtE37FSyO2Z2SYkMt2rw/1gZiSEuIFQUs0l3HM368HYv2CWgA\n",
       "FsdMS7E3wJGwTpm9C/UpPTu1PmhCwSLjt/0LzflerQ0Lmh45rq0JowFYDDMlxfKXoJKsWWzNb0Oz\n",
       "3qcDh6IMi9xe+zCas2umDQuabfJpfVXuU7AYZkqKFRbpxcusxYw4eJ86rXN0L6tY5AA5iTeQ1TYs\n",
       "4nSUfFZfFaABWAwzJcXU5wcPntSJqxktWVEu6W7yFp73RWLzMh4yVYXReFGxKSl2L7RxJscaXVPq\n",
       "uYTfZ0XvZbeWiMbHn64bWdBkHDgZDcACm45i+evgi9jjCpNEEwQ8rHFjCwoWIZvLmvbYPWNkQdPP\n",
       "SNZQl4cVLGZTUawX7p9jt9w3j2tGtFn89jkVi5Dv3KYbVpeMLGj60R/vMNRlVsECm45iw/T9OFct\n",
       "QKbRoIkVHZ6x4HHNxMIuAQ3AApuOYvPUB5QvWYB0o/MoVnS+boHxoImFXWI0HpRtOoqNwZxjyQKk\n",
       "hHpkVnTMhsisZ2BhlxgNwKI2HcUuwgA5YgHSg3YpVvSiDZHTLQMLu8RoABa1qShW/AB8Q9UCxL2B\n",
       "upWqgmVMjUUDC7vEaAAWtakoVroCDXzSBuV+tJ9NKlhmJ7TNwMIy3a9gUZuKYoUL9KIZBRRNn6dl\n",
       "zN9gYUezJmIVBAgfmdHnLhhYtGcg0QAsalNRbE0fvYgXaE/78aDl/HDDwHkk+0aM04qE1ePTofNz\n",
       "v/iHj7SnzHUDi/YMJBqARW0qijWo13Zj39vrM+7lfuT5p5G4yb0oY53jq+MnEHV6rupZWDCQaAAW\n",
       "takopj67n/v2EjJ6jo8YJKBYXf6isAaRnBBdNL+INgwkGoBFbSqKbaSeJkN9xrjPB//Xkdi8D+lm\n",
       "yzJW3ucxSCkZfDkrehYWDCQagEVtKorN0oeUwCP4PEgtIw4HQYGiDGujz3VCgi9fz8KCgUzDl2yg\n",
       "WNS83++YYgjcGJ2e5GCmM7ZiQulCBjpeFLD8PhNGf3K8HRMnSWYGMg3Aim2g2O9C+9OOKYbANWlz\n",
       "KMCLHfJNk+LCquEeYDkDxll90zPfMjPAHxnbQLHvhUPRSMcUQ+AG6EvqhrdW9K8bUHJIqMmKAhaZ\n",
       "Nm61jkGsXGypLCwYyDQAK7aBYoUAKbvQMcUQOD/hoAbPG/a+e69bOBWS9XcamJwDBj0V3LUZGcg0\n",
       "ACu2gWLl4C0UOuf5EbikYgV/4lYVI83Lt6KYkUEbxciOTZse6OBYmYRLKuYMSNPi7Cf+LY6L16wU\n",
       "G/KrWggy22qjmMLARAOwYhsq9hohX267WmSvWALOAa7DS4l5ShzQbyVD3kGVamlTlBalog6vN5sp\n",
       "IRCIYo4ScEgMDDQwxX5CXBZA5+WNq95dn9ofDSo56fYpD/Kd8hKKiXAxV5i6DfMZYEn0Qt0Vkpu5\n",
       "g5yglcsik2Mo6gjTwFnBFSkQZLCSUEyZQJYSflBHA7BiGyqWq2X5Ksw/+Uxjw+hkl5d9vJZQ7FQF\n",
       "8p2qJNuYBKdTjPQLssyGRwSqbAvTVrEuYdVCgaC1C5rpPTtoM1UVkxgYaSQV66kInno3uzpWD+Ph\n",
       "7/6YqIrNtSDfXAvplRKcVrGGEIDuCug9UCMNcnOKuStaCIs2JjEw0kgqRibCExv7jn8ybFjLG8I2\n",
       "lb2rkonVmJkRFIvyrF+AfNGVeOQkniVFcNnjVUfv+QlZy7uzE1DLBgPTnLtO68cQz08ye7QQ7T2/\n",
       "xMBEA/Nj5NMvBPk/mg9j3MzmTCjR1vy2z8STroN1rliU5+lIpjBffCUeOYkVC+HIFnIma1CsKO4q\n",
       "hVQDjDMHh7ybGCvJdF0LYaFYMbGvpaOBKPZs8B5LM1HFc63yRHyM5NUo1+O02pFiUZ6e/TWaL74S\n",
       "j5zEikVwi+TklEGxcTHGPUrIH5bqZPtC/mbiMWmLW4FoH4/JDIw0kvEY6a2HJ0cyYfvvrgd1jZzf\n",
       "ydHR0QVSfZQ8yRSL8xRDoaJ88dWkunYRw5FXWLg0AIMRj8e2S3HQ3uO131bcq6/pI1hWdIDHYxU9\n",
       "BKbYgNwHtyfDMQ0NRLHItXq5d4L6r4nuhMdIvhlJ8LcWeZQpRvPk/+PRfNGVh632BHfHa+pCAl+U\n",
       "KCDz4PLIL115ncK0kEDIzw0QfKGCKyYvZxR0M/EkDcCKLVOs2xt/tbaPdNXmyL7oGEkuGgFKpNjH\n",
       "21iYJxykztbCfPGVeOSEKxbcHXS0qz1kFJuVVL4Ru4CuVYvVHpIbMUCQfi8xE5dWe1AGGhqA1e9J\n",
       "ihXf/PPewKvnD1eCv+ExEvcrwd0/nV33tUWmWJQnEoqE+eIr8cgJV8w9837pbhbo0I7L9r9Km3nk\n",
       "zkXxen+vdF4h3kxs4B3hTWYhAaF0QbmkloGGxoBklTXYBeHvvtFR/ozcLa1a0/ecgdHnbd6T30W8\n",
       "PLY5dE3BKvPQoowsvJzXs7BgINM4L1lZsWKN/1WUvxXF5mm3LX+QGNh7EHUayOoqFGVYQmjxXjK7\n",
       "u6JnYcFAogFYLrbOX9YufHPFvhWMoaOefNVGsWk6zyzSHZwGe6gzO6PPLiHfkH90+Xj6xauG7BrY\n",
       "NgxQ1tTa7oy4t9LGhulSlHNZGdgPnvORE0rzyCa3c1nGYqGF+3cfGVrLy3oWFgwkGoBFbSp7SV1w\n",
       "uz8eRy8fitKmAfwzplmsDv0yVjOGeP4e38e2SEqXDCzaM5BoABa16ZxUkY9izQqnHrCTT02Uvydi\n",
       "lcRzFy1kV2PJwKI9A4kGYFGbimJlYDXfskFB3zoULV+zgVjTZ2BhmVYULGpTUcwF39ywOYmaR895\n",
       "QVHX5igtGa8aWNglRgOwqE3njOIOmFj0WYBk0MOyrOgOGyIb6wYWdonRACxq01FskEZ42QsWIDk0\n",
       "QGJFB2sWGE+ZWNglRuMp2aajWIMO1O6yBcjwItqzlxUsU3JumFjYJaABWGDTUawAodAhCxDNIfJD\n",
       "KpYh4afgbUomaQAW2HQUK8PAPh/GCCfM7/p5TQ08Aav8ESNEoU/LQijJP5p2TuppABbYdBRzYNwZ\n",
       "rhLDZ29x99MEAcNVEcv43RpptPQseMn4o+lwDP767XoagAU2pW/ffgNRZOhOG0aMrAajtE3Acs2f\n",
       "UgzqWQgl44+mo4b2Fz2NQcWmpNgw7Yjhfg3f8IENLDRrooUsCxnKI9+HiMvZu87TZUWghZLxR9Ma\n",
       "xSTGImZKimWggawl8WbN0XDdo0U3sKR0RAe+VsDq/dBf95RCiAPkCW9cVazUp2chlIw/mtYodkTB\n",
       "YphpfVkP/rYreHVswwc2sCT/of1OoavCsbrvJjCiHiOJr70bk3oWQsn4o2lcMUYDsBhmWooJ/6uC\n",
       "b/jABpaYehe14MK/zGgcYyHIQ2SDmvOsgYVQcjd5K2htu4LWllSM0TirYqalWBZiocfizZq4V9LN\n",
       "KTG9rQ/MH+NYc8U+L+5bzio58KQSRew0sOAl6UfTeBsDGoDFMdNSjHwJJh8VvuHDNqeE3rDbMG+p\n",
       "MKwz+T7w33vyV96R8z1bN7AQSsYfTaOKMRqAxTE7rJh+ge4J+khnC9/w4ZtTPPY0rAc5WxjWV8l/\n",
       "oQq/fnedUuYlPYRUMv5oOlTsB81HNDReUmyn/9ORM6X9T0cu8HzOiPAF04/PqVg4CUOAjJQcMdEA\n",
       "LIb5zNRUjfyfp5mbLvE/TPrMDX4yajgAAAAASUVORK5CYII=\n",
       "\" style=\"display:inline;vertical-align:middle;\" /></a></dd>"
      ],
      "text/plain": [
       "<IPython.core.display.HTML object>"
      ]
     },
     "metadata": {},
     "output_type": "display_data"
    }
   ],
   "source": [
    "import proveit\n",
    "%theory"
   ]
  },
  {
   "cell_type": "code",
   "execution_count": null,
   "metadata": {},
   "outputs": [],
   "source": []
  }
 ],
 "metadata": {
  "kernelspec": {
   "display_name": "Python 3",
   "language": "python",
   "name": "python3"
  },
  "language_info": {
   "codemirror_mode": {
    "name": "ipython",
    "version": 3
   },
   "file_extension": ".py",
   "mimetype": "text/x-python",
   "name": "python",
   "nbconvert_exporter": "python",
   "pygments_lexer": "ipython3",
   "version": "3.7.3"
  }
 },
 "nbformat": 4,
 "nbformat_minor": 1
}
