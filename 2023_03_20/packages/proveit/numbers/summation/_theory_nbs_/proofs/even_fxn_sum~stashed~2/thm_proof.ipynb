{
 "cells": [
  {
   "cell_type": "markdown",
   "metadata": {},
   "source": [
    "Proof of <a class=\"ProveItLink\" href=\"../../../../../_theory_nbs_/theory.ipynb\">proveit</a>.<a class=\"ProveItLink\" href=\"../../../../_theory_nbs_/theory.ipynb\">numbers</a>.<a class=\"ProveItLink\" href=\"../../theory.ipynb\">summation</a>.<a class=\"ProveItLink\" href=\"../../theorems.ipynb#even_fxn_sum\">even_fxn_sum</a> theorem\n",
    "========"
   ]
  },
  {
   "cell_type": "code",
   "execution_count": 1,
   "metadata": {},
   "outputs": [],
   "source": [
    "import proveit\n",
    "theory = proveit.Theory() # the theorem's theory"
   ]
  },
  {
   "cell_type": "code",
   "execution_count": 2,
   "metadata": {},
   "outputs": [
    {
     "data": {
      "text/html": [
       "Under these <a href=\"presumptions.txt\">presumptions</a>, we begin our proof of<br><strong id=\"even_fxn_sum\">even_fxn_sum:</strong> <a class=\"ProveItLink\" href=\"../../../__pv_it/theorems/32a58022b9531ecd66501132d2fcf890d4aaab720/expr.ipynb\"><img src=\"data:image/png;base64,iVBORw0KGgoAAAANSUhEUgAAAa4AAAA/BAMAAABKljH7AAAAMFBMVEX///8AAAAAAAAAAAAAAAAA\n",
       "AAAAAAAAAAAAAAAAAAAAAAAAAAAAAAAAAAAAAAAAAAAv3aB7AAAAD3RSTlMAq1RmmUTNIjK7EInv\n",
       "3XZ/CtNrAAAACXBIWXMAAA7EAAAOxAGVKw4bAAAIu0lEQVRo3qWba2wUVRTHz+7Ovma3W4xffBAp\n",
       "0agfjN2gQiCErsFnIpSo/aBGu2iCgcSwmJhIgnaNxmgkbpXwoWLsflA/KKYVFaPGsK6vBoViYsIj\n",
       "1i5KJAqU1gItIF3nPffcuXPnzt6TNKd7Z++v85+599xzz0wBvNbbbB4AMVtNeSFTN3AOKg0Ia+9X\n",
       "MTfRbP7L+l5vT09ZjJgrYg8v94t0+5tz7K/QsiDXj7mpnh62LmFibwl7iAyLdEv7fys+E14X7PBw\n",
       "61K61G+xB8gK3Wi17ntoZ74FXTs7aK6cLqWIPUBl4iqRjjdV/Y7chT9+uOJzAVx0L82V01UpYw9w\n",
       "qnpMpGNbwedAahbf2IMpoXH5K82V07WW8gDbYLFIx6jf2Sbm4QFRSNVEeJ0liiuly6YQZzkCtwt1\n",
       "XR9wgvDqgGal7JrcPBFcop/iSulq68des0moC3Xt9Ikvh/HHoVJ6WVXkCs9SXCldlQ7sNTsSE1rA\n",
       "IMueYClq3cmWKg+I6ILvKK6UrgWU1+ylCcFIOslsjlDN8ZU3fyLE66a4MrrUM9iHsfg0s3moAK1Z\n",
       "bx5zZXTFZrEPZT8wW7vKLerKFjFXRld6EvtQ1l1itQ62KAuUGcyV0dXej30o62TmS+db1RWdxlwZ\n",
       "Xb3D2IeyPta6FL/Yqq7kFObK6Opeg324CcHKI5SzreqCnzFXRtfGKuk3Nl2b8+/04cdmYpy+wEob\n",
       "7EZBGMEbtE7G4srouoR8Z9OMZeozR0f/8+9UgFXmXpC182u3t+mCMIJ32soNLK6EruR55CNu7SA2\n",
       "3uHb6yz0GaccZS16fXYEEoQRvE5r5bO4ErrsM7P9+JQ7T/wj5DLrPFKs0NfpLMtiMIJXsb5lcSV0\n",
       "5eawrzTd0H03vrOWN5eWr80RdomBPO3UbPxhPrwh6wZbXAldyr/Y55rudiWGvvmH5R8zLugR80OT\n",
       "FWGdIecP8+G128lB09JlxPtraV0RY4Rxaw3pWexh0HMLlK/0KBW117eczttsBa5xRp4+6KZRg6z7\n",
       "yeG12aHU5NbhTt09SetS9DUpUeLu5Wawh51NOmv9eKt+A953Pm/QxlAhaVI3MuBEmxfG5zlnYTLq\n",
       "8II+YPtpXSn9Nm7mr6wXsIe4pxpZf0i/eCudz7dqzFdeMi/wIGM1H3XvYZxV2uTw0vaSbnLrkNCa\n",
       "Mx2e+aWXTnfx08NJ7AH2/IfHVtxU7GYW2SqMNq2JtYARvsk5R8MCeBH7MpjcOsS0QZrwxo1btJ9i\n",
       "SF2JJu6RMWJU1G1MEBM2SBcNC+B5dMG+sbGfvLqyY2O/DYfUpY6ivDU2/xd9jigaRp246jXt7meI\n",
       "ZLc7z9dFwYJ4yjTiarruAXjLq0spQ5pfWRiaxJ5If2zlDfuiKnC0oeU7saJH16ox3X4xpaDYT8EC\n",
       "eF5dmyCpy1bvyJO6tLZNTifnacL8Hfd+6uiqYa/Dm3tRWmScWJs2MJZAV/VybQgRSfyehrewgFJB\n",
       "ChbAy8whrqYrXc3oISR9Wxmty2/BZ+7g1Ufk61duh4Pw5T8cXTCOku9Oc3Jr9LJZn05NhtBFwQJ4\n",
       "Xl3RhhE22qs437iZCBv60wRFG6+QT92Q5+nqQ8/NvnbOA2C/EdDC3C8KFsDz6oLiCj3KzN+FdSVi\n",
       "2hfUT07oy5z+NOFPc3AonLgBcBIttm+APW70xz8faH/kAHd+UbnVSXrl5vG88wt2GY/5llL5YeZ6\n",
       "7QZ+VKro8FPVY6o5xZbcyNMVx5Wp/Wae1QB1e6QG2lgmi6ZB8ZCGBfAYurYY0fIOSlfyG6Nxq/77\n",
       "NlgcN76uNoZ5uipoTUqaKYAWjKOz79biHWaIFl2/KFgQz7t+QaRsnjuVz1+h/XwPR/VfR+D22PqB\n",
       "gTchk6mq9jzMTmKvqd6PN2jmgdQBUFc3rlukD6E1fF2j5GTb79nw8XgMXaaNMPYp6gxs04ax/jQh\n",
       "ZVya+1+EjK3LzqCdTBoSOFVVrFXzkNPyHDt3dyMgsWImPHkvl+fuKspIl3qBtf/6MXV2mTpsPE0w\n",
       "1u7hAjzqu0+BAXQaCxMdTnZq2UpSQ4m7T6Fggby2GcR1dJHPz1xdDy46kU/VjacJm7W/Gbvsmi/W\n",
       "0kUxpzimHHGHjPZz2N5PpG0FaNswyqnceWGBPGc2jOL9cqzgu182ueoXA9txHWAae1ju3gF98K+w\n",
       "9+9qP31CurHKTKfdGEnBAnntNcS1daUXln11PczOD2MXsSfichQXPZ+3/HEyuLH2w13DjCAf9VRQ\n",
       "WTx7EU/i+kZmwr++4VMNiE9h3+cEOLW7EFgdiU+xCitOfh4ORnS1uBJ1G/Uc8m5cfnpBsxzYO8Yq\n",
       "4w4VPUFeCKbf6gbiytR7x5FPnFtn2Ji2g70kUM1iPTRrsyd/SJgecsqIK/XcoUT6bqKkPh3cOcF6\n",
       "aOY+xQoH08s1mCujqyuPfShrZ70xF5uGVu0S5sro6itgH8oqrCJD8kyrslIXMVdGV/YA9qHsNDMa\n",
       "7GtVV24Wc2V0ZS5gH8reZrbuqbaoK13DXBldyTnsw5g6xR7ajRZ1Dc3DXKn3UtZRPoT5vBuRKLao\n",
       "y35BwuZK6eoqYR/CEuw5GWO+55ZaH8h7iuJK6Roaxj6E9bHXBpX9QsDVgVNimuJK6VJqhM8de95J\n",
       "uM1qD8/2+LTfx2wdCQxhkxRXSpc6R/jjkf7HFf2lwW12tUegp3cINNAVssbh3NGAODnUoLhy74ue\n",
       "JHw+3bCXJKvaw7vTfkteroaukNV4JBew9K+iuXK62hqEb3fukVXt4U0v31dZfkdXyFqc8jF+nEye\n",
       "pblyuuyX3Q2/FUrmVbarPRy7zH8fVSKvkPU2bFnhvw0bmUdz5XTBbscna7uhQFR7+KvXXv8IUCSu\n",
       "kJ3LQraDy1tepbmSutINx69+ZKJKVHu43bZwtorvkFfIGubVpfxhOOLhsnUJ/9+Negh7QXuCc+yj\n",
       "MnGFrHi4mp9eOY8tLa7f/928J/x/N/As5cWuBu8FuGQZwtp7FDfV0/Pw/0w5adMCi/y3AAAAAElF\n",
       "TkSuQmCC\n",
       "\" style=\"display:inline;vertical-align:middle;\" /></a><br>(see <a class=\"ProveItLink\" href=\"../../../__pv_it/theorems/6cd7fafb40697e35469232eece4f9f49e872ac2f0/dependencies.ipynb\">dependencies</a>)<br>"
      ],
      "text/plain": [
       "<IPython.core.display.HTML object>"
      ]
     },
     "metadata": {},
     "output_type": "display_data"
    }
   ],
   "source": [
    "%proving even_fxn_sum"
   ]
  },
  {
   "cell_type": "code",
   "execution_count": null,
   "metadata": {},
   "outputs": [],
   "source": []
  }
 ],
 "metadata": {
  "kernelspec": {
   "display_name": "Python 3",
   "language": "python",
   "name": "python3"
  }
 },
 "nbformat": 4,
 "nbformat_minor": 0
}