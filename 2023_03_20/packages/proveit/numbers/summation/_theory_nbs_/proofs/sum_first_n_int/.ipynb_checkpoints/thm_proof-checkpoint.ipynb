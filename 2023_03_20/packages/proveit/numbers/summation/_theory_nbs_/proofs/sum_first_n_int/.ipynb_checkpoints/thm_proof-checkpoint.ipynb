{
 "cells": [
  {
   "cell_type": "markdown",
   "metadata": {},
   "source": [
    "Proof of <a class=\"ProveItLink\" href=\"../../../../../_theory_nbs_/theory.ipynb\">proveit</a>.<a class=\"ProveItLink\" href=\"../../../../_theory_nbs_/theory.ipynb\">numbers</a>.<a class=\"ProveItLink\" href=\"../../theory.ipynb\">summation</a>.<a class=\"ProveItLink\" href=\"../../theorems.ipynb#sum_first_n_int\">sum_first_n_int</a> theorem\n",
    "========"
   ]
  },
  {
   "cell_type": "code",
   "execution_count": 1,
   "metadata": {},
   "outputs": [],
   "source": [
    "import proveit\n",
    "from proveit import defaults, Function\n",
    "from proveit.logic import Implies, Equals, InSet\n",
    "from proveit.numbers import Add, frac, Mult, subtract, Sum\n",
    "# from proveit.numbers import Natural\n",
    "from proveit.numbers import zero, one, two\n",
    "from proveit import m, n, x, P\n",
    "# from proveit.numbers.summation  import sum_single\n",
    "from proveit.numbers.number_sets.natural_numbers import fold_forall_natural_pos\n",
    "# from proveit.numbers.numerals.decimals import pos_nat1\n",
    "theory = proveit.Theory() # the theorem's theory"
   ]
  },
  {
   "cell_type": "code",
   "execution_count": 2,
   "metadata": {},
   "outputs": [
    {
     "data": {
      "text/html": [
       "Under these <a href=\"presumptions.txt\">presumptions</a>, we begin our proof of<br><strong id=\"sum_first_n_int\">sum_first_n_int:</strong> <a class=\"ProveItLink\" href=\"../../../__pv_it/theorems/79a1a8060c93d7c25c9eb2cdc281ea188455db2a0/expr.ipynb\"><img src=\"data:image/png;base64,iVBORw0KGgoAAAANSUhEUgAAASkAAAA/BAMAAABOTyODAAAAMFBMVEX///+IiIgiIiIQEBB2dnbu\n",
       "7u5ERETMzMzc3NwyMjK6urpmZmaYmJiqqqpUVFQAAAB6qHgnAAAAAXRSTlMAQObYZgAAAAlwSFlz\n",
       "AAAOxAAADsQBlSsOGwAABsFJREFUaN6tWl1sFFUUPu3udH9mul1FiUSla40QJbqIEBAxu8TExN+u\n",
       "YowadSBoJUTsYnzVLgHRaHQ3JhCIhK7Ck4luQQ1iTXYNCQQMtgKmaogtD5oQCZRS/kphvLNz78zc\n",
       "4c7MWZj70JndPXvnu+d85zvn3i4AcuygVzkp/vzFHAQwpA0NmTeV6M00N4OlQaCCqQ1ZVwrGNX7B\n",
       "zeK1QFC1ZBvx7CJ6s6RmXH/Zd0Mfb7JkMJAQPtyAscwCuJt++cAiWMCbtM4LxFmHG+BnT964Rs4b\n",
       "1+gzJTjrsJkVCKrmPrztVnqNjdCbRDI+22EzXMDM5GoUpS6/gAZlmppPDuXlvjxvFMNkYZMr++JU\n",
       "cjbi3coeOIO9U4Tmdx2oWs8jZjoifvttwqbb6MLzaFrRFUYus3e+gaYnnVYPIVKsJHz3v16CKmbw\n",
       "PIQm1inGplEvqyoil2t81NjLdoJIMeDIo1gRuURvVM91VGq+M4UcQU/aUIEhLfFJJCqFMWbAM+ah\n",
       "ku9Mf3qh2mLcP4gtA8yp3d7hESX1F/+sm2oV9O+IL6a/sHiZENXTlAgFHKo2loLnvPVD5PvsW0nJ\n",
       "QkvcEW45BmpBhGo/TcIaDlWFlsz4uKdZ9IpAhcozIGpJxr0AXxGZKeZFqA5T0RnBoaqWaYgm9L+9\n",
       "mjVOc3YPCBJFmoBWvTZJF/WXCwFyahmGdRByR8edczo6RkxUPZSes3GoemnFjNVL37BmrFT6aHrm\n",
       "DGfXLaisraOQKJllcqH+fYDjQl5toyw+i0M1xviVqouWljKTM80VkHZBOSGQ2mo5WwR1SJOSCNUh\n",
       "WpQuo0BFGcmLBuvTFn9krvYNC+QslCXxMls5PfnmkpCGRaj20jcv4WrzJf6pPZqVJT9whUlQnwmx\n",
       "pymmzJHkJ9xvKu1zoOosGLJRL2vncD0743S7MUmTZqW6YjdUU1d/+UuAVw9aVZhkZQqkE4M8qpOZ\n",
       "rWSh99AEIYSpp8BRb3Vkga7SybrH+DxbTtG0+Zaw5rxY2+tEYWvSAH7Ur5u8pZ3pTTedc4nGEyhG\n",
       "Xzb7Zo/SJ67OXOVO5+A9HaV3vxZjAetlGx2NT5O2QYeh+1jh/tF6sB6jdzVh7+1JiLkgwzK88wyn\n",
       "TBX6qmXCF9XzCMDdZVCI32I+ZXDUCjh1isa1B48wbfJXmmjSNafMonyKOImI/txGUUmZcX6vceR7\n",
       "JCpUj0lQ7QJ4vVFUZtUxME62/lHfxcq0adjZoY/7rhVVlYTvU4iKirRtZ61SVJKFStbm2XdAX0c2\n",
       "2VFd59BRteTCZXvgZz0OewhMWwqrtIhLtlqctnUL8iLquPDpq/2sNTKM5XcmdSWzyL7635Xwdzgn\n",
       "53xRFW0y3vz5LldU1zJ0VFD62Vy0PvvRZJ9eO31QTbG1sepgJc+huk5e1VE9tYFo7k+rb6X7xKG/\n",
       "1oThif5Z/WUPtsftO9KBnDqYDJhXsJaw6OVttVBBqkv8UPiV7byvBKh67Lp7HNR8NmhUCeL+96dB\n",
       "W86oSkPQN9UPlXS/fZZV0LQjF7BeGeMY6U+VjV1dqwiq52I8qhBDlXGWY2ffiUX18e43UKjmQ38k\n",
       "kjV8Ff+N1yuzFUiz6tfl01z4lZ2l0Fl2/5i1JhAdhZlDhsYfAJju08nId1kKynVPyLOnRMFzI5Nm\n",
       "+R0fgZtqsJ48NXJ3ARKOrm/CsQPbY8nCQa65QB5ckCYk4bGAjGPz9mjXSlE1Z6nVXnPKQiu35Dbk\n",
       "Ti6RgoRHsM/gDj9YgzBgkK1oslGqcrQvpvDndO5ujY6hZoiznVZlhJeFT05pXB9eGUGj6kn6P87n\n",
       "+OoiKy31Xi92cXN9dGQ0jV/WQBKNyqMcKchqmubcXrUVeV7Mq+gjTdljpyAj9YWdKMk+md+LdtWv\n",
       "XpsXZCYP0D2RMok7j/DfjWfhQ/fWF5kzRZppUe8TgMg4FtU7ADe7J0IWqXoM/RzvnT+SEKTf7e93\n",
       "d0g7kp1hVgg7Pf/10zIbK1YkT9xPdpdj18ZyteiZ+iperrx06ArWcjNLD32Fyh3WDPu5pMgHgUrB\n",
       "8gAGqDQoF9gxIt193Gi3+iyQni+GLlsqTQtp3Oh6zHHIHudg+uNiDS3FjMff6g5buiYrQhUeDQRV\n",
       "J56BjO4qoXvilt8XyF1kvMmjUpOBkL2BPeUUJknEaaHbIS/y1c5AXCXjuyFoZn4g+Vfsz4t4FZ0I\n",
       "hlZlvK35M4ZKAfbGUwVBBBOBqBWcbMT4MUbpEhyLpERs3xPIT1KUhn5/0MJCuAxWwAkWwnW9i80A\n",
       "zg/EVWsbUmJpJr151uVrsVogqLY0Zv4B84kLqpcCASUZXP8fLDcTmntxClgAAAAASUVORK5CYII=\n",
       "\" style=\"display:inline;vertical-align:middle;\" /></a><br>(see <a class=\"ProveItLink\" href=\"../../../__pv_it/theorems/467b80e655e10b534e6dab8e51d5509218ad40280/dependencies.ipynb\">dependencies</a>)<br>"
      ],
      "text/plain": [
       "<IPython.core.display.HTML object>"
      ]
     },
     "metadata": {},
     "output_type": "display_data"
    }
   ],
   "source": [
    "%proving sum_first_n_int"
   ]
  },
  {
   "cell_type": "markdown",
   "metadata": {},
   "source": [
    "### Instantiate the Induction Theorem for an induction proof"
   ]
  },
  {
   "cell_type": "code",
   "execution_count": 3,
   "metadata": {},
   "outputs": [
    {
     "data": {
      "text/html": [
       "<a class=\"ProveItLink\" href=\"../../../__pv_it/theorems/0cd1c2999ec09dc77f62bb644cd5d83d914dd8af0/expr.ipynb\"><img src=\"data:image/png;base64,iVBORw0KGgoAAAANSUhEUgAAAMUAAAA/BAMAAACiHxG8AAAAMFBMVEX///92dnZEREQiIiKqqqpU\n",
       "VFTMzMyYmJgQEBDu7u7c3Ny6uroyMjKIiIhmZmYAAABumYecAAAAAXRSTlMAQObYZgAAAAlwSFlz\n",
       "AAAOxAAADsQBlSsOGwAABJNJREFUWMOtmF9oHEUcx3/3J9nbvdu9exF9sLQWRRGKh2cFEU1CX1Qs\n",
       "CYgUpTUL+ioJpZSCxaQvprboHYJQ/MNeq/gi5QJtaaFIDqUIUsyiLZai9DQgKDS5mrTXXlLXmf07\n",
       "s5nZHZuZh9zuzub3mfn9vr/fzCwAbteB3T5rgKymt3kdW6Qx5pq8nodkIdQZ/+Ld/b916K5jw5IY\n",
       "hu8q9Z0ZOEJ35d+XxJgwvV/t8zbcifU9L4lxIbgYsIvTsb7RpogF7kta4I9+8KRgGh2Tfqkkoiyd\n",
       "G7Wi7f3mQjMtyL0VY+RvCTBG2I/fRNn1ix+OcBRnQL8//uKHArpkppf6xjxilLwsHk80sCSgy0nq\n",
       "9mxwcQ3ZV9xkUP9Nzs/JVEaBvt1JMsAVv5Ls8UI7lfFyEuN7fJXtJjuiz3j4zWvHf7LDu9+Rfi5/\n",
       "smkbk3EfvionqzPfYzysPGKrERsNNZPdA1aTxTjoOrySyNBuMlQ/+yRokYufAjiPEqBlshgvuMKZ\n",
       "xX/nnajdpQweZshSXYU8rjrqGr49CtCwZmEUm1yo1Q7XatsjxoRr3VXwqOONQv36cv02ZfAJxjqV\n",
       "78JAOyxnR/H/A+xmxuMcvlr2SpVTDbqUIao0XGMUCgQoTzYIX2FAT2UxdmB//+M9GIr8blAqGO0w\n",
       "BF1BngnjiAV1CDkvw2LsxdP2U3DCiZLtb6ryM3SHwvurElY2JE+kAL29P8bY3PSEDbofYd2JxKiQ\n",
       "9qzqesYpgI/3RbUPKa0K6q5hmvFq/QIa9rPYMStBbJdp7Tzm2y530/I8Z7Lz3JU+tpINdH7MoR1f\n",
       "8m9zd9IYSoddE8N6WQpcVHRWqFfL/tRL/dSC9Ti/64QrkXCYm29TmTDn32VXUxkfpeAjd5ccqsQ+\n",
       "EOTCSipDs7mrcJNmqPUb9E5i5C9BRlojZBPUE4/Yy7/k7u0Mr/AaNbeN3QvDihiGQ+zY8v3Tgz8Q\n",
       "jI00i9hRDREV15jxJ5W5u37uzv9pXYrRIlI69+OfXMZG5nGF2O9Zw3MmydhIPIiYF8ndw1TDGrYl\n",
       "xYNgTJArxW6wzIp0hvoB+fxh0K83JOVHoRsvgvE1T5ChLX5r8gpzWK+2sl/I3hJjnIAMr7KFJoxn\n",
       "ovyjBtEXY7zO3MJ4pgP4gUi4+9jOTG71Boxzzjp6b51w89RhqjwtxngFnQA4AVH8YtsKhasuUcFv\n",
       "VYX1M8Q7Td2MCffLcYcazpxwag/yqo63nYTS2kW31eqOQ28epmxRRm4seYJLRKGkE3vJFGX8wT+M\n",
       "pZyO50URCt+pUymHsWVRxghovOG2OsmBvCEa8QrovE9RhWRt6oKlBL5YXFzg9WWS94HZadHkcJw1\n",
       "br1MXkute1r54u2iK4rnoow5SEnClMGYagYHLq+9/TPZ+52UT0sWXlI1orruID3Zk8IwcFSVLScr\n",
       "LEamK4Wh4qAPXH3xiLEVtUdphmVLYcAVnCWXwGTNY0HSt74cGmtr0WTFQ1uVxCiiFXtvsdpk+Gpg\n",
       "TBIDHgTYM1hlxfyAtI/hWRudqXYFzjo+vyl01XuyEKA+zekoTUpjwFec559Ksf4fg1uDRe07+MwA\n",
       "AAAASUVORK5CYII=\n",
       "\" style=\"display:inline;vertical-align:middle;\" /></a>"
      ],
      "text/plain": [
       "(Sum_{k = 1}^{n} k) = ((n * (n + 1)) / 2)"
      ]
     },
     "metadata": {},
     "output_type": "display_data"
    }
   ],
   "source": [
    "sum_first_n_int.instance_expr"
   ]
  },
  {
   "cell_type": "code",
   "execution_count": 4,
   "metadata": {},
   "outputs": [
    {
     "data": {
      "text/html": [
       "<span style=\"font-size:20px;\"> <a class=\"ProveItLink\" href=\"../../../../number_sets/natural_numbers/_theory_nbs_/proofs/fold_forall_natural_pos/thm_proof.ipynb\" style=\"text-decoration: none\">&nbsp;&#x22A2;&nbsp;&nbsp;</a><a class=\"ProveItLink\" href=\"../../../../number_sets/natural_numbers/__pv_it/theorems/e6f44021025793e42989a647168c70ce5480d4c80/expr.ipynb\"><img src=\"data:image/png;base64,iVBORw0KGgoAAAANSUhEUgAAAhEAAAAaBAMAAAD76BPLAAAAMFBMVEX///+IiIgiIiIQEBB2dnbu\n",
       "7u5ERETMzMzc3NwyMjK6urpmZmaYmJiqqqpUVFQAAAB6qHgnAAAAAXRSTlMAQObYZgAAAAlwSFlz\n",
       "AAAOxAAADsQBlSsOGwAABqBJREFUWMPNWX1sFEUUf3tf3d7etVeJjUagzRE10VSrgWgM6krAGAVc\n",
       "iSGamFCinJgYeiDpf8CqSMI/7UZD0sQGTpsQ4xcNATSUkFZMSYHEE/SPqrGHERTRpiS0CBJx3szO\n",
       "7Ozt3LanhfiSm72Pmd+895v33ryZA1DJMdFMKT9lbbhxomVbAIwZh62ImO7jzdTiwI2VEwB620yD\n",
       "VkR8XjSesJXXrzMT+pS/ESZgUOkt+Womsj1MHDlYodurovEmKtJHMnN9mZgT8hubG5mIWMFfY4Wq\n",
       "oqwoYZKhiFjCL37wk9/Km8Zr686+S6f9hrw2kHezg0woEKoM/vbJsVf207A0K/URcyMTWknFRB1F\n",
       "GAiZyG8OldmMCUQ8iJ+7/fnD5A1cBkgsIM+4A/HzuwhIrbscsaJgQoFQpdQTx3rRCkakEGluZCI+\n",
       "oWLCQK+oDc3fkjmuICZhAhE3BxNGfYE3NRcIyxeQF6S6iYxKuXl0hSOY2Az/NYltIT46in56KBAR\n",
       "fInF3MgE9KiYqEFP2RY2j98cKoiJgdXjklL0K2bxRrtEXhfJmyjXBha4XvWbYEKBUKU0kWTXhD7Y\n",
       "GtjFMhITdG7KxAGvR8ISeWIHeSwLDUOfOUwWMCYIYorQU+sfcJNoEuPkRYbDiNDGXY7mDsGEAqFK\n",
       "accXYSPthDPRw5mYJa1zm2DixFQJ3G8Okx7GBCLen83O9w84J5r6Nua6sE9os5xpaPKAdFQIVcok\n",
       "c1yam947s7Uxs/HxgoqJ5ZyJPdLm8aVgIprNzjND85FkTnLuc4+tZpjIBCJ+BrDGPyAnGjJsa4sI\n",
       "TKrNMEs0Ni+8HBUCj93pEUFY0BdheNUS7zLXZeJXC+lWFRPDnIkttHbYm0W5t48zYeRFrKi1kM2J\n",
       "JU7DKptiIhOI2Ak6STXJ9n2Hf3UH7BRN08+LWc3dIrQ5RT+TLHm7YIIhhBSxvmI2LbI7t1L7e/FS\n",
       "6gORIiQLd4B+AVLjKiZOcSa65OJhpOgyQbToDC2lZXM+jLRBV55iIhOImLBoUfIFwCJ3wN2iaecY\n",
       "DwltttDPvwA0CCZcBEne2FdIPeLpkGCP3X89NWZLxxlDCl8qUbKdxa9AegIMjHeDeDuJvJJvbsrE\n",
       "Knm++DsFt7JaA0+GaOE3xyIYoxbFxKGImM7QdHeezBbwictBJnrB3Y9XCCZcBO7rc3OFdGkJ7A8w\n",
       "kWqGWHPcc5+k6ZUTnAlIjyMNUVPlE73CJ+TKevsTvMb82kuYCi3KzBllubDX9QlEdGjR/TDAPeVM\n",
       "1FzkQ73oOMnrKqMoqm1HLtv7cRMYNMCM9e/tPygzUdcH2rghLecON3x5miPRAXUOREzYY1sKJk6K\n",
       "PGF7eSLbLart2lQmRIsycwgNV+MUk+YJRFyGCukT0MkPn2d5o13hQ1cLbYaoyjjCEUwgQurQ+rna\n",
       "UB40LFrSmz7ImAGfiBYhUop4Xfnm38TJSRBDiDcQTz2nDyiYGFLtHbu9c0dshHx//GhDn1KLMnPm\n",
       "kyiMUUy+d8Cb6K+p+xq+5f1m8aaWBzDbO5+2+X5KfeBlwQQivNA7EC2R8n0lNSC/5LsgE12Wfh62\n",
       "e13he/b9LpHlS9RNvwJ4KVYWHWJuysQR6ZDkeEzoJCvEjy2EB5Va+M3RL4HmHKWYOJQi1mGI1EnZ\n",
       "n/JDGqN9kiuygbzGHt1JmL4LP57BZr1gAhHeuhXq86Qg+JjpYGhtASaONMyxcAl5V3c5D1xbzYO7\n",
       "GeB9gNsAPrrFz4Q3N2XisFQt5aWzKEnk+jMOTCi18JuTbIb470WKiUM9xKh0hsPExRohEZ6i9OZK\n",
       "p/LT8BoG+nAulyum83HT8XZyl4kxbH70ukJH+YZ3Z8UaU8xdfu7Qy0/ldZlkq1ILlTkU0z13uNJl\n",
       "K8+i8kGF/TZQiYkHoBG6amAjWw34RLLBZWIhNh1eVx4dnhyveAITc1c+i/J1zBt9eZUWKnMopnsW\n",
       "5VcES6R9sJU3nqx1n9sq3dTo42SphwxW5aUKvjsExoT+p5tseVdekkgdQ8/U2/j9RKoUwkQXRDbl\n",
       "VVqozKGYZGiqQr8/RCNkZTlEORPJEnRD582gYyLd0O1eAclMNF60mLG8axAsHnq4XyvurOwQJj4F\n",
       "balSC5U5FBPvrOxp32PqzM00e8rbu2dzufKLtITs72aY3a+HnantsHvMmP8eU6GFwhyKqc0rVLzH\n",
       "pJdoaXPG7rZlJuBzL+7/zf8DN/Zuu5r/O96exv8dPiZilm+Wav/vIGnXsGb8/44ZR5zW3b0VePO/\n",
       "kH8APREAlHlLlYUAAAAASUVORK5CYII=\n",
       "\" style=\"display:inline;vertical-align:middle;\" /></a></span>"
      ],
      "text/plain": [
       "|- forall_{P} ((P(1) and [forall_{m in NaturalPos | P(m)} P(m + 1)]) => [forall_{n in NaturalPos} P(n)])"
      ]
     },
     "metadata": {},
     "output_type": "display_data"
    }
   ],
   "source": [
    "fold_forall_natural_pos"
   ]
  },
  {
   "cell_type": "code",
   "execution_count": 5,
   "metadata": {},
   "outputs": [
    {
     "data": {
      "text/html": [
       "<strong id=\"induction_inst\">induction_inst:</strong> <span style=\"font-size:20px;\"> <a class=\"ProveItLink\" href=\"../../../__pv_it/_proof_sum_first_n_int/64e7b027fdc6d0273e65ef7d3b949557dbaa74f10/proof.ipynb\" style=\"text-decoration: none\">&nbsp;&#x22A2;&nbsp;&nbsp;</a><a class=\"ProveItLink\" href=\"../../../__pv_it/_proof_sum_first_n_int/48dbd368405817259e215957ba3e40169f9021580/expr.ipynb\"><img src=\"data:image/png;base64,iVBORw0KGgoAAAANSUhEUgAAA90AAAA/BAMAAAAPhLahAAAAMFBMVEX///92dnZEREQiIiKqqqpU\n",
       "VFTMzMyYmJgQEBDu7u7c3Ny6uroyMjKIiIhmZmYAAABumYecAAAAAXRSTlMAQObYZgAAAAlwSFlz\n",
       "AAAOxAAADsQBlSsOGwAAEOZJREFUeNrNnQtsHMUZx7973+09fEXQF9AcFqWQCMXFgECU+KIIkraJ\n",
       "bLWiFEqapVCpEkJxgVIkaOKUV3j6SoqIKNRHgJZSqF2gJZVLfUoUURDCBwVBKZArqaAFYjsvO3bi\n",
       "bGd2HjuzN7u3vr2cbyRnzrn1ft//++08vtnZOwBcdoOyjBhGB8xryZTlWlEeKjTDEWYlZRj7ARIv\n",
       "OR6YNIx9Xk+6G9zVNUYad3bUMPLmi3TJgffwsD6/vN+11VzDTfxlOtcMR5iV6PAw4g2vO/M+NPxn\n",
       "r+csOahrsDTm7FXDI4T3SNGBN8xzSc7ItVkq6Ofqf1i/n9QUVywrt6CfYNbR5QnPp2Rhl9Q5GPVT\n",
       "LGfjJu/E7dCivDf3yrVZzIt+mXBQvimu5EXeiVv88+Zhl9Q5GPXVod8i886UWpX3p1a97vr3et46\n",
       "RcU7fEczXLGsmNFbUfDNm4edqUQSK05GfRXuLOG9Vm9R3tFJXiduvB1uhTdVvGFJU5xZIvEOVXzz\n",
       "ZmFnKrHEO52M+ircWcJ7B7Qo71QPr7WHSzAJ/1by7i42wxluxeQdnvHNe4dNJZY47WTUX980I/J2\n",
       "dH3eeTO1uI6Uo31wJmTa23/e/hWZd8phGqu5nNr2nltYizYrZDTc5pc3DztnGikn++xXvKcZerGW\n",
       "ym0i71CuVXmfIdRxPZ3TJnRV+w5Pqv/8DbeZv5Typt3mRS/YrBDe3bpP3jzsZ/DZlJ6p2M7qJA28\n",
       "ec9UMmdN3mvzLco7ul+oB9HlH8tVVLzhXnUDcsyZrkDzl7fE/1jq1D7GtumQ7pWtEN7xik/eLOxM\n",
       "JZYYutJ+Fd3r4UxLa6pkzpq810CL8o5MCPWfIFXUVhco70dGTxQOHFevTjmlJ98fRadJCRPshFOC\n",
       "sgUChwBekq0Q3pkJn7zX2FRiienP2Y8a95BulWqqZM5i3okjrcp7oCLXYv4t+6lMYD+qQsEO24mi\n",
       "EBNOmqn6++dJdSnARpQnyVYI7+SUP9487AMV1zWZ3tp5Xa/KdUklcxbzjk22Ku/1ulzTUh2fuPIK\n",
       "76vq4MtCJEBIbeNVf7uKVP0FWFOEeEGyQlcv7vbHm4d9ve52WLxU80xxpeuyyrst3sGJVuW92FY7\n",
       "X+GqDCNccuf9ovXGSife30bdrg6pXskK5T1e9MWbh33x3KXJZaUb7xclZzHvtlyr8t5rq51TG1Xf\n",
       "mkHTtRcueeT18uXHDKl4H2cditL65JsPnnh69DOL7EGDLoBAj2SF8u7u9cWbh33v3KWZsqq8V/I+\n",
       "TnIW8x7Jtijv5B65dkmmD6gWa5DE7JfLiamhcJ+Kt3WHDTeCQHA1DNwIK+xBi86irrckWaG8B3t8\n",
       "8WZhr6FOKQ3LmqnyvqjifZPkLOY9PtSivDOH5NqlbFTlt3lIDp0B2izEJlS8V1iHngkwjNLhwTKs\n",
       "t/MOoUCx62WjxDve54s3C3stdQpppqzJKu91Fe8VkrOY92ihRXmnpqU6ZQjFtkFgsUJDfAgSiUMQ\n",
       "niY3JjKdnefc3NnZwyOx1pwcm033LoDCwBB0F8iti12dnRs7O88yz/IBbuMTkhXKOzjtizcLO1E3\n",
       "KmibrSWNykIvDsvey65bKrmzmLfLboz55d3WIdVhg17SD77wXcPWtnbmlbwhPIFhx7Oq9r3VbL4V\n",
       "GjHoNu9TbbC17xi+PtgqJ7VCeaf3++K9T1LZbZDWmfj9m/0Ha0pDsiLmhbpE8P4y5fi9VXIW8db2\n",
       "tirvwZxcr7GuzGttse6uKPtzHJVQFkaKBQXvZVJ/jsP1VUjOJOSgLQWtCOEOyQrlHT7ihzcPO1EX\n",
       "sTaOxbrytaQhWW29BZv3UwkV72WSs4h3+Eir8mZKWR0yrBnSB7a1SUWOEUR0UctGPd1lWq+C9zXW\n",
       "oXhquwFQLxkp/VYKWjQL6QLEcpIVyju61w9vHnaqrsual2VytaQhWd2FrOx9eDqg4n2N5CzinZ5t\n",
       "Vd47y3IdNazcJCMnvwOKbZU4i0JzGDQDOylg688XFEkawwpKWtD8B03rgtmsFLRHx8Z2kcxOsEJ5\n",
       "J/b54c3DTtWtNaz07uNa0pCsd2O67H26dL2Nt6iSOot4Z/a3Ku/xvFzDTsOiLCe/bYogR1GgngV4\n",
       "H+Bv78i8L+rfgf78POvQKxCmDkhXILlbTmq6DANNiUJDkhW2O8jww5uHnapLG1aCFaslDcm6/zqb\n",
       "94mL8zJvWaXBeAfNWRCaveLSU8U7Ygaqdz54L9blGoL23dGJU+l/hFRz5bMd19fMAVQ4V0h3WF+j\n",
       "rRwkK4x3V8GJtxnG5e7La5N2lfvmIE2eqOjOrnOVxFnEOzVTFY1A3uKdwdd2qjgfvEeLcg2Jfvtc\n",
       "I0WH9pRq1XFdFQrxshXvMsSq5kTPi7+wGy/Uyi02/6p5f4JfvOyebM7YzrLZqHiXJhWb95LrXCUx\n",
       "g3jHp6t4bypZvKP4Wt0yL/15f0Gu8fMPtuSkjf4eVC1aBF2vUknTQtepNJsxUSuM9+IhJ94/FP9K\n",
       "XXjYmbqksd+7NLks9KCSOIt48/HB4v3W94TxG9/8PXZeeBtV42TAsO3XHKHBiqgmIYmc5yDd59r1\n",
       "suuGWmG81wgXX7Ag8sZ3nQN598WFCbu6BQcLnqXJ5T4PKomzat4dPxB4/xT9lFqEN4welg/5PLgF\n",
       "5Wm3+bHU+LWyy6HvQG3e0ZzIO4Z60RTMkXfKKHmXBt68t1S68A5n2XiNecc7O8/JtgrvzYbsyg5Y\n",
       "+j9zmJpqhkPUCuM9Lk4HfizNz2/u7NwwV96J/j1HURpxFvEeqOKdKoYrFu+MLnRWzSwJQ66lNVX6\n",
       "1lT4G7cLQVFnGUeZ9y7TZldF5P0hwGnu52JhF9SxNVWlNGrmLP+8++y80WzjXIu31gOPezul6/RI\n",
       "vTe46sm6tHVpJQ7KNXFbGuTCM89FzWlwYLYZVyC1wngvkLrRlXmB9+M4bNVF6JxY2AV1GXF20mhp\n",
       "xFkl7+8AvCest5wGx3tbMXKdoCRVY0zU6hHxEph2mrhZSck7JN0Zy9yuSySkDtNoZJmoyTvx9yGL\n",
       "d7AQECfv2pLj4YYeaSeWgjd0zR4NaRM1eOPtjpsE3qs8TteWur/9lmrmK+hDP1eeK2aPSt6atCoR\n",
       "evVDx6A0u30/9UWhfYfL1nTt6m8tggsChUyhJu/BjqMnjfOumq/hRCKTt3inYmVPw22Nq0LY/7tu\n",
       "+brnPotfPGK9xrzxMBJxna9BWnrAaiA/okNrjN+dL0vrqaWf8T/C3JaXK7gDq7jN1wDeLjpLa9j4\n",
       "XcU7hJtRyeIdWOkwXWOjUYWt5KT2tre3bzemLaDqVaBVufjQUjzeL+evOe+gO+8Rae1wfWEgX26N\n",
       "+fkz0vwcjn0JKf7o6vdpv3bhN58OwJfGlowNufBOTh5Fac68zSvzFIu3dqt96mUbjUjqGUfDsZlQ\n",
       "PHwPh8hQn4//tSYjQf0h+A9e2r2OvQ6M7Rr7xOSdcuUdlZPRy2BAz3pMUhtQXPJvrSTzfgLF54Gt\n",
       "vfEiWfS5MPDLP9Zs39JzPo2WxvPvODPMVpcvMQcdizeev4HbaER4412x3eZJn6IQrYJ3YAj7f0No\n",
       "rO/oJVbYa0X77rfVOP+Wh5aTIb270BK8g7rMO4J+/9270FYgUb0QKq/LvHnYubrEPUdTGuftdv+l\n",
       "+n6oajQivPGNVrJZOlngQOnFb2qz9v/eD/+C1XisilivMe+rN+ThcmG6WpBrVF51WvKcrC8K5vNh\n",
       "ngu1wtfPdVW6KdwPXQ1bIbatvf1kxPsXKZk3DztXl6r4k/aHT09xeZc4y++H1uLNPl1BNRoR3mbz\n",
       "3W4DSvvz3NNZaf8vf2NImp+DHJKq+6EQzDk4Gpqpjzd5PsxrCcn3x7qUCw4C79tgLBrNkvadXCXn\n",
       "31X3Q6HdnzQtBwucdxpTZ/F+h0MeeLNPV1CORgTCmWZ/qwQSeefrd+KdsRk0ncPPbiuWpoFtQRHa\n",
       "DNuxa22Y3mW1dDnZj0/Ux/tS9VZmhxKX9zv0gztv1K2dfSFZZ7sRyEdTCB3lIZvKzLnWWks90iJF\n",
       "px3SgrN4P9OUB97s0xWUo1HOGqOjymQx/gbofGesnMS5/cfOXrmGmJWMxWTebX318SbPh3kt1Arj\n",
       "fbAG72QPvNYLW5D06NeKYqJpJpZTNpU3WH5cV4+0+DREXLqCg4x3bI+X/px+uoJyNBJ4ozRCcZrB\n",
       "Mdxqt3pbHrIu5/VZuRaTsRU2C3V+LCB5PsxrGZT2r2ne9q8ljmlfpDiMh52qE5KxcF890iIdEHEe\n",
       "mjW+fy15wAtv+ukKytFI6M/prFzeYQnXJDuKeGdsdX/uWkZ65FqzZqq/PqI+tI7SBXN1iPJ2CJzH\n",
       "/Wv8r+lJB3mHlRiv1CktNFHLHOKdOOyFN/t0BdVoROCaj6vFyDUQ5h5vwe19dbQjK+3/lTxZ9YmD\n",
       "9YGSXPNkTLvAsF3J68v14o7OYbmSWqG8Y7N+ePOwE3VWMvbYGkOvU9pa50Ops/j5ki4vvNmnK6hG\n",
       "I8L7OHIYW2uj0VyGeS+Ei3Vp/6807sBAjcuV1aOvmGX7OUbVx7qO6/XyDs2hZ6BWKO/MpB/ePOxE\n",
       "XeowEdfZb//41TlIc1lspc6azwsW55B/q0YjwvsKYLs80oXUk+8xNdZ4fp7DyAI/cvJxRqoz4ihv\n",
       "2zA7Wnd3/sEcjqVWKO/UhC/eLOxE3bigbapOaZmc83vUWcx7fe8ceKsKMRPS2ef5/hXaHrsP5edj\n",
       "KD+3eGuO845FTn3QlFy7lH314o7NZeDfJ/Fu6/DFm4W9ljrv0n7illp0cN6DlYbwjlXIFlztmSlY\n",
       "ewlUte+M02WVceqwtCNy7TII76mXt/l8mNehfo/Ee23WF28W9hrqvEsLZ+FJ56E9y3nHO3zypgFb\n",
       "CJmNZrkDXnv0war27bin+Qtpp3duttWOJV3ncip9PsxjYVYo7526L9487Dc3SNrlAP90fJM6i3kH\n",
       "pn3ypkXYFftxgC4ZRN/mW5mdNkmnnD8efkFBrh1LsM7lFvp8mMfCrFDep4Iv3jzs7uo8S9OWjI05\n",
       "t1zqLOatzTaGt+ueXtv+X49dXlmuHctAvek3eT7MY2FWCO/EAX+8edjd1XmWFkIzvZJj9nfA4g2v\n",
       "NIZ340uqJNfOcx+9Ge4wK4S308eYef68vVfAi7rGSGPOmrzXF1uUd2xGqq+1GsIDcoy2N8UdZoXw\n",
       "TnX45M3CbqojW0JIW7yp8dKYsybvgWyL8k7skeo4v08WfU8KttaU3UzcCuE92OuTNws7UXcX/3/x\n",
       "qzoaJY05a/LO9LUob/ivVA8KuYfEOzDRDGe4FcJ7AfjkzcOO1WnCXy1rvDTmrMk7MduqvAfKYn2N\n",
       "9pqa90C5mc4Q3o5B88ybnwGfmGwJqebdGGncFPl+g7dblXe6T6xXP7a5+AG+xdZr472rKc5wKybv\n",
       "TIdf3jzsWB3eEsJuHy5ruDTuLOEdKrcobzhfrO/JR5XtWzvUDFcsKybvwSHfvHnYz2dbQqrad4Ok\n",
       "cWcJb8fvv5p33uwbunCtHflQPX5HeprhimXF5H0R+ObNw47UkS0hVbwbJI07S3jDCa3KO1Cy6lju\n",
       "WQ1U/fkNTXl81bKCecfu8M+bhx2pw1tCFP15Y6RZzlLewXKL8obTrTpSviKgat/abU3pzi0rmPcT\n",
       "egN487CfTreE2Nt3g6RZzlLeibMdeM/798Vu0nkdLEauZ3E4YY91haaa8uFRzAr5vljxw9PtvL1/\n",
       "XywP+yadbAkxi/BVHQ2Sxpzl3xcLv1Ef+Kt5/75YTZdrlZNNcYRZiQ4P/wWRct7pnRj2/H2xPOxO\n",
       "6hojjTt71fBw4f+axb5levm7ogAAAABJRU5ErkJggg==\n",
       "\" style=\"display:inline;vertical-align:middle;\" /></a></span><br>"
      ],
      "text/plain": [
       "<IPython.core.display.HTML object>"
      ]
     },
     "metadata": {},
     "output_type": "display_data"
    }
   ],
   "source": [
    "induction_inst = fold_forall_natural_pos.instantiate(\n",
    "        {Function(P, n):sum_first_n_int.instance_expr})"
   ]
  },
  {
   "cell_type": "markdown",
   "metadata": {},
   "source": [
    "*Note that the base case was proven automatically via auto-simplification.*"
   ]
  },
  {
   "cell_type": "markdown",
   "metadata": {},
   "source": [
    "### Inductive Step"
   ]
  },
  {
   "cell_type": "code",
   "execution_count": 6,
   "metadata": {},
   "outputs": [
    {
     "data": {
      "text/html": [
       "<strong id=\"inductive_step\">inductive_step:</strong> <a class=\"ProveItLink\" href=\"../../../__pv_it/_proof_sum_first_n_int/391104d23a3f1e3fd898db2bb46fd7d6f3af3a9b0/expr.ipynb\"><img src=\"data:image/png;base64,iVBORw0KGgoAAAANSUhEUgAAAhsAAAA/BAMAAAC7qxeHAAAAMFBMVEX///+IiIgiIiIQEBB2dnbu\n",
       "7u5ERETMzMzc3NwyMjK6urpmZmaYmJiqqqpUVFQAAAB6qHgnAAAAAXRSTlMAQObYZgAAAAlwSFlz\n",
       "AAAOxAAADsQBlSsOGwAACdtJREFUeNrNW32MG8UVf3v22mvv2ueWNgptCa5LQCqCu0BObaPQGLVp\n",
       "iwScSyrUSAgbpTUItY1J82fpOQn9LthCanWoEXFAqkpLehcKocklimmlq0JazoFD6gfS+VT1j0iI\n",
       "3CW53IUccWd2Z3Z21rPrD3Hje5J9a9/svpnfvPd7782MAXoqeoJcHHb944EyvVJ/JaMjcrS0kmvJ\n",
       "X6XsgAi9wh9J2p/XSOnJmlWARnSJXIwV2Zch/BZjcITSMroiR4u/bKsSU90MxvHH1imTBQEc6h1S\n",
       "vOWO3sNxlPpHGR54vhqoK3UBHPBWRkZf5Gjxk/AiuRgpwI+uhf6CnhbB0TcuozNytPhJpE4unkWv\n",
       "Wfg+9NXgSH5HPl/l4IgtiW/X/J5d9PkkfIyXFnkyU3T05HOI3EthkXXAr8W3X+f37IPOD0rNj88T\n",
       "vlrkyY3UTnNojuaQfUzqQjhmCqK7Y56xILweIVB1fDHt1fIXRx8G+JSfFonU8QGlDjR50TqMwlMf\n",
       "J3Bod11MsIYBoVtv93rug0cX0Lsjr1LLXn6Sg+EKRDI+WuRJfI5cnOMzgObcdU50+/Emq6cGoWA4\n",
       "Tjvur7qbvkh6UITAIBjjPlrkSZZMh3qFH3yzdy+Lbh9s8p6EE44AC5yBpnvPkH8sQBzx1pCPFnky\n",
       "RZzVWGzV8gsi6ij7wxFhJvEvLzjiSYgj5fu9tUiUndQ7WlrpSUGgxDnKwf89sSax+ysVERzBut30\n",
       "ZTT1675550PhLz/Kw4FpHCm/11uLRLlE/vbnWkbkqiBpQd+lv5dQlyuxQREcBrMeNPvB0CxkX4e3\n",
       "muAYQTed8tYisX67SOu3ltVTqS7IImsQrdwI2jwYcyI4YoxbbgH4PQrmpQRMNcFxK87PvbVIXOt4\n",
       "n7qCZewHGkzm+aaBwebbAxVQ1fchtoArHvS0VOozt6VSdRuOMAZJvYw/bwLIZCswk7GKpJdSqdtT\n",
       "qVutTmDLHPHWIjFFXyAXB6wYMNOwqFX9+botF1zV94IQDojNYSwCaZF1RM3B3UzggBmzYNzoto43\n",
       "8Nvz3lrkST9NPM8Tmm/YmagxwGfVygdCZ4F4GfrSMFbMiJwl6XQWOAtwA0SXVB4OlNn+FOBNby3y\n",
       "pEQYVKOUOnCVORLPrrErgvUaNHhkF8gJzmpVEZWyRzwE2C6QZ8XLv+Th2A2AEuFJby0SC7hxVy9G\n",
       "Goza/8yn85eab8eBtFTA5PitoMtZgkskEBNBgVRbxIwbSqc5OLSbJyaSZiD20iJPrie9VyhvKg1W\n",
       "Yxv8UtV5QcWDxvEcwCcB/rCWhyP+38vvImeq2E13ISZJgjIO0cNFDo4+xNqIhz/LtJhU/E4v4DhJ\n",
       "+EG3XXana9TqDur/DcH9N3lmpabsddBMwSMrJTbi0HIM/x3tSVJKOhmyc/RtDVdRGaGfBwQrd6c9\n",
       "Szh3hWeMe5RwrgoPafmhVef2QA4Qw43YLhJtuLi9v+Zqy3Gpb07NjekR34782NEjXOwHa72AY0vG\n",
       "LiupDF/grWCMftxZab5f9Z1EDqz7fTtig4W0GMhSIj2hUsoH/ayCizT4MvVL9OKcaML2+D19LWcq\n",
       "CZ+WStGpBWW2G1cLHOqWi1yTZ2H6FW84PnTBWl4F+PZqgcNO1Ak6y7F/braikMV2qNpI0WpjJWId\n",
       "0vIUaCtWyUXdEU5h3KBSOLIOOPTGkDNyLh0KjzrhWOnQj7SEMsFKW42Lnf/3ByyHxB6MrJCFPJWW\n",
       "aVlnITngrGX1zRTO4Sbn7298mDJna4kl2mNSxd99D4q+ZNyPF0AfX+8M+GI4SklnlfabVz3hWAkx\n",
       "tZRfa6vtdAu0mDkbJ/5+bBrPq5aG0++cPvRVAgcgOOIt4LjGaWXZ2liBg2OFucPUco/HSY+gY2LN\n",
       "vYrIpXw+/3RjgY3XKewpsTWwCVXOGsSqcCYXqEw74Aj5U2mUW0WeymRrCcncAfvcTLr35YrxRbbA\n",
       "H6KZbNiMgl/fQMdry18SfM78sFrWa6hoMGoQKmyHExCceGnimAlHxB+OEc4jz0K2kJYNR9w5z+F1\n",
       "+UqsvhVeccOB9ypmzM7+jI6XW5hy7mskY+k+XJKGE9CHnCxZbdc61A1c974LyuGM5LyDlwmETew1\n",
       "HdJuOPBehW5WF9GMPV7Kf2ZGaU+gWlcqcTMrrMOD8AmYLVoPe2xjDa+32Ek6BXOuuWRr3dH2xNyD\n",
       "7RwOevbGJMTY479LpIl923CYSyRPu8dryaT2MW5fw5bXuciCxTFeWqX2sZol36r67VCsPdiOa2z7\n",
       "7I1Z68QKW//dZB3mTtU2cdU0++S2It7XOIKoNl8VlgN0wargV+Dr6xkd8xoGil3BYe3Bti22Fnr2\n",
       "5kWrz7qSc8Nxi8ks88LHbKiFuX0NJu5lCtVJXGTe7A0G+Csb9D9c1W93vkL2YNuusdkEW2dvTqHp\n",
       "rcUKarrshmMTCX0ik7yCs6WwTQH+CSBbHCR2pCw3R1k3the6g4PswbYrTAs5e7ObWPShBMs7nHCc\n",
       "sL46wj3FyD2nmfsaTc7iK1MkVBu0ii3ZfKme5DlVO991tOhr/5gC00LP3oTw7BsVUBy86HAWg4zg\n",
       "P/Z9uBiOJ3YFXed1HInVmWMe2seIjuhVd5R98lyDp87o1a7hGGk/vWda6NkbDcelXaNkRdkJB96r\n",
       "gD+61yFxGQKhYvxv3L4G576Q9dCeJUs91sYhirKXnzEltaXRcFmDMd81HB1k9AIt38jn3ZHJggNv\n",
       "+odzpEgf3UMxZ7HAsa/BWSAipRZmPECo1UEwrpMn+mK3aOi5Dtq2pcWCYxd6bTeJ9AWApbdzwYkJ\n",
       "knfT0XkF+Ee9tFPOb32uItL1OaU3OmjbnhYLDrxXgZditN8uQ/iqHWAYHHu9Ru2VQRnUBKZasm9/\n",
       "sks0rD3YNqU9LdYxVGMc9NtNGQLla+uLTdZx3OP2rYrXc+lmZKnlkb2RdJdwWHuw7bJuJ1ocexV6\n",
       "8W4SE3EZYufDYgtseAbJ2yjbtpyV67s88kn2YNuUjrTc38KlOk+jh4nLBVueq9jRbdJh7cG2KR1p\n",
       "0fwD+NrOO1siT9RahVG1+7SjA5GjxYfJ6cQ9Y7HTp1nPTvGkuyijO3K0+OinkXaq6KgDTEr6KI9b\n",
       "UsrsJHsLh0qLlWyaFAq2vMl7lZSlQTlafORPNFINWpXgnrQYjmEpvRnuMRqQJVyqmlwaX/v253Vc\n",
       "E3/HBYc6L8VW53sNh0JXNa4x04/roCC0Dl2KU+vJXsMBNJb0YTMpTRTE3FGqSKGOSs/hoD+fNX9P\n",
       "OxlNFoXO8p6UvrzXczQgSDOPu9BrNpwUUqkxJCXqD/UeDmtRCawzs4/Au9RbnjhwJ2uzT8pv1PYV\n",
       "VgEc95FOqDd5t9kvpSf7VwEaoNE5+Yl3AJRCcUTL/wH1MiG0M3lh9wAAAABJRU5ErkJggg==\n",
       "\" style=\"display:inline;vertical-align:middle;\" /></a><br>"
      ],
      "text/plain": [
       "<IPython.core.display.HTML object>"
      ]
     },
     "metadata": {},
     "output_type": "display_data"
    }
   ],
   "source": [
    "inductive_step = induction_inst.antecedent.operands[1]"
   ]
  },
  {
   "cell_type": "code",
   "execution_count": 7,
   "metadata": {},
   "outputs": [
    {
     "data": {
      "text/html": [
       "<a class=\"ProveItLink\" href=\"../../../__pv_it/_proof_sum_first_n_int/966929e9a33b9decf0c1287cf52729e5e034da9f0/expr.ipynb\"><img src=\"data:image/png;base64,iVBORw0KGgoAAAANSUhEUgAAAT8AAAA/BAMAAABk/9IsAAAAMFBMVEX///92dnZEREQiIiKqqqpU\n",
       "VFTMzMyYmJgQEBDu7u7c3Ny6uroyMjKIiIhmZmYAAABumYecAAAAAXRSTlMAQObYZgAAAAlwSFlz\n",
       "AAAOxAAADsQBlSsOGwAABnJJREFUaN61WluME1UY/ju9zkw7u/KiDyh1VUKihkojgYRAYzThbRsv\n",
       "EQmEEl98QLeB6IsRSjAajIZGQyBEbY03vLYJLxqD23iJgSBbiBghcgkk4gOwBddlF3apZ67nnHYu\n",
       "58fhJLtb5sz3zbfn/8/3/3MWAH1cBOTwAMgHILTBcmVaSLAn4Gh4Almu0ToS6wmQBsMTSLnk17Gr\n",
       "bwKS558/ltlY4mZeDTHGDpeGjbAF2PVNOVXMFLmpldXwFDpcIyUk0gJ89icMlDQ+qNEz4Ql0uH7G\n",
       "Im3AWngOogVuKnZNkEPxm6xzXMKcfSJeIzutkeAnfxAk+c1vcj/HFc1il94CKB2yhhs1fnJYLF9i\n",
       "nts9sZTYWJnlGilgU9ACqEU4CB8f5ydTYkn4rtfEzgvT5PsBlmsdNgV9AVpHiON87wW1bBcBXeBm\n",
       "hku+gfUnX4B6VYik0hfzNiswVaVcyUmkwADAm0Ip2PIXmC5TLqmDFBgAGHcpg+qxPXc+mLjtfpoI\n",
       "ZI/sf+aDo+31c5puAiNFyjWA3cQBgOFy/7WItBZqL8NK54K+QoP3teWrzVjFTWCyRblGsfU9ANAo\n",
       "9l/7jjhTow1bqFMVQG0uAmUWkh03gZZsg2u8iRRoANJdZrQ5n6n0Q6q1JgxX4YK+xWaMm5ogy9ch\n",
       "Nm3WdS2fX7Itny86AhMdyjWGLe8GINa1tsqe/au6nCRp2i3uoKvbqn9cbgmEWEdXlxp0W0G1Qrn+\n",
       "wdqgCVhHcZsmuGZ2wgWzBuAhUK/JTIgh3oLoIGktq24hzjlcyhWhBoup8iYg2qW5dpbzCzeb3Aok\n",
       "oPHWp84yEzlk7Ujk1yhlt02SdbhiQj4t9QlIdKkja6yzJFx+Y2VS3wzSoLO9dBtplPRdc3ekJ8SR\n",
       "a5YNWVyZWW9Z71x5oAp3TDU5gTbgdJfKYp1FdskZNQeZM6BedBAJEsJ9AKcAvj/BC4yvmnmaxKfp\n",
       "cGkTPgt3L+kH5A6/gjZA6ua4e9/eZn3oioRksWclMcaHlEvyK1xP1G83yyYj0AbIO3qS47D1c4WI\n",
       "LWz2bBa4XoJwpf3a1Sez6Trk4OzQgqEhm8ABjHb5Ps0OxZjIO6Lke5OSpVwpF9vK3JNfZnxY/YrS\n",
       "ghy/gg4g0t3OLYF9faGI88tZIfmEa6C/9Ku/2kFaHS8d6RVIAWMzXL217XqdUAP8ld/kCaBc5vO4\n",
       "duNLJ4lWQ1Zqegrc3WWrcroYu6sqLlCwN7YFcu3GQaACX5CXegp0yp0xauVH9xp5Om5m67m8Ph7+\n",
       "fwIJV63T1260GIHJwiMVvpLUaE6MTzEbdviLwoY6IzCUoQus9LQbkCB9RX6RJRCeifd0JzX67yjb\n",
       "x/z9kvVhXrvvOd2bGDaX9Tym3WA2GBG4U855ClTYorHsUslT4E0PKpBtN3KswEQ76ykw8wbjGxPq\n",
       "JCcwlBwkXFbOs+3GSWd+Pvn63RFY7dkkMMq8pCen5YkM3IIcNJ/HtRtpxyd+Ys++zF6YEZhgy3i8\n",
       "JU9Gbp1Art2QH//WnN4wRVZPdjZ1vtrjg2yySQU4dRxugQ+mXF4i1TlWqetpOAyBFHDYk1R0fH1h\n",
       "fqDA6LQwnRlBByB5lNOFwseNpCeY51+4CZckfrDwHtduwTnq0tyaraiLEsbrru+APJd2XVigmXI2\n",
       "IEk9JskJ3CFMSBqjuP/hJOHKXEXmrQ1gPGYld8OUMFU8B3H/ABKu5GXs2ZEJUKjHvM+11grqPTbq\n",
       "e9Cjc6n/IgVaAMdjlMe4pgZJONIOepY8gz0eNAFjh4zx4xJS17lqnZzFsPmXQoNrBdY8DYDGNh5c\n",
       "6dAw542a/0mZwTVeRwoMAKQx540vQjDXFmzpDAAM5MSpYoPweSBX4wxSYABgBHHeuB7geCBXKocU\n",
       "GAA4LVzpQFl+6VIukCsyjRQYAFiAMEGywVqBXMosUqA/QMb6ajDXISzOAGyiDruLXQX0XzX8bNDk\n",
       "2oL1GQOQcvqkxEk2j9K58ARaXDXsMb8BaDBmwWpqhNjwW1xaBYkzABuVI64C54Wnz+aSsbvEAKz9\n",
       "aHf97NCQfizHCkSTBT1HH39gkTrgrULCbQW1EFPQ4YpijwIIQLnxl2sONpohpqDNpWL/TwABJLP7\n",
       "FHAJ8VMhpiDlmouFzoV4+9mIywomt4fogpRLwsZYakv1uH2apcy97OD3lsITyHDJi7H7ywvwS4gR\n",
       "Zrk+wYI9AHKIW8Ti+g8YuVIUk9AaegAAAABJRU5ErkJggg==\n",
       "\" style=\"display:inline;vertical-align:middle;\" /></a>"
      ],
      "text/plain": [
       "(m in NaturalPos, (Sum_{k = 1}^{m} k) = ((m * (m + 1)) / 2))"
      ]
     },
     "metadata": {},
     "output_type": "display_data"
    }
   ],
   "source": [
    "# this looks like a tuple, but is actually a set with no\n",
    "# predictable order for the elements\n",
    "inductive_step.conditions"
   ]
  },
  {
   "cell_type": "code",
   "execution_count": 8,
   "metadata": {},
   "outputs": [
    {
     "data": {
      "text/html": [
       "<strong id=\"defaults.assumptions\">defaults.assumptions:</strong> <a class=\"ProveItLink\" href=\"../../../__pv_it/_proof_sum_first_n_int/966929e9a33b9decf0c1287cf52729e5e034da9f0/expr.ipynb\"><img src=\"data:image/png;base64,iVBORw0KGgoAAAANSUhEUgAAAT8AAAA/BAMAAABk/9IsAAAAMFBMVEX///92dnZEREQiIiKqqqpU\n",
       "VFTMzMyYmJgQEBDu7u7c3Ny6uroyMjKIiIhmZmYAAABumYecAAAAAXRSTlMAQObYZgAAAAlwSFlz\n",
       "AAAOxAAADsQBlSsOGwAABnJJREFUaN61WluME1UY/ju9zkw7u/KiDyh1VUKihkojgYRAYzThbRsv\n",
       "EQmEEl98QLeB6IsRSjAajIZGQyBEbY03vLYJLxqD23iJgSBbiBghcgkk4gOwBddlF3apZ67nnHYu\n",
       "58fhJLtb5sz3zbfn/8/3/3MWAH1cBOTwAMgHILTBcmVaSLAn4Gh4Almu0ToS6wmQBsMTSLnk17Gr\n",
       "bwKS558/ltlY4mZeDTHGDpeGjbAF2PVNOVXMFLmpldXwFDpcIyUk0gJ89icMlDQ+qNEz4Ql0uH7G\n",
       "Im3AWngOogVuKnZNkEPxm6xzXMKcfSJeIzutkeAnfxAk+c1vcj/HFc1il94CKB2yhhs1fnJYLF9i\n",
       "nts9sZTYWJnlGilgU9ACqEU4CB8f5ydTYkn4rtfEzgvT5PsBlmsdNgV9AVpHiON87wW1bBcBXeBm\n",
       "hku+gfUnX4B6VYik0hfzNiswVaVcyUmkwADAm0Ip2PIXmC5TLqmDFBgAGHcpg+qxPXc+mLjtfpoI\n",
       "ZI/sf+aDo+31c5puAiNFyjWA3cQBgOFy/7WItBZqL8NK54K+QoP3teWrzVjFTWCyRblGsfU9ANAo\n",
       "9l/7jjhTow1bqFMVQG0uAmUWkh03gZZsg2u8iRRoANJdZrQ5n6n0Q6q1JgxX4YK+xWaMm5ogy9ch\n",
       "Nm3WdS2fX7Itny86AhMdyjWGLe8GINa1tsqe/au6nCRp2i3uoKvbqn9cbgmEWEdXlxp0W0G1Qrn+\n",
       "wdqgCVhHcZsmuGZ2wgWzBuAhUK/JTIgh3oLoIGktq24hzjlcyhWhBoup8iYg2qW5dpbzCzeb3Aok\n",
       "oPHWp84yEzlk7Ujk1yhlt02SdbhiQj4t9QlIdKkja6yzJFx+Y2VS3wzSoLO9dBtplPRdc3ekJ8SR\n",
       "a5YNWVyZWW9Z71x5oAp3TDU5gTbgdJfKYp1FdskZNQeZM6BedBAJEsJ9AKcAvj/BC4yvmnmaxKfp\n",
       "cGkTPgt3L+kH5A6/gjZA6ua4e9/eZn3oioRksWclMcaHlEvyK1xP1G83yyYj0AbIO3qS47D1c4WI\n",
       "LWz2bBa4XoJwpf3a1Sez6Trk4OzQgqEhm8ABjHb5Ps0OxZjIO6Lke5OSpVwpF9vK3JNfZnxY/YrS\n",
       "ghy/gg4g0t3OLYF9faGI88tZIfmEa6C/9Ku/2kFaHS8d6RVIAWMzXL217XqdUAP8ld/kCaBc5vO4\n",
       "duNLJ4lWQ1Zqegrc3WWrcroYu6sqLlCwN7YFcu3GQaACX5CXegp0yp0xauVH9xp5Om5m67m8Ph7+\n",
       "fwIJV63T1260GIHJwiMVvpLUaE6MTzEbdviLwoY6IzCUoQus9LQbkCB9RX6RJRCeifd0JzX67yjb\n",
       "x/z9kvVhXrvvOd2bGDaX9Tym3WA2GBG4U855ClTYorHsUslT4E0PKpBtN3KswEQ76ykw8wbjGxPq\n",
       "JCcwlBwkXFbOs+3GSWd+Pvn63RFY7dkkMMq8pCen5YkM3IIcNJ/HtRtpxyd+Ys++zF6YEZhgy3i8\n",
       "JU9Gbp1Art2QH//WnN4wRVZPdjZ1vtrjg2yySQU4dRxugQ+mXF4i1TlWqetpOAyBFHDYk1R0fH1h\n",
       "fqDA6LQwnRlBByB5lNOFwseNpCeY51+4CZckfrDwHtduwTnq0tyaraiLEsbrru+APJd2XVigmXI2\n",
       "IEk9JskJ3CFMSBqjuP/hJOHKXEXmrQ1gPGYld8OUMFU8B3H/ABKu5GXs2ZEJUKjHvM+11grqPTbq\n",
       "e9Cjc6n/IgVaAMdjlMe4pgZJONIOepY8gz0eNAFjh4zx4xJS17lqnZzFsPmXQoNrBdY8DYDGNh5c\n",
       "6dAw542a/0mZwTVeRwoMAKQx540vQjDXFmzpDAAM5MSpYoPweSBX4wxSYABgBHHeuB7geCBXKocU\n",
       "GAA4LVzpQFl+6VIukCsyjRQYAFiAMEGywVqBXMosUqA/QMb6ajDXISzOAGyiDruLXQX0XzX8bNDk\n",
       "2oL1GQOQcvqkxEk2j9K58ARaXDXsMb8BaDBmwWpqhNjwW1xaBYkzABuVI64C54Wnz+aSsbvEAKz9\n",
       "aHf97NCQfizHCkSTBT1HH39gkTrgrULCbQW1EFPQ4YpijwIIQLnxl2sONpohpqDNpWL/TwABJLP7\n",
       "FHAJ8VMhpiDlmouFzoV4+9mIywomt4fogpRLwsZYakv1uH2apcy97OD3lsITyHDJi7H7ywvwS4gR\n",
       "Zrk+wYI9AHKIW8Ti+g8YuVIUk9AaegAAAABJRU5ErkJggg==\n",
       "\" style=\"display:inline;vertical-align:middle;\" /></a><br>"
      ],
      "text/plain": [
       "<IPython.core.display.HTML object>"
      ]
     },
     "metadata": {},
     "output_type": "display_data"
    }
   ],
   "source": [
    "defaults.assumptions = inductive_step.conditions"
   ]
  },
  {
   "cell_type": "code",
   "execution_count": 9,
   "metadata": {},
   "outputs": [
    {
     "data": {
      "text/html": [
       "<strong id=\"sum_one_to_m_plus_one\">sum_one_to_m_plus_one:</strong> <a class=\"ProveItLink\" href=\"../../../__pv_it/_proof_sum_first_n_int/9dfda1c446f4405870131a1ea22d79a7d29535fa0/expr.ipynb\"><img src=\"data:image/png;base64,iVBORw0KGgoAAAANSUhEUgAAADMAAAA9BAMAAADyhUxpAAAAMFBMVEX///+qqqoiIiJ2dnYyMjLc\n",
       "3NwQEBC6urru7u5ERERUVFSIiIjMzMxmZmaYmJgAAACPsYE1AAAAAXRSTlMAQObYZgAAAAlwSFlz\n",
       "AAAOxAAADsQBlSsOGwAAAa1JREFUOMtjYEAFfQ4MWAAvEPPsVsAmxQkiGJGk+O6d3sX98gA2qb6y\n",
       "B2wLuBdgk4rYwsB/gNcAmxTDaoZjDEwCDDdnTps58wGqVA7DToZ4Hmy6WD8A9b3kxSbFvoDBlSFq\n",
       "B1SK1eTzBlz+wg54GQYU+P9HgN+oUvL/D4BpjvBd+d9Qpbj+w0OAT18AVU7/F8JvE1Clzv9/AGdf\n",
       "RZXi/v8VEelobpz/CU2gMwnGavt/AU3OFx4x/z+iSSH49t8aUGTYf8CZLP9REy1zApzJkf8ZRYpl\n",
       "AaNtA1pgQUH/A8EwmF95/2egBGu4wJEAeGChhPm1N0iceJQconIXyfxtAUgyHB/Z/yA88gdZE98P\n",
       "jo/c8MBHiScuB44/zDATslETqwDD3h0wL17AmXJm4k7SGnAmI5rUM4TLH6LKILmcMQFVKh7uco77\n",
       "qO5BuDxwPWoEMLB8cQEDpfz//9HSz32kNP+PYYgBPm2E75+gyaXDWac3ocoACzA4EEIzcEK0AQ4p\n",
       "rq0SqbwzgWAehhTbRoYDOHTFIyVVNKmX7AoBOAxczaOAyxlTGdbBTAz2t0aIAwCdLYzBWiNWMAAA\n",
       "AABJRU5ErkJggg==\n",
       "\" style=\"display:inline;vertical-align:middle;\" /></a><br>"
      ],
      "text/plain": [
       "<IPython.core.display.HTML object>"
      ]
     },
     "metadata": {},
     "output_type": "display_data"
    }
   ],
   "source": [
    "sum_one_to_m_plus_one = induction_inst.antecedent.operands[1].instance_expr.lhs"
   ]
  },
  {
   "cell_type": "code",
   "execution_count": 10,
   "metadata": {},
   "outputs": [
    {
     "data": {
      "text/html": [
       "<strong id=\"sum_one_to_m_plus_one_split\">sum_one_to_m_plus_one_split:</strong> <span style=\"font-size:20px;\"><a class=\"ProveItLink\" href=\"../../../../number_sets/natural_numbers/__pv_it/theorems/5fb53e9c076547ad508281e2a2445cff05af57920/expr.ipynb\"><img src=\"data:image/png;base64,iVBORw0KGgoAAAANSUhEUgAAAEYAAAATBAMAAADfQ2bzAAAAMFBMVEX///8yMjJmZmYiIiIQEBCq\n",
       "qqqYmJjMzMxERER2dnbc3Nzu7u5UVFSIiIi6uroAAACibcT0AAAAAXRSTlMAQObYZgAAAAlwSFlz\n",
       "AAAOxAAADsQBlSsOGwAAAQ9JREFUKM9jYCAAFBgIgwZK1HDbd0gzcPr74TWHI+ANA8N+/HbxWHEm\n",
       "MLAwMHV0eHS04VITwSDFwIzdHN5mY0OwmmUXFuJQwye7AWrOguO8E+Bq+O7smtvLPrMPLLVwA8yu\n",
       "BRwMfXA1nBxnGfbnMYSApaTg7lnArrB5Myyc3zE3MKy/wJAPlhJAqGFIZW2B8Tbsf8AQv4FBEcRm\n",
       "dzY2NraAquHZcATuzngGkAJPcPA2IJnDfWAzXM1BBgZLBr5f3CC2AZIahloOuBpPBu5/DDwCy0Ds\n",
       "u/C4KACGVQWMx/Wdge0DA8eECSAOYwBUFMxQhAebAQOvAgOf7gKwg068Bguyy3sAyY3Y44lvBiQu\n",
       "UAAA9FQ8d6roA+kAAAAASUVORK5CYII=\n",
       "\" style=\"display:inline;vertical-align:middle;\" /></a> <a class=\"ProveItLink\" href=\"../../../__pv_it/_proof_sum_first_n_int/f9438255aeec77c3891ff3685cf14623548a88930/proof.ipynb\" style=\"text-decoration: none\">&nbsp;&#x22A2;&nbsp;&nbsp;</a><a class=\"ProveItLink\" href=\"../../../__pv_it/_proof_sum_first_n_int/a4f3ff1ebb5aaaa8b7cb4ae2c5895e7e9bf155100/expr.ipynb\"><img src=\"data:image/png;base64,iVBORw0KGgoAAAANSUhEUgAAATUAAAA/BAMAAABz3ULlAAAAMFBMVEX///92dnZEREQiIiKqqqpU\n",
       "VFTMzMyYmJgQEBDu7u7c3Ny6uroyMjKIiIhmZmYAAABumYecAAAAAXRSTlMAQObYZgAAAAlwSFlz\n",
       "AAAOxAAADsQBlSsOGwAAByhJREFUaN6dml1oVEcUx2c/snfv3d2bpc+2SQOlUigJhopCJQttwT4l\n",
       "L6KFSrb0pQ+VLLGUPhQTsLRolYSWYiilWaktFpFd8KUvNktLEYs0W6tQxaooVClqVhOjRs3t/Zgz\n",
       "H3fPnbnZA8lu5t7f7P/OnDnnzGwI8ew2ke1QA96Zp0m02U365jZ+XQkrTOQKDeHz3J/MPwPs77OK\n",
       "Pi4hvGRnO9MmcnNV/j7p/UpzbcliZA+5FYSXTAErjXPmZ8S4set8YbyMaDM/iexhpsJ4z3gfcWD1\n",
       "pDLObpBDP1WyI4URRBvZOh3Vwy3O+07K+ogDq41xY2Xy4yXSXbaLmLbU1Qg+s8x5z3gfMWCNMe43\n",
       "92cneY+kSuRa3/q+voqkLb0SwedHBJ7wPkSLhDUGnP/6qbs2ahls3MgvEfxwNfT5rI8YsM4ol+ol\n",
       "xGq5Tz1uo9qGyzi+gXDeM95HDFhnlBtzpyE3Qn4n31+g2qx1d5v8tizuM5klcDc6jbwPooW1RrlR\n",
       "ObS0R/8WSndB86jqMyJgrQWcuSo3tofYByg9S0ckxMeDtRZwxrLuvgNo6wT1JA1/oMPF4HNJ7agv\n",
       "oCmpH5yg1QGsN5/r7tWumQrWeo++angcjrFQPW5Om49rI5hD3IVEX1w7HMN8bqHuv593uD0NredJ\n",
       "bCE9hsH3+LxAO00tHCeIeNx8kFaHncC3zWPnpx6GKpZHWMaCRp9PO3RFfH1yhzOpheOUSR63SMOV\n",
       "w3KBMSQnxcISwnbD7QE/usiu7F7SwjHM4yzw6aH7fL5k905jEawGmSrgUw73q2taOE62XxXYMYev\n",
       "qP/k7HQPW0dXpc/OODzI2lUNbKlEVTlXAMcvOLyeMeQqdBHp4gr1eOCvOFxRRQOfU2k7yTmb+UN/\n",
       "uJcv9tI3DhYbqU8Cn3QG4sLpyKiT2ew+bIVxSZZyZpxwzfAHuCJSWffTlAW8ObUaF/4mStpXt7zF\n",
       "eZpxeTaTOSe8pODveSTvQBvj55ySGs7BVN9oi+NwpeBp28O4LI8/PQ/lR8zBpf56u7Ypei/jE84+\n",
       "NZyGmNwWjdkVX1t2GrhunqrzjrwHTkAno6V2beBGnJ9/ooZBQbqh1pavACdoM6fuhjYr6eem42ub\n",
       "cYpKGBR4W7GTbx0+23znmTqmLTGCaGN5C6rHyutH/WdYCJ7k+qBnr0RpY3kLhbkCb1yKLzTNB/X0\n",
       "JKbNCMbV5WYFbbbsMsPHSu9Xpe6FsAXaBH5B9Nd2GBS428RcfQOxnhKjhWmjij1tomcOSRXIzQ9h\n",
       "kTTbtUE9IPApsQIJwfbg4Ka9g4PedGXrxDQfk/Sj4EBAuBJoy7SAk7TVpPj56p3ymrRZi0oYRsfV\n",
       "RtItT1i2iI1bbhLV9rcYyMyl3LLUvehvmLbCfgUszSnpapBUkcxVp7E5HQBOXAs5aVtiPDKXCiTC\n",
       "35C1QObKShgUJN1Xd8Rm6+Rtq4KthV7gRG1jUqzoapjLiTVoyyypYVDgxYhamUwQ8nwiNKeJFRpj\n",
       "2rSZB+XKs0QuX1hD7J1pqmFQkHHn7AQhlwn5+aJ8pWvHk+3unNeBywp5Iep8ANM2BXV9K5zco2A2\n",
       "Ohsj84Jv3zEuxfNpX1R90I8cuEB5wfhkrwZmGX1PZK4XSwGX4zWSvZk/SEhHVV8jkes88JbUcFK5\n",
       "nbZ6Gcf2cuQjjnyAz59UW9blvaDBA4hRUsOmcrcNyl2u8KA9gKRDVcxDrCan8wC8EEC26uDjKm0X\n",
       "OWdA7VFjT2suyIvCwvYLEzSmU97iAeTbVS0cwzwudz8cQI6MyuUIu0WyuRHpIgsg1htSOYLDcQ65\n",
       "XM6kFWH+yRnfBqccJ/SoxlPs+I1WiJSfD+hfNzmOvKlB4Rjmc0PUt4UDjdB5no2dsKUgrg0F1ZVg\n",
       "FS0c5+ByOdYBWR47YbNX4h2w5Ts8VPW5Ce0BWfcANuYwuBoehWOYz9W0J9lj2F7XgtWo4cc6/LrN\n",
       "57LaB7tSxlph367hcVhvPpfQHpCtR1t7aI7S8Os7PIv2OUu3yE08QtVoRFPzZofhjXJnAt/ewts/\n",
       "lr0ejwJ52AL7/G5e5hxq6GF9eAu4iSAIfM7ad/0li8AdyoAg4vNZdiwhfqEeCetDSMDN+ivJEuLQ\n",
       "a/Lk4UHChETs8zWhUhzQw1qjnO1XHUbv8SKurScCvwlR2OPHrT9RbT0dLgXKmb4zd118c7/d59qL\n",
       "IW1mlK/PNoUbdh6ZqV7zcPmLYbPDbMq4v/0wdY6U0XGzozymMCnwB0sZbNzsDt2NcSlvAGp3yri/\n",
       "1epRHWzhvLX6L+pv0bDG3YDz/89jPDdQRed0W2QH8G8hLm/0nrAIMqfbOnQ3zq3zHCYzgK4FY19k\n",
       "B4kG47ua7yaQcVPA6ujGOe8U4CWyHSb18Pyz/Lajinz4MuOT1S44NxK/UD/aYTIVOHNj9G2nFF18\n",
       "WdbwpzqcUpH7IXoxq5zZKqt5s8OVQLn/AcaNvU09atzMAAAAAElFTkSuQmCC\n",
       "\" style=\"display:inline;vertical-align:middle;\" /></a></span><br>"
      ],
      "text/plain": [
       "<IPython.core.display.HTML object>"
      ]
     },
     "metadata": {},
     "output_type": "display_data"
    }
   ],
   "source": [
    "sum_one_to_m_plus_one_split = sum_one_to_m_plus_one.partition(\n",
    "    split_index=Add(m, one), side='before').inner_expr().rhs.associate(1, 2)"
   ]
  },
  {
   "cell_type": "code",
   "execution_count": 11,
   "metadata": {},
   "outputs": [
    {
     "data": {
      "text/html": [
       "<span style=\"font-size:20px;\"> <a class=\"ProveItLink\" href=\"../../../__pv_it/_proof_sum_first_n_int/be748af6fe14aa1ddcc3bedbf08cd4b928fb49950/proof.ipynb\" style=\"text-decoration: none\">&nbsp;&#x22A2;&nbsp;&nbsp;</a><a class=\"ProveItLink\" href=\"../../../__pv_it/_proof_sum_first_n_int/58133ea79e512277f8aa25149920b6af28b9f9cc0/expr.ipynb\"><img src=\"data:image/png;base64,iVBORw0KGgoAAAANSUhEUgAAAL0AAAAVBAMAAADhtvKAAAAAMFBMVEX///8AAAAAAAAAAAAAAAAA\n",
       "AAAAAAAAAAAAAAAAAAAAAAAAAAAAAAAAAAAAAAAAAAAv3aB7AAAAD3RSTlMAEER2zVSJ3Zki72ar\n",
       "MruaaVGaAAAACXBIWXMAAA7EAAAOxAGVKw4bAAABRElEQVQ4y2NgYGBUYsAPOCOxiRKtzUSRgEKG\n",
       "Ow+xCBKrjfUjkOAtxKvyDaYQ0drYChgYZFo+4lWYjilEtDaQQgZmsswnStuwNZ/JRjL5MW/aIxLN\n",
       "R9fG4YBDIRvfYQb5TQxRQKYVRKS9HARqGEjSNmsDDoVK7A8Y5hsw7Acy5wdgyBKrbY4TAw6FAvIK\n",
       "DPECDC2gvHoE3QKitfH2CeCKqHgGkKplID87ocsRr43vAC6FRxgYyhiYfjIygNyDHv5Ea8Od0JYx\n",
       "MH5i4HGYzcCQRUr6RNMGVsj2EyInD0wVjF+g5d9fBu4PDHwJCbjTJ1QbWAdIKzZtIIU8p76cBkuy\n",
       "NwCJCmhCLmBgbmBgap6A03y4tgqYVizawA4hAHC5nxhttDafeQFhhS2YQkRr4/xKUB3jaiy1H9Ha\n",
       "ZhwlVJHmBGARJU4bAPbvg1GDXiySAAAAAElFTkSuQmCC\n",
       "\" style=\"display:inline;vertical-align:middle;\" /></a></span>"
      ],
      "text/plain": [
       "|- {1 .. m} = {1 .. m}"
      ]
     },
     "metadata": {},
     "output_type": "display_data"
    }
   ],
   "source": [
    "sum_one_to_m_plus_one_split.rhs.operands[0].domain.simplification()"
   ]
  },
  {
   "cell_type": "code",
   "execution_count": 12,
   "metadata": {},
   "outputs": [
    {
     "data": {
      "text/html": [
       "<strong id=\"inductive_hypothesis\">inductive_hypothesis:</strong> <a class=\"ProveItLink\" href=\"../../../__pv_it/_proof_sum_first_n_int/de535c7822f2333a838c203cb655725e0cf0f6850/expr.ipynb\"><img src=\"data:image/png;base64,iVBORw0KGgoAAAANSUhEUgAAANAAAAA/BAMAAABjmFsQAAAAMFBMVEX///92dnZEREQiIiKqqqpU\n",
       "VFTMzMyYmJgQEBDu7u7c3Ny6uroyMjKIiIhmZmYAAABumYecAAAAAXRSTlMAQObYZgAAAAlwSFlz\n",
       "AAAOxAAADsQBlSsOGwAABMRJREFUWMO1WF2IG1UUPplkMpmZJBt9rm4UFEGk0WCpIG4eFPZt8yJW\n",
       "6NIUX3xQGlb0RehuaWmpKA2CdCliRvyriibQF0HWDYqIUtxYLLiibWnB+rDdTbvbbLPtdrx3fu9N\n",
       "7tzedK8HdhPmzJzv3nO+8525AcB2BZim/wxyLdOKcJyRDDRvRTiUnFQc/YjzoV1+9WxmqkJ5DkkF\n",
       "yrqZO/5NNVXOlCnXeE0m0D53F5//BSOVLJ2s+AWZQD96n5PwMsRLlCuxIRjD4DmtvmCHEcsaSfqe\n",
       "7wWBfuc557z05L1FddCeprL0PRMVIZxEJD2TT6H2qbol8rJlluEX+GSRvi8lVqT3oxzvLfXQf7fx\n",
       "93AZ2RECutx/waz6YoCB9ju9cpsXwVwXApoZyGWbBErhLtG63BBvC5WoxQdK4/0p/OSsMOTJPHvi\n",
       "vseS9zwaJhhxYe7FD8+0997bZAHFsAyM5LlAE9XBazFlEupvwnhwAa8491BbX28mZlhAGt7xPF84\n",
       "G+XBa9+ijmi0YToUkBKYzSfA2AStwwJy4FfwZtM2YW2K3zODQLV6EyZqsIS/1/FiU03Q9ZuQ6Lm6\n",
       "mS0Wdx4sFssBUBLDL2BGJGyPEifmdtlUaKXHyidglAOBGiIgSHQwSirH2pGJQ666zbQaRHltjRqK\n",
       "awyg3QCPg7mhE6kDtQXxHBptNVbqCkh4rrm32mEtLlI8ZbXZAUCJUlufBdtGYdFeUEZ3G1UWGfJB\n",
       "oKQddmaWZHTyGkOqu7joSi6gEaZvo4LZ8UCsL3WxDY/+mU33wnk7DE8yWl9l9FEBMhfAvBI8kUSp\n",
       "OQVwDuC7P2kgddetF1C+UA2zXg0Uu0AFe/eg98UWkYYdkcrg2EcYwKObfqyvGL96n2Mi03x/pKgG\n",
       "mpv2x968TQ9Xn20LlgCQwr3JwOKT8vskZh+lluRf394UeZHK33EZI4GmLtyi9Mxv2z0lkSJ9xXM6\n",
       "BAmBZm1S9dLlxP01caA7WwgUyJBj9eqzJ52CrrhlvVTE9uTdA9XDcbRygyDYxJelVywCaMtWDyU0\n",
       "Tur2v294X0bbA8/Yd2EkkEGKwNPLlUigre4o8xbB1zWzSwFtuUYhGWCeeFnUevpaBmTWKARKkpNH\n",
       "bend2P8ENEsWQynBuUWQ2UepTr+K9tkQQF8vPRztjPuapkTI1faKKA7SztFoYfTHBFwKu5Xaw5gl\n",
       "CqRazHcmf27f9GgWclujgI6JV6EHavTBLbM+wO1x6oYbwkBqAdToF3ntqpvfkNsfUKPWWB2GWvHo\n",
       "F3nzOs1t4zlKxH2/6Lk7Wq90d9wtnHbsh51I/6i3FG1zGCCeRI05lCCFlpKCbHeYXyzyQx6AyEnb\n",
       "GQLodZ5zmq9lIwVxHHQ2/4JzAOKfu/cN8bvTXoBFTpvxl3xeWIHAeGZ5mRMs1uM+/cgQTYSI1OKs\n",
       "g8tffag24ttp5/QVdtpxclVaVx7QtOUdDr1B+zeZ53RBHlAd86pBkJSM3ajKA8riGTJl/MYEGpX4\n",
       "u6CO2TD58ax18UFkVQpI35QIBH+gv3dKSdaOsgWZQPE2GLf/Ydao0ZQJZG6g8/kpAxipex6k2jZQ\n",
       "2y/FGDvSjsoFUtqKpfqnB2Pb1aB5T1bkAuk7Ihw/gWT7NGIBEqnwHw2TpwG4WWnpAAAAAElFTkSu\n",
       "QmCC\n",
       "\" style=\"display:inline;vertical-align:middle;\" /></a><br>"
      ],
      "text/plain": [
       "<IPython.core.display.HTML object>"
      ]
     },
     "metadata": {},
     "output_type": "display_data"
    }
   ],
   "source": [
    "inductive_hypothesis = defaults.assumptions[1]"
   ]
  },
  {
   "cell_type": "code",
   "execution_count": 13,
   "metadata": {},
   "outputs": [
    {
     "data": {
      "text/html": [
       "<strong id=\"inductive_hypothesis_judgment\">inductive_hypothesis_judgment:</strong> <span style=\"font-size:20px;\"><a class=\"ProveItLink\" href=\"../../../__pv_it/_proof_sum_first_n_int/de535c7822f2333a838c203cb655725e0cf0f6850/expr.ipynb\"><img src=\"data:image/png;base64,iVBORw0KGgoAAAANSUhEUgAAANAAAAA/BAMAAABjmFsQAAAAMFBMVEX///92dnZEREQiIiKqqqpU\n",
       "VFTMzMyYmJgQEBDu7u7c3Ny6uroyMjKIiIhmZmYAAABumYecAAAAAXRSTlMAQObYZgAAAAlwSFlz\n",
       "AAAOxAAADsQBlSsOGwAABMRJREFUWMO1WF2IG1UUPplkMpmZJBt9rm4UFEGk0WCpIG4eFPZt8yJW\n",
       "6NIUX3xQGlb0RehuaWmpKA2CdCliRvyriibQF0HWDYqIUtxYLLiibWnB+rDdTbvbbLPtdrx3fu9N\n",
       "7tzedK8HdhPmzJzv3nO+8525AcB2BZim/wxyLdOKcJyRDDRvRTiUnFQc/YjzoV1+9WxmqkJ5DkkF\n",
       "yrqZO/5NNVXOlCnXeE0m0D53F5//BSOVLJ2s+AWZQD96n5PwMsRLlCuxIRjD4DmtvmCHEcsaSfqe\n",
       "7wWBfuc557z05L1FddCeprL0PRMVIZxEJD2TT6H2qbol8rJlluEX+GSRvi8lVqT3oxzvLfXQf7fx\n",
       "93AZ2RECutx/waz6YoCB9ju9cpsXwVwXApoZyGWbBErhLtG63BBvC5WoxQdK4/0p/OSsMOTJPHvi\n",
       "vseS9zwaJhhxYe7FD8+0997bZAHFsAyM5LlAE9XBazFlEupvwnhwAa8491BbX28mZlhAGt7xPF84\n",
       "G+XBa9+ijmi0YToUkBKYzSfA2AStwwJy4FfwZtM2YW2K3zODQLV6EyZqsIS/1/FiU03Q9ZuQ6Lm6\n",
       "mS0Wdx4sFssBUBLDL2BGJGyPEifmdtlUaKXHyidglAOBGiIgSHQwSirH2pGJQ666zbQaRHltjRqK\n",
       "awyg3QCPg7mhE6kDtQXxHBptNVbqCkh4rrm32mEtLlI8ZbXZAUCJUlufBdtGYdFeUEZ3G1UWGfJB\n",
       "oKQddmaWZHTyGkOqu7joSi6gEaZvo4LZ8UCsL3WxDY/+mU33wnk7DE8yWl9l9FEBMhfAvBI8kUSp\n",
       "OQVwDuC7P2kgddetF1C+UA2zXg0Uu0AFe/eg98UWkYYdkcrg2EcYwKObfqyvGL96n2Mi03x/pKgG\n",
       "mpv2x968TQ9Xn20LlgCQwr3JwOKT8vskZh+lluRf394UeZHK33EZI4GmLtyi9Mxv2z0lkSJ9xXM6\n",
       "BAmBZm1S9dLlxP01caA7WwgUyJBj9eqzJ52CrrhlvVTE9uTdA9XDcbRygyDYxJelVywCaMtWDyU0\n",
       "Tur2v294X0bbA8/Yd2EkkEGKwNPLlUigre4o8xbB1zWzSwFtuUYhGWCeeFnUevpaBmTWKARKkpNH\n",
       "bend2P8ENEsWQynBuUWQ2UepTr+K9tkQQF8vPRztjPuapkTI1faKKA7SztFoYfTHBFwKu5Xaw5gl\n",
       "CqRazHcmf27f9GgWclujgI6JV6EHavTBLbM+wO1x6oYbwkBqAdToF3ntqpvfkNsfUKPWWB2GWvHo\n",
       "F3nzOs1t4zlKxH2/6Lk7Wq90d9wtnHbsh51I/6i3FG1zGCCeRI05lCCFlpKCbHeYXyzyQx6AyEnb\n",
       "GQLodZ5zmq9lIwVxHHQ2/4JzAOKfu/cN8bvTXoBFTpvxl3xeWIHAeGZ5mRMs1uM+/cgQTYSI1OKs\n",
       "g8tffag24ttp5/QVdtpxclVaVx7QtOUdDr1B+zeZ53RBHlAd86pBkJSM3ajKA8riGTJl/MYEGpX4\n",
       "u6CO2TD58ax18UFkVQpI35QIBH+gv3dKSdaOsgWZQPE2GLf/Ydao0ZQJZG6g8/kpAxipex6k2jZQ\n",
       "2y/FGDvSjsoFUtqKpfqnB2Pb1aB5T1bkAuk7Ihw/gWT7NGIBEqnwHw2TpwG4WWnpAAAAAElFTkSu\n",
       "QmCC\n",
       "\" style=\"display:inline;vertical-align:middle;\" /></a> <a class=\"ProveItLink\" href=\"../../../__pv_it/_proof_sum_first_n_int/f2fa77530e8c9711784b7c50c1e69a72c780330b0/proof.ipynb\" style=\"text-decoration: none\">&nbsp;&#x22A2;&nbsp;&nbsp;</a><a class=\"ProveItLink\" href=\"../../../__pv_it/_proof_sum_first_n_int/de535c7822f2333a838c203cb655725e0cf0f6850/expr.ipynb\"><img src=\"data:image/png;base64,iVBORw0KGgoAAAANSUhEUgAAANAAAAA/BAMAAABjmFsQAAAAMFBMVEX///92dnZEREQiIiKqqqpU\n",
       "VFTMzMyYmJgQEBDu7u7c3Ny6uroyMjKIiIhmZmYAAABumYecAAAAAXRSTlMAQObYZgAAAAlwSFlz\n",
       "AAAOxAAADsQBlSsOGwAABMRJREFUWMO1WF2IG1UUPplkMpmZJBt9rm4UFEGk0WCpIG4eFPZt8yJW\n",
       "6NIUX3xQGlb0RehuaWmpKA2CdCliRvyriibQF0HWDYqIUtxYLLiibWnB+rDdTbvbbLPtdrx3fu9N\n",
       "7tzedK8HdhPmzJzv3nO+8525AcB2BZim/wxyLdOKcJyRDDRvRTiUnFQc/YjzoV1+9WxmqkJ5DkkF\n",
       "yrqZO/5NNVXOlCnXeE0m0D53F5//BSOVLJ2s+AWZQD96n5PwMsRLlCuxIRjD4DmtvmCHEcsaSfqe\n",
       "7wWBfuc557z05L1FddCeprL0PRMVIZxEJD2TT6H2qbol8rJlluEX+GSRvi8lVqT3oxzvLfXQf7fx\n",
       "93AZ2RECutx/waz6YoCB9ju9cpsXwVwXApoZyGWbBErhLtG63BBvC5WoxQdK4/0p/OSsMOTJPHvi\n",
       "vseS9zwaJhhxYe7FD8+0997bZAHFsAyM5LlAE9XBazFlEupvwnhwAa8491BbX28mZlhAGt7xPF84\n",
       "G+XBa9+ijmi0YToUkBKYzSfA2AStwwJy4FfwZtM2YW2K3zODQLV6EyZqsIS/1/FiU03Q9ZuQ6Lm6\n",
       "mS0Wdx4sFssBUBLDL2BGJGyPEifmdtlUaKXHyidglAOBGiIgSHQwSirH2pGJQ666zbQaRHltjRqK\n",
       "awyg3QCPg7mhE6kDtQXxHBptNVbqCkh4rrm32mEtLlI8ZbXZAUCJUlufBdtGYdFeUEZ3G1UWGfJB\n",
       "oKQddmaWZHTyGkOqu7joSi6gEaZvo4LZ8UCsL3WxDY/+mU33wnk7DE8yWl9l9FEBMhfAvBI8kUSp\n",
       "OQVwDuC7P2kgddetF1C+UA2zXg0Uu0AFe/eg98UWkYYdkcrg2EcYwKObfqyvGL96n2Mi03x/pKgG\n",
       "mpv2x968TQ9Xn20LlgCQwr3JwOKT8vskZh+lluRf394UeZHK33EZI4GmLtyi9Mxv2z0lkSJ9xXM6\n",
       "BAmBZm1S9dLlxP01caA7WwgUyJBj9eqzJ52CrrhlvVTE9uTdA9XDcbRygyDYxJelVywCaMtWDyU0\n",
       "Tur2v294X0bbA8/Yd2EkkEGKwNPLlUigre4o8xbB1zWzSwFtuUYhGWCeeFnUevpaBmTWKARKkpNH\n",
       "bend2P8ENEsWQynBuUWQ2UepTr+K9tkQQF8vPRztjPuapkTI1faKKA7SztFoYfTHBFwKu5Xaw5gl\n",
       "CqRazHcmf27f9GgWclujgI6JV6EHavTBLbM+wO1x6oYbwkBqAdToF3ntqpvfkNsfUKPWWB2GWvHo\n",
       "F3nzOs1t4zlKxH2/6Lk7Wq90d9wtnHbsh51I/6i3FG1zGCCeRI05lCCFlpKCbHeYXyzyQx6AyEnb\n",
       "GQLodZ5zmq9lIwVxHHQ2/4JzAOKfu/cN8bvTXoBFTpvxl3xeWIHAeGZ5mRMs1uM+/cgQTYSI1OKs\n",
       "g8tffag24ttp5/QVdtpxclVaVx7QtOUdDr1B+zeZ53RBHlAd86pBkJSM3ajKA8riGTJl/MYEGpX4\n",
       "u6CO2TD58ax18UFkVQpI35QIBH+gv3dKSdaOsgWZQPE2GLf/Ydao0ZQJZG6g8/kpAxipex6k2jZQ\n",
       "2y/FGDvSjsoFUtqKpfqnB2Pb1aB5T1bkAuk7Ihw/gWT7NGIBEqnwHw2TpwG4WWnpAAAAAElFTkSu\n",
       "QmCC\n",
       "\" style=\"display:inline;vertical-align:middle;\" /></a></span><br>"
      ],
      "text/plain": [
       "<IPython.core.display.HTML object>"
      ]
     },
     "metadata": {},
     "output_type": "display_data"
    }
   ],
   "source": [
    "inductive_hypothesis_judgment = inductive_hypothesis.prove()"
   ]
  },
  {
   "cell_type": "code",
   "execution_count": 14,
   "metadata": {},
   "outputs": [
    {
     "data": {
      "text/html": [
       "<strong id=\"sum_one_to_m_plus_one_simplified_01\">sum_one_to_m_plus_one_simplified_01:</strong> <span style=\"font-size:20px;\"><a class=\"ProveItLink\" href=\"../../../../number_sets/natural_numbers/__pv_it/theorems/5fb53e9c076547ad508281e2a2445cff05af57920/expr.ipynb\"><img src=\"data:image/png;base64,iVBORw0KGgoAAAANSUhEUgAAAEYAAAATBAMAAADfQ2bzAAAAMFBMVEX///8yMjJmZmYiIiIQEBCq\n",
       "qqqYmJjMzMxERER2dnbc3Nzu7u5UVFSIiIi6uroAAACibcT0AAAAAXRSTlMAQObYZgAAAAlwSFlz\n",
       "AAAOxAAADsQBlSsOGwAAAQ9JREFUKM9jYCAAFBgIgwZK1HDbd0gzcPr74TWHI+ANA8N+/HbxWHEm\n",
       "MLAwMHV0eHS04VITwSDFwIzdHN5mY0OwmmUXFuJQwye7AWrOguO8E+Bq+O7smtvLPrMPLLVwA8yu\n",
       "BRwMfXA1nBxnGfbnMYSApaTg7lnArrB5Myyc3zE3MKy/wJAPlhJAqGFIZW2B8Tbsf8AQv4FBEcRm\n",
       "dzY2NraAquHZcATuzngGkAJPcPA2IJnDfWAzXM1BBgZLBr5f3CC2AZIahloOuBpPBu5/DDwCy0Ds\n",
       "u/C4KACGVQWMx/Wdge0DA8eECSAOYwBUFMxQhAebAQOvAgOf7gKwg068Bguyy3sAyY3Y44lvBiQu\n",
       "UAAA9FQ8d6roA+kAAAAASUVORK5CYII=\n",
       "\" style=\"display:inline;vertical-align:middle;\" /></a>, <a class=\"ProveItLink\" href=\"../../../__pv_it/_proof_sum_first_n_int/de535c7822f2333a838c203cb655725e0cf0f6850/expr.ipynb\"><img src=\"data:image/png;base64,iVBORw0KGgoAAAANSUhEUgAAANAAAAA/BAMAAABjmFsQAAAAMFBMVEX///92dnZEREQiIiKqqqpU\n",
       "VFTMzMyYmJgQEBDu7u7c3Ny6uroyMjKIiIhmZmYAAABumYecAAAAAXRSTlMAQObYZgAAAAlwSFlz\n",
       "AAAOxAAADsQBlSsOGwAABMRJREFUWMO1WF2IG1UUPplkMpmZJBt9rm4UFEGk0WCpIG4eFPZt8yJW\n",
       "6NIUX3xQGlb0RehuaWmpKA2CdCliRvyriibQF0HWDYqIUtxYLLiibWnB+rDdTbvbbLPtdrx3fu9N\n",
       "7tzedK8HdhPmzJzv3nO+8525AcB2BZim/wxyLdOKcJyRDDRvRTiUnFQc/YjzoV1+9WxmqkJ5DkkF\n",
       "yrqZO/5NNVXOlCnXeE0m0D53F5//BSOVLJ2s+AWZQD96n5PwMsRLlCuxIRjD4DmtvmCHEcsaSfqe\n",
       "7wWBfuc557z05L1FddCeprL0PRMVIZxEJD2TT6H2qbol8rJlluEX+GSRvi8lVqT3oxzvLfXQf7fx\n",
       "93AZ2RECutx/waz6YoCB9ju9cpsXwVwXApoZyGWbBErhLtG63BBvC5WoxQdK4/0p/OSsMOTJPHvi\n",
       "vseS9zwaJhhxYe7FD8+0997bZAHFsAyM5LlAE9XBazFlEupvwnhwAa8491BbX28mZlhAGt7xPF84\n",
       "G+XBa9+ijmi0YToUkBKYzSfA2AStwwJy4FfwZtM2YW2K3zODQLV6EyZqsIS/1/FiU03Q9ZuQ6Lm6\n",
       "mS0Wdx4sFssBUBLDL2BGJGyPEifmdtlUaKXHyidglAOBGiIgSHQwSirH2pGJQ666zbQaRHltjRqK\n",
       "awyg3QCPg7mhE6kDtQXxHBptNVbqCkh4rrm32mEtLlI8ZbXZAUCJUlufBdtGYdFeUEZ3G1UWGfJB\n",
       "oKQddmaWZHTyGkOqu7joSi6gEaZvo4LZ8UCsL3WxDY/+mU33wnk7DE8yWl9l9FEBMhfAvBI8kUSp\n",
       "OQVwDuC7P2kgddetF1C+UA2zXg0Uu0AFe/eg98UWkYYdkcrg2EcYwKObfqyvGL96n2Mi03x/pKgG\n",
       "mpv2x968TQ9Xn20LlgCQwr3JwOKT8vskZh+lluRf394UeZHK33EZI4GmLtyi9Mxv2z0lkSJ9xXM6\n",
       "BAmBZm1S9dLlxP01caA7WwgUyJBj9eqzJ52CrrhlvVTE9uTdA9XDcbRygyDYxJelVywCaMtWDyU0\n",
       "Tur2v294X0bbA8/Yd2EkkEGKwNPLlUigre4o8xbB1zWzSwFtuUYhGWCeeFnUevpaBmTWKARKkpNH\n",
       "bend2P8ENEsWQynBuUWQ2UepTr+K9tkQQF8vPRztjPuapkTI1faKKA7SztFoYfTHBFwKu5Xaw5gl\n",
       "CqRazHcmf27f9GgWclujgI6JV6EHavTBLbM+wO1x6oYbwkBqAdToF3ntqpvfkNsfUKPWWB2GWvHo\n",
       "F3nzOs1t4zlKxH2/6Lk7Wq90d9wtnHbsh51I/6i3FG1zGCCeRI05lCCFlpKCbHeYXyzyQx6AyEnb\n",
       "GQLodZ5zmq9lIwVxHHQ2/4JzAOKfu/cN8bvTXoBFTpvxl3xeWIHAeGZ5mRMs1uM+/cgQTYSI1OKs\n",
       "g8tffag24ttp5/QVdtpxclVaVx7QtOUdDr1B+zeZ53RBHlAd86pBkJSM3ajKA8riGTJl/MYEGpX4\n",
       "u6CO2TD58ax18UFkVQpI35QIBH+gv3dKSdaOsgWZQPE2GLf/Ydao0ZQJZG6g8/kpAxipex6k2jZQ\n",
       "2y/FGDvSjsoFUtqKpfqnB2Pb1aB5T1bkAuk7Ihw/gWT7NGIBEqnwHw2TpwG4WWnpAAAAAElFTkSu\n",
       "QmCC\n",
       "\" style=\"display:inline;vertical-align:middle;\" /></a> <a class=\"ProveItLink\" href=\"../../../__pv_it/_proof_sum_first_n_int/9fce4946172139224f4231df7a3c93bb0d5883a70/proof.ipynb\" style=\"text-decoration: none\">&nbsp;&#x22A2;&nbsp;&nbsp;</a><a class=\"ProveItLink\" href=\"../../../__pv_it/_proof_sum_first_n_int/a404215d9e9ca4094548c0b26cda625e35d84b7a0/expr.ipynb\"><img src=\"data:image/png;base64,iVBORw0KGgoAAAANSUhEUgAAAVEAAAA/BAMAAACr0ebvAAAAMFBMVEX///92dnZEREQiIiKqqqpU\n",
       "VFTMzMyYmJgQEBDu7u7c3Ny6uroyMjKIiIhmZmYAAABumYecAAAAAXRSTlMAQObYZgAAAAlwSFlz\n",
       "AAAOxAAADsQBlSsOGwAABmdJREFUaN7NmltoHFUYx7+9zs5uZncVfGtNjFhDpWR1W6VYmy31IYJl\n",
       "t0jxQmNWfOmDJSGICBYS760XEvpSEWG3XitFdsGHFrxkLZSiFLNUg23RNrYPitgkbXNtLuOZmczl\n",
       "7HxnZjIOYQ5sdvbsmTO/c77L+Z+zAZDKNaDLkZp6xf8IfipCTb9Oklf0j4z2+ZyvSIfL+nVQ+hPW\n",
       "SYNpH4HybwP31/5Roa+IkPJv+Ig0WYMjJ3tjBaGAkELnkH9Ie4rw5e+QKibTGGlozD+kp8mrC/ZB\n",
       "KAdXWttaW3sp0vAt5o0b0NqyxaPibvgODxlR3iJBXolicwqnWD1EetFEkrN4aKLugjS6VTVvCxnr\n",
       "JJnVviRKmi8yetiN1u5gPvF5Mje/uZnUnaqbkklIFOAn+OzCCml83XXD2GMMR+VqaCKpsTLMsyOE\n",
       "tMlNfAYKyns3VRs0p4ZJ/P5jqEMmTS5xQr24TCg5V/H5kDLWZfpJZt+axW9/BK2NmWp2GUnhkBtS\n",
       "JVNyM3bt3sONP4BWP25DesYNaZNsieCkXbsJ1MwxeZn97umj5+rP3V7Vqv8kRhj9cP2m6G33oaR3\n",
       "uCFNyJky1WLXLo9mI/m5kL6nzs9Ww/r8kjkLBLug9Ap0oqQHXKd8GLaVIJUCVrtFHmz1AYgvAafb\n",
       "ZTPANyTvVerQj5J2uiLNS7dOKJYbEfWy1GBnzCOjsnvz/AKE5yXlQK4XpZp3AYZKVanrf6WPV7PZ\n",
       "g9nsFp20xxVpScqaI0qGy4tKguePjw7O0c2C89gCpeCHJyVMxWe3r5BCHiTMV9E5PemKNCgtRTdX\n",
       "nixq6xLXQS+IwhQWUIpLRGoQShOBO2SwPuwFuJ9EAY+R7nRFypGQit9Y+dAxredUOsjCy5gA61Uz\n",
       "ALH13rgWdJtAmk3iFJHaFxhpnzsJPWvA6BH1EP+HdskbWOgrqatSlCLnroBWT7JQfEYKsWA63UDa\n",
       "XFaymBvx9SYxrRo+gqjLO44e0E2kizbl7WuASwDfX9RlCEkIGRDGIHGtTJPuGTxN5uJhd+LrbmJp\n",
       "zQnbG4EOv75yISJdvMboOlRkrlHyHGXcia9mElXaYvqB2KgeflZd2CyA+GWW748xFQouYJyJr/4q\n",
       "NGk2T4iNMa5+HjF7UnSJNREbLUPjY9MAnImvnjrE9GTZPEfPXUL9qr1qemJ4irmXsCTdaHIKZ+Kr\n",
       "NAYpfSFsEmlDBNS1qdvs82wFFrfagAhlE48z8ZUqGEn5weu01iqE7xxikAq3/u8+c9eqxBfRUQZS\n",
       "bUVVF9veR4/JTjShuBJZw7PqGh6Y94rUmfiK1aBkIE2KlCLPH8+9UDaQUjHsGakz8RXKQMkolDqo\n",
       "iP77JTXUzK4XUQaYEldfJmmJ5Ux8hQZo0gqVl7eNF+1IPZhTZ+KrkfS8MXHyU4kZitTop55a34H4\n",
       "ItY3RlSCSj3cPD8lAMNPA57FvjPxRSLKSNpDZaNIjZ8JsEiFGa9InYmvGJ1P36d1dg4uXVh95l8t\n",
       "qTPxlRqD2GTDrhopCGl4wRIjPn6q6JDUmfgqpSGkh0Yrq9N281OjszZCJLBgQ3piVeKLKBRd9SW3\n",
       "6jNG39qBqPJlS4xnAA46dQNH4iufg6Q29pd1nhfp1oNID9ss+x8cgu6y04NcJ+MgmyFh1pyiwg0b\n",
       "/Dmkh6cs+3+COHfRIakj8dVN3ETVTxUtbPgJ2nXi2D6q3+4gtAO8LGQzlJhuTFGfdtOSSmtC76Jz\n",
       "1l2zNwVuSnxJPaMhKWrxrFyyg6LYMIfcEvtkgllCBS9JpZMJ1UoTBrXTkIGSWJZPDlj3fcVT40cy\n",
       "zNNRSvtjuilhnS85T6cUUlLU9ffaNstgtdst79kB8bKHpHL8VsbsmvWkYbXBH02D4OWvmLLUjGXs\n",
       "ml1GM2PM6oT4k/Hxqx6CKqfn9nu3NtwTre7rEMVFD0mDBTVVWZ8ITuP1P8CalWHFk84qU6T/vMQf\n",
       "cCRF95XXjHTzSmiUtZ2XUvb/QicphiMLLWsFqv4aWZJDI25ImvQJd4WVxnavFem31GrDtXyVxkmb\n",
       "mStCbm1Ao+r/F/FySEUuPvZOspWUextIeXbEbVgb0o+0zHxeTo+/QhGd02QGfFNC0qJaGS/iflqp\n",
       "+odUXgH6Epkyav094KOyjry6ohk0orhDfiIN1qWd1ZOq+Y+OrNe/O1b0Eyn/IPu7M+Cr8jl7EL6J\n",
       "p/8AAWQ02kSdLjkAAAAASUVORK5CYII=\n",
       "\" style=\"display:inline;vertical-align:middle;\" /></a></span><br>"
      ],
      "text/plain": [
       "<IPython.core.display.HTML object>"
      ]
     },
     "metadata": {},
     "output_type": "display_data"
    }
   ],
   "source": [
    "sum_one_to_m_plus_one_simplified_01 = inductive_hypothesis.sub_right_side_into(\n",
    "    sum_one_to_m_plus_one_split, auto_simplify=False)"
   ]
  },
  {
   "cell_type": "code",
   "execution_count": 16,
   "metadata": {},
   "outputs": [
    {
     "data": {
      "text/html": [
       "<strong id=\"alg_manip_01\">alg_manip_01:</strong> <span style=\"font-size:20px;\"><a class=\"ProveItLink\" href=\"../../../../number_sets/natural_numbers/__pv_it/theorems/5fb53e9c076547ad508281e2a2445cff05af57920/expr.ipynb\"><img src=\"data:image/png;base64,iVBORw0KGgoAAAANSUhEUgAAAEYAAAATBAMAAADfQ2bzAAAAMFBMVEX///8yMjJmZmYiIiIQEBCq\n",
       "qqqYmJjMzMxERER2dnbc3Nzu7u5UVFSIiIi6uroAAACibcT0AAAAAXRSTlMAQObYZgAAAAlwSFlz\n",
       "AAAOxAAADsQBlSsOGwAAAQ9JREFUKM9jYCAAFBgIgwZK1HDbd0gzcPr74TWHI+ANA8N+/HbxWHEm\n",
       "MLAwMHV0eHS04VITwSDFwIzdHN5mY0OwmmUXFuJQwye7AWrOguO8E+Bq+O7smtvLPrMPLLVwA8yu\n",
       "BRwMfXA1nBxnGfbnMYSApaTg7lnArrB5Myyc3zE3MKy/wJAPlhJAqGFIZW2B8Tbsf8AQv4FBEcRm\n",
       "dzY2NraAquHZcATuzngGkAJPcPA2IJnDfWAzXM1BBgZLBr5f3CC2AZIahloOuBpPBu5/DDwCy0Ds\n",
       "u/C4KACGVQWMx/Wdge0DA8eECSAOYwBUFMxQhAebAQOvAgOf7gKwg068Bguyy3sAyY3Y44lvBiQu\n",
       "UAAA9FQ8d6roA+kAAAAASUVORK5CYII=\n",
       "\" style=\"display:inline;vertical-align:middle;\" /></a> <a class=\"ProveItLink\" href=\"../../../__pv_it/_proof_sum_first_n_int/016a88d289e6ddc0c718281309bed9def7ddd3990/proof.ipynb\" style=\"text-decoration: none\">&nbsp;&#x22A2;&nbsp;&nbsp;</a><a class=\"ProveItLink\" href=\"../../../__pv_it/_proof_sum_first_n_int/bb3a13c7a9e6cceaeefd48d8da2a3ef7274b43740/expr.ipynb\"><img src=\"data:image/png;base64,iVBORw0KGgoAAAANSUhEUgAAAMIAAAAtBAMAAAAO3alVAAAAMFBMVEX////MzMxUVFRERES6uroi\n",
       "IiIQEBCYmJhmZmYyMjLu7u52dnaqqqqIiIjc3NwAAACW8nlqAAAAAXRSTlMAQObYZgAAAAlwSFlz\n",
       "AAAOxAAADsQBlSsOGwAAAmtJREFUWMO1lj+I01Acx79NkzSmabnF6Ya7STlBiOImJxkUXA5rJSLq\n",
       "0EEnl3I43GYX8YoI2QSnopOLDTqKeJMgDhd0ERHJIgqilwNBLNj6Xs/m0pDXmPf6vtCSxwu/z+/9\n",
       "+X3zAwRVnzUZYg76OGtyjS/m1+6x/YHls14rXQZqba5tsfHSiUePWa897A7I/wMeghJCb8WjO+lp\n",
       "dZJ2jRI2eAj6AMowHrXS01aQJOg9njU0oOzG8bzZhANtvrPWosmTQQ567ci3d8HiMyeLUF3mIyxN\n",
       "ooxz9I8H5i/HamURKh4fobm/mi2ozgXU/6ASZRGsFhfAsOl/n6anOzDNn7AGMOjQcN2L1113OSaU\n",
       "Ii7C+l76nT0CrIiG1/2sNahcayBl/COxS1A8aD7Ohb2sXWrwEBaBD5PnMolHsu87WKm3s07azjPA\n",
       "jLn6pc3NODN6G3cWcAs4WU3tUnX47zajtlXMHLXRaBTfwRJhnQHeA2c/TROUQ78Pk5dplbwRMsfz\n",
       "zJoe6zP5mZ6QOW4wnS82RqMtZI7lMMfpyU0QM0fTzuW/FjTH77Mmx6d/l+zL2ycvVkvPT8zTHBO6\n",
       "T6KUj6J/E6/Y5njbpWryEa4CpzUbOwEtm7mZY1LXgB4p+u0eunM0xxQB26Dhb/yfOY4Kiu4SVoAr\n",
       "UIcm0xyFzmEVNHvyFVG8L0xzFNJTUnm79BtY9n2WOYrpINnrBmodqPdCljmKSVvINUdBVTq55li4\n",
       "XU7pVK45Fm6XU3rEb86sdjmND/LMsXC7LENT7bIsaZFswlIgm9CUDTBs2YR12YBkuyxHyXZZiqba\n",
       "ZTnFkGyXp/UXIBXuyhuH14kAAAAASUVORK5CYII=\n",
       "\" style=\"display:inline;vertical-align:middle;\" /></a></span><br>"
      ],
      "text/plain": [
       "<IPython.core.display.HTML object>"
      ]
     },
     "metadata": {},
     "output_type": "display_data"
    }
   ],
   "source": [
    "alg_manip_01 = Equals(Add(m, one), frac(Mult(two, Add(m, one)), two)).prove()"
   ]
  },
  {
   "cell_type": "code",
   "execution_count": 17,
   "metadata": {},
   "outputs": [
    {
     "data": {
      "text/html": [
       "<strong id=\"sum_one_to_m_plus_one_simplified_02\">sum_one_to_m_plus_one_simplified_02:</strong> <span style=\"font-size:20px;\"><a class=\"ProveItLink\" href=\"../../../../number_sets/natural_numbers/__pv_it/theorems/5fb53e9c076547ad508281e2a2445cff05af57920/expr.ipynb\"><img src=\"data:image/png;base64,iVBORw0KGgoAAAANSUhEUgAAAEYAAAATBAMAAADfQ2bzAAAAMFBMVEX///8yMjJmZmYiIiIQEBCq\n",
       "qqqYmJjMzMxERER2dnbc3Nzu7u5UVFSIiIi6uroAAACibcT0AAAAAXRSTlMAQObYZgAAAAlwSFlz\n",
       "AAAOxAAADsQBlSsOGwAAAQ9JREFUKM9jYCAAFBgIgwZK1HDbd0gzcPr74TWHI+ANA8N+/HbxWHEm\n",
       "MLAwMHV0eHS04VITwSDFwIzdHN5mY0OwmmUXFuJQwye7AWrOguO8E+Bq+O7smtvLPrMPLLVwA8yu\n",
       "BRwMfXA1nBxnGfbnMYSApaTg7lnArrB5Myyc3zE3MKy/wJAPlhJAqGFIZW2B8Tbsf8AQv4FBEcRm\n",
       "dzY2NraAquHZcATuzngGkAJPcPA2IJnDfWAzXM1BBgZLBr5f3CC2AZIahloOuBpPBu5/DDwCy0Ds\n",
       "u/C4KACGVQWMx/Wdge0DA8eECSAOYwBUFMxQhAebAQOvAgOf7gKwg068Bguyy3sAyY3Y44lvBiQu\n",
       "UAAA9FQ8d6roA+kAAAAASUVORK5CYII=\n",
       "\" style=\"display:inline;vertical-align:middle;\" /></a>, <a class=\"ProveItLink\" href=\"../../../__pv_it/_proof_sum_first_n_int/de535c7822f2333a838c203cb655725e0cf0f6850/expr.ipynb\"><img src=\"data:image/png;base64,iVBORw0KGgoAAAANSUhEUgAAANAAAAA/BAMAAABjmFsQAAAAMFBMVEX///92dnZEREQiIiKqqqpU\n",
       "VFTMzMyYmJgQEBDu7u7c3Ny6uroyMjKIiIhmZmYAAABumYecAAAAAXRSTlMAQObYZgAAAAlwSFlz\n",
       "AAAOxAAADsQBlSsOGwAABMRJREFUWMO1WF2IG1UUPplkMpmZJBt9rm4UFEGk0WCpIG4eFPZt8yJW\n",
       "6NIUX3xQGlb0RehuaWmpKA2CdCliRvyriibQF0HWDYqIUtxYLLiibWnB+rDdTbvbbLPtdrx3fu9N\n",
       "7tzedK8HdhPmzJzv3nO+8525AcB2BZim/wxyLdOKcJyRDDRvRTiUnFQc/YjzoV1+9WxmqkJ5DkkF\n",
       "yrqZO/5NNVXOlCnXeE0m0D53F5//BSOVLJ2s+AWZQD96n5PwMsRLlCuxIRjD4DmtvmCHEcsaSfqe\n",
       "7wWBfuc557z05L1FddCeprL0PRMVIZxEJD2TT6H2qbol8rJlluEX+GSRvi8lVqT3oxzvLfXQf7fx\n",
       "93AZ2RECutx/waz6YoCB9ju9cpsXwVwXApoZyGWbBErhLtG63BBvC5WoxQdK4/0p/OSsMOTJPHvi\n",
       "vseS9zwaJhhxYe7FD8+0997bZAHFsAyM5LlAE9XBazFlEupvwnhwAa8491BbX28mZlhAGt7xPF84\n",
       "G+XBa9+ijmi0YToUkBKYzSfA2AStwwJy4FfwZtM2YW2K3zODQLV6EyZqsIS/1/FiU03Q9ZuQ6Lm6\n",
       "mS0Wdx4sFssBUBLDL2BGJGyPEifmdtlUaKXHyidglAOBGiIgSHQwSirH2pGJQ666zbQaRHltjRqK\n",
       "awyg3QCPg7mhE6kDtQXxHBptNVbqCkh4rrm32mEtLlI8ZbXZAUCJUlufBdtGYdFeUEZ3G1UWGfJB\n",
       "oKQddmaWZHTyGkOqu7joSi6gEaZvo4LZ8UCsL3WxDY/+mU33wnk7DE8yWl9l9FEBMhfAvBI8kUSp\n",
       "OQVwDuC7P2kgddetF1C+UA2zXg0Uu0AFe/eg98UWkYYdkcrg2EcYwKObfqyvGL96n2Mi03x/pKgG\n",
       "mpv2x968TQ9Xn20LlgCQwr3JwOKT8vskZh+lluRf394UeZHK33EZI4GmLtyi9Mxv2z0lkSJ9xXM6\n",
       "BAmBZm1S9dLlxP01caA7WwgUyJBj9eqzJ52CrrhlvVTE9uTdA9XDcbRygyDYxJelVywCaMtWDyU0\n",
       "Tur2v294X0bbA8/Yd2EkkEGKwNPLlUigre4o8xbB1zWzSwFtuUYhGWCeeFnUevpaBmTWKARKkpNH\n",
       "bend2P8ENEsWQynBuUWQ2UepTr+K9tkQQF8vPRztjPuapkTI1faKKA7SztFoYfTHBFwKu5Xaw5gl\n",
       "CqRazHcmf27f9GgWclujgI6JV6EHavTBLbM+wO1x6oYbwkBqAdToF3ntqpvfkNsfUKPWWB2GWvHo\n",
       "F3nzOs1t4zlKxH2/6Lk7Wq90d9wtnHbsh51I/6i3FG1zGCCeRI05lCCFlpKCbHeYXyzyQx6AyEnb\n",
       "GQLodZ5zmq9lIwVxHHQ2/4JzAOKfu/cN8bvTXoBFTpvxl3xeWIHAeGZ5mRMs1uM+/cgQTYSI1OKs\n",
       "g8tffag24ttp5/QVdtpxclVaVx7QtOUdDr1B+zeZ53RBHlAd86pBkJSM3ajKA8riGTJl/MYEGpX4\n",
       "u6CO2TD58ax18UFkVQpI35QIBH+gv3dKSdaOsgWZQPE2GLf/Ydao0ZQJZG6g8/kpAxipex6k2jZQ\n",
       "2y/FGDvSjsoFUtqKpfqnB2Pb1aB5T1bkAuk7Ihw/gWT7NGIBEqnwHw2TpwG4WWnpAAAAAElFTkSu\n",
       "QmCC\n",
       "\" style=\"display:inline;vertical-align:middle;\" /></a> <a class=\"ProveItLink\" href=\"../../../__pv_it/_proof_sum_first_n_int/1073853374bd9dafb22e6ee88dc3c4ff680f40f60/proof.ipynb\" style=\"text-decoration: none\">&nbsp;&#x22A2;&nbsp;&nbsp;</a><a class=\"ProveItLink\" href=\"../../../__pv_it/_proof_sum_first_n_int/c08bbcc077ad55e01d92f4587642dc6e1b36688e0/expr.ipynb\"><img src=\"data:image/png;base64,iVBORw0KGgoAAAANSUhEUgAAAW8AAAA/BAMAAADd61RkAAAAMFBMVEX///92dnZEREQiIiKqqqpU\n",
       "VFTMzMyYmJgQEBDu7u7c3Ny6uroyMjKIiIhmZmYAAABumYecAAAAAXRSTlMAQObYZgAAAAlwSFlz\n",
       "AAAOxAAADsQBlSsOGwAABwNJREFUaN7NWmtoHFUUPvvemd2ZXQXBHy2JUWuolK6mVYra3dI/VSzZ\n",
       "IqVVWrPFP/1TEoKCYDFR1LZWyVKQigi7tT6qorugkILWroVSLMUs1WJb1MYWLEqbbB9JmjTJeOfO\n",
       "zs7rPjYMuHNhN7N35pz73XPP+c65cwOgtqtgbfsr+pXwE3i4SRXjWkaf8B+pxu/TXgZ+tGhc+9Wv\n",
       "oAHcn/QubmEXRC7vOCP15wjAhTe8C1yuwP7DfdGslCUAh3V5zwLvzcHnv0MiJydJwAOjngV+HH22\n",
       "wnYIZOBiR2dHR58FeHCGKriE2FtkDCXy0RR59/blzcjeQvRRCpMsDsdoakJ9RIrKMEaOVbkMxxI/\n",
       "on6FV+m+0I4sUUM275eJwLtzFDUbiL1rqMO+gEz1m7P76ytLmhFX8UrYVGt1F0dzjGXhJHxyrg5c\n",
       "XHTNZJkoxckjFSJFVWjc9fwIAh53hLrYDm1lvvh7V6bRN06HvqzW1WN5wO8knRpZ1SGiN8oO/xnW\n",
       "Ly4g0BGHFUJFiA42IS6pwF/Fl49qc5y3Duz0yyky8CeIvVFHz3ozcNjjEJiG0EwT4hh4NG8wdGSS\n",
       "Fy/vkD1lkNj9NAf4CYfFUxCabEIcA4/jBYnjZfPXeMDHiT4RxbXAkWcPnK5uu9Nw0r/QEp35YPGy\n",
       "8B0PEoHfRVAVqDUhjoFr7h3DK5Ro5wHvJtIehgHJ+6vCVDloWB9Z1OffCoVXYB0R+E5SBqw2IY6B\n",
       "1wnhOK6wuFVUKUvqXYnnXn4YxDmIGCZbAfAdIthSFQaIwNfRVPHEMfC6hbpVTePaMo8oRpuzOQXJ\n",
       "m8PYLwXhNgSn1WoHXc+qPXsB8oWyqvqK+vNSV9furq6VBvBeAhHhNS9U2OIYeFizUEFdohGNWbsV\n",
       "Lc8IX54ZumVV7J8mpU1tNsGailrz99X1kaEb1GFfI1r8sFPVS6aaiC6Ogce0Uf1qgrxRB6I0smUk\n",
       "bU270k1SbGr+E6pAIIkK+rxprWELwEMoggQS8LUOTcEkfAF8cc1VNJARFJ3i9fqN9IRt7QzN86SA\n",
       "6tO5Ba3sFrERv8tANRbyoFDlMxLwfoembQDngC+uBaeGTJgyoepVDPL41+rO10mkonFkKadG0T2+\n",
       "Rj+iO3FSjVZ/MmkD3lbU+M6W8lePjaWaEPepHCjXO99EE9EjUVKM/BWxVhk3CMA7tT/fAPwJ8MN5\n",
       "o5JCjpgCaRRiV4vWkTcOHUemecxB4ogNKnzx0ObZTejhesK4F82h4cDLbfiETt0QCgH46xTuDOSo\n",
       "mRPbN8WmXo74QX3xUIA20u37iq0Aiuu/087dmzBPGdlZRQ2za7AFiV+u/x0oQ7zhIDHFxh4JnVxG\n",
       "nDk/PEcbeikT2EdkQE2Ki+1Gro0aJN12y2rZo/rP5WUnh92kKd/HBL6U7AJNivt1CxZGIWFk67hi\n",
       "reLv1i96nNspek0psnZnUpEHnCne4IBE1gxcGLpm20Sv+YcGXJpxu0Vf70YYVYYm4I20X5/HVPCp\n",
       "XVpdq0UUKhy69LrDN91S4NEKFEzAZcW8PwnOfBs+aQZuYYfWAg+koGAu/dJmrpB36fZvc/pdSJtv\n",
       "Qll4q1mrvoWKa8AHrcBL5vQQ+PlvLvCWWdwG/KyZsAuZozkLcLOPt95VzMEZs3DcQL6QqdJ83DfT\n",
       "6uA0A++10N4WKOSSNODSZGuBW3n8XcvN+0C6ml94Avp/eHwUojVnUWVvBODB20zF4tixnCvgHAWF\n",
       "JASMKOugPbbcqSM8xamlfLc5wIfdKEBFllHWyqsMe1ofSxPeCM0zx30OYLcrR+Io6M6A3JjYywa8\n",
       "F62PDRFEH2eOO5SHnqIb4BwFaOMoTTm5MGh7kXKLILqZOe4zKDByboBzFPQgetArwlIjAoVxa5SK\n",
       "pD3nAO9MK+2WdlgK0MYxNmHnwo97FOtcYxOk8Miwh6VvkZpsLAXinP7iDHHh7CncuoYUxWbhyBz9\n",
       "hRA9KWddAmcpUF8I6SsybirAbFQnk5KNPMge96JbT2EpCKnF4Dg3+uOkSjDG5umIW4MzFSTUGmqg\n",
       "j5tfie9CVjNl1oDoig7ZCjAzlEZ5OnqTsFBaCSdBcnWUzlaAS+toiqfkApFQo6wDgYNjY5dcGZyp\n",
       "QDtK4W97O8lOyJJLK8qsOxJnKfBndU5kNmGC3P8jtKrV31Sd0gxoHFsKO5sqvbcXWwV8RT3KNAB7\n",
       "G/07frGyISUIpPYW4daPxAs4ykQTWVuPO0o0vtzQIuDfW3JgpP2rJBl4GzUxZVqCO6z/Y56AozN0\n",
       "/sm35Q7UHrABF+jBu6QlwD9s8PtZTMu/Qo5ocTkFXm0BNfOXxnJkHy+VPQscJ6L+WKpIdJWN4N22\n",
       "CH22hlPE4Izs8TBwf1U949ik+8qBkcXGvUM5DwMXHqHfOwFebp/S5+TV0PwP5/2HwGSYBd8AAAAA\n",
       "SUVORK5CYII=\n",
       "\" style=\"display:inline;vertical-align:middle;\" /></a></span><br>"
      ],
      "text/plain": [
       "<IPython.core.display.HTML object>"
      ]
     },
     "metadata": {},
     "output_type": "display_data"
    }
   ],
   "source": [
    "sum_one_to_m_plus_one_simplified_02 = alg_manip_01.sub_right_side_into(sum_one_to_m_plus_one_simplified_01.inner_expr().rhs.operands[1])"
   ]
  },
  {
   "cell_type": "code",
   "execution_count": 18,
   "metadata": {},
   "outputs": [
    {
     "data": {
      "text/html": [
       "<strong id=\"sum_one_to_m_plus_one_simplified_03\">sum_one_to_m_plus_one_simplified_03:</strong> <span style=\"font-size:20px;\"><a class=\"ProveItLink\" href=\"../../../../number_sets/natural_numbers/__pv_it/theorems/5fb53e9c076547ad508281e2a2445cff05af57920/expr.ipynb\"><img src=\"data:image/png;base64,iVBORw0KGgoAAAANSUhEUgAAAEYAAAATBAMAAADfQ2bzAAAAMFBMVEX///8yMjJmZmYiIiIQEBCq\n",
       "qqqYmJjMzMxERER2dnbc3Nzu7u5UVFSIiIi6uroAAACibcT0AAAAAXRSTlMAQObYZgAAAAlwSFlz\n",
       "AAAOxAAADsQBlSsOGwAAAQ9JREFUKM9jYCAAFBgIgwZK1HDbd0gzcPr74TWHI+ANA8N+/HbxWHEm\n",
       "MLAwMHV0eHS04VITwSDFwIzdHN5mY0OwmmUXFuJQwye7AWrOguO8E+Bq+O7smtvLPrMPLLVwA8yu\n",
       "BRwMfXA1nBxnGfbnMYSApaTg7lnArrB5Myyc3zE3MKy/wJAPlhJAqGFIZW2B8Tbsf8AQv4FBEcRm\n",
       "dzY2NraAquHZcATuzngGkAJPcPA2IJnDfWAzXM1BBgZLBr5f3CC2AZIahloOuBpPBu5/DDwCy0Ds\n",
       "u/C4KACGVQWMx/Wdge0DA8eECSAOYwBUFMxQhAebAQOvAgOf7gKwg068Bguyy3sAyY3Y44lvBiQu\n",
       "UAAA9FQ8d6roA+kAAAAASUVORK5CYII=\n",
       "\" style=\"display:inline;vertical-align:middle;\" /></a>, <a class=\"ProveItLink\" href=\"../../../__pv_it/_proof_sum_first_n_int/de535c7822f2333a838c203cb655725e0cf0f6850/expr.ipynb\"><img src=\"data:image/png;base64,iVBORw0KGgoAAAANSUhEUgAAANAAAAA/BAMAAABjmFsQAAAAMFBMVEX///92dnZEREQiIiKqqqpU\n",
       "VFTMzMyYmJgQEBDu7u7c3Ny6uroyMjKIiIhmZmYAAABumYecAAAAAXRSTlMAQObYZgAAAAlwSFlz\n",
       "AAAOxAAADsQBlSsOGwAABMRJREFUWMO1WF2IG1UUPplkMpmZJBt9rm4UFEGk0WCpIG4eFPZt8yJW\n",
       "6NIUX3xQGlb0RehuaWmpKA2CdCliRvyriibQF0HWDYqIUtxYLLiibWnB+rDdTbvbbLPtdrx3fu9N\n",
       "7tzedK8HdhPmzJzv3nO+8525AcB2BZim/wxyLdOKcJyRDDRvRTiUnFQc/YjzoV1+9WxmqkJ5DkkF\n",
       "yrqZO/5NNVXOlCnXeE0m0D53F5//BSOVLJ2s+AWZQD96n5PwMsRLlCuxIRjD4DmtvmCHEcsaSfqe\n",
       "7wWBfuc557z05L1FddCeprL0PRMVIZxEJD2TT6H2qbol8rJlluEX+GSRvi8lVqT3oxzvLfXQf7fx\n",
       "93AZ2RECutx/waz6YoCB9ju9cpsXwVwXApoZyGWbBErhLtG63BBvC5WoxQdK4/0p/OSsMOTJPHvi\n",
       "vseS9zwaJhhxYe7FD8+0997bZAHFsAyM5LlAE9XBazFlEupvwnhwAa8491BbX28mZlhAGt7xPF84\n",
       "G+XBa9+ijmi0YToUkBKYzSfA2AStwwJy4FfwZtM2YW2K3zODQLV6EyZqsIS/1/FiU03Q9ZuQ6Lm6\n",
       "mS0Wdx4sFssBUBLDL2BGJGyPEifmdtlUaKXHyidglAOBGiIgSHQwSirH2pGJQ666zbQaRHltjRqK\n",
       "awyg3QCPg7mhE6kDtQXxHBptNVbqCkh4rrm32mEtLlI8ZbXZAUCJUlufBdtGYdFeUEZ3G1UWGfJB\n",
       "oKQddmaWZHTyGkOqu7joSi6gEaZvo4LZ8UCsL3WxDY/+mU33wnk7DE8yWl9l9FEBMhfAvBI8kUSp\n",
       "OQVwDuC7P2kgddetF1C+UA2zXg0Uu0AFe/eg98UWkYYdkcrg2EcYwKObfqyvGL96n2Mi03x/pKgG\n",
       "mpv2x968TQ9Xn20LlgCQwr3JwOKT8vskZh+lluRf394UeZHK33EZI4GmLtyi9Mxv2z0lkSJ9xXM6\n",
       "BAmBZm1S9dLlxP01caA7WwgUyJBj9eqzJ52CrrhlvVTE9uTdA9XDcbRygyDYxJelVywCaMtWDyU0\n",
       "Tur2v294X0bbA8/Yd2EkkEGKwNPLlUigre4o8xbB1zWzSwFtuUYhGWCeeFnUevpaBmTWKARKkpNH\n",
       "bend2P8ENEsWQynBuUWQ2UepTr+K9tkQQF8vPRztjPuapkTI1faKKA7SztFoYfTHBFwKu5Xaw5gl\n",
       "CqRazHcmf27f9GgWclujgI6JV6EHavTBLbM+wO1x6oYbwkBqAdToF3ntqpvfkNsfUKPWWB2GWvHo\n",
       "F3nzOs1t4zlKxH2/6Lk7Wq90d9wtnHbsh51I/6i3FG1zGCCeRI05lCCFlpKCbHeYXyzyQx6AyEnb\n",
       "GQLodZ5zmq9lIwVxHHQ2/4JzAOKfu/cN8bvTXoBFTpvxl3xeWIHAeGZ5mRMs1uM+/cgQTYSI1OKs\n",
       "g8tffag24ttp5/QVdtpxclVaVx7QtOUdDr1B+zeZ53RBHlAd86pBkJSM3ajKA8riGTJl/MYEGpX4\n",
       "u6CO2TD58ax18UFkVQpI35QIBH+gv3dKSdaOsgWZQPE2GLf/Ydao0ZQJZG6g8/kpAxipex6k2jZQ\n",
       "2y/FGDvSjsoFUtqKpfqnB2Pb1aB5T1bkAuk7Ihw/gWT7NGIBEqnwHw2TpwG4WWnpAAAAAElFTkSu\n",
       "QmCC\n",
       "\" style=\"display:inline;vertical-align:middle;\" /></a> <a class=\"ProveItLink\" href=\"../../../__pv_it/_proof_sum_first_n_int/30a960bbe53f1a5472c0df172e66fb3c81bdda080/proof.ipynb\" style=\"text-decoration: none\">&nbsp;&#x22A2;&nbsp;&nbsp;</a><a class=\"ProveItLink\" href=\"../../../__pv_it/_proof_sum_first_n_int/99170c513ec96bdf32c9104869ab4ca350f37e300/expr.ipynb\"><img src=\"data:image/png;base64,iVBORw0KGgoAAAANSUhEUgAAARUAAAA/BAMAAAA8gEE1AAAAMFBMVEX///92dnZEREQiIiKqqqpU\n",
       "VFTMzMyYmJgQEBDu7u7c3Ny6uroyMjKIiIhmZmYAAABumYecAAAAAXRSTlMAQObYZgAAAAlwSFlz\n",
       "AAAOxAAADsQBlSsOGwAABlpJREFUaN69WWuIG1UUPpvXZCY7ySgI/mjZdX0tlbLRtGpRm5T+qaJs\n",
       "ihQf7Lop/dM/JcuiIFjY9bldqyT0T0WEpPVVFU1AoQUfGwtFLMUN1cVa1MYWFKW7mz62+97xztyZ\n",
       "zNyZe5PNg7mQTXJz597vnvOd75x7F0BpU0C2wwX9E/8jONvEgvE5iF6+P8KV72cdxjKeNT67lD8e\n",
       "A4tLchQKPwrcP/smxaEEBQv/mqNYggU4fGLQHxfjFCywI+0klmQCPvkdQomgRMPiLjmJ5RR69cNe\n",
       "cMfgYld3V9cggcWzyHzwrlYhOJQ2L/YGCpicj2YXOMmawTvYKiy+LboTOgGEMrLMUJCKpTfBmGEn\n",
       "e/I9dZJsu06XGEAgDqfhw980LMK6K0VjnJ9BGK7ADMznJurE0hbH7wNEr8seZmX688eytq6A7rUL\n",
       "9QbfA3gTq+TK9gXm6I8/Yu/yFBvFgpWDu1Fr3Ft0F420Eku7SgRXuda4mSyt168mh2+fOXK2uPvm\n",
       "fLNYAqpyhDprjeulxi5eTrqzyM/lPSPNYlFFDsZrJr9cnNa7Wd1O/j4QVoArN42lV3liBtt3Qjba\n",
       "isUbIzR5UmnG80vgWVAyGmJ9JPLgq5FIvDEsGWUbmhT0yljS+M8mU/PkMNcCTXQxQE9ZAeKXmraL\n",
       "S5HXa9rcckVruWiMLLWu06iLHectgFtCBVC6WSwcIq9wVfsSnTU0hqSzZ5WW3Af1aMrkoU8YbBYL\n",
       "P2daKCkb4fIfSY2rtDDCgZ5LwDDAbW0WH3WQMpCtAkLQ3l9HDtCJKspGccCRkK9RpujGb18C/Anw\n",
       "3XkSy67UKbMOiLFqyqI9czvyR4UMPZYl+W6dQTJlildo83qK1OW2sXB8cRmVQL9qpkT8raSAd+QS\n",
       "TZcVKtm9z69S90hVRZ6V0IVO6MhDO559GH2qeCYgW+IlpJt2wu5v30od9bQN4XEtdrOKdnF4y8ki\n",
       "+A3x6Jgn9z+uf+3J271xfe1Y/LaeJ7QfFsCLTDGGxa4EISM1tsukMW/VPwzYuVc7uxvtcRYWbxi8\n",
       "aJ4fsBfiZix86oolXW37l4VFXFw7lr+Q/yffXb/Rd9M9JBalwEXL3wJajjZhqeQBXX08j43iogE7\n",
       "/FJEaZtxUbiwdixo322ufsi8BDtsWBBLYD92WAEyJixBecxMicWvfKfNWAg+1oFlE8DXqMDPFRVZ\n",
       "tGBRdoYRusOQMSfhqDk6gqO6lTrssuHFWwjJzKYM4JeVQQcB0ihRoKrgsmbeA7p51WyTxFhGSCw5\n",
       "81nE/dPfNbHUals1LNALCpCXrXZ5QflzgorlnFlIMrHxBIHFzJc6fQR9APeiQpInsXgk+FQ/HCEf\n",
       "mbkbIAJ1OJ2JFVl8aasjjjaCYhFUdXkLH5NYdgOgM9mQzl0zliQRu32QSUgsLGId+oJiVrih1KEu\n",
       "SSKwCFunp8NqzOOCyKwvbxNT3AHiVLoVWrcHWTwMYgkCU1kCixtRHMnrQzgMSuAv23OhtVGweJbs\n",
       "mW76JP3k7U4wdFd7DgdMRgK3QcIu1sZ67Gv47IfJo9C2RC8fS4zcSKROpHpGzRDcYuyafDRKqcvs\n",
       "NcOzAAfoe9lQ1YVHNdGPQbCylxeNFZ8nR6coMzxs60mlYYBeTB6qimVDpWgV5+wB7bEciOYpMzxt\n",
       "63kSEYtOGKFY7UI3W7nu4PTcnKsQlJ8hHSzQ6t1hWqUfbeJuChWtgVlrQH8wIJPbC8zSziSUerqe\n",
       "Ys9muxU9faGAXj6jtkhKli124FbYZzUyeOONY1HOarpdZ0wp1hKvQZquBSmH7ItNuMgbZt6uEOcB\n",
       "Wk4O2LWEa8IsEFL4PVzzZjQUZpYDlmOQkG0YixoLuVKtYUkJ1hJIPgnExu/r1VLEH6417EKCfUdm\n",
       "au9PT19qGAq+I6tdRXfTiW99LirLyw1jccX1wK5+GzFL7/8eWti0c+EZvE3jupbfv6ZSZW+2hVg2\n",
       "aSTEcx6s9O/7mQxpBqHEztZB0e/gMyoJBZOIbCevMVlBv7N1WL4hFJTr/FyiY+lgamCsVVB8+n97\n",
       "eZW83vOPvhnsQu1uCxaeze2W/S/rvYounVPl4hdIUO0SDIODza2kgtx0gs6XXN5JLKrmDQXCWaqP\n",
       "doGjbR169fvCVO5yY85icRWVCvgp3UlHJtYbvx1LOIuFv7/qRY6z7SM2TAeZ+z9pmu1bi5otTgAA\n",
       "AABJRU5ErkJggg==\n",
       "\" style=\"display:inline;vertical-align:middle;\" /></a></span><br>"
      ],
      "text/plain": [
       "<IPython.core.display.HTML object>"
      ]
     },
     "metadata": {},
     "output_type": "display_data"
    }
   ],
   "source": [
    "sum_one_to_m_plus_one_simplified_03 = sum_one_to_m_plus_one_simplified_02.inner_expr().rhs.factor(\n",
    "    frac(Add(m, one), two))"
   ]
  },
  {
   "cell_type": "code",
   "execution_count": 19,
   "metadata": {},
   "outputs": [
    {
     "data": {
      "text/html": [
       "<strong id=\"alg_manip_02\">alg_manip_02:</strong> <span style=\"font-size:20px;\"><a class=\"ProveItLink\" href=\"../../../../number_sets/natural_numbers/__pv_it/theorems/5fb53e9c076547ad508281e2a2445cff05af57920/expr.ipynb\"><img src=\"data:image/png;base64,iVBORw0KGgoAAAANSUhEUgAAAEYAAAATBAMAAADfQ2bzAAAAMFBMVEX///8yMjJmZmYiIiIQEBCq\n",
       "qqqYmJjMzMxERER2dnbc3Nzu7u5UVFSIiIi6uroAAACibcT0AAAAAXRSTlMAQObYZgAAAAlwSFlz\n",
       "AAAOxAAADsQBlSsOGwAAAQ9JREFUKM9jYCAAFBgIgwZK1HDbd0gzcPr74TWHI+ANA8N+/HbxWHEm\n",
       "MLAwMHV0eHS04VITwSDFwIzdHN5mY0OwmmUXFuJQwye7AWrOguO8E+Bq+O7smtvLPrMPLLVwA8yu\n",
       "BRwMfXA1nBxnGfbnMYSApaTg7lnArrB5Myyc3zE3MKy/wJAPlhJAqGFIZW2B8Tbsf8AQv4FBEcRm\n",
       "dzY2NraAquHZcATuzngGkAJPcPA2IJnDfWAzXM1BBgZLBr5f3CC2AZIahloOuBpPBu5/DDwCy0Ds\n",
       "u/C4KACGVQWMx/Wdge0DA8eECSAOYwBUFMxQhAebAQOvAgOf7gKwg068Bguyy3sAyY3Y44lvBiQu\n",
       "UAAA9FQ8d6roA+kAAAAASUVORK5CYII=\n",
       "\" style=\"display:inline;vertical-align:middle;\" /></a> <a class=\"ProveItLink\" href=\"../../../__pv_it/_proof_sum_first_n_int/84ef19b42802d5a7f61382532143c5f1b5bf81140/proof.ipynb\" style=\"text-decoration: none\">&nbsp;&#x22A2;&nbsp;&nbsp;</a><a class=\"ProveItLink\" href=\"../../../__pv_it/_proof_sum_first_n_int/3a24d5cc09d7af991d7699c00649c60daaae501d0/expr.ipynb\"><img src=\"data:image/png;base64,iVBORw0KGgoAAAANSUhEUgAAAWQAAAAyBAMAAACZlbxNAAAAMFBMVEX////MzMxUVFRERES6uroi\n",
       "IiIQEBCYmJhmZmYyMjLu7u52dnaqqqqIiIjc3NwAAACW8nlqAAAAAXRSTlMAQObYZgAAAAlwSFlz\n",
       "AAAOxAAADsQBlSsOGwAABRRJREFUaN69mkuIHEUYx//T89x5uZcIksMEIdEYNJOgHpTIHHxdQjar\n",
       "HdYXO/gIqIcs0cN62oUQMosIgx4UPTjoyYs7rEeR7MWAhCWNHhSROBDUQIg7qwvJru6uVV39mq6q\n",
       "trq2Z77DTHdPVX3/+eqrr35TDAD0ILdqxF3IpMMcQUJWfMS5qCxHtMpYwbtfogY8LnluzCQlGXs6\n",
       "7P1yZIsfA/flrmwuWh+MoyKRdkguIfV8PMnlCRbttmwa7v2USB7r+E++kA11DaV14GPhZ/m2VMFn\n",
       "C5sxw7xkvxa44DzlXvxK5Obn/Q8ucGnj9H0AOA3MCr38zue42w2VuJKzds8c93wlKBlv+B80uYly\n",
       "Mv1MB4d7yHVEXl4SzK+lK7lsq/nufyR/6Ldvy3zvBw6PY0yUzPlmkpLxEX15l0zU919+cyz19YNC\n",
       "yUte8wJZfcfvu/GDtferRsg3MA2U9gl85OwlK+kWX/KJHotiKX0/Ft/GJaHkd7zmNIrdo1bxVqPc\n",
       "DEtObUkWmj2GrFt8yWM0LC8Cj2frWLUwJ5R8yc/9ZWQaz6C6hXw/LDlLhioLcgCT9nqTdIsvuUx7\n",
       "vAp0Fhu40sECfXbeNE+b5qQvuUavFmkAcw0Ui+u0V4HeFkzz1GumybLhHI10X1B51+x6KekWX3Jx\n",
       "i0nGFVC9bwqj/KQdxHkmGeU+dZzrhsKVpwoygigb7JmkW3zJeIglBg4CLyCzXRRJ/jaYGDDayHbJ\n",
       "IugM+r6Mas/dmwZXH5sESTcNyXNk/R0DjS+ZOaP9h0jyW17rtGUXAJJFB6szA75TXVQ6yNd5D7UZ\n",
       "t24IuulIXpyxi1h1ja6MdLcbknyxx4qgY7SIrY7TVfpoaXCGf2u1zrMiyBUMtveJu6G0rQyK1cC0\n",
       "7SFJOIHKPDLv9QYl333mffKVnvWXEpn4J4CfgKevDvqe3tnZIInT4D09zN7E3YwDG/eogqKLlGki\n",
       "Ijsu3f3sbxdI0JPSbYzFWuDpFWGlssQFTAaK1xeOeEhZ6g9yTwiLwtQ0K+UbMTWRmnRbGDExpspA\n",
       "sVrHxYaLlHmCjHgsMt2vBa7TUb9f6Mh8Wd6KsbIuSGJnEOJquqG1R/w8cpzgFyrWo1qKvlD53xiS\n",
       "m5IMzW3C2HaR0p63qhUxTGVAx80oj1dFHLcWYy9uSyQbEzDWPKT8C8O1yrZ6Wx4U/TqQ7XtI+fcQ\n",
       "ZBJKMV1KKcXYK3hQ9CXXLA8pXx9ylAsxJPOguDLAgw5SmthJ1DgqYs7vkPegDYob4EExiJSFuouU\n",
       "wKkhR9noKzWbghAUvSifhYuUw5EczOWYiREivhV/W/zTQ0pzyFEuxagYPCi6kvcCP3tIOezlV4lR\n",
       "l3lQdCRXp1qtCQ8pXx6y5DhbCQ+KjuQsWaVtDylvq41mo5SOldfF53dCO6mClMV/lBwzlNKx1C3J\n",
       "+Z3IZlWQUhG0GEppGT+N7PxOlas4pFQELQeldOw57gk7vxP+4K8rIKUitTgopWMHuCfs/E5oNxWQ\n",
       "UnFzclBKx+ZEp6HTu6hBubpqy5ql56G2vMufKmFbVRYyqRsUwWlodt8uJM/1VCGyrumhIKg053az\n",
       "Oe1XbXhW10OGr8H53QQZqknFUErLprgn9vmdNgGooiFDqWRKBju/0zXVdeCglN76Cx8BsfM7XTuh\n",
       "OEEOSiUzk+z8TteOYgT2SZKDZTZHIfnOXoKDZZdHIblST3CwJYzEDiWYF+3RSB5LbjLv6oxGcoJ/\n",
       "IbH/i/AfmXD4e3p1jv4AAAAASUVORK5CYII=\n",
       "\" style=\"display:inline;vertical-align:middle;\" /></a></span><br>"
      ],
      "text/plain": [
       "<IPython.core.display.HTML object>"
      ]
     },
     "metadata": {},
     "output_type": "display_data"
    }
   ],
   "source": [
    "alg_manip_02 = frac(Mult(Add(m, one), Add(m, two)), two).factorization(\n",
    "    frac(Add(m, one), two))"
   ]
  },
  {
   "cell_type": "code",
   "execution_count": 20,
   "metadata": {},
   "outputs": [
    {
     "data": {
      "text/html": [
       "<span style=\"font-size:20px;\"><a class=\"ProveItLink\" href=\"../../../../number_sets/natural_numbers/__pv_it/theorems/5fb53e9c076547ad508281e2a2445cff05af57920/expr.ipynb\"><img src=\"data:image/png;base64,iVBORw0KGgoAAAANSUhEUgAAAEYAAAATBAMAAADfQ2bzAAAAMFBMVEX///8yMjJmZmYiIiIQEBCq\n",
       "qqqYmJjMzMxERER2dnbc3Nzu7u5UVFSIiIi6uroAAACibcT0AAAAAXRSTlMAQObYZgAAAAlwSFlz\n",
       "AAAOxAAADsQBlSsOGwAAAQ9JREFUKM9jYCAAFBgIgwZK1HDbd0gzcPr74TWHI+ANA8N+/HbxWHEm\n",
       "MLAwMHV0eHS04VITwSDFwIzdHN5mY0OwmmUXFuJQwye7AWrOguO8E+Bq+O7smtvLPrMPLLVwA8yu\n",
       "BRwMfXA1nBxnGfbnMYSApaTg7lnArrB5Myyc3zE3MKy/wJAPlhJAqGFIZW2B8Tbsf8AQv4FBEcRm\n",
       "dzY2NraAquHZcATuzngGkAJPcPA2IJnDfWAzXM1BBgZLBr5f3CC2AZIahloOuBpPBu5/DDwCy0Ds\n",
       "u/C4KACGVQWMx/Wdge0DA8eECSAOYwBUFMxQhAebAQOvAgOf7gKwg068Bguyy3sAyY3Y44lvBiQu\n",
       "UAAA9FQ8d6roA+kAAAAASUVORK5CYII=\n",
       "\" style=\"display:inline;vertical-align:middle;\" /></a>, <a class=\"ProveItLink\" href=\"../../../__pv_it/_proof_sum_first_n_int/de535c7822f2333a838c203cb655725e0cf0f6850/expr.ipynb\"><img src=\"data:image/png;base64,iVBORw0KGgoAAAANSUhEUgAAANAAAAA/BAMAAABjmFsQAAAAMFBMVEX///92dnZEREQiIiKqqqpU\n",
       "VFTMzMyYmJgQEBDu7u7c3Ny6uroyMjKIiIhmZmYAAABumYecAAAAAXRSTlMAQObYZgAAAAlwSFlz\n",
       "AAAOxAAADsQBlSsOGwAABMRJREFUWMO1WF2IG1UUPplkMpmZJBt9rm4UFEGk0WCpIG4eFPZt8yJW\n",
       "6NIUX3xQGlb0RehuaWmpKA2CdCliRvyriibQF0HWDYqIUtxYLLiibWnB+rDdTbvbbLPtdrx3fu9N\n",
       "7tzedK8HdhPmzJzv3nO+8525AcB2BZim/wxyLdOKcJyRDDRvRTiUnFQc/YjzoV1+9WxmqkJ5DkkF\n",
       "yrqZO/5NNVXOlCnXeE0m0D53F5//BSOVLJ2s+AWZQD96n5PwMsRLlCuxIRjD4DmtvmCHEcsaSfqe\n",
       "7wWBfuc557z05L1FddCeprL0PRMVIZxEJD2TT6H2qbol8rJlluEX+GSRvi8lVqT3oxzvLfXQf7fx\n",
       "93AZ2RECutx/waz6YoCB9ju9cpsXwVwXApoZyGWbBErhLtG63BBvC5WoxQdK4/0p/OSsMOTJPHvi\n",
       "vseS9zwaJhhxYe7FD8+0997bZAHFsAyM5LlAE9XBazFlEupvwnhwAa8491BbX28mZlhAGt7xPF84\n",
       "G+XBa9+ijmi0YToUkBKYzSfA2AStwwJy4FfwZtM2YW2K3zODQLV6EyZqsIS/1/FiU03Q9ZuQ6Lm6\n",
       "mS0Wdx4sFssBUBLDL2BGJGyPEifmdtlUaKXHyidglAOBGiIgSHQwSirH2pGJQ666zbQaRHltjRqK\n",
       "awyg3QCPg7mhE6kDtQXxHBptNVbqCkh4rrm32mEtLlI8ZbXZAUCJUlufBdtGYdFeUEZ3G1UWGfJB\n",
       "oKQddmaWZHTyGkOqu7joSi6gEaZvo4LZ8UCsL3WxDY/+mU33wnk7DE8yWl9l9FEBMhfAvBI8kUSp\n",
       "OQVwDuC7P2kgddetF1C+UA2zXg0Uu0AFe/eg98UWkYYdkcrg2EcYwKObfqyvGL96n2Mi03x/pKgG\n",
       "mpv2x968TQ9Xn20LlgCQwr3JwOKT8vskZh+lluRf394UeZHK33EZI4GmLtyi9Mxv2z0lkSJ9xXM6\n",
       "BAmBZm1S9dLlxP01caA7WwgUyJBj9eqzJ52CrrhlvVTE9uTdA9XDcbRygyDYxJelVywCaMtWDyU0\n",
       "Tur2v294X0bbA8/Yd2EkkEGKwNPLlUigre4o8xbB1zWzSwFtuUYhGWCeeFnUevpaBmTWKARKkpNH\n",
       "bend2P8ENEsWQynBuUWQ2UepTr+K9tkQQF8vPRztjPuapkTI1faKKA7SztFoYfTHBFwKu5Xaw5gl\n",
       "CqRazHcmf27f9GgWclujgI6JV6EHavTBLbM+wO1x6oYbwkBqAdToF3ntqpvfkNsfUKPWWB2GWvHo\n",
       "F3nzOs1t4zlKxH2/6Lk7Wq90d9wtnHbsh51I/6i3FG1zGCCeRI05lCCFlpKCbHeYXyzyQx6AyEnb\n",
       "GQLodZ5zmq9lIwVxHHQ2/4JzAOKfu/cN8bvTXoBFTpvxl3xeWIHAeGZ5mRMs1uM+/cgQTYSI1OKs\n",
       "g8tffag24ttp5/QVdtpxclVaVx7QtOUdDr1B+zeZ53RBHlAd86pBkJSM3ajKA8riGTJl/MYEGpX4\n",
       "u6CO2TD58ax18UFkVQpI35QIBH+gv3dKSdaOsgWZQPE2GLf/Ydao0ZQJZG6g8/kpAxipex6k2jZQ\n",
       "2y/FGDvSjsoFUtqKpfqnB2Pb1aB5T1bkAuk7Ihw/gWT7NGIBEqnwHw2TpwG4WWnpAAAAAElFTkSu\n",
       "QmCC\n",
       "\" style=\"display:inline;vertical-align:middle;\" /></a> <a class=\"ProveItLink\" href=\"../../../__pv_it/_proof_sum_first_n_int/8676fdcb53b8c344684fd71d7edb7a4b6058e8640/proof.ipynb\" style=\"text-decoration: none\">&nbsp;&#x22A2;&nbsp;&nbsp;</a><a class=\"ProveItLink\" href=\"../../../__pv_it/_proof_sum_first_n_int/12747e33714bbbe36ace27b89b26c18541efb10c0/expr.ipynb\"><img src=\"data:image/png;base64,iVBORw0KGgoAAAANSUhEUgAAAQoAAAA/BAMAAADqJZtQAAAAMFBMVEX///92dnZEREQiIiKqqqpU\n",
       "VFTMzMyYmJgQEBDu7u7c3Ny6uroyMjKIiIhmZmYAAABumYecAAAAAXRSTlMAQObYZgAAAAlwSFlz\n",
       "AAAOxAAADsQBlSsOGwAABbhJREFUaN69mH9oG1UcwL9JLrncXXKNgv9tNhbUsTEajRsOda3MPyYo\n",
       "zT8yhZXe8B//cDQUJ4JjrUzU+oOWgUxESObP6ZgJ+IcDmYaBDGXYsK24FZ1V/5hI12ZrlzZdu/O9\n",
       "+5F77/Luch7tfSHh3d279z7v+/PeA8ByDWg5WjFbwk8QlCQrVltGv9jvmeb1+cAofiha7TD+4yyK\n",
       "cCogCOFN4K/un0wOKQwK4fWAKOQKHD2Vj+eSOQYF7B4PhmJQgS9/gw5FTrEoItPBUPyIfv3wAkR6\n",
       "4a+uTV1deYqCW3Z4regyJP1MdOkpktO8gYKhFGPpAs44BFavy9inqauLLj2lqqHyNCKqIW0MyUyK\n",
       "PoX5+uNO48Z2IMQ8cYNzCrOvZ+4D+NVwC7QoKQc/w2eXDQpxw/Wq1TfOdAyh4jD0+zMN9E8mu4+c\n",
       "jJGGzjIkdO8foB6FW0OoxgysvP3Ot6apMMUh4sHVFivo70aLEB8BXlukcJsevdVyiyyKeMudp0mK\n",
       "OBHfI/aenK7peAOiyCdHcZuvt4uhd1k3n3KnSFiq4ioOFNEMRNHkZzUT1NpRzLFi8k+kpMkPN26N\n",
       "3bGFRRHKWdpFznn6uWPnq/vuLFMUODLQ5HfhRke6HUVfnnETrSAU7ofCq7CbRcFbCsBqSd1bFRbL\n",
       "3IidYhC1DmqlrG25KuUYNx8C+A7FeKkKwywKznIGlAyl8oMgrgJfs1NswyVC07eupgnVklWbI44w\n",
       "KN4BGC+UoW8cZvDl39nsW9nstiZFDE8orGivl0EQbgHXwAULGSibffhwNqutTMZ2GNSm1725T9WT\n",
       "k3BicmyJnjDcYFNAH2CE11i6kDTynQYFcDWMEE/ZdHEA/53Cf/P6jajazJd8D52ckwtsi8BegAdA\n",
       "WhZYFsmQFoFoBSIp9B0zTlGgpPoVwC6cwG4YnXtuWl5NOyx3m0GxFbAWkKajlS9Y3mkNEUZzIi0g\n",
       "8+0V8xTFPgCUrofIKQZVKxT+pQvDDQYFii+xjv0tnErRFKFlIzzNa+QCJQU78T0hyiLiztnZjBbz\n",
       "kDRdMalaJZynS8Y8g+J5ZPsMJKdBulakKKLPruxBZihbi0AzfQNwBeD7KYoiggIB+esjGLpp9G77\n",
       "ZEcOGw2VQRFRnHKnJp8Q7e0OudOoadiDws0E/oFqL56/mC7D+Ojjp52qWUsFO+RQzYiymGjaQVLt\n",
       "sWBeT7BS+Ga3RCeS/h12+yqDj43CZkrnEr1myXzUXWa8fcRtaGpiwbVGaKvpsIpZQqWrX8jMmQOs\n",
       "jzux6jL0FHV10m1HVrRRCGPXqQ6JHHf3uCPFmgpB0czihhTyTxzX/GhO9yZUK7JGrVhrKRAUsjpK\n",
       "VfQTvS8WCYp1lAJZMHuoavrPy6bbtrqAuqZCU5TIHQA8Oqs4UqynLi5RAbYg1SmKdfQL0jsl6kOY\n",
       "bwgLSQjGL0iKQSoioxWhHgqeQniPzn+9cOUyBJMv4kTudDoj8Euh7UM9ScSqI11OfboVXxD6PtST\n",
       "WJVd3mF9ANB9eoq+KPR9qLfjpFtm6xVrrpfoPmM+ja3vQz2dMi62hilnW8GSPwpjH+pFeLOOlpou\n",
       "KMzRbirO+/b9SM1bP+mmPUw/HaBLa7OLn4M7j7lf38WhMF05p0l2TFVta+dXfVN4Tvc9xvEAUeJs\n",
       "xyZy3S+EnPbac65tGCZqfikOeO453LZIdGR8Quj7UE9Smm7rYn4P5PV9qLfc0nalf/hL4OY+1JOE\n",
       "Gu16bPKbLPR9qDfidnEo+E8X/0PO6UnhMWvag3S6qAdBMVxsHhHpsv8CHaiZICgKWgiIRFLYRQdR\n",
       "PggKWaugfPpkik3RGQQECJp7RqeefFvuQnK/jUJYDYQCLmlp4yIoTF3ImWAoIrj8lmYVtl+UysFQ\n",
       "SPizbEjKFJkWeQYCkg3o1x/LML2THw2KAp+LboY9pkmOTWy0nh1XgqIQtjs/OwuByefOgIH45n8q\n",
       "EeszUz6HVwAAAABJRU5ErkJggg==\n",
       "\" style=\"display:inline;vertical-align:middle;\" /></a></span>"
      ],
      "text/plain": [
       "{m in NaturalPos, (Sum_{k = 1}^{m} k) = ((m * (m + 1)) / 2)} |- (Sum_{k = 1}^{m + 1} k) = (((m + 1) * (m + 2)) / 2)"
      ]
     },
     "metadata": {},
     "output_type": "display_data"
    }
   ],
   "source": [
    "alg_manip_02.sub_left_side_into(sum_one_to_m_plus_one_simplified_03.inner_expr().rhs)"
   ]
  },
  {
   "cell_type": "code",
   "execution_count": 21,
   "metadata": {},
   "outputs": [
    {
     "data": {
      "text/html": [
       "<span style=\"font-size:20px;\"> <a class=\"ProveItLink\" href=\"../../../__pv_it/_proof_sum_first_n_int/a47f65d8f98adf986ea6962d348e9715b27dbfcf0/proof.ipynb\" style=\"text-decoration: none\">&nbsp;&#x22A2;&nbsp;&nbsp;</a><a class=\"ProveItLink\" href=\"../../../__pv_it/_proof_sum_first_n_int/391104d23a3f1e3fd898db2bb46fd7d6f3af3a9b0/expr.ipynb\"><img src=\"data:image/png;base64,iVBORw0KGgoAAAANSUhEUgAAAhsAAAA/BAMAAAC7qxeHAAAAMFBMVEX///+IiIgiIiIQEBB2dnbu\n",
       "7u5ERETMzMzc3NwyMjK6urpmZmaYmJiqqqpUVFQAAAB6qHgnAAAAAXRSTlMAQObYZgAAAAlwSFlz\n",
       "AAAOxAAADsQBlSsOGwAACdtJREFUeNrNW32MG8UVf3v22mvv2ueWNgptCa5LQCqCu0BObaPQGLVp\n",
       "iwScSyrUSAgbpTUItY1J82fpOQn9LthCanWoEXFAqkpLehcKocklimmlq0JazoFD6gfS+VT1j0iI\n",
       "3CW53IUccWd2Z3Z21rPrD3Hje5J9a9/svpnfvPd7782MAXoqeoJcHHb944EyvVJ/JaMjcrS0kmvJ\n",
       "X6XsgAi9wh9J2p/XSOnJmlWARnSJXIwV2Zch/BZjcITSMroiR4u/bKsSU90MxvHH1imTBQEc6h1S\n",
       "vOWO3sNxlPpHGR54vhqoK3UBHPBWRkZf5Gjxk/AiuRgpwI+uhf6CnhbB0TcuozNytPhJpE4unkWv\n",
       "Wfg+9NXgSH5HPl/l4IgtiW/X/J5d9PkkfIyXFnkyU3T05HOI3EthkXXAr8W3X+f37IPOD0rNj88T\n",
       "vlrkyY3UTnNojuaQfUzqQjhmCqK7Y56xILweIVB1fDHt1fIXRx8G+JSfFonU8QGlDjR50TqMwlMf\n",
       "J3Bod11MsIYBoVtv93rug0cX0Lsjr1LLXn6Sg+EKRDI+WuRJfI5cnOMzgObcdU50+/Emq6cGoWA4\n",
       "Tjvur7qbvkh6UITAIBjjPlrkSZZMh3qFH3yzdy+Lbh9s8p6EE44AC5yBpnvPkH8sQBzx1pCPFnky\n",
       "RZzVWGzV8gsi6ij7wxFhJvEvLzjiSYgj5fu9tUiUndQ7WlrpSUGgxDnKwf89sSax+ysVERzBut30\n",
       "ZTT1675550PhLz/Kw4FpHCm/11uLRLlE/vbnWkbkqiBpQd+lv5dQlyuxQREcBrMeNPvB0CxkX4e3\n",
       "muAYQTed8tYisX67SOu3ltVTqS7IImsQrdwI2jwYcyI4YoxbbgH4PQrmpQRMNcFxK87PvbVIXOt4\n",
       "n7qCZewHGkzm+aaBwebbAxVQ1fchtoArHvS0VOozt6VSdRuOMAZJvYw/bwLIZCswk7GKpJdSqdtT\n",
       "qVutTmDLHPHWIjFFXyAXB6wYMNOwqFX9+botF1zV94IQDojNYSwCaZF1RM3B3UzggBmzYNzoto43\n",
       "8Nvz3lrkST9NPM8Tmm/YmagxwGfVygdCZ4F4GfrSMFbMiJwl6XQWOAtwA0SXVB4OlNn+FOBNby3y\n",
       "pEQYVKOUOnCVORLPrrErgvUaNHhkF8gJzmpVEZWyRzwE2C6QZ8XLv+Th2A2AEuFJby0SC7hxVy9G\n",
       "Goza/8yn85eab8eBtFTA5PitoMtZgkskEBNBgVRbxIwbSqc5OLSbJyaSZiD20iJPrie9VyhvKg1W\n",
       "Yxv8UtV5QcWDxvEcwCcB/rCWhyP+38vvImeq2E13ISZJgjIO0cNFDo4+xNqIhz/LtJhU/E4v4DhJ\n",
       "+EG3XXana9TqDur/DcH9N3lmpabsddBMwSMrJTbi0HIM/x3tSVJKOhmyc/RtDVdRGaGfBwQrd6c9\n",
       "Szh3hWeMe5RwrgoPafmhVef2QA4Qw43YLhJtuLi9v+Zqy3Gpb07NjekR34782NEjXOwHa72AY0vG\n",
       "LiupDF/grWCMftxZab5f9Z1EDqz7fTtig4W0GMhSIj2hUsoH/ayCizT4MvVL9OKcaML2+D19LWcq\n",
       "CZ+WStGpBWW2G1cLHOqWi1yTZ2H6FW84PnTBWl4F+PZqgcNO1Ak6y7F/braikMV2qNpI0WpjJWId\n",
       "0vIUaCtWyUXdEU5h3KBSOLIOOPTGkDNyLh0KjzrhWOnQj7SEMsFKW42Lnf/3ByyHxB6MrJCFPJWW\n",
       "aVlnITngrGX1zRTO4Sbn7298mDJna4kl2mNSxd99D4q+ZNyPF0AfX+8M+GI4SklnlfabVz3hWAkx\n",
       "tZRfa6vtdAu0mDkbJ/5+bBrPq5aG0++cPvRVAgcgOOIt4LjGaWXZ2liBg2OFucPUco/HSY+gY2LN\n",
       "vYrIpXw+/3RjgY3XKewpsTWwCVXOGsSqcCYXqEw74Aj5U2mUW0WeymRrCcncAfvcTLr35YrxRbbA\n",
       "H6KZbNiMgl/fQMdry18SfM78sFrWa6hoMGoQKmyHExCceGnimAlHxB+OEc4jz0K2kJYNR9w5z+F1\n",
       "+UqsvhVeccOB9ypmzM7+jI6XW5hy7mskY+k+XJKGE9CHnCxZbdc61A1c974LyuGM5LyDlwmETew1\n",
       "HdJuOPBehW5WF9GMPV7Kf2ZGaU+gWlcqcTMrrMOD8AmYLVoPe2xjDa+32Ek6BXOuuWRr3dH2xNyD\n",
       "7RwOevbGJMTY479LpIl923CYSyRPu8dryaT2MW5fw5bXuciCxTFeWqX2sZol36r67VCsPdiOa2z7\n",
       "7I1Z68QKW//dZB3mTtU2cdU0++S2It7XOIKoNl8VlgN0wargV+Dr6xkd8xoGil3BYe3Bti22Fnr2\n",
       "5kWrz7qSc8Nxi8ks88LHbKiFuX0NJu5lCtVJXGTe7A0G+Csb9D9c1W93vkL2YNuusdkEW2dvTqHp\n",
       "rcUKarrshmMTCX0ik7yCs6WwTQH+CSBbHCR2pCw3R1k3the6g4PswbYrTAs5e7ObWPShBMs7nHCc\n",
       "sL46wj3FyD2nmfsaTc7iK1MkVBu0ii3ZfKme5DlVO991tOhr/5gC00LP3oTw7BsVUBy86HAWg4zg\n",
       "P/Z9uBiOJ3YFXed1HInVmWMe2seIjuhVd5R98lyDp87o1a7hGGk/vWda6NkbDcelXaNkRdkJB96r\n",
       "gD+61yFxGQKhYvxv3L4G576Q9dCeJUs91sYhirKXnzEltaXRcFmDMd81HB1k9AIt38jn3ZHJggNv\n",
       "+odzpEgf3UMxZ7HAsa/BWSAipRZmPECo1UEwrpMn+mK3aOi5Dtq2pcWCYxd6bTeJ9AWApbdzwYkJ\n",
       "knfT0XkF+Ee9tFPOb32uItL1OaU3OmjbnhYLDrxXgZditN8uQ/iqHWAYHHu9Ru2VQRnUBKZasm9/\n",
       "sks0rD3YNqU9LdYxVGMc9NtNGQLla+uLTdZx3OP2rYrXc+lmZKnlkb2RdJdwWHuw7bJuJ1ocexV6\n",
       "8W4SE3EZYufDYgtseAbJ2yjbtpyV67s88kn2YNuUjrTc38KlOk+jh4nLBVueq9jRbdJh7cG2KR1p\n",
       "0fwD+NrOO1siT9RahVG1+7SjA5GjxYfJ6cQ9Y7HTp1nPTvGkuyijO3K0+OinkXaq6KgDTEr6KI9b\n",
       "UsrsJHsLh0qLlWyaFAq2vMl7lZSlQTlafORPNFINWpXgnrQYjmEpvRnuMRqQJVyqmlwaX/v253Vc\n",
       "E3/HBYc6L8VW53sNh0JXNa4x04/roCC0Dl2KU+vJXsMBNJb0YTMpTRTE3FGqSKGOSs/hoD+fNX9P\n",
       "OxlNFoXO8p6UvrzXczQgSDOPu9BrNpwUUqkxJCXqD/UeDmtRCawzs4/Au9RbnjhwJ2uzT8pv1PYV\n",
       "VgEc95FOqDd5t9kvpSf7VwEaoNE5+Yl3AJRCcUTL/wH1MiG0M3lh9wAAAABJRU5ErkJggg==\n",
       "\" style=\"display:inline;vertical-align:middle;\" /></a></span>"
      ],
      "text/plain": [
       "|- forall_{m in NaturalPos | (Sum_{k = 1}^{m} k) = ((m * (m + 1)) / 2)} ((Sum_{k = 1}^{m + 1} k) = (((m + 1) * (m + 2)) / 2))"
      ]
     },
     "metadata": {},
     "output_type": "display_data"
    }
   ],
   "source": [
    "inductive_step.prove()"
   ]
  },
  {
   "cell_type": "code",
   "execution_count": 22,
   "metadata": {},
   "outputs": [
    {
     "data": {
      "text/html": [
       "<span style=\"font-size:20px;\"> <a class=\"ProveItLink\" href=\"../../../__pv_it/_proof_sum_first_n_int/643a7da627bc985d518343fe922d520175613ad30/proof.ipynb\" style=\"text-decoration: none\">&nbsp;&#x22A2;&nbsp;&nbsp;</a><a class=\"ProveItLink\" href=\"../../../__pv_it/theorems/79a1a8060c93d7c25c9eb2cdc281ea188455db2a0/expr.ipynb\"><img src=\"data:image/png;base64,iVBORw0KGgoAAAANSUhEUgAAASkAAAA/BAMAAABOTyODAAAAMFBMVEX///+IiIgiIiIQEBB2dnbu\n",
       "7u5ERETMzMzc3NwyMjK6urpmZmaYmJiqqqpUVFQAAAB6qHgnAAAAAXRSTlMAQObYZgAAAAlwSFlz\n",
       "AAAOxAAADsQBlSsOGwAABsFJREFUaN6tWl1sFFUUPu3udH9mul1FiUSla40QJbqIEBAxu8TExN+u\n",
       "YowadSBoJUTsYnzVLgHRaHQ3JhCIhK7Ck4luQQ1iTXYNCQQMtgKmaogtD5oQCZRS/kphvLNz78zc\n",
       "4c7MWZj70JndPXvnu+d85zvn3i4AcuygVzkp/vzFHAQwpA0NmTeV6M00N4OlQaCCqQ1ZVwrGNX7B\n",
       "zeK1QFC1ZBvx7CJ6s6RmXH/Zd0Mfb7JkMJAQPtyAscwCuJt++cAiWMCbtM4LxFmHG+BnT964Rs4b\n",
       "1+gzJTjrsJkVCKrmPrztVnqNjdCbRDI+22EzXMDM5GoUpS6/gAZlmppPDuXlvjxvFMNkYZMr++JU\n",
       "cjbi3coeOIO9U4Tmdx2oWs8jZjoifvttwqbb6MLzaFrRFUYus3e+gaYnnVYPIVKsJHz3v16CKmbw\n",
       "PIQm1inGplEvqyoil2t81NjLdoJIMeDIo1gRuURvVM91VGq+M4UcQU/aUIEhLfFJJCqFMWbAM+ah\n",
       "ku9Mf3qh2mLcP4gtA8yp3d7hESX1F/+sm2oV9O+IL6a/sHiZENXTlAgFHKo2loLnvPVD5PvsW0nJ\n",
       "QkvcEW45BmpBhGo/TcIaDlWFlsz4uKdZ9IpAhcozIGpJxr0AXxGZKeZFqA5T0RnBoaqWaYgm9L+9\n",
       "mjVOc3YPCBJFmoBWvTZJF/WXCwFyahmGdRByR8edczo6RkxUPZSes3GoemnFjNVL37BmrFT6aHrm\n",
       "DGfXLaisraOQKJllcqH+fYDjQl5toyw+i0M1xviVqouWljKTM80VkHZBOSGQ2mo5WwR1SJOSCNUh\n",
       "WpQuo0BFGcmLBuvTFn9krvYNC+QslCXxMls5PfnmkpCGRaj20jcv4WrzJf6pPZqVJT9whUlQnwmx\n",
       "pymmzJHkJ9xvKu1zoOosGLJRL2vncD0743S7MUmTZqW6YjdUU1d/+UuAVw9aVZhkZQqkE4M8qpOZ\n",
       "rWSh99AEIYSpp8BRb3Vkga7SybrH+DxbTtG0+Zaw5rxY2+tEYWvSAH7Ur5u8pZ3pTTedc4nGEyhG\n",
       "Xzb7Zo/SJ67OXOVO5+A9HaV3vxZjAetlGx2NT5O2QYeh+1jh/tF6sB6jdzVh7+1JiLkgwzK88wyn\n",
       "TBX6qmXCF9XzCMDdZVCI32I+ZXDUCjh1isa1B48wbfJXmmjSNafMonyKOImI/txGUUmZcX6vceR7\n",
       "JCpUj0lQ7QJ4vVFUZtUxME62/lHfxcq0adjZoY/7rhVVlYTvU4iKirRtZ61SVJKFStbm2XdAX0c2\n",
       "2VFd59BRteTCZXvgZz0OewhMWwqrtIhLtlqctnUL8iLquPDpq/2sNTKM5XcmdSWzyL7635Xwdzgn\n",
       "53xRFW0y3vz5LldU1zJ0VFD62Vy0PvvRZJ9eO31QTbG1sepgJc+huk5e1VE9tYFo7k+rb6X7xKG/\n",
       "1oThif5Z/WUPtsftO9KBnDqYDJhXsJaw6OVttVBBqkv8UPiV7byvBKh67Lp7HNR8NmhUCeL+96dB\n",
       "W86oSkPQN9UPlXS/fZZV0LQjF7BeGeMY6U+VjV1dqwiq52I8qhBDlXGWY2ffiUX18e43UKjmQ38k\n",
       "kjV8Ff+N1yuzFUiz6tfl01z4lZ2l0Fl2/5i1JhAdhZlDhsYfAJju08nId1kKynVPyLOnRMFzI5Nm\n",
       "+R0fgZtqsJ48NXJ3ARKOrm/CsQPbY8nCQa65QB5ckCYk4bGAjGPz9mjXSlE1Z6nVXnPKQiu35Dbk\n",
       "Ti6RgoRHsM/gDj9YgzBgkK1oslGqcrQvpvDndO5ujY6hZoiznVZlhJeFT05pXB9eGUGj6kn6P87n\n",
       "+OoiKy31Xi92cXN9dGQ0jV/WQBKNyqMcKchqmubcXrUVeV7Mq+gjTdljpyAj9YWdKMk+md+LdtWv\n",
       "XpsXZCYP0D2RMok7j/DfjWfhQ/fWF5kzRZppUe8TgMg4FtU7ADe7J0IWqXoM/RzvnT+SEKTf7e93\n",
       "d0g7kp1hVgg7Pf/10zIbK1YkT9xPdpdj18ZyteiZ+iperrx06ArWcjNLD32Fyh3WDPu5pMgHgUrB\n",
       "8gAGqDQoF9gxIt193Gi3+iyQni+GLlsqTQtp3Oh6zHHIHudg+uNiDS3FjMff6g5buiYrQhUeDQRV\n",
       "J56BjO4qoXvilt8XyF1kvMmjUpOBkL2BPeUUJknEaaHbIS/y1c5AXCXjuyFoZn4g+Vfsz4t4FZ0I\n",
       "hlZlvK35M4ZKAfbGUwVBBBOBqBWcbMT4MUbpEhyLpERs3xPIT1KUhn5/0MJCuAxWwAkWwnW9i80A\n",
       "zg/EVWsbUmJpJr151uVrsVogqLY0Zv4B84kLqpcCASUZXP8fLDcTmntxClgAAAAASUVORK5CYII=\n",
       "\" style=\"display:inline;vertical-align:middle;\" /></a></span>"
      ],
      "text/plain": [
       "|- forall_{n in NaturalPos} ((Sum_{k = 1}^{n} k) = ((n * (n + 1)) / 2))"
      ]
     },
     "metadata": {},
     "output_type": "display_data"
    },
    {
     "name": "stdout",
     "output_type": "stream",
     "text": [
      "sum_first_n_int has been proven.  Now simply execute \"%qed\".\n"
     ]
    }
   ],
   "source": [
    "induction_inst.derive_consequent()"
   ]
  },
  {
   "cell_type": "code",
   "execution_count": null,
   "metadata": {},
   "outputs": [
    {
     "name": "stdout",
     "output_type": "stream",
     "text": [
      "proveit.numbers.summation.sum_first_n_int has been proven.\n"
     ]
    }
   ],
   "source": [
    "%qed"
   ]
  },
  {
   "cell_type": "code",
   "execution_count": null,
   "metadata": {},
   "outputs": [],
   "source": []
  }
 ],
 "metadata": {
  "kernelspec": {
   "display_name": "Python 3",
   "language": "python",
   "name": "python3"
  },
  "language_info": {
   "codemirror_mode": {
    "name": "ipython",
    "version": 3
   },
   "file_extension": ".py",
   "mimetype": "text/x-python",
   "name": "python",
   "nbconvert_exporter": "python",
   "pygments_lexer": "ipython3",
   "version": "3.7.3"
  }
 },
 "nbformat": 4,
 "nbformat_minor": 1
}
