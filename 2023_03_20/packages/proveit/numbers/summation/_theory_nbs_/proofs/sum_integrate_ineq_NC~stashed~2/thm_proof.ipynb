{
 "cells": [
  {
   "cell_type": "markdown",
   "metadata": {},
   "source": [
    "Proof of <a class=\"ProveItLink\" href=\"../../../../../_theory_nbs_/theory.ipynb\">proveit</a>.<a class=\"ProveItLink\" href=\"../../../../_theory_nbs_/theory.ipynb\">numbers</a>.<a class=\"ProveItLink\" href=\"../../theory.ipynb\">summation</a>.<a class=\"ProveItLink\" href=\"../../theorems.ipynb#sum_integrate_ineq_NC\">sum_integrate_ineq_NC</a> theorem\n",
    "========"
   ]
  },
  {
   "cell_type": "code",
   "execution_count": 1,
   "metadata": {},
   "outputs": [],
   "source": [
    "import proveit\n",
    "theory = proveit.Theory() # the theorem's theory"
   ]
  },
  {
   "cell_type": "code",
   "execution_count": 2,
   "metadata": {},
   "outputs": [
    {
     "data": {
      "text/html": [
       "Under these <a href=\"presumptions.txt\">presumptions</a>, we begin our proof of<br><strong id=\"sum_integrate_ineq_NC\">sum_integrate_ineq_NC:</strong> <a class=\"ProveItLink\" href=\"../../../__pv_it/theorems/0786cfc7c9b500901ee8751ffd60ba2facfc8f5d0/expr.ipynb\"><img src=\"data:image/png;base64,iVBORw0KGgoAAAANSUhEUgAAAzQAAAA/BAMAAADEc5AaAAAAMFBMVEX///8AAAAAAAAAAAAAAAAA\n",
       "AAAAAAAAAAAAAAAAAAAAAAAAAAAAAAAAAAAAAAAAAAAv3aB7AAAAD3RSTlMAq1RmmUTNIjK7EInv\n",
       "3XZ/CtNrAAAACXBIWXMAAA7EAAAOxAGVKw4bAAAN7UlEQVR42uVdC5AcRRnufc/OPu5SUrwr2Uik\n",
       "oISwgGIFIVlM5B1ygmeBQe4ExQKFLFplAUZupSiKR6i7mMJ4iSSDBjQc5BYCCSQSTlAIj8hJgQIS\n",
       "MyeIPC+XS8KFI2Tt50z/Mz2zu7eVpcrpquyX7Z7p7u2v+3/Nv3sIuUpHpTKIml1ilcqnzRstakKs\n",
       "Wu41fBrPa2Qq+pUQ45XKqHh1U9PeXmo+NbvbL2zeaG87ULuiyg3ZHp+2zobm8i5Erb19VLy6qUGf\n",
       "QYmNNHOwMYgIHVbtluXeTR3FhiaTLENE6EnpNWjU3J+HiNDmqrfkPCXSU41NRn8SYrCpOd2BSNs3\n",
       "ZPjfEn7OU28BeXZzT92zOcaAGGRqtD0Qsbp4PVuoctPLXg3dQDGHynVPJ1OAGGRq4q0QsZzPR6rp\n",
       "8uO8NMp3wbt0/RZUeAxikKkRq2yvdroUba3GZ4//woozNHxo3fO5woEBpuY1ByLUgtK5ant7j4c4\n",
       "kigLbUIfGm/Vv1VKEINLjTYKkayvMaPqbX/2UDUSp5M78kvQSXVPKF2AGFxqQiMQCUvnVQ8LzFNX\n",
       "T5E4H1/UthmdVn9sYgRicKnpL0CssXTklV7JLolzLNtGlEta5bPvhBhcamaVINYqdpQ2XERSQS34\n",
       "6L0eqd+xQU9DDC41Kx1Yq9gZU4ZZpHl3YK5vGp7AjOYVAQaXmo8dWKv7sVNV29JTVRvVYKLlAQaW\n",
       "mtgnEGstiR1KDSR5/3+f6JS6WgEGlprobog1lxeUsqhNaRHUaT0PAAwsNfFxGeMVqfhb0CsNReUC\n",
       "o4rEq6UkxwEGlpqWQRnDFW5i/f6SwysDvjduVwUMpEez0T0TnVJ2FGBgqenqATjFXtxTR/2VtcIP\n",
       "Ski2RGbCHyG8C2BgqRErzDFTsQObZ/ne2N3jvajUhZ1wRoX2McDAUrPdBKhVbBURhYF//i7hs/TZ\n",
       "fRLnPsHrBOzSGVL4FGBgqZmXg7i9Yq8XiMVk+QUxzmWLYopRSQY+4WNF/JvjJermCkBBDaX6CAc1\n",
       "IXpY802mxj2V/RIMKEFMulO7ztlAXr8o3r7Jdcm4wraSVP+CNpWpvpGYcGHh/WStNdV+JKmubYaM\n",
       "gpqvE/iBg5ooGSVebDI17qnsj7KgCFF/0emPpA4mi6N3WuY2W7i4HKk5suiqq6iM6wcXkbN3r/X+\n",
       "SttSzHnNSVDzCyIJexzUaGQDX9dsgeaeyv4oLxoQUUfFYRWnv7CM7Hdrg0fY/k5KPuqpZ/NL7ZOk\n",
       "7VWN9uRFZJjZ1vsv2cssMbmyTUZBDdkSqZxT1xByH2o2Ne6p7I9ScSBKVRzZMmzR0nYFaw/ZeuXD\n",
       "DcilfyKqmFyMUWc7TGmLkMely6bkZBTURPDmiLvMgBPxv85mU+OeSlOoQQs+glewRTvSrrgMUqM/\n",
       "bil8iZqQKiaXYn6tvZRx6yx+ryo1aMvWrc+7qElv3fpGudnUuKfSHGrur4CPevyWA6gtgP+tGfrD\n",
       "RrxaDzKNzq1sfa5tH0nUZBQOa+TwvxFhGMX968OH3o7lUIpZ2InD3hkVVcRa5D0ytKg5E6FlLmqi\n",
       "JZQ0GlyDMNdtfIsVqlPjmgooXh18VW1J3n622oeoQJSDNbzss45KITs5ivf9STI1+oGSzO23qWlR\n",
       "Pc9pMcVRiaIhcy4mix2gi4vJcVHlTc01KEGYnD88s2RTg6uuIf9fxRVYiijNhf+0hux7YeNp1lbr\n",
       "27Lxwb+6p/Vl3muUveX6nY6T6u3tLR677rSrITV8KkyritSf0LMPLy9IHfBydJFfoSkiX7SJ7vXH\n",
       "enuX4t43vfmOoGYvRLoie+VtmGBEvYTXsRgZD+HVOoatAXcvATX24N0qz6yLrmkG3/EVNMv4HN4G\n",
       "9Ab9KZL0yaskl4ihRU3SSGG7IGyibtnlXIYeIbDkQvw5h3rb0GP4phnSuZ+E95L1eRYj9A339mzl\n",
       "vcbKEjW0Rr+T2vgptL4MqGFT4YVkiJOhM8XUGsNFzdGmyCEPq3TiYVxZrGb9TUfaiA81GRBzDrNL\n",
       "/4KH51mz3YCahCTQJGq2q+ZxHNP9eBYllsbL5hEdQZmyqPKmJmzGmT0SkqmZzqwAYmDMIcw/gucw\n",
       "wwTU2Fl1i8l5dTlbbaLXKyVqaE2SirpsFp1sAmrYVHjZzIeOoBt/gpzUzMgjkUOupGYzp2YpEhZS\n",
       "qw81iU/dqptQg6dLJ3gxoEY2AyRqpqgE7uMWNQhRwRKjN6R7UH+bqPKmBnXOJEIxb8V5KDXxCLlq\n",
       "6vM57sCWX0Hh1SbKztyg33XjEKVGG0drh1F200GYmlti+kr0gbn61emtpCZ7xFqUsXp9SFpZWvMz\n",
       "xKl5rwADNXQqfTPXI5Yhzn3nQkHqgLa+m0NWDjmhRl/7PvCPaROmJsFP5U4peuU2A1D2GeDhtwqB\n",
       "Rr6goeMxjgVmgIfxvE2l8hYjIdDIN0buw7OlvPebaJZV5a1r0ENkV2crS0AMLXUk+dgkPWQ1rSy/\n",
       "iyJJE92JHkBduXiOUKOPxnPR/MPYlFlMFHgXSpqJUXQpwjXz0Q3op1av06SVpTWfZ/9NJVbkITVk\n",
       "Kvo/NKJQSYY4Gzry45LdAW2lHrbIISeK9YFiN6CGNn0HL4SIk32c97HQaL6F5HGyLbyCiMPDUYqc\n",
       "USc1lsspUVMpKahhxwIvnH5naACV2YpianLowPD1vMqHmoV0l/x2XqtMTeJPdDb4s1/AqOkv3pI0\n",
       "saRMml0GHopSg/XIsjF0Pbrr4c2EmpCZGEcrdFzT/TUDXWT1epEsj0gN6zIbXd7jCG+SqUQLVLGT\n",
       "DHF23ZqUZEfQ1vByA1k55DfjJZmDFsHQFmmKv4di/CPr03b4UKNBs7eL6SdsRRx327nofG5HA5cT\n",
       "S8uSgxqtogo4swACtpjDe1YNxHLMjiZchV+OiipvvwaFyCiGHftlkeeD2UfE2h5bUzlUjhbMpBkZ\n",
       "QKEC4YAKtLFTTjyxfYQe26M4NSNoMukntnI3mmr1eqtEDa25mwu01PkOashU0m1ZsklIhjgfegM7\n",
       "9j1MbJPWGOGG5ZBrkwyiF4ZgqIU0ha+mpghhRg6nv+hA7NeYCtWN7sD26XB4NlmsV9zUiIEsasIf\n",
       "qfwH1qwNIv08c9oJRLZR3vXJj17zjqjyoYauTM6OXnXIHxH7B+zUaGM5emripqAm1YMtl8S4kKhU\n",
       "oGFqSM1t2BW41epVEmishkVjstnYfMP9UKC/mDzZYBnidOjYUXm0weqAt2oHFEUOOaYKH9Ql9wF3\n",
       "gjQttIJN58sBQRjldfrluPDM2IwloBKDriizZdtZMbSUKhggLKVXrZqf1xANh9TgPkJFNzX9BuKu\n",
       "ZwFdTr5teClaaBAOCDXHGsm8bi5Haxg1Lcb9ZUzNCoRrpqEkMQN4r8OSPGI155SY8byh4KYmXey+\n",
       "wOijGeJ06FQUxQbtU0NayXJNMsgVfcwMeEbbfTK1EZBOBQZNLycWWvRRvtgHeT4UQElglYdbLwVB\n",
       "TTvQmRnzeyiQVCToTI3nnEHN2UpqthVldFBz0znrkZsaIsETvybtz5am63/8IUoNn6FPKZzyfexy\n",
       "zsGLsHEYpTaZfS8QHyiy9viX7t4VeboN10x7cz2xkHmvSyVqWE0Me4LFb71dXnW6m5rY7OlrsaIn\n",
       "GeJ06OMnvf+rVvvYkVa6lWkOOTYICDXfPOF9unyLiho1tmh6OQ2CzScu55lzNtpWgkhPstKU5tr+\n",
       "Jl7JzDJhjC8VtdcB4aVvpYURa2dMpRVPc14TDwOSYniPwDoUsjU95aRs9/X2tk0kKibcSb0HuZ15\n",
       "ZaBGKmy7gaGVHeTUfo0jPimX7XmIEdtyjuBRI2+JZVyNIEctirBD1rLaVI+nZ54Bl0DiCJa9AGuh\n",
       "5pcHNxJDE/PiT9zroiamCOCpOsDXxQbro2ZWGaJkOR8DzStuHWT5cnYpBopYGqbD92ttN3D8r7JV\n",
       "uLyJ2nMDNpmNUJMy7FgaXNlQL4mh+VETQX7U3GrdT667Wj28RnTGIb00hgY+XivAhG13rfJPv1Qt\n",
       "fswyymc18Lhe9MKxCWkbBoBiXQJNUbw60NRP3671uLy/E6BlOSemVvxz/GYpNqpumczzGnhcH9kH\n",
       "MLAZNSKTj+OCy2m56o1KtZ/mmady97eJ/7zRwJRE3ifH4Kajj8kYlXOe/WXSAiVf4rDsaGBK8RGA\n",
       "gaUmshNizUX5y1NCxWiwt9911tMzTMMOLjWJXRBrLZry+zhd3DHNAn9UG64ryba7DDC430rb4sAa\n",
       "S1ZpJKQ5ByHIRbguaraXAAaXmicMiDWW5IDSQ+BBgHRZPGiaADW/gRhcarpMiDWWfqVPmeB2b4ch\n",
       "HjTVT42+A2JwqYl3QqyxeHyX/XLyso4+kC/YGSR1USO+4C4wuNRExiDWWK7yYIxYz73ac/xREg9U\n",
       "1EVNfBBicKnRP4FYo2HnYWv3E6tq1VDRepRU/6npykMM8C87nSvj8BlWqFlS4wp97zHBqCXExKOk\n",
       "uql5woEBpqbftDFbPCSeO4tIobysxr1vcp1B63tp1qMkfMTWfVK7jSF6sHoKMDXZARsjaIUm9n9B\n",
       "G/C+aa5XwwcNR44GIQb6Z1H/JaN1Uni+iIeq8fwBiIzZ4Gx4Bo+FgaZG/DIzQW0ggZhAk9W4q4Q8\n",
       "WYuNNTibSQ4MNDWpTgsXpjqjCjXuKqd4hw7WNWjLPwcx2NSQzEyO0f9ses+txt3yzOc3upONSbSF\n",
       "JYi+1Pz//7mHB0oQq3uFPo9y9FcbmstlEH3/3MM9n8Wfe9Dbm/nnHhIliFXLPX6N1zb0wdsgau3t\n",
       "32av/wNfxwJBWIa8uwAAAABJRU5ErkJggg==\n",
       "\" style=\"display:inline;vertical-align:middle;\" /></a><br>(see <a class=\"ProveItLink\" href=\"../../../__pv_it/theorems/d119ce8adc9021c7797f1dd134a67cd7942a14700/dependencies.ipynb\">dependencies</a>)<br>"
      ],
      "text/plain": [
       "<IPython.core.display.HTML object>"
      ]
     },
     "metadata": {},
     "output_type": "display_data"
    }
   ],
   "source": [
    "%proving sum_integrate_ineq_NC"
   ]
  },
  {
   "cell_type": "code",
   "execution_count": null,
   "metadata": {},
   "outputs": [],
   "source": []
  }
 ],
 "metadata": {
  "kernelspec": {
   "display_name": "Python 3",
   "language": "python",
   "name": "python3"
  }
 },
 "nbformat": 4,
 "nbformat_minor": 0
}