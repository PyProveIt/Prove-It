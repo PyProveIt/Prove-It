{
 "cells": [
  {
   "cell_type": "markdown",
   "metadata": {},
   "source": [
    "Proof of <a class=\"ProveItLink\" href=\"../../../../../_theory_nbs_/theory.ipynb\">proveit</a>.<a class=\"ProveItLink\" href=\"../../../../_theory_nbs_/theory.ipynb\">numbers</a>.<a class=\"ProveItLink\" href=\"../../theory.ipynb\">summation</a>.<a class=\"ProveItLink\" href=\"../../theorems.ipynb#sum_integrate_ineq\">sum_integrate_ineq</a> theorem\n",
    "========"
   ]
  },
  {
   "cell_type": "code",
   "execution_count": 1,
   "metadata": {},
   "outputs": [],
   "source": [
    "import proveit\n",
    "theory = proveit.Theory() # the theorem's theory"
   ]
  },
  {
   "cell_type": "code",
   "execution_count": 2,
   "metadata": {},
   "outputs": [
    {
     "data": {
      "text/html": [
       "Under these <a href=\"presumptions.txt\">presumptions</a>, we begin our proof of<br><strong id=\"sum_integrate_ineq\">sum_integrate_ineq:</strong> <a class=\"ProveItLink\" href=\"../../../__pv_it/theorems/260a20565f14bd0ce59a2f7caf7341fa378bc1e90/expr.ipynb\"><img src=\"data:image/png;base64,iVBORw0KGgoAAAANSUhEUgAAA4wAAAA/BAMAAABZUlvXAAAAMFBMVEX///8AAAAAAAAAAAAAAAAA\n",
       "AAAAAAAAAAAAAAAAAAAAAAAAAAAAAAAAAAAAAAAAAAAv3aB7AAAAD3RSTlMAq1RmmUTNIjK7EInv\n",
       "3XZ/CtNrAAAACXBIWXMAAA7EAAAOxAGVKw4bAAAOMElEQVR42uVdD4xcRRn/9v/bt3d714QIBNJu\n",
       "pSJE2i6iJEVoF6kUKKUneIZa9U5UjBjoookBbbiVGASsuUOC9drQPkxBy0FvodBKK8eJYluhUoko\n",
       "CJVXUSIUr9dry7VX6Dozb+a9N/Pm7c4c6ZL4vuTu1857M7/Z+b2Z+Wbme3sAAeuq1XZBsy1Vq73X\n",
       "PLakzWNDe8Cqc/EKbV5NY+wipmu1MfY7KGNnZ6X5Mh7qvLp5bG8IaHyzQYZ8X51r3dq8msbYRTQ6\n",
       "O8fY76CM8AFYarSZZOM8ApzSKMvq8EtdZV1ebVsdggBP+35HTcaHijwCbG+YpRB2xfydNq9+hQty\n",
       "jLaMFwsIxrE9Vv0s8T+Gznfd2rxqA7mEXcRIy2gc5hFNNn/Plxpk+kvYhd6KLq/qQC5hFzHKMqbb\n",
       "eQTIFhON+tTssBnwK9q8qgO5hF3EKMsYaAtoqSTbG2kQ4qvGx7V5VQdyCbuIUZbxZQEB2qCl0Gh6\n",
       "OixPb+3T5kUWG1IZyIPsIkZYRmOMR6yFNadhtt+HTI0FXV5sU7uKCgO5hF3E6MoYG+URt/AVjbdX\n",
       "FsuTp2nzYr6JFR0KA7mEXcToyjhY4lHRuqSLPvOgNi9WtE9pIJewixhdGedVeFS0FukQmDiszYvn\n",
       "YlttIA+yixhdGdcKqGhJqUuaHdXmxU1cURvIg+wiRlfGIwKqOosHZKltfdq84fOsAruIkZUxdZRH\n",
       "Vcvsl85ZVV1ebH/VrjVjFzGyMiYP8ahsz0k9yA5dXj2/KMAuYGRlTE/4MV3zWf3Jaq1s02WZpcsb\n",
       "Oj6DEruAkZWxbZcf4zXqav7yy6fWhutm3CdbH7ynzYs75mH9ajN2ASMrY08fh9M8IS4Yq5txtmSd\n",
       "mTmizYusdRIflrELGFkZhXZorXl7KZfWzdgrcUrjB7V58UbAJGKdGLuAkZVxn82hUfMmqiR/GEX/\n",
       "l6nT+PljYvfk80h4saLSXbhyaFY/u4CRlXFxgcd9NU88br8tT29I0fZvk1QxKY7D/+TzSHiRPSXz\n",
       "pUQ6cWodlSKTkTwYpwkyxsiAUWyyjMGqHJdNnAqP2WA458It+PfH2H9fpzPahGQTx3VWklux6xiv\n",
       "8nkkvNi97VCgQ3ab71SFsQvIZPwMhm8IMiYxT7rcZBmDVTketqzMo/m8OL/lTsKNY3a7SwXHt0/7\n",
       "d+NOLwtpj6zAvekBIY+EF1nNUqDD5uvrjElAJuMP8HDcJ8ho4I5xc7MH1WBVjoc9b/EIXTVhJdHy\n",
       "kVW4e7mDUcJxTrK+/YILLqO3uj306SW4vIuEPJAqiryodd9VocOZff2fsQvIZMTa5wri3Hgd+nm0\n",
       "2TIGq3I8rCYg5GpC1FsXafAWL8G5HvP6xn+3CDMWa/FhIQ/EbZEX6XREhQ7XzDfcM3YBmYwJ9BSk\n",
       "Ay7OOeinu9kyBqvSFBlh2Tv8HU86w6aX8FVeRvNJW3Q8aIvHu4U8UhljR1Xo8MBZUpYRdu7e/WxA\n",
       "xpbdu1+tNlvGYFWaI+NDNe6jnr3zBOJ4oJ8Ne361FQ0PjzhODF2ZmIuKAf8xceqfcZMncUE3Dt0C\n",
       "LI9UxtYxFTpUTm+BJXnsAroyXgKwKiBjsgJZ6322V5zO6fSDlBrLGKgKZ2EFfEruUf/4MmmyWePR\n",
       "vyFH7ZjbJ0r5qUnUzc71N5z5Id+4P8h6Yxv5lGlUldQ2st95riCjj69tXIXOKYcmNZbxRshgh2bp\n",
       "yNyKJyNKuhH/ex2ds3N4gl7+iks98NzWC91HeGDn1kf+FGywT9JSk85/qe9CeHL9/f3lmZsuvIGX\n",
       "kVbF8QNYUHVsx2OrS74CqJ1ZpncYw0Fqcok81E/0969EpQ+9/h/WnO/ySJZ07/of2Ywj6guoj5UT\n",
       "EzGkzFlOG9ClPicjI+8hjddaIBH+i4Dl8cno8fVyC9AwOlTOxW6Sxy6gK2PWynUQul7/8n8VPI7h\n",
       "7qtRm+zp74AnUHXm+MaeKeihcT/7XQCfDT727bTUVNUnI0kx7yHr3RxsrnIyOlWhhoOqMXVrObfB\n",
       "Csh4ps3CruOyOfwUOtusd8qbBcZoHRlbubONuHPrM4ieRvb3cg2Y8Q2qroyzHaezgxwJv0LzJNHU\n",
       "hCaKdoFvH1fjMDpSjuG+W9BIxriddhylmF/GWY6Hg/2v+fhBexzVd47NyegFdiEZk8ENjg5W6nU+\n",
       "GUlKlgy3+TycZ3MyOlWhtp1SJ+DW74Ao45wisLBrqYzbqYwrgTmQ7XVkzHDnFNQ/fIZUl1Twi1wD\n",
       "+l0cV8YnXRl3gHnIzSPtjdNKKnS0nBZbTUbonovH66K7mUdkTCdw9unPFiBPnr3qixBfb0N+7hbz\n",
       "3lv3EBmNCdg4AvmhE5GMt6fMtfC2vf6lWe04JX/aRmh1S33UpwJJ+T5QGd8q8ZtxpCoDczeDE1Tt\n",
       "UEOp5CuAXH2zAG7YNZbR3Lg3GJGNZMzQ3n7A3bGUuTiQ38btzLSzUQ6/9GYijpncrCRdcNwFdFA1\n",
       "j0ECJ84Md3FeKyrQsXKcpMZzIzyKe0u+dje3p5o7HWdOoKZbTxKrb0Iia8M98DD0FNIFLKM5li4k\n",
       "i48hH+su7Jz0QNbOjME1gFKWwi3wXbfUGT4VSMqHnX/mMmuKvIy4KubfDOwC4KBqhzrx7YpXALlK\n",
       "NkxY2HUCyfhwuZeTkVz6EmpEtm96pFjHUyURTr7luNPya/CQfCrkcN8XZXSX/66Mjm+AWsgcg1j3\n",
       "R1keqYw1FTqnHJakIONy8jj8YnG7X8bMb8m9qJ2ucmQcLN+etdEMk7V7LFRbIiOa91aNw/fg3se2\n",
       "YxljdmYC1pgopffTFixxS13iHxNxilNkPrm6T9gax1VJlojTgoOqnfs25Hw+ErkaX22B+/7MbahR\n",
       "5sMKfqsTX0q/5e6hmDP215HR4Pe3e5z5FHlIs++8HK6kiwFu+Y9G7AonY8bZU8m1Yz1m4uFjYaiM\n",
       "Rk2JjpTDkhqvGyGGa2R5ZwzOCcdJTnMgTwZ5lQWoJkt21k4MQ6yE9SKD6vj555zTOUpGlDOojKMw\n",
       "FZeTWnsIprul3uGTkaTcRwfV3JWCjLgqLR15/EDhoGpKvQUedAtwrqawjk7YtTHFwhPLHn5/C1+K\n",
       "30DcLKyi/9jmeQGRT8ifKTjeCvwE+ekj8Ytwf34xKCMjGuX8FAPNc/ft/dHUCsvjk9Hli7+jREfK\n",
       "YUkKMpJWLHi7mV3+5kDrL6c3GuMF0hvTNpMx14dcqswEmxjIoIpkxCl3orXPHW6pvkHVSXF23PL5\n",
       "1FIreFA1WM6eZzlB1YQ6dUYRtrgF0KvGCWUWdo1kRQPA3Q9ypzr40nJ3Q/FK/wbxaxaPAF/jpbmQ\n",
       "uq/u0JfZJZxmBM8dmLv3kpDHJ6PLlzuqRBdyliIgLyOqRqwclHHQAroNUIJrIVtFM99yC+uFZZxp\n",
       "ZYumvRo2ODK2WQ9VkYxrAKXMgCx2cWipI74x0UlZWHEWHFtKQRlbyr1XWQMkqJpQ55KQ2uX1RnwV\n",
       "f9YpFr5jwHFxthmHziP+D5jEqSER2dhTTf6attSJoQdVkOVWMvH2a8Qdarpr3Toe2rjT03QS/oSQ\n",
       "x7c17vEdUqITH5hxKQoy/nDhZgjKiGeczM/x9R2VWeZvvgW5kQXmtNL5X0fL//mowbaOQG7IHngO\n",
       "rzETG89+4b6DiT90oJQZr2/Gqwpa6kqfjE5KCq3Ky59/o7ru4qCMqYtmbURODA6qJtRnT9n7s3av\n",
       "O+Or5JklYdfI2cEyfu7je8lnX1E2iNNJIrLJLuVSvPy/ZP5WzwNiIYluaOIib+2PxGhdxRYwK1nq\n",
       "zdwAau4m5ohCoxZfZgdU2TKfx2cuX4v/3DKcLmT4FlDp9J88XAP9/crBmP7tNba0N/sguAkj3Yzz\n",
       "mfN0c9TSAgrydaOw2ey3fUUeE95qI4FYE/9iSqwHvoHbJNtFecdfnLuA/6w+UQK8fDBIOJ1gjF1A\n",
       "FRl/etL72VNlH41GuGjJmJJs6MoKQPeldunJOK/Ko2+1cRZ3Y4ZOa3na0D0SooQYen4Ln0fCC13y\n",
       "9+FEOsEYu4AqMg7Z70fGnOXtrfIqxPrxnmo9GRNQT8Y73Pz4vhvk9AaedE7uJ3uq3Mdr5zDj+Z/r\n",
       "6oe5yZo/tV+5Odzs8yYVHCNUm2ETQqosDspag6rEwgowCtLkm0JuH+zm0F1tZKbX6kcBz5M81OY7\n",
       "yq3BeGHxpIJjGLuAkY2MY7G+FJddS+z6V2uNvipvcUWS+Jo2L7w6qWozdgGj+yoO94Zg0v8OR/3R\n",
       "bpm0dcu6vLB/UtVeJsfIypg4wKOySV/XUJ/oGJ9xYFLVfk+OkZUxc5BHVTOk70P2lHR585P6/j/G\n",
       "LmJ03zbeKaCi5aUOUMsuXd7YpL6slrGLGF0Zn7J4VLTssHRVNaHL21INno+qs4sYXRl7bB5VFwzS\n",
       "VXvmmC4vDksVz0fV2UWMrozpbh5VF24VafK1eryb8KFC4HxUnV3E6MqYGOdR0a4Pad+yFm+/gWPC\n",
       "xfNRdXYRoyujeZRHRUczZJ0wWNXiXbcHyR44H1VmFzHK3+B4uR9HFrhnDE4sV4jlQiqYHNbm9c5H\n",
       "lY2xixhlGQdtD/Plk9OFS/FWe5HGcjXIFOhjx7R5vfPRSVWZKyrCMuaHPUzAGoP1q5JRp2ctCrvw\n",
       "tjbvJGxRCEb6K+P/4Ue3B9JYrpDJKfTLkFptbV5tY+wiRltG9pczMBrDGXAGVRqtJbdYqMIaf1yj\n",
       "a7LvbzN2EaMtY67bxeW5bvbeAovWktr54Vs+m7R5tY2xixhtGXGINsXkv4feYlVg0VqyUa3O1/Rn\n",
       "bW1e3TF1uxzry/j//6fGHq7w2HgHpo5jab6kzatpjD2A9f7U2P0fxJ8aMzub+afGMhUeG9r99S7e\n",
       "pM2rafeHoNHZ+QXn9/8AKhOlCsYQnbQAAAAASUVORK5CYII=\n",
       "\" style=\"display:inline;vertical-align:middle;\" /></a><br>(see <a class=\"ProveItLink\" href=\"../../../__pv_it/theorems/487ad5d7c87db260495d3e2e3871046455f32cad0/dependencies.ipynb\">dependencies</a>)<br>"
      ],
      "text/plain": [
       "<IPython.core.display.HTML object>"
      ]
     },
     "metadata": {},
     "output_type": "display_data"
    }
   ],
   "source": [
    "%proving sum_integrate_ineq"
   ]
  },
  {
   "cell_type": "code",
   "execution_count": null,
   "metadata": {},
   "outputs": [],
   "source": []
  }
 ],
 "metadata": {
  "kernelspec": {
   "display_name": "Python 3",
   "language": "python",
   "name": "python3"
  }
 },
 "nbformat": 4,
 "nbformat_minor": 0
}