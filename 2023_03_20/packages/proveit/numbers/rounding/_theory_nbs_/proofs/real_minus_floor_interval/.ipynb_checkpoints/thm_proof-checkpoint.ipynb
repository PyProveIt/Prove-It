{
 "cells": [
  {
   "cell_type": "markdown",
   "metadata": {},
   "source": [
    "Proof of <a class=\"ProveItLink\" href=\"../../../../../_theory_nbs_/theory.ipynb\">proveit</a>.<a class=\"ProveItLink\" href=\"../../../../_theory_nbs_/theory.ipynb\">numbers</a>.<a class=\"ProveItLink\" href=\"../../theory.ipynb\">rounding</a>.<a class=\"ProveItLink\" href=\"../../theorems.ipynb#real_minus_floor_interval\">real_minus_floor_interval</a> theorem\n",
    "========"
   ]
  },
  {
   "cell_type": "code",
   "execution_count": 1,
   "metadata": {},
   "outputs": [],
   "source": [
    "import proveit\n",
    "theory = proveit.Theory() # the theorem's theory\n",
    "from proveit import defaults, x\n",
    "from proveit.logic import InSet\n",
    "from proveit.numbers import Real\n",
    "from proveit.numbers import zero_in_nats\n",
    "from proveit.numbers.number_sets.real_numbers import int_within_real\n",
    "from proveit.numbers.rounding import Floor\n",
    "from proveit.numbers.rounding import floor_is_an_int, real_minus_floor_lower_bound, real_minus_floor_upper_bound"
   ]
  },
  {
   "cell_type": "code",
   "execution_count": 2,
   "metadata": {},
   "outputs": [
    {
     "data": {
      "text/html": [
       "Under these <a href=\"presumptions.txt\">presumptions</a>, we begin our proof of<br><strong id=\"real_minus_floor_interval\">real_minus_floor_interval:</strong> <a class=\"ProveItLink\" href=\"../../../__pv_it/theorems/2633fee9b070bfd190f7b7e8bfa53604aab5837f0/expr.ipynb\"><img src=\"data:image/png;base64,iVBORw0KGgoAAAANSUhEUgAAAN0AAAAVBAMAAAAwUfbwAAAAMFBMVEX///+IiIgiIiIQEBB2dnbu\n",
       "7u5ERETMzMzc3NwyMjK6urpmZmaYmJiqqqpUVFQAAAB6qHgnAAAAAXRSTlMAQObYZgAAAAlwSFlz\n",
       "AAAOxAAADsQBlSsOGwAAAvVJREFUSMeNlk9o01AYwL90yZqmaUkPA3VSRmD+A6EORfBUYQ49bETQ\n",
       "ihR0E43DgxSZV1ccCF6kOwgedqioB0Gx6kCrQ6qiOEQMUw+i0MpwJw8eHE68+PK+l+drki578Gtf\n",
       "vyTvl/e+96cAq5YyI1AUS7xJ9V+WzNJaW2p7zEGCRW/wqlYDzfBdlqv+B64zWu6Prx18HxlRPtgY\n",
       "4hvs9foT7yev3UCeuIFr4TqlgkT7ElbAl3CULfjjWH2ZfF5FLpAvdTTcl2wg0T69FvC9ABjy0uL6\n",
       "3iLum8lOuK+LEe2DXazlE+ZW5jsL0LQEX5dFcR9MdEjfZ8YafDNYnbZ4//4CTDqCL9FABkxzZwff\n",
       "LONg9sigE/Qpme8Tw8w3QqOXLT6eiutrCD65hTwCONXBN8OoSd+SfUFfErLGA+abh7Z5J1fVX8Rn\n",
       "CD69glwBtSU0tHDg2bRX347oZX053Qj63sB76wfzfaDRis+XF3ypHNJt8cUZz9pVSYb97DbYg8Qh\n",
       "iQ0dNd2y2fOVoM7zN0mfJ7kxN7HxJL57Yv/iP5GUwafLU7IJSRK8Mtp9ZF4Z4fNlB/fdoOt1VFgP\n",
       "JH9Ncb5oOQQqz8lH5nFv2V3+rq+n1j6e5EXLihXi01bgMPMt0Gif4LOBDLc4nn0IDJNVL5WXEk6B\n",
       "XpPVMS9XY0ihughysH/KmXQO8sz3mkYzgu8lkOFWhPkyisAUmS46jMXhDr2WPMlHZQRpnn8Id4O+\n",
       "1O9iTnOYb5ZGE85/X8xRdsNxmnh5xd2s8gik6dFBQvO2bTuSJPO2zyHFTGrOCenffePLOy9/23DD\n",
       "XbrFfcpstgSxflew+IdM41gVYVMzp8IE7Z+k3fRyFSsh0fuLyjKnDfH9DMsnfttFBi1TciVJVgbN\n",
       "H+zz5oseshOH+/y7OvfleWiOgSfBhr09oJ4mtdvr88W6Fx5nRPoudThvFb6Q3DPIfw4dsu32c7nA\n",
       "iPSNd/BJPNJdRlYtqoEES2rAxHjKJBXJ35Ac+P+yDvkHQ6LXwMdW6WUAAAAASUVORK5CYII=\n",
       "\" style=\"display:inline;vertical-align:middle;\" /></a><br>(see <a class=\"ProveItLink\" href=\"../../../__pv_it/theorems/2ae3bbc5d33f7204fe0c302f2b700c48e9946a0f0/dependencies.ipynb\">dependencies</a>)<br>"
      ],
      "text/plain": [
       "<IPython.core.display.HTML object>"
      ]
     },
     "metadata": {},
     "output_type": "display_data"
    },
    {
     "name": "stdout",
     "output_type": "stream",
     "text": [
      "real_minus_floor_interval may now be readily provable (assuming required theorems are usable).  Simply execute \"%qed\".\n"
     ]
    }
   ],
   "source": [
    "%proving real_minus_floor_interval"
   ]
  },
  {
   "cell_type": "code",
   "execution_count": 3,
   "metadata": {},
   "outputs": [
    {
     "data": {
      "text/html": [
       "<strong id=\"defaults.assumptions\">defaults.assumptions:</strong> <a class=\"ProveItLink\" href=\"../../../__pv_it/_proof_real_minus_floor_interval/721b375d5dd5d4da2811702f75c886ecc42288280/expr.ipynb\"><img src=\"data:image/png;base64,iVBORw0KGgoAAAANSUhEUgAAAEAAAAAVBAMAAAAEBPWpAAAAMFBMVEX////MzMxUVFRERES6uroi\n",
       "IiIQEBCYmJhmZmYyMjLu7u52dnaqqqqIiIjc3NwAAACW8nlqAAAAAXRSTlMAQObYZgAAAAlwSFlz\n",
       "AAAOxAAADsQBlSsOGwAAAT5JREFUKM9jYGB4wIAT8IEI3gOYEuzTjH+GmTMwsFwAck5j08rMp8Ci\n",
       "bsXAcJ2BgWsCdgUbGAyEGBg4FzBwFOBS0McJtKuBgQ1F4nJo6AS4AmYgI4vhJLK85y0kE7QWARnT\n",
       "GbqB5NpLC3eD/MI3C8kKRpt5QMYmoBIGhgZeXY4AIM35AKEgMz52AZBRyRADdMkD9l9MILdyIjly\n",
       "exXYMccYUhgYGBk4IH4VCwUCA6gVVuUghjxIAQMD2wWwgsXI3pRgBlnhBrKCgcH/AReIx4qsgEMO\n",
       "ZNZRBlugRgc1Bm5wtFxAUsBlAAxnhmKgPxjOS7Ux+IDF5yAUNDCUMzswAENBlIFhxV2edkiULjJZ\n",
       "AIvNzw+YLf8wMIQwsAogB6W3aShK5PEFgKIDDwBFpR0+BY9RPI8FgHTzXcAtz/uAAQAVU0lT+k1X\n",
       "swAAAABJRU5ErkJggg==\n",
       "\" style=\"display:inline;vertical-align:middle;\" /></a><br>"
      ],
      "text/plain": [
       "<IPython.core.display.HTML object>"
      ]
     },
     "metadata": {},
     "output_type": "display_data"
    }
   ],
   "source": [
    "defaults.assumptions = real_minus_floor_interval.conditions"
   ]
  },
  {
   "cell_type": "code",
   "execution_count": 4,
   "metadata": {},
   "outputs": [
    {
     "data": {
      "text/html": [
       "<strong id=\"interval\">interval:</strong> <a class=\"ProveItLink\" href=\"../../../__pv_it/theorems/d6fef8131d9292183bfbdfc42dc66cd3842083190/expr.ipynb\"><img src=\"data:image/png;base64,iVBORw0KGgoAAAANSUhEUgAAACcAAAAVBAMAAAA3P+qgAAAAMFBMVEX///8QEBBUVFRERESYmJju\n",
       "7u6qqqoyMjLc3NxmZma6urp2dnbMzMwiIiKIiIgAAADgw7hFAAAAAXRSTlMAQObYZgAAAAlwSFlz\n",
       "AAAOxAAADsQBlSsOGwAAANxJREFUGNNjeHuHARU0APEuNDGGdRBB7n0zoAI8VxkY+BzAgmUMsQ1g\n",
       "saDpX4FkKUiQ5QIDtwFEJR9I0BMkyKzAwPYVSZAxACjIP4GB5xuSILsDUDAeKPgFSZBbASjYv4GB\n",
       "5x+SIEsBVPA3kiCbAEj7BgYuZJU8HyAWsSFbxAVSyWzAwILsJLYLIMcLMHAWMAQgLDIAefMaQ+AB\n",
       "1u8gQe4fQIJzA0gwcp8OA8NdoFImxe8qDAy8C+BBxxYAC7teRHhywwN0CkIwDibGYYAQfAATZAaG\n",
       "7V70OHrBwAAACo5DzRNFfxsAAAAASUVORK5CYII=\n",
       "\" style=\"display:inline;vertical-align:middle;\" /></a><br>"
      ],
      "text/plain": [
       "<IPython.core.display.HTML object>"
      ]
     },
     "metadata": {},
     "output_type": "display_data"
    }
   ],
   "source": [
    "interval = real_minus_floor_interval.instance_expr.operands[1]"
   ]
  },
  {
   "cell_type": "code",
   "execution_count": 5,
   "metadata": {},
   "outputs": [
    {
     "data": {
      "text/html": [
       "<strong id=\"x_minus_floor\">x_minus_floor:</strong> <a class=\"ProveItLink\" href=\"../../../__pv_it/theorems/b20180cf2471e28c0192c36fc5c74d299c8c9eb00/expr.ipynb\"><img src=\"data:image/png;base64,iVBORw0KGgoAAAANSUhEUgAAAEAAAAAVBAMAAAAEBPWpAAAAMFBMVEX///9ERES6uroQEBAyMjLc\n",
       "3NyYmJgiIiJmZmaqqqp2dnbMzMxUVFSIiIju7u4AAAAd7oVFAAAAAXRSTlMAQObYZgAAAAlwSFlz\n",
       "AAAOxAAADsQBlSsOGwAAAItJREFUKM9jYMAC3iGYrNjkGdIQTI0houDtnderJmAqgAoDFTTwnuUo\n",
       "wFQAFdZgYAtg+8eTgKEAJqzBwM3A4QAS5HMvB4ENUAUwYZAjmS9gdSREGKRAP4DvARYFEGENhocK\n",
       "hxm4ME2ACWswzN/XzKCJqQAmrMHw4i5n2wRMBTDhwRubk8trIYzp5bUAJoEzkFlKUW4AAAAASUVO\n",
       "RK5CYII=\n",
       "\" style=\"display:inline;vertical-align:middle;\" /></a><br>"
      ],
      "text/plain": [
       "<IPython.core.display.HTML object>"
      ]
     },
     "metadata": {},
     "output_type": "display_data"
    }
   ],
   "source": [
    "x_minus_floor = real_minus_floor_interval.instance_expr.operands[0]"
   ]
  },
  {
   "cell_type": "code",
   "execution_count": 6,
   "metadata": {},
   "outputs": [
    {
     "data": {
      "text/html": [
       "<span style=\"font-size:20px;\"><a class=\"ProveItLink\" href=\"../../../../ordering/__pv_it/theorems/d1323f34847310a404e8089c2c268d3c2eb89dbf0/expr.ipynb\"><img src=\"data:image/png;base64,iVBORw0KGgoAAAANSUhEUgAAADQAAAAQBAMAAACra0H4AAAAMFBMVEX///9ERES6uroQEBAyMjLc\n",
       "3NyYmJgiIiJmZmaqqqp2dnbMzMxUVFSIiIju7u4AAAAd7oVFAAAAAXRSTlMAQObYZgAAAAlwSFlz\n",
       "AAAOxAAADsQBlSsOGwAAAMtJREFUGNNjYMAAbM6CX4rFGLACRtYDTMfkcEgtYBDYg1OqlQVF6GJ5\n",
       "uQNcihFZRuUekq5zb4CMt3der5oApFn9kAzklnQFMhp4z3IUAGmWAISUSX3tA6AvAtj+8SSApJCc\n",
       "sSwPZCk3AwfYbobN5UAgADVQLg0sxnwBTD1EdvwOxgcgln4AH4hmR5bi2ArU/1DhMAMXSID3ApIU\n",
       "n8A1Bob5+5oZNMEingipBoY0RgWGF3c52yaARd4IPYCF/McARpGfyMGhJQ4JKCgAAF8xNF8aQs/g\n",
       "AAAAAElFTkSuQmCC\n",
       "\" style=\"display:inline;vertical-align:middle;\" /></a> <a class=\"ProveItLink\" href=\"../../../__pv_it/_proof_real_minus_floor_interval/9e52a1e52bb95ad87d5cd1b0fd6471cf8581aed40/proof.ipynb\" style=\"text-decoration: none\">&nbsp;&#x22A2;&nbsp;&nbsp;</a><a class=\"ProveItLink\" href=\"../../../__pv_it/axioms/8db88dfca55b9f71ce4c1a7fc7ce90f23c816a480/expr.ipynb\"><img src=\"data:image/png;base64,iVBORw0KGgoAAAANSUhEUgAAAEMAAAAVBAMAAADvM06qAAAAMFBMVEX///9ERES6uroyMjLc3Nxm\n",
       "ZmZ2dnbMzMxUVFSIiIgiIiIQEBCqqqqYmJju7u4AAAC1Kov9AAAAAXRSTlMAQObYZgAAAAlwSFlz\n",
       "AAAOxAAADsQBlSsOGwAAAQFJREFUKM9jeMcABywM2MFdBFMVTerw/s1SC/fiVTKxnYGZwQCvklAG\n",
       "hrlsB/AqaWHgE3iI3S0TV60yANEPGFgL2rEqUZ4HF6lgD4AqeTnjedoBmBIWO4QmOcYHUCUBnJ2s\n",
       "C2BKmB3gKngSbkLDhdeB9x/HBbgShCFgL4OVsDOwGiDcUr0KCATAzDlsCgx8UOdyT0AoeQg3hE/A\n",
       "kYGBwwGiRN+B7wFMCRdcCUdBCwPDe7ApDxW6GdjgpnBOgCkpZQJ6uQus5HxdNIMOIlxs4F5mfsDg\n",
       "eBCs5OlMntgDCCUvhB6AaaaN1oLSv8WwRoCaFCQCiEgv1FVyetVKCOMUjIEOAMTgSVWT3xP1AAAA\n",
       "AElFTkSuQmCC\n",
       "\" style=\"display:inline;vertical-align:middle;\" /></a></span>"
      ],
      "text/plain": [
       "{x in Real} |- floor(x) in Integer"
      ]
     },
     "metadata": {},
     "output_type": "display_data"
    }
   ],
   "source": [
    "floor_is_an_int.instantiate({x:x})"
   ]
  },
  {
   "cell_type": "code",
   "execution_count": 7,
   "metadata": {},
   "outputs": [
    {
     "data": {
      "text/html": [
       "<span style=\"font-size:20px;\"> <a class=\"ProveItLink\" href=\"../real_minus_floor_lower_bound/thm_proof.ipynb\" style=\"text-decoration: none\">&nbsp;&#x22A2;&nbsp;&nbsp;</a><a class=\"ProveItLink\" href=\"../../../__pv_it/theorems/a82ec67721f7b0bb23ede763a6f8d09fe3d102270/expr.ipynb\"><img src=\"data:image/png;base64,iVBORw0KGgoAAAANSUhEUgAAAL0AAAAVBAMAAADhtvKAAAAAMFBMVEX///+IiIgiIiIQEBB2dnbu\n",
       "7u5ERETMzMzc3NwyMjK6urpmZmaYmJiqqqpUVFQAAAB6qHgnAAAAAXRSTlMAQObYZgAAAAlwSFlz\n",
       "AAAOxAAADsQBlSsOGwAAAnBJREFUOMuFlU9o1EAUxt9sk03SZEsqFNTCUveiF6GIIHhapRU9KFF0\n",
       "RXrpgo2eZBG9arB3WQXBg4cVvIiKC1Zstci64kEUHNSLIOyKKB49KAhenHkzk3Tzxxn4lsm3mV9e\n",
       "3ps3AfjviKQy40QytQtuKbSTQahQdrxNpvcAbucv5/aQTz4X8D9K6fikl7lhbjpC+ym/uJmPN9tC\n",
       "Wj7cwNmp5DEONXegfYlncDGf7/aE9Pw3Ip79vjL7AAfQdgIAg+bzx6T0/LFAzDfNS/McwCDgtsfi\n",
       "cwrS/0lKz3fUW/blA/4CXKZo76rVdhfwV6SOVk/O0Sxf2pxvDOOYVjFTnN9D+wnAUgH/llSXfHFn\n",
       "snxpc76X7IK733hFfzG+j/ZVsIcbFr4/9Pyamu8U8iLv90Qvw1c251dmE/6S4tfRLgdGR/5lVcMO\n",
       "MeBgXV7vFbLAxfDM6zU+WpKvbM63fsb5+YG3Mv5DH+2KH5f3GVtKCLzyR/lse/i59RU254+r+PuP\n",
       "4/oOqLDbL9jP5Op0hF3I+FPd0fywUCIzyOELG/Mzk9qfIcC7QNiHWZeR6LtDG3jkGHZT5bop1Oh8\n",
       "BSMbv7Kxvoup/noJsCbtZVZeD5oW3Ee+ezru5iNCg4uP4EGWr2zOd+up86FEzT3SnsCC/QF4HYYh\n",
       "JcSIWeeFFiYr6zTLVzbnlzrpo2ul2tpoW7M2XMD4yfgdletSS0jfv1fyGyi2l422y3Yq5h/mVX29\n",
       "rpCev57Pj213674psM/w9thSX1hT9lkpHV8ewMewP7YnX7bUuXw8DEfz2JDS8cv5X8Ky7gNp+0LZ\n",
       "8aG2TZ4nfLI5fzmz/wH7NrS4SeMAaAAAAABJRU5ErkJggg==\n",
       "\" style=\"display:inline;vertical-align:middle;\" /></a></span>"
      ],
      "text/plain": [
       "|- forall_{x in Real} ((x - floor(x)) >= 0)"
      ]
     },
     "metadata": {},
     "output_type": "display_data"
    }
   ],
   "source": [
    "real_minus_floor_lower_bound"
   ]
  },
  {
   "cell_type": "code",
   "execution_count": 8,
   "metadata": {},
   "outputs": [
    {
     "data": {
      "text/html": [
       "<span style=\"font-size:20px;\"><a class=\"ProveItLink\" href=\"../../../../ordering/__pv_it/theorems/d1323f34847310a404e8089c2c268d3c2eb89dbf0/expr.ipynb\"><img src=\"data:image/png;base64,iVBORw0KGgoAAAANSUhEUgAAADQAAAAQBAMAAACra0H4AAAAMFBMVEX///9ERES6uroQEBAyMjLc\n",
       "3NyYmJgiIiJmZmaqqqp2dnbMzMxUVFSIiIju7u4AAAAd7oVFAAAAAXRSTlMAQObYZgAAAAlwSFlz\n",
       "AAAOxAAADsQBlSsOGwAAAMtJREFUGNNjYMAAbM6CX4rFGLACRtYDTMfkcEgtYBDYg1OqlQVF6GJ5\n",
       "uQNcihFZRuUekq5zb4CMt3der5oApFn9kAzklnQFMhp4z3IUAGmWAISUSX3tA6AvAtj+8SSApJCc\n",
       "sSwPZCk3AwfYbobN5UAgADVQLg0sxnwBTD1EdvwOxgcgln4AH4hmR5bi2ArU/1DhMAMXSID3ApIU\n",
       "n8A1Bob5+5oZNMEingipBoY0RgWGF3c52yaARd4IPYCF/McARpGfyMGhJQ4JKCgAAF8xNF8aQs/g\n",
       "AAAAAElFTkSuQmCC\n",
       "\" style=\"display:inline;vertical-align:middle;\" /></a> <a class=\"ProveItLink\" href=\"../../../__pv_it/_proof_real_minus_floor_interval/b82f2f98ff1e9fc0a6210d558d2434c777b08f850/proof.ipynb\" style=\"text-decoration: none\">&nbsp;&#x22A2;&nbsp;&nbsp;</a><a class=\"ProveItLink\" href=\"../../../__pv_it/theorems/4f14997a5f603a84de4d2b7df1a9e120ccba5da80/expr.ipynb\"><img src=\"data:image/png;base64,iVBORw0KGgoAAAANSUhEUgAAAHcAAAAVBAMAAACOK2zoAAAAMFBMVEX////MzMxUVFRERES6uroi\n",
       "IiIQEBCYmJhmZmYyMjLu7u52dnaqqqqIiIjc3NwAAACW8nlqAAAAAXRSTlMAQObYZgAAAAlwSFlz\n",
       "AAAOxAAADsQBlSsOGwAAAYhJREFUOMuNlL9LAzEcxV/Vttf0B11cXHRyEBTRTVA6KijWoZuKgn/A\n",
       "LVU3O1m0IC4iOJ0UQQWhKC52yaJQHHoUBBeli7uj6GKSu/TkksNkerx8P8n33n3vAHShWdeBzEWU\n",
       "8JWlOncnkPPAUhT8jP/hrK0UNF9ZO+TYAMaZUFfBGSlK1gHLNoF3hSL3rjTLwB2QgAmccDz98uCb\n",
       "U0DbQcsITsn+yj79BQxT1Ji66Zw3qQr7NofTI3KjdSQegMM2TpmsZMetogr7NoeTQawLY/zd/zDY\n",
       "xSrb6Sa/+2wFljaHMxsBPCPhBraAGCxxMDkp8ZX3YWlzOPbZa3tClDJ42eUwC9PVBubZHB6QN5cP\n",
       "e4G1KW+bHdIljgb2bNF2MfSqpoE9B7NAvTCKtHqztEVgk6Eh2QYOgFt2/9A+FlVY2hy2GqHxjFOy\n",
       "CQwCl2+ZKlVhaXM4Xgjtk1qHBRvPm0zYh34OkxUTuBrxPc8ZwDmRFy7EHKz8KasbwP1R/6Gcq3Of\n",
       "SmueeOTiXY/+At/PcZMl/qucAAAAAElFTkSuQmCC\n",
       "\" style=\"display:inline;vertical-align:middle;\" /></a></span>"
      ],
      "text/plain": [
       "{x in Real} |- (x - floor(x)) >= 0"
      ]
     },
     "metadata": {},
     "output_type": "display_data"
    }
   ],
   "source": [
    "real_minus_floor_lower_bound.instantiate({x:x})"
   ]
  },
  {
   "cell_type": "code",
   "execution_count": 9,
   "metadata": {},
   "outputs": [
    {
     "data": {
      "text/html": [
       "<span style=\"font-size:20px;\"> <a class=\"ProveItLink\" href=\"../real_minus_floor_upper_bound/thm_proof.ipynb\" style=\"text-decoration: none\">&nbsp;&#x22A2;&nbsp;&nbsp;</a><a class=\"ProveItLink\" href=\"../../../__pv_it/theorems/1da937839768f43ff773ebbf125bd8f76a3dd31c0/expr.ipynb\"><img src=\"data:image/png;base64,iVBORw0KGgoAAAANSUhEUgAAAL0AAAAVBAMAAADhtvKAAAAAMFBMVEX///+IiIgiIiIQEBB2dnbu\n",
       "7u5ERETMzMzc3NwyMjK6urpmZmaYmJiqqqpUVFQAAAB6qHgnAAAAAXRSTlMAQObYZgAAAAlwSFlz\n",
       "AAAOxAAADsQBlSsOGwAAAklJREFUOMuFlU1oE0EUx9+0k+ymuwnpoeAHlDboSYVQPHmqUEEPyhZq\n",
       "PBSkAV09FtGrLPZYkLQg9KCwQi+iYkBBq0XiwYPoYaleBMFIwZMHLwG9OW8+drOZWWfgH2Z+yf7Y\n",
       "fW8mC/DfEclo42I2dQt+UoizQRIRfXzKpo8BHpovR9zHybcC/xcZm5/0tB84RwV+jYsts77UEbH6\n",
       "4d7o95d3BgLfxgqumP1eT8Tu/6iXdiBwJQCgidk/LmP3jwfpsrqV+Rn22f1VCsr/Vcbur6RP6R8L\n",
       "Mj/iuUbjZIH/hczi9KWFRPdLjH7aV2U5EgzVB/FLgKsF/vsyXfLDm9H9EqPfl7tgaTZXf8R3we0P\n",
       "Xbh37u2Gmp8Q8SN/UOtpfoXRX21yun4831/E5YDGas9OhzGhcHZerk+JOODx2yttNnCsSr/C6Hd+\n",
       "46z2YGT/IK7W0/a+YZcSAu/reT/bB3VjfwVG/0TT6Oe48459TL46HPFTyPxT3Xx9AJ5FpcDgF5jX\n",
       "Z8ZcH8Tn2Skj0c9K0uKcum1V67ZIK94Hqt+/wry/K+b+Il5j7fWh7cATzr0r6Wm+IPL91nN4qvsV\n",
       "Rr+nWrY4Kx+U/lG4xhvGlh/CMEwIoanrhsjyZHU30f0Ko38sTs+XOAC1/b+/hrHTdOEmv38ysa1q\n",
       "PbYqYj+/d7KlP/RnmeI12vHYTuX1hzOqv35XxO7fNR/QFHuHTk+Be43NHh2cX95R+LqMzV/wBzyK\n",
       "l8IwzoGWjM1fNr8Jy7YXpFsX0cfnhtyJezg5YL6c4X+CsqhlQ8GntwAAAABJRU5ErkJggg==\n",
       "\" style=\"display:inline;vertical-align:middle;\" /></a></span>"
      ],
      "text/plain": [
       "|- forall_{x in Real} ((x - floor(x)) < 1)"
      ]
     },
     "metadata": {},
     "output_type": "display_data"
    }
   ],
   "source": [
    "real_minus_floor_upper_bound"
   ]
  },
  {
   "cell_type": "code",
   "execution_count": 10,
   "metadata": {},
   "outputs": [
    {
     "data": {
      "text/html": [
       "<span style=\"font-size:20px;\"><a class=\"ProveItLink\" href=\"../../../../ordering/__pv_it/theorems/d1323f34847310a404e8089c2c268d3c2eb89dbf0/expr.ipynb\"><img src=\"data:image/png;base64,iVBORw0KGgoAAAANSUhEUgAAADQAAAAQBAMAAACra0H4AAAAMFBMVEX///9ERES6uroQEBAyMjLc\n",
       "3NyYmJgiIiJmZmaqqqp2dnbMzMxUVFSIiIju7u4AAAAd7oVFAAAAAXRSTlMAQObYZgAAAAlwSFlz\n",
       "AAAOxAAADsQBlSsOGwAAAMtJREFUGNNjYMAAbM6CX4rFGLACRtYDTMfkcEgtYBDYg1OqlQVF6GJ5\n",
       "uQNcihFZRuUekq5zb4CMt3der5oApFn9kAzklnQFMhp4z3IUAGmWAISUSX3tA6AvAtj+8SSApJCc\n",
       "sSwPZCk3AwfYbobN5UAgADVQLg0sxnwBTD1EdvwOxgcgln4AH4hmR5bi2ArU/1DhMAMXSID3ApIU\n",
       "n8A1Bob5+5oZNMEingipBoY0RgWGF3c52yaARd4IPYCF/McARpGfyMGhJQ4JKCgAAF8xNF8aQs/g\n",
       "AAAAAElFTkSuQmCC\n",
       "\" style=\"display:inline;vertical-align:middle;\" /></a> <a class=\"ProveItLink\" href=\"../../../__pv_it/_proof_real_minus_floor_interval/236a4eeb8cd09e0661f2d44a1479ca4d8b00b21e0/proof.ipynb\" style=\"text-decoration: none\">&nbsp;&#x22A2;&nbsp;&nbsp;</a><a class=\"ProveItLink\" href=\"../../../__pv_it/theorems/6063401591e84aaf86f7220c37fe1d302a43e7bc0/expr.ipynb\"><img src=\"data:image/png;base64,iVBORw0KGgoAAAANSUhEUgAAAHYAAAAVBAMAAABh6QfWAAAAMFBMVEX////MzMxUVFRERES6uroi\n",
       "IiIQEBCYmJhmZmYyMjLu7u52dnaqqqqIiIjc3NwAAACW8nlqAAAAAXRSTlMAQObYZgAAAAlwSFlz\n",
       "AAAOxAAADsQBlSsOGwAAAVZJREFUOMtjYGB4wIAFrEIw+XAoAQLeA9hEyxFMDwYGXxx6TzMQ1stb\n",
       "gKGAMYqBgWsCEXoZZqHLL+r8xcDAUUCM3gpMrwL1sjEQo5dtAZzLMw+u9yRRejnhrmOPWADX2w2k\n",
       "115auPsApl6oMEgvtwLMqdELEG6eDqQbeHU5AjD1QoVBetmhIbo6Ftm/MUCJB+y/mAow9MKEQXp5\n",
       "EsCiL8JRwioFGFUMHGBjuaaGgoAAVC9MGKSX8QOIxTSHAV0vMBgvYA0riDBIL0sCNr0xIIb/A64F\n",
       "WPRChMFuDsDmZlsGhsUOagzcmPbChMFhZYAtrDYxMJyXamPwwdQLEwbp5dgAFV8bC3Ug9z8GBlEG\n",
       "hhV3edoPYOqFCYP0sjrA0wYkgpnUfqozsAoQk66eIrjs8xDMBmL0tmNPuXZE6OUzwK53MRF6mXEU\n",
       "OnwXsIkeC4XGxlEQ4x5WnQAs0mSvLZlrtgAAAABJRU5ErkJggg==\n",
       "\" style=\"display:inline;vertical-align:middle;\" /></a></span>"
      ],
      "text/plain": [
       "{x in Real} |- (x - floor(x)) < 1"
      ]
     },
     "metadata": {},
     "output_type": "display_data"
    }
   ],
   "source": [
    "real_minus_floor_upper_bound.instantiate({x:x})"
   ]
  },
  {
   "cell_type": "code",
   "execution_count": null,
   "metadata": {},
   "outputs": [
    {
     "name": "stdout",
     "output_type": "stream",
     "text": [
      "proveit.numbers.rounding.real_minus_floor_interval has been proven.\n"
     ]
    }
   ],
   "source": [
    "%qed"
   ]
  },
  {
   "cell_type": "code",
   "execution_count": null,
   "metadata": {},
   "outputs": [],
   "source": []
  }
 ],
 "metadata": {
  "kernelspec": {
   "display_name": "Python 3",
   "language": "python",
   "name": "python3"
  },
  "language_info": {
   "codemirror_mode": {
    "name": "ipython",
    "version": 3
   },
   "file_extension": ".py",
   "mimetype": "text/x-python",
   "name": "python",
   "nbconvert_exporter": "python",
   "pygments_lexer": "ipython3",
   "version": "3.7.3"
  }
 },
 "nbformat": 4,
 "nbformat_minor": 1
}
