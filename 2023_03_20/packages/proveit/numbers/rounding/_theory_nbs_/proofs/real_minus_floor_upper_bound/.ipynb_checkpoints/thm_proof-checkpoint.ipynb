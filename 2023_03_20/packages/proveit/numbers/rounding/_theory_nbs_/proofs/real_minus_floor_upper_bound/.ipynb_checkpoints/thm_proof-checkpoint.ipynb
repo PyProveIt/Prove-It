{
 "cells": [
  {
   "cell_type": "markdown",
   "metadata": {},
   "source": [
    "Proof of <a class=\"ProveItLink\" href=\"../../../../../_theory_nbs_/theory.ipynb\">proveit</a>.<a class=\"ProveItLink\" href=\"../../../../_theory_nbs_/theory.ipynb\">numbers</a>.<a class=\"ProveItLink\" href=\"../../theory.ipynb\">rounding</a>.<a class=\"ProveItLink\" href=\"../../theorems.ipynb#real_minus_floor_upper_bound\">real\\_minus\\_floor\\_upper\\_bound</a> theorem\n",
    "========"
   ]
  },
  {
   "cell_type": "code",
   "execution_count": 1,
   "metadata": {},
   "outputs": [],
   "source": [
    "import proveit\n",
    "theory = proveit.Theory() # the theorem's theory"
   ]
  },
  {
   "cell_type": "code",
   "execution_count": 2,
   "metadata": {},
   "outputs": [
    {
     "data": {
      "text/html": [
       "Under these <a href=\"presumptions.txt\">presumptions</a>, we begin our proof of<br><strong id=\"real_minus_floor_upper_bound\">real_minus_floor_upper_bound:</strong> <a class=\"ProveItLink\" href=\"../../../__pv_it/theorems/1da937839768f43ff773ebbf125bd8f76a3dd31c0/expr.ipynb\"><img src=\"data:image/png;base64,iVBORw0KGgoAAAANSUhEUgAAAL0AAAAVBAMAAADhtvKAAAAAMFBMVEX///+IiIgiIiIQEBB2dnbu\n",
       "7u5ERETMzMzc3NwyMjK6urpmZmaYmJiqqqpUVFQAAAB6qHgnAAAAAXRSTlMAQObYZgAAAAlwSFlz\n",
       "AAAOxAAADsQBlSsOGwAAAklJREFUOMuFlU1oE0EUx9+0k+ymuwnpoeAHlDboSYVQPHmqUEEPyhZq\n",
       "PBSkAV09FtGrLPZYkLQg9KCwQi+iYkBBq0XiwYPoYaleBMFIwZMHLwG9OW8+drOZWWfgH2Z+yf7Y\n",
       "fW8mC/DfEclo42I2dQt+UoizQRIRfXzKpo8BHpovR9zHybcC/xcZm5/0tB84RwV+jYsts77UEbH6\n",
       "4d7o95d3BgLfxgqumP1eT8Tu/6iXdiBwJQCgidk/LmP3jwfpsrqV+Rn22f1VCsr/Vcbur6RP6R8L\n",
       "Mj/iuUbjZIH/hczi9KWFRPdLjH7aV2U5EgzVB/FLgKsF/vsyXfLDm9H9EqPfl7tgaTZXf8R3we0P\n",
       "Xbh37u2Gmp8Q8SN/UOtpfoXRX21yun4831/E5YDGas9OhzGhcHZerk+JOODx2yttNnCsSr/C6Hd+\n",
       "46z2YGT/IK7W0/a+YZcSAu/reT/bB3VjfwVG/0TT6Oe48459TL46HPFTyPxT3Xx9AJ5FpcDgF5jX\n",
       "Z8ZcH8Tn2Skj0c9K0uKcum1V67ZIK94Hqt+/wry/K+b+Il5j7fWh7cATzr0r6Wm+IPL91nN4qvsV\n",
       "Rr+nWrY4Kx+U/lG4xhvGlh/CMEwIoanrhsjyZHU30f0Ko38sTs+XOAC1/b+/hrHTdOEmv38ysa1q\n",
       "PbYqYj+/d7KlP/RnmeI12vHYTuX1hzOqv35XxO7fNR/QFHuHTk+Be43NHh2cX95R+LqMzV/wBzyK\n",
       "l8IwzoGWjM1fNr8Jy7YXpFsX0cfnhtyJezg5YL6c4X+CsqhlQ8GntwAAAABJRU5ErkJggg==\n",
       "\" style=\"display:inline;vertical-align:middle;\" /></a><br>(see <a class=\"ProveItLink\" href=\"../../../__pv_it/theorems/532c7eac36eaf4cf49696e8452f7a090fc9f8d4d0/dependencies.ipynb\">dependencies</a>)<br>"
      ],
      "text/plain": [
       "real_minus_floor_upper_bound: forall_{x in Real} ((x - floor(x)) < 1)"
      ]
     },
     "execution_count": 2,
     "metadata": {},
     "output_type": "execute_result"
    }
   ],
   "source": [
    "%proving real_minus_floor_upper_bound"
   ]
  },
  {
   "cell_type": "code",
   "execution_count": null,
   "metadata": {},
   "outputs": [],
   "source": []
  }
 ],
 "metadata": {
  "kernelspec": {
   "display_name": "Python 3",
   "language": "python",
   "name": "python3"
  },
  "language_info": {
   "codemirror_mode": {
    "name": "ipython",
    "version": 3
   },
   "file_extension": ".py",
   "mimetype": "text/x-python",
   "name": "python",
   "nbconvert_exporter": "python",
   "pygments_lexer": "ipython3",
   "version": "3.7.3"
  }
 },
 "nbformat": 4,
 "nbformat_minor": 1
}
