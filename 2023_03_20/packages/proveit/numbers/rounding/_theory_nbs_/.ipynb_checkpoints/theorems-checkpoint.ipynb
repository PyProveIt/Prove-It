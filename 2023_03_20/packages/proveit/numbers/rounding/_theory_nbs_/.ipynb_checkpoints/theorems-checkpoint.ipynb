{
 "cells": [
  {
   "cell_type": "markdown",
   "metadata": {},
   "source": [
    "Theorems (or conjectures) for the theory of <a class=\"ProveItLink\" href=\"theory.ipynb\">proveit.numbers.rounding</a>\n",
    "========"
   ]
  },
  {
   "cell_type": "code",
   "execution_count": 1,
   "metadata": {},
   "outputs": [],
   "source": [
    "import proveit\n",
    "# Prepare this notebook for defining the theorems of a theory:\n",
    "%theorems_notebook # Keep this at the top following 'import proveit'.\n",
    "from proveit import a, n, x, y\n",
    "from proveit.logic import Equals, Forall, InSet\n",
    "from proveit.numbers import (Add, Ceil, Floor, frac, greater, greater_eq,\n",
    "                             IntervalCO, Less, LessEq, Neg, Round, subtract)\n",
    "from proveit.numbers import (zero, one, two, Integer, Natural,\n",
    "                            NaturalPos, Real, RealPos)"
   ]
  },
  {
   "cell_type": "code",
   "execution_count": 2,
   "metadata": {},
   "outputs": [
    {
     "name": "stdout",
     "output_type": "stream",
     "text": [
      "Defining theorems for theory 'proveit.numbers.rounding'\n",
      "Subsequent end-of-cell assignments will define theorems\n",
      "'%end theorems' will finalize the definitions\n"
     ]
    }
   ],
   "source": [
    "%begin theorems"
   ]
  },
  {
   "cell_type": "markdown",
   "metadata": {},
   "source": [
    "### Basic Properties of Ceil, Floor, & Round"
   ]
  },
  {
   "cell_type": "code",
   "execution_count": 3,
   "metadata": {},
   "outputs": [
    {
     "data": {
      "text/html": [
       "<strong id=\"ceil_of_integer\"><a class=\"ProveItLink\" href=\"proofs/ceil_of_integer/thm_proof.ipynb\">ceil_of_integer</a> (conjecture without proof):<br></strong> <a class=\"ProveItLink\" href=\"../__pv_it/theorems/fb0a69295eceae5ecd5ac41a170be9127dca40b70/theorem_expr.ipynb\"><img src=\"data:image/png;base64,iVBORw0KGgoAAAANSUhEUgAAAIkAAAAVBAMAAACArtDCAAAAMFBMVEX///+IiIgiIiIQEBB2dnbu\n",
       "7u5ERETMzMzc3NwyMjK6urpmZmaYmJiqqqpUVFQAAAB6qHgnAAAAAXRSTlMAQObYZgAAAAlwSFlz\n",
       "AAAOxAAADsQBlSsOGwAAAc9JREFUOMuNlD1Iw0AUx/+tadO0TamgIIpSs7hJFHGOQycRIqggLgoa\n",
       "0alDVyXqqtJFcKzODtrFz0E3xa9sDip00UnEzY7epXettld7Bwkv//fyu/fevQT4b0WAfaO3bOuG\n",
       "cSkMctFkdQN31afooTBoj1xFaryIIbolQwmQFM+osSumTEOGgh1glZY/K3ZfyFFuAc0GFE/sNuUo\n",
       "LTbipCqtQVtychSNIAYNY0jsjVmMEmp9y44JKExXyAkdAwuN9/ApMfQkC5xSMOjqR1WPk5y3ESn+\n",
       "ejUxPDrP9gx6jHKNR/tDkAvTddK/sK3kmar2OPmgq4zbrGt5RsngVNgXpqtfhJSsNPc8Q9LDyiZq\n",
       "KMBAg+6WdXqWuStyaz3pcgPl7+SQB1cqQrSESUFfmK6niDlGZi/gvmvelO+Jb2UYJZwsU0LLCRNW\n",
       "fS5cj9Oh3SjSOuZUHPi+cYVH0ROkFP17xox69RSu+xOR8PcuATeO43iw0jRLv2splstR8vle0Beu\n",
       "B/npQDUjyPqlPl0izcQ+udld58aGkouRM6dlxBBNVT8zGcpFZdg7R9oRWSTWw2fbEp/CsCtDqf0j\n",
       "TDhO/k/hszKUcLNf5hrwWn1SLWFQB/ADQO1/xPDUS6EAAAAASUVORK5CYII=\n",
       "\" style=\"display:inline;vertical-align:middle;\" /></a><br>"
      ],
      "text/plain": [
       "ceil_of_integer: forall_{x in Integer} (ceil(x) = x)"
      ]
     },
     "execution_count": 3,
     "metadata": {},
     "output_type": "execute_result"
    }
   ],
   "source": [
    "ceil_of_integer = Forall(x, Equals(Ceil(x), x), domain=Integer)"
   ]
  },
  {
   "cell_type": "code",
   "execution_count": 4,
   "metadata": {},
   "outputs": [
    {
     "data": {
      "text/html": [
       "<strong id=\"floor_of_integer\"><a class=\"ProveItLink\" href=\"proofs/floor_of_integer/thm_proof.ipynb\">floor_of_integer</a> (conjecture without proof):<br></strong> <a class=\"ProveItLink\" href=\"../__pv_it/theorems/bfbba18bcfaab8e70b2763c481f4305be272096f0/theorem_expr.ipynb\"><img src=\"data:image/png;base64,iVBORw0KGgoAAAANSUhEUgAAAIkAAAAVBAMAAACArtDCAAAAMFBMVEX///+IiIgiIiIQEBB2dnbu\n",
       "7u5ERETMzMzc3NwyMjK6urpmZmaYmJiqqqpUVFQAAAB6qHgnAAAAAXRSTlMAQObYZgAAAAlwSFlz\n",
       "AAAOxAAADsQBlSsOGwAAAcxJREFUOMuNlDssBEEYx/931u3dPi4rIRHicrbRyRJRn0IlkpUgEc1J\n",
       "WKG6QksWLXKNRLl6BRrPgo54baJQUFxDJaKjNLNm7o6bYya5y7f/+fY332sH+GslgbGqR1/o5OOf\n",
       "1QFcV560XaHTNvmVqPEkhpg5GUrsDDimxpaYMgEZCjaBJZp+Xrx9Kke5AlIuoITibUeO0uDCIFml\n",
       "6pSlKEdJEUSvbfeJd/UcozQ2PS8MCyhMV0iHDoCZ+mdEFB0Za59T9m26ulHRDRLzBpKlqlfT/UPT\n",
       "7Mx4yCgXuHNfBbEw3ST1S7hKwFQ14wVxXxlxWdUCRingSFgXpqvvhGSVi3tSIOFhcQ2/KEBPnep+\n",
       "67SXxXPy13TY7tMhJGuXO5czgvZJv6eaujDdzBJzmMxezH9JhePRjrFeYJSE9U1pnE87yNXGwnWD\n",
       "Du1qieYxpWIn2htRuBftIKWYH5OOFtZSuB5NRDo6+xO49DwvRG6Q3wZqlsWyZz3eCOrC9TjvDlQn\n",
       "iYUo1YczDDKxS252V7ixqhR10nOahg4tW/nMZCin5WFvG2hBcpZYt2/Nc3wKE74M5feNMOp5wY/E\n",
       "8zKUxH9X5jJwb3eyjti2JXRqBb4A+9N+9omWn58AAAAASUVORK5CYII=\n",
       "\" style=\"display:inline;vertical-align:middle;\" /></a><br>"
      ],
      "text/plain": [
       "floor_of_integer: forall_{x in Integer} (floor(x) = x)"
      ]
     },
     "execution_count": 4,
     "metadata": {},
     "output_type": "execute_result"
    }
   ],
   "source": [
    "floor_of_integer = Forall(x, Equals(Floor(x), x), domain=Integer)"
   ]
  },
  {
   "cell_type": "code",
   "execution_count": 5,
   "metadata": {},
   "outputs": [
    {
     "data": {
      "text/html": [
       "<strong id=\"round_of_integer\"><a class=\"ProveItLink\" href=\"proofs/round_of_integer/thm_proof.ipynb\">round_of_integer</a> (conjecture without proof):<br></strong> <a class=\"ProveItLink\" href=\"../__pv_it/theorems/9b05abbe752ffd93f550447698997e948c8436ea0/theorem_expr.ipynb\"><img src=\"data:image/png;base64,iVBORw0KGgoAAAANSUhEUgAAAMIAAAAVBAMAAADm9CyVAAAAMFBMVEX///+IiIgiIiIQEBB2dnbu\n",
       "7u5ERETMzMzc3NwyMjK6urpmZmaYmJiqqqpUVFQAAAB6qHgnAAAAAXRSTlMAQObYZgAAAAlwSFlz\n",
       "AAAOxAAADsQBlSsOGwAAAuVJREFUSMeFVU1oE1EQ/pLsJptsElOoij+tpYhCQaiSFtHLBi0e/EvQ\n",
       "VopQEtBVETRIBT1oVype1CYIggcPUa+KQQX/isaLIKKEVlBBaIrGgwdpD8UiFpy3P9lls5t9sG/n\n",
       "fTP7vnkz82aBVkOA11BaG3pu0OFl4Ktq70jCWc/wGhO+Oetjkvve57ez+ZOxXOtiRvgL9r7lrB5u\n",
       "5f4SPXzRWIXTzlaEX2TRyjqrJ1sQRBZoEivGMlp2NiOckXNVZ3VvCwaui6aAue5zsetDlNwIu6Sh\n",
       "2IIhzJz+aq5vu9gRvqW7O+msFCnRo9mre8jhtl/IUMzquFO/vILqYyI1xs79hJ5M56GdJO+zf23i\n",
       "T4GjLm7S8aST0g4IPSgo0jSic5BOJfhFRLbidFp3vOybFSli71SfutWh1qeJT0CoWbaN9+8+omfN\n",
       "X4VQuUGO+hPw76o+QrwYKW2A8AcHKnjOLDZRKpXoQpxcmban2MSDaa6ko6FOueRXuIxeeYESQul/\n",
       "JLwmuY7NCCR4/i9iCwxYzyy20TcQ1XSN2RgseCzRSPTLPHHjwjU0GLSi7AcKCZIKecTm6CQEEJPG\n",
       "QGbqfb7XFGQTL76hqe3ZGsWnVXfZKG2KElgo+Xlgv0LSOrDtl1UG51lKtCgBDxWeDj1lz4MF33uT\n",
       "+ovyM1wd0gJ4Pa8zBMkJP2scFKkkgjXI0XRAwkx6YImYvpAiBwyVvoMj8a3tBFZ8vMZikwvhvlZl\n",
       "XONSkaLAcvQKwTLEWijJsUCtiuZzmFJPSqU4c/YxHuiFax1WPK76vEiFJctyFdIABvVkUYTuqlQp\n",
       "6l78j46JlWw98gEj7edm2VdngMNtsUl2NXpsDE14qFfAqNpvPlcwoIMbvZq3P9/4EXS5/CAMfJwr\n",
       "ilS3zF8REQN978Vg9juzB9r6goGLq1PLIRwj6ePv9hPGDQwqXhTHDeGKi4ENPyjLJeuaz3oxDDVR\n",
       "ubngMi55MQj639PnclrC/wNPnrlnybFg3AAAAABJRU5ErkJggg==\n",
       "\" style=\"display:inline;vertical-align:middle;\" /></a><br>"
      ],
      "text/plain": [
       "round_of_integer: forall_{x in Integer} (round(x) = x)"
      ]
     },
     "execution_count": 5,
     "metadata": {},
     "output_type": "execute_result"
    }
   ],
   "source": [
    "round_of_integer = Forall(x, Equals(Round(x), x), domain=Integer)"
   ]
  },
  {
   "cell_type": "code",
   "execution_count": 6,
   "metadata": {},
   "outputs": [
    {
     "data": {
      "text/html": [
       "<strong id=\"ceil_of_sum_less_eq\"><a class=\"ProveItLink\" href=\"proofs/ceil_of_sum_less_eq/thm_proof.ipynb\">ceil_of_sum_less_eq</a> (conjecture without proof):<br></strong> <a class=\"ProveItLink\" href=\"../__pv_it/theorems/248ebe26c897a099258a9e6a52768a964998acc50/theorem_expr.ipynb\"><img src=\"data:image/png;base64,iVBORw0KGgoAAAANSUhEUgAAARUAAAAWBAMAAAAcIxXLAAAAMFBMVEX///+IiIgiIiIQEBB2dnbu\n",
       "7u5ERETMzMzc3NwyMjK6urpmZmaYmJiqqqpUVFQAAAB6qHgnAAAAAXRSTlMAQObYZgAAAAlwSFlz\n",
       "AAAOxAAADsQBlSsOGwAAAzxJREFUSMfFlk1o1EAYht+0yf5kN2uqVNSFUuNBEJX1BwRBSIWCPVRS\n",
       "rL0USgt2FQ9lsb2qi8WrxIPgwcMKXopK66Joa6mpoCgijdVLaQ8r1ILgoRdpDx6cZGbjJjvJticH\n",
       "3k2y870zTyYz3wywlVKErGlqSKWiaVakhRPg1S1qh51Yqq0UwUbaiqiXpxpY6gJq6h4DD0FVcZ5X\n",
       "olm+YdssfksDFsGimnGe70eiSOY2WJaKHEsDFtyjukEuicFIlpRVxyJbISxvX/AsXsATPssnqqQB\n",
       "iHYkSzPqWBSVz7Kzk2vxAr7wWZoNV86/yejpsrRVFumsyrc0YklaVMc17WQ0y3Nmllp+jHX7WKSs\n",
       "hQGvK6lshVi4LD2zkCqURaxQvQSGo1keMHMKbWrZxyIqOSxUu5J+2mEWLov+Fel1ypI2qe4gUanv\n",
       "f7Fr7m71/ggzf8CC8cvHcj3VjjWvqxqWgIXHErfLyAxSFvJKrmKGWPJzxNvyJUHEOZ09n2YNFzBN\n",
       "F4mmHSBflryB0azimNdV4t83ClhoQFnTTmjaUcYiESexuyzxdSpFDU7d1wWSegS8UwMNw+nXP3cn\n",
       "jfgGb+4GLNxvJP/GzQJlkXNUMOfJT8urLElSchsybgZ0WFqnAgMOeRMX/SzTEHK8NR2wcFlSJnax\n",
       "daS0U6GbZDyhuJYkX7tnhzGKPnc/ERND1REfYoN6NZOD7mcZQazCy3UBC5eFOEcYS3qQCuOktTSG\n",
       "4uT29iJ209wopC55yfg8NSsb/TnZ9rPMYdIK7AEFjoU/LhX5D2NJ6VTIuO5NN2YV3/Exn8/bgiA+\n",
       "rTZ/jb3kM3X5c2C+DHS8KfL2xoCFyyKtZjcZS1OJiq2dXMK5HMIpjLnjIsiPDFbXVIjIu13cfTpg\n",
       "Ccm7oslYbjG5ZVw0U+gFDsrrZJG78wWd1QbSU2F7o2hKZ7gsAQt3b+zCBZuxzDLRlLGvoxWjNpbf\n",
       "m0hcJn9M7NX7p6u1V8LODE1qRve6kjS3FDgW7plhP5kRlMU5JwTPCrZUjJGg3nzen/36wliU+ZmQ\n",
       "s1RfY5aVbImxxIpUtQNvZNQJXpcJFUrUsSKuN7DUBdTUkem5B1S1sJDndfy/8hc4pB1SjR8k8AAA\n",
       "AABJRU5ErkJggg==\n",
       "\" style=\"display:inline;vertical-align:middle;\" /></a><br>"
      ],
      "text/plain": [
       "ceil_of_sum_less_eq: forall_{x, y in Real} (ceil(x + y) <= (ceil(x) + ceil(y)))"
      ]
     },
     "execution_count": 6,
     "metadata": {},
     "output_type": "execute_result"
    }
   ],
   "source": [
    "ceil_of_sum_less_eq = Forall(\n",
    "    (x, y),\n",
    "    LessEq(Ceil(Add(x,y)), Add(Ceil(x), Ceil(y))),\n",
    "    domain=Real)"
   ]
  },
  {
   "cell_type": "code",
   "execution_count": 7,
   "metadata": {},
   "outputs": [
    {
     "data": {
      "text/html": [
       "<strong id=\"ceil_of_sum_greater_eq\"><a class=\"ProveItLink\" href=\"proofs/ceil_of_sum_greater_eq/thm_proof.ipynb\">ceil_of_sum_greater_eq</a> (conjecture without proof):<br></strong> <a class=\"ProveItLink\" href=\"../__pv_it/theorems/40b819767c1003957aec220cf1eee030d741df760/theorem_expr.ipynb\"><img src=\"data:image/png;base64,iVBORw0KGgoAAAANSUhEUgAAAUkAAAAWBAMAAAC/C3MNAAAAMFBMVEX///+IiIgiIiIQEBB2dnbu\n",
       "7u5ERETMzMzc3NwyMjK6urpmZmaYmJiqqqpUVFQAAAB6qHgnAAAAAXRSTlMAQObYZgAAAAlwSFlz\n",
       "AAAOxAAADsQBlSsOGwAAA9RJREFUSMfNl01oE0EUx9+2u0m6H3GLKGqg1FUR/CJ+gCAIERTsobLF\n",
       "Wg+FkoJG8SBB61FdWrxKFBRBkQpeipbGKmi1aHpQFBHX2ktRMKW1px56Ca3gwZnd2SQ7+3atNxem\n",
       "Sd5//rO/mXnzUYCVPBbIhqGHiJphlDCL3zZp7OBqVDVHskJeHKYEH8EGtRShy0XMwtsecVXqNCI9\n",
       "QFt+wEqZ/vgeTTkF/0w5FbRFUwqBF8S3uFFaXtLAnUhIqbAiSume38LboinhFif3jFVYlJQr5COR\n",
       "jaRUSgFKuYSMZedGn4W3eZSPccqPgaSpsCgpTSaAaEdSNkKAUtOxGRc2m3UW3uZRfsEpG02MkkZJ\n",
       "oXWbotNyeqWUoHqY04jtL5RNJYySRmnZYxj7oimfsSal5p997T5KKVWCnvrVo921qhbPBh0tJw/b\n",
       "OGXHOEhlVxLLGCWN0vIc4HQ05T3WpAIt+qiPUtTS8Nm3xuX7pmfxbFAUZpRWnDLzFdRFV1ILGCWN\n",
       "0nIdEuUg2WTb6xve952syffw2VzwUV4mb5/3U942PYtnUy21kiyhlHF7FJJZVyIdRihplJaYKQ5y\n",
       "G1VLblAQ4WiG/T7AXpeHMXcBG8Ymkiekb2ajDrt9M37fqlo8WxyUQjUvRw1jr2HsYpQScZMmHCm+\n",
       "SFPopkGffJWSRmnRdH7xvCKVBAHe6hwlUCL/6hkx40v1q2e7CQFKcEDwGZcrcDXvSjI6ljTqKIUJ\n",
       "8qf5RYqMgtwCSfcUIJRrityMg7wMJ/yUYyCksZ2ofsZJXyzJxCnJKK9mHdBa0RlvZUo72dsFa76J\n",
       "LMOOVeZF6HKqiIleb2voZdNzLpmGjJ/yPMTK2K7eW7NB1+AsiCFjSdznmaRm0dWTZcoAeY8KvXHy\n",
       "9dokrHXPBkE5VXUdc5vUlrrTsu2nfA0jJeyEPFazwY9LT2E4hFIpy7+ZpGQ4SnGZRR0l6eTqsqPM\n",
       "wQx8yOVytiCIw171C2wsn+jfPnF52XPojYXdNi7UbNDdrI3bIZTSXGqZSQ3cGk7O/lpwozUlnk7Q\n",
       "j22wH/qcsRTkh16SNeQjzp429E5ELbwNP3vEApP60b26v14ZEAsKdAJslRfJ1uTkJRyprtxi2G1D\n",
       "LEgHUUrHUvz7baMNjnvDPI5SjtcryoZDa+CiDd/eFSBxhgSG1me6xzz1bNjNrUFPZmo3N6O211EL\n",
       "b8NubhtJjrkSfi+jUV6xJStGrJ25nD9HusIotYmXIbfgrqANo/yeGmRSDP3HgUY5RTaT+hDaIx20\n",
       "qMtdPINZeFsf30W7XlqHtrwOAooK8kQG/sfnD4bRPlglnG8wAAAAAElFTkSuQmCC\n",
       "\" style=\"display:inline;vertical-align:middle;\" /></a><br>"
      ],
      "text/plain": [
       "ceil_of_sum_greater_eq: forall_{x, y in Real} (ceil(x + y) >= ((ceil(x) + ceil(y)) - 1))"
      ]
     },
     "execution_count": 7,
     "metadata": {},
     "output_type": "execute_result"
    }
   ],
   "source": [
    "ceil_of_sum_greater_eq = Forall(\n",
    "    (x, y),\n",
    "    greater_eq(Ceil(Add(x,y)), subtract(Add(Ceil(x), Ceil(y)), one)),\n",
    "    domain=Real)"
   ]
  },
  {
   "cell_type": "code",
   "execution_count": 8,
   "metadata": {},
   "outputs": [
    {
     "data": {
      "text/html": [
       "<strong id=\"floor_of_sum_less_eq\"><a class=\"ProveItLink\" href=\"proofs/floor_of_sum_less_eq/thm_proof.ipynb\">floor_of_sum_less_eq</a> (conjecture without proof):<br></strong> <a class=\"ProveItLink\" href=\"../__pv_it/theorems/6bcd7dd724a0f333f7c0df681b5629df191b74f40/theorem_expr.ipynb\"><img src=\"data:image/png;base64,iVBORw0KGgoAAAANSUhEUgAAATkAAAAWBAMAAABJQvaVAAAAMFBMVEX///+IiIgiIiIQEBB2dnbu\n",
       "7u5ERETMzMzc3NwyMjK6urpmZmaYmJiqqqpUVFQAAAB6qHgnAAAAAXRSTlMAQObYZgAAAAlwSFlz\n",
       "AAAOxAAADsQBlSsOGwAAA3FJREFUSMfNlk1oE0EUx982u02y+XCrVNRCaFdEEJRYBcFTFAv2UEmx\n",
       "xkNBWtAoHiTYetXF4lXiQfDgIYKXUosxKlotkgqKIuJavZQWTGkVBA+9FCN4cHbfTJrMzmybmwP/\n",
       "kOTt/+1vvh/ARpoFWto/vo4lxEXrYiFZQgs21hQbomWfuF5czzLBhetiE6KM96gqzo8Ff7qv0DQd\n",
       "Z2mGLriLdK6MeuH8cccXTss3QTdniSxN0J2ZWiWft1FXnakf8qWLlD10ellC9/qp0MIQHsjpaikV\n",
       "h+4DKkzWp2r70gXAQxczxHSbe8QWhvBZTldL6dIF0q6c58L+y25uo3TaUUNiaZouXEZ1m+ZBf7on\n",
       "NJ3W9n20rzFV/zRoFUanlcq8BfoTp4/ZYjr0SujUCuoZwDl/urs0XQQSRqkxVeoLRFconfbT9lig\n",
       "qCxGOsV06JXQRfOomxCqeIlme1/dYt/30nTv4FP6V0OqoF2C+BAbuzo6Zola0dV4WUhHvRK6WBLV\n",
       "mlYL3IGTyBYUFY6n6O/D9FU5mMINaZo7yXogfdJgPwQMRhdam1lmCUIkX1tcJdM8YJr7KB31Ymgt\n",
       "JaULrqBiBr8pXubIIwq8MbhXAcnHdVRfhWs5wa5YswQM2a5Ar2Ts9CQK8jPko+15BzlG9QTE3TPa\n",
       "oWsvctMEehVONaYiI7NFdKLULPDQcu5UER16ZTPbiYI+ciYr1o8wWTX9m9IjkHEfUUPDbJ6G6VRc\n",
       "jCch1ZiqtQKXRKcxtUCmsASqZOzQK9sVQygYI7MdheEg+XpjFrbiea5EztYukBOYLvZ7MKnb3NhV\n",
       "9L/cTZars8C3K49hUkKHXi+dWnUSp1AQd/NV3cgyLML7bDZrK4o6yV54mY7dI2P+I5dKW+6oiqoA\n",
       "aoHBtti0LaFDr4cuvvSHHAwtBRTdp0m3ztoDh2DUHTtFv89qsJacz12h5kV0vEV8Vzhe79i57TqV\n",
       "28bUfAQGAHbrK+SIcdcd9LB3RovSKqAXTtoiOt4iqgLQ660C3DZNhetnx5F2GLFh/m0eQufJH+Pb\n",
       "U4NTLHpBWkF1kbXA6DTTbTmRRVRBoVdcfTpVE1852ZrVSmwD2Wzj+ZyR0i10FMTVZ2Z9OvSK6Vot\n",
       "VP10pePGuLAnBsS6TUNyDcdMQajBMmt28R4W84bcto2qvkOgz6Tgf2r/AC4zMb0Zw298AAAAAElF\n",
       "TkSuQmCC\n",
       "\" style=\"display:inline;vertical-align:middle;\" /></a><br>"
      ],
      "text/plain": [
       "floor_of_sum_less_eq: forall_{x, y in Real} (floor(x + y) <= (floor(x) + floor(y) + 1))"
      ]
     },
     "execution_count": 8,
     "metadata": {},
     "output_type": "execute_result"
    }
   ],
   "source": [
    "floor_of_sum_less_eq = Forall(\n",
    "    (x, y),\n",
    "    LessEq(Floor(Add(x,y)), Add(Floor(x), Floor(y), one)),\n",
    "    domain=Real)"
   ]
  },
  {
   "cell_type": "code",
   "execution_count": 9,
   "metadata": {},
   "outputs": [
    {
     "data": {
      "text/html": [
       "<strong id=\"floor_of_sum_greater_eq\"><a class=\"ProveItLink\" href=\"proofs/floor_of_sum_greater_eq/thm_proof.ipynb\">floor_of_sum_greater_eq</a> (conjecture without proof):<br></strong> <a class=\"ProveItLink\" href=\"../__pv_it/theorems/3391341ff97ec3f0eb850ec2c64f2ceea65d00a40/theorem_expr.ipynb\"><img src=\"data:image/png;base64,iVBORw0KGgoAAAANSUhEUgAAARUAAAAWBAMAAAAcIxXLAAAAMFBMVEX///+IiIgiIiIQEBB2dnbu\n",
       "7u5ERETMzMzc3NwyMjK6urpmZmaYmJiqqqpUVFQAAAB6qHgnAAAAAXRSTlMAQObYZgAAAAlwSFlz\n",
       "AAAOxAAADsQBlSsOGwAAAzxJREFUSMfFlk9o01Acx7/Zkv5JmpohE7UwtigIilKnIAhCdhDcYZLh\n",
       "3GUwNtAqHkZxu6rB4VXiQREco4KXobI5BN0cszsoisji9DLmocLcycMush08+JL3Wpv0Je1OPvi2\n",
       "TX/vm3zy3u/93gMaaRYkMzpexxLsUBVL0KiFxprgIFWMiMszdSw1HapiT4HHoCq519+jWb5hxyx+\n",
       "Sx0WoUg1714/jESR7IZYpIlQSx0W3Ke66U7ZUCSLUqxhkYuccenrCLNUWJ7xWT5RJUkWiU4kSzNq\n",
       "WFSNN0fCQZNvqbB84bM0m57cf5PR6bLaKAtSZZjVnbEki1Sdun4ymuUlM0stP8d6fCxSpojB6nRQ\n",
       "H1k8C5eldwFSibKIJapXwOVolglmVtCmzfpYRDWLZV9qypMmx8JlMb4itUlZUjbVXSRKtc9f6V68\n",
       "V/59lJk/YNn85WO5obRjw8/ywORYeCxxZxbpIcpCXslTzBQLfo54W64giDhnsOvT7MZ5zNFFousH\n",
       "yMySNzCbNRz3zdGkxbPQDrO6fkLXjzEWiTiJ3WOJb1KpWjB13+TJkhDwTguwwH2uP3enzfhWde4e\n",
       "MbkW7hzJv3ErT1nkLBXsJfLR8jpD3khuQ9qrgC5L60xgjiBv46KfZQ5ClremAxYui2JjN1tHajsV\n",
       "ekjFE6yNJCkyvbvMUfR7txUTw+V1N8wG9Vo6C8PPMoJYiVfrAhYuC3GOMJbUEBXGyd1SGI6Tn3dW\n",
       "sIfWRkG5VCnG56lZ3RrIyo6fZRHTRd4eELDwx6Uk/2EsikGFdN6Nbnt91vEDH3O5nCMI4vPyja+z\n",
       "l3yhrX0O5Mtg11uLtzcGLFwWaT2zzViaClRs7WQT7tdhnMKYNy6C/KQ8+U35iLrbzd2nA5aQuiva\n",
       "jOU2k9fGRVtBH3BI3iSL3MsXnK2sjpmwvVG0pTNcloCFuzd244LDWBaYaMnY39WKUQdr720krpA/\n",
       "pvYZA3Pl6NWwM0OTljb+nRl0r+U5Fu6ZoYNkBGVxzwnBs4IjWTHSqS+X81e//jAWdWk+5CzVX5/l\n",
       "e6bAWGIWVfXAm2ltivfIhAa1U9dCtitV54SqLZwOldiKTgrBXlBVw0JeMvD/2l8tbBWSq8f0GQAA\n",
       "AABJRU5ErkJggg==\n",
       "\" style=\"display:inline;vertical-align:middle;\" /></a><br>"
      ],
      "text/plain": [
       "floor_of_sum_greater_eq: forall_{x, y in Real} (floor(x + y) >= (floor(x) + floor(y)))"
      ]
     },
     "execution_count": 9,
     "metadata": {},
     "output_type": "execute_result"
    }
   ],
   "source": [
    "floor_of_sum_greater_eq = Forall(\n",
    "    (x, y),\n",
    "    greater_eq(Floor(Add(x,y)), Add(Floor(x), Floor(y))),\n",
    "    domain=Real)"
   ]
  },
  {
   "cell_type": "code",
   "execution_count": 10,
   "metadata": {},
   "outputs": [
    {
     "data": {
      "text/html": [
       "<strong id=\"ceil_of_real_plus_int\"><a class=\"ProveItLink\" href=\"proofs/ceil_of_real_plus_int/thm_proof.ipynb\">ceil_of_real_plus_int</a> (conjecture without proof):<br></strong> <a class=\"ProveItLink\" href=\"../__pv_it/theorems/9e53dfda4ea896b406316ffb019badf16aee8a1a0/theorem_expr.ipynb\"><img src=\"data:image/png;base64,iVBORw0KGgoAAAANSUhEUgAAAToAAAAVBAMAAAAk4T84AAAAMFBMVEX///+IiIgiIiIQEBB2dnbu\n",
       "7u5ERETMzMzc3NwyMjK6urpmZmaYmJiqqqpUVFQAAAB6qHgnAAAAAXRSTlMAQObYZgAAAAlwSFlz\n",
       "AAAOxAAADsQBlSsOGwAAA5hJREFUSMedll9IFEEcx3/r7Xp7u3e6SkZmiOxDRlRcZQQ+rYHSH4x9\n",
       "KAmM9MA2EYozfIw6snys66HoQeLMXvojXBKVKbE9VEZE1x8wKfAkFAIJX0KJHpqZ3Tt3x905z4U7\n",
       "dvY33/1+dmZ+Mz8AxlVZD8wrAZKqKn7Rz+oOtiaiqqb3awHEwvaH2XBcBsImq8PDQhop7SUbwhGF\n",
       "+Gdx+4cfHSsKX6F4OrfGm47DHbYQ/xe4fduPjhUVksXTURpvOriJfiEd+1/Ek9zpR8eKyuYqukeF\n",
       "6ChNns4tfI9+4TT2x4x8xo+OFQ3AKrpPhegoTZ7OLQwgV9iH/XHfkG9WsKLT66CbXhNdCPcYJFm5\n",
       "R1Ub/HOWEX1iOwkVc32tLhOp9kRTzJOO0tB0Q3NXNqJk5XEyHiX+zwBO+9MxooO2kwy1yqjLhC+d\n",
       "hY5Ejk5WyZX10NB02jlFWEY9UO7AO+J/DcSscw899PKGg46Kws+up0fs25220yR81BdcJg9KOuF6\n",
       "3GvsKA1FJ6W2griEtukoanwh/qU6n7L7BGuNFMfDQW2FzhGF3vke2AbNVXaz0XaKwxhpj6rqXlXd\n",
       "he70jhTM6F50lMaiywsF4S9E/iCORfT0EvGPKPllP46+l+PgtbJC54jKaJbBDH4zKSeA3XRWzAD8\n",
       "AhadraFnNrIIZWhWJTx2w9ZZlXyF/iqe1yTIHo3oqtKOkwxHwxO9NdbujRhlepZAWobjbjqE9k/w\n",
       "WneUhqZDaOWmDpE6vMQs/1a0NXOJ+VCmjRwjvBgzHXQ4enLYDCQEa1OenMrRxSwnoacsCpqbrgFN\n",
       "EO81dpSGpgtoaEVoEMZWbyz/fvRVYYgFrQ2bk7s6nVUAjl6thnJdIsyCkluUOOWxU2SpPSplXCZo\n",
       "ZXPJt150lIamQ6lUHY6DrFmbD/Yvi+MASuR3hmFkOI4fcdKR6CxaBeFbhnEWeF4XdCt63h6Hx8r3\n",
       "D24TqQ6EhYwXHaWh6e4CnELPS3AibnfUSMGoCH1k7Djpnk5XUPthPBgkgzZyAXg7XBIv/qygND5n\n",
       "xWU8/nUr/v18Uka7B1l30Jym6MRFqJ+ydmUtjT+QXPicLrYKoDQ+VcCEXS/k/OXNTVUgnkF396u1\n",
       "9jGKTsrCBhMG8Hf/nm25k3tJ9zrqu+41VFCkKBpYVf0eM4yUf20stBg9rgdt66BrWwNdacL6jAK1\n",
       "+QF2YS8qEMmwOvQV0gQ1L9kmvMAQYWXjf7afJHuU+f6SAAAAAElFTkSuQmCC\n",
       "\" style=\"display:inline;vertical-align:middle;\" /></a><br>"
      ],
      "text/plain": [
       "ceil_of_real_plus_int: forall_{x in Real} [forall_{n in Integer} (ceil(x + n) = (ceil(x) + n))]"
      ]
     },
     "execution_count": 10,
     "metadata": {},
     "output_type": "execute_result"
    }
   ],
   "source": [
    "ceil_of_real_plus_int = Forall(\n",
    "    x,\n",
    "    Forall(n,\n",
    "           Equals(Ceil(Add(x, n)), Add(Ceil(x), n)),\n",
    "           domain=Integer),\n",
    "    domain=Real)"
   ]
  },
  {
   "cell_type": "code",
   "execution_count": 11,
   "metadata": {},
   "outputs": [
    {
     "data": {
      "text/html": [
       "<strong id=\"floor_of_real_plus_int\"><a class=\"ProveItLink\" href=\"proofs/floor_of_real_plus_int/thm_proof.ipynb\">floor_of_real_plus_int</a> (conjecture without proof):<br></strong> <a class=\"ProveItLink\" href=\"../__pv_it/theorems/43d9b3a7da4f4c67e890162831b46aaeb5a4f1e60/theorem_expr.ipynb\"><img src=\"data:image/png;base64,iVBORw0KGgoAAAANSUhEUgAAAToAAAAVBAMAAAAk4T84AAAAMFBMVEX///+IiIgiIiIQEBB2dnbu\n",
       "7u5ERETMzMzc3NwyMjK6urpmZmaYmJiqqqpUVFQAAAB6qHgnAAAAAXRSTlMAQObYZgAAAAlwSFlz\n",
       "AAAOxAAADsQBlSsOGwAAA5VJREFUSMedll9IFEEcx3/r7Xp7u7e6SkZmiO1DRlBcZgQ+rYHSH4x9\n",
       "KAmM9MA2EYozfIw6snys66HoQeLMXvojXBKVKbE9VEpIlwUmBZ6EQiDhSyjRQzOze+fuuLvnuXDH\n",
       "zv7mu9/Pzsxv5gfgc5XXgu8VB07zi/N5NXH315rSPPbH/OGYNIQNvw5P8mmElJtsEEdk4p/B7R9e\n",
       "dH5R+AqF0zk17nQM7rCD+L/G7XtedH5RLlE4HaVxp4M76BfSsP8VPMkdXnR+UdFYR/c0Hx2lydE5\n",
       "hR/RL5zC/piRTXvR+UUDsI7ucz46SpOjcwoDOG8OYn/cN+SZFX7R2U3QzW6ILoR7DJCsrFOUeu+c\n",
       "9Yk+t5y4soXeFoeJUH26MepKR2lousGF61tRsrI4GU8Q/5cA57zpfKIDlpMI1fKIw4Qtnof2eJZO\n",
       "VMiVcdHQdOpFmVtFPVDuwCTxvwl8xuY5ffTNbRsdFYWfnS+OW7d7LacJ+KQtOUweF3XArZjb2FEa\n",
       "ik5I7gJ+BUCKoMYX4l+ssUmrT7BaTzIsHFHX6GxR6Fnsht3QVGE1GyynGIyS9oiiHFCUfehOa0/C\n",
       "nOZGR2lMupyQ4/6C9AdxLKOnV4m/JOeW/Rj6XoaBd/IanS0qolkGI/jNoJwA9tNZMQfwC/zoLA09\n",
       "s9IylKBZFfDYDZlnVeIt+it7VRUnezSiq0jZTjIcDY/3VJm7N2IU6VkCYRVOOekQ2j/Obd1RGpoO\n",
       "oZUaGkg1eImZ/i1oa2bii6F0KzlGWD5q2Ohw9MyQEYhz5qY8MZOli5pOXHdJBFQnXT2aINZt7CgN\n",
       "TRdQ0YpQIYyt3pv+feirwhANmhs2I3Z22KsAHL1RCaWaQJg5ObsoccpjJ2mlLSKkHSZoZTOJD250\n",
       "lIamQ6lUGY6BqJqbD/YvieEASuRJXdfTDMMO2+lIdB6tgvBdXb8ALKtlK6BL1jg8k79POU2EGuCW\n",
       "0m50lIamewBwFj0vwom4x1YjBSM89JKxY4SHGl1BHYKxYJAM2vBlYK1wUazws4LSeJwV1/D416z5\n",
       "97EJEe0eZN1BU4qi45ehdsbcldUU/kBy4XO60CqA0nhUAeNWvZD1F7c3VgB/Ht09qlTbRik6IQNb\n",
       "DOjH3/17vvl+9iVdm6jvujZQQZGiqH9d9XtS15PetTHXrHc7HrRugq51A3TFcfMz8tTmh/0Le14G\n",
       "qU6RvcLTyk5/jaS4i7fhBYYIyxv+A+40IqMsZDzzAAAAAElFTkSuQmCC\n",
       "\" style=\"display:inline;vertical-align:middle;\" /></a><br>"
      ],
      "text/plain": [
       "floor_of_real_plus_int: forall_{x in Real} [forall_{n in Integer} (floor(x + n) = (floor(x) + n))]"
      ]
     },
     "execution_count": 11,
     "metadata": {},
     "output_type": "execute_result"
    }
   ],
   "source": [
    "floor_of_real_plus_int = Forall(\n",
    "    x,\n",
    "    Forall(n,\n",
    "           Equals(Floor(Add(x, n)), Add(Floor(x), n)),\n",
    "           domain=Integer),\n",
    "    domain=Real)"
   ]
  },
  {
   "cell_type": "code",
   "execution_count": 12,
   "metadata": {},
   "outputs": [
    {
     "data": {
      "text/html": [
       "<strong id=\"round_of_real_plus_int\"><a class=\"ProveItLink\" href=\"proofs/round_of_real_plus_int/thm_proof.ipynb\">round_of_real_plus_int</a> (conjecture without proof):<br></strong> <a class=\"ProveItLink\" href=\"../__pv_it/theorems/8567212769b13d2fb90d278ddabf3467304c01d00/theorem_expr.ipynb\"><img src=\"data:image/png;base64,iVBORw0KGgoAAAANSUhEUgAAAasAAAAVBAMAAAAKiNzvAAAAMFBMVEX///+IiIgiIiIQEBB2dnbu\n",
       "7u5ERETMzMzc3NwyMjK6urpmZmaYmJiqqqpUVFQAAAB6qHgnAAAAAXRSTlMAQObYZgAAAAlwSFlz\n",
       "AAAOxAAADsQBlSsOGwAABW5JREFUWMOVWG9oHEUU/+3d7t3m9i7ZQGMbY2NMi5WKckr8g4ps1LSK\n",
       "Vle0RakkF6hnSbFeNYKC2jPVflGSU6kIilyMXxSLZwhqbYjrh2pLKDlaoRGFJNgUKkWSD6FBUvDN\n",
       "7Ca52budaxbeMfveb9++35s3b2YPkFxKa0ZmRhZVLn1tFv1q/WWD48lWD1vNS81KsVoYGwMtMXNN\n",
       "cB9gsLJ50BOKe5rd/xVES2bF78Hvj35UoN+EFYy4rlwlg79+bylAcSrn2XGFaP3E7j8JoiWzajlJ\n",
       "XuvYTD4rAdTYZSoZHFcEwJHKoCOuEK23WMmmgmjJrIYjieJbFvWoWHcCPl4oe2ZU4i+2IADGK/rk\n",
       "6nFOi2VNLQbRklnDsuQ+wH6SYo2Jy+mOsmeSsmXeIgDCdkWfTE1CtOLEtyawZcisf8hofcremZPR\n",
       "+qxsacmKuqYgAGqcij6ZmoS1uttbW9uCO6HEOkKdYZs+Qp7am/Nak4NaO9b8THs3le359WwpGLTC\n",
       "tfrZ3h1CCB4Gj5cVNcF7U+89Ru+t/wdPUsXNYnD2nWvosf72g0XBnzot0vJwTE3CaP0APB9MS2Kl\n",
       "dKuRETWJvry+qCaSmKD7GXRlMZSNLHi5M9BsDgsheBic4nfDrey6dTnV1j7rQehbMZC1ziI+B2u/\n",
       "qS0idjdesgV/8ZxIy8VxNQmj1Q99uiTYM4+MfVBCy2fF33u+f9Qb3gK8X9NCKbwB2Pym0YKL+DqU\n",
       "wkBGuw8Ge22IMnwSE/YlIQQXA5z1p4nguvMhFUHIRGh7cRi1uVj+RuiX8ZSDY6K/RFKsABfH1SSM\n",
       "VsRe2XWjzem8ouJha5VWiRUHLvTgJnQ0eLf3AK/WsQTOAffbYRO3we7KY8omRYi5CNOTGR4QgVpb\n",
       "N1FBU4pcDHCwrAXlEbWXaPAzjWfJW9jUtP+QWGCKzaK/6Jzg08NxNQkLOWGu9ITjlERFwQlzlVaJ\n",
       "1aCChBOddFZp8T4eTkGfpxFL1xRozkjRlffCAIXnaxkcAwxVoOX28TuBAZNGNKeJOZozUlDYgr+Y\n",
       "OFsejqtj7mwh9wv91P/YlOV7N9FqKJQcnpg1PnqgaflcYBhYLUKwZdNlQl2kkTLH413SSDHhVRW9\n",
       "ZRE7xRA4hqrdv7YYnEoZ2jzwRJZG14PFWufsnGfLTPCXaBF9cpzN1SSc1g7al5XshZriLn4AUfVu\n",
       "p4QWsz435ISzmrsrnzy3TIu1M1YbVIhhC/sRSZ1AG9WC2lXExQQ1hYgJrac2CUsMgWOAX/2zRXC3\n",
       "eJcYJjKNdNwmx1N2xxUKe1LwF0+JPjnO4moSTusQFWcc3VF8w2kZe1KlR11mfbcRdba7oWvmysGN\n",
       "OrTOasOYxj5gDK9YFtWhkvstYiZuZnNKrTZxeXcyVhRCcDF8f/D1XXrTAAtoDJECeY22qawOG+OZ\n",
       "bpwpFAR/hi9VLo6rSTitWn6Mp/Z4Kp1OFxVFPVpKi1tnaCXEP06nX4Sq2pq3w79MFcFr4aEmwnW2\n",
       "T85k6F67VNRmtvevZ+ua7r4z/zwtri0XA2wtOx6Tsy/4a9vpKKqd30hO6L7zNDrXvTaTEfyF8iIt\n",
       "F8fVJKtdLprU0ctnS4l9afs/TO7C8WiUJ+joG1A9cyhT7Ttii+SUobdUgUv99VU+ufS5shL3ITVn\n",
       "UDPnawsdBR8tfQ5bzrnbslVwM1r5sOq7xiVH3QoH5fGr9zda+ag76soKLePa9gboL9Doq0Zr9zEf\n",
       "rdg01jk4TLMT/3dm2+fLTvZWCyMi+Xw+vDa4CAj4qGBqJr7P36fT6Xzw17G2Ld0jwHdVo6Wlgm17\n",
       "1wYXAQEJYGomVb7qVfmfArpZjdfbwX8YZNcE9wE2VDZvcEXZlP8fWyCYVwRz5RYAAAAASUVORK5C\n",
       "YII=\n",
       "\" style=\"display:inline;vertical-align:middle;\" /></a><br>"
      ],
      "text/plain": [
       "round_of_real_plus_int: forall_{x in Real} [forall_{n in Integer} (round(x + n) = (round(x) + n))]"
      ]
     },
     "execution_count": 12,
     "metadata": {},
     "output_type": "execute_result"
    }
   ],
   "source": [
    "round_of_real_plus_int = Forall(\n",
    "    x,\n",
    "    Forall(n,\n",
    "           Equals(Round(Add(x, n)), Add(Round(x), n)),\n",
    "           domain=Integer),\n",
    "    domain=Real)"
   ]
  },
  {
   "cell_type": "markdown",
   "metadata": {},
   "source": [
    "### Bounding Ceil, Floor, or Rounded Value"
   ]
  },
  {
   "cell_type": "code",
   "execution_count": 13,
   "metadata": {},
   "outputs": [
    {
     "data": {
      "text/html": [
       "<strong id=\"ceil_increasing_less\"><a class=\"ProveItLink\" href=\"proofs/ceil_increasing_less/thm_proof.ipynb\">ceil_increasing_less</a> (conjecture without proof):<br></strong> <a class=\"ProveItLink\" href=\"../__pv_it/theorems/972e8da1602251c479869e7c932dcb3713cd8ed20/theorem_expr.ipynb\"><img src=\"data:image/png;base64,iVBORw0KGgoAAAANSUhEUgAAANsAAAAXBAMAAABwhye8AAAAMFBMVEX///+IiIgiIiIQEBB2dnbu\n",
       "7u5ERETMzMzc3NwyMjK6urpmZmaYmJiqqqpUVFQAAAB6qHgnAAAAAXRSTlMAQObYZgAAAAlwSFlz\n",
       "AAAOxAAADsQBlSsOGwAAAwVJREFUSMe1lk9IFFEcx7/jzuzMzu6MY2VYC2JzCaJgiyAIgi0Q8mCM\n",
       "ZBJIsEKtFhZLerYt6RTEdgg6FBiIIBmpFGlJrEFRRDRYF9HDCBoFHbxIHjr0m9m3s7Ozu2ZrvcO+\n",
       "35vfm9/n/d7vzyywpZGGrOuaIyq6nvWrXeWcvt/evMXBmYgUGPK4X+9RPgIe0mTZ8mKVuC/4GxxH\n",
       "qxe2fK86mpCpiJtPl+JwFxigSUpUhwtnK+FePyvjHT4AIQPgzepwAVTAbWsud5kIGM6TUJWhmy+P\n",
       "E05oZWOHEC0P6frhKnFPmUWhbqW/1cUJk1lvqrTNQLByOJ7m58CFjeKzge4+sxhGozaZxwnfzaLM\n",
       "jH9GZDWHi1Bq3YZklVqaa3l1xxGCG+AOMIvv8Mn44XpXjBPNSaiJHE6JkT2DHyq2IjYmhzgeJ+Nl\n",
       "cIZ3cZThUpj2xE4qukwBBxHQcjiRvFQ0f6a8TFFJcnijleJurZTDgUxWTBV5DddSOZxM3iEzSz91\n",
       "U1EqTLkRqlP8Nq5+vIDjotenaBr4Rq3IguW7TMjrOFOpEMIZbGeZqTTRTysVO5f+GqIrb6s1+tDh\n",
       "2OelrmwB16AmHgAjhBS0NTHGrHax+7qkxhCvVOZBC1cYLmK3k0E6bARdIok357ATYw4ufD7hSZVs\n",
       "UEthxD6zdK6JyzehUzmLys/OmGz6mljK9c6SfzFc2M4G1dGsO7uWsYT3yWTS5Dj+sTcza9MQjzmS\n",
       "GlfzobnKvJvQFj5WbNHCcnSd4WrcnBRjkj3twxH0O95x8rDhwfXR16r9Mpx3Ain2Uk1qU18EPsNw\n",
       "N/LPB/lMGO3AXnmVKsOJHZoLqSLFWkArrtdhPHGtjW8C14LTJsPNuL1j9/F69JlYeJuB1E0PRnfF\n",
       "O6cL3k0M19mHiBBPmbnomuspgxN0Z7ix20MRyuH8Hx5TSAdpQ3syWSj84rpTenAWve6yYxPeLUaH\n",
       "GC5Y/O9BNlRt1P9GSRNbkjOuLGlQCi1LjPv3epSUEQ2+s0Cejf8RN7YD/3FI/9TabyQ51oBZSwv5\n",
       "AAAAAElFTkSuQmCC\n",
       "\" style=\"display:inline;vertical-align:middle;\" /></a><br>"
      ],
      "text/plain": [
       "ceil_increasing_less: forall_{x, y in Real | x < y} (ceil(x) <= ceil(y))"
      ]
     },
     "execution_count": 13,
     "metadata": {},
     "output_type": "execute_result"
    }
   ],
   "source": [
    "ceil_increasing_less = (\n",
    "    Forall((x, y),\n",
    "           LessEq(Ceil(x), Ceil(y)), \n",
    "           conditions=[Less(x, y)],\n",
    "           domain=Real))"
   ]
  },
  {
   "cell_type": "code",
   "execution_count": 14,
   "metadata": {},
   "outputs": [
    {
     "data": {
      "text/html": [
       "<strong id=\"floor_increasing_less\"><a class=\"ProveItLink\" href=\"proofs/floor_increasing_less/thm_proof.ipynb\">floor_increasing_less</a> (conjecture without proof):<br></strong> <a class=\"ProveItLink\" href=\"../__pv_it/theorems/802fae16ab0a396298b76d4fe0e02c38f735bd560/theorem_expr.ipynb\"><img src=\"data:image/png;base64,iVBORw0KGgoAAAANSUhEUgAAANsAAAAXBAMAAABwhye8AAAAMFBMVEX///+IiIgiIiIQEBB2dnbu\n",
       "7u5ERETMzMzc3NwyMjK6urpmZmaYmJiqqqpUVFQAAAB6qHgnAAAAAXRSTlMAQObYZgAAAAlwSFlz\n",
       "AAAOxAAADsQBlSsOGwAAAwVJREFUSMe1lk9IFHEUx7/jzuzOzu6MY2VUC6J7CYJgkyAIgi0Q8mCM\n",
       "ZBJIsEKtFhZDerYt6RTEdgg6FBiIIBmpFGlJrEFRRDRYF9HDChoFHbxIHjr0Zua3s7Ozs6Zb/Q7z\n",
       "+715M+/ze7/3Zwb4q5GBoLklz3ApRR/1dgdnIJpzJGnCq3cpHwEPacqb66UqcV+wHRxH0gtzfa86\n",
       "mpCtiFvIlONwFxg0zzVVHS6Sq4R7/czHO3wAwhRN3qgOF0AF3I4Wv8NEQLPuhKsM3YI/Tjih+sYO\n",
       "YRKb4/HDVeKeMotC3epAm4MTpnLuVGmfhZC3cTzNz4ELm8VnE919ZjGCBnWqgBO+GyWZmfyM6JqN\n",
       "i1Jq3YaYL7c03/rqjrUIboI7yCy+wyfth+NdKS5kTEFJ2Tg5QfY0frjUSqghPczxOJn0wWlu4SjD\n",
       "6ZhxxU4sOUwBhxBQbVyIvJRVb6a81KkkObxRy3G3Vv1wIJMVU0VaxzXdxknkHbJzdKmbjlFhSg1Q\n",
       "rOI3cfUTRRwXuz5N0+A3akV55D2HCWkDZyoVQiSLnSwz5Ua6tFGxc5mvYTry9lqtH52WfV7szhVx\n",
       "e5TUA2CUkIK6Hkowq93svC4pCSQrlXkwjysMFzXbyRBtNoruEC1vzmM3xi1c5HzKlSq5oKpj1Nyz\n",
       "eK6RKzShU7ZF+WdXQjI8TUx3vMtLvxguYmaDYmk2rKdWsIz36XTa4Dj+sTszazMIHbNWSlIphOYq\n",
       "825SXfxYsUULK7ENhqtxcjKUEM3pAI5gwPKOk0Y0F66fvlYdl2G9E9DZSzX6lr4IfJbhbhTuD/HZ\n",
       "CDqA/dIaVYYVO7QUU0VMtIIkrs9iPHGsTWwB14rTBsPNOr1j3/F69BtYfJuF2EM3xvYmu2aK3k2O\n",
       "1JmbiBJPnr3omOv1wQlxazixa6II2Tjvh8cQMkF6oCOdLhZ+ad3JvTiLPkfs3IJ3S7FhhguW/j1I\n",
       "mqKOed8oa2LLUrb4A6JCbo7bmSPH46r3WUc5H2+iavLsBdJc8o+48V34j0P8p9Z+A1m81KgnvJIt\n",
       "AAAAAElFTkSuQmCC\n",
       "\" style=\"display:inline;vertical-align:middle;\" /></a><br>"
      ],
      "text/plain": [
       "floor_increasing_less: forall_{x, y in Real | x < y} (floor(x) <= floor(y))"
      ]
     },
     "execution_count": 14,
     "metadata": {},
     "output_type": "execute_result"
    }
   ],
   "source": [
    "floor_increasing_less = (\n",
    "    Forall((x, y),\n",
    "           LessEq(Floor(x), Floor(y)), \n",
    "           conditions=[Less(x, y)],\n",
    "           domain=Real))"
   ]
  },
  {
   "cell_type": "code",
   "execution_count": 15,
   "metadata": {},
   "outputs": [
    {
     "data": {
      "text/html": [
       "<strong id=\"ceil_increasing_less_eq\"><a class=\"ProveItLink\" href=\"proofs/ceil_increasing_less_eq/thm_proof.ipynb\">ceil_increasing_less_eq</a> (conjecture without proof):<br></strong> <a class=\"ProveItLink\" href=\"../__pv_it/theorems/d9192d7c485c322dc256038df6976f69061ed6190/theorem_expr.ipynb\"><img src=\"data:image/png;base64,iVBORw0KGgoAAAANSUhEUgAAANsAAAAXBAMAAABwhye8AAAAMFBMVEX///+IiIgiIiIQEBB2dnbu\n",
       "7u5ERETMzMzc3NwyMjK6urpmZmaYmJiqqqpUVFQAAAB6qHgnAAAAAXRSTlMAQObYZgAAAAlwSFlz\n",
       "AAAOxAAADsQBlSsOGwAAAwpJREFUSMe1lkFIFFEYx//jzuzMzu6MY2VYC2JzCaJgiyAIgikQ8mCM\n",
       "ZBJIsAu1WlQM6dm2pKtMh6BDgYIEkpFKkZbEGhRFRINFIHpYQYOggxfJQ4fezL6dmZ3dEVvrHfZ9\n",
       "731vvt/73vd97y2wrZaDqKqKI0qqmg+qXeW8etBevM3GWEh4DHEiqPcpHwMjpCvY8lKNuK/4GxxD\n",
       "Ri9t+X5tNM4MxS3kKnG4BwyQTkjXhovnw3BvnlfxDh+BmA6wVm24CEJwO1qrHSYiujMTqzF0C9Vx\n",
       "3CmlauwQI8Mjqnq0RtwzapFrWO1vd3HcVN6fKh2z4ApFHEv6F8ClzeKzie4BtRhHszJVwnE/rLLM\n",
       "1L4gsVbEJUhqDUEoVFqab3t91xGiZdNSr390iFp8j8/6T9e7chxvTUFOF3FSitjT2eFyFN+cHWZY\n",
       "nNYqcFKmbOFxijMw44udUHaYHA4johRxPPFSUoKZ8sogJcngrRLEJa6iKg7EZGiqiOu4aRRxIvEO\n",
       "5hz5aZhOksIUmyE7xW/jGic8HJO8NQ3mmi2OFFAIHCbEDZwLK4S4iZ00M6UW8tNOip3JfY+RI++o\n",
       "1/vQ5dhnhUzewzXJ6Yf8CWfryjqfolYz9LyuyCloYWUeLeA6xSXs62SQbDaBDE/EO/PYjXEHF7+Y\n",
       "9qVKPqoY+GbvWbjQwpQuoTNFi9Kv7pRoBS4xw/WuIP6muLidDbKj2XBWrWAZH7LZrMUw7BN/Ztbb\n",
       "d+Ajmydrcik0N6h3k8rip9ArmltJblBcnZuTfEqwuwM4hn7HO0Yc1X24Pue1Gpi2v4kY9KM6Y0sv\n",
       "AmtS3O3S/CBrxtEJ7BfXSGU4sUOrlypCqg3OaGiVMJ661ia2gGvDWYviZt27Y+/JRvRZWHxnQugh\n",
       "E2N7tO4Zz7vJ0QadPt/S7GXXXG8VHKc6zY3dPhKhIi748FhcLkoWdGazXuFHgzs+D6/6urbg3VJy\n",
       "mOKi5f8eRF1WxoJfVOCWRdOVBQWSd2XxWnCtT0kyoimwF4hzWjiOJxmb7cX4LvzHJvxTa38A89TX\n",
       "9ahTqBwAAAAASUVORK5CYII=\n",
       "\" style=\"display:inline;vertical-align:middle;\" /></a><br>"
      ],
      "text/plain": [
       "ceil_increasing_less_eq: forall_{x, y in Real | x <= y} (ceil(x) <= ceil(y))"
      ]
     },
     "execution_count": 15,
     "metadata": {},
     "output_type": "execute_result"
    }
   ],
   "source": [
    "ceil_increasing_less_eq = (\n",
    "    Forall((x, y),\n",
    "           LessEq(Ceil(x), Ceil(y)), \n",
    "           conditions=[LessEq(x, y)],\n",
    "           domain=Real))"
   ]
  },
  {
   "cell_type": "code",
   "execution_count": 16,
   "metadata": {},
   "outputs": [
    {
     "data": {
      "text/html": [
       "<strong id=\"floor_increasing_less_eq\"><a class=\"ProveItLink\" href=\"proofs/floor_increasing_less_eq/thm_proof.ipynb\">floor_increasing_less_eq</a> (conjecture without proof):<br></strong> <a class=\"ProveItLink\" href=\"../__pv_it/theorems/543d4b595efb93b8ac2929b263192d277ea1fbc60/theorem_expr.ipynb\"><img src=\"data:image/png;base64,iVBORw0KGgoAAAANSUhEUgAAANsAAAAXBAMAAABwhye8AAAAMFBMVEX///+IiIgiIiIQEBB2dnbu\n",
       "7u5ERETMzMzc3NwyMjK6urpmZmaYmJiqqqpUVFQAAAB6qHgnAAAAAXRSTlMAQObYZgAAAAlwSFlz\n",
       "AAAOxAAADsQBlSsOGwAAAwlJREFUSMe1lk9IFFEcx7/jzuzMzu6MY2VUC6JzCYJgkyAIgi0Q8mCM\n",
       "ZBJIsAu1WlQM6dm2pKtsh6BDgYIEkpFKkZbEGhRFRINFIHoYQYOggxfJQ4fezLydmZ3dEd3qHeb9\n",
       "+b33+7zf+/1+7w3wVyUPTvP3AsUnFKqId1oYA4mi2xMng3Kf8DEwSirTai/XiPuKneAY0ntpte/X\n",
       "RuMKobjFfCUO94BB61wzteHixTDcm+dVrMNHIEa8yRq14SIIwe1qq3aYiGj2SKxG1y1Wx3GnlKq+\n",
       "Q4x0W1X1aI24Z1Qj17A20OHiuOmiP1Q658CZDo4l9Qvg0lb+2UL2gGqMo0mZLuG4H0ZZZKa/ILHu\n",
       "4BIktIYhmJWaFtpf37Ub0bJhqc/fO0w1vsdn7adrXTmON6YhZxyclCL6NHakHMU35UYYFqfTFTgp\n",
       "WzbxOMXpmPX5Tig7TA5HEFEcHE+slJRgpLzSSUoyeKsEcYmrqIoDURkaKuIGbuoOTiTWoTBPPg0z\n",
       "SZKYYhNkO/ktXOOkh2OSt2bAXLOaoybMwGFC3MS5sESIF7CbRqbUTD4dJNmZ/PcYOfLOeq0f3bZ+\n",
       "VsgWPdw+OfOQP2FvXdngU1Rrlp7XFTmFdFiaR01cp7iEdZ0Mkc0mkOVJ884C9mLCxsUvZnyhUowq\n",
       "Or5ZexYuNDOlS+iMo1H61ZMSjcAlprvWmeJviotb0SDbkk171ipW8CGXyxkMwz7xR2a9dQc+snhy\n",
       "Wi655ga1bkpZ+hR6RXOryU2Kq3Njkk8JVnUIxzBgW8eIY5oP12+/VoMz1pqIThfV6dt6EdgCxd0u\n",
       "jQ+xhTi6gIPiOskM23do80JFSLXD7g2vEcZTV9vkNnDtOGtQ3Jx7dxw42Yh+A0vvChB6ycD4/nTP\n",
       "rGfd1FiDRh9sae6yq66vCo5T7eL6roV4yMEFHx6Dy0fJhK5czkv8aHDH5+FlX/c2rFtOjlBctPzv\n",
       "QdRkZTy4ogK3Iha8HxAFUqvqRI6kqkpwritcUFtINgX2AnE+HY7jScTm+jCxB/+xCP9U2x8pZtYd\n",
       "BlAeAQAAAABJRU5ErkJggg==\n",
       "\" style=\"display:inline;vertical-align:middle;\" /></a><br>"
      ],
      "text/plain": [
       "floor_increasing_less_eq: forall_{x, y in Real | x <= y} (floor(x) <= floor(y))"
      ]
     },
     "execution_count": 16,
     "metadata": {},
     "output_type": "execute_result"
    }
   ],
   "source": [
    "floor_increasing_less_eq = (\n",
    "    Forall((x, y),\n",
    "           LessEq(Floor(x), Floor(y)), \n",
    "           conditions=[LessEq(x, y)],\n",
    "           domain=Real))"
   ]
  },
  {
   "cell_type": "code",
   "execution_count": 17,
   "metadata": {},
   "outputs": [
    {
     "data": {
      "text/html": [
       "<strong id=\"ceil_of_real_above_int\"><a class=\"ProveItLink\" href=\"proofs/ceil_of_real_above_int/thm_proof.ipynb\">ceil_of_real_above_int</a> (conjecture without proof):<br></strong> <a class=\"ProveItLink\" href=\"../__pv_it/theorems/e58f2932b1872d9870b7a5df2c95020521b034bd0/theorem_expr.ipynb\"><img src=\"data:image/png;base64,iVBORw0KGgoAAAANSUhEUgAAARIAAAAXBAMAAAA1o90XAAAAMFBMVEX///+IiIgiIiIQEBB2dnbu\n",
       "7u5ERETMzMzc3NwyMjK6urpmZmaYmJiqqqpUVFQAAAB6qHgnAAAAAXRSTlMAQObYZgAAAAlwSFlz\n",
       "AAAOxAAADsQBlSsOGwAAA4BJREFUSMfFlk1oE0EUx9+2u/nYNHGrbUGrNe6lICLx+ySuQsUi1QQ/\n",
       "UIqQQo2tigTbq3al2JNKPAgeRCPqoVgxBkWrpaSCRRF1TUGR9rCFKohSein24MH52s0mmbRiFB+8\n",
       "MvvmPzO/zrx5E4C/ZB7mJTsLTFZVhTSy6pp5Rv6BrWDONVkpClVl7OZdKjBxe6JsEL9GnWOnwwDL\n",
       "FyDBgqe4fbVsksPMi0z6dgOReMO5yCedQ4IEZ/ExRssmGWKeswGrsRJRVKXs+PNHvD1BAkwrGmWT\n",
       "hJjn7L2TBDZZX4ubuKeDBDjiLT9NEtRLklxjZ7VD4ecJFqxX1Y1lk/g06lL15+4WHskeCpLOODM2\n",
       "MgSSyUiQ4DHA0d9bLlW6y5uh7oMGJc0jeUVAvhp5d0cbg6oZRoIEl8BjOuYMbN7dnrdktnn4Mm3N\n",
       "k9cVBvWX8C78nUcyRpr5JG4jDYEoI0ECV1hMsl53QyxZoYsR+8rhgCDCLo1DIjk/KpPU4zBIvtOq\n",
       "ukFV1+ZIemitzTsdCdZBpcJIkMCv2An7LI4UcOYCOAOCAC+UYhLPcJhDAmhybsbe4mWsPAs9cUaC\n",
       "BYkR9Kf6Sb0uUOAUOZybJpgkgEhqUw4SrES7Na2D3ACBgtMBeQ4O8EiyvFvsS8AS6+5gQcsVtJz+\n",
       "xWscpJKLcQyvzLpDJCCInrZMjoQoQT6BaCKLwl1sfpdCXDoeCIHGIxnlVTaXCacsEizoNfGZtLlZ\n",
       "VYyIZPOPBIUoCQi+9qgjY4lSbsezn89CHZteNIn7f7SGZKOAZC+u7g8d1T5u74kp/7RIsCBAeubQ\n",
       "RYrFYgZoTWR/A1pAIQFBEO/l3R2k7KKrTcGkldpB4tIDZfxNQZ5Mb7uOFl3NewGlqfo5i8QWuEMe\n",
       "6CYP+McM4KOsSFbGSUAQ5NthBwlWSjsNOnqLNb6ROafGki0O8t9iMcFIbEGvmPCh+4z7fCAHJQ0q\n",
       "4vdpAN3iJkfGEiVAHZ6oUZ6xJn7NnPMCkhqc4ZE0wz6DkdgC37LtteA5hlpvp2s6TfdW8A910kD/\n",
       "Uq11MEdClDjD0NDxUfupcenUS1gfvcMqMTtPVqHzZSR9+fr9sRgrcn44BCedgeLK9kGXdJf9r0pR\n",
       "6iWsg/tLaaI+aZF0lBp5ByblRGGwcKGA0p/7OMeca0Lxbvlzhb+bK2CWgYEaWIhEHtHg/5j+T2f/\n",
       "BfNN/OWDYZTEAAAAAElFTkSuQmCC\n",
       "\" style=\"display:inline;vertical-align:middle;\" /></a><br>"
      ],
      "text/plain": [
       "ceil_of_real_above_int: forall_{x in Integer, y in Real | x < y} ((x + 1) <= ceil(y))"
      ]
     },
     "execution_count": 17,
     "metadata": {},
     "output_type": "execute_result"
    }
   ],
   "source": [
    "ceil_of_real_above_int = (\n",
    "    Forall((x, y),\n",
    "           LessEq(Add(x, one), Ceil(y)),\n",
    "           domains=[Integer, Real],\n",
    "           condition=Less(x, y)\n",
    "    ))"
   ]
  },
  {
   "cell_type": "code",
   "execution_count": 18,
   "metadata": {},
   "outputs": [
    {
     "data": {
      "text/html": [
       "<strong id=\"floor_of_real_below_int\"><a class=\"ProveItLink\" href=\"proofs/floor_of_real_below_int/thm_proof.ipynb\">floor_of_real_below_int</a> (conjecture without proof):<br></strong> <a class=\"ProveItLink\" href=\"../__pv_it/theorems/8d0b5765fa02c8d65d8b9fa3ee71b8cdbeab8ecc0/theorem_expr.ipynb\"><img src=\"data:image/png;base64,iVBORw0KGgoAAAANSUhEUgAAARIAAAAXBAMAAAA1o90XAAAAMFBMVEX///+IiIgiIiIQEBB2dnbu\n",
       "7u5ERETMzMzc3NwyMjK6urpmZmaYmJiqqqpUVFQAAAB6qHgnAAAAAXRSTlMAQObYZgAAAAlwSFlz\n",
       "AAAOxAAADsQBlSsOGwAAA61JREFUSMfFlk9oFFccx7+TndnZnZ3drthI29iwCS0R9ZCK0lNhhBqU\n",
       "YpmojUqoRIij9R8r6k3MWKkXoWwFqweVtbYHaUIWW9pGQ9gcKhV7WCK0BQU3RDwV8RJQ8ODv93Zn\n",
       "djb7xi2u0h+8Zd6877z3mff7ve8s8IoiBnxW15MI5OG+aPAl4l3gz1rvR6lAHpepGWmgzJ17LYMk\n",
       "rSYkLGgM/X1AKdLFUuA63zjfMsl2hJEkz/uChtgxMU+/Z6nFbRznLA21TDIZRmKusH1BYyhMcptl\n",
       "BYaBWmqZpDeERHnPrglCSCIsWQOTshRvvUxycpItXUFBCEmcC+UCsKq7e3XLJAmrStLfufXjkk8y\n",
       "uDIo6J+EVpaQqHzzU+BXYNd/W64QPiRei0kKymwi45HsuFgnsO7AfCwhMXm/bgFfIxYEndkw9U29\n",
       "em74l0/ExQvquq1UITFdcz5V9EhSF4MCvXQNqSEJSZJr6A4QtdW8d7o7nbyiYn3t6B96uBfLsK5d\n",
       "QqIFO5F8hURHIheok9MrAwINHyBCDqad6ebI+iQ6b9QIEaX9gr1Bo4qC39N+dil1KOr/FBtJYlO2\n",
       "hARiLUnFssCYx0hWsicG78kVarlp+ln0W4crzI5I2rkgLpfJfpdWeBIIkLCS3uORC6MTqQXZAcZd\n",
       "zZacYhbQdi2WnZ1khquC2kbyOMV9GC8NiDE1tpOItPS83qtV1v7j7wCJUMLYRzT9b9iHqzNG0xWS\n",
       "gfwcVJmzsSBaxkEZickT36R2kgrWxE4do2IsMcwDsc8zypAhsqKlrQCJUBrDPP1XM1hSnVEcRCK5\n",
       "f/QnjC1w+3OeIFE2ni0gUZ94FvAzV7jIHd265ThOSVHUMVH3Viptfus4B6CqtmYH6oSUhyum/ACz\n",
       "Xq1nKiSDi5KTJdkXkAXag44n9XdTc0//pcxxkS33lb0xHBF7ohjf87pt+UhWF5sxdgxqgISVWp9A\n",
       "WY4Pved70ORb3CO2QOq0X3IOMtXOSTWXoPMs6gTrCpqFtux41fKsAr6rZUcogSWcuB7DN6rbzUhI\n",
       "sAGbS2Ffz0TRO67vrG1HbDddXX3bGpzQP0Jy8gvgFCXOfDTbd6lGIpRcYfTo3Zv+O0ZdCckmYRw9\n",
       "nqCL0in7t8fznqq/t8VxqiaXxDbsp8z2OXtrw/XO9perudGi73NDTfaEBPc68jISfgnsCXPvHzBr\n",
       "NOR0odun0ldrnRNk2N1VH5vxLoJxImytt4Q3hI0WMfommpEY0xb+n3Bf6+zPAb+98rtGvltbAAAA\n",
       "AElFTkSuQmCC\n",
       "\" style=\"display:inline;vertical-align:middle;\" /></a><br>"
      ],
      "text/plain": [
       "floor_of_real_below_int: forall_{x in Real, y in Integer | x < y} (floor(x) <= (y - 1))"
      ]
     },
     "execution_count": 18,
     "metadata": {},
     "output_type": "execute_result"
    }
   ],
   "source": [
    "floor_of_real_below_int = (\n",
    "    Forall((x, y),\n",
    "           LessEq(Floor(x), subtract(y, one)),\n",
    "           domains=[Real, Integer],\n",
    "           condition=Less(x, y)\n",
    "    ))"
   ]
  },
  {
   "cell_type": "markdown",
   "metadata": {},
   "source": [
    "### Comparing a Number with its Ceil, Floor, or Rounded Value"
   ]
  },
  {
   "cell_type": "code",
   "execution_count": 19,
   "metadata": {},
   "outputs": [
    {
     "data": {
      "text/html": [
       "<strong id=\"ceil_x_ge_x\"><a class=\"ProveItLink\" href=\"proofs/ceil_x_ge_x/thm_proof.ipynb\">ceil_x_ge_x</a> (conjecture without proof):<br></strong> <a class=\"ProveItLink\" href=\"../__pv_it/theorems/287ee17ff5980b4635760180e73abf9b2849f9230/theorem_expr.ipynb\"><img src=\"data:image/png;base64,iVBORw0KGgoAAAANSUhEUgAAAIoAAAAVBAMAAABrmWvBAAAAMFBMVEX///+IiIgiIiIQEBB2dnbu\n",
       "7u5ERETMzMzc3NwyMjK6urpmZmaYmJiqqqpUVFQAAAB6qHgnAAAAAXRSTlMAQObYZgAAAAlwSFlz\n",
       "AAAOxAAADsQBlSsOGwAAAhdJREFUOMuNlD1oFEEUx/9jdt29/Tj2ihRJ5IhLKkU4gzapTlDQIuGE\n",
       "eBbXeKBrsFoktnEhkFLOQgkYwoFpBEPWKGhUJBaKFuISbUQhEdHKVkzpm8lsLrvMmRvYnbfz3vz2\n",
       "fc0A/x0RLN/3hOj6/rrSxsQ+gyVwOlutWGlk0V+2uPCtC+UzeqDgEPCcz/Nqtd5SUPSFvFmhhhke\n",
       "2SU1xV5X+TJ5OGfmxBwELVFT+qCMiI3UsnYnhVWhS1q+qClwchiKcdT3T3ShPJEUvfRzenxvdt17\n",
       "kZjPly+epjgmgKfAlS6UBUmxUfZWMzWyFoU3MftuDwPvgVswt/bs3Dj36nYqH5OUd/hY+52l3OUU\n",
       "J3L+FEn/CThY09pSZ5SDNtNwtiq/xyQlxFq2X9xFEZEBu8Xnm7Ti7Sb3RUgFYHjj5SjA8Wx2j6bZ\n",
       "7ROm9+lpvaZX6dlQxPgGovTHuYhgbeOCstIrkU7yBknjd0gR/SokdWGimc20uM0din6tWEFV0XX1\n",
       "9g9oNL+lZ5aS66Bp4KGg2Jd3O3lih+L+bVSsRHECNm88xrLsiGLIV7apYEEQJIxpy6nVdenLI+/r\n",
       "B9VpbJTcl7ztj6QLRsXEtPCFWUtp2AfCns60OSyFWa1lU81FXnAm7hyzXih2amIPnuqHeZWkBwPV\n",
       "xlqqn1LdDL4YYYcyl4VOBkE7s1DvyZepfW5M04PbuTWMqvpajfAPRmKEABDjpe4AAAAASUVORK5C\n",
       "YII=\n",
       "\" style=\"display:inline;vertical-align:middle;\" /></a><br>"
      ],
      "text/plain": [
       "ceil_x_ge_x: forall_{x in Real} (ceil(x) >= x)"
      ]
     },
     "execution_count": 19,
     "metadata": {},
     "output_type": "execute_result"
    }
   ],
   "source": [
    "ceil_x_ge_x = (\n",
    "    Forall(x,\n",
    "           greater_eq(Ceil(x), x),\n",
    "           domain=Real))"
   ]
  },
  {
   "cell_type": "code",
   "execution_count": 20,
   "metadata": {},
   "outputs": [
    {
     "data": {
      "text/html": [
       "<strong id=\"floor_x_le_x\"><a class=\"ProveItLink\" href=\"proofs/floor_x_le_x/thm_proof.ipynb\">floor_x_le_x</a> (conjecture without proof):<br></strong> <a class=\"ProveItLink\" href=\"../__pv_it/theorems/efa9b366aa4016d471daef2e58b4bab478095cf10/theorem_expr.ipynb\"><img src=\"data:image/png;base64,iVBORw0KGgoAAAANSUhEUgAAAIoAAAAVBAMAAABrmWvBAAAAMFBMVEX///+IiIgiIiIQEBB2dnbu\n",
       "7u5ERETMzMzc3NwyMjK6urpmZmaYmJiqqqpUVFQAAAB6qHgnAAAAAXRSTlMAQObYZgAAAAlwSFlz\n",
       "AAAOxAAADsQBlSsOGwAAAhRJREFUOMuNlE1IG0EUx/9bd5vNfoRNwYMfBNljQYhiL57SUqE9KBE0\n",
       "HnIxULfiKYhedUHoscRDoQcPgfZSqHSrLX4iKrToQVxsL1KhilQQvIoendnMbjZhtubB7ryZefPj\n",
       "vTfvDfBfsSFlwzOeyLhHBBfadjBTHK6RYgCnVDmJoPxGAxS0A+t0fM/flkqRlONQdPEsZmhko3yK\n",
       "uh1F2f0eMtMcCoLo8ilNiKA86quxe+JZxSPScsynSM+MWrsFoNs0eyIo3xhFSv6b6g8o0lIAHkyN\n",
       "PCdxDAArwFgEZYFRVKSMJZ8iXVbjd4QztQPYB95CPg2dPHq5Ne/rnYyyh8PsVeBLlaLZ2nWC7P8C\n",
       "HmbFMluNpayyIOJFhs17GaWItVBe5CCiGNQSHWcB3QiSu1Ek5Srgh1FHAboistvkaR/IV9ohv+Rq\n",
       "my3QA4TS7NRFBOUWw9yb/mLTPjsiWv87cta+iLs5r3VEueB7XKhQpIlEGhlO1eXK5xDJ+JN8cyS5\n",
       "GgoxfPYo6qugkgcqFP0mn1bcug4gwePv9DIWWUUk6AJuyYVZluUKgrjom04yX74afw543ZhP6pv0\n",
       "wh77C7G0jCnPF0H56D8pD4oN9bTcwZQ5saSSO/fygj6n2maNUFTfRG192gz5NdE+tWTya/7+OIci\n",
       "mZ4Uq5Q3tdAhyyrXLOQa8mX8nhdTNqB3m5Ua003T4D+rNu4A/aOIEBga5bUAAAAASUVORK5CYII=\n",
       "\" style=\"display:inline;vertical-align:middle;\" /></a><br>"
      ],
      "text/plain": [
       "floor_x_le_x: forall_{x in Real} (floor(x) <= x)"
      ]
     },
     "execution_count": 20,
     "metadata": {},
     "output_type": "execute_result"
    }
   ],
   "source": [
    "floor_x_le_x = (\n",
    "    Forall(x,\n",
    "           LessEq(Floor(x), x),\n",
    "           domain=Real))"
   ]
  },
  {
   "cell_type": "code",
   "execution_count": 21,
   "metadata": {},
   "outputs": [
    {
     "data": {
      "text/html": [
       "<strong id=\"real_minus_floor_lower_bound\"><a class=\"ProveItLink\" href=\"proofs/real_minus_floor_lower_bound/thm_proof.ipynb\">real_minus_floor_lower_bound</a> (conjecture with conjecture-based proof):<br></strong> <a class=\"ProveItLink\" href=\"../__pv_it/theorems/869b5f99ec34ae450d5562c1199542fef8eafed80/theorem_expr.ipynb\"><img src=\"data:image/png;base64,iVBORw0KGgoAAAANSUhEUgAAAL0AAAAVBAMAAADhtvKAAAAAMFBMVEX///+IiIgiIiIQEBB2dnbu\n",
       "7u5ERETMzMzc3NwyMjK6urpmZmaYmJiqqqpUVFQAAAB6qHgnAAAAAXRSTlMAQObYZgAAAAlwSFlz\n",
       "AAAOxAAADsQBlSsOGwAAAnBJREFUOMuFlU9o1EAUxt9sk03SZEsqFNTCUveiF6GIIHhapRU9KFF0\n",
       "RXrpgo2eZBG9arB3WQXBg4cVvIiKC1Zstci64kEUHNSLIOyKKB49KAhenHkzk3Tzxxn4lsm3mV9e\n",
       "3ps3AfjviKQy40QytQtuKbSTQahQdrxNpvcAbucv5/aQTz4X8D9K6fikl7lhbjpC+ym/uJmPN9tC\n",
       "Wj7cwNmp5DEONXegfYlncDGf7/aE9Pw3Ip79vjL7AAfQdgIAg+bzx6T0/LFAzDfNS/McwCDgtsfi\n",
       "cwrS/0lKz3fUW/blA/4CXKZo76rVdhfwV6SOVk/O0Sxf2pxvDOOYVjFTnN9D+wnAUgH/llSXfHFn\n",
       "snxpc76X7IK733hFfzG+j/ZVsIcbFr4/9Pyamu8U8iLv90Qvw1c251dmE/6S4tfRLgdGR/5lVcMO\n",
       "MeBgXV7vFbLAxfDM6zU+WpKvbM63fsb5+YG3Mv5DH+2KH5f3GVtKCLzyR/lse/i59RU254+r+PuP\n",
       "4/oOqLDbL9jP5Op0hF3I+FPd0fywUCIzyOELG/Mzk9qfIcC7QNiHWZeR6LtDG3jkGHZT5bop1Oh8\n",
       "BSMbv7Kxvoup/noJsCbtZVZeD5oW3Ee+ezru5iNCg4uP4EGWr2zOd+up86FEzT3SnsCC/QF4HYYh\n",
       "JcSIWeeFFiYr6zTLVzbnlzrpo2ul2tpoW7M2XMD4yfgdletSS0jfv1fyGyi2l422y3Yq5h/mVX29\n",
       "rpCev57Pj213674psM/w9thSX1hT9lkpHV8ewMewP7YnX7bUuXw8DEfz2JDS8cv5X8Ky7gNp+0LZ\n",
       "8aG2TZ4nfLI5fzmz/wH7NrS4SeMAaAAAAABJRU5ErkJggg==\n",
       "\" style=\"display:inline;vertical-align:middle;\" /></a><br>"
      ],
      "text/plain": [
       "real_minus_floor_lower_bound: forall_{x in Real} ((x - floor(x)) >= 0)"
      ]
     },
     "execution_count": 21,
     "metadata": {},
     "output_type": "execute_result"
    }
   ],
   "source": [
    "real_minus_floor_lower_bound = Forall(\n",
    "    x,\n",
    "    greater_eq(subtract(x, Floor(x)), zero),\n",
    "    domain=Real)"
   ]
  },
  {
   "cell_type": "code",
   "execution_count": 22,
   "metadata": {},
   "outputs": [
    {
     "data": {
      "text/html": [
       "<strong id=\"real_minus_floor_upper_bound\"><a class=\"ProveItLink\" href=\"proofs/real_minus_floor_upper_bound/thm_proof.ipynb\">real_minus_floor_upper_bound</a> (conjecture without proof):<br></strong> <a class=\"ProveItLink\" href=\"../__pv_it/theorems/532c7eac36eaf4cf49696e8452f7a090fc9f8d4d0/theorem_expr.ipynb\"><img src=\"data:image/png;base64,iVBORw0KGgoAAAANSUhEUgAAAL0AAAAVBAMAAADhtvKAAAAAMFBMVEX///+IiIgiIiIQEBB2dnbu\n",
       "7u5ERETMzMzc3NwyMjK6urpmZmaYmJiqqqpUVFQAAAB6qHgnAAAAAXRSTlMAQObYZgAAAAlwSFlz\n",
       "AAAOxAAADsQBlSsOGwAAAklJREFUOMuFlU1oE0EUx9+0k+ymuwnpoeAHlDboSYVQPHmqUEEPyhZq\n",
       "PBSkAV09FtGrLPZYkLQg9KCwQi+iYkBBq0XiwYPoYaleBMFIwZMHLwG9OW8+drOZWWfgH2Z+yf7Y\n",
       "fW8mC/DfEclo42I2dQt+UoizQRIRfXzKpo8BHpovR9zHybcC/xcZm5/0tB84RwV+jYsts77UEbH6\n",
       "4d7o95d3BgLfxgqumP1eT8Tu/6iXdiBwJQCgidk/LmP3jwfpsrqV+Rn22f1VCsr/Vcbur6RP6R8L\n",
       "Mj/iuUbjZIH/hczi9KWFRPdLjH7aV2U5EgzVB/FLgKsF/vsyXfLDm9H9EqPfl7tgaTZXf8R3we0P\n",
       "Xbh37u2Gmp8Q8SN/UOtpfoXRX21yun4831/E5YDGas9OhzGhcHZerk+JOODx2yttNnCsSr/C6Hd+\n",
       "46z2YGT/IK7W0/a+YZcSAu/reT/bB3VjfwVG/0TT6Oe48459TL46HPFTyPxT3Xx9AJ5FpcDgF5jX\n",
       "Z8ZcH8Tn2Skj0c9K0uKcum1V67ZIK94Hqt+/wry/K+b+Il5j7fWh7cATzr0r6Wm+IPL91nN4qvsV\n",
       "Rr+nWrY4Kx+U/lG4xhvGlh/CMEwIoanrhsjyZHU30f0Ko38sTs+XOAC1/b+/hrHTdOEmv38ysa1q\n",
       "PbYqYj+/d7KlP/RnmeI12vHYTuX1hzOqv35XxO7fNR/QFHuHTk+Be43NHh2cX95R+LqMzV/wBzyK\n",
       "l8IwzoGWjM1fNr8Jy7YXpFsX0cfnhtyJezg5YL6c4X+CsqhlQ8GntwAAAABJRU5ErkJggg==\n",
       "\" style=\"display:inline;vertical-align:middle;\" /></a><br>"
      ],
      "text/plain": [
       "real_minus_floor_upper_bound: forall_{x in Real} ((x - floor(x)) < 1)"
      ]
     },
     "execution_count": 22,
     "metadata": {},
     "output_type": "execute_result"
    }
   ],
   "source": [
    "real_minus_floor_upper_bound = Forall(\n",
    "    x,\n",
    "    Less(subtract(x, Floor(x)), one),\n",
    "    domain=Real)"
   ]
  },
  {
   "cell_type": "code",
   "execution_count": 23,
   "metadata": {},
   "outputs": [
    {
     "data": {
      "text/html": [
       "<strong id=\"real_minus_floor_interval\"><a class=\"ProveItLink\" href=\"proofs/real_minus_floor_interval/thm_proof.ipynb\">real_minus_floor_interval</a> (conjecture with conjecture-based proof):<br></strong> <a class=\"ProveItLink\" href=\"../__pv_it/theorems/2ae3bbc5d33f7204fe0c302f2b700c48e9946a0f0/theorem_expr.ipynb\"><img src=\"data:image/png;base64,iVBORw0KGgoAAAANSUhEUgAAAN0AAAAVBAMAAAAwUfbwAAAAMFBMVEX///+IiIgiIiIQEBB2dnbu\n",
       "7u5ERETMzMzc3NwyMjK6urpmZmaYmJiqqqpUVFQAAAB6qHgnAAAAAXRSTlMAQObYZgAAAAlwSFlz\n",
       "AAAOxAAADsQBlSsOGwAAAvVJREFUSMeNlk9o01AYwL90yZqmaUkPA3VSRmD+A6EORfBUYQ49bETQ\n",
       "ihR0E43DgxSZV1ccCF6kOwgedqioB0Gx6kCrQ6qiOEQMUw+i0MpwJw8eHE68+PK+l+drki578Gtf\n",
       "vyTvl/e+96cAq5YyI1AUS7xJ9V+WzNJaW2p7zEGCRW/wqlYDzfBdlqv+B64zWu6Prx18HxlRPtgY\n",
       "4hvs9foT7yev3UCeuIFr4TqlgkT7ElbAl3CULfjjWH2ZfF5FLpAvdTTcl2wg0T69FvC9ABjy0uL6\n",
       "3iLum8lOuK+LEe2DXazlE+ZW5jsL0LQEX5dFcR9MdEjfZ8YafDNYnbZ4//4CTDqCL9FABkxzZwff\n",
       "LONg9sigE/Qpme8Tw8w3QqOXLT6eiutrCD65hTwCONXBN8OoSd+SfUFfErLGA+abh7Z5J1fVX8Rn\n",
       "CD69glwBtSU0tHDg2bRX347oZX053Qj63sB76wfzfaDRis+XF3ypHNJt8cUZz9pVSYb97DbYg8Qh\n",
       "iQ0dNd2y2fOVoM7zN0mfJ7kxN7HxJL57Yv/iP5GUwafLU7IJSRK8Mtp9ZF4Z4fNlB/fdoOt1VFgP\n",
       "JH9Ncb5oOQQqz8lH5nFv2V3+rq+n1j6e5EXLihXi01bgMPMt0Gif4LOBDLc4nn0IDJNVL5WXEk6B\n",
       "XpPVMS9XY0ihughysH/KmXQO8sz3mkYzgu8lkOFWhPkyisAUmS46jMXhDr2WPMlHZQRpnn8Id4O+\n",
       "1O9iTnOYb5ZGE85/X8xRdsNxmnh5xd2s8gik6dFBQvO2bTuSJPO2zyHFTGrOCenffePLOy9/23DD\n",
       "XbrFfcpstgSxflew+IdM41gVYVMzp8IE7Z+k3fRyFSsh0fuLyjKnDfH9DMsnfttFBi1TciVJVgbN\n",
       "H+zz5oseshOH+/y7OvfleWiOgSfBhr09oJ4mtdvr88W6Fx5nRPoudThvFb6Q3DPIfw4dsu32c7nA\n",
       "iPSNd/BJPNJdRlYtqoEES2rAxHjKJBXJ35Ac+P+yDvkHQ6LXwMdW6WUAAAAASUVORK5CYII=\n",
       "\" style=\"display:inline;vertical-align:middle;\" /></a><br>"
      ],
      "text/plain": [
       "real_minus_floor_interval: forall_{x in Real} ((x - floor(x)) in [0,1))"
      ]
     },
     "execution_count": 23,
     "metadata": {},
     "output_type": "execute_result"
    }
   ],
   "source": [
    "real_minus_floor_interval = Forall(\n",
    "    x,\n",
    "    InSet(subtract(x, Floor(x)), IntervalCO(zero, one)),\n",
    "    domain=Real)"
   ]
  },
  {
   "cell_type": "markdown",
   "metadata": {},
   "source": [
    "### Ceil, Floor, and Round functions are idempotent"
   ]
  },
  {
   "cell_type": "code",
   "execution_count": 24,
   "metadata": {},
   "outputs": [
    {
     "data": {
      "text/html": [
       "<strong id=\"ceil_of_ceil\"><a class=\"ProveItLink\" href=\"proofs/ceil_of_ceil/thm_proof.ipynb\">ceil_of_ceil</a> (conjecture without proof):<br></strong> <a class=\"ProveItLink\" href=\"../__pv_it/theorems/ce19bc99ae6646a1ccc024a8e0781c9bddae5c0d0/theorem_expr.ipynb\"><img src=\"data:image/png;base64,iVBORw0KGgoAAAANSUhEUgAAAK8AAAAVBAMAAADC7aNVAAAAMFBMVEX///+IiIgiIiIQEBB2dnbu\n",
       "7u5ERETMzMzc3NwyMjK6urpmZmaYmJiqqqpUVFQAAAB6qHgnAAAAAXRSTlMAQObYZgAAAAlwSFlz\n",
       "AAAOxAAADsQBlSsOGwAAAiRJREFUOMudlT2IE0EUx/9z2dxu9iNsigM/IOjUKlGsrCIoaHGygsYi\n",
       "jQFdxSpIbGW56yUWgoVFFBvRw3gKenpILARFxeWwERVPRCsLG/FK3+zuJHtms4GZYubt/N/8GN7H\n",
       "LJA7Apicu/EkhsP5AGt815jjLb4zNiIxwJTBQtgDWqMpHmafprtjnm9HJok3aVkX9ucJ4A9QAzPy\n",
       "fyrs69ncYlcRjGvAZVqM09lga6AKfgOUPEALs8EFqIILXnSmNCHEH5XBJTqwj/P9E8CP0uBi5Udn\n",
       "Phd8vHrqUBiLGtXEY+DsBPCNNNhC1V3eBF7mYuwZgvvsm7UjFm1K+xUY6ynY2tHnV6W9Ow1+hffe\n",
       "r7wb24H9pzyIRacGzHpaL1H1qt9jGo7Uk+8DaXAbK/kx1mF1ZYz13wR3h7l71qbaZnjpZoGBvdOS\n",
       "V3Al2KQbo/uCpsqT7YHoFwGe62eFAuYGTubGGPeDopeEgmKNeWoTFvwshY3oedCMliyuVgpcvFCu\n",
       "oZ5340bvO7REtEXLLVLubLR03IvA1plhHx5LgZ2/zZoZ5oG/XnqIpUS0RJrKbaFsAK993w8Z05ak\n",
       "98X0jR+4n97lxrhZcVbDRJyR9QC9ZqAT3ZiZt71kc6at2nkL8mNR61pUeFGMcVgmz+6rgleH79i2\n",
       "g3MwzpF1Z2u9uSK3zyuC/38uT/h+b9NGQxE8O+3fZLhwRD6c0buqi3x3xjy/jEwStwD/AHqZvFgX\n",
       "Q/neAAAAAElFTkSuQmCC\n",
       "\" style=\"display:inline;vertical-align:middle;\" /></a><br>"
      ],
      "text/plain": [
       "ceil_of_ceil: forall_{x in Real} (ceil(ceil(x)) = ceil(x))"
      ]
     },
     "execution_count": 24,
     "metadata": {},
     "output_type": "execute_result"
    }
   ],
   "source": [
    "ceil_of_ceil = Forall(\n",
    "    x,\n",
    "    Equals(Ceil(Ceil(x)), Ceil(x)),\n",
    "    domain=Real)"
   ]
  },
  {
   "cell_type": "code",
   "execution_count": 25,
   "metadata": {},
   "outputs": [
    {
     "data": {
      "text/html": [
       "<strong id=\"floor_of_floor\"><a class=\"ProveItLink\" href=\"proofs/floor_of_floor/thm_proof.ipynb\">floor_of_floor</a> (conjecture without proof):<br></strong> <a class=\"ProveItLink\" href=\"../__pv_it/theorems/ef7c4e1e723670ab3c53aa047a3a901cb472ddc90/theorem_expr.ipynb\"><img src=\"data:image/png;base64,iVBORw0KGgoAAAANSUhEUgAAAK8AAAAVBAMAAADC7aNVAAAAMFBMVEX///+IiIgiIiIQEBB2dnbu\n",
       "7u5ERETMzMzc3NwyMjK6urpmZmaYmJiqqqpUVFQAAAB6qHgnAAAAAXRSTlMAQObYZgAAAAlwSFlz\n",
       "AAAOxAAADsQBlSsOGwAAAh9JREFUOMudlT2IE0EUx/9z2dxu9iNsigM/IOj2SjysrCIoaHESQWOR\n",
       "xoCuYhXkbGXxeomFYGERwUb0MJ6Cnh4SC0FRcTltRMET0crCRrzSN7M7e3tmMwczxZu38978GN7X\n",
       "AsoVodyiTYjsCLDGHE9uqFbio1wshjuiXYhk2UMSd8c8326oZLxF2xrXv0wAf4QemJH/U67fKOaW\n",
       "+5pgXAcu86icLgY7I13wG6BCeTHiYnAJuuBSS9ypTAjxJ21whS7MBsH+CeBHeXC59mN+Tgk+Xj91\n",
       "KE6MBtXEY+DsBPDNPNhB3V/aBF4K+NqbgYfsm7MrMbqU9quw1nKw1aPPr0l9Tx78Cu9bv1QvdiP3\n",
       "T3WUGL0GMN0yBqnVrIcDZuBIM/0+kAf3sKyOsQmnL2Ns/ia4n+XuWY9qm+GlXwQG9m2VvJIvwTa9\n",
       "GP0XJGpPdka8Xzh4ZlgUCtjrfCIoYoz7ER8qIhQUa8xRm7DoZyVui/FgWF1ZXN0cuHyh2kBT9eL2\n",
       "4DuM1Ojyllug3LnomrgnwM6ZrA+P5cDe307DjlXgr5ceYjE1OjxN1R63rAOvwzCMGTMWpffF/Isf\n",
       "+J/fKWPcqXkrcWqckvUAs2FhXryY2bfl9J3q6XbeFfmxYPQdKjwRYxyWyXOHuuCVbI7tODgD6xxp\n",
       "d7Y3O8vy+Lwm+P9xeSIMB5sO2prg6a3+TZYPbzZIBV9eQMpqsHvM84M8E8ZtwD+R0Lmyi9uWQgAA\n",
       "AABJRU5ErkJggg==\n",
       "\" style=\"display:inline;vertical-align:middle;\" /></a><br>"
      ],
      "text/plain": [
       "floor_of_floor: forall_{x in Real} (floor(floor(x)) = floor(x))"
      ]
     },
     "execution_count": 25,
     "metadata": {},
     "output_type": "execute_result"
    }
   ],
   "source": [
    "floor_of_floor = Forall(\n",
    "    x,\n",
    "    Equals(Floor(Floor(x)), Floor(x)),\n",
    "    domain=Real)"
   ]
  },
  {
   "cell_type": "code",
   "execution_count": 26,
   "metadata": {},
   "outputs": [
    {
     "data": {
      "text/html": [
       "<strong id=\"round_of_round\"><a class=\"ProveItLink\" href=\"proofs/round_of_round/thm_proof.ipynb\">round_of_round</a> (conjecture without proof):<br></strong> <a class=\"ProveItLink\" href=\"../__pv_it/theorems/ec2887034c15facf9d9e1aad739dd1870baa04960/theorem_expr.ipynb\"><img src=\"data:image/png;base64,iVBORw0KGgoAAAANSUhEUgAAAVgAAAAVBAMAAADx8+t1AAAAMFBMVEX///+IiIgiIiIQEBB2dnbu\n",
       "7u5ERETMzMzc3NwyMjK6urpmZmaYmJiqqqpUVFQAAAB6qHgnAAAAAXRSTlMAQObYZgAAAAlwSFlz\n",
       "AAAOxAAADsQBlSsOGwAABHxJREFUSMeVVl2IG1UU/iaZSSaZJDsL1lrXxnUpChUlyiqiIhNtrYLV\n",
       "KdpVWdhkQaNYqINuQR+0Yyu+KJuoCII+TK0viqXpuqBtlzU+1B9K2bD1oaKwG+wKlT5kH5YG6YLn\n",
       "3jvZZOrOZPbAN9yZ+c797j333HMvEGg2epgalmCH6c1PXw2jJNV7MbaGJRxxsSFr6yd1gUX28qcP\n",
       "+Tf/fuIfV+mZNvwZbz7QTZBqAiGNO3f0bxI4xdqfru+hVAK662Ozfj5IcNVD+MRFSFv16CdMjrdZ\n",
       "OhTXd9CCInGc/DETQEiueAhnXYQz7tzRT1U52Jhln9SMBnX3MHvkAgjyoIcQNQXCGXfu0r+HI0Wj\n",
       "T/h4/B7U3WcsI4PyJFH1EBI1gXDGnLv1Pxe4e2ho2MdjmvbRo+o0KeSzjjJQQ8ZMZp/Lj1PiXNzM\n",
       "kkqj7TNRfP8JikT/P9hDa76EI0vvXk8bdzJ/sC4ISv/SxG5iLAp4LNCZ6WNP9tkd1H4SHN8BL/oM\n",
       "lqYix6blHA45aktO5zBH7w0UbBy1YytutIx9xiNQt6NsG+eRasLYrystJO/Dq6YgaMjqU5RyFQFg\n",
       "aojZnawZ6MzDWZUaGqXEr+CYhNo93/nHZz9st+8APkgMUnRuAba9RT6X8HWkiLKlPAiN6UbqUGsf\n",
       "UQQiOiK76lPIVJLOrVCv4OkaTgoCfsGceZkyIifgOTECnZl+yk6tZGjG58ERM2WnXTuzJUeS8Vi7\n",
       "Nt4PHOhjsWkCD5lRHXfBLDhYMOlDhJGiDuLmVWr8QO0l+h3VFeVfpFfYh22CAEsox5sCnmId6Mz0\n",
       "4yIqOCiQ1tf212mLCreEM3pnsLxCRYtQl6lFk8YCKL70oeC4Y+FF5l6grFOrbCHdpBDRB9IVBNA4\n",
       "WDHKCfy/Qvk5c32aAnsedVH5kR793w/Y/IChwW6qdtIAlG0o6JBb1JKabKS4qtCHObirzDJKWQae\n",
       "sql1M5hYX23vMstAQUCyhb0UlEEBT84GOnN9HLcVitc8BHbTuSLZfyfqI/xYlNXxdoGhbc/Xg1Ih\n",
       "amA/YsUzGKZ1kgt1XErTJSNGs+b5QKs5jNgiSimTmAvmzlXSvcAJyiuZHIiTKgp4LNCZ6Y84f0Gm\n",
       "5k8uDtP+SmE8jm/4YLUX1nqkWqGy9dAWsQ+YxeuGQZkgVX6O6enbNYhSVGYrPYtYlWjxYZkt5paU\n",
       "NY75apUT0ldGc0m3imnXXiUCnZn+woFvccytYgwZi7m1qDSUSqW6JMnH2l29RkvIF27HAHU6lr/Q\n",
       "sOhduVxXGrsmN7MNQn+/4AdOnu4YysWt9JXex85h7Lo3GhYnKCf0P86xIDoCHgt0Zvqj/ekZlkrb\n",
       "XYh9mVMxwSMrJb9sH4oRq9dBc1t4wiEXG7COvjoowO2wXNGoiPGcxc5q1/Uh2M6GJ8z0uPesYx19\n",
       "dqVZu9ZoN+Y3QX2JWl9tMUZPtjkv9+ouZoclsJud3+3O19b033PRZc+USt6kGunVm1IMS2Cj7jm1\n",
       "a22ke9S9Iqfqvbp7JyzhBhcbsra+ZHP8B8fQaOfvXmy7AAAAAElFTkSuQmCC\n",
       "\" style=\"display:inline;vertical-align:middle;\" /></a><br>"
      ],
      "text/plain": [
       "round_of_round: forall_{x in Real} (round(round(x)) = round(x))"
      ]
     },
     "execution_count": 26,
     "metadata": {},
     "output_type": "execute_result"
    }
   ],
   "source": [
    "round_of_round = Forall(\n",
    "    x,\n",
    "    Equals(Round(Round(x)), Round(x)),\n",
    "    domain=Real)"
   ]
  },
  {
   "cell_type": "markdown",
   "metadata": {},
   "source": [
    "### Relating Ceil, Floor, and Round"
   ]
  },
  {
   "cell_type": "code",
   "execution_count": 27,
   "metadata": {},
   "outputs": [
    {
     "data": {
      "text/html": [
       "<strong id=\"floor_less_eq_ceil\"><a class=\"ProveItLink\" href=\"proofs/floor_less_eq_ceil/thm_proof.ipynb\">floor_less_eq_ceil</a> (conjecture without proof):<br></strong> <a class=\"ProveItLink\" href=\"../__pv_it/theorems/6fa8c833e314117f7a3a3d06db3703fd8407f7f70/theorem_expr.ipynb\"><img src=\"data:image/png;base64,iVBORw0KGgoAAAANSUhEUgAAAJ0AAAAVBAMAAACu6/FQAAAAMFBMVEX///+IiIgiIiIQEBB2dnbu\n",
       "7u5ERETMzMzc3NwyMjK6urpmZmaYmJiqqqpUVFQAAAB6qHgnAAAAAXRSTlMAQObYZgAAAAlwSFlz\n",
       "AAAOxAAADsQBlSsOGwAAAhVJREFUOMuVlc9LFGEYx7+vjjuzzsyyHoQ0EncIPORBoj9gg4Q6CGOY\n",
       "EQuiUNPVQ11j0mMQ2yHyEkzhJUoUPJS2xHbwIHUY7KqoCJ27BB593pl9Z94Z51X2Pew+7/ud57Pz\n",
       "/HoXuHAZwIPMLrc+OrXY2HPGAR+XrWvA73T3+ZyeFT/Q1xG39xU4u94Vj7WBbW6vKHiPoOLZKwU8\n",
       "vAVe8LzMK3gtFc+64RbxfgFlErRQwZtQ8Nh1tyhe9LqwKOayKn3NYt5MrTh/KBPspuPcUvDMesdl\n",
       "euThnTDhNcYz9ZBEjar7FXii4PGfi1w22LE5Knhz77P1lUSLAnoN40hi7N378UbYPWHsYvnW/0pb\n",
       "8CpZnizalPCSqwUdVR/xAqbhbr2z7w1iFx1mU8rfq0y8sqj/I2Y1Kcf3RSodw041xyOrekE9UrGf\n",
       "N0TzJ30MfLvq8/bmvMGNXLzAut/nKvslFW3KI6aoq5n/txzORo9qxkK741aqxi6zwQk0VT/LosUH\n",
       "Y5nKYWFBx5eIZz5OpoWXn7scPt/EWm7e3gmeLEYNVlnkyimw63leyJi2Jpz00dilMWC3QtV9IIs9\n",
       "QeI6YeBZ9H6sf9UVp2Po6n7Bktgsa02TOifKHyZFPfh8d8VrJZM1fHsQxlOyPg3VG1viuOQX8O47\n",
       "fI0V8PL31IznBZmDvvmu3q906YX/EviT/kXUzukHqUnZvwKcARw8oql5Amc4AAAAAElFTkSuQmCC\n",
       "\" style=\"display:inline;vertical-align:middle;\" /></a><br>"
      ],
      "text/plain": [
       "floor_less_eq_ceil: forall_{x in Real} (floor(x) <= ceil(x))"
      ]
     },
     "execution_count": 27,
     "metadata": {},
     "output_type": "execute_result"
    }
   ],
   "source": [
    "floor_less_eq_ceil = Forall(\n",
    "    x,\n",
    "    LessEq(Floor(x), Ceil(x)),\n",
    "    domain=Real)"
   ]
  },
  {
   "cell_type": "code",
   "execution_count": 28,
   "metadata": {},
   "outputs": [
    {
     "data": {
      "text/html": [
       "<strong id=\"floor_equal_ceil_for_int\"><a class=\"ProveItLink\" href=\"proofs/floor_equal_ceil_for_int/thm_proof.ipynb\">floor_equal_ceil_for_int</a> (conjecture without proof):<br></strong> <a class=\"ProveItLink\" href=\"../__pv_it/theorems/f4f332eb1961d79e835d45294092d3c9a18e08720/theorem_expr.ipynb\"><img src=\"data:image/png;base64,iVBORw0KGgoAAAANSUhEUgAAAJ0AAAAVBAMAAACu6/FQAAAAMFBMVEX///+IiIgiIiIQEBB2dnbu\n",
       "7u5ERETMzMzc3NwyMjK6urpmZmaYmJiqqqpUVFQAAAB6qHgnAAAAAXRSTlMAQObYZgAAAAlwSFlz\n",
       "AAAOxAAADsQBlSsOGwAAAhtJREFUOMuV1E1oE0EUB/B/kp1ks9lt96BisUjdg3qwIqUgeFoP9iIt\n",
       "exIPYlvQIAUlLR5FQv04ai6KB5G0vSlCkKJQe1hPFlQIIlRBaYIoCFJyEUU8+GZndpukGWXmkH2z\n",
       "O/vjzXuTBf45ymBB+6x7LHr7RPDWO9TreddI1WGHycyqbVvweit8BCzQpcHjjwrvHbS8FK1d4fG9\n",
       "3hyr6Hm4A1yliznV2yuEmt4rIE/1Nuq9vQw0vUwQrc8ryvdB18vT4hHPG1V4y9Jb+HJ9l6vyrL2n\n",
       "j09Lz6DuPgPOK7z70vMvuexX4j3x+Dgce0a2icmy8Gxq4C2YjXbk87mnJ2U4LDyruh/mT1V+D9NT\n",
       "uF0SnnMEyAZGNX48+3UGB3Fip5weEx5jv+H8UHnBZBUbgfByLTLdpB0F2jvC3Puw04PTQl9F2Y8N\n",
       "4Jusn0X5ofKC3lqd3QMMCrWAzv1yrD8MFPXj2B8m9ztEP+N0qs8shZkyE8d6bT32pqWX8WlHviq/\n",
       "USqGIfvBhWvUjhsD6A+saJ/M9ePVE9Kjcg/YJYVHnUpVXgqvwF/to+agiSXYd4vFizCMIP5GzUlv\n",
       "ETj7Rnn+hsC+14WXTjp7FM9zuSixx1dgSC9d0vx/zMcTs4UD6+Jc+zWeTzTsmqa3mixtYEeImzyf\n",
       "zebYg/j2BT2v+zvFxoozHTdO6XnZ/33wTRfOiOdGsePJoH182govA7uBvwKapZ+9znfAAAAAAElF\n",
       "TkSuQmCC\n",
       "\" style=\"display:inline;vertical-align:middle;\" /></a><br>"
      ],
      "text/plain": [
       "floor_equal_ceil_for_int: forall_{n in Integer} (floor(n) = ceil(n))"
      ]
     },
     "execution_count": 28,
     "metadata": {},
     "output_type": "execute_result"
    }
   ],
   "source": [
    "floor_equal_ceil_for_int = Forall(\n",
    "    n,\n",
    "    Equals(Floor(n), Ceil(n)),\n",
    "    domain=Integer)"
   ]
  },
  {
   "cell_type": "code",
   "execution_count": 29,
   "metadata": {},
   "outputs": [
    {
     "data": {
      "text/html": [
       "<strong id=\"floor_plus_ceil_of_neg\"><a class=\"ProveItLink\" href=\"proofs/floor_plus_ceil_of_neg/thm_proof.ipynb\">floor_plus_ceil_of_neg</a> (conjecture without proof):<br></strong> <a class=\"ProveItLink\" href=\"../__pv_it/theorems/ea2ef5090ff01cfd993f6e22c4dc5df77e80f5a70/theorem_expr.ipynb\"><img src=\"data:image/png;base64,iVBORw0KGgoAAAANSUhEUgAAAOEAAAAVBAMAAABCnpRGAAAAMFBMVEX///+IiIgiIiIQEBB2dnbu\n",
       "7u5ERETMzMzc3NwyMjK6urpmZmaYmJiqqqpUVFQAAAB6qHgnAAAAAXRSTlMAQObYZgAAAAlwSFlz\n",
       "AAAOxAAADsQBlSsOGwAAAppJREFUSMedlk+I00AUxl+6SZs2yZI9LKiLpRsPelApIgieIqyiByWC\n",
       "rshetqDRkxTRq0b3LlUQPHio4EV0seiCrhapigdRMKxeBKEVwbMHBcGL703+NJ1OGkhghsnHl/lN\n",
       "5r15CcDEy8OmApwcKirnqFiWOapsWDuDB1Pmm3hJPnZbAT4OpYecRe+NP4aee+IJSR7Q4FsK8Qs2\n",
       "w85DlMblhTmPyS/o5o4YqLSwOw15iHCbF8u+soPJVyg2y2KiRrN1xcRKbzLxAy++ATjE5LIDIPti\n",
       "4hR1dTHRMCcTpxxOvADQd0imJ8opYfxKM7fyEcu8/g/gqs/kPZa1N4W4Rjtrh8Tj1VMLfgYx4ZEH\n",
       "XE4QscfkZwBnU4h3o7USsSN912oZxIRHp72BJxZduylXfiPRZPINUJPL2Tjy6mY03oWt4AdE3dP/\n",
       "TPcmE5Meoz66eka0mVx05HaolqpuW5LhsB3e76cMaAfEEmitOI6aZW3DaAxConKLvUoz6Sn94nYV\n",
       "iY9NJhtmnDgvm3h0JXhnCog4MrMzZ+ip1Mczp+8Hcus1djPP5zxWJ5A42xHsKq7QU5ws4tBj1Ebj\n",
       "CC7AJyeQj2IdkLyfZX+RlVJZbUSTNLAVzYC42P4BcsY7Jj06X1XeAqyH8gqGQ4dGCR4xonYm9h6L\n",
       "shyJ/ctPYTWDmPRoNkcs+Mq+UJ5ukvAX4L3rur4kyauR6SJlQC0gLs0YXT+DmPQU2nyRXqs2k3Kp\n",
       "rsIl9o5S5X5UoAq0lu35as518RGP5RW5peE5YXGEg1Hm6J2wJOeo5F0xMZa1LQdmQT2Howeb7aX1\n",
       "SD5PqePl+VqlfI54+YTrju4+Za+ynIdYFP9fFLN+O1QK1jWAz9Z89A8zz1kMwZcOE2KTeEKU/wNI\n",
       "bM4bcAiCJAAAAABJRU5ErkJggg==\n",
       "\" style=\"display:inline;vertical-align:middle;\" /></a><br>"
      ],
      "text/plain": [
       "floor_plus_ceil_of_neg: forall_{x in Real} ((floor(x) + ceil(-x)) = 0)"
      ]
     },
     "execution_count": 29,
     "metadata": {},
     "output_type": "execute_result"
    }
   ],
   "source": [
    "floor_plus_ceil_of_neg = Forall(\n",
    "    x,\n",
    "    Equals(Add(Floor(x), Ceil(Neg(x))), zero),\n",
    "    domain=Real)"
   ]
  },
  {
   "cell_type": "code",
   "execution_count": 30,
   "metadata": {},
   "outputs": [
    {
     "data": {
      "text/html": [
       "<strong id=\"floor_of_ceil\"><a class=\"ProveItLink\" href=\"proofs/floor_of_ceil/thm_proof.ipynb\">floor_of_ceil</a> (conjecture without proof):<br></strong> <a class=\"ProveItLink\" href=\"../__pv_it/theorems/99f0aa4301ed1b52bf0bb5971207cd12d8b7a4620/theorem_expr.ipynb\"><img src=\"data:image/png;base64,iVBORw0KGgoAAAANSUhEUgAAAK8AAAAVBAMAAADC7aNVAAAAMFBMVEX///+IiIgiIiIQEBB2dnbu\n",
       "7u5ERETMzMzc3NwyMjK6urpmZmaYmJiqqqpUVFQAAAB6qHgnAAAAAXRSTlMAQObYZgAAAAlwSFlz\n",
       "AAAOxAAADsQBlSsOGwAAAitJREFUOMudlT2IE0EUx/9z2dxu9iNsigM/IHhTq8TDyiqCghYnK2gs\n",
       "0hjQVayCnK0sd73EQrCwiGIjehhPQU8PiYWgqLgcNqLiiWhlYSNe6ZvdnWTPbDYwU8y8mffmx+O9\n",
       "N2+A3BGg6NFicu5Ge4fzPi3GiOEtPhsL63y3uDZhsBC2AEVTPMweTXdHLN8ORVLepGVDyJ/HgD9A\n",
       "DczI/qmQr2dzix1FMK4Bl0XITmeDrb4q+A1QouRoYTa4AFVwwYvulMaE+KMyuEQX5jjfPwb8KA0u\n",
       "Vn4szOeCj1dPHQpjpUY18Rg4OwZ8Iw22UHVXtoBXuBh7B+Ae+2btipU2pf0KjI0UbP3o86tS3pMG\n",
       "v8J771eex3Zg/yn3Y6VTA6Y9rZto9arfZRqO1JP9gTS4jdX8GOuwOjLG+m+Cu4PcPWtTbTO8dLPA\n",
       "wL5JySu4EmySx+i8oKnyZGcg3osAz/SyQgFzEydzY4z7gegsUSgo1pinZ8KCn6WwEbUHzWjJ4mql\n",
       "wMUL5RrqeR43ut+hJUpbPLklyp2Nlo57Edg6M3iHx1Jg52+zZoZ54K+XHmI5UVoiTeW20GwCr33f\n",
       "DxnTlqX1xbTHD9xP73Jj3Kw4a2GinJL1AL1mYCHymJm3veRwqq368hblZknrWFR4UYxxWCbP7qmC\n",
       "1wZ9bMfBGRjnSLqzvd5clcfnFcH/t8sTvt/dctBQBE9P+psMF84cfXfOsK/qdfrWZkcsvwxFStU2\n",
       "4B93QLtso25pfQAAAABJRU5ErkJggg==\n",
       "\" style=\"display:inline;vertical-align:middle;\" /></a><br>"
      ],
      "text/plain": [
       "floor_of_ceil: forall_{x in Real} (floor(ceil(x)) = ceil(x))"
      ]
     },
     "execution_count": 30,
     "metadata": {},
     "output_type": "execute_result"
    }
   ],
   "source": [
    "floor_of_ceil = Forall(\n",
    "    x,\n",
    "    Equals(Floor(Ceil(x)), Ceil(x)),\n",
    "    domain=Real)"
   ]
  },
  {
   "cell_type": "code",
   "execution_count": 31,
   "metadata": {},
   "outputs": [
    {
     "data": {
      "text/html": [
       "<strong id=\"ceil_of_floor\"><a class=\"ProveItLink\" href=\"proofs/ceil_of_floor/thm_proof.ipynb\">ceil_of_floor</a> (conjecture without proof):<br></strong> <a class=\"ProveItLink\" href=\"../__pv_it/theorems/82c4f6cbd77150baa5c3c2069c854a42c48f35e00/theorem_expr.ipynb\"><img src=\"data:image/png;base64,iVBORw0KGgoAAAANSUhEUgAAAK8AAAAVBAMAAADC7aNVAAAAMFBMVEX///+IiIgiIiIQEBB2dnbu\n",
       "7u5ERETMzMzc3NwyMjK6urpmZmaYmJiqqqpUVFQAAAB6qHgnAAAAAXRSTlMAQObYZgAAAAlwSFlz\n",
       "AAAOxAAADsQBlSsOGwAAAihJREFUOMudlU1oE0EUx//TbLqb/QibQ8EPCDpnlVg89RTBQj1UImg8\n",
       "5GJAV/EUJF5lae8SDwUPHiJ4EVsaq6DVIvEgKCou1YsoWBE9efAi9uib3Z10ajYb2DnMvp339sfj\n",
       "/+a9BVKXD5NzF/maerTJDw0Fnt0xDREzZrEAdp+e4RYts0fb/aHItzsmOe/QY0vYX0aAPyIbmFH8\n",
       "U2HfSubmOxnBWAKuC1XOJ4OtflbwG6BAddGCZHAOWcG5WvhNYYTEnzKDC/TBNOfHRoAfqeB86Ud7\n",
       "PhV8unzuRBA5NboTj4GLI8C3VbCFsru2C7zGxToyAPfYN+tA5LSp7DdgbCmwzZPPb0r7sAp+hfe1\n",
       "X2kZ2779p9iPnE4FmKxp3dirl70u0zBXjd9nVHAL6+ka67A6UmP9N8HdQe2etehuM7x0k8DA0XHF\n",
       "y7kSbFLG6LygrfRkvy/6RYCneklSwNwWEyFFY6z6YqiEUpDWmKc2Yf7PQlAPx4NmNOXlairg/JVi\n",
       "BdW0jOvd79Bipy1abpFqZ6OpYzkEWxcGfXhKATt/GxUzSAN/vfYQK7HTEmUqtoRnG3jteV7AmLYi\n",
       "o6+qGT9wP79L1bhRcjaC2Dkh7wP0ioF2mDEz78rpO9HK2nkL8mVR61h08UKNMSuLZ/eygjcGc2zf\n",
       "8SkYl8i6t7faWJfHlzOC/x+XZzyvu+ugnhE8Oe7fZLhwRD2caR41jcNDoz0U+YEfjEeCMPYA/wCV\n",
       "Kbqef0ECHgAAAABJRU5ErkJggg==\n",
       "\" style=\"display:inline;vertical-align:middle;\" /></a><br>"
      ],
      "text/plain": [
       "ceil_of_floor: forall_{x in Real} (ceil(floor(x)) = floor(x))"
      ]
     },
     "execution_count": 31,
     "metadata": {},
     "output_type": "execute_result"
    }
   ],
   "source": [
    "ceil_of_floor = Forall(\n",
    "    x,\n",
    "    Equals(Ceil(Floor(x)), Floor(x)),\n",
    "    domain=Real)"
   ]
  },
  {
   "cell_type": "code",
   "execution_count": 32,
   "metadata": {},
   "outputs": [
    {
     "data": {
      "text/html": [
       "<strong id=\"round_in_terms_of_floor\"><a class=\"ProveItLink\" href=\"proofs/round_in_terms_of_floor/thm_proof.ipynb\">round_in_terms_of_floor</a> (conjecture without proof):<br></strong> <a class=\"ProveItLink\" href=\"../__pv_it/theorems/ecd6a2fd2fa4ce241ed43b8e3edd861b577e87d60/theorem_expr.ipynb\"><img src=\"data:image/png;base64,iVBORw0KGgoAAAANSUhEUgAAAQ8AAAAyBAMAAACwkkPKAAAAMFBMVEX///+IiIgiIiIQEBB2dnbu\n",
       "7u5ERETMzMzc3NwyMjK6urpmZmaYmJiqqqpUVFQAAAB6qHgnAAAAAXRSTlMAQObYZgAAAAlwSFlz\n",
       "AAAOxAAADsQBlSsOGwAABKVJREFUWMPFmW9oG2Ucx7+XXHKX5Jqk4Cbzz1rqnxdjc3XOURQ0RYcK\n",
       "am+4VGTYraJREFyQCfrGHE58I7RRmPhCJf55M3A0bKKrHVtEJuyFNLR7oSA0s1ZEBl1fFLuxEn/P\n",
       "9e5ybXP3PEu57CC5e+65/J7P/f4+zxOAd0TzaP3YxumPdwODupisywgYRLlHSFQyEwiINToDwZSQ\n",
       "qAsIAmRofLEBItcEJKl9gYBAcoFgu4CkULoNINMC7voz2gASK/Ml7W4HSHyJK8h6PmAQfMF3kVpb\n",
       "QGa4TlLItwXkIDckZtEWkGg3T9Aj7QHReN6qXG8PSIQ3jrQkMpphJeEbAZGX3CBczUd7BTikqlVJ\n",
       "0+Igydmrl90gLwFmfP7h8Xz4kC/COw+z74t2847WpgHsGAB+ZOdPPZ47yMm9y8y+RbsV01sGmSzh\n",
       "XWZdrxcv+Md3nHlcomI3tTIPJF7xAKGB2GvIVY+RZqq+IDITE260H+SBdKQ9QEj1GkHGvEaa9E+s\n",
       "ZtX8vdH+rGWQFLnqrp4ezxLbZUbmkUMfPk2v3/kv9p0B5vDl3PubSeJIf4Ep7Dv67Nv6/ON0/Wxz\n",
       "EKvXF4Sc4wfgFS+QAdP9Mq9nHoO6DaNGZhraFWTeSEeWEO/DYd1SQ1m6lOi2ppWJHvOoNUCsXj+Q\n",
       "MHn8CFR3iZ166uxHTuMcG0mtfEyvTVO10BPVk0gW46V7of6H5yoYZ8/sIC81tMUkmXi6qUbsXj+Q\n",
       "EJ2julyyM/rWXEmS8aQzcZ837+osAZ8j7Dncj3A6ErmGjkV2427W/RA9gYQZw4WmIHYvqequXSuq\n",
       "StXZ4QbpZZSOr06Qb0oSzqdXgaxE6R5gNE1Xo3l0XCG90A0CWgEhRvMnX3s4azjNc1YGguJP9NV5\n",
       "+nZDYvojkE3lVaYBM3BkgTzGoKsuMIpUJbvA3GXFNMCYEdGtBcp6H7F6eabBM8doeOPvWHXQrByy\n",
       "OuyknQEzakLMVNfZ/DVaQ07TwxmaUu1dJqDfqGOYFo2lWch0+UtTjdi9PGfFUYLXMKzgWxMk8XIj\n",
       "z3aZeWSU+dBZRMtI1JTdMrPOFi0/jKkyUx3F7Mxbp3DCiuT1IHavLwhTYNIcjcryhVwuV5Uk+cSa\n",
       "hPaVmUX7qSpF/rpz5FbWHvoVQ7e8fYl1vwkc6Ow4U21aWdgdu9c3jzjeoPSqOGJqRIp/4xSvmZLA\n",
       "EszJvmq3cGZVJz7Jr0rxdqAelYsJCmTTR7DXwStU+CCNUpeoCBe9DyBfW1P0LBm39W+C+ipdHd+S\n",
       "OTBu/zAlsATDa3CkC08D/gEecIOsqa77c7nVtggVBUAG1xHxQR7VMW+4QLoMzuaIyFRRtdQqGeIg\n",
       "f1KyzLtA5nn23+CK02+GttNtmj285cRyYCDKggtEXbhpCyxrVS26wMKpwEC+dye0JHfJOVYKCESr\n",
       "uUFS3EV4qBwQyEWorvCd5G5LaAFt1CgZSHoD5L6btnX13sTEyRvauhJQWksgO+v1qw2QqMC+VCwT\n",
       "VEJzOeuYwNsqfW0A2SEianPwIEJb4EH9KeAGOS4m6/ONgGzPZn3sn82+SCDKMTFZG/rjiKLDZ0pz\n",
       "uF4nkBdM1P8BM5UuFk0+J5cAAAAASUVORK5CYII=\n",
       "\" style=\"display:inline;vertical-align:middle;\" /></a><br>"
      ],
      "text/plain": [
       "round_in_terms_of_floor: forall_{x in Real} (round(x) = floor(x + (1 / 2)))"
      ]
     },
     "execution_count": 32,
     "metadata": {},
     "output_type": "execute_result"
    }
   ],
   "source": [
    "round_in_terms_of_floor = Forall(\n",
    "    x,\n",
    "    Equals(Round(x), Floor(Add(x, frac(one, two)))),\n",
    "    domain=Real)"
   ]
  },
  {
   "cell_type": "code",
   "execution_count": 33,
   "metadata": {},
   "outputs": [
    {
     "data": {
      "text/html": [
       "<strong id=\"round_in_terms_of_ceil\"><a class=\"ProveItLink\" href=\"proofs/round_in_terms_of_ceil/thm_proof.ipynb\">round_in_terms_of_ceil</a> (conjecture without proof):<br></strong> <a class=\"ProveItLink\" href=\"../__pv_it/theorems/4d7846adab77f539bc7510d0008a8fd032a56b970/theorem_expr.ipynb\"><img src=\"data:image/png;base64,iVBORw0KGgoAAAANSUhEUgAAAQ8AAAAzBAMAAAB7zpBvAAAAMFBMVEX///+IiIgiIiIQEBB2dnbu\n",
       "7u5ERETMzMzc3NwyMjK6urpmZmaYmJiqqqpUVFQAAAB6qHgnAAAAAXRSTlMAQObYZgAAAAlwSFlz\n",
       "AAAOxAAADsQBlSsOGwAABKBJREFUWMPFmW9oG2Ucx7+X3CWX5Jqk4Cbzz1qK+mI4O3WOoqApOlRQ\n",
       "m6GtyKBbRaMguCAT9I05nPhGaONg4guV+OfNwNGwidp1bBFR2AtpaPdigtDMWhEZdH1R7MZK/D1P\n",
       "7y7XNrnnWcrdDprcc7+nv+dzv3/PnwC+XoODg9l2peuvSH4TIL31erG19FC93g0MScJc3oxFdgjk\n",
       "cQKJ3i2lKpnxBcQanYFgWkrVefgBMjyx1ABRaxKa9D5fQKC4QHCvhKZQOgCQGYlw/RkBgMTKYk27\n",
       "gwCJLwsVWf19BsEX4hCpBQIyKwySQj4QkAPClJhDICCRbpGiR4MBMUTRGr0eDIgmGkdZlhnNtIrw\n",
       "jYCoy24QoeUjuyQ4lKo1k6blQZJzVy+7QV4GeH7+0aJ/+KAnwruPsM8LdvOO9pYB7BoATrPvT1v0\n",
       "OyCovSvMv87KJ5ZtG2SqhPeYd1u9eME7v+Ms4hIVu2mU2wahgdhrqNUW/WarnmpUpibcaD/UNgiZ\n",
       "3qAXirXqN+VdWPms+Xuj/VnbICkK1Qd6elpOsV08Mw8f/OgZev3Of7HvDDCPL+c/2Eo+G+0vMIN9\n",
       "R3/7tr/4BN0/1xzEknqCUHD8ALzaCmSAh1/mjczj0HdgzMzMwLiCzJtpbRnxPhzKWmYoK5cS3day\n",
       "MtHDr1oDxJJ6gYQp4kehu6fY6afPfuw0zrGR9MpRem1aqoWerJ5Eshgv3QP9PzxfwQTrs5Oi1DSW\n",
       "kuTimaYWsaVeICH6jmTVkl3Rt+dKioqnnIX7An+aZQX4HGHP436E05p2DR1L7MFdTPww9UCC53Ch\n",
       "KYgt1Y5yU7GwS9XZ5QahytmRdmJ1kjopCn5JrwFZzdI9wFia7sby6LhCdqEHBLQKQoz8X75uEazh\n",
       "tChYGQiKP9FH54+3mwqzH4FsKa9xDZiDtUWKGJPuusAoUpXBRRYuq64Bxk0ta21QNsaIJRW5Bs8e\n",
       "o+HNv2PVIT5zqPqI49ABnjUh5qrrbP0aqSFnZMMZWlLtXSGgiyQYoU1jaQ4q3f7a1CK2VBSsOELw\n",
       "Bkai+JaDJF5p1NkuXkfGWAydRaSMRC26W2Xe2WbkRzBdZqajnJ19+xROWJm8EcSWeoIwAyb5aDQt\n",
       "n8/lclVFUU+sK2hf8SraT7OS9tedo7ey9vBvGL7lnUtM/Bawv7PjTLVp+WJPbKlnHXGiIbpLx2Fu\n",
       "ESX+jePQ2ZLEFsypvnq3dGXVJz/JrynxdqIeUYsJSmQeI9jr4BUqYpDGVJeoSIN8CPXauknP0nFb\n",
       "/xbor9Hd8W2Z/RN2/5TEFgyvN7RLg/wDPOgGWTe7vpDLrfVFqCgBMrSBSAzyWBYLpgukyxQcjsgs\n",
       "FXXLrIopD/InFcu8C2RB5P9N7ji9lgG9btfsEW0nVnwDiS66QPTFm7bBsnbVshssnPIN5Ht3QUsK\n",
       "t5zjJZ9AjJobJCXchIfKPoFcgO5K3ynhsYTh00FNNAMl2wC576YdXb0/OXnyho6uJIzWFkhvvX61\n",
       "ARKROJeKZfwqaK5gHZd422hfACA7ZVRt9R9E6gjcrx8F3CDH5XR97jdI9Jicrk39cHRRINdoUfcS\n",
       "D9X/AQL4LRoGTRjYAAAAAElFTkSuQmCC\n",
       "\" style=\"display:inline;vertical-align:middle;\" /></a><br>"
      ],
      "text/plain": [
       "round_in_terms_of_ceil: forall_{x in Real} (round(x) = ceil(x - (1 / 2)))"
      ]
     },
     "execution_count": 33,
     "metadata": {},
     "output_type": "execute_result"
    }
   ],
   "source": [
    "round_in_terms_of_ceil = Forall(\n",
    "    x,\n",
    "    Equals(Round(x), Ceil(subtract(x, frac(one, two)))),\n",
    "    domain=Real)"
   ]
  },
  {
   "cell_type": "markdown",
   "metadata": {},
   "source": [
    "### Closure Theorems\n",
    "#### _Note: the identifications of Ceil(x), Floor(x), and Round(x) as Integer numbers appear as axioms in the axioms notebook._"
   ]
  },
  {
   "cell_type": "code",
   "execution_count": 34,
   "metadata": {},
   "outputs": [
    {
     "data": {
      "text/html": [
       "<strong id=\"round_real_pos_closure\"><a class=\"ProveItLink\" href=\"proofs/round_real_pos_closure/thm_proof.ipynb\">round_real_pos_closure</a> (conjecture without proof):<br></strong> <a class=\"ProveItLink\" href=\"../__pv_it/theorems/f4bc353965b71eb46f60e90e5a286000054f04b80/theorem_expr.ipynb\"><img src=\"data:image/png;base64,iVBORw0KGgoAAAANSUhEUgAAAM8AAAAVBAMAAAATCqclAAAAMFBMVEX///+IiIgiIiIQEBB2dnbu\n",
       "7u5ERETMzMzc3NwyMjK6urpmZmaYmJiqqqpUVFQAAAB6qHgnAAAAAXRSTlMAQObYZgAAAAlwSFlz\n",
       "AAAOxAAADsQBlSsOGwAAA15JREFUSMeNVW1IFFEUPbM7Mzv7pSMkVpJsYkVEsIW/ImLtwwoyhigp\n",
       "gnaM2r4olrIfEcWUv4KojQiCCiaqH0WRiVB+IOsPqYhwiYiiQI0UgwJDTImC7nsz7lc608LOvHfu\n",
       "nTnvnnveG+A/foZbguKSaOC/fkLGLWOBfb9dhG/7eUjDunGT4YMM+OT4mrezh3xXW+kajk0vKV0U\n",
       "PxoYhDTG8U42v+7EI6UcgqWs2l3Z6bWi8GdjCxDl+Fkmse5EFEw7BB9rdOnOTl8Vhb/rfgMRjvsp\n",
       "U3RsgtcpuJZdorlczZJwb/VSPhjtVVKMiPAQrdfv2KIPTsEbrEU5bf28+sAVzZ6PliTnMCKGr6yu\n",
       "rnUkaqee1yvtlFpXZUqVaZRogaqddU0k+ZeKP0xb8oJUNtzcQNpwb12Y5sEodNmMWPhTYP+/bxdz\n",
       "w5s0k9vFKM6bypQYjqKf5kOIG7hjyBN2GUFUqW1AKFXorVGclhZFLPwSlMEZHJAbLgcu+iO07IVA\n",
       "zZlgBF/xwKPjclJajSB7sYda/AL92jdSkbcrlUcUyryLWrisiWYew5vNPVcKiVYBJ0vZoseANZpX\n",
       "xQpocRMDGgEetoO89HwSHXxfjbELdaN6sU2E4ZKohYfVrBd8VQlTELEpVkzEXezVofygkTIJDIDq\n",
       "IiBu2kQgemYDVpGk51WEPVLExlO903BXkpwpoE8Vu9q6OvOkA8mPuApxikbCGGPBb4mAftjSITCF\n",
       "HbTqCAMi+UQ+VbfxBrady55VGvwAIaLy1oKKyF6oYYdAGt4YjkHW+1CL8IQYz+BrmM5LWYV0mAQi\n",
       "IUK8mLLsswfoX6HbeAt5QTBG/JlGvtdEpSldQLSVfPyLtW0QR4AenIjFSD0h9VxWw8tYHnk3PLk7\n",
       "GshYTicbZg+AW+y5lI2XkGAhNPnwkBMF9+mFZjhOunAx1ldSM/bUvR9K0lz6lpGGNl6qYK2l2RP1\n",
       "42umIm+XNHLPevTUuG6dlZ6c36aAl4lEIiMI4qPCfeRJun0llmRH561boN4+gopwtqqogmZekRC4\n",
       "qxUkhVrdiHJHafcsGVm8RUwFaUfxHmFD0ZsPuhHJ01/Q2T4DOTw4v64cCvPI/Xmx3R2FaY1uRNmN\n",
       "IxsuK7F/2xMJc6b1qG5M5+z73FnihP8FPVLORFg5vq8AAAAASUVORK5CYII=\n",
       "\" style=\"display:inline;vertical-align:middle;\" /></a><br>"
      ],
      "text/plain": [
       "round_real_pos_closure: forall_{x in RealPos} (round(x) in Natural)"
      ]
     },
     "execution_count": 34,
     "metadata": {},
     "output_type": "execute_result"
    }
   ],
   "source": [
    "round_real_pos_closure = Forall(x, InSet(Round(x), Natural), domain=RealPos)"
   ]
  },
  {
   "cell_type": "code",
   "execution_count": 35,
   "metadata": {},
   "outputs": [
    {
     "data": {
      "text/html": [
       "<strong id=\"ceil_real_pos_closure\"><a class=\"ProveItLink\" href=\"proofs/ceil_real_pos_closure/thm_proof.ipynb\">ceil_real_pos_closure</a> (conjecture without proof):<br></strong> <a class=\"ProveItLink\" href=\"../__pv_it/theorems/a4f724ea06140a562df306f196fa5576d167bf3d0/theorem_expr.ipynb\"><img src=\"data:image/png;base64,iVBORw0KGgoAAAANSUhEUgAAAKcAAAAZBAMAAACm+CPaAAAAMFBMVEX///+IiIgiIiIQEBB2dnbu\n",
       "7u5ERETMzMzc3NwyMjK6urpmZmaYmJiqqqpUVFQAAAB6qHgnAAAAAXRSTlMAQObYZgAAAAlwSFlz\n",
       "AAAOxAAADsQBlSsOGwAAAoNJREFUSMeVlU1oE0EUx/8TN8kmm4QtEkGFonvyZhTpoRfjQdBDYQkq\n",
       "SMGmfqwQPFRaPNqFngqi8VDwUDFIL4IfsYiaBkpEBAWLi4iXKgREvXgNFk++3ezO7CbpdvNgwgx5\n",
       "+5v/vDfvDRDBMjVEsjoNBRFtM6JfmYZcjuYbrwIPtYPdRVbTWmFQvIkGTRDlo1im68EtDxtLkI6P\n",
       "e9CYDrTtybdQ6ALCoEhYT4EprpQRcc2e3AuFvgiH5g5JLeyCYhhjxjVS3gFu7hzcfztAv5KoGFeK\n",
       "ZSBFIZCsMGayMxi6R9OqDvSWuuiHvqQ7SFlIhQplBwZCH+U9peZvVvRBd9M4qmnHQqG5qguNj/yc\n",
       "m/Cg8hL/30yg4oM+o7O/Aq70kyRfdssuVMGouupBU6aAJuulkldRwPwMcBtyux/qq7ZU24W+xyf9\n",
       "D4eKk5jYyF4S/neoqBO65C/tz6fX7wahsboLnUFDxHRWIyu70Jz+Q/hPES6r8k2To0aNSThVHKwU\n",
       "OCKg5/xK4+2STykdH1VerU1aMoZ3qtRcba71Q9NbOOtBY34oricEdN6O9oSdx5HX+01mdwqC5usB\n",
       "pTk3UfFKroCiB2UqT6Qt5Ybwt7OPBVLCzF8pyzkRk+TpVgDKCl1o9u9kIW3xe3qfn8QunYbwf+so\n",
       "oZ0ymE7isYNQLpeDiUq7FRV/rm5uiMt/oaJ3E/FgjH7PC/91Md0CPhiGYTEmPQneU4wPLtOVi90y\n",
       "7bVlUeAFGXOOUpZe0YfqUr0tvcNbplRV6MY6McXJnq9mh4JmeCkp+07kIV+1+8Te4mSjp/itYaAx\n",
       "M7g+Yxi1bd6o775WWAyFRnyj8AXRLeprGvnddwJJifkP1W2ia+oHCv4AAAAASUVORK5CYII=\n",
       "\" style=\"display:inline;vertical-align:middle;\" /></a><br>"
      ],
      "text/plain": [
       "ceil_real_pos_closure: forall_{x in RealPos} (ceil(x) in NaturalPos)"
      ]
     },
     "execution_count": 35,
     "metadata": {},
     "output_type": "execute_result"
    }
   ],
   "source": [
    "ceil_real_pos_closure = Forall(x, InSet(Ceil(x), NaturalPos), domain=RealPos)"
   ]
  },
  {
   "cell_type": "code",
   "execution_count": 36,
   "metadata": {},
   "outputs": [
    {
     "data": {
      "text/html": [
       "<strong id=\"floor_real_pos_closure\"><a class=\"ProveItLink\" href=\"proofs/floor_real_pos_closure/thm_proof.ipynb\">floor_real_pos_closure</a> (conjecture without proof):<br></strong> <a class=\"ProveItLink\" href=\"../__pv_it/theorems/26e4ec3b4baadeef71e42f717d8902e3e1a1c30e0/theorem_expr.ipynb\"><img src=\"data:image/png;base64,iVBORw0KGgoAAAANSUhEUgAAAJcAAAAVBAMAAAC5yWGZAAAAMFBMVEX///+IiIgiIiIQEBB2dnbu\n",
       "7u5ERETMzMzc3NwyMjK6urpmZmaYmJiqqqpUVFQAAAB6qHgnAAAAAXRSTlMAQObYZgAAAAlwSFlz\n",
       "AAAOxAAADsQBlSsOGwAAAk9JREFUOMuNlE1o1FAQx/9pk83nLlmw+AWlBBQ8CGvx5GlFFAUrQbSX\n",
       "gmRF4wcUFulFBFnsyYtsD4IHhQh6EBTWImi7ItuDoIgYRATRwyK07EGhUNAenZdNXpJtDDsQmPfe\n",
       "8MvM/Oc9YAhrQLKTq/8EDWWCD6PDV1orfXr6zxUbRza8h+R32caPXNgX5MEwq3UhrUOgkGW2vpfH\n",
       "kpr5sJ+Nk0AFuAvcpKXi5MH0Tj7st6M2MAF8AFRqrejnwUaRCRPOW/sCp7eiNBls1A7C1NyWfcuE\n",
       "aQuRwL1SfRuDqRQzaVkHc2EvQphUXp2b4rDbfFh6cAoewUTS8iVwcStBjN37IUzHuLnIYbFmPdyQ\n",
       "9hDMIKHuQOlmdD1294ewd/hk/+KwZgJm+F9JzSJ9BVv0EpTPJ94spGGHQlgdS3HPZOqOtTeEYbVE\n",
       "IHmdgCbvvzzueoKI49VMGHAghklOIjOck6hMrcISXom223VSXMBbU2wvtpcHy4S2ibO8zIkkTDaJ\n",
       "XWRbUzS6KL/a3WAXgsHGWqnMan2YdJVqqXJYmZ9fom87wQyW7Dz1X2isqf50MIuiUuukYKf6sOLf\n",
       "mYrmc5jKB/0BazHpodOfUKLiDNRkPA1g+gUnLcC1MLPn5veP8dBKa4/7x9c3nP79HYl13ATeu67r\n",
       "C4L4LD1nI/XM66QdC69TZLe4J1cUzAWZCdojOxVktPIvemSvI2debOo0cUHPcHQg/PJQsPjp0Xcd\n",
       "HoPCdHmyszqzlA6bHgpWGHi3z7iul/VPE8VJywz8ohU6W2wH8A/GZZS0Fugu7QAAAABJRU5ErkJg\n",
       "gg==\n",
       "\" style=\"display:inline;vertical-align:middle;\" /></a><br>"
      ],
      "text/plain": [
       "floor_real_pos_closure: forall_{x in RealPos} (floor(x) in Natural)"
      ]
     },
     "execution_count": 36,
     "metadata": {},
     "output_type": "execute_result"
    }
   ],
   "source": [
    "floor_real_pos_closure = Forall(x, InSet(Floor(x), Natural), domain=RealPos)"
   ]
  },
  {
   "cell_type": "code",
   "execution_count": 37,
   "metadata": {},
   "outputs": [
    {
     "data": {
      "text/html": [
       "<strong id=\"ceil_of_real_is_real\"><a class=\"ProveItLink\" href=\"proofs/ceil_of_real_is_real/thm_proof.ipynb\">ceil_of_real_is_real</a> (conjecture with conjecture-based proof):<br></strong> <a class=\"ProveItLink\" href=\"../__pv_it/theorems/ae4ebcf82d0f21bc6f8794677c08185b4a1aab890/theorem_expr.ipynb\"><img src=\"data:image/png;base64,iVBORw0KGgoAAAANSUhEUgAAAIsAAAAVBAMAAACEWwD/AAAAMFBMVEX///+IiIgiIiIQEBB2dnbu\n",
       "7u5ERETMzMzc3NwyMjK6urpmZmaYmJiqqqpUVFQAAAB6qHgnAAAAAXRSTlMAQObYZgAAAAlwSFlz\n",
       "AAAOxAAADsQBlSsOGwAAAjxJREFUOMuNlE1oE0EUx//TbrKfCZtDwA8oZQ+CoBBEevBUQUUPygoa\n",
       "kXrYiK7Fi0GqR1maIpRCSQuFHgQj6EG0GlCoH0XiQUH0sBQvBcGK0LMIgkffrDuTbdhNOofdmTdv\n",
       "f/vm/94boO8IYDiO/X++7hzIchowWAir010+2b77aezG4hhtP6D5Jjd8y8B8RT8MvHk8++iCkcsb\n",
       "vl5Op+SaAzAzyKsUxxJwh5aal44xOwMxZkC/+gzoLqCE6ZhhpGLYZWd/F0MhDLuRm54hzUYqxlhw\n",
       "u9EUz9OhdPI55DiHMzAvBebsyIVjocDMuolD3d6gdCuEWgWuZmDuCUyb/TBHBaabD6+x+LvMfUif\n",
       "eWibiU/XT71bEPODMcYKrD/FjsA0ExJ/ucjfhQqQd5VWbFZH/BZTcHI8Xh+JMSrMptRGJRWcfTEm\n",
       "f4kHq/4ilC0VflunNDB8sHswlAtbYnJeIhq1zQUxKjzI9/Qovdob8GrkmHK751DA8yDnikONJutm\n",
       "9S4/FDedpiJkwZYeVqOiULSayHEtxlRbP6HIhJeSmCr/t8UDbJDCFmoqnkYY84qM+kyM+X7rBVYk\n",
       "RpfF6s3R9nWqdi5msc5Nf6ljfd8PGVNWhNvNGDNRKqyFEpPbeiQ7fBL+/RBDIkdQKxqmomiY8VDU\n",
       "11A9tRmME3EziDEtJg2laVLqI21wXEhstfu3phhrspf3HC1Du0azx7vHJ14L8+SOML0XxDnfb20z\n",
       "VHeEyQ+6RTUbhcQlMpXutQv4B9VMlzKosZbMAAAAAElFTkSuQmCC\n",
       "\" style=\"display:inline;vertical-align:middle;\" /></a><br>"
      ],
      "text/plain": [
       "ceil_of_real_is_real: forall_{x in Real} (ceil(x) in Real)"
      ]
     },
     "execution_count": 37,
     "metadata": {},
     "output_type": "execute_result"
    }
   ],
   "source": [
    "ceil_of_real_is_real = Forall(x, InSet(Ceil(x), Real), domain=Real)"
   ]
  },
  {
   "cell_type": "code",
   "execution_count": 38,
   "metadata": {},
   "outputs": [
    {
     "data": {
      "text/html": [
       "<strong id=\"floor_of_real_is_real\"><a class=\"ProveItLink\" href=\"proofs/floor_of_real_is_real/thm_proof.ipynb\">floor_of_real_is_real</a> (conjecture with conjecture-based proof):<br></strong> <a class=\"ProveItLink\" href=\"../__pv_it/theorems/5977e69507d48399e5e42d881614c07b9eec2fa10/theorem_expr.ipynb\"><img src=\"data:image/png;base64,iVBORw0KGgoAAAANSUhEUgAAAIsAAAAVBAMAAACEWwD/AAAAMFBMVEX///+IiIgiIiIQEBB2dnbu\n",
       "7u5ERETMzMzc3NwyMjK6urpmZmaYmJiqqqpUVFQAAAB6qHgnAAAAAXRSTlMAQObYZgAAAAlwSFlz\n",
       "AAAOxAAADsQBlSsOGwAAAj1JREFUOMuNlE1oE0EUx//TbrK72U1IDgE/oNQ9CB6EUKSHniqo6EFZ\n",
       "QSNSDxvRtXgxiHqUpRFBhJIWBA+CEfQgWg0o1I8i8aAgeliKl4JgRehZBMGjb9aZ2W3YTTqHZObN\n",
       "29++93/vLTBwBci58cnIchqyWAi7Fx+fbL79NHlpcZKuH9B+nRu+ZWC+YhAG3jyefXTByOUNP99N\n",
       "p+TaQzA3kNcpjjvAdZ6zl46xekMxVkCv+gyYJKEWpmNGkYphZ509MYZCGHUjNzNDmrVUTGHBjaMp\n",
       "naSkTPKZcJx9GZiXEnN87NSBUGJuuYmkrq1RuTVCLQPnMzD3JKbLfljjEhPXw2st/q5yH9JnHsZ6\n",
       "4tHVI+8W5H6vwNiB/afUk5h2QuIvp/l/sQbkXa0jzPqY32EaDk+L85TA6LDaShudVHB2C0z+DA9W\n",
       "/0WoslL4bZPKwPCh3IehWpQVJuclotG7XJBCjQf5nn4qr3YGvBs5ptrtSwp4HvDZ+p/UeLJvlm/y\n",
       "pLjpKDUhCzbMsB41hWY0ZI0bAlPv/ISmCl5JYur83TYPsEUK22joeBphrHMq6mMC8/3qCywpjKma\n",
       "1btN1xep27mYpSY3/aWJ9X0/ZExbkm6XBWamUlwJFSa38UhN+Cz8+yFGZI2g1wxciaJhhYeyv0aa\n",
       "qcNQOCSGQa45uWlpbYtKH2mDg1Jiuzt4NOVaUbO8Y38VxgXaPd4+PfNamme3hOn/QJzw/c4mQ31L\n",
       "mPywr6hRRnHCEd246uxK99oG/AN04pZGEyxLkQAAAABJRU5ErkJggg==\n",
       "\" style=\"display:inline;vertical-align:middle;\" /></a><br>"
      ],
      "text/plain": [
       "floor_of_real_is_real: forall_{x in Real} (floor(x) in Real)"
      ]
     },
     "execution_count": 38,
     "metadata": {},
     "output_type": "execute_result"
    }
   ],
   "source": [
    "floor_of_real_is_real = Forall(x, InSet(Floor(x), Real), domain=Real)"
   ]
  },
  {
   "cell_type": "code",
   "execution_count": 39,
   "metadata": {},
   "outputs": [
    {
     "data": {
      "text/html": [
       "<strong id=\"round_of_real_is_real\"><a class=\"ProveItLink\" href=\"proofs/round_of_real_is_real/thm_proof.ipynb\">round_of_real_is_real</a> (conjecture with conjecture-based proof):<br></strong> <a class=\"ProveItLink\" href=\"../__pv_it/theorems/f5fd0a78f233dc3489c0c0942e7f1179167418c70/theorem_expr.ipynb\"><img src=\"data:image/png;base64,iVBORw0KGgoAAAANSUhEUgAAAMMAAAAVBAMAAAAJNkerAAAAMFBMVEX///+IiIgiIiIQEBB2dnbu\n",
       "7u5ERETMzMzc3NwyMjK6urpmZmaYmJiqqqpUVFQAAAB6qHgnAAAAAXRSTlMAQObYZgAAAAlwSFlz\n",
       "AAAOxAAADsQBlSsOGwAAA0JJREFUSMeFVUtoE1EUPdPMTCeZpJ0uatViqKHgQoQopQsRScXvojIL\n",
       "W5RKMxUbSwUNtrpTohU3So2KIKgYsRvFT5VC/ZQSF/WDSoO4sCg0BRUKLqpQDKLgfS8zkzR2Mm/x\n",
       "Zt7JnXvuPffeF6DsSsBlKS6Grg6EjJvFCvN5swR/3Xz4YnM6j2cZ8NnBwQdn35WXhmkPRKxg0iW/\n",
       "G4O4/0Ln+FN2vrK4GylZJv5qluEe+3i5lOI05Mosx08wQY3FvajpMhQPdNrG7OOb/ynURJLjXrIU\n",
       "HST3lKvCJraFC7Z6/rkkFEraFAbH/RSp18HLVDmKq6wUBSW9+Yxv1xayqGrL5vF1oVCTg5cRqupW\n",
       "ZYSMWoIpqT6NKt0X3N3SRdJ+qfvLlKRqSzVf+1tJCd43yuUioY5NJfL4KNDtQHGNLOQRMYxTKSUn\n",
       "BsKYpPMMogncSsjzZugqgtojwM8T8tpzYAxc/MkyYvgglGyR2/c7xi9Y72uAc94GCnUl0HhcbcAs\n",
       "7lQYOB+XNkBlLiuoiK8wqX8nzXhZvEXlfsvbjeGyLqasXg/GUoKI7VazrweOVrNA54CNukfDWujR\n",
       "FKZ1AiqYkYe+jOMJ/3aO7X0hWkaeQt6bNvGAZlM/i9MMCZjQChS8Nz0GlB/0pvwCpkG5EBBNmRQg\n",
       "Ylo+nkV7URaVw90WnnxOW83j+gSfUKKoHS4IBZIZUQ1ijt6EOeYffyQCJmEKBV8ObRRpAweK52L0\n",
       "DEy8lbpASHzzZngIgqh0WRNHrYNGNshpeCI4BNmYQBMC82I0g9kAVVbWIPVWhUGi+bk8glZE0c5i\n",
       "5vgAVduPrkrc5UbqfnvWd1IX/ma9mcVBYBx9kQhpJSRfylpgtQrekYFfHWFfJt+/tK7bFGdp5HpN\n",
       "vCrOoBzdjrFYLCMI4j3L7AipwPPfXE+id7Z8nInTWfqekWa2DdaxWtLpofbpHZMo3zOdvbp10/Yg\n",
       "diNj4cw4rKCfZyH4hsy7ABVxt7t8lf12ynwO7QstuDwtHANiUqX25bXAFqvc/mE3isLlN+ZgYePq\n",
       "8pZaKAfYJbMs0vHEgnvcKGRrmp0u61J8VyyWWgC0u1FIRimXUwyO/8yaG8dJ87nU4XfC/wG5Hs/0\n",
       "aSUt4wAAAABJRU5ErkJggg==\n",
       "\" style=\"display:inline;vertical-align:middle;\" /></a><br>"
      ],
      "text/plain": [
       "round_of_real_is_real: forall_{x in Real} (round(x) in Real)"
      ]
     },
     "execution_count": 39,
     "metadata": {},
     "output_type": "execute_result"
    }
   ],
   "source": [
    "round_of_real_is_real = Forall(x, InSet(Round(x), Real), domain=Real)"
   ]
  },
  {
   "cell_type": "code",
   "execution_count": 40,
   "metadata": {},
   "outputs": [
    {
     "name": "stdout",
     "output_type": "stream",
     "text": [
      "Adding theorem floor_increasing_less to proveit.numbers.rounding theory\n",
      "Adding theorem floor_increasing_less_eq to proveit.numbers.rounding theory\n",
      "floor_increasing_less expression notebook is being updated\n",
      "floor_increasing_less_eq expression notebook is being updated\n",
      "These theorems may now be imported from the theory package: proveit.numbers.rounding\n"
     ]
    }
   ],
   "source": [
    "%end theorems"
   ]
  }
 ],
 "metadata": {
  "kernelspec": {
   "display_name": "Python 3",
   "language": "python",
   "name": "python3"
  },
  "language_info": {
   "codemirror_mode": {
    "name": "ipython",
    "version": 3
   },
   "file_extension": ".py",
   "mimetype": "text/x-python",
   "name": "python",
   "nbconvert_exporter": "python",
   "pygments_lexer": "ipython3",
   "version": "3.7.3"
  }
 },
 "nbformat": 4,
 "nbformat_minor": 1
}
