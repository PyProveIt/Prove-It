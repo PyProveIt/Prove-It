{
 "cells": [
  {
   "cell_type": "markdown",
   "metadata": {},
   "source": [
    "Demonstrations for the theory of <a class=\"ProveItLink\" href=\"theory.ipynb\">proveit.numbers.rounding</a>\n",
    "========"
   ]
  },
  {
   "cell_type": "code",
   "execution_count": 1,
   "metadata": {},
   "outputs": [],
   "source": [
    "import proveit\n",
    "from proveit import used_vars, free_vars\n",
    "from proveit import n, x, y\n",
    "from proveit.logic import InSet\n",
    "from proveit.numbers import Add, Mult, subtract\n",
    "from proveit.numbers import zero, one, two, three, Integer, Natural, Real, RealPos, Complex\n",
    "from proveit.numbers.rounding import Ceil, Floor, Round\n",
    "%begin demonstrations"
   ]
  },
  {
   "cell_type": "markdown",
   "metadata": {},
   "source": [
    "# Rounding: $\\textit{round}(x), \\lceil{x}\\rceil, \\lfloor{x}\\rfloor$"
   ]
  },
  {
   "cell_type": "markdown",
   "metadata": {},
   "source": [
    "<div style=\"line-height:1.4; font-size:14pt\">\n",
    "\n",
    "<a href='#introduction'>Introduction</a><br>\n",
    "<a href='#simple_expressions'>Simple Expressions involving Rounding: $\\text{Round}(x)$, $\\lfloor{x}\\rfloor$, $\\lceil{x}\\rceil$</a><br>\n",
    "<a href='#common_attributes'>Common Attributes of the Floor Expression $\\lfloor{x}\\rfloor$ </a><br>\n",
    "<a href='#axioms'>Axioms</a><br>\n",
    "<a href='#theorems'>Theorems</a><br>\n",
    "<a href='#further_demonstrations'>Further Demonstrations</a><br>\n",
    "    <ol>\n",
    "        <li><a href='#demo01'>Simplifying $\\text{Round}((x+y)+(1+2))$</a></li>\n",
    "        <li><a href='#demo02'>Simplification and deductions involving $\\text{Floor}(\\alpha, \\beta) = \\lfloor \\alpha + \\beta \\rfloor$</a></li>\n",
    "        <li><a href='#demo03'>Proving $\\forall_{x\\in\\mathbb{R}}(\\lceil x \\rceil + \\lfloor -x \\rfloor = 0)$ from the theorem $\\forall_{x\\in\\mathbb{R}}(\\lfloor x \\rfloor + \\lceil -x \\rceil = 0)$</a></li>\n",
    "    </ol>\n",
    "</div>"
   ]
  },
  {
   "cell_type": "markdown",
   "metadata": {},
   "source": [
    "<a id='introduction'></a>\n",
    "## Introduction "
   ]
  },
  {
   "cell_type": "markdown",
   "metadata": {},
   "source": [
    "<font size=4>The `Round`, `Ceil`, and `Floor` classes allow us to represent standard rounding functions that take arbitrary real numbers to nearby integers in the usual way: $\\text{Round}(x) = z$ represents the rounding of a real number $x$ to the nearest integer $z$; $\\text{Ceil}(x) = \\lceil{x}\\rceil = z$ represents the rounding of a real number x to the smallest integer $z$ that is greater than or equal to $x$; and $\\text{Floor}(x) = \\lfloor{x}\\rfloor = z$ represents the rounding of a real number x to the largest integer $z$ that is less than or equal to $x$. This ``_demonstrations_`` notebook explores the `Round`, `Ceil`, and `Floor` classes, their axioms and common theorems, and related methods.</font>"
   ]
  },
  {
   "cell_type": "markdown",
   "metadata": {},
   "source": [
    "<a id='simple_expressions'></a>\n",
    "## Simple Expressions Involving Rounding: $\\text{Round}(x)$, $\\text{Ceil}(x) = \\lceil{x}\\rceil$, $\\text{Floor}(x) = \\lfloor{x}\\rfloor$"
   ]
  },
  {
   "cell_type": "markdown",
   "metadata": {},
   "source": [
    "<font size=4>It is straightforward to construct expressions to represent the various types of rounding operations on real numbers. Here are some basic examples of such expressions:</font>"
   ]
  },
  {
   "cell_type": "code",
   "execution_count": 2,
   "metadata": {},
   "outputs": [
    {
     "data": {
      "text/html": [
       "<a class=\"ProveItLink\" href=\"../__pv_it/demonstrations/53c17575b742ba698ad41e0baf6cc4dd395328730/expr.ipynb\"><img src=\"data:image/png;base64,iVBORw0KGgoAAAANSUhEUgAAAFUAAAAVBAMAAADFg78FAAAAMFBMVEX///+qqqpUVFSIiIi6urru\n",
       "7u4iIiIyMjIQEBCYmJhmZmbc3NxERER2dnbMzMwAAADprbYgAAAAAXRSTlMAQObYZgAAAAlwSFlz\n",
       "AAAOxAAADsQBlSsOGwAAAaxJREFUKM+FUztIw1AUPWmTNs2nzaxDC0VKByHWrUIJ6OBmEETQoQU3\n",
       "QekiiFPQyUGog4uCFQWlQ6EoFJwM6uRUKTip1EFwESraQQrF+9oYwSG5w333PM5977yTG8AnZGet\n",
       "wT/GnHXSixRdP6LMNRwYLHmRYxqleReueXFnTEoVF+57cR9Yslwomh7cDSa36MJwCdFHuUqymxlD\n",
       "yJYQMPnMYvOGrBrNfRBBoqcJ4yPv94CagKpUVQt1Q+6qnIUy4STyNUzXlM7gMEjI6KdApIjLcIGa\n",
       "l4CVF6mAFKZCNq5awjYkdn2IvDhA2UyTHAuvMdbaBjZNUccWzLyBuEkbIeasaAAtnPX9bg+sEW3I\n",
       "n1TJPSAOOp02qGfABZ1AwZMlJAV5HWqXqmCbEfEt0EYZjgbwXcyRhgLpZJ+oBLGBayj2HnbAddS8\n",
       "hhRH46LoEG4DFkhPhO7+YtYkcAcc463RIBnB4qGic8sS+kZxvQWL1/r28QV211OWhM02h5MtwkJa\n",
       "E5LP5zn2IEIn+tAuk2P4jeSqW9V9x/dvYiq+XOX3f5BtX65g/2/yiAtnnQB+ACGUZh8Za1C4AAAA\n",
       "AElFTkSuQmCC\n",
       "\" style=\"display:inline;vertical-align:middle;\" /></a>"
      ],
      "text/plain": [
       "round(x)"
      ]
     },
     "metadata": {},
     "output_type": "display_data"
    }
   ],
   "source": [
    "# representing basic rounding of a real number x\n",
    "Round(x)"
   ]
  },
  {
   "cell_type": "code",
   "execution_count": 3,
   "metadata": {},
   "outputs": [
    {
     "data": {
      "text/html": [
       "<a class=\"ProveItLink\" href=\"../__pv_it/demonstrations/9fca7d90e363598e28f4c08e458cbdb5859ab8a70/expr.ipynb\"><img src=\"data:image/png;base64,iVBORw0KGgoAAAANSUhEUgAAAD0AAAAVBAMAAAAHs/uBAAAAMFBMVEX///9EREQQEBAyMjLc3Nxm\n",
       "ZmZ2dnbMzMxUVFTu7u6qqqqYmJiIiIgiIiK6uroAAAAc1BPlAAAAAXRSTlMAQObYZgAAAAlwSFlz\n",
       "AAAOxAAADsQBlSsOGwAAAL9JREFUKM9jeHv3DgMOwHX37gaG3Qx4AF8AteVfE5BfQ44855nOsiwU\n",
       "ec6jGxhmwOVZGU4ciEWRZ+NSYNgPl9/CsH9CN4p8FesFhka4fAFDMFg09u5dpbt3bwBZE5gOMOgg\n",
       "uU8H3X3vJ7B/R8jzfWGYiSofzMCjAJPnlONQYEhAlZdgYGyAyXN9n6rAtwBVPoLh/Qa4/pgDS3eh\n",
       "2T8jJ94Bf/gl44sfNgNOLXzxy3uAIwGfPNeeOGj8rMKXPtgTAKM3SIqQ6/CFAAAAAElFTkSuQmCC\n",
       "\" style=\"display:inline;vertical-align:middle;\" /></a>"
      ],
      "text/plain": [
       "ceil(x + y)"
      ]
     },
     "metadata": {},
     "output_type": "display_data"
    }
   ],
   "source": [
    "# representing the ceiling of a real sum\n",
    "Ceil(Add(x, y))"
   ]
  },
  {
   "cell_type": "code",
   "execution_count": 4,
   "metadata": {},
   "outputs": [
    {
     "data": {
      "text/html": [
       "<a class=\"ProveItLink\" href=\"../__pv_it/demonstrations/6a65e0c5fae6e2dd4bee9fee003ca09d3eb4ccb50/expr.ipynb\"><img src=\"data:image/png;base64,iVBORw0KGgoAAAANSUhEUgAAAD0AAAAVBAMAAAAHs/uBAAAAMFBMVEX///9ERES6uroyMjLc3Nxm\n",
       "ZmZ2dnbMzMxUVFSIiIgiIiIQEBCqqqqYmJju7u4AAAC1Kov9AAAAAXRSTlMAQObYZgAAAAlwSFlz\n",
       "AAAOxAAADsQBlSsOGwAAALRJREFUKM9jeMeADzgw3MUnzRQwJOT5ZvaV5aBI8E29wPACLs/KMGNC\n",
       "FIo8G88Ghvtw+SsM9x/0osjXsC5gaITLFzAEg0UfrwKB5UDWA+4JDDuR3LcT3WX6D9i/I+SZvjCg\n",
       "xUMwA+cGmDyfEMcGhgRUeQkGxgaYPM/3pxuYDqDKRzDoX4Drj5xw9A6a/S8y4x3wh18yvvBlM+Db\n",
       "g0+eawJHAj55nptB0Pg5vWolLhfwrFo1AQAwd0RFUlNL5AAAAABJRU5ErkJggg==\n",
       "\" style=\"display:inline;vertical-align:middle;\" /></a>"
      ],
      "text/plain": [
       "floor(x - y)"
      ]
     },
     "metadata": {},
     "output_type": "display_data"
    }
   ],
   "source": [
    "# representing the floor of a real difference\n",
    "Floor(subtract(x, y))"
   ]
  },
  {
   "cell_type": "markdown",
   "metadata": {},
   "source": [
    "<a id='common_attributes'></a>\n",
    "## Common Attributes of a Floor expression $\\lfloor{x}\\rfloor$"
   ]
  },
  {
   "cell_type": "markdown",
   "metadata": {},
   "source": [
    "<font size=4>Let's define a simple example `Floor()` expression, $\\lfloor{x-y}\\rfloor$, and look at some of its attributes.</font>"
   ]
  },
  {
   "cell_type": "code",
   "execution_count": 5,
   "metadata": {},
   "outputs": [
    {
     "data": {
      "text/html": [
       "<strong id=\"floor_x_minus_y\">floor_x_minus_y:</strong> <a class=\"ProveItLink\" href=\"../__pv_it/demonstrations/6a65e0c5fae6e2dd4bee9fee003ca09d3eb4ccb50/expr.ipynb\"><img src=\"data:image/png;base64,iVBORw0KGgoAAAANSUhEUgAAAD0AAAAVBAMAAAAHs/uBAAAAMFBMVEX///9ERES6uroyMjLc3Nxm\n",
       "ZmZ2dnbMzMxUVFSIiIgiIiIQEBCqqqqYmJju7u4AAAC1Kov9AAAAAXRSTlMAQObYZgAAAAlwSFlz\n",
       "AAAOxAAADsQBlSsOGwAAALRJREFUKM9jeMeADzgw3MUnzRQwJOT5ZvaV5aBI8E29wPACLs/KMGNC\n",
       "FIo8G88Ghvtw+SsM9x/0osjXsC5gaITLFzAEg0UfrwKB5UDWA+4JDDuR3LcT3WX6D9i/I+SZvjCg\n",
       "xUMwA+cGmDyfEMcGhgRUeQkGxgaYPM/3pxuYDqDKRzDoX4Drj5xw9A6a/S8y4x3wh18yvvBlM+Db\n",
       "g0+eawJHAj55nptB0Pg5vWolLhfwrFo1AQAwd0RFUlNL5AAAAABJRU5ErkJggg==\n",
       "\" style=\"display:inline;vertical-align:middle;\" /></a><br>"
      ],
      "text/plain": [
       "<IPython.core.display.HTML object>"
      ]
     },
     "metadata": {},
     "output_type": "display_data"
    }
   ],
   "source": [
    "floor_x_minus_y = Floor(subtract(x,y))"
   ]
  },
  {
   "cell_type": "code",
   "execution_count": 6,
   "metadata": {},
   "outputs": [
    {
     "data": {
      "text/html": [
       "<table><tr><th>&nbsp;</th><th>core type</th><th>sub-expressions</th><th>expression</th></tr>\n",
       "<tr><td>0</td><td>Operation</td><td>operator:&nbsp;1<br>operand:&nbsp;3<br></td><td><a class=\"ProveItLink\" href=\"../__pv_it/demonstrations/6a65e0c5fae6e2dd4bee9fee003ca09d3eb4ccb50/expr.ipynb\"><img src=\"data:image/png;base64,iVBORw0KGgoAAAANSUhEUgAAAD0AAAAVBAMAAAAHs/uBAAAAMFBMVEX///9ERES6uroyMjLc3Nxm\n",
       "ZmZ2dnbMzMxUVFSIiIgiIiIQEBCqqqqYmJju7u4AAAC1Kov9AAAAAXRSTlMAQObYZgAAAAlwSFlz\n",
       "AAAOxAAADsQBlSsOGwAAALRJREFUKM9jeMeADzgw3MUnzRQwJOT5ZvaV5aBI8E29wPACLs/KMGNC\n",
       "FIo8G88Ghvtw+SsM9x/0osjXsC5gaITLFzAEg0UfrwKB5UDWA+4JDDuR3LcT3WX6D9i/I+SZvjCg\n",
       "xUMwA+cGmDyfEMcGhgRUeQkGxgaYPM/3pxuYDqDKRzDoX4Drj5xw9A6a/S8y4x3wh18yvvBlM+Db\n",
       "g0+eawJHAj55nptB0Pg5vWolLhfwrFo1AQAwd0RFUlNL5AAAAABJRU5ErkJggg==\n",
       "\" style=\"display:inline;vertical-align:middle;\" /></a></td></tr>\n",
       "<tr><td>1</td><td>Literal</td><td></td><td><a class=\"ProveItLink\" href=\"../__pv_it/common/6c084083358c4fee8d4be9f66e84060cea5608e90/expr.ipynb\"><img src=\"data:image/png;base64,iVBORw0KGgoAAAANSUhEUgAAADAAAAASBAMAAADvSECJAAAAMFBMVEX///8yMjLc3NyIiIiYmJgi\n",
       "IiJERES6urqqqqoQEBDMzMxUVFTu7u52dnZmZmYAAAD1zdHuAAAAAXRSTlMAQObYZgAAAAlwSFlz\n",
       "AAAOxAAADsQBlSsOGwAAAOFJREFUGNNjYGBg4Lt7gOHqLwZMcHtlAwPLBywSM8oOMPAJYIqz/wES\n",
       "rAaYErwBQEJ/AYY4y87oBwwM/kDWZesCMMF1jemtA5DPDzJlGwODagHTJzDBy/aWdwLMlMkMDMEM\n",
       "DLFgQoUxgO8CUKwfiLk+MfABHTwbTKzhdwBbchWImScwcCYwMH0GEwz1B8AS2UDMtuHAeQMG3k9g\n",
       "guEpxFmTQQ5wuADUzwkhgFaBANN3kESNAd8GhjwGMAEWYWDgAIUSy1sGhrt2BRCCPQAsAVSEFXQz\n",
       "NmCXCDuIXZzB+RF2cQDdWUBr+VcssAAAAABJRU5ErkJggg==\n",
       "\" style=\"display:inline;vertical-align:middle;\" /></a></td></tr>\n",
       "<tr><td>2</td><td>ExprTuple</td><td>3</td><td><a class=\"ProveItLink\" href=\"../__pv_it/demonstrations/b741be9ebbefd1392b909b95fe8902fdafb303540/expr.ipynb\"><img src=\"data:image/png;base64,iVBORw0KGgoAAAANSUhEUgAAADwAAAAVBAMAAADocZC/AAAAMFBMVEX////MzMxUVFRERES6uroi\n",
       "IiIQEBCYmJhmZmYyMjLu7u52dnaqqqqIiIjc3NwAAACW8nlqAAAAAXRSTlMAQObYZgAAAAlwSFlz\n",
       "AAAOxAAADsQBlSsOGwAAAQ9JREFUKM9jYGB4wIAD8IEI3gO4pFkuAInTDDjBdQYGrgm4pTkXMHAU\n",
       "4JZmb2BgY8ADshhO4pOeztANJNdeWrgb1f1r2xm4FBgYNgEVMDA08OpyBKBIbzjGwP6BgaGSIQbo\n",
       "ggfsv5hQXMh4oJWByYCB4RhDCpDDwAH2HdfUUBAQALIYchnYgIEiD5JmADNRA+wXgzxQmRvIcAYG\n",
       "/wdcC1CkgcZdA1JHGWwZGBY7qDFwo+pmVmAwAlLFQLcznJdqY/BBleZQYPkOpLoZRBkYVtzlaUeL\n",
       "Ni7tG/+AVAgDqwD2AOMGeoYvABTsWMBOhmVA80DRZYdNOpZBG0g+BuLF2KSP33BggOjku4Arvngf\n",
       "MAAA3885swt/LKIAAAAASUVORK5CYII=\n",
       "\" style=\"display:inline;vertical-align:middle;\" /></a></td></tr>\n",
       "<tr><td>3</td><td>Operation</td><td>operator:&nbsp;4<br>operands:&nbsp;5<br></td><td><a class=\"ProveItLink\" href=\"../__pv_it/demonstrations/d53880254fcf8f27e725a455efc285f171faad850/expr.ipynb\"><img src=\"data:image/png;base64,iVBORw0KGgoAAAANSUhEUgAAADAAAAANBAMAAAAdyPDHAAAAMFBMVEX///9ERES6uroQEBAyMjLc\n",
       "3NyYmJgiIiJmZmaqqqp2dnbMzMxUVFSIiIju7u4AAAAd7oVFAAAAAXRSTlMAQObYZgAAAAlwSFlz\n",
       "AAAOxAAADsQBlSsOGwAAAJ9JREFUGNNjYHh75/WqCQzI4G0bA98BBoYG3rMcBSgSCyYzsH1gYAtg\n",
       "+8eTgCzOPaGdgUeAgZuBwwHE5XMvB4ENQBaDLQPzBaAQmEAGTP8Y9gMVMOgH8D1AkQAacZmB4aHC\n",
       "YQYuVB2MBxhkGBjm72tm0ESV4DjA9I2B4cVdzjZUbzDwnbrxlQE74HLAKryE4fEErBK1DKewGzTt\n",
       "hgIDAwD7zij1v91mjAAAAABJRU5ErkJggg==\n",
       "\" style=\"display:inline;vertical-align:middle;\" /></a></td></tr>\n",
       "<tr><td>4</td><td>Literal</td><td></td><td><a class=\"ProveItLink\" href=\"../../addition/__pv_it/common/4b7effaab3619a1c2c38fe2dee8601df8ec714590/expr.ipynb\"><img src=\"data:image/png;base64,iVBORw0KGgoAAAANSUhEUgAAAA4AAAAOBAMAAADtZjDiAAAAHlBMVEX///9UVFQQEBAiIiJmZmaI\n",
       "iIiqqqqYmJi6uroAAAAAFVhYAAAAAXRSTlMAQObYZgAAAAlwSFlzAAAOxAAADsQBlSsOGwAAAB9J\n",
       "REFUCNdjYGBgaGeAgFRiaGdjYyVjY0Oi1SPRIHsAgDEGyG9xCpgAAAAASUVORK5CYII=\n",
       "\" style=\"display:inline;vertical-align:middle;\" /></a></td></tr>\n",
       "<tr><td>5</td><td>ExprTuple</td><td>6, 7</td><td><a class=\"ProveItLink\" href=\"../__pv_it/demonstrations/2b2b8ed3e540d542604db8f9dfc894166db266d70/expr.ipynb\"><img src=\"data:image/png;base64,iVBORw0KGgoAAAANSUhEUgAAADwAAAAVBAMAAADocZC/AAAAMFBMVEX////MzMxUVFRERES6uroi\n",
       "IiIQEBCYmJhmZmYyMjLu7u52dnaqqqqIiIjc3NwAAACW8nlqAAAAAXRSTlMAQObYZgAAAAlwSFlz\n",
       "AAAOxAAADsQBlSsOGwAAAR5JREFUKM9jYGB4wIAD8IEI3gO4pFkuAInTDDjBdQYGrgm4pTkXMHAU\n",
       "4JZmb2BgY8ADshhO4pOeztANJNdeWrgb1f1r2xm4FBgYNgEVMDA08OpyBKBIbzjGwP6BgaGSIQbo\n",
       "ggfsv5hQXMh4oJWByYCB4RhDCpDDwAHz3cpQEAjkYshlYAMGijxImgHMRA2wXwzyAgwMbiDDGRj8\n",
       "H3AtQJEGGncNSB1lsGVgWOygxsDNwICsgFmBwQhIFQPdznBeqo3Bh4HrJ7JuBZbvQKqbQZSBYcVd\n",
       "nnagt0ORtHNp3/gHpEIYWAVgQjwo1nMDPcMXAAp2mACS5E6GZUDzQNFlBw9IJOlYBm0g+RiIF8OE\n",
       "kP1+/IYDA0Qn3wVc8cX7gAEACpE+ylUywdEAAAAASUVORK5CYII=\n",
       "\" style=\"display:inline;vertical-align:middle;\" /></a></td></tr>\n",
       "<tr><td>6</td><td>Variable</td><td></td><td><a class=\"ProveItLink\" href=\"../../../__pv_it/common/a0d9d672aa5e272d907247690c152cc2c6daafb70/expr.ipynb\"><img src=\"data:image/png;base64,iVBORw0KGgoAAAANSUhEUgAAAAsAAAAJBAMAAAAWSsseAAAAMFBMVEX///9ERES6uroQEBAyMjLc\n",
       "3NyYmJgiIiJmZmaqqqp2dnbMzMxUVFSIiIju7u4AAAAd7oVFAAAAAXRSTlMAQObYZgAAAAlwSFlz\n",
       "AAAOxAAADsQBlSsOGwAAAENJREFUCNdjYHh75/WqCQwMDbxnOQoY2ALY/vEkMHAzcDgwgADzBTCl\n",
       "H8D3gOGhwmEGLgaG+fuaGTQZGF7c5WybwAAAJTwQ1a2DuB8AAAAASUVORK5CYII=\n",
       "\" style=\"display:inline;vertical-align:middle;\" /></a></td></tr>\n",
       "<tr><td>7</td><td>Operation</td><td>operator:&nbsp;8<br>operand:&nbsp;10<br></td><td><a class=\"ProveItLink\" href=\"../__pv_it/demonstrations/0a7cbf2fc5de552bc7ef54920ebff976c4d732640/expr.ipynb\"><img src=\"data:image/png;base64,iVBORw0KGgoAAAANSUhEUgAAABoAAAANBAMAAABFt2PeAAAAMFBMVEX////c3Ny6urpEREQQEBCq\n",
       "qqp2dnZUVFSYmJhmZmaIiIjMzMwiIiIyMjLu7u4AAACNnmIlAAAAAXRSTlMAQObYZgAAAAlwSFlz\n",
       "AAAOxAAADsQBlSsOGwAAAGNJREFUCNdjYICCVzMY+ApgHIaEEAaODzAOd8AcBnYDhrdnQOA0H4MX\n",
       "A8sCuEqmfwz7N8B5nBcYlsA5DMwFDOYIHmcB0w8Ej69s5UcGJMB2AcHOZXgSgOCdYihDUhexUoGB\n",
       "AQDO2BiKcZOd3AAAAABJRU5ErkJggg==\n",
       "\" style=\"display:inline;vertical-align:middle;\" /></a></td></tr>\n",
       "<tr><td>8</td><td>Literal</td><td></td><td><a class=\"ProveItLink\" href=\"../../negation/__pv_it/common/221b3c4d1770ee9051b7c044c3f9ec61196fc34b0/expr.ipynb\"><img src=\"data:image/png;base64,iVBORw0KGgoAAAANSUhEUgAAAA4AAAABBAMAAAAcMII3AAAAElBMVEX////MzMwiIiIyMjLu7u4A\n",
       "AADe/Ps1AAAAAXRSTlMAQObYZgAAAAlwSFlzAAAOxAAADsQBlSsOGwAAAA1JREFUCNdjcFYCAUUA\n",
       "BKYBD24TAeoAAAAASUVORK5CYII=\n",
       "\" style=\"display:inline;vertical-align:middle;\" /></a></td></tr>\n",
       "<tr><td>9</td><td>ExprTuple</td><td>10</td><td><a class=\"ProveItLink\" href=\"../__pv_it/demonstrations/c60c4da4d0e362e1aae93eaa5e9af5fbed84db960/expr.ipynb\"><img src=\"data:image/png;base64,iVBORw0KGgoAAAANSUhEUgAAABcAAAAVBAMAAABfzGiYAAAAMFBMVEX////MzMxUVFRERES6uroi\n",
       "IiIQEBCYmJhmZmYyMjLu7u52dnaqqqqIiIjc3NwAAACW8nlqAAAAAXRSTlMAQObYZgAAAAlwSFlz\n",
       "AAAOxAAADsQBlSsOGwAAAMhJREFUGNM9j7sOwWAYhh+HVlUrFptB4gbETtyA1AUYOhhJOlqEiETE\n",
       "oJvE1NQNiM0gsYqlo0ksdu7A97f4k+/w/Hm/E/AgfnGwzwl0lLsmObYHpv8FtmB4PxiB/svRAy5/\n",
       "yHuspOzmEUKhyka85TKBnE8PKkaXGshXHwI9YgiplwKcIPWGrKtkLLFdkXVpCjTIVKVBnYPADEf2\n",
       "MPaUBcLTWg7Q2mglNf0o9hTllIJvDgQWYi20KL2HYl1ghzWeS8you4tRsvQdPnYWJrHV7rUtAAAA\n",
       "AElFTkSuQmCC\n",
       "\" style=\"display:inline;vertical-align:middle;\" /></a></td></tr>\n",
       "<tr><td>10</td><td>Variable</td><td></td><td><a class=\"ProveItLink\" href=\"../../../__pv_it/common/ff7dba4ef0bbe791ab573bf2d9c220a304399ac80/expr.ipynb\"><img src=\"data:image/png;base64,iVBORw0KGgoAAAANSUhEUgAAAAsAAAANBAMAAACN24kIAAAAMFBMVEX////c3NwyMjK6urpEREQi\n",
       "IiLMzMwQEBCqqqp2dnZUVFSYmJhmZmaIiIju7u4AAADlKNhoAAAAAXRSTlMAQObYZgAAAAlwSFlz\n",
       "AAAOxAAADsQBlSsOGwAAAFhJREFUCNdj4LuzgeEVAwMnRwHDfgaGDJ4AhiUMDA/YLzDUMjAw2D9g\n",
       "+wakDjHwFgApLwaWBUDqFIP9BiD1au55AQYQmATEnAp8FUCK9QLXBCDFsfcwkAQA5QkUAIef7yAA\n",
       "AAAASUVORK5CYII=\n",
       "\" style=\"display:inline;vertical-align:middle;\" /></a></td></tr>\n",
       "</table>\n"
      ],
      "text/plain": [
       "0. floor(x - y)\n",
       "   core type: Operation\n",
       "   operator: 1\n",
       "   operand: 3\n",
       "1. floor\n",
       "   core type: Literal\n",
       "   sub-expressions: \n",
       "2. (x - y)\n",
       "   core type: ExprTuple\n",
       "   sub-expressions: 3\n",
       "3. x - y\n",
       "   core type: Operation\n",
       "   operator: 4\n",
       "   operands: 5\n",
       "4. +\n",
       "   core type: Literal\n",
       "   sub-expressions: \n",
       "5. (x, -y)\n",
       "   core type: ExprTuple\n",
       "   sub-expressions: 6, 7\n",
       "6. x\n",
       "   core type: Variable\n",
       "   sub-expressions: \n",
       "7. -y\n",
       "   core type: Operation\n",
       "   operator: 8\n",
       "   operand: 10\n",
       "8. -\n",
       "   core type: Literal\n",
       "   sub-expressions: \n",
       "9. (y)\n",
       "   core type: ExprTuple\n",
       "   sub-expressions: 10\n",
       "10. y\n",
       "    core type: Variable\n",
       "    sub-expressions: "
      ]
     },
     "metadata": {},
     "output_type": "display_data"
    }
   ],
   "source": [
    "floor_x_minus_y.expr_info()"
   ]
  },
  {
   "cell_type": "markdown",
   "metadata": {},
   "source": [
    "<font size=4>We can access the Floor operand $x-y$, and identify the `Floor` operator as the outermost operation:</font>"
   ]
  },
  {
   "cell_type": "code",
   "execution_count": 7,
   "metadata": {},
   "outputs": [
    {
     "data": {
      "text/html": [
       "<a class=\"ProveItLink\" href=\"../__pv_it/demonstrations/d53880254fcf8f27e725a455efc285f171faad850/expr.ipynb\"><img src=\"data:image/png;base64,iVBORw0KGgoAAAANSUhEUgAAADAAAAANBAMAAAAdyPDHAAAAMFBMVEX///9ERES6uroQEBAyMjLc\n",
       "3NyYmJgiIiJmZmaqqqp2dnbMzMxUVFSIiIju7u4AAAAd7oVFAAAAAXRSTlMAQObYZgAAAAlwSFlz\n",
       "AAAOxAAADsQBlSsOGwAAAJ9JREFUGNNjYHh75/WqCQzI4G0bA98BBoYG3rMcBSgSCyYzsH1gYAtg\n",
       "+8eTgCzOPaGdgUeAgZuBwwHE5XMvB4ENQBaDLQPzBaAQmEAGTP8Y9gMVMOgH8D1AkQAacZmB4aHC\n",
       "YQYuVB2MBxhkGBjm72tm0ESV4DjA9I2B4cVdzjZUbzDwnbrxlQE74HLAKryE4fEErBK1DKewGzTt\n",
       "hgIDAwD7zij1v91mjAAAAABJRU5ErkJggg==\n",
       "\" style=\"display:inline;vertical-align:middle;\" /></a>"
      ],
      "text/plain": [
       "x - y"
      ]
     },
     "metadata": {},
     "output_type": "display_data"
    }
   ],
   "source": [
    "floor_x_minus_y.operand"
   ]
  },
  {
   "cell_type": "code",
   "execution_count": 8,
   "metadata": {},
   "outputs": [
    {
     "data": {
      "text/html": [
       "<a class=\"ProveItLink\" href=\"../__pv_it/common/6c084083358c4fee8d4be9f66e84060cea5608e90/expr.ipynb\"><img src=\"data:image/png;base64,iVBORw0KGgoAAAANSUhEUgAAADAAAAASBAMAAADvSECJAAAAMFBMVEX///8yMjLc3NyIiIiYmJgi\n",
       "IiJERES6urqqqqoQEBDMzMxUVFTu7u52dnZmZmYAAAD1zdHuAAAAAXRSTlMAQObYZgAAAAlwSFlz\n",
       "AAAOxAAADsQBlSsOGwAAAOFJREFUGNNjYGBg4Lt7gOHqLwZMcHtlAwPLBywSM8oOMPAJYIqz/wES\n",
       "rAaYErwBQEJ/AYY4y87oBwwM/kDWZesCMMF1jemtA5DPDzJlGwODagHTJzDBy/aWdwLMlMkMDMEM\n",
       "DLFgQoUxgO8CUKwfiLk+MfABHTwbTKzhdwBbchWImScwcCYwMH0GEwz1B8AS2UDMtuHAeQMG3k9g\n",
       "guEpxFmTQQ5wuADUzwkhgFaBANN3kESNAd8GhjwGMAEWYWDgAIUSy1sGhrt2BRCCPQAsAVSEFXQz\n",
       "NmCXCDuIXZzB+RF2cQDdWUBr+VcssAAAAABJRU5ErkJggg==\n",
       "\" style=\"display:inline;vertical-align:middle;\" /></a>"
      ],
      "text/plain": [
       "floor"
      ]
     },
     "metadata": {},
     "output_type": "display_data"
    }
   ],
   "source": [
    "floor_x_minus_y.operator"
   ]
  },
  {
   "cell_type": "markdown",
   "metadata": {},
   "source": [
    "<font size=4>Notice in this case that the Floor's operand $x-y$ itself has operands $(x, -y)$ (because the subtract() expression is internally represented as an instance of `Add(x, -y))`:</font>"
   ]
  },
  {
   "cell_type": "markdown",
   "metadata": {},
   "source": [
    "<font size=4>We can also get a list of the variables and a list of the free variables:</font>"
   ]
  },
  {
   "cell_type": "code",
   "execution_count": 9,
   "metadata": {},
   "outputs": [
    {
     "data": {
      "text/html": [
       "<a class=\"ProveItLink\" href=\"../../../logic/equality/__pv_it/theorems/d6058e955f7e8ff10e99ba4a3833dc46470c2de60/expr.ipynb\"><img src=\"data:image/png;base64,iVBORw0KGgoAAAANSUhEUgAAACwAAAAVBAMAAADP3xFXAAAAMFBMVEX////MzMxUVFRERES6uroi\n",
       "IiIQEBCYmJhmZmYyMjLu7u52dnaqqqqIiIjc3NwAAACW8nlqAAAAAXRSTlMAQObYZgAAAAlwSFlz\n",
       "AAAOxAAADsQBlSsOGwAAARVJREFUGNNjYGB4wIAG+EAE7wF0YZYLQOI0Awa4zsDANQFTmHMBA0cB\n",
       "pjB7AwMbAxaQxXASm/B0hm6g8TcKGBZB+GsvLdwNdNkmoAQDN08CQz1EuIFXlyOAgaGSIYaBQQbI\n",
       "UobY9YD9FxPQDccYUhgYFrBdYMgFCzMycIDdKw8SZvBfwPgRahkbyIcMbiBDGDoZeBOgwv4PuBYw\n",
       "MBxlsAWyjRiYFRi4gIzFDmoM3EC6GOgWBoYmBv8ChvVAU89LtTH4AAW6GUSB5KK9/Q8YWKMYGFbc\n",
       "5WkHBWgIA6sAyMidQHwKEeABoGDhnsCVA+RsgAuDgs+OgfUCE1CI6wJc+DHIdgae2hZQLCFCyg5k\n",
       "0AX08ON9wAAAZ3M6kipUk2cAAAAASUVORK5CYII=\n",
       "\" style=\"display:inline;vertical-align:middle;\" /></a>"
      ],
      "text/plain": [
       "(y, x)"
      ]
     },
     "metadata": {},
     "output_type": "display_data"
    }
   ],
   "source": [
    "used_vars(floor_x_minus_y)"
   ]
  },
  {
   "cell_type": "code",
   "execution_count": 10,
   "metadata": {},
   "outputs": [
    {
     "data": {
      "text/html": [
       "<a class=\"ProveItLink\" href=\"../../../logic/equality/__pv_it/theorems/d6058e955f7e8ff10e99ba4a3833dc46470c2de60/expr.ipynb\"><img src=\"data:image/png;base64,iVBORw0KGgoAAAANSUhEUgAAACwAAAAVBAMAAADP3xFXAAAAMFBMVEX////MzMxUVFRERES6uroi\n",
       "IiIQEBCYmJhmZmYyMjLu7u52dnaqqqqIiIjc3NwAAACW8nlqAAAAAXRSTlMAQObYZgAAAAlwSFlz\n",
       "AAAOxAAADsQBlSsOGwAAARVJREFUGNNjYGB4wIAG+EAE7wF0YZYLQOI0Awa4zsDANQFTmHMBA0cB\n",
       "pjB7AwMbAxaQxXASm/B0hm6g8TcKGBZB+GsvLdwNdNkmoAQDN08CQz1EuIFXlyOAgaGSIYaBQQbI\n",
       "UobY9YD9FxPQDccYUhgYFrBdYMgFCzMycIDdKw8SZvBfwPgRahkbyIcMbiBDGDoZeBOgwv4PuBYw\n",
       "MBxlsAWyjRiYFRi4gIzFDmoM3EC6GOgWBoYmBv8ChvVAU89LtTH4AAW6GUSB5KK9/Q8YWKMYGFbc\n",
       "5WkHBWgIA6sAyMidQHwKEeABoGDhnsCVA+RsgAuDgs+OgfUCE1CI6wJc+DHIdgae2hZQLCFCyg5k\n",
       "0AX08ON9wAAAZ3M6kipUk2cAAAAASUVORK5CYII=\n",
       "\" style=\"display:inline;vertical-align:middle;\" /></a>"
      ],
      "text/plain": [
       "(y, x)"
      ]
     },
     "metadata": {},
     "output_type": "display_data"
    }
   ],
   "source": [
    "free_vars(floor_x_minus_y)"
   ]
  },
  {
   "cell_type": "markdown",
   "metadata": {},
   "source": [
    "<font size=4>And of course, we can reach down inside and look at the structure of the operand itself, which in this case consists of an Add() expression (even though we created it using the subtract() function):</font>"
   ]
  },
  {
   "cell_type": "code",
   "execution_count": 11,
   "metadata": {},
   "outputs": [
    {
     "data": {
      "text/html": [
       "<a class=\"ProveItLink\" href=\"../../addition/__pv_it/common/4b7effaab3619a1c2c38fe2dee8601df8ec714590/expr.ipynb\"><img src=\"data:image/png;base64,iVBORw0KGgoAAAANSUhEUgAAAA4AAAAOBAMAAADtZjDiAAAAHlBMVEX///9UVFQQEBAiIiJmZmaI\n",
       "iIiqqqqYmJi6uroAAAAAFVhYAAAAAXRSTlMAQObYZgAAAAlwSFlzAAAOxAAADsQBlSsOGwAAAB9J\n",
       "REFUCNdjYGBgaGeAgFRiaGdjYyVjY0Oi1SPRIHsAgDEGyG9xCpgAAAAASUVORK5CYII=\n",
       "\" style=\"display:inline;vertical-align:middle;\" /></a>"
      ],
      "text/plain": [
       "+"
      ]
     },
     "metadata": {},
     "output_type": "display_data"
    }
   ],
   "source": [
    "# operator inside the operand inside the Floor\n",
    "floor_x_minus_y.operand.operator"
   ]
  },
  {
   "cell_type": "code",
   "execution_count": 12,
   "metadata": {},
   "outputs": [
    {
     "data": {
      "text/html": [
       "<a class=\"ProveItLink\" href=\"../__pv_it/demonstrations/2b2b8ed3e540d542604db8f9dfc894166db266d70/expr.ipynb\"><img src=\"data:image/png;base64,iVBORw0KGgoAAAANSUhEUgAAADwAAAAVBAMAAADocZC/AAAAMFBMVEX////MzMxUVFRERES6uroi\n",
       "IiIQEBCYmJhmZmYyMjLu7u52dnaqqqqIiIjc3NwAAACW8nlqAAAAAXRSTlMAQObYZgAAAAlwSFlz\n",
       "AAAOxAAADsQBlSsOGwAAAR5JREFUKM9jYGB4wIAD8IEI3gO4pFkuAInTDDjBdQYGrgm4pTkXMHAU\n",
       "4JZmb2BgY8ADshhO4pOeztANJNdeWrgb1f1r2xm4FBgYNgEVMDA08OpyBKBIbzjGwP6BgaGSIQbo\n",
       "ggfsv5hQXMh4oJWByYCB4RhDCpDDwAHz3cpQEAjkYshlYAMGijxImgHMRA2wXwzyAgwMbiDDGRj8\n",
       "H3AtQJEGGncNSB1lsGVgWOygxsDNwICsgFmBwQhIFQPdznBeqo3Bh4HrJ7JuBZbvQKqbQZSBYcVd\n",
       "nnagt0ORtHNp3/gHpEIYWAVgQjwo1nMDPcMXAAp2mACS5E6GZUDzQNFlBw9IJOlYBm0g+RiIF8OE\n",
       "kP1+/IYDA0Qn3wVc8cX7gAEACpE+ylUywdEAAAAASUVORK5CYII=\n",
       "\" style=\"display:inline;vertical-align:middle;\" /></a>"
      ],
      "text/plain": [
       "(x, -y)"
      ]
     },
     "metadata": {},
     "output_type": "display_data"
    }
   ],
   "source": [
    "floor_x_minus_y.operand.operands"
   ]
  },
  {
   "cell_type": "code",
   "execution_count": 13,
   "metadata": {},
   "outputs": [
    {
     "data": {
      "text/html": [
       "<table><tr><th>&nbsp;</th><th>core type</th><th>sub-expressions</th><th>expression</th></tr>\n",
       "<tr><td>0</td><td>Operation</td><td>operator:&nbsp;1<br>operands:&nbsp;2<br></td><td><a class=\"ProveItLink\" href=\"../__pv_it/demonstrations/d53880254fcf8f27e725a455efc285f171faad850/expr.ipynb\"><img src=\"data:image/png;base64,iVBORw0KGgoAAAANSUhEUgAAADAAAAANBAMAAAAdyPDHAAAAMFBMVEX///9ERES6uroQEBAyMjLc\n",
       "3NyYmJgiIiJmZmaqqqp2dnbMzMxUVFSIiIju7u4AAAAd7oVFAAAAAXRSTlMAQObYZgAAAAlwSFlz\n",
       "AAAOxAAADsQBlSsOGwAAAJ9JREFUGNNjYHh75/WqCQzI4G0bA98BBoYG3rMcBSgSCyYzsH1gYAtg\n",
       "+8eTgCzOPaGdgUeAgZuBwwHE5XMvB4ENQBaDLQPzBaAQmEAGTP8Y9gMVMOgH8D1AkQAacZmB4aHC\n",
       "YQYuVB2MBxhkGBjm72tm0ESV4DjA9I2B4cVdzjZUbzDwnbrxlQE74HLAKryE4fEErBK1DKewGzTt\n",
       "hgIDAwD7zij1v91mjAAAAABJRU5ErkJggg==\n",
       "\" style=\"display:inline;vertical-align:middle;\" /></a></td></tr>\n",
       "<tr><td>1</td><td>Literal</td><td></td><td><a class=\"ProveItLink\" href=\"../../addition/__pv_it/common/4b7effaab3619a1c2c38fe2dee8601df8ec714590/expr.ipynb\"><img src=\"data:image/png;base64,iVBORw0KGgoAAAANSUhEUgAAAA4AAAAOBAMAAADtZjDiAAAAHlBMVEX///9UVFQQEBAiIiJmZmaI\n",
       "iIiqqqqYmJi6uroAAAAAFVhYAAAAAXRSTlMAQObYZgAAAAlwSFlzAAAOxAAADsQBlSsOGwAAAB9J\n",
       "REFUCNdjYGBgaGeAgFRiaGdjYyVjY0Oi1SPRIHsAgDEGyG9xCpgAAAAASUVORK5CYII=\n",
       "\" style=\"display:inline;vertical-align:middle;\" /></a></td></tr>\n",
       "<tr><td>2</td><td>ExprTuple</td><td>3, 4</td><td><a class=\"ProveItLink\" href=\"../__pv_it/demonstrations/2b2b8ed3e540d542604db8f9dfc894166db266d70/expr.ipynb\"><img src=\"data:image/png;base64,iVBORw0KGgoAAAANSUhEUgAAADwAAAAVBAMAAADocZC/AAAAMFBMVEX////MzMxUVFRERES6uroi\n",
       "IiIQEBCYmJhmZmYyMjLu7u52dnaqqqqIiIjc3NwAAACW8nlqAAAAAXRSTlMAQObYZgAAAAlwSFlz\n",
       "AAAOxAAADsQBlSsOGwAAAR5JREFUKM9jYGB4wIAD8IEI3gO4pFkuAInTDDjBdQYGrgm4pTkXMHAU\n",
       "4JZmb2BgY8ADshhO4pOeztANJNdeWrgb1f1r2xm4FBgYNgEVMDA08OpyBKBIbzjGwP6BgaGSIQbo\n",
       "ggfsv5hQXMh4oJWByYCB4RhDCpDDwAHz3cpQEAjkYshlYAMGijxImgHMRA2wXwzyAgwMbiDDGRj8\n",
       "H3AtQJEGGncNSB1lsGVgWOygxsDNwICsgFmBwQhIFQPdznBeqo3Bh4HrJ7JuBZbvQKqbQZSBYcVd\n",
       "nnagt0ORtHNp3/gHpEIYWAVgQjwo1nMDPcMXAAp2mACS5E6GZUDzQNFlBw9IJOlYBm0g+RiIF8OE\n",
       "kP1+/IYDA0Qn3wVc8cX7gAEACpE+ylUywdEAAAAASUVORK5CYII=\n",
       "\" style=\"display:inline;vertical-align:middle;\" /></a></td></tr>\n",
       "<tr><td>3</td><td>Variable</td><td></td><td><a class=\"ProveItLink\" href=\"../../../__pv_it/common/a0d9d672aa5e272d907247690c152cc2c6daafb70/expr.ipynb\"><img src=\"data:image/png;base64,iVBORw0KGgoAAAANSUhEUgAAAAsAAAAJBAMAAAAWSsseAAAAMFBMVEX///9ERES6uroQEBAyMjLc\n",
       "3NyYmJgiIiJmZmaqqqp2dnbMzMxUVFSIiIju7u4AAAAd7oVFAAAAAXRSTlMAQObYZgAAAAlwSFlz\n",
       "AAAOxAAADsQBlSsOGwAAAENJREFUCNdjYHh75/WqCQwMDbxnOQoY2ALY/vEkMHAzcDgwgADzBTCl\n",
       "H8D3gOGhwmEGLgaG+fuaGTQZGF7c5WybwAAAJTwQ1a2DuB8AAAAASUVORK5CYII=\n",
       "\" style=\"display:inline;vertical-align:middle;\" /></a></td></tr>\n",
       "<tr><td>4</td><td>Operation</td><td>operator:&nbsp;5<br>operand:&nbsp;7<br></td><td><a class=\"ProveItLink\" href=\"../__pv_it/demonstrations/0a7cbf2fc5de552bc7ef54920ebff976c4d732640/expr.ipynb\"><img src=\"data:image/png;base64,iVBORw0KGgoAAAANSUhEUgAAABoAAAANBAMAAABFt2PeAAAAMFBMVEX////c3Ny6urpEREQQEBCq\n",
       "qqp2dnZUVFSYmJhmZmaIiIjMzMwiIiIyMjLu7u4AAACNnmIlAAAAAXRSTlMAQObYZgAAAAlwSFlz\n",
       "AAAOxAAADsQBlSsOGwAAAGNJREFUCNdjYICCVzMY+ApgHIaEEAaODzAOd8AcBnYDhrdnQOA0H4MX\n",
       "A8sCuEqmfwz7N8B5nBcYlsA5DMwFDOYIHmcB0w8Ej69s5UcGJMB2AcHOZXgSgOCdYihDUhexUoGB\n",
       "AQDO2BiKcZOd3AAAAABJRU5ErkJggg==\n",
       "\" style=\"display:inline;vertical-align:middle;\" /></a></td></tr>\n",
       "<tr><td>5</td><td>Literal</td><td></td><td><a class=\"ProveItLink\" href=\"../../negation/__pv_it/common/221b3c4d1770ee9051b7c044c3f9ec61196fc34b0/expr.ipynb\"><img src=\"data:image/png;base64,iVBORw0KGgoAAAANSUhEUgAAAA4AAAABBAMAAAAcMII3AAAAElBMVEX////MzMwiIiIyMjLu7u4A\n",
       "AADe/Ps1AAAAAXRSTlMAQObYZgAAAAlwSFlzAAAOxAAADsQBlSsOGwAAAA1JREFUCNdjcFYCAUUA\n",
       "BKYBD24TAeoAAAAASUVORK5CYII=\n",
       "\" style=\"display:inline;vertical-align:middle;\" /></a></td></tr>\n",
       "<tr><td>6</td><td>ExprTuple</td><td>7</td><td><a class=\"ProveItLink\" href=\"../__pv_it/demonstrations/c60c4da4d0e362e1aae93eaa5e9af5fbed84db960/expr.ipynb\"><img src=\"data:image/png;base64,iVBORw0KGgoAAAANSUhEUgAAABcAAAAVBAMAAABfzGiYAAAAMFBMVEX////MzMxUVFRERES6uroi\n",
       "IiIQEBCYmJhmZmYyMjLu7u52dnaqqqqIiIjc3NwAAACW8nlqAAAAAXRSTlMAQObYZgAAAAlwSFlz\n",
       "AAAOxAAADsQBlSsOGwAAAMhJREFUGNM9j7sOwWAYhh+HVlUrFptB4gbETtyA1AUYOhhJOlqEiETE\n",
       "oJvE1NQNiM0gsYqlo0ksdu7A97f4k+/w/Hm/E/AgfnGwzwl0lLsmObYHpv8FtmB4PxiB/svRAy5/\n",
       "yHuspOzmEUKhyka85TKBnE8PKkaXGshXHwI9YgiplwKcIPWGrKtkLLFdkXVpCjTIVKVBnYPADEf2\n",
       "MPaUBcLTWg7Q2mglNf0o9hTllIJvDgQWYi20KL2HYl1ghzWeS8you4tRsvQdPnYWJrHV7rUtAAAA\n",
       "AElFTkSuQmCC\n",
       "\" style=\"display:inline;vertical-align:middle;\" /></a></td></tr>\n",
       "<tr><td>7</td><td>Variable</td><td></td><td><a class=\"ProveItLink\" href=\"../../../__pv_it/common/ff7dba4ef0bbe791ab573bf2d9c220a304399ac80/expr.ipynb\"><img src=\"data:image/png;base64,iVBORw0KGgoAAAANSUhEUgAAAAsAAAANBAMAAACN24kIAAAAMFBMVEX////c3NwyMjK6urpEREQi\n",
       "IiLMzMwQEBCqqqp2dnZUVFSYmJhmZmaIiIju7u4AAADlKNhoAAAAAXRSTlMAQObYZgAAAAlwSFlz\n",
       "AAAOxAAADsQBlSsOGwAAAFhJREFUCNdj4LuzgeEVAwMnRwHDfgaGDJ4AhiUMDA/YLzDUMjAw2D9g\n",
       "+wakDjHwFgApLwaWBUDqFIP9BiD1au55AQYQmATEnAp8FUCK9QLXBCDFsfcwkAQA5QkUAIef7yAA\n",
       "AAAASUVORK5CYII=\n",
       "\" style=\"display:inline;vertical-align:middle;\" /></a></td></tr>\n",
       "</table>\n"
      ],
      "text/plain": [
       "0. x - y\n",
       "   core type: Operation\n",
       "   operator: 1\n",
       "   operands: 2\n",
       "1. +\n",
       "   core type: Literal\n",
       "   sub-expressions: \n",
       "2. (x, -y)\n",
       "   core type: ExprTuple\n",
       "   sub-expressions: 3, 4\n",
       "3. x\n",
       "   core type: Variable\n",
       "   sub-expressions: \n",
       "4. -y\n",
       "   core type: Operation\n",
       "   operator: 5\n",
       "   operand: 7\n",
       "5. -\n",
       "   core type: Literal\n",
       "   sub-expressions: \n",
       "6. (y)\n",
       "   core type: ExprTuple\n",
       "   sub-expressions: 7\n",
       "7. y\n",
       "   core type: Variable\n",
       "   sub-expressions: "
      ]
     },
     "metadata": {},
     "output_type": "display_data"
    }
   ],
   "source": [
    "# info about the operand itself\n",
    "floor_x_minus_y.operand.expr_info()"
   ]
  },
  {
   "cell_type": "markdown",
   "metadata": {},
   "source": [
    "## Axioms <a id='axioms'></a>"
   ]
  },
  {
   "cell_type": "markdown",
   "metadata": {},
   "source": [
    "<font size=4>The axioms for the rounding theory establish the basic properties of the `Ceil`, `Floor`, and `Round` class functions. Some examples are shown below (and the entire complement of axioms can be found in the notebook `proveit.numbers.rounding .ipynb`).</font>"
   ]
  },
  {
   "cell_type": "code",
   "execution_count": 14,
   "metadata": {},
   "outputs": [],
   "source": [
    "from proveit.numbers.rounding  import (ceil_is_an_int, ceil_of_x_greater_eq_x, round_up)"
   ]
  },
  {
   "cell_type": "code",
   "execution_count": 15,
   "metadata": {},
   "outputs": [
    {
     "data": {
      "text/html": [
       "<span style=\"font-size:20px;\"> <a class=\"ProveItLink\" href=\"axioms.ipynb#ceil_is_an_int\" style=\"text-decoration: none\">&nbsp;&#x22A2;&nbsp;&nbsp;</a><a class=\"ProveItLink\" href=\"../__pv_it/axioms/ed765b9ce39bef24b7b045c119fd287b533000200/expr.ipynb\"><img src=\"data:image/png;base64,iVBORw0KGgoAAAANSUhEUgAAAIoAAAAVBAMAAABrmWvBAAAAMFBMVEX///+IiIgiIiIQEBB2dnbu\n",
       "7u5ERETMzMzc3NwyMjK6urpmZmaYmJiqqqpUVFQAAAB6qHgnAAAAAXRSTlMAQObYZgAAAAlwSFlz\n",
       "AAAOxAAADsQBlSsOGwAAAj5JREFUOMuNlD9oFEEYxd/orrd/7o69IoV/CLKFoCCcoilsPAtFhQtX\n",
       "6DVpcmrWKCiHpBN0ISDYyAaJWKQ4iBaiwiqCRkHOQtFCXDSNaHGN0cJCsDCl38zuzN6FvU22uP1m\n",
       "Z+Z3b968GSD38WG5riPKkut2M8cYWOdhEYrpVCsc7C3d/nvHPdu16F96vP19CGUZeRR2uY3ABHYA\n",
       "L3n7bjZED3IpdgjWrQNmA9f4yiazKXY3l1L20dRpajHkIGhRNmUzMinsjLtbSAWel9tUHBSjzCG2\n",
       "fM2kWHMN+aXQu8pfC8B+1z0whPIsoeiVHzN1RbmpINjSmOKvcRIFTA2hLCQUG6POU0Xp24rlosjS\n",
       "B+AWjF7fzM8nXs/Jem9CeY9Pjd+KEqSDg9iLL1yV1pHLHPU6TMPxWtI+lFDaWEp9KZAF7q4klCcB\n",
       "Wt91SqCjzH1FhjOGt84aCrAvpehpLJo8Ir+ARS7rDf1UXmz3GZ9AlJFwzYpgreK0WtFORflJidH/\n",
       "kAtU1+dprr9iRk2hUjNacnNbMUW/WK6ipigVtc/hQ4oeQd9RY5bMLaJVwCNBsc8pyeMxpfRvompF\n",
       "imJGap/nYVyajBMh4odV2jDP8yLGtMeSciXR8sT59jFNnb5yP+5evDDmHR4jkXuUuqqBGaGFWfdk\n",
       "rDa1M0+AdSw+AeqCkU7NaoFNCoUvOCrdpWOWdxr7D21cbDsyAuM8VQ+21iaWZP/0hig3BpunPK8z\n",
       "8KG5Icr0Ojem4aCU3hqFWva16uM/9GKLn67j8F4AAAAASUVORK5CYII=\n",
       "\" style=\"display:inline;vertical-align:middle;\" /></a></span>"
      ],
      "text/plain": [
       "|- forall_{x in Real} (ceil(x) in Integer)"
      ]
     },
     "metadata": {},
     "output_type": "display_data"
    }
   ],
   "source": [
    "# When defined, Ceil is always an integer\n",
    "ceil_is_an_int"
   ]
  },
  {
   "cell_type": "code",
   "execution_count": 16,
   "metadata": {},
   "outputs": [
    {
     "data": {
      "text/html": [
       "<span style=\"font-size:20px;\"> <a class=\"ProveItLink\" href=\"axioms.ipynb#ceil_of_x_greater_eq_x\" style=\"text-decoration: none\">&nbsp;&#x22A2;&nbsp;&nbsp;</a><a class=\"ProveItLink\" href=\"../__pv_it/axioms/7a7abe75957c0525b4d0ab245d81779e724009d50/expr.ipynb\"><img src=\"data:image/png;base64,iVBORw0KGgoAAAANSUhEUgAAAIoAAAAVBAMAAABrmWvBAAAAMFBMVEX///+IiIgiIiIQEBB2dnbu\n",
       "7u5ERETMzMzc3NwyMjK6urpmZmaYmJiqqqpUVFQAAAB6qHgnAAAAAXRSTlMAQObYZgAAAAlwSFlz\n",
       "AAAOxAAADsQBlSsOGwAAAhdJREFUOMuNlD1oFEEUx/9jdt29/Tj2ihRJ5IhLKkU4gzapTlDQIuGE\n",
       "eBbXeKBrsFoktnEhkFLOQgkYwoFpBEPWKGhUJBaKFuISbUQhEdHKVkzpm8lsLrvMmRvYnbfz3vz2\n",
       "fc0A/x0RLN/3hOj6/rrSxsQ+gyVwOlutWGlk0V+2uPCtC+UzeqDgEPCcz/Nqtd5SUPSFvFmhhhke\n",
       "2SU1xV5X+TJ5OGfmxBwELVFT+qCMiI3UsnYnhVWhS1q+qClwchiKcdT3T3ShPJEUvfRzenxvdt17\n",
       "kZjPly+epjgmgKfAlS6UBUmxUfZWMzWyFoU3MftuDwPvgVswt/bs3Dj36nYqH5OUd/hY+52l3OUU\n",
       "J3L+FEn/CThY09pSZ5SDNtNwtiq/xyQlxFq2X9xFEZEBu8Xnm7Ti7Sb3RUgFYHjj5SjA8Wx2j6bZ\n",
       "7ROm9+lpvaZX6dlQxPgGovTHuYhgbeOCstIrkU7yBknjd0gR/SokdWGimc20uM0din6tWEFV0XX1\n",
       "9g9oNL+lZ5aS66Bp4KGg2Jd3O3lih+L+bVSsRHECNm88xrLsiGLIV7apYEEQJIxpy6nVdenLI+/r\n",
       "B9VpbJTcl7ztj6QLRsXEtPCFWUtp2AfCns60OSyFWa1lU81FXnAm7hyzXih2amIPnuqHeZWkBwPV\n",
       "xlqqn1LdDL4YYYcyl4VOBkE7s1DvyZepfW5M04PbuTWMqvpajfAPRmKEABDjpe4AAAAASUVORK5C\n",
       "YII=\n",
       "\" style=\"display:inline;vertical-align:middle;\" /></a></span>"
      ],
      "text/plain": [
       "|- forall_{x in Real} (ceil(x) >= x)"
      ]
     },
     "metadata": {},
     "output_type": "display_data"
    }
   ],
   "source": [
    "# When defined, Ceil(x) is always greater than or equal to x\n",
    "ceil_of_x_greater_eq_x"
   ]
  },
  {
   "cell_type": "code",
   "execution_count": 17,
   "metadata": {},
   "outputs": [
    {
     "data": {
      "text/html": [
       "<span style=\"font-size:20px;\"> <a class=\"ProveItLink\" href=\"axioms.ipynb#round_up\" style=\"text-decoration: none\">&nbsp;&#x22A2;&nbsp;&nbsp;</a><a class=\"ProveItLink\" href=\"../__pv_it/axioms/52e1dc378643a3ca4d15b31ae377fbc593b0a0270/expr.ipynb\"><img src=\"data:image/png;base64,iVBORw0KGgoAAAANSUhEUgAAAWwAAAAXBAMAAADdI2g8AAAAMFBMVEX///+IiIgiIiIQEBB2dnbu\n",
       "7u5ERETMzMzc3NwyMjK6urpmZmaYmJiqqqpUVFQAAAB6qHgnAAAAAXRSTlMAQObYZgAAAAlwSFlz\n",
       "AAAOxAAADsQBlSsOGwAABIdJREFUWMO9l12IG1UUx/+TnZlMZjLpBKxaa9c1iEJBSGUV0ZdZdNGC\n",
       "q1O0K7KwZEHjolCDrkVf7JSKIMJuFAUfFGJdCoLFtIpuP6jxQdFqMWx9qFRtim4fxIf2YekiFjz3\n",
       "zsedNDMZH8xeyOSce/+59zdnzj13AqxX01IVbqJwf+lmzzBLpdZ/mOl/bFvSBFLb+9atnqEfhKk3\n",
       "uaDD7F8GT23ayWMv38uuPwXujSnYTHCU2e8OHvuJfoNX6KPUAy/npGCT4BWWTZXBYx/vM6av0sVo\n",
       "BW6+mYJNAnZrcnvw2OU+Y/IIXYaEf2cKNgnydJO5dUjtep/BHEP5WfjvpWGT4I5SaXTw2AbtyLnK\n",
       "Gw9RaIt/YgelzAo+WHn1WioK82N72NP+jD47hh+/n+yH47CV4srchI9Ngi+Ap2IX8sPkRjuDrFNs\n",
       "SJHuM8hUeUnKVt/umiSsZTl6qPaz9n3QtmLBtU8jfxH2LktZg343nnP8EDel8wYlzHd8/RJvnQDb\n",
       "wLB12McmwTy0TmSh5e0n3uSG6vknuzACpdIUt0BbpIFCYE/F3TuQaUNrvUUhzVjIPNA+jEJdb9wK\n",
       "7TIebeEIU9xO87j51QLd3+m4aH+LH52/fGwSqI7c8Eezw9WGJONBW2ArnUTsxbB3GknYelCthxrI\n",
       "Ov+Q8SXZK9iGIUtR/oa5yjpuYYp7aH0YfAvsicOueXfHsUlgWuGOPFajs0rC15bANhqJ2KK8Hk3E\n",
       "xjsC26tzdwELFlkLNZgXKebUQfgeNsn40h/Gb8ltITYT1L+iS3FpsyuxyknYG5sCO0M9m/cuRbC5\n",
       "y7BF2RzxsNkcEWzuTogkAUtb5RLwiEvWTWDMG1o7L7E095IE+MRVKBjLcbkNfQ07fWwmmKCISO6F\n",
       "XHuSvxnI2kxLYL8OXF+ovB/B5i7DNpv4vEqtpdU5Np9DYHvuWd9TKYwZljGUKKNQO6jmnSEb55zx\n",
       "K4R/hgZmgMnG75DJ/CYm2sozhTJsH5sJ9hFLHjNZfMxXM56sRLbkAaClWrUINncZth6crcwo+HMI\n",
       "bM89EJwo9MsFlnAnoDZhdLKjMsuTTfnaDJabflE79+KnOOjXwquxzctTZb3tYzNBgUOtUVmh0LUl\n",
       "ST4Ywf6NPhtcKmzUZr3cJpdjZwNss+Pn9pqX27uZ2PXc3cFupwTZz/nHaCcof2yZv47506cwfc1L\n",
       "5xnB8/TbonmcZd7WuGgfss6eCnI7FGTLGuZ4tCV90RHYbNkX4Ea3JHO7kiTrRZvPEclt7gZJgtvS\n",
       "DqRM+Ei1kZRTMhTsk+sGlUKe2xjv2pJaebso0R3fZdiS1b0l+RwC23OLgft9GrZ4gRIvVQnYocC4\n",
       "YWwjtKfJ+miTPXVEYKsuDi0WnUi0ucuw1fAZzHJsPofA9tzZwFXdNO5Q+lra+/ZVgseqVVGm1e7z\n",
       "orduT4a9i4l1W6n0Wkltsoc/CXu2zyz+4b6UiC1GDDfxcBcx3pv6Z9MKKmfP0K/CzNpxgh5s2UnA\n",
       "zkfOz/Ek7JNY7xb8P+7CvrDLqy/VNpRoLoh/00rXJM6A4P4F8Qw9LCqvCq8AAAAASUVORK5CYII=\n",
       "\" style=\"display:inline;vertical-align:middle;\" /></a></span>"
      ],
      "text/plain": [
       "|- forall_{x in Real | (x - floor(x)) = (ceil(x) - x)} (round(x) = ceil(x))"
      ]
     },
     "metadata": {},
     "output_type": "display_data"
    }
   ],
   "source": [
    "# The round function rounds up for reals mid-way between two integers\n",
    "round_up"
   ]
  },
  {
   "cell_type": "markdown",
   "metadata": {},
   "source": [
    "## Theorems <a id='theorems'></a>"
   ]
  },
  {
   "cell_type": "markdown",
   "metadata": {},
   "source": [
    "<font size=4>The theorems for the rounding theory capture many of the basic derivable properties of the `Ceil`, `Floor`, and `Round` class functions. Many of the theorems are then used for related class methods.<br/>\n",
    "Below we show a few examples of such theorems (the current collection of theorems can be found in the notebook `proveit.numbers.rounding._theorems_.ipynb`):</font>"
   ]
  },
  {
   "cell_type": "code",
   "execution_count": 18,
   "metadata": {},
   "outputs": [],
   "source": [
    "from proveit.numbers.rounding import (\n",
    "        ceil_of_integer, floor_of_sum_greater_eq, floor_of_floor,\n",
    "        floor_plus_ceil_of_neg, round_in_terms_of_floor)"
   ]
  },
  {
   "cell_type": "code",
   "execution_count": 19,
   "metadata": {},
   "outputs": [
    {
     "data": {
      "text/html": [
       "<span style=\"font-size:20px;\"> <a class=\"ProveItLink\" href=\"proofs/ceil_of_integer/thm_proof.ipynb\" style=\"text-decoration: none\">&nbsp;&#x22A2;&nbsp;&nbsp;</a><a class=\"ProveItLink\" href=\"../__pv_it/theorems/5272133cde9153588174b05b7e4e0dae76a5ba5f0/expr.ipynb\"><img src=\"data:image/png;base64,iVBORw0KGgoAAAANSUhEUgAAAIkAAAAVBAMAAACArtDCAAAAMFBMVEX///+IiIgiIiIQEBB2dnbu\n",
       "7u5ERETMzMzc3NwyMjK6urpmZmaYmJiqqqpUVFQAAAB6qHgnAAAAAXRSTlMAQObYZgAAAAlwSFlz\n",
       "AAAOxAAADsQBlSsOGwAAAc9JREFUOMuNlD1Iw0AUx/+tadO0TamgIIpSs7hJFHGOQycRIqggLgoa\n",
       "0alDVyXqqtJFcKzODtrFz0E3xa9sDip00UnEzY7epXettld7Bwkv//fyu/fevQT4b0WAfaO3bOuG\n",
       "cSkMctFkdQN31afooTBoj1xFaryIIbolQwmQFM+osSumTEOGgh1glZY/K3ZfyFFuAc0GFE/sNuUo\n",
       "LTbipCqtQVtychSNIAYNY0jsjVmMEmp9y44JKExXyAkdAwuN9/ApMfQkC5xSMOjqR1WPk5y3ESn+\n",
       "ejUxPDrP9gx6jHKNR/tDkAvTddK/sK3kmar2OPmgq4zbrGt5RsngVNgXpqtfhJSsNPc8Q9LDyiZq\n",
       "KMBAg+6WdXqWuStyaz3pcgPl7+SQB1cqQrSESUFfmK6niDlGZi/gvmvelO+Jb2UYJZwsU0LLCRNW\n",
       "fS5cj9Oh3SjSOuZUHPi+cYVH0ROkFP17xox69RSu+xOR8PcuATeO43iw0jRLv2splstR8vle0Beu\n",
       "B/npQDUjyPqlPl0izcQ+udld58aGkouRM6dlxBBNVT8zGcpFZdg7R9oRWSTWw2fbEp/CsCtDqf0j\n",
       "TDhO/k/hszKUcLNf5hrwWn1SLWFQB/ADQO1/xPDUS6EAAAAASUVORK5CYII=\n",
       "\" style=\"display:inline;vertical-align:middle;\" /></a></span>"
      ],
      "text/plain": [
       "|- forall_{x in Integer} (ceil(x) = x)"
      ]
     },
     "metadata": {},
     "output_type": "display_data"
    }
   ],
   "source": [
    "# The ceiling of an integer is just itself\n",
    "ceil_of_integer"
   ]
  },
  {
   "cell_type": "code",
   "execution_count": 20,
   "metadata": {},
   "outputs": [
    {
     "data": {
      "text/html": [
       "<span style=\"font-size:20px;\"> <a class=\"ProveItLink\" href=\"proofs/floor_of_sum_greater_eq/thm_proof.ipynb\" style=\"text-decoration: none\">&nbsp;&#x22A2;&nbsp;&nbsp;</a><a class=\"ProveItLink\" href=\"../__pv_it/theorems/5df333bd4cd493d9f27f645e3befe02ee78b51a00/expr.ipynb\"><img src=\"data:image/png;base64,iVBORw0KGgoAAAANSUhEUgAAARUAAAAWBAMAAAAcIxXLAAAAMFBMVEX///+IiIgiIiIQEBB2dnbu\n",
       "7u5ERETMzMzc3NwyMjK6urpmZmaYmJiqqqpUVFQAAAB6qHgnAAAAAXRSTlMAQObYZgAAAAlwSFlz\n",
       "AAAOxAAADsQBlSsOGwAAAzxJREFUSMfFlk9o01Acx7/Zkv5JmpohE7UwtigIilKnIAhCdhDcYZLh\n",
       "3GUwNtAqHkZxu6rB4VXiQREco4KXobI5BN0cszsoisji9DLmocLcycMush08+JL3Wpv0Je1OPvi2\n",
       "TX/vm3zy3u/93gMaaRYkMzpexxLsUBVL0KiFxprgIFWMiMszdSw1HapiT4HHoCq519+jWb5hxyx+\n",
       "Sx0WoUg1714/jESR7IZYpIlQSx0W3Ke66U7ZUCSLUqxhkYuccenrCLNUWJ7xWT5RJUkWiU4kSzNq\n",
       "WFSNN0fCQZNvqbB84bM0m57cf5PR6bLaKAtSZZjVnbEki1Sdun4ymuUlM0stP8d6fCxSpojB6nRQ\n",
       "H1k8C5eldwFSibKIJapXwOVolglmVtCmzfpYRDWLZV9qypMmx8JlMb4itUlZUjbVXSRKtc9f6V68\n",
       "V/59lJk/YNn85WO5obRjw8/ywORYeCxxZxbpIcpCXslTzBQLfo54W64giDhnsOvT7MZ5zNFFousH\n",
       "yMySNzCbNRz3zdGkxbPQDrO6fkLXjzEWiTiJ3WOJb1KpWjB13+TJkhDwTguwwH2uP3enzfhWde4e\n",
       "MbkW7hzJv3ErT1nkLBXsJfLR8jpD3khuQ9qrgC5L60xgjiBv46KfZQ5ClremAxYui2JjN1tHajsV\n",
       "ekjFE6yNJCkyvbvMUfR7txUTw+V1N8wG9Vo6C8PPMoJYiVfrAhYuC3GOMJbUEBXGyd1SGI6Tn3dW\n",
       "sIfWRkG5VCnG56lZ3RrIyo6fZRHTRd4eELDwx6Uk/2EsikGFdN6Nbnt91vEDH3O5nCMI4vPyja+z\n",
       "l3yhrX0O5Mtg11uLtzcGLFwWaT2zzViaClRs7WQT7tdhnMKYNy6C/KQ8+U35iLrbzd2nA5aQuiva\n",
       "jOU2k9fGRVtBH3BI3iSL3MsXnK2sjpmwvVG0pTNcloCFuzd244LDWBaYaMnY39WKUQdr720krpA/\n",
       "pvYZA3Pl6NWwM0OTljb+nRl0r+U5Fu6ZoYNkBGVxzwnBs4IjWTHSqS+X81e//jAWdWk+5CzVX5/l\n",
       "e6bAWGIWVfXAm2ltivfIhAa1U9dCtitV54SqLZwOldiKTgrBXlBVw0JeMvD/2l8tbBWSq8f0GQAA\n",
       "AABJRU5ErkJggg==\n",
       "\" style=\"display:inline;vertical-align:middle;\" /></a></span>"
      ],
      "text/plain": [
       "|- forall_{x, y in Real} (floor(x + y) >= (floor(x) + floor(y)))"
      ]
     },
     "metadata": {},
     "output_type": "display_data"
    }
   ],
   "source": [
    "# The floor of a sum is greater than or equal to the sum of the floors\n",
    "floor_of_sum_greater_eq"
   ]
  },
  {
   "cell_type": "code",
   "execution_count": 21,
   "metadata": {},
   "outputs": [
    {
     "data": {
      "text/html": [
       "<span style=\"font-size:20px;\"> <a class=\"ProveItLink\" href=\"proofs/floor_of_floor/thm_proof.ipynb\" style=\"text-decoration: none\">&nbsp;&#x22A2;&nbsp;&nbsp;</a><a class=\"ProveItLink\" href=\"../__pv_it/theorems/9685b990ed03ede617b9a8d937e39518eb8d29640/expr.ipynb\"><img src=\"data:image/png;base64,iVBORw0KGgoAAAANSUhEUgAAAK8AAAAVBAMAAADC7aNVAAAAMFBMVEX///+IiIgiIiIQEBB2dnbu\n",
       "7u5ERETMzMzc3NwyMjK6urpmZmaYmJiqqqpUVFQAAAB6qHgnAAAAAXRSTlMAQObYZgAAAAlwSFlz\n",
       "AAAOxAAADsQBlSsOGwAAAh9JREFUOMudlT2IE0EUx/9z2dxu9iNsigM/IOj2SjysrCIoaHESQWOR\n",
       "xoCuYhXkbGXxeomFYGERwUb0MJ6Cnh4SC0FRcTltRMET0crCRrzSN7M7e3tmMwczxZu38978GN7X\n",
       "AsoVodyiTYjsCLDGHE9uqFbio1wshjuiXYhk2UMSd8c8326oZLxF2xrXv0wAf4QemJH/U67fKOaW\n",
       "+5pgXAcu86icLgY7I13wG6BCeTHiYnAJuuBSS9ypTAjxJ21whS7MBsH+CeBHeXC59mN+Tgk+Xj91\n",
       "KE6MBtXEY+DsBPDNPNhB3V/aBF4K+NqbgYfsm7MrMbqU9quw1nKw1aPPr0l9Tx78Cu9bv1QvdiP3\n",
       "T3WUGL0GMN0yBqnVrIcDZuBIM/0+kAf3sKyOsQmnL2Ns/ia4n+XuWY9qm+GlXwQG9m2VvJIvwTa9\n",
       "GP0XJGpPdka8Xzh4ZlgUCtjrfCIoYoz7ER8qIhQUa8xRm7DoZyVui/FgWF1ZXN0cuHyh2kBT9eL2\n",
       "4DuM1Ojyllug3LnomrgnwM6ZrA+P5cDe307DjlXgr5ceYjE1OjxN1R63rAOvwzCMGTMWpffF/Isf\n",
       "+J/fKWPcqXkrcWqckvUAs2FhXryY2bfl9J3q6XbeFfmxYPQdKjwRYxyWyXOHuuCVbI7tODgD6xxp\n",
       "d7Y3O8vy+Lwm+P9xeSIMB5sO2prg6a3+TZYPbzZIBV9eQMpqsHvM84M8E8ZtwD+R0Lmyi9uWQgAA\n",
       "AABJRU5ErkJggg==\n",
       "\" style=\"display:inline;vertical-align:middle;\" /></a></span>"
      ],
      "text/plain": [
       "|- forall_{x in Real} (floor(floor(x)) = floor(x))"
      ]
     },
     "metadata": {},
     "output_type": "display_data"
    }
   ],
   "source": [
    "# The floor function is idempotent\n",
    "floor_of_floor"
   ]
  },
  {
   "cell_type": "code",
   "execution_count": 22,
   "metadata": {},
   "outputs": [
    {
     "data": {
      "text/html": [
       "<span style=\"font-size:20px;\"> <a class=\"ProveItLink\" href=\"proofs/floor_plus_ceil_of_neg/thm_proof.ipynb\" style=\"text-decoration: none\">&nbsp;&#x22A2;&nbsp;&nbsp;</a><a class=\"ProveItLink\" href=\"../__pv_it/theorems/09c1c9808144ce39895f396d668c36db0ce272ed0/expr.ipynb\"><img src=\"data:image/png;base64,iVBORw0KGgoAAAANSUhEUgAAAOEAAAAVBAMAAABCnpRGAAAAMFBMVEX///+IiIgiIiIQEBB2dnbu\n",
       "7u5ERETMzMzc3NwyMjK6urpmZmaYmJiqqqpUVFQAAAB6qHgnAAAAAXRSTlMAQObYZgAAAAlwSFlz\n",
       "AAAOxAAADsQBlSsOGwAAAppJREFUSMedlk+I00AUxl+6SZs2yZI9LKiLpRsPelApIgieIqyiByWC\n",
       "rshetqDRkxTRq0b3LlUQPHio4EV0seiCrhapigdRMKxeBKEVwbMHBcGL703+NJ1OGkhghsnHl/lN\n",
       "5r15CcDEy8OmApwcKirnqFiWOapsWDuDB1Pmm3hJPnZbAT4OpYecRe+NP4aee+IJSR7Q4FsK8Qs2\n",
       "w85DlMblhTmPyS/o5o4YqLSwOw15iHCbF8u+soPJVyg2y2KiRrN1xcRKbzLxAy++ATjE5LIDIPti\n",
       "4hR1dTHRMCcTpxxOvADQd0imJ8opYfxKM7fyEcu8/g/gqs/kPZa1N4W4Rjtrh8Tj1VMLfgYx4ZEH\n",
       "XE4QscfkZwBnU4h3o7USsSN912oZxIRHp72BJxZduylXfiPRZPINUJPL2Tjy6mY03oWt4AdE3dP/\n",
       "TPcmE5Meoz66eka0mVx05HaolqpuW5LhsB3e76cMaAfEEmitOI6aZW3DaAxConKLvUoz6Sn94nYV\n",
       "iY9NJhtmnDgvm3h0JXhnCog4MrMzZ+ip1Mczp+8Hcus1djPP5zxWJ5A42xHsKq7QU5ws4tBj1Ebj\n",
       "CC7AJyeQj2IdkLyfZX+RlVJZbUSTNLAVzYC42P4BcsY7Jj06X1XeAqyH8gqGQ4dGCR4xonYm9h6L\n",
       "shyJ/ctPYTWDmPRoNkcs+Mq+UJ5ukvAX4L3rur4kyauR6SJlQC0gLs0YXT+DmPQU2nyRXqs2k3Kp\n",
       "rsIl9o5S5X5UoAq0lu35as518RGP5RW5peE5YXGEg1Hm6J2wJOeo5F0xMZa1LQdmQT2Howeb7aX1\n",
       "SD5PqePl+VqlfI54+YTrju4+Za+ynIdYFP9fFLN+O1QK1jWAz9Z89A8zz1kMwZcOE2KTeEKU/wNI\n",
       "bM4bcAiCJAAAAABJRU5ErkJggg==\n",
       "\" style=\"display:inline;vertical-align:middle;\" /></a></span>"
      ],
      "text/plain": [
       "|- forall_{x in Real} ((floor(x) + ceil(-x)) = 0)"
      ]
     },
     "metadata": {},
     "output_type": "display_data"
    }
   ],
   "source": [
    "# The floor and ceiling functions are related in a variety of ways\n",
    "floor_plus_ceil_of_neg"
   ]
  },
  {
   "cell_type": "code",
   "execution_count": 23,
   "metadata": {},
   "outputs": [
    {
     "data": {
      "text/html": [
       "<span style=\"font-size:20px;\"> <a class=\"ProveItLink\" href=\"proofs/round_in_terms_of_floor/thm_proof.ipynb\" style=\"text-decoration: none\">&nbsp;&#x22A2;&nbsp;&nbsp;</a><a class=\"ProveItLink\" href=\"../__pv_it/theorems/a7d245b4591f9119e1c2f3b2474c46c59cc356c20/expr.ipynb\"><img src=\"data:image/png;base64,iVBORw0KGgoAAAANSUhEUgAAAQ8AAAAyBAMAAACwkkPKAAAAMFBMVEX///+IiIgiIiIQEBB2dnbu\n",
       "7u5ERETMzMzc3NwyMjK6urpmZmaYmJiqqqpUVFQAAAB6qHgnAAAAAXRSTlMAQObYZgAAAAlwSFlz\n",
       "AAAOxAAADsQBlSsOGwAABKVJREFUWMPFmW9oG2Ucx7+XXHKX5Jqk4Cbzz1rqnxdjc3XOURQ0RYcK\n",
       "am+4VGTYraJREFyQCfrGHE58I7RRmPhCJf55M3A0bKKrHVtEJuyFNLR7oSA0s1ZEBl1fFLuxEn/P\n",
       "9e5ybXP3PEu57CC5e+65/J7P/f4+zxOAd0TzaP3YxumPdwODupisywgYRLlHSFQyEwiINToDwZSQ\n",
       "qAsIAmRofLEBItcEJKl9gYBAcoFgu4CkULoNINMC7voz2gASK/Ml7W4HSHyJK8h6PmAQfMF3kVpb\n",
       "QGa4TlLItwXkIDckZtEWkGg3T9Aj7QHReN6qXG8PSIQ3jrQkMpphJeEbAZGX3CBczUd7BTikqlVJ\n",
       "0+Igydmrl90gLwFmfP7h8Xz4kC/COw+z74t2847WpgHsGAB+ZOdPPZ47yMm9y8y+RbsV01sGmSzh\n",
       "XWZdrxcv+Md3nHlcomI3tTIPJF7xAKGB2GvIVY+RZqq+IDITE260H+SBdKQ9QEj1GkHGvEaa9E+s\n",
       "ZtX8vdH+rGWQFLnqrp4ezxLbZUbmkUMfPk2v3/kv9p0B5vDl3PubSeJIf4Ep7Dv67Nv6/ON0/Wxz\n",
       "EKvXF4Sc4wfgFS+QAdP9Mq9nHoO6DaNGZhraFWTeSEeWEO/DYd1SQ1m6lOi2ppWJHvOoNUCsXj+Q\n",
       "MHn8CFR3iZ166uxHTuMcG0mtfEyvTVO10BPVk0gW46V7of6H5yoYZ8/sIC81tMUkmXi6qUbsXj+Q\n",
       "EJ2julyyM/rWXEmS8aQzcZ837+osAZ8j7Dncj3A6ErmGjkV2427W/RA9gYQZw4WmIHYvqequXSuq\n",
       "StXZ4QbpZZSOr06Qb0oSzqdXgaxE6R5gNE1Xo3l0XCG90A0CWgEhRvMnX3s4azjNc1YGguJP9NV5\n",
       "+nZDYvojkE3lVaYBM3BkgTzGoKsuMIpUJbvA3GXFNMCYEdGtBcp6H7F6eabBM8doeOPvWHXQrByy\n",
       "OuyknQEzakLMVNfZ/DVaQ07TwxmaUu1dJqDfqGOYFo2lWch0+UtTjdi9PGfFUYLXMKzgWxMk8XIj\n",
       "z3aZeWSU+dBZRMtI1JTdMrPOFi0/jKkyUx3F7Mxbp3DCiuT1IHavLwhTYNIcjcryhVwuV5Uk+cSa\n",
       "hPaVmUX7qSpF/rpz5FbWHvoVQ7e8fYl1vwkc6Ow4U21aWdgdu9c3jzjeoPSqOGJqRIp/4xSvmZLA\n",
       "EszJvmq3cGZVJz7Jr0rxdqAelYsJCmTTR7DXwStU+CCNUpeoCBe9DyBfW1P0LBm39W+C+ipdHd+S\n",
       "OTBu/zAlsATDa3CkC08D/gEecIOsqa77c7nVtggVBUAG1xHxQR7VMW+4QLoMzuaIyFRRtdQqGeIg\n",
       "f1KyzLtA5nn23+CK02+GttNtmj285cRyYCDKggtEXbhpCyxrVS26wMKpwEC+dye0JHfJOVYKCESr\n",
       "uUFS3EV4qBwQyEWorvCd5G5LaAFt1CgZSHoD5L6btnX13sTEyRvauhJQWksgO+v1qw2QqMC+VCwT\n",
       "VEJzOeuYwNsqfW0A2SEianPwIEJb4EH9KeAGOS4m6/ONgGzPZn3sn82+SCDKMTFZG/rjiKLDZ0pz\n",
       "uF4nkBdM1P8BM5UuFk0+J5cAAAAASUVORK5CYII=\n",
       "\" style=\"display:inline;vertical-align:middle;\" /></a></span>"
      ],
      "text/plain": [
       "|- forall_{x in Real} (round(x) = floor(x + (1 / 2)))"
      ]
     },
     "metadata": {},
     "output_type": "display_data"
    }
   ],
   "source": [
    "# We can express the Round function in terms of the Floor\n",
    "round_in_terms_of_floor"
   ]
  },
  {
   "cell_type": "markdown",
   "metadata": {},
   "source": [
    "## Demonstrations <a id='further_demonstrations'></a>"
   ]
  },
  {
   "cell_type": "markdown",
   "metadata": {},
   "source": [
    "#### <a id='demo01'></a><font size=4>1. Simplifying $\\texttt{round}((x+1)+(y+2))$</font>\n",
    "<font size=3>We consider the simplification of the rounding expression `Round((x+1)+(y+2))`, calling upon the general `Expr.simplification()` method, which itself behind the scenes eventually utilizes the `Round.do_reduced_simplification()` method and works to apply two possible simplification theorems involving integer operands of the `Round` class.<br>\n",
    "First, we define our expression:</font>"
   ]
  },
  {
   "cell_type": "code",
   "execution_count": 24,
   "metadata": {},
   "outputs": [
    {
     "data": {
      "text/html": [
       "<strong id=\"round_xplus1_plus_yplus2\">round_xplus1_plus_yplus2:</strong> <a class=\"ProveItLink\" href=\"../__pv_it/demonstrations/053e931fcba997dbecc893fdf1ea24bd804514960/expr.ipynb\"><img src=\"data:image/png;base64,iVBORw0KGgoAAAANSUhEUgAAAOEAAAAVBAMAAABCnpRGAAAAMFBMVEX///+qqqpUVFSIiIi6urru\n",
       "7u4iIiIyMjIQEBCYmJhmZmbc3NxERER2dnbMzMwAAADprbYgAAAAAXRSTlMAQObYZgAAAAlwSFlz\n",
       "AAAOxAAADsQBlSsOGwAAAxBJREFUSMedVU1oE0EYfdtk0zSbTQOCilIaLCr1h671ZIUa0EM9dSmI\n",
       "oELiD4sItUEQVASjVqkHaUREULGlSsVicVEoCAWDerKXaEEv/sSDxYtYaYtIofWbnU2aTGZT8MHb\n",
       "zH778r35vtmZBZaB5tLzoQjbS2xXe1iCbS6l8BsVIV/US7zbpSciZwbpquQ4JZgygR0V0QZpL0bO\n",
       "5+HLwKE36tls97usgLrpAjnWmmI4JROPQ58FToPTE50s22OXJZ0sTHMXPa8bdG/2ur+hjEy7GegD\n",
       "7oDTEx/YJe1yCYpR4ogr7s0K9zco1fabaLERpD8EzSqO59hfUpyejmcFx1VS7QagJY9aqpgY+aSN\n",
       "0miyNa62ZVBj+lsPTr6mtd7a/ps1Kcepbl//853M8b3gOEpaytMlaIEeQI851MOjehpjcW1eV9IY\n",
       "oPsmJGx02OE5oDAthNBqDMscbwuOVDPPIzhGZmjRUw5f1CapiKNA97dQEhuxJ5DFy7x6DSHWzECU\n",
       "8y4GzGaZ42rB8TDA8mwRHQNUH82E8Xs9K2EauGQGDVyGmYij0aRAgO3CYJwzj0f8VbSs41ctK1Z0\n",
       "/MVGw5bVZ1lH2LAX4HnKtXjC6pzmZJsgmIU2QyNtAWgEVUoBcl5yhJNDUmOHUGOvs60iC4K2jvn6\n",
       "05xseRIG9Hka+aaZHf6qFHCWotBV+OexT+a4srKr1A5fWtA2QLOhJOGwmx0vGQRzeIVw9hauQ5nT\n",
       "E1FsVOjYDRsO1Tc1aeRkjvcER3rNWZ5YuTaSg89EXRaM2ixreQxvgSH8yOWosb7U/bChnAih+EIr\n",
       "CwfS/qjg+NXmu6HMke2WIXRmyrVjIyPDxa3mT7LQ5zZarK7JtU15ulebo2rTl2ftbHJJh+oDY80N\n",
       "YR3X9Z+ivMcExymwPE/tcm3P4uIfWp44Z3WcdCk5c5yPQlJwDOTZ9aNMizGX1VF5+vpLz+riwV04\n",
       "yelo11PqRZlW8lWQIWxzemC8IjKBgFEj/aBqWc5loGY5PTBRETkE5ebD/5l8Ec9dSuGrTKAZXuKd\n",
       "nP8AUefNuoucDxIAAAAASUVORK5CYII=\n",
       "\" style=\"display:inline;vertical-align:middle;\" /></a><br>"
      ],
      "text/plain": [
       "<IPython.core.display.HTML object>"
      ]
     },
     "metadata": {},
     "output_type": "display_data"
    }
   ],
   "source": [
    "round_xplus1_plus_yplus2 = Round(Add(Add(x,one), Add(y, two)))"
   ]
  },
  {
   "cell_type": "markdown",
   "metadata": {},
   "source": [
    "<font size=3>We then try calling the Expression `simplification()` method. If we know nothing about the addends $x$ and $y$, we will get an error:</font>"
   ]
  },
  {
   "cell_type": "code",
   "execution_count": 25,
   "metadata": {},
   "outputs": [
    {
     "name": "stdout",
     "output_type": "stream",
     "text": [
      "EXCEPTION: the simplification theorems do not apply without more constraints.  Proof step failed:\n",
      "Attempting to instantiate |- forall_{i, j, k in Natural} [forall_{a_{1}, a_{2}, ..., a_{i}, b_{1}, b_{2}, ..., b_{j}, c_{1}, c_{2}, ..., c_{k} in Complex} ((a_{1} +  a_{2} +  ... +  a_{i} + (b_{1} +  b_{2} +  ... +  b_{j})+ c_{1} +  c_{2} +  ... +  c_{k}) =  \\\\ (a_{1} +  a_{2} +  ... +  a_{i}+ b_{1} +  b_{2} +  ... +  b_{j}+ c_{1} +  c_{2} +  ... +  c_{k}))] with {i: 0, j: 2, k: 1, a: (), b: (x, 1), c: (y + 2)}:\n",
      "Unsatisfied condition: x in Complex. For debugging purposes, this is accessible via Instantiation.unsatisfied_condition with applicable assumptions in Instantiation.condition_assumptions.\n"
     ]
    }
   ],
   "source": [
    "# If addends are not known to be integers or reals \n",
    "from proveit import InstantiationFailure\n",
    "try:\n",
    "    round_xplus1_plus_yplus2.simplification()\n",
    "    assert False, \"Expected a ProofFailure error\"\n",
    "except InstantiationFailure as e:\n",
    "    print(\"EXCEPTION: the simplification theorems do not apply without more constraints. \", e)"
   ]
  },
  {
   "cell_type": "markdown",
   "metadata": {},
   "source": [
    "<font size=3>But if we know that $x$ and $y$ are real (either because we already know that from previous work or, as we do here, we supply that information as assumptions), the simplification goes through, with Prove-It automatically simplifying $1+2$ to $3\\in\\mathbb{Z}$, and eventually applying a rounding theorem of the form $\\forall_{x\\in\\mathbb{R},i\\in\\mathbb{Z}}\\texttt{ round}(x + i) = \\texttt{ round}(x) + i$:</font>"
   ]
  },
  {
   "cell_type": "code",
   "execution_count": 26,
   "metadata": {},
   "outputs": [
    {
     "data": {
      "text/html": [
       "<span style=\"font-size:20px;\"><a class=\"ProveItLink\" href=\"../../ordering/__pv_it/theorems/d1323f34847310a404e8089c2c268d3c2eb89dbf0/expr.ipynb\"><img src=\"data:image/png;base64,iVBORw0KGgoAAAANSUhEUgAAADQAAAAQBAMAAACra0H4AAAAMFBMVEX///9ERES6uroQEBAyMjLc\n",
       "3NyYmJgiIiJmZmaqqqp2dnbMzMxUVFSIiIju7u4AAAAd7oVFAAAAAXRSTlMAQObYZgAAAAlwSFlz\n",
       "AAAOxAAADsQBlSsOGwAAAMtJREFUGNNjYMAAbM6CX4rFGLACRtYDTMfkcEgtYBDYg1OqlQVF6GJ5\n",
       "uQNcihFZRuUekq5zb4CMt3der5oApFn9kAzklnQFMhp4z3IUAGmWAISUSX3tA6AvAtj+8SSApJCc\n",
       "sSwPZCk3AwfYbobN5UAgADVQLg0sxnwBTD1EdvwOxgcgln4AH4hmR5bi2ArU/1DhMAMXSID3ApIU\n",
       "n8A1Bob5+5oZNMEingipBoY0RgWGF3c52yaARd4IPYCF/McARpGfyMGhJQ4JKCgAAF8xNF8aQs/g\n",
       "AAAAAElFTkSuQmCC\n",
       "\" style=\"display:inline;vertical-align:middle;\" /></a>, <a class=\"ProveItLink\" href=\"../../ordering/__pv_it/theorems/5d76fdd975252a644e3e1cb067a357f9a9c8486a0/expr.ipynb\"><img src=\"data:image/png;base64,iVBORw0KGgoAAAANSUhEUgAAADMAAAATBAMAAADPIygvAAAAMFBMVEX////c3NwyMjK6urpEREQi\n",
       "IiLMzMwQEBCqqqp2dnZUVFSYmJhmZmaIiIju7u4AAADlKNhoAAAAAXRSTlMAQObYZgAAAAlwSFlz\n",
       "AAAOxAAADsQBlSsOGwAAAOBJREFUKM9jYMAAm0r8VUs2MGAFDlIMVlseYJeSZGBhW4BLikdAAUXo\n",
       "SmioAlzKAVnG6B5CF9c7oIF8dzYwvAIJMOohGZjSJMDAwMlRwLAfJMAkAJcSV/0KMiGDJ4BhCVgK\n",
       "yRm7H4HoB+wXGGpBjPRQIHCASLG8BnvZ/gHbNxD9BEkX2wE/EOMQA28BiGZF9tcxERDDi4EF7HPe\n",
       "C0hST3hBJp5isIeEpQZcSoaBe4MzkPFq7nmIs185P4CFvCODi34DiD0JqtrSNRQl5DgV+Cqwxw0D\n",
       "6wWuCTikOPYexiEDADoqNycoB77qAAAAAElFTkSuQmCC\n",
       "\" style=\"display:inline;vertical-align:middle;\" /></a> <a class=\"ProveItLink\" href=\"../__pv_it/demonstrations/1e5fd3ed76800b7522d1c384e68eb12705d211fe0/proof.ipynb\" style=\"text-decoration: none\">&nbsp;&#x22A2;&nbsp;&nbsp;</a><a class=\"ProveItLink\" href=\"../__pv_it/demonstrations/58243837ef5db1a125c497e09df188ed87e5e9980/expr.ipynb\"><img src=\"data:image/png;base64,iVBORw0KGgoAAAANSUhEUgAAAasAAAAVBAMAAAAKiNzvAAAAMFBMVEX///+qqqpUVFSIiIi6urru\n",
       "7u4iIiIyMjIQEBCYmJhmZmbc3NxERER2dnbMzMwAAADprbYgAAAAAXRSTlMAQObYZgAAAAlwSFlz\n",
       "AAAOxAAADsQBlSsOGwAABIBJREFUWMOVV12I3FQUPplJZrPJzHRAsKJISxcpFYW44oMttIGKbJ8a\n",
       "CiLUwo5VhlKoDIKivjjWKvogHRURV7GlSssuLg4KC1ahQX2qoGkXbAVrR8Tiy9pd2qUsC7ue+xMn\n",
       "Ofcmkx44w8w353zfOffeJCcAQ8yVnvkntV5ebO82EnJV8lKHEqI9JF1rpqdA5UZe7G4onpAqQW+7\n",
       "bwOVVn/pJH4akXCNXQsAHlXQe3WhZ8/8LGLL3WIJtIQMU+jcK1/4OpGEbWDL+KR0xaz7X8W2RgIK\n",
       "t3WnKISrvoh9AYokKCVkGaXbD8aSRiRpe1kZ09IHtif+sgv/Hz1JUCe1Uqb4VeqB3RGxU1TF6RYp\n",
       "QaGUNkXQXQ3rlkYkab+yj470gd2RbAveIKidijXEtWcvQ2lVxNp0e+1CJSiUcXaQRid8uKURSdor\n",
       "LLwtPLOtlwm6UVdDqQmlNRE7QjdnIxQoIbOtmG6AGiscrf/uzuJ/8+O+tb0LpcAcf2r+B7wcHty5\n",
       "xI5IJNx6+L6FC7q2LpK2ZjEWefZRtcqiiK1tJpVjAiyEZ3/LLSEhLymlSEw3EHq8y9FadbbWgTnf\n",
       "Xa0ZHTiBv8dgsgcTveqyXA3mDox7p3VtfUjawh0RPETtuidiR/nan24xOygTIDofXc4tISEvKaXI\n",
       "aJsI/bWlz9FvRpq4Hs8AHPnTacJWeKwSwrm+9TY4LKPSEP4xnAi26dq6i7T1NADjeYC2dVDGGh2y\n",
       "W5jgdl/ETcsrISEvKaVITJc4hEsc/XsDWw08IkcD24PXIZj0YVOAQIU9LmxfeB/OgFzmt+Qyi7au\n",
       "E/QYgOBB0lbr0JutFj8mTihj64ukLUyoBytDSojlB5RShNMlhQCOBxxlN1E7BPcGfnPxwt4EuGAI\n",
       "IPegLeCFanZrgqDH+G25vkYW8T2QsWZHbQvM5SElJORjSiFikt36F+CXBkfZmZ30oLaK38qLjBBW\n",
       "LAT45REfQjBX4QldW3eqhxBXtkzUcFD4VsQaTXJtsQQ8UPklJORjSiEi6AboesDaYugR9jTvgh3B\n",
       "91ANP4B3wFiuTTZgq4EjY9Xjbv1Y6kCka+sT0hbewRgPuUEtADwiYkdDslssgR22vBKS8jGlEInp\n",
       "YvQoP4SIujfZcm2G8wCn4J8owkNQbn9a9YzDjrwfoxtr+ztmg7R1tSfvz0mU3cRPwd7048Q9PDPT\n",
       "FLEOHfBYwjk/v4SkfNyAEHFIsx/x5xaiJt/GK9uRed/8PWN9/G1ta1hjf3y1k13hTe7WZ97d75IG\n",
       "thx/HnmfJeg1YDxf9lJqlfX19baIrfh0YGbPmiElJOXjBoRITBej5gyOuqqIYs9J10wZfB+aBK30\n",
       "2ecl3UjAY+eogEgYVoJuyriUoEvPHnNDX7emlPF0j3ZQjVGcZ2tt6zXdXMpjp6nA/8NybgnKqCtF\n",
       "prUD8PTQtqo94Rn2nYL8BBWvFGXFuqEmoUAJigkRDR1koenXoVB4hqk1HQDj/c8zYzUlHihSgmJC\n",
       "RL/g1QJv/V9L17+dqgSulxe7A4onpErQ244s9D97EIODuwoQ5wAAAABJRU5ErkJggg==\n",
       "\" style=\"display:inline;vertical-align:middle;\" /></a></span>"
      ],
      "text/plain": [
       "{x in Real, y in Real} |- round((x + 1) + (y + 2)) = (round(x + y) + 3)"
      ]
     },
     "metadata": {},
     "output_type": "display_data"
    }
   ],
   "source": [
    "round_xplus1_plus_yplus2.simplification(assumptions=[InSet(x, Real), InSet(y, Real)])"
   ]
  },
  {
   "cell_type": "markdown",
   "metadata": {},
   "source": [
    "<font size=3>Interestingly, if we try to directly call the `Round.shallow_simplification()` method on our `Round(Add(Add(x+1),Add(y+2)))` expression, we get only the trivial self-equivalence back, because we now lack the `simplification()` method's pre-processing of the operand to produce $x+y+3$ first and now fail to be able to segregate the operands into a partition of reals and integers:</font>"
   ]
  },
  {
   "cell_type": "code",
   "execution_count": 27,
   "metadata": {},
   "outputs": [
    {
     "data": {
      "text/html": [
       "<span style=\"font-size:20px;\"> <a class=\"ProveItLink\" href=\"../__pv_it/demonstrations/19b844056c2f7fe9538451221980608b79d14e320/proof.ipynb\" style=\"text-decoration: none\">&nbsp;&#x22A2;&nbsp;&nbsp;</a><a class=\"ProveItLink\" href=\"../__pv_it/demonstrations/cbc033fa5fa6dfe92eaa5e45a82af6f44f82832d0/expr.ipynb\"><img src=\"data:image/png;base64,iVBORw0KGgoAAAANSUhEUgAAAd8AAAAVBAMAAAD1KvkNAAAAMFBMVEX///+qqqpUVFSIiIi6urru\n",
       "7u4iIiIyMjIQEBCYmJhmZmbc3NxERER2dnbMzMwAAADprbYgAAAAAXRSTlMAQObYZgAAAAlwSFlz\n",
       "AAAOxAAADsQBlSsOGwAABIdJREFUWMOVmF+IG1UUxr9JMtkkk6QBQUWRLi5a1z90XPHBCjWgSPvU\n",
       "YUEEFTa2ukihNgiKimDUKvVBuioiqNhSZZcGFweFBWuhQ/WpBRm74B9QGx8svixdaUMpCxvPvXdu\n",
       "krlzZ5I5cMLk7Lfnl+/eO3NvAowIK8jYP6rhJmldpIxEvK6dm6QdB39vkNrI2ZFStpakfTit4US8\n",
       "pl0snmsT8dWXj9Gr4YvUxEUHeCBSvUUnPbn0k9BmF8Z1OhJffVbXTou32q91uDYZv4UN1uNBRsK8\n",
       "83UyPOGo5aYO6OFCXWhfHHtuk/GYXepq2mnxOIXKFaFNxO9hH/BEkIPYLS8eor8XjynVUmgMc+Jd\n",
       "xkWhJbSfjG04Bp+TgGx3qJ2savG4CzgstIn4X9hLK8hBXDdsGG8r1UJIa4h7vNBFZkNoC864hmPw\n",
       "hj1sWLaTVS0eRxxsd7k2Ef8q+5emyFjDryjVG3TETAOZTaGdGPsmjsGHDct2sqrF43Zge4drKat/\n",
       "WMt0tTpTN3csIOPkZp5c/YFuu3t2/seWiC/SvO+2tZ91hs8rhpdJS31mlU+H/LrQViYVX2veyd/T\n",
       "4MOGZTtZjcPjoNBSVsrLlRZW6tZGxWjhKL2fwpyLXW5ZjiDLEmbsRZ3hjxXDNIuij0K8ZAttkc/X\n",
       "4jyLvezSP+v/lgYfNlxshqtx+OploaX8bqJBY7gPOPB3qYFteCTv4XTHfBcl1itfE/kpjjrTOsM3\n",
       "KoafBlifu1Xi3kBrtJQH+MJLNC0p8GHDsp2sxuHzk0JL+c8WNoK04N50CjbegjNXx1aHCnm2/RXq\n",
       "IjtYQjA1h4OpEYYvKdVDgOhDTefnn3tnfp4vupIXaKvrym7qXEuBH27JDfN2Q9UYPL4KtCzZ47/g\n",
       "wbpMVxY9WraCBpoKRB4QwXtoZniXUj3EN5TqpjLEHyDQ5lrqAaybDh+e4ZwywzH44mSgZcnujTkb\n",
       "lQ26yq4zHK6ZVOD3gVxTyG3gMZ3h66NLmmYjq3wOOix9L7RGQ7mHaQGmwitLuhFZ0ho8nb8sl2tZ\n",
       "HmCnmgUUfJxB2fsI78HoVuZq2GbQUbts8zR/zLTg6wx/phimJyzrozw814D7hbboKTPMlm4avPLQ\n",
       "8sJVPb7qI+twLaV1hQ3zJM4Cx/Gv79OyyjY/L9vG/hL6j3Jj84lWrqYYvuCKfSBUZVvPcewJb4/W\n",
       "/na7IbQl9WB8up4O3zdMa2LQTla1eKy024v9PS7HF8WfO4g7u3rzVIfem9M1c+qvb3aysWnwNL+w\n",
       "b3pfsXbrkReo7zNK9SI75q5+7YaI+V6v1xTafF0x/GhKvDSRuePq9KCdrGrxONjrXRXaCD4Szwep\n",
       "OWnxuWso1XyHvf6KyM4faFfSfTuM4kMt++1kNQHPtaPx0RP37uE3/cO6rNI3hErTfEM96fe1J9IZ\n",
       "juJDLfvtZDUBr/kioouyKzImTkUq55C3M36c1vLSGR6Bj7aLxzPtGHjTExkT5yKVp2B8+GWstpzy\n",
       "N54R+Gi7ePyIsevHt0FqIxttYNlJ2gfT/sSTiNe0i8VzLeX/0VaqshZUFI0AAAAASUVORK5CYII=\n",
       "\" style=\"display:inline;vertical-align:middle;\" /></a></span>"
      ],
      "text/plain": [
       "|- round((x + 1) + (y + 2)) = round((x + 1) + (y + 2))"
      ]
     },
     "metadata": {},
     "output_type": "display_data"
    }
   ],
   "source": [
    "round_xplus1_plus_yplus2.shallow_simplification(\n",
    "        assumptions=[InSet(x, Real), InSet(y, Real)])"
   ]
  },
  {
   "cell_type": "markdown",
   "metadata": {},
   "source": [
    "#### <a id='demo02'></a><font size=4>2. Simplification and deductions involving $\\texttt{Floor}(\\alpha, \\beta) = \\lfloor \\alpha + \\beta \\rfloor$</font>\n",
    "<font size=3>Here we consider the floor of a sum of two variables, $\\lfloor \\alpha + \\beta \\rfloor$, produced using the Expression $\\texttt{Floor}(\\texttt{Add}(\\alpha, \\beta))$, and try to simplify the expression and deduce that the $\\texttt{Floor}$ expression represents an integer.<br>\n",
    "First, we define our expression:</font>"
   ]
  },
  {
   "cell_type": "code",
   "execution_count": 28,
   "metadata": {},
   "outputs": [
    {
     "data": {
      "text/html": [
       "<strong id=\"floor_alpha_plus_beta\">floor_alpha_plus_beta:</strong> <a class=\"ProveItLink\" href=\"../__pv_it/demonstrations/f89ec90273a08a9ee3a6d8880e5cf30603df28150/expr.ipynb\"><img src=\"data:image/png;base64,iVBORw0KGgoAAAANSUhEUgAAAD8AAAAVBAMAAAADRiu8AAAAMFBMVEX///8yMjJmZmZERES6urrc\n",
       "3NzMzMxUVFR2dnaIiIgiIiIQEBCqqqqYmJju7u4AAADJIfEEAAAAAXRSTlMAQObYZgAAAAlwSFlz\n",
       "AAAOxAAADsQBlSsOGwAAAOBJREFUKM9jeMeAFwQw3MUrz6KAWwFrp9IDvAoyGXgLsChguQBl8DUw\n",
       "sCzAooBnApTBycDAVEBAwSmEGzraE9AVuAUXysF9EeXAt5X1AKqCBt4ry+AKdjIwGHE+QFPAwHAZ\n",
       "poDpAwODIgdQkGnVqtW7Vq0qAHkCqNAfpoDbgIGhuw/VDSxAR82GKXgPFOw/gKoAZKA5TAE/ULAb\n",
       "zReMDAxsW+FuMGDg1WdDVfDoAoOXA9wXHXfnMXWiKjjmOWMC1tiEKWjAFd2wyGogkB74JhBQwJIA\n",
       "V3B61UqcCY5n1aoJAF4cR73YhsQ1AAAAAElFTkSuQmCC\n",
       "\" style=\"display:inline;vertical-align:middle;\" /></a><br>"
      ],
      "text/plain": [
       "<IPython.core.display.HTML object>"
      ]
     },
     "metadata": {},
     "output_type": "display_data"
    }
   ],
   "source": [
    "from proveit import alpha, beta\n",
    "floor_alpha_plus_beta = Floor(Add(alpha, beta))"
   ]
  },
  {
   "cell_type": "markdown",
   "metadata": {},
   "source": [
    "<font size=3>And the `Floor.deduce_in_number_set()` method will return an error:</font>"
   ]
  },
  {
   "cell_type": "code",
   "execution_count": 29,
   "metadata": {},
   "outputs": [
    {
     "name": "stdout",
     "output_type": "stream",
     "text": [
      "EXCEPTION: the simplification theorems do not apply without more constraints.  Prerequisites not met while assuming (): alpha + beta not readily provable to be a Real number\n"
     ]
    }
   ],
   "source": [
    "# If Floor operand(s) uncharacterized \n",
    "from proveit import UnsatisfiedPrerequisites\n",
    "try:\n",
    "    floor_alpha_plus_beta.deduce_in_number_set(Integer)\n",
    "    assert False, \"Expected a ProofFailure error\"\n",
    "except UnsatisfiedPrerequisites as e:\n",
    "    print(\"EXCEPTION: the simplification theorems do not apply without more constraints. \", e)"
   ]
  },
  {
   "cell_type": "markdown",
   "metadata": {},
   "source": [
    "<font size=3>But if we know or can assume some basic properties of $\\alpha$ and $\\beta$, we can simplify and make a deduction about the resulting form of the result. For example, suppose we know or can assume that $\\alpha\\in\\mathbb{R}$ while $\\beta\\in\\mathbb{Z}$. Then we can derive the equivalence $\\lfloor\\alpha+\\beta\\rfloor = \\lfloor\\alpha\\rfloor + \\beta$ (extracting the integer $\\beta$ out from inside the `Floor` function):</font>"
   ]
  },
  {
   "cell_type": "code",
   "execution_count": 30,
   "metadata": {},
   "outputs": [
    {
     "data": {
      "text/html": [
       "<span style=\"font-size:20px;\"><a class=\"ProveItLink\" href=\"../__pv_it/demonstrations/3d2ab8f43b04e936668868a3c63f710b426692830/expr.ipynb\"><img src=\"data:image/png;base64,iVBORw0KGgoAAAANSUhEUgAAADYAAAAQBAMAAACvnpHFAAAAMFBMVEX///+YmJgyMjJmZmZERESI\n",
       "iIiqqqoQEBDu7u66uroiIiLc3NzMzMxUVFR2dnYAAAB9mGmPAAAAAXRSTlMAQObYZgAAAAlwSFlz\n",
       "AAAOxAAADsQBlSsOGwAAANFJREFUGNNjYMAEjOoun5Y7MmAHLNwXOC964JJ7wOBwFrecNROqWMiq\n",
       "VQpwORYUqUkRSPpu9IJY794eAItwayCZyeOmDWTsmsBRzZ0AZDBtQMgVrV/aAGSUMjA4s4IYTEhu\n",
       "eSgBspj5AwODER9I5PgqIHCAmukhCKTZgbznL0AiLch+OMwCNKo/gIHhPcg6Bi5kOebTQD38QLnn\n",
       "YBHWACQ5DodAoH0ODIz2PGAhNYScAYMgywSg9wQjmJ+ChXo9G2Dx8GUDi9M3lICZ5wUJMygAAA/Q\n",
       "NgIY+7P7AAAAAElFTkSuQmCC\n",
       "\" style=\"display:inline;vertical-align:middle;\" /></a>, <a class=\"ProveItLink\" href=\"../__pv_it/demonstrations/24a839eaa16bcdb3c8f162e4dd906c65563c0b450/expr.ipynb\"><img src=\"data:image/png;base64,iVBORw0KGgoAAAANSUhEUgAAADQAAAATBAMAAAAt/zNWAAAAMFBMVEX///8QEBAyMjJERESqqqoi\n",
       "IiK6urpUVFSYmJjMzMzu7u5mZmaIiIh2dnbc3NwAAADJOHriAAAAAXRSTlMAQObYZgAAAAlwSFlz\n",
       "AAAOxAAADsQBlSsOGwAAAP5JREFUKM9jYMAELIoflUMNG0DMt6d3oUjxmE9gUGACsTgPMLSjSHFv\n",
       "YOBpuAJirWVgSEWRYn/AsJjLAMQ6wMCwHWKQaWgQiOZiYNjJPgEixRIFotl0FsD0cRbMBovMM1cC\n",
       "iz2CyzAwL7ACUbwMHalg3XoI23w5DkCkGDjAdiogpCBOZ1gDNPMDyHzR0NDQYIh7HK4xMACNzwQy\n",
       "BUDuMoBrWswHZNcxMFwA2loAEgiAS1UCfcb1AWzFxAcggTNwp2/IBvo7gIFrBwNbGFiEyQHudC0G\n",
       "PhMDBpZpZ+5ARLiKsyCMRCNhY3nhCyC3wwDbZUhAwQAvA06wBrdUJk4ZAItVMv4UXp5KAAAAAElF\n",
       "TkSuQmCC\n",
       "\" style=\"display:inline;vertical-align:middle;\" /></a> <a class=\"ProveItLink\" href=\"../__pv_it/demonstrations/650062c3a02649f8ebb2365b0aac7c8ed904635f0/proof.ipynb\" style=\"text-decoration: none\">&nbsp;&#x22A2;&nbsp;&nbsp;</a><a class=\"ProveItLink\" href=\"../__pv_it/demonstrations/47e61b4424d891bbfb582a45f8b44666a7efeb900/expr.ipynb\"><img src=\"data:image/png;base64,iVBORw0KGgoAAAANSUhEUgAAALMAAAAVBAMAAAD/f8IzAAAAMFBMVEX///8yMjJmZmZERES6urrc\n",
       "3NzMzMxUVFR2dnaIiIgiIiIQEBCqqqqYmJju7u4AAADJIfEEAAAAAXRSTlMAQObYZgAAAAlwSFlz\n",
       "AAAOxAAADsQBlSsOGwAAAgxJREFUOMuNlb9LHFEQx7+ee8f92L3oH6CYNEpAcwSC2B0WBx6IQppg\n",
       "dUVSJDaX/+A6FSFZAoGIIBaiuIpYaKE2ZxOSs1lMINXBYZpco/4Jztt7T9x9857ZZndn5/t5M/Pm\n",
       "zeIa1iutm+aB6/grWCe07ehpzZJrxkTOCKubsaHTK886HPoHHkO/+TKBXGhBv4dXZ9DFgcfQGR9/\n",
       "gGEN7YQK0YCzyaBToQE9qyz/gCpwqaFdX5WUKFzUBRjQP5WFCKPk17GhW1ytz/8D7R4AfWHPa3mp\n",
       "lkRXXn8c5jpk7B7dE2lo593kIMWUrUdeC+XicboZRze839v36OeBuHbE45BCS5GGzqJdpTW9gcjr\n",
       "BHiZ6yTQwC8u6n2FliIGDa9EoEPhlboFnmbF7gfB3mkQ1EWD0BJzHPpIopWoh6a0zmRaXbLRt8yt\n",
       "8CrQIquf4rV2KKd1G1qJtKgr1AKHZI+iviHc52YcLZKY5GqtCqJEGpoq2U95u5vC6wl5rSY6pI9S\n",
       "OuainpJoJdLQdFoX56N6i7KV4L3IxNFXIaplDr2kai1FSXRxHM6W2LdGtNnL7Y3UShz9feabz06+\n",
       "D6pDpCiJdt+uRah82XQaG6ahmq/ZT2NWvi4Yx5MR7Y3Yx5NCj5uGatE3/gpe2YdqV077kgnt1Izo\n",
       "v3Z0pXfrpya5CHbNv68W8zHtPxC5QeCzyq/AHQxUrKqDUEKmAAAAAElFTkSuQmCC\n",
       "\" style=\"display:inline;vertical-align:middle;\" /></a></span>"
      ],
      "text/plain": [
       "{alpha in Real, beta in Integer} |- floor(alpha + beta) = (floor(alpha) + beta)"
      ]
     },
     "metadata": {},
     "output_type": "display_data"
    }
   ],
   "source": [
    "floor_alpha_plus_beta.simplification(assumptions=[InSet(alpha, Real), InSet(beta, Integer)])"
   ]
  },
  {
   "cell_type": "markdown",
   "metadata": {},
   "source": [
    "<font size=3>And we can deduce that the `Floor` function will produce an integer:</font>"
   ]
  },
  {
   "cell_type": "code",
   "execution_count": 31,
   "metadata": {},
   "outputs": [
    {
     "data": {
      "text/html": [
       "<span style=\"font-size:20px;\"><a class=\"ProveItLink\" href=\"../__pv_it/demonstrations/3d2ab8f43b04e936668868a3c63f710b426692830/expr.ipynb\"><img src=\"data:image/png;base64,iVBORw0KGgoAAAANSUhEUgAAADYAAAAQBAMAAACvnpHFAAAAMFBMVEX///+YmJgyMjJmZmZERESI\n",
       "iIiqqqoQEBDu7u66uroiIiLc3NzMzMxUVFR2dnYAAAB9mGmPAAAAAXRSTlMAQObYZgAAAAlwSFlz\n",
       "AAAOxAAADsQBlSsOGwAAANFJREFUGNNjYMAEjOoun5Y7MmAHLNwXOC964JJ7wOBwFrecNROqWMiq\n",
       "VQpwORYUqUkRSPpu9IJY794eAItwayCZyeOmDWTsmsBRzZ0AZDBtQMgVrV/aAGSUMjA4s4IYTEhu\n",
       "eSgBspj5AwODER9I5PgqIHCAmukhCKTZgbznL0AiLch+OMwCNKo/gIHhPcg6Bi5kOebTQD38QLnn\n",
       "YBHWACQ5DodAoH0ODIz2PGAhNYScAYMgywSg9wQjmJ+ChXo9G2Dx8GUDi9M3lICZ5wUJMygAAA/Q\n",
       "NgIY+7P7AAAAAElFTkSuQmCC\n",
       "\" style=\"display:inline;vertical-align:middle;\" /></a>, <a class=\"ProveItLink\" href=\"../__pv_it/demonstrations/24a839eaa16bcdb3c8f162e4dd906c65563c0b450/expr.ipynb\"><img src=\"data:image/png;base64,iVBORw0KGgoAAAANSUhEUgAAADQAAAATBAMAAAAt/zNWAAAAMFBMVEX///8QEBAyMjJERESqqqoi\n",
       "IiK6urpUVFSYmJjMzMzu7u5mZmaIiIh2dnbc3NwAAADJOHriAAAAAXRSTlMAQObYZgAAAAlwSFlz\n",
       "AAAOxAAADsQBlSsOGwAAAP5JREFUKM9jYMAELIoflUMNG0DMt6d3oUjxmE9gUGACsTgPMLSjSHFv\n",
       "YOBpuAJirWVgSEWRYn/AsJjLAMQ6wMCwHWKQaWgQiOZiYNjJPgEixRIFotl0FsD0cRbMBovMM1cC\n",
       "iz2CyzAwL7ACUbwMHalg3XoI23w5DkCkGDjAdiogpCBOZ1gDNPMDyHzR0NDQYIh7HK4xMACNzwQy\n",
       "BUDuMoBrWswHZNcxMFwA2loAEgiAS1UCfcb1AWzFxAcggTNwp2/IBvo7gIFrBwNbGFiEyQHudC0G\n",
       "PhMDBpZpZ+5ARLiKsyCMRCNhY3nhCyC3wwDbZUhAwQAvA06wBrdUJk4ZAItVMv4UXp5KAAAAAElF\n",
       "TkSuQmCC\n",
       "\" style=\"display:inline;vertical-align:middle;\" /></a> <a class=\"ProveItLink\" href=\"../__pv_it/demonstrations/5e2dbd5013c53ee795a40d5a77860536e98ab24d0/proof.ipynb\" style=\"text-decoration: none\">&nbsp;&#x22A2;&nbsp;&nbsp;</a><a class=\"ProveItLink\" href=\"../__pv_it/demonstrations/ee3191a86909e63f7c6fa2bd21670ab4125cc62e0/expr.ipynb\"><img src=\"data:image/png;base64,iVBORw0KGgoAAAANSUhEUgAAAGoAAAAVBAMAAABce2awAAAAMFBMVEX///8yMjJmZmZERES6urrc\n",
       "3NzMzMxUVFR2dnaIiIgiIiIQEBCqqqqYmJju7u4AAADJIfEEAAAAAXRSTlMAQObYZgAAAAlwSFlz\n",
       "AAAOxAAADsQBlSsOGwAAAX5JREFUOMtjeMeAF7BiF76LX5cTKpdH+rfwKusLuHWxdio9wNDFaZ7A\n",
       "IMCIx65MBt4CDF1MCgycF3owdLFcgDL4GhhYFmDoYg9geMxngKGLZwLMLUCDkeyavGqVAMgsBgY1\n",
       "9gS8uk4h/OU4D6aArSAJFoYd7QnoutyCC+XgYcgqBzeW+YEdVFeUA99W1gOouhp4ryyD62IMgOs6\n",
       "wTsBqmsnA4MR5wM0XQwMlxG6EF4QYITGMtMHBgZFDlC4rlq1eteqVQUgbwN1+8N1Za8CAgOwdw+0\n",
       "MDA8AOniBvK7+1D9xQL06Gy4rsdwqx6zAhWXgnS9B6rsP4CqC2S1OVwXF1xXGTDG+D6AdPEDVXaj\n",
       "hSHQ9Wxb4bo4Yb5lUwAKsC8A+8uAgVefDVXXowsMXg6I1CsDD3c5BlYbA3AYdtydx9SJquuY54wJ\n",
       "SGn+uQkkiL0NNxvv39yAK200oOUUDytwisKRv2CptwF7/sKfK/kmkKOLJQG/rtOrVuLO/6dwSAIA\n",
       "aJVrPgNdIGkAAAAASUVORK5CYII=\n",
       "\" style=\"display:inline;vertical-align:middle;\" /></a></span>"
      ],
      "text/plain": [
       "{alpha in Real, beta in Integer} |- floor(alpha + beta) in Integer"
      ]
     },
     "metadata": {},
     "output_type": "display_data"
    }
   ],
   "source": [
    "floor_alpha_plus_beta.deduce_in_number_set(Integer, assumptions=[InSet(alpha, Real), InSet(beta, Integer)])"
   ]
  },
  {
   "cell_type": "markdown",
   "metadata": {},
   "source": [
    "#### <a id='demo03'></a><font size=4>3. Prove that $\\forall_{x\\in\\mathbb{R}}(\\lceil x \\rceil + \\lfloor -x \\rfloor = 0)$ from the theorem $\\forall_{x\\in\\mathbb{R}}(\\lfloor x \\rfloor + \\lceil -x \\rceil = 0)$.</font>\n",
    "<font size=3>One of our theorems in the rounding theory is that $\\forall_{x\\in\\mathbb{R}}(\\lfloor x \\rfloor + \\lceil -x \\rceil = 0)$. We can use that theorem to prove the complementary theorem that $\\forall_{x\\in\\mathbb{R}}(\\lceil x \\rceil + \\lfloor -x \\rfloor = 0)$, essentially by performing a substitution $x \\mapsto -x$.</font>"
   ]
  },
  {
   "cell_type": "markdown",
   "metadata": {},
   "source": [
    "<font size=3>We begin by importing and displaying the original theorem:</font>"
   ]
  },
  {
   "cell_type": "code",
   "execution_count": 32,
   "metadata": {},
   "outputs": [
    {
     "data": {
      "text/html": [
       "<span style=\"font-size:20px;\"> <a class=\"ProveItLink\" href=\"proofs/floor_plus_ceil_of_neg/thm_proof.ipynb\" style=\"text-decoration: none\">&nbsp;&#x22A2;&nbsp;&nbsp;</a><a class=\"ProveItLink\" href=\"../__pv_it/theorems/09c1c9808144ce39895f396d668c36db0ce272ed0/expr.ipynb\"><img src=\"data:image/png;base64,iVBORw0KGgoAAAANSUhEUgAAAOEAAAAVBAMAAABCnpRGAAAAMFBMVEX///+IiIgiIiIQEBB2dnbu\n",
       "7u5ERETMzMzc3NwyMjK6urpmZmaYmJiqqqpUVFQAAAB6qHgnAAAAAXRSTlMAQObYZgAAAAlwSFlz\n",
       "AAAOxAAADsQBlSsOGwAAAppJREFUSMedlk+I00AUxl+6SZs2yZI9LKiLpRsPelApIgieIqyiByWC\n",
       "rshetqDRkxTRq0b3LlUQPHio4EV0seiCrhapigdRMKxeBKEVwbMHBcGL703+NJ1OGkhghsnHl/lN\n",
       "5r15CcDEy8OmApwcKirnqFiWOapsWDuDB1Pmm3hJPnZbAT4OpYecRe+NP4aee+IJSR7Q4FsK8Qs2\n",
       "w85DlMblhTmPyS/o5o4YqLSwOw15iHCbF8u+soPJVyg2y2KiRrN1xcRKbzLxAy++ATjE5LIDIPti\n",
       "4hR1dTHRMCcTpxxOvADQd0imJ8opYfxKM7fyEcu8/g/gqs/kPZa1N4W4Rjtrh8Tj1VMLfgYx4ZEH\n",
       "XE4QscfkZwBnU4h3o7USsSN912oZxIRHp72BJxZduylXfiPRZPINUJPL2Tjy6mY03oWt4AdE3dP/\n",
       "TPcmE5Meoz66eka0mVx05HaolqpuW5LhsB3e76cMaAfEEmitOI6aZW3DaAxConKLvUoz6Sn94nYV\n",
       "iY9NJhtmnDgvm3h0JXhnCog4MrMzZ+ip1Mczp+8Hcus1djPP5zxWJ5A42xHsKq7QU5ws4tBj1Ebj\n",
       "CC7AJyeQj2IdkLyfZX+RlVJZbUSTNLAVzYC42P4BcsY7Jj06X1XeAqyH8gqGQ4dGCR4xonYm9h6L\n",
       "shyJ/ctPYTWDmPRoNkcs+Mq+UJ5ukvAX4L3rur4kyauR6SJlQC0gLs0YXT+DmPQU2nyRXqs2k3Kp\n",
       "rsIl9o5S5X5UoAq0lu35as518RGP5RW5peE5YXGEg1Hm6J2wJOeo5F0xMZa1LQdmQT2Howeb7aX1\n",
       "SD5PqePl+VqlfI54+YTrju4+Za+ynIdYFP9fFLN+O1QK1jWAz9Z89A8zz1kMwZcOE2KTeEKU/wNI\n",
       "bM4bcAiCJAAAAABJRU5ErkJggg==\n",
       "\" style=\"display:inline;vertical-align:middle;\" /></a></span>"
      ],
      "text/plain": [
       "|- forall_{x in Real} ((floor(x) + ceil(-x)) = 0)"
      ]
     },
     "metadata": {},
     "output_type": "display_data"
    }
   ],
   "source": [
    "from proveit.numbers.rounding import floor_plus_ceil_of_neg\n",
    "floor_plus_ceil_of_neg"
   ]
  },
  {
   "cell_type": "markdown",
   "metadata": {},
   "source": [
    "<font size=3>Then we instantiate that general theorem, mapping $x$ to $-x$ (and explicitly include the required assumption that $x\\in\\mathbb{R}$).</font>"
   ]
  },
  {
   "cell_type": "code",
   "execution_count": 33,
   "metadata": {},
   "outputs": [
    {
     "data": {
      "text/html": [
       "<strong id=\"floor_plus_ceil_of_neg_spec\">floor_plus_ceil_of_neg_spec:</strong> <span style=\"font-size:20px;\"><a class=\"ProveItLink\" href=\"../../ordering/__pv_it/theorems/d1323f34847310a404e8089c2c268d3c2eb89dbf0/expr.ipynb\"><img src=\"data:image/png;base64,iVBORw0KGgoAAAANSUhEUgAAADQAAAAQBAMAAACra0H4AAAAMFBMVEX///9ERES6uroQEBAyMjLc\n",
       "3NyYmJgiIiJmZmaqqqp2dnbMzMxUVFSIiIju7u4AAAAd7oVFAAAAAXRSTlMAQObYZgAAAAlwSFlz\n",
       "AAAOxAAADsQBlSsOGwAAAMtJREFUGNNjYMAAbM6CX4rFGLACRtYDTMfkcEgtYBDYg1OqlQVF6GJ5\n",
       "uQNcihFZRuUekq5zb4CMt3der5oApFn9kAzklnQFMhp4z3IUAGmWAISUSX3tA6AvAtj+8SSApJCc\n",
       "sSwPZCk3AwfYbobN5UAgADVQLg0sxnwBTD1EdvwOxgcgln4AH4hmR5bi2ArU/1DhMAMXSID3ApIU\n",
       "n8A1Bob5+5oZNMEingipBoY0RgWGF3c52yaARd4IPYCF/McARpGfyMGhJQ4JKCgAAF8xNF8aQs/g\n",
       "AAAAAElFTkSuQmCC\n",
       "\" style=\"display:inline;vertical-align:middle;\" /></a> <a class=\"ProveItLink\" href=\"../__pv_it/demonstrations/bf361933946e2d6d04a0d997d69106954fe21bce0/proof.ipynb\" style=\"text-decoration: none\">&nbsp;&#x22A2;&nbsp;&nbsp;</a><a class=\"ProveItLink\" href=\"../__pv_it/demonstrations/2e7b0b805f48e9bf44c562186f18155a86695ffb0/expr.ipynb\"><img src=\"data:image/png;base64,iVBORw0KGgoAAAANSUhEUgAAAJkAAAAVBAMAAACnAFEqAAAAMFBMVEX////MzMxUVFRERES6uroi\n",
       "IiIQEBCYmJhmZmYyMjLu7u52dnaqqqqIiIjc3NwAAACW8nlqAAAAAXRSTlMAQObYZgAAAAlwSFlz\n",
       "AAAOxAAADsQBlSsOGwAAAYFJREFUOMud1L1Lw0AYBvBHibY90tDFyaFugqO62k0d/cDbVCqogyAE\n",
       "REUQdekgQXBzDbioU6mjDlkURaWhiy5Cwb/ATRDEJH7k7s1dh7spzdP73d0b7gXQBvORGW3ye5wv\n",
       "/DzYnLtwoBnFADk389Y6IC+2pcwKNdoDDDQ8Z2ZcvUTHYcdGWoEWpxCwRSDvdtYm1VqOrrYJXAK9\n",
       "6Kw9qTWskQnDQNPHvaF2QiZ8AOUAHtHY61D/tUYTs4aMsVhzkzVELY9WWNNoYraT/JknYwBwPiMt\n",
       "xDzR9rDvD2o0MbuV95ZodSz/aufJKjMo4TCtW43zVc5n/zQxK5OTRtpU+K+lY73DV0iziexXaAaZ\n",
       "k8L6woVOE7IbuW4YQVQGjMkaG+2uoq7WpGyD7G0LcRkasma/n1WtQK1JmUe0noAtAX1kb0fh3a6m\n",
       "blI2RzTmtUqRWTK6C860siHF19fg1udddX+rGHWkN023PDXSKhrNCWGvcLkzR72fturH9LGrjmJb\n",
       "aX0D2EqL3/lwgo0AAAAASUVORK5CYII=\n",
       "\" style=\"display:inline;vertical-align:middle;\" /></a></span><br>"
      ],
      "text/plain": [
       "<IPython.core.display.HTML object>"
      ]
     },
     "metadata": {},
     "output_type": "display_data"
    }
   ],
   "source": [
    "from proveit.numbers import Neg\n",
    "floor_plus_ceil_of_neg_spec = floor_plus_ceil_of_neg.instantiate(\n",
    "    {x:Neg(x)}, assumptions=[InSet(x, Real)])"
   ]
  },
  {
   "cell_type": "markdown",
   "metadata": {},
   "source": [
    "<font size=3>And generalize to our desired universal claim:</font>"
   ]
  },
  {
   "cell_type": "code",
   "execution_count": 34,
   "metadata": {},
   "outputs": [
    {
     "data": {
      "text/html": [
       "<span style=\"font-size:20px;\"> <a class=\"ProveItLink\" href=\"../__pv_it/demonstrations/3daca6e8e61cf578b3fdb7db3160d4113e411c920/proof.ipynb\" style=\"text-decoration: none\">&nbsp;&#x22A2;&nbsp;&nbsp;</a><a class=\"ProveItLink\" href=\"../__pv_it/demonstrations/6cccb9d438dc706323ef10f62ab9a25cd74287eb0/expr.ipynb\"><img src=\"data:image/png;base64,iVBORw0KGgoAAAANSUhEUgAAAOEAAAAVBAMAAABCnpRGAAAAMFBMVEX///+IiIgiIiIQEBB2dnbu\n",
       "7u5ERETMzMzc3NwyMjK6urpmZmaYmJiqqqpUVFQAAAB6qHgnAAAAAXRSTlMAQObYZgAAAAlwSFlz\n",
       "AAAOxAAADsQBlSsOGwAAAptJREFUSMedlkGI00AUhl+6SZs2yZI9LKiLpcaDHlSKCIKnCKvoQYmg\n",
       "K7KXLWj0JEX0qtG9SxUEDx4qeBFdLLqgq0Wq4kEUHKoXQWhF8OxBQfDivGmSnUxnKmRghpn/Zeab\n",
       "zHt5E4CJJaLVBDgxbjGFccXz3FGv7+0YTVSsN7FohDabAT6Mmx4IY7uXsd2VL4jyEDtfFcTPtDp+\n",
       "HqLWG5sxPxcx+TkObsuBRos2pyAPEW6JE8rE2M7ky+iTJTnRwlW6k4mVnpz4XpzwGuAgk8sBgE7k\n",
       "xCls6pOJjisnTgXChPMAgwBlfLKscOMXXLGVj1gWHfkX4Aph8m7P26MgruLJ+gLxWPXkPFEQOZs+\n",
       "FGICiT0mPwU4oyDeSfbKEzvaN6umIHI2G88GHntYdmGs/KJEl8nXweS30z/88kbS30lrgWSJdmT/\n",
       "nu7JibzNqQsZA4k+k4uB3o7VUjVsazoc8uPxPoyA9oho3GTbbZbAaqV+tDxvK/XKMCbyttJP4VQp\n",
       "8ZHLZMdNA+dFk366Grx1JUQugl115KzbKvXxyBmQkdx6RZuZZ3MRyxOUONuZcKp0p5ERqIjrNqeW\n",
       "9SOEAB+DkXyE5gEt+lEmCyyV6mYjCewGrUU3S1xofwdd8Y68zRazyhuAtVhepm6woVGCh4xonU6f\n",
       "PZpEOUccXHoCKwoib7N8gVggxt5Ynm6i8AfgXRiGRNP0leShCxgBtSxxccbpEgWRtxXaYpJerTZ5\n",
       "uVQ34SJ7R61yL0lQBdzLtnw555r8E0/lZb1l0e+E+REOJJFjd+KUnCOTd+XEVLY27Z8F8yzt3d/o\n",
       "L64l8jkMnSjPbaW4jkT5eBhmTx+j11jKQyzK/y+K//vtMNFJVwE+eVuyhr4ogMPdeDQgNsgXpPI/\n",
       "62LOG0Ww07sAAAAASUVORK5CYII=\n",
       "\" style=\"display:inline;vertical-align:middle;\" /></a></span>"
      ],
      "text/plain": [
       "|- forall_{x in Real} ((floor(-x) + ceil(x)) = 0)"
      ]
     },
     "metadata": {},
     "output_type": "display_data"
    }
   ],
   "source": [
    "floor_plus_ceil_of_neg_spec.generalize(x, domain=Real)"
   ]
  },
  {
   "cell_type": "markdown",
   "metadata": {},
   "source": [
    "## Misc Testing\n",
    "The material below was developed to test various rounding-related methods. Some of this material could be integrated into the `_demonstrations_` page eventually and/or deleted as development continues."
   ]
  },
  {
   "cell_type": "markdown",
   "metadata": {},
   "source": [
    "### Example `Ceil`, `Floor`, and `Round` Expressions"
   ]
  },
  {
   "cell_type": "code",
   "execution_count": 35,
   "metadata": {},
   "outputs": [
    {
     "data": {
      "text/html": [
       "<strong id=\"ceil_2\">ceil_2:</strong> <a class=\"ProveItLink\" href=\"../__pv_it/demonstrations/0e59f9bd1ae96e9218e87188b5ea6607f0e587780/expr.ipynb\"><img src=\"data:image/png;base64,iVBORw0KGgoAAAANSUhEUgAAABcAAAAVBAMAAABfzGiYAAAAMFBMVEX////u7u4QEBBUVFR2dnbM\n",
       "zMxEREQyMjJmZmbc3NyqqqqYmJiIiIgiIiK6uroAAAAyDowUAAAAAXRSTlMAQObYZgAAAAlwSFlz\n",
       "AAAOxAAADsQBlSsOGwAAAHJJREFUGNNjeHv3DgMIcN29u4FhNwMM8DWAOZwdZQFwzjQGln9wjiUD\n",
       "gxKcoy/AYD8BxrFlYLAPgHGA4D4DgsP6B4nDa4DEaUNYysBtgMRZwsAJN5rVgYFHAMaZ29HRC1d2\n",
       "////70imIXmBCM4qOIfVAQAPSC4jVKE0pAAAAABJRU5ErkJggg==\n",
       "\" style=\"display:inline;vertical-align:middle;\" /></a><br>"
      ],
      "text/plain": [
       "<IPython.core.display.HTML object>"
      ]
     },
     "metadata": {},
     "output_type": "display_data"
    },
    {
     "data": {
      "text/html": [
       "<strong id=\"ceil_x_minus_y\">ceil_x_minus_y:</strong> <a class=\"ProveItLink\" href=\"../__pv_it/demonstrations/5e296efcc2b896d21019b0c54108c61490c5d1130/expr.ipynb\"><img src=\"data:image/png;base64,iVBORw0KGgoAAAANSUhEUgAAAD0AAAAVBAMAAAAHs/uBAAAAMFBMVEX///9EREQQEBAyMjLc3Nxm\n",
       "ZmZ2dnbMzMxUVFTu7u6qqqqYmJiIiIgiIiK6uroAAAAc1BPlAAAAAXRSTlMAQObYZgAAAAlwSFlz\n",
       "AAAOxAAADsQBlSsOGwAAALZJREFUKM9jeHv3DgMOwHX37gaG3Qx4AF/AkJDnPNNZloUiwXl0A8MM\n",
       "uDwrw4kDsSjybFwKDPvh8lsY9k/oRpGvYr3A0AiXL2AIBotOvgsC14GsCUwHGHSQ3KeD7rL3E9i/\n",
       "I+T5vjDMRJUPZuBRgMlzynEoMCSgykswMDbA5Lm+T1XgW4AqH8HwfgNcf8yBpbvQ7J+RE++AP/yS\n",
       "8YUvmwGnFj553gMcCfjkufbEQeNnFb74Y08AAGCGQEAaJ0zIAAAAAElFTkSuQmCC\n",
       "\" style=\"display:inline;vertical-align:middle;\" /></a><br>"
      ],
      "text/plain": [
       "<IPython.core.display.HTML object>"
      ]
     },
     "metadata": {},
     "output_type": "display_data"
    },
    {
     "data": {
      "text/html": [
       "<strong id=\"ceil_x_minus_y_plus_2\">ceil_x_minus_y_plus_2:</strong> <a class=\"ProveItLink\" href=\"../__pv_it/demonstrations/7530ee1d53014472c5afc104cebb108542505de90/expr.ipynb\"><img src=\"data:image/png;base64,iVBORw0KGgoAAAANSUhEUgAAAHAAAAAVBAMAAABs93eRAAAAMFBMVEX////MzMxUVFREREQQEBBm\n",
       "ZmYyMjLu7u52dnbc3NyqqqqYmJiIiIgiIiK6uroAAACaAm0XAAAAAXRSTlMAQObYZgAAAAlwSFlz\n",
       "AAAOxAAADsQBlSsOGwAAAZhJREFUOMt9079Lw0AUB/Bv08S0aRMci4uCg4NL9Q+QzKKL0C7+yuYa\n",
       "Cta1k4MIdnEQFLq4CEIQOvgDGgQRxSEVnTTQxU1pO0mnekm8tBdyeRAuecknudy9hx/3E0AWvKjH\n",
       "JS/dD9z6Z89c+B2f/gqgUuPCvBVJHJcXRrAKfuywl9kijjohXE+Azf9RCz4t1CHqIdQToGgGo2IH\n",
       "l78QBhQqRgKcsBgoOBD6FEpkbeSXucIBI+QHCxUgM8NAEmqPQu+lEu7tTQZmFB0tIGdE4bRNodoA\n",
       "rtEy5xk4JTmYJUCPwtdwO0SyvpMo+9mq60WbnJmijRUg1fN+xnXfVl3Xn7VUZCC8h9jomimyDFr0\n",
       "i1ejyvGmCm2APRaWkSdIcVhIquyEwrQNeUnQESm8RaTJ3HJFFhaARwrJiiv9XV1rsHANXSvYqzGY\n",
       "fS+VHApTDuQN+/wm8o+Vw23SVGqHgepwODTCkmtzqmafHGeIbsdYWzXjVMaQl8caQLNiYDquz1Vb\n",
       "qPltlNDIctxd5W6L904PXvjjKbc5nuLThT9QmoF2WGjObwAAAABJRU5ErkJggg==\n",
       "\" style=\"display:inline;vertical-align:middle;\" /></a><br>"
      ],
      "text/plain": [
       "<IPython.core.display.HTML object>"
      ]
     },
     "metadata": {},
     "output_type": "display_data"
    },
    {
     "data": {
      "text/html": [
       "<strong id=\"ceil_x\">ceil_x:</strong> <a class=\"ProveItLink\" href=\"../__pv_it/axioms/0eb233226f3d6c4c9cc92c9ced4c48c688e6a2d00/expr.ipynb\"><img src=\"data:image/png;base64,iVBORw0KGgoAAAANSUhEUgAAABgAAAAVBAMAAACuxzMVAAAAMFBMVEX///9EREQQEBAyMjLc3Nxm\n",
       "ZmZ2dnbMzMxUVFTu7u6qqqqYmJiIiIgiIiK6uroAAAAc1BPlAAAAAXRSTlMAQObYZgAAAAlwSFlz\n",
       "AAAOxAAADsQBlSsOGwAAAFpJREFUGNNjeHv3DgMYrL17m2E3Axw8pQ5nzonpaQtgnACeHtYLUA63\n",
       "A/dPjg1QDjsDqwGSAUwHkDjvHTgnQDkTHzQxsMFk1lcGMbyCcaae4YpeQLZDVyE4ZQCB6zVaUvo9\n",
       "TgAAAABJRU5ErkJggg==\n",
       "\" style=\"display:inline;vertical-align:middle;\" /></a><br>"
      ],
      "text/plain": [
       "<IPython.core.display.HTML object>"
      ]
     },
     "metadata": {},
     "output_type": "display_data"
    },
    {
     "data": {
      "text/html": [
       "<strong id=\"ceil_y\">ceil_y:</strong> <a class=\"ProveItLink\" href=\"../__pv_it/demonstrations/02657c8d10614f67ff1392ce05fc443d5ad09d5e0/expr.ipynb\"><img src=\"data:image/png;base64,iVBORw0KGgoAAAANSUhEUgAAABcAAAAVBAMAAABfzGiYAAAAMFBMVEX////c3NwyMjJERETMzMwQ\n",
       "EBB2dnZUVFRmZmbu7u6qqqqYmJiIiIgiIiK6uroAAAB1xaN8AAAAAXRSTlMAQObYZgAAAAlwSFlz\n",
       "AAAOxAAADsQBlSsOGwAAAHBJREFUGNNjeHv3DgMIcN29u4FhNwMM8DVQhcN5YgPDdBiHjSuAYT+M\n",
       "48VxgaEYxpnAeoAhBm7A+wksX+CcJgaeADjHnIG5AM5pZ3i/Ac6ZntMvgOSCJLgL2BQ4o+Ac3gPs\n",
       "CXAO154+qENXwV3NkgAA3HQwS+N1Y5gAAAAASUVORK5CYII=\n",
       "\" style=\"display:inline;vertical-align:middle;\" /></a><br>"
      ],
      "text/plain": [
       "<IPython.core.display.HTML object>"
      ]
     },
     "metadata": {},
     "output_type": "display_data"
    }
   ],
   "source": [
    "# Some example test expressions involving Ceil\n",
    "ceil_2, ceil_x_minus_y, ceil_x_minus_y_plus_2, ceil_x, ceil_y = (\n",
    "    Ceil(two), Ceil(subtract(x,y)), Ceil(Add(subtract(x,y), two)), Ceil(x), Ceil(y))"
   ]
  },
  {
   "cell_type": "code",
   "execution_count": 36,
   "metadata": {},
   "outputs": [
    {
     "data": {
      "text/html": [
       "<strong id=\"floor_2\">floor_2:</strong> <a class=\"ProveItLink\" href=\"../__pv_it/demonstrations/a8a18d147ea5eb0480e5dae84019a8ab390292b50/expr.ipynb\"><img src=\"data:image/png;base64,iVBORw0KGgoAAAANSUhEUgAAABcAAAAVBAMAAABfzGiYAAAAMFBMVEX///9UVFS6urp2dnbMzMxE\n",
       "REQyMjJmZmbc3NyIiIgiIiIQEBCqqqqYmJju7u4AAABNPSixAAAAAXRSTlMAQObYZgAAAAlwSFlz\n",
       "AAAOxAAADsQBlSsOGwAAAHBJREFUGNNjeMcABw0Md+FspgIwh6M81QHOaWVg/gTnSDAw7IZz9j9g\n",
       "kG+AcaQYGOQdYBwgWM+A4LD8ROJwCSBxShGWMvAKIHEOM3DAjWYxYOB8AON0lZdXwZWt////G5Jp\n",
       "SF4ggnN61Uowk2fVqgkASkIu169VExcAAAAASUVORK5CYII=\n",
       "\" style=\"display:inline;vertical-align:middle;\" /></a><br>"
      ],
      "text/plain": [
       "<IPython.core.display.HTML object>"
      ]
     },
     "metadata": {},
     "output_type": "display_data"
    },
    {
     "data": {
      "text/html": [
       "<strong id=\"floor_x_plus_y\">floor_x_plus_y:</strong> <a class=\"ProveItLink\" href=\"../__pv_it/theorems/650fad3b9f030f749416a193d1e72df10d7ddb610/expr.ipynb\"><img src=\"data:image/png;base64,iVBORw0KGgoAAAANSUhEUgAAAD0AAAAVBAMAAAAHs/uBAAAAMFBMVEX///9ERES6uroyMjLc3Nxm\n",
       "ZmZ2dnbMzMxUVFSIiIgiIiIQEBCqqqqYmJju7u4AAAC1Kov9AAAAAXRSTlMAQObYZgAAAAlwSFlz\n",
       "AAAOxAAADsQBlSsOGwAAAL5JREFUKM9jeMeADzgw3MUnzRRAbXldAvInyZHnm9lXloMizzf1AsML\n",
       "uDwrw4wJUSjybDwbGO7D5a8w3H/QiyJfw7qAoREuX8AQDBaNWrVq96pVK4CsB9wTGHYiuW8nuvv0\n",
       "H7B/R8gzfWF4hyofzMC5ASbPJ8SxgSEBVV6CgbEBJs/z/ekGpgOo8hEM+hfg+iMnHL2DZv+LzHgH\n",
       "/OGXjC9+2Az49uCLX64JHAn45HluBkHj5/SqlbhSB8+qVRMAwu9My6MVHY0AAAAASUVORK5CYII=\n",
       "\" style=\"display:inline;vertical-align:middle;\" /></a><br>"
      ],
      "text/plain": [
       "<IPython.core.display.HTML object>"
      ]
     },
     "metadata": {},
     "output_type": "display_data"
    },
    {
     "data": {
      "text/html": [
       "<strong id=\"floor_x_plus_y_plus_1\">floor_x_plus_y_plus_1:</strong> <a class=\"ProveItLink\" href=\"../__pv_it/demonstrations/3d426bb180a97ac43a83a6a3119279c7e717ef6d0/expr.ipynb\"><img src=\"data:image/png;base64,iVBORw0KGgoAAAANSUhEUgAAAHAAAAAVBAMAAABs93eRAAAAMFBMVEX////MzMxUVFRERES6urpm\n",
       "ZmYyMjJ2dnbc3NyIiIgiIiIQEBCqqqqYmJju7u4AAAD2l1fMAAAAAXRSTlMAQObYZgAAAAlwSFlz\n",
       "AAAOxAAADsQBlSsOGwAAAXNJREFUOMt907tKA0EUBuA/ycbcJoOdIBZBsVSC+ABpLCwkIBIwIAYf\n",
       "QFMJgmBarRZBUBCMdhmbbb2AaSzUZpuAgpIloGUwnaWzicY9cU4Gltk5O9/cdg7a8EscXKmYw3G8\n",
       "detTFi6awws9KMosTLiDkXHvD36AL5u0Kae3AnCNfFsircZPbf1OfRaADun6QFopr1cL+z8UpSFw\n",
       "xOVhVJ+NPJkd2yVQHrloAbEMD/1Bozi0iwTGhIMmkC7xMFkHntH0ZgiciFYxpYHDw1QOGEWhGy4q\n",
       "daPUhX7zUjaugNCnvxmlLq+Vyhgg/E70cPJeqKN/gzN8qbC+0KawgIRGosrDiA05H3ZQpnAOEb22\n",
       "dJaH+sRF592x6hQuI+/2/hWBe5U+DFUhV+3714E9tnbWdZ9kjsLJuw23f+XOmZuzrZ8DDMwYTKuG\n",
       "6ZLHSvI2kACWa4ARU54n7bDeXjw7LJGl6at4WeHG9OGTqul6n83jY1PwUdW+AXVugiUUwFozAAAA\n",
       "AElFTkSuQmCC\n",
       "\" style=\"display:inline;vertical-align:middle;\" /></a><br>"
      ],
      "text/plain": [
       "<IPython.core.display.HTML object>"
      ]
     },
     "metadata": {},
     "output_type": "display_data"
    }
   ],
   "source": [
    "# Some example test expressions involving Floor\n",
    "floor_2, floor_x_plus_y, floor_x_plus_y_plus_1 = (\n",
    "    Floor(two), Floor(Add(x, y)), Floor(Add(Add(x,y), one)))"
   ]
  },
  {
   "cell_type": "code",
   "execution_count": 37,
   "metadata": {},
   "outputs": [
    {
     "data": {
      "text/html": [
       "<strong id=\"round_2\">round_2:</strong> <a class=\"ProveItLink\" href=\"../__pv_it/demonstrations/225df32b1a87772eca7645fb551c04a32b7e62760/expr.ipynb\"><img src=\"data:image/png;base64,iVBORw0KGgoAAAANSUhEUgAAAFMAAAAVBAMAAADInc9CAAAAMFBMVEX///+qqqpUVFSIiIi6urru\n",
       "7u4iIiIyMjIQEBCYmJhmZmbc3NxERER2dnbMzMwAAADprbYgAAAAAXRSTlMAQObYZgAAAAlwSFlz\n",
       "AAAOxAAADsQBlSsOGwAAAbhJREFUKM+Fkj9IG3EUxz9ncsnl/sTsUhIIVIpIoqMFOWgHN48uDh0u\n",
       "0K2gZilIcQi66CBmcelQi4NgUDgUAkKhR7s5HQQ6tSUdCh1TjJQiNH2/pBFc7n7De+/37vve+/6+\n",
       "9yDhWCMXkHzmRu5JHCa/8U6sFmG1NrukmnHYyYKYFXiP04dXcdBlT8wJzMAOvImDflamAfselQDD\n",
       "i4G+VlTr8BAqXbJN8l+sM6HcmXf1hSYTXnr+eeeTaDS7+EugZjSsWgenhGOfOQ3arnXraA0O5V7G\n",
       "D1gK7BvBZIcPz19Drs5ltialL2D1u1ljmqeZkA9dfRdTZpNRKpApCZUGPyal0OzBlmdU2cbzXYqe\n",
       "JDJqtuEq6Knq3BtpYoRY1xJZf6GI9JaE746hOWlKWrQ4Fu9XcW4lSvUUjj+6JA4ZE3iAFaDVhKP6\n",
       "MU2MiI/Y4QF7aDeOX2BakxWxqzI6IuWRk8F9pUmJKzjiZxQJh1T9rV3VXpoMJaLdah0PZUvX1KCv\n",
       "C0LqWWeq3JW7/qigl7+dL6rHyNf1weC3UHGTdnBtHLQT1/VuS04Sofb/9bfCRKge3i+JOxcj9xj+\n",
       "AXIEalISyrqWAAAAAElFTkSuQmCC\n",
       "\" style=\"display:inline;vertical-align:middle;\" /></a><br>"
      ],
      "text/plain": [
       "<IPython.core.display.HTML object>"
      ]
     },
     "metadata": {},
     "output_type": "display_data"
    },
    {
     "data": {
      "text/html": [
       "<strong id=\"round_x\">round_x:</strong> <a class=\"ProveItLink\" href=\"../__pv_it/demonstrations/53c17575b742ba698ad41e0baf6cc4dd395328730/expr.ipynb\"><img src=\"data:image/png;base64,iVBORw0KGgoAAAANSUhEUgAAAFUAAAAVBAMAAADFg78FAAAAMFBMVEX///+qqqpUVFSIiIi6urru\n",
       "7u4iIiIyMjIQEBCYmJhmZmbc3NxERER2dnbMzMwAAADprbYgAAAAAXRSTlMAQObYZgAAAAlwSFlz\n",
       "AAAOxAAADsQBlSsOGwAAAaxJREFUKM+FUztIw1AUPWmTNs2nzaxDC0VKByHWrUIJ6OBmEETQoQU3\n",
       "QekiiFPQyUGog4uCFQWlQ6EoFJwM6uRUKTip1EFwESraQQrF+9oYwSG5w333PM5977yTG8AnZGet\n",
       "wT/GnHXSixRdP6LMNRwYLHmRYxqleReueXFnTEoVF+57cR9Yslwomh7cDSa36MJwCdFHuUqymxlD\n",
       "yJYQMPnMYvOGrBrNfRBBoqcJ4yPv94CagKpUVQt1Q+6qnIUy4STyNUzXlM7gMEjI6KdApIjLcIGa\n",
       "l4CVF6mAFKZCNq5awjYkdn2IvDhA2UyTHAuvMdbaBjZNUccWzLyBuEkbIeasaAAtnPX9bg+sEW3I\n",
       "n1TJPSAOOp02qGfABZ1AwZMlJAV5HWqXqmCbEfEt0EYZjgbwXcyRhgLpZJ+oBLGBayj2HnbAddS8\n",
       "hhRH46LoEG4DFkhPhO7+YtYkcAcc463RIBnB4qGic8sS+kZxvQWL1/r28QV211OWhM02h5MtwkJa\n",
       "E5LP5zn2IEIn+tAuk2P4jeSqW9V9x/dvYiq+XOX3f5BtX65g/2/yiAtnnQB+ACGUZh8Za1C4AAAA\n",
       "AElFTkSuQmCC\n",
       "\" style=\"display:inline;vertical-align:middle;\" /></a><br>"
      ],
      "text/plain": [
       "<IPython.core.display.HTML object>"
      ]
     },
     "metadata": {},
     "output_type": "display_data"
    },
    {
     "data": {
      "text/html": [
       "<strong id=\"round_x_plus_y\">round_x_plus_y:</strong> <a class=\"ProveItLink\" href=\"../__pv_it/demonstrations/cbda4835e63ee40cfa09c640c2f793e50d1f8ff80/expr.ipynb\"><img src=\"data:image/png;base64,iVBORw0KGgoAAAANSUhEUgAAAHkAAAAVBAMAAACQ4lxbAAAAMFBMVEX///+qqqpUVFSIiIi6urru\n",
       "7u4iIiIyMjIQEBCYmJhmZmbc3NxERER2dnbMzMwAAADprbYgAAAAAXRSTlMAQObYZgAAAAlwSFlz\n",
       "AAAOxAAADsQBlSsOGwAAAgJJREFUOMuFVD9oE2EU/11y3/W8P2nArQ4NBCkFhTPdKpQDHXTKERBB\n",
       "hwSFDIKSRRCnU5d2EE7EpYKRKi0dikGh4GRQJ6eTgC4qcRBchIh2kEDx9+Vcvpq7e3CP773v93v3\n",
       "/tw7IEfs1Jse8uVE6s2pLFrpxmNqLU4FFKMs+myZ6nwG4HoWux5QbSuus4q1nsX+IFWouA4rlhlk\n",
       "sG/KsjsZ7JkIpU/2Dssf1HyxHKEQ6LWLgzcc1PGVnwRYbJpYOvrjvcKWyAbgVuA6O26IXd8eu1qI\n",
       "Lu0qmj2c6Tl7SXhYqHmbCjtB4lAHL2dafMFl4OpXq4UFnDb6eDUUa7Bk0gb7/hDdYFFhS+QxlhXi\n",
       "26wMPwJuB6aHOwiaPuYDOgw5adMHhtiacDbb7dV2+xJPCRKlUTIYsw/7F0/2PjAPZkAHoyRsSKTa\n",
       "tXpQIlLnQGRJTQ/umKfiSFLxR9DRxb/MoY9xTmVvoUim1mK98rOKYMZ4Daf/AHeh7bnNMhY0roHj\n",
       "QbwthIhVNpEVdo0Z/5aDqeAdsIHvcczki51HjqddsTAZirZ/IdTLKnsD9WgyTr0lzc/LLLAxOFId\n",
       "0haLZVH98nxFrgqtJ97cvQN1NwbPmJjh5y3otZRv7SOf3dz1Xp+2JW5H3Ppvg6aJM+0PYngFttHu\n",
       "57LFNIh2/2la4APyIvXmJPAX3Cx7XELwP4UAAAAASUVORK5CYII=\n",
       "\" style=\"display:inline;vertical-align:middle;\" /></a><br>"
      ],
      "text/plain": [
       "<IPython.core.display.HTML object>"
      ]
     },
     "metadata": {},
     "output_type": "display_data"
    },
    {
     "data": {
      "text/html": [
       "<strong id=\"round_1_plus_2\">round_1_plus_2:</strong> <a class=\"ProveItLink\" href=\"../__pv_it/demonstrations/394519e724e0c70e3b2c6590eef1be51952919e10/expr.ipynb\"><img src=\"data:image/png;base64,iVBORw0KGgoAAAANSUhEUgAAAHcAAAAVBAMAAACOK2zoAAAAMFBMVEX///+qqqpUVFSIiIi6urru\n",
       "7u4iIiIyMjIQEBCYmJhmZmbc3NxERER2dnbMzMwAAADprbYgAAAAAXRSTlMAQObYZgAAAAlwSFlz\n",
       "AAAOxAAADsQBlSsOGwAAAfZJREFUOMuVlE1IG0EUx//r7iab/Yi5S0kgoA1SsvUYISzowVsXLz30\n",
       "sAExlEKbXAQpPQQLpT2U7sWLBxUPikFhUQgUCl3qzdNCwJNKPBR6TFGRIlTfJG3Nyn7QB/tm3rz9\n",
       "zfvPzswCMaaEJRzE2+OwxFQUlV5cJ8951Ju/r6b5pgPejqKHM+SeArNbl/cyX6BdAAtR8BOT3DY9\n",
       "/F9Y+FNsHHgPrETBR8w1BmFO77efTBQdSGYE/Jq9Xg+CR4FiB0kb6WNll9S0JwyxZGPIFCaetQ/o\n",
       "mzwq/6TXZC8IJqsBWg6auqs10DKUa41rYI3iPCwHM47KkKQdDKfPgVQdn5MVmn4OeHkmVzCG6YSL\n",
       "rx3xA2SmOJEJhhM5ihr4PkyTy11gyZR0vIVpGciaNJBgiiXjHyxXq8/fVau5HrzDqnf7OyK5UM6p\n",
       "p/wGsqD6NGAZfniwcopNIdBObFJr6dCuqcd3GYlfIg2sIVz2AygOuAqtlR0mG5KHb1DdZXwEd6lZ\n",
       "GYxxdPRVPQhOe+BNpEjuBVtPDofABn54Hinn66uqzr2Q0dsOMFF+uNVsbva2Uaiw8KREi5ttj+Q7\n",
       "FIuFjJg/3SuzGpQdenhV8MO1m5srWpIRdyNfDQYDh4TVj73OvtMv+G7hdiyshv4wFDcWFt3/n/bO\n",
       "9sMSk8AtJf5+qONOSwUAAAAASUVORK5CYII=\n",
       "\" style=\"display:inline;vertical-align:middle;\" /></a><br>"
      ],
      "text/plain": [
       "<IPython.core.display.HTML object>"
      ]
     },
     "metadata": {},
     "output_type": "display_data"
    },
    {
     "data": {
      "text/html": [
       "<strong id=\"round_x_plus_2\">round_x_plus_2:</strong> <a class=\"ProveItLink\" href=\"../__pv_it/demonstrations/36a5eb6145185b3503aef2e3684341cafa02bc3c0/expr.ipynb\"><img src=\"data:image/png;base64,iVBORw0KGgoAAAANSUhEUgAAAHcAAAAVBAMAAACOK2zoAAAAMFBMVEX///+qqqpUVFSIiIi6urru\n",
       "7u4iIiIyMjIQEBCYmJhmZmbc3NxERER2dnbMzMwAAADprbYgAAAAAXRSTlMAQObYZgAAAAlwSFlz\n",
       "AAAOxAAADsQBlSsOGwAAAhJJREFUOMuVlE1oE0EUx39pPnc3mwYEFaQ0UCOCSFd78OBXpCB4cmkR\n",
       "RIpEkZwszcWD4CGgh6IW16unIFJNMLj0IAhKij0quFi8+ZFL9eDBlDaICNY3riAbkiw+mLfL/Of/\n",
       "3n/emxkIMfe/gX8WzfZDJgfRvtxUfqQXZNSvtYg6g9jrMuLlXshzzE24MoAb64jTg+FP+Z99MA/3\n",
       "BpDNorhUcG6b/7ljM+6SsvuTk1VxO3qS98B4i6RD5r3RcDAndjNdgzyT+RdHLFha/abq3JAxffD8\n",
       "h2yALDYn0nKY6YZZMS7RdL2daG28l1b8J7FbvFGqrsqoRsf0Yhc5swFamWfJou4lLBIfs4sMlWOF\n",
       "yxi/OOvwUC26IGtcrTPkdJETOYhUWBsW4ImUJs91UlY8vkmkoyZm1aIbkgTd79diqTRfKl388/9Y\n",
       "ZW/DaZF3G5qW9KbZItKW/DIhQXyyxLW6CoaWU72sSEA5CrKDT65s7DiKOeyc2VDb92VLeDduB8kj\n",
       "GC6Roi/vByyQzvFas1Meo/a7dQmyS4AVmCnsxQxmznhEbbRlDCXvPukqei6zYCrlh7TWCturqs9v\n",
       "YXTtESeC5Kf1uujVPWKqC+bqAxG//8DSMU7C1F2mjn4dawnwGc5NRGrZIHlua+u7VLwQciMTrV4n\n",
       "7G/+sOusVXtdDN9qoY/Bq76IsRxKnumLpMPfIcPqhxyG3wmmf9DcthD0AAAAAElFTkSuQmCC\n",
       "\" style=\"display:inline;vertical-align:middle;\" /></a><br>"
      ],
      "text/plain": [
       "<IPython.core.display.HTML object>"
      ]
     },
     "metadata": {},
     "output_type": "display_data"
    }
   ],
   "source": [
    "# Some example test expressions involving Round\n",
    "round_2, round_x, round_x_plus_y, round_1_plus_2, round_x_plus_2 = (\n",
    "    Round(two), Round(x), Round(Add(x, y)), Round(Add(one, two)), Round(Add(x, two)))"
   ]
  },
  {
   "cell_type": "code",
   "execution_count": 38,
   "metadata": {},
   "outputs": [
    {
     "data": {
      "text/html": [
       "<strong id=\"round_add_xy12\">round_add_xy12:</strong> <a class=\"ProveItLink\" href=\"../__pv_it/demonstrations/1ffbf581a5ed466e01edc5fa19669c87abf299700/expr.ipynb\"><img src=\"data:image/png;base64,iVBORw0KGgoAAAANSUhEUgAAAL8AAAAVBAMAAADlQyK9AAAAMFBMVEX///+qqqpUVFSIiIi6urru\n",
       "7u4iIiIyMjIQEBCYmJhmZmbc3NxERER2dnbMzMwAAADprbYgAAAAAXRSTlMAQObYZgAAAAlwSFlz\n",
       "AAAOxAAADsQBlSsOGwAAAoJJREFUOMulVU1oE0EYfWl2k+xuNg0U/EGkwRoRJXS1B6X+NFIQPHVp\n",
       "EYoUSavkpDQIHgTBgB6KWrpePQWRaoLBpQdBUBLao4KLRbyo3UvrwUNb2iClYP2mKSWTxEwwAzOw\n",
       "b9+bN9+333wLCIaNFkYTYm+4FYP+Ri9/PmTrwWb3WjL5Zy1314XXaiRZpSmnmttePnavyuAd9HXg\n",
       "dgONVKJF5Y9wqYa1i/SZPHIcmACeNjDQE7QEeKyjhtVRY7CDTJnothEw/23gz9Cy978NjgDdLvwW\n",
       "Qt+0vAW95zCGskAU/dH3Zw1gZn6Z1U+e5tDJq9/DnJiYckRgQGOc0hCBHszrae06CrazD8oKnFlD\n",
       "3oT0CJ+Y4g7NjLdLTXDiMlNkEFoDlBTe+hOq4zPg+xGeRltKit+A9gfDFl4w0ihxbKXUZlWKQ4xZ\n",
       "FBr4KEhPGovtJH5NnzOK+wgYsrwOT4kBNxnpAW0HtVyr08nkRDI5RjW5zaxEdg0qkVfsLBToAL15\n",
       "DBQMqsuCC88KxUEAGZUNUN6s8nTEXHZFESjsK0lpMqUjUbYWbEp0H9ju7dbltZ0kj7JlwJZNTkwh\n",
       "nRZVEfUAzYYnUU7FBjCJYAQfFTPgoNP8skpGB+jFHDASPwqdFxNzVmQQcuA1oRShsVQ8QzADNRKa\n",
       "1FmWTinuHPZk2D34DHQuvsQFXqxGpI1qgwWbR97kcpQb1YHEKlCff06Jip2YOY+LwOATDJ771cWy\n",
       "vARc6fFkw7xYjvVuVhkcmrrFVRrGt7Z+UyXFBU3M59a/t3pKfLe34xB1SSVTr7V9xXBY3P7YyAr7\n",
       "8Id64DXEmuviWlFIGakH7u+NN2cQFP8zNaOVX+YZ4C/4EKMPV84S/wAAAABJRU5ErkJggg==\n",
       "\" style=\"display:inline;vertical-align:middle;\" /></a><br>"
      ],
      "text/plain": [
       "<IPython.core.display.HTML object>"
      ]
     },
     "metadata": {},
     "output_type": "display_data"
    },
    {
     "data": {
      "text/html": [
       "<strong id=\"round_add_add\">round_add_add:</strong> <a class=\"ProveItLink\" href=\"../__pv_it/demonstrations/2ce73d428eb69d45cc7ae4b1a774d53d6d5eee960/expr.ipynb\"><img src=\"data:image/png;base64,iVBORw0KGgoAAAANSUhEUgAAAOEAAAAVBAMAAABCnpRGAAAAMFBMVEX///+qqqpUVFSIiIi6urru\n",
       "7u4iIiIyMjIQEBCYmJhmZmbc3NxERER2dnbMzMwAAADprbYgAAAAAXRSTlMAQObYZgAAAAlwSFlz\n",
       "AAAOxAAADsQBlSsOGwAAAupJREFUSMeVlkFo01AYx/9pm65rmqxnRTYYOofK4rxNGIV58LZQEEEP\n",
       "LYhFhG29DGR4iAqiB7EiXiY4mbLhcBgUBoJgUE+eIgW9qNSD4EWYbGXIYPN7ednMS142/cM/JB+/\n",
       "933vfWm+DdhFWmC5HPmCRNbB7joaWK4R+YJEdmSnUsalh3RVPO4EpRvRCION89FzL1xu+WycD6ur\n",
       "SJfTgZM0GQ0QXJ5vR4KvoK9ydnKniqMWXZ4E/quMsM3paJTB6XYkegi4wdnpnSp+ZBc7cKhtZvgp\n",
       "Z0WidrjiVvS2hQHHZ7d4qabYkjp3YsWOhhj14VjFA8BAy2fJxmdtke6agyV1qIGUlRk823xL7/rI\n",
       "8C9C8x63emz/zw9CFkaXAb1HzM3geEXSBGfJemFRt7FU0tZ1xcYMPfei4uCkU2gHR2DOY9CcE7Jw\n",
       "Gp11Mbd/ZklFY4Wz5JcdVdrXOWDsW76KPpzIunjdUm8iz3Jli9z3MWP1C1kYfZiebDE3g2UVsz2c\n",
       "JX/vYkdYBq5aORPXYFVK6LYokGX9yZW4W5jnTavVLlyv1Wg5p2EsC1EfDiqGosBTcJaZfQQ5F9oK\n",
       "3WkbQDfopBSolEIVwbKL+x61DKIzkTOGKobP2MnqMpaZvZ6KCX2d7tLLrBx+qxSYQairyKzjlJhl\n",
       "HmnWpeo/dXUfNMdnmcfYeGkg5+ENCu493ILS1itF9Ck0dgumb/VdyoYnZiGaNt7pilG2IF7R8JC2\n",
       "fJasrbKW9+A9MIsfnkeNTdcfFEzlYh7bP2hl44ydKYpZZjHaCL6GUNT/WqhfYnRpYWFu+1PL+G35\n",
       "MkT9Lzf39rboWe0vqr1fnw+zzVV9q4/MPXciWcrNZ9SEbClyGlqQOrgm/q4xsbm5xtktPlnjgWUz\n",
       "5xPbfTQ6njyflkJ8suLTN5jOel29Epry25N8Onnqx/8qyFRwuGPKmil6LZorW5Dw34Qr42NSXe6Y\n",
       "lLuPpflV9783H9GLwHIdly9IZMl/ABt+0rVVnDgvAAAAAElFTkSuQmCC\n",
       "\" style=\"display:inline;vertical-align:middle;\" /></a><br>"
      ],
      "text/plain": [
       "<IPython.core.display.HTML object>"
      ]
     },
     "metadata": {},
     "output_type": "display_data"
    },
    {
     "data": {
      "text/html": [
       "<strong id=\"round_add_mult_mult\">round_add_mult_mult:</strong> <a class=\"ProveItLink\" href=\"../__pv_it/demonstrations/44c0567211b2ba10cccc699bb7ce84c7c5baed650/expr.ipynb\"><img src=\"data:image/png;base64,iVBORw0KGgoAAAANSUhEUgAAAMwAAAAVBAMAAAD4PRwmAAAAMFBMVEX///+qqqpUVFSIiIi6urru\n",
       "7u4iIiIyMjIQEBCYmJhmZmbc3NxERER2dnbMzMwAAADprbYgAAAAAXRSTlMAQObYZgAAAAlwSFlz\n",
       "AAAOxAAADsQBlSsOGwAAAv9JREFUSMeFVU1oE0EYfWmyabKbTQOCrUhpMGD9oTTUi1aoET20Jxd7\n",
       "ES0mbSUHobQIghXB4g/UgzQXKYjY4KHYYmDxUBAEg73pZTGgF6vxUPHWShukFKzf7E6z6+yEPniZ\n",
       "2Zm3876Z+fItsAdMThFaA61kSMOeCCYc+hBKS7UizsmlLuK3ivTbzunHKd8I0/003P0u3qkiWJBK\n",
       "PWih4JQJhxI0G8IA6ZRjd93Rt9A3gZsyqRcXaFItOJQgWuSdAd7aujPuiseBaeCpVyrDZ2KEU4aH\n",
       "vN3HW1vnsZkx0G0iYnikMtwmtnLKMCnYtAo2h4HuKpoLtjT+VStRr9KTUXoLaDJCPVcqy3R/XX2/\n",
       "ab7EOdhzdaWeR4MLUJLAJ8GmJNgQxgGdlCTVYyV9CksZbVsPTGGOnlPImug3YzUeMWMxmFJzuy9b\n",
       "bYiuA7OCzaTPJr5B98ISaBZvmnOqhVFg7Act1Inz4TLeVZVHUNn8sMOoGa017WZCPDGPpjLQJtgM\n",
       "+2zCtBOKnUlXW1gyUXD3jEga92FkM+gwaCBs0fwDh3HHFMiyBCcVSbHGBubz+el8fgRcy22yjvoV\n",
       "C4qWZlKWt5EytA3qaX+BDtCeaIDs6jaw12XxsdQM1bBWBfqF3XhsbBmi7FpCbDcknWfuaejb1Auu\n",
       "Mw9sKTQwB/fQKBhTqR8H7ewkNfv3OrR2aCYCOUc6xv7wBUQsvEes/ASPEajp2QQ6A1T2KOcYhzJH\n",
       "oNdfjyVJCjwTbJYFm7iFoIFo2ZZqmyy+JD4AL/DLsujcghPPY+nAdRVO0hI7Vl/ibP19NRna2k1g\n",
       "j42d4N/dKr20uEgnpVq2NGTn6Uov3cTFysFUlZ6Vowkl9e11H6uEDi+fCCy45Vfp6t2m5ppgw7SH\n",
       "Zm7US9P4zs4fuqaMR9oI4apDATplkpYTbCQ6tid4pI3Aip6v8H3BpYSnog6ItfQ/LKBh8fXgI6cX\n",
       "o+iy67xM6/vIlqVSEUOcXhxgFylZdEjyfsxs4C9Ek3bo/yKbUq2I0470H9srwbIzSRfZAAAAAElF\n",
       "TkSuQmCC\n",
       "\" style=\"display:inline;vertical-align:middle;\" /></a><br>"
      ],
      "text/plain": [
       "<IPython.core.display.HTML object>"
      ]
     },
     "metadata": {},
     "output_type": "display_data"
    }
   ],
   "source": [
    "# Some more example test expressions involving Round\n",
    "round_add_xy12, round_add_add, round_add_mult_mult = (\n",
    "    Round(Add(x, y, one, two)), Round(Add(Add(x, y),Add(one, two))),\n",
    "    Round(Add(Mult(x,y), Mult(one, two))))"
   ]
  },
  {
   "cell_type": "markdown",
   "metadata": {},
   "source": [
    "## Testing the `deduce_in_number_set()` methods"
   ]
  },
  {
   "cell_type": "markdown",
   "metadata": {},
   "source": [
    "### Ceil.deduce_in_number_set()"
   ]
  },
  {
   "cell_type": "code",
   "execution_count": 39,
   "metadata": {},
   "outputs": [
    {
     "data": {
      "text/html": [
       "<span style=\"font-size:20px;\"> <a class=\"ProveItLink\" href=\"../__pv_it/demonstrations/ab25e84b354716428afb70a48465d4f3e32b264d0/proof.ipynb\" style=\"text-decoration: none\">&nbsp;&#x22A2;&nbsp;&nbsp;</a><a class=\"ProveItLink\" href=\"../__pv_it/demonstrations/c7c93bd97f1f1a90355a8e071b0a677202a0c4710/expr.ipynb\"><img src=\"data:image/png;base64,iVBORw0KGgoAAAANSUhEUgAAAEEAAAAVBAMAAADrxp6XAAAAMFBMVEX////u7u4QEBBUVFR2dnbM\n",
       "zMxEREQyMjJmZmbc3NyqqqqYmJiIiIgiIiK6uroAAAAyDowUAAAAAXRSTlMAQObYZgAAAAlwSFlz\n",
       "AAAOxAAADsQBlSsOGwAAARJJREFUKM9jeHv3DgMIrL17mwE72A1nvUCTWa6vnntNG6JiRnsqFhXH\n",
       "TBnYGQrAKjgTGPwfYKroYGA4zbIArIJ5AgOTAqYKSwbGBDGIO5g+MjD/RKg4dvduAYgWYOAIMIWo\n",
       "YL7AwPwVruL5QbgpwawNcL/wfoCp4CxE2JPIJgBXEX8ApoJ9AlwBl8MeRHhchvuWHWEE2K9QFRwJ\n",
       "cBVBd4EgAcw8xfKAgRGqYjMiTMXgRjAmTAOHxG6whQwzYSp44SqYAywZGOQhZoQwMByEqeA5AFMR\n",
       "wQf0qy0k1G90dFyAh0cV3K/sAgzTloFV8P7//78ArkI4TwBM86kVpSV9SsEW+09yIaFOOH1QU8Uq\n",
       "OCsEuwIAIUxaxawMab0AAAAASUVORK5CYII=\n",
       "\" style=\"display:inline;vertical-align:middle;\" /></a></span>"
      ],
      "text/plain": [
       "|- ceil(2) in Integer"
      ]
     },
     "metadata": {},
     "output_type": "display_data"
    }
   ],
   "source": [
    "ceil_2.deduce_in_number_set(Integer)"
   ]
  },
  {
   "cell_type": "code",
   "execution_count": 40,
   "metadata": {},
   "outputs": [
    {
     "data": {
      "text/html": [
       "<strong id=\"ceil_x_minus_y_in_ints\">ceil_x_minus_y_in_ints:</strong> <span style=\"font-size:20px;\"><a class=\"ProveItLink\" href=\"../../ordering/__pv_it/theorems/d1323f34847310a404e8089c2c268d3c2eb89dbf0/expr.ipynb\"><img src=\"data:image/png;base64,iVBORw0KGgoAAAANSUhEUgAAADQAAAAQBAMAAACra0H4AAAAMFBMVEX///9ERES6uroQEBAyMjLc\n",
       "3NyYmJgiIiJmZmaqqqp2dnbMzMxUVFSIiIju7u4AAAAd7oVFAAAAAXRSTlMAQObYZgAAAAlwSFlz\n",
       "AAAOxAAADsQBlSsOGwAAAMtJREFUGNNjYMAAbM6CX4rFGLACRtYDTMfkcEgtYBDYg1OqlQVF6GJ5\n",
       "uQNcihFZRuUekq5zb4CMt3der5oApFn9kAzklnQFMhp4z3IUAGmWAISUSX3tA6AvAtj+8SSApJCc\n",
       "sSwPZCk3AwfYbobN5UAgADVQLg0sxnwBTD1EdvwOxgcgln4AH4hmR5bi2ArU/1DhMAMXSID3ApIU\n",
       "n8A1Bob5+5oZNMEingipBoY0RgWGF3c52yaARd4IPYCF/McARpGfyMGhJQ4JKCgAAF8xNF8aQs/g\n",
       "AAAAAElFTkSuQmCC\n",
       "\" style=\"display:inline;vertical-align:middle;\" /></a>, <a class=\"ProveItLink\" href=\"../../ordering/__pv_it/theorems/5d76fdd975252a644e3e1cb067a357f9a9c8486a0/expr.ipynb\"><img src=\"data:image/png;base64,iVBORw0KGgoAAAANSUhEUgAAADMAAAATBAMAAADPIygvAAAAMFBMVEX////c3NwyMjK6urpEREQi\n",
       "IiLMzMwQEBCqqqp2dnZUVFSYmJhmZmaIiIju7u4AAADlKNhoAAAAAXRSTlMAQObYZgAAAAlwSFlz\n",
       "AAAOxAAADsQBlSsOGwAAAOBJREFUKM9jYMAAm0r8VUs2MGAFDlIMVlseYJeSZGBhW4BLikdAAUXo\n",
       "SmioAlzKAVnG6B5CF9c7oIF8dzYwvAIJMOohGZjSJMDAwMlRwLAfJMAkAJcSV/0KMiGDJ4BhCVgK\n",
       "yRm7H4HoB+wXGGpBjPRQIHCASLG8BnvZ/gHbNxD9BEkX2wE/EOMQA28BiGZF9tcxERDDi4EF7HPe\n",
       "C0hST3hBJp5isIeEpQZcSoaBe4MzkPFq7nmIs185P4CFvCODi34DiD0JqtrSNRQl5DgV+Cqwxw0D\n",
       "6wWuCTikOPYexiEDADoqNycoB77qAAAAAElFTkSuQmCC\n",
       "\" style=\"display:inline;vertical-align:middle;\" /></a> <a class=\"ProveItLink\" href=\"../__pv_it/demonstrations/296b345b836fcb8ecd2152f5aaf55e09929b53a80/proof.ipynb\" style=\"text-decoration: none\">&nbsp;&#x22A2;&nbsp;&nbsp;</a><a class=\"ProveItLink\" href=\"../__pv_it/demonstrations/7580ab567322318d2c6907adfe09bcbda521e4f50/expr.ipynb\"><img src=\"data:image/png;base64,iVBORw0KGgoAAAANSUhEUgAAAGcAAAAVBAMAAACphe0AAAAAMFBMVEX///9EREQQEBAyMjLc3Nxm\n",
       "ZmZ2dnbMzMxUVFTu7u6qqqqYmJiIiIgiIiK6uroAAAAc1BPlAAAAAXRSTlMAQObYZgAAAAlwSFlz\n",
       "AAAOxAAADsQBlSsOGwAAAV9JREFUOMtjeHv3DgMOsPbubRwyuxnwgKdo/MX6yrIXtUnUdLCdgZnB\n",
       "gERNoQwMp9kWkKiphYFTYCKxfjp4964BiJ7AwFrQTqSmxyfhIhXsAVBNc05MT1uAonpONANnA0wT\n",
       "iyVCQpJxAlRTAE8P6wUUTQmLGLg/wDQxO8DFuRL2QOOJ24H7J8cGZD3sC2IZOATgmhAS4AAHa2Jn\n",
       "YAUzGSbfBYHrDAycDDoMTAdgmopAogJg5im2B0BJSECAFKAAvp8M9QUwTRPhwpwCjgwMHA4QTe8d\n",
       "OCegaAJafQgeerxwYY6CFgaG+WCbJj5oYmBDtYmxgUECrokH7o5SPmCA94I1ra8MYniFqom1ge83\n",
       "Ip6s4AHOPIHBcSFY09QzXNGo0cTA2Xb0C0LTDDmI4/kUjQSFPonhThFsBkjJ6JksJBnhz0/JDJMW\n",
       "YEmw+DXdYWhjIFnT6qMP8GlahS+Vl2EXBgBrw26TprQn/wAAAABJRU5ErkJggg==\n",
       "\" style=\"display:inline;vertical-align:middle;\" /></a></span><br>"
      ],
      "text/plain": [
       "<IPython.core.display.HTML object>"
      ]
     },
     "metadata": {},
     "output_type": "display_data"
    }
   ],
   "source": [
    "ceil_x_minus_y_in_ints = ceil_x_minus_y.deduce_in_number_set(\n",
    "    Integer, assumptions=[InSet(x, Real), InSet(y, Real)])"
   ]
  },
  {
   "cell_type": "code",
   "execution_count": 41,
   "metadata": {},
   "outputs": [
    {
     "data": {
      "text/html": [
       "<span style=\"font-size:20px;\"><a class=\"ProveItLink\" href=\"../__pv_it/demonstrations/f9b1193869448682bd674e8eb2ed2751e21596c90/expr.ipynb\"><img src=\"data:image/png;base64,iVBORw0KGgoAAAANSUhEUgAAAGcAAAAVBAMAAACphe0AAAAAMFBMVEX////MzMxUVFRERES6uroi\n",
       "IiIQEBCYmJhmZmYyMjLu7u52dnaqqqqIiIjc3NwAAACW8nlqAAAAAXRSTlMAQObYZgAAAAlwSFlz\n",
       "AAAOxAAADsQBlSsOGwAAAatJREFUOMtjYGB4wIAL4JbhPYBTyheNX5lsPzW5AMQ6zYDbvAI0AYNH\n",
       "DE7FCxgYuCbg1sQwC13TawZmRgUGBo4CPJoqMDVxPADawoZHDwPbAogzTUMjEZoMGBhO4tPECXYG\n",
       "y9wFCJuYVgGd1w1kr720cDdqGHLdKGBYxMDArQDivFyA5Dzhk8CImA5kN/DqcgSgaOLmSWCoZ2Bg\n",
       "B4fSPISfnk39egtIxwClHrD/YkINDxmgIcoMDECtQDABKSDKV4LoFAYGRgYOiPjKUBAIBLIWsF1g\n",
       "yAXKfACyGVOBgsFQTczLCyCagKF0AT0I/BcwfgQGAcgmLgMkmxgbrCDOAyp5wLUAVVMnAy9QAw/Y\n",
       "pwHI8dT4GEjbMjAsdlBj4EazyYiBGRhy7GBL7iJrWgxKW5sYGM5LtTH4oGlqYvAHSnJsAMcWPDoM\n",
       "XjCwF5gwMIgyMKy4y9OOntQX7e0HxgerAzjSlL3gqdyOwXj+AQZWARypYScQP4UwWTZDkxEMsDdg\n",
       "08E9gSsHSLXjSl922ARZLzABvcNngEvTYmyCPLUtQJIZZ37nu4Azkd/DIQ4AXcRmy0CBlLkAAAAA\n",
       "SUVORK5CYII=\n",
       "\" style=\"display:inline;vertical-align:middle;\" /></a> <a class=\"ProveItLink\" href=\"../__pv_it/demonstrations/714ab57c5f24995baf94866da4c3aa171093cb380/proof.ipynb\" style=\"text-decoration: none\">&nbsp;&#x22A2;&nbsp;&nbsp;</a><a class=\"ProveItLink\" href=\"../__pv_it/demonstrations/7580ab567322318d2c6907adfe09bcbda521e4f50/expr.ipynb\"><img src=\"data:image/png;base64,iVBORw0KGgoAAAANSUhEUgAAAGcAAAAVBAMAAACphe0AAAAAMFBMVEX///9EREQQEBAyMjLc3Nxm\n",
       "ZmZ2dnbMzMxUVFTu7u6qqqqYmJiIiIgiIiK6uroAAAAc1BPlAAAAAXRSTlMAQObYZgAAAAlwSFlz\n",
       "AAAOxAAADsQBlSsOGwAAAV9JREFUOMtjeHv3DgMOsPbubRwyuxnwgKdo/MX6yrIXtUnUdLCdgZnB\n",
       "gERNoQwMp9kWkKiphYFTYCKxfjp4964BiJ7AwFrQTqSmxyfhIhXsAVBNc05MT1uAonpONANnA0wT\n",
       "iyVCQpJxAlRTAE8P6wUUTQmLGLg/wDQxO8DFuRL2QOOJ24H7J8cGZD3sC2IZOATgmhAS4AAHa2Jn\n",
       "YAUzGSbfBYHrDAycDDoMTAdgmopAogJg5im2B0BJSECAFKAAvp8M9QUwTRPhwpwCjgwMHA4QTe8d\n",
       "OCegaAJafQgeerxwYY6CFgaG+WCbJj5oYmBDtYmxgUECrokH7o5SPmCA94I1ra8MYniFqom1ge83\n",
       "Ip6s4AHOPIHBcSFY09QzXNGo0cTA2Xb0C0LTDDmI4/kUjQSFPonhThFsBkjJ6JksJBnhz0/JDJMW\n",
       "YEmw+DXdYWhjIFnT6qMP8GlahS+Vl2EXBgBrw26TprQn/wAAAABJRU5ErkJggg==\n",
       "\" style=\"display:inline;vertical-align:middle;\" /></a></span>"
      ],
      "text/plain": [
       "{(x - y) in Real} |- ceil(x - y) in Integer"
      ]
     },
     "metadata": {},
     "output_type": "display_data"
    }
   ],
   "source": [
    "ceil_x_minus_y_in_ints.proof().disable()\n",
    "ceil_x_minus_y.deduce_in_number_set(\n",
    "    Integer, assumptions=[InSet(subtract(x, y), Real)])"
   ]
  },
  {
   "cell_type": "code",
   "execution_count": 42,
   "metadata": {},
   "outputs": [
    {
     "data": {
      "text/html": [
       "<span style=\"font-size:20px;\"><a class=\"ProveItLink\" href=\"../__pv_it/demonstrations/87e6cd170646f05085f7c90fb743f335c993bbd40/expr.ipynb\"><img src=\"data:image/png;base64,iVBORw0KGgoAAAANSUhEUgAAAHMAAAAXBAMAAADKCG2ZAAAAMFBMVEX////MzMxUVFRERES6uroi\n",
       "IiIQEBCYmJhmZmYyMjLu7u52dnaqqqqIiIjc3NwAAACW8nlqAAAAAXRSTlMAQObYZgAAAAlwSFlz\n",
       "AAAOxAAADsQBlSsOGwAAAbtJREFUOMtjYCALcDCQDZgh1AOcCh4Q0Mp7AKcCXzR+ZbL91OQChNbT\n",
       "uJ3FW4AmYPCIwal4AUwr1wQ8XpqFrvU1AzOjAkOzsZmxcQEDRwEerRWYWjkeTIDZyoYvINkWQOjL\n",
       "oaET4FoNYFpP4tPKCXGS5y2ErUyrFGBau0H+vaslvQdFD9eNAoZFDAzcIGUMfLOQHCx88gFM63Rw\n",
       "2rh0oRVFKzdPAkM9AwM72Jmc8Pg1eDb16y14aooB4jqG+gXqKFplOAIYlBkYgAaAtCIFU/lKhKIU\n",
       "IBZg6ASzV4aCQCCQtYDtAkMuAwPjB5CwGEjUAKKVeXkBilYGkDJU4L+A8SMDAwvY1sVItjI2WMF5\n",
       "IAczsPxjWIWqtZOBF6iNJwDEZkWO18bHcJ4tMDhNmBIYNqBqNWJgBoYuO9iZvBeQtC5GpM5NQLM/\n",
       "rkhgQcsETQz+QCUcEAPnwLW+YGAvMIHxRIG29l44UYPm10V7+4FRwuoA4ZgsgOUcOwbj+TBbWAVw\n",
       "pKSdQPwUyvY2DcWSS9gbsOnjnsCVA6Ta8ZcVdtgEWS8wAb3JZ4Bf62Jsgjy1LaCU+gC/Vr4LOKXu\n",
       "4dUIALLgaMRFpxUkAAAAAElFTkSuQmCC\n",
       "\" style=\"display:inline;vertical-align:middle;\" /></a> <a class=\"ProveItLink\" href=\"../__pv_it/demonstrations/0127334302d896e770f0352f597220b5727ba94c0/proof.ipynb\" style=\"text-decoration: none\">&nbsp;&#x22A2;&nbsp;&nbsp;</a><a class=\"ProveItLink\" href=\"../__pv_it/demonstrations/87a3561ee37b627c56f1dee46f1018c78b7986970/expr.ipynb\"><img src=\"data:image/png;base64,iVBORw0KGgoAAAANSUhEUgAAAHQAAAAXBAMAAAAo1HbgAAAAMFBMVEX///9EREQQEBAyMjLc3Nxm\n",
       "ZmZ2dnbMzMxUVFTu7u6qqqqYmJiIiIgiIiK6uroAAAAc1BPlAAAAAXRSTlMAQObYZgAAAAlwSFlz\n",
       "AAAOxAAADsQBlSsOGwAAAXJJREFUOMtjYCAPBDCQDQSA+O3dO7ikue7e3YBP6258ZvOhuovzvqAl\n",
       "A5u+HhlaGRgXvGBgmE+OrQwcV9g2MDAxsAoKKgpKk6h1IYMJAy9JtvLI3r0M1up9wJk0rXw2E6C2\n",
       "OrTzJKBo5TzTWZaFGpZHNzDMgGt1ngBzsAMjgxyKVlaGEwdiUbSycSkw7IdrNYH71YE9YO5cWGoC\n",
       "ad3CsH9CN4rWKtYLDI1wrQYIrQy7uIRgPJDWAoZgMHvyXRC4DmRNYDrAoAPTyq4LFL0I1coxoQlZ\n",
       "KwNIGSp4P4H9O0wrpwCSrZwNc1G08n1hmImqNZiBRwHu4AtIWhlqGJG0cspxKDAkoGqVYGBsgGs9\n",
       "A0+IBcA4LkTSyvV9qgLfAlStEQzvN8C1MsMkwYxgZFtjDizdhebXGTnxDnCtnI0vwTS7vSIoMFGD\n",
       "CQtIRkqIfImQhIgKsGtlM+DUwpL8idHKe4AjgUytXHviGAhqXYVPkj0BjyQAfCxiCFgoQZ8AAAAA\n",
       "SUVORK5CYII=\n",
       "\" style=\"display:inline;vertical-align:middle;\" /></a></span>"
      ],
      "text/plain": [
       "{(x - y) in RealPos} |- ceil(x - y) in NaturalPos"
      ]
     },
     "metadata": {},
     "output_type": "display_data"
    }
   ],
   "source": [
    "ceil_x_minus_y.deduce_in_number_set(Natural, assumptions=[InSet(subtract(x,y), RealPos)])"
   ]
  },
  {
   "cell_type": "code",
   "execution_count": 43,
   "metadata": {},
   "outputs": [
    {
     "name": "stdout",
     "output_type": "stream",
     "text": [
      "EXCEPTION: the closure theorems do not apply without more constraints.  Prerequisites not met while assuming (): x - y not readily provable to be a Real number\n"
     ]
    }
   ],
   "source": [
    "# If we don't at least know the operand is real-valued,\n",
    "# difficult to know what set(s) the result belongs to \n",
    "try:\n",
    "    ceil_x_minus_y.deduce_in_number_set(Integer)\n",
    "except Exception as e:\n",
    "    print(\"EXCEPTION: the closure theorems do not apply without more constraints. \", e)"
   ]
  },
  {
   "cell_type": "markdown",
   "metadata": {},
   "source": [
    "### Floor.deduce_in_number_set()"
   ]
  },
  {
   "cell_type": "code",
   "execution_count": 44,
   "metadata": {},
   "outputs": [
    {
     "data": {
      "text/html": [
       "<span style=\"font-size:20px;\"> <a class=\"ProveItLink\" href=\"../__pv_it/demonstrations/06829417e8906a3b39993290ebbb3b8c4fc4097c0/proof.ipynb\" style=\"text-decoration: none\">&nbsp;&#x22A2;&nbsp;&nbsp;</a><a class=\"ProveItLink\" href=\"../__pv_it/demonstrations/2b25e8e7f4d671a5e3a2a4eefc5ff82e7ccec5440/expr.ipynb\"><img src=\"data:image/png;base64,iVBORw0KGgoAAAANSUhEUgAAAEIAAAAVBAMAAAAA8SWUAAAAMFBMVEX///9UVFS6urp2dnbMzMxE\n",
       "REQyMjJmZmbc3NyIiIgiIiIQEBCqqqqYmJju7u4AAABNPSixAAAAAXRSTlMAQObYZgAAAAlwSFlz\n",
       "AAAOxAAADsQBlSsOGwAAAQ5JREFUKM9jeMcAAxwM2MFdOEsdVYJvfWgeA/P+TWAV7WUhmCoYWA8o\n",
       "MjC8B5vBEcBgr4CpgnEF8wUGbrAKxgYG7g1YVBxlyGDgAqvg/sfA+AOhgjNq1TKwit4JbVAVjAsY\n",
       "GL/AVTBlPoCa0SDCacAF8wvXB7iKtgcwWxpYGYLgKvwnwFVkwN3RwFLw6hVMxUKEbxMQKhju8ERD\n",
       "VbAHwFWw7Fq1atVSqArGB9JQFRcRYcoXgGQGnwDUFh4Dhg64LQuQVDB4skJUODMwzIOrmAkPdQdg\n",
       "2LhCQn15efkCuAq2AwxIjDKwCq7///8nwFXwiepBnJy/FUg+wxb7TKaQUCeYPqiq4vSqlWD6FJTG\n",
       "AACrUU42pK+IygAAAABJRU5ErkJggg==\n",
       "\" style=\"display:inline;vertical-align:middle;\" /></a></span>"
      ],
      "text/plain": [
       "|- floor(2) in Natural"
      ]
     },
     "metadata": {},
     "output_type": "display_data"
    }
   ],
   "source": [
    "floor_2.deduce_in_number_set(Natural)"
   ]
  },
  {
   "cell_type": "code",
   "execution_count": 45,
   "metadata": {},
   "outputs": [
    {
     "data": {
      "text/html": [
       "<strong id=\"floor_x_plus_y_in_ints\">floor_x_plus_y_in_ints:</strong> <span style=\"font-size:20px;\"><a class=\"ProveItLink\" href=\"../../ordering/__pv_it/theorems/d1323f34847310a404e8089c2c268d3c2eb89dbf0/expr.ipynb\"><img src=\"data:image/png;base64,iVBORw0KGgoAAAANSUhEUgAAADQAAAAQBAMAAACra0H4AAAAMFBMVEX///9ERES6uroQEBAyMjLc\n",
       "3NyYmJgiIiJmZmaqqqp2dnbMzMxUVFSIiIju7u4AAAAd7oVFAAAAAXRSTlMAQObYZgAAAAlwSFlz\n",
       "AAAOxAAADsQBlSsOGwAAAMtJREFUGNNjYMAAbM6CX4rFGLACRtYDTMfkcEgtYBDYg1OqlQVF6GJ5\n",
       "uQNcihFZRuUekq5zb4CMt3der5oApFn9kAzklnQFMhp4z3IUAGmWAISUSX3tA6AvAtj+8SSApJCc\n",
       "sSwPZCk3AwfYbobN5UAgADVQLg0sxnwBTD1EdvwOxgcgln4AH4hmR5bi2ArU/1DhMAMXSID3ApIU\n",
       "n8A1Bob5+5oZNMEingipBoY0RgWGF3c52yaARd4IPYCF/McARpGfyMGhJQ4JKCgAAF8xNF8aQs/g\n",
       "AAAAAElFTkSuQmCC\n",
       "\" style=\"display:inline;vertical-align:middle;\" /></a>, <a class=\"ProveItLink\" href=\"../../ordering/__pv_it/theorems/5d76fdd975252a644e3e1cb067a357f9a9c8486a0/expr.ipynb\"><img src=\"data:image/png;base64,iVBORw0KGgoAAAANSUhEUgAAADMAAAATBAMAAADPIygvAAAAMFBMVEX////c3NwyMjK6urpEREQi\n",
       "IiLMzMwQEBCqqqp2dnZUVFSYmJhmZmaIiIju7u4AAADlKNhoAAAAAXRSTlMAQObYZgAAAAlwSFlz\n",
       "AAAOxAAADsQBlSsOGwAAAOBJREFUKM9jYMAAm0r8VUs2MGAFDlIMVlseYJeSZGBhW4BLikdAAUXo\n",
       "SmioAlzKAVnG6B5CF9c7oIF8dzYwvAIJMOohGZjSJMDAwMlRwLAfJMAkAJcSV/0KMiGDJ4BhCVgK\n",
       "yRm7H4HoB+wXGGpBjPRQIHCASLG8BnvZ/gHbNxD9BEkX2wE/EOMQA28BiGZF9tcxERDDi4EF7HPe\n",
       "C0hST3hBJp5isIeEpQZcSoaBe4MzkPFq7nmIs185P4CFvCODi34DiD0JqtrSNRQl5DgV+Cqwxw0D\n",
       "6wWuCTikOPYexiEDADoqNycoB77qAAAAAElFTkSuQmCC\n",
       "\" style=\"display:inline;vertical-align:middle;\" /></a> <a class=\"ProveItLink\" href=\"../__pv_it/demonstrations/d56741c747413df35720e0a6c2a321c2389fb4e30/proof.ipynb\" style=\"text-decoration: none\">&nbsp;&#x22A2;&nbsp;&nbsp;</a><a class=\"ProveItLink\" href=\"../__pv_it/demonstrations/054b9709aa39b6bd9d30b19b6d6db233d71cbb500/expr.ipynb\"><img src=\"data:image/png;base64,iVBORw0KGgoAAAANSUhEUgAAAGcAAAAVBAMAAACphe0AAAAAMFBMVEX///9ERES6uroyMjLc3Nxm\n",
       "ZmZ2dnbMzMxUVFSIiIgiIiIQEBCqqqqYmJju7u4AAAC1Kov9AAAAAXRSTlMAQObYZgAAAAlwSFlz\n",
       "AAAOxAAADsQBlSsOGwAAAWpJREFUOMtjeMeAB7DgEL+LT5MqGv/w/s1SC/eSqGliOwMzgwGJmkIZ\n",
       "GOayHcDQpItXUwsDn8BDTD+dxKpp4qpVBiD6AQNrQTuRmpTnwUUq2AOgml7OeJ52AEXTy1gGvgaY\n",
       "JhY7hDFyjA+gmgI4O1kXoGhKOM3A+wGmidkBrocn4SY0nngdeP9xXEDWxH4gioFDAK4JYRE4wMGa\n",
       "2BlYwUyGqFWrdq9atYKBgY9hJwP3BJim6lVAIABmzmFTAEpCAgKkAMV5TP8Y6gtgmh7CLeITcGRg\n",
       "4HCAaNJ34HuAoglo9Wx46HHBNXEUtDAwvAfb9FChm4EN1SbGBgYJuCZOuDtKmYAB3gXWdL4umkEH\n",
       "VRNrA9NfRDzZwAOc+QGD40GwpqczeWIPoGria5v6BaHphRDE8UwbrQWlf4vhThFsBkjJSE0Kkoxw\n",
       "5Cdogk1meH0AS4LFnwlXMrQxkKzp7FQFfJpOr1qJKwuewiUFAOgcaTx2iP/4AAAAAElFTkSuQmCC\n",
       "\" style=\"display:inline;vertical-align:middle;\" /></a></span><br>"
      ],
      "text/plain": [
       "<IPython.core.display.HTML object>"
      ]
     },
     "metadata": {},
     "output_type": "display_data"
    }
   ],
   "source": [
    "floor_x_plus_y_in_ints = floor_x_plus_y.deduce_in_number_set(\n",
    "    Integer, assumptions=[InSet(x, Real), InSet(y, Real)])"
   ]
  },
  {
   "cell_type": "code",
   "execution_count": 46,
   "metadata": {},
   "outputs": [
    {
     "data": {
      "text/html": [
       "<strong id=\"floor_x_plus_y_in_ints_2\">floor_x_plus_y_in_ints_2:</strong> <span style=\"font-size:20px;\"><a class=\"ProveItLink\" href=\"../__pv_it/demonstrations/6395594dde9afd8f7aee1a29d57d2702734f034c0/expr.ipynb\"><img src=\"data:image/png;base64,iVBORw0KGgoAAAANSUhEUgAAAGcAAAAVBAMAAACphe0AAAAAMFBMVEX////MzMxUVFRERES6uroi\n",
       "IiIQEBCYmJhmZmYyMjLu7u52dnaqqqqIiIjc3NwAAACW8nlqAAAAAXRSTlMAQObYZgAAAAlwSFlz\n",
       "AAAOxAAADsQBlSsOGwAAAbVJREFUOMtjYGB4wIAL4JbhPYBTyheNX5lsPzW5AMQ6zYDbvAI0AYNH\n",
       "DE7FCxgYuCbg1sQwC13TawZmRgUGBg5U09xReBWYmjgeAG1hQxU+i8JjWwBxpmloJEKTAQPDSXya\n",
       "OMHOYJm7AGET0yqg87qB7LWXFu4+gKKJ60YBwyIGBm4FEOflAiTnCZ8ERsR0ILuBV5cjAEUTN08C\n",
       "Qz0DAzs4lOYh/PRs6tdbQDoGKPWA/RdTAYomGaAhygwMQK1AMAEpIMpXgugUBgZGBg6IeGtoaFpo\n",
       "aBCQtYDtAkMuUOYDkM2YGhoaGgzVxLy8AKIJGEoX0APCfwHjR2AQgGziMkCyibHBCuI8oJIHXAtQ\n",
       "NXUy8AI18IB9GoAcT42PgbQtA8NiBzUGbjSbjBiYgSHHDrbkLrKmxaC0tYmB4bxUG4MPmqYmBn+g\n",
       "JMcGcGzBk7TBCwb2AhMGBlEGhhV3edoPoGlatLcfGB+sDuBIU/aCp3I7BuP5BxhYBXCkiJ1A/BTC\n",
       "ZNkMTUYwwN6ALcFyT+DKAVLtuJK/HTZB1gtMQO/wGeDStBibIE9tC5Bkxpnf+S7gzIP3cIgDAOY2\n",
       "cBZk3dgOAAAAAElFTkSuQmCC\n",
       "\" style=\"display:inline;vertical-align:middle;\" /></a> <a class=\"ProveItLink\" href=\"../__pv_it/demonstrations/5284773c16be28cf305a13c43a45a5b1b05e95640/proof.ipynb\" style=\"text-decoration: none\">&nbsp;&#x22A2;&nbsp;&nbsp;</a><a class=\"ProveItLink\" href=\"../__pv_it/demonstrations/054b9709aa39b6bd9d30b19b6d6db233d71cbb500/expr.ipynb\"><img src=\"data:image/png;base64,iVBORw0KGgoAAAANSUhEUgAAAGcAAAAVBAMAAACphe0AAAAAMFBMVEX///9ERES6uroyMjLc3Nxm\n",
       "ZmZ2dnbMzMxUVFSIiIgiIiIQEBCqqqqYmJju7u4AAAC1Kov9AAAAAXRSTlMAQObYZgAAAAlwSFlz\n",
       "AAAOxAAADsQBlSsOGwAAAWpJREFUOMtjeMeAB7DgEL+LT5MqGv/w/s1SC/eSqGliOwMzgwGJmkIZ\n",
       "GOayHcDQpItXUwsDn8BDTD+dxKpp4qpVBiD6AQNrQTuRmpTnwUUq2AOgml7OeJ52AEXTy1gGvgaY\n",
       "JhY7hDFyjA+gmgI4O1kXoGhKOM3A+wGmidkBrocn4SY0nngdeP9xXEDWxH4gioFDAK4JYRE4wMGa\n",
       "2BlYwUyGqFWrdq9atYKBgY9hJwP3BJim6lVAIABmzmFTAEpCAgKkAMV5TP8Y6gtgmh7CLeITcGRg\n",
       "4HCAaNJ34HuAoglo9Wx46HHBNXEUtDAwvAfb9FChm4EN1SbGBgYJuCZOuDtKmYAB3gXWdL4umkEH\n",
       "VRNrA9NfRDzZwAOc+QGD40GwpqczeWIPoGria5v6BaHphRDE8UwbrQWlf4vhThFsBkjJSE0Kkoxw\n",
       "5Cdogk1meH0AS4LFnwlXMrQxkKzp7FQFfJpOr1qJKwuewiUFAOgcaTx2iP/4AAAAAElFTkSuQmCC\n",
       "\" style=\"display:inline;vertical-align:middle;\" /></a></span><br>"
      ],
      "text/plain": [
       "<IPython.core.display.HTML object>"
      ]
     },
     "metadata": {},
     "output_type": "display_data"
    }
   ],
   "source": [
    "floor_x_plus_y_in_ints.proof().disable()\n",
    "floor_x_plus_y_in_ints_2 = floor_x_plus_y.deduce_in_number_set(Integer, assumptions=[InSet(Add(x,y), Real)])"
   ]
  },
  {
   "cell_type": "code",
   "execution_count": 47,
   "metadata": {},
   "outputs": [
    {
     "data": {
      "text/html": [
       "<span style=\"font-size:20px;\"><a class=\"ProveItLink\" href=\"../__pv_it/demonstrations/878c878fa53b7ff2f5f20cfed8028a26df5db3e50/expr.ipynb\"><img src=\"data:image/png;base64,iVBORw0KGgoAAAANSUhEUgAAAHMAAAAXBAMAAADKCG2ZAAAAMFBMVEX////MzMxUVFRERES6uroi\n",
       "IiIQEBCYmJhmZmYyMjLu7u52dnaqqqqIiIjc3NwAAACW8nlqAAAAAXRSTlMAQObYZgAAAAlwSFlz\n",
       "AAAOxAAADsQBlSsOGwAAAcVJREFUOMtjYCALcDCQDZgh1AOcCh4Q0Mp7AKcCXzR+ZbL91OQChNbT\n",
       "uJ3FW4AmYPCIwal4AUwr1wQ8XpqFrvU1AzOjAkOzsZmxcQEDB6rJ7ii8CkytHA8mwGxlQ5U8i8Jj\n",
       "WwChL4eGToBrNYBpPYlPKyfESZ63ELYyrVKAae0G+feulvQeFK1cNwoYFjEwcIOUMfDNQnKw8MkH\n",
       "MK3TwWnj0oVWFK3cPAkM9QwM7GBncsLj1+DZ1K+34KkpBojrGOoXqKNoleEIYFBmYAAaANKKFEzl\n",
       "KxHeSQFiAYZOMLs1NDQtNDQIyFrAdoEhl4GB8QNIWCwUCAwgWpmXF6BoZQApQw0m/wWMHxkYWMC2\n",
       "LkaylbHBCs4DOZiB5R/DKlStnQy8QG08ASA2K3K8Nj6G82yBwWnClMCwAVWrEQMzMHTZwc7kvYCk\n",
       "dTEidW4Cmv1xRQLLAVStTQz+QCUcEAPnwLW+YGAvMIHxRIG29l44UYPm10V7+4FRwuoA4ZgsgOUc\n",
       "Owbj+bCsxiqAIzXtBOKnULa3aSiWXMLegC35c0/gygFS7fjLCjtsgqwXmIDe5DPAr3UxNkGe2hZQ\n",
       "Sn2AXyvfBZxS9/BqBACCV3IPCoF6CgAAAABJRU5ErkJggg==\n",
       "\" style=\"display:inline;vertical-align:middle;\" /></a> <a class=\"ProveItLink\" href=\"../__pv_it/demonstrations/bee89a2d56b0e301f01a19f3f45a237accb3caa80/proof.ipynb\" style=\"text-decoration: none\">&nbsp;&#x22A2;&nbsp;&nbsp;</a><a class=\"ProveItLink\" href=\"../__pv_it/demonstrations/9063ed7fcdc6b2f20f3f847eb7604c18f9e9f9ab0/expr.ipynb\"><img src=\"data:image/png;base64,iVBORw0KGgoAAAANSUhEUgAAAGgAAAAVBAMAAABYjraNAAAAMFBMVEX///9ERES6uroyMjLc3Nxm\n",
       "ZmZ2dnbMzMxUVFSIiIgiIiIQEBCqqqqYmJju7u4AAAC1Kov9AAAAAXRSTlMAQObYZgAAAAlwSFlz\n",
       "AAAOxAAADsQBlSsOGwAAAWlJREFUOMtjeMeADzhgF76LTw9TAAqXb72gHQPb/k0kaWJgPKDBwPCe\n",
       "NJsYOJawXWDgxtCki1/TQQYTBi4MTSexauKUWrUYrMl3gjOxmpgsH0BtcmjnTIBqejnjedoBFE18\n",
       "Uy8wvIBrcn4Ac54DI4MQVFMAZyfrAhRNbDwbGO7DNZnA/eTAHvDqFVgTrwPvP44LKJpqgIY0wjUZ\n",
       "IDQx3OGRBmtiZ2CFCEetWrV71aoVQNYD7gkMO2Ga2HetWrVqIVQTx4NuaEAAlaAFhP4D9u8wTXwC\n",
       "SDbxNbyCatJ34HuAqimYgXMD3HkLkDQxVDKCNT1U6GZgQ7NJgoGxAa5pJjwZFQDjrBCs6XxdNIMO\n",
       "mqYIBv0LcE3M0PiAMILBmp7O5Ik9gKbpRWa8A1wTX6MemGa33wgkH+NJEclIyYgpEZKMcOQnaIJl\n",
       "M+DbgyXB4s+EXBM4EkjWxHMziAGPptOrVuLKgjyrVk3AKgEAHQ1soKzRVnUAAAAASUVORK5CYII=\n",
       "\" style=\"display:inline;vertical-align:middle;\" /></a></span>"
      ],
      "text/plain": [
       "{(x + y) in RealPos} |- floor(x + y) in Natural"
      ]
     },
     "metadata": {},
     "output_type": "display_data"
    }
   ],
   "source": [
    "floor_x_plus_y_in_ints_2.proof().disable()\n",
    "floor_x_plus_y.deduce_in_number_set(Natural, assumptions=[InSet(Add(x,y), RealPos)])"
   ]
  },
  {
   "cell_type": "code",
   "execution_count": 48,
   "metadata": {},
   "outputs": [
    {
     "name": "stdout",
     "output_type": "stream",
     "text": [
      "EXCEPTION: the closure theorems do not apply without more constraints.  Prerequisites not met while assuming (): x + y not readily provable to be a Real number\n"
     ]
    }
   ],
   "source": [
    "# If we don't at least know the operand is real-valued,\n",
    "# difficult to know what set(s) the result belongs to \n",
    "try:\n",
    "    floor_x_plus_y.deduce_in_number_set(Integer)\n",
    "except Exception as e:\n",
    "    print(\"EXCEPTION: the closure theorems do not apply without more constraints. \", e)"
   ]
  },
  {
   "cell_type": "markdown",
   "metadata": {},
   "source": [
    "### Round.deduce_in_number_set()"
   ]
  },
  {
   "cell_type": "code",
   "execution_count": 49,
   "metadata": {},
   "outputs": [
    {
     "data": {
      "text/html": [
       "<span style=\"font-size:20px;\"> <a class=\"ProveItLink\" href=\"../__pv_it/demonstrations/56fb3af282d8dbb0200c2ceca7f8198f958c8aec0/proof.ipynb\" style=\"text-decoration: none\">&nbsp;&#x22A2;&nbsp;&nbsp;</a><a class=\"ProveItLink\" href=\"../__pv_it/demonstrations/40c00e4084b7fac372901e5d26f338298c5d7ae80/expr.ipynb\"><img src=\"data:image/png;base64,iVBORw0KGgoAAAANSUhEUgAAAH0AAAAVBAMAAACZCfwhAAAAMFBMVEX///+qqqpUVFSIiIi6urru\n",
       "7u4iIiIyMjIQEBCYmJhmZmbc3NxERER2dnbMzMwAAADprbYgAAAAAXRSTlMAQObYZgAAAAlwSFlz\n",
       "AAAOxAAADsQBlSsOGwAAAk1JREFUOMudVE1oE0EU/jab/cn+pLmrNBJskSBdC16qhgUFvYhLDnpQ\n",
       "2ICYg1C7HgSRHoJe9CAGxIsHKx4KDRYWhYAguP6g4EEWAqKgsh7E4qnSFisV65udbNoGmtIM7LzZ\n",
       "996375v3zSywxdC58dHn2M/NkS73qb9vHXxctjcHZq88oFkIoTcmI4j1rvCLdB7SfK/KAzmaTgPP\n",
       "YC4Cl7uiQ/4noNYLf9KhaQYoAjeAe13R3YHio9IL/4FNVOG2gxEfqsO9h6pVj9niHd3rjb/Ktk+5\n",
       "Q8BIBIU34NiBdrSYig4zfPazPkuh1qgtjdWRctKjZ1qvSLZ9pV+UpYVx8gRg5mM1O20oIjBswpvG\n",
       "rFlD09ZXTKGGKXovwPVx3DeWKItXzS4AmZi14q/hf0rnCf9UqVCRc8D4N62CYRyVAzyPpJvQGEBm\n",
       "GkCm2kLcawVr+ExuJ/m+D1AJjYS85qgWrsNxbQw65JAZdTU+II8Yh1jruSqNgOOxJ1Vry6QG0Bdo\n",
       "pf8DBkEsyOHaCT7Dtp6O659dVx9lifV/mh7XgrlCK3GegfFHIscUEv67oPsQYq3k9fisxZiMs6NW\n",
       "hxriJYzgLm5BWDLdHIYF6pVhUVoI0UEmZi1aCf49PSXy6YtMpjzeAQ8xF4a0BdG7b1jCBQ1ctWaj\n",
       "Md1R8lKCZwvW4nTM68sYbbTc2lGI6F3am5MKXx+XWNcoOrG6+puY86tWfs3P4Y9lqi15W17fi8mi\n",
       "2bYn3lS9bVz/zrWZ6e/3YbQPnB70h5eCjd/Z9njCzcFNwv8BDPSP1BR+MzkAAAAASUVORK5CYII=\n",
       "\" style=\"display:inline;vertical-align:middle;\" /></a></span>"
      ],
      "text/plain": [
       "|- round(2) in Natural"
      ]
     },
     "metadata": {},
     "output_type": "display_data"
    }
   ],
   "source": [
    "round_2.deduce_in_number_set(Natural)"
   ]
  },
  {
   "cell_type": "code",
   "execution_count": 50,
   "metadata": {},
   "outputs": [
    {
     "data": {
      "text/html": [
       "<span style=\"font-size:20px;\"><a class=\"ProveItLink\" href=\"../../ordering/__pv_it/theorems/d1323f34847310a404e8089c2c268d3c2eb89dbf0/expr.ipynb\"><img src=\"data:image/png;base64,iVBORw0KGgoAAAANSUhEUgAAADQAAAAQBAMAAACra0H4AAAAMFBMVEX///9ERES6uroQEBAyMjLc\n",
       "3NyYmJgiIiJmZmaqqqp2dnbMzMxUVFSIiIju7u4AAAAd7oVFAAAAAXRSTlMAQObYZgAAAAlwSFlz\n",
       "AAAOxAAADsQBlSsOGwAAAMtJREFUGNNjYMAAbM6CX4rFGLACRtYDTMfkcEgtYBDYg1OqlQVF6GJ5\n",
       "uQNcihFZRuUekq5zb4CMt3der5oApFn9kAzklnQFMhp4z3IUAGmWAISUSX3tA6AvAtj+8SSApJCc\n",
       "sSwPZCk3AwfYbobN5UAgADVQLg0sxnwBTD1EdvwOxgcgln4AH4hmR5bi2ArU/1DhMAMXSID3ApIU\n",
       "n8A1Bob5+5oZNMEingipBoY0RgWGF3c52yaARd4IPYCF/McARpGfyMGhJQ4JKCgAAF8xNF8aQs/g\n",
       "AAAAAElFTkSuQmCC\n",
       "\" style=\"display:inline;vertical-align:middle;\" /></a> <a class=\"ProveItLink\" href=\"../__pv_it/demonstrations/780f305bdcc6ed1c934aaf9bc35d05507b6fda6c0/proof.ipynb\" style=\"text-decoration: none\">&nbsp;&#x22A2;&nbsp;&nbsp;</a><a class=\"ProveItLink\" href=\"../__pv_it/axioms/3092db86d9a8a3b1e27b2eeb45fa2be5e9187daa0/expr.ipynb\"><img src=\"data:image/png;base64,iVBORw0KGgoAAAANSUhEUgAAAH4AAAAVBAMAAAByPkciAAAAMFBMVEX///+qqqpUVFSIiIi6urru\n",
       "7u4iIiIyMjIQEBCYmJhmZmbc3NxERER2dnbMzMwAAADprbYgAAAAAXRSTlMAQObYZgAAAAlwSFlz\n",
       "AAAOxAAADsQBlSsOGwAAAktJREFUOMudVE1oE0EU/jabyc9uts1JBSkp5FDFH0J6socSQSF4cdGb\n",
       "BhNRIoiFQBHqz6H4B0LFXMSL2OBB9BBZPCiCYKz4g3pYjXhqJR4q4sWKBpSC+O3sZpdWTTUDM/Pe\n",
       "vPlm3nvfmwFWaJY76eitqUl3DmeWGZSJ7yfLz6p/R/ZN1DgOdNQtyw+eaaES7XZ1P68WlY4WNZda\n",
       "tRrU6qtu+J1EaL6D8dpSa8hCQTS64d+yxwL1rOf3k/IhZxbArVCrG/44++pAPebmcdyPo2/wkzPO\n",
       "6nU62czmxEgVITOc3dt8RL42jX6htc6+O7tvjql4LUF3gzQkzMccjUTdmMSdnL5oKJOYpp5G0ULe\n",
       "SrS9S2tqWisBlyXoRODQQNzh9F60pNk4AIy9564hbIs08KAlzkNzUr+fibPi7RA9XCNBlQDvsjff\n",
       "T5u2AJwyYxmchlnMIWVyIWLTeoYBuifhs4z5XLlcPuJV1hvAdGmKNaB/paT/BFKgF1zgORJPq6y9\n",
       "vMx6wFhBp7wBuE65mIGxSEldcMD4IbgwDdd/3mAJ3rFKoko+fjMrQHD/mFNqVcRszCDRuIQLUNpG\n",
       "MYkhhU+HTBRy62BwzxWJGvbZq+1gEZWgf3OKcRDPgWv4aNsMQa1cTWSUwxokaan5G9jqUckyTvrs\n",
       "HYX+sIGw9GhuhNHuaq5Nt6iL9UmRfnd7lOsfgD3Dyk0HdFDCxMbtLj7/dOrlxSl7hecb8StU9yIP\n",
       "z7r1+28teDVataf/40VHuN/b/1P47aD/a7r3b6nWn+2/AIzziDmVvAtnAAAAAElFTkSuQmCC\n",
       "\" style=\"display:inline;vertical-align:middle;\" /></a></span>"
      ],
      "text/plain": [
       "{x in Real} |- round(x) in Integer"
      ]
     },
     "metadata": {},
     "output_type": "display_data"
    }
   ],
   "source": [
    "round_x.deduce_in_number_set(Integer, assumptions=[InSet(x, Real)])"
   ]
  },
  {
   "cell_type": "code",
   "execution_count": 51,
   "metadata": {},
   "outputs": [
    {
     "data": {
      "text/html": [
       "<span style=\"font-size:20px;\"><a class=\"ProveItLink\" href=\"../../number_sets/real_numbers/__pv_it/theorems/7697fc34c81296f04a039eeb9dd22e91165d63b70/expr.ipynb\"><img src=\"data:image/png;base64,iVBORw0KGgoAAAANSUhEUgAAAEAAAAATBAMAAADSXRa0AAAAMFBMVEX///9ERES6uroQEBAyMjLc\n",
       "3NyYmJgiIiJmZmaqqqp2dnbMzMxUVFSIiIju7u4AAAAd7oVFAAAAAXRSTlMAQObYZgAAAAlwSFlz\n",
       "AAAOxAAADsQBlSsOGwAAANxJREFUKM9jYMAHGhgIAAHyFLA5C34pFsNnAiPrAaZjcngVLGAQ2MPA\n",
       "IShoKCiGS0ErCxYTLpaXO8AVMGIqULmHZMK5N3AFb++8XjUBSLP6IVnBLekKV9DAe5ajAEizBCAU\n",
       "mNTXPoCFJFsA2z+eBJACJEcuy3OA87gZOCCczeVAIAC1Qi4NyXHMF8DUQ2Rv7mB8gFCgH8AH4rEj\n",
       "K+DYCvfhQ4XDDFwgBu8FJAV8AtdgvPn7mhk0wSxPhIIGhjRGBSjvxV3Otglg1huhB7DY/BjAKPIT\n",
       "Mw60xMsdMAQB8jw2YYZ9lmsAAAAASUVORK5CYII=\n",
       "\" style=\"display:inline;vertical-align:middle;\" /></a> <a class=\"ProveItLink\" href=\"../__pv_it/demonstrations/1412433763aa1e39b2e771cba9560062d66cfd420/proof.ipynb\" style=\"text-decoration: none\">&nbsp;&#x22A2;&nbsp;&nbsp;</a><a class=\"ProveItLink\" href=\"../__pv_it/theorems/e4df6bb9f827a61564505b253a64d76a7eeb2b4b0/expr.ipynb\"><img src=\"data:image/png;base64,iVBORw0KGgoAAAANSUhEUgAAAH8AAAAVBAMAAACd/CwcAAAAMFBMVEX///+qqqpUVFSIiIi6urru\n",
       "7u4iIiIyMjIQEBCYmJhmZmbc3NxERER2dnbMzMwAAADprbYgAAAAAXRSTlMAQObYZgAAAAlwSFlz\n",
       "AAAOxAAADsQBlSsOGwAAAkdJREFUOMudVE9o01AY/6XNa9L86XJWYZUyxyhCrHiZWgIKehFDQQUV\n",
       "UhB7ECbxIIinoCcPQkW8KFhRUHYYBIWBJ6MOBQ9SKYiCSj2IQxAmOphUht9L0nQE1rF+0Pe973t9\n",
       "v+/P73sBNhA11j5GlF2xPpDyH//32saHFWv9m4VL92gV2rGZbabOn4tFsKVhsccMWk4k5sXU8Q7/\n",
       "I+ANAzhq0zKbmLdTx9sDyUd9GMB7vgxCyHak9zUaLtflm6o7HOAyb4GbmFLUhEN7Yruc6e7nAIVP\n",
       "6hwddSoWm24iY4uVU52XxN7O6i/6l0I9ZLsnfr4D9GLIatKKMgLNIgBdm9M9zFtqTxc8tMguwfFx\n",
       "2NeW47AKKuZDIB8mI/kDgB/sLAE8leoU5gww81WpYxIHcwGeddk1KPxCjpi4g5Y9RdWE7ZAwAMgb\n",
       "28j3bYwHIT6v2LKJq7AdC+M2OXJ8AmQalC4ehXMRcr7YIAkiAExkvJgtOYD6m3bqKjAOyoMcjhUD\n",
       "gGBJxDCD02syQI1xFqg8OCb0Hu2yS/w2/jJytBCXALGHY1RCSFluLUDB5LnM8KFrQm7jBbTgFq5D\n",
       "WNYdA5MC9UszwRYoUSonHyaeNfsAb+lXJZ/6h7NVxBvgPhbbbaoi697VTOGcgpA7YfWkJxoRoyQX\n",
       "+gB8wxsthpl9nqZia52tpS7ZbMpgpS+Pq7xzZD0wt9zgyUcPr7YQTeT3FYrO3A1f8/lkNx/rI68a\n",
       "7iY+B4MnNDva90TrT54ajAbAgjTSZuVJrPeuc/4fHF+LoSwzfFAAAAAASUVORK5CYII=\n",
       "\" style=\"display:inline;vertical-align:middle;\" /></a></span>"
      ],
      "text/plain": [
       "{x in RealPos} |- round(x) in Natural"
      ]
     },
     "metadata": {},
     "output_type": "display_data"
    }
   ],
   "source": [
    "round_x.deduce_in_number_set(Natural, assumptions=[InSet(x, RealPos)])"
   ]
  },
  {
   "cell_type": "code",
   "execution_count": 52,
   "metadata": {},
   "outputs": [
    {
     "name": "stdout",
     "output_type": "stream",
     "text": [
      "EXCEPTION: the closure theorems do not apply without more constraints.  Prerequisites not met while assuming (): x not readily provable to be a Real number\n"
     ]
    }
   ],
   "source": [
    "# If we don't at least know the operand is real-valued,\n",
    "# difficult to know what set(s) the result belongs to \n",
    "try:\n",
    "    round_x.deduce_in_number_set(Integer)\n",
    "except Exception as e:\n",
    "    print(\"EXCEPTION: the closure theorems do not apply without more constraints. \", e)"
   ]
  },
  {
   "cell_type": "markdown",
   "metadata": {},
   "source": [
    "## Testing the `rounding_elimination()` method\n",
    "<font size=4> Some testing of the `rounding_elimination()` utility method(s), allowing the simplification of `Ceil(x)`, `Floor(x)`, and `Round(x)` to the operand $x$ when we know $x\\in\\mathbb{Z}$.</font>"
   ]
  },
  {
   "cell_type": "code",
   "execution_count": 53,
   "metadata": {},
   "outputs": [
    {
     "data": {
      "text/html": [
       "<a class=\"ProveItLink\" href=\"../__pv_it/demonstrations/0e59f9bd1ae96e9218e87188b5ea6607f0e587780/expr.ipynb\"><img src=\"data:image/png;base64,iVBORw0KGgoAAAANSUhEUgAAABcAAAAVBAMAAABfzGiYAAAAMFBMVEX////u7u4QEBBUVFR2dnbM\n",
       "zMxEREQyMjJmZmbc3NyqqqqYmJiIiIgiIiK6uroAAAAyDowUAAAAAXRSTlMAQObYZgAAAAlwSFlz\n",
       "AAAOxAAADsQBlSsOGwAAAHJJREFUGNNjeHv3DgMIcN29u4FhNwMM8DWAOZwdZQFwzjQGln9wjiUD\n",
       "gxKcoy/AYD8BxrFlYLAPgHGA4D4DgsP6B4nDa4DEaUNYysBtgMRZwsAJN5rVgYFHAMaZ29HRC1d2\n",
       "////70imIXmBCM4qOIfVAQAPSC4jVKE0pAAAAABJRU5ErkJggg==\n",
       "\" style=\"display:inline;vertical-align:middle;\" /></a>"
      ],
      "text/plain": [
       "ceil(2)"
      ]
     },
     "metadata": {},
     "output_type": "display_data"
    }
   ],
   "source": [
    "ceil_2"
   ]
  },
  {
   "cell_type": "code",
   "execution_count": 54,
   "metadata": {},
   "outputs": [
    {
     "data": {
      "text/html": [
       "<span style=\"font-size:20px;\"> <a class=\"ProveItLink\" href=\"../__pv_it/demonstrations/444d614d3049a24bd01a07c9993316a9170fd8830/proof.ipynb\" style=\"text-decoration: none\">&nbsp;&#x22A2;&nbsp;&nbsp;</a><a class=\"ProveItLink\" href=\"../__pv_it/demonstrations/225e494d76b07021d38995c95301512a314464680/expr.ipynb\"><img src=\"data:image/png;base64,iVBORw0KGgoAAAANSUhEUgAAAEAAAAAVBAMAAAAEBPWpAAAAMFBMVEX////u7u4QEBBUVFR2dnbM\n",
       "zMxEREQyMjJmZmbc3NyqqqqYmJiIiIgiIiK6uroAAAAyDowUAAAAAXRSTlMAQObYZgAAAAlwSFlz\n",
       "AAAOxAAADsQBlSsOGwAAALJJREFUKM9jeHv3DgMIrL17mwEr2A1nvcCtYEZ7KlYFYHGgAs4EBv8H\n",
       "WBRAxIEKmCcwMClgUQARBypg+sjA/BOLAog4yIQLDMxfsZkAFof4gvcDdl8AxSEK4g/AFHDcBQMD\n",
       "Bpg4RMFlHOFwGRpQHAnYFYDEwQo24wjJzdCQ5HJgmInNDWBxkIIQBoaD2EwAi4OC+kZHxwVsQQ0W\n",
       "Byrg/f//fwEWBRBxoqKbxgpWIXsKCwAA2GtXf8ifAUkAAAAASUVORK5CYII=\n",
       "\" style=\"display:inline;vertical-align:middle;\" /></a></span>"
      ],
      "text/plain": [
       "|- ceil(2) = 2"
      ]
     },
     "metadata": {},
     "output_type": "display_data"
    }
   ],
   "source": [
    "ceil_2.rounding_elimination()"
   ]
  },
  {
   "cell_type": "code",
   "execution_count": 55,
   "metadata": {},
   "outputs": [
    {
     "data": {
      "text/html": [
       "<a class=\"ProveItLink\" href=\"../__pv_it/demonstrations/5e296efcc2b896d21019b0c54108c61490c5d1130/expr.ipynb\"><img src=\"data:image/png;base64,iVBORw0KGgoAAAANSUhEUgAAAD0AAAAVBAMAAAAHs/uBAAAAMFBMVEX///9EREQQEBAyMjLc3Nxm\n",
       "ZmZ2dnbMzMxUVFTu7u6qqqqYmJiIiIgiIiK6uroAAAAc1BPlAAAAAXRSTlMAQObYZgAAAAlwSFlz\n",
       "AAAOxAAADsQBlSsOGwAAALZJREFUKM9jeHv3DgMOwHX37gaG3Qx4AF/AkJDnPNNZloUiwXl0A8MM\n",
       "uDwrw4kDsSjybFwKDPvh8lsY9k/oRpGvYr3A0AiXL2AIBotOvgsC14GsCUwHGHSQ3KeD7rL3E9i/\n",
       "I+T5vjDMRJUPZuBRgMlzynEoMCSgykswMDbA5Lm+T1XgW4AqH8HwfgNcf8yBpbvQ7J+RE++AP/yS\n",
       "8YUvmwGnFj553gMcCfjkufbEQeNnFb74Y08AAGCGQEAaJ0zIAAAAAElFTkSuQmCC\n",
       "\" style=\"display:inline;vertical-align:middle;\" /></a>"
      ],
      "text/plain": [
       "ceil(x - y)"
      ]
     },
     "metadata": {},
     "output_type": "display_data"
    }
   ],
   "source": [
    "ceil_x_minus_y"
   ]
  },
  {
   "cell_type": "code",
   "execution_count": 56,
   "metadata": {},
   "outputs": [
    {
     "data": {
      "text/html": [
       "<span style=\"font-size:20px;\"><a class=\"ProveItLink\" href=\"../__pv_it/theorems/e7ea3ade6561bbbb858c02aa3be91f7305b5ebb50/expr.ipynb\"><img src=\"data:image/png;base64,iVBORw0KGgoAAAANSUhEUgAAADMAAAAQBAMAAABJt1qBAAAAMFBMVEX///9ERES6uroQEBAyMjLc\n",
       "3NyYmJgiIiJmZmaqqqp2dnbMzMxUVFSIiIju7u4AAAAd7oVFAAAAAXRSTlMAQObYZgAAAAlwSFlz\n",
       "AAAOxAAADsQBlSsOGwAAAN1JREFUGNNjYMAEU+xNxAvNGLCBi6cZWBgcsEp1MDBc45qAVeooA5/A\n",
       "Q1QhXvHyEhD9gIFjw2kUGSbfBzDmHu4GEPX2zutVYIND4DIMcoxgdgPvWY4CEMMVLsO5IBdEsQWw\n",
       "/eNJALEQzoU6nZuBAyLGbV5eXl4IZt7kUmDgAzGYL4D5fAIwTXwCgQwMPAFAln4AH9jSApgUz4aj\n",
       "DAzvGRgeKhxm4AKL3IVJ7WACOv04A8P8fc0MmhDLYWEjx/KAIXAiA8OLu5xtEDG+g3oQrxs6Cwp/\n",
       "lkINjoWQgIICAM0UMqoFj6RNAAAAAElFTkSuQmCC\n",
       "\" style=\"display:inline;vertical-align:middle;\" /></a>, <a class=\"ProveItLink\" href=\"../__pv_it/demonstrations/1a5270d7d3401e3ec902ebbf86bec5c78898bba20/expr.ipynb\"><img src=\"data:image/png;base64,iVBORw0KGgoAAAANSUhEUgAAADIAAAATBAMAAAAg4UMRAAAAMFBMVEX////c3NwyMjK6urpEREQi\n",
       "IiLMzMwQEBCqqqp2dnZUVFSYmJhmZmaIiIju7u4AAADlKNhoAAAAAXRSTlMAQObYZgAAAAlwSFlz\n",
       "AAAOxAAADsQBlSsOGwAAAPJJREFUGNNjYMAAHOrfVULdN2BKMPB6JTAoMGGRYOA5wMC7YQY2GS4B\n",
       "hid8DiimuIYGgWg+BoZjXAlIEsy6D2BMtgU5IBV3NjC8AnGF4BIMLA/8gCQnRwHDfhBXEaG9k/sC\n",
       "kMzgCWBYAuIqIGQgbn7AfoGhFmR2aWhoaAjEKQ2TgeIMDPYP2L6B7EO48wkjkL2QgeEQA28BiB8A\n",
       "l1kG9BHfBwYGLwaWBSD+XbibD9gAvQtUeIrBHhx6TA1wN+sxMHoADXw197wA2OtL7CAy5k4lLvUl\n",
       "E0DMSdBAmAIJHRjgVOCrYMAKWC9wTcAuw7H3MHYJABj+NEi8Hq+uAAAAAElFTkSuQmCC\n",
       "\" style=\"display:inline;vertical-align:middle;\" /></a> <a class=\"ProveItLink\" href=\"../__pv_it/demonstrations/e3bc1d762aacdc49a183e469634ace4a0475c0820/proof.ipynb\" style=\"text-decoration: none\">&nbsp;&#x22A2;&nbsp;&nbsp;</a><a class=\"ProveItLink\" href=\"../__pv_it/demonstrations/54722cc644862c4fe0959d62b53e3f2196d5a1690/expr.ipynb\"><img src=\"data:image/png;base64,iVBORw0KGgoAAAANSUhEUgAAAJoAAAAVBAMAAABMN+opAAAAMFBMVEX///9EREQQEBAyMjLc3Nxm\n",
       "ZmZ2dnbMzMxUVFTu7u6qqqqYmJiIiIgiIiK6uroAAAAc1BPlAAAAAXRSTlMAQObYZgAAAAlwSFlz\n",
       "AAAOxAAADsQBlSsOGwAAAc5JREFUOMuVlL9Lw0AUx79Wk+ZXi4ODg0hWRaS7CPE/KAoi+CsgSBGH\n",
       "ToKCWB0KokOqFBUciqKDIlZ0UsEgFAp2cBPEiDgKUoeCFBevVx0uvSvkILnj7vs+73Hv3sOn9wLB\n",
       "0Dwv37hrieRt5LtBkxGNN2wZOaHYDU47FqsfAtPUmFjd6gSlSXmxWo8HpYWayXuC0g6byQcoTS2t\n",
       "L8yx11PIY5dHGyXffnFnls3s/jjUFJCgNAlFd5I5ljUTd/80yaMjVXcPxI1N6ZGR2wfQv4BLSrvC\n",
       "nbPBHC8R+Sovtmdy2ZZeVZhkhHOTUNqBA0pLYoTubtMYnsjKCbno49H6iS0k+kzUQSpPkhXREgOs\n",
       "/GWhz29VdsLfAhqoJZutKlYI9b1Oi1awx56PwDB59/ZMXVmqw77CGO7JdFajqd2KCZuldaIlxYut\n",
       "C8i8rUFmd4m2k0wXNZr2nTWjvmIeQznPoyWA88VhfPgqJBX9oc+nFtuEe3Tts9qdn7Z4tGUgW9LG\n",
       "fb7VdKFCpldxLcxwayGS5Ktlkua2RwFNjqm9XJoe53veytGOwKdFXMXm97cOnvwFafIfEvU37XZK\n",
       "0C0zPPlp4a3u6KRZUwjbjd3fFYkNC799Boc1ICfFQQAAAABJRU5ErkJggg==\n",
       "\" style=\"display:inline;vertical-align:middle;\" /></a></span>"
      ],
      "text/plain": [
       "{x in Integer, y in Integer} |- ceil(x - y) = (x - y)"
      ]
     },
     "metadata": {},
     "output_type": "display_data"
    }
   ],
   "source": [
    "ceil_x_minus_y.rounding_elimination(assumptions=[InSet(x, Integer), InSet(y, Integer)])"
   ]
  },
  {
   "cell_type": "code",
   "execution_count": 57,
   "metadata": {},
   "outputs": [
    {
     "data": {
      "text/html": [
       "<a class=\"ProveItLink\" href=\"../__pv_it/demonstrations/7530ee1d53014472c5afc104cebb108542505de90/expr.ipynb\"><img src=\"data:image/png;base64,iVBORw0KGgoAAAANSUhEUgAAAHAAAAAVBAMAAABs93eRAAAAMFBMVEX////MzMxUVFREREQQEBBm\n",
       "ZmYyMjLu7u52dnbc3NyqqqqYmJiIiIgiIiK6uroAAACaAm0XAAAAAXRSTlMAQObYZgAAAAlwSFlz\n",
       "AAAOxAAADsQBlSsOGwAAAZhJREFUOMt9079Lw0AUB/Bv08S0aRMci4uCg4NL9Q+QzKKL0C7+yuYa\n",
       "Cta1k4MIdnEQFLq4CEIQOvgDGgQRxSEVnTTQxU1pO0mnekm8tBdyeRAuecknudy9hx/3E0AWvKjH\n",
       "JS/dD9z6Z89c+B2f/gqgUuPCvBVJHJcXRrAKfuywl9kijjohXE+Azf9RCz4t1CHqIdQToGgGo2IH\n",
       "l78QBhQqRgKcsBgoOBD6FEpkbeSXucIBI+QHCxUgM8NAEmqPQu+lEu7tTQZmFB0tIGdE4bRNodoA\n",
       "rtEy5xk4JTmYJUCPwtdwO0SyvpMo+9mq60WbnJmijRUg1fN+xnXfVl3Xn7VUZCC8h9jomimyDFr0\n",
       "i1ejyvGmCm2APRaWkSdIcVhIquyEwrQNeUnQESm8RaTJ3HJFFhaARwrJiiv9XV1rsHANXSvYqzGY\n",
       "fS+VHApTDuQN+/wm8o+Vw23SVGqHgepwODTCkmtzqmafHGeIbsdYWzXjVMaQl8caQLNiYDquz1Vb\n",
       "qPltlNDIctxd5W6L904PXvjjKbc5nuLThT9QmoF2WGjObwAAAABJRU5ErkJggg==\n",
       "\" style=\"display:inline;vertical-align:middle;\" /></a>"
      ],
      "text/plain": [
       "ceil((x - y) + 2)"
      ]
     },
     "metadata": {},
     "output_type": "display_data"
    }
   ],
   "source": [
    "ceil_x_minus_y_plus_2"
   ]
  },
  {
   "cell_type": "code",
   "execution_count": 58,
   "metadata": {},
   "outputs": [
    {
     "data": {
      "text/html": [
       "<span style=\"font-size:20px;\"><a class=\"ProveItLink\" href=\"../__pv_it/theorems/e7ea3ade6561bbbb858c02aa3be91f7305b5ebb50/expr.ipynb\"><img src=\"data:image/png;base64,iVBORw0KGgoAAAANSUhEUgAAADMAAAAQBAMAAABJt1qBAAAAMFBMVEX///9ERES6uroQEBAyMjLc\n",
       "3NyYmJgiIiJmZmaqqqp2dnbMzMxUVFSIiIju7u4AAAAd7oVFAAAAAXRSTlMAQObYZgAAAAlwSFlz\n",
       "AAAOxAAADsQBlSsOGwAAAN1JREFUGNNjYMAEU+xNxAvNGLCBi6cZWBgcsEp1MDBc45qAVeooA5/A\n",
       "Q1QhXvHyEhD9gIFjw2kUGSbfBzDmHu4GEPX2zutVYIND4DIMcoxgdgPvWY4CEMMVLsO5IBdEsQWw\n",
       "/eNJALEQzoU6nZuBAyLGbV5eXl4IZt7kUmDgAzGYL4D5fAIwTXwCgQwMPAFAln4AH9jSApgUz4aj\n",
       "DAzvGRgeKhxm4AKL3IVJ7WACOv04A8P8fc0MmhDLYWEjx/KAIXAiA8OLu5xtEDG+g3oQrxs6Cwp/\n",
       "lkINjoWQgIICAM0UMqoFj6RNAAAAAElFTkSuQmCC\n",
       "\" style=\"display:inline;vertical-align:middle;\" /></a>, <a class=\"ProveItLink\" href=\"../__pv_it/demonstrations/1a5270d7d3401e3ec902ebbf86bec5c78898bba20/expr.ipynb\"><img src=\"data:image/png;base64,iVBORw0KGgoAAAANSUhEUgAAADIAAAATBAMAAAAg4UMRAAAAMFBMVEX////c3NwyMjK6urpEREQi\n",
       "IiLMzMwQEBCqqqp2dnZUVFSYmJhmZmaIiIju7u4AAADlKNhoAAAAAXRSTlMAQObYZgAAAAlwSFlz\n",
       "AAAOxAAADsQBlSsOGwAAAPJJREFUGNNjYMAAHOrfVULdN2BKMPB6JTAoMGGRYOA5wMC7YQY2GS4B\n",
       "hid8DiimuIYGgWg+BoZjXAlIEsy6D2BMtgU5IBV3NjC8AnGF4BIMLA/8gCQnRwHDfhBXEaG9k/sC\n",
       "kMzgCWBYAuIqIGQgbn7AfoGhFmR2aWhoaAjEKQ2TgeIMDPYP2L6B7EO48wkjkL2QgeEQA28BiB8A\n",
       "l1kG9BHfBwYGLwaWBSD+XbibD9gAvQtUeIrBHhx6TA1wN+sxMHoADXw197wA2OtL7CAy5k4lLvUl\n",
       "E0DMSdBAmAIJHRjgVOCrYMAKWC9wTcAuw7H3MHYJABj+NEi8Hq+uAAAAAElFTkSuQmCC\n",
       "\" style=\"display:inline;vertical-align:middle;\" /></a> <a class=\"ProveItLink\" href=\"../__pv_it/demonstrations/18abe4a10a5e2ec0003424df7cb68db96fd4b0ba0/proof.ipynb\" style=\"text-decoration: none\">&nbsp;&#x22A2;&nbsp;&nbsp;</a><a class=\"ProveItLink\" href=\"../__pv_it/demonstrations/13273b9726352ce23e3afc2f39253956a4c2e6f20/expr.ipynb\"><img src=\"data:image/png;base64,iVBORw0KGgoAAAANSUhEUgAAAQAAAAAVBAMAAABbMC3JAAAAMFBMVEX////MzMxUVFREREQQEBBm\n",
       "ZmYyMjLu7u52dnbc3NyqqqqYmJiIiIgiIiK6uroAAACaAm0XAAAAAXRSTlMAQObYZgAAAAlwSFlz\n",
       "AAAOxAAADsQBlSsOGwAAAzRJREFUSMeNlk9oE0EUxr9sEzfZZENuFkEaULCiYuxNEMmhIEjVoqYI\n",
       "NRrw4EGE2Fq99BA8iIjgQvEgKORQpfgHg1JBKzQUi6g9pKIX6docerJK24ulKMZ5sxvZmcxUH7xO\n",
       "ujPzzW/ezJsZfHfnADjQWEz10XLdirppTKejHoGaT9CPRFnXL1lVf+5t/fbOd7V906lzgDFtP7yX\n",
       "oXNnUkoAq+S5xhJyzG717eHqBGAW9AAbiuL/I4j+VgJc8l1nZ6WJZHCzTuoEEKno+8WbQy16xXag\n",
       "WwnQ77vOxpth9wYzHISzpE4A4XX64YBfPvKKI0XsdlQAWd91FvZDaXm7KrwKY43UCeD+egDnRIBd\n",
       "wO6UAsAqeK5fy4oAYNRgrJA6AZxgPjx14ZqYC8P9MNPAFRGA2bxqCSIlz82Zbe3XhRpzuoIBIJoW\n",
       "AJjZy6Q+4U+yN7EzUhM6lkYRZ02eywChX38B8i7Zh+YEySOYquYFnaiVxSTbTAUZoKNK6gTwmVU7\n",
       "8VVD2Iuhch5GBhiVAey0KgJ22fMXmCzuEGo2sYltYQNnZQACH+UAh9lwiHBC8zyfFEt1Ez0Is8Yd\n",
       "/lS7/animPIgCtc9T6HPy0quM8t+FZlKDxthmRbKdT8ecl2+GpEMRaEJAD6YeEytooOBLEgRiKfX\n",
       "BQANJtpSMcS2W1KOwFP6s9BcAtbMMcUzh4XkNSseSwBjiDmKPdBcAiTXcFkE6EOCDW7VRAB2at4m\n",
       "dQLYBwzWtyIq9mtLo4sVz0SAUAmJoiICbVXu5n4jC+lA7iIpxDMiQDvwhtQJgGXak43H8VVKrHTy\n",
       "p5+jAYC7uVxetQSUZcytlaFsUrrajmKp4uVoACD2KZerkToBbAaGZqx+qZ/ZOc2OKnwRAeYbjR8q\n",
       "gFCNu3myeu+lVDVw4zS7jO26AGA3Go0CqROAnVIfXlHWIlZrOYjU1/Gs7yq7SqGDnIbg6hPBC0fq\n",
       "dbEcuKgW/wEwHrhwpGmYBwMXVTJ42jB1/h7Yq+o4h05+/f7ng6TN8bzF7KpR4tevwkb8B8mgqvLh\n",
       "dF3HpgIwM563vlRenYKGjdQf8KWoah8y6tdiSPH0ueO72t5q1P8AkavxUUtx/NYAAAAASUVORK5C\n",
       "YII=\n",
       "\" style=\"display:inline;vertical-align:middle;\" /></a></span>"
      ],
      "text/plain": [
       "{x in Integer, y in Integer} |- ceil((x - y) + 2) = ((x - y) + 2)"
      ]
     },
     "metadata": {},
     "output_type": "display_data"
    }
   ],
   "source": [
    "ceil_x_minus_y_plus_2.rounding_elimination(assumptions=[InSet(x, Integer), InSet(y, Integer)])"
   ]
  },
  {
   "cell_type": "code",
   "execution_count": 59,
   "metadata": {},
   "outputs": [
    {
     "data": {
      "text/html": [
       "<span style=\"font-size:20px;\"> <a class=\"ProveItLink\" href=\"../__pv_it/demonstrations/48164999efb25287130b512920386c7de164fe270/proof.ipynb\" style=\"text-decoration: none\">&nbsp;&#x22A2;&nbsp;&nbsp;</a><a class=\"ProveItLink\" href=\"../__pv_it/demonstrations/ba61e9f5f321c33aafbf8c954b9366cba0ca99420/expr.ipynb\"><img src=\"data:image/png;base64,iVBORw0KGgoAAAANSUhEUgAAAEAAAAAVBAMAAAAEBPWpAAAAMFBMVEX///9UVFS6urp2dnbMzMxE\n",
       "REQyMjJmZmbc3NyIiIgiIiIQEBCqqqqYmJju7u4AAABNPSixAAAAAXRSTlMAQObYZgAAAAlwSFlz\n",
       "AAAOxAAADsQBlSsOGwAAALFJREFUKM9jeMcAAxwMWMFdOEsdt4L2shCsCsDiQAUcAQz2ClgUQMSB\n",
       "ChgbGLg3YFEAEQcq4P7HwPgDiwKIOMiEBQyMX7CZABaH+ILrA3ZfAMUhCvwnwBSwrwIDAQaYOETB\n",
       "QhzhsBAaUOwB2BWAxMEKLuIIyYvQkOQxYOjA5gawOEiBMwPDPGwmgMVBQb28vHwBtqAGiwMVcP3/\n",
       "/z8BiwKIOFHRTWMFp1etBNOnoDQ6AACBf0QySkbOFQAAAABJRU5ErkJggg==\n",
       "\" style=\"display:inline;vertical-align:middle;\" /></a></span>"
      ],
      "text/plain": [
       "|- floor(2) = 2"
      ]
     },
     "metadata": {},
     "output_type": "display_data"
    }
   ],
   "source": [
    "floor_2.rounding_elimination()"
   ]
  },
  {
   "cell_type": "code",
   "execution_count": 60,
   "metadata": {},
   "outputs": [
    {
     "data": {
      "text/html": [
       "<span style=\"font-size:20px;\"><a class=\"ProveItLink\" href=\"../__pv_it/theorems/e7ea3ade6561bbbb858c02aa3be91f7305b5ebb50/expr.ipynb\"><img src=\"data:image/png;base64,iVBORw0KGgoAAAANSUhEUgAAADMAAAAQBAMAAABJt1qBAAAAMFBMVEX///9ERES6uroQEBAyMjLc\n",
       "3NyYmJgiIiJmZmaqqqp2dnbMzMxUVFSIiIju7u4AAAAd7oVFAAAAAXRSTlMAQObYZgAAAAlwSFlz\n",
       "AAAOxAAADsQBlSsOGwAAAN1JREFUGNNjYMAEU+xNxAvNGLCBi6cZWBgcsEp1MDBc45qAVeooA5/A\n",
       "Q1QhXvHyEhD9gIFjw2kUGSbfBzDmHu4GEPX2zutVYIND4DIMcoxgdgPvWY4CEMMVLsO5IBdEsQWw\n",
       "/eNJALEQzoU6nZuBAyLGbV5eXl4IZt7kUmDgAzGYL4D5fAIwTXwCgQwMPAFAln4AH9jSApgUz4aj\n",
       "DAzvGRgeKhxm4AKL3IVJ7WACOv04A8P8fc0MmhDLYWEjx/KAIXAiA8OLu5xtEDG+g3oQrxs6Cwp/\n",
       "lkINjoWQgIICAM0UMqoFj6RNAAAAAElFTkSuQmCC\n",
       "\" style=\"display:inline;vertical-align:middle;\" /></a>, <a class=\"ProveItLink\" href=\"../__pv_it/demonstrations/1a5270d7d3401e3ec902ebbf86bec5c78898bba20/expr.ipynb\"><img src=\"data:image/png;base64,iVBORw0KGgoAAAANSUhEUgAAADIAAAATBAMAAAAg4UMRAAAAMFBMVEX////c3NwyMjK6urpEREQi\n",
       "IiLMzMwQEBCqqqp2dnZUVFSYmJhmZmaIiIju7u4AAADlKNhoAAAAAXRSTlMAQObYZgAAAAlwSFlz\n",
       "AAAOxAAADsQBlSsOGwAAAPJJREFUGNNjYMAAHOrfVULdN2BKMPB6JTAoMGGRYOA5wMC7YQY2GS4B\n",
       "hid8DiimuIYGgWg+BoZjXAlIEsy6D2BMtgU5IBV3NjC8AnGF4BIMLA/8gCQnRwHDfhBXEaG9k/sC\n",
       "kMzgCWBYAuIqIGQgbn7AfoGhFmR2aWhoaAjEKQ2TgeIMDPYP2L6B7EO48wkjkL2QgeEQA28BiB8A\n",
       "l1kG9BHfBwYGLwaWBSD+XbibD9gAvQtUeIrBHhx6TA1wN+sxMHoADXw197wA2OtL7CAy5k4lLvUl\n",
       "E0DMSdBAmAIJHRjgVOCrYMAKWC9wTcAuw7H3MHYJABj+NEi8Hq+uAAAAAElFTkSuQmCC\n",
       "\" style=\"display:inline;vertical-align:middle;\" /></a> <a class=\"ProveItLink\" href=\"../__pv_it/demonstrations/078e185da4b562ee03f6d75f9c05e65d97e1784c0/proof.ipynb\" style=\"text-decoration: none\">&nbsp;&#x22A2;&nbsp;&nbsp;</a><a class=\"ProveItLink\" href=\"../__pv_it/demonstrations/2aff24630512bd9a6e5faca773845af2bd1457f80/expr.ipynb\"><img src=\"data:image/png;base64,iVBORw0KGgoAAAANSUhEUgAAAJoAAAAVBAMAAABMN+opAAAAMFBMVEX///9ERES6uroyMjLc3Nxm\n",
       "ZmZ2dnbMzMxUVFSIiIgiIiIQEBCqqqqYmJju7u4AAAC1Kov9AAAAAXRSTlMAQObYZgAAAAlwSFlz\n",
       "AAAOxAAADsQBlSsOGwAAAeBJREFUOMuV1N8rg1EYB/Cvl3c23p0kF9ztHtk/oF7/wbISk6yUplzs\n",
       "yoXE3CiJ3psVSS1X9nKx3PmR3hLFkokbRV4XsqXkQrkiZ2eUZ84ZO/Xu7H33nM95ds57HjyjUjP/\n",
       "9ajU6vh1WwnTQr8e+RxlsFW9dqyOXqtaY0F1dK1brnX+oek58ju584fKtZM/tEZyZ1jk9qBa7bCS\n",
       "1i00trI0MU40lswhL9P6+FVYfhx1iFYYAksAMaHpWLYiRPMYGdx9a7otWqI0PRDyzespokWz8L8A\n",
       "l0K7wp27SLQpHj4ry22LL7bp//Dmfmr1TgTeJiArtDjC4mnEtvdse4N/cxst7Mi0bT4WevAr5c1d\n",
       "kTLjsXwAZr52Yad8F7rc+jeFBjGS/FPtAzNxoL2kaa94ploYvoxs3bbEVCZzicaTXeXdaVFjzd4M\n",
       "olRrRU1CllsbcB9YgIfmxmNbeXdR1Iy3h4zmUK0fXTmZFgPOpwfRQTU9ob2L16eY24B1dFO2bvmx\n",
       "YVOmTQIPK8aQQzU2l3zl3br6LIxIz0JDXH4WPHyb61KKU+8Jsn2p5g/JTv0InhxREeQVqcHyRuX1\n",
       "rUUWnsYc/+xR1TfjuldRLe9l4WfJQGmirJ1WVT/Dtq3f1d9ShftMfAIuBZnkfpwS0QAAAABJRU5E\n",
       "rkJggg==\n",
       "\" style=\"display:inline;vertical-align:middle;\" /></a></span>"
      ],
      "text/plain": [
       "{x in Integer, y in Integer} |- floor(x + y) = (x + y)"
      ]
     },
     "metadata": {},
     "output_type": "display_data"
    }
   ],
   "source": [
    "floor_x_plus_y.rounding_elimination(assumptions=[InSet(x, Integer), InSet(y, Integer)])"
   ]
  },
  {
   "cell_type": "code",
   "execution_count": 61,
   "metadata": {},
   "outputs": [
    {
     "data": {
      "text/html": [
       "<span style=\"font-size:20px;\"> <a class=\"ProveItLink\" href=\"../__pv_it/demonstrations/28574f15d8da615b58d32e2c470850f6077222fb0/proof.ipynb\" style=\"text-decoration: none\">&nbsp;&#x22A2;&nbsp;&nbsp;</a><a class=\"ProveItLink\" href=\"../__pv_it/demonstrations/928007b9601ae24767a2eca5dde14192e7d904ea0/expr.ipynb\"><img src=\"data:image/png;base64,iVBORw0KGgoAAAANSUhEUgAAAHsAAAAVBAMAAACUF4xmAAAAMFBMVEX///+qqqpUVFSIiIi6urru\n",
       "7u4iIiIyMjIQEBCYmJhmZmbc3NxERER2dnbMzMwAAADprbYgAAAAAXRSTlMAQObYZgAAAAlwSFlz\n",
       "AAAOxAAADsQBlSsOGwAAAe1JREFUOMudkz9oE3EUxz/X5NLL/Umzi7QQsIhI044VyoEObh4uDg4X\n",
       "FByE2iyCiEPQxQ6lWVwcrDgEGlo4FAqC4KGb00HASSUOgmOkFpGC9f3u10S8GEvzhfv9+b73ft/3\n",
       "7v1+cAQcPUWMh3k9nT9uXOnOUxmNBKd9r0uuOZSWov+DqbIMV+AV3ne4nTVrejQuBTJswhl4CI+z\n",
       "Zk2Pxns1NGA9YC7CCjJmTY/GXVV6HU7BXJfJbPGaLn1wtsXSWfDNxSYTQX7hauet/JizS9/Ex05S\n",
       "1xXwZoYFFO1uew12fGffMxpsyL5CGHExcvfEQWuWdqFYV6vWDYVrh70R+uVkTSSuw/Jnu8YsFwox\n",
       "r7vmKrbyL6i/T0GU5ewsFP1lSgTsHtwPrCoPCEKf6UCIgsrb8pXflpLqDYVv9ftjxTi7snJ+wTSS\n",
       "gxCh3w8vqrLzQ+opTUu+sIq3L6tcT8Xy0xRig37yJ3EijFq29pRmWV2wJlbCG9z4EWsYe15YZtYQ\n",
       "o1uVtBNyAcU4e6lT2lE3z57hHTzja5JI/rn6E7dq3LTR7dppt1uDFv6BpvNpUh8XpcjLnROVruzN\n",
       "02Wz8un5kpIQ68rBwQ8pw882PaWPwK2B2FjPffBSNscKdw9fhROPFW7Gfx9zXLzQ07l/W38DIWmC\n",
       "Wm+pf1MAAAAASUVORK5CYII=\n",
       "\" style=\"display:inline;vertical-align:middle;\" /></a></span>"
      ],
      "text/plain": [
       "|- round(2) = 2"
      ]
     },
     "metadata": {},
     "output_type": "display_data"
    }
   ],
   "source": [
    "round_2.rounding_elimination()"
   ]
  },
  {
   "cell_type": "code",
   "execution_count": 62,
   "metadata": {},
   "outputs": [
    {
     "data": {
      "text/html": [
       "<span style=\"font-size:20px;\"><a class=\"ProveItLink\" href=\"../__pv_it/theorems/e7ea3ade6561bbbb858c02aa3be91f7305b5ebb50/expr.ipynb\"><img src=\"data:image/png;base64,iVBORw0KGgoAAAANSUhEUgAAADMAAAAQBAMAAABJt1qBAAAAMFBMVEX///9ERES6uroQEBAyMjLc\n",
       "3NyYmJgiIiJmZmaqqqp2dnbMzMxUVFSIiIju7u4AAAAd7oVFAAAAAXRSTlMAQObYZgAAAAlwSFlz\n",
       "AAAOxAAADsQBlSsOGwAAAN1JREFUGNNjYMAEU+xNxAvNGLCBi6cZWBgcsEp1MDBc45qAVeooA5/A\n",
       "Q1QhXvHyEhD9gIFjw2kUGSbfBzDmHu4GEPX2zutVYIND4DIMcoxgdgPvWY4CEMMVLsO5IBdEsQWw\n",
       "/eNJALEQzoU6nZuBAyLGbV5eXl4IZt7kUmDgAzGYL4D5fAIwTXwCgQwMPAFAln4AH9jSApgUz4aj\n",
       "DAzvGRgeKhxm4AKL3IVJ7WACOv04A8P8fc0MmhDLYWEjx/KAIXAiA8OLu5xtEDG+g3oQrxs6Cwp/\n",
       "lkINjoWQgIICAM0UMqoFj6RNAAAAAElFTkSuQmCC\n",
       "\" style=\"display:inline;vertical-align:middle;\" /></a> <a class=\"ProveItLink\" href=\"../__pv_it/demonstrations/b446d9f93d1d981fa0b6f630fdbae78a7c390d510/proof.ipynb\" style=\"text-decoration: none\">&nbsp;&#x22A2;&nbsp;&nbsp;</a><a class=\"ProveItLink\" href=\"../__pv_it/theorems/1465f80400cd6fb54baa170b6133a9e94ecb8fc90/expr.ipynb\"><img src=\"data:image/png;base64,iVBORw0KGgoAAAANSUhEUgAAAH0AAAAVBAMAAACZCfwhAAAAMFBMVEX///+qqqpUVFSIiIi6urru\n",
       "7u4iIiIyMjIQEBCYmJhmZmbc3NxERER2dnbMzMwAAADprbYgAAAAAXRSTlMAQObYZgAAAAlwSFlz\n",
       "AAAOxAAADsQBlSsOGwAAAdtJREFUOMtjYCAANkAobgbyALMAhGYxIFUnX8UCICkL41qSbDU/0GrW\n",
       "AhiPPYBU/f5AHVwTYDzOBaTqvwbEHAhuK6n6q4BYHMGtxBFMd7jXAh152ciB1WoCA1MAi1H05cPA\n",
       "+NK1+wiUXQvEwUZxd4FBcQldJ0Scl2ctbwPDNgfu37yMDQzzgXxlhvgNDB4beL5CLV3ArMyVwMAw\n",
       "HaSHKw0MFBjg4jvZE7guMCQzMOQ+BPLUGVzYDjDsf8DaycAFCvpEYMBt4PzKBHShBJr1UPGn/EA5\n",
       "rg8MDE0BHAYMzQwB8Q4M8gFAAbYLQEUtQA9CTGJ4j+5xqDgomjgOMHB/BrK4/zEwyDMAXQEUAJoD\n",
       "1g+UBac9D4ygg4gvA+J4Awbe30AW8weQZoafrECB+QwQ9wNt2MAKtEMM3f9Q8VxQUpvAwHGB4RAD\n",
       "z4GpDL0MjF954wUY1BmBWQcYEzEOGgy8QDVz0GyHinN/ARmrwHCKgWERw4sLF4BeYC6Yx2PAmMXF\n",
       "AI40+acrGByhUYkMoOIsCSDOXSugb4MuSys/APJZNQVYle9tsgOKP2NgiDJmXAnKhClo+mHieAHb\n",
       "AxiLO4Gc7I/INYicRBI4DWPsIa/8icEwiDTADS23mDdglwcA6epz+g0iq1wAAAAASUVORK5CYII=\n",
       "\" style=\"display:inline;vertical-align:middle;\" /></a></span>"
      ],
      "text/plain": [
       "{x in Integer} |- round(x) = x"
      ]
     },
     "metadata": {},
     "output_type": "display_data"
    }
   ],
   "source": [
    "round_x.rounding_elimination(assumptions=[InSet(x, Integer)])"
   ]
  },
  {
   "cell_type": "code",
   "execution_count": 63,
   "metadata": {},
   "outputs": [
    {
     "data": {
      "text/html": [
       "<span style=\"font-size:20px;\"><a class=\"ProveItLink\" href=\"../__pv_it/theorems/e7ea3ade6561bbbb858c02aa3be91f7305b5ebb50/expr.ipynb\"><img src=\"data:image/png;base64,iVBORw0KGgoAAAANSUhEUgAAADMAAAAQBAMAAABJt1qBAAAAMFBMVEX///9ERES6uroQEBAyMjLc\n",
       "3NyYmJgiIiJmZmaqqqp2dnbMzMxUVFSIiIju7u4AAAAd7oVFAAAAAXRSTlMAQObYZgAAAAlwSFlz\n",
       "AAAOxAAADsQBlSsOGwAAAN1JREFUGNNjYMAEU+xNxAvNGLCBi6cZWBgcsEp1MDBc45qAVeooA5/A\n",
       "Q1QhXvHyEhD9gIFjw2kUGSbfBzDmHu4GEPX2zutVYIND4DIMcoxgdgPvWY4CEMMVLsO5IBdEsQWw\n",
       "/eNJALEQzoU6nZuBAyLGbV5eXl4IZt7kUmDgAzGYL4D5fAIwTXwCgQwMPAFAln4AH9jSApgUz4aj\n",
       "DAzvGRgeKhxm4AKL3IVJ7WACOv04A8P8fc0MmhDLYWEjx/KAIXAiA8OLu5xtEDG+g3oQrxs6Cwp/\n",
       "lkINjoWQgIICAM0UMqoFj6RNAAAAAElFTkSuQmCC\n",
       "\" style=\"display:inline;vertical-align:middle;\" /></a>, <a class=\"ProveItLink\" href=\"../__pv_it/demonstrations/1a5270d7d3401e3ec902ebbf86bec5c78898bba20/expr.ipynb\"><img src=\"data:image/png;base64,iVBORw0KGgoAAAANSUhEUgAAADIAAAATBAMAAAAg4UMRAAAAMFBMVEX////c3NwyMjK6urpEREQi\n",
       "IiLMzMwQEBCqqqp2dnZUVFSYmJhmZmaIiIju7u4AAADlKNhoAAAAAXRSTlMAQObYZgAAAAlwSFlz\n",
       "AAAOxAAADsQBlSsOGwAAAPJJREFUGNNjYMAAHOrfVULdN2BKMPB6JTAoMGGRYOA5wMC7YQY2GS4B\n",
       "hid8DiimuIYGgWg+BoZjXAlIEsy6D2BMtgU5IBV3NjC8AnGF4BIMLA/8gCQnRwHDfhBXEaG9k/sC\n",
       "kMzgCWBYAuIqIGQgbn7AfoGhFmR2aWhoaAjEKQ2TgeIMDPYP2L6B7EO48wkjkL2QgeEQA28BiB8A\n",
       "l1kG9BHfBwYGLwaWBSD+XbibD9gAvQtUeIrBHhx6TA1wN+sxMHoADXw197wA2OtL7CAy5k4lLvUl\n",
       "E0DMSdBAmAIJHRjgVOCrYMAKWC9wTcAuw7H3MHYJABj+NEi8Hq+uAAAAAElFTkSuQmCC\n",
       "\" style=\"display:inline;vertical-align:middle;\" /></a> <a class=\"ProveItLink\" href=\"../__pv_it/demonstrations/cb38aee5f51d4f14fd943b22a8455e410dff6ccf0/proof.ipynb\" style=\"text-decoration: none\">&nbsp;&#x22A2;&nbsp;&nbsp;</a><a class=\"ProveItLink\" href=\"../__pv_it/demonstrations/c636d0a86db17b37179cbed4399b83bc16fc40ff0/expr.ipynb\"><img src=\"data:image/png;base64,iVBORw0KGgoAAAANSUhEUgAAANUAAAAVBAMAAAAjhrYEAAAAMFBMVEX///+qqqpUVFSIiIi6urru\n",
       "7u4iIiIyMjIQEBCYmJhmZmbc3NxERER2dnbMzMwAAADprbYgAAAAAXRSTlMAQObYZgAAAAlwSFlz\n",
       "AAAOxAAADsQBlSsOGwAAAkZJREFUSMellU9o01Acx79pkyzLn67gTQ8bFBkDhVhvG4yAO+ipoSCC\n",
       "HloUPAiTXgTxFPUyD4OK7DLByhwbHoZFYeDJoJ48RQp6UakHwYtQ0R2kMPy9ZkrfS9Is9At95P3e\n",
       "55f3fu/3y69AiozElfbYtKhTiStnxqb/q3DzMY1SkAjkmxFTNnpIU0UaLowAbkQs2eghVVwannKm\n",
       "c9xsPeKSjR7SBzZ4nOkIN9Nc0SUbPaRbLAGNEd4TYgrS6MInY4d8OmVHmW8i58rlS503VLwnF38S\n",
       "oFOyldPHf7znvBlZBawZYa802jJ3LA+7jtG3JA8tmpdQa+Ns29w7OLqOsr3FeYckJgdhbF1luoxD\n",
       "0C8n6nScK8DyV72OWSypPl51lXvQ2ZtUqsWHaLlznDcjT9CVeUJcafS3KXaYHnDH1WzchVtzMO2S\n",
       "QWXfiuYAXWzjIICVMICQRKEn7JVKs9LWfBi/6MnYB6ZB0ZGB9gy9wUg+2xW3QKTsxew1kmaXW7Nh\n",
       "9ekp32Mb4Y9Chta/W4Hcx3neext58pTqQr5S6WXWIprQAryG6a9hFdKeVStiVqJ2adpQ3uY8BLw3\n",
       "kVSDk74QVxpt/GbFOoN3wAa+BwFdY77xyLSlazoGhSrtX/TkIu+9gUozLHFOabQ8uIjP83TV1c6x\n",
       "UpfmylxRKX15vsgaMM2e2EfvCxmodp5R0KojtutMdETXEzrBR/rtjkmLWo/rplZDuR3ptNlpUWbc\n",
       "/6lq5yhVhj8mLUqJQ6QHm/EvzkZH9CJxZSEr/Re1WLlEKr2sXwAAAABJRU5ErkJggg==\n",
       "\" style=\"display:inline;vertical-align:middle;\" /></a></span>"
      ],
      "text/plain": [
       "{x in Integer, y in Integer} |- round(x + y) = (x + y)"
      ]
     },
     "metadata": {},
     "output_type": "display_data"
    }
   ],
   "source": [
    "round_x_plus_y.rounding_elimination(assumptions=[InSet(x, Integer), InSet(y, Integer)])"
   ]
  },
  {
   "cell_type": "code",
   "execution_count": 64,
   "metadata": {},
   "outputs": [
    {
     "data": {
      "text/html": [
       "<span style=\"font-size:20px;\"> <a class=\"ProveItLink\" href=\"../__pv_it/demonstrations/901333f633e9a01c37155d878884e4b319b1a7aa0/proof.ipynb\" style=\"text-decoration: none\">&nbsp;&#x22A2;&nbsp;&nbsp;</a><a class=\"ProveItLink\" href=\"../__pv_it/demonstrations/6e5c38a6ecb189e3441787e101a1d0f6e07ceaa20/expr.ipynb\"><img src=\"data:image/png;base64,iVBORw0KGgoAAAANSUhEUgAAANEAAAAVBAMAAAAqbRZ+AAAAMFBMVEX///+qqqpUVFSIiIi6urru\n",
       "7u4iIiIyMjIQEBCYmJhmZmbc3NxERER2dnbMzMwAAADprbYgAAAAAXRSTlMAQObYZgAAAAlwSFlz\n",
       "AAAOxAAADsQBlSsOGwAAAjRJREFUSMellT9o1FAcx79pkmsuf663i7RwYC0ijR0rlIAOboYuDg45\n",
       "FIMItV0EEYegIDqIt7g4WHE48bAQFA4EwaCbU+DASeUcBMeTthQpWH+vPUvykvgI+cK9vD+fb97v\n",
       "/fL4HSCQUbQQVoV5nSpaOFMVPlTj5jNqpZh6V/jQe7eHkDsZSyk4oakmNReA5Rfb3Mo7WFvAjYyj\n",
       "FJzQeZeal/ST/5mVcWQngPvAk4yjFJzQZ9YESbNkHzwfuZgPobm8oxSc0C2Gr+WZjwHzQ0zyuRfA\n",
       "jS/GBlkGC4662MGEqyxcHHyk73hy6RdhepxnJq0C1gy3kwC2zA0rQN8xdi0pwDqNW/BCnAtNZtmP\n",
       "O8fc2ATq7Ajo+kyXIIbfTrYplsvAyne9jVmcrUV4P1QfQGcvqjXzzTU6jxRwZxLAP6YoEn0E3HE1\n",
       "G3fheg6mXZqosVxozqFZ9/2r93z/IGWvWKgjbicRzC6zFsHYpJ7xB5gGnYwmPCdtToZZZ69QguKd\n",
       "cuEuPT0b1i715BHbBr9Vmlj/T0KOwgghtbnvJIJXWDnoQIvxAWb0GA8hbVteE7MSlUXTzjM3Ysgu\n",
       "6hF3JgFsbLG0zuAT8Bw/45gSKK89NW3pmo7xTabjps39Xq87vtRJCWBlPwdfFynHy4MjrSGN1bmm\n",
       "2vr2eokFRKsTx3fm0ubVvb0dSpbD1+QycEbXU0XATo761WBeqcqodPh6WgHmZRb+WxpRNZiXGpWI\n",
       "oRSc0ZuihdMl4b97sL/cTP8bvwAAAABJRU5ErkJggg==\n",
       "\" style=\"display:inline;vertical-align:middle;\" /></a></span>"
      ],
      "text/plain": [
       "|- round(1 + 2) = (1 + 2)"
      ]
     },
     "metadata": {},
     "output_type": "display_data"
    }
   ],
   "source": [
    "round_1_plus_2.rounding_elimination()"
   ]
  },
  {
   "cell_type": "code",
   "execution_count": 65,
   "metadata": {},
   "outputs": [
    {
     "data": {
      "text/html": [
       "<span style=\"font-size:20px;\"><a class=\"ProveItLink\" href=\"../__pv_it/theorems/e7ea3ade6561bbbb858c02aa3be91f7305b5ebb50/expr.ipynb\"><img src=\"data:image/png;base64,iVBORw0KGgoAAAANSUhEUgAAADMAAAAQBAMAAABJt1qBAAAAMFBMVEX///9ERES6uroQEBAyMjLc\n",
       "3NyYmJgiIiJmZmaqqqp2dnbMzMxUVFSIiIju7u4AAAAd7oVFAAAAAXRSTlMAQObYZgAAAAlwSFlz\n",
       "AAAOxAAADsQBlSsOGwAAAN1JREFUGNNjYMAEU+xNxAvNGLCBi6cZWBgcsEp1MDBc45qAVeooA5/A\n",
       "Q1QhXvHyEhD9gIFjw2kUGSbfBzDmHu4GEPX2zutVYIND4DIMcoxgdgPvWY4CEMMVLsO5IBdEsQWw\n",
       "/eNJALEQzoU6nZuBAyLGbV5eXl4IZt7kUmDgAzGYL4D5fAIwTXwCgQwMPAFAln4AH9jSApgUz4aj\n",
       "DAzvGRgeKhxm4AKL3IVJ7WACOv04A8P8fc0MmhDLYWEjx/KAIXAiA8OLu5xtEDG+g3oQrxs6Cwp/\n",
       "lkINjoWQgIICAM0UMqoFj6RNAAAAAElFTkSuQmCC\n",
       "\" style=\"display:inline;vertical-align:middle;\" /></a> <a class=\"ProveItLink\" href=\"../__pv_it/demonstrations/d05a6ba3b435294ff16b79bad5bee96f131056e40/proof.ipynb\" style=\"text-decoration: none\">&nbsp;&#x22A2;&nbsp;&nbsp;</a><a class=\"ProveItLink\" href=\"../__pv_it/demonstrations/d89566cf55ee05cef1bbebcfc489c4e877d3aed30/expr.ipynb\"><img src=\"data:image/png;base64,iVBORw0KGgoAAAANSUhEUgAAANMAAAAVBAMAAAAumMZDAAAAMFBMVEX///+qqqpUVFSIiIi6urru\n",
       "7u4iIiIyMjIQEBCYmJhmZmbc3NxERER2dnbMzMwAAADprbYgAAAAAXRSTlMAQObYZgAAAAlwSFlz\n",
       "AAAOxAAADsQBlSsOGwAAAtNJREFUSMeVlk1oE0EUx/+bZPO12TQgWEFKAgGriDREPFihRPTQnlz0\n",
       "psXEKkEKpbkIKh6CX9SDGAQRRGzwoDYYWDwE1IJBbwqyGPBkNR4qXqSRNogEjG+zSdOZ7GbJwOzH\n",
       "vP/s7715j5kFbJpqZZAGUquwbc6QlcUVG0R9pB8keDFP1xFT26unH4GDveOmaqlwpQpnrh9riFwU\n",
       "M6aTy/iWgEfhx83Vy5A3gAv9UMfoU37WmSnj5lDhzcKX52ewalf7bS+wADzoh/pM3csObTNu3joc\n",
       "DeAGP4NVC+1k3lEwRr4pfVCXqQ+bohwpOP4Bl/gZw6aoXcBYFZ4cgl+kIkVaiSfE8Rwciit+qvKO\n",
       "0rFv4jfJitRPxE+vhBgUNXcN+MSjWLXQLdF5QI5ADhTlLEoJqSELWSzSexRJFZNqoA7D8bwz6k/x\n",
       "qDX6zv1WftKtFkGPuosKrgO+DF56Un4NZ4G57yQZxVF3GW+q4i349XI6QxrVV3fkeNQM9R18VKy6\n",
       "i3KTIxTH6hAZ/LQcVxVvDNegJBMIKzTg1kh0nVwyoMCTdHohnZ4xaq2sR8ajtqgp2PM328HiuR5Z\n",
       "zahpbxnSOj1JlOwwKDYaIGRrMlljXFkAd/XLpAlqi3ozKp8OdGXJWbonY5Ab9OSs6Rz8FWlgsb0k\n",
       "5IwqKixK0PAa2M7nilVvokYgqRAogXP6xpCDV8NbBMr3cBtCXU6GMCrQFkm1OJ3YDZmL6hdwAHjI\n",
       "R8WqO6igBqcCHy3chu5aBO+Bx/ipabSGzsyjQEyY9aNVz+HVZzjMoqTZQiFl1DbTWHUHVSoUaOWo\n",
       "9lytylwZp8wcr+yMVuld3BMSo19fTND4D+DkfmEpxKLczWaTkn+OR7HqDmq+2fxDcxI2Z4i7arZb\n",
       "tGNL9VcLzClTsjuuuC11ynpz7VW7GPuS7dH4wdq0PIhaKtuipgfywlodsD/xpZjlr4A6iPoQ8B8c\n",
       "RrtCtJ7EugAAAABJRU5ErkJggg==\n",
       "\" style=\"display:inline;vertical-align:middle;\" /></a></span>"
      ],
      "text/plain": [
       "{x in Integer} |- round(x + 2) = (x + 2)"
      ]
     },
     "metadata": {},
     "output_type": "display_data"
    }
   ],
   "source": [
    "round_x_plus_2.rounding_elimination(assumptions=[InSet(x, Integer)])"
   ]
  },
  {
   "cell_type": "markdown",
   "metadata": {},
   "source": [
    "## The `rounding_extraction()` method\n",
    "<font size=4> Some testing of the utility `rounding_extraction()` method(s), allowing the conclusion of an equivalence from `Ceil(x+i)`, `Floor(x+i)`, and `Round(x+i)` to the expression $F(x)+i$ when we know $x\\in\\mathbb{R}$ and $i\\in\\mathbb{Z}$.</font>"
   ]
  },
  {
   "cell_type": "markdown",
   "metadata": {},
   "source": [
    "### Ceil.rounding_extraction()"
   ]
  },
  {
   "cell_type": "code",
   "execution_count": 66,
   "metadata": {},
   "outputs": [
    {
     "data": {
      "text/html": [
       "<a class=\"ProveItLink\" href=\"../__pv_it/demonstrations/5e296efcc2b896d21019b0c54108c61490c5d1130/expr.ipynb\"><img src=\"data:image/png;base64,iVBORw0KGgoAAAANSUhEUgAAAD0AAAAVBAMAAAAHs/uBAAAAMFBMVEX///9EREQQEBAyMjLc3Nxm\n",
       "ZmZ2dnbMzMxUVFTu7u6qqqqYmJiIiIgiIiK6uroAAAAc1BPlAAAAAXRSTlMAQObYZgAAAAlwSFlz\n",
       "AAAOxAAADsQBlSsOGwAAALZJREFUKM9jeHv3DgMOwHX37gaG3Qx4AF/AkJDnPNNZloUiwXl0A8MM\n",
       "uDwrw4kDsSjybFwKDPvh8lsY9k/oRpGvYr3A0AiXL2AIBotOvgsC14GsCUwHGHSQ3KeD7rL3E9i/\n",
       "I+T5vjDMRJUPZuBRgMlzynEoMCSgykswMDbA5Lm+T1XgW4AqH8HwfgNcf8yBpbvQ7J+RE++AP/yS\n",
       "8YUvmwGnFj553gMcCfjkufbEQeNnFb74Y08AAGCGQEAaJ0zIAAAAAElFTkSuQmCC\n",
       "\" style=\"display:inline;vertical-align:middle;\" /></a>"
      ],
      "text/plain": [
       "ceil(x - y)"
      ]
     },
     "metadata": {},
     "output_type": "display_data"
    }
   ],
   "source": [
    "ceil_x_minus_y"
   ]
  },
  {
   "cell_type": "code",
   "execution_count": 67,
   "metadata": {},
   "outputs": [
    {
     "data": {
      "text/html": [
       "<a class=\"ProveItLink\" href=\"../__pv_it/demonstrations/7530ee1d53014472c5afc104cebb108542505de90/expr.ipynb\"><img src=\"data:image/png;base64,iVBORw0KGgoAAAANSUhEUgAAAHAAAAAVBAMAAABs93eRAAAAMFBMVEX////MzMxUVFREREQQEBBm\n",
       "ZmYyMjLu7u52dnbc3NyqqqqYmJiIiIgiIiK6uroAAACaAm0XAAAAAXRSTlMAQObYZgAAAAlwSFlz\n",
       "AAAOxAAADsQBlSsOGwAAAZhJREFUOMt9079Lw0AUB/Bv08S0aRMci4uCg4NL9Q+QzKKL0C7+yuYa\n",
       "Cta1k4MIdnEQFLq4CEIQOvgDGgQRxSEVnTTQxU1pO0mnekm8tBdyeRAuecknudy9hx/3E0AWvKjH\n",
       "JS/dD9z6Z89c+B2f/gqgUuPCvBVJHJcXRrAKfuywl9kijjohXE+Azf9RCz4t1CHqIdQToGgGo2IH\n",
       "l78QBhQqRgKcsBgoOBD6FEpkbeSXucIBI+QHCxUgM8NAEmqPQu+lEu7tTQZmFB0tIGdE4bRNodoA\n",
       "rtEy5xk4JTmYJUCPwtdwO0SyvpMo+9mq60WbnJmijRUg1fN+xnXfVl3Xn7VUZCC8h9jomimyDFr0\n",
       "i1ejyvGmCm2APRaWkSdIcVhIquyEwrQNeUnQESm8RaTJ3HJFFhaARwrJiiv9XV1rsHANXSvYqzGY\n",
       "fS+VHApTDuQN+/wm8o+Vw23SVGqHgepwODTCkmtzqmafHGeIbsdYWzXjVMaQl8caQLNiYDquz1Vb\n",
       "qPltlNDIctxd5W6L904PXvjjKbc5nuLThT9QmoF2WGjObwAAAABJRU5ErkJggg==\n",
       "\" style=\"display:inline;vertical-align:middle;\" /></a>"
      ],
      "text/plain": [
       "ceil((x - y) + 2)"
      ]
     },
     "metadata": {},
     "output_type": "display_data"
    }
   ],
   "source": [
    "ceil_x_minus_y_plus_2"
   ]
  },
  {
   "cell_type": "code",
   "execution_count": 68,
   "metadata": {},
   "outputs": [
    {
     "data": {
      "text/html": [
       "<span style=\"font-size:20px;\"><a class=\"ProveItLink\" href=\"../../ordering/__pv_it/theorems/d1323f34847310a404e8089c2c268d3c2eb89dbf0/expr.ipynb\"><img src=\"data:image/png;base64,iVBORw0KGgoAAAANSUhEUgAAADQAAAAQBAMAAACra0H4AAAAMFBMVEX///9ERES6uroQEBAyMjLc\n",
       "3NyYmJgiIiJmZmaqqqp2dnbMzMxUVFSIiIju7u4AAAAd7oVFAAAAAXRSTlMAQObYZgAAAAlwSFlz\n",
       "AAAOxAAADsQBlSsOGwAAAMtJREFUGNNjYMAAbM6CX4rFGLACRtYDTMfkcEgtYBDYg1OqlQVF6GJ5\n",
       "uQNcihFZRuUekq5zb4CMt3der5oApFn9kAzklnQFMhp4z3IUAGmWAISUSX3tA6AvAtj+8SSApJCc\n",
       "sSwPZCk3AwfYbobN5UAgADVQLg0sxnwBTD1EdvwOxgcgln4AH4hmR5bi2ArU/1DhMAMXSID3ApIU\n",
       "n8A1Bob5+5oZNMEingipBoY0RgWGF3c52yaARd4IPYCF/McARpGfyMGhJQ4JKCgAAF8xNF8aQs/g\n",
       "AAAAAElFTkSuQmCC\n",
       "\" style=\"display:inline;vertical-align:middle;\" /></a>, <a class=\"ProveItLink\" href=\"../__pv_it/demonstrations/1a5270d7d3401e3ec902ebbf86bec5c78898bba20/expr.ipynb\"><img src=\"data:image/png;base64,iVBORw0KGgoAAAANSUhEUgAAADIAAAATBAMAAAAg4UMRAAAAMFBMVEX////c3NwyMjK6urpEREQi\n",
       "IiLMzMwQEBCqqqp2dnZUVFSYmJhmZmaIiIju7u4AAADlKNhoAAAAAXRSTlMAQObYZgAAAAlwSFlz\n",
       "AAAOxAAADsQBlSsOGwAAAPJJREFUGNNjYMAAHOrfVULdN2BKMPB6JTAoMGGRYOA5wMC7YQY2GS4B\n",
       "hid8DiimuIYGgWg+BoZjXAlIEsy6D2BMtgU5IBV3NjC8AnGF4BIMLA/8gCQnRwHDfhBXEaG9k/sC\n",
       "kMzgCWBYAuIqIGQgbn7AfoGhFmR2aWhoaAjEKQ2TgeIMDPYP2L6B7EO48wkjkL2QgeEQA28BiB8A\n",
       "l1kG9BHfBwYGLwaWBSD+XbibD9gAvQtUeIrBHhx6TA1wN+sxMHoADXw197wA2OtL7CAy5k4lLvUl\n",
       "E0DMSdBAmAIJHRjgVOCrYMAKWC9wTcAuw7H3MHYJABj+NEi8Hq+uAAAAAElFTkSuQmCC\n",
       "\" style=\"display:inline;vertical-align:middle;\" /></a> <a class=\"ProveItLink\" href=\"../__pv_it/demonstrations/651e9b42bde13508c9bea347aec625c9ba6ce7ea0/proof.ipynb\" style=\"text-decoration: none\">&nbsp;&#x22A2;&nbsp;&nbsp;</a><a class=\"ProveItLink\" href=\"../__pv_it/demonstrations/77e5ec25e61ce67091b01ccaf7f0cbca396af3710/expr.ipynb\"><img src=\"data:image/png;base64,iVBORw0KGgoAAAANSUhEUgAAAKwAAAAVBAMAAAAp2hhWAAAAMFBMVEX///9EREQQEBAyMjLc3Nxm\n",
       "ZmZ2dnbMzMxUVFTu7u6qqqqYmJiIiIgiIiK6uroAAAAc1BPlAAAAAXRSTlMAQObYZgAAAAlwSFlz\n",
       "AAAOxAAADsQBlSsOGwAAAfZJREFUOMuV1D9I3FAcB/DvXU1yLzmDQwenklVxuF0K6d7hqFAKV9vA\n",
       "gYg4OAm6mHYQSjukivQKDkHoopSmtC62YCgcHHrDbbcYEUdBzkEQ6dJf/lS4ey/x8oa88PL7fd4v\n",
       "L+8Fl8EJUpoaBB43OALoQeCnB0Qh+IWMple5oSNA87ICaNDPzarW/SyOc7ObGIJ94ORla8OwWjUv\n",
       "awzDYiInq1aGYqcjdrv1ac7tG2dNDw1BlmQlLGu/W17gA7ZrYDYwH7HV8gep0/dYVg0c/s+SgqjZ\n",
       "4cfwElZCy5/lWWsH2hXwI2Q1U7st9e/rVZrmjaDaUTdhf+LQec8FKO4sSmPATsgqkCrx7omq6tKd\n",
       "U/QxJWCLZwm7hJm7tWWPo7wluqMkysRa/MmK/uCi9xzlJotFOCsfoN9ijfjzmO2ZzOl/PoOyIVjb\n",
       "u0WAfo3PPEuv/Ye6ryH78ewt5IGyxlGwBdUW/Jhlj0oGLD6Aksap+x6y31ae4WIg/wV6noCV7ZhV\n",
       "b7YM3RVUa+t/qXseslttteYO5DcWX5sCVukk1b70vxwI1patN6+pO00/ZXXhIered8pk2lQjnRRW\n",
       "rrBJYdZ+NlvHBr235KWwo37JErIFM5M9wTpdn6T9b9Xfr8TvyMYy2b1muLEfArtZfzDF4oae0pxu\n",
       "VgBQNvEPDjSkG8i6hpQAAAAASUVORK5CYII=\n",
       "\" style=\"display:inline;vertical-align:middle;\" /></a></span>"
      ],
      "text/plain": [
       "{x in Real, y in Integer} |- ceil(x - y) = (ceil(x) - y)"
      ]
     },
     "metadata": {},
     "output_type": "display_data"
    }
   ],
   "source": [
    "ceil_x_minus_y.rounding_extraction(1, assumptions=[InSet(x, Real), InSet(y, Integer)])"
   ]
  },
  {
   "cell_type": "code",
   "execution_count": 69,
   "metadata": {},
   "outputs": [
    {
     "data": {
      "text/html": [
       "<span style=\"font-size:20px;\"><a class=\"ProveItLink\" href=\"../../ordering/__pv_it/theorems/d1323f34847310a404e8089c2c268d3c2eb89dbf0/expr.ipynb\"><img src=\"data:image/png;base64,iVBORw0KGgoAAAANSUhEUgAAADQAAAAQBAMAAACra0H4AAAAMFBMVEX///9ERES6uroQEBAyMjLc\n",
       "3NyYmJgiIiJmZmaqqqp2dnbMzMxUVFSIiIju7u4AAAAd7oVFAAAAAXRSTlMAQObYZgAAAAlwSFlz\n",
       "AAAOxAAADsQBlSsOGwAAAMtJREFUGNNjYMAAbM6CX4rFGLACRtYDTMfkcEgtYBDYg1OqlQVF6GJ5\n",
       "uQNcihFZRuUekq5zb4CMt3der5oApFn9kAzklnQFMhp4z3IUAGmWAISUSX3tA6AvAtj+8SSApJCc\n",
       "sSwPZCk3AwfYbobN5UAgADVQLg0sxnwBTD1EdvwOxgcgln4AH4hmR5bi2ArU/1DhMAMXSID3ApIU\n",
       "n8A1Bob5+5oZNMEingipBoY0RgWGF3c52yaARd4IPYCF/McARpGfyMGhJQ4JKCgAAF8xNF8aQs/g\n",
       "AAAAAElFTkSuQmCC\n",
       "\" style=\"display:inline;vertical-align:middle;\" /></a>, <a class=\"ProveItLink\" href=\"../../ordering/__pv_it/theorems/5d76fdd975252a644e3e1cb067a357f9a9c8486a0/expr.ipynb\"><img src=\"data:image/png;base64,iVBORw0KGgoAAAANSUhEUgAAADMAAAATBAMAAADPIygvAAAAMFBMVEX////c3NwyMjK6urpEREQi\n",
       "IiLMzMwQEBCqqqp2dnZUVFSYmJhmZmaIiIju7u4AAADlKNhoAAAAAXRSTlMAQObYZgAAAAlwSFlz\n",
       "AAAOxAAADsQBlSsOGwAAAOBJREFUKM9jYMAAm0r8VUs2MGAFDlIMVlseYJeSZGBhW4BLikdAAUXo\n",
       "SmioAlzKAVnG6B5CF9c7oIF8dzYwvAIJMOohGZjSJMDAwMlRwLAfJMAkAJcSV/0KMiGDJ4BhCVgK\n",
       "yRm7H4HoB+wXGGpBjPRQIHCASLG8BnvZ/gHbNxD9BEkX2wE/EOMQA28BiGZF9tcxERDDi4EF7HPe\n",
       "C0hST3hBJp5isIeEpQZcSoaBe4MzkPFq7nmIs185P4CFvCODi34DiD0JqtrSNRQl5DgV+Cqwxw0D\n",
       "6wWuCTikOPYexiEDADoqNycoB77qAAAAAElFTkSuQmCC\n",
       "\" style=\"display:inline;vertical-align:middle;\" /></a> <a class=\"ProveItLink\" href=\"../__pv_it/demonstrations/11e47978188e4f86973dbd2ff5a7f6bb0380178d0/proof.ipynb\" style=\"text-decoration: none\">&nbsp;&#x22A2;&nbsp;&nbsp;</a><a class=\"ProveItLink\" href=\"../__pv_it/demonstrations/716a691baad4d4fd6e8ba08f2c2c603926d3f1b10/expr.ipynb\"><img src=\"data:image/png;base64,iVBORw0KGgoAAAANSUhEUgAAAQQAAAAVBAMAAABS242zAAAAMFBMVEX////MzMxUVFREREQQEBBm\n",
       "ZmYyMjLu7u52dnbc3NyqqqqYmJiIiIgiIiK6uroAAACaAm0XAAAAAXRSTlMAQObYZgAAAAlwSFlz\n",
       "AAAOxAAADsQBlSsOGwAAAqBJREFUSMeVlj1oFEEUx/+3t5u97N0uKQ9BIlhY2Jx2gsgWgiAqQcgR\n",
       "0Oh1FmmOiLENKVKI4EGwEBSuUBExsCgR/IAsgogfxSZoo46k0EolSSWpztmZueN27s1yN7CwPPb9\n",
       "5jezM/MGf9l3AOMwtRYVXGXfyE8DxmIDx2MsIsJpx6/E2wejwh86/GswVGmjHMHcgikqGCsFb9GY\n",
       "WNGpt+tHaIVHGFFBkD4qhYWczCvazNVwa4tScBsjKkjSWFMqXMjJXOsSJN5qwQ4pBScaVuE3+kjl\n",
       "KakQ5mTaTbWe5EKz/8HaoxRsDKvwBP2kU0LBa+RkjkUZBSuBtUspPBxVQZHmhILDV6P76VD1Rvbn\n",
       "vo0wD5QOZBR483cohRmlYATpCoq0JBTSgTp4E89mMkteiHWObegKk3FXwWGiCck5pWAEEQop6blQ\n",
       "8NvAC6w3D2cy9zkJDvKuQ11hk9yUX5WCEUQopKT7QsHmu2wCdRFdEOPa4G9NO8YZoLAjh/v5rBqu\n",
       "UyMVzikFI0gqzDJ2krFN9EiTPQWkX2XbdrPAl0ugz8JT5CqYQQOzIEg/ez8CwR6uZzPrqPDuvSSr\n",
       "wE/SO9Ra6P4II2hAQZJWhUIxhnvCCqEd00dR5PByLatQBd5Rs3BcKphBAwqS9Ewo8H3n7V4Lg3Y2\n",
       "8zy2I7lj+xTGv0xPJ5TCklQwg3QFRZoRCoUE7sX4wUsNOn/zMi/V/lZGwe90Og1KYb+aBSNIV1Ck\n",
       "H/KA3jAcaMv8uQd9U9LL0Z/IOR2XQW7KdC4SqbBGpZUa7um+EhZE+Qq83hgUFEgvU73qJhSK1N3I\n",
       "j61FUVKHvLIcMylIEH1lwYq6L7hUP97rSyY7UuGqSUGCDApc/LF4uWusb+/pcJW4Bsbw2jmVskBd\n",
       "zSot/AdnpgC8Ph3w1AAAAABJRU5ErkJggg==\n",
       "\" style=\"display:inline;vertical-align:middle;\" /></a></span>"
      ],
      "text/plain": [
       "{x in Real, y in Real} |- ceil((x - y) + 2) = (ceil(x - y) + 2)"
      ]
     },
     "metadata": {},
     "output_type": "display_data"
    }
   ],
   "source": [
    "ceil_x_minus_y_plus_2.rounding_extraction(1, assumptions=[InSet(x, Real), InSet(y, Real)])"
   ]
  },
  {
   "cell_type": "markdown",
   "metadata": {},
   "source": [
    "### Floor.rounding_extraction()"
   ]
  },
  {
   "cell_type": "code",
   "execution_count": 70,
   "metadata": {},
   "outputs": [
    {
     "data": {
      "text/html": [
       "<a class=\"ProveItLink\" href=\"../__pv_it/theorems/650fad3b9f030f749416a193d1e72df10d7ddb610/expr.ipynb\"><img src=\"data:image/png;base64,iVBORw0KGgoAAAANSUhEUgAAAD0AAAAVBAMAAAAHs/uBAAAAMFBMVEX///9ERES6uroyMjLc3Nxm\n",
       "ZmZ2dnbMzMxUVFSIiIgiIiIQEBCqqqqYmJju7u4AAAC1Kov9AAAAAXRSTlMAQObYZgAAAAlwSFlz\n",
       "AAAOxAAADsQBlSsOGwAAAL5JREFUKM9jeMeADzgw3MUnzRRAbXldAvInyZHnm9lXloMizzf1AsML\n",
       "uDwrw4wJUSjybDwbGO7D5a8w3H/QiyJfw7qAoREuX8AQDBaNWrVq96pVK4CsB9wTGHYiuW8nuvv0\n",
       "H7B/R8gzfWF4hyofzMC5ASbPJ8SxgSEBVV6CgbEBJs/z/ekGpgOo8hEM+hfg+iMnHL2DZv+LzHgH\n",
       "/OGXjC9+2Az49uCLX64JHAn45HluBkHj5/SqlbhSB8+qVRMAwu9My6MVHY0AAAAASUVORK5CYII=\n",
       "\" style=\"display:inline;vertical-align:middle;\" /></a>"
      ],
      "text/plain": [
       "floor(x + y)"
      ]
     },
     "metadata": {},
     "output_type": "display_data"
    }
   ],
   "source": [
    "floor_x_plus_y"
   ]
  },
  {
   "cell_type": "code",
   "execution_count": 71,
   "metadata": {},
   "outputs": [
    {
     "data": {
      "text/html": [
       "<a class=\"ProveItLink\" href=\"../__pv_it/demonstrations/3d426bb180a97ac43a83a6a3119279c7e717ef6d0/expr.ipynb\"><img src=\"data:image/png;base64,iVBORw0KGgoAAAANSUhEUgAAAHAAAAAVBAMAAABs93eRAAAAMFBMVEX////MzMxUVFRERES6urpm\n",
       "ZmYyMjJ2dnbc3NyIiIgiIiIQEBCqqqqYmJju7u4AAAD2l1fMAAAAAXRSTlMAQObYZgAAAAlwSFlz\n",
       "AAAOxAAADsQBlSsOGwAAAXNJREFUOMt907tKA0EUBuA/ycbcJoOdIBZBsVSC+ABpLCwkIBIwIAYf\n",
       "QFMJgmBarRZBUBCMdhmbbb2AaSzUZpuAgpIloGUwnaWzicY9cU4Gltk5O9/cdg7a8EscXKmYw3G8\n",
       "detTFi6awws9KMosTLiDkXHvD36AL5u0Kae3AnCNfFsircZPbf1OfRaADun6QFopr1cL+z8UpSFw\n",
       "xOVhVJ+NPJkd2yVQHrloAbEMD/1Bozi0iwTGhIMmkC7xMFkHntH0ZgiciFYxpYHDw1QOGEWhGy4q\n",
       "daPUhX7zUjaugNCnvxmlLq+Vyhgg/E70cPJeqKN/gzN8qbC+0KawgIRGosrDiA05H3ZQpnAOEb22\n",
       "dJaH+sRF592x6hQuI+/2/hWBe5U+DFUhV+3714E9tnbWdZ9kjsLJuw23f+XOmZuzrZ8DDMwYTKuG\n",
       "6ZLHSvI2kACWa4ARU54n7bDeXjw7LJGl6at4WeHG9OGTqul6n83jY1PwUdW+AXVugiUUwFozAAAA\n",
       "AElFTkSuQmCC\n",
       "\" style=\"display:inline;vertical-align:middle;\" /></a>"
      ],
      "text/plain": [
       "floor((x + y) + 1)"
      ]
     },
     "metadata": {},
     "output_type": "display_data"
    }
   ],
   "source": [
    "floor_x_plus_y_plus_1"
   ]
  },
  {
   "cell_type": "code",
   "execution_count": 72,
   "metadata": {},
   "outputs": [
    {
     "data": {
      "text/html": [
       "<span style=\"font-size:20px;\"><a class=\"ProveItLink\" href=\"../../ordering/__pv_it/theorems/d1323f34847310a404e8089c2c268d3c2eb89dbf0/expr.ipynb\"><img src=\"data:image/png;base64,iVBORw0KGgoAAAANSUhEUgAAADQAAAAQBAMAAACra0H4AAAAMFBMVEX///9ERES6uroQEBAyMjLc\n",
       "3NyYmJgiIiJmZmaqqqp2dnbMzMxUVFSIiIju7u4AAAAd7oVFAAAAAXRSTlMAQObYZgAAAAlwSFlz\n",
       "AAAOxAAADsQBlSsOGwAAAMtJREFUGNNjYMAAbM6CX4rFGLACRtYDTMfkcEgtYBDYg1OqlQVF6GJ5\n",
       "uQNcihFZRuUekq5zb4CMt3der5oApFn9kAzklnQFMhp4z3IUAGmWAISUSX3tA6AvAtj+8SSApJCc\n",
       "sSwPZCk3AwfYbobN5UAgADVQLg0sxnwBTD1EdvwOxgcgln4AH4hmR5bi2ArU/1DhMAMXSID3ApIU\n",
       "n8A1Bob5+5oZNMEingipBoY0RgWGF3c52yaARd4IPYCF/McARpGfyMGhJQ4JKCgAAF8xNF8aQs/g\n",
       "AAAAAElFTkSuQmCC\n",
       "\" style=\"display:inline;vertical-align:middle;\" /></a>, <a class=\"ProveItLink\" href=\"../__pv_it/demonstrations/1a5270d7d3401e3ec902ebbf86bec5c78898bba20/expr.ipynb\"><img src=\"data:image/png;base64,iVBORw0KGgoAAAANSUhEUgAAADIAAAATBAMAAAAg4UMRAAAAMFBMVEX////c3NwyMjK6urpEREQi\n",
       "IiLMzMwQEBCqqqp2dnZUVFSYmJhmZmaIiIju7u4AAADlKNhoAAAAAXRSTlMAQObYZgAAAAlwSFlz\n",
       "AAAOxAAADsQBlSsOGwAAAPJJREFUGNNjYMAAHOrfVULdN2BKMPB6JTAoMGGRYOA5wMC7YQY2GS4B\n",
       "hid8DiimuIYGgWg+BoZjXAlIEsy6D2BMtgU5IBV3NjC8AnGF4BIMLA/8gCQnRwHDfhBXEaG9k/sC\n",
       "kMzgCWBYAuIqIGQgbn7AfoGhFmR2aWhoaAjEKQ2TgeIMDPYP2L6B7EO48wkjkL2QgeEQA28BiB8A\n",
       "l1kG9BHfBwYGLwaWBSD+XbibD9gAvQtUeIrBHhx6TA1wN+sxMHoADXw197wA2OtL7CAy5k4lLvUl\n",
       "E0DMSdBAmAIJHRjgVOCrYMAKWC9wTcAuw7H3MHYJABj+NEi8Hq+uAAAAAElFTkSuQmCC\n",
       "\" style=\"display:inline;vertical-align:middle;\" /></a> <a class=\"ProveItLink\" href=\"../__pv_it/demonstrations/8f957c1b7e9358ca5f9cf0369b438ab7f26ae3120/proof.ipynb\" style=\"text-decoration: none\">&nbsp;&#x22A2;&nbsp;&nbsp;</a><a class=\"ProveItLink\" href=\"../__pv_it/demonstrations/d435f12dcd1fc45ded28b2d3f8ffdfb4da5085260/expr.ipynb\"><img src=\"data:image/png;base64,iVBORw0KGgoAAAANSUhEUgAAAKwAAAAVBAMAAAAp2hhWAAAAMFBMVEX///9ERES6uroyMjLc3Nxm\n",
       "ZmZ2dnbMzMxUVFSIiIgiIiIQEBCqqqqYmJju7u4AAAC1Kov9AAAAAXRSTlMAQObYZgAAAAlwSFlz\n",
       "AAAOxAAADsQBlSsOGwAAAgZJREFUOMuV1L9L3GAYB/DvpSZ35yUvIg6O7rbc/QOFdOx2VCjtydGA\n",
       "UBQ6OHUqmi6CSMu7HCht4ejSmi5Z/YFkcVARU9RBsJhSRKUgHQSnSp/kctLL+ybnZbj3eHjeT94f\n",
       "eR5cIusxhUgfwIKshCgFP7JUpSqEPgKGn5VAQd4zq1vdWXzqmf2FO7D3giT7oAtbl7OK/3+SUU2y\n",
       "W11YV87qvCNro0dWr9yJfRixF4tnL70OljV8nEtY1YpZtvT+9SuRvaiD2cBkxFaL82qzg9V0Fyft\n",
       "WaoTPXZ4GX7MqljkNZG1dmD8AfZD1jCNm4Lfwb6h17yVrLbfi9kDnATvBDbv1VAYAHZCNg+1EkVr\n",
       "jrPmOF/pX1DiWJGwpZGYncbY7dnSbr6tRrthNIlmYrZ1ZSWevLJykL/OYhG+VTwE5Qaz08Boiy2b\n",
       "7Tpvs2MoupKzvT0EKFe4FFna9gcatkP258gCtMRqh5GzJavN8RbLBgsuLJGlScM0fA/ZvZlx3E+w\n",
       "z1D2Jaxmt1j9+tRVPMlqbeUvDU9D9nRJr3sJ9nzqhSlh8814tc/55rHkbNlc44qGz+lVNiEt3i/d\n",
       "qkyjj6qvmdJqtApbl7KH2a1mAr9p36qf0hj7ecGSsjkzszEuY45+H6X1W/3oibyDsYFMdrcRfthD\n",
       "VGfOcloT1x2HC8HHFF+N49IEoGjiH0KbtWF2kkP8AAAAAElFTkSuQmCC\n",
       "\" style=\"display:inline;vertical-align:middle;\" /></a></span>"
      ],
      "text/plain": [
       "{x in Real, y in Integer} |- floor(x + y) = (floor(x) + y)"
      ]
     },
     "metadata": {},
     "output_type": "display_data"
    }
   ],
   "source": [
    "floor_x_plus_y.rounding_extraction(1, assumptions=[InSet(x, Real), InSet(y, Integer)])"
   ]
  },
  {
   "cell_type": "code",
   "execution_count": 73,
   "metadata": {},
   "outputs": [
    {
     "data": {
      "text/html": [
       "<span style=\"font-size:20px;\"><a class=\"ProveItLink\" href=\"../../ordering/__pv_it/theorems/d1323f34847310a404e8089c2c268d3c2eb89dbf0/expr.ipynb\"><img src=\"data:image/png;base64,iVBORw0KGgoAAAANSUhEUgAAADQAAAAQBAMAAACra0H4AAAAMFBMVEX///9ERES6uroQEBAyMjLc\n",
       "3NyYmJgiIiJmZmaqqqp2dnbMzMxUVFSIiIju7u4AAAAd7oVFAAAAAXRSTlMAQObYZgAAAAlwSFlz\n",
       "AAAOxAAADsQBlSsOGwAAAMtJREFUGNNjYMAAbM6CX4rFGLACRtYDTMfkcEgtYBDYg1OqlQVF6GJ5\n",
       "uQNcihFZRuUekq5zb4CMt3der5oApFn9kAzklnQFMhp4z3IUAGmWAISUSX3tA6AvAtj+8SSApJCc\n",
       "sSwPZCk3AwfYbobN5UAgADVQLg0sxnwBTD1EdvwOxgcgln4AH4hmR5bi2ArU/1DhMAMXSID3ApIU\n",
       "n8A1Bob5+5oZNMEingipBoY0RgWGF3c52yaARd4IPYCF/McARpGfyMGhJQ4JKCgAAF8xNF8aQs/g\n",
       "AAAAAElFTkSuQmCC\n",
       "\" style=\"display:inline;vertical-align:middle;\" /></a>, <a class=\"ProveItLink\" href=\"../../ordering/__pv_it/theorems/5d76fdd975252a644e3e1cb067a357f9a9c8486a0/expr.ipynb\"><img src=\"data:image/png;base64,iVBORw0KGgoAAAANSUhEUgAAADMAAAATBAMAAADPIygvAAAAMFBMVEX////c3NwyMjK6urpEREQi\n",
       "IiLMzMwQEBCqqqp2dnZUVFSYmJhmZmaIiIju7u4AAADlKNhoAAAAAXRSTlMAQObYZgAAAAlwSFlz\n",
       "AAAOxAAADsQBlSsOGwAAAOBJREFUKM9jYMAAm0r8VUs2MGAFDlIMVlseYJeSZGBhW4BLikdAAUXo\n",
       "SmioAlzKAVnG6B5CF9c7oIF8dzYwvAIJMOohGZjSJMDAwMlRwLAfJMAkAJcSV/0KMiGDJ4BhCVgK\n",
       "yRm7H4HoB+wXGGpBjPRQIHCASLG8BnvZ/gHbNxD9BEkX2wE/EOMQA28BiGZF9tcxERDDi4EF7HPe\n",
       "C0hST3hBJp5isIeEpQZcSoaBe4MzkPFq7nmIs185P4CFvCODi34DiD0JqtrSNRQl5DgV+Cqwxw0D\n",
       "6wWuCTikOPYexiEDADoqNycoB77qAAAAAElFTkSuQmCC\n",
       "\" style=\"display:inline;vertical-align:middle;\" /></a> <a class=\"ProveItLink\" href=\"../__pv_it/demonstrations/e65abf985aa29fe2068895cdda91a63f9efefe440/proof.ipynb\" style=\"text-decoration: none\">&nbsp;&#x22A2;&nbsp;&nbsp;</a><a class=\"ProveItLink\" href=\"../__pv_it/demonstrations/3424103a21e21ff15801e65687fc49a30da0b75d0/expr.ipynb\"><img src=\"data:image/png;base64,iVBORw0KGgoAAAANSUhEUgAAAQQAAAAVBAMAAABS242zAAAAMFBMVEX////MzMxUVFRERES6urpm\n",
       "ZmYyMjJ2dnbc3NyIiIgiIiIQEBCqqqqYmJju7u4AAAD2l1fMAAAAAXRSTlMAQObYZgAAAAlwSFlz\n",
       "AAAOxAAADsQBlSsOGwAAAm5JREFUSMed1j9oFEEUBvDvcre5f3NLOiEIimKpBLHQLo2FSEgIIcGA\n",
       "eNhHQ4qAIHhgpdUgBBQUT7FxTbFFGhPRa1QuaRYkoqBkiWgZTGfp7Mzcmbl9b9m4cLA79+bb387N\n",
       "7Qz2kBwVcEeLbq6QpX6MjKPF5HzXZ4/Zfpfo5ovppmoHjShDUJqiGqUliEW2YzWVOhrThI84LCFJ\n",
       "emIJvzJ63nAv/VM3aYLfPCTBJA3HhnDV+W7CudruJfTin9IEL0oRJmhCvzlJakwZQujUdp2rup1i\n",
       "QmYT6kgRujShe5CAt5ogmhk9h6N8hA//SVjQBE/NRv/RmSO3nRJ/JcIuUD6ejzBnCWwQQ1jShORB\n",
       "PTyQ805JWYTYUbFNnuAF+tDIBUtggxjCZ02odYAv2IlPOyVHvTZOqluH+UZh1RLYIIawpQn1cWAE\n",
       "s7p5Pgg2guC5OovrEq+Bwm/zuK/W7eMyhDVLYIMM4V+zTTrWJyCpcpWTcWFf9cw5Cmv96cgF0aNw\n",
       "uf9DoPQHe27JLKrq9qKdby70fgg2iCFsakJRwj83FGLRLTmLogpvjOUbhQuGwAcxhE+aoP53Yv9n\n",
       "WOq4JdOYjMw/1iHcaZGEJUPgg9IEnTSnCYU2/Cvy/beBkt1b11RNbdwlnHh3PaIIo3YU2KAUwSS9\n",
       "MC/oZ8xLbVl97mNgFJjFujaS8XZcJt+OesPQNoRtanUpN/03B5awUpRNUOsNs0zZoPQyZVc3TShS\n",
       "G5qaHFLToDKWd8tynlusTRC9ZcFdu1/wqfuIrzOcjiT84AgmiCEo+FbwUp3cYzcaD6nGTd1pcBso\n",
       "IdYDyeSIgPyq2sJft78OejWqTk4AAAAASUVORK5CYII=\n",
       "\" style=\"display:inline;vertical-align:middle;\" /></a></span>"
      ],
      "text/plain": [
       "{x in Real, y in Real} |- floor((x + y) + 1) = (floor(x + y) + 1)"
      ]
     },
     "metadata": {},
     "output_type": "display_data"
    }
   ],
   "source": [
    "floor_x_plus_y_plus_1.rounding_extraction(1, assumptions=[InSet(x, Real), InSet(y, Real)])"
   ]
  },
  {
   "cell_type": "markdown",
   "metadata": {},
   "source": [
    "### Round.rounding_extraction()"
   ]
  },
  {
   "cell_type": "code",
   "execution_count": 74,
   "metadata": {},
   "outputs": [
    {
     "data": {
      "text/html": [
       "<span style=\"font-size:20px;\"><a class=\"ProveItLink\" href=\"../../ordering/__pv_it/theorems/d1323f34847310a404e8089c2c268d3c2eb89dbf0/expr.ipynb\"><img src=\"data:image/png;base64,iVBORw0KGgoAAAANSUhEUgAAADQAAAAQBAMAAACra0H4AAAAMFBMVEX///9ERES6uroQEBAyMjLc\n",
       "3NyYmJgiIiJmZmaqqqp2dnbMzMxUVFSIiIju7u4AAAAd7oVFAAAAAXRSTlMAQObYZgAAAAlwSFlz\n",
       "AAAOxAAADsQBlSsOGwAAAMtJREFUGNNjYMAAbM6CX4rFGLACRtYDTMfkcEgtYBDYg1OqlQVF6GJ5\n",
       "uQNcihFZRuUekq5zb4CMt3der5oApFn9kAzklnQFMhp4z3IUAGmWAISUSX3tA6AvAtj+8SSApJCc\n",
       "sSwPZCk3AwfYbobN5UAgADVQLg0sxnwBTD1EdvwOxgcgln4AH4hmR5bi2ArU/1DhMAMXSID3ApIU\n",
       "n8A1Bob5+5oZNMEingipBoY0RgWGF3c52yaARd4IPYCF/McARpGfyMGhJQ4JKCgAAF8xNF8aQs/g\n",
       "AAAAAElFTkSuQmCC\n",
       "\" style=\"display:inline;vertical-align:middle;\" /></a>, <a class=\"ProveItLink\" href=\"../../ordering/__pv_it/theorems/5d76fdd975252a644e3e1cb067a357f9a9c8486a0/expr.ipynb\"><img src=\"data:image/png;base64,iVBORw0KGgoAAAANSUhEUgAAADMAAAATBAMAAADPIygvAAAAMFBMVEX////c3NwyMjK6urpEREQi\n",
       "IiLMzMwQEBCqqqp2dnZUVFSYmJhmZmaIiIju7u4AAADlKNhoAAAAAXRSTlMAQObYZgAAAAlwSFlz\n",
       "AAAOxAAADsQBlSsOGwAAAOBJREFUKM9jYMAAm0r8VUs2MGAFDlIMVlseYJeSZGBhW4BLikdAAUXo\n",
       "SmioAlzKAVnG6B5CF9c7oIF8dzYwvAIJMOohGZjSJMDAwMlRwLAfJMAkAJcSV/0KMiGDJ4BhCVgK\n",
       "yRm7H4HoB+wXGGpBjPRQIHCASLG8BnvZ/gHbNxD9BEkX2wE/EOMQA28BiGZF9tcxERDDi4EF7HPe\n",
       "C0hST3hBJp5isIeEpQZcSoaBe4MzkPFq7nmIs185P4CFvCODi34DiD0JqtrSNRQl5DgV+Cqwxw0D\n",
       "6wWuCTikOPYexiEDADoqNycoB77qAAAAAElFTkSuQmCC\n",
       "\" style=\"display:inline;vertical-align:middle;\" /></a> <a class=\"ProveItLink\" href=\"../__pv_it/demonstrations/bf085446871a9cc67e1650e8313917989aac45660/proof.ipynb\" style=\"text-decoration: none\">&nbsp;&#x22A2;&nbsp;&nbsp;</a><a class=\"ProveItLink\" href=\"../__pv_it/demonstrations/545593044b81a2ac5a1ef6d3a864357fc7487bb40/expr.ipynb\"><img src=\"data:image/png;base64,iVBORw0KGgoAAAANSUhEUgAAAYsAAAAVBAMAAABF1d8/AAAAMFBMVEX///+qqqpUVFSIiIi6urru\n",
       "7u4iIiIyMjIQEBCYmJhmZmbc3NxERER2dnbMzMwAAADprbYgAAAAAXRSTlMAQObYZgAAAAlwSFlz\n",
       "AAAOxAAADsQBlSsOGwAAA75JREFUWMOll1toE0EUhv9NsmmaTWpAUFGkpUWKorBWfFDBBhSpT10K\n",
       "IlSh8UKQghIEQX0xXtEHaVRErGJLlZYWi0Gh4AUM6pOCRgv64iUiii9qixaRQuuZ2Y1hZrduNznQ\n",
       "kv33zH7nn5mdmQVcQkMF4dg4Wz4yi7IeSLGyEhsB3a75Y+UjN3hQrag52Ev/lfwsK/5iSMK9gefA\n",
       "Gnvi4gqQ/ow8cO9uxu2qEHNYt22dnQl12RHJhpbDhziqDFtmqhLkAem6Hcq4XRWilZUwKEib7dOm\n",
       "2BPNhpjjyyKURnWv3CCc8YYMCPndktocU3+XVMd4zf6lBWmuLUnRZRtWTmgCvkngpNwg5BGpCK9X\n",
       "yBDVljh+l1THOMzSU+Xa8CXgmwIOyQ3mwxtStFGVkVXlD1dr3mrDdG+0Ka6uzcBnBJq2jT6mqb1i\n",
       "/TibAvS6qauWfHsplMgy21xsUATHgFdypcPwhrQAFjJaJ9vYlOFqNDIcTWMkrk1GlTR66LoBHVm0\n",
       "ZCMTlvswmvR+oUQz09XGD7p3ib8PSR68BBoeT0gLYCGrUxL2U32Bq3erEuR/F7D3YziBRmwM5vCw\n",
       "oJ5BmLUI0tJxBT3GUqFElrnc3cZO+lsgj8YOeENaAAuppG2Tapyrn+cw9zT8x4yQjuMwOuKoNUgI\n",
       "suU7FAcKGOAN+pPJ08kkq83M5L2855TVy6aNUg7dzbERkW2cgAdkCWAha8YkLNBlcJUtcqEctJ/0\n",
       "S6OXshbUQSTQs81ngpcs9HSrUTPlOhrn+VLiYMMTsggwkQFpNL4DL2JcZXOwQ0d0kn75x9gD8Ucl\n",
       "gU9+NsIITGKLWOIA/Gk3G7QZ3wfmye/GDnhDFgEmUkmI6rTBbDB1L9s9Mwjl8QiR3EWchTIR7Yih\n",
       "UaEjV0SH+sSXRl4skTLr3Gx8A1YDV+XRoCXJE7IIMJHVOVE9xicVqdov1l11eAr04Ws+T4PsT12L\n",
       "6EpnGHwpU6ba04GYWGIfWuUF/ENWtKF1Dg0l+PoqBq3AnpBFgIkMS+Yu832D1AAfpndraUa2jS5q\n",
       "KNC1ujSmNry/vZ4d1ujqur7wnNTTbaO3suLz6rv2Z4Sc4PT0NC08u21HSHhDFgEmMhgX1cAQHQ3/\n",
       "qTPHvhl28TeOm6xtp9cS8u1gwRuyBGDIEUfsiOvRtdvpaBhNqUcdT26246P9IGg/LP4faQEs5KAj\n",
       "dtDVRsTp0yqo+2b5GfLALj2rAKnlHL8Wc+4fEk4pyoUbs/yYcqh5ewVIR4czqGLcqeQj1u8A0PTy\n",
       "ketmUv8C87ZWJqCo9UcAAAAASUVORK5CYII=\n",
       "\" style=\"display:inline;vertical-align:middle;\" /></a></span>"
      ],
      "text/plain": [
       "{x in Real, y in Real} |- round(x + y + 1 + 2) = (round(x + y) + 3)"
      ]
     },
     "metadata": {},
     "output_type": "display_data"
    }
   ],
   "source": [
    "round_add_xy12.rounding_extraction(2, assumptions=[InSet(x, Real), InSet(y, Real)])"
   ]
  },
  {
   "cell_type": "code",
   "execution_count": 75,
   "metadata": {},
   "outputs": [
    {
     "data": {
      "text/html": [
       "<span style=\"font-size:20px;\"><a class=\"ProveItLink\" href=\"../../ordering/__pv_it/theorems/d1323f34847310a404e8089c2c268d3c2eb89dbf0/expr.ipynb\"><img src=\"data:image/png;base64,iVBORw0KGgoAAAANSUhEUgAAADQAAAAQBAMAAACra0H4AAAAMFBMVEX///9ERES6uroQEBAyMjLc\n",
       "3NyYmJgiIiJmZmaqqqp2dnbMzMxUVFSIiIju7u4AAAAd7oVFAAAAAXRSTlMAQObYZgAAAAlwSFlz\n",
       "AAAOxAAADsQBlSsOGwAAAMtJREFUGNNjYMAAbM6CX4rFGLACRtYDTMfkcEgtYBDYg1OqlQVF6GJ5\n",
       "uQNcihFZRuUekq5zb4CMt3der5oApFn9kAzklnQFMhp4z3IUAGmWAISUSX3tA6AvAtj+8SSApJCc\n",
       "sSwPZCk3AwfYbobN5UAgADVQLg0sxnwBTD1EdvwOxgcgln4AH4hmR5bi2ArU/1DhMAMXSID3ApIU\n",
       "n8A1Bob5+5oZNMEingipBoY0RgWGF3c52yaARd4IPYCF/McARpGfyMGhJQ4JKCgAAF8xNF8aQs/g\n",
       "AAAAAElFTkSuQmCC\n",
       "\" style=\"display:inline;vertical-align:middle;\" /></a>, <a class=\"ProveItLink\" href=\"../../ordering/__pv_it/theorems/5d76fdd975252a644e3e1cb067a357f9a9c8486a0/expr.ipynb\"><img src=\"data:image/png;base64,iVBORw0KGgoAAAANSUhEUgAAADMAAAATBAMAAADPIygvAAAAMFBMVEX////c3NwyMjK6urpEREQi\n",
       "IiLMzMwQEBCqqqp2dnZUVFSYmJhmZmaIiIju7u4AAADlKNhoAAAAAXRSTlMAQObYZgAAAAlwSFlz\n",
       "AAAOxAAADsQBlSsOGwAAAOBJREFUKM9jYMAAm0r8VUs2MGAFDlIMVlseYJeSZGBhW4BLikdAAUXo\n",
       "SmioAlzKAVnG6B5CF9c7oIF8dzYwvAIJMOohGZjSJMDAwMlRwLAfJMAkAJcSV/0KMiGDJ4BhCVgK\n",
       "yRm7H4HoB+wXGGpBjPRQIHCASLG8BnvZ/gHbNxD9BEkX2wE/EOMQA28BiGZF9tcxERDDi4EF7HPe\n",
       "C0hST3hBJp5isIeEpQZcSoaBe4MzkPFq7nmIs185P4CFvCODi34DiD0JqtrSNRQl5DgV+Cqwxw0D\n",
       "6wWuCTikOPYexiEDADoqNycoB77qAAAAAElFTkSuQmCC\n",
       "\" style=\"display:inline;vertical-align:middle;\" /></a> <a class=\"ProveItLink\" href=\"../__pv_it/demonstrations/f8d250ad64e1fa8e52d0d69d6872ed91f8697c190/proof.ipynb\" style=\"text-decoration: none\">&nbsp;&#x22A2;&nbsp;&nbsp;</a><a class=\"ProveItLink\" href=\"../__pv_it/demonstrations/6792f4370da9a725b2f67f9025e9dd6287c21f220/expr.ipynb\"><img src=\"data:image/png;base64,iVBORw0KGgoAAAANSUhEUgAAAbUAAAAVBAMAAAAz7220AAAAMFBMVEX///+qqqpUVFSIiIi6urru\n",
       "7u4iIiIyMjIQEBCYmJhmZmbc3NxERER2dnbMzMwAAADprbYgAAAAAXRSTlMAQObYZgAAAAlwSFlz\n",
       "AAAOxAAADsQBlSsOGwAABItJREFUWMONmF1oHFUUx//7MZv9mu2C0EalJBi0Vg0d0xdNoa7Uh/Qp\n",
       "Q4ooNXSjLfsgtF2EghXB9Qvqg3RFRKhiQpXUBIOLQkAQXNo+6cvagH2xuj60+CKttEFKoPWcmdmZ\n",
       "yb1nZnrg7M5e/vf8zrlfuRMgwUqeS+2qdeQmSSppkwWle88jMT7Zk56rlrW0pkxVl+2TpaI2WSBE\n",
       "knLb53mkVV5foM9Uz3XdntZatpNfs4MRXX6zj0xblDraWLAs0CI5uUlQBxxpW3jkXvBctyFbaTCa\n",
       "MB57K2j9EeYt4IQkZW08OEKgRaLcIqAn4mqb5h5LnutWWPAe9nvfRR6pZwLM48Ap4ExY6luxnQCO\n",
       "EGhQJzcReiautt/4o+W5YO973/d533kFc9rGrg7ydkjqWz4JHCVQoa1IaN6OQbzBy7npumQnFcw2\n",
       "BfMIsKuPoXZI6ts2JICjBArUzU2Ekld+L63Q09pEzZhsI21nJ15au0B7cnzvv7x2eq4bux/+51d/\n",
       "s5BwBrik1LaiYMiOA+YoAqlvpI0Hc7ADE4eu+KflgSUYoxq02IuEkpvlFbOF1Vppw0y1ME+/x1Dv\n",
       "YKpTXgcGA4AiJqzFQWdXiE+V2k5qmMpN2iE8so602HBs1NPGgznYQmasODeI1RtG4YYGdVaFDCX/\n",
       "YWiOij8MHP2LAu3Ac7kufuobH6DISeWqrn+GeXvnoDcLnwCGldpe1jA5qiPFO2JYnTfSxoNJUOgU\n",
       "1tODI6VSXUS6q0Fz1Ugo+dUtPC00Iu/YeQvvwq7XMGJTQ46nO19zvY9zTsc6c10hrnPDYqNxqtF4\n",
       "hR/fCzB1d4t+w0lRaFcaNtLGg0lQcat0oxmkIJkK5dwioOx84ua7KN2kp9IdYAQ0iNRQr4VqAxfD\n",
       "g7LgHtIVEk4p8xaqzZUVePlled6mhNriwU6wvBVAs+u43teg4doUKDtvo7oFc4OeMjc4Pm4b1DCP\n",
       "0JpEdgPP+5mdQ4Y6bk1ak9tR6iDFO2arut9YGwt2gk13DD8czeFT0KD6mvSh7Ef5JtBGvofzKHc/\n",
       "wYdIrZv1Knak6LpZthw3LqZbCG5eJKQMP1dqu6BgKj1kbBRok/hS31gbCybBbO1RmH4PIp6HBi1b\n",
       "kVDy0i0elFH8DJzF370erY5M84uylXq1CP8wTd052MoGl9ezmG57Z36oNud4/jO4f68uLy96p/SK\n",
       "Whtp48EkGLn6NZ4NbjKj2dvQoM5fGBlKnnVO2SuTtHBn1h4c69NvY2fVGPvju708DHOOG19aD3wU\n",
       "ZDaz9i1FO6LUdo38odOv+Zel43fv/kerhnfEEbU20saDSXBwd2opGE9jfHIDGpTzi4A64Fg75rli\n",
       "l2nc55Tacn0pwCpC0uCg7idwBYHZFKDHEAVdTXx9k26dZtN4O3Sb3a/eYzfZkngzlrVxgst4sSpA\n",
       "5Rtx9A0/bOWO65vG1Er3+G1CtV+kN+UuJKmojRUcxrgUqdyJgDrgeDO6rm96H/z4KzG72YixkQqZ\n",
       "TQKrgvt5Y+qRjO49Tohk33uuvfPrfUvC/w72yFJRmywQIkm57XH9f82aim7mWcqrAAAAAElFTkSu\n",
       "QmCC\n",
       "\" style=\"display:inline;vertical-align:middle;\" /></a></span>"
      ],
      "text/plain": [
       "{x in Real, y in Real} |- round((x * y) + (1 * 2)) = (round(x * y) + (1 * 2))"
      ]
     },
     "metadata": {},
     "output_type": "display_data"
    }
   ],
   "source": [
    "round_add_mult_mult.rounding_extraction(1, assumptions=[InSet(x, Real), InSet(y, Real)])"
   ]
  },
  {
   "cell_type": "code",
   "execution_count": 76,
   "metadata": {},
   "outputs": [
    {
     "data": {
      "text/html": [
       "<strong id=\"round_02\">round_02:</strong> <a class=\"ProveItLink\" href=\"../__pv_it/demonstrations/1ffbf581a5ed466e01edc5fa19669c87abf299700/expr.ipynb\"><img src=\"data:image/png;base64,iVBORw0KGgoAAAANSUhEUgAAAL8AAAAVBAMAAADlQyK9AAAAMFBMVEX///+qqqpUVFSIiIi6urru\n",
       "7u4iIiIyMjIQEBCYmJhmZmbc3NxERER2dnbMzMwAAADprbYgAAAAAXRSTlMAQObYZgAAAAlwSFlz\n",
       "AAAOxAAADsQBlSsOGwAAAoJJREFUOMulVU1oE0EYfWl2k+xuNg0U/EGkwRoRJXS1B6X+NFIQPHVp\n",
       "EYoUSavkpDQIHgTBgB6KWrpePQWRaoLBpQdBUBLao4KLRbyo3UvrwUNb2iClYP2mKSWTxEwwAzOw\n",
       "b9+bN9+333wLCIaNFkYTYm+4FYP+Ri9/PmTrwWb3WjL5Zy1314XXaiRZpSmnmttePnavyuAd9HXg\n",
       "dgONVKJF5Y9wqYa1i/SZPHIcmACeNjDQE7QEeKyjhtVRY7CDTJnothEw/23gz9Cy978NjgDdLvwW\n",
       "Qt+0vAW95zCGskAU/dH3Zw1gZn6Z1U+e5tDJq9/DnJiYckRgQGOc0hCBHszrae06CrazD8oKnFlD\n",
       "3oT0CJ+Y4g7NjLdLTXDiMlNkEFoDlBTe+hOq4zPg+xGeRltKit+A9gfDFl4w0ihxbKXUZlWKQ4xZ\n",
       "FBr4KEhPGovtJH5NnzOK+wgYsrwOT4kBNxnpAW0HtVyr08nkRDI5RjW5zaxEdg0qkVfsLBToAL15\n",
       "DBQMqsuCC88KxUEAGZUNUN6s8nTEXHZFESjsK0lpMqUjUbYWbEp0H9ju7dbltZ0kj7JlwJZNTkwh\n",
       "nRZVEfUAzYYnUU7FBjCJYAQfFTPgoNP8skpGB+jFHDASPwqdFxNzVmQQcuA1oRShsVQ8QzADNRKa\n",
       "1FmWTinuHPZk2D34DHQuvsQFXqxGpI1qgwWbR97kcpQb1YHEKlCff06Jip2YOY+LwOATDJ771cWy\n",
       "vARc6fFkw7xYjvVuVhkcmrrFVRrGt7Z+UyXFBU3M59a/t3pKfLe34xB1SSVTr7V9xXBY3P7YyAr7\n",
       "8Id64DXEmuviWlFIGakH7u+NN2cQFP8zNaOVX+YZ4C/4EKMPV84S/wAAAABJRU5ErkJggg==\n",
       "\" style=\"display:inline;vertical-align:middle;\" /></a><br>"
      ],
      "text/plain": [
       "<IPython.core.display.HTML object>"
      ]
     },
     "metadata": {},
     "output_type": "display_data"
    }
   ],
   "source": [
    "round_02 = Round(Add(x, y, one, two))"
   ]
  },
  {
   "cell_type": "code",
   "execution_count": 77,
   "metadata": {},
   "outputs": [
    {
     "data": {
      "text/html": [
       "<span style=\"font-size:20px;\"><a class=\"ProveItLink\" href=\"../../ordering/__pv_it/theorems/d1323f34847310a404e8089c2c268d3c2eb89dbf0/expr.ipynb\"><img src=\"data:image/png;base64,iVBORw0KGgoAAAANSUhEUgAAADQAAAAQBAMAAACra0H4AAAAMFBMVEX///9ERES6uroQEBAyMjLc\n",
       "3NyYmJgiIiJmZmaqqqp2dnbMzMxUVFSIiIju7u4AAAAd7oVFAAAAAXRSTlMAQObYZgAAAAlwSFlz\n",
       "AAAOxAAADsQBlSsOGwAAAMtJREFUGNNjYMAAbM6CX4rFGLACRtYDTMfkcEgtYBDYg1OqlQVF6GJ5\n",
       "uQNcihFZRuUekq5zb4CMt3der5oApFn9kAzklnQFMhp4z3IUAGmWAISUSX3tA6AvAtj+8SSApJCc\n",
       "sSwPZCk3AwfYbobN5UAgADVQLg0sxnwBTD1EdvwOxgcgln4AH4hmR5bi2ArU/1DhMAMXSID3ApIU\n",
       "n8A1Bob5+5oZNMEingipBoY0RgWGF3c52yaARd4IPYCF/McARpGfyMGhJQ4JKCgAAF8xNF8aQs/g\n",
       "AAAAAElFTkSuQmCC\n",
       "\" style=\"display:inline;vertical-align:middle;\" /></a>, <a class=\"ProveItLink\" href=\"../../ordering/__pv_it/theorems/5d76fdd975252a644e3e1cb067a357f9a9c8486a0/expr.ipynb\"><img src=\"data:image/png;base64,iVBORw0KGgoAAAANSUhEUgAAADMAAAATBAMAAADPIygvAAAAMFBMVEX////c3NwyMjK6urpEREQi\n",
       "IiLMzMwQEBCqqqp2dnZUVFSYmJhmZmaIiIju7u4AAADlKNhoAAAAAXRSTlMAQObYZgAAAAlwSFlz\n",
       "AAAOxAAADsQBlSsOGwAAAOBJREFUKM9jYMAAm0r8VUs2MGAFDlIMVlseYJeSZGBhW4BLikdAAUXo\n",
       "SmioAlzKAVnG6B5CF9c7oIF8dzYwvAIJMOohGZjSJMDAwMlRwLAfJMAkAJcSV/0KMiGDJ4BhCVgK\n",
       "yRm7H4HoB+wXGGpBjPRQIHCASLG8BnvZ/gHbNxD9BEkX2wE/EOMQA28BiGZF9tcxERDDi4EF7HPe\n",
       "C0hST3hBJp5isIeEpQZcSoaBe4MzkPFq7nmIs185P4CFvCODi34DiD0JqtrSNRQl5DgV+Cqwxw0D\n",
       "6wWuCTikOPYexiEDADoqNycoB77qAAAAAElFTkSuQmCC\n",
       "\" style=\"display:inline;vertical-align:middle;\" /></a> <a class=\"ProveItLink\" href=\"../__pv_it/demonstrations/f5bdf8fc528cb188ab38d210d15ca2459616dc9a0/proof.ipynb\" style=\"text-decoration: none\">&nbsp;&#x22A2;&nbsp;&nbsp;</a><a class=\"ProveItLink\" href=\"../__pv_it/demonstrations/216d81352050b8a9a45cf0ac57c5bbaea334af420/expr.ipynb\"><img src=\"data:image/png;base64,iVBORw0KGgoAAAANSUhEUgAAAd8AAAAVBAMAAAD1KvkNAAAAMFBMVEX///+qqqpUVFSIiIi6urru\n",
       "7u4iIiIyMjIQEBCYmJhmZmbc3NxERER2dnbMzMwAAADprbYgAAAAAXRSTlMAQObYZgAAAAlwSFlz\n",
       "AAAOxAAADsQBlSsOGwAABTFJREFUWMOtWG9oW1UU/yV5L03ykjQgjOmQBmqdQ8veOkStOgMV2T71\n",
       "ERkO/dDgZpHhtnyZqPghKsr8U8wUEarYMEfLimWPCQXnpGHz0xR9GnQKusUPoiClHV0YJdB67nsv\n",
       "ef9uXl5gB0647/R3zu+ec8+9774CXUQylS8q36FTIB7eJ3pXQA/0OlZFd9llKl/G+A48EWQ+3id6\n",
       "V0AP9Dp2zI8m/VKFfkOaoR0kUnZbGDj9nMt4fu4H4CEu3i86/nkHt4Jemn+1rmM59Dbpz9DPU6Z2\n",
       "kuNuA4Hzcw0XYRXXcuhTeHjf6Lh+K+hxAakbBva4H9k4m+AZUy3Z53iabjVsq3YMHGk4rWEVsRLi\n",
       "FRvekjM+UxAaHoBQ7pke9wInDOy0X8K/sp+SqZbc5niKKWYryaahZGc0rbEGwk3gTRvekpLPFFIF\n",
       "D6BNFJwe7yvYqepYL71NXmEuRUM7JtxXdsbWwW7GcAHhDeBlG95KoOgzhb6KB+BMOBA97gZ21nUs\n",
       "afoPaYFGtZGcOFpGWBFGnqldom03vIftn4RmqLh7aPknR8IMnac1yDpjM7CXEYiuAj/DwreFOSxX\n",
       "z/9Of9p9F56klhzC2NA3j5DnudpKxkPfCklIMRuYHscMatJUciFVwmJOaqZCJczQ8yAmVOxVkw2z\n",
       "gkwTGJFnHQkbaMSLzth6yTmMKzT6GC387CSTZ1sO2mXtN0iHsKRqWxFfhXZRFpsQ3sWPioe+FdJA\n",
       "BqVPrxnUpF/1FagsB4EjfyUK2I7Ho1Us1cW3kWCxohlDP8GMssORMEPfRzFLztgMzGNkyW2FhW8L\n",
       "OUjlF7GAqIzo1cwswkUh9wKkDRwoYw4eejNkmiGrgemjWYOa9O9+VkFquNeVmIw3oEzkMKCQIcq6\n",
       "I5YztK5z60tzwlgaA430Kmukycnn35qczJoOJqPNikSVrTJMvOPYySGtrNPgLI2HKGRMFsUbCDWY\n",
       "4Qic9FZIUUcGpccXJjVT9vaJVSGt0YjqigHQOpNhImdLGCw556E1rqQJLbhKbGO0l/gD9rMXFt6e\n",
       "sPH2eQ9Ykmm0VEdoldaZDJS4h74VkpAr9aD08axJzZTtjQkZqSaNIqssW6yLZJiBraUhNLHfmfAc\n",
       "IqxHCkF6iu4/XwNb0MLb9jBzoN0BkXbZNZVGj4Fl21/ev8Y2qYe+fTwV8WBQetwJSdWxTFnbUFvH\n",
       "NFxEsvoRpqidUhMZbA/RVTsp6yp+Gy5BcyZMaKpbvOqMzRy8jMvA/cCnsPBtYQ767qG2nmIhv48r\n",
       "NJcB5ZfrlPg2D32bKEszCEif1hBRdCypxNomkcVl4BT+1TTq6kjxs6QcOpxA+ygPbTxdEjLOhE9h\n",
       "vGy+B2yx9fcEdYvDKh2en6fSLsDCW3cLcljK6fGSFZpIeirFuvqBeP0StlQqHvr2CmeF9YD0WJyf\n",
       "n22/YgW9Kf4cJc58bdtgnZ7FHRlx8Oq5Paw2BV3Fz+U7Trr2cL52llogmnMVkxzC99x0HqnRzc1N\n",
       "OvMPwcJb3yjk8IQ+19ppauzhXcRLz/mTyD/632DdQ98iEodHmwHpcWxz86aB9dB75KipvJvWFVY8\n",
       "93Y52vFaJBVseCdD1ynwQqaKPdHr2MWun8PeG/e+Fp34mu1m3769T3e86SfK3E+F6SBT8Ia8ggOZ\n",
       "nug530E8SaqGeiQqhzX9w4/jwJcL4OF9HHwBBzHcGz3DcujdIlYN9X63f3iaG1/sGPM7/nzEaoAp\n",
       "eOV2dur0Qt9x6Vzypal8eZjvwP3vhMrH+0TvCuiBXseS/g9CqrFR8fmFWQAAAABJRU5ErkJggg==\n",
       "\" style=\"display:inline;vertical-align:middle;\" /></a></span>"
      ],
      "text/plain": [
       "{x in Real, y in Real} |- round((x + y) + (1 + 2)) = (round(x + y) + (1 + 2))"
      ]
     },
     "metadata": {},
     "output_type": "display_data"
    }
   ],
   "source": [
    "round_add_add.rounding_extraction(1, assumptions=[InSet(x, Real), InSet(y, Real)])"
   ]
  },
  {
   "cell_type": "markdown",
   "metadata": {},
   "source": [
    "## The `shallow_simplification()` method\n",
    "<font size=4> Some testing of the `do_reduced_simplification()` method(s), allowing the simplification of `Ceil(x)`, `Floor(x)`, and `Round(x)` to the operand $x$ when we know $x\\in\\mathbb{Z}$, and simplification of `f(x+n)` to `f(x)+n` when $x$ is real and $n\\in\\mathbb{Z}$. This is not a method that would typically be called directly — instead it ends up getting called by the more general Expr.simplification() method.</font>"
   ]
  },
  {
   "cell_type": "markdown",
   "metadata": {},
   "source": [
    "### Ceil.shallow_simplification()"
   ]
  },
  {
   "cell_type": "code",
   "execution_count": 78,
   "metadata": {},
   "outputs": [
    {
     "data": {
      "text/html": [
       "<span style=\"font-size:20px;\"> <a class=\"ProveItLink\" href=\"../__pv_it/demonstrations/444d614d3049a24bd01a07c9993316a9170fd8830/proof.ipynb\" style=\"text-decoration: none\">&nbsp;&#x22A2;&nbsp;&nbsp;</a><a class=\"ProveItLink\" href=\"../__pv_it/demonstrations/225e494d76b07021d38995c95301512a314464680/expr.ipynb\"><img src=\"data:image/png;base64,iVBORw0KGgoAAAANSUhEUgAAAEAAAAAVBAMAAAAEBPWpAAAAMFBMVEX////u7u4QEBBUVFR2dnbM\n",
       "zMxEREQyMjJmZmbc3NyqqqqYmJiIiIgiIiK6uroAAAAyDowUAAAAAXRSTlMAQObYZgAAAAlwSFlz\n",
       "AAAOxAAADsQBlSsOGwAAALJJREFUKM9jeHv3DgMIrL17mwEr2A1nvcCtYEZ7KlYFYHGgAs4EBv8H\n",
       "WBRAxIEKmCcwMClgUQARBypg+sjA/BOLAog4yIQLDMxfsZkAFof4gvcDdl8AxSEK4g/AFHDcBQMD\n",
       "Bpg4RMFlHOFwGRpQHAnYFYDEwQo24wjJzdCQ5HJgmInNDWBxkIIQBoaD2EwAi4OC+kZHxwVsQQ0W\n",
       "Byrg/f//fwEWBRBxoqKbxgpWIXsKCwAA2GtXf8ifAUkAAAAASUVORK5CYII=\n",
       "\" style=\"display:inline;vertical-align:middle;\" /></a></span>"
      ],
      "text/plain": [
       "|- ceil(2) = 2"
      ]
     },
     "metadata": {},
     "output_type": "display_data"
    }
   ],
   "source": [
    "# simplifying ceiling of an integer\n",
    "ceil_2.shallow_simplification()"
   ]
  },
  {
   "cell_type": "code",
   "execution_count": 79,
   "metadata": {},
   "outputs": [
    {
     "data": {
      "text/html": [
       "<span style=\"font-size:20px;\"><a class=\"ProveItLink\" href=\"../__pv_it/demonstrations/afb365f108d4dd6c721b8c94587e09ba7c4bb65a0/expr.ipynb\"><img src=\"data:image/png;base64,iVBORw0KGgoAAAANSUhEUgAAAGYAAAAVBAMAAABGR4Y+AAAAMFBMVEX////MzMxUVFRERES6uroi\n",
       "IiIQEBCYmJhmZmYyMjLu7u52dnaqqqqIiIjc3NwAAACW8nlqAAAAAXRSTlMAQObYZgAAAAlwSFlz\n",
       "AAAOxAAADsQBlSsOGwAAAaZJREFUOMtjYGB4wIAD8OGSYOA9gEuG5QKaAM+0b5NDzQoYGE7jNI3h\n",
       "OrrxRgIMEzgZGLgm4NbDuQCVz9HAwFuwB0gX4NbD3oDKZ3rAsJjLgIGBjQEPyIK6yTQ0EkRzMTA0\n",
       "MgkwMJzEp2c6JCzmwt3IqCABJLuBeO2lhbtRQ29tOwOXAgPDJjDnJcJbzAusoEY18OpyBKDo2XCM\n",
       "gf0DA0MlmDMPIX6aHRT+MUCvPmD/xYQSFIwHWhmYgJ49BuYhhSwopBkYUoAqGDggwitDQSAQ5Nlc\n",
       "BjagifJgA1KBgsHQ+N/CwLAApIcBLI+aBH4xyAMDyA0cWgZw4cV8QLYeyG0MDP4PuFCjD2jxNSB1\n",
       "FMxBeFURGENcHxhsgbod1Bi4Ue1hVmAwAlLFYM5duDcbPIARGwAKzvNSbQw+aKlEgeU7NCKASegA\n",
       "PKRnMfDZGDCIMjCsuMvTjpa4ubRv/ANSIRCOshdE1M0y2Tg/eQMDqwD2JMANDEo+qE9YNkPSDq50\n",
       "CAE7GZYdwJN+7bAJxjJoA8nHuNLhYmyCx2844DIOnOsv4Mz1OEoKAMEmWrwT2JP2AAAAAElFTkSu\n",
       "QmCC\n",
       "\" style=\"display:inline;vertical-align:middle;\" /></a> <a class=\"ProveItLink\" href=\"../__pv_it/demonstrations/a3a963457decd0ce9280d83919aed212b22e109e0/proof.ipynb\" style=\"text-decoration: none\">&nbsp;&#x22A2;&nbsp;&nbsp;</a><a class=\"ProveItLink\" href=\"../__pv_it/demonstrations/54722cc644862c4fe0959d62b53e3f2196d5a1690/expr.ipynb\"><img src=\"data:image/png;base64,iVBORw0KGgoAAAANSUhEUgAAAJoAAAAVBAMAAABMN+opAAAAMFBMVEX///9EREQQEBAyMjLc3Nxm\n",
       "ZmZ2dnbMzMxUVFTu7u6qqqqYmJiIiIgiIiK6uroAAAAc1BPlAAAAAXRSTlMAQObYZgAAAAlwSFlz\n",
       "AAAOxAAADsQBlSsOGwAAAc5JREFUOMuVlL9Lw0AUx79Wk+ZXi4ODg0hWRaS7CPE/KAoi+CsgSBGH\n",
       "ToKCWB0KokOqFBUciqKDIlZ0UsEgFAp2cBPEiDgKUoeCFBevVx0uvSvkILnj7vs+73Hv3sOn9wLB\n",
       "0Dwv37hrieRt5LtBkxGNN2wZOaHYDU47FqsfAtPUmFjd6gSlSXmxWo8HpYWayXuC0g6byQcoTS2t\n",
       "L8yx11PIY5dHGyXffnFnls3s/jjUFJCgNAlFd5I5ljUTd/80yaMjVXcPxI1N6ZGR2wfQv4BLSrvC\n",
       "nbPBHC8R+Sovtmdy2ZZeVZhkhHOTUNqBA0pLYoTubtMYnsjKCbno49H6iS0k+kzUQSpPkhXREgOs\n",
       "/GWhz29VdsLfAhqoJZutKlYI9b1Oi1awx56PwDB59/ZMXVmqw77CGO7JdFajqd2KCZuldaIlxYut\n",
       "C8i8rUFmd4m2k0wXNZr2nTWjvmIeQznPoyWA88VhfPgqJBX9oc+nFtuEe3Tts9qdn7Z4tGUgW9LG\n",
       "fb7VdKFCpldxLcxwayGS5Ktlkua2RwFNjqm9XJoe53veytGOwKdFXMXm97cOnvwFafIfEvU37XZK\n",
       "0C0zPPlp4a3u6KRZUwjbjd3fFYkNC799Boc1ICfFQQAAAABJRU5ErkJggg==\n",
       "\" style=\"display:inline;vertical-align:middle;\" /></a></span>"
      ],
      "text/plain": [
       "{(x - y) in Integer} |- ceil(x - y) = (x - y)"
      ]
     },
     "metadata": {},
     "output_type": "display_data"
    }
   ],
   "source": [
    "# simplifying ceiling of expression assumed to be an integer\n",
    "ceil_x_minus_y.shallow_simplification(assumptions=[InSet(subtract(x, y), Integer)])"
   ]
  },
  {
   "cell_type": "code",
   "execution_count": 80,
   "metadata": {},
   "outputs": [
    {
     "data": {
      "text/html": [
       "<span style=\"font-size:20px;\"><a class=\"ProveItLink\" href=\"../../ordering/__pv_it/theorems/d1323f34847310a404e8089c2c268d3c2eb89dbf0/expr.ipynb\"><img src=\"data:image/png;base64,iVBORw0KGgoAAAANSUhEUgAAADQAAAAQBAMAAACra0H4AAAAMFBMVEX///9ERES6uroQEBAyMjLc\n",
       "3NyYmJgiIiJmZmaqqqp2dnbMzMxUVFSIiIju7u4AAAAd7oVFAAAAAXRSTlMAQObYZgAAAAlwSFlz\n",
       "AAAOxAAADsQBlSsOGwAAAMtJREFUGNNjYMAAbM6CX4rFGLACRtYDTMfkcEgtYBDYg1OqlQVF6GJ5\n",
       "uQNcihFZRuUekq5zb4CMt3der5oApFn9kAzklnQFMhp4z3IUAGmWAISUSX3tA6AvAtj+8SSApJCc\n",
       "sSwPZCk3AwfYbobN5UAgADVQLg0sxnwBTD1EdvwOxgcgln4AH4hmR5bi2ArU/1DhMAMXSID3ApIU\n",
       "n8A1Bob5+5oZNMEingipBoY0RgWGF3c52yaARd4IPYCF/McARpGfyMGhJQ4JKCgAAF8xNF8aQs/g\n",
       "AAAAAElFTkSuQmCC\n",
       "\" style=\"display:inline;vertical-align:middle;\" /></a>, <a class=\"ProveItLink\" href=\"../__pv_it/demonstrations/1a5270d7d3401e3ec902ebbf86bec5c78898bba20/expr.ipynb\"><img src=\"data:image/png;base64,iVBORw0KGgoAAAANSUhEUgAAADIAAAATBAMAAAAg4UMRAAAAMFBMVEX////c3NwyMjK6urpEREQi\n",
       "IiLMzMwQEBCqqqp2dnZUVFSYmJhmZmaIiIju7u4AAADlKNhoAAAAAXRSTlMAQObYZgAAAAlwSFlz\n",
       "AAAOxAAADsQBlSsOGwAAAPJJREFUGNNjYMAAHOrfVULdN2BKMPB6JTAoMGGRYOA5wMC7YQY2GS4B\n",
       "hid8DiimuIYGgWg+BoZjXAlIEsy6D2BMtgU5IBV3NjC8AnGF4BIMLA/8gCQnRwHDfhBXEaG9k/sC\n",
       "kMzgCWBYAuIqIGQgbn7AfoGhFmR2aWhoaAjEKQ2TgeIMDPYP2L6B7EO48wkjkL2QgeEQA28BiB8A\n",
       "l1kG9BHfBwYGLwaWBSD+XbibD9gAvQtUeIrBHhx6TA1wN+sxMHoADXw197wA2OtL7CAy5k4lLvUl\n",
       "E0DMSdBAmAIJHRjgVOCrYMAKWC9wTcAuw7H3MHYJABj+NEi8Hq+uAAAAAElFTkSuQmCC\n",
       "\" style=\"display:inline;vertical-align:middle;\" /></a> <a class=\"ProveItLink\" href=\"../__pv_it/demonstrations/651e9b42bde13508c9bea347aec625c9ba6ce7ea0/proof.ipynb\" style=\"text-decoration: none\">&nbsp;&#x22A2;&nbsp;&nbsp;</a><a class=\"ProveItLink\" href=\"../__pv_it/demonstrations/77e5ec25e61ce67091b01ccaf7f0cbca396af3710/expr.ipynb\"><img src=\"data:image/png;base64,iVBORw0KGgoAAAANSUhEUgAAAKwAAAAVBAMAAAAp2hhWAAAAMFBMVEX///9EREQQEBAyMjLc3Nxm\n",
       "ZmZ2dnbMzMxUVFTu7u6qqqqYmJiIiIgiIiK6uroAAAAc1BPlAAAAAXRSTlMAQObYZgAAAAlwSFlz\n",
       "AAAOxAAADsQBlSsOGwAAAfZJREFUOMuV1D9I3FAcB/DvXU1yLzmDQwenklVxuF0K6d7hqFAKV9vA\n",
       "gYg4OAm6mHYQSjukivQKDkHoopSmtC62YCgcHHrDbbcYEUdBzkEQ6dJf/lS4ey/x8oa88PL7fd4v\n",
       "L+8Fl8EJUpoaBB43OALoQeCnB0Qh+IWMple5oSNA87ICaNDPzarW/SyOc7ObGIJ94ORla8OwWjUv\n",
       "awzDYiInq1aGYqcjdrv1ac7tG2dNDw1BlmQlLGu/W17gA7ZrYDYwH7HV8gep0/dYVg0c/s+SgqjZ\n",
       "4cfwElZCy5/lWWsH2hXwI2Q1U7st9e/rVZrmjaDaUTdhf+LQec8FKO4sSmPATsgqkCrx7omq6tKd\n",
       "U/QxJWCLZwm7hJm7tWWPo7wluqMkysRa/MmK/uCi9xzlJotFOCsfoN9ijfjzmO2ZzOl/PoOyIVjb\n",
       "u0WAfo3PPEuv/Ye6ryH78ewt5IGyxlGwBdUW/Jhlj0oGLD6Aksap+x6y31ae4WIg/wV6noCV7ZhV\n",
       "b7YM3RVUa+t/qXseslttteYO5DcWX5sCVukk1b70vxwI1patN6+pO00/ZXXhIered8pk2lQjnRRW\n",
       "rrBJYdZ+NlvHBr235KWwo37JErIFM5M9wTpdn6T9b9Xfr8TvyMYy2b1muLEfArtZfzDF4oae0pxu\n",
       "VgBQNvEPDjSkG8i6hpQAAAAASUVORK5CYII=\n",
       "\" style=\"display:inline;vertical-align:middle;\" /></a></span>"
      ],
      "text/plain": [
       "{x in Real, y in Integer} |- ceil(x - y) = (ceil(x) - y)"
      ]
     },
     "metadata": {},
     "output_type": "display_data"
    }
   ],
   "source": [
    "# simplifying ceiling of a sum of an assumed real and an assumed integer\n",
    "ceil_x_minus_y.shallow_simplification(assumptions=[InSet(x, Real), InSet(y, Integer)])"
   ]
  },
  {
   "cell_type": "code",
   "execution_count": 81,
   "metadata": {},
   "outputs": [
    {
     "data": {
      "text/html": [
       "<span style=\"font-size:20px;\"><a class=\"ProveItLink\" href=\"../../ordering/__pv_it/theorems/d1323f34847310a404e8089c2c268d3c2eb89dbf0/expr.ipynb\"><img src=\"data:image/png;base64,iVBORw0KGgoAAAANSUhEUgAAADQAAAAQBAMAAACra0H4AAAAMFBMVEX///9ERES6uroQEBAyMjLc\n",
       "3NyYmJgiIiJmZmaqqqp2dnbMzMxUVFSIiIju7u4AAAAd7oVFAAAAAXRSTlMAQObYZgAAAAlwSFlz\n",
       "AAAOxAAADsQBlSsOGwAAAMtJREFUGNNjYMAAbM6CX4rFGLACRtYDTMfkcEgtYBDYg1OqlQVF6GJ5\n",
       "uQNcihFZRuUekq5zb4CMt3der5oApFn9kAzklnQFMhp4z3IUAGmWAISUSX3tA6AvAtj+8SSApJCc\n",
       "sSwPZCk3AwfYbobN5UAgADVQLg0sxnwBTD1EdvwOxgcgln4AH4hmR5bi2ArU/1DhMAMXSID3ApIU\n",
       "n8A1Bob5+5oZNMEingipBoY0RgWGF3c52yaARd4IPYCF/McARpGfyMGhJQ4JKCgAAF8xNF8aQs/g\n",
       "AAAAAElFTkSuQmCC\n",
       "\" style=\"display:inline;vertical-align:middle;\" /></a>, <a class=\"ProveItLink\" href=\"../../ordering/__pv_it/theorems/5d76fdd975252a644e3e1cb067a357f9a9c8486a0/expr.ipynb\"><img src=\"data:image/png;base64,iVBORw0KGgoAAAANSUhEUgAAADMAAAATBAMAAADPIygvAAAAMFBMVEX////c3NwyMjK6urpEREQi\n",
       "IiLMzMwQEBCqqqp2dnZUVFSYmJhmZmaIiIju7u4AAADlKNhoAAAAAXRSTlMAQObYZgAAAAlwSFlz\n",
       "AAAOxAAADsQBlSsOGwAAAOBJREFUKM9jYMAAm0r8VUs2MGAFDlIMVlseYJeSZGBhW4BLikdAAUXo\n",
       "SmioAlzKAVnG6B5CF9c7oIF8dzYwvAIJMOohGZjSJMDAwMlRwLAfJMAkAJcSV/0KMiGDJ4BhCVgK\n",
       "yRm7H4HoB+wXGGpBjPRQIHCASLG8BnvZ/gHbNxD9BEkX2wE/EOMQA28BiGZF9tcxERDDi4EF7HPe\n",
       "C0hST3hBJp5isIeEpQZcSoaBe4MzkPFq7nmIs185P4CFvCODi34DiD0JqtrSNRQl5DgV+Cqwxw0D\n",
       "6wWuCTikOPYexiEDADoqNycoB77qAAAAAElFTkSuQmCC\n",
       "\" style=\"display:inline;vertical-align:middle;\" /></a> <a class=\"ProveItLink\" href=\"../__pv_it/demonstrations/11e47978188e4f86973dbd2ff5a7f6bb0380178d0/proof.ipynb\" style=\"text-decoration: none\">&nbsp;&#x22A2;&nbsp;&nbsp;</a><a class=\"ProveItLink\" href=\"../__pv_it/demonstrations/716a691baad4d4fd6e8ba08f2c2c603926d3f1b10/expr.ipynb\"><img src=\"data:image/png;base64,iVBORw0KGgoAAAANSUhEUgAAAQQAAAAVBAMAAABS242zAAAAMFBMVEX////MzMxUVFREREQQEBBm\n",
       "ZmYyMjLu7u52dnbc3NyqqqqYmJiIiIgiIiK6uroAAACaAm0XAAAAAXRSTlMAQObYZgAAAAlwSFlz\n",
       "AAAOxAAADsQBlSsOGwAAAqBJREFUSMeVlj1oFEEUx/+3t5u97N0uKQ9BIlhY2Jx2gsgWgiAqQcgR\n",
       "0Oh1FmmOiLENKVKI4EGwEBSuUBExsCgR/IAsgogfxSZoo46k0EolSSWpztmZueN27s1yN7CwPPb9\n",
       "5jezM/MGf9l3AOMwtRYVXGXfyE8DxmIDx2MsIsJpx6/E2wejwh86/GswVGmjHMHcgikqGCsFb9GY\n",
       "WNGpt+tHaIVHGFFBkD4qhYWczCvazNVwa4tScBsjKkjSWFMqXMjJXOsSJN5qwQ4pBScaVuE3+kjl\n",
       "KakQ5mTaTbWe5EKz/8HaoxRsDKvwBP2kU0LBa+RkjkUZBSuBtUspPBxVQZHmhILDV6P76VD1Rvbn\n",
       "vo0wD5QOZBR483cohRmlYATpCoq0JBTSgTp4E89mMkteiHWObegKk3FXwWGiCck5pWAEEQop6blQ\n",
       "8NvAC6w3D2cy9zkJDvKuQ11hk9yUX5WCEUQopKT7QsHmu2wCdRFdEOPa4G9NO8YZoLAjh/v5rBqu\n",
       "UyMVzikFI0gqzDJ2krFN9EiTPQWkX2XbdrPAl0ugz8JT5CqYQQOzIEg/ez8CwR6uZzPrqPDuvSSr\n",
       "wE/SO9Ra6P4II2hAQZJWhUIxhnvCCqEd00dR5PByLatQBd5Rs3BcKphBAwqS9Ewo8H3n7V4Lg3Y2\n",
       "8zy2I7lj+xTGv0xPJ5TCklQwg3QFRZoRCoUE7sX4wUsNOn/zMi/V/lZGwe90Og1KYb+aBSNIV1Ck\n",
       "H/KA3jAcaMv8uQd9U9LL0Z/IOR2XQW7KdC4SqbBGpZUa7um+EhZE+Qq83hgUFEgvU73qJhSK1N3I\n",
       "j61FUVKHvLIcMylIEH1lwYq6L7hUP97rSyY7UuGqSUGCDApc/LF4uWusb+/pcJW4Bsbw2jmVskBd\n",
       "zSot/AdnpgC8Ph3w1AAAAABJRU5ErkJggg==\n",
       "\" style=\"display:inline;vertical-align:middle;\" /></a></span>"
      ],
      "text/plain": [
       "{x in Real, y in Real} |- ceil((x - y) + 2) = (ceil(x - y) + 2)"
      ]
     },
     "metadata": {},
     "output_type": "display_data"
    }
   ],
   "source": [
    "# simplifying ceiling of sum of some assumed real numbers and an actual integer\n",
    "ceil_x_minus_y_plus_2.shallow_simplification(assumptions=[InSet(x, Real), InSet(y, Real)])"
   ]
  },
  {
   "cell_type": "markdown",
   "metadata": {},
   "source": [
    "### Floor.shallow_simplification()"
   ]
  },
  {
   "cell_type": "code",
   "execution_count": 82,
   "metadata": {},
   "outputs": [
    {
     "data": {
      "text/html": [
       "<span style=\"font-size:20px;\"> <a class=\"ProveItLink\" href=\"../__pv_it/demonstrations/48164999efb25287130b512920386c7de164fe270/proof.ipynb\" style=\"text-decoration: none\">&nbsp;&#x22A2;&nbsp;&nbsp;</a><a class=\"ProveItLink\" href=\"../__pv_it/demonstrations/ba61e9f5f321c33aafbf8c954b9366cba0ca99420/expr.ipynb\"><img src=\"data:image/png;base64,iVBORw0KGgoAAAANSUhEUgAAAEAAAAAVBAMAAAAEBPWpAAAAMFBMVEX///9UVFS6urp2dnbMzMxE\n",
       "REQyMjJmZmbc3NyIiIgiIiIQEBCqqqqYmJju7u4AAABNPSixAAAAAXRSTlMAQObYZgAAAAlwSFlz\n",
       "AAAOxAAADsQBlSsOGwAAALFJREFUKM9jeMcAAxwMWMFdOEsdt4L2shCsCsDiQAUcAQz2ClgUQMSB\n",
       "ChgbGLg3YFEAEQcq4P7HwPgDiwKIOMiEBQyMX7CZABaH+ILrA3ZfAMUhCvwnwBSwrwIDAQaYOETB\n",
       "QhzhsBAaUOwB2BWAxMEKLuIIyYvQkOQxYOjA5gawOEiBMwPDPGwmgMVBQb28vHwBtqAGiwMVcP3/\n",
       "/z8BiwKIOFHRTWMFp1etBNOnoDQ6AACBf0QySkbOFQAAAABJRU5ErkJggg==\n",
       "\" style=\"display:inline;vertical-align:middle;\" /></a></span>"
      ],
      "text/plain": [
       "|- floor(2) = 2"
      ]
     },
     "metadata": {},
     "output_type": "display_data"
    }
   ],
   "source": [
    "# simplifying floor of an integer\n",
    "floor_2.shallow_simplification()"
   ]
  },
  {
   "cell_type": "code",
   "execution_count": 83,
   "metadata": {},
   "outputs": [
    {
     "data": {
      "text/html": [
       "<span style=\"font-size:20px;\"><a class=\"ProveItLink\" href=\"../__pv_it/theorems/e7ea3ade6561bbbb858c02aa3be91f7305b5ebb50/expr.ipynb\"><img src=\"data:image/png;base64,iVBORw0KGgoAAAANSUhEUgAAADMAAAAQBAMAAABJt1qBAAAAMFBMVEX///9ERES6uroQEBAyMjLc\n",
       "3NyYmJgiIiJmZmaqqqp2dnbMzMxUVFSIiIju7u4AAAAd7oVFAAAAAXRSTlMAQObYZgAAAAlwSFlz\n",
       "AAAOxAAADsQBlSsOGwAAAN1JREFUGNNjYMAEU+xNxAvNGLCBi6cZWBgcsEp1MDBc45qAVeooA5/A\n",
       "Q1QhXvHyEhD9gIFjw2kUGSbfBzDmHu4GEPX2zutVYIND4DIMcoxgdgPvWY4CEMMVLsO5IBdEsQWw\n",
       "/eNJALEQzoU6nZuBAyLGbV5eXl4IZt7kUmDgAzGYL4D5fAIwTXwCgQwMPAFAln4AH9jSApgUz4aj\n",
       "DAzvGRgeKhxm4AKL3IVJ7WACOv04A8P8fc0MmhDLYWEjx/KAIXAiA8OLu5xtEDG+g3oQrxs6Cwp/\n",
       "lkINjoWQgIICAM0UMqoFj6RNAAAAAElFTkSuQmCC\n",
       "\" style=\"display:inline;vertical-align:middle;\" /></a>, <a class=\"ProveItLink\" href=\"../__pv_it/demonstrations/1a5270d7d3401e3ec902ebbf86bec5c78898bba20/expr.ipynb\"><img src=\"data:image/png;base64,iVBORw0KGgoAAAANSUhEUgAAADIAAAATBAMAAAAg4UMRAAAAMFBMVEX////c3NwyMjK6urpEREQi\n",
       "IiLMzMwQEBCqqqp2dnZUVFSYmJhmZmaIiIju7u4AAADlKNhoAAAAAXRSTlMAQObYZgAAAAlwSFlz\n",
       "AAAOxAAADsQBlSsOGwAAAPJJREFUGNNjYMAAHOrfVULdN2BKMPB6JTAoMGGRYOA5wMC7YQY2GS4B\n",
       "hid8DiimuIYGgWg+BoZjXAlIEsy6D2BMtgU5IBV3NjC8AnGF4BIMLA/8gCQnRwHDfhBXEaG9k/sC\n",
       "kMzgCWBYAuIqIGQgbn7AfoGhFmR2aWhoaAjEKQ2TgeIMDPYP2L6B7EO48wkjkL2QgeEQA28BiB8A\n",
       "l1kG9BHfBwYGLwaWBSD+XbibD9gAvQtUeIrBHhx6TA1wN+sxMHoADXw197wA2OtL7CAy5k4lLvUl\n",
       "E0DMSdBAmAIJHRjgVOCrYMAKWC9wTcAuw7H3MHYJABj+NEi8Hq+uAAAAAElFTkSuQmCC\n",
       "\" style=\"display:inline;vertical-align:middle;\" /></a> <a class=\"ProveItLink\" href=\"../__pv_it/demonstrations/078e185da4b562ee03f6d75f9c05e65d97e1784c0/proof.ipynb\" style=\"text-decoration: none\">&nbsp;&#x22A2;&nbsp;&nbsp;</a><a class=\"ProveItLink\" href=\"../__pv_it/demonstrations/2aff24630512bd9a6e5faca773845af2bd1457f80/expr.ipynb\"><img src=\"data:image/png;base64,iVBORw0KGgoAAAANSUhEUgAAAJoAAAAVBAMAAABMN+opAAAAMFBMVEX///9ERES6uroyMjLc3Nxm\n",
       "ZmZ2dnbMzMxUVFSIiIgiIiIQEBCqqqqYmJju7u4AAAC1Kov9AAAAAXRSTlMAQObYZgAAAAlwSFlz\n",
       "AAAOxAAADsQBlSsOGwAAAeBJREFUOMuV1N8rg1EYB/Cvl3c23p0kF9ztHtk/oF7/wbISk6yUplzs\n",
       "yoXE3CiJ3psVSS1X9nKx3PmR3hLFkokbRV4XsqXkQrkiZ2eUZ84ZO/Xu7H33nM95ds57HjyjUjP/\n",
       "9ajU6vh1WwnTQr8e+RxlsFW9dqyOXqtaY0F1dK1brnX+oek58ju584fKtZM/tEZyZ1jk9qBa7bCS\n",
       "1i00trI0MU40lswhL9P6+FVYfhx1iFYYAksAMaHpWLYiRPMYGdx9a7otWqI0PRDyzespokWz8L8A\n",
       "l0K7wp27SLQpHj4ry22LL7bp//Dmfmr1TgTeJiArtDjC4mnEtvdse4N/cxst7Mi0bT4WevAr5c1d\n",
       "kTLjsXwAZr52Yad8F7rc+jeFBjGS/FPtAzNxoL2kaa94ploYvoxs3bbEVCZzicaTXeXdaVFjzd4M\n",
       "olRrRU1CllsbcB9YgIfmxmNbeXdR1Iy3h4zmUK0fXTmZFgPOpwfRQTU9ob2L16eY24B1dFO2bvmx\n",
       "YVOmTQIPK8aQQzU2l3zl3br6LIxIz0JDXH4WPHyb61KKU+8Jsn2p5g/JTv0InhxREeQVqcHyRuX1\n",
       "rUUWnsYc/+xR1TfjuldRLe9l4WfJQGmirJ1WVT/Dtq3f1d9ShftMfAIuBZnkfpwS0QAAAABJRU5E\n",
       "rkJggg==\n",
       "\" style=\"display:inline;vertical-align:middle;\" /></a></span>"
      ],
      "text/plain": [
       "{x in Integer, y in Integer} |- floor(x + y) = (x + y)"
      ]
     },
     "metadata": {},
     "output_type": "display_data"
    }
   ],
   "source": [
    "# simplifying floor of a sum of assumed integers\n",
    "floor_x_plus_y.shallow_simplification(assumptions=[InSet(x, Integer), InSet(y, Integer)])"
   ]
  },
  {
   "cell_type": "code",
   "execution_count": 84,
   "metadata": {},
   "outputs": [
    {
     "data": {
      "text/html": [
       "<span style=\"font-size:20px;\"><a class=\"ProveItLink\" href=\"../../ordering/__pv_it/theorems/d1323f34847310a404e8089c2c268d3c2eb89dbf0/expr.ipynb\"><img src=\"data:image/png;base64,iVBORw0KGgoAAAANSUhEUgAAADQAAAAQBAMAAACra0H4AAAAMFBMVEX///9ERES6uroQEBAyMjLc\n",
       "3NyYmJgiIiJmZmaqqqp2dnbMzMxUVFSIiIju7u4AAAAd7oVFAAAAAXRSTlMAQObYZgAAAAlwSFlz\n",
       "AAAOxAAADsQBlSsOGwAAAMtJREFUGNNjYMAAbM6CX4rFGLACRtYDTMfkcEgtYBDYg1OqlQVF6GJ5\n",
       "uQNcihFZRuUekq5zb4CMt3der5oApFn9kAzklnQFMhp4z3IUAGmWAISUSX3tA6AvAtj+8SSApJCc\n",
       "sSwPZCk3AwfYbobN5UAgADVQLg0sxnwBTD1EdvwOxgcgln4AH4hmR5bi2ArU/1DhMAMXSID3ApIU\n",
       "n8A1Bob5+5oZNMEingipBoY0RgWGF3c52yaARd4IPYCF/McARpGfyMGhJQ4JKCgAAF8xNF8aQs/g\n",
       "AAAAAElFTkSuQmCC\n",
       "\" style=\"display:inline;vertical-align:middle;\" /></a>, <a class=\"ProveItLink\" href=\"../__pv_it/demonstrations/1a5270d7d3401e3ec902ebbf86bec5c78898bba20/expr.ipynb\"><img src=\"data:image/png;base64,iVBORw0KGgoAAAANSUhEUgAAADIAAAATBAMAAAAg4UMRAAAAMFBMVEX////c3NwyMjK6urpEREQi\n",
       "IiLMzMwQEBCqqqp2dnZUVFSYmJhmZmaIiIju7u4AAADlKNhoAAAAAXRSTlMAQObYZgAAAAlwSFlz\n",
       "AAAOxAAADsQBlSsOGwAAAPJJREFUGNNjYMAAHOrfVULdN2BKMPB6JTAoMGGRYOA5wMC7YQY2GS4B\n",
       "hid8DiimuIYGgWg+BoZjXAlIEsy6D2BMtgU5IBV3NjC8AnGF4BIMLA/8gCQnRwHDfhBXEaG9k/sC\n",
       "kMzgCWBYAuIqIGQgbn7AfoGhFmR2aWhoaAjEKQ2TgeIMDPYP2L6B7EO48wkjkL2QgeEQA28BiB8A\n",
       "l1kG9BHfBwYGLwaWBSD+XbibD9gAvQtUeIrBHhx6TA1wN+sxMHoADXw197wA2OtL7CAy5k4lLvUl\n",
       "E0DMSdBAmAIJHRjgVOCrYMAKWC9wTcAuw7H3MHYJABj+NEi8Hq+uAAAAAElFTkSuQmCC\n",
       "\" style=\"display:inline;vertical-align:middle;\" /></a> <a class=\"ProveItLink\" href=\"../__pv_it/demonstrations/8f957c1b7e9358ca5f9cf0369b438ab7f26ae3120/proof.ipynb\" style=\"text-decoration: none\">&nbsp;&#x22A2;&nbsp;&nbsp;</a><a class=\"ProveItLink\" href=\"../__pv_it/demonstrations/d435f12dcd1fc45ded28b2d3f8ffdfb4da5085260/expr.ipynb\"><img src=\"data:image/png;base64,iVBORw0KGgoAAAANSUhEUgAAAKwAAAAVBAMAAAAp2hhWAAAAMFBMVEX///9ERES6uroyMjLc3Nxm\n",
       "ZmZ2dnbMzMxUVFSIiIgiIiIQEBCqqqqYmJju7u4AAAC1Kov9AAAAAXRSTlMAQObYZgAAAAlwSFlz\n",
       "AAAOxAAADsQBlSsOGwAAAgZJREFUOMuV1L9L3GAYB/DvpSZ35yUvIg6O7rbc/QOFdOx2VCjtydGA\n",
       "UBQ6OHUqmi6CSMu7HCht4ejSmi5Z/YFkcVARU9RBsJhSRKUgHQSnSp/kctLL+ybnZbj3eHjeT94f\n",
       "eR5cIusxhUgfwIKshCgFP7JUpSqEPgKGn5VAQd4zq1vdWXzqmf2FO7D3giT7oAtbl7OK/3+SUU2y\n",
       "W11YV87qvCNro0dWr9yJfRixF4tnL70OljV8nEtY1YpZtvT+9SuRvaiD2cBkxFaL82qzg9V0Fyft\n",
       "WaoTPXZ4GX7MqljkNZG1dmD8AfZD1jCNm4Lfwb6h17yVrLbfi9kDnATvBDbv1VAYAHZCNg+1EkVr\n",
       "jrPmOF/pX1DiWJGwpZGYncbY7dnSbr6tRrthNIlmYrZ1ZSWevLJykL/OYhG+VTwE5Qaz08Boiy2b\n",
       "7Tpvs2MoupKzvT0EKFe4FFna9gcatkP258gCtMRqh5GzJavN8RbLBgsuLJGlScM0fA/ZvZlx3E+w\n",
       "z1D2Jaxmt1j9+tRVPMlqbeUvDU9D9nRJr3sJ9nzqhSlh8814tc/55rHkbNlc44qGz+lVNiEt3i/d\n",
       "qkyjj6qvmdJqtApbl7KH2a1mAr9p36qf0hj7ecGSsjkzszEuY45+H6X1W/3oibyDsYFMdrcRfthD\n",
       "VGfOcloT1x2HC8HHFF+N49IEoGjiH0KbtWF2kkP8AAAAAElFTkSuQmCC\n",
       "\" style=\"display:inline;vertical-align:middle;\" /></a></span>"
      ],
      "text/plain": [
       "{x in Real, y in Integer} |- floor(x + y) = (floor(x) + y)"
      ]
     },
     "metadata": {},
     "output_type": "display_data"
    }
   ],
   "source": [
    "# simplifying floor of a sum of an assumed real and an assumed integer\n",
    "floor_x_plus_y.shallow_simplification(assumptions=[InSet(x, Real), InSet(y, Integer)])"
   ]
  },
  {
   "cell_type": "code",
   "execution_count": 85,
   "metadata": {},
   "outputs": [
    {
     "data": {
      "text/html": [
       "<span style=\"font-size:20px;\"><a class=\"ProveItLink\" href=\"../../ordering/__pv_it/theorems/d1323f34847310a404e8089c2c268d3c2eb89dbf0/expr.ipynb\"><img src=\"data:image/png;base64,iVBORw0KGgoAAAANSUhEUgAAADQAAAAQBAMAAACra0H4AAAAMFBMVEX///9ERES6uroQEBAyMjLc\n",
       "3NyYmJgiIiJmZmaqqqp2dnbMzMxUVFSIiIju7u4AAAAd7oVFAAAAAXRSTlMAQObYZgAAAAlwSFlz\n",
       "AAAOxAAADsQBlSsOGwAAAMtJREFUGNNjYMAAbM6CX4rFGLACRtYDTMfkcEgtYBDYg1OqlQVF6GJ5\n",
       "uQNcihFZRuUekq5zb4CMt3der5oApFn9kAzklnQFMhp4z3IUAGmWAISUSX3tA6AvAtj+8SSApJCc\n",
       "sSwPZCk3AwfYbobN5UAgADVQLg0sxnwBTD1EdvwOxgcgln4AH4hmR5bi2ArU/1DhMAMXSID3ApIU\n",
       "n8A1Bob5+5oZNMEingipBoY0RgWGF3c52yaARd4IPYCF/McARpGfyMGhJQ4JKCgAAF8xNF8aQs/g\n",
       "AAAAAElFTkSuQmCC\n",
       "\" style=\"display:inline;vertical-align:middle;\" /></a>, <a class=\"ProveItLink\" href=\"../../ordering/__pv_it/theorems/5d76fdd975252a644e3e1cb067a357f9a9c8486a0/expr.ipynb\"><img src=\"data:image/png;base64,iVBORw0KGgoAAAANSUhEUgAAADMAAAATBAMAAADPIygvAAAAMFBMVEX////c3NwyMjK6urpEREQi\n",
       "IiLMzMwQEBCqqqp2dnZUVFSYmJhmZmaIiIju7u4AAADlKNhoAAAAAXRSTlMAQObYZgAAAAlwSFlz\n",
       "AAAOxAAADsQBlSsOGwAAAOBJREFUKM9jYMAAm0r8VUs2MGAFDlIMVlseYJeSZGBhW4BLikdAAUXo\n",
       "SmioAlzKAVnG6B5CF9c7oIF8dzYwvAIJMOohGZjSJMDAwMlRwLAfJMAkAJcSV/0KMiGDJ4BhCVgK\n",
       "yRm7H4HoB+wXGGpBjPRQIHCASLG8BnvZ/gHbNxD9BEkX2wE/EOMQA28BiGZF9tcxERDDi4EF7HPe\n",
       "C0hST3hBJp5isIeEpQZcSoaBe4MzkPFq7nmIs185P4CFvCODi34DiD0JqtrSNRQl5DgV+Cqwxw0D\n",
       "6wWuCTikOPYexiEDADoqNycoB77qAAAAAElFTkSuQmCC\n",
       "\" style=\"display:inline;vertical-align:middle;\" /></a> <a class=\"ProveItLink\" href=\"../__pv_it/demonstrations/e65abf985aa29fe2068895cdda91a63f9efefe440/proof.ipynb\" style=\"text-decoration: none\">&nbsp;&#x22A2;&nbsp;&nbsp;</a><a class=\"ProveItLink\" href=\"../__pv_it/demonstrations/3424103a21e21ff15801e65687fc49a30da0b75d0/expr.ipynb\"><img src=\"data:image/png;base64,iVBORw0KGgoAAAANSUhEUgAAAQQAAAAVBAMAAABS242zAAAAMFBMVEX////MzMxUVFRERES6urpm\n",
       "ZmYyMjJ2dnbc3NyIiIgiIiIQEBCqqqqYmJju7u4AAAD2l1fMAAAAAXRSTlMAQObYZgAAAAlwSFlz\n",
       "AAAOxAAADsQBlSsOGwAAAm5JREFUSMed1j9oFEEUBvDvcre5f3NLOiEIimKpBLHQLo2FSEgIIcGA\n",
       "eNhHQ4qAIHhgpdUgBBQUT7FxTbFFGhPRa1QuaRYkoqBkiWgZTGfp7Mzcmbl9b9m4cLA79+bb387N\n",
       "7Qz2kBwVcEeLbq6QpX6MjKPF5HzXZ4/Zfpfo5ovppmoHjShDUJqiGqUliEW2YzWVOhrThI84LCFJ\n",
       "emIJvzJ63nAv/VM3aYLfPCTBJA3HhnDV+W7CudruJfTin9IEL0oRJmhCvzlJakwZQujUdp2rup1i\n",
       "QmYT6kgRujShe5CAt5ogmhk9h6N8hA//SVjQBE/NRv/RmSO3nRJ/JcIuUD6ejzBnCWwQQ1jShORB\n",
       "PTyQ805JWYTYUbFNnuAF+tDIBUtggxjCZ02odYAv2IlPOyVHvTZOqluH+UZh1RLYIIawpQn1cWAE\n",
       "s7p5Pgg2guC5OovrEq+Bwm/zuK/W7eMyhDVLYIMM4V+zTTrWJyCpcpWTcWFf9cw5Cmv96cgF0aNw\n",
       "uf9DoPQHe27JLKrq9qKdby70fgg2iCFsakJRwj83FGLRLTmLogpvjOUbhQuGwAcxhE+aoP53Yv9n\n",
       "WOq4JdOYjMw/1iHcaZGEJUPgg9IEnTSnCYU2/Cvy/beBkt1b11RNbdwlnHh3PaIIo3YU2KAUwSS9\n",
       "MC/oZ8xLbVl97mNgFJjFujaS8XZcJt+OesPQNoRtanUpN/03B5awUpRNUOsNs0zZoPQyZVc3TShS\n",
       "G5qaHFLToDKWd8tynlusTRC9ZcFdu1/wqfuIrzOcjiT84AgmiCEo+FbwUp3cYzcaD6nGTd1pcBso\n",
       "IdYDyeSIgPyq2sJft78OejWqTk4AAAAASUVORK5CYII=\n",
       "\" style=\"display:inline;vertical-align:middle;\" /></a></span>"
      ],
      "text/plain": [
       "{x in Real, y in Real} |- floor((x + y) + 1) = (floor(x + y) + 1)"
      ]
     },
     "metadata": {},
     "output_type": "display_data"
    }
   ],
   "source": [
    "# simplifying floor of a sum of some assumed real numbers and an actual integer\n",
    "floor_x_plus_y_plus_1.shallow_simplification(assumptions=[InSet(x, Real), InSet(y, Real)])"
   ]
  },
  {
   "cell_type": "markdown",
   "metadata": {},
   "source": [
    "### Round.shallow_simplification()"
   ]
  },
  {
   "cell_type": "code",
   "execution_count": 86,
   "metadata": {},
   "outputs": [
    {
     "data": {
      "text/html": [
       "<span style=\"font-size:20px;\"> <a class=\"ProveItLink\" href=\"../__pv_it/demonstrations/28574f15d8da615b58d32e2c470850f6077222fb0/proof.ipynb\" style=\"text-decoration: none\">&nbsp;&#x22A2;&nbsp;&nbsp;</a><a class=\"ProveItLink\" href=\"../__pv_it/demonstrations/928007b9601ae24767a2eca5dde14192e7d904ea0/expr.ipynb\"><img src=\"data:image/png;base64,iVBORw0KGgoAAAANSUhEUgAAAHsAAAAVBAMAAACUF4xmAAAAMFBMVEX///+qqqpUVFSIiIi6urru\n",
       "7u4iIiIyMjIQEBCYmJhmZmbc3NxERER2dnbMzMwAAADprbYgAAAAAXRSTlMAQObYZgAAAAlwSFlz\n",
       "AAAOxAAADsQBlSsOGwAAAe1JREFUOMudkz9oE3EUxz/X5NLL/Umzi7QQsIhI044VyoEObh4uDg4X\n",
       "FByE2iyCiEPQxQ6lWVwcrDgEGlo4FAqC4KGb00HASSUOgmOkFpGC9f3u10S8GEvzhfv9+b73ft/3\n",
       "7v1+cAQcPUWMh3k9nT9uXOnOUxmNBKd9r0uuOZSWov+DqbIMV+AV3ne4nTVrejQuBTJswhl4CI+z\n",
       "Zk2Pxns1NGA9YC7CCjJmTY/GXVV6HU7BXJfJbPGaLn1wtsXSWfDNxSYTQX7hauet/JizS9/Ex05S\n",
       "1xXwZoYFFO1uew12fGffMxpsyL5CGHExcvfEQWuWdqFYV6vWDYVrh70R+uVkTSSuw/Jnu8YsFwox\n",
       "r7vmKrbyL6i/T0GU5ewsFP1lSgTsHtwPrCoPCEKf6UCIgsrb8pXflpLqDYVv9ftjxTi7snJ+wTSS\n",
       "gxCh3w8vqrLzQ+opTUu+sIq3L6tcT8Xy0xRig37yJ3EijFq29pRmWV2wJlbCG9z4EWsYe15YZtYQ\n",
       "o1uVtBNyAcU4e6lT2lE3z57hHTzja5JI/rn6E7dq3LTR7dppt1uDFv6BpvNpUh8XpcjLnROVruzN\n",
       "02Wz8un5kpIQ68rBwQ8pw882PaWPwK2B2FjPffBSNscKdw9fhROPFW7Gfx9zXLzQ07l/W38DIWmC\n",
       "Wm+pf1MAAAAASUVORK5CYII=\n",
       "\" style=\"display:inline;vertical-align:middle;\" /></a></span>"
      ],
      "text/plain": [
       "|- round(2) = 2"
      ]
     },
     "metadata": {},
     "output_type": "display_data"
    }
   ],
   "source": [
    "round_2.shallow_simplification()"
   ]
  },
  {
   "cell_type": "code",
   "execution_count": 87,
   "metadata": {},
   "outputs": [
    {
     "data": {
      "text/html": [
       "<a class=\"ProveItLink\" href=\"../__pv_it/demonstrations/394519e724e0c70e3b2c6590eef1be51952919e10/expr.ipynb\"><img src=\"data:image/png;base64,iVBORw0KGgoAAAANSUhEUgAAAHcAAAAVBAMAAACOK2zoAAAAMFBMVEX///+qqqpUVFSIiIi6urru\n",
       "7u4iIiIyMjIQEBCYmJhmZmbc3NxERER2dnbMzMwAAADprbYgAAAAAXRSTlMAQObYZgAAAAlwSFlz\n",
       "AAAOxAAADsQBlSsOGwAAAfZJREFUOMuVlE1IG0EUx//r7iab/Yi5S0kgoA1SsvUYISzowVsXLz30\n",
       "sAExlEKbXAQpPQQLpT2U7sWLBxUPikFhUQgUCl3qzdNCwJNKPBR6TFGRIlTfJG3Nyn7QB/tm3rz9\n",
       "zfvPzswCMaaEJRzE2+OwxFQUlV5cJ8951Ju/r6b5pgPejqKHM+SeArNbl/cyX6BdAAtR8BOT3DY9\n",
       "/F9Y+FNsHHgPrETBR8w1BmFO77efTBQdSGYE/Jq9Xg+CR4FiB0kb6WNll9S0JwyxZGPIFCaetQ/o\n",
       "mzwq/6TXZC8IJqsBWg6auqs10DKUa41rYI3iPCwHM47KkKQdDKfPgVQdn5MVmn4OeHkmVzCG6YSL\n",
       "rx3xA2SmOJEJhhM5ihr4PkyTy11gyZR0vIVpGciaNJBgiiXjHyxXq8/fVau5HrzDqnf7OyK5UM6p\n",
       "p/wGsqD6NGAZfniwcopNIdBObFJr6dCuqcd3GYlfIg2sIVz2AygOuAqtlR0mG5KHb1DdZXwEd6lZ\n",
       "GYxxdPRVPQhOe+BNpEjuBVtPDofABn54Hinn66uqzr2Q0dsOMFF+uNVsbva2Uaiw8KREi5ttj+Q7\n",
       "FIuFjJg/3SuzGpQdenhV8MO1m5srWpIRdyNfDQYDh4TVj73OvtMv+G7hdiyshv4wFDcWFt3/n/bO\n",
       "9sMSk8AtJf5+qONOSwUAAAAASUVORK5CYII=\n",
       "\" style=\"display:inline;vertical-align:middle;\" /></a>"
      ],
      "text/plain": [
       "round(1 + 2)"
      ]
     },
     "metadata": {},
     "output_type": "display_data"
    }
   ],
   "source": [
    "round_1_plus_2"
   ]
  },
  {
   "cell_type": "code",
   "execution_count": 88,
   "metadata": {},
   "outputs": [
    {
     "data": {
      "text/html": [
       "<span style=\"font-size:20px;\"> <a class=\"ProveItLink\" href=\"../__pv_it/demonstrations/901333f633e9a01c37155d878884e4b319b1a7aa0/proof.ipynb\" style=\"text-decoration: none\">&nbsp;&#x22A2;&nbsp;&nbsp;</a><a class=\"ProveItLink\" href=\"../__pv_it/demonstrations/6e5c38a6ecb189e3441787e101a1d0f6e07ceaa20/expr.ipynb\"><img src=\"data:image/png;base64,iVBORw0KGgoAAAANSUhEUgAAANEAAAAVBAMAAAAqbRZ+AAAAMFBMVEX///+qqqpUVFSIiIi6urru\n",
       "7u4iIiIyMjIQEBCYmJhmZmbc3NxERER2dnbMzMwAAADprbYgAAAAAXRSTlMAQObYZgAAAAlwSFlz\n",
       "AAAOxAAADsQBlSsOGwAAAjRJREFUSMellT9o1FAcx79pkmsuf663i7RwYC0ijR0rlIAOboYuDg45\n",
       "FIMItV0EEYegIDqIt7g4WHE48bAQFA4EwaCbU+DASeUcBMeTthQpWH+vPUvykvgI+cK9vD+fb97v\n",
       "/fL4HSCQUbQQVoV5nSpaOFMVPlTj5jNqpZh6V/jQe7eHkDsZSyk4oakmNReA5Rfb3Mo7WFvAjYyj\n",
       "FJzQeZeal/ST/5mVcWQngPvAk4yjFJzQZ9YESbNkHzwfuZgPobm8oxSc0C2Gr+WZjwHzQ0zyuRfA\n",
       "jS/GBlkGC4662MGEqyxcHHyk73hy6RdhepxnJq0C1gy3kwC2zA0rQN8xdi0pwDqNW/BCnAtNZtmP\n",
       "O8fc2ATq7Ajo+kyXIIbfTrYplsvAyne9jVmcrUV4P1QfQGcvqjXzzTU6jxRwZxLAP6YoEn0E3HE1\n",
       "G3fheg6mXZqosVxozqFZ9/2r93z/IGWvWKgjbicRzC6zFsHYpJ7xB5gGnYwmPCdtToZZZ69QguKd\n",
       "cuEuPT0b1i715BHbBr9Vmlj/T0KOwgghtbnvJIJXWDnoQIvxAWb0GA8hbVteE7MSlUXTzjM3Ysgu\n",
       "6hF3JgFsbLG0zuAT8Bw/45gSKK89NW3pmo7xTabjps39Xq87vtRJCWBlPwdfFynHy4MjrSGN1bmm\n",
       "2vr2eokFRKsTx3fm0ubVvb0dSpbD1+QycEbXU0XATo761WBeqcqodPh6WgHmZRb+WxpRNZiXGpWI\n",
       "oRSc0ZuihdMl4b97sL/cTP8bvwAAAABJRU5ErkJggg==\n",
       "\" style=\"display:inline;vertical-align:middle;\" /></a></span>"
      ],
      "text/plain": [
       "|- round(1 + 2) = (1 + 2)"
      ]
     },
     "metadata": {},
     "output_type": "display_data"
    }
   ],
   "source": [
    "round_1_plus_2.shallow_simplification()"
   ]
  },
  {
   "cell_type": "code",
   "execution_count": 89,
   "metadata": {},
   "outputs": [
    {
     "data": {
      "text/html": [
       "<span style=\"font-size:20px;\"><a class=\"ProveItLink\" href=\"../__pv_it/theorems/e7ea3ade6561bbbb858c02aa3be91f7305b5ebb50/expr.ipynb\"><img src=\"data:image/png;base64,iVBORw0KGgoAAAANSUhEUgAAADMAAAAQBAMAAABJt1qBAAAAMFBMVEX///9ERES6uroQEBAyMjLc\n",
       "3NyYmJgiIiJmZmaqqqp2dnbMzMxUVFSIiIju7u4AAAAd7oVFAAAAAXRSTlMAQObYZgAAAAlwSFlz\n",
       "AAAOxAAADsQBlSsOGwAAAN1JREFUGNNjYMAEU+xNxAvNGLCBi6cZWBgcsEp1MDBc45qAVeooA5/A\n",
       "Q1QhXvHyEhD9gIFjw2kUGSbfBzDmHu4GEPX2zutVYIND4DIMcoxgdgPvWY4CEMMVLsO5IBdEsQWw\n",
       "/eNJALEQzoU6nZuBAyLGbV5eXl4IZt7kUmDgAzGYL4D5fAIwTXwCgQwMPAFAln4AH9jSApgUz4aj\n",
       "DAzvGRgeKhxm4AKL3IVJ7WACOv04A8P8fc0MmhDLYWEjx/KAIXAiA8OLu5xtEDG+g3oQrxs6Cwp/\n",
       "lkINjoWQgIICAM0UMqoFj6RNAAAAAElFTkSuQmCC\n",
       "\" style=\"display:inline;vertical-align:middle;\" /></a> <a class=\"ProveItLink\" href=\"../__pv_it/demonstrations/b446d9f93d1d981fa0b6f630fdbae78a7c390d510/proof.ipynb\" style=\"text-decoration: none\">&nbsp;&#x22A2;&nbsp;&nbsp;</a><a class=\"ProveItLink\" href=\"../__pv_it/theorems/1465f80400cd6fb54baa170b6133a9e94ecb8fc90/expr.ipynb\"><img src=\"data:image/png;base64,iVBORw0KGgoAAAANSUhEUgAAAH0AAAAVBAMAAACZCfwhAAAAMFBMVEX///+qqqpUVFSIiIi6urru\n",
       "7u4iIiIyMjIQEBCYmJhmZmbc3NxERER2dnbMzMwAAADprbYgAAAAAXRSTlMAQObYZgAAAAlwSFlz\n",
       "AAAOxAAADsQBlSsOGwAAAdtJREFUOMtjYCAANkAobgbyALMAhGYxIFUnX8UCICkL41qSbDU/0GrW\n",
       "AhiPPYBU/f5AHVwTYDzOBaTqvwbEHAhuK6n6q4BYHMGtxBFMd7jXAh152ciB1WoCA1MAi1H05cPA\n",
       "+NK1+wiUXQvEwUZxd4FBcQldJ0Scl2ctbwPDNgfu37yMDQzzgXxlhvgNDB4beL5CLV3ArMyVwMAw\n",
       "HaSHKw0MFBjg4jvZE7guMCQzMOQ+BPLUGVzYDjDsf8DaycAFCvpEYMBt4PzKBHShBJr1UPGn/EA5\n",
       "rg8MDE0BHAYMzQwB8Q4M8gFAAbYLQEUtQA9CTGJ4j+5xqDgomjgOMHB/BrK4/zEwyDMAXQEUAJoD\n",
       "1g+UBac9D4ygg4gvA+J4Awbe30AW8weQZoafrECB+QwQ9wNt2MAKtEMM3f9Q8VxQUpvAwHGB4RAD\n",
       "z4GpDL0MjF954wUY1BmBWQcYEzEOGgy8QDVz0GyHinN/ARmrwHCKgWERw4sLF4BeYC6Yx2PAmMXF\n",
       "AI40+acrGByhUYkMoOIsCSDOXSugb4MuSys/APJZNQVYle9tsgOKP2NgiDJmXAnKhClo+mHieAHb\n",
       "AxiLO4Gc7I/INYicRBI4DWPsIa/8icEwiDTADS23mDdglwcA6epz+g0iq1wAAAAASUVORK5CYII=\n",
       "\" style=\"display:inline;vertical-align:middle;\" /></a></span>"
      ],
      "text/plain": [
       "{x in Integer} |- round(x) = x"
      ]
     },
     "metadata": {},
     "output_type": "display_data"
    }
   ],
   "source": [
    "round_x.shallow_simplification(assumptions=[InSet(x, Integer)])"
   ]
  },
  {
   "cell_type": "code",
   "execution_count": 90,
   "metadata": {},
   "outputs": [
    {
     "data": {
      "text/html": [
       "<span style=\"font-size:20px;\"><a class=\"ProveItLink\" href=\"../../ordering/__pv_it/theorems/d1323f34847310a404e8089c2c268d3c2eb89dbf0/expr.ipynb\"><img src=\"data:image/png;base64,iVBORw0KGgoAAAANSUhEUgAAADQAAAAQBAMAAACra0H4AAAAMFBMVEX///9ERES6uroQEBAyMjLc\n",
       "3NyYmJgiIiJmZmaqqqp2dnbMzMxUVFSIiIju7u4AAAAd7oVFAAAAAXRSTlMAQObYZgAAAAlwSFlz\n",
       "AAAOxAAADsQBlSsOGwAAAMtJREFUGNNjYMAAbM6CX4rFGLACRtYDTMfkcEgtYBDYg1OqlQVF6GJ5\n",
       "uQNcihFZRuUekq5zb4CMt3der5oApFn9kAzklnQFMhp4z3IUAGmWAISUSX3tA6AvAtj+8SSApJCc\n",
       "sSwPZCk3AwfYbobN5UAgADVQLg0sxnwBTD1EdvwOxgcgln4AH4hmR5bi2ArU/1DhMAMXSID3ApIU\n",
       "n8A1Bob5+5oZNMEingipBoY0RgWGF3c52yaARd4IPYCF/McARpGfyMGhJQ4JKCgAAF8xNF8aQs/g\n",
       "AAAAAElFTkSuQmCC\n",
       "\" style=\"display:inline;vertical-align:middle;\" /></a>, <a class=\"ProveItLink\" href=\"../__pv_it/demonstrations/1a5270d7d3401e3ec902ebbf86bec5c78898bba20/expr.ipynb\"><img src=\"data:image/png;base64,iVBORw0KGgoAAAANSUhEUgAAADIAAAATBAMAAAAg4UMRAAAAMFBMVEX////c3NwyMjK6urpEREQi\n",
       "IiLMzMwQEBCqqqp2dnZUVFSYmJhmZmaIiIju7u4AAADlKNhoAAAAAXRSTlMAQObYZgAAAAlwSFlz\n",
       "AAAOxAAADsQBlSsOGwAAAPJJREFUGNNjYMAAHOrfVULdN2BKMPB6JTAoMGGRYOA5wMC7YQY2GS4B\n",
       "hid8DiimuIYGgWg+BoZjXAlIEsy6D2BMtgU5IBV3NjC8AnGF4BIMLA/8gCQnRwHDfhBXEaG9k/sC\n",
       "kMzgCWBYAuIqIGQgbn7AfoGhFmR2aWhoaAjEKQ2TgeIMDPYP2L6B7EO48wkjkL2QgeEQA28BiB8A\n",
       "l1kG9BHfBwYGLwaWBSD+XbibD9gAvQtUeIrBHhx6TA1wN+sxMHoADXw197wA2OtL7CAy5k4lLvUl\n",
       "E0DMSdBAmAIJHRjgVOCrYMAKWC9wTcAuw7H3MHYJABj+NEi8Hq+uAAAAAElFTkSuQmCC\n",
       "\" style=\"display:inline;vertical-align:middle;\" /></a> <a class=\"ProveItLink\" href=\"../__pv_it/demonstrations/368a56ef1060c2ae1e7c71345330f1a4ce7facf00/proof.ipynb\" style=\"text-decoration: none\">&nbsp;&#x22A2;&nbsp;&nbsp;</a><a class=\"ProveItLink\" href=\"../__pv_it/demonstrations/1162d93143ed7d727dd028cf09184b851d8e29860/expr.ipynb\"><img src=\"data:image/png;base64,iVBORw0KGgoAAAANSUhEUgAAAR8AAAAVBAMAAACNlfesAAAAMFBMVEX///+qqqpUVFSIiIi6urru\n",
       "7u4iIiIyMjIQEBCYmJhmZmbc3NxERER2dnbMzMwAAADprbYgAAAAAXRSTlMAQObYZgAAAAlwSFlz\n",
       "AAAOxAAADsQBlSsOGwAAAytJREFUSMeVVk1oE0EYfZvspkl2Nw148A9poEgRLKz1Ii2UQEX01KUi\n",
       "igpJLQQRKrlU1NP6g+hBiIiXCrZUaemhGBQKemloPdXLasAqqMSD4qUY0R5KoPhNNms7u5s4fjDL\n",
       "zpvvvX3z7czsAv8ItelIURALlCsKS3rjQNORAT8UTorKDYhKbkbi8iRdJbtpQrjgg/YIywWQm6Ju\n",
       "tLPpnmyRMOYFlLy43JiY5NYYNOkyy0HHuN64lxEviMu5ZLnQUnJrvGMXi4O2cb2o6WFE/0POJUtG\n",
       "S8mtcZWl51sYavMWZDvE5Vwyb4jQxEd1jsbKPWmlt4CQKfecKS/R9uzu/8leAi1C5eDe1TecIZY5\n",
       "BOgpzzPnqK2WXn4QkXPJrqHjs1BSDNW1Od3CfFqt6ZKFCep3IlPE0aK21phHHD3GNGfIyUSsPt/p\n",
       "HItz7PYKNXvZfi8iF8vzhuwdiFUZ+qItS75HgNEv8Sy6cDhSwkJFuYM4Y0RoazzEhLmPM8Qy95OW\n",
       "5anQMJWicIkKJSDnkhuGEslphEoM/drOXFeB62bUwA2YmTQ6TAIi7MiIpoEKZtAoxW2nFE4mElWP\n",
       "oZuEmeticnVyPJc7fyuXo7enUC4RGMq2Y7QE9RfdqRtAB2hiBJCSowD2cH5RD5oJypQtvyHIa2Jy\n",
       "Ml8hxvtRqaNseWQM6DW6C1cZHesKARNo1BhyDSd4QzMIE1PKetbQMJt0VkzOIW8aold6yEFH2Sla\n",
       "QNTGIrTSA9yFtKZnkuiS6FOnGVBehSzYvCHKpDLHSp4KLbFn2mJyLtk1RIKLdVT9zeylsAxM4btt\n",
       "U5nD+UeaIV2Io745pY3TlpzkDU1hsOBsYi7eUltIi8m55L8VSsnrdVSul+5TL+kMlXd3Vqiv7Esq\n",
       "nZ+f9bOlR73Hxq57njU0VH5K842kPYa+UTsiKOeSXUNKd28tQNIXF5uc1CvU5r3JkYq4nEvePKn1\n",
       "fICkL8aDPq56Xrnm+/BSxCbF5WY9H9cVnEoGSPpCC/qJixghWgFqyTfwWljORx5Bd6Ck7xcnKEW6\n",
       "/yTY61lhOR95J1t2msA/7POmI30Bf8yGqFxfM8k/t4wVpM9K1MEAAAAASUVORK5CYII=\n",
       "\" style=\"display:inline;vertical-align:middle;\" /></a></span>"
      ],
      "text/plain": [
       "{x in Real, y in Integer} |- round(x + y) = (round(x) + y)"
      ]
     },
     "metadata": {},
     "output_type": "display_data"
    }
   ],
   "source": [
    "round_x_plus_y.shallow_simplification(assumptions=[InSet(x, Real), InSet(y, Integer)])"
   ]
  },
  {
   "cell_type": "code",
   "execution_count": 91,
   "metadata": {},
   "outputs": [
    {
     "data": {
      "text/html": [
       "<span style=\"font-size:20px;\"><a class=\"ProveItLink\" href=\"../../ordering/__pv_it/theorems/d1323f34847310a404e8089c2c268d3c2eb89dbf0/expr.ipynb\"><img src=\"data:image/png;base64,iVBORw0KGgoAAAANSUhEUgAAADQAAAAQBAMAAACra0H4AAAAMFBMVEX///9ERES6uroQEBAyMjLc\n",
       "3NyYmJgiIiJmZmaqqqp2dnbMzMxUVFSIiIju7u4AAAAd7oVFAAAAAXRSTlMAQObYZgAAAAlwSFlz\n",
       "AAAOxAAADsQBlSsOGwAAAMtJREFUGNNjYMAAbM6CX4rFGLACRtYDTMfkcEgtYBDYg1OqlQVF6GJ5\n",
       "uQNcihFZRuUekq5zb4CMt3der5oApFn9kAzklnQFMhp4z3IUAGmWAISUSX3tA6AvAtj+8SSApJCc\n",
       "sSwPZCk3AwfYbobN5UAgADVQLg0sxnwBTD1EdvwOxgcgln4AH4hmR5bi2ArU/1DhMAMXSID3ApIU\n",
       "n8A1Bob5+5oZNMEingipBoY0RgWGF3c52yaARd4IPYCF/McARpGfyMGhJQ4JKCgAAF8xNF8aQs/g\n",
       "AAAAAElFTkSuQmCC\n",
       "\" style=\"display:inline;vertical-align:middle;\" /></a> <a class=\"ProveItLink\" href=\"../__pv_it/demonstrations/ff4bbc4cd1fe2d7cd3bdf33840364c445896054f0/proof.ipynb\" style=\"text-decoration: none\">&nbsp;&#x22A2;&nbsp;&nbsp;</a><a class=\"ProveItLink\" href=\"../__pv_it/demonstrations/0a11d99b2fe3b3e4c885d0ac76e9920fd5a297e60/expr.ipynb\"><img src=\"data:image/png;base64,iVBORw0KGgoAAAANSUhEUgAAAR8AAAAVBAMAAACNlfesAAAAMFBMVEX///+qqqpUVFSIiIi6urru\n",
       "7u4iIiIyMjIQEBCYmJhmZmbc3NxERER2dnbMzMwAAADprbYgAAAAAXRSTlMAQObYZgAAAAlwSFlz\n",
       "AAAOxAAADsQBlSsOGwAAAy5JREFUSMeVlk1oE0EUx/+bZNMkm6Q5qSilgaKliHSteLBCCVSkNxdB\n",
       "BBWSqgQp1OaiqHgIfqEHMQoiVLFFoaXBQlAoWAtdrKcKsloQBT/iQfFSrLRBSqDxzSa07GTWjg92\n",
       "mf3PvN++93Y+FljHtP/qKMjixAPXdSfb6dbh0+s1b0wW1y3s7f6Xa/TcMN0VS9Q3OfoG2FOvN0nj\n",
       "vDm+dPmLxXrVYY0s3cPCupv4mkCDwetqRh53huueQmSpXnXYAfbCMednqmbgKSCQRXCY9wjl5HGD\n",
       "TiS2A9fXVKG9Z7esQ1Kq8yZQgqcMXOU9Av+BCxgOJG4ZaC+sqkK7wIZnRAF5UvCsAOd5j42QxzXk\n",
       "nAFtA9qLTI1+0sapb64joXbm4DF8HUfnZmia7Oj6zT4CTUJ119b5t05vwL8AvOPfOU7XvDn5UQYX\n",
       "ifNIDNhqJDweyWIioZUjShZD9NyCZAE9hXCplkcIHfoI7/2LWvfs1kia2XHWZCWzZq0PMrhghkdG\n",
       "F231eUOK4j4B9H8LpdCKfX4T00X1BkLMw09L4z6GjDbemwWwia9QL5Uid5YKJYFTsnVFj9vq90YW\n",
       "NX2AS0ZAx2UYyQSaDRL8bMsIJIAiRqtrKJ0+dS2dtksdMlmV+ICuUJrGshwuusAh8aSmsuUYMKEt\n",
       "UkujqdoMSowEIlUJIC64dO6wW48gIPhKcjgfX6FgvKay6ZHUESlTy7vA3LGskjCEWo3hK+OQ05s2\n",
       "3BfABn4O9bKkU3I4JcUF1AStYKv9bBfNIWDhJcLmXdyEUookY2hV6KgL61BfebKwnN7zwG7gAV+h\n",
       "GfZOSw4XNJ3IqAWvwVRtiaUVxyzwCD8ti8rszTwM60pfCPYyVFaOZH0xh7fWl8+nqqvcYWwfmE7I\n",
       "4UJcjhP5/Iit+uzSfe4kzsG5LS1FelbbYmrLl6ddLG56eqxvvu2cQ/5KpUKL5iQf0A+69kvi/Aln\n",
       "QAOVyp811d1Oi3bq2hGb4gf7i/K4CRFyVXW3QdHh6naU1h+37rgxEZI7y0UWdv+Jm6qXXkvjNNPl\n",
       "v2Y9U92HCN5+TBonTjQs8Q/7zK3DK3DWdFncXmEvqX8BGc4cnSxy5soAAAAASUVORK5CYII=\n",
       "\" style=\"display:inline;vertical-align:middle;\" /></a></span>"
      ],
      "text/plain": [
       "{x in Real} |- round(x + 2) = (round(x) + 2)"
      ]
     },
     "metadata": {},
     "output_type": "display_data"
    }
   ],
   "source": [
    "round_x_plus_2.shallow_simplification(assumptions=[InSet(x, Real)])"
   ]
  },
  {
   "cell_type": "code",
   "execution_count": 92,
   "metadata": {},
   "outputs": [
    {
     "data": {
      "text/html": [
       "<span style=\"font-size:20px;\"><a class=\"ProveItLink\" href=\"../__pv_it/demonstrations/6395594dde9afd8f7aee1a29d57d2702734f034c0/expr.ipynb\"><img src=\"data:image/png;base64,iVBORw0KGgoAAAANSUhEUgAAAGcAAAAVBAMAAACphe0AAAAAMFBMVEX////MzMxUVFRERES6uroi\n",
       "IiIQEBCYmJhmZmYyMjLu7u52dnaqqqqIiIjc3NwAAACW8nlqAAAAAXRSTlMAQObYZgAAAAlwSFlz\n",
       "AAAOxAAADsQBlSsOGwAAAbVJREFUOMtjYGB4wIAL4JbhPYBTyheNX5lsPzW5AMQ6zYDbvAI0AYNH\n",
       "DE7FCxgYuCbg1sQwC13TawZmRgUGBg5U09xReBWYmjgeAG1hQxU+i8JjWwBxpmloJEKTAQPDSXya\n",
       "OMHOYJm7AGET0yqg87qB7LWXFu4+gKKJ60YBwyIGBm4FEOflAiTnCZ8ERsR0ILuBV5cjAEUTN08C\n",
       "Qz0DAzs4lOYh/PRs6tdbQDoGKPWA/RdTAYomGaAhygwMQK1AMAEpIMpXgugUBgZGBg6IeGtoaFpo\n",
       "aBCQtYDtAkMuUOYDkM2YGhoaGgzVxLy8AKIJGEoX0APCfwHjR2AQgGziMkCyibHBCuI8oJIHXAtQ\n",
       "NXUy8AI18IB9GoAcT42PgbQtA8NiBzUGbjSbjBiYgSHHDrbkLrKmxaC0tYmB4bxUG4MPmqYmBn+g\n",
       "JMcGcGzBk7TBCwb2AhMGBlEGhhV3edoPoGlatLcfGB+sDuBIU/aCp3I7BuP5BxhYBXCkiJ1A/BTC\n",
       "ZNkMTUYwwN6ALcFyT+DKAVLtuJK/HTZB1gtMQO/wGeDStBibIE9tC5Bkxpnf+S7gzIP3cIgDAOY2\n",
       "cBZk3dgOAAAAAElFTkSuQmCC\n",
       "\" style=\"display:inline;vertical-align:middle;\" /></a> <a class=\"ProveItLink\" href=\"../__pv_it/demonstrations/aea0c36e251a8e752dc18f8bda7d31f59caea9930/proof.ipynb\" style=\"text-decoration: none\">&nbsp;&#x22A2;&nbsp;&nbsp;</a><a class=\"ProveItLink\" href=\"../__pv_it/demonstrations/216d81352050b8a9a45cf0ac57c5bbaea334af420/expr.ipynb\"><img src=\"data:image/png;base64,iVBORw0KGgoAAAANSUhEUgAAAd8AAAAVBAMAAAD1KvkNAAAAMFBMVEX///+qqqpUVFSIiIi6urru\n",
       "7u4iIiIyMjIQEBCYmJhmZmbc3NxERER2dnbMzMwAAADprbYgAAAAAXRSTlMAQObYZgAAAAlwSFlz\n",
       "AAAOxAAADsQBlSsOGwAABTFJREFUWMOtWG9oW1UU/yV5L03ykjQgjOmQBmqdQ8veOkStOgMV2T71\n",
       "ERkO/dDgZpHhtnyZqPghKsr8U8wUEarYMEfLimWPCQXnpGHz0xR9GnQKusUPoiClHV0YJdB67nsv\n",
       "ef9uXl5gB0647/R3zu+ec8+9774CXUQylS8q36FTIB7eJ3pXQA/0OlZFd9llKl/G+A48EWQ+3id6\n",
       "V0AP9Dp2zI8m/VKFfkOaoR0kUnZbGDj9nMt4fu4H4CEu3i86/nkHt4Jemn+1rmM59Dbpz9DPU6Z2\n",
       "kuNuA4Hzcw0XYRXXcuhTeHjf6Lh+K+hxAakbBva4H9k4m+AZUy3Z53iabjVsq3YMHGk4rWEVsRLi\n",
       "FRvekjM+UxAaHoBQ7pke9wInDOy0X8K/sp+SqZbc5niKKWYryaahZGc0rbEGwk3gTRvekpLPFFIF\n",
       "D6BNFJwe7yvYqepYL71NXmEuRUM7JtxXdsbWwW7GcAHhDeBlG95KoOgzhb6KB+BMOBA97gZ21nUs\n",
       "afoPaYFGtZGcOFpGWBFGnqldom03vIftn4RmqLh7aPknR8IMnac1yDpjM7CXEYiuAj/DwreFOSxX\n",
       "z/9Of9p9F56klhzC2NA3j5DnudpKxkPfCklIMRuYHscMatJUciFVwmJOaqZCJczQ8yAmVOxVkw2z\n",
       "gkwTGJFnHQkbaMSLzth6yTmMKzT6GC387CSTZ1sO2mXtN0iHsKRqWxFfhXZRFpsQ3sWPioe+FdJA\n",
       "BqVPrxnUpF/1FagsB4EjfyUK2I7Ho1Us1cW3kWCxohlDP8GMssORMEPfRzFLztgMzGNkyW2FhW8L\n",
       "OUjlF7GAqIzo1cwswkUh9wKkDRwoYw4eejNkmiGrgemjWYOa9O9+VkFquNeVmIw3oEzkMKCQIcq6\n",
       "I5YztK5z60tzwlgaA430Kmukycnn35qczJoOJqPNikSVrTJMvOPYySGtrNPgLI2HKGRMFsUbCDWY\n",
       "4Qic9FZIUUcGpccXJjVT9vaJVSGt0YjqigHQOpNhImdLGCw556E1rqQJLbhKbGO0l/gD9rMXFt6e\n",
       "sPH2eQ9Ykmm0VEdoldaZDJS4h74VkpAr9aD08axJzZTtjQkZqSaNIqssW6yLZJiBraUhNLHfmfAc\n",
       "IqxHCkF6iu4/XwNb0MLb9jBzoN0BkXbZNZVGj4Fl21/ev8Y2qYe+fTwV8WBQetwJSdWxTFnbUFvH\n",
       "NFxEsvoRpqidUhMZbA/RVTsp6yp+Gy5BcyZMaKpbvOqMzRy8jMvA/cCnsPBtYQ767qG2nmIhv48r\n",
       "NJcB5ZfrlPg2D32bKEszCEif1hBRdCypxNomkcVl4BT+1TTq6kjxs6QcOpxA+ygPbTxdEjLOhE9h\n",
       "vGy+B2yx9fcEdYvDKh2en6fSLsDCW3cLcljK6fGSFZpIeirFuvqBeP0StlQqHvr2CmeF9YD0WJyf\n",
       "n22/YgW9Kf4cJc58bdtgnZ7FHRlx8Oq5Paw2BV3Fz+U7Trr2cL52llogmnMVkxzC99x0HqnRzc1N\n",
       "OvMPwcJb3yjk8IQ+19ppauzhXcRLz/mTyD/632DdQ98iEodHmwHpcWxz86aB9dB75KipvJvWFVY8\n",
       "93Y52vFaJBVseCdD1ynwQqaKPdHr2MWun8PeG/e+Fp34mu1m3769T3e86SfK3E+F6SBT8Ia8ggOZ\n",
       "nug530E8SaqGeiQqhzX9w4/jwJcL4OF9HHwBBzHcGz3DcujdIlYN9X63f3iaG1/sGPM7/nzEaoAp\n",
       "eOV2dur0Qt9x6Vzypal8eZjvwP3vhMrH+0TvCuiBXseS/g9CqrFR8fmFWQAAAABJRU5ErkJggg==\n",
       "\" style=\"display:inline;vertical-align:middle;\" /></a></span>"
      ],
      "text/plain": [
       "{(x + y) in Real} |- round((x + y) + (1 + 2)) = (round(x + y) + (1 + 2))"
      ]
     },
     "metadata": {},
     "output_type": "display_data"
    }
   ],
   "source": [
    "round_add_add.shallow_simplification(assumptions=[InSet(Add(x,y), Real)])"
   ]
  },
  {
   "cell_type": "markdown",
   "metadata": {},
   "source": [
    "## The Expr.simplification() method"
   ]
  },
  {
   "cell_type": "markdown",
   "metadata": {},
   "source": [
    "### Ceil.simplification()"
   ]
  },
  {
   "cell_type": "code",
   "execution_count": 93,
   "metadata": {},
   "outputs": [
    {
     "data": {
      "text/html": [
       "<span style=\"font-size:20px;\"> <a class=\"ProveItLink\" href=\"../__pv_it/demonstrations/444d614d3049a24bd01a07c9993316a9170fd8830/proof.ipynb\" style=\"text-decoration: none\">&nbsp;&#x22A2;&nbsp;&nbsp;</a><a class=\"ProveItLink\" href=\"../__pv_it/demonstrations/225e494d76b07021d38995c95301512a314464680/expr.ipynb\"><img src=\"data:image/png;base64,iVBORw0KGgoAAAANSUhEUgAAAEAAAAAVBAMAAAAEBPWpAAAAMFBMVEX////u7u4QEBBUVFR2dnbM\n",
       "zMxEREQyMjJmZmbc3NyqqqqYmJiIiIgiIiK6uroAAAAyDowUAAAAAXRSTlMAQObYZgAAAAlwSFlz\n",
       "AAAOxAAADsQBlSsOGwAAALJJREFUKM9jeHv3DgMIrL17mwEr2A1nvcCtYEZ7KlYFYHGgAs4EBv8H\n",
       "WBRAxIEKmCcwMClgUQARBypg+sjA/BOLAog4yIQLDMxfsZkAFof4gvcDdl8AxSEK4g/AFHDcBQMD\n",
       "Bpg4RMFlHOFwGRpQHAnYFYDEwQo24wjJzdCQ5HJgmInNDWBxkIIQBoaD2EwAi4OC+kZHxwVsQQ0W\n",
       "Byrg/f//fwEWBRBxoqKbxgpWIXsKCwAA2GtXf8ifAUkAAAAASUVORK5CYII=\n",
       "\" style=\"display:inline;vertical-align:middle;\" /></a></span>"
      ],
      "text/plain": [
       "|- ceil(2) = 2"
      ]
     },
     "metadata": {},
     "output_type": "display_data"
    }
   ],
   "source": [
    "# simplifying ceiling of an integer\n",
    "ceil_2.simplification()"
   ]
  },
  {
   "cell_type": "code",
   "execution_count": 94,
   "metadata": {},
   "outputs": [
    {
     "data": {
      "text/html": [
       "<span style=\"font-size:20px;\"><a class=\"ProveItLink\" href=\"../__pv_it/demonstrations/afb365f108d4dd6c721b8c94587e09ba7c4bb65a0/expr.ipynb\"><img src=\"data:image/png;base64,iVBORw0KGgoAAAANSUhEUgAAAGYAAAAVBAMAAABGR4Y+AAAAMFBMVEX////MzMxUVFRERES6uroi\n",
       "IiIQEBCYmJhmZmYyMjLu7u52dnaqqqqIiIjc3NwAAACW8nlqAAAAAXRSTlMAQObYZgAAAAlwSFlz\n",
       "AAAOxAAADsQBlSsOGwAAAaZJREFUOMtjYGB4wIAD8OGSYOA9gEuG5QKaAM+0b5NDzQoYGE7jNI3h\n",
       "OrrxRgIMEzgZGLgm4NbDuQCVz9HAwFuwB0gX4NbD3oDKZ3rAsJjLgIGBjQEPyIK6yTQ0EkRzMTA0\n",
       "MgkwMJzEp2c6JCzmwt3IqCABJLuBeO2lhbtRQ29tOwOXAgPDJjDnJcJbzAusoEY18OpyBKDo2XCM\n",
       "gf0DA0MlmDMPIX6aHRT+MUCvPmD/xYQSFIwHWhmYgJ49BuYhhSwopBkYUoAqGDggwitDQSAQ5Nlc\n",
       "BjagifJgA1KBgsHQ+N/CwLAApIcBLI+aBH4xyAMDyA0cWgZw4cV8QLYeyG0MDP4PuFCjD2jxNSB1\n",
       "FMxBeFURGENcHxhsgbod1Bi4Ue1hVmAwAlLFYM5duDcbPIARGwAKzvNSbQw+aKlEgeU7NCKASegA\n",
       "PKRnMfDZGDCIMjCsuMvTjpa4ubRv/ANSIRCOshdE1M0y2Tg/eQMDqwD2JMANDEo+qE9YNkPSDq50\n",
       "CAE7GZYdwJN+7bAJxjJoA8nHuNLhYmyCx2844DIOnOsv4Mz1OEoKAMEmWrwT2JP2AAAAAElFTkSu\n",
       "QmCC\n",
       "\" style=\"display:inline;vertical-align:middle;\" /></a> <a class=\"ProveItLink\" href=\"../__pv_it/demonstrations/a3a963457decd0ce9280d83919aed212b22e109e0/proof.ipynb\" style=\"text-decoration: none\">&nbsp;&#x22A2;&nbsp;&nbsp;</a><a class=\"ProveItLink\" href=\"../__pv_it/demonstrations/54722cc644862c4fe0959d62b53e3f2196d5a1690/expr.ipynb\"><img src=\"data:image/png;base64,iVBORw0KGgoAAAANSUhEUgAAAJoAAAAVBAMAAABMN+opAAAAMFBMVEX///9EREQQEBAyMjLc3Nxm\n",
       "ZmZ2dnbMzMxUVFTu7u6qqqqYmJiIiIgiIiK6uroAAAAc1BPlAAAAAXRSTlMAQObYZgAAAAlwSFlz\n",
       "AAAOxAAADsQBlSsOGwAAAc5JREFUOMuVlL9Lw0AUx79Wk+ZXi4ODg0hWRaS7CPE/KAoi+CsgSBGH\n",
       "ToKCWB0KokOqFBUciqKDIlZ0UsEgFAp2cBPEiDgKUoeCFBevVx0uvSvkILnj7vs+73Hv3sOn9wLB\n",
       "0Dwv37hrieRt5LtBkxGNN2wZOaHYDU47FqsfAtPUmFjd6gSlSXmxWo8HpYWayXuC0g6byQcoTS2t\n",
       "L8yx11PIY5dHGyXffnFnls3s/jjUFJCgNAlFd5I5ljUTd/80yaMjVXcPxI1N6ZGR2wfQv4BLSrvC\n",
       "nbPBHC8R+Sovtmdy2ZZeVZhkhHOTUNqBA0pLYoTubtMYnsjKCbno49H6iS0k+kzUQSpPkhXREgOs\n",
       "/GWhz29VdsLfAhqoJZutKlYI9b1Oi1awx56PwDB59/ZMXVmqw77CGO7JdFajqd2KCZuldaIlxYut\n",
       "C8i8rUFmd4m2k0wXNZr2nTWjvmIeQznPoyWA88VhfPgqJBX9oc+nFtuEe3Tts9qdn7Z4tGUgW9LG\n",
       "fb7VdKFCpldxLcxwayGS5Ktlkua2RwFNjqm9XJoe53veytGOwKdFXMXm97cOnvwFafIfEvU37XZK\n",
       "0C0zPPlp4a3u6KRZUwjbjd3fFYkNC799Boc1ICfFQQAAAABJRU5ErkJggg==\n",
       "\" style=\"display:inline;vertical-align:middle;\" /></a></span>"
      ],
      "text/plain": [
       "{(x - y) in Integer} |- ceil(x - y) = (x - y)"
      ]
     },
     "metadata": {},
     "output_type": "display_data"
    }
   ],
   "source": [
    "# simplifying ceiling of expression assumed to be an integer\n",
    "ceil_x_minus_y.simplification(assumptions=[InSet(subtract(x, y), Integer)])"
   ]
  },
  {
   "cell_type": "code",
   "execution_count": 95,
   "metadata": {},
   "outputs": [],
   "source": [
    "# from proveit.logic.sets import SubsetEq\n",
    "# from proveit.numbers import NaturalPos\n",
    "# SubsetEq(NaturalPos, Integer).proven()"
   ]
  },
  {
   "cell_type": "code",
   "execution_count": 96,
   "metadata": {},
   "outputs": [
    {
     "data": {
      "text/html": [
       "<span style=\"font-size:20px;\"><a class=\"ProveItLink\" href=\"../../ordering/__pv_it/theorems/d1323f34847310a404e8089c2c268d3c2eb89dbf0/expr.ipynb\"><img src=\"data:image/png;base64,iVBORw0KGgoAAAANSUhEUgAAADQAAAAQBAMAAACra0H4AAAAMFBMVEX///9ERES6uroQEBAyMjLc\n",
       "3NyYmJgiIiJmZmaqqqp2dnbMzMxUVFSIiIju7u4AAAAd7oVFAAAAAXRSTlMAQObYZgAAAAlwSFlz\n",
       "AAAOxAAADsQBlSsOGwAAAMtJREFUGNNjYMAAbM6CX4rFGLACRtYDTMfkcEgtYBDYg1OqlQVF6GJ5\n",
       "uQNcihFZRuUekq5zb4CMt3der5oApFn9kAzklnQFMhp4z3IUAGmWAISUSX3tA6AvAtj+8SSApJCc\n",
       "sSwPZCk3AwfYbobN5UAgADVQLg0sxnwBTD1EdvwOxgcgln4AH4hmR5bi2ArU/1DhMAMXSID3ApIU\n",
       "n8A1Bob5+5oZNMEingipBoY0RgWGF3c52yaARd4IPYCF/McARpGfyMGhJQ4JKCgAAF8xNF8aQs/g\n",
       "AAAAAElFTkSuQmCC\n",
       "\" style=\"display:inline;vertical-align:middle;\" /></a>, <a class=\"ProveItLink\" href=\"../__pv_it/demonstrations/1a5270d7d3401e3ec902ebbf86bec5c78898bba20/expr.ipynb\"><img src=\"data:image/png;base64,iVBORw0KGgoAAAANSUhEUgAAADIAAAATBAMAAAAg4UMRAAAAMFBMVEX////c3NwyMjK6urpEREQi\n",
       "IiLMzMwQEBCqqqp2dnZUVFSYmJhmZmaIiIju7u4AAADlKNhoAAAAAXRSTlMAQObYZgAAAAlwSFlz\n",
       "AAAOxAAADsQBlSsOGwAAAPJJREFUGNNjYMAAHOrfVULdN2BKMPB6JTAoMGGRYOA5wMC7YQY2GS4B\n",
       "hid8DiimuIYGgWg+BoZjXAlIEsy6D2BMtgU5IBV3NjC8AnGF4BIMLA/8gCQnRwHDfhBXEaG9k/sC\n",
       "kMzgCWBYAuIqIGQgbn7AfoGhFmR2aWhoaAjEKQ2TgeIMDPYP2L6B7EO48wkjkL2QgeEQA28BiB8A\n",
       "l1kG9BHfBwYGLwaWBSD+XbibD9gAvQtUeIrBHhx6TA1wN+sxMHoADXw197wA2OtL7CAy5k4lLvUl\n",
       "E0DMSdBAmAIJHRjgVOCrYMAKWC9wTcAuw7H3MHYJABj+NEi8Hq+uAAAAAElFTkSuQmCC\n",
       "\" style=\"display:inline;vertical-align:middle;\" /></a> <a class=\"ProveItLink\" href=\"../__pv_it/demonstrations/651e9b42bde13508c9bea347aec625c9ba6ce7ea0/proof.ipynb\" style=\"text-decoration: none\">&nbsp;&#x22A2;&nbsp;&nbsp;</a><a class=\"ProveItLink\" href=\"../__pv_it/demonstrations/77e5ec25e61ce67091b01ccaf7f0cbca396af3710/expr.ipynb\"><img src=\"data:image/png;base64,iVBORw0KGgoAAAANSUhEUgAAAKwAAAAVBAMAAAAp2hhWAAAAMFBMVEX///9EREQQEBAyMjLc3Nxm\n",
       "ZmZ2dnbMzMxUVFTu7u6qqqqYmJiIiIgiIiK6uroAAAAc1BPlAAAAAXRSTlMAQObYZgAAAAlwSFlz\n",
       "AAAOxAAADsQBlSsOGwAAAfZJREFUOMuV1D9I3FAcB/DvXU1yLzmDQwenklVxuF0K6d7hqFAKV9vA\n",
       "gYg4OAm6mHYQSjukivQKDkHoopSmtC62YCgcHHrDbbcYEUdBzkEQ6dJf/lS4ey/x8oa88PL7fd4v\n",
       "L+8Fl8EJUpoaBB43OALoQeCnB0Qh+IWMple5oSNA87ICaNDPzarW/SyOc7ObGIJ94ORla8OwWjUv\n",
       "awzDYiInq1aGYqcjdrv1ac7tG2dNDw1BlmQlLGu/W17gA7ZrYDYwH7HV8gep0/dYVg0c/s+SgqjZ\n",
       "4cfwElZCy5/lWWsH2hXwI2Q1U7st9e/rVZrmjaDaUTdhf+LQec8FKO4sSmPATsgqkCrx7omq6tKd\n",
       "U/QxJWCLZwm7hJm7tWWPo7wluqMkysRa/MmK/uCi9xzlJotFOCsfoN9ijfjzmO2ZzOl/PoOyIVjb\n",
       "u0WAfo3PPEuv/Ye6ryH78ewt5IGyxlGwBdUW/Jhlj0oGLD6Aksap+x6y31ae4WIg/wV6noCV7ZhV\n",
       "b7YM3RVUa+t/qXseslttteYO5DcWX5sCVukk1b70vxwI1patN6+pO00/ZXXhIered8pk2lQjnRRW\n",
       "rrBJYdZ+NlvHBr235KWwo37JErIFM5M9wTpdn6T9b9Xfr8TvyMYy2b1muLEfArtZfzDF4oae0pxu\n",
       "VgBQNvEPDjSkG8i6hpQAAAAASUVORK5CYII=\n",
       "\" style=\"display:inline;vertical-align:middle;\" /></a></span>"
      ],
      "text/plain": [
       "{x in Real, y in Integer} |- ceil(x - y) = (ceil(x) - y)"
      ]
     },
     "metadata": {},
     "output_type": "display_data"
    }
   ],
   "source": [
    "# simplifying ceiling of a sum of an assumed real and an assumed integer\n",
    "ceil_x_minus_y.simplification(assumptions=[InSet(x, Real), InSet(y, Integer)])"
   ]
  },
  {
   "cell_type": "code",
   "execution_count": 97,
   "metadata": {},
   "outputs": [
    {
     "data": {
      "text/html": [
       "<span style=\"font-size:20px;\"><a class=\"ProveItLink\" href=\"../../ordering/__pv_it/theorems/d1323f34847310a404e8089c2c268d3c2eb89dbf0/expr.ipynb\"><img src=\"data:image/png;base64,iVBORw0KGgoAAAANSUhEUgAAADQAAAAQBAMAAACra0H4AAAAMFBMVEX///9ERES6uroQEBAyMjLc\n",
       "3NyYmJgiIiJmZmaqqqp2dnbMzMxUVFSIiIju7u4AAAAd7oVFAAAAAXRSTlMAQObYZgAAAAlwSFlz\n",
       "AAAOxAAADsQBlSsOGwAAAMtJREFUGNNjYMAAbM6CX4rFGLACRtYDTMfkcEgtYBDYg1OqlQVF6GJ5\n",
       "uQNcihFZRuUekq5zb4CMt3der5oApFn9kAzklnQFMhp4z3IUAGmWAISUSX3tA6AvAtj+8SSApJCc\n",
       "sSwPZCk3AwfYbobN5UAgADVQLg0sxnwBTD1EdvwOxgcgln4AH4hmR5bi2ArU/1DhMAMXSID3ApIU\n",
       "n8A1Bob5+5oZNMEingipBoY0RgWGF3c52yaARd4IPYCF/McARpGfyMGhJQ4JKCgAAF8xNF8aQs/g\n",
       "AAAAAElFTkSuQmCC\n",
       "\" style=\"display:inline;vertical-align:middle;\" /></a>, <a class=\"ProveItLink\" href=\"../__pv_it/demonstrations/1a5270d7d3401e3ec902ebbf86bec5c78898bba20/expr.ipynb\"><img src=\"data:image/png;base64,iVBORw0KGgoAAAANSUhEUgAAADIAAAATBAMAAAAg4UMRAAAAMFBMVEX////c3NwyMjK6urpEREQi\n",
       "IiLMzMwQEBCqqqp2dnZUVFSYmJhmZmaIiIju7u4AAADlKNhoAAAAAXRSTlMAQObYZgAAAAlwSFlz\n",
       "AAAOxAAADsQBlSsOGwAAAPJJREFUGNNjYMAAHOrfVULdN2BKMPB6JTAoMGGRYOA5wMC7YQY2GS4B\n",
       "hid8DiimuIYGgWg+BoZjXAlIEsy6D2BMtgU5IBV3NjC8AnGF4BIMLA/8gCQnRwHDfhBXEaG9k/sC\n",
       "kMzgCWBYAuIqIGQgbn7AfoGhFmR2aWhoaAjEKQ2TgeIMDPYP2L6B7EO48wkjkL2QgeEQA28BiB8A\n",
       "l1kG9BHfBwYGLwaWBSD+XbibD9gAvQtUeIrBHhx6TA1wN+sxMHoADXw197wA2OtL7CAy5k4lLvUl\n",
       "E0DMSdBAmAIJHRjgVOCrYMAKWC9wTcAuw7H3MHYJABj+NEi8Hq+uAAAAAElFTkSuQmCC\n",
       "\" style=\"display:inline;vertical-align:middle;\" /></a> <a class=\"ProveItLink\" href=\"../__pv_it/demonstrations/c18f4eaf76e6721244906366e99d191d4d8c996f0/proof.ipynb\" style=\"text-decoration: none\">&nbsp;&#x22A2;&nbsp;&nbsp;</a><a class=\"ProveItLink\" href=\"../__pv_it/demonstrations/5dd6df07bfba4269a47d3e5f0410db2088f9a47e0/expr.ipynb\"><img src=\"data:image/png;base64,iVBORw0KGgoAAAANSUhEUgAAASQAAAAVBAMAAAAdho5jAAAAMFBMVEX////MzMxUVFREREQQEBBm\n",
       "ZmYyMjLu7u52dnbc3NyqqqqYmJiIiIgiIiK6uroAAACaAm0XAAAAAXRSTlMAQObYZgAAAAlwSFlz\n",
       "AAAOxAAADsQBlSsOGwAAAx5JREFUSMeNlk1oE0EYht9sst1kk116LII04MGCl+itIJKDIIhKEVoK\n",
       "tbo3D15C1XrxEDx4kIIB8SAo5FBF1EJQKmiELmIRfw7bohftSg56qtL0VIqHOjM7aXYnX6Z+8LLJ\n",
       "zsyz73zziz/hGoAa+gVZshB+732ZAyIYCzsMG0S5PnJSTf6nUO9b7zf9+lfvq48SFoU7RpTrw/Uj\n",
       "Ccrj/vUKam/vThwmLdlVvSVe3j8E9ROEOMXyNJUvKtkt4XaLsjQLvaVZ7ZgJ6kAFXJxiNjS1F+Vz\n",
       "PXoYNWTKlKUp2pLbiJX3RoKaZ22YOCWj60CmEj2fyb9bMLYpS2Xaku3HynsjST0BLk55pLM00Eg0\n",
       "NgIYm4Ql29Nbsj2dJUm9BC5OmeTz6fPBoVuJ2tZyAzNAtphozMJpE5bMqrQkQaolMza7r0/BIqk3\n",
       "wNVEZM7EW3868ZGsXcYSG1xPbTzsdyxNhzxWd5PZ7IJUSwOx+VqdR75NUV+Ci1O+Mb3CUuVQwtI+\n",
       "M8ABxiyrjVepTcCpS0sSpFpyultfqj4No0RR54U45QzTICaitSo6vsJ+VTI+TjFAO0rHcZkOmCXK\n",
       "UqYlLUmQsGSG4ZfTYViU5ZJtMWzGp6jDQh1L4J9PxkYlxaacq2bpObSWJEjNkijvTP0tDA9S1J9C\n",
       "nYGDu41rya9MoMDs2EGyMduF7xFzaXfgJEgzcDA9vANFXeDnp6AcZevkmFGGsuUfQZqlPK+M+hDw\n",
       "nshS2o8sdUCqpbQfq1tkbIr6AlxNse5gb14tu8rhexYbje7qlY1zX8fHA8KS2CuaXZBqqbOXiCwV\n",
       "3b+gqJNiR+KW9rPOnfMfvla+MjN3gV1NnFaisbOzs+MRllKBzJIEqZZSQWzHG1neBkX9AS5uyRns\n",
       "s3PfZHoAdbnSl5OVPQ6UlUROPYqaC4Q4JT9G+cl61snYcbm+h6XFPY7dxXhPr9QpKj/+mQRllLLk\n",
       "+EZVXBv+7wqXrukvJ+nu/XQNIyT0TiRBuUxVsN+cT5L0lqyS3pLV7dvT5RYJHY30RAyi3/ci8IF+\n",
       "PdT76r6EyelcJcr1UagJ/QPg3CbgznSHjAAAAABJRU5ErkJggg==\n",
       "\" style=\"display:inline;vertical-align:middle;\" /></a></span>"
      ],
      "text/plain": [
       "{x in Real, y in Integer} |- ceil((x - y) + 2) = (ceil(x) + (-y + 2))"
      ]
     },
     "metadata": {},
     "output_type": "display_data"
    }
   ],
   "source": [
    "# simplifying ceiling of sum of an assumed real,\n",
    "# as assumed integer, and an actual integer\n",
    "ceil_x_minus_y_plus_2.simplification(assumptions=[InSet(x, Real), InSet(y, Integer)])"
   ]
  },
  {
   "cell_type": "markdown",
   "metadata": {},
   "source": [
    "### Floor.simplification()"
   ]
  },
  {
   "cell_type": "code",
   "execution_count": 98,
   "metadata": {},
   "outputs": [
    {
     "data": {
      "text/html": [
       "<a class=\"ProveItLink\" href=\"../__pv_it/demonstrations/3d426bb180a97ac43a83a6a3119279c7e717ef6d0/expr.ipynb\"><img src=\"data:image/png;base64,iVBORw0KGgoAAAANSUhEUgAAAHAAAAAVBAMAAABs93eRAAAAMFBMVEX////MzMxUVFRERES6urpm\n",
       "ZmYyMjJ2dnbc3NyIiIgiIiIQEBCqqqqYmJju7u4AAAD2l1fMAAAAAXRSTlMAQObYZgAAAAlwSFlz\n",
       "AAAOxAAADsQBlSsOGwAAAXNJREFUOMt907tKA0EUBuA/ycbcJoOdIBZBsVSC+ABpLCwkIBIwIAYf\n",
       "QFMJgmBarRZBUBCMdhmbbb2AaSzUZpuAgpIloGUwnaWzicY9cU4Gltk5O9/cdg7a8EscXKmYw3G8\n",
       "detTFi6awws9KMosTLiDkXHvD36AL5u0Kae3AnCNfFsircZPbf1OfRaADun6QFopr1cL+z8UpSFw\n",
       "xOVhVJ+NPJkd2yVQHrloAbEMD/1Bozi0iwTGhIMmkC7xMFkHntH0ZgiciFYxpYHDw1QOGEWhGy4q\n",
       "daPUhX7zUjaugNCnvxmlLq+Vyhgg/E70cPJeqKN/gzN8qbC+0KawgIRGosrDiA05H3ZQpnAOEb22\n",
       "dJaH+sRF592x6hQuI+/2/hWBe5U+DFUhV+3714E9tnbWdZ9kjsLJuw23f+XOmZuzrZ8DDMwYTKuG\n",
       "6ZLHSvI2kACWa4ARU54n7bDeXjw7LJGl6at4WeHG9OGTqul6n83jY1PwUdW+AXVugiUUwFozAAAA\n",
       "AElFTkSuQmCC\n",
       "\" style=\"display:inline;vertical-align:middle;\" /></a>"
      ],
      "text/plain": [
       "floor((x + y) + 1)"
      ]
     },
     "metadata": {},
     "output_type": "display_data"
    }
   ],
   "source": [
    "floor_x_plus_y_plus_1"
   ]
  },
  {
   "cell_type": "code",
   "execution_count": 99,
   "metadata": {},
   "outputs": [
    {
     "data": {
      "text/html": [
       "<span style=\"font-size:20px;\"><a class=\"ProveItLink\" href=\"../../ordering/__pv_it/theorems/d1323f34847310a404e8089c2c268d3c2eb89dbf0/expr.ipynb\"><img src=\"data:image/png;base64,iVBORw0KGgoAAAANSUhEUgAAADQAAAAQBAMAAACra0H4AAAAMFBMVEX///9ERES6uroQEBAyMjLc\n",
       "3NyYmJgiIiJmZmaqqqp2dnbMzMxUVFSIiIju7u4AAAAd7oVFAAAAAXRSTlMAQObYZgAAAAlwSFlz\n",
       "AAAOxAAADsQBlSsOGwAAAMtJREFUGNNjYMAAbM6CX4rFGLACRtYDTMfkcEgtYBDYg1OqlQVF6GJ5\n",
       "uQNcihFZRuUekq5zb4CMt3der5oApFn9kAzklnQFMhp4z3IUAGmWAISUSX3tA6AvAtj+8SSApJCc\n",
       "sSwPZCk3AwfYbobN5UAgADVQLg0sxnwBTD1EdvwOxgcgln4AH4hmR5bi2ArU/1DhMAMXSID3ApIU\n",
       "n8A1Bob5+5oZNMEingipBoY0RgWGF3c52yaARd4IPYCF/McARpGfyMGhJQ4JKCgAAF8xNF8aQs/g\n",
       "AAAAAElFTkSuQmCC\n",
       "\" style=\"display:inline;vertical-align:middle;\" /></a>, <a class=\"ProveItLink\" href=\"../../ordering/__pv_it/theorems/5d76fdd975252a644e3e1cb067a357f9a9c8486a0/expr.ipynb\"><img src=\"data:image/png;base64,iVBORw0KGgoAAAANSUhEUgAAADMAAAATBAMAAADPIygvAAAAMFBMVEX////c3NwyMjK6urpEREQi\n",
       "IiLMzMwQEBCqqqp2dnZUVFSYmJhmZmaIiIju7u4AAADlKNhoAAAAAXRSTlMAQObYZgAAAAlwSFlz\n",
       "AAAOxAAADsQBlSsOGwAAAOBJREFUKM9jYMAAm0r8VUs2MGAFDlIMVlseYJeSZGBhW4BLikdAAUXo\n",
       "SmioAlzKAVnG6B5CF9c7oIF8dzYwvAIJMOohGZjSJMDAwMlRwLAfJMAkAJcSV/0KMiGDJ4BhCVgK\n",
       "yRm7H4HoB+wXGGpBjPRQIHCASLG8BnvZ/gHbNxD9BEkX2wE/EOMQA28BiGZF9tcxERDDi4EF7HPe\n",
       "C0hST3hBJp5isIeEpQZcSoaBe4MzkPFq7nmIs185P4CFvCODi34DiD0JqtrSNRQl5DgV+Cqwxw0D\n",
       "6wWuCTikOPYexiEDADoqNycoB77qAAAAAElFTkSuQmCC\n",
       "\" style=\"display:inline;vertical-align:middle;\" /></a> <a class=\"ProveItLink\" href=\"../__pv_it/demonstrations/474dad180d0a9e642524d3713f7c187f93a3cdf00/proof.ipynb\" style=\"text-decoration: none\">&nbsp;&#x22A2;&nbsp;&nbsp;</a><a class=\"ProveItLink\" href=\"../__pv_it/demonstrations/359d55237c1a52d44d926da8fbebaa736f5088cd0/expr.ipynb\"><img src=\"data:image/png;base64,iVBORw0KGgoAAAANSUhEUgAAAPIAAAAVBAMAAACOB66tAAAAMFBMVEX///9ERES6uroyMjLc3Nxm\n",
       "ZmZ2dnbMzMxUVFSIiIgiIiIQEBCqqqqYmJju7u4AAAC1Kov9AAAAAXRSTlMAQObYZgAAAAlwSFlz\n",
       "AAAOxAAADsQBlSsOGwAAAcdJREFUSMe1lj9Iw1AQhy+x6d8YipNjFwcHaUcnzaqjXbRQDDgJgk4O\n",
       "4lAHwUXJoKAg2E2NS9aqYBeH6pLBDoLSgAidioPQ1aZJC+8ld7wMviXlyO/7uJf08qAHsVYiVOkh\n",
       "9dHSMdBnPPNMqOIDLtHELAYSN++5uFk10FjGQUCiZu1wkTB/EckFBMSZ50LBceWKMFcJSDu4yg4L\n",
       "4sytELklYrYJSM71r6r5D2a1REAmHNysXZzsbjEh7cyBrrhZMQhIsoabFTg3K0woqdrQwc2KNVy1\n",
       "kdlrC4VMlnDzG3TcYya0r9ThQLznbJOAqDZu3oHysFSxrAfLuhn8cnMmNJgKac4VCEjqx9+lu/tg\n",
       "l5g3rMG/HEU31Rfv2TOjEJnoGeTfYPyOQ2XI2OLP2dttFKLWUbM2lbbBYEPTINXEe5ZMAjKZR81q\n",
       "/9uWm2xoFYoOZ97WUfPgj4NDFIMzByCv5zXz+YN7RN3NdZ2tHD3NO5g5VScg2QJrHoHQGbYROZCQ\n",
       "6XlNQJaB6zn6KxkM+2RJe4wc/4i5TUCq/BeD/D5nzbQR52Qg6SgkkY91MlDfV2KdSbQ8CpF0BPRq\n",
       "3YqfhV4ibvYBS2jmFAH9AXwa9HberZi/AAAAAElFTkSuQmCC\n",
       "\" style=\"display:inline;vertical-align:middle;\" /></a></span>"
      ],
      "text/plain": [
       "{x in Real, y in Real} |- floor(x + y + 1) = floor((x + y) + 1)"
      ]
     },
     "metadata": {},
     "output_type": "display_data"
    }
   ],
   "source": [
    "Floor(Add(x, y, one)).inner_expr().operand.association(0, 2, assumptions=[InSet(x, Real), InSet(y, Real)], auto_simplify=False)"
   ]
  },
  {
   "cell_type": "code",
   "execution_count": 100,
   "metadata": {},
   "outputs": [
    {
     "data": {
      "text/html": [
       "<span style=\"font-size:20px;\"><a class=\"ProveItLink\" href=\"../../ordering/__pv_it/theorems/d1323f34847310a404e8089c2c268d3c2eb89dbf0/expr.ipynb\"><img src=\"data:image/png;base64,iVBORw0KGgoAAAANSUhEUgAAADQAAAAQBAMAAACra0H4AAAAMFBMVEX///9ERES6uroQEBAyMjLc\n",
       "3NyYmJgiIiJmZmaqqqp2dnbMzMxUVFSIiIju7u4AAAAd7oVFAAAAAXRSTlMAQObYZgAAAAlwSFlz\n",
       "AAAOxAAADsQBlSsOGwAAAMtJREFUGNNjYMAAbM6CX4rFGLACRtYDTMfkcEgtYBDYg1OqlQVF6GJ5\n",
       "uQNcihFZRuUekq5zb4CMt3der5oApFn9kAzklnQFMhp4z3IUAGmWAISUSX3tA6AvAtj+8SSApJCc\n",
       "sSwPZCk3AwfYbobN5UAgADVQLg0sxnwBTD1EdvwOxgcgln4AH4hmR5bi2ArU/1DhMAMXSID3ApIU\n",
       "n8A1Bob5+5oZNMEingipBoY0RgWGF3c52yaARd4IPYCF/McARpGfyMGhJQ4JKCgAAF8xNF8aQs/g\n",
       "AAAAAElFTkSuQmCC\n",
       "\" style=\"display:inline;vertical-align:middle;\" /></a>, <a class=\"ProveItLink\" href=\"../../ordering/__pv_it/theorems/5d76fdd975252a644e3e1cb067a357f9a9c8486a0/expr.ipynb\"><img src=\"data:image/png;base64,iVBORw0KGgoAAAANSUhEUgAAADMAAAATBAMAAADPIygvAAAAMFBMVEX////c3NwyMjK6urpEREQi\n",
       "IiLMzMwQEBCqqqp2dnZUVFSYmJhmZmaIiIju7u4AAADlKNhoAAAAAXRSTlMAQObYZgAAAAlwSFlz\n",
       "AAAOxAAADsQBlSsOGwAAAOBJREFUKM9jYMAAm0r8VUs2MGAFDlIMVlseYJeSZGBhW4BLikdAAUXo\n",
       "SmioAlzKAVnG6B5CF9c7oIF8dzYwvAIJMOohGZjSJMDAwMlRwLAfJMAkAJcSV/0KMiGDJ4BhCVgK\n",
       "yRm7H4HoB+wXGGpBjPRQIHCASLG8BnvZ/gHbNxD9BEkX2wE/EOMQA28BiGZF9tcxERDDi4EF7HPe\n",
       "C0hST3hBJp5isIeEpQZcSoaBe4MzkPFq7nmIs185P4CFvCODi34DiD0JqtrSNRQl5DgV+Cqwxw0D\n",
       "6wWuCTikOPYexiEDADoqNycoB77qAAAAAElFTkSuQmCC\n",
       "\" style=\"display:inline;vertical-align:middle;\" /></a> <a class=\"ProveItLink\" href=\"../__pv_it/demonstrations/e65abf985aa29fe2068895cdda91a63f9efefe440/proof.ipynb\" style=\"text-decoration: none\">&nbsp;&#x22A2;&nbsp;&nbsp;</a><a class=\"ProveItLink\" href=\"../__pv_it/demonstrations/3424103a21e21ff15801e65687fc49a30da0b75d0/expr.ipynb\"><img src=\"data:image/png;base64,iVBORw0KGgoAAAANSUhEUgAAAQQAAAAVBAMAAABS242zAAAAMFBMVEX////MzMxUVFRERES6urpm\n",
       "ZmYyMjJ2dnbc3NyIiIgiIiIQEBCqqqqYmJju7u4AAAD2l1fMAAAAAXRSTlMAQObYZgAAAAlwSFlz\n",
       "AAAOxAAADsQBlSsOGwAAAm5JREFUSMed1j9oFEEUBvDvcre5f3NLOiEIimKpBLHQLo2FSEgIIcGA\n",
       "eNhHQ4qAIHhgpdUgBBQUT7FxTbFFGhPRa1QuaRYkoqBkiWgZTGfp7Mzcmbl9b9m4cLA79+bb387N\n",
       "7Qz2kBwVcEeLbq6QpX6MjKPF5HzXZ4/Zfpfo5ovppmoHjShDUJqiGqUliEW2YzWVOhrThI84LCFJ\n",
       "emIJvzJ63nAv/VM3aYLfPCTBJA3HhnDV+W7CudruJfTin9IEL0oRJmhCvzlJakwZQujUdp2rup1i\n",
       "QmYT6kgRujShe5CAt5ogmhk9h6N8hA//SVjQBE/NRv/RmSO3nRJ/JcIuUD6ejzBnCWwQQ1jShORB\n",
       "PTyQ805JWYTYUbFNnuAF+tDIBUtggxjCZ02odYAv2IlPOyVHvTZOqluH+UZh1RLYIIawpQn1cWAE\n",
       "s7p5Pgg2guC5OovrEq+Bwm/zuK/W7eMyhDVLYIMM4V+zTTrWJyCpcpWTcWFf9cw5Cmv96cgF0aNw\n",
       "uf9DoPQHe27JLKrq9qKdby70fgg2iCFsakJRwj83FGLRLTmLogpvjOUbhQuGwAcxhE+aoP53Yv9n\n",
       "WOq4JdOYjMw/1iHcaZGEJUPgg9IEnTSnCYU2/Cvy/beBkt1b11RNbdwlnHh3PaIIo3YU2KAUwSS9\n",
       "MC/oZ8xLbVl97mNgFJjFujaS8XZcJt+OesPQNoRtanUpN/03B5awUpRNUOsNs0zZoPQyZVc3TShS\n",
       "G5qaHFLToDKWd8tynlusTRC9ZcFdu1/wqfuIrzOcjiT84AgmiCEo+FbwUp3cYzcaD6nGTd1pcBso\n",
       "IdYDyeSIgPyq2sJft78OejWqTk4AAAAASUVORK5CYII=\n",
       "\" style=\"display:inline;vertical-align:middle;\" /></a></span>"
      ],
      "text/plain": [
       "{x in Real, y in Real} |- floor((x + y) + 1) = (floor(x + y) + 1)"
      ]
     },
     "metadata": {},
     "output_type": "display_data"
    }
   ],
   "source": [
    "floor_x_plus_y_plus_1.simplification(assumptions=[InSet(x, Real), InSet(y, Real)])"
   ]
  },
  {
   "cell_type": "code",
   "execution_count": 101,
   "metadata": {},
   "outputs": [
    {
     "data": {
      "text/html": [
       "<a class=\"ProveItLink\" href=\"../__pv_it/demonstrations/e181a13f38ef4ebe7909b25fd4f1c05390dda9080/expr.ipynb\"><img src=\"data:image/png;base64,iVBORw0KGgoAAAANSUhEUgAAAGAAAAAVBAMAAABLWfZ5AAAAMFBMVEX///9ERES6uroyMjLc3Nxm\n",
       "ZmZ2dnbMzMxUVFSIiIgiIiIQEBCqqqqYmJju7u4AAAC1Kov9AAAAAXRSTlMAQObYZgAAAAlwSFlz\n",
       "AAAOxAAADsQBlSsOGwAAAO1JREFUOMtjeMdAEmBhuEuaBlVcGtjXkabhRfA/4jQwXYAyOP+hi2DX\n",
       "wDMBXQNchCINL2c8TztAQMPLWAa+BpiGAM5O1gUENCScZuD9ANXA68D7j+MCfg3sB6IYOASgGtgZ\n",
       "WA1AgqyrVq3etWpVA0IDQoSPYScD9wS4p7knEPQ00z+G+gK4Bn0HvgcENAAdMRsWSg8VuhnYCNnA\n",
       "2MAgAdNwvi6aQQdNA9sXdBsamP7CNDydyRN7AFWao/tzL6oIX9vUL/hiGosImwG+xIchkszw+gC+\n",
       "/IABVjK0MZCk4exUBYiG06tWEp9BT61aCQBSzGR0loRK2gAAAABJRU5ErkJggg==\n",
       "\" style=\"display:inline;vertical-align:middle;\" /></a>"
      ],
      "text/plain": [
       "floor(x + 1 + y)"
      ]
     },
     "metadata": {},
     "output_type": "display_data"
    }
   ],
   "source": [
    "Floor(Add(x, one, y))"
   ]
  },
  {
   "cell_type": "code",
   "execution_count": 102,
   "metadata": {},
   "outputs": [
    {
     "data": {
      "text/html": [
       "<span style=\"font-size:20px;\"><a class=\"ProveItLink\" href=\"../../ordering/__pv_it/theorems/d1323f34847310a404e8089c2c268d3c2eb89dbf0/expr.ipynb\"><img src=\"data:image/png;base64,iVBORw0KGgoAAAANSUhEUgAAADQAAAAQBAMAAACra0H4AAAAMFBMVEX///9ERES6uroQEBAyMjLc\n",
       "3NyYmJgiIiJmZmaqqqp2dnbMzMxUVFSIiIju7u4AAAAd7oVFAAAAAXRSTlMAQObYZgAAAAlwSFlz\n",
       "AAAOxAAADsQBlSsOGwAAAMtJREFUGNNjYMAAbM6CX4rFGLACRtYDTMfkcEgtYBDYg1OqlQVF6GJ5\n",
       "uQNcihFZRuUekq5zb4CMt3der5oApFn9kAzklnQFMhp4z3IUAGmWAISUSX3tA6AvAtj+8SSApJCc\n",
       "sSwPZCk3AwfYbobN5UAgADVQLg0sxnwBTD1EdvwOxgcgln4AH4hmR5bi2ArU/1DhMAMXSID3ApIU\n",
       "n8A1Bob5+5oZNMEingipBoY0RgWGF3c52yaARd4IPYCF/McARpGfyMGhJQ4JKCgAAF8xNF8aQs/g\n",
       "AAAAAElFTkSuQmCC\n",
       "\" style=\"display:inline;vertical-align:middle;\" /></a>, <a class=\"ProveItLink\" href=\"../../ordering/__pv_it/theorems/5d76fdd975252a644e3e1cb067a357f9a9c8486a0/expr.ipynb\"><img src=\"data:image/png;base64,iVBORw0KGgoAAAANSUhEUgAAADMAAAATBAMAAADPIygvAAAAMFBMVEX////c3NwyMjK6urpEREQi\n",
       "IiLMzMwQEBCqqqp2dnZUVFSYmJhmZmaIiIju7u4AAADlKNhoAAAAAXRSTlMAQObYZgAAAAlwSFlz\n",
       "AAAOxAAADsQBlSsOGwAAAOBJREFUKM9jYMAAm0r8VUs2MGAFDlIMVlseYJeSZGBhW4BLikdAAUXo\n",
       "SmioAlzKAVnG6B5CF9c7oIF8dzYwvAIJMOohGZjSJMDAwMlRwLAfJMAkAJcSV/0KMiGDJ4BhCVgK\n",
       "yRm7H4HoB+wXGGpBjPRQIHCASLG8BnvZ/gHbNxD9BEkX2wE/EOMQA28BiGZF9tcxERDDi4EF7HPe\n",
       "C0hST3hBJp5isIeEpQZcSoaBe4MzkPFq7nmIs185P4CFvCODi34DiD0JqtrSNRQl5DgV+Cqwxw0D\n",
       "6wWuCTikOPYexiEDADoqNycoB77qAAAAAElFTkSuQmCC\n",
       "\" style=\"display:inline;vertical-align:middle;\" /></a> <a class=\"ProveItLink\" href=\"../__pv_it/demonstrations/1ac3c520ac7d17b6358004dff76d5388916997800/proof.ipynb\" style=\"text-decoration: none\">&nbsp;&#x22A2;&nbsp;&nbsp;</a><a class=\"ProveItLink\" href=\"../__pv_it/demonstrations/0a2c642075698b1c5d12b98bef04951b5cc125780/expr.ipynb\"><img src=\"data:image/png;base64,iVBORw0KGgoAAAANSUhEUgAAAPQAAAAVBAMAAACDGd7qAAAAMFBMVEX///9ERES6uroyMjLc3Nxm\n",
       "ZmZ2dnbMzMxUVFSIiIgiIiIQEBCqqqqYmJju7u4AAAC1Kov9AAAAAXRSTlMAQObYZgAAAAlwSFlz\n",
       "AAAOxAAADsQBlSsOGwAAAehJREFUSMellj1Iw0AYhr+2pr9pEHFwdBdpRxcxjm7FgmhBLHRREHRy\n",
       "EME6CC5KFkFBsbiombJWRbs4VJeIOghKAyJ06iR0tbmm2rv7rkn0pvCG93m4Nnx30AB/S+WSPgDF\n",
       "8lchJXj3Zw5muOgIIGn6q7RCTaxetzxy5Lxvtc0+FqmV7Qmv6g/wqW6zQxarHu08nFhsIlDP82pB\n",
       "hWInM6y6yqmrLmqDVwsqNPvm32o5/Uf1OFErh3tryy5qZd+EOqKW8o6ah7AVmr1I1BIcaDkXdVg2\n",
       "oNbhSDpZxdZjyHTUPISqcOwnon6GmrXrot6QSrCF7DpecdQ8hK3Q7AeiXoUsiXK6fqXr513q38RK\n",
       "aFBG1IlhR81DqArH3nQ+s7L7Z5ayIs1eagTCVGj2SFsd/IKGmzoLMQP5r39+cATSXeHY97ZaGYga\n",
       "kHdTD0GgiOw6oLXVGISp0OxHWy03P41ghXm9ojKFWUiZiDpcbKsxCFOh2TNk13Pa3Rvzeud2zKST\n",
       "+tKCiqgjJWfXCISp0OxT4TRDkgI6SM96TbMCOs3IgV0SHh9sEk4r16j6RXh8sBWKLZmerwpxLZpH\n",
       "1QFVdGgKK/aa9H5LkV+n8ZNL6RephRV7DbbmmX7h/Xok67rGhVOt/BLJe1QAYip8A2ap/EHTVwnq\n",
       "AAAAAElFTkSuQmCC\n",
       "\" style=\"display:inline;vertical-align:middle;\" /></a></span>"
      ],
      "text/plain": [
       "{x in Real, y in Real} |- floor(x + 1 + y) = (floor(x + y) + 1)"
      ]
     },
     "metadata": {},
     "output_type": "display_data"
    }
   ],
   "source": [
    "Floor(Add(x, one, y)).simplification(assumptions=[InSet(x, Real), InSet(y, Real)])"
   ]
  },
  {
   "cell_type": "markdown",
   "metadata": {},
   "source": [
    "### Round.simplification()"
   ]
  },
  {
   "cell_type": "code",
   "execution_count": 103,
   "metadata": {},
   "outputs": [
    {
     "data": {
      "text/html": [
       "<a class=\"ProveItLink\" href=\"../__pv_it/demonstrations/2ce73d428eb69d45cc7ae4b1a774d53d6d5eee960/expr.ipynb\"><img src=\"data:image/png;base64,iVBORw0KGgoAAAANSUhEUgAAAOEAAAAVBAMAAABCnpRGAAAAMFBMVEX///+qqqpUVFSIiIi6urru\n",
       "7u4iIiIyMjIQEBCYmJhmZmbc3NxERER2dnbMzMwAAADprbYgAAAAAXRSTlMAQObYZgAAAAlwSFlz\n",
       "AAAOxAAADsQBlSsOGwAAAupJREFUSMeVlkFo01AYx/9pm65rmqxnRTYYOofK4rxNGIV58LZQEEEP\n",
       "LYhFhG29DGR4iAqiB7EiXiY4mbLhcBgUBoJgUE+eIgW9qNSD4EWYbGXIYPN7ednMS142/cM/JB+/\n",
       "933vfWm+DdhFWmC5HPmCRNbB7joaWK4R+YJEdmSnUsalh3RVPO4EpRvRCION89FzL1xu+WycD6ur\n",
       "SJfTgZM0GQ0QXJ5vR4KvoK9ydnKniqMWXZ4E/quMsM3paJTB6XYkegi4wdnpnSp+ZBc7cKhtZvgp\n",
       "Z0WidrjiVvS2hQHHZ7d4qabYkjp3YsWOhhj14VjFA8BAy2fJxmdtke6agyV1qIGUlRk823xL7/rI\n",
       "8C9C8x63emz/zw9CFkaXAb1HzM3geEXSBGfJemFRt7FU0tZ1xcYMPfei4uCkU2gHR2DOY9CcE7Jw\n",
       "Gp11Mbd/ZklFY4Wz5JcdVdrXOWDsW76KPpzIunjdUm8iz3Jli9z3MWP1C1kYfZiebDE3g2UVsz2c\n",
       "JX/vYkdYBq5aORPXYFVK6LYokGX9yZW4W5jnTavVLlyv1Wg5p2EsC1EfDiqGosBTcJaZfQQ5F9oK\n",
       "3WkbQDfopBSolEIVwbKL+x61DKIzkTOGKobP2MnqMpaZvZ6KCX2d7tLLrBx+qxSYQairyKzjlJhl\n",
       "HmnWpeo/dXUfNMdnmcfYeGkg5+ENCu493ILS1itF9Ck0dgumb/VdyoYnZiGaNt7pilG2IF7R8JC2\n",
       "fJasrbKW9+A9MIsfnkeNTdcfFEzlYh7bP2hl44ydKYpZZjHaCL6GUNT/WqhfYnRpYWFu+1PL+G35\n",
       "MkT9Lzf39rboWe0vqr1fnw+zzVV9q4/MPXciWcrNZ9SEbClyGlqQOrgm/q4xsbm5xtktPlnjgWUz\n",
       "5xPbfTQ6njyflkJ8suLTN5jOel29Epry25N8Onnqx/8qyFRwuGPKmil6LZorW5Dw34Qr42NSXe6Y\n",
       "lLuPpflV9783H9GLwHIdly9IZMl/ABt+0rVVnDgvAAAAAElFTkSuQmCC\n",
       "\" style=\"display:inline;vertical-align:middle;\" /></a>"
      ],
      "text/plain": [
       "round((x + y) + (1 + 2))"
      ]
     },
     "metadata": {},
     "output_type": "display_data"
    }
   ],
   "source": [
    "round_add_add"
   ]
  },
  {
   "cell_type": "code",
   "execution_count": 104,
   "metadata": {},
   "outputs": [
    {
     "data": {
      "text/html": [
       "<span style=\"font-size:20px;\"><a class=\"ProveItLink\" href=\"../../ordering/__pv_it/theorems/d1323f34847310a404e8089c2c268d3c2eb89dbf0/expr.ipynb\"><img src=\"data:image/png;base64,iVBORw0KGgoAAAANSUhEUgAAADQAAAAQBAMAAACra0H4AAAAMFBMVEX///9ERES6uroQEBAyMjLc\n",
       "3NyYmJgiIiJmZmaqqqp2dnbMzMxUVFSIiIju7u4AAAAd7oVFAAAAAXRSTlMAQObYZgAAAAlwSFlz\n",
       "AAAOxAAADsQBlSsOGwAAAMtJREFUGNNjYMAAbM6CX4rFGLACRtYDTMfkcEgtYBDYg1OqlQVF6GJ5\n",
       "uQNcihFZRuUekq5zb4CMt3der5oApFn9kAzklnQFMhp4z3IUAGmWAISUSX3tA6AvAtj+8SSApJCc\n",
       "sSwPZCk3AwfYbobN5UAgADVQLg0sxnwBTD1EdvwOxgcgln4AH4hmR5bi2ArU/1DhMAMXSID3ApIU\n",
       "n8A1Bob5+5oZNMEingipBoY0RgWGF3c52yaARd4IPYCF/McARpGfyMGhJQ4JKCgAAF8xNF8aQs/g\n",
       "AAAAAElFTkSuQmCC\n",
       "\" style=\"display:inline;vertical-align:middle;\" /></a>, <a class=\"ProveItLink\" href=\"../../ordering/__pv_it/theorems/5d76fdd975252a644e3e1cb067a357f9a9c8486a0/expr.ipynb\"><img src=\"data:image/png;base64,iVBORw0KGgoAAAANSUhEUgAAADMAAAATBAMAAADPIygvAAAAMFBMVEX////c3NwyMjK6urpEREQi\n",
       "IiLMzMwQEBCqqqp2dnZUVFSYmJhmZmaIiIju7u4AAADlKNhoAAAAAXRSTlMAQObYZgAAAAlwSFlz\n",
       "AAAOxAAADsQBlSsOGwAAAOBJREFUKM9jYMAAm0r8VUs2MGAFDlIMVlseYJeSZGBhW4BLikdAAUXo\n",
       "SmioAlzKAVnG6B5CF9c7oIF8dzYwvAIJMOohGZjSJMDAwMlRwLAfJMAkAJcSV/0KMiGDJ4BhCVgK\n",
       "yRm7H4HoB+wXGGpBjPRQIHCASLG8BnvZ/gHbNxD9BEkX2wE/EOMQA28BiGZF9tcxERDDi4EF7HPe\n",
       "C0hST3hBJp5isIeEpQZcSoaBe4MzkPFq7nmIs185P4CFvCODi34DiD0JqtrSNRQl5DgV+Cqwxw0D\n",
       "6wWuCTikOPYexiEDADoqNycoB77qAAAAAElFTkSuQmCC\n",
       "\" style=\"display:inline;vertical-align:middle;\" /></a> <a class=\"ProveItLink\" href=\"../__pv_it/demonstrations/80e027e385c3b0fc8ea965f52914176bd9a530420/proof.ipynb\" style=\"text-decoration: none\">&nbsp;&#x22A2;&nbsp;&nbsp;</a><a class=\"ProveItLink\" href=\"../__pv_it/demonstrations/b1ea92a2d89e3332348a766ad2e11ac4dc6fb3c80/expr.ipynb\"><img src=\"data:image/png;base64,iVBORw0KGgoAAAANSUhEUgAAAasAAAAVBAMAAAAKiNzvAAAAMFBMVEX///+qqqpUVFSIiIi6urru\n",
       "7u4iIiIyMjIQEBCYmJhmZmbc3NxERER2dnbMzMwAAADprbYgAAAAAXRSTlMAQObYZgAAAAlwSFlz\n",
       "AAAOxAAADsQBlSsOGwAABGNJREFUWMONV12IG1UU/ibJZLOZJA0IVhRpcZFaUBhXfLBCHVBKfdph\n",
       "QYRa2PgXSqGSl4r1Ka1V9EEcFRGruKVKl11cDAoLVqHB+tSCxi6oBasRUfqyukXDsgS6PffOncy9\n",
       "k3uT+eAkM2fOOd85d87cOQOMgSNEj1Yq1SCQ9mIrTQqp6dMEJNwvRI9HhzTZqsE052rtzQ5KCmnp\n",
       "zVqBykun6dfqhGJANkhq7mSuzyeU5xa+Bx7S2nOHsSmkpXeufubpSCRsY8v4pBATjibO7QYwu9BL\n",
       "kLXxu4cJX2PPHcankJb+AKzrGhIZMyyNRSExHlfOTkUtJlaoyP6zPVWbaaHQxORpyX6AYpAmBamX\n",
       "g1H0j1TtDQ2JjJ/YT1NIjFuUs4If/luuOIdcltAWesj0gVcl+zhAqhRiRER6+v0eNjQkMl5m5o1Q\n",
       "jGVNBGrc7bqyMjVkbgDHJPsBtiNFCsaykvR0tMm1lV+dZbq2Ou3ZewJk/Nz0U6sX6HG4b+911iKd\n",
       "UOwH7l77USmLWc8C5Z1q3GVdWYT8OnAZsf0AzGGtfe7KyBQkehHSQA/sC7i2XFouN7HiOf2y1cQ8\n",
       "nU9hroX9rVJPrAaTIqbds0pZoTUmG2rcY4ay/qWj9xHZn60zPBM5dC52fhmZgkQvQhro8eddXa79\n",
       "aqJG6/EscOSPYg278Fi+jfNd+w0UmUe+GsqHmPd3K2Ux63spXlON+7ShLFbCbYjtByAHJ3iRbtqo\n",
       "FCR6EdJAD74TkvavbWw1qEVO+AUXr8Cf87DDJ0WevS4KXihdLEAs8+vhMofWqKyzPqnXD71Wr7OG\n",
       "OBmXJWlRbLM7BmEvgxwq/uaYFCL6OKSBnvCWz7VsEy204fxHRw492DtAC0YKih2XBRZD3TJm/ApZ\n",
       "5xLLdVJ/t97h2xRie7ks5HpjUpDoo5B6+n+AH6pcy3p2zkW5T0fZdRYQmzYp5iE1IXJ9PKGWtYAs\n",
       "eVu1NE1Ig8LXwK2I7KVnizlQQ41OQaKPQurpt3xWFtMeYW/zAIUOvkWp/R7ehNUrz1Wxy6KRseRy\n",
       "sb/LNNFRyyJruu2TbTXuBW1Za8CDwEeI7QdgDqzZRqUg00ch9fQneBOS1vmfLddOXATO4FqnQ02Q\n",
       "bXxccq3DRbEfk1g3DjRzVbWsM5gJwu1XjnuZb1N9tSzn8NJSLdzLi8kBjzmc90anINNHRHr6D/h7\n",
       "i7Q5fhuv7qHIs6t3THXp3N5dtad++2Ive8JrXOxP3NvfTjxbs6uf01rmPTXu3+zte8+Gum3lt7a2\n",
       "aFN7DrH9AMxh35gUZPqISE+fW6JRd5hkCC8I0U0ZP5OsJNjyXeNI4NQk+wFUB1MKupA6+hArYz+3\n",
       "Tg2Np2LULTfs49IcGs2afJ7Vz6V8qF1MEqgOphSGQhroQyyOLavUCmUIeTfT4Z8cCVwyhvoGOvsR\n",
       "DlIKqekBk1b9HGqHMgTr3U+1lAeNoS7pUzyYJoXU9MZ1SOBLIXo8PLxUrulLtqW1NzsoKaSlF9qb\n",
       "6tCJqhF5dmUAAAAASUVORK5CYII=\n",
       "\" style=\"display:inline;vertical-align:middle;\" /></a></span>"
      ],
      "text/plain": [
       "{x in Real, y in Real} |- round((x + y) + (1 + 2)) = (round(x + y) + 3)"
      ]
     },
     "metadata": {},
     "output_type": "display_data"
    }
   ],
   "source": [
    "round_add_add.simplification(assumptions=[InSet(x, Real), InSet(y, Real)])"
   ]
  },
  {
   "cell_type": "code",
   "execution_count": 105,
   "metadata": {},
   "outputs": [
    {
     "data": {
      "text/html": [
       "<strong id=\"round_01\">round_01:</strong> <a class=\"ProveItLink\" href=\"../__pv_it/demonstrations/1ffbf581a5ed466e01edc5fa19669c87abf299700/expr.ipynb\"><img src=\"data:image/png;base64,iVBORw0KGgoAAAANSUhEUgAAAL8AAAAVBAMAAADlQyK9AAAAMFBMVEX///+qqqpUVFSIiIi6urru\n",
       "7u4iIiIyMjIQEBCYmJhmZmbc3NxERER2dnbMzMwAAADprbYgAAAAAXRSTlMAQObYZgAAAAlwSFlz\n",
       "AAAOxAAADsQBlSsOGwAAAoJJREFUOMulVU1oE0EYfWl2k+xuNg0U/EGkwRoRJXS1B6X+NFIQPHVp\n",
       "EYoUSavkpDQIHgTBgB6KWrpePQWRaoLBpQdBUBLao4KLRbyo3UvrwUNb2iClYP2mKSWTxEwwAzOw\n",
       "b9+bN9+333wLCIaNFkYTYm+4FYP+Ri9/PmTrwWb3WjL5Zy1314XXaiRZpSmnmttePnavyuAd9HXg\n",
       "dgONVKJF5Y9wqYa1i/SZPHIcmACeNjDQE7QEeKyjhtVRY7CDTJnothEw/23gz9Cy978NjgDdLvwW\n",
       "Qt+0vAW95zCGskAU/dH3Zw1gZn6Z1U+e5tDJq9/DnJiYckRgQGOc0hCBHszrae06CrazD8oKnFlD\n",
       "3oT0CJ+Y4g7NjLdLTXDiMlNkEFoDlBTe+hOq4zPg+xGeRltKit+A9gfDFl4w0ihxbKXUZlWKQ4xZ\n",
       "FBr4KEhPGovtJH5NnzOK+wgYsrwOT4kBNxnpAW0HtVyr08nkRDI5RjW5zaxEdg0qkVfsLBToAL15\n",
       "DBQMqsuCC88KxUEAGZUNUN6s8nTEXHZFESjsK0lpMqUjUbYWbEp0H9ju7dbltZ0kj7JlwJZNTkwh\n",
       "nRZVEfUAzYYnUU7FBjCJYAQfFTPgoNP8skpGB+jFHDASPwqdFxNzVmQQcuA1oRShsVQ8QzADNRKa\n",
       "1FmWTinuHPZk2D34DHQuvsQFXqxGpI1qgwWbR97kcpQb1YHEKlCff06Jip2YOY+LwOATDJ771cWy\n",
       "vARc6fFkw7xYjvVuVhkcmrrFVRrGt7Z+UyXFBU3M59a/t3pKfLe34xB1SSVTr7V9xXBY3P7YyAr7\n",
       "8Id64DXEmuviWlFIGakH7u+NN2cQFP8zNaOVX+YZ4C/4EKMPV84S/wAAAABJRU5ErkJggg==\n",
       "\" style=\"display:inline;vertical-align:middle;\" /></a><br>"
      ],
      "text/plain": [
       "<IPython.core.display.HTML object>"
      ]
     },
     "metadata": {},
     "output_type": "display_data"
    }
   ],
   "source": [
    "round_01 = Round(Add(x, y, one, two))"
   ]
  },
  {
   "cell_type": "code",
   "execution_count": 106,
   "metadata": {},
   "outputs": [
    {
     "data": {
      "text/html": [
       "<strong id=\"round_01_alt\">round_01_alt:</strong> <a class=\"ProveItLink\" href=\"../__pv_it/demonstrations/f87d87306b2c121269a97724d6769d4aaa308fa10/expr.ipynb\"><img src=\"data:image/png;base64,iVBORw0KGgoAAAANSUhEUgAAAL8AAAAVBAMAAADlQyK9AAAAMFBMVEX///+qqqpUVFSIiIi6urru\n",
       "7u4iIiIyMjIQEBCYmJhmZmbc3NxERER2dnbMzMwAAADprbYgAAAAAXRSTlMAQObYZgAAAAlwSFlz\n",
       "AAAOxAAADsQBlSsOGwAAAo1JREFUOMulVU1oE0EYfZvsJtndbBoQ/EFKAzVSkdDVHpT6FykInhpa\n",
       "hCJF0qqLB6W5eBA8BBQpanG9egoirQkGlx4KgpLQHhVcLOLFn71UDx7a0oZSAtZvTGrYdN0NZmDm\n",
       "MPPevPnefPMN4NEMtNFaIPuj7QgMuC3+uM/GTse1yFXPveXCbQt+3Q2ySl3IOK0MzVQ8BV5DWQdu\n",
       "uiB4tolkP8L5beO2BfidR6xjDgOTwBMXASVNQ8g+t6tZgFN38OqYRyn0Ggil/i0QzNGw578FDgK9\n",
       "FoI6Ip/log6l7wCG80AcA/E3J4k1u7jM8qdIffjopS9RDwHiCjE7BpggG2JQwkUlK19ByTD3QlyB\n",
       "Oa8KVfAP8J5Fd4t6zt8tpT0Ealy7QGQNEDN4FUxLZkBF4Gt0Gr4Mn7wO+RdGdMww0BhhDLHi090F\n",
       "IoxbbhIIUEhcFksdRH5J1xnHHYRUQVgHV2ETNxjoLpEh1XJ1WtMmNW28ISBp2rV7mkb7CH+4dgxe\n",
       "MGUKa5CseAiUVMrLkgVuheKgCRKqCaBGdbeIuMuWHSOyO+GzJEoHILe+GWT0GbDdO/QLa3VLx9gw\n",
       "aAgpDwEK8njTITohG+DSNSs2gSmEY3gnpkImulIfV0loPy0sAKPJHiheERB33o6JmPCnIJYhMyue\n",
       "IpyDFItMKcylY6K1gN059g4+AF1Lz3G2SUCpNkcQ4zftmLlCgbyRTPAsA5XFZ2RU4sjsaZyjUvMY\n",
       "Q6d+djNPvwMX+7h81E729WwcsgsIif6qHTOxtbVBmZT0KFkBy/El/22Nl6xknDBzXjVRzDkWu0ZF\n",
       "rD+QTxiJOmHynlX3bWs/y2UkHD+FsidztDWBff2OZoe9/0xZbefLPAH8BiM6p86hYQ5zAAAAAElF\n",
       "TkSuQmCC\n",
       "\" style=\"display:inline;vertical-align:middle;\" /></a><br>"
      ],
      "text/plain": [
       "<IPython.core.display.HTML object>"
      ]
     },
     "metadata": {},
     "output_type": "display_data"
    }
   ],
   "source": [
    "round_01_alt = Round(Add(x, one, y, two))"
   ]
  },
  {
   "cell_type": "code",
   "execution_count": 107,
   "metadata": {},
   "outputs": [
    {
     "name": "stdout",
     "output_type": "stream",
     "text": [
      "Expected exception:  Proof step failed assuming {x in Complex, y in Complex}:\n",
      "Attempting to instantiate |- forall_{x in Real} [forall_{n in Integer} (round(x + n) = (round(x) + n))] with {x: x + y, n: 3}:\n",
      "Unsatisfied condition: (x + y) in Real. For debugging purposes, this is accessible via Instantiation.unsatisfied_condition with applicable assumptions in Instantiation.condition_assumptions.\n"
     ]
    }
   ],
   "source": [
    "try:\n",
    "    # if we don't know that the variables x and y are real, \n",
    "    # we cannot perform a simplification\n",
    "    round_01.simplification(assumptions=[InSet(x, Complex), InSet(y, Complex)])\n",
    "    assert False\n",
    "except Exception as e:\n",
    "    print(\"Expected exception: \", e)"
   ]
  },
  {
   "cell_type": "code",
   "execution_count": 108,
   "metadata": {},
   "outputs": [
    {
     "data": {
      "text/html": [
       "<span style=\"font-size:20px;\"><a class=\"ProveItLink\" href=\"../../ordering/__pv_it/theorems/d1323f34847310a404e8089c2c268d3c2eb89dbf0/expr.ipynb\"><img src=\"data:image/png;base64,iVBORw0KGgoAAAANSUhEUgAAADQAAAAQBAMAAACra0H4AAAAMFBMVEX///9ERES6uroQEBAyMjLc\n",
       "3NyYmJgiIiJmZmaqqqp2dnbMzMxUVFSIiIju7u4AAAAd7oVFAAAAAXRSTlMAQObYZgAAAAlwSFlz\n",
       "AAAOxAAADsQBlSsOGwAAAMtJREFUGNNjYMAAbM6CX4rFGLACRtYDTMfkcEgtYBDYg1OqlQVF6GJ5\n",
       "uQNcihFZRuUekq5zb4CMt3der5oApFn9kAzklnQFMhp4z3IUAGmWAISUSX3tA6AvAtj+8SSApJCc\n",
       "sSwPZCk3AwfYbobN5UAgADVQLg0sxnwBTD1EdvwOxgcgln4AH4hmR5bi2ArU/1DhMAMXSID3ApIU\n",
       "n8A1Bob5+5oZNMEingipBoY0RgWGF3c52yaARd4IPYCF/McARpGfyMGhJQ4JKCgAAF8xNF8aQs/g\n",
       "AAAAAElFTkSuQmCC\n",
       "\" style=\"display:inline;vertical-align:middle;\" /></a>, <a class=\"ProveItLink\" href=\"../../ordering/__pv_it/theorems/5d76fdd975252a644e3e1cb067a357f9a9c8486a0/expr.ipynb\"><img src=\"data:image/png;base64,iVBORw0KGgoAAAANSUhEUgAAADMAAAATBAMAAADPIygvAAAAMFBMVEX////c3NwyMjK6urpEREQi\n",
       "IiLMzMwQEBCqqqp2dnZUVFSYmJhmZmaIiIju7u4AAADlKNhoAAAAAXRSTlMAQObYZgAAAAlwSFlz\n",
       "AAAOxAAADsQBlSsOGwAAAOBJREFUKM9jYMAAm0r8VUs2MGAFDlIMVlseYJeSZGBhW4BLikdAAUXo\n",
       "SmioAlzKAVnG6B5CF9c7oIF8dzYwvAIJMOohGZjSJMDAwMlRwLAfJMAkAJcSV/0KMiGDJ4BhCVgK\n",
       "yRm7H4HoB+wXGGpBjPRQIHCASLG8BnvZ/gHbNxD9BEkX2wE/EOMQA28BiGZF9tcxERDDi4EF7HPe\n",
       "C0hST3hBJp5isIeEpQZcSoaBe4MzkPFq7nmIs185P4CFvCODi34DiD0JqtrSNRQl5DgV+Cqwxw0D\n",
       "6wWuCTikOPYexiEDADoqNycoB77qAAAAAElFTkSuQmCC\n",
       "\" style=\"display:inline;vertical-align:middle;\" /></a> <a class=\"ProveItLink\" href=\"../__pv_it/demonstrations/31729c7d5458530f15eb575fda30ccb729f1dc650/proof.ipynb\" style=\"text-decoration: none\">&nbsp;&#x22A2;&nbsp;&nbsp;</a><a class=\"ProveItLink\" href=\"../__pv_it/demonstrations/545593044b81a2ac5a1ef6d3a864357fc7487bb40/expr.ipynb\"><img src=\"data:image/png;base64,iVBORw0KGgoAAAANSUhEUgAAAYsAAAAVBAMAAABF1d8/AAAAMFBMVEX///+qqqpUVFSIiIi6urru\n",
       "7u4iIiIyMjIQEBCYmJhmZmbc3NxERER2dnbMzMwAAADprbYgAAAAAXRSTlMAQObYZgAAAAlwSFlz\n",
       "AAAOxAAADsQBlSsOGwAAA75JREFUWMOll1toE0EUhv9NsmmaTWpAUFGkpUWKorBWfFDBBhSpT10K\n",
       "IlSh8UKQghIEQX0xXtEHaVRErGJLlZYWi0Gh4AUM6pOCRgv64iUiii9qixaRQuuZ2Y1hZrduNznQ\n",
       "kv33zH7nn5mdmQVcQkMF4dg4Wz4yi7IeSLGyEhsB3a75Y+UjN3hQrag52Ev/lfwsK/5iSMK9gefA\n",
       "Gnvi4gqQ/ow8cO9uxu2qEHNYt22dnQl12RHJhpbDhziqDFtmqhLkAem6Hcq4XRWilZUwKEib7dOm\n",
       "2BPNhpjjyyKURnWv3CCc8YYMCPndktocU3+XVMd4zf6lBWmuLUnRZRtWTmgCvkngpNwg5BGpCK9X\n",
       "yBDVljh+l1THOMzSU+Xa8CXgmwIOyQ3mwxtStFGVkVXlD1dr3mrDdG+0Ka6uzcBnBJq2jT6mqb1i\n",
       "/TibAvS6qauWfHsplMgy21xsUATHgFdypcPwhrQAFjJaJ9vYlOFqNDIcTWMkrk1GlTR66LoBHVm0\n",
       "ZCMTlvswmvR+oUQz09XGD7p3ib8PSR68BBoeT0gLYCGrUxL2U32Bq3erEuR/F7D3YziBRmwM5vCw\n",
       "oJ5BmLUI0tJxBT3GUqFElrnc3cZO+lsgj8YOeENaAAuppG2Tapyrn+cw9zT8x4yQjuMwOuKoNUgI\n",
       "suU7FAcKGOAN+pPJ08kkq83M5L2855TVy6aNUg7dzbERkW2cgAdkCWAha8YkLNBlcJUtcqEctJ/0\n",
       "S6OXshbUQSTQs81ngpcs9HSrUTPlOhrn+VLiYMMTsggwkQFpNL4DL2JcZXOwQ0d0kn75x9gD8Ucl\n",
       "gU9+NsIITGKLWOIA/Gk3G7QZ3wfmye/GDnhDFgEmUkmI6rTBbDB1L9s9Mwjl8QiR3EWchTIR7Yih\n",
       "UaEjV0SH+sSXRl4skTLr3Gx8A1YDV+XRoCXJE7IIMJHVOVE9xicVqdov1l11eAr04Ws+T4PsT12L\n",
       "6EpnGHwpU6ba04GYWGIfWuUF/ENWtKF1Dg0l+PoqBq3AnpBFgIkMS+Yu832D1AAfpndraUa2jS5q\n",
       "KNC1ujSmNry/vZ4d1ujqur7wnNTTbaO3suLz6rv2Z4Sc4PT0NC08u21HSHhDFgEmMhgX1cAQHQ3/\n",
       "qTPHvhl28TeOm6xtp9cS8u1gwRuyBGDIEUfsiOvRtdvpaBhNqUcdT26246P9IGg/LP4faQEs5KAj\n",
       "dtDVRsTp0yqo+2b5GfLALj2rAKnlHL8Wc+4fEk4pyoUbs/yYcqh5ewVIR4czqGLcqeQj1u8A0PTy\n",
       "ketmUv8C87ZWJqCo9UcAAAAASUVORK5CYII=\n",
       "\" style=\"display:inline;vertical-align:middle;\" /></a></span>"
      ],
      "text/plain": [
       "{x in Real, y in Real} |- round(x + y + 1 + 2) = (round(x + y) + 3)"
      ]
     },
     "metadata": {},
     "output_type": "display_data"
    }
   ],
   "source": [
    "round_01.simplification(\n",
    "    assumptions=[InSet(x, Real), InSet(y, Real)])"
   ]
  },
  {
   "cell_type": "code",
   "execution_count": 109,
   "metadata": {},
   "outputs": [
    {
     "data": {
      "text/html": [
       "<span style=\"font-size:20px;\"><a class=\"ProveItLink\" href=\"../../ordering/__pv_it/theorems/d1323f34847310a404e8089c2c268d3c2eb89dbf0/expr.ipynb\"><img src=\"data:image/png;base64,iVBORw0KGgoAAAANSUhEUgAAADQAAAAQBAMAAACra0H4AAAAMFBMVEX///9ERES6uroQEBAyMjLc\n",
       "3NyYmJgiIiJmZmaqqqp2dnbMzMxUVFSIiIju7u4AAAAd7oVFAAAAAXRSTlMAQObYZgAAAAlwSFlz\n",
       "AAAOxAAADsQBlSsOGwAAAMtJREFUGNNjYMAAbM6CX4rFGLACRtYDTMfkcEgtYBDYg1OqlQVF6GJ5\n",
       "uQNcihFZRuUekq5zb4CMt3der5oApFn9kAzklnQFMhp4z3IUAGmWAISUSX3tA6AvAtj+8SSApJCc\n",
       "sSwPZCk3AwfYbobN5UAgADVQLg0sxnwBTD1EdvwOxgcgln4AH4hmR5bi2ArU/1DhMAMXSID3ApIU\n",
       "n8A1Bob5+5oZNMEingipBoY0RgWGF3c52yaARd4IPYCF/McARpGfyMGhJQ4JKCgAAF8xNF8aQs/g\n",
       "AAAAAElFTkSuQmCC\n",
       "\" style=\"display:inline;vertical-align:middle;\" /></a>, <a class=\"ProveItLink\" href=\"../../ordering/__pv_it/theorems/5d76fdd975252a644e3e1cb067a357f9a9c8486a0/expr.ipynb\"><img src=\"data:image/png;base64,iVBORw0KGgoAAAANSUhEUgAAADMAAAATBAMAAADPIygvAAAAMFBMVEX////c3NwyMjK6urpEREQi\n",
       "IiLMzMwQEBCqqqp2dnZUVFSYmJhmZmaIiIju7u4AAADlKNhoAAAAAXRSTlMAQObYZgAAAAlwSFlz\n",
       "AAAOxAAADsQBlSsOGwAAAOBJREFUKM9jYMAAm0r8VUs2MGAFDlIMVlseYJeSZGBhW4BLikdAAUXo\n",
       "SmioAlzKAVnG6B5CF9c7oIF8dzYwvAIJMOohGZjSJMDAwMlRwLAfJMAkAJcSV/0KMiGDJ4BhCVgK\n",
       "yRm7H4HoB+wXGGpBjPRQIHCASLG8BnvZ/gHbNxD9BEkX2wE/EOMQA28BiGZF9tcxERDDi4EF7HPe\n",
       "C0hST3hBJp5isIeEpQZcSoaBe4MzkPFq7nmIs185P4CFvCODi34DiD0JqtrSNRQl5DgV+Cqwxw0D\n",
       "6wWuCTikOPYexiEDADoqNycoB77qAAAAAElFTkSuQmCC\n",
       "\" style=\"display:inline;vertical-align:middle;\" /></a> <a class=\"ProveItLink\" href=\"../__pv_it/demonstrations/856c0e6144e1d9470b27763a009f9c75a3c7f1e70/proof.ipynb\" style=\"text-decoration: none\">&nbsp;&#x22A2;&nbsp;&nbsp;</a><a class=\"ProveItLink\" href=\"../__pv_it/demonstrations/81bc54f59d4a94ddd790e6c2998a316e76f7ebbd0/expr.ipynb\"><img src=\"data:image/png;base64,iVBORw0KGgoAAAANSUhEUgAAAYsAAAAVBAMAAABF1d8/AAAAMFBMVEX///+qqqpUVFSIiIi6urru\n",
       "7u4iIiIyMjIQEBCYmJhmZmbc3NxERER2dnbMzMwAAADprbYgAAAAAXRSTlMAQObYZgAAAAlwSFlz\n",
       "AAAOxAAADsQBlSsOGwAAA7tJREFUWMOlV1toE0EUPZtk0zSb1ICgoojFIqIorBU/rFADiuhXF0EE\n",
       "FRofBCkoQRDUH+MT/ZBGRcQqKiqWFotBoeADDOqXgkYL+uMjIoo/aosWkULrndmNdWanbnd7IWH3\n",
       "zNw998yduXsX8DADEzClczE4ZRGBHki2aCIyIqYbC6eCU67wgTpWt+cy/Wtl5eBny1PC3c5nwFI3\n",
       "PjMgJV+Cgpy4tzfSblSwSWzZ1qtG9Pn7PWUYJbxPo8Y1T88FonRst3S/AdqAGxWshYXQJUBrqhfL\n",
       "LRmR54SKiOVRe1kejhf8UUaE+R0Sujyl/xpFlfaK/eUFaLJLxmSXm4PEBhEaAo7IwzGflJpwvGKW\n",
       "iK5O49coqrR9bHouqIxQBqFhYK88PBX+KEUZNQUZ1X5ztO6N0UNjfY1pvamAkBVp3Nj3iLb2wuYB\n",
       "tgXouOmL53x94SGD+a6VhUX7gZdypD3wR+kE7BAk62UZqwocTSZ6knn0po2hpJbHJbpvQGsRq4uJ\n",
       "QUd9HI3mdQ8Ztq8k4ztxneXnIcuNh0Dp8UXpBOwQ1OYkGR9nVzh6pyZD+rcCOz7EM5iLldESHlT0\n",
       "44gzjyiVjvO4ZM3zkMF8F8gyttBvmpyNzfBH6QTsEGh516Ya4OinSUw9pf+gFTNxCFZrGrMsAqKs\n",
       "fMfSQAWd3OF6Nnssm93yj4xRxPYV58RLLCOyjMPwQUlp3H6Up9EhqOsXUGbtFkdZkYuVYPygK4MO\n",
       "5SzQAhFAz7afCR6gxxFvseqGpTmneClRyPBFWV13myAiZeMb8DzFUbYHW00kh+gq3M8eiN86AXyr\n",
       "swwjMoR1XjI6Ec6LCL2M7wFT5LOxGf4oqwHbBFpGREcsJoOhO9jbs4BYGQ+RKJ3BCWiDydYU5mrU\n",
       "ciVM6I9DeZS9ZJBvvYh8BZYAF+RsUEnyRVkN2CaoLYnoQb6pCDV+suWqxxPgCr6Uy5TkcO5iwtTa\n",
       "4uClTBvekI+kJBnvi5KMK2gpCIjR1t2d4fVVNKrAviirAdsEcUncOf7eIDTC0/S2iXbk2r4ZDRW6\n",
       "1+el9IZ3t5pZs0Z3V83pJ6WgZ7fvEoMm35tFAYmOjIxQ4dnmairhj7IasE0QTYtopJtaw7/o2LZT\n",
       "/RZXIK9Vc4yM7BCt+KMcLa2MoFf5bu/1bLc71K2hjCRz+gHVHHcj6G4W/0/pNIEOQZeyYezylJEY\n",
       "z6cVrbEZUn4l3HdDTwNR2gRGaYxvAi/TS+OSoZ2+psQVMW8KRGkTqBd1PEt9eyIfsWEFgWEGp1w2\n",
       "FvoHrQZUvo+3l3cAAAAASUVORK5CYII=\n",
       "\" style=\"display:inline;vertical-align:middle;\" /></a></span>"
      ],
      "text/plain": [
       "{x in Real, y in Real} |- round(x + 1 + y + 2) = (round(x + y) + 3)"
      ]
     },
     "metadata": {},
     "output_type": "display_data"
    }
   ],
   "source": [
    "round_01_alt.simplification(\n",
    "    assumptions=[InSet(x, Real), InSet(y, Real)])"
   ]
  },
  {
   "cell_type": "code",
   "execution_count": 110,
   "metadata": {},
   "outputs": [
    {
     "data": {
      "text/html": [
       "<span style=\"font-size:20px;\"><a class=\"ProveItLink\" href=\"../__pv_it/demonstrations/e2305f6c44c611450f9ebc35008aa6f195de02940/expr.ipynb\"><img src=\"data:image/png;base64,iVBORw0KGgoAAAANSUhEUgAAAFsAAAAVBAMAAADbSo+2AAAAMFBMVEX////MzMxUVFRERES6uroi\n",
       "IiIQEBCYmJhmZmYyMjLu7u52dnaqqqqIiIjc3NwAAACW8nlqAAAAAXRSTlMAQObYZgAAAAlwSFlz\n",
       "AAAOxAAADsQBlSsOGwAAAaZJREFUKM9jYGB4wIAJ+BhwAd4DWARZLqAJnMzPNA1OBzJOYzXkOhr/\n",
       "siIDJ8MEBgauCViVcy5A5XcATeAGuoOjAKty9gZUvh4Dl8FiIM2Gw0tZUJ+ZhkaC6AUMHAKKID/g\n",
       "UD4d4uW5cEcJMYIs7AbitZcW7oaHz9p2Bi4FBoZNYM5LhBesmBdATWng1eUIgAlvOMbA/oGBoRLM\n",
       "mQdXzbOhFkTFAL31gP0XE8zHjAdaGZgMGBiOgXmIYOOEsFOAKhg4IMLrQQHLkMvABowkebDe1NDQ\n",
       "0GCw3B1uB6AcSDkDWB4IWEGeYfnFIC/AwOAGEuAygBnOZfCYgYHpAcgxDAz+D7jgfgLadA1IHQVz\n",
       "4D5iEtAD2s7AYMvAsNhBjYEb7khmBQYjIFUM5tyFiUqwAG1WBQfYeak2Bh+4cg4Flu/QAAZ6EBa+\n",
       "VsBU8fgwA4MoA8OKuzztiGTJpX3jH5AKgXCUvSDRlTzN2OybNdB7AhgRyg0MID6oq1k2QxIBrrTE\n",
       "sJNhGe6Ux8Bgh8aPZdAGko9x5abFaPzjNxywGILIlhew5cgH2BUDAKFpWTjILYPoAAAAAElFTkSu\n",
       "QmCC\n",
       "\" style=\"display:inline;vertical-align:middle;\" /></a> <a class=\"ProveItLink\" href=\"../__pv_it/demonstrations/c43d98e6dee91bcfb4a4b55b48fef59e87a237fa0/proof.ipynb\" style=\"text-decoration: none\">&nbsp;&#x22A2;&nbsp;&nbsp;</a><a class=\"ProveItLink\" href=\"../__pv_it/demonstrations/7f9c01c3462f26e6f174bd5eaa4239dcc25f576e0/expr.ipynb\"><img src=\"data:image/png;base64,iVBORw0KGgoAAAANSUhEUgAAAMAAAAAVBAMAAADiAfyoAAAAMFBMVEX///+qqqpUVFSIiIi6urru\n",
       "7u4iIiIyMjIQEBCYmJhmZmbc3NxERER2dnbMzMwAAADprbYgAAAAAXRSTlMAQObYZgAAAAlwSFlz\n",
       "AAAOxAAADsQBlSsOGwAAAkZJREFUOMullT9oE1Ecx7/J5aXJXS69SSsiOchQHQIhLpqhRHDo5mEX\n",
       "0WIiFYdCoaM6Ff8MHQpZxEVscCh2CBwOgiAYdNPlMKCLlThU3FrRICUgfu9M8+flrj3NF+7P+/4+\n",
       "d7/37v3eO+AQ2T6eNhY4LMXwMWP5McCe0jdrPJ/wjZ0dtUKDfU2yT2LZNzRhyU5ocEAXGFSrvqFk\n",
       "TXZCgwP6wCMRELsvG6HBAd3mcTQgdks2gsH0J63O4TULJVGsImrFCleab1hguZnvjNd5zBWubvVK\n",
       "ZG4TwgTeyy8KBvVUXV/B85LW0SMrWGc7i7KNWTvV7va0pmTVyv5zzhSSu8BD77vf8GTiQPDFREV1\n",
       "sAAsfWF0GufjDbxqiVWobl1c4zzZyXZ0fwrTxgaiDWBKHkEwuD1JT2WuO1Yij7uwyiVkLBpxh9w9\n",
       "on9TAWVeBAli2JETDIDiF4ZAtxoTDWg/eKf9BjLgOGgwkfccPJCKuyUXa2OnBcz6JOiBixgCN9zO\n",
       "5aF3eKfsum/HnqCx3h05u2CL3nphJ8/wckSegwPAJXfRVpFw8BqpxgOsIdLWywamI9y+WE/zpZPQ\n",
       "ez1NmcSAR/IIgkHtp5vOxFvgCb45Dr+Ssvw4lY8sqvDKMbP9FOf6K9aM7XWrckjBYMwrrK0iv/jF\n",
       "5vFsi21xyhDZz89m6H8FLp+ObPZ3SpErdni5LicIDUqKt0YsnaWiVf4bPGyz+ohLht/WFhqU9U5q\n",
       "LyDH88sxQEnzUvuYO1kjb/sXUP6r+v30FDs8+AcCj6mpQ3nUjwAAAABJRU5ErkJggg==\n",
       "\" style=\"display:inline;vertical-align:middle;\" /></a></span>"
      ],
      "text/plain": [
       "{(x * y) in Integer} |- round(x * y) = (x * y)"
      ]
     },
     "metadata": {},
     "output_type": "display_data"
    }
   ],
   "source": [
    "from proveit.numbers import Mult\n",
    "Round(Mult(x,y)).shallow_simplification(assumptions=[InSet(Mult(x, y), Integer)])"
   ]
  },
  {
   "cell_type": "code",
   "execution_count": 113,
   "metadata": {},
   "outputs": [
    {
     "data": {
      "text/html": [
       "<span style=\"font-size:20px;\"><a class=\"ProveItLink\" href=\"../__pv_it/demonstrations/628ee46282a9090fd23f867f6cea77434eb769db0/expr.ipynb\"><img src=\"data:image/png;base64,iVBORw0KGgoAAAANSUhEUgAAAFwAAAAVBAMAAAA5lpTPAAAAMFBMVEX////MzMxUVFRERES6uroi\n",
       "IiIQEBCYmJhmZmYyMjLu7u52dnaqqqqIiIjc3NwAAACW8nlqAAAAAXRSTlMAQObYZgAAAAlwSFlz\n",
       "AAAOxAAADsQBlSsOGwAAAZ9JREFUKM9jYGB4wIAJsIlBAO8BLIK+aHz2acY/w8xBrNNYzShAE2Dm\n",
       "U2BRt2Jg4JqA1c5ZGMo3MBgIMTBwFGBVXoFFeR8nAwMbdh+xLYDQl0NDJ8CVMzMwnMSunBNiqect\n",
       "JNO1FjEwdAPZay8t3A0LH64bBQxAYW4FEIdvFpJjGG3mMTBMB7IbeHU5AqDi3DwJDPXAkAM7gfMB\n",
       "QnlmfCzQgTFAqQfsv5hgPpYBalRmYABqAilH8ur2KpAJKQwMjAwcYLO4fgKJBWwXGHKBYh9AImKh\n",
       "QGAAdYxVOUQ5MBwugI2IABH+Cxg/MjCwgE1fjByQEswQxwCVPOBaAJPoZOAFKuUB+4UVWTmHHNAe\n",
       "W6AZDmoM3HAJIwZmYKiwg53AewFJOZfBdQaGTQwM56XaGHzgypsY/IHe5tgA5sxBKG9gKGd2YBBl\n",
       "YFhxl6cdkSwX7e0HBh+rA4RjsgCWIj8/YLb8w8AqgBGjO4H4KZTtbRqKkgbZG1DVck/gygFS7biy\n",
       "hx0ql/UCE9DZfAa4lC9G5fLUtoB8hjP38V3AIngPh2IAqKZbybe36A4AAAAASUVORK5CYII=\n",
       "\" style=\"display:inline;vertical-align:middle;\" /></a> <a class=\"ProveItLink\" href=\"../__pv_it/demonstrations/df21c13d8c4e461c0335f75b4ae040a2925100c40/proof.ipynb\" style=\"text-decoration: none\">&nbsp;&#x22A2;&nbsp;&nbsp;</a><a class=\"ProveItLink\" href=\"../__pv_it/demonstrations/92a9c7cd351958004c269dd5aaca00e1c05e239e0/expr.ipynb\"><img src=\"data:image/png;base64,iVBORw0KGgoAAAANSUhEUgAAAZUAAAAVBAMAAAB8sm5kAAAAMFBMVEX///+qqqpUVFSIiIi6urru\n",
       "7u4iIiIyMjIQEBCYmJhmZmbc3NxERER2dnbMzMwAAADprbYgAAAAAXRSTlMAQObYZgAAAAlwSFlz\n",
       "AAAOxAAADsQBlSsOGwAABBVJREFUWMOVl11oE1kUx/+xmTTJNDEguBURg1pZXIpxfVi/GymU9slB\n",
       "kS1F1uhKnvwoC/uwsLBlV0H8wPgkig9BpNrSYlAQBKVFHxUMK+KLHwFRH4RtSy2LCNs9Z+7N5M5k\n",
       "JnM9cOa2N+ec35xz7z25AUKkItUrptZUI4aJr3Bweep5VUJjoS0jtEmiuaapTUFBev3tgx1Uug5Z\n",
       "MgLlwxl+rpLaLFu9E5EqPd5bniKO/15DW8nPXjiE0sPJ5quJvGAEyhypMSzUR9o9b40fyXTDH57Z\n",
       "+0h9An71s2eHcLoGeQiROcEIkugCPZIloT6SKMs/BuQ4xo8eyz37HXAauKLaOzKmQ9cg92SMfwUj\n",
       "SFIFesSl+skpOS6T44grFzl7wcLGCuKWYu/IiA5dg9yfB+USt4KjtXP230j1k9/cESPDfrmsBzbW\n",
       "0F5S7J3jMgwNugaZQn0GM9IvzckSUpvXYR+teRd6ux7soEZx+9kM95BJqfu+/+mV01PI0MgCf7sj\n",
       "Jqt+uZCcoCqTuWNfF3YIp2uQgb6SzUh1TKZGzCOYqlQ7kZhF9WHO+ILoWTy1ZAVYy21rk4W6pzDE\n",
       "JXdEu/Y+uaTnaYfzEtj2yaItWekQTtcg4+2ams24115IVmM5xF5nRrFkOJo/CvM/DJZwg60OCU1U\n",
       "EgtL6gcxzYbTQKc7Yizjn0uM3jvCR6PTsy7sEErXIcPuY8R4t5Qsb9HR6cJfiOcM4xMiCzxxjI1O\n",
       "Ck0jKTb3Qe7RtiEwwxOjxeLpYvEwH9R8I5fGLDDBL0HFFPaKsEMoXYcsWgwz9hD9HDCVozY4VUNk\n",
       "lupDExS1kQvsEFzLsuiXM7So/e7qqLkoNUvwdoryuvT75BJO1yD/AzzN2IxRype29JsKbcsecKil\n",
       "pf3z9r509hgxK4bT86hSW2hYrrXHVsGsIFKo2yvnxXYIpWuQFy3OhRm8mtTSzqMjiycJK17Fauv5\n",
       "HEVdSR88Enog/y1STkHJ8CENV90RO3J+uaSraLOQmFbsnTDsEEbXIf9p7zFimLya19BRRjKbPp/i\n",
       "hf4hUXuE5eWy7KOkq9/dxO5GM81GP8uOqUS0+y4V2D17d3x8VPbrSe/XITmE0nXIl+3vF2JEeflT\n",
       "z67TWndvur0LfcDei9i78+PaGl8VhQ5tjow1rqxG97YvNBzxrAAHWnPhl5Jr9sTiIn0nx/KKvdOs\n",
       "ySGUrkOOjtPdUjBaSawm1FtSaipmwXMyjrtMlqn/3IVi78hxaNB1yA6jpfA1rulS+AKDGeXiV79b\n",
       "ui93A95bZPNF8YoOXYccelMV8liqKj+j277Ne89y4E87c9rPvoWDStcgO4zWckCqKiu25X04MAKj\n",
       "2S/dZN/CQaVrkPUKAzMntPnna7PvnaAg2/3tgx1Uug5ZMP4HI7Vy+AgFwf4AAAAASUVORK5CYII=\n",
       "\" style=\"display:inline;vertical-align:middle;\" /></a></span>"
      ],
      "text/plain": [
       "{(x * y) in Real} |- round((x * y) + (1 + 2)) = (round(x * y) + 3)"
      ]
     },
     "metadata": {},
     "output_type": "display_data"
    }
   ],
   "source": [
    "Round(Add(Mult(x,y), Add(one, two))).simplification(assumptions=[InSet(Mult(x, y), Real)])"
   ]
  },
  {
   "cell_type": "code",
   "execution_count": null,
   "metadata": {},
   "outputs": [],
   "source": [
    "Round(Add(one, Mult(x,y), two)).simplification(assumptions=[InSet(x, Real), InSet(y, Real)])"
   ]
  },
  {
   "cell_type": "code",
   "execution_count": null,
   "metadata": {},
   "outputs": [],
   "source": [
    "# If operand is not known or assumed to be an integer\n",
    "# or a simple Add expression, we do not get an error but\n",
    "# instead the trivial self-equivalence\n",
    "Round(Mult(x,y)).shallow_simplification()"
   ]
  },
  {
   "cell_type": "code",
   "execution_count": null,
   "metadata": {},
   "outputs": [],
   "source": [
    "# If we try to nudge things along by assuming x, y in the set of Integer numbers,\n",
    "# simplification will (by design) not automatically deduce that the\n",
    "# product is an integer, so we still get the trivial self-equivalence\n",
    "Round(Mult(x,y)).simplification(\n",
    "        assumptions=[InSet(x, Integer), InSet(y, Integer)])"
   ]
  },
  {
   "cell_type": "code",
   "execution_count": null,
   "metadata": {},
   "outputs": [],
   "source": [
    "# But if we assume the entire product is an integer, the simplification\n",
    "# process will find the expected equivalence and extract out the\n",
    "# product from the round() function\n",
    "Round(Mult(x,y)).simplification(assumptions=[InSet(Mult(x, y), Integer)])"
   ]
  },
  {
   "cell_type": "markdown",
   "metadata": {},
   "source": [
    "#### Testing `bound_via_operand_bound()` for `Ceil`"
   ]
  },
  {
   "cell_type": "code",
   "execution_count": null,
   "metadata": {},
   "outputs": [],
   "source": [
    "from proveit import a, b, c, x, y, z\n",
    "from proveit.logic import InSet\n",
    "from proveit.numbers import Integer, Real\n",
    "from proveit.numbers import Less, LessEq, greater, greater_eq"
   ]
  },
  {
   "cell_type": "code",
   "execution_count": null,
   "metadata": {},
   "outputs": [],
   "source": [
    "ceil_assumptions = [InSet(a, Integer), InSet(b, Integer), InSet(c, Integer), InSet(x, Real), InSet(y, Real),\n",
    "                   Less(a, x), Less(y, b), greater(y, c)]"
   ]
  },
  {
   "cell_type": "code",
   "execution_count": null,
   "metadata": {},
   "outputs": [],
   "source": [
    "ceil_x.bound_via_operand_bound(greater(x, a), assumptions=ceil_assumptions)"
   ]
  },
  {
   "cell_type": "code",
   "execution_count": null,
   "metadata": {},
   "outputs": [],
   "source": [
    "ceil_y.bound_via_operand_bound(greater(y, c), assumptions=ceil_assumptions)"
   ]
  },
  {
   "cell_type": "code",
   "execution_count": null,
   "metadata": {},
   "outputs": [],
   "source": [
    "%end demonstrations"
   ]
  },
  {
   "cell_type": "code",
   "execution_count": null,
   "metadata": {},
   "outputs": [],
   "source": []
  }
 ],
 "metadata": {
  "kernelspec": {
   "display_name": "Python 3",
   "language": "python",
   "name": "python3"
  },
  "language_info": {
   "codemirror_mode": {
    "name": "ipython",
    "version": 3
   },
   "file_extension": ".py",
   "mimetype": "text/x-python",
   "name": "python",
   "nbconvert_exporter": "python",
   "pygments_lexer": "ipython3",
   "version": "3.7.3"
  }
 },
 "nbformat": 4,
 "nbformat_minor": 1
}
