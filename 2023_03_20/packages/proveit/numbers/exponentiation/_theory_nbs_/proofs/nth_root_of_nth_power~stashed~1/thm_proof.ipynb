{
 "cells": [
  {
   "cell_type": "markdown",
   "metadata": {},
   "source": [
    "Proof of <a class=\"ProveItLink\" href=\"../../../../../_theory_nbs_/theory.ipynb\">proveit</a>.<a class=\"ProveItLink\" href=\"../../../../_theory_nbs_/theory.ipynb\">numbers</a>.<a class=\"ProveItLink\" href=\"../../theory.ipynb\">exponentiation</a>.<a class=\"ProveItLink\" href=\"../../theorems.ipynb#nth_root_of_nth_power\">nth_root_of_nth_power</a> theorem\n",
    "========"
   ]
  },
  {
   "cell_type": "code",
   "execution_count": 1,
   "metadata": {},
   "outputs": [],
   "source": [
    "import proveit\n",
    "theory = proveit.Theory() # the theorem's theory"
   ]
  },
  {
   "cell_type": "code",
   "execution_count": 2,
   "metadata": {},
   "outputs": [
    {
     "data": {
      "text/html": [
       "Under these <a href=\"presumptions.txt\">presumptions</a>, we begin our proof of<br><strong id=\"nth_root_of_nth_power\">nth_root_of_nth_power:</strong> <a class=\"ProveItLink\" href=\"../../../__pv_it/theorems/06c231a495d14ff67e272b8ddc49236bbbc04b070/expr.ipynb\"><img src=\"data:image/png;base64,iVBORw0KGgoAAAANSUhEUgAAAO4AAAAmBAMAAAAxe7rIAAAAMFBMVEX///+IiIgiIiIQEBB2dnbu\n",
       "7u5ERETMzMzc3NwyMjK6urpmZmaYmJiqqqpUVFQAAAB6qHgnAAAAAXRSTlMAQObYZgAAAAlwSFlz\n",
       "AAAOxAAADsQBlSsOGwAAA/1JREFUWMO1WFto01AY/rOlTZp0tQMV5mWMoYjuwU4UBS/UB8V5o+oU\n",
       "RMUJGmUodiq+qRlDxRetD4oPPgz0RbzVC6irl4rXbcxVfRh4rQ9OBMEJXsa8/ifJSXvSxskJHmjz\n",
       "JydfvnP+y3dOAuCp3eDA+I6A16ZmeVDbYl5527lQwaxHWmkKH26LR95AlDn9+Luw9RXDLfPo6NcM\n",
       "Xsr+37TItTE0YG1dOHN//F9xcr+38H6xjLLhUAWw89+R6z3xhhqo9U5O4B+ZCTMtV+QdT7xD0tSq\n",
       "EjpihBpG5/crYTfkoQwYIX7BxbtHpwqULVsIoVZ0OJvgo9yQJUloI8djXLzdzNkB/K2kJ50PypNY\n",
       "Z271oiZgNwlEAxfv+wKpvk4d0DEDpmGeJ12QQp8xJjHDxTuLUXsS3gjNqCUJIMnupmdl3yCIyRHg\n",
       "y6vP+Sdk7GUJO9XDChnDcbcK/Akwqbp6Mh/vj/yTpSRsmFa+8rc7FkFpXE2ijCx2LoFGJx4RegVg\n",
       "Q5GHRotziXnl+dMyltPcDaDvVKgMX4RDULIrbq1XarXRSOGYndg+ARwEuZhcuqSEyjrLOE43SpiU\n",
       "B/r6IXTHPsA5EBbihacOtNlphsgfE1vzRaZmPtzJFvI+qbt5mOVVBszjy60kQ4lGlOKD4nAtr8Id\n",
       "D7E7v2MyhHNp1dTbCK/EmBpjeaVKrVUQYV606HzhPLq3BCxegNrcLScK/FVr80Litu3EK0S7wkkR\n",
       "FqRqUjkvpDBUggD3wmLqYqqtgLcEfXwXLD+D0m8G3HCSI752J8YXFuE+K3i9aaSlaz3PmsVcfMuv\n",
       "jtQFosPIOyzJzFem+RxEh48lhj8MvsZQJJeT9x3pbHcSaAuOZPWJdKnuM2SrR1xz0uYV9N5AZoVh\n",
       "ifK6NMPr+0Str5Ywi1lUhFURxZahy065sDqNUgihF/dWwJCYYqwvPZAcbvMGYZ0EZwxedX0Dm1cw\n",
       "nRq3dFOJpSrwXQg/77LvmOCYL+2UBuilN5gDwaOatgV56wN59Ytbg3ZN0zKCIJ5l6xeO2sta8rRp\n",
       "jHPsK6rcdJLuGGAqpCQpas5XeZyXtBEZdhjzFZSTjuXlEjX8fdaC1uko9rQLr0gHJPfBuB5TtzoA\n",
       "Kq2r9dAiJlSscCO+MMdR0910HMovS3n8OnPDPjeF9VOlUrIwNA37MNLSeB1C1tXtGXXE7GEgb0T7\n",
       "VEV01TUWvdbOn4kWn49dUDcNvlMxYXO1RuaC9eB6TWstNmp7/o+o0cyssrob73n9rwuO8vf9dTDC\n",
       "uzOrG+RFZpAXuwFe3pne9u11nDgh4o23NM6Jy3jjDSb4cBVe33+Pc6HkaV55l+pcqIxXXpnrU8Vm\n",
       "z983YD/PdxWiQX8AONUB3g3iz/4AAAAASUVORK5CYII=\n",
       "\" style=\"display:inline;vertical-align:middle;\" /></a><br>(see <a class=\"ProveItLink\" href=\"../../../__pv_it/theorems/3872b1a98fcdd1d835e11f95202c18318906eca30/dependencies.ipynb\">dependencies</a>)<br>"
      ],
      "text/plain": [
       "<IPython.core.display.HTML object>"
      ]
     },
     "metadata": {},
     "output_type": "display_data"
    },
    {
     "name": "stdout",
     "output_type": "stream",
     "text": [
      "nth_root_of_nth_power may now be readily provable (assuming required theorems are usable).  Simply execute \"%qed\".\n"
     ]
    }
   ],
   "source": [
    "%proving nth_root_of_nth_power"
   ]
  },
  {
   "cell_type": "code",
   "execution_count": null,
   "metadata": {},
   "outputs": [],
   "source": []
  }
 ],
 "metadata": {
  "kernelspec": {
   "display_name": "Python 3",
   "language": "python",
   "name": "python3"
  }
 },
 "nbformat": 4,
 "nbformat_minor": 0
}