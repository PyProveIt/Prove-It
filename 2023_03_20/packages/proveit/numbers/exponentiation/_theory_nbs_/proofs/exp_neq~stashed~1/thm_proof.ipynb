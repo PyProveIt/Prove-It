{
 "cells": [
  {
   "cell_type": "markdown",
   "metadata": {},
   "source": [
    "Proof of <a class=\"ProveItLink\" href=\"../../../../../_theory_nbs_/theory.ipynb\">proveit</a>.<a class=\"ProveItLink\" href=\"../../../../_theory_nbs_/theory.ipynb\">numbers</a>.<a class=\"ProveItLink\" href=\"../../theory.ipynb\">exponentiation</a>.<a class=\"ProveItLink\" href=\"../../theorems.ipynb#exp_neq\">exp_neq</a> theorem\n",
    "========"
   ]
  },
  {
   "cell_type": "code",
   "execution_count": 1,
   "metadata": {},
   "outputs": [],
   "source": [
    "import proveit\n",
    "theory = proveit.Theory() # the theorem's theory"
   ]
  },
  {
   "cell_type": "code",
   "execution_count": 2,
   "metadata": {},
   "outputs": [
    {
     "data": {
      "text/html": [
       "Under these <a href=\"presumptions.txt\">presumptions</a>, we begin our proof of<br><strong id=\"exp_neq\">exp_neq:</strong> <a class=\"ProveItLink\" href=\"../../../__pv_it/theorems/4933322cf5f119dbea2e82a4e57fd62f18cffcc00/expr.ipynb\"><img src=\"data:image/png;base64,iVBORw0KGgoAAAANSUhEUgAAAPsAAAAXCAMAAAD6KsltAAAARVBMVEX///8NDQ0WFhYLCwsYGBg2\n",
       "NjYbGxsSEhKIiIgiIiIQEBB2dnbu7u5ERETMzMzc3NwyMjK6urpmZmaYmJiqqqpUVFQAAAA0WiBi\n",
       "AAAAAXRSTlMAQObYZgAAAAlwSFlzAAAOxAAADsQBlSsOGwAAA1dJREFUWMPVWNeW4yAMZbtMNc3/\n",
       "/6mLAJvqMnv2wfHMZA6JJLjSVSGEfNKjujVnFph6rn/IK/JpD7gOyqKI3GY4DJ9CP+Q14Nofnzj7\n",
       "cuiO9QgNIZJOJKWYGqjkAcEavX+yvpwIfO3foeHs4CeiQk4t1PJrYIbcdZV4edhNz0uO9BWWD/yW\n",
       "fu68Wt6a7AB8mHs59pHcFNNX2wG7OGFwI0/DP5vdub4928cDamMdsKFMaX9iopFf8T9d8KHs7ZTP\n",
       "B+QAnkt2QdO2cHGIycJ7hzB8w8TCIPj/OeFltXpS0U4R2WMH8EDMMu4dg7j8/IGvB1RGHGaL3Tpp\n",
       "izxSfn/5Mg0Xthq/Qp1qF+JM35tMMozBQMMlBdoqxMGJt8/CLl1yk+9PFj0SQ/7kXJVB8EJgwwhe\n",
       "JUyxR9ifuDfJ2OBNLSYNCrfGAF/VJm16HlEMDoUeQySCgy9WOmNy/4TwQyyHR9j9g/khyVA0389r\n",
       "tERnwHEednTGhq1861u+prnEW5gNyABGhd8sG6cCv89EBTtwM8feqBPNOjOTDZOMwsMS6qacj2CC\n",
       "wtjVU75//5ayvpAssgTomLC5tecm3w7IoDBLVpfLJQlHwomQF3zIeSXATrEf6kbg8yf82cpMu2Et\n",
       "IyP2pUtoEcPDQ6p5GkvYSdjHbu/3l7bWpaMq6mcDso0bZq4ojo6CoKBthd0I1tC8WjTqO1mKmcmG\n",
       "WSZh74kdexJxm+QmKOiTFufGRmM8UsWe9UwvTwbkOul8EPaY32uMkXCJ86w5RpvvRb2QZTczbrjL\n",
       "JM5vHToZOcoNQABo3eOwh87OwIy3vUVfD8gYElULYxWSjNT5rjXjJ9izOvL59y8R+VzMtBs2MtNa\n",
       "Rxb5D1e9nTRDLVfL2cDLGWZCVDEkruLeemvHoNTj5rWuqLe3i91MNFpP2EUGYDaYWnOPfRJ2PASn\n",
       "7vZmdAy8EoUNaAbA8wqZJtZ048sR0CusLNCw6rdV3A/1dmrczUSj9YRdyYTZZvLtg7htknYS9gVS\n",
       "nnVhvxrCXL/ikZ65MSE5p9PQ3KQrdasy485kzsbd21v2MpmInQWjv+RHzftVqE/6fgKaH6/SK2ba\n",
       "LZ5MV+rOPQ8qwtF/L9gzrLSFB1e9KXZX+b2YsacyH/p80hegfwGlUjK+bNXfcAAAAABJRU5ErkJg\n",
       "gg==\n",
       "\" style=\"display:inline;vertical-align:middle;\" /></a><br>(see <a class=\"ProveItLink\" href=\"../../../__pv_it/theorems/6af123e352b2e6339db53c0185240d8a73eb99860/dependencies.ipynb\">dependencies</a>)<br>"
      ],
      "text/plain": [
       "<IPython.core.display.HTML object>"
      ]
     },
     "metadata": {},
     "output_type": "display_data"
    }
   ],
   "source": [
    "%proving exp_neq"
   ]
  },
  {
   "cell_type": "code",
   "execution_count": null,
   "metadata": {},
   "outputs": [],
   "source": []
  }
 ],
 "metadata": {
  "kernelspec": {
   "display_name": "Python 3",
   "language": "python",
   "name": "python3"
  }
 },
 "nbformat": 4,
 "nbformat_minor": 0
}