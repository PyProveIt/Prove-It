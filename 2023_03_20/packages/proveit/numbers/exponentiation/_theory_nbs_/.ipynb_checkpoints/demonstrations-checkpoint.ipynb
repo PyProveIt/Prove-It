{
 "cells": [
  {
   "cell_type": "markdown",
   "metadata": {},
   "source": [
    "Demonstrations for the theory of <a class=\"ProveItLink\" href=\"theory.ipynb\">proveit.numbers.exponentiation</a>\n",
    "========"
   ]
  },
  {
   "cell_type": "code",
   "execution_count": 1,
   "metadata": {},
   "outputs": [],
   "source": [
    "import proveit\n",
    "from proveit import Literal, used_vars, free_vars\n",
    "from proveit import a, b, c, d, f, n, x, y\n",
    "from proveit.logic import And, Boolean, InSet, NotEquals\n",
    "from proveit.numbers import zero, one, two, three, four, five, six, frac, num\n",
    "from proveit.numbers import (Integer, Natural, NaturalPos,\n",
    "                             Rational, RationalNonZero, RationalPos, Real,\n",
    "                             RealNonNeg, RealNonPos, RealPos, Complex, ComplexNonZero)\n",
    "from proveit.numbers import Add, Neg, Div, Exp, greater, greater_eq, Mult, sqrt, subtract\n",
    "from proveit.numbers.exponentiation import sqrt_of_prod\n",
    "%begin demonstrations"
   ]
  },
  {
   "cell_type": "markdown",
   "metadata": {},
   "source": [
    "# Exponentiation (Exp) $x^{y}$"
   ]
  },
  {
   "cell_type": "markdown",
   "metadata": {},
   "source": [
    "<div style=\"line-height:1.4; font-size:14pt\">\n",
    "\n",
    "<a href='#introduction'>Introduction</a><br>\n",
    "<a href='#simple_expressions'>Simple Expressions involving Exponentiation $x^y$</a><br>\n",
    "<a href='#common_attributes'>Common Attributes of the Exp $x^y$ Expression</a><br>\n",
    "<a href='#axioms'>Axioms</a><br>\n",
    "<a href='#theorems'>Theorems</a><br>\n",
    "<a href='#further_demonstrations'>Further Demonstrations</a><br>\n",
    "    <ol>\n",
    "        <li><a href='#demo01'>TBA</a></li>\n",
    "        <li><a href='#demo02'>TBA</a></li>\n",
    "        <li><a href='#demo03'>TBA</a></li>\n",
    "    </ol>\n",
    "\n",
    "</div>\n"
   ]
  },
  {
   "cell_type": "markdown",
   "metadata": {},
   "source": [
    "## Introduction <a id='introduction'></a>"
   ]
  },
  {
   "cell_type": "markdown",
   "metadata": {},
   "source": [
    "<font size=4>The `Exp` class allows us to represent exponentiation expressions such as $2^3$, $x^y$, or $(x-3)^2$. This ``_demonstrations_`` notebook explores the `Exp` (exponentiation) class, its axioms and common theorems, and related methods.</font>"
   ]
  },
  {
   "cell_type": "markdown",
   "metadata": {},
   "source": [
    "## Simple Expressions Involving Exponentiation $x^y$<a id='simple_expressions'></a>"
   ]
  },
  {
   "cell_type": "markdown",
   "metadata": {},
   "source": [
    "<font size=4>It is straightforward to construct expressions involving exponentiation. Here are some basic examples of such expressions:</font>"
   ]
  },
  {
   "cell_type": "code",
   "execution_count": 2,
   "metadata": {},
   "outputs": [
    {
     "data": {
      "text/html": [
       "<a class=\"ProveItLink\" href=\"../__pv_it/demonstrations/b5e08413b9b59527a933ba3c0d66b0a3bb6965700/expr.ipynb\"><img src=\"data:image/png;base64,iVBORw0KGgoAAAANSUhEUgAAABUAAAAQBAMAAAAL9CkWAAAAMFBMVEX///9ERES6uroQEBAyMjLc\n",
       "3NyYmJgiIiJmZmaqqqp2dnbMzMxUVFSIiIju7u4AAAAd7oVFAAAAAXRSTlMAQObYZgAAAAlwSFlz\n",
       "AAAOxAAADsQBlSsOGwAAAHhJREFUCNdjYAADpjsMPAxQ8Jb/wWYYO246w0UYm+EUw1k4u4jBGs6u\n",
       "ZvoAZ89IdAAZcef1qgl8AYwJQHYD71mOAp4LKkAmWwDbP54EptwFQDY3A4cDXBcD8wUEWz+A7wGE\n",
       "9VDhMAMXVHT+vmYGTSj7xV3OtgkQJgC9ux3MfEFFCgAAAABJRU5ErkJggg==\n",
       "\" style=\"display:inline;vertical-align:middle;\" /></a>"
      ],
      "text/plain": [
       "x^{y}"
      ]
     },
     "metadata": {},
     "output_type": "display_data"
    }
   ],
   "source": [
    "# basic expression with exponent\n",
    "Exp(x, y)"
   ]
  },
  {
   "cell_type": "code",
   "execution_count": 3,
   "metadata": {},
   "outputs": [
    {
     "data": {
      "text/html": [
       "<strong id=\"example1\">example1:</strong> <a class=\"ProveItLink\" href=\"../__pv_it/demonstrations/82407e6e66369dd078a8b533a1f7e5a4e064e24e0/expr.ipynb\"><img src=\"data:image/png;base64,iVBORw0KGgoAAAANSUhEUgAAABQAAAATBAMAAABiojCGAAAAMFBMVEX///9ERES6uroQEBAyMjLc\n",
       "3NyYmJgiIiJmZmaqqqp2dnbMzMxUVFSIiIju7u4AAAAd7oVFAAAAAXRSTlMAQObYZgAAAAlwSFlz\n",
       "AAAOxAAADsQBlSsOGwAAAHhJREFUCNdjYAADvlVnHkBYDBwMHAVQJr8C628ok+0BnMnAwFUAZ26H\n",
       "aWNglYMLRjCEwgSld/dBmcz//39gYHh75/WqCRCBBt6zUJvYAtj+8SSAmdwMHA5wc5gvwJn6AXwQ\n",
       "mx4qHGbggojN39fMoAlhvrjL2QYxFgAnFB4JFxs8BAAAAABJRU5ErkJggg==\n",
       "\" style=\"display:inline;vertical-align:middle;\" /></a><br>"
      ],
      "text/plain": [
       "<IPython.core.display.HTML object>"
      ]
     },
     "metadata": {},
     "output_type": "display_data"
    },
    {
     "data": {
      "text/html": [
       "<strong id=\"example2\">example2:</strong> <a class=\"ProveItLink\" href=\"../__pv_it/demonstrations/ca958b3bf75de4d8fcb9ef08edad511a2c27700e0/expr.ipynb\"><img src=\"data:image/png;base64,iVBORw0KGgoAAAANSUhEUgAAABEAAAATBAMAAACEi/vCAAAAMFBMVEX///+qqqqYmJiIiIgiIiLu\n",
       "7u4QEBBUVFS6urp2dnbMzMxEREQyMjJmZmbc3NwAAADzFso2AAAAAXRSTlMAQObYZgAAAAlwSFlz\n",
       "AAAOxAAADsQBlSsOGwAAAH1JREFUCNdjYACBR8JVDBBQyWAGZa1imMIAA04who0BAwPf3dMLGBhY\n",
       "NzMwvGbg/AEUXL+AoY6BIY01i+G9AkN+AEP9A1cGtQCGEgaG+gUrjevAGv1hJnB9hrFYCmCs2zAG\n",
       "E1xIkoHvAUT9BAbmADDryd27VyCS/v///wEzAIz2HjjIkbnGAAAAAElFTkSuQmCC\n",
       "\" style=\"display:inline;vertical-align:middle;\" /></a><br>"
      ],
      "text/plain": [
       "<IPython.core.display.HTML object>"
      ]
     },
     "metadata": {},
     "output_type": "display_data"
    },
    {
     "data": {
      "text/html": [
       "<strong id=\"example3\">example3:</strong> <a class=\"ProveItLink\" href=\"../__pv_it/demonstrations/2b1a4e9f0821437e5694daa75c40cf5cb282afa20/expr.ipynb\"><img src=\"data:image/png;base64,iVBORw0KGgoAAAANSUhEUgAAADUAAAATBAMAAADCPVhoAAAAMFBMVEX///+qqqpERES6urqYmJgQ\n",
       "EBDc3Nx2dnaIiIgyMjJmZmZUVFTu7u4iIiLMzMwAAACFobtaAAAAAXRSTlMAQObYZgAAAAlwSFlz\n",
       "AAAOxAAADsQBlSsOGwAAAJpJREFUKM9jYMAOjlfvYcAFFjCsxSn3mSH/AS45HzxyDAy1QMx3B6sU\n",
       "SPj0yj9Y5ZIOAAkOrHJsC9gScMklvXt1AJdc/P//2Mxk297WAGViyJkmMP3BIccTwsB1AUWOZ+5d\n",
       "EACGBdcHBt4CHPpYFRjOG+CQO9/A4M+AS06AYSdjAoTN/g1VjqmB8RYXhMm99ecWVHfuqMvuA7MA\n",
       "7UI1P9bUTHEAAAAASUVORK5CYII=\n",
       "\" style=\"display:inline;vertical-align:middle;\" /></a><br>"
      ],
      "text/plain": [
       "<IPython.core.display.HTML object>"
      ]
     },
     "metadata": {},
     "output_type": "display_data"
    }
   ],
   "source": [
    "# exponentials involving variables and numbers\n",
    "example1, example2, example3 = Exp(x, two), Exp(two, three), subtract(one, Exp(a, two))"
   ]
  },
  {
   "cell_type": "code",
   "execution_count": 4,
   "metadata": {},
   "outputs": [
    {
     "data": {
      "text/html": [
       "<a class=\"ProveItLink\" href=\"../__pv_it/demonstrations/d52acb685eb88130426ba05ab36ed970406b9fa30/expr.ipynb\"><img src=\"data:image/png;base64,iVBORw0KGgoAAAANSUhEUgAAAFMAAAAZBAMAAAC/Xw85AAAAMFBMVEX///8QEBCYmJiIiIgiIiJ2\n",
       "dnbu7u6qqqpmZma6uroyMjLc3NxERETMzMxUVFQAAAAAjhhvAAAAAXRSTlMAQObYZgAAAAlwSFlz\n",
       "AAAOxAAADsQBlSsOGwAAAZdJREFUOMtjYICB9//xgw9wlbwPGIgFPBeIVnqHaJUMb4GYG6fsBiQ2\n",
       "9wIgYY5T6WQkNt8EBgb2AGyquDvWXGBgVkAI7ALiLKwG7mFg/cnAsAwh0A7ETShKOKEGvWZgEGRg\n",
       "0ICLs4GcKoCilN0AQssnMLzfwMCYABNnLQDKLcCq9AkwIi8wcMEdmwLEHEBfsRk/uxqOqhQI/IFm\n",
       "gSIzDcQxAmKQRg4GO4MWdKW8nxkYmIBW8kqAeA5AzAJ0hDaDfsIjdKUsQBPZgR4pPw/kMIOEGYFB\n",
       "e4GhCyzL4eLiKOLiAklCPSCTQQlrPtBeFgaoUgYGYXRvMTCBNHCCgocFaLkqA9QBDJy/IY5HUlrK\n",
       "wL2BgR3kRCZgXLiBk6EBA9tJPgGGAFSlvAEMzAkMTAdA7D/QyAeGB/vfDAHOAlSlWzo6WiAhycDQ\n",
       "v4ELHBW8DgxszQYV6mhu9f///xfQdWCP7G+YARH0xRpbULMhWeXDaghXA2tygQBIUuL8B82BPBtw\n",
       "Jm3uA1DXQJWwHcCdSaFK9GACm3EqtQZiAGGRb/HBg4sCAAAAAElFTkSuQmCC\n",
       "\" style=\"display:inline;vertical-align:middle;\" /></a>"
      ],
      "text/plain": [
       "sqrt((x + 2))"
      ]
     },
     "metadata": {},
     "output_type": "display_data"
    }
   ],
   "source": [
    "# A sqrt portrayed with a radical is produced using the special sqrt() call,\n",
    "# which invokes the Exp() class behind the scenes with special formatting\n",
    "sqrt(Add(x, two))"
   ]
  },
  {
   "cell_type": "markdown",
   "metadata": {},
   "source": [
    "## Common Attributes of a Subset expression <a id='common_attributes'></a>"
   ]
  },
  {
   "cell_type": "markdown",
   "metadata": {},
   "source": [
    "<font size=4>Let's define a simple example exponential expression, $(x-y)^2$, and look at some of its attributes.</font>"
   ]
  },
  {
   "cell_type": "code",
   "execution_count": 5,
   "metadata": {},
   "outputs": [
    {
     "data": {
      "text/html": [
       "<strong id=\"x_minus_y_quantity_squared\">x_minus_y_quantity_squared:</strong> <a class=\"ProveItLink\" href=\"../__pv_it/demonstrations/cd3165cf78384145de1f9fb53eb60ed0226944bd0/expr.ipynb\"><img src=\"data:image/png;base64,iVBORw0KGgoAAAANSUhEUgAAAEYAAAAaBAMAAAD4TDc7AAAAMFBMVEX////MzMxUVFRERES6uroi\n",
       "IiIQEBCYmJhmZmYyMjLu7u52dnaqqqqIiIjc3NwAAACW8nlqAAAAAXRSTlMAQObYZgAAAAlwSFlz\n",
       "AAAOxAAADsQBlSsOGwAAAUBJREFUKM9jYMAPuHYrLSCghIGDgSOAkBp+B76PhNSwLyCshoGBG2TX\n",
       "A1yyfGBSFOhm3gO41LBcACm0AhKncVtzHYhfMLxj4JqAWw3nAgY+Q8EuBo4CPJ5qYGD7//8DAxs+\n",
       "P2VBqJP41EyHUN1AvPbSwt2ovlvbzsClwMCwCaG0gVcXLVY2HGNg/8DAUAnhxQCd9oD9FxOK0xkP\n",
       "tDIwGTAwHINwU4AiDBzgAOCaGgoCAkAWQy4DGzAE5eFqGMB81CD+xSAPVOsGt4uBwf8BF2pKAhp8\n",
       "DUgdhfBsGRgWO6gxcKOaw6zAYASkiiE8oPfOS7Ux+KAlPwWW79CAAUU9A8OKuzztaJHPpX3jH5AK\n",
       "gfBYBXAkLaBX+QLg8YYF7GRYBjQZHt922NTEMmgDyccw7mJsao7fcEDWzncBV6zzQlM6AGoeRYr6\n",
       "Ku7ZAAAAAElFTkSuQmCC\n",
       "\" style=\"display:inline;vertical-align:middle;\" /></a><br>"
      ],
      "text/plain": [
       "<IPython.core.display.HTML object>"
      ]
     },
     "metadata": {},
     "output_type": "display_data"
    }
   ],
   "source": [
    "x_minus_y_quantity_squared = Exp(subtract(x,y), two)"
   ]
  },
  {
   "cell_type": "code",
   "execution_count": 6,
   "metadata": {},
   "outputs": [
    {
     "data": {
      "text/html": [
       "<table><tr><th>&nbsp;</th><th>core type</th><th>sub-expressions</th><th>expression</th></tr>\n",
       "<tr><td>0</td><td>Operation</td><td>operator:&nbsp;1<br>operands:&nbsp;2<br></td><td><a class=\"ProveItLink\" href=\"../__pv_it/demonstrations/cd3165cf78384145de1f9fb53eb60ed0226944bd0/expr.ipynb\"><img src=\"data:image/png;base64,iVBORw0KGgoAAAANSUhEUgAAAEYAAAAaBAMAAAD4TDc7AAAAMFBMVEX////MzMxUVFRERES6uroi\n",
       "IiIQEBCYmJhmZmYyMjLu7u52dnaqqqqIiIjc3NwAAACW8nlqAAAAAXRSTlMAQObYZgAAAAlwSFlz\n",
       "AAAOxAAADsQBlSsOGwAAAUBJREFUKM9jYMAPuHYrLSCghIGDgSOAkBp+B76PhNSwLyCshoGBG2TX\n",
       "A1yyfGBSFOhm3gO41LBcACm0AhKncVtzHYhfMLxj4JqAWw3nAgY+Q8EuBo4CPJ5qYGD7//8DAxs+\n",
       "P2VBqJP41EyHUN1AvPbSwt2ovlvbzsClwMCwCaG0gVcXLVY2HGNg/8DAUAnhxQCd9oD9FxOK0xkP\n",
       "tDIwGTAwHINwU4AiDBzgAOCaGgoCAkAWQy4DGzAE5eFqGMB81CD+xSAPVOsGt4uBwf8BF2pKAhp8\n",
       "DUgdhfBsGRgWO6gxcKOaw6zAYASkiiE8oPfOS7Ux+KAlPwWW79CAAUU9A8OKuzztaJHPpX3jH5AK\n",
       "gfBYBXAkLaBX+QLg8YYF7GRYBjQZHt922NTEMmgDyccw7mJsao7fcEDWzncBV6zzQlM6AGoeRYr6\n",
       "Ku7ZAAAAAElFTkSuQmCC\n",
       "\" style=\"display:inline;vertical-align:middle;\" /></a></td></tr>\n",
       "<tr><td>1</td><td>Literal</td><td></td><td><a class=\"ProveItLink\" href=\"../__pv_it/common/0ac37aca1e54c35c5cda09672df32d4f69f1f3020/expr.ipynb\"><img src=\"data:image/png;base64,iVBORw0KGgoAAAANSUhEUgAAACgAAAASBAMAAADbMYGVAAAAMFBMVEX///+qqqrc3NyYmJjMzMxm\n",
       "Zmbu7u52dna6uroyMjIiIiJUVFQQEBBERESIiIgAAAD3YE8vAAAAAXRSTlMAQObYZgAAAAlwSFlz\n",
       "AAAOxAAADsQBlSsOGwAAAOtJREFUGNNjYGB4e+b27ltnGdDATyB+iybG8R1IpKIJsv8AEnlogpwf\n",
       "GPgYWNAE+S8wNAMptnfb3AsZ/Lb5VScAef2r934CUqwMrx9EMRTsFGC/AOTVOzAtAFJGDPYJm1kE\n",
       "ZjMwfwDy5jMwFDAkMDgwRALNYPjIwPcNKPiXgUGB7QGQcQ7kvm8MvAeA1D8gmw9oOMcnhjQG9gUM\n",
       "/AFAZ34BCmozsN3gPgA0hjOAwQaogAtoLscJBsYvqQc4BBjyLzAtYWDInv97997zExjY4h6IGjIw\n",
       "yPs9V0APG5ALMMFyLGJsH7EISv40AJIAAMQ99ZFvAb0AAAAASUVORK5CYII=\n",
       "\" style=\"display:inline;vertical-align:middle;\" /></a></td></tr>\n",
       "<tr><td>2</td><td>ExprTuple</td><td>3, 4</td><td><a class=\"ProveItLink\" href=\"../__pv_it/demonstrations/66513cdd7d8394021cc5cf7117a3891589a6a1690/expr.ipynb\"><img src=\"data:image/png;base64,iVBORw0KGgoAAAANSUhEUgAAAE8AAAAVBAMAAAD1D64kAAAAMFBMVEX////MzMxUVFRERES6uroi\n",
       "IiIQEBCYmJhmZmYyMjLu7u52dnaqqqqIiIjc3NwAAACW8nlqAAAAAXRSTlMAQObYZgAAAAlwSFlz\n",
       "AAAOxAAADsQBlSsOGwAAAWRJREFUKM+Fk79LAlEcwD/+PLvz5JaWlm6pRUppL/wDilzcCh2iLXJs\n",
       "FMIUWoSIoOkiiBZB2qLFqQiHpCFcioNwdwgioew9O5WLw/vC+/L9Pj7v++u9B9j4yhDRm/7ghlSt\n",
       "6UyiemKgF0GtTQff0T7gHGLF6eAy7MIBRH3K27dI2UQtHn3ABUgZzBQ5Fk79+eLO3Xu9gmqOnDxo\n",
       "JmfCKulLsawLbNyj9Bw78A1KjS2hbaUfdPUUaJYJph0nIkLHC+yIbWLDGamnOSmGsNgj2nbAQ3my\n",
       "J0EmmyMJ95k3/kxF1houyNSwaauWCxQpXhyzRcImnmUVLjOLaO6IIZMVkIcDDXQLJc0NPM0dse4G\n",
       "Y2b4E/VLWN1qtSz8BrNw/Rqv/HtCarLzAzkRMj8YCD6SIWJ434gmBhEfF94VTZW8sFuuRI5J4RWx\n",
       "1rzAbZLyIsePUg7/0gt86GSEHk83JP9Cou3/Fd7gF4QVT+FbjRwCAAAAAElFTkSuQmCC\n",
       "\" style=\"display:inline;vertical-align:middle;\" /></a></td></tr>\n",
       "<tr><td>3</td><td>Operation</td><td>operator:&nbsp;5<br>operands:&nbsp;6<br></td><td><a class=\"ProveItLink\" href=\"../__pv_it/demonstrations/d53880254fcf8f27e725a455efc285f171faad850/expr.ipynb\"><img src=\"data:image/png;base64,iVBORw0KGgoAAAANSUhEUgAAADAAAAANBAMAAAAdyPDHAAAAMFBMVEX///9ERES6uroQEBAyMjLc\n",
       "3NyYmJgiIiJmZmaqqqp2dnbMzMxUVFSIiIju7u4AAAAd7oVFAAAAAXRSTlMAQObYZgAAAAlwSFlz\n",
       "AAAOxAAADsQBlSsOGwAAAJ9JREFUGNNjYHh75/WqCQzI4G0bA98BBoYG3rMcBSgSCyYzsH1gYAtg\n",
       "+8eTgCzOPaGdgUeAgZuBwwHE5XMvB4ENQBaDLQPzBaAQmEAGTP8Y9gMVMOgH8D1AkQAacZmB4aHC\n",
       "YQYuVB2MBxhkGBjm72tm0ESV4DjA9I2B4cVdzjZUbzDwnbrxlQE74HLAKryE4fEErBK1DKewGzTt\n",
       "hgIDAwD7zij1v91mjAAAAABJRU5ErkJggg==\n",
       "\" style=\"display:inline;vertical-align:middle;\" /></a></td></tr>\n",
       "<tr><td>4</td><td>Literal</td><td></td><td><a class=\"ProveItLink\" href=\"../../numerals/__pv_it/common/af4aab8a07465db063742696e006d04670f30cf10/expr.ipynb\"><img src=\"data:image/png;base64,iVBORw0KGgoAAAANSUhEUgAAAAkAAAAOBAMAAAAPuiubAAAAMFBMVEX///+qqqqYmJiIiIgiIiLu\n",
       "7u4QEBBUVFS6urp2dnbMzMxEREQyMjJmZmbc3NwAAADzFso2AAAAAXRSTlMAQObYZgAAAAlwSFlz\n",
       "AAAOxAAADsQBlSsOGwAAAE9JREFUCNdj4Lt7egEDw2sGzh8MDHUMDGkMDPkBDPUPGEoYGOqBEgwM\n",
       "/iCC6zOIZCkAkbdBBBOYKcnA94CBawIDcwDDk7t3rwAV////hwEAK9UUlDYDfx8AAAAASUVORK5C\n",
       "YII=\n",
       "\" style=\"display:inline;vertical-align:middle;\" /></a></td></tr>\n",
       "<tr><td>5</td><td>Literal</td><td></td><td><a class=\"ProveItLink\" href=\"../../addition/__pv_it/common/4b7effaab3619a1c2c38fe2dee8601df8ec714590/expr.ipynb\"><img src=\"data:image/png;base64,iVBORw0KGgoAAAANSUhEUgAAAA4AAAAOBAMAAADtZjDiAAAAHlBMVEX///9UVFQQEBAiIiJmZmaI\n",
       "iIiqqqqYmJi6uroAAAAAFVhYAAAAAXRSTlMAQObYZgAAAAlwSFlzAAAOxAAADsQBlSsOGwAAAB9J\n",
       "REFUCNdjYGBgaGeAgFRiaGdjYyVjY0Oi1SPRIHsAgDEGyG9xCpgAAAAASUVORK5CYII=\n",
       "\" style=\"display:inline;vertical-align:middle;\" /></a></td></tr>\n",
       "<tr><td>6</td><td>ExprTuple</td><td>7, 8</td><td><a class=\"ProveItLink\" href=\"../__pv_it/demonstrations/2b2b8ed3e540d542604db8f9dfc894166db266d70/expr.ipynb\"><img src=\"data:image/png;base64,iVBORw0KGgoAAAANSUhEUgAAADwAAAAVBAMAAADocZC/AAAAMFBMVEX////MzMxUVFRERES6uroi\n",
       "IiIQEBCYmJhmZmYyMjLu7u52dnaqqqqIiIjc3NwAAACW8nlqAAAAAXRSTlMAQObYZgAAAAlwSFlz\n",
       "AAAOxAAADsQBlSsOGwAAAR5JREFUKM9jYGB4wIAD8IEI3gO4pFkuAInTDDjBdQYGrgm4pTkXMHAU\n",
       "4JZmb2BgY8ADshhO4pOeztANJNdeWrgb1f1r2xm4FBgYNgEVMDA08OpyBKBIbzjGwP6BgaGSIQbo\n",
       "ggfsv5hQXMh4oJWByYCB4RhDCpDDwAHz3cpQEAjkYshlYAMGijxImgHMRA2wXwzyAgwMbiDDGRj8\n",
       "H3AtQJEGGncNSB1lsGVgWOygxsDNwICsgFmBwQhIFQPdznBeqo3Bh4HrJ7JuBZbvQKqbQZSBYcVd\n",
       "nnagt0ORtHNp3/gHpEIYWAVgQjwo1nMDPcMXAAp2mACS5E6GZUDzQNFlBw9IJOlYBm0g+RiIF8OE\n",
       "kP1+/IYDA0Qn3wVc8cX7gAEACpE+ylUywdEAAAAASUVORK5CYII=\n",
       "\" style=\"display:inline;vertical-align:middle;\" /></a></td></tr>\n",
       "<tr><td>7</td><td>Variable</td><td></td><td><a class=\"ProveItLink\" href=\"../../../__pv_it/common/a0d9d672aa5e272d907247690c152cc2c6daafb70/expr.ipynb\"><img src=\"data:image/png;base64,iVBORw0KGgoAAAANSUhEUgAAAAsAAAAJBAMAAAAWSsseAAAAMFBMVEX///9ERES6uroQEBAyMjLc\n",
       "3NyYmJgiIiJmZmaqqqp2dnbMzMxUVFSIiIju7u4AAAAd7oVFAAAAAXRSTlMAQObYZgAAAAlwSFlz\n",
       "AAAOxAAADsQBlSsOGwAAAENJREFUCNdjYHh75/WqCQwMDbxnOQoY2ALY/vEkMHAzcDgwgADzBTCl\n",
       "H8D3gOGhwmEGLgaG+fuaGTQZGF7c5WybwAAAJTwQ1a2DuB8AAAAASUVORK5CYII=\n",
       "\" style=\"display:inline;vertical-align:middle;\" /></a></td></tr>\n",
       "<tr><td>8</td><td>Operation</td><td>operator:&nbsp;9<br>operand:&nbsp;11<br></td><td><a class=\"ProveItLink\" href=\"../__pv_it/demonstrations/0a7cbf2fc5de552bc7ef54920ebff976c4d732640/expr.ipynb\"><img src=\"data:image/png;base64,iVBORw0KGgoAAAANSUhEUgAAABoAAAANBAMAAABFt2PeAAAAMFBMVEX////c3Ny6urpEREQQEBCq\n",
       "qqp2dnZUVFSYmJhmZmaIiIjMzMwiIiIyMjLu7u4AAACNnmIlAAAAAXRSTlMAQObYZgAAAAlwSFlz\n",
       "AAAOxAAADsQBlSsOGwAAAGNJREFUCNdjYICCVzMY+ApgHIaEEAaODzAOd8AcBnYDhrdnQOA0H4MX\n",
       "A8sCuEqmfwz7N8B5nBcYlsA5DMwFDOYIHmcB0w8Ej69s5UcGJMB2AcHOZXgSgOCdYihDUhexUoGB\n",
       "AQDO2BiKcZOd3AAAAABJRU5ErkJggg==\n",
       "\" style=\"display:inline;vertical-align:middle;\" /></a></td></tr>\n",
       "<tr><td>9</td><td>Literal</td><td></td><td><a class=\"ProveItLink\" href=\"../../negation/__pv_it/common/221b3c4d1770ee9051b7c044c3f9ec61196fc34b0/expr.ipynb\"><img src=\"data:image/png;base64,iVBORw0KGgoAAAANSUhEUgAAAA4AAAABBAMAAAAcMII3AAAAElBMVEX////MzMwiIiIyMjLu7u4A\n",
       "AADe/Ps1AAAAAXRSTlMAQObYZgAAAAlwSFlzAAAOxAAADsQBlSsOGwAAAA1JREFUCNdjcFYCAUUA\n",
       "BKYBD24TAeoAAAAASUVORK5CYII=\n",
       "\" style=\"display:inline;vertical-align:middle;\" /></a></td></tr>\n",
       "<tr><td>10</td><td>ExprTuple</td><td>11</td><td><a class=\"ProveItLink\" href=\"../__pv_it/demonstrations/c60c4da4d0e362e1aae93eaa5e9af5fbed84db960/expr.ipynb\"><img src=\"data:image/png;base64,iVBORw0KGgoAAAANSUhEUgAAABcAAAAVBAMAAABfzGiYAAAAMFBMVEX////MzMxUVFRERES6uroi\n",
       "IiIQEBCYmJhmZmYyMjLu7u52dnaqqqqIiIjc3NwAAACW8nlqAAAAAXRSTlMAQObYZgAAAAlwSFlz\n",
       "AAAOxAAADsQBlSsOGwAAAMhJREFUGNM9j7sOwWAYhh+HVlUrFptB4gbETtyA1AUYOhhJOlqEiETE\n",
       "oJvE1NQNiM0gsYqlo0ksdu7A97f4k+/w/Hm/E/AgfnGwzwl0lLsmObYHpv8FtmB4PxiB/svRAy5/\n",
       "yHuspOzmEUKhyka85TKBnE8PKkaXGshXHwI9YgiplwKcIPWGrKtkLLFdkXVpCjTIVKVBnYPADEf2\n",
       "MPaUBcLTWg7Q2mglNf0o9hTllIJvDgQWYi20KL2HYl1ghzWeS8you4tRsvQdPnYWJrHV7rUtAAAA\n",
       "AElFTkSuQmCC\n",
       "\" style=\"display:inline;vertical-align:middle;\" /></a></td></tr>\n",
       "<tr><td>11</td><td>Variable</td><td></td><td><a class=\"ProveItLink\" href=\"../../../__pv_it/common/ff7dba4ef0bbe791ab573bf2d9c220a304399ac80/expr.ipynb\"><img src=\"data:image/png;base64,iVBORw0KGgoAAAANSUhEUgAAAAsAAAANBAMAAACN24kIAAAAMFBMVEX////c3NwyMjK6urpEREQi\n",
       "IiLMzMwQEBCqqqp2dnZUVFSYmJhmZmaIiIju7u4AAADlKNhoAAAAAXRSTlMAQObYZgAAAAlwSFlz\n",
       "AAAOxAAADsQBlSsOGwAAAFhJREFUCNdj4LuzgeEVAwMnRwHDfgaGDJ4AhiUMDA/YLzDUMjAw2D9g\n",
       "+wakDjHwFgApLwaWBUDqFIP9BiD1au55AQYQmATEnAp8FUCK9QLXBCDFsfcwkAQA5QkUAIef7yAA\n",
       "AAAASUVORK5CYII=\n",
       "\" style=\"display:inline;vertical-align:middle;\" /></a></td></tr>\n",
       "</table>\n"
      ],
      "text/plain": [
       "0. (x - y)^{2}\n",
       "   core type: Operation\n",
       "   operator: 1\n",
       "   operands: 2\n",
       "1. Exp\n",
       "   core type: Literal\n",
       "   sub-expressions: \n",
       "2. (x - y, 2)\n",
       "   core type: ExprTuple\n",
       "   sub-expressions: 3, 4\n",
       "3. x - y\n",
       "   core type: Operation\n",
       "   operator: 5\n",
       "   operands: 6\n",
       "4. 2\n",
       "   core type: Literal\n",
       "   sub-expressions: \n",
       "5. +\n",
       "   core type: Literal\n",
       "   sub-expressions: \n",
       "6. (x, -y)\n",
       "   core type: ExprTuple\n",
       "   sub-expressions: 7, 8\n",
       "7. x\n",
       "   core type: Variable\n",
       "   sub-expressions: \n",
       "8. -y\n",
       "   core type: Operation\n",
       "   operator: 9\n",
       "   operand: 11\n",
       "9. -\n",
       "   core type: Literal\n",
       "   sub-expressions: \n",
       "10. (y)\n",
       "    core type: ExprTuple\n",
       "    sub-expressions: 11\n",
       "11. y\n",
       "    core type: Variable\n",
       "    sub-expressions: "
      ]
     },
     "metadata": {},
     "output_type": "display_data"
    }
   ],
   "source": [
    "x_minus_y_quantity_squared.expr_info()"
   ]
  },
  {
   "cell_type": "markdown",
   "metadata": {},
   "source": [
    "<font size=4>We can access the base and exponent separately, and identify the `Exp` operator as the outermost operation:</font>"
   ]
  },
  {
   "cell_type": "code",
   "execution_count": 7,
   "metadata": {},
   "outputs": [
    {
     "data": {
      "text/html": [
       "<a class=\"ProveItLink\" href=\"../__pv_it/demonstrations/d53880254fcf8f27e725a455efc285f171faad850/expr.ipynb\"><img src=\"data:image/png;base64,iVBORw0KGgoAAAANSUhEUgAAADAAAAANBAMAAAAdyPDHAAAAMFBMVEX///9ERES6uroQEBAyMjLc\n",
       "3NyYmJgiIiJmZmaqqqp2dnbMzMxUVFSIiIju7u4AAAAd7oVFAAAAAXRSTlMAQObYZgAAAAlwSFlz\n",
       "AAAOxAAADsQBlSsOGwAAAJ9JREFUGNNjYHh75/WqCQzI4G0bA98BBoYG3rMcBSgSCyYzsH1gYAtg\n",
       "+8eTgCzOPaGdgUeAgZuBwwHE5XMvB4ENQBaDLQPzBaAQmEAGTP8Y9gMVMOgH8D1AkQAacZmB4aHC\n",
       "YQYuVB2MBxhkGBjm72tm0ESV4DjA9I2B4cVdzjZUbzDwnbrxlQE74HLAKryE4fEErBK1DKewGzTt\n",
       "hgIDAwD7zij1v91mjAAAAABJRU5ErkJggg==\n",
       "\" style=\"display:inline;vertical-align:middle;\" /></a>"
      ],
      "text/plain": [
       "x - y"
      ]
     },
     "metadata": {},
     "output_type": "display_data"
    }
   ],
   "source": [
    "x_minus_y_quantity_squared.base"
   ]
  },
  {
   "cell_type": "code",
   "execution_count": 8,
   "metadata": {},
   "outputs": [
    {
     "data": {
      "text/html": [
       "<a class=\"ProveItLink\" href=\"../../numerals/__pv_it/common/af4aab8a07465db063742696e006d04670f30cf10/expr.ipynb\"><img src=\"data:image/png;base64,iVBORw0KGgoAAAANSUhEUgAAAAkAAAAOBAMAAAAPuiubAAAAMFBMVEX///+qqqqYmJiIiIgiIiLu\n",
       "7u4QEBBUVFS6urp2dnbMzMxEREQyMjJmZmbc3NwAAADzFso2AAAAAXRSTlMAQObYZgAAAAlwSFlz\n",
       "AAAOxAAADsQBlSsOGwAAAE9JREFUCNdj4Lt7egEDw2sGzh8MDHUMDGkMDPkBDPUPGEoYGOqBEgwM\n",
       "/iCC6zOIZCkAkbdBBBOYKcnA94CBawIDcwDDk7t3rwAV////hwEAK9UUlDYDfx8AAAAASUVORK5C\n",
       "YII=\n",
       "\" style=\"display:inline;vertical-align:middle;\" /></a>"
      ],
      "text/plain": [
       "2"
      ]
     },
     "metadata": {},
     "output_type": "display_data"
    }
   ],
   "source": [
    "x_minus_y_quantity_squared.exponent"
   ]
  },
  {
   "cell_type": "code",
   "execution_count": 9,
   "metadata": {},
   "outputs": [
    {
     "data": {
      "text/html": [
       "<a class=\"ProveItLink\" href=\"../__pv_it/common/0ac37aca1e54c35c5cda09672df32d4f69f1f3020/expr.ipynb\"><img src=\"data:image/png;base64,iVBORw0KGgoAAAANSUhEUgAAACgAAAASBAMAAADbMYGVAAAAMFBMVEX///+qqqrc3NyYmJjMzMxm\n",
       "Zmbu7u52dna6uroyMjIiIiJUVFQQEBBERESIiIgAAAD3YE8vAAAAAXRSTlMAQObYZgAAAAlwSFlz\n",
       "AAAOxAAADsQBlSsOGwAAAOtJREFUGNNjYGB4e+b27ltnGdDATyB+iybG8R1IpKIJsv8AEnlogpwf\n",
       "GPgYWNAE+S8wNAMptnfb3AsZ/Lb5VScAef2r934CUqwMrx9EMRTsFGC/AOTVOzAtAFJGDPYJm1kE\n",
       "ZjMwfwDy5jMwFDAkMDgwRALNYPjIwPcNKPiXgUGB7QGQcQ7kvm8MvAeA1D8gmw9oOMcnhjQG9gUM\n",
       "/AFAZ34BCmozsN3gPgA0hjOAwQaogAtoLscJBsYvqQc4BBjyLzAtYWDInv97997zExjY4h6IGjIw\n",
       "yPs9V0APG5ALMMFyLGJsH7EISv40AJIAAMQ99ZFvAb0AAAAASUVORK5CYII=\n",
       "\" style=\"display:inline;vertical-align:middle;\" /></a>"
      ],
      "text/plain": [
       "Exp"
      ]
     },
     "metadata": {},
     "output_type": "display_data"
    }
   ],
   "source": [
    "x_minus_y_quantity_squared.operator"
   ]
  },
  {
   "cell_type": "markdown",
   "metadata": {},
   "source": [
    "<font size=4>We can grab all the components (base and exponent) of the expression simultaneously as a tuple of expressions. We can also get a list of the variables and a separate list of the *free* variables in the expression (of course, in this expression, all the variables are also free variables):</font>"
   ]
  },
  {
   "cell_type": "code",
   "execution_count": 10,
   "metadata": {},
   "outputs": [
    {
     "data": {
      "text/html": [
       "<a class=\"ProveItLink\" href=\"../__pv_it/demonstrations/66513cdd7d8394021cc5cf7117a3891589a6a1690/expr.ipynb\"><img src=\"data:image/png;base64,iVBORw0KGgoAAAANSUhEUgAAAE8AAAAVBAMAAAD1D64kAAAAMFBMVEX////MzMxUVFRERES6uroi\n",
       "IiIQEBCYmJhmZmYyMjLu7u52dnaqqqqIiIjc3NwAAACW8nlqAAAAAXRSTlMAQObYZgAAAAlwSFlz\n",
       "AAAOxAAADsQBlSsOGwAAAWRJREFUKM+Fk79LAlEcwD/+PLvz5JaWlm6pRUppL/wDilzcCh2iLXJs\n",
       "FMIUWoSIoOkiiBZB2qLFqQiHpCFcioNwdwgioew9O5WLw/vC+/L9Pj7v++u9B9j4yhDRm/7ghlSt\n",
       "6UyiemKgF0GtTQff0T7gHGLF6eAy7MIBRH3K27dI2UQtHn3ABUgZzBQ5Fk79+eLO3Xu9gmqOnDxo\n",
       "JmfCKulLsawLbNyj9Bw78A1KjS2hbaUfdPUUaJYJph0nIkLHC+yIbWLDGamnOSmGsNgj2nbAQ3my\n",
       "J0EmmyMJ95k3/kxF1houyNSwaauWCxQpXhyzRcImnmUVLjOLaO6IIZMVkIcDDXQLJc0NPM0dse4G\n",
       "Y2b4E/VLWN1qtSz8BrNw/Rqv/HtCarLzAzkRMj8YCD6SIWJ434gmBhEfF94VTZW8sFuuRI5J4RWx\n",
       "1rzAbZLyIsePUg7/0gt86GSEHk83JP9Cou3/Fd7gF4QVT+FbjRwCAAAAAElFTkSuQmCC\n",
       "\" style=\"display:inline;vertical-align:middle;\" /></a>"
      ],
      "text/plain": [
       "(x - y, 2)"
      ]
     },
     "metadata": {},
     "output_type": "display_data"
    }
   ],
   "source": [
    "x_minus_y_quantity_squared.operands"
   ]
  },
  {
   "cell_type": "code",
   "execution_count": 11,
   "metadata": {},
   "outputs": [
    {
     "data": {
      "text/html": [
       "<a class=\"ProveItLink\" href=\"../../../logic/equality/__pv_it/theorems/d6058e955f7e8ff10e99ba4a3833dc46470c2de60/expr.ipynb\"><img src=\"data:image/png;base64,iVBORw0KGgoAAAANSUhEUgAAACwAAAAVBAMAAADP3xFXAAAAMFBMVEX////MzMxUVFRERES6uroi\n",
       "IiIQEBCYmJhmZmYyMjLu7u52dnaqqqqIiIjc3NwAAACW8nlqAAAAAXRSTlMAQObYZgAAAAlwSFlz\n",
       "AAAOxAAADsQBlSsOGwAAARVJREFUGNNjYGB4wIAG+EAE7wF0YZYLQOI0Awa4zsDANQFTmHMBA0cB\n",
       "pjB7AwMbAxaQxXASm/B0hm6g8TcKGBZB+GsvLdwNdNkmoAQDN08CQz1EuIFXlyOAgaGSIYaBQQbI\n",
       "UobY9YD9FxPQDccYUhgYFrBdYMgFCzMycIDdKw8SZvBfwPgRahkbyIcMbiBDGDoZeBOgwv4PuBYw\n",
       "MBxlsAWyjRiYFRi4gIzFDmoM3EC6GOgWBoYmBv8ChvVAU89LtTH4AAW6GUSB5KK9/Q8YWKMYGFbc\n",
       "5WkHBWgIA6sAyMidQHwKEeABoGDhnsCVA+RsgAuDgs+OgfUCE1CI6wJc+DHIdgae2hZQLCFCyg5k\n",
       "0AX08ON9wAAAZ3M6kipUk2cAAAAASUVORK5CYII=\n",
       "\" style=\"display:inline;vertical-align:middle;\" /></a>"
      ],
      "text/plain": [
       "(y, x)"
      ]
     },
     "metadata": {},
     "output_type": "display_data"
    }
   ],
   "source": [
    "used_vars(x_minus_y_quantity_squared)"
   ]
  },
  {
   "cell_type": "code",
   "execution_count": 12,
   "metadata": {},
   "outputs": [
    {
     "data": {
      "text/html": [
       "<a class=\"ProveItLink\" href=\"../../../logic/equality/__pv_it/theorems/d6058e955f7e8ff10e99ba4a3833dc46470c2de60/expr.ipynb\"><img src=\"data:image/png;base64,iVBORw0KGgoAAAANSUhEUgAAACwAAAAVBAMAAADP3xFXAAAAMFBMVEX////MzMxUVFRERES6uroi\n",
       "IiIQEBCYmJhmZmYyMjLu7u52dnaqqqqIiIjc3NwAAACW8nlqAAAAAXRSTlMAQObYZgAAAAlwSFlz\n",
       "AAAOxAAADsQBlSsOGwAAARVJREFUGNNjYGB4wIAG+EAE7wF0YZYLQOI0Awa4zsDANQFTmHMBA0cB\n",
       "pjB7AwMbAxaQxXASm/B0hm6g8TcKGBZB+GsvLdwNdNkmoAQDN08CQz1EuIFXlyOAgaGSIYaBQQbI\n",
       "UobY9YD9FxPQDccYUhgYFrBdYMgFCzMycIDdKw8SZvBfwPgRahkbyIcMbiBDGDoZeBOgwv4PuBYw\n",
       "MBxlsAWyjRiYFRi4gIzFDmoM3EC6GOgWBoYmBv8ChvVAU89LtTH4AAW6GUSB5KK9/Q8YWKMYGFbc\n",
       "5WkHBWgIA6sAyMidQHwKEeABoGDhnsCVA+RsgAuDgs+OgfUCE1CI6wJc+DHIdgae2hZQLCFCyg5k\n",
       "0AX08ON9wAAAZ3M6kipUk2cAAAAASUVORK5CYII=\n",
       "\" style=\"display:inline;vertical-align:middle;\" /></a>"
      ],
      "text/plain": [
       "(y, x)"
      ]
     },
     "metadata": {},
     "output_type": "display_data"
    }
   ],
   "source": [
    "free_vars(x_minus_y_quantity_squared)"
   ]
  },
  {
   "cell_type": "markdown",
   "metadata": {},
   "source": [
    "## Axioms <a id='axioms'></a>"
   ]
  },
  {
   "cell_type": "markdown",
   "metadata": {},
   "source": [
    "<font size=4>The ``axioms`` for the exponentiation theory establish the basic definitions of exponentiation … Actually, right now we have no separate axioms for the exponentiation theory.</font>"
   ]
  },
  {
   "cell_type": "markdown",
   "metadata": {},
   "source": [
    "## Theorems <a id='theorems'></a>"
   ]
  },
  {
   "cell_type": "markdown",
   "metadata": {},
   "source": [
    "<font size=4>The ``theorems`` for the exponentiation theory establish many of the basic laws of exponentiation as well as some closure principles.</font>"
   ]
  },
  {
   "cell_type": "markdown",
   "metadata": {},
   "source": [
    "## Demonstrations (TBA) <a id='further_demonstrations'></a>"
   ]
  },
  {
   "cell_type": "markdown",
   "metadata": {},
   "source": [
    "<a id='demo01'></a><font size=4>1. TBA.<br><br>\n",
    "We begin with something simple …</font>"
   ]
  },
  {
   "cell_type": "markdown",
   "metadata": {},
   "source": [
    "<a id='demo02'></a><font size=4><br>2. TBA.<br><br>\n",
    "Something else relatively simple …</font>"
   ]
  },
  {
   "cell_type": "markdown",
   "metadata": {},
   "source": [
    "<a id='demo03'></a><font size=4><br>3. TBA.<br><br>\n",
    "Something more complex …</font>"
   ]
  },
  {
   "cell_type": "markdown",
   "metadata": {},
   "source": [
    "## Misc To Be Integrated Into the Demonstration Page"
   ]
  },
  {
   "cell_type": "code",
   "execution_count": 13,
   "metadata": {},
   "outputs": [
    {
     "data": {
      "text/html": [
       "<strong id=\"exp_test_01\">exp_test_01:</strong> <a class=\"ProveItLink\" href=\"../__pv_it/demonstrations/b5e08413b9b59527a933ba3c0d66b0a3bb6965700/expr.ipynb\"><img src=\"data:image/png;base64,iVBORw0KGgoAAAANSUhEUgAAABUAAAAQBAMAAAAL9CkWAAAAMFBMVEX///9ERES6uroQEBAyMjLc\n",
       "3NyYmJgiIiJmZmaqqqp2dnbMzMxUVFSIiIju7u4AAAAd7oVFAAAAAXRSTlMAQObYZgAAAAlwSFlz\n",
       "AAAOxAAADsQBlSsOGwAAAHhJREFUCNdjYAADpjsMPAxQ8Jb/wWYYO246w0UYm+EUw1k4u4jBGs6u\n",
       "ZvoAZ89IdAAZcef1qgl8AYwJQHYD71mOAp4LKkAmWwDbP54EptwFQDY3A4cDXBcD8wUEWz+A7wGE\n",
       "9VDhMAMXVHT+vmYGTSj7xV3OtgkQJgC9ux3MfEFFCgAAAABJRU5ErkJggg==\n",
       "\" style=\"display:inline;vertical-align:middle;\" /></a><br>"
      ],
      "text/plain": [
       "<IPython.core.display.HTML object>"
      ]
     },
     "metadata": {},
     "output_type": "display_data"
    },
    {
     "data": {
      "text/html": [
       "<strong id=\"exp_test_02\">exp_test_02:</strong> <a class=\"ProveItLink\" href=\"../__pv_it/demonstrations/ca958b3bf75de4d8fcb9ef08edad511a2c27700e0/expr.ipynb\"><img src=\"data:image/png;base64,iVBORw0KGgoAAAANSUhEUgAAABEAAAATBAMAAACEi/vCAAAAMFBMVEX///+qqqqYmJiIiIgiIiLu\n",
       "7u4QEBBUVFS6urp2dnbMzMxEREQyMjJmZmbc3NwAAADzFso2AAAAAXRSTlMAQObYZgAAAAlwSFlz\n",
       "AAAOxAAADsQBlSsOGwAAAH1JREFUCNdjYACBR8JVDBBQyWAGZa1imMIAA04who0BAwPf3dMLGBhY\n",
       "NzMwvGbg/AEUXL+AoY6BIY01i+G9AkN+AEP9A1cGtQCGEgaG+gUrjevAGv1hJnB9hrFYCmCs2zAG\n",
       "E1xIkoHvAUT9BAbmADDryd27VyCS/v///wEzAIz2HjjIkbnGAAAAAElFTkSuQmCC\n",
       "\" style=\"display:inline;vertical-align:middle;\" /></a><br>"
      ],
      "text/plain": [
       "<IPython.core.display.HTML object>"
      ]
     },
     "metadata": {},
     "output_type": "display_data"
    },
    {
     "data": {
      "text/html": [
       "<strong id=\"exp_test_03\">exp_test_03:</strong> <a class=\"ProveItLink\" href=\"../__pv_it/demonstrations/7fae72758e117db14c9596e62821503a83e4892f0/expr.ipynb\"><img src=\"data:image/png;base64,iVBORw0KGgoAAAANSUhEUgAAABsAAAAVBAMAAABF8IgWAAAAMFBMVEX///8QEBCIiIiYmJgiIiKq\n",
       "qqru7u5mZmYyMjLc3Ny6urpUVFRERER2dnbMzMwAAAA+bm1bAAAAAXRSTlMAQObYZgAAAAlwSFlz\n",
       "AAAOxAAADsQBlSsOGwAAALJJREFUGNNjYIAAvv8g8AHKY+B5wIAM3qDwGHah8DgbULjsC1C4GQwM\n",
       "0yvOwbmlDJwHGO7DlLA5MHBPYGAUgHJ5DRgYvzFw/wQyo4CYhYGBG6jgHwMDkwSQqwRWwwJ047P7\n",
       "QOc5gLnvFYBE/gYGZgUw1xvsgp8MLAlgxgGw+74zxIIlrSG2nE9oA1GsFxhmguj1qgUg6i0DgxqI\n",
       "5pCYANLjXl4OtoD1N9hSYNhAfNmJ8BkA6U0qwGm0g6AAAAAASUVORK5CYII=\n",
       "\" style=\"display:inline;vertical-align:middle;\" /></a><br>"
      ],
      "text/plain": [
       "<IPython.core.display.HTML object>"
      ]
     },
     "metadata": {},
     "output_type": "display_data"
    }
   ],
   "source": [
    "# Some example test expressions involving Exp or sqrt()\n",
    "exp_test_01, exp_test_02, exp_test_03 = Exp(x, y), Exp(two, three), sqrt(two)"
   ]
  },
  {
   "cell_type": "markdown",
   "metadata": {},
   "source": [
    "### Evaluations"
   ]
  },
  {
   "cell_type": "code",
   "execution_count": 14,
   "metadata": {},
   "outputs": [
    {
     "data": {
      "text/html": [
       "<span style=\"font-size:20px;\"> <a class=\"ProveItLink\" href=\"../__pv_it/demonstrations/a9b57b2ad38494d38b5d915ae1bae36530f01eab0/proof.ipynb\" style=\"text-decoration: none\">&nbsp;&#x22A2;&nbsp;&nbsp;</a><a class=\"ProveItLink\" href=\"../__pv_it/demonstrations/9634a9765527d33d34c9c9e61f4564d9a82e0cad0/expr.ipynb\"><img src=\"data:image/png;base64,iVBORw0KGgoAAAANSUhEUgAAAEQAAAATBAMAAADbtrbOAAAAMFBMVEX///9UVFTMzMwiIiKYmJgQ\n",
       "EBAyMjKIiIiqqqru7u66urpERERmZmZ2dnbc3NwAAABametFAAAAAXRSTlMAQObYZgAAAAlwSFlz\n",
       "AAAOxAAADsQBlSsOGwAAAQxJREFUKM9jYAABPo9CBQb8gPECewABJUwKvAYMhACzAyEV7OlYhZ9M\n",
       "AFNv7+wCkrML0GT5zmQrMPT///8/gIHzAEN/A9A1n9CUvGbg/cVw+8yZww0M7D8Y5idMVeD7gqZE\n",
       "joEhlOECA8MbBgauKAb+BOYJLJFoSuInMMg/ABovAOb1OzBdL3yApkSYgUEeGJy84CDlMsHhTXuw\n",
       "k0DBVigEFzxsDAKG0PD8DiSkIGyQj7CFJtAZfNB4Yf2JVclpIOZNAEcPA/cPbCpYQH5h3gAk+H8i\n",
       "KUF2Sy8D3wOG+SB1rALYLWK6wMA+gWH9AZB5DsBwwaLkMTDsgT65AGKvObMLa6D8//+NgeEp0LMA\n",
       "1NdElhpJslEAAAAASUVORK5CYII=\n",
       "\" style=\"display:inline;vertical-align:middle;\" /></a></span>"
      ],
      "text/plain": [
       "|- 3^{3} = 27"
      ]
     },
     "metadata": {},
     "output_type": "display_data"
    }
   ],
   "source": [
    "Exp(three, three).evaluation()"
   ]
  },
  {
   "cell_type": "markdown",
   "metadata": {},
   "source": [
    "Some testing of closure theorems."
   ]
  },
  {
   "cell_type": "code",
   "execution_count": 15,
   "metadata": {},
   "outputs": [
    {
     "data": {
      "text/html": [
       "<span style=\"font-size:20px;\"><a class=\"ProveItLink\" href=\"../__pv_it/demonstrations/b7153c0033e407b6f25af7375428bbdcf12a6b600/expr.ipynb\"><img src=\"data:image/png;base64,iVBORw0KGgoAAAANSUhEUgAAADQAAAAQBAMAAACra0H4AAAAMFBMVEX///9ERES6uroQEBAyMjLc\n",
       "3NyYmJgiIiJmZmaqqqp2dnbMzMxUVFSIiIju7u4AAAAd7oVFAAAAAXRSTlMAQObYZgAAAAlwSFlz\n",
       "AAAOxAAADsQBlSsOGwAAAN5JREFUGNNjYMAAfPWCfgxc9kYMWADjBB0GhvfYZBh4SrkSGJixS01k\n",
       "cGVgRxG6WF7uAJYKuxCCKqVyD6Yr4DTvApDU2zuvV00A0qx+cAMDGBmEQFINvGc5CoA0SwBCirvh\n",
       "+XMGBrYAtn88CSAphDMCGDI5hRkYuBk4wHYzbC4HAgGoFM+DwyAW8wWw1ENkXXwHnoNY+gF8D4AU\n",
       "O7IUw15GoGKFwwxcIAHeC/CA2gDkbWRgmL+vmUETLOIJk2IB+aWFgeHFXc62CWCRN0IPwDS3vyGQ\n",
       "fIISUFrikICCAgA/wDGOvGvv4AAAAABJRU5ErkJggg==\n",
       "\" style=\"display:inline;vertical-align:middle;\" /></a>, <a class=\"ProveItLink\" href=\"../__pv_it/demonstrations/17c23827fca080b752568c5794e0898dfd342a790/expr.ipynb\"><img src=\"data:image/png;base64,iVBORw0KGgoAAAANSUhEUgAAADMAAAATBAMAAADPIygvAAAAMFBMVEX////c3NwyMjK6urpEREQi\n",
       "IiLMzMwQEBCqqqp2dnZUVFSYmJhmZmaIiIju7u4AAADlKNhoAAAAAXRSTlMAQObYZgAAAAlwSFlz\n",
       "AAAOxAAADsQBlSsOGwAAAPJJREFUKM9jYMAAT784PWCY/t2AAQvwYF7AwPcBmwzDUoHZDAwFWKVW\n",
       "ODAJMASgCF0JDVUA0Qv3MiqgShndgzIWciXcBEnx3dnA8AokwKgHU7OQwYHFACjFyVHAsB8kADQf\n",
       "LpXDFweUyuAJYFgClmJASHE3tABd+ID9AkMtSCA9FAgcIFIM67hAjrd/wPYNJPAESRfDKz6QCw8x\n",
       "8IK9x4osxXYBpN+LgWUBSID3AkzKDYivgaROMdhvAItowKRADB6Q51/NPQ9x9ivnB2A66TtQBx84\n",
       "XBgmQVVbukICCgY4FfgqGLAD1gtcE3BIcew9jEMGAPrNObd03oIMAAAAAElFTkSuQmCC\n",
       "\" style=\"display:inline;vertical-align:middle;\" /></a> <a class=\"ProveItLink\" href=\"../__pv_it/demonstrations/95ea14280afa364be5b0d4e31cdaa572fb1d0ff50/proof.ipynb\" style=\"text-decoration: none\">&nbsp;&#x22A2;&nbsp;&nbsp;</a><a class=\"ProveItLink\" href=\"../__pv_it/demonstrations/29d8fb21e46af30a9d0aac02541b3827e74f6b420/expr.ipynb\"><img src=\"data:image/png;base64,iVBORw0KGgoAAAANSUhEUgAAAEoAAAATBAMAAADFf4Z9AAAAMFBMVEX///9ERES6uroQEBAyMjLc\n",
       "3NyYmJgiIiJmZmaqqqp2dnbMzMxUVFSIiIju7u4AAAAd7oVFAAAAAXRSTlMAQObYZgAAAAlwSFlz\n",
       "AAAOxAAADsQBlSsOGwAAAR9JREFUKM9jYCAIGhiIAQJwFtMdBh7Cqt7yP9iMIsVXL+jHwGVvhKIq\n",
       "bjrDRVQTGCfoMDC8RzWL4RTDWVRVPKVcCQzMDByCgoaCYjDBIgZrNFUTGVwZ2NHMqmb6AGFcLC93\n",
       "AKsKuxCCoWpGIliOQeUezKyA07wLEKre3nm9agJfAGMCiMPqB7cxgJFBCKGqgfcsRwHPBRWwHEsA\n",
       "QhV3w/PnsLBnC2D7x5PAlLsAogrh+gCGTE5hGI+bgcMB4bzN5UAgAFXF8+AwQob5AoL9ENksvgPP\n",
       "ETL6AXwPYGx2ZFUMexnhuhUOM3DB5Xjh5jJuAPI2wnjz9zUzaCIM9oQxWCYAiRYY78VdzrYJCFVv\n",
       "hCC2c/sbAsknuFKTlni5A4YgABxuQIfF8T/zAAAAAElFTkSuQmCC\n",
       "\" style=\"display:inline;vertical-align:middle;\" /></a></span>"
      ],
      "text/plain": [
       "{x in Natural, y in Natural} |- x^{y} in NaturalPos"
      ]
     },
     "metadata": {},
     "output_type": "display_data"
    }
   ],
   "source": [
    "InSet(exp_test_01, NaturalPos).prove(assumptions=[InSet(x, Natural), InSet(y, Natural)])"
   ]
  },
  {
   "cell_type": "code",
   "execution_count": 16,
   "metadata": {},
   "outputs": [
    {
     "data": {
      "text/html": [
       "<span style=\"font-size:20px;\"><a class=\"ProveItLink\" href=\"../__pv_it/demonstrations/b7153c0033e407b6f25af7375428bbdcf12a6b600/expr.ipynb\"><img src=\"data:image/png;base64,iVBORw0KGgoAAAANSUhEUgAAADQAAAAQBAMAAACra0H4AAAAMFBMVEX///9ERES6uroQEBAyMjLc\n",
       "3NyYmJgiIiJmZmaqqqp2dnbMzMxUVFSIiIju7u4AAAAd7oVFAAAAAXRSTlMAQObYZgAAAAlwSFlz\n",
       "AAAOxAAADsQBlSsOGwAAAN5JREFUGNNjYMAAfPWCfgxc9kYMWADjBB0GhvfYZBh4SrkSGJixS01k\n",
       "cGVgRxG6WF7uAJYKuxCCKqVyD6Yr4DTvApDU2zuvV00A0qx+cAMDGBmEQFINvGc5CoA0SwBCirvh\n",
       "+XMGBrYAtn88CSAphDMCGDI5hRkYuBk4wHYzbC4HAgGoFM+DwyAW8wWw1ENkXXwHnoNY+gF8D4AU\n",
       "O7IUw15GoGKFwwxcIAHeC/CA2gDkbWRgmL+vmUETLOIJk2IB+aWFgeHFXc62CWCRN0IPwDS3vyGQ\n",
       "fIISUFrikICCAgA/wDGOvGvv4AAAAABJRU5ErkJggg==\n",
       "\" style=\"display:inline;vertical-align:middle;\" /></a>, <a class=\"ProveItLink\" href=\"../__pv_it/demonstrations/17c23827fca080b752568c5794e0898dfd342a790/expr.ipynb\"><img src=\"data:image/png;base64,iVBORw0KGgoAAAANSUhEUgAAADMAAAATBAMAAADPIygvAAAAMFBMVEX////c3NwyMjK6urpEREQi\n",
       "IiLMzMwQEBCqqqp2dnZUVFSYmJhmZmaIiIju7u4AAADlKNhoAAAAAXRSTlMAQObYZgAAAAlwSFlz\n",
       "AAAOxAAADsQBlSsOGwAAAPJJREFUKM9jYMAAT784PWCY/t2AAQvwYF7AwPcBmwzDUoHZDAwFWKVW\n",
       "ODAJMASgCF0JDVUA0Qv3MiqgShndgzIWciXcBEnx3dnA8AokwKgHU7OQwYHFACjFyVHAsB8kADQf\n",
       "LpXDFweUyuAJYFgClmJASHE3tABd+ID9AkMtSCA9FAgcIFIM67hAjrd/wPYNJPAESRfDKz6QCw8x\n",
       "8IK9x4osxXYBpN+LgWUBSID3AkzKDYivgaROMdhvAItowKRADB6Q51/NPQ9x9ivnB2A66TtQBx84\n",
       "XBgmQVVbukICCgY4FfgqGLAD1gtcE3BIcew9jEMGAPrNObd03oIMAAAAAElFTkSuQmCC\n",
       "\" style=\"display:inline;vertical-align:middle;\" /></a> <a class=\"ProveItLink\" href=\"../__pv_it/demonstrations/dbd9f06a7f88457d647766519fc02516ce262bd30/proof.ipynb\" style=\"text-decoration: none\">&nbsp;&#x22A2;&nbsp;&nbsp;</a><a class=\"ProveItLink\" href=\"../__pv_it/demonstrations/a43532bce577c232717f1dd9bdee4740605f3a3e0/expr.ipynb\"><img src=\"data:image/png;base64,iVBORw0KGgoAAAANSUhEUgAAAD4AAAARBAMAAAB3FQKUAAAAMFBMVEX///9ERES6uroQEBAyMjLc\n",
       "3NyYmJgiIiJmZmaqqqp2dnbMzMxUVFSIiIju7u4AAAAd7oVFAAAAAXRSTlMAQObYZgAAAAlwSFlz\n",
       "AAAOxAAADsQBlSsOGwAAAQ5JREFUKM9jYAADpjsMPAx4wFv+B5tRBPjqBf0YuOyNoNy46QwXUXUw\n",
       "TtBhYHgP555iOIsqz1PKlcDADOcWMVijyU9kcGVgh3OrmT5AGBfLyx3A8mEXQpDkZySCRRlU7sH0\n",
       "B5zmXQCSf3vn9aoJfAGMCSBRVj+4+QGMDEIg+QbesxwFPBdUwKIsAQh57obnzxkY2ALY/vEkMOUu\n",
       "gMgj3BfAkMkpzMDAzcDhgHD15nIgEIDK8zw4DGIxX0DIP0TWz3fgOYilH8D3ACbKjizPsJcRqEPh\n",
       "MAMXXJQXbhbjBiBvIwPD/H3NDJoICzxhDJYJQKKFgeHFXc62CQj5N0IQu7j9DYHkE8yY1hIvR/IP\n",
       "AwCVnT6FBjvqPAAAAABJRU5ErkJggg==\n",
       "\" style=\"display:inline;vertical-align:middle;\" /></a></span>"
      ],
      "text/plain": [
       "{x in Natural, y in Natural} |- x^{y} in Natural"
      ]
     },
     "metadata": {},
     "output_type": "display_data"
    }
   ],
   "source": [
    "InSet(exp_test_01, Natural).prove(assumptions=[InSet(x, Natural), InSet(y, Natural)])"
   ]
  },
  {
   "cell_type": "code",
   "execution_count": 17,
   "metadata": {},
   "outputs": [
    {
     "data": {
      "text/html": [
       "<span style=\"font-size:20px;\"><a class=\"ProveItLink\" href=\"../__pv_it/demonstrations/e7ea3ade6561bbbb858c02aa3be91f7305b5ebb50/expr.ipynb\"><img src=\"data:image/png;base64,iVBORw0KGgoAAAANSUhEUgAAADMAAAAQBAMAAABJt1qBAAAAMFBMVEX///9ERES6uroQEBAyMjLc\n",
       "3NyYmJgiIiJmZmaqqqp2dnbMzMxUVFSIiIju7u4AAAAd7oVFAAAAAXRSTlMAQObYZgAAAAlwSFlz\n",
       "AAAOxAAADsQBlSsOGwAAAN1JREFUGNNjYMAEU+xNxAvNGLCBi6cZWBgcsEp1MDBc45qAVeooA5/A\n",
       "Q1QhXvHyEhD9gIFjw2kUGSbfBzDmHu4GEPX2zutVYIND4DIMcoxgdgPvWY4CEMMVLsO5IBdEsQWw\n",
       "/eNJALEQzoU6nZuBAyLGbV5eXl4IZt7kUmDgAzGYL4D5fAIwTXwCgQwMPAFAln4AH9jSApgUz4aj\n",
       "DAzvGRgeKhxm4AKL3IVJ7WACOv04A8P8fc0MmhDLYWEjx/KAIXAiA8OLu5xtEDG+g3oQrxs6Cwp/\n",
       "lkINjoWQgIICAM0UMqoFj6RNAAAAAElFTkSuQmCC\n",
       "\" style=\"display:inline;vertical-align:middle;\" /></a>, <a class=\"ProveItLink\" href=\"../__pv_it/demonstrations/17c23827fca080b752568c5794e0898dfd342a790/expr.ipynb\"><img src=\"data:image/png;base64,iVBORw0KGgoAAAANSUhEUgAAADMAAAATBAMAAADPIygvAAAAMFBMVEX////c3NwyMjK6urpEREQi\n",
       "IiLMzMwQEBCqqqp2dnZUVFSYmJhmZmaIiIju7u4AAADlKNhoAAAAAXRSTlMAQObYZgAAAAlwSFlz\n",
       "AAAOxAAADsQBlSsOGwAAAPJJREFUKM9jYMAAT784PWCY/t2AAQvwYF7AwPcBmwzDUoHZDAwFWKVW\n",
       "ODAJMASgCF0JDVUA0Qv3MiqgShndgzIWciXcBEnx3dnA8AokwKgHU7OQwYHFACjFyVHAsB8kADQf\n",
       "LpXDFweUyuAJYFgClmJASHE3tABd+ID9AkMtSCA9FAgcIFIM67hAjrd/wPYNJPAESRfDKz6QCw8x\n",
       "8IK9x4osxXYBpN+LgWUBSID3AkzKDYivgaROMdhvAItowKRADB6Q51/NPQ9x9ivnB2A66TtQBx84\n",
       "XBgmQVVbukICCgY4FfgqGLAD1gtcE3BIcew9jEMGAPrNObd03oIMAAAAAElFTkSuQmCC\n",
       "\" style=\"display:inline;vertical-align:middle;\" /></a> <a class=\"ProveItLink\" href=\"../__pv_it/demonstrations/eaa5f82d8b41e8becea5a813daa7f93342ac76270/proof.ipynb\" style=\"text-decoration: none\">&nbsp;&#x22A2;&nbsp;&nbsp;</a><a class=\"ProveItLink\" href=\"../__pv_it/demonstrations/5db16553d612aed634ebd7d28b1960c1feaff7290/expr.ipynb\"><img src=\"data:image/png;base64,iVBORw0KGgoAAAANSUhEUgAAAD0AAAARBAMAAACcIrmXAAAAMFBMVEX///9ERES6uroQEBAyMjLc\n",
       "3NyYmJgiIiJmZmaqqqp2dnbMzMxUVFSIiIju7u4AAAAd7oVFAAAAAXRSTlMAQObYZgAAAAlwSFlz\n",
       "AAAOxAAADsQBlSsOGwAAAQ5JREFUKM9jYAADpjsMPAx4wFv+B5tRRabYm4gXmsF4cdMZLqLKXzzN\n",
       "wMLgAOeeYjiLKt/BwHCNawKcW8RgjSp/lIFP4CGCW830AcLgFS8vAdEPGDg2nEbIz0iE2MXk+wAm\n",
       "tIe7Aez0O69XTeALYEwAC4bApRnkGMHsBt6zHAU8F1Qggq5wac4FuSCKLYDtH08CU+4CiCjCR1Df\n",
       "cTNwIMQYuM3Ly8sLwcybXAoMfCAG8wWEPJ8AghXIwMATAGTpB/AhHFUAY/BsOMrA8J6B4aHCYQYu\n",
       "hAF3YYwdTEDfHWdgmL+vmUETIc8CC1I5lgcMgRMZGF7c5WybgOSAg3qQcDJ0FhT+LIUZ00wLIeEL\n",
       "BQBsLz+hjCe4jQAAAABJRU5ErkJggg==\n",
       "\" style=\"display:inline;vertical-align:middle;\" /></a></span>"
      ],
      "text/plain": [
       "{x in Integer, y in Natural} |- x^{y} in Integer"
      ]
     },
     "metadata": {},
     "output_type": "display_data"
    }
   ],
   "source": [
    "InSet(exp_test_01, Integer).prove(assumptions=[InSet(x, Integer), InSet(y, Natural)])"
   ]
  },
  {
   "cell_type": "code",
   "execution_count": 18,
   "metadata": {},
   "outputs": [
    {
     "data": {
      "text/html": [
       "<span style=\"font-size:20px;\"><a class=\"ProveItLink\" href=\"../__pv_it/demonstrations/d9b6cd7c261d9b88103128035ae0c4bfd7352aed0/expr.ipynb\"><img src=\"data:image/png;base64,iVBORw0KGgoAAAANSUhEUgAAADUAAAASBAMAAAAJYYvNAAAAMFBMVEX///9ERES6uroQEBAyMjLc\n",
       "3NyYmJgiIiJmZmaqqqp2dnbMzMxUVFSIiIju7u4AAAAd7oVFAAAAAXRSTlMAQObYZgAAAAlwSFlz\n",
       "AAAOxAAADsQBlSsOGwAAAPZJREFUGNNjYMAC+BYKSgQwYAd3rBnCT2GX4spKYGBqEsAqt4sFSAjk\n",
       "oojxipeXgGi5N0BiNQuyFJPvA4hLBPYCyZkcGxgY3t55vWoCSCwEIsXAvUANSKqxAQUbeM9yFIDE\n",
       "XGH6L2QCyb2cCQxsAWz/eBJAYg5QOdYF00D6eBUYuBk4IILc5uXl5YUgFtQ+kBXMF6BOgDlKLgbu\n",
       "Tv0APrArCmByWmD/AS19qHCYgQssdBcmxwEKl0NAY+bva2bQBAuxTIBJrgGG5wkg/eIuZxtEkO+g\n",
       "Hsyl/S4/NqCGI9NCSJgxMPBsyGXACc7yntyES47zoLMYAwCVjzm9efYPhQAAAABJRU5ErkJggg==\n",
       "\" style=\"display:inline;vertical-align:middle;\" /></a>, <a class=\"ProveItLink\" href=\"../__pv_it/demonstrations/17c23827fca080b752568c5794e0898dfd342a790/expr.ipynb\"><img src=\"data:image/png;base64,iVBORw0KGgoAAAANSUhEUgAAADMAAAATBAMAAADPIygvAAAAMFBMVEX////c3NwyMjK6urpEREQi\n",
       "IiLMzMwQEBCqqqp2dnZUVFSYmJhmZmaIiIju7u4AAADlKNhoAAAAAXRSTlMAQObYZgAAAAlwSFlz\n",
       "AAAOxAAADsQBlSsOGwAAAPJJREFUKM9jYMAAT784PWCY/t2AAQvwYF7AwPcBmwzDUoHZDAwFWKVW\n",
       "ODAJMASgCF0JDVUA0Qv3MiqgShndgzIWciXcBEnx3dnA8AokwKgHU7OQwYHFACjFyVHAsB8kADQf\n",
       "LpXDFweUyuAJYFgClmJASHE3tABd+ID9AkMtSCA9FAgcIFIM67hAjrd/wPYNJPAESRfDKz6QCw8x\n",
       "8IK9x4osxXYBpN+LgWUBSID3AkzKDYivgaROMdhvAItowKRADB6Q51/NPQ9x9ivnB2A66TtQBx84\n",
       "XBgmQVVbukICCgY4FfgqGLAD1gtcE3BIcew9jEMGAPrNObd03oIMAAAAAElFTkSuQmCC\n",
       "\" style=\"display:inline;vertical-align:middle;\" /></a> <a class=\"ProveItLink\" href=\"../__pv_it/demonstrations/4251819185c2cb980a84c4b23f0c252ad52fbd9d0/proof.ipynb\" style=\"text-decoration: none\">&nbsp;&#x22A2;&nbsp;&nbsp;</a><a class=\"ProveItLink\" href=\"../__pv_it/demonstrations/9b1d52cd17b51ee1d7ac334a7bacff52b9163c040/expr.ipynb\"><img src=\"data:image/png;base64,iVBORw0KGgoAAAANSUhEUgAAAD8AAAATBAMAAADVH8ihAAAAMFBMVEX///9ERES6uroQEBAyMjLc\n",
       "3NyYmJgiIiJmZmaqqqp2dnbMzMxUVFSIiIju7u4AAAAd7oVFAAAAAXRSTlMAQObYZgAAAAlwSFlz\n",
       "AAAOxAAADsQBlSsOGwAAAStJREFUKM9jYAADpjsMPAz4wFv+B5vRhPgWCkoEwHlx0xkuoim4Y80Q\n",
       "fgrBPcVwFlWeKyuBgalJAM4vYrBGVbCLBUgI5ML51UwfIAxe8fISEC33BkisZoErmJHoAPGO7wOI\n",
       "EwX2AsmZHBuAHrjzetUEvgDGBLBECESegXuBGpBUY5vAwNDAe5ajgOeCCkTCFWoi04VMILmXM4GB\n",
       "LYDtH08CU+4CiIQDVAHrgmkgE3gVGLgZOBwQbuc2Ly8vLwSxoG4A2ch8ASn44B6Xi4H7Qj+A7wFc\n",
       "RQGMoQUOB6BDHiocZuBCGHEXxuAAheQhoIHz9zUzaCIUsEyAsdYA4+IEkH5xl7NtApIjDurB/NHv\n",
       "8mMDlohnWggJagYGng25DPjBWd6Tm/Aq4DzoLMYAAJLrRrSWUbNnAAAAAElFTkSuQmCC\n",
       "\" style=\"display:inline;vertical-align:middle;\" /></a></span>"
      ],
      "text/plain": [
       "{x in Rational, y in Natural} |- x^{y} in Rational"
      ]
     },
     "metadata": {},
     "output_type": "display_data"
    }
   ],
   "source": [
    "InSet(exp_test_01, Rational).prove(assumptions=[InSet(x, Rational), InSet(y, Natural)])"
   ]
  },
  {
   "cell_type": "code",
   "execution_count": 19,
   "metadata": {},
   "outputs": [
    {
     "data": {
      "text/html": [
       "<span style=\"font-size:20px;\"><a class=\"ProveItLink\" href=\"../__pv_it/demonstrations/84c2e366269d6004a225d36e609b4ffa702d4c5f0/expr.ipynb\"><img src=\"data:image/png;base64,iVBORw0KGgoAAAANSUhEUgAAAEoAAAAXCAMAAACbHilqAAAAOVBMVEX///82NjYbGxsSEhJERES6\n",
       "uroQEBAyMjLc3NyYmJgiIiJmZmaqqqp2dnbMzMxUVFSIiIju7u4AAABAaMz/AAAAAXRSTlMAQObY\n",
       "ZgAAAAlwSFlzAAAOxAAADsQBlSsOGwAAAVVJREFUOMutVIlyxSAItC1GDSqQ///YiuY+2rxJmIkx\n",
       "GVlcWDDmmYl5y5Kta+L0FMmTroGNsfAQiryuXS7L4B8h2UrLD5qwLn6Q4ATFsAVH3cNPeYLJFaoP\n",
       "t5GYlIfvaUkwN+8G1fHtUoVUHS3OCZZx0wgOdwnmZFzbQS2YEvz+gkrwv7Qz9MXc9AkiNF4vj6CZ\n",
       "5rMqBroqjeONjAuXPOYiRoO5oS/sE2P9EmaSnNJC1js58LNjhco76Ml4lmbU8rDBfv7j9rwtN39F\n",
       "ZRMV1Z0gheIXShFoEcbhmE/Nv92KS+NFe1YcvdjGOXf9aHNjbXP11zjY6kuOrQni9xW8KJiKQpZY\n",
       "/Vm3Lbq6EqOANdRpuJWojtXBSe10PU7ikAULlF3HcsfAaepBvG54LHeIuL21ENh9bj0Ozg1Nnh+O\n",
       "Ilg3Tht0ufbfK1aEzBSzfQMrErgOLobcL0PWDZQ9xhkeAAAAAElFTkSuQmCC\n",
       "\" style=\"display:inline;vertical-align:middle;\" /></a>, <a class=\"ProveItLink\" href=\"../__pv_it/demonstrations/1a5270d7d3401e3ec902ebbf86bec5c78898bba20/expr.ipynb\"><img src=\"data:image/png;base64,iVBORw0KGgoAAAANSUhEUgAAADIAAAATBAMAAAAg4UMRAAAAMFBMVEX////c3NwyMjK6urpEREQi\n",
       "IiLMzMwQEBCqqqp2dnZUVFSYmJhmZmaIiIju7u4AAADlKNhoAAAAAXRSTlMAQObYZgAAAAlwSFlz\n",
       "AAAOxAAADsQBlSsOGwAAAPJJREFUGNNjYMAAHOrfVULdN2BKMPB6JTAoMGGRYOA5wMC7YQY2GS4B\n",
       "hid8DiimuIYGgWg+BoZjXAlIEsy6D2BMtgU5IBV3NjC8AnGF4BIMLA/8gCQnRwHDfhBXEaG9k/sC\n",
       "kMzgCWBYAuIqIGQgbn7AfoGhFmR2aWhoaAjEKQ2TgeIMDPYP2L6B7EO48wkjkL2QgeEQA28BiB8A\n",
       "l1kG9BHfBwYGLwaWBSD+XbibD9gAvQtUeIrBHhx6TA1wN+sxMHoADXw197wA2OtL7CAy5k4lLvUl\n",
       "E0DMSdBAmAIJHRjgVOCrYMAKWC9wTcAuw7H3MHYJABj+NEi8Hq+uAAAAAElFTkSuQmCC\n",
       "\" style=\"display:inline;vertical-align:middle;\" /></a> <a class=\"ProveItLink\" href=\"../__pv_it/demonstrations/57e5e53afedb1b037c1332e89e667e2a722761bc0/proof.ipynb\" style=\"text-decoration: none\">&nbsp;&#x22A2;&nbsp;&nbsp;</a><a class=\"ProveItLink\" href=\"../__pv_it/demonstrations/9b1d52cd17b51ee1d7ac334a7bacff52b9163c040/expr.ipynb\"><img src=\"data:image/png;base64,iVBORw0KGgoAAAANSUhEUgAAAD8AAAATBAMAAADVH8ihAAAAMFBMVEX///9ERES6uroQEBAyMjLc\n",
       "3NyYmJgiIiJmZmaqqqp2dnbMzMxUVFSIiIju7u4AAAAd7oVFAAAAAXRSTlMAQObYZgAAAAlwSFlz\n",
       "AAAOxAAADsQBlSsOGwAAAStJREFUKM9jYAADpjsMPAz4wFv+B5vRhPgWCkoEwHlx0xkuoim4Y80Q\n",
       "fgrBPcVwFlWeKyuBgalJAM4vYrBGVbCLBUgI5ML51UwfIAxe8fISEC33BkisZoErmJHoAPGO7wOI\n",
       "EwX2AsmZHBuAHrjzetUEvgDGBLBECESegXuBGpBUY5vAwNDAe5ajgOeCCkTCFWoi04VMILmXM4GB\n",
       "LYDtH08CU+4CiIQDVAHrgmkgE3gVGLgZOBwQbuc2Ly8vLwSxoG4A2ch8ASn44B6Xi4H7Qj+A7wFc\n",
       "RQGMoQUOB6BDHiocZuBCGHEXxuAAheQhoIHz9zUzaCIUsEyAsdYA4+IEkH5xl7NtApIjDurB/NHv\n",
       "8mMDlohnWggJagYGng25DPjBWd6Tm/Aq4DzoLMYAAJLrRrSWUbNnAAAAAElFTkSuQmCC\n",
       "\" style=\"display:inline;vertical-align:middle;\" /></a></span>"
      ],
      "text/plain": [
       "{x in RationalNonZero, y in Integer} |- x^{y} in Rational"
      ]
     },
     "metadata": {},
     "output_type": "display_data"
    }
   ],
   "source": [
    "InSet(exp_test_01, Rational).prove(assumptions=[InSet(x, RationalNonZero), InSet(y, Integer)])"
   ]
  },
  {
   "cell_type": "code",
   "execution_count": 20,
   "metadata": {},
   "outputs": [
    {
     "data": {
      "text/html": [
       "<span style=\"font-size:20px;\"><a class=\"ProveItLink\" href=\"../__pv_it/demonstrations/84c2e366269d6004a225d36e609b4ffa702d4c5f0/expr.ipynb\"><img src=\"data:image/png;base64,iVBORw0KGgoAAAANSUhEUgAAAEoAAAAXCAMAAACbHilqAAAAOVBMVEX///82NjYbGxsSEhJERES6\n",
       "uroQEBAyMjLc3NyYmJgiIiJmZmaqqqp2dnbMzMxUVFSIiIju7u4AAABAaMz/AAAAAXRSTlMAQObY\n",
       "ZgAAAAlwSFlzAAAOxAAADsQBlSsOGwAAAVVJREFUOMutVIlyxSAItC1GDSqQ///YiuY+2rxJmIkx\n",
       "GVlcWDDmmYl5y5Kta+L0FMmTroGNsfAQiryuXS7L4B8h2UrLD5qwLn6Q4ATFsAVH3cNPeYLJFaoP\n",
       "t5GYlIfvaUkwN+8G1fHtUoVUHS3OCZZx0wgOdwnmZFzbQS2YEvz+gkrwv7Qz9MXc9AkiNF4vj6CZ\n",
       "5rMqBroqjeONjAuXPOYiRoO5oS/sE2P9EmaSnNJC1js58LNjhco76Ml4lmbU8rDBfv7j9rwtN39F\n",
       "ZRMV1Z0gheIXShFoEcbhmE/Nv92KS+NFe1YcvdjGOXf9aHNjbXP11zjY6kuOrQni9xW8KJiKQpZY\n",
       "/Vm3Lbq6EqOANdRpuJWojtXBSe10PU7ikAULlF3HcsfAaepBvG54LHeIuL21ENh9bj0Ozg1Nnh+O\n",
       "Ilg3Tht0ufbfK1aEzBSzfQMrErgOLobcL0PWDZQ9xhkeAAAAAElFTkSuQmCC\n",
       "\" style=\"display:inline;vertical-align:middle;\" /></a>, <a class=\"ProveItLink\" href=\"../__pv_it/demonstrations/1a5270d7d3401e3ec902ebbf86bec5c78898bba20/expr.ipynb\"><img src=\"data:image/png;base64,iVBORw0KGgoAAAANSUhEUgAAADIAAAATBAMAAAAg4UMRAAAAMFBMVEX////c3NwyMjK6urpEREQi\n",
       "IiLMzMwQEBCqqqp2dnZUVFSYmJhmZmaIiIju7u4AAADlKNhoAAAAAXRSTlMAQObYZgAAAAlwSFlz\n",
       "AAAOxAAADsQBlSsOGwAAAPJJREFUGNNjYMAAHOrfVULdN2BKMPB6JTAoMGGRYOA5wMC7YQY2GS4B\n",
       "hid8DiimuIYGgWg+BoZjXAlIEsy6D2BMtgU5IBV3NjC8AnGF4BIMLA/8gCQnRwHDfhBXEaG9k/sC\n",
       "kMzgCWBYAuIqIGQgbn7AfoGhFmR2aWhoaAjEKQ2TgeIMDPYP2L6B7EO48wkjkL2QgeEQA28BiB8A\n",
       "l1kG9BHfBwYGLwaWBSD+XbibD9gAvQtUeIrBHhx6TA1wN+sxMHoADXw197wA2OtL7CAy5k4lLvUl\n",
       "E0DMSdBAmAIJHRjgVOCrYMAKWC9wTcAuw7H3MHYJABj+NEi8Hq+uAAAAAElFTkSuQmCC\n",
       "\" style=\"display:inline;vertical-align:middle;\" /></a> <a class=\"ProveItLink\" href=\"../__pv_it/demonstrations/708e652b613dde0866d35b413dcd921c978d88e60/proof.ipynb\" style=\"text-decoration: none\">&nbsp;&#x22A2;&nbsp;&nbsp;</a><a class=\"ProveItLink\" href=\"../__pv_it/demonstrations/681d898629f95ed3b34a66c156db26b2af0bd7530/expr.ipynb\"><img src=\"data:image/png;base64,iVBORw0KGgoAAAANSUhEUgAAAFQAAAAXCAMAAACieZgxAAAAOVBMVEX///82NjYbGxsSEhJERES6\n",
       "uroQEBAyMjLc3NyYmJgiIiJmZmaqqqp2dnbMzMxUVFSIiIju7u4AAABAaMz/AAAAAXRSTlMAQObY\n",
       "ZgAAAAlwSFlzAAAOxAAADsQBlSsOGwAAAYdJREFUOMutVIuSgyAMzN0l8obg/3/sJaBtVWjn5sxM\n",
       "0aosyW42AHdFhfsjUVsTp/swbdHVMQDhbaDF6rpkWVZ7fEWsB5a/Y1Ir2q5K7BKPXDPI47x8kiSh\n",
       "ROgJBb3HH/k5yA3UuyMxNXoA/kAKF63S+vKUhDtOB134TI18WPi9zC41CAoPSep208tf42mHp43t\n",
       "aeQEpt9hE1vL//7CVv5YKPAZaD1Vi17C7H+x1k3IlDf4/FCWtaUuOsfg0BxkNXywilSaN3pihJD7\n",
       "OU9uEofaNedSc0pCRZXM8VU8a+qleto+kKtT+uJIg6CCMgTfNKJDoubMD3FHUnyGqPhmgOlknxPZ\n",
       "itPDT9a9bLCpI/VMWXSNNJJTkzUTqRe/xaN3j5y+G03LpDXr1QdY7Vn9iXO1teroVD9y+bNP48zI\n",
       "SFDU7cM5yNcSwu6oMh9ycc01CCiNTzXXx2n3fpiPnCDZSM9PKqkF6cyLDasxa8j/GL+U8NWmfe7k\n",
       "5vubQ1zCJWa6FzUWNAu68ctfqx4PltjHO9YAAAAASUVORK5CYII=\n",
       "\" style=\"display:inline;vertical-align:middle;\" /></a></span>"
      ],
      "text/plain": [
       "{x in RationalNonZero, y in Integer} |- x^{y} in RationalNonZero"
      ]
     },
     "metadata": {},
     "output_type": "display_data"
    }
   ],
   "source": [
    "InSet(exp_test_01, RationalNonZero).prove(assumptions=[InSet(x, RationalNonZero), InSet(y, Integer)])"
   ]
  },
  {
   "cell_type": "code",
   "execution_count": 21,
   "metadata": {},
   "outputs": [
    {
     "data": {
      "text/html": [
       "<span style=\"font-size:20px;\"><a class=\"ProveItLink\" href=\"../__pv_it/demonstrations/424ed11a9cb5fd62720aac4bebe5862a84d747210/expr.ipynb\"><img src=\"data:image/png;base64,iVBORw0KGgoAAAANSUhEUgAAAEEAAAAVBAMAAADrxp6XAAAAMFBMVEX///9ERES6uroQEBAyMjLc\n",
       "3NyYmJgiIiJmZmaqqqp2dnbMzMxUVFSIiIju7u4AAAAd7oVFAAAAAXRSTlMAQObYZgAAAAlwSFlz\n",
       "AAAOxAAADsQBlSsOGwAAAQtJREFUKM9jYMAHOBgIAUbyVfAtFJQIwKvijjVD+Cl8KriyEhiYmgQY\n",
       "GgWFBQUTsKnYxQIkBHKxmMErXl4CouXeAInVLJgqmHwfQNwpsBdIzuTYAFPx9s7rVRNAjBCIAgbu\n",
       "BWpAUo1tAkxFA+9ZjgIQwxVm1oVMILmXMwEapmwBbP94wA52gKpgXTANZAavApTPzcABkeI2Ly8v\n",
       "LwSxoO54AHch8wWoA2ECcjEwv0CBfgAfWHkBTEALHB6ZMO5DhcMMXGDWXXicg8L0ENzI+fuaGTTB\n",
       "LJYJMLE1wHg5AbfjxV3ONogU30E9mG/6XX5swBYfTAshoc7AwLMhl1DSOct7chN+FZwHncWgTAAb\n",
       "cDr8eCJUMgAAAABJRU5ErkJggg==\n",
       "\" style=\"display:inline;vertical-align:middle;\" /></a>, <a class=\"ProveItLink\" href=\"../__pv_it/demonstrations/1a5270d7d3401e3ec902ebbf86bec5c78898bba20/expr.ipynb\"><img src=\"data:image/png;base64,iVBORw0KGgoAAAANSUhEUgAAADIAAAATBAMAAAAg4UMRAAAAMFBMVEX////c3NwyMjK6urpEREQi\n",
       "IiLMzMwQEBCqqqp2dnZUVFSYmJhmZmaIiIju7u4AAADlKNhoAAAAAXRSTlMAQObYZgAAAAlwSFlz\n",
       "AAAOxAAADsQBlSsOGwAAAPJJREFUGNNjYMAAHOrfVULdN2BKMPB6JTAoMGGRYOA5wMC7YQY2GS4B\n",
       "hid8DiimuIYGgWg+BoZjXAlIEsy6D2BMtgU5IBV3NjC8AnGF4BIMLA/8gCQnRwHDfhBXEaG9k/sC\n",
       "kMzgCWBYAuIqIGQgbn7AfoGhFmR2aWhoaAjEKQ2TgeIMDPYP2L6B7EO48wkjkL2QgeEQA28BiB8A\n",
       "l1kG9BHfBwYGLwaWBSD+XbibD9gAvQtUeIrBHhx6TA1wN+sxMHoADXw197wA2OtL7CAy5k4lLvUl\n",
       "E0DMSdBAmAIJHRjgVOCrYMAKWC9wTcAuw7H3MHYJABj+NEi8Hq+uAAAAAElFTkSuQmCC\n",
       "\" style=\"display:inline;vertical-align:middle;\" /></a> <a class=\"ProveItLink\" href=\"../__pv_it/demonstrations/a4cd58efd6df6f8d9acaf7c2f2236b83326f51760/proof.ipynb\" style=\"text-decoration: none\">&nbsp;&#x22A2;&nbsp;&nbsp;</a><a class=\"ProveItLink\" href=\"../__pv_it/demonstrations/4bba7fca7aa28a41bb79daf3b96b27210a62cf6b0/expr.ipynb\"><img src=\"data:image/png;base64,iVBORw0KGgoAAAANSUhEUgAAAEsAAAAVBAMAAAD85A5eAAAAMFBMVEX///9ERES6uroQEBAyMjLc\n",
       "3NyYmJgiIiJmZmaqqqp2dnbMzMxUVFSIiIju7u4AAAAd7oVFAAAAAXRSTlMAQObYZgAAAAlwSFlz\n",
       "AAAOxAAADsQBlSsOGwAAAUBJREFUKM9jYCAIOBiIAowIJtMdBh4ilL3lf7AZTZZvoaBEAJqyuOkM\n",
       "F9GU3bFmCD+FpozhFMNZVFVcWQkMTE0CDI2CwoKCCTDRIgZrVGW7WICEQC6aadVMHyAMXvHyEhAt\n",
       "9wZIrGZBUzYj0QHiZd8HEA8I7AWSMzk2wJS9vfN61QS+AEaI/SEQVQzcC9SApBrbBJiyBt6zHAU8\n",
       "F1Qg0q6wgLyQCST3ciZAY4EtgO0fTwJT7gKItANUGeuCaSDTeBWgfG4GDgeEE7nNy8vLC0EsqNse\n",
       "wKWYLyAFvQCMJRcD8ykU6AfwIfQUwBha4HDLhHEfKhxm4ELouQtPPqBYOAQ3fP6+ZgZNhDKWCTDW\n",
       "GmCcnoCLv7jL2TYByXEH9WB+7Xf5sQFnImRaCIksBgaeDblEJduzvCc3EaGM86CzGJQJAAu2R/O9\n",
       "KQyUAAAAAElFTkSuQmCC\n",
       "\" style=\"display:inline;vertical-align:middle;\" /></a></span>"
      ],
      "text/plain": [
       "{x in RationalPos, y in Integer} |- x^{y} in RationalPos"
      ]
     },
     "metadata": {},
     "output_type": "display_data"
    }
   ],
   "source": [
    "InSet(exp_test_01, RationalPos).prove(assumptions=[InSet(x, RationalPos), InSet(y, Integer)])"
   ]
  },
  {
   "cell_type": "code",
   "execution_count": 22,
   "metadata": {},
   "outputs": [
    {
     "data": {
      "text/html": [
       "<span style=\"font-size:20px;\"><a class=\"ProveItLink\" href=\"../../ordering/__pv_it/theorems/d1323f34847310a404e8089c2c268d3c2eb89dbf0/expr.ipynb\"><img src=\"data:image/png;base64,iVBORw0KGgoAAAANSUhEUgAAADQAAAAQBAMAAACra0H4AAAAMFBMVEX///9ERES6uroQEBAyMjLc\n",
       "3NyYmJgiIiJmZmaqqqp2dnbMzMxUVFSIiIju7u4AAAAd7oVFAAAAAXRSTlMAQObYZgAAAAlwSFlz\n",
       "AAAOxAAADsQBlSsOGwAAAMtJREFUGNNjYMAAbM6CX4rFGLACRtYDTMfkcEgtYBDYg1OqlQVF6GJ5\n",
       "uQNcihFZRuUekq5zb4CMt3der5oApFn9kAzklnQFMhp4z3IUAGmWAISUSX3tA6AvAtj+8SSApJCc\n",
       "sSwPZCk3AwfYbobN5UAgADVQLg0sxnwBTD1EdvwOxgcgln4AH4hmR5bi2ArU/1DhMAMXSID3ApIU\n",
       "n8A1Bob5+5oZNMEingipBoY0RgWGF3c52yaARd4IPYCF/McARpGfyMGhJQ4JKCgAAF8xNF8aQs/g\n",
       "AAAAAElFTkSuQmCC\n",
       "\" style=\"display:inline;vertical-align:middle;\" /></a>, <a class=\"ProveItLink\" href=\"../__pv_it/demonstrations/17c23827fca080b752568c5794e0898dfd342a790/expr.ipynb\"><img src=\"data:image/png;base64,iVBORw0KGgoAAAANSUhEUgAAADMAAAATBAMAAADPIygvAAAAMFBMVEX////c3NwyMjK6urpEREQi\n",
       "IiLMzMwQEBCqqqp2dnZUVFSYmJhmZmaIiIju7u4AAADlKNhoAAAAAXRSTlMAQObYZgAAAAlwSFlz\n",
       "AAAOxAAADsQBlSsOGwAAAPJJREFUKM9jYMAAT784PWCY/t2AAQvwYF7AwPcBmwzDUoHZDAwFWKVW\n",
       "ODAJMASgCF0JDVUA0Qv3MiqgShndgzIWciXcBEnx3dnA8AokwKgHU7OQwYHFACjFyVHAsB8kADQf\n",
       "LpXDFweUyuAJYFgClmJASHE3tABd+ID9AkMtSCA9FAgcIFIM67hAjrd/wPYNJPAESRfDKz6QCw8x\n",
       "8IK9x4osxXYBpN+LgWUBSID3AkzKDYivgaROMdhvAItowKRADB6Q51/NPQ9x9ivnB2A66TtQBx84\n",
       "XBgmQVVbukICCgY4FfgqGLAD1gtcE3BIcew9jEMGAPrNObd03oIMAAAAAElFTkSuQmCC\n",
       "\" style=\"display:inline;vertical-align:middle;\" /></a> <a class=\"ProveItLink\" href=\"../__pv_it/demonstrations/e97ff9ab0deb4e769bda2ad1c747f77817b0ac7f0/proof.ipynb\" style=\"text-decoration: none\">&nbsp;&#x22A2;&nbsp;&nbsp;</a><a class=\"ProveItLink\" href=\"../__pv_it/demonstrations/2ea64c60a7ab9e244ed6bd916286676aa184129a0/expr.ipynb\"><img src=\"data:image/png;base64,iVBORw0KGgoAAAANSUhEUgAAAD4AAAARBAMAAAB3FQKUAAAAMFBMVEX///9ERES6uroQEBAyMjLc\n",
       "3NyYmJgiIiJmZmaqqqp2dnbMzMxUVFSIiIju7u4AAAAd7oVFAAAAAXRSTlMAQObYZgAAAAlwSFlz\n",
       "AAAOxAAADsQBlSsOGwAAAP1JREFUKM9jYAADpjsMPAx4wFv+B5tRBNicBb8Ui8G5cdMZLqLqYGQ9\n",
       "wHRMDs49xXAWXX4Bg8AeOLeIwRpTvpUFzq1m+gBhXCwvd4DLM8LlZySCRRlU7iHpP/cG5PQ7r1dN\n",
       "4AtgTACJsvohmc8t6QpkNPCe5SjguaACFmUJQMib1Nc+AHo0gO0fTwJT7gKIPJL7luWBrORm4HBA\n",
       "uHpzORAIQM2XSwOLMV9AyD9E9t8Oxgcgln4A3wOYKDuyPMdWoEkPFQ4zcMFFeS8gyfMJXGNgmL+v\n",
       "mUETYYEnQr6BIY1RgeHFXc62CQj5N0IPYPH3MYBR5CdGTGuJlyP5hwEAGOFBVpy2t1sAAAAASUVO\n",
       "RK5CYII=\n",
       "\" style=\"display:inline;vertical-align:middle;\" /></a></span>"
      ],
      "text/plain": [
       "{x in Real, y in Natural} |- x^{y} in Real"
      ]
     },
     "metadata": {},
     "output_type": "display_data"
    }
   ],
   "source": [
    "InSet(exp_test_01, Real).prove(assumptions=[InSet(x, Real), InSet(y, Natural)])"
   ]
  },
  {
   "cell_type": "code",
   "execution_count": 23,
   "metadata": {},
   "outputs": [
    {
     "data": {
      "text/html": [
       "<span style=\"font-size:20px;\"><a class=\"ProveItLink\" href=\"../../number_sets/real_numbers/__pv_it/theorems/7697fc34c81296f04a039eeb9dd22e91165d63b70/expr.ipynb\"><img src=\"data:image/png;base64,iVBORw0KGgoAAAANSUhEUgAAAEAAAAATBAMAAADSXRa0AAAAMFBMVEX///9ERES6uroQEBAyMjLc\n",
       "3NyYmJgiIiJmZmaqqqp2dnbMzMxUVFSIiIju7u4AAAAd7oVFAAAAAXRSTlMAQObYZgAAAAlwSFlz\n",
       "AAAOxAAADsQBlSsOGwAAANxJREFUKM9jYMAHGhgIAAHyFLA5C34pFsNnAiPrAaZjcngVLGAQ2MPA\n",
       "IShoKCiGS0ErCxYTLpaXO8AVMGIqULmHZMK5N3AFb++8XjUBSLP6IVnBLekKV9DAe5ajAEizBCAU\n",
       "mNTXPoCFJFsA2z+eBJACJEcuy3OA87gZOCCczeVAIAC1Qi4NyXHMF8DUQ2Rv7mB8gFCgH8AH4rEj\n",
       "K+DYCvfhQ4XDDFwgBu8FJAV8AtdgvPn7mhk0wSxPhIIGhjRGBSjvxV3Otglg1huhB7DY/BjAKPIT\n",
       "Mw60xMsdMAQB8jw2YYZ9lmsAAAAASUVORK5CYII=\n",
       "\" style=\"display:inline;vertical-align:middle;\" /></a>, <a class=\"ProveItLink\" href=\"../__pv_it/demonstrations/1a5270d7d3401e3ec902ebbf86bec5c78898bba20/expr.ipynb\"><img src=\"data:image/png;base64,iVBORw0KGgoAAAANSUhEUgAAADIAAAATBAMAAAAg4UMRAAAAMFBMVEX////c3NwyMjK6urpEREQi\n",
       "IiLMzMwQEBCqqqp2dnZUVFSYmJhmZmaIiIju7u4AAADlKNhoAAAAAXRSTlMAQObYZgAAAAlwSFlz\n",
       "AAAOxAAADsQBlSsOGwAAAPJJREFUGNNjYMAAHOrfVULdN2BKMPB6JTAoMGGRYOA5wMC7YQY2GS4B\n",
       "hid8DiimuIYGgWg+BoZjXAlIEsy6D2BMtgU5IBV3NjC8AnGF4BIMLA/8gCQnRwHDfhBXEaG9k/sC\n",
       "kMzgCWBYAuIqIGQgbn7AfoGhFmR2aWhoaAjEKQ2TgeIMDPYP2L6B7EO48wkjkL2QgeEQA28BiB8A\n",
       "l1kG9BHfBwYGLwaWBSD+XbibD9gAvQtUeIrBHhx6TA1wN+sxMHoADXw197wA2OtL7CAy5k4lLvUl\n",
       "E0DMSdBAmAIJHRjgVOCrYMAKWC9wTcAuw7H3MHYJABj+NEi8Hq+uAAAAAElFTkSuQmCC\n",
       "\" style=\"display:inline;vertical-align:middle;\" /></a> <a class=\"ProveItLink\" href=\"../__pv_it/demonstrations/f8c9dc075ddd92e96eaf3dceadbee0f20c7e2b060/proof.ipynb\" style=\"text-decoration: none\">&nbsp;&#x22A2;&nbsp;&nbsp;</a><a class=\"ProveItLink\" href=\"../__pv_it/demonstrations/2ea64c60a7ab9e244ed6bd916286676aa184129a0/expr.ipynb\"><img src=\"data:image/png;base64,iVBORw0KGgoAAAANSUhEUgAAAD4AAAARBAMAAAB3FQKUAAAAMFBMVEX///9ERES6uroQEBAyMjLc\n",
       "3NyYmJgiIiJmZmaqqqp2dnbMzMxUVFSIiIju7u4AAAAd7oVFAAAAAXRSTlMAQObYZgAAAAlwSFlz\n",
       "AAAOxAAADsQBlSsOGwAAAP1JREFUKM9jYAADpjsMPAx4wFv+B5tRBNicBb8Ui8G5cdMZLqLqYGQ9\n",
       "wHRMDs49xXAWXX4Bg8AeOLeIwRpTvpUFzq1m+gBhXCwvd4DLM8LlZySCRRlU7iHpP/cG5PQ7r1dN\n",
       "4AtgTACJsvohmc8t6QpkNPCe5SjguaACFmUJQMib1Nc+AHo0gO0fTwJT7gKIPJL7luWBrORm4HBA\n",
       "uHpzORAIQM2XSwOLMV9AyD9E9t8Oxgcgln4A3wOYKDuyPMdWoEkPFQ4zcMFFeS8gyfMJXGNgmL+v\n",
       "mUETYYEnQr6BIY1RgeHFXc62CQj5N0IPYPH3MYBR5CdGTGuJlyP5hwEAGOFBVpy2t1sAAAAASUVO\n",
       "RK5CYII=\n",
       "\" style=\"display:inline;vertical-align:middle;\" /></a></span>"
      ],
      "text/plain": [
       "{x in RealPos, y in Integer} |- x^{y} in Real"
      ]
     },
     "metadata": {},
     "output_type": "display_data"
    }
   ],
   "source": [
    "InSet(exp_test_01, Real).prove(assumptions=[InSet(x, RealPos), InSet(y, Integer)])"
   ]
  },
  {
   "cell_type": "code",
   "execution_count": 24,
   "metadata": {},
   "outputs": [
    {
     "data": {
      "text/html": [
       "<span style=\"font-size:20px;\"><a class=\"ProveItLink\" href=\"../../number_sets/real_numbers/__pv_it/theorems/7697fc34c81296f04a039eeb9dd22e91165d63b70/expr.ipynb\"><img src=\"data:image/png;base64,iVBORw0KGgoAAAANSUhEUgAAAEAAAAATBAMAAADSXRa0AAAAMFBMVEX///9ERES6uroQEBAyMjLc\n",
       "3NyYmJgiIiJmZmaqqqp2dnbMzMxUVFSIiIju7u4AAAAd7oVFAAAAAXRSTlMAQObYZgAAAAlwSFlz\n",
       "AAAOxAAADsQBlSsOGwAAANxJREFUKM9jYMAHGhgIAAHyFLA5C34pFsNnAiPrAaZjcngVLGAQ2MPA\n",
       "IShoKCiGS0ErCxYTLpaXO8AVMGIqULmHZMK5N3AFb++8XjUBSLP6IVnBLekKV9DAe5ajAEizBCAU\n",
       "mNTXPoCFJFsA2z+eBJACJEcuy3OA87gZOCCczeVAIAC1Qi4NyXHMF8DUQ2Rv7mB8gFCgH8AH4rEj\n",
       "K+DYCvfhQ4XDDFwgBu8FJAV8AtdgvPn7mhk0wSxPhIIGhjRGBSjvxV3Otglg1huhB7DY/BjAKPIT\n",
       "Mw60xMsdMAQB8jw2YYZ9lmsAAAAASUVORK5CYII=\n",
       "\" style=\"display:inline;vertical-align:middle;\" /></a>, <a class=\"ProveItLink\" href=\"../__pv_it/demonstrations/1a5270d7d3401e3ec902ebbf86bec5c78898bba20/expr.ipynb\"><img src=\"data:image/png;base64,iVBORw0KGgoAAAANSUhEUgAAADIAAAATBAMAAAAg4UMRAAAAMFBMVEX////c3NwyMjK6urpEREQi\n",
       "IiLMzMwQEBCqqqp2dnZUVFSYmJhmZmaIiIju7u4AAADlKNhoAAAAAXRSTlMAQObYZgAAAAlwSFlz\n",
       "AAAOxAAADsQBlSsOGwAAAPJJREFUGNNjYMAAHOrfVULdN2BKMPB6JTAoMGGRYOA5wMC7YQY2GS4B\n",
       "hid8DiimuIYGgWg+BoZjXAlIEsy6D2BMtgU5IBV3NjC8AnGF4BIMLA/8gCQnRwHDfhBXEaG9k/sC\n",
       "kMzgCWBYAuIqIGQgbn7AfoGhFmR2aWhoaAjEKQ2TgeIMDPYP2L6B7EO48wkjkL2QgeEQA28BiB8A\n",
       "l1kG9BHfBwYGLwaWBSD+XbibD9gAvQtUeIrBHhx6TA1wN+sxMHoADXw197wA2OtL7CAy5k4lLvUl\n",
       "E0DMSdBAmAIJHRjgVOCrYMAKWC9wTcAuw7H3MHYJABj+NEi8Hq+uAAAAAElFTkSuQmCC\n",
       "\" style=\"display:inline;vertical-align:middle;\" /></a> <a class=\"ProveItLink\" href=\"../__pv_it/demonstrations/c69825bc6f3660873e1d838a44412f6f8d1342920/proof.ipynb\" style=\"text-decoration: none\">&nbsp;&#x22A2;&nbsp;&nbsp;</a><a class=\"ProveItLink\" href=\"../__pv_it/demonstrations/d745f16c8f76e09320d1c09d0dfbee8d7eb96da30/expr.ipynb\"><img src=\"data:image/png;base64,iVBORw0KGgoAAAANSUhEUgAAAEoAAAATBAMAAADFf4Z9AAAAMFBMVEX///9ERES6uroQEBAyMjLc\n",
       "3NyYmJgiIiJmZmaqqqp2dnbMzMxUVFSIiIju7u4AAAAd7oVFAAAAAXRSTlMAQObYZgAAAAlwSFlz\n",
       "AAAOxAAADsQBlSsOGwAAARFJREFUKM9jYCAIGhiIAQJwFtMdBh7Cqt7yP9iMIsXmLPilWAxNVdx0\n",
       "houoJjCyHmA6JoeqiuEUw1l0VQsYBPYwcAgKGgqKwQSLGKwxVbWyoJlVzfQBwrhYXu4AV8WIpmpG\n",
       "IliOQeUeklnn3sBVvb3zetUEvgDGBBCH1Q/JRm5JV7iqBt6zHAU8F1TAciwBCFUm9bUPYGHPFsD2\n",
       "jyeBKXcBRBWS65flOcB53AwcCA7D5nIgEIDaKJeG5GfmCwj2Q+SQ2MH4ACGjH8AH57Ejq+LYCg+E\n",
       "hwqHGbjgcrwXkFTxCVyD8ebva2bQRBjsiVDVwJDGqADlvbjL2TYBoeqN0ANYmvgYwCjyE0dq0hIv\n",
       "d8AQBAAoUENYUOzeDAAAAABJRU5ErkJggg==\n",
       "\" style=\"display:inline;vertical-align:middle;\" /></a></span>"
      ],
      "text/plain": [
       "{x in RealPos, y in Integer} |- x^{y} in RealPos"
      ]
     },
     "metadata": {},
     "output_type": "display_data"
    }
   ],
   "source": [
    "InSet(exp_test_01, RealPos).prove(assumptions=[InSet(x, RealPos), InSet(y, Integer)])"
   ]
  },
  {
   "cell_type": "code",
   "execution_count": 25,
   "metadata": {},
   "outputs": [
    {
     "data": {
      "text/html": [
       "<span style=\"font-size:20px;\"><a class=\"ProveItLink\" href=\"../../number_sets/real_numbers/__pv_it/theorems/c34caf191836023a2e00a70eca44f5973ba282830/expr.ipynb\"><img src=\"data:image/png;base64,iVBORw0KGgoAAAANSUhEUgAAAEoAAAAUBAMAAADYerbFAAAAMFBMVEX///9ERES6uroQEBAyMjLc\n",
       "3NyYmJgiIiJmZmaqqqp2dnbMzMxUVFSIiIju7u4AAAAd7oVFAAAAAXRSTlMAQObYZgAAAAlwSFlz\n",
       "AAAOxAAADsQBlSsOGwAAAS9JREFUKM9jYMANNiqAqVW3GPABvoUTgCTbBSYBvMoYLiYwMDBvYPiK\n",
       "XxVD4gWG+AcMltikUgzl3Q0TIOzkgP0PGMqwmiAQw6CT+ADEeiXEAFRli11VFAMj9wEgI+I0A8jG\n",
       "n7hUcQQ4MDDEABVhuJ5XvLwEoUqA4U0rWPQC0wEkRUy+DxBm8bw7wPAOwlt1Ayj+9s7rVaDQYwh5\n",
       "gGTjxikBKI5o4D3LUQBiuCLcFez+/R6KIrYAtn884MBxQHJ92hNQPAoCAcRIbgYOiDS3eXl5eSFU\n",
       "FeOzBDR/M1+AxK0AklncDXJoqvQD+MDuLkAOr+5AFDUPFQ4zcIFZd5FVPeRFsXL+vmYGTTCLZQJc\n",
       "VQQDW4IQsqoXdznbINJ8B/XgaUKUQdB/AvbExLQQGkMYAADvLE/718ii1wAAAABJRU5ErkJggg==\n",
       "\" style=\"display:inline;vertical-align:middle;\" /></a>, <a class=\"ProveItLink\" href=\"../__pv_it/demonstrations/1a5270d7d3401e3ec902ebbf86bec5c78898bba20/expr.ipynb\"><img src=\"data:image/png;base64,iVBORw0KGgoAAAANSUhEUgAAADIAAAATBAMAAAAg4UMRAAAAMFBMVEX////c3NwyMjK6urpEREQi\n",
       "IiLMzMwQEBCqqqp2dnZUVFSYmJhmZmaIiIju7u4AAADlKNhoAAAAAXRSTlMAQObYZgAAAAlwSFlz\n",
       "AAAOxAAADsQBlSsOGwAAAPJJREFUGNNjYMAAHOrfVULdN2BKMPB6JTAoMGGRYOA5wMC7YQY2GS4B\n",
       "hid8DiimuIYGgWg+BoZjXAlIEsy6D2BMtgU5IBV3NjC8AnGF4BIMLA/8gCQnRwHDfhBXEaG9k/sC\n",
       "kMzgCWBYAuIqIGQgbn7AfoGhFmR2aWhoaAjEKQ2TgeIMDPYP2L6B7EO48wkjkL2QgeEQA28BiB8A\n",
       "l1kG9BHfBwYGLwaWBSD+XbibD9gAvQtUeIrBHhx6TA1wN+sxMHoADXw197wA2OtL7CAy5k4lLvUl\n",
       "E0DMSdBAmAIJHRjgVOCrYMAKWC9wTcAuw7H3MHYJABj+NEi8Hq+uAAAAAElFTkSuQmCC\n",
       "\" style=\"display:inline;vertical-align:middle;\" /></a> <a class=\"ProveItLink\" href=\"../__pv_it/demonstrations/fd567b2f8ce3c5f8befd06b84d6abbf30d30b2350/proof.ipynb\" style=\"text-decoration: none\">&nbsp;&#x22A2;&nbsp;&nbsp;</a><a class=\"ProveItLink\" href=\"../__pv_it/demonstrations/8b276b1cba29e9c475d8a227a6059cf0ebc65ef50/expr.ipynb\"><img src=\"data:image/png;base64,iVBORw0KGgoAAAANSUhEUgAAAFQAAAAUBAMAAADhHQeeAAAAMFBMVEX///9ERES6uroQEBAyMjLc\n",
       "3NyYmJgiIiJmZmaqqqp2dnbMzMxUVFSIiIju7u4AAAAd7oVFAAAAAXRSTlMAQObYZgAAAAlwSFlz\n",
       "AAAOxAAADsQBlSsOGwAAAWFJREFUKM9jYCAANiqAqVW3GAgCvoUTgCTbBSYBwmoZLiYwMDBvYPgK\n",
       "5TLdYeDBqTbxAkP8AwZLKO8t/4PNqPIphvLuhgkQdnLA/gcMZVCJuOkMF9HMEohh0El8AGK9EmIA\n",
       "KrWFSZxiOIuuNIqBkfsAkBFxmgHkgJ8wiSIGa0ylHAEODAwxQJXI3mKoZvoAYfCKl5cglAowvGkF\n",
       "i15gOgBTOiPRARIUvg8QpvK8O8DwDsJbdQMo/vbO61UT+AIYIb4NeYDkgI1TAlDc1MB7lqOA54IK\n",
       "hOeKcGuw+/d7KCrZAtj+8SQw5S6AcB2QvJX2BJQGBIEAYjg3AwdCmoHbvLy8vBCqlPFZAlqoMF9A\n",
       "ShwCSKZyN8ihKdUP4IP7haEAOVy7A1EUPlQ4zMCF4N5FVvqQF8UF8/c1M2giuCwT4EojGNgShJCV\n",
       "vrjL2TYBybEH9eApS5RB0H8CnoTMtBAasRgAAMODXPIWT1emAAAAAElFTkSuQmCC\n",
       "\" style=\"display:inline;vertical-align:middle;\" /></a></span>"
      ],
      "text/plain": [
       "{x in RealNonNeg, y in Integer} |- x^{y} in RealNonNeg"
      ]
     },
     "metadata": {},
     "output_type": "display_data"
    }
   ],
   "source": [
    "InSet(exp_test_01, RealNonNeg).prove(assumptions=[InSet(x, RealNonNeg), InSet(y, Integer)])"
   ]
  },
  {
   "cell_type": "code",
   "execution_count": 26,
   "metadata": {},
   "outputs": [
    {
     "data": {
      "text/html": [
       "<span style=\"font-size:20px;\"><a class=\"ProveItLink\" href=\"../../number_sets/real_numbers/__pv_it/theorems/c34caf191836023a2e00a70eca44f5973ba282830/expr.ipynb\"><img src=\"data:image/png;base64,iVBORw0KGgoAAAANSUhEUgAAAEoAAAAUBAMAAADYerbFAAAAMFBMVEX///9ERES6uroQEBAyMjLc\n",
       "3NyYmJgiIiJmZmaqqqp2dnbMzMxUVFSIiIju7u4AAAAd7oVFAAAAAXRSTlMAQObYZgAAAAlwSFlz\n",
       "AAAOxAAADsQBlSsOGwAAAS9JREFUKM9jYMANNiqAqVW3GPABvoUTgCTbBSYBvMoYLiYwMDBvYPiK\n",
       "XxVD4gWG+AcMltikUgzl3Q0TIOzkgP0PGMqwmiAQw6CT+ADEeiXEAFRli11VFAMj9wEgI+I0A8jG\n",
       "n7hUcQQ4MDDEABVhuJ5XvLwEoUqA4U0rWPQC0wEkRUy+DxBm8bw7wPAOwlt1Ayj+9s7rVaDQYwh5\n",
       "gGTjxikBKI5o4D3LUQBiuCLcFez+/R6KIrYAtn884MBxQHJ92hNQPAoCAcRIbgYOiDS3eXl5eSFU\n",
       "FeOzBDR/M1+AxK0AklncDXJoqvQD+MDuLkAOr+5AFDUPFQ4zcIFZd5FVPeRFsXL+vmYGTTCLZQJc\n",
       "VQQDW4IQsqoXdznbINJ8B/XgaUKUQdB/AvbExLQQGkMYAADvLE/718ii1wAAAABJRU5ErkJggg==\n",
       "\" style=\"display:inline;vertical-align:middle;\" /></a> <a class=\"ProveItLink\" href=\"../__pv_it/demonstrations/c34ec3e31329c0a3dfe726d7fd69158ba0ca7af60/proof.ipynb\" style=\"text-decoration: none\">&nbsp;&#x22A2;&nbsp;&nbsp;</a><a class=\"ProveItLink\" href=\"../__pv_it/demonstrations/28277781404a72ae7a0e66d86f9b5b01990b8e930/expr.ipynb\"><img src=\"data:image/png;base64,iVBORw0KGgoAAAANSUhEUgAAAFkAAAAXBAMAAACSd/6AAAAAMFBMVEX///8QEBCIiIiYmJgiIiKq\n",
       "qqru7u5mZmYyMjLc3Ny6urpUVFRERER2dnbMzMwAAAA+bm1bAAAAAXRSTlMAQObYZgAAAAlwSFlz\n",
       "AAAOxAAADsQBlSsOGwAAAYVJREFUOMtjYCAI+E6BKd5LFxiIAblHQaQRwxqEAf/BALtypsNAQo6B\n",
       "fwJMgOcBPtOZDzFwfmNgDIDx32BR0njmh+NhKFuS7xsDiwFMahcWE3k4N3BtPgZisd1ZAFTNqACV\n",
       "4GzAqvoCw4HXINnqByCX8MNcwr4Ah+pKDqDi3Q9QfZmBEgRHXDzgqnkY2LaDVSkxrIYpKEVSzNWU\n",
       "gDB7WzYDWwI0dsqgCtgcGBiStPPugh02IwHhEr6jnZgu5AWGTQHTJnYHEKcT4W4Jf6cEVJVRQMwC\n",
       "DNEJzN+4wQHagFB92QzI4TsDBCehXpIA+4CBj4EdooxPxMXFxQfqkmPGqEY/uw8MHrALoIHPdgAp\n",
       "BJ/zoLkkfwMDM1jd+gkQ3zsgqWZ/eQBVNftPBhagqpwFGxl4GSABi1DNdkAZVTXnd4ZYIBX/rJBh\n",
       "KViAIwCuuoDBmActls8ntAHJdCXWYogytj3LYGnwzwSeE19RVa9XLUAV4LoDiXmsgENiAgPxgPU3\n",
       "Aymgk2iVAOx6aH44cG1sAAAAAElFTkSuQmCC\n",
       "\" style=\"display:inline;vertical-align:middle;\" /></a></span>"
      ],
      "text/plain": [
       "{x in RealNonNeg} |- sqrt(x) in RealNonNeg"
      ]
     },
     "metadata": {},
     "output_type": "display_data"
    }
   ],
   "source": [
    "InSet(Exp(x, frac(one, two)), RealNonNeg).prove(assumptions=[InSet(x, RealNonNeg)])"
   ]
  },
  {
   "cell_type": "code",
   "execution_count": 27,
   "metadata": {},
   "outputs": [
    {
     "data": {
      "text/html": [
       "<span style=\"font-size:20px;\"><a class=\"ProveItLink\" href=\"../__pv_it/theorems/6bf1a18c2e3498be826f1c5ef7caab578b7ee8c80/expr.ipynb\"><img src=\"data:image/png;base64,iVBORw0KGgoAAAANSUhEUgAAADQAAAAQBAMAAACra0H4AAAAMFBMVEX///9ERES6uroQEBAyMjLc\n",
       "3NyYmJgiIiJmZmaqqqp2dnbMzMxUVFSIiIju7u4AAAAd7oVFAAAAAXRSTlMAQObYZgAAAAlwSFlz\n",
       "AAAOxAAADsQBlSsOGwAAANJJREFUGNNjYMAC+BaW+EYvwCbDcMeM4cXHBmwyHJeAOhKxSu1gfMDA\n",
       "wIMidbG83AFEn2ME2ZeAJKNyD8oQiIAy3t55vWoCkGb1gwqwHtgFZTXwnuUoANIsAVAB7gVqEAZb\n",
       "ANs/HpC5LDCDWRt0oWoYOMB2M2wuBwIBsF1RMFXMF8DUQ7h75BhhLP0APqA/GNjhUhogfzEoMDxU\n",
       "OMzABRLgvYAIjQMMIGvm72tm0ASLeCL87hHwsoKB4cVdzrYJYIE3Qg/gIW9fEYASdlrikICCAgDf\n",
       "OzMVc9WQZAAAAABJRU5ErkJggg==\n",
       "\" style=\"display:inline;vertical-align:middle;\" /></a>, <a class=\"ProveItLink\" href=\"../__pv_it/demonstrations/e7a733f6071838c624bab1a2ecdcd3efaa06f4b40/expr.ipynb\"><img src=\"data:image/png;base64,iVBORw0KGgoAAAANSUhEUgAAADMAAAATBAMAAADPIygvAAAAMFBMVEX////c3NwyMjK6urpEREQi\n",
       "IiLMzMwQEBCqqqp2dnZUVFSYmJhmZmaIiIju7u4AAADlKNhoAAAAAXRSTlMAQObYZgAAAAlwSFlz\n",
       "AAAOxAAADsQBlSsOGwAAAOZJREFUKM9jYMACXroqXczEJsHAu3wD33kfrFJnLRkYuLFKsR3wA5Jr\n",
       "UMSuhIYqACmuBw5A8jWyjNE9CM3CeADC4LuzgeEViMGoB1UixTYBwuDkKGDYD2IwCUClMpk3QBgZ\n",
       "PAEMS8BSMINlmC9AGA/YLzDUghjpoUDgALYLaiCD/QO2byD6CUwXC9iFIHCIgbcARLPCpJjB/mIG\n",
       "Yi8GlgXg4LkADw0rsA4GhlMM9hAXacDD0OkgXyvIb6/mnoc4+5XzA1jIu389CGFNgopYuoIDCg44\n",
       "FfgqGLAD1gtcE3BIcew9jEMGABFGNYI++lBEAAAAAElFTkSuQmCC\n",
       "\" style=\"display:inline;vertical-align:middle;\" /></a> <a class=\"ProveItLink\" href=\"../__pv_it/demonstrations/8eacab24c2169e817618efd714b189720c1222ef0/proof.ipynb\" style=\"text-decoration: none\">&nbsp;&#x22A2;&nbsp;&nbsp;</a><a class=\"ProveItLink\" href=\"../__pv_it/demonstrations/9913731738d4b05051933ec924afce91b86138ef0/expr.ipynb\"><img src=\"data:image/png;base64,iVBORw0KGgoAAAANSUhEUgAAAD4AAAARBAMAAAB3FQKUAAAAMFBMVEX///9ERES6uroQEBAyMjLc\n",
       "3NyYmJgiIiJmZmaqqqp2dnbMzMxUVFSIiIju7u4AAAAd7oVFAAAAAXRSTlMAQObYZgAAAAlwSFlz\n",
       "AAAOxAAADsQBlSsOGwAAAQFJREFUKM9jYAADpjsMPAx4wFv+B5vRhPgWlvhGL4By4qYzXESTv2PG\n",
       "8OJjA4x3iuEsqjTHJaDeRLh8EYM1qvwOxgcMDDxw+WqmDxDGxfJyBxB9jhHkhgSY/IxEsCiDyj2o\n",
       "gEAEzOl3Xq+awBfACFbK6gcVZT2wC8pq4D3LUcBzQQXMYQmAinIvUIMw2ALY/vEkMOVCfMoCs4+1\n",
       "QReqkIHDAeHqzeVAIAC2PwomxnwBIf8QzpJjhLH0A/gewNjscHkNkP8ZFBgeKhxm4IKL8l5AhN8B\n",
       "BpDV8/c1M2giLPCEsy56BLysYGB4cZezbQJC/o3QA3j82VcEYMa0lng5kn8YAN3sQAwJ8D9sAAAA\n",
       "AElFTkSuQmCC\n",
       "\" style=\"display:inline;vertical-align:middle;\" /></a></span>"
      ],
      "text/plain": [
       "{x in Complex, y in Complex} |- x^{y} in Complex"
      ]
     },
     "metadata": {},
     "output_type": "display_data"
    }
   ],
   "source": [
    "InSet(exp_test_01, Complex).prove(assumptions=[InSet(x, Complex), InSet(y, Complex)])"
   ]
  },
  {
   "cell_type": "code",
   "execution_count": 28,
   "metadata": {},
   "outputs": [
    {
     "data": {
      "text/html": [
       "<span style=\"font-size:20px;\"><a class=\"ProveItLink\" href=\"../../number_sets/complex_numbers/__pv_it/theorems/577412f0cc17bcff3fbe7f20aeda2716326d2f200/expr.ipynb\"><img src=\"data:image/png;base64,iVBORw0KGgoAAAANSUhEUgAAAEkAAAAVCAMAAAA94TNiAAAAOVBMVEX///82NjYbGxsSEhJERES6\n",
       "uroQEBAyMjLc3NyYmJgiIiJmZmaqqqp2dnbMzMxUVFSIiIju7u4AAABAaMz/AAAAAXRSTlMAQObY\n",
       "ZgAAAAlwSFlzAAAOxAAADsQBlSsOGwAAATFJREFUOMutVAluxDAIpC0+8QH+/2OLc2ySXWebVYoU\n",
       "pFgw8gyDAW6FwD9FNlPOnG8C+dpzYACD95Cq79kWTc3fATITJ9+6WDZ9IG7G6Bz7ov2EPX70C1Am\n",
       "pBguA3G1WizUkNaTuXlGsnwViHjmAmFFkkXkmV27yq4Q4OKdSjO77y+c2P2hOGPUcNuUBNY5y0Kq\n",
       "Pmq7C+rJUBw/mRfB09PJVqHOpOlPmKuUnB9MvZNXC5ajjdNIYeqDYaC4HrgXzgpjjmN2A6CgfUH1\n",
       "r+G8SqmZwyWSGY2lX2vfXGxcAvc6XVvSg69ksI24ze79AnU3yEPmOKjY/ATmbJ3QQLV9lrA3yMDj\n",
       "i2XInSClVoQUyezs7tLIq448SIp0uuKkV0gU9s1S0cjgLbAtkv/46cHDtlyIX/BAC6sJCLlfAAAA\n",
       "AElFTkSuQmCC\n",
       "\" style=\"display:inline;vertical-align:middle;\" /></a>, <a class=\"ProveItLink\" href=\"../__pv_it/demonstrations/e7a733f6071838c624bab1a2ecdcd3efaa06f4b40/expr.ipynb\"><img src=\"data:image/png;base64,iVBORw0KGgoAAAANSUhEUgAAADMAAAATBAMAAADPIygvAAAAMFBMVEX////c3NwyMjK6urpEREQi\n",
       "IiLMzMwQEBCqqqp2dnZUVFSYmJhmZmaIiIju7u4AAADlKNhoAAAAAXRSTlMAQObYZgAAAAlwSFlz\n",
       "AAAOxAAADsQBlSsOGwAAAOZJREFUKM9jYMACXroqXczEJsHAu3wD33kfrFJnLRkYuLFKsR3wA5Jr\n",
       "UMSuhIYqACmuBw5A8jWyjNE9CM3CeADC4LuzgeEViMGoB1UixTYBwuDkKGDYD2IwCUClMpk3QBgZ\n",
       "PAEMS8BSMINlmC9AGA/YLzDUghjpoUDgALYLaiCD/QO2byD6CUwXC9iFIHCIgbcARLPCpJjB/mIG\n",
       "Yi8GlgXg4LkADw0rsA4GhlMM9hAXacDD0OkgXyvIb6/mnoc4+5XzA1jIu389CGFNgopYuoIDCg44\n",
       "FfgqGLAD1gtcE3BIcew9jEMGABFGNYI++lBEAAAAAElFTkSuQmCC\n",
       "\" style=\"display:inline;vertical-align:middle;\" /></a> <a class=\"ProveItLink\" href=\"../__pv_it/demonstrations/e970d43341277294926673028e569ac19f1645fc0/proof.ipynb\" style=\"text-decoration: none\">&nbsp;&#x22A2;&nbsp;&nbsp;</a><a class=\"ProveItLink\" href=\"../__pv_it/demonstrations/4b13d1ac74faf745947f47b1200edd3f2f5f1b1c0/expr.ipynb\"><img src=\"data:image/png;base64,iVBORw0KGgoAAAANSUhEUgAAAFMAAAAVCAMAAAANbSJDAAAAOVBMVEX///82NjYbGxsSEhJERES6\n",
       "uroQEBAyMjLc3NyYmJgiIiJmZmaqqqp2dnbMzMxUVFSIiIju7u4AAABAaMz/AAAAAXRSTlMAQObY\n",
       "ZgAAAAlwSFlzAAAOxAAADsQBlSsOGwAAAWZJREFUOMutVNl2hTAIpC1kIwvx/z+2RL3VaLxLj5xj\n",
       "HrKMMDMAcFNUuD0SzWuSdBukK231AkB4F2ZxbTVZl8n1RyTtf+VjSJordlMj1cSeZwHdzuaVHAmD\n",
       "teKyIjG2+NHPQ54xg+9ZqTEAyAtGpBh9VnlCfuwsMAumkSMv+usiTyFZlkrBPzDrmsRS+xQPDwKt\n",
       "TF9GZsDVi4WX2r+/cK59rBGEDDT1lWLQsFslFR7c1LXkP02leemkcGSPdi+olUODIDg+7Gw31PNc\n",
       "F7Wl1JyS8lA1b9zp5mw9mzv3rRJH9HOTUoDDLA/t07TuRGcC6s1iB5Be33lVrOhV8n2/nu9r4dQl\n",
       "FmkkZEvVjjU2YQ3c8/nemDBjS9aB+3HT/Xm7Nk/VwQQMg7ubP4GumhcJSuvwUUUiwz5aLXjBmHI8\n",
       "5cqKSXF0age7gpYd6GjgyyHDmoxaPY5PC1IdzCUzBXb/nraUsOvNN+IXnPsNrb2JXe4AAAAASUVO\n",
       "RK5CYII=\n",
       "\" style=\"display:inline;vertical-align:middle;\" /></a></span>"
      ],
      "text/plain": [
       "{x in ComplexNonZero, y in Complex} |- x^{y} in ComplexNonZero"
      ]
     },
     "metadata": {},
     "output_type": "display_data"
    }
   ],
   "source": [
    "InSet(exp_test_01, ComplexNonZero).prove(assumptions=[InSet(x, ComplexNonZero), InSet(y, Complex)])"
   ]
  },
  {
   "cell_type": "code",
   "execution_count": 29,
   "metadata": {},
   "outputs": [
    {
     "data": {
      "text/html": [
       "<span style=\"font-size:20px;\"> <a class=\"ProveItLink\" href=\"../__pv_it/demonstrations/36d292efc8a774e45465ae0ecfca1959cf302cc90/proof.ipynb\" style=\"text-decoration: none\">&nbsp;&#x22A2;&nbsp;&nbsp;</a><a class=\"ProveItLink\" href=\"../__pv_it/demonstrations/f130265c34d5a0feb952172c2ae8ae94ffdc9ade0/expr.ipynb\"><img src=\"data:image/png;base64,iVBORw0KGgoAAAANSUhEUgAAAEgAAAAUBAMAAADcj2b4AAAAMFBMVEX///9UVFTMzMwiIiKYmJgQ\n",
       "EBAyMjKIiIiqqqru7u66urpERERmZmZ2dnbc3NwAAABametFAAAAAXRSTlMAQObYZgAAAAlwSFlz\n",
       "AAAOxAAADsQBlSsOGwAAAR5JREFUKM9jYAABzruCExgIAR4GHgNccgdgDP4FfJ9wKdoAY7BMIEIR\n",
       "AwMvqnUsqbu/mW5BKHp7ZxeQVEZzODefAJfITpgizgMM/Q0MfDsZ0BVdYNigyMCze3f07i0M7D8Y\n",
       "5icwvGF4h6noHBvMJK4oBv4Evk1KJyGS1cbGCXBF3EgO73dg/f//A5i5rBLJJMmJCEVcJnBL+DKR\n",
       "rGPakQdXxFQoBFfE9gChKMzefAJSiAN9B1OE5PArngnIPmH9CWOpGgPBBqh1O13gKpgUGLh/wDiz\n",
       "kYNAhxsewPw/kRQxIyvi0YNHG6sAknXsBUiKODeUwKPSARhOcAMyEIoOMLhwL4Bx15zZhfDDxF0T\n",
       "YKng9wPubT+wp561m40TMAQBsNZSenOnmWAAAAAASUVORK5CYII=\n",
       "\" style=\"display:inline;vertical-align:middle;\" /></a></span>"
      ],
      "text/plain": [
       "|- 3^{2} in RealPos"
      ]
     },
     "metadata": {},
     "output_type": "display_data"
    }
   ],
   "source": [
    "InSet(Exp(three, two), RealPos).prove()"
   ]
  },
  {
   "cell_type": "code",
   "execution_count": 30,
   "metadata": {},
   "outputs": [
    {
     "data": {
      "text/html": [
       "<a class=\"ProveItLink\" href=\"../__pv_it/demonstrations/7fae72758e117db14c9596e62821503a83e4892f0/expr.ipynb\"><img src=\"data:image/png;base64,iVBORw0KGgoAAAANSUhEUgAAABsAAAAVBAMAAABF8IgWAAAAMFBMVEX///8QEBCIiIiYmJgiIiKq\n",
       "qqru7u5mZmYyMjLc3Ny6urpUVFRERER2dnbMzMwAAAA+bm1bAAAAAXRSTlMAQObYZgAAAAlwSFlz\n",
       "AAAOxAAADsQBlSsOGwAAALJJREFUGNNjYIAAvv8g8AHKY+B5wIAM3qDwGHah8DgbULjsC1C4GQwM\n",
       "0yvOwbmlDJwHGO7DlLA5MHBPYGAUgHJ5DRgYvzFw/wQyo4CYhYGBG6jgHwMDkwSQqwRWwwJ047P7\n",
       "QOc5gLnvFYBE/gYGZgUw1xvsgp8MLAlgxgGw+74zxIIlrSG2nE9oA1GsFxhmguj1qgUg6i0DgxqI\n",
       "5pCYANLjXl4OtoD1N9hSYNhAfNmJ8BkA6U0qwGm0g6AAAAAASUVORK5CYII=\n",
       "\" style=\"display:inline;vertical-align:middle;\" /></a>"
      ],
      "text/plain": [
       "sqrt(2)"
      ]
     },
     "metadata": {},
     "output_type": "display_data"
    }
   ],
   "source": [
    "exp_test_03"
   ]
  },
  {
   "cell_type": "code",
   "execution_count": 31,
   "metadata": {},
   "outputs": [
    {
     "data": {
      "text/html": [
       "<span style=\"font-size:20px;\"> <a class=\"ProveItLink\" href=\"../__pv_it/demonstrations/335cbf12299ab0a3e5a6575823838c0b352458c90/proof.ipynb\" style=\"text-decoration: none\">&nbsp;&#x22A2;&nbsp;&nbsp;</a><a class=\"ProveItLink\" href=\"../__pv_it/demonstrations/bed4d05f6489583b22dbc462ab80bfad6c68943a0/expr.ipynb\"><img src=\"data:image/png;base64,iVBORw0KGgoAAAANSUhEUgAAAE8AAAAVBAMAAAD1D64kAAAAMFBMVEX///8QEBCIiIiYmJgiIiKq\n",
       "qqru7u5mZmYyMjLc3Ny6urpUVFRERER2dnbMzMwAAAA+bm1bAAAAAXRSTlMAQObYZgAAAAlwSFlz\n",
       "AAAOxAAADsQBlSsOGwAAAVFJREFUKM9jYIAAvv8g8IGBIOB5wEAceINPkh2JvQuvdQgmZwORCtkX\n",
       "YEpbyJxvkTFAU5jBwDC94hyaygOzGVbbJKAqLGXgPMBwH83YA3MZePg2MNScOXjmjAFEiM2BgXsC\n",
       "A6MAhkL2CQ0oJvIaMDB+Y+D+CeYwHXHxQCg8AFcYBcQsDAzcQEP/gfhcTQkIE7nTNsAUMkkACSWw\n",
       "BAs4BmckIFn9JmICTOGz+8DIcwBLvFcAkZ0IN05s+aKGiJn8DQzMYBUM3mCyAckzxhnIEfmTgQVs\n",
       "G/sBcDIScXFx8YEq5Ek2QIq97wyxYIY1JKQOIJnIV3AMycjzCW0givUCw0wQ7YAcjnVzkBSuVy0A\n",
       "UW8ZGMAuV0JWmMOEZDeHBCgION3Ly8GGcQTAFU5nYDY4hVDI+hsciMCcAPYw255l8NRzkuFMfwBC\n",
       "ZSdqFHPdgUYhCgAAt7BeRsx0+8gAAAAASUVORK5CYII=\n",
       "\" style=\"display:inline;vertical-align:middle;\" /></a></span>"
      ],
      "text/plain": [
       "|- sqrt(2) in RealPos"
      ]
     },
     "metadata": {},
     "output_type": "display_data"
    }
   ],
   "source": [
    "InSet(exp_test_03, RealPos).prove()"
   ]
  },
  {
   "cell_type": "code",
   "execution_count": 32,
   "metadata": {},
   "outputs": [
    {
     "data": {
      "text/html": [
       "<span style=\"font-size:20px;\"> <a class=\"ProveItLink\" href=\"../__pv_it/demonstrations/42f91ef100dc18edcea029c1c6243b712aa36ca10/proof.ipynb\" style=\"text-decoration: none\">&nbsp;&#x22A2;&nbsp;&nbsp;</a><a class=\"ProveItLink\" href=\"../__pv_it/demonstrations/9bbb96d1e015674e4da1c462903db3e95a69bb7f0/expr.ipynb\"><img src=\"data:image/png;base64,iVBORw0KGgoAAAANSUhEUgAAAD4AAAATBAMAAAA63aOfAAAAMFBMVEX///+qqqqYmJiIiIgiIiLu\n",
       "7u4QEBBUVFS6urp2dnbMzMxEREQyMjJmZmbc3NwAAADzFso2AAAAAXRSTlMAQObYZgAAAAlwSFlz\n",
       "AAAOxAAADsQBlSsOGwAAAOtJREFUKM9jYMADLjDgBxvIkWc6tvuP2ya4PN/d0wtQFXDzFXAUbYXJ\n",
       "v2bg/IEuP4Fhw3IG3t27s3dvYqhjYEjDlL/HA9OfH8BQ/wAszrzFxQcuzw2TL2FgqAc7gONwAEJ/\n",
       "aTiS+/3B5JsAhPlcG88h5Lk+g6lzCPtz/J0DEOHHUgCmDiDkJ6keQHLvbYgpKS4uLt5Q87cqIYUX\n",
       "RDvrBiT/reUOgMtLMvCB/eeAJM+7Dq6aawIDM1ixMZI86wYjGO/J3btXwAweAbj8BQYl7gYoz///\n",
       "/z8QB1S3wuLv9wPuPR8xIpZjNiR8UQAA005Hr7zxR/oAAAAASUVORK5CYII=\n",
       "\" style=\"display:inline;vertical-align:middle;\" /></a></span>"
      ],
      "text/plain": [
       "|- 2 in RealPos"
      ]
     },
     "metadata": {},
     "output_type": "display_data"
    }
   ],
   "source": [
    "InSet(two, RealPos).prove()"
   ]
  },
  {
   "cell_type": "code",
   "execution_count": 33,
   "metadata": {},
   "outputs": [
    {
     "data": {
      "text/html": [
       "<strong id=\"two_in_real_k_t\">two_in_real_k_t:</strong> <span style=\"font-size:20px;\"> <a class=\"ProveItLink\" href=\"../__pv_it/demonstrations/0d855b34ee0212d43f05abe2f7d3ebf4f9bd31340/proof.ipynb\" style=\"text-decoration: none\">&nbsp;&#x22A2;&nbsp;&nbsp;</a><a class=\"ProveItLink\" href=\"../__pv_it/demonstrations/371d48b3894e95e20b50c9d70ca5e18a2adb54990/expr.ipynb\"><img src=\"data:image/png;base64,iVBORw0KGgoAAAANSUhEUgAAADIAAAAQBAMAAACmdTG/AAAAMFBMVEX///+qqqqYmJiIiIgiIiLu\n",
       "7u4QEBBUVFS6urp2dnbMzMxEREQyMjJmZmbc3NwAAADzFso2AAAAAXRSTlMAQObYZgAAAAlwSFlz\n",
       "AAAOxAAADsQBlSsOGwAAANlJREFUGNNjYEAHTMd2/3HbBGTw3T29AFWKm6+Ao2grA8NrBs4f6DIT\n",
       "GDYsZ2CoY2BIw5S5x8PAkB/AUP8ALGLt4nIALsPNwFDCwFAPtqjHFElPaTiY6Q8i+I4imca18RyI\n",
       "xfUZRPI8QMjk+DsHgFgsBWAZJBdMUgVbyHAbTC5zAYINUNO2KoH9DNbCEI3s6rXcINMkGfhAVrAg\n",
       "y/CuA+rmmsDADFLAbIAkw7rBiIHhyd27V8ACBxEyFxiUuBsY/P///wMWCN8RAAvr3w+493xECq/O\n",
       "LZDQgQIAelI+b+eBkVAAAAAASUVORK5CYII=\n",
       "\" style=\"display:inline;vertical-align:middle;\" /></a></span><br>"
      ],
      "text/plain": [
       "<IPython.core.display.HTML object>"
      ]
     },
     "metadata": {},
     "output_type": "display_data"
    }
   ],
   "source": [
    "two_in_real_k_t = InSet(two, Real).prove()"
   ]
  },
  {
   "cell_type": "code",
   "execution_count": 34,
   "metadata": {},
   "outputs": [
    {
     "data": {
      "text/html": [
       "<table><tr><th>&nbsp;</th><th>step type</th><th>requirements</th><th>statement</th></tr>\n",
       "<tr><td><a name=\"-0x9046971ce2b3079_step0\">0</a></td><td>instantiation</td><td><a href=\"#-0x9046971ce2b3079_step1\">1</a>, <a href=\"#-0x9046971ce2b3079_step2\">2</a>, <a href=\"#-0x9046971ce2b3079_step3\">3</a></td><td><span style=\"font-size:20px;\"> <a class=\"ProveItLink\" href=\"../__pv_it/demonstrations/0d855b34ee0212d43f05abe2f7d3ebf4f9bd31340/proof.ipynb\" style=\"text-decoration: none\">&nbsp;&#x22A2;&nbsp;&nbsp;</a><a class=\"ProveItLink\" href=\"../__pv_it/demonstrations/371d48b3894e95e20b50c9d70ca5e18a2adb54990/expr.ipynb\"><img src=\"data:image/png;base64,iVBORw0KGgoAAAANSUhEUgAAADIAAAAQBAMAAACmdTG/AAAAMFBMVEX///+qqqqYmJiIiIgiIiLu\n",
       "7u4QEBBUVFS6urp2dnbMzMxEREQyMjJmZmbc3NwAAADzFso2AAAAAXRSTlMAQObYZgAAAAlwSFlz\n",
       "AAAOxAAADsQBlSsOGwAAANlJREFUGNNjYEAHTMd2/3HbBGTw3T29AFWKm6+Ao2grA8NrBs4f6DIT\n",
       "GDYsZ2CoY2BIw5S5x8PAkB/AUP8ALGLt4nIALsPNwFDCwFAPtqjHFElPaTiY6Q8i+I4imca18RyI\n",
       "xfUZRPI8QMjk+DsHgFgsBWAZJBdMUgVbyHAbTC5zAYINUNO2KoH9DNbCEI3s6rXcINMkGfhAVrAg\n",
       "y/CuA+rmmsDADFLAbIAkw7rBiIHhyd27V8ACBxEyFxiUuBsY/P///wMWCN8RAAvr3w+493xECq/O\n",
       "LZDQgQIAelI+b+eBkVAAAAAASUVORK5CYII=\n",
       "\" style=\"display:inline;vertical-align:middle;\" /></a></span></td></tr>\n",
       "<tr><td>&nbsp;</td><td colspan=4 style=\"text-align:left\"><span style=\"font-size:20px;\"><a class=\"ProveItLink\" href=\"../../../__pv_it/common/09585084922504426caf1db2ff588a23a0932a960/expr.ipynb\"><img src=\"data:image/png;base64,iVBORw0KGgoAAAANSUhEUgAAAA8AAAAPBAMAAADJ+Ih5AAAAMFBMVEX///8QEBAiIiLu7u5ERES6\n",
       "urqYmJiIiIjMzMx2dnZUVFRmZmaqqqoyMjLc3NwAAABb1yYoAAAAAXRSTlMAQObYZgAAAAlwSFlz\n",
       "AAAOxAAADsQBlSsOGwAAAF9JREFUCNdjYACBtwxQcB9K8/yHMrjXP4Aw5s1vANN8BfUHIDIM5xPA\n",
       "jBiG/glgxgaG9wtANLv37vUOIIY5AwO/AkSGgUkASLMCdfB+ADIeAjHLPwYGk/+XGXj8/04AADnq\n",
       "Fzds8Dk2AAAAAElFTkSuQmCC\n",
       "\" style=\"display:inline;vertical-align:middle;\" /></a> : <a class=\"ProveItLink\" href=\"../../number_sets/rational_numbers/__pv_it/common/3de3e316334b6ece430a3f1aee01ae68b192ecb30/expr.ipynb\"><img src=\"data:image/png;base64,iVBORw0KGgoAAAANSUhEUgAAABAAAAASBAMAAACgFUNZAAAAMFBMVEX///+qqqoyMjK6urqYmJgi\n",
       "IiLMzMwQEBBUVFSIiIjc3NxmZmZERER2dnbu7u4AAACF9pTcAAAAAXRSTlMAQObYZgAAAAlwSFlz\n",
       "AAAOxAAADsQBlSsOGwAAAIhJREFUCNdjYGB4e+bMLgYg4GxP4Iq4AGRcucLAYG3DwMB2QYGBgYdl\n",
       "AgPPuwYGBt4EBYY3bBMYGBgFtjHkMjswMDA7ODJYsggAFU4QYVjLCBaZzMADUbOPgecVVBczxByg\n",
       "wi1Aky2AJjPwguzaALJ19Sf9bQxg0Aa0CQw4JswQMwCzJA7VOAAAB5Qgh4eE7doAAAAASUVORK5C\n",
       "YII=\n",
       "\" style=\"display:inline;vertical-align:middle;\" /></a>, <a class=\"ProveItLink\" href=\"../../../__pv_it/common/a9162d1c3cc0470c02e5daf414500903a7a419230/expr.ipynb\"><img src=\"data:image/png;base64,iVBORw0KGgoAAAANSUhEUgAAABAAAAAOBAMAAADUAYG5AAAAMFBMVEX///92dnaqqqoiIiLu7u5m\n",
       "Zma6urqIiIjc3NwQEBDMzMwyMjJUVFRERESYmJgAAAAeMT9/AAAAAXRSTlMAQObYZgAAAAlwSFlz\n",
       "AAAOxAAADsQBlSsOGwAAAHJJREFUCNdjYGB4+//Mmb0LGIBgLgMDzy8gzfGdgYHtK5DBB+TxATkM\n",
       "PB8YGLhnABmcFxhYDoMUr79efvoBSFN9AwPTPBDjJhDLg6T+APH7AgYGrn9AxvkEBgb2H0DObyCH\n",
       "ewIDQ+YWoHH3/5w5fYmBAQBWoiHo17XzsQAAAABJRU5ErkJggg==\n",
       "\" style=\"display:inline;vertical-align:middle;\" /></a> : <a class=\"ProveItLink\" href=\"../../number_sets/real_numbers/__pv_it/common/93cac87a1a47e613f7a83b23ef7891599a1a4cca0/expr.ipynb\"><img src=\"data:image/png;base64,iVBORw0KGgoAAAANSUhEUgAAAA8AAAAPBAMAAADJ+Ih5AAAAMFBMVEX///+IiIiqqqpmZmbMzMx2\n",
       "dnbu7u66urpUVFTc3NwiIiJEREQQEBAyMjKYmJgAAAA9S0TaAAAAAXRSTlMAQObYZgAAAAlwSFlz\n",
       "AAAOxAAADsQBlSsOGwAAAGFJREFUCNdjeHt6/63TDxiAYMMMhorXCSDGVAZulgYIg3nCBRhjA4TB\n",
       "kQaV8tadAGLMufVLDKx96rtcBgiDOw9i4FQWg20QBoPJbCgjmxEkt2EyA9+D7QwMQNt3Muy+rwAA\n",
       "UbUqpptLVNkAAAAASUVORK5CYII=\n",
       "\" style=\"display:inline;vertical-align:middle;\" /></a>, <a class=\"ProveItLink\" href=\"../../../__pv_it/common/a0d9d672aa5e272d907247690c152cc2c6daafb70/expr.ipynb\"><img src=\"data:image/png;base64,iVBORw0KGgoAAAANSUhEUgAAAAsAAAAJBAMAAAAWSsseAAAAMFBMVEX///9ERES6uroQEBAyMjLc\n",
       "3NyYmJgiIiJmZmaqqqp2dnbMzMxUVFSIiIju7u4AAAAd7oVFAAAAAXRSTlMAQObYZgAAAAlwSFlz\n",
       "AAAOxAAADsQBlSsOGwAAAENJREFUCNdjYHh75/WqCQwMDbxnOQoY2ALY/vEkMHAzcDgwgADzBTCl\n",
       "H8D3gOGhwmEGLgaG+fuaGTQZGF7c5WybwAAAJTwQ1a2DuB8AAAAASUVORK5CYII=\n",
       "\" style=\"display:inline;vertical-align:middle;\" /></a> : <a class=\"ProveItLink\" href=\"../../numerals/__pv_it/common/af4aab8a07465db063742696e006d04670f30cf10/expr.ipynb\"><img src=\"data:image/png;base64,iVBORw0KGgoAAAANSUhEUgAAAAkAAAAOBAMAAAAPuiubAAAAMFBMVEX///+qqqqYmJiIiIgiIiLu\n",
       "7u4QEBBUVFS6urp2dnbMzMxEREQyMjJmZmbc3NwAAADzFso2AAAAAXRSTlMAQObYZgAAAAlwSFlz\n",
       "AAAOxAAADsQBlSsOGwAAAE9JREFUCNdj4Lt7egEDw2sGzh8MDHUMDGkMDPkBDPUPGEoYGOqBEgwM\n",
       "/iCC6zOIZCkAkbdBBBOYKcnA94CBawIDcwDDk7t3rwAV////hwEAK9UUlDYDfx8AAAAASUVORK5C\n",
       "YII=\n",
       "\" style=\"display:inline;vertical-align:middle;\" /></a></span></td></tr><tr><td><a name=\"-0x9046971ce2b3079_step1\">1</a></td><td><i>reference</i></td><td><a href=\"#-0x9046971ce2b3079_step6\">6</a></td><td><span style=\"font-size:20px;\"> <a class=\"ProveItLink\" href=\"../../../logic/sets/inclusion/_theory_nbs_/proofs/superset_membership_from_proper_subset/thm_proof.ipynb\" style=\"text-decoration: none\">&nbsp;&#x22A2;&nbsp;&nbsp;</a><a class=\"ProveItLink\" href=\"../../../logic/sets/inclusion/__pv_it/theorems/8c2c4c3c91efdbf0b7e86e4a2d99545aea54db000/expr.ipynb\"><img src=\"data:image/png;base64,iVBORw0KGgoAAAANSUhEUgAAAPcAAAAXBAMAAAAl5sTiAAAAMFBMVEX///+IiIgiIiIQEBB2dnbu\n",
       "7u5ERETMzMzc3NwyMjK6urpmZmaYmJiqqqpUVFQAAAB6qHgnAAAAAXRSTlMAQObYZgAAAAlwSFlz\n",
       "AAAOxAAADsQBlSsOGwAAA3hJREFUSMe1ll9IU1Ecx7/L3e1uu5tXohCykutDD/WwIqqHlD2MoEQb\n",
       "RkEIsgoXDMQbRo81K3zUvSgRWIsMCYJmiVZILR+i0NAeo4IRVIihBsk00zr3nN17z6Z3ysAD2z33\n",
       "/H73fM75/TsHKLLZFLWwglhIGNvABAWaPbGOws5CwntshrTW/1wM3Kc9vCkLuTew5vCbfzMzPSps\n",
       "KQp/oQ3dKgbu0fbuilnIz1qMHwJ8GaCbwq9q7gkXA3dqRuuwko9YRMIvwL0EjFG4K0Qek0X5nKwe\n",
       "dVZyf87bdkWJ045Edi2RBZSEtBkkYn1XcQE3Th5xK5fnCB5u03u+OYI7Qn4pGrIHFOVgcfASRakK\n",
       "WIg9RCCUfbtMLSN2G+MlYQhfSY7Z0xQ+DDTT8VDe53pHsIJ7VDjyPjJ0yc7IDLvkJ8iNymvnyqa0\n",
       "BJHiFN4JkaabcJhKrywFh2j2O3T9U0YxcLYO1l404eS7zrwlGbpbSBi9xUToJ4WbCrtj8B7V3OKn\n",
       "cEeI1Qv7MouIStj8OfCTZB5nfSRClj8KbOWKTDNO6EqXvkd1XWZeIlbxnL20KaSxjLqgKZEVOufo\n",
       "DF6ZLax/P4uIJKQ5Hu5uk4FBtqNpYIKDfzDizTNs6hpwgE2JM+bOV8hvgii52c4Rf02H5Tvsq0k0\n",
       "pHi4zZU2crEawj4O7pLINLYd7c9QYeqaZod7Aafpi8F2/iV/s9qWKxm8jsaiLWujroqxH+DhsieO\n",
       "Jr1CjL9UObj9I4m3cl+4Vwibuqw5ZAhRnx80G2yycRwtkAUsat4NM/gNutr+rDdHIUzzcLdKQuAR\n",
       "9HhoSnJwsYZ0Ug5ZdadM3aw4DW+m0e9mJus1koDI73ezVKRwH93MYHA2lHVrV4KDe4L18/gCPR7E\n",
       "P/ypRm1UGoPUE4m0ZHWz9q2EMCB/es/emqIsJX2tKzNTLdQTCe5ctBGmytyKx3yqyRAzuAk9HtyZ\n",
       "VUdqG2LOgKmbbXtyUrDvvJJbC6/zMxDDlk4KAYjzEPZyZtcMugwHqxJdITQk8+Ci/ziSrEwx3Wwb\n",
       "K1wgRzi4pwbCq9vOarz7HRya5OBP02hcTAi0tEh3g7Utqy4TA31lIXSohq4ecbGC15zw6uuIl+s7\n",
       "copphBYZy5uMcCwSzSu0BY9pbWn58AdW8DVq+3pXsPZCwnISZVV58NTG4ZvbxM1H/Ad8JOFpuPeG\n",
       "lQAAAABJRU5ErkJggg==\n",
       "\" style=\"display:inline;vertical-align:middle;\" /></a></span></td></tr>\n",
       "<tr><td><a name=\"-0x9046971ce2b3079_step2\">2</a></td><td>conjecture</td><td></td><td><span style=\"font-size:20px;\"> <a class=\"ProveItLink\" href=\"../../number_sets/real_numbers/_theory_nbs_/proofs/rational_within_real/thm_proof.ipynb\" style=\"text-decoration: none\">&nbsp;&#x22A2;&nbsp;&nbsp;</a><a class=\"ProveItLink\" href=\"../../number_sets/real_numbers/__pv_it/theorems/e682cd49905f8b52fcd025dd4d0c53b5fa6a75840/expr.ipynb\"><img src=\"data:image/png;base64,iVBORw0KGgoAAAANSUhEUgAAADsAAAASBAMAAAAXqLt+AAAAMFBMVEX///+qqqoyMjK6urqYmJgi\n",
       "IiLMzMwQEBBUVFSIiIjc3NxmZmZERER2dnbu7u4AAACF9pTcAAAAAXRSTlMAQObYZgAAAAlwSFlz\n",
       "AAAOxAAADsQBlSsOGwAAAQ9JREFUKM9jYGB4e+bMLgY04FRzXrXGAcTibE/giriALn9gBYOFzwMg\n",
       "48oVBgZrGwzptQw8bA0MDGwXFBgYeFgmYEpzLwDJvAOq4U1QAAtyHg0NDU2ASx9gYHjDBtTIKLAN\n",
       "JMamuwBJNwdIYy4z0IHMDo4gsacLkA3PEQJyLVkEgNomiIDEmpHsXq76dR6QXssI1j0ZJKaA7DSX\n",
       "RyCaB2L3PpDVDcjSPE9AwcLzCu5yLhRptg3ngDQzxN8CILEAFH9vWwNibAGGmgUk1LagSL/hBJnO\n",
       "CwrzDWAxJgOE9GoGFofDINbqT/rbIGJ8J+wQMXaK4Yw+2Mo2eIgz34EFKhLgmDBDzIABN5A4BIl6\n",
       "TAAAbZ9Tg9u7lbQAAAAASUVORK5CYII=\n",
       "\" style=\"display:inline;vertical-align:middle;\" /></a></span></td></tr>\n",
       "<tr><td>&nbsp;</td><td colspan=4 style-\"text-align:left\"><a class=\"ProveItLink\" href=\"../../number_sets/real_numbers/_theory_nbs_/proofs/rational_within_real/thm_proof.ipynb\">proveit.numbers.number_sets.real_numbers.rational_within_real</a></td></tr><tr><td><a name=\"-0x9046971ce2b3079_step3\">3</a></td><td>instantiation</td><td><a href=\"#-0x9046971ce2b3079_step6\">6</a>, <a href=\"#-0x9046971ce2b3079_step4\">4</a>, <a href=\"#-0x9046971ce2b3079_step5\">5</a></td><td><span style=\"font-size:20px;\"> <a class=\"ProveItLink\" href=\"../__pv_it/demonstrations/65b3940948d41d20a3439fa181e29998369e49ad0/proof.ipynb\" style=\"text-decoration: none\">&nbsp;&#x22A2;&nbsp;&nbsp;</a><a class=\"ProveItLink\" href=\"../__pv_it/demonstrations/9fcd7e1f9f79a43396482feffbef8cf6ef083bbd0/expr.ipynb\"><img src=\"data:image/png;base64,iVBORw0KGgoAAAANSUhEUgAAADMAAAASBAMAAAAEf/uKAAAAMFBMVEX///8AAAAAAAAAAAAAAAAA\n",
       "AAAAAAAAAAAAAAAAAAAAAAAAAAAAAAAAAAAAAAAAAAAv3aB7AAAAD3RSTlMAIpnNuzKJRKvvEN12\n",
       "ZlQ4bmvwAAAACXBIWXMAAA7EAAAOxAGVKw4bAAABAklEQVQY02NgwARcKS5OAkCaUckkAE3qxFQG\n",
       "6TYgLcLA9h1Vhu3aBQZ2dQcGhkYGhpmoUmHMQMLhDgPD/AUM/QJgoSO7dxuAaK8VQCIVKN/NwNAP\n",
       "tqz4FNQRDjFA8h0TWHA/iGC0gprHmlALJGt5H4DYf0AizAJQKfYD94BkDN8FIMndAJaCuYIx4S1I\n",
       "F08BkFQBi0TuBgIHEAtq1wIGBl6wJoYlcMd7SUBdyPCMgRFkDTdcqgzsr3sgBzHwAPUy8ByASTGB\n",
       "QqMdaLa0kpI2WMQOri0DGIZNIE/9//8ZLLDCfQHMjfrGn1CDvMwbElAMDBwBdxhwgR6evnAcUnwt\n",
       "lr4MAECIOxjlwmF1AAAAAElFTkSuQmCC\n",
       "\" style=\"display:inline;vertical-align:middle;\" /></a></span></td></tr>\n",
       "<tr><td>&nbsp;</td><td colspan=4 style=\"text-align:left\"><span style=\"font-size:20px;\"><a class=\"ProveItLink\" href=\"../../../__pv_it/common/09585084922504426caf1db2ff588a23a0932a960/expr.ipynb\"><img src=\"data:image/png;base64,iVBORw0KGgoAAAANSUhEUgAAAA8AAAAPBAMAAADJ+Ih5AAAAMFBMVEX///8QEBAiIiLu7u5ERES6\n",
       "urqYmJiIiIjMzMx2dnZUVFRmZmaqqqoyMjLc3NwAAABb1yYoAAAAAXRSTlMAQObYZgAAAAlwSFlz\n",
       "AAAOxAAADsQBlSsOGwAAAF9JREFUCNdjYACBtwxQcB9K8/yHMrjXP4Aw5s1vANN8BfUHIDIM5xPA\n",
       "jBiG/glgxgaG9wtANLv37vUOIIY5AwO/AkSGgUkASLMCdfB+ADIeAjHLPwYGk/+XGXj8/04AADnq\n",
       "Fzds8Dk2AAAAAElFTkSuQmCC\n",
       "\" style=\"display:inline;vertical-align:middle;\" /></a> : <a class=\"ProveItLink\" href=\"../../number_sets/integers/__pv_it/common/e6b4e90f9467053e055a4fd2f735c0bb79cb79300/expr.ipynb\"><img src=\"data:image/png;base64,iVBORw0KGgoAAAANSUhEUgAAAA4AAAAPBAMAAAAmOuNHAAAAMFBMVEX///+6urru7u7c3Nx2dnZm\n",
       "ZmbMzMxUVFSIiIiYmJgiIiJEREQQEBAyMjKqqqoAAAB4Cw+YAAAAAXRSTlMAQObYZgAAAAlwSFlz\n",
       "AAAOxAAADsQBlSsOGwAAAHFJREFUCNdj4Lvz5/aqPRMYOLYnMFzgZWBgDWDgmODHwMBuwKDNtIGB\n",
       "gYmBIYw9gQEI2ApSQRQDt8ImMP2EswFMg3QBAccDRwYGBQYGbWagrmIGhjKgCUwfGNgCRIGGLQDq\n",
       "usTAvG8Dg8ze07vPn3YAAOWCGbaz3v97AAAAAElFTkSuQmCC\n",
       "\" style=\"display:inline;vertical-align:middle;\" /></a>, <a class=\"ProveItLink\" href=\"../../../__pv_it/common/a9162d1c3cc0470c02e5daf414500903a7a419230/expr.ipynb\"><img src=\"data:image/png;base64,iVBORw0KGgoAAAANSUhEUgAAABAAAAAOBAMAAADUAYG5AAAAMFBMVEX///92dnaqqqoiIiLu7u5m\n",
       "Zma6urqIiIjc3NwQEBDMzMwyMjJUVFRERESYmJgAAAAeMT9/AAAAAXRSTlMAQObYZgAAAAlwSFlz\n",
       "AAAOxAAADsQBlSsOGwAAAHJJREFUCNdjYGB4+//Mmb0LGIBgLgMDzy8gzfGdgYHtK5DBB+TxATkM\n",
       "PB8YGLhnABmcFxhYDoMUr79efvoBSFN9AwPTPBDjJhDLg6T+APH7AgYGrn9AxvkEBgb2H0DObyCH\n",
       "ewIDQ+YWoHH3/5w5fYmBAQBWoiHo17XzsQAAAABJRU5ErkJggg==\n",
       "\" style=\"display:inline;vertical-align:middle;\" /></a> : <a class=\"ProveItLink\" href=\"../../number_sets/rational_numbers/__pv_it/common/3de3e316334b6ece430a3f1aee01ae68b192ecb30/expr.ipynb\"><img src=\"data:image/png;base64,iVBORw0KGgoAAAANSUhEUgAAABAAAAASBAMAAACgFUNZAAAAMFBMVEX///+qqqoyMjK6urqYmJgi\n",
       "IiLMzMwQEBBUVFSIiIjc3NxmZmZERER2dnbu7u4AAACF9pTcAAAAAXRSTlMAQObYZgAAAAlwSFlz\n",
       "AAAOxAAADsQBlSsOGwAAAIhJREFUCNdjYGB4e+bMLgYg4GxP4Iq4AGRcucLAYG3DwMB2QYGBgYdl\n",
       "AgPPuwYGBt4EBYY3bBMYGBgFtjHkMjswMDA7ODJYsggAFU4QYVjLCBaZzMADUbOPgecVVBczxByg\n",
       "wi1Aky2AJjPwguzaALJ19Sf9bQxg0Aa0CQw4JswQMwCzJA7VOAAAB5Qgh4eE7doAAAAASUVORK5C\n",
       "YII=\n",
       "\" style=\"display:inline;vertical-align:middle;\" /></a>, <a class=\"ProveItLink\" href=\"../../../__pv_it/common/a0d9d672aa5e272d907247690c152cc2c6daafb70/expr.ipynb\"><img src=\"data:image/png;base64,iVBORw0KGgoAAAANSUhEUgAAAAsAAAAJBAMAAAAWSsseAAAAMFBMVEX///9ERES6uroQEBAyMjLc\n",
       "3NyYmJgiIiJmZmaqqqp2dnbMzMxUVFSIiIju7u4AAAAd7oVFAAAAAXRSTlMAQObYZgAAAAlwSFlz\n",
       "AAAOxAAADsQBlSsOGwAAAENJREFUCNdjYHh75/WqCQwMDbxnOQoY2ALY/vEkMHAzcDgwgADzBTCl\n",
       "H8D3gOGhwmEGLgaG+fuaGTQZGF7c5WybwAAAJTwQ1a2DuB8AAAAASUVORK5CYII=\n",
       "\" style=\"display:inline;vertical-align:middle;\" /></a> : <a class=\"ProveItLink\" href=\"../../numerals/__pv_it/common/af4aab8a07465db063742696e006d04670f30cf10/expr.ipynb\"><img src=\"data:image/png;base64,iVBORw0KGgoAAAANSUhEUgAAAAkAAAAOBAMAAAAPuiubAAAAMFBMVEX///+qqqqYmJiIiIgiIiLu\n",
       "7u4QEBBUVFS6urp2dnbMzMxEREQyMjJmZmbc3NwAAADzFso2AAAAAXRSTlMAQObYZgAAAAlwSFlz\n",
       "AAAOxAAADsQBlSsOGwAAAE9JREFUCNdj4Lt7egEDw2sGzh8MDHUMDGkMDPkBDPUPGEoYGOqBEgwM\n",
       "/iCC6zOIZCkAkbdBBBOYKcnA94CBawIDcwDDk7t3rwAV////hwEAK9UUlDYDfx8AAAAASUVORK5C\n",
       "YII=\n",
       "\" style=\"display:inline;vertical-align:middle;\" /></a></span></td></tr><tr><td><a name=\"-0x9046971ce2b3079_step4\">4</a></td><td>conjecture</td><td></td><td><span style=\"font-size:20px;\"> <a class=\"ProveItLink\" href=\"../../number_sets/rational_numbers/_theory_nbs_/proofs/int_within_rational/thm_proof.ipynb\" style=\"text-decoration: none\">&nbsp;&#x22A2;&nbsp;&nbsp;</a><a class=\"ProveItLink\" href=\"../../number_sets/rational_numbers/__pv_it/theorems/f82654afbc103bcf8089d3e3a9860276c55562410/expr.ipynb\"><img src=\"data:image/png;base64,iVBORw0KGgoAAAANSUhEUgAAADkAAAASBAMAAAATXWtDAAAAMFBMVEX///+6urru7u7c3Nx2dnZm\n",
       "ZmbMzMxUVFSIiIiYmJgiIiJEREQQEBAyMjKqqqoAAAB4Cw+YAAAAAXRSTlMAQObYZgAAAAlwSFlz\n",
       "AAAOxAAADsQBlSsOGwAAAR1JREFUKM9j4Lvz5/aqPRMYUAGT9+6tBkCaY3sCwwVeNEmG9mMMViVA\n",
       "mjWAgWOCH5oky5QJDIyBGxgY2A0YtJk2oMmmgAzbMANoAwNDGHsCRLB71apVy0CMTepAwg1sH1tB\n",
       "KkQy1xnmpg0ZQPIdK0gTt8ImiNhimMFsDpJAUpLzAZB8wtkAFmMXgMkyNswDkhl8IH/C/IPwFrPD\n",
       "S5BeDqByjgeODAwKQF46ws1Qe4Gi2sxA/xQDeeYI2U3mMDeXAX3M9AHI4ELIioD9C7ScLUAU6KAF\n",
       "oFBDBDYrKKwKN4D8c4mBeR84sC4iNLsDw7kUSMvsPb37/GkHkJB2oQLc1fF3vyagBa/ILmhIAu1K\n",
       "mMGAB1Rw1CXiluWrvrOTAQA3YEQkJkVQqQAAAABJRU5ErkJggg==\n",
       "\" style=\"display:inline;vertical-align:middle;\" /></a></span></td></tr>\n",
       "<tr><td>&nbsp;</td><td colspan=4 style-\"text-align:left\"><a class=\"ProveItLink\" href=\"../../number_sets/rational_numbers/_theory_nbs_/proofs/int_within_rational/thm_proof.ipynb\">proveit.numbers.number_sets.rational_numbers.int_within_rational</a></td></tr><tr><td><a name=\"-0x9046971ce2b3079_step5\">5</a></td><td>instantiation</td><td><a href=\"#-0x9046971ce2b3079_step6\">6</a>, <a href=\"#-0x9046971ce2b3079_step7\">7</a>, <a href=\"#-0x9046971ce2b3079_step8\">8</a></td><td><span style=\"font-size:20px;\"> <a class=\"ProveItLink\" href=\"../__pv_it/demonstrations/288cb3dc7727810780b63ee223c41777e904a1d30/proof.ipynb\" style=\"text-decoration: none\">&nbsp;&#x22A2;&nbsp;&nbsp;</a><a class=\"ProveItLink\" href=\"../__pv_it/demonstrations/bac10758646a1685ada3fe39e190d9fb360007460/expr.ipynb\"><img src=\"data:image/png;base64,iVBORw0KGgoAAAANSUhEUgAAADEAAAAQBAMAAABNQoq8AAAAMFBMVEX///8AAAAAAAAAAAAAAAAA\n",
       "AAAAAAAAAAAAAAAAAAAAAAAAAAAAAAAAAAAAAAAAAAAv3aB7AAAAD3RSTlMAIpnNuzKJRKvvEN12\n",
       "ZlQ4bmvwAAAACXBIWXMAAA7EAAAOxAGVKw4bAAAA6ElEQVQY02NgwACP50/23jKXgYFRySQAVeZI\n",
       "KwMzgwEDgwgD23dUGSUGhrNsDxgYGhkYZqLKNDJwOSwB0vMXMPQLQEzZvdsARC9gYApoBdLdDAz9\n",
       "YIuKT8F1RbAqQBj7QQSjFcI8L5YFYJr1D4hkFoBL8CXcgTC4G8AyCC1gN4OACpiM3A0EDmDmObYC\n",
       "Bi4gzQvWwrAEroXLQYSBgQNo+DMGRpAV3HAZjgCgH9cD7U9g4AG5hOcATCaIXQHsGWklJW2wgB3c\n",
       "zcwLGESeAD3z//9nsMAKd4gn2KdYunj+dEMOrzLv3QZIXAD9XDFvtfFLvQAAAABJRU5ErkJggg==\n",
       "\" style=\"display:inline;vertical-align:middle;\" /></a></span></td></tr>\n",
       "<tr><td>&nbsp;</td><td colspan=4 style=\"text-align:left\"><span style=\"font-size:20px;\"><a class=\"ProveItLink\" href=\"../../../__pv_it/common/09585084922504426caf1db2ff588a23a0932a960/expr.ipynb\"><img src=\"data:image/png;base64,iVBORw0KGgoAAAANSUhEUgAAAA8AAAAPBAMAAADJ+Ih5AAAAMFBMVEX///8QEBAiIiLu7u5ERES6\n",
       "urqYmJiIiIjMzMx2dnZUVFRmZmaqqqoyMjLc3NwAAABb1yYoAAAAAXRSTlMAQObYZgAAAAlwSFlz\n",
       "AAAOxAAADsQBlSsOGwAAAF9JREFUCNdjYACBtwxQcB9K8/yHMrjXP4Aw5s1vANN8BfUHIDIM5xPA\n",
       "jBiG/glgxgaG9wtANLv37vUOIIY5AwO/AkSGgUkASLMCdfB+ADIeAjHLPwYGk/+XGXj8/04AADnq\n",
       "Fzds8Dk2AAAAAElFTkSuQmCC\n",
       "\" style=\"display:inline;vertical-align:middle;\" /></a> : <a class=\"ProveItLink\" href=\"../../number_sets/natural_numbers/__pv_it/common/8b7c321957f52ed3b05b36af612eeae4fa4783bc0/expr.ipynb\"><img src=\"data:image/png;base64,iVBORw0KGgoAAAANSUhEUgAAAA8AAAAPBAMAAADJ+Ih5AAAAMFBMVEX///9mZmbMzMyIiIiYmJjc\n",
       "3NxUVFSqqqq6uroQEBB2dnYyMjJEREQiIiLu7u4AAAAPqInnAAAAAXRSTlMAQObYZgAAAAlwSFlz\n",
       "AAAOxAAADsQBlSsOGwAAAGpJREFUCNdjePvn9AOGlT8bGBiOcyQw8H1gYGDIDVjCwDAByEg/wB3A\n",
       "cAHISHVm3QBhsClYQRgMB3gaIAxFvnsQBktBzQQwgyGPDcp4xgeRYmAyOABkHAJiIxBjOxAzbmBg\n",
       "0P4J5PFtYAAA324hOGf9e3cAAAAASUVORK5CYII=\n",
       "\" style=\"display:inline;vertical-align:middle;\" /></a>, <a class=\"ProveItLink\" href=\"../../../__pv_it/common/a9162d1c3cc0470c02e5daf414500903a7a419230/expr.ipynb\"><img src=\"data:image/png;base64,iVBORw0KGgoAAAANSUhEUgAAABAAAAAOBAMAAADUAYG5AAAAMFBMVEX///92dnaqqqoiIiLu7u5m\n",
       "Zma6urqIiIjc3NwQEBDMzMwyMjJUVFRERESYmJgAAAAeMT9/AAAAAXRSTlMAQObYZgAAAAlwSFlz\n",
       "AAAOxAAADsQBlSsOGwAAAHJJREFUCNdjYGB4+//Mmb0LGIBgLgMDzy8gzfGdgYHtK5DBB+TxATkM\n",
       "PB8YGLhnABmcFxhYDoMUr79efvoBSFN9AwPTPBDjJhDLg6T+APH7AgYGrn9AxvkEBgb2H0DObyCH\n",
       "ewIDQ+YWoHH3/5w5fYmBAQBWoiHo17XzsQAAAABJRU5ErkJggg==\n",
       "\" style=\"display:inline;vertical-align:middle;\" /></a> : <a class=\"ProveItLink\" href=\"../../number_sets/integers/__pv_it/common/e6b4e90f9467053e055a4fd2f735c0bb79cb79300/expr.ipynb\"><img src=\"data:image/png;base64,iVBORw0KGgoAAAANSUhEUgAAAA4AAAAPBAMAAAAmOuNHAAAAMFBMVEX///+6urru7u7c3Nx2dnZm\n",
       "ZmbMzMxUVFSIiIiYmJgiIiJEREQQEBAyMjKqqqoAAAB4Cw+YAAAAAXRSTlMAQObYZgAAAAlwSFlz\n",
       "AAAOxAAADsQBlSsOGwAAAHFJREFUCNdj4Lvz5/aqPRMYOLYnMFzgZWBgDWDgmODHwMBuwKDNtIGB\n",
       "gYmBIYw9gQEI2ApSQRQDt8ImMP2EswFMg3QBAccDRwYGBQYGbWagrmIGhjKgCUwfGNgCRIGGLQDq\n",
       "usTAvG8Dg8ze07vPn3YAAOWCGbaz3v97AAAAAElFTkSuQmCC\n",
       "\" style=\"display:inline;vertical-align:middle;\" /></a>, <a class=\"ProveItLink\" href=\"../../../__pv_it/common/a0d9d672aa5e272d907247690c152cc2c6daafb70/expr.ipynb\"><img src=\"data:image/png;base64,iVBORw0KGgoAAAANSUhEUgAAAAsAAAAJBAMAAAAWSsseAAAAMFBMVEX///9ERES6uroQEBAyMjLc\n",
       "3NyYmJgiIiJmZmaqqqp2dnbMzMxUVFSIiIju7u4AAAAd7oVFAAAAAXRSTlMAQObYZgAAAAlwSFlz\n",
       "AAAOxAAADsQBlSsOGwAAAENJREFUCNdjYHh75/WqCQwMDbxnOQoY2ALY/vEkMHAzcDgwgADzBTCl\n",
       "H8D3gOGhwmEGLgaG+fuaGTQZGF7c5WybwAAAJTwQ1a2DuB8AAAAASUVORK5CYII=\n",
       "\" style=\"display:inline;vertical-align:middle;\" /></a> : <a class=\"ProveItLink\" href=\"../../numerals/__pv_it/common/af4aab8a07465db063742696e006d04670f30cf10/expr.ipynb\"><img src=\"data:image/png;base64,iVBORw0KGgoAAAANSUhEUgAAAAkAAAAOBAMAAAAPuiubAAAAMFBMVEX///+qqqqYmJiIiIgiIiLu\n",
       "7u4QEBBUVFS6urp2dnbMzMxEREQyMjJmZmbc3NwAAADzFso2AAAAAXRSTlMAQObYZgAAAAlwSFlz\n",
       "AAAOxAAADsQBlSsOGwAAAE9JREFUCNdj4Lt7egEDw2sGzh8MDHUMDGkMDPkBDPUPGEoYGOqBEgwM\n",
       "/iCC6zOIZCkAkbdBBBOYKcnA94CBawIDcwDDk7t3rwAV////hwEAK9UUlDYDfx8AAAAASUVORK5C\n",
       "YII=\n",
       "\" style=\"display:inline;vertical-align:middle;\" /></a></span></td></tr><tr><td><a name=\"-0x9046971ce2b3079_step6\">6</a></td><td>theorem</td><td></td><td><span style=\"font-size:20px;\"> <a class=\"ProveItLink\" href=\"../../../logic/sets/inclusion/_theory_nbs_/proofs/superset_membership_from_proper_subset/thm_proof.ipynb\" style=\"text-decoration: none\">&nbsp;&#x22A2;&nbsp;&nbsp;</a><a class=\"ProveItLink\" href=\"../../../logic/sets/inclusion/__pv_it/theorems/8c2c4c3c91efdbf0b7e86e4a2d99545aea54db000/expr.ipynb\"><img src=\"data:image/png;base64,iVBORw0KGgoAAAANSUhEUgAAAPcAAAAXBAMAAAAl5sTiAAAAMFBMVEX///+IiIgiIiIQEBB2dnbu\n",
       "7u5ERETMzMzc3NwyMjK6urpmZmaYmJiqqqpUVFQAAAB6qHgnAAAAAXRSTlMAQObYZgAAAAlwSFlz\n",
       "AAAOxAAADsQBlSsOGwAAA3hJREFUSMe1ll9IU1Ecx7/L3e1uu5tXohCykutDD/WwIqqHlD2MoEQb\n",
       "RkEIsgoXDMQbRo81K3zUvSgRWIsMCYJmiVZILR+i0NAeo4IRVIihBsk00zr3nN17z6Z3ysAD2z33\n",
       "/H73fM75/TsHKLLZFLWwglhIGNvABAWaPbGOws5CwntshrTW/1wM3Kc9vCkLuTew5vCbfzMzPSps\n",
       "KQp/oQ3dKgbu0fbuilnIz1qMHwJ8GaCbwq9q7gkXA3dqRuuwko9YRMIvwL0EjFG4K0Qek0X5nKwe\n",
       "dVZyf87bdkWJ045Edi2RBZSEtBkkYn1XcQE3Th5xK5fnCB5u03u+OYI7Qn4pGrIHFOVgcfASRakK\n",
       "WIg9RCCUfbtMLSN2G+MlYQhfSY7Z0xQ+DDTT8VDe53pHsIJ7VDjyPjJ0yc7IDLvkJ8iNymvnyqa0\n",
       "BJHiFN4JkaabcJhKrywFh2j2O3T9U0YxcLYO1l404eS7zrwlGbpbSBi9xUToJ4WbCrtj8B7V3OKn\n",
       "cEeI1Qv7MouIStj8OfCTZB5nfSRClj8KbOWKTDNO6EqXvkd1XWZeIlbxnL20KaSxjLqgKZEVOufo\n",
       "DF6ZLax/P4uIJKQ5Hu5uk4FBtqNpYIKDfzDizTNs6hpwgE2JM+bOV8hvgii52c4Rf02H5Tvsq0k0\n",
       "pHi4zZU2crEawj4O7pLINLYd7c9QYeqaZod7Aafpi8F2/iV/s9qWKxm8jsaiLWujroqxH+DhsieO\n",
       "Jr1CjL9UObj9I4m3cl+4Vwibuqw5ZAhRnx80G2yycRwtkAUsat4NM/gNutr+rDdHIUzzcLdKQuAR\n",
       "9HhoSnJwsYZ0Ug5ZdadM3aw4DW+m0e9mJus1koDI73ezVKRwH93MYHA2lHVrV4KDe4L18/gCPR7E\n",
       "P/ypRm1UGoPUE4m0ZHWz9q2EMCB/es/emqIsJX2tKzNTLdQTCe5ctBGmytyKx3yqyRAzuAk9HtyZ\n",
       "VUdqG2LOgKmbbXtyUrDvvJJbC6/zMxDDlk4KAYjzEPZyZtcMugwHqxJdITQk8+Ci/ziSrEwx3Wwb\n",
       "K1wgRzi4pwbCq9vOarz7HRya5OBP02hcTAi0tEh3g7Utqy4TA31lIXSohq4ecbGC15zw6uuIl+s7\n",
       "copphBYZy5uMcCwSzSu0BY9pbWn58AdW8DVq+3pXsPZCwnISZVV58NTG4ZvbxM1H/Ad8JOFpuPeG\n",
       "lQAAAABJRU5ErkJggg==\n",
       "\" style=\"display:inline;vertical-align:middle;\" /></a></span></td></tr>\n",
       "<tr><td>&nbsp;</td><td colspan=4 style-\"text-align:left\"><a class=\"ProveItLink\" href=\"../../../logic/sets/inclusion/_theory_nbs_/proofs/superset_membership_from_proper_subset/thm_proof.ipynb\">proveit.logic.sets.inclusion.superset_membership_from_proper_subset</a></td></tr><tr><td><a name=\"-0x9046971ce2b3079_step7\">7</a></td><td>conjecture</td><td></td><td><span style=\"font-size:20px;\"> <a class=\"ProveItLink\" href=\"../../number_sets/integers/_theory_nbs_/proofs/nat_within_int/thm_proof.ipynb\" style=\"text-decoration: none\">&nbsp;&#x22A2;&nbsp;&nbsp;</a><a class=\"ProveItLink\" href=\"../../number_sets/integers/__pv_it/theorems/1cd0ce5701331e1608ae0251ff814274d551a8fa0/expr.ipynb\"><img src=\"data:image/png;base64,iVBORw0KGgoAAAANSUhEUgAAADkAAAAQBAMAAABelcpIAAAAMFBMVEX///9mZmbMzMyIiIiYmJjc\n",
       "3NxUVFSqqqq6uroQEBB2dnYyMjJEREQiIiLu7u4AAAAPqInnAAAAAXRSTlMAQObYZgAAAAlwSFlz\n",
       "AAAOxAAADsQBlSsOGwAAAP9JREFUGNNjePvn9AOGlT8bGFBA9fzZZ+9MATKOcyQw8H1AlWSwSWLg\n",
       "ZtgAZOQGLGFgmIAmK8jAYMJVAGSkH+AOYLiAJpvKwHfgDZjhzLoBJmtz9+7dSyDGAwZGhSSwLJuC\n",
       "FVRWeylCtxqTAMSQAzwNYFm+q0hmn+N5AJFV5LsHlmVD8hb7AmeoA1gKasBu5kbSCvEPSJYhjw0s\n",
       "q4Yka87VwMAHkX3GBzY5DCHJdyAGaFMAWJbJ4ABIiBchy6YAFH4PZBwCYiOwLKMDXFaRA+ifXCBj\n",
       "O0gc4oQdCP9wP2CIqQGGwE+gPj6I7JuMBxBJjjk7z5z8eQoteLvOQkMSCgB/9keS8E/FTAAAAABJ\n",
       "RU5ErkJggg==\n",
       "\" style=\"display:inline;vertical-align:middle;\" /></a></span></td></tr>\n",
       "<tr><td>&nbsp;</td><td colspan=4 style-\"text-align:left\"><a class=\"ProveItLink\" href=\"../../number_sets/integers/_theory_nbs_/proofs/nat_within_int/thm_proof.ipynb\">proveit.numbers.number_sets.integers.nat_within_int</a></td></tr><tr><td><a name=\"-0x9046971ce2b3079_step8\">8</a></td><td>theorem</td><td></td><td><span style=\"font-size:20px;\"> <a class=\"ProveItLink\" href=\"../../numerals/decimals/_theory_nbs_/proofs/nat2/thm_proof.ipynb\" style=\"text-decoration: none\">&nbsp;&#x22A2;&nbsp;&nbsp;</a><a class=\"ProveItLink\" href=\"../../numerals/decimals/__pv_it/theorems/c5da86d5508e181a625c8aa785bd1ba0345b9e710/expr.ipynb\"><img src=\"data:image/png;base64,iVBORw0KGgoAAAANSUhEUgAAADIAAAAQBAMAAACmdTG/AAAAMFBMVEX///+qqqqYmJiIiIgiIiLu\n",
       "7u4QEBBUVFS6urp2dnbMzMxEREQyMjJmZmbc3NwAAADzFso2AAAAAXRSTlMAQObYZgAAAAlwSFlz\n",
       "AAAOxAAADsQBlSsOGwAAAOlJREFUGNNjYEAHrP67jzJw5mcw8N09vQBVilugnYEhnoHhNQPnD1QZ\n",
       "dj9OBQY2BoY6BoY0NBlphnMMLAwM+QEM9Q/AItYuLgfAMo8M3oBkShgY6sEW9ZjC9DyoYp7AAmb6\n",
       "gwi+o3DTHnAz7ADLcH0GkTwPEDJcF0JCQCyWArAMwgUPGBQZt4FYt8H8ZS5AsAEqwx5QBmQwgbUw\n",
       "RCPrYS0AmSbJwAeyggVZhmExN9D+CQzMAUA+swE8dICeYF7NwPDk7t0rYIGDMBkeASBxB+iZ////\n",
       "gAXCdwSAaa7z2UAyBjm8OrdAQgcKAG3YN+ojYy50AAAAAElFTkSuQmCC\n",
       "\" style=\"display:inline;vertical-align:middle;\" /></a></span></td></tr>\n",
       "<tr><td>&nbsp;</td><td colspan=4 style-\"text-align:left\"><a class=\"ProveItLink\" href=\"../../numerals/decimals/_theory_nbs_/proofs/nat2/thm_proof.ipynb\">proveit.numbers.numerals.decimals.nat2</a></td></tr></table>"
      ],
      "text/plain": [
       "\tstep type\trequirements\tstatement\n",
       "0\tinstantiation\t5, 1, 2\t|- 2 in Real\n",
       "\tA : Rational, B : Real, x : 2\n",
       "1\tconjecture\t\t|- Rational proper_subset Real\n",
       "\tproveit.numbers.number_sets.real_numbers.rational_within_real\n",
       "2\tinstantiation\t5, 3, 4\t|- 2 in Rational\n",
       "\tA : Integer, B : Rational, x : 2\n",
       "3\tconjecture\t\t|- Integer proper_subset Rational\n",
       "\tproveit.numbers.number_sets.rational_numbers.int_within_rational\n",
       "4\tinstantiation\t5, 6, 7\t|- 2 in Integer\n",
       "\tA : Natural, B : Integer, x : 2\n",
       "5\ttheorem\t\t|- forall_{A, B | A proper_subset B} [forall_{x in A} (x in B)]\n",
       "\tproveit.logic.sets.inclusion.superset_membership_from_proper_subset\n",
       "6\tconjecture\t\t|- Natural proper_subset Integer\n",
       "\tproveit.numbers.number_sets.integers.nat_within_int\n",
       "7\ttheorem\t\t|- 2 in Natural\n",
       "\tproveit.numbers.numerals.decimals.nat2"
      ]
     },
     "metadata": {},
     "output_type": "display_data"
    }
   ],
   "source": [
    "two_in_real_k_t.proof()"
   ]
  },
  {
   "cell_type": "code",
   "execution_count": 35,
   "metadata": {},
   "outputs": [
    {
     "data": {
      "text/html": [
       "<strong id=\"sqrt2_is_complex\">sqrt2_is_complex:</strong> <span style=\"font-size:20px;\"> <a class=\"ProveItLink\" href=\"../__pv_it/demonstrations/762a04cae3861ef4a4e11cb0101ca4e71f1e3df80/proof.ipynb\" style=\"text-decoration: none\">&nbsp;&#x22A2;&nbsp;&nbsp;</a><a class=\"ProveItLink\" href=\"../__pv_it/demonstrations/0603519f4e7d3f84563119069919828662409f320/expr.ipynb\"><img src=\"data:image/png;base64,iVBORw0KGgoAAAANSUhEUgAAAEMAAAAVBAMAAADvM06qAAAAMFBMVEX///8QEBCIiIiYmJgiIiKq\n",
       "qqru7u5mZmYyMjLc3Ny6urpUVFRERER2dnbMzMwAAAA+bm1bAAAAAXRSTlMAQObYZgAAAAlwSFlz\n",
       "AAAOxAAADsQBlSsOGwAAAT1JREFUKM9jYIAAvv8g8IEBD+B5wEAIvCGogmEXQRWcDQSVsC/AJpp7\n",
       "pEPzLYyTwcAwveIcmgqmjQZs9cdhvFIGzgMM99GMKlrLwMAMU8LmwMA9gYFRAEUFX8ExILkdyuM1\n",
       "YGD8xsD9E2L+ERcPEM2dcABIJgNxFBCzAAWABv0DyXA1JUBDk7MA6iYJIKEEZrKAw38GVAXDbL4L\n",
       "EMaz+8CgdwAz3yuAyE6YW95yGUBZ+RsYmMFyDN5gEh6I07kUYKH2k4EFbDb7AbA/RFxcXHwgbrkA\n",
       "C/vvDLFghjXE/wfgkZ8AZ55PaANRrBcYZoJoB5g4FzhcuEDM9apgzwEjQ40B7jtw6K4GEhUgFofE\n",
       "BJB97uXlYAM4AuBxdKKSLQSsnfU3OFCA6RLsGbY9y+AxffBLJYTViRp7XHcgEQADAOOxTIGdgtiN\n",
       "AAAAAElFTkSuQmCC\n",
       "\" style=\"display:inline;vertical-align:middle;\" /></a></span><br>"
      ],
      "text/plain": [
       "<IPython.core.display.HTML object>"
      ]
     },
     "metadata": {},
     "output_type": "display_data"
    }
   ],
   "source": [
    "sqrt2_is_complex = InSet(exp_test_03, Complex).prove()"
   ]
  },
  {
   "cell_type": "code",
   "execution_count": 36,
   "metadata": {},
   "outputs": [
    {
     "data": {
      "text/html": [
       "<strong id=\"two_to_power_t\">two_to_power_t:</strong> <a class=\"ProveItLink\" href=\"../__pv_it/demonstrations/baa34792da6732e40fc0ee4478d66b0325ab42ef0/expr.ipynb\"><img src=\"data:image/png;base64,iVBORw0KGgoAAAANSUhEUgAAAA8AAAATBAMAAAC97EqZAAAAMFBMVEX///+qqqqYmJiIiIgiIiLu\n",
       "7u4QEBBUVFS6urp2dnbMzMxEREQyMjJmZmbc3NwAAADzFso2AAAAAXRSTlMAQObYZgAAAAlwSFlz\n",
       "AAAOxAAADsQBlSsOGwAAAHVJREFUCNdjYACDcxCKgfUDlMF4AELzTTm5AMLiEQDy7p5ewMAfwMDw\n",
       "moHzB0MbULSOgSGNwZx1AUN+AEP9g8ucAQwlDAz1C9ZqgfX4Q03j+gxlsBRAGbehNBNMQJKB7wFY\n",
       "6QQG5gAQ48ndu1cghvz//wdEAwD9VB0DXmTb8wAAAABJRU5ErkJggg==\n",
       "\" style=\"display:inline;vertical-align:middle;\" /></a><br>"
      ],
      "text/plain": [
       "<IPython.core.display.HTML object>"
      ]
     },
     "metadata": {},
     "output_type": "display_data"
    }
   ],
   "source": [
    "t_ = Literal('t')\n",
    "two_to_power_t = Exp(two, t_)"
   ]
  },
  {
   "cell_type": "code",
   "execution_count": 37,
   "metadata": {},
   "outputs": [
    {
     "data": {
      "text/html": [
       "<span style=\"font-size:20px;\"><a class=\"ProveItLink\" href=\"../__pv_it/demonstrations/0e1c0c06f8ae709b2e1573f04752a7a15d217b500/expr.ipynb\"><img src=\"data:image/png;base64,iVBORw0KGgoAAAANSUhEUgAAADwAAAATBAMAAAA+KHOiAAAAMFBMVEX///8QEBCYmJjMzMwyMjKI\n",
       "iIhERERUVFS6urp2dnZmZmaqqqrc3NwiIiLu7u4AAAAqt126AAAAAXRSTlMAQObYZgAAAAlwSFlz\n",
       "AAAOxAAADsQBlSsOGwAAAOZJREFUKM9jYMANFjDgBQmkS/PdT/Nj4JSXwKWbbUM7A8N7uG6+O6jS\n",
       "7Hc4FRgYGbjS0sTSkhgYuP+hSW9j8GHghevmugARDrt71wEsfSjgCJI07wSwbEscTPeBYtYJcOn2\n",
       "/PQAIMXjBzf8ABtDBkL3frAgywGENPOCt2/hobYEIo1w2gEGbe5EOPcmmDS8CwQJUGn2B4XwUPoB\n",
       "pp4h6+YreAvjcX9geAByP7I0gykbjMflwG0ApFgD4IEK5LKawRUXPAXT3jABlg1w94I8nKQApp9n\n",
       "PADTzP5iQPIJRkx15kICFQUAALDXOQj7yj+HAAAAAElFTkSuQmCC\n",
       "\" style=\"display:inline;vertical-align:middle;\" /></a> <a class=\"ProveItLink\" href=\"../__pv_it/demonstrations/55524daf0afacb03f835cf0ca9139f165ff932b20/proof.ipynb\" style=\"text-decoration: none\">&nbsp;&#x22A2;&nbsp;&nbsp;</a><a class=\"ProveItLink\" href=\"../__pv_it/demonstrations/447cfb0765e188e329ae9637783239f0ecd30b0d0/expr.ipynb\"><img src=\"data:image/png;base64,iVBORw0KGgoAAAANSUhEUgAAAEUAAAAUBAMAAAApce1IAAAAMFBMVEX///+qqqqYmJiIiIgiIiLu\n",
       "7u4QEBBUVFS6urp2dnbMzMxEREQyMjJmZmbc3NwAAADzFso2AAAAAXRSTlMAQObYZgAAAAlwSFlz\n",
       "AAAOxAAADsQBlSsOGwAAASBJREFUKM9jYACDcwwEAesHXDK8cBbjAVxquGEMviknFxBSw8AjgCoT\n",
       "8ntPAMO0bw1QNXx3Ty9g4A9A076RowDiSLCa1wycPxja0K0oeTCJgSGB4fbubbt3KzDUMTCkMZiz\n",
       "ormncAPPAwYHmDn5AQz1Dy5zQixj3uLiA2bUKfMdQKgpYWCoX7BWCyzDcRjmrjr2BZYINUDgD7Ph\n",
       "DdzpdQwbuBuQ1HB9hskgYqSOYS2rqwMinFkKYDIHkNQwCUgnIPxwG8bgSnFxcfGGqmEoZUeoYYIb\n",
       "w7oByRyGcFYHOFeSge8BlOmArIbLAK6FawIDM8w7xnA1u4DYCq7myd27VzCj9iDIS3Av+P///wfu\n",
       "oOpWCGPNN6AZrNgTFcdsaFygAACJZEjHST5yjwAAAABJRU5ErkJggg==\n",
       "\" style=\"display:inline;vertical-align:middle;\" /></a></span>"
      ],
      "text/plain": [
       "{t in NaturalPos} |- 2^{t} in NaturalPos"
      ]
     },
     "metadata": {},
     "output_type": "display_data"
    }
   ],
   "source": [
    "InSet(two_to_power_t, NaturalPos).prove(assumptions=[InSet(t_, NaturalPos)])"
   ]
  },
  {
   "cell_type": "markdown",
   "metadata": {},
   "source": [
    "Testing the formatting of some Exp() and sqrt() outputs"
   ]
  },
  {
   "cell_type": "code",
   "execution_count": 38,
   "metadata": {},
   "outputs": [
    {
     "data": {
      "text/html": [
       "<span style=\"font-size:20px;\"> <a class=\"ProveItLink\" href=\"../__pv_it/demonstrations/335cbf12299ab0a3e5a6575823838c0b352458c90/proof.ipynb\" style=\"text-decoration: none\">&nbsp;&#x22A2;&nbsp;&nbsp;</a><a class=\"ProveItLink\" href=\"../__pv_it/demonstrations/bed4d05f6489583b22dbc462ab80bfad6c68943a0/expr.ipynb\"><img src=\"data:image/png;base64,iVBORw0KGgoAAAANSUhEUgAAAE8AAAAVBAMAAAD1D64kAAAAMFBMVEX///8QEBCIiIiYmJgiIiKq\n",
       "qqru7u5mZmYyMjLc3Ny6urpUVFRERER2dnbMzMwAAAA+bm1bAAAAAXRSTlMAQObYZgAAAAlwSFlz\n",
       "AAAOxAAADsQBlSsOGwAAAVFJREFUKM9jYIAAvv8g8IGBIOB5wEAceINPkh2JvQuvdQgmZwORCtkX\n",
       "YEpbyJxvkTFAU5jBwDC94hyaygOzGVbbJKAqLGXgPMBwH83YA3MZePg2MNScOXjmjAFEiM2BgXsC\n",
       "A6MAhkL2CQ0oJvIaMDB+Y+D+CeYwHXHxQCg8AFcYBcQsDAzcQEP/gfhcTQkIE7nTNsAUMkkACSWw\n",
       "BAs4BmckIFn9JmICTOGz+8DIcwBLvFcAkZ0IN05s+aKGiJn8DQzMYBUM3mCyAckzxhnIEfmTgQVs\n",
       "G/sBcDIScXFx8YEq5Ek2QIq97wyxYIY1JKQOIJnIV3AMycjzCW0givUCw0wQ7YAcjnVzkBSuVy0A\n",
       "UW8ZGMAuV0JWmMOEZDeHBCgION3Ly8GGcQTAFU5nYDY4hVDI+hsciMCcAPYw255l8NRzkuFMfwBC\n",
       "ZSdqFHPdgUYhCgAAt7BeRsx0+8gAAAAASUVORK5CYII=\n",
       "\" style=\"display:inline;vertical-align:middle;\" /></a></span>"
      ],
      "text/plain": [
       "|- sqrt(2) in RealPos"
      ]
     },
     "metadata": {},
     "output_type": "display_data"
    }
   ],
   "source": [
    "InSet(exp_test_03, RealPos).prove()"
   ]
  },
  {
   "cell_type": "code",
   "execution_count": 39,
   "metadata": {},
   "outputs": [
    {
     "data": {
      "text/html": [
       "<a class=\"ProveItLink\" href=\"../__pv_it/demonstrations/b148a9eebd79956146eb004457e83b69f15211950/expr.ipynb\"><img src=\"data:image/png;base64,iVBORw0KGgoAAAANSUhEUgAAABwAAAAVBAMAAACnLJNvAAAAMFBMVEX///8QEBCIiIiYmJgiIiKq\n",
       "qqru7u5mZmYyMjLc3Ny6urpUVFRERER2dnbMzMwAAAA+bm1bAAAAAXRSTlMAQObYZgAAAAlwSFlz\n",
       "AAAOxAAADsQBlSsOGwAAAKVJREFUGNNjYIAAvv9gAOUx8DxgQAZvUHgMu1B4nA0oXPYFKNwMVK2l\n",
       "KDw2BwaGJO28uwEQLq8BA0MB0yZ2oGgUkMvCwMA8gfkbtwEDkwSQqwR0JQM7yLJn94HOcwDpYFQA\n",
       "kfkbGJjBjPUT2BKALvjJwAKkchZsZOAFue87QyyQin9WyLAUpOh8QhuQTFdiLQZbu161ANlJHBIT\n",
       "kLmsv1Hd34lgAgDkFSUKWiagegAAAABJRU5ErkJggg==\n",
       "\" style=\"display:inline;vertical-align:middle;\" /></a>"
      ],
      "text/plain": [
       "sqrt(x)"
      ]
     },
     "metadata": {},
     "output_type": "display_data"
    }
   ],
   "source": [
    "Exp(x, frac(one, two))"
   ]
  },
  {
   "cell_type": "code",
   "execution_count": 40,
   "metadata": {},
   "outputs": [
    {
     "data": {
      "text/html": [
       "<strong id=\"sqrt_test\">sqrt_test:</strong> <a class=\"ProveItLink\" href=\"../__pv_it/demonstrations/4a480875c5b29afce34b8641be83125e5351951d0/expr.ipynb\"><img src=\"data:image/png;base64,iVBORw0KGgoAAAANSUhEUgAAAGAAAAAyBAMAAABR8MP3AAAAMFBMVEX///8AAAAAAAAAAAAAAAAA\n",
       "AAAAAAAAAAAAAAAAAAAAAAAAAAAAAAAAAAAAAAAAAAAv3aB7AAAAD3RSTlMAq90iZnYyELtUiZlE\n",
       "ze/zpXZHAAAACXBIWXMAAA7EAAAOxAGVKw4bAAACcElEQVRIx5WVv2/TQBTHXxon19hOHYlWYgIU\n",
       "BqQOFQywVck/QCkSExLi104cxNAFUgkYSodGdIOBLEwtKDBTNf9BvKBKMFClAsEWKWlLKFXxPd9d\n",
       "fOkd7nl4ztnvE9+9977vAfDr7NGJLuEP58DsShcMAWveEEjdMQTGDP1hwRR4ZQp8QuvUtQ5kS14H\n",
       "aD8ofS+9vRzae77EI2AFKn93B1ZCZ0vKlNuk9oGvAp6U4SO9L8Uf2rj5L8odbQJMIxj/uzxd5PaV\n",
       "wE8gfzEihdG8jTWU4dkFq4vl1os9vUtNRXkEMoBUsEp/vYg9vUHNaXUGnsPLJsZkLvbwKTV9NVC9\n",
       "eX8KS7NUl+WTxT1mL+gLtCnLB49W3djXAk4gyyeF6wwH3PIokOnK8pkoSEDumAZze3IavEYCkB3I\n",
       "8vHKCQDpy/KJovYfAHapuSLkU0kE/lDzWcin3RoCTrE40ykWR5rVAQ3obwFovuANWyQFHs0I+VRO\n",
       "dIb6ps/lU0qKUlRs10LncazrGnrYPS2QxjyUGrztTdCNpc4cTmoTh8LzAiYfyC/KhXC8NHC3+S6T\n",
       "DzjbcncRxbfQYZ0CZ4gdVtSpqGS1hf01uo1jWnJ9Pn3IQAewF1GxkQNIs80va/xd9un2Rbx1xPSZ\n",
       "0wA2m3/v2PgEh02fWksN5KeuY2Z/RcvbLT597EAN1LYIzWaGRbE9/5i/+aEG3vjwnSaWdRlvUUyf\n",
       "q2pgI1LCLa7n7XWx2bISmAY3DGx6h3ebnhhG5LwmDU4Y2Ie871n94Vlnle14j84UeCaK9jDWAZXj\n",
       "fZKmlAxjflRPmLDVNfls33zDEf3edKa/NnH+B5t7xDaomX3WAAAAAElFTkSuQmCC\n",
       "\" style=\"display:inline;vertical-align:middle;\" /></a><br>"
      ],
      "text/plain": [
       "<IPython.core.display.HTML object>"
      ]
     },
     "metadata": {},
     "output_type": "display_data"
    }
   ],
   "source": [
    "sqrt_test = sqrt(Add(one, frac(a, b)))"
   ]
  },
  {
   "cell_type": "code",
   "execution_count": 41,
   "metadata": {},
   "outputs": [
    {
     "data": {
      "text/html": [
       "<a class=\"ProveItLink\" href=\"../__pv_it/demonstrations/4a480875c5b29afce34b8641be83125e5351951d0/expr.ipynb\"><img src=\"data:image/png;base64,iVBORw0KGgoAAAANSUhEUgAAAGAAAAAyBAMAAABR8MP3AAAAMFBMVEX///8AAAAAAAAAAAAAAAAA\n",
       "AAAAAAAAAAAAAAAAAAAAAAAAAAAAAAAAAAAAAAAAAAAv3aB7AAAAD3RSTlMAq90iZnYyELtUiZlE\n",
       "ze/zpXZHAAAACXBIWXMAAA7EAAAOxAGVKw4bAAACcElEQVRIx5WVv2/TQBTHXxon19hOHYlWYgIU\n",
       "BqQOFQywVck/QCkSExLi104cxNAFUgkYSodGdIOBLEwtKDBTNf9BvKBKMFClAsEWKWlLKFXxPd9d\n",
       "fOkd7nl4ztnvE9+9977vAfDr7NGJLuEP58DsShcMAWveEEjdMQTGDP1hwRR4ZQp8QuvUtQ5kS14H\n",
       "aD8ofS+9vRzae77EI2AFKn93B1ZCZ0vKlNuk9oGvAp6U4SO9L8Uf2rj5L8odbQJMIxj/uzxd5PaV\n",
       "wE8gfzEihdG8jTWU4dkFq4vl1os9vUtNRXkEMoBUsEp/vYg9vUHNaXUGnsPLJsZkLvbwKTV9NVC9\n",
       "eX8KS7NUl+WTxT1mL+gLtCnLB49W3djXAk4gyyeF6wwH3PIokOnK8pkoSEDumAZze3IavEYCkB3I\n",
       "8vHKCQDpy/KJovYfAHapuSLkU0kE/lDzWcin3RoCTrE40ykWR5rVAQ3obwFovuANWyQFHs0I+VRO\n",
       "dIb6ps/lU0qKUlRs10LncazrGnrYPS2QxjyUGrztTdCNpc4cTmoTh8LzAiYfyC/KhXC8NHC3+S6T\n",
       "DzjbcncRxbfQYZ0CZ4gdVtSpqGS1hf01uo1jWnJ9Pn3IQAewF1GxkQNIs80va/xd9un2Rbx1xPSZ\n",
       "0wA2m3/v2PgEh02fWksN5KeuY2Z/RcvbLT597EAN1LYIzWaGRbE9/5i/+aEG3vjwnSaWdRlvUUyf\n",
       "q2pgI1LCLa7n7XWx2bISmAY3DGx6h3ebnhhG5LwmDU4Y2Ie871n94Vlnle14j84UeCaK9jDWAZXj\n",
       "fZKmlAxjflRPmLDVNfls33zDEf3edKa/NnH+B5t7xDaomX3WAAAAAElFTkSuQmCC\n",
       "\" style=\"display:inline;vertical-align:middle;\" /></a>"
      ],
      "text/plain": [
       "sqrt((1 + (a / b)))"
      ]
     },
     "metadata": {},
     "output_type": "display_data"
    }
   ],
   "source": [
    "sqrt_test"
   ]
  },
  {
   "cell_type": "code",
   "execution_count": 42,
   "metadata": {},
   "outputs": [
    {
     "data": {
      "text/html": [
       "<a class=\"ProveItLink\" href=\"../__pv_it/demonstrations/addcdab2f5cb1253c60a5683cae4da6a5a4c93a90/expr.ipynb\"><img src=\"data:image/png;base64,iVBORw0KGgoAAAANSUhEUgAAAIUAAAAyBAMAAACAOwXCAAAAMFBMVEX///8AAAAAAAAAAAAAAAAA\n",
       "AAAAAAAAAAAAAAAAAAAAAAAAAAAAAAAAAAAAAAAAAAAv3aB7AAAAD3RSTlMAIpnNuzKJRKvvEN12\n",
       "ZlQ4bmvwAAAACXBIWXMAAA7EAAAOxAGVKw4bAAAC30lEQVRIx62WT2gTQRTGX9LdbLP5CypUPCRE\n",
       "BaWgofQgAWnwJJ5y99CieBJs8eZBqBZFsNLgybZqAxVUPKT0UKwLNh4EPXXBi6CQnjwJiVQbCG1i\n",
       "3szuxk3m7USSPcxM2Jlfdma+970HQD/DzZ6eqgcCQtD/MzIAxvcBMO4NgLHWP0LP9s+ITvXP8M+w\n",
       "7gw9Y7UgYwxx0qzone/+hxKA+k7GWGXtF+G7W3Gl3uq+yhg3sVGXhMf9DPx4a8qOhHGDbUh4sP4q\n",
       "hPCFviRhZLCpCI8tmIUiO/FTvUhsQ/iqWIIyGyTinggVL0Stixk7MBfF5Yq3hsImWohYq0opuu7H\n",
       "QSTvyVDwf2KmOAzmr418ZDppsDY1nqMdaJLt9zKtx3VsDkOgRjsQnpx+d4JmHMfmDsAi/6mZ3Q40\n",
       "x4bbNuN2F2Mbm5UCLPALipa6HeiJm/Gzi1HBg3gIsJATMZg89mSMSUvtWyBgcAc6kDGK/ADUfRGD\n",
       "ORC/Oi9GjC8KzXYwfDnbgVQ5gwv1BItEw9hcNgyGGyrZDqTV/mGMGsaiYbztYCSZXG2jcr6jnLUZ\n",
       "1He0cyRn/ACf+271b3nHgXo7D3UKwgUXI+qv2w7kk94LC6hjqdRox14i+O+X2CfxK5uOk4wE6mOr\n",
       "2dztvJc9J8k9xubByjmT1NiMOyc5+ti1HAhg3L1CoHV3OLZjbsJyIIDT7hVOzL1YtgbXqYCezsEw\n",
       "P4IyFfVjVn+RYlRMuwYqUgmkYfUHFKOYbFkTN8SkeIZmebX2i2IE1+waiPLcgFWbBNJkQViFk5Zm\n",
       "a0Q+n//Edhkkk2W45tRAV4ndZnS2i8+k0Wr7uv2NQbHpt2TxFPvndG757dRAkTRl5yjmcJpmbAYc\n",
       "CZ8XTtgADW/3qEe6PXvI0dabuFgeGNz6e488WW5XP76MaMIfeN0KBsX0YCTG2uMjogmP4EKrfemV\n",
       "r2MNSW3y6oopLQnr/ZemgfwASuTk/8z+C/hS7omXmi4YAAAAAElFTkSuQmCC\n",
       "\" style=\"display:inline;vertical-align:middle;\" /></a>"
      ],
      "text/plain": [
       "2 + sqrt((1 + (a / b)))"
      ]
     },
     "metadata": {},
     "output_type": "display_data"
    }
   ],
   "source": [
    "Add(two, sqrt_test)"
   ]
  },
  {
   "cell_type": "markdown",
   "metadata": {},
   "source": [
    "Testing the Mult.combining_exponents() method (after eliminating Sqrt class)"
   ]
  },
  {
   "cell_type": "code",
   "execution_count": 43,
   "metadata": {},
   "outputs": [
    {
     "data": {
      "text/html": [
       "<strong id=\"mult_of_exps_test_01\">mult_of_exps_test_01:</strong> <a class=\"ProveItLink\" href=\"../__pv_it/demonstrations/c58ef3d0237e586c71356c6a59baa11427c8f3ca0/expr.ipynb\"><img src=\"data:image/png;base64,iVBORw0KGgoAAAANSUhEUgAAADUAAAATBAMAAADCPVhoAAAAMFBMVEX////MzMwyMjKqqqoiIiJm\n",
       "ZmaYmJju7u5EREQQEBC6urqIiIh2dnZUVFTc3NwAAAAqL9KcAAAAAXRSTlMAQObYZgAAAAlwSFlz\n",
       "AAAOxAAADsQBlSsOGwAAAKxJREFUKM9jYAADoQYGnID3AG45TgHccvK7r6OJnM6GsbYUbEWVYlkg\n",
       "CWO2MSShykUwFMKYExliUeVmIZgfGCajyv1DMN3Z0DyoxcADY4ruRnPm07TtQJLvzr4NKMJIAisf\n",
       "cHxHkUMIsE9jYHVAlkISYP3AwAILTPZPqAKcDQz1C2B6XFEF6jcw5KNYhyRQb8BwifkBshxCgGMD\n",
       "sysrsj4kAfbbB99uRHEnXAAAZpo0mVZB7Q0AAAAASUVORK5CYII=\n",
       "\" style=\"display:inline;vertical-align:middle;\" /></a><br>"
      ],
      "text/plain": [
       "<IPython.core.display.HTML object>"
      ]
     },
     "metadata": {},
     "output_type": "display_data"
    }
   ],
   "source": [
    "mult_of_exps_test_01 = Mult(Exp(a, b), Exp(a, c))"
   ]
  },
  {
   "cell_type": "code",
   "execution_count": 44,
   "metadata": {},
   "outputs": [
    {
     "data": {
      "text/html": [
       "<strong id=\"mult_of_exps_test_02\">mult_of_exps_test_02:</strong> <a class=\"ProveItLink\" href=\"../__pv_it/demonstrations/19cc5b49acdd8447a7754670249cfbed87a65c180/expr.ipynb\"><img src=\"data:image/png;base64,iVBORw0KGgoAAAANSUhEUgAAAEUAAAAVBAMAAADiLT7tAAAAMFBMVEX///8QEBCIiIiYmJgiIiKq\n",
       "qqru7u5mZmYyMjLc3Ny6urpUVFRERER2dnbMzMwAAAA+bm1bAAAAAXRSTlMAQObYZgAAAAlwSFlz\n",
       "AAAOxAAADsQBlSsOGwAAAOVJREFUKM9jYIAAvv8g8IEBBaAJ8jxgwARogm+wKEEX3IVNDaogZwMW\n",
       "JWiC7AuwqEETzGBgmF5xDk0NmmApA+cBhvtohqEKsjkwcE9gYBRAUYImyGvAwPiNgfsnihokwSgg\n",
       "ZmFg4Abq+geXRxVkkgBylcASLPBQRxN8dh8Y4A5g7nsFmBp0wfwNDMwQSW+EW9AE2X8ysCSAGQfA\n",
       "sg1YBDm/M8SCdVhD7C/AIshwPqENRLFeYJiJsAxNcL0qWOtbBgY1hBo0QQ6JCSDT3cvLHRBq0ARZ\n",
       "f4PdAUyVSGkBXbATW/pCEgQAT+VW4mCd4OkAAAAASUVORK5CYII=\n",
       "\" style=\"display:inline;vertical-align:middle;\" /></a><br>"
      ],
      "text/plain": [
       "<IPython.core.display.HTML object>"
      ]
     },
     "metadata": {},
     "output_type": "display_data"
    }
   ],
   "source": [
    "mult_of_exps_test_02 = Mult(sqrt(two), sqrt(two))"
   ]
  },
  {
   "cell_type": "code",
   "execution_count": 45,
   "metadata": {},
   "outputs": [
    {
     "data": {
      "text/html": [
       "<strong id=\"mult_of_exps_test_03\">mult_of_exps_test_03:</strong> <a class=\"ProveItLink\" href=\"../__pv_it/demonstrations/98b4e968f9b92717eb549b3467836891f264d9d40/expr.ipynb\"><img src=\"data:image/png;base64,iVBORw0KGgoAAAANSUhEUgAAAD0AAAAVBAMAAAAHs/uBAAAAMFBMVEX///+qqqqYmJiIiIgiIiLu\n",
       "7u4QEBBUVFS6urp2dnbMzMxEREQyMjJmZmbc3NwAAADzFso2AAAAAXRSTlMAQObYZgAAAAlwSFlz\n",
       "AAAOxAAADsQBlSsOGwAAASlJREFUKM9jYMABuP6DwAcIZ80GDHnuBUgc9gkY8quROWwLMOQrkDnr\n",
       "jUvRpPkOIPNMAmzR5HkbYArvnl7AsIlBB00+hoHh7Z1dQMZrBs4fDFkM19HkLzLwbWCYDzSkjoEh\n",
       "jeEDQyKqNKsDA/sDBrYEBob8AIb6B65MaAHAqcDA9pWB/R8DQwkDQ/2CtcZIchJAzAIME6ARv8AC\n",
       "/ihamXOABEQ9Czh4uT6jyC+dDwwsB0iwGIBVFaDaHV/AwASWYHAHk7fhjv4DCZp/DCwBYAbY0UwI\n",
       "7b6QEPvLIAlmqINJSQa+B6gW7A84CqIYJzC8A7puAgNzAKp8v+EFELWSgcGUgeHJ3btX0MKWJwdk\n",
       "IJ/v3btAb/j///8HTZ7xO9hbwOR1AHvaO4dgAgAVaEvhdwSWpwAAAABJRU5ErkJggg==\n",
       "\" style=\"display:inline;vertical-align:middle;\" /></a><br>"
      ],
      "text/plain": [
       "<IPython.core.display.HTML object>"
      ]
     },
     "metadata": {},
     "output_type": "display_data"
    }
   ],
   "source": [
    "mult_of_exps_test_03 = Mult(Exp(two, b), sqrt(two))"
   ]
  },
  {
   "cell_type": "code",
   "execution_count": 46,
   "metadata": {},
   "outputs": [
    {
     "data": {
      "text/html": [
       "<span style=\"font-size:20px;\"><a class=\"ProveItLink\" href=\"../__pv_it/theorems/5a0c211ed8c0f89e15d717d80d4627baae693acb0/expr.ipynb\"><img src=\"data:image/png;base64,iVBORw0KGgoAAAANSUhEUgAAAD8AAAATBAMAAADVH8ihAAAAMFBMVEX////MzMwyMjKqqqoiIiJm\n",
       "ZmaYmJju7u5EREQQEBC6urqIiIh2dnZUVFTc3NwAAAAqL9KcAAAAAXRSTlMAQObYZgAAAAlwSFlz\n",
       "AAAOxAAADsQBlSsOGwAAAN5JREFUKM9jYMADWBkIAA4yFSTN6FeZkYDPhIa3DGszCvApeMPAwXiB\n",
       "IaKjs6MjAYcC1gcKWEzY4eKiAFfQgKlg0XaECbzlF+AK+O7s2wCm1ZGskDB6AFew8gHHdxDN9ACu\n",
       "4KXKl+3wkGSfxsDqAFaA5Mi0IqTw/sDAcgDEkHQBggaIAo4yhPc4GxjqF4AYFUgmMAa0w3n1Gxjy\n",
       "wQwW5HAIfIFQYMBwiRnkPu4NSAoquOF2cGxgdoXEuzJcwVMGtoQuGI/99sG3G8Gs2q4CWGz2MXTo\n",
       "G2DGwZoWSFCjAAAaDkU0dYR17AAAAABJRU5ErkJggg==\n",
       "\" style=\"display:inline;vertical-align:middle;\" /></a>, <a class=\"ProveItLink\" href=\"../__pv_it/theorems/a259ec76dfb0a5be60b7c83d797520fa82c1dba60/expr.ipynb\"><img src=\"data:image/png;base64,iVBORw0KGgoAAAANSUhEUgAAADEAAAAQBAMAAABNQoq8AAAAMFBMVEX///+YmJjMzMzc3NyIiIhU\n",
       "VFR2dna6urqqqqpmZmYyMjIiIiIQEBBERETu7u4AAAD7tRWPAAAAAXRSTlMAQObYZgAAAAlwSFlz\n",
       "AAAOxAAADsQBlSsOGwAAANtJREFUGNNjYMAEz26vclZjYOC7swFNgiVGgG/+TSCDawKazJQyBgZG\n",
       "kAx/A6oE04R7QDISiOsfQIV8d+9eAKRYH1wAkg+BOBsqUeUHoXmZYcYvdYkAUczroHxTpgQIg+/X\n",
       "g/cGIIcYQGXU2AUgDI5/DDwOIBmYCyzZHSAMzgUM/CDtOruB4ALYHqhp3AkM9SB3v4Xp4QW7DeKd\n",
       "+SB3c8Nk2MH+YQfKKPAdBIeJAzwMSoHELKDHBHgh7l8BD7dbk/m6gWJ8YRMhAk+vwwLj2Z3fk1EC\n",
       "rOw2OHRgAAASXDjITT81JQAAAABJRU5ErkJggg==\n",
       "\" style=\"display:inline;vertical-align:middle;\" /></a>, <a class=\"ProveItLink\" href=\"../__pv_it/theorems/b66b5547fa9b0b910f79351152926c658c2718190/expr.ipynb\"><img src=\"data:image/png;base64,iVBORw0KGgoAAAANSUhEUgAAADEAAAAQBAMAAABNQoq8AAAAMFBMVEX///9UVFQyMjK6urru7u4Q\n",
       "EBBERERmZmaqqqoiIiLc3NzMzMyYmJiIiIh2dnYAAABC1PP/AAAAAXRSTlMAQObYZgAAAAlwSFlz\n",
       "AAAOxAAADsQBlSsOGwAAAMJJREFUGNNjYMAEfplKt/ZhEWfgFT3AUp+OTabWjoGBB5sMd0EKkBRH\n",
       "Fro2c6YCkGJ0SACSPkgSRlcgNBtXAUzo7Z0NQJJLBcpdyP0AylrZwA7SzrQAyt/HfADKmsfAegEk\n",
       "AzNiOfMFCIP9C4TeOhMIEsD2QE1jTYDQbjA9bA5QEX+oXk6YDDPYP8wMDPxA+wxAYXIBHgaGQKII\n",
       "aE8CAx/I1Qwa8HBLqmLpBPnp3RmIFx2THWBhnfqzCiXA7DLBoQMDAANFK7BF6/dnAAAAAElFTkSu\n",
       "QmCC\n",
       "\" style=\"display:inline;vertical-align:middle;\" /></a> <a class=\"ProveItLink\" href=\"../__pv_it/demonstrations/bd6deba89e568b457789ada602b606e16aaadcbb0/proof.ipynb\" style=\"text-decoration: none\">&nbsp;&#x22A2;&nbsp;&nbsp;</a><a class=\"ProveItLink\" href=\"../__pv_it/theorems/59b709c3a163c380eb74e98aaf4267f16d77d5700/expr.ipynb\"><img src=\"data:image/png;base64,iVBORw0KGgoAAAANSUhEUgAAAIgAAAAaBAMAAACeOgkpAAAAMFBMVEX///9UVFQiIiKIiIjMzMx2\n",
       "dnYQEBDc3NxEREQyMjLu7u5mZmaqqqq6urqYmJgAAAB66f/FAAAAAXRSTlMAQObYZgAAAAlwSFlz\n",
       "AAAOxAAADsQBlSsOGwAAAeZJREFUOMtjYIABzwYG4gHLDDSBtxCKMQCLYm5cpoiiyvJsgNBsDljU\n",
       "suNyXgqI4IBzV0Jpf2MpNIWsdgYMj3F457PhAqghIFUMfVBxowXWaCp1WRIYmBZgNYRZi3kD1BCQ\n",
       "KvYEqHgfw0u08GjgcmBgFsBqCMcDvgkQQ8CquAPgvtyIqpDtApDg+oXVEDYHboEdHW0dHQ/Aqvgv\n",
       "QMU/MOSgKuQvAJHzsBrCz8B2AOISsCp/mKe1+NBigvMCA9CVO7AawrTgBTR2wKqMYOLexujRu+8x\n",
       "0AIz7LGz2QBqCFiVJIgham6AqqgwuBjKuo8RPQg5eDrpAOJrBRyo4cebztAP1ewPToOblEBAEU0O\n",
       "nmInAmMgj4FbAcWQZQ8YNkGZ9RfQHIIkBwfaQAM/MDDBIprrJ4jcz8CgChVYj24IkhwDkkvYGpCU\n",
       "aoOIDAauvzCXoGcpJDlkQ9YbMLxHEeP6zMD3AZalClDDBFkODiSAhhxgkOQpQDbkDwPjhOPYYwdZ\n",
       "Dg6A6YDDgEcbteBoZji0AVpCPEO3FUkODoA2cQmHFJqgCC40dReGhsVGdEOQ5FCzGR4wj5jSkjsA\n",
       "rzSOXIyeCxLwSvMJEFVwy+CVZSogypCVeGUfE1eF8OALFHZiK6O3+IJ9ATEmAAAId3JOt7qoRQAA\n",
       "AABJRU5ErkJggg==\n",
       "\" style=\"display:inline;vertical-align:middle;\" /></a></span>"
      ],
      "text/plain": [
       "{a in RealPos, b in Complex, c in Complex} |- (a^{b} * a^{c}) = a^{b + c}"
      ]
     },
     "metadata": {},
     "output_type": "display_data"
    }
   ],
   "source": [
    "mult_of_exps_test_01.combining_exponents(assumptions=[InSet(a, RealPos), InSet(b, Complex), InSet(c, Complex), NotEquals(a, zero)])"
   ]
  },
  {
   "cell_type": "code",
   "execution_count": 47,
   "metadata": {},
   "outputs": [
    {
     "data": {
      "text/html": [
       "<table><tr><th>&nbsp;</th><th>core type</th><th>sub-expressions</th><th>expression</th></tr>\n",
       "<tr><td>0</td><td>Operation</td><td>operator:&nbsp;1<br>operands:&nbsp;2<br></td><td><a class=\"ProveItLink\" href=\"../__pv_it/demonstrations/19cc5b49acdd8447a7754670249cfbed87a65c180/expr.ipynb\"><img src=\"data:image/png;base64,iVBORw0KGgoAAAANSUhEUgAAAEUAAAAVBAMAAADiLT7tAAAAMFBMVEX///8QEBCIiIiYmJgiIiKq\n",
       "qqru7u5mZmYyMjLc3Ny6urpUVFRERER2dnbMzMwAAAA+bm1bAAAAAXRSTlMAQObYZgAAAAlwSFlz\n",
       "AAAOxAAADsQBlSsOGwAAAOVJREFUKM9jYIAAvv8g8IEBBaAJ8jxgwARogm+wKEEX3IVNDaogZwMW\n",
       "JWiC7AuwqEETzGBgmF5xDk0NmmApA+cBhvtohqEKsjkwcE9gYBRAUYImyGvAwPiNgfsnihokwSgg\n",
       "ZmFg4Abq+geXRxVkkgBylcASLPBQRxN8dh8Y4A5g7nsFmBp0wfwNDMwQSW+EW9AE2X8ysCSAGQfA\n",
       "sg1YBDm/M8SCdVhD7C/AIshwPqENRLFeYJiJsAxNcL0qWOtbBgY1hBo0QQ6JCSDT3cvLHRBq0ARZ\n",
       "f4PdAUyVSGkBXbATW/pCEgQAT+VW4mCd4OkAAAAASUVORK5CYII=\n",
       "\" style=\"display:inline;vertical-align:middle;\" /></a></td></tr>\n",
       "<tr><td>1</td><td>Literal</td><td></td><td><a class=\"ProveItLink\" href=\"../../multiplication/__pv_it/common/ed719cef37831779c16481533a4d380a2f95ab270/expr.ipynb\"><img src=\"data:image/png;base64,iVBORw0KGgoAAAANSUhEUgAAAAMAAAADBAMAAACkBqiMAAAAElBMVEX///9mZmYiIiIyMjLu7u4A\n",
       "AADK2g1jAAAAAXRSTlMAQObYZgAAAAlwSFlzAAAOxAAADsQBlSsOGwAAABFJREFUCNdjYGBgcDVg\n",
       "YBIAAAI2AIhie7eBAAAAAElFTkSuQmCC\n",
       "\" style=\"display:inline;vertical-align:middle;\" /></a></td></tr>\n",
       "<tr><td>2</td><td>ExprTuple</td><td>3, 3</td><td><a class=\"ProveItLink\" href=\"../__pv_it/demonstrations/c47bf9dbda4f0f8d512f14feed9d24091331514c0/expr.ipynb\"><img src=\"data:image/png;base64,iVBORw0KGgoAAAANSUhEUgAAAFMAAAAmBAMAAABKc7pBAAAAMFBMVEX///+IiIi6urrc3NxEREQi\n",
       "IiJ2dnbu7u4QEBDMzMwyMjKYmJhUVFSqqqpmZmYAAAAHKSyHAAAAAXRSTlMAQObYZgAAAAlwSFlz\n",
       "AAAOxAAADsQBlSsOGwAAAj9JREFUOMuNVD1vE0EQfZfz+Yw/zqYiDcL/ICcBEqLAaZGiEImCBoIb\n",
       "KgqfkKCgcTogEsIFArogBQXKSxdFFBEfdSyK0GELQRPBkZDCCiSYmZ37ks7S3kreXc++nXnzZvYA\n",
       "wOlDM+574eaHDokT12StvNRC8VaWF54eWhCOa0mczphHGvNMWfbsB/ynNkru9jLuLqfzsdqx/Wk2\n",
       "n9lw03JpWkmovstAq80oIDv8ENvNrBQXo01liaa/sd1pZqBfYzfHxOYgqQlZglfp1GyKc2lXpbZI\n",
       "nvfig5/AORR/p6BUcnMWHY62S8RjgvYC8B54mILepXMXJeZ5BihtRfaiDzzxsO0m0Nt0PkKVOQ56\n",
       "qCtZP7HA9PsIbAvZGkelONUFVA9Z0z7q5AvGMk0nxdNNWaaJmNFQW4vT6fpocSM87/SUC67Pviz3\n",
       "DiUOO+Qb9QY75jtbqIQuQu72EbAu2+s8EdEZpbtzAEsK/C1K6ZcLaWhH9UF9GHo1/2FHChgL0hrW\n",
       "2qm2jqG44r1W6w7MUKzCqKzi0IWzwrXlq4OZ00OVTRuGZyvL1P4XaW7gFEN9dCWb8rJydj4IvqMr\n",
       "BXyzqqgtBgFrQ0qVhqL4kYg6Hv+BJekMFG2L3gtfXWmiHPb5aqr0nyWQm27HgQdnKfs+2xPe7C1S\n",
       "Z5Sx2o0J0DmyH2esxqQvAT+WeeQZU9yIG7mgRVah28wDLfUjvHZMq/lRHuhjNW/mQBoSuuzroRek\n",
       "cvZVLdK+EX2YtN/iQhTY7Omgd3j6D5J3kGWHGBAFAAAAAElFTkSuQmCC\n",
       "\" style=\"display:inline;vertical-align:middle;\" /></a></td></tr>\n",
       "<tr><td>3</td><td>Operation</td><td>operator:&nbsp;4<br>operands:&nbsp;5<br></td><td><a class=\"ProveItLink\" href=\"../__pv_it/demonstrations/7fae72758e117db14c9596e62821503a83e4892f0/expr.ipynb\"><img src=\"data:image/png;base64,iVBORw0KGgoAAAANSUhEUgAAABsAAAAVBAMAAABF8IgWAAAAMFBMVEX///8QEBCIiIiYmJgiIiKq\n",
       "qqru7u5mZmYyMjLc3Ny6urpUVFRERER2dnbMzMwAAAA+bm1bAAAAAXRSTlMAQObYZgAAAAlwSFlz\n",
       "AAAOxAAADsQBlSsOGwAAALJJREFUGNNjYIAAvv8g8AHKY+B5wIAM3qDwGHah8DgbULjsC1C4GQwM\n",
       "0yvOwbmlDJwHGO7DlLA5MHBPYGAUgHJ5DRgYvzFw/wQyo4CYhYGBG6jgHwMDkwSQqwRWwwJ047P7\n",
       "QOc5gLnvFYBE/gYGZgUw1xvsgp8MLAlgxgGw+74zxIIlrSG2nE9oA1GsFxhmguj1qgUg6i0DgxqI\n",
       "5pCYANLjXl4OtoD1N9hSYNhAfNmJ8BkA6U0qwGm0g6AAAAAASUVORK5CYII=\n",
       "\" style=\"display:inline;vertical-align:middle;\" /></a></td></tr>\n",
       "<tr><td>4</td><td>Literal</td><td></td><td><a class=\"ProveItLink\" href=\"../__pv_it/common/0ac37aca1e54c35c5cda09672df32d4f69f1f3020/expr.ipynb\"><img src=\"data:image/png;base64,iVBORw0KGgoAAAANSUhEUgAAACgAAAASBAMAAADbMYGVAAAAMFBMVEX///+qqqrc3NyYmJjMzMxm\n",
       "Zmbu7u52dna6uroyMjIiIiJUVFQQEBBERESIiIgAAAD3YE8vAAAAAXRSTlMAQObYZgAAAAlwSFlz\n",
       "AAAOxAAADsQBlSsOGwAAAOtJREFUGNNjYGB4e+b27ltnGdDATyB+iybG8R1IpKIJsv8AEnlogpwf\n",
       "GPgYWNAE+S8wNAMptnfb3AsZ/Lb5VScAef2r934CUqwMrx9EMRTsFGC/AOTVOzAtAFJGDPYJm1kE\n",
       "ZjMwfwDy5jMwFDAkMDgwRALNYPjIwPcNKPiXgUGB7QGQcQ7kvm8MvAeA1D8gmw9oOMcnhjQG9gUM\n",
       "/AFAZ34BCmozsN3gPgA0hjOAwQaogAtoLscJBsYvqQc4BBjyLzAtYWDInv97997zExjY4h6IGjIw\n",
       "yPs9V0APG5ALMMFyLGJsH7EISv40AJIAAMQ99ZFvAb0AAAAASUVORK5CYII=\n",
       "\" style=\"display:inline;vertical-align:middle;\" /></a></td></tr>\n",
       "<tr><td>5</td><td>ExprTuple</td><td>10, 6</td><td><a class=\"ProveItLink\" href=\"../__pv_it/demonstrations/f7dc62b874cca876d6a7e3a33b83cf6c3ca456f90/expr.ipynb\"><img src=\"data:image/png;base64,iVBORw0KGgoAAAANSUhEUgAAADkAAAAyBAMAAAAU8W51AAAAMFBMVEX///+6urqqqqpmZmbu7u6I\n",
       "iIgiIiIQEBDc3NwyMjJ2dnaYmJhUVFTMzMxEREQAAAC0ii6rAAAAAXRSTlMAQObYZgAAAAlwSFlz\n",
       "AAAOxAAADsQBlSsOGwAAAcZJREFUOMt1lD1LA0EQhl8hl+9L0lrFQhRschBQbDStIMZfYIKkU0g6\n",
       "g4imspQgliL3D2InVrnKCBbJP0gqeyWBBIu4n3e53b0pbmf3YWdn590bgFhuBNVOKr77pUHYDell\n",
       "XQPYktP3EDzen9Ih7fFpsh0OajGKCz6LnxrpNs/rDUaacthwbaZr85WJRvHMjvUiaIkePB5F0CrN\n",
       "doAImquTz00UzZC07L8oGiPEmqs0LVdI1FxLgdnBQmj2DSQmrNblF13jHsmbFewB6R+N9gsYMw0+\n",
       "gSuNElTaoM5dBcOOSknYPjvvAxhqB+c91OSWphY5P0FPPD57ptFEF4eCalKRpTqGwj2Q4ZbUOG1J\n",
       "mtG3Uioi7yDZMUTusUXbhVWJ6VnV2DXvy+VdVLsK9UQ1msvlAvGGcl8HpUIw3QzLVXUxfg2oG5aL\n",
       "qJB3fBhT5CICxYNULITlIhJk1ZcTyEUKlZnqRRJy3ZI6/OpdgcuVnJleu5SLvnbsaVTIlaV/SrGg\n",
       "QClXnl4w7ihUytWn6qlJM7moc2nqDEwuvzPwCCuXpXLR35cfn3JhsiLfZLeN9FyMZyYoO6HaRbmt\n",
       "+96joQM/+a6hex+xnP4Bk2KAY0DoF14AAAAASUVORK5CYII=\n",
       "\" style=\"display:inline;vertical-align:middle;\" /></a></td></tr>\n",
       "<tr><td>6</td><td>Operation</td><td>operator:&nbsp;7<br>operands:&nbsp;8<br></td><td><a class=\"ProveItLink\" href=\"../__pv_it/theorems/41c7e8d55de04e24c56503fbffe6ac0318a53f990/expr.ipynb\"><img src=\"data:image/png;base64,iVBORw0KGgoAAAANSUhEUgAAAAsAAAAqBAMAAACXcryGAAAAMFBMVEX///+qqqq6urpERESYmJgQ\n",
       "EBDc3Nx2dnaIiIgyMjJmZmZUVFTu7u4iIiLMzMwAAAAz/ewvAAAAAXRSTlMAQObYZgAAAAlwSFlz\n",
       "AAAOxAAADsQBlSsOGwAAAHFJREFUGNNjYGB4e4CBgYFn13wQxcDQTxWqPgFE7o6f7cBANvgPAh+I\n",
       "Upq10g5Ishkw1CswMHAnMLAGMDCw/mHg/gbkXWDg/gdWxAsx630DmLoNJrkMwJQ3mGQsYEgDUs8Z\n",
       "GHqAht1ateoCUBPQDRMYAF2JLSgqHT7SAAAAAElFTkSuQmCC\n",
       "\" style=\"display:inline;vertical-align:middle;\" /></a></td></tr>\n",
       "<tr><td>7</td><td>Literal</td><td></td><td><a class=\"ProveItLink\" href=\"../../division/__pv_it/common/a2a633e1e3c749fb1f2692466b287b6348c5de840/expr.ipynb\"><img src=\"data:image/png;base64,iVBORw0KGgoAAAANSUhEUgAAAA4AAAAMBAMAAACgrpHpAAAAJFBMVEX///9UVFQiIiJmZmaIiIiY\n",
       "mJi6urrc3Nzu7u4yMjJEREQAAABC8rhfAAAAAXRSTlMAQObYZgAAAAlwSFlzAAAOxAAADsQBlSsO\n",
       "GwAAACNJREFUCNdjYGBgWNnAAALsuxPANEMIAxZgpAQCigx4ADZzADtEBjyBzt3FAAAAAElFTkSu\n",
       "QmCC\n",
       "\" style=\"display:inline;vertical-align:middle;\" /></a></td></tr>\n",
       "<tr><td>8</td><td>ExprTuple</td><td>9, 10</td><td><a class=\"ProveItLink\" href=\"../../numerals/decimals/__pv_it/theorems/df23a04353373623cccbfda09b61e0f594aa791a0/expr.ipynb\"><img src=\"data:image/png;base64,iVBORw0KGgoAAAANSUhEUgAAACkAAAAVBAMAAAAp9toTAAAAMFBMVEX////MzMxUVFRERES6uroi\n",
       "IiIQEBCYmJhmZmYyMjLu7u52dnaqqqqIiIjc3NwAAACW8nlqAAAAAXRSTlMAQObYZgAAAAlwSFlz\n",
       "AAAOxAAADsQBlSsOGwAAAPZJREFUGNNdkbtqAlEQQI/EdeO+2MZeAgGr6A8Y/AHBJp2ghdi6ZcpA\n",
       "EBfSSFIE0mTBOiD5gdiKjV8QF4K9hY1FMHPjXdndgXmdGebeYYCYrPzn7iJH28qsRCvRCXjhi48b\n",
       "gDXFqr1r+oO9hze4lAobTW9gCPdQIkVHEfWYUsQyTa+h7lMOeEpTkR7YVV6ztPAL5pRulhpVcPoM\n",
       "svRR9e9y1JRWiv3chBVejNOhmVBVKMxxI8wGn4p+xVgH8dswHMu6cyqSXI2eA+6kuXc8StFoYfh6\n",
       "pHP+x1ZefdCxfV5vInqr448Eeg0xM52sE3qhTuStcxf6hj+sxEAS7in7YQAAAABJRU5ErkJggg==\n",
       "\" style=\"display:inline;vertical-align:middle;\" /></a></td></tr>\n",
       "<tr><td>9</td><td>Literal</td><td></td><td><a class=\"ProveItLink\" href=\"../../numerals/__pv_it/common/682157d4892d216d9e5626ed533aff9b56b9506e0/expr.ipynb\"><img src=\"data:image/png;base64,iVBORw0KGgoAAAANSUhEUgAAAAgAAAAOBAMAAADgeEClAAAAJ1BMVEX///+YmJgQEBDc3Nx2dnaI\n",
       "iIgyMjJmZmZUVFTu7u4iIiLMzMwAAADHsjQhAAAAAXRSTlMAQObYZgAAAAlwSFlzAAAOxAAADsQB\n",
       "lSsOGwAAAB9JREFUCNdjYOBeycAwo+wkAwMDK8kEy2EGBo6mY40AwiwNMNzp/EYAAAAASUVORK5C\n",
       "YII=\n",
       "\" style=\"display:inline;vertical-align:middle;\" /></a></td></tr>\n",
       "<tr><td>10</td><td>Literal</td><td></td><td><a class=\"ProveItLink\" href=\"../../numerals/__pv_it/common/af4aab8a07465db063742696e006d04670f30cf10/expr.ipynb\"><img src=\"data:image/png;base64,iVBORw0KGgoAAAANSUhEUgAAAAkAAAAOBAMAAAAPuiubAAAAMFBMVEX///+qqqqYmJiIiIgiIiLu\n",
       "7u4QEBBUVFS6urp2dnbMzMxEREQyMjJmZmbc3NwAAADzFso2AAAAAXRSTlMAQObYZgAAAAlwSFlz\n",
       "AAAOxAAADsQBlSsOGwAAAE9JREFUCNdj4Lt7egEDw2sGzh8MDHUMDGkMDPkBDPUPGEoYGOqBEgwM\n",
       "/iCC6zOIZCkAkbdBBBOYKcnA94CBawIDcwDDk7t3rwAV////hwEAK9UUlDYDfx8AAAAASUVORK5C\n",
       "YII=\n",
       "\" style=\"display:inline;vertical-align:middle;\" /></a></td></tr>\n",
       "</table>\n"
      ],
      "text/plain": [
       "0. sqrt(2) * sqrt(2)\n",
       "   core type: Operation\n",
       "   operator: 1\n",
       "   operands: 2\n",
       "1. *\n",
       "   core type: Literal\n",
       "   sub-expressions: \n",
       "2. (sqrt(2), sqrt(2))\n",
       "   core type: ExprTuple\n",
       "   sub-expressions: 3, 3\n",
       "3. sqrt(2)\n",
       "   core type: Operation\n",
       "   operator: 4\n",
       "   operands: 5\n",
       "4. Exp\n",
       "   core type: Literal\n",
       "   sub-expressions: \n",
       "5. (2, 1 / 2)\n",
       "   core type: ExprTuple\n",
       "   sub-expressions: 10, 6\n",
       "6. 1 / 2\n",
       "   core type: Operation\n",
       "   operator: 7\n",
       "   operands: 8\n",
       "7. /\n",
       "   core type: Literal\n",
       "   sub-expressions: \n",
       "8. (1, 2)\n",
       "   core type: ExprTuple\n",
       "   sub-expressions: 9, 10\n",
       "9. 1\n",
       "   core type: Literal\n",
       "   sub-expressions: \n",
       "10. 2\n",
       "    core type: Literal\n",
       "    sub-expressions: "
      ]
     },
     "metadata": {},
     "output_type": "display_data"
    }
   ],
   "source": [
    "mult_of_exps_test_02.expr_info()"
   ]
  },
  {
   "cell_type": "code",
   "execution_count": 48,
   "metadata": {},
   "outputs": [
    {
     "data": {
      "text/html": [
       "<span style=\"font-size:20px;\"> <a class=\"ProveItLink\" href=\"../__pv_it/demonstrations/5c217a87601b9251bffd0098ac157dddc0a0e3920/proof.ipynb\" style=\"text-decoration: none\">&nbsp;&#x22A2;&nbsp;&nbsp;</a><a class=\"ProveItLink\" href=\"../__pv_it/demonstrations/5c0b93345d0309039e013b6e99f2d6578e4aeeb50/expr.ipynb\"><img src=\"data:image/png;base64,iVBORw0KGgoAAAANSUhEUgAAAKYAAAAmBAMAAAC8Fv2cAAAAMFBMVEX///+IiIi6urrc3NxEREQi\n",
       "IiJ2dnbu7u4QEBDMzMwyMjKYmJhUVFSqqqpmZmYAAAAHKSyHAAAAAXRSTlMAQObYZgAAAAlwSFlz\n",
       "AAAOxAAADsQBlSsOGwAAAsZJREFUSMetVjGLE0EYfblNsptkk1xnKs0fEAOeIFeYIAE5FAmI2Ggu\n",
       "jViIGAQtbJJCPC3EszmukQQUsTN2IhYHan2x0NIE0cJDYs5DgncecWZ2d2Z3s7n7Fpxi2bz3fW9m\n",
       "3nzfbAAg08X+43YdYcYPSlDiQhjJVJsU9iaM5iptV9GpDmmnXD/mhNozBbTGfPhSVgQ41JemaT52\n",
       "2ZL4yDXTI4UsBKUs7Gu72+oY14zV1CSloMNxwGJhb82+0mwpO818QIIEo7W9NUtK853i5oMSJJhq\n",
       "kjV3FPclKEGC2u4UyUd3u1IzkbvGHluS09vQBk+XvQkMxIkNcU7VCTWbgGudYkdD+cp6dA7xX940\n",
       "BmolXOembkwUpiCyvNIy5fKd8mlA1KKpuugm8Ba4581joFmAwb08NHF8NuFfp7EmX68CD+tY95YM\n",
       "A40RTO5Qz2eLQxw+mJeaMx+Y/1lRIWmOVoD3wLrMdECzAvMPrzp/d9pEUx9KTQMNptnhrznmQGRW\n",
       "BC7KFBcY41mNzuSZc6KQaEpNDausO/jkiVtsupjVNpuygRSIFpfOCv3MeTHWXEQ0r/oIJ50N6X+B\n",
       "l9bEyl8F4iJ/ZAMaSRDf3XXCrDtitd7Pgt0NX4XathfMiH1l+xOSgojXZxVyJSKNL/bTYhUpa5lV\n",
       "D2jfxwGagngxrkggOf4tNaOjpLhLPkFTteSATPlooJ824R9F6zBnNj+Lc6khou4pG8QKcABOiXiu\n",
       "a4vwj4btxfMn/HlsMPjmIi1Qqw4GfHdFf306hH8Ytkk9sZnF8XjbRVpgjPUw7+CW/3p1CP9I2m2a\n",
       "DLrFvWCP+onPNMkf2Mvkr/uIrHmGGqjvkjV3yJFnqYEzW2TNV9TAeJus2cgTA40u/vv0uRD/we4T\n",
       "4x6E0HxNC4u0Q2gmO6Sw44UQmvo5UtSlUP+95yl9HO2E0tSWCUE36Hr/ALqAyA6JrIapAAAAAElF\n",
       "TkSuQmCC\n",
       "\" style=\"display:inline;vertical-align:middle;\" /></a></span>"
      ],
      "text/plain": [
       "|- (sqrt(2) * sqrt(2)) = 2^{(1 / 2) + (1 / 2)}"
      ]
     },
     "metadata": {},
     "output_type": "display_data"
    }
   ],
   "source": [
    "mult_of_exps_test_02.combining_exponents(auto_simplify=False)"
   ]
  },
  {
   "cell_type": "code",
   "execution_count": 49,
   "metadata": {},
   "outputs": [
    {
     "data": {
      "text/html": [
       "<span style=\"font-size:20px;\"> <a class=\"ProveItLink\" href=\"../__pv_it/demonstrations/5266100c5690b4aa464e6b75ceada0297d406cb80/proof.ipynb\" style=\"text-decoration: none\">&nbsp;&#x22A2;&nbsp;&nbsp;</a><a class=\"ProveItLink\" href=\"../__pv_it/demonstrations/9427616d3b5e64a11153a34e3f6166936f24b77d0/expr.ipynb\"><img src=\"data:image/png;base64,iVBORw0KGgoAAAANSUhEUgAAAIIAAAAmBAMAAAD6oF42AAAAMFBMVEX///+IiIi6urrc3NxEREQi\n",
       "IiJ2dnbu7u4QEBDMzMwyMjKYmJhUVFSqqqpmZmYAAAAHKSyHAAAAAXRSTlMAQObYZgAAAAlwSFlz\n",
       "AAAOxAAADsQBlSsOGwAAAi5JREFUSMeVVjFP20AU/oIDNokTs8HW/INGaitVDDgrEkKRUMVCQ5ZO\n",
       "HRpVaocuydZ2qMpUdXMkUNUxbKhiqESZYWIkqGoXVLnQDBFQlNpn984+3wvHDdHz9z1/vvve83MA\n",
       "oHyIm9er1hjyl4YApldprtjVUcAuTX1saSnk6bN+EqE3CpfEx6D5mhIoDUW8qEpYvMmuyaZwq6ay\n",
       "8D/oVgkFT9hgVxQ8B/NNQuGbCOdVPAeLHULhSoTfVTwHjWuiUwY8NLsw/K2NNJ8AG5mbF04Dm4tn\n",
       "/Dro7vuY+pNOSoCnsoBRw7MKbNGRL4A94E06KwHeyZhchdWB9ZUDT4H3LRyki5YA+9IBYQ1hD+Cw\n",
       "GpXCktWBfeCA58mgJ/e1XYd9AacXxnPBWXIzDF7nCTLY7in68QxuKDz98iK4iGpzzqskgw5TKz9i\n",
       "Kz68NxNvzfwLbEeiwhcZdBRNuQbcjZr2dxXRCPnB7r1UgHBOMgLlGrfHPSmxJxSjLTRUoEJhVxic\n",
       "HxbYG3YEQ1RTArM+BA+4BzcyeOL8mFnWRE68qxLoZGrxAZhFOyoXPm+Gvw98/2ciIw26cj8YDd+v\n",
       "w4oP12fbWh+NLhMpadCTx8dkMP26KMQjqKCaQGmwrx7J5Q501xPiazHUVlhSw+a1tsIVgS/rCkwM\n",
       "CGJHV2GK+jq2K5oK1uFtpeU1RzJvNRXekcwXPYEcvddCT0vhYZWkzBUdAfPxGHJe5y9IftxOjQ0N\n",
       "hecU8Q/Qv6h3LgAV8QAAAABJRU5ErkJggg==\n",
       "\" style=\"display:inline;vertical-align:middle;\" /></a></span>"
      ],
      "text/plain": [
       "|- (sqrt(2) * sqrt(2)) = 2"
      ]
     },
     "metadata": {},
     "output_type": "display_data"
    }
   ],
   "source": [
    "mult_of_exps_test_02.combining_exponents()"
   ]
  },
  {
   "cell_type": "code",
   "execution_count": 50,
   "metadata": {},
   "outputs": [
    {
     "data": {
      "text/html": [
       "<span style=\"font-size:20px;\"><a class=\"ProveItLink\" href=\"../__pv_it/theorems/a259ec76dfb0a5be60b7c83d797520fa82c1dba60/expr.ipynb\"><img src=\"data:image/png;base64,iVBORw0KGgoAAAANSUhEUgAAADEAAAAQBAMAAABNQoq8AAAAMFBMVEX///+YmJjMzMzc3NyIiIhU\n",
       "VFR2dna6urqqqqpmZmYyMjIiIiIQEBBERETu7u4AAAD7tRWPAAAAAXRSTlMAQObYZgAAAAlwSFlz\n",
       "AAAOxAAADsQBlSsOGwAAANtJREFUGNNjYMAEz26vclZjYOC7swFNgiVGgG/+TSCDawKazJQyBgZG\n",
       "kAx/A6oE04R7QDISiOsfQIV8d+9eAKRYH1wAkg+BOBsqUeUHoXmZYcYvdYkAUczroHxTpgQIg+/X\n",
       "g/cGIIcYQGXU2AUgDI5/DDwOIBmYCyzZHSAMzgUM/CDtOruB4ALYHqhp3AkM9SB3v4Xp4QW7DeKd\n",
       "+SB3c8Nk2MH+YQfKKPAdBIeJAzwMSoHELKDHBHgh7l8BD7dbk/m6gWJ8YRMhAk+vwwLj2Z3fk1EC\n",
       "rOw2OHRgAAASXDjITT81JQAAAABJRU5ErkJggg==\n",
       "\" style=\"display:inline;vertical-align:middle;\" /></a>, <a class=\"ProveItLink\" href=\"../__pv_it/demonstrations/0510fe7cdafcfb8225e2dfc21350c5d3adc9d5d40/expr.ipynb\"><img src=\"data:image/png;base64,iVBORw0KGgoAAAANSUhEUgAAADYAAAAqBAMAAAAKf7UOAAAAMFBMVEX///+qqqq6urpERESYmJgQ\n",
       "EBDc3Nx2dnaIiIgyMjJmZmZUVFTu7u4iIiLMzMwAAAAz/ewvAAAAAXRSTlMAQObYZgAAAAlwSFlz\n",
       "AAAOxAAADsQBlSsOGwAAAQNJREFUOMtjYGB4e4ABB+DZNR+nHAND/6gcVlCfgFNqd/xsB4xALr45\n",
       "I68Au/ruEIZTnxdgleJqAupxxi73ihnoPG5Uuea7dyeA6D3MIDtRXKHZA2UYZKGbxDYHxtjwHF2O\n",
       "E+ZPvgIVDDm4AQs0IIz/IPABxHp6FwgMwPalo+s7DGfZMKPL8cJZWiD/MSggyXE0IMJlA5CYgKxx\n",
       "IiIQZiUcvIVi6GmjA/B4iL8F8lHWSjuYpLrtXRSD2AwY6hVwRC13AgNrAA451j8M3N9w6bvAwP0P\n",
       "d2Li/YBb7n0DbrnbuKW4DHDLeeOWYixgSMMlB0wbPTik2G6tWnUBl+eASWICdikAvpRTms6mXxoA\n",
       "AAAASUVORK5CYII=\n",
       "\" style=\"display:inline;vertical-align:middle;\" /></a> <a class=\"ProveItLink\" href=\"../__pv_it/demonstrations/31247254dac38d6bfb025ffcf7c6ecc64fd3dbc40/proof.ipynb\" style=\"text-decoration: none\">&nbsp;&#x22A2;&nbsp;&nbsp;</a><a class=\"ProveItLink\" href=\"../__pv_it/demonstrations/c14a405df6b54312722e666aa0dfac10d93674eb0/expr.ipynb\"><img src=\"data:image/png;base64,iVBORw0KGgoAAAANSUhEUgAAAJgAAAAmBAMAAADKLE8XAAAAMFBMVEX///+IiIi6urrc3NxEREQi\n",
       "IiJ2dnbu7u4QEBDMzMwyMjKYmJhUVFSqqqpmZmYAAAAHKSyHAAAAAXRSTlMAQObYZgAAAAlwSFlz\n",
       "AAAOxAAADsQBlSsOGwAAAqZJREFUSMeVls1rE0EYxp84TbKbj9UeRBGU/AcJqBcPGiQIEtSAiBex\n",
       "uQmCNBdBvCSgB1so5lC1eLAFRa89luKh+IHHVsGei7QX0RBbNGht43xkk92ZjfN2Dvv5PL95d953\n",
       "ZhYAvBX8tyVfgd6+2QSPamRWes6qWCLDZuz9XiBgTkjMy+ECtytaG3fs/bmfhSbb6d0+LRqKkaY6\n",
       "e0O+M2iJC1i82rvLVA3xdO/MtqJhyrI2gM36n+A0DfEb/+JcNExZigPYO//N7OgHTcv6eV6IhilL\n",
       "ALbtvzlYO6ZpvZx/dSa6rpVFwtzDt/hBDAdrvWiijEVNexc4/fW87HZN5wQsgyyk26JGkNjEhDEV\n",
       "voMVMS7C84zC9i1eqXS/VAZEDSEjZG+BB2hjSpuTFWQKcBr8MtbWYQHLIDJHlNDDGpYLV9NaoSXm\n",
       "4XSQEeOQ/a3DAhZp2/fxC7BflMp7YLn5bDSg/SQGihcSD05w3B0dFrBImIM6h82rl2MhaWySHxQ8\n",
       "Lr4wuR2RS98iYQwz/aS7P0K6J+O8HCuqlg6Io3q9cUW0awhbepk+y7UKFtdmX30JaUmBsv4yA9Ms\n",
       "Hu8+rwpzfYCRVeBtqZKGp7Kya8LWw7c3Yn5kgeVP1Sfbxaq8fY0hMG3FTHV/+rBVsEJYe6kmV/5s\n",
       "Fcejx8y08ASIbLpVxLT1L39URvgYOITgDO4vhqaFD5EY5pOt1ob2PDUp+mXXWy2RVGbUWYSFF5sI\n",
       "YKzb/aM9z/6VA8hnnEiIu2kUmWnhERSHLOrPQ+gOaW/yGhRVokLbNUl9jtB2zuQOReXPYFu7SBHl\n",
       "CzTYAkV0k/h3UM8RRFNEWGLOrok1iDC+K1ibs0KFLdolR8i/VClr2tk9Mix52aa4Tf5K4JTt76u8\n",
       "h39a1rSEniOC/gGfsrs6EtWsDgAAAABJRU5ErkJggg==\n",
       "\" style=\"display:inline;vertical-align:middle;\" /></a></span>"
      ],
      "text/plain": [
       "{b in Complex, (1 / 2) in Complex} |- (2^{b} * sqrt(2)) = 2^{b + (1 / 2)}"
      ]
     },
     "metadata": {},
     "output_type": "display_data"
    }
   ],
   "source": [
    "mult_of_exps_test_03.combining_exponents(assumptions=[InSet(b, Complex), InSet(frac(one, two), Complex), NotEquals(two, zero)])"
   ]
  },
  {
   "cell_type": "markdown",
   "metadata": {},
   "source": [
    "## Testing Exp.exponent_separation()"
   ]
  },
  {
   "cell_type": "code",
   "execution_count": 51,
   "metadata": {},
   "outputs": [
    {
     "data": {
      "text/html": [
       "<strong id=\"expr_01\">expr_01:</strong> <a class=\"ProveItLink\" href=\"../__pv_it/theorems/30a87e0fd349eb957cda18d62242a4c55ae3e4ad0/expr.ipynb\"><img src=\"data:image/png;base64,iVBORw0KGgoAAAANSUhEUgAAABIAAAATBAMAAABvvEDBAAAAMFBMVEX////MzMwyMjKqqqoiIiJm\n",
       "ZmaYmJju7u5EREQQEBC6urqIiIh2dnZUVFTc3NwAAAAqL9KcAAAAAXRSTlMAQObYZgAAAAlwSFlz\n",
       "AAAOxAAADsQBlSsOGwAAAHRJREFUCNdjYAADoQYGKOA9AGNxCsBY8ruvQ1lbCrZCWW0MSVDWRIZY\n",
       "KOsDw2Qoy50NZqDobiDBd2ffBgh35QOO72AG+zQGVgcwi/UDAwvEUs4GhvoFYFb9BoZ8iIZ6A4ZL\n",
       "zA9ALI4NzK6sEL23D77dCGIAAFBYG2T8KRW8AAAAAElFTkSuQmCC\n",
       "\" style=\"display:inline;vertical-align:middle;\" /></a><br>"
      ],
      "text/plain": [
       "<IPython.core.display.HTML object>"
      ]
     },
     "metadata": {},
     "output_type": "display_data"
    },
    {
     "data": {
      "text/html": [
       "<strong id=\"expr_02\">expr_02:</strong> <a class=\"ProveItLink\" href=\"../__pv_it/theorems/0b8e3d12e43e509315ac3ab53d5642bcfc1791190/expr.ipynb\"><img src=\"data:image/png;base64,iVBORw0KGgoAAAANSUhEUgAAACcAAAATBAMAAADhZgm9AAAAMFBMVEX////MzMwyMjKqqqoiIiJm\n",
       "ZmaYmJju7u5EREQQEBC6urqIiIh2dnZUVFTc3NwAAAAqL9KcAAAAAXRSTlMAQObYZgAAAAlwSFlz\n",
       "AAAOxAAADsQBlSsOGwAAAKZJREFUGNNjYAADoQYGTMB7AEQGoApyCoBINOXyu6/DBE9nwwS3FGyF\n",
       "CrIskIQJtjEkQQUjGAphghMZYlk7OmZ0tDHMQpj5gWEyVOU/hKA7WwNUUIuBByYouhvmpKdp24Ek\n",
       "3519G6BSCHeufMDxHcqE+4h9GgOrA7qvWT8wsBxAF+RsYKhfgC5Yv4EhHyPQ6g0YLjE/QBPk2MDs\n",
       "yoqukv32wbcb0cQA7g0pS5PTruoAAAAASUVORK5CYII=\n",
       "\" style=\"display:inline;vertical-align:middle;\" /></a><br>"
      ],
      "text/plain": [
       "<IPython.core.display.HTML object>"
      ]
     },
     "metadata": {},
     "output_type": "display_data"
    },
    {
     "data": {
      "text/html": [
       "<strong id=\"expr_03\">expr_03:</strong> <a class=\"ProveItLink\" href=\"../__pv_it/demonstrations/29b750c1b8ef1b5da2489fea7b7309b9c4c4a5bf0/expr.ipynb\"><img src=\"data:image/png;base64,iVBORw0KGgoAAAANSUhEUgAAADwAAAATBAMAAAA+KHOiAAAAMFBMVEX////MzMwyMjKqqqoiIiJm\n",
       "ZmaYmJju7u5EREQQEBC6urqIiIh2dnZUVFTc3NwAAAAqL9KcAAAAAXRSTlMAQObYZgAAAAlwSFlz\n",
       "AAAOxAAADsQBlSsOGwAAAN5JREFUKM9jYAADoQYGLIDnI5TBewBEBsAlICy+D1AupwCIRBgBYXHD\n",
       "BOR3X4cJns6GstiPbdoAld5SsBUqyLJAEsoqeSAvAJVuY0iCCkYwFEJZoQzyMLsmMsSydnTM6Ghj\n",
       "mMXAAGftgEl/YJgM1fMP5jT2fwzd5VBpd7YGqLQWAw+UNY/xYzpUWnQ3zDtP07ZDWUuT9yQA/X5n\n",
       "3wYU36KyVj7g+I4SVigs9mkMrA4MOAHrBwaWA7ilORsY6hfglq7fwJDPgEfagOES8wOc0hwbmF1Z\n",
       "cetmv33w7UacsgCqqT7Gh8AdYgAAAABJRU5ErkJggg==\n",
       "\" style=\"display:inline;vertical-align:middle;\" /></a><br>"
      ],
      "text/plain": [
       "<IPython.core.display.HTML object>"
      ]
     },
     "metadata": {},
     "output_type": "display_data"
    },
    {
     "data": {
      "text/html": [
       "<strong id=\"expr_04\">expr_04:</strong> <a class=\"ProveItLink\" href=\"../__pv_it/demonstrations/603bd5da0825af1c3a2d3f7b32a2b70eed7e496b0/expr.ipynb\"><img src=\"data:image/png;base64,iVBORw0KGgoAAAANSUhEUgAAADsAAAATBAMAAADc9GjbAAAAMFBMVEX///+qqqqYmJiIiIgiIiLu\n",
       "7u4QEBBUVFS6urp2dnbMzMxEREQyMjJmZmbc3NwAAADzFso2AAAAAXRSTlMAQObYZgAAAAlwSFlz\n",
       "AAAOxAAADsQBlSsOGwAAAN5JREFUKM9jYAABVh0GKGCdWR7AgA4Wm4BIXjDmdQBSF1DlRUAENxDz\n",
       "N/D9AlIbcEgzBSCkJytjSDMwcDpApVkaljEw8N09vQBFekkAVPo2QxQDw2sGzh9g6du7t+3ercDA\n",
       "t5WBd/fu7N2bGDJAiusYGNKQdb9leAfV/Q/EzQ9gqH+AkObbteoqVPoEAycDQwkDQ/2Cl+cnQ6XZ\n",
       "/v//AJV+q2QKdow/1PncCI8i+ZvrM5TBixBDCjWWAgZ84DZeWSb8miUZ+B7gluWawMAcgFv6yd27\n",
       "V/CY7f///x/csgCG3DuYf9cq9QAAAABJRU5ErkJggg==\n",
       "\" style=\"display:inline;vertical-align:middle;\" /></a><br>"
      ],
      "text/plain": [
       "<IPython.core.display.HTML object>"
      ]
     },
     "metadata": {},
     "output_type": "display_data"
    }
   ],
   "source": [
    "expr_01, expr_02, expr_03, expr_04 = (\n",
    "    Exp(a, b), Exp(a, Add(b, c)), Exp(a, Add(b, c, d)), Exp(two, Add(one, two, c)))"
   ]
  },
  {
   "cell_type": "code",
   "execution_count": 52,
   "metadata": {},
   "outputs": [
    {
     "data": {
      "text/html": [
       "<strong id=\"temp_assumptions\">temp_assumptions:</strong> <a class=\"ProveItLink\" href=\"../__pv_it/demonstrations/29471d1812aac9c3578eb25d138901ef4e5f4fb70/expr.ipynb\"><img src=\"data:image/png;base64,iVBORw0KGgoAAAANSUhEUgAAASoAAAAZBAMAAAB0jX6rAAAAMFBMVEX///8AAAAAAAAAAAAAAAAA\n",
       "AAAAAAAAAAAAAAAAAAAAAAAAAAAAAAAAAAAAAAAAAAAv3aB7AAAAD3RSTlMAZkRUmRDNuyLviTJ2\n",
       "3asqG0tJAAAACXBIWXMAAA7EAAAOxAGVKw4bAAAC7UlEQVRIx82WTWgTQRiG3yS72TRb221BPSja\n",
       "iwcvmpN4EXPRCiJdD1oEaXKo0ILVrRpXQWkOYlGkxIvxYCEFwUMVPAj2pPHgQVtLwfpXDKZIW5Ae\n",
       "akNrsQrOTNpkZ5vO7MXQgexkkiff++b75g9AI0QtCnnzwijwCrFoAXFMy0MwL4wGr1AvfZzEBnPl\n",
       "y5JHd4VvfZ324pdusaIXBlvSPV1pQ+LKDX0AQqmKpkN5/2SCU2ztlzMV0tiHPVtNlyu9MyqCRskE\n",
       "y1R2lYH1Aoptp+3VZLZ7YNa6ug1Nz6PZvmrbRunT+ogIipmob1rP1ZEgn4eCB6aSKyUZd1dwrymC\n",
       "ggZeckDt9dzHkqLGKfoX5MyaOEVBy+3qiRBSLLxz0v6zZjkPU22cYnhMzqyJQwXrTuTdrtqFUG0K\n",
       "07Tve3yHjW+a5eroFzs4xeDsaETGIDyyjWOo4PN9Sc5V6MdwQQiRqti0u48ehnSU58y9b19Nbt+O\n",
       "nVGXZEzoPZo5Btatrr+v+b19d1JbEEL6Ms6R7pSBY2wcLysObI7zVTlo4oGM2ZRxMSQNDa5tWr0L\n",
       "JS6EQvMYJ10LMMFM9udyuU8r1Uk08NEOA79lTEuxKGWGCGrHDf6sm6PmRZA6z3KVpm/o0HKs+mca\n",
       "v3wn4C/ImPRKWMuRBj2a4JgaC7EmIRRiFVT/wDfHxmMORWWIX1oFKAsShgQCH4dO5KO9XJxYFjvF\n",
       "kL6EGRKsgLr4fjoecSiq1qsSRzOyTKefhPlJVg7HUMHWWsPJxCKYDiQFEF2Db0h3DQeibB0FIyXF\n",
       "KBq01W1fXSSPSVyCjCELcJBjYN2Az7jgZLRsYFwRQOTcT7HNv+3t0OxT9rOZXav3gV9J7XLpjMlR\n",
       "6GHx34iY8MB208nQ68AV2OcjDkadHewbFkFQ8qjhzkH/o5VDgG8B8z8w60H0HKx8Z3C1cBUZdmfQ\n",
       "Ux6401VkgB3k9d0Dl60iA3yW39ur39i9PZDZYK6K+2njBnN1CPgHhV8iWJj/fXEAAAAASUVORK5C\n",
       "YII=\n",
       "\" style=\"display:inline;vertical-align:middle;\" /></a><br>"
      ],
      "text/plain": [
       "<IPython.core.display.HTML object>"
      ]
     },
     "metadata": {},
     "output_type": "display_data"
    }
   ],
   "source": [
    "# some general assumptions\n",
    "temp_assumptions = [InSet(a, RealPos), InSet(b, RealPos),\n",
    "                    InSet(c, RealPos), InSet(d, RealPos)]"
   ]
  },
  {
   "cell_type": "code",
   "execution_count": 53,
   "metadata": {},
   "outputs": [
    {
     "name": "stdout",
     "output_type": "stream",
     "text": [
      "Error: 'Exp.exponent_separation()' implemented only for cases in which the exponent appears as a sum (i.e. in the Add class). The exponent in this case is b.\n"
     ]
    }
   ],
   "source": [
    "# nothing to do if the exponent is not a sum:\n",
    "try:\n",
    "    expr_01.exponent_separation()\n",
    "except Exception as the_exception:\n",
    "    print(\"Error: {}\".format(the_exception))"
   ]
  },
  {
   "cell_type": "code",
   "execution_count": 54,
   "metadata": {},
   "outputs": [
    {
     "data": {
      "text/html": [
       "<span style=\"font-size:20px;\"><a class=\"ProveItLink\" href=\"../__pv_it/theorems/5a0c211ed8c0f89e15d717d80d4627baae693acb0/expr.ipynb\"><img src=\"data:image/png;base64,iVBORw0KGgoAAAANSUhEUgAAAD8AAAATBAMAAADVH8ihAAAAMFBMVEX////MzMwyMjKqqqoiIiJm\n",
       "ZmaYmJju7u5EREQQEBC6urqIiIh2dnZUVFTc3NwAAAAqL9KcAAAAAXRSTlMAQObYZgAAAAlwSFlz\n",
       "AAAOxAAADsQBlSsOGwAAAN5JREFUKM9jYMADWBkIAA4yFSTN6FeZkYDPhIa3DGszCvApeMPAwXiB\n",
       "IaKjs6MjAYcC1gcKWEzY4eKiAFfQgKlg0XaECbzlF+AK+O7s2wCm1ZGskDB6AFew8gHHdxDN9ACu\n",
       "4KXKl+3wkGSfxsDqAFaA5Mi0IqTw/sDAcgDEkHQBggaIAo4yhPc4GxjqF4AYFUgmMAa0w3n1Gxjy\n",
       "wQwW5HAIfIFQYMBwiRnkPu4NSAoquOF2cGxgdoXEuzJcwVMGtoQuGI/99sG3G8Gs2q4CWGz2MXTo\n",
       "G2DGwZoWSFCjAAAaDkU0dYR17AAAAABJRU5ErkJggg==\n",
       "\" style=\"display:inline;vertical-align:middle;\" /></a>, <a class=\"ProveItLink\" href=\"../__pv_it/theorems/b9cae19a628b9412bdeba3850806ec1015c9b6ae0/expr.ipynb\"><img src=\"data:image/png;base64,iVBORw0KGgoAAAANSUhEUgAAAD0AAAATBAMAAADR6hicAAAAMFBMVEX///+YmJjMzMzc3NyIiIhU\n",
       "VFR2dna6urqqqqpmZmYyMjIiIiIQEBBERETu7u4AAAD7tRWPAAAAAXRSTlMAQObYZgAAAAlwSFlz\n",
       "AAAOxAAADsQBlSsOGwAAAOpJREFUKM9jYMANOBnwA16y5KXO3l99VgAuz3dnA5qCC6YMpbIP4Pq5\n",
       "JqDLmzHwMgUwzL175+5doDn8DZjynAYL4PrrH0DFfXfvXgCXvwCXz4ZKV/kh9LO+C4DLL3WJAFHM\n",
       "65DM1+0ygLv/14P3IA6XAVzeZvVvP3j4cfxj4HEAySO5T/AVUiAvYOBPANI6u4HgAkSe96EAXJ47\n",
       "gaEe5MO3SPqZJtyD84Denw/yITey/yfZIuQV+A6CaBYHJPm3LHALWAV4IQG8Ai5vycAocB3G4wub\n",
       "CGE8vf4AFn+XGe6ub8CI2LLbkPBFAQCsf0hmRnY2owAAAABJRU5ErkJggg==\n",
       "\" style=\"display:inline;vertical-align:middle;\" /></a>, <a class=\"ProveItLink\" href=\"../__pv_it/theorems/8c5864665d603ebc7e84fdb786d604e60f56fcc70/expr.ipynb\"><img src=\"data:image/png;base64,iVBORw0KGgoAAAANSUhEUgAAAD0AAAATBAMAAADR6hicAAAAMFBMVEX///9UVFQyMjK6urru7u4Q\n",
       "EBBERERmZmaqqqoiIiLc3NzMzMyYmJiIiIh2dnYAAABC1PP/AAAAAXRSTlMAQObYZgAAAAlwSFlz\n",
       "AAAOxAAADsQBlSsOGwAAAM9JREFUKM9jYMAN2BnwAzay5A+F5WuGHcCjP2Ehg+ExBzzy6xjYuAUY\n",
       "ytJS09IOYJdnX6CAqf/azJkKcPkEDHmjKwj9jC4CCPm3dzYASS4VJPO3NS2Ay69sYAcZxrQALr9U\n",
       "8+cVRPjNY2C9AJJHct8ZJ6RA/gKht84EggSIPJsPwl+sCRDaDUk/d0EKnOd/AUJzIvu/ehmcxw80\n",
       "ygBI815AknfjhVsAdDwfyH8MGnD55Qw8B5LhBrw7AwkYx2QHWPxlMaTpN2CEu10mJHxRAABI1jva\n",
       "YsbopQAAAABJRU5ErkJggg==\n",
       "\" style=\"display:inline;vertical-align:middle;\" /></a> <a class=\"ProveItLink\" href=\"../__pv_it/demonstrations/fd32d4731ac5b1bca24e45ad826f340cc839e4630/proof.ipynb\" style=\"text-decoration: none\">&nbsp;&#x22A2;&nbsp;&nbsp;</a><a class=\"ProveItLink\" href=\"../__pv_it/demonstrations/d12ac05f4d8f9cd814bd35a2c14e8e8ee1667b0a0/expr.ipynb\"><img src=\"data:image/png;base64,iVBORw0KGgoAAAANSUhEUgAAAIkAAAAaBAMAAABx+GIXAAAAMFBMVEX///8AAAAAAAAAAAAAAAAA\n",
       "AAAAAAAAAAAAAAAAAAAAAAAAAAAAAAAAAAAAAAAAAAAv3aB7AAAAD3RSTlMAIquJdkTvuxBmmd1U\n",
       "zTKBpmoTAAAACXBIWXMAAA7EAAAOxAGVKw4bAAAB1ElEQVQ4y2NgAIO3BQxEAEKqmAxA5AJc0lOR\n",
       "VaEBLgST7QGIxGUVzwJkVWiAEaHrvYsGzBSTKRgKe1FUIQNmTwcGhHrvBi+oKdwBzzBMqURRhQy2\n",
       "8iUwcDcg1M2FmrKcoQ/DzQkoqpDDpIDjAQOLAoybx7CIq7w8vbySIRVL+BkgVKHKsAUACY4fMO4H\n",
       "hhyoWz5imsIfgKIKWUYARN6EcXdwFkBNucrAjG7K+wYUVUiAN4DBABQIUPDKBRbTUjM90E3xRlWF\n",
       "HGIrpwBtcAOxlB0doII40osuqiooEDIRgbLigSaFCbDDggcp7a7eDQKbwOxyBhRVEMCayFAP9en7\n",
       "BwwcmQxcG/Bnj0sMWFS1TWBYDWXKBzBwfWDgNsBvyi4GFFUcf0HkegaGzVCB/gAGtgIQScgtKKp2\n",
       "gYh0Bo6vMLc8YOh3YJiPRSdyuABNwVDF8YWB8wMsJQgw9B9g0OURwOsWdQZMVRx/GJguHITHEbsD\n",
       "zy4u/D4CpgdMVSUMpxdA43Qa0FAVOyE//KYA7cJU1eT8UAVa3CwippyE5Dk84CZRpnDhTwkcP4gy\n",
       "hS8BrzSnAlGmMOjgleUWIM6UXryyU4gzhIEHX8AwFhBpCqw+wh72wJwNANbHdsbyKwIwAAAAAElF\n",
       "TkSuQmCC\n",
       "\" style=\"display:inline;vertical-align:middle;\" /></a></span>"
      ],
      "text/plain": [
       "{a in RealPos, b in RealPos, c in RealPos} |- a^{b + c} = (a^{b} * a^{c})"
      ]
     },
     "metadata": {},
     "output_type": "display_data"
    }
   ],
   "source": [
    "# a 2-addend exponent\n",
    "expr_02.exponent_separation(assumptions=temp_assumptions)"
   ]
  },
  {
   "cell_type": "code",
   "execution_count": 55,
   "metadata": {},
   "outputs": [
    {
     "data": {
      "text/html": [
       "<span style=\"font-size:20px;\"><a class=\"ProveItLink\" href=\"../__pv_it/theorems/5a0c211ed8c0f89e15d717d80d4627baae693acb0/expr.ipynb\"><img src=\"data:image/png;base64,iVBORw0KGgoAAAANSUhEUgAAAD8AAAATBAMAAADVH8ihAAAAMFBMVEX////MzMwyMjKqqqoiIiJm\n",
       "ZmaYmJju7u5EREQQEBC6urqIiIh2dnZUVFTc3NwAAAAqL9KcAAAAAXRSTlMAQObYZgAAAAlwSFlz\n",
       "AAAOxAAADsQBlSsOGwAAAN5JREFUKM9jYMADWBkIAA4yFSTN6FeZkYDPhIa3DGszCvApeMPAwXiB\n",
       "IaKjs6MjAYcC1gcKWEzY4eKiAFfQgKlg0XaECbzlF+AK+O7s2wCm1ZGskDB6AFew8gHHdxDN9ACu\n",
       "4KXKl+3wkGSfxsDqAFaA5Mi0IqTw/sDAcgDEkHQBggaIAo4yhPc4GxjqF4AYFUgmMAa0w3n1Gxjy\n",
       "wQwW5HAIfIFQYMBwiRnkPu4NSAoquOF2cGxgdoXEuzJcwVMGtoQuGI/99sG3G8Gs2q4CWGz2MXTo\n",
       "G2DGwZoWSFCjAAAaDkU0dYR17AAAAABJRU5ErkJggg==\n",
       "\" style=\"display:inline;vertical-align:middle;\" /></a>, <a class=\"ProveItLink\" href=\"../__pv_it/theorems/b9cae19a628b9412bdeba3850806ec1015c9b6ae0/expr.ipynb\"><img src=\"data:image/png;base64,iVBORw0KGgoAAAANSUhEUgAAAD0AAAATBAMAAADR6hicAAAAMFBMVEX///+YmJjMzMzc3NyIiIhU\n",
       "VFR2dna6urqqqqpmZmYyMjIiIiIQEBBERETu7u4AAAD7tRWPAAAAAXRSTlMAQObYZgAAAAlwSFlz\n",
       "AAAOxAAADsQBlSsOGwAAAOpJREFUKM9jYMANOBnwA16y5KXO3l99VgAuz3dnA5qCC6YMpbIP4Pq5\n",
       "JqDLmzHwMgUwzL175+5doDn8DZjynAYL4PrrH0DFfXfvXgCXvwCXz4ZKV/kh9LO+C4DLL3WJAFHM\n",
       "65DM1+0ygLv/14P3IA6XAVzeZvVvP3j4cfxj4HEAySO5T/AVUiAvYOBPANI6u4HgAkSe96EAXJ47\n",
       "gaEe5MO3SPqZJtyD84Denw/yITey/yfZIuQV+A6CaBYHJPm3LHALWAV4IQG8Ai5vycAocB3G4wub\n",
       "CGE8vf4AFn+XGe6ub8CI2LLbkPBFAQCsf0hmRnY2owAAAABJRU5ErkJggg==\n",
       "\" style=\"display:inline;vertical-align:middle;\" /></a>, <a class=\"ProveItLink\" href=\"../__pv_it/theorems/8c5864665d603ebc7e84fdb786d604e60f56fcc70/expr.ipynb\"><img src=\"data:image/png;base64,iVBORw0KGgoAAAANSUhEUgAAAD0AAAATBAMAAADR6hicAAAAMFBMVEX///9UVFQyMjK6urru7u4Q\n",
       "EBBERERmZmaqqqoiIiLc3NzMzMyYmJiIiIh2dnYAAABC1PP/AAAAAXRSTlMAQObYZgAAAAlwSFlz\n",
       "AAAOxAAADsQBlSsOGwAAAM9JREFUKM9jYMAN2BnwAzay5A+F5WuGHcCjP2Ehg+ExBzzy6xjYuAUY\n",
       "ytJS09IOYJdnX6CAqf/azJkKcPkEDHmjKwj9jC4CCPm3dzYASS4VJPO3NS2Ay69sYAcZxrQALr9U\n",
       "8+cVRPjNY2C9AJJHct8ZJ6RA/gKht84EggSIPJsPwl+sCRDaDUk/d0EKnOd/AUJzIvu/ehmcxw80\n",
       "ygBI815AknfjhVsAdDwfyH8MGnD55Qw8B5LhBrw7AwkYx2QHWPxlMaTpN2CEu10mJHxRAABI1jva\n",
       "YsbopQAAAABJRU5ErkJggg==\n",
       "\" style=\"display:inline;vertical-align:middle;\" /></a>, <a class=\"ProveItLink\" href=\"../__pv_it/demonstrations/47bc8cc554bef16e22bc6aac513e386b62872e270/expr.ipynb\"><img src=\"data:image/png;base64,iVBORw0KGgoAAAANSUhEUgAAAD8AAAATBAMAAADVH8ihAAAAMFBMVEX///+YmJhERESIiIhUVFTc\n",
       "3NwiIiJ2dnbu7u66urqqqqpmZmYQEBAyMjLMzMwAAAA7oY0NAAAAAXRSTlMAQObYZgAAAAlwSFlz\n",
       "AAAOxAAADsQBlSsOGwAAAPFJREFUKM9jYMADuBkIACYyFcge0r92SABZAd+dDSgqFEIYpgg1IJvA\n",
       "vwBVQTgDE58DwyYlHSUlsEkM8xvQFXAHXEA2oQxCGaWlXYArUEBWcBtMzrVAmMDS4QBXwOpu9wtM\n",
       "30Cy4tHaALiCOQFMP0A0bwBcQcy1bxbwkOQ4yMANtpkXyZGCvUjh/YGBrQDEeJMGBAoQBUyNAnAF\n",
       "PAoM/RNAjCYkE/g2aMB5/QYM8mAGG3I47AtCKFjA4MsFch+zAZKCJma4HUwGXNmQeL8FVxDNwCig\n",
       "CeNxONeF2IFZLZoNsNhUZVC6vwAznqerQYIaBQAAB/g1XnlcBd0AAAAASUVORK5CYII=\n",
       "\" style=\"display:inline;vertical-align:middle;\" /></a> <a class=\"ProveItLink\" href=\"../__pv_it/demonstrations/3e9e583d949e042fbd6b1643850507233407663b0/proof.ipynb\" style=\"text-decoration: none\">&nbsp;&#x22A2;&nbsp;&nbsp;</a><a class=\"ProveItLink\" href=\"../__pv_it/demonstrations/6ce1c12c47c009de372ec5b1b680959cc4a062a40/expr.ipynb\"><img src=\"data:image/png;base64,iVBORw0KGgoAAAANSUhEUgAAAMMAAAAaBAMAAAD4YPV+AAAAMFBMVEX///8AAAAAAAAAAAAAAAAA\n",
       "AAAAAAAAAAAAAAAAAAAAAAAAAAAAAAAAAAAAAAAAAAAv3aB7AAAAD3RSTlMAIquJdkTvuxBmmd1U\n",
       "zTKBpmoTAAAACXBIWXMAAA7EAAAOxAGVKw4bAAACUUlEQVRIx5VWPWgUQRT+Lol7c7vnuQQrmwsY\n",
       "0MLAFWnS6EmCiQZlKwsbk0KCILJF4EjloiCCxEuxioLikkZiCv8Q5GwU7GyCaJHubAQF2QsoXKHB\n",
       "2cvs3b6ZW2/nK+beezPf+97Oe3t3QAc/XfTB8C7S0J8g4UQz4QxVojXo+ntWrqXS7iYJA1CG2XOM\n",
       "jl6vsj1rRC21GCQJAzCLXC9DOHM0TjzpC4tNna0qrFVCILd6Wjp9w/8M+F133jsjElvON2HdtkO1\n",
       "1BVCSOJ1aYH47EWJt9LyesxHIvET3BHWU4SKQm6BEBIwXUYLMoMSb+XIWOxfxbpZqy3VVnCJb8bW\n",
       "rCJhVnoEumM4kANRK1k79lu4ImrfidvNdrB8S5Y44BBCcseWjtbt/By/pe3Yf1NwhcQXDAtrsbR7\n",
       "X5YIPUJIYL8DOseGHX73oosX+DETj+qhB3PCuvBwek2WmKeEZJc2fI8E9m18mOIfp6K9wyer5G2g\n",
       "FsUEJQiMTh5MDVzkwuftfJu809QCNt9GeNmxayAEUe8irnlpAT747DLM58iKT+hDuLmGzdRA2YHZ\n",
       "glXJLNEAIbC/0foMeNWdoy054MBwo1XjKQihES1LYL/jgBVIgXIT9Soe/z9tshdcQiGwXyi0UgOh\n",
       "jfo7TBTtrE9xBCqB/cHQ1vu0AJ+ofLXYMDNfFJ9ylbCMj0GQFrjHJcePj57LLMFrUgnXp7+ON9MC\n",
       "69CE4egytnUJZkWTwNq6EtLPzmAUxnQlcEzzvGVrS6xqnve1FVDUa0bO1ZeI/0dlHQ/+hfsPiBGq\n",
       "rscQtGEAAAAASUVORK5CYII=\n",
       "\" style=\"display:inline;vertical-align:middle;\" /></a></span>"
      ],
      "text/plain": [
       "{a in RealPos, b in RealPos, c in RealPos, d in RealPos} |- a^{b + c + d} = (a^{b} * a^{c} * a^{d})"
      ]
     },
     "metadata": {},
     "output_type": "display_data"
    }
   ],
   "source": [
    "# a 3-addend exponent\n",
    "expr_03.exponent_separation(assumptions=temp_assumptions)"
   ]
  },
  {
   "cell_type": "code",
   "execution_count": 56,
   "metadata": {},
   "outputs": [
    {
     "data": {
      "text/html": [
       "<span style=\"font-size:20px;\"><a class=\"ProveItLink\" href=\"../__pv_it/theorems/8c5864665d603ebc7e84fdb786d604e60f56fcc70/expr.ipynb\"><img src=\"data:image/png;base64,iVBORw0KGgoAAAANSUhEUgAAAD0AAAATBAMAAADR6hicAAAAMFBMVEX///9UVFQyMjK6urru7u4Q\n",
       "EBBERERmZmaqqqoiIiLc3NzMzMyYmJiIiIh2dnYAAABC1PP/AAAAAXRSTlMAQObYZgAAAAlwSFlz\n",
       "AAAOxAAADsQBlSsOGwAAAM9JREFUKM9jYMAN2BnwAzay5A+F5WuGHcCjP2Ehg+ExBzzy6xjYuAUY\n",
       "ytJS09IOYJdnX6CAqf/azJkKcPkEDHmjKwj9jC4CCPm3dzYASS4VJPO3NS2Ay69sYAcZxrQALr9U\n",
       "8+cVRPjNY2C9AJJHct8ZJ6RA/gKht84EggSIPJsPwl+sCRDaDUk/d0EKnOd/AUJzIvu/ehmcxw80\n",
       "ygBI815AknfjhVsAdDwfyH8MGnD55Qw8B5LhBrw7AwkYx2QHWPxlMaTpN2CEu10mJHxRAABI1jva\n",
       "YsbopQAAAABJRU5ErkJggg==\n",
       "\" style=\"display:inline;vertical-align:middle;\" /></a> <a class=\"ProveItLink\" href=\"../__pv_it/demonstrations/5a7f54998a40201ec113912de44f6cca8105ccb30/proof.ipynb\" style=\"text-decoration: none\">&nbsp;&#x22A2;&nbsp;&nbsp;</a><a class=\"ProveItLink\" href=\"../__pv_it/demonstrations/1f17594905b2387f40d5714f6dfd225354549c460/expr.ipynb\"><img src=\"data:image/png;base64,iVBORw0KGgoAAAANSUhEUgAAALcAAAAaBAMAAAAHwtCcAAAAMFBMVEX///8AAAAAAAAAAAAAAAAA\n",
       "AAAAAAAAAAAAAAAAAAAAAAAAAAAAAAAAAAAAAAAAAAAv3aB7AAAAD3RSTlMAIpnNuzKJRKvvEN12\n",
       "ZlQ4bmvwAAAACXBIWXMAAA7EAAAOxAGVKw4bAAACZ0lEQVRIx5VWMWsUQRT+dpM993bvzHocgljk\n",
       "WEMQg2ARsApesSkUhEOIEBTuKhEMZP+BZyexSAohpMo12uawUbRIWhUhYKNygliksYlICITAOjM7\n",
       "uzPuzMnsg9m9ed9737x5897sAVS8z+DiPXg6QEl5+XDtf/D9j/Rps2EPyas1zrIeq7oW5lSlLX7+\n",
       "oo9JMqZi64i82uPIf2p0x5juKEqrrZLXB4J8ZaS4eNc05N8U8sqnPYxUcgIMObkfLys8k/va/Twq\n",
       "zF87G/DJ2VnhfOcf8nsDTj6DFwrLBTIalxbF5pm381ZYUNRuex3U+kATlWNGPhPdjKJ9WLdgR9Hz\n",
       "6DY2NSHOsmSu5qeaejcHcqpX4yrFvRPgCbAlR97AOR75b+3ZwQ1Q3cjmzNtqWUGmYOgUmy4A2wOs\n",
       "B4LcWly6wsmvo1Lkdkg01RO4+brMu7l0Jw+doRMxejSteAasd87fWOHk1SQ55OSN7x+K5DVy2O4Q\n",
       "7lGmYN7bSZJbMNS6OiKrvWeK3awUBMuYOnfTSvQPJd1u0ShDH9PtOKdqU0kdar9j0mfLp4t296RM\n",
       "nRbJM7RLi9/vG98iE6npGzlOxTtDp2NWz8bisx3ZLP6dNEXCmyvsLKU7hLxuHjiP/Iu0kOSdKjhK\n",
       "IydpOYCoUp3IOWfkZ3usFVJRvAXaDeD0UDO+wV265btAXqOqt0BJtVwMwznjtNRIa1qvwnCYKRRv\n",
       "Cf1KyjRJ/hiTnyEd6idJkl+8ireEXi77RdssYbtQlnzW3JTeiuVk2dy0TInzcvlh3nBBWXLtN1Qv\n",
       "I5SWA1NDq12eXPe/Rd/YpLf+ApWrmSeFu0s6AAAAAElFTkSuQmCC\n",
       "\" style=\"display:inline;vertical-align:middle;\" /></a></span>"
      ],
      "text/plain": [
       "{c in RealPos} |- 2^{1 + 2 + c} = (2 * 2^{2} * 2^{c})"
      ]
     },
     "metadata": {},
     "output_type": "display_data"
    }
   ],
   "source": [
    "# a 3-addend exponent\n",
    "expr_04.exponent_separation(assumptions=temp_assumptions)"
   ]
  },
  {
   "cell_type": "markdown",
   "metadata": {},
   "source": [
    "### Testing Exp.factorization()"
   ]
  },
  {
   "cell_type": "code",
   "execution_count": 57,
   "metadata": {},
   "outputs": [
    {
     "data": {
      "text/html": [
       "<strong id=\"factorization_assumptions\">factorization_assumptions:</strong> <a class=\"ProveItLink\" href=\"../__pv_it/demonstrations/577f014ee906f4c628085ada1720112a5e53e3440/expr.ipynb\"><img src=\"data:image/png;base64,iVBORw0KGgoAAAANSUhEUgAAAHoAAAAVBAMAAAB71edYAAAAMFBMVEX///8AAAAAAAAAAAAAAAAA\n",
       "AAAAAAAAAAAAAAAAAAAAAAAAAAAAAAAAAAAAAAAAAAAv3aB7AAAAD3RSTlMAInZUiRDNmWbv3US7\n",
       "qzJazP2FAAAACXBIWXMAAA7EAAAOxAGVKw4bAAACA0lEQVQ4y52UP0jcUBzHv8mRi3c+zwxCERRi\n",
       "QeggkkEP7HSjFJQslQ7KnRShCmIEh06aRblB6GQp1EGUUjwHHaTgIMbKif9AsSod7VQURUF0KA7+\n",
       "XhKveXdnBt8Qfu998sl77/d7LwA0PK9J/CEbpWBien9g2n7Cqujfu5vfAip16rSUe8Opx+qk6YbK\n",
       "9kwRZNJB5e888IpgpqxdA5Y48OKoVWKn4FwSMKHaT9iq5n+32ihjD0dpCxZiAmjK5TIF2/HG1swi\n",
       "6NqMgikkg/KPxv9zV731V/6mGHL7uIeCDxjhuT9q0N0a9AVWfpH0Szn48pcIyU5s9FLQQT6worFb\n",
       "Nz+F0ju1A//8qZQ7M60JkEmfF2f5diYwR/wLVLcq0UDWsl1+GLlFTBcgk9rH3QS04SugXiOe4r2z\n",
       "HDXHs9k7vxhqBtUpAdLK81keXHE75iC9xHvdgbkTVt4L6cNrhgDJ/sv4ylf4ytM6PnkvBus9Wlco\n",
       "95gpQLLVP3wVr/GTbAMnEZ4TWQ/Y3bINhdunlBcBkq04dEwxSVkH0yPfVXf8fcF+gQp7F2lKTpXN\n",
       "LBEyyUKW0V5HcE45P+ysb3bHe3bNxzu2jr0hI/6N6NFHCJDu2L3GNm+ABcRPg4dteScn3JrWMCjN\n",
       "8KMe0lJhkF+w9RCu6GF2nVDH0iaH/pr4vJL+zP+arOEBd0+EW1wcYv8AAAAASUVORK5CYII=\n",
       "\" style=\"display:inline;vertical-align:middle;\" /></a><br>"
      ],
      "text/plain": [
       "<IPython.core.display.HTML object>"
      ]
     },
     "metadata": {},
     "output_type": "display_data"
    }
   ],
   "source": [
    "factorization_assumptions = [InSet(a, Real), InSet(b, Real)]"
   ]
  },
  {
   "cell_type": "code",
   "execution_count": 58,
   "metadata": {},
   "outputs": [
    {
     "data": {
      "text/html": [
       "<strong id=\"exp_a_b\">exp_a_b:</strong> <a class=\"ProveItLink\" href=\"../__pv_it/theorems/30a87e0fd349eb957cda18d62242a4c55ae3e4ad0/expr.ipynb\"><img src=\"data:image/png;base64,iVBORw0KGgoAAAANSUhEUgAAABIAAAATBAMAAABvvEDBAAAAMFBMVEX////MzMwyMjKqqqoiIiJm\n",
       "ZmaYmJju7u5EREQQEBC6urqIiIh2dnZUVFTc3NwAAAAqL9KcAAAAAXRSTlMAQObYZgAAAAlwSFlz\n",
       "AAAOxAAADsQBlSsOGwAAAHRJREFUCNdjYAADoQYGKOA9AGNxCsBY8ruvQ1lbCrZCWW0MSVDWRIZY\n",
       "KOsDw2Qoy50NZqDobiDBd2ffBgh35QOO72AG+zQGVgcwi/UDAwvEUs4GhvoFYFb9BoZ8iIZ6A4ZL\n",
       "zA9ALI4NzK6sEL23D77dCGIAAFBYG2T8KRW8AAAAAElFTkSuQmCC\n",
       "\" style=\"display:inline;vertical-align:middle;\" /></a><br>"
      ],
      "text/plain": [
       "<IPython.core.display.HTML object>"
      ]
     },
     "metadata": {},
     "output_type": "display_data"
    }
   ],
   "source": [
    "exp_a_b = Exp(a, b)"
   ]
  },
  {
   "cell_type": "code",
   "execution_count": 59,
   "metadata": {},
   "outputs": [
    {
     "data": {
      "text/html": [
       "<span style=\"font-size:20px;\"> <a class=\"ProveItLink\" href=\"../__pv_it/demonstrations/45723413862bd081b575a5b179dad768507ffc060/proof.ipynb\" style=\"text-decoration: none\">&nbsp;&#x22A2;&nbsp;&nbsp;</a><a class=\"ProveItLink\" href=\"../__pv_it/demonstrations/8df1427344b8a9f4d07a1d2626b28764206b2d950/expr.ipynb\"><img src=\"data:image/png;base64,iVBORw0KGgoAAAANSUhEUgAAAEEAAAATBAMAAAA9n32KAAAAMFBMVEX///8AAAAAAAAAAAAAAAAA\n",
       "AAAAAAAAAAAAAAAAAAAAAAAAAAAAAAAAAAAAAAAAAAAv3aB7AAAAD3RSTlMAIquJdkTvuxBmmd1U\n",
       "zTKBpmoTAAAACXBIWXMAAA7EAAAOxAGVKw4bAAAA6klEQVQoz2NgAIO3BQzYAN91OJPJAKsKBmU4\n",
       "i+0BdhV5cNZ7Fw2stnxxaoAyvRu8sKlg2cGyAMqsZJiLTQX7BM4LcPsWYVPB9oBLAcr8wJCDTQU/\n",
       "A9sBKHMHJ9YA4W6YDmO+csEeYkscgCSjsqMDNlkhExEoK0yA/QdMdPVuENgEYrImMtRDwoIjk4Fr\n",
       "AxYj2iYwrIawuD4wcGOLlPUMDJuhXi5g6A/AoiKdgeMrhNXvwDCfAdMdHF8YOD9AVRxg0OURwDCC\n",
       "4w8D04WDkKB34NnFhcWWEobTCyCxxqFiJ+SHRUWT80MVcKIBAKzMOXMnVLEkAAAAAElFTkSuQmCC\n",
       "\" style=\"display:inline;vertical-align:middle;\" /></a></span>"
      ],
      "text/plain": [
       "|- a^{b} = a^{b}"
      ]
     },
     "metadata": {},
     "output_type": "display_data"
    }
   ],
   "source": [
    "# when the desired factor supplied is just the expression itself\n",
    "exp_a_b.factorization(Exp(a, b), assumptions = factorization_assumptions)"
   ]
  },
  {
   "cell_type": "code",
   "execution_count": 60,
   "metadata": {},
   "outputs": [
    {
     "data": {
      "text/html": [
       "<span style=\"font-size:20px;\"><a class=\"ProveItLink\" href=\"../../ordering/__pv_it/theorems/4aa8d696b1f407d6126de9f51a052e8d90e0848c0/expr.ipynb\"><img src=\"data:image/png;base64,iVBORw0KGgoAAAANSUhEUgAAADMAAAAQBAMAAABJt1qBAAAAMFBMVEX////MzMwyMjKqqqoiIiJm\n",
       "ZmaYmJju7u5EREQQEBC6urqIiIh2dnZUVFTc3NwAAAAqL9KcAAAAAXRSTlMAQObYZgAAAAlwSFlz\n",
       "AAAOxAAADsQBlSsOGwAAAM1JREFUGNNjYMAASTP6VWYkMGAFDW8Z1mYUYJd6w8DBeAGXFOsDBRSh\n",
       "HS4uCnCpBmSZRdsRunjLQQby3dm3ASTAp45koITRAyBj5QOO7yABpgdwqZcqX0AmsE9jYHUASyE5\n",
       "I60IRLN+YGA5AGJIugBBA0SKowzkZc4GhvoFIIEKJF2MAe1Aun4DQz5YgAXZX4EvQFIGDJeYQS7g\n",
       "3oAkVcENNJFjA7MrK1hEGS71lIEtoQvowtsH324Ei9R2FcBCvo+hQ98AOTjWtLgghxwApbZCEcpv\n",
       "FP8AAAAASUVORK5CYII=\n",
       "\" style=\"display:inline;vertical-align:middle;\" /></a>, <a class=\"ProveItLink\" href=\"../__pv_it/theorems/035e0ae7bd8c0fe127ee5d2062443d6c874adcdd0/expr.ipynb\"><img src=\"data:image/png;base64,iVBORw0KGgoAAAANSUhEUgAAADAAAAAQBAMAAACigOGCAAAAMFBMVEX///+YmJjMzMzc3NyIiIhU\n",
       "VFR2dna6urqqqqpmZmYyMjIiIiIQEBBERETu7u4AAAD7tRWPAAAAAXRSTlMAQObYZgAAAAlwSFlz\n",
       "AAAOxAAADsQBlSsOGwAAAOpJREFUGNNjYEAHHGv+rN19R4CB784GVAmWqwoMC7iADK4JqBKcExhY\n",
       "BDKADP4GVAlWA4a3fBeAjPoHUCNu794FovkYGCaxKgAZ2RBx9iUPYHqYAjRB1FKXCBBlBRdn4H1w\n",
       "D6Tz14P3BkB6McKWNkYHkLP/MfCA6AUICbBjGTgXMPAnAM09vXv37r0QVzSkMzA8YOBOYKgHOhjs\n",
       "QAh4ywxkB4O8MR9kL8L/QUCf8H1g4FfgOwjiusAdO6ES6MsNDKwCvOAw4WqAO3YdA/ONCwx8YRPB\n",
       "fL7YOohEza2zd8+fTUA4kj0XEiRQAABokT0f5e0fIgAAAABJRU5ErkJggg==\n",
       "\" style=\"display:inline;vertical-align:middle;\" /></a>, <a class=\"ProveItLink\" href=\"../../number_sets/integers/__pv_it/theorems/1759e791f6052d2463eefaaf9e2fa309cc3375160/expr.ipynb\"><img src=\"data:image/png;base64,iVBORw0KGgoAAAANSUhEUgAAADEAAAAUCAMAAAATIyWrAAAAPFBMVEX///8NDQ0WFhYLCwsYGBjM\n",
       "zMwyMjKqqqoiIiJmZmaYmJju7u5EREQQEBC6urqIiIh2dnZUVFTc3NwAAADJzR5XAAAAAXRSTlMA\n",
       "QObYZgAAAAlwSFlzAAAOxAAADsQBlSsOGwAAANlJREFUKM+VktkSwyAIRemiiEvc/v9fK2TSmKal\n",
       "Ex5iSLwcLwKgBQW4FibOWSmZ2h9FNFNiESA4XWLqlHgnnKgj5oJR5Ng1Z8uMgE6C7chLqyW3fFLY\n",
       "GRE2hedaafyKO46cxPPBz43TelkVo3JIXrapiF0xFur86sqnCzqkYVUszEhRPiwqYnOOw3lgFfg+\n",
       "jQaf/35b3bz7FeUm/LAbpF/VAh6K2s+++yTVLIsHAx3B4dxIp2Y7npLEcxNqLqbVbFTE2EclV/Pr\n",
       "urFcnPJvCD38ZYS7igCj/XwBODQIqq1WnDUAAAAASUVORK5CYII=\n",
       "\" style=\"display:inline;vertical-align:middle;\" /></a> <a class=\"ProveItLink\" href=\"../__pv_it/demonstrations/6115db0877a8c7cf6e7c841e0b720d859645bf040/proof.ipynb\" style=\"text-decoration: none\">&nbsp;&#x22A2;&nbsp;&nbsp;</a><a class=\"ProveItLink\" href=\"../__pv_it/demonstrations/097e10681e6e67a44adf796721738dfd68ce862a0/expr.ipynb\"><img src=\"data:image/png;base64,iVBORw0KGgoAAAANSUhEUgAAAIIAAAAaBAMAAACJGJngAAAAMFBMVEX///8AAAAAAAAAAAAAAAAA\n",
       "AAAAAAAAAAAAAAAAAAAAAAAAAAAAAAAAAAAAAAAAAAAv3aB7AAAAD3RSTlMAIquJdkTvuxBmmd1U\n",
       "zTKBpmoTAAAACXBIWXMAAA7EAAAOxAGVKw4bAAAByUlEQVQ4y2NgAIO3BQzEAb7rcGbnBWQJJgMs\n",
       "qqdiM0IZbpbLBgaGBXBxtgeYankWYDMhDyEPNEEcznvvooGhtherL744NSCZwOkAk/Bu8MJQXInN\n",
       "BJYdLAuQTGDYgVA9F10tYwI2E9gncF5ANsEJ4btF6Gq5sAUuMMC4FJ6XA4EAxIR+mJ8+MOSgq+UP\n",
       "wGYCPwPbAWQ38E6A8nZwYiSI9w3YTOBumI4cFwxcMH2vXDDUemNPUUtgoc9o+xnIZAGGFqOyowM2\n",
       "tbogQshEBCGCwoEC1h8MDGEC7D/gobcbDBRA7HKQfCJDPdwzKBy4m/4xcGQycG3A5oZLQNw2gWE1\n",
       "XACFA4/zrwxcHxi4scbbLiBez8CwGcTuv4DEQQEcXxnYChj6A3C5IR2kAhQDC5A4qG74x9DvwDCf\n",
       "AVs4AE3g+MLA+QFuGzIHEQ4fGfoPMOjyCGBxgzpQ0x8GpgsHYSYgc5Djgt2BZxcXNl+4AXEJw+kF\n",
       "8DyOwoEBzgQGDhU7IT9sJsQDY67J+aEKvORA4cD9rYC7PGMLIKbUg+cLLAB73kQH/Q14ytQEYkyY\n",
       "hE9ShxgTNuKT7CXCAE4HfLI8RASEOH7pqYRNWMHAAADx9nLzijDSGAAAAABJRU5ErkJggg==\n",
       "\" style=\"display:inline;vertical-align:middle;\" /></a></span>"
      ],
      "text/plain": [
       "{a in Real, b in Integer, a != 0} |- a^{b} = (a * a^{b - 1})"
      ]
     },
     "metadata": {},
     "output_type": "display_data"
    }
   ],
   "source": [
    "# when the desired factor supplied is just the base itself\n",
    "# and the base is known to be a non-zero Real\n",
    "exp_a_b.factorization(\n",
    "        a,\n",
    "        assumptions = [InSet(a, Real), InSet(b, Integer), NotEquals(a, zero)])"
   ]
  },
  {
   "cell_type": "code",
   "execution_count": 61,
   "metadata": {},
   "outputs": [
    {
     "data": {
      "text/html": [
       "<span style=\"font-size:20px;\"><a class=\"ProveItLink\" href=\"../__pv_it/theorems/5a0c211ed8c0f89e15d717d80d4627baae693acb0/expr.ipynb\"><img src=\"data:image/png;base64,iVBORw0KGgoAAAANSUhEUgAAAD8AAAATBAMAAADVH8ihAAAAMFBMVEX////MzMwyMjKqqqoiIiJm\n",
       "ZmaYmJju7u5EREQQEBC6urqIiIh2dnZUVFTc3NwAAAAqL9KcAAAAAXRSTlMAQObYZgAAAAlwSFlz\n",
       "AAAOxAAADsQBlSsOGwAAAN5JREFUKM9jYMADWBkIAA4yFSTN6FeZkYDPhIa3DGszCvApeMPAwXiB\n",
       "IaKjs6MjAYcC1gcKWEzY4eKiAFfQgKlg0XaECbzlF+AK+O7s2wCm1ZGskDB6AFew8gHHdxDN9ACu\n",
       "4KXKl+3wkGSfxsDqAFaA5Mi0IqTw/sDAcgDEkHQBggaIAo4yhPc4GxjqF4AYFUgmMAa0w3n1Gxjy\n",
       "wQwW5HAIfIFQYMBwiRnkPu4NSAoquOF2cGxgdoXEuzJcwVMGtoQuGI/99sG3G8Gs2q4CWGz2MXTo\n",
       "G2DGwZoWSFCjAAAaDkU0dYR17AAAAABJRU5ErkJggg==\n",
       "\" style=\"display:inline;vertical-align:middle;\" /></a>, <a class=\"ProveItLink\" href=\"../__pv_it/theorems/035e0ae7bd8c0fe127ee5d2062443d6c874adcdd0/expr.ipynb\"><img src=\"data:image/png;base64,iVBORw0KGgoAAAANSUhEUgAAADAAAAAQBAMAAACigOGCAAAAMFBMVEX///+YmJjMzMzc3NyIiIhU\n",
       "VFR2dna6urqqqqpmZmYyMjIiIiIQEBBERETu7u4AAAD7tRWPAAAAAXRSTlMAQObYZgAAAAlwSFlz\n",
       "AAAOxAAADsQBlSsOGwAAAOpJREFUGNNjYEAHHGv+rN19R4CB784GVAmWqwoMC7iADK4JqBKcExhY\n",
       "BDKADP4GVAlWA4a3fBeAjPoHUCNu794FovkYGCaxKgAZ2RBx9iUPYHqYAjRB1FKXCBBlBRdn4H1w\n",
       "D6Tz14P3BkB6McKWNkYHkLP/MfCA6AUICbBjGTgXMPAnAM09vXv37r0QVzSkMzA8YOBOYKgHOhjs\n",
       "QAh4ywxkB4O8MR9kL8L/QUCf8H1g4FfgOwjiusAdO6ES6MsNDKwCvOAw4WqAO3YdA/ONCwx8YRPB\n",
       "fL7YOohEza2zd8+fTUA4kj0XEiRQAABokT0f5e0fIgAAAABJRU5ErkJggg==\n",
       "\" style=\"display:inline;vertical-align:middle;\" /></a> <a class=\"ProveItLink\" href=\"../__pv_it/demonstrations/3863d1f574fcb9e4f521f6daf8edc7ba329805090/proof.ipynb\" style=\"text-decoration: none\">&nbsp;&#x22A2;&nbsp;&nbsp;</a><a class=\"ProveItLink\" href=\"../__pv_it/demonstrations/097e10681e6e67a44adf796721738dfd68ce862a0/expr.ipynb\"><img src=\"data:image/png;base64,iVBORw0KGgoAAAANSUhEUgAAAIIAAAAaBAMAAACJGJngAAAAMFBMVEX///8AAAAAAAAAAAAAAAAA\n",
       "AAAAAAAAAAAAAAAAAAAAAAAAAAAAAAAAAAAAAAAAAAAv3aB7AAAAD3RSTlMAIquJdkTvuxBmmd1U\n",
       "zTKBpmoTAAAACXBIWXMAAA7EAAAOxAGVKw4bAAAByUlEQVQ4y2NgAIO3BQzEAb7rcGbnBWQJJgMs\n",
       "qqdiM0IZbpbLBgaGBXBxtgeYankWYDMhDyEPNEEcznvvooGhtherL744NSCZwOkAk/Bu8MJQXInN\n",
       "BJYdLAuQTGDYgVA9F10tYwI2E9gncF5ANsEJ4btF6Gq5sAUuMMC4FJ6XA4EAxIR+mJ8+MOSgq+UP\n",
       "wGYCPwPbAWQ38E6A8nZwYiSI9w3YTOBumI4cFwxcMH2vXDDUemNPUUtgoc9o+xnIZAGGFqOyowM2\n",
       "tbogQshEBCGCwoEC1h8MDGEC7D/gobcbDBRA7HKQfCJDPdwzKBy4m/4xcGQycG3A5oZLQNw2gWE1\n",
       "XACFA4/zrwxcHxi4scbbLiBez8CwGcTuv4DEQQEcXxnYChj6A3C5IR2kAhQDC5A4qG74x9DvwDCf\n",
       "AVs4AE3g+MLA+QFuGzIHEQ4fGfoPMOjyCGBxgzpQ0x8GpgsHYSYgc5Djgt2BZxcXNl+4AXEJw+kF\n",
       "8DyOwoEBzgQGDhU7IT9sJsQDY67J+aEKvORA4cD9rYC7PGMLIKbUg+cLLAB73kQH/Q14ytQEYkyY\n",
       "hE9ShxgTNuKT7CXCAE4HfLI8RASEOH7pqYRNWMHAAADx9nLzijDSGAAAAABJRU5ErkJggg==\n",
       "\" style=\"display:inline;vertical-align:middle;\" /></a></span>"
      ],
      "text/plain": [
       "{a in RealPos, b in Integer} |- a^{b} = (a * a^{b - 1})"
      ]
     },
     "metadata": {},
     "output_type": "display_data"
    }
   ],
   "source": [
    "# when the desired factor supplied is just the base itself\n",
    "# and the base is known to be in RealPos\n",
    "exp_a_b.factorization(\n",
    "        a,\n",
    "        assumptions = [InSet(a, RealPos), InSet(b, Integer)])"
   ]
  },
  {
   "cell_type": "code",
   "execution_count": 62,
   "metadata": {},
   "outputs": [
    {
     "data": {
      "text/html": [
       "<span style=\"font-size:20px;\"><a class=\"ProveItLink\" href=\"../__pv_it/theorems/5a0c211ed8c0f89e15d717d80d4627baae693acb0/expr.ipynb\"><img src=\"data:image/png;base64,iVBORw0KGgoAAAANSUhEUgAAAD8AAAATBAMAAADVH8ihAAAAMFBMVEX////MzMwyMjKqqqoiIiJm\n",
       "ZmaYmJju7u5EREQQEBC6urqIiIh2dnZUVFTc3NwAAAAqL9KcAAAAAXRSTlMAQObYZgAAAAlwSFlz\n",
       "AAAOxAAADsQBlSsOGwAAAN5JREFUKM9jYMADWBkIAA4yFSTN6FeZkYDPhIa3DGszCvApeMPAwXiB\n",
       "IaKjs6MjAYcC1gcKWEzY4eKiAFfQgKlg0XaECbzlF+AK+O7s2wCm1ZGskDB6AFew8gHHdxDN9ACu\n",
       "4KXKl+3wkGSfxsDqAFaA5Mi0IqTw/sDAcgDEkHQBggaIAo4yhPc4GxjqF4AYFUgmMAa0w3n1Gxjy\n",
       "wQwW5HAIfIFQYMBwiRnkPu4NSAoquOF2cGxgdoXEuzJcwVMGtoQuGI/99sG3G8Gs2q4CWGz2MXTo\n",
       "G2DGwZoWSFCjAAAaDkU0dYR17AAAAABJRU5ErkJggg==\n",
       "\" style=\"display:inline;vertical-align:middle;\" /></a> <a class=\"ProveItLink\" href=\"../__pv_it/demonstrations/701cd199080e1d6652f029aae5404548830cd1080/proof.ipynb\" style=\"text-decoration: none\">&nbsp;&#x22A2;&nbsp;&nbsp;</a><a class=\"ProveItLink\" href=\"../__pv_it/demonstrations/80204a31cb19b21b1f225ff7b84a339f1fc80ca00/expr.ipynb\"><img src=\"data:image/png;base64,iVBORw0KGgoAAAANSUhEUgAAAG8AAAAaBAMAAABLBB8hAAAAMFBMVEX///8AAAAAAAAAAAAAAAAA\n",
       "AAAAAAAAAAAAAAAAAAAAAAAAAAAAAAAAAAAAAAAAAAAv3aB7AAAAD3RSTlMAIquJdkTvuxBmmd1U\n",
       "zTKBpmoTAAAACXBIWXMAAA7EAAAOxAGVKw4bAAABcUlEQVQ4y2NggIILDMQBySN6KHyWD5hqOAOw\n",
       "aFRmcGPgQuLHYNF4CpuN7xisGRgL4FwOD0yNHDhcv5OBYQrCpRyYGtknYNXn68DAwN0A4x3EolEM\n",
       "u4UcJUB7FKAcxglYNC7GEa7vHzBw/ICy+YytPh9AV/AVq315DPJAL9yECzD+QFfC9wOrfTsYpgE9\n",
       "uBzOn/QL3UaWDVg1PnZRBJJuILuUHR2wqWC6gC6JxIkH2homwA53FNduMACHGTsolpElkTmgAMpk\n",
       "4MLqKF6gdhRJZI58AAPXBwZuA2wauRcwwCX7Qc5GVtkfwMBWACJx2AiTBBmColL+AUO/A8N8Bmx+\n",
       "BGlEkUTmvBdg6D/AoMsjgC1UgYGDIonMAYYquwPPLi5sTmVJYECVROZMA4aVip2QHzaNrD/QJJE5\n",
       "i/AVEql45G7i07gYtxTHD3wan+GW4lTAp5HpAE4pbgF8Gjlwl5hT8Behh3FJIJVy2H0SgEOCC5ip\n",
       "AJwKYqxujjHyAAAAAElFTkSuQmCC\n",
       "\" style=\"display:inline;vertical-align:middle;\" /></a></span>"
      ],
      "text/plain": [
       "{a in RealPos} |- a^{4} = (a * a^{3})"
      ]
     },
     "metadata": {},
     "output_type": "display_data"
    }
   ],
   "source": [
    "# and a more concrete case, illustrating the simplification\n",
    "# of the resulting exponent(s) in the factors. Yay!\n",
    "Exp(a, four).factorization(\n",
    "        a,\n",
    "        assumptions = [InSet(a, RealPos)])"
   ]
  },
  {
   "cell_type": "code",
   "execution_count": 63,
   "metadata": {},
   "outputs": [
    {
     "data": {
      "text/html": [
       "<span style=\"font-size:20px;\"><a class=\"ProveItLink\" href=\"../__pv_it/demonstrations/cfaa7545133d818137f55a75a04dc88dd9eed9460/expr.ipynb\"><img src=\"data:image/png;base64,iVBORw0KGgoAAAANSUhEUgAAADwAAAATBAMAAAA+KHOiAAAAMFBMVEX///8AAAAAAAAAAAAAAAAA\n",
       "AAAAAAAAAAAAAAAAAAAAAAAAAAAAAAAAAAAAAAAAAAAv3aB7AAAAD3RSTlMAEN0iVJmJRKu7ds0y\n",
       "Zu8qwvqBAAAACXBIWXMAAA7EAAAOxAGVKw4bAAAA5klEQVQoz2NgwA0CGPCCCaRLM+rP3MjA9v45\n",
       "Lt2cDhUMDPJw3YzKqNIcymwXGPgYWGfOfDlzLgMDy0c0aU+GzQxMcN2sChDhlUpKG8DStguskaSZ\n",
       "EsCy1Qthug16uBLg0hXzZywAUswb4YYbcDJMR+j2BwtyGyCkeQKEhOChFg2RRjjNgOEKyzw4Vw1M\n",
       "nlMCgglQaQ6BPngofQdTksi6GRuEYDyWDwwCIPcjSzOc4oTxWDewHABSXAvggQrkcp2EK26QAtNb\n",
       "YALcDnD3gjw89wKYlpguAKZ59r8EktIYMVU2CRKoKAAARP0vCk79Y/oAAAAASUVORK5CYII=\n",
       "\" style=\"display:inline;vertical-align:middle;\" /></a> <a class=\"ProveItLink\" href=\"../__pv_it/demonstrations/b3c48e31f4304863ea115a9f9138b291366d66eb0/proof.ipynb\" style=\"text-decoration: none\">&nbsp;&#x22A2;&nbsp;&nbsp;</a><a class=\"ProveItLink\" href=\"../__pv_it/demonstrations/2b7da6f5bf0c2de932d816132f864bfa41ae1f980/expr.ipynb\"><img src=\"data:image/png;base64,iVBORw0KGgoAAAANSUhEUgAAAH4AAAAaBAMAAACDaPX3AAAAMFBMVEX///8AAAAAAAAAAAAAAAAA\n",
       "AAAAAAAAAAAAAAAAAAAAAAAAAAAAAAAAAAAAAAAAAAAv3aB7AAAAD3RSTlMAIpnNuzKJRKvvEN12\n",
       "ZlQ4bmvwAAAACXBIWXMAAA7EAAAOxAGVKw4bAAAB2UlEQVQ4y41UO0jDQBj+Uom2SV+KdHGR6OQD\n",
       "FEScfICOQnFwEuziooJdnazoJtisTgaKc30sRQcz+lgKInYUBBcXi0hBhHiX5NLEuzb9IT/33f9/\n",
       "+R93/wG2TKIz6Uq7C+XJv618CnxfBHtltlh7JGqQoeQE75ocFPDfvNUH+frdtbQ1neVcSwJ65mrD\n",
       "z0+YrKxX3ndZVP9sID6uSWxtKouUwXlKOtA3tNTcsMFPkH9Ha+huYJePFMlBmsdO3vsfBT065EUi\n",
       "Cy6/bGAfOMGdwtWfyiOaRkxn2AbxwlkgflcVpwaK6bFuroB1A7EfROsM2yBibgb4kXkcAcXsyjOX\n",
       "Pznf6Dmi3158CuRxlmdmbpvouJ3erajTB7ZW/RdL5W5ZD+2n/Mvg6A2Vir1edKow/SWZ//kyTU8t\n",
       "iOLP2Lri36rwh9wgalg4KZduf+gpObfbAQFRCD8hDO/Erzl1O5NQ450kkv87pLSgfspP5tDbnCc/\n",
       "YPXXIecQNwTxD8m3Cjx4GwHQ7P+Apo2K8r8n2V1q2rmXqh8wSei4tawvEX/PgGpZlvcwBIA3JIWW\n",
       "L1Us38lzVm1pIvMXLmWjpUnWO+DX2tiOO+BftLGVwukJs40xGd6A/rbWl1D+CPAHBrpzqvS6LW4A\n",
       "AAAASUVORK5CYII=\n",
       "\" style=\"display:inline;vertical-align:middle;\" /></a></span>"
      ],
      "text/plain": [
       "{t in NaturalPos} |- 2^{t} = (2 * 2^{t - 1})"
      ]
     },
     "metadata": {},
     "output_type": "display_data"
    }
   ],
   "source": [
    "# and a case like we encounter in the QPE package. Yay!\n",
    "from proveit.physics.quantum.QPE import _t\n",
    "Exp(two, _t).factorization(two, assumptions = [InSet(_t, NaturalPos)])"
   ]
  },
  {
   "cell_type": "code",
   "execution_count": 64,
   "metadata": {},
   "outputs": [
    {
     "data": {
      "text/html": [
       "<span style=\"font-size:20px;\"><a class=\"ProveItLink\" href=\"../__pv_it/demonstrations/cfaa7545133d818137f55a75a04dc88dd9eed9460/expr.ipynb\"><img src=\"data:image/png;base64,iVBORw0KGgoAAAANSUhEUgAAADwAAAATBAMAAAA+KHOiAAAAMFBMVEX///8AAAAAAAAAAAAAAAAA\n",
       "AAAAAAAAAAAAAAAAAAAAAAAAAAAAAAAAAAAAAAAAAAAv3aB7AAAAD3RSTlMAEN0iVJmJRKu7ds0y\n",
       "Zu8qwvqBAAAACXBIWXMAAA7EAAAOxAGVKw4bAAAA5klEQVQoz2NgwA0CGPCCCaRLM+rP3MjA9v45\n",
       "Lt2cDhUMDPJw3YzKqNIcymwXGPgYWGfOfDlzLgMDy0c0aU+GzQxMcN2sChDhlUpKG8DStguskaSZ\n",
       "EsCy1Qthug16uBLg0hXzZywAUswb4YYbcDJMR+j2BwtyGyCkeQKEhOChFg2RRjjNgOEKyzw4Vw1M\n",
       "nlMCgglQaQ6BPngofQdTksi6GRuEYDyWDwwCIPcjSzOc4oTxWDewHABSXAvggQrkcp2EK26QAtNb\n",
       "YALcDnD3gjw89wKYlpguAKZ59r8EktIYMVU2CRKoKAAARP0vCk79Y/oAAAAASUVORK5CYII=\n",
       "\" style=\"display:inline;vertical-align:middle;\" /></a> <a class=\"ProveItLink\" href=\"../__pv_it/demonstrations/0bfd69b590798e171f85f83454a9a9d57a6a7c7b0/proof.ipynb\" style=\"text-decoration: none\">&nbsp;&#x22A2;&nbsp;&nbsp;</a><a class=\"ProveItLink\" href=\"../__pv_it/demonstrations/961062f597611d36ae66ccefb0c9499d2a450d580/expr.ipynb\"><img src=\"data:image/png;base64,iVBORw0KGgoAAAANSUhEUgAAAFMAAAAuBAMAAACmIDgsAAAAMFBMVEX///8AAAAAAAAAAAAAAAAA\n",
       "AAAAAAAAAAAAAAAAAAAAAAAAAAAAAAAAAAAAAAAAAAAv3aB7AAAAD3RSTlMAIpnNuzKJRKvvEN12\n",
       "ZlQ4bmvwAAAACXBIWXMAAA7EAAAOxAGVKw4bAAABPUlEQVQ4y2NgAANmAQZiwXqiVTI8JkqVkLIr\n",
       "g9jmVCJUMjow5Bcw2BFjKIcAA+cEhl/EKOX8xcDxkX0CUaZuYOD4ytOwlDjvc39gOpBFnNL4A6y6\n",
       "AcQp3UF08DM5EK30BtEq+RIYBHFKGsIYaw2ARBgDwylcKrk+QBmsZzYAI3aTktIGnDYawFlANdz/\n",
       "//83wJU+ss0CkJTiTEZKJgEMzA8YiFAqwsD2nYF/ATFKGxkYZjJUMjCEuACBAF6l8xcw9Auc4CLG\n",
       "rd0MDP0BOmwLiFAKBPsZgq7CPJn87QBactgNBg2QYP9DdIxzNxCtVAVd4D8MoEvw4jcU2a3PGBiJ\n",
       "LJ1YExh4FhCnVFpJSZtIT+3///8zAwUAnNyIA+DkRhwAJzfiADi5EacUnNyI9tl+olXSKbnhBLzE\n",
       "GzpUkhsA/0Rb9qR8vUQAAAAASUVORK5CYII=\n",
       "\" style=\"display:inline;vertical-align:middle;\" /></a></span>"
      ],
      "text/plain": [
       "{t in NaturalPos} |- (2^{t} / 2) = 2^{t - 1}"
      ]
     },
     "metadata": {},
     "output_type": "display_data"
    }
   ],
   "source": [
    "# now we can do some simple Div.cancelation() involving Exp class\n",
    "Div(Exp(two, _t), two).cancelation(two, assumptions = [InSet(_t, NaturalPos)])"
   ]
  },
  {
   "cell_type": "code",
   "execution_count": 65,
   "metadata": {},
   "outputs": [
    {
     "data": {
      "text/html": [
       "<span style=\"font-size:20px;\"> <a class=\"ProveItLink\" href=\"../__pv_it/demonstrations/2f4bae3b3316f1652da2be85ea58a327a9197bd80/proof.ipynb\" style=\"text-decoration: none\">&nbsp;&#x22A2;&nbsp;&nbsp;</a><a class=\"ProveItLink\" href=\"../__pv_it/demonstrations/00b4e5cb59d531e8c9ea538408f372cdede7e9a90/expr.ipynb\"><img src=\"data:image/png;base64,iVBORw0KGgoAAAANSUhEUgAAAGAAAAAYBAMAAAD3x+WnAAAAMFBMVEX///8AAAAAAAAAAAAAAAAA\n",
       "AAAAAAAAAAAAAAAAAAAAAAAAAAAAAAAAAAAAAAAAAAAv3aB7AAAAD3RSTlMAIpnNuzKJRKvvEN12\n",
       "ZlQ4bmvwAAAACXBIWXMAAA7EAAAOxAGVKw4bAAABM0lEQVQ4y2NgAAGuywykgZjTJGpgeE0NDQKY\n",
       "Qoz4NPA8wBRjPwDUpGQSgFXDM5gcDEQvYGA4y8AgwsD2HZsGLgOYHJTfZA/UwLyAoZGBYSY2DUwX\n",
       "GKByMHAeqIFXgWH+AoZ+ASwaOIEYIoesgWEWQzcDQ3+AmH0OuobHQAyWQ9VgC2LtxxbQahBqP6qT\n",
       "GDKAmPUPXEx7NwjsYIAZhSwH0QBKQ9wN2GzYByaR5cAaXgKxCta4nw4mwXJcnxEa4oEh1YBbA1Ru\n",
       "E0JDJShGGQWw+GEfJLYZ0YL1NQNrAgPPAiw2+IC8jCIH1nCFQVpJSRubk0DhhyqXLwAO7f3//3/G\n",
       "piEaFAnIch3zLYCpZTvOHMIdgE2UcQNODcBkhgWAkiQu4IhNUARPrl1CtCkw5x7Akm0FGAB5T1r8\n",
       "9UO7ggAAAABJRU5ErkJggg==\n",
       "\" style=\"display:inline;vertical-align:middle;\" /></a></span>"
      ],
      "text/plain": [
       "|- 2^{1} = (2 * 1)"
      ]
     },
     "metadata": {},
     "output_type": "display_data"
    }
   ],
   "source": [
    "# and a special case; notice the insistence that it remain\n",
    "# as a factored form, unless we further manually simplify\n",
    "Exp(two, one).factorization(two)"
   ]
  },
  {
   "cell_type": "code",
   "execution_count": 66,
   "metadata": {},
   "outputs": [
    {
     "data": {
      "text/html": [
       "<span style=\"font-size:20px;\"><a class=\"ProveItLink\" href=\"../__pv_it/theorems/5a0c211ed8c0f89e15d717d80d4627baae693acb0/expr.ipynb\"><img src=\"data:image/png;base64,iVBORw0KGgoAAAANSUhEUgAAAD8AAAATBAMAAADVH8ihAAAAMFBMVEX////MzMwyMjKqqqoiIiJm\n",
       "ZmaYmJju7u5EREQQEBC6urqIiIh2dnZUVFTc3NwAAAAqL9KcAAAAAXRSTlMAQObYZgAAAAlwSFlz\n",
       "AAAOxAAADsQBlSsOGwAAAN5JREFUKM9jYMADWBkIAA4yFSTN6FeZkYDPhIa3DGszCvApeMPAwXiB\n",
       "IaKjs6MjAYcC1gcKWEzY4eKiAFfQgKlg0XaECbzlF+AK+O7s2wCm1ZGskDB6AFew8gHHdxDN9ACu\n",
       "4KXKl+3wkGSfxsDqAFaA5Mi0IqTw/sDAcgDEkHQBggaIAo4yhPc4GxjqF4AYFUgmMAa0w3n1Gxjy\n",
       "wQwW5HAIfIFQYMBwiRnkPu4NSAoquOF2cGxgdoXEuzJcwVMGtoQuGI/99sG3G8Gs2q4CWGz2MXTo\n",
       "G2DGwZoWSFCjAAAaDkU0dYR17AAAAABJRU5ErkJggg==\n",
       "\" style=\"display:inline;vertical-align:middle;\" /></a>, <a class=\"ProveItLink\" href=\"../__pv_it/theorems/035e0ae7bd8c0fe127ee5d2062443d6c874adcdd0/expr.ipynb\"><img src=\"data:image/png;base64,iVBORw0KGgoAAAANSUhEUgAAADAAAAAQBAMAAACigOGCAAAAMFBMVEX///+YmJjMzMzc3NyIiIhU\n",
       "VFR2dna6urqqqqpmZmYyMjIiIiIQEBBERETu7u4AAAD7tRWPAAAAAXRSTlMAQObYZgAAAAlwSFlz\n",
       "AAAOxAAADsQBlSsOGwAAAOpJREFUGNNjYEAHHGv+rN19R4CB784GVAmWqwoMC7iADK4JqBKcExhY\n",
       "BDKADP4GVAlWA4a3fBeAjPoHUCNu794FovkYGCaxKgAZ2RBx9iUPYHqYAjRB1FKXCBBlBRdn4H1w\n",
       "D6Tz14P3BkB6McKWNkYHkLP/MfCA6AUICbBjGTgXMPAnAM09vXv37r0QVzSkMzA8YOBOYKgHOhjs\n",
       "QAh4ywxkB4O8MR9kL8L/QUCf8H1g4FfgOwjiusAdO6ES6MsNDKwCvOAw4WqAO3YdA/ONCwx8YRPB\n",
       "fL7YOohEza2zd8+fTUA4kj0XEiRQAABokT0f5e0fIgAAAABJRU5ErkJggg==\n",
       "\" style=\"display:inline;vertical-align:middle;\" /></a>, <a class=\"ProveItLink\" href=\"../../addition/__pv_it/theorems/ab9efd361cdf04a40e51b5b0d3fd587cd7505e5a0/expr.ipynb\"><img src=\"data:image/png;base64,iVBORw0KGgoAAAANSUhEUgAAADAAAAAQBAMAAACigOGCAAAAMFBMVEX///8AAAAAAAAAAAAAAAAA\n",
       "AAAAAAAAAAAAAAAAAAAAAAAAAAAAAAAAAAAAAAAAAAAv3aB7AAAAD3RSTlMAiXZmMiLdVJm77xBE\n",
       "zatgdeJyAAAACXBIWXMAAA7EAAAOxAGVKw4bAAAAzElEQVQY02NgQAfst37dTJtlgCHOwDTPgeEC\n",
       "L6Y4A0cDA5OBOBYJvgCGndwTkI2YlpYLorkZGFr4HBDiPJc2wJgsDzzAtJAySD4WLs7AuWE2iAor\n",
       "4ACZeBWhuZBZAUQlMnCB6AsICYhjOX5DzF2WlpaWCXFFgQwDwwYGLojLkBy4kxXIfsqwXwHCTYBL\n",
       "PAH6hPsDAz8wVA4AuUpwxzacAPoygQHoJEaQc3kL4I69zcA6HWiaoLE22JKXpyESp+aunLl+pQCS\n",
       "1yUhQQIFAA/aLo4ZZrU0AAAAAElFTkSuQmCC\n",
       "\" style=\"display:inline;vertical-align:middle;\" /></a> <a class=\"ProveItLink\" href=\"../__pv_it/demonstrations/ea03f3a21e2dfbdb51ff441982acac658520a73a0/proof.ipynb\" style=\"text-decoration: none\">&nbsp;&#x22A2;&nbsp;&nbsp;</a><a class=\"ProveItLink\" href=\"../__pv_it/theorems/c57333afbc717b0db3e8b31a97713299c7194cfd0/expr.ipynb\"><img src=\"data:image/png;base64,iVBORw0KGgoAAAANSUhEUgAAAIkAAAAaBAMAAABx+GIXAAAAMFBMVEX///8AAAAAAAAAAAAAAAAA\n",
       "AAAAAAAAAAAAAAAAAAAAAAAAAAAAAAAAAAAAAAAAAAAv3aB7AAAAD3RSTlMAIquJdkTvuxBmmd1U\n",
       "zTKBpmoTAAAACXBIWXMAAA7EAAAOxAGVKw4bAAAB30lEQVQ4y2NgAIO3BQzEA77rOCSYDLAITsVl\n",
       "jDIyhwvBZHuAqZZnAS5T8pA5jAhvvHfRwFDbC2OYTEHz0RenBiiT2dOBASHr3eCFYUollOYOeIYq\n",
       "wbKDBebMrXwJDNwNCB1z0Q1hTIAyljP0ocqwT+C8AA2TAo4HDCwKCJ8uQjeFCxbgqegybA+4FJ6X\n",
       "A4EAWwCQy/EDJvGBIQddLX8AlPERQ4aB7QCUJQAib8IkdnBiJJj3MO9eZWBGleFumA5l8QYwGIC8\n",
       "DAWvXDAC1xvGkJrpgRZHSxxgYbdyCtAuNxBL2dEBW6LQxSonZCKCoTIeaFKYADs8eFbvBoFNYHY5\n",
       "A6ocGLAmMtQ3YPj9AQNHJgPXBmxuucSARa5tAsNqDJXyAQxcHxi4sWUihl0MKHIcf0HkegaGzRgq\n",
       "+wMY2ApAJHa3oMjtAhHpDBxfMd3ygKHfgWE+A7ZwAZqCIgd20BcGzg8YprwXYOg/wKDLI4DFLeoM\n",
       "mHIcfxiYLhzEEkfsDjy7uLD5CJgKMOVKGE4vwCgwpgGNV7ET8sNmCtAGTLkm54cqGEXRIjzlIlsA\n",
       "sSXoTTxyXAZEGsLxA18ZnUCkKZwK+GR1iDSFWwCfbC+RpkzBK8tDXMAwEqjKphJlChcwjwMAM0Nx\n",
       "x957dxIAAAAASUVORK5CYII=\n",
       "\" style=\"display:inline;vertical-align:middle;\" /></a></span>"
      ],
      "text/plain": [
       "{a in RealPos, b in Integer, c in Integer} |- a^{b} = (a^{c} * a^{b - c})"
      ]
     },
     "metadata": {},
     "output_type": "display_data"
    }
   ],
   "source": [
    "# more generally, factor out a^c from a^b\n",
    "Exp(a, b).factorization(\n",
    "        Exp(a, c),\n",
    "        assumptions = [InSet(a, RealPos), InSet(b, Integer), InSet(c, Integer)])"
   ]
  },
  {
   "cell_type": "markdown",
   "metadata": {},
   "source": [
    "### Testing Exp.distribution()"
   ]
  },
  {
   "cell_type": "code",
   "execution_count": 67,
   "metadata": {},
   "outputs": [
    {
     "data": {
      "text/html": [
       "<strong id=\"expr_mult_02\">expr_mult_02:</strong> <a class=\"ProveItLink\" href=\"../__pv_it/demonstrations/a6861355d1f8fe2407e08038b87aa9e234a207650/expr.ipynb\"><img src=\"data:image/png;base64,iVBORw0KGgoAAAANSUhEUgAAADoAAAAaBAMAAAAUOVItAAAAMFBMVEX///8AAAAAAAAAAAAAAAAA\n",
       "AAAAAAAAAAAAAAAAAAAAAAAAAAAAAAAAAAAAAAAAAAAv3aB7AAAAD3RSTlMAInZUiRDNmWbv3US7\n",
       "qzJazP2FAAAACXBIWXMAAA7EAAAOxAGVKw4bAAABNUlEQVQoz2NgwA3CK/BIMpzYh0/2Kz5J2ykG\n",
       "eGQ5DoBIAUwJsBB7AZBgwqJ/E4jgaQASJqgSrCcXAHWAJDgfAHkJaPrYQAamAnF8AND0BjRZfpBN\n",
       "7UD8EqQf3c79ASDRAIgKM3RZL7DxDQyH7wHpEiBmvKKoAJfNVbrMwMBygcEJJJQBxDsFeOChxvot\n",
       "IF6AgQPq1sVAgRkM7AtgssxfGTgVGJgnQHizgc7+wMDlAPICSAN7AgO/AwPfB7gs5wGG+A1AJhfI\n",
       "p0B1+w0YuCfATY5XYOhH9m59AAMz1KZDQFkDhmvMsLjgfwB0BjR+GBh8gcGtwLycHaaXt4EHaAG7\n",
       "A4T3CujmS36yenAfXQGlJq4NEB7XA2wxLwVLAQXYZOGp8SAWScYDMFYMFlkeeGpiVMCUVYTSAGiT\n",
       "OwxRyu5UAAAAAElFTkSuQmCC\n",
       "\" style=\"display:inline;vertical-align:middle;\" /></a><br>"
      ],
      "text/plain": [
       "<IPython.core.display.HTML object>"
      ]
     },
     "metadata": {},
     "output_type": "display_data"
    },
    {
     "data": {
      "text/html": [
       "<strong id=\"expr_mult_03\">expr_mult_03:</strong> <a class=\"ProveItLink\" href=\"../__pv_it/demonstrations/cd2553ee70fd7ea3b742ab7c7c654a7fd5807e210/expr.ipynb\"><img src=\"data:image/png;base64,iVBORw0KGgoAAAANSUhEUgAAAFIAAAAaBAMAAADWCRapAAAAMFBMVEX////MzMxUVFRERES6uroi\n",
       "IiIQEBCYmJhmZmYyMjLu7u52dnaqqqqIiIjc3NwAAACW8nlqAAAAAXRSTlMAQObYZgAAAAlwSFlz\n",
       "AAAOxAAADsQBlSsOGwAAAWNJREFUOMtjYCAOrGgnUiGDuSOxKn8Rq/BQ9gEiVbIbgMgH+BWBpTka\n",
       "gAQvAXN9QQRzAZA4jSrBZRaAKsALUsQmAJSZgGYGZwOawCwgXr8A6IICNAl+dNdUALEYyFx0d/kv\n",
       "QBNgWwBRfRJd5VZ0Ac4CBhtFIN0NxHza9y7AJSbd1UGo2ntdgIFbgWEvSHo6ELs9YIbHFtfPBevh\n",
       "Ifz0AIcBAzvUzzFAyXQGDnjQ8PxiYINbEA1i8yRAOClA739gYN0ACgqQZo4JDPwbYGywTYwf4CrZ\n",
       "DBjWOwCZrKCQBOrxPwBls4FjmyUBbvv6Cwz1yMHZDwun9WBn8EBdZgsUOMCgyQPzBb8A0NkwNjBW\n",
       "HKDpiIFhEzD6L/BEcMBkmQqY4dEJ9Di3AAPHBghPFOh33Y2PLsJDSRspx+wuvwV0sgOEwypAKBU/\n",
       "haXmBkIq4XbYEVDIZwBjLSagkhket3wX8Ku8B6UBffZO8F9fXf8AAAAASUVORK5CYII=\n",
       "\" style=\"display:inline;vertical-align:middle;\" /></a><br>"
      ],
      "text/plain": [
       "<IPython.core.display.HTML object>"
      ]
     },
     "metadata": {},
     "output_type": "display_data"
    }
   ],
   "source": [
    "expr_mult_02, expr_mult_03 = (\n",
    "    Exp(Mult(a, b), f),\n",
    "    Exp(Mult(a, b, c), f))"
   ]
  },
  {
   "cell_type": "code",
   "execution_count": 68,
   "metadata": {},
   "outputs": [
    {
     "data": {
      "text/html": [
       "<strong id=\"temp_assumptions\">temp_assumptions:</strong> <a class=\"ProveItLink\" href=\"../__pv_it/demonstrations/764bdddba9e8a886eebd7a07d3d7aa02eb5ae0930/expr.ipynb\"><img src=\"data:image/png;base64,iVBORw0KGgoAAAANSUhEUgAAAhIAAAAZCAMAAABTuzdnAAAAPFBMVEX///8AAAAAAAAAAAAAAAAA\n",
       "AAAAAAAAAAAAAAAAAAAAAAAAAAAAAAAAAAAAAAAAAAAAAAAAAAAAAAAAAAAo1xBWAAAAE3RSTlMA\n",
       "ZkRUmRDNuyLviTJ23avn9enzmrWLfwAAAAlwSFlzAAAOxAAADsQBlSsOGwAABQNJREFUaN7tW+ea\n",
       "5CgMxOS8e+f3f9cl2N3YJhmz983MNT8mVyEVQhLYA4AbCwTDA4M546vxzKX6HuPtMHriO5tkzlfj\n",
       "mUv1PQbfPSYUfELiExKhXOjN86UXQAVjKzUiRQzoRszKGCXuKylWAYd5Ztkzlyp4KJmhVHMle1M2\n",
       "GUz1g7gS0IQfc3Fn33ALALQLI2XdCBOmxYMcSfjb9ZH+XfbEoajAk6gAlrK6FNoKF1kEr6yzJKvD\n",
       "VFJqzLskbeFuT6ht9O/WEsjwSXkoZm4I/+GUZ2hLCWs4kAEkajyz7IljRZOopFWixoU1jJouvSHB\n",
       "VKoe8omU90jaxt2ckKw+1ld4ewlcSNHaVqqL70MCORj1RpinWaLHnjDgSiZRCQRZhUthsP/a9oVE\n",
       "iMJXDQuSSNYhaQfu7oTUbQFVUUoz4wbN6cYqul3Ev/BY7hoZTm+HxJmoz55tb5sJrvW4Z8kLSfrS\n",
       "Hku3NgvLhY6T5OO5jbs9IXam62Ldh1ST/FayhNiKbkfxczyWA6uAlvdC4krUZ8819Q671uOeY7p3\n",
       "qof2kA8CWB3TgjRjuNsTalfJ7R7d3ErNdXJIpaSQXRVDlFd0o1Zri2o8LiQ8kMFGSEitF1Uh6rMn\n",
       "uJZqNe6aS7NWmLQeXLhcl1o8aJw13vRK9yzZV2gpS9qPO0nYBvp0xDbHofDLlKQdyrMFV1CzmmRf\n",
       "XDcEWZ1KZOUVHh8SruQSQ0zlqpAbFDNZkajLnomuxV2li/IGbSWAhXpxMgSbMH799h/3jctXGVdI\n",
       "FyXtx50k7ACqVbn4i5P6Y5PDJL4WerBladxtxaokdIXHhwRYEECsdgI2MuXJEXXZs7lGJ7gWJTxs\n",
       "ugvAVQ2oa4aY2p59r5AsS9qNO0vYBnJ32jBxL+D1xbAFuzDbYKfsyshS7Zqi+LtpWZ4QEr4Ps5WQ\n",
       "wMdOKUfUZ8881+LyNKzaupIOQ2LqwKccK2MC10VJb+ByzWYVSFxIbFlCsO379+1I6aSWHLLKmxvu\n",
       "pTvLE0PCNXKkcqkl2Om6ZtCeia5dO70MFyOFxvRiSLbyxNKODm3iUdJ+nMgZUgXyV+EgIUaWdAOY\n",
       "4uEdK147HwTud3yaYkgApSsHDbKe8p0Zs2ema+8zW4ULJnEFa4aE0v7PvzHJvM85wYDlsL+Pknbj\n",
       "zhJ2AJVrWCyLYD+pO32gVwhpXdLN7Qydya+7Lb7WxrJZ5tnKsVaswrMcVc0Q9dgzwbVD4jhV5gwX\n",
       "1vspLyR8AoqG+D17zkqLuCDPkvbjlktgVoHxxKFjNWfOM+T6Cny857zq5v/AFVwGMweNLQU4O1id\n",
       "5/UjTEGRJzbKUlWIuux57NqLae+/8r6kd1cUc0BQ6NPe6IwhuRcT/CGBCJUiz5L24i4S1oFbfGz3\n",
       "YsRqqbjVCZpYBg8RFR8X+psvxuj1SsTEx2gOJ3Ea0BceRde9yOU6/J0HSHcESK+BzkTd9jx17WXR\n",
       "pbvMcYHwJFSsZnuU9EJnDAGZGxKCpbbqhDxK2ou7SNgAuiDy+U2Un3FAyY63vo1enPxlnptEqNIp\n",
       "DjNhe5urYgeSYx6M4lrA8Izj1pPQRi/+Q3neTMjm6sQDOygZQ47iWsD4JFSJSboR/TN5EibDBl5B\n",
       "q9ixyDHkKK4FBEvMgRbNEW7WCnw1noRp6X5Hpc8OQ8aQo7gWEGyvWzx79/IzHgz1H+NawP3dy2bL\n",
       "8Rn/k5Fc0z35P47P+DkjvqP7B7LCPzMbYYnZAAAAAElFTkSuQmCC\n",
       "\" style=\"display:inline;vertical-align:middle;\" /></a><br>"
      ],
      "text/plain": [
       "<IPython.core.display.HTML object>"
      ]
     },
     "metadata": {},
     "output_type": "display_data"
    }
   ],
   "source": [
    "# some general assumptions\n",
    "temp_assumptions = [InSet(a, RealPos), InSet(b, NaturalPos), InSet(c, RealPos),\n",
    "                    InSet(d, RealPos), InSet(f, Complex),\n",
    "                    NotEquals(a, zero), NotEquals(b, zero), NotEquals(c, zero)]"
   ]
  },
  {
   "cell_type": "code",
   "execution_count": 69,
   "metadata": {},
   "outputs": [
    {
     "data": {
      "text/html": [
       "<span style=\"font-size:20px;\"><a class=\"ProveItLink\" href=\"../__pv_it/theorems/5a0c211ed8c0f89e15d717d80d4627baae693acb0/expr.ipynb\"><img src=\"data:image/png;base64,iVBORw0KGgoAAAANSUhEUgAAAD8AAAATBAMAAADVH8ihAAAAMFBMVEX////MzMwyMjKqqqoiIiJm\n",
       "ZmaYmJju7u5EREQQEBC6urqIiIh2dnZUVFTc3NwAAAAqL9KcAAAAAXRSTlMAQObYZgAAAAlwSFlz\n",
       "AAAOxAAADsQBlSsOGwAAAN5JREFUKM9jYMADWBkIAA4yFSTN6FeZkYDPhIa3DGszCvApeMPAwXiB\n",
       "IaKjs6MjAYcC1gcKWEzY4eKiAFfQgKlg0XaECbzlF+AK+O7s2wCm1ZGskDB6AFew8gHHdxDN9ACu\n",
       "4KXKl+3wkGSfxsDqAFaA5Mi0IqTw/sDAcgDEkHQBggaIAo4yhPc4GxjqF4AYFUgmMAa0w3n1Gxjy\n",
       "wQwW5HAIfIFQYMBwiRnkPu4NSAoquOF2cGxgdoXEuzJcwVMGtoQuGI/99sG3G8Gs2q4CWGz2MXTo\n",
       "G2DGwZoWSFCjAAAaDkU0dYR17AAAAABJRU5ErkJggg==\n",
       "\" style=\"display:inline;vertical-align:middle;\" /></a>, <a class=\"ProveItLink\" href=\"../__pv_it/demonstrations/338bea1169aca2a51c9e3cdb908726f9096b30730/expr.ipynb\"><img src=\"data:image/png;base64,iVBORw0KGgoAAAANSUhEUgAAAD0AAAATBAMAAADR6hicAAAAMFBMVEX///+YmJjMzMzc3NyIiIhU\n",
       "VFR2dna6urqqqqpmZmYyMjIiIiIQEBBERETu7u4AAAD7tRWPAAAAAXRSTlMAQObYZgAAAAlwSFlz\n",
       "AAAOxAAADsQBlSsOGwAAAPpJREFUKM9jYMANOBnwA16y5F//vfWAIedPAVSe784GNAU32AMY+D7A\n",
       "9XNNQJOPNkhkYDjAMPfunbt3BRgY+BvQ5CMucBkwbIDrr38AFffdvXsBiA4WYV6AJJ8Nla7ygzKC\n",
       "WRXckOSXukSAKOZ1MPODGS7wFsDl+X49eG8AcqYBQl6Tb98GWPhx/GPgcQDJMyDkGRt6D8ADeQED\n",
       "fwKQ1tkNBBcg8gxxrHB57gSGepAP3yLpZ3jKBw80oPfng3zIjSzP5HABLq/AdxBEszjARC4BsRNc\n",
       "nlWAFxLAK2AiKyCuggK+sIkQxtPrkIDU+gPUy7cAM2LLbu/GFAUAVfdEy4QZ+SEAAAAASUVORK5C\n",
       "YII=\n",
       "\" style=\"display:inline;vertical-align:middle;\" /></a>, <a class=\"ProveItLink\" href=\"../__pv_it/demonstrations/5877c4f18966fce44fcf8f5d9907fbb188f1751d0/expr.ipynb\"><img src=\"data:image/png;base64,iVBORw0KGgoAAAANSUhEUgAAADQAAAATBAMAAAAt/zNWAAAAMFBMVEX///8yMjLc3NyIiIiYmJgi\n",
       "IiJERES6urqqqqoQEBDMzMxUVFTu7u52dnZmZmYAAAD1zdHuAAAAAXRSTlMAQObYZgAAAAlwSFlz\n",
       "AAAOxAAADsQBlSsOGwAAAN1JREFUKM9jYMACeK4FCmtdALH47h5AlbKewnDu2wMQ6/bKBhQZPnOg\n",
       "Djew1IwyVF3r2IB8bpAU+x+okFloqACI3sMGss8BSPAGQGQKbaBKEvSgDJad0WBjmWSgAkwb1sKM\n",
       "5jcAU4wKUD7XhRKYlP4CiBSMz/SgGMbsh1ArQ4EgAWyXLkzqKoQ6Bnd8DhuMlQ2hWOFSdSB/MRQA\n",
       "8WSIALMBIjQ2AAmgF5m+Q0Uk4NrM5BROxAFpjg9QgdPpB+AhPz8O5BW+DTDFtamQgIKBbsYGBhwg\n",
       "7CAuGQbnR7hkAD03MhC0AoiUAAAAAElFTkSuQmCC\n",
       "\" style=\"display:inline;vertical-align:middle;\" /></a> <a class=\"ProveItLink\" href=\"../__pv_it/demonstrations/34def9a57431959a53a555f3eb27adf442ac7ec30/proof.ipynb\" style=\"text-decoration: none\">&nbsp;&#x22A2;&nbsp;&nbsp;</a><a class=\"ProveItLink\" href=\"../__pv_it/demonstrations/8e2ea206705b3ad9857c13a504f59d656957e9870/expr.ipynb\"><img src=\"data:image/png;base64,iVBORw0KGgoAAAANSUhEUgAAAKEAAAAcBAMAAAD7K8IuAAAAMFBMVEX///8AAAAAAAAAAAAAAAAA\n",
       "AAAAAAAAAAAAAAAAAAAAAAAAAAAAAAAAAAAAAAAAAAAv3aB7AAAAD3RSTlMAInZUiRDNmWbv3US7\n",
       "qzJazP2FAAAACXBIWXMAAA7EAAAOxAGVKw4bAAACbUlEQVRIx61VMWgUURCdu81m9/b2coudQsgm\n",
       "2NjICUEhEDhiJyjbiaDcNUIaIUUgIsotaYJEMIJFICIHCgGrw87GnLHRyiMGwUbWMjY5lLOxcf7/\n",
       "t3/3/p/dI5CBheEP7+28mfnzAbLt5n04Zfv0/rQZB3lBcy08saTF5zX90O4MHXcz0iVZ+Yx2lzi8\n",
       "EjvVgJBUEBBPx/Eja4XQ2hw6xverlKR15hUJbW+5rlAPJGdPSEkOy3xeyeJzG//CgKVIZzwrvTUF\n",
       "IiQVeykdsU2yyF38GoHOuJr0QYXw9E0spqVqq7IqbOB3RDTmn/ReqhAhaRkdFbTHUisFglWxKTmi\n",
       "5kCFCEkPAS6rqGtcRwgff+iMxbbk3lIhQtIFUZnC4awvw/fmvgJM9GDJ1xkrrOjTS2ews+nR4pCN\n",
       "OF0UDu88N5HzN2h4YCf9st5w6/HhwQkpP4MvgbuYGgQOGUo6juAVnmyDJeUYAyj5YGyR12gSeW+F\n",
       "8AAm5lKnHDKUNNOBHcyiD06d/4ul1IRqHab6JKODWlsAr1PpSYiwBmcsdZmDtstAddirQTk7xxdg\n",
       "JjOUggib4aobPjxNz1YrAKNN1hEZzd9g97UJbsW34diDfWSswTcj3hfVCMtK7x3sdRfMP9jxS6OM\n",
       "HCJH8zp20Dd25WarhC4Wy6qTjEUsxj4srIxuJQER9hjgF5b34Mb0RVnrQ7aKnQ7JWMYhu3P+58Ho\n",
       "DhEQYY8QG1HQcxlbeGfc4l9Whl9a1pOxOoaQX/cPRKDQzUAcjWG02UjcJgKul4Go1PIZHQYsEBth\n",
       "NlNVM59x/eRv+HxuNLNaeYXq5EUtvDr/ASCgmUcEUO39AAAAAElFTkSuQmCC\n",
       "\" style=\"display:inline;vertical-align:middle;\" /></a></span>"
      ],
      "text/plain": [
       "{a in RealPos, b in NaturalPos, f in Complex} |- (a * b)^{f} = (a^{f} * b^{f})"
      ]
     },
     "metadata": {},
     "output_type": "display_data"
    }
   ],
   "source": [
    "expr_mult_02.distribution(assumptions=temp_assumptions)"
   ]
  },
  {
   "cell_type": "code",
   "execution_count": 70,
   "metadata": {},
   "outputs": [
    {
     "data": {
      "text/html": [
       "<span style=\"font-size:20px;\"><a class=\"ProveItLink\" href=\"../__pv_it/theorems/5a0c211ed8c0f89e15d717d80d4627baae693acb0/expr.ipynb\"><img src=\"data:image/png;base64,iVBORw0KGgoAAAANSUhEUgAAAD8AAAATBAMAAADVH8ihAAAAMFBMVEX////MzMwyMjKqqqoiIiJm\n",
       "ZmaYmJju7u5EREQQEBC6urqIiIh2dnZUVFTc3NwAAAAqL9KcAAAAAXRSTlMAQObYZgAAAAlwSFlz\n",
       "AAAOxAAADsQBlSsOGwAAAN5JREFUKM9jYMADWBkIAA4yFSTN6FeZkYDPhIa3DGszCvApeMPAwXiB\n",
       "IaKjs6MjAYcC1gcKWEzY4eKiAFfQgKlg0XaECbzlF+AK+O7s2wCm1ZGskDB6AFew8gHHdxDN9ACu\n",
       "4KXKl+3wkGSfxsDqAFaA5Mi0IqTw/sDAcgDEkHQBggaIAo4yhPc4GxjqF4AYFUgmMAa0w3n1Gxjy\n",
       "wQwW5HAIfIFQYMBwiRnkPu4NSAoquOF2cGxgdoXEuzJcwVMGtoQuGI/99sG3G8Gs2q4CWGz2MXTo\n",
       "G2DGwZoWSFCjAAAaDkU0dYR17AAAAABJRU5ErkJggg==\n",
       "\" style=\"display:inline;vertical-align:middle;\" /></a>, <a class=\"ProveItLink\" href=\"../__pv_it/demonstrations/338bea1169aca2a51c9e3cdb908726f9096b30730/expr.ipynb\"><img src=\"data:image/png;base64,iVBORw0KGgoAAAANSUhEUgAAAD0AAAATBAMAAADR6hicAAAAMFBMVEX///+YmJjMzMzc3NyIiIhU\n",
       "VFR2dna6urqqqqpmZmYyMjIiIiIQEBBERETu7u4AAAD7tRWPAAAAAXRSTlMAQObYZgAAAAlwSFlz\n",
       "AAAOxAAADsQBlSsOGwAAAPpJREFUKM9jYMANOBnwA16y5F//vfWAIedPAVSe784GNAU32AMY+D7A\n",
       "9XNNQJOPNkhkYDjAMPfunbt3BRgY+BvQ5CMucBkwbIDrr38AFffdvXsBiA4WYV6AJJ8Nla7ygzKC\n",
       "WRXckOSXukSAKOZ1MPODGS7wFsDl+X49eG8AcqYBQl6Tb98GWPhx/GPgcQDJMyDkGRt6D8ADeQED\n",
       "fwKQ1tkNBBcg8gxxrHB57gSGepAP3yLpZ3jKBw80oPfng3zIjSzP5HABLq/AdxBEszjARC4BsRNc\n",
       "nlWAFxLAK2AiKyCuggK+sIkQxtPrkIDU+gPUy7cAM2LLbu/GFAUAVfdEy4QZ+SEAAAAASUVORK5C\n",
       "YII=\n",
       "\" style=\"display:inline;vertical-align:middle;\" /></a>, <a class=\"ProveItLink\" href=\"../__pv_it/theorems/8c5864665d603ebc7e84fdb786d604e60f56fcc70/expr.ipynb\"><img src=\"data:image/png;base64,iVBORw0KGgoAAAANSUhEUgAAAD0AAAATBAMAAADR6hicAAAAMFBMVEX///9UVFQyMjK6urru7u4Q\n",
       "EBBERERmZmaqqqoiIiLc3NzMzMyYmJiIiIh2dnYAAABC1PP/AAAAAXRSTlMAQObYZgAAAAlwSFlz\n",
       "AAAOxAAADsQBlSsOGwAAAM9JREFUKM9jYMAN2BnwAzay5A+F5WuGHcCjP2Ehg+ExBzzy6xjYuAUY\n",
       "ytJS09IOYJdnX6CAqf/azJkKcPkEDHmjKwj9jC4CCPm3dzYASS4VJPO3NS2Ay69sYAcZxrQALr9U\n",
       "8+cVRPjNY2C9AJJHct8ZJ6RA/gKht84EggSIPJsPwl+sCRDaDUk/d0EKnOd/AUJzIvu/ehmcxw80\n",
       "ygBI815AknfjhVsAdDwfyH8MGnD55Qw8B5LhBrw7AwkYx2QHWPxlMaTpN2CEu10mJHxRAABI1jva\n",
       "YsbopQAAAABJRU5ErkJggg==\n",
       "\" style=\"display:inline;vertical-align:middle;\" /></a>, <a class=\"ProveItLink\" href=\"../__pv_it/demonstrations/5877c4f18966fce44fcf8f5d9907fbb188f1751d0/expr.ipynb\"><img src=\"data:image/png;base64,iVBORw0KGgoAAAANSUhEUgAAADQAAAATBAMAAAAt/zNWAAAAMFBMVEX///8yMjLc3NyIiIiYmJgi\n",
       "IiJERES6urqqqqoQEBDMzMxUVFTu7u52dnZmZmYAAAD1zdHuAAAAAXRSTlMAQObYZgAAAAlwSFlz\n",
       "AAAOxAAADsQBlSsOGwAAAN1JREFUKM9jYMACeK4FCmtdALH47h5AlbKewnDu2wMQ6/bKBhQZPnOg\n",
       "Djew1IwyVF3r2IB8bpAU+x+okFloqACI3sMGss8BSPAGQGQKbaBKEvSgDJad0WBjmWSgAkwb1sKM\n",
       "5jcAU4wKUD7XhRKYlP4CiBSMz/SgGMbsh1ArQ4EgAWyXLkzqKoQ6Bnd8DhuMlQ2hWOFSdSB/MRQA\n",
       "8WSIALMBIjQ2AAmgF5m+Q0Uk4NrM5BROxAFpjg9QgdPpB+AhPz8O5BW+DTDFtamQgIKBbsYGBhwg\n",
       "7CAuGQbnR7hkAD03MhC0AoiUAAAAAElFTkSuQmCC\n",
       "\" style=\"display:inline;vertical-align:middle;\" /></a> <a class=\"ProveItLink\" href=\"../__pv_it/demonstrations/c60b0ae4a2528387afe9dca2f6fef0f378736bbc0/proof.ipynb\" style=\"text-decoration: none\">&nbsp;&#x22A2;&nbsp;&nbsp;</a><a class=\"ProveItLink\" href=\"../__pv_it/demonstrations/aaf96109772bc41845ac4152275d0d29821ce0eb0/expr.ipynb\"><img src=\"data:image/png;base64,iVBORw0KGgoAAAANSUhEUgAAANsAAAAcBAMAAAAaQNd/AAAAMFBMVEX////MzMxUVFRERES6uroi\n",
       "IiIQEBCYmJhmZmYyMjLu7u52dnaqqqqIiIjc3NwAAACW8nlqAAAAAXRSTlMAQObYZgAAAAlwSFlz\n",
       "AAAOxAAADsQBlSsOGwAAAt5JREFUSMe9Vk1oE0EUfu02m+1mk+xFj6YiCKUtBAS9+BMv3qRFEAr1\n",
       "EFHwIMiCQXspBqVY8JDQS8FTUBB72ip40kAoeBBB1oMKSkso9CjNwYtBwTezu7OzM/uTReiDCS9v\n",
       "5r1v53tv3gzAaPLyMRymnLl4qHDDpEl9zUojIxs727d7srHhK0rDTCMDDdrocPmqbDOavlbupJKB\n",
       "hpIbo5+MRKe1pjyxyXBPvksjgxpWiFbsJcNdpnRZEdXDtLupZFBDjpDwUUj76YWwoUiQVFNCK9WZ\n",
       "uia6S2RQQ3EK59vCzKS49CkOW8oOaFsR+/TcJTKoQccEauJMWSR3GcdRmctyjanXRXeJDNewgYoY\n",
       "Zl7ciNpxIQWpsHX6UHSXyHANjwA+iGHeiIZJC84el+G+MG2sLrpLZLiGrwBPSNZndh02s74zGyzr\n",
       "fjOhMAVdR4abJj973Z9Ydny2qXuIDBJj2d858gmX+grjQ//dsdlJ3O9pVcgHxbR6lcgVqp/CMXEH\n",
       "LnSUbS5T1D1EBonhGSomXMMlt0Bj1W8MQWV7WSK6UY88j+s4XliwCoUdvtUQ9xAZS4HhoAY3sTgH\n",
       "kNuiX0bquw1l/GOTLWl0z2ODSLhFHC0SjZVDO3D3dspieCsonFolihcBgeexlnMkHyptDhPxu7sB\n",
       "+i9moC6ee/BFKtdgDiiZtgMP+HPT8svYphwYC5G5Qzj9L+QH0qlthU6BzRFb6cM5tPRg2vDLo2xi\n",
       "Kn0dW0At8jZAOYFwf2C8/SkMx7lzMdiZfI0dxjEW2WU0bimsrrEsCybfrXjBQ4Tf+r4Z7nm8OxfD\n",
       "lXsAR/Aj517tfWaVPMPdu2/vf8d01CLhSPt49uPYXLhfhdyDGK48xGBm2tW6H21Wa5lfIBtCS4iU\n",
       "mFdGDMdJTxpyJs6nLCpFV0q4U472AsH7Dp6nLFLiHhezWeFyJFLJSV60GzexmRVu5b+enkbG5MVl\n",
       "ZVRpZFuu4cn5B6pSuqwIkCUXAAAAAElFTkSuQmCC\n",
       "\" style=\"display:inline;vertical-align:middle;\" /></a></span>"
      ],
      "text/plain": [
       "{a in RealPos, b in NaturalPos, c in RealPos, f in Complex} |- (a * b * c)^{f} = (a^{f} * b^{f} * c^{f})"
      ]
     },
     "metadata": {},
     "output_type": "display_data"
    }
   ],
   "source": [
    "expr_mult_03.distribution(assumptions=temp_assumptions)"
   ]
  },
  {
   "cell_type": "code",
   "execution_count": 71,
   "metadata": {},
   "outputs": [
    {
     "data": {
      "text/html": [
       "<strong id=\"expr_div_02\">expr_div_02:</strong> <a class=\"ProveItLink\" href=\"../__pv_it/demonstrations/cc52a52e69dc949c8068689be4e1a4fc4b284a3e0/expr.ipynb\"><img src=\"data:image/png;base64,iVBORw0KGgoAAAANSUhEUgAAAC8AAAArBAMAAAAamMyJAAAAMFBMVEX///8AAAAAAAAAAAAAAAAA\n",
       "AAAAAAAAAAAAAAAAAAAAAAAAAAAAAAAAAAAAAAAAAAAv3aB7AAAAD3RSTlMAmVSrZs0y7xCJ3bsi\n",
       "RHYwvcNTAAAACXBIWXMAAA7EAAAOxAGVKw4bAAABp0lEQVQ4y2NgwAY4BB2wijNw+yZgl+BvwC7O\n",
       "ZD4JuwSDN4RiVIDZGQFlCEIoYSDmsXzzgIEhC2r2FjDJEgAkrh/g/gFkGkAkysBkOlAZRwkD4wIg\n",
       "exPEyB9gKhJkzQcGrglAuh1sFlsB2G0gafYNDP0XQArAZrEIgEiwyv4HDP4gDs8fkL+Vwf7OB+nu\n",
       "V2AwZToAZOwEYs53YCuswYHzgGkhI4jhjvDlF7A77KYdfgZinId5loHtD0pgcAnAWCwfUCQYA2As\n",
       "5gAUCT64OnYD1BD/Bo+TCSgSbJ/gEqixy/EFxkK4DwL+wRj5aBI/YYz7oLBj+A8CYAd9xKUDpwTc\n",
       "jvNoaQ7uKmBMIAMeuD/YBVA9+BfGYt0AprqroEHyAx6cBRA6EEJxLoAHO1QJ1GxueJhyQER4f2AE\n",
       "3UYUI+4fgEtAop/V7jHYp1MRDgQnNIb+CA5w5BchJDjBcavfwFAHitkCJD+Bk7YoJMDZkUPOFUSs\n",
       "ZOAFOe8pciiwOoC9wQh0ME8NSjSvARLfGNqB8l2ocXAUmKxNwP7ZghoFPMBU3zwRqIHjAkIQAMFp\n",
       "Y0yvQp/zAAAAAElFTkSuQmCC\n",
       "\" style=\"display:inline;vertical-align:middle;\" /></a><br>"
      ],
      "text/plain": [
       "<IPython.core.display.HTML object>"
      ]
     },
     "metadata": {},
     "output_type": "display_data"
    }
   ],
   "source": [
    "expr_div_02 = Exp(Div(a, b), f)"
   ]
  },
  {
   "cell_type": "code",
   "execution_count": 72,
   "metadata": {},
   "outputs": [
    {
     "data": {
      "text/html": [
       "<span style=\"font-size:20px;\"><a class=\"ProveItLink\" href=\"../__pv_it/theorems/5a0c211ed8c0f89e15d717d80d4627baae693acb0/expr.ipynb\"><img src=\"data:image/png;base64,iVBORw0KGgoAAAANSUhEUgAAAD8AAAATBAMAAADVH8ihAAAAMFBMVEX////MzMwyMjKqqqoiIiJm\n",
       "ZmaYmJju7u5EREQQEBC6urqIiIh2dnZUVFTc3NwAAAAqL9KcAAAAAXRSTlMAQObYZgAAAAlwSFlz\n",
       "AAAOxAAADsQBlSsOGwAAAN5JREFUKM9jYMADWBkIAA4yFSTN6FeZkYDPhIa3DGszCvApeMPAwXiB\n",
       "IaKjs6MjAYcC1gcKWEzY4eKiAFfQgKlg0XaECbzlF+AK+O7s2wCm1ZGskDB6AFew8gHHdxDN9ACu\n",
       "4KXKl+3wkGSfxsDqAFaA5Mi0IqTw/sDAcgDEkHQBggaIAo4yhPc4GxjqF4AYFUgmMAa0w3n1Gxjy\n",
       "wQwW5HAIfIFQYMBwiRnkPu4NSAoquOF2cGxgdoXEuzJcwVMGtoQuGI/99sG3G8Gs2q4CWGz2MXTo\n",
       "G2DGwZoWSFCjAAAaDkU0dYR17AAAAABJRU5ErkJggg==\n",
       "\" style=\"display:inline;vertical-align:middle;\" /></a>, <a class=\"ProveItLink\" href=\"../__pv_it/demonstrations/338bea1169aca2a51c9e3cdb908726f9096b30730/expr.ipynb\"><img src=\"data:image/png;base64,iVBORw0KGgoAAAANSUhEUgAAAD0AAAATBAMAAADR6hicAAAAMFBMVEX///+YmJjMzMzc3NyIiIhU\n",
       "VFR2dna6urqqqqpmZmYyMjIiIiIQEBBERETu7u4AAAD7tRWPAAAAAXRSTlMAQObYZgAAAAlwSFlz\n",
       "AAAOxAAADsQBlSsOGwAAAPpJREFUKM9jYMANOBnwA16y5F//vfWAIedPAVSe784GNAU32AMY+D7A\n",
       "9XNNQJOPNkhkYDjAMPfunbt3BRgY+BvQ5CMucBkwbIDrr38AFffdvXsBiA4WYV6AJJ8Nla7ygzKC\n",
       "WRXckOSXukSAKOZ1MPODGS7wFsDl+X49eG8AcqYBQl6Tb98GWPhx/GPgcQDJMyDkGRt6D8ADeQED\n",
       "fwKQ1tkNBBcg8gxxrHB57gSGepAP3yLpZ3jKBw80oPfng3zIjSzP5HABLq/AdxBEszjARC4BsRNc\n",
       "nlWAFxLAK2AiKyCuggK+sIkQxtPrkIDU+gPUy7cAM2LLbu/GFAUAVfdEy4QZ+SEAAAAASUVORK5C\n",
       "YII=\n",
       "\" style=\"display:inline;vertical-align:middle;\" /></a>, <a class=\"ProveItLink\" href=\"../__pv_it/demonstrations/5877c4f18966fce44fcf8f5d9907fbb188f1751d0/expr.ipynb\"><img src=\"data:image/png;base64,iVBORw0KGgoAAAANSUhEUgAAADQAAAATBAMAAAAt/zNWAAAAMFBMVEX///8yMjLc3NyIiIiYmJgi\n",
       "IiJERES6urqqqqoQEBDMzMxUVFTu7u52dnZmZmYAAAD1zdHuAAAAAXRSTlMAQObYZgAAAAlwSFlz\n",
       "AAAOxAAADsQBlSsOGwAAAN1JREFUKM9jYMACeK4FCmtdALH47h5AlbKewnDu2wMQ6/bKBhQZPnOg\n",
       "Djew1IwyVF3r2IB8bpAU+x+okFloqACI3sMGss8BSPAGQGQKbaBKEvSgDJad0WBjmWSgAkwb1sKM\n",
       "5jcAU4wKUD7XhRKYlP4CiBSMz/SgGMbsh1ArQ4EgAWyXLkzqKoQ6Bnd8DhuMlQ2hWOFSdSB/MRQA\n",
       "8WSIALMBIjQ2AAmgF5m+Q0Uk4NrM5BROxAFpjg9QgdPpB+AhPz8O5BW+DTDFtamQgIKBbsYGBhwg\n",
       "7CAuGQbnR7hkAD03MhC0AoiUAAAAAElFTkSuQmCC\n",
       "\" style=\"display:inline;vertical-align:middle;\" /></a> <a class=\"ProveItLink\" href=\"../__pv_it/demonstrations/c69dceafe189f05777d70c04fe20698132c31dec0/proof.ipynb\" style=\"text-decoration: none\">&nbsp;&#x22A2;&nbsp;&nbsp;</a><a class=\"ProveItLink\" href=\"../__pv_it/demonstrations/800852c360c67e0fc56a1ef19e052f6b94be6e160/expr.ipynb\"><img src=\"data:image/png;base64,iVBORw0KGgoAAAANSUhEUgAAAGQAAAAuBAMAAAAsD6FtAAAAMFBMVEX///8AAAAAAAAAAAAAAAAA\n",
       "AAAAAAAAAAAAAAAAAAAAAAAAAAAAAAAAAAAAAAAAAAAv3aB7AAAAD3RSTlMAmVSrZs0y7xCJ3bsi\n",
       "RHYwvcNTAAAACXBIWXMAAA7EAAAOxAGVKw4bAAACSElEQVRIx5VVvUsjQRSfjZtk4nfw7AX/gEuh\n",
       "HseBxOKwEFE77ewEG+UQQRFRrhC0WBW0FC3vuCKKjV1ArE11li6IVx2SCyIe+DXvvdldJ7svmzzI\n",
       "Zibv99v3NfOLEI3Z+gfRqJ3+bpjyyDlkNh/t6F3qYSgto9PRDrvARelYYxxWJ+NIfNrlwuuELS8/\n",
       "OakXI1z4tE64S31aP/91hZjVCWXDYAI4BLDH1eOq2KL6Z+d098MUAszQZkYx5YKwDtX6hH5aDLed\n",
       "AEO0m4JyyqJ5W31vYGAZHhgBTgaoPeBPF4RTAg9mlpoP142AAxc3+HbHFWNY5BNWF+6+B0Cbg1yc\n",
       "HtGfKKrFGTS/Nzx7HwD2BUfkJo4sWAyrT+YuYoYeAOweCx7cP/8Di0vm2PkAKPXJcDV3xl8Au2w2\n",
       "czye0mRi2svxlHTOPMQP8ZSObWObqtRBMa+svI+nVHf15V0rfqLlqilzVZT/8VGuS+b+XzyForyC\n",
       "lWtQXgMLJVZHLZdVIldHxxzXVIU65pI2z2HquSYalTdpSmbisSYFldeie761TL9lDhkwAVB5bf3a\n",
       "Cf2aHBdgwldeqeutRB65d1YJlPcYn2062HWRYRCAlHfYqGGPC0IAUl6UPJEcvMFj8I2jEICUN4M3\n",
       "2ZmUoBvt8+zIAeApLzI/rolVGCz3V0gAT3m/wqObbsotO0QEeMqbhL7+EG2qi60rLAUAvvLKX9h1\n",
       "S+W5yeaFgEB5L9QpeBAb+ch/L88I4B94Fa4PRipLPKVPzzyw7zv52pckALwB9tuozqwbKW4AAAAA\n",
       "SUVORK5CYII=\n",
       "\" style=\"display:inline;vertical-align:middle;\" /></a></span>"
      ],
      "text/plain": [
       "{a in RealPos, b in NaturalPos, f in Complex} |- (a / b)^{f} = (a^{f} / b^{f})"
      ]
     },
     "metadata": {},
     "output_type": "display_data"
    }
   ],
   "source": [
    "expr_div_02.distribution(assumptions=temp_assumptions)"
   ]
  },
  {
   "cell_type": "code",
   "execution_count": 73,
   "metadata": {},
   "outputs": [
    {
     "data": {
      "text/html": [
       "<strong id=\"expr_exp_02\">expr_exp_02:</strong> <a class=\"ProveItLink\" href=\"../__pv_it/demonstrations/850979affa42332219c87e4d572da2e495ead6e30/expr.ipynb\"><img src=\"data:image/png;base64,iVBORw0KGgoAAAANSUhEUgAAACoAAAAYBAMAAAB+X3LOAAAAMFBMVEX////MzMxUVFRERES6uroi\n",
       "IiIQEBCYmJhmZmYyMjLu7u52dnaqqqqIiIjc3NwAAACW8nlqAAAAAXRSTlMAQObYZgAAAAlwSFlz\n",
       "AAAOxAAADsQBlSsOGwAAARZJREFUKM9jYIABSQMYa0U7XJCBaQOMZe6IEGUTgLF+gYgHELb8XS0I\n",
       "81D2AQYG3gMQ0asLbjD4ghjsIAtOw0xjqGTgLQAyOBoYGLgmQEUTGZoYGGYBGcxAKY4CqOgHhhwG\n",
       "hgqotWwwm6NA5rEtYGBYD8QnYaISd4EEJ1CnGJDuBmI+7XsXIFLcChBTpgOx2wPmXxBR9gkMNopA\n",
       "OgbojHQGjgCIKE8Cw16QthSgMz4wsEIDgfEDhAaKshkwrHeA8FgSIDTQhPUXGOqhDuGBmmQLFD3A\n",
       "oMkDCSN2aCBvAnrxAk8EB4THATVfFOgG3Y2PLkJ4rFDzWQUYkMBTKM3egCwKjzE7JEE+eIwuRhJl\n",
       "fgCXv4AQvQelARXhOEsaYtBdAAAAAElFTkSuQmCC\n",
       "\" style=\"display:inline;vertical-align:middle;\" /></a><br>"
      ],
      "text/plain": [
       "<IPython.core.display.HTML object>"
      ]
     },
     "metadata": {},
     "output_type": "display_data"
    }
   ],
   "source": [
    "expr_exp_02 = Exp(Exp(a, b), f)"
   ]
  },
  {
   "cell_type": "code",
   "execution_count": 74,
   "metadata": {},
   "outputs": [
    {
     "data": {
      "text/html": [
       "<span style=\"font-size:20px;\"> <a class=\"ProveItLink\" href=\"../__pv_it/demonstrations/637d318a7b748ea74e9c63cd0df588d3444f442c0/proof.ipynb\" style=\"text-decoration: none\">&nbsp;&#x22A2;&nbsp;&nbsp;</a><a class=\"ProveItLink\" href=\"../__pv_it/demonstrations/de705d515fe84fe862818b299efdd23ce8d48d610/expr.ipynb\"><img src=\"data:image/png;base64,iVBORw0KGgoAAAANSUhEUgAAAHQAAAAYBAMAAADZgsQ1AAAAMFBMVEX///8AAAAAAAAAAAAAAAAA\n",
       "AAAAAAAAAAAAAAAAAAAAAAAAAAAAAAAAAAAAAAAAAAAv3aB7AAAAD3RSTlMAInZUiRDNmWbv3US7\n",
       "qzJazP2FAAAACXBIWXMAAA7EAAAOxAGVKw4bAAABZklEQVQ4y2NggIFnB2Cs8AoGXAC7Il4HGOvE\n",
       "PpxasSvifABjfcWpE12RAIT9XukqhGk7xQBTD1ZFTFCFWgHqDJtADI4DmDqxKzKBOZ6hjYGpAchg\n",
       "L8DUilURawJUdB5DLQNDKpDB04ChE7sidpjCDwyTGRjaUYICDrAr4oRJLwU5nzOAgSE+ADNgsSoy\n",
       "g4k+VwISbEDjX2J6FbuiEiBmvKKoAJFiuQBxDxrArigDiHcK8ECTAUcCw+F7UP+tAoMLDDgVLQaG\n",
       "3wwG9gUQUeYJDE4KmLZiVzQbaP4HBi5o2uT7gDX9YVcEFOU8wBC/AcLjnoBLKxZFQLfEKzD0Q9Uw\n",
       "L0DEJZJfsSs6BBQ1YLjGDEnf2NIvTkW+wESlwLycHWqVA1at2BW9AgbeJT9ZPQiPawNWrdgVcaGk\n",
       "WCnsORy7Ig6ULIajVMKh6CCSIOMBHAULdkUxSKI8Aji0YlfEiJTwFHEVZ9gUAQDsWned+yI75QAA\n",
       "AABJRU5ErkJggg==\n",
       "\" style=\"display:inline;vertical-align:middle;\" /></a></span>"
      ],
      "text/plain": [
       "|- (a^{b})^{f} = (a^{b})^{f}"
      ]
     },
     "metadata": {},
     "output_type": "display_data"
    }
   ],
   "source": [
    "expr_exp_02.distribution(assumptions=temp_assumptions)"
   ]
  },
  {
   "cell_type": "markdown",
   "metadata": {},
   "source": [
    "### Testing `Exp.bound_via_operand_bound()` for $x^a$ where we know a relation for base $x$"
   ]
  },
  {
   "cell_type": "code",
   "execution_count": 75,
   "metadata": {},
   "outputs": [
    {
     "data": {
      "text/html": [
       "<strong id=\"defaults.assumptions\">defaults.assumptions:</strong> <a class=\"ProveItLink\" href=\"../__pv_it/demonstrations/ba434cc72c18ad073a7bebcee5d37d73048235b10/expr.ipynb\"><img src=\"data:image/png;base64,iVBORw0KGgoAAAANSUhEUgAAA/0AAAAaBAMAAAAXuCH0AAAAMFBMVEX///9UVFQiIiKIiIjMzMx2\n",
       "dnYQEBDc3NxEREQyMjLu7u5mZmaqqqq6urqYmJgAAAB66f/FAAAAAXRSTlMAQObYZgAAAAlwSFlz\n",
       "AAAOxAAADsQBlSsOGwAACAxJREFUaN7tWntsFEUc/rW717vuPVqCGB6maSoYFYKHpUqKwdNEJILx\n",
       "pDQpaJqTaiwJMYdGo5LYA0I4EbCAAQOIWyqk0MQWfGBNhIuJqGjC8YdEjbGX1CgaLUQgSNMYZ/Yx\n",
       "O7M3s7veXZRAJ6Gl+33z/R7z2N/MHUCxTd6s/fI1xaFE7YskNDfAWPuP2h+OaL9r//2b8M8h+LZU\n",
       "wx+FSDScunYS3H+V+hXUfoac3fMwDtIW9ONJqEqWxKuzOYCKGFy+dsb/ap3Kfs2xgxwksiN95ZYt\n",
       "zs5TnMg68I9ARYZP/LX99W3tORdfCGkOVulQYaUr05NcEaxiUG8p/L/bEP6xhYcE/NXhmo2M8z3L\n",
       "hRyIPC2PQLkoG6lVcPqsai8bdvTzSPO1SfSICjPFy4knVxDJhVUMyk1hiZuv6WhxAuXIfX+C73wc\n",
       "Uvexzu8WcpSWLBr/iqgoU89DQK62P63K8Eih9ao+/m3iQePKFUJyYRWD8lP4L1popytlD+xLFqUr\n",
       "IfeDcZHzRyshmE63p80NYpTPQVPocAzv/1UZcaaCyU5YkEbNcnhQ5ZEgjCcA2v9HnQaNI1cIiRgt\n",
       "PcpPofcWme66eUVqwZcqSlcZQcswS8Nz6uo6ifMBZvKGRwQc/7gYt/6T1tbdZmUqz9PFApI8Jcmt\n",
       "/1zkbM45klyknDXcLJjinBR6X+HSNMHwK3utCYZ2yxER6E13r7bVWu27RmryTu5inPfV8jnKFG3c\n",
       "6+E0ayq8XbVWStmhvJ1yt4jkH6dK0bCd7yZnc86J5CLlrOFmgYhzUuh5he+/2QNU1Q/yqOd+XPwj\n",
       "gDtxxifcrb27/buozUvetJNxvnL8rAyPo6hGMfKxOVHqf8K/XlKpnXLBl+zm4J8we1RI8gM0zzWA\n",
       "7mMAk93klIYczGAD4NjsnvVOc0YopczNQZdYQ66LvSJEsf2F8KnKiHNSSIKhVmJ3K5RnbGivVfw2\n",
       "zYvpJuonP/A4u4T70Pj/zfpOrW8SLdWV0r1/qh+V63cBTEJ/nEkGtI2kMmmN7Yo7blYZ5/t2KZcF\n",
       "HHZoZ+BpBWDtbqkXtv3ZyJJMi44k3OInIHLejekLJeAJNgCOXL80PlgrlMIa58QaBxvWVwtR3Hci\n",
       "DGYZcU4KSTDUSkTPKqpZtGsPcfDZTDBl3NXMih5hN46OOMgXWN+pXYVEa3WldJXtLY/qNVga/fEM\n",
       "6NRKqnhp/a2Tvbw6pdfkPA57qIjrtXsnVSkN2y4ZsMVON5K27DJHoMyVuQiJfcYGkE+KJCMjZTmh\n",
       "1CKUgolijZfBpwpR3LfNmBqd4hRawcDqmeTZAITiLFpmjdM081T1C5xTa8zCYXfSHP9LrO8WaEVr\n",
       "daV0/Sosw+esGGxFE+Q8HjTU5tehljI2r43DbP4GAC7xODIusTdYvOP6BJSXI96tRqYC77J3A6bF\n",
       "fJKtYFdQXrUMOMqpiLKIDSCfJBtTTiCFNdocNJRlIERRX/mifp1qieenkARDjQR+JmdY1JodQVLf\n",
       "xXD+SY2xFee4Lw7hC6zvFkiipbuupi5V9mNWRxamA1SkoE/bu3row8vCALu3T4PwqBsHt3YjsBS1\n",
       "UuT+jQzHtOhIMk8dHTFXJtqbomwAPDkjuwKpQRWNoVjjOeMWjIueUqUESKw4Jz1mMPRKRCW8ZEOt\n",
       "t0MFVTpSFyLhN1W9/guNsr5bINDXMW359Z9fQ9EgoPXfFzXeHuX02AYfZOvWUX02OnJwAi4Y/6ml\n",
       "T8rvv8iQiEUnkr4CauFedyZ6vcXZAHhyg0m9VuVLDYCUEGuEc6CK0QF8GHuY9ZOTHhIMtRLRM58d\n",
       "JXVcnzWG4ctwyJwyW7UNMpCCyAjruwVa0TJdSX34I9pvAM83PP4ZmBTCvaQo5bySmmdtUqhdhAM5\n",
       "B46+EaF/qCQN6wdCKlM9Uo4WIxZFJGIV5TUdUV3kYA1oapRz+aSe7I1GpvOkDI1ANVdDQ78GcEDX\n",
       "4NdZnBW3pUelg6FWInr2eR5q1nFVKIIstqBsLksYBhCkj3Akgfd4lfbdAo1oVbYrqQ9DGSjD7/8k\n",
       "rhsC0dD0oHGjSJzvh+GAeTXUh18lNfCaE0dL8xX9TLlEq5TIdWBqNURym4ESIxZFJGI1WC0/5XOT\n",
       "g6Xm9rxHTDr10IfwA3ClNI3DMJjjamBUXr9ucUyIQgucqQ5nWXE2PVpqSDD4fGYcnXydaCvOQ9EI\n",
       "vYEfpcAXwxZCF3sT4YztiDcDDsS0npbvBNSjxSjVlejCgpaGqXr9j46Ayvglq2ZrYNdm1fzw6q9k\n",
       "4FXzdqH8dow9lnPiaK0OQb7WIY2gTPyefFK2AdJvZygxYlFEIlaVCfc4MzVWsMZY6qZzHFJvfeiY\n",
       "cSC2S+nxNR1PcjUw6oMTb4EQheAHjVNagRG3pwenhgSjEYyhOjzMQ43WPNyoJ+y96Fe/G/OGgL1N\n",
       "N+g9ie8WaESLUKsrfawOrcAz82f7Nfw3a+t4V9onPXC0yUWLhVuMW1YnMREpj+hNzlMA+VI6vFSg\n",
       "4WzhpL1i5fsZyquUIzudUIEFZSZfdykXdNbF+wZUZD18auD1q10+KKGYR2K8BKQ43oeVlQV1jpci\n",
       "Nb6CLfjAyXeXAdkr+vzPVtNHPY5YN5RQzBvRE8uFhOHyaFm8kM5ew+n2ju7Ddwx1U71ZwD3Fvjvp\n",
       "6p//yQl33yWvK9ZLLjyLSaVjSe5waOiTgjpLJUlNtGALUUffna1G8KHhJhhr12krx0XjwbE8XK9N\n",
       "+/5fKD6WiOuz6d//dfn+/1i7ZlsQHQ7/ARyahefEF2xxAAAAAElFTkSuQmCC\n",
       "\" style=\"display:inline;vertical-align:middle;\" /></a><br>"
      ],
      "text/plain": [
       "<IPython.core.display.HTML object>"
      ]
     },
     "metadata": {},
     "output_type": "display_data"
    }
   ],
   "source": [
    "from proveit import a, b, c, d, u, v, w, x, y, z, defaults\n",
    "from proveit.numbers import greater, greater_eq, Less, LessEq, RealNeg, RealNonNeg\n",
    "defaults.assumptions = [InSet(a, RealPos), InSet(b, RealNonNeg), InSet(c, RealNeg),\n",
    "                        InSet(d, RealNonPos), InSet(u, RealNeg), InSet(v, RealNeg),\n",
    "                        InSet(x, Real), InSet(y, Real), InSet(z, Real),\n",
    "                        InSet(w, RealPos), Less(u, v), LessEq(u, c),\n",
    "                        greater(x, zero), greater(y, x), LessEq(x, z)]"
   ]
  },
  {
   "cell_type": "code",
   "execution_count": 76,
   "metadata": {},
   "outputs": [
    {
     "data": {
      "text/html": [
       "<strong id=\"exp_x_a\">exp_x_a:</strong> <a class=\"ProveItLink\" href=\"../__pv_it/demonstrations/8e1117a7d81547dad7972e4eaddae00dc2c32dc80/expr.ipynb\"><img src=\"data:image/png;base64,iVBORw0KGgoAAAANSUhEUgAAABUAAAAQBAMAAAAL9CkWAAAAMFBMVEX///9ERES6uroQEBAyMjLc\n",
       "3NyYmJgiIiJmZmaqqqp2dnbMzMxUVFSIiIju7u4AAAAd7oVFAAAAAXRSTlMAQObYZgAAAAlwSFlz\n",
       "AAAOxAAADsQBlSsOGwAAAG9JREFUCNdjYICAV7lLoSwGvlLurzA2RwO3AYzNrMB7AMZ+H8CY9wAm\n",
       "HrBfDcZmapu7DEi9vfN61QSoUAPvWY4CCJMtgO0fTwKEzc3A4cAAB8wXEGz9AD6ocQ8VDjNwQUXn\n",
       "72tm0ISyX9zlbIMaDwBmohx4ON5bywAAAABJRU5ErkJggg==\n",
       "\" style=\"display:inline;vertical-align:middle;\" /></a><br>"
      ],
      "text/plain": [
       "<IPython.core.display.HTML object>"
      ]
     },
     "metadata": {},
     "output_type": "display_data"
    },
    {
     "data": {
      "text/html": [
       "<strong id=\"exp_x_b\">exp_x_b:</strong> <a class=\"ProveItLink\" href=\"../__pv_it/demonstrations/d8df57f76409f1639b9c6d678b4376d89dd5b9b50/expr.ipynb\"><img src=\"data:image/png;base64,iVBORw0KGgoAAAANSUhEUgAAABMAAAATBAMAAACAfiv/AAAAMFBMVEX///9ERES6uroQEBAyMjLc\n",
       "3NyYmJgiIiJmZmaqqqp2dnbMzMxUVFSIiIju7u4AAAAd7oVFAAAAAXRSTlMAQObYZgAAAAlwSFlz\n",
       "AAAOxAAADsQBlSsOGwAAAHRJREFUCNdjYAADbkcGODiFYFrDWdx/7zyAMnnreBugTMYENgcok3kD\n",
       "xwEok5+BeQKUyf4gEW5C7wUg+fbO61VQyQbesxwFYBZbANs/ngSIKgYOB7ilzBfgTP0APoj9DxUO\n",
       "M3BBxObva2bQhDBf3OVsgxgLAIVkG3ZlHhskAAAAAElFTkSuQmCC\n",
       "\" style=\"display:inline;vertical-align:middle;\" /></a><br>"
      ],
      "text/plain": [
       "<IPython.core.display.HTML object>"
      ]
     },
     "metadata": {},
     "output_type": "display_data"
    },
    {
     "data": {
      "text/html": [
       "<strong id=\"exp_x_c\">exp_x_c:</strong> <a class=\"ProveItLink\" href=\"../__pv_it/demonstrations/4aeaa41e97e7eb1b3587f51fb7f097df57216cab0/expr.ipynb\"><img src=\"data:image/png;base64,iVBORw0KGgoAAAANSUhEUgAAABQAAAAQBAMAAADkNkIoAAAAMFBMVEX///9ERES6uroQEBAyMjLc\n",
       "3NyYmJgiIiJmZmaqqqp2dnbMzMxUVFSIiIju7u4AAAAd7oVFAAAAAXRSTlMAQObYZgAAAAlwSFlz\n",
       "AAAOxAAADsQBlSsOGwAAAGtJREFUCNdjYIAArmsXoCyGIm4DKItDgG8DlMmsAJNm4A+AM1kUGBZA\n",
       "maxtuQ8YGN7eeb1qAkSggfcsRwGYxRbA9o8nAczkZuBwgOtmhlvJoB/A9wDMeKhwmIELIjZ/XzOD\n",
       "JoT54i5nG8RYAMr2FyYUE2jKAAAAAElFTkSuQmCC\n",
       "\" style=\"display:inline;vertical-align:middle;\" /></a><br>"
      ],
      "text/plain": [
       "<IPython.core.display.HTML object>"
      ]
     },
     "metadata": {},
     "output_type": "display_data"
    },
    {
     "data": {
      "text/html": [
       "<strong id=\"exp_x_d\">exp_x_d:</strong> <a class=\"ProveItLink\" href=\"../__pv_it/demonstrations/1e13da4282a915cb61ae36c0e2c8ecf61d7f25f90/expr.ipynb\"><img src=\"data:image/png;base64,iVBORw0KGgoAAAANSUhEUgAAABUAAAATBAMAAACNYFu4AAAAMFBMVEX///9ERES6uroQEBAyMjLc\n",
       "3NyYmJgiIiJmZmaqqqp2dnbMzMxUVFSIiIju7u4AAAAd7oVFAAAAAXRSTlMAQObYZgAAAAlwSFlz\n",
       "AAAOxAAADsQBlSsOGwAAAHlJREFUCNdjYICB9RvgTIZ4BJPhIpz1KtcXxuQr5f4NY3M0cH+AsZkV\n",
       "eAVg7PcBjPcewMQD9m+DsZna5i4DUm/vvF41ASrUwHuWowDCZAtg+8eTAGFzM3A4IBzCfAHB1g/g\n",
       "gxr3UOEwAxdUdP6+ZgZNKPvFXc42qPEA0rofxcLak8AAAAAASUVORK5CYII=\n",
       "\" style=\"display:inline;vertical-align:middle;\" /></a><br>"
      ],
      "text/plain": [
       "<IPython.core.display.HTML object>"
      ]
     },
     "metadata": {},
     "output_type": "display_data"
    },
    {
     "data": {
      "text/html": [
       "<strong id=\"exp_u_2\">exp_u_2:</strong> <a class=\"ProveItLink\" href=\"../__pv_it/demonstrations/36466228468f5729fcb2794ab9278a958cb66e6b0/expr.ipynb\"><img src=\"data:image/png;base64,iVBORw0KGgoAAAANSUhEUgAAABQAAAATBAMAAABiojCGAAAAMFBMVEX///9ERETc3Ny6uroyMjIi\n",
       "IiLMzMwQEBCqqqp2dnZUVFSYmJhmZmaIiIju7u4AAACfX4gyAAAAAXRSTlMAQObYZgAAAAlwSFlz\n",
       "AAAOxAAADsQBlSsOGwAAAHhJREFUCNdjYAADvpmrHkBYDDwMPAFQJr8B0zcok/sBnMnAwBkAZ6bC\n",
       "tDEwycEFdRiUYIJiaeegTPb//z8w8N3ZwMAF0cLJUcCwHyKVAbRxCYT5gP0CQy1Uhz3CzqMMvB+g\n",
       "TCkGRoF9EOYphvQJEyDMV3Ob1iaAGABMfR2KyBYr5gAAAABJRU5ErkJggg==\n",
       "\" style=\"display:inline;vertical-align:middle;\" /></a><br>"
      ],
      "text/plain": [
       "<IPython.core.display.HTML object>"
      ]
     },
     "metadata": {},
     "output_type": "display_data"
    }
   ],
   "source": [
    "exp_x_a, exp_x_b, exp_x_c, exp_x_d, exp_u_2 = Exp(x, a), Exp(x, b), Exp(x, c), Exp(x, d), Exp(u, two)"
   ]
  },
  {
   "cell_type": "code",
   "execution_count": 77,
   "metadata": {},
   "outputs": [
    {
     "data": {
      "text/html": [
       "<span style=\"font-size:20px;\"><a class=\"ProveItLink\" href=\"../__pv_it/theorems/5a0c211ed8c0f89e15d717d80d4627baae693acb0/expr.ipynb\"><img src=\"data:image/png;base64,iVBORw0KGgoAAAANSUhEUgAAAD8AAAATBAMAAADVH8ihAAAAMFBMVEX////MzMwyMjKqqqoiIiJm\n",
       "ZmaYmJju7u5EREQQEBC6urqIiIh2dnZUVFTc3NwAAAAqL9KcAAAAAXRSTlMAQObYZgAAAAlwSFlz\n",
       "AAAOxAAADsQBlSsOGwAAAN5JREFUKM9jYMADWBkIAA4yFSTN6FeZkYDPhIa3DGszCvApeMPAwXiB\n",
       "IaKjs6MjAYcC1gcKWEzY4eKiAFfQgKlg0XaECbzlF+AK+O7s2wCm1ZGskDB6AFew8gHHdxDN9ACu\n",
       "4KXKl+3wkGSfxsDqAFaA5Mi0IqTw/sDAcgDEkHQBggaIAo4yhPc4GxjqF4AYFUgmMAa0w3n1Gxjy\n",
       "wQwW5HAIfIFQYMBwiRnkPu4NSAoquOF2cGxgdoXEuzJcwVMGtoQuGI/99sG3G8Gs2q4CWGz2MXTo\n",
       "G2DGwZoWSFCjAAAaDkU0dYR17AAAAABJRU5ErkJggg==\n",
       "\" style=\"display:inline;vertical-align:middle;\" /></a>, <a class=\"ProveItLink\" href=\"../../ordering/__pv_it/theorems/d1323f34847310a404e8089c2c268d3c2eb89dbf0/expr.ipynb\"><img src=\"data:image/png;base64,iVBORw0KGgoAAAANSUhEUgAAADQAAAAQBAMAAACra0H4AAAAMFBMVEX///9ERES6uroQEBAyMjLc\n",
       "3NyYmJgiIiJmZmaqqqp2dnbMzMxUVFSIiIju7u4AAAAd7oVFAAAAAXRSTlMAQObYZgAAAAlwSFlz\n",
       "AAAOxAAADsQBlSsOGwAAAMtJREFUGNNjYMAAbM6CX4rFGLACRtYDTMfkcEgtYBDYg1OqlQVF6GJ5\n",
       "uQNcihFZRuUekq5zb4CMt3der5oApFn9kAzklnQFMhp4z3IUAGmWAISUSX3tA6AvAtj+8SSApJCc\n",
       "sSwPZCk3AwfYbobN5UAgADVQLg0sxnwBTD1EdvwOxgcgln4AH4hmR5bi2ArU/1DhMAMXSID3ApIU\n",
       "n8A1Bob5+5oZNMEingipBoY0RgWGF3c52yaARd4IPYCF/McARpGfyMGhJQ4JKCgAAF8xNF8aQs/g\n",
       "AAAAAElFTkSuQmCC\n",
       "\" style=\"display:inline;vertical-align:middle;\" /></a>, <a class=\"ProveItLink\" href=\"../../ordering/__pv_it/theorems/5d76fdd975252a644e3e1cb067a357f9a9c8486a0/expr.ipynb\"><img src=\"data:image/png;base64,iVBORw0KGgoAAAANSUhEUgAAADMAAAATBAMAAADPIygvAAAAMFBMVEX////c3NwyMjK6urpEREQi\n",
       "IiLMzMwQEBCqqqp2dnZUVFSYmJhmZmaIiIju7u4AAADlKNhoAAAAAXRSTlMAQObYZgAAAAlwSFlz\n",
       "AAAOxAAADsQBlSsOGwAAAOBJREFUKM9jYMAAm0r8VUs2MGAFDlIMVlseYJeSZGBhW4BLikdAAUXo\n",
       "SmioAlzKAVnG6B5CF9c7oIF8dzYwvAIJMOohGZjSJMDAwMlRwLAfJMAkAJcSV/0KMiGDJ4BhCVgK\n",
       "yRm7H4HoB+wXGGpBjPRQIHCASLG8BnvZ/gHbNxD9BEkX2wE/EOMQA28BiGZF9tcxERDDi4EF7HPe\n",
       "C0hST3hBJp5isIeEpQZcSoaBe4MzkPFq7nmIs185P4CFvCODi34DiD0JqtrSNRQl5DgV+Cqwxw0D\n",
       "6wWuCTikOPYexiEDADoqNycoB77qAAAAAElFTkSuQmCC\n",
       "\" style=\"display:inline;vertical-align:middle;\" /></a>, <a class=\"ProveItLink\" href=\"../../number_sets/real_numbers/__pv_it/theorems/0c04c146b0f7b92967ed28917fb83981f8ee0b1b0/expr.ipynb\"><img src=\"data:image/png;base64,iVBORw0KGgoAAAANSUhEUgAAADEAAAAQBAMAAABNQoq8AAAAMFBMVEX///9ERES6uroQEBAyMjLc\n",
       "3NyYmJgiIiJmZmaqqqp2dnbMzMxUVFSIiIju7u4AAAAd7oVFAAAAAXRSTlMAQObYZgAAAAlwSFlz\n",
       "AAAOxAAADsQBlSsOGwAAAMFJREFUGNNjYMAGVt0IwCrOwDKBrxS7TDoDw0Ik7pMEOFOGgWH+A4QM\n",
       "3/ILMOYPBob9ExgY3t55vWoCWOD6OqgakAzQhAbesxwFUPP7wBTrL6DMBQa2ALZ/PDArprTCZRYw\n",
       "cDNwOCAsUzkHMg0oow+ylPkCkowc1AXzQVbrB/DBnDjlKJgSZGDIf8DwUOEwAxfMh60QOpmBoQWo\n",
       "bV8zgyYDiqsZ2CfwWTMwvLjL2Qb2Dt91uH18XXc2IIXO8wQGIgEAisM3iEYrHlYAAAAASUVORK5C\n",
       "YII=\n",
       "\" style=\"display:inline;vertical-align:middle;\" /></a>, <a class=\"ProveItLink\" href=\"../__pv_it/demonstrations/0f3bf2f52b0a42ebbfba310f312a43f9efc42b9e0/expr.ipynb\"><img src=\"data:image/png;base64,iVBORw0KGgoAAAANSUhEUgAAADIAAAAQBAMAAACmdTG/AAAAMFBMVEX////c3NwyMjK6urpEREQi\n",
       "IiLMzMwQEBCqqqp2dnZUVFSYmJhmZmaIiIju7u4AAADlKNhoAAAAAXRSTlMAQObYZgAAAAlwSFlz\n",
       "AAAOxAAADsQBlSsOGwAAALpJREFUGNNjYCAMHm3AJcM39QKawJ0NDK8gzKvzYGJ312XOYODkKGDY\n",
       "DxXZeg5C8zDcunCUIYMngGEJzICmg2BqI8P+B6sZHrBfYKiFm220DkQmMBwCUfYP2L4hZPwgNFjt\n",
       "IQbeArhpCyE080eGdwwMXgwsC2AugFjD58xVwDCBgeEUg/0GVFdzfHtTwNzAwPBq7nkBsMqrMJ/y\n",
       "nb3QswPMmgQmn6KHDqcCXwX24GK9wDUBuwzH3sPYJQAedDaq2AKMKwAAAABJRU5ErkJggg==\n",
       "\" style=\"display:inline;vertical-align:middle;\" /></a> <a class=\"ProveItLink\" href=\"../__pv_it/demonstrations/65dd80c5cb479307d7a5dacad0cddb887b8a4de30/proof.ipynb\" style=\"text-decoration: none\">&nbsp;&#x22A2;&nbsp;&nbsp;</a><a class=\"ProveItLink\" href=\"../__pv_it/theorems/d4350c2b3bccfb618b3fd889cfa5fcd040a385470/expr.ipynb\"><img src=\"data:image/png;base64,iVBORw0KGgoAAAANSUhEUgAAAEYAAAAUBAMAAADCRlZLAAAAMFBMVEX///9ERES6uroQEBAyMjLc\n",
       "3NyYmJgiIiJmZmaqqqp2dnbMzMxUVFSIiIju7u4AAAAd7oVFAAAAAXRSTlMAQObYZgAAAAlwSFlz\n",
       "AAAOxAAADsQBlSsOGwAAAQ5JREFUKM9jYICAV7lLGbABvmW3AmDMUu6vWNU8D9gPU8PRwG2AVU0H\n",
       "w2YYk1mB9wBWNUYMd2DM9wGMeQ+wOecrg9g7mDkB+9UQaqYEwJmm3J/yoEymtrnL4OLpfQiDNDJv\n",
       "JTAwvL3zetUEZPOvr4NYcyOB4Q1UqIH3LEcBkguWX4AwuDgNGPIhTLYAtn88CXAlrO0w9k6gzoMQ\n",
       "JjcDhwOSRUfg1j5gvsBgCw+bC1jVMOg/4P4NZwfwPcBiF0MLAy807B8qHGbgYsDiZgYZBkZo2M/f\n",
       "18ygiRK01+9BGD0M+lAzX9zlbJuAGgHpkAB6s7Y/gAEnSIHKLWEgALgc+CwJqWG/wLOAkBrO3CYo\n",
       "CwDBjEiHzg3yoQAAAABJRU5ErkJggg==\n",
       "\" style=\"display:inline;vertical-align:middle;\" /></a></span>"
      ],
      "text/plain": [
       "{a in RealPos, x in Real, y in Real, x > 0, y > x} |- x^{a} < y^{a}"
      ]
     },
     "metadata": {},
     "output_type": "display_data"
    }
   ],
   "source": [
    "# Case (1): pos exponent, Less relation\n",
    "exp_x_a.bound_via_operand_bound(Less(x, y))"
   ]
  },
  {
   "cell_type": "code",
   "execution_count": 78,
   "metadata": {},
   "outputs": [
    {
     "data": {
      "text/html": [
       "<span style=\"font-size:20px;\"><a class=\"ProveItLink\" href=\"../__pv_it/theorems/5a0c211ed8c0f89e15d717d80d4627baae693acb0/expr.ipynb\"><img src=\"data:image/png;base64,iVBORw0KGgoAAAANSUhEUgAAAD8AAAATBAMAAADVH8ihAAAAMFBMVEX////MzMwyMjKqqqoiIiJm\n",
       "ZmaYmJju7u5EREQQEBC6urqIiIh2dnZUVFTc3NwAAAAqL9KcAAAAAXRSTlMAQObYZgAAAAlwSFlz\n",
       "AAAOxAAADsQBlSsOGwAAAN5JREFUKM9jYMADWBkIAA4yFSTN6FeZkYDPhIa3DGszCvApeMPAwXiB\n",
       "IaKjs6MjAYcC1gcKWEzY4eKiAFfQgKlg0XaECbzlF+AK+O7s2wCm1ZGskDB6AFew8gHHdxDN9ACu\n",
       "4KXKl+3wkGSfxsDqAFaA5Mi0IqTw/sDAcgDEkHQBggaIAo4yhPc4GxjqF4AYFUgmMAa0w3n1Gxjy\n",
       "wQwW5HAIfIFQYMBwiRnkPu4NSAoquOF2cGxgdoXEuzJcwVMGtoQuGI/99sG3G8Gs2q4CWGz2MXTo\n",
       "G2DGwZoWSFCjAAAaDkU0dYR17AAAAABJRU5ErkJggg==\n",
       "\" style=\"display:inline;vertical-align:middle;\" /></a>, <a class=\"ProveItLink\" href=\"../../ordering/__pv_it/theorems/d1323f34847310a404e8089c2c268d3c2eb89dbf0/expr.ipynb\"><img src=\"data:image/png;base64,iVBORw0KGgoAAAANSUhEUgAAADQAAAAQBAMAAACra0H4AAAAMFBMVEX///9ERES6uroQEBAyMjLc\n",
       "3NyYmJgiIiJmZmaqqqp2dnbMzMxUVFSIiIju7u4AAAAd7oVFAAAAAXRSTlMAQObYZgAAAAlwSFlz\n",
       "AAAOxAAADsQBlSsOGwAAAMtJREFUGNNjYMAAbM6CX4rFGLACRtYDTMfkcEgtYBDYg1OqlQVF6GJ5\n",
       "uQNcihFZRuUekq5zb4CMt3der5oApFn9kAzklnQFMhp4z3IUAGmWAISUSX3tA6AvAtj+8SSApJCc\n",
       "sSwPZCk3AwfYbobN5UAgADVQLg0sxnwBTD1EdvwOxgcgln4AH4hmR5bi2ArU/1DhMAMXSID3ApIU\n",
       "n8A1Bob5+5oZNMEingipBoY0RgWGF3c52yaARd4IPYCF/McARpGfyMGhJQ4JKCgAAF8xNF8aQs/g\n",
       "AAAAAElFTkSuQmCC\n",
       "\" style=\"display:inline;vertical-align:middle;\" /></a>, <a class=\"ProveItLink\" href=\"../__pv_it/demonstrations/4c5fb6064ed81f83132c10d4b7f508806e4b6da20/expr.ipynb\"><img src=\"data:image/png;base64,iVBORw0KGgoAAAANSUhEUgAAADMAAAAQBAMAAABJt1qBAAAAMFBMVEX///9mZmYQEBCqqqq6urpU\n",
       "VFRERER2dnaIiIgyMjLu7u6YmJjc3NwiIiLMzMwAAAD9v49RAAAAAXRSTlMAQObYZgAAAAlwSFlz\n",
       "AAAOxAAADsQBlSsOGwAAAMRJREFUGNNjYMAAO9Xy56ptYMAKEo4yuG5bgF3qOAMbXwAuKcYDE1CE\n",
       "2u7enQCXSkCW8exC6GJdBTKQ7+6D0yABnllIBj6zPABkrGxPB1vJeQAudWjuX7AJpxjYwQ7lRHLG\n",
       "7pUQFlcVmHp0FwgSIFJsqyFePgFRsQxJF59AFojBsoEBbCAvsr/kjoEYxgwMYGdwNCBJLeMAmsiX\n",
       "nlH7ACwyGS51kIF7QwoDAzuD0RSIyNKUBbCQz2FIm2+AHBzuuXeRQw4AFjNAQQWGph8AAAAASUVO\n",
       "RK5CYII=\n",
       "\" style=\"display:inline;vertical-align:middle;\" /></a>, <a class=\"ProveItLink\" href=\"../../number_sets/real_numbers/__pv_it/theorems/0c04c146b0f7b92967ed28917fb83981f8ee0b1b0/expr.ipynb\"><img src=\"data:image/png;base64,iVBORw0KGgoAAAANSUhEUgAAADEAAAAQBAMAAABNQoq8AAAAMFBMVEX///9ERES6uroQEBAyMjLc\n",
       "3NyYmJgiIiJmZmaqqqp2dnbMzMxUVFSIiIju7u4AAAAd7oVFAAAAAXRSTlMAQObYZgAAAAlwSFlz\n",
       "AAAOxAAADsQBlSsOGwAAAMFJREFUGNNjYMAGVt0IwCrOwDKBrxS7TDoDw0Ik7pMEOFOGgWH+A4QM\n",
       "3/ILMOYPBob9ExgY3t55vWoCWOD6OqgakAzQhAbesxwFUPP7wBTrL6DMBQa2ALZ/PDArprTCZRYw\n",
       "cDNwOCAsUzkHMg0oow+ylPkCkowc1AXzQVbrB/DBnDjlKJgSZGDIf8DwUOEwAxfMh60QOpmBoQWo\n",
       "bV8zgyYDiqsZ2CfwWTMwvLjL2Qb2Dt91uH18XXc2IIXO8wQGIgEAisM3iEYrHlYAAAAASUVORK5C\n",
       "YII=\n",
       "\" style=\"display:inline;vertical-align:middle;\" /></a>, <a class=\"ProveItLink\" href=\"../__pv_it/demonstrations/50829647483a75a463faf4f86a138ea19ac5a80e0/expr.ipynb\"><img src=\"data:image/png;base64,iVBORw0KGgoAAAANSUhEUgAAADEAAAAQBAMAAABNQoq8AAAAMFBMVEX///9ERES6uroQEBAyMjLc\n",
       "3NyYmJgiIiJmZmaqqqp2dnbMzMxUVFSIiIju7u4AAAAd7oVFAAAAAXRSTlMAQObYZgAAAAlwSFlz\n",
       "AAAOxAAADsQBlSsOGwAAAKJJREFUGNNjYEABnK4M2AFbxQPsErxVOCRe1aLy3955vWoCiPGiDC62\n",
       "vZo1gYGhgfcsRwGQ98YTLsHnu3AN0NIAtn88QAUMPAgZ1gcM6xgYuBk4HCD8iDIkK8FOYb6A4QJW\n",
       "iJB+AN8DNFerMfAxMDxUOMzAheZTzgkMPAwM8/c1M2giQscbRG5ceKsa6Iu7nG0T0Ly8gNNEgYEy\n",
       "8LwcBKrhfADOTS0opwGYDAAAAABJRU5ErkJggg==\n",
       "\" style=\"display:inline;vertical-align:middle;\" /></a> <a class=\"ProveItLink\" href=\"../__pv_it/demonstrations/2c460f3987299ed2872fc0e137d9f628c43651520/proof.ipynb\" style=\"text-decoration: none\">&nbsp;&#x22A2;&nbsp;&nbsp;</a><a class=\"ProveItLink\" href=\"../__pv_it/demonstrations/1a39a68684a50c5cb752894504bb497d29cc94180/expr.ipynb\"><img src=\"data:image/png;base64,iVBORw0KGgoAAAANSUhEUgAAAEUAAAATBAMAAAA0dN3wAAAAMFBMVEX///9ERES6uroQEBAyMjLc\n",
       "3NyYmJgiIiJmZmaqqqp2dnbMzMxUVFSIiIju7u4AAAAd7oVFAAAAAXRSTlMAQObYZgAAAAlwSFlz\n",
       "AAAOxAAADsQBlSsOGwAAAOFJREFUKM9jYICAV7lLGbABJHG+Uu6v2JQgi3M0cBtgU4MszqzAewAu\n",
       "wenKgE38fQBj3gMom63iAQM2ceaA/WpQNm8VQgmyOANT29xlUI/UIrsHKv72zutVE+CCL8rgzO3V\n",
       "rAlQZgPvWY4CmPgbT4S3fReugbkwgO0fD0w9Aw9CDesDhnVQJjcDhwOSAyLKkMIY4XjmCyiBD3cz\n",
       "K5K4fgAfkm8Rfldj4IMKPVQ4zMCFEv7QMOScwMADFZm/r5lBEzWSOL1B5MaFt6phAXKXs20Ctuhc\n",
       "wGmiwEBL8LwcBKpRBQGgJkRuDSj9GQAAAABJRU5ErkJggg==\n",
       "\" style=\"display:inline;vertical-align:middle;\" /></a></span>"
      ],
      "text/plain": [
       "{a in RealPos, x in Real, z in Real, x > 0, x <= z} |- x^{a} <= z^{a}"
      ]
     },
     "metadata": {},
     "output_type": "display_data"
    }
   ],
   "source": [
    "# Case (2): pos exponent, LessEq relation\n",
    "exp_x_a.bound_via_operand_bound(LessEq(x, z))"
   ]
  },
  {
   "cell_type": "code",
   "execution_count": 79,
   "metadata": {},
   "outputs": [
    {
     "data": {
      "text/html": [
       "<span style=\"font-size:20px;\"><a class=\"ProveItLink\" href=\"../__pv_it/demonstrations/5a49c1d91f28aca05c3a7748e24771596ea841e40/expr.ipynb\"><img src=\"data:image/png;base64,iVBORw0KGgoAAAANSUhEUgAAAEYAAAAUBAMAAADCRlZLAAAAMFBMVEX///+YmJjMzMzc3NyIiIhU\n",
       "VFR2dna6urqqqqpmZmYyMjIiIiIQEBBERETu7u4AAAD7tRWPAAAAAXRSTlMAQObYZgAAAAlwSFlz\n",
       "AAAOxAAADsQBlSsOGwAAATdJREFUKM9jYMAFdAvAVJobA27Al9sAJBkd2C/gUcTgK8DAwKPA8Bmf\n",
       "GgZZBwb7BwwnMCWkzt5ffVYAwpYx0H/AsJGB784GNEUXTBlKZR+AWM+uMwDVHGFg4JqArsaMgZcp\n",
       "AMiwDGIA2fWDgYG/AVMNp8ECBgZToBKom+sfwLyxe/cCuJoLDE8ngzgsDuxAI7OhSqr8EOawvgtg\n",
       "eAfhpXkCzVjqEgFiM69Dsku3ywAlOH89eA8S4IKLXrBZ/dsPxYUc/xh4HEBqkNws+AoUX3eBAKKR\n",
       "cwEDfwKQ1tkNBBcgangfCqCYw53AUA/y/Vskc5gm3ENRAwye+SDfcyOHzyRbVDUKfAchAYGk5i0L\n",
       "imWsAryQyFgBV2PJwChwHcXvYRMhjKfXH8Di/TLD3fUNWFNL2W1IXGAAANC6XS1uoy9DAAAAAElF\n",
       "TkSuQmCC\n",
       "\" style=\"display:inline;vertical-align:middle;\" /></a>, <a class=\"ProveItLink\" href=\"../../ordering/__pv_it/theorems/d1323f34847310a404e8089c2c268d3c2eb89dbf0/expr.ipynb\"><img src=\"data:image/png;base64,iVBORw0KGgoAAAANSUhEUgAAADQAAAAQBAMAAACra0H4AAAAMFBMVEX///9ERES6uroQEBAyMjLc\n",
       "3NyYmJgiIiJmZmaqqqp2dnbMzMxUVFSIiIju7u4AAAAd7oVFAAAAAXRSTlMAQObYZgAAAAlwSFlz\n",
       "AAAOxAAADsQBlSsOGwAAAMtJREFUGNNjYMAAbM6CX4rFGLACRtYDTMfkcEgtYBDYg1OqlQVF6GJ5\n",
       "uQNcihFZRuUekq5zb4CMt3der5oApFn9kAzklnQFMhp4z3IUAGmWAISUSX3tA6AvAtj+8SSApJCc\n",
       "sSwPZCk3AwfYbobN5UAgADVQLg0sxnwBTD1EdvwOxgcgln4AH4hmR5bi2ArU/1DhMAMXSID3ApIU\n",
       "n8A1Bob5+5oZNMEingipBoY0RgWGF3c52yaARd4IPYCF/McARpGfyMGhJQ4JKCgAAF8xNF8aQs/g\n",
       "AAAAAElFTkSuQmCC\n",
       "\" style=\"display:inline;vertical-align:middle;\" /></a>, <a class=\"ProveItLink\" href=\"../../ordering/__pv_it/theorems/5d76fdd975252a644e3e1cb067a357f9a9c8486a0/expr.ipynb\"><img src=\"data:image/png;base64,iVBORw0KGgoAAAANSUhEUgAAADMAAAATBAMAAADPIygvAAAAMFBMVEX////c3NwyMjK6urpEREQi\n",
       "IiLMzMwQEBCqqqp2dnZUVFSYmJhmZmaIiIju7u4AAADlKNhoAAAAAXRSTlMAQObYZgAAAAlwSFlz\n",
       "AAAOxAAADsQBlSsOGwAAAOBJREFUKM9jYMAAm0r8VUs2MGAFDlIMVlseYJeSZGBhW4BLikdAAUXo\n",
       "SmioAlzKAVnG6B5CF9c7oIF8dzYwvAIJMOohGZjSJMDAwMlRwLAfJMAkAJcSV/0KMiGDJ4BhCVgK\n",
       "yRm7H4HoB+wXGGpBjPRQIHCASLG8BnvZ/gHbNxD9BEkX2wE/EOMQA28BiGZF9tcxERDDi4EF7HPe\n",
       "C0hST3hBJp5isIeEpQZcSoaBe4MzkPFq7nmIs185P4CFvCODi34DiD0JqtrSNRQl5DgV+Cqwxw0D\n",
       "6wWuCTikOPYexiEDADoqNycoB77qAAAAAElFTkSuQmCC\n",
       "\" style=\"display:inline;vertical-align:middle;\" /></a>, <a class=\"ProveItLink\" href=\"../../number_sets/real_numbers/__pv_it/theorems/0c04c146b0f7b92967ed28917fb83981f8ee0b1b0/expr.ipynb\"><img src=\"data:image/png;base64,iVBORw0KGgoAAAANSUhEUgAAADEAAAAQBAMAAABNQoq8AAAAMFBMVEX///9ERES6uroQEBAyMjLc\n",
       "3NyYmJgiIiJmZmaqqqp2dnbMzMxUVFSIiIju7u4AAAAd7oVFAAAAAXRSTlMAQObYZgAAAAlwSFlz\n",
       "AAAOxAAADsQBlSsOGwAAAMFJREFUGNNjYMAGVt0IwCrOwDKBrxS7TDoDw0Ik7pMEOFOGgWH+A4QM\n",
       "3/ILMOYPBob9ExgY3t55vWoCWOD6OqgakAzQhAbesxwFUPP7wBTrL6DMBQa2ALZ/PDArprTCZRYw\n",
       "cDNwOCAsUzkHMg0oow+ylPkCkowc1AXzQVbrB/DBnDjlKJgSZGDIf8DwUOEwAxfMh60QOpmBoQWo\n",
       "bV8zgyYDiqsZ2CfwWTMwvLjL2Qb2Dt91uH18XXc2IIXO8wQGIgEAisM3iEYrHlYAAAAASUVORK5C\n",
       "YII=\n",
       "\" style=\"display:inline;vertical-align:middle;\" /></a>, <a class=\"ProveItLink\" href=\"../__pv_it/demonstrations/0f3bf2f52b0a42ebbfba310f312a43f9efc42b9e0/expr.ipynb\"><img src=\"data:image/png;base64,iVBORw0KGgoAAAANSUhEUgAAADIAAAAQBAMAAACmdTG/AAAAMFBMVEX////c3NwyMjK6urpEREQi\n",
       "IiLMzMwQEBCqqqp2dnZUVFSYmJhmZmaIiIju7u4AAADlKNhoAAAAAXRSTlMAQObYZgAAAAlwSFlz\n",
       "AAAOxAAADsQBlSsOGwAAALpJREFUGNNjYCAMHm3AJcM39QKawJ0NDK8gzKvzYGJ312XOYODkKGDY\n",
       "DxXZeg5C8zDcunCUIYMngGEJzICmg2BqI8P+B6sZHrBfYKiFm220DkQmMBwCUfYP2L4hZPwgNFjt\n",
       "IQbeArhpCyE080eGdwwMXgwsC2AugFjD58xVwDCBgeEUg/0GVFdzfHtTwNzAwPBq7nkBsMqrMJ/y\n",
       "nb3QswPMmgQmn6KHDqcCXwX24GK9wDUBuwzH3sPYJQAedDaq2AKMKwAAAABJRU5ErkJggg==\n",
       "\" style=\"display:inline;vertical-align:middle;\" /></a> <a class=\"ProveItLink\" href=\"../__pv_it/demonstrations/788b4388d04a820ccf3f8aabf02c8a8e908fbad30/proof.ipynb\" style=\"text-decoration: none\">&nbsp;&#x22A2;&nbsp;&nbsp;</a><a class=\"ProveItLink\" href=\"../__pv_it/demonstrations/b619c7382f847e9225722424e1b3924b68f0bb790/expr.ipynb\"><img src=\"data:image/png;base64,iVBORw0KGgoAAAANSUhEUgAAAEIAAAAXBAMAAABNOYSfAAAAMFBMVEX///9ERES6uroQEBAyMjLc\n",
       "3NyYmJgiIiJmZmaqqqp2dnbMzMxUVFSIiIju7u4AAAAd7oVFAAAAAXRSTlMAQObYZgAAAAlwSFlz\n",
       "AAAOxAAADsQBlSsOGwAAAR1JREFUKM9jYAADbkcGrGCLAJx5CrsKngVwpjV2FcwbYCzuv3ceYFOx\n",
       "/+45KIu3jrcBm4rrD25AWYwJbA7YVIgxpMDt4zgAF54SgOS8HiiLn4F5Akw0vQ9hxgcGSyiL/UEi\n",
       "3Op1SLbUscEChLv3AoTBt/wCsjt23AUSb++8XgW3ga89Aca6kcDwBsJs4D3LUQATPgJXy8VpwJAP\n",
       "ZrEFsP3jgWlkQKjYCdR2EOICBg6kkGCF2/KA+QKDLSwskN2GcKn+A+7fMGYAH3KcwHzbwsBrAGY8\n",
       "VDjMwIUS0tAQk2FghATz/H3NDJqokTEFHOU9DPoQN724y9k2AVukvVnbH8BAACzBL83lwGeJRZiv\n",
       "HAxA7mC/gJRGsQLO3CYIAwBriksmcjlyngAAAABJRU5ErkJggg==\n",
       "\" style=\"display:inline;vertical-align:middle;\" /></a></span>"
      ],
      "text/plain": [
       "{b in RealNonNeg, x in Real, y in Real, x > 0, y > x} |- x^{b} <= y^{b}"
      ]
     },
     "metadata": {},
     "output_type": "display_data"
    }
   ],
   "source": [
    "# Case (3): non-neg exponent, Less relation\n",
    "exp_x_b.bound_via_operand_bound(Less(x, y))"
   ]
  },
  {
   "cell_type": "code",
   "execution_count": 80,
   "metadata": {},
   "outputs": [
    {
     "data": {
      "text/html": [
       "<span style=\"font-size:20px;\"><a class=\"ProveItLink\" href=\"../__pv_it/demonstrations/5a49c1d91f28aca05c3a7748e24771596ea841e40/expr.ipynb\"><img src=\"data:image/png;base64,iVBORw0KGgoAAAANSUhEUgAAAEYAAAAUBAMAAADCRlZLAAAAMFBMVEX///+YmJjMzMzc3NyIiIhU\n",
       "VFR2dna6urqqqqpmZmYyMjIiIiIQEBBERETu7u4AAAD7tRWPAAAAAXRSTlMAQObYZgAAAAlwSFlz\n",
       "AAAOxAAADsQBlSsOGwAAATdJREFUKM9jYMAFdAvAVJobA27Al9sAJBkd2C/gUcTgK8DAwKPA8Bmf\n",
       "GgZZBwb7BwwnMCWkzt5ffVYAwpYx0H/AsJGB784GNEUXTBlKZR+AWM+uMwDVHGFg4JqArsaMgZcp\n",
       "AMiwDGIA2fWDgYG/AVMNp8ECBgZToBKom+sfwLyxe/cCuJoLDE8ngzgsDuxAI7OhSqr8EOawvgtg\n",
       "eAfhpXkCzVjqEgFiM69Dsku3ywAlOH89eA8S4IKLXrBZ/dsPxYUc/xh4HEBqkNws+AoUX3eBAKKR\n",
       "cwEDfwKQ1tkNBBcgangfCqCYw53AUA/y/Vskc5gm3ENRAwye+SDfcyOHzyRbVDUKfAchAYGk5i0L\n",
       "imWsAryQyFgBV2PJwChwHcXvYRMhjKfXH8Di/TLD3fUNWFNL2W1IXGAAANC6XS1uoy9DAAAAAElF\n",
       "TkSuQmCC\n",
       "\" style=\"display:inline;vertical-align:middle;\" /></a>, <a class=\"ProveItLink\" href=\"../../ordering/__pv_it/theorems/d1323f34847310a404e8089c2c268d3c2eb89dbf0/expr.ipynb\"><img src=\"data:image/png;base64,iVBORw0KGgoAAAANSUhEUgAAADQAAAAQBAMAAACra0H4AAAAMFBMVEX///9ERES6uroQEBAyMjLc\n",
       "3NyYmJgiIiJmZmaqqqp2dnbMzMxUVFSIiIju7u4AAAAd7oVFAAAAAXRSTlMAQObYZgAAAAlwSFlz\n",
       "AAAOxAAADsQBlSsOGwAAAMtJREFUGNNjYMAAbM6CX4rFGLACRtYDTMfkcEgtYBDYg1OqlQVF6GJ5\n",
       "uQNcihFZRuUekq5zb4CMt3der5oApFn9kAzklnQFMhp4z3IUAGmWAISUSX3tA6AvAtj+8SSApJCc\n",
       "sSwPZCk3AwfYbobN5UAgADVQLg0sxnwBTD1EdvwOxgcgln4AH4hmR5bi2ArU/1DhMAMXSID3ApIU\n",
       "n8A1Bob5+5oZNMEingipBoY0RgWGF3c52yaARd4IPYCF/McARpGfyMGhJQ4JKCgAAF8xNF8aQs/g\n",
       "AAAAAElFTkSuQmCC\n",
       "\" style=\"display:inline;vertical-align:middle;\" /></a>, <a class=\"ProveItLink\" href=\"../__pv_it/demonstrations/4c5fb6064ed81f83132c10d4b7f508806e4b6da20/expr.ipynb\"><img src=\"data:image/png;base64,iVBORw0KGgoAAAANSUhEUgAAADMAAAAQBAMAAABJt1qBAAAAMFBMVEX///9mZmYQEBCqqqq6urpU\n",
       "VFRERER2dnaIiIgyMjLu7u6YmJjc3NwiIiLMzMwAAAD9v49RAAAAAXRSTlMAQObYZgAAAAlwSFlz\n",
       "AAAOxAAADsQBlSsOGwAAAMRJREFUGNNjYMAAO9Xy56ptYMAKEo4yuG5bgF3qOAMbXwAuKcYDE1CE\n",
       "2u7enQCXSkCW8exC6GJdBTKQ7+6D0yABnllIBj6zPABkrGxPB1vJeQAudWjuX7AJpxjYwQ7lRHLG\n",
       "7pUQFlcVmHp0FwgSIFJsqyFePgFRsQxJF59AFojBsoEBbCAvsr/kjoEYxgwMYGdwNCBJLeMAmsiX\n",
       "nlH7ACwyGS51kIF7QwoDAzuD0RSIyNKUBbCQz2FIm2+AHBzuuXeRQw4AFjNAQQWGph8AAAAASUVO\n",
       "RK5CYII=\n",
       "\" style=\"display:inline;vertical-align:middle;\" /></a>, <a class=\"ProveItLink\" href=\"../../number_sets/real_numbers/__pv_it/theorems/0c04c146b0f7b92967ed28917fb83981f8ee0b1b0/expr.ipynb\"><img src=\"data:image/png;base64,iVBORw0KGgoAAAANSUhEUgAAADEAAAAQBAMAAABNQoq8AAAAMFBMVEX///9ERES6uroQEBAyMjLc\n",
       "3NyYmJgiIiJmZmaqqqp2dnbMzMxUVFSIiIju7u4AAAAd7oVFAAAAAXRSTlMAQObYZgAAAAlwSFlz\n",
       "AAAOxAAADsQBlSsOGwAAAMFJREFUGNNjYMAGVt0IwCrOwDKBrxS7TDoDw0Ik7pMEOFOGgWH+A4QM\n",
       "3/ILMOYPBob9ExgY3t55vWoCWOD6OqgakAzQhAbesxwFUPP7wBTrL6DMBQa2ALZ/PDArprTCZRYw\n",
       "cDNwOCAsUzkHMg0oow+ylPkCkowc1AXzQVbrB/DBnDjlKJgSZGDIf8DwUOEwAxfMh60QOpmBoQWo\n",
       "bV8zgyYDiqsZ2CfwWTMwvLjL2Qb2Dt91uH18XXc2IIXO8wQGIgEAisM3iEYrHlYAAAAASUVORK5C\n",
       "YII=\n",
       "\" style=\"display:inline;vertical-align:middle;\" /></a>, <a class=\"ProveItLink\" href=\"../__pv_it/demonstrations/50829647483a75a463faf4f86a138ea19ac5a80e0/expr.ipynb\"><img src=\"data:image/png;base64,iVBORw0KGgoAAAANSUhEUgAAADEAAAAQBAMAAABNQoq8AAAAMFBMVEX///9ERES6uroQEBAyMjLc\n",
       "3NyYmJgiIiJmZmaqqqp2dnbMzMxUVFSIiIju7u4AAAAd7oVFAAAAAXRSTlMAQObYZgAAAAlwSFlz\n",
       "AAAOxAAADsQBlSsOGwAAAKJJREFUGNNjYEABnK4M2AFbxQPsErxVOCRe1aLy3955vWoCiPGiDC62\n",
       "vZo1gYGhgfcsRwGQ98YTLsHnu3AN0NIAtn88QAUMPAgZ1gcM6xgYuBk4HCD8iDIkK8FOYb6A4QJW\n",
       "iJB+AN8DNFerMfAxMDxUOMzAheZTzgkMPAwM8/c1M2giQscbRG5ceKsa6Iu7nG0T0Ly8gNNEgYEy\n",
       "8LwcBKrhfADOTS0opwGYDAAAAABJRU5ErkJggg==\n",
       "\" style=\"display:inline;vertical-align:middle;\" /></a> <a class=\"ProveItLink\" href=\"../__pv_it/demonstrations/7141c421ad2534754f7b4fa374a69453ac2b84500/proof.ipynb\" style=\"text-decoration: none\">&nbsp;&#x22A2;&nbsp;&nbsp;</a><a class=\"ProveItLink\" href=\"../__pv_it/demonstrations/95f00a851b4bcc1e45364374bc9b8254441b5b1f0/expr.ipynb\"><img src=\"data:image/png;base64,iVBORw0KGgoAAAANSUhEUgAAAEIAAAAWBAMAAACGZVc6AAAAMFBMVEX///9ERES6uroQEBAyMjLc\n",
       "3NyYmJgiIiJmZmaqqqp2dnbMzMxUVFSIiIju7u4AAAAd7oVFAAAAAXRSTlMAQObYZgAAAAlwSFlz\n",
       "AAAOxAAADsQBlSsOGwAAAQRJREFUKM9jYAADbkcGrGCLAJx5CrsKngVwpjV2FcwbYCzuv3ceYFOx\n",
       "/+45KIu3jrcBm4rrD25AWYwJbA7YVIgxpMDt4zgAF54SgOS8HiiLn4F5Akw0vQ9hxgcGSyiL/UEi\n",
       "3Op1SLbUscEChLv3AoTBt/wCsjt23AUSb++8XgW3ga89AR4A5RvCIKwG3rMcBTAFR+BqGZ7ckoI4\n",
       "ni2A7R8PXCOSijgGLkggcjNwIIUEK8IWBj64k5mR3Ybk0li4oH4AH3KcwHzLlMAAEX6ocJiBCyWk\n",
       "oSE2k4EB4tL5+5oZNFEjYwooyrmlZJdDov7FXc62CVjijIthshMDbQBfORhsQBYDAFyxRP4odhWA\n",
       "AAAAAElFTkSuQmCC\n",
       "\" style=\"display:inline;vertical-align:middle;\" /></a></span>"
      ],
      "text/plain": [
       "{b in RealNonNeg, x in Real, z in Real, x > 0, x <= z} |- x^{b} <= z^{b}"
      ]
     },
     "metadata": {},
     "output_type": "display_data"
    }
   ],
   "source": [
    "# Case (4): non-neg exponent, LessEq relation\n",
    "exp_x_b.bound_via_operand_bound(LessEq(x, z))"
   ]
  },
  {
   "cell_type": "code",
   "execution_count": 81,
   "metadata": {},
   "outputs": [
    {
     "data": {
      "text/html": [
       "<span style=\"font-size:20px;\"><a class=\"ProveItLink\" href=\"../__pv_it/demonstrations/d37b797075f3cbfcbe6c89399c71a9fea96cf4f90/expr.ipynb\"><img src=\"data:image/png;base64,iVBORw0KGgoAAAANSUhEUgAAAD0AAAAQBAMAAABXfmoyAAAAMFBMVEX///9UVFQyMjK6urru7u4Q\n",
       "EBBERERmZmaqqqoiIiLc3NzMzMyYmJiIiIh2dnYAAABC1PP/AAAAAXRSTlMAQObYZgAAAAlwSFlz\n",
       "AAAOxAAADsQBlSsOGwAAAMVJREFUGNNjYEAHh8LyNcMOMOAGCQsZDI854JFfx8DGLcCwLQ0IFmCX\n",
       "Z1+ggCl+beZMBbh8Aoa00RWEfkYXAYTE2zsbgCSXCpL525oQFq9sYAcZxgQXSViq+fMKQvs8BtYL\n",
       "IHkk951xQkizf4HQW2cCQQJEns0HET6sUJe6IennLkiB8/wvQGhOZP9XL4Pz+IFGGQBp3gtI8m68\n",
       "cAuAjucD+Y9BAy6/nIHnQDLcgHdnIJ5xTHaAxV8WQ5p+A0YA2mXOxAx1ABnCO709cgEtAAAAAElF\n",
       "TkSuQmCC\n",
       "\" style=\"display:inline;vertical-align:middle;\" /></a>, <a class=\"ProveItLink\" href=\"../../ordering/__pv_it/theorems/d1323f34847310a404e8089c2c268d3c2eb89dbf0/expr.ipynb\"><img src=\"data:image/png;base64,iVBORw0KGgoAAAANSUhEUgAAADQAAAAQBAMAAACra0H4AAAAMFBMVEX///9ERES6uroQEBAyMjLc\n",
       "3NyYmJgiIiJmZmaqqqp2dnbMzMxUVFSIiIju7u4AAAAd7oVFAAAAAXRSTlMAQObYZgAAAAlwSFlz\n",
       "AAAOxAAADsQBlSsOGwAAAMtJREFUGNNjYMAAbM6CX4rFGLACRtYDTMfkcEgtYBDYg1OqlQVF6GJ5\n",
       "uQNcihFZRuUekq5zb4CMt3der5oApFn9kAzklnQFMhp4z3IUAGmWAISUSX3tA6AvAtj+8SSApJCc\n",
       "sSwPZCk3AwfYbobN5UAgADVQLg0sxnwBTD1EdvwOxgcgln4AH4hmR5bi2ArU/1DhMAMXSID3ApIU\n",
       "n8A1Bob5+5oZNMEingipBoY0RgWGF3c52yaARd4IPYCF/McARpGfyMGhJQ4JKCgAAF8xNF8aQs/g\n",
       "AAAAAElFTkSuQmCC\n",
       "\" style=\"display:inline;vertical-align:middle;\" /></a>, <a class=\"ProveItLink\" href=\"../../ordering/__pv_it/theorems/5d76fdd975252a644e3e1cb067a357f9a9c8486a0/expr.ipynb\"><img src=\"data:image/png;base64,iVBORw0KGgoAAAANSUhEUgAAADMAAAATBAMAAADPIygvAAAAMFBMVEX////c3NwyMjK6urpEREQi\n",
       "IiLMzMwQEBCqqqp2dnZUVFSYmJhmZmaIiIju7u4AAADlKNhoAAAAAXRSTlMAQObYZgAAAAlwSFlz\n",
       "AAAOxAAADsQBlSsOGwAAAOBJREFUKM9jYMAAm0r8VUs2MGAFDlIMVlseYJeSZGBhW4BLikdAAUXo\n",
       "SmioAlzKAVnG6B5CF9c7oIF8dzYwvAIJMOohGZjSJMDAwMlRwLAfJMAkAJcSV/0KMiGDJ4BhCVgK\n",
       "yRm7H4HoB+wXGGpBjPRQIHCASLG8BnvZ/gHbNxD9BEkX2wE/EOMQA28BiGZF9tcxERDDi4EF7HPe\n",
       "C0hST3hBJp5isIeEpQZcSoaBe4MzkPFq7nmIs185P4CFvCODi34DiD0JqtrSNRQl5DgV+Cqwxw0D\n",
       "6wWuCTikOPYexiEDADoqNycoB77qAAAAAElFTkSuQmCC\n",
       "\" style=\"display:inline;vertical-align:middle;\" /></a>, <a class=\"ProveItLink\" href=\"../../number_sets/real_numbers/__pv_it/theorems/0c04c146b0f7b92967ed28917fb83981f8ee0b1b0/expr.ipynb\"><img src=\"data:image/png;base64,iVBORw0KGgoAAAANSUhEUgAAADEAAAAQBAMAAABNQoq8AAAAMFBMVEX///9ERES6uroQEBAyMjLc\n",
       "3NyYmJgiIiJmZmaqqqp2dnbMzMxUVFSIiIju7u4AAAAd7oVFAAAAAXRSTlMAQObYZgAAAAlwSFlz\n",
       "AAAOxAAADsQBlSsOGwAAAMFJREFUGNNjYMAGVt0IwCrOwDKBrxS7TDoDw0Ik7pMEOFOGgWH+A4QM\n",
       "3/ILMOYPBob9ExgY3t55vWoCWOD6OqgakAzQhAbesxwFUPP7wBTrL6DMBQa2ALZ/PDArprTCZRYw\n",
       "cDNwOCAsUzkHMg0oow+ylPkCkowc1AXzQVbrB/DBnDjlKJgSZGDIf8DwUOEwAxfMh60QOpmBoQWo\n",
       "bV8zgyYDiqsZ2CfwWTMwvLjL2Qb2Dt91uH18XXc2IIXO8wQGIgEAisM3iEYrHlYAAAAASUVORK5C\n",
       "YII=\n",
       "\" style=\"display:inline;vertical-align:middle;\" /></a>, <a class=\"ProveItLink\" href=\"../__pv_it/demonstrations/0f3bf2f52b0a42ebbfba310f312a43f9efc42b9e0/expr.ipynb\"><img src=\"data:image/png;base64,iVBORw0KGgoAAAANSUhEUgAAADIAAAAQBAMAAACmdTG/AAAAMFBMVEX////c3NwyMjK6urpEREQi\n",
       "IiLMzMwQEBCqqqp2dnZUVFSYmJhmZmaIiIju7u4AAADlKNhoAAAAAXRSTlMAQObYZgAAAAlwSFlz\n",
       "AAAOxAAADsQBlSsOGwAAALpJREFUGNNjYCAMHm3AJcM39QKawJ0NDK8gzKvzYGJ312XOYODkKGDY\n",
       "DxXZeg5C8zDcunCUIYMngGEJzICmg2BqI8P+B6sZHrBfYKiFm220DkQmMBwCUfYP2L4hZPwgNFjt\n",
       "IQbeArhpCyE080eGdwwMXgwsC2AugFjD58xVwDCBgeEUg/0GVFdzfHtTwNzAwPBq7nkBsMqrMJ/y\n",
       "nb3QswPMmgQmn6KHDqcCXwX24GK9wDUBuwzH3sPYJQAedDaq2AKMKwAAAABJRU5ErkJggg==\n",
       "\" style=\"display:inline;vertical-align:middle;\" /></a> <a class=\"ProveItLink\" href=\"../__pv_it/demonstrations/7840295b06822684a5412d92e1d3b123507ce7240/proof.ipynb\" style=\"text-decoration: none\">&nbsp;&#x22A2;&nbsp;&nbsp;</a><a class=\"ProveItLink\" href=\"../__pv_it/demonstrations/a31fa44aca6cad52768e5f8b0663745f1901c1ee0/expr.ipynb\"><img src=\"data:image/png;base64,iVBORw0KGgoAAAANSUhEUgAAAEMAAAAUBAMAAAAkb50PAAAAMFBMVEX///9ERES6uroQEBAyMjLc\n",
       "3NyYmJgiIiJmZmaqqqp2dnbMzMxUVFSIiIju7u4AAAAd7oVFAAAAAXRSTlMAQObYZgAAAAlwSFlz\n",
       "AAAOxAAADsQBlSsOGwAAAQRJREFUKM9jYIAArmsXGLCBtblwZhG3ATYV7AqbYUwOAb4N2JQ0MryG\n",
       "MZkVsFrDYIRg8gdgV/IVwWRRYFgApPjc0JQ4MXDBmKxtuQ9A9KtaVCURafeA5Ns7r1dNgIvxVj2A\n",
       "MPhuJDC8gQo28J7lKEDoY6uAqOHiNGDIhwoFsP3jSUAym9MD7PSdQH0HISLcDBwOqPYz+YDMecB8\n",
       "gcEWHiZoQc/kCLZK/wH3b5iQfgDfA2SLfCBh1MLAC42ThwqHEX4HOxcaijIMjAcgrPn7mhk0GTA9\n",
       "zdDDoA/1xYu7nG2IYHmLCLo3a/uxxQpfGTJvCQN+wOXAZ0lACfsFngUElHDmNkFZACf6O4sB2z4J\n",
       "AAAAAElFTkSuQmCC\n",
       "\" style=\"display:inline;vertical-align:middle;\" /></a></span>"
      ],
      "text/plain": [
       "{c in RealNeg, x in Real, y in Real, x > 0, y > x} |- x^{c} > y^{c}"
      ]
     },
     "metadata": {},
     "output_type": "display_data"
    }
   ],
   "source": [
    "# Case (5): neg exponent, Less relation\n",
    "exp_x_c.bound_via_operand_bound(Less(x, y))"
   ]
  },
  {
   "cell_type": "code",
   "execution_count": 82,
   "metadata": {},
   "outputs": [
    {
     "data": {
      "text/html": [
       "<span style=\"font-size:20px;\"><a class=\"ProveItLink\" href=\"../__pv_it/demonstrations/d37b797075f3cbfcbe6c89399c71a9fea96cf4f90/expr.ipynb\"><img src=\"data:image/png;base64,iVBORw0KGgoAAAANSUhEUgAAAD0AAAAQBAMAAABXfmoyAAAAMFBMVEX///9UVFQyMjK6urru7u4Q\n",
       "EBBERERmZmaqqqoiIiLc3NzMzMyYmJiIiIh2dnYAAABC1PP/AAAAAXRSTlMAQObYZgAAAAlwSFlz\n",
       "AAAOxAAADsQBlSsOGwAAAMVJREFUGNNjYEAHh8LyNcMOMOAGCQsZDI854JFfx8DGLcCwLQ0IFmCX\n",
       "Z1+ggCl+beZMBbh8Aoa00RWEfkYXAYTE2zsbgCSXCpL525oQFq9sYAcZxgQXSViq+fMKQvs8BtYL\n",
       "IHkk951xQkizf4HQW2cCQQJEns0HET6sUJe6IennLkiB8/wvQGhOZP9XL4Pz+IFGGQBp3gtI8m68\n",
       "cAuAjucD+Y9BAy6/nIHnQDLcgHdnIJ5xTHaAxV8WQ5p+A0YA2mXOxAx1ABnCO709cgEtAAAAAElF\n",
       "TkSuQmCC\n",
       "\" style=\"display:inline;vertical-align:middle;\" /></a>, <a class=\"ProveItLink\" href=\"../../ordering/__pv_it/theorems/d1323f34847310a404e8089c2c268d3c2eb89dbf0/expr.ipynb\"><img src=\"data:image/png;base64,iVBORw0KGgoAAAANSUhEUgAAADQAAAAQBAMAAACra0H4AAAAMFBMVEX///9ERES6uroQEBAyMjLc\n",
       "3NyYmJgiIiJmZmaqqqp2dnbMzMxUVFSIiIju7u4AAAAd7oVFAAAAAXRSTlMAQObYZgAAAAlwSFlz\n",
       "AAAOxAAADsQBlSsOGwAAAMtJREFUGNNjYMAAbM6CX4rFGLACRtYDTMfkcEgtYBDYg1OqlQVF6GJ5\n",
       "uQNcihFZRuUekq5zb4CMt3der5oApFn9kAzklnQFMhp4z3IUAGmWAISUSX3tA6AvAtj+8SSApJCc\n",
       "sSwPZCk3AwfYbobN5UAgADVQLg0sxnwBTD1EdvwOxgcgln4AH4hmR5bi2ArU/1DhMAMXSID3ApIU\n",
       "n8A1Bob5+5oZNMEingipBoY0RgWGF3c52yaARd4IPYCF/McARpGfyMGhJQ4JKCgAAF8xNF8aQs/g\n",
       "AAAAAElFTkSuQmCC\n",
       "\" style=\"display:inline;vertical-align:middle;\" /></a>, <a class=\"ProveItLink\" href=\"../__pv_it/demonstrations/4c5fb6064ed81f83132c10d4b7f508806e4b6da20/expr.ipynb\"><img src=\"data:image/png;base64,iVBORw0KGgoAAAANSUhEUgAAADMAAAAQBAMAAABJt1qBAAAAMFBMVEX///9mZmYQEBCqqqq6urpU\n",
       "VFRERER2dnaIiIgyMjLu7u6YmJjc3NwiIiLMzMwAAAD9v49RAAAAAXRSTlMAQObYZgAAAAlwSFlz\n",
       "AAAOxAAADsQBlSsOGwAAAMRJREFUGNNjYMAAO9Xy56ptYMAKEo4yuG5bgF3qOAMbXwAuKcYDE1CE\n",
       "2u7enQCXSkCW8exC6GJdBTKQ7+6D0yABnllIBj6zPABkrGxPB1vJeQAudWjuX7AJpxjYwQ7lRHLG\n",
       "7pUQFlcVmHp0FwgSIFJsqyFePgFRsQxJF59AFojBsoEBbCAvsr/kjoEYxgwMYGdwNCBJLeMAmsiX\n",
       "nlH7ACwyGS51kIF7QwoDAzuD0RSIyNKUBbCQz2FIm2+AHBzuuXeRQw4AFjNAQQWGph8AAAAASUVO\n",
       "RK5CYII=\n",
       "\" style=\"display:inline;vertical-align:middle;\" /></a>, <a class=\"ProveItLink\" href=\"../../number_sets/real_numbers/__pv_it/theorems/0c04c146b0f7b92967ed28917fb83981f8ee0b1b0/expr.ipynb\"><img src=\"data:image/png;base64,iVBORw0KGgoAAAANSUhEUgAAADEAAAAQBAMAAABNQoq8AAAAMFBMVEX///9ERES6uroQEBAyMjLc\n",
       "3NyYmJgiIiJmZmaqqqp2dnbMzMxUVFSIiIju7u4AAAAd7oVFAAAAAXRSTlMAQObYZgAAAAlwSFlz\n",
       "AAAOxAAADsQBlSsOGwAAAMFJREFUGNNjYMAGVt0IwCrOwDKBrxS7TDoDw0Ik7pMEOFOGgWH+A4QM\n",
       "3/ILMOYPBob9ExgY3t55vWoCWOD6OqgakAzQhAbesxwFUPP7wBTrL6DMBQa2ALZ/PDArprTCZRYw\n",
       "cDNwOCAsUzkHMg0oow+ylPkCkowc1AXzQVbrB/DBnDjlKJgSZGDIf8DwUOEwAxfMh60QOpmBoQWo\n",
       "bV8zgyYDiqsZ2CfwWTMwvLjL2Qb2Dt91uH18XXc2IIXO8wQGIgEAisM3iEYrHlYAAAAASUVORK5C\n",
       "YII=\n",
       "\" style=\"display:inline;vertical-align:middle;\" /></a>, <a class=\"ProveItLink\" href=\"../__pv_it/demonstrations/50829647483a75a463faf4f86a138ea19ac5a80e0/expr.ipynb\"><img src=\"data:image/png;base64,iVBORw0KGgoAAAANSUhEUgAAADEAAAAQBAMAAABNQoq8AAAAMFBMVEX///9ERES6uroQEBAyMjLc\n",
       "3NyYmJgiIiJmZmaqqqp2dnbMzMxUVFSIiIju7u4AAAAd7oVFAAAAAXRSTlMAQObYZgAAAAlwSFlz\n",
       "AAAOxAAADsQBlSsOGwAAAKJJREFUGNNjYEABnK4M2AFbxQPsErxVOCRe1aLy3955vWoCiPGiDC62\n",
       "vZo1gYGhgfcsRwGQ98YTLsHnu3AN0NIAtn88QAUMPAgZ1gcM6xgYuBk4HCD8iDIkK8FOYb6A4QJW\n",
       "iJB+AN8DNFerMfAxMDxUOMzAheZTzgkMPAwM8/c1M2giQscbRG5ceKsa6Iu7nG0T0Ly8gNNEgYEy\n",
       "8LwcBKrhfADOTS0opwGYDAAAAABJRU5ErkJggg==\n",
       "\" style=\"display:inline;vertical-align:middle;\" /></a> <a class=\"ProveItLink\" href=\"../__pv_it/demonstrations/411062223282f8f9a85ee9f1ad74e810f07f2dbd0/proof.ipynb\" style=\"text-decoration: none\">&nbsp;&#x22A2;&nbsp;&nbsp;</a><a class=\"ProveItLink\" href=\"../__pv_it/demonstrations/41690b6ad6769c039c728f0045de2e34fe258fdf0/expr.ipynb\"><img src=\"data:image/png;base64,iVBORw0KGgoAAAANSUhEUgAAAEMAAAATBAMAAAA5aq23AAAAMFBMVEX///9ERES6uroQEBAyMjLc\n",
       "3NyYmJgiIiJmZmaqqqp2dnbMzMxUVFSIiIju7u4AAAAd7oVFAAAAAXRSTlMAQObYZgAAAAlwSFlz\n",
       "AAAOxAAADsQBlSsOGwAAAOhJREFUKM9jYIAArmsXGLCBtblwZhG3ATYV7AqbYUwOAb4N2JQ0MryG\n",
       "MZkVwBSfG5oSIwSTPwBCv6pFVfIVwWRRYFgAZvBWPUBW4sTABWOytuVCpdhQ1ESk3QOSb++8XjUB\n",
       "SZTTA2Ipd/mGMKhQA+9ZjgJkw5l8wOY8uSV1AGpwANs/ngQUJY5gJXEMXFAruRk4HFA8wekD9R3f\n",
       "OrgYM0rQs1XAnBuLENQP4EN4AuFppgQGKPOhwmGE35GDbiYDA9S58/c1M2jChJEigFtKdjk02l7c\n",
       "5WybgCUCuRgmOzHQDPCVgwFq0gEA5Xs5SpwlVuQAAAAASUVORK5CYII=\n",
       "\" style=\"display:inline;vertical-align:middle;\" /></a></span>"
      ],
      "text/plain": [
       "{c in RealNeg, x in Real, z in Real, x > 0, x <= z} |- x^{c} >= z^{c}"
      ]
     },
     "metadata": {},
     "output_type": "display_data"
    }
   ],
   "source": [
    "# Case (6): neg exponent, LessEq relation\n",
    "exp_x_c.bound_via_operand_bound(LessEq(x, z))"
   ]
  },
  {
   "cell_type": "code",
   "execution_count": 83,
   "metadata": {},
   "outputs": [
    {
     "data": {
      "text/html": [
       "<span style=\"font-size:20px;\"><a class=\"ProveItLink\" href=\"../__pv_it/demonstrations/c11edfb8c3790213d064d89b83469fb287a4937b0/expr.ipynb\"><img src=\"data:image/png;base64,iVBORw0KGgoAAAANSUhEUgAAAEgAAAAUBAMAAADcj2b4AAAAMFBMVEX///+YmJhERESIiIhUVFTc\n",
       "3NwiIiJ2dnbu7u66urqqqqpmZmYQEBAyMjLMzMwAAAA7oY0NAAAAAXRSTlMAQObYZgAAAAlwSFlz\n",
       "AAAOxAAADsQBlSsOGwAAAThJREFUKM9jYMALFgUwlJszEFBjwMBowKmAV42QAAMDzwOGr/jUGC0A\n",
       "EvENDKewyMke0r92CGjGG5AahvcNDIkgmu/OBhRVCiEMU4QaGLjUGyCKDoNF+RegKgpnYOJzYGDg\n",
       "BKkCWvcLLDq/AV0Rd8AFkBXeAQiHl0EdmpZ2Aa4I7G9WlwZmA04HsOxtMDnXAmESSwdEhpWBodwa\n",
       "aA+rux3YUtYbSNY9WhuA4oI5AUw/QDQvXFgh5to3CxQ1HAcZuMEu4UVyuGAvkHqkBAQQndwfGNgK\n",
       "QIw3aUCgAFHE1CiAYhKPAkP/BBCjCckkvg0aKIr6DRjkwQw25HDaF4SqaAGDLxfIZmYDJEVNzCj2\n",
       "MRlwZXODWbfgiqIZGAU0UXznXBdiB2a1aDbAUoEqg9L9BdjTz3Q1SLRgAACl2Eq2zZQeOAAAAABJ\n",
       "RU5ErkJggg==\n",
       "\" style=\"display:inline;vertical-align:middle;\" /></a>, <a class=\"ProveItLink\" href=\"../../ordering/__pv_it/theorems/d1323f34847310a404e8089c2c268d3c2eb89dbf0/expr.ipynb\"><img src=\"data:image/png;base64,iVBORw0KGgoAAAANSUhEUgAAADQAAAAQBAMAAACra0H4AAAAMFBMVEX///9ERES6uroQEBAyMjLc\n",
       "3NyYmJgiIiJmZmaqqqp2dnbMzMxUVFSIiIju7u4AAAAd7oVFAAAAAXRSTlMAQObYZgAAAAlwSFlz\n",
       "AAAOxAAADsQBlSsOGwAAAMtJREFUGNNjYMAAbM6CX4rFGLACRtYDTMfkcEgtYBDYg1OqlQVF6GJ5\n",
       "uQNcihFZRuUekq5zb4CMt3der5oApFn9kAzklnQFMhp4z3IUAGmWAISUSX3tA6AvAtj+8SSApJCc\n",
       "sSwPZCk3AwfYbobN5UAgADVQLg0sxnwBTD1EdvwOxgcgln4AH4hmR5bi2ArU/1DhMAMXSID3ApIU\n",
       "n8A1Bob5+5oZNMEingipBoY0RgWGF3c52yaARd4IPYCF/McARpGfyMGhJQ4JKCgAAF8xNF8aQs/g\n",
       "AAAAAElFTkSuQmCC\n",
       "\" style=\"display:inline;vertical-align:middle;\" /></a>, <a class=\"ProveItLink\" href=\"../../ordering/__pv_it/theorems/5d76fdd975252a644e3e1cb067a357f9a9c8486a0/expr.ipynb\"><img src=\"data:image/png;base64,iVBORw0KGgoAAAANSUhEUgAAADMAAAATBAMAAADPIygvAAAAMFBMVEX////c3NwyMjK6urpEREQi\n",
       "IiLMzMwQEBCqqqp2dnZUVFSYmJhmZmaIiIju7u4AAADlKNhoAAAAAXRSTlMAQObYZgAAAAlwSFlz\n",
       "AAAOxAAADsQBlSsOGwAAAOBJREFUKM9jYMAAm0r8VUs2MGAFDlIMVlseYJeSZGBhW4BLikdAAUXo\n",
       "SmioAlzKAVnG6B5CF9c7oIF8dzYwvAIJMOohGZjSJMDAwMlRwLAfJMAkAJcSV/0KMiGDJ4BhCVgK\n",
       "yRm7H4HoB+wXGGpBjPRQIHCASLG8BnvZ/gHbNxD9BEkX2wE/EOMQA28BiGZF9tcxERDDi4EF7HPe\n",
       "C0hST3hBJp5isIeEpQZcSoaBe4MzkPFq7nmIs185P4CFvCODi34DiD0JqtrSNRQl5DgV+Cqwxw0D\n",
       "6wWuCTikOPYexiEDADoqNycoB77qAAAAAElFTkSuQmCC\n",
       "\" style=\"display:inline;vertical-align:middle;\" /></a>, <a class=\"ProveItLink\" href=\"../../number_sets/real_numbers/__pv_it/theorems/0c04c146b0f7b92967ed28917fb83981f8ee0b1b0/expr.ipynb\"><img src=\"data:image/png;base64,iVBORw0KGgoAAAANSUhEUgAAADEAAAAQBAMAAABNQoq8AAAAMFBMVEX///9ERES6uroQEBAyMjLc\n",
       "3NyYmJgiIiJmZmaqqqp2dnbMzMxUVFSIiIju7u4AAAAd7oVFAAAAAXRSTlMAQObYZgAAAAlwSFlz\n",
       "AAAOxAAADsQBlSsOGwAAAMFJREFUGNNjYMAGVt0IwCrOwDKBrxS7TDoDw0Ik7pMEOFOGgWH+A4QM\n",
       "3/ILMOYPBob9ExgY3t55vWoCWOD6OqgakAzQhAbesxwFUPP7wBTrL6DMBQa2ALZ/PDArprTCZRYw\n",
       "cDNwOCAsUzkHMg0oow+ylPkCkowc1AXzQVbrB/DBnDjlKJgSZGDIf8DwUOEwAxfMh60QOpmBoQWo\n",
       "bV8zgyYDiqsZ2CfwWTMwvLjL2Qb2Dt91uH18XXc2IIXO8wQGIgEAisM3iEYrHlYAAAAASUVORK5C\n",
       "YII=\n",
       "\" style=\"display:inline;vertical-align:middle;\" /></a>, <a class=\"ProveItLink\" href=\"../__pv_it/demonstrations/0f3bf2f52b0a42ebbfba310f312a43f9efc42b9e0/expr.ipynb\"><img src=\"data:image/png;base64,iVBORw0KGgoAAAANSUhEUgAAADIAAAAQBAMAAACmdTG/AAAAMFBMVEX////c3NwyMjK6urpEREQi\n",
       "IiLMzMwQEBCqqqp2dnZUVFSYmJhmZmaIiIju7u4AAADlKNhoAAAAAXRSTlMAQObYZgAAAAlwSFlz\n",
       "AAAOxAAADsQBlSsOGwAAALpJREFUGNNjYCAMHm3AJcM39QKawJ0NDK8gzKvzYGJ312XOYODkKGDY\n",
       "DxXZeg5C8zDcunCUIYMngGEJzICmg2BqI8P+B6sZHrBfYKiFm220DkQmMBwCUfYP2L4hZPwgNFjt\n",
       "IQbeArhpCyE080eGdwwMXgwsC2AugFjD58xVwDCBgeEUg/0GVFdzfHtTwNzAwPBq7nkBsMqrMJ/y\n",
       "nb3QswPMmgQmn6KHDqcCXwX24GK9wDUBuwzH3sPYJQAedDaq2AKMKwAAAABJRU5ErkJggg==\n",
       "\" style=\"display:inline;vertical-align:middle;\" /></a> <a class=\"ProveItLink\" href=\"../__pv_it/demonstrations/32c47496fe7e0682f1a3f153a7c8dcffec5a3c010/proof.ipynb\" style=\"text-decoration: none\">&nbsp;&#x22A2;&nbsp;&nbsp;</a><a class=\"ProveItLink\" href=\"../__pv_it/demonstrations/b0ae0b0af1c0566fd826c54a0e9a037c29abd50c0/expr.ipynb\"><img src=\"data:image/png;base64,iVBORw0KGgoAAAANSUhEUgAAAEUAAAAXBAMAAACv5Z/mAAAAMFBMVEX///9ERES6uroQEBAyMjLc\n",
       "3NyYmJgiIiJmZmaqqqp2dnbMzMxUVFSIiIju7u4AAAAd7oVFAAAAAXRSTlMAQObYZgAAAAlwSFlz\n",
       "AAAOxAAADsQBlSsOGwAAARZJREFUKM9jYICB9RsYsAJk8XjsSlDEL+JQgxB/leuLVQWSOF8p929s\n",
       "SpDFORq4P2BTgyzOrMArAKKfJKCqgYmDwPsAxnsPQGYvv4CiBiYOVh+wfxuEfX0dijlwcQYGpra5\n",
       "y6DMdGRFUPG3d16vmoCsd0ormHrbxsB3ACrUwHuWowDFESrnQOSCyQxsUD+xBbD940H1jYockOCe\n",
       "0M7AA/UTNwOHA6p/pxwFhx6DLQMz3JPMqN5N74M69x/DfniU6wfwPUAogfsdaPxlKPOhwmEGLkT8\n",
       "IMKQ8QCDDJQ5f18zgyZcDVJccBxg+gZlvrjL2TYBa5SfuvGVgSDgciCkYgnDY6zmMzwvB4FqELOW\n",
       "4RRBm6bdUICyAArfVX5jw5JAAAAAAElFTkSuQmCC\n",
       "\" style=\"display:inline;vertical-align:middle;\" /></a></span>"
      ],
      "text/plain": [
       "{d in RealNonPos, x in Real, y in Real, x > 0, y > x} |- x^{d} >= y^{d}"
      ]
     },
     "metadata": {},
     "output_type": "display_data"
    }
   ],
   "source": [
    "# Case (7): non-pos exponent, Less relation\n",
    "exp_x_d.bound_via_operand_bound(Less(x, y))"
   ]
  },
  {
   "cell_type": "code",
   "execution_count": 84,
   "metadata": {},
   "outputs": [
    {
     "data": {
      "text/html": [
       "<span style=\"font-size:20px;\"><a class=\"ProveItLink\" href=\"../__pv_it/demonstrations/c11edfb8c3790213d064d89b83469fb287a4937b0/expr.ipynb\"><img src=\"data:image/png;base64,iVBORw0KGgoAAAANSUhEUgAAAEgAAAAUBAMAAADcj2b4AAAAMFBMVEX///+YmJhERESIiIhUVFTc\n",
       "3NwiIiJ2dnbu7u66urqqqqpmZmYQEBAyMjLMzMwAAAA7oY0NAAAAAXRSTlMAQObYZgAAAAlwSFlz\n",
       "AAAOxAAADsQBlSsOGwAAAThJREFUKM9jYMALFgUwlJszEFBjwMBowKmAV42QAAMDzwOGr/jUGC0A\n",
       "EvENDKewyMke0r92CGjGG5AahvcNDIkgmu/OBhRVCiEMU4QaGLjUGyCKDoNF+RegKgpnYOJzYGDg\n",
       "BKkCWvcLLDq/AV0Rd8AFkBXeAQiHl0EdmpZ2Aa4I7G9WlwZmA04HsOxtMDnXAmESSwdEhpWBodwa\n",
       "aA+rux3YUtYbSNY9WhuA4oI5AUw/QDQvXFgh5to3CxQ1HAcZuMEu4UVyuGAvkHqkBAQQndwfGNgK\n",
       "QIw3aUCgAFHE1CiAYhKPAkP/BBCjCckkvg0aKIr6DRjkwQw25HDaF4SqaAGDLxfIZmYDJEVNzCj2\n",
       "MRlwZXODWbfgiqIZGAU0UXznXBdiB2a1aDbAUoEqg9L9BdjTz3Q1SLRgAACl2Eq2zZQeOAAAAABJ\n",
       "RU5ErkJggg==\n",
       "\" style=\"display:inline;vertical-align:middle;\" /></a>, <a class=\"ProveItLink\" href=\"../../ordering/__pv_it/theorems/d1323f34847310a404e8089c2c268d3c2eb89dbf0/expr.ipynb\"><img src=\"data:image/png;base64,iVBORw0KGgoAAAANSUhEUgAAADQAAAAQBAMAAACra0H4AAAAMFBMVEX///9ERES6uroQEBAyMjLc\n",
       "3NyYmJgiIiJmZmaqqqp2dnbMzMxUVFSIiIju7u4AAAAd7oVFAAAAAXRSTlMAQObYZgAAAAlwSFlz\n",
       "AAAOxAAADsQBlSsOGwAAAMtJREFUGNNjYMAAbM6CX4rFGLACRtYDTMfkcEgtYBDYg1OqlQVF6GJ5\n",
       "uQNcihFZRuUekq5zb4CMt3der5oApFn9kAzklnQFMhp4z3IUAGmWAISUSX3tA6AvAtj+8SSApJCc\n",
       "sSwPZCk3AwfYbobN5UAgADVQLg0sxnwBTD1EdvwOxgcgln4AH4hmR5bi2ArU/1DhMAMXSID3ApIU\n",
       "n8A1Bob5+5oZNMEingipBoY0RgWGF3c52yaARd4IPYCF/McARpGfyMGhJQ4JKCgAAF8xNF8aQs/g\n",
       "AAAAAElFTkSuQmCC\n",
       "\" style=\"display:inline;vertical-align:middle;\" /></a>, <a class=\"ProveItLink\" href=\"../__pv_it/demonstrations/4c5fb6064ed81f83132c10d4b7f508806e4b6da20/expr.ipynb\"><img src=\"data:image/png;base64,iVBORw0KGgoAAAANSUhEUgAAADMAAAAQBAMAAABJt1qBAAAAMFBMVEX///9mZmYQEBCqqqq6urpU\n",
       "VFRERER2dnaIiIgyMjLu7u6YmJjc3NwiIiLMzMwAAAD9v49RAAAAAXRSTlMAQObYZgAAAAlwSFlz\n",
       "AAAOxAAADsQBlSsOGwAAAMRJREFUGNNjYMAAO9Xy56ptYMAKEo4yuG5bgF3qOAMbXwAuKcYDE1CE\n",
       "2u7enQCXSkCW8exC6GJdBTKQ7+6D0yABnllIBj6zPABkrGxPB1vJeQAudWjuX7AJpxjYwQ7lRHLG\n",
       "7pUQFlcVmHp0FwgSIFJsqyFePgFRsQxJF59AFojBsoEBbCAvsr/kjoEYxgwMYGdwNCBJLeMAmsiX\n",
       "nlH7ACwyGS51kIF7QwoDAzuD0RSIyNKUBbCQz2FIm2+AHBzuuXeRQw4AFjNAQQWGph8AAAAASUVO\n",
       "RK5CYII=\n",
       "\" style=\"display:inline;vertical-align:middle;\" /></a>, <a class=\"ProveItLink\" href=\"../../number_sets/real_numbers/__pv_it/theorems/0c04c146b0f7b92967ed28917fb83981f8ee0b1b0/expr.ipynb\"><img src=\"data:image/png;base64,iVBORw0KGgoAAAANSUhEUgAAADEAAAAQBAMAAABNQoq8AAAAMFBMVEX///9ERES6uroQEBAyMjLc\n",
       "3NyYmJgiIiJmZmaqqqp2dnbMzMxUVFSIiIju7u4AAAAd7oVFAAAAAXRSTlMAQObYZgAAAAlwSFlz\n",
       "AAAOxAAADsQBlSsOGwAAAMFJREFUGNNjYMAGVt0IwCrOwDKBrxS7TDoDw0Ik7pMEOFOGgWH+A4QM\n",
       "3/ILMOYPBob9ExgY3t55vWoCWOD6OqgakAzQhAbesxwFUPP7wBTrL6DMBQa2ALZ/PDArprTCZRYw\n",
       "cDNwOCAsUzkHMg0oow+ylPkCkowc1AXzQVbrB/DBnDjlKJgSZGDIf8DwUOEwAxfMh60QOpmBoQWo\n",
       "bV8zgyYDiqsZ2CfwWTMwvLjL2Qb2Dt91uH18XXc2IIXO8wQGIgEAisM3iEYrHlYAAAAASUVORK5C\n",
       "YII=\n",
       "\" style=\"display:inline;vertical-align:middle;\" /></a>, <a class=\"ProveItLink\" href=\"../__pv_it/demonstrations/50829647483a75a463faf4f86a138ea19ac5a80e0/expr.ipynb\"><img src=\"data:image/png;base64,iVBORw0KGgoAAAANSUhEUgAAADEAAAAQBAMAAABNQoq8AAAAMFBMVEX///9ERES6uroQEBAyMjLc\n",
       "3NyYmJgiIiJmZmaqqqp2dnbMzMxUVFSIiIju7u4AAAAd7oVFAAAAAXRSTlMAQObYZgAAAAlwSFlz\n",
       "AAAOxAAADsQBlSsOGwAAAKJJREFUGNNjYEABnK4M2AFbxQPsErxVOCRe1aLy3955vWoCiPGiDC62\n",
       "vZo1gYGhgfcsRwGQ98YTLsHnu3AN0NIAtn88QAUMPAgZ1gcM6xgYuBk4HCD8iDIkK8FOYb6A4QJW\n",
       "iJB+AN8DNFerMfAxMDxUOMzAheZTzgkMPAwM8/c1M2giQscbRG5ceKsa6Iu7nG0T0Ly8gNNEgYEy\n",
       "8LwcBKrhfADOTS0opwGYDAAAAABJRU5ErkJggg==\n",
       "\" style=\"display:inline;vertical-align:middle;\" /></a> <a class=\"ProveItLink\" href=\"../__pv_it/demonstrations/f573de0e0738fd78cb698fa7a2588130bc7285950/proof.ipynb\" style=\"text-decoration: none\">&nbsp;&#x22A2;&nbsp;&nbsp;</a><a class=\"ProveItLink\" href=\"../__pv_it/demonstrations/90e7d1af5add4c216fcf1fdeb31abd9928159bea0/expr.ipynb\"><img src=\"data:image/png;base64,iVBORw0KGgoAAAANSUhEUgAAAEUAAAAWBAMAAABkuUxDAAAAMFBMVEX///9ERES6uroQEBAyMjLc\n",
       "3NyYmJgiIiJmZmaqqqp2dnbMzMxUVFSIiIju7u4AAAAd7oVFAAAAAXRSTlMAQObYZgAAAAlwSFlz\n",
       "AAAOxAAADsQBlSsOGwAAAPZJREFUKM9jYICB9RsYsAJk8XjsSlDEL+JQgxB/leuLVQWSOF8p929s\n",
       "SpDFORq4P2BTgyzOrMArAKKfJKCqgYmDwPsAxnsPQGYvv4CiBiYOVh+wfxuEfX0dijlwcQYGpra5\n",
       "y6DMdGRFUPG3d16vmoCsd0orhN5ezQpzXQPvWY4CFEeonAN723fhGqgAWwDbPx5U36jIgUjWBwww\n",
       "W7kZOBxQ/TvlKCyMHyDcjurd9D4ogxVJXD+AD6EBye9qDHxQ1kOFwwxciPhBhCHnBAYeKHP+vmYG\n",
       "TbgapLjYuPBWNZT54i5n2wRs0bmA00SBgZbgeTkIVKMKAgBWQEykJIUDBAAAAABJRU5ErkJggg==\n",
       "\" style=\"display:inline;vertical-align:middle;\" /></a></span>"
      ],
      "text/plain": [
       "{d in RealNonPos, x in Real, z in Real, x > 0, x <= z} |- x^{d} >= z^{d}"
      ]
     },
     "metadata": {},
     "output_type": "display_data"
    }
   ],
   "source": [
    "# Case (8): non-pos exponent, LessEq relation\n",
    "exp_x_d.bound_via_operand_bound(LessEq(x, z))"
   ]
  },
  {
   "cell_type": "code",
   "execution_count": 85,
   "metadata": {},
   "outputs": [
    {
     "data": {
      "text/html": [
       "<span style=\"font-size:20px;\"><a class=\"ProveItLink\" href=\"../__pv_it/demonstrations/73586126c0d9ccc72d664cd083067455b00bb2fb0/expr.ipynb\"><img src=\"data:image/png;base64,iVBORw0KGgoAAAANSUhEUgAAAEAAAAAQBAMAAABUyWQaAAAAMFBMVEX///9ERETc3Ny6uroyMjIi\n",
       "IiLMzMwQEBCqqqp2dnZUVFSYmJhmZmaIiIju7u4AAACfX4gyAAAAAXRSTlMAQObYZgAAAAlwSFlz\n",
       "AAAOxAAADsQBlSsOGwAAANhJREFUKM9jYMAA3O6CX8KlGfAARqYFzKvl8CqYwCCQxcAmCARCuBQc\n",
       "YsEicTE01AGugBFT3uQekgnrXsGE+e5sYOB6AGQw+SFZwSbhBONxchQw7AcxWBQQCkriYx/AeBk8\n",
       "AQxLwAqQHDl7nwOc94D9AkMtiJEeCgQCUCvkdiPcZv+A6RuIfojszRxGuBUMRxl4P4BoVmQFPEkC\n",
       "cK4UA6PAPiDNewFJAZ/AbbiCUwzpEyaAGB4IBQcYdjMawLiv5jatTQAzhB/AYvOjAqPID8ygtBQN\n",
       "dcAQBACTLDObTLUz3AAAAABJRU5ErkJggg==\n",
       "\" style=\"display:inline;vertical-align:middle;\" /></a>, <a class=\"ProveItLink\" href=\"../__pv_it/demonstrations/6047dafbc38478dd08f74d0ff64bf4cd5e49db030/expr.ipynb\"><img src=\"data:image/png;base64,iVBORw0KGgoAAAANSUhEUgAAAD8AAAAQBAMAAABTi7oPAAAAMFBMVEX///+6urrc3NxEREQyMjJm\n",
       "ZmbMzMxUVFQQEBCqqqoiIiKYmJh2dnaIiIju7u4AAACeM2cLAAAAAXRSTlMAQObYZgAAAAlwSFlz\n",
       "AAAOxAAADsQBlSsOGwAAANFJREFUKM9jYMAAW5rtvZo3MOABBuoM4psf4FOgw8DMVsCQbAwECjgU\n",
       "sCo4YJG4vGqVA1yBAaa8yD2ECezvCmDCfHc2MKwEMZj8kKxIngK3nIezgaEdxGCBCxloeP26Bzc4\n",
       "k9WBYQ5YAZIjdz9B2PyA4wJDJoiRsQoIDCAKmF8jBdT8BwwXQPRjJBPYAuwQCqIYGA6AaC7kcAhT\n",
       "RigwZ+AEO4/3ApKCx7wIO44w6EIYnnAFqgzcGwzhCliroYqfGz6AxaYRg7H/BMyglLFahRkDAPD+\n",
       "MvoA4awiAAAAAElFTkSuQmCC\n",
       "\" style=\"display:inline;vertical-align:middle;\" /></a>, <a class=\"ProveItLink\" href=\"../__pv_it/demonstrations/0c63194c87f26ca64603ef5a984a91e27b902bef0/expr.ipynb\"><img src=\"data:image/png;base64,iVBORw0KGgoAAAANSUhEUgAAADEAAAAOBAMAAAB0nulXAAAAMFBMVEX///9ERETc3Ny6uroyMjIi\n",
       "IiLMzMwQEBCqqqp2dnZUVFSYmJhmZmaIiIju7u4AAACfX4gyAAAAAXRSTlMAQObYZgAAAAlwSFlz\n",
       "AAAOxAAADsQBlSsOGwAAAKRJREFUGNNjYCAScDjhkOCOeYDg8N3ZwMAF5fNGQhhvZzOwNjBwchQw\n",
       "7IdIvIyFqp7QzsC+gCGDJ4BhCZivEw2VYGs4wsAxgeEB+wWGWhCfywNuAVCArYGBwf4B0zdUGQaO\n",
       "fwy8QOooA+8HVNMYgBZwAikpBkaBfaguYFzA0ASkTjGkT5gAEXkbC3E1pwPTBSD1am7T2gSYT6Ee\n",
       "OrUbMxCciAhCADuKKFP+huzbAAAAAElFTkSuQmCC\n",
       "\" style=\"display:inline;vertical-align:middle;\" /></a> <a class=\"ProveItLink\" href=\"../__pv_it/demonstrations/721966161f2702218dde90e2fce176a8d423da390/proof.ipynb\" style=\"text-decoration: none\">&nbsp;&#x22A2;&nbsp;&nbsp;</a><a class=\"ProveItLink\" href=\"../__pv_it/demonstrations/9a6c437165d9f39cdaa87af591fac44215611cd80/expr.ipynb\"><img src=\"data:image/png;base64,iVBORw0KGgoAAAANSUhEUgAAAEQAAAAVBAMAAAAN71XTAAAAMFBMVEX///9ERETc3Ny6uroyMjIi\n",
       "IiLMzMwQEBCqqqp2dnZUVFSYmJhmZmaIiIju7u4AAACfX4gyAAAAAXRSTlMAQObYZgAAAAlwSFlz\n",
       "AAAOxAAADsQBlSsOGwAAAPZJREFUKM9jYAADvpmrHjBgAUjiPAw8AdiUIInzGzB9w6YESZz7AXYl\n",
       "KOKcWC1CEU99gF0JQpxJDrsKJHEdBiWsShDiTGJp50D0kw1ohkDFgYD9//8P4KCaegFFCVic784G\n",
       "Bi4kp16dB2W8nc3A2gDxFEcBw35kjVuhJk9oZ2BfAGZlAEN4CYrhLYdAJFvDEQaOCWCBB+wXGGpR\n",
       "3WiyDuQqoCgbxCIGe4ywNwGHBcc/Bl6owFEG3g+oFi2CRHIAAydURIqBUWAfsnMPQWjGBQxNUKFT\n",
       "DOkTJmDxNKcDEyyMXs1tWpsAT2VXEUF3ajfWKHm6gYEcAACjkkVS4I10MwAAAABJRU5ErkJggg==\n",
       "\" style=\"display:inline;vertical-align:middle;\" /></a></span>"
      ],
      "text/plain": [
       "{u in RealNeg, v in RealNeg, u < v} |- u^{2} > v^{2}"
      ]
     },
     "metadata": {},
     "output_type": "display_data"
    }
   ],
   "source": [
    "# Case (9): exponent = 2, Less relation, negative base\n",
    "exp_u_2.bound_via_operand_bound(Less(u, v))"
   ]
  },
  {
   "cell_type": "code",
   "execution_count": 86,
   "metadata": {},
   "outputs": [
    {
     "data": {
      "text/html": [
       "<span style=\"font-size:20px;\"><a class=\"ProveItLink\" href=\"../__pv_it/demonstrations/73586126c0d9ccc72d664cd083067455b00bb2fb0/expr.ipynb\"><img src=\"data:image/png;base64,iVBORw0KGgoAAAANSUhEUgAAAEAAAAAQBAMAAABUyWQaAAAAMFBMVEX///9ERETc3Ny6uroyMjIi\n",
       "IiLMzMwQEBCqqqp2dnZUVFSYmJhmZmaIiIju7u4AAACfX4gyAAAAAXRSTlMAQObYZgAAAAlwSFlz\n",
       "AAAOxAAADsQBlSsOGwAAANhJREFUKM9jYMAA3O6CX8KlGfAARqYFzKvl8CqYwCCQxcAmCARCuBQc\n",
       "YsEicTE01AGugBFT3uQekgnrXsGE+e5sYOB6AGQw+SFZwSbhBONxchQw7AcxWBQQCkriYx/AeBk8\n",
       "AQxLwAqQHDl7nwOc94D9AkMtiJEeCgQCUCvkdiPcZv+A6RuIfojszRxGuBUMRxl4P4BoVmQFPEkC\n",
       "cK4UA6PAPiDNewFJAZ/AbbiCUwzpEyaAGB4IBQcYdjMawLiv5jatTQAzhB/AYvOjAqPID8ygtBQN\n",
       "dcAQBACTLDObTLUz3AAAAABJRU5ErkJggg==\n",
       "\" style=\"display:inline;vertical-align:middle;\" /></a>, <a class=\"ProveItLink\" href=\"../__pv_it/demonstrations/d37b797075f3cbfcbe6c89399c71a9fea96cf4f90/expr.ipynb\"><img src=\"data:image/png;base64,iVBORw0KGgoAAAANSUhEUgAAAD0AAAAQBAMAAABXfmoyAAAAMFBMVEX///9UVFQyMjK6urru7u4Q\n",
       "EBBERERmZmaqqqoiIiLc3NzMzMyYmJiIiIh2dnYAAABC1PP/AAAAAXRSTlMAQObYZgAAAAlwSFlz\n",
       "AAAOxAAADsQBlSsOGwAAAMVJREFUGNNjYEAHh8LyNcMOMOAGCQsZDI854JFfx8DGLcCwLQ0IFmCX\n",
       "Z1+ggCl+beZMBbh8Aoa00RWEfkYXAYTE2zsbgCSXCpL525oQFq9sYAcZxgQXSViq+fMKQvs8BtYL\n",
       "IHkk951xQkizf4HQW2cCQQJEns0HET6sUJe6IennLkiB8/wvQGhOZP9XL4Pz+IFGGQBp3gtI8m68\n",
       "cAuAjucD+Y9BAy6/nIHnQDLcgHdnIJ5xTHaAxV8WQ5p+A0YA2mXOxAx1ABnCO709cgEtAAAAAElF\n",
       "TkSuQmCC\n",
       "\" style=\"display:inline;vertical-align:middle;\" /></a>, <a class=\"ProveItLink\" href=\"../__pv_it/demonstrations/d3bff5c4cf69c187ada1d861dcab5bac9a56602b0/expr.ipynb\"><img src=\"data:image/png;base64,iVBORw0KGgoAAAANSUhEUgAAADEAAAAQBAMAAABNQoq8AAAAMFBMVEX///9ERETc3Ny6uroyMjIi\n",
       "IiLMzMwQEBCqqqp2dnZUVFSYmJhmZmaIiIju7u4AAACfX4gyAAAAAXRSTlMAQObYZgAAAAlwSFlz\n",
       "AAAOxAAADsQBlSsOGwAAAJxJREFUGNNjYEAFLQoM2MHWczgkrs7DLs439QIK984GBq4HYNbRDXDR\n",
       "ubcTGDg5Chj2gyWWNMAlVBt4BBgyeAIYloC5SDKRDOwXGB4AcS2YywQ3jecfmLJ/wPQNzQXsAmDq\n",
       "KAPvBzRXv4eokGJgFNiH6lN+oLEGDAynGNInTECETgLIHgEGTiD9am7T2gQ0P8/cfY+BMsAXCgZw\n",
       "gwHMry3vJuVjBwAAAABJRU5ErkJggg==\n",
       "\" style=\"display:inline;vertical-align:middle;\" /></a> <a class=\"ProveItLink\" href=\"../__pv_it/demonstrations/878e9b142c9e09c6d12e8fd44db2efe882c0de6f0/proof.ipynb\" style=\"text-decoration: none\">&nbsp;&#x22A2;&nbsp;&nbsp;</a><a class=\"ProveItLink\" href=\"../__pv_it/demonstrations/7f470f2b41a8d10fd84c0ada8a056f67746e76060/expr.ipynb\"><img src=\"data:image/png;base64,iVBORw0KGgoAAAANSUhEUgAAAEIAAAAWBAMAAACGZVc6AAAAMFBMVEX///9ERETc3Ny6uroyMjIi\n",
       "IiLMzMwQEBCqqqp2dnZUVFSYmJhmZmaIiIju7u4AAACfX4gyAAAAAXRSTlMAQObYZgAAAAlwSFlz\n",
       "AAAOxAAADsQBlSsOGwAAAO1JREFUKM9jYAADvpmrHjBgAiRhHgaeACwqkIT5DZi+YVGBJMz9AKsK\n",
       "FGFObLagCKc+wKoCIcwkB6aebEBVABUGAR0GJbD3pl5AUQEVBqkVSzsHYV2dh2wEXJiB/f//D1Dm\n",
       "ViQlYGG+OxsYuFBc2XII6o272yA0RwHDflTnmawD2xDBcBDMzQCG6xI0FWAPsE5gqAVzH7BfgLLg\n",
       "tiwCU+fhVtujBfhWqOsL4SJHGXg/ICmA+ZbvL1xIioFRYB88QSBC7DcDAzOEdYohfcIEmDBSqAM9\n",
       "Mg3CejW3aW0CtlidvRd7ZFIOnoaCQBiyEAB4h0dibL8c8wAAAABJRU5ErkJggg==\n",
       "\" style=\"display:inline;vertical-align:middle;\" /></a></span>"
      ],
      "text/plain": [
       "{u in RealNeg, c in RealNeg, u <= c} |- u^{2} >= c^{2}"
      ]
     },
     "metadata": {},
     "output_type": "display_data"
    }
   ],
   "source": [
    "# Case (10): exponent = 2, LessEq relation, negative base\n",
    "exp_u_2.bound_via_operand_bound(LessEq(u, c))"
   ]
  },
  {
   "cell_type": "code",
   "execution_count": 87,
   "metadata": {},
   "outputs": [
    {
     "data": {
      "text/html": [
       "<span style=\"font-size:20px;\"><a class=\"ProveItLink\" href=\"../__pv_it/demonstrations/ce2475b1f782f81129a4767b565e241c04ec25260/expr.ipynb\"><img src=\"data:image/png;base64,iVBORw0KGgoAAAANSUhEUgAAAEQAAAATBAMAAADbtrbOAAAAMFBMVEX////c3NwyMjK6urpERERU\n",
       "VFQQEBAiIiKqqqpmZmbMzMyYmJh2dnaIiIju7u4AAABkYOyCAAAAAXRSTlMAQObYZgAAAAlwSFlz\n",
       "AAAOxAAADsQBlSsOGwAAAPBJREFUKM9jYMAPJjAQBA7kK+FWc/lU5o3fFBbGAOZoPwJKDjA4LGXg\n",
       "dHFJcfHGrWQiE1ZTrpSXK8CVsGBTYnQPyZS4pzAlfHc2MKxkaH8AZDLqIVnE5aEIU8LDkcAQwmBv\n",
       "AGQyCSCUJNXXPoCF7grOAoZciCwTknNP71OA8x6wXeD6xcAJYi4rBwIHqEV+uxFu7H/Am8DAC2I9\n",
       "Qfb0SpYHcO4kBpYAhsUgFjuyEs6FCP+6MrAfYDgAYvFeQFLC53AbruQIg1kAswGYqYFQMoFhN4sB\n",
       "jMs5517kaQjzqfMDWEx/EWBx+oEtbmzcyxUwBAFsRT0CVMMEDwAAAABJRU5ErkJggg==\n",
       "\" style=\"display:inline;vertical-align:middle;\" /></a>, <a class=\"ProveItLink\" href=\"../__pv_it/demonstrations/c5724215ccb37f821d3906d1bc82f6b8b74153c40/expr.ipynb\"><img src=\"data:image/png;base64,iVBORw0KGgoAAAANSUhEUgAAADUAAAARBAMAAACP9fljAAAAMFBMVEX////c3NwyMjK6urpERERU\n",
       "VFQQEBAiIiKqqqpmZmbMzMyYmJh2dnaIiIju7u4AAABkYOyCAAAAAXRSTlMAQObYZgAAAAlwSFlz\n",
       "AAAOxAAADsQBlSsOGwAAAM9JREFUGNNjYMAKGGeqLMAU5VAEkSIMPJ8xpLgrH4CoQAaGNHQp3hqw\n",
       "FEP+A4Z4AVSpN7VQRjgDQ/wCBr47GxhWMrSDlb+sRlJXz8DAw5HAEMJgbwDkPdVAkuL6y8CwgrOA\n",
       "IZeBCWQ4K7IcewADwwO2C1y/GDjBfEkkM6eAiP4HvAkMvGhuYeAOAJGTGFgCGBaj+YGhh4ERaI0r\n",
       "A/sBhgNofuc6wMALZBxhMAtgNkCEmRaIFJ85czqQ4pxzL/I0evjU////iYEa4Hk5CFTB+QCn5TL/\n",
       "zcpS4gAAAABJRU5ErkJggg==\n",
       "\" style=\"display:inline;vertical-align:middle;\" /></a> <a class=\"ProveItLink\" href=\"../__pv_it/demonstrations/92c074f25676880e642db059b059fe785a85b8b50/proof.ipynb\" style=\"text-decoration: none\">&nbsp;&#x22A2;&nbsp;&nbsp;</a><a class=\"ProveItLink\" href=\"../__pv_it/demonstrations/4d648c855d28cebe6766f0282f439b78bfef6ba30/expr.ipynb\"><img src=\"data:image/png;base64,iVBORw0KGgoAAAANSUhEUgAAAD8AAAAWBAMAAACF0lkSAAAAMFBMVEX////c3NwyMjK6urpERERU\n",
       "VFQQEBAiIiKqqqpmZmbMzMyYmJh2dnaIiIju7u4AAABkYOyCAAAAAXRSTlMAQObYZgAAAAlwSFlz\n",
       "AAAOxAAADsQBlSsOGwAAAPtJREFUKM9jYIACvjOhDxjwAU4GzgK8CvgNGH/hVcD9gIACBgaeAgIK\n",
       "lmM6kmsCEofRD8HmUITQ7AFICiQZBOHuqYQadh1JAaPXqnlQJm8NVJ5rE5ICtv//P0BYb2rhzmYC\n",
       "KuC7s4FhJUM7woEvq+HMiyAFPBwJDCEM9gYwwacaCFs3gBSsAIZwLgOTAEyUFaGAhwGk4AHbBa5f\n",
       "wJhA+AZuxUawAob+B7wJDLxI/oU5kvECRMEkBpYAhsXI4Qf1JnNoaHzqAQYGVwb2AwwHUCMOFlBs\n",
       "IBOOMJgFMBugxgGHFjQNOIBSypx7kadxJCL/rxcYqA+el4NAFZwPAIvLPCeAnKrsAAAAAElFTkSu\n",
       "QmCC\n",
       "\" style=\"display:inline;vertical-align:middle;\" /></a></span>"
      ],
      "text/plain": [
       "{w in RealPos, w <= 2} |- w^{2} <= 4"
      ]
     },
     "metadata": {},
     "output_type": "display_data"
    }
   ],
   "source": [
    "# more concrete case\n",
    "Exp(w, two).bound_via_operand_bound(LessEq(w, two),\n",
    "            assumptions = defaults.assumptions + (LessEq(w, two),))"
   ]
  },
  {
   "cell_type": "code",
   "execution_count": 88,
   "metadata": {},
   "outputs": [
    {
     "data": {
      "text/html": [
       "<span style=\"font-size:20px;\"><a class=\"ProveItLink\" href=\"../__pv_it/demonstrations/ce2475b1f782f81129a4767b565e241c04ec25260/expr.ipynb\"><img src=\"data:image/png;base64,iVBORw0KGgoAAAANSUhEUgAAAEQAAAATBAMAAADbtrbOAAAAMFBMVEX////c3NwyMjK6urpERERU\n",
       "VFQQEBAiIiKqqqpmZmbMzMyYmJh2dnaIiIju7u4AAABkYOyCAAAAAXRSTlMAQObYZgAAAAlwSFlz\n",
       "AAAOxAAADsQBlSsOGwAAAPBJREFUKM9jYMAPJjAQBA7kK+FWc/lU5o3fFBbGAOZoPwJKDjA4LGXg\n",
       "dHFJcfHGrWQiE1ZTrpSXK8CVsGBTYnQPyZS4pzAlfHc2MKxkaH8AZDLqIVnE5aEIU8LDkcAQwmBv\n",
       "AGQyCSCUJNXXPoCF7grOAoZciCwTknNP71OA8x6wXeD6xcAJYi4rBwIHqEV+uxFu7H/Am8DAC2I9\n",
       "Qfb0SpYHcO4kBpYAhsUgFjuyEs6FCP+6MrAfYDgAYvFeQFLC53AbruQIg1kAswGYqYFQMoFhN4sB\n",
       "jMs5517kaQjzqfMDWEx/EWBx+oEtbmzcyxUwBAFsRT0CVMMEDwAAAABJRU5ErkJggg==\n",
       "\" style=\"display:inline;vertical-align:middle;\" /></a>, <a class=\"ProveItLink\" href=\"../__pv_it/demonstrations/82d21f46e6d08f37247f324e4fb5392c9e34fbd90/expr.ipynb\"><img src=\"data:image/png;base64,iVBORw0KGgoAAAANSUhEUgAAADUAAAARBAMAAACP9fljAAAAMFBMVEX////c3NwyMjK6urpERERU\n",
       "VFQQEBAiIiKqqqpmZmbMzMyYmJh2dnaIiIju7u4AAABkYOyCAAAAAXRSTlMAQObYZgAAAAlwSFlz\n",
       "AAAOxAAADsQBlSsOGwAAAL9JREFUGNNjYMABuCZginEoQmj2AAwp7soHEMZ1DDneGqgU1yZ0uTe1\n",
       "MBYPE1CO784GhpUM7WDlL6vhqi6C5Hg4EhhCGOwNgPynGnApxg0guRWcBQy5DEwCQAFWhBwPA0ju\n",
       "AdsFrl8MnGARSbiZG8FyDP0PeBMYeFHdwngBIjeJgSWAYTGqH5hDQ+NTDzAwuDKwH2A4gOF3NpC+\n",
       "IwxmAcwGiDDTgtD8DkCCc869yNMYYcfp//UCAxXA83IQqILzAWUTL3NzbG0gAAAAAElFTkSuQmCC\n",
       "\" style=\"display:inline;vertical-align:middle;\" /></a>, <a class=\"ProveItLink\" href=\"../__pv_it/demonstrations/b81f23cbc19214bc0d12c5782815f1e5a21c4f410/expr.ipynb\"><img src=\"data:image/png;base64,iVBORw0KGgoAAAANSUhEUgAAADMAAAAqBAMAAADsVn5KAAAAMFBMVEX///+qqqq6urpERESYmJgQ\n",
       "EBDc3Nx2dnaIiIgyMjJmZmZUVFTu7u4iIiLMzMwAAAAz/ewvAAAAAXRSTlMAQObYZgAAAAlwSFlz\n",
       "AAAOxAAADsQBlSsOGwAAAPdJREFUOMtjYGB4e4ABO+DZNR+XFAND/6gUEqhPwCWzO362AwMJoLwL\n",
       "l1GcAjzXcEj5MjAUI/NPIqy0ZmCQR3Y3T20DjPmLgeG9AIo5vTVQRSApNGf7rgFTbN+BUg1o9ksu\n",
       "g0sVMPwHgQ9wOc09IAOBUvrouhg0baDOkBdAN3AbmDJmYPBHC3TfZRDalYFhJQNWxzPwCvDEoaTj\n",
       "XrjNPMu7HwCprJV2EP5Z9LhhM2CoV8AeyNwJDKwB2KVY/zBwf8Oh6wID9z+csc37AacURiAjwG2c\n",
       "MlwGOKW8ccowFjCk4ZB6zsDQg12G7daqVRdweAoY/xOwygAAAOBNEgg5l/kAAAAASUVORK5CYII=\n",
       "\" style=\"display:inline;vertical-align:middle;\" /></a> <a class=\"ProveItLink\" href=\"../__pv_it/demonstrations/0014464e814321a9dcaacf4cb8a3cb8f3bc493ca0/proof.ipynb\" style=\"text-decoration: none\">&nbsp;&#x22A2;&nbsp;&nbsp;</a><a class=\"ProveItLink\" href=\"../__pv_it/demonstrations/63011b6a98e7c5e18c2966948ea8c3163bd735ca0/expr.ipynb\"><img src=\"data:image/png;base64,iVBORw0KGgoAAAANSUhEUgAAAFcAAAAYBAMAAAB96HzmAAAAMFBMVEX///8QEBCIiIiYmJgiIiKq\n",
       "qqru7u5mZmYyMjLc3Ny6urpUVFRERER2dnbMzMwAAAA+bm1bAAAAAXRSTlMAQObYZgAAAAlwSFlz\n",
       "AAAOxAAADsQBlSsOGwAAAUdJREFUOMtjYCAG8P0HgQ9EqWXgecBAPHiDzSIgwKp4FwkWcTbgtQgV\n",
       "sC/AaxEqyAARz3FaxMDA2olgl4IIb5wWMTC7J8DZbA5Agskb1SIkwOSLUMvAawAkHnejWoQAuU4w\n",
       "VhQQs4AYF7qRLGLTNQD6IQRsYLoz3AYJIKEEYkzoRrKIl1WAYQ/DepDbs1vhVjy7Dwx/kJMnM3Qj\n",
       "WfSU3YFBiIFjApDHjVDMkL+BgVkB5AqwYphFCYwKfP8Y2MEqpjsjguknAwvQacwTwIrhFsUnMAkw\n",
       "MKF7kPM7QyyQmsQAcQbMogoGng0MrzCC7nxCG5BcvXv3x70IixhOM7BcADoNPVLWqxZAGNJIFjHc\n",
       "YVi4gQsRkax9EJpDYgKE8QfJIgb2WrXtlzETEetvCF3zfxOKRdhBJwoPbhExAGYRHKS4gIAfMRbh\n",
       "AQBG7V8TOk6UeQAAAABJRU5ErkJggg==\n",
       "\" style=\"display:inline;vertical-align:middle;\" /></a></span>"
      ],
      "text/plain": [
       "{w in RealPos, w <= 4, (1 / 2) > 0} |- sqrt(w) <= sqrt(4)"
      ]
     },
     "metadata": {},
     "output_type": "display_data"
    }
   ],
   "source": [
    "# more concrete case\n",
    "from proveit.numbers import four\n",
    "Exp(w, frac(one, two)).bound_via_operand_bound(LessEq(w, four),\n",
    "            assumptions = defaults.assumptions + \n",
    "                (LessEq(w, four), greater(frac(one, two), zero)))"
   ]
  },
  {
   "cell_type": "code",
   "execution_count": 89,
   "metadata": {},
   "outputs": [
    {
     "data": {
      "text/html": [
       "<span style=\"font-size:20px;\"><a class=\"ProveItLink\" href=\"../__pv_it/demonstrations/ce2475b1f782f81129a4767b565e241c04ec25260/expr.ipynb\"><img src=\"data:image/png;base64,iVBORw0KGgoAAAANSUhEUgAAAEQAAAATBAMAAADbtrbOAAAAMFBMVEX////c3NwyMjK6urpERERU\n",
       "VFQQEBAiIiKqqqpmZmbMzMyYmJh2dnaIiIju7u4AAABkYOyCAAAAAXRSTlMAQObYZgAAAAlwSFlz\n",
       "AAAOxAAADsQBlSsOGwAAAPBJREFUKM9jYMAPJjAQBA7kK+FWc/lU5o3fFBbGAOZoPwJKDjA4LGXg\n",
       "dHFJcfHGrWQiE1ZTrpSXK8CVsGBTYnQPyZS4pzAlfHc2MKxkaH8AZDLqIVnE5aEIU8LDkcAQwmBv\n",
       "AGQyCSCUJNXXPoCF7grOAoZciCwTknNP71OA8x6wXeD6xcAJYi4rBwIHqEV+uxFu7H/Am8DAC2I9\n",
       "Qfb0SpYHcO4kBpYAhsUgFjuyEs6FCP+6MrAfYDgAYvFeQFLC53AbruQIg1kAswGYqYFQMoFhN4sB\n",
       "jMs5517kaQjzqfMDWEx/EWBx+oEtbmzcyxUwBAFsRT0CVMMEDwAAAABJRU5ErkJggg==\n",
       "\" style=\"display:inline;vertical-align:middle;\" /></a>, <a class=\"ProveItLink\" href=\"../__pv_it/demonstrations/72b0ed1b9b4758dee42a17a3ffbe756b7551b2950/expr.ipynb\"><img src=\"data:image/png;base64,iVBORw0KGgoAAAANSUhEUgAAADUAAAAQBAMAAABEqSrGAAAAMFBMVEX////c3NwyMjK6urpERERU\n",
       "VFQQEBAiIiKqqqpmZmbMzMyYmJh2dnaIiIju7u4AAABkYOyCAAAAAXRSTlMAQObYZgAAAAlwSFlz\n",
       "AAAOxAAADsQBlSsOGwAAAMNJREFUGNNjYMABuCYw4ATsAbjlrqPKPdqAZOQmVDm+4xfgbB4moBzf\n",
       "nQ0MKxnaH0AMOgeTuwiS4+FIYAhhsDeACG2fB6EZN4DkVnAWMOQyMAlA1TdNhBjJAJJ7wHaB6xcD\n",
       "J9wiozgQuREsx9D/gDeBgRch5wcy8gJEbhIDSwDDYphUUyCIZA4NjU89wMDgysB+gOEAVGr7RJgi\n",
       "NpC+IwxmAcxQZyL8wMDvACQ459yLPA3x+3WE3zn9v15ADpfnGxiIBgBLRS8mCb/Y9gAAAABJRU5E\n",
       "rkJggg==\n",
       "\" style=\"display:inline;vertical-align:middle;\" /></a> <a class=\"ProveItLink\" href=\"../__pv_it/demonstrations/f369640c6dc26d319aa53b5110cbc955c416cb050/proof.ipynb\" style=\"text-decoration: none\">&nbsp;&#x22A2;&nbsp;&nbsp;</a><a class=\"ProveItLink\" href=\"../__pv_it/demonstrations/226a98196e3c24da544089997b3b6757a0f91be60/expr.ipynb\"><img src=\"data:image/png;base64,iVBORw0KGgoAAAANSUhEUgAAAEYAAAAVBAMAAAAJGoXuAAAAMFBMVEX////c3NwyMjK6urpERERU\n",
       "VFQQEBAiIiKqqqpmZmbMzMyYmJh2dnaIiIju7u4AAABkYOyCAAAAAXRSTlMAQObYZgAAAAlwSFlz\n",
       "AAAOxAAADsQBlSsOGwAAASBJREFUKM9jYIAC6d4oBiyAccfVBXBODMM1bGpYD/AmwDmrGI5jU8O1\n",
       "gKcAiVvNgBWwb0CwL13AqoRXF4nD54upYCUQP0HWu34BhppSkIt+wU3JYpDfgGFPKcOzBYy/4fw6\n",
       "hm0PQGq1kdSsVmVgf8CdB+evuRsIpt/UItQcUGXgOntVgIHvzgag09ofICyogbF5BVQhDB6OBIYQ\n",
       "BnsDhG7uSqgiaQaomhWcBQy5DEwCSM7g0ITwDsDUPGC7APQdJ4p/mFVBJnELwNQw9D8AxhovqhoV\n",
       "kBpZBriaSQwsAQyLkZVwqILtMg0N/RYDEXFlYD8AtBrZzXDHpULpIwxmAcxI3kL4nYHhC5TmnHMv\n",
       "8jRCyVukMJzyPxZbUuDDkYoIAQAG7EK5SwKX4wAAAABJRU5ErkJggg==\n",
       "\" style=\"display:inline;vertical-align:middle;\" /></a></span>"
      ],
      "text/plain": [
       "{w in RealPos, w > 4} |- w^{3} > 4^{3}"
      ]
     },
     "metadata": {},
     "output_type": "display_data"
    }
   ],
   "source": [
    "# more concrete case\n",
    "from proveit.numbers import four\n",
    "Exp(w, three).bound_via_operand_bound(greater(w, four),\n",
    "            assumptions = defaults.assumptions + \n",
    "                (greater(w, four),))"
   ]
  },
  {
   "cell_type": "markdown",
   "metadata": {},
   "source": [
    "### Testing `Exp.bound_via_operand_bound()` for $a^x$ where we know a relation for exponent $x$"
   ]
  },
  {
   "cell_type": "code",
   "execution_count": 90,
   "metadata": {},
   "outputs": [
    {
     "data": {
      "text/html": [
       "<strong id=\"defaults.assumptions\">defaults.assumptions:</strong> <a class=\"ProveItLink\" href=\"../__pv_it/demonstrations/ebc089cc05a4d3bbb94fbf42e98a893f8f0e1f660/expr.ipynb\"><img src=\"data:image/png;base64,iVBORw0KGgoAAAANSUhEUgAABDkAAAAVBAMAAAC+gSh5AAAAMFBMVEX///8AAAAAAAAAAAAAAAAA\n",
       "AAAAAAAAAAAAAAAAAAAAAAAAAAAAAAAAAAAAAAAAAAAv3aB7AAAAD3RSTlMAInZUiRDNmWbv3US7\n",
       "qzJazP2FAAAACXBIWXMAAA7EAAAOxAGVKw4bAAAHhUlEQVRo3u2ZXWwUVRTHz35Md9vdbjfESCQS\n",
       "l0oDEoE1waq8sEFEQqpOiICQ1i4QghAri0GCPMgaozbGhEoMMYixQRTcGNz4QeTBdNHUDz7CWlsp\n",
       "CSZL0BARI1jbGDXEe2fmzty5M2fudDcQH3ofutv97fmfc+45c+feWQBIwsSYGM6h9UUw/X8IJbrx\n",
       "5Nj731QD4aV9pzfty1dHazOWBCbBtdAbMT6if+a5s0uq/qp82+tgiXdxTY4lNub8G8YD5dhwv/6+\n",
       "fa8HdI7SVPj8VRXzaqcS4/FRWWASXAu9ASNILgsl60aUM5vZnNSJJYaObaOopI01pf0bxgMZKP1m\n",
       "/LPBCzpLeBPEE2XMq0AlxuOissAkuBaKj9CaalpBecL52XqACLJwzlWREtOuGvXoOI71qf4N6WRs\n",
       "qTP+GfGCbiWMJLOYV4FKjMdFZYFJcC0Uv5sdVKtaKR7d7/joZYB6pH/M7jAme0UeLzLGlsoMybiz\n",
       "UMiakxHXP4uxrwWPF94ToSVmQL2EJbtXS1igEmPwYywJzD0pv1QiLVkdggfUcawO3pb1KrQi/WN2\n",
       "hzHZytIUWmSMbZAZAhxp4S6VoQ79fdjY6sTWqk7IhglpCRuXl+1eLWGBSozBh7EkMCQpn1QiLVkd\n",
       "XFYAX0zTFdujLg9byUtgcFpK7B+zO7qav9ffzHrAWeSFMysYCwzOGcENpy6cpH1pPbeQJr40Loq6\n",
       "gdna7exm1QUypyakJbzcmrR7tYR5umw7wBBgxsr0PLyDGlN6EearaGBK89BP9+NJEd9KGaVw6XAg\n",
       "L5fmasT0eLrykHWqMPRg2ezHF6Xt1TUT5SlZkzYkbYmGy0DXm6PJ+KjYl6w7lDG105jbV54Rizwl\n",
       "HSlhzBJ1gbHX4DR1UJe0pmrPh/sNn53rlav0dY0bZE6t5bV0y6a/WwSvljBPM/dB9ApgxuFQD7yF\n",
       "GlN6DvqKaGARmJ3aAWhSzLc7Vda2PQRyaW4FMHOxaMc6azlnepALDkR67dU1E7VRUpUulU80mqU9\n",
       "pLwB5jeM/rG6IzQK9ezW0LpFKPIBnFFRczvnMFyVB30iuU3YkhfZ9xeosJu+Zt0gc5rlto7dK0Dw\n",
       "WudGE+kd0JgFzPgCMZ2HGl8gc7TbqK1rYM/DLnUYTUrzXUJTDqigr7De0jD5EAh6HG20usPUiyaj\n",
       "o415e3XNRO0UYk+qfKKkS94kvXcFGjL2/rG6gwg1mfDIkK3IEX4bITJeVISwkxaZjF8KZJSMhbS/\n",
       "26DbAP6kE7CXwA9EaDi1IClh/LG84NUS5qhCstY6y91YJewCakxo4hq5TtHAKjRuNCnTt3vKZFFQ\n",
       "fUhb9Tf1OGr1jqkHCe4iZdU1E7XTUFfSlmjiCu2O+hJ0Fu39Y3UHmew+80x7pN9W5Hp+N+9klqgI\n",
       "YR8o/2jPvfgD3MW4ylaHGN08KCU3aDi1IClhItcveG13o/QwdFsFNaZrVgo3XqAGeyAIaGCgL3hY\n",
       "UsT37xWUQiAFPqS51YHpcZTfeQbMs0B9iusOvbosURs1dxUs0VgPvbN0pmCX0D9WdzSlYSeLsfU7\n",
       "+w2ik/PrwnahUPnDuGc28FMVOV9ijzv0BaLXDTKnvfxDieduFbw2uFF6A52LG9ObXQY33gbxMvwK\n",
       "aGAQuwrL8aTIRXoHTuEzshrIpbnVgenxlNt5Mj2AvqSiCtVlifLUOpGwREO98AWZ0jT8EEoa/ZPk\n",
       "dqX0600Vci83NpdbuM0l9d1EFt0iwjhRJ1RGyP3/LvpBipsMpTRT93mN7kvIaHaDzGkzX8L2YN7u\n",
       "1RLmKM36ZFTFjOEU6BG7G5+i66g+qW6BKScae3TsnhTxfQqnoTQ0+pDmVgddT6DmCqDp0bDbi2ch\n",
       "bDKjIFqidsqdd1mi0RKQnW08FToYEU+0jxDzMbqW5eM58WAaJieKTnK/ImeHcAVhlqgLJD05P6fJ\n",
       "rrMmIwfd8aLmcxi+1k+2aRfInJoQSpMhmj8heF3nQiFSTrweBswYFsMkwI3b4Gg5VkQDC11b2RNL\n",
       "A5pUpBz7C6eX26Yf9iNNzqDGQUbTc1Dy71PA9GjYC35+Fj4Wn3dpidoo/6yMJRrJwCVCBh6eOkd3\n",
       "bH7jx7e78lCgnTm4Xb8ZzDJ7vvHs2DA00B/UFnW3YMwUdTXsmH5+QOurjhMq+0ny32T8qxHNZ8eD\n",
       "+k5QOfepE5pODUh/SD0GJzenbV5NYZ6SZG43gnIzhsiwsQN1NY5sbTmzBNDAlKdT97xgN7fFrQzO\n",
       "uIrTTGhP0Y+09dRK13NQdt6lejTslc2h7WkQqqslaqfcYIk2EIWKdUY+JD6y5R6erRZ/j7nbH/OG\n",
       "AJ8cL2QxnxBrM553+4ESYTutyVgSGJZUOOsjZZk0bQ/jmQjVC3n+qsKH7aiuIylxTCGucjgOe9lm\n",
       "qmTe0NunJ5QIe9PajCWBaXgxrEpXY4xRXe86zgjQm8YxHC/z+sk3VR3zht4+vaG3sMRtTcaSwHS8\n",
       "HwarMsaormejq+mjlMLhapJSNNNChfsoULKdvx3DSzxYJfOG3j69obewxG1NxpLAdHzvjGJVxhjV\n",
       "9a7fjEA8aXtsMjEmBjemAfwHzN2aP6rs2ksAAAAASUVORK5CYII=\n",
       "\" style=\"display:inline;vertical-align:middle;\" /></a><br>"
      ],
      "text/plain": [
       "<IPython.core.display.HTML object>"
      ]
     },
     "metadata": {},
     "output_type": "display_data"
    }
   ],
   "source": [
    "from proveit import a, b, c, d, u, v, w, x, y, z, defaults\n",
    "from proveit.numbers import greater, greater_eq, Less, LessEq, RealNeg, RealNonNeg\n",
    "defaults.assumptions = [greater(a, one), greater(b, one), greater(c, one), greater(d, one),\n",
    "                        InSet(a, Real), InSet(b, Real), InSet(c, Real),\n",
    "                        InSet(d, Real), InSet(u, Real), InSet(v, Real), InSet(w, Real),\n",
    "                        InSet(x, Real), InSet(y, Real), InSet(z, Real),\n",
    "                        Less(x, y), LessEq(x, z), greater(x, v), greater_eq(x, w)]"
   ]
  },
  {
   "cell_type": "code",
   "execution_count": 91,
   "metadata": {},
   "outputs": [
    {
     "data": {
      "text/html": [
       "<strong id=\"exp_a_x\">exp_a_x:</strong> <a class=\"ProveItLink\" href=\"../__pv_it/demonstrations/c0bfa9a2bea475825dfd225c79a8a1dd1ed67c870/expr.ipynb\"><img src=\"data:image/png;base64,iVBORw0KGgoAAAANSUhEUgAAABQAAAAQBAMAAADkNkIoAAAAMFBMVEX////MzMwyMjKqqqoiIiJm\n",
       "ZmaYmJju7u5EREQQEBC6urqIiIh2dnZUVFTc3NwAAAAqL9KcAAAAAXRSTlMAQObYZgAAAAlwSFlz\n",
       "AAAOxAAADsQBlSsOGwAAAHBJREFUCNdjYAAD7q2v4yAshn28DcpQZgLHBgEok4H/AYzFIMkAZfNN\n",
       "OMQQABWMXrO7AChyZ98GqMDKBxzfISz2aQysDhAm6wcGlgMQJmcDQ/0CCLN+A0M+VFe9AcMlZojx\n",
       "HBuYXVmhJtw++HYjmAUA3Eob1SVjCIgAAAAASUVORK5CYII=\n",
       "\" style=\"display:inline;vertical-align:middle;\" /></a><br>"
      ],
      "text/plain": [
       "<IPython.core.display.HTML object>"
      ]
     },
     "metadata": {},
     "output_type": "display_data"
    },
    {
     "data": {
      "text/html": [
       "<strong id=\"exp_b_x\">exp_b_x:</strong> <a class=\"ProveItLink\" href=\"../__pv_it/demonstrations/9c3a73819c4adb701884e3a6b43929d2becc5d0c0/expr.ipynb\"><img src=\"data:image/png;base64,iVBORw0KGgoAAAANSUhEUgAAABIAAAAQBAMAAADpKDJvAAAAMFBMVEX///+YmJjMzMzc3NyIiIhU\n",
       "VFR2dna6urqqqqpmZmYyMjIiIiIQEBBERETu7u4AAAD7tRWPAAAAAXRSTlMAQObYZgAAAAlwSFlz\n",
       "AAAOxAAADsQBlSsOGwAAAIZJREFUCNdjYACBkgCGADCDz+Ef0wEGvjsbGJhfbGC5wMDANYGBgTWB\n",
       "1YGBgb+BgYG7gEeBgaH+AZClUA9Ung3EHBNvAcmlLhEMjxkuAk349eC9QQj7AqDEPwYeh0I3oCTn\n",
       "Agb+BLD53AkM9Q1gFtC4+Q8gLAW+g2AGA6sA7wQIiy9sIoQBAECyHcIcQtO2AAAAAElFTkSuQmCC\n",
       "\" style=\"display:inline;vertical-align:middle;\" /></a><br>"
      ],
      "text/plain": [
       "<IPython.core.display.HTML object>"
      ]
     },
     "metadata": {},
     "output_type": "display_data"
    },
    {
     "data": {
      "text/html": [
       "<strong id=\"exp_c_x\">exp_c_x:</strong> <a class=\"ProveItLink\" href=\"../__pv_it/demonstrations/a4ab0d3722eb59c3b2bb1932e3773e3f99a4354e0/expr.ipynb\"><img src=\"data:image/png;base64,iVBORw0KGgoAAAANSUhEUgAAABEAAAAQBAMAAAACH4lsAAAALVBMVEX///8yMjK6urru7u4QEBBE\n",
       "RERmZmaqqqoiIiLc3NzMzMyYmJiIiIh2dnYAAADVx3JEAAAAAXRSTlMAQObYZgAAAAlwSFlzAAAO\n",
       "xAAADsQBlSsOGwAAAFtJREFUCNdjYAABrsZJCmAGA9uiawxQwHkBxloDYzBt4DSAsCZWqULFkrdI\n",
       "gqg7pxdA+DMK2AIgrF4GlgMQQx/DDGAJgLHsDsBYfBsYGCC2AzXyQk25u/swmAYAzWQS+ZDp4EcA\n",
       "AAAASUVORK5CYII=\n",
       "\" style=\"display:inline;vertical-align:middle;\" /></a><br>"
      ],
      "text/plain": [
       "<IPython.core.display.HTML object>"
      ]
     },
     "metadata": {},
     "output_type": "display_data"
    },
    {
     "data": {
      "text/html": [
       "<strong id=\"exp_d_x\">exp_d_x:</strong> <a class=\"ProveItLink\" href=\"../__pv_it/demonstrations/e7fd8fcbd20ac5dfffa05e714ca71163a8aec36c0/expr.ipynb\"><img src=\"data:image/png;base64,iVBORw0KGgoAAAANSUhEUgAAABQAAAAQBAMAAADkNkIoAAAAMFBMVEX///+YmJhERESIiIhUVFTc\n",
       "3NwiIiJ2dnbu7u66urqqqqpmZmYQEBAyMjLMzMwAAAA7oY0NAAAAAXRSTlMAQObYZgAAAAlwSFlz\n",
       "AAAOxAAADsQBlSsOGwAAAHtJREFUCNdjYAADZuvgrRAWgymLwi0QzXdngwCTwQOwGP8CBv4AiPT8\n",
       "BoY3DBB2GeuBWoYNYOZths3TjRsYGFjd7X5BzZkTwPQDwuI4yMB9AcLk/sDAVgBh8igw9E+AMPsN\n",
       "GOShuvoXMPhyQYxnMuDK5oaa4FwXYgdmAQDEXRpqqQ3JdQAAAABJRU5ErkJggg==\n",
       "\" style=\"display:inline;vertical-align:middle;\" /></a><br>"
      ],
      "text/plain": [
       "<IPython.core.display.HTML object>"
      ]
     },
     "metadata": {},
     "output_type": "display_data"
    },
    {
     "data": {
      "text/html": [
       "<strong id=\"exp_2_u\">exp_2_u:</strong> <a class=\"ProveItLink\" href=\"../__pv_it/demonstrations/511ba8985c2e7d196caf688a5e9143a033697dae0/expr.ipynb\"><img src=\"data:image/png;base64,iVBORw0KGgoAAAANSUhEUgAAABMAAAAQBAMAAAAG6llRAAAAMFBMVEX///+qqqqYmJiIiIgiIiLu\n",
       "7u4QEBBUVFS6urp2dnbMzMxEREQyMjJmZmbc3NwAAADzFso2AAAAAXRSTlMAQObYZgAAAAlwSFlz\n",
       "AAAOxAAADsQBlSsOGwAAAHtJREFUCNdjYACB5gKGAjCDgdXgK1cCAwPf3dML+AIdmDcwMLxm4PzB\n",
       "wG7AbsDAUMfAkMbA1sC2ioEhP4Ch/gHbg/5gBoYSBob6BYyXxS3ABvgzwADXZziTpQDOvA1nMSEE\n",
       "JRn4HkA1TWBgDoAwn9y9ewUq7////x8ICwC3dR1swMfV4AAAAABJRU5ErkJggg==\n",
       "\" style=\"display:inline;vertical-align:middle;\" /></a><br>"
      ],
      "text/plain": [
       "<IPython.core.display.HTML object>"
      ]
     },
     "metadata": {},
     "output_type": "display_data"
    }
   ],
   "source": [
    "exp_a_x, exp_b_x, exp_c_x, exp_d_x, exp_2_u = Exp(a, x), Exp(b, y), Exp(c, z), Exp(d, x), Exp(two, u)"
   ]
  },
  {
   "cell_type": "code",
   "execution_count": 92,
   "metadata": {},
   "outputs": [
    {
     "data": {
      "text/html": [
       "<span style=\"font-size:20px;\"><a class=\"ProveItLink\" href=\"../../ordering/__pv_it/theorems/4aa8d696b1f407d6126de9f51a052e8d90e0848c0/expr.ipynb\"><img src=\"data:image/png;base64,iVBORw0KGgoAAAANSUhEUgAAADMAAAAQBAMAAABJt1qBAAAAMFBMVEX////MzMwyMjKqqqoiIiJm\n",
       "ZmaYmJju7u5EREQQEBC6urqIiIh2dnZUVFTc3NwAAAAqL9KcAAAAAXRSTlMAQObYZgAAAAlwSFlz\n",
       "AAAOxAAADsQBlSsOGwAAAM1JREFUGNNjYMAASTP6VWYkMGAFDW8Z1mYUYJd6w8DBeAGXFOsDBRSh\n",
       "HS4uCnCpBmSZRdsRunjLQQby3dm3ASTAp45koITRAyBj5QOO7yABpgdwqZcqX0AmsE9jYHUASyE5\n",
       "I60IRLN+YGA5AGJIugBBA0SKowzkZc4GhvoFIIEKJF2MAe1Aun4DQz5YgAXZX4EvQFIGDJeYQS7g\n",
       "3oAkVcENNJFjA7MrK1hEGS71lIEtoQvowtsH324Ei9R2FcBCvo+hQ98AOTjWtLgghxwApbZCEcpv\n",
       "FP8AAAAASUVORK5CYII=\n",
       "\" style=\"display:inline;vertical-align:middle;\" /></a>, <a class=\"ProveItLink\" href=\"../../ordering/__pv_it/theorems/d1323f34847310a404e8089c2c268d3c2eb89dbf0/expr.ipynb\"><img src=\"data:image/png;base64,iVBORw0KGgoAAAANSUhEUgAAADQAAAAQBAMAAACra0H4AAAAMFBMVEX///9ERES6uroQEBAyMjLc\n",
       "3NyYmJgiIiJmZmaqqqp2dnbMzMxUVFSIiIju7u4AAAAd7oVFAAAAAXRSTlMAQObYZgAAAAlwSFlz\n",
       "AAAOxAAADsQBlSsOGwAAAMtJREFUGNNjYMAAbM6CX4rFGLACRtYDTMfkcEgtYBDYg1OqlQVF6GJ5\n",
       "uQNcihFZRuUekq5zb4CMt3der5oApFn9kAzklnQFMhp4z3IUAGmWAISUSX3tA6AvAtj+8SSApJCc\n",
       "sSwPZCk3AwfYbobN5UAgADVQLg0sxnwBTD1EdvwOxgcgln4AH4hmR5bi2ArU/1DhMAMXSID3ApIU\n",
       "n8A1Bob5+5oZNMEingipBoY0RgWGF3c52yaARd4IPYCF/McARpGfyMGhJQ4JKCgAAF8xNF8aQs/g\n",
       "AAAAAElFTkSuQmCC\n",
       "\" style=\"display:inline;vertical-align:middle;\" /></a>, <a class=\"ProveItLink\" href=\"../../ordering/__pv_it/theorems/5d76fdd975252a644e3e1cb067a357f9a9c8486a0/expr.ipynb\"><img src=\"data:image/png;base64,iVBORw0KGgoAAAANSUhEUgAAADMAAAATBAMAAADPIygvAAAAMFBMVEX////c3NwyMjK6urpEREQi\n",
       "IiLMzMwQEBCqqqp2dnZUVFSYmJhmZmaIiIju7u4AAADlKNhoAAAAAXRSTlMAQObYZgAAAAlwSFlz\n",
       "AAAOxAAADsQBlSsOGwAAAOBJREFUKM9jYMAAm0r8VUs2MGAFDlIMVlseYJeSZGBhW4BLikdAAUXo\n",
       "SmioAlzKAVnG6B5CF9c7oIF8dzYwvAIJMOohGZjSJMDAwMlRwLAfJMAkAJcSV/0KMiGDJ4BhCVgK\n",
       "yRm7H4HoB+wXGGpBjPRQIHCASLG8BnvZ/gHbNxD9BEkX2wE/EOMQA28BiGZF9tcxERDDi4EF7HPe\n",
       "C0hST3hBJp5isIeEpQZcSoaBe4MzkPFq7nmIs185P4CFvCODi34DiD0JqtrSNRQl5DgV+Cqwxw0D\n",
       "6wWuCTikOPYexiEDADoqNycoB77qAAAAAElFTkSuQmCC\n",
       "\" style=\"display:inline;vertical-align:middle;\" /></a>, <a class=\"ProveItLink\" href=\"../__pv_it/demonstrations/e6ed1880d8a5adc965bd31595086d71670c4cffd0/expr.ipynb\"><img src=\"data:image/png;base64,iVBORw0KGgoAAAANSUhEUgAAADAAAAAQBAMAAACigOGCAAAAMFBMVEX////MzMwyMjKqqqoiIiJm\n",
       "ZmaYmJju7u5EREQQEBC6urqIiIh2dnZUVFTc3NwAAAAqL9KcAAAAAXRSTlMAQObYZgAAAAlwSFlz\n",
       "AAAOxAAADsQBlSsOGwAAAI5JREFUGNNjYMAGGN2xCjPUBn3HLsHAjSxRlIBDgv3IBlQJvjv7oCJb\n",
       "jqNIrHzAAdOYEo4kwT6NgdUBptIoDiHB+oGB5QDc8EXX4RKcDQz1CxAS7XCJ+g0M+XBxo3sIo+oN\n",
       "GC4xP4BaHodkOccGZldWdOfy/AO66vbBtxvBHtwC9yDvzU/XED4vSWAgCgAApVouhyH3TS4AAAAA\n",
       "SUVORK5CYII=\n",
       "\" style=\"display:inline;vertical-align:middle;\" /></a>, <a class=\"ProveItLink\" href=\"../../ordering/__pv_it/theorems/44d10bba886cb9c03d8c1d01224b9827d41c27660/expr.ipynb\"><img src=\"data:image/png;base64,iVBORw0KGgoAAAANSUhEUgAAADMAAAAQBAMAAABJt1qBAAAAMFBMVEX///9ERES6uroQEBAyMjLc\n",
       "3NyYmJgiIiJmZmaqqqp2dnbMzMxUVFSIiIju7u4AAAAd7oVFAAAAAXRSTlMAQObYZgAAAAlwSFlz\n",
       "AAAOxAAADsQBlSsOGwAAALxJREFUGNNjYCAaTAnAJZPeh8x7e+f1qglQ9vV1YIrvRgLDGyDdwHuW\n",
       "owAisvwCRAUXpwFDPgMDWwDbP54EkABrewJU806g2oMMDNwMHA4QgSMwYxkeMF9gsAUxmC+gSzHo\n",
       "P+D+DaYD+B6gGsjQwsBrwMDwUOEwAxcDqjMYZBgYDzAwzN/XzKAJFeG7fg/C6GHQB5rw4i5nG8KS\n",
       "dIjH3qztxwyVFKjQEhzBxeXAZ4lDiv0CzwIcUpy5TUASAGGrMQVvAWw0AAAAAElFTkSuQmCC\n",
       "\" style=\"display:inline;vertical-align:middle;\" /></a> <a class=\"ProveItLink\" href=\"../__pv_it/demonstrations/8535199b5893d1b8d9f676fc5a0ed08f7ba3d9510/proof.ipynb\" style=\"text-decoration: none\">&nbsp;&#x22A2;&nbsp;&nbsp;</a><a class=\"ProveItLink\" href=\"../__pv_it/theorems/359b222f800f1fdfd11cec9714b219902e6212180/expr.ipynb\"><img src=\"data:image/png;base64,iVBORw0KGgoAAAANSUhEUgAAAEUAAAASBAMAAAD/KA5VAAAAMFBMVEX////MzMwyMjKqqqoiIiJm\n",
       "ZmaYmJju7u5EREQQEBC6urqIiIh2dnZUVFTc3NwAAAAqL9KcAAAAAXRSTlMAQObYZgAAAAlwSFlz\n",
       "AAAOxAAADsQBlSsOGwAAAQZJREFUKM9jYAAD7q2v4xiwAK69DLww9j7eBmVsaqr5CyRh7ASODQLY\n",
       "1Dw3YdgB5/A/YMAK7jDchrMlGbAr8mKYCGXxTTjEEAAXZ9ZDqHHk+gBjRq/ZXQBjs7kWINSYZiiA\n",
       "zLizbwOy6dw+UCVvT79mYH/AkQBkrnzA8R1JSY03LGjmMfQX8G5YBGSyT2NgdUAoeeoGY1UmMIQw\n",
       "cGUfADJZPzCwHIAr4UWEZDwDgw+UydnAUL8Am5oZDOy/oMz6DQz5DFjsYv/NwAbzdr0BwyXmB5hu\n",
       "Zv/MwKtgB2FzbGB2ZUWJRm+I37sZTAKg4cp+++DbjSjBzwYJoNo9crcFGHABNj0GkgEAZps+2Of9\n",
       "/2kAAAAASUVORK5CYII=\n",
       "\" style=\"display:inline;vertical-align:middle;\" /></a></span>"
      ],
      "text/plain": [
       "{a in Real, x in Real, y in Real, a > 1, x < y} |- a^{x} < a^{y}"
      ]
     },
     "metadata": {},
     "output_type": "display_data"
    }
   ],
   "source": [
    "# Case (1): base > 1, Less relation\n",
    "exp_a_x.bound_via_operand_bound(Less(x, y))"
   ]
  },
  {
   "cell_type": "code",
   "execution_count": 93,
   "metadata": {},
   "outputs": [
    {
     "data": {
      "text/html": [
       "<span style=\"font-size:20px;\"><a class=\"ProveItLink\" href=\"../../ordering/__pv_it/theorems/4aa8d696b1f407d6126de9f51a052e8d90e0848c0/expr.ipynb\"><img src=\"data:image/png;base64,iVBORw0KGgoAAAANSUhEUgAAADMAAAAQBAMAAABJt1qBAAAAMFBMVEX////MzMwyMjKqqqoiIiJm\n",
       "ZmaYmJju7u5EREQQEBC6urqIiIh2dnZUVFTc3NwAAAAqL9KcAAAAAXRSTlMAQObYZgAAAAlwSFlz\n",
       "AAAOxAAADsQBlSsOGwAAAM1JREFUGNNjYMAASTP6VWYkMGAFDW8Z1mYUYJd6w8DBeAGXFOsDBRSh\n",
       "HS4uCnCpBmSZRdsRunjLQQby3dm3ASTAp45koITRAyBj5QOO7yABpgdwqZcqX0AmsE9jYHUASyE5\n",
       "I60IRLN+YGA5AGJIugBBA0SKowzkZc4GhvoFIIEKJF2MAe1Aun4DQz5YgAXZX4EvQFIGDJeYQS7g\n",
       "3oAkVcENNJFjA7MrK1hEGS71lIEtoQvowtsH324Ei9R2FcBCvo+hQ98AOTjWtLgghxwApbZCEcpv\n",
       "FP8AAAAASUVORK5CYII=\n",
       "\" style=\"display:inline;vertical-align:middle;\" /></a>, <a class=\"ProveItLink\" href=\"../../ordering/__pv_it/theorems/d1323f34847310a404e8089c2c268d3c2eb89dbf0/expr.ipynb\"><img src=\"data:image/png;base64,iVBORw0KGgoAAAANSUhEUgAAADQAAAAQBAMAAACra0H4AAAAMFBMVEX///9ERES6uroQEBAyMjLc\n",
       "3NyYmJgiIiJmZmaqqqp2dnbMzMxUVFSIiIju7u4AAAAd7oVFAAAAAXRSTlMAQObYZgAAAAlwSFlz\n",
       "AAAOxAAADsQBlSsOGwAAAMtJREFUGNNjYMAAbM6CX4rFGLACRtYDTMfkcEgtYBDYg1OqlQVF6GJ5\n",
       "uQNcihFZRuUekq5zb4CMt3der5oApFn9kAzklnQFMhp4z3IUAGmWAISUSX3tA6AvAtj+8SSApJCc\n",
       "sSwPZCk3AwfYbobN5UAgADVQLg0sxnwBTD1EdvwOxgcgln4AH4hmR5bi2ArU/1DhMAMXSID3ApIU\n",
       "n8A1Bob5+5oZNMEingipBoY0RgWGF3c52yaARd4IPYCF/McARpGfyMGhJQ4JKCgAAF8xNF8aQs/g\n",
       "AAAAAElFTkSuQmCC\n",
       "\" style=\"display:inline;vertical-align:middle;\" /></a>, <a class=\"ProveItLink\" href=\"../__pv_it/demonstrations/4c5fb6064ed81f83132c10d4b7f508806e4b6da20/expr.ipynb\"><img src=\"data:image/png;base64,iVBORw0KGgoAAAANSUhEUgAAADMAAAAQBAMAAABJt1qBAAAAMFBMVEX///9mZmYQEBCqqqq6urpU\n",
       "VFRERER2dnaIiIgyMjLu7u6YmJjc3NwiIiLMzMwAAAD9v49RAAAAAXRSTlMAQObYZgAAAAlwSFlz\n",
       "AAAOxAAADsQBlSsOGwAAAMRJREFUGNNjYMAAO9Xy56ptYMAKEo4yuG5bgF3qOAMbXwAuKcYDE1CE\n",
       "2u7enQCXSkCW8exC6GJdBTKQ7+6D0yABnllIBj6zPABkrGxPB1vJeQAudWjuX7AJpxjYwQ7lRHLG\n",
       "7pUQFlcVmHp0FwgSIFJsqyFePgFRsQxJF59AFojBsoEBbCAvsr/kjoEYxgwMYGdwNCBJLeMAmsiX\n",
       "nlH7ACwyGS51kIF7QwoDAzuD0RSIyNKUBbCQz2FIm2+AHBzuuXeRQw4AFjNAQQWGph8AAAAASUVO\n",
       "RK5CYII=\n",
       "\" style=\"display:inline;vertical-align:middle;\" /></a>, <a class=\"ProveItLink\" href=\"../__pv_it/demonstrations/e6ed1880d8a5adc965bd31595086d71670c4cffd0/expr.ipynb\"><img src=\"data:image/png;base64,iVBORw0KGgoAAAANSUhEUgAAADAAAAAQBAMAAACigOGCAAAAMFBMVEX////MzMwyMjKqqqoiIiJm\n",
       "ZmaYmJju7u5EREQQEBC6urqIiIh2dnZUVFTc3NwAAAAqL9KcAAAAAXRSTlMAQObYZgAAAAlwSFlz\n",
       "AAAOxAAADsQBlSsOGwAAAI5JREFUGNNjYMAGGN2xCjPUBn3HLsHAjSxRlIBDgv3IBlQJvjv7oCJb\n",
       "jqNIrHzAAdOYEo4kwT6NgdUBptIoDiHB+oGB5QDc8EXX4RKcDQz1CxAS7XCJ+g0M+XBxo3sIo+oN\n",
       "GC4xP4BaHodkOccGZldWdOfy/AO66vbBtxvBHtwC9yDvzU/XED4vSWAgCgAApVouhyH3TS4AAAAA\n",
       "SUVORK5CYII=\n",
       "\" style=\"display:inline;vertical-align:middle;\" /></a>, <a class=\"ProveItLink\" href=\"../__pv_it/demonstrations/50829647483a75a463faf4f86a138ea19ac5a80e0/expr.ipynb\"><img src=\"data:image/png;base64,iVBORw0KGgoAAAANSUhEUgAAADEAAAAQBAMAAABNQoq8AAAAMFBMVEX///9ERES6uroQEBAyMjLc\n",
       "3NyYmJgiIiJmZmaqqqp2dnbMzMxUVFSIiIju7u4AAAAd7oVFAAAAAXRSTlMAQObYZgAAAAlwSFlz\n",
       "AAAOxAAADsQBlSsOGwAAAKJJREFUGNNjYEABnK4M2AFbxQPsErxVOCRe1aLy3955vWoCiPGiDC62\n",
       "vZo1gYGhgfcsRwGQ98YTLsHnu3AN0NIAtn88QAUMPAgZ1gcM6xgYuBk4HCD8iDIkK8FOYb6A4QJW\n",
       "iJB+AN8DNFerMfAxMDxUOMzAheZTzgkMPAwM8/c1M2giQscbRG5ceKsa6Iu7nG0T0Ly8gNNEgYEy\n",
       "8LwcBKrhfADOTS0opwGYDAAAAABJRU5ErkJggg==\n",
       "\" style=\"display:inline;vertical-align:middle;\" /></a> <a class=\"ProveItLink\" href=\"../__pv_it/demonstrations/20ca00e669911aac0ad40f24418671d37feeb99a0/proof.ipynb\" style=\"text-decoration: none\">&nbsp;&#x22A2;&nbsp;&nbsp;</a><a class=\"ProveItLink\" href=\"../__pv_it/demonstrations/f9e2a61b50991dbd2b295782f33439480ca756880/expr.ipynb\"><img src=\"data:image/png;base64,iVBORw0KGgoAAAANSUhEUgAAAEQAAAATBAMAAADbtrbOAAAAMFBMVEX////MzMwyMjKqqqoiIiJm\n",
       "ZmaYmJju7u5EREQQEBC6urqIiIh2dnZUVFTc3NwAAAAqL9KcAAAAAXRSTlMAQObYZgAAAAlwSFlz\n",
       "AAAOxAAADsQBlSsOGwAAAP5JREFUKM9jYAAD7q2v4xiwARG9VVDWPt4GZaxKAtcEQFkJHBsEsCph\n",
       "eANn8T9AiDLrIdiMG+BMSQa4GjbXAoSSZQzPIQy+CYcYYHZy+yCp4FOWaoAyo9fshkrUeCO7hLVs\n",
       "EtB0vjv7EPYxlLrBmW9Pv4ayVj7g+A4XrkV4nWseQz/EZPZpDKwOcHFehJLKBIYQqG0fGFgOICx6\n",
       "CrconoHBB8LibGCoX4DkQLhzZzCw/4Kw6jcw5KMEJ9TT7L8Z2D5AlRgwXGJ+gKwGEnTsnxl4FezA\n",
       "AhwbmF1ZUaOFWRFEdjOYBECCk/32wbcbscVf7R652ziilgqgxAUEHFHEAE7sPE9+5NLZAAAAAElF\n",
       "TkSuQmCC\n",
       "\" style=\"display:inline;vertical-align:middle;\" /></a></span>"
      ],
      "text/plain": [
       "{a in Real, x in Real, z in Real, a > 1, x <= z} |- a^{x} <= a^{z}"
      ]
     },
     "metadata": {},
     "output_type": "display_data"
    }
   ],
   "source": [
    "# Case (2): base > 1, LessEq relation\n",
    "exp_a_x.bound_via_operand_bound(LessEq(x, z))"
   ]
  },
  {
   "cell_type": "code",
   "execution_count": 94,
   "metadata": {},
   "outputs": [
    {
     "data": {
      "text/html": [
       "<span style=\"font-size:20px;\"><a class=\"ProveItLink\" href=\"../../ordering/__pv_it/theorems/4aa8d696b1f407d6126de9f51a052e8d90e0848c0/expr.ipynb\"><img src=\"data:image/png;base64,iVBORw0KGgoAAAANSUhEUgAAADMAAAAQBAMAAABJt1qBAAAAMFBMVEX////MzMwyMjKqqqoiIiJm\n",
       "ZmaYmJju7u5EREQQEBC6urqIiIh2dnZUVFTc3NwAAAAqL9KcAAAAAXRSTlMAQObYZgAAAAlwSFlz\n",
       "AAAOxAAADsQBlSsOGwAAAM1JREFUGNNjYMAASTP6VWYkMGAFDW8Z1mYUYJd6w8DBeAGXFOsDBRSh\n",
       "HS4uCnCpBmSZRdsRunjLQQby3dm3ASTAp45koITRAyBj5QOO7yABpgdwqZcqX0AmsE9jYHUASyE5\n",
       "I60IRLN+YGA5AGJIugBBA0SKowzkZc4GhvoFIIEKJF2MAe1Aun4DQz5YgAXZX4EvQFIGDJeYQS7g\n",
       "3oAkVcENNJFjA7MrK1hEGS71lIEtoQvowtsH324Ei9R2FcBCvo+hQ98AOTjWtLgghxwApbZCEcpv\n",
       "FP8AAAAASUVORK5CYII=\n",
       "\" style=\"display:inline;vertical-align:middle;\" /></a>, <a class=\"ProveItLink\" href=\"../__pv_it/demonstrations/566226ba560b7bc90e74143ac9386548ed114a360/expr.ipynb\"><img src=\"data:image/png;base64,iVBORw0KGgoAAAANSUhEUgAAADMAAAAQBAMAAABJt1qBAAAAMFBMVEX///+6urrc3NxEREQyMjJm\n",
       "ZmbMzMxUVFQQEBCqqqoiIiKYmJh2dnaIiIju7u4AAACeM2cLAAAAAXRSTlMAQObYZgAAAAlwSFlz\n",
       "AAAOxAAADsQBlSsOGwAAAMlJREFUGNNjYMAAW5rtvZo3MGAFBuoM4psfYJfSYWBmK8AlxarggCJ0\n",
       "edUqB7iUAbKMyD2ELvZ3QAP57mxgWAkSYPJDMjB5igIDAw9nA0M7SIBFAS6l4fULZEImqwPDHLAU\n",
       "kjN2PwHRDzguMGSCGBmrgMAAIsX8Guzl+Q8YLoDox0i62ALsQIwoBoYDIJoL2V9hyiCGOQMn2AG8\n",
       "F5CkHvOCTDzCoAsR8YRLqTJwbzAEMliroaH83PABLOSNGIz9JyAHh4zVKuSQAwCy+jGrk0uImQAA\n",
       "AABJRU5ErkJggg==\n",
       "\" style=\"display:inline;vertical-align:middle;\" /></a>, <a class=\"ProveItLink\" href=\"../../ordering/__pv_it/theorems/d1323f34847310a404e8089c2c268d3c2eb89dbf0/expr.ipynb\"><img src=\"data:image/png;base64,iVBORw0KGgoAAAANSUhEUgAAADQAAAAQBAMAAACra0H4AAAAMFBMVEX///9ERES6uroQEBAyMjLc\n",
       "3NyYmJgiIiJmZmaqqqp2dnbMzMxUVFSIiIju7u4AAAAd7oVFAAAAAXRSTlMAQObYZgAAAAlwSFlz\n",
       "AAAOxAAADsQBlSsOGwAAAMtJREFUGNNjYMAAbM6CX4rFGLACRtYDTMfkcEgtYBDYg1OqlQVF6GJ5\n",
       "uQNcihFZRuUekq5zb4CMt3der5oApFn9kAzklnQFMhp4z3IUAGmWAISUSX3tA6AvAtj+8SSApJCc\n",
       "sSwPZCk3AwfYbobN5UAgADVQLg0sxnwBTD1EdvwOxgcgln4AH4hmR5bi2ArU/1DhMAMXSID3ApIU\n",
       "n8A1Bob5+5oZNMEingipBoY0RgWGF3c52yaARd4IPYCF/McARpGfyMGhJQ4JKCgAAF8xNF8aQs/g\n",
       "AAAAAElFTkSuQmCC\n",
       "\" style=\"display:inline;vertical-align:middle;\" /></a>, <a class=\"ProveItLink\" href=\"../__pv_it/demonstrations/e6ed1880d8a5adc965bd31595086d71670c4cffd0/expr.ipynb\"><img src=\"data:image/png;base64,iVBORw0KGgoAAAANSUhEUgAAADAAAAAQBAMAAACigOGCAAAAMFBMVEX////MzMwyMjKqqqoiIiJm\n",
       "ZmaYmJju7u5EREQQEBC6urqIiIh2dnZUVFTc3NwAAAAqL9KcAAAAAXRSTlMAQObYZgAAAAlwSFlz\n",
       "AAAOxAAADsQBlSsOGwAAAI5JREFUGNNjYMAGGN2xCjPUBn3HLsHAjSxRlIBDgv3IBlQJvjv7oCJb\n",
       "jqNIrHzAAdOYEo4kwT6NgdUBptIoDiHB+oGB5QDc8EXX4RKcDQz1CxAS7XCJ+g0M+XBxo3sIo+oN\n",
       "GC4xP4BaHodkOccGZldWdOfy/AO66vbBtxvBHtwC9yDvzU/XED4vSWAgCgAApVouhyH3TS4AAAAA\n",
       "SUVORK5CYII=\n",
       "\" style=\"display:inline;vertical-align:middle;\" /></a>, <a class=\"ProveItLink\" href=\"../__pv_it/demonstrations/7f050f03935fc21cb34ff6fdce6d36336271128c0/expr.ipynb\"><img src=\"data:image/png;base64,iVBORw0KGgoAAAANSUhEUgAAADEAAAAOBAMAAAB0nulXAAAAMFBMVEX///9ERES6uroQEBAyMjLc\n",
       "3NyYmJgiIiJmZmaqqqp2dnbMzMxUVFSIiIju7u4AAAAd7oVFAAAAAXRSTlMAQObYZgAAAAlwSFlz\n",
       "AAAOxAAADsQBlSsOGwAAAKVJREFUGNNjYCAMniTgkuFbfgFN5O2d16smgFnX18GEljGwA4UaeM9y\n",
       "FEBE0vsg9ILJDMwHGNgC2P7xwKyY0goiuSe0MHAuYOBm4HBAGK1yDmQjgy1QFshgRrJZRQ5Ecv5j\n",
       "4AXR+gF8D2CmHQVTQHu5GBgeKhwGURAXtEJoxgMMUxkY5u9rZtBkQHU1lwMr0IYXdznbwN7hu46w\n",
       "rycN2cfPExiIBABWfir2Y7OYgwAAAABJRU5ErkJggg==\n",
       "\" style=\"display:inline;vertical-align:middle;\" /></a> <a class=\"ProveItLink\" href=\"../__pv_it/demonstrations/453e7bf0bc9dd5b63032e2ce67066fb79b2e71400/proof.ipynb\" style=\"text-decoration: none\">&nbsp;&#x22A2;&nbsp;&nbsp;</a><a class=\"ProveItLink\" href=\"../__pv_it/demonstrations/625c7bd7934853c9057039527625e1f27e0309e50/expr.ipynb\"><img src=\"data:image/png;base64,iVBORw0KGgoAAAANSUhEUgAAAEQAAAASBAMAAAAQ6mVrAAAAMFBMVEX////MzMwyMjKqqqoiIiJm\n",
       "ZmaYmJju7u5EREQQEBC6urqIiIh2dnZUVFTc3NwAAAAqL9KcAAAAAXRSTlMAQObYZgAAAAlwSFlz\n",
       "AAAOxAAADsQBlSsOGwAAAPtJREFUKM9jYAAD7q2v4xiwAK69DGegzH28DcrYlFTzF9hCmQkcGwSw\n",
       "KXluwsADY/M/YMAK7jBIwZiSDNjVzGLYAGHwTTjEEABiFCWgKXHkWwBlRa/ZXQCi2Y9sQFWyJg1k\n",
       "wp19yMJbjsNYb0+/hrJWPuD4jqwvJRwaJPMY+sEmM7BPY2B1QDHbCBKIlQkMIRAB1g8MLAdQ7V90\n",
       "HUTGMzD4QPicDQz1C9CUtIPIGQzsvyD8+g0M+agqjO6BHfCbge0DVIkBwyVm5GBLgTiF/TMDr4Id\n",
       "mMmxgdmVFZunuxlMAgIgqm8ffLsRroB9CzyMavfI3cYWtSUJDOQAAEp6QAFHXpgCAAAAAElFTkSu\n",
       "QmCC\n",
       "\" style=\"display:inline;vertical-align:middle;\" /></a></span>"
      ],
      "text/plain": [
       "{a in Real, v in Real, x in Real, a > 1, x > v} |- a^{x} > a^{v}"
      ]
     },
     "metadata": {},
     "output_type": "display_data"
    }
   ],
   "source": [
    "# Case (3): base > 1, greater relation\n",
    "exp_a_x.bound_via_operand_bound(greater(x, v))"
   ]
  },
  {
   "cell_type": "code",
   "execution_count": 95,
   "metadata": {},
   "outputs": [
    {
     "data": {
      "text/html": [
       "<span style=\"font-size:20px;\"><a class=\"ProveItLink\" href=\"../../ordering/__pv_it/theorems/4aa8d696b1f407d6126de9f51a052e8d90e0848c0/expr.ipynb\"><img src=\"data:image/png;base64,iVBORw0KGgoAAAANSUhEUgAAADMAAAAQBAMAAABJt1qBAAAAMFBMVEX////MzMwyMjKqqqoiIiJm\n",
       "ZmaYmJju7u5EREQQEBC6urqIiIh2dnZUVFTc3NwAAAAqL9KcAAAAAXRSTlMAQObYZgAAAAlwSFlz\n",
       "AAAOxAAADsQBlSsOGwAAAM1JREFUGNNjYMAASTP6VWYkMGAFDW8Z1mYUYJd6w8DBeAGXFOsDBRSh\n",
       "HS4uCnCpBmSZRdsRunjLQQby3dm3ASTAp45koITRAyBj5QOO7yABpgdwqZcqX0AmsE9jYHUASyE5\n",
       "I60IRLN+YGA5AGJIugBBA0SKowzkZc4GhvoFIIEKJF2MAe1Aun4DQz5YgAXZX4EvQFIGDJeYQS7g\n",
       "3oAkVcENNJFjA7MrK1hEGS71lIEtoQvowtsH324Ei9R2FcBCvo+hQ98AOTjWtLgghxwApbZCEcpv\n",
       "FP8AAAAASUVORK5CYII=\n",
       "\" style=\"display:inline;vertical-align:middle;\" /></a>, <a class=\"ProveItLink\" href=\"../__pv_it/demonstrations/a7c8ff0c12601535056faf6cbd3f54f388d751000/expr.ipynb\"><img src=\"data:image/png;base64,iVBORw0KGgoAAAANSUhEUgAAADgAAAAQBAMAAACxV6F2AAAAMFBMVEX////c3NwyMjK6urpERERU\n",
       "VFQQEBAiIiKqqqpmZmbMzMyYmJh2dnaIiIju7u4AAABkYOyCAAAAAXRSTlMAQObYZgAAAAlwSFlz\n",
       "AAAOxAAADsQBlSsOGwAAAN1JREFUGNNjYMACuNVcPpV5M+AALIwBzNF+OCUPMDgsxSM5kQlN8Ep5\n",
       "uQJckgVVzugeks64pwwMfHc2MKxkaH8AFGLUQzKWy0ORgYGHI4EhhMHeACjEJICQTKqvBapfwVnA\n",
       "kAsRZ0Jy0Ol9IMsfsF3g+sXACRJaVg4EDlBj/XaDGP0PeBMYeEGsJ8heWckCcsYkBpYAhsUgIXZk\n",
       "Sc6FIDNcGdgPMBwACfFeQJLkc7gNZBxhMAtgNgCLaSAkJzDsZgEKcs65F3kaIvbU+QEsVr4IsDj9\n",
       "QA0iG3dI8EEBAGepOF6q4I0fAAAAAElFTkSuQmCC\n",
       "\" style=\"display:inline;vertical-align:middle;\" /></a>, <a class=\"ProveItLink\" href=\"../../ordering/__pv_it/theorems/d1323f34847310a404e8089c2c268d3c2eb89dbf0/expr.ipynb\"><img src=\"data:image/png;base64,iVBORw0KGgoAAAANSUhEUgAAADQAAAAQBAMAAACra0H4AAAAMFBMVEX///9ERES6uroQEBAyMjLc\n",
       "3NyYmJgiIiJmZmaqqqp2dnbMzMxUVFSIiIju7u4AAAAd7oVFAAAAAXRSTlMAQObYZgAAAAlwSFlz\n",
       "AAAOxAAADsQBlSsOGwAAAMtJREFUGNNjYMAAbM6CX4rFGLACRtYDTMfkcEgtYBDYg1OqlQVF6GJ5\n",
       "uQNcihFZRuUekq5zb4CMt3der5oApFn9kAzklnQFMhp4z3IUAGmWAISUSX3tA6AvAtj+8SSApJCc\n",
       "sSwPZCk3AwfYbobN5UAgADVQLg0sxnwBTD1EdvwOxgcgln4AH4hmR5bi2ArU/1DhMAMXSID3ApIU\n",
       "n8A1Bob5+5oZNMEingipBoY0RgWGF3c52yaARd4IPYCF/McARpGfyMGhJQ4JKCgAAF8xNF8aQs/g\n",
       "AAAAAElFTkSuQmCC\n",
       "\" style=\"display:inline;vertical-align:middle;\" /></a>, <a class=\"ProveItLink\" href=\"../__pv_it/demonstrations/e6ed1880d8a5adc965bd31595086d71670c4cffd0/expr.ipynb\"><img src=\"data:image/png;base64,iVBORw0KGgoAAAANSUhEUgAAADAAAAAQBAMAAACigOGCAAAAMFBMVEX////MzMwyMjKqqqoiIiJm\n",
       "ZmaYmJju7u5EREQQEBC6urqIiIh2dnZUVFTc3NwAAAAqL9KcAAAAAXRSTlMAQObYZgAAAAlwSFlz\n",
       "AAAOxAAADsQBlSsOGwAAAI5JREFUGNNjYMAGGN2xCjPUBn3HLsHAjSxRlIBDgv3IBlQJvjv7oCJb\n",
       "jqNIrHzAAdOYEo4kwT6NgdUBptIoDiHB+oGB5QDc8EXX4RKcDQz1CxAS7XCJ+g0M+XBxo3sIo+oN\n",
       "GC4xP4BaHodkOccGZldWdOfy/AO66vbBtxvBHtwC9yDvzU/XED4vSWAgCgAApVouhyH3TS4AAAAA\n",
       "SUVORK5CYII=\n",
       "\" style=\"display:inline;vertical-align:middle;\" /></a>, <a class=\"ProveItLink\" href=\"../__pv_it/demonstrations/0ef74d541c646f7e6988bc61b8d81d12faca31ad0/expr.ipynb\"><img src=\"data:image/png;base64,iVBORw0KGgoAAAANSUhEUgAAADcAAAAQBAMAAABAXPr7AAAAMFBMVEX///9ERES6uroQEBAyMjLc\n",
       "3NyYmJgiIiJmZmaqqqp2dnbMzMxUVFSIiIju7u4AAAAd7oVFAAAAAXRSTlMAQObYZgAAAAlwSFlz\n",
       "AAAOxAAADsQBlSsOGwAAAMBJREFUGNNjYIABPjcGPOBVLT5Z3qoHeGTZMGTf3nm9agKUzekRALb+\n",
       "VgLDDobpQJUNvGc5CmAqmXxAerk4DRgOMugrMLAFsP3jSYBLOoIkdwJV2zKwBDBwM3A4wK3g9AEb\n",
       "+4D5AvdvBg4Qk/kC3EEVUAfNf8BrwMALYukH8D1A80oLA+MBhk0MDA8VDjNwoQeCDAP7AoYFQBP2\n",
       "NTNoogffQgblA0wKDAwv7nK2TUAPDY6ueyeWMVAF8JWDwQYkIQCH/DPqUSNhOAAAAABJRU5ErkJg\n",
       "gg==\n",
       "\" style=\"display:inline;vertical-align:middle;\" /></a> <a class=\"ProveItLink\" href=\"../__pv_it/demonstrations/0c503f998bc176adf99ff0f0dee43c3673b03a970/proof.ipynb\" style=\"text-decoration: none\">&nbsp;&#x22A2;&nbsp;&nbsp;</a><a class=\"ProveItLink\" href=\"../__pv_it/demonstrations/0c6c999dd45c70342728acc637bddf9deaf7f0560/expr.ipynb\"><img src=\"data:image/png;base64,iVBORw0KGgoAAAANSUhEUgAAAEgAAAATBAMAAADBilZAAAAAMFBMVEX////MzMwyMjKqqqoiIiJm\n",
       "ZmaYmJju7u5EREQQEBC6urqIiIh2dnZUVFTc3NwAAAAqL9KcAAAAAXRSTlMAQObYZgAAAAlwSFlz\n",
       "AAAOxAAADsQBlSsOGwAAAQ5JREFUKM9jYAAD7q2v4xiwAK69DKXs86CcfbwNytgUVfMXZDBoQTkJ\n",
       "HBsEsCl6bsJwm2EfjMf/AEwVJaCpusMwi2EDjCPJAFbFfmQDqiIv9g8MUI18Ew4xBECYW46jKFLk\n",
       "+sD2AMqOXrO7AMpMQVG1dltOFsiUO/tQrTCCBsbb06/hYisfcHxHdcei6+AgmsfQDzOdfRoDqwOa\n",
       "onYQWZnAEAITYf3AwHIA1bp7YCqegcEHJsTZwFC/AFlNSjiEnsHA/gsmVr+BIR9ZDSwI2H8zsH2A\n",
       "KzJguMQMCwmkwGT/zMCrYAflcGxgdmWFm4MULd0MJgEBMB23D77diC1ua/fI3cYa6VQEJS4g4Igm\n",
       "CgCNkEhx9Nyl7gAAAABJRU5ErkJggg==\n",
       "\" style=\"display:inline;vertical-align:middle;\" /></a></span>"
      ],
      "text/plain": [
       "{a in Real, w in Real, x in Real, a > 1, x >= w} |- a^{x} >= a^{w}"
      ]
     },
     "metadata": {},
     "output_type": "display_data"
    }
   ],
   "source": [
    "# Case (4): base > 1, greater_eq relation\n",
    "exp_a_x.bound_via_operand_bound(greater_eq(x, w))"
   ]
  },
  {
   "cell_type": "markdown",
   "metadata": {},
   "source": [
    "### Testing `Exp.power_of_log_reduction()`"
   ]
  },
  {
   "cell_type": "code",
   "execution_count": 96,
   "metadata": {},
   "outputs": [
    {
     "data": {
      "text/html": [
       "<span style=\"font-size:20px;\"><a class=\"ProveItLink\" href=\"../__pv_it/theorems/5a0c211ed8c0f89e15d717d80d4627baae693acb0/expr.ipynb\"><img src=\"data:image/png;base64,iVBORw0KGgoAAAANSUhEUgAAAD8AAAATBAMAAADVH8ihAAAAMFBMVEX////MzMwyMjKqqqoiIiJm\n",
       "ZmaYmJju7u5EREQQEBC6urqIiIh2dnZUVFTc3NwAAAAqL9KcAAAAAXRSTlMAQObYZgAAAAlwSFlz\n",
       "AAAOxAAADsQBlSsOGwAAAN5JREFUKM9jYMADWBkIAA4yFSTN6FeZkYDPhIa3DGszCvApeMPAwXiB\n",
       "IaKjs6MjAYcC1gcKWEzY4eKiAFfQgKlg0XaECbzlF+AK+O7s2wCm1ZGskDB6AFew8gHHdxDN9ACu\n",
       "4KXKl+3wkGSfxsDqAFaA5Mi0IqTw/sDAcgDEkHQBggaIAo4yhPc4GxjqF4AYFUgmMAa0w3n1Gxjy\n",
       "wQwW5HAIfIFQYMBwiRnkPu4NSAoquOF2cGxgdoXEuzJcwVMGtoQuGI/99sG3G8Gs2q4CWGz2MXTo\n",
       "G2DGwZoWSFCjAAAaDkU0dYR17AAAAABJRU5ErkJggg==\n",
       "\" style=\"display:inline;vertical-align:middle;\" /></a>, <a class=\"ProveItLink\" href=\"../../number_sets/real_numbers/__pv_it/theorems/7697fc34c81296f04a039eeb9dd22e91165d63b70/expr.ipynb\"><img src=\"data:image/png;base64,iVBORw0KGgoAAAANSUhEUgAAAEAAAAATBAMAAADSXRa0AAAAMFBMVEX///9ERES6uroQEBAyMjLc\n",
       "3NyYmJgiIiJmZmaqqqp2dnbMzMxUVFSIiIju7u4AAAAd7oVFAAAAAXRSTlMAQObYZgAAAAlwSFlz\n",
       "AAAOxAAADsQBlSsOGwAAANxJREFUKM9jYMAHGhgIAAHyFLA5C34pFsNnAiPrAaZjcngVLGAQ2MPA\n",
       "IShoKCiGS0ErCxYTLpaXO8AVMGIqULmHZMK5N3AFb++8XjUBSLP6IVnBLekKV9DAe5ajAEizBCAU\n",
       "mNTXPoCFJFsA2z+eBJACJEcuy3OA87gZOCCczeVAIAC1Qi4NyXHMF8DUQ2Rv7mB8gFCgH8AH4rEj\n",
       "K+DYCvfhQ4XDDFwgBu8FJAV8AtdgvPn7mhk0wSxPhIIGhjRGBSjvxV3Otglg1huhB7DY/BjAKPIT\n",
       "Mw60xMsdMAQB8jw2YYZ9lmsAAAAASUVORK5CYII=\n",
       "\" style=\"display:inline;vertical-align:middle;\" /></a>, <a class=\"ProveItLink\" href=\"../__pv_it/theorems/0253dbed1258e1c128ba9f6ec6b2a0640e2a18320/expr.ipynb\"><img src=\"data:image/png;base64,iVBORw0KGgoAAAANSUhEUgAAADAAAAAUCAMAAAD84U6VAAAAPFBMVEX///8NDQ0WFhYLCwsYGBjM\n",
       "zMwyMjKqqqoiIiJmZmaYmJju7u5EREQQEBC6urqIiIh2dnZUVFTc3NwAAADJzR5XAAAAAXRSTlMA\n",
       "QObYZgAAAAlwSFlzAAAOxAAADsQBlSsOGwAAALFJREFUKM+VktkSwyAIRWlTF9yR///XxiQda2Li\n",
       "yAMjg8cLAsCToYUpE64N9Yh3op4toeQBIKiN4whweQ4IJ4EKZEoxxwsg8w0Q/JpxVQ71Zp+leLoC\n",
       "1pvt1lDgByAXr9O5A4QbwJfpWA5DgQOwXNo1/LcPpfb3a++EOoBaPUlQzZOy8+VHSW5VUBqhqVlh\n",
       "ZzCJ874kMYlMUQwEiDxLMv0hqzS31t0OnszMCuhJARAPuS+LXAfGizpYiwAAAABJRU5ErkJggg==\n",
       "\" style=\"display:inline;vertical-align:middle;\" /></a> <a class=\"ProveItLink\" href=\"../__pv_it/demonstrations/8b6a4d1242a8f72879ac15319111394350b09fe20/proof.ipynb\" style=\"text-decoration: none\">&nbsp;&#x22A2;&nbsp;&nbsp;</a><a class=\"ProveItLink\" href=\"../__pv_it/theorems/2a2a89886e990daa493e7a25c960be802d5599bf0/expr.ipynb\"><img src=\"data:image/png;base64,iVBORw0KGgoAAAANSUhEUgAAAGcAAAAUBAMAAABi2T6lAAAAMFBMVEX////MzMwyMjKqqqoiIiJm\n",
       "ZmaYmJju7u5EREQQEBC6urqIiIh2dnZUVFTc3NwAAAAqL9KcAAAAAXRSTlMAQObYZgAAAAlwSFlz\n",
       "AAAOxAAADsQBlSsOGwAAAXVJREFUOMuNUjtIw1AUPW2+Tdq0mzopOLpkdBE76J5JkJbaSVAE4yAU\n",
       "HJLdQSddAy4KFeMQl9ZSddRBBBFph4eDCCK6FSd9yYtQ25Lkwn2He3nn/oGRwhH/VREl0t6AY52B\n",
       "Ecn6HAhyz7AeSbL+m4LDMG3GkC6aplQqzwYmT/vx3ivI6tEk2ZGKsp5noV+AVs6eBmdEkyaBXd7J\n",
       "B1PDMVCV3QIUO5q0BjyKT6w6zFH1+Sk7NtOM+hoOYJzqBEhseWldOxQKoclD27+mW1LdqOWuGLj1\n",
       "iPLzbWC1CcgEpXrD9HG0aN3WX7w3U+uK7QygtJmjNvR753Lrju7hhMi90HMKbKSJ31CFORgIC4EE\n",
       "V2KoHaEI6QD0Dc+07Lm82aCRssG+RGcwkUjEXq4K4Qt8u/++b7wqhYAkDVWXgjBFIWPDcpBcMv4A\n",
       "LBebMf/6e8IZkUxYOh44kjRPzXlGlq7E5RaFxMXNjy3jiDbbufo4T0zabnBLOn4B1g5ewxdRBmoA\n",
       "AAAASUVORK5CYII=\n",
       "\" style=\"display:inline;vertical-align:middle;\" /></a></span>"
      ],
      "text/plain": [
       "{a in RealPos, x in RealPos, a != 1} |- a^{log_a(x)} = x"
      ]
     },
     "metadata": {},
     "output_type": "display_data"
    }
   ],
   "source": [
    "from proveit.numbers import Log\n",
    "Exp(a, Log(a,x)).power_of_log_reduction(assumptions=[InSet(a, RealPos), InSet(x, RealPos), NotEquals(a, one)])"
   ]
  },
  {
   "cell_type": "code",
   "execution_count": 97,
   "metadata": {},
   "outputs": [
    {
     "data": {
      "text/html": [
       "<span style=\"font-size:20px;\"><a class=\"ProveItLink\" href=\"../../ordering/__pv_it/theorems/d1323f34847310a404e8089c2c268d3c2eb89dbf0/expr.ipynb\"><img src=\"data:image/png;base64,iVBORw0KGgoAAAANSUhEUgAAADQAAAAQBAMAAACra0H4AAAAMFBMVEX///9ERES6uroQEBAyMjLc\n",
       "3NyYmJgiIiJmZmaqqqp2dnbMzMxUVFSIiIju7u4AAAAd7oVFAAAAAXRSTlMAQObYZgAAAAlwSFlz\n",
       "AAAOxAAADsQBlSsOGwAAAMtJREFUGNNjYMAAbM6CX4rFGLACRtYDTMfkcEgtYBDYg1OqlQVF6GJ5\n",
       "uQNcihFZRuUekq5zb4CMt3der5oApFn9kAzklnQFMhp4z3IUAGmWAISUSX3tA6AvAtj+8SSApJCc\n",
       "sSwPZCk3AwfYbobN5UAgADVQLg0sxnwBTD1EdvwOxgcgln4AH4hmR5bi2ArU/1DhMAMXSID3ApIU\n",
       "n8A1Bob5+5oZNMEingipBoY0RgWGF3c52yaARd4IPYCF/McARpGfyMGhJQ4JKCgAAF8xNF8aQs/g\n",
       "AAAAAElFTkSuQmCC\n",
       "\" style=\"display:inline;vertical-align:middle;\" /></a>, <a class=\"ProveItLink\" href=\"../__pv_it/demonstrations/13db975f635067b172b131ca74d290e59a310a260/expr.ipynb\"><img src=\"data:image/png;base64,iVBORw0KGgoAAAANSUhEUgAAADEAAAAQBAMAAABNQoq8AAAAMFBMVEX///9ERES6uroQEBAyMjLc\n",
       "3NyYmJgiIiJmZmaqqqp2dnbMzMxUVFSIiIju7u4AAAAd7oVFAAAAAXRSTlMAQObYZgAAAAlwSFlz\n",
       "AAAOxAAADsQBlSsOGwAAALtJREFUGNNjYMACWDscNzBgBYEMXJ+wyxxlYDBG4j5JgDPtHzCcD0DI\n",
       "8C2/AGMeZ2A4D7To7Z3XqyaABa6vQ6irB+IG3rMcBRBueh9MgvsvAwNbANs/HpgVU1qhDPYDQFkG\n",
       "DgeEISrnIHQjmGS+gCQjB6bYDoAp/QC+BzDTjkLoWQysAQwPFQ4zcEEl0qHWcC9g4H3AMH9fM4Mm\n",
       "A6qrwzs62hkYXtzlbAN7h+863L76//+/IIXO8wQGIgEAVt0y7cSFAroAAAAASUVORK5CYII=\n",
       "\" style=\"display:inline;vertical-align:middle;\" /></a> <a class=\"ProveItLink\" href=\"../__pv_it/demonstrations/921aea01438a42f91d1c93a14b4cb96436c07c780/proof.ipynb\" style=\"text-decoration: none\">&nbsp;&#x22A2;&nbsp;&nbsp;</a><a class=\"ProveItLink\" href=\"../__pv_it/demonstrations/c523e34e1a0cc4652185d350a719e3c6e3b59a9c0/expr.ipynb\"><img src=\"data:image/png;base64,iVBORw0KGgoAAAANSUhEUgAAAKwAAAAZBAMAAABeGNgtAAAAMFBMVEX///+qqqqYmJiIiIgiIiLu\n",
       "7u4QEBBUVFS6urp2dnbMzMxEREQyMjJmZmbc3NwAAADzFso2AAAAAXRSTlMAQObYZgAAAAlwSFlz\n",
       "AAAOxAAADsQBlSsOGwAAAo1JREFUSMellEtoE0EYx/95bDav3QYURaQQD77wtRpEPERyUBRBOhcP\n",
       "gtIFaS8eGsQcPGijB0W8pCj0IpiLQhVp0IsYqC88eTCYXKJNXay3qC2IUop0/WYfmn1EZB2Y3fm+\n",
       "nf3NfE/Ab4Q0l0JBgCE8dSm29AonJkuQgmCx4DqmaK8axmwhXgmCHXaKUtle1WguYaGKVwGxe/Yz\n",
       "odleb4hRIJKfn7OwGzl2wvuT3I8m/8GmykIhlRlghvgZOCDWnltY4CYw6P17dz9snAIsd15XCTsN\n",
       "PIqWB8wMuA5kU0rVxiYPGSp3tvi6+8vsE7Ic6CKxRNhNwIVwyfQB1tKkE6R6/Uz9IW0hG+57ACd9\n",
       "7a/hdhlphovAqHnbl5GPFKpL+bLBuAvNuq3ckDUfJ7x1SJfNl6ghpiLcwBjDuDaMdEYekbjZqrBI\n",
       "IZPVW0ZycWz33gOGnAerOqRV5iv2HeIKMIJzwPidDw3cyGtx/UcDWlJFSkPzWo5Z2DFdB2Y8rn3m\n",
       "hxULEJeBF3w9ZH3qMvk8KCd6kr9mF0jNjZVoj5ArTU04sDw7F4FJHuhvluIqsBV4R6u53iozIGaK\n",
       "tA7ycZgv01nSYp/ScmOnKb22c7xdqqF2XkGCkTrB/tYkzEtlgJ3Yxc66sfzQNTTfO7a/0Qv0dGOZ\n",
       "BxujrKli1jZi1DICEncX5VW4GKg7xYy+cdoVMmAzf1wB1kHW/pXV41vuBMRXcNyJpdr7CqxGsoII\n",
       "C3DblALhsaii4sROAXuBbfjU6bSCOCFRRGj5lBrPOLDysU6HYtPGkK7/DIJNFiA0lcENTt9GdV2n\n",
       "OjmCwOOoX5VZdy4Ex+7wazVW8WSDY1P986cbnOrTJn6Pmf/AYr7fh4iGX8OopmehyKfxAAAAAElF\n",
       "TkSuQmCC\n",
       "\" style=\"display:inline;vertical-align:middle;\" /></a></span>"
      ],
      "text/plain": [
       "{x in Real, x > 2} |- 2^{log_2(x + 2)} = (x + 2)"
      ]
     },
     "metadata": {},
     "output_type": "display_data"
    }
   ],
   "source": [
    "Exp(two, Log(two, Add(x, two))).power_of_log_reduction(\n",
    "    assumptions=[InSet(x, Real), greater(x, two)])"
   ]
  },
  {
   "cell_type": "markdown",
   "metadata": {},
   "source": [
    "### Testing `Exp.shallow_simplification()`"
   ]
  },
  {
   "cell_type": "code",
   "execution_count": 2,
   "metadata": {},
   "outputs": [
    {
     "data": {
      "text/html": [
       "<a class=\"ProveItLink\" href=\"../__pv_it/demonstrations/f6cf1eab6e0102c533282e1c2b9173af382ad8eb0/expr.ipynb\"><img src=\"data:image/png;base64,iVBORw0KGgoAAAANSUhEUgAAAEUAAAAqBAMAAAAXAYuVAAAAMFBMVEX///8AAAAAAAAAAAAAAAAA\n",
       "AAAAAAAAAAAAAAAAAAAAAAAAAAAAAAAAAAAAAAAAAAAv3aB7AAAAD3RSTlMAMt0Qq5nNdoki72ZE\n",
       "u1S8GQohAAAACXBIWXMAAA7EAAAOxAGVKw4bAAABJElEQVQ4y2NgYBAyYCAAmF3zCaphYKgfVUMz\n",
       "NaxI7P4J2NXwIpgu61M2oMmWR5ZOgKjhKWFgwdA8NewiA/sEX7YHEDXm/AZS6Eo4LzD0H+BmuM4I\n",
       "tWvyI4ZadDUsExi4FjAw/GRgiL176+7dDQweDO7oarg+M7D8ZGBcwAlzsw7DQgxzFBhYPs7iSGCF\n",
       "qVHk+YDFy0wfWGvai2Fqnu5NwKJGvgApfJgn8G7AokYFOZxZCo4Byf8gALLTHmIo6wVkDTzbG1Dc\n",
       "EQCmthCOYL4GhpmE1EgwMBQTUMKpGhqqQEANE9AD2AKEQZSwMxEhghuwE6FGOoWwmgbCatgnEFYz\n",
       "m4GwmgbCargnEFYznYGwmiMuLr88CHt+CRFx8Zewktj/7vgVAADI0UjEJu98NAAAAABJRU5ErkJg\n",
       "gg==\n",
       "\" style=\"display:inline;vertical-align:middle;\" /></a>"
      ],
      "text/plain": [
       "(1 / 4) * 2^{x + y}"
      ]
     },
     "metadata": {},
     "output_type": "display_data"
    }
   ],
   "source": [
    "Exp(two, Add(x, y, Neg(two))).canonical_form()"
   ]
  },
  {
   "cell_type": "code",
   "execution_count": 3,
   "metadata": {},
   "outputs": [
    {
     "data": {
      "text/html": [
       "<span style=\"font-size:20px;\"><a class=\"ProveItLink\" href=\"../__pv_it/theorems/6bf1a18c2e3498be826f1c5ef7caab578b7ee8c80/expr.ipynb\"><img src=\"data:image/png;base64,iVBORw0KGgoAAAANSUhEUgAAADQAAAAQBAMAAACra0H4AAAAMFBMVEX///9ERES6uroQEBAyMjLc\n",
       "3NyYmJgiIiJmZmaqqqp2dnbMzMxUVFSIiIju7u4AAAAd7oVFAAAAAXRSTlMAQObYZgAAAAlwSFlz\n",
       "AAAOxAAADsQBlSsOGwAAANJJREFUGNNjYMAC+BaW+EYvwCbDcMeM4cXHBmwyHJeAOhKxSu1gfMDA\n",
       "wIMidbG83AFEn2ME2ZeAJKNyD8oQiIAy3t55vWoCkGb1gwqwHtgFZTXwnuUoANIsAVAB7gVqEAZb\n",
       "ANs/HpC5LDCDWRt0oWoYOMB2M2wuBwIBsF1RMFXMF8DUQ7h75BhhLP0APqA/GNjhUhogfzEoMDxU\n",
       "OMzABRLgvYAIjQMMIGvm72tm0ASLeCL87hHwsoKB4cVdzrYJYIE3Qg/gIW9fEYASdlrikICCAgDf\n",
       "OzMVc9WQZAAAAABJRU5ErkJggg==\n",
       "\" style=\"display:inline;vertical-align:middle;\" /></a>, <a class=\"ProveItLink\" href=\"../__pv_it/demonstrations/e7a733f6071838c624bab1a2ecdcd3efaa06f4b40/expr.ipynb\"><img src=\"data:image/png;base64,iVBORw0KGgoAAAANSUhEUgAAADMAAAATBAMAAADPIygvAAAAMFBMVEX////c3NwyMjK6urpEREQi\n",
       "IiLMzMwQEBCqqqp2dnZUVFSYmJhmZmaIiIju7u4AAADlKNhoAAAAAXRSTlMAQObYZgAAAAlwSFlz\n",
       "AAAOxAAADsQBlSsOGwAAAOZJREFUKM9jYMACXroqXczEJsHAu3wD33kfrFJnLRkYuLFKsR3wA5Jr\n",
       "UMSuhIYqACmuBw5A8jWyjNE9CM3CeADC4LuzgeEViMGoB1UixTYBwuDkKGDYD2IwCUClMpk3QBgZ\n",
       "PAEMS8BSMINlmC9AGA/YLzDUghjpoUDgALYLaiCD/QO2byD6CUwXC9iFIHCIgbcARLPCpJjB/mIG\n",
       "Yi8GlgXg4LkADw0rsA4GhlMM9hAXacDD0OkgXyvIb6/mnoc4+5XzA1jIu389CGFNgopYuoIDCg44\n",
       "FfgqGLAD1gtcE3BIcew9jEMGABFGNYI++lBEAAAAAElFTkSuQmCC\n",
       "\" style=\"display:inline;vertical-align:middle;\" /></a> <a class=\"ProveItLink\" href=\"../__pv_it/demonstrations/356361456514061522454a510478f8cd247156930/proof.ipynb\" style=\"text-decoration: none\">&nbsp;&#x22A2;&nbsp;&nbsp;</a><a class=\"ProveItLink\" href=\"../__pv_it/demonstrations/b2c7298f917b781285af262c65d6f489969d79830/expr.ipynb\"><img src=\"data:image/png;base64,iVBORw0KGgoAAAANSUhEUgAAAL4AAAAyBAMAAAAQKHwNAAAAMFBMVEX///8AAAAAAAAAAAAAAAAA\n",
       "AAAAAAAAAAAAAAAAAAAAAAAAAAAAAAAAAAAAAAAAAAAv3aB7AAAAD3RSTlMAIpnNuzKJRKvvEN12\n",
       "ZlQ4bmvwAAAACXBIWXMAAA7EAAAOxAGVKw4bAAADVElEQVRYw7WYTWgTQRSA326bZJNs0q14qVa0\n",
       "sSerEESkeNCAW7BqIfgHRaQLgngQWhDEg9IoUiItNNAK6qXxLhoqolKhsYhKKTQHDx6EFg9evCSt\n",
       "MRqqcXdnNma7k92ZAR9kd4e8+XbmzXtv3iwAh/TRKIWOA6dIBSq181lO/hhd72iODx+J65O/fcR7\n",
       "dJf5+B2KcV325ocLXPzXQMmPPuQyT4aWD/t5+EGNmj+qcPAxmIbfkuLgvwRqfrTKjveV6fmhDfe/\n",
       "L6WdEClDz4cT9uYue1ME0RmCwZQ7X2xsrNgXOGFXbRsRyo7+QwV3fmtj4ylWlhc6uzD/RgqsVY9k\n",
       "CfxlPKRhh+8tdS0oiB/4AJJtsm+kxGHED+Wrvky9i99pn350S8/0bop+WbnTsor4j9uyg2gyORBi\n",
       "B5JQaM0nEV94kpMTbil2mmSULbv7IAInfdg+277BWzS+ImwFf0U3tQKiqk6rAyBpUh7OqLooIDi3\n",
       "iNAaAS8kYHgEoATQrfarakHP4BPIwhW4BfAAYBAUbP/wSDBZHxa0O9yf5NKSAsEM+DKCtb4v4J6l\n",
       "PZOFyfbMRdM3TX5ytD6svrN7HCH5h5SSqiCVOvxx0eI/DxSt2Y4DTCb3XlvKYn5039F6t1qt6Mie\n",
       "ZdL4cyCVxfdXFi3+l49x9M9P4zLf6P+PYMAtIuVSk72k2OD/IaUVO9d3m0kNG00E4pv79swZgvKa\n",
       "v0nKGso3xK+Uv4pbU8arbVn05jvXjCJWXbMqksBnDT/N6b9uptoE2aFmiPEYWkevTZDVX+krluLg\n",
       "/5NZ8/oJmvK/guCxjTXan2yfqOaMFGwfnwYyQ6HlJ/rPOYBFovoUbI/FehjsI5P8X5iNxcjF2n2Y\n",
       "r9XWWaoTEj+sL3acqL7Guv1GK9bTKZoa+gfz9v6b6PHNtDeY6wdrxjINn5gN3eUZvl/opfGGEjP/\n",
       "Lr5rvTzR6C0rWbzb0vCDCWb+0Kp52wE0/J159vIZpSuNir/CXkCLZvUSUaj44+z1bcAMsE6g4rO7\n",
       "P07I19PpX2PeyYSjPrccSE9d3gc8nvMFPh+ZW/f/OB/hSXfXJjxVj3GdTw9Su0KViz9IO+vwKhdf\n",
       "pg16zu8DMEZpnjgnv4Vu3qd5v89Qfl86ZFz/AhlR11K7oGVPAAAAAElFTkSuQmCC\n",
       "\" style=\"display:inline;vertical-align:middle;\" /></a></span>"
      ],
      "text/plain": [
       "{x in Complex, y in Complex} |- 2^{x + y - 2} = ((1 / 4) * 2^{x + y})"
      ]
     },
     "metadata": {},
     "output_type": "display_data"
    }
   ],
   "source": [
    "Exp(two, Add(x, y, Neg(two))).shallow_simplification(assumptions=[InSet(x, Complex), InSet(y, Complex)])"
   ]
  },
  {
   "cell_type": "code",
   "execution_count": 98,
   "metadata": {},
   "outputs": [
    {
     "data": {
      "text/html": [
       "<span style=\"font-size:20px;\"><a class=\"ProveItLink\" href=\"../__pv_it/theorems/5a0c211ed8c0f89e15d717d80d4627baae693acb0/expr.ipynb\"><img src=\"data:image/png;base64,iVBORw0KGgoAAAANSUhEUgAAAD8AAAATBAMAAADVH8ihAAAAMFBMVEX////MzMwyMjKqqqoiIiJm\n",
       "ZmaYmJju7u5EREQQEBC6urqIiIh2dnZUVFTc3NwAAAAqL9KcAAAAAXRSTlMAQObYZgAAAAlwSFlz\n",
       "AAAOxAAADsQBlSsOGwAAAN5JREFUKM9jYMADWBkIAA4yFSTN6FeZkYDPhIa3DGszCvApeMPAwXiB\n",
       "IaKjs6MjAYcC1gcKWEzY4eKiAFfQgKlg0XaECbzlF+AK+O7s2wCm1ZGskDB6AFew8gHHdxDN9ACu\n",
       "4KXKl+3wkGSfxsDqAFaA5Mi0IqTw/sDAcgDEkHQBggaIAo4yhPc4GxjqF4AYFUgmMAa0w3n1Gxjy\n",
       "wQwW5HAIfIFQYMBwiRnkPu4NSAoquOF2cGxgdoXEuzJcwVMGtoQuGI/99sG3G8Gs2q4CWGz2MXTo\n",
       "G2DGwZoWSFCjAAAaDkU0dYR17AAAAABJRU5ErkJggg==\n",
       "\" style=\"display:inline;vertical-align:middle;\" /></a>, <a class=\"ProveItLink\" href=\"../../number_sets/real_numbers/__pv_it/theorems/7697fc34c81296f04a039eeb9dd22e91165d63b70/expr.ipynb\"><img src=\"data:image/png;base64,iVBORw0KGgoAAAANSUhEUgAAAEAAAAATBAMAAADSXRa0AAAAMFBMVEX///9ERES6uroQEBAyMjLc\n",
       "3NyYmJgiIiJmZmaqqqp2dnbMzMxUVFSIiIju7u4AAAAd7oVFAAAAAXRSTlMAQObYZgAAAAlwSFlz\n",
       "AAAOxAAADsQBlSsOGwAAANxJREFUKM9jYMAHGhgIAAHyFLA5C34pFsNnAiPrAaZjcngVLGAQ2MPA\n",
       "IShoKCiGS0ErCxYTLpaXO8AVMGIqULmHZMK5N3AFb++8XjUBSLP6IVnBLekKV9DAe5ajAEizBCAU\n",
       "mNTXPoCFJFsA2z+eBJACJEcuy3OA87gZOCCczeVAIAC1Qi4NyXHMF8DUQ2Rv7mB8gFCgH8AH4rEj\n",
       "K+DYCvfhQ4XDDFwgBu8FJAV8AtdgvPn7mhk0wSxPhIIGhjRGBSjvxV3Otglg1huhB7DY/BjAKPIT\n",
       "Mw60xMsdMAQB8jw2YYZ9lmsAAAAASUVORK5CYII=\n",
       "\" style=\"display:inline;vertical-align:middle;\" /></a>, <a class=\"ProveItLink\" href=\"../__pv_it/theorems/0253dbed1258e1c128ba9f6ec6b2a0640e2a18320/expr.ipynb\"><img src=\"data:image/png;base64,iVBORw0KGgoAAAANSUhEUgAAADAAAAAUCAMAAAD84U6VAAAAPFBMVEX///8NDQ0WFhYLCwsYGBjM\n",
       "zMwyMjKqqqoiIiJmZmaYmJju7u5EREQQEBC6urqIiIh2dnZUVFTc3NwAAADJzR5XAAAAAXRSTlMA\n",
       "QObYZgAAAAlwSFlzAAAOxAAADsQBlSsOGwAAALFJREFUKM+VktkSwyAIRWlTF9yR///XxiQda2Li\n",
       "yAMjg8cLAsCToYUpE64N9Yh3op4toeQBIKiN4whweQ4IJ4EKZEoxxwsg8w0Q/JpxVQ71Zp+leLoC\n",
       "1pvt1lDgByAXr9O5A4QbwJfpWA5DgQOwXNo1/LcPpfb3a++EOoBaPUlQzZOy8+VHSW5VUBqhqVlh\n",
       "ZzCJ874kMYlMUQwEiDxLMv0hqzS31t0OnszMCuhJARAPuS+LXAfGizpYiwAAAABJRU5ErkJggg==\n",
       "\" style=\"display:inline;vertical-align:middle;\" /></a> <a class=\"ProveItLink\" href=\"../__pv_it/demonstrations/8b6a4d1242a8f72879ac15319111394350b09fe20/proof.ipynb\" style=\"text-decoration: none\">&nbsp;&#x22A2;&nbsp;&nbsp;</a><a class=\"ProveItLink\" href=\"../__pv_it/theorems/2a2a89886e990daa493e7a25c960be802d5599bf0/expr.ipynb\"><img src=\"data:image/png;base64,iVBORw0KGgoAAAANSUhEUgAAAGcAAAAUBAMAAABi2T6lAAAAMFBMVEX////MzMwyMjKqqqoiIiJm\n",
       "ZmaYmJju7u5EREQQEBC6urqIiIh2dnZUVFTc3NwAAAAqL9KcAAAAAXRSTlMAQObYZgAAAAlwSFlz\n",
       "AAAOxAAADsQBlSsOGwAAAXVJREFUOMuNUjtIw1AUPW2+Tdq0mzopOLpkdBE76J5JkJbaSVAE4yAU\n",
       "HJLdQSddAy4KFeMQl9ZSddRBBBFph4eDCCK6FSd9yYtQ25Lkwn2He3nn/oGRwhH/VREl0t6AY52B\n",
       "Ecn6HAhyz7AeSbL+m4LDMG3GkC6aplQqzwYmT/vx3ivI6tEk2ZGKsp5noV+AVs6eBmdEkyaBXd7J\n",
       "B1PDMVCV3QIUO5q0BjyKT6w6zFH1+Sk7NtOM+hoOYJzqBEhseWldOxQKoclD27+mW1LdqOWuGLj1\n",
       "iPLzbWC1CcgEpXrD9HG0aN3WX7w3U+uK7QygtJmjNvR753Lrju7hhMi90HMKbKSJ31CFORgIC4EE\n",
       "V2KoHaEI6QD0Dc+07Lm82aCRssG+RGcwkUjEXq4K4Qt8u/++b7wqhYAkDVWXgjBFIWPDcpBcMv4A\n",
       "LBebMf/6e8IZkUxYOh44kjRPzXlGlq7E5RaFxMXNjy3jiDbbufo4T0zabnBLOn4B1g5ewxdRBmoA\n",
       "AAAASUVORK5CYII=\n",
       "\" style=\"display:inline;vertical-align:middle;\" /></a></span>"
      ],
      "text/plain": [
       "{a in RealPos, x in RealPos, a != 1} |- a^{log_a(x)} = x"
      ]
     },
     "metadata": {},
     "output_type": "display_data"
    }
   ],
   "source": [
    "Exp(a, Log(a,x)).shallow_simplification(assumptions=[InSet(a, RealPos), InSet(x, RealPos), NotEquals(a, one)])"
   ]
  },
  {
   "cell_type": "code",
   "execution_count": 99,
   "metadata": {},
   "outputs": [
    {
     "data": {
      "text/html": [
       "<span style=\"font-size:20px;\"><a class=\"ProveItLink\" href=\"../../ordering/__pv_it/theorems/d1323f34847310a404e8089c2c268d3c2eb89dbf0/expr.ipynb\"><img src=\"data:image/png;base64,iVBORw0KGgoAAAANSUhEUgAAADQAAAAQBAMAAACra0H4AAAAMFBMVEX///9ERES6uroQEBAyMjLc\n",
       "3NyYmJgiIiJmZmaqqqp2dnbMzMxUVFSIiIju7u4AAAAd7oVFAAAAAXRSTlMAQObYZgAAAAlwSFlz\n",
       "AAAOxAAADsQBlSsOGwAAAMtJREFUGNNjYMAAbM6CX4rFGLACRtYDTMfkcEgtYBDYg1OqlQVF6GJ5\n",
       "uQNcihFZRuUekq5zb4CMt3der5oApFn9kAzklnQFMhp4z3IUAGmWAISUSX3tA6AvAtj+8SSApJCc\n",
       "sSwPZCk3AwfYbobN5UAgADVQLg0sxnwBTD1EdvwOxgcgln4AH4hmR5bi2ArU/1DhMAMXSID3ApIU\n",
       "n8A1Bob5+5oZNMEingipBoY0RgWGF3c52yaARd4IPYCF/McARpGfyMGhJQ4JKCgAAF8xNF8aQs/g\n",
       "AAAAAElFTkSuQmCC\n",
       "\" style=\"display:inline;vertical-align:middle;\" /></a>, <a class=\"ProveItLink\" href=\"../__pv_it/demonstrations/13db975f635067b172b131ca74d290e59a310a260/expr.ipynb\"><img src=\"data:image/png;base64,iVBORw0KGgoAAAANSUhEUgAAADEAAAAQBAMAAABNQoq8AAAAMFBMVEX///9ERES6uroQEBAyMjLc\n",
       "3NyYmJgiIiJmZmaqqqp2dnbMzMxUVFSIiIju7u4AAAAd7oVFAAAAAXRSTlMAQObYZgAAAAlwSFlz\n",
       "AAAOxAAADsQBlSsOGwAAALtJREFUGNNjYMACWDscNzBgBYEMXJ+wyxxlYDBG4j5JgDPtHzCcD0DI\n",
       "8C2/AGMeZ2A4D7To7Z3XqyaABa6vQ6irB+IG3rMcBRBueh9MgvsvAwNbANs/HpgVU1qhDPYDQFkG\n",
       "DgeEISrnIHQjmGS+gCQjB6bYDoAp/QC+BzDTjkLoWQysAQwPFQ4zcEEl0qHWcC9g4H3AMH9fM4Mm\n",
       "A6qrwzs62hkYXtzlbAN7h+863L76//+/IIXO8wQGIgEAVt0y7cSFAroAAAAASUVORK5CYII=\n",
       "\" style=\"display:inline;vertical-align:middle;\" /></a> <a class=\"ProveItLink\" href=\"../__pv_it/demonstrations/921aea01438a42f91d1c93a14b4cb96436c07c780/proof.ipynb\" style=\"text-decoration: none\">&nbsp;&#x22A2;&nbsp;&nbsp;</a><a class=\"ProveItLink\" href=\"../__pv_it/demonstrations/c523e34e1a0cc4652185d350a719e3c6e3b59a9c0/expr.ipynb\"><img src=\"data:image/png;base64,iVBORw0KGgoAAAANSUhEUgAAAKwAAAAZBAMAAABeGNgtAAAAMFBMVEX///+qqqqYmJiIiIgiIiLu\n",
       "7u4QEBBUVFS6urp2dnbMzMxEREQyMjJmZmbc3NwAAADzFso2AAAAAXRSTlMAQObYZgAAAAlwSFlz\n",
       "AAAOxAAADsQBlSsOGwAAAo1JREFUSMellEtoE0EYx/95bDav3QYURaQQD77wtRpEPERyUBRBOhcP\n",
       "gtIFaS8eGsQcPGijB0W8pCj0IpiLQhVp0IsYqC88eTCYXKJNXay3qC2IUop0/WYfmn1EZB2Y3fm+\n",
       "nf3NfE/Ab4Q0l0JBgCE8dSm29AonJkuQgmCx4DqmaK8axmwhXgmCHXaKUtle1WguYaGKVwGxe/Yz\n",
       "odleb4hRIJKfn7OwGzl2wvuT3I8m/8GmykIhlRlghvgZOCDWnltY4CYw6P17dz9snAIsd15XCTsN\n",
       "PIqWB8wMuA5kU0rVxiYPGSp3tvi6+8vsE7Ic6CKxRNhNwIVwyfQB1tKkE6R6/Uz9IW0hG+57ACd9\n",
       "7a/hdhlphovAqHnbl5GPFKpL+bLBuAvNuq3ckDUfJ7x1SJfNl6ghpiLcwBjDuDaMdEYekbjZqrBI\n",
       "IZPVW0ZycWz33gOGnAerOqRV5iv2HeIKMIJzwPidDw3cyGtx/UcDWlJFSkPzWo5Z2DFdB2Y8rn3m\n",
       "hxULEJeBF3w9ZH3qMvk8KCd6kr9mF0jNjZVoj5ArTU04sDw7F4FJHuhvluIqsBV4R6u53iozIGaK\n",
       "tA7ycZgv01nSYp/ScmOnKb22c7xdqqF2XkGCkTrB/tYkzEtlgJ3Yxc66sfzQNTTfO7a/0Qv0dGOZ\n",
       "BxujrKli1jZi1DICEncX5VW4GKg7xYy+cdoVMmAzf1wB1kHW/pXV41vuBMRXcNyJpdr7CqxGsoII\n",
       "C3DblALhsaii4sROAXuBbfjU6bSCOCFRRGj5lBrPOLDysU6HYtPGkK7/DIJNFiA0lcENTt9GdV2n\n",
       "OjmCwOOoX5VZdy4Ex+7wazVW8WSDY1P986cbnOrTJn6Pmf/AYr7fh4iGX8OopmehyKfxAAAAAElF\n",
       "TkSuQmCC\n",
       "\" style=\"display:inline;vertical-align:middle;\" /></a></span>"
      ],
      "text/plain": [
       "{x in Real, x > 2} |- 2^{log_2(x + 2)} = (x + 2)"
      ]
     },
     "metadata": {},
     "output_type": "display_data"
    }
   ],
   "source": [
    "Exp(two, Log(two, Add(x, two))).shallow_simplification(\n",
    "    assumptions=[InSet(x, Real), greater(x, two)])"
   ]
  },
  {
   "cell_type": "code",
   "execution_count": 100,
   "metadata": {},
   "outputs": [],
   "source": [
    "%end demonstrations"
   ]
  },
  {
   "cell_type": "code",
   "execution_count": null,
   "metadata": {},
   "outputs": [],
   "source": []
  }
 ],
 "metadata": {
  "kernelspec": {
   "display_name": "Python 3",
   "language": "python",
   "name": "python3"
  },
  "language_info": {
   "codemirror_mode": {
    "name": "ipython",
    "version": 3
   },
   "file_extension": ".py",
   "mimetype": "text/x-python",
   "name": "python",
   "nbconvert_exporter": "python",
   "pygments_lexer": "ipython3",
   "version": "3.7.3"
  }
 },
 "nbformat": 4,
 "nbformat_minor": 1
}
