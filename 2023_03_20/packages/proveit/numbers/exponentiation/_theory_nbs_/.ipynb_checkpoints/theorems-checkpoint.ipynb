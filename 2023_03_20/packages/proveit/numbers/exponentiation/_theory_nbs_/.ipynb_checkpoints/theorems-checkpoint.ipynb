{
 "cells": [
  {
   "cell_type": "markdown",
   "metadata": {},
   "source": [
    "Theorems (or conjectures) for the theory of <a class=\"ProveItLink\" href=\"theory.ipynb\">proveit.numbers.exponentiation</a>\n",
    "========"
   ]
  },
  {
   "cell_type": "code",
   "execution_count": 1,
   "metadata": {},
   "outputs": [],
   "source": [
    "import proveit\n",
    "# Prepare this notebook for defining the theorems of a theory:\n",
    "%theorems_notebook # Keep this at the top following 'import proveit'.\n",
    "from proveit import IndexedVar, ExprRange\n",
    "from proveit import a, b, c, d, k, m, n, r, x, y, z\n",
    "from proveit.core_expr_types import a_1_to_m, a_1_to_n, b_1_to_m, k_1_to_m\n",
    "from proveit.logic import And, Forall, Equals, InSet, NotInSet, NotEquals, Or\n",
    "from proveit.numbers import (Abs, Add, Exp, frac,  greater, greater_eq, Less,\n",
    "                            LessEq, Log, number_ordering, Mult, Neg, sqrt, subtract)\n",
    "from proveit.numbers import (zero, one, two, three, e, i, ZeroSet, Natural, NaturalPos, Integer,\n",
    "                            Rational, RationalPos, RationalNonZero, \n",
    "                             Real, RealNonNeg, RealPos, Complex, ComplexNonZero)\n",
    "from proveit.numbers.exponentiation import (\n",
    "    prod_a_raise_ki__1_to_m, prod_a_raise_bi__1_to_m, \n",
    "    prod_ai_raise_n__1_to_m, prod_ai_raise_b__1_to_m, nonzero_a_1_to_m)"
   ]
  },
  {
   "cell_type": "code",
   "execution_count": 2,
   "metadata": {},
   "outputs": [
    {
     "name": "stdout",
     "output_type": "stream",
     "text": [
      "Defining theorems for theory 'proveit.numbers.exponentiation'\n",
      "Subsequent end-of-cell assignments will define theorems\n",
      "'%end theorems' will finalize the definitions\n"
     ]
    }
   ],
   "source": [
    "%begin theorems"
   ]
  },
  {
   "cell_type": "code",
   "execution_count": 3,
   "metadata": {},
   "outputs": [
    {
     "data": {
      "text/html": [
       "<strong id=\"exp_nat_pos_expansion\"><a class=\"ProveItLink\" href=\"proofs/exp_nat_pos_expansion/thm_proof.ipynb\">exp_nat_pos_expansion</a> (conjecture without proof):<br></strong> <a class=\"ProveItLink\" href=\"../__pv_it/theorems/df6449c99121a73bced922e58114d934536ad3ca0/theorem_expr.ipynb\"><img src=\"data:image/png;base64,iVBORw0KGgoAAAANSUhEUgAAAZoAAAAVBAMAAACNuTXpAAAAMFBMVEX///+IiIgiIiIQEBB2dnbu\n",
       "7u5ERETMzMzc3NwyMjK6urpmZmaYmJiqqqpUVFQAAAB6qHgnAAAAAXRSTlMAQObYZgAAAAlwSFlz\n",
       "AAAOxAAADsQBlSsOGwAABGVJREFUWMOdV1toXEUY/jZ7zu7J3rIpKmjrEvISbKxEaRHylEjx4YSW\n",
       "LcRoaSUp6FpSlK1UFB/sSasBX3RfWnzow0IEwQuuNVB18xDRtkaRbi+QVsXdIFaFPvgSWsGCczm3\n",
       "OWd2dnDYf3fOzDff/t9c/vkP0LNsGVH3O/wnt3J0a7zTglZxunXojLdc6+UoK7a6O9HivweXVpNx\n",
       "px7UEuNxxEum2Hs0xTCcjQ59/kWtRom55v6+dT8GytHO/ISWmmvS1jen5oFtGsO3uWbjK/r4nlqN\n",
       "CmPWvNoGlmK9+7XEBBxCawPtFvrLvcdTDDUbb9BNN6dWo8JkV73a42imo70rWmoCDmH73cVsDblG\n",
       "7/EUQ81mmoyWWo0Kk/TP4t8YWY/2jmmpScqPwzgGyKLt0iDYxc1GjsxLf48ooMLc8P+8g3uic5yv\n",
       "aam50a2jTQjPsNqfxBa7EpzhRuLVY8PDO3vFNAVmmdi+0tO7pUuXJUHAHPz92B6/RQolHJnSM5OH\n",
       "YqvzMPnay6onqrAkAdil28txxNNzwPMSRybCarpgvGlpJDayQ37L2WFaHmHHk8xtFqXiWb9ThAYc\n",
       "RmoDs5EAny79Qb7X+D4eoYJixaVb4zji6TuwOhIvG2E1UUziyMaCW91BDqCT2yxID3IfmbfvcKl8\n",
       "yz+vUijh+LBvDu/G3CUxDVd59cRrkqXx6CjmKvM0VTbq4Yt11MY3nYiaECZdqtTNl5z8c+7zOGlC\n",
       "tsv5SJJRVXzJA+4/CKDswS+EozxbR5sG4/1sZV3Pk5vAcdevYVGrQHecG/E0XwwO+NGb8/jVKGfL\n",
       "ETUhTJOQGvuAbwNPyL8Wu6sBHuUPowhBRyNq0Ab+imy0KlJ34V1iUTUC3RI3mrXUvvYP7Tl65xcb\n",
       "Bqaao816KLNhmMEvtjoJuk0Ovh4kUDvo16eOWZadG7rTkLmDpwInBGiIg0j51xRaBzaZmiuKnebR\n",
       "UcwV7umeU17KyLKI9Z8WjOi5YZiEc7O/NUNbrl8P6Eggmqn/BkO6NqkizPnCWBBS5FAazHYivyn2\n",
       "JDtsp11QRAGP7gI36unJjpsymuy6XzeefT+mhmJyOJTGx7Tl/PmAkATG9iuf4xOpGqOD/O0DYxk/\n",
       "JotQctXP1jiHdRuJ2kXxiK+y+2ZZjNDeGIFumRv1tFB1U8YMCzbraNwXU1Ng83KHxMFKpdJ69YPg\n",
       "P18GDgzmV+SZQnoI5mfFn3/0G0RoX4N+GEeGIG9FSD5qkqwT21mdxuq3w2MEuu3c7HDKmDtdqbxI\n",
       "1Ez3R+8b17cxC8fYlJMo4O3xvqrq5tV541BzWEMaLzhD3Oxwypie4GuTuSx9vzlp1LIkVtPRUw4m\n",
       "Qxlf9/KDlhoVhzwjjWOo2ULKyO7774GSVE32gcl7Yb1Aq9Onj/jTeVj1PylHS46CY1Fj+KJrtpAy\n",
       "LhIX0w85KCjePacrlboYV5RvLnNaamb+l1ABczjmqflkZT6OfUK9+S3lu+6ClpruHAmNxaUYalvG\n",
       "/wNd/i/FIpEyCwAAAABJRU5ErkJggg==\n",
       "\" style=\"display:inline;vertical-align:middle;\" /></a><br>"
      ],
      "text/plain": [
       "<IPython.core.display.HTML object>"
      ]
     },
     "metadata": {},
     "output_type": "display_data"
    }
   ],
   "source": [
    "exp_nat_pos_expansion = Forall(n, Forall(x, Equals(Exp(x, n), Mult(ExprRange(k, x, one, n))),\n",
    "                                         domain=Complex),\n",
    "                               domain=NaturalPos)"
   ]
  },
  {
   "cell_type": "code",
   "execution_count": 4,
   "metadata": {},
   "outputs": [
    {
     "data": {
      "text/html": [
       "<strong id=\"exp_nat_pos_rev\"><a class=\"ProveItLink\" href=\"proofs/exp_nat_pos_rev/thm_proof.ipynb\">exp_nat_pos_rev</a> (conjecture without proof):<br></strong> <a class=\"ProveItLink\" href=\"../__pv_it/theorems/8e37deefe1da5bbd27949e1585331eb1b794713f0/theorem_expr.ipynb\"><img src=\"data:image/png;base64,iVBORw0KGgoAAAANSUhEUgAAAZoAAAAVBAMAAACNuTXpAAAAMFBMVEX///+IiIgiIiIQEBB2dnbu\n",
       "7u5ERETMzMzc3NwyMjK6urpmZmaYmJiqqqpUVFQAAAB6qHgnAAAAAXRSTlMAQObYZgAAAAlwSFlz\n",
       "AAAOxAAADsQBlSsOGwAABHBJREFUWMOdV11sFFUUPrs7052dn2VKlIBobfpgow1kMRoIIboYwgMI\n",
       "mSa1hhSlJDqQEnBrMCQmwLQoj7IxkfjAwwAmvvgzIhF1+7BGUAGJ609SFCNtDDwZ0pcGajR67z2z\n",
       "O/93Bk5ysrP3fvfc79x7zrn3AqTK4n5+v+VqukhcG2mShLn8bbfDTKcRZbKJ351roWaQhxJ7TmYY\n",
       "nYARL62DNSDrjOkMbfmd7w0X84ur6aJVYzdsw2c25JrpwxMw0mAd5gEeZEy/pC3v8r3hYcQ6agbZ\n",
       "Fts6Atq/AO9kGJ+AKetyBaBkUKaHqHujfG94GKWJmkGmYlsfbokLJPgzjE/AFGqKUwPVoUypT0KL\n",
       "7w0PU3A1g1RiW0/bQLwpGOnjEzDHIH+wBvAkZaqSdS2lVAEe5ldXM6RNUjxq/xDzbHvLFi9QSvEh\n",
       "8BHkniU/J1i9eryv74m0msbBnHV1sOf5DZ3tE7tv7N8SiUlSBE7eeGOJHu44RVgKrNJIpMZO1qK5\n",
       "ieYQE21H2cqYngN4OYZl1e9NAgZwSZg6uVmlt0McevQzcUtb3aeLd0Lt47cIfxU3brImxRwarjnE\n",
       "nOmjsjIyzUXG9C2QZmJYOn5vwpjcntkJ93MFqmqp8+VOJHwHPxh/hS3mWyDbj4B0OxJppKZpmFRS\n",
       "f8zWtM1plfh2lJ8Z0y5DsP3le2ATfD0T8saHKfaYtrjP0l5y/69FLYKCq7uD/tTgCwyFBX8S2yCK\n",
       "f4M2TzveZivsMn/agOIcfk6GtsZvro3pSHsaJocZU033Enz85hj8IRiKEfLGh2kQBsIgwPmgN4Qs\n",
       "5kMeB67C3oGgN6DNQTlUDA4AvEJ2rRLvjd+cHC2Kq3y1EW8t9a868XmOnvm6I8DmxkDD9t1sGKb7\n",
       "8+UWO5C3v+7dudxIA/jYEr0KKt+B52IijbqyqBkstP8Z1ButlxNprjnE+PImMM1PyHQLOWPVqfHl\n",
       "eDuA6d8mhHDeMEzOullqDdOWq1e9iXaiDtt/gtCpNWPlCkSuMV1k8wpVuG4Ee55ikaaOJleBtjl1\n",
       "NL4d5RtkeoRkyfbTzYIlMvS08MJ7EW8oRoWdRfiAtly44Jncinr9tU/hw05a3x6pyF65XsD8oQX2\n",
       "WA2WqcHV/56dN0o1WKFJvuyoh8wpoQUKTnMWmZbJ8DeXwSJDZjVpGpwlEW/KbApSWy+aptk68L5n\n",
       "8lXUkW5tyuP/iX7tigcZwPwpkkA5BfDilVAUNcitE/Isruk0Ut3Nl7wTMpe3Q3sTmOYx321/lmSR\n",
       "etw09xJvhkrh88YtZxUJ9tMPWgXEdjbUUDMI7/kxmWE8FyP1+piuhkaxWMW9kX+Mfd8cEeoKqdV0\n",
       "5GYL1rut9LanOpm8uXzXN9K7wNCbb5upNAf903jeXwLoifVGeWD9/SDtop9Dx/d0tmO3q+nSlfzC\n",
       "5N/is2CO+pjKM3BfE44SisVHLShz3p5DphkM32FX00UcvRdHM2J2R5iKG82xKO4Z/nNb0lEzyERi\n",
       "z9IMo7mYHHF18dr/AUc3Ly+eV14LAAAAAElFTkSuQmCC\n",
       "\" style=\"display:inline;vertical-align:middle;\" /></a><br>"
      ],
      "text/plain": [
       "<IPython.core.display.HTML object>"
      ]
     },
     "metadata": {},
     "output_type": "display_data"
    }
   ],
   "source": [
    "exp_nat_pos_rev = Forall(n, Forall(x, Equals(Mult(ExprRange(k, x, one, n)), Exp(x, n)),\n",
    "                                   domain=Complex),\n",
    "                         domain=NaturalPos)"
   ]
  },
  {
   "cell_type": "markdown",
   "metadata": {},
   "source": [
    "### Basic Operation Theorems"
   ]
  },
  {
   "cell_type": "code",
   "execution_count": 5,
   "metadata": {},
   "outputs": [
    {
     "data": {
      "text/html": [
       "<strong id=\"exponentiated_one\"><a class=\"ProveItLink\" href=\"proofs/exponentiated_one/thm_proof.ipynb\">exponentiated_one</a> (conjecture without proof):<br></strong> <a class=\"ProveItLink\" href=\"../__pv_it/theorems/71ee0ac2b18ddb819ddc75585aaf236ec5c1b6ac0/theorem_expr.ipynb\"><img src=\"data:image/png;base64,iVBORw0KGgoAAAANSUhEUgAAAH8AAAAVBAMAAACd/CwcAAAAMFBMVEX///+IiIgiIiIQEBB2dnbu\n",
       "7u5ERETMzMzc3NwyMjK6urpmZmaYmJiqqqpUVFQAAAB6qHgnAAAAAXRSTlMAQObYZgAAAAlwSFlz\n",
       "AAAOxAAADsQBlSsOGwAAAa5JREFUOMtjYMALGiCU4A7pBjzSuAHjBQjV8IzzAjb5hUD8AMS4g8OA\n",
       "K0BcFMDAw5DIjiHHrgo0+QADwy4QZwZ2/awTGFhfzw8Asn5gyMXt/AokpzIw1AEpjgTsBnADLWCQ\n",
       "BxrAbsCB6T2QAacZGDiB8iwXsBvAzAAxoJllAjd2A5iB/gPawokjCG5CDeCWchTFbgAnULeRkpIJ\n",
       "DgO2QA3AHkMgA1iAcbCdgSEVhwFz0A3YpAQCeggDeCYwMPQxcDxAMTn7YSOUqUvQBbwGDAxsASwL\n",
       "YFErl7aANa+BNwXKtyJoAPsHoCEC8DDcXQD0VSADwxGiDeACuoBhwkFoagelK4aYKmC6wOUFjDDg\n",
       "VQASvlOhqT0MJH7jBkJ9IkEX8ICSYDMwDMGpfQ1I/OhRhBo/EOGPI8uxgJI3twOQ4CtggKT2k2lp\n",
       "aRfKlyPUFAHxO/t5B7Dp53v88w0DA9MCeN4CpvYSsMHAQGSFCjIVEMrvTTAGOLWzgXzL4d3A4AgV\n",
       "5dlAyIA98HwHSu0c6SBmyLRsuMUZBPSjZ+OQtLQFKAJhBAxgI1SmcQjgl5dgYAAAfItklVnOpAsA\n",
       "AAAASUVORK5CYII=\n",
       "\" style=\"display:inline;vertical-align:middle;\" /></a><br>"
      ],
      "text/plain": [
       "<IPython.core.display.HTML object>"
      ]
     },
     "metadata": {},
     "output_type": "display_data"
    }
   ],
   "source": [
    "exponentiated_one = Forall([x], Equals(Exp(one, x), one), domain=Complex)"
   ]
  },
  {
   "cell_type": "code",
   "execution_count": 6,
   "metadata": {},
   "outputs": [
    {
     "data": {
      "text/html": [
       "<strong id=\"exp_zero_eq_one\"><a class=\"ProveItLink\" href=\"proofs/exp_zero_eq_one/thm_proof.ipynb\">exp_zero_eq_one</a> (conjecture without proof):<br></strong> <a class=\"ProveItLink\" href=\"../__pv_it/theorems/b3a986b3e4f162cab34800460a9a2a283910f6c20/theorem_expr.ipynb\"><img src=\"data:image/png;base64,iVBORw0KGgoAAAANSUhEUgAAAIAAAAAaBAMAAACN7UndAAAAMFBMVEX///+IiIgiIiIQEBB2dnbu\n",
       "7u5ERETMzMzc3NwyMjK6urpmZmaYmJiqqqpUVFQAAAB6qHgnAAAAAXRSTlMAQObYZgAAAAlwSFlz\n",
       "AAAOxAAADsQBlSsOGwAAAfpJREFUOMudVU0oRFEU/h7zZt57hmZhp6SJspCGJCkLZaFQTyYrmVE8\n",
       "C8UURRaMpiyxIcu3s7GYRPJTRpmFjYYspliMbC1YyE8p5xrvzU/3epOzuOfde879zu89DyiJeqrx\n",
       "P/KaWebTwjxx3BHgLsvKI3jniVed7ssbWb6uo4vroM8BwJ3I8mUdTVyFBiDD+L0AIAYboKVY5qHL\n",
       "qAWO2WZbALAPO4SvItHo0SutIR1LxJSwAOAT4iRKDEBNQNUBV4p/3/NqKfu0DBegIgwv5UkVOCDV\n",
       "2Y1Uo3MBpADQ6ve3CQCqWBXXulf46AxAo+UQmBBVkXKjdWDGtr7nZ9ScA/C8kQUoBfFJUw+WSZUE\n",
       "QwnsiT1QKM1u3WVaSas1THk6Wjn+uy+jXj8D6sUAMgFU+uwcnkSoIoPARZ4H7T9KQg8oBGyc0xI8\n",
       "74XEGndkkY5zAPILvM8Q54C1x8AmudJIn8PsPJ3Oq0IY8hfVIv1nFRAjRyvingB22XkymadDVR7D\n",
       "TZz77F3MuDfA7FDk5aaUwaVhGKn5nZwOwx+tXniI8Hrk8eOJDFsFDEXdSX3uB5iSKFtanU4DQ01Y\n",
       "ryW6vKu7WcMofVF0F79GIYWsHtNOr/uhTLLP4NaU7fKsE8BV4TZoGGZhoCkHgMYSZ6JwaDvNRNz+\n",
       "LV4t9b8gogPgGyNQfGZ6cOFcAAAAAElFTkSuQmCC\n",
       "\" style=\"display:inline;vertical-align:middle;\" /></a><br>"
      ],
      "text/plain": [
       "<IPython.core.display.HTML object>"
      ]
     },
     "metadata": {},
     "output_type": "display_data"
    }
   ],
   "source": [
    "exp_zero_eq_one = Forall([a], Equals(Exp(a, zero), one), domain=Complex)"
   ]
  },
  {
   "cell_type": "code",
   "execution_count": 7,
   "metadata": {},
   "outputs": [
    {
     "data": {
      "text/html": [
       "<strong id=\"exponentiated_zero\"><a class=\"ProveItLink\" href=\"proofs/exponentiated_zero/thm_proof.ipynb\">exponentiated_zero</a> (conjecture without proof):<br></strong> <a class=\"ProveItLink\" href=\"../__pv_it/theorems/45443179606fdbb84532e2512e8acb3558631a150/theorem_expr.ipynb\"><img src=\"data:image/png;base64,iVBORw0KGgoAAAANSUhEUgAAAIsAAAAVBAMAAACEWwD/AAAAMFBMVEX///+IiIgiIiIQEBB2dnbu\n",
       "7u5ERETMzMzc3NwyMjK6urpmZmaYmJiqqqpUVFQAAAB6qHgnAAAAAXRSTlMAQObYZgAAAAlwSFlz\n",
       "AAAOxAAADsQBlSsOGwAAAhlJREFUOMuNlEFo01AYx/9pX5u0SVw8DNyEMXryslFEGHhKwYkeNsKU\n",
       "XXawBY2eRhHPWrb7Vg+DHSZU2EVQLKWwbhWpigfxYJBdBsJ60quDFgQd7HuvW7ukj8QHIV/y//LL\n",
       "9/7vfQ/4j1Hq3S42LpdC5KiheL1b6WfKk+kv6Wrz4EcoZh9guQYMFNQh7QYVqLSAPf6wGUZJlIEX\n",
       "WKDS/wxpKS9xBdgAntKDlg/D6C0Yk2B5qFktqH0EbgJfiedQyV4YJg4k2zC7q6ysB7Vl4NBB3IFB\n",
       "E0uFWnMAjFShHuvjudGg9hd45iFFjKuZzLVQTB24R5h/Mts4pgVG67QDPBhOYINwC1i3oR71X9Qy\n",
       "fExzUzuEsWDQIqxBa0t8HYRTPUxHUo3A2DCzZJ/DKueU77ffP/djrtOkbKSPZJMizFsL6m/AtPoO\n",
       "qxNuRWG4ZQcxZLF5LPONvDn0kKZqUP5w9rJZpC2v4LPFmrXm3rlJJfMwuhJv4ALfHJiTFM5tnLYd\n",
       "39QcM1r1VVMAjCz0sqyaT8AuyXz7rrZP225RNCDTCi0fZl5UdKcow8S8xAwlkwu4QAmi7V4LjH4/\n",
       "77f4MV1LuV/yfqtP0NexwRpR231xXddTFPbGv29ixaiTZKUf8bZ7IqpR0tuOL8moRmHenQWi7ZKO\n",
       "8Aazge8eRVAGB4RoO+0hRa/G7KVdf9piBCYZOEXvum5F9jcrHHMJOAEwsXbfY4zNtAAAAABJRU5E\n",
       "rkJggg==\n",
       "\" style=\"display:inline;vertical-align:middle;\" /></a><br>"
      ],
      "text/plain": [
       "<IPython.core.display.HTML object>"
      ]
     },
     "metadata": {},
     "output_type": "display_data"
    }
   ],
   "source": [
    "exponentiated_zero = Forall([x], Equals(Exp(zero, x), zero), domain=RealPos)"
   ]
  },
  {
   "cell_type": "code",
   "execution_count": 8,
   "metadata": {},
   "outputs": [
    {
     "data": {
      "text/html": [
       "<strong id=\"exp_in_zero_set\"><a class=\"ProveItLink\" href=\"proofs/exp_in_zero_set/thm_proof.ipynb\">exp_in_zero_set</a> (conjecture without proof):<br></strong> <a class=\"ProveItLink\" href=\"../__pv_it/theorems/8aec011e6b51613889bbf862844055c79ea100ad0/theorem_expr.ipynb\"><img src=\"data:image/png;base64,iVBORw0KGgoAAAANSUhEUgAAAM8AAAAbBAMAAAApAMZVAAAAMFBMVEX///8AAAAAAAAAAAAAAAAA\n",
       "AAAAAAAAAAAAAAAAAAAAAAAAAAAAAAAAAAAAAAAAAAAv3aB7AAAAD3RSTlMAq1RmmUTNIjK7EInv\n",
       "3XZ/CtNrAAAACXBIWXMAAA7EAAAOxAGVKw4bAAADaUlEQVRIx7WWb0gUQRTAn3e3t3u7d9PVB6GE\n",
       "WCj6EqWfhMz0JJVCiiPBLwYeRkR9kLOvCXeB9CXhLiLojGKE+hAGd1RoJYEkgRCFUCAIBytIf8xE\n",
       "ohAMojezs7u3p3fKaQO3M/ve3vzmvXnvzQDsQLuRhv/bvFGzr8qV/863XdBB0QeT5b+Tt2mxGhOD\n",
       "1PK+Yt0jYezVOHs2bQ8UqBODH3ShSEUuUnOg7GWDED7C7PVARaABa3Ab6otUtWz6iQU0J8AABB9t\n",
       "TH6pIlCHNZiGliLVa/z5dXUWQJthTl4DuF75Zv22BivwZgPQCYCXAgQXkItGanolHGXNGs15xUq/\n",
       "5fMxG3SLe9AEncZcwB31V2QQmbFGg8tm37VYaNEvDEddgJbw9z6ff1cRqIotXq75YtjpcqXQdSoD\n",
       "1QlQD/rtFMDw1mfXCqKb+et8PGB70B+3de2I/YMgA8gkzzRM6X6Qw665jvP0UJ7TTaqJH/+mToHP\n",
       "9qCzA/KUAOVA/skECczfANWirj3GJUx8x7VzvHJZiI+MtfS5QaEIvq5AyC50Q3lszEy5GmdUEdSD\n",
       "bh3pRUkWBR7DXokyn4mCJwZeQ0qznrUaIScajOfWWRRM8znM9thWDQ6bwVCL4TzG9AlWDWN2JWpl\n",
       "rwjAIrlqgaaFnBBoMLTWM61thaCsAc2Oic4iMLQhA9BMwcO3MMW27ykLltGmcSB8cxCQoJiBJkj5\n",
       "O0+5HEGLEZdFVeilrA7VHisGiOFK2EYeE9qkFXUwwDZ1VlkVpntjkKLwESS+yWSORLicaPKDOheI\n",
       "xVPA8HxyRL0uUEhXp63K0MhXho7xRTAGOs3jMslAHwD6KK/Q3hiXE9+9tDsYJHSKuv9F/1dbMnKH\n",
       "FoDUjvmkBbJrYTCKBbY+k8noym7KXIdBecjgZ5ovzOWEaOfceQRv1wV/9/2CEiQSz6p1ZsvGAw30\n",
       "pumRsBkMMnfuLgjqXE6I1E1LVO/1rQik2kkdjKc6aYCKYCCGFObBMIpH1jHgcgzvVxH3bEOlQUtO\n",
       "hjMTvXZJkE4efQbyXQHCI4vyfkhXzhqmvOtz7mF7UbErXfQTtuoJC9lQ3K0ezZgJCxYQdEde5s6w\n",
       "wXWkRZCu7Sl5Z5BmHJBEy1bYw1usxCUO1j5xK8Q1ebd2r9us+TZer8KtlpM7e9n8B/tI4c6V6BrV\n",
       "AAAAAElFTkSuQmCC\n",
       "\" style=\"display:inline;vertical-align:middle;\" /></a><br>"
      ],
      "text/plain": [
       "<IPython.core.display.HTML object>"
      ]
     },
     "metadata": {},
     "output_type": "display_data"
    }
   ],
   "source": [
    "exp_in_zero_set = Forall((a, b), InSet(Exp(a, b), ZeroSet), domains=(ZeroSet, RealPos))"
   ]
  },
  {
   "cell_type": "code",
   "execution_count": 9,
   "metadata": {},
   "outputs": [
    {
     "data": {
      "text/html": [
       "<strong id=\"exp_rational_non_zero__not_zero\"><a class=\"ProveItLink\" href=\"proofs/exp_rational_non_zero__not_zero/thm_proof.ipynb\">exp_rational_non_zero__not_zero</a> (conjecture without proof):<br></strong> <a class=\"ProveItLink\" href=\"../__pv_it/theorems/28b210638a18769606b6a3c372c76c3a862ea59f0/theorem_expr.ipynb\"><img src=\"data:image/png;base64,iVBORw0KGgoAAAANSUhEUgAAAJ8AAAAaCAMAAACeuH65AAAASFBMVEX///8NDQ0WFhYLCwsYGBhK\n",
       "Sko9PT0oKChfX1+IiIgiIiIQEBB2dnbu7u5ERETMzMzc3NwyMjK6urpmZmaYmJiqqqpUVFQAAACO\n",
       "tbUiAAAAAXRSTlMAQObYZgAAAAlwSFlzAAAOxAAADsQBlSsOGwAAArJJREFUWMPNV9m2mzAMpHtl\n",
       "W94km///03pldQK3N+kpD0kgwRnPjDRimv7dYZye/quD/f48qg/cTG+HF45/Ic0H7rbvJhvdUd8Z\n",
       "IOJ99uG9+DQfLoDACUay0Ri0yJfjKge/FJ6VI8DsBnWzU1IpIFv3k7HR4mFnX4qPTsWQ7UdxQPTW\n",
       "li4kZ4gCBedEoIlv8uPsT1cyxnCmbwuZReGwYnFZUdfEV+G1zW7GgZ94QILe6qYL2FBvpvxrbrZz\n",
       "r6UPxBkywaAk/U7xmermCllQLCxFPqR6Lb647NdGBfZxr9jZHju+QpovNFKxp8YXd5eupJcJgD6r\n",
       "TYUW8f1bfl2KYFatU9Y3U/bXX/6iB+flLAQ41b5rC6LkAuYWfSs+Vc98p075W3mOSlOMdh+SucJO\n",
       "7hWtEdNczh65x+/7NVZgvvKHFV+AB9Wx5LmBqHX6rVX5iuKwHQAwu1jiA/6kXv/okr5eH6HWh51N\n",
       "K91x1vU8J2oflM33IbOdFBH9/kWpvdusnTBjfFiY4HnQv7Pvvn6pLox723K1q5lta329CaJiUPaQ\n",
       "59CDz5hQvoMJNiNQ5e9owKgbvlCLOQzTyR1p59JSqMrpW1VZ2c2cgqWDXvIcFxcyVqQZX+Lv5w/K\n",
       "/BVvnPwBLX512kpIZqRbE1gSIudbE457hMdFyESSPOS5X+aGzltClzfTF0/1yyd2+t4xgjI2grlF\n",
       "X15VwQLn2FSkb1PDNs/Z6XKEye/0pecdU/rrAfYiE9xhosIsrWbEXZ6bdZVNfZyG9+v55Q59ezjH\n",
       "72W2n2esfbfn+RotppCrbk2KRl4OyBc74HjulhxAcV48rHlu1wENlSAX7z1GxKuBSFxEqng2kIZ9\n",
       "aujSn4vE5uacjVcTkfnE84d/uDcKTODvAAyfGomez8tPODLAN58T2X8CX20PfwApeSd+7ezSIQAA\n",
       "AABJRU5ErkJggg==\n",
       "\" style=\"display:inline;vertical-align:middle;\" /></a><br>"
      ],
      "text/plain": [
       "<IPython.core.display.HTML object>"
      ]
     },
     "metadata": {},
     "output_type": "display_data"
    }
   ],
   "source": [
    "exp_rational_non_zero__not_zero = Forall(\n",
    "    [a, b],\n",
    "    NotEquals(Exp(a,b), zero),\n",
    "    domain=RationalNonZero)"
   ]
  },
  {
   "cell_type": "code",
   "execution_count": 10,
   "metadata": {},
   "outputs": [
    {
     "data": {
      "text/html": [
       "<strong id=\"exp_not_eq_zero\"><a class=\"ProveItLink\" href=\"proofs/exp_not_eq_zero/thm_proof.ipynb\">exp_not_eq_zero</a> (conjecture without proof):<br></strong> <a class=\"ProveItLink\" href=\"../__pv_it/theorems/a5f21a12c8f2fe340ff4f865c3da04ca2d4c99ad0/theorem_expr.ipynb\"><img src=\"data:image/png;base64,iVBORw0KGgoAAAANSUhEUgAAALwAAAAaCAMAAAA60sZqAAAARVBMVEX///8NDQ0WFhYLCwsYGBg2\n",
       "NjYbGxsSEhKIiIgiIiIQEBB2dnbu7u5ERETMzMzc3NwyMjK6urpmZmaYmJiqqqpUVFQAAAA0WiBi\n",
       "AAAAAXRSTlMAQObYZgAAAAlwSFlzAAAOxAAADsQBlSsOGwAAAuZJREFUWMPVV4uSpCAM9J6LEJ4B\n",
       "//9TTwioII7s7NXMnVU7s1pm6HQ6oZmmf+RSRk7/0YW2ug3iE7Huzdh9A4CrTwTr95YJTCObhbEA\n",
       "42Vj7wQvsb5nM0yspwbXz2iOj8NeR3whds07yaDpNHIlECGY05RsBO62tjH6heBd255R8i50KnRs\n",
       "BeNXvc0JJywr9Sq8pQcW2z6ICfgz8cd8cE7sE1AThWKypoR/5VRf4Kxh7NAnj3KQKRNPsS6+jVnq\n",
       "5pXEs/mUjmOdAWIrIS2OEk80s9Q1fI4XF68EHwpVOgimr8de1YdQwCe6bSqASy0h4cnOezTLrwdl\n",
       "VojlKzp50tDkEqHzzx/xc+vKReQdgb5USr58DNgNJl2oqHrQ5sLm6XYuqqHlgGNCOkT8Dl7QnS2k\n",
       "C9srbllVsSDl+gbIsP6cl2IEPPERt0J7emmmgrkl3Vwp1tZlBUJtiXkg8J5dtGuxG87lfwSkOBwC\n",
       "H/T2G4vuM8/ljuKW+NKwnhpWLyoPmmIVQCATurEbrGy9gIrW0V3wVfBkc3GhN8AJPCQOcel0UtT6\n",
       "92+k/FB3ClKLqMyI8HnYx91LbTRluwEbPq/9aRfewW/BTsbrY/3DPNDn1nkESeA9TR7f3dxN28eY\n",
       "pqMjldjc5pqHoo81I97YDbutjIBwDb4OzuUi8LwdhjSkJ7k+96v+3YhnjiREe5DFjGWpkDXNbXY8\n",
       "R7uBJjEp/aSUVdfgq+BSLpLN0som0waBCaUDU0PEr+87wQrW1ghBLLpEgMpuqL09c8MeB7g8B0fZ\n",
       "/P4lk2wuGjZlenNYudk1TStFHlVrV22AONiNff/SIhlS0Z3zW3Dlp+Kmb8O9qxwhviYaToMVPRMY\n",
       "tet3u6F3Wwpi1ZBTXdlswfV+HS34GYfid0elm+wwPKraMUsRNdAvdHfO+/tDWrgxsfONXZkfnD7s\n",
       "qNXpgh9wqHDzjvrCGXb4SNgD7+1AoP+Kjf1LJ6fnz45on1+VuugPaf0olJrl128AAAAASUVORK5C\n",
       "YII=\n",
       "\" style=\"display:inline;vertical-align:middle;\" /></a><br>"
      ],
      "text/plain": [
       "<IPython.core.display.HTML object>"
      ]
     },
     "metadata": {},
     "output_type": "display_data"
    }
   ],
   "source": [
    "exp_not_eq_zero = Forall(\n",
    "    [a, b],\n",
    "    NotEquals(Exp(a,b), zero),\n",
    "    domain=Complex,\n",
    "    conditions=[NotEquals(a, zero)])"
   ]
  },
  {
   "cell_type": "code",
   "execution_count": 11,
   "metadata": {},
   "outputs": [
    {
     "data": {
      "text/html": [
       "<strong id=\"nat_x_to_first_power_is_x\"><a class=\"ProveItLink\" href=\"proofs/nat_x_to_first_power_is_x/thm_proof.ipynb\">nat_x_to_first_power_is_x</a> (conjecture without proof):<br></strong> <a class=\"ProveItLink\" href=\"../__pv_it/theorems/b1640999ad53b79c9db71acbb3f2bc1fb3cfd4970/theorem_expr.ipynb\"><img src=\"data:image/png;base64,iVBORw0KGgoAAAANSUhEUgAAAIUAAAAaBAMAAABrxIKZAAAAMFBMVEX///+IiIgiIiIQEBB2dnbu\n",
       "7u5ERETMzMzc3NwyMjK6urpmZmaYmJiqqqpUVFQAAAB6qHgnAAAAAXRSTlMAQObYZgAAAAlwSFlz\n",
       "AAAOxAAADsQBlSsOGwAAAeZJREFUOMudlb9LQlEUx7/Z02f+yn4QRBHiEuEiEbTaEhQEb2goKKoh\n",
       "hyiwfyCNqDFdigYJoaaWnBIqwnAImmoSItKWIChoKFoaOvfpfWXd25UOPN71fq8fz/3ec49AfTGV\n",
       "wr/jsvLSWwJi3a1GeLN8IGE4Z5WMSSgYOFcyFpUMmwGU2eBWssAZVjIaCHDMBjuSBe6IkmF/A1b+\n",
       "MqY5o2QgDTTRfrQriR431IwjwJMnjkxvtYwZefVL1rTR0x8MDsgYj4CrZ2JoTqRx4ZByzQHzMkaU\n",
       "9um4x0zCMjloBjtMLsRjwCac5e/HGRpFgU/sAge2WSRjAj4XkuS7w9As95cfFnCnGW5uZQgwZjIo\n",
       "GQIGF+gFr9+y1J1j9ebPavjKAyXTFkFUBTPJFJW853S5C+hmUvFmtYZB6z7sAj+4EGdmjW1Re9jL\n",
       "NybsZqkVtel9/pUHegbgfdNEeVQFdi5YI+p6J5oNV95kINvx7eyd72hIXYjuUlUosA8+tqF77MGz\n",
       "HY0uEWPcMoh+wxWA/UlUx1w4s2YGcaLrkUoerms+25hRt6m0ldgLeouVWqPu1/P73kqD3dtqYmW0\n",
       "57FBu9L7EvDxaT2sZHjKP5jD0YXamWclw5aou59KQ91PvSpD6ujr/P9FGuxqfQKnJniWFIgr/AAA\n",
       "AABJRU5ErkJggg==\n",
       "\" style=\"display:inline;vertical-align:middle;\" /></a><br>"
      ],
      "text/plain": [
       "<IPython.core.display.HTML object>"
      ]
     },
     "metadata": {},
     "output_type": "display_data"
    }
   ],
   "source": [
    "nat_x_to_first_power_is_x = Forall(\n",
    "        n,\n",
    "        Equals(Exp(n, one), n),\n",
    "        domain=Natural)"
   ]
  },
  {
   "cell_type": "code",
   "execution_count": 12,
   "metadata": {},
   "outputs": [
    {
     "data": {
      "text/html": [
       "<strong id=\"real_x_to_first_power_is_x\"><a class=\"ProveItLink\" href=\"proofs/real_x_to_first_power_is_x/thm_proof.ipynb\">real_x_to_first_power_is_x</a> (conjecture without proof):<br></strong> <a class=\"ProveItLink\" href=\"../__pv_it/theorems/d50f7b2395b80c5d317d29e075a91f6c1c9748d90/theorem_expr.ipynb\"><img src=\"data:image/png;base64,iVBORw0KGgoAAAANSUhEUgAAAIMAAAAaBAMAAABm2vLeAAAAMFBMVEX///+IiIgiIiIQEBB2dnbu\n",
       "7u5ERETMzMzc3NwyMjK6urpmZmaYmJiqqqpUVFQAAAB6qHgnAAAAAXRSTlMAQObYZgAAAAlwSFlz\n",
       "AAAOxAAADsQBlSsOGwAAAglJREFUOMtjYCAKsJ5kIBfwLIDQhULY5bkJG3EbxriEXZ4jgaD7JxAw\n",
       "guEgISPYDhAygimAgeEBiHEHh4JmBkJGMAL17wIxZuBQsIWgEaxfGRjq8AXKL4JGMMxhYOAEeobl\n",
       "AnZp9q+EjdgGjHlgiHHi8qgCjNUy3xGHGmEgNlJSMsEhzQeMU1bBpyW+2CQD5cJdgK5fD/TFdgaG\n",
       "VFxxmgBKf3ICm+CJUQkMwLG4gfEhN9CV9QUMDH0MHA+QtF3y3DcRxuYESpxgOB/wBlvSb+D5ygcM\n",
       "hH5gFmALYFkACz65tAWMLAweDrB0s4GBoYBhJ/agZuAGJ914oGZeAXho7gY6ipGR4agAkisYGAxx\n",
       "eJMZrKwfqIdhAiidC+6QbmAEJWegEaIbkI3g+sEQii0sGNY3sAKDsr4ByPSdCtTY8IzzQhg4Ilk4\n",
       "EmE5gy+BgTWLz4DBAYsbwhY8ZmBhgMQIQzPQUB6GRHaGNWAjuFPgaZXRgIH3e7QBF7aUd790M8Na\n",
       "IH0YbBfINww/GBhOpqWlXWBkZFkLU8b1lYF1o8Dts9hCIlqQdw/I6H2IADbgYCgB28zItSQAJmpF\n",
       "uFCaA8/VLBO4gdELDgsG1w2YOZUBT06FBrWUoygDRzqQtVLSIRqeEooJF64PUPkhaWkLUDPJBUJG\n",
       "MDUQXXYykFt2MlwhIE+4BIfXI7gANzAGAJu6dZLTO28SAAAAAElFTkSuQmCC\n",
       "\" style=\"display:inline;vertical-align:middle;\" /></a><br>"
      ],
      "text/plain": [
       "<IPython.core.display.HTML object>"
      ]
     },
     "metadata": {},
     "output_type": "display_data"
    }
   ],
   "source": [
    "real_x_to_first_power_is_x = Forall(\n",
    "        x,\n",
    "        Equals(Exp(x, one), x),\n",
    "        domain=Real)"
   ]
  },
  {
   "cell_type": "code",
   "execution_count": 13,
   "metadata": {},
   "outputs": [
    {
     "data": {
      "text/html": [
       "<strong id=\"complex_x_to_first_power_is_x\"><a class=\"ProveItLink\" href=\"proofs/complex_x_to_first_power_is_x/thm_proof.ipynb\">complex_x_to_first_power_is_x</a> (conjecture without proof):<br></strong> <a class=\"ProveItLink\" href=\"../__pv_it/theorems/5707f44a310e7195856f785ff13d2add641e40ff0/theorem_expr.ipynb\"><img src=\"data:image/png;base64,iVBORw0KGgoAAAANSUhEUgAAAIMAAAAaBAMAAABm2vLeAAAAMFBMVEX///+IiIgiIiIQEBB2dnbu\n",
       "7u5ERETMzMzc3NwyMjK6urpmZmaYmJiqqqpUVFQAAAB6qHgnAAAAAXRSTlMAQObYZgAAAAlwSFlz\n",
       "AAAOxAAADsQBlSsOGwAAAf9JREFUOMudVU1LAlEUPdaMqaOiRZsCCX+BRatWCe0iMOhjUZBBTVAQ\n",
       "RkbQoiZsXW6KFkGza1P0Sd9EUUEtIokWQUFK1KqtFK26zxxTetOLHoxznfvemXvPPfcO8KclX+K/\n",
       "y6l/3YdK+X5FDHFvGDd8vy0sjD8ugMCJCMJ6LIIoCgFJZjyYbIhBBGGh8/vMmDfZsCWEkNPA+G+k\n",
       "fAghsADYKRkpwXeXpMUQ21R5YsxulmiVYU0tBk32lNFV4/fXmrjdVFPZ+xxt4jmbfe0NFP0qZbED\n",
       "9JrVNMz05/Ns5MToz6xMFdcsKYWinIgA07AlC6IfSE1mTTs5LnAdeuVJX3Om3UTCDLWANSTpBn0+\n",
       "VZcHNVePoZs1III9PtVQMtLtosMuT47NAwpKagbO8qIAqk3SLPaw3xk6gzjTuXe3UrMwOXeOkU7y\n",
       "IRzvaOVxgVVNJionNDKbZokA7cWeaGOOu7u8ioQh97sDqOfE0KY/QcJXRRAjUCe6S7DMXOfnecwG\n",
       "4HrrCDh4ynsc2cQK3U8z72LZ4B24VFU1Mbr0vc2Rhrzuub/iMdHhdR0y6KNvggM2RJnB6JSNp3Xi\n",
       "obSQ62oprlB5Wcs1agj+7FT80qlZqiuC5bD1MbNlbiBiPB4WD9dk4f8WVdULmyQhgijS/jw78d/Z\n",
       "iVuBXzzBc98Rs6VQBT4Bt6J28MX698QAAAAASUVORK5CYII=\n",
       "\" style=\"display:inline;vertical-align:middle;\" /></a><br>"
      ],
      "text/plain": [
       "<IPython.core.display.HTML object>"
      ]
     },
     "metadata": {},
     "output_type": "display_data"
    }
   ],
   "source": [
    "complex_x_to_first_power_is_x = Forall([x],\n",
    "               Equals(Exp(x,one),\n",
    "                      x),\n",
    "               domain = Complex)"
   ]
  },
  {
   "cell_type": "code",
   "execution_count": 14,
   "metadata": {},
   "outputs": [
    {
     "data": {
      "text/html": [
       "<strong id=\"exponent_log_with_same_base\"><a class=\"ProveItLink\" href=\"proofs/exponent_log_with_same_base/thm_proof.ipynb\">exponent_log_with_same_base</a> (conjecture without proof):<br></strong> <a class=\"ProveItLink\" href=\"../__pv_it/theorems/abc23e2bb4c16f043f123098b31740553e18ee210/theorem_expr.ipynb\"><img src=\"data:image/png;base64,iVBORw0KGgoAAAANSUhEUgAAAP4AAAAmCAMAAADTJdYhAAAAOVBMVEX///82NjYbGxsSEhKIiIgi\n",
       "IiIQEBB2dnbu7u5ERETMzMzc3NwyMjK6urpmZmaYmJiqqqpUVFQAAAAnLjGdAAAAAXRSTlMAQObY\n",
       "ZgAAAAlwSFlzAAAOxAAADsQBlSsOGwAAA9NJREFUaN7VWomW2yAMpK0M4hKY///YCnxhx0e8TWyX\n",
       "t8mLEwcYaUYHWSEeMyhethQ6FA8b1F64mGkehj+4a5drH4XeyIvdoeOT4Dt1+ivRVhdwWv7yQfSP\n",
       "abkZ1OmAvn4eOh4daw5G8+p8uw8fF7v3Z+ljk32M8tMrE3EfPvmlfM6SWaunwG+12IAPARTjQgJS\n",
       "sb6r6TUPZPmPX6mzsSzIp8BPYQO+Zh9j08XpGUNslyfBZtO5jDzSafbz1yYJxXAf9+06fFMYoEE0\n",
       "bIbZTb5jQiifmuqdMwGHag2520JBWJN5ht/xsyWuUnBGfRFHtw1WMafhEzPIDPNYfZ/0ndjzvgMm\n",
       "+SLPjWANW6gY4DT5BaQqYqr7yiDZbsAvqrZcoJB5YW5xmRTK9TkfTlc+MfGsoZe8uzHyraQgpJRR\n",
       "KShx3aeUZL4OnAm6tFVcTuD5DpzeOBdyssdlk4e8MQvWgd+2CuzSkVZj+UQE3qVcLXPwWLsI0KJR\n",
       "I82xrNsRS/+kBP6MyUoGGiK6ZCfqZRXkizoYO4fnQfU093Z9SU012rouhhb409HsUOw9PJ3v0Q+u\n",
       "58bfJ2HfiBSHNC8yJQXEm+U2HaC/W+F2B7CaX2zOMSjaMBdddrzy70WLRjlqHWzA3SNgtwKu9PU+\n",
       "jYtT2ugAhvVVBAor9nyDu6bPdZXoyv4jHAc+A63OJRhkwiurTsPv6GUAmj3vS1006b8VZSS8wmfs\n",
       "4SBr0JB5IHfWAflJEVHDD/8e/NYO/NmBj0WNIf3rudm69jPPeBeIM+3nlD8kf1ScWMYgMvYTEKZj\n",
       "Bf4KIB17fz7VGKhX4Nsx8mMxBFdB8fMVKDJ5WzmL1/26dqg7sLFVAT72E1VSyeS3ejDHDvxxKtJ5\n",
       "/OFH2ICPaeQeF/B8B50/vHiryEFi+D6+ZJzWDBzvqkgx7yd8qOCTVloch775VBN9VuALSdMhBihj\n",
       "WzCfh889M3AGCbES3SLGyBzcarF0TAiueDB3nZn8ajSg2oY/m6qizxp8d0+7sTxhw4xWhyk29P2E\n",
       "UaLWvvdqI8/olaky+X//0jvkF3TPwYNabkVmvfqAHLdm/cRUEnaJD+kI/jSVqLrKDfgh3XLqqpel\n",
       "nmdpgArZ7bHuJ6zuxegdOMUyIncEf5xqZj2rXFLwGvtu6TbTzvnOfEOoMnsPq5F1DcfDVlTTDej9\n",
       "zlGv/xEd1+Eft9K3nDqqnX397NxvFX48LmG/WObuFMAfV5z9hie+NOAx59zZFeb/d/4/jHC1+8GJ\n",
       "Jw137a8MVtpHwc8t0pWrPern/eyPK//fRgfxtGGvi3445Nm/nXMmAe8e6P4AAAAASUVORK5CYII=\n",
       "\" style=\"display:inline;vertical-align:middle;\" /></a><br>"
      ],
      "text/plain": [
       "<IPython.core.display.HTML object>"
      ]
     },
     "metadata": {},
     "output_type": "display_data"
    }
   ],
   "source": [
    "exponent_log_with_same_base = (\n",
    "        Forall((a,x),\n",
    "               Equals(Exp(a, Log(a, x)), x),\n",
    "               domain=RealPos,\n",
    "               condition=NotEquals(a, one)))"
   ]
  },
  {
   "cell_type": "markdown",
   "metadata": {},
   "source": [
    "### Closure Theorems for General Exponentials\n",
    "\n",
    "Note, we use the common convention to define $0^0 = 1$ for convenience, but it is important to note that $0^0$ is an indeterminant form with no well-defined limit for $f(t)^{g(t)}$ approaching $0^0$ (i.e. as $t \\rightarrow 0$)."
   ]
  },
  {
   "cell_type": "code",
   "execution_count": 15,
   "metadata": {},
   "outputs": [
    {
     "data": {
      "text/html": [
       "<strong id=\"exp_natpos_closure\"><a class=\"ProveItLink\" href=\"proofs/exp_natpos_closure/thm_proof.ipynb\">exp_natpos_closure</a> (conjecture without proof):<br></strong> <a class=\"ProveItLink\" href=\"../__pv_it/theorems/fe1193367b5e5b6cb27d7b957f884baa433022fd0/theorem_expr.ipynb\"><img src=\"data:image/png;base64,iVBORw0KGgoAAAANSUhEUgAAAJsAAAAaBAMAAABSozPCAAAAMFBMVEX///+IiIgiIiIQEBB2dnbu\n",
       "7u5ERETMzMzc3NwyMjK6urpmZmaYmJiqqqpUVFQAAAB6qHgnAAAAAXRSTlMAQObYZgAAAAlwSFlz\n",
       "AAAOxAAADsQBlSsOGwAAAqNJREFUSMetlU2I00AUx1/aTb+S1KgL3pZSXFG8FBH1JBVZ8bBC0CJ4\n",
       "WatiRFAM6kERbdSTF60HZQ+r5CJ4WLGKrqCiLaKgp+pBRDxU0aUeFnZZFBEE30tmJkmlaQ4OTOYl\n",
       "M/nNm/fmPwMQv6Svw38pb1j7te8IhdU4RWswY2PfISmsmWo83B6+2IURIwIHrXi4I6yVRqVGqGPn\n",
       "z8MGbF10GC6Bk3XI+BRFy5S4C021Hu46muuAPM+9k5D1mIzJKJxSZkbSUjrhri/2OEAJZswDptkE\n",
       "+QfAuYFBXOJwA5LtcNdcNWtDgXsHUwBZXPBQOwpX4/FPGK9YEPcX17hGt5WpB3AzAGoTkZGZWCa2\n",
       "8T3dbXNX+QTdvDUcwC3Huq5YXB+J+06Py1vOiw+XxHbpQjXl+Li72PEI4GAkziSHNsExAfET14Uz\n",
       "8mhBKKJm4byQ6fyjygsPHHUzs29i3dWE+wJSD+DU9vuSeL1CO9AYcsQHUmV6xHS0zhg8ZN/WYn0O\n",
       "sFLMieEprmI4+Jb3cXsRpOmBTJAqn6DLWkuBcsC7DSD/5mPkasA7mJALvncW+U5aq7S2M1VKTVL9\n",
       "2dt6ACcvgDov/ioEcWndp9dsfOy4huNXp38xVe52DxFr7CPHzWL3H8jXP/C/lor/D2Fd4eMos3AR\n",
       "M6E00iWmymkPp0h8GO2mffCuIeSfFbv+BiXVz8wLeuRxxUmH9Ouq8rVpmm3Nksv1wJwTw6c+WyJ4\n",
       "s7c84/QiTin7uGciJ3bqpeGp8qTnHdzRufKd3p2Y28ZE1lOmuJG0a9NGxVVligKgOu5xEz5RBhU6\n",
       "Udh8T9+Ow4k2qTJD8T0+yU5CSncpJk7tOb68EFdMM7y8uZi4hB0OiRF9VwwqPXeF2u8mixe8uDeZ\n",
       "uGeji4KL+wsFpJ/L/EHTVwAAAABJRU5ErkJggg==\n",
       "\" style=\"display:inline;vertical-align:middle;\" /></a><br>"
      ],
      "text/plain": [
       "<IPython.core.display.HTML object>"
      ]
     },
     "metadata": {},
     "output_type": "display_data"
    }
   ],
   "source": [
    "exp_natpos_closure = Forall(\n",
    "    (a, b), \n",
    "    InSet(Exp(a, b), NaturalPos),\n",
    "    domain=Natural)"
   ]
  },
  {
   "cell_type": "code",
   "execution_count": 16,
   "metadata": {},
   "outputs": [
    {
     "data": {
      "text/html": [
       "<strong id=\"exp_int_closure\"><a class=\"ProveItLink\" href=\"proofs/exp_int_closure/thm_proof.ipynb\">exp_int_closure</a> (conjecture without proof):<br></strong> <a class=\"ProveItLink\" href=\"../__pv_it/theorems/a4bcf1ad41e75a9838abf8ebf61c3f5b1c3189c20/theorem_expr.ipynb\"><img src=\"data:image/png;base64,iVBORw0KGgoAAAANSUhEUgAAAKEAAAAaBAMAAAAtciEzAAAAMFBMVEX///+IiIgiIiIQEBB2dnbu\n",
       "7u5ERETMzMzc3NwyMjK6urpmZmaYmJiqqqpUVFQAAAB6qHgnAAAAAXRSTlMAQObYZgAAAAlwSFlz\n",
       "AAAOxAAADsQBlSsOGwAAAtZJREFUSMetVU1oE0EUftnsZjfZTUj9qYJSwoKg9FJEIojFXKpSLWwh\n",
       "5qYpalcarET0IkWzUvCkNSAtHioEWg9iwT2IBRVJKR7qQVMoBFRkBX8vEpCCePLN7s4kS7MmEQfC\n",
       "vMyb/d6b975vBuCfxpUR+E9DKTlzLNXULXeO+M6dg/mmbqnj1IWiaxS6PjfdsNQpYqjsGpu0HR5H\n",
       "9M7PGfVMGTgNwCIL79tEnKTGeVjxOAIX8lAM44xwT8nC3TYRH1NjP7zwtsSEQHkIy7IOcK2Tgv6m\n",
       "Rg36PY6YARmBoMwChPHkfKU9QHGdWrsUN4luVSXdEgAWY6T/T5BhWOxwmykGEtSa6HLmB1tZNGuC\n",
       "TJvxt1dV97WJGCPpSJ+2xxn/pus00EbJ9AiPvAgw2i55yFHnjBA7fNhgvjXFjlPAo0+BZDXmkTx2\n",
       "1mxQrtQ7CMvuhjDOwkGQ2eEbylV07Nslki5forXo0UucwQ9rVLkXv+TgA6/JmuPnMJRcA46J+pKK\n",
       "ww4dqAwC4LYsYkXjLNIzTFmBqzepcuVFwv64yUM9x+CI/ZUzMizFDGHgN8yRNLxIxJheOooctZ2m\n",
       "SZW7kxjVt9cbEbNxeMNwOGZ9RUYKNfyMVHYIGybsFn+5EZVbeVe5NmWhyp+cpzXGhWwFvkdpQwK0\n",
       "66L5EN0Jp9cwaREViX2wYDuHearciJ1zFcxuCtCHZY9He+vX4D3GnWmQxjHgsh0ZcwqWUOMruq5X\n",
       "IDUAJxzlKjO6Po6IaVroCNJG+HhkahtDPJVzmjY3ltQPJbFjTO5ZI/RSu2x/VS3DgKNcMeXkGFml\n",
       "2w5soOj8abXY+H+WGkGjsKCFSDxehkhCSNnKtZn/CqBnw93jeyUz8keerx4H6Rxar39sGbPEflu5\n",
       "N7Ae4h4DYox/Ld8hy/s/resu1aJOxMN6zivsVpcUZ/h57rd4Z/yG/ztT9llf+ztg528he699BrkA\n",
       "/gDe4qiE/TpUXQAAAABJRU5ErkJggg==\n",
       "\" style=\"display:inline;vertical-align:middle;\" /></a><br>"
      ],
      "text/plain": [
       "<IPython.core.display.HTML object>"
      ]
     },
     "metadata": {},
     "output_type": "display_data"
    }
   ],
   "source": [
    "exp_int_closure = Forall(\n",
    "    (a, b), \n",
    "    InSet(Exp(a, b), Integer),\n",
    "    domains=(Integer, Natural))"
   ]
  },
  {
   "cell_type": "code",
   "execution_count": 17,
   "metadata": {},
   "outputs": [
    {
     "data": {
      "text/html": [
       "<strong id=\"exp_rational_closure_nat_power\"><a class=\"ProveItLink\" href=\"proofs/exp_rational_closure_nat_power/thm_proof.ipynb\">exp_rational_closure_nat_power</a> (conjecture without proof):<br></strong> <a class=\"ProveItLink\" href=\"../__pv_it/theorems/161f05f4b388c9a9c02efe29f0e5276074725d9d0/theorem_expr.ipynb\"><img src=\"data:image/png;base64,iVBORw0KGgoAAAANSUhEUgAAAKUAAAAaBAMAAAAkmYFJAAAAMFBMVEX///+IiIgiIiIQEBB2dnbu\n",
       "7u5ERETMzMzc3NwyMjK6urpmZmaYmJiqqqpUVFQAAAB6qHgnAAAAAXRSTlMAQObYZgAAAAlwSFlz\n",
       "AAAOxAAADsQBlSsOGwAAAu9JREFUSMetVU1oE0EUfpvsbn52ty74c/AQJCgIghSRKh4kgoUeIiwY\n",
       "i6e2CkbUg6sN6EFNtN5E24vSQ9UVxB+Mmkq1okUTpIpgYZWCRYNEFLyJPRS0IPhmdmaatEmbBOfy\n",
       "3r43+82bN983A9DUCFyB/zd0x7Pfa+S1JjA/M7ulRj7Y0zCkMsD2Ph2xqs8oNIyp5j0rrZNy81KJ\n",
       "ZPIpGh+uVSLfxXox+wS2PlCZkb7ZwY0xtAj4jAQG68UcYdZva6XKTDwOcO8WdmcG4ExDjZ1ldhn4\n",
       "3UpyxbBuVTcBhgBCuH/ZrZeWM8zxWa+ZtyoaJV1Q92Ddso3uEyQcdj1Ub5nSGg4+bHrO3ZWe7Qxg\n",
       "wHBHAZbj16ZodHO9mC2kpEs7zs7R8TJzUmGsLZyfAHiIG0foA3VTCRsf3gpHBTdDGebc0LF/ARMJ\n",
       "lLZxWQhWHGHiyM9MuaLPjTj6dg6BM3fn4ZGYLLp23qB1rgboR/WqluzwLkWSTnAnyBNc0SRglNrh\n",
       "MT8aJPpLgLUCszeKg7BG9fqJE7sRzTDFYs+xbPkiKO8yTNEkYBQ0iJXV2QbKrMDsFF3Zy8+9H/+B\n",
       "ASLRRKEDJCK8E1MApukpmgaM03fMMkxlGvRfAtPHnbDHT2xqmhS0C89OWR/47S06nvcwiaJpwLDb\n",
       "P3HMlh5Q/uLpTwlymdwbQx09QB3Rc4c+rFrLBVohS3IEj9RFFJ31MDWJ60xqBdgHH3Jz98dV7shE\n",
       "7yT+ii6ODfA7qP23yWTSvc32ThRNA4atxPh9EUYdda04+dUWmF2HOa8u/Lk+SuwLnurOqONWiq7H\n",
       "zogoOuXVCffFDrctoOzN/VG24g+dThviGX8mnbVUi9IH5CIkqKJpAF8LqTT/XqoqMjPy0aH3EtvU\n",
       "2Ps4BA9Szm+4ZkOvSxRNA8cH2SVL+biYyr4casuDXlpwVSNhO06h65YFymtZ8gbzZao+fcVhJ2wt\n",
       "/h7VHjXeo2NvQK/1y+QSkE28m+J9rzU03OA/4KDDUQfgjx4AAAAASUVORK5CYII=\n",
       "\" style=\"display:inline;vertical-align:middle;\" /></a><br>"
      ],
      "text/plain": [
       "<IPython.core.display.HTML object>"
      ]
     },
     "metadata": {},
     "output_type": "display_data"
    }
   ],
   "source": [
    "exp_rational_closure_nat_power = Forall(\n",
    "    (a, b), InSet(Exp(a, b), Rational),\n",
    "    domains=(Rational, Natural))"
   ]
  },
  {
   "cell_type": "code",
   "execution_count": 18,
   "metadata": {},
   "outputs": [
    {
     "data": {
      "text/html": [
       "<strong id=\"exp_rational_nonzero_closure\"><a class=\"ProveItLink\" href=\"proofs/exp_rational_nonzero_closure/thm_proof.ipynb\">exp_rational_nonzero_closure</a> (conjecture without proof):<br></strong> <a class=\"ProveItLink\" href=\"../__pv_it/theorems/caf99281ad644e74a812805bc69c14b2cb23fb980/theorem_expr.ipynb\"><img src=\"data:image/png;base64,iVBORw0KGgoAAAANSUhEUgAAAM0AAAAbCAMAAADoBftpAAAARVBMVEX///82NjYbGxsSEhJKSko9\n",
       "PT0oKChfX1+IiIgiIiIQEBB2dnbu7u5ERETMzMzc3NwyMjK6urpmZmaYmJiqqqpUVFQAAABvRl5h\n",
       "AAAAAXRSTlMAQObYZgAAAAlwSFlzAAAOxAAADsQBlSsOGwAAA4BJREFUWMPVWIe2nDoMJOUlcrdc\n",
       "+P9PfZYLXrBhy8nuTTi3AMdFZTQasyz/7CX/PpO0VS/OFJj/ChBfab/H3WN80RgT82KwLEjxcF/j\n",
       "TDjsy/Vr60SzzV7TrVFfAnZ7QNoKEF+oAMwpNStN5aFm6eOX8vtnYHKBezCRQqXL5Wwsju7Vj/Tr\n",
       "UyzIG5bXZHQbOwb8+50xfOKdt9eTIBKgDLspMfA1szk3UEaRq1tRWvN+b9yx5slOF6/Jy4tsOzps\n",
       "xSHrTUHaGvI7utdtqY/U0YrHFw335xwulpo7lYuDkPb9m8pI6yxA2SCfba1BET7QXdZjwSe0+30Y\n",
       "QbF0dfApKWvAha5+bRlYgBi6Pjlax9dysR9IDbDBPwc7MkILe4cTqHQdEcLidHGww1CAq0+Qa5JT\n",
       "LBj/REuNdut9AsyEU42VI9Cwxjv99wSgMCdjzIkf/H0jP1dQIU9QV+u45chECMUFcgwK79ozGOum\n",
       "EUx8vAFSFg0EeJ4DbdlFcjLKscmAMVtiax0pN5BYJOAJ+xeKobQIvOpdLsZueu51hAh7qhwjV8Kl\n",
       "n+NSrLxxa34Ysa0L6tPVV9zXzQWCZPGGcDgGRUNUCik4IpN+uFWNkiqOy6NybHNY8l1IkCe54apv\n",
       "fiz5EZ3SHDntLDe65ndUOc5VOSgM+SG9N4twzv3+5VLDNYQSpg/KcZuToKGD8SdIkyvt5teJRWyq\n",
       "yHq/CZf0b2qraVQihQdhunRIY5JZmf8W6DiruTF75Qi35ruZSI+qeBMKv4Wh8mBCV65pgYiXDR4r\n",
       "qxhecykTRLKLPeVeFhvJm5Sb/346yk0Ol90rxx1MvAkTqV9awqKSzYFN/bWT6Ium067VqW8aMG5Q\n",
       "oUos9NEMqDlJvpC7bcHEad7slSPepEaW4SfhkxGENhEm/sqocCg341ZrV3fnJDTIPY5Vi3qbdbcK\n",
       "C+6QNuWUqhz7nBTORALJtGE0xwdOLmqnbFq47x5grD9yHDU1n4zQPbI3LHA8Be+V480cDJqWFvKu\n",
       "hn5YRaRoxqDxiqCPu3EqG/TyVhronCwxP/3kTtqUY58jckkgmzSUl0/gUVmuLo5gfuj/6HyAzCBG\n",
       "6W4xczbOQatJzTfluM3xMabKUHaiL+LblDozd0+vWMGmT4MSTuY8+F3gz30Kevy7gAvewdRKfFas\n",
       "hvdo9afOmhr8HGrPf0vw+A5vCtn+D09iMW6ohpVZAAAAAElFTkSuQmCC\n",
       "\" style=\"display:inline;vertical-align:middle;\" /></a><br>"
      ],
      "text/plain": [
       "<IPython.core.display.HTML object>"
      ]
     },
     "metadata": {},
     "output_type": "display_data"
    }
   ],
   "source": [
    "exp_rational_nonzero_closure = Forall(\n",
    "    (a, b), InSet(Exp(a, b), RationalNonZero),\n",
    "    domains=(RationalNonZero, Integer))"
   ]
  },
  {
   "cell_type": "code",
   "execution_count": 19,
   "metadata": {},
   "outputs": [
    {
     "data": {
      "text/html": [
       "<strong id=\"exp_rational_pos_closure\"><a class=\"ProveItLink\" href=\"proofs/exp_rational_pos_closure/thm_proof.ipynb\">exp_rational_pos_closure</a> (conjecture without proof):<br></strong> <a class=\"ProveItLink\" href=\"../__pv_it/theorems/90bc2b27c3c43835f62f13f5c8b277ed220d19190/theorem_expr.ipynb\"><img src=\"data:image/png;base64,iVBORw0KGgoAAAANSUhEUgAAAL8AAAAaBAMAAAAUFZBoAAAAMFBMVEX///+IiIgiIiIQEBB2dnbu\n",
       "7u5ERETMzMzc3NwyMjK6urpmZmaYmJiqqqpUVFQAAAB6qHgnAAAAAXRSTlMAQObYZgAAAAlwSFlz\n",
       "AAAOxAAADsQBlSsOGwAAAyBJREFUSMe1Vk1oE0EUfpvs5md3G1fsyUORoKIUpIhE8RTBSqEVttgG\n",
       "T1pFV4qCkRb0oDZSL6LVelA8FI0H68GiqagVWzRFqghWoggtGCRi0Vuxh4IWBN/M7rxsYtI2EQeW\n",
       "mX0z+755b773zQL8Q/Nfh//U9KTdz5RfksJHqxrgk9NvLb+kA59AR5X+lX4nRXN15mIAMF4lgC9t\n",
       "99I6KVU01WZZT/MAHsTPsUG2MoBeAtL7C2ekr/HApigBSOj9GRvcqAzgkdN741qucKalBeDeIGiW\n",
       "FbGOYS7nAc5WcRgLTr8CvJlC3kYxIp9uiAhgACCIaZIzldF/3hl4zFdOZg6GN/KctWNEcryfAJ4g\n",
       "pfHAgpUFIK0RSMMG79WrDplifjTUZEYIYBU+m8PhLZUBhNgOL+84R4YLgqzdKm5XTU8SwAOcQbjD\n",
       "JbxEF2Epfqxug+NUA8SR2zom229knUoG6InjViCQK1PqZVoQ1+9Jw0MyEFfP1/AIVtPMFdQUnykn\n",
       "C0rl6GyCAEjOQpHmQwLTg4MXAGvp0DHL4fU8NvsMHpOz/ei6xqAz9tdZycBOkCfzEcw4Zk9CbjVd\n",
       "EURAWSDlIJb79hKLnAjiLEBSjFF8lftAeZtoHq0fTQo5Y2YdzlxypUiZA/0HuRGsAtWugzzre1gy\n",
       "dl9jiRlvAolJzMlpAMOgFKGcSbbypOhUQh2g/EYuTQvDSnI4hpV8fzCfb8Yi6MWwlA3+nxBjpom0\n",
       "G4DJWcy+AvriVAcNAAfgQx4xSFuWmRa5+PGSbwi/1FL+Bhhib8y5ERUATM64GVpl+krFSt5Xe+oL\n",
       "ISrf7ojhxV+3RlyMeS4G3iQK3xvLsjJ3nRRFSc64GaKN0C5Wby8mrrrLlgps33XDNTFAdEr4Jsxu\n",
       "HiQ/ZHDJGTerU2loLFbTkmVu1E0R7ZV5iiDRM2T6TM5JkMX10MbljJtlDVQiS9diQvK5M5Kmu5tK\n",
       "WB173wKBI9xr/U2R3K4MkzNufjdb20mrQ8tVX0/ir/sOo2s6TYaMy1ziTl6ylb6Tteyw408td6V/\n",
       "XJ7/chfZidcihUv9Fy3RNNzgH8uDzfJc1C+KAAAAAElFTkSuQmCC\n",
       "\" style=\"display:inline;vertical-align:middle;\" /></a><br>"
      ],
      "text/plain": [
       "<IPython.core.display.HTML object>"
      ]
     },
     "metadata": {},
     "output_type": "display_data"
    }
   ],
   "source": [
    "exp_rational_pos_closure = Forall(\n",
    "    (a, b), InSet(Exp(a, b), RationalPos),\n",
    "    domains=(RationalPos, Integer))"
   ]
  },
  {
   "cell_type": "code",
   "execution_count": 20,
   "metadata": {},
   "outputs": [
    {
     "data": {
      "text/html": [
       "<strong id=\"exp_real_closure_nat_power\"><a class=\"ProveItLink\" href=\"proofs/exp_real_closure_nat_power/thm_proof.ipynb\">exp_real_closure_nat_power</a> (conjecture without proof):<br></strong> <a class=\"ProveItLink\" href=\"../__pv_it/theorems/c7ed69624dda0fc4e06af948ef999c61b0102e480/theorem_expr.ipynb\"><img src=\"data:image/png;base64,iVBORw0KGgoAAAANSUhEUgAAAKMAAAAaBAMAAAAph/EOAAAAMFBMVEX///+IiIgiIiIQEBB2dnbu\n",
       "7u5ERETMzMzc3NwyMjK6urpmZmaYmJiqqqpUVFQAAAB6qHgnAAAAAXRSTlMAQObYZgAAAAlwSFlz\n",
       "AAAOxAAADsQBlSsOGwAAAupJREFUSMetVU1oE1EQnk02u5tsEtP6A2IJGq1YejCI+HMoxIOlSoUF\n",
       "gyBim4pZsViM4KFSaFIEwYtNEUsPRXJoD0LF1YP1j5hSIlR6SHupiEgEGxAU2oOiQsF5u/teNm1C\n",
       "kuKD3Tc7b/ab3zcDsKkljsJ/W+/N/Wv5Y7l+RI9mEkfLn0uRuiHPU8dX/UpZgZm6Ia+ZO9fMaVa+\n",
       "+776Zy85tKGmPOF8qhFRCpqEkHEnS04EKe/6HkVdiPeKMMZqhJRDJmGPyfl1kCGIDAI4fgIM1hPU\n",
       "LSlKgD23AfKFE4lxACc6z+dqhIzTnNiUd2ZQLwVaGKSAxHMMbAZha81OIyv1pz59d40oRSuXu5DY\n",
       "is+hQOBwrZDfyOveiSHGuKsUHRf7SEqeIGcaIForpEoMOwbXWU2OFWN5/OAewo7HUClI1uQtnkqP\n",
       "kP2WmTKp9TTMUoGH+JzNwDMmnSxCdmb1j2HMoKDwNI+iX01xPHSQUvGS141CL3zmFZla1YrPW4B9\n",
       "LKQYtcB+0/HoPCG6EczjY9l5jUZzHGR9euVhGU6Ta+DTeLBYeQQcf+m3I2IpogGBaB6OEePJvQzP\n",
       "dACXAR1yO7lr8YZlaCLCSx+HrJCOVXCvMMd3WyDlfqIgnsDXmQcoeED8Def0QuOlHgLdqOwybFji\n",
       "L07QHwsouQbe5AfKaLBAOiJNZsbhNgZf1sQgTOmQ8uWI0SDmXBkdErQd9EdSdD2wqLGW4cwxSA3m\n",
       "BYzjLPnyovf2FN73OVVVcxzHPzYaYto9qqp9CBlmwSYmdG3r/xJjwSxM0k70KyFcXQNI06PuhJBV\n",
       "bupWcq4JYvsKtIkhw0rXAhWzp9ZXqqvduJBsjTPZRHxK0TOGRXRSc4Sg2R0xrgCOBv+GTlRxkU5k\n",
       "Knuz0AnSFaQe7QxdeCm2wQBG/g46KLYkwMvqMFgN0l3a8yCsqqZnHkNlu9pbKvGjGqQtUelkssrs\n",
       "qbgqz55MpQlZJZibmJBsjleaJJjhf/IYqJuHoZECAAAAAElFTkSuQmCC\n",
       "\" style=\"display:inline;vertical-align:middle;\" /></a><br>"
      ],
      "text/plain": [
       "<IPython.core.display.HTML object>"
      ]
     },
     "metadata": {},
     "output_type": "display_data"
    }
   ],
   "source": [
    "exp_real_closure_nat_power = Forall(\n",
    "    (a, b), InSet(Exp(a, b), Real),\n",
    "    domains=(Real, Natural))"
   ]
  },
  {
   "cell_type": "code",
   "execution_count": 21,
   "metadata": {},
   "outputs": [
    {
     "data": {
      "text/html": [
       "<strong id=\"exp_real_pos_closure\"><a class=\"ProveItLink\" href=\"proofs/exp_real_pos_closure/thm_proof.ipynb\">exp_real_pos_closure</a> (conjecture without proof):<br></strong> <a class=\"ProveItLink\" href=\"../__pv_it/theorems/debbf5c6811a59c6b86a51a3366f0e0186ec2a510/theorem_expr.ipynb\"><img src=\"data:image/png;base64,iVBORw0KGgoAAAANSUhEUgAAAL0AAAAaBAMAAAAQ4EBVAAAAMFBMVEX///+IiIgiIiIQEBB2dnbu\n",
       "7u5ERETMzMzc3NwyMjK6urpmZmaYmJiqqqpUVFQAAAB6qHgnAAAAAXRSTlMAQObYZgAAAAlwSFlz\n",
       "AAAOxAAADsQBlSsOGwAAAw9JREFUSMe1lk9IFFEcx3+j82fdnbXR6hCJ1KZRdEgitA7CdFAsDCaS\n",
       "IAQbo32RrLRBB0NwNwqhSyqVCEnsIQ+F0eTByg0bCQPDw+apQ4cNckEo0ENRgdBvZmfem/XfukYP\n",
       "3sxv3rz5zG9+v+/7vQH4hyYNwv9pH5zz13VnGNgDW8UHDceoW3eKjt2nb5F/3o3PUqW2AR+mtsiP\n",
       "OGeumjO84/I98ntfhPGL8O1py/hcEN5X4xiiKffn3BF9af+3MOVzCJ+wjKGC+AHVMYqjgfQKvgp6\n",
       "DwQIqSX4HcIPgJ7CE7Et4RpQnFrFf1VC/YdhgBKMEZ8qiB9zk1qkvXcScTF0kPJFxh/HnJj4jsLS\n",
       "W07X1wvFPvsHNOb/fBvjb8d+JBQ6Whh/wTrcPXGTDtzRWHykziHGf443XgKEVzP4DfjEcvkYXKXa\n",
       "H2LxP354r+auX4xkFB0BX3oNjWzAf4T9rAljdKCf8ZunvYrtQyWIGp/wDM2dnBxg/BuOsoJVDxcU\n",
       "d8oh7G8BqmgaMMSh/U58wrMe2AUkBxWaXqmSJDgemlTKL7Wkfi3TAYrK3/b6XwvCH/da0D367BY9\n",
       "JaMvan0dLRNJvOQ4mFb45FhyIruC8FWYIVAU+YyHLyyBvEgxezz8QJdnMcXieDj9AA8tU03AmWDz\n",
       "dxrU/1jZPFSAzeda3acyyF+G0v5P7kCZhy/oFYxv6QduYXqFA9IvOGcvFd7XblJ+ubY7+/WK2kuf\n",
       "s1TdDnMGrW0lKco3YFZk6Xxnx9iKgSHVwKjND1zSWX4jMOM3bf54Y45XbTu6vkRpAjIjbv38GRev\n",
       "LNOZk65RnMBaN0MISXEc/4zpvw4m5UFCOjE+p1Js8krF+huz9WFlG6ZCiovT2nXbf87/mClgEeol\n",
       "NRv/pw2r6me+ZtVPx6V4bFSzlYX6bHACK6hQLevZ1Y36pPmVajbJl+nC9b/52Ay+y2g92aW2vnY4\n",
       "9dCN0uiNWhXsvpCkK/P7JvlF8dzrFkJyQhvMfkYj6Vh7/83X8u2/I+v9P2wuAXm3LTPf/0+efRTz\n",
       "+RcQP62N3eXF6gAAAABJRU5ErkJggg==\n",
       "\" style=\"display:inline;vertical-align:middle;\" /></a><br>"
      ],
      "text/plain": [
       "<IPython.core.display.HTML object>"
      ]
     },
     "metadata": {},
     "output_type": "display_data"
    }
   ],
   "source": [
    "exp_real_pos_closure = Forall(\n",
    "    (a, b),\n",
    "    InSet(Exp(a, b), RealPos),\n",
    "    domains=(RealPos, Real))"
   ]
  },
  {
   "cell_type": "code",
   "execution_count": 22,
   "metadata": {},
   "outputs": [
    {
     "data": {
      "text/html": [
       "<strong id=\"exp_real_non_neg_closure\"><a class=\"ProveItLink\" href=\"proofs/exp_real_non_neg_closure/thm_proof.ipynb\">exp_real_non_neg_closure</a> (conjecture without proof):<br></strong> <a class=\"ProveItLink\" href=\"../__pv_it/theorems/8ddcd9d89191092b1b1943e99a184785823629060/theorem_expr.ipynb\"><img src=\"data:image/png;base64,iVBORw0KGgoAAAANSUhEUgAAAM0AAAAaBAMAAADmqcXNAAAAMFBMVEX///+IiIgiIiIQEBB2dnbu\n",
       "7u5ERETMzMzc3NwyMjK6urpmZmaYmJiqqqpUVFQAAAB6qHgnAAAAAXRSTlMAQObYZgAAAAlwSFlz\n",
       "AAAOxAAADsQBlSsOGwAAAzFJREFUSMelVl1IFFEUPrOz8+PObjsa9oMhtiFFPrREoUGBPVRGBvMg\n",
       "gQQ6Rm4lCgv2UAjtSO9qhNGDxUASBFYb2J8bshIGhtDYsw8baCBp2MNGPQSdO387M+vSTntg7r1z\n",
       "z53znXvOd88dgArlprz1PNend8GTrRUCfDS6baXsdAyQdg4eg1AJTCRt9HSy1AqqH5tmiCq8XAFO\n",
       "p9mnqldLLQn3AJ8HWsNN/b/0m32NVOc2fjfxe5+pDLdweQhkISAB5MjEsm8YPm7jLbg1LJ8LrfeS\n",
       "EXNaRRxaBApBZsjMfd84gpX+Zpj14rSCfIu4MpskcYtqwOQB9Bn/iYqq5mATThTjvKlCo9+TJg8A\n",
       "JgCqMHZBzTdOSjIHjWHTyR2x2JiNwwLzTSFv1fAM21eYqyxi+adBjTUYqjb6J7WO/ax2ASOZ5/Ql\n",
       "ttvxORyLHfGPs0bCvbJLtHkx7ogbN+BJ+HMEfQ3Q6x8ngc8jhc1b71VKAefYob2SJ8qYqhHgc14r\n",
       "zDRZOLyklMR5iIuOg9Bg4zh40D6PieISKFfNuVFkDSsFVYeBz2dn72AYziHEOJDEcvdcGlOakNqb\n",
       "ELCL22AMRTbj1rvo8aobESKi7QtXn1CpILTh10ydysThKJldcWvs/dCy/r0hF5y8HmI9cRslFB+z\n",
       "y08GXykK5kl2+YN8A+w3TqJbY+F0i/DJthRw4gg3PAcyRRJwnlClY64NqCzo1mqxFHPTEu6nhWzl\n",
       "R73k1BjyFXE0WItYGaREBw4j7ynmG9xGGjAHuF/G3qkg35OF0DrZqJ4fqpFKOzSm4IlgxUhT4Wp5\n",
       "UMBJwyKrunDe6zcVxkRIc3GY0q0Jl2VgNshweJl4y2bDYwWNw0Pmy5mRnfZEV59k1eufCnvtjwvH\n",
       "LoG0ijV1AZmoUVTwqWsNnRRyxRpa9TJ98pJRd7aSCZt4CjsvXde9pkKTEp/JZGasiok3VUFTVK/L\n",
       "EcY+zrSSmpJ0NiJ7T6UdtzxeUh+gWMPFfeCE7UIQerfUDvwVUg93t158W1gyqHEvxK00Gz5wAp66\n",
       "0pFIFIVdK6Hp9IFTxv9BSCr1v1N+gsq5RsP/+n8r545HX/8C5R/IwZVQeX8AAAAASUVORK5CYII=\n",
       "\" style=\"display:inline;vertical-align:middle;\" /></a><br>"
      ],
      "text/plain": [
       "<IPython.core.display.HTML object>"
      ]
     },
     "metadata": {},
     "output_type": "display_data"
    }
   ],
   "source": [
    "exp_real_non_neg_closure = Forall(\n",
    "    (a, b),\n",
    "    InSet(Exp(a, b), RealNonNeg),\n",
    "    domains=(RealNonNeg, Real))"
   ]
  },
  {
   "cell_type": "code",
   "execution_count": 23,
   "metadata": {},
   "outputs": [
    {
     "data": {
      "text/html": [
       "<strong id=\"exp_complex_closure\"><a class=\"ProveItLink\" href=\"proofs/exp_complex_closure/thm_proof.ipynb\">exp_complex_closure</a> (conjecture without proof):<br></strong> <a class=\"ProveItLink\" href=\"../__pv_it/theorems/1c66acb54ed1794a27f62365a6d0148cdc9175f90/theorem_expr.ipynb\"><img src=\"data:image/png;base64,iVBORw0KGgoAAAANSUhEUgAAAI4AAAAaBAMAAACTJHluAAAAMFBMVEX///+IiIgiIiIQEBB2dnbu\n",
       "7u5ERETMzMzc3NwyMjK6urpmZmaYmJiqqqpUVFQAAAB6qHgnAAAAAXRSTlMAQObYZgAAAAlwSFlz\n",
       "AAAOxAAADsQBlSsOGwAAAo5JREFUOMulVU1oE0EUfpvNZje7m5gKakEIshAoeCkiFERBTwoqjBA8\n",
       "FTdUu6IRERIQFexKwYtQcrHoQViwIEKRBBTrD5qCEXrRVTwU9JBiPYiXKojiyTebmXHXJpuIA7vz\n",
       "3ryZ7/3PAPzDuFCC/xqm15mze7vL6wPivGezfK67/OpgMEqNEVNDn7rbmxsIJ9VkxEay9S9RceLm\n",
       "cBWgANCm7IdYnGlOnIGlqET62FSelwHyAI8pfyMW5z4nxuBZVNKYQ6cQxyZwGVktPp+/OLEGeyIC\n",
       "tT6J/y8A6SakCUDSj4NRv3OqYDKFmy2Lxj5LKD8OYJTAxCCmY82RtnHq0lBnvruJJUBjlSONAuyw\n",
       "rJ2xOFmqWlsdFsnVrjNiRmWFqaPJDwEm49NOjb/tpoR7aZcRVZ1VhPoDQUFri1DMCmfKK1f4MRQr\n",
       "u8EQ7okwXNOZjRqmIkWSntC9SsHyjqecdTMn2FoCg2CsQUI0V8XCUQriw9YUxMnkQmEew+8JdlHy\n",
       "CMCLkD1yCWyh7ajwmLD8aegX1BZpgS8eoKZ8zROJ+jx+EYUhHDsHr4WyBCf0oH50PPcT58MYfmUk\n",
       "IKWCVA+0LS+H8oVKbR8+Z3h4JZG5xj38PerkC6ZRn1FXR4OONGvzdEOrFaoflKRyme2GWLklRKcW\n",
       "lLcYPpMezmI8ZE9qBxeM0V5yHMc/f+cPDlWmrOyf2SJWjp0mvN+Pf1vAyeAZt91UC2UbQParlKdx\n",
       "VvixXetKam7CqoX5NL9ZZHdqnhQhQV5iEmgCDrqwb12/9xw2t09/+uYQVHy1kQPtZGDwbFlcopW+\n",
       "OK+ibKfti47jRRvM74czEuF00ud+7vmeRO9ns9e+d31wBnwvxPvVazwA+A3tFI7sW7LCmAAAAABJ\n",
       "RU5ErkJggg==\n",
       "\" style=\"display:inline;vertical-align:middle;\" /></a><br>"
      ],
      "text/plain": [
       "<IPython.core.display.HTML object>"
      ]
     },
     "metadata": {},
     "output_type": "display_data"
    }
   ],
   "source": [
    "exp_complex_closure = Forall(\n",
    "    (a, b),\n",
    "    InSet(Exp(a, b), Complex),\n",
    "    domain=Complex)"
   ]
  },
  {
   "cell_type": "code",
   "execution_count": 24,
   "metadata": {},
   "outputs": [
    {
     "data": {
      "text/html": [
       "<strong id=\"exp_complex_nonzero_closure\"><a class=\"ProveItLink\" href=\"proofs/exp_complex_nonzero_closure/thm_proof.ipynb\">exp_complex_nonzero_closure</a> (conjecture without proof):<br></strong> <a class=\"ProveItLink\" href=\"../__pv_it/theorems/7a90dd8932f9de7a10133945b0bc2a6cedba1b0e0/theorem_expr.ipynb\"><img src=\"data:image/png;base64,iVBORw0KGgoAAAANSUhEUgAAAM0AAAAbCAMAAADoBftpAAAARVBMVEX///82NjYbGxsSEhJKSko9\n",
       "PT0oKChfX1+IiIgiIiIQEBB2dnbu7u5ERETMzMzc3NwyMjK6urpmZmaYmJiqqqpUVFQAAABvRl5h\n",
       "AAAAAXRSTlMAQObYZgAAAAlwSFlzAAAOxAAADsQBlSsOGwAAAyRJREFUWMPVWImypCAMZO9w3/7/\n",
       "py5BkBHQOWqct2vVe6UOgYR0Oo2E/LeX+Ad9Uka+Zsht/s+Bf6X73u6f42ve6JgnA0Isbof7mmBC\n",
       "vy5TL80T9Wa8pFstvwTspkfaAhCfLwGbM6oXtGShZOnjl/TdC6CCwD2cCC6pMaBVisFJvH6kP5+2\n",
       "AqOheU6Kt7FhwF8fjGaz8Lw5t4LI0ijhFlnDBl8Sm3MD6yAsn60ojb4+GjeUPCLfxXMjWHFFfI1G\n",
       "lCpZkbaE/A7vVZ3pI3W02OFNBf4xhzsiS2FFtyLt+zeZkdZYALOB+TJlJA8faC7LUO8J7n6/jyBp\n",
       "uhr4EkfUAaIAbMslIEOXJ4ejfCkX84HUAJ3sPOzYyBroIpZEdywh24jUPV15glyTDLeCsk+01Gha\n",
       "8+OgJ6SqjRjbpNr7FuZkbHPinerivZCfK2QsS1iXI+4mVJRCsXu2NUcwVlUj6Phw/8ON0hDgBQo0\n",
       "ZRWBjEscnYwYs+WI3SUj2AP2XykG08LtCdqliw0WGcOIB3MmHPc2W8mXAnBLfhrBrVbYp0ve1s1D\n",
       "VSDWaBCH454oiFJa5HaUREHyG9EosOCYGITjgc2QGybb6nuPJm1CNk4778yLKukdVY5zRQ1ykX/z\n",
       "nHDn3J/fLvVbjRihqheOE5tpNGLBn/0ycWkCPtv6DbGn9K9Lq6lMIrgHrpt0QIpX6xS64azkRnfC\n",
       "8cjmhtNkiSasBBeG2gOYaoHaUs7aiC2kolmtTqrXEFvGg96WTLn59dNhbjIwTSccpzadr0WmyeRz\n",
       "SEU0UZsmzArXOE1EoKfq1FcNGDeoYCFinBsneuEbj4o6XeI0rzvheGAz2z4RgSsdYXK0EVFaMdHQ\n",
       "bKHunEUHtcds0aLeZN0tA1HKtjXd1MkiHA9shgXuH13kTtk8TP++5zjsaV6I2+5bKho/Kvi5L0U4\n",
       "zm3uaej3nQOHXsywbCzCpEkDzXOGORy20iocH7BR7LrvDXEkQx+A+3w+UM3jBCE3h45CMV+F4yM2\n",
       "8TKlTvX54VXmTnjvq8VzNuIqqf6W7wL2WbEarqmc95w1n/+W4O0V0axs+xevjS0UrNX6kwAAAABJ\n",
       "RU5ErkJggg==\n",
       "\" style=\"display:inline;vertical-align:middle;\" /></a><br>"
      ],
      "text/plain": [
       "<IPython.core.display.HTML object>"
      ]
     },
     "metadata": {},
     "output_type": "display_data"
    }
   ],
   "source": [
    "exp_complex_nonzero_closure = Forall(\n",
    "    (a, b),\n",
    "    InSet(Exp(a, b), ComplexNonZero),\n",
    "    domains=(ComplexNonZero, Complex))"
   ]
  },
  {
   "cell_type": "markdown",
   "metadata": {},
   "source": [
    "### Closure theorems for sqrt and sqrd"
   ]
  },
  {
   "cell_type": "code",
   "execution_count": 25,
   "metadata": {},
   "outputs": [
    {
     "data": {
      "text/html": [
       "<strong id=\"sqrt_real_closure\"><a class=\"ProveItLink\" href=\"proofs/sqrt_real_closure/thm_proof.ipynb\">sqrt_real_closure</a> (conjecture without proof):<br></strong> <a class=\"ProveItLink\" href=\"../__pv_it/theorems/ec93eb13788fa2d9c7843cc98fa631a1a503152d0/theorem_expr.ipynb\"><img src=\"data:image/png;base64,iVBORw0KGgoAAAANSUhEUgAAALsAAAAZBAMAAACbakK8AAAAMFBMVEX///+IiIgiIiIQEBB2dnbu\n",
       "7u5ERETMzMzc3NwyMjK6urpmZmaYmJiqqqpUVFQAAAB6qHgnAAAAAXRSTlMAQObYZgAAAAlwSFlz\n",
       "AAAOxAAADsQBlSsOGwAAAwxJREFUSMelVk1oE0EUfptkZ3fz14jxIEip8Qc9WUS0ekoPlgoRlhq9\n",
       "CG0iZv2hxYAeCkKz0pMX21IEDz3koIJYNYi/raQpkoNQIRYPQgXjQS+K2EO0Fqq+mWxmNzVNmnVh\n",
       "yZvZN9+8+b733gTA1uNNN/bxgO1ngVupP/Sp5SPH7KKLo9w8s7bXrF14kqtY0r8hese1X9v60XCo\n",
       "AEU6875J+GFu+WuIQOSi+2sCQEDsKTpxo0n4R9y6WutschhiQ0hhCWDIjgjL3JpaA/6ZgsYEgIIE\n",
       "uQrNoUulGhojGadCuzk8QeMJCoEqKU0GL7Tx3LYE5h5Tzeg/9aKxEd+9odC+JuH9POYefK91XinL\n",
       "oJrkSANUzgc48xQg0WTREa5VBIPugAtqVX4Q+eCerXQqlcTNQS5als4fyY6VnUyqz7MfV2fYmFDo\n",
       "Ah9NSWTpWA4estlREz6SZ4MRdCGqq5K7UquWFlzQHa6Gh+hAuQhvG2NHhhKLCEIAYAZgO1uMLId2\n",
       "GuQk5qjRh8C+AFd2Gg8jCJAPrIIHgRbhAWjRzeil6E/cBwf7QWR5KsYsiXmZUHJGkvRQtDdEZ7tB\n",
       "oKWO8JsyJrwYCVJMbxzkEjgLFnLE36yriIvg/c5m2yzwnkG6WYouPXodnXZJS3CCBeqS4zkTvkdn\n",
       "PuDtwGR3GK3GzwKd0WEHrlzBRHpHxxss8GJsi5E5MIyxeDJSO0wyeM/pmEXaabjIDtGVRnhnwOCq\n",
       "nQmX8VGR4jCfYcdVChw+A3MEeX/JYkGGnGnsP680TSsIguueBf4QtNKukU1ScloMADerWlKiFQ+9\n",
       "wcGPSRbC51uVjvlDJ+dWALKV8/TpJK9eYpEJ7psqhxeXoP84yN+SVdLipnSTxYXqcnB3lZsCfyYq\n",
       "hlNPTapMbUzMwxZpO6TlvPhFL3N7v7pjjjdotCJvTe4XbyIg05vnzubwyecm/N3XwZyoGmX1uOLO\n",
       "9IAPxQYX8qrvUU0zbwdSr+kwERS9Pryj3neyvrsWbN61lp6DGaWdrfr4dh3o9S8p+b//56BkfwFl\n",
       "87kAaLYkpQAAAABJRU5ErkJggg==\n",
       "\" style=\"display:inline;vertical-align:middle;\" /></a><br>"
      ],
      "text/plain": [
       "<IPython.core.display.HTML object>"
      ]
     },
     "metadata": {},
     "output_type": "display_data"
    }
   ],
   "source": [
    "sqrt_real_closure = Forall(\n",
    "    (a),\n",
    "    InSet(sqrt(a), Real),\n",
    "    domain=Real,\n",
    "    conditions=[greater_eq(a, zero)])"
   ]
  },
  {
   "cell_type": "code",
   "execution_count": 26,
   "metadata": {},
   "outputs": [
    {
     "data": {
      "text/html": [
       "<strong id=\"sqrt_real_pos_closure\"><a class=\"ProveItLink\" href=\"proofs/sqrt_real_pos_closure/thm_proof.ipynb\">sqrt_real_pos_closure</a> (conjecture without proof):<br></strong> <a class=\"ProveItLink\" href=\"../__pv_it/theorems/cd74a8eec346533bda25f89d4d6a47751c0659750/theorem_expr.ipynb\"><img src=\"data:image/png;base64,iVBORw0KGgoAAAANSUhEUgAAAKUAAAAZBAMAAACiDfPnAAAAMFBMVEX///+IiIgiIiIQEBB2dnbu\n",
       "7u5ERETMzMzc3NwyMjK6urpmZmaYmJiqqqpUVFQAAAB6qHgnAAAAAXRSTlMAQObYZgAAAAlwSFlz\n",
       "AAAOxAAADsQBlSsOGwAAAq9JREFUSMeNlUtoE0EYx79p9plNyorUB6joehE8WESEiIdcxAoV91AE\n",
       "EZpVzIqiKFRFEJqF3mtEhB4UAvYiVAwiPhotLZKDUDCKJ/UQQQ+Kh14qVfHxzaSzO5uk2xnY8GV2\n",
       "9rf/77kAEitTkTkFVbwskFwfuKH/o2thhWMeXoYnh1TL3NIuJp1juDk5pjbLrStd4nLT/7n9XMTs\n",
       "cQGa1PiYyBwLrW/d3mg009+LIZMgcJoaE4nMR9wwyl2ZefBGwfL9vT7qVRcBRlcP7C9uWJUVmE/N\n",
       "UCfcBjDRf6WRhNQXuXVM3F7nOOWQqUXMxxhjTICZKJNs5dYLYfden6Dzy3DEXIvXbsfZk8js5VFU\n",
       "EW583mCz0N4SfNfPT0TMB+j4E4BiJ0gRAsajraBLdwONhcIMImZu1zaX9xFACWt4HIxmJ1PoMZPe\n",
       "fk9LD6XuB4uFwhRyNFgX6+E6JlJzFTGdbw/N3Igze/D9JIfGGtxegJ483RxxcHnLvhfnBUABaVk7\n",
       "fKe+xa8QBQbyHTovH0GPUGDKY88AHBVr6ZrmCjpp/5bDFq3hX0Kgbiu1h7XpmO+FJmQwOQUbXrfE\n",
       "i0zrqlDgJRrpwzSFQ3MDQGhfI7OvGtPZSx+wllgnFxrwNUsfIrbAVL1N0XGadxhDHeoOfanlD1GM\n",
       "E7MxJumntfMb3lGAnd3ZunUnYlZhXotS8pLpQI+tqt4PU4xgnfLiOUqz4rngUnfUTwfH17Pd4bMu\n",
       "n0s/Au3Mn/D4DDdSFZwnr3zfbxCi3I/XJ+xjLm2uxqtt8qTTbaTQfl8ugECru5eYTpKedLvMJTMX\n",
       "yA3wcDqkgtKUyyoCa+lAm6IR+pP9KzfAM2EDpZ+/GQTjNJ0NG/PHn7U1fGP1GRt1SJs7Q75fSfwe\n",
       "SSzJ7xGrIskl+92U/b6z2YM5+Q+pAp5FtC8/zwAAAABJRU5ErkJggg==\n",
       "\" style=\"display:inline;vertical-align:middle;\" /></a><br>"
      ],
      "text/plain": [
       "<IPython.core.display.HTML object>"
      ]
     },
     "metadata": {},
     "output_type": "display_data"
    }
   ],
   "source": [
    "sqrt_real_pos_closure = Forall(\n",
    "    (a),\n",
    "    InSet(sqrt(a), RealPos),\n",
    "    domain=RealPos)"
   ]
  },
  {
   "cell_type": "code",
   "execution_count": 27,
   "metadata": {},
   "outputs": [
    {
     "data": {
      "text/html": [
       "<strong id=\"sqrt_real_non_neg_closure\"><a class=\"ProveItLink\" href=\"proofs/sqrt_real_non_neg_closure/thm_proof.ipynb\">sqrt_real_non_neg_closure</a> (conjecture without proof):<br></strong> <a class=\"ProveItLink\" href=\"../__pv_it/theorems/5c88c3fffdc5faadb88061f2ef44a65f7cce7ad40/theorem_expr.ipynb\"><img src=\"data:image/png;base64,iVBORw0KGgoAAAANSUhEUgAAALUAAAAaBAMAAAADNwChAAAAMFBMVEX///+IiIgiIiIQEBB2dnbu\n",
       "7u5ERETMzMzc3NwyMjK6urpmZmaYmJiqqqpUVFQAAAB6qHgnAAAAAXRSTlMAQObYZgAAAAlwSFlz\n",
       "AAAOxAAADsQBlSsOGwAAAxpJREFUSMetVk1oE1EQnk2yP0maulrrD0UpuSjWQxUtFhR6qFpRcQ9t\n",
       "QZRmFY1ShBbUHu2WipdCGgsFD1UX7EWoNoditdGSUlqoCKbiRekhgigVhSIUCuLPzAt52WSjuwEf\n",
       "5O3s23nfm5lvZl4A/uPoMdmjeWOZ+1660BGPpHGuUAM6BMuADiVykvybxkpptU0pAG83rIGiu8c+\n",
       "zSWp+1968yoManAIYMY99pV8UO0fFxq6hhpSWXnW6NVgN4BHA8jQwpITtFLPxS8lPusxeDyvkdTa\n",
       "CYi9B0BA4ClaueOEHWzip8RLYd8ESSYrBz4DxeQn8roKcIP0HQO/zuSnmKWxgwYeGkPoLJcAIwB+\n",
       "dMWXdsLu1eykUlqEw3GOrUPHU3oR1AC58ASzETnwO1K5gUsvLKsPq/N2V7ZloC371lxDllThb284\n",
       "vM8Re5mXRy2G8OMWlYV+2BKTnndG4ZZxPGAS4KIjdjQn+NDNB4a0SrKfo+n9Q9+ri8OIdRADJWMr\n",
       "3gnyqm+Rb75H03v8efDjQQjWMmwLl6+Ih54ojtyeQSRd0nxW6t8cm76N7h5HlWHg+VZHHDXitB4z\n",
       "ZQU8LCWvhnHoWWzpbKrIvgiihlR+vrw9ago+aMGdYo0p1sN+q93XT6GXaLBXZ/sA2i12y4niwA5S\n",
       "b4jz0k/iqyDAHDGl7FJqYUdBTCIZ7HH4UOE1W/RY83vyVnG8KTgnie7WmRYQyC3ErsaeJ09oaPeB\n",
       "nOInVjZrrEtE0rAcMlgiW7DbhZQ9T6AfqRR3ymtZHwWfci4Fga/kUD7eVSznfsBbaoRqqC7bnu9y\n",
       "7AGsk85C7FmaKjESwYRcD2MMO3hBB/EbiX1LRoER0KWRi+KHo7HNbLWjU8v1wcsQvV9Y3dM5wWti\n",
       "31rADEoLgu+RPb+9jLzxbYnC5dHz4fjfSmKEJ4whzWnXmN1CYFRTksnklL0P+hsN1w1fXOV2Gb1j\n",
       "mqSxeMPhhE1TZv079Mv9ZVLBCzLwfPEEKJeo/2xtOvPMrsoIcO7z+eEpcrE1GjUd70uXo4z7MtRU\n",
       "HnQ597yr/ydW8pG7Pw+2wo4mEh42AAAAAElFTkSuQmCC\n",
       "\" style=\"display:inline;vertical-align:middle;\" /></a><br>"
      ],
      "text/plain": [
       "<IPython.core.display.HTML object>"
      ]
     },
     "metadata": {},
     "output_type": "display_data"
    }
   ],
   "source": [
    "sqrt_real_non_neg_closure = Forall(\n",
    "    (a),\n",
    "    InSet(sqrt(a), RealNonNeg),\n",
    "    domain=RealNonNeg)"
   ]
  },
  {
   "cell_type": "code",
   "execution_count": 28,
   "metadata": {},
   "outputs": [
    {
     "data": {
      "text/html": [
       "<strong id=\"sqrt_complex_closure\"><a class=\"ProveItLink\" href=\"proofs/sqrt_complex_closure/thm_proof.ipynb\">sqrt_complex_closure</a> (conjecture without proof):<br></strong> <a class=\"ProveItLink\" href=\"../__pv_it/theorems/bc38e711c9a3f68083ce453055faa85b0032d0af0/theorem_expr.ipynb\"><img src=\"data:image/png;base64,iVBORw0KGgoAAAANSUhEUgAAAIsAAAAZBAMAAADzmcCEAAAAMFBMVEX///+IiIgiIiIQEBB2dnbu\n",
       "7u5ERETMzMzc3NwyMjK6urpmZmaYmJiqqqpUVFQAAAB6qHgnAAAAAXRSTlMAQObYZgAAAAlwSFlz\n",
       "AAAOxAAADsQBlSsOGwAAAoNJREFUOMtjYMALeBYwEATchJXchjHY/f+DADY1HAmETGGdAGOxFeBW\n",
       "dZCQMWwHYKwyrLa4aU5sd2BgCmBgeADi38FhTDOc9QqbtJwNQ/S3DQyMQDN2gfgzcBizBe7/CdjC\n",
       "VsqBgeHYBgbWrwwMdfgC6RdcB7YYq2YD+oZvAwPDHAYGTiCT5QJ2U9i/wliRyMJiSkpgxz1lA4UP\n",
       "MPi2AVMGkOLE4RhGBRhrL5LoSlEoI6EbyhAGYiMlJRMcxvDBQoQVZF6fYyM4mKbCwutBCZS1Huij\n",
       "7QwMqbjiGxZmLEAnc1kw5AOVM3A2wLzssAbKqgcmqj6gsSg+yX7YCGVygiRuATETEAcfYNgEFoTH\n",
       "3oaFUFY/MALYAlhg0cAul7aANa+BNwXKZwLGAqMlkCEIxPsZGFRAgsVKQAB2ZkILVF080ABeAbj5\n",
       "u4GOYwlkYDiC5JpSf6AgKGjMGFjB8R8Gd3cqG8w1oJwyAZQnQg56MDCCkn5MFdC5yJ6Kf8DAIwAM\n",
       "5Y8MPB8YoB6EgNWgdMMAdEk9KLh8gUHPqsH+A2LPjRtIMQVyO/cPcKZh/QuMOJAcowAiFQOt4Z4A\n",
       "iSmGZhBnA7sBAzjgjx5FCm0DUEj+ZrgC4iQyXNqwAcSYi0iHsxtitYH0YbCdQJ8xLwDmr5NpaWkX\n",
       "ypcjjOECp+L8AHBKiROpeAguLeKyAuA53F4b5J99MA3xDWxHA8CpCRTErDBhK3Dikt2AmpyWJCmh\n",
       "5tQ5MAZzQ/2aAHCIcXg3MDii5HBOywYChRs863HtuejDwJEOYoZMy4aXdMUggvcfgcKN5wEqPyQt\n",
       "DbVA4LuArzSCAaYGostifIBgWQyJagKAcM1AXD0FjBkAwNWVrRLEVNYAAAAASUVORK5CYII=\n",
       "\" style=\"display:inline;vertical-align:middle;\" /></a><br>"
      ],
      "text/plain": [
       "<IPython.core.display.HTML object>"
      ]
     },
     "metadata": {},
     "output_type": "display_data"
    }
   ],
   "source": [
    "sqrt_complex_closure = Forall(\n",
    "    (a),\n",
    "    InSet(sqrt(a), Complex),\n",
    "    domain=Complex)"
   ]
  },
  {
   "cell_type": "code",
   "execution_count": 29,
   "metadata": {},
   "outputs": [
    {
     "data": {
      "text/html": [
       "<strong id=\"sqrd_pos_closure\"><a class=\"ProveItLink\" href=\"proofs/sqrd_pos_closure/thm_proof.ipynb\">sqrd_pos_closure</a> (conjecture without proof):<br></strong> <a class=\"ProveItLink\" href=\"../__pv_it/theorems/1eeb6becb70c3f00131cd72b7f50863144a70adb0/theorem_expr.ipynb\"><img src=\"data:image/png;base64,iVBORw0KGgoAAAANSUhEUgAAAMEAAAAaCAMAAAA5ZchCAAAAOVBMVEX///82NjYbGxsSEhKIiIgi\n",
       "IiIQEBB2dnbu7u5ERETMzMzc3NwyMjK6urpmZmaYmJiqqqpUVFQAAAAnLjGdAAAAAXRSTlMAQObY\n",
       "ZgAAAAlwSFlzAAAOxAAADsQBlSsOGwAAAuVJREFUWMPVWAl2GjEMnbayJXm373/Yehlm1QAhkL46\n",
       "LwSMNdaXvrZM0z9chJgzTf/Tin73MbRf9dWHhNObn1vpcGepgGwxX3wK395Y/nHSuKNL6FsIpgg/\n",
       "jICjsIn3WBSdZi5O6a3oxvKqBVFefRw/C8BqYdMoemBwWzX0OTIJCKBpH5bgcvazCAIKqJgeUcZi\n",
       "/2O6slyXbi/D2lSquMk/FRfFnwHU0Lb2CQTBTk7wweQaEjdbAdNnAZhCZw8YY8JuG1jV5QQELCEI\n",
       "7UOc6e8+7AI4h6wubW02vAMSfZCJsoQAemzphlpp/DCCvJjIZgQrJULrSGaR4bRG6RaB744NPSHz\n",
       "89X9bi28fAzfbva6KsNFOCjkkopAO1XUxjdhR03TTXJ7EeuoQheyA7GkCOm9hysinFzq5htIx6tm\n",
       "wsmRHCNdUdyO9NDMj6dEYSAz112YqjJo8SkEwxCtVvrjKTXbLnTiK4G0ZvC5Lt6ziCle1CoaCBII\n",
       "8EOYqz3Un1r/4SkEufNAN9FiZR9oXm8+qMMX2dSEK5LfehK3dBiEEbBdDQvojgAoyAgWgUFxHI9t\n",
       "1+kkIqDSropF0kdd1YNgLqqVme2EaU4CpOzY3JijscgyyI3JItCrJf/p1XJkfnVwfOYZQRqJKZ3D\n",
       "FuACQVUHRB75OSFYnW/UaWxs38QNgsDIcnO4CoyjcVO79EEdmI8xtPQQxIzmkoAgjKLFXmr9bnfn\n",
       "mfPaz91SdN2mnAaL0CcZwSKw5fFgUUmyuSgDGptBaqops6dTb8ot+7IrQtMQ8jGy29lINBmctnHg\n",
       "PZKEYBVoLPr9a+65xEjuaB8uj7zrKh4sd+SWbqz2bfBYY39k04tIXgU2PWLns8/P9KbfnZlOddGH\n",
       "mADjaLqWVsXhRCE4CcEqsKvqtaIFOqf798/d+e7/ERol/P0xb1e8H458+e3dr3pxpJERPOYuvbv9\n",
       "fXlOFhGkJ+I0vTcSXp/JXp9Go38nghFqfwGkiB2yGkK0JAAAAABJRU5ErkJggg==\n",
       "\" style=\"display:inline;vertical-align:middle;\" /></a><br>"
      ],
      "text/plain": [
       "<IPython.core.display.HTML object>"
      ]
     },
     "metadata": {},
     "output_type": "display_data"
    }
   ],
   "source": [
    "sqrd_pos_closure = Forall(\n",
    "    a,\n",
    "    InSet(Exp(a, two), RealPos), \n",
    "    domain=Real,\n",
    "    conditions=[NotEquals(a, zero)])"
   ]
  },
  {
   "cell_type": "code",
   "execution_count": 30,
   "metadata": {},
   "outputs": [
    {
     "data": {
      "text/html": [
       "<strong id=\"sqrd_non_neg_closure\"><a class=\"ProveItLink\" href=\"proofs/sqrd_non_neg_closure/thm_proof.ipynb\">sqrd_non_neg_closure</a> (conjecture without proof):<br></strong> <a class=\"ProveItLink\" href=\"../__pv_it/theorems/cdadf319f55bca74f0244bfc6561de7abe738e8c0/theorem_expr.ipynb\"><img src=\"data:image/png;base64,iVBORw0KGgoAAAANSUhEUgAAAJkAAAAaBAMAAABWVuP/AAAAMFBMVEX///+IiIgiIiIQEBB2dnbu\n",
       "7u5ERETMzMzc3NwyMjK6urpmZmaYmJiqqqpUVFQAAAB6qHgnAAAAAXRSTlMAQObYZgAAAAlwSFlz\n",
       "AAAOxAAADsQBlSsOGwAAArlJREFUOMuVVU1oE1EQnpfsX7KxiWgFQURXD94sIlo9paBSocKCxYsQ\n",
       "EzGxlhaDChYEs9KLILQRETxU2EMRhKqL+K/EFMlB6CEWD4Ie4sGTUuoh/kGp8zb7XjabLNkOZN/k\n",
       "/XxvZr6ZNwBBRDy0pHdckEftQRhIBoGJmfaggrqt84bhcfqdh3u4p6t8bgxxU/nts4OM4Wc/xA0l\n",
       "3dXDomOi7osGsQwodQhX0cAuIpWZJrR6GruV+7tjzNH75TqEyhDC0NboxBcftEmuXfCwICm16I+s\n",
       "bf8RE9HCCSAI9YrO3PFBe8IUJeu1WklC+ipdKeWpp/EqiHUAe8YvgP+YcgOut6O9iODRpbzDAsAM\n",
       "QARdEKqdwdADx7Szl582tE2aVuRoEojfDfpvPTzE7zOMIQY64sc+C314dXXZVu73umz7lgJRd7KX\n",
       "XrYBf3s0ba8PWg81Y2rgGp9Qbrs8lcc94X6E0M8Bsn4JgvGM9sN5zmfEaKId2L3dw3MBQzgFSs01\n",
       "tXi0dJMfxoXjZXjMFyMuFoYqaLmcQxlx5qaxDCVdMFnUt+ZMIsAgK+GQBfAWYCfHuKihpB1Pswse\n",
       "V04hzroEv/E1mkoIVBIu2/aByPMETrgz5Irk8XSaJkuRFtjw/CAQWkeI1ms10cSfEFvm+0NuNHXC\n",
       "k6YFGtVjSJS4S/7TuJkISoZVZ08axBVk9hNPmYQLTUxvaecUJtEf1ZL7YM4+oJ7hV5I+gAwsWhY/\n",
       "cLeJZsGCZLagvbMtQHfDJtbse+SnSojwgC1HsRZSGye+5vmB1KjO3pBfhnRupQWtxOkwpIp+ybaH\n",
       "RGd5dA+2peDsaa3o937NMCVsFOZ0myPMkMNW2xsSqHnUuU9vPgxhbdNK3Jw8+ZLn11rQYjVPy8jl\n",
       "WuPaU10DWsgI2BcCSde+AB+Dg3XvWayfBhEVOfwPKPShtQ1imJQAAAAASUVORK5CYII=\n",
       "\" style=\"display:inline;vertical-align:middle;\" /></a><br>"
      ],
      "text/plain": [
       "<IPython.core.display.HTML object>"
      ]
     },
     "metadata": {},
     "output_type": "display_data"
    }
   ],
   "source": [
    "sqrd_non_neg_closure = Forall(\n",
    "    a,\n",
    "    InSet(Exp(a, two), RealNonNeg),\n",
    "    domain=Real)"
   ]
  },
  {
   "cell_type": "markdown",
   "metadata": {},
   "source": [
    "### Theorems for number relations"
   ]
  },
  {
   "cell_type": "code",
   "execution_count": 31,
   "metadata": {},
   "outputs": [
    {
     "data": {
      "text/html": [
       "<strong id=\"exp_eq_nat\"><a class=\"ProveItLink\" href=\"proofs/exp_eq_nat/thm_proof.ipynb\">exp_eq_nat</a> (conjecture without proof):<br></strong> <a class=\"ProveItLink\" href=\"../__pv_it/theorems/126c76f85b8f616a54aeb7742f64dfd050b418bf0/theorem_expr.ipynb\"><img src=\"data:image/png;base64,iVBORw0KGgoAAAANSUhEUgAAANgAAAAXBAMAAACbsJy/AAAAMFBMVEX///8AAAAAAAAAAAAAAAAA\n",
       "AAAAAAAAAAAAAAAAAAAAAAAAAAAAAAAAAAAAAAAAAAAv3aB7AAAAD3RSTlMAq1RmmUTNIjK7EInv\n",
       "3XZ/CtNrAAAACXBIWXMAAA7EAAAOxAGVKw4bAAAC50lEQVRIx7VWT0gUURj/jTuzOzuj60AnE2RD\n",
       "Aw8qi/QHJWxhK4VQBKOLUUsdok7T0RDZzi2tJRbbIQaJArdsUzK6xF6iKAqD/l2MsTbCDBEiNjz1\n",
       "ze5766y9VWHtg7fvm/e9937z/fvNAtsgPjZrM0umcEOq63FxU6Xyhc33zYQQTPuo5qDYgOE8NVaE\n",
       "VZVmyiHEhRvksJoBvgKHnaezFYHd4cozLAg3VPcHyCevhUtOzEcrAovwaOUwNina8MD0d1rwhB08\n",
       "6MGKwDJcea7+7hR6ZiYGCOYlPCFysLKURbl2rH0pJNqhRNpmaDoDvJ6ff1URmEz1oS3vvDwtMk5F\n",
       "oBlMfwj0ADe3cGN5kzfkmBfs3uJK77wjbx013QLPClveB1yAzyjbre8e4UDe6i8PVkMZ34+D1g6B\n",
       "TQ32QuLl10LXWHq/8JIrdePYpVuytQlYNR2P4YjQpuENqm32kKD82uL6kHucbrfDOrYABrpUKMoq\n",
       "EjGmn6AR7WLsRbLcnSXCURYgOQ0PNO8ecYMFsiPd7ORJA8ZaGKHkMCnKmRzFT77cSmP6PGMvusys\n",
       "89LRqVorruUj3axPDLrAvkujp+UkyZhmr6qsv/w2tHEpg7TIM7+Bq1zvoDFscPaCB7dUmi62YlHJ\n",
       "d0wzwosusJDfZjHxTcwFWOJ1A1V/bmcUITPIhvKL60dpSDHOXiS5/G89GjznkslrBJbyunNWW2R1\n",
       "KS2xxKtz0PrspnZxhdRnc1x/X8JedDDjKyy/UNMFz5Q2N1gcZiGMqOmv5on/tGGH6pxgfHNu9kph\n",
       "WI/KSNFxZaXQ6XvBiDwP5svMIsy7K3aKX7dnA6hZ3OPhlUNu9ooH5W9Pf9CEpo4ohujF1Q8m1eWa\n",
       "Z32DyxZnxMj1YhGY5cE+U0qYDJVa2DsENdMfgvYkOe6qqvW33MVYMS8bfKEas0XGuFHagBabJPv4\n",
       "PyW8fqFBKZI9RrbC14FS/z18UrrSm4INLOG/ybb8N/oLJke39KjoNXEAAAAASUVORK5CYII=\n",
       "\" style=\"display:inline;vertical-align:middle;\" /></a><br>"
      ],
      "text/plain": [
       "<IPython.core.display.HTML object>"
      ]
     },
     "metadata": {},
     "output_type": "display_data"
    }
   ],
   "source": [
    "exp_eq_nat = Forall((a, x, y), Equals(Exp(x, a), Exp(y, a)), condition=Equals(x, y), domain=Natural)"
   ]
  },
  {
   "cell_type": "code",
   "execution_count": 32,
   "metadata": {},
   "outputs": [
    {
     "data": {
      "text/html": [
       "<strong id=\"exp_eq_int\"><a class=\"ProveItLink\" href=\"proofs/exp_eq_int/thm_proof.ipynb\">exp_eq_int</a> (conjecture without proof):<br></strong> <a class=\"ProveItLink\" href=\"../__pv_it/theorems/fdc861141a806a79f69b95c6ac7ab1a44603cece0/theorem_expr.ipynb\"><img src=\"data:image/png;base64,iVBORw0KGgoAAAANSUhEUgAAANcAAAAXBAMAAABqu8cyAAAAMFBMVEX///8AAAAAAAAAAAAAAAAA\n",
       "AAAAAAAAAAAAAAAAAAAAAAAAAAAAAAAAAAAAAAAAAAAv3aB7AAAAD3RSTlMAq1RmmUTNIjK7EInv\n",
       "3XZ/CtNrAAAACXBIWXMAAA7EAAAOxAGVKw4bAAACxUlEQVRIx61WTWgTQRT+kuwmm90mVjxVQQL2\n",
       "4EWJpSj2kFba+nOoFioebW6Cp9XepErstYUqohgF2YIINhhDKwo9lCCIiijxIHoJbKQiWii9SHr0\n",
       "zezMpg2zbSF5kJ03771538z7mQnQBoqJ0VxctVV6LrfRHvopxhf2rNIll18mppPNDrWEFS4JZggz\n",
       "SgMuT6aBYTa70hLYM8m8Q01p4MmvArdZzO+0BDYoU1PHvXlVyjx5LxB1ACvVElhZMu+Nf30qA0/e\n",
       "4SBCoYy2lrKs5C72rKZVFp48Sr/P1eqnlsA0qg9zbf/0giqCK2nMCd6iWjwLPNrZ40Cwiu1YQ80d\n",
       "8SUjVUZfGUC4jH4hjVAEriHWGego9PHVY46zTQklKOMn0O/sU+imtAq6ZLgpt3HHGlU6MWr50YRt\n",
       "FZ0dwDpoeQ6nlTqnw8UX6W+dAN2A+hjK0dExNYFdgMF32UTjjrEhWJ1VbTZDn0LmDROsnVmhC0ev\n",
       "IcQ7niVrYBOYp+YrmUkjjNDrmFfkjA6clJ0RrtBngVrb/G7UiU3aXVFaWtzjzOC5l9XruQYYV5/L\n",
       "E6W5iUdxF+b9UBkl1cnuIi4rIsJ8TNJMGzDYBiJ4YtBw4wj+YIxbFC00wIQa0sQv6fDG07KuvBlO\n",
       "YTy9qUUQyrG4J70N1Pn3AA7iOB0ghdKSFx6Rs7rvhZmIxFdgnne7e5Q5m1u+IB+ChKzDl3a8j1Wd\n",
       "UeZv0zd8wDRPzeE0lhpgTO2FkZsI+rFth76WzE2/ouzZMaeASSuroUDL9XVqCRYiDXrFB+NqiUAm\n",
       "gnqDkays+bb5voY+eHQRMynt1/JfGtB9MovYQ5If27v6oNMH42pBzERWSPAjnHBDsm6anxaR4pRp\n",
       "xymrhXy+0e3NfeaZCD64CcOZ4YAt6Y4YQu6l5lXN/raY3NrNff176zQiBz1T2glMYdI+ast/o//W\n",
       "bMJNjS55WgAAAABJRU5ErkJggg==\n",
       "\" style=\"display:inline;vertical-align:middle;\" /></a><br>"
      ],
      "text/plain": [
       "<IPython.core.display.HTML object>"
      ]
     },
     "metadata": {},
     "output_type": "display_data"
    }
   ],
   "source": [
    "exp_eq_int = Forall((a, x, y), Equals(Exp(x, a), Exp(y, a)), condition=Equals(x, y), domain=Integer)"
   ]
  },
  {
   "cell_type": "code",
   "execution_count": 33,
   "metadata": {},
   "outputs": [
    {
     "data": {
      "text/html": [
       "<strong id=\"exp_eq_rational\"><a class=\"ProveItLink\" href=\"proofs/exp_eq_rational/thm_proof.ipynb\">exp_eq_rational</a> (conjecture without proof):<br></strong> <a class=\"ProveItLink\" href=\"../__pv_it/theorems/e7bcdb9de46f2717099ad7af5d9697ea2e836d9e0/theorem_expr.ipynb\"><img src=\"data:image/png;base64,iVBORw0KGgoAAAANSUhEUgAAANkAAAAXBAMAAAB0cveBAAAAMFBMVEX///8AAAAAAAAAAAAAAAAA\n",
       "AAAAAAAAAAAAAAAAAAAAAAAAAAAAAAAAAAAAAAAAAAAv3aB7AAAAD3RSTlMAq1RmmUTNIjK7EInv\n",
       "3XZ/CtNrAAAACXBIWXMAAA7EAAAOxAGVKw4bAAACyUlEQVRIx61WTWgTQRT+8rPJZreJFU9VkEAK\n",
       "npRQiz85pJW2/hysgYp4svEkeNp6lCpRL0KDVVQwHmQLItighhbsQShBEAVRclD0UthIRbRQepH0\n",
       "6JvZmfwxWwvJg+y8ee/N+2bez0yAblBYjMbimqXSc7mFLtEPMb6wZpU+ufwCMb1slugMzF8SzCjy\n",
       "SgMujyWBMTa71BnaM8m8Q1Vp4MovAzdY2O92hjYi01PD/XlV2lz5IBCyATPeGVpZMu/1vymVgSvv\n",
       "sRGgaIY6TFtWcmcH1pIqC1ceot+nlZWPnaEFqUiM9d0zC6ogriYxJ3iTKvIk8HgbLoe9VWzPQVSd\n",
       "03X4FU6s3E1/GUNCHKAYTCHc6+2p+GCn20FbFFKU0n4YQ/Yuhe5msII+GXHKb8Q2M0onerWQCb+B\n",
       "OfA/tB5an8Nxpc7ucfBZOtwgRMejSEZzFIgrMA5a20BD3WcbTdr6pmA1VrvZNItYeokJ1k+skm+t\n",
       "Ch9vfdzeBzhOA83V86XMphFJaDXMK/JGR47JBvFX6LNAPW5802vExqy+EC19ucPO4zkzSCVb0Lj+\n",
       "VIEoyW1cijgwHvrKKKnOdg8RWRYB5mOaZsFhne0ggCc6DVf34zcmmAFDckp1NKGHtKlXtn/zaVlT\n",
       "3hHHMJls6hT4ciz0MXcHNf7dg704RCeIn2+LpNBLG5H9Coxxp39Ambe55TPyWYjKanxlRVI2W1jm\n",
       "T9VXfMAM33ZblTC9G0luI+j7lp36WjLX6mVlzU7YRUyb2SCKtFzboM7gXQAz0egArpcQZCNo0BvK\n",
       "zBpv2y9vaCMHFpGPB38u/6EB/UezCD/i3f3lYq6BxvWCmI0sE+9nOer4ZPG0vzQizXHDilBmi4UC\n",
       "BXrpFpTd7doI3rsZ/ekxjz1pthh8zrnGlZsYz6jQmm1wfTuX96/WaUAOWrqpde4cUZ6txabr1JV/\n",
       "TP8APxPKM6ZGD2IAAAAASUVORK5CYII=\n",
       "\" style=\"display:inline;vertical-align:middle;\" /></a><br>"
      ],
      "text/plain": [
       "<IPython.core.display.HTML object>"
      ]
     },
     "metadata": {},
     "output_type": "display_data"
    }
   ],
   "source": [
    "exp_eq_rational = Forall((a, x, y), Equals(Exp(x, a), Exp(y, a)), condition=Equals(x, y), domain=Rational)"
   ]
  },
  {
   "cell_type": "code",
   "execution_count": 34,
   "metadata": {},
   "outputs": [
    {
     "data": {
      "text/html": [
       "<strong id=\"exp_eq_real\"><a class=\"ProveItLink\" href=\"proofs/exp_eq_real/thm_proof.ipynb\">exp_eq_real</a> (conjecture without proof):<br></strong> <a class=\"ProveItLink\" href=\"../__pv_it/theorems/588068a3570d9b2d74dd427a867b3be3cf0cd0a20/theorem_expr.ipynb\"><img src=\"data:image/png;base64,iVBORw0KGgoAAAANSUhEUgAAANgAAAAXBAMAAACbsJy/AAAAMFBMVEX///8AAAAAAAAAAAAAAAAA\n",
       "AAAAAAAAAAAAAAAAAAAAAAAAAAAAAAAAAAAAAAAAAAAv3aB7AAAAD3RSTlMAq1RmmUTNIjK7EInv\n",
       "3XZ/CtNrAAAACXBIWXMAAA7EAAAOxAGVKw4bAAAC5UlEQVRIx7VWX0hTURj/XXevu7ub80IQmCAD\n",
       "fdQYEoU+mDDLIhTB6qWoUUFUELdHS2Q9N5olFushRkiBlt2UDHuIvURRFPYQBWEccxFliBCx8Knv\n",
       "bufMOztTYfbB2ffd8+f73fP9+d0BmyBero3JBUu6YaztSWFTufKF6wdWQgpmfNCz0BhgOk/1ZWFV\n",
       "2NzoQFy6QW3X08A8sMd5Ol0W2F1hPMecdEOgJ0h3qkzhshPzwbLAIiJaWQyNyjY8tHytKXjaHTz4\n",
       "Q2WBpYXxQv/dKr2ZleglmFfwhOmC5aUsKqyDzQth2Q4tsn2S1Engzezs67LAVKoPY3HblQnZ4ngE\n",
       "hsntR8A+4NYGPJZeqgw7y3OsqzDTNevIO8e0G+FZ4tM7gQvwmiUj9OnUVpazfKXBqijju7A7tUWy\n",
       "poe6oIjyayQ3KX+P1MnVmmEw239pPbAAHY9hr3TNwFsEGH9I0NszeX2oFF8w5hnfCBjIqVS0ZSRi\n",
       "3D5KI9rG2YtksTNDhKPNQXEa3gELjrjAgpmBTn7ymAlzJYzQshiV5UyN4qeYbqIxcZazFzmzairp\n",
       "6Hh1Km7kIs3svnkX2Ddl8ISaJBky2LLO+8vHYAwradiym/lMXBN2C41+U7AXPLitk7rYhO9armPY\n",
       "/mm4wMI+xmPivTMT5In3m6j4M5LWpMygmtovYR+gocQEe5Fkc7+1qPOcSSavUxgfh9w5qy6wumIr\n",
       "PPH6DIxu1tAsr5DaTFbY74vYiw6mvfnpl7qdz9mhp26wOKx8GFHVExCJ/7hmh/oFwXhn3Ow1hn5/\n",
       "VMUYHdeW8p1Ope8qEG96Cu2iu2LHhbsda0BN4b4Irxp2s1c8pH599oMUGlqi6KMX186fMzqiKzfr\n",
       "PrKYEv0euVEoAqs02GdKCZe+4hX+DiHD8oVhTCeHXVW12ss9DBXyssYXqj5TYIybxQ2Y4kphh/8p\n",
       "4dUTdVqB7DGwEb4OFt/fI5TWZq8L1ruA/yab8t/oLwJ2w5cCdY3KAAAAAElFTkSuQmCC\n",
       "\" style=\"display:inline;vertical-align:middle;\" /></a><br>"
      ],
      "text/plain": [
       "<IPython.core.display.HTML object>"
      ]
     },
     "metadata": {},
     "output_type": "display_data"
    }
   ],
   "source": [
    "exp_eq_real = Forall((a, x, y), Equals(Exp(x, a), Exp(y, a)), condition=Equals(x, y), domain=Real)"
   ]
  },
  {
   "cell_type": "code",
   "execution_count": 35,
   "metadata": {},
   "outputs": [
    {
     "data": {
      "text/html": [
       "<strong id=\"exp_eq\"><a class=\"ProveItLink\" href=\"proofs/exp_eq/thm_proof.ipynb\">exp_eq</a> (established theorem):<br></strong> <a class=\"ProveItLink\" href=\"../__pv_it/theorems/7ff6b12eabd6bf047e6710fd7c6ba434728617280/theorem_expr.ipynb\"><img src=\"data:image/png;base64,iVBORw0KGgoAAAANSUhEUgAAANgAAAAXBAMAAACbsJy/AAAAMFBMVEX///+IiIgiIiIQEBB2dnbu\n",
       "7u5ERETMzMzc3NwyMjK6urpmZmaYmJiqqqpUVFQAAAB6qHgnAAAAAXRSTlMAQObYZgAAAAlwSFlz\n",
       "AAAOxAAADsQBlSsOGwAAAuhJREFUSMe1Vk9IFFEY/627s7POzI4jmUhbYl6KDrFFUXTaDkWCxlga\n",
       "RUl2aCmx2NhOHdoRy1uxl6JDgVGXSEgl0GqJ9aAVIW0KXfQwgkmHDl6kJTr0jfveuGtvVRj74O33\n",
       "zfvz/eZ9f36zwCZIiGmpucYSbmgbO+Fu8io7mD5lpYRg0m45D8UAbOdp1hNWOMaMd0gKN6iDchTY\n",
       "Drx1nh55AjvHjSOoF27w9/voTpUmbjsx7/QEluHRyqO7XbThohUcN6ENOngI5DyBRblxWP49LryZ\n",
       "lRogmIPQsnRBbylLc+vlZE1WtEPJfG0m9RjY39h4wBOYSvUhVX+/2SJabM1Aspl9EhgBLm/AY/ml\n",
       "yqyzXG8MuzPDjY7sdczYNLRFNv0JuI+QXd5T7fs6w9HB8lsqKOMf8cX8KViTc8PQeflNkxsz0C90\n",
       "cmOhC2d+4FtsHTA/HU/gjXBNwj74DfaQovwa4vpQKb44ZkDbCBjIqVCUJaQSzH5GIz3G2IukejRC\n",
       "hKPUQ3caHtIHcmStgPkiPaPs5FMb9koYoeTRLsqZmsYWPj1Fo+UBYy9yZi1U0tHWKjMpOZEO3+Nc\n",
       "VwCr0zufqHGSbslYkll/BQ1IXXoUMdHNgjauc3uCRq/N2QsaLsmk7k6hVnE6RrtgloBlgwaLSaij\n",
       "wccSH7AR/nU+qgiZQbWVP9x+TUNPcPYiyS//zmNOexiPX5NvJUrAUOWyuh7TWeLlBkhDxsykuELm\n",
       "I3lu7ylhLzoYDRWmD8nLUaECgVkEloRVCCMq+v38RXat2aEBTjChhmL2akNvIK2ijY4ri4VOvzOK\n",
       "wEqfhaJNGOTdlXjF3X1eA6oJp3l41WwxeyVz6rajW0lhZiKNPufFpab4SFEYh55X8ySGM1fdIrDK\n",
       "g+2klDDpK11h75CTrGAW0vF4V1FVrfZyFt1uXtb4Qs1GXMa4UtqAJlO68eKfEl49Mae4ZI+ejfC1\n",
       "r/T+GlfKWGxdsIEa/DfZlP9GfwG8yKo9pUTwKgAAAABJRU5ErkJggg==\n",
       "\" style=\"display:inline;vertical-align:middle;\" /></a><br>"
      ],
      "text/plain": [
       "<IPython.core.display.HTML object>"
      ]
     },
     "metadata": {},
     "output_type": "display_data"
    }
   ],
   "source": [
    "# Note: does allow 0^0 = 0^0 where both sides are undefined.  That's okay -- \"same\" nonsense is\n",
    "# equal in Prove-It.\n",
    "exp_eq = Forall((a, x, y), Equals(Exp(x, a), Exp(y, a)), condition=Equals(x, y), domain=Complex)"
   ]
  },
  {
   "cell_type": "code",
   "execution_count": 36,
   "metadata": {},
   "outputs": [
    {
     "data": {
      "text/html": [
       "<strong id=\"exp_eq_for_eq_base_and_exp\"><a class=\"ProveItLink\" href=\"proofs/exp_eq_for_eq_base_and_exp/thm_proof.ipynb\">exp_eq_for_eq_base_and_exp</a> (conjecture without proof):<br></strong> <a class=\"ProveItLink\" href=\"../__pv_it/theorems/152accceac05c960add176e11bf5777caf4c49b80/theorem_expr.ipynb\"><img src=\"data:image/png;base64,iVBORw0KGgoAAAANSUhEUgAAANgAAAAXBAMAAACbsJy/AAAAMFBMVEX///+IiIgiIiIQEBB2dnbu\n",
       "7u5ERETMzMzc3NwyMjK6urpmZmaYmJiqqqpUVFQAAAB6qHgnAAAAAXRSTlMAQObYZgAAAAlwSFlz\n",
       "AAAOxAAADsQBlSsOGwAAAs9JREFUSMe1Vk1oE0EU/vKzm0022W6harFaShEqChLEv4OH5KTiD1sM\n",
       "oqAmBY1KiwYiKB7shqLHkoviQaFSQYSCsQgWDZiAKRQPxnop1EMCRfAWD4UiCM4kM5vETnRh64PZ\n",
       "ebPv7fvm571vFtgAUVjv6svMieyBfmiWk1PZzvpeLfFEZB/uMtII6ECFjr46wgpFmFKQ9ZTI4d4i\n",
       "NgPbgLd09MgR2DlL6zLFHiuoAn4Dd+meJxyB5S0tDTHaLhwEgjmKB2/ZEViY50n4GHJCj6FAjTz3\n",
       "I1ggC3R2ZFmuvXrWbQhdluepz2Ng7+DgPkdgKs0PZaVXF1onoxlIpkyWhFPAG+CyjYidTX4aaNqU\n",
       "V603s4NU9tRL7BBuGJr+guoLBBpKpXMk12g1Q3u5s4ubnLh0GOqAyHi6gFkEivXi+ELCGN4pYRBf\n",
       "f3JKum6GLv0DzEM+V2twR0TG98AOro+T89U75Mc7UqDeYeCDDTBPAnHhlA9A+sn1adKyRfKIFY/S\n",
       "cfdcn8m4zEWP4vwdxnzyn+T3tIJKcxvjOj5BcGbSDwRr/PUiaScfkJc7fWs0mPnNX2Zcdobal5aY\n",
       "o2yRn5okMibpqz5WXzJJw3gZ30OCgpZ+QcvyGPOkTZAZqrn6p0GM+DiXzVB7qdQG1iQ/5cKAi/GO\n",
       "t0IBQ7uFCTuCxRwv9NekaSm6767GpqxZXLZAFlC+9bwNrIX8tIjGCstH0lCqHpncIgK72HO7mrJI\n",
       "qyFxUy7R4veFFc5lN+uzJgkitYAR8mtsI9xTHh5kyOatx2vDY47PGDFMeLMqYg0ukym4ctxE1AJr\n",
       "JT936iWP8tEm0xT4XZr/fALpsro1uol0dS5TrlBD7OFoqrmyFvIL5a/xKLJpC+x++5CRf7nBZbFk\n",
       "slk66+rsLMaslLN3Q11t/1UwWMe4rFXWgVUDFtkjYwfL1b7+IO8Yl/0VbKYH/0025N/oN8yGpdRE\n",
       "yUGGAAAAAElFTkSuQmCC\n",
       "\" style=\"display:inline;vertical-align:middle;\" /></a><br>"
      ],
      "text/plain": [
       "<IPython.core.display.HTML object>"
      ]
     },
     "metadata": {},
     "output_type": "display_data"
    }
   ],
   "source": [
    "exp_eq_for_eq_base_and_exp = (\n",
    "    Forall((a, x, y),\n",
    "           Equals(Exp(a, x), Exp(a, y)), condition=Equals(x, y), domain=Complex))"
   ]
  },
  {
   "cell_type": "code",
   "execution_count": 37,
   "metadata": {},
   "outputs": [],
   "source": [
    "# Note: this does not necessarily extend to the complex domain where\n",
    "# exponentiation can have periodicity (e.g., exp(2 pi i )).\n",
    "# ACTUALLY, this is a problem even for reals. For example, \n",
    "# (-1)≠1 but (-1)^2 = 1^2, so this needs more careful thought — HC 9/28/20\n",
    "#exp_neq = Forall((a, x, y), NotEquals(Exp(x, a), Exp(y, a)), \n",
    "#                 conditions=[NotEquals(x, y), NotEquals(a, zero)], domain=Real)"
   ]
  },
  {
   "cell_type": "code",
   "execution_count": 38,
   "metadata": {},
   "outputs": [
    {
     "data": {
      "text/html": [
       "<strong id=\"exp_pos_less\"><a class=\"ProveItLink\" href=\"proofs/exp_pos_less/thm_proof.ipynb\">exp_pos_less</a> (conjecture without proof):<br></strong> <a class=\"ProveItLink\" href=\"../__pv_it/theorems/d5dd723a38847e13f5d294a2f741a082b561f7e90/theorem_expr.ipynb\"><img src=\"data:image/png;base64,iVBORw0KGgoAAAANSUhEUgAAAREAAAAXBAMAAADelGYUAAAAMFBMVEX///+IiIgiIiIQEBB2dnbu\n",
       "7u5ERETMzMzc3NwyMjK6urpmZmaYmJiqqqpUVFQAAAB6qHgnAAAAAXRSTlMAQObYZgAAAAlwSFlz\n",
       "AAAOxAAADsQBlSsOGwAAA4NJREFUSMe9Vl1IFFEU/mZ3Z2ed/XEUlUoS8aXoaYsgCYQ1MBQUpliD\n",
       "EEyhNqgMQemtnJJeY3sIeujBoALJ0gQrf7BdQUlE3HwQwh4MSohCfBGXnro/c3dmdaYkWAd275kz\n",
       "39z7zT3fOecChb4C5ig3lxlOz5nfwD5ch83xvNHnuB7zPyXGGr37Ujgi4ZhpTKLHEcD8UgqYoHeP\n",
       "C8fkojBOo8oRwP2PgDs0lB2FYzIl5JDFjVYnmXD/AlCkA75M4ZhEhVGr/J7NeT9bkuF+r44QiVBR\n",
       "AWWSFNbLxbKUsGfGLAT3F5HfiZqak4VjEiSClUu+97bYnaUNPDCVKbSbLh/JnHfAlT1MOfJ/TOi3\n",
       "BlGljdqUcUYzVw9HsWQ6Q2TvHiCw5jrRctP0Q24xUfvqeU6u/KMSCRzgIRL8iCX9l1XpRkWQbger\n",
       "sS6iSPTk130DjtMpVYkByYfGmMUkjReMiGb7wvxM0GHDkctL5u7GuA3yI5ceulfDcbHYJmGjuQh2\n",
       "sptUHAmzmsXkFIrJbsylbLV8Ws8r7dcNCyeYILdePhMM68q2aao0x5Jp8hdPN1JHyftKMoVahQgr\n",
       "e5RJ+UiOSWAL3gwqMhZS2TA4WjQQ6jBxuehAzaLVITpkqySR5OFq8tdC6pt8VMnShY31IvLquWK9\n",
       "BxcoQPIFOlM5JsoWPKketgZHqnQLGDrXWALT3RzHV/BrkK9Foog5KBY34RcSDdH5+8ldcESh7ELo\n",
       "VMhwfxkVGGILBi93wM7Eq4Uv6wKpMpOhrcYivx1guFx2hrfboqq9dsql5dyYxnDKlu2IdNNwSpxd\n",
       "lv1/w1fMJxKJjCT5XsEeneKMuT5F8u1haFtjCdVyHFdiNeQ32upivgRneEFpr/8gktAjsuaS4Z+l\n",
       "8ytRdpw4RjTXy/ZEUp/pOxWr/DQ4Uj6bEWirsYQ77YrFEcdsmDcfNwnHPWF4jb4hPY5+XzKIOHld\n",
       "3STZzXSCBkuxKMFrJroNnSGBCrq7FC3HzAYSemLh6LXwl6qTlOt2NkqoU5+ayWYHD9WX0z1fnUsi\n",
       "cJX4Bw/G2sbtlW3MPIcxJHhGU7RSxxuI1GXHUcm6F0GPFhFC3nkaMGObkQ0/WSCeSNhKntvBYcXg\n",
       "6DCXRdeuru9+4ginJ1z4qro5RLTBXa+5T8jRz90e391LezqQfxsSg5qOuTO5RXIqYf8Ejk5hv66C\n",
       "n77/AKjs9Ka8OKKfAAAAAElFTkSuQmCC\n",
       "\" style=\"display:inline;vertical-align:middle;\" /></a><br>"
      ],
      "text/plain": [
       "<IPython.core.display.HTML object>"
      ]
     },
     "metadata": {},
     "output_type": "display_data"
    }
   ],
   "source": [
    "exp_pos_less = Forall((a, x, y), Less(Exp(x, a), Exp(y, a)), \n",
    "                             conditions=[number_ordering(LessEq(zero, x), Less(x, y)),\n",
    "                                         greater(a, zero)], domain=Real)"
   ]
  },
  {
   "cell_type": "code",
   "execution_count": 39,
   "metadata": {},
   "outputs": [
    {
     "data": {
      "text/html": [
       "<strong id=\"exp_nonneg_less\"><a class=\"ProveItLink\" href=\"proofs/exp_nonneg_less/thm_proof.ipynb\">exp_nonneg_less</a> (conjecture without proof):<br></strong> <a class=\"ProveItLink\" href=\"../__pv_it/theorems/5811f0daa7b968f4cb64a3776a26e5a6b01a2e420/theorem_expr.ipynb\"><img src=\"data:image/png;base64,iVBORw0KGgoAAAANSUhEUgAAAREAAAAXBAMAAADelGYUAAAAMFBMVEX///+IiIgiIiIQEBB2dnbu\n",
       "7u5ERETMzMzc3NwyMjK6urpmZmaYmJiqqqpUVFQAAAB6qHgnAAAAAXRSTlMAQObYZgAAAAlwSFlz\n",
       "AAAOxAAADsQBlSsOGwAAA35JREFUSMe9Vl9IFEEc/u3d7u3e3h/XUKmkQ3wperoiSALhDBQFhS3O\n",
       "IARTsCvM4uB8Lbek17gegh4NKpAsTYjyD9deoBQiXj4EYg8GJUQhvohHT83f3b3rVizYBm7n2999\n",
       "O/PNzPebGQCvi8JqqbPGqPQ/iRvwH8oRVp83Rir2R+KPENjAb5+9ExJJMDAHmYoEEhdMgFn89tA7\n",
       "JRc5OAMxO7pmTw+NPwC4hZeyzzsl89wORRjq5sF3r2yb0PgSQFAHEAveKYlz0CT/WmDwQKuDQON+\n",
       "HcJohYIe2iTL0bPlGpPOwlnNyaDxIPqdbGw85Z2SEDKsVP1tuMtejmmTo3oTehkWUea8Bri8jyan\n",
       "/k0JHmsIYtq0JeS7ZQUxEocVhsNo7u6BsuHa0GpH7j5FxNRiS2LvjuVBKOX5UL/vYUX/aVFsJTdD\n",
       "DbDJVxH5KaCLY5VbjaXGBBHaE7aSPDylA3NskaUfJa87eciJqO00zDj3XGt1dL8GJ3hn20iN5mLY\n",
       "uTTacQRY0Gwlp6EKbwRKTrfatSEtwpDNY0rA6q/MsZO6vMuginMsm8djybfjQPWbetSEGoMo2faw\n",
       "ktopS4myA340t/KWwZkYErZ9sIT7OY+vDqhF6HZq4Vk8AwJP8kgDenSh/U06Jhdxx8ZmEH16rkrP\n",
       "wAUyQlHpNy0l8g74TFCvGZxJIGE7DpZwE+WREtBAGozGodRfbGe7AQFu0TBufxS9haZkrC4M/TKq\n",
       "7q5CHUwQJaGBPnAq8WvqgM6ZFBK2fbBIbWOEZ2VnZLcnrpbtnWtp/MzBpOnIdoim8XIKVF2RPL/C\n",
       "F/iQSqUKgiA+B+fqVBUyrFHEZBCzrQNEyaUpjzmxAaSX2vpyRSf2trzl54+PZ80lI7CAxyfHyXXi\n",
       "OPLcMJkTQX2slzpWaiOdYCaDmM0PEGUrXeJYOLpn1ndwcIcDvzEyoSdhVMyGIIk+V7dRdhOfQKvt\n",
       "WKiGF+hZh6aUMCkkbClBDhDph2HzSFlylyFmpebygxLU+Y+daLJDh1tq8ZyvL2ZBuYLi44cSPTPO\n",
       "nY1YbdEEwqSQsOVmcoBIOjh4xLJl1yOpkRQ8cz4tyo1cfhtga1uQjADqIJlKOba8EuonwwEpO+Iy\n",
       "cMn9xhHJz7roVXVWRbXxPz5zb5Cyn7j9fXs/x9PB0tcwr9R84i+UUDZNRxklXOqqtxdjz2/fvwEh\n",
       "T/Y4kCx4wgAAAABJRU5ErkJggg==\n",
       "\" style=\"display:inline;vertical-align:middle;\" /></a><br>"
      ],
      "text/plain": [
       "<IPython.core.display.HTML object>"
      ]
     },
     "metadata": {},
     "output_type": "display_data"
    }
   ],
   "source": [
    "exp_nonneg_less = Forall((a, x, y), LessEq(Exp(x, a), Exp(y, a)), \n",
    "                         conditions=[number_ordering(Less(zero, x), Less(x, y)), \n",
    "                                     greater_eq(a, zero)], domain=Real)"
   ]
  },
  {
   "cell_type": "code",
   "execution_count": 40,
   "metadata": {},
   "outputs": [
    {
     "data": {
      "text/html": [
       "<strong id=\"exp_neg_less\"><a class=\"ProveItLink\" href=\"proofs/exp_neg_less/thm_proof.ipynb\">exp_neg_less</a> (conjecture without proof):<br></strong> <a class=\"ProveItLink\" href=\"../__pv_it/theorems/f3743476f0cbb03d156f8c56fe03aea704ec6f090/theorem_expr.ipynb\"><img src=\"data:image/png;base64,iVBORw0KGgoAAAANSUhEUgAAAREAAAAXBAMAAADelGYUAAAAMFBMVEX///+IiIgiIiIQEBB2dnbu\n",
       "7u5ERETMzMzc3NwyMjK6urpmZmaYmJiqqqpUVFQAAAB6qHgnAAAAAXRSTlMAQObYZgAAAAlwSFlz\n",
       "AAAOxAAADsQBlSsOGwAAA3JJREFUSMe9Vk9IFFEc/sad2Vln/7iSSiVJRlBUhy2CIgjWg6GgMNYa\n",
       "hIcUbIuyEPScU9IpiO0gdAk2KEGyMCHSFNk9KEVIk0EXPWyg0SHCiyTRod97M29mVnfRgvXBzvvN\n",
       "vG/efPv7fe99Dyh1C9h9IttUcFxpqTJgYAfaPvuDh9X1guPnjQEDTyjIsbul0hEJx60+OKbGCgKm\n",
       "0AdIGeAtu3tUOiaX7N6XlnIFAWdQR9ch4DYrZWfpmEzb/WXDP6sXksk6etqBD0A5Dctm6ZiIkviM\n",
       "gVGHSdhThNPq71ka1hGiCpWXUCYpO9CmP7WIh6Gjnuw8n69iFOh34sCBk6VjEiTBtk1D8WpEOmgR\n",
       "USpX+lvtZzIB3gBXtjHl2P8xYf81/hmhVfdRol6wRF10XKSJcvcAgVzRiRaaZx5aERe13BDf1vdd\n",
       "XJkJ1RxHxF0T94+J6B0+6j9EFUlPfl1OF5xOrUumJRlNcZdJFsNWXj3a3/yi7uDY4iXEcfiiYjDy\n",
       "2MH1YtL9GCUtHC0i2KleKqmE2ajL5BQq2L4cmHEU5wmdP70icBYTaGsY6C3ABERRNI2tsVTWdYXK\n",
       "iVqaQqtDhG97jEn1mMMksAYfLXj1pyGQLORoYSC0QX0XOLs6CKawCwWqA20d7aI6++nSOuS4gmR8\n",
       "K6dX2yr0PlzkMpcDXRmHibqGsgy0G4ZA8pCjhYFgeELgePNTRv053MJmxSrXIzEIPYXY/IM5xxVC\n",
       "6FKpu7eAGoxyJsHuTniZ+KJaty6QVsjRwkCGGwXOXZ3BnPbHW762el7R8K+OmGZ6VjsivR5XsPxy\n",
       "GV/xPplMmpIkv4C3OhVmn/0yIe2QoW0DUc9C4GwlUtaV5dp8Gw7xDUV5FV2cF4/K0htcQY3x48QR\n",
       "0lw/z4mkPdXzFauc4x9hSDtkaGEgiZseZbN2iGcmlS/q0CbLvQuvKyQwKKeCSNDr2iqtbq4TNLqK\n",
       "RSVe0rWGNMCRVsjRStw2EKnHwfFG1taMC+Z2jdJyhT4zuLehmuV8cS6FwFV6PrIn3jHp3dles24u\n",
       "A460Qo6mslgGglCPg+OSNVBP9dvqYLfhNGAzNxXDT3MmkknPlpcH/WJ4Qgsddk3vWp7rd2KpNr0V\n",
       "E3/+8VHT7S4SHdmELX6EsdDPig3f2Y497N6gI9Fp2fg/MLHQGexUK/np+y/TtvCWCS2LvgAAAABJ\n",
       "RU5ErkJggg==\n",
       "\" style=\"display:inline;vertical-align:middle;\" /></a><br>"
      ],
      "text/plain": [
       "<IPython.core.display.HTML object>"
      ]
     },
     "metadata": {},
     "output_type": "display_data"
    }
   ],
   "source": [
    "exp_neg_less = Forall((a, x, y), Less(Exp(y, a), Exp(x, a)), \n",
    "                      conditions=[number_ordering(Less(zero, x), Less(x, y)),\n",
    "                                  Less(a, zero)], domain=Real)"
   ]
  },
  {
   "cell_type": "code",
   "execution_count": 41,
   "metadata": {},
   "outputs": [
    {
     "data": {
      "text/html": [
       "<strong id=\"exp_nonpos_less\"><a class=\"ProveItLink\" href=\"proofs/exp_nonpos_less/thm_proof.ipynb\">exp_nonpos_less</a> (conjecture without proof):<br></strong> <a class=\"ProveItLink\" href=\"../__pv_it/theorems/6f53a4e56bd8bdc8ec75a732ad07cd7ee6d911f20/theorem_expr.ipynb\"><img src=\"data:image/png;base64,iVBORw0KGgoAAAANSUhEUgAAAREAAAAXBAMAAADelGYUAAAAMFBMVEX///+IiIgiIiIQEBB2dnbu\n",
       "7u5ERETMzMzc3NwyMjK6urpmZmaYmJiqqqpUVFQAAAB6qHgnAAAAAXRSTlMAQObYZgAAAAlwSFlz\n",
       "AAAOxAAADsQBlSsOGwAAA31JREFUSMe9Vk9IFFEY/427s7POrutKKpUkKYFRHTSCIgjWg6GgMJYG\n",
       "IZSCbVIWgp51SjoFsR2kLsEGJUgWJkSaIutBKUKaDLzoYQPtFOFFkujQ9968+bPrLlowPdh538z7\n",
       "vfd++32/730P8LoFRd8235hzXG4u1aHjP7RDYsOjynbO8Qv6kI6nZKTZ25p3RIpiZh+aUGpzAmbQ\n",
       "D0gp4B17e+wdk8ui9yWltEPPteFZVNJzBBhkoez0jsms6K/qgQVN2OHjmiOTbfS2Ax+BQvroN7xj\n",
       "YoXEpw+Ni/2lI5oLcEb5tUDDGsIUoUIPZZIQhjr7uVkkUVUG4sVSKaNAv5PV1ae8YxIiwbbOQnY0\n",
       "0nHCDkzJxkCLsP0EeAtc28OSE//GhP3X2BeEN60PV544LFEZnbSkQ757gGA670LLTXMPTYuL2l8f\n",
       "20NAely4AgOKMYmInRMRh8l7fNK+W5NITwHNn8y5olIZT0p+NMYcJvMYNf3qOiJ3EOlycCx5CVEH\n",
       "X9Qev29Hpw/TzmbktKJoHsHO9JHMJSxEHSanUczO5eCcLX6XKdzc6+BMJlC3MNTnIFyKrbMtleVY\n",
       "Yt6pCiVTFbSEWokIP/YYk7IJm0lwCz5KeOWHbiGZydFWAZFuOTgRHYQS2Ocma2exuo12y5OH6dEy\n",
       "YlcFSf9WSFNbi7V+XOKT/MGulM1E2UJBCupN3UJyk6NFAVHOwcbxFiCPBtK4nek3frLJNyK1sPQU\n",
       "ZusPp+2qEEaXQt29ZZRjnDMJdXfCzcQXVbs1C2maHG0VkJUGC+dkZyit/s7S0iP2+NlRqxqubEek\n",
       "z1UVzHq5jq/4EI/HDUnyv4Q7OsVGv5hMSGEytF1ARhsETiiRvC6vV+Qqw/Lr6OqS9VKQzKoKSi2/\n",
       "ThwjzQ1wn0jqMy1TsfJ5vglDCpOh7QKCwSm3YlHDPZPYLfXvwl0V2jDsT4TQRtPVTcpurhM0OIpF\n",
       "CV7Rs5w0wJGmydFyTBQQOqA2BI43Km1NuGjstVCaVaHfCB2sL2M+X11MIHidvo8diHVMu0+2N6xb\n",
       "TIEjTZOjSapmAaGmWzguWR1VFD/nYlTNWk32xS7rNiCYG7IeoDXb4nHXkZcBXdFdpokuyvNn5U6s\n",
       "VSR3c0kg8/qoaqKLRMd2YPNfYUz083zDd/ZSnvZnHY9Wp87H/oKJiTYDo1DCxXu8vRh7fvv+A2Mr\n",
       "8wjyKYOvAAAAAElFTkSuQmCC\n",
       "\" style=\"display:inline;vertical-align:middle;\" /></a><br>"
      ],
      "text/plain": [
       "<IPython.core.display.HTML object>"
      ]
     },
     "metadata": {},
     "output_type": "display_data"
    }
   ],
   "source": [
    "exp_nonpos_less = Forall((a, x, y), LessEq(Exp(y, a), Exp(x, a)), \n",
    "                         conditions=[number_ordering(Less(zero, x), Less(x, y)),\n",
    "                                     LessEq(a, zero)], domain=Real)"
   ]
  },
  {
   "cell_type": "code",
   "execution_count": 42,
   "metadata": {},
   "outputs": [
    {
     "data": {
      "text/html": [
       "<strong id=\"exp_pos_lesseq\"><a class=\"ProveItLink\" href=\"proofs/exp_pos_lesseq/thm_proof.ipynb\">exp_pos_lesseq</a> (conjecture without proof):<br></strong> <a class=\"ProveItLink\" href=\"../__pv_it/theorems/da9e16a407d2bb0c4fc17cb1b4bf8bf330caecbe0/theorem_expr.ipynb\"><img src=\"data:image/png;base64,iVBORw0KGgoAAAANSUhEUgAAAREAAAAXBAMAAADelGYUAAAAMFBMVEX///+IiIgiIiIQEBB2dnbu\n",
       "7u5ERETMzMzc3NwyMjK6urpmZmaYmJiqqqpUVFQAAAB6qHgnAAAAAXRSTlMAQObYZgAAAAlwSFlz\n",
       "AAAOxAAADsQBlSsOGwAAA4BJREFUSMe9Vl1IFFEU/sad2VlnfxxDpZJEfCl62iJIAmENBAWFKTQI\n",
       "wRRsg8pYUHorp6TX2B6CHnowqECyNMHKH2w2UAoRNx+EsAeDEqIQX0Tpqfszd2Zcd0KC9cLOPXPu\n",
       "N/d8e+93zr1AoVvI7pXmMjPfOPOb2Id2xO7Pm/154zH/E2Ks0revhSMSTdjGFHrzAphfsoBJ+vao\n",
       "cEwuCuMMqlzvF3d5uP8hcJtuZWfhmEwLOWzjeptwfhh3ZcL980CxAcjZwjGJC6NW/TNrmwcaPADu\n",
       "DxiIkB0qLqBM0sJ6sVBm8VU4q3sR3F9Mfidrak4VjkmYCFYp/dHX4m7HmCWsSgsdti2TzHkLXN7D\n",
       "lKP/x4T+1zCq9DGHyE9HCnI0jkXbjpC1u4/Qqu9ES00zD7jFRC3X85xcdqW/nK9ICBxQROJ+xKLx\n",
       "2xlzmdwKV2NN7CLRU9CQB/OyUKuSg5KMxoTLJIPnLLq70cv6zoJpwIMjLUDmTmHCW3Od3TECOk6I\n",
       "YBuEje4j2KkUqTgSZnWXyWmUkCWYsxyMx+RhrpkuTjCBEy9HsSOGumWbGs2xdIY8WjON1FH6rpJM\n",
       "oVUhxsoeZVI+6jAJbSKQRUXWQTKTocUBoq6bAufsDrRttHm5iCyegCSSPFpNHi2kvinH1G0a2Fwr\n",
       "Jp+eKzF6cYECJDnUZTlM1E0UWb0sBkNyk6GdgyU0k+I4HiGoQ7kaiyOxY+nsynYDQSHRCJ1/gLyF\n",
       "R1XKLoIulXT3llCBYRYw3N0JL5OAHu02BJKbDO0eLMqbQYZzsjO61R7XcmrnlxR9zmDE8mQ7Yim6\n",
       "nRJnt82e3/ENn5LJZFaS5Jfw7k5JFhqLz5DcpGjPwRKp5TiuxGoor/WVhbxK7Kh/LzKvSGTNJTM4\n",
       "SydV4+w6cZxoro+tiaQ9NXIVq/4yBZKZFO0eLNEur2Jx9J/lpkkYd4URMPuHjVYMyOkwWsnn2gbJ\n",
       "bqYTNLiKRSlesQxZNxiSmwytJOwDJPLYxdE2709DTit1uQcltOnPzejNhg/Xl5MOK3NphK4Q/9Ch\n",
       "RPuEt7KN2/cwhrSvZBSt1vEDROrx4qhkcyqfUsMa1UmRHhNCzr0N2HubVcwgUVJrMukpef4XB46O\n",
       "cln07Br1/zCamfThqxl2F9OHdn3mPyFHP/MbvrOX4+ngzteI6LRMwp/JTZJTSdNjcrSF/WoFv33/\n",
       "BXtt+OmUdkmKAAAAAElFTkSuQmCC\n",
       "\" style=\"display:inline;vertical-align:middle;\" /></a><br>"
      ],
      "text/plain": [
       "<IPython.core.display.HTML object>"
      ]
     },
     "metadata": {},
     "output_type": "display_data"
    }
   ],
   "source": [
    "exp_pos_lesseq = Forall((a, x, y), LessEq(Exp(x, a), Exp(y, a)), \n",
    "                             conditions=[number_ordering(LessEq(zero, x), LessEq(x, y)),\n",
    "                                         greater(a, zero)], domain=Real)"
   ]
  },
  {
   "cell_type": "code",
   "execution_count": 43,
   "metadata": {},
   "outputs": [
    {
     "data": {
      "text/html": [
       "<strong id=\"exp_nonneg_lesseq\"><a class=\"ProveItLink\" href=\"proofs/exp_nonneg_lesseq/thm_proof.ipynb\">exp_nonneg_lesseq</a> (conjecture without proof):<br></strong> <a class=\"ProveItLink\" href=\"../__pv_it/theorems/6668da8e32b09697a06230da826673f6391e64e80/theorem_expr.ipynb\"><img src=\"data:image/png;base64,iVBORw0KGgoAAAANSUhEUgAAAREAAAAXBAMAAADelGYUAAAAMFBMVEX///+IiIgiIiIQEBB2dnbu\n",
       "7u5ERETMzMzc3NwyMjK6urpmZmaYmJiqqqpUVFQAAAB6qHgnAAAAAXRSTlMAQObYZgAAAAlwSFlz\n",
       "AAAOxAAADsQBlSsOGwAAA4tJREFUSMe9Vl1IFFEUPrM7szM7++MYKpW0iC9FT1sESSCsgaKgMMUa\n",
       "hGAKtoVZLKz0Vk1Jr7E9BD0aVCBZmiDlD9tsoBQibj4EYg8GJYQhvohLT93fmdltJySYLuzcM2e/\n",
       "ufe7537n3AvgdVNYL3XWGJX+J34D/kM7wvrzxp2K8xH/E2Rs4Lcv3hGJJJgxB5mKAOIXTIBZ/PbY\n",
       "OyYXuXEGYrZ3zQ4P9T8CuI23ss87JvNcDkUY6ubO99O2TKh/CSCoA4gF75jEudEk/1pg5oFWB4D6\n",
       "/TqE0Q4FPZRJllsvlmtMGoWzmhNB/UH0O9nYeMo7JiEkWKn6+3CXvR1TJrfqTehltogy5w3A5X0M\n",
       "OflvTPBaQxDTpiwiPywpiJE4rDA7jGL3AJQN14FWO3IPqUVELbYkyhGfS4qEPAilOB+a9wOs6D8t\n",
       "iM3kVqgBNvkuIj0FdHG0Igs5lhoVRGhP2Ezy8JwuzCailX6UvO7EISWisdMw46y51u7ofg1O8Ml2\n",
       "EBvNRbBzaVRxBFjQbCanoQqHQMnpDLNoln8lDNk4xgSs+coUO6HLe8xUcY5l83gt+XbsqH5bj4ZQ\n",
       "YxAlZQ8zqZ20mCi74EexlbcNhqzDkSZo+2AJ93Mc3x1Qi9Dt5MKzeAYEnuSRBvToQvVNOiYX8cTG\n",
       "ZhB9eq5Kz8AFskJR6TctJvIu+ExQrxkMmSHTEbTjYAk3URxpAQ2kwWgcSvXFKtsNCHCJhvH4I+gt\n",
       "NCljdmHol1F3fxXqYJwwCQ30gZOJX1MHdI6MEJOg7YNFahslOCs7I3s9cbWsdq6l8TMHE6Yj2yGa\n",
       "xtspUHZF8vwGX+FjKpUqCIL4Epy7U8UCQZGUFUZbB4iSS1McU2IDSK+19eWKSuxtecczz8ez5pIR\n",
       "WMCDynFynTiONDdMYiKoT/VSxUptZBKKlLcMiuYHiLKdLlEsHP1ruengxj1u+I0743oSRsRsCJLo\n",
       "c3UHZTfRCbTaioVqeIWedSikBIlDsK0TtJQgB4i0Zdg40pbcaYhZqbn8oAR1/lMnZAqhwy21qIP1\n",
       "xSwoV5B/7FCiZ8ZZ2aZZ7hIku5JhtNxMDhBJBweOSLbseiQ1koYj59OiXMjltwG2twXJCKBlJ1Mp\n",
       "R8nrcy2sFB1xWbjkfuOI5Gdd+Ko666La2B+fuQ9I0c/c/r67n+PpYOlrmHdqPrEvJjdReqUMiqbp\n",
       "KGPPVW8vxp7fvn8DTyT4naWFZO0AAAAASUVORK5CYII=\n",
       "\" style=\"display:inline;vertical-align:middle;\" /></a><br>"
      ],
      "text/plain": [
       "<IPython.core.display.HTML object>"
      ]
     },
     "metadata": {},
     "output_type": "display_data"
    }
   ],
   "source": [
    "exp_nonneg_lesseq = Forall((a, x, y), LessEq(Exp(x, a), Exp(y, a)), \n",
    "                           conditions=[number_ordering(Less(zero, x), LessEq(x, y)),\n",
    "                                       greater_eq(a, zero)], domain=Real)"
   ]
  },
  {
   "cell_type": "code",
   "execution_count": 44,
   "metadata": {},
   "outputs": [
    {
     "data": {
      "text/html": [
       "<strong id=\"exp_neg_lesseq\"><a class=\"ProveItLink\" href=\"proofs/exp_neg_lesseq/thm_proof.ipynb\">exp_neg_lesseq</a> (conjecture without proof):<br></strong> <a class=\"ProveItLink\" href=\"../__pv_it/theorems/6db15d53a53f8154631513c8c8f167db2f2aae290/theorem_expr.ipynb\"><img src=\"data:image/png;base64,iVBORw0KGgoAAAANSUhEUgAAAREAAAAXBAMAAADelGYUAAAAMFBMVEX///+IiIgiIiIQEBB2dnbu\n",
       "7u5ERETMzMzc3NwyMjK6urpmZmaYmJiqqqpUVFQAAAB6qHgnAAAAAXRSTlMAQObYZgAAAAlwSFlz\n",
       "AAAOxAAADsQBlSsOGwAAA4dJREFUSMe9Vk1oE0EU/rb52XSTpinWohaDFkFRD6kIiiDEg2Khha1G\n",
       "QQoaoUbRKoUWj3ZVPAkSD6IXIYIWxCq1ILa2lOTQoogYK3ixhwhVBKX0UiziwTezMzubNMEipAPZ\n",
       "md35ZubLe997b4Bqt4DoE7nDZed97Y0WLKxC2ygO3KYvlZ0/Yg1YeECDAnubrR6RurjdB4f1WFnA\n",
       "OPoALQu8Ym/3qsfkhOg9Ga2g6LkO3IcoPe8AV5grk9VjMiH6U5Z/yhTj0A5TyWQJPceAt0AtffTm\n",
       "q8dEusRjDQyJ87UtpguwV/89RdMmQuSh2irKJC0GxsSHdhFEm4sQT941Mgr029XSsrt6TIIk2M4J\n",
       "+JRGunY6jmn42t8hxl4CvATOrGDL4f9jwv5r/CNCC/LDyfuKJaKRESkdst0tBAoVN5ppm7xtj7io\n",
       "vQfipYhP5ZKSwtXkoedHEHZiIqyYvMZ786f0IunJb3ozZVno0VRG8+JwXDHJYdC2qyISWb7QdHAs\n",
       "eAncCo+C3XS804sxdRgZrS5SQbDjvSRzDVMRxWQP6pkJApNS/NPZ5etufpU4mwmMRQz0qnmXYlud\n",
       "kcFiLJ1TVaFhtJm2MKII87THmKwddpgEFuGhgNfnLYFsYuHP0bKAUIL6LnHCOwimscZN1YliYwnH\n",
       "pHc20aPjjlMVNOtbLS3trDf7cJwv8gZOZx0m+iJqsjAuWALZx4/jaFlAMDgqcbz5yaL+Ai4VWc3O\n",
       "bL7z4RiknkJs/+sFpyqEcFqn7sYMmjDEmQS7k3Az8USMblMi6/iQo2UBGTwocSo6gwXjT0mWucse\n",
       "v7piRt4V7Qj3uqqCXS/n8AVvUqlUXtO8T+H2Tr0whI20WTG0KCD6fkicUCJZ3TfXXK4M+55HPr+T\n",
       "LzWZkqqgx/h1Yjtprp/bRDMemsWK9R3ih9hI/Ydlo2UBSVx0KZu1rdwy6X/lnWtwV4UErnvTQSRo\n",
       "ubFA0c11goNKsWjAM3o2kQY4kv39eZOjfXFRQLQeB8cblbY2HM2vtFDaVaEvH9xwYC11+DydRuAs\n",
       "fX+8Pt415s5sL0TscqS4kjE0ucUuIAj1ODguWQubyX/qYtTC2tbSi13JbUAwz/ssP+2ZSKVcKS9Z\n",
       "MbHa6Dolx3NFakhitjnzL5P4izO1YYouHHm8DFv5CmOjH1WavrqS8rSu+DUkOyMXXxGTyxReKctG\n",
       "Z7Fareq377+r/vP4iAy1cQAAAABJRU5ErkJggg==\n",
       "\" style=\"display:inline;vertical-align:middle;\" /></a><br>"
      ],
      "text/plain": [
       "<IPython.core.display.HTML object>"
      ]
     },
     "metadata": {},
     "output_type": "display_data"
    }
   ],
   "source": [
    "exp_neg_lesseq = Forall((a, x, y), LessEq(Exp(y, a), Exp(x, a)), \n",
    "                      conditions=[number_ordering(Less(zero, x), LessEq(x, y)),\n",
    "                                  Less(a, zero)], domain=Real)"
   ]
  },
  {
   "cell_type": "code",
   "execution_count": 45,
   "metadata": {},
   "outputs": [
    {
     "data": {
      "text/html": [
       "<strong id=\"exp_nonpos_lesseq\"><a class=\"ProveItLink\" href=\"proofs/exp_nonpos_lesseq/thm_proof.ipynb\">exp_nonpos_lesseq</a> (conjecture without proof):<br></strong> <a class=\"ProveItLink\" href=\"../__pv_it/theorems/9ae0ae4d4cbd719664ba2e8c4400580861a6501a0/theorem_expr.ipynb\"><img src=\"data:image/png;base64,iVBORw0KGgoAAAANSUhEUgAAAREAAAAXBAMAAADelGYUAAAAMFBMVEX///+IiIgiIiIQEBB2dnbu\n",
       "7u5ERETMzMzc3NwyMjK6urpmZmaYmJiqqqpUVFQAAAB6qHgnAAAAAXRSTlMAQObYZgAAAAlwSFlz\n",
       "AAAOxAAADsQBlSsOGwAAA4pJREFUSMe9Vk1oE0EYfdtks+nmpynWohaLFqGiHloRFEFIDxWFCqtW\n",
       "QQqaQo3iH4EUj+2qeBIkHopehAhaKFapgmhtkeTQoogYFby0hwitF6X0UiziwW9mZ3c2aUKLsA5k\n",
       "Z3b3zc7LN+/73gBet6Dou/OHKr5XuxpMmPgPbbNYcLu2XPH9MXPQxAMaFNndrHdEInGrD41pbRUB\n",
       "E0gDSg54ze7uecfklOh9WaUo6bkW3I9mug4BA2wrE94xmRT9GTMwZYhxeKchZbKMSyeA90AtPfQX\n",
       "vGNib4nPHBwV6yvbDBdgn/Z7il4bCNMO1Xook4wY6JOfukQSbS1BPP7QwCjQb3dLyx7vmIRIsEcn\n",
       "oUqN9OxyNqZ+vv+IGPsJ8BI4u4ZPjv0bE/Zf418QXrQfnL4vWaI59tyWDsXuNoLFqh/6fPjNHWvE\n",
       "Re3viJcjvq4oSpHzLlxNAVrhOaJOTkQlk7f4aPy0J5GeAoY/W5GF1pzMKn4ciksmeQxbcZVEYiuI\n",
       "9EocS14Ct8MnYbec3UlhXC5GQYvEqgh2IkUyVzAVk0z2oo6FIPjGFv90rnxW+JLEWUygL2EwJREu\n",
       "xbY7I53lWCYvXaH+VRN9Qm9GlJc9xmT9mMMkuAQfJby2YApkI0t/jrYNRLkscWJ3EMpgnZusk8X6\n",
       "Mk7YkdxClyNDjiso5vdamnq0zkjjJJ/kD/bmHCbaEmpy0C+aApnmy3G0MBDtABwcbwGKaKCIK6Vx\n",
       "45VNvRBtg62nMPv+jaLjCmH0atTd/IxGjHImob4E3Ex8Mb3PsJERPuRo20C+dto4mZ2hov6nTEt3\n",
       "2eVXT5tecGU7oimXK1h+OYdveJdMJguK4n8C9+7UiUBYSIsVQzsGMtwpcEKJFHV1rqmSDavPYjMf\n",
       "7JuabJkraG38OLGDNNfPY6LoD41SxaoH+SIWUvthWmjHQDDwyq1YtPLIZFarO9fhdoVu3PBnQuim\n",
       "6foiZTfXCTqlYlGPp3RtJA1wJAvTgsHRalwYCBWoeYHjjaztMI4X1mqUliukC6FNHeupw8x0BsFz\n",
       "9HxkY7xn3F3ZXojc5UhxJGNokqplINRMG8cla2Ir7Z88GLWw1lp+sCs7DQjmBdUM0De7k0lXyUtU\n",
       "LawWOlLlz6oJzDZlVwtJoLRS64boorGRFdjqRxgL/aja62trsacNZeXR7vR8fE1MrlJ6JU0LbW2M\n",
       "xp6c9/Zg7Pnp+y+RAPVteTAy/wAAAABJRU5ErkJggg==\n",
       "\" style=\"display:inline;vertical-align:middle;\" /></a><br>"
      ],
      "text/plain": [
       "<IPython.core.display.HTML object>"
      ]
     },
     "metadata": {},
     "output_type": "display_data"
    }
   ],
   "source": [
    "exp_nonpos_lesseq = Forall((a, x, y), LessEq(Exp(y, a), Exp(x, a)), \n",
    "                           conditions=[number_ordering(Less(zero, x), LessEq(x, y)),\n",
    "                                       LessEq(a, zero)], domain=Real)"
   ]
  },
  {
   "cell_type": "code",
   "execution_count": 46,
   "metadata": {},
   "outputs": [
    {
     "data": {
      "text/html": [
       "<strong id=\"exp_even_neg_base_less\"><a class=\"ProveItLink\" href=\"proofs/exp_even_neg_base_less/thm_proof.ipynb\">exp_even_neg_base_less</a> (conjecture without proof):<br></strong> <a class=\"ProveItLink\" href=\"../__pv_it/theorems/a4c9867b79e739474c7c75a9ca5d60844ea795c70/theorem_expr.ipynb\"><img src=\"data:image/png;base64,iVBORw0KGgoAAAANSUhEUgAAAREAAAAXBAMAAADelGYUAAAAMFBMVEX///+IiIgiIiIQEBB2dnbu\n",
       "7u5ERETMzMzc3NwyMjK6urpmZmaYmJiqqqpUVFQAAAB6qHgnAAAAAXRSTlMAQObYZgAAAAlwSFlz\n",
       "AAAOxAAADsQBlSsOGwAAA7VJREFUSMe9Vl1IFFEU/sbd2RlnfxrBohLEoij6gS2CIpDW0EiomGKT\n",
       "IKoVyv4sljboIcqpqJcgt4eghwIDEyLDVYJKxdYHpYhwkwiiHjbI6CHCl1CEsHPnb2fHMSWYBmbv\n",
       "uffcPee753z3nAG8flR94HeVq656TaHC+4fL6eM+tcXdnaZ4QEKezT57h+S9MfYh5b5BU3BZoJfN\n",
       "7noGhE8bwlZUuu/QFXeAyzSICc+QBLMGokk073eFqiveAKUK4M95hsRnCluEqSFrNWxLgq7wKQgR\n",
       "6FLvaPLRFB6/Lc+acmitUtihK0rp3bh8+SbvkDyl+FdkcbjoOq3QgfBlY+d3G2t+ujnPgGPzMJn5\n",
       "NyT3yEk4ihHbUnyZySFUyj1mmIjZtyDmZzU0Wj9wW5f+RuracsdCfM+YIa0HLgWr8K2gu7nOlF5h\n",
       "RPlhMicKBBR/m6t9obKpjfNjZ8wFiS3PPEKylHAGsMe6o1B8MjZYqsh9S0ziRcHZOKGRZyFsX5JS\n",
       "ymFInonk5pgligOKL4nJ4r9OoTVpIUGXIky4IYENoEQxQXqQxXNwJ1soe15BNVmqREQrewzJwkwB\n",
       "CVdx5TkNl78DD/JaeRZ+qmhVUF3cWYYsJJQdOjkXdcsOpEmYNSZcRT+7qb7xqwV2LE79Vkq1Ze8C\n",
       "JYUGzbVfbMwWkCyOJOhIHYSGl38JZF46Tc5bFKwzGkiwiZ5mmmw3PDTSexaBvAtj+VORKGImY5n9\n",
       "a7QtmGF2EUKjQMP1USxCp4YkeDRhY2w2ICfRUceScqiKS0A6yghDSDY4Oouw0hD20DuArqw9d3uX\n",
       "aTQLTxyMSmZNDTJIEQqkr43TYesJ/4oveE2ny3Gc/4n97ixQIVTr+Y5FZKQ0Q5Sd347OcsOk9Dl6\n",
       "D9e8LG7DIa2g8N3yp7fmUol5a46ogSGmFaIim67BZpzXYsJJ7YoNSYq+JOJn9L8SUfkdDIrOWK2B\n",
       "GNkRM6Lhu0TjS73jMoRmtNyrVntQWzqVOK7500HEgVXSON1ujSeoKzBWjNazCsc1ay662PIiijsn\n",
       "S3k+Zu8sNy5cNIISysCf5qvnrID9Fov73+2iWAeX1ixkIf80nIZ4nNYfLYkdfFGISXd7GfMQIijh\n",
       "/pPa+jBBqa1QKGe2zrJtetq0fAIlciQ2FxDn14BBnxyvBshmvKnJVvKKtoZP4ACadfmDnofwLD4a\n",
       "EB7snTMkgWIiSYoxRORHM/Y6q/0XKV00fzjbaeX5tKfFDh6ZgzQYmxNJp6PXZPG/Hs+/vv8Ad43o\n",
       "CEk9/3gAAAAASUVORK5CYII=\n",
       "\" style=\"display:inline;vertical-align:middle;\" /></a><br>"
      ],
      "text/plain": [
       "<IPython.core.display.HTML object>"
      ]
     },
     "metadata": {},
     "output_type": "display_data"
    }
   ],
   "source": [
    "# named and written for eventual even exponent,\n",
    "# but exponent specified as 2 for now\n",
    "exp_even_neg_base_less = Forall((a, x, y), Less(Exp(y, a), Exp(x, a)), \n",
    "                           conditions=[number_ordering(Less(x, y), Less(y, zero)),\n",
    "                                       Equals(a, two)], domain=Real)"
   ]
  },
  {
   "cell_type": "code",
   "execution_count": 47,
   "metadata": {},
   "outputs": [
    {
     "data": {
      "text/html": [
       "<strong id=\"exp_even_neg_base_lesseq\"><a class=\"ProveItLink\" href=\"proofs/exp_even_neg_base_lesseq/thm_proof.ipynb\">exp_even_neg_base_lesseq</a> (conjecture without proof):<br></strong> <a class=\"ProveItLink\" href=\"../__pv_it/theorems/0a21487ad39c80144d9bae5484e98a5e7d31b6580/theorem_expr.ipynb\"><img src=\"data:image/png;base64,iVBORw0KGgoAAAANSUhEUgAAAREAAAAXBAMAAADelGYUAAAAMFBMVEX///+IiIgiIiIQEBB2dnbu\n",
       "7u5ERETMzMzc3NwyMjK6urpmZmaYmJiqqqpUVFQAAAB6qHgnAAAAAXRSTlMAQObYZgAAAAlwSFlz\n",
       "AAAOxAAADsQBlSsOGwAAA8FJREFUSMe9Vl1IFFEU/sbd2Rlnd6YRLCpBTAqjH9giKAJpi4oEiym2\n",
       "CKRaocx+WTLoIcqpqJegtoeohwIFCyTDLYJMxdYHpYjIJISoB4PsKaKXSIKoc+d/pl2MYLqwe8+9\n",
       "595zvznnu+dcIOymmx3fWKkX1RsKHeE3bszsd+jtxY8zFJ0kTLLR+/CQvLH6AbQVX2AouALQz0Y3\n",
       "QwPC5yxhLardWdlzoKm4DpylTsyEhiResBBN4+hOezKxVHOhmooXQDlNRsdCQxKxhTXCjxGbOgs1\n",
       "zwpTEdGQINDl4dHkrS3ce1lpuSe9wLfCVJTTb2Vt7arwkDwi/1cVsNedaVrmBKZi6uRWS47SzXkM\n",
       "HPgLk/l/Q3KLDpGTeOVM7L3tcgjV6kObOsTsKxAnSxoabxi6Zko+UsutvlUbKwPb0tumLGk5cCZe\n",
       "g0+OSnGRPMMr7bNtMQnEtGhHURRCdUsHF8WW1B9I5GbvPUVClTJBBz507ii0iIoVru6yE50snriH\n",
       "fSWzagnCDmSJ5hxG1CCSxFHPKnFIi2Qx7d/6A1ezDhL0asJ3r8NcxroAJfIJcsNMPbyFTVT0VVFO\n",
       "lqqhGGmPIZmdd5FwVef6wB1jYuekkZ6FLzquaqj3V5YRBwlFh76cS/oKgH2LpWnYOUauob+tlN/4\n",
       "xQL7LE7/VE65ZfssrQ27jE1RsbngIpmrZG4L9UZM1G8CmZeO0OHtGpZZBSTeQo25bIN1AovjccT8\n",
       "TDQzG39YSSJlTzH7F2hZPM/sIoFmgbqL45iDHgNJfH/Gw9hCTM1iYhMLyp4aLgNpPzNJSFYEKouw\n",
       "yBK20W8IvQV/9OQb7O97U1Kyc2qcQVLIkZEOzoRtBvwjPuA5fd0Yx0Xve+/OLOb/uwyKklJUtBmG\n",
       "KDo/A5Xlkp1FT7CLu/5psTLMP1DfvbQHZfat2afHRthmISmy4RKsxknDJ5zUpXmQtBkvibN9bCsR\n",
       "ld/MoJiMNQqIFR0xL1pnlxl8aZgx75x3yoPe3qOlcSGaiyMN1Elf6XYbPMEml7FissHMcFem6Ihe\n",
       "Js0hv3OqNMmnvJXl0qnTllMSeURzfP2MSAadSzT4upF8HZ+/fjZz+bvRHMSDNN89L9X0xPXJg64K\n",
       "zXqIyYOHDGmUoGys0ojHbmXBul+/bMutKFOVlOdhVMtaXQBI8DVg0WeM12NkM93S4kl5wYfDblhZ\n",
       "ZcKMg1ziY3dBHu6f0SUxP5EkzeoUtfuPtUEkH6Scb3ynxBmi+jflaa5/mLA7aThVGonASNmKnkCt\n",
       "KeB/tdBf378BMUPqekVcC3sAAAAASUVORK5CYII=\n",
       "\" style=\"display:inline;vertical-align:middle;\" /></a><br>"
      ],
      "text/plain": [
       "<IPython.core.display.HTML object>"
      ]
     },
     "metadata": {},
     "output_type": "display_data"
    }
   ],
   "source": [
    "# named and written for eventual even exponent,\n",
    "# but exponent specified as 2 for now\n",
    "exp_even_neg_base_lesseq = Forall((a, x, y), LessEq(Exp(y, a), Exp(x, a)), \n",
    "                           conditions=[number_ordering(LessEq(x, y), Less(y, zero)),\n",
    "                                       Equals(a, two)], domain=Real)"
   ]
  },
  {
   "cell_type": "code",
   "execution_count": 48,
   "metadata": {},
   "outputs": [
    {
     "data": {
      "text/html": [
       "<strong id=\"exponential_monotonocity\"><a class=\"ProveItLink\" href=\"proofs/exponential_monotonocity/thm_proof.ipynb\">exponential_monotonocity</a> (conjecture without proof):<br></strong> <a class=\"ProveItLink\" href=\"../__pv_it/theorems/441f69ffa3fab0057567973915e78e690f0e148c0/theorem_expr.ipynb\"><img src=\"data:image/png;base64,iVBORw0KGgoAAAANSUhEUgAAANsAAAAbBAMAAAAHRefHAAAAMFBMVEX///+IiIgiIiIQEBB2dnbu\n",
       "7u5ERETMzMzc3NwyMjK6urpmZmaYmJiqqqpUVFQAAAB6qHgnAAAAAXRSTlMAQObYZgAAAAlwSFlz\n",
       "AAAOxAAADsQBlSsOGwAAAyVJREFUSMe9Vl1IFFEUPrM7M/szs+tYSUUhKQqRPUhEhhTog2RQMNFS\n",
       "D0G7Qk09GAnbQxHoho+C2kMRYTBQCIHRJGGlsq2EgRC0iQ9BPaygUG/6sCBB0Lkzc2dmZ2d3lV2a\n",
       "hzvf/eF8995zzncuQG2/ewn4H5+oGv9oV8klQg3pfph//0DJJcHaHZwbN8FQ/brnAvagBAs1o+Mz\n",
       "JtglH/BccCTQDj4ZIEc6P6ulG6agH5Y8/ZbgBoBBrlnSe1It3VsKOiDtNe8nkcTlAQZr4sQ/FGzA\n",
       "aa/5uhRpJwBCeKFstkq2QJ6iVtHeesS+tJAKmCEzmDDo5FC1h2MOUXS/3k7FNtlOgvkF7OxGdKy5\n",
       "+Xi1dFGSB8G1fZJzCy0m22j3A3PoNY68A7he3hhbOQ/IDT5P8Xl7KNZkgvBJuG0SD6EGjEIwV96Y\n",
       "UFGFQmiBOwWCdacwcpSiixmYNuEYxicvs6rl8scFVpbPph86aPiSIuzTcNUG+CzBjD6z5j4CtJgw\n",
       "jkQRyREpa3awNSoqw0Jvl5uOirDsOp0/oZsrojsBHE2TMSKo4w4t67DQHE4xDCxK7Nz03KyDzhTh\n",
       "kXUXXVyCr1B8mdwmiBtUUEn2nX9EPLvQS4602SgbesoQEUS6Bs19OkOEB39h0003GsULjmfhdyRV\n",
       "FCrcX4zb73ZkwjDx8+HAFrHfymiGnl7SY5kN9mXcdLoIT74nHlOTNOjbcVaKtDmD6UKTcd19sKxp\n",
       "xtAnfWt4O4KGik2EXRw39HRKtyJcSxSFChHhyR6CZuAyDXbMAG71zOjegoprJN7VPXdXzSKYtiWU\n",
       "yDX6RcgZerqkKEqWYdhXjrzjqQgHDF3stE13elZ4t/JPUBBP8Yu4lzrwZw09vaOfjgm/cAQgb4lw\n",
       "7BZBWx4VoWwNtlTAnxqakmNYAD9DTNdTXtZ9Bz2am04XYaYf0VNbb5Lbes9YchKe/3YOktnAGwlb\n",
       "oqfBGzj6cn/XlQ9uOkOEReQb+dJg5dl2aoovVdjPOtqYoqhuZXR2Ijc93yrlPtdbJSzbracQlzG1\n",
       "UpnNXcRFR7tTOlGtSCfIO6tqwepfbP8AvESvZ3zEb+EAAAAASUVORK5CYII=\n",
       "\" style=\"display:inline;vertical-align:middle;\" /></a><br>"
      ],
      "text/plain": [
       "<IPython.core.display.HTML object>"
      ]
     },
     "metadata": {},
     "output_type": "display_data"
    }
   ],
   "source": [
    "exponential_monotonocity = Forall(\n",
    "    (a, b, c),\n",
    "    Less(Exp(a, b), Exp(a, c)),\n",
    "    domain=RealPos,\n",
    "    conditions=[Less(b, c)])"
   ]
  },
  {
   "cell_type": "code",
   "execution_count": 49,
   "metadata": {},
   "outputs": [
    {
     "data": {
      "text/html": [
       "<strong id=\"exp_monotonicity_large_base_less\"><a class=\"ProveItLink\" href=\"proofs/exp_monotonicity_large_base_less/thm_proof.ipynb\">exp_monotonicity_large_base_less</a> (conjecture without proof):<br></strong> <a class=\"ProveItLink\" href=\"../__pv_it/theorems/b1cb746f74b46c1b78dedb8c5c41b1a7cbf9986f0/theorem_expr.ipynb\"><img src=\"data:image/png;base64,iVBORw0KGgoAAAANSUhEUgAAAPsAAAAXBAMAAAA/2iRsAAAAMFBMVEX///+IiIgiIiIQEBB2dnbu\n",
       "7u5ERETMzMzc3NwyMjK6urpmZmaYmJiqqqpUVFQAAAB6qHgnAAAAAXRSTlMAQObYZgAAAAlwSFlz\n",
       "AAAOxAAADsQBlSsOGwAAA01JREFUSMe1Vk1oE0EYfZtks8luGteS1qpYigiKXoKIFvGQCtUKFVaN\n",
       "oog2gRoRW4zUgye7tXot8SB4EEzRS7FiKPjbUtNCC6WIMQdR9JBAEXqReCiUguDM/m+yhRS232Fm\n",
       "drJv3sx873sbYFMioPVb3++UnX4fLaEEGZsVu9SOkX8HCw4/s+IKF8UoGZXo4y+X2Rtiah9CknO8\n",
       "nCttTAJMHvhIH5+4TH/JGK06vxCOhUXgMXCPbibhMv2UPuCiAccXPFlvGlgEghLgK7hMH9X6YV9G\n",
       "MGd/mFrzpF+T1ishRBIQdDv1GW0g7OhoMmZn31jemLpB2iDhPrh79yGX6QWqvJGOIdtkY6cmu6UW\n",
       "ERfRR4Y+ovt3wLU6VtwIPT0V345bkqXUjova6LnsX0GZpxcUIs0IAqV1Fyqemn6kDPw1pbuwPr2H\n",
       "aOlcHhOWSpvI67hjENowHlFSQDTil3xZx0W41lSW8aErZqdn1TPdbrTvxvrgJQt+AvaYM8uGuIUK\n",
       "PDGdoUK2IK6jvElSGgyDOdFOH7ipCrho85FpqYr+MNg1J3pvAj36cXlaIZkZ0sRnukyP5lsRVjyJ\n",
       "0jflTHq2OyKD+yOb9CqATikg4/LZvwhVnC6/R8QXQ/9tpDlNzIfdx62aHn1mizSAC4pp+wLJvEl/\n",
       "Vh6U6VHTOr0K4OmFKCA1/CLYfwhnvjtIr6eA5QbNAELU7oaJ8oQcFzU9+mERzRhXlhd6ExbpTUJh\n",
       "YN9mNXoFwPdKOkgNWlBJFHM5qzgam7StNRwQrAUaTtNsMSWLRy+hjIVUKlVgGN8rC/1RtKrbbjdy\n",
       "TwADBQOkSYpc6tXI3XLapqVZpfDZ8smRbYb16hmR/XOS6dH7cQR3lNMz/AvJoGdX0Xee5ixp5J4C\n",
       "2BMFHaTFXkctL1R/4O8bepQHx6W46tFxAucrpCCV3KPTIr12bm2OnP2pJr24burNVB8UpMXiBr9M\n",
       "/NTXbnKJikeTu/w5n0HgOpkf2x67/MGkf/k5kgfTT4cPnnXoABLzhJ+CdO3V9Uem+kOrFWeBlf1k\n",
       "uXgqZfqRWfdcfw2AxDdZBWk6q+sLXrVJXtK6sDhW86oTnrd6jQ00VA99i/0xpHf8TKwu+pBtL7Ug\n",
       "9/+6uhz/ASqHz/QQI5KNAAAAAElFTkSuQmCC\n",
       "\" style=\"display:inline;vertical-align:middle;\" /></a><br>"
      ],
      "text/plain": [
       "<IPython.core.display.HTML object>"
      ]
     },
     "metadata": {},
     "output_type": "display_data"
    }
   ],
   "source": [
    "exp_monotonicity_large_base_less = Forall(\n",
    "    (a, x, y),\n",
    "    Less(Exp(a, x), Exp(a, y)),\n",
    "    domain=Real,\n",
    "    conditions=[greater(a, one), Less(x, y)])"
   ]
  },
  {
   "cell_type": "code",
   "execution_count": 50,
   "metadata": {},
   "outputs": [
    {
     "data": {
      "text/html": [
       "<strong id=\"exp_monotonicity_large_base_less_eq\"><a class=\"ProveItLink\" href=\"proofs/exp_monotonicity_large_base_less_eq/thm_proof.ipynb\">exp_monotonicity_large_base_less_eq</a> (conjecture without proof):<br></strong> <a class=\"ProveItLink\" href=\"../__pv_it/theorems/b0617d853bdf847156da796fefe4d45a5900e8ea0/theorem_expr.ipynb\"><img src=\"data:image/png;base64,iVBORw0KGgoAAAANSUhEUgAAAPsAAAAXBAMAAAA/2iRsAAAAMFBMVEX///+IiIgiIiIQEBB2dnbu\n",
       "7u5ERETMzMzc3NwyMjK6urpmZmaYmJiqqqpUVFQAAAB6qHgnAAAAAXRSTlMAQObYZgAAAAlwSFlz\n",
       "AAAOxAAADsQBlSsOGwAAA15JREFUSMe1Vk1oE0EY/TbJZje7SVxLWqtiKUVQ9BJEtIiHVChWqLBq\n",
       "FEU0CdQVscVIRTzZrdVriQfBg2CKXooVQ8HflpoKLRQRYw5i0UMCRShCiYdCKQjOzM7u7KYppLCd\n",
       "w/ztvH0z873v7QJsShFpu/XdTr3W85ESlECHzSq7jIbTfwcKNR7zyrIQhRHUK+HhL5fZQzGjDUJK\n",
       "qHk5l1q5JHB5gA94+Nhl+gtWb8U2O89uOxwLKwCPAO7izSRdpp80O0JUtCY/vWYLPFlvGuAzQEAF\n",
       "8BVcpo/SdsiXkc25hk7bAk/6Faq9KgRRAAJuhz5DO/KOjkYqtmOKY8XkNVQHEPeBtraDLtPLWHnD\n",
       "HYM2qY/nLdktNCtwHnpR14d0/xbgSh1v3Ag9PpXUDjdUi32RhfeZ7l+GsoQvKIiqYRBL676oeGLq\n",
       "Ien416TunGP43e4hHkR2Jg/jbIbR80dBboWxCAkB0ohf9WVrUgstWpbzQVfMSc8bZ7rZ4GB3RNaL\n",
       "XvgRYLct0a3LlyvgiZkMFbQFZR3lTaDU4DiYUZz04nXjoEXb0tk8VNMfAn7Vflmm9LxJSJjHlXCG\n",
       "ZKZRFZ/uYh4ttUCYeBKmb8wxer47ooOwpDN6AmjCV0tA1uXzfyFYceyJJl5Cga+W/ltRdRKZD79X\n",
       "WGEefWqL2g/niGn7xFSe0Z/WBxC1OJU26QmgnwSWgIziV4D/B+HMDwe/YTuJAiyGqFCC2O6GkPLk\n",
       "nBBlHv2gCE0wRl4v9yRt0psAwsC/yVJ6Agj1qCbIKDihUlDM5ZzRnE+TrYX2y/YEDadxtLiSzaMX\n",
       "oAxzmqYVOM730kZ/BFqMbbdbsccAifBjEJUUutTLkTvldK2PXfn48DbLemknoftnVObR++Aw3CKn\n",
       "56TnqkXPr0DvWRyzlBV7AyD80Q0QLXvq84d7llb1gTE1bnh0HMGlCkpIEnvotEmvXVidQWd/QqUX\n",
       "t0xdXFIJiJbPG/wySZPfuqG/QDwaKennbAbEq2h+dHvs4ntG/+JLJA9cH+7ef9phAujvDQaZ2qv6\n",
       "keHbSKkKRvWHllpTgdf9SO5xTWN+xPJe6FsDMCgIiPbr+oJXbVJSaRNWRtcsrYWXVNvAARqsh77Z\n",
       "OQyajTQdq4ueAm6jHNH0GiD3f11dLv8BRWfUN5AwSSMAAAAASUVORK5CYII=\n",
       "\" style=\"display:inline;vertical-align:middle;\" /></a><br>"
      ],
      "text/plain": [
       "<IPython.core.display.HTML object>"
      ]
     },
     "metadata": {},
     "output_type": "display_data"
    }
   ],
   "source": [
    "exp_monotonicity_large_base_less_eq = Forall(\n",
    "    (a, x, y),\n",
    "    LessEq(Exp(a, x), Exp(a, y)),\n",
    "    domain=Real,\n",
    "    conditions=[greater(a, one), LessEq(x, y)])"
   ]
  },
  {
   "cell_type": "markdown",
   "metadata": {},
   "source": [
    "### Even power exponentiation is a even function"
   ]
  },
  {
   "cell_type": "code",
   "execution_count": 51,
   "metadata": {},
   "outputs": [
    {
     "name": "stdout",
     "output_type": "stream",
     "text": [
      "Resurrecting stashed version of theorem proof notebook: /home/wwitzel/Prove-It/packages/proveit/numbers/exponentiation/_theory_nbs_/proofs/even_pow_is_even_fn~stashed~1\n"
     ]
    },
    {
     "data": {
      "text/html": [
       "<strong id=\"even_pow_is_even_fn\"><a class=\"ProveItLink\" href=\"proofs/even_pow_is_even_fn/thm_proof.ipynb\">even_pow_is_even_fn</a> (conjecture without proof):<br></strong> <a class=\"ProveItLink\" href=\"../__pv_it/theorems/392aa7defdf011f13cb34bfd5b925b3cb9e024980/theorem_expr.ipynb\"><img src=\"data:image/png;base64,iVBORw0KGgoAAAANSUhEUgAAARoAAAAmBAMAAADpUknrAAAAMFBMVEX///8AAAAAAAAAAAAAAAAA\n",
       "AAAAAAAAAAAAAAAAAAAAAAAAAAAAAAAAAAAAAAAAAAAv3aB7AAAAD3RSTlMAq1RmmUTNIjK7EInv\n",
       "3XZ/CtNrAAAACXBIWXMAAA7EAAAOxAGVKw4bAAAD9ElEQVRYw62YS2gTQRiA/+a1m02sBUGwh5Ki\n",
       "0pxsFB9QxUZbHwcfAS+CRQIepJ7Wm0ptIygUKjaVFlwFCVYFLWoVFTy0RPEgFeuDIkUppFoVH6go\n",
       "paJgnMduO5ntTjZ2fshsMv/s5tt//tcugEhq8z+hiGyEucvlDB535n+Ll1UXvZCvQgKN+ooeh+ZK\n",
       "sxpkyHI5NKrjBfpuVrqnCUak0AT6nTRx2O6eRhuSQlObcdJMQltKdGah7TZIoXntqKkjNN6GUxNu\n",
       "bNemS6BRRTE5gD69TbGw7sJ2wX4JNGVpclC4ad0M2z448h7mZ1zYzpuVQDM/Rg5vuOm9eDicgZM6\n",
       "VEGTG9spPygNyV6LnWmE+k5iBQ8fWOUIUokrWPkIGlXHlMfYboTSbMKH/c40Qn09Tey2+QPINO3H\n",
       "0d8o32E0Ovu5hbbbTGmOYTulnWmE+oVkbLDNrwR4ms+jL/4K+Byb9VTOdt8oTQDdQSjiTCPU3ydj\n",
       "1jYfzhRNeJztalOExovQAwIvFur/ELdJ2lN0rCgNZ7vOCI2pJ2Njj0UxJdKTfsPHOLH2tbLjFjKm\n",
       "qLKbawrlRozSbAU4K6IR6GlcsobwwXgO5VivzVzbx7A8Z9ZwuSJHaQ6CUnAn5d1VrSwNp1dG7sA6\n",
       "c0IlNPMYr1oD9ZkFaPOyAtuYaziafkoTzIQSVgoYNxJal+45x9Iweji1qAeqQxmf6aT+SeKySH2Z\n",
       "3PoopGioqt8FNOYajiZOaTy5aSdtRI4dug6wlqVh9L6tOBPm4iFgbRNOsJcdJphZoQcPO9NAcj0a\n",
       "vm6Z0HEKhd4TTN0hlQHraT15i39Gl7YW0rA7Bf4puIru4JnAb8w1s/sN3EKZs1xfFIhcwdM1NXyd\n",
       "wnpSTzSSBKOhC3ssHyIxFczNhEtPWRaQB3jTgpAy18xS8TBNC/JJL5xXYReprXU8DdaTeuInwROF\n",
       "+Efrwn/xyISz59fFrD9SGPS8WGsKpc3MN1BG+owp1HEbhhFp383TED2uJ95mwziNaPqmHekh2a+Z\n",
       "bdF25JaswJuXENjGXMPV3wTbUahZBTrInSIv1uwdBa4naj+1jX+ZNdtMxlHbtY+W/NRAWlqLpiWU\n",
       "9KFYxr5wW4dBGw2tJyQLrgIYt6a3WTWSk4aSaQbYbsv3bvATKGdI+9zcnbLR0HpyGCnUlzqUTXcU\n",
       "JPEE+V5TSZdM02Xv/foMIyHq/bR7Rk9hdSHeqPF/HtRLpvkpoRMNxsmhlZv+UDIMSkFzp/FmQY6E\n",
       "khJotElJNOGIjKe7u5Jovkh51gyn5NA8kEJjb6v+S8qTct7f7JNC06LLobmmS4DRXrh6m1T8vZ9y\n",
       "QAJNMObqvZ8LOSSB5pL15R8+OylD5Kn0gwAAAABJRU5ErkJggg==\n",
       "\" style=\"display:inline;vertical-align:middle;\" /></a><br>"
      ],
      "text/plain": [
       "<IPython.core.display.HTML object>"
      ]
     },
     "metadata": {},
     "output_type": "display_data"
    }
   ],
   "source": [
    "even_pow_is_even_fn = Forall(\n",
    "    x, Forall(n, Equals(Exp(Neg(x), Mult(two, n)), Exp(x, Mult(two, n))),\n",
    "              domain=Natural),\n",
    "    domain=Complex)"
   ]
  },
  {
   "cell_type": "code",
   "execution_count": 52,
   "metadata": {},
   "outputs": [
    {
     "name": "stdout",
     "output_type": "stream",
     "text": [
      "Resurrecting stashed version of theorem proof notebook: /home/wwitzel/Prove-It/packages/proveit/numbers/exponentiation/_theory_nbs_/proofs/even_pow_is_even_fn_rev~stashed~1\n"
     ]
    },
    {
     "data": {
      "text/html": [
       "<strong id=\"even_pow_is_even_fn_rev\"><a class=\"ProveItLink\" href=\"proofs/even_pow_is_even_fn_rev/thm_proof.ipynb\">even_pow_is_even_fn_rev</a> (conjecture without proof):<br></strong> <a class=\"ProveItLink\" href=\"../__pv_it/theorems/4932f24c9c69ca0123b73bf558923fc7e862123d0/theorem_expr.ipynb\"><img src=\"data:image/png;base64,iVBORw0KGgoAAAANSUhEUgAAARoAAAAmBAMAAADpUknrAAAAMFBMVEX///8AAAAAAAAAAAAAAAAA\n",
       "AAAAAAAAAAAAAAAAAAAAAAAAAAAAAAAAAAAAAAAAAAAv3aB7AAAAD3RSTlMAq1RmmUTNIjK7EInv\n",
       "3XZ/CtNrAAAACXBIWXMAAA7EAAAOxAGVKw4bAAAD8UlEQVRYw62YXUgUURSAz/45szOrKwSBPshG\n",
       "hT7lFlZgUdu/D1kLvQRFLPQQ9jS9ZZhuUCAYZqHQFMTSj1BSmVTQg7JFD2H0S4QUwlpW9INJIYZB\n",
       "du+dGffO3J27g94DOzv3njPLd+4995yzA8CT2tnfUEQ2w8KlN4Ovu2dn+GZLiv5QsFwAjfzO+B5e\n",
       "KM0aECErxdDIw/MF6LtTmR+EY0JoSvrnS5OAxvxAGRZCU5sp6KsHmYK2dH60SQjN+8K+epB6QhPY\n",
       "0jmOR22aABp5xsVXLzKIPlf2xyMYJNwvgMbX5eKrXSTHWDOPdR8c+wxRvNmBrACaaNzFV7t8cIwP\n",
       "4EtzBk5rUAX7Ce8vg4Zkr6XuNFz9Gc2WwvK+2sTvPHhlyAkpIeGHn8BWGU+9MWi24a9D7jRc/Ubq\n",
       "3uarPfEzM4eReftJhC1NwkgNntlu0JzA69TlTsPVL6Ziw+4rLVuY5+oAXszOoptQOXwnu/3ToClB\n",
       "hGrMnYarf0gtjd1XWrLMcxFmN2vThCaA0Eo4UczV/83fOnylwybFpvA4E4Ex40w9Gx19yjtTPD3p\n",
       "N5SJyo4BXpmngti0VZnKfztu0DQAXODRcPTGuQzCWI7Jw42jWF45F8K0DTDLFc0ZNEdAspGWdVe1\n",
       "0jQOvfTmHqw3J2RCsxY2ZhZx1qaUijrT1s+EUrTfoAln1KSVMsb0pHJW81+kaSg9dFb0wBI1EzSD\n",
       "MDSFr2njeLpKBD3eS5ZqxLKVJxmahEHjz80F6VYU2OotgHU0DaUPNuBMmEuoQK8NwPOiNHkhtqGs\n",
       "Gw2kNqDLxI5xDadIuHKKqiukMmC9UX8+4mHN8lYHTWgabnDiht4p09b/0i1uYABlxjKtoiR2HU9X\n",
       "VzvrFNaT+qOQJFijXt5nxRA+U0qPLwu8piucyx8p0zbQVbDiYZoWFJMBuCTDHlKL6500WE/qT4gc\n",
       "jhpIfLV+/B/eyT9Xs6EYh4Y6zpZtkKFvM/MN+EhfMo06bl3XY+17nTREj+tPoEnXzyGavrlAeoyR\n",
       "duWWreI2QfltsWxLk0z2S9IdhZyVoIN4gqJYYTsKXH/kfmNtQius2SZPbdUIM3O8cEtr0bSoqSA6\n",
       "yzgW7mowxNAY9YdkwdUAY9b0Tk80dVC8jg7S3Vbw09A3kM6TdrupO83QGPWnGSnktxr45jqKjBea\n",
       "sLP/KtATnGV7vz5dT/J6P+WB3mOvLjEvNEpXMTyz4i2wEw0nPG1Vq2P8hbFAaWjhNIEsiBE1JYBG\n",
       "mRJEE4mJ+Hd3XxDNDyH/NSNpMTSPhNCwbdO8pCwl5v3NQSE0LZoYmpuaABjltae3ScXf+0mHBdCE\n",
       "457e+3mQowJorlk3/wEcyylDPCHK9gAAAABJRU5ErkJggg==\n",
       "\" style=\"display:inline;vertical-align:middle;\" /></a><br>"
      ],
      "text/plain": [
       "<IPython.core.display.HTML object>"
      ]
     },
     "metadata": {},
     "output_type": "display_data"
    }
   ],
   "source": [
    "even_pow_is_even_fn_rev = Forall(\n",
    "    x, Forall(n, Equals(Exp(x, Mult(two, n)), Exp(Neg(x), Mult(two, n))),\n",
    "              domain=Natural),\n",
    "    domain=Complex)"
   ]
  },
  {
   "cell_type": "markdown",
   "metadata": {},
   "source": [
    "## Exponentiation laws for positive whole number exponents"
   ]
  },
  {
   "cell_type": "code",
   "execution_count": 53,
   "metadata": {},
   "outputs": [
    {
     "data": {
      "text/html": [
       "<strong id=\"product_of_posnat_powers\"><a class=\"ProveItLink\" href=\"proofs/product_of_posnat_powers/thm_proof.ipynb\">product_of_posnat_powers</a> (conjecture without proof):<br></strong> <a class=\"ProveItLink\" href=\"../__pv_it/theorems/34143a5edc9b4407b10f7d37ea28798d4a63243c0/theorem_expr.ipynb\"><img src=\"data:image/png;base64,iVBORw0KGgoAAAANSUhEUgAAAUkAAAAZBAMAAABOXcHYAAAAMFBMVEX///+IiIgiIiIQEBB2dnbu\n",
       "7u5ERETMzMzc3NwyMjK6urpmZmaYmJiqqqpUVFQAAAB6qHgnAAAAAXRSTlMAQObYZgAAAAlwSFlz\n",
       "AAAOxAAADsQBlSsOGwAAA/pJREFUWMO9V0uI00AY/tsmTdq0Nb4VtcgiqBShiKgHlXpR8QERiyD4\n",
       "qKAR1ldFQRHUrKLHbi+KB5HKKl6WtYgo2KJd1lV0D1Yvu4hICyLsQagH8QGC/6STNJOmDyHrQNqZ\n",
       "//9n5pt//tcAuN3euLNM3uhIMAUtnHdnnZTREVNTgHKPvnK9HyqeinpeplmBsVfT8SCa82xkVhYe\n",
       "MVDWRYenAOUx8rOo3t87UPJVPBWGz79ZB2sB7jhOJswNEKUoqahXAdDX+OgaSDFObj1RH1ydD9PS\n",
       "UoIV2JmF7wCekuNsZP6ARxSlIYoQnxLSTddQ6pj2GKMqnAZvmZWIyEFykuuO0yOyEIcVIKnqavUY\n",
       "FeUR6UV3DXRaDn+KxmgNzIF+gZXwpaU8muqY43Rf2pMSa2lql1T0FkAAb50ru4byEi4HceMCa6jN\n",
       "l7ZQ0g/eC7i1T3Ga3o/6C6XyFCUVfYx+iAYScM95ZhCzzNJBsIK2lJnNSgyBZzv+BRwNcwgCmlhV\n",
       "KEoqOhO/lT09q9xDOWnYZmZjX7NzfJ4nG32u0oZpjZcADxD1E4DDXUJIdKarVE3BtXCy6U4HNP93\n",
       "ox8iCpd69FaxM625B60Ibz0DYuVfs1Zr+m38iFfvKsHDpmi4DqTFZo6Kt2HajBU90q9wOSvNc7Rq\n",
       "vysxthVGKs0oHegx4pq43nOAJVYMv4jmauA11S7UbCHMymTbAVwvLJvOI0TVHH9CCx+yypz60guf\n",
       "OEVSbCid6bcpytXA/7ZK6+hT+obUs2y6ZJg2XZLIlDUTZQGH3E6AF9YzPiG5Sc5zsK0QK+Q60emN\n",
       "898gVGvSiQxvG1XJYtYuGaYtupGkv4OkgeTwlnrW2nu+XiwYeX8hkRv/0MeZ9oc1xAInut6+4OeX\n",
       "gf8DkeyEHWUZJsNGmRFKtWGyjfg4XMGj8MuEn7CbkCYmmLzP64uNc/vummhIDaE50PU2kwaZg/A+\n",
       "bzdjvxyOSUwqbcVk24ieO/GepTzmz0EyGh1l8n5QD77jkJ9joiE1hOJAN88t4GXun3Wumrb7eHVz\n",
       "Zq4x8ObaMNn2zLTdHFYer1VVLZ+9z+T90A1VPY5okoFGXKzCgCMdqOfA0i6i2uXuM8Ut0yo0/6hy\n",
       "Rs8J6D18I+8LibrOgu8as9ZAQXCimxc51sXWxa5B8maw92mXBhU/sVJxmwYb+YSZ9w/Tt0yUSiZJ\n",
       "DbF0vIluBDMSYPxa5zq0+zIsZCadYPHddhD1Uj5542haWG/m/WtoXcJyDSJU8nQZa4hZpSa60b6S\n",
       "03eG0MVBTAu2iSZVldp0uKHvTWovI1RuQbe+e/o6bj2ve7Ns/e6515ITVDq8IRMuP6Ta2EaptZX8\n",
       "p/d4wx9RLX8BRawjdsHuMPkAAAAASUVORK5CYII=\n",
       "\" style=\"display:inline;vertical-align:middle;\" /></a><br>"
      ],
      "text/plain": [
       "<IPython.core.display.HTML object>"
      ]
     },
     "metadata": {},
     "output_type": "display_data"
    }
   ],
   "source": [
    "product_of_posnat_powers = Forall((a, m, n), Equals(Mult(Exp(a, m), Exp(a, n)), Exp(a, Add(m, n))),\n",
    "                                  domains=(Complex, NaturalPos, NaturalPos))"
   ]
  },
  {
   "cell_type": "code",
   "execution_count": 54,
   "metadata": {},
   "outputs": [
    {
     "data": {
      "text/html": [
       "<strong id=\"products_of_posnat_powers\"><a class=\"ProveItLink\" href=\"proofs/products_of_posnat_powers/thm_proof.ipynb\">products_of_posnat_powers</a> (conjecture without proof):<br></strong> <a class=\"ProveItLink\" href=\"../__pv_it/theorems/ce0d9cd8fed2b28970a28dd74870918a85e61e900/theorem_expr.ipynb\"><img src=\"data:image/png;base64,iVBORw0KGgoAAAANSUhEUgAAAssAAAAaBAMAAACz2wxLAAAAMFBMVEX///+IiIgiIiIQEBB2dnbu\n",
       "7u5ERETMzMzc3NwyMjK6urpmZmaYmJiqqqpUVFQAAAB6qHgnAAAAAXRSTlMAQObYZgAAAAlwSFlz\n",
       "AAAOxAAADsQBlSsOGwAABt5JREFUaN7dWm+IVFUUP7M7b97MvJn1qdu2RS3TmFAshIXYslRMHzbJ\n",
       "EobcBMGc14cdRYxGNyQCc8zym+sSGH6QGNIiKGkRzdhNG5OU1GpWtrZUYjbCEgosWDQj6p533597\n",
       "370z7w2OMXVg38w79/fOO+835557z3kL8D+QxF3BtTL5VG8UU9d28Bvz8kO62HLUnsbnKVkn/VJI\n",
       "f1Bb7SXn65g/Zoy3zV/hGdTwMC9dCeTGaOsFcBKf54J1Er0ig8i1Mtnlft3hjzF42wYH8wxGzdFE\n",
       "+b9K8yryp9h+JYxtGcnclWplcjLa6Vyk+2IM3rZIM3vj4xbNVfy86EdzhxlB5daheQP5i9j+dHR/\n",
       "3SdC5FqZzOxc4WTFhb4Yg7ct0szeuC1LaR7Hkz1+NGuYmWKtk6Gji8hhu5M374QC7Mh6synRxifH\n",
       "A1i7v6I633vqYKJDNpOMbZFm0x1LQlVK88tOBqlHs1qtl7f+fdFwVh5y8uZEAdRzXppR2w65AL/Z\n",
       "n0fck1y2NmbLQtDy+SX5DY5t69T2yh20RZmlNMeI2XDFNzfvJh/LW4fmOTi7rjt5M54q0unJZVOi\n",
       "jcJwgP2g8VYUzlw8c2ApTtlybQzNKAZvW4xmHEwcPTs+hWzvpTTjKhjzXwLPttZKuJVwqs46eVNN\n",
       "ZUSaTS2s9zfWoW8Kw6TRXprCiDRqY1yaGdt4OghKhhyYwWQX9Cdxyn1o7TQeSKcX+9Pcnk4vyLQO\n",
       "zfMw7aVwMv/YrcM6+KXA0exqtUJ9QyOPboNIseMURAqr4ChaXVQb49LM2MbT4aLaRw7s4FplVMMk\n",
       "Md+imeScIX+aiclItnVovowBhrNrXzEyy6zplrjagVBdO/E+eJ5e1wZTkCJ0xOmFB9Mo9/EYl2bG\n",
       "tpg0TEklM20J8vlBltI8AtGq1IUwSzPBjEhR38r9x8jXgyJ8rVnOuPA87ufIIykPgZYyNep8d+lw\n",
       "tbG/f69L84oyHKTf1sDtMEPiUb1aG7NxcYUp+yzbkioQXaiGSh3dmN4KlOZINlzi7b5yqJR4xCoU\n",
       "nfJkCJZxoK5j3Tqtd7kSPtq7DE5U6e2oAX8Es9CUhIYA64wLfxMfkxjRrkAbl8ty6Ktcy4vyBx4/\n",
       "Abjbs6W47kWKmEZkV4nSnNTZFVDtyZeS1QE47KV50l0BN15aDyt/hm8yZhAwJTwOfB/OallKYjwD\n",
       "gRCurOE7EV5nXHgvTnNiod2AHBckqKyh9QiagCWgeGhVBJqXSHTBJWfRDKPHGS1u+ZLHNZzSPM0x\n",
       "pwzVcJc5oEMCH3qcKeHNgYv6WNiePLgLDIBwZZzvRAjO7PZGc06HrySPJtVKRPkNEp7OR/SqJzdL\n",
       "MA1Fs5U0YDlxPvHxxp7QyQKEUJHc8q6eCU8cnBhnaA5/RyJQebKzCHfgvU+RHwlX1hRTwuMATJ/f\n",
       "FoYnJnonStZG2x/hSoprCIjOLBdorsDlpFCcyrUymv8iCym/HqjX/DENbT2LFs3bibur95Xbq6Qw\n",
       "XGn2LgoD54VojpIECU8VtxYVXEyTO+lTREfdEt4cgOnwM/vtWL0QCMFE0ijXEBCdceCXcKdBrEX0\n",
       "ZK8mPJpca2ZjzNI0LZvyLJwb4xNKfNZ7nYhpROydBnSQsH7tNphTIBXs+/TJtJDhpRl+wllMCp84\n",
       "XpNYTbc4ccPtKJgDMA1jXTaJ7zAI7ADIEcwjGlxDQHTGgc+3drjKzNKRW0VCpVonodO0TBeDzhdn\n",
       "+J11Qtg3i5hG5ATXCJ0hBLZV4PN8Pl9JFpTMqEAz7Vf3QOKNfP459SV642TV7SiYA4TEwZhN4mYG\n",
       "gR0AOYJpIltYS0RnNrMxIsZdU7ol1ebaO8bR/CB0wS4VXqABBAd0z76ZRsk12PC0aqZOsgQCFryG\n",
       "21GgA9MQn7R2xeYctxHYAZAjmLxocA0B0RkHbr7L6L8ZNMea3O3dy9JM1vcZOKnRSo/sXkNVaVu/\n",
       "T73+Ga0ZX/0IwvqguWg5HQVz4DTTS5wLDAI7ABKE2QwwDy7WagiIzsyVd+iaKbnm1rp2h87KilXY\n",
       "AyO3QHQtOdm0B0BO83tfdJZhB85q5fH8ERiukPrd7SjggHpvkb4DALO4ZxDYAZAg1IftjgCDpQ0B\n",
       "0Zl1TtxjBh2+GTR/2VxziSrIXlIN5vMlWU+D/YEey9ttrwrsZ94SMANgbyxcBHYAZIikc+ZirYaA\n",
       "1xnF7R/8imt35SbQfE9zzbUV4YbfBcazoBWFjoK7mhQZhLS7gGNvi9achoAEbgn3LrCZ0ac31579\n",
       "LvBGaMYO1EDty04HQUA5oDULbm9KMDlPNZ/mJr8haujN9ut1/k9DqX1ZNigikDUPnPs/jebJ4SZv\n",
       "D9HleQvK/wCDgUmEDVt9TgAAAABJRU5ErkJggg==\n",
       "\" style=\"display:inline;vertical-align:middle;\" /></a><br>"
      ],
      "text/plain": [
       "<IPython.core.display.HTML object>"
      ]
     },
     "metadata": {},
     "output_type": "display_data"
    }
   ],
   "source": [
    "products_of_posnat_powers = Forall(m, Forall((a, k_1_to_m), Equals(prod_a_raise_ki__1_to_m, Exp(a, Add(k_1_to_m))),\n",
    "                                             domains=(Complex, NaturalPos)),\n",
    "                                   domain=NaturalPos)"
   ]
  },
  {
   "cell_type": "code",
   "execution_count": 55,
   "metadata": {},
   "outputs": [
    {
     "data": {
      "text/html": [
       "<strong id=\"quotient_of_posnat_powers\"><a class=\"ProveItLink\" href=\"proofs/quotient_of_posnat_powers/thm_proof.ipynb\">quotient_of_posnat_powers</a> (conjecture without proof):<br></strong> <a class=\"ProveItLink\" href=\"../__pv_it/theorems/b0bcb1698d0fde61fe350d682df0cd3866cedadc0/theorem_expr.ipynb\"><img src=\"data:image/png;base64,iVBORw0KGgoAAAANSUhEUgAAAVMAAAAyCAMAAADWSsgNAAAAOVBMVEX///82NjYbGxsSEhKIiIgi\n",
       "IiIQEBB2dnbu7u5ERETMzMzc3NwyMjK6urpmZmaYmJiqqqpUVFQAAAAnLjGdAAAAAXRSTlMAQObY\n",
       "ZgAAAAlwSFlzAAAOxAAADsQBlSsOGwAABJRJREFUeNrdXIlypCAQZTfcyPn/H7vggRei46DZaqom\n",
       "lUCPwrPPBwYhqE3IV2/HBUfQm7fbHmusxNgjbB+BWxLooHq2UySracSZeoQisA80R2BDartdl+I4\n",
       "dYaoo4Y9clPmIUOqqCrpLo4WSuMvxD1zW2IBY0pwqZdGFcUiIh7QM/HLUbgu1dKi8oZRV61A5pkb\n",
       "dwYspnTpL5VnWCW91cnddSr14If0SQcFFFIcFpDp5FpFeMkoO6hhiiwWxlP+hMxbaY4LMD2qDIsI\n",
       "ZEKPMnvp3jxgmOn+MkJR0a9Uv1YRw0z8qd/qjQ3vpRwgo5QMdolpSu99h5x6y/gh5v14pSkCp0Lc\n",
       "fJOQ1riXYcwcWAmYJlYJP/eYyZiQ3i+catzLNKbWDnUWczC0to9KLbmDCvcyjS0SKBZ9t8khsQPh\n",
       "XXloXh+uuRcppqbGMU1XQUojOSmqEiDUVLbPEGvcSxozZtHf378bFZc5EJi60HodNe6lHyPSybWd\n",
       "2NGNdjBClA2tebwa99KPYbaMRCF1UZIaZTAwxa2S7sxnfdhC8qGmf7BQtv3YxyyGIYuW06DbfBbt\n",
       "+gcy/Wi6ti/lq9G7slLThhm6z2cRMqkoq7AMWBh/bgaKmHQROxYSpxnNiXwtCxkmyxguPDi/qu3D\n",
       "cTtR3tt8FukzK4dLEUpiL4ROhwF8tAInDi8/CTqPWHw6hp9gek1e1DxdH4xSZihOMP2ucrjFZw2Y\n",
       "RkDtTguNGeMn4/2YPcI0C7p4EZON+BDTi/IVTL2aMkO0D0imiT/9gs8abD+mplOSypnFLM0T21zS\n",
       "yuFhqTKjkAWRk05HDxExYsYYEj+6QDVckt9gmmc1RA82ZIZpytTtY1SLuP8Fn0UHk1cTmcKJioWA\n",
       "SgafV65Wl90yCrNgxCjqtNMFvVtQDZfkN5jmWZm+JPyJHxs7Eqb7HXXcJj+9z2dNWHo52eVY2eo8\n",
       "V8strzAKs2DCKE4Biz1GC6rhkvwG0zwrtFD0AVOKH8r57/NZW76B6lH9bDfQBA5JqWWFUZgFe4w4\n",
       "m6Kd2X2ppxouyq8wzbNCC8MYbH9fiLr39kkOvAbb/J3yXMs5kvPAGKNyTrhmFBaCfdGrHS7lm5lq\n",
       "uCi/xHSeVbL9v39Eb/tHMUpWiPY9g/wCh0OT49LJ2OeySjGTJs5wUqo9ozAL2l5Btrzt/KWBajiT\n",
       "L+lpnhWaaTSE8Vhun9he0a2/yOFoY93ACKh5n4CzaK8pAZIpym4ZhSwoyUDAbpY5f2lz4QP5Aqbz\n",
       "rFYldMz5TSFvIodkUIFBfpdv4CzZ2MY3uauClS+dytfyU3dOanhaGdsyyO3bpzWHvvOE9T21KGN6\n",
       "gZC0Oz2cGaYdg9y+fbp1c2vD6uYuV3Fq7kJMlzuHlhmmPYPcvKn/+SDK/UCy2Q1eMEwFBrl1g3lm\n",
       "AhnaiGG65U5hnu3R66z/3RNTQM+gIbLiGl49MWWBnpVcL+zdE1ME7Ksnq/3KBiemPnA7UM+ebxT1\n",
       "6xNTHySAgN+Q6n5nY10HwK9HSvorNkgcAtzwbxz+gv1uZOkd3uctv0PAW/e2HcoO/gv8b/9PhBnS\n",
       "fzcUOQhwjRYRAAAAAElFTkSuQmCC\n",
       "\" style=\"display:inline;vertical-align:middle;\" /></a><br>"
      ],
      "text/plain": [
       "<IPython.core.display.HTML object>"
      ]
     },
     "metadata": {},
     "output_type": "display_data"
    }
   ],
   "source": [
    "quotient_of_posnat_powers = Forall((a, m, n), Equals(frac(Exp(a, m), Exp(a, n)), Exp(a, subtract(m, n))),\n",
    "                                   domains=(Complex, NaturalPos, NaturalPos),\n",
    "                                   condition=NotEquals(a, zero))"
   ]
  },
  {
   "cell_type": "code",
   "execution_count": 56,
   "metadata": {},
   "outputs": [
    {
     "data": {
      "text/html": [
       "<strong id=\"posnat_power_of_product\"><a class=\"ProveItLink\" href=\"proofs/posnat_power_of_product/thm_proof.ipynb\">posnat_power_of_product</a> (conjecture without proof):<br></strong> <a class=\"ProveItLink\" href=\"../__pv_it/theorems/6cf774ef96d965050b133387fbd779362647afe10/theorem_expr.ipynb\"><img src=\"data:image/png;base64,iVBORw0KGgoAAAANSUhEUgAAAToAAAAZBAMAAABTI/9DAAAAMFBMVEX///+IiIgiIiIQEBB2dnbu\n",
       "7u5ERETMzMzc3NwyMjK6urpmZmaYmJiqqqpUVFQAAAB6qHgnAAAAAXRSTlMAQObYZgAAAAlwSFlz\n",
       "AAAOxAAADsQBlSsOGwAABBxJREFUSMfNV2+IFGUY/93tzM7c7OzdXIgpxnEcReYhXGIYobAG/dVk\n",
       "pGU/na6ijuKlrBVERt1Y6bfsvihBEhtX9EVyicDyFlupU04/tP7BVRHbA4sChfugaB+E3n8ze+97\n",
       "717gFvrAj9195vnN/N7nfd7nmQX+dztzqruEh9XM08vx7APWEArMdNtrR3BbT9Al1i3vWsCv2v+Z\n",
       "uLYqh2pfEnR6zoCWoE3s4GglETKe4wF16rraqroLAtN3dFMvEVEBEoVUqaAjQE1sbgmwdz66fMbD\n",
       "Y8Ax6v6s1doa4ZCsg27ZAeBTtL9f0BCYyYn9nGASo5yHDh8f0BVsaFFdqsIhWRfdvDPAt2hbrSMw\n",
       "kxN7j2AZxizGg1uiAmFUW1SXEJDsiE+9flMCMymxDtlkewpP1gTvGbhkFR2tlt1lAcmeZ9tbaUpg\n",
       "JiXWIJXq1DGnIniHgCV9fUtbVfe9gH19nhc7v+i+SR5Yb0qQgnmlTvZEu8h4a4CjwJb7kmQ0vh4S\n",
       "GA2T8Qk0//bzIdzGWUn1MatDE8wtf8C8G7U9ypsA9sOu399RaHxdzGEuR6o38qVvI+EhPaDlqsHc\n",
       "fvPxdMSmvPNA0jeKUp8cmtxDPt6Nz/Hc4/IO2P2v4ue6pO45jtQU2jMsbVT8CLoysKa06qYFi7TR\n",
       "XP0I3BK/GW+YqPTiQ2H1BEVzZ5jeTBsRZe76Yztyf+Ji4y7Uc83wU75OXWID8myl/QTk0UeqcAaa\n",
       "qYuDmbXT5vg4nHvR8aU82vhGTkQhY+RsG2uBX1gjIs8nNYkXPLixOua56pUMGGPfjR1Tdjbv4dfp\n",
       "7e4nH+lebd2pwVG7S0WVyHjnCF6jfTl74mU+PgZ38/k73P07HSUwTxXZUObTmXpQu7LHkOtuI0e+\n",
       "ir/S0btAV4FUFlx9o1eDud3B61EDYryTBB+R1ZgLrbvIUfelS/zyI/4Ck0akPwkb05l5UDPWfSWr\n",
       "W8OR9NL9sbezkiS7lcpo1anB3G5gKE50RvSdTrqHJWsAh6l7fJxffgMTDl2IO8i7PZvOzIMaSnNl\n",
       "dW9ymJMv7X807ijXy7Seilp1ajC39avi3s14i6LJUmyrYyIIguo733DPMhx3DwbBDmu3GDR0OjMP\n",
       "UZftkPtde4Fjpn2o70b6YIVnRzWbD5Pj/tusx5JTYZLPKayw2K6QUwFfTGfuqcE5K9+LzGuGmVbW\n",
       "P9z9t3f5svSqEA4f9pNUhL0qxEozgydIXbIZ8vEPMLysmM7McxroUW62TUC1pm8/22YXx3j74reD\n",
       "8tnVsLfSr9mDQwVrBd7rJpdp/s1XgqN4q8qnM/VYT4XoVO6WE1AtGTZ5fG52dYynrCAbBKKI07yw\n",
       "Xwy2i0tiOk/zyGv1OFSb1zQ53qzqKK+t2crwtfLb8R+mv3nqW5n7YGT8A35tFDU25zrtAAAAAElF\n",
       "TkSuQmCC\n",
       "\" style=\"display:inline;vertical-align:middle;\" /></a><br>"
      ],
      "text/plain": [
       "<IPython.core.display.HTML object>"
      ]
     },
     "metadata": {},
     "output_type": "display_data"
    }
   ],
   "source": [
    "posnat_power_of_product = Forall((a, b, n), Equals(Exp(Mult(a, b), n), Mult(Exp(a, n), Exp(b, n))),\n",
    "                                  domains=(Complex, Complex, NaturalPos))"
   ]
  },
  {
   "cell_type": "code",
   "execution_count": 57,
   "metadata": {},
   "outputs": [
    {
     "data": {
      "text/html": [
       "<strong id=\"posnat_power_of_products\"><a class=\"ProveItLink\" href=\"proofs/posnat_power_of_products/thm_proof.ipynb\">posnat_power_of_products</a> (conjecture without proof):<br></strong> <a class=\"ProveItLink\" href=\"../__pv_it/theorems/562288307b5e1a4a197ea3baa6cf4f817f4363b80/theorem_expr.ipynb\"><img src=\"data:image/png;base64,iVBORw0KGgoAAAANSUhEUgAAAp4AAAAYBAMAAAChLuBMAAAAMFBMVEX///+IiIgiIiIQEBB2dnbu\n",
       "7u5ERETMzMzc3NwyMjK6urpmZmaYmJiqqqpUVFQAAAB6qHgnAAAAAXRSTlMAQObYZgAAAAlwSFlz\n",
       "AAAOxAAADsQBlSsOGwAABiJJREFUWMPlWV1oW2UYfpPm5KT5qemodbI6QrFUVyZFNlfK1DjwZ7GG\n",
       "qHUgTNtd2JWhmNoLRZk99Sd3trmZ7GJgpHqljjAKlbVqhrSlq2LWDqsikoKK3kVwOAtSv5/z833n\n",
       "fCfni82N7IV3eXfyvs/znSfffwH+5xZdGNsjl7m63FpsCNDOq3Tb1d0IBUK6Nwbp+EypSfPkQBnK\n",
       "5cPQB/wzbyAHqpDeoKtToFRDVLhN951bOA7w9q1wU8aT4330vo/n4RrzyFeWAXKgCulxhB0pVMHf\n",
       "/CirZz3ZLhZLUm+EdSDfhBlvDl8JoCUe7mUeXZUBcqC60HfonoKL+IuzsnrWk+1iT+veCGtGHeoQ\n",
       "zKveHGcAmrKRYtZ8oORlgByoLvQ4wp6C1/HQH5bVs55sF1vQvSGLURFCVeje8OZYBZgG/2lLz0hJ\n",
       "BsiB6kKPIuIpomqgLKtnPdku1qt7Q+wghCvQVvLmaMrAefANMA+kgByoblUHqacgiv7XLL0e1ZPt\n",
       "MgnlqTfGzslyNNul+l4GyIHqSn+OOlqx7+7sPCC/vteRLbZIkjpMPTBp2378vDvuXc+XpWU5AhVb\n",
       "zizPmJZrua2RaS5KE4XmAJ6T17OObJclpEQ93Acv8tuTGS14zXuLxJetWOGFTmx3uXBE84KuxTCu\n",
       "yLXc1sgVLlohCk1BqFITJ8nq6ZntZf4y9SdLcIH7QjkMkYRnua1sXZYjZp/89vOM63IttzVynYvW\n",
       "iULBTKAgPg30pOBLJF6R1dM1u7a1f24Mk6YC9S8AbkfHC9JtlL/xcKqCPwmD6V/wkyHBDEue0TLT\n",
       "JoRsAg61yuNAP89oAZHGiKgxIi0R0E9QRwrF4qIFZuzXU/BTIBPJ2PQUZ9cyjHTsN/g2yb/rPaBs\n",
       "gdpKf+we/MUwDBUQGelRfsFJmzwjZcwcUVNPhoPZylPsfp6RAepxoSaopERAP0MdnyDzlwRz7xw+\n",
       "B8WLAbDpKcyuOYtjpAfjEE1yY1H5A6Koy8SswTMUh28AtmA6WwNNLzNtTTh/CjhiCed4ZxnX5MY7\n",
       "LRHQr1HHCj12hlyT7PUtZc0LE3x2go0fJgPw6HzPfIHRE2fD4KVHDCAmtN56oE1jz2TKcsG8fgjG\n",
       "iSv/QEv+O07PMvwe0xY99CRlVmuXhFkCjqj9EHKCZ1zy1hOj0pLV5dZKx0mOfok6VujNCr0mqfgq\n",
       "xoWJQtg3As984OifOFu5Q71uvKAVWvaENmHoSZBi71gXN3jjgv0ErBWLrJ7BeKwngj6P8DMZnrqY\n",
       "KY2UWa2dFb65gCNiP3uneUYbkEnNzOQYkZTgm6r7YC9XNUsdK9SSpdckWcJJLkzCZPe7AcV2h544\n",
       "O1JUeyFE9k0k/GQPv0bNw7i5v8FI0ePWFkdNUH+27ZXNLKunsvnw1C3ouy5+JiNTlzWlkTKrtfuE\n",
       "ego4/PZV9CWe0Q5kUlszOUYkJfim6i+ioFW1j7p5A7eJJPCXQb8wib47MvIC0nOw2aEnne9R5zjd\n",
       "ZYa9SpVrTD/58ei+DyOprzJjuFt3uo1x7JByGYlJ2WhtyGWD5eR4wzEbZlnGUEKC1URsiaNOtJ+t\n",
       "whF2U89D0A7TKo3mVTVJ+2f4in3/Sac6LbiYgS4z1FRud6dch+efin721cWrWaBIaD2CjHUzQVys\n",
       "Z6gY0rzfzGhtxOXA7eQQ3WUwjJGSzAW/uX/I+oZD1SxThSPshkKhKvrNlyIwqF+YkLF8Gax+xvdP\n",
       "beJjouegHgYLKFSS5B/00aduLcbaoR9fGBKktz6FgHFMC2rUxXrmXn7Nu4MarYWc29Jh5xDciY2y\n",
       "jDmZrYqJOI16aHS4yFTldDcUClfgLEzdDONlemGSQ6NBvVODFqGe4YUrA4D1ROkknMOh2gfjmtqn\n",
       "3gsffY0gTir5CBqSGAmUoyNzwKxQiv56oaN/2o7s929vS9zL6601NXFsA+wcQWenP8YyjsroaSDC\n",
       "eWjWQpsZpmpUd8dfMPS7OOWhkVNOwCPcn0e6zPRAJm5Wov5APxKxpD8qQprUfefmc50a7By7BZ08\n",
       "LgPkQBXS4wj7rn77L5+RfpmxA2Uj/b3tBFP5If1FKr5Cy264wS36n9OtsHQjC/gvWSz947UDXNAA\n",
       "AAAASUVORK5CYII=\n",
       "\" style=\"display:inline;vertical-align:middle;\" /></a><br>"
      ],
      "text/plain": [
       "<IPython.core.display.HTML object>"
      ]
     },
     "metadata": {},
     "output_type": "display_data"
    }
   ],
   "source": [
    "posnat_power_of_products = Forall((m, n), Forall(a_1_to_m, Equals(Exp(Mult(a_1_to_m), n), \n",
    "                                                                  prod_ai_raise_n__1_to_m),\n",
    "                                                 domain=Complex),\n",
    "                                  domain=NaturalPos)"
   ]
  },
  {
   "cell_type": "code",
   "execution_count": 58,
   "metadata": {},
   "outputs": [
    {
     "data": {
      "text/html": [
       "<strong id=\"posnat_power_of_quotient\"><a class=\"ProveItLink\" href=\"proofs/posnat_power_of_quotient/thm_proof.ipynb\">posnat_power_of_quotient</a> (conjecture without proof):<br></strong> <a class=\"ProveItLink\" href=\"../__pv_it/theorems/81cca366d19517c68d8823cc5b21ad528d4a355c0/theorem_expr.ipynb\"><img src=\"data:image/png;base64,iVBORw0KGgoAAAANSUhEUgAAAT0AAAAyCAMAAAAZZPzOAAAAOVBMVEX///82NjYbGxsSEhKIiIgi\n",
       "IiIQEBB2dnbu7u5ERETMzMzc3NwyMjK6urpmZmaYmJiqqqpUVFQAAAAnLjGdAAAAAXRSTlMAQObY\n",
       "ZgAAAAlwSFlzAAAOxAAADsQBlSsOGwAABWhJREFUaN7dW4uSrCgMZfciT3n+/8cuqLyiYus4fVep\n",
       "mqmyOxWaQ04SEkToDYOLL07GOENvGs788gRGG4GxXp7E8Cb4HP1tazOKhA0icnm2w3vAM+NvzyAZ\n",
       "jnP4bHLUvQU8mU3iCgs/NW+MkCLleTAvQW/AP2LhZ4OEsKQ1ysHJkne4PkPAB9quABtZh4Uf2beP\n",
       "2yRsCe2jfgV6BIQMnVySdBRLvBEkIQs7oCUVKirFtKKr8vIF4GFgRDmEqMhNvnxrXIeFu6NRAcf4\n",
       "hsAxtIsQyR+x6NyQTqkFtx0W7nnIVgUY1j/f8wnfgjAmHms/YUszEnmtaxbuDKACYuvx49FzZMcg\n",
       "CJ9WqFbu8IRHBSrg6fD5KTNpQSm2NlmG8RVfz3r5lQoY7B8fN4Q37SPLS4+Ozo3IpiVyeho9qAJ+\n",
       "//SMGbf773jhFY7HUY30bl54XLiBKvp2/7zBW0gqa2AOUyEdFoW69qzxQRUbjq8AaJ9niYS3xO15\n",
       "ouHu0wENLlHnmDI+zgsyr1s/3k1A7i7FmBCORT7Z8AcGjSbncmPfR/7G7OkITe3j0LOtL+u7cevF\n",
       "L1i+Wdzd+DjwAncaQDztm8rd5uHjbpEhDkKfhx5IWPoJ2P35mY++Tk8b+MRGEW1O6kc5yd7BVA/V\n",
       "OJPDkUhX6dK/7y17tYKOzfTO8ewENf3d7BqGZHZUdQjCtUuFRiRG3hfYHHLQcQazOPYVWJVOMMH8\n",
       "wyjFG2t3TRhV1YHel1E+O5fw+e1Rozfl6hZvxQyBHecqNn9d8C42nxNz/29PYFOLdYiGTdLsEL22\n",
       "wThzwsRyMD9A79D27k6XZ/QCdGZlOFov8Yyy6TuT1kTEgcCmFhtm0JmyXfRIHUidzB+tTxInmXu3\n",
       "35uZG1K9lPQxajCNvxKnAMWMmAkhc46IHesI1B2/LISssCpwO6BHtdZD+FN7zF0mmNlI53gQn4ld\n",
       "Rw3ZRI1+UL095pKZsDLlmWyQ82mR5eVY2VZo8MBQwGZXoO74FaGAXrBRqz6wvWUCzeP4E/7MUnla\n",
       "91Bxk+8dVHvl7fleQs1lNsbWQNzz/EsNM03UC4uJrZddgbrjV4QiegEzzI/RWyaobXdGj+CDbJno\n",
       "fras7s73wHwkTIAjomactp5bJIRqf6KYytz7AlXHrwhN6DGaglMPvWUCVNnuzNy17dgWkCZYM04G\n",
       "IHw2o12pgOk3Bc+xBWcYQ6J8sQSFlHf52QPtC1Qdv0poamEpi3fyvWrdywSRuf/+wyfm7kUNUFrW\n",
       "bbUPNKzphT7EomL78oaAnoJEt6ciE8vRQ1IdfzbF0XaC92HIcNQRqDt+RchMVoL3QlqFXpoAlfIP\n",
       "wnjphXW5Y1rrArbKL5wHZhU7lzcsJIPSxs7NOlkuFDIaCBgzDxGjntAYo55A3fHLQmKYq4cfoJcm\n",
       "aA6PIVvWG8QbxpY6tkme2U9D7qJi5/IG7hRjGY2sAY7WnhHYFeqjV3QdN0xBQ5LrfaZeuTqRVWxe\n",
       "3nAnC4aK/VTgDHoflMwAV5vOz+hC3lh2k16owGUVm5c3yMlysvmxwAn07AcJBjhe1K1r5sMJgBWD\n",
       "I+ezvaxi8/KG/P9cJrjaUgHl5MrAbJsjYnJeeVaxeXnj+d1wmKRUZ+S5CZRTsgumB1VAt/f8mxgK\n",
       "HCDKHebpUoZKzMZX+g6tik+LDk8asEs7mjpVS0WYs3ebN1QcBKxnDriIWOeYly7SDbz44aUCQa1i\n",
       "vW2vuDYPu1lyKbbFN2BS/sev5QK1irXLeMPN2zWD5Bw4mKN6AY1dLK5UKtYp1kve2Bj/RitV+Ze8\n",
       "bCXIX+DQYNFLBv7+BZz3vGn1hbf8Vrwd0YvG+F0eifFdL+h+9+3mAt5/deE/kkNgPiEAAAAASUVO\n",
       "RK5CYII=\n",
       "\" style=\"display:inline;vertical-align:middle;\" /></a><br>"
      ],
      "text/plain": [
       "<IPython.core.display.HTML object>"
      ]
     },
     "metadata": {},
     "output_type": "display_data"
    }
   ],
   "source": [
    "posnat_power_of_quotient = Forall((a, b, n), Equals(Exp(frac(a, b), n), frac(Exp(a, n), Exp(b, n))),\n",
    "                                  domains=(Complex, Complex, NaturalPos),\n",
    "                                  condition=NotEquals(b, zero))"
   ]
  },
  {
   "cell_type": "code",
   "execution_count": 59,
   "metadata": {},
   "outputs": [
    {
     "data": {
      "text/html": [
       "<strong id=\"posnat_power_of_posnat_power\"><a class=\"ProveItLink\" href=\"proofs/posnat_power_of_posnat_power/thm_proof.ipynb\">posnat_power_of_posnat_power</a> (conjecture without proof):<br></strong> <a class=\"ProveItLink\" href=\"../__pv_it/theorems/91d8f07bb1aac30a5f9bf8d288e44c16e70440c90/theorem_expr.ipynb\"><img src=\"data:image/png;base64,iVBORw0KGgoAAAANSUhEUgAAASUAAAAXBAMAAAC/jERWAAAAMFBMVEX///+IiIgiIiIQEBB2dnbu\n",
       "7u5ERETMzMzc3NwyMjK6urpmZmaYmJiqqqpUVFQAAAB6qHgnAAAAAXRSTlMAQObYZgAAAAlwSFlz\n",
       "AAAOxAAADsQBlSsOGwAAA2BJREFUSMfFVk1oE1EQntjd7OanMUItirWUIlQtShH/DirpRcSqbDEI\n",
       "QqsRdCstakoFxYPdKvbY5mLx4CFSxUuRUISCKZiirbS9pPWQIiLJxXM8KYLgvL9ks32hDaw4MGF2\n",
       "9nuZ2Tffm3kALovOFSU4O9jsWYjTR7R3SfECJCAWuC+7uaL0TGbq8p48+MPMloYTIAF5gRZ5gq+u\n",
       "pVQfYUrkyU7YGg/gQxOzDdkCAYpyiCcD8I68eOZaTpe5UinAEGzJAvgMYk/KV3DQkMUhTwEekvrH\n",
       "XMtpliuVY9AI4xoyJUXstCZdIUACssy+Qcm6llMHV0r3In76QgCtI8Ruy0nPRAnEIXUGBLF+Pvfo\n",
       "lGBKxZ9HUoxtR+s5sRsyshVlEIf4UA+1th52LSfCaKIw1jlic1+QoytBXBQ8dTMANzYZMbKh38c/\n",
       "1H8c7tiO2WLZnG4lcpBuUSVINCzc5jHQ85vMKbWhn5wyohczMG0DfJYuc4BE+ZGOXkNJ2n2egYJz\n",
       "R/X2s/Ahvz6n9f66JNP3AHtswGFpTg4QF62IeYVLFNeazaR626q/bscMfu+Hb4oRMBw5Sf0ip6Og\n",
       "/rZh5a3JARKkJ8c2MSce0zh2lG6Aj3bWzpA+H04p0JVuTyc38PPaqT8gWLT9yaqMT06QqF0L/pzH\n",
       "zgnRuTO0rUPPAzZDlz9tyzf10bkAkPsyopR4w2blej8Rb5iq+gdCibVynAXZNjlBguOkgT9GRqh7\n",
       "tV9wibjWGEpdOgGnoBlU2uJzSu/LUmw6KyV+cZCJXoPVlK3Sb6W1c4Bs7QRCWLFASuuAKeKan2f0\n",
       "7U7AT/wvP210OUg1lmLTWSnxU0a2ML3ScL8QL8fZL83JARLlT5a4ideFRdM0s/deM08ojFkegOCE\n",
       "ad7C2FFfuQ+RWSnzE2njWnk+W2pou4+EcdXyzht36e4jx1WSZdwT04txLcL2w79in5ppTeYnssy1\n",
       "shyZGqc42ydreMrwkqaqd1nQqUZgHHcqGEuxHr8ESC0mUT4rnX5BcotphYzWck8t3VH8syvnQO+j\n",
       "QScG4tpJeAM+Sy8YMIoV1/ZZEOLIoSyblU6/OEwx4OfCJjdryMn5QVHT5ASrLwc5bfZXgLJV/FxG\n",
       "uNonQy137B1V37yq+sZvwH+S6qQM/vvgfwEfQQuqhxFDYwAAAABJRU5ErkJggg==\n",
       "\" style=\"display:inline;vertical-align:middle;\" /></a><br>"
      ],
      "text/plain": [
       "<IPython.core.display.HTML object>"
      ]
     },
     "metadata": {},
     "output_type": "display_data"
    }
   ],
   "source": [
    "posnat_power_of_posnat_power = Forall((a, m, n), Equals(Exp(Exp(a, m), n), Exp(a, Mult(m, n))),\n",
    "                               domains=(Complex, NaturalPos, NaturalPos))"
   ]
  },
  {
   "cell_type": "markdown",
   "metadata": {},
   "source": [
    "## Exponentiation laws for negative whole number exponents"
   ]
  },
  {
   "cell_type": "code",
   "execution_count": 60,
   "metadata": {},
   "outputs": [
    {
     "data": {
      "text/html": [
       "<strong id=\"neg_power_as_div\"><a class=\"ProveItLink\" href=\"proofs/neg_power_as_div/thm_proof.ipynb\">neg_power_as_div</a> (conjecture without proof):<br></strong> <a class=\"ProveItLink\" href=\"../__pv_it/theorems/ff836228e8dd5ed7e2316f14bfedb4f85e69da3e0/theorem_expr.ipynb\"><img src=\"data:image/png;base64,iVBORw0KGgoAAAANSUhEUgAAAO0AAAAyCAMAAACH+6xHAAAAPFBMVEX///8AAAAAAAAAAAAAAAAA\n",
       "AAAAAAAAAAAAAAAAAAAAAAAAAAAAAAAAAAAAAAAAAAAAAAAAAAAAAAAAAAAo1xBWAAAAE3RSTlMA\n",
       "q1RmmUTNIjK7EInv3Xah18O1XjQ+CwAAAAlwSFlzAAAOxAAADsQBlSsOGwAAA6lJREFUaN7NWtmS\n",
       "4yAM5BD3sQf//68LvmBjgpMJOPAwVVMzYBq1pJYAoSmGkuPW1kqjqQamI1eXbiq42IxFR9xEYCnv\n",
       "yVsMPDza0uBpwAor+i7oT2iRo7OgdR4NR0vsJK5LLRqPFnGYA601d6BlQcwAtra1EUvyKQKVw/cc\n",
       "IAkTeK4M8h60Ovjvo8X2LudQE0gMi+9CS78fp2Sgd6HV4esKw18fOAUqvX8nXZr6ovbrUVlduq2m\n",
       "zEajvK4uMbaB14qq5LgZMPmCpa26VNHap6KhQ/4wASFgR/6934t1qDJUqn2kLeGYOliH0E0DQ3I3\n",
       "rlD3m1a+kgRtzMgASHb5GN84Ysj9aEm4/qgISXFJIrsQiW7uyu8HG8l1jYEl8nnTIaiEtJJ1afQv\n",
       "Rd5OQAIbLwbqu5B8FZbz/UpjzpShlqUso66DL7hivJNDLV+OdP/xGv0TCYQn/p0Q/oQ4UGDTKa1G\n",
       "KAPLLbeb1bAG3xTgTLElZ6TQ1nR04SAtSTcB80QK4VAiX3b0c4cK9VGgXdIY8bWtS4+VYqn5jKMV\n",
       "idq2Qdlih0SMKuf2aQQjE/8B9KtoF6GhAxtoW7uFY3oKDgBbuDR6+Rs1yADAr98Q9YhwS1aocXOf\n",
       "RuKScFAYLpm81p80XG/6x367Mjmm2j3pakO9SQ7p6aFT5Xrcotj2altx1u3HNEQkYZH9EW06JAcA\n",
       "rKnf9ZJ6MUdkmKSzK4HFXh5oJ6LkEIm+x67F8fm47T9/123zIkEXuj1Pi2gjKwhr29YX+Vb51NQH\n",
       "NK45uKPEcudhdLxkN3bYiGpaxM19KzEmU3HW7XlaQhs37lUTbakuNPZGCuzH3X89inIbzebTCVC+\n",
       "qnKCpGT5+1BPhoduz9MWtDFZ8SZaMjIonZWjefg95XeqNZL5D1uUQnqLxy3dXkxbdC0jvplv5ah+\n",
       "Qq0FcCpBbHJblqibpZUwkDhr/HOpkXV7nraejMfvkauXGWstgFMJwoCSVYCLfH+sTeQn1N1JWvKf\n",
       "bj+mSbeWyxdo3ZhapNoCaHWFtEkOeO1W5GfTdo+3g5y00gLA4eNV2WfFBO3bwc9VVKUFYD9vV3wY\n",
       "ZWTo2UPIVVSlBSAmuCzo2fYsqqhKC2CC7jmCjo7brqLwBDcjrKO+aFdRM9x6Idct47arKDrDjWbH\n",
       "XbSrKDfHs5p+7b9WFTXJS4Sexm1UUWqWF1P8ht4uC7M8/pN2PMkcQbMMP/wGaqKXf91fdZ55zNFM\n",
       "gw8lmuSTPVAe+ho7g/0HrqohoRtCG5IAAAAASUVORK5CYII=\n",
       "\" style=\"display:inline;vertical-align:middle;\" /></a><br>"
      ],
      "text/plain": [
       "<IPython.core.display.HTML object>"
      ]
     },
     "metadata": {},
     "output_type": "display_data"
    }
   ],
   "source": [
    "neg_power_as_div = Forall((a, n), Equals(Exp(a, Neg(n)),\n",
    "                                         frac(one, Exp(a, n))),\n",
    "                          domains=(ComplexNonZero, NaturalPos))"
   ]
  },
  {
   "cell_type": "code",
   "execution_count": 61,
   "metadata": {},
   "outputs": [
    {
     "data": {
      "text/html": [
       "<strong id=\"neg_power_of_quotient\"><a class=\"ProveItLink\" href=\"proofs/neg_power_of_quotient/thm_proof.ipynb\">neg_power_of_quotient</a> (conjecture without proof):<br></strong> <a class=\"ProveItLink\" href=\"../__pv_it/theorems/b058d9cb1f5a33ca0f5a0de912b44185aa58255a0/theorem_expr.ipynb\"><img src=\"data:image/png;base64,iVBORw0KGgoAAAANSUhEUgAAAT8AAAAyCAMAAAAdkSzzAAAAPFBMVEX///8AAAAAAAAAAAAAAAAA\n",
       "AAAAAAAAAAAAAAAAAAAAAAAAAAAAAAAAAAAAAAAAAAAAAAAAAAAAAAAAAAAo1xBWAAAAE3RSTlMA\n",
       "q1RmmUTNIjK7EInv3Xah18O1XjQ+CwAAAAlwSFlzAAAOxAAADsQBlSsOGwAABTZJREFUaN7dW2uX\n",
       "pCgM5RHkzeyO//+/DqACIlLtWFYtmw/dp6s6B7nkJiGJCA0rUnxrZSUVGl4w/eRqFKhwDta/hB0e\n",
       "QKw/Y2nGxt+UGX9ehq+fEzs4fHT60EJTtDmuXFhwTman8dDw8WQJt7n4Qmay2rtDiJn8uaUj42fd\n",
       "DU5WXOwK20zO+GgFgFLMImZgF0hN/QmQA0zTyQYPXOyJXh0dn8OpCSIqYo8ppg4esLojjrXj7hgk\n",
       "hdyEN7jYc3/YOezPhoUFnKalZfJR4XO17WzRhAVSyu1beubjay52uD57K1ZtpKZhQ4itnlysvkgF\n",
       "v4Yg5RaStAl84OKpkHgWxp1/N6CIudr5tNIZ5ohuIrdq+/gjF08FomHPum2bbkz8sDkxBCPjttjB\n",
       "Lf69pevo6dp2LAdNog1ubDIZBJ1Lpt708RE5OCEqHTOCiJlWf6sNv7BbPCGS9iVv3vKCp1i8apPA\n",
       "Q+bQrjp2LBNaLtxMAUEnUbxepJDwUyKMIbLCJFuBwk4Ljp0oCEzu1Q+whnMjCw4wQ0gGsUYjK/r2\n",
       "vJB98pagvauFFK2mMbyhmqHy4q8TkKeukT7Ui80AuRwlfOzTLjz1neXTj7JdszUZAz9SubS+Eyez\n",
       "eJgKdHV70xjwedLsEZl130SeNIs5nJ2xQYweBL86feknYc/maHPweRDPc5iWkt7fBl5lKD+5pIIt\n",
       "5EpOZwJpOd5+/Iz0wVC5I+5CuP4bHXRCiOo29Yqg85O8snYzPc06jJGAU1VySe5D0EkOU0zysk5L\n",
       "uIXwGHSNCCeZG95HVJbLBXOWAr8bCeDclgK/mMoT19qYcFhKFlp42FsN2W6SlMXCUDDeZAepl3hB\n",
       "p7UUwUj7fwB1Ab+X9vdkAr3g58GjBy8BsIY5reJ3VCMNAL/+AZ9x82C3NsVBI67rtJYi/jEgERfe\n",
       "w98n/d/CX5/6bUmg0tTp4KTcFrYUFQtBeLGpxZZ4TiMdVtd0ih5iUkNEEOY57/ELsFsAYK34wffx\n",
       "ox9gH42/ZqEt33JQZflyn1TJoxGeqkF+U//+XjY1lQmjswp5KK7oFD3ErObx85ZLWN/+3D7/e1EF\n",
       "5o/mfxtuOBEwNBOCV06nRhXNfFHbnnwspbnIRmMH54pO0UPMagE/j5qTXfzq/NlAP39mT+Z/1drG\n",
       "L+YCpnRaun0ECcHy80LT/cd2Fr6mk3uIWS3i51OdqYsfqRApg/82rlL+94N5raqSo9iok1QpJPIX\n",
       "ayxAao2jjVMIGJJrOrmHWKjFjhgjrpv/1eVn2JUD6662flePojX0UZcygj/yBh/Il68jXENgnXan\n",
       "ibF3f1SiazpFDzGrLVg7fIk0dGdhtbuTbyoRN4c+6lIGYkDJ0tjjeTpRac8waJcxhLc7JMA5dFGn\n",
       "6CEmNWGXEuSLLdupIg0ps2n1TPhtDn24TulW6eCUXjtfclPngtrmOav6fdmfqOn6xiGLxtAHvl9c\n",
       "ZOozOqeE3feItnGVhOfdqlweqGkMfZj7JWf6IZ3OjaNomB/GVczN7C8P1DSGPvigAwh1xTkbWT2u\n",
       "4m62L4uBmsbQx6D98ypjKe7fh3GVu+ZXD9RUHnHQ+Q1W3ynSMHQ1ruLuer/DQM3l0sR/Ug5N3YkW\n",
       "2V8q0Nwaks5367MGKR11fu345KHuEfErx1WUvVs6aAzUlKc47gj+odnFlwLcblxF3k+djwM1j6SW\n",
       "3zdAxGMIKcdV1BsKL8eBmvffDL8i09e7rWwe+RUuYb5NHkvQyOK+PK0z+Ptbn3p/8JS9Expdpi8S\n",
       "SEz/gxeAv/j+dIbvDwqLMm9yxXwVAAAAAElFTkSuQmCC\n",
       "\" style=\"display:inline;vertical-align:middle;\" /></a><br>"
      ],
      "text/plain": [
       "<IPython.core.display.HTML object>"
      ]
     },
     "metadata": {},
     "output_type": "display_data"
    }
   ],
   "source": [
    "neg_power_of_quotient = Forall((a, b, n), Equals(Exp(frac(a, b), Neg(n)),\n",
    "                                                     frac(Exp(b, n), Exp(a, n))),\n",
    "                                  domains=(ComplexNonZero, ComplexNonZero, NaturalPos))"
   ]
  },
  {
   "cell_type": "markdown",
   "metadata": {},
   "source": [
    "## Exponentiation laws for positive, real exponents\n",
    "These can be understood via $a = r \\cdot e^{i \\theta}$ for general $a \\in \\mathbb{C}$.  Then $a^b = r^b \\cdot e^{i b \\theta}$ for $b \\in \\mathbb{R}$ and $b \\neq 0$, and $e^{i b} \\cdot e^{i c} = e^{i (b + c)}$."
   ]
  },
  {
   "cell_type": "code",
   "execution_count": 62,
   "metadata": {},
   "outputs": [
    {
     "data": {
      "text/html": [
       "<strong id=\"product_of_pos_powers\"><a class=\"ProveItLink\" href=\"proofs/product_of_pos_powers/thm_proof.ipynb\">product_of_pos_powers</a> (conjecture without proof):<br></strong> <a class=\"ProveItLink\" href=\"../__pv_it/theorems/f85c792f33886c4aa9d5e5172bcf4c9f2d26ec140/theorem_expr.ipynb\"><img src=\"data:image/png;base64,iVBORw0KGgoAAAANSUhEUgAAAS0AAAAaBAMAAAAQxRd8AAAAMFBMVEX///+IiIgiIiIQEBB2dnbu\n",
       "7u5ERETMzMzc3NwyMjK6urpmZmaYmJiqqqpUVFQAAAB6qHgnAAAAAXRSTlMAQObYZgAAAAlwSFlz\n",
       "AAAOxAAADsQBlSsOGwAAA+pJREFUSMe1V11IFFEUPvszu6Mzm6MVBYmIKEhCSERFJKwPWWTBSlKE\n",
       "kUY5gfZjGPQHuWL4EqhBSZTEQkQQQpuUQUqtlIERtUUPQj0omOBDoA+iCUHnzM7PzswdXWG8sNc5\n",
       "3/377r3nnu8IsEblWsMqOgd7YS3LJ/yJsdT3ujCjQ9xp5BRVgmoILtMK0bI/VcPXwujR6TR0F1UB\n",
       "1eAb3OV1HH9cj2q05f62NFeOgCg53ONcQUTl5c+XYMRdXudozwnVyItsMbd6Y60AJeyRnhJPXOW1\n",
       "NVgOXiQ5QcYvN2jx5Vh1GCTHzM2DcAyggD00kBB7UryEBq4FPEjqDeH33eAlkKe/NDzmrbl5D1X1\n",
       "EeZQX4swMSifluWEj54NNw9w0zVHy6EplzRrFirMzYtUZSXYQ8GXTJ1XTpTsPuyJO/An3eDVhjMF\n",
       "5zWrRLRs9gH46ZqYQ72Rj+p7zIpBmO4cRNxBlitun0cOXKhZN3Itzbc/b8T2cvZ7fCGpvPjhEdze\n",
       "evzaXlS0wxVeMxRNKUzwU5vN8cAAsudtw7oq2zXv17HnyO01QGMGq4ZXhGWamu7pcTRgXt4AggvK\n",
       "n4EiKtsUprvhYsQa59swKHcBP5EBr/iK8CNyD5yK2wtCYXqfNIBfsk5wJAEDtlm78QkFIv6YKcY1\n",
       "T7an6W6o+OGMZOfFgMvIgdEWZsGrHSP3F0wAZ+P1DqDYxqseGYUk3e2DBXKMuxANndF099J0E0hh\n",
       "/y0LLzasnZevQZnXIJsG8AtWCjsZXKGbxLVHl6MhNP01AB9U3RXQ90CSxBqoHiob0tdygDVe9RJ8\n",
       "Ne/eAIKLFv/i5kCctYccimKH72FVO3IAPBT0TlzHXam6mw8KAU9d2sGg+rJgLNN0ynj79UmYCUXT\n",
       "eRmA7T1y//ANj1t50XuEDvLVUtzJUYLGx3Xd5RQXk8Kd+QYBVF8WTIWCDsWngBQqM6VQaYBoi1+n\n",
       "4Hvc9qbeKxkc3VgcZbyfrNFRXXezFdGQBqvSHh6qLwvWNknnwU3u79pkOhMDEGxP/+SGq5O2VE2X\n",
       "Vl8MNXxMluXklae67oq9snweL+xg0ghUqL4sODWHps7OxUEfraVPd4FoYDRyWcnL0O+5lO4GwylH\n",
       "erbPpL4s2J5PsItDPmF1Ot0LfdG2/kiABvHVUajkworuNqYcyV+n9Q8r6muFtbdGvtO6/IpfMjou\n",
       "Ub/t7OFvh4A/S5+1vc0twQpFdzvx4rPv3OWG1OQYYVJfK6yVP+Ssy6cmpRnx8kbNdq0sq9EolDqf\n",
       "KrnJHOXZMCu/Zx+ElBEv5/z+yapgjTU52I/lenRmlpA7p6mJVcGs/x+Z5VVmCTn6+X8rAQNrXkj6\n",
       "NQAAAABJRU5ErkJggg==\n",
       "\" style=\"display:inline;vertical-align:middle;\" /></a><br>"
      ],
      "text/plain": [
       "<IPython.core.display.HTML object>"
      ]
     },
     "metadata": {},
     "output_type": "display_data"
    }
   ],
   "source": [
    "product_of_pos_powers = Forall((a, b, c), Equals(Mult(Exp(a, b), Exp(a, c)), Exp(a, Add(b, c))),\n",
    "                               domains=(Complex, RealPos, RealPos))"
   ]
  },
  {
   "cell_type": "code",
   "execution_count": 63,
   "metadata": {},
   "outputs": [
    {
     "data": {
      "text/html": [
       "<strong id=\"products_of_pos_powers\"><a class=\"ProveItLink\" href=\"proofs/products_of_pos_powers/thm_proof.ipynb\">products_of_pos_powers</a> (conjecture without proof):<br></strong> <a class=\"ProveItLink\" href=\"../__pv_it/theorems/9e873718b73ebf3ffa835253b55b7d62d7ca75ab0/theorem_expr.ipynb\"><img src=\"data:image/png;base64,iVBORw0KGgoAAAANSUhEUgAAAsAAAAAaBAMAAABLO/e8AAAAMFBMVEX///+IiIgiIiIQEBB2dnbu\n",
       "7u5ERETMzMzc3NwyMjK6urpmZmaYmJiqqqpUVFQAAAB6qHgnAAAAAXRSTlMAQObYZgAAAAlwSFlz\n",
       "AAAOxAAADsQBlSsOGwAABrdJREFUaN7VWm+IFGUYf+Z2Z3dvZ0ZHRVOU4zgSBAmOiAzR2D6cWXYw\n",
       "whGE4m2ko6jF2kVRUbdlHfTlWqFECGpBsz8oXeGfujPZg044WWoVP0hGzIEJfgiuQKz7Yu/zzrzz\n",
       "731nd/KGRR+42X2f+b3PvPObd573+b17APe/vV6M64S7AwYh2cPzCia0BT1r7jFSL5I/teqMriAa\n",
       "ciHuvXnAsZYQBQ/XA61A71AwqeeheIPovNcmrYbDv+Y0UiUBQuiE5sCRlpAMHtYFWq4VRcHq9ynB\n",
       "z5E/ueI0hhf9wSOETpH5gKreCoKUZv/qMqII5oLVwcKP31oTHAvXNtuPt1dzGouNlTxC6BSZH7i6\n",
       "FQQplVZLY1EEc8HqMI4fR1oTHAvXLsv1ksNBj+1pGDG4RzCdvzQe61lNu9+7oiH2BTL0waqVkyur\n",
       "QoK5YHV4G8dbbE1wLFy7TMG15BRrrYPz2cthgokzBYMxYhGg+33QiILQC5wxXzDNWqqkWL3yrNNi\n",
       "IzLNR839fLA6dJKPdKM1wbFw7bKFOH/mWGsWNkJHmBrizMFQjFgEqP5YH7+Cy1NnLQriXADn7EJI\n",
       "NcrZXuEM5oLVQa3FWMMIIBauXTZM7jZ7y012apEnGJ2wN0YsAtSWwXoNXwqlGAXxEdxhXCBfWIqQ\n",
       "CzCAB5tgLhipIh7u6XkkThURB9cuW4xrTTcmrevLdXhzEQQIdp1Ki1LNBe6WKwq+nVJvJMQjOPst\n",
       "qQ/Ouq3HYKhMDjbBXLA6he6KQ3AcXLvsJtb0WKUdLWfsiewn2HX2Sc3DuMBurdChks88bSo91Czg\n",
       "L8CSQtrQhSmCC0YIHoWcJbx8OkhwFE4rR3Vmt3dVGB7fIq7uvBrFRRBt4t2RG5I3gNJN5euSfvek\n",
       "6+y883dTfl2gbEnVBcsxzO0oiHMBpt0+u9MtVHJcMEJwxkhXg1HfPVVVHw90R4LDOGnfzDu2aA0I\n",
       "8MtPnT/Erm1fUq0G1Lv24Cc3deekErofIn5Dal6M/hTHRB63Mgsdfkks/wsRzjBxIiBJCHPhcoWD\n",
       "/I9acs4mWNP9a1e2y6xqVh+c5gj24RAkv1TWdtIH5glw9Etp2FxwOh+j3h0+9X7gxl7QC+n3HMry\n",
       "ocHvCO4hRKLX4jtLXKkiDAaeOp4QOsMmBIIcJpiHxDfZIRgqkz7vBFkXtEkFChzBPhyC0lsBfsJn\n",
       "XPUEOPolCaZ0p3MnzVvjnnpXcG3QdXUrm94fB8c0HlDz0Wg2gwd1+IW7MaFTZDwwdzuUg2PHEs1g\n",
       "J0VAPxm3eu5Al3ShBBLWbtpbX5J5M/HdxHiAYMTBwORmG7T9DRICJ5InwKmfELx0zOls183dnnpf\n",
       "BZQyaRtsmVg7QaZGf3BM3QE1H412CW7ATW4NEDqFBHPA7D93G0tgNBgSfJCMdPvRWsqSLHiW5r1S\n",
       "36+CGYw4eQ3pRkFXnfXoA0+AU7+Uzj1fczrTPa9cxVXvMs2vemFkFZuT14LPvOJX803QN7CKIKcz\n",
       "urY2nMfFThisOJl3sBINzN+KFSuesSoCFpCX8v0VsLBEBOgJm2BFKvIEI04ZIxKGgqam7FPHPalO\n",
       "/ZKys8gWpHzRPjD1nqdCST+zyV0BjweHVPSr+SboJU6ZKc88OfoAl/tETpqy3dwdBVR7Y8WKZ2qv\n",
       "f7tyhsjKjgZMm6bZ0EpyocITTJN+lUxzCnrtC9vzuyfVqV+S0icZwVkkWLOAqXf1sGm+SF76pxuM\n",
       "sleDJYPl3xpogv7GEMy2JPY4rKSD1b39jGXwYRZesWcwnNS5Oth+0cqZKYOCcJGT7ZtmUp36JSl/\n",
       "zHA60xRBWGbqPVuws+rXfU5lG0oR+EA8Nd8EncKVfX3yBEfsRcwjGCM4N0vm8AWFFLt2NSpZ4g33\n",
       "VHn4hEFBuS1leIJo8A5PqlM/KdP62Eso6USnk5XLVe+77Kya3sbiLbKFvHPARc6n5gVo4W5achax\n",
       "mzaPYIzgvAVHYHQp5HaTxstHnP11nuD8uUvP2CAYOLyvlN0ImbIr1an/qxWFbT+wJaIMQw3Y46n3\n",
       "EZLG84c+kifYQrOHAJiap1C/mheg2VTH9DaUPME/Jx6M+8lowDSr4r0IIUhj1T+V6uHOWFY0HLlB\n",
       "1bu8yQxscGGh4G2BMihT8yK0Y3/iopv85umaxIPN9ze5zwG+D+8FeEZO5Q1Qyp56D68DZQSwt4NB\n",
       "XTXPo5kFfpNLzKJ+k5tHsPkSXMOpGXkJMp1xW6kvMu5FG+DAm0JttFtv4HtzJWmCR5IPFpfgZv8X\n",
       "EUmwHPqM0VVuNgojRLZaTZjg00kHk3o2/AdatA1aabaT9QAAAABJRU5ErkJggg==\n",
       "\" style=\"display:inline;vertical-align:middle;\" /></a><br>"
      ],
      "text/plain": [
       "<IPython.core.display.HTML object>"
      ]
     },
     "metadata": {},
     "output_type": "display_data"
    }
   ],
   "source": [
    "products_of_pos_powers = Forall(m, Forall((a, b_1_to_m), Equals(prod_a_raise_bi__1_to_m, Exp(a, Add(b_1_to_m))),\n",
    "                                             domains=(Complex, RealPos)),\n",
    "                                   domain=NaturalPos)"
   ]
  },
  {
   "cell_type": "code",
   "execution_count": 64,
   "metadata": {},
   "outputs": [
    {
     "data": {
      "text/html": [
       "<strong id=\"quotient_of_pos_powers\"><a class=\"ProveItLink\" href=\"proofs/quotient_of_pos_powers/thm_proof.ipynb\">quotient_of_pos_powers</a> (conjecture without proof):<br></strong> <a class=\"ProveItLink\" href=\"../__pv_it/theorems/d6b21df7bf613f715479be1659c62a5af701dec60/theorem_expr.ipynb\"><img src=\"data:image/png;base64,iVBORw0KGgoAAAANSUhEUgAAATcAAAAzCAMAAADFGr+iAAAAOVBMVEX///82NjYbGxsSEhKIiIgi\n",
       "IiIQEBB2dnbu7u5ERETMzMzc3NwyMjK6urpmZmaYmJiqqqpUVFQAAAAnLjGdAAAAAXRSTlMAQObY\n",
       "ZgAAAAlwSFlzAAAOxAAADsQBlSsOGwAABHtJREFUaN7tW4mSnCAQJUlz3/z/xwbwVtRRcStDha1N\n",
       "1TqdER59vH4iQm0PoTj6P04HF+srntb7dsZZm7B5u7lERE3vxU0CV/AtEQB8vcU63CBsVm2vQfQQ\n",
       "MPXuQX1zsEkiCwnPlvG8PbBtDTcMhYspvZmaPuJIYynOktLVkLBzNe+jTFu4kXlRkJ6CTP4X05ut\n",
       "y+B0kC3BBmEWPzqlOp6uCANQ+U6qqdKAZ6thJCVv8xJncKGhDCfCjN+akJGk79yKBWgHNz+vCoTn\n",
       "5em3mrmGyC/xa4ew4S0lwLZTGUSwc9wS8fAKuVvrO1UCWGiG+8LCBTikTtKge0zrXAkgzVRUviC9\n",
       "zAMV0oO457olJYCChUWCm6BzX+x9pB63LSoBWCMxbQ2NqdOMVUd9b7ZjoV7zU1ICTNwWJmaFIcI4\n",
       "OJz8YkFZVKRUvRIg+DCiOxG9vZ3qY5m678XNhXqTLykBK+KR3dv2aU19L2wxcOqp4SUlQCV/m9GT\n",
       "kIKU4DQI/WLc4DkTHRWUkhIgjbUwq7EhAWvyXn31oxr6eatt8Gz4goLyUQ5UGenhnypLeGR9WBb3\n",
       "F2WeShQXFRSMB1ejB00wcOM7Hy61bw5TZbyCT1a+Nt5YH9X0boqUwnZrfHi42xcVFJy5nINSVRDg\n",
       "OdfpYauPLuw4XbdvgwEkr6GSHuJWNr6CWxcRibVrfoxbKIxPePPnCkqHWwTNblKhMX2Joix/Zumq\n",
       "fRsNIP4gy+AItx3jK7h5Od59UwXMw/x2VUHp4jRSt4HEMWqBplnB0HQxK7pdkMv2bTTooAAWIaDG\n",
       "GBx/9bqvKxmXrBe4jXPpEnfeN5kB2jxooQ/r6VUFhXThKYcGn2EZgZEpOMeMJJff1bdvk0EOPckH\n",
       "aEyhr9s1PvK3cS4ms/Y/8dfGCwm3zTNMeMrfLiooA15+jD3U9a96nJlllhXat8kgQmE45cVM3/d1\n",
       "u8ZHuI1z6f6f7b09+xvU5r0XFZR1O5z6MEhYWtX1Zg4JoUWhfZsMcuhR7UpI9H3drvERbuNc8rr6\n",
       "D7o43XRV7jVNfCes6ervRP4sY0hMH/R1YWBPffs2M0hQaE1ZgZH1aWfXeMPfeGEuKU5//+I5Tnfq\n",
       "gvhZBXYjI5CUUnQKzKl9kNTInOBjop61b5NBRy3YynWy8dDXnRkX/W2cC5pEG5R6IO1PA2dPcXxJ\n",
       "RtDGOqA2q0piQiCGWeIRItWxoX0bDbQCRREzZkkBs/HQ150Zl3Cb5rJoAiPvNVvSgXdViaXi+H47\n",
       "zGiKjFXacGcGt40P+Zs7dRi/B81KcawzrrYnmr1lfIzbucRl94gveaNgXFXl7WvGh7i587WLVcYZ\n",
       "VaE3HnXKf++B/e1VLh/NTarQWnGso5K2cyLJkLIqtFYcq6S3hs456DnzffdcDWrpXA3C5rYqdDlM\n",
       "WzqpOlvNs3M15zvU1pHy6cHSw3M1pxmhqXOqc4d7dq7mjCq19gaDojdVoYvu1tqrRoL8RABhh1ob\n",
       "8AMnXBp8z6juO5M7UapQi0O9HERCNfoCKhdvfjubYPsLNLsyupxf2ZgAAAAASUVORK5CYII=\n",
       "\" style=\"display:inline;vertical-align:middle;\" /></a><br>"
      ],
      "text/plain": [
       "<IPython.core.display.HTML object>"
      ]
     },
     "metadata": {},
     "output_type": "display_data"
    }
   ],
   "source": [
    "quotient_of_pos_powers = Forall((a, b, c), Equals(frac(Exp(a, b), Exp(a, c)), Exp(a, subtract(b, c))),\n",
    "                                domains=(Complex, RealPos, RealPos),\n",
    "                                condition=NotEquals(a, zero))"
   ]
  },
  {
   "cell_type": "code",
   "execution_count": 65,
   "metadata": {},
   "outputs": [
    {
     "data": {
      "text/html": [
       "<strong id=\"pos_power_of_product\"><a class=\"ProveItLink\" href=\"proofs/pos_power_of_product/thm_proof.ipynb\">pos_power_of_product</a> (conjecture without proof):<br></strong> <a class=\"ProveItLink\" href=\"../__pv_it/theorems/c89fbee97071aa855b4c58f16cdd00fd0daa30cc0/theorem_expr.ipynb\"><img src=\"data:image/png;base64,iVBORw0KGgoAAAANSUhEUgAAAS8AAAAZBAMAAACSpLXvAAAAMFBMVEX///+IiIgiIiIQEBB2dnbu\n",
       "7u5ERETMzMzc3NwyMjK6urpmZmaYmJiqqqpUVFQAAAB6qHgnAAAAAXRSTlMAQObYZgAAAAlwSFlz\n",
       "AAAOxAAADsQBlSsOGwAABCBJREFUSMfNVn1oHEUU/yW3c3e52002xY+AsYQQUSrKWYpKsXARWrW1\n",
       "ssUQkZZepHZbkraeH6BWsNda+o8YIpgitsgVkYIUeoTSanKkF2goJQWvRUoFwQu0pQGFCA22QsB5\n",
       "O7Obnb3NVXKU+uB3u/O7eTtv5n3MA+65dE/gfymN+ffv4+o5iRD6NN6o4uPyqbWbCk/jRT61NGko\n",
       "CwTlGMfqkPmPyueKWErhaXxM6lWI+K1Ow36R8Anb1sGNLQG3q6cbafFM9rGsy/WulGPSIYwS+3V9\n",
       "drEhAUWaCvxnGPgGWnD+m/IZyfvII+54WOBTcnlffYYlSwKKtJBrp4DPLz4YnF90p/hjad4dTwk0\n",
       "WTzmyvUZFpFQ5KRFrBU23w2spjzSLpeYc8ekw6HznTbVGWK/SijyorN0KWS64Xo9XpzwDNc63DHp\n",
       "EFZ2dq6q07BTEvFrbQvp/23rn3y5Spjn6ZgGu/erITm9XPqNdAhngO1LscYX0kclvstF57yEuGNl\n",
       "ctC9lBjpJHnaPcbE83hHcXNmmMn8JR3CIOKVJUX8wutTAuwFJDs8f80hYsJIhd0F/GheL2FEIX+3\n",
       "8IzUTAlELS2vFMuBaTrkj71MfWi8zV+fja4jM6Zq2GqB5CwayUsZOqbkEFrSiM2G5Qpf7yzQ5R0W\n",
       "zf8JuCWGpEMwTC/2Y8vtPNuTM97m7820xLs3+tF7E1e83CHCTGsHQw2L9CFDe2ykCsZNPFlGIrWI\n",
       "Yc+C/eOdIM3vQmJe5mdKAEPe7T/G67C2CThH2vw9yeMPa03ormEOYZr6JmhjI2OjAVdmTPzsL2Nn\n",
       "LRgdITHGXcn+gq4e5jySMj5Jx9HbSKW2Z+Jl5yLAlr3ijt3Xeh3tFMTn8/JS5e0LEdywhs3qib0l\n",
       "kCljxnBrZkuWhxz0sNIdNcHm0Tx01U/+TWEngr9P6n3GY589EbuNXqKvyunLrEcY/Wt8kfPaF4fg\n",
       "rjzUrhr2mkDUNJ702OZStCArQ1U+V2gflwsFP/kHBnzVxNFrJqcV+L1+gujJSfH3LlxI0Bb0LTKr\n",
       "efviEDBPrwtk5XsCbPqlwYe9cnGt6OwmxLAY99PWBz6azvrJrRtKXgPn04vkGyq4YNt2+cPjgnkO\n",
       "4/ph294d25v1ItwhuCvXl9U61pgVqJYDoZXm8Zp16IBfL5OLTlofOOfMg5/x5yzWxBw/8OAHHRov\n",
       "f4IwzR/Wqp/SCwLVUgxdeqqmYUW/XiS374QVpfXjG3LoZmk8xuPPuREO/gjN5AS1L9tFjGmbA9/a\n",
       "KVHVqYa3LdFaHSrpLOglipdeRXwHvfYcHsjG1uCTVuAQuYe9Yp8BJ6h9ISLx5VdsLNB89Ur8RwtY\n",
       "rTaLdIJ6PbYtg84QH1hn92MRQt2lKRCUtkUW31/DsLYaesD3dyXuk5TuStxr+RfNsAGO6OFCvgAA\n",
       "AABJRU5ErkJggg==\n",
       "\" style=\"display:inline;vertical-align:middle;\" /></a><br>"
      ],
      "text/plain": [
       "<IPython.core.display.HTML object>"
      ]
     },
     "metadata": {},
     "output_type": "display_data"
    }
   ],
   "source": [
    "pos_power_of_product = Forall((a, b, c), Equals(Exp(Mult(a, b), c), Mult(Exp(a, c), Exp(b, c))),\n",
    "                              domains=(Complex, Complex, RealPos))"
   ]
  },
  {
   "cell_type": "code",
   "execution_count": 66,
   "metadata": {},
   "outputs": [
    {
     "data": {
      "text/html": [
       "<strong id=\"pos_power_of_products\"><a class=\"ProveItLink\" href=\"proofs/pos_power_of_products/thm_proof.ipynb\">pos_power_of_products</a> (conjecture without proof):<br></strong> <a class=\"ProveItLink\" href=\"../__pv_it/theorems/a3736f5496d3b6691f0a652a66baeac30d3a51620/theorem_expr.ipynb\"><img src=\"data:image/png;base64,iVBORw0KGgoAAAANSUhEUgAAAxcAAAAmBAMAAABEwHuaAAAAMFBMVEX///+IiIgiIiIQEBB2dnbu\n",
       "7u5ERETMzMzc3NwyMjK6urpmZmaYmJiqqqpUVFQAAAB6qHgnAAAAAXRSTlMAQObYZgAAAAlwSFlz\n",
       "AAAOxAAADsQBlSsOGwAACTZJREFUaN7VW32MVNUVP29n3szbefN23xKKGJFsiETTjcnGaCEozZC4\n",
       "VvzKgJTESNwxwYEAtgM02trYHVBRYwpjIoREEsf4GT/KlmI1uytdQsEANo7UNLQ1OpuoKf80Q0OD\n",
       "biHbe899X/e++948zMwLc5I5M3Pveefcd3/3nnvOeTMAEejLmQtwWZBei8HIh7Hdjrrb5frMTD7S\n",
       "RV/AZUKH4gC8Ht/9bMm7HBKdBUa2EoOR43HeUN3lnQbG1nz7baRvivOOHvbwDgPjhRbP+x5JY3dO\n",
       "JvqrQpii8N4w4/fmXd5ZYBj/bbHCr2TBinRKenJhesJ7w4yzA4rxzgKjK9dihYskbddIJROlMD3h\n",
       "vWHGtW9d3llgjLT4yEifne/TmJbvvpG+r8MGFtobanwtflnbeWB8w97KrdClkZeyUBn1eZyC020T\n",
       "tTcrf5XQEtwbYE1u/Ag2HOk8MFjmqbQk8cuYAKlJf6zcO4lvV3uaXiavTd6IlxuBr1dGVwca34W6\n",
       "kBMw8Oz4vCkYUcTaHXSiZ4XPWqNtHnX1/gRvBFe94T2dlEnq4D35JjcCX68s8sgFGu/CvYmcgDFG\n",
       "v+xtCkYUsXZnSA0sHrQo8evOQy8kfLvsE+T3cW27ARqw1C1iVMJ6ZXRfsHEdlSEnYPyG+rBCUzCi\n",
       "iLWZeti4J1sE7Sh05Y/5ms8gn+DaTgIszLr3LoxA6JXRRLBxpeFwAgYBCZK1pmBEEWszJVg03ip1\n",
       "N0H696av9cfIB3nDefh1n+crhPXKaDDYuHHe4URRluDc3fwAjyLWZupFz/v3VqnbJ209h3PDO6Ju\n",
       "fisII+huulWNSrDx9EWH02jqhgULbowQTUUQazcYeNcHqb/8aq6wpncu2xYhnOUuuyc4YtNznMok\n",
       "f8wfhLBeCaG6AOPqBYdTMN4HeCgCGBHE2kwsCqRr6pVyis/NMovh582jdP4yJxrVFyDhnGoX7cXu\n",
       "USkEwPsgrFcWK0wGG4ezDqdg7ARNjm2SA8MSOy0RVOztKEvHfG7ZCEjaTGmrJygcQTCuJ+voFtD7\n",
       "Oal7J+FAUyyEy/4qDZ8RjK4ap9Lgff71ENYrK+PUQoyfczgFI5VPVvmLtx+sZslBpnNgMLFsVQRi\n",
       "49Q2sPLYE+Io5hyaa+pi4wnJcF1BuwBqXPPiGQqPJ0Xej7aXkIE1aJlKZatrmC7MP9Gaknrrv+li\n",
       "Vb/z60chdpmLrTQXnMYzuWqphDX0wnTDhvM7awReg0KvxDBVF2j8fw6nYBim92BOzy9WjfoQvCeC\n",
       "wcQeEETVn5WNtfAqG4x3g23+ZgOs/hf8LZcREh5V2IaCIBZAaZuZSz7Jg8F2BpmKRAGGq7B5Fjj5\n",
       "0o9AnSbjZWtvQLI2ManCy1ynFbwz6OyhynQf1Zhx1v6ADYbHoNArM1wNMc6DAZXDnqvHS2TeD+vU\n",
       "PfBgMLExQTS5AuDPGPcSeY8xnRwxMGRCNge7hdOM31uiIC2AYptpZlfIwCBOYtjE3OyUC/BZmhH2\n",
       "VrXzYd7CusymU7Izw3FTTCUYFAyjX3RTXoNCb4CbCjIunBlwN5mF7MTm+cqxEib3YDz+JlmX4wfG\n",
       "x7xgUDEghlcdvt2pA8Cax2jZiyUgXWSQd80u2/k+qB9VaR3tbmFkHimJIC2AzsMjxFTuhzvHB8Yd\n",
       "8HZhNPUgubEanCEnjweMiyQjPJ3NNwEDLzv5UV993jry9Zg04MLgJmVaKtlMCyndg7zBbNNUmKgL\n",
       "Nn7B4QjGE2RNrHllMlFX6rAa/XVp6B/+nUHFtAqo11k1IhQ9jQe6gev3WYCVZVbbUekAjd/i53/y\n",
       "I/NIyQRn5a/CNuKmdszjd8awaQWFKdMY0L2ri8zPqVEimXQWKfpvZMMVd07IZeqJW0hiN9+OUH2H\n",
       "/Fk7WmUqEQyd97T38Ab5Xtema5iqCzLOwjfNzjOgh3iGp66E3hJR+w4DQ1cKPjCoWKYA+mh6EDQS\n",
       "5aLo0aN47OH0vU48F2yFzKdjkKGLOLsmbzV7yZKyD0xRcBMcxzYw/3gb8GAk8PMWcsNTP9l5BQfG\n",
       "A7N/OVVyfmbh+O8BpxKH80Qv01ZU4DzOxQ+lq/hmdFb9tkoEo4v3rFt4g0KvY9M1TNUFGU9PO9wt\n",
       "oU+RCSK+7XixWKwZJTVX8YGBMNXJaUQ20OMLgYk++gbqKlhSSwjsCRiG7J5i8eH0Y/gA7BFfzrIE\n",
       "FwcL0kXBRXAI24ibuqPGg9GNVrpKfr9rr7IoiVCPSRYTcfua3NWzx+LXOjdMpbYLjrbEGdze3Oa1\n",
       "wcbZo2TkLhiLYA7sSsMv2M6Ad00xzwBr1ofLqaN5IGCgKD3AVctNPQLqt7DppxqBNY1bl5zLkBfd\n",
       "lCWV/fDjsc9KfsEGLGVtpvnWEJ9n6INWjS0IjOfgmQgVrpJS0BqloILjH+zinweMCV+Vz2twornN\n",
       "k8HGmWdF7oChNcjeOKaTbAIwmVDqYgbOqB8S5ZF3EAwU1e4swzJQyIGXo0fz4vQ08VsbrGT9yQ8g\n",
       "aUIf7VvlMEvKmANLaJlfFKQF0IfYmZG8X5gElsGuDwJDW/foexHyeLI8s4VR2CHv/gRnJFX2gOEr\n",
       "Vq/3GoxSynbU+Y2n6g53wMjUYS/s/AHRT53iXuthkh+M9ZCZ+PQuoGCgKKzas7FEjaWXUv72X2ZP\n",
       "gk628Q66ldXlxffpJaRvazm9mDJXap1aoT/WFAVpAZS2ZZ5/QR3nCw3qRTdwoAi+tExY8zMzjeYT\n",
       "8zvoLmtTeRdTX8hlxxV0upefM92ptGm112Cq3NymrU5inBXckPsfu64qFqvS2hSjV633hZwoHZ0B\n",
       "dno3pBDztxU3uAMx3FqII9Vv5LqyckG3jaeNbILMVhS6lIA5TDEf5C07zvWdTWZYr4y2BRrfX3b4\n",
       "JT8D15mazTdyjzY+IK/X2Bs5Z2f+w2V1ZeyzyJFS60q1Z26woIyOxFCNzA5CrLTc5Zf+g4Qh2Q3Q\n",
       "DUI2WlKm7QTrsyhIyicodSHV9k+OOh0vGEtdfulgqLIbsD/ItOUjtIQ1e8vIldiWalykDLq8w35r\n",
       "uygGG9/r14Hf31rNwzsLjDh+rR/L3w4cutLDOwyM5o+bW0D7YrwhbbHLOw0M9boYjKwsx3dDK2su\n",
       "jwrGZfOfvmdj+LeMtju++9nk8sj/6btsSIvjdH06vp1edTml/wM3kdN/HZrppAAAAABJRU5ErkJg\n",
       "gg==\n",
       "\" style=\"display:inline;vertical-align:middle;\" /></a><br>"
      ],
      "text/plain": [
       "<IPython.core.display.HTML object>"
      ]
     },
     "metadata": {},
     "output_type": "display_data"
    }
   ],
   "source": [
    "pos_power_of_products = Forall(m, Forall((a_1_to_m, b), Equals(Exp(Mult(a_1_to_m), b), \n",
    "                                                               prod_ai_raise_b__1_to_m),\n",
    "                                         domains=(Complex, RealPos)),\n",
    "                                  domain=NaturalPos)"
   ]
  },
  {
   "cell_type": "code",
   "execution_count": 67,
   "metadata": {},
   "outputs": [
    {
     "data": {
      "text/html": [
       "<strong id=\"pos_power_of_quotient\"><a class=\"ProveItLink\" href=\"proofs/pos_power_of_quotient/thm_proof.ipynb\">pos_power_of_quotient</a> (conjecture without proof):<br></strong> <a class=\"ProveItLink\" href=\"../__pv_it/theorems/e8b1984b5708b2ae417e21d9f2dc26d085e171ba0/theorem_expr.ipynb\"><img src=\"data:image/png;base64,iVBORw0KGgoAAAANSUhEUgAAATQAAAAyCAMAAADlcdcEAAAAOVBMVEX///82NjYbGxsSEhKIiIgi\n",
       "IiIQEBB2dnbu7u5ERETMzMzc3NwyMjK6urpmZmaYmJiqqqpUVFQAAAAnLjGdAAAAAXRSTlMAQObY\n",
       "ZgAAAAlwSFlzAAAOxAAADsQBlSsOGwAABUxJREFUaN7dW4l24yAMZHcx9/3/H7vGGMwRHyRuXjF9\n",
       "7WsaqpixRhokDMDog7LvfA6hBDxlWP3DH4ChhssvbHoKahb/8AdMEjAUfjXTMzDT4oc/QNGZmDEA\n",
       "YPsEzDji75Lt4kCycDv9ANAm+D7Zrg1X3BWDxg9rul6/Mm3SE2SHbJeG8J62xU2hhgcNVVlAxZjD\n",
       "LYZ89cI86ZVkO+J9NMCV1nAzIB0fHDPoyOusIH2oo/FdbXfItj9KA4XnjZ4LpnIBLAYcgny8Vkkg\n",
       "ULNDtl0dWxnIo5obO6oxV0YnEdFQboEUbxjEhVZk29UZlYEcTweHBs2iHR9AdFmdbGPd1VhZG8h3\n",
       "bWMrXFRCkRwjOIN2WVjvC9+tgTxwDp0KmNPlS5LW7GOYFcCk5VHcB1pjIH9zZIELy1tu6cYg6PeJ\n",
       "Cqh9QXdSOGkM7Dv4WIOWQGQOQCzEjFvIMn6aLldrDFRBbcPNjOV3iJbsPAw1031KHs+xTqUcIYaK\n",
       "cMSpMj4fi4j7qiF6zqosbT3oYHmgEExWnATAez84bmixGQo0U4apk/BsHLvVxfUaysRQmM0sKWBw\n",
       "+MQ97nMJ5+8PmvxAeCzQKsVxop7uVFfOxzG13LLRei242DmfaopXW0Y1ZeO6+kKek9zGH19abn3t\n",
       "Bw5ytKkmPfRz9xFpmqKT4YPyHKTKbjU9QY8ntEF4wkJZAfdAyuxVxsNFYQxfrNgW+VBmu2u3jQy0\n",
       "DqHmXowctEVVG/gqDTBoKZW+SWrn6GHS9i01zfYmNBagdy7M8TloZUcueL9vhEh6Atq5p92nbgNo\n",
       "M2Jti0apNTthsryn43IQO5nQWIDzF9AEXgAN5SnR8vSnVu/30vO+mBboOUu0KNYI1hD7C4Qx2xDN\n",
       "gufzpO2gJQcTYpssTQigQeLBwkqpaf6WO/RcjQfK4RDi/Wtk2kTAi0Rwkh1vzJ4osJJHaUgmHnZx\n",
       "JK3E8LJAAicCoDqYsLbJtgkLPTlNIB542mpcUT/+zd96Lfm0DUdY6LSzgiq/UadFsGyiHAh9QZku\n",
       "UhNd5LB5Hb6DsT9hbZNtE2bQFMUUXEgEq/HwXzqrkyF4Im6ROhG38jbQ6vDoW1zQA6nFcrOpAYzJ\n",
       "8urYUj4+mBAub5uw0BNLcwG01fjiOzT6iAetdRRTwlCkXULRVM/ukqGtgdypcfXad640IYBtb6xx\n",
       "PmomFyLMwYRA1myCB01KTHZ0Wrbc1bin598/dKHnXiKoCreqrK7VTV3cW9lPBppzDKyOBMiHNOnp\n",
       "tm0QOFZ8+ec5S/joQoCm4GBCbJNtE4LkIHsEykCLxsFWfAHQSw57xhJdulLtmbRXu0cD7TkGU9uW\n",
       "ShuI9VIoSpwjeGaalw/M5zCmIARHE2KbLE2QAgoMiNqraeXZczVe7OpmcatekGsSJUlMoXXJZ8kz\n",
       "GnhxjgEelDsJ9vSowqf5eMIxaJud8+5i1cGj6oCN3acJooEX5xhsZ2lOkk8nXAXtQp2qImTROxF2\n",
       "1nvZDcS9da9o4AXYqLNYqz+ecBE0c0EgVJuAvLdL3CzWSbZg1KnSkoH2HAP/HS32d1sTVbE28yZT\n",
       "aTuIOk0nA+05hrGbxbXKyPatIeVseqrX0RoDeUgb+1iCrFT+dv52OaEgE31hdyW/MnC28x9p1M1M\n",
       "oXORlcog/QdzKwMH6We8US/AlxvCmlk8Y7b8tX+vXhgob9TwB7zrZhBfK1z+gYyk2+gbKb0w8JHg\n",
       "+/2uBnjIBcRilcp975Q3cgOfbcd+4RBf7jtK94AnfRj6LlsmAx4w4FcPoDzjMZ8vPFCWk1OAhwzx\n",
       "NcYw8ZwHPr/2kOyG2X8BqjwVwQ6YSgAAAABJRU5ErkJggg==\n",
       "\" style=\"display:inline;vertical-align:middle;\" /></a><br>"
      ],
      "text/plain": [
       "<IPython.core.display.HTML object>"
      ]
     },
     "metadata": {},
     "output_type": "display_data"
    }
   ],
   "source": [
    "pos_power_of_quotient = Forall((a, b, c), Equals(Exp(frac(a, b), c), frac(Exp(a, c), Exp(b, c))),\n",
    "                               domains=(Complex, Complex, RealPos),\n",
    "                               condition=NotEquals(b, zero))"
   ]
  },
  {
   "cell_type": "code",
   "execution_count": 68,
   "metadata": {},
   "outputs": [
    {
     "data": {
      "text/html": [
       "<strong id=\"pos_power_of_pos_power\"><a class=\"ProveItLink\" href=\"proofs/pos_power_of_pos_power/thm_proof.ipynb\">pos_power_of_pos_power</a> (conjecture without proof):<br></strong> <a class=\"ProveItLink\" href=\"../__pv_it/theorems/d59fa717aaad6026a77cd1d8eff3e531fbaf5c860/theorem_expr.ipynb\"><img src=\"data:image/png;base64,iVBORw0KGgoAAAANSUhEUgAAAQkAAAAaBAMAAABWc7TWAAAAMFBMVEX///+IiIgiIiIQEBB2dnbu\n",
       "7u5ERETMzMzc3NwyMjK6urpmZmaYmJiqqqpUVFQAAAB6qHgnAAAAAXRSTlMAQObYZgAAAAlwSFlz\n",
       "AAAOxAAADsQBlSsOGwAAA6NJREFUSMe1V19IFEEc/t3d7u15t6erFQVdIqIU+hJRKZGwPmSRFStJ\n",
       "EUYa5BbaH6Ogf5ArhS+BXVASJXIgEYTQFWHQid1RClbQZS8+9KBggg+BPggSBP1mb3bdvUZdYx24\n",
       "udnvZna+mfl+v28OYG2K0L387zeaYK3KJ0t7avmuubLRCrlMIhy3PFQs39fXZrQCLu/KCf2l9ETm\n",
       "ChW9yUUkVt/2/J/kqzoFkHKXxXlSbcm0PaWeeJDMXyZsZ/UtUDZj7Y1dwUoBmCDYDzdIBMh0YXre\n",
       "/qQYhQieehPfxmY8ysswAMeRMFJ4R7DHbrAIycap6OcemoAcBXwxducKGBIqYQ9p8vMAt10TSB6Z\n",
       "cNB4AF8axDjkaezOs1CF9YLe7gHCF7i0Gyza8U1giMCrjGC9C3JiILM6l4pk5U+Aw3oAQEwiE1fE\n",
       "WUBkETWy1itJX2VgMKWwOt/KJ/W9LxuwXoefHcXFO11hMWNoo6u6g0JHmCqe2mQP3pfI8y1As4M5\n",
       "5BVhFT85uLPBSrhE1z9qKrdYL3pA9mn+eftRYhR1QWDCAYv4inAvkQMq7GgSXlPoO2MEvxdCRTbk\n",
       "Psrar3C2aPK0TnZY7CZc8nRG+pcFAy4nAYqveg9QYqySFdCz4LVvbCMOCkumOIVCNcZf1MJnDLu5\n",
       "PN0CkszdzWLBhnspi93A/6ZQH8tBmvRprXtB8lrUTOQJfOTqAD5SuwmhZkCSxDqoTZQnzKFLwPRE\n",
       "+DkQZyk0xtBFowRfs0Kc5JTDj7CqTx0AD0oLTt7MOBKxmwjo03kaLItG/2HBWKZJ4paA/wO50fEM\n",
       "NMLYi8Y0zIS17BiBO8iQ3yYswDECjY+bdsPr0pDkzsjidOg/LBho2HP4rtMwFqfwGwYLvxQut98p\n",
       "PugXDrL3cbS+fvI0PGzaTTCpTzdQYwkG9B8WbCxJQPWfWn99kjpYGStGJvd3bbQhQ6ZkYuhso6qq\n",
       "pq89N+1G7FbVC7j1B9OLiQH9hwUDVSZsteWnIkfprsc8LM0/rFzVbyWoTj5jN4KcEcCLfYsj0H9Y\n",
       "sOmpn21I0gkJ3sxhPq29X/ETlQRqNahG6yd205wRANdg9Jd1/8mGjTgnTua36q7T0VaIZtIMDn47\n",
       "BIGzpFnf3domVOl204nHG3zwkE9Qj0KY+E82bJRfhKj1knDOEQtvlvnXqyqN/nBm7TVqiz1jsmHr\n",
       "vbPDkoU1RyyWvnc+WxVscJT/66K49BUruSqY9X/E+UUR1fgXzJjnK3k60loAAAAASUVORK5CYII=\n",
       "\" style=\"display:inline;vertical-align:middle;\" /></a><br>"
      ],
      "text/plain": [
       "<IPython.core.display.HTML object>"
      ]
     },
     "metadata": {},
     "output_type": "display_data"
    }
   ],
   "source": [
    "pos_power_of_pos_power = Forall((a, b, c), Equals(Exp(Exp(a, b), c), Exp(a, Mult(b, c))),\n",
    "                            domains=(Complex, RealPos, RealPos))"
   ]
  },
  {
   "cell_type": "markdown",
   "metadata": {},
   "source": [
    "## Exponentiation laws for real exponents\n",
    "\n",
    "Similar to the laws for positive exponents, but we need other means of avoiding $0^0$ which is undefined."
   ]
  },
  {
   "cell_type": "code",
   "execution_count": 69,
   "metadata": {},
   "outputs": [
    {
     "data": {
      "text/html": [
       "<strong id=\"product_of_real_powers\"><a class=\"ProveItLink\" href=\"proofs/product_of_real_powers/thm_proof.ipynb\">product_of_real_powers</a> (conjecture without proof):<br></strong> <a class=\"ProveItLink\" href=\"../__pv_it/theorems/9901dd29765857108e170069b66b24e29fc700040/theorem_expr.ipynb\"><img src=\"data:image/png;base64,iVBORw0KGgoAAAANSUhEUgAAAUcAAAAaCAMAAAAT8G7EAAAAOVBMVEX///82NjYbGxsSEhKIiIgi\n",
       "IiIQEBB2dnbu7u5ERETMzMzc3NwyMjK6urpmZmaYmJiqqqpUVFQAAAAnLjGdAAAAAXRSTlMAQObY\n",
       "ZgAAAAlwSFlzAAAOxAAADsQBlSsOGwAAA9VJREFUaN7dWYuymyAQtS3K8gb//2MroEBYRGmcNil3\n",
       "JrM3czzocZ9kmv6XxSX7Qup/t4zCVliO3qXQo3sW1Pptss9YVmMrroXf5RCj7lVQs7fJPmKBxNYe\n",
       "fCshDi4up8QQ78lkLK4LalZzjZJ9xmIGW3GRGSZyEWSzmvgSDBjZtKRmiCuSuRwx5vNlFAu2Cl2N\n",
       "7OfFTQQIIUrc6Ms7qBniimQ6JWspPl9HTbFV5DDdl2dJzwrriEPu1Jpta/EfpuSKZNx9U75cFbaO\n",
       "L/wD2/7V2VPkSPCV1AxzRTK5vxlqv6BHTG7EkUNtWcpcuIL02tMUlrdXSc0wVyQz+5uRX+COZMZW\n",
       "0liTq8IptDEk6k+WkddXUDPMtZMts18L/QIdnUSWcJSIvoAtiLqRIJvULT+OZDpUHQZ/VZFug3J6\n",
       "K4zVllq2PMW6ojQhfM2ttZ6L5frXNW88kgl3fJxFE9MuvRg0a9qZSu1kxyVaiF56oqGEUEpQiEhX\n",
       "WbCYIETvpTQhAtWpe9e1HTeSeVekiJYTx9j2LTC3vRfLaD1rHgDi0y0VjbzQQbBeOB1TgqpRs64s\n",
       "vYZ/0N6wpgzQhsCljmfULckjmSWNKqP17vgU4vRDq1kzAcj2NxnADtlDdHR0Im2zigt/XNiJJlnx\n",
       "NkSsV9P4KXXLH/leqo8ZEagh1N88OforMDxSiddZMwGiSgR0PXh2EK86pk1jWqLx1qDRD9Y6whqm\n",
       "5bXrK00IL15RMz/eoEZk1O5NJMwifgnpOa2wojFrZkCIWsGyavvg2UG86pg2DfMC+xXmhdgfzlW3\n",
       "7NirBauNtduKcx2bkMt6fYMakYnFHZE4xeFbpQcwYKAxa2bAppJmlKEh9hxR6Zg2jVhT9NlLlSxy\n",
       "17dbjPgypnvlvw0xl/3jDWpE5ngeQMPUbWTwDWYnzhVvzJoZEKKWKlsPseeISse0aXADdqQcr+Nq\n",
       "z7q+3QJHKBeOdJJdG6IvDypuUJ+RgY8uZgAmnsvUXmeOpm6fNQuAV0kpCtXgeY541TFv6uP654/j\n",
       "HKBVZ4rTgeVOAeiMiE8ebiGyxWcq5QM5t+WCahGKx1YPilkzA2JX46tIAKTBs4Vo+mPatDg1mfwk\n",
       "ptzAec/YcfD64NiByZQ2llATTn94LqdbhPoWhvvyecyaCaAkkXQCrWUEpMGzhWjpmDd9maq2Plyj\n",
       "h815lC/vPLpxD7pjlwyoD7AqeOwIoI3o9o/28ojeWWz9wZqfPGsdJlPwLuBCx+szp/PfZ4Y86Mmf\n",
       "VMbJzNuAvo72Ru2wFFuj69Ej6397/v3ncXX6+/XAYdOTZ1uR7DcHjC8SnEYZLQAAAABJRU5ErkJg\n",
       "gg==\n",
       "\" style=\"display:inline;vertical-align:middle;\" /></a><br>"
      ],
      "text/plain": [
       "<IPython.core.display.HTML object>"
      ]
     },
     "metadata": {},
     "output_type": "display_data"
    }
   ],
   "source": [
    "product_of_real_powers = Forall((a, b, c), Equals(Mult(Exp(a, b), Exp(a, c)), Exp(a, Add(b, c))),\n",
    "                                domains=(Complex, Real, Real), condition=NotEquals(a, zero))"
   ]
  },
  {
   "cell_type": "code",
   "execution_count": 70,
   "metadata": {},
   "outputs": [
    {
     "data": {
      "text/html": [
       "<strong id=\"products_of_real_powers\"><a class=\"ProveItLink\" href=\"proofs/products_of_real_powers/thm_proof.ipynb\">products_of_real_powers</a> (conjecture without proof):<br></strong> <a class=\"ProveItLink\" href=\"../__pv_it/theorems/55b670d8df082592096929eecd0e7b28a33741680/theorem_expr.ipynb\"><img src=\"data:image/png;base64,iVBORw0KGgoAAAANSUhEUgAAAssAAAAaCAMAAAB2K+FKAAAAOVBMVEX///82NjYbGxsSEhKIiIgi\n",
       "IiIQEBB2dnbu7u5ERETMzMzc3NwyMjK6urpmZmaYmJiqqqpUVFQAAAAnLjGdAAAAAXRSTlMAQObY\n",
       "ZgAAAAlwSFlzAAAOxAAADsQBlSsOGwAABqdJREFUeNrtXIuSpSgMdXdRQOTl/3/s8lAERMhVetrp\n",
       "aqrmFl0mx4DHJBCcYfht72rzQrtLDn8UsYZy9w79x1ppehxH9stEeJM87+wzicFzjrs/xRKi6IAi\n",
       "aneo3EDALEOGfarbLCy/7PyoKZF39jbNUAy45CNERp+j0NodKvgUbJmUv1z+nkaWvBOi6YqQJqC4\n",
       "C5YER/IyokSPUWjtDgAuty0zXNaHp5CPudwL7Oc3KvPOES7JgEBhHS4JbVeII3mKQmt3AHC5bZnh\n",
       "sgjZ2sIec7kX2I9vbMo7CcvlYuMnAbwPRpIrJHi/N0wWIizSd1DiEdCazQAuty0zXJ713ayowOVe\n",
       "YD++CZx3kmRT6GFWTWe4SZq3gaz90mVR4C1Zyeco+wgENW2yP/Jsc3Ixm6OCXsUymy8v2x9YPedy\n",
       "L7Af31aed45Llg0KEtg3SRMB56mTWR5RCiWl4AqH9dYiP0dJRkBrNgP8ctsyy+V9/fdw8bYki8nf\n",
       "lWBjdUSyTpIBSgpKUoPkQDvlGBuiQuZn4oPCh4/8HKXI5aLN+0WCk5+CXsUyR71ptG3CPbjcCeyn\n",
       "NzTmnYFpjJhdlc8CoeqC6ywpHu7NnRDp7PZXRIiuaLqBUuJy0eZwcWLxT0nv2jLHZY9KSRcu9wH7\n",
       "6U0veYfbh0cTL33B5bMkNkv8J9acEc0bZj3fOOwBnEdXxRg1XUEpcbloM2R/uWmZ4zLT+w+44Usu\n",
       "fwymgBseqIvaEwuKeLUtsesXmtKsQybnVcYoDUFTcdFxllzWdR0fUPmMSMzzQyYF0IiFpGj+GCUZ\n",
       "QTZPqc2Qul/TMp/eWi+K6xkXG4WVkJO+uvnuYFpgiArtQ5G3wIpeFtvViBehF3S65021UrNQjWp/\n",
       "Ba+i52cBY3R+8xeddYRb1I+XqRlZ9/mFS9apd4i1EN3zX1sZOQTlK1qwzHNZoevF2ow0tVm60jYs\n",
       "DIK0uFwG22EI1eaFUhRH79lQKLbv8siGAMzsZY7T1/OGWvGh6iISFI9W0kc3w2Y6+EloFFlnoo5f\n",
       "14QJGnDJxgItiDUR25eBKF/RSMplw72rKqXYU3RlJERILipcLoIFGEzcNRm2V3nYkSzKIxvUpVda\n",
       "opTtnlpxhLyEBMa75rJmAXhlDb9MVgstV8ijg0rCyQBAZFGOUcyX+9sF9stJjjFgtT0gKeSMkB6Q\n",
       "pE4ChW1FNSvOvHsSQozmH7/gcgAbCJYIsxiGyNmrsSOVH87F9uO2jkSICA8crwDuqBX9UwkJjhdx\n",
       "OQzXr0mwn2myb7bWuaz8QrCZu8Ml4VwGIM4r+9N2gbc3WcJltqXBRHKbwdu/XG2QHE9KzcanKg7w\n",
       "yzvYQEbm73TAKJYOlS3bzlRSbI9ua98eRj2pjgNlN9WKr/VSQPoA75AJw3X1Kvqfq1f5/eMxrzRo\n",
       "mnUoslm5AByvhEseOfG58ykibxb+PrCra0v3MeyUej/NCLJjtV7b1Va5jLlszES0zeUdzETorbhz\n",
       "wEgikznZMsmsgB/d1iQ2FNNE+KS21/abasWpoLEB6SUIHo0SkriWtfl0z+UpT7rCpujeIRrhmWnU\n",
       "3iiGSxbS8mIyDUGUU0+7ejaZ7C8nDgNtD8SdbJaLczFUeS4THHaRa1wOqwG+ufcDZp55MlalQ94b\n",
       "FfCj29rgjrkP0TMtq+21/aZacYtCR0jZLEHw6Hm4sU/3OcaqrpwJX/+OnXihX2/Zicv2oVrny9bB\n",
       "9Gac+GXrAVv7y3GEs3vnkpAYZlv77VuvGy+yAn4kb0nEOSZpcE/V9tp+U62YbtEIKa32g/Doebg2\n",
       "x/j3n+hMzHnt54ifdt7dFvl6y3Ius3XzzZI633vU7/yHPJWzfwW/bPNHbpOKA4ZhYZ8rRlvF3S/i\n",
       "8gL+Ie9Xm37R5YqYRbWttt9SK/14qHK1v4JX8sthuNF5QSfNz7NWOSf3xkZeGz7Sc3JJ7LOzbo8e\n",
       "m8THyjC6pQTz6A8kf8JlLqRCWMYwlkAmctutrtk5YupQ8wJ+kOcLWvBAhFh22aLatnXWUsvK/RFU\n",
       "udpfwStw+RhuUsPHGIkzEUJi3euE2xcnpfr9ljW/kSLYxkpIHFw+hlHDqfIwkmv5PQU9q4Xafkvt\n",
       "lCznUFm1v4ZX219W7cq5Vnnnze29XyUfln3n937cH9SOZunqCMIWjdmFWv08QqLWsOBc7b/Eq3IZ\n",
       "MBfX3/u90fmhv8Cy7+SyDE4VJs57qD2xIMGrcVlB4lg4gatenzG/9yOhr/oO++7/j0HuiZF+6OSB\n",
       "tfeD7+X/j/G+bS/yesvQOE7yfwhgXWhjMBKhAAAAAElFTkSuQmCC\n",
       "\" style=\"display:inline;vertical-align:middle;\" /></a><br>"
      ],
      "text/plain": [
       "<IPython.core.display.HTML object>"
      ]
     },
     "metadata": {},
     "output_type": "display_data"
    }
   ],
   "source": [
    "products_of_real_powers = Forall(m, Forall((a, b_1_to_m), Equals(prod_a_raise_bi__1_to_m, Exp(a, Add(b_1_to_m))),\n",
    "                                           domains=(Complex, Real), condition=NotEquals(a, zero)),\n",
    "                                   domain=NaturalPos)"
   ]
  },
  {
   "cell_type": "code",
   "execution_count": 71,
   "metadata": {},
   "outputs": [
    {
     "data": {
      "text/html": [
       "<strong id=\"quotient_of_real_powers\"><a class=\"ProveItLink\" href=\"proofs/quotient_of_real_powers/thm_proof.ipynb\">quotient_of_real_powers</a> (conjecture without proof):<br></strong> <a class=\"ProveItLink\" href=\"../__pv_it/theorems/815fbe528c8e09cbc6a03c1ea92928c8defdc81c0/theorem_expr.ipynb\"><img src=\"data:image/png;base64,iVBORw0KGgoAAAANSUhEUgAAASEAAAAzCAMAAADvqk4NAAAAOVBMVEX///82NjYbGxsSEhKIiIgi\n",
       "IiIQEBB2dnbu7u5ERETMzMzc3NwyMjK6urpmZmaYmJiqqqpUVFQAAAAnLjGdAAAAAXRSTlMAQObY\n",
       "ZgAAAAlwSFlzAAAOxAAADsQBlSsOGwAABF5JREFUaN7tW4uSpCoMZXeR9/v/P/YCKqKirS3OrWwt\n",
       "UzNVY6cED8lJTqQR+luGUBz9G9XgYnvF0353Z5xBB8jb3SUienrkAByihr+IgLHv91huAA2QVftr\n",
       "OO46Nv3moB4wQJLIBjHZNnJfj8HCRWjAjYuJhkzPfXcELBVZ0roaEkqu5zzKQEWI1DQtPcUy+VSk\n",
       "Idu3ItJBwgQIh8r7daIknq4Ig3HnmRRQsh6qdTOS6NS8lJldAMlEIlSVoQkZM/rOVCxgiAj5mqcJ\n",
       "zw+i35I2IMtG4rebbMNbUtdC5GoRbI1QSu9eIffNk3yWuiwArBrxals5TgrKoK8qlwtSlwDMZnxV\n",
       "LjKPqZAei6+8sSV1KbZ4TUQLSA6ER5FuVWFT6g4aiWoPaKQ4U/KAgsBKLHSTAi2payL+TNRUHRGb\n",
       "nUiCaGKKfiXKJHUFn0f0EKIb06kpFKmDgJAL3ZbZkrrb7J5d1k70oyAAFN2+W6+1JXVV8qG6CAgp\n",
       "xMiQBqEgEMKPa7jSDGhJXWmsxXV+CwlDk3cFSHOfXhaTZqiGbzQDrpGVyqDOf35wnGakk+Wbh3L7\n",
       "bjNgGGb3oSfiD3PjR8dsqRk3UGW8OkkxLYuzxDmuhVLcCHwfHu7MzWbAkIsjh1s8LbDnXKeXaz76\n",
       "peN0q2ZmA5yojcrGpCcW/IwoMiXHRWl+jlBojCsF541mwIhQhMfuXMCYKWlQlj+zdKNmigGOP8iy\n",
       "vROdWZwg5GWZZk/L5hkP3W4GjFEWS6G5KGLUYpqWhWcJwqwYAZdrNVMMxufHzGylzYnFGqEy6Uil\n",
       "eStkRmLfmafPctntZgAZg0vOEpYNMkIgU2gVEpHrm01qZjHIMST5gsckbU4s1giVSU2ubP/EXxsv\n",
       "JIT2r6zww3robjNgRsaXyEGjcNNlaZZZ1lAzi0F8fsMp30mbY4sNQmXS0dZOrpp9CPeuGO82A7Yy\n",
       "MMkSnFCzapQqDgmhRUPNLAY5hqh29T3Q6hZbiw1CZdL8BNMHY5TtJYZ7reN6EJV083+qpixjSCwf\n",
       "TEw9FymTmqkM0vNrTdlG2hxbrBFaJk1R9vsXz1F2xNTiZ7t+O6FMEiPoFFZLiS2pkZl+I6NWamYx\n",
       "GHN54uFsUKRNy6LpQ2VStHQaUFIE2n92+6Pe10tCWRvrMLW5FyKWVBPjJSVukVLLrGaKgVZYUcSM\n",
       "UaNBkTYtixZCy6Qr7RMrRtPI7MORwt70vt6XgYwmd98Evbtj0LY4rYfcZyfwByhse199xt0SXrOn\n",
       "Bh8QutCBsQclI3mFwe/2fO1jg3OEnL7Cna7Zy3jlzZb8H1+6fv88qxc0Sy9j1/vq06+DePrDkGYv\n",
       "Y9f76kJDIN9K66pmfPdgQwxdkCcb0GC+7mXcDjKY5/SWdT862HBlL6Aehy0vHZ4dbLgQz0BP6VVO\n",
       "9Ohgw+eKBO6JakW/7GXcdCG4X1wQ5Cfcf3AI7sA/cMYA9LcW+n5T6iDGFII91MshIBT4L5hx8ebd\n",
       "2QLQfy3CMRzSBIGaAAAAAElFTkSuQmCC\n",
       "\" style=\"display:inline;vertical-align:middle;\" /></a><br>"
      ],
      "text/plain": [
       "<IPython.core.display.HTML object>"
      ]
     },
     "metadata": {},
     "output_type": "display_data"
    }
   ],
   "source": [
    "quotient_of_real_powers = Forall((a, b, c), Equals(frac(Exp(a, b), Exp(a, c)), Exp(a, subtract(b, c))),\n",
    "                                 domains=(Complex, Real, Real), condition=NotEquals(a, zero))"
   ]
  },
  {
   "cell_type": "code",
   "execution_count": 72,
   "metadata": {},
   "outputs": [
    {
     "data": {
      "text/html": [
       "<strong id=\"real_power_of_product\"><a class=\"ProveItLink\" href=\"proofs/real_power_of_product/thm_proof.ipynb\">real_power_of_product</a> (conjecture without proof):<br></strong> <a class=\"ProveItLink\" href=\"../__pv_it/theorems/578570da9672a005646b581280e32797abbbd54c0/theorem_expr.ipynb\"><img src=\"data:image/png;base64,iVBORw0KGgoAAAANSUhEUgAAAXUAAAAZCAMAAAD5Yk5vAAAAOVBMVEX///82NjYbGxsSEhKIiIgi\n",
       "IiIQEBB2dnbu7u5ERETMzMzc3NwyMjK6urpmZmaYmJiqqqpUVFQAAAAnLjGdAAAAAXRSTlMAQObY\n",
       "ZgAAAAlwSFlzAAAOxAAADsQBlSsOGwAABC1JREFUaN7tWomS3SgMJAnmNJf//2OX+7DBwMxWqvbt\n",
       "KJXR1Lyelt2AJJQA8GPRMFTwR4W/bIcADP3I8FXjN7+GlhQAwjZ+YfmIBMDeU/3nDOrWT0xEyZDY\n",
       "o18+IhGQ4gRv8sdafYLoGrd+YISiI8oYXvviW/RgckQyfwbEOMHLvMbnJ2x+crZ+bKdM3xD/1emA\n",
       "V+mzjY9I5C+AECd4ljY7p5+w1aVq/diulCqUl4dLpSBZpS8sfMJfAEpWPi0B1p+gOrr5cT6/ssSI\n",
       "bNOXHT06Iom/AqQ4zqu4fOcniK7P1r90FkdRTu3SVx3N6Igk/gqQ4niPDmcIf0SCwa0H3GDIe53d\n",
       "aSA04Xhjs0s/pu3x54UwlZe+BFPyd+V5rVnTojZ8V9V6gWxapdcTTy6bWUlIuup5MORRmXnQD2m7\n",
       "/Dmxn5XnJn0ZtahUmryy7KTvgM65PPApzdl8/la6sS/7GMN8/G5Bn4DcHOvGE+TbtKPzTF4y5J9J\n",
       "L19Jp7Rd/vwzVHu3zfGjA2LQUCpc52nsimma3tDgCeBJAV05wRyvqR42gLvPiYwyeAK4NXLRy8tr\n",
       "hasdmDaz/+byn7BruZj2aZ/0DX+W46q9hp1aKmXs/THxC6YSAWITwJMC2j9AEbimuuE5TD6hiE0A\n",
       "fdUR9VqUHXWkzOYlE6G7E2hT9Qftg77hz20NavwJ0iiBYAUxr25SgCgm6gECu2yVIC+APJnIiKA6\n",
       "JHKgeg4ansmvHg8nVLdBh4B+hiGXew51jbppGTKzPlbz+pS2y18ybeOxjk07Obh9Q+6yRoZy3ewn\n",
       "eBAA5QsgDR4KwmcYTqHqq56DSursj/2r7A/cEx2qCToGZFpYe+Lf3ZxAP+4yF0vp2eq3fD+c0nb5\n",
       "czWljefIpJwAwixHZLwiqlkw+8KuCI8BafBQEFZ1SXH7arRORKAaIMW1YU01ikHHgG5zFlTS9tg/\n",
       "OyZjWai89YNTm9J2+UdtrWElb0Hjmxu/ragGjIlmuOPSqTRvAJH6o4TwGQYLPVA9Bw1To1gxvagp\n",
       "L8agY0AuWEfjiYGYcQOf4ylicL7dH2JV9Sltlx/c4tzi+f6SKkIAK8sfi2Xqka+QTV8AqQBgUOd1\n",
       "ITDpql6CugTy+xf1CaQtljHoGFDejLV+wfixfs3YoB3GecRDLsMKlzHKpYljyX2JtFXPxSUhLw0B\n",
       "efBQEKFzHFXTErSaxQHoGkMD2qA9QGvNiGlvYLZiG7TrgzkhlYZY+QkkKy2GzRWuCWSuY2ASQvAG\n",
       "yIOHjBAnPDEgUp5d1UvQ5oZsL0GS3IL2APeCx1s/34Jbs1b65XF4ivMaj2B3km8ZT+8A+ojXfl33\n",
       "7rd6Bmifm7b+X9aRfHkevr0d8q4k3wVMVD9nnAuD0TSZ4Gv/4A83ReBf/H8EKQ7cPizq24B31bWY\n",
       "cGoBfuwbxv/Xb/8P59k1PKQ2tdIAAAAASUVORK5CYII=\n",
       "\" style=\"display:inline;vertical-align:middle;\" /></a><br>"
      ],
      "text/plain": [
       "<IPython.core.display.HTML object>"
      ]
     },
     "metadata": {},
     "output_type": "display_data"
    }
   ],
   "source": [
    "real_power_of_product =(\n",
    "        Forall((a, b, c),\n",
    "               Equals(Exp(Mult(a, b), c), Mult(Exp(a, c), Exp(b, c))),\n",
    "               domains=(Complex, Complex, Real),\n",
    "               conditions = [NotEquals(a, zero), NotEquals(b, zero)]))"
   ]
  },
  {
   "cell_type": "code",
   "execution_count": 73,
   "metadata": {},
   "outputs": [
    {
     "data": {
      "text/html": [
       "<strong id=\"real_power_of_products\"><a class=\"ProveItLink\" href=\"proofs/real_power_of_products/thm_proof.ipynb\">real_power_of_products</a> (conjecture without proof):<br></strong> <a class=\"ProveItLink\" href=\"../__pv_it/theorems/2f837dafde9bf909fb2fadab41c42932eadc372e0/theorem_expr.ipynb\"><img src=\"data:image/png;base64,iVBORw0KGgoAAAANSUhEUgAAA9sAAAAmCAMAAADjs3i0AAAAOVBMVEX///82NjYbGxsSEhKIiIgi\n",
       "IiIQEBB2dnbu7u5ERETMzMzc3NwyMjK6urpmZmaYmJiqqqpUVFQAAAAnLjGdAAAAAXRSTlMAQObY\n",
       "ZgAAAAlwSFlzAAAOxAAADsQBlSsOGwAACUBJREFUeNrtXYmyrKoO9d6LgiCD/v/HPsGBqAzRpmv7\n",
       "ukjV2dXsQ1ZYNiFhcjdNITHTLLqp8luiTCXyWmEDCxeUdUZWzI4ZqyP8oGuPlciLhbcsUmiarvp2\n",
       "lYTooRJ5N68xVqi+XSUZFgr2j0rkK9KbWKH6dpWEDPTdHjv05YngQUuqPrbEoAsfCtW3qyS+0unl\n",
       "0W6kXyAy0q+3pyTzw0ICLFTfrhKXlr68gR3/AhEsaFnVx5bEJPyvYaH6dpV44vf2sM0nQkZWmAgW\n",
       "tKzqB5Z6OHCBQvXtKvG8D84exYsatrWFtKwhqhARDKgo0x4MN7wl3YEKoFB9u0pU4Ekk8qaTH5Ks\n",
       "QUrjNrdQRBCgMd277UlI5jmHLInJwKTcAN/2Lmn0575dCq3KCzJeH0PMu2beRO+TTsSZFCSRLGhc\n",
       "9157Uk5EHzBvYargC7NvK7kVBvG5b5dCq/Lnoqf9I3vbyY/leKVtYGeKEcmApnRvtScuiOccsKSg\n",
       "li/Mvs039xefbc4tvl0KrcrfT7d9l1Fvy8G0i07zpFP35YhkQFO6t9oTF8RzDlgiEwzsE5xvb0fM\n",
       "qSng26XQqvy5dD677N7XONvNuCKkJJE0aFeqPQmUR8zNBLbefMFW1Otg8WHetfp2IbQqfy7TPvcz\n",
       "7/syB/0FIknQtO5QIrNBPeerJQ4X03zBDQJda6WjRXy7EFqVv/ftvROp7csUIyUiE5owdXCSQqLj\n",
       "F4gkQdO6tMQuEeo5Xy0xuA/gC863lYviPSvj22XQqvy1gN2ULVTITszfbPogCKYOTpJIga0m1QIZ\n",
       "nxBJ7l+ldYvcM0M954CliYQKzrfFuP1AC4379hHNYFfLz6PUY8XQsHNvyf520FE3rLGooad6Dxnn\n",
       "AEGm1y6fWKedCyVREXVwkkYy+CUAPJEkaFrXlFiSQD3ngKWJhgrL2RUbZKlMj+KtsjX0ui6h4r59\n",
       "QNMy60i9Gl3+cYR8rBga6STSpwOIl6s9pqWDGoeDN/R4a8uDoZTQ82N8qveQcRZQTjtIt3xSbgl2\n",
       "OZvNYPhg014AdRiloz+BCeokPXqvBq2FHBYf/9FErqCg1VddSDCpimQcah6K+aRChcW3DYmvfXEy\n",
       "9r10rkvnyoplfRugsTGDyvpxjjDGnoKVkMtjxdDDS2ckGcT9ws1Wj9ikhQoa8e20tSWf0fMTklYJ\n",
       "GHqq94AxDhCEu7XPdb3ritI9DALDCjgw4euoY/BpcYcx92oAKZiwP4nbGSIBUMBMpggmVZGMAyZw\n",
       "zFO+PbuijuR5Sq1L6mauofZkPOXbAE3JDCplrqa2sPDdT48VQzrJIJZD3C7c7PWIzWA1IxHfTlsb\n",
       "xY7pDkt5Q0/17jNGAl5SWeZmcttBENOGg5CvYzunmJ7ejDpau/a2Fj3fxhMxbTZhjhE0BWYhweZh\n",
       "mCfm23Yzev1utdLzSDY2RPeuzWRfgTPcSLHELKVUO/+TMd/e0ZqlGYxqQuEEcEdlmi8oojnuiD9W\n",
       "DD2xMBYOcbtw4x+E823CVMS3k9aW8CjcKok7VuQNPdW7zRgLKPzqa0+WPmfrjMMymY/5tq+j2We+\n",
       "DZBOvdJ2VPwZETyRJOhVFxLUJY5qBUygmB9eQXpcJ59buE6jmZZ2Hm9LxP6GeRzD58hmJCZub2iN\n",
       "cKk5a8XhSC9ANQIs+hgP+lgx9NWGsZCI64Ub8CDs+CZ6osO+HbOmeiv/zf/0euWw1dDQU73bjNGA\n",
       "zEeDddvFdj0zZ5AqEagOdWbNNjHBvH4II517paNBb4wSWCJJ0JCuJ5hURTK+msAxj1wW2e6Bjcuo\n",
       "IBixNu1Y5CCkhr49GyM9wrc3tGUqN2ez9n1VDn7ZGfOommmfC8r+9HFXlIa4LCGvGApRp0Yc/zOH\n",
       "uF64AQ9inpr09Gixj1sTcDNwHRAWl+oINBRhnNW7zRgP2O1fMl8TgZFQLkbCE759qHN+8+Z5gnn9\n",
       "EEQ690qnIfHhEE0kCRrS9QTT7cExvprAMedwau4LlzueI1l7hMv99eBGefuKNevbjG6LZGnfPv7K\n",
       "rhC4UYeb5Ul4VM6lz9l4H1Ps7ECHUmyaXCNOC8o5xPXCDXgQNien0kR8O0L5kCQsqbAbX3dDEcZZ\n",
       "vduM8YBgh6DlmGnfNYEodcrh2Cvdts0NbSyRDGhAdyco2iI8ryYwzA9vjPKFi2/bvmyDs5ia+ROn\n",
       "h7htw8maPaB8my8LfnYjXjOX/jlzAHVdwHKbrSAtPCmKlV9eMTQYHrG0MloraShHNWW9cAPqWd+W\n",
       "krKwb0cou1T43396lwqDJazdUIRxVu82Yzyg8kFfqye+LWYtUeQ24LFXNjcvr2CJZECvup5gocs0\n",
       "VxMY5oeJjy+cfVtM61gxz9itHT/wLlumZMxEi8CiTmfnfVKDju5RBVVu7cq61XL6ndGQYtPLjCKj\n",
       "kR8nLGOf1BzT1puyOcTtwo2vt6wnptfSrpQbcEXOwctx+5RknNO7zzgOeO5oIBz04r5vi55zrkpE\n",
       "7nOvvHnJEEkkC3rW9QSLXXq8mMAw78dg4ezb7ou2N6/ndH9pNN+mAst97Hu+7ZoqlTaEuuFm7eg7\n",
       "qu2Mc7a7HlN1Brhbtj0rrhtQCUWnxztx/BHAmiHsNdn1T8hkEdcLN3s9OZCBNkzBS7N9nvJheLBH\n",
       "RpZO34sM45zefcZxwOBK9XnNcRsIh4lmjsd19u/WTCV6/LlXhlqbXXLPEsmCnnU9wb7UuwrOJlDM\n",
       "w8vk+XcqMWrTN8zCRci3z0cito4eQt1pmavinAGTrGJoWyiA1S5vt2gbfQsx9SB6BOXGkOhXmWKc\n",
       "07vPOAF4ogVykzK3PwoJuelKKCII0JguKfcaksxzDlmScDMEFL79vjQF28JJl9iX3apKdlEc5uGx\n",
       "zSnKAJUAlj2zRaRNdMQTxKxvRykPUUNpxjm924yH3Pe057Lvu7b9cBr7K0SCQodw4evvQqRYA/sR\n",
       "aP1QMbSacRcrj5j37Yg1I6OG9Gd6NxknAC+5rPyN3v8zRMJzHxMufP89p1gDrJjiB414Uru5vHeW\n",
       "PTTECjawCGP6Ky/YoD/8phDSRQr1HcZVUiGBVyL/r2G7+naV5Oyk/one14ftIVaovl0lJYOuRF4t\n",
       "ohORQvXtKumJeCsqkVfTMpFCWd+2G/n1b4n8WlwYWCXyXul1uKCsM9ZXFlZJ+wSvRN4btmWs4OR/\n",
       "ULyRGmvp9ecAAAAASUVORK5CYII=\n",
       "\" style=\"display:inline;vertical-align:middle;\" /></a><br>"
      ],
      "text/plain": [
       "<IPython.core.display.HTML object>"
      ]
     },
     "metadata": {},
     "output_type": "display_data"
    }
   ],
   "source": [
    "real_power_of_products = (\n",
    "        Forall(m,\n",
    "               Forall((a_1_to_m, b),\n",
    "                      Equals(Exp(Mult(a_1_to_m), b), \n",
    "                             prod_ai_raise_b__1_to_m),\n",
    "                      domains=(Complex, Real),\n",
    "                      conditions=nonzero_a_1_to_m),\n",
    "               domain=NaturalPos))"
   ]
  },
  {
   "cell_type": "code",
   "execution_count": 74,
   "metadata": {},
   "outputs": [
    {
     "data": {
      "text/html": [
       "<strong id=\"real_power_of_quotient\"><a class=\"ProveItLink\" href=\"proofs/real_power_of_quotient/thm_proof.ipynb\">real_power_of_quotient</a> (conjecture without proof):<br></strong> <a class=\"ProveItLink\" href=\"../__pv_it/theorems/8aa6bc7662c3a2eb40b938ad1642d9e1462021cf0/theorem_expr.ipynb\"><img src=\"data:image/png;base64,iVBORw0KGgoAAAANSUhEUgAAAUsAAAAyCAMAAADiMwkRAAAAOVBMVEX///82NjYbGxsSEhKIiIgi\n",
       "IiIQEBB2dnbu7u5ERETMzMzc3NwyMjK6urpmZmaYmJiqqqpUVFQAAAAnLjGdAAAAAXRSTlMAQObY\n",
       "ZgAAAAlwSFlzAAAOxAAADsQBlSsOGwAABXFJREFUeNrdW4mSpCgQZXeQ+/T/P3ZF5UgULKus2hiI\n",
       "mInuNhP0mccjExEadXDxk2UYZ2j04e1356fY4vUHMY0OpqffnX/SSJDtRzeNDaVV353f8MW7YxCh\n",
       "fmQoJZHvuuxrg2hgpHZgLCf8vsu+NGbwrhwZN2TaGhbjDulXsZbLvjJUsMsckpUZFktSJR4TA5r0\n",
       "FMuT9AtdthM7or401uI8gZ7loFDimZ0nIh3CKN+vWt9y2eYA+tBOR00/E3wwEaMZIyFHmEhhuGu5\n",
       "bIuWQ30QMecxI6aYYeRTESQzr0jTBE16/splW0QI6gOYZzwklp40TIbw9an1IYy+GoYrfbBjHZOw\n",
       "EwhRtsPVduycM8m9jHHQBzF5yOwjZgt/ZQmLECC9Qi4+Nqf3sKz1wcUR+TqGFuJ59kMcNs8GmSYP\n",
       "7Y+DfscbxhgcAlTYC/OYCumxyE7ubhlmrV8HzAynG8NKCYcu3otj03P7FbrEUZPSkhoierLZwJzQ\n",
       "ZTnPlZPskt9F2l/xQVIPYHpe9WPrs+vGTT51Q2DpYAzspwQ3i0f9we5hUg0B5eJrAJ6Z9o3pOQOa\n",
       "w1sjUxiEjoFlRYn6tO9JVjiHGGnWFzlKO42CKsMV6zndRpupGC/TRhIcW/r43w9Hl4xcvlbWK0Cw\n",
       "G048P+eN0xRNknaqoZgbH0uoSCjeFziJ8BNVxitwvUcatnuhFKcHrRY9ChSJG6RmXVQi5jzy324Q\n",
       "zPlklFiuewSHzzKPwJ5zHZrpfolALu1dU7e0JXCYAeFQG6SSvobl5iKhlaWTFGjRngk0sLy0y+fI\n",
       "+oblAuSxCWfMng8pW6/Z+DREXAgcZliwXCQsw69h6WVaJuURIi4E3vXx5+Ll5uMLtYwkk1GLabg/\n",
       "HBMcs2JzE5k4KfasIxD7ozinyBVLzEwDy7To5pZ0SxrhjoiDizYFytwjQe7pJ+oH8zjZXFtGRssm\n",
       "ue1gWXpWJ2GJCU8MYdMR2PujrEAr+Ljk2J5jmRY1PIw/yz+7l8pi43lftC1QciIBSE+33i0f5JcR\n",
       "Q5/8Fm19Yp3u0TILsubyGKEZ1RbY+6PallgaTqFX8zIWoKI5vSO+QUUwWLQt0OTqxPS5un4Myzr0\n",
       "ht4mDvhatZoAd0gIDW9OrMX9jsB2e1lg83GqXQPLtOhqSDxaTIAqms2+aFug3BYCeAABYJxMlfAt\n",
       "Vn3QBx5Aq99Dz9IyhkS+sKeWyOnmLUp1BDaPLwRWLLWm7BTLvGhw4X//4asLw9SyL9oWKE0NuL2B\n",
       "1czqUAC926VJ+oczM6KOJiRELh18Nm+DJDVyVV5yRIhQDFmOOgKxP1pspDZO1Mo9eVGUq1YIB8rj\n",
       "EVz0TKDvaxZaXmXH/O4OJeofz8y42kW0sQ5Tu1bgRE6zi7sGfiNC1hQGY9QTiP3RLKAVVhQxU1YL\n",
       "+dmi4AUsVNywatEzgQM3UdDVHKDu7KM0HvVPzszgTtGZ0eBLVWh2Hwv0+aU7y7ruSqCip9BeuGn7\n",
       "9O2jK1H/5MyMv1kK1exTgQss1dWcLxQGK68G/THlF56a3w29W2eM+ifvgNwspduPBfpYOn0xp3uB\n",
       "wlRbnfJsAJuXPQnLQJCb7DLpH8/MyP/x4MYXe0tVKb0wPgc5KSY3Z076xzMzY541qGlQsZffkl8i\n",
       "gnfNstYH4XLMMzC62szks+vrcRgdYwC+3ZWB+tdFkgFG3fVWtmSHsZB0/0w71O8lvHFG/WCheLJh\n",
       "IeIhyvDH+2WNUr96fcN+SlH3AeVeUgzfT0W+yd+otpX6nxHVv9cwkdzSD/PU7BCydwpEhT76bC/6\n",
       "Fw312wa1ngf+jE+Qn/rc5NDAA//ycNTY3/B9/9vS0sMVGnyoX/mdUON/QP6rb/EzlP8B/IFA8Nyp\n",
       "kdMAAAAASUVORK5CYII=\n",
       "\" style=\"display:inline;vertical-align:middle;\" /></a><br>"
      ],
      "text/plain": [
       "<IPython.core.display.HTML object>"
      ]
     },
     "metadata": {},
     "output_type": "display_data"
    }
   ],
   "source": [
    "real_power_of_quotient = Forall((a, b, c), Equals(Exp(frac(a, b), c), frac(Exp(a, c), Exp(b, c))),\n",
    "                                domains=(Complex, Complex, Real),\n",
    "                                conditions = [NotEquals(a, zero), NotEquals(b, zero)])"
   ]
  },
  {
   "cell_type": "code",
   "execution_count": 75,
   "metadata": {},
   "outputs": [
    {
     "data": {
      "text/html": [
       "<strong id=\"real_power_of_real_power\"><a class=\"ProveItLink\" href=\"proofs/real_power_of_real_power/thm_proof.ipynb\">real_power_of_real_power</a> (conjecture without proof):<br></strong> <a class=\"ProveItLink\" href=\"../__pv_it/theorems/04ee50a9bdaa9138547b743cee0f83a83a869f3d0/theorem_expr.ipynb\"><img src=\"data:image/png;base64,iVBORw0KGgoAAAANSUhEUgAAASIAAAAaCAMAAAAkPqHwAAAAOVBMVEX///82NjYbGxsSEhKIiIgi\n",
       "IiIQEBB2dnbu7u5ERETMzMzc3NwyMjK6urpmZmaYmJiqqqpUVFQAAAAnLjGdAAAAAXRSTlMAQObY\n",
       "ZgAAAAlwSFlzAAAOxAAADsQBlSsOGwAAA8dJREFUWMPdWIly3SAMdFuwuA///8eW+zCY5zd5k9Ql\n",
       "k0yGkQws0krLtv0ngwn6o/7/1NByOm3ha5+d+KuHImQuNr6zr3134s+fGVhElAP0iXIgZEk3DUij\n",
       "+4mW/VvXN/z/oUF1+geZbh5hsiEfYDIfC8uN7be/W/w7V+xBszWC9QMQ4vnQBkbodIgwFM+hXJYQ\n",
       "9hb0zp9A54o8PKqQn+APgEjBOd8aKlHxvkXIl12+TUXOn+28dSWH+xazj+KmI+1enUP+8MeMuadD\n",
       "vhzv3Xjj37oKXTB3DGWe0P0cabcDyTjW0PmSd28kPJj3G4HWv3H1ObfpdB/iCUGEcGKiYbdMIdRd\n",
       "PVdaI3If/Ma/cUXhLnbsxw5PgMiKnpI2bgHxc2kGe5/+Z/7NkCFsVeBuSr71rMvG9XorlDZx4k/g\n",
       "2ZUeJwc9ZoTCzagIzv27zGYByPznKrqpsgXqQcsYDEJZsbiJmcWqNkCgZAA0BrZI28SROMmuw/HP\n",
       "C95thy782yiL9cEHEAwlkiFLqZsl1DqkDYWzlskGyDMb8EmiLizoKva31NjKwQqn6EtlWR1hEoar\n",
       "vxvLc/8WxAiRQROyViq1XUDC9Ws4aZligNzPpskYRiuLBUSWl2WGwp2jKEG003qKlkDuRtGFfxdF\n",
       "LBWzLEYIaAS8tqhuRjPZSqKsZYpBBACRhl2iwllZdBCVReP5IG6NNI3KRaKRIwipY8zse1x05d8F\n",
       "JE8tUWqOCOZxkpQjGG74RMtUg5BGnFZAksJZWXQQlUUV9eOP+9WpAcLnBtEmP4riEU2scv0Wa4Pz\n",
       "ioou/IeK5oWPzamxRf0my9400WSiZaqBA0BRaDaVFM7CooeoLLo1CitCtJ+zF+1dWfdIGcdPaq5S\n",
       "XguzuX+Ldt6YZTXFg3LTItwoNRtjkk20TDUIaQSypkTiiYVFD1FZNFwszRzgITrMxaWymErEImDc\n",
       "opNaxXfl2YV/i7Y9B57vEjQhG6v3kOg6NytJyzQGHgApocRayt6FRQdRXdQn2u9fNCTaBV0XhYkX\n",
       "Gp7jz/Vv4pzqu2cF6TOrdpIcFA8UHB8KspapBrGkBzIOFlnhTC1mUVQWbUT15uWAtJdKXy96T/W5\n",
       "Vx0ydJVSaYMgKBzKasFxKePrN/MFJmuZYiAFErARpUSyyApnajGBqC7a9fiudVRj11tIi14y7Cef\n",
       "LPRKyhDwEX9KavPK4IbFqi8yrx9CrelJa/LpD7574Xe/JcnXLZYQ3XhtKG9pV+ITfRCh99+u9Qcs\n",
       "VhCZO5XIfN+TxM++Mn7hqrX8rk1GLvwL/YMqSMOM0/QAAAAASUVORK5CYII=\n",
       "\" style=\"display:inline;vertical-align:middle;\" /></a><br>"
      ],
      "text/plain": [
       "<IPython.core.display.HTML object>"
      ]
     },
     "metadata": {},
     "output_type": "display_data"
    }
   ],
   "source": [
    "real_power_of_real_power = Forall((a, b, c), Equals(Exp(Exp(a, b), c), Exp(a, Mult(b, c))),\n",
    "                             domains=(Complex, Real, Real),\n",
    "                             condition = NotEquals(a, zero))"
   ]
  },
  {
   "cell_type": "code",
   "execution_count": 76,
   "metadata": {},
   "outputs": [
    {
     "data": {
      "text/html": [
       "<strong id=\"negated_real_power_of_real_power\"><a class=\"ProveItLink\" href=\"proofs/negated_real_power_of_real_power/thm_proof.ipynb\">negated_real_power_of_real_power</a> (conjecture without proof):<br></strong> <a class=\"ProveItLink\" href=\"../__pv_it/theorems/6ed05888ee207ae73f075d4383e9d5a985c8d6fd0/theorem_expr.ipynb\"><img src=\"data:image/png;base64,iVBORw0KGgoAAAANSUhEUgAAAU4AAAAmCAMAAACcXYLYAAAAOVBMVEX///82NjYbGxsSEhKIiIgi\n",
       "IiIQEBB2dnbu7u5ERETMzMzc3NwyMjK6urpmZmaYmJiqqqpUVFQAAAAnLjGdAAAAAXRSTlMAQObY\n",
       "ZgAAAAlwSFlzAAAOxAAADsQBlSsOGwAABIVJREFUaN7lWtlyrDgMZWaEVywv//+xgw14w7jTpPo2\n",
       "ruuq5IEosjloOUcwTQMuNA87EFvYNOxC+7gjiXlYPPXyxEPZQdEU5JGBwM2YcC70G7sa2bwMqXyS\n",
       "IdPduMtji4V/LJfVhX98ckX/wZo7wWk/FbjMXvlX8ZJ0csDK6To5RcSnuIS69J8oEqfjwWmLfJMV\n",
       "1ACW1VfjoqDhbkoU/gt3NLYgTcaD0+m8EZTdFFbyB2sxU03UZrWSgnubyqXwX7gzmLJ9PU4qoEaP\n",
       "kOtZ6Jkqu7jeSSk07gTXsGY3i4HiuX9Gc3cqpcuMsSz4KjBAKdUuV3aN0rn1162gCX6s9c6Ieu+5\n",
       "5f9rbO5fkNydSHDieiBxhKfkA+S6zSDEOgY91CTkv8ZzlfhFsOyQJf+Zu5TsE7isNdERaD3JyN2p\n",
       "EK6lTe8xcebUiw+nu713rv0ndwAZJV7DV+8PeRkAzcklQMzpwALjvS2n6ilRa7grXLis/Cd3XGaF\n",
       "3Uckmf0iQ7CmrLHjcWBpKciqmdObEqXlqyDrJ4KflUgWToeh3/E/KzmxK0Iu79alinQEoPKdgVfs\n",
       "/tXUCedsJeibvoL9VeUt/uAgPJHj18UCjjY+s5NwNTNd0C4dhtyy6PU9GrompUDPPCnBOZt99BBC\n",
       "Yq62vMUw2762M7FrLV+VIh+Y9MQjBFjOlQ9n67lClFBRuB4G4EsylY186FjwXsKFg0LB6fbocemY\n",
       "O1VB11Lywt1KGXc9FWA/yCMXcs5AoxEhiuO5hLDStBLG0QD8mEqzc3j2LDpwWhm3qdlNHp07nISH\n",
       "qlVFg7oVnW1fb1R23Jv6oWYZ1UBlLiyYFirXx4dwTcojgAUMa3HcsSjhjJtmZV+GAkbMq2RnoV5p\n",
       "d6ovN2rnha834ISdcu7kk81y03GpYRlZTk534Zp1NJ/KkifwdjXbsSjhjJtiUCH/rT96nxzNum5F\n",
       "6QKHDQKzsfvylPqOJrnw9TbvkAc7Rpw2Ya/isTXTrCGMk8EKFnLKT+L42qKCM2662epsEEegvmGo\n",
       "uZBH1axquaQKeIv2tX39nGUduWNFqkdgA9HYBKuZhFCiIYyTQUhlqkxV0zoWFZxx05zHbcnuaqVG\n",
       "0p2KLZ+ZBSqkBVGPj+6EZ9PXG/MZVT18T7s0Y5OgGUWAvIntwjUz8GApFZnE0T6uLUo406Y+2f/9\n",
       "h4dkb7eiKWdp8/Vdy/kbGuP03oX4KqZ8didWL2mgqhS2ydQhXJPBRoN8owkGUc22LJrRGTfNBjJB\n",
       "C6sTGcasY+vrnMSvzBpp/RAVagNUh/mSSI13TVvPeYRvtIdwjQZqgYVODHHZDKKabVm04EybFtps\n",
       "pfHIzgM6VivpVnB+ZzjGO1KIUZ91VQky7xi0Lbq807x6+8Dyasp4d2LxzYHCz6bS7LcGL+B8PdXi\n",
       "eYbLNvrwHTTVuyNV/WuDPpzmdT9+8Pst+sUR590A+oUE/PQiI35WQ5865oYB3wtPH/w24W8Mzod+\n",
       "j7gG5zKNuZYnfg8giRwUTj+Bet6ZBv2800fC875E53oad8mndSN2sLf/AVeRMRIgWZ5zAAAAAElF\n",
       "TkSuQmCC\n",
       "\" style=\"display:inline;vertical-align:middle;\" /></a><br>"
      ],
      "text/plain": [
       "<IPython.core.display.HTML object>"
      ]
     },
     "metadata": {},
     "output_type": "display_data"
    }
   ],
   "source": [
    "negated_real_power_of_real_power = Forall((a, b, c), Equals(Exp(Exp(a, b), Neg(c)), Exp(a, Neg(Mult(b, c)))),\n",
    "                                     domains=(Complex, Real, Real),\n",
    "                                     condition = NotEquals(a, zero))"
   ]
  },
  {
   "cell_type": "code",
   "execution_count": 77,
   "metadata": {},
   "outputs": [
    {
     "data": {
      "text/html": [
       "<strong id=\"real_power_of_negated_real_power\"><a class=\"ProveItLink\" href=\"proofs/real_power_of_negated_real_power/thm_proof.ipynb\">real_power_of_negated_real_power</a> (conjecture without proof):<br></strong> <a class=\"ProveItLink\" href=\"../__pv_it/theorems/758965f709ade0ade207c20bca757d3e57227b6e0/theorem_expr.ipynb\"><img src=\"data:image/png;base64,iVBORw0KGgoAAAANSUhEUgAAAU4AAAAmCAMAAACcXYLYAAAAOVBMVEX///82NjYbGxsSEhKIiIgi\n",
       "IiIQEBB2dnbu7u5ERETMzMzc3NwyMjK6urpmZmaYmJiqqqpUVFQAAAAnLjGdAAAAAXRSTlMAQObY\n",
       "ZgAAAAlwSFlzAAAOxAAADsQBlSsOGwAABIhJREFUaN7lWtuSnCAQNUnLVRrw/z82gAjIKMPMbmal\n",
       "QtXug9PV4LEv57RO04ALzc0OxBY2DbvQ3u5IYh4WT73c8VB2UDQFuWUgcDMmnAv9iV2NPL0MuXyS\n",
       "IdPdrH3HFgv/zlxWFy7xzhW9Y829wWm/MYqZvXKp0iW5ygEr59qbU0R8I5dQly4zReJ0PDjtId9k\n",
       "C3cAy0oTChreTYmDy4M7mlqQJuPBueqyETS6KTgmCK6yqR3CWTlS8N6mcjm4PLgzmLPdHScXUKNH\n",
       "yPUiIE0ru7iODBW220IX1uzN/Fe8dMlo6U7ldJkxlQVfBQYopXotlV2NNd+X3Orc1my36kbUa8+t\n",
       "9GVsKp3OpSCycCcynOgOJPbwlHyAXLcFhNjMJo87CcVAh3T8St+NkGWXhbuc7BOsRWuiI9B6UpC7\n",
       "diF0dU7HAAkEe/Hh9G7vnWuX2R1AQYld+Or4kJcB0JzWDIhpH1hgutHF36FEreFd4cJl5TK747Io\n",
       "7D4iyewXGYI1FY0d9wNLS0G2KBDt1ysXvtQlOKwokSycDkO/45+VnNgUIZd3u+aKtERkle8MvMXu\n",
       "T0ZQOBcro33pC68q7+GHFcIT2f9dUTiONj2zB+FqZrqgXRrhcWbR6ns0dE1KgT7ypAznbOLoIYTE\n",
       "3JL5vXSz4Yuyay1flSIfmPSBRwiwnCsfztZzhSShknDdDcCXZCpP8qFhwVsJFw4KB04Xo2fNx4xU\n",
       "BdenSl6svSnT8MU68mgNOWfgpBEhiv25hLDStNLCyQD8mEqzx/BsWTTgtDJtU7ObMjojnISHqtVi\n",
       "lao3Ojt8tSs7xqa+q1lGNVCZtYS7ooUq9fEuXJPBBhYwrMVxw+IIZ9q0KPsyFDBiniU7C/VKN+PP\n",
       "zH21s8dXG06IlDOSTzbLTcflhmXkcXIahWvR0XwqS57Bi2q2YXGEM22KQYX8cX86To5mXbeifIHD\n",
       "BoHZ2L25pum6U6D0+OrhHXJnx4jTJuxVOrZmmp1o4WzgwEJOC6kV1ey1RQVn2nSz1cUgjkB9w1DT\n",
       "H4+qcWq5QRWwlwN2+GqyrD13rMj1CGzgFptgNZMQStRjRCdcs0FIZapMVdMaFhWcadOSx23JvtZK\n",
       "jeQ7FVsKMwtUSAuN6cbcWww7fLXnM6p6+J52acYmQQuKAGUTi8K1MPBgKZWYxN4+ri2OcOZNfbL/\n",
       "/sVDsp+3oqlkaXPnXcv5Q1z64b0L8VVM+ezOrF7SQFUpbJOpXbhmg40G+UYTDJKaPbM4jc60aTGQ\n",
       "CVpYPZBhLJq07sxJ/NTgkdbPTaE2QIPE5SI3Xpe2nvMI32h34ZoM1AILnRjishkkNXtmcQZn3vSg\n",
       "zRyNR/Y4oGO1kn4anB+blPGGFGLUZ11VdcwrBucWTd5pnr19YGU1ZV1A8Y+NcdcX00Cxrxo8gfP5\n",
       "VIuXGS473v3Ax9BUr45U9ZcN2nCa5y34xu+36A+OON+NmS9IwH+9yIif1dC7jrlhwPfC0/d+jvDf\n",
       "B+dNv0d0wblMY67ljt8DSCIHhdNPoO53pkE/7/SRcL8v0bmexl3ybt2I7eztLzSOMRLNwWrZAAAA\n",
       "AElFTkSuQmCC\n",
       "\" style=\"display:inline;vertical-align:middle;\" /></a><br>"
      ],
      "text/plain": [
       "<IPython.core.display.HTML object>"
      ]
     },
     "metadata": {},
     "output_type": "display_data"
    }
   ],
   "source": [
    "real_power_of_negated_real_power = Forall((a, b, c), Equals(Exp(Exp(a, Neg(b)), c), Exp(a, Neg(Mult(b, c)))),\n",
    "                                          domains=(Complex, Real, Real),\n",
    "                                          condition = NotEquals(a, zero))"
   ]
  },
  {
   "cell_type": "code",
   "execution_count": 78,
   "metadata": {},
   "outputs": [
    {
     "data": {
      "text/html": [
       "<strong id=\"negated_real_power_of_negated_real_power\"><a class=\"ProveItLink\" href=\"proofs/negated_real_power_of_negated_real_power/thm_proof.ipynb\">negated_real_power_of_negated_real_power</a> (conjecture without proof):<br></strong> <a class=\"ProveItLink\" href=\"../__pv_it/theorems/6996a39106bd8027aaf04e1c4124372cd15e6ff30/theorem_expr.ipynb\"><img src=\"data:image/png;base64,iVBORw0KGgoAAAANSUhEUgAAATwAAAAaCAMAAAAdWRCrAAAAOVBMVEX///82NjYbGxsSEhKIiIgi\n",
       "IiIQEBB2dnbu7u5ERETMzMzc3NwyMjK6urpmZmaYmJiqqqpUVFQAAAAnLjGdAAAAAXRSTlMAQObY\n",
       "ZgAAAAlwSFlzAAAOxAAADsQBlSsOGwAAA89JREFUaN7dWYly5CgM9e6AJW7w/3/smBtfmO6kN/E6\n",
       "lVTKLQQ8nU89Tf/Hh0v2S5X99GPUvYyDb9zwRJl+KHZ25OAz/8YdT5SJZzojynKBTqQthDi8lgFi\n",
       "yHjYZmXt0hfW/6KHmfQPsddChOJEvIeq0ztSNfF5eMeibLOUejhdjQfzAOxEvrSFG4RNcFFycim9\n",
       "xhzyl8y1KkPYLCUeOF3SrxQPAE/DPnpzcLH8iJildHQLicdP1UtbJmV83izFZVXM3aNy4JJOr7th\n",
       "svg7x7A2x/qyvOYljbJ2qTTFNGsmtE9o4JZ02n7KWhOSyb4w4/5T6Q0w3su0ypqlPoInk2won+B4\n",
       "hKaM1z8t14RsPGSbN7UxBMcN1ihrlpJgv5n6Z4YngOfkNvVNwgER3bYB3Jul6UazCkGgQ/Vg+J+i\n",
       "0O10r4/C2NadlM/ibOmd3dyElKbNU4G+1cwXHiDOf65ihWlXjHBgepaC1E52bHQm0atOEIoCADkG\n",
       "g0zHpDFB42zC9buMZH7HuPeaRaxd3ungUL45cYytb5G51QaWwZ7pZQHiMyiIk7DvSLBevEyphVcH\n",
       "KZo8NrUMegkvoV9j3oqMW80YwbPkpFxondpIwOAyBnZMrwiQ9WcyeHS9nkQHPCfKNoemInteAm9m\n",
       "9RaXuektz7vXLBaeCm2magiGgGg7czRctVQyM73augdoCOo9dexJbMArm8bLQjwaNu3VRdjiEmhm\n",
       "37UsfSPnDWjmybJgU7OHVMSXWC5nhRUnTK8KhKAUrOFBkf/1JDbglU11oAB/1l+TGjq6bzNcWsdI\n",
       "vKKNFdh22l7zTvM/oFmlYiJmlwNtirxXlVMbNHjC9KrACo1mwA7UsSOxBa9sOjVkNII373MBmTf9\n",
       "h8fQrnlQDxC6F+cPt5pNPrLjNZUExmtkZIJ24lzxE6ZXBUJQgqoBlvJRR2ILXtk0mJzljOLBW+yF\n",
       "uXmMRXQEuHCkx/Kpege8e83a7Z3V9zYGceLVXKlg5OYrMb1GwEOjFOCOOnYkNuDVTX3Y/vsPC2F7\n",
       "UTAKM6ejUxFBP9SpHpjL7LOP8nFae2YBWoQiEIcymelVgdiIhHIQJDL/O5U487yyaTOmmDwlUu4y\n",
       "CM3oIFx/aNCGh/5ZaWMJmDBj4bUYrgHouw7ui19mekVASSJhQq1lksj871TiBLy66YbnrE2yPvb3\n",
       "JTmysdHIx2ZFpsf6EHz87PKFvRMYkOj1efZ+uO3sNjneJf5PDSnpq4oVfl2iC97AZKdMQcXItwjk\n",
       "U9i9/h2G+QaJHnh2pDDa3zD++dnJ8Rc8wqifBy9m47+slCsUQxiiFAAAAABJRU5ErkJggg==\n",
       "\" style=\"display:inline;vertical-align:middle;\" /></a><br>"
      ],
      "text/plain": [
       "<IPython.core.display.HTML object>"
      ]
     },
     "metadata": {},
     "output_type": "display_data"
    }
   ],
   "source": [
    "negated_real_power_of_negated_real_power = Forall((a, b, c), Equals(Exp(Exp(a, Neg(b)), Neg(c)), Exp(a, Mult(b, c))),\n",
    "                                                  domains=(Complex, Real, Real),\n",
    "                                                  condition = NotEquals(a, zero))"
   ]
  },
  {
   "cell_type": "code",
   "execution_count": 79,
   "metadata": {},
   "outputs": [
    {
     "data": {
      "text/html": [
       "<strong id=\"exp_factored_real\"><a class=\"ProveItLink\" href=\"proofs/exp_factored_real/thm_proof.ipynb\">exp_factored_real</a> (conjecture without proof):<br></strong> <a class=\"ProveItLink\" href=\"../__pv_it/theorems/08dabccbcb6ee0dc0c67071b964690d99f15535e0/theorem_expr.ipynb\"><img src=\"data:image/png;base64,iVBORw0KGgoAAAANSUhEUgAAASEAAAAaBAMAAAAK+ffyAAAAMFBMVEX///8AAAAAAAAAAAAAAAAA\n",
       "AAAAAAAAAAAAAAAAAAAAAAAAAAAAAAAAAAAAAAAAAAAv3aB7AAAAD3RSTlMAq1RmmUTNIjK7EInv\n",
       "3XZ/CtNrAAAACXBIWXMAAA7EAAAOxAGVKw4bAAADiElEQVRIx7VXXWjTUBQ+a9O1Tdps7GGgg1Hw\n",
       "wadJRRw4pHZsExWmxYEPKlgREX2QDnwRxE0QRRys4ItVmBFElAktCk58GGUiKiIoTAaTQYeiMt0Y\n",
       "gih7GJ6TNHf35qdLaT2QJvm+09wv956fG4B62pVsFc6h0/Afbbtxaii4c3ZrE+6SeEh1E+RLGufI\n",
       "sDtnt9fC3Xk8gtl6KbpfPo8ubXTlQPlcEldtdV7jKD+xiXopulE+L2pfXDn4GCoKhDqrJnlqFi+i\n",
       "qLGZkE21CQoW2eidrpyUlcU1Dcf9aZ6aJ5Uop4+gU7UpkgosMrpduUjKwkSGpeZrObSMQeVxfuQV\n",
       "gEt1CKgmc7BlmHLlmjJWBiIxnmqM488JPKMyJVabolEzQmf9WVeuMQVibYhqOwRKov/uBfCjssYa\n",
       "A3vRvLi85M4FexKamGv7SwKlUsT9xOPd3NzbGhW10lPbvpXcOBicvCiiNgAtgDEEx1DaHoBb9gcp\n",
       "1SjK4XE0E14x7/vnyD4wLvAK7gjzYwP0OftLi4xJNwjBZof0qUbRcUySFyC9d+HgURz6BdAG6Gv3\n",
       "G3+GMBHCmsLnZcfT7rNMEWuGZdTmZtg0+i9D1KmpEQcHAD6Z9/m0BWAmk6I8avGVWGCH5nMpVYGJ\n",
       "ApujNhG1ubF5iGT1hznP0RtjNCPDkhZgbY5o1YaoiqZZM+nFW1WFrpLS29/bZzZDhtrcuFHzJdgF\n",
       "TnFEK7oK/mVhNqyA8aJ/KI6oND0+gz/jiQlQqUThUAtJtmrYDHkUYDIBIkC2ARXFoNWXcZgj5ORf\n",
       "0JDezCuyAmKuwQUMbHkGFT7U+58SHIubiqgZ8ihEUyOCm2FYRMIl37RjNlCBGYOOpLAnsQFkfqpH\n",
       "O/VtFi6ClMTuO6APJd3OssimZsijWFIfCG6G4YvJ7c8Gvzspope+++Nqu9BlbYCe3pTyrC9GUth1\n",
       "O7HrxVRVOcjqETVDHoWXeAiAcxPl+2nKaw0x+1o5JzPhLu26/vJq4IjGN0MBpeCzu0kFD/uCdc3s\n",
       "/eU3yYwOaGFNDxB4Xl7icb0ZrqFyAU7i5FndMAGKFfb3Ra+KtlIssWId6NnyBII38erQ18K93QY4\n",
       "EqNmuIaGpuDctgWbG1pLhYFavCqaocyxpOt4LiesesyC+pzduL10hT34euZlnx2wNsPDrt8iFYLF\n",
       "5zGQvHyL+K1AfL3vtao5zvZRGuAc/AOD8BAyzQS4cAAAAABJRU5ErkJggg==\n",
       "\" style=\"display:inline;vertical-align:middle;\" /></a><br>"
      ],
      "text/plain": [
       "<IPython.core.display.HTML object>"
      ]
     },
     "metadata": {},
     "output_type": "display_data"
    }
   ],
   "source": [
    "# if we don't know the exponents 'b' and 'c' are integers\n",
    "# we need to constraint the real base a > 0\n",
    "exp_factored_real = (\n",
    "    Forall(\n",
    "    (a, b, c),\n",
    "    Equals(\n",
    "        Exp(a, b),\n",
    "        Mult(Exp(a, c), Exp(a, subtract(b, c)))),\n",
    "    domains=[RealPos, Real, Real]))"
   ]
  },
  {
   "cell_type": "code",
   "execution_count": 80,
   "metadata": {},
   "outputs": [
    {
     "data": {
      "text/html": [
       "<strong id=\"exp_factored_int\"><a class=\"ProveItLink\" href=\"proofs/exp_factored_int/thm_proof.ipynb\">exp_factored_int</a> (conjecture without proof):<br></strong> <a class=\"ProveItLink\" href=\"../__pv_it/theorems/b5de637517a9ad5a5b4a44a564aa7caad92c66140/theorem_expr.ipynb\"><img src=\"data:image/png;base64,iVBORw0KGgoAAAANSUhEUgAAAUUAAAAaCAMAAAAXBb75AAAAOVBMVEX///8AAAAAAAAAAAAAAAAA\n",
       "AAAAAAAAAAAAAAAAAAAAAAAAAAAAAAAAAAAAAAAAAAAAAAAAAAAAAAACXHtMAAAAEnRSTlMAq1Rm\n",
       "mUTNIjK7EInv3Xbt5cmRiLwgAAAACXBIWXMAAA7EAAAOxAGVKw4bAAADt0lEQVRo3tVZi5acIAyV\n",
       "NwRNW///YwsKCIj4mOl2ht32ZOckQa55XWYYvnppab7Q9X9fTJR/E/vQ8Hz1XPOd8E2L1k896oeG\n",
       "56vnWpla+KIFsk67GZHAA8NhsMiwm9FN19Eq2fadfOQyrPoAJxiQPzAcJjHosWfSdL1ZTRHgRSBb\n",
       "0LNPB1GNLXSYfGDIXSaCPgO+dp1ZYQRuEXiqulJ9OorctmoXJ08MT5tNcK1NXKqwghkyQZPvqZPz\n",
       "7uizPy59YngaMi3XuZVkuSADppZ+Ooh63hV7V5SYeWIoPa7dKanlOrfiJkvzgQVM5ceHIk57fDji\n",
       "I0PFGcNuc2+5zq0w1tpVGCe/RvvxKJL0ohWxqPCfGF52LWKArwJfmo6BH8SjO5scPoiJOSRGV5/M\n",
       "Pk35lC1ywzDD5lRjKxM6FxSJ/zWH/slKTiQe00syGsvd73Eo7BR6pcwuncBa3CWHDM8II1sgu/zS\n",
       "rhvecK1iywqCD0O762IaiTHuU/Tl1Cq7o5dRYXJvz0KjyBwrmF5GRUYgaq0pvAc+L39dL0FnhjDH\n",
       "lL/hGiKKQaDY6C2ch4BF9zMwwJpeJgX39jRV+5G9o9BBkai0ST2NxJAaTX6IG7F4aBhhvuNaxYyO\n",
       "gkxsECxD6x8e06EXFBF4RS+RFXWO77hmR6FAMW251iW7Phg0prUABsz+YdncKLcHdfHUcIuvM428\n",
       "LqpSsDQMjeCSb/kQtnP6jFYmYRLoJeRAMEV1zTU7CgWKaUu+EIRf7h8LA95UxTcx4ah07bv0Ktm6\n",
       "bHjHddWjPc0kMQmHlW0LlqHoOoOp6WWmMADm82vgmscKJYppy3Uzlo3JYzVwxAnNoG96/Prd3nXD\n",
       "G67ZWAtEb+xyYddMrtyRrhltBa3oZabgELLu0AAFQz1WKFFMWy5wm1hqvO5M228fCFqtCOqrKF43\n",
       "vOE60feax4PPLMPccbUd8roohIWSXmYKgmofQVEjVIljhQLFbUuf0b//mCWj293lwhXC0c3CU8Ne\n",
       "y2K1kHbzNUowyIfwddLx3QVsRi83BbvEv5iCQuSaLYVWLKYts5uRwZMvQc6vZh5fBr1+YVzc6ZSh\n",
       "zxlFy5YbnhDUQqK0A3AuXfmiG71MCowQlwbG98FFIXLNlkIDxW3Lgj+5qZvvJtD+tWqvn45vR5GR\n",
       "WmhibX1yVZlAX1bozYv0lL6Sp/dO5O0XVpOqhctVGl5V6KJ4fqsETy+e4N03Vi9878JeVuihSC+0\n",
       "APq0wNH3VsaP+A7w+XcTTPy0YbtdQSH8Ben/JgwvTYd8AAAAAElFTkSuQmCC\n",
       "\" style=\"display:inline;vertical-align:middle;\" /></a><br>"
      ],
      "text/plain": [
       "<IPython.core.display.HTML object>"
      ]
     },
     "metadata": {},
     "output_type": "display_data"
    }
   ],
   "source": [
    "# if we know the exponents are integers, we can relax\n",
    "# the constraint on the base 'a' to include neg reals\n",
    "exp_factored_int = Forall(\n",
    "    (a, b, c),\n",
    "    Equals(\n",
    "        Exp(a, b),\n",
    "        Mult(Exp(a, c), Exp(a, subtract(b, c)))),\n",
    "    domains=[Real, Integer, Integer],\n",
    "    condition=NotEquals(a, zero))"
   ]
  },
  {
   "cell_type": "markdown",
   "metadata": {},
   "source": [
    "## Complex exponentiation"
   ]
  },
  {
   "cell_type": "markdown",
   "metadata": {},
   "source": [
    "***Note (to be added):***"
   ]
  },
  {
   "cell_type": "markdown",
   "metadata": {},
   "source": [
    "$e^{a + b i} = e^a \\cdot e^{bi}$"
   ]
  },
  {
   "cell_type": "markdown",
   "metadata": {},
   "source": [
    "$a^{b + i c}$ = $e^{ln(a) \\cdot (b + i c)}$ if $a \\in \\mathbb{R}^+$"
   ]
  },
  {
   "cell_type": "markdown",
   "metadata": {},
   "source": [
    "$(a + i b)^{c + i d} = (a^2 + b^2)^{(c + i d)/2} \\cdot e^{i (c + i d) arg(a + i b)}$"
   ]
  },
  {
   "cell_type": "markdown",
   "metadata": {},
   "source": [
    "## Exponentiation laws for complex  exponents and positive, real base\n",
    "\n",
    "### Use $a^{b + i c}$ = $e^{ln(a) \\cdot (b + i c)}$ if $a > 0$."
   ]
  },
  {
   "cell_type": "markdown",
   "metadata": {},
   "source": [
    "$a^b \\cdot a^c = e^{ln(a) b} \\cdot e^{ln(a) c} = e^{ln(a) (b + c)} = a^{b+c}$ if $a > 0$."
   ]
  },
  {
   "cell_type": "code",
   "execution_count": 81,
   "metadata": {},
   "outputs": [
    {
     "data": {
      "text/html": [
       "<strong id=\"product_of_complex_powers\"><a class=\"ProveItLink\" href=\"proofs/product_of_complex_powers/thm_proof.ipynb\">product_of_complex_powers</a> (conjecture without proof):<br></strong> <a class=\"ProveItLink\" href=\"../__pv_it/theorems/c647d12ff7f47d56ad1acfc42f0c3d58d43316e90/theorem_expr.ipynb\"><img src=\"data:image/png;base64,iVBORw0KGgoAAAANSUhEUgAAASEAAAAaBAMAAAAK+ffyAAAAMFBMVEX///+IiIgiIiIQEBB2dnbu\n",
       "7u5ERETMzMzc3NwyMjK6urpmZmaYmJiqqqpUVFQAAAB6qHgnAAAAAXRSTlMAQObYZgAAAAlwSFlz\n",
       "AAAOxAAADsQBlSsOGwAABAFJREFUSMe1V1toE0EUvdvsJml2067V+kARKRZEQYqIilhIP+oDFVYs\n",
       "FbHYFOsKrY9IBV9gVir+iLV+WEREAioiKMYivlpiilapCMYiUtCPFGqxH0L9EFQQnDu72cdk0yak\n",
       "DmTYuXNm5s6dM/dMAGa8nAwXAPb1wP8pb8lPiunfZSEXgJhr5Ji9V5wxh4JxUn02Gp6IC8KfK3Br\n",
       "sfJOhyq47CY/odtoRGd9ZbrrBgAGcpzaj8WK4RG/SM6FKrwcxH0mjUaFstDZWxLrIJXiOpKr5uKG\n",
       "R8t9NRSVxsaX4hzy15Cq03JvyNn9GHaRpdOuQ71JqVv3SAwLEYp6jvarxXkkIpcfWcxIOLvXYyX8\n",
       "dB3qiYjpx+o+VU16YgbqzAwQqhwn+5NpTUKts/sXra+7DwVPSo9RuWagSsnJ8aniPIqSOXxmDKol\n",
       "ZoPXgKdn51ZKlNfGXSuNQYiiJELI0iKJXYEUXZJpnZ7FdF94V0nq2e537aFseOTvH1B01KqqqtVF\n",
       "ejSBeREvv39svuzkvGV4kHXZuurOZvht2hD1BGB/9iJ8IR6pOCke1U3N6ySwzRClibO3CstK/Ays\n",
       "gyMKm6sR1QX+dAFZ363cQBqQSYQNIC6xd9gNl2LMqJ1J6M2aClFehbdjh7ckLlseWao5N+E8EK59\n",
       "NBNzWIEUJYlOnISSjKgJv8FpaGY9egGwNMsjRAVlk9i+xWqM42FzyPSIqubR8TZo/AafQjaYcFgL\n",
       "trIx8oRt66KbdsMlVu7WgPAnO0aI6jbFpI80OQ4GZb6vt+95RjVFwjSol0EK2WD8DoBXrEfNMrx3\n",
       "7thmiGpOHgk/QJrMTiSI2n6FVA0Dm4FDZSIeVcbNGKFqLsLhb8hWNV0OKazpFLlImWnGMZrkfJtT\n",
       "MBHU7B7ZDOxdE/6S+znCekRRncjJZb5f0Ej5wftbkqZHRDUFpFLwojEvkUMKG7HPhUmEI9rmlYMr\n",
       "HFfCbnjJLt4Cw/E4a6SoMjyZOBHee9QjsTVsMZuoZgBDIjXpO0Q5pLDBQWZjAXLLhdFNXfMccbAZ\n",
       "Euzie+ecGM16SpkoT4yo7pCqqimO4+9b+YioptSjqod8pyIGDnTY8Tt2uYxl9HSKcj2vRGKimjXv\n",
       "oHKMxogL3LJOnKimjxKaMBsUXQ4pDJktuGu/e8mh/TlRHi16T/EqlEdQb5yuEKKqSTP6uafAyw1U\n",
       "DinMv1WDOjNr4PuoY+q1pHQ+HlmoQP+HbeA/QL7uLgjteWYsVEtV8zwemLBFfQIdKZRDCoOGnnaL\n",
       "BN+RjlM/IEq0fDxiUQ2q6kisQT1UG9U2w5ByhTHvbPeS3wt6OtRtph1Qcv0XQSJ9nPLhm9ejcFpU\n",
       "kj3lvP6vuT98lbyexwT1D9O7/RZHE7AlAAAAAElFTkSuQmCC\n",
       "\" style=\"display:inline;vertical-align:middle;\" /></a><br>"
      ],
      "text/plain": [
       "<IPython.core.display.HTML object>"
      ]
     },
     "metadata": {},
     "output_type": "display_data"
    }
   ],
   "source": [
    "product_of_complex_powers = Forall((a, b, c), Equals(Mult(Exp(a, b), Exp(a, c)), Exp(a, Add(b, c))),\n",
    "                                   domains=(RealPos, Complex, Complex))"
   ]
  },
  {
   "cell_type": "code",
   "execution_count": 82,
   "metadata": {},
   "outputs": [
    {
     "data": {
      "text/html": [
       "<strong id=\"products_of_complex_powers\"><a class=\"ProveItLink\" href=\"proofs/products_of_complex_powers/thm_proof.ipynb\">products_of_complex_powers</a> (conjecture without proof):<br></strong> <a class=\"ProveItLink\" href=\"../__pv_it/theorems/bccd67c0dc2a0ab585d368659da1164b98dbf4600/theorem_expr.ipynb\"><img src=\"data:image/png;base64,iVBORw0KGgoAAAANSUhEUgAAAqgAAAAaBAMAAACJC7M4AAAAMFBMVEX///+IiIgiIiIQEBB2dnbu\n",
       "7u5ERETMzMzc3NwyMjK6urpmZmaYmJiqqqpUVFQAAAB6qHgnAAAAAXRSTlMAQObYZgAAAAlwSFlz\n",
       "AAAOxAAADsQBlSsOGwAABq9JREFUaN7VWW2IFGUc/8/ezu66M3OOmqYZx3EkCFIcISWhsX64VEqY\n",
       "6BAkuVtJR9Fe1i6sDHPt5aAPXduHxE+1oL2BR9eRZedLK3SGutQqEkdJ7IFJfgjOD6EJUc/zzPMy\n",
       "M89zu2POgv4//Hefmd//tzO/fd5+MwB3ZryaVxxM77uV6kZcjZgj/2oo2rsW3wZCnuEJXVFOhbgU\n",
       "9X5E9ch0GM5lyC1QnyNkWtf90S5ixu3QOa0RllC0FVSQhyNS+aoHp8NwrpTcAvU5Sla9g0RdzxOK\n",
       "PbN+VwzEqx1OJCpftWlPM6g5V0pqBUX1/apHVoU6/rjYXNRIuJbGszyhmO0slBHaIm0kEpW/epEa\n",
       "IrhSUisoqv9XF3mijuGP/c1FjYRrZWS6WfLEPQ2D4W6Zqpil4YXlKP/Paf69Qw3BXJnNTDjBLIuK\n",
       "zwXIqvA6vtR8c1Ej4VoZRo4lbx47kT7vSFOlUe/Wp5pzoWr+vd+ZZto16rtRx/vafcZ1K4zZazGM\n",
       "OBcgq8IM9JGsNRc1Eq6VMbPMEo4pWAGJsBwzoa1WTHc350LV5vHq2AW8Xs2oqH8OcXmjORVglnsq\n",
       "Pnf24tnhVYysCmYlwjqEAJFwrYw9Dktk8jLzsqgJ5xS6zwjDH1Vb8+ARi3R+9fAjXFxUwYxbeg56\n",
       "cRLnzuXbyhcYGVr9H+zqWhpl9Y+Ca2XMZilzab4Nr82CoKhDK/dC+ku0+n7TZGpm1Vv0koFHnib3\n",
       "bM7FRRXMpLUMBoooiXOpwno4zsiqBLo5iqhRcK2MKywdKKb+op1JnM0ugxdIM+nYDWl4daeVS5i4\n",
       "0muOduF4IMAlRBXMin0qvhS4AJ0VSoZEHYJMXfnzyaCoahwDTSgI6N1ZRcWGRToyodZAKOTSpC8H\n",
       "o5PsJOesFbinKjBKvnz0b2cjTXm1XtfK7fMxzbUwhnPtWFrzeSiPWeGoUPTBPTBZpGRI1JSTDM1C\n",
       "b3xVNh8NlGNRQ7jza068L1jNcshPzzsx3zaYuwy6Y2375F7JHUoEQQ4UH9JkTEHC71H1v3H+DuA+\n",
       "f21/SdYTA8PVaD64EQaGuW5m33fDE9Wy/etPusMtW/UeOCyJ6sNhkJaE1TkO6vP56R2Xt8G6P+Dn\n",
       "XDbndQnhjnGh/nzR2gQHQ1fTF7TzIQ4cS2hqy0N/oBeQEw+BHhAnoXABGChVh+pUXDcROhUVSid9\n",
       "R4+iXYZ10oCcJKoPh0GaBuM2B40JP23g+bzHBjMHH5B2WbhjXJh8EuB7skPzx1jAkIc5/D2134af\n",
       "5Ju5CuZUlLuWqzPXQnNqZC5VT6XDH9ai6zaP7ejQThVAw/ssa/dndi55dPToWEBUjIPek6s9EBJ1\n",
       "7ggHdQo/fS++rh+QkkVY683h3B2Twg270G9LW97OgCEPcwRErcEVaZrW/4H20kQUUaXq9PX/y6V6\n",
       "YnCdivomGp8bDlTa6lod1pGVpdDzi6KnYpy+GJURkJbMbKwwUKbE/bSOZ0brXXLdv+L0jnDHpHBi\n",
       "AnxPm9g/XPIbcokDx2WaUra1xJDuZiOcH5FGPJ5YyUwqZli5mq7+zbiiBVv9oR0Nu7cXwMwC8oCH\n",
       "PFENLS+LinHGCLIVBKQZm/J8ocrmuRvP4t5obiA98xOamHMmhePjrMJ/MXm/IZc4cMyhSZ9cNXS3\n",
       "dDd9d70yKT0NJBPrksAMK1eb3ZG4ooXZ7X/0NwkDkKjBadd1a1ZBz5VkUYkjLqPuTECalhzmolp1\n",
       "7sbNfa77XHoXuaidOP0mPDkpfPlTMk6ColICdmlhDhxfOCzF/EyhHjdZVTximAfvpeElr6fCsC3t\n",
       "U70BVUyNOwSkadmDDgNhiagbT5PlGi0y4HhDd6dwzqQQL1R6ePhTAmrIJQ7v/2Qp3pjG+98CGRM1\n",
       "M4X66ikDbUa9PaNWVz+kbivuOeQQENpS9VBhesk6w9w4sV1vHYGkDbOwQU4I50wKM48XYSVotmef\n",
       "aaIEzJAHOJRPqeKLfiduMiZqtg77YWguZLagxov76TNpWdTssXNPeKDPF+Se/tY7OFCDrcDd+CAe\n",
       "tfoaF+2KtkJ6BaSK3DmTQujdt72Ajw7UmIcWBNSQBzhYZ+5mKd74MXYy6XVKr+uW1d6/AajG9vJY\n",
       "VP0xd5tYxC2g23finEXhOlImEVBDHuSg8SdPscbi2MlieUeVdcAoSm4cyMGPAY6oPPkRUhYm4IY8\n",
       "wEEj8I4qtjDt2MliERU/6+lRHMdvkyu4jypKyl5ZYwLgb6TJ+pljKc4YjJ8sqqhN3/vrimNO6LMh\n",
       "XFfzOmGBz8Qs6uG4ybSu5f8BWFQI1ecqc7gAAAAASUVORK5CYII=\n",
       "\" style=\"display:inline;vertical-align:middle;\" /></a><br>"
      ],
      "text/plain": [
       "<IPython.core.display.HTML object>"
      ]
     },
     "metadata": {},
     "output_type": "display_data"
    }
   ],
   "source": [
    "products_of_complex_powers = Forall(m, Forall((a, b_1_to_m), Equals(prod_a_raise_bi__1_to_m, Exp(a, Add(b_1_to_m))),\n",
    "                                           domains=(RealPos, Complex)),\n",
    "                                 domain=NaturalPos)"
   ]
  },
  {
   "cell_type": "code",
   "execution_count": 83,
   "metadata": {},
   "outputs": [
    {
     "data": {
      "text/html": [
       "<strong id=\"quotient_of_complex_powers\"><a class=\"ProveItLink\" href=\"proofs/quotient_of_complex_powers/thm_proof.ipynb\">quotient_of_complex_powers</a> (conjecture without proof):<br></strong> <a class=\"ProveItLink\" href=\"../__pv_it/theorems/34b8374b1e47af82356850070889d46b644a3a7b0/theorem_expr.ipynb\"><img src=\"data:image/png;base64,iVBORw0KGgoAAAANSUhEUgAAAPsAAAAzBAMAAACj52NMAAAAMFBMVEX///+IiIgiIiIQEBB2dnbu\n",
       "7u5ERETMzMzc3NwyMjK6urpmZmaYmJiqqqpUVFQAAAB6qHgnAAAAAXRSTlMAQObYZgAAAAlwSFlz\n",
       "AAAOxAAADsQBlSsOGwAABDZJREFUWMPFWU1oE0EUftvsZvOzTVJRUZSqxYL/FBHrpZIeFIuKK5aC\n",
       "WEyrNYL1p1Lxp4JdUbxZKmjxJDkoUqgYe6naUlOwSk+NFaQHwRZ/8GZ7KJaq6Mzs7uw2ZpvZZsR3\n",
       "yE6SN/NlZr5533sTAN4md8D/sONm4xOTe43KFT2UMlvlbItUyhWezlmeLGaa2AhPdKXdbAmlQpKl\n",
       "hzjGEf6aZra8KeunzGkbOMKvoi1PU5BtXm/5kU8po80weNJMffxJbvCeKHm0VV6FAvUVW5/ANDf4\n",
       "FWQhA9vgjCo/iTB2uscNfhN5PZCCbhedPvDafPk7ebwAWO2iVyzCCT6kM28rSDMuenlX8mIeOWrS\n",
       "JCgTLrRI4cW9VhLwpV8Qah9liMuGST95EV+PefUwkpzjMP+lRds5wR/VH4cXXhxvcl58S4vE5YR1\n",
       "RwDIrr3PE34ri5NNi9bJhKv7AJ7j59380KUfTESnWhSsk8giDSfgCnr46vI89pNMxwNp0fk4Ms2T\n",
       "MBgbAT/aDzGdH3zhLxYvS4vChjrHkqCgM+PPV+++s3hZWuRPAJGoMCLe5pKSLXnCCznjB5ZCS4t8\n",
       "fQPkDITRpvcAHMsTXpzK9ml3CbZNVAqzsAFRsQ18WbIT0Q18cCqHg4MUFqCg71XFhD0Breq/hUfU\n",
       "312iZ2Jx/5JZAiU0jl+lijORA95BCgvQ6S+MUObJxfGEIMKuKIUPYYqc/XICar7Cu6jNTTqtFTZk\n",
       "wId/mzbxV1jKKoUYHtoHzLe9KBgIAgxGKLwHfRJE7IAdEVCiNjdxP8DLuRff2nsnKcSLD3vvoJfq\n",
       "gV0gYN1C8IuSYm93LwmHrUWfYTke4DXaIE2P1sSttgURmBIlB/OdpBBTD64h5klr5GmoIXsq+upT\n",
       "dPYL1GUS3v7CmxqN1sRt1D6akOvcO0ghSRNCeIGTSAS6yFDBhjqLeidhKIAnq9SqNFoTt8FBN2HH\n",
       "QQrD5k/yJIQxGELxOC0I4iMLvhz6lY54/JTc0mT4ge524aE96M7ML17ETDbFNO+geo7MXgjcV+m5\n",
       "n4AKmfgg6oGqR2vihqkn0RMzz7Sl1TzKHq21S/WqZO9hh7EmUhRKlTo9Jl5/CmKkmkRr4ubbrUEl\n",
       "HWeW4Bq5BEumbUpdoO/NHvDhG4LOpdFDz4xJVcDlIoAbeN2lqngPNKdxtCZuUN3RaO3mWvugRi7B\n",
       "nqOZVh2PJ2YJqb4IO+MnjA/SWd0APtojsJFLMNi3ub9+kFmVOZUlw7YvPAleOVoqU9cdOZS2dDWs\n",
       "saL7JoGP6WWGrqtmLsGQpfAqM4Jllq6auQRDacaryArMzKfEDPMqMWH9fErMYW63K2SkHCWmw6UA\n",
       "t8uVXCXmv7tcUaYYSszMqofjxd7t3CVmpj3meKvbrLnuspHjtaLgukzkeqnKeI1us06e6OB3WabK\n",
       "d7jCW38nsNlBQrw/N8AQ3lEOwsYAAAAASUVORK5CYII=\n",
       "\" style=\"display:inline;vertical-align:middle;\" /></a><br>"
      ],
      "text/plain": [
       "<IPython.core.display.HTML object>"
      ]
     },
     "metadata": {},
     "output_type": "display_data"
    }
   ],
   "source": [
    "quotient_of_complex_powers = Forall((a, b, c), Equals(frac(Exp(a, b), Exp(a, c)), Exp(a, subtract(b, c))),\n",
    "                                    domains=(RealPos, Complex, Complex))"
   ]
  },
  {
   "cell_type": "markdown",
   "metadata": {},
   "source": [
    "$(a \\cdot b)^c = e^{ln(a \\cdot b) c} = e^{(ln(a) + ln(b)) c} = e^{ln(a) c} e^{ln(b) c} = a^c \\cdot b^c$ if $a > 0$ and $b > 0$."
   ]
  },
  {
   "cell_type": "code",
   "execution_count": 84,
   "metadata": {},
   "outputs": [
    {
     "data": {
      "text/html": [
       "<strong id=\"complex_power_of_product\"><a class=\"ProveItLink\" href=\"proofs/complex_power_of_product/thm_proof.ipynb\">complex_power_of_product</a> (conjecture without proof):<br></strong> <a class=\"ProveItLink\" href=\"../__pv_it/theorems/12fc088e202f050a39a132c6717dd351d11be96f0/theorem_expr.ipynb\"><img src=\"data:image/png;base64,iVBORw0KGgoAAAANSUhEUgAAAToAAAAZBAMAAABTI/9DAAAAMFBMVEX///+IiIgiIiIQEBB2dnbu\n",
       "7u5ERETMzMzc3NwyMjK6urpmZmaYmJiqqqpUVFQAAAB6qHgnAAAAAXRSTlMAQObYZgAAAAlwSFlz\n",
       "AAAOxAAADsQBlSsOGwAABEJJREFUSMfNV31oHEUUf5vbvdxnshGLirEcIVJJEGqxKmJhI7RWY8OW\n",
       "hkiJ9C5Y19L4Ea3gF5gtSv4RwhVsEVvkIIoolR6lVOqF9gKmEBRcU/+IIHiBKhQUIhisQsH3ZmZn\n",
       "d+/mDsGj7YPf7sy793Z/O/ObN3MA18f0XhNuXhvo3HyDGSQEFO50wZhq+MEV96GFqB/7TR71f+wu\n",
       "gTpL4ZzGSo1+zeP3jtKhiJ/6lEOokeOndpDLWhxhG9uCl16Abrcx/gdxPwtP+S7jmZzo9/K8r8j7\n",
       "QTvY7RWI2HFE0oZkCep4g1EUjYdDzmRZ9DGH8DbNcKEd7OYFInYNkSlDYn7BrvslXRWNqyFntyf6\n",
       "mEMgkrrXDnabBSKaW6frVlV4zG98CLp0nrL9/laGDH5Csi2yK3JEy1yOridU8T/6jfe+3SCdj8r+\n",
       "CY4tfX33t4Nd2uKA2aHDgY5WN+K8jKjiz5CkLt8eLdIf9fwuWiMcXwI8q6jtagpWc3bJKkfqIXhJ\n",
       "aix/1EAZLckv6GNW8wd0zo2vR1bK33ZerO4ljllI1BQjoaZQbs6uw+PYU4XT0vmzDfcBXFLF34tk\n",
       "HoF0LqKOdYiJwbzEEbf1cKlcfvz8kYDdG2I1Z/uPXzEV7LTJVX8aqeASLgD0s2Eg5zmAPwGmVeyw\n",
       "cKTXoMOSw0ZvLUK3cExzZE25KDo3OiVNh52WZNdFsS//ehBMS383yo6CjRfd7P46dg+A8Q/1B+nS\n",
       "DymsKXNN2MUKkJcjQ/HI9ZSoH3MCRbnNVXAv1DRYNPXK6Qor0zH0pFGZYJqZ3TBcGayUwsH6boCv\n",
       "ozNr/AGZtVC5S6OwllW6w5nNm/BdhDGWuwtCs8sCu47iZXRhJ2hUH5HdhrIcu+meX9imguy08WDs\n",
       "8DzEgp9+M9is4yaDcQ26iiv+6/4iGcJF1dhNIDsPrmTDe1z3FEqR20WBd/BTjHs6r8IYU5KemKhK\n",
       "drfYdxpMeqY10xuww/MQC15ZCa3yGscELJelAH6DSVE8GmyEPiY7GFl+XdV4OVRwCF00e2U8f51k\n",
       "7NL7C8GqeB6WUmzHMc/uCNYsnYdY8OJiSIc5jn23vr4qT0v7hil7QMXuFRyT1cdmb4tUlMtyKxwI\n",
       "5cVKWg2WHMfxNE3/Iqh3D8L5zDHHeQFn9glP1jsSPwt+7dPQozcJNB7wcsoKNNXyrJgL5eXd+KL9\n",
       "Khs7LfVxsGGvwbZOi+vu8+2BPFArLJhWheF7vxForJ1VlTdTbrnzVEN5MXf6pB23me5gu8gzLLg7\n",
       "U+A7CVaUcRE7ys5DLDgx7MKQ/8C4y9FgM2oCB1qxmwnnpea/fxISz2Hrszus8XNCSdvgrR4MwilI\n",
       "HXnfqIgt/pBH5yEWDKPHJuUE0fIxCv+dxlgrdgca80YdJ3LCzvK37nAORsI8ZTDAYYH6/cRtIq0W\n",
       "/9Iop1meb58ovSn75vibp1QzZK4fgX8BXngGxhVjeHYAAAAASUVORK5CYII=\n",
       "\" style=\"display:inline;vertical-align:middle;\" /></a><br>"
      ],
      "text/plain": [
       "<IPython.core.display.HTML object>"
      ]
     },
     "metadata": {},
     "output_type": "display_data"
    }
   ],
   "source": [
    "complex_power_of_product = Forall((a, b, c), Equals(Exp(Mult(a, b), c), Mult(Exp(a, c), Exp(b, c))),\n",
    "                                  domains=(RealPos, RealPos, Complex))"
   ]
  },
  {
   "cell_type": "code",
   "execution_count": 85,
   "metadata": {},
   "outputs": [
    {
     "data": {
      "text/html": [
       "<strong id=\"complex_power_of_products\"><a class=\"ProveItLink\" href=\"proofs/complex_power_of_products/thm_proof.ipynb\">complex_power_of_products</a> (conjecture without proof):<br></strong> <a class=\"ProveItLink\" href=\"../__pv_it/theorems/90968de5d280d07390be37796acd73e0b85011fc0/theorem_expr.ipynb\"><img src=\"data:image/png;base64,iVBORw0KGgoAAAANSUhEUgAAAy8AAAAmBAMAAAA/5LlWAAAAMFBMVEX///+IiIgiIiIQEBB2dnbu\n",
       "7u5ERETMzMzc3NwyMjK6urpmZmaYmJiqqqpUVFQAAAB6qHgnAAAAAXRSTlMAQObYZgAAAAlwSFlz\n",
       "AAAOxAAADsQBlSsOGwAACNBJREFUaN7VW2uIW0UUPneTm9zNo5tqfaHWUiyKi7CI2lKtpsKqVVui\n",
       "roK2dLegsbQ+Uld8opv6WPFPN4KWggUD1frGqFXpbh8puoX6jGt/VCuaQhX6r4pCLZZ15sy9M3fm\n",
       "zt17F9JLMz9OyJ1vzpmZb2bOmXMTgBDlt8n/4JQr6UYERnZGNpy7CkKmJycLoRr9Cqdg2RUF+c3I\n",
       "hpOcJyRArH2JyVQiMLIvwgF955LtTMxgIYJVfEWEA0o0hGxnYl5pMQcbNQ878zroEwPT1RPKuImr\n",
       "gMk2Jib7T4sVHtYFPdrpmZGfrp5wxne5XGf7EtORb7HC+ZpnF2qRsdJ09YQzPlIWsn2JGWqxi0n+\n",
       "OdujManflUMzf5+enpDGE7jWmGxfYv5AabVEF9VizDNqnjOLOZOyjITTCue6QOVgPV5rWuOZHow2\n",
       "e9qbGHbjPb8lulI5slDr3vi7q06l0ZCRcL87ilZrdXrkcr6fcesEEnXCJgavUL8EEhMGFmFJHsMI\n",
       "oEWO5jzqOLyXySHcDfsVJHEIrrvt/hB65Kgl72u8G79328SM0s9NgcSEgUV5vTyKCYwWaessQBfE\n",
       "PCme7zF+rShIOAqL+HdPrU6PnHrxN74dv2+3iXmGbp+BQGLCwCIsM3BCdrSK5hp0FPZ6Hh/BrExd\n",
       "QcK8jJgHT61Oj1R2+Bu/ALgkxNA1EG8EEhMGFmGJ4XnR0yp1V0Dyo5zn6TVoSUXCUzNd/QijRyo9\n",
       "/sZ/K3FJiMkQzjuDnX8YWISli57U2ZalyzZrn/5NxU9TIn8Ko0dyMRV/40MNLmlUdtncuZeHiMpC\n",
       "wKIkhh4hacrOhsXrlfjz8Nm5YAVys2X+kd82WaWCnLpWUzR95o3661xSYj4HuDcEMSFgEZYRuqw6\n",
       "yRBSC+AhOebfUk4Ep2uUZjz+Tc/F0hSB62ZZ5T7vavev1cUZdX/jXTkuKTEbwNIHeHGJGBt2wB9q\n",
       "Lxs9AvICIcoB3wFo4a5IlhLTQcTtdfhYqjGvhvScwPlRmv2oDcmRmEtllQpy6lpdKqnhbxzPZyYp\n",
       "MYlCvCo3fnZbNUMcX1oihsEyCnRiya6XwYYyvIrIXvjaETrDNXBrBC1WBxfpWmPtIX4CfEhbxojY\n",
       "jRmtFXhym//SRkdpHq1vGaZN+jVeCJ/tlhNhQ9pddZzKhY5Kc5+ERGOilhkckozIhTUQffYa76px\n",
       "SYnJ5txOPTm7WM02e+FTlRgGW6lAjTjcmLehKSTcjYB1f6yBXD7+vD3TKeVytVLpuxZ+2DZlPljO\n",
       "3iPtGDrIK8E8DsmZc/jdLDYA/VXSHNdkhyY9gs+wmev4898xCx2V606Tkd1SLTO4RTKilG5w91lj\n",
       "XCEGKntcqDESrGX3pCGvEsNgowrUMGA850BfBQWR/pweSLnMrfZMM4Qoo4pj1MLn26bi5PGX6lFm\n",
       "/ol3zaw4vPpz9GJ4HEamygHbzcTG1/kYfpQxlQw04TnK3AYnwhxlvsYVHwNLyfgzO9bNNvaWwKAh\n",
       "Qfbpt8m6Hft4bNRNDIUBmYC+PTeyk4VCCTFn1BzoUmAI85ZZZZ7AIDNtLIebx7rHqjZCFDfWD04z\n",
       "r2hqxZOuBOAIfZLIgXmC3DUPSMQ04Ei2PB5ADDZzBg2gvRRaGJWtclSyCVSQq2SDewOJ4X3WGGe5\n",
       "uS4nKoPnyPpYsaUeaxpNuBPP+VLvz94dQ2FWBcyLWZ6KQY24taruQA8CIuC2MssymXhDzuWHz3O2\n",
       "wEF55C6sL5xmXtHUAXek0E+XVbxJZ2aiVnMTk8hlu2l3rpMPd3ros1PenlDSzBk0i3p124oFs7bK\n",
       "CfAil8kGt3m9imKY91ljHENNJpGYGYS2F86BrhKJsd9nxKSNAQ8xFJYagHQt2QMWiZwRaqTvGeBe\n",
       "fSsgAsZgEFI/jEIKV0Dus+vBmemtsne1sc5XLZxmXtHU+Lj75k/rk4SOlbMeP1RyE2MeumHDWeLn\n",
       "Js7hjod+t/ButJkzaIBLtKv7Kioe5iqRGAX5sGzwEq9XUQzzPmuMD1W5FGn/Q2SCyPm3r1gsNrIl\n",
       "M1/xEIOUNYn3IjQ/TXqBUMOIf8CJeZQhiEecDTHoh8zGYvEBcjbd1HBm+lE5ArOxToymhdPMK5p6\n",
       "7C33dQB310VckydAHg7zQsMeNFj6+BrjwY6S2xeoSFFLDVrBcbros9c4e5ONUhAzH86EkSQ8wnYM\n",
       "fJBT7zGMbxKBlBPjBSDEINQwUm8UHOhBhjCPwf13WMRsMs+cxru99sVEOcocbGbnN6P7Sz5wmnlF\n",
       "U9T5m9xJY8rpa19irJpVDp4ke9BKKpKXT5y0pSBGRfJaNOijRypf+xu/TkhOjHWUMLg3TW4r7Hph\n",
       "NNWbv+OuY+Wh95EYhJJwuZf3fCb0oUNfkDxOjp01dqqAxBHLBcIkIT8TAps9ExbS1xQaeB9mXtGU\n",
       "dXMZFvMJwbt2ouxHzPBjTwVvGWfQMKyv/x5VrHYT40GudhscDrFLnT5rjD8oJCcm1YRNsOEMsO6j\n",
       "B+cm+8WYl5jVkNrxwy1AiUHoO+fkl28XlYMN2tP3vp1VhzTZ5MPULb38ijlW4YjkIhgsJxcQ4cLe\n",
       "Z1boD1418MEGzbyiKejbuLbkCqt4uEC6suRvJUtw7eRk8Bw5gxZzr1xFGzzIIeX51xdrkHe6Da4O\n",
       "QYzTZ43x/4T0vlruKxar2lwZK2/Yn/M0UGqywRG9BnlyfXGNisjybwI7J5vvyOjhDZ9erUW5viWJ\n",
       "N8Pn1EvgWWDlpkJOXasr6/2Mp44JOe13/mmmZt3lmlczpC5VcBCdk39pEfAm7wfHmk2jOuNsP4X6\n",
       "8kUEmdJMD0RZ4hUhp/9jjF5/1FdkKIEI4K4uACsU6o+Z6smfKSlxcvILeydty2kTY/qjCmERobTp\n",
       "4J7ldZLLkkiJOd0l2/i3y/OjWMOlKEe0yCXbmJgo/iERyV89eBRQEbKdiemsR2Bkc4QDeq4sZDsT\n",
       "Y14cgZHbytGN51IhQxNzSv4H86UI/rlkvRrZcBJ1IUP/B/OULFYUnvnFyIZzt0vS8j8Ui9vEjkSI\n",
       "zQAAAABJRU5ErkJggg==\n",
       "\" style=\"display:inline;vertical-align:middle;\" /></a><br>"
      ],
      "text/plain": [
       "<IPython.core.display.HTML object>"
      ]
     },
     "metadata": {},
     "output_type": "display_data"
    }
   ],
   "source": [
    "complex_power_of_products = Forall(m, Forall((a_1_to_m, b), Equals(Exp(Mult(a_1_to_m), b), \n",
    "                                                                   prod_ai_raise_b__1_to_m),\n",
    "                                             domains=(RealPos, Complex)),\n",
    "                                   domain=NaturalPos)"
   ]
  },
  {
   "cell_type": "code",
   "execution_count": 86,
   "metadata": {},
   "outputs": [
    {
     "data": {
      "text/html": [
       "<strong id=\"complex_power_of_quotient\"><a class=\"ProveItLink\" href=\"proofs/complex_power_of_quotient/thm_proof.ipynb\">complex_power_of_quotient</a> (conjecture without proof):<br></strong> <a class=\"ProveItLink\" href=\"../__pv_it/theorems/6056754fdc287769b7491ac12ce484844c27fb6b0/theorem_expr.ipynb\"><img src=\"data:image/png;base64,iVBORw0KGgoAAAANSUhEUgAAAREAAAAyBAMAAACJ9fKRAAAAMFBMVEX///+IiIgiIiIQEBB2dnbu\n",
       "7u5ERETMzMzc3NwyMjK6urpmZmaYmJiqqqpUVFQAAAB6qHgnAAAAAXRSTlMAQObYZgAAAAlwSFlz\n",
       "AAAOxAAADsQBlSsOGwAABVtJREFUWMO1WW9oHEUUf5vbuX+7d7cRqy2GGkMK1ajEIm2RRrZCamMV\n",
       "17ZEJNK72npCtXgaP/gHvJOWgojpFRIRC+VA/VCp3NEPrfVCeqEUCQg5I4gfhCYYiwXFC1gSG0Od\n",
       "mZ39d9mNe8fcg9uZebe787s3v/fmvTkAvvJKE88MasBf4pUGH9g5CRDa1AIk8w3e31YYxtcZ/kDk\n",
       "fIMPXIDn8VWc5Y7kWG6NRXCTx/TmQe5I7ltzEVxkSW9+5M1ZuZd1pCrroDHbIrjIZyCSJlLijCSg\n",
       "ss4E/ozs/ABf39Rsi+CQ8Px6BT76fh3pR5c4I7lXs4gb3Q6v46E8a1sEh3yeC940B2c4I3mYtcMY\n",
       "wr4KnCf9o7ZFsAvaAVKnObrGlyihRdYZxZ/LAN2kv4/MwRbBLlIN2lRzlFT4BlhG2Bix+lZAt+iM\n",
       "HrEikIJkwRwFO/kSlk1KfitaALlGielBRmyFaZvX8aVslm06WbwgaAXi+Z/J6LAHkirciJmBEP3L\n",
       "13XYi6+Ty0GYKdEoccX95qAS65Gs4eNckRxiLf19B+58ey5DOierrjejuSdH7raGLwHQtf2FC5Kt\n",
       "zIWca97mK34+C/AtaT/lAQQtM/bVnO7qa3+eLsD7hN8pLuFkgTmzc2qh5ovtCkQw0cUqDySxFacz\n",
       "G+pFPw8nSyBj14vw2YnZlAnVaaoVPw8nMPwtXV2PckEiMKYmnLmsv1CRwAS5CPAyFyQi21rr3XbB\n",
       "Im8XFbf4H8DkGoGwy1ei+2zqGkgkhiRbh+RvX6k13niCmliwqWYGJk6R1+qjd5hXxbpP3yDb5arY\n",
       "cNfEemMbjTMnKZLXJW4ToeNl16lvm6IjwbtnTDEJG9qYLggi7FZNJHFihDeuHwFFFY/XISHqwd/h\n",
       "J7UOSb1Nln3ZhOzjeTPvLuPwLAhwVTGRBLBGwkwCRZGfcyKh6n4FZPV/VscXT8jqwDMk690/uRsE\n",
       "QnqMZF1JLJ8v0+Cbbf8NOoAiEYZgT7mnXDCqBqJG3+GhsaGKzHdO1tWBvnyHMBaOYYxoM94tBqkv\n",
       "iuGDFdMmd2j3IEoVRT3RYdkEVw1UHfvYVuAIi675V9hXPKHhME5WoBTqhXP0fdLhlMXY12AqSn+i\n",
       "cmEXWEhw1UDV8ova6sgWcNI6dMtXPDEeChSEWZhKp9NVQRC/tpBsgwn5k3T6KF6dp6oWElw1UHXo\n",
       "3YwtrLMpI9SI6FCnLZd0OyHY4oj2BtuSueBV7S1qEyH6hWbGkxr0hVSdJ1/1W/EEM0JXY8aCYZYQ\n",
       "I4Skp7NGNSV6painyZcdirkDMpvksue0oEZ5Av3sHUiFTXJKj8DYi4fAVJOqgaqPfwOiUueusm6E\n",
       "BHOhoFf5TfjzQIhl4dcMh4uO//A0hMkxzNkN6tAl9iP74L12gBN4BaKnRlE5b6pJ1UDUgAbSF81X\n",
       "38+Q6hQtaq7bkClRDFhKoYwz82SyP50uODZ0/c270kfAhxp+Ze2r9PoEGxU9zg/IqgXM6f5am9Bf\n",
       "NqSGaWYFPYc+0/4nbQc87o7MbawmcnWZp5dUGlKbwZVWVOgfLUnn6fPKjcbQUqTAfCC80JLKS8zr\n",
       "zhsgXBZ6Pe7GpfAj4fFJrRWVl2RMuk1PpGnyFvDKTC/Z84U432o0akTTKb0kLRIQG7zu7oaotQ8k\n",
       "+Fbo0GOQsULDyWVs+fB28Awn0s1VZOclxvvQZowkg3bg7l7PsmGRHLHUn7xwP936UIN4JViiW6iX\n",
       "/MHiTktOt2TD3OEMoPlxYp2C580H9lgmCXI/kB1t8rki95P74Vxzzz3EGwgIzRXYLTgtb/gfBF3O\n",
       "8gcCkWZq/dBYC5A09U/TC5Sv/wGaWFd9boZ4FwAAAABJRU5ErkJggg==\n",
       "\" style=\"display:inline;vertical-align:middle;\" /></a><br>"
      ],
      "text/plain": [
       "<IPython.core.display.HTML object>"
      ]
     },
     "metadata": {},
     "output_type": "display_data"
    }
   ],
   "source": [
    "complex_power_of_quotient = Forall((a, b, c), Equals(Exp(frac(a, b), c), frac(Exp(a, c), Exp(b, c))),\n",
    "                                   domains=(RealPos, RealPos, Complex))"
   ]
  },
  {
   "cell_type": "markdown",
   "metadata": {},
   "source": [
    "$(a^b)^c = (e^{ln(a) \\cdot b})^c = e^{ln(a) \\cdot b \\cdot c} = a^{b \\cdot c}$ if $a > 0$."
   ]
  },
  {
   "cell_type": "code",
   "execution_count": 87,
   "metadata": {},
   "outputs": [
    {
     "data": {
      "text/html": [
       "<strong id=\"complex_power_of_complex_power\"><a class=\"ProveItLink\" href=\"proofs/complex_power_of_complex_power/thm_proof.ipynb\">complex_power_of_complex_power</a> (conjecture without proof):<br></strong> <a class=\"ProveItLink\" href=\"../__pv_it/theorems/0c0e461177c6aa42f008693f288e6b2d818e23c60/theorem_expr.ipynb\"><img src=\"data:image/png;base64,iVBORw0KGgoAAAANSUhEUgAAAP0AAAAaBAMAAACOWkf1AAAAMFBMVEX///+IiIgiIiIQEBB2dnbu\n",
       "7u5ERETMzMzc3NwyMjK6urpmZmaYmJiqqqpUVFQAAAB6qHgnAAAAAXRSTlMAQObYZgAAAAlwSFlz\n",
       "AAAOxAAADsQBlSsOGwAAA9dJREFUSMetVl1oFFcU/iaZ2d3szpoxrVZpDBIUJXmR0lYpCpMHf4JV\n",
       "phiU0mASSKfF9CfFQtsUmgktvhRjfDCIhLKgRQSl21ASNSFu0CjRQlcLJQ99SCANzYOQPARCodBz\n",
       "7s7Mzmxv49rdhb25c/PtfPfc853zXaDcn+jg2v//oh3l/zwMzOfXhq4zvVmibPTJdOBh99rYym5v\n",
       "FivbSbwtXuee/3KdJaZqrSHD9q7/g/80TQKT5eL/gIctubmyXUnHmbkhukuGrbFeprEidZoGC5jl\n",
       "td9Lo48xUdLNaySjD6CWstuudcv3Oq2ZGMEJ2iqR3+a1i6XxJ0wvByK/iVlUWahMycG7MRHdgzd4\n",
       "qq0AX5VBCNVMNe49oDILPY1qRw5ewj4aV8V8CLxTqNnS+HvpHfCSXWHdp/E1VKVgysDbdY72ElQa\n",
       "RwA9Q3soUX41nP4Br//8aIjIYuOTlgz85Xoev/15A40v0PeV+vpXS+Rf9DTQ39TnLh2V6nR+U7gk\n",
       "f6AdjgLv/huqPg+/Td8qOsf4Hnzsxjzta7NefESZXXYiK+HEUYX0IzYrkfTz8H/HaScNHctg2F36\n",
       "VQLT9iKxNbRyjoQbsdRgpTxpnjif58+bxcaJ8NkpXXPeWaORy45ecgfY5kUmK9MlVIQl2UY/Shq+\n",
       "/KJ1dkpRccj0+YVZfLJwCsf/xG9mAKZ95CQ7g/Ez/+vQ/nKXLss6f7sgDMbPHWrAb8Nj9KgomDLU\n",
       "seGx255ZJEgh2G9ANwMw9S3gXsH5a8vQl7xjlOS/zcAvBYXLPeLIBRpaJg9ByUDwb0j78bNZ1HLq\n",
       "HtDGnZypCFhrj284wAK3XQPa31g3MJNbui+Jvy2LxaRTqH98TXvTdkZXcVzkVY11ZHx+MguNJZA8\n",
       "6/6OTEXAZmYCr+EyVuktHXiSdp34Jwl/xEg2hnV9V+SYzzhNZnVd8Cc62/P6I7OIc7h6a66u2FQE\n",
       "bGqqIIwoKfvki5/PuZ7TINP/3MH+l0IrE740UuRF07ZtZxVFvZGvfzILfdC2P4z2dLs45GCfXQ0K\n",
       "i1W1I9RpthZVuEN+apzIlPWpiF+JX7GCZhEVsiP9gZbZVASM9aeF/O9RqNQyxdBrfjeqdHqvWxFL\n",
       "5B/73RySTbNZiO74zU2oRoswFQGLHXbQ5Ncte08kqKwzRYWv+40vPv74TcTeo9m1zeY7t9zX7hNm\n",
       "cYaPXmu2R3E6y6YiYGgZ7MpfL54yImji7xfFX1Fg0S22HeoPydwxHLBPuQtZKcy9e/QFmqNTFP+z\n",
       "7n/fFzzHrf+6/5r/69r2rGtPoYj0ou7/xV/bKJx/AE7K3o1bFqxoAAAAAElFTkSuQmCC\n",
       "\" style=\"display:inline;vertical-align:middle;\" /></a><br>"
      ],
      "text/plain": [
       "<IPython.core.display.HTML object>"
      ]
     },
     "metadata": {},
     "output_type": "display_data"
    }
   ],
   "source": [
    "complex_power_of_complex_power = Forall((a, b, c), Equals(Exp(Exp(a, b), c), Exp(a, Mult(b, c))),\n",
    "                                        domains=(RealPos, Complex, Complex))"
   ]
  },
  {
   "cell_type": "code",
   "execution_count": 88,
   "metadata": {},
   "outputs": [],
   "source": [
    "from proveit import theta\n",
    "from proveit.numbers import pi"
   ]
  },
  {
   "cell_type": "code",
   "execution_count": 89,
   "metadata": {},
   "outputs": [],
   "source": [
    "# complex_power_not_one = Forall(\n",
    "#        theta,\n",
    "#        Equals(\n",
    "#        NotEquals(Exp(e, Mult(i, theta)), one),\n",
    "#        NotInSet(frac(theta, Mult(two, pi)), Integer)),\n",
    "#        domain=Real)"
   ]
  },
  {
   "cell_type": "code",
   "execution_count": 90,
   "metadata": {},
   "outputs": [
    {
     "data": {
      "text/html": [
       "<strong id=\"unit_complex_polar_num_eq_one\"><a class=\"ProveItLink\" href=\"proofs/unit_complex_polar_num_eq_one/thm_proof.ipynb\">unit_complex_polar_num_eq_one</a> (conjecture without proof):<br></strong> <a class=\"ProveItLink\" href=\"../__pv_it/theorems/0f2bfbd8453fcf726967d4c367268e80e88327920/theorem_expr.ipynb\"><img src=\"data:image/png;base64,iVBORw0KGgoAAAANSUhEUgAAAMgAAAAeBAMAAACbEUyfAAAAMFBMVEX///8AAAAAAAAAAAAAAAAA\n",
       "AAAAAAAAAAAAAAAAAAAAAAAAAAAAAAAAAAAAAAAAAAAv3aB7AAAAD3RSTlMAq1RmmUTNIjK7EInv\n",
       "3XZ/CtNrAAAACXBIWXMAAA7EAAAOxAGVKw4bAAAC0UlEQVRIx72WTWjTYBjH/236kSZbWxUGgyGF\n",
       "HSbioR6KnkYRlU5QwkBv4qaCOGHW0ygKKl7VlY0dul0iiCCCi6Jg56VednAUKgiDaTFST+JgFz/Y\n",
       "pb5v0nz4mo+SOp9DkuZ9+v7yPv/n/SfAv4jD+A+xRg/xU+oOTZ+zLh/LU04Z+Z4ZYdsU85hzSin1\n",
       "DHmkny7Qam3hvFMK13MR5y1IpIxfjjkbQJqehwMy4jUD8gT9S8+22HGeAPAZOEZ/XAoIiSgG5G4x\n",
       "VYywGj84vk2OyzJu0wcqB4SkJKtcKfQV2fEkhcSyiMmAmAkImZUtSEw+AkcIEYvLkvGgum/SmtTz\n",
       "GiT6OuMMSRLh6s3mWlDIACDUh9+4jmuQKDkUgEWfuZKjLgMVINTATdl+72STxjsLwpPOvoZ42gfy\n",
       "KuQyMEn0ziKR9VxJ/DuQkEXJsT2t3VAO3XKe5D3Rvt1uK54QgUDCasxmoeEPFwf0q4SZKhbu2Qoy\n",
       "tDT2wraS2ZGZGdl7JdQIJkYNC70/uABVEa8zkETuQOeKJqxj5au9XKw1/a3JT3J4PtWx0AjpAagq\n",
       "95SB9KMjvJaQ5UdMDQbJvbdA0be7cCPdsdAWNEjyIbsSo/1aOspS6xup+MfcpqvPinQRHDU4qiq1\n",
       "UEEzF1UptRgI39IfVU/AoX3myDmiRuTTtBsjNPRjD0kwmpdaaFSrgjpWBQMxQk8QVKuZ+qQudmzM\n",
       "qC61UO5ypTJHyvUyY4Ok2mZATxBFWZAZF/aMZSObWiiv6JqcXnFZiZ4wfgei8Te+1gXkoLkkaqGL\n",
       "uibiH8KPf7FKoiUoeZw17+zuArJulptaaIl0QHT6inB0wgapCdb7jiZwu/ZWJ9l3vFcw73ihWlmA\n",
       "rXG1KGolObO6mmcTNIPwF8Xza8XQJCGRzSYpiu93l0uc6AZSQLwBQQn6hvb5EulsWpnWVJQ2dvIz\n",
       "92q7QWuP/T3M8Rtbg890my/yqgAAAABJRU5ErkJggg==\n",
       "\" style=\"display:inline;vertical-align:middle;\" /></a><br>"
      ],
      "text/plain": [
       "<IPython.core.display.HTML object>"
      ]
     },
     "metadata": {},
     "output_type": "display_data"
    }
   ],
   "source": [
    "unit_complex_polar_num_eq_one = Forall(\n",
    "    theta,\n",
    "    Equals(Exp(e, Mult(i, theta)), one),\n",
    "    domain=Real,\n",
    "    condition=InSet(frac(theta, Mult(two, pi)), Integer))"
   ]
  },
  {
   "cell_type": "code",
   "execution_count": 91,
   "metadata": {},
   "outputs": [
    {
     "data": {
      "text/html": [
       "<strong id=\"complex_polar_num_eq_one\"><a class=\"ProveItLink\" href=\"proofs/complex_polar_num_eq_one/thm_proof.ipynb\">complex_polar_num_eq_one</a> (conjecture without proof):<br></strong> <a class=\"ProveItLink\" href=\"../__pv_it/theorems/69e8686cc0e8c100480079ff334f24baf07774dd0/theorem_expr.ipynb\"><img src=\"data:image/png;base64,iVBORw0KGgoAAAANSUhEUgAAAQAAAAAeBAMAAAAx990KAAAAMFBMVEX///8AAAAAAAAAAAAAAAAA\n",
       "AAAAAAAAAAAAAAAAAAAAAAAAAAAAAAAAAAAAAAAAAAAv3aB7AAAAD3RSTlMAq1RmmUTNIjK7EInv\n",
       "3XZ/CtNrAAAACXBIWXMAAA7EAAAOxAGVKw4bAAADmklEQVRIx8VXW0gUURj+dWd2dh133HoIgi4L\n",
       "vfRQsT7oQ4isomWZsRT0YhezIBCLLQUpCrdegjRcutEqxDxEYJZOdl97CCIkIpAQosJQgh7KYklK\n",
       "KWo758ycM2fHGd3Ytf6Hb5idc+Z88//ff1mABTRXFP6vFWoYW78s/EklDGZbQbdbFRz2hXJ0fn6I\n",
       "go15g96AFLN/djRHBK4xSDd3EEE7uANQ7iCS8dwQOM/AhsAmKIqCT7Xf+QbAj6+rsjpfekxhFoEC\n",
       "DV4PrQRQ/PZbJwCq8fVAVgQEjcIsAp5hmIYqpMQf9lsHVDiJ2ceyIlAUpmAXgiQMI9xnvxWtcKPo\n",
       "yIGsCHSpFOwINAkBogR758XAhRa5s9PgZwZ8+i8b1QnUD+LbSfutClLOi7Gx59kRWGKA56FUG6Q/\n",
       "3nhZxgtvj9VBHbHW2wAi0kYNQHdG5ygOyQxxA2RvrcxyYTlIvPC6SFsQxohhZtoF7RHiPANwGCR/\n",
       "RgQe5Dk82GtAi3vEzIWp9MrQbtGoFDwItejyDZVKVQ7PkWLmllieQ3MbNeBMkR6AgQb0aalU6ief\n",
       "b5YzPOoUUQoikD9ualDaatTGtfcqDumVnD2Ta85yccx7dqcnZPEADbQPPfB8bWs7xnvASl4kAZJQ\n",
       "CKDBjG2v2oT2TsTDigz3tXQC3pI1lD1a4IvI/aqVQB13wG9LqkYsGhBGyKumEQw2cUX9HEAVIqso\n",
       "sH48nYCPdRS8wAWnWuiTpRTeciduUUGaKwt8GvPDcUQov7J8I3JIEhpBwYFEBD6GLB6gyaLokQ6x\n",
       "9jtpAFYUs5tPdr/jbsuswtFV6cJZg7Xl2hlsJHVpBnrJIbJ0JZhOwPM+YsRJ76RHomlfh0Ac4U+o\n",
       "+8732gorgV26xmkCni4F9D5fz60kbCcEhJ6YRYTMyALol83JK0zB2Zx7gWErSFeJCCEojcfjAUWR\n",
       "t/EEUsyS+gLQEnB9vm7IFWbnbmjYU0IACiPQQTygiPWqgwfIAnF1EBI0OI8pOM/HDrWumBWAJEAf\n",
       "6oyVuDARDUCCF6G4rtpUI14gC1zIFzNwMl/E/vdXTGGIYWdAHEKdU7qM7nd80K5u4AgUwoBZrfCC\n",
       "4kWfLvnnmwlNy2wmNKaCvng8zCWffih0Yj80N++3LiBTsUbBaWjLaCoW7QZHpoGLiIQoy3//v4DI\n",
       "1GEm3ZzuD5iDgBCFE+jbvf/83xUtpwkF412n8XrBzZ36RVSSn3MCfwBE/ujez3PgbQAAAABJRU5E\n",
       "rkJggg==\n",
       "\" style=\"display:inline;vertical-align:middle;\" /></a><br>"
      ],
      "text/plain": [
       "<IPython.core.display.HTML object>"
      ]
     },
     "metadata": {},
     "output_type": "display_data"
    }
   ],
   "source": [
    "complex_polar_num_eq_one = Forall(\n",
    "    (r, theta),\n",
    "    Equals(Mult(r, Exp(e, Mult(i, theta))), r),\n",
    "    domain=Real,\n",
    "    condition=InSet(frac(theta, Mult(two, pi)), Integer))"
   ]
  },
  {
   "cell_type": "code",
   "execution_count": 92,
   "metadata": {},
   "outputs": [
    {
     "data": {
      "text/html": [
       "<strong id=\"unit_complex_polar_num_neq_one\"><a class=\"ProveItLink\" href=\"proofs/unit_complex_polar_num_neq_one/thm_proof.ipynb\">unit_complex_polar_num_neq_one</a> (conjecture without proof):<br></strong> <a class=\"ProveItLink\" href=\"../__pv_it/theorems/f273600d8f2655f8eb00ba35ed3abf7cc8ceae580/theorem_expr.ipynb\"><img src=\"data:image/png;base64,iVBORw0KGgoAAAANSUhEUgAAAMgAAAAeCAMAAABe4aGeAAAASFBMVEX///8AAAAAAAAAAAAAAAAA\n",
       "AAAAAAAAAAAAAAAAAAAAAAAAAAAAAAAAAAAAAAAAAAAAAAAAAAAAAAAAAAAAAAAAAAAAAAAAAACC\n",
       "gUnDAAAAF3RSTlMAq1RmmUTNIjK7EInv3XbP4duh5/Xp88jRr28AAAAJcEhZcwAADsQAAA7EAZUr\n",
       "DhsAAAMVSURBVFjD3ViHttsgDEVsxHivk///0zKMJy72SZukJePYjpF1JV1xCSFvM5gm/8dwdj5U\n",
       "PIR/y3kmelfRIJF41QZ/Axy074Rh6UOvGlHm5ThQrs8ka57FfEavp/XlZWhYFwjPIY496vN+vfl8\n",
       "GZY8syfjUI7sgWAmvDfWQuxM0Nsi0n7CFTIIPtNNqicD4fYARLvkREwf3mOPWWUJgcs4AcF8oOFl\n",
       "nImCdEsrJ8N1oqphex4akDq19TlLn4xDR+wDSR7xnjNGnQEprGLTfPnshATfisR5vgYibDeoAsgZ\n",
       "kFDY5nwezj4bCNTQofOUORjff+DwAkSUI14oZPDRAN9t56aSEnxZOs4fz0ug/bfv+Ru6QHRp1gra\n",
       "1yPDanLThKz3R3ZcUi4lZAVE1b6Rk2HFjbZ5ohNA31K0hRgpmHWMKlscn7oAwQqEhoXqe91JvZUc\n",
       "5OZar09bruf1aX8rOGN5enczoiNVeeDthGwyoqeG1ep70Z06gDEJZyApVlbZARDDBHW79hrg4zNH\n",
       "yicfLAY8Ka0RtQpHfvysTDnjiJqWkLaYzLqT86koQnoRhmEAxB+0W7YAxWxesak6kACqHe7KTQNZ\n",
       "0VP1+66VRQ/sdGeYH1uABOSjjOz7XraAsNCqU+I1g+gdE8GH+3rfxoaetWJoNG26Exdfc2kpE9gA\n",
       "iA5MbfdGeW7rIEzRI+tbGFPtRBluJwTARQnVL75vmE13CrYCknhqyIjsBy/Z6kYsRDvubS93Sjro\n",
       "aXJft013MmnKoLW0rKBnQGJvkGrh44up+zybuJ7g4O/V702GrNN/WE6b7tSWrDkihMWbGckWYJok\n",
       "qM4Rs/unaXd1CzhAzKCDvOrOhbi1/Z6TXdDAeyVicKa6LUwX/ljmFwW3Hywy/tDyZt2p2h5GyCAt\n",
       "Qc7lCRCXM9td6r/qFi+AYI2EwZ79N+l9YM+ONnOkz8YNELUqESFdek3Jw89zC1dJ/Jf/RdlPLN7m\n",
       "7IpM61t/ATDxOBCOfwhI0QDK1zwuPwKSdx9baqVmNNdo0tAzMd8fx67RpXVj7kepU9AXAfgFDCMb\n",
       "9JWo1ioAAAAASUVORK5CYII=\n",
       "\" style=\"display:inline;vertical-align:middle;\" /></a><br>"
      ],
      "text/plain": [
       "<IPython.core.display.HTML object>"
      ]
     },
     "metadata": {},
     "output_type": "display_data"
    }
   ],
   "source": [
    "unit_complex_polar_num_neq_one = Forall(\n",
    "    theta,\n",
    "    NotEquals(Exp(e, Mult(i, theta)), one),\n",
    "    condition=NotInSet(frac(theta, Mult(two, pi)), Integer),\n",
    "    domain=Real)"
   ]
  },
  {
   "cell_type": "code",
   "execution_count": 93,
   "metadata": {},
   "outputs": [
    {
     "data": {
      "text/html": [
       "<strong id=\"complex_polar_num_neq_mag\"><a class=\"ProveItLink\" href=\"proofs/complex_polar_num_neq_mag/thm_proof.ipynb\">complex_polar_num_neq_mag</a> (conjecture without proof):<br></strong> <a class=\"ProveItLink\" href=\"../__pv_it/theorems/3f9b45606384637479b3dfc9456bad5b2b6586330/theorem_expr.ipynb\"><img src=\"data:image/png;base64,iVBORw0KGgoAAAANSUhEUgAAASMAAAAeCAMAAABQbYjYAAAASFBMVEX///8AAAAAAAAAAAAAAAAA\n",
       "AAAAAAAAAAAAAAAAAAAAAAAAAAAAAAAAAAAAAAAAAAAAAAAAAAAAAAAAAAAAAAAAAAAAAAAAAACC\n",
       "gUnDAAAAF3RSTlMAq1RmmUTNIjK7EInv3XbP4duh5/Xp88jRr28AAAAJcEhZcwAADsQAAA7EAZUr\n",
       "DhsAAAPgSURBVGje7VmJdtsgEBSw3EfSU///pwUkYXGsLLmvrtOUxHkbZ4zEaHbYJdP07w6mpv/j\n",
       "znC2hBJC+ByLZryPTg2jzSTMNMHFC8KHo4hCH50bmsUXjXLS1z53Ff/XhxF9dDgE25Y6p99o0t/F\n",
       "jGMfLEM166NzHEGSw5wd3BssrcZ/yHhykzJ7aYqk66P7HJnk215bS+b8XiBjrEKyKuOhuJ+QL80R\n",
       "2D66z5FycVVzfMFiYWYe60UjdULGK/JB/GnmfXQy15KEnGzerGVEDicRK7GWvjRFqghAzeYiR3GJ\n",
       "QPfe1MsIzaGMZ+tM4rVlFHwfYRsgcR72HHF7E0AYmRkn+HUz3vk0nH1tjohoImV1LJ9tnzrGecoc\n",
       "tmo+UmFtxdXMCx6yXWnzXFlcrTy0biI76WjetpcF8bkkMljO7twZsjz8t+/pZ2G1mnnBS7L9eN6w\n",
       "arp4QUHqSLJJ+OEeN7OjGkoOHL+WUT3zik8Ssuf2igcSEpAan6hLnbqHOlJmJaNs0mITyjIstpl3\n",
       "K+X1LdYzr3gacMem3gogIowX3LXTDTw/gRHVoNSo4k1Y4rSF+H1HR52zbCSqmco0DKYjdSyjZuYN\n",
       "LwZ9iQpE60hhSNqx0o442tppFI5xpBmnrr/g23ucwcc7tiaYuxwBsr/N4biGkI0f/fi5uBLZvd3j\n",
       "LRXtLQGsdIf4NTETRhxt7TQKxzjyfbeYZiDpLlJxTGXnJkS3kUeyCVxejDy7r3Vrr2be8HLbKSlQ\n",
       "FkCmbadsQGnRwUBKEAAfX3zq2ukR/FBH3T6aZjCkZDQgdcoukli5bbxjPHhETcyhJy5DWy/4zT8Z\n",
       "dyyt2twWlpJH6o0E6ErQlK4oHONIBSabrE2fXW+NSaoOnv8acbyUBD8LLOGA3JVRNXOLV5JF7473\n",
       "x9lu0dFA9XCTKu00Csc46hlgN6QJw+3T8T56YLT9GrXX8FFQC/1M6DzokjyW0xFHpZ1G4R1H82is\n",
       "M7x9yTNEgmx8tMb8dt+P9vHHMjrGl0ek7LQ3GM6tGdRHpZ1G4ad1lGYgy4c4VenR2fbelOuj64M1\n",
       "qcPsNfzqwnVnsmzmpjG2fHR1a6eP4DVHnAYYpYo2m2PbLNaB2xDaR5eHl4Nzxgv46jBpdU0ugrCT\n",
       "ARDNQ6X7dvoIXnPkknyHlfdXtT44QoLVom9VLp9nj2TRWrm6iK+FkgzmwBzpWXjNkdylChcufq2S\n",
       "M+93Lri3V/qgIz33/yL89DFBd5lMRJIwT/Zcln3iNP3h/68Vtzd/Ft/c7vQoR7kil351tVv1/Nyz\n",
       "mdcajenF/arkuOU3z/zMFLUlWayH/M7T6Afg5hfvtySkGUyHoQAAAABJRU5ErkJggg==\n",
       "\" style=\"display:inline;vertical-align:middle;\" /></a><br>"
      ],
      "text/plain": [
       "<IPython.core.display.HTML object>"
      ]
     },
     "metadata": {},
     "output_type": "display_data"
    }
   ],
   "source": [
    "complex_polar_num_neq_mag = Forall(\n",
    "    (r, theta),\n",
    "    NotEquals(Mult(r, Exp(e, Mult(i, theta))), r),\n",
    "    condition=NotInSet(frac(theta, Mult(two, pi)), Integer),\n",
    "    domains=(RealPos, Real))"
   ]
  },
  {
   "cell_type": "markdown",
   "metadata": {},
   "source": [
    "### Other Misc Theorems"
   ]
  },
  {
   "cell_type": "code",
   "execution_count": 94,
   "metadata": {},
   "outputs": [
    {
     "data": {
      "text/html": [
       "<strong id=\"nat_pos_to_nat_pos_lower_bound\"><a class=\"ProveItLink\" href=\"proofs/nat_pos_to_nat_pos_lower_bound/thm_proof.ipynb\">nat_pos_to_nat_pos_lower_bound</a> (conjecture without proof):<br></strong> <a class=\"ProveItLink\" href=\"../__pv_it/theorems/aa538510c29760fceb9267c521d2f36c3dfb92c70/theorem_expr.ipynb\"><img src=\"data:image/png;base64,iVBORw0KGgoAAAANSUhEUgAAAJgAAAAaBAMAAAC5lIjBAAAAMFBMVEX///+IiIgiIiIQEBB2dnbu\n",
       "7u5ERETMzMzc3NwyMjK6urpmZmaYmJiqqqpUVFQAAAB6qHgnAAAAAXRSTlMAQObYZgAAAAlwSFlz\n",
       "AAAOxAAADsQBlSsOGwAAAm5JREFUOMtjYCAZVCYwUA54FkBoPges0htIMuw2lGYuwCrdRopZrBOg\n",
       "jHrBp1gdLkCCYWwHoAyhAGmsClQZGB6A6DtEGNYMY+QwnMSqQI6BYReInkGEYVtgDHOGfSAq8gCa\n",
       "gvgAhjogxUFMZP+CMT4w2ILD0AktkDgPMHAGMDCwXCBsFvtXeNjwQO0WckVRwZ3AwAN0LScRDmNU\n",
       "gLGqBWGsQyimMRowMBgpKZkQYRgfKGVwPJFA8dvNHWAKIswFdPt2BoZUXCawIKUMkN8WN7B9RVGw\n",
       "EpzkIMLs3xkY+hg4HuAyjBspeIGKWG0YuBVQDQO5AyrMAYwitgCWBfBQngZlNG1ZwGOHYhgTMO9x\n",
       "f2BgQsmYN1+ArYQIswIN4xVACv8nIBPl0hbwPnBl2IrhMuYEhvgFSGYd2grJrBBhDqA3GSYcREib\n",
       "A/FuYEbmPcjN4MCye9PuXciGxQswnEcyC5Y0oMLsP4CE71QgEXLQA8T/KBfACErZvLUrBBxQXMYH\n",
       "jID4CwwveRtgGR+eaKHCoNhkaAYFrQbYXEZVxg1hIHneAtdbqIaBUhGbAK82XAiRnaDCPAYgO4He\n",
       "4t7AbgAuGXgmrIEYxs2YgGIYyF7Wh+594lgKJ4gwNyxRMC9gfAAu97gfnExLS7vAW8DqMAElnTFY\n",
       "EUrWnDCnxjewHQVmUn4G5gslEJcxrBXAUWrgAsBSA+qyhvo1ASEMTAHHgOkOUt4zoiXlYjS9QUog\n",
       "oI4QOAcPkT0XfRiKL7BvFGDgSAfyi2ZAi02k6CRUtGigciHKQ9LSFuCrA3BVXqjBwhWAV/UV/Iah\n",
       "1U48xNWbOAAwawEAG5CP0juGiocAAAAASUVORK5CYII=\n",
       "\" style=\"display:inline;vertical-align:middle;\" /></a><br>"
      ],
      "text/plain": [
       "<IPython.core.display.HTML object>"
      ]
     },
     "metadata": {},
     "output_type": "display_data"
    }
   ],
   "source": [
    "# lower bound for exponentials with natural positive base and natural positive exp\n",
    "nat_pos_to_nat_pos_lower_bound = Forall(\n",
    "    (a, b),\n",
    "    greater_eq(Exp(a, b), a),\n",
    "    domain = NaturalPos)"
   ]
  },
  {
   "cell_type": "code",
   "execution_count": 95,
   "metadata": {},
   "outputs": [
    {
     "data": {
      "text/html": [
       "<strong id=\"square_abs_rational_simp\"><a class=\"ProveItLink\" href=\"proofs/square_abs_rational_simp/thm_proof.ipynb\">square_abs_rational_simp</a> (conjecture without proof):<br></strong> <a class=\"ProveItLink\" href=\"../__pv_it/theorems/2120af913fa6389e8096e284c852b1b5d441946e0/theorem_expr.ipynb\"><img src=\"data:image/png;base64,iVBORw0KGgoAAAANSUhEUgAAAJwAAAAmBAMAAADDx+9tAAAAMFBMVEX///+IiIgiIiIQEBB2dnbu\n",
       "7u5ERETMzMzc3NwyMjK6urpmZmaYmJiqqqpUVFQAAAB6qHgnAAAAAXRSTlMAQObYZgAAAAlwSFlz\n",
       "AAAOxAAADsQBlSsOGwAAAqVJREFUSMeVlk1o1EAUgN82m91ss7U5COJFZPFQEGQR0V4KFXqoohBs\n",
       "8ehW0Hio4voD9SA2xYsi2hwUPEluXgqNBRFUNEWKFBRWTz30sF48li1YWtSlzl/SJM50Jg8WMnkv\n",
       "377fmQGQiNkCNdGfqVh9AFW5acttqp4yrtqW29xK/aU+sraLC9fkuKfpRIJ5UGw7Jo22byO17PeN\n",
       "TW4ZiNemNNqe4XR6bD6Oem1syXDTWf+L3GCZ15dkuJ/oZ0QLV9gNzOtPMtxf7JDPFqcR+rLAkHg9\n",
       "2wKSvlWBUXkrg3sED3bp4Z4A3uLFc1FndtI448rUa64h9dr04B5eTAhwe7w0Ttve7nANqdeFDlSQ\n",
       "l0XRmGvtTLACYV73bUI1BKiIzPqH1XDM63IX4GitdkyICxnuyckZEY6o2HCgRngDIKo+rjzB9Q7C\n",
       "dTuBW6hhOYIfqYrJOqKDkZq18ck1Nx4KhhsLYUHgHVUx+QVQsuPklA84vjECxa+Ret6nuI8AhwQ4\n",
       "qmLyB5XDiivxrok+fgz6Fzfj3XHQfwtwVLWDA28Rh7g4CgWc+KkVAMtK4/R10tC83DHVTu7gLDoz\n",
       "9AE0T+fxm6UwgZulldW7qKFXuN4xVWLE76NKmEG5DnP4DUZZ0S7XsGiwF+F7EPCDpSrWzV08SShj\n",
       "ml9ow7LjOK2XyWC1gOIu7L3zo8nHURUrZZTFhltasm+TnSZZisqE2lRkjwLNnZ6zSzZpFijG+5VZ\n",
       "z4WLt+re99/OoEEmbXz4RTPeoDZy4Urps2fccdCno3eTdcuDIyP+37G0+ioCwCTexSJn98lw8y7v\n",
       "7Y3P8aP0MEnJKZlBw8+DG5LWystBK9SlJidy4DT5VXA5B26/3KQSKtOMQYUr6oAy7pzKtfehrYq7\n",
       "qhRCU/WqjXvqH84LvPMSTu+3AAAAAElFTkSuQmCC\n",
       "\" style=\"display:inline;vertical-align:middle;\" /></a><br>"
      ],
      "text/plain": [
       "<IPython.core.display.HTML object>"
      ]
     },
     "metadata": {},
     "output_type": "display_data"
    }
   ],
   "source": [
    "square_abs_rational_simp = Forall(\n",
    "    a,\n",
    "    Equals(Exp(Abs(a),two),Exp(a,two)),\n",
    "    domain = Rational)"
   ]
  },
  {
   "cell_type": "code",
   "execution_count": 96,
   "metadata": {},
   "outputs": [
    {
     "data": {
      "text/html": [
       "<strong id=\"square_abs_real_simp\"><a class=\"ProveItLink\" href=\"proofs/square_abs_real_simp/thm_proof.ipynb\">square_abs_real_simp</a> (conjecture without proof):<br></strong> <a class=\"ProveItLink\" href=\"../__pv_it/theorems/88b42d6ae12cf865a0a3bc1a2f6fb49702d9a48b0/theorem_expr.ipynb\"><img src=\"data:image/png;base64,iVBORw0KGgoAAAANSUhEUgAAAJoAAAAmBAMAAADO2Z8qAAAAMFBMVEX///+IiIgiIiIQEBB2dnbu\n",
       "7u5ERETMzMzc3NwyMjK6urpmZmaYmJiqqqpUVFQAAAB6qHgnAAAAAXRSTlMAQObYZgAAAAlwSFlz\n",
       "AAAOxAAADsQBlSsOGwAAAp1JREFUSMeVlk1o1EAUx1+aZDe72bp7UEovIouHnmQR0V6EFRRaUQi2\n",
       "eBHcFmo8qLiooCcb8aIINoKCxxy8CJWGgogf1BTpobe1Jw8e1otH2YKlRV3qTGaSbsJMZvIOszv7\n",
       "Hr/9z/tIBiDbzA7Imf5CImgFZO2WJQypuNK0SlcYcjvxh/rpXxkCbghpz5NJBPMQP3ZKdNThrcS2\n",
       "6hnbzAqEmk3RUYeaydRYbBrRbOwIaPNp8RrzpFTznID2Ey8O3TjcNqCavwho//Bylm7Qp3GFExhq\n",
       "XuhAmLrv7JjiTor2BB5ltO6QDx/w5iWnIXtJmnH17ltmINFsunAfb2bYtH1ukqbu7vaYgUSz0oMS\n",
       "0qhxRlvtpk7KMap5eBsqAUCJE1VtytGo5mIf4Gi9foxHCyjl6akHPFrooiOBWuAdAK/uCx1CK4/D\n",
       "TWuAtlzHdgR/JS5qmwgOxuCAbUyuPItHgdKmAljmaCMuar8BCpbmRf110PYUDSai6VzyCO0zwGEO\n",
       "jbio/UWVqMVF+NhGZVZgrZbSdhz0Pxwace3RwF1Fy/TqBCg46Yh2wE/S9M2wj1l5o669vMF59H7Q\n",
       "x9AUXcS/KJoxG0RVIDXV+6iPvzG1UdfAWD9ERTD9YgMWQ5o5F09Gq0ZOOgsbvs8+KXHRJu7j+UHZ\n",
       "Uj2lC+u2bXcURXsTd6VPaJf33/vRZtOIixYxymDLKaxZd0JtSvlV1EClGblZSD/3VWd+0SpYYd7g\n",
       "TCTdbOSixQ/m8qev59Dwom+vR5uX3kdPpK1ctELyNTNt216qYnlo1SDbfw0vI3QzIqItOdl+0Xsj\n",
       "aZMCf8vLQzspqpKbA6Y0RBEnctBU4VVvPQdtVBhRCqRhxrj4/jkmTbsgcad9bMnSrsvob8veonEz\n",
       "/Qd84q7CfvA6xQAAAABJRU5ErkJggg==\n",
       "\" style=\"display:inline;vertical-align:middle;\" /></a><br>"
      ],
      "text/plain": [
       "<IPython.core.display.HTML object>"
      ]
     },
     "metadata": {},
     "output_type": "display_data"
    }
   ],
   "source": [
    "square_abs_real_simp = Forall(\n",
    "    a,\n",
    "    Equals(Exp(Abs(a),two),Exp(a,two)),\n",
    "    domain = Real)"
   ]
  },
  {
   "cell_type": "code",
   "execution_count": 97,
   "metadata": {},
   "outputs": [
    {
     "data": {
      "text/html": [
       "<strong id=\"square_abs_ineq\"><a class=\"ProveItLink\" href=\"proofs/square_abs_ineq/thm_proof.ipynb\">square_abs_ineq</a> (conjecture without proof):<br></strong> <a class=\"ProveItLink\" href=\"../__pv_it/theorems/f199446dccd7371a4541a668e41819cd02a92c3e0/theorem_expr.ipynb\"><img src=\"data:image/png;base64,iVBORw0KGgoAAAANSUhEUgAAAN4AAAAmBAMAAABZiDjwAAAAMFBMVEX///+IiIgiIiIQEBB2dnbu\n",
       "7u5ERETMzMzc3NwyMjK6urpmZmaYmJiqqqpUVFQAAAB6qHgnAAAAAXRSTlMAQObYZgAAAAlwSFlz\n",
       "AAAOxAAADsQBlSsOGwAAA5tJREFUWMOtl19IU1Ecx3/X7e7e7W46oxAJpERJqAeTSF+EBQnaH7io\n",
       "+CL4B3IJGY0MKgK36KUQdEFWEMEeIggMVxBlhU3CwLebD9FD0ITsKWJColjDzjn3z8653Lm77R7Y\n",
       "Oee3/XY/9/c739+55wKU3STFnh8/A460BbuOl2UncP64bc+0E7xx5q75k7/zR3HRCd49djFBOpDX\n",
       "tceBhAY2GLMqIW5aaYWELTmQ0IoQu0ayJU8NW9wqnxc158htlU8t7HPl837iLqYZsXyq18L+WD7v\n",
       "H+5OaQYaxRFrPxL2tAJkCb+VjBO2TLxJuG1y6Wsxir0iCW+x8bD0as+wPPH81Vc57arXfQR62FIc\n",
       "JrAxVDKvMs7yXDs7GeNeDqtLmQU9bC4DXvSdWymZ50qb8plrXIOK86EK1cIObII/BeAtXS5VoXy8\n",
       "3oOUUrSwBRRqS339sTJ4KY0zdeImw+s/os+8q3V6/nik5tcAI7s83KheH+g2rag8XxtckinewGNj\n",
       "OjjDG/vKOroxEI1tTbivTVa6Fu6SiYfqtSEwCtcNgUU1Xk8KXtLxVeZ432U4qs//oIvI7oTx2w8M\n",
       "rQsnODd0hqx5gWF0NWPTnEuovA8ADUw+J418zhOM2v6i/wcpubSiz7sI0hYHS0FLnn8MqzJiju84\n",
       "8Nt59NIAvizFg/gi/nWxE4e2XidzWAGIty/J8LADGjjyzIxWr7E8fp1UvmU9ZEHaoNYPzqJzDN9E\n",
       "NiaukUv2EV+3OJyiecTBA0I7sffI+3W9qPrks6jyv7I8vd438eJSu+0tJBcpKTTj66b88VnCk84N\n",
       "MXohDsj40oHtMVjWxRdU8zkMK8mkiQeBB7j/BRf0L0Sc2Eq0GK4ElybrIqWXw+GwwnHu5wyPOGDj\n",
       "aQdZZv1Q5kqqvIG911YjZp5WGqeN8IRt/TZjniUUfBW4lCskPs73RKZ5xIEYE28AMtCuF/NQ3v1s\n",
       "t8OHKxadlXuhQv6E6oOsH3QweiEOqjG1Bo1+vQCl5mJ4xrPf9/7zGRhXhBdBtLUi+1ltqH+e5hEH\n",
       "j/4Uv1FtaGLDmtddj9shE8/DHpjUba43HM5tABb7C3vwyhYTX1WKtnwWJ49CPFV7NZpRU4A3F2Pq\n",
       "BQryBCTe8CjtUNQRqKugh0j1+sC0wUQRvPbyz2fuuH1frtmB94fWIg4figO8ZfuutU68H3lTdj3F\n",
       "Nid4fJNdz24n0glwx+5b3Zgz7+9ixGYicOX8B9vO4AlXJfCcAAAAAElFTkSuQmCC\n",
       "\" style=\"display:inline;vertical-align:middle;\" /></a><br>"
      ],
      "text/plain": [
       "<IPython.core.display.HTML object>"
      ]
     },
     "metadata": {},
     "output_type": "display_data"
    }
   ],
   "source": [
    "# Note: if |a| <= b then b >= 0 and |b| = b.\n",
    "square_abs_ineq = Forall(\n",
    "    (a,b),\n",
    "    LessEq(Exp(Abs(a),two),Exp(b,two)),\n",
    "    domain = Real,\n",
    "    conditions = (LessEq(Abs(a),b),))"
   ]
  },
  {
   "cell_type": "code",
   "execution_count": 98,
   "metadata": {},
   "outputs": [],
   "source": [
    "# covered by product_of_complex_powers\n",
    "# # not true for general a in C, but true for a in R\n",
    "# # except a = 0 \n",
    "# # noting $a^{b + i c}$ = $e^{ln(a) \\cdot (b + i c)}$.\n",
    "# sum_in_exp = Forall([a,b,c],\n",
    "#     Equals(Mult(Exp(a,b),Exp(a,c)), Exp(a,Add(b,c))),\n",
    "#     domains = (Real, Complex, Complex),\n",
    "#     conditions=[NotEquals(a, zero)])"
   ]
  },
  {
   "cell_type": "code",
   "execution_count": 99,
   "metadata": {},
   "outputs": [
    {
     "data": {
      "text/html": [
       "<strong id=\"add_one_right_in_exp\"><a class=\"ProveItLink\" href=\"proofs/add_one_right_in_exp/thm_proof.ipynb\">add_one_right_in_exp</a> (conjecture without proof):<br></strong> <a class=\"ProveItLink\" href=\"../__pv_it/theorems/2be1cc1bd4487c8deb620b66bc87fa3638aefbfd0/theorem_expr.ipynb\"><img src=\"data:image/png;base64,iVBORw0KGgoAAAANSUhEUgAAAQcAAAAaCAMAAACNSmlkAAAAOVBMVEX///82NjYbGxsSEhKIiIgi\n",
       "IiIQEBB2dnbu7u5ERETMzMzc3NwyMjK6urpmZmaYmJiqqqpUVFQAAAAnLjGdAAAAAXRSTlMAQObY\n",
       "ZgAAAAlwSFlzAAAOxAAADsQBlSsOGwAAA0RJREFUWMPNWVmypCAQdOYhq6z3P+zIIoIgi2MYj4+O\n",
       "6o4ilaSWhF6W3zboRj6BxHL7FeuVvLTc0Kg3Vcw+K4E85lIA1mdg7w4lSssPSHtz2WzEJJDnVLU+\n",
       "A3t14K20wkYZADTuxBKYy4sEsuBhFuzdQWRp+QFWvIBesK545mEpZMmDB9Pn7/I7GhgsrYSXbgkD\n",
       "epb0A7LCgwMTsUht7DseBCqtJJdFb5nY4MnysEMKsg9oP2TGgwOj+mnx+Z9heGkdP9gXVz2AbSZ4\n",
       "U8hKPHiwLTCL1Hc00LidtNjYPVtlf0vEzK6lkDUeHJgMzH6pKsBaWpEjAQYKOIAztCeQBw8MbQaB\n",
       "FAyudkD0IQ96KyymEWBtAlIXPlAgqpC1OPJgwokMgp8VvGY1uy3g5GpxuFdp0lxc5kLNKY3Emgxd\n",
       "92++sAdj+vgYkOWACJ2S3EpT5EogQqAItU1fLAylW1CL1MyFFfW17d8OHA9mQwHxliynQBOye2Ci\n",
       "d44VQSM8eGqtWuNXr1VcLGHcF1T2x5hBuQvu8nAHWe3CDkyBmyp5yHIhgoGwiwQ5xINmEcOwTjxA\n",
       "crO2k7HchZneKeQWshYPNLSKQ2NjJAFiF1kOZDyqUg/LqjxkkxeO/CNwRQ9cecDGPl+a5p5lLjSh\n",
       "tlofBiCT+sCCdAgiAq8seUKQ5TiuVTHF7stvnOx0G/lxus3rg/WiejTJLWyU7x2K3fOQuXT7xQDk\n",
       "pV9Yja+PBNjJgRdZzuMiJJb4nod8cggizwMEd90/WARYXSNa7Sd3kV39MAAZ13WA6ZBskKdHmCDL\n",
       "5eb2l6iFUk7vecgmH0Hk88Ko+gZEC2uAKNOgkfS5S/cEMgIZd1BfY8l2XIlxJsvpWRVDnUyEAalM\n",
       "tnnx9084z1TrpOPsak2N7c3DcQEGbYbzPfgxSmT5KbEYEnZFqKof4uQlOb0tVtFyPXHeHLvGMfg9\n",
       "GkowLqQCSNo8V6csZ4SeLWFPEkGreREn5+p011GieOmzjlD45NWlfjEcmmAqa4g2yKsBXNcPqntS\n",
       "0qq0Zk6Qb96VtMD4YNzVeeifXe/vJ4d28M0rxSbYaBmq8qAGap9CpTV8q/fmldE7YM/j8/b/i4E+\n",
       "92KRDGD/AEQlJbXDb94PAAAAAElFTkSuQmCC\n",
       "\" style=\"display:inline;vertical-align:middle;\" /></a><br>"
      ],
      "text/plain": [
       "<IPython.core.display.HTML object>"
      ]
     },
     "metadata": {},
     "output_type": "display_data"
    }
   ],
   "source": [
    "# true even for complex a = r exp(i theta),\n",
    "# but exclude a = 0 to avoid 0^0 which is undefined.\n",
    "add_one_right_in_exp = Forall(\n",
    "    [a,b],\n",
    "    Equals(Mult(Exp(a,b),a), Exp(a,Add(b,one))),\n",
    "    domain = Complex,\n",
    "    conditions=[NotEquals(a, zero)])"
   ]
  },
  {
   "cell_type": "code",
   "execution_count": 100,
   "metadata": {},
   "outputs": [
    {
     "data": {
      "text/html": [
       "<strong id=\"add_one_left_in_exp\"><a class=\"ProveItLink\" href=\"proofs/add_one_left_in_exp/thm_proof.ipynb\">add_one_left_in_exp</a> (conjecture without proof):<br></strong> <a class=\"ProveItLink\" href=\"../__pv_it/theorems/39fd3c641d6f166621f67903d3ac77b47a36a0ca0/theorem_expr.ipynb\"><img src=\"data:image/png;base64,iVBORw0KGgoAAAANSUhEUgAAAQcAAAAaCAMAAACNSmlkAAAAOVBMVEX///82NjYbGxsSEhKIiIgi\n",
       "IiIQEBB2dnbu7u5ERETMzMzc3NwyMjK6urpmZmaYmJiqqqpUVFQAAAAnLjGdAAAAAXRSTlMAQObY\n",
       "ZgAAAAlwSFlzAAAOxAAADsQBlSsOGwAAAztJREFUWMPVWdm2oyAQdOYiNCCb//+xI4uALKLGk3uG\n",
       "h6RzkFKKprow0/T/NLbQhyNBLS+ivduUqKNBM8R/y7sEIjTHH7JAk79Lg5Z1NGqY+W9+eyV14oEW\n",
       "aPxX0wKWOhou64qQAZdB6HMeItptsDcbVXU0amiGCfnkmeFjHhKaAzPpWvU9Gjiuo0vcBcFD5mMe\n",
       "EpoDk1GkFv49HiSpo0vyID0BsMIDHiTdGrYfKkdzYGxn9qt6sYo6Gg+yXOiwaOrTfMjQHNgSmCX6\n",
       "i04gLie7sbDbPlb7LCT9lIcMzYGpwOzyxXRI5Twr7GP2JIrSjvAdNSLLSlBZLxKaB8OzbZh8kQez\n",
       "VBE3BPFmBWv2iAt51IZsJJIHk85PUHgmeKcmoav8tIwE3lSatibX7mErS88wZ80MBrae2INxs39c\n",
       "cOCISpOTfLZNiZNAQlCVaospIsDKTajBZbuHD/W1D1knjgezqUDEiZ/fDLqhdLsCqNk41pRc4cFT\n",
       "a92aKK+aZRHJ1f2IuLDu+6XsiReMeOgMbFLmwTTqqOTu56UMAQGXCeoSD4ZHjJUP8gHTYm6Rqapn\n",
       "X0I2chv0El052BI9NhCFCC8cOFLx+Mo8LG/ycBg8CeJvAVnV7/EAq72/WltL1e5hGbVNfehDtvSB\n",
       "B+sQTATMPLtDcOAQ56q55n31jYOdbaM/zrZ5fzAXrsfQYwSr9rWjwu/1DOtFH7JXL6zHN/sG2MjB\n",
       "hZ8XcRIKFPR5OA4OSeR5wEX1StU/RBRZryMbYt7pUUP/0IesX4XsYCZsNizyI0xw4Gpx60v1xJhg\n",
       "fR4Og/ck8vti1b3qHyIwiDBuUL3pOz1yeNDqQ9aSaspcshVXARwcOEuqGHQyMwa0Mdjui79/suNM\n",
       "pZOOszK61ZY3D8cVGLY7XGzJDyRz4MlicSLtjEjTP8TBU3Z6m6x5FeaV8+ZhxeA9GmowIZVGRNl9\n",
       "rpMD55SlkrBtEsma+yIOPrrTzUfJ6qGTjjD85NGVeTEdTsH0oSDaJG8mcNs/6OGrLqPr6Eab33xX\n",
       "cgYmLuZdm4fx2fXJ+8lsBd98pXgKdlWGmjzoC9qnSR1dPke/+croHbDn+fng/4uorS+KZAD7BylU\n",
       "JbW6JVE7AAAAAElFTkSuQmCC\n",
       "\" style=\"display:inline;vertical-align:middle;\" /></a><br>"
      ],
      "text/plain": [
       "<IPython.core.display.HTML object>"
      ]
     },
     "metadata": {},
     "output_type": "display_data"
    }
   ],
   "source": [
    "# true even for complex a = r exp(i theta)\n",
    "# but exclude a = 0 to avoid 0^0 which is undefined.\n",
    "add_one_left_in_exp = Forall(\n",
    "    [a,b],\n",
    "    Equals(Mult(a, Exp(a,b)), Exp(a,Add(one, b))),\n",
    "    domain = Complex,\n",
    "    conditions=[NotEquals(a, zero)])"
   ]
  },
  {
   "cell_type": "code",
   "execution_count": 101,
   "metadata": {},
   "outputs": [
    {
     "data": {
      "text/html": [
       "<strong id=\"add_one_left_in_exp_poss_zero_base\"><a class=\"ProveItLink\" href=\"proofs/add_one_left_in_exp_poss_zero_base/thm_proof.ipynb\">add_one_left_in_exp_poss_zero_base</a> (conjecture without proof):<br></strong> <a class=\"ProveItLink\" href=\"../__pv_it/theorems/847f4f70a3ea6db9d76c8f97806abed2afa39a220/theorem_expr.ipynb\"><img src=\"data:image/png;base64,iVBORw0KGgoAAAANSUhEUgAAAUEAAAAaCAMAAAAe7h6DAAAAOVBMVEX///82NjYbGxsSEhKIiIgi\n",
       "IiIQEBB2dnbu7u5ERETMzMzc3NwyMjK6urpmZmaYmJiqqqpUVFQAAAAnLjGdAAAAAXRSTlMAQObY\n",
       "ZgAAAAlwSFlzAAAOxAAADsQBlSsOGwAAA6xJREFUaN7lWdsWoygQdGYQmjv4/x+7gogEGtHEh+Qs\n",
       "D0kntBUtir6Qafo/DKH4m1eCVQ+ifcuwurUGw7P4Zm5TT8icP5hP0b5lONNao0FFfJP3xeMOBvnn\n",
       "aF8xQLXWUEoLIR6CaMkDDH6A9hWD29YaDTLDRKJgZ/icwQrNH772FwiUtLUusb6lBOI/Z7BCMzkY\n",
       "K/kLDBrWWpfCoIncwQLvMGj4Omh4sQ2a2BflR+LioltrfFFg0W06sR9rsEZTaVGY+4nKLmtI3FDT\n",
       "Gq9sen7DP2awRrNpUdRPSPAoz4pCbcy7IXvaJPTOz0mmFkbqXFyj0TkMyn6CQa8aS3pGJFpXYDP6\n",
       "inRxSES9G5qJ9SGHt57opKYdAiYH18tgGCuc15am6/Uc4wWdEYso7n4uhj+/EH3WDU36/eVC/0e4\n",
       "8eXy8K47i4GeMcJOHbDObG9GkVtWvrKA2kgFskDojBwnoD5kK9YNLciP6X43GdpDz/nqAdyvq+M4\n",
       "Q5Xt2ctGmFLVrvmJwwS+34zqNrLMprLMEj9kT1j23V3P7PNDBvELcbI3NEc6eST1f5MxyWAQ1Wdx\n",
       "Bqko6ZT5q0X2HYp6FEmACoYapLyiJXPczCTViGH1yK8xXaCp3OEBs4TJqv8jNu8uscFKdBfv7eIh\n",
       "HxljSaqdMIf1gc9KiLbCqhmEJdy5XTB5oDNikYM42IfE4qBMN5oWG2ZZ/ETq/yCz5GQT9XnTfMby\n",
       "nf+L5ftWs8226zBJdcZge/ji+asFi9vycnNnnZlxLu5D9nJx6DD9vl1XWmnVTepcxVuw0GfwaBez\n",
       "bDcGKek6FEESY7CdPcq5ZHES3A2SdfAZO64H+5DtUeWO5lNsoLrsvVP/Z1UUDXeTEFr0GTzaxSzb\n",
       "bRcvruswue2z4PuQJYOC9xY9W+AJE9KTNrrhM2Z8tNCHbJOOr/Ub6iAL8NL/iSNvpExSlHq8aT7D\n",
       "Jv37p2jCcybBHAS/t4vjItfWnaEePYFq0GgIg3rdqsCK/u8otiUzgQ2G1oNHu5hPK6bQ/mg/veKV\n",
       "DueZhJBnzmZKkcCDBLZo2lhHWJBGyJ97/yd51jOwdUsbge7io10s+pu1ojZQ4b04cHnSjCKTR5gW\n",
       "9I1ntv5JCZ6ilXUEsLDn0E2DbUJHBnilgz5REmDo3rXW9TE/egh6hqYvih17RjXCe3Ew/btAp975\n",
       "n+QQzaP/bJyiXY23CINOD/AqB9ZbrM5/mY611tXDqkdPkZ9Be2JTwM3v3/i/eBf1k2kkof0HDlAs\n",
       "w/5WQvcAAAAASUVORK5CYII=\n",
       "\" style=\"display:inline;vertical-align:middle;\" /></a><br>"
      ],
      "text/plain": [
       "<IPython.core.display.HTML object>"
      ]
     },
     "metadata": {},
     "output_type": "display_data"
    }
   ],
   "source": [
    "# here we allow for a 0 base but a non-zero exponent\n",
    "add_one_left_in_exp_poss_zero_base = Forall(\n",
    "    [a,b],\n",
    "    Equals(Mult(a, Exp(a,b)), Exp(a,Add(one, b))),\n",
    "    domain = Complex,\n",
    "    conditions=[NotEquals(b, zero), NotEquals(b, Neg(one))])"
   ]
  },
  {
   "cell_type": "code",
   "execution_count": 102,
   "metadata": {},
   "outputs": [],
   "source": [
    "# Redundant.  Handled by sum_in_exp.\n",
    "# diff_in_exp = Forall(\n",
    "#     [a,b,c],\n",
    "#     Equals(Mult(Exp(a,b),Exp(a,Neg(c))), Exp(a,subtract(b,c))),\n",
    "#     domains = [Real, Complex, Complex],\n",
    "#     conditions=[NotEquals(a, zero)])"
   ]
  },
  {
   "cell_type": "code",
   "execution_count": 103,
   "metadata": {},
   "outputs": [],
   "source": [
    "# diff_frac_in_exp = Forall(\n",
    "#     [a,b,c,d],\n",
    "#     Equals(Mult(Exp(a,b),Exp(a,frac(Neg(c), d))),\n",
    "#            Exp(a, subtract(b,frac(c, d)))),\n",
    "#     domain = Real,\n",
    "#     conditions=[NotEquals(a, zero), NotEquals(d, zero)])"
   ]
  },
  {
   "cell_type": "code",
   "execution_count": 104,
   "metadata": {},
   "outputs": [],
   "source": [
    "# same as complex_power_of_product\n",
    "# exp_of_positives_prod = Forall(\n",
    "#     c,\n",
    "#     Forall((a, b),\n",
    "#            Equals(Exp(Mult(a,b),c), Mult(Exp(a,c),Exp(b,c))),\n",
    "#            domain=RealPos),\n",
    "#     domain=Complex)"
   ]
  },
  {
   "cell_type": "code",
   "execution_count": 105,
   "metadata": {},
   "outputs": [],
   "source": [
    "# covered by real_power_of_product\n",
    "# int_exp_of_prod = Forall(\n",
    "#     n,\n",
    "#     Forall((a, b),\n",
    "#            Equals(Exp(Mult(a,b),n), Mult(Exp(a,n),Exp(b,n))),\n",
    "#            domain=Complex,\n",
    "#            conditions=[NotEquals(a, zero), NotEquals(b, zero)]),\n",
    "#     domain=Integer)"
   ]
  },
  {
   "cell_type": "code",
   "execution_count": 106,
   "metadata": {},
   "outputs": [],
   "source": [
    "# same posnat_power_of_product\n",
    "# nats_pos_exp_of_prod = Forall(\n",
    "#     n,\n",
    "#     Forall((a, b),\n",
    "#            Equals(Exp(Mult(a,b),n), Mult(Exp(a,n),Exp(b,n))),\n",
    "#            domain=Complex),\n",
    "#     domain=NaturalPos)"
   ]
  },
  {
   "cell_type": "code",
   "execution_count": 107,
   "metadata": {},
   "outputs": [],
   "source": [
    "# Not true in general\n",
    "# same_exp_distribute = Forall(\n",
    "#     [x,y,z],\n",
    "#     Equals(Mult(Exp(x,y),Exp(z,y)), Exp(Mult(x,z),y)),\n",
    "#     domain = Complex)"
   ]
  },
  {
   "cell_type": "code",
   "execution_count": 108,
   "metadata": {},
   "outputs": [
    {
     "data": {
      "text/html": [
       "<strong id=\"int_exp_of_exp\"><a class=\"ProveItLink\" href=\"proofs/int_exp_of_exp/thm_proof.ipynb\">int_exp_of_exp</a> (conjecture without proof):<br></strong> <a class=\"ProveItLink\" href=\"../__pv_it/theorems/d2ffb301cfe51925d0adef220da6ececfd9677700/theorem_expr.ipynb\"><img src=\"data:image/png;base64,iVBORw0KGgoAAAANSUhEUgAAATYAAAAaCAMAAAAKe4BiAAAAOVBMVEX///82NjYbGxsSEhKIiIgi\n",
       "IiIQEBB2dnbu7u5ERETMzMzc3NwyMjK6urpmZmaYmJiqqqpUVFQAAAAnLjGdAAAAAXRSTlMAQObY\n",
       "ZgAAAAlwSFlzAAAOxAAADsQBlSsOGwAABBxJREFUWMPdWYmWnCAQNAk3QoP//7EBlRtmRGd3X8Lb\n",
       "4+2sXUrRV7XL8n8tsfIfR3i9LMZY/hg/oAZPRR/vq4+gz9/Ibds8gF9/0quMHvyDiKfQAwSZnBDg\n",
       "H6WNpZuXDi82hCxLn4IGgZCeCdITobEG9M/TxuODozJgEGaL36c69shAEXcpmUgmAaG1xizRZpPf\n",
       "wzxt960fLUnibWnLJ/gnQ/vzSIb8HxubOxGHwGhjjWyiTcfUusp52u5bP1qatsGaEpPet7cem7XO\n",
       "7RSZTG0OQew+VlizwJ+jTdg25V2n7b71o7WF09K1j29+4+bIS4kFvVwvFAmhsV4h5bbzVBZq7uS2\n",
       "29aPWqsYdI0bufwD5wkSf5H0LGBhrtOWIdTWmifaQlmYzvBrXlS+tT4gHDJbc1uhUSh4u28oHw6I\n",
       "TiTeDKG2RiSrpAT7Regt2m5bP2pI1zrHSUuRROVV1E5VmQ5CvdTp5TttendBzu7Rdte6bL37zdmw\n",
       "2PGlTDbK529e1UvoRoDG2UrEdhHa5CASbdKGH4OzJZxq99WnbWjd03aIa1uc6atCQve8TylqPHkN\n",
       "tztVDiP78eNKSEzUzz5C45FnKToyk3cV2ko8gSzn7mMvPClDbNDuDqwzbReAGLcOynB6ibbjKHxr\n",
       "ruqrcDhCctxXb/untPaNCa/vIjTkFrQZ1EvpWp/1w10jjISRSuhbZ9ouAjnud7xrtFkZQTY58LaT\n",
       "NsKzPWVxN9GsdRFabxO5uFqD3so0GIIiBemxuIrWrrMGRGWl7SIQA6FqFZnTVlgvih4PyvI2qh+k\n",
       "bPP3h9q5DL6c2wYIbW6TOW3UHO1XpsFYviGQvb4n0BasF+bCWUTPOLVdAjLSNEoiu0u01tyvP+4b\n",
       "zg4NV65ugxlHx6bNUV5LfLjegQ8QXlZSL/EO2jMNprIndbFFX0j5YO3baadJKm2XgIABe0FbaX36\n",
       "6EEbqRqD0D+FHsOzZ3AdEnqiKeojNDM+Uk5AbHCmqMFg3c+c+1OgLis58thoAhKsfaaJcjdouwQk\n",
       "hBIvaCusg48eQbqZ/qkv4ohDZhEV0qISHquJStpFaALcDgZHUYOJdFTKCNgT+pvBEfMRxiHQe2q7\n",
       "DOgsCXk/xjvWPkh//+J7kPZLQigFXviM8zf+eJuda9KyVEQNlhpYuruuwm/nbcQnJ+Ui0Q9dorZL\n",
       "QJJqv3/a79uidT4hWLzQUXY4AYFxVOmPT7LyCUjp/UmDSR76D2udB/PVvqVNaTC7sfClL2i7CORr\n",
       "pYtYLfpBGq1L0eHaXd2kxCyDjnL4F4xkwF6Y7jLq40Tdm+6ai0D9vRn0VpWaKgm2yJ+f/8UXTl81\n",
       "FFdXJSqfPpB6PDmQ3+jzrH39u4TLsF3azIUSaL515FJF/TPaPvCe9L49qG+mLWRYhDGBv708Lzqi\n",
       "xeOUAAAAAElFTkSuQmCC\n",
       "\" style=\"display:inline;vertical-align:middle;\" /></a><br>"
      ],
      "text/plain": [
       "<IPython.core.display.HTML object>"
      ]
     },
     "metadata": {},
     "output_type": "display_data"
    }
   ],
   "source": [
    "# Works for integers powers through repetition of a^b (or a^{-b}) and adding exponents.\n",
    "# Does not work for fractional powers.  Consider sqrt[(-1)^2] = 1 not (-1)^{2*(1/2)} = -1.\n",
    "int_exp_of_exp = Forall(\n",
    "    n,\n",
    "    Forall((a, b),\n",
    "           Equals(Exp(Exp(a, b), n), Exp(a, Mult(b, n))), \n",
    "           domain=Complex, conditions=[NotEquals(a, zero)]),\n",
    "    domain=Integer)"
   ]
  },
  {
   "cell_type": "code",
   "execution_count": 109,
   "metadata": {},
   "outputs": [
    {
     "data": {
      "text/html": [
       "<strong id=\"int_exp_of_neg_exp\"><a class=\"ProveItLink\" href=\"proofs/int_exp_of_neg_exp/thm_proof.ipynb\">int_exp_of_neg_exp</a> (conjecture without proof):<br></strong> <a class=\"ProveItLink\" href=\"../__pv_it/theorems/5543c13871f5118b9f97e9c9d9e1792f1354363f0/theorem_expr.ipynb\"><img src=\"data:image/png;base64,iVBORw0KGgoAAAANSUhEUgAAAWUAAAAmCAMAAAAr4Hr/AAAAOVBMVEX///82NjYbGxsSEhKIiIgi\n",
       "IiIQEBB2dnbu7u5ERETMzMzc3NwyMjK6urpmZmaYmJiqqqpUVFQAAAAnLjGdAAAAAXRSTlMAQObY\n",
       "ZgAAAAlwSFlzAAAOxAAADsQBlSsOGwAABPdJREFUaN7dW4u2oygQdHdRXvLy/z92ARUaFUTMTUw4\n",
       "M/fMJOlSy6a6q+PtuualJ7tU98kldffARUYSz9CRRG6AafPpy5Gme+RifcLr8NUsq7F76FLmZ1hm\n",
       "t87+bxfVv8LyiD90YM0zb6AozZDZb2ZZ1xUVNtJXy4HIosrDkvHNLPeVqWxenPLE5FFFeJVP/BdY\n",
       "ZrX90cBe3NiIAmrs4Sj+BZYN3LK8dDcQMiR+REnFEJI39hBE3SLiUPXU8AssQz+ECuYE2d7VUSDm\n",
       "0kSUGGzkwFuPy0eIukXUMkqGBixHqrRqYbk9/qZgRJ50SXmpWhpr5E+PE+T+027HBAWoBG8QRdxh\n",
       "vQQszzLjNYW3sNwef6/QT8DQbu8AXRefBXQu+ItmGpvUYrh0RyHefNULKvMZDBBZZFmOgGW2JiOn\n",
       "TYrRHn9PliO1sriH3N0Y9KyfoRpK2bXWxJnHiJoiRsXo0AR1eS2LWDex3B5/aw1Rqcp5aQVUUVCF\n",
       "uLv4nunmzqPfoCaICIF+ngGW1ZIKl4cCC8vN8feKX9BiXT4wk+HKR3emwp01wu01xMkGRE0QKQeV\n",
       "Q8MeY+jdGnAjy83xL2ox5HpgbjDiqBCDrzVFGTxRuFACVJOEU/QsS5/ZlLSy3Bq/8aRHJ51nIPZJ\n",
       "43IxwlUiWmoeMjM82YMVb0QWT+arfPLWhCDL3Kw/MoVmoFjaPzmWs/FHZh9RaWCGlEom9u0Lxggf\n",
       "NHKB5V4v8xnlGSulxZXOooCHSWHCcSBqsytxaYjF/kqQodS+3HMHjEjWlWTigdlfoQg1rhkC7pOW\n",
       "dqw/c5R0oWuiTeF4w/wvOZ0ON9h0ZZMV8EjV3ptkwrJGR7VLyqVG2nvKNFd573ccD8x+gLI3yyNW\n",
       "sWx4wJh4PpcXlgfqtVCUDMWVXK7AOysdKcuWIoW2lhypRD1lyWGHeGuGFMJ8M0IIUEQxsZk7QJaT\n",
       "4KXKcC+Mgz5TDOJVUBWzVff1ulyDd8YySlnGem56gSWH1bJT/Ki9jCyv8R2x6hK972L2I5TmuwE4\n",
       "LMprsPQ+6z/7Vy2jt17tql94haKZFT17FZ2vTeqCb6rBq22DFpb50uMDSy7AddltjovTojXeOSDr\n",
       "OjcjhAiliCJ5ltPgZQPMLA9oRwLa9GeObN3LUtMirzSbFXgnjWDaL7t7tqZqsORqnJ27+yT2VZWQ\n",
       "/ExujXcaiQyUZWv2IxRjguVZToLXDTArxrTzlUO4ejbrADEIM25QwdP1V0S2Au9sniVyk89gyVm8\n",
       "70IzddS/7CefxO13qtb7sZh9ALVUP1CM6UGwU4x//6FeMTLVrwNNYl9JBO/f6pviN2ZbloEljy4D\n",
       "+10j+or58uCUVVhZcCPBYPYjFMe+b8eH/XIIhjMoPxkQ+yPJ2C+oyk0t3/uEDu67DMvAknO6NnLG\n",
       "2M1DR1PBspBK+3DmuoLV7Aco10ZY+ZDsUDFCcOokrSuR5GDySdLJwnkqv3VmaM/K5FhOtj92e1ac\n",
       "O+zMu3VQx5euUV0PsJ8enEx5PjJp+btvpEQl8jFBFfM9CnSCo/PPozeTLGIt+TuWazXwkGVd0Qyo\n",
       "oXv0wjFTPv/tanOG3TK/b1jArn7zUy94fDLJCGy1r35O7tWPs/xVKn83y+rByYzguX3388ujeirJ\n",
       "PHmq5rtZdkO8Ry7SJ3OXeyx//PdK+PjM58RpZOX275U8YWc+sgCSXY/5Pw8VOZ4On0BzAAAAAElF\n",
       "TkSuQmCC\n",
       "\" style=\"display:inline;vertical-align:middle;\" /></a><br>"
      ],
      "text/plain": [
       "<IPython.core.display.HTML object>"
      ]
     },
     "metadata": {},
     "output_type": "display_data"
    }
   ],
   "source": [
    "int_exp_of_neg_exp = Forall(\n",
    "    n,\n",
    "    Forall((a, b),\n",
    "           Equals(Exp(Exp(a, Neg(b)), n), Exp(a, Neg(Mult(b, n)))),\n",
    "           domain=Complex, conditions=[NotEquals(a, zero)]),\n",
    "    domain=Integer)"
   ]
  },
  {
   "cell_type": "code",
   "execution_count": 110,
   "metadata": {},
   "outputs": [
    {
     "data": {
      "text/html": [
       "<strong id=\"neg_int_exp_of_exp\"><a class=\"ProveItLink\" href=\"proofs/neg_int_exp_of_exp/thm_proof.ipynb\">neg_int_exp_of_exp</a> (conjecture without proof):<br></strong> <a class=\"ProveItLink\" href=\"../__pv_it/theorems/cbacb8b00650559b8518054fe2a6e1762cf59c0d0/theorem_expr.ipynb\"><img src=\"data:image/png;base64,iVBORw0KGgoAAAANSUhEUgAAAWUAAAAmCAMAAAAr4Hr/AAAAOVBMVEX///82NjYbGxsSEhKIiIgi\n",
       "IiIQEBB2dnbu7u5ERETMzMzc3NwyMjK6urpmZmaYmJiqqqpUVFQAAAAnLjGdAAAAAXRSTlMAQObY\n",
       "ZgAAAAlwSFlzAAAOxAAADsQBlSsOGwAABPZJREFUaN7dW4uWoyoQdHeRp7z8/4+9gAINQtbg5mqG\n",
       "MzNnjkk3WDTVXR0zTcPDrG7o6c6hzPTAQReaV+hBohecGXv37Sg7PXLwucAVfzXKepkeOrT9MSjz\n",
       "S6v/7GDmp6C8kJsmNqLzAsrUDJH9ZpRNN6nwhX2UDmR3CtVMGd+M8twPZfvJKKe2P4VMV8UqfgLK\n",
       "/EV9hPknCxv5YopcwzHyE1C28MiKagMQsvRwOR54pTlCavwMFVNUDknKehr/BJShHkKlOEGuXA13\n",
       "LVHjwGuJnSkWg/OKpZiicmhUpgwDUM5QGT2C8rj9RcLIMJmKI5mOtTQ6LklQ5F8a1mOSgSkoqRzK\n",
       "fMJmBVDeaCZwihhBedz+WqJfgaBt0PKe4zee5CwOv0TrIlzid3YUmm93vU/BceWQZ5TVAlDmMRgF\n",
       "G2KMcftrtJyhVXXA+g3AZufMdm5UahrMkBuOYIrCYWaMCa2Ql2NaJGYI5XH7SwNnpjqEpeNMzbqZ\n",
       "R/i7n7kZrUPmegroECFQz3OwBr2HwttNgR3lYftryS9xsTlMzFW+2eXAzNIvG5HhJBJYB04BHTIB\n",
       "MoeBO41nPzAZRHnY/h+VGCpOLCxBoq4qyHgh1PQHlUejgAGsSdMSA8oqRDajoyiP2leatLXoPgK5\n",
       "TorRKn0mYnXtcKJvp2Yw8qa0/fn397N88dKKIMrCxj+dRIMZUe6nh3LXviX2EVMWRsirlElC+UII\n",
       "Io1CLqE8m70/owNi9SLxYCR3/IUV0RcdjgapbbnBhyGRxztBljF3eRbeMaJdVdKxB2I/uqLM+mII\n",
       "qE/26sSGlaOiCo2Btqb58PafWpvNDb6OCum13yyhp87eqgqUDWrlLqX2HOn2lBuh+9qvbQ/EfnLl\n",
       "Nit4PIWyFcnHKvqxvKOMWeDCerPlaCx3/L2TOkqUHUQa1ZK8kE2qxZ9ZYSd7J4Y0IqLqJyRXVHNZ\n",
       "9R0gyoXxnmVEIEZs/sYYNLCgPkSumcd4uefvHZRRiTIxW9ELJDnMlpMWreoyoxztJ+rYJWvfXexn\n",
       "V0YcGuAwKUdjFXTWH/er99bbrA/ZL11haEPFbFqlmkEPaqWev5EyaEdZ7DU+kOQS3Jc75uRltyja\n",
       "ewXkVGfVT8iuNNW0j3JpvB+ADWWMDiCgqlbzYJv5cOjUaIHZ8fdGIVjWy37PYqgmSa6XTbn7d5KQ\n",
       "VSnt9+SivedIZKt+QnbFueR9lAvjeAA2xlgPuhKnu+cbJ1CLCBcWVRPMo8Ta8fdOP0v29GeS5DzH\n",
       "gDRct+qXY+eT+vPOdNyPXewDV3v2A8mYNYw9Y/z+xQJjdLLfBIrE+QUQYp7uGvkTsxplIMmzyiDh\n",
       "1Mj5RH8Ze2aVjhZ8SzCJ/exKkFC3k2a9nIxhDyp0BuRxJpVrB/3iUKv7nsoh89RBGUhywWIhZ607\n",
       "PGyxJ1CWSptgzn1VEMV+cuXLCEcfijcZIxmXStKpEkUbnU9adhbaocxuA3lidup2rGBd5c+s/LvC\n",
       "7rx6zlUbBoPO1QDH7kGjs3PTyFXQ5z6Rkic9twE60d9jgCdEZ1PQjSDLnEs+h/JZPmyibE4UBhpP\n",
       "jx4kR8r9n64OR9sl8fs/DCBXv/mpF7I8GWQEjtpXPyf30Wdb/mEofzfK+sHBjODavvv55UU/FWRR\n",
       "PFTz3Sj7Jt4jB52Lvss1lG//XolYnvmcOMuoXP5eyRNO5iMTID3UmP8BLko5nh6k10cAAAAASUVO\n",
       "RK5CYII=\n",
       "\" style=\"display:inline;vertical-align:middle;\" /></a><br>"
      ],
      "text/plain": [
       "<IPython.core.display.HTML object>"
      ]
     },
     "metadata": {},
     "output_type": "display_data"
    }
   ],
   "source": [
    "neg_int_exp_of_exp = Forall(\n",
    "    n,\n",
    "    Forall((a, b),\n",
    "           Equals(Exp(Exp(a, b), Neg(n)), Exp(a, Neg(Mult(b, n)))),\n",
    "           domain=Complex, conditions=[NotEquals(a, zero)]),\n",
    "    domain=Integer)"
   ]
  },
  {
   "cell_type": "code",
   "execution_count": 111,
   "metadata": {},
   "outputs": [
    {
     "data": {
      "text/html": [
       "<strong id=\"neg_int_exp_of_neg_exp\"><a class=\"ProveItLink\" href=\"proofs/neg_int_exp_of_neg_exp/thm_proof.ipynb\">neg_int_exp_of_neg_exp</a> (conjecture without proof):<br></strong> <a class=\"ProveItLink\" href=\"../__pv_it/theorems/be7a04289ce10cfb5ebd757b918fc18add79abe70/theorem_expr.ipynb\"><img src=\"data:image/png;base64,iVBORw0KGgoAAAANSUhEUgAAAVAAAAAaCAMAAADWgvRVAAAAOVBMVEX///82NjYbGxsSEhKIiIgi\n",
       "IiIQEBB2dnbu7u5ERETMzMzc3NwyMjK6urpmZmaYmJiqqqpUVFQAAAAnLjGdAAAAAXRSTlMAQObY\n",
       "ZgAAAAlwSFlzAAAOxAAADsQBlSsOGwAABCVJREFUaN7dWYmWoyAQdHe4kcv//9ilVRAREMlkjuXN\n",
       "9SbpQoq+qjNN//ESM//BcJflMMby28gyqucR6eeeuAinwx/IE2JfgJ+/0/ms7nkXEZ+6aRlOJn5r\n",
       "zC8llB2bN4JELAg5VnmL0UYgpJ+E/A6XWxv0+wnl8cFRI8gQZhMcWqHClRhFPAh5kLQC3MUas4RQ\n",
       "d0SReU7ouPVLS5K4Lb2h3cBjouvDSYbglYU9u0UPx2hujVxCqI7JfZbPCR23fmlpeg39PSx5WHLL\n",
       "eXo97MwuL07O+60iD1OohxMkt2bxWjyhwhVyazeh49YvrSXco27GxQIs2C3lVfjRU3/dOuBy69kk\n",
       "OXTe2aV2gNBx65cawugRbQfzuc3sF00uoS2BHyxsP6EJXGateUJoKEyPa8yclrUvrVAIhwza3lZo\n",
       "FMrRfHFlBcGF6IPUn8Bl1oikVZ5gWIQOETps/VKDPee5VDqKJGqYUDdeAe+wPb0hZFZC9eq2nI0R\n",
       "OmqdqYxis1kttzzzOwV1grcqtrkPIY2TdfB/jw05SCSEShd+VPyBcKr9V5nQqnVJ+SKu3em2W6WM\n",
       "rpWHUnTx/jlstys9RlbHwC1lRQb9swMbMqpKG3twL3qVxgI5zv2/QbBThlilsa9YJ8o3ADHuPJTl\n",
       "tIvQ7ZJAhaj8XThcLtn21cv6X9r0odEO7R4b+qYToRaViorWwY3941hpakqpbJ0o3wjkb2XF6yPU\n",
       "yQiyyIqH7oQSnh6qnOVGPbQDGzxUnKTnHORoolBP4kKXkt0cfwcxy6hBVGbKNwIxI1SuvlNCT9aT\n",
       "otuTsrT5K4c8W2B/0/RBi8dyaA82nFWeCKV2aycThcrSoxpZ6tYCocF6Yj45ROigfA8gK+1FTSW7\n",
       "RGu9apkP/232jhNn4eGCGUfboe1W+m1drZlB4dGDnVd5kMYu17cqOYOPVNoYjgRrEA5el2XK9wAy\n",
       "zLAGoWfr3a83QknWtMS2b2+GgFeLdatn0KN9XQe2PxrJpk0uOGBUqGbeRC/cD/XZz9PKatOmYA0Z\n",
       "7ZgT7Mr3ABJCiQahJ+vg11vIL7biEGILZOYQFdKhhujBapDQDuwwMCiN76JCFceNKivMWlJuxncM\n",
       "4pWbQPyufBOgvSil/SUvWEPI//3D15AvF6VQjED8dTbneHrnOmn5ir49WnW6urvCt/NQAklQ+biG\n",
       "AVdUvgeQpBqYoeU+NFqnM5cJxJ5y1QA2nQNi/dbh4mnaVNO3kodOwDnv9Xx2t4QqbexqLKAsB+Ub\n",
       "gaCO+/jXohzy0fosvHxjry+pN8nUXVPDN8/CTDoPrdNOIerUnfSsdCmdQOWDWnSr5m2WbG8qy3uH\n",
       "tcdnle/6CET1Snv++KrywbJE97ug9/L5BZ8pdcMWCbUdFdl+6XirO5+8RugnfC4/bm/UTyE0pniE\n",
       "MTH/AM/zMAYHzWLCAAAAAElFTkSuQmCC\n",
       "\" style=\"display:inline;vertical-align:middle;\" /></a><br>"
      ],
      "text/plain": [
       "<IPython.core.display.HTML object>"
      ]
     },
     "metadata": {},
     "output_type": "display_data"
    }
   ],
   "source": [
    "neg_int_exp_of_neg_exp = Forall(\n",
    "    n,\n",
    "    Forall((a, b),\n",
    "           Equals(Exp(Exp(a, Neg(b)), Neg(n)), Exp(a, Mult(b, n))),\n",
    "           domain=Complex, conditions=[NotEquals(a, zero)]),\n",
    "    domain=Integer)"
   ]
  },
  {
   "cell_type": "code",
   "execution_count": 112,
   "metadata": {},
   "outputs": [
    {
     "data": {
      "text/html": [
       "<strong id=\"diff_square_comm\"><a class=\"ProveItLink\" href=\"proofs/diff_square_comm/thm_proof.ipynb\">diff_square_comm</a> (conjecture without proof):<br></strong> <a class=\"ProveItLink\" href=\"../__pv_it/theorems/fb5e9e10be3edb9cee778bc49ee28d08b32d313b0/theorem_expr.ipynb\"><img src=\"data:image/png;base64,iVBORw0KGgoAAAANSUhEUgAAAQAAAAAmBAMAAADZ3ljKAAAAMFBMVEX///+IiIgiIiIQEBB2dnbu\n",
       "7u5ERETMzMzc3NwyMjK6urpmZmaYmJiqqqpUVFQAAAB6qHgnAAAAAXRSTlMAQObYZgAAAAlwSFlz\n",
       "AAAOxAAADsQBlSsOGwAAA+1JREFUWMO1WF1IFFEUPruzszvuj+5DUEFISEIUhkk/Yr9GUGHJpOJT\n",
       "tAq5BfazVGAU5EpgQaBLoAT6sOBDL0KTGdEfrZSCT07qg0KQC/YgRCgUypZs997dme7s/OzdaA54\n",
       "Xeecc+e755zvnLsCMMk7sEH4PmZT34IdAOC6yGo5acv7wc96Ls/efBZN9V8LDP/x7+j4Vxiti47m\n",
       "s5BgpDAAPvBtBWhkzMGXvHYp6I0UBKAkLqyy19a2vBbjhQLwixiAsMZWAj8ZjI4VWoEulAK4wGRa\n",
       "3EJ+RU3UAgFZrldYOmQ4+IEtXwm8OmQTtTeIlm59mVg7CG34Y68MpAw+WwLoJEeZNVI1V6FlC9pO\n",
       "EnTnnc2q9YIc4CE8QKtTgtf4yWNLAFOEuDFD3QBmqQjdHXdyQ0AcBoxpLYJwseMFZmMM7uJwtFgC\n",
       "WCLETRjq1nFFS3AkndYxPZFVG1BAAi6dXsZpWsZowCVbAjiMF844nYQgho2SU9V6UR0Cq+BHQIus\n",
       "i/AHXubNuQSDRqp5Va0X1cGDQlRVVrbHGsBvvIziVC1uCuZkM1mKoldv5DWqqmnpqe0CyoFHe78E\n",
       "aLN8v7CugB6KunNiGurj1+hhOVKGZZfikFHTKauGayLtsIIwgaB2ZE+/SuL2ZBcVJoAKBPcgmSA5\n",
       "U2I3wIwR7gpVTUljgkytGTq9btEVV/9exC8sDcf5q9GA0ia9KbzWoLpeBieei/wjck7c/F+RLTqN\n",
       "ANSoasr+fWaw/HX4hQoxSNXgfvTzBlm6zgJ81EQA7ce1QCieO6a8SDtkBiCjpmQf8Pg4QzQAiI3h\n",
       "G8XYSfyulVLRgfl77rbSsqkUhIKZnqRpAz5UFdNGNVChqqnmtAJ+TP9pugbgDLob8ts9uFoc5Q6p\n",
       "GT+fm6OKkLCgFQGQYSmg7birOKswYRSBVlVNAViH4tgc7YD3vodq0Cd5KtFHd8IfGybzfVwDO8Mc\n",
       "dzCw06d9yzdozzJOJ/WqWoNqWpIoB8KwYpRzLu7AVOAivoXJcDgsdzyhvA6Q6YmQJE/0bNRueL4O\n",
       "n3CH4ZVXVdP2G24lI5SDJ6XwOeoeR/wsAU6+STocKkJesSLcdJrfeATDfsfkEFBKhIt2DotN4BQn\n",
       "EC2xSV0UahWr59kBYnrBTJhMnPwOaq/2vv10Gm7InmdBNCjJPbu/XT3BFJm0l0z36zZ+zOLg1t5K\n",
       "M327KRzWsj1Enjeb7mfyJhaHEk3wvCa3bzcJphA02c5hcvdjcXiq8fWbXaErwS45xfY1KmUbgEP/\n",
       "E+c/iIMxtlzEJgCczPg9KmYTgM2shoP2vF+oZrVsiNoCoEFmhtpnC4DL7Kb3bfknFW64fwA/+/uz\n",
       "CUYDzQAAAABJRU5ErkJggg==\n",
       "\" style=\"display:inline;vertical-align:middle;\" /></a><br>"
      ],
      "text/plain": [
       "<IPython.core.display.HTML object>"
      ]
     },
     "metadata": {},
     "output_type": "display_data"
    }
   ],
   "source": [
    "diff_square_comm = Forall(\n",
    "    [a,b],\n",
    "    Equals(Exp(subtract(a,b),two),Exp(subtract(b,a),two)),\n",
    "    domain = Complex)"
   ]
  },
  {
   "cell_type": "code",
   "execution_count": 113,
   "metadata": {},
   "outputs": [
    {
     "data": {
      "text/html": [
       "<strong id=\"sqrt_of_prod\"><a class=\"ProveItLink\" href=\"proofs/sqrt_of_prod/thm_proof.ipynb\">sqrt_of_prod</a> (conjecture without proof):<br></strong> <a class=\"ProveItLink\" href=\"../__pv_it/theorems/1c4bc084bc4b976d3e83427a60419813f7157cc70/theorem_expr.ipynb\"><img src=\"data:image/png;base64,iVBORw0KGgoAAAANSUhEUgAAArsAAAAmBAMAAAA2Kk4FAAAAMFBMVEX///+IiIgiIiIQEBB2dnbu\n",
       "7u5ERETMzMzc3NwyMjK6urpmZmaYmJiqqqpUVFQAAAB6qHgnAAAAAXRSTlMAQObYZgAAAAlwSFlz\n",
       "AAAOxAAADsQBlSsOGwAACIFJREFUaN7FW31sFFUQn97d3m7voz2EKATEpkpAG7QxKo2AKcaofJnj\n",
       "ywSDXEngMHwe1IAx0S6gKDEp94cQ/jDxDBr/AOWCGKJFKEE0gOK1EAtG5ZoYDP6BJQGpBazva/fe\n",
       "2329vfaue5N0b3dv9s3M782bNzN7BXCmcH9/O5SAvgF3KJiBctHiKD4qu4ga/f3RQp4JZ0tjddYl\n",
       "G4+WDV1QJ5CPjRRXr5vwnnLJxFCyfPDCWapC1nV41cddsrA5WkZ4/TQwrXUd3spGlyx8v4zogkKd\n",
       "aEHUbXgv8bKq+ktGPVZtb/BXzvwAf9uZCjGoSqrMUW6fcRPeB/iLN4fPfzz8KlELUF0donlyG3bq\n",
       "+Kj1ugyvKjjVyuGDt4W3yZ8oIFwmhiZIboOfzu5yl+GtauKxxhd68YNqknuX+YtNFjkymZssAxWo\n",
       "l80GOkaonnyccBnear4yqUIOU1GC5D8Qsd+7zV/8aZHzkWQQxAP3OvDI/MVqA1VGu0NjRIbCS6D7\n",
       "1QneKvJZTO3Wwk/0DvR3vhSRYJzdqXp5h0pa5FTYTcA84cb8PDKy20CVqaM7QJrC+zW+2OMEbzCF\n",
       "U6tilvNP/MVfKIMpSfJfaVt+IT4zqEpZ5eyyeyEybbEDj4zsNlBlvqKpQ5LCi/c/rckJXrK7bi8G\n",
       "iCsWhwmWpI0RStvQSooeZpFzRuqFRxx4ZGHfbgNV5j66BHoovBhyX8Yx9uIZnVsMEE9Zei7e0uQJ\n",
       "tlLQmxWbSBY59t0GN5rqHXgG6Bt5ZcpcIolI+CYdKIRmoNJ5a/sBfRa1nK/zfSX0d7E08H5g20K5\n",
       "MIoXr0VOpXXRYJ5wMj+PjGQ2EGVaiK+qd9g8PVpb+5gzvN7a2vuLqmr5DR0vg0N4gf0x2rL1t87Y\n",
       "4jwUz/RCvgwFr8pD4hM+axaEeYKN+XlkJLOBKBMjCii3GbyHAVY4wxtMgL+YVgnLV6jD1LCZ3qv7\n",
       "b4iJVgOsd5QiMJE23MFaTA/nMiJG85kc7glbO20+c9d8PLLegswGokw1Rfsag7cVNNlsNYrwIp7W\n",
       "ooo2Cq8SNTKfyehiGgRrBK4F7XDQcSiB6ZwtAaTwLjIypcniE2EuzJo8nsyAPDJkB7ThHBedrjN4\n",
       "/VFfinezullwAuGZtpQVK2DWoDGtWN1tLLhAH20W4mE9+OxJtCJ6cINAIXOu/IuPx3BrQnnmatS8\n",
       "I1IsaTCZaFpZDhBj1Kn4WEPlsCeW4IfVHnPoHI83JYjmeCTiZTbwylRT5G4xeMOR3M624fIq+N0X\n",
       "DUbt8HYMbmdTx8dTyjo9vFzw3vDPWPMRTDVvE8RSsOGuXDb+BCh9EGT+UCdp16QNJoP2yr33t/V4\n",
       "diMMXvKEOgKPGqg3h87xYHg50RyPRLzMBl4ZC7yQPG4mG4dxBRdJ+8AOb2UoMhh421B64psH8K0Y\n",
       "HAK3mcPghRWLkGKjM7fsruGqoDql3cy3Nq/xpUOnNfay4HCgnXnYZPOJMJYb5qKRyYOCAy86XJM/\n",
       "9kts4JSxxF6Yi3La0JENY1lV1/XLFh/MbqtrSwnw+i4iXmXOKKNyW3j8ebtk8yYJTUtez/VKNJY5\n",
       "1CJZZDEtQ6pl4EpY5+G9g6qCC6FofngpE1EY4DtbQ5BmDp4aNrXLjCcoaiGugjJ5/BFBdCh/lSWx\n",
       "4cz3I9KGMix1MTIH2IbQW7K33asrZNgu38sfS7xXw3XBfN1oHSiThOLeevNFfLhwQfA5WhunwBNl\n",
       "SYw/Eq4L8t6L9O1MI8E+031IBCQhL5YUmIjCLDcS4yN1nhCKHxOMZIkOS+ANclu2yYMzMU50jkcm\n",
       "XmKDcnoaNBjK0NRFM/Je0vp5ewxURwME9y5I3y2BlzSW2qAZ1cb4oWBarYfPxqbESgbfJLQfH06e\n",
       "5L6bytLSJtYH2YiU736u9R4B3qWjXutOmC9ajQhIQp4nLTARhdHFQ7aqjfH9w/o0G81hCbweXmOD\n",
       "R60RRHM8EvESG7R5SbhhKNNC99Y+ofzrRnE5tDseX4vgXVgpg5fG8vGgdkbJblCRhXpFfLNCbtIM\n",
       "MB6PZzZ/yn23m81AL+uYeBJCxBJy5BUFBPduspFotjBZyVb2MZ12WHJyCLxbeV6DByYKorc61cM2\n",
       "G6oieDukytCXXuSVVA7eKdCmqo3UewMd9ryXrpVeWLOILoyY7j8Z1VUxQyQ3z+xHU/sqWXNoa1OM\n",
       "775g+t8KpC3NGBu878G7zvBihWWNoSBTaWd6n0UOgVdo3hg8uSYOEX3EqUSy2eBNBNMJpszTtPKr\n",
       "4eHVemBiF63eTgNy0QHa6Q1q30kM70Lw6i37o+BPoVOl0TiQmx1NHqAVnjZbhxlmwGKi1httzVcG\n",
       "gldbuflL5yqQKCxp4oVYDeXv2WORg+EVe4Mmj1/nRDv0D2U27ATPGwmmzDo6YpaHN5CFUe2wHTm7\n",
       "+qBOm+cyePf9iLgQvM2ZwJGOOaSgbs6oDdCs4wO9WZXYgfUkicTu1ebSjLFi9cBV4HY/RG99OMMS\n",
       "PWVvc23ZEVE4hx2fWFCG/7KiHG3m9YiJo4VHaeJE+x3b2jYbPoeKOYYyt3OtD0vrTXk2vmqAngOf\n",
       "XKOHKFa+aMQ4xUTPPDDuE4RsPC5ue362kDxGwqENKo8eoCyUILGafT6iS+SMFnkNHtgyMI+E5DZQ\n",
       "ZQL0uwM6DO1dmzpyLgTocx/21xineGB6thTOyxp67BWf8fug4aMT7PNsAbxnhyYinw0+msHNBBj6\n",
       "q8yQ7DSUvxHSB+5QLAXlJC9dw9OLgXcoNNMl+3zJssI7kgaKerfh9SZcMnBKWeGdzvmwm/C69rvQ\n",
       "U+VEt4JaOQbchtf+WmyYqKBXZcNF20j6oDW4D+983R0LlUnlQ1eZTE3NDAbe0vxvhbbLJRt3lO/3\n",
       "034K1BpSnhf4vxWlondckqMlygbvS9SHzdzwf41WDpe0GtdPAAAAAElFTkSuQmCC\n",
       "\" style=\"display:inline;vertical-align:middle;\" /></a><br>"
      ],
      "text/plain": [
       "<IPython.core.display.HTML object>"
      ]
     },
     "metadata": {},
     "output_type": "display_data"
    }
   ],
   "source": [
    "sqrt_of_prod = Forall(\n",
    "    n,\n",
    "    Forall(ExprRange(k, IndexedVar(a, k), one, n),\n",
    "           Equals(sqrt(Mult(a_1_to_n)), \n",
    "                  Mult(ExprRange(k, sqrt(IndexedVar(a, k)), one, n))),\n",
    "           domain = Complex),\n",
    "    domain = NaturalPos)"
   ]
  },
  {
   "cell_type": "code",
   "execution_count": 114,
   "metadata": {},
   "outputs": [
    {
     "data": {
      "text/html": [
       "<strong id=\"sqrt_times_itself\"><a class=\"ProveItLink\" href=\"proofs/sqrt_times_itself/thm_proof.ipynb\">sqrt_times_itself</a> (conjecture without proof):<br></strong> <a class=\"ProveItLink\" href=\"../__pv_it/theorems/e0556c616bcc490bc3658205868a3c9e18a17d940/theorem_expr.ipynb\"><img src=\"data:image/png;base64,iVBORw0KGgoAAAANSUhEUgAAAPwAAAAZBAMAAADnDF5lAAAAMFBMVEX///+IiIgiIiIQEBB2dnbu\n",
       "7u5ERETMzMzc3NwyMjK6urpmZmaYmJiqqqpUVFQAAAB6qHgnAAAAAXRSTlMAQObYZgAAAAlwSFlz\n",
       "AAAOxAAADsQBlSsOGwAAAxFJREFUSMetVk1oE0EUftvsZjf/iaWgFoIUhIIgUQQ9pgfFgoVFoiA9\n",
       "mICuUiwE7NlGCgUvGhHBi5JDEQR/0kKxrVDTg6CCGrxWMBcL4g96CKke1JlJZmZnM7thg+/w7fK9\n",
       "t++bmX3zZgD6s9cMelrVt6OnxaoUiM3+xfbDEdRh592SzPctf4YBsQvSoA4bTbokcXX0tEsMsOl5\n",
       "WQxj97plQY4Gfn7wqW5kKBCLV2RBjE27pUGONfy841M+kqVA7Jo0iLFnTZc0yHEFzyPvUz5RoUBs\n",
       "TRrE2FDNJQ1yhNDQ1LpP+VmTAjatLIvhbMRtdsgRRUML+a28HQxIFunoOatkXNJgx8GRkUN+5T8z\n",
       "wHYSTTX1aWZCjOFsuNm1MtzxFOC8dPQe8hYDbCdwcDq5JMZwVm8RYmkE2/52bua4DkbD9tX78fWb\n",
       "5CXIN/AUeahjrNTvUYjh8tsD8BLemV95TxRZ47dz+DZH0FRpCetpq6KocDwrykNuGuMG3KfEPgqD\n",
       "qL4U1LyKsNpe1V/QzWpd8jZHLMkq71kRfabAi6RDHhTc4A5DouSYvZ5DyzdAqAN8YE7WaHX/Pu4o\n",
       "byBIrQyXFLw/kfxQlcsrw1dXcHsugNGEQN25+NofvCrIwttwileWyOrbzn9vd0zcRiqlrVD9NNFT\n",
       "jUKNy++M5++S4+GI3oQB2j+2GDwv4c6tTcUzkOVzE9muyhccc6jyolDQ4SGRj5zL20qvFkwW8QfH\n",
       "Kkg+QI+oQQY3qjGUJ9aazIRtu19ko859LzjiOD+gdXhlWVZdUdRH9son/9tYL+LFT1CFJyaFYBO3\n",
       "TW0xufnGll9kIw3n7LscesaAGTJ7Jbxg2uQvQwmM70Wx9AIVCuGfm5K+ILJePb9tc2o5grYg+fdw\n",
       "lJeekRmHqvaFyKbgseTEuyU9LQXW68Tr5Ns9NgQGvp482JWdXOWzX1xImZrZaTvLfK0owMeGLLHA\n",
       "vnVrng5HzrL4xSHo1fS/MQiVpMtqZ0fdsox6KAR93PU8rb+7nq3nox1hXRS3TpZCb+vvpmv8r3v+\n",
       "sofjHxmJ4pkMg9QDAAAAAElFTkSuQmCC\n",
       "\" style=\"display:inline;vertical-align:middle;\" /></a><br>"
      ],
      "text/plain": [
       "<IPython.core.display.HTML object>"
      ]
     },
     "metadata": {},
     "output_type": "display_data"
    }
   ],
   "source": [
    "sqrt_times_itself = Forall(\n",
    "    x,\n",
    "    Equals(Mult(sqrt(x), sqrt(x)), x),\n",
    "    domain=Real,\n",
    "    conditions=[greater_eq(x, zero)])"
   ]
  },
  {
   "cell_type": "code",
   "execution_count": 115,
   "metadata": {},
   "outputs": [
    {
     "data": {
      "text/html": [
       "<strong id=\"nth_power_of_nth_root\"><a class=\"ProveItLink\" href=\"proofs/nth_power_of_nth_root/thm_proof.ipynb\">nth_power_of_nth_root</a> (conjecture without proof):<br></strong> <a class=\"ProveItLink\" href=\"../__pv_it/theorems/3b165fa6ec43d712182744e5247145c4178d8f530/theorem_expr.ipynb\"><img src=\"data:image/png;base64,iVBORw0KGgoAAAANSUhEUgAAARgAAAAZBAMAAAAYiyyuAAAAMFBMVEX///8AAAAAAAAAAAAAAAAA\n",
       "AAAAAAAAAAAAAAAAAAAAAAAAAAAAAAAAAAAAAAAAAAAv3aB7AAAAD3RSTlMAq1RmmUTNIjK7EInv\n",
       "3XZ/CtNrAAAACXBIWXMAAA7EAAAOxAGVKw4bAAAEGklEQVRIx7WXX2gcRRjAv7vdu/13dzmtiBUb\n",
       "IrYhEIiHSdGHEi8ktfVfPetTm2BS8yAVC5uXQkWbtY9qm5AS6vlQVg2iBmtsbaEI5SSUBEpLKEFE\n",
       "erAhwSDaIz4Z7qH1mz+3O5fdu9vY+MHMzczN7Pzmm2+++QagsewomrAJ2Q2bFhlTqng7TNehTX04\n",
       "mnWLXW+0A4zdJ7JWd4wyTvLOrYf5imRMlR3jSYBPWTNp6XqulA0e1P0/wZwlKm+hxYh1HNRx1vwm\n",
       "gL57FuaCByVtCpMm5acawESo/jNhWJQCZu18Clg+HMmxcioDyoUhKAePSqUpzF5SfrsBjEy+GA9l\n",
       "xvIMqoDr8nNozxyv/PEOasqJFYJH6WUK86FrP3VgVAJ+ItQuNSG3LOhwr2vNAAlLzlrBw4YpTBx3\n",
       "y2hpZDO4LLgYCmYMv5cQluwaXMKGUUieqgHzIoWRcBXxhgbcGdqO72JqFXbNXWc8A69D6lKNYX+x\n",
       "03SzWLzRECZRLN6ZCQXzKKaXvep3qJzS4x+jVo10YP8LS1//hMCDNoXZD/BZQKeZKhjZAs2ucpi1\n",
       "JM8NgMsl0nvJeRVA8jQrF6lQumyqWV7A3bUozAgoQczZKhjsMuI1aG5JnaQ/xjWX/Qgm5tej5Aji\n",
       "PM/C8/Y2rAYeJMmUyhG0lNEchdFsIyf6icXLsCe9EQaVdzkIBqYnmAM9VGlYxHSdmQGOSzkAFrxA\n",
       "uQNvBBVkqrHvGUzU8ez3zPZJeNKwZdsH0yHarya6K+Jx56HJFDRDYdTpdeL2iNwiWS0Xk3BIPmrx\n",
       "U9Lt7uV+4o2drAE/9i325USYuIRjUisn93kwvCadB6UMiRbfNul/8zsn9g98i4teCLQZGDR1XPuY\n",
       "yWAuohORes+sACyTP9t2nTR8NgNGK45YjYy/5cFUatKcWoZkxc9tx3SeFV8z4TdkmowUyHGQAj3r\n",
       "N7kngEzHTxO8j4RfDmQSpk67txlf9PthlJ8xy2iO5cHwmn41hzBM2dxh/MCKo9koQkTXpwqxFnZP\n",
       "+OXpj16Bg/i7h9/aEfzke79Dkx2jq2uD7B9+GHiM+npTtBlaU3ossk1NlW0iSzzNTatM3Lt+wNn5\n",
       "DLk1c0EwU6VoLxnaI4YQzTAA0tF8fgJhpuM+P8PlExaoaF5NeciqNuAEzplkPj92b6cw7Qd1feWw\n",
       "CDMPfao6wzQT6wiOZ5TCFaYwza3pj1CIEnp64daWuFrfFaOB3nos/Nbm86zBr23ME2MIu1QjuDrQ\n",
       "X7I9zZCabnOn95LrOMgJPscNIr0xsqwlUlqAiaXhzwycQPWqv5gslqoT6Wn1vvswOSP8bhQiIK1u\n",
       "NJQ0fWGnfjU/GSbs1BrFwIrja16tazIPEAMLd1Me5Vz16yDc7f5fXwfHNr6blC1/N9nk3TT7LxH/\n",
       "/sJUiYsGAAAAAElFTkSuQmCC\n",
       "\" style=\"display:inline;vertical-align:middle;\" /></a><br>"
      ],
      "text/plain": [
       "<IPython.core.display.HTML object>"
      ]
     },
     "metadata": {},
     "output_type": "display_data"
    }
   ],
   "source": [
    "nth_power_of_nth_root = Forall(\n",
    "    n, Forall(x, Equals(Exp(Exp(x, frac(one, n)), n), x),\n",
    "              condition=greater_eq(x, zero)),\n",
    "    domain=NaturalPos)"
   ]
  },
  {
   "cell_type": "code",
   "execution_count": 116,
   "metadata": {},
   "outputs": [
    {
     "data": {
      "text/html": [
       "<strong id=\"nth_root_of_nth_power\"><a class=\"ProveItLink\" href=\"proofs/nth_root_of_nth_power/thm_proof.ipynb\">nth_root_of_nth_power</a> (conjecture without proof):<br></strong> <a class=\"ProveItLink\" href=\"../__pv_it/theorems/1edba545a9f6128ff551398200c213782cf702630/theorem_expr.ipynb\"><img src=\"data:image/png;base64,iVBORw0KGgoAAAANSUhEUgAAASQAAAAmBAMAAACfaPtgAAAAMFBMVEX///8AAAAAAAAAAAAAAAAA\n",
       "AAAAAAAAAAAAAAAAAAAAAAAAAAAAAAAAAAAAAAAAAAAv3aB7AAAAD3RSTlMAq1RmmUTNIjK7EInv\n",
       "3XZ/CtNrAAAACXBIWXMAAA7EAAAOxAGVKw4bAAAEi0lEQVRYw7WYf4gUZRjHn92Z2Z2d2ds7CCJF\n",
       "bO0H3B/qbeKVknRjd6aQ5Sr+p+CCf4T+NYKExuFt/aeCZ8IR1x85lUUl6qYVyFGsP0A5URY9Q4qj\n",
       "ubqEyzhPQ64u6Hp/zDsz7+zOzuzIPLA777vzvLOfed/v87zPDECwdc3/BS3ZqxDBPjfw96b5uTDO\n",
       "S1q8uNgRBUn+iR5H40B6ESLZC/EhyaPRkDL52JBSFa779Hy9zTQap4zGhtRlcHMWXlhrY0P62ToK\n",
       "61ag+cqUQw8c0GNCklkUJ6egBnCwBTFVYkJKHGWtp9Il9IUaaff5tO9IoRoTUnuBtWq5bgNTwa/u\n",
       "85LpNzL9kCIR9T0bhBTCi9mgziKoI3kOEkW0gnwI/uY7dIwircOHt4KQQngx6+F6b+OtgnVWrprW\n",
       "UJIw/Ia+RpHexTN2NAgphBezJ+u2u142bd2X4AqSjOY39D5FwsxqPggphBezC1z6w1KqMq2cLsFc\n",
       "MwF3lclZAakxFSjvEF7M/nV38G0kS3YwmhLG2+krwzwFvj4+fi044oK9mHGFzClcGCB1K9MLD5+F\n",
       "bFnU0ER87R1yeuKLEUxzpkCRNgB82ODKFR6J99L8iWgkI/uKRVcK/ZEIE+YbMABt75WtSkEcJ0ZC\n",
       "WcstFms4f5gUaQ+kG21DGo/EezlCP1gkh5F7dvK2kOTLJDWhTxuagJegx3gCNkPuHPphqTdF6sJc\n",
       "Ak9Qe4UiZQy16L7LsW9hTUcdEu/lICnn8YwLpsR+kh7R4zPH0VcO33YWDSzTALck492CQKRya9co\n",
       "UtJ0dHtkwRAsUQ3RqENye7mRAKbQ/WXLMOuZJdiBfm8DCwnghjNie92SZE0OCUqv2BXqBpyjTU2F\n",
       "b/rG+orchkK8ptdP6g6S1VttwoABF71IbWjRXgZr4UCapeLCtsyrJdihK4ZLS3B2N5r53iOTVqrv\n",
       "fP6AWq8l4pXTF6TyNpLdW6MPGnCLLTyLOAGtICmnMyYoQ4mqEzCrPXP0ZXERqPb2iJH6Eemn2wtZ\n",
       "XSH/1Kl+sq0BEvYS4CPZWTjWOzkECIktjPIfG/aPtbmpHZD8+0RVsjPt694MeWgjbCEFk5WXIIHi\n",
       "8p270G5IZA/vBG2qAVKClGKznJZIby8qP9DCsfWCy6yxSae7mVwD5U3zuRX29W57kE5MJ3sJ72DR\n",
       "ndsXI9EJu4aHjyGkk6n6vGQJpZp2IZHeHlwQueQNu+wiUdtKG3c8mavWtES2ka5CnyxX6CxJy33q\n",
       "pX61JDpIpPfxeiIrU7Kz1ka7SJyxSoeVnse8gh/S9+4SLj0Ddzppfu4GmPBBEn//4Q8HifSsMBqZ\n",
       "tCuOHtaSHliYGZ273H7fzP++Gwnd5L0C7Ed6kX/UIRFUVTYrU87YMv7FQlF49w+ab498naCcHx4K\n",
       "Veg2Q8ponsdXgAPu8zndb6Q0+xi1t2uPG0am1xf1UUwtPQaS3sRbeRQVKZuP69Hyu6hIf8b2tJst\n",
       "R0S6GBuSUIpGlCvF935pZzSkfj0+pFN6FCLlZguvvFp9V5neHemNV6GFd5Ut274ogz5jjf8BqMFF\n",
       "YuSftT4AAAAASUVORK5CYII=\n",
       "\" style=\"display:inline;vertical-align:middle;\" /></a><br>"
      ],
      "text/plain": [
       "<IPython.core.display.HTML object>"
      ]
     },
     "metadata": {},
     "output_type": "display_data"
    }
   ],
   "source": [
    "nth_root_of_nth_power = Forall(\n",
    "    n, Forall(x, Equals(Exp(Exp(x, n), frac(one, n)), x),\n",
    "              condition=greater_eq(x, zero)),\n",
    "    domain=NaturalPos)"
   ]
  },
  {
   "cell_type": "code",
   "execution_count": 117,
   "metadata": {},
   "outputs": [
    {
     "data": {
      "text/html": [
       "<strong id=\"sqrt_of_square\"><a class=\"ProveItLink\" href=\"proofs/sqrt_of_square/thm_proof.ipynb\">sqrt_of_square</a> (conjecture without proof):<br></strong> <a class=\"ProveItLink\" href=\"../__pv_it/theorems/9076a7dbea5e5188c7ddaf89e840536e08b8adfa0/theorem_expr.ipynb\"><img src=\"data:image/png;base64,iVBORw0KGgoAAAANSUhEUgAAAK4AAAAmBAMAAACvwb1oAAAAMFBMVEX///+IiIgiIiIQEBB2dnbu\n",
       "7u5ERETMzMzc3NwyMjK6urpmZmaYmJiqqqpUVFQAAAB6qHgnAAAAAXRSTlMAQObYZgAAAAlwSFlz\n",
       "AAAOxAAADsQBlSsOGwAAA05JREFUSMedV11o01AUPmmTNWnSrnsYOIVR+uSLUkVQBKHCBPcwqX8T\n",
       "2cM22DrxB8s28U2De3EIroKCDz5E8EVwrE5Fp2NMRHCIrIgIoqAi7kFkTHCsOEc9N39Nsl5v0gs3\n",
       "PWnO/e75+c65CQBjyCUIOIQbfrRmIPAYzLJ1lEJwXOULW2coGxwXzrBVrjvkeGX9qLnoMNOY2LLj\n",
       "5oJfe2VmIEIZx82AX1yxzNK46PAo0uM7wH0shQVnePN4UU2Oti1mLbnGeMHC/euQR3FyZpXIICfh\n",
       "NnXZWAn0EH+iPI84A/UD5ztTbtTEFeBmqWkpwlPye5PG8CVHMrBCBKtKlCziArVg5YJOHpGWkXjB\n",
       "3SjkqoV8EuA1DZdbAgkzztN6S9hBxOPk3t0EwjT+x1ZAQRMk2r6NDvp24PxQjUo/XiRagCNrANtT\n",
       "qR1U3OpCAf2GhzgPth5rK8EVuIx+eutKaPo+TPYXkEePAfr/wxeiRdzVk38LZ5H7KifFgfOPrGY3\n",
       "mSJjq0G/1sQkEX4BXAXRue3b9plr1XLTcYeKhDpE2oJYqrIcnw1XKkiVWNpjxyuYz/4kwm+Ahiyv\n",
       "WWFpzWkcD/vtqE6QJ7H3hG1N5H436hASWfpLHtw8TBnCKi5L2Gl7hpXKcfAy4bY3SqouaeIiC+zH\n",
       "0fS6yG2zcaHwnJjzZJOqhxBxm4tuXEih+xkzDuiEKpj8iiU98YVoGY6a8YUOLBtOXZBKnTqlebHX\n",
       "ZsGYIc1rENKhegE6tW/AW1XnqSfhZDwNGauvjGDaFOiNwD0dV+6rancbLjf2mI3hAMDncw9g3CrB\n",
       "jLccutJR4qK4ZvU/wA4zl8vlShzHj1frzYiIXDZbwSBAV1Ns2irPkOax937i4xs9oX/s1KZFGNbt\n",
       "5aJ37PKUDNPF1aixQSjvwrnEPL5G+IKMjNPjC/vsvMlmws9KRg9Xiq7l0zRcPmkBbNzbDCI5wO62\n",
       "ZLqm7D5p7juxaP5xwnWMUQ+mBneBH8nl3BET1sxAWv2907Va9dFXao9TnjcYMeF4uIG6bEJl4DIP\n",
       "wNqjnaXQrdWFu4elwBfqgeXSTJWd9eCG2e/Mc/XgtrBVpNngsOIuHy/1m4PjHvLz6TAa/MX6tC+n\n",
       "8oG/Wwg3/wEsRM6NcatQcwAAAABJRU5ErkJggg==\n",
       "\" style=\"display:inline;vertical-align:middle;\" /></a><br>"
      ],
      "text/plain": [
       "<IPython.core.display.HTML object>"
      ]
     },
     "metadata": {},
     "output_type": "display_data"
    }
   ],
   "source": [
    "sqrt_of_square = Forall(\n",
    "    x, Equals(sqrt(Exp(x, two)), x),\n",
    "    domain=Real)"
   ]
  },
  {
   "cell_type": "code",
   "execution_count": null,
   "metadata": {},
   "outputs": [],
   "source": []
  },
  {
   "cell_type": "markdown",
   "metadata": {},
   "source": [
    "### Expansion Theorems"
   ]
  },
  {
   "cell_type": "code",
   "execution_count": 118,
   "metadata": {},
   "outputs": [
    {
     "data": {
      "text/html": [
       "<strong id=\"square_expansion\"><a class=\"ProveItLink\" href=\"proofs/square_expansion/thm_proof.ipynb\">square_expansion</a> (conjecture without proof):<br></strong> <a class=\"ProveItLink\" href=\"../__pv_it/theorems/40bdcac255804c45e1ed4fa594182a4641e358070/theorem_expr.ipynb\"><img src=\"data:image/png;base64,iVBORw0KGgoAAAANSUhEUgAAAK8AAAAaBAMAAAAzuxGAAAAAMFBMVEX///+IiIgiIiIQEBB2dnbu\n",
       "7u5ERETMzMzc3NwyMjK6urpmZmaYmJiqqqpUVFQAAAB6qHgnAAAAAXRSTlMAQObYZgAAAAlwSFlz\n",
       "AAAOxAAADsQBlSsOGwAAAq1JREFUSMdjYCAKsLq8C2CgJuBZAKG5GbgViNfFTVjJbSjNv4DjO/EG\n",
       "cyQQDIEJMJcHYDGYA6uhIOIgIYPZDsCZLJhBIYtNC5cAkGACRsgDEO8ODoObEcwijMjjdcCqRwaI\n",
       "GYGm7gJxZuAweAvCh6kYkpHY9XACXcD6lYGhDl9g/4Kzuhk60CX34EhIG4DEHIgFLBewq2H/Cndw\n",
       "evlWdFkDHK4xBeJtQAuA8cOJQwkjPMKY////gB7EE3DoArqWQRiIjZSUTHAo4QPpDZQLd8HmI25g\n",
       "3LEKPi3xhYtAVfoBmeuB4bCdgSEVV2oDhf0GxoeIXLdJCQT0wJF0AJTF5AQ2wZVDVZ4EMusLGBj6\n",
       "GDgeoPg/+2EjLIKBEjwNPF/5DmCxlQnouBMM5wPewGMNqvIykN0PLArYAlgWwCJLLm0Ba14DbwpM\n",
       "LzCC2Rm4sQcmM1BXAcNOMDsepASmsh4kAJTkFYDH3W6gB1gCGRiOILkYaIIAToMZGAzhLoCrXAxy\n",
       "MdAkhgmgnC24Q7qBEeTjmCpEIQAxeH0DawCWMAYFBQPXD4ZQhF0QlZdArm4AEr5TgQHb8IzzQhhI\n",
       "8sYNpFQBjLywBY8ZWLDGrAADaxafAQM8Y8NUHoOmCoZmUBQxJLIzrAFJHz2KFI/APHC/dDPDWmwG\n",
       "szxg4P0ebcAFT4owlaBy4DDYXaDwYPgBTCdpaWkXypcjlVTAnBctyLsHa8ZkV2Bg3Shw+yxcAKZS\n",
       "C4j3IZQZcDCUgB0CjDxWmKgVvjJVHUcprwDNfZDykWUCNzDhgcS9GxgcMUs3LOA0jnrpAKR0g/Kk\n",
       "HEWBJQ2IGTItuwAmXIy3FmjAKtwGyisPUMVC0tIWoBYWF/DVW9gL2wxQUmwgts7DChqxlogNxNR5\n",
       "DFfIajQQrqXh7QrSADcwFQAAGwKeFvLAoj8AAAAASUVORK5CYII=\n",
       "\" style=\"display:inline;vertical-align:middle;\" /></a><br>"
      ],
      "text/plain": [
       "<IPython.core.display.HTML object>"
      ]
     },
     "metadata": {},
     "output_type": "display_data"
    }
   ],
   "source": [
    "# until we have the more general \"exp_expansion\"\n",
    "square_expansion = Forall(\n",
    "    x,\n",
    "    Equals(Exp(x, two), Mult(x, x)),\n",
    "    domain=Complex)"
   ]
  },
  {
   "cell_type": "code",
   "execution_count": 119,
   "metadata": {},
   "outputs": [
    {
     "data": {
      "text/html": [
       "<strong id=\"cube_expansion\"><a class=\"ProveItLink\" href=\"proofs/cube_expansion/thm_proof.ipynb\">cube_expansion</a> (conjecture without proof):<br></strong> <a class=\"ProveItLink\" href=\"../__pv_it/theorems/c6d074ac2add1091fe62a04b991398197747540d0/theorem_expr.ipynb\"><img src=\"data:image/png;base64,iVBORw0KGgoAAAANSUhEUgAAAMkAAAAaBAMAAADvQmW3AAAAMFBMVEX///+IiIgiIiIQEBB2dnbu\n",
       "7u5ERETMzMzc3NwyMjK6urpmZmaYmJiqqqpUVFQAAAB6qHgnAAAAAXRSTlMAQObYZgAAAAlwSFlz\n",
       "AAAOxAAADsQBlSsOGwAAArVJREFUSMdjYCAK9Fx8zkA7wLMAQj9hECbXCG7CSm5D6XIGJ3Jt4Ugg\n",
       "pIJ1ApypgynbQNgGEHGQkCq2AzCWpACGJOMFgrZwgXQxBTAwPADx7uBQ1YzwVSKG5BUigksG5Bqg\n",
       "FbtAnBk4FG1BMOsLcIcmbsAJ9AfrVwaGOnwR9AtmojlD/wH0tHOAmDS6AUjMgdjGgiOE2b/CWKoM\n",
       "hwPQJJmJSmGmQLwNaBvQSZw4lDAqwFglgi/QJW8SZQvQH+CsZqSkZIJDCR8w6FkFn5b44oqzQLlw\n",
       "F3g4oKqESvkBmeuBwbCdgSEVV0JOAGVdOYFN8LhQAoMHMFduYHzIrYDI5EgqYVInoQmnj4HjAUow\n",
       "ZT9shKUQoMQJhvMBb7A5QRcY2g08X/ngiQBFJUzqMpDdDyym2AJYFsBiWy5tAWteA28KlM8ETCEF\n",
       "DDuxe9QKqJ6BG5Kc40EUTCXrTwaEVD1IFmg+rwA88ncDvcYSyMBwBMkvDAyGOG0BJjQBuHMQKrUZ\n",
       "EFKLQX4BZbUJoIJGcId0AyPI8zFV0OIHZgvXD4ZQbPGiCyLWN7AiUjiySpjUJZB/QAWe71RgZDQ8\n",
       "47wQBpK8cQMpjSUwsGbxGTA4YPMLsMgJW/CYgQWexFBUwqSOQdMYQzPQaTwMiewMa0DSR48iJQQD\n",
       "Bt7v0QZcWDMtMI3eL93MsBbGR1UJkwKl98NgF4NLqB/AVJeWlnahfDlSkfqVgXWjwO2zWOOliIEh\n",
       "WpB3DyK7oKiESWkB8T5EYWLAwVACYoBinxUlhnEApgJiqjAFaM6CFPEsE7iBaRok7t3A4IilTMZe\n",
       "EBKsjg9AymQoT8pRlIEjHcQMmZYNd2UxPhMyiLClDeScB6hiIWlpC1ALMnzVYRgRtoBcwkSo5sZb\n",
       "U3EIELSEsYGYep+oWpfiNgy8PUYB4AamKQBxlKtxxhkbMgAAAABJRU5ErkJggg==\n",
       "\" style=\"display:inline;vertical-align:middle;\" /></a><br>"
      ],
      "text/plain": [
       "<IPython.core.display.HTML object>"
      ]
     },
     "metadata": {},
     "output_type": "display_data"
    }
   ],
   "source": [
    "# until we have the more general \"exp_expansion\"\n",
    "cube_expansion = Forall(\n",
    "    x,\n",
    "    Equals(Exp(x, three), Mult(x, x, x)),\n",
    "    domain=Complex)"
   ]
  },
  {
   "cell_type": "markdown",
   "metadata": {},
   "source": [
    "*Note: Could eventually include generalizations to “even power closure,” etc, but need to define and implement an Evens set to do this*"
   ]
  },
  {
   "cell_type": "markdown",
   "metadata": {},
   "source": [
    "### Sqrt(2) is not rational"
   ]
  },
  {
   "cell_type": "code",
   "execution_count": 120,
   "metadata": {},
   "outputs": [
    {
     "data": {
      "text/html": [
       "<strong id=\"sqrt2_is_not_rational\"><a class=\"ProveItLink\" href=\"proofs/sqrt2_is_not_rational/thm_proof.ipynb\">sqrt2_is_not_rational</a> (conjecture with conjecture-based proof):<br></strong> <a class=\"ProveItLink\" href=\"../__pv_it/theorems/e94751def7d13f9efa254c4f90001431f82253b00/theorem_expr.ipynb\"><img src=\"data:image/png;base64,iVBORw0KGgoAAAANSUhEUgAAAEQAAAAZCAMAAAC/3XipAAAAP1BMVEX///9jY2MJCQkdHR0NDQ0W\n",
       "FhYQEBCIiIiYmJgiIiKqqqru7u5mZmYyMjLc3Ny6urpUVFRERER2dnbMzMwAAAAuBFllAAAAAXRS\n",
       "TlMAQObYZgAAAAlwSFlzAAAOxAAADsQBlSsOGwAAAXdJREFUOMulVNuWwyAIdG8qAt7//1tXTZqg\n",
       "7WZ7Wh7ao9FhGEaUmqPUM9SrkYp6O0p6H0PF8D6G58uvz4HQJRFGscCcWtA9MA4inogf6VuiWJio\n",
       "2xEPMd8RcR2ja5truKSZbbb9P1BYWoEwtB0Mtb4DAUEqq129pKyZTm3guvbSY52qNQl+vuGQPSHu\n",
       "teWywbkwpYobnypUCWxQxXMDkyp7fucUtQ9G7wmM5AVVNh5voh/VBLvjW2WdKpj3pDA9IYHIvTJZ\n",
       "ejD95nbQKNfxsI76JoFAtpNXk/i83dyYmCEHDRFBnCLZt6IB4Ouz/Ry7sybjoq/UVsI1Nk6dH8Zx\n",
       "01tHv3Sn7bWuCroDz/vJIDCZIUif7PChGkdS+96rE7S1LdDi3ptj4+lY1nwk9kA9ZGp2cX1L+fZ2\n",
       "TnRXo3DICDkUMH4GXOcCVeZKEpyvZ4X9yKl1Z542jd3ybq6D8eEYNG0iuPLkMPR/TF4XE+tknwOZ\n",
       "TfLq+P7n+y8+tRIwjCbbTQAAAABJRU5ErkJggg==\n",
       "\" style=\"display:inline;vertical-align:middle;\" /></a><br>"
      ],
      "text/plain": [
       "<IPython.core.display.HTML object>"
      ]
     },
     "metadata": {},
     "output_type": "display_data"
    }
   ],
   "source": [
    "sqrt2_is_not_rational = NotInSet(sqrt(two), Rational)"
   ]
  },
  {
   "cell_type": "code",
   "execution_count": 121,
   "metadata": {},
   "outputs": [
    {
     "name": "stdout",
     "output_type": "stream",
     "text": [
      "Adding theorem even_pow_is_even_fn to proveit.numbers.exponentiation theory\n",
      "Adding theorem even_pow_is_even_fn_rev to proveit.numbers.exponentiation theory\n",
      "even_pow_is_even_fn expression notebook is being updated\n",
      "even_pow_is_even_fn_rev expression notebook is being updated\n",
      "These theorems may now be imported from the theory package: proveit.numbers.exponentiation\n"
     ]
    }
   ],
   "source": [
    "%end theorems"
   ]
  },
  {
   "cell_type": "code",
   "execution_count": null,
   "metadata": {},
   "outputs": [],
   "source": []
  }
 ],
 "metadata": {
  "kernelspec": {
   "display_name": "Python 3",
   "language": "python",
   "name": "python3"
  },
  "language_info": {
   "codemirror_mode": {
    "name": "ipython",
    "version": 3
   },
   "file_extension": ".py",
   "mimetype": "text/x-python",
   "name": "python",
   "nbconvert_exporter": "python",
   "pygments_lexer": "ipython3",
   "version": "3.7.3"
  }
 },
 "nbformat": 4,
 "nbformat_minor": 1
}
