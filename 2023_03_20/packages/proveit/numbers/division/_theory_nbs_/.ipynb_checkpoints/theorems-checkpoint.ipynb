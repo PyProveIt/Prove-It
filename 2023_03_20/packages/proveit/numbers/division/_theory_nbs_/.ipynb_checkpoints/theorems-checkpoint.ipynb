{
 "cells": [
  {
   "cell_type": "markdown",
   "metadata": {},
   "source": [
    "Theorems (or conjectures) for the theory of <a class=\"ProveItLink\" href=\"theory.ipynb\">proveit.numbers.division</a>\n",
    "========"
   ]
  },
  {
   "cell_type": "code",
   "execution_count": 1,
   "metadata": {},
   "outputs": [],
   "source": [
    "import proveit\n",
    "# Prepare this notebook for defining the theorems of a theory:\n",
    "%theorems_notebook # Keep this at the top following 'import proveit'.\n",
    "from proveit import ExprRange, IndexedVar\n",
    "from proveit.core_expr_types import x_j, x_1_to_n, w_1_to_m, z_1_to_n\n",
    "from proveit.logic import Forall, InSet, Equals, NotEquals, Implies\n",
    "from proveit.numbers import (ZeroSet, Integer, Natural, NaturalPos, Rational, RationalNonPos,\n",
    "                             RationalNonZero, RationalPos, RationalNonNeg, RationalNeg,\n",
    "                             Real, RealPos, RealNeg, RealNonPos, RealNonNeg, \n",
    "                             RealNonZero, Complex, ComplexNonZero)\n",
    "from proveit.numbers import Div, frac, Add, subtract, Sum, Mult, Neg, Exp, zero, one\n",
    "from proveit.numbers import Less, LessEq, greater, greater_eq, number_ordering\n",
    "from proveit import a, b, c, d, e, j, k, m, n, w, x, y, z, P, S, Py"
   ]
  },
  {
   "cell_type": "code",
   "execution_count": 2,
   "metadata": {},
   "outputs": [
    {
     "name": "stdout",
     "output_type": "stream",
     "text": [
      "Defining theorems for theory 'proveit.numbers.division'\n",
      "Subsequent end-of-cell assignments will define theorems\n",
      "'%end theorems' will finalize the definitions\n"
     ]
    }
   ],
   "source": [
    "%begin theorems"
   ]
  },
  {
   "cell_type": "code",
   "execution_count": 3,
   "metadata": {},
   "outputs": [
    {
     "data": {
      "text/html": [
       "<strong id=\"div_rational_closure\"><a class=\"ProveItLink\" href=\"proofs/div_rational_closure/thm_proof.ipynb\">div_rational_closure</a> (conjecture without proof):<br></strong> <a class=\"ProveItLink\" href=\"../__pv_it/theorems/e0f043310f6867102a6e9429a224575367539f3d0/theorem_expr.ipynb\"><img src=\"data:image/png;base64,iVBORw0KGgoAAAANSUhEUgAAAMAAAAAmCAMAAAClH2SqAAAAOVBMVEX///82NjYbGxsSEhKIiIgi\n",
       "IiIQEBB2dnbu7u5ERETMzMzc3NwyMjK6urpmZmaYmJiqqqpUVFQAAAAnLjGdAAAAAXRSTlMAQObY\n",
       "ZgAAAAlwSFlzAAAOxAAADsQBlSsOGwAAA6hJREFUWMPNWYmS6ygMZPdhhDjE8f8fu2ADxkfs2LsV\n",
       "lqqZSabA0dGtlghj4xb592elkWz0olBe6ABc84en1TTaA2fKCys0Yxif2uPCWPuVKBZL4XI6psdP\n",
       "QD/UAQMVSTH/nuA5DcRIEPkGGYHZmGj/BYlGrBZxGTN9XXzxDB31OAa0BMiYoRwM88+tQRjmQMDV\n",
       "ipQBPxGjF4VMDHMgupWLgYPSgat71gKmRbrDUMreSgTvfoigF+jlQSQn9RRW4KTEMWr0N7+jxBvO\n",
       "goM5wpZswx8lMVRN0PGHFDDPkwasHELmat/BcyBqVwQ/FDbxRQXnOKXVPEUpyyFQ1ZWkJglUrkDf\n",
       "/JLDt/XPGr7RWYlMlbh7z0hVLuWoi+zpJGBMEfqgUftuOSHIlkPpr/NVROY+Si0petkUX5S9zxJ6\n",
       "B9dDQbG8WZ0y0QrmLOM61F973hg8KcUUQv90/Lgf5voGwOFYRW8dOPgMzeqUAW43WMzBh7NmqlVc\n",
       "xQOizY+BuaD5UwdY6E1dQpILht3HwXatW1xX32tPZeH6OT0HanLjDADPP1BYFK5QJQ3obLp0Tp86\n",
       "IHo1XfI0/2svW7cZkMeSjlIfq1BxIL2vlVWC46Db53Aekq+8Ik6ppePijJ9CqOxfogwL2vN74Z9C\n",
       "6Dje2F4H2vHIiwQU0stJdzLP09jJqQuHk4srHxwo+yl3LPgn/bjSdU5uT+K7KsSPIzJVJQ4dJMuD\n",
       "dBUWooy/ZpubJ1fbPq0azhmcOVD2L1tc1zaLnTky3o7w5pgjqL0QHctZKOAVNvdMPaTT1OPMHNI0\n",
       "gtprCJX9PYgXCB0QI257ZxnQ7suwpmhMJNVj0e4ik+8HnCwn4wJftYb7msRlf4bQ33/hDKFzErNN\n",
       "vZUoziZ6C9i3EjXQjp8OpjUymQLWyUTmDF3JHG40Ts3pgb7x7kyp+7sOcQazPWgMbScR8/UwE1Ly\n",
       "g1c17rD33JLzPHNF5cKhaOGSRrUK2UQmqA9CRpV7nawnISN5bKc3/4rf95E+oBFYA4gXTaE/jEK2\n",
       "oEhtSshZE+7vOCo3Jtv49n7koppZ+flG0xG3lw7cN7bYgwaml/bbi8HuolAr7tRlBvz9Hc9mHDch\n",
       "CeCbaQT+ixHg3RzaX2TJmGRUvpmSxcDLxS54/lTsvpnyx92qbBo/Mt8Naf+rBHS368sto42PreGG\n",
       "DV3G9SpAj0upFnqsA7nzXRxQ9UuCZ8fHfj3QDe7B7XThq4WODV9alcYT6LE1spbhfwALdSW/LaKU\n",
       "zgAAAABJRU5ErkJggg==\n",
       "\" style=\"display:inline;vertical-align:middle;\" /></a><br>"
      ],
      "text/plain": [
       "<IPython.core.display.HTML object>"
      ]
     },
     "metadata": {},
     "output_type": "display_data"
    }
   ],
   "source": [
    "div_rational_closure = Forall(\n",
    "    [a, b],\n",
    "    InSet(frac(a, b), Rational),\n",
    "    domain=Rational,\n",
    "    conditions=[NotEquals(b, zero)])"
   ]
  },
  {
   "cell_type": "code",
   "execution_count": 4,
   "metadata": {},
   "outputs": [
    {
     "data": {
      "text/html": [
       "<strong id=\"div_rational_nonzero_closure\"><a class=\"ProveItLink\" href=\"proofs/div_rational_nonzero_closure/thm_proof.ipynb\">div_rational_nonzero_closure</a> (conjecture without proof):<br></strong> <a class=\"ProveItLink\" href=\"../__pv_it/theorems/605162bc3d463917d40539d1e87e4f15cf34bbbe0/theorem_expr.ipynb\"><img src=\"data:image/png;base64,iVBORw0KGgoAAAANSUhEUgAAALoAAAAmCAMAAABEdHH7AAAARVBMVEX///82NjYbGxsSEhJKSko9\n",
       "PT0oKChfX1+IiIgiIiIQEBB2dnbu7u5ERETMzMzc3NwyMjK6urpmZmaYmJiqqqpUVFQAAABvRl5h\n",
       "AAAAAXRSTlMAQObYZgAAAAlwSFlzAAAOxAAADsQBlSsOGwAAA7pJREFUWMPNWIly5SgMZI6dkblB\n",
       "wP9/6iIMvmM7Dk4NVUmcV88gmla3BGPvDh96zyitZN8xfKwPJgow0GVOPXxH7Gjrg+OGMZX6rInx\n",
       "/cg1r7FKjnQEQ6d5VXg9dCsabxL9HsRjfm/+5W9TJkwE4YoWTO7hRKK8KASIbQq9NSaUZaIExfRw\n",
       "HlMCxTyHU/WTZN5l+gS6TETOaFl4tGIsb3Gdf7WQlXg19KjmvMqIhcEz/2QeJ0agCQheExT5q6En\n",
       "nPMqgtAmgr5OSKHy8CO4np7Vr/yD9QwHbIzJe5gJH7AzXx6wAyLxwgxxJgTggn68uVo+QuantLd9\n",
       "qf8kKwWKEqjzLSGZnDKTQk9N0X02Oz1ZtepMdfv5gxKsvqSKoBBhfv5QhTDrNGVAwLRqRnS2KH6t\n",
       "vaCGPOYtKinrS0LXTUzIMiBxjLNn5J1gpbjtnaVX+uUsrE0xc0NXLofAvB53M7NJgJdzJhHSnLY+\n",
       "cPGewBwbza54zXxx9aX8Fym28FGxKcv0u+11GSZdEHCvCg7GeGkXMArex1QoBl181jyrCiSdlYEA\n",
       "Zq+NV6Hvdysmgc6oQ5a+4C74SICLgy9pqw4cw8c4x1nskU5+F4hbFFtpHouCeKhjYborrp/TIJWl\n",
       "iVCHJzMZg4aolCNcRFHfBii6UoJSwshPoi4PtFhJs1WYi9Dzt/AwHXg1bu/rgzAUj0Q0THjv//7x\n",
       "2dEMdRCD/ixhhsNqZdb1i9cTVElv2S4FgjDT6gBRTlacP9Bj6QcMZrpU1M0uTS8UBg7Q8s1No1P3\n",
       "BMw0+5CDWdQekPtX8IujRTl+n0LPqP/32xPqBSm7V6+rJtoe4CpaDePvClicmEH5M1EPS2PsJvga\n",
       "2jlwCq5NnxUG9/UPv1pdRuV2qWh8sjb5yxJTb1su7qh4W1I9t1JoS+2Ze1m3IsyFBKzkSSp+yG21\n",
       "KgQajHh96xE2twuSuKJQ1k/TWNvr2WcXaTqqy9kVzLobsLfbjJiRiUGfTy+2SHCiukM5Wk2mOqqV\n",
       "0epyJOJWZY9rXNL96i5EZbk6X0NtLdR5DEBJrqmT0n5UAaP0bEmDt1HfCUCugnWpb6Fxpl9h13W5\n",
       "yhl9s5tS/uyAvzbcSQvm5McXoOjhzo3KqvW1MXtEv45AnHjtCbIa8CZj3OI5m57sd3vCX766W0AT\n",
       "1k3xVwe8e5exqIHGLvhG4/SvgL64ox7v8FzqtCJY9vqwuFR130kgDTfvh07l3Bi6bpfsPSZ9/3p9\n",
       "0TtH3Oj8F4ZC9i3D6FolCt9pRdkk939BejO5DVD5WgAAAABJRU5ErkJggg==\n",
       "\" style=\"display:inline;vertical-align:middle;\" /></a><br>"
      ],
      "text/plain": [
       "<IPython.core.display.HTML object>"
      ]
     },
     "metadata": {},
     "output_type": "display_data"
    }
   ],
   "source": [
    "div_rational_nonzero_closure = Forall(\n",
    "    [a, b],\n",
    "    InSet(frac(a, b), RationalNonZero),\n",
    "    domain=RationalNonZero)"
   ]
  },
  {
   "cell_type": "code",
   "execution_count": 5,
   "metadata": {},
   "outputs": [
    {
     "data": {
      "text/html": [
       "<strong id=\"div_rational_pos_closure\"><a class=\"ProveItLink\" href=\"proofs/div_rational_pos_closure/thm_proof.ipynb\">div_rational_pos_closure</a> (conjecture without proof):<br></strong> <a class=\"ProveItLink\" href=\"../__pv_it/theorems/727b7ac303dd7f45448dc762cf6244d3d49e8fa90/theorem_expr.ipynb\"><img src=\"data:image/png;base64,iVBORw0KGgoAAAANSUhEUgAAAKsAAAAmBAMAAABJ6HYsAAAAMFBMVEX///+IiIgiIiIQEBB2dnbu\n",
       "7u5ERETMzMzc3NwyMjK6urpmZmaYmJiqqqpUVFQAAAB6qHgnAAAAAXRSTlMAQObYZgAAAAlwSFlz\n",
       "AAAOxAAADsQBlSsOGwAAA2dJREFUSMeVVl9IFEEY/87dvVvv9u5W6qkHiyOjkCIiLegPV0QYGRxl\n",
       "Uj10VrQRRV0k1EPkhUFEpNtD0UPY9ZA9JHkWYaXl+mAhZF691IOkkRQ9FAkJGkl9M3u3/3Ldm4Eb\n",
       "Z3a++fn9+c1vBoChPS/GaG8C2FpoDLuWTRfmtgpUMMIO4i+4Fk56uPOGDTVQhd0uDR562PlzTLCl\n",
       "cez6ABZ72AlVTLCjJPhqEH57Gb5ggiVeChMg/XQ3ydK+Nc2S2kkCOwMR9YOrTYOe3DgDbITuOQDv\n",
       "slkPWGklA2xUI/3++Wc/pZxLdYryxAIrzgAQisNIEbBNrhnzfU6JK+ImLFQCPCN/bxYBO+y6UlsL\n",
       "cL8dQopSrRwnH54CnCdeNxQB+821lnEVyyTJprcLkeTIRr6Yc7Hxv9gPxpbRwu/GRPIp1YQdTYGE\n",
       "lSgtpmS/HPPgtbw21AfQ0XCu24RtQjdXxWKri4H945hfLihOYxA9C2pDJmwSP+B/OeyKZRKbsMbW\n",
       "jDLfkdC5gDxinDKIovstII55nEZaGCesWhhcDFNvF1gojt74E3zG2HvDYPixH2kbbJAqTPQvadQU\n",
       "kxdbQkum5/axBRa3hWVLxcbJhnIlI24BfmhObwWDlP49BhMssKD2mx/W4K8HDyd/FYTX6e09lT0Z\n",
       "tyQsMuLQeWshKckt7LhOgu6vIXsnyhM+cvbPoErJstVb0cmEMmPUi6fsQbtTPpoxBmFpYIowvMKX\n",
       "rScLA5oTFpXWcVkY7vFEE6yy1kqWIhh0KBsgaubXJLWDLBBIOW6FhXXOu+XL3cLwyvTtbpsqFTLH\n",
       "ZXyEZVwqNDaoKEruXj4JFkHWSSIcMnO6VT+82L5SRbBfT/RcpP0DOI4Cl2ukcdGS2bx7lI99NhGP\n",
       "yOXvM+Z0c2HApZs6EnVQkniJPKYkA94hwsO6C9FZZenj0WrNnJ0wAup9Wwunc4EuGcQj9DhUtjku\n",
       "gaSO15lglo9c4QrBgGrOOV8VWXuA7i04ZZ9aHQmNdGVsq/mLr63suxcsr9o32manXjkIRUVBmE4k\n",
       "vZ4BHNNraRvpwpPAyR6G85heNRypYUilsjdn28AEK5GUlcSh0yNGn8r2Er2l07bPg2LNaTbYnWgf\n",
       "TQnrPd6hyxlf4yIqaETzZz1ezRojLFxCX8Z7PYz2ke4fj6fV+5lwJTkAAAAASUVORK5CYII=\n",
       "\" style=\"display:inline;vertical-align:middle;\" /></a><br>"
      ],
      "text/plain": [
       "<IPython.core.display.HTML object>"
      ]
     },
     "metadata": {},
     "output_type": "display_data"
    }
   ],
   "source": [
    "div_rational_pos_closure = Forall(\n",
    "    [a, b],\n",
    "    InSet(frac(a, b), RationalPos),\n",
    "    domain=RationalPos)"
   ]
  },
  {
   "cell_type": "code",
   "execution_count": 6,
   "metadata": {},
   "outputs": [
    {
     "data": {
      "text/html": [
       "<strong id=\"div_rational_pos_from_double_neg\"><a class=\"ProveItLink\" href=\"proofs/div_rational_pos_from_double_neg/thm_proof.ipynb\">div_rational_pos_from_double_neg</a> (conjecture without proof):<br></strong> <a class=\"ProveItLink\" href=\"../__pv_it/theorems/bf32c38ab012f3015f601e21ec67847c694789be0/theorem_expr.ipynb\"><img src=\"data:image/png;base64,iVBORw0KGgoAAAANSUhEUgAAAKwAAAAmBAMAAACrNG1VAAAAMFBMVEX///+IiIgiIiIQEBB2dnbu\n",
       "7u5ERETMzMzc3NwyMjK6urpmZmaYmJiqqqpUVFQAAAB6qHgnAAAAAXRSTlMAQObYZgAAAAlwSFlz\n",
       "AAAOxAAADsQBlSsOGwAAA1dJREFUSMeVV11o01AUPmmTJWnaLS/+vRQpCoO9zCHMB4U9iJv4Q3Fl\n",
       "j21RF8Ft0LmBIOKKPom4FnSiiFJQEKGw7kVxFU3RKQOH8c2HiRuMgb9s4Jg4i95706RJuja5F3KS\n",
       "NCdfzs93zrkFoFiS5kGJmwDK9QIdwtJ2ubHWuSgdajCLxIN005qL2gId7Agyg9sP0k4XvSE62Js4\n",
       "vCvg63LR66WKQgg7709CIueWWaooECsTMrxvAEik8JsGdgz7ltDgSyhdT6VJP52mgV0mL8qhNglc\n",
       "YF/RwP4lZF/sHt9WUwGHlIG0BTajAQnvvAdUvn7Ewp1weckC6yvAND7f9lIMK/WesK9VCEwn4Yly\n",
       "SlFUnLksXMKpS3qAbc7WezIqIpEsVa1lVkBE+WW9tBB/DRu3RiLkU/1xJLrFKmxoHYLIatFLxlqc\n",
       "xfV4SyVhyWEkP0kpE5YvA3REIns9war2e8FogHxXHsl8UDNhOUSap8gLL7AZR6REoygC8hySwyHV\n",
       "qDKAVYBxEDzV8JgT1jS7C/Mzz1haxS9keJQ1f+BvGVexgZ+OEp0kWv/wIlQbiaBFKFSJraVvbaC0\n",
       "yZaMYVLzYSUnHAR2rrG1feZV/7jBBAssZEvV+050FFFK2evAvUtfKxaLuXqwPvPqIeGt1QoUWziG\n",
       "Uxor9WBDV8NRBmf8/EcA2T6zMg4mMOZjCVfZ16SjfVxBGeNaSckzu5kCcW5GrYFNOCfjPfPqOOoJ\n",
       "36zcK+OqRE5LBb4dV4kazGISEkjZzn9/wQEbP2skSXh5ZyNl7Up/jHdyDGaZPyUtzCqKoj2qDYKo\n",
       "e9nXUY3pyUilTzSnSjXjiXiYbppB324BvzZKmhJJmX2gtOvnu5uRepH5ccHS0ozZ7E+P5aMx8EXf\n",
       "IB4TkgHraMLBignlTcfn8o1By5Aw6ivw/MNRGNH4KRmEM6Qc2u6nHCNAxwusUbcPnZkxRUFk7bno\n",
       "VB6wO9hgTdrCF7BuG6T5Kcd+QB984mLYtTsftkfPdjf81qGsbzsSE5zrNuAAzeRlCZs+R2GPiyLT\n",
       "TrUHww0DnpG213g8aVSws1jsgkDZRW8H3Y5RVAltJReKCfvoYLlWJNahV22sdoIuBgBXEQO/V/hb\n",
       "fw3S/ncQUOHFj7gYy2Ee/gcaxNRWCkY7YQAAAABJRU5ErkJggg==\n",
       "\" style=\"display:inline;vertical-align:middle;\" /></a><br>"
      ],
      "text/plain": [
       "<IPython.core.display.HTML object>"
      ]
     },
     "metadata": {},
     "output_type": "display_data"
    }
   ],
   "source": [
    "div_rational_pos_from_double_neg = Forall(\n",
    "    [a, b],\n",
    "    InSet(frac(a, b), RationalPos),\n",
    "    domain=RationalNeg)"
   ]
  },
  {
   "cell_type": "code",
   "execution_count": 7,
   "metadata": {},
   "outputs": [
    {
     "data": {
      "text/html": [
       "<strong id=\"div_rational_neg_from_neg_denom\"><a class=\"ProveItLink\" href=\"proofs/div_rational_neg_from_neg_denom/thm_proof.ipynb\">div_rational_neg_from_neg_denom</a> (conjecture without proof):<br></strong> <a class=\"ProveItLink\" href=\"../__pv_it/theorems/eb604946efc083d470ff949d138642e62202c1be0/theorem_expr.ipynb\"><img src=\"data:image/png;base64,iVBORw0KGgoAAAANSUhEUgAAAM4AAAAmBAMAAAB+JrkYAAAAMFBMVEX///+IiIgiIiIQEBB2dnbu\n",
       "7u5ERETMzMzc3NwyMjK6urpmZmaYmJiqqqpUVFQAAAB6qHgnAAAAAXRSTlMAQObYZgAAAAlwSFlz\n",
       "AAAOxAAADsQBlSsOGwAAA3lJREFUSMelV01oE0EUfttkk002qXvx7xIkKBR6qUWoB4UcxFaqstjQ\n",
       "YxPERrAVElsURGzQk4htQCuKKAEFEQJNT2IjmqJVChbXm4eKLZSCv7RgqViDzkx2N7ObTUYzDzK7\n",
       "efuy38x73/tmAsBjsvYPQeI48Noz9JGWtin1o86onDCBDBrupz1rjLAFTpwhNFFxH8g7GHGnOXFu\n",
       "4BKtQFOEEdfDl7ggzpcrDrEsiy58iSPriCnwlhUo/eTCGcHpiGnwKZhmRJ7gwlnGg0cJtsqsyBdc\n",
       "OL9JFy52jm6tas2DiQF6jWMakBLNNwLjrZ31UAdcWqIrmYcpfL3VUJeu1HriflkE/1QcziaQ4XXJ\n",
       "GbiI+RBvBKc5U+vJsA8N8emKQ1gBHyKNW2sEx1XVFVvCYYLd34eGTh/VaesQKAL4GqLBJrsMPNqs\n",
       "syCeQuMHOVkpZQmgPRze0xhO0daNhv57Izk05gKVLImImo/ROh3eEmHijNmy7TOY7Ffm0JgKUvNY\n",
       "BRgFyUl+8mw5sOOYC4vgPskJlOz9QA2tui06GB34njZxvDdtbsomyM/+YCMMHwojI8zV60Op9Abi\n",
       "gmJOxBtKZKUD4J6rrGfJ5q6znl7zrn/UxjeMAxmT6AXEEPc1EN+kuwutBTLdDov7aqFQyNbCaTLv\n",
       "HpD+oaeF6gNHME+i010g4MKdew+gKGbeVkOqxU3zwMY3wXwsYz34HLdJ4WVEA7EFqRVZ+EyRxhF2\n",
       "CXmLm7KY/fhx17w7ivTtC035EtYPlBY5720DzHryMiVi4HiKgYzFTeuBnZJ9p4zKS89vbyRpyf1l\n",
       "/CYrLMAsUj3toZ6g8jtdSXnB4qZ5XE5Mb3ulLsfDuuY1J6erdniSg7RnRh0mWksKbvY8uDQHd7kK\n",
       "beXrHafmWhS+nacE3DgRudIjOdWjEhKD29iOotCkvoIqt7Ev6JMsOZ5Rlq8PVr55DCXwP313GKST\n",
       "5OWt94zUDmneSaXabYhWGcC/9t9SGE0kUHd0XTAdmrNbtwFrTurYhNNBRZ6f1HvRrzq6racL32KI\n",
       "uX0dcvSmXhsVcHabDURwY+Mi83i2n+u84yYk/qjCbkag0MZ3vsbiB0+I6tff4TU+nFk87AR/iRG3\n",
       "nfP/gq9I2kdmMFvay4kjtqBhHXqK9cOOcaYN4Aoi/le9j2rbIPf/UwlJRF83Yzkipv9fFb/3k7G1\n",
       "7bQAAAAASUVORK5CYII=\n",
       "\" style=\"display:inline;vertical-align:middle;\" /></a><br>"
      ],
      "text/plain": [
       "<IPython.core.display.HTML object>"
      ]
     },
     "metadata": {},
     "output_type": "display_data"
    }
   ],
   "source": [
    "div_rational_neg_from_neg_denom = Forall(\n",
    "    [a, b],\n",
    "    InSet(frac(a, b), RationalNeg),\n",
    "    domains=(RationalPos, RationalNeg))"
   ]
  },
  {
   "cell_type": "code",
   "execution_count": 8,
   "metadata": {},
   "outputs": [
    {
     "data": {
      "text/html": [
       "<strong id=\"div_rational_neg_from_neg_numer\"><a class=\"ProveItLink\" href=\"proofs/div_rational_neg_from_neg_numer/thm_proof.ipynb\">div_rational_neg_from_neg_numer</a> (conjecture without proof):<br></strong> <a class=\"ProveItLink\" href=\"../__pv_it/theorems/11d9c93815deafff9e07036bb7f6cca96bb028380/theorem_expr.ipynb\"><img src=\"data:image/png;base64,iVBORw0KGgoAAAANSUhEUgAAAM4AAAAmBAMAAAB+JrkYAAAAMFBMVEX///+IiIgiIiIQEBB2dnbu\n",
       "7u5ERETMzMzc3NwyMjK6urpmZmaYmJiqqqpUVFQAAAB6qHgnAAAAAXRSTlMAQObYZgAAAAlwSFlz\n",
       "AAAOxAAADsQBlSsOGwAAA3pJREFUSMelV01oE0EUftvsJrvZpO7Fv0uQoFDopRahHhRyEFupymJD\n",
       "j00QG8FWSG1RELFBTyK2Aa0oogQURAg0PYmNaIpWKVhcbx4qtlAK/tKCpWINOjPZ3cxuNtk2M5CX\n",
       "zdu3+828971vJgAsQ9Y2ECSMAet4gT7i4g6ldtQ5lREmkEbmYcq76hI2z4gziCYqHAB5l0vcWUac\n",
       "W7hEy9AQcYnrYktcEOfLE4dYxo0ubIkj64gp8N4tUPzNhDOM0xHT4Esw5RJ5iglnCRuvEmyW3SJf\n",
       "MeH8JV240D6yvaI1Dyf66DWOakBKNFcPjK961kNtcGWRrmQOJvH3nbq6dLnaHf51AfyTcTifQAOv\n",
       "S07DZcyHeD04jelqd4YkZOJTZQe3DBIiDa/Vg+Op6Ipt4TDB7u1Bpl2iOm0NAgUAqS4abLHLwJOt\n",
       "OgviA8h+kpPlUhYBWsPhffXhFGzdaOi/L5JFNhsoZ0lA1HyK1rnxl0csZLUMyWCyX5lFdiBIzWMF\n",
       "YATETchPjpIDO465sAjukyxHyd4v1NAqb9HBaN/Pcov5btvcFM44eewfHoThg2E0CHP1+lAqvY64\n",
       "oJgT8YUSGfEQ8LPlgEWbu8Z6us2r3hEb3zAOpE2i5xFD+BsgvEtdz+fzZLptFndnvjmfqYbTYF49\n",
       "Iv1DzRbXB45hnkSnOoDDhbvwEUAxN3zfSki1uKn1jNr4xplPyVgPvsZtUngV0UBoQmpFFj5doHG4\n",
       "PVzO4qZwYvbjx33z6jjSt2805YtYP1Ba5JyvBTDrycsUk73eQiBtcVM4npwNp+eMUXnx5d31JC25\n",
       "f4xnMtw8zCDV0x5b8uZJyvMWN9U/Uikx3a3lupwM65rXmJyq2OFJDlLeaXWIaC0puNnz4NEc3KUq\n",
       "tJS+7zn12QL34yIl4MaJyJMazqpelZAYeGM7ikKD+gYq3Ma+oE+y6HhGWbrZX/7lNZTA//zDURBP\n",
       "k5c3PzBSO6j5JpRKtyFaJQD/6qalMJpIoO7ouGQ6NGe3PvqsOakxxp0OKvLchN6LftXRbT1dSAsh\n",
       "1+3riKN34K1RAWe32UAENzYmuB7PDjKdd3hC4s8q7HUJ5FrYztdY/OAZUf3aO7zGhjODzW7wF13i\n",
       "djL+X5AKpH1kF2aL+xlxhCZk1qCrUDvsBGPaAK4h4n/X+6j66Gf+fyoiiejpdFmOgOn/H74A95MH\n",
       "lbgkAAAAAElFTkSuQmCC\n",
       "\" style=\"display:inline;vertical-align:middle;\" /></a><br>"
      ],
      "text/plain": [
       "<IPython.core.display.HTML object>"
      ]
     },
     "metadata": {},
     "output_type": "display_data"
    }
   ],
   "source": [
    "div_rational_neg_from_neg_numer = Forall(\n",
    "    [a, b],\n",
    "    InSet(frac(a, b), RationalNeg),\n",
    "    domains=(RationalNeg, RationalPos))"
   ]
  },
  {
   "cell_type": "code",
   "execution_count": 9,
   "metadata": {},
   "outputs": [
    {
     "data": {
      "text/html": [
       "<strong id=\"div_rational_nonneg_closure\"><a class=\"ProveItLink\" href=\"proofs/div_rational_nonneg_closure/thm_proof.ipynb\">div_rational_nonneg_closure</a> (conjecture without proof):<br></strong> <a class=\"ProveItLink\" href=\"../__pv_it/theorems/0517a0c496c4f6d431dc35fd048bc774f5534bd80/theorem_expr.ipynb\"><img src=\"data:image/png;base64,iVBORw0KGgoAAAANSUhEUgAAAN4AAAAmBAMAAABZiDjwAAAAMFBMVEX///+IiIgiIiIQEBB2dnbu\n",
       "7u5ERETMzMzc3NwyMjK6urpmZmaYmJiqqqpUVFQAAAB6qHgnAAAAAXRSTlMAQObYZgAAAAlwSFlz\n",
       "AAAOxAAADsQBlSsOGwAAA+9JREFUWMOtV11IFFEUPrM7szP7oztCRQVJLAWCEBKhPhSskVFkMKVF\n",
       "EGj2Y6VGUwoFRW7mS0S5DxW9VBtEEYVuQRit5EpYCQVTL/UgYST1EIlCUlZS597Z2WZnZ2LYmQt7\n",
       "5+49d+537znf+RkApy2o2FzIXQI32hP8Xag5bWPlUckFuFAcIFANh23sFRp3Aa8DgerT8MDO2kMu\n",
       "4F3E3xDAMjtr650rtGgGu0rgflrI+Vb6YGuihFrOFerBfbhpCE1ZLWigShyGW9gLPxzjdaGKuDko\n",
       "jr+zWsG0Y1cF4Rg+9jrG+0S6ZniTTFrTshmEGfASN33qGO836RrnHf8g5ymypeVRBrCanwFPGke9\n",
       "ClATjhUKx1tahPkoCyuiNK6sTyCeVyTWTsJjMnWlYG+35EldHcBdSpInMtFnmOgzGIdTZGpXoXjF\n",
       "cauLR1HiC4kgTMr/+MJMgR8JxiqF4nnzPGpBJELO4NuGElaOc18IDpRAH/XW7xBCO/oLpks4api4\n",
       "M199bufRXkXKACdl/P0hvfUcwMpIZFXheOnc/4KWczoDKAmkXxlSEtJ5AGBfwXi9Bkv4Y5nBjRBK\n",
       "eNFI/GnMXSDkh7WdteSwSxaaguh02GXE0wY9RfR+i/kWbAey8m9oWYlN5Php2yQesgd91S/R1/nL\n",
       "uSLQhZJ+8mr4D2lqdopgI2z3qfZ7aDjqL5wUs4fiS1sSwjpgida3PIZ68FJrTxhESev7bdcGvh0q\n",
       "P/PxID6s/Uuhq7DngXtJbtGd6AYPjVJVBtF/8DzaIKD6n5JvP9hMONUwvAEYQrZjGOhF1MWJWnI/\n",
       "AsxPl0o60aZUeSprgF4DPxlRGw1ifOm7ZRZuz+DNuTKMhFQZI2mK10fdkmqaWc4k9SL9/ZpEw4ZX\n",
       "tQFL4qcxaQhzJCahqoJJvgLukSmyoRhtVCg/X1BTpENxnSgHz2vcsbFVqxnOzV4fyItyWhngTTDj\n",
       "MIrUVW5n9KnbUw6O54h0GH4aebk9S7MzN3dHMiT5HBJNqw+ql5hvROqkeqCkOJdKZY0UxlypE+X4\n",
       "X7BChTXLtsVi6dtE7hSrncsb67on+SRKfGD1UaEBPNIzMBWRfKQeOGwa8N8frDTQyadFlsDg6zoQ\n",
       "9lOA8mv6XN2h8PdFcxHQ0oW6vVRQuMUSABWw4WTOpGItwtZG+7U2w21/zOwDZOy+Tu0ByVIE2Qro\n",
       "WslXW3gbTWePPNdbyFpEiUbwuVmpKWYHb43j+oyNqzT3ijYWMxXOvx+q1DIoL9GbVh+Kc7xRtajv\n",
       "t7PVIhe+j/xp6n5DNjxCqHYBjytDPJlbbWPpVhfUCXBWguK0L2ljZbsr3++CDNzEoB1NENf5Cxdj\n",
       "FuJ3b0LDAAAAAElFTkSuQmCC\n",
       "\" style=\"display:inline;vertical-align:middle;\" /></a><br>"
      ],
      "text/plain": [
       "<IPython.core.display.HTML object>"
      ]
     },
     "metadata": {},
     "output_type": "display_data"
    }
   ],
   "source": [
    "div_rational_nonneg_closure = Forall(\n",
    "    [a, b],\n",
    "    InSet(frac(a, b), RationalNonNeg),\n",
    "    domains=(RationalNonNeg, RationalPos))"
   ]
  },
  {
   "cell_type": "code",
   "execution_count": 10,
   "metadata": {},
   "outputs": [
    {
     "data": {
      "text/html": [
       "<strong id=\"div_rational_nonneg_from_double_neg\"><a class=\"ProveItLink\" href=\"proofs/div_rational_nonneg_from_double_neg/thm_proof.ipynb\">div_rational_nonneg_from_double_neg</a> (conjecture without proof):<br></strong> <a class=\"ProveItLink\" href=\"../__pv_it/theorems/95f5f9d9a48a425a1b0107d8fcf1916fe3a5dbfe0/theorem_expr.ipynb\"><img src=\"data:image/png;base64,iVBORw0KGgoAAAANSUhEUgAAAN4AAAAmBAMAAABZiDjwAAAAMFBMVEX///+IiIgiIiIQEBB2dnbu\n",
       "7u5ERETMzMzc3NwyMjK6urpmZmaYmJiqqqpUVFQAAAB6qHgnAAAAAXRSTlMAQObYZgAAAAlwSFlz\n",
       "AAAOxAAADsQBlSsOGwAABC1JREFUWMOtV2toE0sUPttmk81uUrfi+1EkeEHw/qgi1B8WghSt+CDY\n",
       "6i9pgmiEtkKiolxfDVUUEduCDxRRAioiFKwgqK3WFJ/lWo3/7o9ebcHb+qbCFUUtes5sdk2mm2bJ\n",
       "ZiCT2Z2ze2a+851vzgLYbUrSoqF4EgrRuvEnvZqm5rbcFiiAO08bdhdizs8WTAcK4G87LlpcAsoc\n",
       "C7ZbC+DvBIVwBIr8Fmxr7APqJRyLQxCMZzHYqU1UTaJ12QeU7SuowrOsrFxG/PWocghp9dW2vyaC\n",
       "KJiEN95YNpMpCUQgAuRrk21/Q9Q5Ve98JbvNQxVaA1CJo3u2/f1gmA0ub5k6FshwQ2rP92IIw584\n",
       "aE0CC2F/vu5c2SNSVgHNr9iotp5gX0DR7oBOunM672wfyTbjuJ8AuRNJAkeHgfAcJYK2wX6So1C+\n",
       "/krass3scGMX6gFoGQaDL8IIuJFgjmS+/orHZNQUn4+tYXMddsvdUHeTrgRVJkvvF/AgW91502UC\n",
       "LytXJqfYEopi/68SWaddV82kxHEhqAt9vkX5+0tkXkv6mePyt2Pf7slETkQ638C9m77Liti1cpFw\n",
       "61kvq33YR73cej5hPEEylbWnEWn2tJzywvszNuqnHGsX4jvD2Azt+R/FIeDI0Nraho84La6MIJXY\n",
       "43+FjAzufs35u8oe/UmNZcZ2HzZmn4ofB9J35IxqLMpVFo5LVeDoA+k6+qyBYjIvIU5Eh+rhoB9W\n",
       "Jcff33pjtLlF4+cYf9DWo191RTA3joH4JNZM626GooiWO6BglKE6CRsej++vyBhdZPnXB2PiB6uJ\n",
       "U7U91SBQcHf9A6Cq8DTO9kfAN5X+B7No9/tiIAhSV1dX52++cHwQjDJGIX15GzKR2wNIF3EeKiED\n",
       "40GC+YMXCQw+g2NiYKZIz3k24PuEzOeDfJl0zhitQf18x81KJGolhFeHqxwoY5gvlSK2Jy7NZug1\n",
       "Qq9M2yBfgoPTlw7ujXX1OkOku2e+R3h5/6Y/FxcGoBeZm7ys4ZnWKqDbcyoc3iozPDn+a4CtX/g7\n",
       "bht9KU0tifSYVh8Ml5jzQWAH03XGl6MYJT1LRqDSxWTLhC9KufZ/1iw5B4UPu7lDQ6/iimNN7QEn\n",
       "k7gycKQdh6If/vCENAWKDsBqjh+e1IJHTWupoeONmXecurLIt5+vAmkLy/f559Ngd1XCnlKAQ3RL\n",
       "XHprmD/ENUfy57zktjYcRhCr92YsUi8O6hGOwwn+DQ2ZOOVoV82KKqX/WprAXUqfuvP3DM5Yq4Dc\n",
       "g2WWjtAVpnejj9IuMnbkmsUzXKtzgydFS6Vlpe36zMHI/1Irh3I1odz+90MFdbfYSZO7+kja99dL\n",
       "3VyQRy3YTi/A95E7wdJPsZAR0uIC+BPnYfcFahK5TdcWAE6AI6hK71N5OH5rLMj3u4QpUrfSwvZE\n",
       "Sp1fLFsQokRieXsAAAAASUVORK5CYII=\n",
       "\" style=\"display:inline;vertical-align:middle;\" /></a><br>"
      ],
      "text/plain": [
       "<IPython.core.display.HTML object>"
      ]
     },
     "metadata": {},
     "output_type": "display_data"
    }
   ],
   "source": [
    "div_rational_nonneg_from_double_neg = Forall(\n",
    "    [a, b],\n",
    "    InSet(frac(a, b), RationalNonNeg),\n",
    "    domains=(RationalNonPos, RationalNeg))"
   ]
  },
  {
   "cell_type": "code",
   "execution_count": 11,
   "metadata": {},
   "outputs": [
    {
     "data": {
      "text/html": [
       "<strong id=\"div_rational_nonpos_from_neg_denom\"><a class=\"ProveItLink\" href=\"proofs/div_rational_nonpos_from_neg_denom/thm_proof.ipynb\">div_rational_nonpos_from_neg_denom</a> (conjecture without proof):<br></strong> <a class=\"ProveItLink\" href=\"../__pv_it/theorems/c246699f14f712411abb14bd55e06d0e651d4a9f0/theorem_expr.ipynb\"><img src=\"data:image/png;base64,iVBORw0KGgoAAAANSUhEUgAAAN4AAAAmBAMAAABZiDjwAAAAMFBMVEX///+IiIgiIiIQEBB2dnbu\n",
       "7u5ERETMzMzc3NwyMjK6urpmZmaYmJiqqqpUVFQAAAB6qHgnAAAAAXRSTlMAQObYZgAAAAlwSFlz\n",
       "AAAOxAAADsQBlSsOGwAABDBJREFUWMOtV11oFFcUPpPs7M7O7KYT0Wj9CWWpELAPUYT0oYFFYo1U\n",
       "y2iCL5XsUpIVkghZI4rGmiWKItIYqEpLaVloSykETZ9aExs3+FODBscX8UFpAjH+SwQlYhr0nLs7\n",
       "k52b/Rl29sLenZl77nz3fuc7554BcNoU3aaheAaK0YbxJ00uU/Nb7tGKAOfrw+6XmPu1DdPxIuB1\n",
       "4qLFz0D5yIbt7iLgnSYXTkNJ0IZtg3NC/cRjaRhC8RxGd2JQt5jW5ZxQtq+QCrdywangU+UwyuqN\n",
       "Y7xuoiikw2N/LJvJtQQy0AGE1ewYb4o6t+pfo2SzqKD4PKVBLf5ddoz3P4vkiU29SxeE9+eRNtxz\n",
       "p56i4ROC1YG58F6hcJ7sHqmsgZ5JFFSzlsRbS94egEEa+77gaJ/ONuK6kgB5EEUiEyDyOUcC7YPD\n",
       "lI7CheKV9WUb2evFLjxCHDyNGXoRpsGL6C69ULzSBRFVEQiwNbQ0YbeJQEF6oQmqTJb+GfChWr0F\n",
       "y+UDPq38sSSllnAU+/tKBwMEqFtBbvQgqesCgfWF4yWs95Jx5niC/dj3+6zMiSjnv3DvBeOd4jzh\n",
       "NaJeVsewj/q59bwE6AVpYVr7aiMtdtWyvOmFxzM3GqQY6xfi+yLYzNzzCpOD5rLk2sa2Fzh89G+c\n",
       "rLHpB8JmBA8/4vDOs6nvqLHI6AxgY/Yp/3EnwixqRjUX5amMxKU6cBEV2wahAUrJvIw0EZ1qhaNB\n",
       "2KLn3t8O86ql19SnFQ/6Roy7IVST61sQb9L+e+I9UELywtgBBb0M9TrsvJ4br8S8+pXF3xgs8B9s\n",
       "JU01jtSDQM7dfxdAxWKkayPtj4C7yx/AStr9NzEQBGloaGhwXi+cHgSzjFEovzwJZ0i3R1AuYhVm\n",
       "QkbG1QTDO8fCktGxSFsh0jzfTnyfYJ0f4sukn8yrLzF/PuVGJUpqZcTXgKcaKGLY3tRgk870ydhr\n",
       "h1GZtkFYgovLLwPcG5taDYVIl36Y7eDT+1tjXlwYh1FUrv57is/5VgPDvrORyG6Z8cnpP0nYjnXz\n",
       "fvs6kMqpZR0jGasPxkvMfVXby/I608tJ9JIRJdNQ62FpK4NelOrk/4+ZgnNCeH6QOzSMKq401t2v\n",
       "uVmKqwRX2nEoBmG1L5zMQNFx2Mrpw5da8FzGWmrqu3brE7eRWeSLt7eAtIvF+5qf02j31EJXOcAx\n",
       "eiRuuPCQP8STQPLrgtJtYySCJNYfsizSKA5akY7jCf4NbVae8rTzmYoq5d6faQnut/Shf24s54yT\n",
       "FZB3otLWEbo549Pov2k3lh15VvIKT9a5oTOirdKy1nF95mLi/y9ZDuVrQrXz74ca6i6wkyZ/9aE7\n",
       "xxul7mOQ52zYfliE7yNvgoWfYiMipE+LgCdWYTcDDYn8ptuLQCfACcxKz1JxmLu1F+X7XcIQafrC\n",
       "xvZECp332cIPLpe24uwAAAAASUVORK5CYII=\n",
       "\" style=\"display:inline;vertical-align:middle;\" /></a><br>"
      ],
      "text/plain": [
       "<IPython.core.display.HTML object>"
      ]
     },
     "metadata": {},
     "output_type": "display_data"
    }
   ],
   "source": [
    "div_rational_nonpos_from_neg_denom = Forall(\n",
    "    [a, b],\n",
    "    InSet(frac(a, b), RationalNonPos),\n",
    "    domains=(RationalNonNeg, RationalNeg))"
   ]
  },
  {
   "cell_type": "code",
   "execution_count": 12,
   "metadata": {},
   "outputs": [
    {
     "data": {
      "text/html": [
       "<strong id=\"div_rational_nonpos_from_nonpos_numer\"><a class=\"ProveItLink\" href=\"proofs/div_rational_nonpos_from_nonpos_numer/thm_proof.ipynb\">div_rational_nonpos_from_nonpos_numer</a> (conjecture without proof):<br></strong> <a class=\"ProveItLink\" href=\"../__pv_it/theorems/692a79b1866536e922b1ec3fc14a91f4b82aaf190/theorem_expr.ipynb\"><img src=\"data:image/png;base64,iVBORw0KGgoAAAANSUhEUgAAAN4AAAAmBAMAAABZiDjwAAAAMFBMVEX///+IiIgiIiIQEBB2dnbu\n",
       "7u5ERETMzMzc3NwyMjK6urpmZmaYmJiqqqpUVFQAAAB6qHgnAAAAAXRSTlMAQObYZgAAAAlwSFlz\n",
       "AAAOxAAADsQBlSsOGwAAA/RJREFUWMOtV11IFFEUPrM7szP7oztCRQVKLAWCEBKhPiRoFBgaDGnS\n",
       "k2Y/2z9tKRQUuv28hKT7UNFLtkEYkegaidJKjoT9QMXUQ/UgYmT1VCgkZSV17h1nmxlnZdjZC3vn\n",
       "zj1373fvd75z7h0Ap8Wv2BzIXYVslEf466g8Z2PkSSkLcIEYgK8MjtuYKzCZBbxmBKqV4b6dscey\n",
       "gHcFfyMAa+2MrXVOaM4sViXA/VpqzEFgKyuItJwT6sJ5uBkITC8B1wQwCt3YEn46xmtDirh5yI29\n",
       "T6uSo1iVQjCKj32O8T6TqgneJBJpBjBEJMIsuEmYPnaM94dUDctOf4iYLXXh8BAAX07a/Cy4ZHx2\n",
       "KkBdOJ4pHJ/WI8zHiLAenft2q4rnFom3E/CQGK9nHO1pdVJTA3CPiKR7K+UzSPj0x6CV0Ls7U7zc\n",
       "WLqNV6DFEyCbah1K6YWZBi8KjFUyxXMviqgVoRBZg2cnWtgIXU7HJ8iDXhoaPyCAfvRmLJdghanj\n",
       "7nL1Wc/j1nKUQfoSxXgfoLueB9gQCm3MHE82vgvamdPiQ4tPfmk6klDOuIT9lnPZSXadJk94owuN\n",
       "WwG08KJZ+DPILgiWae1VRMhfaQmi47DNjKc1LubQ/a3mw1gOpuzf0bMSGzfE6ZFvuEiuOoJSon/n\n",
       "rxlNoEslfeSvwb+kqKdTCAtRu0f134Bpqb+xU0wtii8Ix4UtwL4E4QFOXAtuyumUwWTAM++vXmt4\n",
       "dv3XpxEPYqPaWxKTEnsZuBfR82Td58FFs1SpwbQknktr+NT4Uxb7D7YTTdWNVgFDxHYKE70owqs4\n",
       "3R+hj58pkHSm6mRRMuWATpM+GVFrDWN+6e22SrcXcOdcIWZCSsaYTPFgQkbnU6aZdUzCYNLtr1E0\n",
       "TXhDa7Akf5oPDWGe5CSkyp/gi6GHdJEJRaLAM3Eh/xl1hRyIGUy6WdzmGRsOa2HUPndzcFGW064B\n",
       "7jgzCc9RusodlU99zor4Jw0mHYaXZl5u75pUz+09oQWRfAmIlrcPykvUMya1UB6oKNqTyZSTgnhW\n",
       "6kyG+PMXq7BWp22uWPAubuxitXW5o209kkeiwgdWnxXqwCU9AUsTOY/UBQctE/7EoRKTnDxaZvEN\n",
       "v64B4QAFKOrSn9XNCt8vWpuAXl1o2EsZpVu8AiABVWcNnUp6E5YjtN5sM733Ra0+QMb7dbT7pLQm\n",
       "SN2AuvK+2sLbZtl74qneQ+lNVGgEn5uTGqN28Mod38/YmCpzt2hjMFPs/PuhVL0GLTroLW8finO8\n",
       "5+qlvs/OVKuy8H3klWn4jdiICKEsC3hcIeJFuE02hu7IAp0AlyTIlT0JGyOPZuX7XYgANzVshwkS\n",
       "Ov8A5QYX8FpAtcoAAAAASUVORK5CYII=\n",
       "\" style=\"display:inline;vertical-align:middle;\" /></a><br>"
      ],
      "text/plain": [
       "<IPython.core.display.HTML object>"
      ]
     },
     "metadata": {},
     "output_type": "display_data"
    }
   ],
   "source": [
    "div_rational_nonpos_from_nonpos_numer = Forall(\n",
    "    [a, b],\n",
    "    InSet(frac(a, b), RationalNonPos),\n",
    "    domains=(RationalNonPos, RationalPos))"
   ]
  },
  {
   "cell_type": "code",
   "execution_count": 13,
   "metadata": {},
   "outputs": [
    {
     "data": {
      "text/html": [
       "<strong id=\"div_real_nonzero_closure\"><a class=\"ProveItLink\" href=\"proofs/div_real_nonzero_closure/thm_proof.ipynb\">div_real_nonzero_closure</a> (conjecture without proof):<br></strong> <a class=\"ProveItLink\" href=\"../__pv_it/theorems/27d605c90679a0d9a562d3997d0757dc518013a00/theorem_expr.ipynb\"><img src=\"data:image/png;base64,iVBORw0KGgoAAAANSUhEUgAAALgAAAAmCAMAAABAgaHGAAAARVBMVEX///82NjYbGxsSEhJKSko9\n",
       "PT0oKChfX1+IiIgiIiIQEBB2dnbu7u5ERETMzMzc3NwyMjK6urpmZmaYmJiqqqpUVFQAAABvRl5h\n",
       "AAAAAXRSTlMAQObYZgAAAAlwSFlzAAAOxAAADsQBlSsOGwAAA5RJREFUWMPNWIl24yoMZZY3wyKx\n",
       "yfD/n/qQDd7ixKmDe4aeuq4Tw0W6upIQ4tYRh84TggfxDSOmeuOSkU72mNKqb0BOvt4E7YTA3GVJ\n",
       "SrfjtroiBU1sftVnWhzuBu5NY0zmqzJXeb37V99MlmGmhkZeL4dr85jxPWOk2UfOTWO2MGQOS8rX\n",
       "pnEjTCpTBKxPsruV4bPBITMrkxfDlQXT+JK25dIAo7kTeMIlnIq5BhVFvDBNMJOR2Qq6hiXpO4Fn\n",
       "WsIpSWNdkvZEPDVi9krj9GZEHr/KL1X3KWpcKTtYiD5QX6Z8nRc4Ejokwlk3JK14p1sKK94TcY51\n",
       "35XyV2KxADfjH9vMCXM8MvDcFDyWzDZ/x2FfivvLwKMTvlLl5w8cqbINTiHZKq1qMX0Tkn5DbCWq\n",
       "MvwB8GrE2apCshymJUWUfVCltu8cm6eSFbyEQ4sngApx4TonoAhLALGVNW9baXObqDxJLI8F6gTc\n",
       "4lDDbXhWT8I4e7S7zfUYLp8x70ALCnDtVVbNE89JMObiMae6S/kf2E1ODtI9quEp8OPgJIL2yRBO\n",
       "iMjGNgdfsn4nNIMyPia/OHBMhezyBxRhVVLlZaxrXlUHbqmCQOcJJcdGpUOvpMZ7KxNiQSJFeWJc\n",
       "e0xhrDI5TuCrFgd8Ioc2vkHbCXhBTYdhoGuOjrHeyPIjCMrFxBj//oklfTnuD5T9MlXUMx2P9jyl\n",
       "ZFklvEU4GJLGzYtLmWBOuw24hLgiSrW4ewjOM39L+QR48YWk9zTLtWwByq2KDFn6UhnXTmWqOORp\n",
       "i8X/+x3Z4iPL/KNgnbbGfjgAzsYoHMfwnmalmRMcNfM8NPa7gVbAI5q6j2Z3VhV6lDZ9WsNCwgAP\n",
       "1SFyW43+NdPsvpvSHIBpTfHSJpEf60vuUZkqJkxzxtcRtFEkQK0Oa23cpPwLXWHzL2+XoD7NU+1u\n",
       "jVhzPAQDTVFeHalsi31/pYl43obuzaCZ4oFgyiyF4oSbpDrJIbwDgrZGyV1LONynyxBpkIaY6GUh\n",
       "G6fId2jnssibQu74hndhAzXkrhXFK8kaNpmdOf7F0wWMr3z70QgvuqvwsYU2Ha1PJSV0Y4t54fHP\n",
       "+8/1ARDkkuGg23GIvvcQbmWXYdvrfjjkracTq1Jnam7faYr+CYOvTpmn07jQSRKlF3cPT2sVj30k\n",
       "0Wl3O3Cu2Sbgth2Sd5jz9uPxVUOcaKfrHyRNEt8xnK2FoIl9FoSmsf8DhPExLzohubgAAAAASUVO\n",
       "RK5CYII=\n",
       "\" style=\"display:inline;vertical-align:middle;\" /></a><br>"
      ],
      "text/plain": [
       "<IPython.core.display.HTML object>"
      ]
     },
     "metadata": {},
     "output_type": "display_data"
    }
   ],
   "source": [
    "div_real_nonzero_closure = Forall(\n",
    "    [a, b],\n",
    "    InSet(frac(a, b), RealNonZero),\n",
    "    domain=RealNonZero)"
   ]
  },
  {
   "cell_type": "code",
   "execution_count": 14,
   "metadata": {},
   "outputs": [
    {
     "data": {
      "text/html": [
       "<strong id=\"div_real_closure\"><a class=\"ProveItLink\" href=\"proofs/div_real_closure/thm_proof.ipynb\">div_real_closure</a> (conjecture without proof):<br></strong> <a class=\"ProveItLink\" href=\"../__pv_it/theorems/df461eb7d20797939ed7165e067484272d41e6210/theorem_expr.ipynb\"><img src=\"data:image/png;base64,iVBORw0KGgoAAAANSUhEUgAAAL4AAAAmCAMAAABNn9GBAAAAOVBMVEX///82NjYbGxsSEhKIiIgi\n",
       "IiIQEBB2dnbu7u5ERETMzMzc3NwyMjK6urpmZmaYmJiqqqpUVFQAAAAnLjGdAAAAAXRSTlMAQObY\n",
       "ZgAAAAlwSFlzAAAOxAAADsQBlSsOGwAAA39JREFUWMPVWA2TqygQ5O4QZvga4P//2AeKihE1WFeh\n",
       "HlubzaaAtEN3zwyMjRvOv10JBtjo4UJ5o4PkmnetVdNo/GTKGys0Yxj78FAYi16JghcE5aOYOtej\n",
       "HwrfyJVDMb9Ospf+YiR9/EYWgRlMtK+lM2Js0YaYRUuxewcd9Tjmb8GHmEkcDPO9aFAOgx9wR5Gi\n",
       "7yfHXLd1iWHwI+0aDFwqHbi6d1mBGM0kkCr2pHPbBeDph9zp5i2m7JZyRCDcHCcdGXOb5M3vpPBC\n",
       "qQm+nP+oLeAuJb7tP40/pL55C99ptq3lOQhr9SN/mMbEs2dznNIwDfi4546kFyqUN79U7pPnWcOh\n",
       "Gf0AEHYF5YiL/JiTkGOMp52SzgXxAl+h3yUK8zZutix8V0LcuDXcJMwHojZcJMEXZopTfSpzws6G\n",
       "tLx82pv5ULOfpHHB8MOuV9PlbGlSctnwzSf4bekSgTlzMAdetkqmsH6z4gExzeAsfSK1bMLfp7Mt\n",
       "HpQe1Z4szVYFWtxHVUxPZeCRPAhU0y7OZ+/5hXBFyYTOlTc8/TAC3oYv6sQZ9PbRKUc9RR/wwjiV\n",
       "O5B8gZ+wU0EEkrjU27dwHtJsvj3xDJ+Da5OnTF8CLBeS5/+F7yXPdOX7TtXpKfJi+UXpMOkqofPU\n",
       "UHJXxyKTRyOnJvwy3WEe/6VfKoXlRCfpPjgP5xfwE5bq28s2ek0jzmXibSto7kgtVfAdSmRt6Zbp\n",
       "y0Sq6mLxCQbiU2NufAN+PvTEfbSfBhYKa0WWZ6i5nHoaMnM8c3OZySOtb8Mv02vyLuQ5U0U8VccQ\n",
       "0MKp4sTc06NZ91MfLRpk3iBBWRgX3irJau5bK6EJv0zP5Pn3H5zJcyFddrBYQNHgupV4KBpuG841\n",
       "Kpn6liBJOHMWGOEhoy3GeSHddXpVBs4ktueU4o6dhuluVRbJfj61deS5pCyAdEDKLRLSqLZKxEgG\n",
       "zpmm87hVcZW5pbTloFEwHz6L76pFvCn86h1BZi7Ydh3bWPp4YwYHwDa+K1hu/Mt+uSN+l/JPy9wd\n",
       "Cb4b9qZl+7ZxbMD3X1zZHNpsE1K+6+eP/B9K/JcNZn0tBTElTejvfsXAa8IqdL6d2x7bsXH3JIf6\n",
       "bvGxKP+i4Ff348t9oe01T27Y0GGodn3XaZ5a6LHwc3W7wFfrJX/P4rHX+1U/HugjD3zj18SGD61K\n",
       "dSldJxpYbfcPDBcjsfLNw6UAAAAASUVORK5CYII=\n",
       "\" style=\"display:inline;vertical-align:middle;\" /></a><br>"
      ],
      "text/plain": [
       "<IPython.core.display.HTML object>"
      ]
     },
     "metadata": {},
     "output_type": "display_data"
    }
   ],
   "source": [
    "div_real_closure = Forall(\n",
    "    [a, b],\n",
    "    InSet(frac(a, b), Real),\n",
    "    domain=Real,\n",
    "    conditions=[NotEquals(b, zero)])"
   ]
  },
  {
   "cell_type": "code",
   "execution_count": 15,
   "metadata": {},
   "outputs": [
    {
     "data": {
      "text/html": [
       "<strong id=\"div_real_pos_closure\"><a class=\"ProveItLink\" href=\"proofs/div_real_pos_closure/thm_proof.ipynb\">div_real_pos_closure</a> (conjecture without proof):<br></strong> <a class=\"ProveItLink\" href=\"../__pv_it/theorems/30dc11688f4edf8d2bd2a25edb6f138c8f46fa3f0/theorem_expr.ipynb\"><img src=\"data:image/png;base64,iVBORw0KGgoAAAANSUhEUgAAANgAAAAmCAMAAACRZqW2AAAAOVBMVEX///82NjYbGxsSEhKIiIgi\n",
       "IiIQEBB2dnbu7u5ERETMzMzc3NwyMjK6urpmZmaYmJiqqqpUVFQAAAAnLjGdAAAAAXRSTlMAQObY\n",
       "ZgAAAAlwSFlzAAAOxAAADsQBlSsOGwAAA7BJREFUaN7NWYuygygMZXd5JLwC/P/HLoharCi32pnK\n",
       "nat9DMghyclJytgzhg/fWQcssCcNH+vdRMUNv7OSFk9CRrbenTSMYbq1NYrPwaVlhQKSivXEvdUw\n",
       "PAaYVbNDpnIV6maYyac4Y1h8T2LZV3JfCtifj8VEkAptULoEpnltknlGhC0Gg1SiI1oWPt8Ybt6o\n",
       "RwCL66YwWywIvzn+K8BIPgJYojXsI1faRK4HuUEiJisk0gEwU0z/CrRAP/JE87l5TN62i4TQBcay\n",
       "1ZlfOcj+JuQukEUGpqabLmbxmIcsl9UyPid8vZjM4I9CzF4F5g2zfYvxcliLalQ/SthynHU4ijxs\n",
       "Bxj2gYWUw5RmA9pfcceIm53l0LVYBIh9YHpKHLIch5C/4v404CyzL0QqMI3hRQtbYDAt6id2xc8F\n",
       "1leOYqLmUyFpejEmrUiiseRb6ps0TKHOerkhY3rv2yM8YfsRsD55EIEd+XcxluooT23fiDIIZX20\n",
       "/AAIHk6tqyvF90Z2L82bXqMtacQ8cOuKCHTsxGnaW+AH1BGXfWgeEfMGeHE/ZdQQ2GsqW92B8mMc\n",
       "fmoxwAO61/4kfCqwjIq65bictY338wue/xhBvijvvcj/7gCYbGVRNOtHO5kxdEVxlMe8Pk69ic8p\n",
       "bGEeUMSVWZ/Jecxf8NXkEzAOfuyK89TqbaqyRHkvw448BqzI+QGwbEtO51RrliQJwjTajQtg3LfO\n",
       "UFzR4LLcCbB56qR28L9J7dTqRLxvBdKod2NDB1h5do4xdOdUG1efK9G6zqepzeKoAeZRIRuTxzy1\n",
       "TqKm7JI7GHJUpEBEBzt1j6Xtg7bvyPq9CpeFIGIbJ7nMJjude+mRFFdULhzkMdyG2FyhLwavrrjf\n",
       "yIY/AWUnppzCjaT6e7NhdYtyDATzp6nGhFasjTHnFAyLvXlqccV//5mFd588mN9WhfZClbmXDu+n\n",
       "I0uIOYJMIiUegBFuREmle/BDYMvUpnqYWMDFTtmyOaf0DS2O749xngJXVAItr699ZSSDepWjVjHw\n",
       "3o6ALVM3Ui0naL83NmyguPSN3tkZ07ZPA1W8adgV62WVMO5Xoz9zoivDnRTl7sLB4d+U3s4X2yCz\n",
       "MSfAu96oTp56pf/RARb+0PxsO6SQslSAu31B+eWa2dw/4HCQ7D4a/Bndt42wrLSU1KMMdqNRtZps\n",
       "6na7e5TPLXvMsNRmMX+L8o00zwFWxHcFppdfya4v9Zyfx5qOTaS3vPY5NRN71DB6VvLK39oZLKnj\n",
       "fyqhJU8VTf99AAAAAElFTkSuQmCC\n",
       "\" style=\"display:inline;vertical-align:middle;\" /></a><br>"
      ],
      "text/plain": [
       "<IPython.core.display.HTML object>"
      ]
     },
     "metadata": {},
     "output_type": "display_data"
    }
   ],
   "source": [
    "div_real_pos_closure = Forall([a, b], InSet(frac(a, b), RealPos), domain=RealPos, conditions=[NotEquals(b, zero)])"
   ]
  },
  {
   "cell_type": "code",
   "execution_count": 16,
   "metadata": {},
   "outputs": [
    {
     "data": {
      "text/html": [
       "<strong id=\"div_real_pos_from_double_neg\"><a class=\"ProveItLink\" href=\"proofs/div_real_pos_from_double_neg/thm_proof.ipynb\">div_real_pos_from_double_neg</a> (conjecture without proof):<br></strong> <a class=\"ProveItLink\" href=\"../__pv_it/theorems/74ef6555e65780703d7793a1cccdc0c64e77e5ba0/theorem_expr.ipynb\"><img src=\"data:image/png;base64,iVBORw0KGgoAAAANSUhEUgAAAKoAAAAmBAMAAACmKh0SAAAAMFBMVEX///+IiIgiIiIQEBB2dnbu\n",
       "7u5ERETMzMzc3NwyMjK6urpmZmaYmJiqqqpUVFQAAAB6qHgnAAAAAXRSTlMAQObYZgAAAAlwSFlz\n",
       "AAAOxAAADsQBlSsOGwAAAy5JREFUSMeVl19IFEEcx3/j3f7x7rw7IR98kTgq6k2iTOgPV1AoFCxp\n",
       "QhS5pm4RhUdF9JQXRhGBnULRQ9Q91ENguRUkeZYroSAEbj4VBF0gQQ+BF0l/pWZ2z9u9odvZGdjZ\n",
       "nd3ffPY3v/n+ZnYBOMoLHzbCDeAr4TyuBnde9LY6rfBRZ/ERaoY+726RPBdU2oyrNgOeMOxOcVGr\n",
       "k7iaBFjDsGvjCsEHYt0Ewi8/4fddiI9CASKLlXlWLf/gCesSoS5DNPO2kolon3o4qFGV1F0wr+sM\n",
       "6isOaswg9ZFV5z+mKME19Q03GS7qdROs0L73Qe1PV3qiDsKjGcWhVukwTs63fFDnKj5RL4Eo5eGZ\n",
       "1q1pxOdwBi6QWVN9UD97UcPpjOMrWoRq7HrQ9EHdQd9ARxMbHKrqUGu+QwT7XO1ntr5R7dCQ4vga\n",
       "PZB3qNIywMZEYpMf6h+qfVVxReDcu7RDFbDpGECvD6i8TN1wZlgdGP5a5+QWQAEvmCD7SVyJpmZc\n",
       "s/X6IB0sUQlmS11vFi/mW18OUWG0FpXYX1IsUxy5xLoiVTxsuG1/4xmLuyZrgdg3aFkUhJakp6+C\n",
       "6vJV0nspKmSmnPYWfORwRiIE03E5l8uNV4zAardexy67H+G4wj6yf7VPtZCuhQYFkcFgal35IiLT\n",
       "Gqh1UzuQQcllAE+WsF4iqyJai/QOS+FBucsoH3GB3hpKqaNew6o/Qcklikcc1qVGIjgjkhmxqOEe\n",
       "Oou30lv0p/ulNes4aHed/JRWdotAFhF5BVLh/KymaSZCwYcUxZaH0F2KZ2hPMWPpUrNUvOhMi9M4\n",
       "V2IQMM9avqLQPWpTe1ocuM6UdnDlxYF0/4jSDlXKDNavFVfYTXWfs98SY69E4kpWhSbe7IUzpvQ4\n",
       "DvIx3H5Qnzz0vNy208aNKj53jVKx+7VrWvZ/Hti+72In92jZrhHydCPSaJ3u1H5hUVvL+3l/7Fl6\n",
       "EX4qnWkGdTvPV0ZrUTWBuLcdauShBlL2ThdLMuxMHmqErKhVSRhl9Krn+369bct10ltbcjMfdT+e\n",
       "plhK2MawMvmoMl4yo4bISNmTnP8FcAUra2GC8bdBMugfAzvJ21TlnisAAAAASUVORK5CYII=\n",
       "\" style=\"display:inline;vertical-align:middle;\" /></a><br>"
      ],
      "text/plain": [
       "<IPython.core.display.HTML object>"
      ]
     },
     "metadata": {},
     "output_type": "display_data"
    }
   ],
   "source": [
    "div_real_pos_from_double_neg = Forall(\n",
    "    [a, b],\n",
    "    InSet(frac(a, b), RealPos),\n",
    "    domain=RealNeg)"
   ]
  },
  {
   "cell_type": "code",
   "execution_count": 17,
   "metadata": {},
   "outputs": [
    {
     "data": {
      "text/html": [
       "<strong id=\"div_real_neg_from_neg_denom\"><a class=\"ProveItLink\" href=\"proofs/div_real_neg_from_neg_denom/thm_proof.ipynb\">div_real_neg_from_neg_denom</a> (conjecture without proof):<br></strong> <a class=\"ProveItLink\" href=\"../__pv_it/theorems/5a2c51a34deae9347cb1e036e383293cb10004550/theorem_expr.ipynb\"><img src=\"data:image/png;base64,iVBORw0KGgoAAAANSUhEUgAAAMsAAAAmBAMAAACYD3JcAAAAMFBMVEX///+IiIgiIiIQEBB2dnbu\n",
       "7u5ERETMzMzc3NwyMjK6urpmZmaYmJiqqqpUVFQAAAB6qHgnAAAAAXRSTlMAQObYZgAAAAlwSFlz\n",
       "AAAOxAAADsQBlSsOGwAAA1FJREFUSMell11IFFEUx8+4s7OzO7s6EPYBYbYlCBKZVBIULEFkZDCQ\n",
       "CBU4U+REnwj2EAQ64FMvOlGGEMFCvgRGWy9lGzISBoLU1LPgChYEPhhkGSR153PvjLszMveC192z\n",
       "Z+9vzrn/e+5ZAILB6ZtwOicA4ZhCf+zSdj7QKdFESEmraHqqMKvBbh8JMf0oHfGjwDUGuzE6Geah\n",
       "sT0rUJMLdosfIqJkjGTFJBDzm9jC6MOMQuThU3WXgjmPKCSYQUOpog7fM1WXkazNyZFgvplL8JkW\n",
       "DoIx6VYSzF9zfxdPDm/z6fyB/GfPDQzDrgOUjBfzESiJtaoKZkup5d4yBloA3hr/x6IczpXqmBxI\n",
       "A8DJ8mHZjGoSYMCISoqAqVWDMG+SWDS7AJJIL3SUcxor+S1bs1nVxTAYZqEP0hpCRVFAnV+mz+qx\n",
       "aL72YJhBFEZbNnswEkbzvmdHsaQlbo5hGBG5vgbo3bgIHYoZ8WU6qZQxR/bvFspVAOrQVTEMbKnC\n",
       "jRVeBPwYTAKdM6o/v4xA47Xvy6mp+y4m8chrxccL81v/jGFKuz+LhmQnrXfOg0FRZXj3ORINcp6i\n",
       "oSPnRrPktQZF040L+i4j+DCgTjtvi30AFAUzPF18VTTPbTtuZYtFy1oRU4NjuDv4UTT2Bs4YEuma\n",
       "7gDK0A5asL7gJu1Hg4BbPRLwKY3iMUxc2ukX5RBSQLwZlSgzbIpmL2oOhmqiCrgVH6K/03hSxhRg\n",
       "jsn7RFmLksIVEq0wYS7IXZZcCTBaWsWtnirgiw56rglOhf6lMFfXsW10kLE8VYJZWZZ1iqKfu+cm\n",
       "1seVcKtHwBa3u821jF/KVq5zC44eRIWZEW6bz02lxl2V1EFM32i1T5Z9WT0OLxjH3QwogxOCKUIk\n",
       "3RN2OrqgRvgAfqt7Edjt2Xo45pbzIvXucyewV4wCuCN3YdLuw/TES36D1e2LrPVTq5u8Z8ujS5Y9\n",
       "zZBe0eqM61bxawylpNaCPw5ust9bSlhsCLutaDX4Gg7+ttUGiqPxtbALkKi7tR4SifVAiOMWsh66\n",
       "3W4nfob4HSPDzBrTXkiFSJpSyTBJzTw2XIikhxQyTLwZTb/hrBbstY/0R+E9pPhl+/xU/xWlkWJY\n",
       "VNt7Tocsc96Y/gNY9tdY6KR8hAAAAABJRU5ErkJggg==\n",
       "\" style=\"display:inline;vertical-align:middle;\" /></a><br>"
      ],
      "text/plain": [
       "<IPython.core.display.HTML object>"
      ]
     },
     "metadata": {},
     "output_type": "display_data"
    }
   ],
   "source": [
    "div_real_neg_from_neg_denom = Forall(\n",
    "    [a, b],\n",
    "    InSet(frac(a, b), RealPos),\n",
    "    domains=(RealPos, RealNeg))"
   ]
  },
  {
   "cell_type": "code",
   "execution_count": 18,
   "metadata": {},
   "outputs": [
    {
     "data": {
      "text/html": [
       "<strong id=\"div_real_neg_from_neg_numer\"><a class=\"ProveItLink\" href=\"proofs/div_real_neg_from_neg_numer/thm_proof.ipynb\">div_real_neg_from_neg_numer</a> (conjecture without proof):<br></strong> <a class=\"ProveItLink\" href=\"../__pv_it/theorems/3365ce2e710111f256aa476ae794449be9db370b0/theorem_expr.ipynb\"><img src=\"data:image/png;base64,iVBORw0KGgoAAAANSUhEUgAAAMwAAAAmBAMAAAB602klAAAAMFBMVEX///+IiIgiIiIQEBB2dnbu\n",
       "7u5ERETMzMzc3NwyMjK6urpmZmaYmJiqqqpUVFQAAAB6qHgnAAAAAXRSTlMAQObYZgAAAAlwSFlz\n",
       "AAAOxAAADsQBlSsOGwAAA1RJREFUSMelV01oE0EUftvsX3e3SQr20EuRoKK3IhoL/hAFpQWFxdaC\n",
       "KHarbRRRGlSKJxupKCLUtKB4EM1BD0K1az0UTbUp0kJBcO1JQTBCETwIjVisP0VnN7vZybbdCZmB\n",
       "zGa+eTvfzJvvvZkFoCkvy7DhbgFlkXOoGth92d/qnEpJM4N+UhP0+I+j5OhYhK2oas3CKMHuLB1N\n",
       "dQxVEwDrCHatdF77ZL4eBe53OVtYeTFXweVBmSfYiYtUW7Ng0ixBMPWeYNlFQxPUzLoTZnWdYPma\n",
       "hiaUNetjay5+Tnh0Hu0ZimYx4KYB1vZ8rISmL7lajzYAT6YxeVXp8MJ83qmE5u2qPdoV4IUc9MZR\n",
       "Mecip+CSKQWtEpqvfjRyMuW2mXmoRotjjUpodnkB5nhkk0uDTb3mJyhor6orksAPT1saVN3VBA9h\n",
       "MSksAWyORLZURPPX076uYk7r/YAJhEOmYwDdZQ/NYrG95OlzdaT1D32vw7vy6LwAsfycI5d6oqSk\n",
       "MAm8Oez1L6+yaQyZbXk1iI11uxTGaCQrY4b+mcUyRd6PbLBp+KN4eMIfJINwUQFCQzzNsNAccw3m\n",
       "SmGf1XAathpB7/bQQGrSaWVQ1mAYmAqLmUzGilvYhsNsZtSGV3LaWjxuxq569gYOmHeCtslmYMyF\n",
       "ovHq3FQo5BtUHMZWI3qVVovTtDNZjyj7kQK4jcIitFsxxoqdrgWzntFxGKPh8t7DtBjk2g0Ujqc9\n",
       "ogwin8i60AjD1nhyFxa/fFZJ4TBGA9u9N6UvD4sZ+hTE77upRXDO10CaycEMynQGw7CP3VcDCTmH\n",
       "w1jcQEGE3Ininkj77GTjLTUL9p+OJD+lXrCmzUgP3BwegoCxAmyVZ7avdHJQOzMJJPuGVV61NgH2\n",
       "Oi+2QZU6Dctg5yAo0IbIeZd34l8af7cfxJPo36P62JHnNnreEJ6Gl8OOBwrjj5CvR6GSWIW2eDxd\n",
       "Ahgrw/YcC6vbQ05RI0nfbsl3okqj9bhX+41E0+Lfrfhf9S2Zcr/UjiSBZifVdbDFFmsg7G/HNFLR\n",
       "BBKF60QoRrAzqGgU84SpisEIYZh6yu+bu4WwmfCXtNhESXMQ7X0owe0gWBmUNCI6QoJZnpBtztB+\n",
       "e8I1JOi5ccInrhna/wE7xOF7iaal8QAAAABJRU5ErkJggg==\n",
       "\" style=\"display:inline;vertical-align:middle;\" /></a><br>"
      ],
      "text/plain": [
       "<IPython.core.display.HTML object>"
      ]
     },
     "metadata": {},
     "output_type": "display_data"
    }
   ],
   "source": [
    "div_real_neg_from_neg_numer = Forall(\n",
    "    [a, b],\n",
    "    InSet(frac(a, b), RealNeg),\n",
    "    domains=(RealNeg, RealPos))"
   ]
  },
  {
   "cell_type": "code",
   "execution_count": 19,
   "metadata": {},
   "outputs": [
    {
     "data": {
      "text/html": [
       "<strong id=\"div_real_nonneg_closure\"><a class=\"ProveItLink\" href=\"proofs/div_real_nonneg_closure/thm_proof.ipynb\">div_real_nonneg_closure</a> (conjecture without proof):<br></strong> <a class=\"ProveItLink\" href=\"../__pv_it/theorems/399983065919a7239fd229de7659e84ed3f29abb0/theorem_expr.ipynb\"><img src=\"data:image/png;base64,iVBORw0KGgoAAAANSUhEUgAAANoAAAAmBAMAAABQY5iKAAAAMFBMVEX///+IiIgiIiIQEBB2dnbu\n",
       "7u5ERETMzMzc3NwyMjK6urpmZmaYmJiqqqpUVFQAAAB6qHgnAAAAAXRSTlMAQObYZgAAAAlwSFlz\n",
       "AAAOxAAADsQBlSsOGwAAA85JREFUWMOtV11IFFEUPuPu7Iyz6+4KGoggsvRPD1uUCWVsYaJUMKQG\n",
       "UehYuoUULhXSU64YRQi6CkYPUftQD4HlZoLlWo6IghA0+lQgtIEUQYIbSfYjde7s3+y06w47Xdg7\n",
       "d+45e7977vnud+8A6CwvNfrRA6C/mENY9RzszOx5idePNos/rhzaMg9lCekGY/ZgVSvCsAbfi7rR\n",
       "cl1YTQBs1OBbq3sp35MRyoD+mcbe7pcflQWxFOsqJCY6DJbldEyskkjK7JwAwK7qTdsKGXENrL63\n",
       "6Vw2iAAGDxCkZp1oVoHUTTAfCKT1mbFDLw8V2JrSiWYTSd1QcPWDR7Uxytr6y8RIe8rbwcMObPRK\n",
       "IKduIUu0Dm86i9ADT2ZkEta1AqLtxFZOAMZIz50s0d6ktQjXwcSQSLo/AVnJNUJKH1zDBytkifZ5\n",
       "PTSz14eihmAxllDLkIvhGqUs0Q6oO6gzjm0JNAEansu9do6EmfcdLJjL3GxZ8k31zvXxidis9SGo\n",
       "j7xVFpN+Bpdzl8OxO1u036r3W7xiJdvfqThEo/soQEuWYOyaqiPBNqGr/2uh2j+MeQT2HwGjR8gk\n",
       "O+dSEdyokBI1mk/BktcniU66sXgVC2/ijX7FH+ZrXvXhrI+gy4D8b+Z2kgXMijTJYmz7Q4qMjllx\n",
       "bI6imU6L6on+QqbY4yRhStx+ygjVeIzQxX7aCeT0gsVkizl9bLSgiI0JtKRAA99k7C2I+kNRMG0n\n",
       "OdnOlsIW0rs32bIOGpQq99vojRR5g2PkflI3WQ0UCR3HLESJZUZ4jK2cDBku4RMWY3A4OBZniZqT\n",
       "+Uq0E5SYgsJdSBJ6K7MKJ+SdaGSbROC+yDkneaM2UQGFRRkbHVYf5XGZELpxJ7emoLAVV8kcYJww\n",
       "KI9pbhaAXiLNzgXCJpNo8SUsSWiwT83ljw/jZ8B5cN9P1igmdsIb/FQIZpGtEkUZHyf5GDzmkNKi\n",
       "RIvQlT4bzxdXFVWuVCVvJdpo9Jqm+StyBBT3gGeDwXh2bGCQEpak/QbPogsY0CQGxtikDN6OQd7E\n",
       "y9mBw4o/10EOPwOpLPKJE1EqmzZVN8VUhBufOwrsOWw9KnKdepHwuCwxT+0pLfKSRGCGtN3dbMkc\n",
       "rXO7/WoXKa2FzDYS6yFtsjrkzeTBrTtti1N+3Mtf0oJWk/n2vv6Hi8xp+gff6NWAVqH39loTZbbB\n",
       "ntmXcupFM3gitxubS4OvpBfNQrQtxwVDGkYq0v/9djey3SYy7wG2XD/acaSHzUPv1+Ap6Udj8biy\n",
       "iiYN0nXhP3x3w03cAYvjGr7yiTr8BewMAuZqMzD/AAAAAElFTkSuQmCC\n",
       "\" style=\"display:inline;vertical-align:middle;\" /></a><br>"
      ],
      "text/plain": [
       "<IPython.core.display.HTML object>"
      ]
     },
     "metadata": {},
     "output_type": "display_data"
    }
   ],
   "source": [
    "div_real_nonneg_closure = Forall(\n",
    "    [a, b],\n",
    "    InSet(frac(a, b), RealNonNeg),\n",
    "    domains=(RealNonNeg, RealPos))"
   ]
  },
  {
   "cell_type": "code",
   "execution_count": 20,
   "metadata": {},
   "outputs": [
    {
     "data": {
      "text/html": [
       "<strong id=\"div_real_nonneg_from_double_neg\"><a class=\"ProveItLink\" href=\"proofs/div_real_nonneg_from_double_neg/thm_proof.ipynb\">div_real_nonneg_from_double_neg</a> (conjecture without proof):<br></strong> <a class=\"ProveItLink\" href=\"../__pv_it/theorems/ccc11b3e982fedd9ca6503d876374b5bf6d083fc0/theorem_expr.ipynb\"><img src=\"data:image/png;base64,iVBORw0KGgoAAAANSUhEUgAAANwAAAAmBAMAAABdfejNAAAAMFBMVEX///+IiIgiIiIQEBB2dnbu\n",
       "7u5ERETMzMzc3NwyMjK6urpmZmaYmJiqqqpUVFQAAAB6qHgnAAAAAXRSTlMAQObYZgAAAAlwSFlz\n",
       "AAAOxAAADsQBlSsOGwAAA/dJREFUWMOtWFtIFFEY/sfdubgXdwyiJAmzez0kkWiUMQWahsFU0ovQ\n",
       "rqVbiYJFD4WQK4URgimlCEUslEFhuRDdXDMlfBCE1p6FDNSwLBSy1JL6z5m9Oe66w84e2Lntv+eb\n",
       "8/3f/51zFkBve6sxjm2FBDTzKIAwtlaMHXlRTgDcIH4euLjZ2JGWUf1ofDbStB/MGRpiq/XDJUvI\n",
       "5zQkSRpiT+hn8xN2YXCA3R1l8JX0ZDwo+dOss23Cj12ED9G+L6EM9sMjPApzulNHJGL3waTVFSWC\n",
       "qcJDDtjI9+V64VIceOBE605zdEGWgTALBh9evtcLZ+sjBfz5cNMaFcZt5/zGKv91LnKQRAJv+YCm\n",
       "byReuLpoHHLCqGmqgrpJgRvhDMQHkjzQTR61xwsXVSKcIIHjKtFHbw0h00bINDcDfeSIF25yJbjX\n",
       "ydj1j5qQVJhpSMbCMfrihTuwTIinM7cH4Thgv1G2U+EZOVl/gwVzmBy3VH6q7k0tcmh046eAlf1l\n",
       "/oKWzSLA7szMPXHD/VXd35RDZPLVakmwGP4KoCLi/KQBTVhUPWgP5W7vrg3LPHIGoAmESF5m+QL1\n",
       "w65YpqKGaw7BFQ/gDe/Edi6ce042hvvrx6LeFuJ1OOhW5ddX/Lq1bro7qZpFTQvk+I+0aQqPmcnc\n",
       "4iezYmjZ6/3BXsSgUvj1TjdjhEIJGguRzSzIpkZF3PzCRCWIkvH6yqNjHWGFUMvJEeCguT9w58Ua\n",
       "YRgYEIUdJDEZsJU8NeBTMw4WRNFyLAaZGWFw5suOCLmDo2TNUtJfCAzxNYRb7QHLVzq6XGpUqeOQ\n",
       "DhSOKYVGr9cbJF9QKzM1DI51pEcS8jVUCruNn4OTtE6NQhnCWqdI3mnuVsnrFJJEqUHVATujntx9\n",
       "QTgPDHHuCEJOIWR5+CzopHDmcto33w31I1SZVTBo6qNwLwvUr7tPXT0THYEZ4ZeLO6/iml/wXxjc\n",
       "zCgMomh9DGN8ujQoB3otbU5nNZJ5RO12bQrImWDOTAWKiUVs1sB6ze7iBuRLdHSM6aEsYIK6A0HT\n",
       "kMdLSu6e5Ks6eO7n0KPJg4yBtzK46jplKlwshPywH7MSbLY4FN/BQihVT0CK1m3aPJ4L+ImpZ7gY\n",
       "hLN49ThNKn0TRnce1KLcGmqI/d5hvc1LO7ArOF3alnR07g9bNjmdyxZwVmWQBc7KiO+rEHFIm6F3\n",
       "uWKGdKy8EM+ip/up37XAFcUO6Vt5W0Olzc7LdpcGuDzdy9oiv8ANGrZATJZuOGKoZMlj07BJMPh0\n",
       "w1mIVHFD0qWhq7QE7O/uKWX3LnYpCLkJgDuOGrHV4BYvdqQvAXACTl8pfZwGF6tKxN4cbmAhjPVo\n",
       "+CuAOMh/KCHwslXXsecAAAAASUVORK5CYII=\n",
       "\" style=\"display:inline;vertical-align:middle;\" /></a><br>"
      ],
      "text/plain": [
       "<IPython.core.display.HTML object>"
      ]
     },
     "metadata": {},
     "output_type": "display_data"
    }
   ],
   "source": [
    "div_real_nonneg_from_double_neg = Forall(\n",
    "    [a, b],\n",
    "    InSet(frac(a, b), RealNonNeg),\n",
    "    domains=(RealNonPos, RealNeg))"
   ]
  },
  {
   "cell_type": "code",
   "execution_count": 21,
   "metadata": {},
   "outputs": [
    {
     "data": {
      "text/html": [
       "<strong id=\"div_real_nonpos_from_neg_denom\"><a class=\"ProveItLink\" href=\"proofs/div_real_nonpos_from_neg_denom/thm_proof.ipynb\">div_real_nonpos_from_neg_denom</a> (conjecture without proof):<br></strong> <a class=\"ProveItLink\" href=\"../__pv_it/theorems/1fcb10acf1c017ac6abf742f6d707097e6180ae00/theorem_expr.ipynb\"><img src=\"data:image/png;base64,iVBORw0KGgoAAAANSUhEUgAAANwAAAAmBAMAAABdfejNAAAAMFBMVEX///+IiIgiIiIQEBB2dnbu\n",
       "7u5ERETMzMzc3NwyMjK6urpmZmaYmJiqqqpUVFQAAAB6qHgnAAAAAXRSTlMAQObYZgAAAAlwSFlz\n",
       "AAAOxAAADsQBlSsOGwAAA/hJREFUWMOtWFtIFFEY/sfdubgXdw2iRAkzuz8kUVSUMQWalsFU0ovQ\n",
       "TqXbBQWLHgpBRwojAlNKEYpYKIXCciErc61WwgdBaO2hpyADFQQDg+4X6j9n9tbsbdjZA7t7Zvbf\n",
       "8835/u//zjkLYLQ91xnHdkEGmnUKQJhe6kwdeVbKANw4vu4o3JfUkbYp42j8ZqRpB1gLdcQ2GIfL\n",
       "FpHPBcgSdcQeMs7mexzCJIPLkzjEfhLMu8Rgmg22Yny5nPA6CdpRgFHow57w3XDqiERcAZizK4kE\n",
       "Uo9vW8BBvq81Cpcj4xvntK+3JghgiD6EL2AK4Ocro3AOPyngD3val2jmdN39YwXOiy8NcpBFAq8F\n",
       "gKbvXbpwLYk45IQpy3wdwNsyFc5EfCDLC8Pky5504RJKhBNEkJux01dGyXQQMq0dQG4Jcrpwc8ng\n",
       "hrJJr3koLBVmAbKxcMyBdOF2xkjjWNHaMBxHb7XPQC48pDXxDWyYw+y0pfJZc23plCKzmzmi9hUs\n",
       "88dUMn8ANhYVbUob7rfm+ooUIZNv0EqCxfCnAHXpogl/NDd6IrnbtmF5jEd+QmpBiPEydpBEtk4q\n",
       "qUxFC9cRgasawwveje1kNPecZI721zeVLzrxsfchUpf66wtB3dqLb85pVlHLT/L+l7QFCo+ZKVoV\n",
       "JLNuIubxfuEozrBS+GVuD2OGCrRvNt/DlsBmalTEzc/MnganaL6UfHasHFUITZwUBw46RkNXvkZU\n",
       "MgNjZA7COqEQVpO7JrxrxQyD02k7kILMwig463k5Tu5gP9mzVI9WAEN8DeEWe3GgQQlnt5UaVe4M\n",
       "FACFY2rgqs/nC5MvaJWZGwXHygXxhHwRlcKu4b/DYVqnZuGoHyzzNO80d4ukfJUkp9imGYD9pF3c\n",
       "A2E4L0xwnjhCziFkefkS6Kdw1loZ2I+k2/qOKrMexi1+CvekXPu427WSnu0NrQhfFe6Uhmv+Z7Bj\n",
       "8jBTMI6iDTCM+cH/QVvgha3b7W5AMvdq3a5bBTkezpmlXDWx+At7aL/mUrgx6RydHWO5KwmYoOFQ\n",
       "0AKU8qKau/tlmgEeBTn06nIFc+ipTEpLv0SFi4VQFvVjVoSVNln1HSyEGu0CpGrdoc/juZCfWEYm\n",
       "q0A4gb17eWLNsyi6S6EJ5dbWSOz3Buvr+H8Al4ozoG9LR9f+SKt2u2M2cHZ1kuXu03GfVyVitz6L\n",
       "HVBShvQm34iX0I/buR/1wFWmDvEnP9ZQabM/JJeiA67U8La2Mihwk44jEFNiGI4YKtnyOHQcEkwB\n",
       "w3A2IlU8kAzoGCovA+e7W2rZvUxdCsLWDMAdRI04GvGIlzoykAE4AZevHD+nw8XqM3E2h8tYCNMj\n",
       "Ov4KIA7yDxps8FuiVqw3AAAAAElFTkSuQmCC\n",
       "\" style=\"display:inline;vertical-align:middle;\" /></a><br>"
      ],
      "text/plain": [
       "<IPython.core.display.HTML object>"
      ]
     },
     "metadata": {},
     "output_type": "display_data"
    }
   ],
   "source": [
    "div_real_nonpos_from_neg_denom = Forall(\n",
    "    [a, b],\n",
    "    InSet(frac(a, b), RealNonPos),\n",
    "    domains=(RealNonNeg, RealNeg))"
   ]
  },
  {
   "cell_type": "code",
   "execution_count": 22,
   "metadata": {},
   "outputs": [
    {
     "data": {
      "text/html": [
       "<strong id=\"div_real_nonpos_from_nonpos_numer\"><a class=\"ProveItLink\" href=\"proofs/div_real_nonpos_from_nonpos_numer/thm_proof.ipynb\">div_real_nonpos_from_nonpos_numer</a> (conjecture without proof):<br></strong> <a class=\"ProveItLink\" href=\"../__pv_it/theorems/3ddc0984719094f9bfd5ff7c23acf49ee22af43b0/theorem_expr.ipynb\"><img src=\"data:image/png;base64,iVBORw0KGgoAAAANSUhEUgAAANoAAAAmBAMAAABQY5iKAAAAMFBMVEX///+IiIgiIiIQEBB2dnbu\n",
       "7u5ERETMzMzc3NwyMjK6urpmZmaYmJiqqqpUVFQAAAB6qHgnAAAAAXRSTlMAQObYZgAAAAlwSFlz\n",
       "AAAOxAAADsQBlSsOGwAAA8hJREFUWMOtV11IFFEUPuPu7Iyz4+4KGkggIv3TwxZlQhlbWCgUDLkJ\n",
       "UeRaukUULhnSU44YRQi2CkYPUT7UQ2C52YPkWq2EghA0+hAFQgZS9ItGkv1InTv7d3eY3R12urD3\n",
       "7sw5c797zvnOufcCmGyPDeqxfWC+2Wex697VkV3zrGQebRJ/QiW0ZJ9KnDUNxm3Fri4CQwZ0z5hG\n",
       "y/dg9xRglQHdOtOufENmqAD2VwadlzJUF8VDbKoRm9gFEOczgLlAdAk+AH7JbNgWCdoyOIKv0qlM\n",
       "RAAsASBITSbRHD7SN8J0KJRGY4WC3VUJqnB4ZhLNGSH90aLzbwOaxKho6a1AYSsBg3YJNhJQBdTQ\n",
       "zeSI1i6nk/i64f6EBAVNUhRtEw55IRghsus5or1IK/FdBBuHlggEDj25TEgZhAs48L4c0T5kQrPL\n",
       "QUKkT3KcJcw85CO2VckRbaf2BXOsfH0STTWC/yoxLoEErOAHiBjL/FxZ8l3zLPRISdscB6PpzANU\n",
       "ryTvOXTn5vLyLbmi/dE8X5EoT7a91nCIRfVhgGbdDSk7GL+seZFkm6+z91uxVn8BNyfg9QqY+B46\n",
       "pvQIbqVKiRYtSLHk+SEc2vzYZMrxNsnaT30wXfukBwcvmtynfs1dS5XYqTCpxdj5lzQVHaNSviaG\n",
       "ZjsS0S70NzLFlSAJV+rvZ6xQ44GuGnSlG8juBXMpEhpNaxvro2zjQs06aBAciz+Fsf4wDIy7+A0k\n",
       "KmWwlrzdRksyokEZnW/Dl3TiBvvJ+cQ7VgMMMR3nLA6B+FG1rZJMuVAqJSXW8FB4JMESLScLabR6\n",
       "JqJD4U4kCbuOW4J6NT+tfCNqFXwmMSdxY1YzIVpC2cYuaLfyRJnwdWEmn9KhsAO9ZA9xbhhQ57Q3\n",
       "qd7nRqBjhrDJFhGDtIRCg+3arHl3J7EHnAT/rdQaxcV3eEs/MwuTyFaFYaz3UnQsAfssLaHRonRl\n",
       "jyfiJeyNVS69VrAY+9Mg28alc6oFjHBb4sPhRHScYFGSkpR8g4cxB4YMVR5rfFEWuX1AsklqdGAP\n",
       "9bEX8qQJ0JOoO060UjmNVXVbvIoIo1P7gD+B/+6WeA4/Smq0KtwDl65EdUkUZtDY2c2ZylGv39+v\n",
       "VVHSSshqo7buNlbDB+VsGkLGZYtudbhZ+MUIWm3203vmi4vKafan1CAbQKsye3qtjTHb4squy7jN\n",
       "olkC0dON02NAVzGLJpLalueBQQMzlZi/v92IptvT7DnAV5pHO4D0cAbYHQY0FfNoPG5XjojNQOk6\n",
       "/R/u3XAZM2Bu1MAtn1SHf3kjAtcxusJEAAAAAElFTkSuQmCC\n",
       "\" style=\"display:inline;vertical-align:middle;\" /></a><br>"
      ],
      "text/plain": [
       "<IPython.core.display.HTML object>"
      ]
     },
     "metadata": {},
     "output_type": "display_data"
    }
   ],
   "source": [
    "div_real_nonpos_from_nonpos_numer = Forall(\n",
    "    [a, b],\n",
    "    InSet(frac(a, b), RealNonPos),\n",
    "    domains=(RealNonPos, RealPos))"
   ]
  },
  {
   "cell_type": "code",
   "execution_count": 23,
   "metadata": {},
   "outputs": [
    {
     "data": {
      "text/html": [
       "<strong id=\"div_complex_nonzero_closure\"><a class=\"ProveItLink\" href=\"proofs/div_complex_nonzero_closure/thm_proof.ipynb\">div_complex_nonzero_closure</a> (conjecture without proof):<br></strong> <a class=\"ProveItLink\" href=\"../__pv_it/theorems/163cf2ebb3b52e350caedfd1e20bc4614f858ef90/theorem_expr.ipynb\"><img src=\"data:image/png;base64,iVBORw0KGgoAAAANSUhEUgAAALgAAAAmCAMAAABAgaHGAAAARVBMVEX///82NjYbGxsSEhJKSko9\n",
       "PT0oKChfX1+IiIgiIiIQEBB2dnbu7u5ERETMzMzc3NwyMjK6urpmZmaYmJiqqqpUVFQAAABvRl5h\n",
       "AAAAAXRSTlMAQObYZgAAAAlwSFlzAAAOxAAADsQBlSsOGwAAA49JREFUWMPVWImS4yoMZI+3i7mR\n",
       "gP//1IcwGB9JnHHwVC1Vk8qkElmIVncLxm5dEAYHVE6xb1gQ6xsbJbd8REgzfUPm6OobLyxjOg15\n",
       "JMbb8zaiZqoEUvmnMWF1uDtxJxtiEr1O8iqud/+Km8ESFmgITc9L/locWX4nJZf7zrlpLRVWidoS\n",
       "07UwtqSJOYTX9ZNkb0X4UnCVCJXRsXDlgbH8SJj80hLW8s7Eo+7tlMsVJmBwIYyXc5GpCqK2JYo7\n",
       "E0/Y2ylyaWzk5rwPpZ6c49bkdEHT+pX/sB7fhA0reQcd6AHHIuUCLngk4lSQdDscjivciSZh+fQY\n",
       "LL3uhkL+Si8Cn4HBsCWuln6kxFNjcMjKZhZV1mMh7r5+SMB0begIM1R+/tAFKtvmZJyq0lyLHCtI\n",
       "4g2y5XrKa9lhVKwVT1WELEE40WHsEpH3gRXabnBvnlKWd3wrgZrZHe/o/oUsQKB6A1GVBW17EvI2\n",
       "UnkiLHuDmpXGbJMIz/ykKtHB7DY3Ytl0hrwDF+Ss/Xa3z0FQtLhoqr2k/4oqZHng9siGp4kf9grM\n",
       "b0oc/AkQqdjywZeM0w/6CWIfCQok6cgPWfiVpUp9rT3vVJdeYfxdvCZoUHp4KrHFMTxq7YlWyTmE\n",
       "5hXQF5dJfaK+WnF1LIrurPJe4jlrfNgGomo0QH0jVfkeSiYB4O8fyPJlaT6YzJehchwrfOdxdmKB\n",
       "E68U3jpcSeTSLg/nPHNrk11iVzMHtB0oteL20JxnrML5I+WMXRrf4Czb1EJNdmUyeJ5LOawONdjF\n",
       "mOaK//cbqOIFZe5IWKejsQsPOsiBZYqc5HucFRdMUNcsmMMy73aOQoUdy6oFz6yCR5sjTj2sitqr\n",
       "ozsUaYIz12T205Tw5NDWEM9jErriL/OMaozvWIbXxL9hJKXF9NBr67XkX5kK2/nSLQKq+mmavftK\n",
       "zmpz0viKJ+0DW7PvrgwRz8fQfRkEQdxnPBRlyRBHvRFVK8spyjeudnBblDTUwul4ICQMXCIBPZDN\n",
       "nDvfatMxmHED5o3YapOqT0MdxSvKCtuW0UWAvlQVeHW2Hy3/YrryH1doM9G6mCVhGFrki37+fP5c\n",
       "XwCplBVODbsOEfdewq3qEraz7oeL33o7sbI6TcGT/CcKvrplnm/j/CBK5I7dvRyuWRzGUKIV9vbE\n",
       "ybPNiZt2ST4g5u3X46uBOOKO1z8QTWTfsaypRlDCmAeqxrH/A7iKL3GXC5bVAAAAAElFTkSuQmCC\n",
       "\" style=\"display:inline;vertical-align:middle;\" /></a><br>"
      ],
      "text/plain": [
       "<IPython.core.display.HTML object>"
      ]
     },
     "metadata": {},
     "output_type": "display_data"
    }
   ],
   "source": [
    "div_complex_nonzero_closure = Forall(\n",
    "    [a, b],\n",
    "    InSet(frac(a, b), ComplexNonZero),\n",
    "    domain=ComplexNonZero)"
   ]
  },
  {
   "cell_type": "code",
   "execution_count": 24,
   "metadata": {},
   "outputs": [
    {
     "data": {
      "text/html": [
       "<strong id=\"div_complex_closure\"><a class=\"ProveItLink\" href=\"proofs/div_complex_closure/thm_proof.ipynb\">div_complex_closure</a> (conjecture without proof):<br></strong> <a class=\"ProveItLink\" href=\"../__pv_it/theorems/b8104cdaace0ee5256323aff830587fd5932481d0/theorem_expr.ipynb\"><img src=\"data:image/png;base64,iVBORw0KGgoAAAANSUhEUgAAAL4AAAAmCAMAAABNn9GBAAAAOVBMVEX///82NjYbGxsSEhKIiIgi\n",
       "IiIQEBB2dnbu7u5ERETMzMzc3NwyMjK6urpmZmaYmJiqqqpUVFQAAAAnLjGdAAAAAXRSTlMAQObY\n",
       "ZgAAAAlwSFlzAAAOxAAADsQBlSsOGwAAA3NJREFUWMPVWI0OsygQ5O4QWP4WeP+H/UBBsaAWcyn5\n",
       "SNrYBnRcZmd2IWTesO7tSqEFmT2szxfKc6ro0Fq5zMaPOl8YpgiBMIYH/Vz0kmW8gmHaimVwPbip\n",
       "8DUvHArpe+Gj9Gcz6eN2sjBIYIJ5nTozxh5tEVLSYhi+gwpqHvP34IuQSOw1caNogE+D7+FAEaPv\n",
       "FkvssHSxafADHjnoKZfKU/mYrBwWramSvLAn7tuRAA5/yJ1x3lKfFFbYAGWf4pYRu6e8/l0qvMhU\n",
       "S80Wddzh22h8crdu+CH19fB+WQI5232BT1MQSvXDf2hj7FmzKSxx7K/pBSnhFbh7R8wXzL/0LzP3\n",
       "SfOMpmdTBaJsm0Ep4iy95sL4HOHpW9JnQaw8kQ1Asd7GrpIF70qIG7UWN4b5QNRGRSJ2077yatjK\n",
       "l6/PNRo6lLS+Ls7hcjpfJY1zykl/1+/gNy9siaEXHEyB572SyZcnS+oB4gwBPsbFVXYNvelkjwfG\n",
       "Z5omCKYq0MIxqmJ6yQMq7rdhCOveO3qRuCw7obX5gos1BNiHz2rj9Gr/q/Gop+iLdtdBELiAH7Ej\n",
       "LcaMlKv9KZRGwSIUd8mSW9hUlzx5+hZgvpE8/WZulDxt72IO3SfmxP0k+TnTxaIqQ6exoaS2ioVT\n",
       "TVlYwc/TLaTxX/xgLiwXbFL3QXko7bmuP8z2JGCq2Ii1iXg7NFw70iPlUaC4hp+nb8/Hqi5mtFG8\n",
       "p8Zcu45oaKuISMXpp4D5zFpmUmlUczn2NKjXeMbmUkojr+Hn6TV5N/K0VGFP1bHwYERbcbKwWFVx\n",
       "0HxEJfX8KPLCsPG28oucupWkV/Dz9ESef/+BlTwXqUtOEiuAdfp0w6EuGu4bzhKVRH0TGSIS5Mhl\n",
       "hJOjKb6+PO/qfplelYEriU1rKfbcaejhVmUL5tLkNzrKMSWAS1XelkIK5LGBkUlWdslTpp8cPNqW\n",
       "FZ2C+fRfeFctwk3h586sg9W2OrfoLX08MRMnwCa8K1hu9Mt8eUf4xvI7y+wdCb4b5qZl+7Zx7MB3\n",
       "XxzZnNps7aPfjfOH/w8l/ssGsz6WEiGaphjvftnEY8IqdK7vbY/t2LxzklN9txUBgf9Fwa/Ox7fz\n",
       "QjMqnlSTqUNjrfp2UDwVU3Php+p2gy/LIf/I4rnH+1U/7vHDB77RayTTh5K5uuR2EI0osvsHZT4i\n",
       "gyvRLVEAAAAASUVORK5CYII=\n",
       "\" style=\"display:inline;vertical-align:middle;\" /></a><br>"
      ],
      "text/plain": [
       "<IPython.core.display.HTML object>"
      ]
     },
     "metadata": {},
     "output_type": "display_data"
    }
   ],
   "source": [
    "div_complex_closure = Forall([a, b], InSet(frac(a, b), Complex), domain=Complex, conditions=[NotEquals(b, zero)])"
   ]
  },
  {
   "cell_type": "code",
   "execution_count": 25,
   "metadata": {},
   "outputs": [
    {
     "data": {
      "text/html": [
       "<strong id=\"frac_not_eq_zero\"><a class=\"ProveItLink\" href=\"proofs/frac_not_eq_zero/thm_proof.ipynb\">frac_not_eq_zero</a> (conjecture without proof):<br></strong> <a class=\"ProveItLink\" href=\"../__pv_it/theorems/3a217ca19efb4b1af6002869e719c26beaa280b80/theorem_expr.ipynb\"><img src=\"data:image/png;base64,iVBORw0KGgoAAAANSUhEUgAAAKAAAAAmCAMAAAB0+GDaAAAASFBMVEX///8NDQ0WFhYLCwsYGBhK\n",
       "Sko9PT0oKChfX1+IiIgiIiIQEBB2dnbu7u5ERETMzMzc3NwyMjK6urpmZmaYmJiqqqpUVFQAAACO\n",
       "tbUiAAAAAXRSTlMAQObYZgAAAAlwSFlzAAAOxAAADsQBlSsOGwAAAzhJREFUWMPNWNm2pCAMZPZB\n",
       "dgnw/386BNnUHlvuyD3Dg0fbRkKlUkkgZO6w7mPzhBHkM4b1+UZ7TjUdmKmWz7AQTL5ZmSZEhpE1\n",
       "wc+3T7FskWCAcC5Ds6WbbqDhxdMBrwsfoyGb7WRXXcokLhjWDxJ41qiIiYDhAWFwvg56LgMrgCIg\n",
       "nbwhbmxFyaca6GVbKSLoFkvsoAiwqQYGaHz3lCvtqXrNNfFXH0fkGxEdPOzhm/5Usn/inNo6MYJO\n",
       "bA0t8ywlb8eE7HE1ETOxFEtsFHpVk5F8mILmJoC9mEDScl5MobjJkpX5w8LNbqqY7B0n/U5AXYjo\n",
       "QqaeeTpG7mnEuttHsBt9XeEx3rAFB+PzgvgyHfYAimIglOeUwxNJ5cOJT4drytgEy/L9G15rHGyw\n",
       "q1AKs3SjfbmMl5X4PU0d1S9Uxg0D2AzkO54gePxFIlfmHNhUWt8qz+QQjLIzgdeuNAhtHP+1zy1i\n",
       "M2htCKb3jv4lRHzZiKJeyrigkD7u2JUcCWuqipDH4mMIHrU3G1Tnbs/ROnhZjbMsodbmGy7S/4AT\n",
       "bq39/ctGmdcoXYsaNTBx8OuXjYmVX1JuGi96DqIEFjEUHCjXdQ1KfXxBSzwKUJvfdHNwRlCfg+RG\n",
       "FJ86o608sOYgBbqIKiaZlkNp7FuojX6t2VrXeiki+POHRQQTO84MEeF9i+TO1c2Cqa54rkmBr77E\n",
       "RqLiDantWSsUIKBtWZSvxyiGF2mc2XEA8aucetV4cohdFp+p7ykYy24wMg1HlFrV+yKprN5LgJDs\n",
       "3DG5t7nBHfpAgd6VIPKvqAksmtW+k4OEiBzBl1GwrzaNvQPgYfDjrhhScI1+TAocKQhyl2Q0T7Ua\n",
       "v9OBw37356CG98lV+pNugqMckIjxe8pSuhViqqWO6G+rbmWZnUnruWm/cXRwpQRul9GQg4NNI5H2\n",
       "yllx/+8rnYuifP332mHX8hgfNXW04uQXJeAD/UnfqIsQI0KM9rls8uFHB8CmF4wOzadzu84ul5fk\n",
       "Ffh/BWB3+radgqxhaEVqyPRhoFdBO3Q+qJmeb2DtcLE72w4J70+dfzyIMOR05uGgi+9VFMinDK3y\n",
       "4Qy3QyuKIlF/ABVELdfNUlRIAAAAAElFTkSuQmCC\n",
       "\" style=\"display:inline;vertical-align:middle;\" /></a><br>"
      ],
      "text/plain": [
       "<IPython.core.display.HTML object>"
      ]
     },
     "metadata": {},
     "output_type": "display_data"
    }
   ],
   "source": [
    "frac_not_eq_zero = Forall([a, b], NotEquals(frac(a,b), zero), domain=ComplexNonZero)"
   ]
  },
  {
   "cell_type": "code",
   "execution_count": 26,
   "metadata": {},
   "outputs": [
    {
     "data": {
      "text/html": [
       "<strong id=\"frac_zero_numer\"><a class=\"ProveItLink\" href=\"proofs/frac_zero_numer/thm_proof.ipynb\">frac_zero_numer</a> (conjecture without proof):<br></strong> <a class=\"ProveItLink\" href=\"../__pv_it/theorems/de7ec833ab06d7b08e6036df72ad7f40a82d9f780/theorem_expr.ipynb\"><img src=\"data:image/png;base64,iVBORw0KGgoAAAANSUhEUgAAALgAAAAyCAMAAADYxuFLAAAAOVBMVEX///82NjYbGxsSEhKIiIgi\n",
       "IiIQEBB2dnbu7u5ERETMzMzc3NwyMjK6urpmZmaYmJiqqqpUVFQAAAAnLjGdAAAAAXRSTlMAQObY\n",
       "ZgAAAAlwSFlzAAAOxAAADsQBlSsOGwAAA1pJREFUaN7FWomy4iAQZHe5b/j/j12OHEQwCiaBqvdK\n",
       "y4K0TE9PMwjAjMH42DzKKJg5nBmdydFM5I6srwiBWnTNtWgebiPXV9KG6KM+5MTNwi3witSk3SOs\n",
       "bz4yk4AjuKVo2jzr+2hr8RyaG7y99Drlm7d9K0g9BTjeMpOuwDtjr7yYgBvuxBCeZOCwcw05Iz/R\n",
       "/tANOOlcozcrrhjc7zWTZsSqe8dp94wLag8u3mSO297kDHL0fBXCJT1ZUnDTH3jzeHoeFSQro5b9\n",
       "XsubxzXlsFUolnzMfwzcI3YWH3dOE+hGHG4k+Y7d3r//mA1OfLGRxAeKqU3Xb2f8Uiv7x6uNNF4B\n",
       "vm65YA/k5pgAVzYyLSQXNSL2duADkt22kSl0ZqG2vD83jR87a9Y20sevglEcmNwPHI4VjoaN9JE2\n",
       "Om3DE+dn8rFIalQM995G4sgP4dZ/345TbTjBpsdsXcNGIrRuNlEnEWbaQVEIwpn+5IWC7jao53xJ\n",
       "3GJ8okplI1GqZBa2UpNDx5iKTRgXmGkZ+Qp4jpwJKyp2Drw7OUtNysADalMJrNaLAhCaPjPfAXcp\n",
       "/ZL/qDNRj3G8YSMzVYKEr2IOQ2VNxRWuGUwNzywSbeDbjHweJJmUcTls6+QcK861jcRyaXUsXw4K\n",
       "4FgssHTDZoWtnlYA32ZoFse/8GdCGtFmAwQO6nhtI1fAq0ULj2IQhDdqe6ihhp4A32ZkZGapyGnH\n",
       "4VUFqLaRDdOTo2lk2kBmAeeKnwA/cHmNU6ZKXd+tV1e5tUqzOE5s5vsHS3KW+swaMyJV/v5hiSrv\n",
       "kpNfdXJ5dWsCAyJzfdkLqSAp9UhTx4sZYDeaIWMD29w7XbvBrWmoCIQ0mdyNIJQE3mjepso+4+Aa\n",
       "ovFvSB+6yMmdmR5KYtjbnGzruP1sth2+qMsxWMnawL/YzWMrgkLoKCcDB4HRI2BzmlXfJJU9ejXo\n",
       "YKiW/a5rsJU1fjgt+wpG5BD03wg93xACuiA5H+sGRYo/34JTLyUID8V8QtMTIH38HiHmlHYzZcJl\n",
       "yv5QGrQ2yWP3YRdNuXjbDuXWcxopr2w33WZcpexbTnUwBlab/u74pJtOSX7N70m34hz/FmlkwaQB\n",
       "f2pSzrsSL3+EMEAUCSYOORxtLuf+YGX4hzY77v/alyJicXGKygAAAABJRU5ErkJggg==\n",
       "\" style=\"display:inline;vertical-align:middle;\" /></a><br>"
      ],
      "text/plain": [
       "<IPython.core.display.HTML object>"
      ]
     },
     "metadata": {},
     "output_type": "display_data"
    }
   ],
   "source": [
    "frac_zero_numer = Forall(\n",
    "        x, Equals(frac(zero, x), zero), domain=Complex,\n",
    "        conditions=[NotEquals(x, zero)])"
   ]
  },
  {
   "cell_type": "code",
   "execution_count": 27,
   "metadata": {},
   "outputs": [
    {
     "data": {
      "text/html": [
       "<strong id=\"frac_in_zero_set\"><a class=\"ProveItLink\" href=\"proofs/frac_in_zero_set/thm_proof.ipynb\">frac_in_zero_set</a> (conjecture without proof):<br></strong> <a class=\"ProveItLink\" href=\"../__pv_it/theorems/220eda8e51918c578e1f038b656d779f4108bd9b0/theorem_expr.ipynb\"><img src=\"data:image/png;base64,iVBORw0KGgoAAAANSUhEUgAAAPIAAAAmCAMAAADJGTavAAAAOVBMVEX///8AAAAAAAAAAAAAAAAA\n",
       "AAAAAAAAAAAAAAAAAAAAAAAAAAAAAAAAAAAAAAAAAAAAAAAAAAAAAAACXHtMAAAAEnRSTlMAq1Rm\n",
       "mUTNIjK7EInv3Xbt5cmRiLwgAAAACXBIWXMAAA7EAAAOxAGVKw4bAAAD+klEQVRo3t1Z25KcIBDl\n",
       "jtBIEv7/YwOCSCuO7jipYsLDrMVCy6Fvp1tChh6CfUyUVZZ8wRC0PGgKXvtnwqb5CzBzVR6k04SY\n",
       "8PDInA6PeHIFo3U8qXx+KtCw0SErWO07pN8ZHruzG9y0WTVkZ9J5g/xcbBh0VK3akAIXD89F6qCH\n",
       "9uSqZBuSD1JF2OMDGxgZMjXbQaOW2SyIuOOvEtm/xtfE3ciQA99gUA+Tpn663uWVxCFqosa2lh0N\n",
       "ZnNoxsey63esuIY8AC+KANPGrGgrRFQ7UEO59nvRCkruVlGZdtZoLsdslRS/6tyM5crqAWS+/AFz\n",
       "hOzTTa5sG8aiJu46hXozx6E6kLMtFytHkFmIAYEXF1ZDISbhKp1I5e2ZloPI4YAdIOc5l+5qdoNl\n",
       "rHARTHW3Fszw7AqZHyDbZU4ssd+8ST/FE1z2BU+68LN+sBUqb4YMeSk3PcrFy5ym688+TyjT8R9B\n",
       "UeV6GfRiuoATiSD3C3YG+Apy96KWkmuDDMfby3NJwdDj7HQ9yuSpMXGFNTReLmtp2xVkHq9HmoNE\n",
       "Uq8ZL6ie2hQRYRtNYTmXYRp5ShbrhSzDFyajNtDZ5pk/uTRX6I4Q5QHsIoT/APIio9IK1xIoqo8L\n",
       "7mrZ9t47ieKeBVeRAarRZ/5XxMuLqVrgHnR9rfc0yvBrJLF8ypt1FzLaXH0yHcIxLDErEo4L7ht2\n",
       "v19QmJYxmc1YXIRWX04puYS/RFg2pudnS7xoLpTpYy2zQa6bhVkHL/XQzJHEvOBXZ0FzVRcR2/tX\n",
       "VMRtsYyA62QCveZ9IZKXVDR8aT/J+nJuuT2HjDejEtB5JDGfmXcWNMnkqrmn2AvCOSfCWbwIJaka\n",
       "y2hxMRft1tPWDQWNZ8wqY2Sa5HQOGW9Ghr2+p0hsnREvaGLAVfaz1Eh7BtkK8CuoHRWRu6tNjURu\n",
       "i6SQnWzaglUJX20+NcfNrWHj6FQkpgW///QWNEo0KFi5ju9KMCeEk5zOsX2b1CVvlNF6bYIZHY8b\n",
       "xFI0LBUZdPNy3XzwOUkJlthUM3XBnlRgF1H3KM8l5MMCKTjzwJNPshTzc4zQZtqCcrRyMXUNu24+\n",
       "UBFhdxIR2SsLDsUjmgv3ih7vzhgZ6RTP+2K7tStIRthvMN4vOVuJ7PLLg0Ug5c22fYen5ib4Deou\n",
       "71Lu25CRxBtlmxEXBtvHLCgCrYHiqzvvg9xuCt2G3EpkN1rSqDOnaOQwHyjo4RMl8j/rHrWtehsi\n",
       "V7IfaEK7sT/RNBphfb7y4+GH7umiGiQH3QD/uZKbb635W40MTw/sFRl9KN5mZfH0+7J2enjIayea\n",
       "pLYkzq9vSRv+83LT06N8l6ffGYaTbxh6KlUTiKcHtmvO+wueFiPm3MmrwAAAAABJRU5ErkJggg==\n",
       "\" style=\"display:inline;vertical-align:middle;\" /></a><br>"
      ],
      "text/plain": [
       "<IPython.core.display.HTML object>"
      ]
     },
     "metadata": {},
     "output_type": "display_data"
    }
   ],
   "source": [
    "frac_in_zero_set = Forall(\n",
    "        (a, b), InSet(frac(a, b), ZeroSet), domain=Complex,\n",
    "        conditions=[Equals(a, zero), NotEquals(b, zero)])"
   ]
  },
  {
   "cell_type": "code",
   "execution_count": 28,
   "metadata": {},
   "outputs": [
    {
     "data": {
      "text/html": [
       "<strong id=\"frac_one_denom\"><a class=\"ProveItLink\" href=\"proofs/frac_one_denom/thm_proof.ipynb\">frac_one_denom</a> (conjecture without proof):<br></strong> <a class=\"ProveItLink\" href=\"../__pv_it/theorems/3701df6180c708b620b540c8ae942745fa8f756b0/theorem_expr.ipynb\"><img src=\"data:image/png;base64,iVBORw0KGgoAAAANSUhEUgAAAIQAAAAmBAMAAAD3vi5xAAAAMFBMVEX///+IiIgiIiIQEBB2dnbu\n",
       "7u5ERETMzMzc3NwyMjK6urpmZmaYmJiqqqpUVFQAAAB6qHgnAAAAAXRSTlMAQObYZgAAAAlwSFlz\n",
       "AAAOxAAADsQBlSsOGwAAAlFJREFUSMdjYCAA9uKTZJ3KQBhwPwAqFHxa4otduiiAsBEnQcYwyAls\n",
       "wi7N84CgCeymQOIEw/mANzgU5BI0gtMBSBQw7MSpIJigT+5DVBjiDSv8QAVMcv1gCMWhgOMHoaD4\n",
       "Coq5LD4DBgdcSlIIGMGXACR4v0cbcF3ApeQwASP4D4BcsVHg9lmcSvovMICD4w4O+foGgnHGtIFh\n",
       "F4iegUP+PBHJdwJDHShYE3DIvyRsBOMHBk5gzLPgCiw7wkbwfmfgAYYYJy75L4SNYP/LwGCkpGSC\n",
       "S/4PnnwOzb6sQDXbGRhScSW9v2gCm5RAQI8BOft+ZGDoY+BASeeM2Q8bkRyJC8CzL9CzbAEsC2Ba\n",
       "5NIWsOY18MISLdcvcPr6DwIf0IyAZ9/fwCAVgIfm7gJg7AQyMBwhwhXw7As0gmHCQSAhuEO6gRGU\n",
       "nGOqgGGAywiksIBnX2BYMPgCy1DGhmecF8JAIjduIAUn7hhBZF+QmmZgaPIwJLIzrAGJHD2KpO4j\n",
       "nhQFzb7gWOMrAIkBi46TaWlpF8qXIym0xu0KWPZl/wVPZAYcDCUgBig4WWGi0wiX9bxfoYxmlgnc\n",
       "wOgFOcy7gcERJr8ZYuPr+biNYFGAZVkpR1EGjnQQM2RadgE8s0O1yuM2gg21/A1JS1uAIhB/gaAR\n",
       "4IIND2DbQNCI9QQKNh4DgkZ4EigMWH8RNMKWUIHiScgIRgNCRjAXEDCC+QIhI3gmEDBCknDROAe/\n",
       "ERwWhI0IasBrRNAFwkZwgFtT/rgiP4eIthZDOxC/s5+HPQ2yghIzAOZylEJFI/1NAAAAAElFTkSu\n",
       "QmCC\n",
       "\" style=\"display:inline;vertical-align:middle;\" /></a><br>"
      ],
      "text/plain": [
       "<IPython.core.display.HTML object>"
      ]
     },
     "metadata": {},
     "output_type": "display_data"
    }
   ],
   "source": [
    "frac_one_denom = Forall(x, Equals(frac(x, one), x), domain=Complex)"
   ]
  },
  {
   "cell_type": "code",
   "execution_count": 29,
   "metadata": {},
   "outputs": [
    {
     "data": {
      "text/html": [
       "<strong id=\"div_by_frac_is_mult_by_reciprocal\"><a class=\"ProveItLink\" href=\"proofs/div_by_frac_is_mult_by_reciprocal/thm_proof.ipynb\">div_by_frac_is_mult_by_reciprocal</a> (conjecture without proof):<br></strong> <a class=\"ProveItLink\" href=\"../__pv_it/theorems/7de2cbc3c94d88e08c48541adee2bfa9be2bd6430/theorem_expr.ipynb\"><img src=\"data:image/png;base64,iVBORw0KGgoAAAANSUhEUgAAATcAAAAzCAMAAADFGr+iAAAAOVBMVEX///82NjYbGxsSEhKIiIgi\n",
       "IiIQEBB2dnbu7u5ERETMzMzc3NwyMjK6urpmZmaYmJiqqqpUVFQAAAAnLjGdAAAAAXRSTlMAQObY\n",
       "ZgAAAAlwSFlzAAAOxAAADsQBlSsOGwAABR9JREFUaN7tW4mS4ygMZXfA3Jf//2MH8CWwIT66k7C1\n",
       "1ExXq5qHg9DxJByEuhtcvA3NOGuIfQ1v34gWhDXErtRG34p2pCX2M6x6M5r6ltjLkIN8N5rYltjJ\n",
       "IPjtaDewhtiJlw4fQCvTErsYAwzrDGPPBKXuFrqVQ4lAcnNHPWbeXYg9DDxCHwnnjj1GhtxC1zmb\n",
       "wpRn4V/luUB1lxoI/MQ2HLsNqjjNyMi5/cqoXQpV7HKFu7GzCCdGyPXj70bdRbdNjuZlwogbYgeU\n",
       "dxfXB/wEXbW4clVOWuL3Z4XS0VKIZuwmujZ0dPxsUZunAttXZhCjzWpsPZkQvYNu8bWUn33umbYh\n",
       "fn82lVl0FswEvWl3B93QL6ccUyJatjp0lVF5FqCYwRg5Y90tdKMejSWB0i8D3KY69+XWN/CPoem4\n",
       "E82qWvXd0Y6N5mNoO+pSFIvBSf7d5iYe0aYfRSdRzSn3fJ33meFG9zF0Ya1JtHNYU9+ttuAc4mNo\n",
       "NPq9OJA4BvrlesOP2GaGvtxJQSPfiyadxNdf1dAz5bQhYPga+monJdiW2ovSLz9+YDSz1uuNN2aY\n",
       "R20IiL7cSUGIkAMxmhrV98yfG49hHdxKytMzKMX0zgyfcagxGyeq+rHeSWGjOlo3U1TOmifR4YtZ\n",
       "QWDPQ3kYakQfjs5xekpvk0nb8DDNb8zw4xM/KNFZJ4W85HaHegtKs1fYjTFzbqIswew5vfkUmYeI\n",
       "rYT45gzzKL4V6EudlJqfBuq2kDiMjQz/5sWxh50BQZTUwcrwEhaYFZN3y0O9FXCdtCvT5x9csWZ9\n",
       "BojsT/IpQF/tpNTyQrxXnHeHJfIcKTdnaxS2IFYLNUJTEx+7cknpdlvhINkvcMPj+BP+20C1o1bW\n",
       "S8h5zcYMwCQKBlacyyseIu52UhoNET8vGj4sx2gWJIu3+hhYkIwnpNcdWWZZXW8FfLbSSSsgusj1\n",
       "1GszKsy1PNbTvPdqJyWlC9MSURFY4tsUHoN0kD6BSsbBHRJCi7recvhipZMXbkWPwJv7HM/YzCRP\n",
       "+ftjbddZ+oGXs5E2xLSPAYQroucoPfmFTZc9YsPMeQGyLriNBR698N9/ePLCIurPazZmgGK6dN3i\n",
       "WF9U5k+6ZEd1PTzCAVGVuCtLyiEiJB40S1I5kejBVllImlIIrfC3BR6ftMYHHFmGL9c8mvHCV8pj\n",
       "veZpj7oCuyaBwZpizKLZxb+EIMAVmiXD7JBadHJ79Y7R4LRGVPx0gedVXGC1hpVrHs3YcYGSY4Jz\n",
       "OcEknvQtitq4VSqHXbHwV24XCbg3jR51HC+A3iAcHz8BCK/9bXeRB84FXUc/YM0NCq5Zih1ardK5\n",
       "AfS2wQ+rkXzNE/u3BfEF54Kuo6spAJt0D5gFiqLJ3ui52xS0lzrxfEyFvHeFO115wmY6+kxwzqMK\n",
       "OBd0HV0lyMgNSc0w7ud5QP7Chf1v3lEU5HM7lzvomnrd1F7yPLPVnu+dkRkOOyK30I1GVqLcGe/2\n",
       "eXXqO3vPQT/irmfROgbC/CWcwi97e6/mRL/nB9CpM4eHekqxvb3H9fATn0Rzv/xYFZ5HRtLfK+XP\n",
       "Lo/OoY2PvmqLXl1V/N/glszgQ7kCdcP93h57GwqaTNb0vIxukjhV5Imq2MkQ8Jsbc9PzJrqhMga7\n",
       "zSTny8ShHkfeb5P0Cfo46+L8W1z/je8Z5XsS+Am60s+w2ADfLyo5rVCvQ7mt0Jrfmr+FPufZijXE\n",
       "vsbS/gNNzxvoc82RXE+sZ7VtaWFrer5//AUL5jxXRsVDVAAAAABJRU5ErkJggg==\n",
       "\" style=\"display:inline;vertical-align:middle;\" /></a><br>"
      ],
      "text/plain": [
       "<IPython.core.display.HTML object>"
      ]
     },
     "metadata": {},
     "output_type": "display_data"
    }
   ],
   "source": [
    "div_by_frac_is_mult_by_reciprocal = (\n",
    "        Forall((x, y, z),\n",
    "        Equals(frac(x, frac(y, z)), Mult(x, frac(z, y))),\n",
    "        domain=Complex,\n",
    "        conditions=[NotEquals(y, zero), NotEquals(z, zero)]))"
   ]
  },
  {
   "cell_type": "code",
   "execution_count": 30,
   "metadata": {},
   "outputs": [
    {
     "data": {
      "text/html": [
       "<strong id=\"div_as_mult\"><a class=\"ProveItLink\" href=\"proofs/div_as_mult/thm_proof.ipynb\">div_as_mult</a> (conjecture without proof):<br></strong> <a class=\"ProveItLink\" href=\"../__pv_it/theorems/4a94c3d03fbdfc3a8b944789783e21f660df71d40/theorem_expr.ipynb\"><img src=\"data:image/png;base64,iVBORw0KGgoAAAANSUhEUgAAAQsAAAAyCAMAAAB8iQ6xAAAAOVBMVEX///8AAAAAAAAAAAAAAAAA\n",
       "AAAAAAAAAAAAAAAAAAAAAAAAAAAAAAAAAAAAAAAAAAAAAAAAAAAAAAACXHtMAAAAEnRSTlMAq1Rm\n",
       "mUTNIjK7EInv3Xbt5cmRiLwgAAAACXBIWXMAAA7EAAAOxAGVKw4bAAAEaklEQVRo3s1biZajIBDk\n",
       "vu3d5f8/dsETYgRGR5E3kzd5kxYsuosqMAh1b1r17N1og17TMO3bvxpeAwa2vUdAhpdAQUX/MVj8\n",
       "Ciikky8YxUDfgMUAbxgFcS+gDOreUamC9R+DS4jTAGCjrCUdxsF991IFn+RmmBrAgFgXVhfd6XNI\n",
       "RkDDzNCATR+5QXxnxlA+UZzxT9ZtgTW+M4njT+Z09w/IHAga3VlwOfyFwUxjslJ+KhUBhoWd8sv1\n",
       "ZU/laWqR+JQnjZKcnF0FZ8Ut9WeRdNVbkE4F8cqwgAVvW1LNaWZZ3AeFcpI+7NVTujAMIEw2bVQX\n",
       "ml7FAn3Y00gYGxzk4Sxx+oKNue5KIU8E6wOJrBwknmUP488LX/YDo6/00mSGhcklBfUcqQUeqZ9N\n",
       "C3VhSff8el4gQXfDETM8TxsB4sl5GM0vYMH0Lk3pDM/Tmo/60/uccFoYSSu8nfMRctLxsUDcEJt7\n",
       "eq8NzqsbLGrW1gCLU2xw0Zxm2eVjmrBxfh7fDrb1RGdD0pLb0rpmbS0ibsy9VjsUUiICLPHycpLU\n",
       "i6vFcdj5op8d9rG1VWQCCJfWA5kz8DAsKWGbmRk0wyCTNaDU33RZa2FfgTibM5+0utdn362t8WKd\n",
       "gdHnFc2e+cBipA8CdeZUgHWwDME34DAbRNsmLKZsi3KX6zIWZ3de8rsdWEYGqkjPMv/vhEUAglbW\n",
       "esbmOGvGT9I2LPBIjy7G7piSneeLDYtDazvmC7jyyiz3NRKkxSIyAJgMP3NHo0yNv0BX+6+mxJJf\n",
       "sdgiprd2wj9e3JEdd55fR3TV2mq8vLSuI07M8n4OAhn7EWRel1D4tHKx11WpSLK7A52sZEsEG0Xv\n",
       "n/BLZ2W0O4OAC/rCVa0tw/Fmiw7rYxN+wQDPwwqxGtD8Rpqo0SDcKl+vSQ01x1hsEdOQaaISdzR2\n",
       "QWtNM1q0tgZbYOXMY3nWfLFHaXw86wzrN6JiMjcEKcXVMRZbxJTDC0fFke8UN7lgKlxTqC0vCLkf\n",
       "MX5XajHBVzQGPhGf2j42c2eqG1IslohYI3//6bFGDrhTXdhJqvrUCINxpOyTTckqSjdeJCSLGTsb\n",
       "VEjHXJRKOzKrPdAXawTaDHAg5JDWexq74NlVbf8ink1WTvApLltFBtwCxJV5xDQUoxaTn18rw9hQ\n",
       "MEwd1MgakYn6oLXYft0bLrhBXPG4hAKr1NEgm+1R6MzIdTPN2Jjv36+eYJFEkOruBL5wmGouu+pP\n",
       "RVWQftyMJMgb+kywSCLqgTQr2BZnmU7VRVu927kq7DjGcXEKLT2mWmuNIHWmV1mFtjjLbID8Ehaf\n",
       "NSt/5+DstHxMt+GbnOWtO0t9T9qZy7x93Vne2HDnM0Seqa0GZ3lj6322nFjsNmd5Z4n0fkopG0GD\n",
       "s7xxVvo/ypduODc4yxurtf/jhGliNDjL25p+wxOewv7EWd6XFm94DFqtz7o2OMv72IKgN7R146fB\n",
       "Wd7VXvIM9Hb/Dc7yrgoR6C1NdE5QJV70BZLO36XZoPgPoHskYxhr0Z4AAAAASUVORK5CYII=\n",
       "\" style=\"display:inline;vertical-align:middle;\" /></a><br>"
      ],
      "text/plain": [
       "<IPython.core.display.HTML object>"
      ]
     },
     "metadata": {},
     "output_type": "display_data"
    }
   ],
   "source": [
    "div_as_mult = Forall((x, y), Equals(frac(x, y), Mult(x, Exp(y, Neg(one)))),\n",
    "                     domain=Complex, condition=NotEquals(y, zero))"
   ]
  },
  {
   "cell_type": "markdown",
   "metadata": {},
   "source": [
    "### Equals and not equals"
   ]
  },
  {
   "cell_type": "code",
   "execution_count": 31,
   "metadata": {},
   "outputs": [
    {
     "data": {
      "text/html": [
       "<strong id=\"div_eq_nat\"><a class=\"ProveItLink\" href=\"proofs/div_eq_nat/thm_proof.ipynb\">div_eq_nat</a> (conjecture without proof):<br></strong> <a class=\"ProveItLink\" href=\"../__pv_it/theorems/4c3da9fb5fb6385e62e86f5982a848b8af4e398f0/theorem_expr.ipynb\"><img src=\"data:image/png;base64,iVBORw0KGgoAAAANSUhEUgAAAPgAAAAmCAMAAADeO6ZmAAAAOVBMVEX///8AAAAAAAAAAAAAAAAA\n",
       "AAAAAAAAAAAAAAAAAAAAAAAAAAAAAAAAAAAAAAAAAAAAAAAAAAAAAAACXHtMAAAAEnRSTlMAq1Rm\n",
       "mUTNIjK7EInv3Xbt5cmRiLwgAAAACXBIWXMAAA7EAAAOxAGVKw4bAAAD2UlEQVRo3tVZiXLjIAzl\n",
       "NLd21///sYswGEycmDTuTGDadJgiwUNPFyFksiHYR+J2sWTKIWgGAECtdm7kGiwIjn+SqA5TIudL\n",
       "uQBCgAIRYUDIEeZRdt1U0Alxa5/NxRUCsYTyASG23Q8129yw+YAvroBBoy+Dbk2IB5I/cO6nIztb\n",
       "2yMXINdDopxedRcn5hnBHdBEutsh4yVugC9ThZJTefhucGskoT7FrZFhaPnIczcX8BKdkPPaighc\n",
       "jsUp5LZcaxzkfi7g9ehWABAm+GB8ttSBaPit1ihYCcD4tzP9E9d0bQ4IsQwQcs8VX+7yuQD5GWbr\n",
       "WRftdDG5Mt/u4ssPBUPMe/QQzwDvsFTt7tsLGv/T9Ms4VF6X4BgZlF17+XLcZHU3hgu0sg84/Nfn\n",
       "tvW+4GuTLpFKOXNPASs+PtOzf6Qc9HLr0IwLt1ix3FW0fLw5VBBOYjnQyH4aIV1yRufAndPzVrdB\n",
       "Yzv5josANbFoJIwSF2WFvQ34dv882kOah06jHnFtxjXIk7VrYiaD90KbEHoPl8jt1jgfAqeplvCo\n",
       "vy9X7rW4yAGdl17VcXD7jgBCxZ9844DWiL+wBxmmmVTwFPhBfDdcUXO2oXSbNyOFPHsT+Ns+jik8\n",
       "J3MbVFMZgsK+YGH54YrE82gfO6OaDnWkOpNPgO/iwpTBqxpy3HBb8yet2bqwwPvgdmNJnXWpEp6E\n",
       "IPVQJP7TAMm0VpaFCMYQyVvgkepgzoEfxPfjFzVnG2YubcD7dwa7wm249wxB8/G8xDe89mYaomLV\n",
       "R4HwZbMe24Bbd4gPRx8/ayuympMNC5c2qj8w24vbgOtVdpcaD2p4fdZAY+xnDzKFHe0OFo89MTwD\n",
       "nsVbqu9qug1xzd9/ec1pcCPLfc3E8Q0LLxU9TnKLdowOkPoakayKJ9YxpRxKHZ7u7UCRergq3rUM\n",
       "WU1Sum9ImnYpRsV4nw/hSdz3fOD6V2kZe3twHG0ViSZAOgCbZ9j4myW1cdleOmyd7DnwKt7ddlaT\n",
       "lO4bHmvHWMAI+9iW3vY6al4EfdbPbGLlloKQkucVzyUdq5p+i6vYZe9L5C8ShLT9LAYkeV3mXAKv\n",
       "ao5bDJRQ5q7oJl+85fCHmeQw0MBdAq9qjluw65r5+EaoqAM1mOG6te4XWvDffL6ybRKSHn1mzO37\n",
       "tX62L5EaS1mfOuowdGHdWpjsdZnU/B9hpE4rDL2e9Gv9fN8a7t8SE2967r+4ruNaWMh8Y+Ft4T72\n",
       "4NytVV5NCBy7uZrT6UKYGgDerrVhwq/H0V65gY59H2FBDL3xHdYaTuYcaotvloLTioIeoUmz1hZP\n",
       "/w/OWCIu7f/LQAAAAABJRU5ErkJggg==\n",
       "\" style=\"display:inline;vertical-align:middle;\" /></a><br>"
      ],
      "text/plain": [
       "<IPython.core.display.HTML object>"
      ]
     },
     "metadata": {},
     "output_type": "display_data"
    }
   ],
   "source": [
    "div_eq_nat = Forall((a, x, y), Equals(frac(x, a), frac(y, a)), \n",
    "                    conditions=[Equals(x, y), NotEquals(a, zero)], domain=Natural)"
   ]
  },
  {
   "cell_type": "code",
   "execution_count": 32,
   "metadata": {},
   "outputs": [
    {
     "data": {
      "text/html": [
       "<strong id=\"div_eq_int\"><a class=\"ProveItLink\" href=\"proofs/div_eq_int/thm_proof.ipynb\">div_eq_int</a> (conjecture without proof):<br></strong> <a class=\"ProveItLink\" href=\"../__pv_it/theorems/2255fc1d8e97b85e633f44e6b62dced0fb7fd3810/theorem_expr.ipynb\"><img src=\"data:image/png;base64,iVBORw0KGgoAAAANSUhEUgAAAPgAAAAmCAMAAADeO6ZmAAAAOVBMVEX///8AAAAAAAAAAAAAAAAA\n",
       "AAAAAAAAAAAAAAAAAAAAAAAAAAAAAAAAAAAAAAAAAAAAAAAAAAAAAAACXHtMAAAAEnRSTlMAq1Rm\n",
       "mUTNIjK7EInv3Xbt5cmRiLwgAAAACXBIWXMAAA7EAAAOxAGVKw4bAAAD3ElEQVRo3tVZi3LjKgzl\n",
       "ad66d/3/H7sIYwzYjUnjnQlMm45TSXDQWyZksiXYR+x2sWTKJWgGAECtdm7gGiwIjn82Th2mRM6X\n",
       "/QIIAQpEhHseR5hH1jWLoBPi1j6riytEYgnl9zxsux5q8heGzQd8cTsaVPoy5tWEeCD5I33hpzN2\n",
       "ttZHLkjulkQ2veo+TsyzgmvgRHO3I8pLpgG+PCvknMrDi8KtkYT6FLgGlqH7x/6Fmwt4CU/R5rUV\n",
       "EbgcilNo2nKtwiD3cwE/zm4FAGGCj8VnSx2I2rzVGhkPC2D82y39A9d0TQoIsQwQsuSKL3f5vQL5\n",
       "DWbrWR/u9K5yZb7dxZff8YWY9mgbzgDvcK/a3bcXNP6X6ZdxOMy6BMdoQdm1ly/HTVb3YLhALfuA\n",
       "y399blufC742yRKpljPPFLDi4zP99I+Ug15uHap14xYrlruK7h/vxxtvnIg/VVH0IW6XvNE5cNfm\n",
       "+ajboLKdfMtHgJpYNZIQM6CzYB8Dvt0/j/qQ5tRqHEdcq3WL8Yp0Tbpi8GZoEyJ3OhzbXVX73ofA\n",
       "aaolPIrvy5VnNS5yQOe5xbOOgys7AggVf/KNA2oDf4E3Tt24dQ28YS+KK2IuNpRu82Y0Ic/eBP62\n",
       "j2MKz8ncRts9KkNQ2BcsLE+uSDyP9tga1eWUYvoH4IVdmH3xSky74UbzX6LZurDA++D2YEmdZam9\n",
       "NhCCHIdCQzZAMi5lWYhgIjBZHSDiaKNQBbxhL8cvYi42zKa0Ae/nDHaFx3CXDEHz8bzEGV59M5Wh\n",
       "YtlHAQd+m/pY6oedbcYBrY9ftRW7mPOGuyltpn6ybC8eA65X2V1qPKjhBw5URjl7kFvY0YeOJdOo\n",
       "JPcD8Mxem/ohpt0Qaf7/k2kugxtZnmsm2hkWXip6nOQ2xhx0gNTYCJKe4ol1TCltreNSZJPhytQP\n",
       "9q5nyGKS0LIhqdqlGBWj0FN4Es+ND1w/lZaxtweHSQpjqgDpAJN0esLG3yxbH7dnM0opOLPQSx8v\n",
       "7N1tZzFJaNmwrR1jASPsuS19bDpqXgR91j/ZZJU5B6FNXpY8t+ZYiem2uItd9rlE/iJBSNs/xYAk\n",
       "78ucW+CHmHaLgRLKPBXd5ItZDj89SQ4DDdwt8ENMuwW7r5mbGaGiDtRggutp3T9owf/l+MpWSUh6\n",
       "dJkxrz/R+tleIh2asj411GHovnpamGy6TI78T0TKq2FoeHKi9fO9NSxvib3pTP/VbXW0sJD51sKr\n",
       "un1s3tzTKq8mBI7dXEnpdCFMDQBvaG2Y8PU46mtroGPbR1gQQyO+ltZwMudSKb7ZWCprRUGPWElN\n",
       "a3dX/wsBgSIoQZ/eYQAAAABJRU5ErkJggg==\n",
       "\" style=\"display:inline;vertical-align:middle;\" /></a><br>"
      ],
      "text/plain": [
       "<IPython.core.display.HTML object>"
      ]
     },
     "metadata": {},
     "output_type": "display_data"
    }
   ],
   "source": [
    "div_eq_int = Forall((a, x, y), Equals(frac(x, a), frac(y, a)), \n",
    "                    conditions=[Equals(x, y), NotEquals(a, zero)], domain=Integer)"
   ]
  },
  {
   "cell_type": "code",
   "execution_count": 33,
   "metadata": {},
   "outputs": [
    {
     "data": {
      "text/html": [
       "<strong id=\"div_eq_rational\"><a class=\"ProveItLink\" href=\"proofs/div_eq_rational/thm_proof.ipynb\">div_eq_rational</a> (conjecture without proof):<br></strong> <a class=\"ProveItLink\" href=\"../__pv_it/theorems/0fc61531b05a1f56fef3f7ee981471bfcd4330610/theorem_expr.ipynb\"><img src=\"data:image/png;base64,iVBORw0KGgoAAAANSUhEUgAAAPoAAAAmCAMAAADaznZbAAAAOVBMVEX///8AAAAAAAAAAAAAAAAA\n",
       "AAAAAAAAAAAAAAAAAAAAAAAAAAAAAAAAAAAAAAAAAAAAAAAAAAAAAAACXHtMAAAAEnRSTlMAq1Rm\n",
       "mUTNIjK7EInv3Xbt5cmRiLwgAAAACXBIWXMAAA7EAAAOxAGVKw4bAAAD4ElEQVRo3tVZiZLjKAzl\n",
       "NLd2x///sYMwYLDdMel4qgI1ky4nkuChWyZkuiXYR+x2sWTSJWiGAECtdm7gIiwIjn82Th0mxc6X\n",
       "cgWEAAUiwj2PI8wj65pF0CmRa59VxhVisYTyex62XRA1+QvDZoS+uIIHFb+MeTchHkj+SF/4CU2e\n",
       "re2hK5a7JZFNr/oYL2ZawXWAotHbEQUm8wBfnxVyTubpVenWSEJ9CmEDy9DyUb5ws0GvgSpavrYi\n",
       "QpdDEQsNXK5NQOR+Nuj76a0AIEzwsVhtqQPRGrlaI+NuBYx/v71/4KKuSwchlgVC1rzx9a5fapLf\n",
       "oLaeHQOfLmpX5vtdffkdX4hJkPaBDfAWSzXvvr/E8b9Mx4zDbtw1TEYryi6+fD1ysroHwwZq2gdc\n",
       "foJMtz4XiG2SJVJ9Zx4qa8XHh/rxl5SRXu4dmnXjHCsWwYqWj1+c0xlBaZsaPg2WLjmlc+B+MNJH\n",
       "nQcV7uRbngLUxEqSKIcCXFtYfAh9UwGPKpHm3ITsh1ybdYvyinRN5sngzSAnRO6BnELQlnP1FPTN\n",
       "gjzKP9Uvz2pd5ODOoRgwB1e3BBAq/st3DqgQ/A8l2mjN0o9A4BJ6x191V+Vc7Cjd5tTo8J69C/1t\n",
       "X8eUnpO7DaqpFkFhv7Bs+1kg8UDaY9NUqyu7XcIP0Cu/MGXxRk6/40bzX6LZGrTAT2HuwVI7y1Kl\n",
       "VhCC7Kci8UcDJNu2sixENBGZrAcokKFpHRvoHX89f5VzsWO2pw36aRBhV3gMec0WNJ/PS5z1tXfT\n",
       "WCuWghRwMLhpkBF5Y/AX/trIOe9Y7Gkz+LN5e/EYdL3Kw7XGkxq+Dz5QH/XwQW7xR+8qvgtzmb81\n",
       "+F1OvyPS/P8n01yHObI812b0ky68VnQ8yW0MPugGqeURJD3FI+uYXvrqRyeFubbd3U+38x+aiSwn\n",
       "Sa07kqaTivEx+tU5TonnBgzuOMOWsfcHx1FdUZ0CpAOw+QkHA2bZejy9x+cgFqqvS5rKf7jwLCdJ\n",
       "rTv2BWUsaYS9aFofm6SaFwmAHZ9sMs1Sw5lU0iSb113cvbXJRs5hj9sgZp9L7C+ShbTHpxiZ5FXh\n",
       "IxiP6h2Hvsvp9xipqsxTcU6+mPfw05Pk4H6oarl+Q+u7nH4PNlBKd9NERR2owXR3pHX/okX/p1Mu\n",
       "26Qk6dFzxrz/ROvne/W0a8v61HCHoRs70sJ0s2iyFwREpDwbhgYsJ1o/4/vG+o7Zm4MDvLqvAy0s\n",
       "ZMa18KaeH5tOH2mVV1NCx1avpni6EKYGoHe0Nkz5eh11tjXYsSckLIihWWBPaziZdakU6SwFpxUF\n",
       "PWIpLa0tLv8Xyp4i2SlQiTEAAAAASUVORK5CYII=\n",
       "\" style=\"display:inline;vertical-align:middle;\" /></a><br>"
      ],
      "text/plain": [
       "<IPython.core.display.HTML object>"
      ]
     },
     "metadata": {},
     "output_type": "display_data"
    }
   ],
   "source": [
    "div_eq_rational = Forall((a, x, y), Equals(frac(x, a), frac(y, a)), \n",
    "                         conditions=[Equals(x, y), NotEquals(a, zero)], domain=Rational)"
   ]
  },
  {
   "cell_type": "code",
   "execution_count": 34,
   "metadata": {},
   "outputs": [
    {
     "data": {
      "text/html": [
       "<strong id=\"div_eq_real\"><a class=\"ProveItLink\" href=\"proofs/div_eq_real/thm_proof.ipynb\">div_eq_real</a> (conjecture without proof):<br></strong> <a class=\"ProveItLink\" href=\"../__pv_it/theorems/f2a4d4af6083b13cf8dc0e9c1764a0ede3be5a820/theorem_expr.ipynb\"><img src=\"data:image/png;base64,iVBORw0KGgoAAAANSUhEUgAAAPgAAAAmCAMAAADeO6ZmAAAAOVBMVEX///8AAAAAAAAAAAAAAAAA\n",
       "AAAAAAAAAAAAAAAAAAAAAAAAAAAAAAAAAAAAAAAAAAAAAAAAAAAAAAACXHtMAAAAEnRSTlMAq1Rm\n",
       "mUTNIjK7EInv3Xbt5cmRiLwgAAAACXBIWXMAAA7EAAAOxAGVKw4bAAAD2klEQVRo3tVZiZLbIAwV\n",
       "t7nU1v//sQUMNhAnJhvvTKDb7DArCR66FYDJFqcfsRtpYMrFSQaASMxi7cgzGOQs/kqsi58SOZPl\n",
       "AQCQIHA/wGSBusi7biLIhLgXl9XFVARigLABJrq9D9HbXtP5gEtbwESly0G3BnAI+SPu3XTGTtf6\n",
       "ygXI9RKRb1mXLk7Ms7xt0ARzN0PKS7aBrmxV5JzKw3eFGy2AuBS3RpYm5SPv7VzAS3SKNr8YHoCL\n",
       "sTgVbVusRxxkbi7gx9UNRwTK2WB8NsQir+xbrYHxMADKvt3SP3FNW+cAH8oALvZc8eUunwuQn2E2\n",
       "jnbRbikqV/rbXVz+kNGHvEeaeIbxDUvVbr+9oHE/Tb+U4WHXJTgGC8quLb8cN6z2xnARtex8XO7r\n",
       "c9t6X/A1SRZPpZy+p4DlH9/p2R9SDnp5tK/WhVussdxVpHy86zveSk5kUzJ/GiFtckZr0Z6b561u\n",
       "E5VtxTsugkSHohEwloxW2fuAb+/PwlsK/dBpHFdcq3UN8oR2TZZJ8b3QxnnuczD8A2bwPuAk1RIu\n",
       "yu/LlXs1znNAZ6VXtQztfiIiV+EnvzhGbYT/uAeZBBwNfwK8Yd8VV8ScHSjs5s3R0R19E/jbPh5T\n",
       "eE7mxquqMkQV+wJJ8+AKwn0WFzqjA1kwdaWRnQPf2bkuix1ioD1wo/mTaLYuzLM+uN1YUmdZqtQG\n",
       "nMNxKQh/1AjZrJWhPoDRIFgFnGvbGne1a9j36xcxZwfmJ9yA93MGs+JtuPcMQfL1XIxYtZXUjhar\n",
       "PoLA5KY9upm6bVvD9hnO2oos5uTAYkubqT9YtuO3AV9W0T1quKhmx1gjKmO/uxcp7CwWah8Xwppn\n",
       "wDN7beq7mO7ASPP3X6Y5DW4g72sm2hlWfNTocYKZEHOiA6S+hkPahRsvIaU0pc6Wzp4Et4O9axmy\n",
       "mCR0PxCqdilExRDnHsITv298YPuptAi9PVoWdRUMjaOwiCbvYuOvZWrjsr6ERGnB8HrcWWllZ+9e\n",
       "O4tJQvcD29oxFDDcPLalt01H9YugT/udSVa5paBokucVz6U5HmL6I65il7kvkb9IEML0uxCQxHWZ\n",
       "cwn8ENMeMVBC6buim3gxy2EPO8FwoIG7BH6IaY+g1zVzOyNUxKIazHAdrf2FFvw3x1emTkLCRZ8Z\n",
       "c/ue1s32JVKlKeNSR+2HHqyjxcmmy3Dk/wAjdVp+aHrS07r5vjXcvyUGp3vbf/FcLS1KmG9JVhfu\n",
       "YwPnjlY5NSHw2M0dOZ1IoGoAeE1r/IRfj0d95QY69H1APR+a8TW0msGcS23xzRC0iyK4jJhJRWuK\n",
       "p/8H4lAizdrO6dMAAAAASUVORK5CYII=\n",
       "\" style=\"display:inline;vertical-align:middle;\" /></a><br>"
      ],
      "text/plain": [
       "<IPython.core.display.HTML object>"
      ]
     },
     "metadata": {},
     "output_type": "display_data"
    }
   ],
   "source": [
    "div_eq_real = Forall((a, x, y), Equals(frac(x, a), frac(y, a)), \n",
    "                     conditions=[Equals(x, y), NotEquals(a, zero)], domain=Real)"
   ]
  },
  {
   "cell_type": "code",
   "execution_count": 35,
   "metadata": {},
   "outputs": [
    {
     "data": {
      "text/html": [
       "<strong id=\"div_eq\"><a class=\"ProveItLink\" href=\"proofs/div_eq/thm_proof.ipynb\">div_eq</a> (conjecture without proof):<br></strong> <a class=\"ProveItLink\" href=\"../__pv_it/theorems/f35b14d6d2722cb2f5f5c81f4b8350d2febd573f0/theorem_expr.ipynb\"><img src=\"data:image/png;base64,iVBORw0KGgoAAAANSUhEUgAAAPgAAAAmCAMAAADeO6ZmAAAAOVBMVEX///82NjYbGxsSEhKIiIgi\n",
       "IiIQEBB2dnbu7u5ERETMzMzc3NwyMjK6urpmZmaYmJiqqqpUVFQAAAAnLjGdAAAAAXRSTlMAQObY\n",
       "ZgAAAAlwSFlzAAAOxAAADsQBlSsOGwAAA9pJREFUaN7VWYmS2yAMpa3MaS7//8cWYTBHXJts3JnA\n",
       "7GaHWSR4SHqSCCGTDeM+EucrJ1MO4xMAAM8lYyPXwMFY/BNF5TIlcrvmCyAEPBCzDAgx4ijKbrsK\n",
       "PyFuSZO5rEIgnHg7IOT2+/Finws3H/CVZTBo9HUwrAmhQNIHzul0zu62+sgZyP3QKCc32fHEPGNh\n",
       "DZrg7nzIeNE3gOapQsmpIvwwOBeaeBp5a2QInz/SnM0FPLMT+rzkJgDXYzyFvq23woOWzgW8HJ0b\n",
       "AOKMHeRn7hmYyr/VFgSLAzj77Z7+SWiyOgcsoQww+sgVXx7yqQD5GWZOXcd2MptciW8P8fWHgkvI\n",
       "e77hM8A7zFU7+/aChv40/ToLxa8zOQYPSqG9fjlusrEH6QKtTBcc9Otz2/Yc+fKoy8RSTjxTwJqP\n",
       "z/Svf8QcdLn1Uo2bsNiw3FU+f7w/QBgPqiqaP2VIFoORMWDn7vlo2KCxmX4nRMCLUDSGytGHFOjq\n",
       "CvBD4Pv923CTWrx0GuWIWzXuQZ6s3aJnOniP2oxJfQ7j0db2OeA+1hIU9fflyrMWN4nQbe5VmQV2\n",
       "7AhgVPhJNw5ojfALmWS4lbsR1DnwRvwwXFZztqFmezRjoFP3JvC3YxxTeErmfFFVZQgK+4LVpYcr\n",
       "Es4jafDvIxsq91LsVcAPcSPysEUNaTfc1/yJa/YubLE9uT1YUiddKtcGxpByKBL+KYAkt1bcLUhm\n",
       "RB/7W275BfBG/Dh+VnO2YfKlHXj/zsA3eAz3kSF8Oh7V+IZX30xlUqz6PBC77tZzREotL4CfxGml\n",
       "5mTD7Eu7q794NjWPAZeb7i41HFTY8qyBxjjOvuhIO7JQWSK3Ovc2wJN47eqHmm5DXPP7V1pzSm5k\n",
       "fa6ZaN+w8FIx4nRwYM4wAGJfY0ichRPLkFKaUkexSF3sNI8X8a5lSGqi0mNDUrVLgRUDz73Qk3nu\n",
       "+YD1r9I69PbALNoqOJoBzQB4mmHjL9bYxsnCycHvjTx39UO8u+2kJio9Nmxrx1DAGP7alj72Oiou\n",
       "SN/1Mx69coeLLnle8dy6Y1HTb3HHXfy5RH6RIDTvZ4GQ9H2Zcwu8qGm3GCihxFPspi/ecuzLTFsY\n",
       "aOBugRc17RbuvmZu3wiVZ02XcF0JN2vZf2jB/+fzFa+TkKYYM2Nh36+ls32JVFmK09hRL0MX1q2F\n",
       "yV6XScn/AUbstJah15N+LZ3vW8PjW2JCRe/7F9fVroWVzDdWWxfuYw/O3VpF1YTAsZsrOd2vxKkB\n",
       "4PVavkz49TjaKzXQoe8jbjFDb3zNWmHJnEPt/MY9MKk8yBE3qdbyHOl/AdbUKlYkxyFRAAAAAElF\n",
       "TkSuQmCC\n",
       "\" style=\"display:inline;vertical-align:middle;\" /></a><br>"
      ],
      "text/plain": [
       "<IPython.core.display.HTML object>"
      ]
     },
     "metadata": {},
     "output_type": "display_data"
    }
   ],
   "source": [
    "div_eq = Forall((a, x, y), Equals(frac(x, a), frac(y, a)), \n",
    "                conditions=[Equals(x, y), NotEquals(a, zero)], domain=Complex)"
   ]
  },
  {
   "cell_type": "code",
   "execution_count": 36,
   "metadata": {},
   "outputs": [
    {
     "data": {
      "text/html": [
       "<strong id=\"div_neq_nat\"><a class=\"ProveItLink\" href=\"proofs/div_neq_nat/thm_proof.ipynb\">div_neq_nat</a> (conjecture without proof):<br></strong> <a class=\"ProveItLink\" href=\"../__pv_it/theorems/626d1680d53792e6f831cd8d50c5249fd93ef5000/theorem_expr.ipynb\"><img src=\"data:image/png;base64,iVBORw0KGgoAAAANSUhEUgAAAPgAAAAmCAMAAADeO6ZmAAAARVBMVEX///8AAAAAAAAAAAAAAAAA\n",
       "AAAAAAAAAAAAAAAAAAAAAAAAAAAAAAAAAAAAAAAAAAAAAAAAAAAAAAAAAAAAAAAAAAAAAAAeYafp\n",
       "AAAAFnRSTlMAq1RmmUTNIjK7EInv3Xbt5cnn9enzas/lfgAAAAlwSFlzAAAOxAAADsQBlSsOGwAA\n",
       "BBtJREFUaN7VWYmS3CgM5TS3kuxu/P+fGoTBHO3u1tROqtrUjKdcIwEPPV2YsZsNJf6Xut88u+VQ\n",
       "vAIA4N6GQDkGD0rin6Jq0y2Ry60dAGPAgalEUApMRNTdjyn4DXHbWM0lDQLxjEuCkjjOh7vj3Yn7\n",
       "Ad9CA4NG34huzVgEVh/4Hm9HdrGPW25A3g+Nena3S5y4z0hhQpPp7knGK9yA2F4Nat7Kw0+De6cZ\n",
       "jyVuUYbj7VHfw72At+iEnLdeZeCaFqeQ23rvcVDGewHvW/cKgAkln+FWswd4HkAN/DZ7VuwEEPLT\n",
       "mU51TesukvmYA1IuA5Q+c8WHu3wtQCg+bR8w+yiWaGebyY37dBffqAZf0lXKeY9P8QzwDFvVHj69\n",
       "oInU9OsW6goJndctOGYGVdfePhw324lJSHNCuEArx4Qjfnxu24nBlxCrfJlLlVDgvqeAVW+qZkpl\n",
       "fT1KDnq5dDFg+udffL6x+o7lruHt8cVhkgoay4FB91WEDJrQQhaZECBc0/NbDN7cBo1N2VTfA3CX\n",
       "i0YmOAt+LhdeAKec7SEjsz20e+g0+hb3YaxiD5y7kt2LlICvhTal7BkukdujcV4A5wRTHDIR51/L\n",
       "FaLFadXIATyjlq1XDRLCqQqgTP6pRwlojfwLZ5ARVmgDT4FP6kyHeZqrBQ8ZU5qRKL4IvPj4f78P\n",
       "T6f4OKbwmsx9MkNlCAb7gk3UiyuW92Nj7ox6OrSZ6kI/AX6qK4fjR/6VfRo2LzjKHF1Ykmtwo0R1\n",
       "4l1incu08KQU65ti+Z8OWKW18SJlMI5pOQLPVAd3DXxSbzw5p7lasMocwNd7Br8TLh6EooXlxh5e\n",
       "txc13uGNJzN4DFZ9HJjcinHw5gqB+zDFh9nHu3rnSZ3mYsEmc1D9gdlRfZvB7a6XQ80bdbJfa6Ax\n",
       "zr0nXcKODZPFc08Mz4BXdaTxz1+u0PicZllwkrkMbmx730wIYhU232HhoaLHaenRjtkBSl+jilVx\n",
       "xzanlKnUkeXcJor0zXX1uW9o05RJzwUnGYCrwlPF7zI4C+khCUoBQaKtMtEU6ADg6xs2/m4rbVy1\n",
       "l01H7rgG3tXnurBNUyY9F5xlcgGj/GNb+g6WpJbd7kXQF+ubL6w8UhBS8rriuabj4A19mnWJd7HL\n",
       "v03k5I8kLxKE9utbDkj6fZlzDXzQ69PMSxBKKPcuulkibv3iLkc+vGkJBCZdAhcDO/o08qnMsz3F\n",
       "uboNYIhX64ts+Ast+N+8vvJjEtIRfWYnkXuVjXf7iDRYysfSUSfSgS2ycLPbZdbzf4ZROq1ECuOr\n",
       "bLzfV8PzKzGLbuX+i+OaZWFj9xubHAt32oXzImuiuSFw7OZ6TucbE5QLtlHWpxt+Hkd71ao0931M\n",
       "JMUo3dgk6yS75zBHfPMcgjUcKDXLKOubp/8BIjglYxmYKXcAAAAASUVORK5CYII=\n",
       "\" style=\"display:inline;vertical-align:middle;\" /></a><br>"
      ],
      "text/plain": [
       "<IPython.core.display.HTML object>"
      ]
     },
     "metadata": {},
     "output_type": "display_data"
    }
   ],
   "source": [
    "div_neq_nat = Forall((a, x, y), NotEquals(frac(x, a), frac(y, a)), \n",
    "                     conditions=[NotEquals(x, y), NotEquals(a, zero)], domain=Natural)"
   ]
  },
  {
   "cell_type": "code",
   "execution_count": 37,
   "metadata": {},
   "outputs": [
    {
     "data": {
      "text/html": [
       "<strong id=\"div_neq_int\"><a class=\"ProveItLink\" href=\"proofs/div_neq_int/thm_proof.ipynb\">div_neq_int</a> (conjecture without proof):<br></strong> <a class=\"ProveItLink\" href=\"../__pv_it/theorems/0f0ffe35cf5c558cade2f3cbf3c4642c520ff5900/theorem_expr.ipynb\"><img src=\"data:image/png;base64,iVBORw0KGgoAAAANSUhEUgAAAPgAAAAmCAMAAADeO6ZmAAAARVBMVEX///8AAAAAAAAAAAAAAAAA\n",
       "AAAAAAAAAAAAAAAAAAAAAAAAAAAAAAAAAAAAAAAAAAAAAAAAAAAAAAAAAAAAAAAAAAAAAAAeYafp\n",
       "AAAAFnRSTlMAq1RmmUTNIjK7EInv3Xbt5cnn9enzas/lfgAAAAlwSFlzAAAOxAAADsQBlSsOGwAA\n",
       "BB1JREFUaN7VWYmO2zgM1WndbLu79f9/akX50GEn5mCnQCRkMnBAUnriTTM22VLif7H7xbMpl+I7\n",
       "AADubQiEa/CgJP7bOG2aErlcjgtgDDgwlZ55AhMRWdddBJ8Qt427uqRBJJ5x+cwjtuvhbv/BifmA\n",
       "L+FAg0pfaF7NWAS2f5Uf4nTGLtb2yCeSp6WRza52jBPzrBQ6ONncPUV5xTQgns8GOafy8FPh3mnG\n",
       "YwlchOX48XX8EOYCfoanbPPWqwxck+IUmrZemzAo41zA69m9AmBCyVe4VecBngdQrXmbNTNWCxDy\n",
       "0y2d6prWXZN5lwJSLgOUPnPFh7v8UYEQnNqOmH0UY7izh8qN+3QXX6gK79NVymmP9+EM8A6Pqj18\n",
       "ekETqenX9aYrJFSzPoNjtqDdtZcPx81WYhLSnBAuUMsx4Yofn9tWYvAlxCpfZKkSCtz3FLDqoWym\n",
       "lNb3q+Sgt1sXBaZ//sXvB62vWO4afnx9Pd5EF1T+NP71rj/UhB6y0IQA4d48v0Xhh9ugsimHag4B\n",
       "3OWqkaW8SfDgScApd7vRyKwP7S6tRj3i2qyRbLS5W9K1UAn4YmhTak+UEttd0/reG+CcoIqNJqL4\n",
       "sVwhapxWjWzAM2q5t3g+SAgnK4Ay+bNfJaA28A9k59TdFbfAO3amwyDmZsONxpRmJIovAi8+/t/v\n",
       "zdMpPo4pfE/mPtturQzBYF+wiH1yxfJ5bMTWqC2njLAvgJ/syuH6kf9kI6bfsKXZurAkx+BGierE\n",
       "WeIuyxy1gVKsHgoN2QHbcRkvUgaTgenmABlHH4Ua4B37YSZVzM2GO80GfJwz+JUweBCKhPvMEHw/\n",
       "XtQ4w2tvpvEYLPs44MCvaKeMrkKObd04oPfxyl7N5BBz3fCg2Uz9YtlRfZvC7aqHS80HdbLiQGWc\n",
       "Z096Czu26lgLi0oKL4Dv7GjGP3+5YsZVTL9hR3Mb3Njy3EwIYhXWz7DwUtHjtPQ55qADlMZGsfKU\n",
       "T2xzSulrnVAim053pl7Z+77hEFOEnht2NAB3haeK36VwFtIlCUoBAZMUxlQFOgAm6fKEjb9btj7u\n",
       "yGaccwhu4bc+frL3deEhpgg9N+xpcgGj/LUtfYIlqWW3exP0xfjki1XuOQht8rbkuTdHUeNSI0a8\n",
       "onlVYD8lcvJLkjcJQvvxKQck/Vzm3ANv+KqYfgtCCeWeopsl4tZvZjny8qQlECzpFrhojKOKkS9p\n",
       "Xp0pdsVtAEOcrI+04S+04H9zfOWbJKQjusxKsu0LbZztJVLVlI+loU6k+xppYbLpMqv5n6mSVxMp\n",
       "il9o43xvDc+3xNENpv/utgZaWNh8a5FN3U6bN4+0JpoJgWM3d6Z0vjBBma91tD5N+Hoc9bVVpbnt\n",
       "YyIpRmnGelon2ZzLlPjmc6lsDQdKydLR+sPV/wBVwiVdjUeMrgAAAABJRU5ErkJggg==\n",
       "\" style=\"display:inline;vertical-align:middle;\" /></a><br>"
      ],
      "text/plain": [
       "<IPython.core.display.HTML object>"
      ]
     },
     "metadata": {},
     "output_type": "display_data"
    }
   ],
   "source": [
    "div_neq_int = Forall((a, x, y), NotEquals(frac(x, a), frac(y, a)), \n",
    "                     conditions=[NotEquals(x, y), NotEquals(a, zero)], domain=Integer)"
   ]
  },
  {
   "cell_type": "code",
   "execution_count": 38,
   "metadata": {},
   "outputs": [
    {
     "data": {
      "text/html": [
       "<strong id=\"div_neq_rational\"><a class=\"ProveItLink\" href=\"proofs/div_neq_rational/thm_proof.ipynb\">div_neq_rational</a> (conjecture without proof):<br></strong> <a class=\"ProveItLink\" href=\"../__pv_it/theorems/cd13ebc6b61d3d36f47e3a3718a64cd30d21cf870/theorem_expr.ipynb\"><img src=\"data:image/png;base64,iVBORw0KGgoAAAANSUhEUgAAAPoAAAAmCAMAAADaznZbAAAARVBMVEX///8AAAAAAAAAAAAAAAAA\n",
       "AAAAAAAAAAAAAAAAAAAAAAAAAAAAAAAAAAAAAAAAAAAAAAAAAAAAAAAAAAAAAAAAAAAAAAAeYafp\n",
       "AAAAFnRSTlMAq1RmmUTNIjK7EInv3Xbt5cnn9enzas/lfgAAAAlwSFlzAAAOxAAADsQBlSsOGwAA\n",
       "BCBJREFUaN7VWYdy5CAMpZpqXff/f+ohbAy4rJW7ZGZhks14IwmE2pPM2HBLif9i95Nngy7FNxUA\n",
       "uLchEC7Cg5L4Z+W086C6y6lcAWPAgan5mScwEZF12UTwITW3cTOZNKiLZ1w+84j1grjbvnBiRNWn\n",
       "UPRBw0+06GYsAts+8hdxQJcXS3voXZenpZHNLvaYL0Zac+gUSk7vKQbM7gFxfzbIOVik70b3TjMe\n",
       "cwojLMfLR/kijKb6nqiS51uvkuqalLHQwfXSJEQZR1O9nt4rACaUvNNcdXHgeQDVOrlZEmP1AiHf\n",
       "39+pIWrdubh35WBOsEDpvW68fegXTEIIbnvU2kdxTHy2mN249w/1iWr0vnjNqQjyPrEB3mJB8+H9\n",
       "IU6klmPXO7CQUJ17T5PJi7YQn95ec7YQS5LmhLSBlo4zrjhApVuIiZiQtXyWpXJKcJ8Ea9UDmqYg\n",
       "7puVK9LLvbMR55+/8PPB8guCYMPLxz/0/cEpzttLfpUsgyY0mJkmBAg3TvopRi/BgwannKo5BHCX\n",
       "kCQzAQWEFli8UJ1yvSuNTCbR7tyE1EMuzTqSHR3vknTJVAI+mOSU2spmMKi0l9JQVOcEa6w0EeWf\n",
       "8AvR6jR8sqqe9JZQHFhC2FkBlEk/22UCGgR/oWQba0X+JzC4VL3jZzoc5FzsuNKY3KVE8VHVc6z/\n",
       "/rNGPCXWsaRvxd3PpkGLYLBfmMQ232LpQDZi07SjK79ewo3qO79yuL6lX9nI6XdsadYGbZanNEfJ\n",
       "8MSp4ybLFKygFKunYumfDtjm28aLOWmTNNP7AYrK0LSOjeodf/GVKudix41mVf00iPALYTQhFEnz\n",
       "vVrw7XxR46yvvZsmbhAKcsDBYDaQE0w/OHzLX32lyDnvWGhWhz+7d1SfZnS76MO1ppM6WQcfaI/9\n",
       "8LNe84+tJn5Kcxs/OvP3Hy47c5XT79jRXKc5Nj23GYKIzPpJF14rBp6WPiUfDIPc8iiWn9KRbSov\n",
       "Pfqx2WChbXfr6Sp/31AUOVnqvmNHA3CJRlX8LKOzMJ9KohQQJJormVOBDgB+e8LBgJvWHs/W/Dyr\n",
       "idtrSLPz92CxyMlS9x17mgRplL9oWp8Uk1Q47l4UAHF88tk1C4ZzGdJkn7dd3r32SVGTQSNH3NHc\n",
       "Au+nwk5+sfKiWGh/fEqZSV8BHyVkMu+D6g1jldPvQUFV7inPWaLm+sW8R56etIRwg2qlfbC6aNJp\n",
       "lSNvaW5PFTvMG8AQJ/FH2vAVLfqXTrl8U5J0xMhZSB5+oo3jvXqq1vIxN9wz6caOtDDcLJpVQMBU\n",
       "rrMzKaOfaOOI7xv3d8zRHQLg1X0daGFiI65JNnieNp0+0ppohlQdW729xPOJCcocrqP185Cv19Fm\n",
       "K1ZNPSETs2KURq2ndZKNukzOdJ5DsIYDBcR0tL6E/F+N2CYOIhuowAAAAABJRU5ErkJggg==\n",
       "\" style=\"display:inline;vertical-align:middle;\" /></a><br>"
      ],
      "text/plain": [
       "<IPython.core.display.HTML object>"
      ]
     },
     "metadata": {},
     "output_type": "display_data"
    }
   ],
   "source": [
    "div_neq_rational = Forall((a, x, y), NotEquals(frac(x, a), frac(y, a)), \n",
    "                          conditions=[NotEquals(x, y), NotEquals(a, zero)], domain=Rational)"
   ]
  },
  {
   "cell_type": "code",
   "execution_count": 39,
   "metadata": {},
   "outputs": [
    {
     "data": {
      "text/html": [
       "<strong id=\"div_neq_real\"><a class=\"ProveItLink\" href=\"proofs/div_neq_real/thm_proof.ipynb\">div_neq_real</a> (conjecture without proof):<br></strong> <a class=\"ProveItLink\" href=\"../__pv_it/theorems/451047e181e0dbc81a30f24ec72e0e751d3bde350/theorem_expr.ipynb\"><img src=\"data:image/png;base64,iVBORw0KGgoAAAANSUhEUgAAAPgAAAAmCAMAAADeO6ZmAAAARVBMVEX///8AAAAAAAAAAAAAAAAA\n",
       "AAAAAAAAAAAAAAAAAAAAAAAAAAAAAAAAAAAAAAAAAAAAAAAAAAAAAAAAAAAAAAAAAAAAAAAeYafp\n",
       "AAAAFnRSTlMAq1RmmUTNIjK7EInv3Xbt5cnn9enzas/lfgAAAAlwSFlzAAAOxAAADsQBlSsOGwAA\n",
       "BB5JREFUaN7VWYmS3CgMFZcxh5Vkd+P//9QgDOZod7emdlLVJjM9RUUCHnq6aICbDS3/l7pfPNxy\n",
       "aFEAIAq/hsC5Bo9a0Z+sum63RK6WegEAKBD0xlAKICPp7scS4oa411jMpSwB8SAUQ0ke9yPcMXfy\n",
       "fsCXUMGQ0RemWwNEhPJB83g7ssu9P3IF8n4Y0lv3dYoT9xlbGNAkunuW8TI3MNapJc1befhpcO8M\n",
       "iJjjFmc4UT/KPNwLeI1OxPnV6wTc8OIUcdvsLQ6qeC/g7eheI4LU6hluPXqAFwF1x2+7J8VGAKk+\n",
       "nelc11zdRTLvc8CWygBtzlzx4S5fChCOT68PmH2UU7Rbq8mt+3QXX7gGn9LVlvKeGOIZ0h3Wqj18\n",
       "ekETuenXTdSVChuva3BMDCquvXw4btiZScgIRrggK8eNRvz43LYzgy8jVvm8ls6hwH1PAavfVM2c\n",
       "yvp65Bz0cutswO2ff+nzjdV3KnetqB9fLZ23sGixDCXzqwgZDKOFzDIhYLim57cYvLoNGZtzqHYG\n",
       "FC4VjYBUMgYbeMA5d3vIqHSXxj10Gu2IezdmsQfOXcnuWUri10Kb1iVPYvoHyiMPuGCY4pCJtP5c\n",
       "rjAtzqtGDuAJtaq9alAYTlVEbdNPuUoka6RfPINMBo5ePwE+qIMJ4zJXGx4yNjcjUX4RePbx/34f\n",
       "ns7xcUrhJZn7zXaVIVrqCxZZHq4gnWeNqTNqyBLVrUN1DfxU147Gj/Sr2jIwbtjLHF3Ypubgxonq\n",
       "zLfEspattYHW0A4F6T8dQqG19XJLYBwY1QHXLozk7maDeuXJuczVhkXmAD6/M/id8fAgNQv3mSFE\n",
       "OV6kiNWzpHc0qvoEglqycejliqgextZwvIam3nhSlrnYsMocVH9gdtTfZvB1N9OlpoM61Z41yBjn\n",
       "2TeTw84aoPdxY4J/BryoE41//nKZxucy04aDzGVwg+V9MyGZVdj4hkWXSh5nlE8xhxwg9zUa8iyd\n",
       "eE0pZSh1jnT2JLg19bFvqMvkRc8NBxnEq8JTx+8yOITtIQkqiUGRrRLRNJqA6MuMGn+35Dau2Mss\n",
       "uATwun/u7Kxyqo91YV0mL3puOMqkAkb7x7b0HSzFLbvdi6Av55nPrDxSEFHyuuK5pqNscaktM2/x\n",
       "Lnb5t4mc/SXJiwRh/DxLAcm8L3OugXd6bZlxC0YJ5d5Ft5WJ27x4y1EPM6OQwaRL4LJjR1tGPZV5\n",
       "dqY4VrcBLfNpfZINf6EF/5vPV75PQiaSz+wscs+y8W5fInWW8jF31BvrwiZZvNnrMrT8n2DkTmtj\n",
       "hfFZNt7vW8PzW2KIbub+i+saZXGB+41F9YU778F5krXR3hA4dXMtp4sFJOeBrZf12w2/Hid7lao0\n",
       "9X0gNw2cbmyQdQruOewR37zAsFqBnJqll/XV0/8ANjAmAk+4nzsAAAAASUVORK5CYII=\n",
       "\" style=\"display:inline;vertical-align:middle;\" /></a><br>"
      ],
      "text/plain": [
       "<IPython.core.display.HTML object>"
      ]
     },
     "metadata": {},
     "output_type": "display_data"
    }
   ],
   "source": [
    "div_neq_real = Forall((a, x, y), NotEquals(frac(x, a), frac(y, a)), \n",
    "                      conditions=[NotEquals(x, y), NotEquals(a, zero)], domain=Real)"
   ]
  },
  {
   "cell_type": "code",
   "execution_count": 40,
   "metadata": {},
   "outputs": [
    {
     "data": {
      "text/html": [
       "<strong id=\"div_neq\"><a class=\"ProveItLink\" href=\"proofs/div_neq/thm_proof.ipynb\">div_neq</a> (conjecture without proof):<br></strong> <a class=\"ProveItLink\" href=\"../__pv_it/theorems/bb5614c4c1e47a2cd8296be70655428f33186c240/theorem_expr.ipynb\"><img src=\"data:image/png;base64,iVBORw0KGgoAAAANSUhEUgAAAPgAAAAmCAMAAADeO6ZmAAAARVBMVEX///8NDQ0WFhYLCwsYGBg2\n",
       "NjYbGxsSEhKIiIgiIiIQEBB2dnbu7u5ERETMzMzc3NwyMjK6urpmZmaYmJiqqqpUVFQAAAA0WiBi\n",
       "AAAAAXRSTlMAQObYZgAAAAlwSFlzAAAOxAAADsQBlSsOGwAABBZJREFUaN7VWQlu5SAMZXaHNWy5\n",
       "/1EHEwjLTxNX05F+UJsqqg08/LwRxh42XPgndblK9sjhYgEAEKUWgnIMEpzHP1lVL49E7td6AIxB\n",
       "BOYWgpJggaPutk8RH4hb82IubxCIZNETlMJ+PlHt7yo8D/gqKhg0+kp0a8Y4sPLAd/44soet33IF\n",
       "cj8s6ulNT3HiOWMRA5pEd0kyXuYG8PpqUPNRHn4YXCrLIs9xizJUrI/yLp4FvEYn5LyWLgG3tDiF\n",
       "3LZbi4OePwt427p0ACw4/xFuN3qAjAJcx2+zJcVGgODfnelU19TqJJn3OWBJZYCzR654c5cvBQjF\n",
       "p/ULZsnDFO10NblR7+7iK9XgU7paUt6LQzwDPMNatYt3L2g4Nf2qibrBQ+N1DY6JQcW11zfHzTZi\n",
       "ErKREC7QynzBwd8+t23E4EuIVTLP5XIoUF9TwLqbqplSWZ+PnIMul84GXH7+wOeN1Tcsd02sj88P\n",
       "UC6C6YrmqwgpLKGFzDJCgDin55cYvLoNGpuyqbYHiCoVjalyjGmV0FeAF8ApZ7vL+HSSVr10Gm2L\n",
       "WzdmsRfOncluWSrA50KbcyVPCplt7WnAI8EUuwzH+edyhWhxWjWyA0+ofe1VhQdxqAI4k37KUQJa\n",
       "I/1CDTLS690I5hz4oM6sGKc5W3CXMbkZ4eGTwLOPf/+2ezrFxzGFl2QuF9NVhmCwL1hDubhiaT+a\n",
       "J34f2dCEl+PtgB/qTuH4k359m4aNC/Yyexe2+Dm4UaI68S6xzGVqbeAca5ti6Z8KWKG1kWHBYMbs\n",
       "sb6XXl4AH9QrT45pzhYsMjvw+Z5BboSLh+BIuI8MEcv2uMU7vP5kOpNi1ReB+TUbRwWmtdUXwAf1\n",
       "xpMyzcmCVWan+guzufsyg+vNToeaNqp8u9ZAYxx7X2wOO7qFshLc+tw7AC/qSOPfv1Sm8THNtOAg\n",
       "cxrc2HrfTARiFTbeYeGhosfZRGAp0AFyX+NYfks71imlDKWOETl0idM83tTHvqFOkyc9FhxkAM4K\n",
       "T8e/yuBMLC9J0AcQHm2ViObACgBZ3rDxV2tu43SLyYn3Tp9T/VAf68I6TZ70WHCUSQWMk69t6R0s\n",
       "Ty271UXQD/ObzKzc4SIlzyueczqGxok2zbzEXeySt4mc/JHkIkFYOb+lgGTvy5xz4J1em2ZcglBC\n",
       "qbvopom47cVdjn95sx4ITDoFHjp2tGn8hzIf7YmP1a0YuoTrSniQFf+hBf+f11eyT0KWo89sJHLP\n",
       "svxpH5E6S0meO+qFdGCTLDzsdpm1/J9g5E5rIYXxWZY/76vh8ZWYcTVz/+K4RllY2fPG6vvCnXbh\n",
       "PMkabh4IHLu5ltPjygLlgq2XlcsDP4+jvUpVmvo+FhbHKN3YIKs8e+Ywe3yTEYQ2ESg1Sy8rq6f/\n",
       "BSImPQ/kZ8AZAAAAAElFTkSuQmCC\n",
       "\" style=\"display:inline;vertical-align:middle;\" /></a><br>"
      ],
      "text/plain": [
       "<IPython.core.display.HTML object>"
      ]
     },
     "metadata": {},
     "output_type": "display_data"
    }
   ],
   "source": [
    "div_neq = Forall((a, x, y), NotEquals(frac(x, a), frac(y, a)), \n",
    "                 conditions=[NotEquals(x, y), NotEquals(a, zero)], domain=Complex)"
   ]
  },
  {
   "cell_type": "markdown",
   "metadata": {},
   "source": [
    "### Bounding division"
   ]
  },
  {
   "cell_type": "code",
   "execution_count": 41,
   "metadata": {},
   "outputs": [
    {
     "data": {
      "text/html": [
       "<strong id=\"strong_div_from_numer_bound__pos_denom\"><a class=\"ProveItLink\" href=\"proofs/strong_div_from_numer_bound__pos_denom/thm_proof.ipynb\">strong_div_from_numer_bound__pos_denom</a> (conjecture without proof):<br></strong> <a class=\"ProveItLink\" href=\"../__pv_it/theorems/b70d64e3667abbb186ecb191ac334d26482774970/theorem_expr.ipynb\"><img src=\"data:image/png;base64,iVBORw0KGgoAAAANSUhEUgAAAPgAAAAmBAMAAAAby0tnAAAAMFBMVEX///+IiIgiIiIQEBB2dnbu\n",
       "7u5ERETMzMzc3NwyMjK6urpmZmaYmJiqqqpUVFQAAAB6qHgnAAAAAXRSTlMAQObYZgAAAAlwSFlz\n",
       "AAAOxAAADsQBlSsOGwAABDNJREFUWMO1WG9oE2cY/11zb+6SXNKr1M1ZKSIDRb9kQ7CMCemYfyoK\n",
       "qavbQNQKs2zajmxhH2dvuAljYG+gIqgQUQv+2dpt6JwWTRQFP0hvfpMN1jJX1i+jA4PiVrbnfS+J\n",
       "Se5SU8h7kHvI8+be3/v8+z3PBZB0RZw5l9kRSLyu06e7/Z03PWdgbVnsBD5OysM2bLqNKpORpdUr\n",
       "ajSOcfrBhDzwNBlmWEY+lq1e+ZTOM0VyQB74YfpoiNjelWTAxCsk35Lm92heCMLxXiNJ7THPSGl+\n",
       "b0q4OBbz2vcTlDgJ/Yks8EGO+Xbmd6jetQ8RFEa/JwucZxR+++QHfONXhCMiC2/JAv+X37a3RMd8\n",
       "qGZn5w2LyyEHwgO/NhhbmzueXW5ejOIql8caTTEztddUm611CdjGfp54vQ0Gj9lzFIIZc0tBmUGI\n",
       "8lJ1Ggwe8K3hByLU0dzVAhc8hkGZF2p0vjUnfJQ3L1Ulxizw6rJlqxsOnvXqFqyrbm9UEj8Ce+po\n",
       "z/MCH/I20je8TPs3cAh6TZaNvnx82n0o+HxEtbPk7MFqcP17H188om2TasZ3s4+m9sJMqJ/7gVcw\n",
       "doG/cxgu9Q6x43/iEorpZ6cRSlGK/5B1pn++RSgeME2j2wf8qz8qzNon0ngNmq1alk/71ROBw87R\n",
       "rSe3kX9vudJGG4TbEcMSCHBlexm40vbZFRL7/wROTQhyZJtbLWh/0UN6HgFnXm6nmGMLzXJshWBE\n",
       "xZoK0XPdzck0E8RjJg4uKQNfFOs9CQzTAZiZ13hj3GoNcuDrKWh5NBURhrL1JBxvAAfIgsio2MrA\n",
       "bo3EF/fxQlg8b15ejzLwbNBMYZjXjL5jqcKPdw1psfflDIGXZoddXiS2YGG1N2Y5F6aIkjKKm/Ju\n",
       "R3iISeNoX98AuX2TUx5ziqrmMnMsEeMIr6HdZfMOcntz0duBUT+SqSp07WnxqFbwNs9ZLa7zryux\n",
       "Rku4MT+/rhw8DQs9YvRrygTo0OwJ+rfxmtxdkXAh32Zx1/Ibteio1uDFZA8OqHYEPcDy8IzLPFRq\n",
       "ZQmnx7tANin9HDw1ApZAh/b0Ntl9gicrvi1VSrwOJlKLU3V47OfNSDuRxZ0LSeCXOzYOkmHhrw+z\n",
       "a/Yzy78708L9YxB6dOwDHoEL91qzUAZckimRt5GvAzxYyW2FkDnMCmbB1vftLftlpcfex7vgJ3CD\n",
       "5xnB2ey8G0A4WRAx85znmNWKyTB55GytjffVAT5SkQJGUYRzieeCX2zlpVdrY3c41B8u8hnci9qu\n",
       "uvuUPr+eukuQ+2kr6BP8onatrOlV5VnKXof3PbGkVeKywKnoqeBmim8uFQ2roA040sDv8u17C+6v\n",
       "nO8K2pfkvaWGsoLhx33SwdXqHfLA2QqCcTAdtTzgrnarPK8DXyYRNKOrvLNfQdsv8z8ZPQU2ueHQ\n",
       "i16fCC3jYf8f8qcKSg7SYiwAAAAASUVORK5CYII=\n",
       "\" style=\"display:inline;vertical-align:middle;\" /></a><br>"
      ],
      "text/plain": [
       "<IPython.core.display.HTML object>"
      ]
     },
     "metadata": {},
     "output_type": "display_data"
    }
   ],
   "source": [
    "strong_div_from_numer_bound__pos_denom = Forall((a, x, y), Less(frac(x, a), frac(y, a)), \n",
    "                               conditions=[Less(x, y), greater(a, zero)], domain=Real)"
   ]
  },
  {
   "cell_type": "code",
   "execution_count": 42,
   "metadata": {},
   "outputs": [
    {
     "data": {
      "text/html": [
       "<strong id=\"weak_div_from_numer_bound__pos_denom\"><a class=\"ProveItLink\" href=\"proofs/weak_div_from_numer_bound__pos_denom/thm_proof.ipynb\">weak_div_from_numer_bound__pos_denom</a> (conjecture without proof):<br></strong> <a class=\"ProveItLink\" href=\"../__pv_it/theorems/f33cf957daa9d28cc07a81effc4ae60b99a68e3a0/theorem_expr.ipynb\"><img src=\"data:image/png;base64,iVBORw0KGgoAAAANSUhEUgAAAPgAAAAmBAMAAAAby0tnAAAAMFBMVEX///+IiIgiIiIQEBB2dnbu\n",
       "7u5ERETMzMzc3NwyMjK6urpmZmaYmJiqqqpUVFQAAAB6qHgnAAAAAXRSTlMAQObYZgAAAAlwSFlz\n",
       "AAAOxAAADsQBlSsOGwAABD5JREFUWMO1WF1oHFUU/iY7d2d2d2YzkaitKaEEwaIvqxQaxMJGbDVS\n",
       "YVPjDxTbFDTUNpXVxUebkWrBl2SFWgQtbFELajVRsY1tqLtKBR+kow+CWGiDNZAXidClpRr03Duz\n",
       "m529s2UDey/s3N1zZ+53zznf+ZkFFI2Ud8tl9g4UjvP0Gel/5hHpDKyvjN3AKzl12FaRLrPaQmpj\n",
       "84puZ3CRbriiDrxAilmuVU2Xm1deo/Ms0nxQHfhR+hhIFeWVXMzB/TQ/qczudlVMhCOPmZxxnTNS\n",
       "md27sj6Oy2T9voGWocm8oQp8kmM+XfoDurz2EuJC6edVgXNG4fKrX+GzqCCcESz8XhX4v/yyq8ee\n",
       "j0g1u4e+dfk87UFY4FKHsY1b+3PY58UszvL53U6nmOUo6W9CYb3ItvoJuIhDnHhjHQZPR8Q3vvva\n",
       "V9hJ+6GgLSNBvNS9DoPHImL4tm1BCqicDb5ch0XMS3Sab91ZqZw8LOUbYwV4YGBgc8fBmzM6+7Is\n",
       "V1UKiTPAC22U5zWBTzf5kS1FOfZvYApmyyxr3/3ekm+ueFi+L+Jmfahu7MlmrEjwa7RtTi9FIr+8\n",
       "uB9OVn9DBrf3hvXy83cFJ+u1Q+z4nxhCYK6aXQhFKP5DOznRfEuRP+A41ogEbk2E7zQPiADegm63\n",
       "leZRhOPgKFboMlp5jP/umeujDZL9SGMDBLi2qwFc63t9DppoA05cEcmR7eh1YfxFD5lVxLyW4Kuh\n",
       "FvI5nqBejm0SGVFzFxP03Eh3rsBE4nGyRzY0gK9Ljx03RH5iTtXghXGnO8mBz+dhVNFVs+10uXWS\n",
       "CReAw6RBalZsZWGvQdObv+COpHjeOb0dDeDluJPHr1wF87mNGj/eORTEWU6XCLzeO+xxItNrPuyt\n",
       "FZ4LSRYraT7l/YpwFQvWsfHxg2T2x71GnwuvnuTo6WyaIzyIfp8Hg2T27pq1Y7PtVJ+btaO68Quc\n",
       "s0bG5D/vxRYj6/v8k22N4AVw9ENzlKJLMTo0u4GJpwL+NxAu0U6xCFotOqo7eSo3isN6MYVR4J7k\n",
       "sp95KNQaCGdmhiF0mvoTXfkZsCwGjZsXSO/3OVnxeT1SMm2A67WuOjn/8w4UvNRdQ7fThN9/KOII\n",
       "KZZ8+yg7V1zV/IsPe/yYdmHPvwji3qc/9ZYD/utDdUZZ1aZAGxAj7PN4OLcFLvOYGy+DbR/f33Bn\n",
       "87mfBUW77TtPasHZypoLQDIXTGnn4+Y7JfCFJFnko1YbH2gDfMYN9R+1KVnJtgY3xmnsw6leHnqt\n",
       "NvabQ/PquoiYq0mH265T5tpq6h6R3D9w41V5rSbdqqp71TlL2UOQ3xPrUi2jCpyCngJuufbmEipY\n",
       "gTTmKQP/kW8/Fpg/3N8F0vXq3lITZZHhL0bQwZeag+rA2SaC8bBkuxK4L92pzurAWznEHfs+ufcL\n",
       "pBMq/5Mx82ALj07dKdtESBl3+/+Bvw2dP7CcIgAAAABJRU5ErkJggg==\n",
       "\" style=\"display:inline;vertical-align:middle;\" /></a><br>"
      ],
      "text/plain": [
       "<IPython.core.display.HTML object>"
      ]
     },
     "metadata": {},
     "output_type": "display_data"
    }
   ],
   "source": [
    "weak_div_from_numer_bound__pos_denom = Forall(\n",
    "    (a, x, y), LessEq(frac(x, a), frac(y, a)),\n",
    "    conditions=[LessEq(x, y), greater(a, zero)], domain=Real)"
   ]
  },
  {
   "cell_type": "code",
   "execution_count": 43,
   "metadata": {},
   "outputs": [
    {
     "data": {
      "text/html": [
       "<strong id=\"strong_div_from_numer_bound__neg_denom\"><a class=\"ProveItLink\" href=\"proofs/strong_div_from_numer_bound__neg_denom/thm_proof.ipynb\">strong_div_from_numer_bound__neg_denom</a> (conjecture without proof):<br></strong> <a class=\"ProveItLink\" href=\"../__pv_it/theorems/fafb64bc1ab7b3945da14454421299addf7581320/theorem_expr.ipynb\"><img src=\"data:image/png;base64,iVBORw0KGgoAAAANSUhEUgAAAPgAAAAmBAMAAAAby0tnAAAAMFBMVEX///+IiIgiIiIQEBB2dnbu\n",
       "7u5ERETMzMzc3NwyMjK6urpmZmaYmJiqqqpUVFQAAAB6qHgnAAAAAXRSTlMAQObYZgAAAAlwSFlz\n",
       "AAAOxAAADsQBlSsOGwAABCRJREFUWMO1WF1oHFUU/iY7d2d2dnYzgVSrKaGWgsX6sBahRSxswFYj\n",
       "FSY1VqG0jaBBayqpi482I9WCCM0ItQjVElEDajURUfsT7C5SoQ+l074q2GAN9i1Cl5ZqaM+9M7vO\n",
       "zsxuN7B3YPfsfnf2fueee8537iwg6cp6LYfZh5B4/Uyvof7nn4j5wPrK2A28YcvjNl16m1Xms6uj\n",
       "I2qugIt0wxV55CVamOmY1Xw5OvIW+bNAdp888iP00pB14yN2ysIjZJ+VFvdcVRjiiV8ztnaDZ6S0\n",
       "uHcVfR6Hxdd3CkqBjH5TFvkE59wx9SfU+NjrSItFvySLnGcU/njze3yTVIQzIgt/kUX+H3/b2ZOb\n",
       "S5Ca3QNnHW4nPYgI/N5hbq31fg76eTGL09x+1GmJWWw+prpssy/ALg7wxBvpMHnebVEIVt4vBWUR\n",
       "GcpL1esweSpSw+zjkARUTgcfbsCkzMt0Ot+6ixFg+IGExFgCNqxZ82jHyWOKrqyNqQ2jkvgJeLmN\n",
       "9rws8sn4PprrY+z/AIehN1XZ3Npj13x5Tt+dUR2oB3siIYlyx5wIcp2mtdWpxMn2L+yFVVTfSSKP\n",
       "K7aNCqbrvUPMeFtc9TuM43YdFaX4L3lkJedblvYDlmUOJZC//1f0bkI2ottpsXIYRyMuEzncCk/H\n",
       "ylP8e8/JPprA6EceqyDIlZ0hcqXv7ZNkDvwNfHpFiCPb1uv4iF5FymsV9uNOfM/xDJ3l2DqhiIqz\n",
       "kKHfDXXbJSaExyoeWhUiX5kf+QSYJgeYVdV4Y9zuTDg+olXRVUvyyXJCwjlJDeAgrSA7K6Yy8aJG\n",
       "5t3LuMcQv7d+3IoQeTltjWN6CxfFXasV7t4ZlOAjRF4/O+yx2ig1fYlr4ThJ0pTip7zfEa5i3jw6\n",
       "OrqPwv60F95z2lXNV+Z8Mc8ZHkN/gFDYu2vRTs1GiIaSROZWzVUnfY67phV0/vUhbNSK/p5/tSVM\n",
       "XoKDYXH065pKkdPsJsaeC5BQwmUizYI93PyoRa46EyfsYRxU3SyGgQeNRV95qNRCCacXBkFrUsY4\n",
       "+fgMWBGbtFvnAqQH39YrpdCGEqm1U7Uxd2kbSl72/oEVZPDbry4O0cKMD46wM+7/K//u8x4eH5O4\n",
       "cnOv8nh/faG3HCDqwA/17Kq2QZ5u1LZgyzzmpMtgW0f3hu5sjNgreAHcgzASDvPSshuAYQcmb30Z\n",
       "czMKzBsUkS+aTfxaG+QzDbVn1oxRKd6V/EQvL71mE/uHQ/3qyoSDew0dbLtP6cvrqXuEuH/mpBM2\n",
       "v4ZulnV6VXmWsscRf06so0pBFjkVPRXcYu3JpaFhBWjKk0Z+nk8/EoS/8XwXoPfJe0rNlIXCX0xI\n",
       "Bx/VN8kjZ+uIxsO1XKyXBeh2eVEH3rORtnLr42e/AB2T+Z+MPg42/+The+MxESjj234HJWIF87A4\n",
       "T6MAAAAASUVORK5CYII=\n",
       "\" style=\"display:inline;vertical-align:middle;\" /></a><br>"
      ],
      "text/plain": [
       "<IPython.core.display.HTML object>"
      ]
     },
     "metadata": {},
     "output_type": "display_data"
    }
   ],
   "source": [
    "strong_div_from_numer_bound__neg_denom = Forall(\n",
    "    (a, x, y), greater(frac(x, a), frac(y, a)),\n",
    "    conditions=[Less(x, y), Less(a, zero)], domain=Real)"
   ]
  },
  {
   "cell_type": "code",
   "execution_count": 44,
   "metadata": {},
   "outputs": [
    {
     "data": {
      "text/html": [
       "<strong id=\"weak_div_from_numer_bound__neg_denom\"><a class=\"ProveItLink\" href=\"proofs/weak_div_from_numer_bound__neg_denom/thm_proof.ipynb\">weak_div_from_numer_bound__neg_denom</a> (conjecture without proof):<br></strong> <a class=\"ProveItLink\" href=\"../__pv_it/theorems/e093ef6a4b66a2773551e73eb741fec6000627690/theorem_expr.ipynb\"><img src=\"data:image/png;base64,iVBORw0KGgoAAAANSUhEUgAAAPgAAAAmBAMAAAAby0tnAAAAMFBMVEX///+IiIgiIiIQEBB2dnbu\n",
       "7u5ERETMzMzc3NwyMjK6urpmZmaYmJiqqqpUVFQAAAB6qHgnAAAAAXRSTlMAQObYZgAAAAlwSFlz\n",
       "AAAOxAAADsQBlSsOGwAABDpJREFUWMO1WF1oHFUU/iY7d2d2dmYzgajVlFBDwGJfVhFaxMIGbDVS\n",
       "YVPjDxTbFDTUmsrq4qPNSLUgQrJCLUK1RNSCWk1E1NgG3UUq+CAdffBFwQbbYN8iuLRUg557Z2Y7\n",
       "O3embGDnwu7Jnnvnfveen++cCZDSyLs3nGZvIsXxDX3GBh+/XzoDG6hjL/BCOT1ss0ZfC8pyflN0\n",
       "RrWKOE8LLqQHXqWLmY7ZLNSjMy/ReVZIHkoP/Bh9NORr8kw5Y+Muko+kZnerKQThyGO+rF3hEZma\n",
       "3XtKHo7D5Pt9DaVIQr+aFvg0x3xs7g+o8txzyIpLP5UWOI8o/P7i5/gkLgnnRRR+lxb4v/xrT5+1\n",
       "FEM1e0e+dbicdSEs8FuXsbUb+3PUi4sFnOHyrW5TzGqE1d4OkUyNbfcIuIbDPPAmugxeiOb3+O3X\n",
       "E8EueKmgrCJHcam6XQbPSDmsDAc5ZzXO+H9cgUmRl+t2vPWWZE8MRzNeWwPuHhq6p+vg9RjSO+FE\n",
       "AoFS4ivg6Q7K87rAZ+P8aJyM3P0vYAZ6Istawycue/ScbdcfiFmsjrSMPR0LfjwC/jdtW1bnYpGf\n",
       "XzkIu6S+IoNb+2OKFRo41aodYsf/xGg9dNIzu1CKVPyHlHZ8vOXJH7Btc0wCN6fk1a9fwlb0Osk3\n",
       "N7dIJYbAUWvwRGw8yH/3LQ7QBsYgCtgIAa7sCYErAy8vQhFtwLsXBDmyXf0c8fCf0JvIuIngyrBc\n",
       "3sjneJh6ObZZMKLirOToubHecpUJ4rFLRzeGwDcUJt7RBD8xu6nxwrjbmSbwU4uUOU30BEE+W08m\n",
       "mfYCcIRukF8QW5nYr5F49WfcbIjn7S93IgRez9oV/LKDk+KTmxR+vLOoEjbXEHird9hnJ9Nra+hr\n",
       "nAsrRElzihfyXkW4iGXz+OTkITL7Q27Y58KrAqtQKnCEezEIzxZk9t7A2pmFTqrPteCoTvYcd4pW\n",
       "1PnPO7FVK3k+/2hHGLwK4WGycs9chg7NrmLqUYyLKAgFXK6TYuG3WnRUZ/p0eRxH1Foe48AdxqrH\n",
       "PJRqoYDTi6MQd5q5hJ7KPFgJ27Rr5yhWePz34dNWphQ7AFeDrtpY+mkXqm7+tpGbSODX72s4Shcz\n",
       "3jjGztau3/yz9/u8oHVgLT3D7f3xj/11P/vUkS9aedWM+HxIjEqbMtvObb7LXOZk62A7Jw+GVkbP\n",
       "/QQIz0rgPLa27gJglH1RsD+MrpTAlw2yyAdJGz/bAfh8W6ExA2E0Ssng2iSNAzjdz1MvaWOvOdQv\n",
       "bohp3APtaMd1Sl9fTd0nyP09J9uU5wLt9rS6V5VHKbsP8ntiS6sU0wKnpKeEWw3eXNoKlq/NuKmB\n",
       "/8C3n/DN397f+dpb03tLzdUFw5+PCQdPq29LD5xtJhgXly1HAve0u9OzOvBaGVnb2iL3fr52Ks3/\n",
       "yegVsOUHZm6RbSK0jLv9f6QuCOVeUD/OAAAAAElFTkSuQmCC\n",
       "\" style=\"display:inline;vertical-align:middle;\" /></a><br>"
      ],
      "text/plain": [
       "<IPython.core.display.HTML object>"
      ]
     },
     "metadata": {},
     "output_type": "display_data"
    }
   ],
   "source": [
    "weak_div_from_numer_bound__neg_denom = Forall(\n",
    "    (a, x, y), greater_eq(frac(x, a), frac(y, a)),\n",
    "    conditions=[LessEq(x, y), Less(a, zero)], domain=Real)"
   ]
  },
  {
   "cell_type": "code",
   "execution_count": 45,
   "metadata": {},
   "outputs": [
    {
     "data": {
      "text/html": [
       "<strong id=\"strong_div_from_denom_bound__all_pos\"><a class=\"ProveItLink\" href=\"proofs/strong_div_from_denom_bound__all_pos/thm_proof.ipynb\">strong_div_from_denom_bound__all_pos</a> (conjecture without proof):<br></strong> <a class=\"ProveItLink\" href=\"../__pv_it/theorems/9cfa9de44d15153995f82fa5960a6cbbad7981ae0/theorem_expr.ipynb\"><img src=\"data:image/png;base64,iVBORw0KGgoAAAANSUhEUgAAAOcAAAAyBAMAAABVKdGPAAAAMFBMVEX///+IiIgiIiIQEBB2dnbu\n",
       "7u5ERETMzMzc3NwyMjK6urpmZmaYmJiqqqpUVFQAAAB6qHgnAAAAAXRSTlMAQObYZgAAAAlwSFlz\n",
       "AAAOxAAADsQBlSsOGwAABBRJREFUWMO1WF9IFEEY/9bbP+fe7blCmiWYSVFkxRVSPVQoFCUUrnBY\n",
       "IXln1FVgIViP5Yb0FMj1YASVXBSCoJzVQ6Wid4SBT172WKCiSUGQPUg9GDW7s7d73uzdrTHOg3N+\n",
       "M7u/nW9+32++bwCoNr4993iTAvTb9zzjwnb6mL7afDOm6YNO5p3BztLGdB/KP2c3bdACOf+cj7Sp\n",
       "9M7BnMIhyqA12MkLZTYrTlnF33QxmWW9e6byy+Sgae2lvKU6M7nD4KkkxizrDN1N7dTlyLMEBWS4\n",
       "WtagTBV0Xv/rCkEwSoxZVr6SKujR1EqmyDHL6qXKJGEFvz4J3ySVADWt3ApV8uIl8LJU7SGPH8t6\n",
       "lOqx5sc8nTvRvZFkr2W9AKDT/DMNUMQVR60BYFjrH9IADToUuKko3NYkKkQlTGXH8wqRQLBJGqAz\n",
       "mW/hHmfziDeOlJ8KkaaI/Ciw1W5eEaLR/qqqGiqgW1QyirbZCG0R2szXAJeogDbYAHirSaMrAtAN\n",
       "7rx5C5uS7VyTxu2OD+kRsf4CJL68wkazJ2/1Y/fTwPhcoD9w91dvplXsVUzrEgZFIiLJWXgkVISj\n",
       "DAsna7OCKnagGU18kOkADRQiCXvQEcRGhoEJORvovS8O3Ntr61443aOxO3FSMxS/KUeTxArwARMH\n",
       "HbRkiB15OTKcBsqU33mDuttfAZ7OgkmIBtWOSKotkaALPcbtFLQzglEXC1GINxYpHdCkv591t8Yz\n",
       "V1rmCz0B6EPAnLws+M2QaXcWMi7tM31osmdIf9gLrQLq7k5DKQzoT3kuhggixXm5HfqOa/p5vpIJ\n",
       "ZReHRntxSGm0K8pgN+EzcQHmYDIcDicZhh0k2VukgnDEKF58puLOZAYBZ5/NB1MZVFDlJzRPCH63\n",
       "9u8uOAg39JUy4nPFilMDtANUCFzTSRF1mevrjK/xYHCpnQNKALrYiAcCADvEJRS/+p7C8bQTSwd1\n",
       "++sB2Zg2DbQ9RrrN6cEgjn44BR1Jz+a6EtTBp/cRcF9G9v5Ntc1vM0DhxfNi7YO8CFUavWqFQuS/\n",
       "NNr4hCSn8shVgXA4c5dWx6l0Bc5Cm1Wc+p2BrhYRUTE6n9yfJQ3KNMyJ1vK8RjHRWHHmGHFAc+Vx\n",
       "aME/D6yO5FQnJmodgg5sSJPNP7gfYubIuoKV/Ebi6/651qrXQbLtVb3LPoLIt9B3LK5Dsg2v8ILB\n",
       "Y8MoxSXDPrz1dMuKmME7l12GFlOEXziy6BZQBUagxlSOlNy3wGB2T9EtFTF9m6LzpoKltevAY6Hd\n",
       "ux7l/8zNVzBIjo1BLL4e5T/2XHOxNGqTR7fUjetKxNO+SCrMeWFWbxCKMqiQ/fKKjXD4MNxD/Zqu\n",
       "NMe9Fr43pH9Nl+NCUkrgLKsf6Lcn+TagZx1A810yn9Np9A8JzvVlafLrZAAAAABJRU5ErkJggg==\n",
       "\" style=\"display:inline;vertical-align:middle;\" /></a><br>"
      ],
      "text/plain": [
       "<IPython.core.display.HTML object>"
      ]
     },
     "metadata": {},
     "output_type": "display_data"
    }
   ],
   "source": [
    "strong_div_from_denom_bound__all_pos = Forall(\n",
    "    (a, x, y), greater(frac(a, x), frac(a, y)), \n",
    "    condition=Less(x, y), domain=RealPos)"
   ]
  },
  {
   "cell_type": "code",
   "execution_count": 46,
   "metadata": {},
   "outputs": [
    {
     "data": {
      "text/html": [
       "<strong id=\"weak_div_from_denom_bound__all_pos\"><a class=\"ProveItLink\" href=\"proofs/weak_div_from_denom_bound__all_pos/thm_proof.ipynb\">weak_div_from_denom_bound__all_pos</a> (conjecture without proof):<br></strong> <a class=\"ProveItLink\" href=\"../__pv_it/theorems/90dade168eeacec8cfc4eb96df851112dd17519d0/theorem_expr.ipynb\"><img src=\"data:image/png;base64,iVBORw0KGgoAAAANSUhEUgAAATcAAAAzBAMAAAAA6lKjAAAAMFBMVEX///+IiIgiIiIQEBB2dnbu\n",
       "7u5ERETMzMzc3NwyMjK6urpmZmaYmJiqqqpUVFQAAAB6qHgnAAAAAXRSTlMAQObYZgAAAAlwSFlz\n",
       "AAAOxAAADsQBlSsOGwAABP1JREFUWMPFmV1oHFUUgM/s7vzsz2wmYrUaiEt8iFTBrbRYQSUVgg1a\n",
       "Oy3ZohS7G7FrFZXF9MUHmwnF17g+BAQprFiEQiRprZh2S7tRKu2DZNsHQVroRpuioLgB1wZjXe/c\n",
       "+Z+5mb1qzL0Ps5Nzz5n5cu495557B4Cu5XI5WNfG53Iqre7D7ZU1eqtQCoc6YKq12wXaR25aM5f8\n",
       "3KH/LcthqfWHSw90UJAz7OAuddR4jhmctK2jSqTGCi6idFSRt7KC+4pC50NWcFuMwb2xkeBBSzqt\n",
       "sYHjWvjnY01oBTstabzBBi6C38s/DslMMP1aUrnFBm4MLw/JJkSC6c6W8kts4H7A12gB8pVAnyN9\n",
       "iQ3ck/iaV2A+2OdI5zUWcOKfBkYdfpK1AJwtzddYwHHLRsWhyA8mg+WKLY02WMAJWSMuF56euDsY\n",
       "rbZUyJhwGPIaDRylZliL0jkj1jThzui/H9DAUWqGtfyMT/BCjaSW+sOEO6yvGwUaOErN0DTnX7T4\n",
       "p0iFgLhkwsVR4Rmr08BRaoa160HzOwYJpfqKCZdCjo1TBQSlZlibJ+wfviTQ/WVF6yN9fVvoopVO\n",
       "M6zdpxGE380GRL9bcF8AHKCDo9MMa7uIu73ji37JYxbcBEiNwKCf0p8yflnzwJE0nfC3lu8wuPNk\n",
       "uMC/3GfBCWrMvQhfGTr3PorKZxDXJJQ9cD5Nj4ENJXhL7oOeP3/F16623pr2sP5o/Lqk91twsmLP\n",
       "crG3WOFisAMVLnxPhc/CVg+cSzNoQISTR4AA5wuIz4MyGw7Kc5asioKJ4+CCnnukTVIG+r3Ll6MZ\n",
       "NCDBpV7vPKykVOIMK+ycRJfhuR3A6ekavWsDyuPiKRV5bpsXDmt2z/agIU/0QtplEKuerJ5xwXE9\n",
       "47PAvaHfftQAe6bu0qiSsBMQcATZ8g+Iy7AXPzYmjdQgoR8alH1zDmty2s04SqW7u9RRt4HPcxvT\n",
       "haPiE/j1SkvM2qmkRLV8GWUfhksji+QMesIUflfy5QLwv+i349e80Yo1UzAiott3r8BdLgM/XE1Q\n",
       "SvCtPmLSixmuEJaESW3FUzJFK1wDLhWLxTrHxT4NL5mMmuwGLHgMfHOuS/+/PhnEhyNpe+iuV+iO\n",
       "v37zwOU14YJ6CDuCSxxTpWrVnEJBODErGYJHwTFw8pwJNwo63WGU/COVqO2vsRpdwbzk9Zw2NqUK\n",
       "Kp5CMDgT4rkjsXIShgH6E00gGWA4KTsEWDaxCJHStN3Z5X/ynj699fsPJG574BJnLz8L0it6ur5n\n",
       "YN/pELjkvds3wGgdrn5dJhoYnjtxrNvIGhrIZ191tq3lf1DN+8r04WKxQlem13lNqBENBL/l8+Bk\n",
       "u3SW7gyv+V/2EAk1rRxfZZvgFywkHHeljL083714aGcwDHpqsN9Vzf9buBQk5gY6wYkolosHYepO\n",
       "10y/bRYHvcrJYOkgZ82N63vK/7T7kig21RdhXg0eDb+TzMBNhptq+AxfS0AIOVCjCmzGd9+zOY6Y\n",
       "NuNnM7FTFW/hG0YHOREj0SWWgfDN5TRwWVfYrDscfi//GkophHh6E4SGc4jH6NhVvrUvmyDsMc/B\n",
       "dI3lsSsKU+S5E8rVbwh9+7ef1wwPMoKLD4T1DuEJ2WIFJ67+kSRW5nF5GqmzgkMl6qqRrBjfxdh9\n",
       "Xgr5MCfP4RLSXorp4R5as4/BRzv0v23UWnxuNzXc+n0MnjTV2u3C34vyV1CDGcylAAAAAElFTkSu\n",
       "QmCC\n",
       "\" style=\"display:inline;vertical-align:middle;\" /></a><br>"
      ],
      "text/plain": [
       "<IPython.core.display.HTML object>"
      ]
     },
     "metadata": {},
     "output_type": "display_data"
    }
   ],
   "source": [
    "weak_div_from_denom_bound__all_pos = Forall(\n",
    "    a, Forall((x, y), greater_eq(frac(a, x), frac(a, y)),\n",
    "              condition=LessEq(x, y), domain=RealPos),\n",
    "    domain=RealNonNeg)"
   ]
  },
  {
   "cell_type": "code",
   "execution_count": 47,
   "metadata": {},
   "outputs": [
    {
     "data": {
      "text/html": [
       "<strong id=\"strong_div_from_denom_bound__all_neg\"><a class=\"ProveItLink\" href=\"proofs/strong_div_from_denom_bound__all_neg/thm_proof.ipynb\">strong_div_from_denom_bound__all_neg</a> (conjecture without proof):<br></strong> <a class=\"ProveItLink\" href=\"../__pv_it/theorems/56aea67ca3262ed30392635c78bad751c30a4b3c0/theorem_expr.ipynb\"><img src=\"data:image/png;base64,iVBORw0KGgoAAAANSUhEUgAAAOcAAAAyBAMAAABVKdGPAAAAMFBMVEX///+IiIgiIiIQEBB2dnbu\n",
       "7u5ERETMzMzc3NwyMjK6urpmZmaYmJiqqqpUVFQAAAB6qHgnAAAAAXRSTlMAQObYZgAAAAlwSFlz\n",
       "AAAOxAAADsQBlSsOGwAAA+NJREFUWMO1WF9IFEEc/q23e7u3d+6dlkIJVlIUUWEh5ZOckaFQuKIY\n",
       "IeQZdj0EFVjQU25Ir3E9CL0U99CLoHgoUXmiZ6Hgk5dCFAmeKIEQpQ+ChFKzM7t3583e3Spz83Bz\n",
       "95tv97uZ+X5/ZgCYNufD3OPtKrBvv/KMiyfYcyr+fIh59qSzeRF8gjWnVJsfc4Y1aZEvP2aBtZQ+\n",
       "28C4IoxJa0j3ov6ZxaBhlbfYcnKbuJNr4QG9hknrG8ZbSpTZGoMRejBpXWK7qb0kHE0CHKcHk9ZO\n",
       "H1PSFdJdBOEvPZi0Oo8yJa3Dn8IGeNapsZTVw1RJ4jZ5/Q4ooW8UadIqbDMVrzGFLpiP0M6YstYx\n",
       "TWvVpL918MkyneFS1tsAWOaLLEgdAXu4ZoAxvX/FgrTTZoCbC8NTPTsEmLipzzbOhQIEH2dBumT9\n",
       "lu8avSKeGIr8TIQ0Z1kffXqXafEiGV2oqqphQnpEszCWNlAmL9rM9wB3mJA205FcuGyxz44QynMg\n",
       "2a9bcgl0kiKVRmJWyQgFX6fKh7MXb00TL9N/55L5H9L9ww1/XUtJy5uyFqEgUuzLoiOxMhjmeGj0\n",
       "ZyUVrEjT2pqlnnVSCE1Zk0aRGjkOpn3ZSKUJdb/LC9f70UfbVKNuKPlQgTQoV4ICnP4AIi2LSNFo\n",
       "dCydlKDE3xpBmkLS7AsJ+pCOhFOiniM47acLLUmLV+2Bdpw5eKkrljlTgpLvaQbSdBkLPxVKy2hS\n",
       "XbcKArsjor7SHugSUfd8HsphEL/f3R2ghIRRcrdqInMHB8pRvaYLOMIc8RuSE1dhGWaDwWCc4/gh\n",
       "C/UiVE88iTTDoLUTzFJh0FRmp+ac1v+5WC3pP0/DJXiEZ8rJb1WKVEcJV+Mm0gzksT0mBofWO6i2\n",
       "QR8fckMbwEl5Hfkv3lNoiGSSYhRAuU6iIzOXzW5ikMe/XEMr5j5cX6Yv3I+ZEEh3kX3gkL/jYyYp\n",
       "RqE2g1h1pOkKoX3FaOMvxAXNid7XFgxSu7Q7OHzVCNI4nFbbI90dRGTV6BTfQJYHMsNgOtJDThXQ\n",
       "UnnjCh2KWsZBSBgVcHrzmJ085bdJmo4Ud4ykwC276YLav2AUvtLGXtOXlr/Y9mieTYUSshgfASXA\n",
       "vtiGUfJ6cFsoSoDz4MC+orA9VgwbunNYVWjypnHA8rI9QBUZjjqsCXQRgaZ/gERLtkdFIt/28Arw\n",
       "FvV/Au7jL+cKcfxfejwKQ/SYOyFvF+L4T1auo6R43KJiEFYrtowZs22unBdmPBb1MOsrHTHH5VUT\n",
       "tOL5n2V+TVeefegYSr0FuabLdSG5WIG9eADYt9f5NqC/AKT5LplvYhn9B9/uCR0ZlwQFAAAAAElF\n",
       "TkSuQmCC\n",
       "\" style=\"display:inline;vertical-align:middle;\" /></a><br>"
      ],
      "text/plain": [
       "<IPython.core.display.HTML object>"
      ]
     },
     "metadata": {},
     "output_type": "display_data"
    }
   ],
   "source": [
    "strong_div_from_denom_bound__all_neg = Forall(\n",
    "    (a, x, y), Less(frac(a, x), frac(a, y)), \n",
    "    condition=Less(x, y), domain=RealNeg)"
   ]
  },
  {
   "cell_type": "code",
   "execution_count": 48,
   "metadata": {},
   "outputs": [
    {
     "data": {
      "text/html": [
       "<strong id=\"weak_div_from_denom_bound__all_neg\"><a class=\"ProveItLink\" href=\"proofs/weak_div_from_denom_bound__all_neg/thm_proof.ipynb\">weak_div_from_denom_bound__all_neg</a> (conjecture without proof):<br></strong> <a class=\"ProveItLink\" href=\"../__pv_it/theorems/3a0527f8a1f001a32d4305d4166c6f9e595c7cd80/theorem_expr.ipynb\"><img src=\"data:image/png;base64,iVBORw0KGgoAAAANSUhEUgAAATcAAAAzBAMAAAAA6lKjAAAAMFBMVEX///+IiIgiIiIQEBB2dnbu\n",
       "7u5ERETMzMzc3NwyMjK6urpmZmaYmJiqqqpUVFQAAAB6qHgnAAAAAXRSTlMAQObYZgAAAAlwSFlz\n",
       "AAAOxAAADsQBlSsOGwAABSVJREFUWMPFmW9oHEUUwN/e7b/c7V02Yms1JYagVLTqKVX7QctVTE1E\n",
       "yQZyUQk2F9GzFiuR6EebDdV+KYQrGBGkcmIRKpGcFjVNQntRKvRTrhGEYiEJrZFIofFDMGAlzs1s\n",
       "du925vamNGbmQ3bvzbu9X9689+a9WQC+kUqlYFOHkkpZvLoPr/2zQb+q9gfPdxMmdW0tzfvI+zfM\n",
       "JNdqzGv3OjfG5sPFk7U0ZsXBXaipIc+LgtN319bZKQouZNbW+cUSBPcTh05dXhDcLrK4V7cxLLgu\n",
       "jayKgZNW8OULW12hJ13pZ2LgQjgSlSch2kzvCa50zhICN4i3h+gyhOh050l7TSFwV/DfcBp6c9Sc\n",
       "J1WbhcDtWbfMDD3nSY1VEXDaDYJRhKWYTcG5UuWGCDiJJAnVjD0QpcsVT7pHBJyaIHG58OzwHXS0\n",
       "etJXHTgc25d54Dg1g0aY0xgdDtxE6foJDxynZtDozTPFl/z+N5MjcIdL+0aaB45TMzDNMbf9H79j\n",
       "6iG4OpSN5SIPHKdm0Jhjff22VraFEZxRQD/LFRCcmkFjhu4flKcZ1qyfd6L10ZaWXXzRyqcZNO6m\n",
       "kpvybYGhV5924H4AeJ3Zm1Fw1TT5R4e/21OWmH4Szjpww6DPM+aNP2Dool0BV0XTt30HTZ6jWlE2\n",
       "XKjZgVMtuXwTnm0/exxdupCZRiBbAefTJCN2z6dL5V6jVs4eqPh4nVzW8CAFpresWLhM4BIOXMx0\n",
       "vVxryuQkGdqScKwNmTwBj1XAlWk6453Fg2Am5Q+qwcX6gAVXMyBcOMhOr8smUTBJEpw39RKL3gw7\n",
       "KrcvT9NZQmReME2jswqc8VbNZWWnEndZ4YWR0jJOt4FUsjCC25IH409sud2VcFizYbwRuWKkCeKw\n",
       "HTCc1APHJicnc2VwUuPQOEiHSrefz4PrqR02XxJ2AwKOoO8q92mr0I0fK+t9CDJ2DRnK53NYU7IX\n",
       "65ATd9ZbAwreLszk0e2U5bbF0ye0p/CymStawk0l7HOSS35xeD3PQRxNRfPoCaMYLvoa/k1tAoYu\n",
       "V0Yr1jSgT0O3H87C1gj2ZfP7fUDBFVSzH34trZf+SrOUDkjCzFGfLy+ZwjlpHi5kMpmiJMlfB5dM\n",
       "pCa7CgvGx5nMIbSszxVpn6sv/V9ftuLDkbjr8nM5zgIhWQ7Xa6vnrXex5aTISUtHLjRRBU5L6ETw\n",
       "hJYkPvdVKw03ACW6w+PIuXNh116DhZsoEDzL2YOjlmphn4PWfIDljsjZKHQB7Igsk/0CpZIeP5ye\n",
       "aAf8kOHfIdQ/VrlcFYmkBY9+VoHgwkWmLj4P+hvo7tSdyZ4zAXDRu/ZugYEi/PZzFo6ih0aOf6RM\n",
       "Zv2W++ZkA8kaNsSm3vRSRPYm9mBfmd6VyeT4yvSiYqsFUPZlDlKVuF/wEnjZLp7gg7t+Kz1ExIqb\n",
       "p6q0CX7BQsQzl+EcQnQ2vfgMtakqjQXYT24fvxU4AyLTyVpwGgr+zAEYvb2sNfyXXPPSAn0eIccS\n",
       "TuOq//U/dV86R1Nt2MZKnArc9xHvosCmGk4TA0KUERlW2IRHiGuKOY4YcwIuzOp0xiztb5JxxBzk\n",
       "hJxEN2YrdIFyBiQSzTNijsBIuHbnroBMT74NKqlfHhJ57Dr33mlgbOBnYawg8tiVrFhPQ2yK0Tvs\n",
       "33sOl0GO/TYfri4ZNNvuBIYgOK36SxI5q+DyFB4EQXCwtXokm+S9mLjXSwEv5mLTpIRc37T54XZu\n",
       "2MvgE7UWfoSUAalObrjNexn8svcy+D/lKlTgBle9QAAAAABJRU5ErkJggg==\n",
       "\" style=\"display:inline;vertical-align:middle;\" /></a><br>"
      ],
      "text/plain": [
       "<IPython.core.display.HTML object>"
      ]
     },
     "metadata": {},
     "output_type": "display_data"
    }
   ],
   "source": [
    "weak_div_from_denom_bound__all_neg = Forall(\n",
    "    a, Forall((x, y), LessEq(frac(a, x), frac(a, y)), \n",
    "              condition=LessEq(x, y), domain=RealNeg),\n",
    "    domain=RealNonPos)"
   ]
  },
  {
   "cell_type": "code",
   "execution_count": 49,
   "metadata": {},
   "outputs": [
    {
     "data": {
      "text/html": [
       "<strong id=\"strong_div_from_denom_bound__neg_over_pos\"><a class=\"ProveItLink\" href=\"proofs/strong_div_from_denom_bound__neg_over_pos/thm_proof.ipynb\">strong_div_from_denom_bound__neg_over_pos</a> (conjecture without proof):<br></strong> <a class=\"ProveItLink\" href=\"../__pv_it/theorems/9b48e06ab65b6e4083dce1c32fe2a488589df6cb0/theorem_expr.ipynb\"><img src=\"data:image/png;base64,iVBORw0KGgoAAAANSUhEUgAAATAAAAAzBAMAAADiNknaAAAAMFBMVEX///+IiIgiIiIQEBB2dnbu\n",
       "7u5ERETMzMzc3NwyMjK6urpmZmaYmJiqqqpUVFQAAAB6qHgnAAAAAXRSTlMAQObYZgAAAAlwSFlz\n",
       "AAAOxAAADsQBlSsOGwAABQ9JREFUWMPFmV1oHFUUgM9kd3ZmZ3YnE2yDmpIm24A/EdmKVn2wTB8a\n",
       "mmplQ7NSCNqNNivGn6ymD/pipkT7IsQttFIohRXqQyXSbR+07Ya6eUiooHQbQZT2YaO1IoikYH5I\n",
       "W9e7987+ZO+dzKQbZxayd3Pu2dwv556fe+4AWL/4aDQCjr6i0agdtYZCIb1OK75uYYIBMg4VFmyB\n",
       "pdbLEkrWQuG90tZMOwt2w0oh2OYKWCBpqfKiK2CjuvVaWTfA2q1Vgk+5ABYI21A64QKYR8PD2I5D\n",
       "jMmS9IzuPNhmnAukZ2CIztdlqT/vPNjj+H1vFs7Rc2VpcN5xMGERD98CdNCTZSl/y3Ewhfj+NuCX\n",
       "6cmK9FXHwTx5wyKBObpIVqRXdKfBRnDu5O+CkvyZAqtI92edBttMEkE/zKTpw0pFSgzrJNhrZHhl\n",
       "w/uzCWqyIvW1ETDMd90KTMGRnK0LbJs9Ne8cAbtYHI5bgclFo/n1erj42zYL1zIB+xC9izErMKFo\n",
       "2MP1pbFba9GbBj8qBN6cpY8dQ+OeusCCd9ni40zLTkMAOY7f2vm/R2OyLrDAIlPaSdXNf42ofCIU\n",
       "etIazBMKbdHqAuOWWMIOup4vGGDfAAxYg8kJ8NXXw3nnaVkv6+j4rAE2BmLeGgzpjJlrlGy5Wpcn\n",
       "02CfPMZSDBlgvoi3OoHOdF86wkqwA7Cb4bkdJ/5Uq4BWi26F1MLGQvGFPysny5NESj5vMcCCatn3\n",
       "hdZ4ivPCLo0BdpXy/XdvDoKqeT8yBeNZYNWSk8z/oAQGycmSKIOKAsfBlMoA8wdqpDJyTlDVQI8Z\n",
       "mHgpUtdWwp5ijuqd3AVcseQgsI1pMZPJXFwJ5v0FLcO1HDqPPn+eR5VsE2Awrg+ez3RmUlVgTedb\n",
       "UI0Q/tZBaiXFDDv/0hqdH0aR7/MPC0vwEg5gr9ifZVhM3I7e7ldiyPy8Oi+EeQyhaoc31VqM02/6\n",
       "cyC9ieB6GiPD5czAymM97XSoby+BKWgD5bQQhnH8fflAjHm6+AP9ZH0qUhZfbuNiEqZXv+6CWrAA\n",
       "9AsgHSiu+PEMNFskWDqR3a4+9nhSXB6+i8fjOY7zfmV+7GnEdVzRFDXwWTz+NtrK3Tnax9CmDeeM\n",
       "y4rZcgQvswsCVZL+qQbbr/umIgexxTjpVMQUbBh0LPAkBI342Jc7q/IYARPCIvBdmOxReLoc8nfW\n",
       "VsQNi+kj4xGc2lG62Jk2ARPD3ZDmNWhInDHKBUoXfVWaGGzUm5TR0Fzc64ekuZVbZLfYl8Ckiasv\n",
       "gFi8Vjv9gNZ3wcxiZ081RYTnIDjxBjoEIW+TjhzlM8kaMPnBHRvx30Zk16Yrs4+spaauPFr3xuMp\n",
       "66N1EPbBW8gXuuKDtZorw+Ynndd9lQj/zWaXN3evZ/4vYFYyOQHVxrOinq78coW4Lt/0+0H6ZNcz\n",
       "ATwp2Z7YvYJlYXwD2AOTJquq2wgJVBlaVfqOQPux1Fh+qv4PXZJu3fDCZWS6v6hQzJ0DJeZSwyuT\n",
       "K4IEXGB0KrAVPKQY/+r4FYFUyrBbWZPzMEL6SucvVaDTYFgC+vGCnIT7SCVw/hqKhCU/qISB7h58\n",
       "eXiHLObCxR2+6gwu9oUlul2U89Id16468S7xZ9VrPzC8/0YLOa8Ruzl8nX501S4qaQSBC2DD5nmu\n",
       "G/bi/W3IuQHGmXdR7cZzJnce2azykOt6C16kXITtgU2t14NUf85C4QOyUDTabAvMuQepx8g4VFj4\n",
       "D4NgfTi4VJsfAAAAAElFTkSuQmCC\n",
       "\" style=\"display:inline;vertical-align:middle;\" /></a><br>"
      ],
      "text/plain": [
       "<IPython.core.display.HTML object>"
      ]
     },
     "metadata": {},
     "output_type": "display_data"
    }
   ],
   "source": [
    "strong_div_from_denom_bound__neg_over_pos = Forall(\n",
    "    a, Forall((x, y), Less(frac(a, x), frac(a, y)), \n",
    "              condition=Less(x, y), domain=RealPos), \n",
    "    domain=RealNeg)"
   ]
  },
  {
   "cell_type": "code",
   "execution_count": 50,
   "metadata": {},
   "outputs": [
    {
     "data": {
      "text/html": [
       "<strong id=\"weak_div_from_denom_bound__neg_over_pos\"><a class=\"ProveItLink\" href=\"proofs/weak_div_from_denom_bound__neg_over_pos/thm_proof.ipynb\">weak_div_from_denom_bound__neg_over_pos</a> (conjecture without proof):<br></strong> <a class=\"ProveItLink\" href=\"../__pv_it/theorems/a454b4b4e9a290cfd11eb6c2f23a805f4a315bed0/theorem_expr.ipynb\"><img src=\"data:image/png;base64,iVBORw0KGgoAAAANSUhEUgAAATcAAAAzBAMAAAAA6lKjAAAAMFBMVEX///+IiIgiIiIQEBB2dnbu\n",
       "7u5ERETMzMzc3NwyMjK6urpmZmaYmJiqqqpUVFQAAAB6qHgnAAAAAXRSTlMAQObYZgAAAAlwSFlz\n",
       "AAAOxAAADsQBlSsOGwAABP1JREFUWMPFmV1oHFUUgM/s7vzsz2wmYLUaiGsUIm3BrbRYQWX7EEzA\n",
       "2qlkixDMbopdq6gE0xcfbCYUnwpxfQgKElixCIVI0vpgmi3thlJpHyTbPvjSQjfaVpSCCbg2GOt6\n",
       "587fzszd2avG3PswmZx7zsy3Z+4599x7AehaNpuFTW18NqvS6j7VWN+gtwqjwVCHTbVGI0/7yG0b\n",
       "5pK7bfrfsxyW2Hy4ZKaNgpxiB3elrcbLzOCkPW1VQhVWcCGlrYq8mxXcRQqdz1jB7TI+7q2tBA9a\n",
       "0lmNDRxXx3++0IS6v9OSRmts4EL4vfxzEE/5068llets4Mbx9BBfgZA/3dlSfpUN3I/4Gs5DruTr\n",
       "c6SH2MC9gK85BZb8fY50SWMBJ/5pYFThZ1nzwdnSXIUFHLdmVByKvD3uL1dsabjGAk5IG3G5/OLk\n",
       "Q/5otaVCyoTDkDdo4Cg1g1qYzhmRFRNuQf/7KQ0cpWZQy80RJ1PvQxN/mHDH9HkjTwNHqRmY5kjT\n",
       "fmK7tx4XV024KOqJVGngKDWD2k2COfeEb63Ar5twCRS2UaqAoNQMakv+9cPgYwS9v6xofbqnZxdd\n",
       "tNJpBrVHfcltaAdJ73cL7huAw8RlkA+ulSZ92+/9gsPTRL1nLbhJkGqkYfoTTFzVXHAtNM3wt6bv\n",
       "ILgLXrgkGa7HghPUSPMkfG3g/Mf6UEBumoKiC86j6TawoAR3ljji+vdXfO1o6A3nMjjhfNYm6eMW\n",
       "nKzYo1zsLpS4CPRn4EQ/+q5p2O2Ca9L0GZDh5BEgwLUPCBsOiouWrIyCiePgkiLpLFIKet3Tl6Pp\n",
       "NSDDJd5u91nJqcT5rLBvSv8Bi/3A6cUAeteWOUj8gj23xw2HNTvnu9BQjHVDsskgUj5TXmiC47om\n",
       "5oF7R7/9vAb2SN2vUSVhJyDgOLLlnxTX4CB+bEQaQe+U7yJHecYc1uS0O1GUSg90qGMuA7fntibz\n",
       "0+LzOOiVupi2Uwlxn0T+hFj2YbgksojPoSfM4HfFX8dTlLgAEzfc0Yo1EzAiotsPr8GDLgM3XEVQ\n",
       "RuH7Pn1wvJbi8gFJmNjWXSVTuMTV4EqhUKhyXOSr4JLJqMluwbLLwDPmOvTf9WUf3hxJ2jPqzRLd\n",
       "9tdvLricJlxSj2JHcLGTqlQum0PIDyemJUPwDDgGTp4z4cZApzs2jxZcpbDtr/EKXcG86vacNj6j\n",
       "CioeQtA3F+C545FiHAYBemMrQDLAcFJ6ALBs8jaERmftzg7vk1/p0VuvdxDed8HFzl19CaQ30N2p\n",
       "hzNDZwPg4o/s3QJjVbj+bZFoYHju9MlOIwQ1kM+96Sxbi/+gmveU6YOFQomuTK/ymlAhGghey1fB\n",
       "yXbJNN0e3sp/WUPE1KRyqsUywStYjjnuShhreb7z9tF9/jDoqsBwUzX/b+ESEFvMtIMTUSwXjsDM\n",
       "A00j/b5ZHHQrZ/ylg5w2F64fKf/T6kuiWFRfhiXVvzX8QTwFdxguquFrfB0FQsiBGlZgJ777gc12\n",
       "xKwZPzuJnap4D98w2sgJGYkutgaEM5ezwKWbwmbT4fB7+bdQSiHE07sg1JxNPEbbrvK9oXSMsEg8\n",
       "D7MVltuuKEyR504r178j9A3vvaAZHmQEF80E9Q7gAVlnBSe2PiSJFHlcnoaqrOBQidoykhXjXIzd\n",
       "8VLAwZy8iEtIeyqmh9uxYYfB02363zdqLT57gBpu8w6Dp0y1RiP/N8uWUlwmz781AAAAAElFTkSu\n",
       "QmCC\n",
       "\" style=\"display:inline;vertical-align:middle;\" /></a><br>"
      ],
      "text/plain": [
       "<IPython.core.display.HTML object>"
      ]
     },
     "metadata": {},
     "output_type": "display_data"
    }
   ],
   "source": [
    "weak_div_from_denom_bound__neg_over_pos = Forall(\n",
    "    a, Forall((x, y), LessEq(frac(a, x), frac(a, y)), \n",
    "              condition=LessEq(x, y), domain=RealPos), \n",
    "    domain=RealNonPos)"
   ]
  },
  {
   "cell_type": "code",
   "execution_count": 51,
   "metadata": {},
   "outputs": [
    {
     "data": {
      "text/html": [
       "<strong id=\"strong_div_from_denom_bound__pos_over_neg\"><a class=\"ProveItLink\" href=\"proofs/strong_div_from_denom_bound__pos_over_neg/thm_proof.ipynb\">strong_div_from_denom_bound__pos_over_neg</a> (conjecture without proof):<br></strong> <a class=\"ProveItLink\" href=\"../__pv_it/theorems/db44bd65a2e00cd38d919ec48897e08bd3031ed80/theorem_expr.ipynb\"><img src=\"data:image/png;base64,iVBORw0KGgoAAAANSUhEUgAAATAAAAAzBAMAAADiNknaAAAAMFBMVEX///+IiIgiIiIQEBB2dnbu\n",
       "7u5ERETMzMzc3NwyMjK6urpmZmaYmJiqqqpUVFQAAAB6qHgnAAAAAXRSTlMAQObYZgAAAAlwSFlz\n",
       "AAAOxAAADsQBlSsOGwAABRhJREFUWMPFmV1oHFUUgM9kZ3Z2Z3ank9oGNSVNtwX/QLaiVR8sUyGh\n",
       "KVY2titK0G60WTH+ZDV90BczJdoXIW6hFaEIEepDJNJtoJp2Q90ICQpKtxHE0j5stK0KIimYH/rj\n",
       "eufe2Z/MndmZdOPMQOaSc8/O/Tj33HPOvRfA/uHi8Ri4+sTjcSdqDcViZpVGfMXGBD2k7SsuOAIb\n",
       "Xi1LSDkbhbdLUzPtLthlO4VwqydgobStytOegA2q9mPlvADbZK8SfsQDsFDUgdIxD8B8Cm6Gdhw0\n",
       "6SxJT6jug23EsUB4DProeF2WBgvugz2I33tyMEb3laXhedfB+EXcfAOwhe4sS7lrroNJxPe3AXed\n",
       "7qxIX3IdzFfQLRKao5NkRXpOdRtsAMdO7hZI6V8osIp0X85tsI0kEHTDTIYuVipSYlg3wV4mzYvr\n",
       "3plNUZ0Vqb+VgGG+S3ZgEl7JubrAtjlTY+cI2Bmt+cQOTNSMFlTr4eJuOExc1wnYe+gdSNiB8Zph\n",
       "D9UXxq6tRG8agigRsHlbHzuK2t11gYVvGSXP56wtOw0h1Bu0d/4fUJuuCyy0SCE8KZsp/quvyoci\n",
       "kYftwXyRyGalLjBmiZatbTNRXNDBvgbosQcTU+Cvbw/HzpsIvz1Fyx7XwYYgUDD5jAEM6QzZD15r\n",
       "lyeagcGFcUoU0cH8MbY6gM50nD2sfcYYYHtgl4lDbzn2Z7Wf1FrdEsmFa4raU8mWI1cqUiLZrIOF\n",
       "5bLv8y3JYYaFnYoJ2HnK99+62guywr5vCcaZgRmfEcqPSmCQniyJsigpMAxMySZgwZBhCYnIOUGW\n",
       "Q51WYIGzMQdT+YflVMJuLUbtndwJjBZXENj6DJsdy55ZDsZeQMMwzQc1n/isgDLZBsBgTBd8mM1m\n",
       "h6vAGsebUY7g/1ZBaCHJDHvtkpnzj1s7Pwwi3+fu5ZfgWbyq2UB3zsRige3odaeU+BQpy/N8lMMQ\n",
       "snJog9FijHo1mAfhNQTXuSbWXw4Xiw7DxfYSmIQmUMzwURjFvxf3J8ycH35Hfzm/jJQDL7QyCQGH\n",
       "bfmrdjCChaCbB2G/No8fzEBTjQC71jTA3qgue3zDTAG+TyaTeYZhvzQFI2sK53FJkeTQx8nkG2gq\n",
       "d+VpH0OT1p/XDytmyyuYKqifMU9J/1SD7VP9U7ED2GKMcDxGxzH96QcVC3wpXiE+9kUbBcZHA8C1\n",
       "Y7L74dHykr+5siSuW0wdGI3h0I7CRVvGolAMRDsgwynQkDqhpwsULrqMYINsWrN3k2aPe4S55VPk\n",
       "NNmXwISJ809BQDtWG7lL6TptVcGePN4Y45+A8MSrqAhC3iYcPsJl0wYw8e4d6/G3EdnF6UrvfSvJ\n",
       "qctL673J5LB9aR2G5+B15AvtyV6j5vIA+7PKqf6KH/3mcJc3d7s1/+cwK1hUQMaUJMkjlX/OkXjL\n",
       "NV45QFd2nRPAkZTtS9wuWA5G14EzMGGyqlQaIAtVhBaZPiNQfiptLD+S/4ddkmq/4YXvkOn+opZi\n",
       "fgykhEcbXpEcEaTgtEnwgq3gI+H2V9ePCIRShN1q1jkPA2Rf6f6hCjygMywBfb0gpuEOkrncP4Yi\n",
       "y5LrlaJA7x78BXiTDObBwR0+6gwvdkUFersoFoSbnh114lniTsoXfzTx/svNpF4jdnP5OP1IzV1U\n",
       "Wl8EHoD1W8e5DtiD57ch7wUYY72L2qTfM3lzZVPjkutSMx6knISdgU2t1kVqMG+j8C4ZKB5vcgTm\n",
       "3kXqUdL2FRf+A0UFfqZduce+AAAAAElFTkSuQmCC\n",
       "\" style=\"display:inline;vertical-align:middle;\" /></a><br>"
      ],
      "text/plain": [
       "<IPython.core.display.HTML object>"
      ]
     },
     "metadata": {},
     "output_type": "display_data"
    }
   ],
   "source": [
    "strong_div_from_denom_bound__pos_over_neg = Forall(\n",
    "    a, Forall((x, y), greater(frac(a, x), frac(a, y)), \n",
    "              condition=Less(x, y), domain=RealNeg), \n",
    "    domain=RealPos)"
   ]
  },
  {
   "cell_type": "code",
   "execution_count": 52,
   "metadata": {},
   "outputs": [
    {
     "data": {
      "text/html": [
       "<strong id=\"weak_div_from_denom_bound__pos_over_neg\"><a class=\"ProveItLink\" href=\"proofs/weak_div_from_denom_bound__pos_over_neg/thm_proof.ipynb\">weak_div_from_denom_bound__pos_over_neg</a> (conjecture without proof):<br></strong> <a class=\"ProveItLink\" href=\"../__pv_it/theorems/982098b95cc05c23f562f11fb8ff924edb2909ec0/theorem_expr.ipynb\"><img src=\"data:image/png;base64,iVBORw0KGgoAAAANSUhEUgAAATcAAAAzBAMAAAAA6lKjAAAAMFBMVEX///+IiIgiIiIQEBB2dnbu\n",
       "7u5ERETMzMzc3NwyMjK6urpmZmaYmJiqqqpUVFQAAAB6qHgnAAAAAXRSTlMAQObYZgAAAAlwSFlz\n",
       "AAAOxAAADsQBlSsOGwAABSRJREFUWMPFmV9oHEUYwL+923/Z27vbgK3VlBhDpdJWPaVqH7RcwdTG\n",
       "P3QDuagEm4voWYuVSPTRZkO1L0K4gilCbTixCJVIrrRo2oT2glToU64RfLGQhNZAQWl8CAasxNmZ\n",
       "ze7tzd7elMbMPGTnvvlu75dv5vszMwBsLZPJwLo2KZMxWXWfWPlnjX5V7gsf7yJM8spKlvWV29bM\n",
       "JH/UGVcecTr6+sMl0vU0ZvjBXa2rIc7xglN31dfZwQsuYtTX+cXkBPcTg05DkRPcTjK5NzcFWHBV\n",
       "qi3zgROW8OMbS16iB13pCB+4CPZE6TmItdA5wZXOmlzgBnB6iC1ChA53nrTH4AJ3A/+NZqGnQI15\n",
       "UrmFC9zuVctM02OeVF/mAafcIRhluBW3KDhXKt3hASeQICEb8e0xulzxpLt5wMkp4pfzLw7dT3ur\n",
       "J33LgcO+fZ0FjlEzrEUZjbHfgbtoP79kgWPUDGs9xWprfRWoN10gcEfsvJFlgWPUDA1zVNLqfLim\n",
       "HoJrQNFYLLPAMWqGtVn668IWs4aFEZxeQj/L5BCMmmFtOmD/oAfQJeccb32qtXUnm7eyaYa1h6wA\n",
       "YfwkJU1mHbgfAd5hg2PTDPXCwN2eNlItjuYduCFQ56iQc95WH7xm+eCCNOn0HTZ4ORjuRLU40uLA\n",
       "yaZYmYRn2i8dR175MuIahrwPrkrTmZQtJ29V+qDsHz3o+3ibPFZwc3VGLE+6SOBSDlzccFe50pwr\n",
       "CCLsQ4WL1FSQUvC0D65C02kfLhwCIy1+Wgsu3gtBcH6H2E6b04WD/NSqbAI5kyDAFdsS6ja1Bbb6\n",
       "05en6UwhWoVgGHpHDTj9/frTGhhK3GmFV4ftYDi1D4QSYLgNKMoo501kuV1+OKzZON6EpkFrhgRs\n",
       "BgwndMPnExMThQo4oWlwHITDdvfrOXBX6n6LLQi7DgFH0XelR5Vl6MKvFdXeEmj2oUG+as1hTcFa\n",
       "aEChtCNp9ks4XRjpY5spy21KZE8pz2PfMpaUlBtK+tjSV3Q1zkECfSNWRG8YxXCxt7Mg/Wl3B6/7\n",
       "vRVr6tCroO5nM7BRK2G4H/YCBVeSjT74tc1eHm+2CNmwIBzUksXKkilaEObgai6XKwuC+H14yURq\n",
       "spswr5/I5Q6jaX2pTK+5pP1/fduGD0cSrjfPFhgLhHQlXI8lXzE/wpYTtNOmipbQxRpwSkolgmeV\n",
       "NFlz37XRcP1g0x0ZR4u7EHXtNVC6iwLBs5w1MGrKJl5z0FYMsdxRMR+DToCt2iLJFyiUdFfDqal2\n",
       "wC8Z+h0ifWP+6fKtuVbc+oIKBBdOm7z2Cqjvot6ZB9LdF0LgYg/u2QD9Zfjt5zwcQy/Vjn8hTeSr\n",
       "LXf2dCOJEBbEJ9/zQkT+LnJwVZnemcsV2Mr0smTJJZD25g5RlXi14HXwol0ixQZ3+172EJqZMM7U\n",
       "2CZUC+Y1z1y6cwjR0fzaC1RpJzWV4ADpPnMvcDpoU+l6cApy/txBGL2vYmv4L3kWhXn6PEKMp5yN\n",
       "q/rX/7T7Uhk21bqlLyUox/0E8S5w3FTDOWJAiAV4hhk14EmyNPkcR4w5DhcNOuAcM5W/ScThc5AT\n",
       "cQLdmCXRxcgFEIg3T/M5AiPu2lW4ASI9+AHIpH55nOex6+zH5yAggV+CsRLPY1cyY92N8cmADfCB\n",
       "PZdxGeTYb/3hGtJho+2OY3CCU2pfkoh5CZen8BhwgoONtT3ZIPdi/K6XQi7m4lOkhFxN2uxwO9bs\n",
       "MvhUvYkfJmVApoMZbv0ug9/wLoP/AwffT+3WtuqNAAAAAElFTkSuQmCC\n",
       "\" style=\"display:inline;vertical-align:middle;\" /></a><br>"
      ],
      "text/plain": [
       "<IPython.core.display.HTML object>"
      ]
     },
     "metadata": {},
     "output_type": "display_data"
    }
   ],
   "source": [
    "weak_div_from_denom_bound__pos_over_neg = Forall(\n",
    "    a, Forall((x, y), greater_eq(frac(a, x), frac(a, y)), \n",
    "              condition=LessEq(x, y), domain=RealNeg), \n",
    "    domain=RealNonNeg)"
   ]
  },
  {
   "cell_type": "code",
   "execution_count": 53,
   "metadata": {},
   "outputs": [
    {
     "data": {
      "text/html": [
       "<strong id=\"distribute_frac_through_sum\"><a class=\"ProveItLink\" href=\"proofs/distribute_frac_through_sum/thm_proof.ipynb\">distribute_frac_through_sum</a> (conjecture without proof):<br></strong> <a class=\"ProveItLink\" href=\"../__pv_it/theorems/dccdca0ad1524f2b47620cbf46a4d4ed81f7a4d80/theorem_expr.ipynb\"><img src=\"data:image/png;base64,iVBORw0KGgoAAAANSUhEUgAAAskAAAAzCAMAAABSfWWJAAAAOVBMVEX///82NjYbGxsSEhKIiIgi\n",
       "IiIQEBB2dnbu7u5ERETMzMzc3NwyMjK6urpmZmaYmJiqqqpUVFQAAAAnLjGdAAAAAXRSTlMAQObY\n",
       "ZgAAAAlwSFlzAAAOxAAADsQBlSsOGwAACB1JREFUeNrtXYmWpCoM5c2gLCqL//+xD9BSZHMpXIox\n",
       "Z6a7YyHk6gUSiBYAOQQbAa+8coPkZF/VK2ElXR1CS7znP4oKE5xQAdHsI5mY3BV2yyUvkcg/i4pW\n",
       "OKFq4S+Tw7ccFUnk30UlqpT6MjkmvC2RyD+NCsmU+jI5LE3dFEjkH0dV8ZT6MjmMBm4t2e1yPLvd\n",
       "bmrH70D1TP+ixgn1ZXJwFq63X95d7BC7uSTgHaieKS1LqS+TA1KjEplc/3oQ2/VNQn2Z7AvsrXkL\n",
       "QygxRUhsY1q6+PdMXjEnE6qQHG8Z5GqklQn1ZXIAi32F1BQGJQSs2sa0dPHvmbxiTiZUITneMsjV\n",
       "iOhxXH2Z7AntrX0wrmYwrq6Y2VLA/jKWwzS7OEZISpyXyQtzzkMV8rLTyDK58ml4uIdx9WWyJ9KO\n",
       "jPTtZ+OdphBaYwWrtNS1+SUDxZkplCqdHp7W6j8FVbwnxJBlHURW4JEqrr5M9iMjl2j11PX9naXA\n",
       "KPsp3qtL0vQ0e8RXw9NRxeqII8t4+RPwuBPk2erLZH8a5oGQeci02sLkqTjHpzB5rp9xNZ6yM1Al\n",
       "1g4iyPIuUMTg4SWKhfoy2Y/xrY6OSTfMy2jTmOwUV7+rrH6yXT/mXa1u5MZ9u32oAi7qCrI8Kxer\n",
       "8JyZxVZfJnu+WL0Ijylm6kAnNjHZKe6lbDlMxn3r/GH9tVZ/g6Eu2uMTUIWWDdLIssg6vISj/DLZ\n",
       "89PsK4IZhEAwLrb5yU7xxkmj9cbkirl/WH+t1i/VZ119BqrAcLmCLM+YvAoP9VFVMXkeoQX/kslZ\n",
       "qrpXcOp5gU0R3ySNqqlpskd8MzuVp8oYoPlRrYmP7IwhJQCP911MVUxmk9Y2XzI5S1V3B3xwzz1P\n",
       "ZPg0hFLK8MbSsQAoUb8ekCoqaH5Ua0T2keWXIDwHh60qJlM5Gfitd5GlqntF9NHt2Aa1Pdo+qtb6\n",
       "kZz+PEs7fbEh4qegSva5CLLd/TR5QhCeM7fYqvaT27F3fbOlPvrJOaq6V3hf4vN7u1EdyVzafc6B\n",
       "RnoZUzWT+cj7b54oGJmco6p7BfYlJtnvRvVYJpOYatYuhh3Rr7L+PmsXGaq6V1Bf4rsOdqN6KpPr\n",
       "NqYaJjMz9WxdWEEpJu+r6kxJbn7F7WO/zOQhV2MU+Q2qpzK5qmKqYXIjPz8OU+TD5H1VZZ1ACZOw\n",
       "ma9NKuZExlqEoN8rZQ8KlN2oHsvkOqYOOyN6DEXRvY2mYvpDPu4NJpm8UlV2oVAS0umNTqk8QUHQ\n",
       "FiYPPY3rlXeSvuf9T8heJidrCWftpRvenem3p5EFvjUm687RxmkiJECKoOMKYprJkarOmk7ZGJMj\n",
       "bPo338RkacIfvfIOvEiIFekn/yveheYeh3GaCPUhMw4yYoxV6n8XZbJVFYSsUf9cLyB4NOgvREp2\n",
       "UPdis9z4WW3EnA4GNCEmzycMqqF7Y25uLbzY6IfXLqJ+Mipl7WIl4tPrv+NKsJVLN9EECCo65YGi\n",
       "DX6yVRVsgCSgdagSPhokcqSkGn0VCWmtXYrJwka4t4oETmBEy1/1nwNqmOy+NQHAIteTYSnryfFk\n",
       "uJHJzXjIyqWbaaKYrGZv0W1j8qcqoOoh0MsKCB8NSaxkg/X2KiT2HhHHHEeZPJ8ArB46MNnL6353\n",
       "RjIxOZDfl0702yRO/oizx2dcRzre9CmXztpK1HvfbKLCCpM/VYHZC3Uyp4ajnYBsLTKMzIn69WY6\n",
       "U4q3ZowlAlDa0SiT5xPM5Rw/GLwLbxdX9F2BTN6NKsOYHMjvSyb6bRHco5jqZXVOuXQzTQyTMfoE\n",
       "cmiFyVbEWBvHlYpFMut4VHsHK1H3WDLYmI7X6GzKGPFZC8UkcIL2Lv78R4x3EYn4vIcripDdqB7q\n",
       "XaQziBxH5JNLZ9HE5CN1yXZ9Jjc1QO04gg9MVp3BOtoMTDVHQz/mkpx1XAzWmE9BRUHXf5b8xtaQ\n",
       "CQ1ReD15OsFKclIB5Zimkpy/CpG9qI68xStvBlFkbhEx1WWylUs304QbmkK5i8mAwQ5BiGcmU71Q\n",
       "YB0FeoVvOErrZvnDLim0X1OBqQqdjE3awW2ZfAqM1BzCaNi7mE5YbD8iBAOpiVWRr+ksBJWTP2Kr\n",
       "LpOtXLqJJrQaso13Mtn+dCTM0imdFvlCnW/h8VDQtPMHWFlD+Mhf7SoE27aAWSesT2iyLpHJhaBy\n",
       "9irl8pmRuHsdp8kxJneLERBhAP2jIFBSrzzw4ZD+qVz5bn2IIQvf/3PC+nm8yK2RQlDVJKpe8Rwf\n",
       "hfWQr7xwi9q+7yvv6LwCZ/UoNRmIMeWaG/cKbsi1s3dGphPEer+k/Xm51RgyPgK6POQTGYy5yP5o\n",
       "M80y4Fuo5T6Renirrj7vPiEgzLLQDVlKPqoDxlxkf7SZ980tu4Sd5lJSMbyESpIHoDpgzEX2x5uR\n",
       "VVx9mez76KftjeBxT7GGD0B1wJiL7I834zxX+77hcA0LO5FP2Hlt5o2oDhhzkf2RZpywlb9vnb0v\n",
       "zjcvooT1M1AdMOYi+yPNOKnP1fsm8NXo6LTHEIn8/HgAqgPGXGR/uJn32xkeNCgzqe8AfwaqA8Zc\n",
       "ZH+4GYfajvoyOSTtWYMylgiyu3L5XVQHjLnI/mAz3bInOurL5KDQM7+DEbUPQnXAmIvs95qpREp9\n",
       "mRwWSE67O7gWz0B1wJiL7A82837b7zE557vK9beU3vkt6Iu2Dxhzkf2hZpxMGz/xJhuTOca4pNSb\n",
       "9oyRR/D152QuQ3XAmIvsDzRDW5xQNfdyTaOVfi9BUTnqpMTn+X4VFXaY2zqvutfsI/8D/iR9Bshx\n",
       "ZYkAAAAASUVORK5CYII=\n",
       "\" style=\"display:inline;vertical-align:middle;\" /></a><br>"
      ],
      "text/plain": [
       "<IPython.core.display.HTML object>"
      ]
     },
     "metadata": {},
     "output_type": "display_data"
    }
   ],
   "source": [
    "distribute_frac_through_sum = Forall(\n",
    "    n, Forall([x_1_to_n, y], Equals(frac(Add(x_1_to_n), y),\n",
    "                                    Add(ExprRange(j, frac(x_j, y), one, n))), \n",
    "              domain=Complex, conditions=[NotEquals(y, zero)]),\n",
    "    domain=NaturalPos)"
   ]
  },
  {
   "cell_type": "code",
   "execution_count": 54,
   "metadata": {},
   "outputs": [
    {
     "data": {
      "text/html": [
       "<strong id=\"distribute_frac_through_subtract\"><a class=\"ProveItLink\" href=\"proofs/distribute_frac_through_subtract/thm_proof.ipynb\">distribute_frac_through_subtract</a> (conjecture without proof):<br></strong> <a class=\"ProveItLink\" href=\"../__pv_it/theorems/21946483eadc44ac7de7dc1d2e972283396c81a20/theorem_expr.ipynb\"><img src=\"data:image/png;base64,iVBORw0KGgoAAAANSUhEUgAAAT8AAAAyCAMAAAAdkSzzAAAAOVBMVEX///82NjYbGxsSEhKIiIgi\n",
       "IiIQEBB2dnbu7u5ERETMzMzc3NwyMjK6urpmZmaYmJiqqqpUVFQAAAAnLjGdAAAAAXRSTlMAQObY\n",
       "ZgAAAAlwSFlzAAAOxAAADsQBlSsOGwAABRRJREFUaN7VW4m2nCAMtS37Dv//sQXcAB1ER8+gp32n\n",
       "vmICMcm9CTgMXV2UDS+4CCV9Tszq4RUXg10a0OLhJZeBHU5Ki+E1F7bdTYkj/h77DbC7VAPBi8w3\n",
       "GNRZCtToaQ3KfIO5orCXUH3ZDyXgQQCwhGFcWzABKoQQaU5EyrYL31FRYq50XaUb4JLp+VcLLBhU\n",
       "DeWwD6Hgtu4sOrUI31OhizcluoIQmMxG8zBpUqWDzIwWsLSRss35qkX4vgqae6xxHWVA5pLKI/xT\n",
       "iSz5wPUaB/q5owA4qBF1BP4k/HP4FipIDhnEdQR4tkSPY7vI8P4zu9fgMnOWVqMXKlQesbQjEo3s\n",
       "sM3OpBog0YlAI2pDfE74rgqeQ4buB0GY02l5Lkd/rJdz1M4/WuSTc8L3VVCcB3A3HBqkr9I4RpRf\n",
       "ojSHfEQ2LmFFmUbh+yoKjoq6QWCaTowoAAaj9MEKicVANYbQaoNG4fsquDNlAlxNaH7ojYheew6L\n",
       "xvC9nqkyFTArOrAnhkouCP+7bEicurQugtpKsmaSfaQiJz7ayYHNDsjp79yPXaBSod3Q2jC01zpj\n",
       "WxXAbaY918XY/M5+xp1XbjRYY+ckO7qswmR0M4aNntLeL5uX2j277+HwbYGSvWgX3guKVRH6Ze8c\n",
       "PMxEbyNqBeVzIeep+O5/uqWEbyrFVVImJw0J7m7LTXmiRiFouZ1/3LGCej3+6alnWxnsRvtlYQrh\n",
       "7HpYXgs8qizgyTupgPioAmOwzRQ2gzV39jpuA8hd4ZX2TjF0/V3mIDDSfgNOogcDlvoy0teS1uct\n",
       "k1aFn+03erj2uiSt269r/9uxnzeePsO/lJreESbxMd1kPxshAoVHN2ihns1/7Kn8N8avp34zCQRA\n",
       "cf9ncnsQprBMg0HBpfc6MEMQ0WyMC75rv3n8JAyPmTwo2lQN+Fn85fc1SnJJaAxbPvNLwEOnQozL\n",
       "887lV8uWyl4xiVUI2oVMcrNZdmK/afygaLj++b966iNt9k7Bs/zvvk5xgeSz3ew0fb8uCobphpNw\n",
       "SgEkFuHBh+SyeE00qdhvGj9ZSCd9uE3792n+jO7aa2ROfs6G468Slwq1nwUJbMS1iuhP1AyMSVaz\n",
       "H1sfnZ12jN9NOjJOPmo/cVdtn28DkG1dE8J1sSCUU8IfM5gOPjmw9ZkJP1Jil0x0Gh/j9+8fGuP3\n",
       "A36whzu56q69eQxrbQ+OYssmJLloJM+FZGAW8Y4LwyLzWCsVjiPU4F3+t4wPihYQAoG/2ANa8EB9\n",
       "fRM/z7cLNm0PBSQGIOw5RYg0SlMxTHeKaBRbhHw95EiwD2bFduN3GZ8Xh54/q+1i4LPdC3IXgcnj\n",
       "pFa2e4XE/y/V810yGxyCcT9j7SYacwh/9uHDL/Qe/y7ObFRovyQROqRY7honupu+7wgwFkorfjFP\n",
       "5hs/7aKKkcV2QWXXQUcAmEvV9lnvSTTH4HpcIRABML18apGkAN8uqhyZE3/+wAGEq3XEYYc4ILkH\n",
       "/MvAKa6IKkYWm/Ud7Z83MQyCv0BRxK6JSkcWdaft6PyGPGbQ/KtoyQ5Xt4tKRwJR6yX8+IJHCBnr\n",
       "xi8cUOgLotKR5fls3dP5tcPZmBg7X3TJCeSnRaUjCSwgDvZ1BL++gcUopgDDb9oMfGrStYvKRlJd\n",
       "5YKdOyAOJ97Fd10Gzk6KSkcSWS3lOrjEa74+Gt2vt0+42Lu+nzHdTQnQ95ivw++33vT9oOzzUz1h\n",
       "3mE+Jjr9APgl30+v5vsPADo5uHBKzTsAAAAASUVORK5CYII=\n",
       "\" style=\"display:inline;vertical-align:middle;\" /></a><br>"
      ],
      "text/plain": [
       "<IPython.core.display.HTML object>"
      ]
     },
     "metadata": {},
     "output_type": "display_data"
    }
   ],
   "source": [
    "distribute_frac_through_subtract = Forall([x, y, z], \n",
    "                                          Equals(frac(subtract(x, y), z),\n",
    "                                                 subtract(frac(x, z), frac(y, z))), \n",
    "                                          domain=Complex, conditions=[NotEquals(z, zero)])"
   ]
  },
  {
   "cell_type": "code",
   "execution_count": 55,
   "metadata": {},
   "outputs": [],
   "source": [
    "# distribute_frac_through_summation = Forall([P, S],\n",
    "#                                     Implies(Forall(y_multi, InSet(Py_etc, Complex), domain=S),\n",
    "#                                             Forall(z,\n",
    "#                                                    Equals(frac(Sum(y_multi, Py_etc, domain=S), z),\n",
    "#                                                           Sum(y_multi, frac(Py_etc, z), domain=S)),\n",
    "#                                                   domain=Complex)))"
   ]
  },
  {
   "cell_type": "code",
   "execution_count": 56,
   "metadata": {},
   "outputs": [
    {
     "data": {
      "text/html": [
       "<strong id=\"distribute_frac_through_summation\"><a class=\"ProveItLink\" href=\"proofs/distribute_frac_through_summation/thm_proof.ipynb\">distribute_frac_through_summation</a> (conjecture without proof):<br></strong> <a class=\"ProveItLink\" href=\"../__pv_it/theorems/9b87e8a59dfeac8f08de5be7261e0a574ad71c3e0/theorem_expr.ipynb\"><img src=\"data:image/png;base64,iVBORw0KGgoAAAANSUhEUgAAAscAAABMCAMAAAC2wOouAAAAOVBMVEX///82NjYbGxsSEhKIiIgi\n",
       "IiIQEBB2dnbu7u5ERETMzMzc3NwyMjK6urpmZmaYmJiqqqpUVFQAAAAnLjGdAAAAAXRSTlMAQObY\n",
       "ZgAAAAlwSFlzAAAOxAAADsQBlSsOGwAADNtJREFUeNrtXYmyrSgMdGZQQGT9/48dd9kUg3r1WKZq\n",
       "purdeFzaJnZC0KI4aA0v3mW16U3fc/SnwvknqJTDQcZ/sZIA/QdM6OJ1PMaytXv49Fg4/wSV7ghS\n",
       "TzwtsAb6801V5H08Zrcd+7lw/h0qcuZpUckMf46R0/b08fjZcN7CYx47aMqfY7opPh6fZw+G8xYe\n",
       "F5rC/VkXxz8en3lk/qHi8JQZBfbnJNcvDMc38vjJcN7D44KWYH9GVvLGcHwfjx8N5008rg2C+jPi\n",
       "R1l8PD4xHJcfKj5PC1pB/RmXhj4en3lc9KES8FQFCjjlh2fXhnw8PrFYscDZmKocrar6KayTkGYb\n",
       "/3omjwvTAP1QI4YWH49PMxtObiyJQTg2J4Vq5MYujn6Ax9rUMD/8eOrj8Zm3z4ITG+FwXMOlM6LG\n",
       "UK1pI+ZYrrC/jXw+j7nBMD/U6DtlxV08duFsvNqFzjin8YlLp7luEj6BG3ILKpvyxuNpYSqYH/wc\n",
       "fGW14i4ee3Ay43ZaEJRxHWjMhMbfijD6SnEHKtvyxucp9YRDyg8O//jj8ZlPU+z9+2j2gcb7i6Y9\n",
       "x+LW7r6kXFTg8sbnKQqQ2faD02v+8fjMagX3/3Awt6PGjVcqltg38nJUoPLG52ntVSRSfqBVpvh4\n",
       "fJ4FcJLqYCI+BvS5LC3wJFF6gUH65t3dLbzZqIDljc/Twqs6pvyfPL6RxxE462MID/xhuFRe6MWF\n",
       "qmY6yOZqVMDyJuCpl/Om/DBTL60e38TjGJxe8Q3MH40xthZwjISuVSG6ATK0PKrqalTA8ibgqXAV\n",
       "VsoPM/HWNO8eHkfhbI6cCfVvdzVQuo18VXff+/+1F3s1KivyxlE3jrwJeOqlvCk/zJqXzoLcxOMo\n",
       "nPhIPA6yn2oKzbzTk/UQHvnV8XhN3jjqxpE3AU9rt0Kc8kPzkvrj8ZlpXggn3xdmOEZIojq4Cj/A\n",
       "z0wSHWnQcO9VeTEqK/LGVTeOvAl4SozZ5LHnBw73l87m3cTjCJyby9prpCntyaFQVB6gIPmhk4qk\n",
       "evpfSwoKRaUxK4Yg8sZVN875BzxtwamL/X6QMfPWststPI7B2WzcHCFm5xDJdChUApUybdO9W4Ab\n",
       "aatVACrKeLQhjCNdmZWH+6q8sdWNI29CnpaO6Er5gfl1+fH4zHJFACd1y6ykm7/VI2PtCbCBkN4p\n",
       "i24WzQuQ9XQIojES40WWHIyKNrF7L+NkWpc3trpx5E3I08aJ9Sk/UPY0H4/PsxBO5OZ4DHUtFm0I\n",
       "q9s7T6jzU0P3TcqVVhjFzahdMlAp468VEjR6YWvyxlY3jrwJeaqdwZDygww7tQ5UloeyPrbbx/L2\n",
       "DDnBO3iM/dIR93jdkIKRLmqhdkPu8JYose91VeOsWUdhUg1RUcgMVLpXZMV+J1isDrMmb2x148ib\n",
       "kKfu9aX8INPOT/GxVgukdvv2tH4TTMumQazG1vb7T/EOHmvvTng5nqp6Wuv2gjTqqlS0NzXojY4P\n",
       "u45C+wsr0bCn7jD7C682Ku0jIIqRDEP0uryx1Y0jb0KeYudpteJfAFSAl9lQZ66pI0nefvrtx8EY\n",
       "aY3Kaf1uk452GyIMFdb2cB7nXxDcqDd1VyoyGGM1R80Y/7q7XbXPlXoBhSsAHwc9oiQS3CY2fHRT\n",
       "cyA9sp6Mo7px5U2Mpzv8Yr7BDSAONQGP8/ZTOP1PfmtUTuu3QByPmktY28N5nH1BGebC2T4ofSMj\n",
       "A4bIS2cMhvca7u2yZ25sRIDrcnhMKpM/Zz7IG1vduPJGRmqIVdpfT3GHQWb3SkdadyTJ249zEUFr\n",
       "VEbrdy3mu6yFrQrBPM6+oJwYtStTUULSZjijKaaJWgiM/0AIuWqLt0Mru9bVPwUsdeMBHPJUOlXJ\n",
       "Nf8U4DDkxKqAx3n7Kez+p6A1ak/rN6LdsuI5bmtSTKgQaW0f5zElG3cs94IyrNrDY8LmalybAtBx\n",
       "HuSeKg42JvvVoL28sdSNJ29yeSzHmNfAgEc+j7P24/Q/+a1RO1q/eYNcOGnBRGz7OI9runHHMi8o\n",
       "j8c78tc2xeO3VTv97LfV7Nnnsi1vQp6qBI9H//CuhArDgJdBvSJnP07JxW+NSvdGMV8tM21nQdb2\n",
       "K7pC4o07lndBeTzekUpyie7rMfR53Enka84mm8fDHCcFPSZMhMc5+7HDa9Aale6NCjKwlsTco8Sw\n",
       "vcVjUVoW5ivLHcu7oBwz5hEvPnaQ0dvVyGB++joe8wSPRz/T0/+6v1EjsNBzBhzvpipcmT+QxNlP\n",
       "PKJEdrawNmiNSvdGBY+2VlT4JeZh+9U8TzVqjcfpC/J5sKUKt3n89C7YsKouDkhkGI9rp4tq3d9F\n",
       "nPk+y75Wh8eK3Uo3VasdScBjdz/LUbZbs+a22LA1KtkbVc+vj6KWPsb+VW7XK0hTOT6yXFr8gqwU\n",
       "U2hki72NwsawG4zj0sCF0/yx7UrOJAmLLAlVn3caTIbHtv+07u/4tST8YoiNdsFAR06Rhzx29jMP\n",
       "20Rr1kKiMHFI9UYRGqtA+FO82/GYNV7Zyoo80QuaxiWh3UNLUbyHx0NUl2ilq9g8fvF5ZJaTXdMr\n",
       "lh+P23sl55E11KYndRTtplrRFdZ+AK1Zs64IW6PSvVEhkHypHxfc2n5NH5ehxLbumA2MPy7x8G4U\n",
       "uYvHg07rJuOK2JTuQ3QFRB93N4Q9jMdYzXk/6/7EtJg1a7ybKs7jaT+Q1qx5/j1sjUr3RqHwwSYQ\n",
       "1xb7p+1X4nEkOtp3bAGmbgnPuTUuiayHXbI4j6cfjInBjG1RqXfoY37RiqAoT/f5WTUPPlkhhNRC\n",
       "/5VuqljdbdkPpDVrLqOFrVHp3qiiURHV2gjWHqoU9vZxHrNm+44twIiad8vllnGpmArCkc3j8Qei\n",
       "7+j5r/1PtnvucC1lZt3tWTyurxp62fWK7rE3Dy2tgyQ71k0V5/Gyn/2tWWP/U6w1Kt0b1Xoo9xMQ\n",
       "gmllyrmLcNh+ZT6vTtyxBZghf1zGpYxkPm5wXxLOMYgPPK7QG3hMqqveOn6ExxaizmzZajdVGefx\n",
       "4t/fmrXVGZzqjeof2dSelw5DbllsxON9Gc2Q3vUgzuOyrnm9yeMa+enooCticaz8OR43ongyj9l0\n",
       "ugQXW91UTTgv7RNwb2vWVuNPqjdqT+4ii+262z4ed4GYEXtcjnmeXRim4Q86XfHvP7TXFet5XvP4\n",
       "T1R4qNDreqdi83UVwD9oS4PJWJpVW91UNOwTcncNaM3a6oJN9Ealbdr+II9Zo+o+J1zGJcO9dMHx\n",
       "+vH8A6txrk9LuU7C+Xwei+habnURj2Wi/1huFgA3z0oH/ceueoK0ZhGa8K33RqVt2v4gjwWRVV+h\n",
       "W8Zle2WtyBB1XFfMP3AmtnGr80kSzsfzWEYrbvIqHqPEepDNxaJ8c87RrTtgf/kbrDWLod0+BKTx\n",
       "uD0qq7PWNW2Ny+iAVDskw4EVZjfwOF5xU1VxEY/d1Yspv7+7zYPh7Xdq3dqadXaFCRD8Y3/cM57x\n",
       "CW99rLtgwuT1qEQ/hkvEzkdK8jRj60gFwA8cNN+6/308Vvxv4CQNwhTr61GJVNyY0nu739KnGfKU\n",
       "Jt5fQfOzZG6qj8ehCLoRTkb6Gsr1qDSmsa0shy/87Wy2SJ9m7D0rCuCHofa9F+tMOwdOch2NF1TE\n",
       "WruaPOk0Q55Wife7HXlnprnrK8yv5PEpcDL0E6ikTjP2HkIC8MOsfOtnbu7h8Qlw9lPm5PGoJE8z\n",
       "4ClLvP+YHRFl+vEzqT/F4+Nwql4j6qejkj7NgKfcTYJTfpihx1fuf4rHh+GsKaYIl/XDUdlxmgFP\n",
       "vQ/kpfzQDLv5eHyeHYYT92+B409HZcdpBjzVbjki5Qfmxub7ft6J9ng4b/tOepc7EIgfnJmwj8dn\n",
       "Jnrsl1FZWVZ/Bo+Jl8al/NAnxFsTvXt4/HQ4Y6gkP1JyCo+V13uS8oMVnf54fKZA1r+GSvojJafw\n",
       "2Je/KT/U3vqB6Xt4/HQ4Z1TmpfDJlfAn8dgHJuWHmnjpF/Ru4vHD4ZxQmZfCZ36kBMzj2n9Qpfzw\n",
       "JyH+eHymsMC/gMq8FD7zIyVgHiNfNqT88Cdh9fH4TGFR/QYq41L43I+UQHncVEA/2NA7Wyzu4vGz\n",
       "4VxQGZfC536kBMjj8C1TKT/c3lmxuIvHz4bT4vG4FD73IyUwHutgkiPlhxt+5Temb+Pxo+FcUJmW\n",
       "wl/1kRKHpyQc3Ck/3MgrM73bePxoOGdUlqXwF32kxOEpCm9Gyp8l6cjH4zMVMnk+Kpd/pcThaSXA\n",
       "/hwr8cfjE+3BcC7zIFcvhbd5GhvZKX+OqRc2C93I4wfDeUu/G4k1naT8WSbox+MT7blw3sJjTTP8\n",
       "mY9C+fH4TGUhPx7PPOXR7+ik/JnXV5HX8bi3e4q5j4XzT1Ap3e/ulBzoP2L8bQqZyN5umlx7Kpx/\n",
       "gspwjPnLFRzg/x/J88vz1A51nAAAAABJRU5ErkJggg==\n",
       "\" style=\"display:inline;vertical-align:middle;\" /></a><br>"
      ],
      "text/plain": [
       "<IPython.core.display.HTML object>"
      ]
     },
     "metadata": {},
     "output_type": "display_data"
    }
   ],
   "source": [
    "# Here is a best guess for the summation version:\n",
    "distribute_frac_through_summation = (\n",
    "    Forall((P, S),\n",
    "       Implies(Forall(y, InSet(Py, Complex) , domain=S),\n",
    "        Forall(z,\n",
    "        Equals(frac(Sum(y, Py, domain=S), z), Sum(y, frac(Py, z), domain=S)),\n",
    "        domain=Complex,\n",
    "        conditions=[NotEquals(z, zero)]))))"
   ]
  },
  {
   "cell_type": "code",
   "execution_count": 57,
   "metadata": {},
   "outputs": [
    {
     "data": {
      "text/html": [
       "<strong id=\"frac_in_prod\"><a class=\"ProveItLink\" href=\"proofs/frac_in_prod/thm_proof.ipynb\">frac_in_prod</a> (conjecture without proof):<br></strong> <a class=\"ProveItLink\" href=\"../__pv_it/theorems/6fba1696b3a1c4528d6b819771120bef7baf0af40/theorem_expr.ipynb\"><img src=\"data:image/png;base64,iVBORw0KGgoAAAANSUhEUgAABHEAAAAzCAMAAAAn6WQHAAAAOVBMVEX///82NjYbGxsSEhKIiIgi\n",
       "IiIQEBB2dnbu7u5ERETMzMzc3NwyMjK6urpmZmaYmJiqqqpUVFQAAAAnLjGdAAAAAXRSTlMAQObY\n",
       "ZgAAAAlwSFlzAAAOxAAADsQBlSsOGwAACnVJREFUeNrtXYmatKgO9c6gIMqi7/+wF1BLRLZyabEm\n",
       "55u/p9E0xpQ5hkCoqroLxKACAACAP2CEelTgYOejaGm8DTjy0LfwDnzM2q1mhPZGxmFg8hMYRLwN\n",
       "OARaA+U8aW0BjFMq4eB4G3AQsgYbPGhtYJxCIfp4G3AYeAAbPGdtYJwy0TVdtA0482DC+PQ5awPj\n",
       "FPoxoXgbcCbSbyCV85i1gXHKHFM18TbgFHqYQX3M2sA4RaLB8TbgFNgIY9SnrA2MUyLQSKLt0kEQ\n",
       "GgjFWBb72h1ybwTrLATletKFnJe79qppa9O6plUXS1ulJTIR6WhjbWCcElEP8XbpUK6CBlTxYueh\n",
       "ZSaF40rq8ezQ6jc1Oy9XXXrVpLVJj3AbnZpLS+SyZKSjjbWBcQoEHWm0XTqEiqKFesrKXbNIxqxM\n",
       "PJWTHzdauld3RfyLFFw5gvEwHA51dlc9bO1O64D1j4Diq8Q5le1LJawNjFMghibeLp4x9Yu37PVD\n",
       "bVb4RSa3nxhfhRIUodp2pD4gp1Oln5BjFUuxYO/vLSq8t/b2esSwQEjxVWKjcq7Ovo5S1gbGKRDN\n",
       "EG+/4h7Kns4XmbljMyBAhvHNDW2W0NY8IKeHQt0nMK0zZ8ZWOfeqUeGdte1T3XIipPgisVU5V2fv\n",
       "peLWBsYpcVAlou03wMxPFLxxAMm0qQkeWs34lO0cNygnyMZ9v4bTGxcqRhkqJEK1vEFrMzHFTGHF\n",
       "F4mzKq8dGW150NrAOOUBOe9f9LK5XNKyaSBY8pR+Ztxo3L7Gn5sJOa4rp/5/Im2+6Y0I1ohJYTR8\n",
       "Z21ppq+GiOKWxDmVl44WbbuQtYFxCswxNPF26ZAjJVzpzGTJRs7zLqzni7S/MBZlHFfOX6K+pmp2\n",
       "v4R76wjSMjr+4Pgra9MWtwjXNKy4LZFQOa7zp6NFWxKyNjBOga/fNt4uPsbhCFWSi5IJp8Jj5gCH\n",
       "Y0QGjkUVZRxXrvNvw/PJe+x/ifQ26Dyyfu3U8itrY11i0Meo0pZIqRzV2epIa8uaoLUV46wBjxQ3\n",
       "MM5t3f8qyMijbcAVEMeWzWRuddGpj6y7bCzcqBgEtTrPUh1OtCQVv0xlrS3nW00tayvG4Z9Gf22+\n",
       "YGKc27r/VVBnrQgdoYrzfitfyjhdSynlV+XNu3GOHLSz3sU4l6lstK2ppAFrq5ugw+eid4yqbuv+\n",
       "VyFHGW0D7ogk87wJ9yPOYKpG7645XqUqG+bXdTegg5SQVvwylY22CIuQtXUep59v4+oymDmPc1f3\n",
       "vxvv02gbcAlG2JfrEWtrxhEzH129SnRmnLu6/1W8fXL8LT4AIfcj1jZzVU2tcfmOCMtc1U3d/yqw\n",
       "M7NotzOrih8tZU6nUIooaG7gDfiHWK1tGIebsP3M12rgGOOc7/6diCYKwtbgDuPY7cyq4kdLmZME\n",
       "VkZBc22nUnltAYZb12O1tmGcblh+XOpcC+Oc7/4lw6GWD8iqLomF7djYBmO05+phDLYza5kfLWVO\n",
       "opCC5hq2VfxLxmk2jGPiD/zV26uruf4DMS9fjjLOge5fBIqGtmV6tfmgvFG2OIdxJv4Veq1U+wXj\n",
       "ZNYyR0uZv64Lzill3nQ6WvBf1FPQ7GjlKWj+ugbb6ugg44yAM4gwjkTZid3FweRgXh7zDH6ccb7o\n",
       "/n1DJz7PJGFiohuRxTiDCRX0WqlqlxeOjapya5ljpczf1wVnlDInO00WNG868BY0f1+DHStoruFr\n",
       "q54bVWk+EOg7B5PqD7hJ4GDOea3+sSDjrN0zXYtGeEWcSq/QcS9SwgjxTv1nCa8Ln2ndd4zt8oue\n",
       "g/5EpCuIlqwkEXReLO5jHEcLZmipM1TSuIsGsMNBm3ZmLfOzpcypz6+IguZN5hjyODfDyRzrtTLz\n",
       "qhnf42R9XB8HqySVTL1AcEYeZ+1ehQHKy8waoI3fho77o+aEMOp0krOXljD9xHScMrxT1nvQ63qu\n",
       "IPmwiuyky3+to7LWgrca/6p/Qo1TtFF2X56EHBfbtDNrmZ8rZU6jkILmBojlLxlncBinm4/4Hifr\n",
       "41odTDGOGkdIlsc4S/cd0c+YXrCNum2Gz388kA6MCytdW7SUdUzCyAo3Ot+8Wpc7de8Isg9dCCJI\n",
       "kHEcLWbenhhnt3VVdAVgZi3z0VJmf7Lkm1LmdJx4ZUFzvAY7WtAM1Wp/ie2aY/MeoLNr7B8n6+Na\n",
       "HUwzjuKZxYkSjLN0P317dsOmfIBdrGodZxLxeKRjd+K/v24rPCArDzXd1GayfjqYvvDy1ysb9CZm\n",
       "aWVFKaNBxtlqsfD2NKra1TBIZwZ6286sZT5ayuxPlnxRypzEtQXN0RrsWEEzGWF92N/BsvZutwrf\n",
       "4/T5uFYHM4xD8JIQxgnGsY+RcQpEqL2czDreVNOvkTTUKuznhcZKp2gtGmoHJR3ZXns5mL7wLGhd\n",
       "ab3xOXNsLbRpHVuYolplvX/+15pRVSBz/NUWgJmVhcWVMmdqf19BM9TH/iW2lZzpx+nzcVkOZmpD\n",
       "mURxYtihpxUbp/3nlYBZlIGd491MeeaE74ctLLgUgjOJjbL6dNdUuDdR1yRcT8JTq+slneajJ8bZ\n",
       "HExeeBFUFxRyMsX6Cu6wSVZj/3qcRYvKKm2tEJoL30IRaDr+z2KcAkuZ87S/saAZ6mP/Epa1XcZx\n",
       "HqfJ0daPa3UwYegkmjv0MQ4bkBB4+uPJ66mZrNkcr/T0+3SCNt32hyMsNTuqEdZEAOY0RwwjXWQ7\n",
       "CUsu2v5zjoimX9nOPZi48CJoLlovPvGJHLGKADn1j6oWLTYkpVcAevyp7uNtO6uUVctcXClzrvY3\n",
       "FjRDtdpfwrK2yzjO42Qczfq4Pg6m54nNgOtLxtkKTA/s7mXzmYH3saWbLKEV0SGN9J1WLaLUbMX+\n",
       "3DKqkkcuPFAV7yw8o4dI3ju1TGtrkWSIt395zCswjGCDR6yd3HXUcb6Igx1lHOa+KDGZcsLMtzm9\n",
       "e0yFGjq+qaekzva0bql4jfWeP50ZZ3Mw+8J64kmw1Au+3WTHZi0ylkIKZwmgGAk8s1ejgdLxZ6yd\n",
       "Yhx24mFPMA5Fjdkyx82L9iqQNkMWX8LUPUb0PD7TLt3tT+sWE0vpkvBce3Mw+8L6ohInS5vtFYAf\n",
       "LWSaramTYqBvSzkQxMVsplLRvT1x/AIb+62dYpwzOwb813dWP5woePs35M3F5qLggYt4exrnBTb2\n",
       "Wxu+y6FA8CbeLhxLsflQ8MBleHlV1Rts7Lc2ME6BcHehuWJXmr8M+OeF1CV/EfDrB1UvsLHf2sA4\n",
       "JcJdQFu/bEU+07luWvD+zD+QjC/exgFrA+O8wSHe5iCm2BwVPBb8gfrw4m0csDYwTpFwN4V+2SbR\n",
       "pti8Lder2Q8s/yvdxiFrA+NAkHPD+1fXmY+ibG99e4xTuI1D1gbGKRM9jrfLBhkw4uXGEewXllQW\n",
       "buOgtYFxygR19jekzdvGAbjcfWbrXynixG/Yy9exNjBOoUBtvF26I5CmWLfGv7D7X+E2DlsbGKdU\n",
       "DDjeLvmthkpWl/3EJv9l2zhi7VsZRxAF4I6D6GW8XS6kSG6m+OB4tf+JR7JoG4esrfngzmC91pub\n",
       "wG6yh+F+VUJLwSanQXp4Bz5m7VYzQvt/eoKlTU4YllQAAAAASUVORK5CYII=\n",
       "\" style=\"display:inline;vertical-align:middle;\" /></a><br>"
      ],
      "text/plain": [
       "<IPython.core.display.HTML object>"
      ]
     },
     "metadata": {},
     "output_type": "display_data"
    }
   ],
   "source": [
    "frac_in_prod = (\n",
    "    Forall((m, n),\n",
    "       Forall((w_1_to_m, x, y, z_1_to_n),\n",
    "              Equals(Mult(w_1_to_m, frac(x, y), z_1_to_n), frac(Mult(w_1_to_m, x, z_1_to_n), y)),\n",
    "              domain=Complex,\n",
    "              conditions=[NotEquals(y, zero)]),\n",
    "       domain=NaturalPos))"
   ]
  },
  {
   "cell_type": "markdown",
   "metadata": {},
   "source": [
    "***We certainly should not be able to cancel when there is division by zero.  However, equivalences when both sides have zero in the denominator could be okay if we have axioms that allow us to treat division flexibly -- both sides are undefined.***"
   ]
  },
  {
   "cell_type": "code",
   "execution_count": 58,
   "metadata": {},
   "outputs": [
    {
     "data": {
      "text/html": [
       "<strong id=\"mult_frac_right\"><a class=\"ProveItLink\" href=\"proofs/mult_frac_right/thm_proof.ipynb\">mult_frac_right</a> (conjecture without proof):<br></strong> <a class=\"ProveItLink\" href=\"../__pv_it/theorems/bc2512398639eaf8469298b086c689d429627cc50/theorem_expr.ipynb\"><img src=\"data:image/png;base64,iVBORw0KGgoAAAANSUhEUgAAASIAAAAmCAMAAABXhmYmAAAAOVBMVEX///82NjYbGxsSEhKIiIgi\n",
       "IiIQEBB2dnbu7u5ERETMzMzc3NwyMjK6urpmZmaYmJiqqqpUVFQAAAAnLjGdAAAAAXRSTlMAQObY\n",
       "ZgAAAAlwSFlzAAAOxAAADsQBlSsOGwAABG5JREFUaN7NWouypCoMZPci76f//7EXEBWVKOOwjqnd\n",
       "OdWW5mBIOh3mIPQiMw4CV8YU672Yf+CyQ4Q8BKqvgI2NP6b7xND8QgxjzwSlrp/Lp8wqCFSNIkfi\n",
       "jWN+wDfvBELYY2SGfi4fMkEYAOq3u+klPc8XeGNhWhmDwJC33Vw+ZYpCoF4uCBGM8ke6QNrqQsRE\n",
       "KnOUjepLlw+ZGxkAINPxJjGKZvZabQlCssF0cPmADRQCIKfEzcdkwXKUjb9LxzsZ6+nyCSYq80a0\n",
       "JBHifv6YL7QElnGNPEnc3MvlQ7ZQ5AGcagQ9FqRrSVNBC2bCjdp1c/mQlevaAjgfPMWmrAQ5NnQg\n",
       "ZjBGzljX7nLNKmd/WWcSABfiSNV59ws7ujR6abQ/pKZZrR3B6asw4g5s+2V0Ki7FnEaS/5KKFATg\n",
       "Fhgat9+yKR6/WwXkcp7W6C+lJPEQgHnX4rUCFir+TpsBLm2mIPXDCKGRQuAzRuu+zZNLMkQjP1UA\n",
       "QEODh/J6txq7d5zJpUnZyfuMI+Zirqrbpl0XAB7KgUgXg4UZCrs/SCSX0s8fNwxz47FcV3bG+TTV\n",
       "OaWYnlbICuChvKVee1JATCCqP6pQ7HkQ8kHN+/AWrpDpJyGadsGGcGp+GJp0DeyH8mUmj0tfrXif\n",
       "a2E0NtnepcMfkrUxuXNQlvLHNoXIJ91F4qN7bQhk0WEov9KGo+mfRSY3M5sXgrGR4V/eThz3falA\n",
       "MSip4wbjOe+ZFdOGy2qIlgcmb3QimkhIxLWGCBzKH+WiKImyOMIyjpDK5XaCwvuIZZAzQlOTZuVF\n",
       "NEi3V+RliOYHDI/2X/hv8xA/2D1d2wo4HcqvG2PXXitnsRYgxyhXkWRuiHxcLD6tVS/rsMyykxDN\n",
       "D0zRt8U5x/ZIK5IMroDTofyyMfaxxaVfVWlJE1GMe1yQ9BQYlbKCOySEFmchErg4ppl/ZQzR4VWI\n",
       "qYDTobyu83TvEFVcxrpagjToTK9ozh4ZDy7X1Mh0XQieMkTzA7HQ/v7hqdDqdI0Uh8BHA8TY/ax5\n",
       "71KSNOyGTWQpDIMIdIkyksqJqVuvKlPSRO20qovWB4phOTSEELsDexoCgY8m9aE7FR1cGqwpxjFT\n",
       "Us8JSc4VysgwS6bzEsmXzGI0VJ0R1UJbH9ho9yAdDTsehjAAfGK8/2n8mcsQFBbej9sZlexKY9VU\n",
       "675eIw5fjkIOALcnvX8wPO70LktMrdWCGqNevXotTLmBQLvp/t9XnLm0iW7naap9d6ohcteNZnOO\n",
       "3nioLoZAltJuDg1v9Kydl8M5ZHcdcfvQQQMAfkRhymnBFeROfR68bMXIm76y3uxX0+ZFPRFkxypO\n",
       "bzXCvZftOcaLviNCpQDbg5MUKN/t9o4zKELvSqKP/3YmZUDZKPFd2pBgu8UKvcuUhQDUbmwh7CW5\n",
       "SYMbLzslLV8WIjZIAADKLVWBn++/WRMbL7v1vOzPi9LEwgBQbdacckyHTFr8pmrcetnqF4veZ1JA\n",
       "oNYCQwYQldUBuzvib7xsk2i++D+h7DPEFLBuowAAAABJRU5ErkJggg==\n",
       "\" style=\"display:inline;vertical-align:middle;\" /></a><br>"
      ],
      "text/plain": [
       "<IPython.core.display.HTML object>"
      ]
     },
     "metadata": {},
     "output_type": "display_data"
    }
   ],
   "source": [
    "mult_frac_right = Forall([x, y, z], Equals(Mult(x, frac(y, z)),\n",
    "                                              frac(Mult(x, y), z)), \n",
    "                         domain=Complex, condition=NotEquals(z, zero))"
   ]
  },
  {
   "cell_type": "code",
   "execution_count": 59,
   "metadata": {},
   "outputs": [
    {
     "data": {
      "text/html": [
       "<strong id=\"mult_frac_left\"><a class=\"ProveItLink\" href=\"proofs/mult_frac_left/thm_proof.ipynb\">mult_frac_left</a> (conjecture without proof):<br></strong> <a class=\"ProveItLink\" href=\"../__pv_it/theorems/e6e27a8b54e9eb8179455b693c841652093724aa0/theorem_expr.ipynb\"><img src=\"data:image/png;base64,iVBORw0KGgoAAAANSUhEUgAAASIAAAAmCAMAAABXhmYmAAAAOVBMVEX///82NjYbGxsSEhKIiIgi\n",
       "IiIQEBB2dnbu7u5ERETMzMzc3NwyMjK6urpmZmaYmJiqqqpUVFQAAAAnLjGdAAAAAXRSTlMAQObY\n",
       "ZgAAAAlwSFlzAAAOxAAADsQBlSsOGwAABGhJREFUaN7NWouWrCgMZHcRwhv8/49dwBcqIDi23Tl3\n",
       "+k7NkRJDUiTYCP2QaVsCVwYSnp7MBygf8JA7A8DYAaf0yl98aH6gMiVgbcJ/rpfyLTMyAzRC2GGk\n",
       "h8vRrnklipQUWRKoxl7Kl4wTOAMjwowBOXM5njUmZpmS28lvjnVSvmWSZgAPqy7b8oe05cWJEsYZ\n",
       "+fEEo/mjh/IlsyMUwDrjHimr255y0MtvKtyXj/wG5Qs20AJQo88MaFhOES5ssiJljC5MblC+oURp\n",
       "3KwAmEKORCFtMNZyVZWSueWjh/IlWyVyB+zIQfvnUU26aUhTQlcoQ2Kp0XRSvmTpvDYAGmNktWnb\n",
       "WcTYcF2VEhzFOk2uSLlFlTXfzDNRAF16ph+YCpVHSq3WjfaL0rRUa2fQVZ7Lv3sHiD1S8iWMBPum\n",
       "FMkS6DE8/m0Wg68FHD1TLt0a/WYpSVwJ9NVW/G+1mcFbUiWUZpYg+UUPoZGWQJ+iPb7MEyUZgpGv\n",
       "VgD5De26Z08789BKPL7jTJQ6Rid7ph2p7inQtF2L5lg4dObeuUljoYfE7jcSkVK45eOOQjLtsNhm\n",
       "VtN8GvOcUkyrGdKcLqfO/H6KXklACCCqujIUO+YLeV/NO18p2KRMr7hoWgXj3anYqWlSWTAmdmrM\n",
       "z505Gq8Lo7HJkusjpcWdYq31vHNQiLMzTS5yse4iYeixNuyKoqRAPHbmo34+ivS8mZl5ITDWwv+b\n",
       "J4DDuq8ZyAcpVFhgvPYHhk8LLrIuWgdMbHQSmiBIxD6RaOfO/FNaFEqiuTjCIiS2tPN+gfzz8HUC\n",
       "miuqY6+8Fg3CHivy1EXLAM2C/ed/zNzED+Yo16YALnr7Q2f+/I62UIqlWPOQYTTHrQA7BD1OJh8D\n",
       "Qa3zMGCg4qJlwOR9k5xzHE/JIF3+Hbg+RUs6c/F8XbRSuq0qTWUiFOMOJyI9OUbGqGAWca54zUUc\n",
       "J8c0yy2Di06PQnQJ1KuWfWfOR/W0izKUIa/WWw5qlle0RI8I8riFxizXScGTumgZEBLt339YTLS8\n",
       "XCPJSqCnM9+d5z5jR0pB4g39IkJ0w8B9GKMZCWn5tFtvVaagUdppti7aBiTNst8QvO9O6qlJCfR0\n",
       "5nR4XIpOlBorinGIlHhjqw2TaEYaDJnOSwRbIwuozzrNs4m2DdjV7r501HA+DIEC6OnM2fOn8TVK\n",
       "7xTwz8fMglIJoCFrsnmfzxF7JcCQqhO0qu6xM//chpYzBVGplVxRo9ezf70uTJkugXZTz7+vqFGa\n",
       "KLdLN9W+OlkX2euNZneOvgN88JIoTKM03dizavz0A0dEd9cR0s01BSAxZbRJZMidqqjOT37plfVu\n",
       "vRIQqgZfXLQcOtx6oVPlxz/0jgilBdgRQJOH7q94mZ/81vcest+dievc1o/gu7JR5scS/ZZJkwWx\n",
       "JbwOI0FuymCZ/zblxwwGkQE2xrq7HnwzJ8r8tyk/aCL9duEMOKMM0+Hy5Q+7WTVW+JlBv2eCn4Av\n",
       "zCyRl3UV3G3xy/wr5f8XoTPWz4PSegAAAABJRU5ErkJggg==\n",
       "\" style=\"display:inline;vertical-align:middle;\" /></a><br>"
      ],
      "text/plain": [
       "<IPython.core.display.HTML object>"
      ]
     },
     "metadata": {},
     "output_type": "display_data"
    }
   ],
   "source": [
    "mult_frac_left = Forall([x, y, z], Equals(Mult(frac(x, z), y),\n",
    "                                             frac(Mult(x, y), z)), \n",
    "                        domain=Complex, condition=NotEquals(z, zero))"
   ]
  },
  {
   "cell_type": "code",
   "execution_count": 60,
   "metadata": {},
   "outputs": [
    {
     "data": {
      "text/html": [
       "<strong id=\"prod_of_fracs\"><a class=\"ProveItLink\" href=\"proofs/prod_of_fracs/thm_proof.ipynb\">prod_of_fracs</a> (conjecture without proof):<br></strong> <a class=\"ProveItLink\" href=\"../__pv_it/theorems/1e3f91cbf35c9a865daa226e5a02b7a8177453d20/theorem_expr.ipynb\"><img src=\"data:image/png;base64,iVBORw0KGgoAAAANSUhEUgAAAVwAAAAmCAMAAAC/BtMNAAAAPFBMVEX///9KSko9PT0oKChfX1+I\n",
       "iIgiIiIQEBB2dnbu7u5ERETMzMzc3NwyMjK6urpmZmaYmJiqqqpUVFQAAAA0nBfpAAAAAXRSTlMA\n",
       "QObYZgAAAAlwSFlzAAAOxAAADsQBlSsOGwAABTpJREFUaN7VW4uyoygQZXenlZe8/P9/XUANqA2S\n",
       "BFNj11Sqy4nnyummXxJCOomdvRhyv2iL628Im9gND5aj6sBGvz9iHfmJaHfWGYBjgtIi1Qx0sDvb\n",
       "7hXDGwsvox9gD6jj48g1E6JrQsAB0UPpLkrsGG6YX7e+8bRl9CPsHvVx5IrsiV+6kWGBjLhSVBJ2\n",
       "ocbx1yXeHFDK6GfYHerjyJ0ooovgXlNtY/uVAlk/1kvNSz+is3kqwu5Qn0auzZKE3SWMjDdMVPiy\n",
       "mAUeuy9lhz7oMmyO+jRyB4rrfpV+87LyaqLrwZhdkeGORimin2Bz1IeRKzJnTTrjirgx5peicLd9\n",
       "pEu0rVaooZ9hM9SHkZslpEy3s2DaL1/ZegGn9mW4GRsjUQX9DJuhPozcfBlJZxqAWG1q+Z85Cnof\n",
       "COTcVDBU0c+wGaonN3Fizdfk9gIrRQWJ6o1CDwVFlpi+kQNsQvXkavUqbeTX5PYCK1ScM663EcBG\n",
       "i2Sjr3k9wiZUT67YvE3y78NCL7BCyJ1wvaHK8KWUO2YkmL99IAw2oYaYu40bqP2e3F5ghWrT4XrD\n",
       "wxlImypLVd/mGQQ2oQZyzRodv9wkC7mdwAr5jOL6xyH8Dg9IqLFaGIcgI+1Bbiewd4qFj4XdMiFN\n",
       "qJFcHf2Ysy7k9gFDJa+dZA+vm7OmVg+ZuC6okVzpto8WAa4dSCiR+x4YYvjg8xIsyOo27rKl53v2\n",
       "F901EcHPqKpHEnDc94G+GXR+1RZpHbcmogGsZi29pcUJ6fAVqs+ZnEdX+//Pv0Pm60J3bhVyRl3I\n",
       "tXCVgbReUyBlkQVTJvcarGYto+LgDm0e3/Lclg5h1rd47p5cT4ZZPQdAS/9vdQ9Yuy7YYjQzYvEY\n",
       "WW5/E9h71qJa6z//aV/byDCBHsT9YeEHMTdUpWt96iOd42RaHtwve/ZNxui968WgtPJqtvACI2KY\n",
       "pFKZoZj2XhkAStZajL54rjwnNIPqXaqPG2qalVy5leT+Ogey+oxkdgghkajXQxhm2BW5LzBfOSi6\n",
       "7pHFUMZbaYqxALGW99x//9HBc2NYmZAiB1C9R/VxR02zBTaX9mA+EAmtnQNiJh7FEiGUuJyKZWBy\n",
       "i82LoTxW2Bwla7EtWvlqwSA7ZNS4/nG5r24gN6EiWWPMAurgvzcKIlL6WkMkYU0jRwF7Q40eL1wq\n",
       "WEtfVMcTx/VPK/P5jmo8oR7IlWMc9Oi13AxJRc27nkDSmO0otJAbHFSyZCg2L5GnYC1z5Uh6xPVP\n",
       "Z1rDHSE3oR49V4OiAOGlWxykWW34FGdcIhX53uu0IA3kyskKxTdDTYuhlu3eYi1s5MhQ/UPht4z3\n",
       "E2rlTYQnl/llc7NQGnaxamh/c0sxM4ax7mIo5cAYunpni7Wwtt2i+t9ZLFTIVSzmH9U83qq95kEO\n",
       "Al1bC/MKjesfiZpvmOfnqGVyTYyZ0N59V8hVvRJH/k5x935RDD49yJInMqAx0ntz2HScizb6TQn7\n",
       "EvU3Lyi7bT+WFU87fQLKafEB1iNd4X1xNpMY2+JKEfsS9WmHQnJvy/RYktDSWrYjXfHYzOvdHjSW\n",
       "GyXsa9THnRUbBa77IF5cynqkazl1pN903AP26aBYBfVx5KInSGNPd1nYL061fQ/aX0TJwkGxK9Tn\n",
       "nc+dDKbHfvripFgsQNcxkW+XmkuFIvYV6vPIZYM86zZuRlcv7OPBPbrd2RwUythXqD3J/dFvImT2\n",
       "y4NVF5xyoEO5EaEho4dh3TYA5c0PWsGuoXb+TcTPRIqj7h3HjlOtI9GaAnOarqtn7d1LDfsS9X+e\n",
       "HU3AYcEznAAAAABJRU5ErkJggg==\n",
       "\" style=\"display:inline;vertical-align:middle;\" /></a><br>"
      ],
      "text/plain": [
       "<IPython.core.display.HTML object>"
      ]
     },
     "metadata": {},
     "output_type": "display_data"
    }
   ],
   "source": [
    "prod_of_fracs = Forall((x, y), Forall((z, w), \n",
    "                                      Equals(Mult(frac(x, z), frac(y, w)),\n",
    "                                             frac(Mult(x, y), Mult(z, w))), \n",
    "                                      domain=ComplexNonZero),\n",
    "                       domain=Complex)"
   ]
  },
  {
   "cell_type": "code",
   "execution_count": 61,
   "metadata": {},
   "outputs": [
    {
     "data": {
      "text/html": [
       "<strong id=\"frac_cancel_left\"><a class=\"ProveItLink\" href=\"proofs/frac_cancel_left/thm_proof.ipynb\">frac_cancel_left</a> (conjecture without proof):<br></strong> <a class=\"ProveItLink\" href=\"../__pv_it/theorems/dda001852dc00c80367985d017f49e1d2633a8d90/theorem_expr.ipynb\"><img src=\"data:image/png;base64,iVBORw0KGgoAAAANSUhEUgAAAQsAAAAmCAMAAADkzk48AAAAPFBMVEX///9KSko9PT0oKChfX1+I\n",
       "iIgiIiIQEBB2dnbu7u5ERETMzMzc3NwyMjK6urpmZmaYmJiqqqpUVFQAAAA0nBfpAAAAAXRSTlMA\n",
       "QObYZgAAAAlwSFlzAAAOxAAADsQBlSsOGwAABCJJREFUaN7VWouyoyAMZR8RAkgA//9fF7QoqCj1\n",
       "1m7L7HTuzqQxHMPJSShj9y03hGV/6ITcTdFhj8tDYqTI7sTC/9wHPXwggEclxBYZBIp4Y8PDSlPV\n",
       "Fbvnn46F7RMmjIEHRt3GRDDHo+Vw7m1lav03YaFSgFbHLSDzmyOn3ASQl+fe1qbSfREWvUjbiKnR\n",
       "Z9k+pP+EHXBgj4+TI7I2xXz/H46FK/is2G1H858mWqlBNThcm5L/Giw6UewjnBPcCXjMF+BNTLwy\n",
       "1dHnV2Ch5rRAaZjnI/ttl/Tp43RtTKX4EiwWOnSDQgpYGFcpu6ZNx2xMLf8SLJagkQCYI7uru9AL\n",
       "oCzZj9hzbaoHl2GxxOvsHVhc96/a9jcph/6i6cLBAQsycwHTd2Bx3X+LenrsDbm7aLoU6oCFSi9O\n",
       "y1vOyHX/vu1dd6HUenHVFIacL1KLItw9fHHZP2+jG2dhyb2nTd0sNiIW9nGMe3YPFpf9D4Ldv9RM\n",
       "nmMd4V1cXNyExWX/g30DFjg/ZcSCxiyReBcWF/1n5e7pRr/L1slJGyDHQvv0cQXX+Lo1ONBVLE79\n",
       "gyQPGqrZe+uaT+KkteIrE6b1y2XklOixr2utff8KvAzSOuhrH3B0Umz6qOUrQ9M63fae6UAFFg7O\n",
       "ma0SuTVj67svYRMWu/6JHgQucMTViv+UFyUWIVB70v3vRC6I6O8fCkVKxwFJp+oafPZvIElRSJSF\n",
       "Vk3vX78Oi+t8EUt/EgEApMO/FE7Xa2MOIqfHSCS60nUskv+AY2g9FY/pNRtppyvcad+SF7bEQidZ\n",
       "ExgwNId9eiGkjCBWiTzkxe9fFPNiPAAHfDH71+i6SDghQeZ9WrRYqXbwBih0qS9i1j4SPEQogWXZ\n",
       "rsdTXIkc01ELdcTqoz41+R8VsIc405XjckwpU5lIcXqL1jL1nr1oDtX0aiqREz7ds3fhyTx4UAtT\n",
       "PhiIbZz18g1YLGPELRbxMM9oxHzQWIvcnpXhPSxUqJWl9NJi5CexORHE34CF6CqzHM3HtpaShOqd\n",
       "MrIx8jYsHFnZT12rWuRaSDtSOz073o/FMvBb5wWBEQAxE2KXT2j5NHRoiLwJCwzepH34iafOHLYK\n",
       "bxAYS7E6mPG5ldQ+i7wJi0Cbpr1flfeTp1nosY6FeUF+brEwFp5oV7PB7MF9apRBgYZ0mxpZ2WYD\n",
       "vzoWr9A5P539YtaR1O9TGfYgpGh71to2G/h9+F3R8tbq96lTpQv1rU1albb5DdOn36fyxNHr+9Ts\n",
       "QnWis/aN5Lb5HPjTsbD5hsvb4+xClekn1HpuC4X7T//9RW9Lyt+7T51ahMad5La66Cc/HgvsxnAP\n",
       "71PdmOiNQ/PMFruiKN2MxQt+r6XHbv/oPlVJIUF0TeqvsJVLaPf/Xus1TbVix/epIVUc79tkYG6L\n",
       "m6/8A/PfOhDVnHgyAAAAAElFTkSuQmCC\n",
       "\" style=\"display:inline;vertical-align:middle;\" /></a><br>"
      ],
      "text/plain": [
       "<IPython.core.display.HTML object>"
      ]
     },
     "metadata": {},
     "output_type": "display_data"
    }
   ],
   "source": [
    "frac_cancel_left = Forall((x, z), Forall(y,\n",
    "                                         Equals(frac(Mult(x,y),Mult(x,z)),\n",
    "                                                frac(y,z)),\n",
    "                                         domain=Complex),\n",
    "                          domain=ComplexNonZero)"
   ]
  },
  {
   "cell_type": "code",
   "execution_count": 62,
   "metadata": {},
   "outputs": [
    {
     "data": {
      "text/html": [
       "<strong id=\"mult_frac_cancel_numer_left\"><a class=\"ProveItLink\" href=\"proofs/mult_frac_cancel_numer_left/thm_proof.ipynb\">mult_frac_cancel_numer_left</a> (conjecture without proof):<br></strong> <a class=\"ProveItLink\" href=\"../__pv_it/theorems/96be40f388fac83ec00e3bfb403cdb9c357ff0680/theorem_expr.ipynb\"><img src=\"data:image/png;base64,iVBORw0KGgoAAAANSUhEUgAAAbcAAAAzCAMAAAAjH7ajAAAAPFBMVEX///9KSko9PT0oKChfX1+I\n",
       "iIgiIiIQEBB2dnbu7u5ERETMzMzc3NwyMjK6urpmZmaYmJiqqqpUVFQAAAA0nBfpAAAAAXRSTlMA\n",
       "QObYZgAAAAlwSFlzAAAOxAAADsQBlSsOGwAABrtJREFUeNrtXOuStCgMdS8IKMrF93/XBbwjhIh0\n",
       "12fX8mOqzziTpDkhkAA2TaXGfWv+b59ulTu6nWyT3/wCXQ/j2v3V8Spm3lYU4M51dFePt/HLfmcU\n",
       "jKu3vuUVzCxQdFWs3subYTCO+TFtb3TeQMPoodvnZqJ0hoouit/LmxpgHG3DrTg+6fA3zDw1E6kz\n",
       "VBTi1/ImqAAxlgmgjdM1LLbqmZlonaGiAL+Wt5bAGM1EurFIVNSUPzITrTNUFOC38qYojPFM3Ayq\n",
       "9yItzqyo+FDRGb+VN8oALAwjIubogyHEYEKlk9BHg+o4iVIzk2ZFdYaKzvilvJEg4J3w6OaULhIS\n",
       "+TRw+yPf8UkJnvtCMyGhscehohN+KW+tSWNO3RQuY5OT7xWanXIWCfGVoL4xR+LMSugMFZ3wO3nr\n",
       "pz6N5eStYfsg2574T1M2oQokhIOWFJkJCo09DhWd8Dt5MxTAtPNfcrOm3SZ03ytjPhcIJZxb1xaZ\n",
       "CQuNPQ4VHfE7eaMmjWe3VFMqe5PZOAdI8F2GXpkgzUo9DhUd8St56yeVxtyzY4ZGX7rXha15Hsnw\n",
       "lpQwP1YFZmaFXh+Hio74lbyRwBHPuCOunieba6LlKrwdIv9KS4iOdpyZGaGxx0BYeSVvHYUwN4T1\n",
       "wpDr7gk3TGLGSlrCrQkOa1byMTDBWd52ErV6zlstadl1A4A/3NhUZuZjRQdseZPbOBnEc95qSQPn\n",
       "HwniTzc1jSVmPld0wJa3fh0i4pl/zLzVkgbO9wTEn18WkYp/VvZF3fw2LAtjpivwVksa0HSQgelJ\n",
       "f5U35EB6bhYQWBxvapmIhqYGb5WkgeGjB/HH22RKzKygaMd+PUlb1yirwlslacVpwDd460rMrKBo\n",
       "x5436R2j43V4qyMNXGZxEH++XHOMJbI9NFPXLDqksOdNmPVHvJuC8U46aSIbSStvsDR0bHfjVRBN\n",
       "rk4bVqrkt3lrUQlcBbNCRTue8243OFhqcSvmrKEnputGdyjK2K7UHUvm3bu0frixqDy7g1zXONd5\n",
       "0kwQnvJtn+cH/H8dvylqFztpVkR9g1O045k3TYB1BPF/IuUy6hj3XavSvB2k5Q+hJdxBOWHcmXk9\n",
       "0AHzdsufyzKsEt6K1Od4s92syBqfFGFij1aKDO4JWYsfXPUzPyJd59ql0dySKuIOTEr57z/SJvDC\n",
       "hYW2/7PjZHJ++0KctMnWknbxVtj0buVkRq6KvsU7LbSA1yUHaTZRJGaznpGVTu8PCnCH2RHn8Sau\n",
       "E64A8XfXJcDySdRWFKxL3DE/s/q/7W26jwbX9/bDuNUaFVc8x9smjbS8IXJ/vkrmbhCZhDvY8fb3\n",
       "X9KNNx9th8gCuwfx53lDLboqmJXeEFj3A8yig9reIttTj9xfqKHzTTd9P/Y53jZpndoP7Eorhy+/\n",
       "N6YRTCXdga9U2/WkEn9g3o2aFmvk3TKFg30cf9ipU8stnRkRi/p9fbFMRA0HeNt4t5ZLs/vA9nup\n",
       "NE+7g+SZAtII4rK8A393gE+omsJzs0JFBxzuv1E3oY3W933+5FHvRsKeRgsmhZ+sELy5EEuXKt0x\n",
       "2q+f4+6gMt8X3O4ub+gTrei68lOzMnXlYxvtSCAuhPWuvzfUiP0SF2d2lMi+QfBmpzenwPvA4B6z\n",
       "+XOn/WeUO9wKH4+CErYMjC0YPzYLKKAD+906qF+4gDYi6lxHB5HE8eB9QEilCJ8/c0ncZ5Q7xDQN\n",
       "MC5q+LsD2MLjY7OAQmyat/Fu9gGdU9Apf8i7QyyjpTAuq3rij9dNZWbebkCBIc3b7eAM8Hb0gfF5\n",
       "kqyCoaGgocIIUZhRnLw7wK2E00oJe/7gahZsS1bRAX/nXJB64g+x+VqD+FhcbfWcguTXbom7A6PL\n",
       "NQ8LqEZg97FDszK2ZBUd8e+dew2M8stiREen7g4Ivyok43EYiTIzYVvyil5/7rWRFMYFNcLz3YG9\n",
       "VN9NhJDTXolpy8zM2JJXZF5/znwMUtoxleLij8IFdwe2Uv31TAL+uM/ZrIwteUXvv9dx2QFJ7Ijc\n",
       "uDuTujtwkaDu3KOSeFuyitT771GhV5RLyQJhWeruwHKzaV9htKbQzIwtWUXtD9xbhO8JH+YU//UY\n",
       "Ig9I3R3wZXEuxR77Su8JZ2zJKfqJe8LoAceYmisz2TwgdXeAOAmH5YMpNjNjS0bRGb/2PRgDg/HH\n",
       "VkT8kZnFigL8Wt76YB+8p1/Z9G71MzOLFQX4ve95Ih2MP9Luv+ep0Kyffc9TyXvVnkfJ4bmZRYou\n",
       "imvypr783tBBw7h+bB54BTMLFJ2x6+aK0eX33xs6fOu9oYGiAM/vDf0PWQJogvEZxKwAAAAASUVO\n",
       "RK5CYII=\n",
       "\" style=\"display:inline;vertical-align:middle;\" /></a><br>"
      ],
      "text/plain": [
       "<IPython.core.display.HTML object>"
      ]
     },
     "metadata": {},
     "output_type": "display_data"
    }
   ],
   "source": [
    "mult_frac_cancel_numer_left = Forall(\n",
    "    (a, d), Forall((b, c, e),\n",
    "                   Equals(Mult(frac(Mult(a, b), c), frac(d, Mult(b, e))),\n",
    "                          Mult(frac(a, c), frac(d, e))),\n",
    "                   domain=ComplexNonZero),\n",
    "    domain=Complex)"
   ]
  },
  {
   "cell_type": "code",
   "execution_count": 63,
   "metadata": {},
   "outputs": [
    {
     "data": {
      "text/html": [
       "<strong id=\"mult_frac_cancel_denom_left\"><a class=\"ProveItLink\" href=\"proofs/mult_frac_cancel_denom_left/thm_proof.ipynb\">mult_frac_cancel_denom_left</a> (conjecture without proof):<br></strong> <a class=\"ProveItLink\" href=\"../__pv_it/theorems/24b6c809428b685ff992389e19c5991af326717b0/theorem_expr.ipynb\"><img src=\"data:image/png;base64,iVBORw0KGgoAAAANSUhEUgAAAbcAAAAzCAMAAAAjH7ajAAAAPFBMVEX///9KSko9PT0oKChfX1+I\n",
       "iIgiIiIQEBB2dnbu7u5ERETMzMzc3NwyMjK6urpmZmaYmJiqqqpUVFQAAAA0nBfpAAAAAXRSTlMA\n",
       "QObYZgAAAAlwSFlzAAAOxAAADsQBlSsOGwAABqhJREFUeNrtXNkWoygQdRZkF8T//9cB3AkUiJjT\n",
       "5gwP3d5OmrrhFkWx2XWNCvWl+788XRo3dD/Zor76CxiHYPP2YrQFy8uGQrvMNTRrp9vwbcczGoLt\n",
       "C+/pfZYVhiJ29Yt1MwSCTQWT2AeSsb/NssrQp90X66YlBBuXafR/EXOTZaWhD7vv1U1gAcDGZZiW\n",
       "SNXrWyyrDYV236tbjyDYuJA1UI2Y3mFZbSi0+1rdNIZg6yLV51MFyxuGAvha3TCB4B6nDEGizOcJ\n",
       "QprHa+DLqOMDmahlmeECGwrgW3VDEwXg/mvd8MKmgtgmettiiuVrkKaSZYZLztAZvlW33kBwm7Fi\n",
       "N5yrkuy9dz0Do0QNh6RwnGgVywyXrKEzfKlufOIA3IqaNkkyRR1bhU4yXQOdUBXLDJesoTN8qW4G\n",
       "Q3AfXpj/wQXE8KkdegXUwPoqlhkueUMn+FLdsIHg2UX1lK8v1YliNejizORIK8OlwNAJvlM3PmkA\n",
       "HhrDZWdGdmO2pZcahoIa6KQrWGa4FBg6wXfqhs6eiFI9gCG3tqe6/JxrziQJL6kBmxqWGS4Fho7w\n",
       "nboxDMGDixpEuDCoYCOFEK0RLaqhdIA708pwKTB0hFa3XcVR39etVW0XsogQPl3IVMXytqEjtLqp\n",
       "rZ9IcV+3VrXBWYQC4ONFT0MFy/uGjtDqxtcuIu75x6xbq9rgAR8B8AtZEWr4tbrf6cY3uYR1MrYY\n",
       "3xrVBpVxGgH4eCnsSPdpAXHF6aaXgejmxuOiW6Pa4PjBAfh8mUwFywaGDtDnk7h3BZMmujWqrcU0\n",
       "4DHdWAXLBoYO0OumvGMw2ka3NrXBeRYF4BdWa46xRPWHYtrSwjIFvW7CrH/EWyno74gpE9lIWnWD\n",
       "ayuO7a6/CjSiiNOqc4uob+vWF03gGtAKDB3gPO92nYOkklsxTxs4MowN7jSfsU05MpKcd++1cXkh\n",
       "qTy7g1pznMg4aSYATrmyD/Oy/D9NRxt90S52klaGQNrQAc66jQjII5D/ilJLryPUN61O63aoLX8I\n",
       "LeEO2lVGHc/IgQ5QtwveXDu/qtGtikBON9vMGq3xSSMi9milkXSfoHXxg2o+6yPS61x7bTiXUkXc\n",
       "gSil/v1H2Qm8cHGh5392nEyOb1+Ik3aytUy7aC/s/G7VZEbc9YZtViJSi+u7blttdqaIzMaeoFVO\n",
       "7w8acIfZEef+JiIjrgDgl/MSIHsSjQ2FeYk75mdW/7etjffe4NrePgzbWqOmmuZ022pDPe2Q2j9f\n",
       "a6auE5mEO9j+9vdfyvU3H21lLMPmAPyCbkVJVwNa6Q2BdT/ALDawbS20feyR+4aWzJex43zgOd22\n",
       "2pjeD+y6nRK6/LsxnSA66Q50ldrmk1r8gfPuooGxxbxbpWCwj0Nd32Z6uaUzI2QR3/OLZSDqKKDb\n",
       "prtlrszuA9u/Kz3StDsomltBGgBIGe4flY1ORWsKAa0KXoGhIwz337Ab0Abr+37+5BF3PWGfRgui\n",
       "hB+sCnRzIRYvq3THaL8+x91B55bbc9vd8tn9geJ15XAj6yqvzLrysQy2JyAXwrhr7w11Yr/ERYnt\n",
       "JYp3BbrZ4c0Z8D4g3cdkfmajfy5yh2vxY8bPrjOXLhh/hNOrvID1c2C/ewzWL1xAGwrWuY4eopDT\n",
       "wfuAUH5D2T9ThebN5QJ3iJqSEBwenheULjwGtK7zAtZh07oNV388dE5hTPlD3h2iU1rwGB55dngr\n",
       "nueHpwMv8wLWF9K6XT5lAOh29IGhQWfQZ88NoDR21hgNSYkrAJHFUYTSyVHp+YOAFsArYRQ4jvGd\n",
       "c0H6jj9EB+wxDelkZ/00EstSVwA+3cxNL3kqaRSl+9gByySvlNHA0An+4LnX+SD951H/1BWAiDB+\n",
       "KWdIdiNRxTLJK2X09869dgqn4Xw3YpnrnI76F0ZoNiGEktsjnenrWJ54lRgNDJkfOGc+nOe0J+i7\n",
       "1bDGqOCof1H+Di9jlR/3ObM88yowGhj6hXsd4RbIEfqW+exc5fdo4C/qK/eoVJfllTQKJl9v1Q34\n",
       "UX7/An+mP4krAF18HAznr/unppJlilfKKHjF7wfvCbv3vLDIilLqCsBna7uBiCqRiH2194RTvBJG\n",
       "f/OeMNDhqCEq6tWJKwCRdQr3xVTSYmpZJnnFjQaGAvje92BIAsHnEiJ6h2W1odDue3Xj541wjr+y\n",
       "6d2Pt1hWGwrtvvg9T4hB8Jly/T1PlbR+9z1P33yv2hat5G2WVYY+7bbUTX/7vaFyhOADoVnS+ywr\n",
       "DAXQNXPD6PL77w2V33pvaKCTjL039D/5zmhvgKXKdAAAAABJRU5ErkJggg==\n",
       "\" style=\"display:inline;vertical-align:middle;\" /></a><br>"
      ],
      "text/plain": [
       "<IPython.core.display.HTML object>"
      ]
     },
     "metadata": {},
     "output_type": "display_data"
    }
   ],
   "source": [
    "mult_frac_cancel_denom_left = Forall(\n",
    "    (a, d), Forall((b, c, e), Equals(Mult(frac(a, Mult(b, c)),\n",
    "                                          frac(Mult(c, d), e)),\n",
    "                                     Mult(frac(a, b), frac(d, e))),\n",
    "                   domain=ComplexNonZero), \n",
    "    domain=Complex)"
   ]
  },
  {
   "cell_type": "code",
   "execution_count": 64,
   "metadata": {},
   "outputs": [],
   "source": [
    "# mult_frac_left_cancel = Forall([x,y],\n",
    "#                       Equals(Mult(frac(x,y),y),x),\n",
    "#                       domain = Complex, conditions = [NotEquals(y, zero)])"
   ]
  },
  {
   "cell_type": "code",
   "execution_count": 65,
   "metadata": {},
   "outputs": [],
   "source": [
    "# mult_frac_left_partial_cancel = Forall(\n",
    "#     [x,y,z], Equals(Mult(frac(x,Mult(y, z)),z),frac(x, y)),\n",
    "#     domain = Complex, conditions = [NotEquals(y, zero), NotEquals(z, zero)])"
   ]
  },
  {
   "cell_type": "code",
   "execution_count": 66,
   "metadata": {},
   "outputs": [],
   "source": [
    "# mult_frac_right_cancel = Forall([x,y],\n",
    "#                              Equals(Mult(x, frac(y, x)),y),\n",
    "#                              domain = Complex, conditions = [NotEquals(x, zero)])"
   ]
  },
  {
   "cell_type": "code",
   "execution_count": 67,
   "metadata": {},
   "outputs": [],
   "source": [
    "# mult_frac_right_partical_cancel = Forall(\n",
    "#     [x,y, z], Equals(Mult(x, frac(y, Mult(x, z))),frac(y, z)),\n",
    "#     domain = Complex, conditions = [NotEquals(x, zero)])"
   ]
  },
  {
   "cell_type": "code",
   "execution_count": 68,
   "metadata": {},
   "outputs": [
    {
     "data": {
      "text/html": [
       "<strong id=\"frac_cancel_complete\"><a class=\"ProveItLink\" href=\"proofs/frac_cancel_complete/thm_proof.ipynb\">frac_cancel_complete</a> (conjecture without proof):<br></strong> <a class=\"ProveItLink\" href=\"../__pv_it/theorems/1dd26cbc8ab680f2f6af09d8755f447db4ab22140/theorem_expr.ipynb\"><img src=\"data:image/png;base64,iVBORw0KGgoAAAANSUhEUgAAALMAAAAmCAMAAAC4YVoxAAAAOVBMVEX///82NjYbGxsSEhKIiIgi\n",
       "IiIQEBB2dnbu7u5ERETMzMzc3NwyMjK6urpmZmaYmJiqqqpUVFQAAAAnLjGdAAAAAXRSTlMAQObY\n",
       "ZgAAAAlwSFlzAAAOxAAADsQBlSsOGwAAAsZJREFUWMPFWIly6yAM5L3KiPv6/4+twBeJXbcQH5ok\n",
       "k8xEeBGrlRBjd5sLnY7CCPaMuTghAIhCITbsQA3PgPZmxs4YRGBuaHGOT0BWfAqV1/ROgkXf4i7D\n",
       "A5gNzuBzqE0zpfn97AipfiaH7my40QasfthE/BBtgdPZ5142L2EW0rLI6Qs2LiHxZsxRriRRwhFm\n",
       "25pUnt+MOS0iIRwAC84364BO5LKSOvjLqdFJxrqYDCTszi46dDW9feoq2dGZSm6yQKo50FpeTmfT\n",
       "6QgVZsgbnzsPvLzG8HgCZspeOrGJxub6FMQTMKuchIwP2TjeKBsfYBZlFaeKWDcUJHeYM4cydbjs\n",
       "UFn8ATNLueLrOH/8tE3pIuiqOTjKViw6hAi4lbpwQpwnhuUQo908AqKkCktlNpIIhrpoHmAe9+5p\n",
       "g/b9Xzatz0iVtWIupxxgJwPdSBnajSgR9n/DHIvI8+z7XkHOirObJMNPJw/gNL3oy5wvwqsxPHof\n",
       "8+IxxhJH5uZn8NCIuYHPWZonkQad+xgTiBCLHuqwqY8V5sXDyWxf9PZT/zb49xz0p8R5XEXPak8/\n",
       "JeQ7hF2W98KLA8yLx7i4r3rO95ZeJOjEjBXNFvWJat2GHq+aJWx0/1LKqgPML7ydT2fkxoYK3PWV\n",
       "/MiTWe6NKm3VghfmqjXjphysdVfueGRu/P8nCzf2c5CZMzqa1+tZ5ghDM5aMtcRoLBmGu/pceVTt\n",
       "FiUm0Wuj+O6Mfh3fhwsOLAKI0uUtjBBIRHFqnxurx0sppZrixLYXPeHWLA+Kn8B8znbfb//Ufksx\n",
       "kU5oHXvFZx/z742hdB9Dtr13nV3MwTZdQDvmdYV0vS1z7yVMVDrVM6/bKa7X2xqlvnkdg7tHBXPz\n",
       "1D+veyDM1Si3b14Hhj1gxn8wr9NcP4FZDLp7XieGJ8bPOVal7e2a10nPHjKtOud1YhbKb/yZHYRJ\n",
       "1X2BAAAAAElFTkSuQmCC\n",
       "\" style=\"display:inline;vertical-align:middle;\" /></a><br>"
      ],
      "text/plain": [
       "<IPython.core.display.HTML object>"
      ]
     },
     "metadata": {},
     "output_type": "display_data"
    }
   ],
   "source": [
    "frac_cancel_complete = Forall(x, Equals(frac(x, x), one), \n",
    "                            domain=Complex, conditions = [NotEquals(x, zero)])"
   ]
  },
  {
   "cell_type": "code",
   "execution_count": 69,
   "metadata": {},
   "outputs": [
    {
     "data": {
      "text/html": [
       "<strong id=\"reverse_fraction_of_subtractions\"><a class=\"ProveItLink\" href=\"proofs/reverse_fraction_of_subtractions/thm_proof.ipynb\">reverse_fraction_of_subtractions</a> (conjecture without proof):<br></strong> <a class=\"ProveItLink\" href=\"../__pv_it/theorems/fe6eddd6b13c5243a810fddc38cd687d7804ea790/theorem_expr.ipynb\"><img src=\"data:image/png;base64,iVBORw0KGgoAAAANSUhEUgAAAT0AAAAyCAMAAAAZZPzOAAAAOVBMVEX///82NjYbGxsSEhKIiIgi\n",
       "IiIQEBB2dnbu7u5ERETMzMzc3NwyMjK6urpmZmaYmJiqqqpUVFQAAAAnLjGdAAAAAXRSTlMAQObY\n",
       "ZgAAAAlwSFlzAAAOxAAADsQBlSsOGwAABLhJREFUaN7VG4mSpSjMmQn3zf9/7AIeKE8Rp3unI9X9\n",
       "qhRCIOQmThP2JiSyBXHBp7e04NAtSZK3kC8whIvy5B3Ecxrlslh4A/EUVTgXRtwLqEcA6cI8xa/6\n",
       "HEW7NG3RU49Wk8GBZWGRNuvs3rlzgMAlY37I+RgYfI7ZRIWceBArmVgSlmyCRV646QClTUKAyQ6Z\n",
       "xZHBF5g1dsNB6gKln7dIsyLUnWN3qc8lqg+5iSODrzD7iFvzyVijDD4vf361qhyuSW3L2NI/6ua0\n",
       "g88mPMWc30dATb1wsBnlrKG8uls2fbKv+8EXmAVul5keNEvhEZFfSdOHKwqdD8rVwOALzA613ZDx\n",
       "oI3K8gkrarwXwZuZZ0cCvMHBF5h5xOwxw/FsWbZ5mR2N6UqZ5DYRxIw4LIODrzBTzFZXNK6ytQx4\n",
       "sKx74twCTN66MW9vcPAF5qz4KgE9Lk6kArlDxWIi7MaOGpUW5BF7LOSS7yxX5lO4zloi96eWFerF\n",
       "XI9Fhv8uixE9cuoV6XCLutPY5EIip94Us9jSEphQZClwQJ/EmGLWdbYcMraLIvZ9UbjdRa/kG500\n",
       "msVVhfXn/2hdy9khkI3os7eErGzHzHdJnLABVLWXPUveQxriQUj+pt1K3hcnJcWf9/BlmyEhiBQ1\n",
       "ptAxJHXlBRuhXpffQ5zQ8x5dzK37mnNl7WIgGS8TuSHqhZ5dsPj13iy5ydVbnD4DIYd/E99uAgGs\n",
       "Sn9T7a6xnSRalcgZ1hiPuyWJo86o14Ab1kzTWA30NpfOAquWdEFinHTiLm1YL7sBlRP62u+65Ra9\n",
       "W2mYLZmezcVVvt1zpV4FtyK3P+nf7aZpPRb0/t6aZAnzShXPNQYBCtVmnzVtH6ZlH3M37LhJFfYx\n",
       "W3rBcccvqdeAg2umeZ+33J55Lhuh5pCC3ktQ7g6wsxXzRnXhJeEnKY28pN4RvDLsOk0bqRnkxOOx\n",
       "PXRi0suZ59at0Z0WS90T3eiTeU4lXpN1lsVq7Bw5cZy9gGfJ/f1LLJK7TtPG4NiLHT7zGFpOJs5X\n",
       "dZxlhTgxXTxeXihE5u75SWkvjTjGKYoVC8PO/b0VPKPejEed5kYusLXPPIYJ4BxzpjBd6rRgGABf\n",
       "nnIiVuitjzs65wRVrVDkLImxleeSu4IfCF6nacRAI6feTSTu2yeehgt30sdZFsNTRbWj3h783r8M\n",
       "FDn1+v684e1T0vhGn/T12o56FXwktHGNu8zBZsrzG3dX5nts9UBn3gNcYO5fHbiPJ+OAnfUNUq+C\n",
       "+wF7Khu1stSTuH4ExzUw8aQ4cQDgHLP6F8nvv48Yjjd+az1J6F8gFOPNHgR59wAXmHHfhk+WNsms\n",
       "UjSxVU6cFZ0sSvhhhLwD6FSytDUbAXclRltpZrIilLchiHoqUPcAp5ix31qRo8dX6kngzhKXsPEJ\n",
       "8w0AnGF22LO3zQJLPYm4MQi+mJoHVmME4AwzQV82f7ypsrmU5CZ+k4IJYGQ8wTAEcIIZf+Vtw3w8\n",
       "MLA3i2a5nF0/yC8MAZxgFi/4YkO3WQz2Y+HbEbOJL/jYSu6+dsnL59T/EOEazMRPL2i7VGz+8uVn\n",
       "vlr7xPyOL632q/YO7M8kTD8wGz29pGl8MiL1ez7Qxfd1cyXef4gCOmqssLgVAAAAAElFTkSuQmCC\n",
       "\" style=\"display:inline;vertical-align:middle;\" /></a><br>"
      ],
      "text/plain": [
       "<IPython.core.display.HTML object>"
      ]
     },
     "metadata": {},
     "output_type": "display_data"
    }
   ],
   "source": [
    "reverse_fraction_of_subtractions = Forall(\n",
    "    [w, x, y, z], Equals(frac(subtract(w, x), subtract(y, z)),\n",
    "                         frac(subtract(x, w), subtract(z, y))), \n",
    "    domain=Complex, condition=NotEquals(y, z))"
   ]
  },
  {
   "cell_type": "code",
   "execution_count": 70,
   "metadata": {},
   "outputs": [
    {
     "data": {
      "text/html": [
       "<strong id=\"cancel_negations\"><a class=\"ProveItLink\" href=\"proofs/cancel_negations/thm_proof.ipynb\">cancel_negations</a> (conjecture without proof):<br></strong> <a class=\"ProveItLink\" href=\"../__pv_it/theorems/4a3f35cb8f714cc401eb9952f062182e466794960/theorem_expr.ipynb\"><img src=\"data:image/png;base64,iVBORw0KGgoAAAANSUhEUgAAAN0AAAAyCAMAAADvCC5/AAAAOVBMVEX///8AAAAAAAAAAAAAAAAA\n",
       "AAAAAAAAAAAAAAAAAAAAAAAAAAAAAAAAAAAAAAAAAAAAAAAAAAAAAAACXHtMAAAAEnRSTlMAq1Rm\n",
       "mUTNIjK7EInv3Xbt5cmRiLwgAAAACXBIWXMAAA7EAAAOxAGVKw4bAAADw0lEQVRo3s1aCZLjIAzk\n",
       "NLd2l/8/dgFfJNiYmTLG1CRVmQhCg9RqZBAa3pS8dzytNHpNw/TuEaV7DTxs7h+TuJeAo1OPUQ1+\n",
       "BThhRZdxHX0DOgd9xiX2BaFHba+RJzYena1QigbAWhpDWpJAYcu9GA0OfMV/wuIDBsRa+O/AdhpO\n",
       "LK4yAxrWngb0LenwyJb4wZEnfaZS9OT2Fv4fv2KN6eLIVnsYiw5fcYr9wQQLWzU4pduL0EjMoNsc\n",
       "rLSlY3lFelqTwnze2wahdmyr/dCMDrXFJV5qFmbMGxLCia0dypqqFnaaASDCaFO2O7aNgbcDJA/v\n",
       "pFV9xzc+MCnf8t+zUah9Z7FEPUdy3TyhniYVeOAHpoVGmwTdnTLekwecgy7hNj1MKtTLzr/go1va\n",
       "JH6seRgddM+2PsYaS2v4eCHJ/FzmskyKuutsZqM7Cry+/a5Vqe8cAesu4p1bt83wZo9SDIPI+K7G\n",
       "tfOwxkDp99h/eFGtXXngialLcoHANadIwCrIuaDpcAgXokwTutkjaBifqzq6LntnF7qkF7mHsYXg\n",
       "jE6WtA0dTsRhY9+CQ1j3uJs9M6S6NekBMBH+llMFxBHiC1aRpqmcXVgcott7zB/TGogEw5KCVXpz\n",
       "pp0dUqxyGgTCCk1kKcWgMC9poztuKViQYk4qK96sPZiK7U940aAZIrqiwgjd892KCi8/FGagAC0f\n",
       "hI4VawiT59vMqKb6HN3eY54/XRSRPjo7P5DNSzbP/SXW+DHEcnjaCkWQlFyeo9t7zIfKBXNCV+gu\n",
       "4nlfcNoXRB3dasPn+EwJcjdbWCXPYzm6tUf0zL//VPLME1aRvc/O3zJdWGSmlJ51wuMk4v5TyAiT\n",
       "OMec5LutB9oPH4GqgnPjFsfpK9MZcAOg4xbGb8J5V03z6WjzR22CmzJ54plbjw9pF7I5K+nfddbt\n",
       "NSEb0OnwraILpuhlx4GSoct6kMvTG7Z90VXkAteJHnjD+mbosh7XHWk1nWtgcZl0k/49NK5UNqIx\n",
       "p9ByLMqz+daD8Iaorx1fDSI2LUHTeePAWNxz9v+15KiV5CSZn3nglnrIofHgai1ieeB9PUfQS/5v\n",
       "KrYfGuPBlXZezec8hqVsFDQHxqOfkiBXy3jpoQ408mppTEc/4arPQOH1rYXZCmM3/tpDrVTFcHS4\n",
       "RrVWGL/gyXJ18zQOCqd1joWxesONlameUM1PxFpuzP0bLlPJ09s4ca7aknZgH8aOoDc0OMvW8Z5O\n",
       "8x2yb+OX3KQ6R0AosObj7Zcxn9Bb2nS7E8npRRc0b799uoP7D3zkIqZoxaH8AAAAAElFTkSuQmCC\n",
       "\" style=\"display:inline;vertical-align:middle;\" /></a><br>"
      ],
      "text/plain": [
       "<IPython.core.display.HTML object>"
      ]
     },
     "metadata": {},
     "output_type": "display_data"
    }
   ],
   "source": [
    "cancel_negations = Forall(\n",
    "    [x, y],\n",
    "    Equals(frac(Neg(x), Neg(y)), frac(x, y)),\n",
    "    domain=Complex,\n",
    "    conditions=[NotEquals(y, zero)])"
   ]
  },
  {
   "cell_type": "code",
   "execution_count": 71,
   "metadata": {},
   "outputs": [
    {
     "data": {
      "text/html": [
       "<strong id=\"neg_frac_neg_numerator\"><a class=\"ProveItLink\" href=\"proofs/neg_frac_neg_numerator/thm_proof.ipynb\">neg_frac_neg_numerator</a> (conjecture without proof):<br></strong> <a class=\"ProveItLink\" href=\"../__pv_it/theorems/bfe74217662f386368935f1fa9238cd16d279f590/theorem_expr.ipynb\"><img src=\"data:image/png;base64,iVBORw0KGgoAAAANSUhEUgAAAQsAAAAyCAMAAAB8iQ6xAAAAOVBMVEX///82NjYbGxsSEhKIiIgi\n",
       "IiIQEBB2dnbu7u5ERETMzMzc3NwyMjK6urpmZmaYmJiqqqpUVFQAAAAnLjGdAAAAAXRSTlMAQObY\n",
       "ZgAAAAlwSFlzAAAOxAAADsQBlSsOGwAABEVJREFUaN7NW4uy4iAMZXfDs7z//2MXaLUtpVgRixl1\n",
       "JrdyhJCEE+AiNFy4uBWLcVZRx4ozN2MJzCrqUFPQ27EsrqnjxMgBWNTV1FEykWkEFjY1dZBgGIJl\n",
       "CauogyKEDMKSuqYOEXKe7BiAY4JS+xUs5XfxlKkjBPy5b4aZAgdI4+9gyX2+lMPTJz7vgQkTZcLw\n",
       "LrOPN7Hs3nTWD84Ywq8skUm8SvhzfKJlG9bhWQGLeaioA2jWi2xH4ItYHNfU+zNnPUhTQmPsS1hm\n",
       "ny7N2OwpvKkUUGqeavotLLZvwfxQvgWVqbBeMB36r+zXsDJPIkNXEl4JcaYBkNXGfg+rkDBWc9ib\n",
       "vYTwoVjUH1Stnnzj3uzBvB6KZbzKVfFwjInf6xai45LegpW1SapcVprrzL+PWG+HYmW+lFSzpAl5\n",
       "rymCU4qxWN4dVZJ4L6E32wI6spsmLM+Pqk42vX07mL5fDulNzbKrxWhLaUXkUZ3c46NJqhm80kXd\n",
       "sTRswsK4oEaXoOqyP3LtYFpzcG35mVEphUIAuu367mtyoTLbfCeveNEZFN7zs1m18DpzCnA88PpA\n",
       "7l0ITcvpFVvMzmYCvOJ1W3xa8bZgFW0RDGFerM9aL4masvRNc8kWLmU0kiZn6uDXp/miX4wEavEg\n",
       "GQB6Cq+l0IX4e/END3rOjJiDaSrZYm0wq8lgU+onscfc2W8dacIq5c54srD0HybkOJJzv4MHhGEI\n",
       "EgPjSWomm//qaou1geZR/oW3CYQu2uJ4BAEd+UUT1kmh6hao0GEOaFEmFk/XIIxVPQdimGGntlgb\n",
       "zB00C7llxT2q8VxL11SUBXY8n3QQD+fSPHOLhFDi1BZrg3kLZbFQssWRJFuvutmiBYt5WlHTLJJN\n",
       "LsBqznxi/dqSOzfEYWuLR4MYI3//8BQjZ7lTdNxJasEq1WbbNZAgKhN7Ymn0YXlWfk9KJ5oyKy3z\n",
       "i2cDtNa/IR+HKHMvffQjacDK6rlDeadBUQAW3SM+sdpwOdfzz8hgNASMFuUYeTbYcfrAtXRhzcMd\n",
       "q8EGrKyGqe4ShmGHp9wsFogOXwzKjS02DezrDQXX8TC1ASvjZxW6pljKguq1vTe22DS4ME+mSJAY\n",
       "6GhN9l59ZKpkq4iZbQtWdgljW2XgQiG/5VrPBlZdSV6lDRiKLEmDezMR1jZzSpjTPldOXXbZ2tlj\n",
       "aRte2PkI2PHPsaqYv3VWhDQpFvmJlhH4HKuK6fbViBt8hqiKDEnF0BfvEklVZVsFzCwmRp8tI1xi\n",
       "BelEHEgXrHPMLNma0XcOyj3g7vHRbyU5YmbXNfD4q3ylDWftok+bLlinmL93R6k4mcwFmtrQt5pj\n",
       "HDAzv+O/cMNTlieTyn5YJUy1t5vyv3ANWhzup8YuM2K7YJ1i4j0+tugXBHJOFW+sNt4RhzN+lmP+\n",
       "5h3o47itAa06YZ1gZkWWkuhXRNqbsYRkFXWs3P2/NPuxb9T/Jso0XkBxjosAAAAASUVORK5CYII=\n",
       "\" style=\"display:inline;vertical-align:middle;\" /></a><br>"
      ],
      "text/plain": [
       "<IPython.core.display.HTML object>"
      ]
     },
     "metadata": {},
     "output_type": "display_data"
    }
   ],
   "source": [
    "neg_frac_neg_numerator = Forall(\n",
    "    [x, y],\n",
    "    Equals(frac(Neg(x), y), Neg(frac(x, y))),\n",
    "    domain=Complex,\n",
    "    conditions=[NotEquals(y, zero)])"
   ]
  },
  {
   "cell_type": "code",
   "execution_count": 72,
   "metadata": {},
   "outputs": [
    {
     "data": {
      "text/html": [
       "<strong id=\"neg_frac_neg_numerator_gen\"><a class=\"ProveItLink\" href=\"proofs/neg_frac_neg_numerator_gen/thm_proof.ipynb\">neg_frac_neg_numerator_gen</a> (conjecture without proof):<br></strong> <a class=\"ProveItLink\" href=\"../__pv_it/theorems/b13259a4dd7db4e92b3c23313084340631654f800/theorem_expr.ipynb\"><img src=\"data:image/png;base64,iVBORw0KGgoAAAANSUhEUgAABIAAAAAzCAMAAADYZ4OgAAAAOVBMVEX///82NjYbGxsSEhKIiIgi\n",
       "IiIQEBB2dnbu7u5ERETMzMzc3NwyMjK6urpmZmaYmJiqqqpUVFQAAAAnLjGdAAAAAXRSTlMAQObY\n",
       "ZgAAAAlwSFlzAAAOxAAADsQBlSsOGwAAChZJREFUeNrtXYm2pCYQNQnKpiz+/8cG0FagWdTu5/Je\n",
       "1UlmprRYL1wKBLppjglx0oCAgICcTyHtaERALR4WyqAOAI1fTjGUFFRqKYQeJqAB6vcT0fJR2eUf\n",
       "vQY0/qiwlhRUIxII6KIWjx+VXaTK7wcEaIAkRLUlFQjoKpH9s5pRtYMiCWiAJATrkgoEdNGEpnvU\n",
       "nIVs6KA9ATRAUkQhSyoQ0DWgPGvGIja4N1IAGiAp77kjBRUI6BKXv3tWfjdltyOABkjKNxYFFQjo\n",
       "kg79rDVPtWmJpJeABkhChpHnVSCgCwSNq7NAELYdlwn7hSDvQ2w02yg7YxM4Fw3ShGE8fSGLlxcn\n",
       "YW3LGl7iprrFRjkYkY/GwYr6Ljo7owtRuGPt9zqvAgFdsebgIYDNpNj8pakdGvJVutFso+yMLefb\n",
       "mA6CNGrE9Gk1+SmJ9AjTNDVtttjabQ9G1OqPK+q76OyMLkThjrWvQooPVCCg84WN665bpqaW09l1\n",
       "0N74piTZj2MzgrHWh4fat0RrUKc3AUkTUprGNG/iU6mlFG4zie0fJPOte7H4rEx+UofRqFbUGejs\n",
       "hCdC4Y61T0aUVYGAzhft9VQytbOpF5ixjCHU+lD1aTO7jrcOeYtZZZDKxVa2NsbDPMi1q5igLnTv\n",
       "9eR0fohrlpmCeRaflcmL6Dgab7Ffgc4meFbrCIVb1j5tsyoQ0PnS6TeHFLle4AaGYK9oK9Jm1jHn\n",
       "69DdbvsEnoutZt3loe7W4EPXpPLDXxaZgi0Wn5bJS+o4GsnZw9nobIEniLRD1Sq5tPZluAztq0BA\n",
       "F8zAAmfZjV7U9gI2vLWUnJkkQXPZLVFsQpohUjdIpo9kttlzGO6LxnygOZ3xQU5jerZgi8WnZVoj\n",
       "csURh9AoV9RJ6OyEJ0DhlrVPwkr2VSCg0wWFw4FrZy12a4+FlhKbmb/b43kIYiNy6OTkCqCkO0CT\n",
       "YxuhwzR/wYWmpBx36ULBPIvPyvSK6FUcfgSNWrWfgs4eeGIU7ln7kZvpqUBApwsNFx2w/dZhERmG\n",
       "UhOPzRIHi4NliXVFITWdD2LjBFkTO/ylP7inP26okRFhyjLM/lEqLKOYItyyfMF8i61lShZpiehV\n",
       "HHIEjVq1fwedSlH2wBOj8PO1n8xzpfbzi0BAQOcvAUVVLgRGRAssm1ITj804JcVJ+To7T07nw9i0\n",
       "XfPsspMtlswSEQg1SkhVaBDYfhzrS33Xt9hcplSRvIhscYbuGBqVav8SOuWi7IEnRuGE2k/luVL7\n",
       "eMyphoDW4U3J3QR0MPAfFlK5xU1t8oO5iYR/7QhlZ4ZARO0iQJNeBNqwNsBr+a4W7GtlssURomFf\n",
       "QOMO6FTh+UrGf7T2ZbidyVMNAYlF6fluAjoY+A8LG9HnTZxTxpj41uErPs4Dl20NKYMtB02rB1Zr\n",
       "BftamVxxWqbYF9C4ATp1eL6R8Z+t/aiaPdWUieklD/unYAcD/2FRY+luL477Edf7RGcvsxy/laVB\n",
       "zwMI1yjdBCmvd7rK+2rBvlYmVxyE5edo3AKdDfB8IeM/W/uRo+mpdg3odZMLVvsJ6GDgPyxyfODt\n",
       "w6Q6vFAOaIBkZdQZ1RKQnNlq37VwMwEdC/yHpfLd96ZS2+OHOKABUiAgmlHdV7DOba7feSvB66PH\n",
       "ocB/WPAIv2UEaPw16fqM6ghIODeU7oPiRUCHAv8GKa4H5qtDQJO/ACvvFFtw+h3QOEfaNqM6AuL6\n",
       "9ccBAjoU+InOOhUa+TOR0rIIdpWDMXp3DPUIzfE+AmicREBdRp02Ilr/Be/cWLjsOzsS+DHCkKZ0\n",
       "sKuwmjeNongTAU18LO2OLFpu8iPIT8o+AoqP+wM6X6v9CgEptH8VeSGgI4Ef47qL+SMJJs73kdsI\n",
       "SLuVzc61YQ5TsDsDDGjcYApmCUROk4vUydv06eJ15/0SeLCH5YhoSHwQMPsiJRVjkxNu/vNsve3Y\n",
       "rO35EHljqWdpb+fNcPmxKyLZvF89SUBRNgZHU9y17S7enoDhu8uN1oAAjXOkvAhtd/FM+3lSJ28z\n",
       "p4tXAloCI3sGze0sCvt79kVKKsaI26sqe+XZstW9E2zAMVOmnqVbaWy47n5RXL01VBpl2WZDUCv/\n",
       "mf9lwxwBtfF+OAQ7T+60sgdonENAuePwMwHx+Unq5G3mdPFKQGtgu9/b7hmPdoVkXyTXT8rG0t0O\n",
       "wXxb5E+GeGI/AN+6RyAyHBbykESSPAFF2Zj9pomAungDDWx9u5MAGudIdOQu3AntVi1eOKRO3iZP\n",
       "F3uHn9fAeLo+z3a64HCt92JQSJT9ID+WZGF4aKs9Qzb9O0h8elZP9xV4bZ29c2ioahgbWJ6Awmy8\n",
       "/KZpCva21V+NcI3AfQTQOEXIiDPq23UcqZO3ydPFqdsXzDMyTm4KC35QxHvRNdM/CwtWq3GSJjpv\n",
       "KcbmomOBz8JJmPj8rJ7ubOiltNbavAjt7++hUWW4WjJ09e8/1E3BMovQlSv4QE4VQOOkai4cRg0n\n",
       "IeHJW4Kb3OniFAH1rBnG6aJ+YzAtDOHoBZ89LPci9YdvLIWSUgwKs/kt7xrcN0vW7EURw7ikw3vF\n",
       "pg/fLvHgWTXdl6FJT6qJelY/imO37o0z+4CWbHjHcxuE5qN5RW8U5E5zA5AfcjRVRo0JKDp5y+xH\n",
       "nPTp4hQBDRpJieX0ZiIgF0P4orEba6YXrOPhH5Gxss6YmY45QnBvBRowWrJmr2Ki/ZKOILLrV/aL\n",
       "nlXSfRm6NNt5JreQLsFmPiZYZgq2ZCPYE44xSlxw0MKxuRsJoHGGREfuPLV6I6IqTJQq0JJMDK9u\n",
       "rDYkZxiAWI9HJd4ajZiCUJkIOieujqSrmfGGXrRjp1Ppkno152VDVW9r0PBT5DcSQOOUWh5zao2A\n",
       "BvIpAb3FgMm0vJyK+u2Z8USs99O6BaHwrdXMZHHoU0GnxINnm9O1X7TkUN2g5tWcl436gCph79uN\n",
       "BNA4Q6KLbz21RkD5JboKATHUTVcExTH04zi2uajjZ8RuSBpsD+dvbx0lyeW0lUwkLo+ka9NUG66z\n",
       "8jciLtlQ9Y8qbHzk1UkEuTsPyS879fdQNJ4FBw/XoH0VLqU/XquHh4NH9uH5B8vlbzu9+Uw0ngUH\n",
       "/DDhrUQ8cdnh9YPlmgIaAMdO0W1WBQI6X4Ynbn6bf7D8fWc3oAFw1CS6+d9XgYAukFY8s6fazQ+/\n",
       "7+jCM9F4EhzRQn+gAgFdD8hT5ir2Ax/qAA2AYy9V6LwKBHSFPPIGbfeD5VQDGgDHXl+N51UgIBh0\n",
       "tw659rfKf+PRqYc6pI+BI2LJUAUCukT6Bw66RGMkfuX9XU9E4zlwDCG/RyoQ0CXCumd2ZNwDGgDH\n",
       "TqJQJRUI6BpB9ImNnXQK0AA49mVUl1QgoKtEP83tb9EDM/1r0XgMHENfUj8iIEmMAJMcXnh4mDOh\n",
       "ZPVGSUAD4Ihntz3Jq5ZAjjufrf3lH7jN6bhQuI0Y0PjlQkL+iVRqKYT+D3aUvFKefBVIAAAAAElF\n",
       "TkSuQmCC\n",
       "\" style=\"display:inline;vertical-align:middle;\" /></a><br>"
      ],
      "text/plain": [
       "<IPython.core.display.HTML object>"
      ]
     },
     "metadata": {},
     "output_type": "display_data"
    }
   ],
   "source": [
    "neg_frac_neg_numerator_gen = (\n",
    "    Forall((m, n),\n",
    "    Forall((w_1_to_m, x, y, z_1_to_n),\n",
    "    Equals(frac(Mult(w_1_to_m, Neg(x), z_1_to_n), y), Neg(frac(Mult(w_1_to_m, x, z_1_to_n), y))),\n",
    "    domain=Complex,\n",
    "    conditions=[NotEquals(y, zero)])))"
   ]
  },
  {
   "cell_type": "code",
   "execution_count": 73,
   "metadata": {},
   "outputs": [
    {
     "data": {
      "text/html": [
       "<strong id=\"neg_frac_neg_denominator\"><a class=\"ProveItLink\" href=\"proofs/neg_frac_neg_denominator/thm_proof.ipynb\">neg_frac_neg_denominator</a> (conjecture without proof):<br></strong> <a class=\"ProveItLink\" href=\"../__pv_it/theorems/cb043c20f2d16bc99c389fa1de17796c7688d19d0/theorem_expr.ipynb\"><img src=\"data:image/png;base64,iVBORw0KGgoAAAANSUhEUgAAAQsAAAAyCAMAAAB8iQ6xAAAAOVBMVEX///82NjYbGxsSEhKIiIgi\n",
       "IiIQEBB2dnbu7u5ERETMzMzc3NwyMjK6urpmZmaYmJiqqqpUVFQAAAAnLjGdAAAAAXRSTlMAQObY\n",
       "ZgAAAAlwSFlzAAAOxAAADsQBlSsOGwAABDlJREFUaN7NW4uWoyAMdXcDBOT9/x+7gLa1qNGqlXKm\n",
       "PScz5RZicrkBpuuaN6nuhEKJpN20BXcvlGJI2i1dIe6G8oy2mzWn74cSgbYbtZ73DaCYo+02jUEL\n",
       "KM+RtNtkCG8DpS1tt2h8znYIEFAJ4c9DrWOa+J5Ptd2gQZzHZnpCEKCz7DwUgakrutTN6ZPNR+DS\n",
       "A3JpXp+qDkZMZgHTV67zsTFjqDiXifk3Vl8CRWFiBNK+X2at0B2Hy6BWMSWj7duZczmuC5EhXgG1\n",
       "jukqtnRt2VNFt1A5meEZi9NQNCZWPTA21Vuw8Ch8VGjTuI0/DbWBWUcSb7qSyIUcRwvQeev8eagN\n",
       "zCXCeLnD3xwlXLaEEnFuW/PUG/eyB0bbEspFM7PVIzB6eW9YqOuW9CNQdZ9i63Gl+bgCONl89C2h\n",
       "6lgqthtpQt/rihSUqilUDAs2Z7lxcbMv4Dp1cwgqygXbFqfevh0sPi6HLJu0cAoqh4BesPvweDvW\n",
       "SA5fH6S9rjQ8BMXYkp1DQpjdASltgH5CwtT6M8AKAfMMDG8LfCTadmU2+QjqSfCoGno690qfDbaH\n",
       "beZUEGTS9Unch5SbXopdvhiizSV8I2lfnCt4j0At+yI5wm0s0NaOTC2wfNLt80UonMZz3xm92ev4\n",
       "4sIcSdLiITIAbJ9+xkIX8hfmFzzkOTo1JFO/6ItXj8EsHuvLSLmfcedl68ghqEXuzEcL4/Ch74Ls\n",
       "9DDsFAFpFornxHiqmt7Pvvbli1cPK3P7l14uKbrsi9kZBFynLw5BrRWqYcRK45XQjUaP+XQN0lTN\n",
       "cx4OHa774tVjGKIb1S0ubVY111qWtqu8zgeUAfLpXHnM0ndKGbXui1ePYQ9l9FDxxUwm+2iu8sUR\n",
       "KIyCtPND5BMuYGYgPvX62MidU90w9cWjR86Rv39kyZEV7lTX7SQdgVqszaZLIO+ELuIJy+zT+mzi\n",
       "uyjtRWFWsaIvnj26VwGcCDmlWdgM0hPtAFRdz83qOwtGAGAOj/wXb53UQz3/zAwUKWGsWsmRZ483\n",
       "UZ+0lp2veuy6avAAVF3DUDVN8gWmv0o3eiDH+3JWTnwx6eE3txTCdYepB6BqfUboNYOFBM0Oh098\n",
       "Memx3dGRCgnBZqfirjrpAFS9LUhsE+bOxsGeQn6qtZ49vNnBXtQOjOg8L7PcR4SfQvU1VV6zy3ZY\n",
       "PlLb8MoPR8FBfgfqx86KOjvN8qq+xFGd7TxPtJzcNphDhaoaCY3PEA0pkUzmALVTUX4MVadE67Pl\n",
       "jlGyoJyMA/8OVE22rvWdA3oEMjzevgBVX9dg7a/yURvONuTgdl+B+sE7SuTTxJDU6v4xfgRVh5v8\n",
       "hRuemhYwQn8FylR+M/EXrkGr1QuqeezI/VegWAXLfPcLDda0VL66+tld8d1QP3oHen2+3oE1X4Gq\n",
       "ayyju19p2t8LpTSSdtN28//SVFOf2P8Bjzg0TP9V0fUAAAAASUVORK5CYII=\n",
       "\" style=\"display:inline;vertical-align:middle;\" /></a><br>"
      ],
      "text/plain": [
       "<IPython.core.display.HTML object>"
      ]
     },
     "metadata": {},
     "output_type": "display_data"
    }
   ],
   "source": [
    "neg_frac_neg_denominator = Forall(\n",
    "    [x, y],\n",
    "    Equals(frac(x, Neg(y)), Neg(frac(x, y))),\n",
    "    domain=Complex,\n",
    "    conditions=[NotEquals(y, zero)])"
   ]
  },
  {
   "cell_type": "code",
   "execution_count": 74,
   "metadata": {},
   "outputs": [
    {
     "data": {
      "text/html": [
       "<strong id=\"neg_frac_neg_denominator_gen\"><a class=\"ProveItLink\" href=\"proofs/neg_frac_neg_denominator_gen/thm_proof.ipynb\">neg_frac_neg_denominator_gen</a> (conjecture without proof):<br></strong> <a class=\"ProveItLink\" href=\"../__pv_it/theorems/b7bce6b0dd67ba5b12bd5f502abe940acd5633c30/theorem_expr.ipynb\"><img src=\"data:image/png;base64,iVBORw0KGgoAAAANSUhEUgAABgMAAAAzCAMAAACNOYhjAAAAOVBMVEX///82NjYbGxsSEhKIiIgi\n",
       "IiIQEBB2dnbu7u5ERETMzMzc3NwyMjK6urpmZmaYmJiqqqpUVFQAAAAnLjGdAAAAAXRSTlMAQObY\n",
       "ZgAAAAlwSFlzAAAOxAAADsQBlSsOGwAADEZJREFUeNrtXYnarKwNti3Kpize/8VWcAOGRXHOzPiZ\n",
       "92nP/6EkkGQgEBabpg7EogEAAADALXGtF2/HCQK0CLgzKAMdgDH+dC9PSSZJTS9Oq33AAPoF3Bxa\n",
       "gg7AGH8brCWZ5AQJPgDw3F4Hgw7AGH8dqs0lwQcAHgzZgw7AGH8fWOeS4AMAjwXvOCgBjPEAtDKX\n",
       "BB8AeGzLQKADMMYToDqSSYIPADwUsgMdgDGegV5kkuADAA9FB2uQYIyHYBh5Ogk+APBMoPGOBxwJ\n",
       "QpowjBUYA4xxZiKg00nwAYBnotV3rPU0iUcaNaIFY4AxTkD5TtZLgg8APBJsvOOhVDnN4eXUfv/Y\n",
       "cSowxj+fsowomQQfAHgk9C0XIU1XKXowBhjjLGibTIIPADwSnb5tzREYA4xxetLirwq7SfABgCeC\n",
       "jXeNptg9HX/rwl4wxr8H8XXsJsEHAJ4INN7xWCqhwxw3wWAMMMaluZaTBB8AeCLoLSPQamRETDUf\n",
       "FBgDjHFSyckFAfABgCeio3esNREINUpIBcYAY5wEHlPJyQfskwJ1Jiw3+4BKYgDgq+0Xvn4ExngW\n",
       "5DgkkpMPEFuiPxOWm31AJTEA8E2wEa4oA2M8WctOcvIBbB3L81NTstkHVBIDAN+EGhUoAYzx4NmW\n",
       "kzTrAf2yt+ncvRfLekAdMQDw3YkxfLoWjPEsjDqRND5ALpH8c0feFh9QRwwAfBP33I0IxgBc8AE0\n",
       "kbT7grrW4OT1reu+oCpiAOCbwCMBJYAxHoWuTyStDxB2LkbPWWL1AVXEfwHZzQwxdajCcMelQW8j\n",
       "rahIkWmOQaUU5yQoiFBkJqDb+UKDaR1oMMaH0baJpPUBXK//VPiAKuI7zlip0Ig7PUpuERxb5WCM\n",
       "nOmRLByo8Gn8L/3Uk0Ygj53sSDPNMaiU4pwEBRHKzPQIfcLPAIzxGR/QJZLzGTEziscnz3xtZ8Rq\n",
       "iG8DhjSlgzkYrqeRp6L4kA+YXaKcHMaw5SIFNxnQDE5JF0hjg+Rj/jrNNMegUopzEhREOMDM73ZG\n",
       "wD/EOR9AemeywMA471N+wQcodH5Rd/MBNcS3mb6KZcsCJnYGII/5AG0jFZ39Ca9BC1FwkyFNv0+Q\n",
       "L5DGZDrmr9NMcwwqpTgnQUGEA8wg/PBLjQyM8f1YkOnD5RzlkEIyhHSDJN02bM3PRMoH7MTDRNgQ\n",
       "0ZAuiNYmX8RQyDzVhE//c/I6h5VZ2/Mh6CBiz+Jj/peMaD37TCSbX/CoDwiqMY88uf1pd+ue2TYv\n",
       "2wuNs9n2Amnst3DIJBmmbVqtRSnOk6VFSBj2CDMMW1G+0Ncn1gPAGB9Bfk3YNJN5sETk0Mn5Ujmk\n",
       "t/5vfsZTPmAjRs3U8OyJA79lJl9E5/n5zIg3mja9cvKyfZIj2IBDZxV7Fv+NhhnJ1s0r/roISYMq\n",
       "m2oIavC/6f+yYbYXahc3wvuUbAkatVXlAmksUtIXtFxiOjMItXVMivNkaRFe7XWcGYIt6b8DMMZn\n",
       "fEDq4tDFB/DlCSfItC9jFLGGPdZnJOUDdmI1DdA0sh2112ZTL6INPJ95atQUNczNi9yoDI9Ef/nR\n",
       "jatBxmG7AkkSSdI+IKjGMnuYe6H1IxM2NJ2W7ZVmX0m4QBob4NMjJskw3f54VWtRivNkaREShj3E\n",
       "7KbHkviFt78LOCP2EQS3MvnnhA30agbTLdiBdbvPoM2zoUvGghziqU12w7wfj7vbRZ0Xg0KFiLTL\n",
       "JSoM9/NqJyOb//YKn5+Vy12J9x9nbweWVDWMDSztA/xqrLOHORqxnoNXOqehCA3bJyE6p8MsaQQL\n",
       "t7yWc0xXBq+qPiJFxBpnJQhrcLjmDofxjpsYkCoEUe/ZOd3TGHcDGXEi+XJ3tFlKMyNaPjbMfSZE\n",
       "w1I+wH1GxnmwzlRLoi+6Zv4zDSdztKfunCGPqUXHvJE7J37hy7NyuUtGp6Rda8uasLvznAbKsFqa\n",
       "PMZ//0NtNMJfE146ooiGEjR7BOOVdJWlSBpTHy1oucR0YRCo+qgUgTVqJAhYHa+5w+GOX65Speks\n",
       "uufVvff9jNi9tJy5M86fT47LuN9cKDq1U7w+a5kq+4CeNcOUWdp+b+4bLAf3BV/mGfZF7B83sxRK\n",
       "SjEozJa3vGtw32xVm6pl86417RWbZ/62cO9Zsdw141SeXJrbPsTl2C5D48T5gK0azi16DTIjdr3V\n",
       "NKWhKM38V4p0laVI6v/jcktqOcfUYRCo+qgUoTVOShBj5dgrwyw/Mb7FQK68+a6/5wYbuDv6I7Mt\n",
       "lUiGPsC2GnMNNNeImHaqlmcIy6boAwaNpMTLAZ65b7Ac/BeN2XA/v2Ad9/8JMiszJemGeQhk3wo0\n",
       "YLRVzXzDgfZbOYLIrt+71+BZodw1oy2zXeIcm98juKdUsEQsaKuGd2IaYyS2mlKe0FCUZsmfJJ1l\n",
       "KZL6crrcklrOMXUYBKo+KkVojZMSxFg59sowC+ea99vNLMqjZXnPzrSFy8Y+EEj0d185yeJ3xFQm\n",
       "YlOwLElwWHtSdaC4qRM24x+hIm+nFJkEoTJCuhSuasrVbN15MvX8JrIQl9TRnFMNhRLcI0eVNg1l\n",
       "4toJ0k2WAumxivhazjGNMKiUolKCCCvHXjlmHvT9Pl94pMbdLScC+pbfkrybksdUsuQDBnLVB7xw\n",
       "wGReh4yxfnnWzmHQ1oat/bcmpVEz9DHSuXDv2eFyzR4fORRbk6M5pxp9UomCp3xAjGbJnSBdZSmT\n",
       "HquIq+Uc0xiDOikqJYixcuyVYRaMmG93LkkdGSz3t4ysSzgk9oEhBE0lSz4g/Zsq+ACGuvlsTsih\n",
       "H8exTbEOn5lLAdBgOln+8tZ6BbndyCMjhcuack2ZCpcbk3tGbKuGGtLcMYlrKEazhnzipJssB0jL\n",
       "FQm0nGP6yqBSiloJIqwce+WYBT9PLzpK5kgnExOLNt0fHcx2ECe5CZzgYmNEy+0ZOHqJBjO3LvDc\n",
       "L7qc4yCqGLHsR2S+Ypxz7Hwj/KTyub8k7Cbhm/LVOL8dm9RnJW8thVytOvmnUpB36jKR0Tsxgxtl\n",
       "whF6agxDZqPiwWwHcZJbYoi/cJHz1F7GJgukR5ji3BVL5RxHlV3HqNPX9fRe45xj5xvhJ5Uv/eUA\n",
       "Nwk+APBICCcGzVQjzKTEnigzy8wk2peG2QjGWlePOF8KLbU3leOil+WaWGTd7p+1E6e4XE6OayK5\n",
       "RVUbo6inTxjnnHUCI/yk8nWbTIIPADwS7uCOzG2d2fOqwsS3kNNEyNjHs5lNOKJ9yVYYrKW45XPP\n",
       "5/mal3s1Fy7rcXQ2xqtDbNeQkMvJcU0kh1G9MSLzuM8b55B1wrK3OwF+Ufl+KMhLgg8APBOt27KV\n",
       "WZVEdjRqG4dqozn9bKbj4vs9B604WW5YaD53N6T6T7L2Vd5pfrc622cvEnJtOa6K5BRVb4wQXzHO\n",
       "EevsuT0j/KLyg2V3Lwk+APBMeM1AmMEUNaHU+X5Y1cZjFl42c4UUv3DXTcAtcmNvORa0cEFdpJvZ\n",
       "3YRslnWRhFxbjqsi7Yyidw0fM0ZeTx8yzjnreEb4ReW3/jKBlwQfAHgo3E9g27bemgc405e+ZJv+\n",
       "29ZXwOMWu7HXz40yXKjONGdlvYfOyOXkuCbSyihx1/AxY5S0/hHjnLOOZ4QfVP7grwj7SfABAJgI\n",
       "NNhs/zAtfPkeQaK5htkaFts2uMeJ9/ByLLjrcYvd2OvnTmz4EIbBeuNOjJRRTBG23+RKyOXmuCTS\n",
       "xihx13DdROCtxomIEo+8n7KOZ4R/pvx8lXPKD9yTnwQfAHgqeqc1C4ER0WI9FpKatgfZvOtpnaYh\n",
       "wj/iwV2fW+zGXreJJ6pENEZiHdfFGiU224X6XPfp5rgkksMoetfwQWMUtH7NOBFR4pH3M9bxjPDv\n",
       "lJ+tckb5g+9hgyT4AMBTwdKhCnVoSs6nhsjfdmt/7MZer8GlI8V4GRXyUrWLcr1NpOhdw3XG+AXj\n",
       "FK2zG+EHlR/4rSAJPgDwWCB6qZvhlDEm3nXNQXBjbyRcIlI9D1k/WFq8Vq4k19tEit81XGeMHzBO\n",
       "wTqeEX5P+UEYMYwqgg8APBc6HoDguB9xeY9jNxq8qy7Bjb0RxO4/bVq0i8ELjbks19tEit81XGOM\n",
       "nzBOwTquEX5P+YM/QRnC+coFHyDJBOhHADdGr25U2egFqEruH2SjHIzxFbhG+Dkw/6sSftL04aje\n",
       "BxinBR9/ANwa9E6fsi2cv0IcjAF4GTn4LiBIUtOL0/8DJePzby9/1NwAAAAASUVORK5CYII=\n",
       "\" style=\"display:inline;vertical-align:middle;\" /></a><br>"
      ],
      "text/plain": [
       "<IPython.core.display.HTML object>"
      ]
     },
     "metadata": {},
     "output_type": "display_data"
    }
   ],
   "source": [
    "neg_frac_neg_denominator_gen = (\n",
    "    Forall((m, n),\n",
    "    Forall((w_1_to_m, x, y, z_1_to_n),\n",
    "    Equals(frac(x, Mult(w_1_to_m, Neg(y), z_1_to_n)), Neg(frac(x, Mult(w_1_to_m, y, z_1_to_n)))),\n",
    "    domain=Complex,\n",
    "    conditions=[NotEquals(y, zero),\n",
    "                ExprRange(k, NotEquals(IndexedVar(w, k), zero), one, m),\n",
    "                ExprRange(k, NotEquals(IndexedVar(z, k), zero), one, n)])))"
   ]
  },
  {
   "cell_type": "code",
   "execution_count": 75,
   "metadata": {},
   "outputs": [],
   "source": [
    "# frac_int_exp = Forall(n, Forall((a, b), \n",
    "#                               Equals(frac(Exp(a, n), Exp(b, n)),\n",
    "#                                      Exp(frac(a, b), n)),\n",
    "#                              conditions = [NotEquals(a, zero), NotEquals(b, zero)]),\n",
    "#                     domain=Integer)"
   ]
  },
  {
   "cell_type": "code",
   "execution_count": 76,
   "metadata": {},
   "outputs": [],
   "source": [
    "# frac_nat_pos_exp = Forall(n, Forall((a, b), \n",
    "#                               Equals(frac(Exp(a, n), Exp(b, n)),\n",
    "#                                      Exp(frac(a, b), n)),\n",
    "#                              conditions = [NotEquals(b, zero)]),\n",
    "#                     domain=NaturalPos)"
   ]
  },
  {
   "cell_type": "code",
   "execution_count": 77,
   "metadata": {},
   "outputs": [
    {
     "name": "stdout",
     "output_type": "stream",
     "text": [
      "Modifying theorem frac_in_zero_set in proveit.numbers.division theory\n",
      "frac_in_zero_set expression notebook is being updated\n",
      "These theorems may now be imported from the theory package: proveit.numbers.division\n"
     ]
    }
   ],
   "source": [
    "%end theorems"
   ]
  },
  {
   "cell_type": "code",
   "execution_count": null,
   "metadata": {},
   "outputs": [],
   "source": []
  }
 ],
 "metadata": {
  "kernelspec": {
   "display_name": "Python 3",
   "language": "python",
   "name": "python3"
  },
  "language_info": {
   "codemirror_mode": {
    "name": "ipython",
    "version": 3
   },
   "file_extension": ".py",
   "mimetype": "text/x-python",
   "name": "python",
   "nbconvert_exporter": "python",
   "pygments_lexer": "ipython3",
   "version": "3.7.3"
  }
 },
 "nbformat": 4,
 "nbformat_minor": 1
}
