{
 "cells": [
  {
   "cell_type": "markdown",
   "metadata": {},
   "source": [
    "Demonstrations for the theory of <a class=\"ProveItLink\" href=\"theory.ipynb\">proveit.numbers.division</a>\n",
    "========"
   ]
  },
  {
   "cell_type": "code",
   "execution_count": 1,
   "metadata": {},
   "outputs": [],
   "source": [
    "from proveit import defaults\n",
    "from proveit.logic import Forall, InSet, NotEquals\n",
    "from proveit.numbers import (zero, one, two, three, four, frac, Add, Neg, subtract, Sum, Mult,\n",
    "                             Less, LessEq, greater, greater_eq, num,\n",
    "                             Integer, Interval, Real, Complex)\n",
    "from proveit import a, b, c, d, m, n, w, x, y, z, P, S, Px\n",
    "%begin demonstrations"
   ]
  },
  {
   "cell_type": "code",
   "execution_count": 2,
   "metadata": {},
   "outputs": [],
   "source": [
    "assumptions = [InSet(var, Complex) for var in [a, b, c, d, x, y, z]]\n",
    "assumptions = assumptions + [InSet(var, Integer) for var in [a, b]]\n",
    "assumptions += [NotEquals(var, zero) for var in [a, b, c, d]]\n",
    "#assupmtions += [InSet(var, Complex) for var in [c, d, x, y, z]]"
   ]
  },
  {
   "cell_type": "markdown",
   "metadata": {},
   "source": [
    "## Reducing rationals"
   ]
  },
  {
   "cell_type": "code",
   "execution_count": 3,
   "metadata": {},
   "outputs": [
    {
     "data": {
      "text/html": [
       "<span style=\"font-size:20px;\"> <a class=\"ProveItLink\" href=\"../__pv_it/demonstrations/11998f34ce02eb89e56c43c0a3a917ebb64f1d5e0/proof.ipynb\" style=\"text-decoration: none\">&nbsp;&#x22A2;&nbsp;&nbsp;</a><a class=\"ProveItLink\" href=\"../__pv_it/demonstrations/eae4fcd183f642a340d55dbc1aaf579489a653fb0/expr.ipynb\"><img src=\"data:image/png;base64,iVBORw0KGgoAAAANSUhEUgAAAGEAAAAqBAMAAABRtyg/AAAAMFBMVEX///8AAAAAAAAAAAAAAAAA\n",
       "AAAAAAAAAAAAAAAAAAAAAAAAAAAAAAAAAAAAAAAAAAAv3aB7AAAAD3RSTlMAEM3dMpmrdmaJIkTv\n",
       "u1QvnDACAAAACXBIWXMAAA7EAAAOxAGVKw4bAAABF0lEQVRIx2NgQABXBlKBGaka2EnW4aFGqo4J\n",
       "pOpgX0CqjhUMpOqYQKwORmVjEHDgWECqHcsZSNWxLS3tTyapwXuM5FTyF4sYFyp3AQov9n86po46\n",
       "VO52gtbyTUCwWQyB0dxASIcQgikW9BFIKhLSEYGcjEA6WgnpOICug0eAgDcU0HUwEfAI6wR0HZwJ\n",
       "WJQFgxMaOEOimAjWwaGA3w7mB+g6+A4w/EcGH9B08GwABjDYShOoDpYP+O0A6UC1g/sAfn9gcZUB\n",
       "fjt4CzB8fgG/DpSw5PyFHt5YAAuSG9hyPmUA3bmBQJlrgi6wmFCZ24ozaeIqc3kXoGXJC4TKXMYL\n",
       "uEzAWeYuR+VWDcoyFwaGeZmLF2Atc7EDAMeNUHiQscVVAAAAAElFTkSuQmCC\n",
       "\" style=\"display:inline;vertical-align:middle;\" /></a></span>"
      ],
      "text/plain": [
       "|- ((-4) / 4) = (-1)"
      ]
     },
     "metadata": {},
     "output_type": "display_data"
    }
   ],
   "source": [
    "frac(Neg(four), four).evaluation()"
   ]
  },
  {
   "cell_type": "code",
   "execution_count": 4,
   "metadata": {},
   "outputs": [
    {
     "data": {
      "text/html": [
       "<span style=\"font-size:20px;\"> <a class=\"ProveItLink\" href=\"../__pv_it/demonstrations/26ee9e8f10b3f11f3b92b653499e9861ea1ee9e90/proof.ipynb\" style=\"text-decoration: none\">&nbsp;&#x22A2;&nbsp;&nbsp;</a><a class=\"ProveItLink\" href=\"../__pv_it/demonstrations/21d7ee9e4054ae00185caf82b9df634856575de30/expr.ipynb\"><img src=\"data:image/png;base64,iVBORw0KGgoAAAANSUhEUgAAAGEAAAAqBAMAAABRtyg/AAAAMFBMVEX///8AAAAAAAAAAAAAAAAA\n",
       "AAAAAAAAAAAAAAAAAAAAAAAAAAAAAAAAAAAAAAAAAAAv3aB7AAAAD3RSTlMAMpndq3ZmzYkiRO+7\n",
       "EFRAb64nAAAACXBIWXMAAA7EAAAOxAGVKw4bAAABF0lEQVRIx2NggAAhBlKBCakaWEnWIVZCqo4G\n",
       "UnWwTiBVxzQGUnU0kKqDbQKpOqYykKpjiYvLbw9Sg3cLyankDw5xTlTuBDhL578rdh1xqNylBK3m\n",
       "a0CwGW2BUZ1ASMd1BPOK+l8gWUtIhxpyUgLpSCKkYwO6Du4LBLxRgK6DnYBHmBrQdXA4YFGmbAwC\n",
       "4EyJYiJYB1sBfjuYH6Dr4NvA8B8ZfEDTwb0AGMBgKw2hOhg/4LcDpAPVDq4N+P2BxVUG+O3gCcDw\n",
       "+QH8OlDCkuMnenhjAYxIbmDx/u4GdCeyz7CVvYboApMJlb1J+JIm1rKXZwJaljxAqOzlPYDPBKxl\n",
       "71RUbuSgLXt5i8HJSGAElL04Ac6yFxUAAFvVUlaZMlJrAAAAAElFTkSuQmCC\n",
       "\" style=\"display:inline;vertical-align:middle;\" /></a></span>"
      ],
      "text/plain": [
       "|- (4 / (-4)) = (-1)"
      ]
     },
     "metadata": {},
     "output_type": "display_data"
    }
   ],
   "source": [
    "frac(four, Neg(four)).evaluation()"
   ]
  },
  {
   "cell_type": "code",
   "execution_count": 5,
   "metadata": {},
   "outputs": [
    {
     "data": {
      "text/html": [
       "<span style=\"font-size:20px;\"> <a class=\"ProveItLink\" href=\"../__pv_it/demonstrations/f956962b34792de84b778e68722bb46d2667b1490/proof.ipynb\" style=\"text-decoration: none\">&nbsp;&#x22A2;&nbsp;&nbsp;</a><a class=\"ProveItLink\" href=\"../__pv_it/demonstrations/72f68249af4f2b764cc2d1f2c76e8cb084e45cc00/expr.ipynb\"><img src=\"data:image/png;base64,iVBORw0KGgoAAAANSUhEUgAAADgAAAAwBAMAAAC2+6RAAAAAMFBMVEX///8AAAAAAAAAAAAAAAAA\n",
       "AAAAAAAAAAAAAAAAAAAAAAAAAAAAAAAAAAAAAAAAAAAv3aB7AAAAD3RSTlMAzXZEVBAiZjKJmavv\n",
       "3bukDcS4AAAACXBIWXMAAA7EAAAOxAGVKw4bAAABMUlEQVQ4y2NgYGBgZMAD9PHIMfvjkQyKxyOp\n",
       "gEeSJQGPZDoDNkm2VXINQKpz5vopmJJ5DJyfwYz8AEzJbQwMZ0A0+/4lmJLnAxj2J+ByyV4Ghv0N\n",
       "eLx4H48cxycg8R8IPmCR5N2AR+c6PHLsYI1sJdrYnOXJwAb0CvcEpgNYnDOBgQkYNhwNnBcwJXNX\n",
       "rVoLcVcBFk/+//8RRDMJ4UtDcQr4wuIHTqmYBrbvOCV5A9iP4jZ0knYCA2Gw9i4I3GYgEvyHADRR\n",
       "fmyCVLOTAgDNFeiiM9cZIOcKFBDFwPIFKVegFQUOrB9x5gobA4aPeHIFy3c8ucK2AJEr0EHT7gY8\n",
       "uQLsWpy54nwAPFeggQ4GhvcO8FyBHs0BYElorkADpyHGwnMFCiiH+BOWK9BKy1XAgAcAyTprNdLD\n",
       "rB8AAAAASUVORK5CYII=\n",
       "\" style=\"display:inline;vertical-align:middle;\" /></a></span>"
      ],
      "text/plain": [
       "|- ((4 / 3) / 2) = (2 / 3)"
      ]
     },
     "metadata": {},
     "output_type": "display_data"
    }
   ],
   "source": [
    "frac(frac(four, three), two).evaluation()"
   ]
  },
  {
   "cell_type": "code",
   "execution_count": 6,
   "metadata": {},
   "outputs": [
    {
     "data": {
      "text/html": [
       "<span style=\"font-size:20px;\"> <a class=\"ProveItLink\" href=\"../__pv_it/demonstrations/b139d7b501908600e79ccfb1e53f470d457348cc0/proof.ipynb\" style=\"text-decoration: none\">&nbsp;&#x22A2;&nbsp;&nbsp;</a><a class=\"ProveItLink\" href=\"../__pv_it/demonstrations/36394d358c954703b1d6c69b001b9603d3d7acf30/expr.ipynb\"><img src=\"data:image/png;base64,iVBORw0KGgoAAAANSUhEUgAAADUAAAA4BAMAAACvVq2dAAAAMFBMVEX///8AAAAAAAAAAAAAAAAA\n",
       "AAAAAAAAAAAAAAAAAAAAAAAAAAAAAAAAAAAAAAAAAAAv3aB7AAAAD3RSTlMAzXZEVBAiZjKJmavv\n",
       "3bukDcS4AAAACXBIWXMAAA7EAAAOxAGVKw4bAAABDElEQVQ4y2NgAAIBBpyA6QNuORPccqyquOWY\n",
       "WHHLueGWYyvALccxc9ZPB5yGsn3F7YfqX7j1UR/w/wcCahua7rQDp9xOBh2cch0Mc/GYeh23lKIC\n",
       "ZhCvkmuARPwjDLk8Bs7PEFZ/A7rcNgaGMyBdJxjyC9Dlzgcw7E8A0lcZagLQ5fYyMOwHGdaptA2b\n",
       "C++j8LjugsEGSFL5hNtjvEAl/yEAQ24dbm3sGxhw2ufJwAbyQ+TsrZiJdgIDE8hjCxjWYsjlrloF\n",
       "FvzMkI8RZvf///8IokuxyCEAnrjluIpbLi8AdzZaAPYKdm0dXTg1nqd+kh+2+QhRgD7CY2Y/rnjH\n",
       "mo9gAFs+ggEc+YiBAQB0rV+QwNqyYgAAAABJRU5ErkJggg==\n",
       "\" style=\"display:inline;vertical-align:middle;\" /></a></span>"
      ],
      "text/plain": [
       "|- ((4 / 3) / (2 / 3)) = 2"
      ]
     },
     "metadata": {},
     "output_type": "display_data"
    }
   ],
   "source": [
    "frac(frac(four, three), frac(two, three)).evaluation()"
   ]
  },
  {
   "cell_type": "code",
   "execution_count": 7,
   "metadata": {},
   "outputs": [
    {
     "data": {
      "text/html": [
       "<span style=\"font-size:20px;\"><a class=\"ProveItLink\" href=\"../__pv_it/theorems/e9f87a0977d5044ea8daf1040d2f219396bb3d5b0/expr.ipynb\"><img src=\"data:image/png;base64,iVBORw0KGgoAAAANSUhEUgAAADMAAAAQBAMAAABJt1qBAAAAMFBMVEX////MzMwyMjKqqqoiIiJm\n",
       "ZmaYmJju7u5EREQQEBC6urqIiIh2dnZUVFTc3NwAAAAqL9KcAAAAAXRSTlMAQObYZgAAAAlwSFlz\n",
       "AAAOxAAADsQBlSsOGwAAANFJREFUGNNjYMACalqU9slgk2DgvpnAHt+KVSp6DQMDG1YpxoB2IHkV\n",
       "RWyHi4sCkOItaACSZcgyi7ZDaA6+AKgI3519G8C0OlTgLeMBKGvlA47vIJrpAVRAhisBwmCfxsDq\n",
       "AJaCGfyUawOEwfqBgQVsgKQLEDSA7YIayNnAUL8AxKiA6eIAuxAI6jcw5IMZLDApLrC/uIBSBgyX\n",
       "mEEu4N4AD421QCIIqH0DsysrWEQZHoZNcewmQL+x3z74diNYpLarABbynV/iUANvTQs4oGAAAKqD\n",
       "MEJAsWyMAAAAAElFTkSuQmCC\n",
       "\" style=\"display:inline;vertical-align:middle;\" /></a>, <a class=\"ProveItLink\" href=\"../__pv_it/theorems/a259ec76dfb0a5be60b7c83d797520fa82c1dba60/expr.ipynb\"><img src=\"data:image/png;base64,iVBORw0KGgoAAAANSUhEUgAAADEAAAAQBAMAAABNQoq8AAAAMFBMVEX///+YmJjMzMzc3NyIiIhU\n",
       "VFR2dna6urqqqqpmZmYyMjIiIiIQEBBERETu7u4AAAD7tRWPAAAAAXRSTlMAQObYZgAAAAlwSFlz\n",
       "AAAOxAAADsQBlSsOGwAAANtJREFUGNNjYMAEz26vclZjYOC7swFNgiVGgG/+TSCDawKazJQyBgZG\n",
       "kAx/A6oE04R7QDISiOsfQIV8d+9eAKRYH1wAkg+BOBsqUeUHoXmZYcYvdYkAUczroHxTpgQIg+/X\n",
       "g/cGIIcYQGXU2AUgDI5/DDwOIBmYCyzZHSAMzgUM/CDtOruB4ALYHqhp3AkM9SB3v4Xp4QW7DeKd\n",
       "+SB3c8Nk2MH+YQfKKPAdBIeJAzwMSoHELKDHBHgh7l8BD7dbk/m6gWJ8YRMhAk+vwwLj2Z3fk1EC\n",
       "rOw2OHRgAAASXDjITT81JQAAAABJRU5ErkJggg==\n",
       "\" style=\"display:inline;vertical-align:middle;\" /></a>, <a class=\"ProveItLink\" href=\"../../addition/subtraction/__pv_it/theorems/b66b5547fa9b0b910f79351152926c658c2718190/expr.ipynb\"><img src=\"data:image/png;base64,iVBORw0KGgoAAAANSUhEUgAAADEAAAAQBAMAAABNQoq8AAAAMFBMVEX///9UVFQyMjK6urru7u4Q\n",
       "EBBERERmZmaqqqoiIiLc3NzMzMyYmJiIiIh2dnYAAABC1PP/AAAAAXRSTlMAQObYZgAAAAlwSFlz\n",
       "AAAOxAAADsQBlSsOGwAAAMJJREFUGNNjYMAEfplKt/ZhEWfgFT3AUp+OTabWjoGBB5sMd0EKkBRH\n",
       "Fro2c6YCkGJ0SACSPkgSRlcgNBtXAUzo7Z0NQJJLBcpdyP0AylrZwA7SzrQAyt/HfADKmsfAegEk\n",
       "AzNiOfMFCIP9C4TeOhMIEsD2QE1jTYDQbjA9bA5QEX+oXk6YDDPYP8wMDPxA+wxAYXIBHgaGQKII\n",
       "aE8CAx/I1Qwa8HBLqmLpBPnp3RmIFx2THWBhnfqzCiXA7DLBoQMDAANFK7BF6/dnAAAAAElFTkSu\n",
       "QmCC\n",
       "\" style=\"display:inline;vertical-align:middle;\" /></a>, <a class=\"ProveItLink\" href=\"../__pv_it/demonstrations/1034b099268ebc68ab71d757a423d98a8a315f520/expr.ipynb\"><img src=\"data:image/png;base64,iVBORw0KGgoAAAANSUhEUgAAAC8AAAAUCAMAAAAqRJTwAAAAPFBMVEX///8NDQ0WFhYLCwsYGBgy\n",
       "MjJUVFS6urru7u4QEBBERERmZmaqqqoiIiLc3NzMzMyYmJiIiIh2dnYAAAB6aGVTAAAAAXRSTlMA\n",
       "QObYZgAAAAlwSFlzAAAOxAAADsQBlSsOGwAAAMxJREFUKM+VkusShCAIhdmLhaKJ+v7vuorjrrXm\n",
       "jPywmA4fBxLgPghhJbzpsxgDHVO98V2iLAC6WYHfuoSd9DAzfA8zUmzT/UR7j4dE0jLZOksI7C96\n",
       "1eOx6Tmfh8tV1KyRk3i/ytl6HClWfcinK+86TPA/fX7QaIidTilW/V74erQkddl09W/zvJjOTsT/\n",
       "81Gn+O7ICJSLFZk59zrhrxZZC0tB20zs92npz2DZIWpfbxJzwCk+aymGzY9/rY1L93iEnwUv4t0a\n",
       "Hvzs4wcwlAh3LLfaVQAAAABJRU5ErkJggg==\n",
       "\" style=\"display:inline;vertical-align:middle;\" /></a> <a class=\"ProveItLink\" href=\"../__pv_it/demonstrations/3df77d4573aeacb34db9f215eb000c62fabd4d740/proof.ipynb\" style=\"text-decoration: none\">&nbsp;&#x22A2;&nbsp;&nbsp;</a><a class=\"ProveItLink\" href=\"../__pv_it/demonstrations/20c9dc85cdabcbc07eb154a7d89c51ad1a99fbc10/expr.ipynb\"><img src=\"data:image/png;base64,iVBORw0KGgoAAAANSUhEUgAAAJwAAAA4BAMAAAD6G4yGAAAAMFBMVEX///8AAAAAAAAAAAAAAAAA\n",
       "AAAAAAAAAAAAAAAAAAAAAAAAAAAAAAAAAAAAAAAAAAAv3aB7AAAAD3RSTlMAzXZEVBAiZjKJmavv\n",
       "3bukDcS4AAAACXBIWXMAAA7EAAAOxAGVKw4bAAACiklEQVRYw2NgYGBgZKAq0Keqacz+VDUuKJ6q\n",
       "xingMo71zQXSTWNJwOk6xgWkG5fOgNM4fgdMMbZVcg3YVcedBZGdM9dPwWGcfQCmWB4D52ccyqUg\n",
       "VH4ADvm5WMS2MTCcwaH8C5hk378EyS871RTgHGmlLRh6zgcw7E/AnuC+YorZJPDBRVk/BsRj6NzL\n",
       "wLAfe+BxYqYD1uMMXHBRlq8MPApY9N1HMLMnJSHSwSZtpKhj/QgkuD4w8E6AcwQY+CdgmsbxCeG/\n",
       "Ywzv4QEfL8r6jYHhPxB8AHFvATHPA4Z4AxgHaLA9lqTCuwHOjClgWAvn+AcwHEJTGq/AUI+c7NZj\n",
       "ifR1cL8wrGdguAnnLGRg+IlunAPDRhZY8PM3AIMSA7BDHAdyPsM5BtbPcM5NBmZgUmEr0UbEFJ8C\n",
       "yy0uGIe7gA9LLvNkYIPZx/qJgf0DUrLjAiYK7glMBxDxsWlGtgacs3M5loiYwMAECwHWLwzcAm4w\n",
       "mR+goGTgaOAkpeDIXbUKEfqPGHwXwD2wneEVJKoKSDDu/v//H+GcaM22TfCQip4FNodJiLp1RZwC\n",
       "VY3j+EFFw2Ia2L5T0TjeAPaj1PTqJO0EBrqCtXdB4DYD/cF/AgC9ciNJ9WANu8jZW6npggVIxTQV\n",
       "wGeG/AYqGldKXeOwNyEoyGxXqWpcXgA1TWNbwEbNkiCvo4sM53EqVWCXOI+S4XAqQ/PSFUibgDrK\n",
       "QK2YQ9RThrUJgyh4wK0UAXzK0MA5wg5bQJQyWBuFisoYGIBVIDOO7oXTDmKUYTT1ZmCX2cmgQ4wy\n",
       "tGQ3vQhHKHcgFwG4lREPrlO1CFCkbsOH9RF166t+KpbGrCcY8guo6LarDDXULD87lbZRwRQAaoHs\n",
       "a7J6SsMAAAAASUVORK5CYII=\n",
       "\" style=\"display:inline;vertical-align:middle;\" /></a></span>"
      ],
      "text/plain": [
       "{a in Complex, b in Complex, c in Complex, c != 0} |- (((4 / 3) * a * b) / ((2 / 3) * c)) = ((2 * a * b) / c)"
      ]
     },
     "metadata": {},
     "output_type": "display_data"
    }
   ],
   "source": [
    "frac(Mult(frac(four, three), a, b), Mult(frac(two, three), c)).simplification(assumptions=assumptions)"
   ]
  },
  {
   "cell_type": "markdown",
   "metadata": {},
   "source": [
    "## Factorization"
   ]
  },
  {
   "cell_type": "code",
   "execution_count": 8,
   "metadata": {},
   "outputs": [
    {
     "data": {
      "text/html": [
       "<strong id=\"expr_01\">expr_01:</strong> <a class=\"ProveItLink\" href=\"../__pv_it/demonstrations/2cd5fb79d140c239824e711e25e4ba973f8ad5890/expr.ipynb\"><img src=\"data:image/png;base64,iVBORw0KGgoAAAANSUhEUgAAAFAAAAArBAMAAAAd2hKcAAAAMFBMVEX///8AAAAAAAAAAAAAAAAA\n",
       "AAAAAAAAAAAAAAAAAAAAAAAAAAAAAAAAAAAAAAAAAAAv3aB7AAAAD3RSTlMAIquJdkTvuxBmmd1U\n",
       "zTKBpmoTAAAACXBIWXMAAA7EAAAOxAGVKw4bAAABOElEQVQ4y2NgwAAcZRsYiAO8CwgoiITS/Aeg\n",
       "DNYJ2BUegdLxDVAGjwN+hdYMWBUyKjs6oCq85KKDppDZZR4DQ5gA+w8UhRx/G/oFUBQy7mFYzsCR\n",
       "ycC1AUUhzw8GNgcUhdwGDCkMXB9ANAPD6t2703bv3gRkcV1g4AeKcO3evS17924FoMh6kO/YChj6\n",
       "A1BMBOqLP4BiYjqI6HdgmI/qa2Awrm9AVsjxBazwAIMujwCKwgdAd6OY+BMY9gzsDjy7uFBMZJrA\n",
       "vgBV4XIGBjsGDhU7IT/U4FFeiRbgzJZTGrDFDAMDgSiMRBfAlShGASb4TyQY/iHBd20BkSrhpQ8h\n",
       "EN9ApEJrYh15iyhVjMp+f4hSiCi18ANQqXWBGIWwUosgQCq18AOkUouAQkSphR8glVoEfI0otZAB\n",
       "AJ1mccbhc0EzAAAAAElFTkSuQmCC\n",
       "\" style=\"display:inline;vertical-align:middle;\" /></a><br>"
      ],
      "text/plain": [
       "<IPython.core.display.HTML object>"
      ]
     },
     "metadata": {},
     "output_type": "display_data"
    }
   ],
   "source": [
    "expr_01 = frac(Add(a, b, c), d)"
   ]
  },
  {
   "cell_type": "code",
   "execution_count": 9,
   "metadata": {},
   "outputs": [
    {
     "data": {
      "text/html": [
       "<span style=\"font-size:20px;\"><a class=\"ProveItLink\" href=\"../__pv_it/theorems/e9f87a0977d5044ea8daf1040d2f219396bb3d5b0/expr.ipynb\"><img src=\"data:image/png;base64,iVBORw0KGgoAAAANSUhEUgAAADMAAAAQBAMAAABJt1qBAAAAMFBMVEX////MzMwyMjKqqqoiIiJm\n",
       "ZmaYmJju7u5EREQQEBC6urqIiIh2dnZUVFTc3NwAAAAqL9KcAAAAAXRSTlMAQObYZgAAAAlwSFlz\n",
       "AAAOxAAADsQBlSsOGwAAANFJREFUGNNjYMACalqU9slgk2DgvpnAHt+KVSp6DQMDG1YpxoB2IHkV\n",
       "RWyHi4sCkOItaACSZcgyi7ZDaA6+AKgI3519G8C0OlTgLeMBKGvlA47vIJrpAVRAhisBwmCfxsDq\n",
       "AJaCGfyUawOEwfqBgQVsgKQLEDSA7YIayNnAUL8AxKiA6eIAuxAI6jcw5IMZLDApLrC/uIBSBgyX\n",
       "mEEu4N4AD421QCIIqH0DsysrWEQZHoZNcewmQL+x3z74diNYpLarABbynV/iUANvTQs4oGAAAKqD\n",
       "MEJAsWyMAAAAAElFTkSuQmCC\n",
       "\" style=\"display:inline;vertical-align:middle;\" /></a>, <a class=\"ProveItLink\" href=\"../__pv_it/theorems/a259ec76dfb0a5be60b7c83d797520fa82c1dba60/expr.ipynb\"><img src=\"data:image/png;base64,iVBORw0KGgoAAAANSUhEUgAAADEAAAAQBAMAAABNQoq8AAAAMFBMVEX///+YmJjMzMzc3NyIiIhU\n",
       "VFR2dna6urqqqqpmZmYyMjIiIiIQEBBERETu7u4AAAD7tRWPAAAAAXRSTlMAQObYZgAAAAlwSFlz\n",
       "AAAOxAAADsQBlSsOGwAAANtJREFUGNNjYMAEz26vclZjYOC7swFNgiVGgG/+TSCDawKazJQyBgZG\n",
       "kAx/A6oE04R7QDISiOsfQIV8d+9eAKRYH1wAkg+BOBsqUeUHoXmZYcYvdYkAUczroHxTpgQIg+/X\n",
       "g/cGIIcYQGXU2AUgDI5/DDwOIBmYCyzZHSAMzgUM/CDtOruB4ALYHqhp3AkM9SB3v4Xp4QW7DeKd\n",
       "+SB3c8Nk2MH+YQfKKPAdBIeJAzwMSoHELKDHBHgh7l8BD7dbk/m6gWJ8YRMhAk+vwwLj2Z3fk1EC\n",
       "rOw2OHRgAAASXDjITT81JQAAAABJRU5ErkJggg==\n",
       "\" style=\"display:inline;vertical-align:middle;\" /></a>, <a class=\"ProveItLink\" href=\"../../addition/subtraction/__pv_it/theorems/b66b5547fa9b0b910f79351152926c658c2718190/expr.ipynb\"><img src=\"data:image/png;base64,iVBORw0KGgoAAAANSUhEUgAAADEAAAAQBAMAAABNQoq8AAAAMFBMVEX///9UVFQyMjK6urru7u4Q\n",
       "EBBERERmZmaqqqoiIiLc3NzMzMyYmJiIiIh2dnYAAABC1PP/AAAAAXRSTlMAQObYZgAAAAlwSFlz\n",
       "AAAOxAAADsQBlSsOGwAAAMJJREFUGNNjYMAEfplKt/ZhEWfgFT3AUp+OTabWjoGBB5sMd0EKkBRH\n",
       "Fro2c6YCkGJ0SACSPkgSRlcgNBtXAUzo7Z0NQJJLBcpdyP0AylrZwA7SzrQAyt/HfADKmsfAegEk\n",
       "AzNiOfMFCIP9C4TeOhMIEsD2QE1jTYDQbjA9bA5QEX+oXk6YDDPYP8wMDPxA+wxAYXIBHgaGQKII\n",
       "aE8CAx/I1Qwa8HBLqmLpBPnp3RmIFx2THWBhnfqzCiXA7DLBoQMDAANFK7BF6/dnAAAAAElFTkSu\n",
       "QmCC\n",
       "\" style=\"display:inline;vertical-align:middle;\" /></a>, <a class=\"ProveItLink\" href=\"../__pv_it/theorems/d6724abdc9486f838f4cf63bc1115e85255ce4c00/expr.ipynb\"><img src=\"data:image/png;base64,iVBORw0KGgoAAAANSUhEUgAAADMAAAAQBAMAAABJt1qBAAAAMFBMVEX///+YmJhERESIiIhUVFTc\n",
       "3NwiIiJ2dnbu7u66urqqqqpmZmYQEBAyMjLMzMwAAAA7oY0NAAAAAXRSTlMAQObYZgAAAAlwSFlz\n",
       "AAAOxAAADsQBlSsOGwAAAOBJREFUGNNjYMAC2tXumj4Hs/jubECRYfYR4NivDWHzL0CR2jydgYER\n",
       "KjW/AVmGb4MGkPSGcMoglFFa2gUgxdKgACQbIWK3weRcCwiPiRVmNau73S8wfQMqEMJXAGXNCWD6\n",
       "AaJ5A6ACzzkFIAyOgwzcF8BSMGdEcxpAGNwfGNjABrxJAwIFsF1QA3kUGPongBhNMF1MYBcCQb8B\n",
       "gzyYwQaT4gT7ixMotYDBlwvkAmYDeGhMARJ7gdoNuLK5wSK34GGou5VjGdBvHM51IXZgkRZNWHi1\n",
       "63zbihoX09XAAQUDAHO5MBAUDGSbAAAAAElFTkSuQmCC\n",
       "\" style=\"display:inline;vertical-align:middle;\" /></a>, <a class=\"ProveItLink\" href=\"../__pv_it/demonstrations/4a82d58b126555a18b104ddba47c5351567eeaea0/expr.ipynb\"><img src=\"data:image/png;base64,iVBORw0KGgoAAAANSUhEUgAAADEAAAAUCAMAAAATIyWrAAAAPFBMVEX///8NDQ0WFhYLCwsYGBiY\n",
       "mJhERESIiIhUVFTc3NwiIiJ2dnbu7u66urqqqqpmZmYQEBAyMjLMzMwAAADYQ0HGAAAAAXRSTlMA\n",
       "QObYZgAAAAlwSFlzAAAOxAAADsQBlSsOGwAAAOJJREFUKM+VkusShCAIhd2Ll0RF8f3fdcWmDXNy\n",
       "Jn5UQsePoyi1Cgz3NSoZ56SRKwCLm0zUNCkMiUVp9eCFJNapA3JioX3nCCr4GSF7MF2exL5lshHd\n",
       "0HSv09775sDSbKNIRDgUmvfKrWROHPoe3w8/D85WYVfYps4sw7JEnIr2wsqfHq4uRl9hV0RmZNMT\n",
       "cYk4nKdmN7BK6SpGg/t/v3Y3//My/SZ0sxv6Ibmi0rBpud6nzuqwaxojeVRD32keMs9TknlugrNA\n",
       "m7O0RLT/EKyju0lOoB5GCQ8F+jHCP0UoWhV/QRoJ0UnVlJEAAAAASUVORK5CYII=\n",
       "\" style=\"display:inline;vertical-align:middle;\" /></a> <a class=\"ProveItLink\" href=\"../__pv_it/demonstrations/61e343d15f665f7828a047cfbc57051ca6ec95490/proof.ipynb\" style=\"text-decoration: none\">&nbsp;&#x22A2;&nbsp;&nbsp;</a><a class=\"ProveItLink\" href=\"../__pv_it/demonstrations/c19e7cd795add81b104c0dea06236797268c65a70/expr.ipynb\"><img src=\"data:image/png;base64,iVBORw0KGgoAAAANSUhEUgAAAQYAAAAyBAMAAABMh2gAAAAAMFBMVEX///8AAAAAAAAAAAAAAAAA\n",
       "AAAAAAAAAAAAAAAAAAAAAAAAAAAAAAAAAAAAAAAAAAAv3aB7AAAAD3RSTlMAIquJdkTvuxBmmd1U\n",
       "zTKBpmoTAAAACXBIWXMAAA7EAAAOxAGVKw4bAAADp0lEQVRYw61ZTWjUUBCedv+S7F8oxUsPFrYU\n",
       "RIVSexNkix4UpO1BBE+7erAqCEFEBEFDD94ke9VL91pKaVERaVAiePOyKIh4qhcvUrrVLlbZVl/6\n",
       "0k1e8jY7m5c5JLuzvJkv82bme5MFEJGHICbSfRCVwZqohR96F3D31pAWSval8FoAQ66bq3wdZ0Bu\n",
       "kMvCyq5IICZ9368496LlU3SRI6p9TQphyPq2871zr+g+RRd5CeIYcjf4GE4DCoNcjQEDfLUvA6Xp\n",
       "Muvy47kTPgxTFzaCq9MTcWCo2Bt6Wc3sMi6lPd1QGQwjlqIFV8/qcWDIjxKPN0FZYzDkdiFdZjC8\n",
       "OFQw8hziwEC8gdKErB3UZdO8bpq2XaUBxQlGwfVS2I8Fg7RDdlUDY46JA4FUsbyKtMZtktVYMMAD\n",
       "AKMMi2wZkPawqnsVRpm3Nj0aD4ZFFQwLTuaYFCxukBxhFKSPzAXWbtXiwWDUIFPOrSuMy8Faps4o\n",
       "SFEkgrU5S4FDYptRD6Cdq514SmNnhmbY2iwt+XrUqafngybuOYjH94551RfRGC7RW2aN1ycB1Sfn\n",
       "+aU2gWbiJN3MRJPHWd0VXrt/ueonfTDxF9ryW5FTqbDDVS/1wcTPwgyh+lubq672wcRpPSSgqAPM\n",
       "PhdZow8mztOE+BkZQ3Kbp1XslByaGgYMEydol/vdl19CISalEJLO3NZkP1rqKjzSMUws06DdjhwH\n",
       "PpFlSfI9rsEyYJg4R5PHhH9ICVAWLeti50fDfqo06emrtgsMExeoiVfRZ4umPwR1B8M8SC3AMHGq\n",
       "GgGDNx+67gU5EMhNFBM7w4UZOQ4Jbl1kyiC1YbDxDhBMLGuCOZnk9ge73O7Ch3odw8QK5ZZrMfeo\n",
       "AgnvwtlvYxsYJs7SQwm/TxY+9572ci7VbN5y1W8Bz8QjFOAvvoMOx4Rw1h/3c9vPQzgmXgrlrIre\n",
       "ezPcEKY8JZJR0bs5oIWRn8sxIfLGTUTPCUXS0BgcuHzicYbAHjLOP6EMozFMd2l2dACdaWPO5M5+\n",
       "DU1tWSAg3OnFHUBDxfHsYclocpQzvdgDaAODn7I/YckV0RknSMrOANqTvCnjHLJkZDnO3x9jDrE2\n",
       "1XKO+FJLCAOvPXgG0HBZd8ZmuSkCQeblnmcARRSGlyWjvRQb5dJvZwDtkZQHWeNhyejvggJ14Q6g\n",
       "mCh6WDKS3BGb2j+BuKQE3xx8V8UxZC2x9UlNHMOkqIGS+FY0RC3kLVELm7rwYwj/h3LwCuI//zNP\n",
       "kxAgOSgAAAAASUVORK5CYII=\n",
       "\" style=\"display:inline;vertical-align:middle;\" /></a></span>"
      ],
      "text/plain": [
       "{a in Complex, b in Complex, c in Complex, d in Complex, d != 0} |- ((a + b + c) / d) = ((1 / d) * (a + b + c))"
      ]
     },
     "metadata": {},
     "output_type": "display_data"
    }
   ],
   "source": [
    "expr_01.factorization(frac(one, d), assumptions=assumptions)"
   ]
  },
  {
   "cell_type": "code",
   "execution_count": 10,
   "metadata": {},
   "outputs": [
    {
     "data": {
      "text/html": [
       "<span style=\"font-size:20px;\"><a class=\"ProveItLink\" href=\"../__pv_it/theorems/e9f87a0977d5044ea8daf1040d2f219396bb3d5b0/expr.ipynb\"><img src=\"data:image/png;base64,iVBORw0KGgoAAAANSUhEUgAAADMAAAAQBAMAAABJt1qBAAAAMFBMVEX////MzMwyMjKqqqoiIiJm\n",
       "ZmaYmJju7u5EREQQEBC6urqIiIh2dnZUVFTc3NwAAAAqL9KcAAAAAXRSTlMAQObYZgAAAAlwSFlz\n",
       "AAAOxAAADsQBlSsOGwAAANFJREFUGNNjYMACalqU9slgk2DgvpnAHt+KVSp6DQMDG1YpxoB2IHkV\n",
       "RWyHi4sCkOItaACSZcgyi7ZDaA6+AKgI3519G8C0OlTgLeMBKGvlA47vIJrpAVRAhisBwmCfxsDq\n",
       "AJaCGfyUawOEwfqBgQVsgKQLEDSA7YIayNnAUL8AxKiA6eIAuxAI6jcw5IMZLDApLrC/uIBSBgyX\n",
       "mEEu4N4AD421QCIIqH0DsysrWEQZHoZNcewmQL+x3z74diNYpLarABbynV/iUANvTQs4oGAAAKqD\n",
       "MEJAsWyMAAAAAElFTkSuQmCC\n",
       "\" style=\"display:inline;vertical-align:middle;\" /></a>, <a class=\"ProveItLink\" href=\"../__pv_it/theorems/a259ec76dfb0a5be60b7c83d797520fa82c1dba60/expr.ipynb\"><img src=\"data:image/png;base64,iVBORw0KGgoAAAANSUhEUgAAADEAAAAQBAMAAABNQoq8AAAAMFBMVEX///+YmJjMzMzc3NyIiIhU\n",
       "VFR2dna6urqqqqpmZmYyMjIiIiIQEBBERETu7u4AAAD7tRWPAAAAAXRSTlMAQObYZgAAAAlwSFlz\n",
       "AAAOxAAADsQBlSsOGwAAANtJREFUGNNjYMAEz26vclZjYOC7swFNgiVGgG/+TSCDawKazJQyBgZG\n",
       "kAx/A6oE04R7QDISiOsfQIV8d+9eAKRYH1wAkg+BOBsqUeUHoXmZYcYvdYkAUczroHxTpgQIg+/X\n",
       "g/cGIIcYQGXU2AUgDI5/DDwOIBmYCyzZHSAMzgUM/CDtOruB4ALYHqhp3AkM9SB3v4Xp4QW7DeKd\n",
       "+SB3c8Nk2MH+YQfKKPAdBIeJAzwMSoHELKDHBHgh7l8BD7dbk/m6gWJ8YRMhAk+vwwLj2Z3fk1EC\n",
       "rOw2OHRgAAASXDjITT81JQAAAABJRU5ErkJggg==\n",
       "\" style=\"display:inline;vertical-align:middle;\" /></a>, <a class=\"ProveItLink\" href=\"../../addition/subtraction/__pv_it/theorems/b66b5547fa9b0b910f79351152926c658c2718190/expr.ipynb\"><img src=\"data:image/png;base64,iVBORw0KGgoAAAANSUhEUgAAADEAAAAQBAMAAABNQoq8AAAAMFBMVEX///9UVFQyMjK6urru7u4Q\n",
       "EBBERERmZmaqqqoiIiLc3NzMzMyYmJiIiIh2dnYAAABC1PP/AAAAAXRSTlMAQObYZgAAAAlwSFlz\n",
       "AAAOxAAADsQBlSsOGwAAAMJJREFUGNNjYMAEfplKt/ZhEWfgFT3AUp+OTabWjoGBB5sMd0EKkBRH\n",
       "Fro2c6YCkGJ0SACSPkgSRlcgNBtXAUzo7Z0NQJJLBcpdyP0AylrZwA7SzrQAyt/HfADKmsfAegEk\n",
       "AzNiOfMFCIP9C4TeOhMIEsD2QE1jTYDQbjA9bA5QEX+oXk6YDDPYP8wMDPxA+wxAYXIBHgaGQKII\n",
       "aE8CAx/I1Qwa8HBLqmLpBPnp3RmIFx2THWBhnfqzCiXA7DLBoQMDAANFK7BF6/dnAAAAAElFTkSu\n",
       "QmCC\n",
       "\" style=\"display:inline;vertical-align:middle;\" /></a>, <a class=\"ProveItLink\" href=\"../__pv_it/theorems/d6724abdc9486f838f4cf63bc1115e85255ce4c00/expr.ipynb\"><img src=\"data:image/png;base64,iVBORw0KGgoAAAANSUhEUgAAADMAAAAQBAMAAABJt1qBAAAAMFBMVEX///+YmJhERESIiIhUVFTc\n",
       "3NwiIiJ2dnbu7u66urqqqqpmZmYQEBAyMjLMzMwAAAA7oY0NAAAAAXRSTlMAQObYZgAAAAlwSFlz\n",
       "AAAOxAAADsQBlSsOGwAAAOBJREFUGNNjYMAC2tXumj4Hs/jubECRYfYR4NivDWHzL0CR2jydgYER\n",
       "KjW/AVmGb4MGkPSGcMoglFFa2gUgxdKgACQbIWK3weRcCwiPiRVmNau73S8wfQMqEMJXAGXNCWD6\n",
       "AaJ5A6ACzzkFIAyOgwzcF8BSMGdEcxpAGNwfGNjABrxJAwIFsF1QA3kUGPongBhNMF1MYBcCQb8B\n",
       "gzyYwQaT4gT7ixMotYDBlwvkAmYDeGhMARJ7gdoNuLK5wSK34GGou5VjGdBvHM51IXZgkRZNWHi1\n",
       "63zbihoX09XAAQUDAHO5MBAUDGSbAAAAAElFTkSuQmCC\n",
       "\" style=\"display:inline;vertical-align:middle;\" /></a>, <a class=\"ProveItLink\" href=\"../__pv_it/demonstrations/4a82d58b126555a18b104ddba47c5351567eeaea0/expr.ipynb\"><img src=\"data:image/png;base64,iVBORw0KGgoAAAANSUhEUgAAADEAAAAUCAMAAAATIyWrAAAAPFBMVEX///8NDQ0WFhYLCwsYGBiY\n",
       "mJhERESIiIhUVFTc3NwiIiJ2dnbu7u66urqqqqpmZmYQEBAyMjLMzMwAAADYQ0HGAAAAAXRSTlMA\n",
       "QObYZgAAAAlwSFlzAAAOxAAADsQBlSsOGwAAAOJJREFUKM+VkusShCAIhd2Ll0RF8f3fdcWmDXNy\n",
       "Jn5UQsePoyi1Cgz3NSoZ56SRKwCLm0zUNCkMiUVp9eCFJNapA3JioX3nCCr4GSF7MF2exL5lshHd\n",
       "0HSv09775sDSbKNIRDgUmvfKrWROHPoe3w8/D85WYVfYps4sw7JEnIr2wsqfHq4uRl9hV0RmZNMT\n",
       "cYk4nKdmN7BK6SpGg/t/v3Y3//My/SZ0sxv6Ibmi0rBpud6nzuqwaxojeVRD32keMs9TknlugrNA\n",
       "m7O0RLT/EKyju0lOoB5GCQ8F+jHCP0UoWhV/QRoJ0UnVlJEAAAAASUVORK5CYII=\n",
       "\" style=\"display:inline;vertical-align:middle;\" /></a> <a class=\"ProveItLink\" href=\"../__pv_it/demonstrations/8eb93bbe10d2df0c444f27ffb708127f16d3c7780/proof.ipynb\" style=\"text-decoration: none\">&nbsp;&#x22A2;&nbsp;&nbsp;</a><a class=\"ProveItLink\" href=\"../__pv_it/demonstrations/828fc083bdfd82b7c6a19c2f28a399f4444d58980/expr.ipynb\"><img src=\"data:image/png;base64,iVBORw0KGgoAAAANSUhEUgAAAQYAAAAyBAMAAABMh2gAAAAAMFBMVEX///8AAAAAAAAAAAAAAAAA\n",
       "AAAAAAAAAAAAAAAAAAAAAAAAAAAAAAAAAAAAAAAAAAAv3aB7AAAAD3RSTlMAIquJdkTvuxBmmd1U\n",
       "zTKBpmoTAAAACXBIWXMAAA7EAAAOxAGVKw4bAAAD/ElEQVRYw7VZTWgTQRR+SZpkk2zSUIoePFhM\n",
       "EfyDUnvRQo3agwVpeyp4ShWxShGjSBEFDT3oSZKDIAqagAcpRRqs9tBViVC89GCoILUX68WLSFPb\n",
       "YiqxOpvZbHY2b5N1Z32HDEyS7/v2zfuZlwDw2E3gM+Ea8JozxYvwLWEgbixrEiHCTS8aUQUz5lB8\n",
       "eY5T2Pu57IJO3f4pZW3O6TYMbFuYxw8DZQ0B3XHOKWssodswsBfAr0E8j2voBlMafMM2aIAl+cUR\n",
       "ORplKRd69+s0dPUt14J4OuzQEJMPdCjsLTKUwu9EMsxo2JHzxw1BODUE2wjjBfBnGQ1iETxRRsN0\n",
       "ZYOx52CHBsIG/gIEZKdOStI5SZJx/Xlo7mA2ihhGaMsWDcI6OdU4JAcZPxBJsZx2wxNHi+SwLRrg\n",
       "BkAyCmk2DUh5mEpoN5JRDMPTZo+GdBiSOTggMiHYvExihNkgdWSwBmMlZY+GZAq8UXHWz1A6U94M\n",
       "s0GSwlWbmwNKlXSYJdV98EhY9afQ3tPSz+ZmZEJXow4+OFELOaasJ81qcDNHuuvSAnWkN4vVSTBV\n",
       "J0eUTMYq1Z1R7Bt9KI6rgPUs4w1t4/tF17vou0toP0aLmm/DckiF1uk6wbi7Eqcl7DF8mXpAFkxU\n",
       "aJgqISpH7i6ix3m+nkMtmI+WSTGPaXBlUQ2fUKQfljU0rdK8lUOypauV1RBsP5ZjNbh6H9demqj9\n",
       "/Cde0kIk2kIIKHV3kESA+zTcSjAakovCKqPB8QqeAjxCUS9a9oPSyALkeW+nYJL1w/sEnNX3ILLx\n",
       "DkWS4I9Jq2lZNK09pIhPyd2dqJKkmVFJktvIM4A1phfTBrRS9lE5gsqYFGLG+mxR1TACwgbrh2lw\n",
       "lxg/0II2VHaJPkNnLMdD9SzIDcBXYDWU1DvHnHpJIDZvcBZWzUWDzhsFoQTO/FtGw5YcI1o/bJLI\n",
       "Bbhvc0w20frgIsd/FeYzGUbDHrjO1geSFD0AT1CkM7w1KkSq0fjxL+3LjIbxwylWg+vQPRKVL1Ek\n",
       "vE6GPjae9kQlDN9gdRJvvY4sxiKs4QTqtFenZ23S9SHas9DW609hLEY9K2ZidFBc6DU/dG5HWcQS\n",
       "/uluE4ivlbYXN63hMsqiNB5zVxCd7VbWVtOZFEZZnAXs7hnpL5mATPONeioLOr1UB9C6tpLj0qCy\n",
       "7ESmF3kANfMDC9+MU2VJI0FdGUAbNm+uWa/Ksg97vuoAWn9c2ODRUGXByoNmAK1vszwaVBYfFnua\n",
       "AfQ/JobKEsDCSjOANnAnz29BKksMe1zNANqgcxZ58qLCcoVvev8A/OYu8n3/a5hfQ4Cv0kFTnF9D\n",
       "Jy9AhP8o8rwIwRwvwvcE92Nw/4eyKL/+BTYhRhXULMBGAAAAAElFTkSuQmCC\n",
       "\" style=\"display:inline;vertical-align:middle;\" /></a></span>"
      ],
      "text/plain": [
       "{a in Complex, b in Complex, c in Complex, d in Complex, d != 0} |- ((a + b + c) / d) = ((a + b + c) * (1 / d))"
      ]
     },
     "metadata": {},
     "output_type": "display_data"
    }
   ],
   "source": [
    "expr_01.factorization(frac(one, d), pull='right', assumptions=assumptions)"
   ]
  },
  {
   "cell_type": "markdown",
   "metadata": {},
   "source": [
    "***Test trivial cases where the factor is the entire expression.***"
   ]
  },
  {
   "cell_type": "code",
   "execution_count": 11,
   "metadata": {},
   "outputs": [
    {
     "data": {
      "text/html": [
       "<span style=\"font-size:20px;\"> <a class=\"ProveItLink\" href=\"../__pv_it/demonstrations/68e264262e2bafa0e10630b2a807525fb6257bad0/proof.ipynb\" style=\"text-decoration: none\">&nbsp;&#x22A2;&nbsp;&nbsp;</a><a class=\"ProveItLink\" href=\"../__pv_it/demonstrations/ecfdca311d0ab715b7c797ef855d77a601d5cf780/expr.ipynb\"><img src=\"data:image/png;base64,iVBORw0KGgoAAAANSUhEUgAAAMAAAAArBAMAAADccZp1AAAAMFBMVEX///8AAAAAAAAAAAAAAAAA\n",
       "AAAAAAAAAAAAAAAAAAAAAAAAAAAAAAAAAAAAAAAAAAAv3aB7AAAAD3RSTlMAIquJdkTvuxBmmd1U\n",
       "zTKBpmoTAAAACXBIWXMAAA7EAAAOxAGVKw4bAAAB5ElEQVRYw+2XMUvDQBiGv1psQ4y2uLoU6qgg\n",
       "6CKFEqGDLqWT0KmLKOLSyTn/IB1cXLSbiEOLgoPnkMEfUBwcnPoTHBwqKHqRO3OXS8l3h4LQvkNz\n",
       "hPe5t7l8d/0KoMg67oOJ8Nx81yggnWuyayFgg9kOamJuS+Ue2LXlsYHjogK4LZXjARUwCxjDZcpb\n",
       "rhzwWFuJGTd2hsq0EcdtKpetnQHsFvMjKcD68PyiZFwK7LYSEHHMpnKZe7gA6xDsvhTgjCDnSsYb\n",
       "fkMsyohjNpWbW4M9sF/CK8AVIfuEXNORPYACvWMTcntESImORgkLzznBFuegF771XBv8hvQElGsF\n",
       "4jfJtRMCBI7ZFA4Owg/fhXO5img59zzR6CcVk8Axm8JZr9/GAFadohQwpOsrkXTfNJSAiOO2OAdv\n",
       "dM9B3nXubOkJZjr5rmSkJZRVylTgmE3haAlBFazl6mJdLtPyZWzDrJ9uq0dbxPEVUbjs5omXtJPB\n",
       "cCencs1xpxjysNPlpvqPosdMqNKEPfYnUr/FTd/BpGjhqfvH3E+XqSk01/LMAtBcxXBt0dyzYQCO\n",
       "y5Tr7yazo7moq9UTlgu72oHJXzQsx7ta7V8jLCd0tVpCc0JXqyU0J3S1egFYTuhqtYTmhK5Wr4qS\n",
       "uS9ppuggVQTVrQAAAABJRU5ErkJggg==\n",
       "\" style=\"display:inline;vertical-align:middle;\" /></a></span>"
      ],
      "text/plain": [
       "|- ((a + b + c) / d) = ((a + b + c) / d)"
      ]
     },
     "metadata": {},
     "output_type": "display_data"
    }
   ],
   "source": [
    "expr_01.factorization(frac(expr_01.numerator, d), assumptions=assumptions)"
   ]
  },
  {
   "cell_type": "code",
   "execution_count": 12,
   "metadata": {},
   "outputs": [
    {
     "data": {
      "text/html": [
       "<span style=\"font-size:20px;\"> <a class=\"ProveItLink\" href=\"../__pv_it/demonstrations/68e264262e2bafa0e10630b2a807525fb6257bad0/proof.ipynb\" style=\"text-decoration: none\">&nbsp;&#x22A2;&nbsp;&nbsp;</a><a class=\"ProveItLink\" href=\"../__pv_it/demonstrations/ecfdca311d0ab715b7c797ef855d77a601d5cf780/expr.ipynb\"><img src=\"data:image/png;base64,iVBORw0KGgoAAAANSUhEUgAAAMAAAAArBAMAAADccZp1AAAAMFBMVEX///8AAAAAAAAAAAAAAAAA\n",
       "AAAAAAAAAAAAAAAAAAAAAAAAAAAAAAAAAAAAAAAAAAAv3aB7AAAAD3RSTlMAIquJdkTvuxBmmd1U\n",
       "zTKBpmoTAAAACXBIWXMAAA7EAAAOxAGVKw4bAAAB5ElEQVRYw+2XMUvDQBiGv1psQ4y2uLoU6qgg\n",
       "6CKFEqGDLqWT0KmLKOLSyTn/IB1cXLSbiEOLgoPnkMEfUBwcnPoTHBwqKHqRO3OXS8l3h4LQvkNz\n",
       "hPe5t7l8d/0KoMg67oOJ8Nx81yggnWuyayFgg9kOamJuS+Ue2LXlsYHjogK4LZXjARUwCxjDZcpb\n",
       "rhzwWFuJGTd2hsq0EcdtKpetnQHsFvMjKcD68PyiZFwK7LYSEHHMpnKZe7gA6xDsvhTgjCDnSsYb\n",
       "fkMsyohjNpWbW4M9sF/CK8AVIfuEXNORPYACvWMTcntESImORgkLzznBFuegF771XBv8hvQElGsF\n",
       "4jfJtRMCBI7ZFA4Owg/fhXO5img59zzR6CcVk8Axm8JZr9/GAFadohQwpOsrkXTfNJSAiOO2OAdv\n",
       "dM9B3nXubOkJZjr5rmSkJZRVylTgmE3haAlBFazl6mJdLtPyZWzDrJ9uq0dbxPEVUbjs5omXtJPB\n",
       "cCencs1xpxjysNPlpvqPosdMqNKEPfYnUr/FTd/BpGjhqfvH3E+XqSk01/LMAtBcxXBt0dyzYQCO\n",
       "y5Tr7yazo7moq9UTlgu72oHJXzQsx7ta7V8jLCd0tVpCc0JXqyU0J3S1egFYTuhqtYTmhK5Wr4qS\n",
       "uS9ppuggVQTVrQAAAABJRU5ErkJggg==\n",
       "\" style=\"display:inline;vertical-align:middle;\" /></a></span>"
      ],
      "text/plain": [
       "|- ((a + b + c) / d) = ((a + b + c) / d)"
      ]
     },
     "metadata": {},
     "output_type": "display_data"
    }
   ],
   "source": [
    "expr_01.factorization(frac(expr_01.numerator, d), pull='right', assumptions=assumptions)"
   ]
  },
  {
   "cell_type": "code",
   "execution_count": 13,
   "metadata": {},
   "outputs": [
    {
     "data": {
      "text/html": [
       "<strong id=\"expr_02\">expr_02:</strong> <a class=\"ProveItLink\" href=\"../__pv_it/demonstrations/c6cd4fc48e0dd8483837aba2dc9240a0ace025a80/expr.ipynb\"><img src=\"data:image/png;base64,iVBORw0KGgoAAAANSUhEUgAAAHgAAAAtBAMAAACXCbKlAAAAMFBMVEX///8AAAAAAAAAAAAAAAAA\n",
       "AAAAAAAAAAAAAAAAAAAAAAAAAAAAAAAAAAAAAAAAAAAv3aB7AAAAD3RSTlMAInZUiRDNmWbv3US7\n",
       "qzJazP2FAAAACXBIWXMAAA7EAAAOxAGVKw4bAAAB5ElEQVRIx2NgYGAQYCASMGIKMRkQq5lbAUPI\n",
       "BIsy1pMLsOnWQDBjZoHVJWBTxlaAVTQAwU4HEewNKC6D8vgN0ATAgAPJyM8gghPFbGaot/YHoAlA\n",
       "wFSELV9BpBlWzV4MWDVnwFks4EApAcXBFUUFVLW5SpfRNLMo9TEw+CK8f0nXAGLYTgGeryhqWb8F\n",
       "xAugaGZczFDDwNAG1xyfyvqRgWExUOkMBvYFKJqZvzJwKqBo5nJgmMTAYAnXbB8A4s8GBvgHkByQ\n",
       "XrVq5axVqy4AWQkM/A7IAgz14BB8D3YViFXGwPAFrJnzAEP8BhSbgWbtN0CxeQ6Y3AkiloOIJQzc\n",
       "n8HOjldg6EcNXGA0Q6yCB8InMGWFFM3swGA6BNRswHCNGSV8+B8AwwHF5h/AqGVg6IFr/scQ2QAO\n",
       "fR4F5uXsKGp5G3gKUDUDg9oPEq8QcIPhOJB8BXTTJT9ZPdSoulKBlkhYPJqA/lgN1xzrDkq3XA+w\n",
       "pTDsAozoeY2jAFvGwC7Aji7LcJCBaCCDIRJDvGZMexgViNXLJMAwCv5TAEZDj7qAL7OAAt38BhRo\n",
       "3h9AgWYvSjydTrZOxit6n8nWjKj/SAeg+i+BXM2w+o8sgFT/kQ6Q6j8yNCPqP9IBUv1HRmgj6j/s\n",
       "AAATu6JS4seo5QAAAABJRU5ErkJggg==\n",
       "\" style=\"display:inline;vertical-align:middle;\" /></a><br>"
      ],
      "text/plain": [
       "<IPython.core.display.HTML object>"
      ]
     },
     "metadata": {},
     "output_type": "display_data"
    }
   ],
   "source": [
    "expr_02 = frac(Mult(Add(a, b, c), b), d)"
   ]
  },
  {
   "cell_type": "code",
   "execution_count": 14,
   "metadata": {},
   "outputs": [
    {
     "data": {
      "text/html": [
       "<span style=\"font-size:20px;\"><a class=\"ProveItLink\" href=\"../__pv_it/theorems/e9f87a0977d5044ea8daf1040d2f219396bb3d5b0/expr.ipynb\"><img src=\"data:image/png;base64,iVBORw0KGgoAAAANSUhEUgAAADMAAAAQBAMAAABJt1qBAAAAMFBMVEX////MzMwyMjKqqqoiIiJm\n",
       "ZmaYmJju7u5EREQQEBC6urqIiIh2dnZUVFTc3NwAAAAqL9KcAAAAAXRSTlMAQObYZgAAAAlwSFlz\n",
       "AAAOxAAADsQBlSsOGwAAANFJREFUGNNjYMACalqU9slgk2DgvpnAHt+KVSp6DQMDG1YpxoB2IHkV\n",
       "RWyHi4sCkOItaACSZcgyi7ZDaA6+AKgI3519G8C0OlTgLeMBKGvlA47vIJrpAVRAhisBwmCfxsDq\n",
       "AJaCGfyUawOEwfqBgQVsgKQLEDSA7YIayNnAUL8AxKiA6eIAuxAI6jcw5IMZLDApLrC/uIBSBgyX\n",
       "mEEu4N4AD421QCIIqH0DsysrWEQZHoZNcewmQL+x3z74diNYpLarABbynV/iUANvTQs4oGAAAKqD\n",
       "MEJAsWyMAAAAAElFTkSuQmCC\n",
       "\" style=\"display:inline;vertical-align:middle;\" /></a>, <a class=\"ProveItLink\" href=\"../__pv_it/theorems/a259ec76dfb0a5be60b7c83d797520fa82c1dba60/expr.ipynb\"><img src=\"data:image/png;base64,iVBORw0KGgoAAAANSUhEUgAAADEAAAAQBAMAAABNQoq8AAAAMFBMVEX///+YmJjMzMzc3NyIiIhU\n",
       "VFR2dna6urqqqqpmZmYyMjIiIiIQEBBERETu7u4AAAD7tRWPAAAAAXRSTlMAQObYZgAAAAlwSFlz\n",
       "AAAOxAAADsQBlSsOGwAAANtJREFUGNNjYMAEz26vclZjYOC7swFNgiVGgG/+TSCDawKazJQyBgZG\n",
       "kAx/A6oE04R7QDISiOsfQIV8d+9eAKRYH1wAkg+BOBsqUeUHoXmZYcYvdYkAUczroHxTpgQIg+/X\n",
       "g/cGIIcYQGXU2AUgDI5/DDwOIBmYCyzZHSAMzgUM/CDtOruB4ALYHqhp3AkM9SB3v4Xp4QW7DeKd\n",
       "+SB3c8Nk2MH+YQfKKPAdBIeJAzwMSoHELKDHBHgh7l8BD7dbk/m6gWJ8YRMhAk+vwwLj2Z3fk1EC\n",
       "rOw2OHRgAAASXDjITT81JQAAAABJRU5ErkJggg==\n",
       "\" style=\"display:inline;vertical-align:middle;\" /></a>, <a class=\"ProveItLink\" href=\"../../addition/subtraction/__pv_it/theorems/b66b5547fa9b0b910f79351152926c658c2718190/expr.ipynb\"><img src=\"data:image/png;base64,iVBORw0KGgoAAAANSUhEUgAAADEAAAAQBAMAAABNQoq8AAAAMFBMVEX///9UVFQyMjK6urru7u4Q\n",
       "EBBERERmZmaqqqoiIiLc3NzMzMyYmJiIiIh2dnYAAABC1PP/AAAAAXRSTlMAQObYZgAAAAlwSFlz\n",
       "AAAOxAAADsQBlSsOGwAAAMJJREFUGNNjYMAEfplKt/ZhEWfgFT3AUp+OTabWjoGBB5sMd0EKkBRH\n",
       "Fro2c6YCkGJ0SACSPkgSRlcgNBtXAUzo7Z0NQJJLBcpdyP0AylrZwA7SzrQAyt/HfADKmsfAegEk\n",
       "AzNiOfMFCIP9C4TeOhMIEsD2QE1jTYDQbjA9bA5QEX+oXk6YDDPYP8wMDPxA+wxAYXIBHgaGQKII\n",
       "aE8CAx/I1Qwa8HBLqmLpBPnp3RmIFx2THWBhnfqzCiXA7DLBoQMDAANFK7BF6/dnAAAAAElFTkSu\n",
       "QmCC\n",
       "\" style=\"display:inline;vertical-align:middle;\" /></a>, <a class=\"ProveItLink\" href=\"../__pv_it/theorems/d6724abdc9486f838f4cf63bc1115e85255ce4c00/expr.ipynb\"><img src=\"data:image/png;base64,iVBORw0KGgoAAAANSUhEUgAAADMAAAAQBAMAAABJt1qBAAAAMFBMVEX///+YmJhERESIiIhUVFTc\n",
       "3NwiIiJ2dnbu7u66urqqqqpmZmYQEBAyMjLMzMwAAAA7oY0NAAAAAXRSTlMAQObYZgAAAAlwSFlz\n",
       "AAAOxAAADsQBlSsOGwAAAOBJREFUGNNjYMAC2tXumj4Hs/jubECRYfYR4NivDWHzL0CR2jydgYER\n",
       "KjW/AVmGb4MGkPSGcMoglFFa2gUgxdKgACQbIWK3weRcCwiPiRVmNau73S8wfQMqEMJXAGXNCWD6\n",
       "AaJ5A6ACzzkFIAyOgwzcF8BSMGdEcxpAGNwfGNjABrxJAwIFsF1QA3kUGPongBhNMF1MYBcCQb8B\n",
       "gzyYwQaT4gT7ixMotYDBlwvkAmYDeGhMARJ7gdoNuLK5wSK34GGou5VjGdBvHM51IXZgkRZNWHi1\n",
       "63zbihoX09XAAQUDAHO5MBAUDGSbAAAAAElFTkSuQmCC\n",
       "\" style=\"display:inline;vertical-align:middle;\" /></a>, <a class=\"ProveItLink\" href=\"../__pv_it/demonstrations/4a82d58b126555a18b104ddba47c5351567eeaea0/expr.ipynb\"><img src=\"data:image/png;base64,iVBORw0KGgoAAAANSUhEUgAAADEAAAAUCAMAAAATIyWrAAAAPFBMVEX///8NDQ0WFhYLCwsYGBiY\n",
       "mJhERESIiIhUVFTc3NwiIiJ2dnbu7u66urqqqqpmZmYQEBAyMjLMzMwAAADYQ0HGAAAAAXRSTlMA\n",
       "QObYZgAAAAlwSFlzAAAOxAAADsQBlSsOGwAAAOJJREFUKM+VkusShCAIhd2Ll0RF8f3fdcWmDXNy\n",
       "Jn5UQsePoyi1Cgz3NSoZ56SRKwCLm0zUNCkMiUVp9eCFJNapA3JioX3nCCr4GSF7MF2exL5lshHd\n",
       "0HSv09775sDSbKNIRDgUmvfKrWROHPoe3w8/D85WYVfYps4sw7JEnIr2wsqfHq4uRl9hV0RmZNMT\n",
       "cYk4nKdmN7BK6SpGg/t/v3Y3//My/SZ0sxv6Ibmi0rBpud6nzuqwaxojeVRD32keMs9TknlugrNA\n",
       "m7O0RLT/EKyju0lOoB5GCQ8F+jHCP0UoWhV/QRoJ0UnVlJEAAAAASUVORK5CYII=\n",
       "\" style=\"display:inline;vertical-align:middle;\" /></a> <a class=\"ProveItLink\" href=\"../__pv_it/demonstrations/d88e102e46a94a5d2f3775c1b9a3cdd301dbadde0/proof.ipynb\" style=\"text-decoration: none\">&nbsp;&#x22A2;&nbsp;&nbsp;</a><a class=\"ProveItLink\" href=\"../__pv_it/demonstrations/a2bd1ea2048156c8c969645aa478b6bd71b5828b0/expr.ipynb\"><img src=\"data:image/png;base64,iVBORw0KGgoAAAANSUhEUgAAAS4AAAAyBAMAAAAQDSskAAAAMFBMVEX///8AAAAAAAAAAAAAAAAA\n",
       "AAAAAAAAAAAAAAAAAAAAAAAAAAAAAAAAAAAAAAAAAAAv3aB7AAAAD3RSTlMAInZUiRDNmWbv3US7\n",
       "qzJazP2FAAAACXBIWXMAAA7EAAAOxAGVKw4bAAAEHklEQVRYw7VZTWgTQRR++f9tEnqzUEz9AU9t\n",
       "FPHgKRRPhcqeBEFJDop6EHIQKb00N70lHvzDCkXFYkAJnvSUWPBQQS01CHqKl4K9NDbGCtHq7E93\n",
       "Z9KX2Zns9oMmy3uzs1/evPfm2ykAQAoEITTwAzhD4K1x4c2I3vJSYMxQ0SEvWFf07+MY6eUFxOot\n",
       "2gwgaPCcQvDpNwfymDNYwKwX7QZAOM9xCmJa+wwxgX9lfCczPQYNN6zLJL76+1IcpyCiGqMIYztm\n",
       "fNeUHoOGiGJe1hR0zkc8p+hC3lY/T6C8pgDjFbRiO4UvY5njFMYl9eMa+fM0xtIsjasHPvXwmjzS\n",
       "BP+Kea85gEEky3EKo6Ymw2Xy9zoV7zA0Ar+UXIrhNZIJ1Y2sZgcwmFA4TmEE1Z//mMxzD0ILDC9f\n",
       "ByJphtcT1eArmzlgDmDwnOcUTzA1SA9ISbYgqi7AbKVyv1JR5w7lIZllDFo8Ey0tGtaAHiS29RJH\n",
       "nRItf1PnFalDrsrEi9CsZWgDGUIQ0+K1yAxgmn255+4B8U5fx1waSmz5kQY0p9CGXJpqxcwAJu1X\n",
       "OE4JlEh2LpGHZuCzj0nzZJPkHGMgHaIK4brJyxxAY6PIcUogV9S6fjztWwwxNIaK8QJjIMXob0Io\n",
       "a23PcWSvmUihTo8woZQV93WSZ6unR8fZPtGY6emrp24eJolTNVPTHEBjGXceFOZlKJY4yZdoE+v3\n",
       "uGHEZtp5vOyzsorFT+o+XMD2bdwwY1PfW6j5DMgqlnCXfLwRjrKnzvcnNlHzDMgqFm2ic8K84jab\n",
       "i6+NmsvSikULvEd4yxiz8Ye3UbZ5ecXyF9yE9wdm1ZrL6OQwSCiWP465kC20om+hpIw6aIKTEMRu\n",
       "wUdFQrHccTVeIZRXlCT42SLMgoRiqcA/B9i1bbf0SjOdOfXXR0gznlMfK6xYAJ65Gi+DFxWqgsFr\n",
       "HgJdEFcsLvCi86vvOhJBFW7JKJaKq/Hyo/UYT0OgDUP5oyCuWNzNey/av9TSX4KThYKEYnnoKi+8\n",
       "rybI0pw/9G21KaFYtmyelLgi80bv65qXa3ct8wuQVSyBn3aPknqjT/y2rtvo6YGgYukjAOhXTCmd\n",
       "boU/1hHf7ncrlj4CgILcG/1TK9kp1ReoyyoWfKPddVQgjC+46hsWnmCsT4PuiWpjvC3Fq2Ss+ujk\n",
       "hqP3xwg/wtaxhSAMNpR6GAz7uZJQPbbIy/1OXT0R9XDdUSMscStl59hCQujou+6OehgYX+1WOVeV\n",
       "mi/WNV7XAl1HvPjtizq2EMWicRwTbjnaz/hZTR1bSBUkrR4GQnSF3+SsYwvhxNfykVIPg59jcurR\n",
       "OraQWwFKPQyE9+A6LrgwR6zjPq/vKedzRDPu8/LWnc8xDXuAhvNlzO8Fr6DjRVhT9oKX8/+Lakdg\n",
       "/wGgoG12UPRn7wAAAABJRU5ErkJggg==\n",
       "\" style=\"display:inline;vertical-align:middle;\" /></a></span>"
      ],
      "text/plain": [
       "{a in Complex, b in Complex, c in Complex, d in Complex, d != 0} |- (((a + b + c) * b) / d) = ((b / d) * (a + b + c))"
      ]
     },
     "metadata": {},
     "output_type": "display_data"
    }
   ],
   "source": [
    "expr_02.factorization(frac(b, d), assumptions=assumptions)"
   ]
  },
  {
   "cell_type": "code",
   "execution_count": 15,
   "metadata": {},
   "outputs": [
    {
     "data": {
      "text/html": [
       "<span style=\"font-size:20px;\"><a class=\"ProveItLink\" href=\"../__pv_it/theorems/e9f87a0977d5044ea8daf1040d2f219396bb3d5b0/expr.ipynb\"><img src=\"data:image/png;base64,iVBORw0KGgoAAAANSUhEUgAAADMAAAAQBAMAAABJt1qBAAAAMFBMVEX////MzMwyMjKqqqoiIiJm\n",
       "ZmaYmJju7u5EREQQEBC6urqIiIh2dnZUVFTc3NwAAAAqL9KcAAAAAXRSTlMAQObYZgAAAAlwSFlz\n",
       "AAAOxAAADsQBlSsOGwAAANFJREFUGNNjYMACalqU9slgk2DgvpnAHt+KVSp6DQMDG1YpxoB2IHkV\n",
       "RWyHi4sCkOItaACSZcgyi7ZDaA6+AKgI3519G8C0OlTgLeMBKGvlA47vIJrpAVRAhisBwmCfxsDq\n",
       "AJaCGfyUawOEwfqBgQVsgKQLEDSA7YIayNnAUL8AxKiA6eIAuxAI6jcw5IMZLDApLrC/uIBSBgyX\n",
       "mEEu4N4AD421QCIIqH0DsysrWEQZHoZNcewmQL+x3z74diNYpLarABbynV/iUANvTQs4oGAAAKqD\n",
       "MEJAsWyMAAAAAElFTkSuQmCC\n",
       "\" style=\"display:inline;vertical-align:middle;\" /></a>, <a class=\"ProveItLink\" href=\"../__pv_it/theorems/a259ec76dfb0a5be60b7c83d797520fa82c1dba60/expr.ipynb\"><img src=\"data:image/png;base64,iVBORw0KGgoAAAANSUhEUgAAADEAAAAQBAMAAABNQoq8AAAAMFBMVEX///+YmJjMzMzc3NyIiIhU\n",
       "VFR2dna6urqqqqpmZmYyMjIiIiIQEBBERETu7u4AAAD7tRWPAAAAAXRSTlMAQObYZgAAAAlwSFlz\n",
       "AAAOxAAADsQBlSsOGwAAANtJREFUGNNjYMAEz26vclZjYOC7swFNgiVGgG/+TSCDawKazJQyBgZG\n",
       "kAx/A6oE04R7QDISiOsfQIV8d+9eAKRYH1wAkg+BOBsqUeUHoXmZYcYvdYkAUczroHxTpgQIg+/X\n",
       "g/cGIIcYQGXU2AUgDI5/DDwOIBmYCyzZHSAMzgUM/CDtOruB4ALYHqhp3AkM9SB3v4Xp4QW7DeKd\n",
       "+SB3c8Nk2MH+YQfKKPAdBIeJAzwMSoHELKDHBHgh7l8BD7dbk/m6gWJ8YRMhAk+vwwLj2Z3fk1EC\n",
       "rOw2OHRgAAASXDjITT81JQAAAABJRU5ErkJggg==\n",
       "\" style=\"display:inline;vertical-align:middle;\" /></a>, <a class=\"ProveItLink\" href=\"../../addition/subtraction/__pv_it/theorems/b66b5547fa9b0b910f79351152926c658c2718190/expr.ipynb\"><img src=\"data:image/png;base64,iVBORw0KGgoAAAANSUhEUgAAADEAAAAQBAMAAABNQoq8AAAAMFBMVEX///9UVFQyMjK6urru7u4Q\n",
       "EBBERERmZmaqqqoiIiLc3NzMzMyYmJiIiIh2dnYAAABC1PP/AAAAAXRSTlMAQObYZgAAAAlwSFlz\n",
       "AAAOxAAADsQBlSsOGwAAAMJJREFUGNNjYMAEfplKt/ZhEWfgFT3AUp+OTabWjoGBB5sMd0EKkBRH\n",
       "Fro2c6YCkGJ0SACSPkgSRlcgNBtXAUzo7Z0NQJJLBcpdyP0AylrZwA7SzrQAyt/HfADKmsfAegEk\n",
       "AzNiOfMFCIP9C4TeOhMIEsD2QE1jTYDQbjA9bA5QEX+oXk6YDDPYP8wMDPxA+wxAYXIBHgaGQKII\n",
       "aE8CAx/I1Qwa8HBLqmLpBPnp3RmIFx2THWBhnfqzCiXA7DLBoQMDAANFK7BF6/dnAAAAAElFTkSu\n",
       "QmCC\n",
       "\" style=\"display:inline;vertical-align:middle;\" /></a>, <a class=\"ProveItLink\" href=\"../__pv_it/theorems/d6724abdc9486f838f4cf63bc1115e85255ce4c00/expr.ipynb\"><img src=\"data:image/png;base64,iVBORw0KGgoAAAANSUhEUgAAADMAAAAQBAMAAABJt1qBAAAAMFBMVEX///+YmJhERESIiIhUVFTc\n",
       "3NwiIiJ2dnbu7u66urqqqqpmZmYQEBAyMjLMzMwAAAA7oY0NAAAAAXRSTlMAQObYZgAAAAlwSFlz\n",
       "AAAOxAAADsQBlSsOGwAAAOBJREFUGNNjYMAC2tXumj4Hs/jubECRYfYR4NivDWHzL0CR2jydgYER\n",
       "KjW/AVmGb4MGkPSGcMoglFFa2gUgxdKgACQbIWK3weRcCwiPiRVmNau73S8wfQMqEMJXAGXNCWD6\n",
       "AaJ5A6ACzzkFIAyOgwzcF8BSMGdEcxpAGNwfGNjABrxJAwIFsF1QA3kUGPongBhNMF1MYBcCQb8B\n",
       "gzyYwQaT4gT7ixMotYDBlwvkAmYDeGhMARJ7gdoNuLK5wSK34GGou5VjGdBvHM51IXZgkRZNWHi1\n",
       "63zbihoX09XAAQUDAHO5MBAUDGSbAAAAAElFTkSuQmCC\n",
       "\" style=\"display:inline;vertical-align:middle;\" /></a>, <a class=\"ProveItLink\" href=\"../__pv_it/demonstrations/4a82d58b126555a18b104ddba47c5351567eeaea0/expr.ipynb\"><img src=\"data:image/png;base64,iVBORw0KGgoAAAANSUhEUgAAADEAAAAUCAMAAAATIyWrAAAAPFBMVEX///8NDQ0WFhYLCwsYGBiY\n",
       "mJhERESIiIhUVFTc3NwiIiJ2dnbu7u66urqqqqpmZmYQEBAyMjLMzMwAAADYQ0HGAAAAAXRSTlMA\n",
       "QObYZgAAAAlwSFlzAAAOxAAADsQBlSsOGwAAAOJJREFUKM+VkusShCAIhd2Ll0RF8f3fdcWmDXNy\n",
       "Jn5UQsePoyi1Cgz3NSoZ56SRKwCLm0zUNCkMiUVp9eCFJNapA3JioX3nCCr4GSF7MF2exL5lshHd\n",
       "0HSv09775sDSbKNIRDgUmvfKrWROHPoe3w8/D85WYVfYps4sw7JEnIr2wsqfHq4uRl9hV0RmZNMT\n",
       "cYk4nKdmN7BK6SpGg/t/v3Y3//My/SZ0sxv6Ibmi0rBpud6nzuqwaxojeVRD32keMs9TknlugrNA\n",
       "m7O0RLT/EKyju0lOoB5GCQ8F+jHCP0UoWhV/QRoJ0UnVlJEAAAAASUVORK5CYII=\n",
       "\" style=\"display:inline;vertical-align:middle;\" /></a> <a class=\"ProveItLink\" href=\"../__pv_it/demonstrations/62927767a073395516c4225935127274eb92e0a80/proof.ipynb\" style=\"text-decoration: none\">&nbsp;&#x22A2;&nbsp;&nbsp;</a><a class=\"ProveItLink\" href=\"../__pv_it/demonstrations/ce9ca8e903e4980ac408fc14a02b87962f71cd600/expr.ipynb\"><img src=\"data:image/png;base64,iVBORw0KGgoAAAANSUhEUgAAAS4AAAAyBAMAAAAQDSskAAAAMFBMVEX///8AAAAAAAAAAAAAAAAA\n",
       "AAAAAAAAAAAAAAAAAAAAAAAAAAAAAAAAAAAAAAAAAAAv3aB7AAAAD3RSTlMAInZUiRDNmWbv3US7\n",
       "qzJazP2FAAAACXBIWXMAAA7EAAAOxAGVKw4bAAAEt0lEQVRYw71ZTYhTVxQ+yUsmv5MEd4rSaFtw\n",
       "U40igm46iFAZUN6qUFCSRaV2UciiFBHB4EJdiKOCUv8gaHGYV1qGruoqUSjFQtthGkrbVbop1M2M\n",
       "jnGE8e++e++79503N+/dcN94IO+Fm5Nzvpx77nfOOwEAqICmaCn+BmaS/om/SdZ0v/KDhs54yxAX\n",
       "PLLZfZcK9MO2YjXZilAg0jNAdPi6e7WY5XRDpTLWVK0ejVKAbMMkVJ/R60F6zaDA/8jv5VpggcpZ\n",
       "+bas3v31FRNcS/Sap4hy6JOd/N6xAwtUcrZ427GVlm+bwCoM6M264l53K3FNggrXmIztpHobL5rg\n",
       "SrV92/kleSV6m6sYxhdb/gjg2re1D6k5YUMoIMlNmOAam/+AZkfHTYZj5HWvUhwgGOlndr2CcG2o\n",
       "Zbq+rJYKSLbbJrjqR9OPKT73598hTr6GTBvhsgaQqyJc37gLltgmqYDkOyPm+tCGy9w4wA1yJBch\n",
       "727ACce55jiu7UwDyhNogcaztEhDJRUCUnplhOsrgKd0M54wXLku1GdRvAjMTs2/QFTcA0PjNY0U\n",
       "ENkbpT3ZkwJjil/YPtarMIWPH2GnU7Z/oV71UTFSQGk/B2b0xbYFpkjqPiBOa/CnhdK83Cc5hxYI\n",
       "Q8xCtitwCQW/LJgVx1fwCTNQb1HWL1at6QyCMd4qNtECOYypPmQmZHkuKgrRdn5EE7pIsOJf8LOM\n",
       "+yOSZ/OHNm3DPNE7HuDV/efeJ1k1K3hCKPjlIb+/q83w6Ewf+YjHu0jyJd9X8b16YUOEm5ucRCaG\n",
       "NgtB2aomfnLus01V3VYvHI9o6ZbZ/eOQZiFI8Uoizq6Qy33tvEx0wz8vPVHAL7RQsxD4qdnmUEOH\n",
       "tXEVI5oYi7tGLGZVUbMQTI0rQwOfqOri2hzxeZbRvdVQ4Uq1lbiOKS29hDgl+Zhxipv2m/atw7i8\n",
       "ZkHiSm254DWnQXlhjIWUUIeVUOJoILq0wiX43Ua4vGZB4ErcgZMAZ5RWr8YaL15F8iQuhLhP4Hh5\n",
       "zYK/BpOFPUpLDrw2kFVle5GxNWHfU24VJkgdZ+a648zJZkG2KKy+LtBY0oykNpmJmVjj5cN1E9Ir\n",
       "OF6iWfDixUj4Hg1dkC1mYs0vuY+kg8ouYlyiWeC40ozs9g7ZxzglxRK7WIX0Eow3diBcolnw4vWc\n",
       "nA6A828h75OMv9ynkwewt9lEuESz4OEih/EQe+xZLbdixcV5tUQY9Mh7/873ES7RLHi4UgdOk8z/\n",
       "VmlpOcJT6fPmCLgsnurfq/he3aIk2ip/6adRrsq1EXCVnq8aF/jqtrJFybRU/rwGYLh0RnogXNar\n",
       "7z7ZqPRnLUV9b3KkBLvL24Gu9jfuK/3xQhs5+dGVv/l9nfYJrij9cYIe2gf2ti2NhGvKaAwg/eXC\n",
       "Ay7HFpqyUDPCJfy9E9oSumOL0cZ/Zs+10t9U6MHxxhYjNDpGcwDp75/wXy/HFrqPgysmuKS/cPry\n",
       "jS10Zdpo/OX5y4ZntW9s8VYOpPCXD09T39hCeytM5pjCXyc8GL6xhXZHMTA5j56/XyF2+TQGG4VB\n",
       "/Lj+r5jbyNfix5Xsmts4CGsgPfNtbKwFrjHjTfjPXgtc5v+L0j/t3gB8UWwOz9oKsAAAAABJRU5E\n",
       "rkJggg==\n",
       "\" style=\"display:inline;vertical-align:middle;\" /></a></span>"
      ],
      "text/plain": [
       "{a in Complex, b in Complex, c in Complex, d in Complex, d != 0} |- (((a + b + c) * b) / d) = ((a + b + c) * (b / d))"
      ]
     },
     "metadata": {},
     "output_type": "display_data"
    }
   ],
   "source": [
    "expr_02.factorization(frac(b, d), pull='right', assumptions=assumptions)"
   ]
  },
  {
   "cell_type": "code",
   "execution_count": 16,
   "metadata": {},
   "outputs": [
    {
     "data": {
      "text/html": [
       "<strong id=\"expr_03\">expr_03:</strong> <a class=\"ProveItLink\" href=\"../__pv_it/demonstrations/a4079a6c7308851cbf5ed158f293ccfed5f11c960/expr.ipynb\"><img src=\"data:image/png;base64,iVBORw0KGgoAAAANSUhEUgAAAHgAAAAtBAMAAACXCbKlAAAAMFBMVEX///8AAAAAAAAAAAAAAAAA\n",
       "AAAAAAAAAAAAAAAAAAAAAAAAAAAAAAAAAAAAAAAAAAAv3aB7AAAAD3RSTlMAInZUiRDNmWbv3US7\n",
       "qzJazP2FAAAACXBIWXMAAA7EAAAOxAGVKw4bAAACCklEQVRIx+1VQSgEURj+1u6aXbvazZkacnCh\n",
       "UVJcyIUUzVWtdi/iouYgScrm4CSiRDhsUbIurk7Yi5xoSY7r4uCyy1ophffeaHbe7FNPk5vv8M/7\n",
       "//m/97/3/W/mAUAUkvBUhqo0WXJIrQh1CNL8FykRu6U8jG2xvIQordoQRvXyeJwaJcmt7NuLaI4A\n",
       "Q8A2ZZGaIDe393tbJ7ojYGK9XKVEbaeQPAghecIa+ZgoU7QHN40qnzvZdO0g+5qWgaHy9rOtmjnZ\n",
       "cTRc4nL9r3o8ypE9u5gDFi1yfMz/BOyS1E0oKY7sLSGocuSaXqwBXRa5R6f+NhG8QN+RZzp9sJVO\n",
       "X5FRApFeewDzTME8WxUdTQMvjBw8RfyIq0zmOtG4yjvMHlOzT80eQkW27LiKFV5c0mazlCXCM3t0\n",
       "29qsEJkyhKzh1svpE8kRHbjKb6S1wJJF/sBIkqkfVr37CpdbmwwbPJlIPWz21cQdzol9JGvKDje0\n",
       "8a26mXEcEt/AAtnHoUUe7afntiYnOmHigMf5rQUM0YchDijOtziDNOorIjF5cmUdjyrLrYriH58u\n",
       "8K/en+Bhww276IIbKrkg+1IuyOLb+ic09NXZnbz2mz2u4lIXOhIg//NZuzP9m1XP07uI3qMJmyOL\n",
       "Hfjf2X1n2BxJkFstUBA6MuQiahPtIkcGGXQbhtCRwGjzfTYndDh8AW7+tu6OhTbPAAAAAElFTkSu\n",
       "QmCC\n",
       "\" style=\"display:inline;vertical-align:middle;\" /></a><br>"
      ],
      "text/plain": [
       "<IPython.core.display.HTML object>"
      ]
     },
     "metadata": {},
     "output_type": "display_data"
    }
   ],
   "source": [
    "expr_03 = frac(Mult(Add(a, b, c), b), Mult(a, d))"
   ]
  },
  {
   "cell_type": "code",
   "execution_count": 17,
   "metadata": {},
   "outputs": [
    {
     "data": {
      "text/html": [
       "<span style=\"font-size:20px;\"><a class=\"ProveItLink\" href=\"../__pv_it/theorems/e9f87a0977d5044ea8daf1040d2f219396bb3d5b0/expr.ipynb\"><img src=\"data:image/png;base64,iVBORw0KGgoAAAANSUhEUgAAADMAAAAQBAMAAABJt1qBAAAAMFBMVEX////MzMwyMjKqqqoiIiJm\n",
       "ZmaYmJju7u5EREQQEBC6urqIiIh2dnZUVFTc3NwAAAAqL9KcAAAAAXRSTlMAQObYZgAAAAlwSFlz\n",
       "AAAOxAAADsQBlSsOGwAAANFJREFUGNNjYMACalqU9slgk2DgvpnAHt+KVSp6DQMDG1YpxoB2IHkV\n",
       "RWyHi4sCkOItaACSZcgyi7ZDaA6+AKgI3519G8C0OlTgLeMBKGvlA47vIJrpAVRAhisBwmCfxsDq\n",
       "AJaCGfyUawOEwfqBgQVsgKQLEDSA7YIayNnAUL8AxKiA6eIAuxAI6jcw5IMZLDApLrC/uIBSBgyX\n",
       "mEEu4N4AD421QCIIqH0DsysrWEQZHoZNcewmQL+x3z74diNYpLarABbynV/iUANvTQs4oGAAAKqD\n",
       "MEJAsWyMAAAAAElFTkSuQmCC\n",
       "\" style=\"display:inline;vertical-align:middle;\" /></a>, <a class=\"ProveItLink\" href=\"../__pv_it/theorems/d6724abdc9486f838f4cf63bc1115e85255ce4c00/expr.ipynb\"><img src=\"data:image/png;base64,iVBORw0KGgoAAAANSUhEUgAAADMAAAAQBAMAAABJt1qBAAAAMFBMVEX///+YmJhERESIiIhUVFTc\n",
       "3NwiIiJ2dnbu7u66urqqqqpmZmYQEBAyMjLMzMwAAAA7oY0NAAAAAXRSTlMAQObYZgAAAAlwSFlz\n",
       "AAAOxAAADsQBlSsOGwAAAOBJREFUGNNjYMAC2tXumj4Hs/jubECRYfYR4NivDWHzL0CR2jydgYER\n",
       "KjW/AVmGb4MGkPSGcMoglFFa2gUgxdKgACQbIWK3weRcCwiPiRVmNau73S8wfQMqEMJXAGXNCWD6\n",
       "AaJ5A6ACzzkFIAyOgwzcF8BSMGdEcxpAGNwfGNjABrxJAwIFsF1QA3kUGPongBhNMF1MYBcCQb8B\n",
       "gzyYwQaT4gT7ixMotYDBlwvkAmYDeGhMARJ7gdoNuLK5wSK34GGou5VjGdBvHM51IXZgkRZNWHi1\n",
       "63zbihoX09XAAQUDAHO5MBAUDGSbAAAAAElFTkSuQmCC\n",
       "\" style=\"display:inline;vertical-align:middle;\" /></a>, <a class=\"ProveItLink\" href=\"../__pv_it/theorems/a259ec76dfb0a5be60b7c83d797520fa82c1dba60/expr.ipynb\"><img src=\"data:image/png;base64,iVBORw0KGgoAAAANSUhEUgAAADEAAAAQBAMAAABNQoq8AAAAMFBMVEX///+YmJjMzMzc3NyIiIhU\n",
       "VFR2dna6urqqqqpmZmYyMjIiIiIQEBBERETu7u4AAAD7tRWPAAAAAXRSTlMAQObYZgAAAAlwSFlz\n",
       "AAAOxAAADsQBlSsOGwAAANtJREFUGNNjYMAEz26vclZjYOC7swFNgiVGgG/+TSCDawKazJQyBgZG\n",
       "kAx/A6oE04R7QDISiOsfQIV8d+9eAKRYH1wAkg+BOBsqUeUHoXmZYcYvdYkAUczroHxTpgQIg+/X\n",
       "g/cGIIcYQGXU2AUgDI5/DDwOIBmYCyzZHSAMzgUM/CDtOruB4ALYHqhp3AkM9SB3v4Xp4QW7DeKd\n",
       "+SB3c8Nk2MH+YQfKKPAdBIeJAzwMSoHELKDHBHgh7l8BD7dbk/m6gWJ8YRMhAk+vwwLj2Z3fk1EC\n",
       "rOw2OHRgAAASXDjITT81JQAAAABJRU5ErkJggg==\n",
       "\" style=\"display:inline;vertical-align:middle;\" /></a>, <a class=\"ProveItLink\" href=\"../../addition/subtraction/__pv_it/theorems/b66b5547fa9b0b910f79351152926c658c2718190/expr.ipynb\"><img src=\"data:image/png;base64,iVBORw0KGgoAAAANSUhEUgAAADEAAAAQBAMAAABNQoq8AAAAMFBMVEX///9UVFQyMjK6urru7u4Q\n",
       "EBBERERmZmaqqqoiIiLc3NzMzMyYmJiIiIh2dnYAAABC1PP/AAAAAXRSTlMAQObYZgAAAAlwSFlz\n",
       "AAAOxAAADsQBlSsOGwAAAMJJREFUGNNjYMAEfplKt/ZhEWfgFT3AUp+OTabWjoGBB5sMd0EKkBRH\n",
       "Fro2c6YCkGJ0SACSPkgSRlcgNBtXAUzo7Z0NQJJLBcpdyP0AylrZwA7SzrQAyt/HfADKmsfAegEk\n",
       "AzNiOfMFCIP9C4TeOhMIEsD2QE1jTYDQbjA9bA5QEX+oXk6YDDPYP8wMDPxA+wxAYXIBHgaGQKII\n",
       "aE8CAx/I1Qwa8HBLqmLpBPnp3RmIFx2THWBhnfqzCiXA7DLBoQMDAANFK7BF6/dnAAAAAElFTkSu\n",
       "QmCC\n",
       "\" style=\"display:inline;vertical-align:middle;\" /></a>, <a class=\"ProveItLink\" href=\"../__pv_it/demonstrations/4a82d58b126555a18b104ddba47c5351567eeaea0/expr.ipynb\"><img src=\"data:image/png;base64,iVBORw0KGgoAAAANSUhEUgAAADEAAAAUCAMAAAATIyWrAAAAPFBMVEX///8NDQ0WFhYLCwsYGBiY\n",
       "mJhERESIiIhUVFTc3NwiIiJ2dnbu7u66urqqqqpmZmYQEBAyMjLMzMwAAADYQ0HGAAAAAXRSTlMA\n",
       "QObYZgAAAAlwSFlzAAAOxAAADsQBlSsOGwAAAOJJREFUKM+VkusShCAIhd2Ll0RF8f3fdcWmDXNy\n",
       "Jn5UQsePoyi1Cgz3NSoZ56SRKwCLm0zUNCkMiUVp9eCFJNapA3JioX3nCCr4GSF7MF2exL5lshHd\n",
       "0HSv09775sDSbKNIRDgUmvfKrWROHPoe3w8/D85WYVfYps4sw7JEnIr2wsqfHq4uRl9hV0RmZNMT\n",
       "cYk4nKdmN7BK6SpGg/t/v3Y3//My/SZ0sxv6Ibmi0rBpud6nzuqwaxojeVRD32keMs9TknlugrNA\n",
       "m7O0RLT/EKyju0lOoB5GCQ8F+jHCP0UoWhV/QRoJ0UnVlJEAAAAASUVORK5CYII=\n",
       "\" style=\"display:inline;vertical-align:middle;\" /></a>, <a class=\"ProveItLink\" href=\"../../number_sets/integers/__pv_it/theorems/1759e791f6052d2463eefaaf9e2fa309cc3375160/expr.ipynb\"><img src=\"data:image/png;base64,iVBORw0KGgoAAAANSUhEUgAAADEAAAAUCAMAAAATIyWrAAAAPFBMVEX///8NDQ0WFhYLCwsYGBjM\n",
       "zMwyMjKqqqoiIiJmZmaYmJju7u5EREQQEBC6urqIiIh2dnZUVFTc3NwAAADJzR5XAAAAAXRSTlMA\n",
       "QObYZgAAAAlwSFlzAAAOxAAADsQBlSsOGwAAANlJREFUKM+VktkSwyAIRemiiEvc/v9fK2TSmKal\n",
       "Ex5iSLwcLwKgBQW4FibOWSmZ2h9FNFNiESA4XWLqlHgnnKgj5oJR5Ng1Z8uMgE6C7chLqyW3fFLY\n",
       "GRE2hedaafyKO46cxPPBz43TelkVo3JIXrapiF0xFur86sqnCzqkYVUszEhRPiwqYnOOw3lgFfg+\n",
       "jQaf/35b3bz7FeUm/LAbpF/VAh6K2s+++yTVLIsHAx3B4dxIp2Y7npLEcxNqLqbVbFTE2EclV/Pr\n",
       "urFcnPJvCD38ZYS7igCj/XwBODQIqq1WnDUAAAAASUVORK5CYII=\n",
       "\" style=\"display:inline;vertical-align:middle;\" /></a> <a class=\"ProveItLink\" href=\"../__pv_it/demonstrations/469f554a2bb604e6c099e4e82f2fae52806971fd0/proof.ipynb\" style=\"text-decoration: none\">&nbsp;&#x22A2;&nbsp;&nbsp;</a><a class=\"ProveItLink\" href=\"../__pv_it/demonstrations/a5ac028f6838b0bf098f3706ff4e9510c5966b250/expr.ipynb\"><img src=\"data:image/png;base64,iVBORw0KGgoAAAANSUhEUgAAASQAAAAyBAMAAAAHL7vtAAAAMFBMVEX///8AAAAAAAAAAAAAAAAA\n",
       "AAAAAAAAAAAAAAAAAAAAAAAAAAAAAAAAAAAAAAAAAAAv3aB7AAAAD3RSTlMAInZUiRDNmWbv3US7\n",
       "qzJazP2FAAAACXBIWXMAAA7EAAAOxAGVKw4bAAAD8ElEQVRYw81ZTWgTQRR+TZqfbts0eLYYxYMH\n",
       "rRFEsJeWXhShba5CJQEp6i0HKShCgwdBENNK/aFaCFQojZdePUUFEQSxFJHqpfXSQy9Ju11bqH8z\n",
       "u8lm32Zm9yW7Bd9hs/t+vnkz82bevAkAQByI1EZR6lqHVin0vvoSSFJNOhMEpVVonTZTxu9ZkXBs\n",
       "VsQ94aYA0D3oIHSzDhaM0coIpddEzHDKRQHgnpPQ1XpYf0ZyaG5qX6qdwSmarb+r4nCbdhC6wQMo\n",
       "+mcHHrpquHRqNoZBj+vgmrBNJeEgdIWHoN7AOaFNe0Foc918MxUw3XcSusJXJ/QmH+4vRxNYJbxy\n",
       "Kolt2o89rM01UsA0IxKS4QFK8WrHX8e7NGyTHg9tIUbbPNypBS9SQBTQREIyPPN1mT3m2aJ7BpEC\n",
       "thlIwSPEUAY547zZjKmAQ2lZIKTDs2/u+3O26CqcxX6LxcXZYpHDTgDsIMakvv7LvIWfYCrYqWxs\n",
       "3VhIh2fg24ZLHW8gvYS78RI6VcR4YUwBfywgBUTfbNY60eEZfTQmLp2AvG0FqBDRrAzde4B+y7YU\n",
       "Eaz0OZGQDs8oz+L7HbNJwtdgHNn8gcs5xNhjmwnAA7MdU8FKsT2RkA7PlXP6uu5KBBciuBur8AEz\n",
       "2HoYMXYMmwJacFsiIR2ezzKLrE02bCsjvX1Y5cqFnG1zu3iXReArsx1TAR1MpkRCOjyHYGtTWRdt\n",
       "r2JGW8E5mbJAdiZneN23Ck6lDWnQxojknFtMZ91OXDk3RnSfPd7Sj1iHXeTlBHilGF97Y3R9N+8H\n",
       "kp5dCu3yACF3LeB2Ss+ve3YJfoOvdDruHeOXZwSWpzgZ6XY05d2lJ/6O0qQPLhXhrwdqgFszfnRh\n",
       "xTw0NAe36O8ordkZC81jLPobS/5MnK80Gv/vwvu0D/vSnL8u+bFV7tLUNp7S9AaWzFR1I9uaR6Ed\n",
       "oqJKUyvX83pPi+kutk28xdFoej31oSm1uPiCxN63F2h6Sv0W5lKLoRTYoumFiYHRPeV2W+MOUZFd\n",
       "AZpVPKPeoTIxMKJazbzPefx7hw41e1auV/EskKbhMzEwYmqjuTA25ZBHJKc3SxUPvOKaaG6f4+YZ\n",
       "JzUGeVu2tUkSQK2KT3PgSV4vE+kWMpcfYuSQ3+UTqlfxSlYv10P7VJdKS7ZLADE5QMq2JUsVz8v1\n",
       "aIXqkt4HZC6MCzlkVBaDlioeQip0Z85AM0vOai50SQ5ZvaASFNL1Kp7fY/RnyQlrpsFcRHLIkqwn\n",
       "liqe1e/Hf6yQM3w+ZTcXkRzyE/hO4UFP5tRk2lQin/ZkriT9dwlOerIePgCPjL91Wp63zEG4BFc9\n",
       "2G6kDsQlL38RjvPnP8IVoNh57aFoAAAAAElFTkSuQmCC\n",
       "\" style=\"display:inline;vertical-align:middle;\" /></a></span>"
      ],
      "text/plain": [
       "{a in Complex, d in Complex, b in Complex, c in Complex, d != 0, a != 0} |- (((a + b + c) * b) / (a * d)) = ((b / d) * ((a + b + c) / a))"
      ]
     },
     "metadata": {},
     "output_type": "display_data"
    }
   ],
   "source": [
    "expr_03.factorization(frac(b, d), assumptions=assumptions)"
   ]
  },
  {
   "cell_type": "code",
   "execution_count": 18,
   "metadata": {},
   "outputs": [
    {
     "data": {
      "text/html": [
       "<span style=\"font-size:20px;\"><a class=\"ProveItLink\" href=\"../__pv_it/theorems/e9f87a0977d5044ea8daf1040d2f219396bb3d5b0/expr.ipynb\"><img src=\"data:image/png;base64,iVBORw0KGgoAAAANSUhEUgAAADMAAAAQBAMAAABJt1qBAAAAMFBMVEX////MzMwyMjKqqqoiIiJm\n",
       "ZmaYmJju7u5EREQQEBC6urqIiIh2dnZUVFTc3NwAAAAqL9KcAAAAAXRSTlMAQObYZgAAAAlwSFlz\n",
       "AAAOxAAADsQBlSsOGwAAANFJREFUGNNjYMACalqU9slgk2DgvpnAHt+KVSp6DQMDG1YpxoB2IHkV\n",
       "RWyHi4sCkOItaACSZcgyi7ZDaA6+AKgI3519G8C0OlTgLeMBKGvlA47vIJrpAVRAhisBwmCfxsDq\n",
       "AJaCGfyUawOEwfqBgQVsgKQLEDSA7YIayNnAUL8AxKiA6eIAuxAI6jcw5IMZLDApLrC/uIBSBgyX\n",
       "mEEu4N4AD421QCIIqH0DsysrWEQZHoZNcewmQL+x3z74diNYpLarABbynV/iUANvTQs4oGAAAKqD\n",
       "MEJAsWyMAAAAAElFTkSuQmCC\n",
       "\" style=\"display:inline;vertical-align:middle;\" /></a>, <a class=\"ProveItLink\" href=\"../__pv_it/theorems/a259ec76dfb0a5be60b7c83d797520fa82c1dba60/expr.ipynb\"><img src=\"data:image/png;base64,iVBORw0KGgoAAAANSUhEUgAAADEAAAAQBAMAAABNQoq8AAAAMFBMVEX///+YmJjMzMzc3NyIiIhU\n",
       "VFR2dna6urqqqqpmZmYyMjIiIiIQEBBERETu7u4AAAD7tRWPAAAAAXRSTlMAQObYZgAAAAlwSFlz\n",
       "AAAOxAAADsQBlSsOGwAAANtJREFUGNNjYMAEz26vclZjYOC7swFNgiVGgG/+TSCDawKazJQyBgZG\n",
       "kAx/A6oE04R7QDISiOsfQIV8d+9eAKRYH1wAkg+BOBsqUeUHoXmZYcYvdYkAUczroHxTpgQIg+/X\n",
       "g/cGIIcYQGXU2AUgDI5/DDwOIBmYCyzZHSAMzgUM/CDtOruB4ALYHqhp3AkM9SB3v4Xp4QW7DeKd\n",
       "+SB3c8Nk2MH+YQfKKPAdBIeJAzwMSoHELKDHBHgh7l8BD7dbk/m6gWJ8YRMhAk+vwwLj2Z3fk1EC\n",
       "rOw2OHRgAAASXDjITT81JQAAAABJRU5ErkJggg==\n",
       "\" style=\"display:inline;vertical-align:middle;\" /></a>, <a class=\"ProveItLink\" href=\"../../addition/subtraction/__pv_it/theorems/b66b5547fa9b0b910f79351152926c658c2718190/expr.ipynb\"><img src=\"data:image/png;base64,iVBORw0KGgoAAAANSUhEUgAAADEAAAAQBAMAAABNQoq8AAAAMFBMVEX///9UVFQyMjK6urru7u4Q\n",
       "EBBERERmZmaqqqoiIiLc3NzMzMyYmJiIiIh2dnYAAABC1PP/AAAAAXRSTlMAQObYZgAAAAlwSFlz\n",
       "AAAOxAAADsQBlSsOGwAAAMJJREFUGNNjYMAEfplKt/ZhEWfgFT3AUp+OTabWjoGBB5sMd0EKkBRH\n",
       "Fro2c6YCkGJ0SACSPkgSRlcgNBtXAUzo7Z0NQJJLBcpdyP0AylrZwA7SzrQAyt/HfADKmsfAegEk\n",
       "AzNiOfMFCIP9C4TeOhMIEsD2QE1jTYDQbjA9bA5QEX+oXk6YDDPYP8wMDPxA+wxAYXIBHgaGQKII\n",
       "aE8CAx/I1Qwa8HBLqmLpBPnp3RmIFx2THWBhnfqzCiXA7DLBoQMDAANFK7BF6/dnAAAAAElFTkSu\n",
       "QmCC\n",
       "\" style=\"display:inline;vertical-align:middle;\" /></a>, <a class=\"ProveItLink\" href=\"../../number_sets/integers/__pv_it/theorems/1759e791f6052d2463eefaaf9e2fa309cc3375160/expr.ipynb\"><img src=\"data:image/png;base64,iVBORw0KGgoAAAANSUhEUgAAADEAAAAUCAMAAAATIyWrAAAAPFBMVEX///8NDQ0WFhYLCwsYGBjM\n",
       "zMwyMjKqqqoiIiJmZmaYmJju7u5EREQQEBC6urqIiIh2dnZUVFTc3NwAAADJzR5XAAAAAXRSTlMA\n",
       "QObYZgAAAAlwSFlzAAAOxAAADsQBlSsOGwAAANlJREFUKM+VktkSwyAIRemiiEvc/v9fK2TSmKal\n",
       "Ex5iSLwcLwKgBQW4FibOWSmZ2h9FNFNiESA4XWLqlHgnnKgj5oJR5Ng1Z8uMgE6C7chLqyW3fFLY\n",
       "GRE2hedaafyKO46cxPPBz43TelkVo3JIXrapiF0xFur86sqnCzqkYVUszEhRPiwqYnOOw3lgFfg+\n",
       "jQaf/35b3bz7FeUm/LAbpF/VAh6K2s+++yTVLIsHAx3B4dxIp2Y7npLEcxNqLqbVbFTE2EclV/Pr\n",
       "urFcnPJvCD38ZYS7igCj/XwBODQIqq1WnDUAAAAASUVORK5CYII=\n",
       "\" style=\"display:inline;vertical-align:middle;\" /></a>, <a class=\"ProveItLink\" href=\"../__pv_it/theorems/d6724abdc9486f838f4cf63bc1115e85255ce4c00/expr.ipynb\"><img src=\"data:image/png;base64,iVBORw0KGgoAAAANSUhEUgAAADMAAAAQBAMAAABJt1qBAAAAMFBMVEX///+YmJhERESIiIhUVFTc\n",
       "3NwiIiJ2dnbu7u66urqqqqpmZmYQEBAyMjLMzMwAAAA7oY0NAAAAAXRSTlMAQObYZgAAAAlwSFlz\n",
       "AAAOxAAADsQBlSsOGwAAAOBJREFUGNNjYMAC2tXumj4Hs/jubECRYfYR4NivDWHzL0CR2jydgYER\n",
       "KjW/AVmGb4MGkPSGcMoglFFa2gUgxdKgACQbIWK3weRcCwiPiRVmNau73S8wfQMqEMJXAGXNCWD6\n",
       "AaJ5A6ACzzkFIAyOgwzcF8BSMGdEcxpAGNwfGNjABrxJAwIFsF1QA3kUGPongBhNMF1MYBcCQb8B\n",
       "gzyYwQaT4gT7ixMotYDBlwvkAmYDeGhMARJ7gdoNuLK5wSK34GGou5VjGdBvHM51IXZgkRZNWHi1\n",
       "63zbihoX09XAAQUDAHO5MBAUDGSbAAAAAElFTkSuQmCC\n",
       "\" style=\"display:inline;vertical-align:middle;\" /></a>, <a class=\"ProveItLink\" href=\"../__pv_it/demonstrations/4a82d58b126555a18b104ddba47c5351567eeaea0/expr.ipynb\"><img src=\"data:image/png;base64,iVBORw0KGgoAAAANSUhEUgAAADEAAAAUCAMAAAATIyWrAAAAPFBMVEX///8NDQ0WFhYLCwsYGBiY\n",
       "mJhERESIiIhUVFTc3NwiIiJ2dnbu7u66urqqqqpmZmYQEBAyMjLMzMwAAADYQ0HGAAAAAXRSTlMA\n",
       "QObYZgAAAAlwSFlzAAAOxAAADsQBlSsOGwAAAOJJREFUKM+VkusShCAIhd2Ll0RF8f3fdcWmDXNy\n",
       "Jn5UQsePoyi1Cgz3NSoZ56SRKwCLm0zUNCkMiUVp9eCFJNapA3JioX3nCCr4GSF7MF2exL5lshHd\n",
       "0HSv09775sDSbKNIRDgUmvfKrWROHPoe3w8/D85WYVfYps4sw7JEnIr2wsqfHq4uRl9hV0RmZNMT\n",
       "cYk4nKdmN7BK6SpGg/t/v3Y3//My/SZ0sxv6Ibmi0rBpud6nzuqwaxojeVRD32keMs9TknlugrNA\n",
       "m7O0RLT/EKyju0lOoB5GCQ8F+jHCP0UoWhV/QRoJ0UnVlJEAAAAASUVORK5CYII=\n",
       "\" style=\"display:inline;vertical-align:middle;\" /></a> <a class=\"ProveItLink\" href=\"../__pv_it/demonstrations/15f2a73cb511e4c574ab5a730cd7aef2168d510d0/proof.ipynb\" style=\"text-decoration: none\">&nbsp;&#x22A2;&nbsp;&nbsp;</a><a class=\"ProveItLink\" href=\"../__pv_it/demonstrations/748f48a97819b9ae4ab512041c809365b372f6980/expr.ipynb\"><img src=\"data:image/png;base64,iVBORw0KGgoAAAANSUhEUgAAASQAAAAyBAMAAAAHL7vtAAAAMFBMVEX///8AAAAAAAAAAAAAAAAA\n",
       "AAAAAAAAAAAAAAAAAAAAAAAAAAAAAAAAAAAAAAAAAAAv3aB7AAAAD3RSTlMAInZUiRDNmWbv3US7\n",
       "qzJazP2FAAAACXBIWXMAAA7EAAAOxAGVKw4bAAAEbklEQVRYw81ZTWgTQRR+bf6aNGlyFotRFDz4\n",
       "E4sIemkpgiKoexWUBET0IuQgoiI0eBAFMVbqX1UoKJSuCD3qKVUQURCliqiX1ksPXlKNUcHfmZ3Z\n",
       "2Xnb2ew0uwXfYTd97833vpl582ZmCwCQA03p0HFKz0K7EnvCf3QWdJt05zWc3kH78slg780q4/5R\n",
       "lXatnwNAZkDZ/2djrceH2SPMK1ZSOh1WKeOGjwPAWbU6Xm49Pty+23omKmhu7L8abgWVLgm4oU63\n",
       "Yfz3A/7OFlR4jnB7yrImkSnC06W76VIwueJwbyqhU6506+PvmqHEE8LtESvAFiWl6JgS4oj4FVUn\n",
       "x3lQU9oFrSntktPhGB3uNyvzuEV8en0BQ0RXXbTnGjlgGWHTJ/BsSkdXvXZRGlwrVwvbXsvxjj/M\n",
       "pZu4RfFQ7DNSdNyB03LyCgcknQzGweOUYt+MYg7hLSskpqQVZ9vjr8jjDlFch8QYptRvwGWkSA1Q\n",
       "xVYBIhxwKr2yAjh4nFKkCck8wrtrK7A9Qrtykyy6eRqRvE1zYtQ0KexxgK9IMWTlX93qEQgHt9St\n",
       "ybDxTpnmDdO8TzUlyA7IeAm8OridgH9hlJJTUJwEVye6G0hxi80IfYwjByTvraeE1yfGuIZyMzmF\n",
       "R1fYn7OJK+ah6loQDbsfXGGxB9gmlaWEogzcZnnm4PWJsjNkyHjFvLsscXuVpNRjYi/A2wjOvj+w\n",
       "r4IUP0gpArggQISDLD0/WDwHz6Y0S/JLxsuSxpMSJWEvVqx1nc5HxhN4lN7BU6wgy20PqxguB7Tg\n",
       "2CKU8DilTCVdRnhkuUWlIuDYkyTRPpFZmd7TuwEzOLCj4qqdO8+Qkb0nQIQDOphcYrPs4NlF4M0J\n",
       "V2ZsP7dG3naFPU2WampWVb3Vio7W+7k7aaVSCT7V29kV5vFWqtgVkSJRaY1XXLDfP4BWeArp+kke\n",
       "j/SPWMt97PU8BJUeurT36/v7se8vBKYU+04TRLtrnX6n9OpsYErwG0KVjbngGL8CI5Bti4q13cJe\n",
       "Izilq+GO0lAIlEz4G0AWwM2w1yLas2NFVoKbCHeUZhbfZNytmAg3l8KZuFBlb+6/S++NIdSl2+FS\n",
       "CqNUftdzm7um59c/2T4VHiP2VdO/oedWrwQYnoaz7ep8xWnq+WXL7TPiMSKavY+O6fmlSu1T4jE6\n",
       "P+u5xzV7n7nUPiUeIzPv9QlQXOqJ9A7WNc9BXU0dPJWIGAvPylycSz2Z5GF4qVmVexoaeMpEEjFW\n",
       "eFCXLvVA72vHA9Y5hKcSJ0bVYwOwL/VFmq5D9LatKSdb43mfakSMD96XH+tSnypbXwNiP3Up1SZb\n",
       "4nmKE8OrLEmXevo1oGtel1Kq7IunnFgRw3OBSJd6iDUgU9oEgZacjKekJGKwD1QKkS719DvGtrJ2\n",
       "VR7xx1OJiFHzIi5d6sntf/XHae0dvmr44qlExHgBoUt8IFBz3c10Uffn4UDNU4XwKcG6QK13LwEj\n",
       "j3/r6M5baSkowcEAbeeMJaEU5F+Eh+jzH+wDnfnuyyM4AAAAAElFTkSuQmCC\n",
       "\" style=\"display:inline;vertical-align:middle;\" /></a></span>"
      ],
      "text/plain": [
       "{a in Complex, b in Complex, c in Complex, a != 0, d in Complex, d != 0} |- (((a + b + c) * b) / (a * d)) = (((a + b + c) / a) * (b / d))"
      ]
     },
     "metadata": {},
     "output_type": "display_data"
    }
   ],
   "source": [
    "expr_03.factorization(frac(b, d), pull='right', assumptions=assumptions)"
   ]
  },
  {
   "cell_type": "code",
   "execution_count": 19,
   "metadata": {},
   "outputs": [
    {
     "data": {
      "text/html": [
       "<span style=\"font-size:20px;\"><a class=\"ProveItLink\" href=\"../__pv_it/theorems/e9f87a0977d5044ea8daf1040d2f219396bb3d5b0/expr.ipynb\"><img src=\"data:image/png;base64,iVBORw0KGgoAAAANSUhEUgAAADMAAAAQBAMAAABJt1qBAAAAMFBMVEX////MzMwyMjKqqqoiIiJm\n",
       "ZmaYmJju7u5EREQQEBC6urqIiIh2dnZUVFTc3NwAAAAqL9KcAAAAAXRSTlMAQObYZgAAAAlwSFlz\n",
       "AAAOxAAADsQBlSsOGwAAANFJREFUGNNjYMACalqU9slgk2DgvpnAHt+KVSp6DQMDG1YpxoB2IHkV\n",
       "RWyHi4sCkOItaACSZcgyi7ZDaA6+AKgI3519G8C0OlTgLeMBKGvlA47vIJrpAVRAhisBwmCfxsDq\n",
       "AJaCGfyUawOEwfqBgQVsgKQLEDSA7YIayNnAUL8AxKiA6eIAuxAI6jcw5IMZLDApLrC/uIBSBgyX\n",
       "mEEu4N4AD421QCIIqH0DsysrWEQZHoZNcewmQL+x3z74diNYpLarABbynV/iUANvTQs4oGAAAKqD\n",
       "MEJAsWyMAAAAAElFTkSuQmCC\n",
       "\" style=\"display:inline;vertical-align:middle;\" /></a>, <a class=\"ProveItLink\" href=\"../__pv_it/theorems/d6724abdc9486f838f4cf63bc1115e85255ce4c00/expr.ipynb\"><img src=\"data:image/png;base64,iVBORw0KGgoAAAANSUhEUgAAADMAAAAQBAMAAABJt1qBAAAAMFBMVEX///+YmJhERESIiIhUVFTc\n",
       "3NwiIiJ2dnbu7u66urqqqqpmZmYQEBAyMjLMzMwAAAA7oY0NAAAAAXRSTlMAQObYZgAAAAlwSFlz\n",
       "AAAOxAAADsQBlSsOGwAAAOBJREFUGNNjYMAC2tXumj4Hs/jubECRYfYR4NivDWHzL0CR2jydgYER\n",
       "KjW/AVmGb4MGkPSGcMoglFFa2gUgxdKgACQbIWK3weRcCwiPiRVmNau73S8wfQMqEMJXAGXNCWD6\n",
       "AaJ5A6ACzzkFIAyOgwzcF8BSMGdEcxpAGNwfGNjABrxJAwIFsF1QA3kUGPongBhNMF1MYBcCQb8B\n",
       "gzyYwQaT4gT7ixMotYDBlwvkAmYDeGhMARJ7gdoNuLK5wSK34GGou5VjGdBvHM51IXZgkRZNWHi1\n",
       "63zbihoX09XAAQUDAHO5MBAUDGSbAAAAAElFTkSuQmCC\n",
       "\" style=\"display:inline;vertical-align:middle;\" /></a>, <a class=\"ProveItLink\" href=\"../__pv_it/theorems/a259ec76dfb0a5be60b7c83d797520fa82c1dba60/expr.ipynb\"><img src=\"data:image/png;base64,iVBORw0KGgoAAAANSUhEUgAAADEAAAAQBAMAAABNQoq8AAAAMFBMVEX///+YmJjMzMzc3NyIiIhU\n",
       "VFR2dna6urqqqqpmZmYyMjIiIiIQEBBERETu7u4AAAD7tRWPAAAAAXRSTlMAQObYZgAAAAlwSFlz\n",
       "AAAOxAAADsQBlSsOGwAAANtJREFUGNNjYMAEz26vclZjYOC7swFNgiVGgG/+TSCDawKazJQyBgZG\n",
       "kAx/A6oE04R7QDISiOsfQIV8d+9eAKRYH1wAkg+BOBsqUeUHoXmZYcYvdYkAUczroHxTpgQIg+/X\n",
       "g/cGIIcYQGXU2AUgDI5/DDwOIBmYCyzZHSAMzgUM/CDtOruB4ALYHqhp3AkM9SB3v4Xp4QW7DeKd\n",
       "+SB3c8Nk2MH+YQfKKPAdBIeJAzwMSoHELKDHBHgh7l8BD7dbk/m6gWJ8YRMhAk+vwwLj2Z3fk1EC\n",
       "rOw2OHRgAAASXDjITT81JQAAAABJRU5ErkJggg==\n",
       "\" style=\"display:inline;vertical-align:middle;\" /></a>, <a class=\"ProveItLink\" href=\"../../addition/subtraction/__pv_it/theorems/b66b5547fa9b0b910f79351152926c658c2718190/expr.ipynb\"><img src=\"data:image/png;base64,iVBORw0KGgoAAAANSUhEUgAAADEAAAAQBAMAAABNQoq8AAAAMFBMVEX///9UVFQyMjK6urru7u4Q\n",
       "EBBERERmZmaqqqoiIiLc3NzMzMyYmJiIiIh2dnYAAABC1PP/AAAAAXRSTlMAQObYZgAAAAlwSFlz\n",
       "AAAOxAAADsQBlSsOGwAAAMJJREFUGNNjYMAEfplKt/ZhEWfgFT3AUp+OTabWjoGBB5sMd0EKkBRH\n",
       "Fro2c6YCkGJ0SACSPkgSRlcgNBtXAUzo7Z0NQJJLBcpdyP0AylrZwA7SzrQAyt/HfADKmsfAegEk\n",
       "AzNiOfMFCIP9C4TeOhMIEsD2QE1jTYDQbjA9bA5QEX+oXk6YDDPYP8wMDPxA+wxAYXIBHgaGQKII\n",
       "aE8CAx/I1Qwa8HBLqmLpBPnp3RmIFx2THWBhnfqzCiXA7DLBoQMDAANFK7BF6/dnAAAAAElFTkSu\n",
       "QmCC\n",
       "\" style=\"display:inline;vertical-align:middle;\" /></a>, <a class=\"ProveItLink\" href=\"../__pv_it/demonstrations/4a82d58b126555a18b104ddba47c5351567eeaea0/expr.ipynb\"><img src=\"data:image/png;base64,iVBORw0KGgoAAAANSUhEUgAAADEAAAAUCAMAAAATIyWrAAAAPFBMVEX///8NDQ0WFhYLCwsYGBiY\n",
       "mJhERESIiIhUVFTc3NwiIiJ2dnbu7u66urqqqqpmZmYQEBAyMjLMzMwAAADYQ0HGAAAAAXRSTlMA\n",
       "QObYZgAAAAlwSFlzAAAOxAAADsQBlSsOGwAAAOJJREFUKM+VkusShCAIhd2Ll0RF8f3fdcWmDXNy\n",
       "Jn5UQsePoyi1Cgz3NSoZ56SRKwCLm0zUNCkMiUVp9eCFJNapA3JioX3nCCr4GSF7MF2exL5lshHd\n",
       "0HSv09775sDSbKNIRDgUmvfKrWROHPoe3w8/D85WYVfYps4sw7JEnIr2wsqfHq4uRl9hV0RmZNMT\n",
       "cYk4nKdmN7BK6SpGg/t/v3Y3//My/SZ0sxv6Ibmi0rBpud6nzuqwaxojeVRD32keMs9TknlugrNA\n",
       "m7O0RLT/EKyju0lOoB5GCQ8F+jHCP0UoWhV/QRoJ0UnVlJEAAAAASUVORK5CYII=\n",
       "\" style=\"display:inline;vertical-align:middle;\" /></a>, <a class=\"ProveItLink\" href=\"../../number_sets/integers/__pv_it/theorems/1759e791f6052d2463eefaaf9e2fa309cc3375160/expr.ipynb\"><img src=\"data:image/png;base64,iVBORw0KGgoAAAANSUhEUgAAADEAAAAUCAMAAAATIyWrAAAAPFBMVEX///8NDQ0WFhYLCwsYGBjM\n",
       "zMwyMjKqqqoiIiJmZmaYmJju7u5EREQQEBC6urqIiIh2dnZUVFTc3NwAAADJzR5XAAAAAXRSTlMA\n",
       "QObYZgAAAAlwSFlzAAAOxAAADsQBlSsOGwAAANlJREFUKM+VktkSwyAIRemiiEvc/v9fK2TSmKal\n",
       "Ex5iSLwcLwKgBQW4FibOWSmZ2h9FNFNiESA4XWLqlHgnnKgj5oJR5Ng1Z8uMgE6C7chLqyW3fFLY\n",
       "GRE2hedaafyKO46cxPPBz43TelkVo3JIXrapiF0xFur86sqnCzqkYVUszEhRPiwqYnOOw3lgFfg+\n",
       "jQaf/35b3bz7FeUm/LAbpF/VAh6K2s+++yTVLIsHAx3B4dxIp2Y7npLEcxNqLqbVbFTE2EclV/Pr\n",
       "urFcnPJvCD38ZYS7igCj/XwBODQIqq1WnDUAAAAASUVORK5CYII=\n",
       "\" style=\"display:inline;vertical-align:middle;\" /></a> <a class=\"ProveItLink\" href=\"../__pv_it/demonstrations/8b37a39d69dca6472911cade617a6e5d3a49afc70/proof.ipynb\" style=\"text-decoration: none\">&nbsp;&#x22A2;&nbsp;&nbsp;</a><a class=\"ProveItLink\" href=\"../__pv_it/demonstrations/5235aa85581a499d7705f01ee32aa2467c5154ec0/expr.ipynb\"><img src=\"data:image/png;base64,iVBORw0KGgoAAAANSUhEUgAAAUwAAAAyBAMAAADFH/9pAAAAMFBMVEX///8AAAAAAAAAAAAAAAAA\n",
       "AAAAAAAAAAAAAAAAAAAAAAAAAAAAAAAAAAAAAAAAAAAv3aB7AAAAD3RSTlMAInZUiRDNmWbv3US7\n",
       "qzJazP2FAAAACXBIWXMAAA7EAAAOxAGVKw4bAAAEYUlEQVRo3tVYTWgTQRR+bbpNmiZN8KwYxYMH\n",
       "tRFE0EuLF6VQm6tQSUBEPYg5SFERGjwIgphW6g/+YEGhNF567SkqiCiIUsU/EOPFg5ekrbFC/ZuZ\n",
       "TXZ3sm87r+7swXeYTWZnvu/bnTdv3j4AgCQQrY0yKFZBOv+dwnjc+NGepmJ0pwiD3iF9fii+Zszr\n",
       "DmS08XQSA9ls/xy+gfPE+53Y4E3hgeCiCJlKjBw2ujOP9jrYj+Ayz3PItyckmTgFjuCmGBRtuCC9\n",
       "9Ma/RLqlQ1jEIX4R961xcemVZOIUFoKCIipud0k0oYZvlDMtHaZdscnqqMxoCpGJU1gICoqQ6NmJ\n",
       "YgwAinHU+tWBOi9cAEQmTmEhqCjE2p/kS/V6Q0qecnzjqxaMjo2Xmn4ifGhuK7Z9JzCZOIWFoKIo\n",
       "JxvqZ5OxuoRhfM9kkxJG2104a24Q07KHjXkk8tQxmSiFjaCi6HzJmrtM1HUIT0oYoTp0pSSMaD9c\n",
       "BthlYfRl+H+Xa77EZKIUNoKKIsSf7ybbiTU+hF1LpekbpRKjCucg0e/sgFFBXBVvmv8aAfjmllmt\n",
       "YDJRigYCSgHZnIPCWDAxuh5AdkZ6VAZZlh3nlmhneTPFm3vQjYSk9+Ah001hIyAU0bxzwDNzRbIp\n",
       "KMq7joVN89ksZ10Ql92OmBZGQtJt8Fh0N4WNoKQosm3yiGGk4U1I2jGJCnMmCfQHi2MAFy2M33Cg\n",
       "4FLZ8wOViVLYCEqKbEEEgFgqNBWWVMULsbwsk+3B/WZoaWYYT5CN3tz8Q1JKhFLYCEqKLua5X9nr\n",
       "ntu/bpsckF6fag3G+86xN3Tfwji4t4AkcWPm9eOd4867KIWNoKSIsRgRrWBHBN7RNrlyGsY2CnqC\n",
       "+qToqMlnfUsa4OoIF1aWmUXzKt8UkWXWPASyrVXcr3rkzT4pengMGKZjqOj6PLJ0nxTGEveGFBWi\n",
       "XfVJU6x4fOH4pPgFWq03CYHYT98I7EzmZqYcQ5lgZF7VCzcakMwS/PFhLrhP5kXcrFnJlH+Kab1P\n",
       "/am1Y0oP7rRe3wxu0bXaUPK/2EK9lWBk3tYLVwxI5hJt2JdrtHF9M9YxfCyvT6XxjThwkTasaqc3\n",
       "ibQ+mT0LxHJenTYuYb/CssZNHyK+pY5J2rioXXob0Oia7fO0cZ1ER4uPqeqK/2TxmscNu+LDbN2e\n",
       "KtHRIvXm9G3EdWLga5RjPL5dnBUf5pjj8ILoaD2L7ukKr6eAr/dIVx0VH+AfyyOri8N8eo42gYGf\n",
       "UYdjj8OtWfERpZxRXiYh2mlpOiX1o4B/8HYGUfERpZxbYCxTZZZnnNMJRgL3CpuOig8v7URqVJni\n",
       "uaTpivOFAh7x8nNHxQeMRYjntsNqtrpzukImBbxZNHUXWeyKDy9U7c6TD+gJ1/SVjQJe9npiR8UH\n",
       "4OCmz3PkzKeYaZ2+slHAn+tPuTr7tUNSE4pVJTPj2iGjaf0yYYt2xMEgEu247lXvzgUhEw5pxvsS\n",
       "zNdqTO/3kHGYt38BfZjP9PeidiwAAAAASUVORK5CYII=\n",
       "\" style=\"display:inline;vertical-align:middle;\" /></a></span>"
      ],
      "text/plain": [
       "{a in Complex, d in Complex, b in Complex, c in Complex, d != 0, a != 0} |- (((a + b + c) * b) / (a * d)) = ((1 / d) * (((a + b + c) * b) / a))"
      ]
     },
     "metadata": {},
     "output_type": "display_data"
    }
   ],
   "source": [
    "expr_03.factorization(frac(one, d), assumptions=assumptions)"
   ]
  },
  {
   "cell_type": "code",
   "execution_count": 20,
   "metadata": {},
   "outputs": [
    {
     "data": {
      "text/html": [
       "<span style=\"font-size:20px;\"><a class=\"ProveItLink\" href=\"../__pv_it/theorems/e9f87a0977d5044ea8daf1040d2f219396bb3d5b0/expr.ipynb\"><img src=\"data:image/png;base64,iVBORw0KGgoAAAANSUhEUgAAADMAAAAQBAMAAABJt1qBAAAAMFBMVEX////MzMwyMjKqqqoiIiJm\n",
       "ZmaYmJju7u5EREQQEBC6urqIiIh2dnZUVFTc3NwAAAAqL9KcAAAAAXRSTlMAQObYZgAAAAlwSFlz\n",
       "AAAOxAAADsQBlSsOGwAAANFJREFUGNNjYMACalqU9slgk2DgvpnAHt+KVSp6DQMDG1YpxoB2IHkV\n",
       "RWyHi4sCkOItaACSZcgyi7ZDaA6+AKgI3519G8C0OlTgLeMBKGvlA47vIJrpAVRAhisBwmCfxsDq\n",
       "AJaCGfyUawOEwfqBgQVsgKQLEDSA7YIayNnAUL8AxKiA6eIAuxAI6jcw5IMZLDApLrC/uIBSBgyX\n",
       "mEEu4N4AD421QCIIqH0DsysrWEQZHoZNcewmQL+x3z74diNYpLarABbynV/iUANvTQs4oGAAAKqD\n",
       "MEJAsWyMAAAAAElFTkSuQmCC\n",
       "\" style=\"display:inline;vertical-align:middle;\" /></a>, <a class=\"ProveItLink\" href=\"../__pv_it/theorems/a259ec76dfb0a5be60b7c83d797520fa82c1dba60/expr.ipynb\"><img src=\"data:image/png;base64,iVBORw0KGgoAAAANSUhEUgAAADEAAAAQBAMAAABNQoq8AAAAMFBMVEX///+YmJjMzMzc3NyIiIhU\n",
       "VFR2dna6urqqqqpmZmYyMjIiIiIQEBBERETu7u4AAAD7tRWPAAAAAXRSTlMAQObYZgAAAAlwSFlz\n",
       "AAAOxAAADsQBlSsOGwAAANtJREFUGNNjYMAEz26vclZjYOC7swFNgiVGgG/+TSCDawKazJQyBgZG\n",
       "kAx/A6oE04R7QDISiOsfQIV8d+9eAKRYH1wAkg+BOBsqUeUHoXmZYcYvdYkAUczroHxTpgQIg+/X\n",
       "g/cGIIcYQGXU2AUgDI5/DDwOIBmYCyzZHSAMzgUM/CDtOruB4ALYHqhp3AkM9SB3v4Xp4QW7DeKd\n",
       "+SB3c8Nk2MH+YQfKKPAdBIeJAzwMSoHELKDHBHgh7l8BD7dbk/m6gWJ8YRMhAk+vwwLj2Z3fk1EC\n",
       "rOw2OHRgAAASXDjITT81JQAAAABJRU5ErkJggg==\n",
       "\" style=\"display:inline;vertical-align:middle;\" /></a>, <a class=\"ProveItLink\" href=\"../../addition/subtraction/__pv_it/theorems/b66b5547fa9b0b910f79351152926c658c2718190/expr.ipynb\"><img src=\"data:image/png;base64,iVBORw0KGgoAAAANSUhEUgAAADEAAAAQBAMAAABNQoq8AAAAMFBMVEX///9UVFQyMjK6urru7u4Q\n",
       "EBBERERmZmaqqqoiIiLc3NzMzMyYmJiIiIh2dnYAAABC1PP/AAAAAXRSTlMAQObYZgAAAAlwSFlz\n",
       "AAAOxAAADsQBlSsOGwAAAMJJREFUGNNjYMAEfplKt/ZhEWfgFT3AUp+OTabWjoGBB5sMd0EKkBRH\n",
       "Fro2c6YCkGJ0SACSPkgSRlcgNBtXAUzo7Z0NQJJLBcpdyP0AylrZwA7SzrQAyt/HfADKmsfAegEk\n",
       "AzNiOfMFCIP9C4TeOhMIEsD2QE1jTYDQbjA9bA5QEX+oXk6YDDPYP8wMDPxA+wxAYXIBHgaGQKII\n",
       "aE8CAx/I1Qwa8HBLqmLpBPnp3RmIFx2THWBhnfqzCiXA7DLBoQMDAANFK7BF6/dnAAAAAElFTkSu\n",
       "QmCC\n",
       "\" style=\"display:inline;vertical-align:middle;\" /></a>, <a class=\"ProveItLink\" href=\"../../number_sets/integers/__pv_it/theorems/1759e791f6052d2463eefaaf9e2fa309cc3375160/expr.ipynb\"><img src=\"data:image/png;base64,iVBORw0KGgoAAAANSUhEUgAAADEAAAAUCAMAAAATIyWrAAAAPFBMVEX///8NDQ0WFhYLCwsYGBjM\n",
       "zMwyMjKqqqoiIiJmZmaYmJju7u5EREQQEBC6urqIiIh2dnZUVFTc3NwAAADJzR5XAAAAAXRSTlMA\n",
       "QObYZgAAAAlwSFlzAAAOxAAADsQBlSsOGwAAANlJREFUKM+VktkSwyAIRemiiEvc/v9fK2TSmKal\n",
       "Ex5iSLwcLwKgBQW4FibOWSmZ2h9FNFNiESA4XWLqlHgnnKgj5oJR5Ng1Z8uMgE6C7chLqyW3fFLY\n",
       "GRE2hedaafyKO46cxPPBz43TelkVo3JIXrapiF0xFur86sqnCzqkYVUszEhRPiwqYnOOw3lgFfg+\n",
       "jQaf/35b3bz7FeUm/LAbpF/VAh6K2s+++yTVLIsHAx3B4dxIp2Y7npLEcxNqLqbVbFTE2EclV/Pr\n",
       "urFcnPJvCD38ZYS7igCj/XwBODQIqq1WnDUAAAAASUVORK5CYII=\n",
       "\" style=\"display:inline;vertical-align:middle;\" /></a>, <a class=\"ProveItLink\" href=\"../__pv_it/theorems/d6724abdc9486f838f4cf63bc1115e85255ce4c00/expr.ipynb\"><img src=\"data:image/png;base64,iVBORw0KGgoAAAANSUhEUgAAADMAAAAQBAMAAABJt1qBAAAAMFBMVEX///+YmJhERESIiIhUVFTc\n",
       "3NwiIiJ2dnbu7u66urqqqqpmZmYQEBAyMjLMzMwAAAA7oY0NAAAAAXRSTlMAQObYZgAAAAlwSFlz\n",
       "AAAOxAAADsQBlSsOGwAAAOBJREFUGNNjYMAC2tXumj4Hs/jubECRYfYR4NivDWHzL0CR2jydgYER\n",
       "KjW/AVmGb4MGkPSGcMoglFFa2gUgxdKgACQbIWK3weRcCwiPiRVmNau73S8wfQMqEMJXAGXNCWD6\n",
       "AaJ5A6ACzzkFIAyOgwzcF8BSMGdEcxpAGNwfGNjABrxJAwIFsF1QA3kUGPongBhNMF1MYBcCQb8B\n",
       "gzyYwQaT4gT7ixMotYDBlwvkAmYDeGhMARJ7gdoNuLK5wSK34GGou5VjGdBvHM51IXZgkRZNWHi1\n",
       "63zbihoX09XAAQUDAHO5MBAUDGSbAAAAAElFTkSuQmCC\n",
       "\" style=\"display:inline;vertical-align:middle;\" /></a>, <a class=\"ProveItLink\" href=\"../__pv_it/demonstrations/4a82d58b126555a18b104ddba47c5351567eeaea0/expr.ipynb\"><img src=\"data:image/png;base64,iVBORw0KGgoAAAANSUhEUgAAADEAAAAUCAMAAAATIyWrAAAAPFBMVEX///8NDQ0WFhYLCwsYGBiY\n",
       "mJhERESIiIhUVFTc3NwiIiJ2dnbu7u66urqqqqpmZmYQEBAyMjLMzMwAAADYQ0HGAAAAAXRSTlMA\n",
       "QObYZgAAAAlwSFlzAAAOxAAADsQBlSsOGwAAAOJJREFUKM+VkusShCAIhd2Ll0RF8f3fdcWmDXNy\n",
       "Jn5UQsePoyi1Cgz3NSoZ56SRKwCLm0zUNCkMiUVp9eCFJNapA3JioX3nCCr4GSF7MF2exL5lshHd\n",
       "0HSv09775sDSbKNIRDgUmvfKrWROHPoe3w8/D85WYVfYps4sw7JEnIr2wsqfHq4uRl9hV0RmZNMT\n",
       "cYk4nKdmN7BK6SpGg/t/v3Y3//My/SZ0sxv6Ibmi0rBpud6nzuqwaxojeVRD32keMs9TknlugrNA\n",
       "m7O0RLT/EKyju0lOoB5GCQ8F+jHCP0UoWhV/QRoJ0UnVlJEAAAAASUVORK5CYII=\n",
       "\" style=\"display:inline;vertical-align:middle;\" /></a> <a class=\"ProveItLink\" href=\"../__pv_it/demonstrations/4ca8948191d7178bac3b31a9f3104eeaacdae3d40/proof.ipynb\" style=\"text-decoration: none\">&nbsp;&#x22A2;&nbsp;&nbsp;</a><a class=\"ProveItLink\" href=\"../__pv_it/demonstrations/305fd64ed402a918fa30b44df5d08d53c232b4ea0/expr.ipynb\"><img src=\"data:image/png;base64,iVBORw0KGgoAAAANSUhEUgAAAUwAAAAyBAMAAADFH/9pAAAAMFBMVEX///8AAAAAAAAAAAAAAAAA\n",
       "AAAAAAAAAAAAAAAAAAAAAAAAAAAAAAAAAAAAAAAAAAAv3aB7AAAAD3RSTlMAInZUiRDNmWbv3US7\n",
       "qzJazP2FAAAACXBIWXMAAA7EAAAOxAGVKw4bAAAE4klEQVRo3tWZTYgcRRTH305PT8/0ztc5GJwE\n",
       "hRzUTBYRzGWXICiBJHMVEmZAgl6EOcgSJbCDBz8gZHYlmhgNLMSwbAdh8WROswoiCmJYgyReMl5y\n",
       "yGUm2UwSiF9V1dVVXd3VXTVs9cE6TPfWvPm9f1W9ev26FgCgDpptRseoPIRpmCpD+wd6k2vqImcb\n",
       "GkY3p2N+ozK42/KvL8rG8NOq7Cf7+O3xi3JqZWE6Zq6XaFC9gj8tv9PuyLwVutLeFr9/Uy7zg2mZ\n",
       "J5MMTixOyPUI+XR6wrrSv2rNSAdpxRBnWx6+K3Hmt5DG/JDf1sRQyfkyXWJdEr6yaPgNWpEOv33K\n",
       "xzORynQbceYcpDFLfIUGLZlMizh9SSrzMEhlvsXu8tLghY8hzgxkypkFPrWHQSbTD6938FLd2NMQ\n",
       "CW/v/S2CzO89G8QJoW89L9vN5yDODGTGmYf2DSF/nf2YGYgyB3U6Qdfq5YlAsB+22nUBOXMZTtMN\n",
       "Qlr7pH1Psm8nbNI5k8qMM3c1nU0osu3GDUSZBTyQy+j7C+CsCjKtCZQaAtJdgE8AXmaM+Rb+Oxaa\n",
       "/tSITCozzvwKd1jLLBaYgSjTwtcv0MYcYxXo6nnrFz0PuXI6UFsId8ASCe8RGTS+WwR4EJc5Io+g\n",
       "MPM9z/vc874GCdMhMqrjgEkNYjLt+z6ytAntDWE2kYdBUxj5l+TzGv5Y82diVpKSbkEgM8ScAzkT\n",
       "meCUsRwwuYEoE372F6jdgL64CVEG86ePBet9cjkYSpuOJCVdgmDRQ8w5kDPbjdBTRjCIyOyjiP0e\n",
       "2Tfhd0uI7toQxZYwm4/RuAHOMMY/8HovprL62L+KzEBmlFlDgA0objKZzCAis90jOabcsNYcgVDp\n",
       "lbuiTLTNj/qZJqgwfpRsdLr5RSaVGWOibZ4fgsPCkRvQFBikkhIK5LtoRbeO7n5BTEg3TkVScf61\n",
       "99GCXOVP3Fd7kiKO7lqRGSSkGPOVj55FEbnBEhIz8FXfeniTYlFcuEPZU0jeMbOaXnSV6AKKzDlI\n",
       "Y+5SF3v5sVhORKqCWIfTS+e1u/EShZcecuYptcziE/TxHWi3pxTfj4Jp0mfObKptqjjNHNeXqfI+\n",
       "H6Q9fWZZ43XEfoTH09BF5lTIfhCT+sw9OkZ/g9G2vw6ZtL92TECPaNz8kuNYKxuZn5nFLWUk04N/\n",
       "d9BiuNv+ZYdMvwSrhVysmx31bTOYtWjHutnYzG7RjbZj9f/FFto/zEbmJbO4fkYyH+mZ3TmvZze/\n",
       "YVYe9Ws/0LTf1jMb9QxP4zYvPXRODCd6drWuWZXUr6U5S/lVPTu3Y1Ym9Zu7p2de0JylyrJZmdRv\n",
       "ZZxUrLIDINR2HxppHv4W1cEhkNMb81tKKp35ARAKkBX4VfPpUlUHUZisCEzm9+mEgYUOgAC/jy8a\n",
       "y8MCOb1xv/2Eh1twANTGW2IJn8RotneVJQAl61SFzO8fyS+y5ADI7ZLTI/uJrsyBKr+HjpZUjftN\n",
       "SpuhAyB8elQc68p0VSkhTFaEB/ObuDFDB0Bgb0OlcwAMbfUwWSGT+XWvJ72V8gMgfG51sKv9dDmn\n",
       "et8Nk9Mb8ztIGlboAAjgxDN/bmlXPn1F6hLI6Y35/cV8yVVYMI7ULSimadUV40i3aV4mPGeceCSL\n",
       "QrtietVnO1nIhDcM8+5k87ZaNvs+ZJP/EP8HLNzUWSj4N9sAAAAASUVORK5CYII=\n",
       "\" style=\"display:inline;vertical-align:middle;\" /></a></span>"
      ],
      "text/plain": [
       "{a in Complex, b in Complex, c in Complex, a != 0, d in Complex, d != 0} |- (((a + b + c) * b) / (a * d)) = ((((a + b + c) * b) / a) * (1 / d))"
      ]
     },
     "metadata": {},
     "output_type": "display_data"
    }
   ],
   "source": [
    "expr_03.factorization(frac(one, d), pull='right', assumptions=assumptions)"
   ]
  },
  {
   "cell_type": "code",
   "execution_count": 21,
   "metadata": {},
   "outputs": [
    {
     "data": {
      "text/html": [
       "<span style=\"font-size:20px;\"><a class=\"ProveItLink\" href=\"../__pv_it/theorems/e9f87a0977d5044ea8daf1040d2f219396bb3d5b0/expr.ipynb\"><img src=\"data:image/png;base64,iVBORw0KGgoAAAANSUhEUgAAADMAAAAQBAMAAABJt1qBAAAAMFBMVEX////MzMwyMjKqqqoiIiJm\n",
       "ZmaYmJju7u5EREQQEBC6urqIiIh2dnZUVFTc3NwAAAAqL9KcAAAAAXRSTlMAQObYZgAAAAlwSFlz\n",
       "AAAOxAAADsQBlSsOGwAAANFJREFUGNNjYMACalqU9slgk2DgvpnAHt+KVSp6DQMDG1YpxoB2IHkV\n",
       "RWyHi4sCkOItaACSZcgyi7ZDaA6+AKgI3519G8C0OlTgLeMBKGvlA47vIJrpAVRAhisBwmCfxsDq\n",
       "AJaCGfyUawOEwfqBgQVsgKQLEDSA7YIayNnAUL8AxKiA6eIAuxAI6jcw5IMZLDApLrC/uIBSBgyX\n",
       "mEEu4N4AD421QCIIqH0DsysrWEQZHoZNcewmQL+x3z74diNYpLarABbynV/iUANvTQs4oGAAAKqD\n",
       "MEJAsWyMAAAAAElFTkSuQmCC\n",
       "\" style=\"display:inline;vertical-align:middle;\" /></a>, <a class=\"ProveItLink\" href=\"../__pv_it/theorems/a259ec76dfb0a5be60b7c83d797520fa82c1dba60/expr.ipynb\"><img src=\"data:image/png;base64,iVBORw0KGgoAAAANSUhEUgAAADEAAAAQBAMAAABNQoq8AAAAMFBMVEX///+YmJjMzMzc3NyIiIhU\n",
       "VFR2dna6urqqqqpmZmYyMjIiIiIQEBBERETu7u4AAAD7tRWPAAAAAXRSTlMAQObYZgAAAAlwSFlz\n",
       "AAAOxAAADsQBlSsOGwAAANtJREFUGNNjYMAEz26vclZjYOC7swFNgiVGgG/+TSCDawKazJQyBgZG\n",
       "kAx/A6oE04R7QDISiOsfQIV8d+9eAKRYH1wAkg+BOBsqUeUHoXmZYcYvdYkAUczroHxTpgQIg+/X\n",
       "g/cGIIcYQGXU2AUgDI5/DDwOIBmYCyzZHSAMzgUM/CDtOruB4ALYHqhp3AkM9SB3v4Xp4QW7DeKd\n",
       "+SB3c8Nk2MH+YQfKKPAdBIeJAzwMSoHELKDHBHgh7l8BD7dbk/m6gWJ8YRMhAk+vwwLj2Z3fk1EC\n",
       "rOw2OHRgAAASXDjITT81JQAAAABJRU5ErkJggg==\n",
       "\" style=\"display:inline;vertical-align:middle;\" /></a>, <a class=\"ProveItLink\" href=\"../../addition/subtraction/__pv_it/theorems/b66b5547fa9b0b910f79351152926c658c2718190/expr.ipynb\"><img src=\"data:image/png;base64,iVBORw0KGgoAAAANSUhEUgAAADEAAAAQBAMAAABNQoq8AAAAMFBMVEX///9UVFQyMjK6urru7u4Q\n",
       "EBBERERmZmaqqqoiIiLc3NzMzMyYmJiIiIh2dnYAAABC1PP/AAAAAXRSTlMAQObYZgAAAAlwSFlz\n",
       "AAAOxAAADsQBlSsOGwAAAMJJREFUGNNjYMAEfplKt/ZhEWfgFT3AUp+OTabWjoGBB5sMd0EKkBRH\n",
       "Fro2c6YCkGJ0SACSPkgSRlcgNBtXAUzo7Z0NQJJLBcpdyP0AylrZwA7SzrQAyt/HfADKmsfAegEk\n",
       "AzNiOfMFCIP9C4TeOhMIEsD2QE1jTYDQbjA9bA5QEX+oXk6YDDPYP8wMDPxA+wxAYXIBHgaGQKII\n",
       "aE8CAx/I1Qwa8HBLqmLpBPnp3RmIFx2THWBhnfqzCiXA7DLBoQMDAANFK7BF6/dnAAAAAElFTkSu\n",
       "QmCC\n",
       "\" style=\"display:inline;vertical-align:middle;\" /></a>, <a class=\"ProveItLink\" href=\"../../number_sets/integers/__pv_it/theorems/1759e791f6052d2463eefaaf9e2fa309cc3375160/expr.ipynb\"><img src=\"data:image/png;base64,iVBORw0KGgoAAAANSUhEUgAAADEAAAAUCAMAAAATIyWrAAAAPFBMVEX///8NDQ0WFhYLCwsYGBjM\n",
       "zMwyMjKqqqoiIiJmZmaYmJju7u5EREQQEBC6urqIiIh2dnZUVFTc3NwAAADJzR5XAAAAAXRSTlMA\n",
       "QObYZgAAAAlwSFlzAAAOxAAADsQBlSsOGwAAANlJREFUKM+VktkSwyAIRemiiEvc/v9fK2TSmKal\n",
       "Ex5iSLwcLwKgBQW4FibOWSmZ2h9FNFNiESA4XWLqlHgnnKgj5oJR5Ng1Z8uMgE6C7chLqyW3fFLY\n",
       "GRE2hedaafyKO46cxPPBz43TelkVo3JIXrapiF0xFur86sqnCzqkYVUszEhRPiwqYnOOw3lgFfg+\n",
       "jQaf/35b3bz7FeUm/LAbpF/VAh6K2s+++yTVLIsHAx3B4dxIp2Y7npLEcxNqLqbVbFTE2EclV/Pr\n",
       "urFcnPJvCD38ZYS7igCj/XwBODQIqq1WnDUAAAAASUVORK5CYII=\n",
       "\" style=\"display:inline;vertical-align:middle;\" /></a>, <a class=\"ProveItLink\" href=\"../__pv_it/theorems/d6724abdc9486f838f4cf63bc1115e85255ce4c00/expr.ipynb\"><img src=\"data:image/png;base64,iVBORw0KGgoAAAANSUhEUgAAADMAAAAQBAMAAABJt1qBAAAAMFBMVEX///+YmJhERESIiIhUVFTc\n",
       "3NwiIiJ2dnbu7u66urqqqqpmZmYQEBAyMjLMzMwAAAA7oY0NAAAAAXRSTlMAQObYZgAAAAlwSFlz\n",
       "AAAOxAAADsQBlSsOGwAAAOBJREFUGNNjYMAC2tXumj4Hs/jubECRYfYR4NivDWHzL0CR2jydgYER\n",
       "KjW/AVmGb4MGkPSGcMoglFFa2gUgxdKgACQbIWK3weRcCwiPiRVmNau73S8wfQMqEMJXAGXNCWD6\n",
       "AaJ5A6ACzzkFIAyOgwzcF8BSMGdEcxpAGNwfGNjABrxJAwIFsF1QA3kUGPongBhNMF1MYBcCQb8B\n",
       "gzyYwQaT4gT7ixMotYDBlwvkAmYDeGhMARJ7gdoNuLK5wSK34GGou5VjGdBvHM51IXZgkRZNWHi1\n",
       "63zbihoX09XAAQUDAHO5MBAUDGSbAAAAAElFTkSuQmCC\n",
       "\" style=\"display:inline;vertical-align:middle;\" /></a>, <a class=\"ProveItLink\" href=\"../__pv_it/demonstrations/4a82d58b126555a18b104ddba47c5351567eeaea0/expr.ipynb\"><img src=\"data:image/png;base64,iVBORw0KGgoAAAANSUhEUgAAADEAAAAUCAMAAAATIyWrAAAAPFBMVEX///8NDQ0WFhYLCwsYGBiY\n",
       "mJhERESIiIhUVFTc3NwiIiJ2dnbu7u66urqqqqpmZmYQEBAyMjLMzMwAAADYQ0HGAAAAAXRSTlMA\n",
       "QObYZgAAAAlwSFlzAAAOxAAADsQBlSsOGwAAAOJJREFUKM+VkusShCAIhd2Ll0RF8f3fdcWmDXNy\n",
       "Jn5UQsePoyi1Cgz3NSoZ56SRKwCLm0zUNCkMiUVp9eCFJNapA3JioX3nCCr4GSF7MF2exL5lshHd\n",
       "0HSv09775sDSbKNIRDgUmvfKrWROHPoe3w8/D85WYVfYps4sw7JEnIr2wsqfHq4uRl9hV0RmZNMT\n",
       "cYk4nKdmN7BK6SpGg/t/v3Y3//My/SZ0sxv6Ibmi0rBpud6nzuqwaxojeVRD32keMs9TknlugrNA\n",
       "m7O0RLT/EKyju0lOoB5GCQ8F+jHCP0UoWhV/QRoJ0UnVlJEAAAAASUVORK5CYII=\n",
       "\" style=\"display:inline;vertical-align:middle;\" /></a> <a class=\"ProveItLink\" href=\"../__pv_it/demonstrations/f57aab6df49fe1030d16aa3fb0e0d384cbd335920/proof.ipynb\" style=\"text-decoration: none\">&nbsp;&#x22A2;&nbsp;&nbsp;</a><a class=\"ProveItLink\" href=\"../__pv_it/demonstrations/fdc33aed88ad5d30d95dc49f2c676884859e77ff0/expr.ipynb\"><img src=\"data:image/png;base64,iVBORw0KGgoAAAANSUhEUgAAAUwAAAAyBAMAAADFH/9pAAAAMFBMVEX///8AAAAAAAAAAAAAAAAA\n",
       "AAAAAAAAAAAAAAAAAAAAAAAAAAAAAAAAAAAAAAAAAAAv3aB7AAAAD3RSTlMAInZUiRDNmWbv3US7\n",
       "qzJazP2FAAAACXBIWXMAAA7EAAAOxAGVKw4bAAAEjUlEQVRo3tVYS2gTQRj+283m1bzoWTE+Dh7U\n",
       "VhBBLw1eFEGbkyAoCYjoRcxBREVo8KAIYlrxhQ8sKJRGkF49RQURBbFU8QVivHjwkmiNCj5ndjez\n",
       "O5t/nd9k9+B/2N2Znf2+b2b++Wf2BwDIANH6KI0S9W6/RBvq962H/mEqxkCW0OglVrm0e4oPefO+\n",
       "BmmtP5zEQJbbjzsu4TzJnBPbMi2HtMQROig0U4lexFqHS2itg30PLvM4h3yxX5a5DW26h0axxbhG\n",
       "ytKgW6X0sKvCsKhD/DzuWxPGbUiWeQijEAgKirjxOiZPj+UbtbyrwrRzNlkLlRnPYjLHMQqBoKDQ\n",
       "jJq1qMzNgGLsFU8h1HnhJCAytSJGIRBUFMbcH+BT9WxxVv5k35KnLozQktNtPzF8aG4lFiHOYjIj\n",
       "fAUt3DAoIwoEFUUtY6m/nUm0JAz9S76QkTD6rsNRc4GYVtitf+xU2d/CZIaZdw1MwJO8hCgQVBTh\n",
       "WXa5zkRdhMikJFNrQSwrYcRzcAZgncAYyfNyh2vOYjLjbFC2l+GIPJoCQUWh8b5fZpPS5E3YvVqd\n",
       "vlStMqpIEdI5ZwWMGcQNY6T500GAz50yG3VMZmyGfQ9wQ6KwEFAKKBQdFPonU2bsDhRmpK4y1TXZ\n",
       "ca4Y19v8MsUvN2AACUmvwEvmFdC/y6MpEBCKeMnZ4JE56YUsVORVx8LmmORJRo8A1jtiWgQJSVfB\n",
       "Y9LZ99GmLFMgKCkqbJncYzKH4bkmrZh0nfmrBPqNrQKAUwLjF/c2t6W+oTITWdDnIVlcLSEKBCVF\n",
       "oWwEgERWm4pIqpLlREmWydbgVjN6tU8YD5CF3l78o9KpKzTLR2N9qSQhCgQlRYx9/4EN99zWhavk\n",
       "gPTskDsYbzrGRuimwNi5sYwc4qzt5s21fc63KRZGdi57N1eXEAWCkiLBvo/XsS0Cr+ib/PsxjK1F\n",
       "1G71RhFqynu96xjQUREp/11moYTXn+iNIspjxF0g2wLF+4bHuTmR6YkixWPADrpMVY9GPH4E9Ds9\n",
       "UehfuTdkqRD9qkGp1D1eDPZG8RN8taEMBGI/ekZgezI388gxmg9G5nl/4cYCklmF3z1YB9xb82a8\n",
       "bIrDVLoHCvMcMO1vr9+6K6b8wZ321zeDm3RfbTTzXyyhoXowMq/6C1cJSOZXWrP3F2jtRma60KAG\n",
       "1z8ToeZpzRrlbsZKCZ76REzntWjt0qUuVKrBNeIohSZp7eLFLmSqwfs/0pDCxFFKjnchUw2ebHq8\n",
       "EAkfs9AgJpSj1vzZOSmlUcC9/l3shI+7oPB1y4nsnJTSMSngizz6bCd8zMLBf4vDjpyUykjgFY/N\n",
       "zUr4mKmcdoFih8193spJUY5+FPDXHvXthI+RyrGzP2qrzVi+VCAGehK4R9h0JHxcBWVEMlatIyel\n",
       "2l8o4FEPP3ckfFwFGqIjJ6WSSQFvJ007zE74uAsqO2umtkROSmUU8JpXj+2Ej7ugXJQ8ujhyUiqj\n",
       "gD/2/8gVzvkOST1Q/IulJnyHjA/7LxNW+I64JYiDdtLvWR8oBiETdvmM9z6Yv9WEv/9D+m5+/QPY\n",
       "BtZmOF8oGgAAAABJRU5ErkJggg==\n",
       "\" style=\"display:inline;vertical-align:middle;\" /></a></span>"
      ],
      "text/plain": [
       "{a in Complex, b in Complex, c in Complex, a != 0, d in Complex, d != 0} |- (((a + b + c) * b) / (a * d)) = ((1 / a) * (((a + b + c) * b) / d))"
      ]
     },
     "metadata": {},
     "output_type": "display_data"
    }
   ],
   "source": [
    "expr_03.factorization(frac(expr_03.numerator, d), pull='right', assumptions=assumptions)"
   ]
  },
  {
   "cell_type": "code",
   "execution_count": 22,
   "metadata": {},
   "outputs": [
    {
     "data": {
      "text/html": [
       "<span style=\"font-size:20px;\"><a class=\"ProveItLink\" href=\"../__pv_it/theorems/e9f87a0977d5044ea8daf1040d2f219396bb3d5b0/expr.ipynb\"><img src=\"data:image/png;base64,iVBORw0KGgoAAAANSUhEUgAAADMAAAAQBAMAAABJt1qBAAAAMFBMVEX////MzMwyMjKqqqoiIiJm\n",
       "ZmaYmJju7u5EREQQEBC6urqIiIh2dnZUVFTc3NwAAAAqL9KcAAAAAXRSTlMAQObYZgAAAAlwSFlz\n",
       "AAAOxAAADsQBlSsOGwAAANFJREFUGNNjYMACalqU9slgk2DgvpnAHt+KVSp6DQMDG1YpxoB2IHkV\n",
       "RWyHi4sCkOItaACSZcgyi7ZDaA6+AKgI3519G8C0OlTgLeMBKGvlA47vIJrpAVRAhisBwmCfxsDq\n",
       "AJaCGfyUawOEwfqBgQVsgKQLEDSA7YIayNnAUL8AxKiA6eIAuxAI6jcw5IMZLDApLrC/uIBSBgyX\n",
       "mEEu4N4AD421QCIIqH0DsysrWEQZHoZNcewmQL+x3z74diNYpLarABbynV/iUANvTQs4oGAAAKqD\n",
       "MEJAsWyMAAAAAElFTkSuQmCC\n",
       "\" style=\"display:inline;vertical-align:middle;\" /></a>, <a class=\"ProveItLink\" href=\"../__pv_it/theorems/d6724abdc9486f838f4cf63bc1115e85255ce4c00/expr.ipynb\"><img src=\"data:image/png;base64,iVBORw0KGgoAAAANSUhEUgAAADMAAAAQBAMAAABJt1qBAAAAMFBMVEX///+YmJhERESIiIhUVFTc\n",
       "3NwiIiJ2dnbu7u66urqqqqpmZmYQEBAyMjLMzMwAAAA7oY0NAAAAAXRSTlMAQObYZgAAAAlwSFlz\n",
       "AAAOxAAADsQBlSsOGwAAAOBJREFUGNNjYMAC2tXumj4Hs/jubECRYfYR4NivDWHzL0CR2jydgYER\n",
       "KjW/AVmGb4MGkPSGcMoglFFa2gUgxdKgACQbIWK3weRcCwiPiRVmNau73S8wfQMqEMJXAGXNCWD6\n",
       "AaJ5A6ACzzkFIAyOgwzcF8BSMGdEcxpAGNwfGNjABrxJAwIFsF1QA3kUGPongBhNMF1MYBcCQb8B\n",
       "gzyYwQaT4gT7ixMotYDBlwvkAmYDeGhMARJ7gdoNuLK5wSK34GGou5VjGdBvHM51IXZgkRZNWHi1\n",
       "63zbihoX09XAAQUDAHO5MBAUDGSbAAAAAElFTkSuQmCC\n",
       "\" style=\"display:inline;vertical-align:middle;\" /></a>, <a class=\"ProveItLink\" href=\"../__pv_it/theorems/a259ec76dfb0a5be60b7c83d797520fa82c1dba60/expr.ipynb\"><img src=\"data:image/png;base64,iVBORw0KGgoAAAANSUhEUgAAADEAAAAQBAMAAABNQoq8AAAAMFBMVEX///+YmJjMzMzc3NyIiIhU\n",
       "VFR2dna6urqqqqpmZmYyMjIiIiIQEBBERETu7u4AAAD7tRWPAAAAAXRSTlMAQObYZgAAAAlwSFlz\n",
       "AAAOxAAADsQBlSsOGwAAANtJREFUGNNjYMAEz26vclZjYOC7swFNgiVGgG/+TSCDawKazJQyBgZG\n",
       "kAx/A6oE04R7QDISiOsfQIV8d+9eAKRYH1wAkg+BOBsqUeUHoXmZYcYvdYkAUczroHxTpgQIg+/X\n",
       "g/cGIIcYQGXU2AUgDI5/DDwOIBmYCyzZHSAMzgUM/CDtOruB4ALYHqhp3AkM9SB3v4Xp4QW7DeKd\n",
       "+SB3c8Nk2MH+YQfKKPAdBIeJAzwMSoHELKDHBHgh7l8BD7dbk/m6gWJ8YRMhAk+vwwLj2Z3fk1EC\n",
       "rOw2OHRgAAASXDjITT81JQAAAABJRU5ErkJggg==\n",
       "\" style=\"display:inline;vertical-align:middle;\" /></a>, <a class=\"ProveItLink\" href=\"../../addition/subtraction/__pv_it/theorems/b66b5547fa9b0b910f79351152926c658c2718190/expr.ipynb\"><img src=\"data:image/png;base64,iVBORw0KGgoAAAANSUhEUgAAADEAAAAQBAMAAABNQoq8AAAAMFBMVEX///9UVFQyMjK6urru7u4Q\n",
       "EBBERERmZmaqqqoiIiLc3NzMzMyYmJiIiIh2dnYAAABC1PP/AAAAAXRSTlMAQObYZgAAAAlwSFlz\n",
       "AAAOxAAADsQBlSsOGwAAAMJJREFUGNNjYMAEfplKt/ZhEWfgFT3AUp+OTabWjoGBB5sMd0EKkBRH\n",
       "Fro2c6YCkGJ0SACSPkgSRlcgNBtXAUzo7Z0NQJJLBcpdyP0AylrZwA7SzrQAyt/HfADKmsfAegEk\n",
       "AzNiOfMFCIP9C4TeOhMIEsD2QE1jTYDQbjA9bA5QEX+oXk6YDDPYP8wMDPxA+wxAYXIBHgaGQKII\n",
       "aE8CAx/I1Qwa8HBLqmLpBPnp3RmIFx2THWBhnfqzCiXA7DLBoQMDAANFK7BF6/dnAAAAAElFTkSu\n",
       "QmCC\n",
       "\" style=\"display:inline;vertical-align:middle;\" /></a>, <a class=\"ProveItLink\" href=\"../__pv_it/demonstrations/4a82d58b126555a18b104ddba47c5351567eeaea0/expr.ipynb\"><img src=\"data:image/png;base64,iVBORw0KGgoAAAANSUhEUgAAADEAAAAUCAMAAAATIyWrAAAAPFBMVEX///8NDQ0WFhYLCwsYGBiY\n",
       "mJhERESIiIhUVFTc3NwiIiJ2dnbu7u66urqqqqpmZmYQEBAyMjLMzMwAAADYQ0HGAAAAAXRSTlMA\n",
       "QObYZgAAAAlwSFlzAAAOxAAADsQBlSsOGwAAAOJJREFUKM+VkusShCAIhd2Ll0RF8f3fdcWmDXNy\n",
       "Jn5UQsePoyi1Cgz3NSoZ56SRKwCLm0zUNCkMiUVp9eCFJNapA3JioX3nCCr4GSF7MF2exL5lshHd\n",
       "0HSv09775sDSbKNIRDgUmvfKrWROHPoe3w8/D85WYVfYps4sw7JEnIr2wsqfHq4uRl9hV0RmZNMT\n",
       "cYk4nKdmN7BK6SpGg/t/v3Y3//My/SZ0sxv6Ibmi0rBpud6nzuqwaxojeVRD32keMs9TknlugrNA\n",
       "m7O0RLT/EKyju0lOoB5GCQ8F+jHCP0UoWhV/QRoJ0UnVlJEAAAAASUVORK5CYII=\n",
       "\" style=\"display:inline;vertical-align:middle;\" /></a>, <a class=\"ProveItLink\" href=\"../../number_sets/integers/__pv_it/theorems/1759e791f6052d2463eefaaf9e2fa309cc3375160/expr.ipynb\"><img src=\"data:image/png;base64,iVBORw0KGgoAAAANSUhEUgAAADEAAAAUCAMAAAATIyWrAAAAPFBMVEX///8NDQ0WFhYLCwsYGBjM\n",
       "zMwyMjKqqqoiIiJmZmaYmJju7u5EREQQEBC6urqIiIh2dnZUVFTc3NwAAADJzR5XAAAAAXRSTlMA\n",
       "QObYZgAAAAlwSFlzAAAOxAAADsQBlSsOGwAAANlJREFUKM+VktkSwyAIRemiiEvc/v9fK2TSmKal\n",
       "Ex5iSLwcLwKgBQW4FibOWSmZ2h9FNFNiESA4XWLqlHgnnKgj5oJR5Ng1Z8uMgE6C7chLqyW3fFLY\n",
       "GRE2hedaafyKO46cxPPBz43TelkVo3JIXrapiF0xFur86sqnCzqkYVUszEhRPiwqYnOOw3lgFfg+\n",
       "jQaf/35b3bz7FeUm/LAbpF/VAh6K2s+++yTVLIsHAx3B4dxIp2Y7npLEcxNqLqbVbFTE2EclV/Pr\n",
       "urFcnPJvCD38ZYS7igCj/XwBODQIqq1WnDUAAAAASUVORK5CYII=\n",
       "\" style=\"display:inline;vertical-align:middle;\" /></a> <a class=\"ProveItLink\" href=\"../__pv_it/demonstrations/819fc9082f96a35683f8e678e661b380022d306a0/proof.ipynb\" style=\"text-decoration: none\">&nbsp;&#x22A2;&nbsp;&nbsp;</a><a class=\"ProveItLink\" href=\"../__pv_it/demonstrations/0469b28bd104ed3d72b3dde210647a3334edbb2d0/expr.ipynb\"><img src=\"data:image/png;base64,iVBORw0KGgoAAAANSUhEUgAAAUwAAAAyBAMAAADFH/9pAAAAMFBMVEX///8AAAAAAAAAAAAAAAAA\n",
       "AAAAAAAAAAAAAAAAAAAAAAAAAAAAAAAAAAAAAAAAAAAv3aB7AAAAD3RSTlMAInZUiRDNmWbv3US7\n",
       "qzJazP2FAAAACXBIWXMAAA7EAAAOxAGVKw4bAAAE+UlEQVRo3tVZS4gcVRS9/an+Tf9wGQx2gkIW\n",
       "mrSNCGYzQxCUgSS9FRK6QUJ0IfRChhiEaVz4AbFnJP5iAgNRhikRBlfJqseAiIIYxkESN2k3WWTT\n",
       "nZl0Eoi/V1XvW/Uq7xZTtfAtqurdOn3eqffuvXXrNQBAHZAthQGVRxCF0wS0fqAX6SaWcqaBAF2P\n",
       "xvmdCXC77Z2f0z3DTyu6nxwQlyfO61krc9E40/1QQPVr55jxjFZXN1qup7W2xfVpvcx3o3KeCgOc\n",
       "XJi656PuMd9X1pX2ak2fwW0FiWdH777LQc7L4OO8LN99T1zWVFdJezJLLllRuZWh7jds+wxe+0Q8\n",
       "z1Qrs9QIcrbAx9mS7xbFCg3bOpkZd9DntTLnQSvzNX6V1TovfABBTqZqHnQyc2Lm50En03OvN52l\n",
       "2trXUFW9sf83n8zs/o+Yn7jsm8/oovkcBDmZKs7JZR45MILsNf5jDlBlDut0gq7Uy1NFlXWv3akr\n",
       "MlOX4G0aIG7rnLLuaOJ2yiddcFJVgpPJ3NPMb0CBh5sAqDJzzoNcIvc/h/yKIjMzhWJDkVmag48B\n",
       "XuAcs22nH3BNb2pUTqpKcDKZXzmGzBL3Lw5QZWac85ckMCeOCnK27bXztk2GynehNicbYNF177H7\n",
       "0M7VAsDdoMyx+wqSOc/a9he2/S1wTsngyqhOGCcFBGRa2x5lcQM668pskhGGTWU2L7jHK85h1ZuJ\n",
       "GU1KugFMpsTZAh8nNRCIkzKWGKcAqDLhZ2+BOg0YqIFNMpg3fdxZt93TYSlt5jUp6SKwRZc4W+Dj\n",
       "pIZOQ3rLKACfzAHx2KsE34TfM0rE1EbEt5TZfECeG+BDzvEPvNIPqKw+8M4qJ5PJOZmBEKxDYYPL\n",
       "5ACfzE7fzTHlRmY1r6iq9Ms9VSYJ82NepmEVxo+aQKfBr3JSVYKTGkiYZ0eQ5+4oADQFslRSJMFx\n",
       "m6zo5rG9B9WEtHXGl96zL79DFuQb8cZ9qa8p4mjUqpwsIXFOFukvvv8U8ch1npA4wFN94951Skv8\n",
       "ojTSvYX0htTKo4uuIl1AlbPlhymGPeZiLztRywlfpREw5PuP5uv0giWKr9IIGM6YZRYeksP3gG6P\n",
       "G+6P2dTjOVMbZkzVSTMn8DJNo8+ytIfnLCM+R6z7zvM0sJRpE+WA+SSecx8G9DfE2g7VIZH2164Z\n",
       "yGvfaV7JcbydjMxP46VbTEimDf/uogXobnqnXXJ6JVhNGmIt3qe+GQ/Nqt+wFq9vJrfosbbj9f9F\n",
       "CB0aJSPzYrx0g4Rk3sfBbn2Gw82uI0DV13sRVVp3kcAdHGzcx6BqzYgyq9vIHcMpDldDzdMwaj7I\n",
       "IGcpu4LDlboY1HxU10zfweFySG+qLGFQp6PKrExCbuw98pjcGSO9qWB2jtTWQeQSChHFkNJ5Zhl+\n",
       "bWs7Bl83KxBbS8aA4OM+EVK9kk/ws3JnIbY87GwtdXFcQsQg5OW26Gy+OJ9gXamDaW8ZSwC6tYSp\n",
       "Cvm4f4QgLoD10I3cntRB5RpTfpe2lkxNjBuSNq1tKEy0HWNGMqUEaWvJ5B583LDAtHag0n1W19l1\n",
       "qEtbSyaZfNzStRDIVTjc62k7pnbO9L0rtpZMjY87DHusk0/+uTnSdow1kiF1SVtLpsbH/SX+kis3\n",
       "FzsltqCIVMwsx05ZasYvE56OnfFoEoV2Je5Vn+kmIRNejZnvVjJfq+V4v4cs9x/i/wBIp9WUFSOg\n",
       "pgAAAABJRU5ErkJggg==\n",
       "\" style=\"display:inline;vertical-align:middle;\" /></a></span>"
      ],
      "text/plain": [
       "{a in Complex, d in Complex, b in Complex, c in Complex, d != 0, a != 0} |- (((a + b + c) * b) / (a * d)) = ((((a + b + c) * b) / d) * (1 / a))"
      ]
     },
     "metadata": {},
     "output_type": "display_data"
    }
   ],
   "source": [
    "expr_03.factorization(frac(expr_03.numerator, d), pull='left', assumptions=assumptions)"
   ]
  },
  {
   "cell_type": "markdown",
   "metadata": {},
   "source": [
    "## Distribution"
   ]
  },
  {
   "cell_type": "code",
   "execution_count": 23,
   "metadata": {},
   "outputs": [
    {
     "data": {
      "text/html": [
       "<a class=\"ProveItLink\" href=\"../__pv_it/demonstrations/2cd5fb79d140c239824e711e25e4ba973f8ad5890/expr.ipynb\"><img src=\"data:image/png;base64,iVBORw0KGgoAAAANSUhEUgAAAFAAAAArBAMAAAAd2hKcAAAAMFBMVEX///8AAAAAAAAAAAAAAAAA\n",
       "AAAAAAAAAAAAAAAAAAAAAAAAAAAAAAAAAAAAAAAAAAAv3aB7AAAAD3RSTlMAIquJdkTvuxBmmd1U\n",
       "zTKBpmoTAAAACXBIWXMAAA7EAAAOxAGVKw4bAAABOElEQVQ4y2NgwAAcZRsYiAO8CwgoiITS/Aeg\n",
       "DNYJ2BUegdLxDVAGjwN+hdYMWBUyKjs6oCq85KKDppDZZR4DQ5gA+w8UhRx/G/oFUBQy7mFYzsCR\n",
       "ycC1AUUhzw8GNgcUhdwGDCkMXB9ANAPD6t2703bv3gRkcV1g4AeKcO3evS17924FoMh6kO/YChj6\n",
       "A1BMBOqLP4BiYjqI6HdgmI/qa2Awrm9AVsjxBazwAIMujwCKwgdAd6OY+BMY9gzsDjy7uFBMZJrA\n",
       "vgBV4XIGBjsGDhU7IT/U4FFeiRbgzJZTGrDFDAMDgSiMRBfAlShGASb4TyQY/iHBd20BkSrhpQ8h\n",
       "EN9ApEJrYh15iyhVjMp+f4hSiCi18ANQqXWBGIWwUosgQCq18AOkUouAQkSphR8glVoEfI0otZAB\n",
       "AJ1mccbhc0EzAAAAAElFTkSuQmCC\n",
       "\" style=\"display:inline;vertical-align:middle;\" /></a>"
      ],
      "text/plain": [
       "(a + b + c) / d"
      ]
     },
     "metadata": {},
     "output_type": "display_data"
    }
   ],
   "source": [
    "expr_01"
   ]
  },
  {
   "cell_type": "code",
   "execution_count": 24,
   "metadata": {},
   "outputs": [
    {
     "data": {
      "text/html": [
       "<strong id=\"our_assumptions\">our_assumptions:</strong> <a class=\"ProveItLink\" href=\"../__pv_it/demonstrations/1693c1e6a721c7f57f16e3c8b279b6cb0869d69c0/expr.ipynb\"><img src=\"data:image/png;base64,iVBORw0KGgoAAAANSUhEUgAAAYwAAAAVCAMAAABi+SlHAAAAPFBMVEX///8AAAAAAAAAAAAAAAAA\n",
       "AAAAAAAAAAAAAAAAAAAAAAAAAAAAAAAAAAAAAAAAAAAAAAAAAAAAAAAAAAAo1xBWAAAAE3RSTlMA\n",
       "InZUiRDNmWbv3US7qzLn9enz+YF6hwAAAAlwSFlzAAAOxAAADsQBlSsOGwAAA+9JREFUaN7tmWmz\n",
       "nCoQhpEdbMi94f//16CggyyOLVVJVSp8ONac8eHtBZplCIltIf/aZFtuPyJ4yh69r6UBCNIa0Eil\n",
       "9+QM+o5V4k0u6hCuFGnbATD+VBLI4iLnNFwsFmDsO3JCNDUvjXot24M9lJ84p6oZ5BRCAOdAfvLW\n",
       "hpBqpF8JEBITF74/vLt+IdVbckI0tcAmZFsYfOlW/FrYtuSEFDIwORu9EEqB9GsHlMbGJQ4WiYjI\n",
       "LTkhmqZ3EO9lW/iSNL3Pdw7N7AmpprD87IZQK6RfO2DGhRBsbLLHwxenanRETojmQmInZHlTXaGc\n",
       "BuBSyBvngs/PXJ26ITQC6VcE2GiorpKKfjKdEO7WqRYdkROibYFEyzbVdb28FlSaB/W0h3A8U1L6\n",
       "IZQa6VcE1LH2LI7T5bMJWDpFL/EemLzWUekodewOHZFbJinV/oXobnAZKZRsDWdHytfEkYy6CAW4\n",
       "VKszhCJGQXjOU6+8SOwjvyJwJHA1y5Zr0bXrwxtpg62yLELUEmG5QQdkNNNG0xXgRRuDUbIVrOze\n",
       "fvy3/T2CuKQqdMb8umQs3LJqDsTcUUdjZ3nzSggqmBHIXQqjd6M+/GDN0brZO6SqaugNOiAJsbxE\n",
       "EaLZ4NLj57It3InZmQxeLxmOc67Xjw8phDrSOobCpdwwQ3DBjIBJnapwhial39jcoJpZIHQ1b5NT\n",
       "p809dEBG2XLMokQrg5GyFZymi6omPE+7E9pfMj5LdQqhv+bXB6RfEcg9Gdjl189BbrQb84pUR6jd\n",
       "qfUswD10QCZZ8ka0NhgvW8LdYpLWDFavLEH2k0Eu5SFWQqRfEUhzTOzp10XO7XBrrPwC7SmjGOP2\n",
       "MSmqUfdctDUYLVvA+5rx/880es+FF3ZKV1vbpmyRc/GIIzLmU6T3mUX6FQGgybytQycJO0YHpSM+\n",
       "5jmf3Y9k+KMKD9EBSfJOZUWLtgYjZDtw78yszVmERblkrLVKCiGsxG1EzpUuBsADv3Yg78C2DplV\n",
       "RF3uAlp++z6WuSi8baLSv7cVC1R1jfCIzPso7vGircEI2Q5MWHtk3oa8ML4ko0poNuf5cOiFislY\n",
       "2XXD+8yvBPg0hYSj3C+Ofq5mhINVtBeN2xkVQG5jy1qR3+TXC4EaHZLbVZzWxcYTI1objJDtwL3L\n",
       "JKE4dfs7J6m2W8J6r2vTy3H8M6WPsNv1JiKtbQmwfngc5nA9wdeNibfoe/IGnZH9dnd9p9oN4WKR\n",
       "fu3A1xutceN/gJxB79gvt6y3qr0QKuzvLwmAtz/0CUp+OzmD3rGaz6i2IVwAaVsGBLz07X1YJgI6\n",
       "gd6xVsyotiFEj/ADWGYc/Euan8PrEFJsLnbgF7mqMgKJ7yzWAAAAAElFTkSuQmCC\n",
       "\" style=\"display:inline;vertical-align:middle;\" /></a><br>"
      ],
      "text/plain": [
       "<IPython.core.display.HTML object>"
      ]
     },
     "metadata": {},
     "output_type": "display_data"
    }
   ],
   "source": [
    "our_assumptions = [InSet(var, Real) for var in [a, b, c, d]]\n",
    "our_assumptions = our_assumptions + [NotEquals(d, zero)]\n",
    "our_assumptions = our_assumptions + [InSet(Px, Real)]"
   ]
  },
  {
   "cell_type": "code",
   "execution_count": 25,
   "metadata": {},
   "outputs": [],
   "source": [
    "# distribute_frac_through_sum"
   ]
  },
  {
   "cell_type": "code",
   "execution_count": 26,
   "metadata": {},
   "outputs": [
    {
     "data": {
      "text/html": [
       "<span style=\"font-size:20px;\"> <a class=\"ProveItLink\" href=\"proofs/distribute_frac_through_sum/thm_proof.ipynb\" style=\"text-decoration: none\">&nbsp;&#x22A2;&nbsp;&nbsp;</a><a class=\"ProveItLink\" href=\"../__pv_it/theorems/61396e76a9ca9fb57978c7dee906814db2ab79a90/expr.ipynb\"><img src=\"data:image/png;base64,iVBORw0KGgoAAAANSUhEUgAAAskAAAAzCAMAAABSfWWJAAAAOVBMVEX///82NjYbGxsSEhKIiIgi\n",
       "IiIQEBB2dnbu7u5ERETMzMzc3NwyMjK6urpmZmaYmJiqqqpUVFQAAAAnLjGdAAAAAXRSTlMAQObY\n",
       "ZgAAAAlwSFlzAAAOxAAADsQBlSsOGwAACB1JREFUeNrtXYmWpCoM5c2gLCqL//+xD9BSZHMpXIox\n",
       "Z6a7YyHk6gUSiBYAOQQbAa+8coPkZF/VK2ElXR1CS7znP4oKE5xQAdHsI5mY3BV2yyUvkcg/i4pW\n",
       "OKFq4S+Tw7ccFUnk30UlqpT6MjkmvC2RyD+NCsmU+jI5LE3dFEjkH0dV8ZT6MjmMBm4t2e1yPLvd\n",
       "bmrH70D1TP+ixgn1ZXJwFq63X95d7BC7uSTgHaieKS1LqS+TA1KjEplc/3oQ2/VNQn2Z7AvsrXkL\n",
       "QygxRUhsY1q6+PdMXjEnE6qQHG8Z5GqklQn1ZXIAi32F1BQGJQSs2sa0dPHvmbxiTiZUITneMsjV\n",
       "iOhxXH2Z7AntrX0wrmYwrq6Y2VLA/jKWwzS7OEZISpyXyQtzzkMV8rLTyDK58ml4uIdx9WWyJ9KO\n",
       "jPTtZ+OdphBaYwWrtNS1+SUDxZkplCqdHp7W6j8FVbwnxJBlHURW4JEqrr5M9iMjl2j11PX9naXA\n",
       "KPsp3qtL0vQ0e8RXw9NRxeqII8t4+RPwuBPk2erLZH8a5oGQeci02sLkqTjHpzB5rp9xNZ6yM1Al\n",
       "1g4iyPIuUMTg4SWKhfoy2Y/xrY6OSTfMy2jTmOwUV7+rrH6yXT/mXa1u5MZ9u32oAi7qCrI8Kxer\n",
       "8JyZxVZfJnu+WL0Ijylm6kAnNjHZKe6lbDlMxn3r/GH9tVZ/g6Eu2uMTUIWWDdLIssg6vISj/DLZ\n",
       "89PsK4IZhEAwLrb5yU7xxkmj9cbkirl/WH+t1i/VZ119BqrAcLmCLM+YvAoP9VFVMXkeoQX/kslZ\n",
       "qrpXcOp5gU0R3ySNqqlpskd8MzuVp8oYoPlRrYmP7IwhJQCP911MVUxmk9Y2XzI5S1V3B3xwzz1P\n",
       "ZPg0hFLK8MbSsQAoUb8ekCoqaH5Ua0T2keWXIDwHh60qJlM5Gfitd5GlqntF9NHt2Aa1Pdo+qtb6\n",
       "kZz+PEs7fbEh4qegSva5CLLd/TR5QhCeM7fYqvaT27F3fbOlPvrJOaq6V3hf4vN7u1EdyVzafc6B\n",
       "RnoZUzWT+cj7b54oGJmco6p7BfYlJtnvRvVYJpOYatYuhh3Rr7L+PmsXGaq6V1Bf4rsOdqN6KpPr\n",
       "NqYaJjMz9WxdWEEpJu+r6kxJbn7F7WO/zOQhV2MU+Q2qpzK5qmKqYXIjPz8OU+TD5H1VZZ1ACZOw\n",
       "ma9NKuZExlqEoN8rZQ8KlN2oHsvkOqYOOyN6DEXRvY2mYvpDPu4NJpm8UlV2oVAS0umNTqk8QUHQ\n",
       "FiYPPY3rlXeSvuf9T8heJidrCWftpRvenem3p5EFvjUm687RxmkiJECKoOMKYprJkarOmk7ZGJMj\n",
       "bPo338RkacIfvfIOvEiIFekn/yveheYeh3GaCPUhMw4yYoxV6n8XZbJVFYSsUf9cLyB4NOgvREp2\n",
       "UPdis9z4WW3EnA4GNCEmzycMqqF7Y25uLbzY6IfXLqJ+Mipl7WIl4tPrv+NKsJVLN9EECCo65YGi\n",
       "DX6yVRVsgCSgdagSPhokcqSkGn0VCWmtXYrJwka4t4oETmBEy1/1nwNqmOy+NQHAIteTYSnryfFk\n",
       "uJHJzXjIyqWbaaKYrGZv0W1j8qcqoOoh0MsKCB8NSaxkg/X2KiT2HhHHHEeZPJ8ArB46MNnL6353\n",
       "RjIxOZDfl0702yRO/oizx2dcRzre9CmXztpK1HvfbKLCCpM/VYHZC3Uyp4ajnYBsLTKMzIn69WY6\n",
       "U4q3ZowlAlDa0SiT5xPM5Rw/GLwLbxdX9F2BTN6NKsOYHMjvSyb6bRHco5jqZXVOuXQzTQyTMfoE\n",
       "cmiFyVbEWBvHlYpFMut4VHsHK1H3WDLYmI7X6GzKGPFZC8UkcIL2Lv78R4x3EYn4vIcripDdqB7q\n",
       "XaQziBxH5JNLZ9HE5CN1yXZ9Jjc1QO04gg9MVp3BOtoMTDVHQz/mkpx1XAzWmE9BRUHXf5b8xtaQ\n",
       "CQ1ReD15OsFKclIB5Zimkpy/CpG9qI68xStvBlFkbhEx1WWylUs304QbmkK5i8mAwQ5BiGcmU71Q\n",
       "YB0FeoVvOErrZvnDLim0X1OBqQqdjE3awW2ZfAqM1BzCaNi7mE5YbD8iBAOpiVWRr+ksBJWTP2Kr\n",
       "LpOtXLqJJrQaso13Mtn+dCTM0imdFvlCnW/h8VDQtPMHWFlD+Mhf7SoE27aAWSesT2iyLpHJhaBy\n",
       "9irl8pmRuHsdp8kxJneLERBhAP2jIFBSrzzw4ZD+qVz5bn2IIQvf/3PC+nm8yK2RQlDVJKpe8Rwf\n",
       "hfWQr7xwi9q+7yvv6LwCZ/UoNRmIMeWaG/cKbsi1s3dGphPEer+k/Xm51RgyPgK6POQTGYy5yP5o\n",
       "M80y4Fuo5T6Renirrj7vPiEgzLLQDVlKPqoDxlxkf7SZ980tu4Sd5lJSMbyESpIHoDpgzEX2x5uR\n",
       "VVx9mez76KftjeBxT7GGD0B1wJiL7I834zxX+77hcA0LO5FP2Hlt5o2oDhhzkf2RZpywlb9vnb0v\n",
       "zjcvooT1M1AdMOYi+yPNOKnP1fsm8NXo6LTHEIn8/HgAqgPGXGR/uJn32xkeNCgzqe8AfwaqA8Zc\n",
       "ZH+4GYfajvoyOSTtWYMylgiyu3L5XVQHjLnI/mAz3bInOurL5KDQM7+DEbUPQnXAmIvs95qpREp9\n",
       "mRwWSE67O7gWz0B1wJiL7A82837b7zE557vK9beU3vkt6Iu2Dxhzkf2hZpxMGz/xJhuTOca4pNSb\n",
       "9oyRR/D152QuQ3XAmIvsDzRDW5xQNfdyTaOVfi9BUTnqpMTn+X4VFXaY2zqvutfsI/8D/iR9Bshx\n",
       "ZYkAAAAASUVORK5CYII=\n",
       "\" style=\"display:inline;vertical-align:middle;\" /></a></span>"
      ],
      "text/plain": [
       "|- forall_{n in NaturalPos} [forall_{x_{1}, x_{2}, ..., x_{n}, y in Complex | y != 0} (((x_{1} +  x_{2} +  ... +  x_{n}) / y) = ((x_{1} / y) +  (x_{2} / y) +  ... +  (x_{n} / y)))]"
      ]
     },
     "metadata": {},
     "output_type": "display_data"
    }
   ],
   "source": [
    "from proveit.numbers.division import distribute_frac_through_sum\n",
    "distribute_frac_through_sum"
   ]
  },
  {
   "cell_type": "code",
   "execution_count": 27,
   "metadata": {},
   "outputs": [
    {
     "data": {
      "text/html": [
       "<span style=\"font-size:20px;\"><a class=\"ProveItLink\" href=\"../../ordering/__pv_it/theorems/4aa8d696b1f407d6126de9f51a052e8d90e0848c0/expr.ipynb\"><img src=\"data:image/png;base64,iVBORw0KGgoAAAANSUhEUgAAADMAAAAQBAMAAABJt1qBAAAAMFBMVEX////MzMwyMjKqqqoiIiJm\n",
       "ZmaYmJju7u5EREQQEBC6urqIiIh2dnZUVFTc3NwAAAAqL9KcAAAAAXRSTlMAQObYZgAAAAlwSFlz\n",
       "AAAOxAAADsQBlSsOGwAAAM1JREFUGNNjYMAASTP6VWYkMGAFDW8Z1mYUYJd6w8DBeAGXFOsDBRSh\n",
       "HS4uCnCpBmSZRdsRunjLQQby3dm3ASTAp45koITRAyBj5QOO7yABpgdwqZcqX0AmsE9jYHUASyE5\n",
       "I60IRLN+YGA5AGJIugBBA0SKowzkZc4GhvoFIIEKJF2MAe1Aun4DQz5YgAXZX4EvQFIGDJeYQS7g\n",
       "3oAkVcENNJFjA7MrK1hEGS71lIEtoQvowtsH324Ei9R2FcBCvo+hQ98AOTjWtLgghxwApbZCEcpv\n",
       "FP8AAAAASUVORK5CYII=\n",
       "\" style=\"display:inline;vertical-align:middle;\" /></a>, <a class=\"ProveItLink\" href=\"../../ordering/__pv_it/theorems/6e5cad5b2984ed0d75bd47bd0c542ec447a4f3570/expr.ipynb\"><img src=\"data:image/png;base64,iVBORw0KGgoAAAANSUhEUgAAADEAAAAQBAMAAABNQoq8AAAAMFBMVEX///+YmJjMzMzc3NyIiIhU\n",
       "VFR2dna6urqqqqpmZmYyMjIiIiIQEBBERETu7u4AAAD7tRWPAAAAAXRSTlMAQObYZgAAAAlwSFlz\n",
       "AAAOxAAADsQBlSsOGwAAANZJREFUGNNjYEAHUmfvrz4rAGTw3dmAJnXBlKFU9gGQwTUBXcaMgZcp\n",
       "AMjgb8CU4TRYAGTUP4CK+O7evQAucwHIyIZKVPkh9LC+A5m21CUCxGdeh2SabpcB0G2/Hrw3ADnE\n",
       "AC5js/o3SD/HPwYeB5AMkgsEX4FozgUM/AlAWmc3EFyAyPA+BPmUO4GhHuTut0h6mCbcg3hnPsjd\n",
       "3Mj+mWQLklHgOwjiszggybxlARrHKsALCZ4VcBlLBkaB60BXh02ECDy9/gAW1pcZ7q5HDrOy25DQ\n",
       "gQIAY/lDzDbeA58AAAAASUVORK5CYII=\n",
       "\" style=\"display:inline;vertical-align:middle;\" /></a>, <a class=\"ProveItLink\" href=\"../../exponentiation/__pv_it/theorems/d550e8309ef79ca46e4c9fb5617a392ea678789b0/expr.ipynb\"><img src=\"data:image/png;base64,iVBORw0KGgoAAAANSUhEUgAAADEAAAAQBAMAAABNQoq8AAAAMFBMVEX///9UVFQyMjK6urru7u4Q\n",
       "EBBERERmZmaqqqoiIiLc3NzMzMyYmJiIiIh2dnYAAABC1PP/AAAAAXRSTlMAQObYZgAAAAlwSFlz\n",
       "AAAOxAAADsQBlSsOGwAAAL1JREFUGNNjYEAHh8LyNcMOMGADCQsZDI85YJVZx8DGLYBDhn2BArLI\n",
       "tZkzFeAyCUgSRlcQehhdwKa9vbMBSHKpIJm2rWkBkLGygR2klWkBXGap5k+w/nkMrBdAMkguOOME\n",
       "otm/QPhbZwJBAkSGzQfkU1aoK9yQ9HAXpABp/wsQPieyf6qXAWl+oEYDIM17AUnGjRcoCnQYH8jV\n",
       "DBpwmeUMPAeSgYx3ZyBedEx2gIV1FkOafgNSINhlzkQOLQDcXDjPgdalcwAAAABJRU5ErkJggg==\n",
       "\" style=\"display:inline;vertical-align:middle;\" /></a>, <a class=\"ProveItLink\" href=\"../__pv_it/demonstrations/41c3ad9f29c40b69fd61c49f41684c1b813e9e850/expr.ipynb\"><img src=\"data:image/png;base64,iVBORw0KGgoAAAANSUhEUgAAADMAAAAQBAMAAABJt1qBAAAAMFBMVEX///+YmJhERESIiIhUVFTc\n",
       "3NwiIiJ2dnbu7u66urqqqqpmZmYQEBAyMjLMzMwAAAA7oY0NAAAAAXRSTlMAQObYZgAAAAlwSFlz\n",
       "AAAOxAAADsQBlSsOGwAAANxJREFUGNNjYMAAsof0rx0SgLD57mxAkVMIYZgi1ABh8y9AlQpnYOJz\n",
       "gLDnN6BLcQdcgLDLIJRRWtoFuJQCROw2mJxrgdDF0gEykNXd7hdIgPUGkoGP1gYAGXMCmH6ABHgD\n",
       "4FIx176BTOA4yMANtoEXyRmCvSCa+wMDWwGI8SYNCBQgUkyNIC/zKDD0TwAJNCHp4tugAaT7DRjk\n",
       "wQJsyP7aFwSSWsDgywVyAbMBklQTM9BEJgOubG6wyC24VDQDo4Am0IXOdSF2YJEWzQZYyKsyKN1H\n",
       "CdfpamkXkLgAdQoz5LsD3PAAAAAASUVORK5CYII=\n",
       "\" style=\"display:inline;vertical-align:middle;\" /></a>, <a class=\"ProveItLink\" href=\"../__pv_it/demonstrations/4a82d58b126555a18b104ddba47c5351567eeaea0/expr.ipynb\"><img src=\"data:image/png;base64,iVBORw0KGgoAAAANSUhEUgAAADEAAAAUCAMAAAATIyWrAAAAPFBMVEX///8NDQ0WFhYLCwsYGBiY\n",
       "mJhERESIiIhUVFTc3NwiIiJ2dnbu7u66urqqqqpmZmYQEBAyMjLMzMwAAADYQ0HGAAAAAXRSTlMA\n",
       "QObYZgAAAAlwSFlzAAAOxAAADsQBlSsOGwAAAOJJREFUKM+VkusShCAIhd2Ll0RF8f3fdcWmDXNy\n",
       "Jn5UQsePoyi1Cgz3NSoZ56SRKwCLm0zUNCkMiUVp9eCFJNapA3JioX3nCCr4GSF7MF2exL5lshHd\n",
       "0HSv09775sDSbKNIRDgUmvfKrWROHPoe3w8/D85WYVfYps4sw7JEnIr2wsqfHq4uRl9hV0RmZNMT\n",
       "cYk4nKdmN7BK6SpGg/t/v3Y3//My/SZ0sxv6Ibmi0rBpud6nzuqwaxojeVRD32keMs9TknlugrNA\n",
       "m7O0RLT/EKyju0lOoB5GCQ8F+jHCP0UoWhV/QRoJ0UnVlJEAAAAASUVORK5CYII=\n",
       "\" style=\"display:inline;vertical-align:middle;\" /></a> <a class=\"ProveItLink\" href=\"../__pv_it/demonstrations/bbac1f8d43e8f09a3dc3fa4ece2a4c6c37cc14c70/proof.ipynb\" style=\"text-decoration: none\">&nbsp;&#x22A2;&nbsp;&nbsp;</a><a class=\"ProveItLink\" href=\"../__pv_it/demonstrations/be611eabd7baede7ec2603fcb465b1fc330785c60/expr.ipynb\"><img src=\"data:image/png;base64,iVBORw0KGgoAAAANSUhEUgAAAOoAAAAyBAMAAACg11o/AAAAMFBMVEX///8AAAAAAAAAAAAAAAAA\n",
       "AAAAAAAAAAAAAAAAAAAAAAAAAAAAAAAAAAAAAAAAAAAv3aB7AAAAD3RSTlMAIquJdkTvuxBmmd1U\n",
       "zTKBpmoTAAAACXBIWXMAAA7EAAAOxAGVKw4bAAADp0lEQVRYw8VYT0gUURj/dN3d2XF0F4kuHRJW\n",
       "gqhAzEsJspWHuqinwNNaRFYSLBISBbV4qOPuoUuX1luEiJLhwSmYwFuHloIQT3bpEuKaSquY9ebP\n",
       "zsyb972Z8U3gd9i3+735vt973/u+781vAaLIk0NbSA8hqjSXD2/zs8hZzuR8SA9Z3sTzca6NwnPe\n",
       "Nh0ONFXlTq3yrXo8v0esMa1ZX+L+ETye4U7t861aPU6XrTHfCL2S80V9x52J1/lWyh0ctQ9CoaZG\n",
       "uVMxv8wwot+UvZSjUb8MnPWg9l5bY60T3cbQ0XuMzYyuyxqyloFXRij1g7meSdYpVOlPsZShUE9o\n",
       "coF1MmQcRPwGPGWKobQibTLPN72H18aSOgnGXZDnKVSlDokchbrQUFDy1vh8VoYZZupzEW6xadRt\n",
       "Kol/kGv6T4AZVb2tqronuQppopFVdXFcVcnCZDQ32g+MYU5flFdmAbYY5ZwVEmmbnE4BSsPUXski\n",
       "8pp7r4kC2pjMZBoDaYeZW4A4WztjjS+PyRHkoELnMClXa1kWaglN5USntfBUDSlXNj76Fk2pZKCk\n",
       "wTklQ6GukbN2o6ZJXQ8znjeMapf2obn60Tt3oB+3V3ZJ6pm7KEMypyzJ1F6by8lpCpUkcIytnCFz\n",
       "qQ/g0zTTQU/DIzY4JIH7G1GSuvo7BunKyb7xdInzL6+yTibNYerK9y5mSVMXkV4au/DCPLjkPNab\n",
       "IFRvGhO+IGM1rPs77dSn+0t7wqipHWHT9m1WN4JdBOVQpiFFQS6zZey53H8N04EwKvwSRm3ZFEf9\n",
       "fSgk0pp1MZpSrC6Oel94r3IEVBX+hhSm+ZtFl7YnnUvLUTr3FphAptGi+LtwTXyvi8LnGi3Cwm1t\n",
       "8yiyqSVCvd48ki6B96b2b8GcQ3Fa+Po9BLWhdKNafqUt3GVaC+7+uyy/GEFIB9X9Tb+87p8vBod4\n",
       "z59foErTr8JhQX0hDvaDP79AlX3cFh5ABG055c88UeUqt8EQ4jO4HwK1Yp1CR+8GmwWY0vaLvl87\n",
       "xMdXLLcoz0GVtt+TSDHpxKcaAtV8C9dffGeZOUzp+K0gbLtBfAKb8iif52BKx+8ZbA8O8fGV+A6f\n",
       "52BKxy9Wri7i4y9LXJ6DKm2/KSxrXMQnRBKjPAdV2n5bOxFnLuITkE7dXJ6DKW2/eWxLLuITcOvU\n",
       "+TwHUdp+J6L9ofdVyCpej4b6IyNi1apFQ20piFj1QETJigS4GhW1TSBY68WoqCL/Sq/on/8AUfZT\n",
       "i9D9zGQAAAAASUVORK5CYII=\n",
       "\" style=\"display:inline;vertical-align:middle;\" /></a></span>"
      ],
      "text/plain": [
       "{a in Real, b in Real, c in Real, d in Real, d != 0} |- ((a + b + c) / d) = ((a / d) + (b / d) + (c / d))"
      ]
     },
     "metadata": {},
     "output_type": "display_data"
    }
   ],
   "source": [
    "_n_sub = num(expr_01.numerator.operands.num_entries())\n",
    "_x_sub = expr_01.numerator.operands\n",
    "_y_sub = expr_01.denominator\n",
    "distribute_frac_through_sum.instantiate(\n",
    "        {n: _n_sub, x: _x_sub, y: _y_sub}, assumptions=our_assumptions)"
   ]
  },
  {
   "cell_type": "code",
   "execution_count": 28,
   "metadata": {},
   "outputs": [
    {
     "data": {
      "text/html": [
       "<span style=\"font-size:20px;\"><a class=\"ProveItLink\" href=\"../../ordering/__pv_it/theorems/4aa8d696b1f407d6126de9f51a052e8d90e0848c0/expr.ipynb\"><img src=\"data:image/png;base64,iVBORw0KGgoAAAANSUhEUgAAADMAAAAQBAMAAABJt1qBAAAAMFBMVEX////MzMwyMjKqqqoiIiJm\n",
       "ZmaYmJju7u5EREQQEBC6urqIiIh2dnZUVFTc3NwAAAAqL9KcAAAAAXRSTlMAQObYZgAAAAlwSFlz\n",
       "AAAOxAAADsQBlSsOGwAAAM1JREFUGNNjYMAASTP6VWYkMGAFDW8Z1mYUYJd6w8DBeAGXFOsDBRSh\n",
       "HS4uCnCpBmSZRdsRunjLQQby3dm3ASTAp45koITRAyBj5QOO7yABpgdwqZcqX0AmsE9jYHUASyE5\n",
       "I60IRLN+YGA5AGJIugBBA0SKowzkZc4GhvoFIIEKJF2MAe1Aun4DQz5YgAXZX4EvQFIGDJeYQS7g\n",
       "3oAkVcENNJFjA7MrK1hEGS71lIEtoQvowtsH324Ei9R2FcBCvo+hQ98AOTjWtLgghxwApbZCEcpv\n",
       "FP8AAAAASUVORK5CYII=\n",
       "\" style=\"display:inline;vertical-align:middle;\" /></a>, <a class=\"ProveItLink\" href=\"../../ordering/__pv_it/theorems/6e5cad5b2984ed0d75bd47bd0c542ec447a4f3570/expr.ipynb\"><img src=\"data:image/png;base64,iVBORw0KGgoAAAANSUhEUgAAADEAAAAQBAMAAABNQoq8AAAAMFBMVEX///+YmJjMzMzc3NyIiIhU\n",
       "VFR2dna6urqqqqpmZmYyMjIiIiIQEBBERETu7u4AAAD7tRWPAAAAAXRSTlMAQObYZgAAAAlwSFlz\n",
       "AAAOxAAADsQBlSsOGwAAANZJREFUGNNjYEAHUmfvrz4rAGTw3dmAJnXBlKFU9gGQwTUBXcaMgZcp\n",
       "AMjgb8CU4TRYAGTUP4CK+O7evQAucwHIyIZKVPkh9LC+A5m21CUCxGdeh2SabpcB0G2/Hrw3ADnE\n",
       "AC5js/o3SD/HPwYeB5AMkgsEX4FozgUM/AlAWmc3EFyAyPA+BPmUO4GhHuTut0h6mCbcg3hnPsjd\n",
       "3Mj+mWQLklHgOwjiszggybxlARrHKsALCZ4VcBlLBkaB60BXh02ECDy9/gAW1pcZ7q5HDrOy25DQ\n",
       "gQIAY/lDzDbeA58AAAAASUVORK5CYII=\n",
       "\" style=\"display:inline;vertical-align:middle;\" /></a>, <a class=\"ProveItLink\" href=\"../../exponentiation/__pv_it/theorems/d550e8309ef79ca46e4c9fb5617a392ea678789b0/expr.ipynb\"><img src=\"data:image/png;base64,iVBORw0KGgoAAAANSUhEUgAAADEAAAAQBAMAAABNQoq8AAAAMFBMVEX///9UVFQyMjK6urru7u4Q\n",
       "EBBERERmZmaqqqoiIiLc3NzMzMyYmJiIiIh2dnYAAABC1PP/AAAAAXRSTlMAQObYZgAAAAlwSFlz\n",
       "AAAOxAAADsQBlSsOGwAAAL1JREFUGNNjYEAHh8LyNcMOMGADCQsZDI85YJVZx8DGLYBDhn2BArLI\n",
       "tZkzFeAyCUgSRlcQehhdwKa9vbMBSHKpIJm2rWkBkLGygR2klWkBXGap5k+w/nkMrBdAMkguOOME\n",
       "otm/QPhbZwJBAkSGzQfkU1aoK9yQ9HAXpABp/wsQPieyf6qXAWl+oEYDIM17AUnGjRcoCnQYH8jV\n",
       "DBpwmeUMPAeSgYx3ZyBedEx2gIV1FkOafgNSINhlzkQOLQDcXDjPgdalcwAAAABJRU5ErkJggg==\n",
       "\" style=\"display:inline;vertical-align:middle;\" /></a>, <a class=\"ProveItLink\" href=\"../__pv_it/demonstrations/41c3ad9f29c40b69fd61c49f41684c1b813e9e850/expr.ipynb\"><img src=\"data:image/png;base64,iVBORw0KGgoAAAANSUhEUgAAADMAAAAQBAMAAABJt1qBAAAAMFBMVEX///+YmJhERESIiIhUVFTc\n",
       "3NwiIiJ2dnbu7u66urqqqqpmZmYQEBAyMjLMzMwAAAA7oY0NAAAAAXRSTlMAQObYZgAAAAlwSFlz\n",
       "AAAOxAAADsQBlSsOGwAAANxJREFUGNNjYMAAsof0rx0SgLD57mxAkVMIYZgi1ABh8y9AlQpnYOJz\n",
       "gLDnN6BLcQdcgLDLIJRRWtoFuJQCROw2mJxrgdDF0gEykNXd7hdIgPUGkoGP1gYAGXMCmH6ABHgD\n",
       "4FIx176BTOA4yMANtoEXyRmCvSCa+wMDWwGI8SYNCBQgUkyNIC/zKDD0TwAJNCHp4tugAaT7DRjk\n",
       "wQJsyP7aFwSSWsDgywVyAbMBklQTM9BEJgOubG6wyC24VDQDo4Am0IXOdSF2YJEWzQZYyKsyKN1H\n",
       "CdfpamkXkLgAdQoz5LsD3PAAAAAASUVORK5CYII=\n",
       "\" style=\"display:inline;vertical-align:middle;\" /></a>, <a class=\"ProveItLink\" href=\"../__pv_it/demonstrations/4a82d58b126555a18b104ddba47c5351567eeaea0/expr.ipynb\"><img src=\"data:image/png;base64,iVBORw0KGgoAAAANSUhEUgAAADEAAAAUCAMAAAATIyWrAAAAPFBMVEX///8NDQ0WFhYLCwsYGBiY\n",
       "mJhERESIiIhUVFTc3NwiIiJ2dnbu7u66urqqqqpmZmYQEBAyMjLMzMwAAADYQ0HGAAAAAXRSTlMA\n",
       "QObYZgAAAAlwSFlzAAAOxAAADsQBlSsOGwAAAOJJREFUKM+VkusShCAIhd2Ll0RF8f3fdcWmDXNy\n",
       "Jn5UQsePoyi1Cgz3NSoZ56SRKwCLm0zUNCkMiUVp9eCFJNapA3JioX3nCCr4GSF7MF2exL5lshHd\n",
       "0HSv09775sDSbKNIRDgUmvfKrWROHPoe3w8/D85WYVfYps4sw7JEnIr2wsqfHq4uRl9hV0RmZNMT\n",
       "cYk4nKdmN7BK6SpGg/t/v3Y3//My/SZ0sxv6Ibmi0rBpud6nzuqwaxojeVRD32keMs9TknlugrNA\n",
       "m7O0RLT/EKyju0lOoB5GCQ8F+jHCP0UoWhV/QRoJ0UnVlJEAAAAASUVORK5CYII=\n",
       "\" style=\"display:inline;vertical-align:middle;\" /></a> <a class=\"ProveItLink\" href=\"../__pv_it/demonstrations/bbac1f8d43e8f09a3dc3fa4ece2a4c6c37cc14c70/proof.ipynb\" style=\"text-decoration: none\">&nbsp;&#x22A2;&nbsp;&nbsp;</a><a class=\"ProveItLink\" href=\"../__pv_it/demonstrations/be611eabd7baede7ec2603fcb465b1fc330785c60/expr.ipynb\"><img src=\"data:image/png;base64,iVBORw0KGgoAAAANSUhEUgAAAOoAAAAyBAMAAACg11o/AAAAMFBMVEX///8AAAAAAAAAAAAAAAAA\n",
       "AAAAAAAAAAAAAAAAAAAAAAAAAAAAAAAAAAAAAAAAAAAv3aB7AAAAD3RSTlMAIquJdkTvuxBmmd1U\n",
       "zTKBpmoTAAAACXBIWXMAAA7EAAAOxAGVKw4bAAADp0lEQVRYw8VYT0gUURj/dN3d2XF0F4kuHRJW\n",
       "gqhAzEsJspWHuqinwNNaRFYSLBISBbV4qOPuoUuX1luEiJLhwSmYwFuHloIQT3bpEuKaSquY9ebP\n",
       "zsyb972Z8U3gd9i3+735vt973/u+781vAaLIk0NbSA8hqjSXD2/zs8hZzuR8SA9Z3sTzca6NwnPe\n",
       "Nh0ONFXlTq3yrXo8v0esMa1ZX+L+ETye4U7t861aPU6XrTHfCL2S80V9x52J1/lWyh0ctQ9CoaZG\n",
       "uVMxv8wwot+UvZSjUb8MnPWg9l5bY60T3cbQ0XuMzYyuyxqyloFXRij1g7meSdYpVOlPsZShUE9o\n",
       "coF1MmQcRPwGPGWKobQibTLPN72H18aSOgnGXZDnKVSlDokchbrQUFDy1vh8VoYZZupzEW6xadRt\n",
       "Kol/kGv6T4AZVb2tqronuQppopFVdXFcVcnCZDQ32g+MYU5flFdmAbYY5ZwVEmmbnE4BSsPUXski\n",
       "8pp7r4kC2pjMZBoDaYeZW4A4WztjjS+PyRHkoELnMClXa1kWaglN5USntfBUDSlXNj76Fk2pZKCk\n",
       "wTklQ6GukbN2o6ZJXQ8znjeMapf2obn60Tt3oB+3V3ZJ6pm7KEMypyzJ1F6by8lpCpUkcIytnCFz\n",
       "qQ/g0zTTQU/DIzY4JIH7G1GSuvo7BunKyb7xdInzL6+yTibNYerK9y5mSVMXkV4au/DCPLjkPNab\n",
       "IFRvGhO+IGM1rPs77dSn+0t7wqipHWHT9m1WN4JdBOVQpiFFQS6zZey53H8N04EwKvwSRm3ZFEf9\n",
       "fSgk0pp1MZpSrC6Oel94r3IEVBX+hhSm+ZtFl7YnnUvLUTr3FphAptGi+LtwTXyvi8LnGi3Cwm1t\n",
       "8yiyqSVCvd48ki6B96b2b8GcQ3Fa+Po9BLWhdKNafqUt3GVaC+7+uyy/GEFIB9X9Tb+87p8vBod4\n",
       "z59foErTr8JhQX0hDvaDP79AlX3cFh5ABG055c88UeUqt8EQ4jO4HwK1Yp1CR+8GmwWY0vaLvl87\n",
       "xMdXLLcoz0GVtt+TSDHpxKcaAtV8C9dffGeZOUzp+K0gbLtBfAKb8iif52BKx+8ZbA8O8fGV+A6f\n",
       "52BKxy9Wri7i4y9LXJ6DKm2/KSxrXMQnRBKjPAdV2n5bOxFnLuITkE7dXJ6DKW2/eWxLLuITcOvU\n",
       "+TwHUdp+J6L9ofdVyCpej4b6IyNi1apFQ20piFj1QETJigS4GhW1TSBY68WoqCL/Sq/on/8AUfZT\n",
       "i9D9zGQAAAAASUVORK5CYII=\n",
       "\" style=\"display:inline;vertical-align:middle;\" /></a></span>"
      ],
      "text/plain": [
       "{a in Real, b in Real, c in Real, d in Real, d != 0} |- ((a + b + c) / d) = ((a / d) + (b / d) + (c / d))"
      ]
     },
     "metadata": {},
     "output_type": "display_data"
    }
   ],
   "source": [
    "expr_01.distribution(assumptions=our_assumptions)"
   ]
  },
  {
   "cell_type": "code",
   "execution_count": 29,
   "metadata": {},
   "outputs": [
    {
     "data": {
      "text/html": [
       "<strong id=\"expr_04\">expr_04:</strong> <a class=\"ProveItLink\" href=\"../__pv_it/demonstrations/33c1abcb8ce5955e33ae25bb03607233f2f4729b0/expr.ipynb\"><img src=\"data:image/png;base64,iVBORw0KGgoAAAANSUhEUgAAAC4AAAArBAMAAAD1Wqe3AAAAMFBMVEX////MzMwyMjKqqqoiIiJm\n",
       "ZmaYmJju7u5EREQQEBC6urqIiIh2dnZUVFTc3NwAAAAqL9KcAAAAAXRSTlMAQObYZgAAAAlwSFlz\n",
       "AAAOxAAADsQBlSsOGwAAAOZJREFUOMtjYMAA7J0ODFgBUwB2cX4D7OLrC7CLHwGTfHf2bUAV1919\n",
       "GUiufMDxHdU9nwrqHzCwT2NgRXUX83cGzg0MrB8YWA6AVKm4gIAAAwOrAgP/AQbOBob6BSjqgcrW\n",
       "GzDUb2DIx3B+fAFDvQHDJeYHKOICQDsZODYwu7KiqOdN4AAGBPvtg283orrzThjD8AX/sYNB4Tah\n",
       "qTgkPmMX5vqOXZyHpIT/9rQ8toTPNY+hH1vCr0xgCMJmTDwDgw828RkM7L+wCLP/ZmD7gE38MwOv\n",
       "gh0WiW4GkwBs7q/dI3dbAM4DAKcQSxEOWcr8AAAAAElFTkSuQmCC\n",
       "\" style=\"display:inline;vertical-align:middle;\" /></a><br>"
      ],
      "text/plain": [
       "<IPython.core.display.HTML object>"
      ]
     },
     "metadata": {},
     "output_type": "display_data"
    }
   ],
   "source": [
    "expr_04 = frac(subtract(a, b), d)"
   ]
  },
  {
   "cell_type": "code",
   "execution_count": 30,
   "metadata": {},
   "outputs": [
    {
     "data": {
      "text/html": [
       "<strong id=\"expr_04_dist\">expr_04_dist:</strong> <span style=\"font-size:20px;\"><a class=\"ProveItLink\" href=\"../../ordering/__pv_it/theorems/4aa8d696b1f407d6126de9f51a052e8d90e0848c0/expr.ipynb\"><img src=\"data:image/png;base64,iVBORw0KGgoAAAANSUhEUgAAADMAAAAQBAMAAABJt1qBAAAAMFBMVEX////MzMwyMjKqqqoiIiJm\n",
       "ZmaYmJju7u5EREQQEBC6urqIiIh2dnZUVFTc3NwAAAAqL9KcAAAAAXRSTlMAQObYZgAAAAlwSFlz\n",
       "AAAOxAAADsQBlSsOGwAAAM1JREFUGNNjYMAASTP6VWYkMGAFDW8Z1mYUYJd6w8DBeAGXFOsDBRSh\n",
       "HS4uCnCpBmSZRdsRunjLQQby3dm3ASTAp45koITRAyBj5QOO7yABpgdwqZcqX0AmsE9jYHUASyE5\n",
       "I60IRLN+YGA5AGJIugBBA0SKowzkZc4GhvoFIIEKJF2MAe1Aun4DQz5YgAXZX4EvQFIGDJeYQS7g\n",
       "3oAkVcENNJFjA7MrK1hEGS71lIEtoQvowtsH324Ei9R2FcBCvo+hQ98AOTjWtLgghxwApbZCEcpv\n",
       "FP8AAAAASUVORK5CYII=\n",
       "\" style=\"display:inline;vertical-align:middle;\" /></a>, <a class=\"ProveItLink\" href=\"../../ordering/__pv_it/theorems/6e5cad5b2984ed0d75bd47bd0c542ec447a4f3570/expr.ipynb\"><img src=\"data:image/png;base64,iVBORw0KGgoAAAANSUhEUgAAADEAAAAQBAMAAABNQoq8AAAAMFBMVEX///+YmJjMzMzc3NyIiIhU\n",
       "VFR2dna6urqqqqpmZmYyMjIiIiIQEBBERETu7u4AAAD7tRWPAAAAAXRSTlMAQObYZgAAAAlwSFlz\n",
       "AAAOxAAADsQBlSsOGwAAANZJREFUGNNjYEAHUmfvrz4rAGTw3dmAJnXBlKFU9gGQwTUBXcaMgZcp\n",
       "AMjgb8CU4TRYAGTUP4CK+O7evQAucwHIyIZKVPkh9LC+A5m21CUCxGdeh2SabpcB0G2/Hrw3ADnE\n",
       "AC5js/o3SD/HPwYeB5AMkgsEX4FozgUM/AlAWmc3EFyAyPA+BPmUO4GhHuTut0h6mCbcg3hnPsjd\n",
       "3Mj+mWQLklHgOwjiszggybxlARrHKsALCZ4VcBlLBkaB60BXh02ECDy9/gAW1pcZ7q5HDrOy25DQ\n",
       "gQIAY/lDzDbeA58AAAAASUVORK5CYII=\n",
       "\" style=\"display:inline;vertical-align:middle;\" /></a>, <a class=\"ProveItLink\" href=\"../__pv_it/demonstrations/41c3ad9f29c40b69fd61c49f41684c1b813e9e850/expr.ipynb\"><img src=\"data:image/png;base64,iVBORw0KGgoAAAANSUhEUgAAADMAAAAQBAMAAABJt1qBAAAAMFBMVEX///+YmJhERESIiIhUVFTc\n",
       "3NwiIiJ2dnbu7u66urqqqqpmZmYQEBAyMjLMzMwAAAA7oY0NAAAAAXRSTlMAQObYZgAAAAlwSFlz\n",
       "AAAOxAAADsQBlSsOGwAAANxJREFUGNNjYMAAsof0rx0SgLD57mxAkVMIYZgi1ABh8y9AlQpnYOJz\n",
       "gLDnN6BLcQdcgLDLIJRRWtoFuJQCROw2mJxrgdDF0gEykNXd7hdIgPUGkoGP1gYAGXMCmH6ABHgD\n",
       "4FIx176BTOA4yMANtoEXyRmCvSCa+wMDWwGI8SYNCBQgUkyNIC/zKDD0TwAJNCHp4tugAaT7DRjk\n",
       "wQJsyP7aFwSSWsDgywVyAbMBklQTM9BEJgOubG6wyC24VDQDo4Am0IXOdSF2YJEWzQZYyKsyKN1H\n",
       "CdfpamkXkLgAdQoz5LsD3PAAAAAASUVORK5CYII=\n",
       "\" style=\"display:inline;vertical-align:middle;\" /></a>, <a class=\"ProveItLink\" href=\"../__pv_it/demonstrations/4a82d58b126555a18b104ddba47c5351567eeaea0/expr.ipynb\"><img src=\"data:image/png;base64,iVBORw0KGgoAAAANSUhEUgAAADEAAAAUCAMAAAATIyWrAAAAPFBMVEX///8NDQ0WFhYLCwsYGBiY\n",
       "mJhERESIiIhUVFTc3NwiIiJ2dnbu7u66urqqqqpmZmYQEBAyMjLMzMwAAADYQ0HGAAAAAXRSTlMA\n",
       "QObYZgAAAAlwSFlzAAAOxAAADsQBlSsOGwAAAOJJREFUKM+VkusShCAIhd2Ll0RF8f3fdcWmDXNy\n",
       "Jn5UQsePoyi1Cgz3NSoZ56SRKwCLm0zUNCkMiUVp9eCFJNapA3JioX3nCCr4GSF7MF2exL5lshHd\n",
       "0HSv09775sDSbKNIRDgUmvfKrWROHPoe3w8/D85WYVfYps4sw7JEnIr2wsqfHq4uRl9hV0RmZNMT\n",
       "cYk4nKdmN7BK6SpGg/t/v3Y3//My/SZ0sxv6Ibmi0rBpud6nzuqwaxojeVRD32keMs9TknlugrNA\n",
       "m7O0RLT/EKyju0lOoB5GCQ8F+jHCP0UoWhV/QRoJ0UnVlJEAAAAASUVORK5CYII=\n",
       "\" style=\"display:inline;vertical-align:middle;\" /></a> <a class=\"ProveItLink\" href=\"../__pv_it/demonstrations/80a995a83245ecab41d8b6dcff00bcbc4515e6c30/proof.ipynb\" style=\"text-decoration: none\">&nbsp;&#x22A2;&nbsp;&nbsp;</a><a class=\"ProveItLink\" href=\"../__pv_it/demonstrations/0e57be44f45ee0c7cad34c8f32b2737b842e568e0/expr.ipynb\"><img src=\"data:image/png;base64,iVBORw0KGgoAAAANSUhEUgAAAJ8AAAAyBAMAAACwtxTjAAAAMFBMVEX///8AAAAAAAAAAAAAAAAA\n",
       "AAAAAAAAAAAAAAAAAAAAAAAAAAAAAAAAAAAAAAAAAAAv3aB7AAAAD3RSTlMAIquJdkTvuxBmmd1U\n",
       "zTKBpmoTAAAACXBIWXMAAA7EAAAOxAGVKw4bAAAC40lEQVRIx61XvY8SQRR/gLDLwsHm/gISiImJ\n",
       "5iisvETwNLG7o7IzwGlyOW0sjIUWkiu0uiyVnWErkysuEG3Us8DG5oojFuZyWuAfYODimWCCH/PB\n",
       "cTu7b4bZhFfswsxvfrPvc94AhBCjr5p93oCwckE5m3kr3eo+Ph4tShaYjzr0tS/d6wgffildsODS\n",
       "Zywnmx+jo5G6lDDbZa93kun4CB1OlaWEVe6PTxK3xDro8Au5P5a9mkfy13xbLxRWusiqO4DDiXy+\n",
       "cZGpdkyft2zDp6JzaB4H+c5xVBBOvPyn4diMmP7ZBMun4kED7iImZD5E4ADpESTKk5VgDSFF48v8\n",
       "ukeF5sIuwM8g4YClySlcEKsHWTboENrEA3Aq4vwbiCOBc549ETjQLarM6kaHkbYCYWghgbMOk29o\n",
       "YWHYZhGTJLZ3unApbQvzf+FZM5ipvzlhEE4I+8S0zMIEZJTT7y1/DXiMOJk7HoGTJG8a7lQNs3B1\n",
       "cVWc37rSREpXjX9DEE4G8zuTX0/0SxfxhoaU9AkdVwfVqmgTDsrzQ/H06c5PD65MXweVzWkTrtla\n",
       "hErXWSy79/imJa0zLdHT/sK2FmGqA/9wCUCX+ItNDsXqlD1bkappf+GSFkpNKNhQW2VdKdlzdsqa\n",
       "VhwmcvMObDFTMl/kmXNQUaJ+3OOpV0RbCjTtm2rUGC0O1YaOMhhq0r74S8iyIiB6StSkffFn/JGc\n",
       "MFpTonhbI4Z/JL86lhMmRwrU4uUB13XDO4p1LZ4IGMtR8To8ZXaNnHiPrk3aUshlXY4ix/gunB70\n",
       "Z5mLdS0eeSVHtWn7wgzdEc9JR3VmVStS1AaYv3hsecMQ7Vq8cePKUOYJJIc8P70RinYtATdjKHMM\n",
       "0d5H+uu10GtgXUugJUZRD2Hfdact8XQfrGsR6k1Dhtq6/r1Ai5GhX7xYMhRnIarhbnuZ+izEh5B3\n",
       "x5sz5mO5kITRGTrfDn29/aY2yWFoQvUFfJu55D8cTe0yi6XOogAAAABJRU5ErkJggg==\n",
       "\" style=\"display:inline;vertical-align:middle;\" /></a></span><br>"
      ],
      "text/plain": [
       "<IPython.core.display.HTML object>"
      ]
     },
     "metadata": {},
     "output_type": "display_data"
    }
   ],
   "source": [
    "expr_04_dist = expr_04.distribution(assumptions=our_assumptions)"
   ]
  },
  {
   "cell_type": "code",
   "execution_count": 31,
   "metadata": {},
   "outputs": [
    {
     "data": {
      "text/html": [
       "<strong id=\"expr_05\">expr_05:</strong> <a class=\"ProveItLink\" href=\"../__pv_it/demonstrations/142c63af4fe42fd07d8ffbdab84576d02b700e9e0/expr.ipynb\"><img src=\"data:image/png;base64,iVBORw0KGgoAAAANSUhEUgAAAGoAAAAxBAMAAADARiGQAAAAMFBMVEX///+qqqrMzMxERESYmJjc\n",
       "3NxUVFRmZmaIiIh2dna6urru7u4iIiIQEBAyMjIAAADgwATcAAAAAXRSTlMAQObYZgAAAAlwSFlz\n",
       "AAAOxAAADsQBlSsOGwAAAmNJREFUSMdjYEACOk9XMZAOilYWEKmS7+8ZILj7//9vICcSj0JWKB0A\n",
       "Irj+gNm75v9gYGBqwKOrEUqvAJPzIa7izmFgWMIQja62+b9Z8vMNQAbjBKgIhwPYib8gPLYA1oda\n",
       "BhhW/GNgYL4NpPfBRV6D3ft3A8SyBvYt9wLQNTEBHc4IxAwlcCF3MOlvgMc3HJ+A+CeQcQEuxAu2\n",
       "he0HHl3MH4AYqJPxASLUwR7jvq+AWxc/0CH6wKBlBwYGd0e25kQGBs4EsIz+Ady6gDoiD0ItYGdo\n",
       "a6hhYGCBWMv5Hbeu/syZXiCaR4CBwZXBf0MK0LFQL74PwKnLHhYECxgYFBjqwMH6ASI0Hbdd/5B0\n",
       "MTDcAKcmiF1cuIOe6SeUAXIhA9dXht1AF0KCIWYD7uj6BYuBBgZuK7YLDMCgZIFY8ghPjoD6ARTc\n",
       "jJ+2X+ASgEQC0BgHiMQGho7Sdmi4cLUxsAEpdvvP0GzAdICBu6JB3BHkWLAX26H5p4EjIJlPoNgY\n",
       "CBx28G/QRbX1EJwVAzYWmlb4NrAwWDBBZaJlGJpRdbnDWSVIYcF4D0h8hUtlMmSgJUhYnLKCA+Pg\n",
       "7t27twateP8F6PgLrAwQFzKcYriEqovbAFk7+38o+M0Qy/mAHe4Nrg9owRkBpVvRxNm7ZnTD2OLO\n",
       "D0gv47gDYPFBCmBrWEdGecrlMYFhsID/5ACGUUAk0LtOlraP5Gji+k2OLs4D5OjiKyBdT9gMfQHS\n",
       "PXWVwX4Dybr2OkBqENJAPQPDSdJ1XWbg/kV6cfODgeUD6bo+MrA9ECVZmwWDTAHp8bWtUzUDZ4sC\n",
       "AIPwzS3lC8/PAAAAAElFTkSuQmCC\n",
       "\" style=\"display:inline;vertical-align:middle;\" /></a><br>"
      ],
      "text/plain": [
       "<IPython.core.display.HTML object>"
      ]
     },
     "metadata": {},
     "output_type": "display_data"
    }
   ],
   "source": [
    "expr_05 = frac(Sum(x, Px, domain=Interval(y, z)), d)"
   ]
  },
  {
   "cell_type": "code",
   "execution_count": 32,
   "metadata": {},
   "outputs": [
    {
     "data": {
      "text/html": [
       "<span style=\"font-size:20px;\"> <a class=\"ProveItLink\" href=\"proofs/distribute_frac_through_summation/thm_proof.ipynb\" style=\"text-decoration: none\">&nbsp;&#x22A2;&nbsp;&nbsp;</a><a class=\"ProveItLink\" href=\"../__pv_it/theorems/56ec75d1e006ae00f70305888eec71508038e27a0/expr.ipynb\"><img src=\"data:image/png;base64,iVBORw0KGgoAAAANSUhEUgAAAscAAABMCAMAAAC2wOouAAAAOVBMVEX///82NjYbGxsSEhKIiIgi\n",
       "IiIQEBB2dnbu7u5ERETMzMzc3NwyMjK6urpmZmaYmJiqqqpUVFQAAAAnLjGdAAAAAXRSTlMAQObY\n",
       "ZgAAAAlwSFlzAAAOxAAADsQBlSsOGwAADNtJREFUeNrtXYmyrSgMdGZQQGT9/48dd9kUg3r1WKZq\n",
       "purdeFzaJnZC0KI4aA0v3mW16U3fc/SnwvknqJTDQcZ/sZIA/QdM6OJ1PMaytXv49Fg4/wSV7ghS\n",
       "TzwtsAb6801V5H08Zrcd+7lw/h0qcuZpUckMf46R0/b08fjZcN7CYx47aMqfY7opPh6fZw+G8xYe\n",
       "F5rC/VkXxz8en3lk/qHi8JQZBfbnJNcvDMc38vjJcN7D44KWYH9GVvLGcHwfjx8N5008rg2C+jPi\n",
       "R1l8PD4xHJcfKj5PC1pB/RmXhj4en3lc9KES8FQFCjjlh2fXhnw8PrFYscDZmKocrar6KayTkGYb\n",
       "/3omjwvTAP1QI4YWH49PMxtObiyJQTg2J4Vq5MYujn6Ax9rUMD/8eOrj8Zm3z4ITG+FwXMOlM6LG\n",
       "UK1pI+ZYrrC/jXw+j7nBMD/U6DtlxV08duFsvNqFzjin8YlLp7luEj6BG3ILKpvyxuNpYSqYH/wc\n",
       "fGW14i4ee3Ay43ZaEJRxHWjMhMbfijD6SnEHKtvyxucp9YRDyg8O//jj8ZlPU+z9+2j2gcb7i6Y9\n",
       "x+LW7r6kXFTg8sbnKQqQ2faD02v+8fjMagX3/3Awt6PGjVcqltg38nJUoPLG52ntVSRSfqBVpvh4\n",
       "fJ4FcJLqYCI+BvS5LC3wJFF6gUH65t3dLbzZqIDljc/Twqs6pvyfPL6RxxE462MID/xhuFRe6MWF\n",
       "qmY6yOZqVMDyJuCpl/Om/DBTL60e38TjGJxe8Q3MH40xthZwjISuVSG6ATK0PKrqalTA8ibgqXAV\n",
       "VsoPM/HWNO8eHkfhbI6cCfVvdzVQuo18VXff+/+1F3s1KivyxlE3jrwJeOqlvCk/zJqXzoLcxOMo\n",
       "nPhIPA6yn2oKzbzTk/UQHvnV8XhN3jjqxpE3AU9rt0Kc8kPzkvrj8ZlpXggn3xdmOEZIojq4Cj/A\n",
       "z0wSHWnQcO9VeTEqK/LGVTeOvAl4SozZ5LHnBw73l87m3cTjCJyby9prpCntyaFQVB6gIPmhk4qk\n",
       "evpfSwoKRaUxK4Yg8sZVN875BzxtwamL/X6QMfPWststPI7B2WzcHCFm5xDJdChUApUybdO9W4Ab\n",
       "aatVACrKeLQhjCNdmZWH+6q8sdWNI29CnpaO6Er5gfl1+fH4zHJFACd1y6ykm7/VI2PtCbCBkN4p\n",
       "i24WzQuQ9XQIojES40WWHIyKNrF7L+NkWpc3trpx5E3I08aJ9Sk/UPY0H4/PsxBO5OZ4DHUtFm0I\n",
       "q9s7T6jzU0P3TcqVVhjFzahdMlAp468VEjR6YWvyxlY3jrwJeaqdwZDygww7tQ5UloeyPrbbx/L2\n",
       "DDnBO3iM/dIR93jdkIKRLmqhdkPu8JYose91VeOsWUdhUg1RUcgMVLpXZMV+J1isDrMmb2x148ib\n",
       "kKfu9aX8INPOT/GxVgukdvv2tH4TTMumQazG1vb7T/EOHmvvTng5nqp6Wuv2gjTqqlS0NzXojY4P\n",
       "u45C+wsr0bCn7jD7C682Ku0jIIqRDEP0uryx1Y0jb0KeYudpteJfAFSAl9lQZ66pI0nefvrtx8EY\n",
       "aY3Kaf1uk452GyIMFdb2cB7nXxDcqDd1VyoyGGM1R80Y/7q7XbXPlXoBhSsAHwc9oiQS3CY2fHRT\n",
       "cyA9sp6Mo7px5U2Mpzv8Yr7BDSAONQGP8/ZTOP1PfmtUTuu3QByPmktY28N5nH1BGebC2T4ofSMj\n",
       "A4bIS2cMhvca7u2yZ25sRIDrcnhMKpM/Zz7IG1vduPJGRmqIVdpfT3GHQWb3SkdadyTJ249zEUFr\n",
       "VEbrdy3mu6yFrQrBPM6+oJwYtStTUULSZjijKaaJWgiM/0AIuWqLt0Mru9bVPwUsdeMBHPJUOlXJ\n",
       "Nf8U4DDkxKqAx3n7Kez+p6A1ak/rN6LdsuI5bmtSTKgQaW0f5zElG3cs94IyrNrDY8LmalybAtBx\n",
       "HuSeKg42JvvVoL28sdSNJ29yeSzHmNfAgEc+j7P24/Q/+a1RO1q/eYNcOGnBRGz7OI9runHHMi8o\n",
       "j8c78tc2xeO3VTv97LfV7Nnnsi1vQp6qBI9H//CuhArDgJdBvSJnP07JxW+NSvdGMV8tM21nQdb2\n",
       "K7pC4o07lndBeTzekUpyie7rMfR53Enka84mm8fDHCcFPSZMhMc5+7HDa9Aale6NCjKwlsTco8Sw\n",
       "vcVjUVoW5ivLHcu7oBwz5hEvPnaQ0dvVyGB++joe8wSPRz/T0/+6v1EjsNBzBhzvpipcmT+QxNlP\n",
       "PKJEdrawNmiNSvdGBY+2VlT4JeZh+9U8TzVqjcfpC/J5sKUKt3n89C7YsKouDkhkGI9rp4tq3d9F\n",
       "nPk+y75Wh8eK3Uo3VasdScBjdz/LUbZbs+a22LA1KtkbVc+vj6KWPsb+VW7XK0hTOT6yXFr8gqwU\n",
       "U2hki72NwsawG4zj0sCF0/yx7UrOJAmLLAlVn3caTIbHtv+07u/4tST8YoiNdsFAR06Rhzx29jMP\n",
       "20Rr1kKiMHFI9UYRGqtA+FO82/GYNV7Zyoo80QuaxiWh3UNLUbyHx0NUl2ilq9g8fvF5ZJaTXdMr\n",
       "lh+P23sl55E11KYndRTtplrRFdZ+AK1Zs64IW6PSvVEhkHypHxfc2n5NH5ehxLbumA2MPy7x8G4U\n",
       "uYvHg07rJuOK2JTuQ3QFRB93N4Q9jMdYzXk/6/7EtJg1a7ybKs7jaT+Q1qx5/j1sjUr3RqHwwSYQ\n",
       "1xb7p+1X4nEkOtp3bAGmbgnPuTUuiayHXbI4j6cfjInBjG1RqXfoY37RiqAoT/f5WTUPPlkhhNRC\n",
       "/5VuqljdbdkPpDVrLqOFrVHp3qiiURHV2gjWHqoU9vZxHrNm+44twIiad8vllnGpmArCkc3j8Qei\n",
       "7+j5r/1PtnvucC1lZt3tWTyurxp62fWK7rE3Dy2tgyQ71k0V5/Gyn/2tWWP/U6w1Kt0b1Xoo9xMQ\n",
       "gmllyrmLcNh+ZT6vTtyxBZghf1zGpYxkPm5wXxLOMYgPPK7QG3hMqqveOn6ExxaizmzZajdVGefx\n",
       "4t/fmrXVGZzqjeof2dSelw5DbllsxON9Gc2Q3vUgzuOyrnm9yeMa+enooCticaz8OR43ongyj9l0\n",
       "ugQXW91UTTgv7RNwb2vWVuNPqjdqT+4ii+262z4ed4GYEXtcjnmeXRim4Q86XfHvP7TXFet5XvP4\n",
       "T1R4qNDreqdi83UVwD9oS4PJWJpVW91UNOwTcncNaM3a6oJN9Ealbdr+II9Zo+o+J1zGJcO9dMHx\n",
       "+vH8A6txrk9LuU7C+Xwei+habnURj2Wi/1huFgA3z0oH/ceueoK0ZhGa8K33RqVt2v4gjwWRVV+h\n",
       "W8Zle2WtyBB1XFfMP3AmtnGr80kSzsfzWEYrbvIqHqPEepDNxaJ8c87RrTtgf/kbrDWLod0+BKTx\n",
       "uD0qq7PWNW2Ny+iAVDskw4EVZjfwOF5xU1VxEY/d1Yspv7+7zYPh7Xdq3dqadXaFCRD8Y3/cM57x\n",
       "CW99rLtgwuT1qEQ/hkvEzkdK8jRj60gFwA8cNN+6/308Vvxv4CQNwhTr61GJVNyY0nu739KnGfKU\n",
       "Jt5fQfOzZG6qj8ehCLoRTkb6Gsr1qDSmsa0shy/87Wy2SJ9m7D0rCuCHofa9F+tMOwdOch2NF1TE\n",
       "WruaPOk0Q55Wife7HXlnprnrK8yv5PEpcDL0E6ikTjP2HkIC8MOsfOtnbu7h8Qlw9lPm5PGoJE8z\n",
       "4ClLvP+YHRFl+vEzqT/F4+Nwql4j6qejkj7NgKfcTYJTfpihx1fuf4rHh+GsKaYIl/XDUdlxmgFP\n",
       "vQ/kpfzQDLv5eHyeHYYT92+B409HZcdpBjzVbjki5Qfmxub7ft6J9ng4b/tOepc7EIgfnJmwj8dn\n",
       "Jnrsl1FZWVZ/Bo+Jl8al/NAnxFsTvXt4/HQ4Y6gkP1JyCo+V13uS8oMVnf54fKZA1r+GSvojJafw\n",
       "2Je/KT/U3vqB6Xt4/HQ4Z1TmpfDJlfAn8dgHJuWHmnjpF/Ru4vHD4ZxQmZfCZ36kBMzj2n9Qpfzw\n",
       "JyH+eHymsMC/gMq8FD7zIyVgHiNfNqT88Cdh9fH4TGFR/QYq41L43I+UQHncVEA/2NA7Wyzu4vGz\n",
       "4VxQGZfC536kBMjj8C1TKT/c3lmxuIvHz4bT4vG4FD73IyUwHutgkiPlhxt+5Temb+Pxo+FcUJmW\n",
       "wl/1kRKHpyQc3Ck/3MgrM73bePxoOGdUlqXwF32kxOEpCm9Gyp8l6cjH4zMVMnk+Kpd/pcThaSXA\n",
       "/hwr8cfjE+3BcC7zIFcvhbd5GhvZKX+OqRc2C93I4wfDeUu/G4k1naT8WSbox+MT7blw3sJjTTP8\n",
       "mY9C+fH4TGUhPx7PPOXR7+ik/JnXV5HX8bi3e4q5j4XzT1Ap3e/ulBzoP2L8bQqZyN5umlx7Kpx/\n",
       "gspwjPnLFRzg/x/J88vz1A51nAAAAABJRU5ErkJggg==\n",
       "\" style=\"display:inline;vertical-align:middle;\" /></a></span>"
      ],
      "text/plain": [
       "|- forall_{P, S} ([forall_{y in S} (P(y) in Complex)] => [forall_{z in Complex | z != 0} (([Sum_{y in S} P(y)] / z) = [Sum_{y in S} (P(y) / z)])])"
      ]
     },
     "metadata": {},
     "output_type": "display_data"
    }
   ],
   "source": [
    "from proveit.numbers.division import distribute_frac_through_summation\n",
    "distribute_frac_through_summation"
   ]
  },
  {
   "cell_type": "code",
   "execution_count": 33,
   "metadata": {},
   "outputs": [
    {
     "data": {
      "text/html": [
       "<span style=\"font-size:20px;\"> <a class=\"ProveItLink\" href=\"../__pv_it/demonstrations/39af0812a276031871a44f2e24cd6d9300586edc0/proof.ipynb\" style=\"text-decoration: none\">&nbsp;&#x22A2;&nbsp;&nbsp;</a><a class=\"ProveItLink\" href=\"../__pv_it/demonstrations/5efe98583b35149fa8e9a1042f4216e8734901ab0/expr.ipynb\"><img src=\"data:image/png;base64,iVBORw0KGgoAAAANSUhEUgAAApcAAABACAMAAAB4FqwdAAAAOVBMVEX///8AAAAAAAAAAAAAAAAA\n",
       "AAAAAAAAAAAAAAAAAAAAAAAAAAAAAAAAAAAAAAAAAAAAAAAAAAAAAAACXHtMAAAAEnRSTlMAq90i\n",
       "zVRmmUQyuxCJ73bt5ckWfcbGAAAACXBIWXMAAA7EAAAOxAGVKw4bAAALCklEQVR42u1dC7ejKAwW\n",
       "Qd6yu/z/H7u+CwERsRZnV86cmcm9tKbhM3wJMW2a//ngdhxtjUsz81Sj3KeZIiopN2Raj655ccmH\n",
       "ISpc2ZCn2uROzYxMy2JcjheXAy6rXRinfi1agjl/omYXh9RpeRz9i8tauFQ9TW+lgmv2SM0uv32X\n",
       "lF9cVsUlIxuh6ttl9P1ErhbGhXXhW+OkmK/ZTc6761VSfnFZEZfCik0BJ+hSXFs7Bx2iNPYwYFG5\n",
       "KdTsLufdsrT84rIeLgna/qutty4KTTjlw2aK1WEQYa1ESBL2mdkFbtbQQs1cp6u/99k7wF+7gM++\n",
       "uKyES28piPW3SDT8DpNOcHn8RnbedOW2F6pILE1UOWiaIuedphJEpuUXl7Vw2borga3PsNQAAqZo\n",
       "T46ZoVg2/c6uwGER50hZoWabkXKcdz6V6ABVgPKLy0q4FH6CjlpZ+EZmWVFj1322j03rVaFmy42T\n",
       "ct4RLnFIJXpwowTyi8squEQWyoVBjrTrv4vH6aIpcUJLNZt9cNp5Qy5xTCUYuAqUX1xWwaWywD+o\n",
       "3padOC2OVny2cb1yAYOU0HpeYI1KNctysYBLHFMJbmmTkl9cVsElDVAoyk7oZ0hg3XbQMw4wMMg0\n",
       "bH5bSoo1K+ASGVSiBwoB+cVlFVzK8JraluQHjUVaa+qE8wtCKR4xpho0w7TryzU7zSVyqAQDUT+Q\n",
       "X1xWwWUszCElh9IhjPoZoyNCnHMbYS9odpZL5FCJDmzcQH5xWQOX3EaS1EXnKZbs4HL67yeW4v0F\n",
       "zc5yiRwqga3PeIH84rIGLpkNj5p5SaZIhDD6MM2pKkjNrK5ryzU7zSWyqEQP7hRffnFZA5fEBulE\n",
       "3KqCNzIhjOTkJJXkDRpXesEtlec1mwt0I8MccIksKiGBDXz5xWUNXEZibyLKAB7SATTTNaHYgEve\n",
       "+ZTvjGbdAEFPK4W5Qb21/QGXyKISBuTvfXnAJWrbFv+nkGaGT9Q9GJc4DC6kHwWMrsMYhoc/QFkz\n",
       "wm6hYmw8aIH5eDEhSzFjmo7R1QwtL9AMRR8voa2PqJBLZFGJDuQffHnAJWn+g4PSB+OyC1JCxv8B\n",
       "HsBmcINkQ7oBfeug48H5sN2JZBDTRjwvbos0a62N5eOZTHOJLCohbEqugEuc/ztc/NaPxqWBDI2D\n",
       "NRjP7Oi0vgBjWI1exyTJYqxGg9EizcSwk8de6XnxkEtkUQkFfLEv/x6Xpsv/XU5Bq9KyJcRgod35\n",
       "j8YlA9QKxDzdevYRS2ii4WOitFlk8DIsCzUzAzBjzoE6vjPkEnlUwtqEvODy4607eu+arJUm3ypo\n",
       "HYg4HW1gJXPnn8fl70zwqbHY+JiaB8aCG7L6qHG7xo23j8+r26djJCWPkZqp2fCDkvPRLCrRgoDc\n",
       "kxdcsg3L5N4QyKk0+UpBKzNcL+yFufPP4/JnJghOdliQiBk+BO4bTabUdLDkhw4eA/9lcKFmUz1J\n",
       "wfloFpWA1/LkBZcCnfX4pVsY/XCXLxS0CtbIBYmIufPP4/JnJhiMbjNyleMdZ0wwcdgYJfmhZryo\n",
       "x0AOlZAgXvLklV+ufkbfnM/sHepSUtBq5PjY4LYwSDXr51XUnb+HS6l2+eWvTBAyqzP7DQ5ySjdr\n",
       "pq3tT6f8c6gEAnj35BWX6zreHAQ5lSYlBa2cAAciG8yi8/dwKeQuLn9kgmu4HEIeTn6r2cB3z18x\n",
       "g0pk4bKZH2Hu9b0r4uQKCgpaMWSbGDVCx3IU+/s41bvx+G9McA2XnBr9Y81GinnHNRlIQXnyhksm\n",
       "dra57zJ+QC/PFbQGAckASg4AuMz3cMlaZwQ0fsPlb0wwZupqdZ6J2QMdahacR/4Slxitf+0GWfoU\n",
       "rxGahSv8QWFJQWuwnQybOExxLvMTcU9Hujguj00ALZtEXwKXffPMsaMZK6GYh0OD0wVP/uTVRz+h\n",
       "E6eo4rQxI8+UfE70CwpaxdYuRTr8Emwxy/xUPK5Iz2O4hCbQ0EsYyZBxmJMMLP15wfw+Wke2XbD6\n",
       "9mejFJfjeaTZ2/iLVcjEZWdilF8YJCXfD0syg5wQlwUFrWGQNyIJ/JAf+ktMNI76S2gCbD0TKDm2\n",
       "G+ic7mNQH2xd5jtqYWJ1lX+cvxw+2A3tQTNxOfxLg5uCMZFA2Xlcbvt4UUFraBz+yV823J2/zy9b\n",
       "yFKdNLVvgvkYejOBVgYEThBxzrk1mi4yHcyEB3mP5Zd7mpn+hqOGPH455u3WcHersHKPAReUeYVW\n",
       "8Q1/bf0VweV2klpU0GrCzYQZvhZ9EXf+rr8M3ZeDy48JlKaGjJfbTKComFXGUVxuL5jfU89uRjWx\n",
       "EtfauDybKeB3hD3ZuMQ92nJNc4WVt3HOgW5GodXW+ou3+5SzrKCVhClvI8lwB6lubQm2zN/DJSZN\n",
       "ApebCVSL57ZmHxN0uINOwzHP9oL5NPuv6TRbTLhs6R+OS3FP8968/OX4i+Wu2Cqs3ByMmAuqcwqt\n",
       "tliEBMdoc6VJcUGrQpLDt1Ra9rbdKq+W+bvnPSKFy80EjC0R1McEVFG1j8vtBfPNshRezP4y8PL9\n",
       "Y3HZR/OX9/Raz8ale9/g2UXOdSzdeHqM1nPow0KrrfVXR4J5bWJHyKlC4Vq655C783f9ZZPEpRuD\n",
       "TTffxwRCBD3YZeQFboA27+Oht2nt9ayLIP0NzYRjmhF2j36wdsmT47hcKqy8sxSDPg4pWWi1tf7C\n",
       "kd0+VYdxpaAVzr9Wf6nG+1KaIfRyTLDEPU5iUkZeMO7jf/+zVKXtxD3yK3ztjt01opmUN+nXAsO0\n",
       "kXoiz6V8Kqzcs481igGFVkqvf20Mbm39FY3gU6WAFwpa4fyLdcH9xBbHjftjAqwnsqCj+cvPC5zK\n",
       "pClQ4yjC+L/QEZrbGw6mQs1Y9DnN7gv6Qc7QR+qCYYy7VFhhh46tKAOFVmJMIQgnj/Bp/RXFpUog\n",
       "7UJBK5x/EZd8ILhmOt9yTKD0sKkzEd3HPy/w7matTeTUy9gvVATpO75xKNCMRjNEtPuCfsFjlX1z\n",
       "yC+doEL6efUThVbxjCdOcNPyglY4/3vPUTgmaPb5pfuxD8ME+o06CHLHd1VAzeIZoqxmR0f6wVw9\n",
       "Lny+Z8n6nCi06io+afmT53viuCQZV0SXPhxG2tyTvAGa4dhFFDuqYM/SDxrBl0dcZj4/PgfX+YVW\n",
       "gtTqmWDatq+Gy+6YOyp76Y7l494q76CXQLNIhgh36LC6KE8/Co4hfflMvw1xCmdYNH/GKMdl8eFc\n",
       "eyWBOX/rE7tnM/I0I5a4Y7jbbcZ3aWbqxwC6ffntA1Onbxa+8uIJQPp2zdheURD9hn7wxM+XX1zW\n",
       "wCW9EpD3ctpw+fM0O6Uf9Lq+/OKyBi6xLQ+m1cTDqH2eZqf0gwVlQH5xWaVfcN9eWPdxyRBpOvww\n",
       "zU7pZwC9BPKLyyq41Bei6bHgZSyfYo/T7Ix+sk/KLy6r4BLb8hodhYwWGBnxOM1O6KdA9hLKLy7r\n",
       "fK8UeWx3x99oBr+OBcovLuvgktqntsL9jWakTcsvLuvgUln9UHP8RDMM0lFQfnFZ6/t02VOfiXQ0\n",
       "O+6kXR5dpeUXl7Vwqax5qD02zYo7aZ/+8KExXlxWwmVjHuswV82KO2kfu+Q2Lb+4rIfLpn2qw3Q0\n",
       "K+ykfcgueVJ+cVkTl/yxIfmmWWkn7YOBUFp+cVkTl9NTVM8ck2ZXOmknBwVNuGikKdeLy3q4bORj\n",
       "d/JJs5s6aWPgbHHM+b64nDqI2zsaQx2Hpe1Ta6cTml3upE3ogTytx4tLxcdRBSHPrenf1+xqJ23F\n",
       "03IjpvVQzTvecWZ7ubeT9jb+BUC7hNRaHT5lAAAAAElFTkSuQmCC\n",
       "\" style=\"display:inline;vertical-align:middle;\" /></a></span>"
      ],
      "text/plain": [
       "|- [forall_{x in {y .. z}} (P(x) in Complex)] => [forall_{d in Complex | d != 0} (((Sum_{x = y}^{z} P(x)) / d) = (Sum_{x = y}^{z} (P(x) / d)))]"
      ]
     },
     "metadata": {},
     "output_type": "display_data"
    }
   ],
   "source": [
    "# We have a theorem for distributing a non-zero divisor over a summation\n",
    "distribute_frac_through_summation.instantiate(\n",
    "    {P: P, S: Interval(y, z), y: x, z: d},\n",
    "    assumptions=our_assumptions+[Forall(x, InSet(Px, Complex), domain=Interval(y, z))])"
   ]
  },
  {
   "cell_type": "code",
   "execution_count": 34,
   "metadata": {},
   "outputs": [
    {
     "name": "stdout",
     "output_type": "stream",
     "text": [
      "NotImplementedError: Distribution of division through summation not yet implemented.\n"
     ]
    }
   ],
   "source": [
    "# but we have not integrated the distribute_frac_through_summation\n",
    "# into the general distribution() method:\n",
    "try:\n",
    "    expr_05.distribution(\n",
    "        assumptions=our_assumptions+[Forall(x, InSet(Px, Complex), domain=Interval(y, z))])\n",
    "    assert False, \"Expecting NotImplementedError; should not make it this far!\"\n",
    "except NotImplementedError as the_error:\n",
    "    print(\"NotImplementedError: {}\".format(the_error))"
   ]
  },
  {
   "cell_type": "markdown",
   "metadata": {},
   "source": [
    "### Div.neg_extraction()"
   ]
  },
  {
   "cell_type": "code",
   "execution_count": 35,
   "metadata": {},
   "outputs": [],
   "source": [
    "from proveit.numbers import Neg\n",
    "from proveit.numbers.division import neg_frac_neg_numerator, neg_frac_neg_numerator_gen"
   ]
  },
  {
   "cell_type": "code",
   "execution_count": 36,
   "metadata": {},
   "outputs": [
    {
     "data": {
      "text/html": [
       "<strong id=\"neg_a_over_b\">neg_a_over_b:</strong> <a class=\"ProveItLink\" href=\"../__pv_it/demonstrations/cf071bffc56650c3c8298a3f48131810e43f2e410/expr.ipynb\"><img src=\"data:image/png;base64,iVBORw0KGgoAAAANSUhEUgAAABwAAAAlBAMAAACjVpTCAAAAMFBMVEX///8AAAAAAAAAAAAAAAAA\n",
       "AAAAAAAAAAAAAAAAAAAAAAAAAAAAAAAAAAAAAAAAAAAv3aB7AAAAD3RSTlMAEM3dMiKriXZE77tm\n",
       "mVQzv5s6AAAACXBIWXMAAA7EAAAOxAGVKw4bAAAAlklEQVQoz2NggAHW9NYGBgSYFcD9EcFjXMPA\n",
       "awCklI1BwIH3AwNzAUKWawOD/AQEV76B4TySSfIPGJL4AuBc7gY+W14kkzNKwloYBgz8RwFUN156\n",
       "MSpfF5X7D4XH+RGFy26AwmXKaHuAHKqKjF+RuO8FGFYgcS8xMHxH4pozcP5DsZYX2aovDFIHkLg5\n",
       "DHuR7RWrhUoCAOqwLUvTAiHpAAAAAElFTkSuQmCC\n",
       "\" style=\"display:inline;vertical-align:middle;\" /></a><br>"
      ],
      "text/plain": [
       "<IPython.core.display.HTML object>"
      ]
     },
     "metadata": {},
     "output_type": "display_data"
    },
    {
     "data": {
      "text/html": [
       "<strong id=\"a_over_neg_b\">a_over_neg_b:</strong> <a class=\"ProveItLink\" href=\"../__pv_it/demonstrations/7b55304657f182c183cba58ecfcbeffe7479e7710/expr.ipynb\"><img src=\"data:image/png;base64,iVBORw0KGgoAAAANSUhEUgAAABoAAAAlBAMAAACuSOSFAAAAMFBMVEX////MzMwyMjKqqqoiIiJm\n",
       "ZmaYmJju7u5EREQQEBC6urqIiIh2dnZUVFTc3NwAAAAqL9KcAAAAAXRSTlMAQObYZgAAAAlwSFlz\n",
       "AAAOxAAADsQBlSsOGwAAAJpJREFUKM9jYACBt6dfM8AB1zyG/gI4rzKBIQQhF8/A4IPgzWBg/wXn\n",
       "sP9mYPuA4H1m4FWwg3O7GUwCAuC82j1ytwUYBgL8RwZUNpu90wGZyxSAzOM3QOatL0DmHUExRnf3\n",
       "ZSQzPxXUP4DzmL8zcG5gYFdxAQEBVgUG/gNwOZYDDOsNkK2LR9jBL8A+DWEmbwIHktPY74QxMAAA\n",
       "7JAtFdALJssAAAAASUVORK5CYII=\n",
       "\" style=\"display:inline;vertical-align:middle;\" /></a><br>"
      ],
      "text/plain": [
       "<IPython.core.display.HTML object>"
      ]
     },
     "metadata": {},
     "output_type": "display_data"
    },
    {
     "data": {
      "text/html": [
       "<strong id=\"neg_mult_over_b\">neg_mult_over_b:</strong> <a class=\"ProveItLink\" href=\"../__pv_it/demonstrations/5d7a287431481e6a48f8652b1ef7bdcd02b9f32b0/expr.ipynb\"><img src=\"data:image/png;base64,iVBORw0KGgoAAAANSUhEUgAAAEQAAAAtBAMAAADlxtATAAAAMFBMVEX///8AAAAAAAAAAAAAAAAA\n",
       "AAAAAAAAAAAAAAAAAAAAAAAAAAAAAAAAAAAAAAAAAAAv3aB7AAAAD3RSTlMAInZUiRDNmWbv3US7\n",
       "qzJazP2FAAAACXBIWXMAAA7EAAAOxAGVKw4bAAABVElEQVQ4y9WSMUjDQBSG/5i0aZOgnQtCOggu\n",
       "SgZxtYjgpHQVKnEpipODiGM33RQnsUvBQsGpdHOLLq5SRBw7O1VqHNW7isnl3fBW/Yck78937/K/\n",
       "HACUkBEppaaCbN3XkSW6pEmJ3A51GtSwtUUn1ChqOxdrxFjWkDzte6g8G08VH7AeU2d1fgjsKcht\n",
       "yYuBQhqgHNgRcK2Eu4TdBszzxOmgKNq2xKv9G6mhPYJTBaZHEv+QaeMJ2FKiRAh7gDvp0v0xpJSN\n",
       "Qh9n4ma2FUPqXkECPJslFKJfY0bEF203UsTzza4tvqCaTD6CJUK/KokGm7OLgNNLnLXTOXF1hnS6\n",
       "ZWoUDqhzrP2SO1IbkYbUSe3pJ9Pws3UFf1hfrPC/Vb/imV0eGbOEG7OI1WaR/GAhYJCwkXtjkJUa\n",
       "LhjkCHhnkA7cMTsWm4v9ia0mg7zggZvL9rrW5Bvx8GMXdXDT1AAAAABJRU5ErkJggg==\n",
       "\" style=\"display:inline;vertical-align:middle;\" /></a><br>"
      ],
      "text/plain": [
       "<IPython.core.display.HTML object>"
      ]
     },
     "metadata": {},
     "output_type": "display_data"
    },
    {
     "data": {
      "text/html": [
       "<strong id=\"neg_mult_02_over_b\">neg_mult_02_over_b:</strong> <a class=\"ProveItLink\" href=\"../__pv_it/demonstrations/364d59ba647c8b7b47e6d8de3fe7008f8451c93a0/expr.ipynb\"><img src=\"data:image/png;base64,iVBORw0KGgoAAAANSUhEUgAAAEQAAAAtBAMAAADlxtATAAAAMFBMVEX///8AAAAAAAAAAAAAAAAA\n",
       "AAAAAAAAAAAAAAAAAAAAAAAAAAAAAAAAAAAAAAAAAAAv3aB7AAAAD3RSTlMAIquJdkTvuxBmmd1U\n",
       "zTKBpmoTAAAACXBIWXMAAA7EAAAOxAGVKw4bAAABUklEQVQ4y2NgQAMCeHgQwHIAhRuCRclhNB0T\n",
       "MFRwXEATuIGhhAtd1ywMJWwYAg3oImfRBXhBxjIqOzrARRYjS5t4PmBgVgAywgTYf8BFbyKpkD7A\n",
       "VcDACXQ/RyYD1wa48B4kJZsZ2BwYeBKAfvjAwG0A8u5fkHAqkHF7Nwg84AKbzfcB6OQChv4AEGcX\n",
       "VAncLwUgkhVoSr8Dw3wGbBb1gz3BA3RE/wEGXR54bJUglPADvRvAwAk0i92BZxcXXNwIKaALGJgf\n",
       "MHAB3cmhYifkBxd/jeQj45keDAzcAeiByf0ATUAaI444F6AJrMRML4WoXMYCTCXtqFx2LCmT0QGF\n",
       "68gwyMB/goBhaIP2bMJqbhFW8oegCtYfBJUwbyCohFfF6QABJf03OD4SUHK+gSGFgJK1DAyfCSjZ\n",
       "zMD6h2CwcBHy9j+GtgkElGgyVBEKlyYrDEMAJ6NlunyDmCoAAAAASUVORK5CYII=\n",
       "\" style=\"display:inline;vertical-align:middle;\" /></a><br>"
      ],
      "text/plain": [
       "<IPython.core.display.HTML object>"
      ]
     },
     "metadata": {},
     "output_type": "display_data"
    },
    {
     "data": {
      "text/html": [
       "<strong id=\"a_over_neg_mult\">a_over_neg_mult:</strong> <a class=\"ProveItLink\" href=\"../__pv_it/demonstrations/43115e40c53ea659e5b051f1037dbed1048647310/expr.ipynb\"><img src=\"data:image/png;base64,iVBORw0KGgoAAAANSUhEUgAAAEIAAAAqBAMAAAD13ZDsAAAAMFBMVEX////MzMwyMjKqqqoiIiJm\n",
       "ZmaYmJju7u5EREQQEBC6urqIiIh2dnZUVFTc3NwAAAAqL9KcAAAAAXRSTlMAQObYZgAAAAlwSFlz\n",
       "AAAOxAAADsQBlSsOGwAAAU9JREFUOMtjYEAFb0+/ZsALuOYx9BfgVVGZwBCC34x4BgYf/CpmMLD/\n",
       "wquA/TcD2wf8Kj4z8CrY4VXSzWASEIBXRe0eudsCDKMAH/hPCNDPKQ/w8MCA2wCFuxpThQ0iAXU6\n",
       "ADUkYKQrBQSbCZR61NFVsCLp4QdZmIqughOJvR6UmzjRs5QREvsI2Cp0h8QgsXV3X2Zg4LmAEDi9\n",
       "DZhq1ZAc/amg/gEDG8LpTwxYGxgYnBEqmL8zcG5gYJ4AF/AB8RlmAfWquICAAKsCA/8BBsYPYONA\n",
       "3vwOVjcLYQbLAYb1BgxcYDNcQb5qAAs7owRHfAEDswOMX78BmhERKgTYpzEwsDXA+UB/L2BgOItQ\n",
       "wZvAAQx21gPw4G5g4AH6VgTJt3fCQK5ZABc4k7YdJICek5+gxwsbemkQhpE++lC5fA0YKipQuRyY\n",
       "yZBvAwp3H5o0APOrYMwvSY+MAAAAAElFTkSuQmCC\n",
       "\" style=\"display:inline;vertical-align:middle;\" /></a><br>"
      ],
      "text/plain": [
       "<IPython.core.display.HTML object>"
      ]
     },
     "metadata": {},
     "output_type": "display_data"
    }
   ],
   "source": [
    "# create a few example expressions\n",
    "neg_a_over_b, a_over_neg_b, neg_mult_over_b, neg_mult_02_over_b, a_over_neg_mult = (\n",
    "    frac(Neg(a), b), frac(a, Neg(b)), frac(Mult(Neg(a), c), b),\n",
    "    frac(Mult(a, Neg(c)), b), frac(a, Mult(Neg(b), c)))"
   ]
  },
  {
   "cell_type": "code",
   "execution_count": 37,
   "metadata": {},
   "outputs": [
    {
     "data": {
      "text/html": [
       "<span style=\"font-size:20px;\"><a class=\"ProveItLink\" href=\"../../ordering/__pv_it/theorems/4aa8d696b1f407d6126de9f51a052e8d90e0848c0/expr.ipynb\"><img src=\"data:image/png;base64,iVBORw0KGgoAAAANSUhEUgAAADMAAAAQBAMAAABJt1qBAAAAMFBMVEX////MzMwyMjKqqqoiIiJm\n",
       "ZmaYmJju7u5EREQQEBC6urqIiIh2dnZUVFTc3NwAAAAqL9KcAAAAAXRSTlMAQObYZgAAAAlwSFlz\n",
       "AAAOxAAADsQBlSsOGwAAAM1JREFUGNNjYMAASTP6VWYkMGAFDW8Z1mYUYJd6w8DBeAGXFOsDBRSh\n",
       "HS4uCnCpBmSZRdsRunjLQQby3dm3ASTAp45koITRAyBj5QOO7yABpgdwqZcqX0AmsE9jYHUASyE5\n",
       "I60IRLN+YGA5AGJIugBBA0SKowzkZc4GhvoFIIEKJF2MAe1Aun4DQz5YgAXZX4EvQFIGDJeYQS7g\n",
       "3oAkVcENNJFjA7MrK1hEGS71lIEtoQvowtsH324Ei9R2FcBCvo+hQ98AOTjWtLgghxwApbZCEcpv\n",
       "FP8AAAAASUVORK5CYII=\n",
       "\" style=\"display:inline;vertical-align:middle;\" /></a>, <a class=\"ProveItLink\" href=\"../../ordering/__pv_it/theorems/6e5cad5b2984ed0d75bd47bd0c542ec447a4f3570/expr.ipynb\"><img src=\"data:image/png;base64,iVBORw0KGgoAAAANSUhEUgAAADEAAAAQBAMAAABNQoq8AAAAMFBMVEX///+YmJjMzMzc3NyIiIhU\n",
       "VFR2dna6urqqqqpmZmYyMjIiIiIQEBBERETu7u4AAAD7tRWPAAAAAXRSTlMAQObYZgAAAAlwSFlz\n",
       "AAAOxAAADsQBlSsOGwAAANZJREFUGNNjYEAHUmfvrz4rAGTw3dmAJnXBlKFU9gGQwTUBXcaMgZcp\n",
       "AMjgb8CU4TRYAGTUP4CK+O7evQAucwHIyIZKVPkh9LC+A5m21CUCxGdeh2SabpcB0G2/Hrw3ADnE\n",
       "AC5js/o3SD/HPwYeB5AMkgsEX4FozgUM/AlAWmc3EFyAyPA+BPmUO4GhHuTut0h6mCbcg3hnPsjd\n",
       "3Mj+mWQLklHgOwjiszggybxlARrHKsALCZ4VcBlLBkaB60BXh02ECDy9/gAW1pcZ7q5HDrOy25DQ\n",
       "gQIAY/lDzDbeA58AAAAASUVORK5CYII=\n",
       "\" style=\"display:inline;vertical-align:middle;\" /></a>, <a class=\"ProveItLink\" href=\"../__pv_it/theorems/1157e8bc07ff5d23e5b8809064b9e77def3bc8980/expr.ipynb\"><img src=\"data:image/png;base64,iVBORw0KGgoAAAANSUhEUgAAAC8AAAAUCAMAAAAqRJTwAAAAPFBMVEX///8NDQ0WFhYLCwsYGBiY\n",
       "mJjMzMzc3NyIiIhUVFR2dna6urqqqqpmZmYyMjIiIiIQEBBERETu7u4AAAAYV9lEAAAAAXRSTlMA\n",
       "QObYZgAAAAlwSFlzAAAOxAAADsQBlSsOGwAAANlJREFUKM+VkusSxBAMhe2FkopLvP+7LjG6bK0Z\n",
       "fmhSn+OICPF/IM3+Ugx+iqvYZwAajxo6nPJRdYmzWdnXDclO5U2XSLYAfOKZpj7j0Se82TIJU/tn\n",
       "Ly8SW1bsxBmtzc2S6+Wp8bLEjvLUltHzeL/K3M44ElReN1NBL+S/fP6gY4Mwuh9LTHX5LPoeOLIL\n",
       "+XZfWygm8aop+38+6i2uGkWuvCxUys9IQY7yvy8iA2sV6yajcbRr7w3iSz+E0iFkAKVYy2cKQRs1\n",
       "72MLYms42sLlprzfkxdqtfgBzl0J3RfHeMcAAAAASUVORK5CYII=\n",
       "\" style=\"display:inline;vertical-align:middle;\" /></a> <a class=\"ProveItLink\" href=\"../__pv_it/demonstrations/dca1824549258afd6c1e6efce67bf654601e5a250/proof.ipynb\" style=\"text-decoration: none\">&nbsp;&#x22A2;&nbsp;&nbsp;</a><a class=\"ProveItLink\" href=\"../__pv_it/demonstrations/65c78eed08ff17030a1a21cb061bace0581766230/expr.ipynb\"><img src=\"data:image/png;base64,iVBORw0KGgoAAAANSUhEUgAAAG8AAAAmBAMAAAA4vNj3AAAAMFBMVEX///8AAAAAAAAAAAAAAAAA\n",
       "AAAAAAAAAAAAAAAAAAAAAAAAAAAAAAAAAAAAAAAAAAAv3aB7AAAAD3RSTlMAEM3dMiKriXZE77tm\n",
       "mVQzv5s6AAAACXBIWXMAAA7EAAAOxAGVKw4bAAABzklEQVRIx2NgIAR4H6CLCAmgcFnTWxuwabyG\n",
       "oYbFEEXBrADuj1j08ShgqjmGrIBxDQOvARaNXgKYarhBrmdUNgYBB94PDMwFWDSqI3sXqoZxIZIg\n",
       "1wYG+QmY+vg+YlOD7G/5BobzWCxEcQVcTXwAkuADhiS+AAyN/shBD1fDjWQcdwOfLS+mjdnIHLga\n",
       "ngVIIZZREtaCqfEPSsjD1LD+I5RsWL5iF7clpJHnA3bxS4Q0silgF+8npJErAbv4ewcCGvkLsIv7\n",
       "PyCk8QB2cXls4pfBidcMkkRwmMzfQMBGXE4CeuE/CkBXMH8CUgaCqAVHEP8Fcm28QMCP/uT6Mf4A\n",
       "aaGNnAOxG0goHrlwBII/tLCQXoxDI9MGFC5c3XtY/tbFVRovQOXD1BXDBHBlTB60ohambhuU5vyI\n",
       "QyMjqolwdbCCgd0AV+jsReHB1HHCCgamjDYc4XsKNayg6thh+VtekRFH4YJaSMPUcT1AhO4K7BrZ\n",
       "UcoOmLoupLLnOw5PLkEro8Dq1sEEzBk4cUXIIWQOVB2HAiJ6eHFFCNMBlGgEq4uCVxVfGKRwJXdG\n",
       "UyQORB2jHVwgBy2+kEEQUrUDUceNsESsFnf+YkUqQiHqJEFMAOrGi0W7nq6FAAAAAElFTkSuQmCC\n",
       "\" style=\"display:inline;vertical-align:middle;\" /></a></span>"
      ],
      "text/plain": [
       "{a in Real, b in Real, b != 0} |- ((-a) / b) = (-(a / b))"
      ]
     },
     "metadata": {},
     "output_type": "display_data"
    }
   ],
   "source": [
    "# with no neg_loc kwarg supplied, finds the Neg to factor out of numerator\n",
    "neg_a_over_b.neg_extraction(assumptions=[InSet(a, Real), InSet(b, Real), NotEquals(b, zero)])"
   ]
  },
  {
   "cell_type": "code",
   "execution_count": 38,
   "metadata": {},
   "outputs": [
    {
     "data": {
      "text/html": [
       "<span style=\"font-size:20px;\"><a class=\"ProveItLink\" href=\"../../ordering/__pv_it/theorems/4aa8d696b1f407d6126de9f51a052e8d90e0848c0/expr.ipynb\"><img src=\"data:image/png;base64,iVBORw0KGgoAAAANSUhEUgAAADMAAAAQBAMAAABJt1qBAAAAMFBMVEX////MzMwyMjKqqqoiIiJm\n",
       "ZmaYmJju7u5EREQQEBC6urqIiIh2dnZUVFTc3NwAAAAqL9KcAAAAAXRSTlMAQObYZgAAAAlwSFlz\n",
       "AAAOxAAADsQBlSsOGwAAAM1JREFUGNNjYMAASTP6VWYkMGAFDW8Z1mYUYJd6w8DBeAGXFOsDBRSh\n",
       "HS4uCnCpBmSZRdsRunjLQQby3dm3ASTAp45koITRAyBj5QOO7yABpgdwqZcqX0AmsE9jYHUASyE5\n",
       "I60IRLN+YGA5AGJIugBBA0SKowzkZc4GhvoFIIEKJF2MAe1Aun4DQz5YgAXZX4EvQFIGDJeYQS7g\n",
       "3oAkVcENNJFjA7MrK1hEGS71lIEtoQvowtsH324Ei9R2FcBCvo+hQ98AOTjWtLgghxwApbZCEcpv\n",
       "FP8AAAAASUVORK5CYII=\n",
       "\" style=\"display:inline;vertical-align:middle;\" /></a>, <a class=\"ProveItLink\" href=\"../../ordering/__pv_it/theorems/6e5cad5b2984ed0d75bd47bd0c542ec447a4f3570/expr.ipynb\"><img src=\"data:image/png;base64,iVBORw0KGgoAAAANSUhEUgAAADEAAAAQBAMAAABNQoq8AAAAMFBMVEX///+YmJjMzMzc3NyIiIhU\n",
       "VFR2dna6urqqqqpmZmYyMjIiIiIQEBBERETu7u4AAAD7tRWPAAAAAXRSTlMAQObYZgAAAAlwSFlz\n",
       "AAAOxAAADsQBlSsOGwAAANZJREFUGNNjYEAHUmfvrz4rAGTw3dmAJnXBlKFU9gGQwTUBXcaMgZcp\n",
       "AMjgb8CU4TRYAGTUP4CK+O7evQAucwHIyIZKVPkh9LC+A5m21CUCxGdeh2SabpcB0G2/Hrw3ADnE\n",
       "AC5js/o3SD/HPwYeB5AMkgsEX4FozgUM/AlAWmc3EFyAyPA+BPmUO4GhHuTut0h6mCbcg3hnPsjd\n",
       "3Mj+mWQLklHgOwjiszggybxlARrHKsALCZ4VcBlLBkaB60BXh02ECDy9/gAW1pcZ7q5HDrOy25DQ\n",
       "gQIAY/lDzDbeA58AAAAASUVORK5CYII=\n",
       "\" style=\"display:inline;vertical-align:middle;\" /></a>, <a class=\"ProveItLink\" href=\"../__pv_it/theorems/1157e8bc07ff5d23e5b8809064b9e77def3bc8980/expr.ipynb\"><img src=\"data:image/png;base64,iVBORw0KGgoAAAANSUhEUgAAAC8AAAAUCAMAAAAqRJTwAAAAPFBMVEX///8NDQ0WFhYLCwsYGBiY\n",
       "mJjMzMzc3NyIiIhUVFR2dna6urqqqqpmZmYyMjIiIiIQEBBERETu7u4AAAAYV9lEAAAAAXRSTlMA\n",
       "QObYZgAAAAlwSFlzAAAOxAAADsQBlSsOGwAAANlJREFUKM+VkusSxBAMhe2FkopLvP+7LjG6bK0Z\n",
       "fmhSn+OICPF/IM3+Ugx+iqvYZwAajxo6nPJRdYmzWdnXDclO5U2XSLYAfOKZpj7j0Se82TIJU/tn\n",
       "Ly8SW1bsxBmtzc2S6+Wp8bLEjvLUltHzeL/K3M44ElReN1NBL+S/fP6gY4Mwuh9LTHX5LPoeOLIL\n",
       "+XZfWygm8aop+38+6i2uGkWuvCxUys9IQY7yvy8iA2sV6yajcbRr7w3iSz+E0iFkAKVYy2cKQRs1\n",
       "72MLYms42sLlprzfkxdqtfgBzl0J3RfHeMcAAAAASUVORK5CYII=\n",
       "\" style=\"display:inline;vertical-align:middle;\" /></a> <a class=\"ProveItLink\" href=\"../__pv_it/demonstrations/dca1824549258afd6c1e6efce67bf654601e5a250/proof.ipynb\" style=\"text-decoration: none\">&nbsp;&#x22A2;&nbsp;&nbsp;</a><a class=\"ProveItLink\" href=\"../__pv_it/demonstrations/65c78eed08ff17030a1a21cb061bace0581766230/expr.ipynb\"><img src=\"data:image/png;base64,iVBORw0KGgoAAAANSUhEUgAAAG8AAAAmBAMAAAA4vNj3AAAAMFBMVEX///8AAAAAAAAAAAAAAAAA\n",
       "AAAAAAAAAAAAAAAAAAAAAAAAAAAAAAAAAAAAAAAAAAAv3aB7AAAAD3RSTlMAEM3dMiKriXZE77tm\n",
       "mVQzv5s6AAAACXBIWXMAAA7EAAAOxAGVKw4bAAABzklEQVRIx2NgIAR4H6CLCAmgcFnTWxuwabyG\n",
       "oYbFEEXBrADuj1j08ShgqjmGrIBxDQOvARaNXgKYarhBrmdUNgYBB94PDMwFWDSqI3sXqoZxIZIg\n",
       "1wYG+QmY+vg+YlOD7G/5BobzWCxEcQVcTXwAkuADhiS+AAyN/shBD1fDjWQcdwOfLS+mjdnIHLga\n",
       "ngVIIZZREtaCqfEPSsjD1LD+I5RsWL5iF7clpJHnA3bxS4Q0silgF+8npJErAbv4ewcCGvkLsIv7\n",
       "PyCk8QB2cXls4pfBidcMkkRwmMzfQMBGXE4CeuE/CkBXMH8CUgaCqAVHEP8Fcm28QMCP/uT6Mf4A\n",
       "aaGNnAOxG0goHrlwBII/tLCQXoxDI9MGFC5c3XtY/tbFVRovQOXD1BXDBHBlTB60ohambhuU5vyI\n",
       "QyMjqolwdbCCgd0AV+jsReHB1HHCCgamjDYc4XsKNayg6thh+VtekRFH4YJaSMPUcT1AhO4K7BrZ\n",
       "UcoOmLoupLLnOw5PLkEro8Dq1sEEzBk4cUXIIWQOVB2HAiJ6eHFFCNMBlGgEq4uCVxVfGKRwJXdG\n",
       "UyQORB2jHVwgBy2+kEEQUrUDUceNsESsFnf+YkUqQiHqJEFMAOrGi0W7nq6FAAAAAElFTkSuQmCC\n",
       "\" style=\"display:inline;vertical-align:middle;\" /></a></span>"
      ],
      "text/plain": [
       "{a in Real, b in Real, b != 0} |- ((-a) / b) = (-(a / b))"
      ]
     },
     "metadata": {},
     "output_type": "display_data"
    }
   ],
   "source": [
    "# with no neg_loc kwarg supplied, finds the Neg to factor out of numerator\n",
    "neg_a_over_b.simplification(assumptions=[InSet(a, Real), InSet(b, Real), NotEquals(b, zero)])"
   ]
  },
  {
   "cell_type": "code",
   "execution_count": 39,
   "metadata": {},
   "outputs": [
    {
     "data": {
      "text/html": [
       "<span style=\"font-size:20px;\"><a class=\"ProveItLink\" href=\"../../ordering/__pv_it/theorems/4aa8d696b1f407d6126de9f51a052e8d90e0848c0/expr.ipynb\"><img src=\"data:image/png;base64,iVBORw0KGgoAAAANSUhEUgAAADMAAAAQBAMAAABJt1qBAAAAMFBMVEX////MzMwyMjKqqqoiIiJm\n",
       "ZmaYmJju7u5EREQQEBC6urqIiIh2dnZUVFTc3NwAAAAqL9KcAAAAAXRSTlMAQObYZgAAAAlwSFlz\n",
       "AAAOxAAADsQBlSsOGwAAAM1JREFUGNNjYMAASTP6VWYkMGAFDW8Z1mYUYJd6w8DBeAGXFOsDBRSh\n",
       "HS4uCnCpBmSZRdsRunjLQQby3dm3ASTAp45koITRAyBj5QOO7yABpgdwqZcqX0AmsE9jYHUASyE5\n",
       "I60IRLN+YGA5AGJIugBBA0SKowzkZc4GhvoFIIEKJF2MAe1Aun4DQz5YgAXZX4EvQFIGDJeYQS7g\n",
       "3oAkVcENNJFjA7MrK1hEGS71lIEtoQvowtsH324Ei9R2FcBCvo+hQ98AOTjWtLgghxwApbZCEcpv\n",
       "FP8AAAAASUVORK5CYII=\n",
       "\" style=\"display:inline;vertical-align:middle;\" /></a>, <a class=\"ProveItLink\" href=\"../../ordering/__pv_it/theorems/6e5cad5b2984ed0d75bd47bd0c542ec447a4f3570/expr.ipynb\"><img src=\"data:image/png;base64,iVBORw0KGgoAAAANSUhEUgAAADEAAAAQBAMAAABNQoq8AAAAMFBMVEX///+YmJjMzMzc3NyIiIhU\n",
       "VFR2dna6urqqqqpmZmYyMjIiIiIQEBBERETu7u4AAAD7tRWPAAAAAXRSTlMAQObYZgAAAAlwSFlz\n",
       "AAAOxAAADsQBlSsOGwAAANZJREFUGNNjYEAHUmfvrz4rAGTw3dmAJnXBlKFU9gGQwTUBXcaMgZcp\n",
       "AMjgb8CU4TRYAGTUP4CK+O7evQAucwHIyIZKVPkh9LC+A5m21CUCxGdeh2SabpcB0G2/Hrw3ADnE\n",
       "AC5js/o3SD/HPwYeB5AMkgsEX4FozgUM/AlAWmc3EFyAyPA+BPmUO4GhHuTut0h6mCbcg3hnPsjd\n",
       "3Mj+mWQLklHgOwjiszggybxlARrHKsALCZ4VcBlLBkaB60BXh02ECDy9/gAW1pcZ7q5HDrOy25DQ\n",
       "gQIAY/lDzDbeA58AAAAASUVORK5CYII=\n",
       "\" style=\"display:inline;vertical-align:middle;\" /></a>, <a class=\"ProveItLink\" href=\"../__pv_it/theorems/1157e8bc07ff5d23e5b8809064b9e77def3bc8980/expr.ipynb\"><img src=\"data:image/png;base64,iVBORw0KGgoAAAANSUhEUgAAAC8AAAAUCAMAAAAqRJTwAAAAPFBMVEX///8NDQ0WFhYLCwsYGBiY\n",
       "mJjMzMzc3NyIiIhUVFR2dna6urqqqqpmZmYyMjIiIiIQEBBERETu7u4AAAAYV9lEAAAAAXRSTlMA\n",
       "QObYZgAAAAlwSFlzAAAOxAAADsQBlSsOGwAAANlJREFUKM+VkusSxBAMhe2FkopLvP+7LjG6bK0Z\n",
       "fmhSn+OICPF/IM3+Ugx+iqvYZwAajxo6nPJRdYmzWdnXDclO5U2XSLYAfOKZpj7j0Se82TIJU/tn\n",
       "Ly8SW1bsxBmtzc2S6+Wp8bLEjvLUltHzeL/K3M44ElReN1NBL+S/fP6gY4Mwuh9LTHX5LPoeOLIL\n",
       "+XZfWygm8aop+38+6i2uGkWuvCxUys9IQY7yvy8iA2sV6yajcbRr7w3iSz+E0iFkAKVYy2cKQRs1\n",
       "72MLYms42sLlprzfkxdqtfgBzl0J3RfHeMcAAAAASUVORK5CYII=\n",
       "\" style=\"display:inline;vertical-align:middle;\" /></a> <a class=\"ProveItLink\" href=\"../__pv_it/demonstrations/c2f3e685617c465b5531c4a703f1f912f799fe1e0/proof.ipynb\" style=\"text-decoration: none\">&nbsp;&#x22A2;&nbsp;&nbsp;</a><a class=\"ProveItLink\" href=\"../__pv_it/demonstrations/01860f227c6c5f18167735ea858d66b80d4ceee10/expr.ipynb\"><img src=\"data:image/png;base64,iVBORw0KGgoAAAANSUhEUgAAAG0AAAAmBAMAAAA8SQjKAAAAMFBMVEX///8AAAAAAAAAAAAAAAAA\n",
       "AAAAAAAAAAAAAAAAAAAAAAAAAAAAAAAAAAAAAAAAAAAv3aB7AAAAD3RSTlMAIquJdkTvuxBmmd1U\n",
       "zTKBpmoTAAAACXBIWXMAAA7EAAAOxAGVKw4bAAACE0lEQVRIx2NgIAC4DqCL9DbAmUImIrj0LUJi\n",
       "Myo7OjAw8O2A8VkTGeobsGvjvIDECRNg/wGkJsH4bRMYVuOw7hmSeRyZDFwbgDQ7zOnrGRg249B3\n",
       "GdmrHxi4DUD6M6AC6QwcX7Fr4/mBxGErYOgPQPIzxxcGzg/Y9YHNh4F+B4b5YIa8AETfHwamCwex\n",
       "6nuPHFz9Bxh0eUBa2KGmlTCcXrAAqz51ZA67A88uLnAgJ0AEmpwfqjzAqu8nModDxU7IDxyPfwgk\n",
       "Fr6P2MV3EdCHK7jWEtDHdAG7uD8BfWwK2MXPP8Cvj98Au/j7AwT0TcAu3o9FfPVuENgESRg4zOV3\n",
       "wG8fLvcA3f8fGaDLx4OSMcdtsAseQJSCY4Z/AZn2LcDvv/dk+k9+AmnhjJTjsJtHIP7YcPj/fQAi\n",
       "k5RtwJTnLUDhtmfD0hlSdubFYjZXAir/FpS2RvYrFjdz/kDlw/JrEXIcYyl5OVAzNusPLMWANbYA\n",
       "qELhMUODgBW5GLjkooOpbxpqMKk4gT3DjJSdOf429AtgRmAACu8GB9gmtgMoJTMbZiwzoxQUwOBP\n",
       "AdFuSKmd6wLW3J2HVhx9BtE5qCV6PJaYmIvM2czACgpglguo0bceS0zwTkCJPi5QTIghhwP/A2D1\n",
       "hiUGNyJx/oFqSgaOPShF5QR2rIlYFskRmuD4ZEfJRBzKK7EmfUakorLJCqSlFcQEAPQmnmwoAcZo\n",
       "AAAAAElFTkSuQmCC\n",
       "\" style=\"display:inline;vertical-align:middle;\" /></a></span>"
      ],
      "text/plain": [
       "{a in Real, b in Real, b != 0} |- (a / (-b)) = (-(a / b))"
      ]
     },
     "metadata": {},
     "output_type": "display_data"
    }
   ],
   "source": [
    "# with no neg_loc kwarg supplied, finds the Neg to factor out of denominator\n",
    "a_over_neg_b.neg_extraction(assumptions=[InSet(a, Real), InSet(b, Real), NotEquals(b, zero)])"
   ]
  },
  {
   "cell_type": "code",
   "execution_count": 40,
   "metadata": {},
   "outputs": [
    {
     "data": {
      "text/html": [
       "<span style=\"font-size:20px;\"><a class=\"ProveItLink\" href=\"../../ordering/__pv_it/theorems/4aa8d696b1f407d6126de9f51a052e8d90e0848c0/expr.ipynb\"><img src=\"data:image/png;base64,iVBORw0KGgoAAAANSUhEUgAAADMAAAAQBAMAAABJt1qBAAAAMFBMVEX////MzMwyMjKqqqoiIiJm\n",
       "ZmaYmJju7u5EREQQEBC6urqIiIh2dnZUVFTc3NwAAAAqL9KcAAAAAXRSTlMAQObYZgAAAAlwSFlz\n",
       "AAAOxAAADsQBlSsOGwAAAM1JREFUGNNjYMAASTP6VWYkMGAFDW8Z1mYUYJd6w8DBeAGXFOsDBRSh\n",
       "HS4uCnCpBmSZRdsRunjLQQby3dm3ASTAp45koITRAyBj5QOO7yABpgdwqZcqX0AmsE9jYHUASyE5\n",
       "I60IRLN+YGA5AGJIugBBA0SKowzkZc4GhvoFIIEKJF2MAe1Aun4DQz5YgAXZX4EvQFIGDJeYQS7g\n",
       "3oAkVcENNJFjA7MrK1hEGS71lIEtoQvowtsH324Ei9R2FcBCvo+hQ98AOTjWtLgghxwApbZCEcpv\n",
       "FP8AAAAASUVORK5CYII=\n",
       "\" style=\"display:inline;vertical-align:middle;\" /></a>, <a class=\"ProveItLink\" href=\"../../ordering/__pv_it/theorems/6e5cad5b2984ed0d75bd47bd0c542ec447a4f3570/expr.ipynb\"><img src=\"data:image/png;base64,iVBORw0KGgoAAAANSUhEUgAAADEAAAAQBAMAAABNQoq8AAAAMFBMVEX///+YmJjMzMzc3NyIiIhU\n",
       "VFR2dna6urqqqqpmZmYyMjIiIiIQEBBERETu7u4AAAD7tRWPAAAAAXRSTlMAQObYZgAAAAlwSFlz\n",
       "AAAOxAAADsQBlSsOGwAAANZJREFUGNNjYEAHUmfvrz4rAGTw3dmAJnXBlKFU9gGQwTUBXcaMgZcp\n",
       "AMjgb8CU4TRYAGTUP4CK+O7evQAucwHIyIZKVPkh9LC+A5m21CUCxGdeh2SabpcB0G2/Hrw3ADnE\n",
       "AC5js/o3SD/HPwYeB5AMkgsEX4FozgUM/AlAWmc3EFyAyPA+BPmUO4GhHuTut0h6mCbcg3hnPsjd\n",
       "3Mj+mWQLklHgOwjiszggybxlARrHKsALCZ4VcBlLBkaB60BXh02ECDy9/gAW1pcZ7q5HDrOy25DQ\n",
       "gQIAY/lDzDbeA58AAAAASUVORK5CYII=\n",
       "\" style=\"display:inline;vertical-align:middle;\" /></a>, <a class=\"ProveItLink\" href=\"../__pv_it/theorems/1157e8bc07ff5d23e5b8809064b9e77def3bc8980/expr.ipynb\"><img src=\"data:image/png;base64,iVBORw0KGgoAAAANSUhEUgAAAC8AAAAUCAMAAAAqRJTwAAAAPFBMVEX///8NDQ0WFhYLCwsYGBiY\n",
       "mJjMzMzc3NyIiIhUVFR2dna6urqqqqpmZmYyMjIiIiIQEBBERETu7u4AAAAYV9lEAAAAAXRSTlMA\n",
       "QObYZgAAAAlwSFlzAAAOxAAADsQBlSsOGwAAANlJREFUKM+VkusSxBAMhe2FkopLvP+7LjG6bK0Z\n",
       "fmhSn+OICPF/IM3+Ugx+iqvYZwAajxo6nPJRdYmzWdnXDclO5U2XSLYAfOKZpj7j0Se82TIJU/tn\n",
       "Ly8SW1bsxBmtzc2S6+Wp8bLEjvLUltHzeL/K3M44ElReN1NBL+S/fP6gY4Mwuh9LTHX5LPoeOLIL\n",
       "+XZfWygm8aop+38+6i2uGkWuvCxUys9IQY7yvy8iA2sV6yajcbRr7w3iSz+E0iFkAKVYy2cKQRs1\n",
       "72MLYms42sLlprzfkxdqtfgBzl0J3RfHeMcAAAAASUVORK5CYII=\n",
       "\" style=\"display:inline;vertical-align:middle;\" /></a> <a class=\"ProveItLink\" href=\"../__pv_it/demonstrations/dca1824549258afd6c1e6efce67bf654601e5a250/proof.ipynb\" style=\"text-decoration: none\">&nbsp;&#x22A2;&nbsp;&nbsp;</a><a class=\"ProveItLink\" href=\"../__pv_it/demonstrations/65c78eed08ff17030a1a21cb061bace0581766230/expr.ipynb\"><img src=\"data:image/png;base64,iVBORw0KGgoAAAANSUhEUgAAAG8AAAAmBAMAAAA4vNj3AAAAMFBMVEX///8AAAAAAAAAAAAAAAAA\n",
       "AAAAAAAAAAAAAAAAAAAAAAAAAAAAAAAAAAAAAAAAAAAv3aB7AAAAD3RSTlMAEM3dMiKriXZE77tm\n",
       "mVQzv5s6AAAACXBIWXMAAA7EAAAOxAGVKw4bAAABzklEQVRIx2NgIAR4H6CLCAmgcFnTWxuwabyG\n",
       "oYbFEEXBrADuj1j08ShgqjmGrIBxDQOvARaNXgKYarhBrmdUNgYBB94PDMwFWDSqI3sXqoZxIZIg\n",
       "1wYG+QmY+vg+YlOD7G/5BobzWCxEcQVcTXwAkuADhiS+AAyN/shBD1fDjWQcdwOfLS+mjdnIHLga\n",
       "ngVIIZZREtaCqfEPSsjD1LD+I5RsWL5iF7clpJHnA3bxS4Q0silgF+8npJErAbv4ewcCGvkLsIv7\n",
       "PyCk8QB2cXls4pfBidcMkkRwmMzfQMBGXE4CeuE/CkBXMH8CUgaCqAVHEP8Fcm28QMCP/uT6Mf4A\n",
       "aaGNnAOxG0goHrlwBII/tLCQXoxDI9MGFC5c3XtY/tbFVRovQOXD1BXDBHBlTB60ohambhuU5vyI\n",
       "QyMjqolwdbCCgd0AV+jsReHB1HHCCgamjDYc4XsKNayg6thh+VtekRFH4YJaSMPUcT1AhO4K7BrZ\n",
       "UcoOmLoupLLnOw5PLkEro8Dq1sEEzBk4cUXIIWQOVB2HAiJ6eHFFCNMBlGgEq4uCVxVfGKRwJXdG\n",
       "UyQORB2jHVwgBy2+kEEQUrUDUceNsESsFnf+YkUqQiHqJEFMAOrGi0W7nq6FAAAAAElFTkSuQmCC\n",
       "\" style=\"display:inline;vertical-align:middle;\" /></a></span>"
      ],
      "text/plain": [
       "{a in Real, b in Real, b != 0} |- ((-a) / b) = (-(a / b))"
      ]
     },
     "metadata": {},
     "output_type": "display_data"
    }
   ],
   "source": [
    "# can instead specify to factor out Neg from numerator\n",
    "neg_a_over_b.neg_extraction(neg_loc = 'numerator', assumptions=[InSet(a, Real), InSet(b, Real), NotEquals(b, zero)])"
   ]
  },
  {
   "cell_type": "code",
   "execution_count": 41,
   "metadata": {},
   "outputs": [
    {
     "data": {
      "text/html": [
       "<span style=\"font-size:20px;\"><a class=\"ProveItLink\" href=\"../../ordering/__pv_it/theorems/4aa8d696b1f407d6126de9f51a052e8d90e0848c0/expr.ipynb\"><img src=\"data:image/png;base64,iVBORw0KGgoAAAANSUhEUgAAADMAAAAQBAMAAABJt1qBAAAAMFBMVEX////MzMwyMjKqqqoiIiJm\n",
       "ZmaYmJju7u5EREQQEBC6urqIiIh2dnZUVFTc3NwAAAAqL9KcAAAAAXRSTlMAQObYZgAAAAlwSFlz\n",
       "AAAOxAAADsQBlSsOGwAAAM1JREFUGNNjYMAASTP6VWYkMGAFDW8Z1mYUYJd6w8DBeAGXFOsDBRSh\n",
       "HS4uCnCpBmSZRdsRunjLQQby3dm3ASTAp45koITRAyBj5QOO7yABpgdwqZcqX0AmsE9jYHUASyE5\n",
       "I60IRLN+YGA5AGJIugBBA0SKowzkZc4GhvoFIIEKJF2MAe1Aun4DQz5YgAXZX4EvQFIGDJeYQS7g\n",
       "3oAkVcENNJFjA7MrK1hEGS71lIEtoQvowtsH324Ei9R2FcBCvo+hQ98AOTjWtLgghxwApbZCEcpv\n",
       "FP8AAAAASUVORK5CYII=\n",
       "\" style=\"display:inline;vertical-align:middle;\" /></a>, <a class=\"ProveItLink\" href=\"../../ordering/__pv_it/theorems/6e5cad5b2984ed0d75bd47bd0c542ec447a4f3570/expr.ipynb\"><img src=\"data:image/png;base64,iVBORw0KGgoAAAANSUhEUgAAADEAAAAQBAMAAABNQoq8AAAAMFBMVEX///+YmJjMzMzc3NyIiIhU\n",
       "VFR2dna6urqqqqpmZmYyMjIiIiIQEBBERETu7u4AAAD7tRWPAAAAAXRSTlMAQObYZgAAAAlwSFlz\n",
       "AAAOxAAADsQBlSsOGwAAANZJREFUGNNjYEAHUmfvrz4rAGTw3dmAJnXBlKFU9gGQwTUBXcaMgZcp\n",
       "AMjgb8CU4TRYAGTUP4CK+O7evQAucwHIyIZKVPkh9LC+A5m21CUCxGdeh2SabpcB0G2/Hrw3ADnE\n",
       "AC5js/o3SD/HPwYeB5AMkgsEX4FozgUM/AlAWmc3EFyAyPA+BPmUO4GhHuTut0h6mCbcg3hnPsjd\n",
       "3Mj+mWQLklHgOwjiszggybxlARrHKsALCZ4VcBlLBkaB60BXh02ECDy9/gAW1pcZ7q5HDrOy25DQ\n",
       "gQIAY/lDzDbeA58AAAAASUVORK5CYII=\n",
       "\" style=\"display:inline;vertical-align:middle;\" /></a>, <a class=\"ProveItLink\" href=\"../__pv_it/theorems/1157e8bc07ff5d23e5b8809064b9e77def3bc8980/expr.ipynb\"><img src=\"data:image/png;base64,iVBORw0KGgoAAAANSUhEUgAAAC8AAAAUCAMAAAAqRJTwAAAAPFBMVEX///8NDQ0WFhYLCwsYGBiY\n",
       "mJjMzMzc3NyIiIhUVFR2dna6urqqqqpmZmYyMjIiIiIQEBBERETu7u4AAAAYV9lEAAAAAXRSTlMA\n",
       "QObYZgAAAAlwSFlzAAAOxAAADsQBlSsOGwAAANlJREFUKM+VkusSxBAMhe2FkopLvP+7LjG6bK0Z\n",
       "fmhSn+OICPF/IM3+Ugx+iqvYZwAajxo6nPJRdYmzWdnXDclO5U2XSLYAfOKZpj7j0Se82TIJU/tn\n",
       "Ly8SW1bsxBmtzc2S6+Wp8bLEjvLUltHzeL/K3M44ElReN1NBL+S/fP6gY4Mwuh9LTHX5LPoeOLIL\n",
       "+XZfWygm8aop+38+6i2uGkWuvCxUys9IQY7yvy8iA2sV6yajcbRr7w3iSz+E0iFkAKVYy2cKQRs1\n",
       "72MLYms42sLlprzfkxdqtfgBzl0J3RfHeMcAAAAASUVORK5CYII=\n",
       "\" style=\"display:inline;vertical-align:middle;\" /></a> <a class=\"ProveItLink\" href=\"../__pv_it/demonstrations/c2f3e685617c465b5531c4a703f1f912f799fe1e0/proof.ipynb\" style=\"text-decoration: none\">&nbsp;&#x22A2;&nbsp;&nbsp;</a><a class=\"ProveItLink\" href=\"../__pv_it/demonstrations/01860f227c6c5f18167735ea858d66b80d4ceee10/expr.ipynb\"><img src=\"data:image/png;base64,iVBORw0KGgoAAAANSUhEUgAAAG0AAAAmBAMAAAA8SQjKAAAAMFBMVEX///8AAAAAAAAAAAAAAAAA\n",
       "AAAAAAAAAAAAAAAAAAAAAAAAAAAAAAAAAAAAAAAAAAAv3aB7AAAAD3RSTlMAIquJdkTvuxBmmd1U\n",
       "zTKBpmoTAAAACXBIWXMAAA7EAAAOxAGVKw4bAAACE0lEQVRIx2NgIAC4DqCL9DbAmUImIrj0LUJi\n",
       "Myo7OjAw8O2A8VkTGeobsGvjvIDECRNg/wGkJsH4bRMYVuOw7hmSeRyZDFwbgDQ7zOnrGRg249B3\n",
       "GdmrHxi4DUD6M6AC6QwcX7Fr4/mBxGErYOgPQPIzxxcGzg/Y9YHNh4F+B4b5YIa8AETfHwamCwex\n",
       "6nuPHFz9Bxh0eUBa2KGmlTCcXrAAqz51ZA67A88uLnAgJ0AEmpwfqjzAqu8nModDxU7IDxyPfwgk\n",
       "Fr6P2MV3EdCHK7jWEtDHdAG7uD8BfWwK2MXPP8Cvj98Au/j7AwT0TcAu3o9FfPVuENgESRg4zOV3\n",
       "wG8fLvcA3f8fGaDLx4OSMcdtsAseQJSCY4Z/AZn2LcDvv/dk+k9+AmnhjJTjsJtHIP7YcPj/fQAi\n",
       "k5RtwJTnLUDhtmfD0hlSdubFYjZXAir/FpS2RvYrFjdz/kDlw/JrEXIcYyl5OVAzNusPLMWANbYA\n",
       "qELhMUODgBW5GLjkooOpbxpqMKk4gT3DjJSdOf429AtgRmAACu8GB9gmtgMoJTMbZiwzoxQUwOBP\n",
       "AdFuSKmd6wLW3J2HVhx9BtE5qCV6PJaYmIvM2czACgpglguo0bceS0zwTkCJPi5QTIghhwP/A2D1\n",
       "hiUGNyJx/oFqSgaOPShF5QR2rIlYFskRmuD4ZEfJRBzKK7EmfUakorLJCqSlFcQEAPQmnmwoAcZo\n",
       "AAAAAElFTkSuQmCC\n",
       "\" style=\"display:inline;vertical-align:middle;\" /></a></span>"
      ],
      "text/plain": [
       "{a in Real, b in Real, b != 0} |- (a / (-b)) = (-(a / b))"
      ]
     },
     "metadata": {},
     "output_type": "display_data"
    }
   ],
   "source": [
    "# can instead specify to factor out Neg from denominator\n",
    "a_over_neg_b.neg_extraction(neg_loc = 'denominator', assumptions=[InSet(a, Real), InSet(b, Real), NotEquals(b, zero)])"
   ]
  },
  {
   "cell_type": "code",
   "execution_count": 42,
   "metadata": {},
   "outputs": [
    {
     "data": {
      "text/html": [
       "<span style=\"font-size:20px;\"><a class=\"ProveItLink\" href=\"../../ordering/__pv_it/theorems/4aa8d696b1f407d6126de9f51a052e8d90e0848c0/expr.ipynb\"><img src=\"data:image/png;base64,iVBORw0KGgoAAAANSUhEUgAAADMAAAAQBAMAAABJt1qBAAAAMFBMVEX////MzMwyMjKqqqoiIiJm\n",
       "ZmaYmJju7u5EREQQEBC6urqIiIh2dnZUVFTc3NwAAAAqL9KcAAAAAXRSTlMAQObYZgAAAAlwSFlz\n",
       "AAAOxAAADsQBlSsOGwAAAM1JREFUGNNjYMAASTP6VWYkMGAFDW8Z1mYUYJd6w8DBeAGXFOsDBRSh\n",
       "HS4uCnCpBmSZRdsRunjLQQby3dm3ASTAp45koITRAyBj5QOO7yABpgdwqZcqX0AmsE9jYHUASyE5\n",
       "I60IRLN+YGA5AGJIugBBA0SKowzkZc4GhvoFIIEKJF2MAe1Aun4DQz5YgAXZX4EvQFIGDJeYQS7g\n",
       "3oAkVcENNJFjA7MrK1hEGS71lIEtoQvowtsH324Ei9R2FcBCvo+hQ98AOTjWtLgghxwApbZCEcpv\n",
       "FP8AAAAASUVORK5CYII=\n",
       "\" style=\"display:inline;vertical-align:middle;\" /></a>, <a class=\"ProveItLink\" href=\"../../exponentiation/__pv_it/theorems/d550e8309ef79ca46e4c9fb5617a392ea678789b0/expr.ipynb\"><img src=\"data:image/png;base64,iVBORw0KGgoAAAANSUhEUgAAADEAAAAQBAMAAABNQoq8AAAAMFBMVEX///9UVFQyMjK6urru7u4Q\n",
       "EBBERERmZmaqqqoiIiLc3NzMzMyYmJiIiIh2dnYAAABC1PP/AAAAAXRSTlMAQObYZgAAAAlwSFlz\n",
       "AAAOxAAADsQBlSsOGwAAAL1JREFUGNNjYEAHh8LyNcMOMGADCQsZDI85YJVZx8DGLYBDhn2BArLI\n",
       "tZkzFeAyCUgSRlcQehhdwKa9vbMBSHKpIJm2rWkBkLGygR2klWkBXGap5k+w/nkMrBdAMkguOOME\n",
       "otm/QPhbZwJBAkSGzQfkU1aoK9yQ9HAXpABp/wsQPieyf6qXAWl+oEYDIM17AUnGjRcoCnQYH8jV\n",
       "DBpwmeUMPAeSgYx3ZyBedEx2gIV1FkOafgNSINhlzkQOLQDcXDjPgdalcwAAAABJRU5ErkJggg==\n",
       "\" style=\"display:inline;vertical-align:middle;\" /></a>, <a class=\"ProveItLink\" href=\"../../ordering/__pv_it/theorems/6e5cad5b2984ed0d75bd47bd0c542ec447a4f3570/expr.ipynb\"><img src=\"data:image/png;base64,iVBORw0KGgoAAAANSUhEUgAAADEAAAAQBAMAAABNQoq8AAAAMFBMVEX///+YmJjMzMzc3NyIiIhU\n",
       "VFR2dna6urqqqqpmZmYyMjIiIiIQEBBERETu7u4AAAD7tRWPAAAAAXRSTlMAQObYZgAAAAlwSFlz\n",
       "AAAOxAAADsQBlSsOGwAAANZJREFUGNNjYEAHUmfvrz4rAGTw3dmAJnXBlKFU9gGQwTUBXcaMgZcp\n",
       "AMjgb8CU4TRYAGTUP4CK+O7evQAucwHIyIZKVPkh9LC+A5m21CUCxGdeh2SabpcB0G2/Hrw3ADnE\n",
       "AC5js/o3SD/HPwYeB5AMkgsEX4FozgUM/AlAWmc3EFyAyPA+BPmUO4GhHuTut0h6mCbcg3hnPsjd\n",
       "3Mj+mWQLklHgOwjiszggybxlARrHKsALCZ4VcBlLBkaB60BXh02ECDy9/gAW1pcZ7q5HDrOy25DQ\n",
       "gQIAY/lDzDbeA58AAAAASUVORK5CYII=\n",
       "\" style=\"display:inline;vertical-align:middle;\" /></a>, <a class=\"ProveItLink\" href=\"../__pv_it/theorems/1157e8bc07ff5d23e5b8809064b9e77def3bc8980/expr.ipynb\"><img src=\"data:image/png;base64,iVBORw0KGgoAAAANSUhEUgAAAC8AAAAUCAMAAAAqRJTwAAAAPFBMVEX///8NDQ0WFhYLCwsYGBiY\n",
       "mJjMzMzc3NyIiIhUVFR2dna6urqqqqpmZmYyMjIiIiIQEBBERETu7u4AAAAYV9lEAAAAAXRSTlMA\n",
       "QObYZgAAAAlwSFlzAAAOxAAADsQBlSsOGwAAANlJREFUKM+VkusSxBAMhe2FkopLvP+7LjG6bK0Z\n",
       "fmhSn+OICPF/IM3+Ugx+iqvYZwAajxo6nPJRdYmzWdnXDclO5U2XSLYAfOKZpj7j0Se82TIJU/tn\n",
       "Ly8SW1bsxBmtzc2S6+Wp8bLEjvLUltHzeL/K3M44ElReN1NBL+S/fP6gY4Mwuh9LTHX5LPoeOLIL\n",
       "+XZfWygm8aop+38+6i2uGkWuvCxUys9IQY7yvy8iA2sV6yajcbRr7w3iSz+E0iFkAKVYy2cKQRs1\n",
       "72MLYms42sLlprzfkxdqtfgBzl0J3RfHeMcAAAAASUVORK5CYII=\n",
       "\" style=\"display:inline;vertical-align:middle;\" /></a> <a class=\"ProveItLink\" href=\"../__pv_it/demonstrations/ba025022e1b4b3a7d2e116fcdf30f78251d0be680/proof.ipynb\" style=\"text-decoration: none\">&nbsp;&#x22A2;&nbsp;&nbsp;</a><a class=\"ProveItLink\" href=\"../__pv_it/demonstrations/6d4b03462fd5bf287cc3ddcefd57fcb37f8fa8f70/expr.ipynb\"><img src=\"data:image/png;base64,iVBORw0KGgoAAAANSUhEUgAAAK8AAAAtBAMAAAAqxCaVAAAAMFBMVEX///8AAAAAAAAAAAAAAAAA\n",
       "AAAAAAAAAAAAAAAAAAAAAAAAAAAAAAAAAAAAAAAAAAAv3aB7AAAAD3RSTlMAInZUiRDNmWbv3US7\n",
       "qzJazP2FAAAACXBIWXMAAA7EAAAOxAGVKw4bAAACmklEQVRIx7VXP4jTYBR/uTZNYmPbSfBAmhsE\n",
       "HdQM4uohgiAonQTxJB08FKcbREQ4uMk/g3gogihI5U4OBKG4OVldnITjEHFw6KpLK7XipOZLYvt9\n",
       "33uXF0N8Q2he3u+Xl19+3/dSAIAGKKGd5o8ZXz1/WRTxYf1GK8Xwmm09s1gMsYUavFkMsYMzrUKI\n",
       "j6BMhRXZ8tOunokbuyKljA9zHkB5c5o5tq9PQJcRRq6vPYt+XpKKXjXcMYA9fZ2zvtXDvHYbYZT6\n",
       "O9HvNckgD8HqAJRWJ5l1cDxM/KWFMEq9Gyn1OLx4+bmIvjWEHfMAtaEA/BBajkkRL8hyxxil3nyQ\n",
       "EE/s0IOgC1CNOt6IE0SU5NslGLV+WZMi8OCuAHakBBFRhxpGrW+K/eatVOTDx1ID7Emf9dB4XUQ8\n",
       "kH2eYNR6V9z61LTI9UobVqjUpKPwFZex3T7LJwlGrbeFmF+lN7x1es/B8FGnTR6/tRdL8VPZamKM\n",
       "Wm+MhGKopdn0ZVf7xi9n8SbtJT17LR1kD3niq+LwRksavXTQzjZPfEgcFrSky8wmZ5MnPir0NTSz\n",
       "zjGg+jxPPPBz7LP1DKMryDrerkebyYt4WWXopu7l6DjLY2aRC8VrsX7+bojbES/BbzbSO0blw4T4\n",
       "3zUe/C+NmyvFOAdbKUM3zTw+djLoN+jmIK70Mixp9M2z8Ij/JlslkhruJK64yBLb5OhWce9xwYj/\n",
       "PCVLRtsPmSiqY17Ad0ROxVXxkCl3eOLbRE7FlfEsqGwdYC0YEF5ScQ7mCBZNdlYS/Wi4/aQB77Fa\n",
       "POFw98nx+p0lvsHgZohHWocqbzjik1/B7W5QdrR4w5lPU3HmGoH5BWcz7Hi7Wmk4l2L4RNpfD6Of\n",
       "hjtHQc6fyPe/FOH+APeb24DPp8zsAAAAAElFTkSuQmCC\n",
       "\" style=\"display:inline;vertical-align:middle;\" /></a></span>"
      ],
      "text/plain": [
       "{a in Real, c in Real, b in Real, b != 0} |- (((-a) * c) / b) = (-((a * c) / b))"
      ]
     },
     "metadata": {},
     "output_type": "display_data"
    }
   ],
   "source": [
    "neg_mult_over_b.neg_extraction(\n",
    "    assumptions=[InSet(a, Real), InSet(b, Real), InSet(c, Real), NotEquals(b, zero)])"
   ]
  },
  {
   "cell_type": "code",
   "execution_count": 43,
   "metadata": {},
   "outputs": [
    {
     "data": {
      "text/html": [
       "<span style=\"font-size:20px;\"><a class=\"ProveItLink\" href=\"../../ordering/__pv_it/theorems/4aa8d696b1f407d6126de9f51a052e8d90e0848c0/expr.ipynb\"><img src=\"data:image/png;base64,iVBORw0KGgoAAAANSUhEUgAAADMAAAAQBAMAAABJt1qBAAAAMFBMVEX////MzMwyMjKqqqoiIiJm\n",
       "ZmaYmJju7u5EREQQEBC6urqIiIh2dnZUVFTc3NwAAAAqL9KcAAAAAXRSTlMAQObYZgAAAAlwSFlz\n",
       "AAAOxAAADsQBlSsOGwAAAM1JREFUGNNjYMAASTP6VWYkMGAFDW8Z1mYUYJd6w8DBeAGXFOsDBRSh\n",
       "HS4uCnCpBmSZRdsRunjLQQby3dm3ASTAp45koITRAyBj5QOO7yABpgdwqZcqX0AmsE9jYHUASyE5\n",
       "I60IRLN+YGA5AGJIugBBA0SKowzkZc4GhvoFIIEKJF2MAe1Aun4DQz5YgAXZX4EvQFIGDJeYQS7g\n",
       "3oAkVcENNJFjA7MrK1hEGS71lIEtoQvowtsH324Ei9R2FcBCvo+hQ98AOTjWtLgghxwApbZCEcpv\n",
       "FP8AAAAASUVORK5CYII=\n",
       "\" style=\"display:inline;vertical-align:middle;\" /></a>, <a class=\"ProveItLink\" href=\"../../exponentiation/__pv_it/theorems/d550e8309ef79ca46e4c9fb5617a392ea678789b0/expr.ipynb\"><img src=\"data:image/png;base64,iVBORw0KGgoAAAANSUhEUgAAADEAAAAQBAMAAABNQoq8AAAAMFBMVEX///9UVFQyMjK6urru7u4Q\n",
       "EBBERERmZmaqqqoiIiLc3NzMzMyYmJiIiIh2dnYAAABC1PP/AAAAAXRSTlMAQObYZgAAAAlwSFlz\n",
       "AAAOxAAADsQBlSsOGwAAAL1JREFUGNNjYEAHh8LyNcMOMGADCQsZDI85YJVZx8DGLYBDhn2BArLI\n",
       "tZkzFeAyCUgSRlcQehhdwKa9vbMBSHKpIJm2rWkBkLGygR2klWkBXGap5k+w/nkMrBdAMkguOOME\n",
       "otm/QPhbZwJBAkSGzQfkU1aoK9yQ9HAXpABp/wsQPieyf6qXAWl+oEYDIM17AUnGjRcoCnQYH8jV\n",
       "DBpwmeUMPAeSgYx3ZyBedEx2gIV1FkOafgNSINhlzkQOLQDcXDjPgdalcwAAAABJRU5ErkJggg==\n",
       "\" style=\"display:inline;vertical-align:middle;\" /></a>, <a class=\"ProveItLink\" href=\"../../ordering/__pv_it/theorems/6e5cad5b2984ed0d75bd47bd0c542ec447a4f3570/expr.ipynb\"><img src=\"data:image/png;base64,iVBORw0KGgoAAAANSUhEUgAAADEAAAAQBAMAAABNQoq8AAAAMFBMVEX///+YmJjMzMzc3NyIiIhU\n",
       "VFR2dna6urqqqqpmZmYyMjIiIiIQEBBERETu7u4AAAD7tRWPAAAAAXRSTlMAQObYZgAAAAlwSFlz\n",
       "AAAOxAAADsQBlSsOGwAAANZJREFUGNNjYEAHUmfvrz4rAGTw3dmAJnXBlKFU9gGQwTUBXcaMgZcp\n",
       "AMjgb8CU4TRYAGTUP4CK+O7evQAucwHIyIZKVPkh9LC+A5m21CUCxGdeh2SabpcB0G2/Hrw3ADnE\n",
       "AC5js/o3SD/HPwYeB5AMkgsEX4FozgUM/AlAWmc3EFyAyPA+BPmUO4GhHuTut0h6mCbcg3hnPsjd\n",
       "3Mj+mWQLklHgOwjiszggybxlARrHKsALCZ4VcBlLBkaB60BXh02ECDy9/gAW1pcZ7q5HDrOy25DQ\n",
       "gQIAY/lDzDbeA58AAAAASUVORK5CYII=\n",
       "\" style=\"display:inline;vertical-align:middle;\" /></a>, <a class=\"ProveItLink\" href=\"../__pv_it/theorems/1157e8bc07ff5d23e5b8809064b9e77def3bc8980/expr.ipynb\"><img src=\"data:image/png;base64,iVBORw0KGgoAAAANSUhEUgAAAC8AAAAUCAMAAAAqRJTwAAAAPFBMVEX///8NDQ0WFhYLCwsYGBiY\n",
       "mJjMzMzc3NyIiIhUVFR2dna6urqqqqpmZmYyMjIiIiIQEBBERETu7u4AAAAYV9lEAAAAAXRSTlMA\n",
       "QObYZgAAAAlwSFlzAAAOxAAADsQBlSsOGwAAANlJREFUKM+VkusSxBAMhe2FkopLvP+7LjG6bK0Z\n",
       "fmhSn+OICPF/IM3+Ugx+iqvYZwAajxo6nPJRdYmzWdnXDclO5U2XSLYAfOKZpj7j0Se82TIJU/tn\n",
       "Ly8SW1bsxBmtzc2S6+Wp8bLEjvLUltHzeL/K3M44ElReN1NBL+S/fP6gY4Mwuh9LTHX5LPoeOLIL\n",
       "+XZfWygm8aop+38+6i2uGkWuvCxUys9IQY7yvy8iA2sV6yajcbRr7w3iSz+E0iFkAKVYy2cKQRs1\n",
       "72MLYms42sLlprzfkxdqtfgBzl0J3RfHeMcAAAAASUVORK5CYII=\n",
       "\" style=\"display:inline;vertical-align:middle;\" /></a> <a class=\"ProveItLink\" href=\"../__pv_it/demonstrations/f458773789f4f6d94466e1610699a0b97c28fcce0/proof.ipynb\" style=\"text-decoration: none\">&nbsp;&#x22A2;&nbsp;&nbsp;</a><a class=\"ProveItLink\" href=\"../__pv_it/demonstrations/8ab52c3a1b3fd57e310c5b121141be69851819380/expr.ipynb\"><img src=\"data:image/png;base64,iVBORw0KGgoAAAANSUhEUgAAAK8AAAAtBAMAAAAqxCaVAAAAMFBMVEX///8AAAAAAAAAAAAAAAAA\n",
       "AAAAAAAAAAAAAAAAAAAAAAAAAAAAAAAAAAAAAAAAAAAv3aB7AAAAD3RSTlMAIquJdkTvuxBmmd1U\n",
       "zTKBpmoTAAAACXBIWXMAAA7EAAAOxAGVKw4bAAACrklEQVRIx7WXPYjUQBTH37q3STaX/cDC5pA9\n",
       "8EAshEWtPJCchWijW4itFgqKIlGsrA5Br5IcVwgKcotWIsLqNbJeEbAWF2xObVLZWOyKzQrrx2Sy\n",
       "xpl57zIxxil2M2/f75+XlzfzZgGU0UyZ/cuYCaTp6cKEXyv3WS1I1xoohq2ChG01wgcFCRvIsFyM\n",
       "8BvVUCOTbAdpInfjYEp7ltzE9lh0OHQihPI8hT4SriWeM/WX/PJM0xwn9vcCMRfYHlQHhK5klHjO\n",
       "wBqvg0tg95IfNgViAwwXnHOE8Cch8TLPGTCjTNkjmG2zb59HcYF5fnwVjdDmcdRHhPA7Md1T3voe\n",
       "TeLYrYvRa/fA77Dv2e5UOKkHL/qsEBE7Y5DcOA/9hInfge/COlCp8PkrcXpYmEcouK0rDECL7TF+\n",
       "APudZK+58YdosELrQNXDwkOxtiU+ZliS2a1N1+nbidsBIXkelEOw21h4rziR+JhhZcMSaC0c2Xky\n",
       "cfssIAfvH2eP3cHC36TdReI5w2p7gtIXKoY5rFv/ol/BfVT6XcXwhFgeI73wM2S5Jk9LxLvbMdAL\n",
       "n0KWFXlqEr3JmNcLv1VTCiVXmi4RUKOtFx4GObbWRoZ25WdtaU/5/vEiXlYZomm4OSLO8phZ0oXG\n",
       "2WjN/N4DtxPuwk/tSI8YuY+mwn+f4+H/ynFrtZjKwaWUIZpWnjo2MuRv2MkhXPMyLGl0zlm5rD+G\n",
       "UY1b4RaxxwetcHVMWWXuOnaY6E+kpMtk+ybDR2WsT+BNwiZzFdxkyj298D3CJnNl3AtqC0e1JegT\n",
       "tSRzBtbwtyxtryTiUbhjZAGe1+biqo67QrbXr1rhhxpuhnikDajoC4445kvcriZVjra+4KznqZy1\n",
       "STA/4E6GHW/3chpnUgr7yPJHh4QwjbtNIbcO5/svirhfdqDoy0gN+jgAAAAASUVORK5CYII=\n",
       "\" style=\"display:inline;vertical-align:middle;\" /></a></span>"
      ],
      "text/plain": [
       "{a in Real, c in Real, b in Real, b != 0} |- ((a * (-c)) / b) = (-((a * c) / b))"
      ]
     },
     "metadata": {},
     "output_type": "display_data"
    }
   ],
   "source": [
    "neg_mult_02_over_b.neg_extraction(\n",
    "    assumptions=[InSet(a, Real), InSet(b, Real), InSet(c, Real), NotEquals(b, zero)])"
   ]
  },
  {
   "cell_type": "code",
   "execution_count": 44,
   "metadata": {},
   "outputs": [
    {
     "data": {
      "text/html": [
       "<a class=\"ProveItLink\" href=\"../__pv_it/demonstrations/43115e40c53ea659e5b051f1037dbed1048647310/expr.ipynb\"><img src=\"data:image/png;base64,iVBORw0KGgoAAAANSUhEUgAAAEIAAAAqBAMAAAD13ZDsAAAAMFBMVEX////MzMwyMjKqqqoiIiJm\n",
       "ZmaYmJju7u5EREQQEBC6urqIiIh2dnZUVFTc3NwAAAAqL9KcAAAAAXRSTlMAQObYZgAAAAlwSFlz\n",
       "AAAOxAAADsQBlSsOGwAAAU9JREFUOMtjYEAFb0+/ZsALuOYx9BfgVVGZwBCC34x4BgYf/CpmMLD/\n",
       "wquA/TcD2wf8Kj4z8CrY4VXSzWASEIBXRe0eudsCDKMAH/hPCNDPKQ/w8MCA2wCFuxpThQ0iAXU6\n",
       "ADUkYKQrBQSbCZR61NFVsCLp4QdZmIqughOJvR6UmzjRs5QREvsI2Cp0h8QgsXV3X2Zg4LmAEDi9\n",
       "DZhq1ZAc/amg/gEDG8LpTwxYGxgYnBEqmL8zcG5gYJ4AF/AB8RlmAfWquICAAKsCA/8BBsYPYONA\n",
       "3vwOVjcLYQbLAYb1BgxcYDNcQb5qAAs7owRHfAEDswOMX78BmhERKgTYpzEwsDXA+UB/L2BgOItQ\n",
       "wZvAAQx21gPw4G5g4AH6VgTJt3fCQK5ZABc4k7YdJICek5+gxwsbemkQhpE++lC5fA0YKipQuRyY\n",
       "yZBvAwp3H5o0APOrYMwvSY+MAAAAAElFTkSuQmCC\n",
       "\" style=\"display:inline;vertical-align:middle;\" /></a>"
      ],
      "text/plain": [
       "a / ((-b) * c)"
      ]
     },
     "metadata": {},
     "output_type": "display_data"
    }
   ],
   "source": [
    "a_over_neg_mult"
   ]
  },
  {
   "cell_type": "code",
   "execution_count": 45,
   "metadata": {},
   "outputs": [
    {
     "data": {
      "text/html": [
       "<span style=\"font-size:20px;\"><a class=\"ProveItLink\" href=\"../../ordering/__pv_it/theorems/6e5cad5b2984ed0d75bd47bd0c542ec447a4f3570/expr.ipynb\"><img src=\"data:image/png;base64,iVBORw0KGgoAAAANSUhEUgAAADEAAAAQBAMAAABNQoq8AAAAMFBMVEX///+YmJjMzMzc3NyIiIhU\n",
       "VFR2dna6urqqqqpmZmYyMjIiIiIQEBBERETu7u4AAAD7tRWPAAAAAXRSTlMAQObYZgAAAAlwSFlz\n",
       "AAAOxAAADsQBlSsOGwAAANZJREFUGNNjYEAHUmfvrz4rAGTw3dmAJnXBlKFU9gGQwTUBXcaMgZcp\n",
       "AMjgb8CU4TRYAGTUP4CK+O7evQAucwHIyIZKVPkh9LC+A5m21CUCxGdeh2SabpcB0G2/Hrw3ADnE\n",
       "AC5js/o3SD/HPwYeB5AMkgsEX4FozgUM/AlAWmc3EFyAyPA+BPmUO4GhHuTut0h6mCbcg3hnPsjd\n",
       "3Mj+mWQLklHgOwjiszggybxlARrHKsALCZ4VcBlLBkaB60BXh02ECDy9/gAW1pcZ7q5HDrOy25DQ\n",
       "gQIAY/lDzDbeA58AAAAASUVORK5CYII=\n",
       "\" style=\"display:inline;vertical-align:middle;\" /></a>, <a class=\"ProveItLink\" href=\"../../exponentiation/__pv_it/theorems/d550e8309ef79ca46e4c9fb5617a392ea678789b0/expr.ipynb\"><img src=\"data:image/png;base64,iVBORw0KGgoAAAANSUhEUgAAADEAAAAQBAMAAABNQoq8AAAAMFBMVEX///9UVFQyMjK6urru7u4Q\n",
       "EBBERERmZmaqqqoiIiLc3NzMzMyYmJiIiIh2dnYAAABC1PP/AAAAAXRSTlMAQObYZgAAAAlwSFlz\n",
       "AAAOxAAADsQBlSsOGwAAAL1JREFUGNNjYEAHh8LyNcMOMGADCQsZDI85YJVZx8DGLYBDhn2BArLI\n",
       "tZkzFeAyCUgSRlcQehhdwKa9vbMBSHKpIJm2rWkBkLGygR2klWkBXGap5k+w/nkMrBdAMkguOOME\n",
       "otm/QPhbZwJBAkSGzQfkU1aoK9yQ9HAXpABp/wsQPieyf6qXAWl+oEYDIM17AUnGjRcoCnQYH8jV\n",
       "DBpwmeUMPAeSgYx3ZyBedEx2gIV1FkOafgNSINhlzkQOLQDcXDjPgdalcwAAAABJRU5ErkJggg==\n",
       "\" style=\"display:inline;vertical-align:middle;\" /></a>, <a class=\"ProveItLink\" href=\"../../ordering/__pv_it/theorems/4aa8d696b1f407d6126de9f51a052e8d90e0848c0/expr.ipynb\"><img src=\"data:image/png;base64,iVBORw0KGgoAAAANSUhEUgAAADMAAAAQBAMAAABJt1qBAAAAMFBMVEX////MzMwyMjKqqqoiIiJm\n",
       "ZmaYmJju7u5EREQQEBC6urqIiIh2dnZUVFTc3NwAAAAqL9KcAAAAAXRSTlMAQObYZgAAAAlwSFlz\n",
       "AAAOxAAADsQBlSsOGwAAAM1JREFUGNNjYMAASTP6VWYkMGAFDW8Z1mYUYJd6w8DBeAGXFOsDBRSh\n",
       "HS4uCnCpBmSZRdsRunjLQQby3dm3ASTAp45koITRAyBj5QOO7yABpgdwqZcqX0AmsE9jYHUASyE5\n",
       "I60IRLN+YGA5AGJIugBBA0SKowzkZc4GhvoFIIEKJF2MAe1Aun4DQz5YgAXZX4EvQFIGDJeYQS7g\n",
       "3oAkVcENNJFjA7MrK1hEGS71lIEtoQvowtsH324Ei9R2FcBCvo+hQ98AOTjWtLgghxwApbZCEcpv\n",
       "FP8AAAAASUVORK5CYII=\n",
       "\" style=\"display:inline;vertical-align:middle;\" /></a>, <a class=\"ProveItLink\" href=\"../__pv_it/theorems/1157e8bc07ff5d23e5b8809064b9e77def3bc8980/expr.ipynb\"><img src=\"data:image/png;base64,iVBORw0KGgoAAAANSUhEUgAAAC8AAAAUCAMAAAAqRJTwAAAAPFBMVEX///8NDQ0WFhYLCwsYGBiY\n",
       "mJjMzMzc3NyIiIhUVFR2dna6urqqqqpmZmYyMjIiIiIQEBBERETu7u4AAAAYV9lEAAAAAXRSTlMA\n",
       "QObYZgAAAAlwSFlzAAAOxAAADsQBlSsOGwAAANlJREFUKM+VkusSxBAMhe2FkopLvP+7LjG6bK0Z\n",
       "fmhSn+OICPF/IM3+Ugx+iqvYZwAajxo6nPJRdYmzWdnXDclO5U2XSLYAfOKZpj7j0Se82TIJU/tn\n",
       "Ly8SW1bsxBmtzc2S6+Wp8bLEjvLUltHzeL/K3M44ElReN1NBL+S/fP6gY4Mwuh9LTHX5LPoeOLIL\n",
       "+XZfWygm8aop+38+6i2uGkWuvCxUys9IQY7yvy8iA2sV6yajcbRr7w3iSz+E0iFkAKVYy2cKQRs1\n",
       "72MLYms42sLlprzfkxdqtfgBzl0J3RfHeMcAAAAASUVORK5CYII=\n",
       "\" style=\"display:inline;vertical-align:middle;\" /></a>, <a class=\"ProveItLink\" href=\"../__pv_it/demonstrations/1034b099268ebc68ab71d757a423d98a8a315f520/expr.ipynb\"><img src=\"data:image/png;base64,iVBORw0KGgoAAAANSUhEUgAAAC8AAAAUCAMAAAAqRJTwAAAAPFBMVEX///8NDQ0WFhYLCwsYGBgy\n",
       "MjJUVFS6urru7u4QEBBERERmZmaqqqoiIiLc3NzMzMyYmJiIiIh2dnYAAAB6aGVTAAAAAXRSTlMA\n",
       "QObYZgAAAAlwSFlzAAAOxAAADsQBlSsOGwAAAMxJREFUKM+VkusShCAIhdmLhaKJ+v7vuorjrrXm\n",
       "jPywmA4fBxLgPghhJbzpsxgDHVO98V2iLAC6WYHfuoSd9DAzfA8zUmzT/UR7j4dE0jLZOksI7C96\n",
       "1eOx6Tmfh8tV1KyRk3i/ytl6HClWfcinK+86TPA/fX7QaIidTilW/V74erQkddl09W/zvJjOTsT/\n",
       "81Gn+O7ICJSLFZk59zrhrxZZC0tB20zs92npz2DZIWpfbxJzwCk+aymGzY9/rY1L93iEnwUv4t0a\n",
       "Hvzs4wcwlAh3LLfaVQAAAABJRU5ErkJggg==\n",
       "\" style=\"display:inline;vertical-align:middle;\" /></a> <a class=\"ProveItLink\" href=\"../__pv_it/demonstrations/368992254548343939ecd40edb5b706105fb41530/proof.ipynb\" style=\"text-decoration: none\">&nbsp;&#x22A2;&nbsp;&nbsp;</a><a class=\"ProveItLink\" href=\"../__pv_it/demonstrations/e4b9ea753c159b129748d4e825935c0b5fa10eae0/expr.ipynb\"><img src=\"data:image/png;base64,iVBORw0KGgoAAAANSUhEUgAAAKsAAAArBAMAAAD1dmXyAAAAMFBMVEX///8AAAAAAAAAAAAAAAAA\n",
       "AAAAAAAAAAAAAAAAAAAAAAAAAAAAAAAAAAAAAAAAAAAv3aB7AAAAD3RSTlMAIquJdkTvuxBmmd1U\n",
       "zTKBpmoTAAAACXBIWXMAAA7EAAAOxAGVKw4bAAACjElEQVRIx7VWMWgUURCdyyW7e+ft7SJiEySC\n",
       "QpoUQdPZRJSglVfYXyxEhSCrSIo0LgG1kiwWgoJwaBVCSDSNaIoTSxEXbRSbtbFJcREUIiSY/Xsx\n",
       "+2f+Z+du2fzq9v/33s3Mnz8zADlWtZ1x+NDXbB6eOMLLPs+i1V+rhKErcNfnVCthJu2RyrgfwBJr\n",
       "7E8/k2aqIVoBWGNlv2TTrOvK+TWw/nCqtS2GpoTe+g2VTU720DhDG3Hp+TYMhO8Y2Y4SWkIzlf+9\n",
       "Ax9aLUZ2VN3CtMo0PZ8/9+NkxMj+VbcwrbSd44nVf7GQNzlk+TuF5RyyAyELuZRD1jjOQj5F/cs6\n",
       "4yyk084hG7CQhaA3qaW3Yr3qviHeFGeyf2t78DCO0z9uUU6zIZ7r98T+SKEn2ee0DsbaVv+x7RxM\n",
       "bEeCHpMFl0eXyx7elCRZBrFXl7lXxgeuI271fVqOZ1fjf2GctD1UwQVFebxxobek0mELS74yswcu\n",
       "0rbG+DMCJlnniHg8ZQoj7pCOJjFui1jJqS7alJE9f1i49jd9ff/4SKwHmwnunOIwnXFE/3ghbXw+\n",
       "PwZQlgrqxEW1dD5GXwkFw8vitr5J/u34C648Yg23q56auA2gFAw3RLjX0bxiTEItveo18U1XOQRK\n",
       "wfAp8ftqWo+qoahp9c3ECpEkW9rg3pTTLaFg+MyerDQGNdswNP2/KRueVvYZUAqCDyberKMcXPGh\n",
       "tso8fzugFAQ/6nYHnRQTWTfifPfkStTQZO5LSpHhVtfOU9IIEJjxU6zut9b4Xsu63nzMJxQZbnZ9\n",
       "2ZDMOLEowpUaePrJBV0UShGhyPB7e0Gn9gxDEatCS9BiIbJwi3joFSP7AH+abjGyJZydZ4vQ3AVR\n",
       "KOuqvDaeXQAAAABJRU5ErkJggg==\n",
       "\" style=\"display:inline;vertical-align:middle;\" /></a></span>"
      ],
      "text/plain": [
       "{b in Real, c in Real, a in Real, b != 0, c != 0} |- (a / ((-b) * c)) = (-(a / (b * c)))"
      ]
     },
     "metadata": {},
     "output_type": "display_data"
    }
   ],
   "source": [
    "a_over_neg_mult.neg_extraction(\n",
    "    assumptions=[InSet(a, Real), InSet(b, Real), InSet(c, Real),\n",
    "                 NotEquals(b, zero), NotEquals(c, zero)])"
   ]
  },
  {
   "cell_type": "code",
   "execution_count": 46,
   "metadata": {},
   "outputs": [
    {
     "data": {
      "text/html": [
       "<span style=\"font-size:20px;\"><a class=\"ProveItLink\" href=\"../../ordering/__pv_it/theorems/4aa8d696b1f407d6126de9f51a052e8d90e0848c0/expr.ipynb\"><img src=\"data:image/png;base64,iVBORw0KGgoAAAANSUhEUgAAADMAAAAQBAMAAABJt1qBAAAAMFBMVEX////MzMwyMjKqqqoiIiJm\n",
       "ZmaYmJju7u5EREQQEBC6urqIiIh2dnZUVFTc3NwAAAAqL9KcAAAAAXRSTlMAQObYZgAAAAlwSFlz\n",
       "AAAOxAAADsQBlSsOGwAAAM1JREFUGNNjYMAASTP6VWYkMGAFDW8Z1mYUYJd6w8DBeAGXFOsDBRSh\n",
       "HS4uCnCpBmSZRdsRunjLQQby3dm3ASTAp45koITRAyBj5QOO7yABpgdwqZcqX0AmsE9jYHUASyE5\n",
       "I60IRLN+YGA5AGJIugBBA0SKowzkZc4GhvoFIIEKJF2MAe1Aun4DQz5YgAXZX4EvQFIGDJeYQS7g\n",
       "3oAkVcENNJFjA7MrK1hEGS71lIEtoQvowtsH324Ei9R2FcBCvo+hQ98AOTjWtLgghxwApbZCEcpv\n",
       "FP8AAAAASUVORK5CYII=\n",
       "\" style=\"display:inline;vertical-align:middle;\" /></a>, <a class=\"ProveItLink\" href=\"../../ordering/__pv_it/theorems/6e5cad5b2984ed0d75bd47bd0c542ec447a4f3570/expr.ipynb\"><img src=\"data:image/png;base64,iVBORw0KGgoAAAANSUhEUgAAADEAAAAQBAMAAABNQoq8AAAAMFBMVEX///+YmJjMzMzc3NyIiIhU\n",
       "VFR2dna6urqqqqpmZmYyMjIiIiIQEBBERETu7u4AAAD7tRWPAAAAAXRSTlMAQObYZgAAAAlwSFlz\n",
       "AAAOxAAADsQBlSsOGwAAANZJREFUGNNjYEAHUmfvrz4rAGTw3dmAJnXBlKFU9gGQwTUBXcaMgZcp\n",
       "AMjgb8CU4TRYAGTUP4CK+O7evQAucwHIyIZKVPkh9LC+A5m21CUCxGdeh2SabpcB0G2/Hrw3ADnE\n",
       "AC5js/o3SD/HPwYeB5AMkgsEX4FozgUM/AlAWmc3EFyAyPA+BPmUO4GhHuTut0h6mCbcg3hnPsjd\n",
       "3Mj+mWQLklHgOwjiszggybxlARrHKsALCZ4VcBlLBkaB60BXh02ECDy9/gAW1pcZ7q5HDrOy25DQ\n",
       "gQIAY/lDzDbeA58AAAAASUVORK5CYII=\n",
       "\" style=\"display:inline;vertical-align:middle;\" /></a>, <a class=\"ProveItLink\" href=\"../__pv_it/theorems/1157e8bc07ff5d23e5b8809064b9e77def3bc8980/expr.ipynb\"><img src=\"data:image/png;base64,iVBORw0KGgoAAAANSUhEUgAAAC8AAAAUCAMAAAAqRJTwAAAAPFBMVEX///8NDQ0WFhYLCwsYGBiY\n",
       "mJjMzMzc3NyIiIhUVFR2dna6urqqqqpmZmYyMjIiIiIQEBBERETu7u4AAAAYV9lEAAAAAXRSTlMA\n",
       "QObYZgAAAAlwSFlzAAAOxAAADsQBlSsOGwAAANlJREFUKM+VkusSxBAMhe2FkopLvP+7LjG6bK0Z\n",
       "fmhSn+OICPF/IM3+Ugx+iqvYZwAajxo6nPJRdYmzWdnXDclO5U2XSLYAfOKZpj7j0Se82TIJU/tn\n",
       "Ly8SW1bsxBmtzc2S6+Wp8bLEjvLUltHzeL/K3M44ElReN1NBL+S/fP6gY4Mwuh9LTHX5LPoeOLIL\n",
       "+XZfWygm8aop+38+6i2uGkWuvCxUys9IQY7yvy8iA2sV6yajcbRr7w3iSz+E0iFkAKVYy2cKQRs1\n",
       "72MLYms42sLlprzfkxdqtfgBzl0J3RfHeMcAAAAASUVORK5CYII=\n",
       "\" style=\"display:inline;vertical-align:middle;\" /></a> <a class=\"ProveItLink\" href=\"../__pv_it/demonstrations/dca1824549258afd6c1e6efce67bf654601e5a250/proof.ipynb\" style=\"text-decoration: none\">&nbsp;&#x22A2;&nbsp;&nbsp;</a><a class=\"ProveItLink\" href=\"../__pv_it/demonstrations/65c78eed08ff17030a1a21cb061bace0581766230/expr.ipynb\"><img src=\"data:image/png;base64,iVBORw0KGgoAAAANSUhEUgAAAG8AAAAmBAMAAAA4vNj3AAAAMFBMVEX///8AAAAAAAAAAAAAAAAA\n",
       "AAAAAAAAAAAAAAAAAAAAAAAAAAAAAAAAAAAAAAAAAAAv3aB7AAAAD3RSTlMAEM3dMiKriXZE77tm\n",
       "mVQzv5s6AAAACXBIWXMAAA7EAAAOxAGVKw4bAAABzklEQVRIx2NgIAR4H6CLCAmgcFnTWxuwabyG\n",
       "oYbFEEXBrADuj1j08ShgqjmGrIBxDQOvARaNXgKYarhBrmdUNgYBB94PDMwFWDSqI3sXqoZxIZIg\n",
       "1wYG+QmY+vg+YlOD7G/5BobzWCxEcQVcTXwAkuADhiS+AAyN/shBD1fDjWQcdwOfLS+mjdnIHLga\n",
       "ngVIIZZREtaCqfEPSsjD1LD+I5RsWL5iF7clpJHnA3bxS4Q0silgF+8npJErAbv4ewcCGvkLsIv7\n",
       "PyCk8QB2cXls4pfBidcMkkRwmMzfQMBGXE4CeuE/CkBXMH8CUgaCqAVHEP8Fcm28QMCP/uT6Mf4A\n",
       "aaGNnAOxG0goHrlwBII/tLCQXoxDI9MGFC5c3XtY/tbFVRovQOXD1BXDBHBlTB60ohambhuU5vyI\n",
       "QyMjqolwdbCCgd0AV+jsReHB1HHCCgamjDYc4XsKNayg6thh+VtekRFH4YJaSMPUcT1AhO4K7BrZ\n",
       "UcoOmLoupLLnOw5PLkEro8Dq1sEEzBk4cUXIIWQOVB2HAiJ6eHFFCNMBlGgEq4uCVxVfGKRwJXdG\n",
       "UyQORB2jHVwgBy2+kEEQUrUDUceNsESsFnf+YkUqQiHqJEFMAOrGi0W7nq6FAAAAAElFTkSuQmCC\n",
       "\" style=\"display:inline;vertical-align:middle;\" /></a></span>"
      ],
      "text/plain": [
       "{a in Real, b in Real, b != 0} |- ((-a) / b) = (-(a / b))"
      ]
     },
     "metadata": {},
     "output_type": "display_data"
    }
   ],
   "source": [
    "# notice that the neg_extraction has been integrated into the\n",
    "# shallow_simplification() method\n",
    "neg_a_over_b.shallow_simplification(assumptions=[InSet(a, Real), InSet(b, Real), NotEquals(b, zero)])"
   ]
  },
  {
   "cell_type": "code",
   "execution_count": 47,
   "metadata": {},
   "outputs": [
    {
     "data": {
      "text/html": [
       "<span style=\"font-size:20px;\"><a class=\"ProveItLink\" href=\"../../ordering/__pv_it/theorems/4aa8d696b1f407d6126de9f51a052e8d90e0848c0/expr.ipynb\"><img src=\"data:image/png;base64,iVBORw0KGgoAAAANSUhEUgAAADMAAAAQBAMAAABJt1qBAAAAMFBMVEX////MzMwyMjKqqqoiIiJm\n",
       "ZmaYmJju7u5EREQQEBC6urqIiIh2dnZUVFTc3NwAAAAqL9KcAAAAAXRSTlMAQObYZgAAAAlwSFlz\n",
       "AAAOxAAADsQBlSsOGwAAAM1JREFUGNNjYMAASTP6VWYkMGAFDW8Z1mYUYJd6w8DBeAGXFOsDBRSh\n",
       "HS4uCnCpBmSZRdsRunjLQQby3dm3ASTAp45koITRAyBj5QOO7yABpgdwqZcqX0AmsE9jYHUASyE5\n",
       "I60IRLN+YGA5AGJIugBBA0SKowzkZc4GhvoFIIEKJF2MAe1Aun4DQz5YgAXZX4EvQFIGDJeYQS7g\n",
       "3oAkVcENNJFjA7MrK1hEGS71lIEtoQvowtsH324Ei9R2FcBCvo+hQ98AOTjWtLgghxwApbZCEcpv\n",
       "FP8AAAAASUVORK5CYII=\n",
       "\" style=\"display:inline;vertical-align:middle;\" /></a>, <a class=\"ProveItLink\" href=\"../../exponentiation/__pv_it/theorems/d550e8309ef79ca46e4c9fb5617a392ea678789b0/expr.ipynb\"><img src=\"data:image/png;base64,iVBORw0KGgoAAAANSUhEUgAAADEAAAAQBAMAAABNQoq8AAAAMFBMVEX///9UVFQyMjK6urru7u4Q\n",
       "EBBERERmZmaqqqoiIiLc3NzMzMyYmJiIiIh2dnYAAABC1PP/AAAAAXRSTlMAQObYZgAAAAlwSFlz\n",
       "AAAOxAAADsQBlSsOGwAAAL1JREFUGNNjYEAHh8LyNcMOMGADCQsZDI85YJVZx8DGLYBDhn2BArLI\n",
       "tZkzFeAyCUgSRlcQehhdwKa9vbMBSHKpIJm2rWkBkLGygR2klWkBXGap5k+w/nkMrBdAMkguOOME\n",
       "otm/QPhbZwJBAkSGzQfkU1aoK9yQ9HAXpABp/wsQPieyf6qXAWl+oEYDIM17AUnGjRcoCnQYH8jV\n",
       "DBpwmeUMPAeSgYx3ZyBedEx2gIV1FkOafgNSINhlzkQOLQDcXDjPgdalcwAAAABJRU5ErkJggg==\n",
       "\" style=\"display:inline;vertical-align:middle;\" /></a>, <a class=\"ProveItLink\" href=\"../../ordering/__pv_it/theorems/6e5cad5b2984ed0d75bd47bd0c542ec447a4f3570/expr.ipynb\"><img src=\"data:image/png;base64,iVBORw0KGgoAAAANSUhEUgAAADEAAAAQBAMAAABNQoq8AAAAMFBMVEX///+YmJjMzMzc3NyIiIhU\n",
       "VFR2dna6urqqqqpmZmYyMjIiIiIQEBBERETu7u4AAAD7tRWPAAAAAXRSTlMAQObYZgAAAAlwSFlz\n",
       "AAAOxAAADsQBlSsOGwAAANZJREFUGNNjYEAHUmfvrz4rAGTw3dmAJnXBlKFU9gGQwTUBXcaMgZcp\n",
       "AMjgb8CU4TRYAGTUP4CK+O7evQAucwHIyIZKVPkh9LC+A5m21CUCxGdeh2SabpcB0G2/Hrw3ADnE\n",
       "AC5js/o3SD/HPwYeB5AMkgsEX4FozgUM/AlAWmc3EFyAyPA+BPmUO4GhHuTut0h6mCbcg3hnPsjd\n",
       "3Mj+mWQLklHgOwjiszggybxlARrHKsALCZ4VcBlLBkaB60BXh02ECDy9/gAW1pcZ7q5HDrOy25DQ\n",
       "gQIAY/lDzDbeA58AAAAASUVORK5CYII=\n",
       "\" style=\"display:inline;vertical-align:middle;\" /></a>, <a class=\"ProveItLink\" href=\"../__pv_it/theorems/1157e8bc07ff5d23e5b8809064b9e77def3bc8980/expr.ipynb\"><img src=\"data:image/png;base64,iVBORw0KGgoAAAANSUhEUgAAAC8AAAAUCAMAAAAqRJTwAAAAPFBMVEX///8NDQ0WFhYLCwsYGBiY\n",
       "mJjMzMzc3NyIiIhUVFR2dna6urqqqqpmZmYyMjIiIiIQEBBERETu7u4AAAAYV9lEAAAAAXRSTlMA\n",
       "QObYZgAAAAlwSFlzAAAOxAAADsQBlSsOGwAAANlJREFUKM+VkusSxBAMhe2FkopLvP+7LjG6bK0Z\n",
       "fmhSn+OICPF/IM3+Ugx+iqvYZwAajxo6nPJRdYmzWdnXDclO5U2XSLYAfOKZpj7j0Se82TIJU/tn\n",
       "Ly8SW1bsxBmtzc2S6+Wp8bLEjvLUltHzeL/K3M44ElReN1NBL+S/fP6gY4Mwuh9LTHX5LPoeOLIL\n",
       "+XZfWygm8aop+38+6i2uGkWuvCxUys9IQY7yvy8iA2sV6yajcbRr7w3iSz+E0iFkAKVYy2cKQRs1\n",
       "72MLYms42sLlprzfkxdqtfgBzl0J3RfHeMcAAAAASUVORK5CYII=\n",
       "\" style=\"display:inline;vertical-align:middle;\" /></a> <a class=\"ProveItLink\" href=\"../__pv_it/demonstrations/ba025022e1b4b3a7d2e116fcdf30f78251d0be680/proof.ipynb\" style=\"text-decoration: none\">&nbsp;&#x22A2;&nbsp;&nbsp;</a><a class=\"ProveItLink\" href=\"../__pv_it/demonstrations/6d4b03462fd5bf287cc3ddcefd57fcb37f8fa8f70/expr.ipynb\"><img src=\"data:image/png;base64,iVBORw0KGgoAAAANSUhEUgAAAK8AAAAtBAMAAAAqxCaVAAAAMFBMVEX///8AAAAAAAAAAAAAAAAA\n",
       "AAAAAAAAAAAAAAAAAAAAAAAAAAAAAAAAAAAAAAAAAAAv3aB7AAAAD3RSTlMAInZUiRDNmWbv3US7\n",
       "qzJazP2FAAAACXBIWXMAAA7EAAAOxAGVKw4bAAACmklEQVRIx7VXP4jTYBR/uTZNYmPbSfBAmhsE\n",
       "HdQM4uohgiAonQTxJB08FKcbREQ4uMk/g3gogihI5U4OBKG4OVldnITjEHFw6KpLK7XipOZLYvt9\n",
       "33uXF0N8Q2he3u+Xl19+3/dSAIAGKKGd5o8ZXz1/WRTxYf1GK8Xwmm09s1gMsYUavFkMsYMzrUKI\n",
       "j6BMhRXZ8tOunokbuyKljA9zHkB5c5o5tq9PQJcRRq6vPYt+XpKKXjXcMYA9fZ2zvtXDvHYbYZT6\n",
       "O9HvNckgD8HqAJRWJ5l1cDxM/KWFMEq9Gyn1OLx4+bmIvjWEHfMAtaEA/BBajkkRL8hyxxil3nyQ\n",
       "EE/s0IOgC1CNOt6IE0SU5NslGLV+WZMi8OCuAHakBBFRhxpGrW+K/eatVOTDx1ID7Emf9dB4XUQ8\n",
       "kH2eYNR6V9z61LTI9UobVqjUpKPwFZex3T7LJwlGrbeFmF+lN7x1es/B8FGnTR6/tRdL8VPZamKM\n",
       "Wm+MhGKopdn0ZVf7xi9n8SbtJT17LR1kD3niq+LwRksavXTQzjZPfEgcFrSky8wmZ5MnPir0NTSz\n",
       "zjGg+jxPPPBz7LP1DKMryDrerkebyYt4WWXopu7l6DjLY2aRC8VrsX7+bojbES/BbzbSO0blw4T4\n",
       "3zUe/C+NmyvFOAdbKUM3zTw+djLoN+jmIK70Mixp9M2z8Ij/JlslkhruJK64yBLb5OhWce9xwYj/\n",
       "PCVLRtsPmSiqY17Ad0ROxVXxkCl3eOLbRE7FlfEsqGwdYC0YEF5ScQ7mCBZNdlYS/Wi4/aQB77Fa\n",
       "POFw98nx+p0lvsHgZohHWocqbzjik1/B7W5QdrR4w5lPU3HmGoH5BWcz7Hi7Wmk4l2L4RNpfD6Of\n",
       "hjtHQc6fyPe/FOH+APeb24DPp8zsAAAAAElFTkSuQmCC\n",
       "\" style=\"display:inline;vertical-align:middle;\" /></a></span>"
      ],
      "text/plain": [
       "{a in Real, c in Real, b in Real, b != 0} |- (((-a) * c) / b) = (-((a * c) / b))"
      ]
     },
     "metadata": {},
     "output_type": "display_data"
    }
   ],
   "source": [
    "# notice that the neg_extraction has been integrated into the\n",
    "# simplification() method\n",
    "neg_mult_over_b.simplification(assumptions=[InSet(a, Real), InSet(b, Real), NotEquals(b, zero),\n",
    "                                           InSet(c, Real), NotEquals(c, zero)])"
   ]
  },
  {
   "cell_type": "code",
   "execution_count": 48,
   "metadata": {},
   "outputs": [
    {
     "data": {
      "text/html": [
       "<span style=\"font-size:20px;\"><a class=\"ProveItLink\" href=\"../../ordering/__pv_it/theorems/4aa8d696b1f407d6126de9f51a052e8d90e0848c0/expr.ipynb\"><img src=\"data:image/png;base64,iVBORw0KGgoAAAANSUhEUgAAADMAAAAQBAMAAABJt1qBAAAAMFBMVEX////MzMwyMjKqqqoiIiJm\n",
       "ZmaYmJju7u5EREQQEBC6urqIiIh2dnZUVFTc3NwAAAAqL9KcAAAAAXRSTlMAQObYZgAAAAlwSFlz\n",
       "AAAOxAAADsQBlSsOGwAAAM1JREFUGNNjYMAASTP6VWYkMGAFDW8Z1mYUYJd6w8DBeAGXFOsDBRSh\n",
       "HS4uCnCpBmSZRdsRunjLQQby3dm3ASTAp45koITRAyBj5QOO7yABpgdwqZcqX0AmsE9jYHUASyE5\n",
       "I60IRLN+YGA5AGJIugBBA0SKowzkZc4GhvoFIIEKJF2MAe1Aun4DQz5YgAXZX4EvQFIGDJeYQS7g\n",
       "3oAkVcENNJFjA7MrK1hEGS71lIEtoQvowtsH324Ei9R2FcBCvo+hQ98AOTjWtLgghxwApbZCEcpv\n",
       "FP8AAAAASUVORK5CYII=\n",
       "\" style=\"display:inline;vertical-align:middle;\" /></a>, <a class=\"ProveItLink\" href=\"../../exponentiation/__pv_it/theorems/d550e8309ef79ca46e4c9fb5617a392ea678789b0/expr.ipynb\"><img src=\"data:image/png;base64,iVBORw0KGgoAAAANSUhEUgAAADEAAAAQBAMAAABNQoq8AAAAMFBMVEX///9UVFQyMjK6urru7u4Q\n",
       "EBBERERmZmaqqqoiIiLc3NzMzMyYmJiIiIh2dnYAAABC1PP/AAAAAXRSTlMAQObYZgAAAAlwSFlz\n",
       "AAAOxAAADsQBlSsOGwAAAL1JREFUGNNjYEAHh8LyNcMOMGADCQsZDI85YJVZx8DGLYBDhn2BArLI\n",
       "tZkzFeAyCUgSRlcQehhdwKa9vbMBSHKpIJm2rWkBkLGygR2klWkBXGap5k+w/nkMrBdAMkguOOME\n",
       "otm/QPhbZwJBAkSGzQfkU1aoK9yQ9HAXpABp/wsQPieyf6qXAWl+oEYDIM17AUnGjRcoCnQYH8jV\n",
       "DBpwmeUMPAeSgYx3ZyBedEx2gIV1FkOafgNSINhlzkQOLQDcXDjPgdalcwAAAABJRU5ErkJggg==\n",
       "\" style=\"display:inline;vertical-align:middle;\" /></a>, <a class=\"ProveItLink\" href=\"../../ordering/__pv_it/theorems/6e5cad5b2984ed0d75bd47bd0c542ec447a4f3570/expr.ipynb\"><img src=\"data:image/png;base64,iVBORw0KGgoAAAANSUhEUgAAADEAAAAQBAMAAABNQoq8AAAAMFBMVEX///+YmJjMzMzc3NyIiIhU\n",
       "VFR2dna6urqqqqpmZmYyMjIiIiIQEBBERETu7u4AAAD7tRWPAAAAAXRSTlMAQObYZgAAAAlwSFlz\n",
       "AAAOxAAADsQBlSsOGwAAANZJREFUGNNjYEAHUmfvrz4rAGTw3dmAJnXBlKFU9gGQwTUBXcaMgZcp\n",
       "AMjgb8CU4TRYAGTUP4CK+O7evQAucwHIyIZKVPkh9LC+A5m21CUCxGdeh2SabpcB0G2/Hrw3ADnE\n",
       "AC5js/o3SD/HPwYeB5AMkgsEX4FozgUM/AlAWmc3EFyAyPA+BPmUO4GhHuTut0h6mCbcg3hnPsjd\n",
       "3Mj+mWQLklHgOwjiszggybxlARrHKsALCZ4VcBlLBkaB60BXh02ECDy9/gAW1pcZ7q5HDrOy25DQ\n",
       "gQIAY/lDzDbeA58AAAAASUVORK5CYII=\n",
       "\" style=\"display:inline;vertical-align:middle;\" /></a>, <a class=\"ProveItLink\" href=\"../__pv_it/theorems/1157e8bc07ff5d23e5b8809064b9e77def3bc8980/expr.ipynb\"><img src=\"data:image/png;base64,iVBORw0KGgoAAAANSUhEUgAAAC8AAAAUCAMAAAAqRJTwAAAAPFBMVEX///8NDQ0WFhYLCwsYGBiY\n",
       "mJjMzMzc3NyIiIhUVFR2dna6urqqqqpmZmYyMjIiIiIQEBBERETu7u4AAAAYV9lEAAAAAXRSTlMA\n",
       "QObYZgAAAAlwSFlzAAAOxAAADsQBlSsOGwAAANlJREFUKM+VkusSxBAMhe2FkopLvP+7LjG6bK0Z\n",
       "fmhSn+OICPF/IM3+Ugx+iqvYZwAajxo6nPJRdYmzWdnXDclO5U2XSLYAfOKZpj7j0Se82TIJU/tn\n",
       "Ly8SW1bsxBmtzc2S6+Wp8bLEjvLUltHzeL/K3M44ElReN1NBL+S/fP6gY4Mwuh9LTHX5LPoeOLIL\n",
       "+XZfWygm8aop+38+6i2uGkWuvCxUys9IQY7yvy8iA2sV6yajcbRr7w3iSz+E0iFkAKVYy2cKQRs1\n",
       "72MLYms42sLlprzfkxdqtfgBzl0J3RfHeMcAAAAASUVORK5CYII=\n",
       "\" style=\"display:inline;vertical-align:middle;\" /></a> <a class=\"ProveItLink\" href=\"../__pv_it/demonstrations/f458773789f4f6d94466e1610699a0b97c28fcce0/proof.ipynb\" style=\"text-decoration: none\">&nbsp;&#x22A2;&nbsp;&nbsp;</a><a class=\"ProveItLink\" href=\"../__pv_it/demonstrations/8ab52c3a1b3fd57e310c5b121141be69851819380/expr.ipynb\"><img src=\"data:image/png;base64,iVBORw0KGgoAAAANSUhEUgAAAK8AAAAtBAMAAAAqxCaVAAAAMFBMVEX///8AAAAAAAAAAAAAAAAA\n",
       "AAAAAAAAAAAAAAAAAAAAAAAAAAAAAAAAAAAAAAAAAAAv3aB7AAAAD3RSTlMAIquJdkTvuxBmmd1U\n",
       "zTKBpmoTAAAACXBIWXMAAA7EAAAOxAGVKw4bAAACrklEQVRIx7WXPYjUQBTH37q3STaX/cDC5pA9\n",
       "8EAshEWtPJCchWijW4itFgqKIlGsrA5Br5IcVwgKcotWIsLqNbJeEbAWF2xObVLZWOyKzQrrx2Sy\n",
       "xpl57zIxxil2M2/f75+XlzfzZgGU0UyZ/cuYCaTp6cKEXyv3WS1I1xoohq2ChG01wgcFCRvIsFyM\n",
       "8BvVUCOTbAdpInfjYEp7ltzE9lh0OHQihPI8hT4SriWeM/WX/PJM0xwn9vcCMRfYHlQHhK5klHjO\n",
       "wBqvg0tg95IfNgViAwwXnHOE8Cch8TLPGTCjTNkjmG2zb59HcYF5fnwVjdDmcdRHhPA7Md1T3voe\n",
       "TeLYrYvRa/fA77Dv2e5UOKkHL/qsEBE7Y5DcOA/9hInfge/COlCp8PkrcXpYmEcouK0rDECL7TF+\n",
       "APudZK+58YdosELrQNXDwkOxtiU+ZliS2a1N1+nbidsBIXkelEOw21h4rziR+JhhZcMSaC0c2Xky\n",
       "cfssIAfvH2eP3cHC36TdReI5w2p7gtIXKoY5rFv/ol/BfVT6XcXwhFgeI73wM2S5Jk9LxLvbMdAL\n",
       "n0KWFXlqEr3JmNcLv1VTCiVXmi4RUKOtFx4GObbWRoZ25WdtaU/5/vEiXlYZomm4OSLO8phZ0oXG\n",
       "2WjN/N4DtxPuwk/tSI8YuY+mwn+f4+H/ynFrtZjKwaWUIZpWnjo2MuRv2MkhXPMyLGl0zlm5rD+G\n",
       "UY1b4RaxxwetcHVMWWXuOnaY6E+kpMtk+ybDR2WsT+BNwiZzFdxkyj298D3CJnNl3AtqC0e1JegT\n",
       "tSRzBtbwtyxtryTiUbhjZAGe1+biqo67QrbXr1rhhxpuhnikDajoC4445kvcriZVjra+4KznqZy1\n",
       "STA/4E6GHW/3chpnUgr7yPJHh4QwjbtNIbcO5/svirhfdqDoy0gN+jgAAAAASUVORK5CYII=\n",
       "\" style=\"display:inline;vertical-align:middle;\" /></a></span>"
      ],
      "text/plain": [
       "{a in Real, c in Real, b in Real, b != 0} |- ((a * (-c)) / b) = (-((a * c) / b))"
      ]
     },
     "metadata": {},
     "output_type": "display_data"
    }
   ],
   "source": [
    "# notice that the neg_extraction has been integrated into the\n",
    "# simplification() method\n",
    "neg_mult_02_over_b.simplification(assumptions=[InSet(a, Real), InSet(b, Real), NotEquals(b, zero),\n",
    "                                           InSet(c, Real), NotEquals(c, zero)])"
   ]
  },
  {
   "cell_type": "code",
   "execution_count": 49,
   "metadata": {},
   "outputs": [
    {
     "data": {
      "text/html": [
       "<strong id=\"no_neg_expr\">no_neg_expr:</strong> <a class=\"ProveItLink\" href=\"../__pv_it/theorems/14b307388f7cd64ad04ac7902b9f7f91ee1dd28d0/expr.ipynb\"><img src=\"data:image/png;base64,iVBORw0KGgoAAAANSUhEUgAAACEAAAAlBAMAAAA+W51KAAAAMFBMVEX////MzMwyMjKqqqoiIiJm\n",
       "ZmaYmJju7u5EREQQEBC6urqIiIh2dnZUVFTc3NwAAAAqL9KcAAAAAXRSTlMAQObYZgAAAAlwSFlz\n",
       "AAAOxAAADsQBlSsOGwAAAMNJREFUKM9jYICAt6dfM6AArnkM/QUoIpUJDCGoauIZGHxQRWYwsP9C\n",
       "EWD/zcD2AVXkMwOvgh2KUDeDSUAAikjtHrnbAgyDE/xHAx9oaBd7pwO6EFMAugi/AbrI+gJ0kSMY\n",
       "RuvuvozgnN4mwMD+qaD+AUzgiQFrAwPzdwbODTARHxCbVYGB/wDQWZ+AAqzfQcIsBxjWg+x3BWLO\n",
       "Bqhz4mH214O18wuwT4M7NoGBYQEDbwIH3BtAi3iAtt8JQzjnTNp2BgAfvjstwRWUPQAAAABJRU5E\n",
       "rkJggg==\n",
       "\" style=\"display:inline;vertical-align:middle;\" /></a><br>"
      ],
      "text/plain": [
       "<IPython.core.display.HTML object>"
      ]
     },
     "metadata": {},
     "output_type": "display_data"
    }
   ],
   "source": [
    "# example expression with no Neg component\n",
    "no_neg_expr = frac(a, Mult(b, c))"
   ]
  },
  {
   "cell_type": "code",
   "execution_count": 50,
   "metadata": {},
   "outputs": [
    {
     "name": "stdout",
     "output_type": "stream",
     "text": [
      "ValueError: No Neg expression component found to extract. The expression supplied was: a / (b * c)\n"
     ]
    }
   ],
   "source": [
    "# informative error message when no Neg available to extract:\n",
    "try:\n",
    "    no_neg_expr.neg_extraction(\n",
    "            assumptions=[InSet(a, Real), InSet(b, Real), InSet(c, Real),\n",
    "                         NotEquals(b, zero), NotEquals(c, zero)])\n",
    "except ValueError as the_error:\n",
    "    print(\"ValueError: {}\".format(the_error))"
   ]
  },
  {
   "cell_type": "markdown",
   "metadata": {},
   "source": [
    "## Deduce bounds"
   ]
  },
  {
   "cell_type": "code",
   "execution_count": 51,
   "metadata": {},
   "outputs": [],
   "source": [
    "assumptions = [InSet(var, Real) for var in [a, b, c, d, w, x, y]]\n",
    "assumptions += [greater(var, zero) for var in [a, x, y]] + [greater_eq(b, zero)]\n",
    "assumptions += [LessEq(c, zero)] + [Less(var, zero) for var in [d, w]]\n",
    "assumptions += [InSet(z, Real)]"
   ]
  },
  {
   "cell_type": "markdown",
   "metadata": {},
   "source": [
    "Bound by the numerator with a positive denominator"
   ]
  },
  {
   "cell_type": "code",
   "execution_count": 52,
   "metadata": {},
   "outputs": [
    {
     "data": {
      "text/html": [
       "<span style=\"font-size:20px;\"><a class=\"ProveItLink\" href=\"../../ordering/__pv_it/theorems/5d76fdd975252a644e3e1cb067a357f9a9c8486a0/expr.ipynb\"><img src=\"data:image/png;base64,iVBORw0KGgoAAAANSUhEUgAAADMAAAATBAMAAADPIygvAAAAMFBMVEX////c3NwyMjK6urpEREQi\n",
       "IiLMzMwQEBCqqqp2dnZUVFSYmJhmZmaIiIju7u4AAADlKNhoAAAAAXRSTlMAQObYZgAAAAlwSFlz\n",
       "AAAOxAAADsQBlSsOGwAAAOBJREFUKM9jYMAAm0r8VUs2MGAFDlIMVlseYJeSZGBhW4BLikdAAUXo\n",
       "SmioAlzKAVnG6B5CF9c7oIF8dzYwvAIJMOohGZjSJMDAwMlRwLAfJMAkAJcSV/0KMiGDJ4BhCVgK\n",
       "yRm7H4HoB+wXGGpBjPRQIHCASLG8BnvZ/gHbNxD9BEkX2wE/EOMQA28BiGZF9tcxERDDi4EF7HPe\n",
       "C0hST3hBJp5isIeEpQZcSoaBe4MzkPFq7nmIs185P4CFvCODi34DiD0JqtrSNRQl5DgV+Cqwxw0D\n",
       "6wWuCTikOPYexiEDADoqNycoB77qAAAAAElFTkSuQmCC\n",
       "\" style=\"display:inline;vertical-align:middle;\" /></a>, <a class=\"ProveItLink\" href=\"../../ordering/__pv_it/theorems/d1323f34847310a404e8089c2c268d3c2eb89dbf0/expr.ipynb\"><img src=\"data:image/png;base64,iVBORw0KGgoAAAANSUhEUgAAADQAAAAQBAMAAACra0H4AAAAMFBMVEX///9ERES6uroQEBAyMjLc\n",
       "3NyYmJgiIiJmZmaqqqp2dnbMzMxUVFSIiIju7u4AAAAd7oVFAAAAAXRSTlMAQObYZgAAAAlwSFlz\n",
       "AAAOxAAADsQBlSsOGwAAAMtJREFUGNNjYMAAbM6CX4rFGLACRtYDTMfkcEgtYBDYg1OqlQVF6GJ5\n",
       "uQNcihFZRuUekq5zb4CMt3der5oApFn9kAzklnQFMhp4z3IUAGmWAISUSX3tA6AvAtj+8SSApJCc\n",
       "sSwPZCk3AwfYbobN5UAgADVQLg0sxnwBTD1EdvwOxgcgln4AH4hmR5bi2ArU/1DhMAMXSID3ApIU\n",
       "n8A1Bob5+5oZNMEingipBoY0RgWGF3c52yaARd4IPYCF/McARpGfyMGhJQ4JKCgAAF8xNF8aQs/g\n",
       "AAAAAElFTkSuQmCC\n",
       "\" style=\"display:inline;vertical-align:middle;\" /></a>, <a class=\"ProveItLink\" href=\"../../ordering/__pv_it/theorems/4aa8d696b1f407d6126de9f51a052e8d90e0848c0/expr.ipynb\"><img src=\"data:image/png;base64,iVBORw0KGgoAAAANSUhEUgAAADMAAAAQBAMAAABJt1qBAAAAMFBMVEX////MzMwyMjKqqqoiIiJm\n",
       "ZmaYmJju7u5EREQQEBC6urqIiIh2dnZUVFTc3NwAAAAqL9KcAAAAAXRSTlMAQObYZgAAAAlwSFlz\n",
       "AAAOxAAADsQBlSsOGwAAAM1JREFUGNNjYMAASTP6VWYkMGAFDW8Z1mYUYJd6w8DBeAGXFOsDBRSh\n",
       "HS4uCnCpBmSZRdsRunjLQQby3dm3ASTAp45koITRAyBj5QOO7yABpgdwqZcqX0AmsE9jYHUASyE5\n",
       "I60IRLN+YGA5AGJIugBBA0SKowzkZc4GhvoFIIEKJF2MAe1Aun4DQz5YgAXZX4EvQFIGDJeYQS7g\n",
       "3oAkVcENNJFjA7MrK1hEGS71lIEtoQvowtsH324Ei9R2FcBCvo+hQ98AOTjWtLgghxwApbZCEcpv\n",
       "FP8AAAAASUVORK5CYII=\n",
       "\" style=\"display:inline;vertical-align:middle;\" /></a>, <a class=\"ProveItLink\" href=\"../__pv_it/demonstrations/d2a7966a0ecdbabf7c84da52ab0220ff0e97e5820/expr.ipynb\"><img src=\"data:image/png;base64,iVBORw0KGgoAAAANSUhEUgAAADIAAAAOBAMAAACfqVJUAAAAMFBMVEX////MzMwyMjKqqqoiIiJm\n",
       "ZmaYmJju7u5EREQQEBC6urqIiIh2dnZUVFTc3NwAAAAqL9KcAAAAAXRSTlMAQObYZgAAAAlwSFlz\n",
       "AAAOxAAADsQBlSsOGwAAAKhJREFUGNNjYCAMihJwybAf2YAmwndnH1Roy3GYot3XZQ4zMKx8wPEd\n",
       "KpISDqFZGfZuCGFgn8bA6gDTbxQHpvIY8guuMbB+YGA5ADd60XUQKcAQBCQ5GxjqFyBk2iH0bCCu\n",
       "38CQD5cwugehuf4xlDPUGzBcYn4AdQHEGvYu3gkMBxg4NjC7sqK6mvlj6QQuAwb22wffbgSr3ALz\n",
       "KXv0BtNkJB+XJDAQCQCP8S1VUlq5AAAAAABJRU5ErkJggg==\n",
       "\" style=\"display:inline;vertical-align:middle;\" /></a>, <a class=\"ProveItLink\" href=\"../__pv_it/demonstrations/40fa4e3b274cbd6160ddd632a9c3fd20af2d35190/expr.ipynb\"><img src=\"data:image/png;base64,iVBORw0KGgoAAAANSUhEUgAAADEAAAASBAMAAAAAiiu3AAAAMFBMVEX////c3NwyMjK6urpEREQi\n",
       "IiLMzMwQEBCqqqp2dnZUVFSYmJhmZmaIiIju7u4AAADlKNhoAAAAAXRSTlMAQObYZgAAAAlwSFlz\n",
       "AAAOxAAADsQBlSsOGwAAANNJREFUGNNjYMAGZt4RwCrOwNTAF4hdZisDwxQk7qMNcKYXA0P/A4QM\n",
       "39QLMOYfBob8Bga+OxsYXkEErs6DqgHJbGDg5Chg2A8z/xyYYvwJlLnAkMETwLAEZkzTQbjMBIYH\n",
       "7BcYauGWGa0DmQaUsQdaav+A7RtCxg/qgv4GBoZDDLwFcNMWgikXBob9D0COZ1kAc8FBCL0dpJ6B\n",
       "4RSD/QZUVzOwNvCVAalXc8+Dg4/vKtynfCdvJYAZk8Dk0w1oocepwFeBPVxZL3BNwC7DsfcwdgkA\n",
       "RCA8NyFaEvEAAAAASUVORK5CYII=\n",
       "\" style=\"display:inline;vertical-align:middle;\" /></a> <a class=\"ProveItLink\" href=\"../__pv_it/demonstrations/36f7556b5a26c1a8da4b6d8ace7b803cf4ea84de0/proof.ipynb\" style=\"text-decoration: none\">&nbsp;&#x22A2;&nbsp;&nbsp;</a><a class=\"ProveItLink\" href=\"../__pv_it/demonstrations/939e626dcabeb0fc9c38528e4d48b8f6066835eb0/expr.ipynb\"><img src=\"data:image/png;base64,iVBORw0KGgoAAAANSUhEUgAAADgAAAApBAMAAACSIvcTAAAAMFBMVEX///8AAAAAAAAAAAAAAAAA\n",
       "AAAAAAAAAAAAAAAAAAAAAAAAAAAAAAAAAAAAAAAAAAAv3aB7AAAAD3RSTlMAIquJdkTvuxBmmd1U\n",
       "zTKBpmoTAAAACXBIWXMAAA7EAAAOxAGVKw4bAAABIElEQVQ4y2NgYFR2dGDAAC1OfcYHGBjCBNh/\n",
       "YEouYFHh2sDAkckAJNEBpwDnD6YJDFwfGLgNMCT5GLguACm2Aob+AExjGdhADul3YJiPRY4hXoCj\n",
       "gaH/AIMujwC6VHuAGgMzAwO7A88uLgx9518sY4hhYOBQsRPyw5DscuFZeYCB9qB3Ah5JDmsHfHq9\n",
       "LfDJzl6BT/bsQhTufxD4AOfGaiBE/6Nrja3AY6wiHgctJMsrHN54AqF7AsNgABxeExiacIky8yRg\n",
       "SbhQ0TfAnKKOIQkVbQCm+xQMSZhofAPfPyy5ASK6loElAVMSKlrEwK6AKQkVXcQQjyVQoaJNJusF\n",
       "MCXhorZYQwckynyBIwdTBirK7cCEWSTARHmmLMViJkQUAI07TT/O2g/FAAAAAElFTkSuQmCC\n",
       "\" style=\"display:inline;vertical-align:middle;\" /></a></span>"
      ],
      "text/plain": [
       "{y in Real, x in Real, a in Real, a > x, y > 0} |- (a / y) > (x / y)"
      ]
     },
     "metadata": {},
     "output_type": "display_data"
    }
   ],
   "source": [
    "relation = greater(a, x)\n",
    "frac(a, y).deduce_bound(relation, assumptions=assumptions+[relation])"
   ]
  },
  {
   "cell_type": "code",
   "execution_count": 53,
   "metadata": {},
   "outputs": [
    {
     "data": {
      "text/html": [
       "<span style=\"font-size:20px;\"><a class=\"ProveItLink\" href=\"../../ordering/__pv_it/theorems/5d76fdd975252a644e3e1cb067a357f9a9c8486a0/expr.ipynb\"><img src=\"data:image/png;base64,iVBORw0KGgoAAAANSUhEUgAAADMAAAATBAMAAADPIygvAAAAMFBMVEX////c3NwyMjK6urpEREQi\n",
       "IiLMzMwQEBCqqqp2dnZUVFSYmJhmZmaIiIju7u4AAADlKNhoAAAAAXRSTlMAQObYZgAAAAlwSFlz\n",
       "AAAOxAAADsQBlSsOGwAAAOBJREFUKM9jYMAAm0r8VUs2MGAFDlIMVlseYJeSZGBhW4BLikdAAUXo\n",
       "SmioAlzKAVnG6B5CF9c7oIF8dzYwvAIJMOohGZjSJMDAwMlRwLAfJMAkAJcSV/0KMiGDJ4BhCVgK\n",
       "yRm7H4HoB+wXGGpBjPRQIHCASLG8BnvZ/gHbNxD9BEkX2wE/EOMQA28BiGZF9tcxERDDi4EF7HPe\n",
       "C0hST3hBJp5isIeEpQZcSoaBe4MzkPFq7nmIs185P4CFvCODi34DiD0JqtrSNRQl5DgV+Cqwxw0D\n",
       "6wWuCTikOPYexiEDADoqNycoB77qAAAAAElFTkSuQmCC\n",
       "\" style=\"display:inline;vertical-align:middle;\" /></a>, <a class=\"ProveItLink\" href=\"../../ordering/__pv_it/theorems/4aa8d696b1f407d6126de9f51a052e8d90e0848c0/expr.ipynb\"><img src=\"data:image/png;base64,iVBORw0KGgoAAAANSUhEUgAAADMAAAAQBAMAAABJt1qBAAAAMFBMVEX////MzMwyMjKqqqoiIiJm\n",
       "ZmaYmJju7u5EREQQEBC6urqIiIh2dnZUVFTc3NwAAAAqL9KcAAAAAXRSTlMAQObYZgAAAAlwSFlz\n",
       "AAAOxAAADsQBlSsOGwAAAM1JREFUGNNjYMAASTP6VWYkMGAFDW8Z1mYUYJd6w8DBeAGXFOsDBRSh\n",
       "HS4uCnCpBmSZRdsRunjLQQby3dm3ASTAp45koITRAyBj5QOO7yABpgdwqZcqX0AmsE9jYHUASyE5\n",
       "I60IRLN+YGA5AGJIugBBA0SKowzkZc4GhvoFIIEKJF2MAe1Aun4DQz5YgAXZX4EvQFIGDJeYQS7g\n",
       "3oAkVcENNJFjA7MrK1hEGS71lIEtoQvowtsH324Ei9R2FcBCvo+hQ98AOTjWtLgghxwApbZCEcpv\n",
       "FP8AAAAASUVORK5CYII=\n",
       "\" style=\"display:inline;vertical-align:middle;\" /></a>, <a class=\"ProveItLink\" href=\"../../ordering/__pv_it/theorems/d1323f34847310a404e8089c2c268d3c2eb89dbf0/expr.ipynb\"><img src=\"data:image/png;base64,iVBORw0KGgoAAAANSUhEUgAAADQAAAAQBAMAAACra0H4AAAAMFBMVEX///9ERES6uroQEBAyMjLc\n",
       "3NyYmJgiIiJmZmaqqqp2dnbMzMxUVFSIiIju7u4AAAAd7oVFAAAAAXRSTlMAQObYZgAAAAlwSFlz\n",
       "AAAOxAAADsQBlSsOGwAAAMtJREFUGNNjYMAAbM6CX4rFGLACRtYDTMfkcEgtYBDYg1OqlQVF6GJ5\n",
       "uQNcihFZRuUekq5zb4CMt3der5oApFn9kAzklnQFMhp4z3IUAGmWAISUSX3tA6AvAtj+8SSApJCc\n",
       "sSwPZCk3AwfYbobN5UAgADVQLg0sxnwBTD1EdvwOxgcgln4AH4hmR5bi2ArU/1DhMAMXSID3ApIU\n",
       "n8A1Bob5+5oZNMEingipBoY0RgWGF3c52yaARd4IPYCF/McARpGfyMGhJQ4JKCgAAF8xNF8aQs/g\n",
       "AAAAAElFTkSuQmCC\n",
       "\" style=\"display:inline;vertical-align:middle;\" /></a>, <a class=\"ProveItLink\" href=\"../__pv_it/demonstrations/4754e503f1b9bbcdbc3766185915ea4595df3b130/expr.ipynb\"><img src=\"data:image/png;base64,iVBORw0KGgoAAAANSUhEUgAAADIAAAAOBAMAAACfqVJUAAAAMFBMVEX///8AAAAAAAAAAAAAAAAA\n",
       "AAAAAAAAAAAAAAAAAAAAAAAAAAAAAAAAAAAAAAAAAAAv3aB7AAAAD3RSTlMAIquJdkTvuxBmmd1U\n",
       "zTKBpmoTAAAACXBIWXMAAA7EAAAOxAGVKw4bAAAAqElEQVQY02NgIBLwXMQhwbmrAYnHqOzoAGWy\n",
       "bIZIcLhoPLZhYAgTYP8BkWjeAlXBxeDksJqBI5OBawOYL7UTZsxEhvkNmgxcHxi4DUBcpjtwCx4w\n",
       "rAWSbAUM/QFoMgwMKUDc78AwnwHNNAbWjwwdDP0HGHR5BFBcwFHKlMBgwMDuwLOLC6q0ZQvY1Tz/\n",
       "uhJYDzBwqNgJ+cF9CvYQxxKHU3MwAuEiEUEIAJqZJcgWZ+RPAAAAAElFTkSuQmCC\n",
       "\" style=\"display:inline;vertical-align:middle;\" /></a>, <a class=\"ProveItLink\" href=\"../__pv_it/demonstrations/40fa4e3b274cbd6160ddd632a9c3fd20af2d35190/expr.ipynb\"><img src=\"data:image/png;base64,iVBORw0KGgoAAAANSUhEUgAAADEAAAASBAMAAAAAiiu3AAAAMFBMVEX////c3NwyMjK6urpEREQi\n",
       "IiLMzMwQEBCqqqp2dnZUVFSYmJhmZmaIiIju7u4AAADlKNhoAAAAAXRSTlMAQObYZgAAAAlwSFlz\n",
       "AAAOxAAADsQBlSsOGwAAANNJREFUGNNjYMAGZt4RwCrOwNTAF4hdZisDwxQk7qMNcKYXA0P/A4QM\n",
       "39QLMOYfBob8Bga+OxsYXkEErs6DqgHJbGDg5Chg2A8z/xyYYvwJlLnAkMETwLAEZkzTQbjMBIYH\n",
       "7BcYauGWGa0DmQaUsQdaav+A7RtCxg/qgv4GBoZDDLwFcNMWgikXBob9D0COZ1kAc8FBCL0dpJ6B\n",
       "4RSD/QZUVzOwNvCVAalXc8+Dg4/vKtynfCdvJYAZk8Dk0w1oocepwFeBPVxZL3BNwC7DsfcwdgkA\n",
       "RCA8NyFaEvEAAAAASUVORK5CYII=\n",
       "\" style=\"display:inline;vertical-align:middle;\" /></a> <a class=\"ProveItLink\" href=\"../__pv_it/demonstrations/6a5d232cbc33c442c75213cb0eae64c0eac5e63e0/proof.ipynb\" style=\"text-decoration: none\">&nbsp;&#x22A2;&nbsp;&nbsp;</a><a class=\"ProveItLink\" href=\"../__pv_it/demonstrations/dc7659cb5d082b6bee147ad5edb8ed22e728cba50/expr.ipynb\"><img src=\"data:image/png;base64,iVBORw0KGgoAAAANSUhEUgAAADgAAAApBAMAAACSIvcTAAAAMFBMVEX///8AAAAAAAAAAAAAAAAA\n",
       "AAAAAAAAAAAAAAAAAAAAAAAAAAAAAAAAAAAAAAAAAAAv3aB7AAAAD3RSTlMAIquJdkTvuxBmmd1U\n",
       "zTKBpmoTAAAACXBIWXMAAA7EAAAOxAGVKw4bAAABIklEQVQ4y2NgYFR2dGDAAC1OfcYHGBjCBNh/\n",
       "YEouYFHh2sDAkckAJNEBpwDnD6YJDFwfGLgNMCT5GLguACm2Aob+AExjGdhADul3YJiPRY4hXoCj\n",
       "gaH/AIMujwC6VHuAGgMzAwO7A88uLgx9518sY4hhYOBQsRPyw5DscuFZeYCBToDnIm45zl0NOOVY\n",
       "NuOWa96C20ypnegi/0HgA4jFdAdN9D+SMmRJYowl1kHAZLWlAY8s52a8shcZBhhweE1gaMIlysyT\n",
       "gCXhQkXfAHOKOoYkVLQBmO5TMCRhovENfP+w5AaI6FoGlgRMSahoEQO7AqYkVHQRQ/wETEmoaJPJ\n",
       "egFMSbioLdbQAYkyX+DIwZSBinI7MGEWCTBRnilLsWUZsCgAnAlPq8AEbHAAAAAASUVORK5CYII=\n",
       "\" style=\"display:inline;vertical-align:middle;\" /></a></span>"
      ],
      "text/plain": [
       "{y in Real, a in Real, x in Real, a < x, y > 0} |- (a / y) < (x / y)"
      ]
     },
     "metadata": {},
     "output_type": "display_data"
    }
   ],
   "source": [
    "relation = Less(a, x)\n",
    "frac(a, y).deduce_bound(relation, assumptions=assumptions+[relation])"
   ]
  },
  {
   "cell_type": "code",
   "execution_count": 54,
   "metadata": {},
   "outputs": [
    {
     "data": {
      "text/html": [
       "<span style=\"font-size:20px;\"><a class=\"ProveItLink\" href=\"../../ordering/__pv_it/theorems/5d76fdd975252a644e3e1cb067a357f9a9c8486a0/expr.ipynb\"><img src=\"data:image/png;base64,iVBORw0KGgoAAAANSUhEUgAAADMAAAATBAMAAADPIygvAAAAMFBMVEX////c3NwyMjK6urpEREQi\n",
       "IiLMzMwQEBCqqqp2dnZUVFSYmJhmZmaIiIju7u4AAADlKNhoAAAAAXRSTlMAQObYZgAAAAlwSFlz\n",
       "AAAOxAAADsQBlSsOGwAAAOBJREFUKM9jYMAAm0r8VUs2MGAFDlIMVlseYJeSZGBhW4BLikdAAUXo\n",
       "SmioAlzKAVnG6B5CF9c7oIF8dzYwvAIJMOohGZjSJMDAwMlRwLAfJMAkAJcSV/0KMiGDJ4BhCVgK\n",
       "yRm7H4HoB+wXGGpBjPRQIHCASLG8BnvZ/gHbNxD9BEkX2wE/EOMQA28BiGZF9tcxERDDi4EF7HPe\n",
       "C0hST3hBJp5isIeEpQZcSoaBe4MzkPFq7nmIs185P4CFvCODi34DiD0JqtrSNRQl5DgV+Cqwxw0D\n",
       "6wWuCTikOPYexiEDADoqNycoB77qAAAAAElFTkSuQmCC\n",
       "\" style=\"display:inline;vertical-align:middle;\" /></a>, <a class=\"ProveItLink\" href=\"../../ordering/__pv_it/theorems/d1323f34847310a404e8089c2c268d3c2eb89dbf0/expr.ipynb\"><img src=\"data:image/png;base64,iVBORw0KGgoAAAANSUhEUgAAADQAAAAQBAMAAACra0H4AAAAMFBMVEX///9ERES6uroQEBAyMjLc\n",
       "3NyYmJgiIiJmZmaqqqp2dnbMzMxUVFSIiIju7u4AAAAd7oVFAAAAAXRSTlMAQObYZgAAAAlwSFlz\n",
       "AAAOxAAADsQBlSsOGwAAAMtJREFUGNNjYMAAbM6CX4rFGLACRtYDTMfkcEgtYBDYg1OqlQVF6GJ5\n",
       "uQNcihFZRuUekq5zb4CMt3der5oApFn9kAzklnQFMhp4z3IUAGmWAISUSX3tA6AvAtj+8SSApJCc\n",
       "sSwPZCk3AwfYbobN5UAgADVQLg0sxnwBTD1EdvwOxgcgln4AH4hmR5bi2ArU/1DhMAMXSID3ApIU\n",
       "n8A1Bob5+5oZNMEingipBoY0RgWGF3c52yaARd4IPYCF/McARpGfyMGhJQ4JKCgAAF8xNF8aQs/g\n",
       "AAAAAElFTkSuQmCC\n",
       "\" style=\"display:inline;vertical-align:middle;\" /></a>, <a class=\"ProveItLink\" href=\"../../ordering/__pv_it/theorems/4aa8d696b1f407d6126de9f51a052e8d90e0848c0/expr.ipynb\"><img src=\"data:image/png;base64,iVBORw0KGgoAAAANSUhEUgAAADMAAAAQBAMAAABJt1qBAAAAMFBMVEX////MzMwyMjKqqqoiIiJm\n",
       "ZmaYmJju7u5EREQQEBC6urqIiIh2dnZUVFTc3NwAAAAqL9KcAAAAAXRSTlMAQObYZgAAAAlwSFlz\n",
       "AAAOxAAADsQBlSsOGwAAAM1JREFUGNNjYMAASTP6VWYkMGAFDW8Z1mYUYJd6w8DBeAGXFOsDBRSh\n",
       "HS4uCnCpBmSZRdsRunjLQQby3dm3ASTAp45koITRAyBj5QOO7yABpgdwqZcqX0AmsE9jYHUASyE5\n",
       "I60IRLN+YGA5AGJIugBBA0SKowzkZc4GhvoFIIEKJF2MAe1Aun4DQz5YgAXZX4EvQFIGDJeYQS7g\n",
       "3oAkVcENNJFjA7MrK1hEGS71lIEtoQvowtsH324Ei9R2FcBCvo+hQ98AOTjWtLgghxwApbZCEcpv\n",
       "FP8AAAAASUVORK5CYII=\n",
       "\" style=\"display:inline;vertical-align:middle;\" /></a>, <a class=\"ProveItLink\" href=\"../__pv_it/demonstrations/0c635a836c670db444fe3d06a0b3010098a1be2f0/expr.ipynb\"><img src=\"data:image/png;base64,iVBORw0KGgoAAAANSUhEUgAAADIAAAAQBAMAAACmdTG/AAAAMFBMVEX////MzMwyMjKqqqoiIiJm\n",
       "ZmaYmJju7u5EREQQEBC6urqIiIh2dnZUVFTc3NwAAAAqL9KcAAAAAXRSTlMAQObYZgAAAAlwSFlz\n",
       "AAAOxAAADsQBlSsOGwAAAKlJREFUGNNjYICBogQGHID9yAZcUgxbjuOUSkGV4ruzD26MURzE4N3X\n",
       "ZQ4zMKx8wPEdrmzRdRDJyrB3QwgD+zQGVgeETDuIzGPIL7jGwPqBgeUA3LR7YEqAIQhIcjYw1C+A\n",
       "uSAcpmQ2ENdvYMjHcDXXP4ZyhnoDhkvMD1B8yt7FO4HhAAPHBmZXVtTQYf5YOoHLgIH99sG3G9HC\n",
       "KXqDaTIDZaDEBQQc4XwAh/kv1ZavVjsAAAAASUVORK5CYII=\n",
       "\" style=\"display:inline;vertical-align:middle;\" /></a>, <a class=\"ProveItLink\" href=\"../__pv_it/demonstrations/40fa4e3b274cbd6160ddd632a9c3fd20af2d35190/expr.ipynb\"><img src=\"data:image/png;base64,iVBORw0KGgoAAAANSUhEUgAAADEAAAASBAMAAAAAiiu3AAAAMFBMVEX////c3NwyMjK6urpEREQi\n",
       "IiLMzMwQEBCqqqp2dnZUVFSYmJhmZmaIiIju7u4AAADlKNhoAAAAAXRSTlMAQObYZgAAAAlwSFlz\n",
       "AAAOxAAADsQBlSsOGwAAANNJREFUGNNjYMAGZt4RwCrOwNTAF4hdZisDwxQk7qMNcKYXA0P/A4QM\n",
       "39QLMOYfBob8Bga+OxsYXkEErs6DqgHJbGDg5Chg2A8z/xyYYvwJlLnAkMETwLAEZkzTQbjMBIYH\n",
       "7BcYauGWGa0DmQaUsQdaav+A7RtCxg/qgv4GBoZDDLwFcNMWgikXBob9D0COZ1kAc8FBCL0dpJ6B\n",
       "4RSD/QZUVzOwNvCVAalXc8+Dg4/vKtynfCdvJYAZk8Dk0w1oocepwFeBPVxZL3BNwC7DsfcwdgkA\n",
       "RCA8NyFaEvEAAAAASUVORK5CYII=\n",
       "\" style=\"display:inline;vertical-align:middle;\" /></a> <a class=\"ProveItLink\" href=\"../__pv_it/demonstrations/a890059a59c59d764ffca2c7bd38a83185cb7b8a0/proof.ipynb\" style=\"text-decoration: none\">&nbsp;&#x22A2;&nbsp;&nbsp;</a><a class=\"ProveItLink\" href=\"../__pv_it/demonstrations/07dae2f10d4bf2f298c8b9b731b1a4cdd8f67b0e0/expr.ipynb\"><img src=\"data:image/png;base64,iVBORw0KGgoAAAANSUhEUgAAADgAAAApBAMAAACSIvcTAAAAMFBMVEX///8AAAAAAAAAAAAAAAAA\n",
       "AAAAAAAAAAAAAAAAAAAAAAAAAAAAAAAAAAAAAAAAAAAv3aB7AAAAD3RSTlMAIquJdkTvuxBmmd1U\n",
       "zTKBpmoTAAAACXBIWXMAAA7EAAAOxAGVKw4bAAABIklEQVQ4y2NgYFR2dGDAAC1OfcYHGBjCBNh/\n",
       "YEouYFHh2sDAkckAJNEBpwDnD6YJDFwfGLgNMCT5GLguACm2Aob+AExjGdhADul3YJiPRY4hXoCj\n",
       "gaH/AIMujwC6VHuAGgMzAwO7A88uLgx9518sY4hhYOBQsRPyw5DscuFZeYCBWNA7AY8kh7UDPr3e\n",
       "FvhkZ+OVPbsQn2ysBj7JCmTefxD4ADdWEUn0P5qDVpDlFbyBgDf4aAS6d4PAPuoYxuE1gaEJlygz\n",
       "TwKWhAsVfQPMKeoYklDRBmC6T8GQhInGN/D9w5IbIKJrGVgSMCWhokUM7AqYklDRRQzxWKIDKtpk\n",
       "sl4AUxIuaos1dECizBc4cjBloKLcDkyYRQJMlGfKUixmQkQBMmhRuJIQe6wAAAAASUVORK5CYII=\n",
       "\" style=\"display:inline;vertical-align:middle;\" /></a></span>"
      ],
      "text/plain": [
       "{y in Real, x in Real, a in Real, a >= x, y > 0} |- (a / y) >= (x / y)"
      ]
     },
     "metadata": {},
     "output_type": "display_data"
    }
   ],
   "source": [
    "relation = greater_eq(a, x)\n",
    "frac(a, y).deduce_bound(relation, assumptions=assumptions+[relation])"
   ]
  },
  {
   "cell_type": "code",
   "execution_count": 55,
   "metadata": {},
   "outputs": [
    {
     "data": {
      "text/html": [
       "<span style=\"font-size:20px;\"><a class=\"ProveItLink\" href=\"../../ordering/__pv_it/theorems/5d76fdd975252a644e3e1cb067a357f9a9c8486a0/expr.ipynb\"><img src=\"data:image/png;base64,iVBORw0KGgoAAAANSUhEUgAAADMAAAATBAMAAADPIygvAAAAMFBMVEX////c3NwyMjK6urpEREQi\n",
       "IiLMzMwQEBCqqqp2dnZUVFSYmJhmZmaIiIju7u4AAADlKNhoAAAAAXRSTlMAQObYZgAAAAlwSFlz\n",
       "AAAOxAAADsQBlSsOGwAAAOBJREFUKM9jYMAAm0r8VUs2MGAFDlIMVlseYJeSZGBhW4BLikdAAUXo\n",
       "SmioAlzKAVnG6B5CF9c7oIF8dzYwvAIJMOohGZjSJMDAwMlRwLAfJMAkAJcSV/0KMiGDJ4BhCVgK\n",
       "yRm7H4HoB+wXGGpBjPRQIHCASLG8BnvZ/gHbNxD9BEkX2wE/EOMQA28BiGZF9tcxERDDi4EF7HPe\n",
       "C0hST3hBJp5isIeEpQZcSoaBe4MzkPFq7nmIs185P4CFvCODi34DiD0JqtrSNRQl5DgV+Cqwxw0D\n",
       "6wWuCTikOPYexiEDADoqNycoB77qAAAAAElFTkSuQmCC\n",
       "\" style=\"display:inline;vertical-align:middle;\" /></a>, <a class=\"ProveItLink\" href=\"../../ordering/__pv_it/theorems/4aa8d696b1f407d6126de9f51a052e8d90e0848c0/expr.ipynb\"><img src=\"data:image/png;base64,iVBORw0KGgoAAAANSUhEUgAAADMAAAAQBAMAAABJt1qBAAAAMFBMVEX////MzMwyMjKqqqoiIiJm\n",
       "ZmaYmJju7u5EREQQEBC6urqIiIh2dnZUVFTc3NwAAAAqL9KcAAAAAXRSTlMAQObYZgAAAAlwSFlz\n",
       "AAAOxAAADsQBlSsOGwAAAM1JREFUGNNjYMAASTP6VWYkMGAFDW8Z1mYUYJd6w8DBeAGXFOsDBRSh\n",
       "HS4uCnCpBmSZRdsRunjLQQby3dm3ASTAp45koITRAyBj5QOO7yABpgdwqZcqX0AmsE9jYHUASyE5\n",
       "I60IRLN+YGA5AGJIugBBA0SKowzkZc4GhvoFIIEKJF2MAe1Aun4DQz5YgAXZX4EvQFIGDJeYQS7g\n",
       "3oAkVcENNJFjA7MrK1hEGS71lIEtoQvowtsH324Ei9R2FcBCvo+hQ98AOTjWtLgghxwApbZCEcpv\n",
       "FP8AAAAASUVORK5CYII=\n",
       "\" style=\"display:inline;vertical-align:middle;\" /></a>, <a class=\"ProveItLink\" href=\"../../ordering/__pv_it/theorems/d1323f34847310a404e8089c2c268d3c2eb89dbf0/expr.ipynb\"><img src=\"data:image/png;base64,iVBORw0KGgoAAAANSUhEUgAAADQAAAAQBAMAAACra0H4AAAAMFBMVEX///9ERES6uroQEBAyMjLc\n",
       "3NyYmJgiIiJmZmaqqqp2dnbMzMxUVFSIiIju7u4AAAAd7oVFAAAAAXRSTlMAQObYZgAAAAlwSFlz\n",
       "AAAOxAAADsQBlSsOGwAAAMtJREFUGNNjYMAAbM6CX4rFGLACRtYDTMfkcEgtYBDYg1OqlQVF6GJ5\n",
       "uQNcihFZRuUekq5zb4CMt3der5oApFn9kAzklnQFMhp4z3IUAGmWAISUSX3tA6AvAtj+8SSApJCc\n",
       "sSwPZCk3AwfYbobN5UAgADVQLg0sxnwBTD1EdvwOxgcgln4AH4hmR5bi2ArU/1DhMAMXSID3ApIU\n",
       "n8A1Bob5+5oZNMEingipBoY0RgWGF3c52yaARd4IPYCF/McARpGfyMGhJQ4JKCgAAF8xNF8aQs/g\n",
       "AAAAAElFTkSuQmCC\n",
       "\" style=\"display:inline;vertical-align:middle;\" /></a>, <a class=\"ProveItLink\" href=\"../__pv_it/demonstrations/937300339897af3199776e5b4c6e80fc405fcc410/expr.ipynb\"><img src=\"data:image/png;base64,iVBORw0KGgoAAAANSUhEUgAAADIAAAAQBAMAAACmdTG/AAAAMFBMVEX///8AAAAAAAAAAAAAAAAA\n",
       "AAAAAAAAAAAAAAAAAAAAAAAAAAAAAAAAAAAAAAAAAAAv3aB7AAAAD3RSTlMAIquJdkTvuxBmmd1U\n",
       "zTKBpmoTAAAACXBIWXMAAA7EAAAOxAGVKw4bAAAAqUlEQVQY02NgQAE8FxmwA85dDdglWDbjkGje\n",
       "gspnVHZ0ADO6dsKEOFw0HtswMIQJsP8AcZvuwBVzMTg5rGbgyGTg2gDiMiFkJjLMb9Bk4PrAwG0A\n",
       "5kvBTXvAsBZIshUw9AdguCAFiPsdGOZjuJr1I0MHQ/8BBl0eARSfcpQyJTAYMLA78OziQoTOPRDx\n",
       "ryuB9QADh4qdkB+qDzmWOJyaw0AZ6N4NAvvgfAAWXCs+lLCGtQAAAABJRU5ErkJggg==\n",
       "\" style=\"display:inline;vertical-align:middle;\" /></a>, <a class=\"ProveItLink\" href=\"../__pv_it/demonstrations/40fa4e3b274cbd6160ddd632a9c3fd20af2d35190/expr.ipynb\"><img src=\"data:image/png;base64,iVBORw0KGgoAAAANSUhEUgAAADEAAAASBAMAAAAAiiu3AAAAMFBMVEX////c3NwyMjK6urpEREQi\n",
       "IiLMzMwQEBCqqqp2dnZUVFSYmJhmZmaIiIju7u4AAADlKNhoAAAAAXRSTlMAQObYZgAAAAlwSFlz\n",
       "AAAOxAAADsQBlSsOGwAAANNJREFUGNNjYMAGZt4RwCrOwNTAF4hdZisDwxQk7qMNcKYXA0P/A4QM\n",
       "39QLMOYfBob8Bga+OxsYXkEErs6DqgHJbGDg5Chg2A8z/xyYYvwJlLnAkMETwLAEZkzTQbjMBIYH\n",
       "7BcYauGWGa0DmQaUsQdaav+A7RtCxg/qgv4GBoZDDLwFcNMWgikXBob9D0COZ1kAc8FBCL0dpJ6B\n",
       "4RSD/QZUVzOwNvCVAalXc8+Dg4/vKtynfCdvJYAZk8Dk0w1oocepwFeBPVxZL3BNwC7DsfcwdgkA\n",
       "RCA8NyFaEvEAAAAASUVORK5CYII=\n",
       "\" style=\"display:inline;vertical-align:middle;\" /></a> <a class=\"ProveItLink\" href=\"../__pv_it/demonstrations/feb276e15495c920f71d05d75cfa3261cec191ce0/proof.ipynb\" style=\"text-decoration: none\">&nbsp;&#x22A2;&nbsp;&nbsp;</a><a class=\"ProveItLink\" href=\"../__pv_it/demonstrations/83702b9bad4d18de4fbca3581131779b7a7755ed0/expr.ipynb\"><img src=\"data:image/png;base64,iVBORw0KGgoAAAANSUhEUgAAADgAAAApBAMAAACSIvcTAAAAMFBMVEX///8AAAAAAAAAAAAAAAAA\n",
       "AAAAAAAAAAAAAAAAAAAAAAAAAAAAAAAAAAAAAAAAAAAv3aB7AAAAD3RSTlMAIquJdkTvuxBmmd1U\n",
       "zTKBpmoTAAAACXBIWXMAAA7EAAAOxAGVKw4bAAABKElEQVQ4y2NgYFR2dGDAAC1OfcYHGBjCBNh/\n",
       "YEouYFHh2sDAkckAJNEBpwDnD6YJDFwfGLgNMCT5GLguACm2Aob+AExjGdhADul3YJiPRY4hXoCj\n",
       "gaH/AIMujwC6VHuAGgMzAwO7A88uLgx9518sY4hhYOBQsRPyw5DscuFZeYCBJMBzEbcc564GnHIs\n",
       "m3HLNW/BbWbXTtxyTXfwOJQJU/I/CHwAM6V2oor+J9pB+L2CPxCAwXePgZ6gezcI7KOOYRxeExia\n",
       "cIky8yRgSbhQ0TfAnKKOIQkVbQCm+xQMSZhofAPfPyy5ASK6loElAVMSKlrEwK6AKQkVXcQQPwFT\n",
       "EiraZLJeAEtqg4naYg0dkCjzBY4cTBmoKLcDE2aRABPlmbIUW2oBiwIA92BVIaIh34cAAAAASUVO\n",
       "RK5CYII=\n",
       "\" style=\"display:inline;vertical-align:middle;\" /></a></span>"
      ],
      "text/plain": [
       "{y in Real, a in Real, x in Real, a <= x, y > 0} |- (a / y) <= (x / y)"
      ]
     },
     "metadata": {},
     "output_type": "display_data"
    }
   ],
   "source": [
    "relation = LessEq(a, x)\n",
    "frac(a, y).deduce_bound(relation, assumptions=assumptions+[relation])"
   ]
  },
  {
   "cell_type": "markdown",
   "metadata": {},
   "source": [
    "Bound by the numerator with a negative denominator"
   ]
  },
  {
   "cell_type": "code",
   "execution_count": 56,
   "metadata": {},
   "outputs": [
    {
     "data": {
      "text/html": [
       "<span style=\"font-size:20px;\"><a class=\"ProveItLink\" href=\"../__pv_it/demonstrations/41c3ad9f29c40b69fd61c49f41684c1b813e9e850/expr.ipynb\"><img src=\"data:image/png;base64,iVBORw0KGgoAAAANSUhEUgAAADMAAAAQBAMAAABJt1qBAAAAMFBMVEX///+YmJhERESIiIhUVFTc\n",
       "3NwiIiJ2dnbu7u66urqqqqpmZmYQEBAyMjLMzMwAAAA7oY0NAAAAAXRSTlMAQObYZgAAAAlwSFlz\n",
       "AAAOxAAADsQBlSsOGwAAANxJREFUGNNjYMAAsof0rx0SgLD57mxAkVMIYZgi1ABh8y9AlQpnYOJz\n",
       "gLDnN6BLcQdcgLDLIJRRWtoFuJQCROw2mJxrgdDF0gEykNXd7hdIgPUGkoGP1gYAGXMCmH6ABHgD\n",
       "4FIx176BTOA4yMANtoEXyRmCvSCa+wMDWwGI8SYNCBQgUkyNIC/zKDD0TwAJNCHp4tugAaT7DRjk\n",
       "wQJsyP7aFwSSWsDgywVyAbMBklQTM9BEJgOubG6wyC24VDQDo4Am0IXOdSF2YJEWzQZYyKsyKN1H\n",
       "CdfpamkXkLgAdQoz5LsD3PAAAAAASUVORK5CYII=\n",
       "\" style=\"display:inline;vertical-align:middle;\" /></a>, <a class=\"ProveItLink\" href=\"../../ordering/__pv_it/theorems/d1323f34847310a404e8089c2c268d3c2eb89dbf0/expr.ipynb\"><img src=\"data:image/png;base64,iVBORw0KGgoAAAANSUhEUgAAADQAAAAQBAMAAACra0H4AAAAMFBMVEX///9ERES6uroQEBAyMjLc\n",
       "3NyYmJgiIiJmZmaqqqp2dnbMzMxUVFSIiIju7u4AAAAd7oVFAAAAAXRSTlMAQObYZgAAAAlwSFlz\n",
       "AAAOxAAADsQBlSsOGwAAAMtJREFUGNNjYMAAbM6CX4rFGLACRtYDTMfkcEgtYBDYg1OqlQVF6GJ5\n",
       "uQNcihFZRuUekq5zb4CMt3der5oApFn9kAzklnQFMhp4z3IUAGmWAISUSX3tA6AvAtj+8SSApJCc\n",
       "sSwPZCk3AwfYbobN5UAgADVQLg0sxnwBTD1EdvwOxgcgln4AH4hmR5bi2ArU/1DhMAMXSID3ApIU\n",
       "n8A1Bob5+5oZNMEingipBoY0RgWGF3c52yaARd4IPYCF/McARpGfyMGhJQ4JKCgAAF8xNF8aQs/g\n",
       "AAAAAElFTkSuQmCC\n",
       "\" style=\"display:inline;vertical-align:middle;\" /></a>, <a class=\"ProveItLink\" href=\"../../ordering/__pv_it/theorems/4aa8d696b1f407d6126de9f51a052e8d90e0848c0/expr.ipynb\"><img src=\"data:image/png;base64,iVBORw0KGgoAAAANSUhEUgAAADMAAAAQBAMAAABJt1qBAAAAMFBMVEX////MzMwyMjKqqqoiIiJm\n",
       "ZmaYmJju7u5EREQQEBC6urqIiIh2dnZUVFTc3NwAAAAqL9KcAAAAAXRSTlMAQObYZgAAAAlwSFlz\n",
       "AAAOxAAADsQBlSsOGwAAAM1JREFUGNNjYMAASTP6VWYkMGAFDW8Z1mYUYJd6w8DBeAGXFOsDBRSh\n",
       "HS4uCnCpBmSZRdsRunjLQQby3dm3ASTAp45koITRAyBj5QOO7yABpgdwqZcqX0AmsE9jYHUASyE5\n",
       "I60IRLN+YGA5AGJIugBBA0SKowzkZc4GhvoFIIEKJF2MAe1Aun4DQz5YgAXZX4EvQFIGDJeYQS7g\n",
       "3oAkVcENNJFjA7MrK1hEGS71lIEtoQvowtsH324Ei9R2FcBCvo+hQ98AOTjWtLgghxwApbZCEcpv\n",
       "FP8AAAAASUVORK5CYII=\n",
       "\" style=\"display:inline;vertical-align:middle;\" /></a>, <a class=\"ProveItLink\" href=\"../__pv_it/demonstrations/d2a7966a0ecdbabf7c84da52ab0220ff0e97e5820/expr.ipynb\"><img src=\"data:image/png;base64,iVBORw0KGgoAAAANSUhEUgAAADIAAAAOBAMAAACfqVJUAAAAMFBMVEX////MzMwyMjKqqqoiIiJm\n",
       "ZmaYmJju7u5EREQQEBC6urqIiIh2dnZUVFTc3NwAAAAqL9KcAAAAAXRSTlMAQObYZgAAAAlwSFlz\n",
       "AAAOxAAADsQBlSsOGwAAAKhJREFUGNNjYCAMihJwybAf2YAmwndnH1Roy3GYot3XZQ4zMKx8wPEd\n",
       "KpISDqFZGfZuCGFgn8bA6gDTbxQHpvIY8guuMbB+YGA5ADd60XUQKcAQBCQ5GxjqFyBk2iH0bCCu\n",
       "38CQD5cwugehuf4xlDPUGzBcYn4AdQHEGvYu3gkMBxg4NjC7sqK6mvlj6QQuAwb22wffbgSr3ALz\n",
       "KXv0BtNkJB+XJDAQCQCP8S1VUlq5AAAAAABJRU5ErkJggg==\n",
       "\" style=\"display:inline;vertical-align:middle;\" /></a>, <a class=\"ProveItLink\" href=\"../__pv_it/demonstrations/fe553994aca4dec5c87cf7a983cda9b2748426220/expr.ipynb\"><img src=\"data:image/png;base64,iVBORw0KGgoAAAANSUhEUgAAADEAAAAQBAMAAABNQoq8AAAAMFBMVEX///+YmJhERESIiIhUVFTc\n",
       "3NwiIiJ2dnbu7u66urqqqqpmZmYQEBAyMjLMzMwAAAA7oY0NAAAAAXRSTlMAQObYZgAAAAlwSFlz\n",
       "AAAOxAAADsQBlSsOGwAAANNJREFUGNNjYGBg4LuzgQEVlFsHQBj8C1AleBdwpEJY8xtQZcQYGIog\n",
       "rDK4GNdVEKnCwLAeovg2TIIxGyzwm4HhPdACVne7X1AJ5nSwBAdIRoCBYU4A0w+IRHsyhGb9DpQx\n",
       "YOA4yMB9ASwQnciAJFPAwP2Bga0AxGe5BbONAygz34CBR4GhfwKqDMgF6xcw9BswyDOgmsagxMAg\n",
       "38DQv4DBlysAxQUMMgwMexkYmAy4srmhIs3JEP+xLeA4B7TOuS7EDu5TqIe2mzxAC2MGxqsMhAEA\n",
       "MJ0yIJVCosAAAAAASUVORK5CYII=\n",
       "\" style=\"display:inline;vertical-align:middle;\" /></a> <a class=\"ProveItLink\" href=\"../__pv_it/demonstrations/9e5804b36d1bacdad6c1f4963d7a310f6737b3b60/proof.ipynb\" style=\"text-decoration: none\">&nbsp;&#x22A2;&nbsp;&nbsp;</a><a class=\"ProveItLink\" href=\"../__pv_it/demonstrations/8cfbaca9f9f22d9d848f99c7818a52b1eb2519350/expr.ipynb\"><img src=\"data:image/png;base64,iVBORw0KGgoAAAANSUhEUgAAADgAAAAlBAMAAADl4DdoAAAAMFBMVEX///8AAAAAAAAAAAAAAAAA\n",
       "AAAAAAAAAAAAAAAAAAAAAAAAAAAAAAAAAAAAAAAAAAAv3aB7AAAAD3RSTlMAIquJdkTvuxBmmd1U\n",
       "zTKBpmoTAAAACXBIWXMAAA7EAAAOxAGVKw4bAAABBUlEQVQ4y2NgYFR2dGDAAC1OfcYHGBjCBNh/\n",
       "YEouYFHh2sDAkckAJNEBpwDnD6YJDFwfGLgNMCT5GLguACm2Aob+AExjGdhADul3YJiPRY4hXoCj\n",
       "gaH/AIMujwC6VHuAGgMzAwO7A88uLgx9518sY4hhYOBQsRPyw5DscuFZeYCBToDnIm45zl0NOOVY\n",
       "NuOWa96C20ypnegi/0HgA4jFdAdN9D+SMmRJYowl1kHAZLWlAY8sJ4ZH+a4tQMheRBflxxp1UNF4\n",
       "rDZBRa2x2g8VvYVVEiTKqOz3B1MGKoo9r0BEQXnlAoYcVBR7XoGKYs8rUFHseQUqij2vQEWx5xWo\n",
       "KPa8AhEFALRmUMPSPdmKAAAAAElFTkSuQmCC\n",
       "\" style=\"display:inline;vertical-align:middle;\" /></a></span>"
      ],
      "text/plain": [
       "{d in Real, x in Real, a in Real, a > x, d < 0} |- (a / d) < (x / d)"
      ]
     },
     "metadata": {},
     "output_type": "display_data"
    }
   ],
   "source": [
    "relation = greater(a, x)\n",
    "frac(a, d).deduce_bound(relation, assumptions=assumptions+[relation])"
   ]
  },
  {
   "cell_type": "code",
   "execution_count": 57,
   "metadata": {},
   "outputs": [
    {
     "data": {
      "text/html": [
       "<span style=\"font-size:20px;\"><a class=\"ProveItLink\" href=\"../__pv_it/demonstrations/41c3ad9f29c40b69fd61c49f41684c1b813e9e850/expr.ipynb\"><img src=\"data:image/png;base64,iVBORw0KGgoAAAANSUhEUgAAADMAAAAQBAMAAABJt1qBAAAAMFBMVEX///+YmJhERESIiIhUVFTc\n",
       "3NwiIiJ2dnbu7u66urqqqqpmZmYQEBAyMjLMzMwAAAA7oY0NAAAAAXRSTlMAQObYZgAAAAlwSFlz\n",
       "AAAOxAAADsQBlSsOGwAAANxJREFUGNNjYMAAsof0rx0SgLD57mxAkVMIYZgi1ABh8y9AlQpnYOJz\n",
       "gLDnN6BLcQdcgLDLIJRRWtoFuJQCROw2mJxrgdDF0gEykNXd7hdIgPUGkoGP1gYAGXMCmH6ABHgD\n",
       "4FIx176BTOA4yMANtoEXyRmCvSCa+wMDWwGI8SYNCBQgUkyNIC/zKDD0TwAJNCHp4tugAaT7DRjk\n",
       "wQJsyP7aFwSSWsDgywVyAbMBklQTM9BEJgOubG6wyC24VDQDo4Am0IXOdSF2YJEWzQZYyKsyKN1H\n",
       "CdfpamkXkLgAdQoz5LsD3PAAAAAASUVORK5CYII=\n",
       "\" style=\"display:inline;vertical-align:middle;\" /></a>, <a class=\"ProveItLink\" href=\"../../ordering/__pv_it/theorems/4aa8d696b1f407d6126de9f51a052e8d90e0848c0/expr.ipynb\"><img src=\"data:image/png;base64,iVBORw0KGgoAAAANSUhEUgAAADMAAAAQBAMAAABJt1qBAAAAMFBMVEX////MzMwyMjKqqqoiIiJm\n",
       "ZmaYmJju7u5EREQQEBC6urqIiIh2dnZUVFTc3NwAAAAqL9KcAAAAAXRSTlMAQObYZgAAAAlwSFlz\n",
       "AAAOxAAADsQBlSsOGwAAAM1JREFUGNNjYMAASTP6VWYkMGAFDW8Z1mYUYJd6w8DBeAGXFOsDBRSh\n",
       "HS4uCnCpBmSZRdsRunjLQQby3dm3ASTAp45koITRAyBj5QOO7yABpgdwqZcqX0AmsE9jYHUASyE5\n",
       "I60IRLN+YGA5AGJIugBBA0SKowzkZc4GhvoFIIEKJF2MAe1Aun4DQz5YgAXZX4EvQFIGDJeYQS7g\n",
       "3oAkVcENNJFjA7MrK1hEGS71lIEtoQvowtsH324Ei9R2FcBCvo+hQ98AOTjWtLgghxwApbZCEcpv\n",
       "FP8AAAAASUVORK5CYII=\n",
       "\" style=\"display:inline;vertical-align:middle;\" /></a>, <a class=\"ProveItLink\" href=\"../../ordering/__pv_it/theorems/d1323f34847310a404e8089c2c268d3c2eb89dbf0/expr.ipynb\"><img src=\"data:image/png;base64,iVBORw0KGgoAAAANSUhEUgAAADQAAAAQBAMAAACra0H4AAAAMFBMVEX///9ERES6uroQEBAyMjLc\n",
       "3NyYmJgiIiJmZmaqqqp2dnbMzMxUVFSIiIju7u4AAAAd7oVFAAAAAXRSTlMAQObYZgAAAAlwSFlz\n",
       "AAAOxAAADsQBlSsOGwAAAMtJREFUGNNjYMAAbM6CX4rFGLACRtYDTMfkcEgtYBDYg1OqlQVF6GJ5\n",
       "uQNcihFZRuUekq5zb4CMt3der5oApFn9kAzklnQFMhp4z3IUAGmWAISUSX3tA6AvAtj+8SSApJCc\n",
       "sSwPZCk3AwfYbobN5UAgADVQLg0sxnwBTD1EdvwOxgcgln4AH4hmR5bi2ArU/1DhMAMXSID3ApIU\n",
       "n8A1Bob5+5oZNMEingipBoY0RgWGF3c52yaARd4IPYCF/McARpGfyMGhJQ4JKCgAAF8xNF8aQs/g\n",
       "AAAAAElFTkSuQmCC\n",
       "\" style=\"display:inline;vertical-align:middle;\" /></a>, <a class=\"ProveItLink\" href=\"../__pv_it/demonstrations/4754e503f1b9bbcdbc3766185915ea4595df3b130/expr.ipynb\"><img src=\"data:image/png;base64,iVBORw0KGgoAAAANSUhEUgAAADIAAAAOBAMAAACfqVJUAAAAMFBMVEX///8AAAAAAAAAAAAAAAAA\n",
       "AAAAAAAAAAAAAAAAAAAAAAAAAAAAAAAAAAAAAAAAAAAv3aB7AAAAD3RSTlMAIquJdkTvuxBmmd1U\n",
       "zTKBpmoTAAAACXBIWXMAAA7EAAAOxAGVKw4bAAAAqElEQVQY02NgIBLwXMQhwbmrAYnHqOzoAGWy\n",
       "bIZIcLhoPLZhYAgTYP8BkWjeAlXBxeDksJqBI5OBawOYL7UTZsxEhvkNmgxcHxi4DUBcpjtwCx4w\n",
       "rAWSbAUM/QFoMgwMKUDc78AwnwHNNAbWjwwdDP0HGHR5BFBcwFHKlMBgwMDuwLOLC6q0ZQvY1Tz/\n",
       "uhJYDzBwqNgJ+cF9CvYQxxKHU3MwAuEiEUEIAJqZJcgWZ+RPAAAAAElFTkSuQmCC\n",
       "\" style=\"display:inline;vertical-align:middle;\" /></a>, <a class=\"ProveItLink\" href=\"../__pv_it/demonstrations/fe553994aca4dec5c87cf7a983cda9b2748426220/expr.ipynb\"><img src=\"data:image/png;base64,iVBORw0KGgoAAAANSUhEUgAAADEAAAAQBAMAAABNQoq8AAAAMFBMVEX///+YmJhERESIiIhUVFTc\n",
       "3NwiIiJ2dnbu7u66urqqqqpmZmYQEBAyMjLMzMwAAAA7oY0NAAAAAXRSTlMAQObYZgAAAAlwSFlz\n",
       "AAAOxAAADsQBlSsOGwAAANNJREFUGNNjYGBg4LuzgQEVlFsHQBj8C1AleBdwpEJY8xtQZcQYGIog\n",
       "rDK4GNdVEKnCwLAeovg2TIIxGyzwm4HhPdACVne7X1AJ5nSwBAdIRoCBYU4A0w+IRHsyhGb9DpQx\n",
       "YOA4yMB9ASwQnciAJFPAwP2Bga0AxGe5BbONAygz34CBR4GhfwKqDMgF6xcw9BswyDOgmsagxMAg\n",
       "38DQv4DBlysAxQUMMgwMexkYmAy4srmhIs3JEP+xLeA4B7TOuS7EDu5TqIe2mzxAC2MGxqsMhAEA\n",
       "MJ0yIJVCosAAAAAASUVORK5CYII=\n",
       "\" style=\"display:inline;vertical-align:middle;\" /></a> <a class=\"ProveItLink\" href=\"../__pv_it/demonstrations/893a0e08ae2ff37ddec9bc3aa55b9d4e91e7693e0/proof.ipynb\" style=\"text-decoration: none\">&nbsp;&#x22A2;&nbsp;&nbsp;</a><a class=\"ProveItLink\" href=\"../__pv_it/demonstrations/5598b9eb3a7db729029de2b56a39f314e85f38980/expr.ipynb\"><img src=\"data:image/png;base64,iVBORw0KGgoAAAANSUhEUgAAADgAAAAlBAMAAADl4DdoAAAAMFBMVEX///8AAAAAAAAAAAAAAAAA\n",
       "AAAAAAAAAAAAAAAAAAAAAAAAAAAAAAAAAAAAAAAAAAAv3aB7AAAAD3RSTlMAIquJdkTvuxBmmd1U\n",
       "zTKBpmoTAAAACXBIWXMAAA7EAAAOxAGVKw4bAAABB0lEQVQ4y2NgYFR2dGDAAC1OfcYHGBjCBNh/\n",
       "YEouYFHh2sDAkckAJNEBpwDnD6YJDFwfGLgNMCT5GLguACm2Aob+AExjGdhADul3YJiPRY4hXoCj\n",
       "gaH/AIMujwC6VHuAGgMzAwO7A88uLgx9518sY4hhYOBQsRPyw5DscuFZeYCB9qB3Ah5JDmsHfHq9\n",
       "LfDJzl6BT/bsQhTufxD4AOfGaiBE/6Nrja3AY6wiHgctJMsrHN7YAoHv2gIQ1T0BmygDP9aog4rG\n",
       "N2BNRRBRa6xugIrewioJEmVU9vuDKQMVxZ5XIKKgvHIB088QUex5BSqKPa9ARbHnFago9rwCFcWe\n",
       "V6Ci2PMKRBQAvpdOVwXrSvIAAAAASUVORK5CYII=\n",
       "\" style=\"display:inline;vertical-align:middle;\" /></a></span>"
      ],
      "text/plain": [
       "{d in Real, a in Real, x in Real, a < x, d < 0} |- (a / d) > (x / d)"
      ]
     },
     "metadata": {},
     "output_type": "display_data"
    }
   ],
   "source": [
    "relation = Less(a, x)\n",
    "frac(a, d).deduce_bound(relation, assumptions=assumptions+[relation])"
   ]
  },
  {
   "cell_type": "code",
   "execution_count": 58,
   "metadata": {},
   "outputs": [
    {
     "data": {
      "text/html": [
       "<span style=\"font-size:20px;\"><a class=\"ProveItLink\" href=\"../__pv_it/demonstrations/41c3ad9f29c40b69fd61c49f41684c1b813e9e850/expr.ipynb\"><img src=\"data:image/png;base64,iVBORw0KGgoAAAANSUhEUgAAADMAAAAQBAMAAABJt1qBAAAAMFBMVEX///+YmJhERESIiIhUVFTc\n",
       "3NwiIiJ2dnbu7u66urqqqqpmZmYQEBAyMjLMzMwAAAA7oY0NAAAAAXRSTlMAQObYZgAAAAlwSFlz\n",
       "AAAOxAAADsQBlSsOGwAAANxJREFUGNNjYMAAsof0rx0SgLD57mxAkVMIYZgi1ABh8y9AlQpnYOJz\n",
       "gLDnN6BLcQdcgLDLIJRRWtoFuJQCROw2mJxrgdDF0gEykNXd7hdIgPUGkoGP1gYAGXMCmH6ABHgD\n",
       "4FIx176BTOA4yMANtoEXyRmCvSCa+wMDWwGI8SYNCBQgUkyNIC/zKDD0TwAJNCHp4tugAaT7DRjk\n",
       "wQJsyP7aFwSSWsDgywVyAbMBklQTM9BEJgOubG6wyC24VDQDo4Am0IXOdSF2YJEWzQZYyKsyKN1H\n",
       "CdfpamkXkLgAdQoz5LsD3PAAAAAASUVORK5CYII=\n",
       "\" style=\"display:inline;vertical-align:middle;\" /></a>, <a class=\"ProveItLink\" href=\"../../ordering/__pv_it/theorems/d1323f34847310a404e8089c2c268d3c2eb89dbf0/expr.ipynb\"><img src=\"data:image/png;base64,iVBORw0KGgoAAAANSUhEUgAAADQAAAAQBAMAAACra0H4AAAAMFBMVEX///9ERES6uroQEBAyMjLc\n",
       "3NyYmJgiIiJmZmaqqqp2dnbMzMxUVFSIiIju7u4AAAAd7oVFAAAAAXRSTlMAQObYZgAAAAlwSFlz\n",
       "AAAOxAAADsQBlSsOGwAAAMtJREFUGNNjYMAAbM6CX4rFGLACRtYDTMfkcEgtYBDYg1OqlQVF6GJ5\n",
       "uQNcihFZRuUekq5zb4CMt3der5oApFn9kAzklnQFMhp4z3IUAGmWAISUSX3tA6AvAtj+8SSApJCc\n",
       "sSwPZCk3AwfYbobN5UAgADVQLg0sxnwBTD1EdvwOxgcgln4AH4hmR5bi2ArU/1DhMAMXSID3ApIU\n",
       "n8A1Bob5+5oZNMEingipBoY0RgWGF3c52yaARd4IPYCF/McARpGfyMGhJQ4JKCgAAF8xNF8aQs/g\n",
       "AAAAAElFTkSuQmCC\n",
       "\" style=\"display:inline;vertical-align:middle;\" /></a>, <a class=\"ProveItLink\" href=\"../../ordering/__pv_it/theorems/4aa8d696b1f407d6126de9f51a052e8d90e0848c0/expr.ipynb\"><img src=\"data:image/png;base64,iVBORw0KGgoAAAANSUhEUgAAADMAAAAQBAMAAABJt1qBAAAAMFBMVEX////MzMwyMjKqqqoiIiJm\n",
       "ZmaYmJju7u5EREQQEBC6urqIiIh2dnZUVFTc3NwAAAAqL9KcAAAAAXRSTlMAQObYZgAAAAlwSFlz\n",
       "AAAOxAAADsQBlSsOGwAAAM1JREFUGNNjYMAASTP6VWYkMGAFDW8Z1mYUYJd6w8DBeAGXFOsDBRSh\n",
       "HS4uCnCpBmSZRdsRunjLQQby3dm3ASTAp45koITRAyBj5QOO7yABpgdwqZcqX0AmsE9jYHUASyE5\n",
       "I60IRLN+YGA5AGJIugBBA0SKowzkZc4GhvoFIIEKJF2MAe1Aun4DQz5YgAXZX4EvQFIGDJeYQS7g\n",
       "3oAkVcENNJFjA7MrK1hEGS71lIEtoQvowtsH324Ei9R2FcBCvo+hQ98AOTjWtLgghxwApbZCEcpv\n",
       "FP8AAAAASUVORK5CYII=\n",
       "\" style=\"display:inline;vertical-align:middle;\" /></a>, <a class=\"ProveItLink\" href=\"../__pv_it/demonstrations/0c635a836c670db444fe3d06a0b3010098a1be2f0/expr.ipynb\"><img src=\"data:image/png;base64,iVBORw0KGgoAAAANSUhEUgAAADIAAAAQBAMAAACmdTG/AAAAMFBMVEX////MzMwyMjKqqqoiIiJm\n",
       "ZmaYmJju7u5EREQQEBC6urqIiIh2dnZUVFTc3NwAAAAqL9KcAAAAAXRSTlMAQObYZgAAAAlwSFlz\n",
       "AAAOxAAADsQBlSsOGwAAAKlJREFUGNNjYICBogQGHID9yAZcUgxbjuOUSkGV4ruzD26MURzE4N3X\n",
       "ZQ4zMKx8wPEdrmzRdRDJyrB3QwgD+zQGVgeETDuIzGPIL7jGwPqBgeUA3LR7YEqAIQhIcjYw1C+A\n",
       "uSAcpmQ2ENdvYMjHcDXXP4ZyhnoDhkvMD1B8yt7FO4HhAAPHBmZXVtTQYf5YOoHLgIH99sG3G9HC\n",
       "KXqDaTIDZaDEBQQc4XwAh/kv1ZavVjsAAAAASUVORK5CYII=\n",
       "\" style=\"display:inline;vertical-align:middle;\" /></a>, <a class=\"ProveItLink\" href=\"../__pv_it/demonstrations/fe553994aca4dec5c87cf7a983cda9b2748426220/expr.ipynb\"><img src=\"data:image/png;base64,iVBORw0KGgoAAAANSUhEUgAAADEAAAAQBAMAAABNQoq8AAAAMFBMVEX///+YmJhERESIiIhUVFTc\n",
       "3NwiIiJ2dnbu7u66urqqqqpmZmYQEBAyMjLMzMwAAAA7oY0NAAAAAXRSTlMAQObYZgAAAAlwSFlz\n",
       "AAAOxAAADsQBlSsOGwAAANNJREFUGNNjYGBg4LuzgQEVlFsHQBj8C1AleBdwpEJY8xtQZcQYGIog\n",
       "rDK4GNdVEKnCwLAeovg2TIIxGyzwm4HhPdACVne7X1AJ5nSwBAdIRoCBYU4A0w+IRHsyhGb9DpQx\n",
       "YOA4yMB9ASwQnciAJFPAwP2Bga0AxGe5BbONAygz34CBR4GhfwKqDMgF6xcw9BswyDOgmsagxMAg\n",
       "38DQv4DBlysAxQUMMgwMexkYmAy4srmhIs3JEP+xLeA4B7TOuS7EDu5TqIe2mzxAC2MGxqsMhAEA\n",
       "MJ0yIJVCosAAAAAASUVORK5CYII=\n",
       "\" style=\"display:inline;vertical-align:middle;\" /></a> <a class=\"ProveItLink\" href=\"../__pv_it/demonstrations/ae749af6db74ae45bcdfb91351ec2dc9195723270/proof.ipynb\" style=\"text-decoration: none\">&nbsp;&#x22A2;&nbsp;&nbsp;</a><a class=\"ProveItLink\" href=\"../__pv_it/demonstrations/c2db6934bdb61cbdd62811f13d83adb19ce214f50/expr.ipynb\"><img src=\"data:image/png;base64,iVBORw0KGgoAAAANSUhEUgAAADgAAAAlBAMAAADl4DdoAAAAMFBMVEX///8AAAAAAAAAAAAAAAAA\n",
       "AAAAAAAAAAAAAAAAAAAAAAAAAAAAAAAAAAAAAAAAAAAv3aB7AAAAD3RSTlMAIquJdkTvuxBmmd1U\n",
       "zTKBpmoTAAAACXBIWXMAAA7EAAAOxAGVKw4bAAABDElEQVQ4y2NgYFR2dGDAAC1OfcYHGBjCBNh/\n",
       "YEouYFHh2sDAkckAJNEBpwDnD6YJDFwfGLgNMCT5GLguACm2Aob+AExjGdhADul3YJiPRY4hXoCj\n",
       "gaH/AIMujwC6VHuAGgMzAwO7A88uLgx9518sY4hhYOBQsRPyw5DscuFZeYCBJMBzEbcc564GnHIs\n",
       "m3HLNW/BbWbXTtxyTXfwOJQJU/I/CHwAM6V2oor+J9pB+L2CPxCAwXePlMDmu7YAjyg/1qiDisaD\n",
       "XdG9GwT2IVIRxG3WWG2Dit7CKgkSZVT2+4MpAxXFnlcgoqC8cgFDDiqKPa9ARbHnFago9rwCFcWe\n",
       "V6Ci2PMKVBR7XoGIAgCWJ1Y5pqNXvAAAAABJRU5ErkJggg==\n",
       "\" style=\"display:inline;vertical-align:middle;\" /></a></span>"
      ],
      "text/plain": [
       "{d in Real, x in Real, a in Real, a >= x, d < 0} |- (a / d) <= (x / d)"
      ]
     },
     "metadata": {},
     "output_type": "display_data"
    }
   ],
   "source": [
    "relation = greater_eq(a, x)\n",
    "frac(a, d).deduce_bound(relation, assumptions=assumptions+[relation])"
   ]
  },
  {
   "cell_type": "code",
   "execution_count": 59,
   "metadata": {},
   "outputs": [
    {
     "data": {
      "text/html": [
       "<span style=\"font-size:20px;\"><a class=\"ProveItLink\" href=\"../__pv_it/demonstrations/41c3ad9f29c40b69fd61c49f41684c1b813e9e850/expr.ipynb\"><img src=\"data:image/png;base64,iVBORw0KGgoAAAANSUhEUgAAADMAAAAQBAMAAABJt1qBAAAAMFBMVEX///+YmJhERESIiIhUVFTc\n",
       "3NwiIiJ2dnbu7u66urqqqqpmZmYQEBAyMjLMzMwAAAA7oY0NAAAAAXRSTlMAQObYZgAAAAlwSFlz\n",
       "AAAOxAAADsQBlSsOGwAAANxJREFUGNNjYMAAsof0rx0SgLD57mxAkVMIYZgi1ABh8y9AlQpnYOJz\n",
       "gLDnN6BLcQdcgLDLIJRRWtoFuJQCROw2mJxrgdDF0gEykNXd7hdIgPUGkoGP1gYAGXMCmH6ABHgD\n",
       "4FIx176BTOA4yMANtoEXyRmCvSCa+wMDWwGI8SYNCBQgUkyNIC/zKDD0TwAJNCHp4tugAaT7DRjk\n",
       "wQJsyP7aFwSSWsDgywVyAbMBklQTM9BEJgOubG6wyC24VDQDo4Am0IXOdSF2YJEWzQZYyKsyKN1H\n",
       "CdfpamkXkLgAdQoz5LsD3PAAAAAASUVORK5CYII=\n",
       "\" style=\"display:inline;vertical-align:middle;\" /></a>, <a class=\"ProveItLink\" href=\"../../ordering/__pv_it/theorems/4aa8d696b1f407d6126de9f51a052e8d90e0848c0/expr.ipynb\"><img src=\"data:image/png;base64,iVBORw0KGgoAAAANSUhEUgAAADMAAAAQBAMAAABJt1qBAAAAMFBMVEX////MzMwyMjKqqqoiIiJm\n",
       "ZmaYmJju7u5EREQQEBC6urqIiIh2dnZUVFTc3NwAAAAqL9KcAAAAAXRSTlMAQObYZgAAAAlwSFlz\n",
       "AAAOxAAADsQBlSsOGwAAAM1JREFUGNNjYMAASTP6VWYkMGAFDW8Z1mYUYJd6w8DBeAGXFOsDBRSh\n",
       "HS4uCnCpBmSZRdsRunjLQQby3dm3ASTAp45koITRAyBj5QOO7yABpgdwqZcqX0AmsE9jYHUASyE5\n",
       "I60IRLN+YGA5AGJIugBBA0SKowzkZc4GhvoFIIEKJF2MAe1Aun4DQz5YgAXZX4EvQFIGDJeYQS7g\n",
       "3oAkVcENNJFjA7MrK1hEGS71lIEtoQvowtsH324Ei9R2FcBCvo+hQ98AOTjWtLgghxwApbZCEcpv\n",
       "FP8AAAAASUVORK5CYII=\n",
       "\" style=\"display:inline;vertical-align:middle;\" /></a>, <a class=\"ProveItLink\" href=\"../../ordering/__pv_it/theorems/d1323f34847310a404e8089c2c268d3c2eb89dbf0/expr.ipynb\"><img src=\"data:image/png;base64,iVBORw0KGgoAAAANSUhEUgAAADQAAAAQBAMAAACra0H4AAAAMFBMVEX///9ERES6uroQEBAyMjLc\n",
       "3NyYmJgiIiJmZmaqqqp2dnbMzMxUVFSIiIju7u4AAAAd7oVFAAAAAXRSTlMAQObYZgAAAAlwSFlz\n",
       "AAAOxAAADsQBlSsOGwAAAMtJREFUGNNjYMAAbM6CX4rFGLACRtYDTMfkcEgtYBDYg1OqlQVF6GJ5\n",
       "uQNcihFZRuUekq5zb4CMt3der5oApFn9kAzklnQFMhp4z3IUAGmWAISUSX3tA6AvAtj+8SSApJCc\n",
       "sSwPZCk3AwfYbobN5UAgADVQLg0sxnwBTD1EdvwOxgcgln4AH4hmR5bi2ArU/1DhMAMXSID3ApIU\n",
       "n8A1Bob5+5oZNMEingipBoY0RgWGF3c52yaARd4IPYCF/McARpGfyMGhJQ4JKCgAAF8xNF8aQs/g\n",
       "AAAAAElFTkSuQmCC\n",
       "\" style=\"display:inline;vertical-align:middle;\" /></a>, <a class=\"ProveItLink\" href=\"../__pv_it/demonstrations/937300339897af3199776e5b4c6e80fc405fcc410/expr.ipynb\"><img src=\"data:image/png;base64,iVBORw0KGgoAAAANSUhEUgAAADIAAAAQBAMAAACmdTG/AAAAMFBMVEX///8AAAAAAAAAAAAAAAAA\n",
       "AAAAAAAAAAAAAAAAAAAAAAAAAAAAAAAAAAAAAAAAAAAv3aB7AAAAD3RSTlMAIquJdkTvuxBmmd1U\n",
       "zTKBpmoTAAAACXBIWXMAAA7EAAAOxAGVKw4bAAAAqUlEQVQY02NgQAE8FxmwA85dDdglWDbjkGje\n",
       "gspnVHZ0ADO6dsKEOFw0HtswMIQJsP8AcZvuwBVzMTg5rGbgyGTg2gDiMiFkJjLMb9Bk4PrAwG0A\n",
       "5kvBTXvAsBZIshUw9AdguCAFiPsdGOZjuJr1I0MHQ/8BBl0eARSfcpQyJTAYMLA78OziQoTOPRDx\n",
       "ryuB9QADh4qdkB+qDzmWOJyaw0AZ6N4NAvvgfAAWXCs+lLCGtQAAAABJRU5ErkJggg==\n",
       "\" style=\"display:inline;vertical-align:middle;\" /></a>, <a class=\"ProveItLink\" href=\"../__pv_it/demonstrations/fe553994aca4dec5c87cf7a983cda9b2748426220/expr.ipynb\"><img src=\"data:image/png;base64,iVBORw0KGgoAAAANSUhEUgAAADEAAAAQBAMAAABNQoq8AAAAMFBMVEX///+YmJhERESIiIhUVFTc\n",
       "3NwiIiJ2dnbu7u66urqqqqpmZmYQEBAyMjLMzMwAAAA7oY0NAAAAAXRSTlMAQObYZgAAAAlwSFlz\n",
       "AAAOxAAADsQBlSsOGwAAANNJREFUGNNjYGBg4LuzgQEVlFsHQBj8C1AleBdwpEJY8xtQZcQYGIog\n",
       "rDK4GNdVEKnCwLAeovg2TIIxGyzwm4HhPdACVne7X1AJ5nSwBAdIRoCBYU4A0w+IRHsyhGb9DpQx\n",
       "YOA4yMB9ASwQnciAJFPAwP2Bga0AxGe5BbONAygz34CBR4GhfwKqDMgF6xcw9BswyDOgmsagxMAg\n",
       "38DQv4DBlysAxQUMMgwMexkYmAy4srmhIs3JEP+xLeA4B7TOuS7EDu5TqIe2mzxAC2MGxqsMhAEA\n",
       "MJ0yIJVCosAAAAAASUVORK5CYII=\n",
       "\" style=\"display:inline;vertical-align:middle;\" /></a> <a class=\"ProveItLink\" href=\"../__pv_it/demonstrations/d4c9021ff654f988b4765d83c2599a40efa5e0ae0/proof.ipynb\" style=\"text-decoration: none\">&nbsp;&#x22A2;&nbsp;&nbsp;</a><a class=\"ProveItLink\" href=\"../__pv_it/demonstrations/8ff07378858f7a23ecdb0055814d9bb38c7818da0/expr.ipynb\"><img src=\"data:image/png;base64,iVBORw0KGgoAAAANSUhEUgAAADgAAAAlBAMAAADl4DdoAAAAMFBMVEX///8AAAAAAAAAAAAAAAAA\n",
       "AAAAAAAAAAAAAAAAAAAAAAAAAAAAAAAAAAAAAAAAAAAv3aB7AAAAD3RSTlMAIquJdkTvuxBmmd1U\n",
       "zTKBpmoTAAAACXBIWXMAAA7EAAAOxAGVKw4bAAABCklEQVQ4y2NgYFR2dGDAAC1OfcYHGBjCBNh/\n",
       "YEouYFHh2sDAkckAJNEBpwDnD6YJDFwfGLgNMCT5GLguACm2Aob+AExjGdhADul3YJiPRY4hXoCj\n",
       "gaH/AIMujwC6VHuAGgMzAwO7A88uLgx9518sY4hhYOBQsRPyw5DscuFZeYCBWNA7AY8kh7UDPr3e\n",
       "FvhkZ+OVPbsQn2ysBj7JCmTefxD4ADdWEUn0P5qDVpDlFbyBgDf4sAO+awvwiPJjjTqoaHwDiOze\n",
       "DQL7EKkILMpgjdU2qOgtrJIgUUZlvz+YMlBR7HkFIgrKKxcwQwsiij2vQEWx5xWoKPa8AhXFnleg\n",
       "otjzClQUe16BiAIAXNJS0HJMRx8AAAAASUVORK5CYII=\n",
       "\" style=\"display:inline;vertical-align:middle;\" /></a></span>"
      ],
      "text/plain": [
       "{d in Real, a in Real, x in Real, a <= x, d < 0} |- (a / d) >= (x / d)"
      ]
     },
     "metadata": {},
     "output_type": "display_data"
    }
   ],
   "source": [
    "relation = LessEq(a, x)\n",
    "frac(a, d).deduce_bound(relation, assumptions=assumptions+[relation])"
   ]
  },
  {
   "cell_type": "markdown",
   "metadata": {},
   "source": [
    "Bound by the denominator with everything positive"
   ]
  },
  {
   "cell_type": "code",
   "execution_count": 60,
   "metadata": {},
   "outputs": [
    {
     "data": {
      "text/html": [
       "<span style=\"font-size:20px;\"><a class=\"ProveItLink\" href=\"../../ordering/__pv_it/theorems/4aa8d696b1f407d6126de9f51a052e8d90e0848c0/expr.ipynb\"><img src=\"data:image/png;base64,iVBORw0KGgoAAAANSUhEUgAAADMAAAAQBAMAAABJt1qBAAAAMFBMVEX////MzMwyMjKqqqoiIiJm\n",
       "ZmaYmJju7u5EREQQEBC6urqIiIh2dnZUVFTc3NwAAAAqL9KcAAAAAXRSTlMAQObYZgAAAAlwSFlz\n",
       "AAAOxAAADsQBlSsOGwAAAM1JREFUGNNjYMAASTP6VWYkMGAFDW8Z1mYUYJd6w8DBeAGXFOsDBRSh\n",
       "HS4uCnCpBmSZRdsRunjLQQby3dm3ASTAp45koITRAyBj5QOO7yABpgdwqZcqX0AmsE9jYHUASyE5\n",
       "I60IRLN+YGA5AGJIugBBA0SKowzkZc4GhvoFIIEKJF2MAe1Aun4DQz5YgAXZX4EvQFIGDJeYQS7g\n",
       "3oAkVcENNJFjA7MrK1hEGS71lIEtoQvowtsH324Ei9R2FcBCvo+hQ98AOTjWtLgghxwApbZCEcpv\n",
       "FP8AAAAASUVORK5CYII=\n",
       "\" style=\"display:inline;vertical-align:middle;\" /></a>, <a class=\"ProveItLink\" href=\"../../multiplication/__pv_it/theorems/fd1125d2a818357b6ff33184c8de1f690ccc89100/expr.ipynb\"><img src=\"data:image/png;base64,iVBORw0KGgoAAAANSUhEUgAAADEAAAAQBAMAAABNQoq8AAAAMFBMVEX////MzMwyMjKqqqoiIiJm\n",
       "ZmaYmJju7u5EREQQEBC6urqIiIh2dnZUVFTc3NwAAAAqL9KcAAAAAXRSTlMAQObYZgAAAAlwSFlz\n",
       "AAAOxAAADsQBlSsOGwAAAMJJREFUGNNjYMAGzmx9gFWcgcmA3Q+7TAoDwwkkblECnNnLwGBfgJBh\n",
       "P7IBxvzKwCBvwMDAd2cfVGjLcagakAzQhJUPOL7DzA8HU3x/gDIbGNinMbA6wIwxioPLHGBg/cDA\n",
       "cgBu2aLrINOAMus3MHA2MNQvQMi0Q11gb8BQv4EhHy5hdA9MdTAw5Bcw1BswXGKGhkVKHITOZGAI\n",
       "YmDg2MDsyorqagYWA/aJQOtuH3y7EeyLLXCfssfsFUAKnZIEBiIBADXhMmKsPD8aAAAAAElFTkSu\n",
       "QmCC\n",
       "\" style=\"display:inline;vertical-align:middle;\" /></a>, <a class=\"ProveItLink\" href=\"../../ordering/__pv_it/theorems/5d76fdd975252a644e3e1cb067a357f9a9c8486a0/expr.ipynb\"><img src=\"data:image/png;base64,iVBORw0KGgoAAAANSUhEUgAAADMAAAATBAMAAADPIygvAAAAMFBMVEX////c3NwyMjK6urpEREQi\n",
       "IiLMzMwQEBCqqqp2dnZUVFSYmJhmZmaIiIju7u4AAADlKNhoAAAAAXRSTlMAQObYZgAAAAlwSFlz\n",
       "AAAOxAAADsQBlSsOGwAAAOBJREFUKM9jYMAAm0r8VUs2MGAFDlIMVlseYJeSZGBhW4BLikdAAUXo\n",
       "SmioAlzKAVnG6B5CF9c7oIF8dzYwvAIJMOohGZjSJMDAwMlRwLAfJMAkAJcSV/0KMiGDJ4BhCVgK\n",
       "yRm7H4HoB+wXGGpBjPRQIHCASLG8BnvZ/gHbNxD9BEkX2wE/EOMQA28BiGZF9tcxERDDi4EF7HPe\n",
       "C0hST3hBJp5isIeEpQZcSoaBe4MzkPFq7nmIs185P4CFvCODi34DiD0JqtrSNRQl5DgV+Cqwxw0D\n",
       "6wWuCTikOPYexiEDADoqNycoB77qAAAAAElFTkSuQmCC\n",
       "\" style=\"display:inline;vertical-align:middle;\" /></a>, <a class=\"ProveItLink\" href=\"../__pv_it/demonstrations/40fa4e3b274cbd6160ddd632a9c3fd20af2d35190/expr.ipynb\"><img src=\"data:image/png;base64,iVBORw0KGgoAAAANSUhEUgAAADEAAAASBAMAAAAAiiu3AAAAMFBMVEX////c3NwyMjK6urpEREQi\n",
       "IiLMzMwQEBCqqqp2dnZUVFSYmJhmZmaIiIju7u4AAADlKNhoAAAAAXRSTlMAQObYZgAAAAlwSFlz\n",
       "AAAOxAAADsQBlSsOGwAAANNJREFUGNNjYMAGZt4RwCrOwNTAF4hdZisDwxQk7qMNcKYXA0P/A4QM\n",
       "39QLMOYfBob8Bga+OxsYXkEErs6DqgHJbGDg5Chg2A8z/xyYYvwJlLnAkMETwLAEZkzTQbjMBIYH\n",
       "7BcYauGWGa0DmQaUsQdaav+A7RtCxg/qgv4GBoZDDLwFcNMWgikXBob9D0COZ1kAc8FBCL0dpJ6B\n",
       "4RSD/QZUVzOwNvCVAalXc8+Dg4/vKtynfCdvJYAZk8Dk0w1oocepwFeBPVxZL3BNwC7DsfcwdgkA\n",
       "RCA8NyFaEvEAAAAASUVORK5CYII=\n",
       "\" style=\"display:inline;vertical-align:middle;\" /></a>, <a class=\"ProveItLink\" href=\"../../ordering/__pv_it/theorems/d1323f34847310a404e8089c2c268d3c2eb89dbf0/expr.ipynb\"><img src=\"data:image/png;base64,iVBORw0KGgoAAAANSUhEUgAAADQAAAAQBAMAAACra0H4AAAAMFBMVEX///9ERES6uroQEBAyMjLc\n",
       "3NyYmJgiIiJmZmaqqqp2dnbMzMxUVFSIiIju7u4AAAAd7oVFAAAAAXRSTlMAQObYZgAAAAlwSFlz\n",
       "AAAOxAAADsQBlSsOGwAAAMtJREFUGNNjYMAAbM6CX4rFGLACRtYDTMfkcEgtYBDYg1OqlQVF6GJ5\n",
       "uQNcihFZRuUekq5zb4CMt3der5oApFn9kAzklnQFMhp4z3IUAGmWAISUSX3tA6AvAtj+8SSApJCc\n",
       "sSwPZCk3AwfYbobN5UAgADVQLg0sxnwBTD1EdvwOxgcgln4AH4hmR5bi2ArU/1DhMAMXSID3ApIU\n",
       "n8A1Bob5+5oZNMEingipBoY0RgWGF3c52yaARd4IPYCF/McARpGfyMGhJQ4JKCgAAF8xNF8aQs/g\n",
       "AAAAAElFTkSuQmCC\n",
       "\" style=\"display:inline;vertical-align:middle;\" /></a>, <a class=\"ProveItLink\" href=\"../../number_sets/real_numbers/__pv_it/theorems/0c04c146b0f7b92967ed28917fb83981f8ee0b1b0/expr.ipynb\"><img src=\"data:image/png;base64,iVBORw0KGgoAAAANSUhEUgAAADEAAAAQBAMAAABNQoq8AAAAMFBMVEX///9ERES6uroQEBAyMjLc\n",
       "3NyYmJgiIiJmZmaqqqp2dnbMzMxUVFSIiIju7u4AAAAd7oVFAAAAAXRSTlMAQObYZgAAAAlwSFlz\n",
       "AAAOxAAADsQBlSsOGwAAAMFJREFUGNNjYMAGVt0IwCrOwDKBrxS7TDoDw0Ik7pMEOFOGgWH+A4QM\n",
       "3/ILMOYPBob9ExgY3t55vWoCWOD6OqgakAzQhAbesxwFUPP7wBTrL6DMBQa2ALZ/PDArprTCZRYw\n",
       "cDNwOCAsUzkHMg0oow+ylPkCkowc1AXzQVbrB/DBnDjlKJgSZGDIf8DwUOEwAxfMh60QOpmBoQWo\n",
       "bV8zgyYDiqsZ2CfwWTMwvLjL2Qb2Dt91uH18XXc2IIXO8wQGIgEAisM3iEYrHlYAAAAASUVORK5C\n",
       "YII=\n",
       "\" style=\"display:inline;vertical-align:middle;\" /></a>, <a class=\"ProveItLink\" href=\"../__pv_it/demonstrations/4e8c2146e363437691fc183f3560fa2c79aab3490/expr.ipynb\"><img src=\"data:image/png;base64,iVBORw0KGgoAAAANSUhEUgAAADMAAAAQBAMAAABJt1qBAAAAMFBMVEX///9ERES6uroQEBAyMjLc\n",
       "3NyYmJgiIiJmZmaqqqp2dnbMzMxUVFSIiIju7u4AAAAd7oVFAAAAAXRSTlMAQObYZgAAAAlwSFlz\n",
       "AAAOxAAADsQBlSsOGwAAAMBJREFUGNNjYCAC8LnhlntViy7y9s7rVRPALN6qB1ADbiQwvAHSDbxn\n",
       "OQogQmwVEDkuTgOGfCA3gO0fTwLUBE6PABC1E6j2IAMDNwOHA8J0Jh+QvgfMFxhsQVwgjZByBBup\n",
       "/4D7N5gO4HsAM9AHbCBDCwOvAQPDQ4XDDFwMMGdAZBhkGBgPMDDM39fMoMmA6niGHgZ9oMte3OVs\n",
       "g3jrLcLLb9b2ByAHVBlyQCzBEWRcDnyWOKTYL/AswCHFmdsEJAFXqC7LO0slbAAAAABJRU5ErkJg\n",
       "gg==\n",
       "\" style=\"display:inline;vertical-align:middle;\" /></a> <a class=\"ProveItLink\" href=\"../__pv_it/demonstrations/bca1478772bd1ebc853e62ca45d8b83a178257a50/proof.ipynb\" style=\"text-decoration: none\">&nbsp;&#x22A2;&nbsp;&nbsp;</a><a class=\"ProveItLink\" href=\"../__pv_it/theorems/a9d729fe990a832d85d6383bcf73d0814b85956f0/expr.ipynb\"><img src=\"data:image/png;base64,iVBORw0KGgoAAAANSUhEUgAAADgAAAApBAMAAACSIvcTAAAAMFBMVEX////MzMwyMjKqqqoiIiJm\n",
       "ZmaYmJju7u5EREQQEBC6urqIiIh2dnZUVFTc3NwAAAAqL9KcAAAAAXRSTlMAQObYZgAAAAlwSFlz\n",
       "AAAOxAAADsQBlSsOGwAAASFJREFUOMtjYOC7s28DAwaAiq58wPEdUxIiyj6NgdUBQw4qyvqBgeUA\n",
       "hiRUlLOBoX4BhiRUtH4DQz6mlVDRegOGS8wPMCQhohwbmF1ZMXRCRdlvH3y7EdO1WEVpBYwe4JZL\n",
       "Ccctt+U4Tin2IxtwyvGFJKCJ/AcDMPOSAaroB2R1SJLEGEusg4CyW7bjC6CU4/hkkx4wDDCo3lt4\n",
       "BjNoqsMY2C8wMARw38aSHw5YMrB9YGB7wPadFyPYGA1CGHgbGBgZWBWwBBXDbAZOUFhyYgtQru8M\n",
       "8gJAev0D9gLMbKbAsJOBoWLBTQYeTJ0cFxh6GRjsxSMZFmNKsl7g+sbAULqbOQxLCmC/s/UfnsDh\n",
       "UcApdYihEneK8ma4g9tQs63AIgEAOFxc6TC3q9wAAAAASUVORK5CYII=\n",
       "\" style=\"display:inline;vertical-align:middle;\" /></a></span>"
      ],
      "text/plain": [
       "{a in Real, a > 0, y in Real, y > 0, x in Real, x > 0, x > y} |- (a / x) < (a / y)"
      ]
     },
     "metadata": {},
     "output_type": "display_data"
    }
   ],
   "source": [
    "relation = greater(x, y)\n",
    "frac(a, x).deduce_bound(relation, assumptions=assumptions+[relation])"
   ]
  },
  {
   "cell_type": "code",
   "execution_count": 61,
   "metadata": {},
   "outputs": [
    {
     "data": {
      "text/html": [
       "<span style=\"font-size:20px;\"><a class=\"ProveItLink\" href=\"../../ordering/__pv_it/theorems/4aa8d696b1f407d6126de9f51a052e8d90e0848c0/expr.ipynb\"><img src=\"data:image/png;base64,iVBORw0KGgoAAAANSUhEUgAAADMAAAAQBAMAAABJt1qBAAAAMFBMVEX////MzMwyMjKqqqoiIiJm\n",
       "ZmaYmJju7u5EREQQEBC6urqIiIh2dnZUVFTc3NwAAAAqL9KcAAAAAXRSTlMAQObYZgAAAAlwSFlz\n",
       "AAAOxAAADsQBlSsOGwAAAM1JREFUGNNjYMAASTP6VWYkMGAFDW8Z1mYUYJd6w8DBeAGXFOsDBRSh\n",
       "HS4uCnCpBmSZRdsRunjLQQby3dm3ASTAp45koITRAyBj5QOO7yABpgdwqZcqX0AmsE9jYHUASyE5\n",
       "I60IRLN+YGA5AGJIugBBA0SKowzkZc4GhvoFIIEKJF2MAe1Aun4DQz5YgAXZX4EvQFIGDJeYQS7g\n",
       "3oAkVcENNJFjA7MrK1hEGS71lIEtoQvowtsH324Ei9R2FcBCvo+hQ98AOTjWtLgghxwApbZCEcpv\n",
       "FP8AAAAASUVORK5CYII=\n",
       "\" style=\"display:inline;vertical-align:middle;\" /></a>, <a class=\"ProveItLink\" href=\"../../multiplication/__pv_it/theorems/fd1125d2a818357b6ff33184c8de1f690ccc89100/expr.ipynb\"><img src=\"data:image/png;base64,iVBORw0KGgoAAAANSUhEUgAAADEAAAAQBAMAAABNQoq8AAAAMFBMVEX////MzMwyMjKqqqoiIiJm\n",
       "ZmaYmJju7u5EREQQEBC6urqIiIh2dnZUVFTc3NwAAAAqL9KcAAAAAXRSTlMAQObYZgAAAAlwSFlz\n",
       "AAAOxAAADsQBlSsOGwAAAMJJREFUGNNjYMAGzmx9gFWcgcmA3Q+7TAoDwwkkblECnNnLwGBfgJBh\n",
       "P7IBxvzKwCBvwMDAd2cfVGjLcagakAzQhJUPOL7DzA8HU3x/gDIbGNinMbA6wIwxioPLHGBg/cDA\n",
       "cgBu2aLrINOAMus3MHA2MNQvQMi0Q11gb8BQv4EhHy5hdA9MdTAw5Bcw1BswXGKGhkVKHITOZGAI\n",
       "YmDg2MDsyorqagYWA/aJQOtuH3y7EeyLLXCfssfsFUAKnZIEBiIBADXhMmKsPD8aAAAAAElFTkSu\n",
       "QmCC\n",
       "\" style=\"display:inline;vertical-align:middle;\" /></a>, <a class=\"ProveItLink\" href=\"../../ordering/__pv_it/theorems/d1323f34847310a404e8089c2c268d3c2eb89dbf0/expr.ipynb\"><img src=\"data:image/png;base64,iVBORw0KGgoAAAANSUhEUgAAADQAAAAQBAMAAACra0H4AAAAMFBMVEX///9ERES6uroQEBAyMjLc\n",
       "3NyYmJgiIiJmZmaqqqp2dnbMzMxUVFSIiIju7u4AAAAd7oVFAAAAAXRSTlMAQObYZgAAAAlwSFlz\n",
       "AAAOxAAADsQBlSsOGwAAAMtJREFUGNNjYMAAbM6CX4rFGLACRtYDTMfkcEgtYBDYg1OqlQVF6GJ5\n",
       "uQNcihFZRuUekq5zb4CMt3der5oApFn9kAzklnQFMhp4z3IUAGmWAISUSX3tA6AvAtj+8SSApJCc\n",
       "sSwPZCk3AwfYbobN5UAgADVQLg0sxnwBTD1EdvwOxgcgln4AH4hmR5bi2ArU/1DhMAMXSID3ApIU\n",
       "n8A1Bob5+5oZNMEingipBoY0RgWGF3c52yaARd4IPYCF/McARpGfyMGhJQ4JKCgAAF8xNF8aQs/g\n",
       "AAAAAElFTkSuQmCC\n",
       "\" style=\"display:inline;vertical-align:middle;\" /></a>, <a class=\"ProveItLink\" href=\"../../number_sets/real_numbers/__pv_it/theorems/0c04c146b0f7b92967ed28917fb83981f8ee0b1b0/expr.ipynb\"><img src=\"data:image/png;base64,iVBORw0KGgoAAAANSUhEUgAAADEAAAAQBAMAAABNQoq8AAAAMFBMVEX///9ERES6uroQEBAyMjLc\n",
       "3NyYmJgiIiJmZmaqqqp2dnbMzMxUVFSIiIju7u4AAAAd7oVFAAAAAXRSTlMAQObYZgAAAAlwSFlz\n",
       "AAAOxAAADsQBlSsOGwAAAMFJREFUGNNjYMAGVt0IwCrOwDKBrxS7TDoDw0Ik7pMEOFOGgWH+A4QM\n",
       "3/ILMOYPBob9ExgY3t55vWoCWOD6OqgakAzQhAbesxwFUPP7wBTrL6DMBQa2ALZ/PDArprTCZRYw\n",
       "cDNwOCAsUzkHMg0oow+ylPkCkowc1AXzQVbrB/DBnDjlKJgSZGDIf8DwUOEwAxfMh60QOpmBoQWo\n",
       "bV8zgyYDiqsZ2CfwWTMwvLjL2Qb2Dt91uH18XXc2IIXO8wQGIgEAisM3iEYrHlYAAAAASUVORK5C\n",
       "YII=\n",
       "\" style=\"display:inline;vertical-align:middle;\" /></a>, <a class=\"ProveItLink\" href=\"../../ordering/__pv_it/theorems/5d76fdd975252a644e3e1cb067a357f9a9c8486a0/expr.ipynb\"><img src=\"data:image/png;base64,iVBORw0KGgoAAAANSUhEUgAAADMAAAATBAMAAADPIygvAAAAMFBMVEX////c3NwyMjK6urpEREQi\n",
       "IiLMzMwQEBCqqqp2dnZUVFSYmJhmZmaIiIju7u4AAADlKNhoAAAAAXRSTlMAQObYZgAAAAlwSFlz\n",
       "AAAOxAAADsQBlSsOGwAAAOBJREFUKM9jYMAAm0r8VUs2MGAFDlIMVlseYJeSZGBhW4BLikdAAUXo\n",
       "SmioAlzKAVnG6B5CF9c7oIF8dzYwvAIJMOohGZjSJMDAwMlRwLAfJMAkAJcSV/0KMiGDJ4BhCVgK\n",
       "yRm7H4HoB+wXGGpBjPRQIHCASLG8BnvZ/gHbNxD9BEkX2wE/EOMQA28BiGZF9tcxERDDi4EF7HPe\n",
       "C0hST3hBJp5isIeEpQZcSoaBe4MzkPFq7nmIs185P4CFvCODi34DiD0JqtrSNRQl5DgV+Cqwxw0D\n",
       "6wWuCTikOPYexiEDADoqNycoB77qAAAAAElFTkSuQmCC\n",
       "\" style=\"display:inline;vertical-align:middle;\" /></a>, <a class=\"ProveItLink\" href=\"../__pv_it/demonstrations/40fa4e3b274cbd6160ddd632a9c3fd20af2d35190/expr.ipynb\"><img src=\"data:image/png;base64,iVBORw0KGgoAAAANSUhEUgAAADEAAAASBAMAAAAAiiu3AAAAMFBMVEX////c3NwyMjK6urpEREQi\n",
       "IiLMzMwQEBCqqqp2dnZUVFSYmJhmZmaIiIju7u4AAADlKNhoAAAAAXRSTlMAQObYZgAAAAlwSFlz\n",
       "AAAOxAAADsQBlSsOGwAAANNJREFUGNNjYMAGZt4RwCrOwNTAF4hdZisDwxQk7qMNcKYXA0P/A4QM\n",
       "39QLMOYfBob8Bga+OxsYXkEErs6DqgHJbGDg5Chg2A8z/xyYYvwJlLnAkMETwLAEZkzTQbjMBIYH\n",
       "7BcYauGWGa0DmQaUsQdaav+A7RtCxg/qgv4GBoZDDLwFcNMWgikXBob9D0COZ1kAc8FBCL0dpJ6B\n",
       "4RSD/QZUVzOwNvCVAalXc8+Dg4/vKtynfCdvJYAZk8Dk0w1oocepwFeBPVxZL3BNwC7DsfcwdgkA\n",
       "RCA8NyFaEvEAAAAASUVORK5CYII=\n",
       "\" style=\"display:inline;vertical-align:middle;\" /></a>, <a class=\"ProveItLink\" href=\"../../ordering/__pv_it/theorems/44d10bba886cb9c03d8c1d01224b9827d41c27660/expr.ipynb\"><img src=\"data:image/png;base64,iVBORw0KGgoAAAANSUhEUgAAADMAAAAQBAMAAABJt1qBAAAAMFBMVEX///9ERES6uroQEBAyMjLc\n",
       "3NyYmJgiIiJmZmaqqqp2dnbMzMxUVFSIiIju7u4AAAAd7oVFAAAAAXRSTlMAQObYZgAAAAlwSFlz\n",
       "AAAOxAAADsQBlSsOGwAAALxJREFUGNNjYCAaTAnAJZPeh8x7e+f1qglQ9vV1YIrvRgLDGyDdwHuW\n",
       "owAisvwCRAUXpwFDPgMDWwDbP54EkABrewJU806g2oMMDNwMHA4QgSMwYxkeMF9gsAUxmC+gSzHo\n",
       "P+D+DaYD+B6gGsjQwsBrwMDwUOEwAxcDqjMYZBgYDzAwzN/XzKAJFeG7fg/C6GHQB5rw4i5nG8KS\n",
       "dIjH3qztxwyVFKjQEhzBxeXAZ4lDiv0CzwIcUpy5TUASAGGrMQVvAWw0AAAAAElFTkSuQmCC\n",
       "\" style=\"display:inline;vertical-align:middle;\" /></a> <a class=\"ProveItLink\" href=\"../__pv_it/demonstrations/f29bf4a5b529ecfd148e0a5e6a996cd729d304ea0/proof.ipynb\" style=\"text-decoration: none\">&nbsp;&#x22A2;&nbsp;&nbsp;</a><a class=\"ProveItLink\" href=\"../__pv_it/theorems/7bf01a9b5bd0944954af9a8fb58aedb0c2312c5f0/expr.ipynb\"><img src=\"data:image/png;base64,iVBORw0KGgoAAAANSUhEUgAAADgAAAApBAMAAACSIvcTAAAAMFBMVEX////MzMwyMjKqqqoiIiJm\n",
       "ZmaYmJju7u5EREQQEBC6urqIiIh2dnZUVFTc3NwAAAAqL9KcAAAAAXRSTlMAQObYZgAAAAlwSFlz\n",
       "AAAOxAAADsQBlSsOGwAAASBJREFUOMtjYOC7s28DAwaAiq58wPEdUxIiyj6NgdUBQw4qyvqBgeUA\n",
       "hiRUlLOBoX4BhiRUtH4DQz6mlVDRegOGS8wPMCQhohwbmF1ZMXRCRdlvH3y7EdO1WEWpD9jV8MnW\n",
       "eOOT5fYpwCPL5opPllkVJbD+gwGcy6VbABf9gK6VSwO3wcy6D/A46AFZXqnGEwjsbgyDAlTvLTxj\n",
       "gCkaxsB+gYEhgPs2lvxwwJKB7QMD2wO277wJ6HKMBiEMvA0MjAysClj8zDCbgROUBzmxZE8Gru8M\n",
       "8gJAev0DdswgBRq3k4GhYsFNBh5MnRwXGHoZGOzFIxkWY0qyXuD6xsBQups5zACLi+5s/YcncHgU\n",
       "cEodYqg0wCnpzXAHt6FmW4FFAgDgjFggCQtQbgAAAABJRU5ErkJggg==\n",
       "\" style=\"display:inline;vertical-align:middle;\" /></a></span>"
      ],
      "text/plain": [
       "{a in Real, a > 0, x in Real, x > 0, y in Real, y > 0, x < y} |- (a / x) > (a / y)"
      ]
     },
     "metadata": {},
     "output_type": "display_data"
    }
   ],
   "source": [
    "relation = Less(x, y)\n",
    "frac(a, x).deduce_bound(relation, assumptions=assumptions+[relation])"
   ]
  },
  {
   "cell_type": "code",
   "execution_count": 62,
   "metadata": {},
   "outputs": [
    {
     "data": {
      "text/html": [
       "<span style=\"font-size:20px;\"><a class=\"ProveItLink\" href=\"../../ordering/__pv_it/theorems/6e5cad5b2984ed0d75bd47bd0c542ec447a4f3570/expr.ipynb\"><img src=\"data:image/png;base64,iVBORw0KGgoAAAANSUhEUgAAADEAAAAQBAMAAABNQoq8AAAAMFBMVEX///+YmJjMzMzc3NyIiIhU\n",
       "VFR2dna6urqqqqpmZmYyMjIiIiIQEBBERETu7u4AAAD7tRWPAAAAAXRSTlMAQObYZgAAAAlwSFlz\n",
       "AAAOxAAADsQBlSsOGwAAANZJREFUGNNjYEAHUmfvrz4rAGTw3dmAJnXBlKFU9gGQwTUBXcaMgZcp\n",
       "AMjgb8CU4TRYAGTUP4CK+O7evQAucwHIyIZKVPkh9LC+A5m21CUCxGdeh2SabpcB0G2/Hrw3ADnE\n",
       "AC5js/o3SD/HPwYeB5AMkgsEX4FozgUM/AlAWmc3EFyAyPA+BPmUO4GhHuTut0h6mCbcg3hnPsjd\n",
       "3Mj+mWQLklHgOwjiszggybxlARrHKsALCZ4VcBlLBkaB60BXh02ECDy9/gAW1pcZ7q5HDrOy25DQ\n",
       "gQIAY/lDzDbeA58AAAAASUVORK5CYII=\n",
       "\" style=\"display:inline;vertical-align:middle;\" /></a>, <a class=\"ProveItLink\" href=\"../__pv_it/demonstrations/8de64b33e0a123cdd6b54b7b0537664086fcbee10/expr.ipynb\"><img src=\"data:image/png;base64,iVBORw0KGgoAAAANSUhEUgAAAC8AAAARBAMAAAC/eehCAAAAMFBMVEX///+YmJjMzMzc3NyIiIhU\n",
       "VFR2dna6urqqqqpmZmYyMjIiIiIQEBBERETu7u4AAAD7tRWPAAAAAXRSTlMAQObYZgAAAAlwSFlz\n",
       "AAAOxAAADsQBlSsOGwAAAMhJREFUGNNj4LuzgQEdpHkaAEmuCWDOKwG4OFcD32Ygxd8A5vFlO8Ak\n",
       "pBkYcoFU/QMo3zsPyrjKwNAPFMyGGyENlfnJwKAPNGapSwRMpmsy2FCQhAAD368H7w1gMlVxQIL5\n",
       "G1DCgYHjHwMP3NqqezCJBAbOBQz8CTCjgsFGASXqHRi4ExjqG6CWz4Nb3t8A8sb8B6jOvcvAIP+A\n",
       "gV+B7yCaB2UYGGYxMLAK8E5ACxLuBr5DQJVhE9HDkG+aqwIDBeD1bhDYBOcDANuSNHqVDforAAAA\n",
       "AElFTkSuQmCC\n",
       "\" style=\"display:inline;vertical-align:middle;\" /></a>, <a class=\"ProveItLink\" href=\"../../ordering/__pv_it/theorems/5d76fdd975252a644e3e1cb067a357f9a9c8486a0/expr.ipynb\"><img src=\"data:image/png;base64,iVBORw0KGgoAAAANSUhEUgAAADMAAAATBAMAAADPIygvAAAAMFBMVEX////c3NwyMjK6urpEREQi\n",
       "IiLMzMwQEBCqqqp2dnZUVFSYmJhmZmaIiIju7u4AAADlKNhoAAAAAXRSTlMAQObYZgAAAAlwSFlz\n",
       "AAAOxAAADsQBlSsOGwAAAOBJREFUKM9jYMAAm0r8VUs2MGAFDlIMVlseYJeSZGBhW4BLikdAAUXo\n",
       "SmioAlzKAVnG6B5CF9c7oIF8dzYwvAIJMOohGZjSJMDAwMlRwLAfJMAkAJcSV/0KMiGDJ4BhCVgK\n",
       "yRm7H4HoB+wXGGpBjPRQIHCASLG8BnvZ/gHbNxD9BEkX2wE/EOMQA28BiGZF9tcxERDDi4EF7HPe\n",
       "C0hST3hBJp5isIeEpQZcSoaBe4MzkPFq7nmIs185P4CFvCODi34DiD0JqtrSNRQl5DgV+Cqwxw0D\n",
       "6wWuCTikOPYexiEDADoqNycoB77qAAAAAElFTkSuQmCC\n",
       "\" style=\"display:inline;vertical-align:middle;\" /></a>, <a class=\"ProveItLink\" href=\"../__pv_it/demonstrations/40fa4e3b274cbd6160ddd632a9c3fd20af2d35190/expr.ipynb\"><img src=\"data:image/png;base64,iVBORw0KGgoAAAANSUhEUgAAADEAAAASBAMAAAAAiiu3AAAAMFBMVEX////c3NwyMjK6urpEREQi\n",
       "IiLMzMwQEBCqqqp2dnZUVFSYmJhmZmaIiIju7u4AAADlKNhoAAAAAXRSTlMAQObYZgAAAAlwSFlz\n",
       "AAAOxAAADsQBlSsOGwAAANNJREFUGNNjYMAGZt4RwCrOwNTAF4hdZisDwxQk7qMNcKYXA0P/A4QM\n",
       "39QLMOYfBob8Bga+OxsYXkEErs6DqgHJbGDg5Chg2A8z/xyYYvwJlLnAkMETwLAEZkzTQbjMBIYH\n",
       "7BcYauGWGa0DmQaUsQdaav+A7RtCxg/qgv4GBoZDDLwFcNMWgikXBob9D0COZ1kAc8FBCL0dpJ6B\n",
       "4RSD/QZUVzOwNvCVAalXc8+Dg4/vKtynfCdvJYAZk8Dk0w1oocepwFeBPVxZL3BNwC7DsfcwdgkA\n",
       "RCA8NyFaEvEAAAAASUVORK5CYII=\n",
       "\" style=\"display:inline;vertical-align:middle;\" /></a>, <a class=\"ProveItLink\" href=\"../../ordering/__pv_it/theorems/d1323f34847310a404e8089c2c268d3c2eb89dbf0/expr.ipynb\"><img src=\"data:image/png;base64,iVBORw0KGgoAAAANSUhEUgAAADQAAAAQBAMAAACra0H4AAAAMFBMVEX///9ERES6uroQEBAyMjLc\n",
       "3NyYmJgiIiJmZmaqqqp2dnbMzMxUVFSIiIju7u4AAAAd7oVFAAAAAXRSTlMAQObYZgAAAAlwSFlz\n",
       "AAAOxAAADsQBlSsOGwAAAMtJREFUGNNjYMAAbM6CX4rFGLACRtYDTMfkcEgtYBDYg1OqlQVF6GJ5\n",
       "uQNcihFZRuUekq5zb4CMt3der5oApFn9kAzklnQFMhp4z3IUAGmWAISUSX3tA6AvAtj+8SSApJCc\n",
       "sSwPZCk3AwfYbobN5UAgADVQLg0sxnwBTD1EdvwOxgcgln4AH4hmR5bi2ArU/1DhMAMXSID3ApIU\n",
       "n8A1Bob5+5oZNMEingipBoY0RgWGF3c52yaARd4IPYCF/McARpGfyMGhJQ4JKCgAAF8xNF8aQs/g\n",
       "AAAAAElFTkSuQmCC\n",
       "\" style=\"display:inline;vertical-align:middle;\" /></a>, <a class=\"ProveItLink\" href=\"../../number_sets/real_numbers/__pv_it/theorems/0c04c146b0f7b92967ed28917fb83981f8ee0b1b0/expr.ipynb\"><img src=\"data:image/png;base64,iVBORw0KGgoAAAANSUhEUgAAADEAAAAQBAMAAABNQoq8AAAAMFBMVEX///9ERES6uroQEBAyMjLc\n",
       "3NyYmJgiIiJmZmaqqqp2dnbMzMxUVFSIiIju7u4AAAAd7oVFAAAAAXRSTlMAQObYZgAAAAlwSFlz\n",
       "AAAOxAAADsQBlSsOGwAAAMFJREFUGNNjYMAGVt0IwCrOwDKBrxS7TDoDw0Ik7pMEOFOGgWH+A4QM\n",
       "3/ILMOYPBob9ExgY3t55vWoCWOD6OqgakAzQhAbesxwFUPP7wBTrL6DMBQa2ALZ/PDArprTCZRYw\n",
       "cDNwOCAsUzkHMg0oow+ylPkCkowc1AXzQVbrB/DBnDjlKJgSZGDIf8DwUOEwAxfMh60QOpmBoQWo\n",
       "bV8zgyYDiqsZ2CfwWTMwvLjL2Qb2Dt91uH18XXc2IIXO8wQGIgEAisM3iEYrHlYAAAAASUVORK5C\n",
       "YII=\n",
       "\" style=\"display:inline;vertical-align:middle;\" /></a>, <a class=\"ProveItLink\" href=\"../__pv_it/demonstrations/c81e7bc9f45d86309c2ed0f5b0a1206acd65bdf60/expr.ipynb\"><img src=\"data:image/png;base64,iVBORw0KGgoAAAANSUhEUgAAADMAAAARBAMAAACC64kkAAAAMFBMVEX///9ERES6uroQEBAyMjLc\n",
       "3NyYmJgiIiJmZmaqqqp2dnbMzMxUVFSIiIju7u4AAAAd7oVFAAAAAXRSTlMAQObYZgAAAAlwSFlz\n",
       "AAAOxAAADsQBlSsOGwAAAL9JREFUGNNjYIABPjcGnOBVLW453qoHOOXY0OTe3nm9agKUzekRALb2\n",
       "RgLDGyDdwHuWowCmjskHpI+L04AhH2hIANs/ngS4lCNIaidQ7UEGBm4GDge44Zw+YAMfMF9gsAUx\n",
       "gDTMGRVQZ+g/4P4NpgP4HqA5voWB14CB4aHCYQYudC/LMDAeYGCYv6+ZQRM9oHoY9IEue3GXs20C\n",
       "ut/frO0PwBkwS3CIcznwWSLz+crBYAOQyX6BZwEOXZy5TUASAN2rMrIABMKMAAAAAElFTkSuQmCC\n",
       "\" style=\"display:inline;vertical-align:middle;\" /></a> <a class=\"ProveItLink\" href=\"../__pv_it/demonstrations/35988977d6f9c24de00fbb56adbece86e4bd1d960/proof.ipynb\" style=\"text-decoration: none\">&nbsp;&#x22A2;&nbsp;&nbsp;</a><a class=\"ProveItLink\" href=\"../__pv_it/demonstrations/ed7ce7facb01f4ec8422b6b1fbd0eb58335f620d0/expr.ipynb\"><img src=\"data:image/png;base64,iVBORw0KGgoAAAANSUhEUgAAADgAAAAvBAMAAABEexQOAAAAMFBMVEX///+YmJjMzMzc3NyIiIhU\n",
       "VFR2dna6urqqqqpmZmYyMjIiIiIQEBBERETu7u4AAAD7tRWPAAAAAXRSTlMAQObYZgAAAAlwSFlz\n",
       "AAAOxAAADsQBlSsOGwAAAVZJREFUOMtjYHh7mgEL4LuzAUyvxCbJwDUBTP3AKsnfACLZ/2GVrH8A\n",
       "Itk2YJXMhhge4tqARXKpSwSQfL+O7zMW1/568N6AgaH/AcMRTEmOfww8DgwMsxgYvmFKci5g4E9g\n",
       "YNjGwI7FM9wJDPUNIG9y/sPqzflAz3xieCOARVKB7yCQCmS4icUnrAK8oPB7mimALeDDJjKQCLoM\n",
       "cMtJz8Mt552HU4ov2wG33GwB3HJRDXgcileSGcPY/2CA7iB+JFFivEIgEIDBp8BAR8C3GwzoYecT\n",
       "10dpmCH+ZCIDXwADwwSWEE7MXJjQw8D4gYHRgPEfK0YkMzXMZmC9wMAEyjOY3gLmPFAugxDoAFgY\n",
       "6IN8XG/A9wBbFvRhYHhbEMPAhqmTN4DhKjBj681hqMCSeQPYPzIwvHThmNiALSN5fsYTOGwLcEpl\n",
       "MbzBnVC3MIThNrTRs4CBAQBE7l7DbyV4MgAAAABJRU5ErkJggg==\n",
       "\" style=\"display:inline;vertical-align:middle;\" /></a></span>"
      ],
      "text/plain": [
       "{b in Real, b >= 0, y in Real, y > 0, x in Real, x > 0, x >= y} |- (b / x) <= (b / y)"
      ]
     },
     "metadata": {},
     "output_type": "display_data"
    }
   ],
   "source": [
    "relation = greater_eq(x, y)\n",
    "frac(b, x).deduce_bound(relation, assumptions=assumptions+[relation])"
   ]
  },
  {
   "cell_type": "code",
   "execution_count": 63,
   "metadata": {},
   "outputs": [
    {
     "data": {
      "text/html": [
       "<span style=\"font-size:20px;\"><a class=\"ProveItLink\" href=\"../../ordering/__pv_it/theorems/6e5cad5b2984ed0d75bd47bd0c542ec447a4f3570/expr.ipynb\"><img src=\"data:image/png;base64,iVBORw0KGgoAAAANSUhEUgAAADEAAAAQBAMAAABNQoq8AAAAMFBMVEX///+YmJjMzMzc3NyIiIhU\n",
       "VFR2dna6urqqqqpmZmYyMjIiIiIQEBBERETu7u4AAAD7tRWPAAAAAXRSTlMAQObYZgAAAAlwSFlz\n",
       "AAAOxAAADsQBlSsOGwAAANZJREFUGNNjYEAHUmfvrz4rAGTw3dmAJnXBlKFU9gGQwTUBXcaMgZcp\n",
       "AMjgb8CU4TRYAGTUP4CK+O7evQAucwHIyIZKVPkh9LC+A5m21CUCxGdeh2SabpcB0G2/Hrw3ADnE\n",
       "AC5js/o3SD/HPwYeB5AMkgsEX4FozgUM/AlAWmc3EFyAyPA+BPmUO4GhHuTut0h6mCbcg3hnPsjd\n",
       "3Mj+mWQLklHgOwjiszggybxlARrHKsALCZ4VcBlLBkaB60BXh02ECDy9/gAW1pcZ7q5HDrOy25DQ\n",
       "gQIAY/lDzDbeA58AAAAASUVORK5CYII=\n",
       "\" style=\"display:inline;vertical-align:middle;\" /></a>, <a class=\"ProveItLink\" href=\"../__pv_it/demonstrations/8de64b33e0a123cdd6b54b7b0537664086fcbee10/expr.ipynb\"><img src=\"data:image/png;base64,iVBORw0KGgoAAAANSUhEUgAAAC8AAAARBAMAAAC/eehCAAAAMFBMVEX///+YmJjMzMzc3NyIiIhU\n",
       "VFR2dna6urqqqqpmZmYyMjIiIiIQEBBERETu7u4AAAD7tRWPAAAAAXRSTlMAQObYZgAAAAlwSFlz\n",
       "AAAOxAAADsQBlSsOGwAAAMhJREFUGNNj4LuzgQEdpHkaAEmuCWDOKwG4OFcD32Ygxd8A5vFlO8Ak\n",
       "pBkYcoFU/QMo3zsPyrjKwNAPFMyGGyENlfnJwKAPNGapSwRMpmsy2FCQhAAD368H7w1gMlVxQIL5\n",
       "G1DCgYHjHwMP3NqqezCJBAbOBQz8CTCjgsFGASXqHRi4ExjqG6CWz4Nb3t8A8sb8B6jOvcvAIP+A\n",
       "gV+B7yCaB2UYGGYxMLAK8E5ACxLuBr5DQJVhE9HDkG+aqwIDBeD1bhDYBOcDANuSNHqVDforAAAA\n",
       "AElFTkSuQmCC\n",
       "\" style=\"display:inline;vertical-align:middle;\" /></a>, <a class=\"ProveItLink\" href=\"../../ordering/__pv_it/theorems/d1323f34847310a404e8089c2c268d3c2eb89dbf0/expr.ipynb\"><img src=\"data:image/png;base64,iVBORw0KGgoAAAANSUhEUgAAADQAAAAQBAMAAACra0H4AAAAMFBMVEX///9ERES6uroQEBAyMjLc\n",
       "3NyYmJgiIiJmZmaqqqp2dnbMzMxUVFSIiIju7u4AAAAd7oVFAAAAAXRSTlMAQObYZgAAAAlwSFlz\n",
       "AAAOxAAADsQBlSsOGwAAAMtJREFUGNNjYMAAbM6CX4rFGLACRtYDTMfkcEgtYBDYg1OqlQVF6GJ5\n",
       "uQNcihFZRuUekq5zb4CMt3der5oApFn9kAzklnQFMhp4z3IUAGmWAISUSX3tA6AvAtj+8SSApJCc\n",
       "sSwPZCk3AwfYbobN5UAgADVQLg0sxnwBTD1EdvwOxgcgln4AH4hmR5bi2ArU/1DhMAMXSID3ApIU\n",
       "n8A1Bob5+5oZNMEingipBoY0RgWGF3c52yaARd4IPYCF/McARpGfyMGhJQ4JKCgAAF8xNF8aQs/g\n",
       "AAAAAElFTkSuQmCC\n",
       "\" style=\"display:inline;vertical-align:middle;\" /></a>, <a class=\"ProveItLink\" href=\"../../number_sets/real_numbers/__pv_it/theorems/0c04c146b0f7b92967ed28917fb83981f8ee0b1b0/expr.ipynb\"><img src=\"data:image/png;base64,iVBORw0KGgoAAAANSUhEUgAAADEAAAAQBAMAAABNQoq8AAAAMFBMVEX///9ERES6uroQEBAyMjLc\n",
       "3NyYmJgiIiJmZmaqqqp2dnbMzMxUVFSIiIju7u4AAAAd7oVFAAAAAXRSTlMAQObYZgAAAAlwSFlz\n",
       "AAAOxAAADsQBlSsOGwAAAMFJREFUGNNjYMAGVt0IwCrOwDKBrxS7TDoDw0Ik7pMEOFOGgWH+A4QM\n",
       "3/ILMOYPBob9ExgY3t55vWoCWOD6OqgakAzQhAbesxwFUPP7wBTrL6DMBQa2ALZ/PDArprTCZRYw\n",
       "cDNwOCAsUzkHMg0oow+ylPkCkowc1AXzQVbrB/DBnDjlKJgSZGDIf8DwUOEwAxfMh60QOpmBoQWo\n",
       "bV8zgyYDiqsZ2CfwWTMwvLjL2Qb2Dt91uH18XXc2IIXO8wQGIgEAisM3iEYrHlYAAAAASUVORK5C\n",
       "YII=\n",
       "\" style=\"display:inline;vertical-align:middle;\" /></a>, <a class=\"ProveItLink\" href=\"../../ordering/__pv_it/theorems/5d76fdd975252a644e3e1cb067a357f9a9c8486a0/expr.ipynb\"><img src=\"data:image/png;base64,iVBORw0KGgoAAAANSUhEUgAAADMAAAATBAMAAADPIygvAAAAMFBMVEX////c3NwyMjK6urpEREQi\n",
       "IiLMzMwQEBCqqqp2dnZUVFSYmJhmZmaIiIju7u4AAADlKNhoAAAAAXRSTlMAQObYZgAAAAlwSFlz\n",
       "AAAOxAAADsQBlSsOGwAAAOBJREFUKM9jYMAAm0r8VUs2MGAFDlIMVlseYJeSZGBhW4BLikdAAUXo\n",
       "SmioAlzKAVnG6B5CF9c7oIF8dzYwvAIJMOohGZjSJMDAwMlRwLAfJMAkAJcSV/0KMiGDJ4BhCVgK\n",
       "yRm7H4HoB+wXGGpBjPRQIHCASLG8BnvZ/gHbNxD9BEkX2wE/EOMQA28BiGZF9tcxERDDi4EF7HPe\n",
       "C0hST3hBJp5isIeEpQZcSoaBe4MzkPFq7nmIs185P4CFvCODi34DiD0JqtrSNRQl5DgV+Cqwxw0D\n",
       "6wWuCTikOPYexiEDADoqNycoB77qAAAAAElFTkSuQmCC\n",
       "\" style=\"display:inline;vertical-align:middle;\" /></a>, <a class=\"ProveItLink\" href=\"../__pv_it/demonstrations/40fa4e3b274cbd6160ddd632a9c3fd20af2d35190/expr.ipynb\"><img src=\"data:image/png;base64,iVBORw0KGgoAAAANSUhEUgAAADEAAAASBAMAAAAAiiu3AAAAMFBMVEX////c3NwyMjK6urpEREQi\n",
       "IiLMzMwQEBCqqqp2dnZUVFSYmJhmZmaIiIju7u4AAADlKNhoAAAAAXRSTlMAQObYZgAAAAlwSFlz\n",
       "AAAOxAAADsQBlSsOGwAAANNJREFUGNNjYMAGZt4RwCrOwNTAF4hdZisDwxQk7qMNcKYXA0P/A4QM\n",
       "39QLMOYfBob8Bga+OxsYXkEErs6DqgHJbGDg5Chg2A8z/xyYYvwJlLnAkMETwLAEZkzTQbjMBIYH\n",
       "7BcYauGWGa0DmQaUsQdaav+A7RtCxg/qgv4GBoZDDLwFcNMWgikXBob9D0COZ1kAc8FBCL0dpJ6B\n",
       "4RSD/QZUVzOwNvCVAalXc8+Dg4/vKtynfCdvJYAZk8Dk0w1oocepwFeBPVxZL3BNwC7DsfcwdgkA\n",
       "RCA8NyFaEvEAAAAASUVORK5CYII=\n",
       "\" style=\"display:inline;vertical-align:middle;\" /></a>, <a class=\"ProveItLink\" href=\"../../ordering/__pv_it/theorems/aba6340e84a2dc194f2dc2e8029d9090c42823300/expr.ipynb\"><img src=\"data:image/png;base64,iVBORw0KGgoAAAANSUhEUgAAADMAAAARBAMAAACC64kkAAAAMFBMVEX///9ERES6uroQEBAyMjLc\n",
       "3NyYmJgiIiJmZmaqqqp2dnbMzMxUVFSIiIju7u4AAAAd7oVFAAAAAXRSTlMAQObYZgAAAAlwSFlz\n",
       "AAAOxAAADsQBlSsOGwAAALxJREFUGNNjYEAFUwIYcID0Plwy19fhkOBbfgFV4O2d16smgGXaE2Bq\n",
       "biQwvAHSDbxnOQpA/CMTYKq5OA0Y8hkY2ALY/vGAlSOkdgLVHmRg4GbgcIAIsMINfMB8gcEWxGC+\n",
       "gOEM/Qfcv8F0AN8DNMe3MPAaMDA8VDjMwIXuZRkGxgMMDPP3NTNoIgXUBhDZw6APtPfFXc62Ceie\n",
       "f7O2H2dYMizBIc7lwGeJEoLlYACyi/0CzwIcujhzm4AkACO9NNYnbypiAAAAAElFTkSuQmCC\n",
       "\" style=\"display:inline;vertical-align:middle;\" /></a> <a class=\"ProveItLink\" href=\"../__pv_it/demonstrations/93b004e3d3b79fabd032010a071043fad8a5c4eb0/proof.ipynb\" style=\"text-decoration: none\">&nbsp;&#x22A2;&nbsp;&nbsp;</a><a class=\"ProveItLink\" href=\"../__pv_it/demonstrations/77ce867673da6bcec39b87dbdef673c7be49996f0/expr.ipynb\"><img src=\"data:image/png;base64,iVBORw0KGgoAAAANSUhEUgAAADgAAAAvBAMAAABEexQOAAAAMFBMVEX///+YmJjMzMzc3NyIiIhU\n",
       "VFR2dna6urqqqqpmZmYyMjIiIiIQEBBERETu7u4AAAD7tRWPAAAAAXRSTlMAQObYZgAAAAlwSFlz\n",
       "AAAOxAAADsQBlSsOGwAAAV1JREFUOMtjYHh7mgEL4LuzAUyvxCbJwDUBTP3AKsnfACLZ/2GVrH8A\n",
       "Itk2YJXMhhge4tqARXKpSwSQfL+O7zMW1/568N6AgaH/AcMRTEmOfww8DgwMsxgYvmFKci5g4E9g\n",
       "YNjGwI7FM9wJDPUNIG9y/sPqzflAz3xieCOARVKB7yCQCmS4icUnrAK8oPB7mimALeDDJjIQDfgW\n",
       "4pN9tgWfLMu2B3hkGfHKcqw0wCPLvhSPXva1uCU5lqIY+x8MYA7aCdXHjyxK2Cv4AgF/8NEG8O0G\n",
       "AwU6WPXE9VEaZk56MpGBL4CBYQJLCCdmLkzoYWD8wMBowPiPFSNxMjXMZmC9wMAEyjOY3gLmPFAu\n",
       "gxAYkf6PQR/k43oDvgfYsqAPA8PbghgGNkydvAEMV4EZW28OQwWWzBvA/pGB4aULx8QGbBnJ8zOe\n",
       "wGFbgFMqi+FNA07JLQxhuA1t9CxgYAAAqs1lteSbqRkAAAAASUVORK5CYII=\n",
       "\" style=\"display:inline;vertical-align:middle;\" /></a></span>"
      ],
      "text/plain": [
       "{b in Real, b >= 0, x in Real, x > 0, y in Real, y > 0, x <= y} |- (b / x) >= (b / y)"
      ]
     },
     "metadata": {},
     "output_type": "display_data"
    }
   ],
   "source": [
    "relation = LessEq(x, y)\n",
    "frac(b, x).deduce_bound(relation, assumptions=assumptions+[relation])"
   ]
  },
  {
   "cell_type": "markdown",
   "metadata": {},
   "source": [
    "Bound by the denominator with everything negative"
   ]
  },
  {
   "cell_type": "code",
   "execution_count": 64,
   "metadata": {},
   "outputs": [
    {
     "data": {
      "text/html": [
       "<span style=\"font-size:20px;\"><a class=\"ProveItLink\" href=\"../__pv_it/demonstrations/41c3ad9f29c40b69fd61c49f41684c1b813e9e850/expr.ipynb\"><img src=\"data:image/png;base64,iVBORw0KGgoAAAANSUhEUgAAADMAAAAQBAMAAABJt1qBAAAAMFBMVEX///+YmJhERESIiIhUVFTc\n",
       "3NwiIiJ2dnbu7u66urqqqqpmZmYQEBAyMjLMzMwAAAA7oY0NAAAAAXRSTlMAQObYZgAAAAlwSFlz\n",
       "AAAOxAAADsQBlSsOGwAAANxJREFUGNNjYMAAsof0rx0SgLD57mxAkVMIYZgi1ABh8y9AlQpnYOJz\n",
       "gLDnN6BLcQdcgLDLIJRRWtoFuJQCROw2mJxrgdDF0gEykNXd7hdIgPUGkoGP1gYAGXMCmH6ABHgD\n",
       "4FIx176BTOA4yMANtoEXyRmCvSCa+wMDWwGI8SYNCBQgUkyNIC/zKDD0TwAJNCHp4tugAaT7DRjk\n",
       "wQJsyP7aFwSSWsDgywVyAbMBklQTM9BEJgOubG6wyC24VDQDo4Am0IXOdSF2YJEWzQZYyKsyKN1H\n",
       "CdfpamkXkLgAdQoz5LsD3PAAAAAASUVORK5CYII=\n",
       "\" style=\"display:inline;vertical-align:middle;\" /></a>, <a class=\"ProveItLink\" href=\"../../exponentiation/__pv_it/theorems/d550e8309ef79ca46e4c9fb5617a392ea678789b0/expr.ipynb\"><img src=\"data:image/png;base64,iVBORw0KGgoAAAANSUhEUgAAADEAAAAQBAMAAABNQoq8AAAAMFBMVEX///9UVFQyMjK6urru7u4Q\n",
       "EBBERERmZmaqqqoiIiLc3NzMzMyYmJiIiIh2dnYAAABC1PP/AAAAAXRSTlMAQObYZgAAAAlwSFlz\n",
       "AAAOxAAADsQBlSsOGwAAAL1JREFUGNNjYEAHh8LyNcMOMGADCQsZDI85YJVZx8DGLYBDhn2BArLI\n",
       "tZkzFeAyCUgSRlcQehhdwKa9vbMBSHKpIJm2rWkBkLGygR2klWkBXGap5k+w/nkMrBdAMkguOOME\n",
       "otm/QPhbZwJBAkSGzQfkU1aoK9yQ9HAXpABp/wsQPieyf6qXAWl+oEYDIM17AUnGjRcoCnQYH8jV\n",
       "DBpwmeUMPAeSgYx3ZyBedEx2gIV1FkOafgNSINhlzkQOLQDcXDjPgdalcwAAAABJRU5ErkJggg==\n",
       "\" style=\"display:inline;vertical-align:middle;\" /></a>, <a class=\"ProveItLink\" href=\"../__pv_it/demonstrations/a7c8ff0c12601535056faf6cbd3f54f388d751000/expr.ipynb\"><img src=\"data:image/png;base64,iVBORw0KGgoAAAANSUhEUgAAADgAAAAQBAMAAACxV6F2AAAAMFBMVEX////c3NwyMjK6urpERERU\n",
       "VFQQEBAiIiKqqqpmZmbMzMyYmJh2dnaIiIju7u4AAABkYOyCAAAAAXRSTlMAQObYZgAAAAlwSFlz\n",
       "AAAOxAAADsQBlSsOGwAAAN1JREFUGNNjYMACuNVcPpV5M+AALIwBzNF+OCUPMDgsxSM5kQlN8Ep5\n",
       "uQJckgVVzugeks64pwwMfHc2MKxkaH8AFGLUQzKWy0ORgYGHI4EhhMHeACjEJICQTKqvBapfwVnA\n",
       "kAsRZ0Jy0Ol9IMsfsF3g+sXACRJaVg4EDlBj/XaDGP0PeBMYeEGsJ8heWckCcsYkBpYAhsUgIXZk\n",
       "Sc6FIDNcGdgPMBwACfFeQJLkc7gNZBxhMAtgNgCLaSAkJzDsZgEKcs65F3kaIvbU+QEsVr4IsDj9\n",
       "QA0iG3dI8EEBAGepOF6q4I0fAAAAAElFTkSuQmCC\n",
       "\" style=\"display:inline;vertical-align:middle;\" /></a>, <a class=\"ProveItLink\" href=\"../__pv_it/demonstrations/e00ffae46bfaab861c2b6321db906ef8fdef4db90/expr.ipynb\"><img src=\"data:image/png;base64,iVBORw0KGgoAAAANSUhEUgAAADQAAAAOBAMAAACStyITAAAAMFBMVEX////c3NwyMjK6urpERERU\n",
       "VFQQEBAiIiKqqqpmZmbMzMyYmJh2dnaIiIju7u4AAABkYOyCAAAAAXRSTlMAQObYZgAAAAlwSFlz\n",
       "AAAOxAAADsQBlSsOGwAAALBJREFUGNNjYCAKPNqAU4rv+AVU/p0NDCsZ2h+AOdfPwYR57u5i4OFI\n",
       "YAhhsDeAiGyfB6EZKximMKzgLGDIZWASgKpumgim2A8ABR+wXeD6xcAJt8AoDkTOB1vQ/4A3gYEX\n",
       "IeUHIlPA7EkMLAEMi2EyTYFgt/0Fc1xBBh+AymyHWMXwm4GBmYHhCINZADPUgXDHT2FgOMXAwDnn\n",
       "XuRpiBevw73Mc3rvA2TfP9/AQCQAAFjVLamIP3CxAAAAAElFTkSuQmCC\n",
       "\" style=\"display:inline;vertical-align:middle;\" /></a>, <a class=\"ProveItLink\" href=\"../__pv_it/demonstrations/fe553994aca4dec5c87cf7a983cda9b2748426220/expr.ipynb\"><img src=\"data:image/png;base64,iVBORw0KGgoAAAANSUhEUgAAADEAAAAQBAMAAABNQoq8AAAAMFBMVEX///+YmJhERESIiIhUVFTc\n",
       "3NwiIiJ2dnbu7u66urqqqqpmZmYQEBAyMjLMzMwAAAA7oY0NAAAAAXRSTlMAQObYZgAAAAlwSFlz\n",
       "AAAOxAAADsQBlSsOGwAAANNJREFUGNNjYGBg4LuzgQEVlFsHQBj8C1AleBdwpEJY8xtQZcQYGIog\n",
       "rDK4GNdVEKnCwLAeovg2TIIxGyzwm4HhPdACVne7X1AJ5nSwBAdIRoCBYU4A0w+IRHsyhGb9DpQx\n",
       "YOA4yMB9ASwQnciAJFPAwP2Bga0AxGe5BbONAygz34CBR4GhfwKqDMgF6xcw9BswyDOgmsagxMAg\n",
       "38DQv4DBlysAxQUMMgwMexkYmAy4srmhIs3JEP+xLeA4B7TOuS7EDu5TqIe2mzxAC2MGxqsMhAEA\n",
       "MJ0yIJVCosAAAAAASUVORK5CYII=\n",
       "\" style=\"display:inline;vertical-align:middle;\" /></a> <a class=\"ProveItLink\" href=\"../__pv_it/demonstrations/56bde7c47f1921ef7696687337a9dbc822125b910/proof.ipynb\" style=\"text-decoration: none\">&nbsp;&#x22A2;&nbsp;&nbsp;</a><a class=\"ProveItLink\" href=\"../__pv_it/demonstrations/a244ab750656d787bc092d4bcfc1ef1f3aed153b0/expr.ipynb\"><img src=\"data:image/png;base64,iVBORw0KGgoAAAANSUhEUgAAADsAAAAlBAMAAAAO14xrAAAAMFBMVEX///8AAAAAAAAAAAAAAAAA\n",
       "AAAAAAAAAAAAAAAAAAAAAAAAAAAAAAAAAAAAAAAAAAAv3aB7AAAAD3RSTlMAEHaJZjKZVN3vq7tE\n",
       "zSL5cm/iAAAACXBIWXMAAA7EAAAOxAGVKw4bAAABTUlEQVQ4y2NgVHZgCGOoEGDAAMxKrkCCfQLD\n",
       "aobzBzBk+doZshkYwtkaGCYx8D7AkOYwAIozCHAqsH5lYMM0Ox9iX70A0wQGJkzp2RAql4F7AUMM\n",
       "hizjJwi9C2SLAabuLwwMPEDKmuHkAh5Mh4OcbQqk2JIVl5kwYPG2iROWwKAxqH2AT9YjEZ+shiEe\n",
       "SUYLBTyyfBkOaCL/oQDMWVuAKv4BVS2SNHGGk+I0oLyGIv5A88D0eOw0JI4vLFBZbyZAWd+xGsQP\n",
       "9QjPR6zS56HpgbkBq7QFlOZNwCp9DUy+MorHElp8i1XBLuKZx7AfS6I7+YAb7CJJB2BWwAyfKQxs\n",
       "F8CZiYGhGVOa7QMoe4AzE+MfTGnODQzyByCZieUDprS8AoM/2JLvDFwX6jClCxjWsoOCdxNDRQKm\n",
       "v7kV2NvAuV5KOW5RAKbLF5m+UmUAAPjoUAkmrNLgAAAAAElFTkSuQmCC\n",
       "\" style=\"display:inline;vertical-align:middle;\" /></a></span>"
      ],
      "text/plain": [
       "{d in Real, c in Real, w in Real, w > c, d < 0} |- (w / d) < (c / d)"
      ]
     },
     "metadata": {},
     "output_type": "display_data"
    }
   ],
   "source": [
    "relation = greater(w, c)\n",
    "frac(w, d).deduce_bound(relation, assumptions=assumptions+[relation])"
   ]
  },
  {
   "cell_type": "code",
   "execution_count": 65,
   "metadata": {},
   "outputs": [
    {
     "data": {
      "text/html": [
       "<span style=\"font-size:20px;\"><a class=\"ProveItLink\" href=\"../__pv_it/demonstrations/41c3ad9f29c40b69fd61c49f41684c1b813e9e850/expr.ipynb\"><img src=\"data:image/png;base64,iVBORw0KGgoAAAANSUhEUgAAADMAAAAQBAMAAABJt1qBAAAAMFBMVEX///+YmJhERESIiIhUVFTc\n",
       "3NwiIiJ2dnbu7u66urqqqqpmZmYQEBAyMjLMzMwAAAA7oY0NAAAAAXRSTlMAQObYZgAAAAlwSFlz\n",
       "AAAOxAAADsQBlSsOGwAAANxJREFUGNNjYMAAsof0rx0SgLD57mxAkVMIYZgi1ABh8y9AlQpnYOJz\n",
       "gLDnN6BLcQdcgLDLIJRRWtoFuJQCROw2mJxrgdDF0gEykNXd7hdIgPUGkoGP1gYAGXMCmH6ABHgD\n",
       "4FIx176BTOA4yMANtoEXyRmCvSCa+wMDWwGI8SYNCBQgUkyNIC/zKDD0TwAJNCHp4tugAaT7DRjk\n",
       "wQJsyP7aFwSSWsDgywVyAbMBklQTM9BEJgOubG6wyC24VDQDo4Am0IXOdSF2YJEWzQZYyKsyKN1H\n",
       "CdfpamkXkLgAdQoz5LsD3PAAAAAASUVORK5CYII=\n",
       "\" style=\"display:inline;vertical-align:middle;\" /></a>, <a class=\"ProveItLink\" href=\"../__pv_it/demonstrations/a7c8ff0c12601535056faf6cbd3f54f388d751000/expr.ipynb\"><img src=\"data:image/png;base64,iVBORw0KGgoAAAANSUhEUgAAADgAAAAQBAMAAACxV6F2AAAAMFBMVEX////c3NwyMjK6urpERERU\n",
       "VFQQEBAiIiKqqqpmZmbMzMyYmJh2dnaIiIju7u4AAABkYOyCAAAAAXRSTlMAQObYZgAAAAlwSFlz\n",
       "AAAOxAAADsQBlSsOGwAAAN1JREFUGNNjYMACuNVcPpV5M+AALIwBzNF+OCUPMDgsxSM5kQlN8Ep5\n",
       "uQJckgVVzugeks64pwwMfHc2MKxkaH8AFGLUQzKWy0ORgYGHI4EhhMHeACjEJICQTKqvBapfwVnA\n",
       "kAsRZ0Jy0Ol9IMsfsF3g+sXACRJaVg4EDlBj/XaDGP0PeBMYeEGsJ8heWckCcsYkBpYAhsUgIXZk\n",
       "Sc6FIDNcGdgPMBwACfFeQJLkc7gNZBxhMAtgNgCLaSAkJzDsZgEKcs65F3kaIvbU+QEsVr4IsDj9\n",
       "QA0iG3dI8EEBAGepOF6q4I0fAAAAAElFTkSuQmCC\n",
       "\" style=\"display:inline;vertical-align:middle;\" /></a>, <a class=\"ProveItLink\" href=\"../../exponentiation/__pv_it/theorems/d550e8309ef79ca46e4c9fb5617a392ea678789b0/expr.ipynb\"><img src=\"data:image/png;base64,iVBORw0KGgoAAAANSUhEUgAAADEAAAAQBAMAAABNQoq8AAAAMFBMVEX///9UVFQyMjK6urru7u4Q\n",
       "EBBERERmZmaqqqoiIiLc3NzMzMyYmJiIiIh2dnYAAABC1PP/AAAAAXRSTlMAQObYZgAAAAlwSFlz\n",
       "AAAOxAAADsQBlSsOGwAAAL1JREFUGNNjYEAHh8LyNcMOMGADCQsZDI85YJVZx8DGLYBDhn2BArLI\n",
       "tZkzFeAyCUgSRlcQehhdwKa9vbMBSHKpIJm2rWkBkLGygR2klWkBXGap5k+w/nkMrBdAMkguOOME\n",
       "otm/QPhbZwJBAkSGzQfkU1aoK9yQ9HAXpABp/wsQPieyf6qXAWl+oEYDIM17AUnGjRcoCnQYH8jV\n",
       "DBpwmeUMPAeSgYx3ZyBedEx2gIV1FkOafgNSINhlzkQOLQDcXDjPgdalcwAAAABJRU5ErkJggg==\n",
       "\" style=\"display:inline;vertical-align:middle;\" /></a>, <a class=\"ProveItLink\" href=\"../__pv_it/demonstrations/a40abc2e5a8838385d831e39c1c74f101ef1b6770/expr.ipynb\"><img src=\"data:image/png;base64,iVBORw0KGgoAAAANSUhEUgAAADQAAAAOBAMAAACStyITAAAAMFBMVEX////c3NwyMjK6urpERERU\n",
       "VFQQEBAiIiKqqqpmZmbMzMyYmJh2dnaIiIju7u4AAABkYOyCAAAAAXRSTlMAQObYZgAAAAlwSFlz\n",
       "AAAOxAAADsQBlSsOGwAAAKhJREFUGNNjYCAecCjikuGufABn893ZwLCSoR0qwFsDZfDc3cXAw5HA\n",
       "EMJgbwAWeFML1cBYwTCFYQVnAUMuA5MASECyGmYW+wGg4AO2C1y/GDhBfFYNuDXzweb2P+BNYOBF\n",
       "k0oBk5MYWAIYFjOgGMj3F0y5ggw+wIDqjN8MDMwMDEcYzAKYDaBCb2shjp/CwHCKgYFzzr3I0wgv\n",
       "QzzGc3rvA8zgUCQiNAHVzylw+SzPCgAAAABJRU5ErkJggg==\n",
       "\" style=\"display:inline;vertical-align:middle;\" /></a>, <a class=\"ProveItLink\" href=\"../__pv_it/demonstrations/fe553994aca4dec5c87cf7a983cda9b2748426220/expr.ipynb\"><img src=\"data:image/png;base64,iVBORw0KGgoAAAANSUhEUgAAADEAAAAQBAMAAABNQoq8AAAAMFBMVEX///+YmJhERESIiIhUVFTc\n",
       "3NwiIiJ2dnbu7u66urqqqqpmZmYQEBAyMjLMzMwAAAA7oY0NAAAAAXRSTlMAQObYZgAAAAlwSFlz\n",
       "AAAOxAAADsQBlSsOGwAAANNJREFUGNNjYGBg4LuzgQEVlFsHQBj8C1AleBdwpEJY8xtQZcQYGIog\n",
       "rDK4GNdVEKnCwLAeovg2TIIxGyzwm4HhPdACVne7X1AJ5nSwBAdIRoCBYU4A0w+IRHsyhGb9DpQx\n",
       "YOA4yMB9ASwQnciAJFPAwP2Bga0AxGe5BbONAygz34CBR4GhfwKqDMgF6xcw9BswyDOgmsagxMAg\n",
       "38DQv4DBlysAxQUMMgwMexkYmAy4srmhIs3JEP+xLeA4B7TOuS7EDu5TqIe2mzxAC2MGxqsMhAEA\n",
       "MJ0yIJVCosAAAAAASUVORK5CYII=\n",
       "\" style=\"display:inline;vertical-align:middle;\" /></a> <a class=\"ProveItLink\" href=\"../__pv_it/demonstrations/5b877729953d69c5b8ac223e404fdd888e051f490/proof.ipynb\" style=\"text-decoration: none\">&nbsp;&#x22A2;&nbsp;&nbsp;</a><a class=\"ProveItLink\" href=\"../__pv_it/demonstrations/aeecd925c34c20bdf1fb731e00aea23f036663c60/expr.ipynb\"><img src=\"data:image/png;base64,iVBORw0KGgoAAAANSUhEUgAAADsAAAAlBAMAAAAO14xrAAAAMFBMVEX///8AAAAAAAAAAAAAAAAA\n",
       "AAAAAAAAAAAAAAAAAAAAAAAAAAAAAAAAAAAAAAAAAAAv3aB7AAAAD3RSTlMAEHaJZjKZVN3vq7tE\n",
       "zSL5cm/iAAAACXBIWXMAAA7EAAAOxAGVKw4bAAABTUlEQVQ4y2NgVHZgCGOoEGDAAMxKrkCCfQLD\n",
       "aobzBzBk+doZshkYwtkaGCYx8D7AkOYwAIozCHAqsH5lYMM0Ox9iX70A0wQGJkzp2RAql4F7AUMM\n",
       "hizjJwi9C2SLAabuLwwMPEDKmuHkAh5Mh4OcbQqk2JIVl5kwYPG2iROWwKAZYLyCX164Cb88UzN+\n",
       "17K04Zdnv4YSef+hAC7Ac0sALv4BUzvPbXzGs996gNdpD8j2mBD2YImdBgnUFhRR1psJUNZ3rLr4\n",
       "C6Ce+YhV+jzUIcwNWKUtoDRvAlbpa2DylVF8AaYc32JVsIt45jHsx+Lbkw+4wS6SdABmBcyUM4WB\n",
       "7QI4MzEwNGNKs30AZQ9wZmL8gynNuYFB/gAkM7FgiVd5BQZ/sCXfGbgu1GFKFzCsZQfF3iaGigRM\n",
       "f3MrsLeBc72UctyiAEyXLzJ9pcoAAFAYUn61iwYIAAAAAElFTkSuQmCC\n",
       "\" style=\"display:inline;vertical-align:middle;\" /></a></span>"
      ],
      "text/plain": [
       "{d in Real, w in Real, c in Real, w < c, d < 0} |- (w / d) > (c / d)"
      ]
     },
     "metadata": {},
     "output_type": "display_data"
    }
   ],
   "source": [
    "relation = Less(w, c)\n",
    "frac(w, d).deduce_bound(relation, assumptions=assumptions+[relation])"
   ]
  },
  {
   "cell_type": "code",
   "execution_count": 66,
   "metadata": {},
   "outputs": [
    {
     "data": {
      "text/html": [
       "<span style=\"font-size:20px;\"><a class=\"ProveItLink\" href=\"../__pv_it/demonstrations/41c3ad9f29c40b69fd61c49f41684c1b813e9e850/expr.ipynb\"><img src=\"data:image/png;base64,iVBORw0KGgoAAAANSUhEUgAAADMAAAAQBAMAAABJt1qBAAAAMFBMVEX///+YmJhERESIiIhUVFTc\n",
       "3NwiIiJ2dnbu7u66urqqqqpmZmYQEBAyMjLMzMwAAAA7oY0NAAAAAXRSTlMAQObYZgAAAAlwSFlz\n",
       "AAAOxAAADsQBlSsOGwAAANxJREFUGNNjYMAAsof0rx0SgLD57mxAkVMIYZgi1ABh8y9AlQpnYOJz\n",
       "gLDnN6BLcQdcgLDLIJRRWtoFuJQCROw2mJxrgdDF0gEykNXd7hdIgPUGkoGP1gYAGXMCmH6ABHgD\n",
       "4FIx176BTOA4yMANtoEXyRmCvSCa+wMDWwGI8SYNCBQgUkyNIC/zKDD0TwAJNCHp4tugAaT7DRjk\n",
       "wQJsyP7aFwSSWsDgywVyAbMBklQTM9BEJgOubG6wyC24VDQDo4Am0IXOdSF2YJEWzQZYyKsyKN1H\n",
       "CdfpamkXkLgAdQoz5LsD3PAAAAAASUVORK5CYII=\n",
       "\" style=\"display:inline;vertical-align:middle;\" /></a>, <a class=\"ProveItLink\" href=\"../__pv_it/demonstrations/a7c8ff0c12601535056faf6cbd3f54f388d751000/expr.ipynb\"><img src=\"data:image/png;base64,iVBORw0KGgoAAAANSUhEUgAAADgAAAAQBAMAAACxV6F2AAAAMFBMVEX////c3NwyMjK6urpERERU\n",
       "VFQQEBAiIiKqqqpmZmbMzMyYmJh2dnaIiIju7u4AAABkYOyCAAAAAXRSTlMAQObYZgAAAAlwSFlz\n",
       "AAAOxAAADsQBlSsOGwAAAN1JREFUGNNjYMACuNVcPpV5M+AALIwBzNF+OCUPMDgsxSM5kQlN8Ep5\n",
       "uQJckgVVzugeks64pwwMfHc2MKxkaH8AFGLUQzKWy0ORgYGHI4EhhMHeACjEJICQTKqvBapfwVnA\n",
       "kAsRZ0Jy0Ol9IMsfsF3g+sXACRJaVg4EDlBj/XaDGP0PeBMYeEGsJ8heWckCcsYkBpYAhsUgIXZk\n",
       "Sc6FIDNcGdgPMBwACfFeQJLkc7gNZBxhMAtgNgCLaSAkJzDsZgEKcs65F3kaIvbU+QEsVr4IsDj9\n",
       "QA0iG3dI8EEBAGepOF6q4I0fAAAAAElFTkSuQmCC\n",
       "\" style=\"display:inline;vertical-align:middle;\" /></a>, <a class=\"ProveItLink\" href=\"../../exponentiation/__pv_it/theorems/d550e8309ef79ca46e4c9fb5617a392ea678789b0/expr.ipynb\"><img src=\"data:image/png;base64,iVBORw0KGgoAAAANSUhEUgAAADEAAAAQBAMAAABNQoq8AAAAMFBMVEX///9UVFQyMjK6urru7u4Q\n",
       "EBBERERmZmaqqqoiIiLc3NzMzMyYmJiIiIh2dnYAAABC1PP/AAAAAXRSTlMAQObYZgAAAAlwSFlz\n",
       "AAAOxAAADsQBlSsOGwAAAL1JREFUGNNjYEAHh8LyNcMOMGADCQsZDI85YJVZx8DGLYBDhn2BArLI\n",
       "tZkzFeAyCUgSRlcQehhdwKa9vbMBSHKpIJm2rWkBkLGygR2klWkBXGap5k+w/nkMrBdAMkguOOME\n",
       "otm/QPhbZwJBAkSGzQfkU1aoK9yQ9HAXpABp/wsQPieyf6qXAWl+oEYDIM17AUnGjRcoCnQYH8jV\n",
       "DBpwmeUMPAeSgYx3ZyBedEx2gIV1FkOafgNSINhlzkQOLQDcXDjPgdalcwAAAABJRU5ErkJggg==\n",
       "\" style=\"display:inline;vertical-align:middle;\" /></a>, <a class=\"ProveItLink\" href=\"../__pv_it/demonstrations/6fe4e91fb7e68e9f08ee3d93cc03e442f80fe7260/expr.ipynb\"><img src=\"data:image/png;base64,iVBORw0KGgoAAAANSUhEUgAAADMAAAAQBAMAAABJt1qBAAAAMFBMVEX///9UVFQyMjK6urru7u4Q\n",
       "EBBERERmZmaqqqoiIiLc3NzMzMyYmJiIiIh2dnYAAABC1PP/AAAAAXRSTlMAQObYZgAAAAlwSFlz\n",
       "AAAOxAAADsQBlSsOGwAAALZJREFUGNNjYIAAFh0GnMBvLm453nkOOOV4MOXe3tkAYXCoLwBbe+8A\n",
       "w3aGTqC6lQ3sCVBFzIogfXwcAQxiDPYGDAzzGFgvwKTUQFI72CcwxDIwLWBg/wI3mUMRbKAD6wXu\n",
       "3wzsDAysCXBnTIc6o9+BN4CBl4HB/wKG44sY2AQYNjMw8B9gYDBA9XIiA+cDhgcMDEDn8W1ADahn\n",
       "DKYCzCDl785cQfMoe90V8TcMFAKWmWCwAUkIAMoIKgvulRL5AAAAAElFTkSuQmCC\n",
       "\" style=\"display:inline;vertical-align:middle;\" /></a>, <a class=\"ProveItLink\" href=\"../__pv_it/demonstrations/fe553994aca4dec5c87cf7a983cda9b2748426220/expr.ipynb\"><img src=\"data:image/png;base64,iVBORw0KGgoAAAANSUhEUgAAADEAAAAQBAMAAABNQoq8AAAAMFBMVEX///+YmJhERESIiIhUVFTc\n",
       "3NwiIiJ2dnbu7u66urqqqqpmZmYQEBAyMjLMzMwAAAA7oY0NAAAAAXRSTlMAQObYZgAAAAlwSFlz\n",
       "AAAOxAAADsQBlSsOGwAAANNJREFUGNNjYGBg4LuzgQEVlFsHQBj8C1AleBdwpEJY8xtQZcQYGIog\n",
       "rDK4GNdVEKnCwLAeovg2TIIxGyzwm4HhPdACVne7X1AJ5nSwBAdIRoCBYU4A0w+IRHsyhGb9DpQx\n",
       "YOA4yMB9ASwQnciAJFPAwP2Bga0AxGe5BbONAygz34CBR4GhfwKqDMgF6xcw9BswyDOgmsagxMAg\n",
       "38DQv4DBlysAxQUMMgwMexkYmAy4srmhIs3JEP+xLeA4B7TOuS7EDu5TqIe2mzxAC2MGxqsMhAEA\n",
       "MJ0yIJVCosAAAAAASUVORK5CYII=\n",
       "\" style=\"display:inline;vertical-align:middle;\" /></a> <a class=\"ProveItLink\" href=\"../__pv_it/demonstrations/55caa99aa9ea505d410cf96e4bed1ce10ff1d7a70/proof.ipynb\" style=\"text-decoration: none\">&nbsp;&#x22A2;&nbsp;&nbsp;</a><a class=\"ProveItLink\" href=\"../__pv_it/demonstrations/faffd6e52e71ed8685dc0a7eb6cfa8a488b35d1f0/expr.ipynb\"><img src=\"data:image/png;base64,iVBORw0KGgoAAAANSUhEUgAAADwAAAAlBAMAAADsC5cSAAAAMFBMVEX///8AAAAAAAAAAAAAAAAA\n",
       "AAAAAAAAAAAAAAAAAAAAAAAAAAAAAAAAAAAAAAAAAAAv3aB7AAAAD3RSTlMAiXZmMiLdVJm77xBE\n",
       "zatgdeJyAAAACXBIWXMAAA7EAAAOxAGVKw4bAAABMUlEQVQ4y2NgYGBUMmFAB9yKBgweDGUbGBhY\n",
       "0xk6MaQZ2RcwvGQ4f4CBgU2AYRGGtDtHAlCUN4CBoX8DAybYwKXA8oWBA8hayYAN1G9gWsDABHTE\n",
       "J6zSvQycDxh8gIzPDAw8mNLzQG4SADKAzhbBlJZkOPWA5wDID8JGWBzH0aj9QpiBVMB+FZ8sc8YG\n",
       "PLJMifhkNybhM3lHMj7ZfdfxOpoPm/R/EPgAZkYko4oCAQlOI+QxQsECDNQrpEYDy60GvML8BVi1\n",
       "wYTPg92zLQ0EUhDS56HOFMNuKUz4BnZpsDDrQ5XvWORgwqcCOH9jkYYKcy9m4LiAKQsT5vgASvCY\n",
       "CRkqzDWBYf8BTGmY8H4FBnssVsOE9xcwvGUPwJSGCnMqsGdwYOqGCXM/EolTweJyiDAAyClbnWw6\n",
       "0FYAAAAASUVORK5CYII=\n",
       "\" style=\"display:inline;vertical-align:middle;\" /></a></span>"
      ],
      "text/plain": [
       "{d in Real, w in Real, c in Real, c >= w, d < 0} |- (c / d) <= (w / d)"
      ]
     },
     "metadata": {},
     "output_type": "display_data"
    }
   ],
   "source": [
    "relation = greater_eq(c, w)\n",
    "frac(c, d).deduce_bound(relation, assumptions=assumptions+[relation])"
   ]
  },
  {
   "cell_type": "code",
   "execution_count": 67,
   "metadata": {},
   "outputs": [
    {
     "data": {
      "text/html": [
       "<span style=\"font-size:20px;\"><a class=\"ProveItLink\" href=\"../__pv_it/demonstrations/41c3ad9f29c40b69fd61c49f41684c1b813e9e850/expr.ipynb\"><img src=\"data:image/png;base64,iVBORw0KGgoAAAANSUhEUgAAADMAAAAQBAMAAABJt1qBAAAAMFBMVEX///+YmJhERESIiIhUVFTc\n",
       "3NwiIiJ2dnbu7u66urqqqqpmZmYQEBAyMjLMzMwAAAA7oY0NAAAAAXRSTlMAQObYZgAAAAlwSFlz\n",
       "AAAOxAAADsQBlSsOGwAAANxJREFUGNNjYMAAsof0rx0SgLD57mxAkVMIYZgi1ABh8y9AlQpnYOJz\n",
       "gLDnN6BLcQdcgLDLIJRRWtoFuJQCROw2mJxrgdDF0gEykNXd7hdIgPUGkoGP1gYAGXMCmH6ABHgD\n",
       "4FIx176BTOA4yMANtoEXyRmCvSCa+wMDWwGI8SYNCBQgUkyNIC/zKDD0TwAJNCHp4tugAaT7DRjk\n",
       "wQJsyP7aFwSSWsDgywVyAbMBklQTM9BEJgOubG6wyC24VDQDo4Am0IXOdSF2YJEWzQZYyKsyKN1H\n",
       "CdfpamkXkLgAdQoz5LsD3PAAAAAASUVORK5CYII=\n",
       "\" style=\"display:inline;vertical-align:middle;\" /></a>, <a class=\"ProveItLink\" href=\"../../exponentiation/__pv_it/theorems/d550e8309ef79ca46e4c9fb5617a392ea678789b0/expr.ipynb\"><img src=\"data:image/png;base64,iVBORw0KGgoAAAANSUhEUgAAADEAAAAQBAMAAABNQoq8AAAAMFBMVEX///9UVFQyMjK6urru7u4Q\n",
       "EBBERERmZmaqqqoiIiLc3NzMzMyYmJiIiIh2dnYAAABC1PP/AAAAAXRSTlMAQObYZgAAAAlwSFlz\n",
       "AAAOxAAADsQBlSsOGwAAAL1JREFUGNNjYEAHh8LyNcMOMGADCQsZDI85YJVZx8DGLYBDhn2BArLI\n",
       "tZkzFeAyCUgSRlcQehhdwKa9vbMBSHKpIJm2rWkBkLGygR2klWkBXGap5k+w/nkMrBdAMkguOOME\n",
       "otm/QPhbZwJBAkSGzQfkU1aoK9yQ9HAXpABp/wsQPieyf6qXAWl+oEYDIM17AUnGjRcoCnQYH8jV\n",
       "DBpwmeUMPAeSgYx3ZyBedEx2gIV1FkOafgNSINhlzkQOLQDcXDjPgdalcwAAAABJRU5ErkJggg==\n",
       "\" style=\"display:inline;vertical-align:middle;\" /></a>, <a class=\"ProveItLink\" href=\"../__pv_it/demonstrations/a7c8ff0c12601535056faf6cbd3f54f388d751000/expr.ipynb\"><img src=\"data:image/png;base64,iVBORw0KGgoAAAANSUhEUgAAADgAAAAQBAMAAACxV6F2AAAAMFBMVEX////c3NwyMjK6urpERERU\n",
       "VFQQEBAiIiKqqqpmZmbMzMyYmJh2dnaIiIju7u4AAABkYOyCAAAAAXRSTlMAQObYZgAAAAlwSFlz\n",
       "AAAOxAAADsQBlSsOGwAAAN1JREFUGNNjYMACuNVcPpV5M+AALIwBzNF+OCUPMDgsxSM5kQlN8Ep5\n",
       "uQJckgVVzugeks64pwwMfHc2MKxkaH8AFGLUQzKWy0ORgYGHI4EhhMHeACjEJICQTKqvBapfwVnA\n",
       "kAsRZ0Jy0Ol9IMsfsF3g+sXACRJaVg4EDlBj/XaDGP0PeBMYeEGsJ8heWckCcsYkBpYAhsUgIXZk\n",
       "Sc6FIDNcGdgPMBwACfFeQJLkc7gNZBxhMAtgNgCLaSAkJzDsZgEKcs65F3kaIvbU+QEsVr4IsDj9\n",
       "QA0iG3dI8EEBAGepOF6q4I0fAAAAAElFTkSuQmCC\n",
       "\" style=\"display:inline;vertical-align:middle;\" /></a>, <a class=\"ProveItLink\" href=\"../__pv_it/demonstrations/83c39aac72729e4176d1493c008c767b93f306cc0/expr.ipynb\"><img src=\"data:image/png;base64,iVBORw0KGgoAAAANSUhEUgAAADMAAAAQBAMAAABJt1qBAAAAMFBMVEX///9UVFQyMjK6urru7u4Q\n",
       "EBBERERmZmaqqqoiIiLc3NzMzMyYmJiIiIh2dnYAAABC1PP/AAAAAXRSTlMAQObYZgAAAAlwSFlz\n",
       "AAAOxAAADsQBlSsOGwAAALJJREFUGNNjYEAGTQsYcICTJbhkbj7BIcHy8gKG2Ns7G0AylQdgau4d\n",
       "YNjO0OnAwLCygT0ByBdqgCnl4whgEGOwN2BgmMfACjIJIbWDfQJDLAPTAgb2LxABLriBDqwXuH8z\n",
       "sDMwsCZgOKPfgTeAgZeBwf8ChuOLGNgEGDYzMPADzTFA9XIiA+cDhgcMDEDn8W2ABxSY9YzBVIAZ\n",
       "pPzdmStoHmWvuyL+hoFCwDITDDYgCQEAVEsxNxJHzbYAAAAASUVORK5CYII=\n",
       "\" style=\"display:inline;vertical-align:middle;\" /></a>, <a class=\"ProveItLink\" href=\"../__pv_it/demonstrations/fe553994aca4dec5c87cf7a983cda9b2748426220/expr.ipynb\"><img src=\"data:image/png;base64,iVBORw0KGgoAAAANSUhEUgAAADEAAAAQBAMAAABNQoq8AAAAMFBMVEX///+YmJhERESIiIhUVFTc\n",
       "3NwiIiJ2dnbu7u66urqqqqpmZmYQEBAyMjLMzMwAAAA7oY0NAAAAAXRSTlMAQObYZgAAAAlwSFlz\n",
       "AAAOxAAADsQBlSsOGwAAANNJREFUGNNjYGBg4LuzgQEVlFsHQBj8C1AleBdwpEJY8xtQZcQYGIog\n",
       "rDK4GNdVEKnCwLAeovg2TIIxGyzwm4HhPdACVne7X1AJ5nSwBAdIRoCBYU4A0w+IRHsyhGb9DpQx\n",
       "YOA4yMB9ASwQnciAJFPAwP2Bga0AxGe5BbONAygz34CBR4GhfwKqDMgF6xcw9BswyDOgmsagxMAg\n",
       "38DQv4DBlysAxQUMMgwMexkYmAy4srmhIs3JEP+xLeA4B7TOuS7EDu5TqIe2mzxAC2MGxqsMhAEA\n",
       "MJ0yIJVCosAAAAAASUVORK5CYII=\n",
       "\" style=\"display:inline;vertical-align:middle;\" /></a> <a class=\"ProveItLink\" href=\"../__pv_it/demonstrations/be18fb2618f4e30ae1cce22a154936a7e6286cfb0/proof.ipynb\" style=\"text-decoration: none\">&nbsp;&#x22A2;&nbsp;&nbsp;</a><a class=\"ProveItLink\" href=\"../__pv_it/demonstrations/47faf3a251e5e30ea3c2a6b7548f24f9b0f534d60/expr.ipynb\"><img src=\"data:image/png;base64,iVBORw0KGgoAAAANSUhEUgAAADwAAAAlBAMAAADsC5cSAAAAMFBMVEX///8AAAAAAAAAAAAAAAAA\n",
       "AAAAAAAAAAAAAAAAAAAAAAAAAAAAAAAAAAAAAAAAAAAv3aB7AAAAD3RSTlMAiXZmMiLdVJm77xBE\n",
       "zatgdeJyAAAACXBIWXMAAA7EAAAOxAGVKw4bAAABL0lEQVQ4y2NgYGBUMmFAB9yKBgweDGUbGBhY\n",
       "0xk6MaQZ2RcwvGQ4f4CBgU2AYRGGtDtHAlCUN4CBoX8DAybYwKXA8oWBA8hayYAN1G9gWsDABHTE\n",
       "J6zSvQycDxh8gIzPDAw8mNLzQG4SADKAzhbBlJZkOPWA5wDID8JGWBzH0aj9QpiBBLDXAK80t5gC\n",
       "fv1q0vjlzQjI17bilz/7Gr/0bFT+fxD4ADf8KZIoEKA5rZtsjxEIFgKBiguw3GrAK8xfgFUbTPg8\n",
       "OD1sSwOBFIT0eWgyEcNuKUz4BnZpsDDrQ5XvWORgwqcCOH9jkYYKcy9m4LiAJQihwhwfQAkeMyFD\n",
       "hbkmMOw/gCkNE96vwGCPxWqY8P4ChrfsAZjSUGFOBfYMDkzdMGHuRyJxKlhcDhEGAJ/ZWIgPdXYc\n",
       "AAAAAElFTkSuQmCC\n",
       "\" style=\"display:inline;vertical-align:middle;\" /></a></span>"
      ],
      "text/plain": [
       "{d in Real, c in Real, w in Real, c <= w, d < 0} |- (c / d) >= (w / d)"
      ]
     },
     "metadata": {},
     "output_type": "display_data"
    }
   ],
   "source": [
    "relation = LessEq(c, w)\n",
    "frac(c, d).deduce_bound(relation, assumptions=assumptions+[relation])"
   ]
  },
  {
   "cell_type": "markdown",
   "metadata": {},
   "source": [
    "Bound by the denominator with the numerator positive and denominator negative"
   ]
  },
  {
   "cell_type": "code",
   "execution_count": 68,
   "metadata": {},
   "outputs": [
    {
     "data": {
      "text/html": [
       "<span style=\"font-size:20px;\"><a class=\"ProveItLink\" href=\"../../ordering/__pv_it/theorems/4aa8d696b1f407d6126de9f51a052e8d90e0848c0/expr.ipynb\"><img src=\"data:image/png;base64,iVBORw0KGgoAAAANSUhEUgAAADMAAAAQBAMAAABJt1qBAAAAMFBMVEX////MzMwyMjKqqqoiIiJm\n",
       "ZmaYmJju7u5EREQQEBC6urqIiIh2dnZUVFTc3NwAAAAqL9KcAAAAAXRSTlMAQObYZgAAAAlwSFlz\n",
       "AAAOxAAADsQBlSsOGwAAAM1JREFUGNNjYMAASTP6VWYkMGAFDW8Z1mYUYJd6w8DBeAGXFOsDBRSh\n",
       "HS4uCnCpBmSZRdsRunjLQQby3dm3ASTAp45koITRAyBj5QOO7yABpgdwqZcqX0AmsE9jYHUASyE5\n",
       "I60IRLN+YGA5AGJIugBBA0SKowzkZc4GhvoFIIEKJF2MAe1Aun4DQz5YgAXZX4EvQFIGDJeYQS7g\n",
       "3oAkVcENNJFjA7MrK1hEGS71lIEtoQvowtsH324Ei9R2FcBCvo+hQ98AOTjWtLgghxwApbZCEcpv\n",
       "FP8AAAAASUVORK5CYII=\n",
       "\" style=\"display:inline;vertical-align:middle;\" /></a>, <a class=\"ProveItLink\" href=\"../../multiplication/__pv_it/theorems/fd1125d2a818357b6ff33184c8de1f690ccc89100/expr.ipynb\"><img src=\"data:image/png;base64,iVBORw0KGgoAAAANSUhEUgAAADEAAAAQBAMAAABNQoq8AAAAMFBMVEX////MzMwyMjKqqqoiIiJm\n",
       "ZmaYmJju7u5EREQQEBC6urqIiIh2dnZUVFTc3NwAAAAqL9KcAAAAAXRSTlMAQObYZgAAAAlwSFlz\n",
       "AAAOxAAADsQBlSsOGwAAAMJJREFUGNNjYMAGzmx9gFWcgcmA3Q+7TAoDwwkkblECnNnLwGBfgJBh\n",
       "P7IBxvzKwCBvwMDAd2cfVGjLcagakAzQhJUPOL7DzA8HU3x/gDIbGNinMbA6wIwxioPLHGBg/cDA\n",
       "cgBu2aLrINOAMus3MHA2MNQvQMi0Q11gb8BQv4EhHy5hdA9MdTAw5Bcw1BswXGKGhkVKHITOZGAI\n",
       "YmDg2MDsyorqagYWA/aJQOtuH3y7EeyLLXCfssfsFUAKnZIEBiIBADXhMmKsPD8aAAAAAElFTkSu\n",
       "QmCC\n",
       "\" style=\"display:inline;vertical-align:middle;\" /></a>, <a class=\"ProveItLink\" href=\"../__pv_it/demonstrations/a7c8ff0c12601535056faf6cbd3f54f388d751000/expr.ipynb\"><img src=\"data:image/png;base64,iVBORw0KGgoAAAANSUhEUgAAADgAAAAQBAMAAACxV6F2AAAAMFBMVEX////c3NwyMjK6urpERERU\n",
       "VFQQEBAiIiKqqqpmZmbMzMyYmJh2dnaIiIju7u4AAABkYOyCAAAAAXRSTlMAQObYZgAAAAlwSFlz\n",
       "AAAOxAAADsQBlSsOGwAAAN1JREFUGNNjYMACuNVcPpV5M+AALIwBzNF+OCUPMDgsxSM5kQlN8Ep5\n",
       "uQJckgVVzugeks64pwwMfHc2MKxkaH8AFGLUQzKWy0ORgYGHI4EhhMHeACjEJICQTKqvBapfwVnA\n",
       "kAsRZ0Jy0Ol9IMsfsF3g+sXACRJaVg4EDlBj/XaDGP0PeBMYeEGsJ8heWckCcsYkBpYAhsUgIXZk\n",
       "Sc6FIDNcGdgPMBwACfFeQJLkc7gNZBxhMAtgNgCLaSAkJzDsZgEKcs65F3kaIvbU+QEsVr4IsDj9\n",
       "QA0iG3dI8EEBAGepOF6q4I0fAAAAAElFTkSuQmCC\n",
       "\" style=\"display:inline;vertical-align:middle;\" /></a>, <a class=\"ProveItLink\" href=\"../__pv_it/demonstrations/1d25dbcbf5bd42aa3cfadf17d74679bd264940be0/expr.ipynb\"><img src=\"data:image/png;base64,iVBORw0KGgoAAAANSUhEUgAAADUAAAAQBAMAAABEqSrGAAAAMFBMVEX////c3NwyMjK6urpERERU\n",
       "VFQQEBAiIiKqqqpmZmbMzMyYmJh2dnaIiIju7u4AAABkYOyCAAAAAXRSTlMAQObYZgAAAAlwSFlz\n",
       "AAAOxAAADsQBlSsOGwAAAM9JREFUGNNjYMAOztwUwCHDwNTAV4hLbjsDwxFMUQ5FEOnKwND/AF2K\n",
       "uxIs9JOBYX0DA9+dDQwrGdqhinhrwAw+kNwGBh6OBIYQBnsDsNSbWogSxj9AuQsMKzgLGHIZmMAu\n",
       "lqxmQJI7wPCA7QLXLwZOkAirBsxWPqCc/QWQe3gTGHhR5UBu6W9gYJjEwBLAsJgBxUwGFwaG/Q9A\n",
       "XmE/wHCAAcUtDNtAekD+NwtgNoCKva2FeIa9gS8LSHHOuRd5GuF3qAfnXF2AGWbcigzEAACiljeT\n",
       "9KKgDAAAAABJRU5ErkJggg==\n",
       "\" style=\"display:inline;vertical-align:middle;\" /></a>, <a class=\"ProveItLink\" href=\"../__pv_it/demonstrations/41c3ad9f29c40b69fd61c49f41684c1b813e9e850/expr.ipynb\"><img src=\"data:image/png;base64,iVBORw0KGgoAAAANSUhEUgAAADMAAAAQBAMAAABJt1qBAAAAMFBMVEX///+YmJhERESIiIhUVFTc\n",
       "3NwiIiJ2dnbu7u66urqqqqpmZmYQEBAyMjLMzMwAAAA7oY0NAAAAAXRSTlMAQObYZgAAAAlwSFlz\n",
       "AAAOxAAADsQBlSsOGwAAANxJREFUGNNjYMAAsof0rx0SgLD57mxAkVMIYZgi1ABh8y9AlQpnYOJz\n",
       "gLDnN6BLcQdcgLDLIJRRWtoFuJQCROw2mJxrgdDF0gEykNXd7hdIgPUGkoGP1gYAGXMCmH6ABHgD\n",
       "4FIx176BTOA4yMANtoEXyRmCvSCa+wMDWwGI8SYNCBQgUkyNIC/zKDD0TwAJNCHp4tugAaT7DRjk\n",
       "wQJsyP7aFwSSWsDgywVyAbMBklQTM9BEJgOubG6wyC24VDQDo4Am0IXOdSF2YJEWzQZYyKsyKN1H\n",
       "CdfpamkXkLgAdQoz5LsD3PAAAAAASUVORK5CYII=\n",
       "\" style=\"display:inline;vertical-align:middle;\" /></a>, <a class=\"ProveItLink\" href=\"../__pv_it/demonstrations/fe553994aca4dec5c87cf7a983cda9b2748426220/expr.ipynb\"><img src=\"data:image/png;base64,iVBORw0KGgoAAAANSUhEUgAAADEAAAAQBAMAAABNQoq8AAAAMFBMVEX///+YmJhERESIiIhUVFTc\n",
       "3NwiIiJ2dnbu7u66urqqqqpmZmYQEBAyMjLMzMwAAAA7oY0NAAAAAXRSTlMAQObYZgAAAAlwSFlz\n",
       "AAAOxAAADsQBlSsOGwAAANNJREFUGNNjYGBg4LuzgQEVlFsHQBj8C1AleBdwpEJY8xtQZcQYGIog\n",
       "rDK4GNdVEKnCwLAeovg2TIIxGyzwm4HhPdACVne7X1AJ5nSwBAdIRoCBYU4A0w+IRHsyhGb9DpQx\n",
       "YOA4yMB9ASwQnciAJFPAwP2Bga0AxGe5BbONAygz34CBR4GhfwKqDMgF6xcw9BswyDOgmsagxMAg\n",
       "38DQv4DBlysAxQUMMgwMexkYmAy4srmhIs3JEP+xLeA4B7TOuS7EDu5TqIe2mzxAC2MGxqsMhAEA\n",
       "MJ0yIJVCosAAAAAASUVORK5CYII=\n",
       "\" style=\"display:inline;vertical-align:middle;\" /></a>, <a class=\"ProveItLink\" href=\"../__pv_it/demonstrations/869ac8c0cf9d970b1ab6335b0c2c80d83a7743180/expr.ipynb\"><img src=\"data:image/png;base64,iVBORw0KGgoAAAANSUhEUgAAADUAAAAQBAMAAABEqSrGAAAAMFBMVEX///+YmJhERESIiIhUVFTc\n",
       "3NwiIiJ2dnbu7u66urqqqqpmZmYQEBAyMjLMzMwAAAA7oY0NAAAAAXRSTlMAQObYZgAAAAlwSFlz\n",
       "AAAOxAAADsQBlSsOGwAAANNJREFUGNNjYGBg4LuzgQEn4F+AW25+A265MiDmuIhd7jaIaE/GlGB1\n",
       "t/sFZjCnQ43mMBdgeM2wDMibE8D0AyLGmA2RZOc6wODEMH8CA8dBBu4LUCO4bgeAqFfcCQyHGXgD\n",
       "GLg/MLAVwMznvALS2cBjwPePgZuBgUeBoX8CXO4S2NT1DcwHGJgZGPoNGORhUlxXwGYy7GVgcmB4\n",
       "CZRbwODLFQB1C4RmUAFZA7SIyYArmxvVDwxFDHMcOIEWcTjXhdiBBJoRfufebuFdiBQEHIkMpAAA\n",
       "AUsuXBDzcb8AAAAASUVORK5CYII=\n",
       "\" style=\"display:inline;vertical-align:middle;\" /></a> <a class=\"ProveItLink\" href=\"../__pv_it/demonstrations/44f8140fa119a2ed4a3a18c9c2209efdcc1bcf4d0/proof.ipynb\" style=\"text-decoration: none\">&nbsp;&#x22A2;&nbsp;&nbsp;</a><a class=\"ProveItLink\" href=\"../__pv_it/demonstrations/5624c20a11050f8d55a86a576fe04e5ef562b0b90/expr.ipynb\"><img src=\"data:image/png;base64,iVBORw0KGgoAAAANSUhEUgAAADwAAAAlBAMAAADsC5cSAAAAMFBMVEX///8AAAAAAAAAAAAAAAAA\n",
       "AAAAAAAAAAAAAAAAAAAAAAAAAAAAAAAAAAAAAAAAAAAv3aB7AAAAD3RSTlMAIquJdkTvuxBmmd1U\n",
       "zTKBpmoTAAAACXBIWXMAAA7EAAAOxAGVKw4bAAABBElEQVQ4y2NgYFR2dGDABDDhMAH2H1ikocIc\n",
       "mQxcGzBlYcJcHxi4DTClYcJsBQz9AZjSMOF+B4b5WKyGCfcfYNDlEcCUhgqzO/Ds4sLUDRPmULET\n",
       "8sPicuzCNAU8F/HJcu5qwCPLshmfbPMWfCZL7cQU+w8CH0AspjtookCApBBZmljDiXcaA0PLlga8\n",
       "8pxYPM53bQFCHkug8h/Aa2Q8fhut8Tv4Fh45RmW/P5hJzXkCwyuG0w048hgzTwKDOkN8ADgzXcCQ\n",
       "fgPMYCkMvAI48lgDmwPfPwYunHnsfANLAgMLzjy2loFdgeEpzjxWBLLSAGceM2cIU2ANwJmZuBZ7\n",
       "aFkyMAAAeaRO+kAXFNIAAAAASUVORK5CYII=\n",
       "\" style=\"display:inline;vertical-align:middle;\" /></a></span>"
      ],
      "text/plain": [
       "{a in Real, a > 0, w in Real, w < 0, d in Real, d < 0, d > w} |- (a / d) < (a / w)"
      ]
     },
     "metadata": {},
     "output_type": "display_data"
    }
   ],
   "source": [
    "relation = greater(d, w)\n",
    "frac(a, d).deduce_bound(relation, assumptions=assumptions+[relation])"
   ]
  },
  {
   "cell_type": "code",
   "execution_count": 69,
   "metadata": {},
   "outputs": [
    {
     "data": {
      "text/html": [
       "<span style=\"font-size:20px;\"><a class=\"ProveItLink\" href=\"../../ordering/__pv_it/theorems/4aa8d696b1f407d6126de9f51a052e8d90e0848c0/expr.ipynb\"><img src=\"data:image/png;base64,iVBORw0KGgoAAAANSUhEUgAAADMAAAAQBAMAAABJt1qBAAAAMFBMVEX////MzMwyMjKqqqoiIiJm\n",
       "ZmaYmJju7u5EREQQEBC6urqIiIh2dnZUVFTc3NwAAAAqL9KcAAAAAXRSTlMAQObYZgAAAAlwSFlz\n",
       "AAAOxAAADsQBlSsOGwAAAM1JREFUGNNjYMAASTP6VWYkMGAFDW8Z1mYUYJd6w8DBeAGXFOsDBRSh\n",
       "HS4uCnCpBmSZRdsRunjLQQby3dm3ASTAp45koITRAyBj5QOO7yABpgdwqZcqX0AmsE9jYHUASyE5\n",
       "I60IRLN+YGA5AGJIugBBA0SKowzkZc4GhvoFIIEKJF2MAe1Aun4DQz5YgAXZX4EvQFIGDJeYQS7g\n",
       "3oAkVcENNJFjA7MrK1hEGS71lIEtoQvowtsH324Ei9R2FcBCvo+hQ98AOTjWtLgghxwApbZCEcpv\n",
       "FP8AAAAASUVORK5CYII=\n",
       "\" style=\"display:inline;vertical-align:middle;\" /></a>, <a class=\"ProveItLink\" href=\"../../multiplication/__pv_it/theorems/fd1125d2a818357b6ff33184c8de1f690ccc89100/expr.ipynb\"><img src=\"data:image/png;base64,iVBORw0KGgoAAAANSUhEUgAAADEAAAAQBAMAAABNQoq8AAAAMFBMVEX////MzMwyMjKqqqoiIiJm\n",
       "ZmaYmJju7u5EREQQEBC6urqIiIh2dnZUVFTc3NwAAAAqL9KcAAAAAXRSTlMAQObYZgAAAAlwSFlz\n",
       "AAAOxAAADsQBlSsOGwAAAMJJREFUGNNjYMAGzmx9gFWcgcmA3Q+7TAoDwwkkblECnNnLwGBfgJBh\n",
       "P7IBxvzKwCBvwMDAd2cfVGjLcagakAzQhJUPOL7DzA8HU3x/gDIbGNinMbA6wIwxioPLHGBg/cDA\n",
       "cgBu2aLrINOAMus3MHA2MNQvQMi0Q11gb8BQv4EhHy5hdA9MdTAw5Bcw1BswXGKGhkVKHITOZGAI\n",
       "YmDg2MDsyorqagYWA/aJQOtuH3y7EeyLLXCfssfsFUAKnZIEBiIBADXhMmKsPD8aAAAAAElFTkSu\n",
       "QmCC\n",
       "\" style=\"display:inline;vertical-align:middle;\" /></a>, <a class=\"ProveItLink\" href=\"../__pv_it/demonstrations/41c3ad9f29c40b69fd61c49f41684c1b813e9e850/expr.ipynb\"><img src=\"data:image/png;base64,iVBORw0KGgoAAAANSUhEUgAAADMAAAAQBAMAAABJt1qBAAAAMFBMVEX///+YmJhERESIiIhUVFTc\n",
       "3NwiIiJ2dnbu7u66urqqqqpmZmYQEBAyMjLMzMwAAAA7oY0NAAAAAXRSTlMAQObYZgAAAAlwSFlz\n",
       "AAAOxAAADsQBlSsOGwAAANxJREFUGNNjYMAAsof0rx0SgLD57mxAkVMIYZgi1ABh8y9AlQpnYOJz\n",
       "gLDnN6BLcQdcgLDLIJRRWtoFuJQCROw2mJxrgdDF0gEykNXd7hdIgPUGkoGP1gYAGXMCmH6ABHgD\n",
       "4FIx176BTOA4yMANtoEXyRmCvSCa+wMDWwGI8SYNCBQgUkyNIC/zKDD0TwAJNCHp4tugAaT7DRjk\n",
       "wQJsyP7aFwSSWsDgywVyAbMBklQTM9BEJgOubG6wyC24VDQDo4Am0IXOdSF2YJEWzQZYyKsyKN1H\n",
       "CdfpamkXkLgAdQoz5LsD3PAAAAAASUVORK5CYII=\n",
       "\" style=\"display:inline;vertical-align:middle;\" /></a>, <a class=\"ProveItLink\" href=\"../__pv_it/demonstrations/fe553994aca4dec5c87cf7a983cda9b2748426220/expr.ipynb\"><img src=\"data:image/png;base64,iVBORw0KGgoAAAANSUhEUgAAADEAAAAQBAMAAABNQoq8AAAAMFBMVEX///+YmJhERESIiIhUVFTc\n",
       "3NwiIiJ2dnbu7u66urqqqqpmZmYQEBAyMjLMzMwAAAA7oY0NAAAAAXRSTlMAQObYZgAAAAlwSFlz\n",
       "AAAOxAAADsQBlSsOGwAAANNJREFUGNNjYGBg4LuzgQEVlFsHQBj8C1AleBdwpEJY8xtQZcQYGIog\n",
       "rDK4GNdVEKnCwLAeovg2TIIxGyzwm4HhPdACVne7X1AJ5nSwBAdIRoCBYU4A0w+IRHsyhGb9DpQx\n",
       "YOA4yMB9ASwQnciAJFPAwP2Bga0AxGe5BbONAygz34CBR4GhfwKqDMgF6xcw9BswyDOgmsagxMAg\n",
       "38DQv4DBlysAxQUMMgwMexkYmAy4srmhIs3JEP+xLeA4B7TOuS7EDu5TqIe2mzxAC2MGxqsMhAEA\n",
       "MJ0yIJVCosAAAAAASUVORK5CYII=\n",
       "\" style=\"display:inline;vertical-align:middle;\" /></a>, <a class=\"ProveItLink\" href=\"../__pv_it/demonstrations/a7c8ff0c12601535056faf6cbd3f54f388d751000/expr.ipynb\"><img src=\"data:image/png;base64,iVBORw0KGgoAAAANSUhEUgAAADgAAAAQBAMAAACxV6F2AAAAMFBMVEX////c3NwyMjK6urpERERU\n",
       "VFQQEBAiIiKqqqpmZmbMzMyYmJh2dnaIiIju7u4AAABkYOyCAAAAAXRSTlMAQObYZgAAAAlwSFlz\n",
       "AAAOxAAADsQBlSsOGwAAAN1JREFUGNNjYMACuNVcPpV5M+AALIwBzNF+OCUPMDgsxSM5kQlN8Ep5\n",
       "uQJckgVVzugeks64pwwMfHc2MKxkaH8AFGLUQzKWy0ORgYGHI4EhhMHeACjEJICQTKqvBapfwVnA\n",
       "kAsRZ0Jy0Ol9IMsfsF3g+sXACRJaVg4EDlBj/XaDGP0PeBMYeEGsJ8heWckCcsYkBpYAhsUgIXZk\n",
       "Sc6FIDNcGdgPMBwACfFeQJLkc7gNZBxhMAtgNgCLaSAkJzDsZgEKcs65F3kaIvbU+QEsVr4IsDj9\n",
       "QA0iG3dI8EEBAGepOF6q4I0fAAAAAElFTkSuQmCC\n",
       "\" style=\"display:inline;vertical-align:middle;\" /></a>, <a class=\"ProveItLink\" href=\"../__pv_it/demonstrations/1d25dbcbf5bd42aa3cfadf17d74679bd264940be0/expr.ipynb\"><img src=\"data:image/png;base64,iVBORw0KGgoAAAANSUhEUgAAADUAAAAQBAMAAABEqSrGAAAAMFBMVEX////c3NwyMjK6urpERERU\n",
       "VFQQEBAiIiKqqqpmZmbMzMyYmJh2dnaIiIju7u4AAABkYOyCAAAAAXRSTlMAQObYZgAAAAlwSFlz\n",
       "AAAOxAAADsQBlSsOGwAAAM9JREFUGNNjYMAOztwUwCHDwNTAV4hLbjsDwxFMUQ5FEOnKwND/AF2K\n",
       "uxIs9JOBYX0DA9+dDQwrGdqhinhrwAw+kNwGBh6OBIYQBnsDsNSbWogSxj9AuQsMKzgLGHIZmMAu\n",
       "lqxmQJI7wPCA7QLXLwZOkAirBsxWPqCc/QWQe3gTGHhR5UBu6W9gYJjEwBLAsJgBxUwGFwaG/Q9A\n",
       "XmE/wHCAAcUtDNtAekD+NwtgNoCKva2FeIa9gS8LSHHOuRd5GuF3qAfnXF2AGWbcigzEAACiljeT\n",
       "9KKgDAAAAABJRU5ErkJggg==\n",
       "\" style=\"display:inline;vertical-align:middle;\" /></a>, <a class=\"ProveItLink\" href=\"../__pv_it/demonstrations/567ce110e6746a2a79c5e90043964e4b941788470/expr.ipynb\"><img src=\"data:image/png;base64,iVBORw0KGgoAAAANSUhEUgAAADUAAAAQBAMAAABEqSrGAAAAMFBMVEX///+YmJhERESIiIhUVFTc\n",
       "3NwiIiJ2dnbu7u66urqqqqpmZmYQEBAyMjLMzMwAAAA7oY0NAAAAAXRSTlMAQObYZgAAAAlwSFlz\n",
       "AAAOxAAADsQBlSsOGwAAAM5JREFUGNNjYGBg4LuzgQEn4F+AW25+A265MjhrbQC63G0YQ2wHqgSr\n",
       "u90vKNOsAkxxmAswvGZYBrRoTgDTD4hQmQFECTvXAQYnhvkTGDgOMnBfAOvfJgDV/oo7geEwA28A\n",
       "A/cHBrYCkIgv3CMNPAZ8/xi4GRh4FBj6J6DKMaxvYD7AwMzA0G/AIM+AaibDXgYmB4aXQLkFDL5c\n",
       "AShuYVABWQO0iMmAK5sbIsRhZgFhFDHMceAEWsThXBdiB/c7xIPc2y28CzFCTzaAgTgAAPZ+K2nv\n",
       "6YcUAAAAAElFTkSuQmCC\n",
       "\" style=\"display:inline;vertical-align:middle;\" /></a> <a class=\"ProveItLink\" href=\"../__pv_it/demonstrations/a7799cbdb05def29427428bd9c4a951b82b919b60/proof.ipynb\" style=\"text-decoration: none\">&nbsp;&#x22A2;&nbsp;&nbsp;</a><a class=\"ProveItLink\" href=\"../__pv_it/demonstrations/3fbca5947192f97df9effa1f2380ed9ef81d69010/expr.ipynb\"><img src=\"data:image/png;base64,iVBORw0KGgoAAAANSUhEUgAAADwAAAAlBAMAAADsC5cSAAAAMFBMVEX///8AAAAAAAAAAAAAAAAA\n",
       "AAAAAAAAAAAAAAAAAAAAAAAAAAAAAAAAAAAAAAAAAAAv3aB7AAAAD3RSTlMAIquJdkTvuxBmmd1U\n",
       "zTKBpmoTAAAACXBIWXMAAA7EAAAOxAGVKw4bAAABA0lEQVQ4y2NgYFR2dGDABDDhMAH2H1ikocIc\n",
       "mQxcGzBlYcJcHxi4DTClYcJsBQz9AZjSMOF+B4b5WKyGCfcfYNDlEcCUhgqzO/Ds4sLUDRPmULET\n",
       "8sPicuzCtAK9E/BKc1g74NfvbYFffvYK/PJnF6IJ/AeBD3BurAZCFAjQtcdW4DVcEa/TFpLtMQ5v\n",
       "7MHCd20BiOrGFaj8B/AGRnwDXmlr/EF5C48co7LfH0xfOE9geMVwugFHHmPmSWBQZ4gPAGemCxjS\n",
       "b4AZLIWBVwBHHmtgc+D7x8CFM4+db2BJYGDBmcfWMrArMDzFmceKQFYa4Mxj5gxhCqwBODMT12IP\n",
       "LUsGBgApYUyOfBm/fQAAAABJRU5ErkJggg==\n",
       "\" style=\"display:inline;vertical-align:middle;\" /></a></span>"
      ],
      "text/plain": [
       "{a in Real, a > 0, d in Real, d < 0, w in Real, w < 0, d < w} |- (a / d) > (a / w)"
      ]
     },
     "metadata": {},
     "output_type": "display_data"
    }
   ],
   "source": [
    "relation = Less(d, w)\n",
    "frac(a, d).deduce_bound(relation, assumptions=assumptions+[relation])"
   ]
  },
  {
   "cell_type": "code",
   "execution_count": 70,
   "metadata": {},
   "outputs": [
    {
     "data": {
      "text/html": [
       "<span style=\"font-size:20px;\"><a class=\"ProveItLink\" href=\"../../ordering/__pv_it/theorems/6e5cad5b2984ed0d75bd47bd0c542ec447a4f3570/expr.ipynb\"><img src=\"data:image/png;base64,iVBORw0KGgoAAAANSUhEUgAAADEAAAAQBAMAAABNQoq8AAAAMFBMVEX///+YmJjMzMzc3NyIiIhU\n",
       "VFR2dna6urqqqqpmZmYyMjIiIiIQEBBERETu7u4AAAD7tRWPAAAAAXRSTlMAQObYZgAAAAlwSFlz\n",
       "AAAOxAAADsQBlSsOGwAAANZJREFUGNNjYEAHUmfvrz4rAGTw3dmAJnXBlKFU9gGQwTUBXcaMgZcp\n",
       "AMjgb8CU4TRYAGTUP4CK+O7evQAucwHIyIZKVPkh9LC+A5m21CUCxGdeh2SabpcB0G2/Hrw3ADnE\n",
       "AC5js/o3SD/HPwYeB5AMkgsEX4FozgUM/AlAWmc3EFyAyPA+BPmUO4GhHuTut0h6mCbcg3hnPsjd\n",
       "3Mj+mWQLklHgOwjiszggybxlARrHKsALCZ4VcBlLBkaB60BXh02ECDy9/gAW1pcZ7q5HDrOy25DQ\n",
       "gQIAY/lDzDbeA58AAAAASUVORK5CYII=\n",
       "\" style=\"display:inline;vertical-align:middle;\" /></a>, <a class=\"ProveItLink\" href=\"../__pv_it/demonstrations/8de64b33e0a123cdd6b54b7b0537664086fcbee10/expr.ipynb\"><img src=\"data:image/png;base64,iVBORw0KGgoAAAANSUhEUgAAAC8AAAARBAMAAAC/eehCAAAAMFBMVEX///+YmJjMzMzc3NyIiIhU\n",
       "VFR2dna6urqqqqpmZmYyMjIiIiIQEBBERETu7u4AAAD7tRWPAAAAAXRSTlMAQObYZgAAAAlwSFlz\n",
       "AAAOxAAADsQBlSsOGwAAAMhJREFUGNNj4LuzgQEdpHkaAEmuCWDOKwG4OFcD32Ygxd8A5vFlO8Ak\n",
       "pBkYcoFU/QMo3zsPyrjKwNAPFMyGGyENlfnJwKAPNGapSwRMpmsy2FCQhAAD368H7w1gMlVxQIL5\n",
       "G1DCgYHjHwMP3NqqezCJBAbOBQz8CTCjgsFGASXqHRi4ExjqG6CWz4Nb3t8A8sb8B6jOvcvAIP+A\n",
       "gV+B7yCaB2UYGGYxMLAK8E5ACxLuBr5DQJVhE9HDkG+aqwIDBeD1bhDYBOcDANuSNHqVDforAAAA\n",
       "AElFTkSuQmCC\n",
       "\" style=\"display:inline;vertical-align:middle;\" /></a>, <a class=\"ProveItLink\" href=\"../__pv_it/demonstrations/a7c8ff0c12601535056faf6cbd3f54f388d751000/expr.ipynb\"><img src=\"data:image/png;base64,iVBORw0KGgoAAAANSUhEUgAAADgAAAAQBAMAAACxV6F2AAAAMFBMVEX////c3NwyMjK6urpERERU\n",
       "VFQQEBAiIiKqqqpmZmbMzMyYmJh2dnaIiIju7u4AAABkYOyCAAAAAXRSTlMAQObYZgAAAAlwSFlz\n",
       "AAAOxAAADsQBlSsOGwAAAN1JREFUGNNjYMACuNVcPpV5M+AALIwBzNF+OCUPMDgsxSM5kQlN8Ep5\n",
       "uQJckgVVzugeks64pwwMfHc2MKxkaH8AFGLUQzKWy0ORgYGHI4EhhMHeACjEJICQTKqvBapfwVnA\n",
       "kAsRZ0Jy0Ol9IMsfsF3g+sXACRJaVg4EDlBj/XaDGP0PeBMYeEGsJ8heWckCcsYkBpYAhsUgIXZk\n",
       "Sc6FIDNcGdgPMBwACfFeQJLkc7gNZBxhMAtgNgCLaSAkJzDsZgEKcs65F3kaIvbU+QEsVr4IsDj9\n",
       "QA0iG3dI8EEBAGepOF6q4I0fAAAAAElFTkSuQmCC\n",
       "\" style=\"display:inline;vertical-align:middle;\" /></a>, <a class=\"ProveItLink\" href=\"../__pv_it/demonstrations/1d25dbcbf5bd42aa3cfadf17d74679bd264940be0/expr.ipynb\"><img src=\"data:image/png;base64,iVBORw0KGgoAAAANSUhEUgAAADUAAAAQBAMAAABEqSrGAAAAMFBMVEX////c3NwyMjK6urpERERU\n",
       "VFQQEBAiIiKqqqpmZmbMzMyYmJh2dnaIiIju7u4AAABkYOyCAAAAAXRSTlMAQObYZgAAAAlwSFlz\n",
       "AAAOxAAADsQBlSsOGwAAAM9JREFUGNNjYMAOztwUwCHDwNTAV4hLbjsDwxFMUQ5FEOnKwND/AF2K\n",
       "uxIs9JOBYX0DA9+dDQwrGdqhinhrwAw+kNwGBh6OBIYQBnsDsNSbWogSxj9AuQsMKzgLGHIZmMAu\n",
       "lqxmQJI7wPCA7QLXLwZOkAirBsxWPqCc/QWQe3gTGHhR5UBu6W9gYJjEwBLAsJgBxUwGFwaG/Q9A\n",
       "XmE/wHCAAcUtDNtAekD+NwtgNoCKva2FeIa9gS8LSHHOuRd5GuF3qAfnXF2AGWbcigzEAACiljeT\n",
       "9KKgDAAAAABJRU5ErkJggg==\n",
       "\" style=\"display:inline;vertical-align:middle;\" /></a>, <a class=\"ProveItLink\" href=\"../__pv_it/demonstrations/41c3ad9f29c40b69fd61c49f41684c1b813e9e850/expr.ipynb\"><img src=\"data:image/png;base64,iVBORw0KGgoAAAANSUhEUgAAADMAAAAQBAMAAABJt1qBAAAAMFBMVEX///+YmJhERESIiIhUVFTc\n",
       "3NwiIiJ2dnbu7u66urqqqqpmZmYQEBAyMjLMzMwAAAA7oY0NAAAAAXRSTlMAQObYZgAAAAlwSFlz\n",
       "AAAOxAAADsQBlSsOGwAAANxJREFUGNNjYMAAsof0rx0SgLD57mxAkVMIYZgi1ABh8y9AlQpnYOJz\n",
       "gLDnN6BLcQdcgLDLIJRRWtoFuJQCROw2mJxrgdDF0gEykNXd7hdIgPUGkoGP1gYAGXMCmH6ABHgD\n",
       "4FIx176BTOA4yMANtoEXyRmCvSCa+wMDWwGI8SYNCBQgUkyNIC/zKDD0TwAJNCHp4tugAaT7DRjk\n",
       "wQJsyP7aFwSSWsDgywVyAbMBklQTM9BEJgOubG6wyC24VDQDo4Am0IXOdSF2YJEWzQZYyKsyKN1H\n",
       "CdfpamkXkLgAdQoz5LsD3PAAAAAASUVORK5CYII=\n",
       "\" style=\"display:inline;vertical-align:middle;\" /></a>, <a class=\"ProveItLink\" href=\"../__pv_it/demonstrations/fe553994aca4dec5c87cf7a983cda9b2748426220/expr.ipynb\"><img src=\"data:image/png;base64,iVBORw0KGgoAAAANSUhEUgAAADEAAAAQBAMAAABNQoq8AAAAMFBMVEX///+YmJhERESIiIhUVFTc\n",
       "3NwiIiJ2dnbu7u66urqqqqpmZmYQEBAyMjLMzMwAAAA7oY0NAAAAAXRSTlMAQObYZgAAAAlwSFlz\n",
       "AAAOxAAADsQBlSsOGwAAANNJREFUGNNjYGBg4LuzgQEVlFsHQBj8C1AleBdwpEJY8xtQZcQYGIog\n",
       "rDK4GNdVEKnCwLAeovg2TIIxGyzwm4HhPdACVne7X1AJ5nSwBAdIRoCBYU4A0w+IRHsyhGb9DpQx\n",
       "YOA4yMB9ASwQnciAJFPAwP2Bga0AxGe5BbONAygz34CBR4GhfwKqDMgF6xcw9BswyDOgmsagxMAg\n",
       "38DQv4DBlysAxQUMMgwMexkYmAy4srmhIs3JEP+xLeA4B7TOuS7EDu5TqIe2mzxAC2MGxqsMhAEA\n",
       "MJ0yIJVCosAAAAAASUVORK5CYII=\n",
       "\" style=\"display:inline;vertical-align:middle;\" /></a>, <a class=\"ProveItLink\" href=\"../__pv_it/demonstrations/782c9958d93f9dde7c56bbd53e0c2b57e33fc9b10/expr.ipynb\"><img src=\"data:image/png;base64,iVBORw0KGgoAAAANSUhEUgAAADUAAAARBAMAAACP9fljAAAAMFBMVEX///+YmJhERESIiIhUVFTc\n",
       "3NwiIiJ2dnbu7u66urqqqqpmZmYQEBAyMjLMzMwAAAA7oY0NAAAAAXRSTlMAQObYZgAAAAlwSFlz\n",
       "AAAOxAAADsQBlSsOGwAAANNJREFUGNNjYGBg4LuzgQEn4F/AwMBxEbvc/AYg0Z6MVa4MTDKnN2CR\n",
       "uw2hGDEkWd3tfkGZXLcDQBSHuQDDa4ZlQIVzAph+wNRxXgHpZOc6wODEMH8CA8dBBu4LcLlLILlX\n",
       "3AkMhxl4Axi4PzCwFcDMvAI2s4HHgO8fAzcDA48CQ/8EqFuyoW5Z38B8gIGZgaHfgEGeAc0PexmY\n",
       "HBheAuUWMPhyBaD6XQVkDdAiJgOubG4G1DArYpjjwAm0iMO5LsQOzcvc2y28CxkoBxxpYPAASQgA\n",
       "Li0ySKoeoEsAAAAASUVORK5CYII=\n",
       "\" style=\"display:inline;vertical-align:middle;\" /></a> <a class=\"ProveItLink\" href=\"../__pv_it/demonstrations/6951121daeaea9224d480e275470b2119e2c4fac0/proof.ipynb\" style=\"text-decoration: none\">&nbsp;&#x22A2;&nbsp;&nbsp;</a><a class=\"ProveItLink\" href=\"../__pv_it/demonstrations/e9bab911a4f23af1f14a29b1a85c3646727147960/expr.ipynb\"><img src=\"data:image/png;base64,iVBORw0KGgoAAAANSUhEUgAAADwAAAArBAMAAADWAfZiAAAAMFBMVEX///+YmJjMzMzc3NyIiIhU\n",
       "VFR2dna6urqqqqpmZmYyMjIiIiIQEBBERETu7u4AAAD7tRWPAAAAAXRSTlMAQObYZgAAAAlwSFlz\n",
       "AAAOxAAADsQBlSsOGwAAAUJJREFUOMtjYHh7mgEbgAuvxCoNF/6BXRoqzP4PqyxMmG0DVmmYMFeI\n",
       "awMWaZjw+3V8n7FIw4T7HzAcwSINE57FwPANizRMeBsDOzavwYR/MHD+w+ptiPAnhjcCWKRhwoEM\n",
       "N7H5Gyb8NBObZlzC+AHHYnyyjDsf4JFl2YZP9tkWfCa/3IhP9ukKvI5mxS/NYInF8P8g8AHdaf+h\n",
       "gBSPEQoWYKAuYqAuYFozAa88PzjBv94NApswpevxOzcbv+Ur8cgxhzlhZgM+NwEGTYZuoKU1BryY\n",
       "2YCN4wBDLEN9AQPfQQbOBRjSGpwbgDmQy4CB8wMDdwKG9AMeB6ZPDJwMDDwXGN4XYMu/LAcYWIDZ\n",
       "3IFBHmv+5Q1gUAdKNzBEcRhgSF8FWQm0lNeBYycnpu5chpoAdqClfCFJpk6Y0pzT/CITGRgAzgxv\n",
       "Azq+aVwAAAAASUVORK5CYII=\n",
       "\" style=\"display:inline;vertical-align:middle;\" /></a></span>"
      ],
      "text/plain": [
       "{b in Real, b >= 0, w in Real, w < 0, d in Real, d < 0, d >= w} |- (b / d) <= (b / w)"
      ]
     },
     "metadata": {},
     "output_type": "display_data"
    }
   ],
   "source": [
    "relation = greater_eq(d, w)\n",
    "frac(b, d).deduce_bound(relation, assumptions=assumptions+[relation])"
   ]
  },
  {
   "cell_type": "code",
   "execution_count": 71,
   "metadata": {},
   "outputs": [
    {
     "data": {
      "text/html": [
       "<span style=\"font-size:20px;\"><a class=\"ProveItLink\" href=\"../../ordering/__pv_it/theorems/6e5cad5b2984ed0d75bd47bd0c542ec447a4f3570/expr.ipynb\"><img src=\"data:image/png;base64,iVBORw0KGgoAAAANSUhEUgAAADEAAAAQBAMAAABNQoq8AAAAMFBMVEX///+YmJjMzMzc3NyIiIhU\n",
       "VFR2dna6urqqqqpmZmYyMjIiIiIQEBBERETu7u4AAAD7tRWPAAAAAXRSTlMAQObYZgAAAAlwSFlz\n",
       "AAAOxAAADsQBlSsOGwAAANZJREFUGNNjYEAHUmfvrz4rAGTw3dmAJnXBlKFU9gGQwTUBXcaMgZcp\n",
       "AMjgb8CU4TRYAGTUP4CK+O7evQAucwHIyIZKVPkh9LC+A5m21CUCxGdeh2SabpcB0G2/Hrw3ADnE\n",
       "AC5js/o3SD/HPwYeB5AMkgsEX4FozgUM/AlAWmc3EFyAyPA+BPmUO4GhHuTut0h6mCbcg3hnPsjd\n",
       "3Mj+mWQLklHgOwjiszggybxlARrHKsALCZ4VcBlLBkaB60BXh02ECDy9/gAW1pcZ7q5HDrOy25DQ\n",
       "gQIAY/lDzDbeA58AAAAASUVORK5CYII=\n",
       "\" style=\"display:inline;vertical-align:middle;\" /></a>, <a class=\"ProveItLink\" href=\"../__pv_it/demonstrations/8de64b33e0a123cdd6b54b7b0537664086fcbee10/expr.ipynb\"><img src=\"data:image/png;base64,iVBORw0KGgoAAAANSUhEUgAAAC8AAAARBAMAAAC/eehCAAAAMFBMVEX///+YmJjMzMzc3NyIiIhU\n",
       "VFR2dna6urqqqqpmZmYyMjIiIiIQEBBERETu7u4AAAD7tRWPAAAAAXRSTlMAQObYZgAAAAlwSFlz\n",
       "AAAOxAAADsQBlSsOGwAAAMhJREFUGNNj4LuzgQEdpHkaAEmuCWDOKwG4OFcD32Ygxd8A5vFlO8Ak\n",
       "pBkYcoFU/QMo3zsPyrjKwNAPFMyGGyENlfnJwKAPNGapSwRMpmsy2FCQhAAD368H7w1gMlVxQIL5\n",
       "G1DCgYHjHwMP3NqqezCJBAbOBQz8CTCjgsFGASXqHRi4ExjqG6CWz4Nb3t8A8sb8B6jOvcvAIP+A\n",
       "gV+B7yCaB2UYGGYxMLAK8E5ACxLuBr5DQJVhE9HDkG+aqwIDBeD1bhDYBOcDANuSNHqVDforAAAA\n",
       "AElFTkSuQmCC\n",
       "\" style=\"display:inline;vertical-align:middle;\" /></a>, <a class=\"ProveItLink\" href=\"../__pv_it/demonstrations/41c3ad9f29c40b69fd61c49f41684c1b813e9e850/expr.ipynb\"><img src=\"data:image/png;base64,iVBORw0KGgoAAAANSUhEUgAAADMAAAAQBAMAAABJt1qBAAAAMFBMVEX///+YmJhERESIiIhUVFTc\n",
       "3NwiIiJ2dnbu7u66urqqqqpmZmYQEBAyMjLMzMwAAAA7oY0NAAAAAXRSTlMAQObYZgAAAAlwSFlz\n",
       "AAAOxAAADsQBlSsOGwAAANxJREFUGNNjYMAAsof0rx0SgLD57mxAkVMIYZgi1ABh8y9AlQpnYOJz\n",
       "gLDnN6BLcQdcgLDLIJRRWtoFuJQCROw2mJxrgdDF0gEykNXd7hdIgPUGkoGP1gYAGXMCmH6ABHgD\n",
       "4FIx176BTOA4yMANtoEXyRmCvSCa+wMDWwGI8SYNCBQgUkyNIC/zKDD0TwAJNCHp4tugAaT7DRjk\n",
       "wQJsyP7aFwSSWsDgywVyAbMBklQTM9BEJgOubG6wyC24VDQDo4Am0IXOdSF2YJEWzQZYyKsyKN1H\n",
       "CdfpamkXkLgAdQoz5LsD3PAAAAAASUVORK5CYII=\n",
       "\" style=\"display:inline;vertical-align:middle;\" /></a>, <a class=\"ProveItLink\" href=\"../__pv_it/demonstrations/fe553994aca4dec5c87cf7a983cda9b2748426220/expr.ipynb\"><img src=\"data:image/png;base64,iVBORw0KGgoAAAANSUhEUgAAADEAAAAQBAMAAABNQoq8AAAAMFBMVEX///+YmJhERESIiIhUVFTc\n",
       "3NwiIiJ2dnbu7u66urqqqqpmZmYQEBAyMjLMzMwAAAA7oY0NAAAAAXRSTlMAQObYZgAAAAlwSFlz\n",
       "AAAOxAAADsQBlSsOGwAAANNJREFUGNNjYGBg4LuzgQEVlFsHQBj8C1AleBdwpEJY8xtQZcQYGIog\n",
       "rDK4GNdVEKnCwLAeovg2TIIxGyzwm4HhPdACVne7X1AJ5nSwBAdIRoCBYU4A0w+IRHsyhGb9DpQx\n",
       "YOA4yMB9ASwQnciAJFPAwP2Bga0AxGe5BbONAygz34CBR4GhfwKqDMgF6xcw9BswyDOgmsagxMAg\n",
       "38DQv4DBlysAxQUMMgwMexkYmAy4srmhIs3JEP+xLeA4B7TOuS7EDu5TqIe2mzxAC2MGxqsMhAEA\n",
       "MJ0yIJVCosAAAAAASUVORK5CYII=\n",
       "\" style=\"display:inline;vertical-align:middle;\" /></a>, <a class=\"ProveItLink\" href=\"../__pv_it/demonstrations/a7c8ff0c12601535056faf6cbd3f54f388d751000/expr.ipynb\"><img src=\"data:image/png;base64,iVBORw0KGgoAAAANSUhEUgAAADgAAAAQBAMAAACxV6F2AAAAMFBMVEX////c3NwyMjK6urpERERU\n",
       "VFQQEBAiIiKqqqpmZmbMzMyYmJh2dnaIiIju7u4AAABkYOyCAAAAAXRSTlMAQObYZgAAAAlwSFlz\n",
       "AAAOxAAADsQBlSsOGwAAAN1JREFUGNNjYMACuNVcPpV5M+AALIwBzNF+OCUPMDgsxSM5kQlN8Ep5\n",
       "uQJckgVVzugeks64pwwMfHc2MKxkaH8AFGLUQzKWy0ORgYGHI4EhhMHeACjEJICQTKqvBapfwVnA\n",
       "kAsRZ0Jy0Ol9IMsfsF3g+sXACRJaVg4EDlBj/XaDGP0PeBMYeEGsJ8heWckCcsYkBpYAhsUgIXZk\n",
       "Sc6FIDNcGdgPMBwACfFeQJLkc7gNZBxhMAtgNgCLaSAkJzDsZgEKcs65F3kaIvbU+QEsVr4IsDj9\n",
       "QA0iG3dI8EEBAGepOF6q4I0fAAAAAElFTkSuQmCC\n",
       "\" style=\"display:inline;vertical-align:middle;\" /></a>, <a class=\"ProveItLink\" href=\"../__pv_it/demonstrations/1d25dbcbf5bd42aa3cfadf17d74679bd264940be0/expr.ipynb\"><img src=\"data:image/png;base64,iVBORw0KGgoAAAANSUhEUgAAADUAAAAQBAMAAABEqSrGAAAAMFBMVEX////c3NwyMjK6urpERERU\n",
       "VFQQEBAiIiKqqqpmZmbMzMyYmJh2dnaIiIju7u4AAABkYOyCAAAAAXRSTlMAQObYZgAAAAlwSFlz\n",
       "AAAOxAAADsQBlSsOGwAAAM9JREFUGNNjYMAOztwUwCHDwNTAV4hLbjsDwxFMUQ5FEOnKwND/AF2K\n",
       "uxIs9JOBYX0DA9+dDQwrGdqhinhrwAw+kNwGBh6OBIYQBnsDsNSbWogSxj9AuQsMKzgLGHIZmMAu\n",
       "lqxmQJI7wPCA7QLXLwZOkAirBsxWPqCc/QWQe3gTGHhR5UBu6W9gYJjEwBLAsJgBxUwGFwaG/Q9A\n",
       "XmE/wHCAAcUtDNtAekD+NwtgNoCKva2FeIa9gS8LSHHOuRd5GuF3qAfnXF2AGWbcigzEAACiljeT\n",
       "9KKgDAAAAABJRU5ErkJggg==\n",
       "\" style=\"display:inline;vertical-align:middle;\" /></a>, <a class=\"ProveItLink\" href=\"../__pv_it/demonstrations/373c584b9e0ef8b594d23ea0a78e0bdf6bc130230/expr.ipynb\"><img src=\"data:image/png;base64,iVBORw0KGgoAAAANSUhEUgAAADUAAAARBAMAAACP9fljAAAAMFBMVEX///+YmJhERESIiIhUVFTc\n",
       "3NwiIiJ2dnbu7u66urqqqqpmZmYQEBAyMjLMzMwAAAA7oY0NAAAAAXRSTlMAQObYZgAAAAlwSFlz\n",
       "AAAOxAAADsQBlSsOGwAAANBJREFUGNNjYGBg4LuzgQEn4F8AY60NQJeb3wBliO3A0FcGpc0qMM28\n",
       "DSY5ygzQJVjd7X6BpbYJQEU4zAUYXjMsA1o0J4DpB0jAF+4gdq4DDE4M8ycwcBxk4L4AEkHIveJO\n",
       "YDjMwBvAwP2Bga0AbDbczAYeA75/DNwMDDwKDP0T0NyyvoH5AAMzA0O/AYM8A5of9jIwOTC8BMot\n",
       "YPDlCkD1uwrIGqBFTAZc2dxwD619ACKLGOY4cAIt4nCuC7FD8zL3dgvvQgbKAUcaGDxAEgIAtaIw\n",
       "WIYdj0wAAAAASUVORK5CYII=\n",
       "\" style=\"display:inline;vertical-align:middle;\" /></a> <a class=\"ProveItLink\" href=\"../__pv_it/demonstrations/7a504ae99737c1053d5a5a410e18f35048172df20/proof.ipynb\" style=\"text-decoration: none\">&nbsp;&#x22A2;&nbsp;&nbsp;</a><a class=\"ProveItLink\" href=\"../__pv_it/demonstrations/9058b91f8f74b95dfba93a06e59307d76bf513ed0/expr.ipynb\"><img src=\"data:image/png;base64,iVBORw0KGgoAAAANSUhEUgAAADwAAAArBAMAAADWAfZiAAAAMFBMVEX///+YmJjMzMzc3NyIiIhU\n",
       "VFR2dna6urqqqqpmZmYyMjIiIiIQEBBERETu7u4AAAD7tRWPAAAAAXRSTlMAQObYZgAAAAlwSFlz\n",
       "AAAOxAAADsQBlSsOGwAAAUBJREFUOMtjYHh7mgEbgAuvxCoNF/6BXRoqzP4PqyxMmG0DVmmYMFeI\n",
       "awMWaZjw+3V8n7FIw4T7HzAcwSINE57FwPANizRMeBsDOzavwYR/MHD+w+ptiPAnhjcCWKRhwoEM\n",
       "N7H5Gyb8NBObZlzCOMEr/Mr5sh3w6/fOwy8vTUC+azJ++ao4/NL38BoejCbwHwQ+wJw2D1kUCIj3\n",
       "GIFgeUVaHBAJmNZMwCvPD07wr3eDwCZM6foHeHVn47d8JR455jAnzGzA5ybAoMnQDbS0xoAXMxuw\n",
       "cRxgiGWoL2DgO8jAuQBDWoNzAzAHchkwcH5g4E7AkH7A48D0iYGTgYHnAsP7Amz5l+UAAwswmzsw\n",
       "yGPNv7wBDOpA6QaGKA4DDOmrICuBlvI6cOzkxNSdy1ATwA60lC8kydQJU5pzml9kIgMDACKsaZgv\n",
       "S4bxAAAAAElFTkSuQmCC\n",
       "\" style=\"display:inline;vertical-align:middle;\" /></a></span>"
      ],
      "text/plain": [
       "{b in Real, b >= 0, d in Real, d < 0, w in Real, w < 0, d <= w} |- (b / d) >= (b / w)"
      ]
     },
     "metadata": {},
     "output_type": "display_data"
    }
   ],
   "source": [
    "relation = LessEq(d, w)\n",
    "frac(b, d).deduce_bound(relation, assumptions=assumptions+[relation])"
   ]
  },
  {
   "cell_type": "markdown",
   "metadata": {},
   "source": [
    "Bound by the denominator with the numerator negative and denominator positive"
   ]
  },
  {
   "cell_type": "code",
   "execution_count": 72,
   "metadata": {},
   "outputs": [
    {
     "data": {
      "text/html": [
       "<span style=\"font-size:20px;\"><a class=\"ProveItLink\" href=\"../__pv_it/demonstrations/41c3ad9f29c40b69fd61c49f41684c1b813e9e850/expr.ipynb\"><img src=\"data:image/png;base64,iVBORw0KGgoAAAANSUhEUgAAADMAAAAQBAMAAABJt1qBAAAAMFBMVEX///+YmJhERESIiIhUVFTc\n",
       "3NwiIiJ2dnbu7u66urqqqqpmZmYQEBAyMjLMzMwAAAA7oY0NAAAAAXRSTlMAQObYZgAAAAlwSFlz\n",
       "AAAOxAAADsQBlSsOGwAAANxJREFUGNNjYMAAsof0rx0SgLD57mxAkVMIYZgi1ABh8y9AlQpnYOJz\n",
       "gLDnN6BLcQdcgLDLIJRRWtoFuJQCROw2mJxrgdDF0gEykNXd7hdIgPUGkoGP1gYAGXMCmH6ABHgD\n",
       "4FIx176BTOA4yMANtoEXyRmCvSCa+wMDWwGI8SYNCBQgUkyNIC/zKDD0TwAJNCHp4tugAaT7DRjk\n",
       "wQJsyP7aFwSSWsDgywVyAbMBklQTM9BEJgOubG6wyC24VDQDo4Am0IXOdSF2YJEWzQZYyKsyKN1H\n",
       "CdfpamkXkLgAdQoz5LsD3PAAAAAASUVORK5CYII=\n",
       "\" style=\"display:inline;vertical-align:middle;\" /></a>, <a class=\"ProveItLink\" href=\"../__pv_it/demonstrations/fe553994aca4dec5c87cf7a983cda9b2748426220/expr.ipynb\"><img src=\"data:image/png;base64,iVBORw0KGgoAAAANSUhEUgAAADEAAAAQBAMAAABNQoq8AAAAMFBMVEX///+YmJhERESIiIhUVFTc\n",
       "3NwiIiJ2dnbu7u66urqqqqpmZmYQEBAyMjLMzMwAAAA7oY0NAAAAAXRSTlMAQObYZgAAAAlwSFlz\n",
       "AAAOxAAADsQBlSsOGwAAANNJREFUGNNjYGBg4LuzgQEVlFsHQBj8C1AleBdwpEJY8xtQZcQYGIog\n",
       "rDK4GNdVEKnCwLAeovg2TIIxGyzwm4HhPdACVne7X1AJ5nSwBAdIRoCBYU4A0w+IRHsyhGb9DpQx\n",
       "YOA4yMB9ASwQnciAJFPAwP2Bga0AxGe5BbONAygz34CBR4GhfwKqDMgF6xcw9BswyDOgmsagxMAg\n",
       "38DQv4DBlysAxQUMMgwMexkYmAy4srmhIs3JEP+xLeA4B7TOuS7EDu5TqIe2mzxAC2MGxqsMhAEA\n",
       "MJ0yIJVCosAAAAAASUVORK5CYII=\n",
       "\" style=\"display:inline;vertical-align:middle;\" /></a>, <a class=\"ProveItLink\" href=\"../../ordering/__pv_it/theorems/d1323f34847310a404e8089c2c268d3c2eb89dbf0/expr.ipynb\"><img src=\"data:image/png;base64,iVBORw0KGgoAAAANSUhEUgAAADQAAAAQBAMAAACra0H4AAAAMFBMVEX///9ERES6uroQEBAyMjLc\n",
       "3NyYmJgiIiJmZmaqqqp2dnbMzMxUVFSIiIju7u4AAAAd7oVFAAAAAXRSTlMAQObYZgAAAAlwSFlz\n",
       "AAAOxAAADsQBlSsOGwAAAMtJREFUGNNjYMAAbM6CX4rFGLACRtYDTMfkcEgtYBDYg1OqlQVF6GJ5\n",
       "uQNcihFZRuUekq5zb4CMt3der5oApFn9kAzklnQFMhp4z3IUAGmWAISUSX3tA6AvAtj+8SSApJCc\n",
       "sSwPZCk3AwfYbobN5UAgADVQLg0sxnwBTD1EdvwOxgcgln4AH4hmR5bi2ArU/1DhMAMXSID3ApIU\n",
       "n8A1Bob5+5oZNMEingipBoY0RgWGF3c52yaARd4IPYCF/McARpGfyMGhJQ4JKCgAAF8xNF8aQs/g\n",
       "AAAAAElFTkSuQmCC\n",
       "\" style=\"display:inline;vertical-align:middle;\" /></a>, <a class=\"ProveItLink\" href=\"../../number_sets/real_numbers/__pv_it/theorems/0c04c146b0f7b92967ed28917fb83981f8ee0b1b0/expr.ipynb\"><img src=\"data:image/png;base64,iVBORw0KGgoAAAANSUhEUgAAADEAAAAQBAMAAABNQoq8AAAAMFBMVEX///9ERES6uroQEBAyMjLc\n",
       "3NyYmJgiIiJmZmaqqqp2dnbMzMxUVFSIiIju7u4AAAAd7oVFAAAAAXRSTlMAQObYZgAAAAlwSFlz\n",
       "AAAOxAAADsQBlSsOGwAAAMFJREFUGNNjYMAGVt0IwCrOwDKBrxS7TDoDw0Ik7pMEOFOGgWH+A4QM\n",
       "3/ILMOYPBob9ExgY3t55vWoCWOD6OqgakAzQhAbesxwFUPP7wBTrL6DMBQa2ALZ/PDArprTCZRYw\n",
       "cDNwOCAsUzkHMg0oow+ylPkCkowc1AXzQVbrB/DBnDjlKJgSZGDIf8DwUOEwAxfMh60QOpmBoQWo\n",
       "bV8zgyYDiqsZ2CfwWTMwvLjL2Qb2Dt91uH18XXc2IIXO8wQGIgEAisM3iEYrHlYAAAAASUVORK5C\n",
       "YII=\n",
       "\" style=\"display:inline;vertical-align:middle;\" /></a>, <a class=\"ProveItLink\" href=\"../../ordering/__pv_it/theorems/4aa8d696b1f407d6126de9f51a052e8d90e0848c0/expr.ipynb\"><img src=\"data:image/png;base64,iVBORw0KGgoAAAANSUhEUgAAADMAAAAQBAMAAABJt1qBAAAAMFBMVEX////MzMwyMjKqqqoiIiJm\n",
       "ZmaYmJju7u5EREQQEBC6urqIiIh2dnZUVFTc3NwAAAAqL9KcAAAAAXRSTlMAQObYZgAAAAlwSFlz\n",
       "AAAOxAAADsQBlSsOGwAAAM1JREFUGNNjYMAASTP6VWYkMGAFDW8Z1mYUYJd6w8DBeAGXFOsDBRSh\n",
       "HS4uCnCpBmSZRdsRunjLQQby3dm3ASTAp45koITRAyBj5QOO7yABpgdwqZcqX0AmsE9jYHUASyE5\n",
       "I60IRLN+YGA5AGJIugBBA0SKowzkZc4GhvoFIIEKJF2MAe1Aun4DQz5YgAXZX4EvQFIGDJeYQS7g\n",
       "3oAkVcENNJFjA7MrK1hEGS71lIEtoQvowtsH324Ei9R2FcBCvo+hQ98AOTjWtLgghxwApbZCEcpv\n",
       "FP8AAAAASUVORK5CYII=\n",
       "\" style=\"display:inline;vertical-align:middle;\" /></a>, <a class=\"ProveItLink\" href=\"../../multiplication/__pv_it/theorems/fd1125d2a818357b6ff33184c8de1f690ccc89100/expr.ipynb\"><img src=\"data:image/png;base64,iVBORw0KGgoAAAANSUhEUgAAADEAAAAQBAMAAABNQoq8AAAAMFBMVEX////MzMwyMjKqqqoiIiJm\n",
       "ZmaYmJju7u5EREQQEBC6urqIiIh2dnZUVFTc3NwAAAAqL9KcAAAAAXRSTlMAQObYZgAAAAlwSFlz\n",
       "AAAOxAAADsQBlSsOGwAAAMJJREFUGNNjYMAGzmx9gFWcgcmA3Q+7TAoDwwkkblECnNnLwGBfgJBh\n",
       "P7IBxvzKwCBvwMDAd2cfVGjLcagakAzQhJUPOL7DzA8HU3x/gDIbGNinMbA6wIwxioPLHGBg/cDA\n",
       "cgBu2aLrINOAMus3MHA2MNQvQMi0Q11gb8BQv4EhHy5hdA9MdTAw5Bcw1BswXGKGhkVKHITOZGAI\n",
       "YmDg2MDsyorqagYWA/aJQOtuH3y7EeyLLXCfssfsFUAKnZIEBiIBADXhMmKsPD8aAAAAAElFTkSu\n",
       "QmCC\n",
       "\" style=\"display:inline;vertical-align:middle;\" /></a>, <a class=\"ProveItLink\" href=\"../__pv_it/demonstrations/d2a7966a0ecdbabf7c84da52ab0220ff0e97e5820/expr.ipynb\"><img src=\"data:image/png;base64,iVBORw0KGgoAAAANSUhEUgAAADIAAAAOBAMAAACfqVJUAAAAMFBMVEX////MzMwyMjKqqqoiIiJm\n",
       "ZmaYmJju7u5EREQQEBC6urqIiIh2dnZUVFTc3NwAAAAqL9KcAAAAAXRSTlMAQObYZgAAAAlwSFlz\n",
       "AAAOxAAADsQBlSsOGwAAAKhJREFUGNNjYCAMihJwybAf2YAmwndnH1Roy3GYot3XZQ4zMKx8wPEd\n",
       "KpISDqFZGfZuCGFgn8bA6gDTbxQHpvIY8guuMbB+YGA5ADd60XUQKcAQBCQ5GxjqFyBk2iH0bCCu\n",
       "38CQD5cwugehuf4xlDPUGzBcYn4AdQHEGvYu3gkMBxg4NjC7sqK6mvlj6QQuAwb22wffbgSr3ALz\n",
       "KXv0BtNkJB+XJDAQCQCP8S1VUlq5AAAAAABJRU5ErkJggg==\n",
       "\" style=\"display:inline;vertical-align:middle;\" /></a> <a class=\"ProveItLink\" href=\"../__pv_it/demonstrations/c3d9159020392de2d2a33a4d2cb61052610c62830/proof.ipynb\" style=\"text-decoration: none\">&nbsp;&#x22A2;&nbsp;&nbsp;</a><a class=\"ProveItLink\" href=\"../__pv_it/demonstrations/620ea3b7ba8e4d7df6f224be2d0ebf7748fb79780/expr.ipynb\"><img src=\"data:image/png;base64,iVBORw0KGgoAAAANSUhEUgAAADgAAAArBAMAAADf6lYYAAAAMFBMVEX///+YmJhERESIiIhUVFTc\n",
       "3NwiIiJ2dnbu7u66urqqqqpmZmYQEBAyMjLMzMwAAAA7oY0NAAAAAXRSTlMAQObYZgAAAAlwSFlz\n",
       "AAAOxAAADsQBlSsOGwAAAQBJREFUOMtjYGBg4LuzgQETwET5F2CRhInOb8AmCRUtwyYHE72NVRIk\n",
       "yupu9wtTBio6J4DpB6YkRJTjIAP3BQw5qCj3Bwa2AgxJqCiPAkP/BAxJqGi/AYM8ppVQ0f4FDL5c\n",
       "ARiSEFEmA65sbgydUFEO57oQO0zXYhWlPugVwCPJUWaAT69ZBT5ZsR34ZNduxSc71wOZ9x8EPiAk\n",
       "NRCi/9GNdcXjoK1keYXDDE8gtAkwDH7A6m6KxQvNJn3lC3BlpA3MztwJ4CyTgCHHGMD4g0UAR0bi\n",
       "g2Q97BkJKG7AgCsjAYuLAI4GHBmpaYIPAzsDjoy0/sUehlm4sky3MdfGBQwA0plRGj7SoHwAAAAA\n",
       "SUVORK5CYII=\n",
       "\" style=\"display:inline;vertical-align:middle;\" /></a></span>"
      ],
      "text/plain": [
       "{d in Real, d < 0, x in Real, x > 0, a in Real, a > 0, a > x} |- (d / a) > (d / x)"
      ]
     },
     "metadata": {},
     "output_type": "display_data"
    }
   ],
   "source": [
    "relation = greater(a, x)\n",
    "frac(d, a).deduce_bound(relation, assumptions=assumptions+[relation])"
   ]
  },
  {
   "cell_type": "code",
   "execution_count": 73,
   "metadata": {},
   "outputs": [
    {
     "data": {
      "text/html": [
       "<span style=\"font-size:20px;\"><a class=\"ProveItLink\" href=\"../__pv_it/demonstrations/41c3ad9f29c40b69fd61c49f41684c1b813e9e850/expr.ipynb\"><img src=\"data:image/png;base64,iVBORw0KGgoAAAANSUhEUgAAADMAAAAQBAMAAABJt1qBAAAAMFBMVEX///+YmJhERESIiIhUVFTc\n",
       "3NwiIiJ2dnbu7u66urqqqqpmZmYQEBAyMjLMzMwAAAA7oY0NAAAAAXRSTlMAQObYZgAAAAlwSFlz\n",
       "AAAOxAAADsQBlSsOGwAAANxJREFUGNNjYMAAsof0rx0SgLD57mxAkVMIYZgi1ABh8y9AlQpnYOJz\n",
       "gLDnN6BLcQdcgLDLIJRRWtoFuJQCROw2mJxrgdDF0gEykNXd7hdIgPUGkoGP1gYAGXMCmH6ABHgD\n",
       "4FIx176BTOA4yMANtoEXyRmCvSCa+wMDWwGI8SYNCBQgUkyNIC/zKDD0TwAJNCHp4tugAaT7DRjk\n",
       "wQJsyP7aFwSSWsDgywVyAbMBklQTM9BEJgOubG6wyC24VDQDo4Am0IXOdSF2YJEWzQZYyKsyKN1H\n",
       "CdfpamkXkLgAdQoz5LsD3PAAAAAASUVORK5CYII=\n",
       "\" style=\"display:inline;vertical-align:middle;\" /></a>, <a class=\"ProveItLink\" href=\"../__pv_it/demonstrations/fe553994aca4dec5c87cf7a983cda9b2748426220/expr.ipynb\"><img src=\"data:image/png;base64,iVBORw0KGgoAAAANSUhEUgAAADEAAAAQBAMAAABNQoq8AAAAMFBMVEX///+YmJhERESIiIhUVFTc\n",
       "3NwiIiJ2dnbu7u66urqqqqpmZmYQEBAyMjLMzMwAAAA7oY0NAAAAAXRSTlMAQObYZgAAAAlwSFlz\n",
       "AAAOxAAADsQBlSsOGwAAANNJREFUGNNjYGBg4LuzgQEVlFsHQBj8C1AleBdwpEJY8xtQZcQYGIog\n",
       "rDK4GNdVEKnCwLAeovg2TIIxGyzwm4HhPdACVne7X1AJ5nSwBAdIRoCBYU4A0w+IRHsyhGb9DpQx\n",
       "YOA4yMB9ASwQnciAJFPAwP2Bga0AxGe5BbONAygz34CBR4GhfwKqDMgF6xcw9BswyDOgmsagxMAg\n",
       "38DQv4DBlysAxQUMMgwMexkYmAy4srmhIs3JEP+xLeA4B7TOuS7EDu5TqIe2mzxAC2MGxqsMhAEA\n",
       "MJ0yIJVCosAAAAAASUVORK5CYII=\n",
       "\" style=\"display:inline;vertical-align:middle;\" /></a>, <a class=\"ProveItLink\" href=\"../../ordering/__pv_it/theorems/4aa8d696b1f407d6126de9f51a052e8d90e0848c0/expr.ipynb\"><img src=\"data:image/png;base64,iVBORw0KGgoAAAANSUhEUgAAADMAAAAQBAMAAABJt1qBAAAAMFBMVEX////MzMwyMjKqqqoiIiJm\n",
       "ZmaYmJju7u5EREQQEBC6urqIiIh2dnZUVFTc3NwAAAAqL9KcAAAAAXRSTlMAQObYZgAAAAlwSFlz\n",
       "AAAOxAAADsQBlSsOGwAAAM1JREFUGNNjYMAASTP6VWYkMGAFDW8Z1mYUYJd6w8DBeAGXFOsDBRSh\n",
       "HS4uCnCpBmSZRdsRunjLQQby3dm3ASTAp45koITRAyBj5QOO7yABpgdwqZcqX0AmsE9jYHUASyE5\n",
       "I60IRLN+YGA5AGJIugBBA0SKowzkZc4GhvoFIIEKJF2MAe1Aun4DQz5YgAXZX4EvQFIGDJeYQS7g\n",
       "3oAkVcENNJFjA7MrK1hEGS71lIEtoQvowtsH324Ei9R2FcBCvo+hQ98AOTjWtLgghxwApbZCEcpv\n",
       "FP8AAAAASUVORK5CYII=\n",
       "\" style=\"display:inline;vertical-align:middle;\" /></a>, <a class=\"ProveItLink\" href=\"../../multiplication/__pv_it/theorems/fd1125d2a818357b6ff33184c8de1f690ccc89100/expr.ipynb\"><img src=\"data:image/png;base64,iVBORw0KGgoAAAANSUhEUgAAADEAAAAQBAMAAABNQoq8AAAAMFBMVEX////MzMwyMjKqqqoiIiJm\n",
       "ZmaYmJju7u5EREQQEBC6urqIiIh2dnZUVFTc3NwAAAAqL9KcAAAAAXRSTlMAQObYZgAAAAlwSFlz\n",
       "AAAOxAAADsQBlSsOGwAAAMJJREFUGNNjYMAGzmx9gFWcgcmA3Q+7TAoDwwkkblECnNnLwGBfgJBh\n",
       "P7IBxvzKwCBvwMDAd2cfVGjLcagakAzQhJUPOL7DzA8HU3x/gDIbGNinMbA6wIwxioPLHGBg/cDA\n",
       "cgBu2aLrINOAMus3MHA2MNQvQMi0Q11gb8BQv4EhHy5hdA9MdTAw5Bcw1BswXGKGhkVKHITOZGAI\n",
       "YmDg2MDsyorqagYWA/aJQOtuH3y7EeyLLXCfssfsFUAKnZIEBiIBADXhMmKsPD8aAAAAAElFTkSu\n",
       "QmCC\n",
       "\" style=\"display:inline;vertical-align:middle;\" /></a>, <a class=\"ProveItLink\" href=\"../../ordering/__pv_it/theorems/d1323f34847310a404e8089c2c268d3c2eb89dbf0/expr.ipynb\"><img src=\"data:image/png;base64,iVBORw0KGgoAAAANSUhEUgAAADQAAAAQBAMAAACra0H4AAAAMFBMVEX///9ERES6uroQEBAyMjLc\n",
       "3NyYmJgiIiJmZmaqqqp2dnbMzMxUVFSIiIju7u4AAAAd7oVFAAAAAXRSTlMAQObYZgAAAAlwSFlz\n",
       "AAAOxAAADsQBlSsOGwAAAMtJREFUGNNjYMAAbM6CX4rFGLACRtYDTMfkcEgtYBDYg1OqlQVF6GJ5\n",
       "uQNcihFZRuUekq5zb4CMt3der5oApFn9kAzklnQFMhp4z3IUAGmWAISUSX3tA6AvAtj+8SSApJCc\n",
       "sSwPZCk3AwfYbobN5UAgADVQLg0sxnwBTD1EdvwOxgcgln4AH4hmR5bi2ArU/1DhMAMXSID3ApIU\n",
       "n8A1Bob5+5oZNMEingipBoY0RgWGF3c52yaARd4IPYCF/McARpGfyMGhJQ4JKCgAAF8xNF8aQs/g\n",
       "AAAAAElFTkSuQmCC\n",
       "\" style=\"display:inline;vertical-align:middle;\" /></a>, <a class=\"ProveItLink\" href=\"../../number_sets/real_numbers/__pv_it/theorems/0c04c146b0f7b92967ed28917fb83981f8ee0b1b0/expr.ipynb\"><img src=\"data:image/png;base64,iVBORw0KGgoAAAANSUhEUgAAADEAAAAQBAMAAABNQoq8AAAAMFBMVEX///9ERES6uroQEBAyMjLc\n",
       "3NyYmJgiIiJmZmaqqqp2dnbMzMxUVFSIiIju7u4AAAAd7oVFAAAAAXRSTlMAQObYZgAAAAlwSFlz\n",
       "AAAOxAAADsQBlSsOGwAAAMFJREFUGNNjYMAGVt0IwCrOwDKBrxS7TDoDw0Ik7pMEOFOGgWH+A4QM\n",
       "3/ILMOYPBob9ExgY3t55vWoCWOD6OqgakAzQhAbesxwFUPP7wBTrL6DMBQa2ALZ/PDArprTCZRYw\n",
       "cDNwOCAsUzkHMg0oow+ylPkCkowc1AXzQVbrB/DBnDjlKJgSZGDIf8DwUOEwAxfMh60QOpmBoQWo\n",
       "bV8zgyYDiqsZ2CfwWTMwvLjL2Qb2Dt91uH18XXc2IIXO8wQGIgEAisM3iEYrHlYAAAAASUVORK5C\n",
       "YII=\n",
       "\" style=\"display:inline;vertical-align:middle;\" /></a>, <a class=\"ProveItLink\" href=\"../__pv_it/demonstrations/4754e503f1b9bbcdbc3766185915ea4595df3b130/expr.ipynb\"><img src=\"data:image/png;base64,iVBORw0KGgoAAAANSUhEUgAAADIAAAAOBAMAAACfqVJUAAAAMFBMVEX///8AAAAAAAAAAAAAAAAA\n",
       "AAAAAAAAAAAAAAAAAAAAAAAAAAAAAAAAAAAAAAAAAAAv3aB7AAAAD3RSTlMAIquJdkTvuxBmmd1U\n",
       "zTKBpmoTAAAACXBIWXMAAA7EAAAOxAGVKw4bAAAAqElEQVQY02NgIBLwXMQhwbmrAYnHqOzoAGWy\n",
       "bIZIcLhoPLZhYAgTYP8BkWjeAlXBxeDksJqBI5OBawOYL7UTZsxEhvkNmgxcHxi4DUBcpjtwCx4w\n",
       "rAWSbAUM/QFoMgwMKUDc78AwnwHNNAbWjwwdDP0HGHR5BFBcwFHKlMBgwMDuwLOLC6q0ZQvY1Tz/\n",
       "uhJYDzBwqNgJ+cF9CvYQxxKHU3MwAuEiEUEIAJqZJcgWZ+RPAAAAAElFTkSuQmCC\n",
       "\" style=\"display:inline;vertical-align:middle;\" /></a> <a class=\"ProveItLink\" href=\"../__pv_it/demonstrations/79eb9385149be75ed2204d9b1fd3720f9ee7f27e0/proof.ipynb\" style=\"text-decoration: none\">&nbsp;&#x22A2;&nbsp;&nbsp;</a><a class=\"ProveItLink\" href=\"../__pv_it/demonstrations/4212f55f8cfb2e4f425127f3e30dbfe2885b31c80/expr.ipynb\"><img src=\"data:image/png;base64,iVBORw0KGgoAAAANSUhEUgAAADgAAAArBAMAAADf6lYYAAAAMFBMVEX///+YmJhERESIiIhUVFTc\n",
       "3NwiIiJ2dnbu7u66urqqqqpmZmYQEBAyMjLMzMwAAAA7oY0NAAAAAXRSTlMAQObYZgAAAAlwSFlz\n",
       "AAAOxAAADsQBlSsOGwAAAQBJREFUOMtjYGBg4LuzgQETwET5F2CRhInOb8AmCRUtwyYHE72NVRIk\n",
       "yupu9wtTBio6J4DpB6YkRJTjIAP3BQw5qCj3Bwa2AgxJqCiPAkP/BAxJqGi/AYM8ppVQ0f4FDL5c\n",
       "ARiSEFEmA65sbgydUFEO57oQO0zXYhWlEeC6iluOMbsBpxxzOm659mTcZkYn4pZjuYUh9B8EPqBL\n",
       "gkX/E2ssfgcxMDQnN+CRZUzHK3uVYVADVndTAyw+NukrX4ArI21gduZOAGeZBEzvBjD+YBHAkZH4\n",
       "IFkPe0YCihsw4MpIwOIigKMBR0ZqmuDDwM6AIyOtf7GHYRauLNNtzLVxAQMAGJhSuQmofFwAAAAA\n",
       "SUVORK5CYII=\n",
       "\" style=\"display:inline;vertical-align:middle;\" /></a></span>"
      ],
      "text/plain": [
       "{d in Real, d < 0, a in Real, a > 0, x in Real, x > 0, a < x} |- (d / a) < (d / x)"
      ]
     },
     "metadata": {},
     "output_type": "display_data"
    }
   ],
   "source": [
    "relation = Less(a, x)\n",
    "frac(d, a).deduce_bound(relation, assumptions=assumptions+[relation])"
   ]
  },
  {
   "cell_type": "code",
   "execution_count": 74,
   "metadata": {},
   "outputs": [
    {
     "data": {
      "text/html": [
       "<span style=\"font-size:20px;\"><a class=\"ProveItLink\" href=\"../../exponentiation/__pv_it/theorems/d550e8309ef79ca46e4c9fb5617a392ea678789b0/expr.ipynb\"><img src=\"data:image/png;base64,iVBORw0KGgoAAAANSUhEUgAAADEAAAAQBAMAAABNQoq8AAAAMFBMVEX///9UVFQyMjK6urru7u4Q\n",
       "EBBERERmZmaqqqoiIiLc3NzMzMyYmJiIiIh2dnYAAABC1PP/AAAAAXRSTlMAQObYZgAAAAlwSFlz\n",
       "AAAOxAAADsQBlSsOGwAAAL1JREFUGNNjYEAHh8LyNcMOMGADCQsZDI85YJVZx8DGLYBDhn2BArLI\n",
       "tZkzFeAyCUgSRlcQehhdwKa9vbMBSHKpIJm2rWkBkLGygR2klWkBXGap5k+w/nkMrBdAMkguOOME\n",
       "otm/QPhbZwJBAkSGzQfkU1aoK9yQ9HAXpABp/wsQPieyf6qXAWl+oEYDIM17AUnGjRcoCnQYH8jV\n",
       "DBpwmeUMPAeSgYx3ZyBedEx2gIV1FkOafgNSINhlzkQOLQDcXDjPgdalcwAAAABJRU5ErkJggg==\n",
       "\" style=\"display:inline;vertical-align:middle;\" /></a>, <a class=\"ProveItLink\" href=\"../__pv_it/demonstrations/9630fc888820d32fa9d8c58c8071afc003ee4a910/expr.ipynb\"><img src=\"data:image/png;base64,iVBORw0KGgoAAAANSUhEUgAAAC8AAAARBAMAAAC/eehCAAAAMFBMVEX///9UVFQyMjK6urru7u4Q\n",
       "EBBERERmZmaqqqoiIiLc3NzMzMyYmJiIiIh2dnYAAABC1PP/AAAAAXRSTlMAQObYZgAAAAlwSFlz\n",
       "AAAOxAAADsQBlSsOGwAAALRJREFUGNNjYMAC3l1fgCbCoQUimRpYZqGK80x3AFEnGRieoYjzzgOL\n",
       "MyQyMPQ7IIn7zYUyvjMw7G8A0m/vbABx3edAxVlAEgcYGFY2sCcAuY4aMJ1c/4ASFxgY5jGwAkkG\n",
       "RlSJBwzsX6D85XCjgBL2FxhYE7BZ3t/A4H8Bw7lpDAznHRj4gfYboHrwKANDEQMD0El8G+BBog0i\n",
       "ORtYokEhduYKWoix1F3cwEAB8JwJArPhfAB0HTMe1Wq8bgAAAABJRU5ErkJggg==\n",
       "\" style=\"display:inline;vertical-align:middle;\" /></a>, <a class=\"ProveItLink\" href=\"../../ordering/__pv_it/theorems/d1323f34847310a404e8089c2c268d3c2eb89dbf0/expr.ipynb\"><img src=\"data:image/png;base64,iVBORw0KGgoAAAANSUhEUgAAADQAAAAQBAMAAACra0H4AAAAMFBMVEX///9ERES6uroQEBAyMjLc\n",
       "3NyYmJgiIiJmZmaqqqp2dnbMzMxUVFSIiIju7u4AAAAd7oVFAAAAAXRSTlMAQObYZgAAAAlwSFlz\n",
       "AAAOxAAADsQBlSsOGwAAAMtJREFUGNNjYMAAbM6CX4rFGLACRtYDTMfkcEgtYBDYg1OqlQVF6GJ5\n",
       "uQNcihFZRuUekq5zb4CMt3der5oApFn9kAzklnQFMhp4z3IUAGmWAISUSX3tA6AvAtj+8SSApJCc\n",
       "sSwPZCk3AwfYbobN5UAgADVQLg0sxnwBTD1EdvwOxgcgln4AH4hmR5bi2ArU/1DhMAMXSID3ApIU\n",
       "n8A1Bob5+5oZNMEingipBoY0RgWGF3c52yaARd4IPYCF/McARpGfyMGhJQ4JKCgAAF8xNF8aQs/g\n",
       "AAAAAElFTkSuQmCC\n",
       "\" style=\"display:inline;vertical-align:middle;\" /></a>, <a class=\"ProveItLink\" href=\"../../number_sets/real_numbers/__pv_it/theorems/0c04c146b0f7b92967ed28917fb83981f8ee0b1b0/expr.ipynb\"><img src=\"data:image/png;base64,iVBORw0KGgoAAAANSUhEUgAAADEAAAAQBAMAAABNQoq8AAAAMFBMVEX///9ERES6uroQEBAyMjLc\n",
       "3NyYmJgiIiJmZmaqqqp2dnbMzMxUVFSIiIju7u4AAAAd7oVFAAAAAXRSTlMAQObYZgAAAAlwSFlz\n",
       "AAAOxAAADsQBlSsOGwAAAMFJREFUGNNjYMAGVt0IwCrOwDKBrxS7TDoDw0Ik7pMEOFOGgWH+A4QM\n",
       "3/ILMOYPBob9ExgY3t55vWoCWOD6OqgakAzQhAbesxwFUPP7wBTrL6DMBQa2ALZ/PDArprTCZRYw\n",
       "cDNwOCAsUzkHMg0oow+ylPkCkowc1AXzQVbrB/DBnDjlKJgSZGDIf8DwUOEwAxfMh60QOpmBoQWo\n",
       "bV8zgyYDiqsZ2CfwWTMwvLjL2Qb2Dt91uH18XXc2IIXO8wQGIgEAisM3iEYrHlYAAAAASUVORK5C\n",
       "YII=\n",
       "\" style=\"display:inline;vertical-align:middle;\" /></a>, <a class=\"ProveItLink\" href=\"../../ordering/__pv_it/theorems/4aa8d696b1f407d6126de9f51a052e8d90e0848c0/expr.ipynb\"><img src=\"data:image/png;base64,iVBORw0KGgoAAAANSUhEUgAAADMAAAAQBAMAAABJt1qBAAAAMFBMVEX////MzMwyMjKqqqoiIiJm\n",
       "ZmaYmJju7u5EREQQEBC6urqIiIh2dnZUVFTc3NwAAAAqL9KcAAAAAXRSTlMAQObYZgAAAAlwSFlz\n",
       "AAAOxAAADsQBlSsOGwAAAM1JREFUGNNjYMAASTP6VWYkMGAFDW8Z1mYUYJd6w8DBeAGXFOsDBRSh\n",
       "HS4uCnCpBmSZRdsRunjLQQby3dm3ASTAp45koITRAyBj5QOO7yABpgdwqZcqX0AmsE9jYHUASyE5\n",
       "I60IRLN+YGA5AGJIugBBA0SKowzkZc4GhvoFIIEKJF2MAe1Aun4DQz5YgAXZX4EvQFIGDJeYQS7g\n",
       "3oAkVcENNJFjA7MrK1hEGS71lIEtoQvowtsH324Ei9R2FcBCvo+hQ98AOTjWtLgghxwApbZCEcpv\n",
       "FP8AAAAASUVORK5CYII=\n",
       "\" style=\"display:inline;vertical-align:middle;\" /></a>, <a class=\"ProveItLink\" href=\"../../multiplication/__pv_it/theorems/fd1125d2a818357b6ff33184c8de1f690ccc89100/expr.ipynb\"><img src=\"data:image/png;base64,iVBORw0KGgoAAAANSUhEUgAAADEAAAAQBAMAAABNQoq8AAAAMFBMVEX////MzMwyMjKqqqoiIiJm\n",
       "ZmaYmJju7u5EREQQEBC6urqIiIh2dnZUVFTc3NwAAAAqL9KcAAAAAXRSTlMAQObYZgAAAAlwSFlz\n",
       "AAAOxAAADsQBlSsOGwAAAMJJREFUGNNjYMAGzmx9gFWcgcmA3Q+7TAoDwwkkblECnNnLwGBfgJBh\n",
       "P7IBxvzKwCBvwMDAd2cfVGjLcagakAzQhJUPOL7DzA8HU3x/gDIbGNinMbA6wIwxioPLHGBg/cDA\n",
       "cgBu2aLrINOAMus3MHA2MNQvQMi0Q11gb8BQv4EhHy5hdA9MdTAw5Bcw1BswXGKGhkVKHITOZGAI\n",
       "YmDg2MDsyorqagYWA/aJQOtuH3y7EeyLLXCfssfsFUAKnZIEBiIBADXhMmKsPD8aAAAAAElFTkSu\n",
       "QmCC\n",
       "\" style=\"display:inline;vertical-align:middle;\" /></a>, <a class=\"ProveItLink\" href=\"../__pv_it/demonstrations/0c635a836c670db444fe3d06a0b3010098a1be2f0/expr.ipynb\"><img src=\"data:image/png;base64,iVBORw0KGgoAAAANSUhEUgAAADIAAAAQBAMAAACmdTG/AAAAMFBMVEX////MzMwyMjKqqqoiIiJm\n",
       "ZmaYmJju7u5EREQQEBC6urqIiIh2dnZUVFTc3NwAAAAqL9KcAAAAAXRSTlMAQObYZgAAAAlwSFlz\n",
       "AAAOxAAADsQBlSsOGwAAAKlJREFUGNNjYICBogQGHID9yAZcUgxbjuOUSkGV4ruzD26MURzE4N3X\n",
       "ZQ4zMKx8wPEdrmzRdRDJyrB3QwgD+zQGVgeETDuIzGPIL7jGwPqBgeUA3LR7YEqAIQhIcjYw1C+A\n",
       "uSAcpmQ2ENdvYMjHcDXXP4ZyhnoDhkvMD1B8yt7FO4HhAAPHBmZXVtTQYf5YOoHLgIH99sG3G9HC\n",
       "KXqDaTIDZaDEBQQc4XwAh/kv1ZavVjsAAAAASUVORK5CYII=\n",
       "\" style=\"display:inline;vertical-align:middle;\" /></a> <a class=\"ProveItLink\" href=\"../__pv_it/demonstrations/41024b7bee6514fcba20ac78c61755fd1d2741ed0/proof.ipynb\" style=\"text-decoration: none\">&nbsp;&#x22A2;&nbsp;&nbsp;</a><a class=\"ProveItLink\" href=\"../__pv_it/demonstrations/ad6a3d5ae2be336308c9f159cd0744c67d152dcf0/expr.ipynb\"><img src=\"data:image/png;base64,iVBORw0KGgoAAAANSUhEUgAAADgAAAAlBAMAAADl4DdoAAAAMFBMVEX///8yMjJUVFS6urru7u4Q\n",
       "EBBERERmZmaqqqoiIiLc3NzMzMyYmJiIiIh2dnYAAACZiqmYAAAAAXRSTlMAQObYZgAAAAlwSFlz\n",
       "AAAOxAAADsQBlSsOGwAAAPxJREFUOMtjYGDgu3uaARNARLlmMJRhykFFOR8wxGJKQkXrHbAYChMN\n",
       "wyYHFWX5i00OJvqHgYEZUxYqCnTUa0xJqCjfm7NYnIRdFAdwPIBHkuXlBXx6bz7BJ3sSr2xjFT5Z\n",
       "QxV8kinIvP8g8AFurBaS6H80B5WQ5RW8gYA3+GgEPGeCwGwqmcaldwuL/3wveb9rYGAwXcD2BVOy\n",
       "gFeXfQIDSwwDkEQHPAt4vjAdYGD/AMo06ICbgV0ASLEmMPgbYHEKK8gh/hcYzmNzp/0CFgcG/wYG\n",
       "RY4F6FJuBqoMfAwMbBc4prNj6OvfUspgAYxF3deLbmNIut/lqGlgAADkkU/CkCF2uQAAAABJRU5E\n",
       "rkJggg==\n",
       "\" style=\"display:inline;vertical-align:middle;\" /></a></span>"
      ],
      "text/plain": [
       "{c in Real, c <= 0, x in Real, x > 0, a in Real, a > 0, a >= x} |- (c / a) >= (c / x)"
      ]
     },
     "metadata": {},
     "output_type": "display_data"
    }
   ],
   "source": [
    "relation = greater_eq(a, x)\n",
    "frac(c, a).deduce_bound(relation, assumptions=assumptions+[relation])"
   ]
  },
  {
   "cell_type": "code",
   "execution_count": 75,
   "metadata": {},
   "outputs": [
    {
     "data": {
      "text/html": [
       "<span style=\"font-size:20px;\"><a class=\"ProveItLink\" href=\"../../exponentiation/__pv_it/theorems/d550e8309ef79ca46e4c9fb5617a392ea678789b0/expr.ipynb\"><img src=\"data:image/png;base64,iVBORw0KGgoAAAANSUhEUgAAADEAAAAQBAMAAABNQoq8AAAAMFBMVEX///9UVFQyMjK6urru7u4Q\n",
       "EBBERERmZmaqqqoiIiLc3NzMzMyYmJiIiIh2dnYAAABC1PP/AAAAAXRSTlMAQObYZgAAAAlwSFlz\n",
       "AAAOxAAADsQBlSsOGwAAAL1JREFUGNNjYEAHh8LyNcMOMGADCQsZDI85YJVZx8DGLYBDhn2BArLI\n",
       "tZkzFeAyCUgSRlcQehhdwKa9vbMBSHKpIJm2rWkBkLGygR2klWkBXGap5k+w/nkMrBdAMkguOOME\n",
       "otm/QPhbZwJBAkSGzQfkU1aoK9yQ9HAXpABp/wsQPieyf6qXAWl+oEYDIM17AUnGjRcoCnQYH8jV\n",
       "DBpwmeUMPAeSgYx3ZyBedEx2gIV1FkOafgNSINhlzkQOLQDcXDjPgdalcwAAAABJRU5ErkJggg==\n",
       "\" style=\"display:inline;vertical-align:middle;\" /></a>, <a class=\"ProveItLink\" href=\"../__pv_it/demonstrations/9630fc888820d32fa9d8c58c8071afc003ee4a910/expr.ipynb\"><img src=\"data:image/png;base64,iVBORw0KGgoAAAANSUhEUgAAAC8AAAARBAMAAAC/eehCAAAAMFBMVEX///9UVFQyMjK6urru7u4Q\n",
       "EBBERERmZmaqqqoiIiLc3NzMzMyYmJiIiIh2dnYAAABC1PP/AAAAAXRSTlMAQObYZgAAAAlwSFlz\n",
       "AAAOxAAADsQBlSsOGwAAALRJREFUGNNjYMAC3l1fgCbCoQUimRpYZqGK80x3AFEnGRieoYjzzgOL\n",
       "MyQyMPQ7IIn7zYUyvjMw7G8A0m/vbABx3edAxVlAEgcYGFY2sCcAuY4aMJ1c/4ASFxgY5jGwAkkG\n",
       "RlSJBwzsX6D85XCjgBL2FxhYE7BZ3t/A4H8Bw7lpDAznHRj4gfYboHrwKANDEQMD0El8G+BBog0i\n",
       "ORtYokEhduYKWoix1F3cwEAB8JwJArPhfAB0HTMe1Wq8bgAAAABJRU5ErkJggg==\n",
       "\" style=\"display:inline;vertical-align:middle;\" /></a>, <a class=\"ProveItLink\" href=\"../../ordering/__pv_it/theorems/4aa8d696b1f407d6126de9f51a052e8d90e0848c0/expr.ipynb\"><img src=\"data:image/png;base64,iVBORw0KGgoAAAANSUhEUgAAADMAAAAQBAMAAABJt1qBAAAAMFBMVEX////MzMwyMjKqqqoiIiJm\n",
       "ZmaYmJju7u5EREQQEBC6urqIiIh2dnZUVFTc3NwAAAAqL9KcAAAAAXRSTlMAQObYZgAAAAlwSFlz\n",
       "AAAOxAAADsQBlSsOGwAAAM1JREFUGNNjYMAASTP6VWYkMGAFDW8Z1mYUYJd6w8DBeAGXFOsDBRSh\n",
       "HS4uCnCpBmSZRdsRunjLQQby3dm3ASTAp45koITRAyBj5QOO7yABpgdwqZcqX0AmsE9jYHUASyE5\n",
       "I60IRLN+YGA5AGJIugBBA0SKowzkZc4GhvoFIIEKJF2MAe1Aun4DQz5YgAXZX4EvQFIGDJeYQS7g\n",
       "3oAkVcENNJFjA7MrK1hEGS71lIEtoQvowtsH324Ei9R2FcBCvo+hQ98AOTjWtLgghxwApbZCEcpv\n",
       "FP8AAAAASUVORK5CYII=\n",
       "\" style=\"display:inline;vertical-align:middle;\" /></a>, <a class=\"ProveItLink\" href=\"../../multiplication/__pv_it/theorems/fd1125d2a818357b6ff33184c8de1f690ccc89100/expr.ipynb\"><img src=\"data:image/png;base64,iVBORw0KGgoAAAANSUhEUgAAADEAAAAQBAMAAABNQoq8AAAAMFBMVEX////MzMwyMjKqqqoiIiJm\n",
       "ZmaYmJju7u5EREQQEBC6urqIiIh2dnZUVFTc3NwAAAAqL9KcAAAAAXRSTlMAQObYZgAAAAlwSFlz\n",
       "AAAOxAAADsQBlSsOGwAAAMJJREFUGNNjYMAGzmx9gFWcgcmA3Q+7TAoDwwkkblECnNnLwGBfgJBh\n",
       "P7IBxvzKwCBvwMDAd2cfVGjLcagakAzQhJUPOL7DzA8HU3x/gDIbGNinMbA6wIwxioPLHGBg/cDA\n",
       "cgBu2aLrINOAMus3MHA2MNQvQMi0Q11gb8BQv4EhHy5hdA9MdTAw5Bcw1BswXGKGhkVKHITOZGAI\n",
       "YmDg2MDsyorqagYWA/aJQOtuH3y7EeyLLXCfssfsFUAKnZIEBiIBADXhMmKsPD8aAAAAAElFTkSu\n",
       "QmCC\n",
       "\" style=\"display:inline;vertical-align:middle;\" /></a>, <a class=\"ProveItLink\" href=\"../../ordering/__pv_it/theorems/d1323f34847310a404e8089c2c268d3c2eb89dbf0/expr.ipynb\"><img src=\"data:image/png;base64,iVBORw0KGgoAAAANSUhEUgAAADQAAAAQBAMAAACra0H4AAAAMFBMVEX///9ERES6uroQEBAyMjLc\n",
       "3NyYmJgiIiJmZmaqqqp2dnbMzMxUVFSIiIju7u4AAAAd7oVFAAAAAXRSTlMAQObYZgAAAAlwSFlz\n",
       "AAAOxAAADsQBlSsOGwAAAMtJREFUGNNjYMAAbM6CX4rFGLACRtYDTMfkcEgtYBDYg1OqlQVF6GJ5\n",
       "uQNcihFZRuUekq5zb4CMt3der5oApFn9kAzklnQFMhp4z3IUAGmWAISUSX3tA6AvAtj+8SSApJCc\n",
       "sSwPZCk3AwfYbobN5UAgADVQLg0sxnwBTD1EdvwOxgcgln4AH4hmR5bi2ArU/1DhMAMXSID3ApIU\n",
       "n8A1Bob5+5oZNMEingipBoY0RgWGF3c52yaARd4IPYCF/McARpGfyMGhJQ4JKCgAAF8xNF8aQs/g\n",
       "AAAAAElFTkSuQmCC\n",
       "\" style=\"display:inline;vertical-align:middle;\" /></a>, <a class=\"ProveItLink\" href=\"../../number_sets/real_numbers/__pv_it/theorems/0c04c146b0f7b92967ed28917fb83981f8ee0b1b0/expr.ipynb\"><img src=\"data:image/png;base64,iVBORw0KGgoAAAANSUhEUgAAADEAAAAQBAMAAABNQoq8AAAAMFBMVEX///9ERES6uroQEBAyMjLc\n",
       "3NyYmJgiIiJmZmaqqqp2dnbMzMxUVFSIiIju7u4AAAAd7oVFAAAAAXRSTlMAQObYZgAAAAlwSFlz\n",
       "AAAOxAAADsQBlSsOGwAAAMFJREFUGNNjYMAGVt0IwCrOwDKBrxS7TDoDw0Ik7pMEOFOGgWH+A4QM\n",
       "3/ILMOYPBob9ExgY3t55vWoCWOD6OqgakAzQhAbesxwFUPP7wBTrL6DMBQa2ALZ/PDArprTCZRYw\n",
       "cDNwOCAsUzkHMg0oow+ylPkCkowc1AXzQVbrB/DBnDjlKJgSZGDIf8DwUOEwAxfMh60QOpmBoQWo\n",
       "bV8zgyYDiqsZ2CfwWTMwvLjL2Qb2Dt91uH18XXc2IIXO8wQGIgEAisM3iEYrHlYAAAAASUVORK5C\n",
       "YII=\n",
       "\" style=\"display:inline;vertical-align:middle;\" /></a>, <a class=\"ProveItLink\" href=\"../__pv_it/demonstrations/937300339897af3199776e5b4c6e80fc405fcc410/expr.ipynb\"><img src=\"data:image/png;base64,iVBORw0KGgoAAAANSUhEUgAAADIAAAAQBAMAAACmdTG/AAAAMFBMVEX///8AAAAAAAAAAAAAAAAA\n",
       "AAAAAAAAAAAAAAAAAAAAAAAAAAAAAAAAAAAAAAAAAAAv3aB7AAAAD3RSTlMAIquJdkTvuxBmmd1U\n",
       "zTKBpmoTAAAACXBIWXMAAA7EAAAOxAGVKw4bAAAAqUlEQVQY02NgQAE8FxmwA85dDdglWDbjkGje\n",
       "gspnVHZ0ADO6dsKEOFw0HtswMIQJsP8AcZvuwBVzMTg5rGbgyGTg2gDiMiFkJjLMb9Bk4PrAwG0A\n",
       "5kvBTXvAsBZIshUw9AdguCAFiPsdGOZjuJr1I0MHQ/8BBl0eARSfcpQyJTAYMLA78OziQoTOPRDx\n",
       "ryuB9QADh4qdkB+qDzmWOJyaw0AZ6N4NAvvgfAAWXCs+lLCGtQAAAABJRU5ErkJggg==\n",
       "\" style=\"display:inline;vertical-align:middle;\" /></a> <a class=\"ProveItLink\" href=\"../__pv_it/demonstrations/186060316ec489233d6b0b4d2f602a9f9de036e90/proof.ipynb\" style=\"text-decoration: none\">&nbsp;&#x22A2;&nbsp;&nbsp;</a><a class=\"ProveItLink\" href=\"../__pv_it/demonstrations/ed9319db384028c587b94443ad0257f2c94fa4400/expr.ipynb\"><img src=\"data:image/png;base64,iVBORw0KGgoAAAANSUhEUgAAADgAAAAlBAMAAADl4DdoAAAAMFBMVEX///8yMjJUVFS6urru7u4Q\n",
       "EBBERERmZmaqqqoiIiLc3NzMzMyYmJiIiIh2dnYAAACZiqmYAAAAAXRSTlMAQObYZgAAAAlwSFlz\n",
       "AAAOxAAADsQBlSsOGwAAAP5JREFUOMtjYGDgu3uaARNARLlmMJRhykFFOR8wxGJKQkXrHbAYChMN\n",
       "wyYHFWX5i00OJvqHgYEZUxYqCnTUa0xJqCjfm7NYnIRdFB/gkMItxzMdt2G883DL+c3Fbab7HNxy\n",
       "ThJ4HMqEKfkfBD6AmcvnoIr+J9pB+L2CPxCAwSfNQE/gORMEZlPJNC69WxcwRX0veb9rYGAwXcD2\n",
       "BVOygFeXfQIDSwwDkMQIqQU8X5gOMLB/AGUadMDNwC4ApFgTGPwNsDiFFeQQ/wsM57G5034BiwOD\n",
       "fwODIscCdCk3A1UGPgYGtgsc09kx9PVvKWWwAGY23deLbmMmxLscNQ0MABJISaMz1pBmAAAAAElF\n",
       "TkSuQmCC\n",
       "\" style=\"display:inline;vertical-align:middle;\" /></a></span>"
      ],
      "text/plain": [
       "{c in Real, c <= 0, a in Real, a > 0, x in Real, x > 0, a <= x} |- (c / a) <= (c / x)"
      ]
     },
     "metadata": {},
     "output_type": "display_data"
    }
   ],
   "source": [
    "relation = LessEq(a, x)\n",
    "frac(c, a).deduce_bound(relation, assumptions=assumptions+[relation])"
   ]
  },
  {
   "cell_type": "markdown",
   "metadata": {},
   "source": [
    "Bound numerator and denominator simultaneously"
   ]
  },
  {
   "cell_type": "code",
   "execution_count": 76,
   "metadata": {},
   "outputs": [
    {
     "data": {
      "text/html": [
       "<span style=\"font-size:20px;\"><a class=\"ProveItLink\" href=\"../../ordering/__pv_it/theorems/4aa8d696b1f407d6126de9f51a052e8d90e0848c0/expr.ipynb\"><img src=\"data:image/png;base64,iVBORw0KGgoAAAANSUhEUgAAADMAAAAQBAMAAABJt1qBAAAAMFBMVEX////MzMwyMjKqqqoiIiJm\n",
       "ZmaYmJju7u5EREQQEBC6urqIiIh2dnZUVFTc3NwAAAAqL9KcAAAAAXRSTlMAQObYZgAAAAlwSFlz\n",
       "AAAOxAAADsQBlSsOGwAAAM1JREFUGNNjYMAASTP6VWYkMGAFDW8Z1mYUYJd6w8DBeAGXFOsDBRSh\n",
       "HS4uCnCpBmSZRdsRunjLQQby3dm3ASTAp45koITRAyBj5QOO7yABpgdwqZcqX0AmsE9jYHUASyE5\n",
       "I60IRLN+YGA5AGJIugBBA0SKowzkZc4GhvoFIIEKJF2MAe1Aun4DQz5YgAXZX4EvQFIGDJeYQS7g\n",
       "3oAkVcENNJFjA7MrK1hEGS71lIEtoQvowtsH324Ei9R2FcBCvo+hQ98AOTjWtLgghxwApbZCEcpv\n",
       "FP8AAAAASUVORK5CYII=\n",
       "\" style=\"display:inline;vertical-align:middle;\" /></a>, <a class=\"ProveItLink\" href=\"../../multiplication/__pv_it/theorems/fd1125d2a818357b6ff33184c8de1f690ccc89100/expr.ipynb\"><img src=\"data:image/png;base64,iVBORw0KGgoAAAANSUhEUgAAADEAAAAQBAMAAABNQoq8AAAAMFBMVEX////MzMwyMjKqqqoiIiJm\n",
       "ZmaYmJju7u5EREQQEBC6urqIiIh2dnZUVFTc3NwAAAAqL9KcAAAAAXRSTlMAQObYZgAAAAlwSFlz\n",
       "AAAOxAAADsQBlSsOGwAAAMJJREFUGNNjYMAGzmx9gFWcgcmA3Q+7TAoDwwkkblECnNnLwGBfgJBh\n",
       "P7IBxvzKwCBvwMDAd2cfVGjLcagakAzQhJUPOL7DzA8HU3x/gDIbGNinMbA6wIwxioPLHGBg/cDA\n",
       "cgBu2aLrINOAMus3MHA2MNQvQMi0Q11gb8BQv4EhHy5hdA9MdTAw5Bcw1BswXGKGhkVKHITOZGAI\n",
       "YmDg2MDsyorqagYWA/aJQOtuH3y7EeyLLXCfssfsFUAKnZIEBiIBADXhMmKsPD8aAAAAAElFTkSu\n",
       "QmCC\n",
       "\" style=\"display:inline;vertical-align:middle;\" /></a>, <a class=\"ProveItLink\" href=\"../__pv_it/demonstrations/4c5fb6064ed81f83132c10d4b7f508806e4b6da20/expr.ipynb\"><img src=\"data:image/png;base64,iVBORw0KGgoAAAANSUhEUgAAADMAAAAQBAMAAABJt1qBAAAAMFBMVEX///9mZmYQEBCqqqq6urpU\n",
       "VFRERER2dnaIiIgyMjLu7u6YmJjc3NwiIiLMzMwAAAD9v49RAAAAAXRSTlMAQObYZgAAAAlwSFlz\n",
       "AAAOxAAADsQBlSsOGwAAAMRJREFUGNNjYMAAO9Xy56ptYMAKEo4yuG5bgF3qOAMbXwAuKcYDE1CE\n",
       "2u7enQCXSkCW8exC6GJdBTKQ7+6D0yABnllIBj6zPABkrGxPB1vJeQAudWjuX7AJpxjYwQ7lRHLG\n",
       "7pUQFlcVmHp0FwgSIFJsqyFePgFRsQxJF59AFojBsoEBbCAvsr/kjoEYxgwMYGdwNCBJLeMAmsiX\n",
       "nlH7ACwyGS51kIF7QwoDAzuD0RSIyNKUBbCQz2FIm2+AHBzuuXeRQw4AFjNAQQWGph8AAAAASUVO\n",
       "RK5CYII=\n",
       "\" style=\"display:inline;vertical-align:middle;\" /></a>, <a class=\"ProveItLink\" href=\"../__pv_it/demonstrations/d92cdcd444ac2021371bcc316e1a6b8fd5671e3e0/expr.ipynb\"><img src=\"data:image/png;base64,iVBORw0KGgoAAAANSUhEUgAAADEAAAAQBAMAAABNQoq8AAAAMFBMVEX///+YmJhERESIiIhUVFTc\n",
       "3NwiIiJ2dnbu7u66urqqqqpmZmYQEBAyMjLMzMwAAAA7oY0NAAAAAXRSTlMAQObYZgAAAAlwSFlz\n",
       "AAAOxAAADsQBlSsOGwAAALJJREFUGNNjYGBg4LuzgQEH4F+AS2Z+Ay6ZMhDRK4BF5jaI4CgzQBNm\n",
       "dbf7BWGZVcDEnuWxAk2YE8D0AyogtgNCc1wuKgGSBxm4L8DUrt0KMaaBAaid+wMDWwHc6LkeELod\n",
       "6FoeBYb+CQgZDYgmkGP6DRjk4RJrXSH0RAYOoMwCBl+uAKgLINYwcC1gYGFgYDLgyuZGc/WjIvM8\n",
       "oNuc60LswE41g/u0gOvsBCQftwkwEAkAK2ElAXPOKxIAAAAASUVORK5CYII=\n",
       "\" style=\"display:inline;vertical-align:middle;\" /></a>, <a class=\"ProveItLink\" href=\"../__pv_it/demonstrations/fe553994aca4dec5c87cf7a983cda9b2748426220/expr.ipynb\"><img src=\"data:image/png;base64,iVBORw0KGgoAAAANSUhEUgAAADEAAAAQBAMAAABNQoq8AAAAMFBMVEX///+YmJhERESIiIhUVFTc\n",
       "3NwiIiJ2dnbu7u66urqqqqpmZmYQEBAyMjLMzMwAAAA7oY0NAAAAAXRSTlMAQObYZgAAAAlwSFlz\n",
       "AAAOxAAADsQBlSsOGwAAANNJREFUGNNjYGBg4LuzgQEVlFsHQBj8C1AleBdwpEJY8xtQZcQYGIog\n",
       "rDK4GNdVEKnCwLAeovg2TIIxGyzwm4HhPdACVne7X1AJ5nSwBAdIRoCBYU4A0w+IRHsyhGb9DpQx\n",
       "YOA4yMB9ASwQnciAJFPAwP2Bga0AxGe5BbONAygz34CBR4GhfwKqDMgF6xcw9BswyDOgmsagxMAg\n",
       "38DQv4DBlysAxQUMMgwMexkYmAy4srmhIs3JEP+xLeA4B7TOuS7EDu5TqIe2mzxAC2MGxqsMhAEA\n",
       "MJ0yIJVCosAAAAAASUVORK5CYII=\n",
       "\" style=\"display:inline;vertical-align:middle;\" /></a>, <a class=\"ProveItLink\" href=\"../__pv_it/demonstrations/41c3ad9f29c40b69fd61c49f41684c1b813e9e850/expr.ipynb\"><img src=\"data:image/png;base64,iVBORw0KGgoAAAANSUhEUgAAADMAAAAQBAMAAABJt1qBAAAAMFBMVEX///+YmJhERESIiIhUVFTc\n",
       "3NwiIiJ2dnbu7u66urqqqqpmZmYQEBAyMjLMzMwAAAA7oY0NAAAAAXRSTlMAQObYZgAAAAlwSFlz\n",
       "AAAOxAAADsQBlSsOGwAAANxJREFUGNNjYMAAsof0rx0SgLD57mxAkVMIYZgi1ABh8y9AlQpnYOJz\n",
       "gLDnN6BLcQdcgLDLIJRRWtoFuJQCROw2mJxrgdDF0gEykNXd7hdIgPUGkoGP1gYAGXMCmH6ABHgD\n",
       "4FIx176BTOA4yMANtoEXyRmCvSCa+wMDWwGI8SYNCBQgUkyNIC/zKDD0TwAJNCHp4tugAaT7DRjk\n",
       "wQJsyP7aFwSSWsDgywVyAbMBklQTM9BEJgOubG6wyC24VDQDo4Am0IXOdSF2YJEWzQZYyKsyKN1H\n",
       "CdfpamkXkLgAdQoz5LsD3PAAAAAASUVORK5CYII=\n",
       "\" style=\"display:inline;vertical-align:middle;\" /></a>, <a class=\"ProveItLink\" href=\"../../ordering/__pv_it/theorems/d1323f34847310a404e8089c2c268d3c2eb89dbf0/expr.ipynb\"><img src=\"data:image/png;base64,iVBORw0KGgoAAAANSUhEUgAAADQAAAAQBAMAAACra0H4AAAAMFBMVEX///9ERES6uroQEBAyMjLc\n",
       "3NyYmJgiIiJmZmaqqqp2dnbMzMxUVFSIiIju7u4AAAAd7oVFAAAAAXRSTlMAQObYZgAAAAlwSFlz\n",
       "AAAOxAAADsQBlSsOGwAAAMtJREFUGNNjYMAAbM6CX4rFGLACRtYDTMfkcEgtYBDYg1OqlQVF6GJ5\n",
       "uQNcihFZRuUekq5zb4CMt3der5oApFn9kAzklnQFMhp4z3IUAGmWAISUSX3tA6AvAtj+8SSApJCc\n",
       "sSwPZCk3AwfYbobN5UAgADVQLg0sxnwBTD1EdvwOxgcgln4AH4hmR5bi2ArU/1DhMAMXSID3ApIU\n",
       "n8A1Bob5+5oZNMEingipBoY0RgWGF3c52yaARd4IPYCF/McARpGfyMGhJQ4JKCgAAF8xNF8aQs/g\n",
       "AAAAAElFTkSuQmCC\n",
       "\" style=\"display:inline;vertical-align:middle;\" /></a>, <a class=\"ProveItLink\" href=\"../__pv_it/demonstrations/d2a7966a0ecdbabf7c84da52ab0220ff0e97e5820/expr.ipynb\"><img src=\"data:image/png;base64,iVBORw0KGgoAAAANSUhEUgAAADIAAAAOBAMAAACfqVJUAAAAMFBMVEX////MzMwyMjKqqqoiIiJm\n",
       "ZmaYmJju7u5EREQQEBC6urqIiIh2dnZUVFTc3NwAAAAqL9KcAAAAAXRSTlMAQObYZgAAAAlwSFlz\n",
       "AAAOxAAADsQBlSsOGwAAAKhJREFUGNNjYCAMihJwybAf2YAmwndnH1Roy3GYot3XZQ4zMKx8wPEd\n",
       "KpISDqFZGfZuCGFgn8bA6gDTbxQHpvIY8guuMbB+YGA5ADd60XUQKcAQBCQ5GxjqFyBk2iH0bCCu\n",
       "38CQD5cwugehuf4xlDPUGzBcYn4AdQHEGvYu3gkMBxg4NjC7sqK6mvlj6QQuAwb22wffbgSr3ALz\n",
       "KXv0BtNkJB+XJDAQCQCP8S1VUlq5AAAAAABJRU5ErkJggg==\n",
       "\" style=\"display:inline;vertical-align:middle;\" /></a> <a class=\"ProveItLink\" href=\"../__pv_it/demonstrations/c4b85cbe2bba87d365a597e88644a0c6e73dbdc80/proof.ipynb\" style=\"text-decoration: none\">&nbsp;&#x22A2;&nbsp;&nbsp;</a><a class=\"ProveItLink\" href=\"../__pv_it/demonstrations/e0187e14ee84a77bf4a49beb67e55d14248b0b2c0/expr.ipynb\"><img src=\"data:image/png;base64,iVBORw0KGgoAAAANSUhEUgAAADgAAAAlBAMAAADl4DdoAAAAMFBMVEX///8AAAAAAAAAAAAAAAAA\n",
       "AAAAAAAAAAAAAAAAAAAAAAAAAAAAAAAAAAAAAAAAAAAv3aB7AAAAD3RSTlMAIquJdkTvuxBmmd1U\n",
       "zTKBpmoTAAAACXBIWXMAAA7EAAAOxAGVKw4bAAABFklEQVQ4y2NgYFR2dGDAAC1OfcYHGBjCBNh/\n",
       "YEouYFHh2sDAkckAJNEBpwDnD6YJDFwfGLgNMCT5GLguACm2Aob+AExjGdhADul3YJiPRY4hXoCj\n",
       "gaH/AIMujwC6VHuAGgMzAwO7A88uLgx9518sY4hhYOBQsRPyw5DscuFZeYCBToDnIm45zl0NOOVY\n",
       "NuOWa96C20ypnegi/0HgA4jFdAdN9D+SMmRJYowl1kHAZLWlAY8sJ4ZH+a4tQMhiBB8/vqiLx2eT\n",
       "NT5H3sIpw6js9wdTlG/3A0kGXHml17lYgQGcVy5gSkowMANdiT2vADVZ4MkrIgy48wrrBAagsdjz\n",
       "CsMZBgYFXHmFr7jE+gGuvMLMcOwqAwMApwtKsFrUkRIAAAAASUVORK5CYII=\n",
       "\" style=\"display:inline;vertical-align:middle;\" /></a></span>"
      ],
      "text/plain": [
       "{a in Real, a > 0, z in Real, d > z, d < 0, d in Real, x in Real, a > x} |- (a / d) < (x / z)"
      ]
     },
     "metadata": {},
     "output_type": "display_data"
    }
   ],
   "source": [
    "# Here, we automatically prove that z < 0 indirectly.\n",
    "relations = [greater(d, z), greater(a, x)]\n",
    "frac(a, d).deduce_bound(relations, assumptions=assumptions+relations)"
   ]
  },
  {
   "cell_type": "code",
   "execution_count": 77,
   "metadata": {},
   "outputs": [
    {
     "data": {
      "text/html": [
       "<span style=\"font-size:20px;\"><a class=\"ProveItLink\" href=\"../../exponentiation/__pv_it/theorems/d550e8309ef79ca46e4c9fb5617a392ea678789b0/expr.ipynb\"><img src=\"data:image/png;base64,iVBORw0KGgoAAAANSUhEUgAAADEAAAAQBAMAAABNQoq8AAAAMFBMVEX///9UVFQyMjK6urru7u4Q\n",
       "EBBERERmZmaqqqoiIiLc3NzMzMyYmJiIiIh2dnYAAABC1PP/AAAAAXRSTlMAQObYZgAAAAlwSFlz\n",
       "AAAOxAAADsQBlSsOGwAAAL1JREFUGNNjYEAHh8LyNcMOMGADCQsZDI85YJVZx8DGLYBDhn2BArLI\n",
       "tZkzFeAyCUgSRlcQehhdwKa9vbMBSHKpIJm2rWkBkLGygR2klWkBXGap5k+w/nkMrBdAMkguOOME\n",
       "otm/QPhbZwJBAkSGzQfkU1aoK9yQ9HAXpABp/wsQPieyf6qXAWl+oEYDIM17AUnGjRcoCnQYH8jV\n",
       "DBpwmeUMPAeSgYx3ZyBedEx2gIV1FkOafgNSINhlzkQOLQDcXDjPgdalcwAAAABJRU5ErkJggg==\n",
       "\" style=\"display:inline;vertical-align:middle;\" /></a>, <a class=\"ProveItLink\" href=\"../__pv_it/demonstrations/9630fc888820d32fa9d8c58c8071afc003ee4a910/expr.ipynb\"><img src=\"data:image/png;base64,iVBORw0KGgoAAAANSUhEUgAAAC8AAAARBAMAAAC/eehCAAAAMFBMVEX///9UVFQyMjK6urru7u4Q\n",
       "EBBERERmZmaqqqoiIiLc3NzMzMyYmJiIiIh2dnYAAABC1PP/AAAAAXRSTlMAQObYZgAAAAlwSFlz\n",
       "AAAOxAAADsQBlSsOGwAAALRJREFUGNNjYMAC3l1fgCbCoQUimRpYZqGK80x3AFEnGRieoYjzzgOL\n",
       "MyQyMPQ7IIn7zYUyvjMw7G8A0m/vbABx3edAxVlAEgcYGFY2sCcAuY4aMJ1c/4ASFxgY5jGwAkkG\n",
       "RlSJBwzsX6D85XCjgBL2FxhYE7BZ3t/A4H8Bw7lpDAznHRj4gfYboHrwKANDEQMD0El8G+BBog0i\n",
       "ORtYokEhduYKWoix1F3cwEAB8JwJArPhfAB0HTMe1Wq8bgAAAABJRU5ErkJggg==\n",
       "\" style=\"display:inline;vertical-align:middle;\" /></a>, <a class=\"ProveItLink\" href=\"../../ordering/__pv_it/theorems/4aa8d696b1f407d6126de9f51a052e8d90e0848c0/expr.ipynb\"><img src=\"data:image/png;base64,iVBORw0KGgoAAAANSUhEUgAAADMAAAAQBAMAAABJt1qBAAAAMFBMVEX////MzMwyMjKqqqoiIiJm\n",
       "ZmaYmJju7u5EREQQEBC6urqIiIh2dnZUVFTc3NwAAAAqL9KcAAAAAXRSTlMAQObYZgAAAAlwSFlz\n",
       "AAAOxAAADsQBlSsOGwAAAM1JREFUGNNjYMAASTP6VWYkMGAFDW8Z1mYUYJd6w8DBeAGXFOsDBRSh\n",
       "HS4uCnCpBmSZRdsRunjLQQby3dm3ASTAp45koITRAyBj5QOO7yABpgdwqZcqX0AmsE9jYHUASyE5\n",
       "I60IRLN+YGA5AGJIugBBA0SKowzkZc4GhvoFIIEKJF2MAe1Aun4DQz5YgAXZX4EvQFIGDJeYQS7g\n",
       "3oAkVcENNJFjA7MrK1hEGS71lIEtoQvowtsH324Ei9R2FcBCvo+hQ98AOTjWtLgghxwApbZCEcpv\n",
       "FP8AAAAASUVORK5CYII=\n",
       "\" style=\"display:inline;vertical-align:middle;\" /></a>, <a class=\"ProveItLink\" href=\"../../multiplication/__pv_it/theorems/fd1125d2a818357b6ff33184c8de1f690ccc89100/expr.ipynb\"><img src=\"data:image/png;base64,iVBORw0KGgoAAAANSUhEUgAAADEAAAAQBAMAAABNQoq8AAAAMFBMVEX////MzMwyMjKqqqoiIiJm\n",
       "ZmaYmJju7u5EREQQEBC6urqIiIh2dnZUVFTc3NwAAAAqL9KcAAAAAXRSTlMAQObYZgAAAAlwSFlz\n",
       "AAAOxAAADsQBlSsOGwAAAMJJREFUGNNjYMAGzmx9gFWcgcmA3Q+7TAoDwwkkblECnNnLwGBfgJBh\n",
       "P7IBxvzKwCBvwMDAd2cfVGjLcagakAzQhJUPOL7DzA8HU3x/gDIbGNinMbA6wIwxioPLHGBg/cDA\n",
       "cgBu2aLrINOAMus3MHA2MNQvQMi0Q11gb8BQv4EhHy5hdA9MdTAw5Bcw1BswXGKGhkVKHITOZGAI\n",
       "YmDg2MDsyorqagYWA/aJQOtuH3y7EeyLLXCfssfsFUAKnZIEBiIBADXhMmKsPD8aAAAAAElFTkSu\n",
       "QmCC\n",
       "\" style=\"display:inline;vertical-align:middle;\" /></a>, <a class=\"ProveItLink\" href=\"../__pv_it/demonstrations/4c5fb6064ed81f83132c10d4b7f508806e4b6da20/expr.ipynb\"><img src=\"data:image/png;base64,iVBORw0KGgoAAAANSUhEUgAAADMAAAAQBAMAAABJt1qBAAAAMFBMVEX///9mZmYQEBCqqqq6urpU\n",
       "VFRERER2dnaIiIgyMjLu7u6YmJjc3NwiIiLMzMwAAAD9v49RAAAAAXRSTlMAQObYZgAAAAlwSFlz\n",
       "AAAOxAAADsQBlSsOGwAAAMRJREFUGNNjYMAAO9Xy56ptYMAKEo4yuG5bgF3qOAMbXwAuKcYDE1CE\n",
       "2u7enQCXSkCW8exC6GJdBTKQ7+6D0yABnllIBj6zPABkrGxPB1vJeQAudWjuX7AJpxjYwQ7lRHLG\n",
       "7pUQFlcVmHp0FwgSIFJsqyFePgFRsQxJF59AFojBsoEBbCAvsr/kjoEYxgwMYGdwNCBJLeMAmsiX\n",
       "nlH7ACwyGS51kIF7QwoDAzuD0RSIyNKUBbCQz2FIm2+AHBzuuXeRQw4AFjNAQQWGph8AAAAASUVO\n",
       "RK5CYII=\n",
       "\" style=\"display:inline;vertical-align:middle;\" /></a>, <a class=\"ProveItLink\" href=\"../__pv_it/demonstrations/dfa3bf9e48ef3c548fb06ffb1db21b69a2b329e70/expr.ipynb\"><img src=\"data:image/png;base64,iVBORw0KGgoAAAANSUhEUgAAADEAAAAQBAMAAABNQoq8AAAAMFBMVEX////MzMwyMjKqqqoiIiJm\n",
       "ZmaYmJju7u5EREQQEBC6urqIiIh2dnZUVFTc3NwAAAAqL9KcAAAAAXRSTlMAQObYZgAAAAlwSFlz\n",
       "AAAOxAAADsQBlSsOGwAAAKJJREFUGNNjYEABzHoM2AGbawF2CW4fHBI13qh8vjv7NoAZpW5wMRFH\n",
       "vgQGhpUPOL6DeLXKcAl27RNngeQ0BlYHEJcXIcNXwHCcgYH1AwPLATD/qRuSlUCncDYw1C9AdwEf\n",
       "yOb6DQz5GK5exsAOlDFguMT8ANWnzAYMvAwMHBuYXVkRoaMIIiVO7HEEuu32wbcb0bx8gHnSAgbK\n",
       "QIkLCDjC+QCnoSVKs7stQgAAAABJRU5ErkJggg==\n",
       "\" style=\"display:inline;vertical-align:middle;\" /></a>, <a class=\"ProveItLink\" href=\"../__pv_it/demonstrations/41c3ad9f29c40b69fd61c49f41684c1b813e9e850/expr.ipynb\"><img src=\"data:image/png;base64,iVBORw0KGgoAAAANSUhEUgAAADMAAAAQBAMAAABJt1qBAAAAMFBMVEX///+YmJhERESIiIhUVFTc\n",
       "3NwiIiJ2dnbu7u66urqqqqpmZmYQEBAyMjLMzMwAAAA7oY0NAAAAAXRSTlMAQObYZgAAAAlwSFlz\n",
       "AAAOxAAADsQBlSsOGwAAANxJREFUGNNjYMAAsof0rx0SgLD57mxAkVMIYZgi1ABh8y9AlQpnYOJz\n",
       "gLDnN6BLcQdcgLDLIJRRWtoFuJQCROw2mJxrgdDF0gEykNXd7hdIgPUGkoGP1gYAGXMCmH6ABHgD\n",
       "4FIx176BTOA4yMANtoEXyRmCvSCa+wMDWwGI8SYNCBQgUkyNIC/zKDD0TwAJNCHp4tugAaT7DRjk\n",
       "wQJsyP7aFwSSWsDgywVyAbMBklQTM9BEJgOubG6wyC24VDQDo4Am0IXOdSF2YJEWzQZYyKsyKN1H\n",
       "CdfpamkXkLgAdQoz5LsD3PAAAAAASUVORK5CYII=\n",
       "\" style=\"display:inline;vertical-align:middle;\" /></a>, <a class=\"ProveItLink\" href=\"../__pv_it/demonstrations/6ee690ab7b1f5c3506068de6251757d48a32a96b0/expr.ipynb\"><img src=\"data:image/png;base64,iVBORw0KGgoAAAANSUhEUgAAADAAAAARBAMAAABp3DInAAAAMFBMVEX///8AAAAAAAAAAAAAAAAA\n",
       "AAAAAAAAAAAAAAAAAAAAAAAAAAAAAAAAAAAAAAAAAAAv3aB7AAAAD3RSTlMAiXZmMiLdVJm77xBE\n",
       "zatgdeJyAAAACXBIWXMAAA7EAAAOxAGVKw4bAAAAsUlEQVQY02NgwAp8V6Dy2a/CWN9RxJkzNkBZ\n",
       "PL+RxZkSYeIMjAlI4huTEGzeBiAhpOwAYu9IhgvHCfkXMDCEFXBMAHL2XYeL8yxlmA80NJGBSwHI\n",
       "40NI7DJg6GVg4IDZHwE3qh+kmoFrAoblKxm4/zAw7FdAdy73JwbmDwwM/AYMDAdQPMj9nYHvQikD\n",
       "0EmMDvAguQIiJzGUNQD9IWisjRaC+xRdHzkwkA+2pYFACpwPAN5vKn2eykhRAAAAAElFTkSuQmCC\n",
       "\" style=\"display:inline;vertical-align:middle;\" /></a> <a class=\"ProveItLink\" href=\"../__pv_it/demonstrations/d052a3d039c7a6adf7dbddf6a289d27e828b42560/proof.ipynb\" style=\"text-decoration: none\">&nbsp;&#x22A2;&nbsp;&nbsp;</a><a class=\"ProveItLink\" href=\"../__pv_it/demonstrations/3e77204f0d5438e3da2e18f69d75569c225b90c80/expr.ipynb\"><img src=\"data:image/png;base64,iVBORw0KGgoAAAANSUhEUgAAADcAAAArBAMAAAAu4Q2VAAAAMFBMVEX///8yMjJUVFS6urru7u4Q\n",
       "EBBERERmZmaqqqoiIiLc3NzMzMyYmJiIiIh2dnYAAACZiqmYAAAAAXRSTlMAQObYZgAAAAlwSFlz\n",
       "AAAOxAAADsQBlSsOGwAAAQpJREFUOMtjYMAFuEULGHAD/gY8kvYOeCRf4pFjEAcRfHdPY8pw6d3+\n",
       "AaJmMJRhSpouYPsCpDgfMMRiyLHEMLALAOl6bI5i/wDSxMAQhs0xrAkM/gZAA/5ik/S/wHAeRP9h\n",
       "YGDGlGxgUORYwABy6msMSbYLHNPZQd58cxbTSSy6rxfdZiANNC7ALXeyBLfczSc4pVheXsAtV3kA\n",
       "t5wivnSBV5ILw9j/IPAB3UHIosR4hUAgAINvAwMdActMMKCHnVx6t7DEIvfMDWsQWQYNON7LU4Bk\n",
       "mQmYkksY+BwQWQbDY08QWQYDrEXOMmiA+QCDAyLLoIEOBgYFRJZB80le7ssNuLIMH0OrMAMDAFiI\n",
       "VZGPC/XIAAAAAElFTkSuQmCC\n",
       "\" style=\"display:inline;vertical-align:middle;\" /></a></span>"
      ],
      "text/plain": [
       "{c in Real, c <= 0, a in Real, a > 0, z in Real, a <= z, d in Real, c <= d} |- (c / a) <= (d / z)"
      ]
     },
     "metadata": {},
     "output_type": "display_data"
    }
   ],
   "source": [
    "# Here, we automatically prove that z > 0 indirectly.\n",
    "relations = [LessEq(a, z), LessEq(c, d)]\n",
    "frac(c, a).deduce_bound(relations, assumptions=assumptions+relations)"
   ]
  },
  {
   "cell_type": "markdown",
   "metadata": {},
   "source": [
    "## Distribution"
   ]
  },
  {
   "cell_type": "code",
   "execution_count": 78,
   "metadata": {},
   "outputs": [
    {
     "data": {
      "text/html": [
       "<strong id=\"defaults.assumptions\">defaults.assumptions:</strong> <a class=\"ProveItLink\" href=\"../__pv_it/demonstrations/c87fa4e1963836541df77ce10d4b181aadebc9b20/expr.ipynb\"><img src=\"data:image/png;base64,iVBORw0KGgoAAAANSUhEUgAAASsAAAAVCAMAAAApfTjvAAAAPFBMVEX///8AAAAAAAAAAAAAAAAA\n",
       "AAAAAAAAAAAAAAAAAAAAAAAAAAAAAAAAAAAAAAAAAAAAAAAAAAAAAAAAAAAo1xBWAAAAE3RSTlMA\n",
       "InZUiRDNmWbv3US7qzLn9enz+YF6hwAAAAlwSFlzAAAOxAAADsQBlSsOGwAAAuZJREFUWMPtmGmT\n",
       "pCAMhiFyC+zh//+vC8QD5RiVrtmqrc2H6epun07IvDGJhASj5L/1bc8QTPchzqwRAqhnT929J0fQ\n",
       "56zklQ9nwNfpQQTgtAr+5WJlHo/V5h054BTNCy0/ynqbv2MMZNIUqHRQcT9qCTMmVl1cC/mWHHCK\n",
       "tkwfZa3PjxW+5yYlS0S5SXU7ai+JXRXq5P2Au+SAU6yOhX+S9S57o1K1sKQ0FXndEbA1wQ7dOU42\n",
       "hXLVd3pBm+SA07VKzIfYVVZ5n7MpcRMeTnMyNUtwFnDJgCW0Loqr0wJtkgNOi+ofYbefcKdqSd97\n",
       "LBqhiNzu7NQxoJC1SXHVCnWk0U2EA3BTG22TIc8Ayr9xmiL2R/WPsPtBclnxLVdJkszFdGFGdbjM\n",
       "ZrUkiqkr+J2rBcSXECZfaBNtkoSaEK+0L5wWEY+w0iT78TP+3bRFF4a5SgpSghjMLY+tNSBZistz\n",
       "yX3OOBtWtIYm2iSJYX2yja4RC/IJtpruPVfpZdJEz5jYZY98/Z9os5rNy78qaXS6sDbaJM9N4ZHT\n",
       "S8Qj7KY2eSkXho0LMGVbrrRNX87ZfFm6sEdbKcUx79VfQVukPn/6xOk14hG2UcV4v5rwYLNea5Cn\n",
       "3KklT0Clyo9xhczX6SqTiLlLottXTsuIR9h0v/r1G3W590KLkxUebDLEAtLxuE6Q6dgSoToGu6zs\n",
       "tjAWv90CmmiLVOdz3HdaRjzCkn00z03p4w4TJv/YClMKIWZOEnke8MtBUYT9iMcrU/tbR75w4tMO\n",
       "UUHrJHZA5l84LSMeYaNwylEsFh3XGF0YrjxKlztgnjrItiHu7Mwra7teDO6TxBi+XsnOm1INrZJh\n",
       "OVUqnyCfOL1GPMLWZBV3bgZuvcgE8RvfHqKZPa0M5bDA36LvyQ46xH7xuIWabSl8aewvkCNojxW8\n",
       "/7RDFevis+do8P3kCNpj1Reyss3B5OZDOPL95AjaY01fVpug6Ij7f8V8P8kxVX8AcRIh0BQDqf8A\n",
       "AAAASUVORK5CYII=\n",
       "\" style=\"display:inline;vertical-align:middle;\" /></a><br>"
      ],
      "text/plain": [
       "<IPython.core.display.HTML object>"
      ]
     },
     "metadata": {},
     "output_type": "display_data"
    }
   ],
   "source": [
    "defaults.assumptions = [InSet(_x, Complex) for _x in (a, b, c, d)] + [NotEquals(d, zero)]"
   ]
  },
  {
   "cell_type": "code",
   "execution_count": 79,
   "metadata": {},
   "outputs": [
    {
     "data": {
      "text/html": [
       "<span style=\"font-size:20px;\"><a class=\"ProveItLink\" href=\"../__pv_it/theorems/e9f87a0977d5044ea8daf1040d2f219396bb3d5b0/expr.ipynb\"><img src=\"data:image/png;base64,iVBORw0KGgoAAAANSUhEUgAAADMAAAAQBAMAAABJt1qBAAAAMFBMVEX////MzMwyMjKqqqoiIiJm\n",
       "ZmaYmJju7u5EREQQEBC6urqIiIh2dnZUVFTc3NwAAAAqL9KcAAAAAXRSTlMAQObYZgAAAAlwSFlz\n",
       "AAAOxAAADsQBlSsOGwAAANFJREFUGNNjYMACalqU9slgk2DgvpnAHt+KVSp6DQMDG1YpxoB2IHkV\n",
       "RWyHi4sCkOItaACSZcgyi7ZDaA6+AKgI3519G8C0OlTgLeMBKGvlA47vIJrpAVRAhisBwmCfxsDq\n",
       "AJaCGfyUawOEwfqBgQVsgKQLEDSA7YIayNnAUL8AxKiA6eIAuxAI6jcw5IMZLDApLrC/uIBSBgyX\n",
       "mEEu4N4AD421QCIIqH0DsysrWEQZHoZNcewmQL+x3z74diNYpLarABbynV/iUANvTQs4oGAAAKqD\n",
       "MEJAsWyMAAAAAElFTkSuQmCC\n",
       "\" style=\"display:inline;vertical-align:middle;\" /></a>, <a class=\"ProveItLink\" href=\"../__pv_it/theorems/a259ec76dfb0a5be60b7c83d797520fa82c1dba60/expr.ipynb\"><img src=\"data:image/png;base64,iVBORw0KGgoAAAANSUhEUgAAADEAAAAQBAMAAABNQoq8AAAAMFBMVEX///+YmJjMzMzc3NyIiIhU\n",
       "VFR2dna6urqqqqpmZmYyMjIiIiIQEBBERETu7u4AAAD7tRWPAAAAAXRSTlMAQObYZgAAAAlwSFlz\n",
       "AAAOxAAADsQBlSsOGwAAANtJREFUGNNjYMAEz26vclZjYOC7swFNgiVGgG/+TSCDawKazJQyBgZG\n",
       "kAx/A6oE04R7QDISiOsfQIV8d+9eAKRYH1wAkg+BOBsqUeUHoXmZYcYvdYkAUczroHxTpgQIg+/X\n",
       "g/cGIIcYQGXU2AUgDI5/DDwOIBmYCyzZHSAMzgUM/CDtOruB4ALYHqhp3AkM9SB3v4Xp4QW7DeKd\n",
       "+SB3c8Nk2MH+YQfKKPAdBIeJAzwMSoHELKDHBHgh7l8BD7dbk/m6gWJ8YRMhAk+vwwLj2Z3fk1EC\n",
       "rOw2OHRgAAASXDjITT81JQAAAABJRU5ErkJggg==\n",
       "\" style=\"display:inline;vertical-align:middle;\" /></a>, <a class=\"ProveItLink\" href=\"../../addition/subtraction/__pv_it/theorems/b66b5547fa9b0b910f79351152926c658c2718190/expr.ipynb\"><img src=\"data:image/png;base64,iVBORw0KGgoAAAANSUhEUgAAADEAAAAQBAMAAABNQoq8AAAAMFBMVEX///9UVFQyMjK6urru7u4Q\n",
       "EBBERERmZmaqqqoiIiLc3NzMzMyYmJiIiIh2dnYAAABC1PP/AAAAAXRSTlMAQObYZgAAAAlwSFlz\n",
       "AAAOxAAADsQBlSsOGwAAAMJJREFUGNNjYMAEfplKt/ZhEWfgFT3AUp+OTabWjoGBB5sMd0EKkBRH\n",
       "Fro2c6YCkGJ0SACSPkgSRlcgNBtXAUzo7Z0NQJJLBcpdyP0AylrZwA7SzrQAyt/HfADKmsfAegEk\n",
       "AzNiOfMFCIP9C4TeOhMIEsD2QE1jTYDQbjA9bA5QEX+oXk6YDDPYP8wMDPxA+wxAYXIBHgaGQKII\n",
       "aE8CAx/I1Qwa8HBLqmLpBPnp3RmIFx2THWBhnfqzCiXA7DLBoQMDAANFK7BF6/dnAAAAAElFTkSu\n",
       "QmCC\n",
       "\" style=\"display:inline;vertical-align:middle;\" /></a>, <a class=\"ProveItLink\" href=\"../__pv_it/theorems/d6724abdc9486f838f4cf63bc1115e85255ce4c00/expr.ipynb\"><img src=\"data:image/png;base64,iVBORw0KGgoAAAANSUhEUgAAADMAAAAQBAMAAABJt1qBAAAAMFBMVEX///+YmJhERESIiIhUVFTc\n",
       "3NwiIiJ2dnbu7u66urqqqqpmZmYQEBAyMjLMzMwAAAA7oY0NAAAAAXRSTlMAQObYZgAAAAlwSFlz\n",
       "AAAOxAAADsQBlSsOGwAAAOBJREFUGNNjYMAC2tXumj4Hs/jubECRYfYR4NivDWHzL0CR2jydgYER\n",
       "KjW/AVmGb4MGkPSGcMoglFFa2gUgxdKgACQbIWK3weRcCwiPiRVmNau73S8wfQMqEMJXAGXNCWD6\n",
       "AaJ5A6ACzzkFIAyOgwzcF8BSMGdEcxpAGNwfGNjABrxJAwIFsF1QA3kUGPongBhNMF1MYBcCQb8B\n",
       "gzyYwQaT4gT7ixMotYDBlwvkAmYDeGhMARJ7gdoNuLK5wSK34GGou5VjGdBvHM51IXZgkRZNWHi1\n",
       "63zbihoX09XAAQUDAHO5MBAUDGSbAAAAAElFTkSuQmCC\n",
       "\" style=\"display:inline;vertical-align:middle;\" /></a>, <a class=\"ProveItLink\" href=\"../__pv_it/demonstrations/4a82d58b126555a18b104ddba47c5351567eeaea0/expr.ipynb\"><img src=\"data:image/png;base64,iVBORw0KGgoAAAANSUhEUgAAADEAAAAUCAMAAAATIyWrAAAAPFBMVEX///8NDQ0WFhYLCwsYGBiY\n",
       "mJhERESIiIhUVFTc3NwiIiJ2dnbu7u66urqqqqpmZmYQEBAyMjLMzMwAAADYQ0HGAAAAAXRSTlMA\n",
       "QObYZgAAAAlwSFlzAAAOxAAADsQBlSsOGwAAAOJJREFUKM+VkusShCAIhd2Ll0RF8f3fdcWmDXNy\n",
       "Jn5UQsePoyi1Cgz3NSoZ56SRKwCLm0zUNCkMiUVp9eCFJNapA3JioX3nCCr4GSF7MF2exL5lshHd\n",
       "0HSv09775sDSbKNIRDgUmvfKrWROHPoe3w8/D85WYVfYps4sw7JEnIr2wsqfHq4uRl9hV0RmZNMT\n",
       "cYk4nKdmN7BK6SpGg/t/v3Y3//My/SZ0sxv6Ibmi0rBpud6nzuqwaxojeVRD32keMs9TknlugrNA\n",
       "m7O0RLT/EKyju0lOoB5GCQ8F+jHCP0UoWhV/QRoJ0UnVlJEAAAAASUVORK5CYII=\n",
       "\" style=\"display:inline;vertical-align:middle;\" /></a> <a class=\"ProveItLink\" href=\"../__pv_it/demonstrations/6ac45f40b383511bfe8c427da91a43bb7d2a453e0/proof.ipynb\" style=\"text-decoration: none\">&nbsp;&#x22A2;&nbsp;&nbsp;</a><a class=\"ProveItLink\" href=\"../__pv_it/demonstrations/be611eabd7baede7ec2603fcb465b1fc330785c60/expr.ipynb\"><img src=\"data:image/png;base64,iVBORw0KGgoAAAANSUhEUgAAAOoAAAAyBAMAAACg11o/AAAAMFBMVEX///8AAAAAAAAAAAAAAAAA\n",
       "AAAAAAAAAAAAAAAAAAAAAAAAAAAAAAAAAAAAAAAAAAAv3aB7AAAAD3RSTlMAIquJdkTvuxBmmd1U\n",
       "zTKBpmoTAAAACXBIWXMAAA7EAAAOxAGVKw4bAAADp0lEQVRYw8VYT0gUURj/dN3d2XF0F4kuHRJW\n",
       "gqhAzEsJspWHuqinwNNaRFYSLBISBbV4qOPuoUuX1luEiJLhwSmYwFuHloIQT3bpEuKaSquY9ebP\n",
       "zsyb972Z8U3gd9i3+735vt973/u+781vAaLIk0NbSA8hqjSXD2/zs8hZzuR8SA9Z3sTzca6NwnPe\n",
       "Nh0ONFXlTq3yrXo8v0esMa1ZX+L+ETye4U7t861aPU6XrTHfCL2S80V9x52J1/lWyh0ctQ9CoaZG\n",
       "uVMxv8wwot+UvZSjUb8MnPWg9l5bY60T3cbQ0XuMzYyuyxqyloFXRij1g7meSdYpVOlPsZShUE9o\n",
       "coF1MmQcRPwGPGWKobQibTLPN72H18aSOgnGXZDnKVSlDokchbrQUFDy1vh8VoYZZupzEW6xadRt\n",
       "Kol/kGv6T4AZVb2tqronuQppopFVdXFcVcnCZDQ32g+MYU5flFdmAbYY5ZwVEmmbnE4BSsPUXski\n",
       "8pp7r4kC2pjMZBoDaYeZW4A4WztjjS+PyRHkoELnMClXa1kWaglN5USntfBUDSlXNj76Fk2pZKCk\n",
       "wTklQ6GukbN2o6ZJXQ8znjeMapf2obn60Tt3oB+3V3ZJ6pm7KEMypyzJ1F6by8lpCpUkcIytnCFz\n",
       "qQ/g0zTTQU/DIzY4JIH7G1GSuvo7BunKyb7xdInzL6+yTibNYerK9y5mSVMXkV4au/DCPLjkPNab\n",
       "IFRvGhO+IGM1rPs77dSn+0t7wqipHWHT9m1WN4JdBOVQpiFFQS6zZey53H8N04EwKvwSRm3ZFEf9\n",
       "fSgk0pp1MZpSrC6Oel94r3IEVBX+hhSm+ZtFl7YnnUvLUTr3FphAptGi+LtwTXyvi8LnGi3Cwm1t\n",
       "8yiyqSVCvd48ki6B96b2b8GcQ3Fa+Po9BLWhdKNafqUt3GVaC+7+uyy/GEFIB9X9Tb+87p8vBod4\n",
       "z59foErTr8JhQX0hDvaDP79AlX3cFh5ABG055c88UeUqt8EQ4jO4HwK1Yp1CR+8GmwWY0vaLvl87\n",
       "xMdXLLcoz0GVtt+TSDHpxKcaAtV8C9dffGeZOUzp+K0gbLtBfAKb8iif52BKx+8ZbA8O8fGV+A6f\n",
       "52BKxy9Wri7i4y9LXJ6DKm2/KSxrXMQnRBKjPAdV2n5bOxFnLuITkE7dXJ6DKW2/eWxLLuITcOvU\n",
       "+TwHUdp+J6L9ofdVyCpej4b6IyNi1apFQ20piFj1QETJigS4GhW1TSBY68WoqCL/Sq/on/8AUfZT\n",
       "i9D9zGQAAAAASUVORK5CYII=\n",
       "\" style=\"display:inline;vertical-align:middle;\" /></a></span>"
      ],
      "text/plain": [
       "{a in Complex, b in Complex, c in Complex, d in Complex, d != 0} |- ((a + b + c) / d) = ((a / d) + (b / d) + (c / d))"
      ]
     },
     "metadata": {},
     "output_type": "display_data"
    }
   ],
   "source": [
    "frac(Add(a, b, c), d).distribution()"
   ]
  },
  {
   "cell_type": "code",
   "execution_count": 80,
   "metadata": {},
   "outputs": [
    {
     "data": {
      "text/html": [
       "<span style=\"font-size:20px;\"><a class=\"ProveItLink\" href=\"../__pv_it/theorems/e9f87a0977d5044ea8daf1040d2f219396bb3d5b0/expr.ipynb\"><img src=\"data:image/png;base64,iVBORw0KGgoAAAANSUhEUgAAADMAAAAQBAMAAABJt1qBAAAAMFBMVEX////MzMwyMjKqqqoiIiJm\n",
       "ZmaYmJju7u5EREQQEBC6urqIiIh2dnZUVFTc3NwAAAAqL9KcAAAAAXRSTlMAQObYZgAAAAlwSFlz\n",
       "AAAOxAAADsQBlSsOGwAAANFJREFUGNNjYMACalqU9slgk2DgvpnAHt+KVSp6DQMDG1YpxoB2IHkV\n",
       "RWyHi4sCkOItaACSZcgyi7ZDaA6+AKgI3519G8C0OlTgLeMBKGvlA47vIJrpAVRAhisBwmCfxsDq\n",
       "AJaCGfyUawOEwfqBgQVsgKQLEDSA7YIayNnAUL8AxKiA6eIAuxAI6jcw5IMZLDApLrC/uIBSBgyX\n",
       "mEEu4N4AD421QCIIqH0DsysrWEQZHoZNcewmQL+x3z74diNYpLarABbynV/iUANvTQs4oGAAAKqD\n",
       "MEJAsWyMAAAAAElFTkSuQmCC\n",
       "\" style=\"display:inline;vertical-align:middle;\" /></a>, <a class=\"ProveItLink\" href=\"../__pv_it/theorems/a259ec76dfb0a5be60b7c83d797520fa82c1dba60/expr.ipynb\"><img src=\"data:image/png;base64,iVBORw0KGgoAAAANSUhEUgAAADEAAAAQBAMAAABNQoq8AAAAMFBMVEX///+YmJjMzMzc3NyIiIhU\n",
       "VFR2dna6urqqqqpmZmYyMjIiIiIQEBBERETu7u4AAAD7tRWPAAAAAXRSTlMAQObYZgAAAAlwSFlz\n",
       "AAAOxAAADsQBlSsOGwAAANtJREFUGNNjYMAEz26vclZjYOC7swFNgiVGgG/+TSCDawKazJQyBgZG\n",
       "kAx/A6oE04R7QDISiOsfQIV8d+9eAKRYH1wAkg+BOBsqUeUHoXmZYcYvdYkAUczroHxTpgQIg+/X\n",
       "g/cGIIcYQGXU2AUgDI5/DDwOIBmYCyzZHSAMzgUM/CDtOruB4ALYHqhp3AkM9SB3v4Xp4QW7DeKd\n",
       "+SB3c8Nk2MH+YQfKKPAdBIeJAzwMSoHELKDHBHgh7l8BD7dbk/m6gWJ8YRMhAk+vwwLj2Z3fk1EC\n",
       "rOw2OHRgAAASXDjITT81JQAAAABJRU5ErkJggg==\n",
       "\" style=\"display:inline;vertical-align:middle;\" /></a>, <a class=\"ProveItLink\" href=\"../__pv_it/theorems/d6724abdc9486f838f4cf63bc1115e85255ce4c00/expr.ipynb\"><img src=\"data:image/png;base64,iVBORw0KGgoAAAANSUhEUgAAADMAAAAQBAMAAABJt1qBAAAAMFBMVEX///+YmJhERESIiIhUVFTc\n",
       "3NwiIiJ2dnbu7u66urqqqqpmZmYQEBAyMjLMzMwAAAA7oY0NAAAAAXRSTlMAQObYZgAAAAlwSFlz\n",
       "AAAOxAAADsQBlSsOGwAAAOBJREFUGNNjYMAC2tXumj4Hs/jubECRYfYR4NivDWHzL0CR2jydgYER\n",
       "KjW/AVmGb4MGkPSGcMoglFFa2gUgxdKgACQbIWK3weRcCwiPiRVmNau73S8wfQMqEMJXAGXNCWD6\n",
       "AaJ5A6ACzzkFIAyOgwzcF8BSMGdEcxpAGNwfGNjABrxJAwIFsF1QA3kUGPongBhNMF1MYBcCQb8B\n",
       "gzyYwQaT4gT7ixMotYDBlwvkAmYDeGhMARJ7gdoNuLK5wSK34GGou5VjGdBvHM51IXZgkRZNWHi1\n",
       "63zbihoX09XAAQUDAHO5MBAUDGSbAAAAAElFTkSuQmCC\n",
       "\" style=\"display:inline;vertical-align:middle;\" /></a>, <a class=\"ProveItLink\" href=\"../__pv_it/demonstrations/4a82d58b126555a18b104ddba47c5351567eeaea0/expr.ipynb\"><img src=\"data:image/png;base64,iVBORw0KGgoAAAANSUhEUgAAADEAAAAUCAMAAAATIyWrAAAAPFBMVEX///8NDQ0WFhYLCwsYGBiY\n",
       "mJhERESIiIhUVFTc3NwiIiJ2dnbu7u66urqqqqpmZmYQEBAyMjLMzMwAAADYQ0HGAAAAAXRSTlMA\n",
       "QObYZgAAAAlwSFlzAAAOxAAADsQBlSsOGwAAAOJJREFUKM+VkusShCAIhd2Ll0RF8f3fdcWmDXNy\n",
       "Jn5UQsePoyi1Cgz3NSoZ56SRKwCLm0zUNCkMiUVp9eCFJNapA3JioX3nCCr4GSF7MF2exL5lshHd\n",
       "0HSv09775sDSbKNIRDgUmvfKrWROHPoe3w8/D85WYVfYps4sw7JEnIr2wsqfHq4uRl9hV0RmZNMT\n",
       "cYk4nKdmN7BK6SpGg/t/v3Y3//My/SZ0sxv6Ibmi0rBpud6nzuqwaxojeVRD32keMs9TknlugrNA\n",
       "m7O0RLT/EKyju0lOoB5GCQ8F+jHCP0UoWhV/QRoJ0UnVlJEAAAAASUVORK5CYII=\n",
       "\" style=\"display:inline;vertical-align:middle;\" /></a> <a class=\"ProveItLink\" href=\"../__pv_it/demonstrations/6dca6d36c78784fe62a348133351941162fe54aa0/proof.ipynb\" style=\"text-decoration: none\">&nbsp;&#x22A2;&nbsp;&nbsp;</a><a class=\"ProveItLink\" href=\"../__pv_it/demonstrations/0e57be44f45ee0c7cad34c8f32b2737b842e568e0/expr.ipynb\"><img src=\"data:image/png;base64,iVBORw0KGgoAAAANSUhEUgAAAJ8AAAAyBAMAAACwtxTjAAAAMFBMVEX///8AAAAAAAAAAAAAAAAA\n",
       "AAAAAAAAAAAAAAAAAAAAAAAAAAAAAAAAAAAAAAAAAAAv3aB7AAAAD3RSTlMAIquJdkTvuxBmmd1U\n",
       "zTKBpmoTAAAACXBIWXMAAA7EAAAOxAGVKw4bAAAC40lEQVRIx61XvY8SQRR/gLDLwsHm/gISiImJ\n",
       "5iisvETwNLG7o7IzwGlyOW0sjIUWkiu0uiyVnWErkysuEG3Us8DG5oojFuZyWuAfYODimWCCH/PB\n",
       "cTu7b4bZhFfswsxvfrPvc94AhBCjr5p93oCwckE5m3kr3eo+Ph4tShaYjzr0tS/d6wgffildsODS\n",
       "Zywnmx+jo5G6lDDbZa93kun4CB1OlaWEVe6PTxK3xDro8Au5P5a9mkfy13xbLxRWusiqO4DDiXy+\n",
       "cZGpdkyft2zDp6JzaB4H+c5xVBBOvPyn4diMmP7ZBMun4kED7iImZD5E4ADpESTKk5VgDSFF48v8\n",
       "ukeF5sIuwM8g4YClySlcEKsHWTboENrEA3Aq4vwbiCOBc549ETjQLarM6kaHkbYCYWghgbMOk29o\n",
       "YWHYZhGTJLZ3unApbQvzf+FZM5ipvzlhEE4I+8S0zMIEZJTT7y1/DXiMOJk7HoGTJG8a7lQNs3B1\n",
       "cVWc37rSREpXjX9DEE4G8zuTX0/0SxfxhoaU9AkdVwfVqmgTDsrzQ/H06c5PD65MXweVzWkTrtla\n",
       "hErXWSy79/imJa0zLdHT/sK2FmGqA/9wCUCX+ItNDsXqlD1bkappf+GSFkpNKNhQW2VdKdlzdsqa\n",
       "VhwmcvMObDFTMl/kmXNQUaJ+3OOpV0RbCjTtm2rUGC0O1YaOMhhq0r74S8iyIiB6StSkffFn/JGc\n",
       "MFpTonhbI4Z/JL86lhMmRwrU4uUB13XDO4p1LZ4IGMtR8To8ZXaNnHiPrk3aUshlXY4ix/gunB70\n",
       "Z5mLdS0eeSVHtWn7wgzdEc9JR3VmVStS1AaYv3hsecMQ7Vq8cePKUOYJJIc8P70RinYtATdjKHMM\n",
       "0d5H+uu10GtgXUugJUZRD2Hfdact8XQfrGsR6k1Dhtq6/r1Ai5GhX7xYMhRnIarhbnuZ+izEh5B3\n",
       "x5sz5mO5kITRGTrfDn29/aY2yWFoQvUFfJu55D8cTe0yi6XOogAAAABJRU5ErkJggg==\n",
       "\" style=\"display:inline;vertical-align:middle;\" /></a></span>"
      ],
      "text/plain": [
       "{a in Complex, b in Complex, d in Complex, d != 0} |- ((a - b) / d) = ((a / d) - (b / d))"
      ]
     },
     "metadata": {},
     "output_type": "display_data"
    }
   ],
   "source": [
    "frac(subtract(a, b), d).distribution()"
   ]
  },
  {
   "cell_type": "markdown",
   "metadata": {},
   "source": [
    "## Testing `Div.div_in_denominator_reduction()`"
   ]
  },
  {
   "cell_type": "code",
   "execution_count": 81,
   "metadata": {},
   "outputs": [
    {
     "data": {
      "text/html": [
       "<span style=\"font-size:20px;\"><a class=\"ProveItLink\" href=\"../__pv_it/theorems/e9f87a0977d5044ea8daf1040d2f219396bb3d5b0/expr.ipynb\"><img src=\"data:image/png;base64,iVBORw0KGgoAAAANSUhEUgAAADMAAAAQBAMAAABJt1qBAAAAMFBMVEX////MzMwyMjKqqqoiIiJm\n",
       "ZmaYmJju7u5EREQQEBC6urqIiIh2dnZUVFTc3NwAAAAqL9KcAAAAAXRSTlMAQObYZgAAAAlwSFlz\n",
       "AAAOxAAADsQBlSsOGwAAANFJREFUGNNjYMACalqU9slgk2DgvpnAHt+KVSp6DQMDG1YpxoB2IHkV\n",
       "RWyHi4sCkOItaACSZcgyi7ZDaA6+AKgI3519G8C0OlTgLeMBKGvlA47vIJrpAVRAhisBwmCfxsDq\n",
       "AJaCGfyUawOEwfqBgQVsgKQLEDSA7YIayNnAUL8AxKiA6eIAuxAI6jcw5IMZLDApLrC/uIBSBgyX\n",
       "mEEu4N4AD421QCIIqH0DsysrWEQZHoZNcewmQL+x3z74diNYpLarABbynV/iUANvTQs4oGAAAKqD\n",
       "MEJAsWyMAAAAAElFTkSuQmCC\n",
       "\" style=\"display:inline;vertical-align:middle;\" /></a>, <a class=\"ProveItLink\" href=\"../__pv_it/theorems/a259ec76dfb0a5be60b7c83d797520fa82c1dba60/expr.ipynb\"><img src=\"data:image/png;base64,iVBORw0KGgoAAAANSUhEUgAAADEAAAAQBAMAAABNQoq8AAAAMFBMVEX///+YmJjMzMzc3NyIiIhU\n",
       "VFR2dna6urqqqqpmZmYyMjIiIiIQEBBERETu7u4AAAD7tRWPAAAAAXRSTlMAQObYZgAAAAlwSFlz\n",
       "AAAOxAAADsQBlSsOGwAAANtJREFUGNNjYMAEz26vclZjYOC7swFNgiVGgG/+TSCDawKazJQyBgZG\n",
       "kAx/A6oE04R7QDISiOsfQIV8d+9eAKRYH1wAkg+BOBsqUeUHoXmZYcYvdYkAUczroHxTpgQIg+/X\n",
       "g/cGIIcYQGXU2AUgDI5/DDwOIBmYCyzZHSAMzgUM/CDtOruB4ALYHqhp3AkM9SB3v4Xp4QW7DeKd\n",
       "+SB3c8Nk2MH+YQfKKPAdBIeJAzwMSoHELKDHBHgh7l8BD7dbk/m6gWJ8YRMhAk+vwwLj2Z3fk1EC\n",
       "rOw2OHRgAAASXDjITT81JQAAAABJRU5ErkJggg==\n",
       "\" style=\"display:inline;vertical-align:middle;\" /></a>, <a class=\"ProveItLink\" href=\"../../addition/subtraction/__pv_it/theorems/b66b5547fa9b0b910f79351152926c658c2718190/expr.ipynb\"><img src=\"data:image/png;base64,iVBORw0KGgoAAAANSUhEUgAAADEAAAAQBAMAAABNQoq8AAAAMFBMVEX///9UVFQyMjK6urru7u4Q\n",
       "EBBERERmZmaqqqoiIiLc3NzMzMyYmJiIiIh2dnYAAABC1PP/AAAAAXRSTlMAQObYZgAAAAlwSFlz\n",
       "AAAOxAAADsQBlSsOGwAAAMJJREFUGNNjYMAEfplKt/ZhEWfgFT3AUp+OTabWjoGBB5sMd0EKkBRH\n",
       "Fro2c6YCkGJ0SACSPkgSRlcgNBtXAUzo7Z0NQJJLBcpdyP0AylrZwA7SzrQAyt/HfADKmsfAegEk\n",
       "AzNiOfMFCIP9C4TeOhMIEsD2QE1jTYDQbjA9bA5QEX+oXk6YDDPYP8wMDPxA+wxAYXIBHgaGQKII\n",
       "aE8CAx/I1Qwa8HBLqmLpBPnp3RmIFx2THWBhnfqzCiXA7DLBoQMDAANFK7BF6/dnAAAAAElFTkSu\n",
       "QmCC\n",
       "\" style=\"display:inline;vertical-align:middle;\" /></a>, <a class=\"ProveItLink\" href=\"../__pv_it/theorems/1157e8bc07ff5d23e5b8809064b9e77def3bc8980/expr.ipynb\"><img src=\"data:image/png;base64,iVBORw0KGgoAAAANSUhEUgAAAC8AAAAUCAMAAAAqRJTwAAAAPFBMVEX///8NDQ0WFhYLCwsYGBiY\n",
       "mJjMzMzc3NyIiIhUVFR2dna6urqqqqpmZmYyMjIiIiIQEBBERETu7u4AAAAYV9lEAAAAAXRSTlMA\n",
       "QObYZgAAAAlwSFlzAAAOxAAADsQBlSsOGwAAANlJREFUKM+VkusSxBAMhe2FkopLvP+7LjG6bK0Z\n",
       "fmhSn+OICPF/IM3+Ugx+iqvYZwAajxo6nPJRdYmzWdnXDclO5U2XSLYAfOKZpj7j0Se82TIJU/tn\n",
       "Ly8SW1bsxBmtzc2S6+Wp8bLEjvLUltHzeL/K3M44ElReN1NBL+S/fP6gY4Mwuh9LTHX5LPoeOLIL\n",
       "+XZfWygm8aop+38+6i2uGkWuvCxUys9IQY7yvy8iA2sV6yajcbRr7w3iSz+E0iFkAKVYy2cKQRs1\n",
       "72MLYms42sLlprzfkxdqtfgBzl0J3RfHeMcAAAAASUVORK5CYII=\n",
       "\" style=\"display:inline;vertical-align:middle;\" /></a>, <a class=\"ProveItLink\" href=\"../__pv_it/demonstrations/1034b099268ebc68ab71d757a423d98a8a315f520/expr.ipynb\"><img src=\"data:image/png;base64,iVBORw0KGgoAAAANSUhEUgAAAC8AAAAUCAMAAAAqRJTwAAAAPFBMVEX///8NDQ0WFhYLCwsYGBgy\n",
       "MjJUVFS6urru7u4QEBBERERmZmaqqqoiIiLc3NzMzMyYmJiIiIh2dnYAAAB6aGVTAAAAAXRSTlMA\n",
       "QObYZgAAAAlwSFlzAAAOxAAADsQBlSsOGwAAAMxJREFUKM+VkusShCAIhdmLhaKJ+v7vuorjrrXm\n",
       "jPywmA4fBxLgPghhJbzpsxgDHVO98V2iLAC6WYHfuoSd9DAzfA8zUmzT/UR7j4dE0jLZOksI7C96\n",
       "1eOx6Tmfh8tV1KyRk3i/ytl6HClWfcinK+86TPA/fX7QaIidTilW/V74erQkddl09W/zvJjOTsT/\n",
       "81Gn+O7ICJSLFZk59zrhrxZZC0tB20zs92npz2DZIWpfbxJzwCk+aymGzY9/rY1L93iEnwUv4t0a\n",
       "Hvzs4wcwlAh3LLfaVQAAAABJRU5ErkJggg==\n",
       "\" style=\"display:inline;vertical-align:middle;\" /></a> <a class=\"ProveItLink\" href=\"../__pv_it/demonstrations/bb3c6c633e52a9d05adf9c4d99e71ee084030e4b0/proof.ipynb\" style=\"text-decoration: none\">&nbsp;&#x22A2;&nbsp;&nbsp;</a><a class=\"ProveItLink\" href=\"../__pv_it/demonstrations/4035d134e6271f170d1416cd9303a56678f1d65b0/expr.ipynb\"><img src=\"data:image/png;base64,iVBORw0KGgoAAAANSUhEUgAAAGgAAAAvBAMAAAD9b5JGAAAAMFBMVEX///8AAAAAAAAAAAAAAAAA\n",
       "AAAAAAAAAAAAAAAAAAAAAAAAAAAAAAAAAAAAAAAAAAAv3aB7AAAAD3RSTlMAIquJdkTvuxBmmd1U\n",
       "zTKBpmoTAAAACXBIWXMAAA7EAAAOxAGVKw4bAAACKUlEQVRIx71VvUsjURCfJLpujEYRq5NDQUEL\n",
       "C8F0IgimOD2E/Q+ihRwHIgFFUAQXCxvhsoUIFsJiI2LhqY1gs1dfE5SDK/caC0ViUCEnnvpm18+d\n",
       "mYW1uIHdeZmX33vz9ZsFEKXWYYz6b183ZZpZ0AaxZIZcODNxVT0GCyaDSRaDlhanNg/JNlwuWbDN\n",
       "XXRCTtoHbQBgHpc7+IuRYxJjxVNLeNgX0K8ZTF0laNHyPlb5p19B8oIBpXqClsKAp2JlBbqFePEH\n",
       "BZVISA0WgKH0lHqm4adtU1AnrVseEq7Sq+pZHPzT4VLQX2rqXfuEqtWR2iFdFjslZUs7bHIe3SxK\n",
       "O3FxB6rE87Q2EVR3J+009Iig9K0IskQC6G8Su32IsgfPeRUIcCXdVHJkAlzCvSckITnjFQEKXiqf\n",
       "/3cTetMTAQLlvJFiQpBEAIzpPM9stFoyATB7ca4kHnl4AsSwTprLdYQtEiCNcZayXRRUT33WZ76/\n",
       "DILP5jDTyqPMQb6rCcTOwjpDjQrTWj77arCXJ5lZipkjkjNf2vICJphMzFFT3yO2Ub0OklyhVqnp\n",
       "KNuNqh9fp1mujwoG8fifWcBLJuQPTaLIzFyc5VWjMkjlhw4U5LPmhIDWmUGdU4ARL4McnbCUFi3T\n",
       "jgmxsZCLQN8Nglz9K8BymHcAHwPjIW7V2Ng/oRILNLjevqVeBvxvyaxEx6SMk+igTfgWHTT+npDK\n",
       "7wH9gkR00Af/+xtBHgA91aDsgOgkYAAAAABJRU5ErkJggg==\n",
       "\" style=\"display:inline;vertical-align:middle;\" /></a></span>"
      ],
      "text/plain": [
       "{a in Complex, b in Complex, c in Complex, b != 0, c != 0} |- (a / (b / c)) = (a * (c / b))"
      ]
     },
     "metadata": {},
     "output_type": "display_data"
    }
   ],
   "source": [
    "frac(a, frac(b, c)).div_in_denominator_reduction(\n",
    "        assumptions=[InSet(a, Complex), InSet(b, Complex), InSet(c, Complex),\n",
    "                    NotEquals(b, zero), NotEquals(c, zero)])"
   ]
  },
  {
   "cell_type": "code",
   "execution_count": 82,
   "metadata": {},
   "outputs": [
    {
     "data": {
      "text/html": [
       "<span style=\"font-size:20px;\"><a class=\"ProveItLink\" href=\"../__pv_it/theorems/e9f87a0977d5044ea8daf1040d2f219396bb3d5b0/expr.ipynb\"><img src=\"data:image/png;base64,iVBORw0KGgoAAAANSUhEUgAAADMAAAAQBAMAAABJt1qBAAAAMFBMVEX////MzMwyMjKqqqoiIiJm\n",
       "ZmaYmJju7u5EREQQEBC6urqIiIh2dnZUVFTc3NwAAAAqL9KcAAAAAXRSTlMAQObYZgAAAAlwSFlz\n",
       "AAAOxAAADsQBlSsOGwAAANFJREFUGNNjYMACalqU9slgk2DgvpnAHt+KVSp6DQMDG1YpxoB2IHkV\n",
       "RWyHi4sCkOItaACSZcgyi7ZDaA6+AKgI3519G8C0OlTgLeMBKGvlA47vIJrpAVRAhisBwmCfxsDq\n",
       "AJaCGfyUawOEwfqBgQVsgKQLEDSA7YIayNnAUL8AxKiA6eIAuxAI6jcw5IMZLDApLrC/uIBSBgyX\n",
       "mEEu4N4AD421QCIIqH0DsysrWEQZHoZNcewmQL+x3z74diNYpLarABbynV/iUANvTQs4oGAAAKqD\n",
       "MEJAsWyMAAAAAElFTkSuQmCC\n",
       "\" style=\"display:inline;vertical-align:middle;\" /></a>, <a class=\"ProveItLink\" href=\"../__pv_it/theorems/a259ec76dfb0a5be60b7c83d797520fa82c1dba60/expr.ipynb\"><img src=\"data:image/png;base64,iVBORw0KGgoAAAANSUhEUgAAADEAAAAQBAMAAABNQoq8AAAAMFBMVEX///+YmJjMzMzc3NyIiIhU\n",
       "VFR2dna6urqqqqpmZmYyMjIiIiIQEBBERETu7u4AAAD7tRWPAAAAAXRSTlMAQObYZgAAAAlwSFlz\n",
       "AAAOxAAADsQBlSsOGwAAANtJREFUGNNjYMAEz26vclZjYOC7swFNgiVGgG/+TSCDawKazJQyBgZG\n",
       "kAx/A6oE04R7QDISiOsfQIV8d+9eAKRYH1wAkg+BOBsqUeUHoXmZYcYvdYkAUczroHxTpgQIg+/X\n",
       "g/cGIIcYQGXU2AUgDI5/DDwOIBmYCyzZHSAMzgUM/CDtOruB4ALYHqhp3AkM9SB3v4Xp4QW7DeKd\n",
       "+SB3c8Nk2MH+YQfKKPAdBIeJAzwMSoHELKDHBHgh7l8BD7dbk/m6gWJ8YRMhAk+vwwLj2Z3fk1EC\n",
       "rOw2OHRgAAASXDjITT81JQAAAABJRU5ErkJggg==\n",
       "\" style=\"display:inline;vertical-align:middle;\" /></a>, <a class=\"ProveItLink\" href=\"../../addition/subtraction/__pv_it/theorems/b66b5547fa9b0b910f79351152926c658c2718190/expr.ipynb\"><img src=\"data:image/png;base64,iVBORw0KGgoAAAANSUhEUgAAADEAAAAQBAMAAABNQoq8AAAAMFBMVEX///9UVFQyMjK6urru7u4Q\n",
       "EBBERERmZmaqqqoiIiLc3NzMzMyYmJiIiIh2dnYAAABC1PP/AAAAAXRSTlMAQObYZgAAAAlwSFlz\n",
       "AAAOxAAADsQBlSsOGwAAAMJJREFUGNNjYMAEfplKt/ZhEWfgFT3AUp+OTabWjoGBB5sMd0EKkBRH\n",
       "Fro2c6YCkGJ0SACSPkgSRlcgNBtXAUzo7Z0NQJJLBcpdyP0AylrZwA7SzrQAyt/HfADKmsfAegEk\n",
       "AzNiOfMFCIP9C4TeOhMIEsD2QE1jTYDQbjA9bA5QEX+oXk6YDDPYP8wMDPxA+wxAYXIBHgaGQKII\n",
       "aE8CAx/I1Qwa8HBLqmLpBPnp3RmIFx2THWBhnfqzCiXA7DLBoQMDAANFK7BF6/dnAAAAAElFTkSu\n",
       "QmCC\n",
       "\" style=\"display:inline;vertical-align:middle;\" /></a>, <a class=\"ProveItLink\" href=\"../__pv_it/theorems/1157e8bc07ff5d23e5b8809064b9e77def3bc8980/expr.ipynb\"><img src=\"data:image/png;base64,iVBORw0KGgoAAAANSUhEUgAAAC8AAAAUCAMAAAAqRJTwAAAAPFBMVEX///8NDQ0WFhYLCwsYGBiY\n",
       "mJjMzMzc3NyIiIhUVFR2dna6urqqqqpmZmYyMjIiIiIQEBBERETu7u4AAAAYV9lEAAAAAXRSTlMA\n",
       "QObYZgAAAAlwSFlzAAAOxAAADsQBlSsOGwAAANlJREFUKM+VkusSxBAMhe2FkopLvP+7LjG6bK0Z\n",
       "fmhSn+OICPF/IM3+Ugx+iqvYZwAajxo6nPJRdYmzWdnXDclO5U2XSLYAfOKZpj7j0Se82TIJU/tn\n",
       "Ly8SW1bsxBmtzc2S6+Wp8bLEjvLUltHzeL/K3M44ElReN1NBL+S/fP6gY4Mwuh9LTHX5LPoeOLIL\n",
       "+XZfWygm8aop+38+6i2uGkWuvCxUys9IQY7yvy8iA2sV6yajcbRr7w3iSz+E0iFkAKVYy2cKQRs1\n",
       "72MLYms42sLlprzfkxdqtfgBzl0J3RfHeMcAAAAASUVORK5CYII=\n",
       "\" style=\"display:inline;vertical-align:middle;\" /></a>, <a class=\"ProveItLink\" href=\"../__pv_it/demonstrations/1034b099268ebc68ab71d757a423d98a8a315f520/expr.ipynb\"><img src=\"data:image/png;base64,iVBORw0KGgoAAAANSUhEUgAAAC8AAAAUCAMAAAAqRJTwAAAAPFBMVEX///8NDQ0WFhYLCwsYGBgy\n",
       "MjJUVFS6urru7u4QEBBERERmZmaqqqoiIiLc3NzMzMyYmJiIiIh2dnYAAAB6aGVTAAAAAXRSTlMA\n",
       "QObYZgAAAAlwSFlzAAAOxAAADsQBlSsOGwAAAMxJREFUKM+VkusShCAIhdmLhaKJ+v7vuorjrrXm\n",
       "jPywmA4fBxLgPghhJbzpsxgDHVO98V2iLAC6WYHfuoSd9DAzfA8zUmzT/UR7j4dE0jLZOksI7C96\n",
       "1eOx6Tmfh8tV1KyRk3i/ytl6HClWfcinK+86TPA/fX7QaIidTilW/V74erQkddl09W/zvJjOTsT/\n",
       "81Gn+O7ICJSLFZk59zrhrxZZC0tB20zs92npz2DZIWpfbxJzwCk+aymGzY9/rY1L93iEnwUv4t0a\n",
       "Hvzs4wcwlAh3LLfaVQAAAABJRU5ErkJggg==\n",
       "\" style=\"display:inline;vertical-align:middle;\" /></a> <a class=\"ProveItLink\" href=\"../__pv_it/demonstrations/bb3c6c633e52a9d05adf9c4d99e71ee084030e4b0/proof.ipynb\" style=\"text-decoration: none\">&nbsp;&#x22A2;&nbsp;&nbsp;</a><a class=\"ProveItLink\" href=\"../__pv_it/demonstrations/4035d134e6271f170d1416cd9303a56678f1d65b0/expr.ipynb\"><img src=\"data:image/png;base64,iVBORw0KGgoAAAANSUhEUgAAAGgAAAAvBAMAAAD9b5JGAAAAMFBMVEX///8AAAAAAAAAAAAAAAAA\n",
       "AAAAAAAAAAAAAAAAAAAAAAAAAAAAAAAAAAAAAAAAAAAv3aB7AAAAD3RSTlMAIquJdkTvuxBmmd1U\n",
       "zTKBpmoTAAAACXBIWXMAAA7EAAAOxAGVKw4bAAACKUlEQVRIx71VvUsjURCfJLpujEYRq5NDQUEL\n",
       "C8F0IgimOD2E/Q+ihRwHIgFFUAQXCxvhsoUIFsJiI2LhqY1gs1dfE5SDK/caC0ViUCEnnvpm18+d\n",
       "mYW1uIHdeZmX33vz9ZsFEKXWYYz6b183ZZpZ0AaxZIZcODNxVT0GCyaDSRaDlhanNg/JNlwuWbDN\n",
       "XXRCTtoHbQBgHpc7+IuRYxJjxVNLeNgX0K8ZTF0laNHyPlb5p19B8oIBpXqClsKAp2JlBbqFePEH\n",
       "BZVISA0WgKH0lHqm4adtU1AnrVseEq7Sq+pZHPzT4VLQX2rqXfuEqtWR2iFdFjslZUs7bHIe3SxK\n",
       "O3FxB6rE87Q2EVR3J+009Iig9K0IskQC6G8Su32IsgfPeRUIcCXdVHJkAlzCvSckITnjFQEKXiqf\n",
       "/3cTetMTAQLlvJFiQpBEAIzpPM9stFoyATB7ca4kHnl4AsSwTprLdYQtEiCNcZayXRRUT33WZ76/\n",
       "DILP5jDTyqPMQb6rCcTOwjpDjQrTWj77arCXJ5lZipkjkjNf2vICJphMzFFT3yO2Ub0OklyhVqnp\n",
       "KNuNqh9fp1mujwoG8fifWcBLJuQPTaLIzFyc5VWjMkjlhw4U5LPmhIDWmUGdU4ARL4McnbCUFi3T\n",
       "jgmxsZCLQN8Nglz9K8BymHcAHwPjIW7V2Ng/oRILNLjevqVeBvxvyaxEx6SMk+igTfgWHTT+npDK\n",
       "7wH9gkR00Af/+xtBHgA91aDsgOgkYAAAAABJRU5ErkJggg==\n",
       "\" style=\"display:inline;vertical-align:middle;\" /></a></span>"
      ],
      "text/plain": [
       "{a in Complex, b in Complex, c in Complex, b != 0, c != 0} |- (a / (b / c)) = (a * (c / b))"
      ]
     },
     "metadata": {},
     "output_type": "display_data"
    }
   ],
   "source": [
    "# and the div_in_denominator_reduction() should be integrated into the shallow_simplification() method\n",
    "frac(a, frac(b, c)).simplification(\n",
    "        assumptions=[InSet(a, Complex), InSet(b, Complex), InSet(c, Complex),\n",
    "                    NotEquals(b, zero), NotEquals(c, zero)])"
   ]
  },
  {
   "cell_type": "code",
   "execution_count": 83,
   "metadata": {},
   "outputs": [],
   "source": [
    "%end demonstrations"
   ]
  }
 ],
 "metadata": {
  "kernelspec": {
   "display_name": "Python 3",
   "language": "python",
   "name": "python3"
  },
  "language_info": {
   "codemirror_mode": {
    "name": "ipython",
    "version": 3
   },
   "file_extension": ".py",
   "mimetype": "text/x-python",
   "name": "python",
   "nbconvert_exporter": "python",
   "pygments_lexer": "ipython3",
   "version": "3.7.3"
  }
 },
 "nbformat": 4,
 "nbformat_minor": 1
}
