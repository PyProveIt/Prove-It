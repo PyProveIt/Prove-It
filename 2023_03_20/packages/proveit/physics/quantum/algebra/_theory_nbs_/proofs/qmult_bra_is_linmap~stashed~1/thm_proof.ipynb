{
 "cells": [
  {
   "cell_type": "markdown",
   "metadata": {},
   "source": [
    "Proof of <a class=\"ProveItLink\" href=\"../../../../../../_theory_nbs_/theory.ipynb\">proveit</a>.<a class=\"ProveItLink\" href=\"../../../../../_theory_nbs_/theory.ipynb\">physics</a>.<a class=\"ProveItLink\" href=\"../../../../_theory_nbs_/theory.ipynb\">quantum</a>.<a class=\"ProveItLink\" href=\"../../theory.ipynb\">algebra</a>.<a class=\"ProveItLink\" href=\"../../theorems.ipynb#qmult_bra_is_linmap\">qmult_bra_is_linmap</a> theorem\n",
    "========"
   ]
  },
  {
   "cell_type": "code",
   "execution_count": 1,
   "metadata": {},
   "outputs": [],
   "source": [
    "import proveit\n",
    "theory = proveit.Theory() # the theorem's theory"
   ]
  },
  {
   "cell_type": "code",
   "execution_count": 2,
   "metadata": {},
   "outputs": [
    {
     "data": {
      "text/html": [
       "Under these <a href=\"presumptions.txt\">presumptions</a>, we begin our proof of<br><strong id=\"qmult_bra_is_linmap\">qmult_bra_is_linmap:</strong> <a class=\"ProveItLink\" href=\"../../../__pv_it/theorems/b8af0ae6c17b50929fc48bccb8e070d1616b80f20/expr.ipynb\"><img src=\"data:image/png;base64,iVBORw0KGgoAAAANSUhEUgAAAaIAAAAfBAMAAABXBtRDAAAAMFBMVEX///+IiIgiIiIQEBB2dnbu\n",
       "7u5ERETMzMzc3NwyMjK6urpmZmaYmJiqqqpUVFQAAAB6qHgnAAAAAXRSTlMAQObYZgAAAAlwSFlz\n",
       "AAAOxAAADsQBlSsOGwAABgFJREFUWMPdmHtsU3UUx7993Edvu+4Op4EIukx8gY8qJCY6XY0TNYHk\n",
       "khgJ0dgGwoKgsXMYQ0zYHSYzhgidBJVEpYDgf1ISCTBJKLhoZCVOI1EChAYFMf6xCkgWQOf5Pdp7\n",
       "27FVlkZgv+X07p6enns/v9/5nXPuBao4TjTauLrD03hvVf0lcfVH9log0mlqE4BWdj6S8WWHLeXa\n",
       "IJoCf4oOXYVzOuOKEYzLxrML1k9cho3030ZBlGOHo9UiGou3mqgAmDMqkbHwYWmMVRvoMvo6uXN+\n",
       "ySh7l8KTARci6mHqD6tFNBZv8yEAGkYl+vLweWkc3Lk5D4RlQGz/FAgtBRjgOk60gsVmvFpEY/G2\n",
       "RxDVpEcjUnPGeWm8FAGCr81wvZZeRJ9/AH0QkkXAIhf91SIai7eIIFITw4k8CxrvFrpbLf1JYVyT\n",
       "g4/m7LjF9WGLzd8LgM8SkkWIWANVywxj8FaTFETzMYzI6LYKukccYyBGm+l3uXa6XNpARgjlugcb\n",
       "G2dWL9ddubdgVBBNphBKwNiwyCF6pwjkueAYA9vo2z+FYrUWldOQE0JEO4FF1SMq88YnMOg+GTbY\n",
       "xDKABm64/MCvDpGTYrwRx5hCkBZrUCiWGWI/IZQUQkSroRPaqrUJnhlpKE9MtZ45l9iP5/L6Atdc\n",
       "0kzVPRWtQCS8FQdPEqo8OViskrsfAn4s3Gw/JzLoZz+B0r/qEDn1bU3aMcaK5tbWhRJxlWHKeIwI\n",
       "ISLVop+HorF+eMlN26kllFfgiaANeh6vOTfnZQsQzFUg4t5GIOJHdoFe5W9gmtT6UpwoSIcoQhbN\n",
       "XIFIoxBuvEMkhpRjjKP/HDt2PF3YR3KOtbwQIqoxaSu3IWajneV6nikZES1WCdENPCtVIuLeRiAK\n",
       "2uICmqkMQouUErHyaMIDzC0SKU4ZWOsy5hHXIYNNtaSRERHCuqDkPqbpoCLGt6ckUl5lRO37brYw\n",
       "u05ff6RnoMX6xILddU/9DuizqZTW32L795mY0ptxd0HcWwbLm0qIuIKlpcmFCQ2mS6NOSbKN9hmw\n",
       "w4m6Ys3VL7FPS0YdK67fyS7f4PXIIMwGIYxoDu8nvmZxIGZFndoyK4I1jKjDrkkG+oOZzT9HaQVX\n",
       "numBNohJCEd9tj8djH6MPUZUN91EzJth66eXu4mkIl6Y9lCch7iYZVNkhsWsfKbxYsIhqivu4Ue3\n",
       "AO0pYYxa+tjL1pD3DJ/Tx27ukgsjeotF0vyhGTPyEIlDRF2MrxFwoQNGvMNi/6JtwKRoqU3ptpqJ\n",
       "2fq8PLZqFw+VdKrMmwd++nMRScVReQFlw9kZzcXqkxNElCkC3R/0TXPVo0ChVm9rHpp+8CNpzIvr\n",
       "WsxDjF3P89Iu5Ye0yOtMGFGYF+tBlvtC77e2vlJG1PRVNpuiYztbdi1PRL4M6ieY22hOmrIHsHUo\n",
       "5SZi3jx4l+0INxFXLJMXQK2Nbws/0hoEEWUe7B+a6q6wyqktIugWK0fufywhjdFK0vzGXfDeznvv\n",
       "hWd2seBNCSk+TRgNCKchytWwNQLLEO1Khiaoga+RN6PeuMYS+cUKJcufJsK0x4+5iaRil7wANvFW\n",
       "TI47BRFrnoKZ0i7ImFXoglzGLD6xdzot1CHXFyulFIloowZMWR1dRB12KK5mFJPIYlriAhUb7S/c\n",
       "hJjlrVOjivky5lKDGS8nCv2WezPqJhIKtolE+aUc1F28lz5BxBpcX6LS81Gf+yRa2u9yKRKRL595\n",
       "El0JVmFnWpPOvT6Qfv4iOrP1QEudPvA0/F+gp6UF2qXv0/Ds+aab1PA/btZs77WHPfEdPrukNHtz\n",
       "hYdus4vfMxXYB8KFFke1BcA6nnArEKmuNxmK6Xq0jcumv0jUSbFynw1lVuuS0TudYh0Z7Rk2ZJbV\n",
       "I65gdYlfgGXHE6eLNxYXAJT2J1QkctUouVUdUk575U/lbO9UJFL7y4i4YuMIP+uEn71XCANviztN\n",
       "eG4b8am88/LqiVLGQLT63H8g8lplRFxx8vp7F/TesPd1tvv1jfV/vK9rwrgfbb3jDEjLqeOMSE2M\n",
       "t6DzWso4IzJmZ693hH8BFTvNG+3rIeMAAAAASUVORK5CYII=\n",
       "\" style=\"display:inline;vertical-align:middle;\" /></a><br>(see <a class=\"ProveItLink\" href=\"../../../__pv_it/theorems/7321c5e49748331ce26f092156892c1c9f3a3e6b0/dependencies.ipynb\">dependencies</a>)<br>"
      ],
      "text/plain": [
       "<IPython.core.display.HTML object>"
      ]
     },
     "metadata": {},
     "output_type": "display_data"
    }
   ],
   "source": [
    "%proving qmult_bra_is_linmap"
   ]
  },
  {
   "cell_type": "code",
   "execution_count": null,
   "metadata": {},
   "outputs": [],
   "source": []
  }
 ],
 "metadata": {
  "kernelspec": {
   "display_name": "Python 3",
   "language": "python",
   "name": "python3"
  }
 },
 "nbformat": 4,
 "nbformat_minor": 0
}