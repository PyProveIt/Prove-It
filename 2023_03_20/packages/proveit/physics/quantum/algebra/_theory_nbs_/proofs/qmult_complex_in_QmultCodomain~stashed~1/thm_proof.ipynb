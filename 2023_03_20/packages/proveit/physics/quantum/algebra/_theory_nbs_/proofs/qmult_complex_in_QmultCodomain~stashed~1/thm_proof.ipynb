{
 "cells": [
  {
   "cell_type": "markdown",
   "metadata": {},
   "source": [
    "Proof of <a class=\"ProveItLink\" href=\"../../../../../../_theory_nbs_/theory.ipynb\">proveit</a>.<a class=\"ProveItLink\" href=\"../../../../../_theory_nbs_/theory.ipynb\">physics</a>.<a class=\"ProveItLink\" href=\"../../../../_theory_nbs_/theory.ipynb\">quantum</a>.<a class=\"ProveItLink\" href=\"../../theory.ipynb\">algebra</a>.<a class=\"ProveItLink\" href=\"../../theorems.ipynb#qmult_complex_in_QmultCodomain\">qmult_complex_in_QmultCodomain</a> theorem\n",
    "========"
   ]
  },
  {
   "cell_type": "code",
   "execution_count": 1,
   "metadata": {},
   "outputs": [],
   "source": [
    "import proveit\n",
    "theory = proveit.Theory() # the theorem's theory"
   ]
  },
  {
   "cell_type": "code",
   "execution_count": 2,
   "metadata": {},
   "outputs": [
    {
     "data": {
      "text/html": [
       "Under these <a href=\"presumptions.txt\">presumptions</a>, we begin our proof of<br><strong id=\"qmult_complex_in_QmultCodomain\">qmult_complex_in_QmultCodomain:</strong> <a class=\"ProveItLink\" href=\"../../../__pv_it/theorems/e440a9750fed5c2b9cd5115e1cfc88cf4ddc14f40/expr.ipynb\"><img src=\"data:image/png;base64,iVBORw0KGgoAAAANSUhEUgAAAJIAAAAmBAMAAADdDt/eAAAAMFBMVEX///+IiIgiIiIQEBB2dnbu\n",
       "7u5ERETMzMzc3NwyMjK6urpmZmaYmJiqqqpUVFQAAAB6qHgnAAAAAXRSTlMAQObYZgAAAAlwSFlz\n",
       "AAAOxAAADsQBlSsOGwAAAuVJREFUSMdjYMAP9jIQAVinElbD/YAYkxiKAggqOUmUQQw8BC1kNyXO\n",
       "JIZcQgo4HYg0KZiQ9+4HEGkSwfBUIdIgBo4fBILpK7EmMaTgl+ZLABKMSgVwEhvoBpOH8ZvEfwBI\n",
       "sCwAs6EUBrgezQii+i8wgIPqDnZV9Q14TbpnPwXoJLe3IDbTBoZdIHoGdpPOM+AzaZl4jf0EBq6d\n",
       "ouDIm8BQBwr5BOwmvcRnEiNQU9BHBpGQSjDvAwMnMMmwXMBukh0Wk8SUlCaAGW5AzPWJgaEPzOP9\n",
       "zsADDFVOHCH+BdOklaJQOS5wCrEHegiSYP4yMBgpKZngMOkPzAhHmQKISRzw8oMZnJHmwwsWoNrt\n",
       "DAypOBLuX6hJTRe4EyAmcTbAMxKYPwmu+CPInxzImYYx+2EjLInDTFJhYBaAmgRX5w820xo5JNgC\n",
       "YIHJLpe2gDWvgReW8rl+QUzi/goPp2IlIADH9HsQn/073KTfwFAXgFm0G5ghWAIZGI6guYk5AW5S\n",
       "GFynPMgjbBuQTWKYcBCkUEaAEZQ3YqpgsYEwKV4AbhITXGf874aShkMMyOHE4AuKDy12A7B9N24g\n",
       "hTg07kDZbwHEJEYBeDmh/3kr11TUeG4GupM7gbVgDUjg6FGkKuMjNJwSGFigqYBhLkI6gEEaLZ75\n",
       "gMHDDFR3Mi0t7UL5cqR4tIbGncsZUVjKjMuCFaNVa/YhZSD2X7DyAxinJWB9wBBnhUlPw5JbliRB\n",
       "cgvT///AtFkMM5cXVihyLmBwYAOJcng3MDjCTNqMLwf3vv//pmIWjMeiAPPmnoMBHOkgVsi0bHjp\n",
       "eD4Af/mkrwdP8mwoVUJIWhqq8vgLhMtM5OIVNwAnPBZIOa6M36T1DfgraQOi6xZPAm2QX0SbZEuZ\n",
       "TUglCCHXM2NWcoVHsCq8QKg1MwGjWn7Ahk2hJEFXz8GITqxVMYcFQZOC0COXKYAVm7ILBE3iQG9B\n",
       "cvmcwaIsh4hIaSeqxQpKtQCLV7qLVgKg8gAAAABJRU5ErkJggg==\n",
       "\" style=\"display:inline;vertical-align:middle;\" /></a><br>(see <a class=\"ProveItLink\" href=\"../../../__pv_it/theorems/2f37741a3c1178d0a47fa42018b4dccaa72d9a270/dependencies.ipynb\">dependencies</a>)<br>"
      ],
      "text/plain": [
       "<IPython.core.display.HTML object>"
      ]
     },
     "metadata": {},
     "output_type": "display_data"
    }
   ],
   "source": [
    "%proving qmult_complex_in_QmultCodomain"
   ]
  },
  {
   "cell_type": "code",
   "execution_count": null,
   "metadata": {},
   "outputs": [],
   "source": []
  }
 ],
 "metadata": {
  "kernelspec": {
   "display_name": "Python 3",
   "language": "python",
   "name": "python3"
  }
 },
 "nbformat": 4,
 "nbformat_minor": 0
}