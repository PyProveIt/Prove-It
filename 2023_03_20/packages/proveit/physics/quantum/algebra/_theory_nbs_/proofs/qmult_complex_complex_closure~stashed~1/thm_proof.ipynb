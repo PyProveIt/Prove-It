{
 "cells": [
  {
   "cell_type": "markdown",
   "metadata": {},
   "source": [
    "Proof of <a class=\"ProveItLink\" href=\"../../../../../../_theory_nbs_/theory.ipynb\">proveit</a>.<a class=\"ProveItLink\" href=\"../../../../../_theory_nbs_/theory.ipynb\">physics</a>.<a class=\"ProveItLink\" href=\"../../../../_theory_nbs_/theory.ipynb\">quantum</a>.<a class=\"ProveItLink\" href=\"../../theory.ipynb\">algebra</a>.<a class=\"ProveItLink\" href=\"../../theorems.ipynb#qmult_complex_complex_closure\">qmult_complex_complex_closure</a> theorem\n",
    "========"
   ]
  },
  {
   "cell_type": "code",
   "execution_count": 1,
   "metadata": {},
   "outputs": [],
   "source": [
    "import proveit\n",
    "theory = proveit.Theory() # the theorem's theory"
   ]
  },
  {
   "cell_type": "code",
   "execution_count": 2,
   "metadata": {},
   "outputs": [
    {
     "data": {
      "text/html": [
       "Under these <a href=\"presumptions.txt\">presumptions</a>, we begin our proof of<br><strong id=\"qmult_complex_complex_closure\">qmult_complex_complex_closure:</strong> <a class=\"ProveItLink\" href=\"../../../__pv_it/theorems/c1e6ea80f243740f64361616280c80ed2addb5940/expr.ipynb\"><img src=\"data:image/png;base64,iVBORw0KGgoAAAANSUhEUgAAAKAAAAAWBAMAAAC1cop2AAAAMFBMVEX///+IiIgiIiIQEBB2dnbu\n",
       "7u5ERETMzMzc3NwyMjK6urpmZmaYmJiqqqpUVFQAAAB6qHgnAAAAAXRSTlMAQObYZgAAAAlwSFlz\n",
       "AAAOxAAADsQBlSsOGwAAAsJJREFUOMutVUloE1EY/pJ0JsskzXiwFpESAoIaBBFFkILRgwpqGSH0\n",
       "4pK4NIoFCVYQFOy4oAehxINFsEqkgoiFjiAIWjAFEygeHJdDBQ8p1IMHoR4qevN/S2Yy1Qw9+ME3\n",
       "87b53r+9N8AyYEp6Bv6FCJaFgC3o4uFfa5Td62/fzMZ0oMG6X3wFP0mKL0+kSL66dE1PLw79tLAG\n",
       "eMm6d/30lLKgRNSix50la7TVWaBuIWrgMnO94CeoVQUlksz5t0vWXFINoNNCnGuiw/YTDElKTBqs\n",
       "b4hOVzrNbf+qMldo162I0zPqG8LPkhK7uN/C4icr5WDhlmyMAZvT6S2+gs8lI/PdlEQ8WPGdfOK5\n",
       "jDRDGWmcl60+4AUw4Cs4Jjluqovk128jbyLOHY026zGcnZCtGWCE9Jvfhked2hucuyKbGwWVXmhU\n",
       "MYlFhHQkNnFBp6CtZmV+BFSjo+JYM89Ue4oV5ayZOCnHtgtqCwhSbWhlJLMIL7CZoTSBV0jhulw8\n",
       "TFvqLTnZRnxVohgdBN54BUMF5GlnEp20EeMW9jvfDaiyMU4sT9MjN72XGfejx+Cn4PBF92BKl/M6\n",
       "3okyfG0gkWIzQUfwKatD0H4f6HWAcqWsC/9ikVsbsPi2s7Ou1ccE8za+JUwkSxRMxLmjAd09KQ0e\n",
       "DdSpc421rTBzQq3GyzxftZor2Ceo6omMRsehqtLZ07J86r6zqOueeSQj66uTYhaqBFiqQyWtMVMs\n",
       "Fu0Lj13Bc4LK3J6RVfSan2LOijwePWM4t82ODCuiDbKfN9UazSURsnmJsqQoci5YEmzFVfl+dDxd\n",
       "9lyIqeZ5NYcnjByCRh08vJF9JnbKOTrwnK2Y8rlIOGJT7/djyA4/0xE5xQZyo4OOUaclWwxpdz3d\n",
       "8HbFpZMrFiue4X5PyTGo7f4B3n1jRps/hS7oorvdz8K7URz/AX8A0FOe4jCkkHwAAAAASUVORK5C\n",
       "YII=\n",
       "\" style=\"display:inline;vertical-align:middle;\" /></a><br>(see <a class=\"ProveItLink\" href=\"../../../__pv_it/theorems/92245bf383e040911a628739fd0a15aa823e797a0/dependencies.ipynb\">dependencies</a>)<br>"
      ],
      "text/plain": [
       "<IPython.core.display.HTML object>"
      ]
     },
     "metadata": {},
     "output_type": "display_data"
    }
   ],
   "source": [
    "%proving qmult_complex_complex_closure"
   ]
  },
  {
   "cell_type": "code",
   "execution_count": null,
   "metadata": {},
   "outputs": [],
   "source": []
  }
 ],
 "metadata": {
  "kernelspec": {
   "display_name": "Python 3",
   "language": "python",
   "name": "python3"
  }
 },
 "nbformat": 4,
 "nbformat_minor": 0
}