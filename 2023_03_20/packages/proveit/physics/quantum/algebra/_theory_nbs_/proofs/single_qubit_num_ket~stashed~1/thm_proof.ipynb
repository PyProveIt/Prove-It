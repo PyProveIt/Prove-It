{
 "cells": [
  {
   "cell_type": "markdown",
   "metadata": {},
   "source": [
    "Proof of <a class=\"ProveItLink\" href=\"../../../../../../_theory_nbs_/theory.ipynb\">proveit</a>.<a class=\"ProveItLink\" href=\"../../../../../_theory_nbs_/theory.ipynb\">physics</a>.<a class=\"ProveItLink\" href=\"../../../../_theory_nbs_/theory.ipynb\">quantum</a>.<a class=\"ProveItLink\" href=\"../../theory.ipynb\">algebra</a>.<a class=\"ProveItLink\" href=\"../../theorems.ipynb#single_qubit_num_ket\">single_qubit_num_ket</a> theorem\n",
    "========"
   ]
  },
  {
   "cell_type": "code",
   "execution_count": 1,
   "metadata": {},
   "outputs": [],
   "source": [
    "import proveit\n",
    "theory = proveit.Theory() # the theorem's theory"
   ]
  },
  {
   "cell_type": "code",
   "execution_count": 2,
   "metadata": {},
   "outputs": [
    {
     "data": {
      "text/html": [
       "Under these <a href=\"presumptions.txt\">presumptions</a>, we begin our proof of<br><strong id=\"single_qubit_num_ket\">single_qubit_num_ket:</strong> <a class=\"ProveItLink\" href=\"../../../__pv_it/theorems/8ecd2e8fcf92b5b804ea4655bc9a99d22c1fb0a70/expr.ipynb\"><img src=\"data:image/png;base64,iVBORw0KGgoAAAANSUhEUgAAAJUAAAAVBAMAAAC9PLGkAAAAMFBMVEX///+IiIgiIiIQEBB2dnbu\n",
       "7u5ERETMzMzc3NwyMjK6urpmZmaYmJiqqqpUVFQAAAB6qHgnAAAAAXRSTlMAQObYZgAAAAlwSFlz\n",
       "AAAOxAAADsQBlSsOGwAAAiJJREFUOMt9lD+I1EAUxr8km82uydxGGy2O41iwFEQEQUSicI1wkkIO\n",
       "rlIRo2U8bJVwypWSRrlCNHYWyq1wIuiBe41w2ASx8U+R4lpBCws732SSSVZnMsuQ2ff7+ObNzJsB\n",
       "ulpCv7LFOi5pgu5m5LggRjfUghZ9Rr3gf76rpZ+52r62CHzTeUlqTIG3PLapVNppOfNwApjavCR9\n",
       "CNylz+CKUulOS/UoB3q5zkvSj+QbapWWUG+F2tna1Arh0eRD9Qq+CPV5/S606ZCMTozHJ9Ve20L9\n",
       "5OCP8hjUXpL26BTfANfVXo/FSf0JLyetzXfHZSvwD/XopB5gUMB5VCnXtzPvbDU+VqrZb1g+3Az2\n",
       "niIvScGOA/2wR6N9Is5ClLFiCa8r5elS7aYYBXAK3Dqk8JIUzk/y8/nWn6L+ju4C23URzHiZAbZy\n",
       "MAp+Ung19ADlhXSXTH8thLxywe4894OZNVIBvQ8xTGqv2f1qKKMLgGWqWOOoMVnhlMVLX2uvq0Id\n",
       "22eADajzaqjHi+weTdGfeukL4eUadV1eLNVz0z5dk2WNV0NdnsIcbZMVu8VeFEU5i+0grZRr4tT3\n",
       "d+i7qPFqqJlVwRGs/LbICy/9KmjG8lVhE41XQ9froBl+oOLgq85gFFXQm0h1P+nyKulOHXRe+Rjw\n",
       "J21ts3rSeLsp1avU7z89p/Fa/f+tuRRF2UxgRarnO9/V+Tq3jjbwcViMCrWgRY8AfwHMQpQOh+rH\n",
       "mQAAAABJRU5ErkJggg==\n",
       "\" style=\"display:inline;vertical-align:middle;\" /></a><br>(see <a class=\"ProveItLink\" href=\"../../../__pv_it/theorems/4a70faeeb7984c2ceca3d05744c2e4949204914d0/dependencies.ipynb\">dependencies</a>)<br>"
      ],
      "text/plain": [
       "<IPython.core.display.HTML object>"
      ]
     },
     "metadata": {},
     "output_type": "display_data"
    }
   ],
   "source": [
    "%proving single_qubit_num_ket"
   ]
  },
  {
   "cell_type": "code",
   "execution_count": null,
   "metadata": {},
   "outputs": [],
   "source": []
  }
 ],
 "metadata": {
  "kernelspec": {
   "display_name": "Python 3",
   "language": "python",
   "name": "python3"
  }
 },
 "nbformat": 4,
 "nbformat_minor": 0
}