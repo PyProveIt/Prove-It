{
 "cells": [
  {
   "cell_type": "markdown",
   "metadata": {},
   "source": [
    "Proof of <a class=\"ProveItLink\" href=\"../../../../../../_theory_nbs_/theory.ipynb\">proveit</a>.<a class=\"ProveItLink\" href=\"../../../../../_theory_nbs_/theory.ipynb\">physics</a>.<a class=\"ProveItLink\" href=\"../../../../_theory_nbs_/theory.ipynb\">quantum</a>.<a class=\"ProveItLink\" href=\"../../theory.ipynb\">algebra</a>.<a class=\"ProveItLink\" href=\"../../theorems.ipynb#bra_in_QmultCodomain\">bra_in_QmultCodomain</a> theorem\n",
    "========"
   ]
  },
  {
   "cell_type": "code",
   "execution_count": 1,
   "metadata": {},
   "outputs": [],
   "source": [
    "import proveit\n",
    "theory = proveit.Theory() # the theorem's theory"
   ]
  },
  {
   "cell_type": "code",
   "execution_count": 2,
   "metadata": {},
   "outputs": [
    {
     "data": {
      "text/html": [
       "Under these <a href=\"presumptions.txt\">presumptions</a>, we begin our proof of<br><strong id=\"bra_in_QmultCodomain\">bra_in_QmultCodomain:</strong> <a class=\"ProveItLink\" href=\"../../../__pv_it/theorems/5b40ee06e438d506656029e13d641db917268bc20/expr.ipynb\"><img src=\"data:image/png;base64,iVBORw0KGgoAAAANSUhEUgAAAXAAAAAmBAMAAAAvl91SAAAAMFBMVEX///+IiIgiIiIQEBB2dnbu\n",
       "7u5ERETMzMzc3NwyMjK6urpmZmaYmJiqqqpUVFQAAAB6qHgnAAAAAXRSTlMAQObYZgAAAAlwSFlz\n",
       "AAAOxAAADsQBlSsOGwAABf9JREFUWMPNmW2ME0UYx/992Ze2296eHBgi6uWEL75xCsgHUFc9eTFH\n",
       "svoBgya2kgDJKdjjJIRo6CLJEWO8KyEQSUCqEiKaQFUMcKLuySlRK5REEwkKFwyC+uEqnOY4XurM\n",
       "bLu3W/agezReN81sZzuz89tnnvnP82yBCh4n85dG2PPzchsuUGn5Zf6fSnLjxEg7hnrLbSlMMs7T\n",
       "qgP82/KbHq4mcMEFBp+tIvCAUn5bbloVgZ9UXTT+oorAJ7pp3KlVDbjgStt4pWrAIzF2ihfr2jDt\n",
       "xDQtpcaqAa/RGVasWH/CuVl4RVqm7S4b4Ez6f6kUeISNoLvrlmAm9meHBw//dkGBuGcZa3KXAd5F\n",
       "T29VCjyUouqmuet2hJVeDAsefH7lwQvAh+uZ+uw3wFfbZulGwQU6ge0uu/3ByuPDg48j8j1Z9jw+\n",
       "O0lrtxvgAdU6Szfs4xvJaZ7Lbg+xckkp+LiGBgYKP7Xr7nqIRkRzMs7AJeKQgcotzgw5JV1262c7\n",
       "YrIEfOfYYn039RBfrig3iayhKvc3NEytHLivoeEOxWU3Fgt7iAFXEtx/VQNc3Gj+zvACuWI1qhvg\n",
       "e4FFlQMPxcFbNvCQpQTSzvJ8ubg20xC27FIM8KEVHh5k9XpTPWUDvIP5zhsb4ggbpuIem6jO7Y9/\n",
       "hfk5caGNwVM7W7kOOLlXh3Wbs5TADybr/unAj8WNk4HvIoRxKqexArh5D/8ALX3mU9coBjiv+lOQ\n",
       "lGgWXqJlrb+3gO+FpxGtEHNYPsTgpZNz7YifbkCLbKJgB2dnOkIPR2DvLIodsyiRZT/wNTU7u0Fb\n",
       "AzmY2kXY7wlzY61JG+BhmTxcK6Ia2ohZ99L7M3Biehv4GIBcvC74UdvatIOHNGMEQeYGIDTaLD6B\n",
       "TCggg5MN8PnmPTxXaPkCSsGR7GZPBHzGuhfAuZcoeFv3LSqaa8XNx7v6mtS3VWjtd9d9CrGZGKju\n",
       "Ns3fLePWHt0KHpCIC0oQNug2cB2rZrJgY4IBm0MobQNfQJ0xGEeosDiH9iMuv0+YI9Wj1Mcxj63f\n",
       "b+jccWxu+IlNsxrRScETWjgZyIb0935WyHy8dq4LwgDGI6L4NH86pGzFgaAiylZw/zGyNt9Hx7qk\n",
       "FTyoiWdXUf81RoAUY45pODxTFV5DSA+BO1OQQ495VyzPz1B3qvbQhoKvpdO/ID9lSg5B3bQ4oszi\n",
       "wGACwVhCpV/R2ieTGa5JiRqvRzXx6Rx2CBd/srmKSLcTGQoUK7iHOLCfxkTGCNy281MeNi36N9MO\n",
       "0n7z+Fc/ThV1fKsl64HHIkidBR1HhLn9AKQkpE2LFy8tAZ95MJNJkTP5qGSKCbhPR91N8m5it5mZ\n",
       "77Ajn7JFh2couJiFbAd/k7rwy4URUKNZEuQZrCS+IE0+p5gb0HMtRSMLH3z/pzUmS1nD2mA9IkRG\n",
       "FUeLgy7SNk4nU1PPLO7V+bGd9DHIXVUpeVVY2+tBOGsFj5Dn+BXYVxgB7wJ/mSSbWEkDhQPWLX/7\n",
       "wsKWPznfb02oWaJn1shSCciFrcgCntCkGK9zMnmAqBAfJDJN0pVxiKreWl7h5BfxZDiN2FXgh1cL\n",
       "e2yqIp3pfUVhDm5sdkQH1pvgn7CShmbTHYMs8UT+yqHXzXl91JZI+OLwyafRHqcb0FR1fP+KvvSz\n",
       "F7EmUwc01Yp9c+Dfg66mJgiXjqbhOXBoPbkM/yNy+KMe7Srw8LYHUnY5PHa+hSw4crGdOSYhvC9S\n",
       "dIUj7EvAmEHnePzUubNmZZkNfA3x9Xs1cLMWt1wnQWwsJwPqLtVxKpKsxkagQnTKRIkyryItPPXX\n",
       "yoBsoY371E3IlQO+tBScvcd5Z5j015CMXojG7njzNQGCAyMD7+gvB3xSKbiXusNp525SoxsAf/L/\n",
       "SJZFS0nl1Pnl1KCbQXzZ6nkhNNdN4zHOb7Jae0YB3Bd3XE0THGPoBx3BhV5+FMAlx2RvNZxyeE/S\n",
       "EZyPj8r78S1OF5c4Nl2rOYJ7VW40wJ9yehMzyWkxc/fAETzYnLkB8BH/B2TJjIeO7RmHN2I8u1bp\n",
       "/4BGfqwrt+EzxS//AYS/oKG8TsIJAAAAAElFTkSuQmCC\n",
       "\" style=\"display:inline;vertical-align:middle;\" /></a><br>(see <a class=\"ProveItLink\" href=\"../../../__pv_it/theorems/c97b8347199a0ca29cfc40d756ee5ff8cce3b84f0/dependencies.ipynb\">dependencies</a>)<br>"
      ],
      "text/plain": [
       "<IPython.core.display.HTML object>"
      ]
     },
     "metadata": {},
     "output_type": "display_data"
    }
   ],
   "source": [
    "%proving bra_in_QmultCodomain"
   ]
  },
  {
   "cell_type": "code",
   "execution_count": null,
   "metadata": {},
   "outputs": [],
   "source": []
  }
 ],
 "metadata": {
  "kernelspec": {
   "display_name": "Python 3",
   "language": "python",
   "name": "python3"
  }
 },
 "nbformat": 4,
 "nbformat_minor": 0
}