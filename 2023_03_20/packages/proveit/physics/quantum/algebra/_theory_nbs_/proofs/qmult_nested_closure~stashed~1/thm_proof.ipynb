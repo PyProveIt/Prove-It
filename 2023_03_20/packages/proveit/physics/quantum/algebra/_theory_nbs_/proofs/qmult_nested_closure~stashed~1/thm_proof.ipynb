{
 "cells": [
  {
   "cell_type": "markdown",
   "metadata": {},
   "source": [
    "Proof of <a class=\"ProveItLink\" href=\"../../../../../../_theory_nbs_/theory.ipynb\">proveit</a>.<a class=\"ProveItLink\" href=\"../../../../../_theory_nbs_/theory.ipynb\">physics</a>.<a class=\"ProveItLink\" href=\"../../../../_theory_nbs_/theory.ipynb\">quantum</a>.<a class=\"ProveItLink\" href=\"../../theory.ipynb\">algebra</a>.<a class=\"ProveItLink\" href=\"../../theorems.ipynb#qmult_nested_closure\">qmult_nested_closure</a> theorem\n",
    "========"
   ]
  },
  {
   "cell_type": "code",
   "execution_count": 1,
   "metadata": {},
   "outputs": [],
   "source": [
    "import proveit\n",
    "theory = proveit.Theory() # the theorem's theory"
   ]
  },
  {
   "cell_type": "code",
   "execution_count": 2,
   "metadata": {},
   "outputs": [
    {
     "data": {
      "text/html": [
       "Under these <a href=\"presumptions.txt\">presumptions</a>, we begin our proof of<br><strong id=\"qmult_nested_closure\">qmult_nested_closure:</strong> <a class=\"ProveItLink\" href=\"../../../__pv_it/theorems/e0a2dbec4a7c8a6524202c8bd888f770979cc5350/expr.ipynb\"><img src=\"data:image/png;base64,iVBORw0KGgoAAAANSUhEUgAAAKoAAAAmBAMAAACmKh0SAAAAMFBMVEX///+IiIgiIiIQEBB2dnbu\n",
       "7u5ERETMzMzc3NwyMjK6urpmZmaYmJiqqqpUVFQAAAB6qHgnAAAAAXRSTlMAQObYZgAAAAlwSFlz\n",
       "AAAOxAAADsQBlSsOGwAAA19JREFUSMeVl11IFEEcwP+rt/exd6dHpSEJxUkfT6kRGESdRUhJ0WLR\n",
       "S5QWaWCKZ4ZlhG0UQUh5hEYIlZAkgeAFhVhw2ddDIHRP9VCoTz4Vp5apqV2zM7ezu+2cNztwszuz\n",
       "//3NzP9zD4CveeOcgmI38LcYt+R5mVvUF+EXneAWbeHfADRyS3bZUNYR3h34Z21QvbwqyCq3QXXP\n",
       "cwpetaFWgDOccpNqt2pzaiQEw2nkOnD/jpO6pHaV5HzIxxy9bLEvxwX10hkHrNpvK0Nd8zrVM8Wk\n",
       "joWQm3RU/MBWiMJL9Xo/g2NP6dRxJvXJ2iuhCEjDedgJItCunqpmZWpORKfG5hlUAQGqpmHN0TY8\n",
       "mgIPMq8jQ+rInqBUx405nZofDJJIrkA/aQbgDvHuOfCNIF1lMFZuOaVeE5Yp9Wle6rmEgySEDk3M\n",
       "gES2BYPbM1FHKDXqX9KobprzsvGqj2gyRCJDALV4kN7TO+MaVYq7fmlUj6I9H8fju1R+WtWFG6tN\n",
       "LNMxBTNRU2hRqhfcfymVPj+M+TvpGC3slImQA2kDmifrUd8X9i0gU9LND/Zq1PxXsd8atSWIGvae\n",
       "hDp2zVHqIrJYgCzaX4q2MoRtiNT0Kezf02rZqxgAmNGoxyhlvXpYZ9RIhcgbfBt4CFCI79qIgR7X\n",
       "WqhedCnSqFmUUr2oXFDeglGvcAjbUoBhEEk0nFLNGvc/o3vt1HxggJiaUIUAjejiny+kbnPauI6N\n",
       "1Q+rQcJvg6rgXNmg1+oAobpL0KVJ0fz1gc6RYZ0hwaqAHJzXnu9LyL57dXWN2IQwZootrLJKsWlB\n",
       "hs/JLo16sl5b9/JAzBDErj80ktE5wy6S8hMfToCpqntq9DyA3SWF6DtNIjYrmSw3VEy9HiGN5cZT\n",
       "4eDdtL9DMVWiEjaVttuJ5PdLPfTxBu293SC+7oGbWBnixa8BU6T5ZjNQkcaKt9KNOP8rh2JFHYqC\n",
       "1lCp4jPWP3E5I9WaNqxVMj/UYJo4p3Z7ad0qWpk6qPDVLd76RtoBTrnqXjvUXZxyjogNqFBiqaaF\n",
       "7K+UMuZs83tmPbLUq3ZgF8aPzII+4WRNF1hmzqY5lYflLE7mJ4x7h2VqY5o6I25hfdPJImO2ylqw\n",
       "+0bZHgy3GKtJB0cZkg12Ph/DvP82VCf8B0JZ1sFgDvLsAAAAAElFTkSuQmCC\n",
       "\" style=\"display:inline;vertical-align:middle;\" /></a><br>(see <a class=\"ProveItLink\" href=\"../../../__pv_it/theorems/b3f1572ec44f67baff97e970bd63a3a44df8139a0/dependencies.ipynb\">dependencies</a>)<br>"
      ],
      "text/plain": [
       "<IPython.core.display.HTML object>"
      ]
     },
     "metadata": {},
     "output_type": "display_data"
    }
   ],
   "source": [
    "%proving qmult_nested_closure"
   ]
  },
  {
   "cell_type": "code",
   "execution_count": null,
   "metadata": {},
   "outputs": [],
   "source": []
  }
 ],
 "metadata": {
  "kernelspec": {
   "display_name": "Python 3",
   "language": "python",
   "name": "python3"
  }
 },
 "nbformat": 4,
 "nbformat_minor": 0
}