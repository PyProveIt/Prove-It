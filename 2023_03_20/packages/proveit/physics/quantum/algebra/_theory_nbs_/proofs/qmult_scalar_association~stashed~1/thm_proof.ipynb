{
 "cells": [
  {
   "cell_type": "markdown",
   "metadata": {},
   "source": [
    "Proof of <a class=\"ProveItLink\" href=\"../../../../../../_theory_nbs_/theory.ipynb\">proveit</a>.<a class=\"ProveItLink\" href=\"../../../../../_theory_nbs_/theory.ipynb\">physics</a>.<a class=\"ProveItLink\" href=\"../../../../_theory_nbs_/theory.ipynb\">quantum</a>.<a class=\"ProveItLink\" href=\"../../theory.ipynb\">algebra</a>.<a class=\"ProveItLink\" href=\"../../theorems.ipynb#qmult_scalar_association\">qmult_scalar_association</a> theorem\n",
    "========"
   ]
  },
  {
   "cell_type": "code",
   "execution_count": 1,
   "metadata": {},
   "outputs": [],
   "source": [
    "import proveit\n",
    "theory = proveit.Theory() # the theorem's theory"
   ]
  },
  {
   "cell_type": "code",
   "execution_count": 2,
   "metadata": {},
   "outputs": [
    {
     "data": {
      "text/html": [
       "Under these <a href=\"presumptions.txt\">presumptions</a>, we begin our proof of<br><strong id=\"qmult_scalar_association\">qmult_scalar_association:</strong> <a class=\"ProveItLink\" href=\"../../../__pv_it/theorems/da772a827225f81241e634b430257988bd32957c0/expr.ipynb\"><img src=\"data:image/png;base64,iVBORw0KGgoAAAANSUhEUgAAA1wAAAAzBAMAAABxgRTlAAAAMFBMVEX///+IiIgiIiIQEBB2dnbu\n",
       "7u5ERETMzMzc3NwyMjK6urpmZmaYmJiqqqpUVFQAAAB6qHgnAAAAAXRSTlMAQObYZgAAAAlwSFlz\n",
       "AAAOxAAADsQBlSsOGwAAC7tJREFUeNrtXH2MVFcVPzM7b77f7lQTUqWBCS2a0FaBoBKjMDSQVElh\n",
       "CCxJY+kOKlsiRqbQQNS0TD9CSpqU+UNI09IyTYtoImGoS9BSyzQWE6QJU2xM1y+mEWOi1d0StiwK\n",
       "jvfr3c/33r7XISzNzk125p4z99y59/zuxznnnR2AsKW/vx86KlZ/fxG6JbzKPpLmP9/+b2ffHW23\n",
       "6zeKHuLlGxuntXRhx9vtEsDm9ofhe5jT6RCitRtHHe/f4NsqMZtVsiX8+pupDVdvQaUr1++rk8Ga\n",
       "ne3CJcoplYw0P6Lqq96UWXaR13QuUNexVhcurtiFKv0OWN/K82tjvs/VL5rhkhr1psyyn77dEmyM\n",
       "d3Th4iNRV7iFtkVKWEHP+UimFGPp3Kg3ZRS7zboIZh7/rtiFi5Vfq2SmAdAnzsOrPpJ9yrH5+rg3\n",
       "ZZTMCL0hs8HMY7YwunABLFDJHvR3mK/59JiP5GF5a8SeuORJmeXulcx5+EKgMabHu3Axy0IDZBj9\n",
       "3SXUnvcRvUsmHo1c9aTM+zI3k+3MfcFG+UIXLjaQlkoPYeXc9C/nFHpvhrehKJqhUrevgBdlnoVw\n",
       "rkFrK4KN8lyxCxcpO7SQBlru1uXiAHO+BvZYnpcQa0bl083ERenwUiizHIIdBcmLyMwipeUtMJDr\n",
       "wkXKXzX6TmS2jUFPzjrFVvU8a+m/Xe030gzgs2y/JP+HEDwFErVmxd88vrQOu1tgjWCbL9go4/ku\n",
       "XKQs0ugvI2VXoa/w4Ccw9UuAixnIuN5gpJlDTDv++ocAVMih6vCKx3256fhIiV6TO4KNMjvehQuX\n",
       "xBUTrmgBDjdp5Oc2SF/tqyVdzTzajB2MaJtd4OEiRv0HdrsHj1chJyBPr8mXgg3TutKFiyz0cfMw\n",
       "RP7UiSLV/FXIjGWL7nCRZtb0Jj39AG7lcDHqpBdcyIuKzqVKPBvs7qKHQBeu+FyNsR7hULa+whR5\n",
       "CVY3vMx50ixjk+Dgz1hcicLlUKqpLwyRBglSWaMhdP/NLlzEKy5pDGRZ9zbidab592ETet1CTY2B\n",
       "KjYHWYU164/hgEMSg765woQ4xZ58aHLwOF4m40CAHgo4zpUyXGQb/ikcXKFldLh6iXnVmFy4BvQo\n",
       "0Bak2vOvORvl/uVofMkNbMy47e1OhTVLoQbW5stF+H37R1RIUDuLbnJr23vA3ny5kCmEWPdnahJc\n",
       "r+K3Z8LBFVpGhyuDR5CqTLLbpT/CiDrXzVnOegqe9O6gT5nAWSV2UU/6zS56ADXJhxmnA9cjuPNS\n",
       "OLhCy+hwJfD+3DnJh+E5PWjBg65c88kHth/17mAreMK1c/sP/QLufREaUA5+Cjhw4Th+rBkOrtAy\n",
       "xt21B73fM8lwnTFst4307Yn9S5zrrd32eRoyQyaEEC6L223fSNSnQ6zWvpYEVxbbKiFNjdAyBlxv\n",
       "offqJMM10ziu1obrYF9HX78xMFwl2TKcP2vWgrCWYVgZA66eWbNuLUwyXCuN4yqZCyGeOji3I68v\n",
       "8M3dU5XhOgawwWgS84fLVSYMXJkyxIm2LPkTj+OeszMsYlfRBC1PqYjPOE50lu2YmX6dsiWjeRmu\n",
       "pyGJD8eEOhZ/uIhMYi8P5+x1CfHsVUNl7z0qw4XEnybEaukCsb7kHoXh7Dh9+60uuLrsKSUZ65+6\n",
       "oFruI/DxKDgKIuCKF2M1YcU+NlTLLuJw3c8uWsblcFGZ87zH8y7f4vASMwZr1vcq9rcVN3kDfJ2e\n",
       "SJLFEnN/rifYFC6rpQuubHpKvcxGgGrlLPJXI8WPOVx2LiUp1m4tg6Pi2KkqXA4XlRGbwW1bOLzj\n",
       "aB3EVgG8qcD1NrU00lul6+LgPNfhCjaFizhtsqDSiSaFjVg8ArAL2Ba0l2y7Vofh9YNLOQyh+oak\n",
       "WPuNDBRix185Tlxh7H1zrhyEwjKJD2awCYuadBgyXgS7F/f9QMqDJHClskTFkVRLiORecB2uYFO4\n",
       "orqg0okmhfwNMgL4PraxGvCSuHNXmpd9BTpODe3U969MYGrAPdgJWvUrOi374Z/kCnx3Ic3KXAEX\n",
       "lonMjrDLQNSk24rxiHH87rt6zDA2TMDMZYQ5H8GPmFxMKMGmcO3SBeW6LmXXmXm+Hk+8aR8Ru2um\n",
       "cePhtNBIszN1vyjVdymf7PIXZNmkL5pwtRS4HsdkfZhOyy4v+4OAawAUroALy8Qb2SqNqeHaoek1\n",
       "5UswDzJFEqKGkyd1uJLkKkyXI8IaPgifdD0LETv5vATXjzVBpRNdKl2iIyBpaH1F+e4y3eR3QEsN\n",
       "Ze7Y/IlR4m0iUrBiv9Jk/wSOwaghz/yuugJXLxq2VVxOp2WXM5ESh2sYFK6AC8v0lDOth0ngGdfm\n",
       "Wqr/j3n4/dTg4GBz+0EdLvg7OWyXrhjjYdShpSPF9Nuv6qPFbOZTUrj+ogmSur5aHKlEiY4ALjJJ\n",
       "KQhV043JqpEaSstzAXYVb7OHs2wlsmG3J4iJjeryThCqAOYDlH10WnbZKlS53zUEClfARVBHhwvM\n",
       "dmqVhLrEMS97GuAhcoOskpwj6QFKDpKXgEKOXaTd5R68obVTDT/pmyvBtU0TJHVttXApdBg+RO3A\n",
       "k+s0TezQ1zGO4mmpocB35kSFtzkt+huRLyKVMouTTXraN8TrlHE6LbsMh4SdNadocjlc0SKSRhpb\n",
       "Q2vxGlgFRJAXynvyXqDecHJ5BZaYcOGHdVdZH3gb9zWTOG66RuqIsUuqqSEEnTpZLY6YJBXJMX88\n",
       "85m7n6qYh4xyIICeGsqGOTYxWqJND5fmCaAulOl4ONmkPUW3ULQGF5otmVYWGRfMzkLzHs0ZXAFX\n",
       "4kiOaGxrk9SOIc5XYWslsRC9MN6bOKiN267Zu6lswvXzFnzjco32kVkE1olnAb5DOlzIOmLsbEGC\n",
       "K16RBHknaLWAIwZCCjWmI7C2/zGnhk2iuoEyDHpqKNNkfmK4RJtUg4e0ZjblANdMXyOGZ5OmGm6x\n",
       "TQ0uhAaZ1pZn2NNHovwjNYOrPVXDGiPDiBURPDbn06H9AyM1OFgzglDufQCJTgmC1zI1Ca50QRZ0\n",
       "yjGXMFGNWkpkBNsWz6tklTBlr26gDIGeGsoU6JcgarRx/sVHSgA1KbPwbNKY7pUQd16DC2OqK5Yq\n",
       "X+cqcD24oAlpsmb3t9H6OsDPBrqO814xQx2utLPul0Ukgtei6+Qg1C9c4CKrRf+idVJbSE5b/F3l\n",
       "4+yYS4RdTQ1ld71PgqjaBkfyss6mFQmgJmUepjybNKtv+i+acD271aWLA54xQ3XaotpQeJE/14PA\n",
       "hSF3+ki1L8gdOrXYzTJcsaIQ5FZy21waSCpb89ZQQrcg7gQ9NZRdHj4JonIbGsmznU1LEkDhvqpE\n",
       "efdCs0lx0M/WNn3yAxOuI24PTRvB4PIs9j8h0O4KXJL+kXu38LDfhy5poVpqKM2IkRJESZqMvrGc\n",
       "NmwVjDpRbZwAmrgpL1FeaaZONikJ+mkPRLtpoY6l4w5XVKSG0owYOUH0dpf5OG3YscZ2B0sAtfMS\n",
       "5ZVm6mST4qBfWttdvfkpBlfiFvdb43DN9TCUUkMdl8o7QVRugyN5HB8nAZSRlPLshWWTYtXY2v7r\n",
       "m2r/0vAIlNwHol2t60FPDaXFL0FUaVMf5op1EkCZ9h3KqxeWTTog5EWsbKr9w9ADHnzdNFwBemoo\n",
       "LUqCKMh5ngNVuQ2O5NEDDXgCKIPLoVgveg9ONumwkOflczDF4JrtZZto+SZbQE8NpUVJEHUuMLI1\n",
       "xf4kbYgrQKfnJIBSuDjl9KL2wLNJh0z1TL1/dn35LQ8H9YwKIzbDXVJDafFNEBWRPIDHNPM4H6KX\n",
       "OUVDPt6aanB5hyLUcwenhZqpocyH8E0QFZE8gNd84Jqol9GcIX+4+0MNXL3az6BsBJfUUBZ49U0Q\n",
       "FZE8Pbs5+bWLueC94KBfyTRXu3Ax51Ql10Lo1FB1tzZITLmjosl3f2RIdkHV0xCnhYZKDVULieTd\n",
       "3OGQNPmfQodw3dHpz09GT944Pz/5/LXs7MjRaz6+BH2iavWvKuGfn5wWvofuz09ex3Kv9vOT/wei\n",
       "Ls/eAyqgvAAAAABJRU5ErkJggg==\n",
       "\" style=\"display:inline;vertical-align:middle;\" /></a><br>(see <a class=\"ProveItLink\" href=\"../../../__pv_it/theorems/e9582c425dd6f2d5664332792d1df5da9aa371860/dependencies.ipynb\">dependencies</a>)<br>"
      ],
      "text/plain": [
       "<IPython.core.display.HTML object>"
      ]
     },
     "metadata": {},
     "output_type": "display_data"
    }
   ],
   "source": [
    "%proving qmult_scalar_association"
   ]
  },
  {
   "cell_type": "code",
   "execution_count": null,
   "metadata": {},
   "outputs": [],
   "source": []
  }
 ],
 "metadata": {
  "kernelspec": {
   "display_name": "Python 3",
   "language": "python",
   "name": "python3"
  }
 },
 "nbformat": 4,
 "nbformat_minor": 0
}