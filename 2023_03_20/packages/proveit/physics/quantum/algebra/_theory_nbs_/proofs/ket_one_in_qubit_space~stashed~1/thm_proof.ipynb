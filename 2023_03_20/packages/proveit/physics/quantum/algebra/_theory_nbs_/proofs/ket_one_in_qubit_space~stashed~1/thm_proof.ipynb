{
 "cells": [
  {
   "cell_type": "markdown",
   "metadata": {},
   "source": [
    "Proof of <a class=\"ProveItLink\" href=\"../../../../../../_theory_nbs_/theory.ipynb\">proveit</a>.<a class=\"ProveItLink\" href=\"../../../../../_theory_nbs_/theory.ipynb\">physics</a>.<a class=\"ProveItLink\" href=\"../../../../_theory_nbs_/theory.ipynb\">quantum</a>.<a class=\"ProveItLink\" href=\"../../theory.ipynb\">algebra</a>.<a class=\"ProveItLink\" href=\"../../theorems.ipynb#ket_one_in_qubit_space\">ket_one_in_qubit_space</a> theorem\n",
    "========"
   ]
  },
  {
   "cell_type": "code",
   "execution_count": 1,
   "metadata": {},
   "outputs": [],
   "source": [
    "import proveit\n",
    "theory = proveit.Theory() # the theorem's theory"
   ]
  },
  {
   "cell_type": "code",
   "execution_count": 2,
   "metadata": {},
   "outputs": [
    {
     "data": {
      "text/html": [
       "Under these <a href=\"presumptions.txt\">presumptions</a>, we begin our proof of<br><strong id=\"ket_one_in_qubit_space\">ket_one_in_qubit_space:</strong> <a class=\"ProveItLink\" href=\"../../../__pv_it/theorems/b7ff01f12bf3e166bbf80aa351433fd53a1dcd0a0/expr.ipynb\"><img src=\"data:image/png;base64,iVBORw0KGgoAAAANSUhEUgAAAEYAAAAYBAMAAAC1hJYwAAAAMFBMVEX///+qqqpERESYmJgQEBAy\n",
       "MjJmZmZUVFTu7u4iIiLMzMyIiIi6urp2dnbc3NwAAABKL6MlAAAAAXRSTlMAQObYZgAAAAlwSFlz\n",
       "AAAOxAAADsQBlSsOGwAAATVJREFUKM9jYMAPOO6WNxBQwsDGwDaBkBr+A3y/GB5A2Fw41DA3ANXc\n",
       "gbCZFmC45NLU6FcXGBh4J4DVrGxgYExAV7PdmaHtUwJY8g4DR1k80OnoLmPbAzTDKIGBT4MBbM5+\n",
       "oJqLaGqWMQEF2RMYnjG8g6t5BJXj1pw5FURXMIHcZMCntSoDroYV4kGeaGiQKTwDUyz//3+Aq2G8\n",
       "ABZ7ClXCV7AWYS9MDdTRcVBhrguHsajJAXMDoMJ8CaexqFkO1u45c+bMSWD3vMWiRhYcuAowcQ0m\n",
       "LGogLoEH5TFQ+DAcQFHDBzFhNyKcC4BEAFzNfWDY8AqAuawCMEWbwh40ToPbVe4fbsDACY3tohPw\n",
       "ePef9gDhHhAQg9I8lyBxgQxgavTwJEaoGo4Awmq4DfCo2QWh2PEoAQCU9GA8ueLffgAAAABJRU5E\n",
       "rkJggg==\n",
       "\" style=\"display:inline;vertical-align:middle;\" /></a><br>(see <a class=\"ProveItLink\" href=\"../../../__pv_it/theorems/bf990d4b50fada4d1ddb58dd27e89c51014b35ea0/dependencies.ipynb\">dependencies</a>)<br>"
      ],
      "text/plain": [
       "<IPython.core.display.HTML object>"
      ]
     },
     "metadata": {},
     "output_type": "display_data"
    }
   ],
   "source": [
    "%proving ket_one_in_qubit_space"
   ]
  },
  {
   "cell_type": "code",
   "execution_count": null,
   "metadata": {},
   "outputs": [],
   "source": []
  }
 ],
 "metadata": {
  "kernelspec": {
   "display_name": "Python 3",
   "language": "python",
   "name": "python3"
  }
 },
 "nbformat": 4,
 "nbformat_minor": 0
}