{
 "cells": [
  {
   "cell_type": "markdown",
   "metadata": {},
   "source": [
    "Proof of <a class=\"ProveItLink\" href=\"../../../../../../_theory_nbs_/theory.ipynb\">proveit</a>.<a class=\"ProveItLink\" href=\"../../../../../_theory_nbs_/theory.ipynb\">physics</a>.<a class=\"ProveItLink\" href=\"../../../../_theory_nbs_/theory.ipynb\">quantum</a>.<a class=\"ProveItLink\" href=\"../../theory.ipynb\">algebra</a>.<a class=\"ProveItLink\" href=\"../../theorems.ipynb#complex_vec_set_is_hilbert_space\">complex_vec_set_is_hilbert_space</a> theorem\n",
    "========"
   ]
  },
  {
   "cell_type": "code",
   "execution_count": 1,
   "metadata": {},
   "outputs": [],
   "source": [
    "import proveit\n",
    "theory = proveit.Theory() # the theorem's theory"
   ]
  },
  {
   "cell_type": "code",
   "execution_count": 2,
   "metadata": {},
   "outputs": [
    {
     "data": {
      "text/html": [
       "Under these <a href=\"presumptions.txt\">presumptions</a>, we begin our proof of<br><strong id=\"complex_vec_set_is_hilbert_space\">complex_vec_set_is_hilbert_space:</strong> <a class=\"ProveItLink\" href=\"../../../__pv_it/theorems/6a25794451e7ccca287be02347e415e43e710c120/expr.ipynb\"><img src=\"data:image/png;base64,iVBORw0KGgoAAAANSUhEUgAAAQgAAAAmBAMAAADKCRg+AAAAMFBMVEX///+IiIgiIiIQEBB2dnbu\n",
       "7u5ERETMzMzc3NwyMjK6urpmZmaYmJiqqqpUVFQAAAB6qHgnAAAAAXRSTlMAQObYZgAAAAlwSFlz\n",
       "AAAOxAAADsQBlSsOGwAABJJJREFUWMO1mG1oW1UYx/9J7s3LXZOmsA3qnIwgSFdw4lZW5oxRZtmb\n",
       "EuIYiJvGl/ZDcTNVPyhCEqk6pGyN1g5r1WWsX8aUXVEYmE1SJoJSWHQfKkVtRCcqs2thrqHbrM85\n",
       "N21zb28uB733Um7bmyfn/M7//J/nOQkgdJ2DQ5c8KBy6ouwUBJ6Pi0Z+7RgDGkTX52tzDgIHBOMC\n",
       "MQchHhHcj8m4gxCifrvdQQb4K2KW+NtJCDwjFBVK1pj5bM8amyHOC0U1FnlZ6Wh561Bs34miJ2sv\n",
       "RH8J3BY/WEZl+Ky3bcVj19TXm9Got2l6IBo7ciwa82/Fy1Gc3LS8KBYKJdVieLeKz9nvdy0hLnAT\n",
       "30J5+pWKn3HCyEi7lclBuQ58CBgg6E2JFL7LWaVHDmlm0KQlxB/s9oqXBAip2IyCzyAnidlPI9Dr\n",
       "B4F39NYnCXaRk6wgXNMI0HulkiVElN0ueZmyRf807hjXHq+ORHK1EDCBcKnaE6tVBmfRQK4LWDvn\n",
       "Krsl+/jfShkruU9xcpVBCTOIDEE8TZYqWlWAm8Ddkcgma4gbTNfyi4YaM2jYjjejHGJ4dA3p2rdS\n",
       "VQbW7jh85c6/MHk1T/ADuwuXaV+atsUhf7atxCLQM9rM5KXxzwCdJjMvtQv/TYYb+8jQTxYTtT86\n",
       "NfVckruSIN7OYhi+djTDc66/SM6Ha37+PcCzBQkVF7Nkw96SsplFyEm42QAzwBFapQmEqpOLHHbc\n",
       "ALHMmAf5D6GcztPcjSX3OpmlH7Dvl/kiAmUE5whCqWAIwXYWMdEGV3W7vXEpXytz606cL9dCKHPc\n",
       "E6/pIV6I0JVcDjFMxU3N0KQxmlaDoGBKABUyJbE8UpGZx3jEhie5nPQ4GF5aVM9v3fhJiq+IL1MC\n",
       "nV49xN46SjCI5OTZsbEUTcshinwd7L9rkL/4seKbYY2ZRezZcL0KgdzoYtk4w6pnWJWwq9BayOsg\n",
       "TrE6gSXN3BYQaqZUPYW4aSwm12xViYt5X4UJAhbhj+NCSvMEHhpc6Eu3sjHHJ16VdJ7w39AqZpkX\n",
       "t8UKEK7riUzKQ4/yDCJAEOtpiGnuiVlatFJ5aYjkZxEfhxEqVrOvl/7nfUnmWzwu7R/RQcgzWm0a\n",
       "zu5vrdmPDwxlG10cYiiOX+HbAinLtkLKSWgp4VFyQDsSMYJwzX7fW8R2FnG4Dd5sNftCJAnvSwov\n",
       "KeNQV+sgcI/G0nFfa23/fLxba2TpY6yB/RNLb7yU3vg7OieO0571fbJduRIlyaceRPnUw3+SJpeb\n",
       "6J5eu+qBsFxoyvKI+5t2su2eWxiS9aWGo11dBwhiT0BXJ3DUvIaNPBXJiTfsQN1GGlw8M7G+5Itp\n",
       "Sijf6qM+tePUUB9CWrdgPt6XeOX8ho4OhlZuxznXXfc86114RetLb5A7fC1ZhPRRT5T+PwM5JGt5\n",
       "cFvKg46ubjNU1dGD7mmh42LDXY5C7BD75DznKMS9drL+x8slqLMnZfa050tbIDyCtjc9p/rKXlsg\n",
       "mkUD3zfLmZQ9H0XbRSMTJlnkjst2QCSEi5Df5JslZfeYHRDPiocecuyLM3ZM+he7A2Tl4ZT+zAAA\n",
       "AABJRU5ErkJggg==\n",
       "\" style=\"display:inline;vertical-align:middle;\" /></a><br>(see <a class=\"ProveItLink\" href=\"../../../__pv_it/theorems/e69ebaa09c176ab0946fe8be07424ccbfff2dd230/dependencies.ipynb\">dependencies</a>)<br>"
      ],
      "text/plain": [
       "<IPython.core.display.HTML object>"
      ]
     },
     "metadata": {},
     "output_type": "display_data"
    }
   ],
   "source": [
    "%proving complex_vec_set_is_hilbert_space"
   ]
  },
  {
   "cell_type": "code",
   "execution_count": null,
   "metadata": {},
   "outputs": [],
   "source": []
  }
 ],
 "metadata": {
  "kernelspec": {
   "display_name": "Python 3",
   "language": "python",
   "name": "python3"
  }
 },
 "nbformat": 4,
 "nbformat_minor": 0
}