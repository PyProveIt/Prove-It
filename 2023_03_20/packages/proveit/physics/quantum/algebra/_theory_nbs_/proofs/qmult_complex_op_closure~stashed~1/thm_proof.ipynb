{
 "cells": [
  {
   "cell_type": "markdown",
   "metadata": {},
   "source": [
    "Proof of <a class=\"ProveItLink\" href=\"../../../../../../_theory_nbs_/theory.ipynb\">proveit</a>.<a class=\"ProveItLink\" href=\"../../../../../_theory_nbs_/theory.ipynb\">physics</a>.<a class=\"ProveItLink\" href=\"../../../../_theory_nbs_/theory.ipynb\">quantum</a>.<a class=\"ProveItLink\" href=\"../../theory.ipynb\">algebra</a>.<a class=\"ProveItLink\" href=\"../../theorems.ipynb#qmult_complex_op_closure\">qmult_complex_op_closure</a> theorem\n",
    "========"
   ]
  },
  {
   "cell_type": "code",
   "execution_count": 1,
   "metadata": {},
   "outputs": [],
   "source": [
    "import proveit\n",
    "theory = proveit.Theory() # the theorem's theory"
   ]
  },
  {
   "cell_type": "code",
   "execution_count": 2,
   "metadata": {},
   "outputs": [
    {
     "data": {
      "text/html": [
       "Under these <a href=\"presumptions.txt\">presumptions</a>, we begin our proof of<br><strong id=\"qmult_complex_op_closure\">qmult_complex_op_closure:</strong> <a class=\"ProveItLink\" href=\"../../../__pv_it/theorems/5d325cd8cb99a752ea6aa3f50636e2af96073f2f0/expr.ipynb\"><img src=\"data:image/png;base64,iVBORw0KGgoAAAANSUhEUgAAAjQAAAAlBAMAAACnsG4nAAAAMFBMVEX///+IiIgiIiIQEBB2dnbu\n",
       "7u5ERETMzMzc3NwyMjK6urpmZmaYmJiqqqpUVFQAAAB6qHgnAAAAAXRSTlMAQObYZgAAAAlwSFlz\n",
       "AAAOxAAADsQBlSsOGwAAB2FJREFUaN7tmntsFEUYwL/r3d5u79FeAxofFcpFFAXkAA0GgV6TK5CI\n",
       "sBhSQjTtAXo0gcBhVaJ/cAcYoiGhNQSjBugZivwj4WJK0Lam1yhNkBrPBwop2DURE/+6E20tDz3n\n",
       "m5nd273tXQOtAUsn+bplZnbm2998j5kpAAVKX+Y63KGlM9NfsP0nuIPLE+NoxtGMoxlHM2bRlHin\n",
       "3cZMLN6Ztw5N8W1uMD1jBk2Ui65IBbpLw44zZtBYkky08haAw5O//wP5Gj7goqJR8HEhL5pCzSNB\n",
       "M4rjfs9FK81Eys39HOvn48PtB9jTTOaX9vOG7sxsePaPg2BJABUVTRs+3s2LplDzSNCM3rhCExOt\n",
       "uDM4hWzq2H5+AB9rAJwnD6dJMtBeSiXBXU+e+7lwNNvR+4J50RRqHgma0RvXmWCSrUiRgOGK5/az\n",
       "Kw6KpgNgIxRXAJRqL0WCsAefZ7hwNIjXlsyLplDzSNCM3rhWLlpZuiKcjaKWdd5H2G+TZakanz5w\n",
       "K2Alq9KnGVbxoEAd3Coz4WhcifxhkaAp1DwSNKM37nkuWgLyTEbkB1h8eVv7/qe4u1E3qiMB5zft\n",
       "Fde1WqZXgomaoeZ4vY8XyFAFmkeUoUZt3FYuUFUepv4Efegpy1my0shYrnJ38+PP4zGA37NjVF6i\n",
       "D5vCREVzEuDFAmgKNI8IjTYuU97JnKOe1XQrxhfOmTO29tsBLjuTThq7jkEEv/40GAN9kQ80yyDe\n",
       "RcxnMDvaCpbrXU1MVDR7QdIrYtn48w49Gta8Z1+YZj2AHwaiJYvo8sCqOdW25iWuCmEL7K7QhUEy\n",
       "SNkS/zBo1GmFeSxIshOEWpPV6Pxsom7MrIAWZmdyeRCs9APj0Ihvf0cbs5mrkb9QhN62vTIUWu/L\n",
       "KpRi6rt9TFQ0dtkWYx3ESaGYsDnqfkGPhja7/HVJKIpxn3VGWV/YDDABRA80gqhDU4Qm4VSGQaNO\n",
       "a/s7Fw3WKHwGcJ71AtQOoUCLOth8Js5+dWnbU2g9EfpFxG29D7EozD/Sis8L/1y82JfNYc69zNvE\n",
       "NBMVjdujhsN2Ygy2lQBf6NHQ5q1QF4UGNdJX874MDQY1A5oJmAVgODTqtEdn56LBGoXPAAH4ETdB\n",
       "ZgW0jQtHY+U7AaJ/KSpzmBpgdnuwD3Ro0Jki2YR/UhxgQdvHRDsoNHXhUpV76Ebw+dd1hwx6UKDN\n",
       "uAjtfOxWmW8aGZqaNKJZUHYCYFmZ9F5vWyogH5IhunvGxBPwxhmiycRJUVuXx3JhmeGgwMYFz6Fc\n",
       "NFij8BkkagsVZgWymZ87VB0/GsR5WPkW1DdZ3rrO4xp1KNztfa0du2xhmEX/4a5goqF5BjeAj4q+\n",
       "GhrwzuWeoWgzdJMu3GL/Ij9oX1gXCKwHiaIZJAm0OOlMHD7nJ4u783IbVt0Lv8CTYIs7/QehowV2\n",
       "GNCwcS3waQ4aWqPwGWy47FKTWQFwq/6wlglu4MgyODD/pll/Uso0n1l4BKCBdLAjwlLyoxOtirbd\n",
       "RzjRMOYKMtHQ7CLW6wwK4Y+w4tSpXDTYDGsyc+emOWPcINC+zGoEisYHpbEIOIIRmdr91pSHVr0J\n",
       "m4grSKvT8GHkM9mAho4LR5lL6tDQGoXPYEXbcQTNCtBKWpYzIemJrD7swrEG1XxOVov3Ol6Zmf7V\n",
       "AZ6g6W5vH6yGOoReQ7CU9quJHUVDUxJmHng6FAoltx3NRVNCfX6QZjUs1ZNl3teIxpr4vKcnRrg0\n",
       "oOGKaVplqZoCx8lSLOj50rHlqgENG7c1kJKNaGiNwmeIYKNbMSsAoormJS6BnrvIZ2b2g3vLFb9q\n",
       "YsKvR5g/1Qu9s2hipVExhHuZbdOgaCrAq5XzQGy+jEaIcR7FcClRSnztZbokK1UzM1xKOCqghFmw\n",
       "TbbGeV+z1VAlG4QE+ZYKWjUD1sqNMg37r/CthuFSgmxPGsMGNKxG4TNgeAkjhVwFsg5VFGaScynD\n",
       "o4xjsXpQUMvDRHD71DmdED5raNrJxYCmOAZ+Oy6G9HQUqsxonHEo9oBAVuMEWPox9eagGSTObU8I\n",
       "HmIydWL4Ktm0iP1wt9APUzx2v+DZBCt7+ecb0BC3KU0a0LAahc0gDXSE7TEMprkKgEW9kcGDpPkw\n",
       "aThwGsoZ/T+Mu68OLgY0UkeXLG2g+7h3NobNaKxhsqG6JC4UPp4KtVcSQPuumlttaV5Se03ojEvl\n",
       "XWSWQJmUWgq2VmgLBEC8/k0c7u95zUOqwVbl6S1fakLjXARC5/t6NLxGYTM8d2zxrA10kXMVALuW\n",
       "YOq5GMruvDsHu+5CUDDceOFNAL0NMN/yrQqFYnlu+UhyKXksCu78fU1F9N3ILZ8ueWNRDDO0DKFA\n",
       "jeG3mtzx6vPf7wSHOm6o0Ci4m7kAPXIDByUxPTI0eu+ImhX4RHfUZmI4YkXzK7YjX8M9XG4KTeIG\n",
       "0Oz9c9TQQLVJAVdsjP5Fwfx3KLYDt3M/6M4xAsHsFv8dGIt3wa1D878oN41GLPePoxm6bIfgOJqh\n",
       "y4Zxh8pXpoJ8R6Mp8H/5WnoSYxpMZ6b/X90SPPKIoNTfAAAAAElFTkSuQmCC\n",
       "\" style=\"display:inline;vertical-align:middle;\" /></a><br>(see <a class=\"ProveItLink\" href=\"../../../__pv_it/theorems/3767d12bccc181991e5115728c37877e25da1fe10/dependencies.ipynb\">dependencies</a>)<br>"
      ],
      "text/plain": [
       "<IPython.core.display.HTML object>"
      ]
     },
     "metadata": {},
     "output_type": "display_data"
    }
   ],
   "source": [
    "%proving qmult_complex_op_closure"
   ]
  },
  {
   "cell_type": "code",
   "execution_count": null,
   "metadata": {},
   "outputs": [],
   "source": []
  }
 ],
 "metadata": {
  "kernelspec": {
   "display_name": "Python 3",
   "language": "python",
   "name": "python3"
  }
 },
 "nbformat": 4,
 "nbformat_minor": 0
}