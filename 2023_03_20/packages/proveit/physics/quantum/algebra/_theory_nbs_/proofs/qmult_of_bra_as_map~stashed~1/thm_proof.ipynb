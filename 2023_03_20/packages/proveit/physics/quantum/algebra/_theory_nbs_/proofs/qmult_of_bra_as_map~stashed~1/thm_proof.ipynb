{
 "cells": [
  {
   "cell_type": "markdown",
   "metadata": {},
   "source": [
    "Proof of <a class=\"ProveItLink\" href=\"../../../../../../_theory_nbs_/theory.ipynb\">proveit</a>.<a class=\"ProveItLink\" href=\"../../../../../_theory_nbs_/theory.ipynb\">physics</a>.<a class=\"ProveItLink\" href=\"../../../../_theory_nbs_/theory.ipynb\">quantum</a>.<a class=\"ProveItLink\" href=\"../../theory.ipynb\">algebra</a>.<a class=\"ProveItLink\" href=\"../../theorems.ipynb#qmult_of_bra_as_map\">qmult_of_bra_as_map</a> theorem\n",
    "========"
   ]
  },
  {
   "cell_type": "code",
   "execution_count": 1,
   "metadata": {},
   "outputs": [],
   "source": [
    "import proveit\n",
    "theory = proveit.Theory() # the theorem's theory"
   ]
  },
  {
   "cell_type": "code",
   "execution_count": 2,
   "metadata": {},
   "outputs": [
    {
     "data": {
      "text/html": [
       "Under these <a href=\"presumptions.txt\">presumptions</a>, we begin our proof of<br><strong id=\"qmult_of_bra_as_map\">qmult_of_bra_as_map:</strong> <a class=\"ProveItLink\" href=\"../../../__pv_it/theorems/c636b1349adb17b04a216ae852069dcf358b5caa0/expr.ipynb\"><img src=\"data:image/png;base64,iVBORw0KGgoAAAANSUhEUgAAAmwAAAAfCAMAAABtYmFRAAAANlBMVEX///8WFhYNDQ2IiIgiIiIQ\n",
       "EBB2dnbu7u5ERETMzMzc3NwyMjK6urpmZmaYmJiqqqpUVFQAAABfIOpfAAAAAXRSTlMAQObYZgAA\n",
       "AAlwSFlzAAAOxAAADsQBlSsOGwAAB+JJREFUeNrtW4mW66wNpmXf4f1f9me1wYDtJNM0p7XOPXOT\n",
       "iSwJ8aGNDAA/Sg4hJMBD/yMEw3ban7VOfledyA7h+R2/+PzMpxxMzgh/yRiqVPPcLXEnTPy2Az4y\n",
       "euqKVq4xD9iyZ+KpI3WLBRsY8mcbx4oSw4SLvbJxUCraGHJL3AnTiW4D1Q0B71ISqWADNrd9Zs2v\n",
       "ge1rtlnS+ZvYvwNb9rXVLxjjKWgNmSgdxZ3oHJkFzu6Ulnt1LeA0IGrpyzYJSWc2QbODTW9KpPg1\n",
       "sH3LNip7fyPwd2AjS5FLGTsvWilFp2A76ByYlU8wMggIR28IWJPWXGFfqmw5t6liMICNu3Xu+G+D\n",
       "7Vu2adP5e3ai3wUbhctgeQ22bMhM6SDuTOeoO2+/czcFLIlFA2Wx15u5TUbvNVsFHrE/B7Zv2YZ7\n",
       "f89qlXfBZvnVcYFiCbZsyEzpIO5M50q30zcF7Lay0FSiLYLZhFbMjtn/IBLTDWy1SZDg98D2Hdus\n",
       "7JxDJfg7sJFZIUBP668NbMfs3rlHrME26FwUIUuwkbkWJSGd1CCezLPoJlKavRvFEa0Ik1/sRr9i\n",
       "myadc0pFy3l2sGf0HbBRmJIziTOAvQeZ1UJoBTbYZvfenE4cuNJ5YBYSu1ijYNwk0kujxwagFoDZ\n",
       "KR6uwEbcDjadlsHoL4LtK7aVk1edU/Y6HXsujXJkAjaNGnITsBFgQ3amQTTM+QWt4GUPyUrLni0r\n",
       "7c0ZIHqu84hn6eY125nRq/gIfcmiYgU2I3ewCVd//B7Yzm3T05eTt+dUR9vZOco1dUt6zd6IbNwG\n",
       "PAYHi60k3Fvr497D7jDVuUQ1JMs8mNOJA5c6D8yAzcF2avS8lgnx0bNIGIMV2CzewZYCR/lAaIn5\n",
       "GHkpwYhQQKQnPHbMgDIf60d0ggEIIeHkQ7C1tk2aoenLtDA7mwjNlhb9qroQova6xdC6nlfBFh7E\n",
       "sEjRZVs2rn//C3Xkt2lXOFiyvtaqizmdOZ04cKnzwLwC26nRHFdzW19b452N5PUSbNw3YLOw7q0h\n",
       "od5L+4QyI4eOMbWZB3H6XXRKFMDnYENbAtTuU7Dttr0Etv19XcGwtBXYSqUEtx9pEPB6g5C6M7IP\n",
       "EhqMH9ymZCOW6xrnYJvdD+YMR+Zc5/F8LcB2ajRlixG0yIAyS7CpNrKF3TQQFBjR9DDHdWbXmQfx\n",
       "3oMswZaZMufHYNtsexFsWoBuBcPSlmm09IDxoKr0rKbv1Gyp9BJRcmnhmpKndxs/FN7Mdc1oFncw\n",
       "Z6igznUey60l2E6MXox4SxNqxpJtT6OoBRux+3pzzNO6PVsd2FIGLWDDBsK8F+FFaFek1Vo5T0LK\n",
       "lWk2LWKuNZAkJkFMTg2QQCfKQ/Fe0hCzBNtum0kbg80abA2H0OCwgn5pneth5xwm6qA3clLH3xt9\n",
       "aJbzXrlUb2dW6HyKUT/OhhSw9eZUcfSAlbnOYV62BtvaaACnh740odqDJdgMa8Em8K42f5JSTRs4\n",
       "GSKBGK4ZNIMtwjlOqaRN7lDYClJCh0AeJWglJpiuOkNMxhFkOo0b6kPhtwIuwbbZpkSsaASXS7B1\n",
       "HGwM/c3Seqe4zjkldUgJJTe6sL8ONhWWGiQZNc6l1b05WzEki+vNKeKol93GLnQOM3HG9p93BJQt\n",
       "sbMsWkJgDEN8S3uy9VYZLdWhqdvYpPc4UMKpMmAS2TLOSmRL2FYpZCgWcEWbPBWqpQj7yhSAEMDA\n",
       "TM5mgu4PaUvXaXSzDZYymSzB1nGkq/t2Bd3S+jyG+pNY3ppQuCPy/lCXO8Lgdj+wvGckfHmDgLpb\n",
       "n9acKg4h2tk+14mGDhI7GvtIB49h6Mxo6piiU9iGIOI5379/iLp7tnJAJl8xSrk3T0aMTE0ts+dg\n",
       "w8aEfyachvw+/6Q1cVWmnD4RBKo0J+WhALimG1s32rBWE2dg2zlSI9yuoFvaoWjj/RCynGBtPrxB\n",
       "4HYdv05kbFucDdkChJmEQ0sPFwATnbd03zJaEdZeV+2pPqRRpBfXVaIe3gFsCu0XGe3g4jqybSEi\n",
       "/JbWry6hNrIhE+sjKjxtGmLA6RQBw29cRpG1S7B1HKlD6EYv7dIOgxLd+btWKph/CLbmdoeJN8CW\n",
       "DdmuGPm4x4AcsTLReUv3h0afiKyHZARbLp8lBIfJ/RxsMVbESigkx9gsl5jm491KClZxHJtyK2Tx\n",
       "9+EFCmUmI4m7PJSOD7sGm3HcAa7JuhttOUq11o5Lu6UdkoHo/C270/A+2Jq5wQu3u3vLnw2pCc6D\n",
       "UVz9fsaZznu6PzR6LXJrMkaw5eODIYjNpKjff6AE49BhwjjUpc5rQHUc4gloQqeZ5JLYjYY+NO4a\n",
       "ifutVewo8gTGwtzcamN43OzEXf+zGhoirsEWOhGPmTobfTQcsLZTfL60nmgXQsqwBaJPwbbjGr7w\n",
       "5U/ht+Bt9hFfZ84mDo6BaWC6p/tDo9cit/A4gK20hQ45kUEWKx71kcpxrvXSnK2NbfBqzrZzsO3u\n",
       "o67gsLTJusn2NwYpjIu2coc8bje+BFsUAcevKL00bxTa2ea5Iq41ZxR3ovOe7k+NHgVmb+3foPrG\n",
       "3yBw/1dgY/YKbBuHguChH6MvgC3m1j8CG6JXYNs4HH029/8QbO+SvPF3o2L6spusP/QbBBHC5nHD\n",
       "Q79CPHSKjxce+grW3GwE9tBD/wH69G+iH3roNsXu7qm1H/oKKWLM00M89Ef0DyR4Wiwj47RqAAAA\n",
       "AElFTkSuQmCC\n",
       "\" style=\"display:inline;vertical-align:middle;\" /></a><br>(see <a class=\"ProveItLink\" href=\"../../../__pv_it/theorems/092d40a8f3cd6044a5def4df2cb7cc073d62ec7e0/dependencies.ipynb\">dependencies</a>)<br>"
      ],
      "text/plain": [
       "<IPython.core.display.HTML object>"
      ]
     },
     "metadata": {},
     "output_type": "display_data"
    }
   ],
   "source": [
    "%proving qmult_of_bra_as_map"
   ]
  },
  {
   "cell_type": "code",
   "execution_count": null,
   "metadata": {},
   "outputs": [],
   "source": []
  }
 ],
 "metadata": {
  "kernelspec": {
   "display_name": "Python 3",
   "language": "python",
   "name": "python3"
  }
 },
 "nbformat": 4,
 "nbformat_minor": 0
}