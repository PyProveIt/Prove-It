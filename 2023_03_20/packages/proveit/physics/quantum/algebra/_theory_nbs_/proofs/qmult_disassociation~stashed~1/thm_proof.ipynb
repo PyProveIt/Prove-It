{
 "cells": [
  {
   "cell_type": "markdown",
   "metadata": {},
   "source": [
    "Proof of <a class=\"ProveItLink\" href=\"../../../../../../_theory_nbs_/theory.ipynb\">proveit</a>.<a class=\"ProveItLink\" href=\"../../../../../_theory_nbs_/theory.ipynb\">physics</a>.<a class=\"ProveItLink\" href=\"../../../../_theory_nbs_/theory.ipynb\">quantum</a>.<a class=\"ProveItLink\" href=\"../../theory.ipynb\">algebra</a>.<a class=\"ProveItLink\" href=\"../../theorems.ipynb#qmult_disassociation\">qmult_disassociation</a> theorem\n",
    "========"
   ]
  },
  {
   "cell_type": "code",
   "execution_count": 1,
   "metadata": {},
   "outputs": [],
   "source": [
    "import proveit\n",
    "theory = proveit.Theory() # the theorem's theory"
   ]
  },
  {
   "cell_type": "code",
   "execution_count": 2,
   "metadata": {},
   "outputs": [
    {
     "data": {
      "text/html": [
       "Under these <a href=\"presumptions.txt\">presumptions</a>, we begin our proof of<br><strong id=\"qmult_disassociation\">qmult_disassociation:</strong> <a class=\"ProveItLink\" href=\"../../../__pv_it/theorems/65cdb794b61298921b988a8165db0ec85f592c260/expr.ipynb\"><img src=\"data:image/png;base64,iVBORw0KGgoAAAANSUhEUgAABQgAAAAzBAMAAAApy/iUAAAAMFBMVEX///+IiIgiIiIQEBB2dnbu\n",
       "7u5ERETMzMzc3NwyMjK6urpmZmaYmJiqqqpUVFQAAAB6qHgnAAAAAXRSTlMAQObYZgAAAAlwSFlz\n",
       "AAAOxAAADsQBlSsOGwAADslJREFUeNrtXQtsHMUZ/s++9Z3vbs+Xplg80nClchENaUxFIOWVS2VX\n",
       "tECygJMKBRIDwkFtIRdcgSoUciE0KkLCliAIIUSuTRCtxOOgLmltCoaWoCRUOUjVlIfIQVsQSmU7\n",
       "iJAHBHeeOzO7s3tH9lof8v6S1zfzP+bf3W9n/pmd/w6gPrR06VIIKaQpRc68yU/D61kXWjVNznOZ\n",
       "Rf+vnvykXia/FaKnPpQenSYnGuvgn7aHIGww+pdajAc0F1S/AP8zB14PQdiglBpUy1+jd1KtvbvK\n",
       "fR906h8//SroCSUyXpxoJQRhY9IGtesxc+Rf64RSu9nfhiSN9VOrPx/7UESa2yfHxh7Iez8FqnTE\n",
       "jg4uv3ls9C5eMNrH/hPPeRqR2bM8pc4MQdiY9HW1eBX9t08BoTnpb0OSJvrNvQDjAnbnoMDzkLe2\n",
       "Q3oTR+NZFrzFYQMzTwDzGe/oVWa3Wl5Se6wQhA05Gneq5efov+cPy5XJcf9ITZIm+gNoRHyqZA/W\n",
       "B9AY6bOUoUrDLta3XYdwmeSGl52ODi94eqGwUyXPHrsUgrARqdkxxFFMRu9Seq6Ll+T9bMjSRH83\n",
       "Et9th2YpxE0d8FZXpaGZdlet83F8xx+R+3DlFk8TKnu+Z7h4OARhI9Kp6thl0inG+sgxed6RObXs\n",
       "Z0OSpvrjGBd2t5VGg3XrAm91VRpa6ai6BDcZY11XlDRwu+dToLIf9mzqkRCEjUjfVotJ2jGWzM/k\n",
       "Stg36mdDkqb6KAhccboc8xnv+XSlqjSbw8Y/ImMyUxvI4uOPPAd0lb3YO3i1QhA2HsUcEwbaDSXK\n",
       "sY+lyidgXc5vTUSSJvqxT2bMlnqjddfO+NAHxA5ptmYUVcbvJRnfs3Cwd+DDM6dhcjxjKzMhCBuP\n",
       "0o55SVOZdn3xz1E3tIP3dDBQAaNrzGPWSaVXTNj6ERR67Rm19U8tgHmBtz6TFhEBcamJhW/UyDw6\n",
       "WnvZmKfOWPZ4nm5LNgRhA85LKo5yER/bR57/BGDNVxhKfjIy3ouglszqbVBpGg0S/RYEo+ghW/96\n",
       "3FflPfWZtOgZCZqbydFgRhYSjuVlg7Htrtd7LeBwCMLGo3WjGhAaaNDCIRl7zXU5QFsW2opx/Vof\n",
       "k6bRINFvq9DpMNP/HM+AM576XNoe3WlPSEC4lxmZR7rIvJcNxuZF71m08VkIwgacHBc0w3ES/X1D\n",
       "gBDNUJs6IWV5gIhJNxVtfYzs9FGuH8M3frzoqc+kd70yozILvzgxSWdHVwhzzAhZAox6+sDZz605\n",
       "Bbjf2pgQLgpB2Hh0vXNsxJH740Bf1FEQJUbZe7mofjhl0iuFPkb2ukGuj2O+2BFvfSpt7LwAIWQ2\n",
       "HjJ7yewY941RixnB69nQ7WmDsa/eMtpc8MfYdSEIG4/OcZTx+kgcj4erCxxEGzC2cL90Cwm6Vg6y\n",
       "g3GEsLn0G2J95T6E3O9y/EArEtiyydYnapI+k45fPgiHYEisEu0bhUQ3fxLwGtBWy22DHjj7FydB\n",
       "G+YP+cyjGQhJKPx2PUBYJ0vTmAzn27RYFozVRyz4++T97P4vm9wE5uojOYjfQAfsEj/MIRa49BDX\n",
       "h/fxhoUyx08a70+4CaOV6hM1oW9LpzOxTpgLfFwH49mxYXtsheU37y/qbDSVZPa7NBz06Z92FykI\n",
       "iekH6wHCOlmaxhRzvU2TVo3F/jtC98Avfe+HFUy/OR/pjU+gycWdav3rX8DGuTASQ0jN+kzEMhSE\n",
       "d2BE99YDhHWyNI3JPOas2eV1/+Orbvu9n6mJTDD9AdQXpnpL9hYKnZEqNuITcDqaTydHvUVWligI\n",
       "8U6baLkeIKyTpWlMKddks0VMl+/avEjuqSYnJ/xMPV0Mpv8ktBbi71rOXkUxUsVGogJfRQDc6CPS\n",
       "VqEgTOHZVl0mJnWyNI0pctgVJQYcWYLqyyg+TrrRD4S9bHb8ndNOO7s+s+P6WJrGFD3oqlof0GRQ\n",
       "/RMDP1h+KG4eZCDcBnBDTeZy1UBoW5LfKBoej+j/8+Ym6b9/OBu2psKxiI+fB6fZU9eUZSC8F+KV\n",
       "mjRK1UDILRnnSowr9buG7OrY6qFL7JQGpSDo1k+7npXNRPZ39dgAmj3U3a251bJIC424ig5/FD9d\n",
       "jkmNat1yOCU3qHNJ8KXreNJHykVNT0w3EHYyELZY0SIY47T2zqFi6iLnLGfOD+HPFTcIeb0NQmIJ\n",
       "+KZGRkv0UxVR/RLATNAWRMCehYi0vyQxV3q38OsyeefuDIplEQbCFU5/osf8HJMb1bmlOiU3qHNJ\n",
       "4m9Ff2ve/zH+lE8dQfC0QhCaGTybeAM977P7imalG5RpN75a70StpOUAoVRvg5BaAnjsLOni92v3\n",
       "nknV+wF2g7YgeogSpKT7gxNk3uKrGvPRn7uPlkU4CIed/sh+uh2TG9W5pTolNah1SeK3WpDcRgRz\n",
       "eDO9uejWcDiGwReBvFsZQYOL+WJSif3I1Xo7U4rCJSNzRoqaegmE1BJA5hFpFGrVjvVS9YVg2Elc\n",
       "akHEr2W4Qqw2xXEHtpavZ6GOK+bqbBURDsKs0x/ZT7djcqM6txSn5AZ1Lsn8aJmlQf4czw9HYYsd\n",
       "kkcPuxfbvozYqtlpe2ICl20iICIZpuba32QwCPkmCnK19r65PmrHMnRvhFwvQEgsocj7j6KZTHJQ\n",
       "17qojh949Xk7tFIKggZm7fpA6oKyEus97ckpIgyENCVc8kfx0+2Y1KjWLcUpucH3qjhkltjCybUE\n",
       "yubTdk8YcW9KCZr8PiWUyNQKwgoH4Qb0yZiAZeQC5bvfRCDkmyjo1dobvWarDUKyN0KpFyDcQGw+\n",
       "JsVPiXykU+clrr67zEKrFSUpzlqhmf+8BMZ+yXNZ4nz9yZXcIEz0Ovx5TBN+So5JjWrdUpySGzy/\n",
       "ikOJ3gTtQXHv2GZJMaF7sTpg8rua6F4l7V3DV3PclfR3N0nsWTWCsK3EQZjOk424j1MQJiPoZvFN\n",
       "FPRq7YVSuw1CsjdCqRcgTJMzGOoat2AjvbLJrsUH4YlTis61CFxN10FRaBU/yl+F04JLHt3sAVHV\n",
       "jJ+zMmsBh3WmS4OJKCA0K7xh1hj2M/HasJdjtFHSitYtxSnZJ51LskOx3tQDfX03AeBUkHcUyB11\n",
       "3qWgye9qonuVtHc3X8lxV9Pf3YGMxPZOeFdpZY6DkFz8HOzo6+srm3kjhztztomCXq290NMq1gnx\n",
       "3gilXoCQr4MN5GOvUzcyED8EnYZz1keqm3lolTgEazukgkv+QoCnxBOaruAlUNbCGFlQdWpQERWE\n",
       "sV7eMG2M+NnMNt5pHCON0la0bilOyT7pXJIdMksxeinHX77G/oIDCs/PnHcpYPK7muheLe3dxVeS\n",
       "2NX0d/f6qsxOlWoDId/AwKYpj8LPaE8IT2AG20RBr9ZeSLwmFPHeCHe9ACHqUdvK0GSBkSM96TEo\n",
       "IECjQo99oNUbAZVgwIIrkMsdUgHJK+Lxg2DMgdSfXh3+Wx7XnAdwMrAWrixCpEha6JHbICKp4b/m\n",
       "1IkJbRg6bD/j0I8vIFMUjgFrFLciuSWJKk5JPoHkkpCWHYpk2Jp+8psX36PCyYWQgMnvaqJ7tbR3\n",
       "F19JYlfT390xgMKeXxsI95VlELZFoMWiC7qRCrpqfBMFuVo7geyxxdTD9kY46wUIkxeB8cJD+HbE\n",
       "LoTfVWD5kSK0FHGhvxBbgA+8+i8A/eXU5q5L8Pa2DrnQUlTEd3zc9WwZzHY4D4VI/WVYPjTDAtaC\n",
       "MbLoBKKBGFR+gS2CNLISCG8E7k+H8BPweh1XFI4Ba5TASrgliSpOgfAJJJeEtOwQGu03EhQZt72V\n",
       "Ud/anOEMCQMmv6uJ7tXS3p18NYldSX/3WF+12Q/XBkKazmAPxydDHL8TuOVBgAq6t3wTBb5asTMK\n",
       "kGZy/WW6N8JZ79q5iG+HyQvbQCrYn4bluK1DLmzTicMqYzBZFlKuFsSd4Z8+YPPEFnuRWDTGT1zT\n",
       "qQw7zkNuxEnMqRqliUNoBmh8vw+B/9aFZxVS8oIY/NMZO1PucSe/NyuJ7s1V0t6dfCWJXU1/dw/l\n",
       "KntxbSCkr0jk7f09fX1Fx31nV0uiske9DoSP8ifKyoiC+NSBIi1LwoVdwPJucciauaaUkHK2IGzZ\n",
       "n7KRnZYAYbKgAWG35lVuR1kLQnIaTqJO1SyNHfqDuHPtC3+q8Hc7Avqgye9qonuVtHcXX0lijx7w\n",
       "hZODvaM2EJ7jAiG477v7DL2mPQ4QxmZeBsBPaPNkVhTEp0UFsG/fmrPLooDl3eJGJVJMn2hLuVoQ\n",
       "UEjZGualUk8I3VJj/C5PfuQ+l0UF9Tzk03CG49SpmqWRQ6miDwwc42zQ5Hea6A5XD4IoeWsyaZt4\n",
       "EjtR5+nvPYv/rX33oc5Y9tS2qH3AB4Tej0sKagNhQ67gGw3hjFF18VYqE8Aef/I7TXSPzaCiVdLe\n",
       "GV+UWRI7Vefp7yV4Ruv5hHJu62q6FGHyeyNSslMDwgDJ7zTRneUOV0t759KiJ2TrJUSdp78fhQFd\n",
       "XGhnx1PaUtPpsvdIIQinhmKztGFd4qhmOD7+5HeW6M5AWC3tnfOfWzM7sj0PdhI7Vefp7y/rQcjZ\n",
       "u16ZUQJnUpXnC5PwC5Gmku6AXm39HLUYMPmdJ7pTEFZLe2d8/F62EsFxAc9xJ+p2+jt8zzO8i1r4\n",
       "fe+CmnG1O/xquKmkVf63xZ5zVgIlv/NEdwpCXdq7yFu3+fi9bJ6M5jzHnarz9Hf2+yN2m6xhysbv\n",
       "e/F+tKGargL7VpAQhFNDHaCfoTq+LjhY8rud6E5QpE17F3nrgv8u9LNpOUtipyDk6e9sV4Bok/be\n",
       "jJ3OkLcmNcEh/LrgqaWtr+pXIFKOba1Bk98pmdkvoAnnQjsMxLzU46V4wW9+n0+W8r4J71KwUQlB\n",
       "2JB0v1oMmvyuQ1EVzfgE6gu3J73UN952u98WmQFoWpv3TXgX9FT4ExKNSf1qNxM0+Z3C6gcfZ2rX\n",
       "TFTgQbj3BC/1hZO+G8mehMil/gnvguZCCMKGpIg6aw6cvD41dGMtQuHPijUsOX5gcf2X8kkq1CL1\n",
       "W6g3CM8Mf3S7PtQ6Xb7NJ8b28y5d2l4vk+GPbteLpsuPbl8lfnT7v0GtfjiZO4A2AAAAAElFTkSu\n",
       "QmCC\n",
       "\" style=\"display:inline;vertical-align:middle;\" /></a><br>(see <a class=\"ProveItLink\" href=\"../../../__pv_it/theorems/a6ceb59b164826f2d2ad1b58ac6f52b0ab241d450/dependencies.ipynb\">dependencies</a>)<br>"
      ],
      "text/plain": [
       "<IPython.core.display.HTML object>"
      ]
     },
     "metadata": {},
     "output_type": "display_data"
    }
   ],
   "source": [
    "%proving qmult_disassociation"
   ]
  },
  {
   "cell_type": "code",
   "execution_count": null,
   "metadata": {},
   "outputs": [],
   "source": []
  }
 ],
 "metadata": {
  "kernelspec": {
   "display_name": "Python 3",
   "language": "python",
   "name": "python3"
  }
 },
 "nbformat": 4,
 "nbformat_minor": 0
}