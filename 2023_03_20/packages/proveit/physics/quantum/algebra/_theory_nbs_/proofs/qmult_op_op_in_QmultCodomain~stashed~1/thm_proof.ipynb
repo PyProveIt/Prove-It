{
 "cells": [
  {
   "cell_type": "markdown",
   "metadata": {},
   "source": [
    "Proof of <a class=\"ProveItLink\" href=\"../../../../../../_theory_nbs_/theory.ipynb\">proveit</a>.<a class=\"ProveItLink\" href=\"../../../../../_theory_nbs_/theory.ipynb\">physics</a>.<a class=\"ProveItLink\" href=\"../../../../_theory_nbs_/theory.ipynb\">quantum</a>.<a class=\"ProveItLink\" href=\"../../theory.ipynb\">algebra</a>.<a class=\"ProveItLink\" href=\"../../theorems.ipynb#qmult_op_op_in_QmultCodomain\">qmult_op_op_in_QmultCodomain</a> theorem\n",
    "========"
   ]
  },
  {
   "cell_type": "code",
   "execution_count": 1,
   "metadata": {},
   "outputs": [],
   "source": [
    "import proveit\n",
    "theory = proveit.Theory() # the theorem's theory"
   ]
  },
  {
   "cell_type": "code",
   "execution_count": 2,
   "metadata": {},
   "outputs": [
    {
     "data": {
      "text/html": [
       "Under these <a href=\"presumptions.txt\">presumptions</a>, we begin our proof of<br><strong id=\"qmult_op_op_in_QmultCodomain\">qmult_op_op_in_QmultCodomain:</strong> <a class=\"ProveItLink\" href=\"../../../__pv_it/theorems/57f6eb70c58fbdb6b89541649de424e00266916f0/expr.ipynb\"><img src=\"data:image/png;base64,iVBORw0KGgoAAAANSUhEUgAAAkwAAAAmBAMAAADEutnlAAAAMFBMVEX///+IiIgiIiIQEBB2dnbu\n",
       "7u5ERETMzMzc3NwyMjK6urpmZmaYmJiqqqpUVFQAAAB6qHgnAAAAAXRSTlMAQObYZgAAAAlwSFlz\n",
       "AAAOxAAADsQBlSsOGwAACE5JREFUaN7lmn+MFPUVwN/c7uzsz7u9ats/evEul9BfpOWUqqlwZtVb\n",
       "IJG2gyEk1oY7sS4EKreVqv+529CaEBP3CGqMUdmkh6Q/LJvmVCooS0kg6LVuqq0ajUxqxF8JdzYH\n",
       "HljZvu9735mdmR1hMmYiuhPYmZ3vfL/vvc+873vv+90DCPXINJt1uBCOVCNIrxt18XmgeTJk7TIG\n",
       "XBjHc4F6aQv4fHmHYEpPBOv3j87CtEUP1i/W6ChM9wfsp17eSZgygWPwc52EqSsXtGel3EGYSnrQ\n",
       "nrFcB2E6zqdye0v8fClyqIMw/Y8+FU5b2+wtyeyn9YnX6PMTxkR2vBEipnAF+KsS5+n0Mn/byW4y\n",
       "fvbEe+sB+jyUfut0DjJ31IjgQsb0jDg9FCKmcAX4Ky5nKblPyPUT34yMAcwUIdEWtpI333XoNMSn\n",
       "NpPz/ZUx3S08ayxETOEK8HV0E6AUry5TMxyiKugse2qQrrmf/hoSXZSFP24ngP2MSdCMNkLEFK4A\n",
       "X0eEJn6Ev6z4SZHOL+LpxawVnpV1g9+hi6h4pXsGlPxygnusSJjSyDgRZggPV4Cvo4ey+mscmbP9\n",
       "/M5m8P8OdKxHeKZtNyffHnERmYU4Z59SgzPdZYODPwg104UqwB8mmm5TPOfgGE++KwDWfgvPP+b0\n",
       "Z4Uo0jUxa5YPo3XG9DTAraFiClWAv1Ka/Ifd5gkokW9pp3ovoTtHwZFjMmcI04CFOMuY7jPdKyxM\n",
       "lgBXTklx3NjATYddSrzqHkrh0xWyRnQ9n2kvHZVWEU6YvkfXNahQTwWLhJeEp7xEt62NligVD5Ga\n",
       "Y8IippgerQLcu6MIGcL871Pl7qsxbl13KcBFe/nZ1ZflozuXpwfUcbhnoKUIjtV78a/Oh4kFYPq4\n",
       "km7d+fHIUxREY5yFzKaW2a+h5HQVMuMb4K13wNKENTfMEaznMzvwhT/vYYJl6h6SfxXR2bRvhtJu\n",
       "DMvr6EeCIfkWRobBb5I+5E2looWpxpgyWQyw6dxoA7poNFgCKfFqoriq/jqef3l8I8BmVBS0LFRA\n",
       "s2EagFTx3PuCAhMJEAN+wkXMAChDLkyiCZ/ULimgCql/DWLY4FdKr0lqMmli4hEMqRo8e8MAqIaH\n",
       "CZNObyJMq9BwsqBHDPQhXvyO3pNVsShnxecmcGOCiYMoEEbLsIUb+vU89ZyDNMpKPS2+ECYR0OyY\n",
       "UNeItPOcixUhAI/dlzKXmiz3bJhEEz65j97hCLwCVJQqJ6O6TRMuBA1zBEOqFs1lipCqephgVY62\n",
       "SYdGd9FLKtWl5/xTvnFzh6m5V1uRbhlpxib40QPAvrdPVhlTPPwBOAJmMU+Y1swKTEt7n4Towey2\n",
       "R/f9eS6feBvi8XUHr9fjK9Ew5Zp3YWUvKG+sdGBiAZB9jIdvwA11FybRZIBCt+MnLbWX5MGmCRdf\n",
       "hjmCIVWrCG27vEywqrUKDXyzyPt1zmJIEsGXREQ6TI/0Wlxuby7Rf687s6TAtJVmOT79XekkH8nB\n",
       "+6qWN64bGbkF4oRpHguQR2F/cvg32hDEFy2sQqmsTHTnImW4HqYSjVR9En7twMQCFK77cdgX3gEn\n",
       "JmoyYE2rvItTSO0v2jSBTE1i4hEMqdoyaznrNiFjBqdRWp2JzL9VyKUgvQOZ/VC36oREqwBWQam5\n",
       "sqTA1C2UubG5ePGsjPVL5FbLVRK/6U0qYRqCnt2z8Lh2UlxiOPlQePqZeDlWV+fhtyVIjpWe1R2Y\n",
       "SADs5mkLfwP1AxcmajLgT+wJQmKSEFxXs2ki7xnmCIZUban4eNzLhKQZcDhv3Q6wpvkAZgZc2MLx\n",
       "5okTDxIaJqse32Wuk//wwvv2raqqYyNl3vr1Id/PVqaElPSDhcJtLkyR6aXTz+MZ/6nC1bcIXS/+\n",
       "SjaJSh6anq4mx894bKRMjczQuGhhperERE0GHC0UCg3eQqN+0VVyb5Y0Ac3ExCMYrJpGz7zpZYJm\n",
       "YkrQRVfRc79EhqHkMrlYWdScw64WmGO6HVNyQERGehO6LBq6hKtqOW9vEqFcG/pZtwgLwpu66rGv\n",
       "iqgi0usdsmRzYMIqpkJ6DmOCdhYE3GQAlxYivBTJwjxIvyZNWpOORzBYtRTe1eBOLxOsSZeioN2+\n",
       "yLUtiG3c3myePbKtan691rEth9ISWVBR8pOYYehilIy51Y1pHmPAL2CVcKXZu3qqWD2WdGVsVO/q\n",
       "hZ/DKpx62dclAQcmnFE9DRwWWaoLnZOOmtD+mHhx8VP7i7GqCOEpHTOWTRMlC6sFJjmCwapVNh2B\n",
       "jRTCXSZQB7mRwl65wQvTPR7p+T//fdf6stmBKVKESPZtbVj9ywJYe7quDUN6fAUNI1RcvTiv7Fy+\n",
       "9mP1QC3edzAH0Wuy981hyM6lJkdyUPr7N0DZf2S7uA0jvfB634o2TKmrQT3wMA57dG7kqYYDEzcJ\n",
       "+9fj95ueWLZovTDppkFdnXkEWprEMN8LmnIEg1RTn3l53amiaHObQB1kUOaKbY0Xpg1+Nj4tTJib\n",
       "ur9fhoxlnxX3lxU2nmekLf43eTP23fhWQSBn0+pCwXT2yfYuwspGq/g27Kolc+0m2LBskpsD7Qoq\n",
       "5XPblpz32gvf1Xbh53cL/5h2nROTPWSU27pgRZ7U7Zjsx14PEa17hwIvSqMTXpjqbRfnP+IzOd+Y\n",
       "6n4xQd7dBVd5kIZPwxTV20SkrTAMo9XAO3qNz/uXFf7tJyaDw2HXjFDdj8sbhbL38+2/xKlunwhy\n",
       "cK3XKX9DcGXQjsN+MWl9uS8+pqMBzVQm/GK6G8a++JgS9WBmbi37xbT+yzDp1G8HMlPlHU8/mBaA\n",
       "/hkwXSh/e7lND2JmjJT39beXk9MXhqGf7YgXg5j5U/Pi/3xth7tWbmVeAAAAAElFTkSuQmCC\n",
       "\" style=\"display:inline;vertical-align:middle;\" /></a><br>(see <a class=\"ProveItLink\" href=\"../../../__pv_it/theorems/d8879013bf85090b48938d747adba2fa31ecd4c50/dependencies.ipynb\">dependencies</a>)<br>"
      ],
      "text/plain": [
       "<IPython.core.display.HTML object>"
      ]
     },
     "metadata": {},
     "output_type": "display_data"
    }
   ],
   "source": [
    "%proving qmult_op_op_in_QmultCodomain"
   ]
  },
  {
   "cell_type": "code",
   "execution_count": null,
   "metadata": {},
   "outputs": [],
   "source": []
  }
 ],
 "metadata": {
  "kernelspec": {
   "display_name": "Python 3",
   "language": "python",
   "name": "python3"
  }
 },
 "nbformat": 4,
 "nbformat_minor": 0
}