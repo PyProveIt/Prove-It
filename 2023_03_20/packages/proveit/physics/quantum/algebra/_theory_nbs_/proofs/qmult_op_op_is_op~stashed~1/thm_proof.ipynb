{
 "cells": [
  {
   "cell_type": "markdown",
   "metadata": {},
   "source": [
    "Proof of <a class=\"ProveItLink\" href=\"../../../../../../_theory_nbs_/theory.ipynb\">proveit</a>.<a class=\"ProveItLink\" href=\"../../../../../_theory_nbs_/theory.ipynb\">physics</a>.<a class=\"ProveItLink\" href=\"../../../../_theory_nbs_/theory.ipynb\">quantum</a>.<a class=\"ProveItLink\" href=\"../../theory.ipynb\">algebra</a>.<a class=\"ProveItLink\" href=\"../../theorems.ipynb#qmult_op_op_is_op\">qmult_op_op_is_op</a> theorem\n",
    "========"
   ]
  },
  {
   "cell_type": "code",
   "execution_count": 1,
   "metadata": {},
   "outputs": [],
   "source": [
    "import proveit\n",
    "theory = proveit.Theory() # the theorem's theory"
   ]
  },
  {
   "cell_type": "code",
   "execution_count": 2,
   "metadata": {},
   "outputs": [
    {
     "data": {
      "text/html": [
       "Under these <a href=\"presumptions.txt\">presumptions</a>, we begin our proof of<br><strong id=\"qmult_op_op_is_op\">qmult_op_op_is_op:</strong> <a class=\"ProveItLink\" href=\"../../../__pv_it/theorems/1544f67c4fe142208dfbd3931d9795b4d513c01e0/expr.ipynb\"><img src=\"data:image/png;base64,iVBORw0KGgoAAAANSUhEUgAAAnQAAAAfBAMAAACc601MAAAAMFBMVEX///+IiIgiIiIQEBB2dnbu\n",
       "7u5ERETMzMzc3NwyMjK6urpmZmaYmJiqqqpUVFQAAAB6qHgnAAAAAXRSTlMAQObYZgAAAAlwSFlz\n",
       "AAAOxAAADsQBlSsOGwAACJdJREFUaN7tmW+MVNUVwM/8fW9m3jxmlaZtBFlHaa1oGYs1qbAwxmVj\n",
       "i8IDDY3BsiuWWQLqjm6r35hHpSbGhFm7wfhBwxiBTypbpUhk1UGN6DIN0yq2tFKmTcAaE3Yoy/+U\n",
       "7Tnn3vf2zXuz7IZ0uk27N5x9d+69771zf++cc8+9ADS0/C1pwv9k8SVvavAbev47JmpKcRX1Ereo\n",
       "Yz2q9H+BzlcWguVpZ3s0Mfo900dpf0kKoqvQ5fPGodPpEi9OKLpPpWDZwn+1rovHv+wEmFZn8PY5\n",
       "BdI4DfDMFoSjbubWlbPnmxBfcDP4cCokiO4t6ni+cehipEhkQiNeqEcIERkWTYEOgMEsRAzP4Njb\n",
       "W7AP7sPamy9XAXTpODvo+hDKZiklWE9+3dE4dAqZ9VMTanSxohCqDoqPmEdX3dEHWp9n8COwg2j0\n",
       "A6yDSDPAFOkw/rNobWQG+6WUGHyw3MBYR1/o7glFF5CC5c4lWb4ewMsBxPd9GQxXJb8ja6dgI5li\n",
       "CuIVts0j0jB9QwCH+WmGkBJoSDXSyGWiNOGrxSEp6F6JGcJKBlF60QBfEMvFs7bjBoQdxlnjdgx4\n",
       "X1pef1KuKpGiEJzX95LJWxqJLpBMXpueUHQ7paC/whHhf7di4P82XheLZXck5M0oiIGs8Q78ccLq\n",
       "6Sps5GuwIgTRvQmwupHoYlkIGxOK7gWwzOtVyDET5XTT1dzyMbhWyWvFJcKEZ6D5nbV6jhwVBqn1\n",
       "CEF0m0CtNBIdPn2TMHlXn9DkVpO7tEdqO+OeNVnkYIE14pd7/B+9yZxdu0kKvTLPc/UhkE+Izieu\n",
       "7FO9IBcF8uv1CzKZB1O2K1+UmqWEILqwEUS7fKY3y7kMwGenTX0+RtE7bga4creY9B3XGT8cyr4H\n",
       "y6vqqtrJN0392Vgp8Wr4Edfv4QitdO1c1Mm/xbJekV36CLVepDQwokhwTgJ8c80Yd+Kwxy+07nKO\n",
       "P4SKagXvDOzV8zYp4Fu3Z5DfGsapB89gJccqYcxKfkvwPi85kd9+fvHw4SP2U8KnxFWpCkF08QSu\n",
       "Elq6vQx+4edzIUafPIhDv47XR4+thXAFfCl4FNQqPOYA00ze+M5Y6H4nv+oSEaHfwy/iRoddunwV\n",
       "wNvLmiFUGVEElhjgy0I0LdFpzaQMVpSrM6hx7GASA1edGWz1oFuKuUYzVabg4zWKYi+zZYzkZpGU\n",
       "Ax05a85O5gPSNqMpIbz87UWlod2EbhkpjYX8wCHQTEoMiTijw7YadNgUAMfnHwVdRGNfi3YLl/sK\n",
       "0wIXOurS5asgmI5nRSItFaGF7iOZh9IwHfOxKlX2sBm3wh8AE3vvDOx813ZYtCA/syEgOhnY76UJ\n",
       "WCVfFJGFHZay4QN24MjLtS7eLITQ3c06oenukXh3ine+C/tA7lUYXaiL0HXvvcqA4N7E0y/ueW1o\n",
       "YeQoqOqqvYsM9S7clvhu/zvc1QTTPyg60QUP8fN8ERFSWyB0owsddenWtihPo/1ORWJVLWslhzgs\n",
       "UIZlRazwdgjUU9bk3TOws9UHpEQpragyWwSSI90+5AFNNro3/mSAghYaps88JUEQrCB9oCCjbIcQ\n",
       "QvckTwkfcoM0pjMS87SCZczh61rbUpAndDkTc54XoT/aslFJgTp7VgGbfD16OmDCItgZKccG0mrC\n",
       "iU6dL8J8jC1ePVF6J+tCR1265Tdt9i7dUkQ9MUCXP0t0+Wn7v6DKcpEr0F1qT50ZxK0wtVjKkzQT\n",
       "XjF7keMPDDtniViQoyeH/9F/qCiyD86Ge+HH0M6Kd1l7k7QQQqfTTO4bnjOnKvqCc2VcvE1+Kcth\n",
       "29nqAM5jlNyunAJEh/HmBDepZrgYOgu/zEG088LB2pOTL1irLLs8RaqVfbXouEuXr4J5vAd3KgIP\n",
       "Fuw2nYJl6CuqvCIsjO6KdtSZQdQKYY8JWT68GeJd53DWx4aPH3+OcQnWoWPbxMinzJ+8fpLUVciM\n",
       "MygLnrge/DOxsmv4r3LxLQgZOXQ6y8kKlYUzpJ/Qq7XnMpmHXejmafNKA8gN/4XIT6gJpl6RiKLm\n",
       "75dKhe3DBe+hU6x1MbsWRir1fC067tLlqxQe9RenIrCL/z4u0SG3fAErH2cymTLkaEy8UmcGioXO\n",
       "nxVS51BORrlom7URswrly5QHvTsLH3XQ2fMLKTa6aDNNij+ZITcjfnI7JV3f6ui7KKn7dQpL1OQv\n",
       "hr9GYQcDjmJoPV50CVDZjTBSRc/UouMuXb4qhi9XGJOtCFwDTodtwTSfkhORFVF4yxIlzwxsh6VN\n",
       "fp2NPtiHAnXKfuePms1QvxQbHWocSUAIB/2GtsBUaecPtdqFLmdijHwIlpLJVZ+YUsB8N2f4OtoN\n",
       "fxP8FJai207vgw4POvLGf8K9vAosq3VY0aXLV+XX7YO1vEywInRL6IwM5qiVTutCaBYx5D2Kero/\n",
       "Gy7QMuGaAUY8O+KukeIpo5/ohB0pech5IkqnTHzSZKMLZCGQOKq0hF6fCSvPFZUW0Lru5KdnKSW+\n",
       "xfjm0M8H+1ZcgA2lqfhdb09sGsJlIR3b2pqG3G+vAl//vmepGVqb4r/+wPSge6MCK84VusvaltZF\n",
       "D0MNOtGly1e99emq07h1M6Ui0F2GD4dMAQC1Qj8dat1VJnQqZdYrXm2b3clgXDNwzn65FE9ZM/oZ\n",
       "X0e9fYlkyk+20W1AZb5rQtxO6e1ntGXWjrHb6h7/AbvzdMuREgtPdLwqmvbcQpOJj2SRWLk3k7GC\n",
       "6lbvDBywaMVX6xym+y5xArthlPZvSPH838Q2T2UcJTdudFHjUuicZbfnFtogbKtB5wxaplfx3Y09\n",
       "VHCjK3oqYxd1MD1edBqMF13QcN8ywFqNgg4WehTXCv9ZdP/u8qtL/D+s6MmIi/aAq9dzTiUawtbJ\n",
       "iWt8yButGjoxX3IeTJbGFWVaehLC5ZX10DEJ4fJK5ySCyy0zwZiEcHlla6k4CaFe+RcsqoSAjtnM\n",
       "MAAAAABJRU5ErkJggg==\n",
       "\" style=\"display:inline;vertical-align:middle;\" /></a><br>(see <a class=\"ProveItLink\" href=\"../../../__pv_it/theorems/9f08b1d739ab42e9eb087f5f0a32a094afdd86120/dependencies.ipynb\">dependencies</a>)<br>"
      ],
      "text/plain": [
       "<IPython.core.display.HTML object>"
      ]
     },
     "metadata": {},
     "output_type": "display_data"
    }
   ],
   "source": [
    "%proving qmult_op_op_is_op"
   ]
  },
  {
   "cell_type": "code",
   "execution_count": null,
   "metadata": {},
   "outputs": [],
   "source": []
  }
 ],
 "metadata": {
  "kernelspec": {
   "display_name": "Python 3",
   "language": "python",
   "name": "python3"
  }
 },
 "nbformat": 4,
 "nbformat_minor": 0
}