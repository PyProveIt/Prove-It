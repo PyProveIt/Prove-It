{
 "cells": [
  {
   "cell_type": "markdown",
   "metadata": {},
   "source": [
    "Proof of <a class=\"ProveItLink\" href=\"../../../../../../_theory_nbs_/theory.ipynb\">proveit</a>.<a class=\"ProveItLink\" href=\"../../../../../_theory_nbs_/theory.ipynb\">physics</a>.<a class=\"ProveItLink\" href=\"../../../../_theory_nbs_/theory.ipynb\">quantum</a>.<a class=\"ProveItLink\" href=\"../../theory.ipynb\">algebra</a>.<a class=\"ProveItLink\" href=\"../../theorems.ipynb#qmult_op_complex_closure\">qmult_op_complex_closure</a> theorem\n",
    "========"
   ]
  },
  {
   "cell_type": "code",
   "execution_count": 1,
   "metadata": {},
   "outputs": [],
   "source": [
    "import proveit\n",
    "theory = proveit.Theory() # the theorem's theory"
   ]
  },
  {
   "cell_type": "code",
   "execution_count": 2,
   "metadata": {},
   "outputs": [
    {
     "data": {
      "text/html": [
       "Under these <a href=\"presumptions.txt\">presumptions</a>, we begin our proof of<br><strong id=\"qmult_op_complex_closure\">qmult_op_complex_closure:</strong> <a class=\"ProveItLink\" href=\"../../../__pv_it/theorems/fbe2ee08eebce9f1e19fad2d27ce65608db4743a0/expr.ipynb\"><img src=\"data:image/png;base64,iVBORw0KGgoAAAANSUhEUgAAAjQAAAAlBAMAAACnsG4nAAAAMFBMVEX///+IiIgiIiIQEBB2dnbu\n",
       "7u5ERETMzMzc3NwyMjK6urpmZmaYmJiqqqpUVFQAAAB6qHgnAAAAAXRSTlMAQObYZgAAAAlwSFlz\n",
       "AAAOxAAADsQBlSsOGwAAB2RJREFUaN7tmntsFEUYwL/r7d5u79FuAzE+KpRLUBSQA1QMAj2SqyUR\n",
       "YTGkhGjaA/RoAoHDqkT/4A4wRENCawhGDdAzFPlHQmOKaFtz1yg1SI31gUIKdk3ExL+uoq3loee8\n",
       "dm8f3WvgzoClk3zd68zczLe/+R4z0wLkKP2Za3CblmRmMGf7T3Abl0fG0YyjGUczjmbMoinxT7uF\n",
       "mTj8M28emuJb3GB6xgyaOBNdEXN0F0cdZ8ygcfRSQeUNtc4t2fe/167hPSYqGgU/ztuiydWcD5oC\n",
       "jvs9E1Satcpyaz/3uvn44QsC7G5G84v7WEN3ZjY8/ccBcKSAiIqmHT/etkWTqzkfNIUbl2+igt86\n",
       "k51CtnTsODeEH6sBPCcODaBk0KS2pHvBV4+e+5gwNNuw94Vt0eRqzgdN4cb1pKjgj2kt5Hhbzf1c\n",
       "ipug6QTYAMUVAKUptSkWht34eZoJQ4Pxcr22aHI154OmcOM6maCyZHnUvC1xrPU/QD9NlsUq/AyA\n",
       "TwEnWpV+zbCKh3ni4E6ZCkPjTdmHRYQmV3M+aAo37jkmyAqlyVnY+2l8eVN7/8fpw0fcqA4FnN+0\n",
       "vt6rtVSvFBU1Q83x+x/OkaFyNOeVoQo2bhsT5E/QT3yEK/sCYBlNWRoZxxXmf0H881gC4PfsGJUX\n",
       "yYNTqKhoTgA8nwNNjua80Gjjyuy1iEXX05puxfiFs9aMbTAPaiJHIYbfW5wJHwGcAmOgLwqAZhnI\n",
       "u5D5DGdHW05zvbeJiopmD4h6RRwbft6uR0Obd++NkqwH8MNQvGQRdemVc6q45mpvBb8ZdlXo4iIa\n",
       "pKw6OAoadVp+Hg2S9ASh1mQ1OjcbqZuwKqCF2ZlMAFU14u8VBQF95ztSpSUhaGRfKMI+t60yElkX\n",
       "yCqUpur7AlRUNC6ZS9AOwqRIgt8U9z2nR0OavcG6XihKMJ/1xGlf2AQwAQQJGkHQoSnCJuFRRkGj\n",
       "Tsv9bUaDaxQ2A3jO+AFqR1CgRR1sPhO0qB1pnPOSxA5j5I2Q2/rvo1GYvaQTP8//c+FCfzaHefZQ\n",
       "bxMGqKhofJIaDjuQMXArAD7XoyHNW6AuDg1qpK9ifSkaHNQMaCbgLACjoVGnPTLbjAbXKGwGCMGP\n",
       "eBNkVUDbuGhokOalWI1HSfUhYoDZ7cFe0KHBzhTTcjecEIZo0A5Q0Q4KTV14qcolshF89lXdIYMc\n",
       "FEgzXoQONnabzDaNFE3NAEazoOw4wNIy8Z2+9nRIPihDfNeMicfhtdNIk4mT4lyX5Di/1HBQoOOC\n",
       "dNCMBtcobAaR3NBWWBXIZn7NoVppQOFpeP0W1G/S7HWNxTXiUHi397W2B+KiMIv84qugoqF5Cm8A\n",
       "HxQCNSTgnTWfoUgzdKMuLBj9hX6QvrA2FFoHIkEzjBJoca8ndehsEC3ujkvtuOou+AUeA67VEzwA\n",
       "nS2w3YCGjuuAT0xoSI3CZuDwsotNVgXAp/rDGiZunHmRNwCC4Cb9USnTfGbhYYAGtE4uHHFL0Y8k\n",
       "tirSdjfiRMKYN0xFQ7MTWa8nzEc/wBUnT5rR4GZYnZk7d4AxxhsE0pdaDU/QBKA0EQN3OCYTu9+S\n",
       "lkjV67ARuYK4agDej30qG9CQceEIdUkdGlKjsBmc2HbcYasCpJKUZUx24lFw1kHpqVrN58WqbR2r\n",
       "zEz/aj9L0GS3txdWQR2GXoOwlA6qiR2LhqYkSj3wVCQS6d16xIymhPj8MMlquFRNlllfIxpn6rOe\n",
       "ngTi0oANVxggVY7FU+AYWooFPV+6N18xoKHjtoXSshENqVHYDDHc6FOsCoCgonmBSk1mH/g2X0Yv\n",
       "xi3tklUT4389TP2pnu+bRRIriYoRvJfZOg2KpgK8XDkPhOZL2AhxnMdiuJQoRb72IlmSFaqZGS4l\n",
       "3BVQQi2Yk52trK/VaoiSDXwKvUsFqZoBa+RGmYT9l9hWw3ApgbYnjVEDGlqjsBlweIliCmYFsg5V\n",
       "FKViupRhUcb9hHpQUMv9SPD2KTkdATxjaNrBxICmOAFBF14M8ck4LLai8bRCsQQ8WpPj4BjEqdeE\n",
       "Zhg5tyvFS8hk6oToFbRpEQbhDn4QpkiuIC9thBV97PUNaJDblPYa0NAahc4gDnVGXQkcTM0KgEPS\n",
       "HSSth0lPyi49ntb/Ytx9dTIxoBE7u2RxPdnHvbUhakXjjIJTuigs5D+cCrWXU0D6rpxb5Wiurr3K\n",
       "J1vF8i40S6hMTC8Brg3aQyEQrn3TCvf0vCKhauAWS33lSyxoPIuAT76rR8NqFDrDM0efmLWeLLJZ\n",
       "AXBpCaaeiaHsst05uHQXgrzhxgvfBJDbAOst38pIJGFzy4eSS8lDcfDZ97UUIXA9t3y65I2LYpih\n",
       "ZQQFagyfaszj1dvf74RHOm6o0Ai4G7kAPXwdByVhID80eu+IWxX4OLvYEhXDEStur9h2u4Y7mdwQ\n",
       "mtR1oNnzZ8HQQJVFAW9ijP5Fwfp3KLoDdzE/6DYZAW91i/8OjMO/4Oah+V+UG0YjlAfH0YxctkF4\n",
       "HM3IZf24Q9mVqSDf1mhy/C9fS09qTINJZgb/Bb+APMUCTRm9AAAAAElFTkSuQmCC\n",
       "\" style=\"display:inline;vertical-align:middle;\" /></a><br>(see <a class=\"ProveItLink\" href=\"../../../__pv_it/theorems/d7da22906d9069c073712d3c64b026af909867410/dependencies.ipynb\">dependencies</a>)<br>"
      ],
      "text/plain": [
       "<IPython.core.display.HTML object>"
      ]
     },
     "metadata": {},
     "output_type": "display_data"
    }
   ],
   "source": [
    "%proving qmult_op_complex_closure"
   ]
  },
  {
   "cell_type": "code",
   "execution_count": null,
   "metadata": {},
   "outputs": [],
   "source": []
  }
 ],
 "metadata": {
  "kernelspec": {
   "display_name": "Python 3",
   "language": "python",
   "name": "python3"
  }
 },
 "nbformat": 4,
 "nbformat_minor": 0
}