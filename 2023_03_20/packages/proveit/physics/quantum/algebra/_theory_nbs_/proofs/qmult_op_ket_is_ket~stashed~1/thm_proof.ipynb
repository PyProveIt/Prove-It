{
 "cells": [
  {
   "cell_type": "markdown",
   "metadata": {},
   "source": [
    "Proof of <a class=\"ProveItLink\" href=\"../../../../../../_theory_nbs_/theory.ipynb\">proveit</a>.<a class=\"ProveItLink\" href=\"../../../../../_theory_nbs_/theory.ipynb\">physics</a>.<a class=\"ProveItLink\" href=\"../../../../_theory_nbs_/theory.ipynb\">quantum</a>.<a class=\"ProveItLink\" href=\"../../theory.ipynb\">algebra</a>.<a class=\"ProveItLink\" href=\"../../theorems.ipynb#qmult_op_ket_is_ket\">qmult_op_ket_is_ket</a> theorem\n",
    "========"
   ]
  },
  {
   "cell_type": "code",
   "execution_count": 1,
   "metadata": {},
   "outputs": [],
   "source": [
    "import proveit\n",
    "theory = proveit.Theory() # the theorem's theory"
   ]
  },
  {
   "cell_type": "code",
   "execution_count": 2,
   "metadata": {},
   "outputs": [
    {
     "data": {
      "text/html": [
       "Under these <a href=\"presumptions.txt\">presumptions</a>, we begin our proof of<br><strong id=\"qmult_op_ket_is_ket\">qmult_op_ket_is_ket:</strong> <a class=\"ProveItLink\" href=\"../../../__pv_it/theorems/a459c4d271a6f866a74e0e081cf6976652063cac0/expr.ipynb\"><img src=\"data:image/png;base64,iVBORw0KGgoAAAANSUhEUgAAAhwAAAAfBAMAAABe2wnIAAAAMFBMVEX///+IiIgiIiIQEBB2dnbu\n",
       "7u5ERETMzMzc3NwyMjK6urpmZmaYmJiqqqpUVFQAAAB6qHgnAAAAAXRSTlMAQObYZgAAAAlwSFlz\n",
       "AAAOxAAADsQBlSsOGwAABytJREFUaN7tmX1sFEUUwN997t5Xu0UwGiptDvwHg7SCQQVxjeVDLbhN\n",
       "TA3BtCfK2aCGLdU//ENugUhiVHpoMGr4qIIQE4knKfLVxKsWFCzxBEEIJh4kqIl/XOXLAsE6b2Zu\n",
       "P6+cxGuC2EnmZjs7++bNb9+893YKMCTlVFS7ToUNUkZEM+CKThgi6cnrVthgJZwmP703FA6NV15E\n",
       "/Uq13rAV8cbE4cqwSspr+OPtyN95ltQPBn0uKBk4stjxU+lxlFBuEsqwiaSLjPuBV1I2mHCQxZ5A\n",
       "WI7Hw4vPSr6J92ag0sCxG2+8W3ocJZSbhBAuLFDEofqSrCK5ARMOGcCN7RrHE2VXAI4SqQFFx7EU\n",
       "N0+s9DhKKDcJAtrayiLDQmlW8TKn6Th8xDq8uIW+dTwhXAAxhZaR0nEgGW+m9DhKKDfJ3uycIsM8\n",
       "vJIy+zFVxxFR+XvxKOzmzdFo3htt0Jpoe7eOA5vAELjSEspNMpdfzKMe55WsXqrK6Di8+V0bYJbz\n",
       "8Sjjke+2UxcHa43Iclc0OnkoIkvp5BJhnmh0rFxkWCevZK/Az2mGo6GL4BjBPKyXLl00uxDPX8xi\n",
       "5ho4dgAsHAoculyFq0jnb2E9+7LW8cecUdMiLKSCX+EyAFIF51zLK8BWSMgMh3wYnoQqhfrSMDUv\n",
       "i0P2/sHa/QaOVSAS3V5/W4UI5X/0glY2XWW++qFxysPn1C+hsU9cYPJZRNmKWXIRHEwuETKF9viZ\n",
       "L8/3GDiO1xJdOpwKpMzCiKhVXEYY4KCeQO2aosdWmMAr4mrPUhxCZht8gw4FQ1OkhuKwhJYzrD1s\n",
       "4PArhGJYbs6AmwWmqRBCgq2/LAJ/Flw10ApiHywxhLjx1YeyRXBQuajUFTsO7CFPC2PiZEDoSBSg\n",
       "qYACmyxp2EJ4hMtw8Rb16/ERUeP5sPt4Bddze3IxisMHtSTOkteHoUnow5ttUVLyEW9njs2YMHBE\n",
       "JAKsFZo1aGNjqpQZaAI7cA0UB3mfFhw3AdSY329hHFQuKVtq7Tiwhzy9h5pgHfwIJElxKhBQzDi+\n",
       "p4TxrzeB0kL9BMnXD0KNHUcDQHk12yyR8wQH+RvtLkgHNppDs5pgYDaakvRkNwe0h/uXTlSkEvI4\n",
       "fIsRR1v3aAXqK8T3TuzO1SnrFdDEBd2PKmI9ybdGjtG83RLc1pM2r4DJBWm9HQf2ZHmWKJ7H3+oC\n",
       "ChhRGoUFwhLKCI6BvW4Vk4VKljn0QShl3yykw13DcISSYgZGMY8RqeamrZdZ4O6nF4dMOOZQX7tP\n",
       "tzrXn2gPFJt/XN3MGmhHHAktkgxkQumNx2TyEpefIRQSmitZJns0byokr4OuoCxK5hUwuS7YZcNB\n",
       "e7L8NXlxHjHpVAAiKbMw73EFZTSUK5I/AzGuH4Rj+R0G8BSvQQzxfRxHLKwEO1gKF6aPuCTDWxMn\n",
       "cQ744nUcK9Ds5w1MmtTH3e1ULjO/WZqpdQBcSkAwllCoTbfmJNolav50syY+0QebhctHLNudyoUt\n",
       "uLcsOGhPFj5hloDzBGNOBWinIUycTmW8egiksEq+hZh+vg1nJz2QHzaX1xU4sp/hCN7jhQM8hQsx\n",
       "579OT+qfIT8DCo/ROo4yuof7eSACmFGFKfw78fgLNhzTvurt7SBtG4ZKgXXByBHSp2T4tN4DsHmg\n",
       "w7wCJrezLqdYcdCeLOyPx+MZSODNSNapAAgWHPArk3FSzJC86kWuH5RrGCRZWcJq48AaiCy+KLM0\n",
       "bOnMCo3vRm5GTYuYUxKePqvCywN34PV4+wd+sBrKmHV6FQ+5EOSC1kEnbPOlszgDdrnT/lHtFA4I\n",
       "Sjjp+CYncaBdteBgPVmyJCzoLlRcuV0B22bJW9j4sPIGiQhcP/gQ4Hc94KmsGlkFrv8VfeMt592b\n",
       "FkRtCa5YbcdBHFJAAh+ZZDu4zgNPoUw4Elo45k/7JMKgWVAvYSaQUFyxZsVd4Zd90vPQQOaMOVZA\n",
       "tkR5xoKD9WQxrSKKXOhS/R348hwKuKRCOE66RJk6joV5mqv17/UUq1YcNCX3o4V0XfXjz4rDo4JH\n",
       "Oi3c79t2OzRdJLdWqpiGTVZuPfdSLjX/MizrHUmiYoWYmw3eTthdV0dc6cHR4Or6ejXpBu+DUuSz\n",
       "Hs2+gtB08H3xvhkH78mCiGcy87fOnEjalgIK+LVCOOZ/Xk99INUPgGRhtWX5iNzCqwUHtaJ5V/+8\n",
       "Xuk4DVtGVL1Tg4hxejAzvqhIJt52LQdYpkCLhey2x+PxvK/ZVECBRiiEA9MO2lL9MJSd+s38RKMd\n",
       "B7WxSjDjdZSWwQ4HP7qWD5PEv8NhtlbNqcDOwjj2Dn7Oh3CMWE+MSDXPdsvgh4raYDjS10BDzMml\n",
       "wgEzHAqEOwrjwOWe/q+dpL/l+NcIO9b28729T7Id7DmP+goIyx+NK0Pwf5axaXBFp8Fw+WeltWeY\n",
       "gelYNesfhmByfeowA1NxK75hCEYJ1vf+D1f9N818LP6W4s8JAAAAAElFTkSuQmCC\n",
       "\" style=\"display:inline;vertical-align:middle;\" /></a><br>(see <a class=\"ProveItLink\" href=\"../../../__pv_it/theorems/0308b453e166117a8b13567384d26cbb74c815ef0/dependencies.ipynb\">dependencies</a>)<br>"
      ],
      "text/plain": [
       "<IPython.core.display.HTML object>"
      ]
     },
     "metadata": {},
     "output_type": "display_data"
    }
   ],
   "source": [
    "%proving qmult_op_ket_is_ket"
   ]
  },
  {
   "cell_type": "code",
   "execution_count": null,
   "metadata": {},
   "outputs": [],
   "source": []
  }
 ],
 "metadata": {
  "kernelspec": {
   "display_name": "Python 3",
   "language": "python",
   "name": "python3"
  }
 },
 "nbformat": 4,
 "nbformat_minor": 0
}