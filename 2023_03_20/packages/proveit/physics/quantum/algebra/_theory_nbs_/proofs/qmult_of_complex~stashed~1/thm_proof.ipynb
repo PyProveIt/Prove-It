{
 "cells": [
  {
   "cell_type": "markdown",
   "metadata": {},
   "source": [
    "Proof of <a class=\"ProveItLink\" href=\"../../../../../../_theory_nbs_/theory.ipynb\">proveit</a>.<a class=\"ProveItLink\" href=\"../../../../../_theory_nbs_/theory.ipynb\">physics</a>.<a class=\"ProveItLink\" href=\"../../../../_theory_nbs_/theory.ipynb\">quantum</a>.<a class=\"ProveItLink\" href=\"../../theory.ipynb\">algebra</a>.<a class=\"ProveItLink\" href=\"../../theorems.ipynb#qmult_of_complex\">qmult_of_complex</a> theorem\n",
    "========"
   ]
  },
  {
   "cell_type": "code",
   "execution_count": 1,
   "metadata": {},
   "outputs": [],
   "source": [
    "import proveit\n",
    "theory = proveit.Theory() # the theorem's theory"
   ]
  },
  {
   "cell_type": "code",
   "execution_count": 2,
   "metadata": {},
   "outputs": [
    {
     "data": {
      "text/html": [
       "Under these <a href=\"presumptions.txt\">presumptions</a>, we begin our proof of<br><strong id=\"qmult_of_complex\">qmult_of_complex:</strong> <a class=\"ProveItLink\" href=\"../../../__pv_it/theorems/c1d599af7d097f9dbd982abf383e93bd611ab0320/expr.ipynb\"><img src=\"data:image/png;base64,iVBORw0KGgoAAAANSUhEUgAAAHsAAAAVBAMAAACUF4xmAAAAMFBMVEX///+IiIgiIiIQEBB2dnbu\n",
       "7u5ERETMzMzc3NwyMjK6urpmZmaYmJiqqqpUVFQAAAB6qHgnAAAAAXRSTlMAQObYZgAAAAlwSFlz\n",
       "AAAOxAAADsQBlSsOGwAAAbtJREFUOMuFlL9Lw0AUx781aZua1gZBcCgiURAEoYiTUytOihKhdBKM\n",
       "oFEoSBFBcJBad+miODjUycXBQRC0Qwt2EB06OFRwqP+Bi7vvLkl/HslBco/vu09e3rt3B3iNAkZn\n",
       "2BzQ80Kv9wg0sGJbclngvqWnxYxvMf4JTzxQBZ6ZcS2kgyVvHJfAKU2KKcTVqg/+DkQMcjaEuAQf\n",
       "XDIQpRARcepffniE2HldXxDjjw6eTuQHcRIhU92fgF0xfmPjxYZqclzV+eB7xUREqbYXUFrdu5H7\n",
       "OXPMORufhqQNRGciYkkgZLi+8IRVDh4UYjvOkkWOq3+C3LmI8C8Q09zKvVBnyhvAaw8umQKcixim\n",
       "6CjVmD+hsSbC5gm1Qc/Pb2ku3pU7FxGbpNcaNQ9mw8ksU5rNTohtjsfpq+X+6FxElP3DOX1ONYP5\n",
       "e6bX650163buJuSBjeMi1BSZI5SyRO43y7Iax3edNYd25Zc/xgbbhokYctU4nd0j3l5UuqAjDuV9\n",
       "uq7Ybr8yUiGDnZ7VAtKOGH3wwSuuoVRqhrLHrMxVrn2z7HvjfQc1Y1m9q7LeeMjntlI0LNl33ZQI\n",
       "Hwf+AQG9ZjCOWhBIAAAAAElFTkSuQmCC\n",
       "\" style=\"display:inline;vertical-align:middle;\" /></a><br>(see <a class=\"ProveItLink\" href=\"../../../__pv_it/theorems/773c6fc3e045f543345a2cab8c7fd9ff0d4d71740/dependencies.ipynb\">dependencies</a>)<br>"
      ],
      "text/plain": [
       "<IPython.core.display.HTML object>"
      ]
     },
     "metadata": {},
     "output_type": "display_data"
    }
   ],
   "source": [
    "%proving qmult_of_complex"
   ]
  },
  {
   "cell_type": "code",
   "execution_count": null,
   "metadata": {},
   "outputs": [],
   "source": []
  }
 ],
 "metadata": {
  "kernelspec": {
   "display_name": "Python 3",
   "language": "python",
   "name": "python3"
  }
 },
 "nbformat": 4,
 "nbformat_minor": 0
}