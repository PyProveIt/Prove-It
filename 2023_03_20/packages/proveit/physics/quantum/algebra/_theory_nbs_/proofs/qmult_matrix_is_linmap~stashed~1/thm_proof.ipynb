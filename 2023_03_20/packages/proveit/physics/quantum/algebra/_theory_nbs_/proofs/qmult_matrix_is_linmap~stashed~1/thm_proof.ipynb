{
 "cells": [
  {
   "cell_type": "markdown",
   "metadata": {},
   "source": [
    "Proof of <a class=\"ProveItLink\" href=\"../../../../../../_theory_nbs_/theory.ipynb\">proveit</a>.<a class=\"ProveItLink\" href=\"../../../../../_theory_nbs_/theory.ipynb\">physics</a>.<a class=\"ProveItLink\" href=\"../../../../_theory_nbs_/theory.ipynb\">quantum</a>.<a class=\"ProveItLink\" href=\"../../theory.ipynb\">algebra</a>.<a class=\"ProveItLink\" href=\"../../theorems.ipynb#qmult_matrix_is_linmap\">qmult_matrix_is_linmap</a> theorem\n",
    "========"
   ]
  },
  {
   "cell_type": "code",
   "execution_count": 1,
   "metadata": {},
   "outputs": [],
   "source": [
    "import proveit\n",
    "theory = proveit.Theory() # the theorem's theory"
   ]
  },
  {
   "cell_type": "code",
   "execution_count": 2,
   "metadata": {},
   "outputs": [
    {
     "data": {
      "text/html": [
       "Under these <a href=\"presumptions.txt\">presumptions</a>, we begin our proof of<br><strong id=\"qmult_matrix_is_linmap\">qmult_matrix_is_linmap:</strong> <a class=\"ProveItLink\" href=\"../../../__pv_it/theorems/86096fe3379319dd31276f3c93d4a8759a85f8560/expr.ipynb\"><img src=\"data:image/png;base64,iVBORw0KGgoAAAANSUhEUgAAAXAAAAAXBAMAAADgsQlaAAAAMFBMVEX///+IiIgiIiIQEBB2dnbu\n",
       "7u5ERETMzMzc3NwyMjK6urpmZmaYmJiqqqpUVFQAAAB6qHgnAAAAAXRSTlMAQObYZgAAAAlwSFlz\n",
       "AAAOxAAADsQBlSsOGwAABONJREFUWMPVV29oHEUU/21yd7u5272eRQ+tGo/7YImHJoh/IFV7CvbD\n",
       "RWWLISA2EP/0WlqVixEEhXaDWqlKc0UMBSNcicWCUvdDoJK0cFIbbE3rqcW0KnJBrJ+kKUKtValv\n",
       "Znb2crt76Z3fOvBuZt+8efubN2/f/A5ooa1cjdabVb9sGR+aHOiHhm+snyJNpzJb4CZa60hy/wO3\n",
       "UvEsa+zkZiC8rmv3m9kNk+V2y1HWNFWlimgCXMhLlc3+1CzwVqxFOyWgzl6usF388XsA8Ogzvawz\n",
       "skDnfXjygv3GDVhhOpM1TSFGBjdBSA7TbHZPs8BbsRYBKzoxPsfitO1SUMRnzlxg3RNAbBVhm7Wx\n",
       "gElnrqYZQRvtvcMUksM2ljVDzQJvxVq8uCygakds+j25GAA8Uo1y4IeAVyOEKW7jXsyoYrKmSWKM\n",
       "dLotJMfhhyrNAm/Fmrd2J6v1nRR6/fEhF7jydLpLjG4xtYdZ3wP8GmGHVNYWsXpeTNY0C5iN0fhu\n",
       "ITnoFJKOpj/OVqx5O+MAj8UI11tjCQk8ulsmMdaIzqCdDb0tJqu4tiy0Nc0e7LqORhNCyMud6fRd\n",
       "zVeVFqx5m5LAFcqSxNcFCXyni1u55CRVFlr1JW+F9GkeE0JeDgIbl313dinwK1p72oQD/B3jIgzz\n",
       "nFsOax94W4/oO8pQs594lvs1x4SQl120rWXfbS8FfgXraBnDdYrbHahfqv9iEPe4wIuuxZjjn2qG\n",
       "Zu/1Rtyn+U4IeYmYoVLwRZbJ4UjVA1xYq6y4xf4uOIe9dWFUPzw3fYqe51Qb+vQJ95R6Hag2ziOh\n",
       "nZfAVUq59K3i23Te3k790OteED7NdiHkxUgEfW3DZ7fg55AZMz3AHeuTtKEDVCLUznwp/IJlPGsk\n",
       "0ctuEL2PbJJI+YGvMSz9Twk8XCup76IGfGPEi8OnmRTCvBQ/Dyi/B9kNmbBD6JvJzJSW3NbC+nAK\n",
       "4e8p6jMU5NB64AtsChdjVCfV52j2N63oSRW1jPFBxHvcVHF3pv3Dfk2eKviYVW0sTQCf5lshzMuj\n",
       "79VIjCQ47FbF/A+jIW+Oc2vgs0XoKwpQWNHa8AojPikj26bThcEKZko5LovGU2KZYuGXBNqrLvBr\n",
       "3BDdvw8YIWQRln2ryCImd23Cq2HcQQjz8hpNSRIjRpY4yfnQ4Ic+4MwaWvki9lOmDTDt6dPs7KtK\n",
       "KX49VQHM0dh4ZGn1omVtlMsWtpdd4B3yFvt07eXMCVZ7Qsxx8n1rMCPZwl/waGR9nRJe4hRol8Tw\n",
       "kRnl5X8edtIHPM6PxfogXKE5XquOHq1nJ3VPL/Jl8e4J7MWB7jtMCTx8dp/IlM3hH7sfYD7VFOeC\n",
       "azOSFyJtejXUbhPiEgdJYsAJjj6ezz9PwPs7vHXcOV9M6SwLjuXz+crLHy1TH9sKCKa10XXyypfN\n",
       "R7ENM6DUpYS4PiWJASc4alZEPPpNMJWOIbkfVCL4tcY+znAj4IIQNcXHv/IqQg1ImyRufCMOiemH\n",
       "IDj8djxObDj4naOYrKiLrKqztX0WHmwY8s1NA49YHsX6AKMdjkgvksSMVATB2UEnrHZZiAe+U+kq\n",
       "DSBJnEXbxB77x7cWGgIfaBp42EuXE8Fx4OLzUpF/mPJb/Kse8qVhfz5fWp6saIn6ZSt7G5qONvFH\n",
       "0BLi8xI1cXU2/apB+h+KI13+bsIA3wAAAABJRU5ErkJggg==\n",
       "\" style=\"display:inline;vertical-align:middle;\" /></a><br>(see <a class=\"ProveItLink\" href=\"../../../__pv_it/theorems/50478639689ba45471190d5d9392014023d993070/dependencies.ipynb\">dependencies</a>)<br>"
      ],
      "text/plain": [
       "<IPython.core.display.HTML object>"
      ]
     },
     "metadata": {},
     "output_type": "display_data"
    }
   ],
   "source": [
    "%proving qmult_matrix_is_linmap"
   ]
  },
  {
   "cell_type": "code",
   "execution_count": null,
   "metadata": {},
   "outputs": [],
   "source": []
  }
 ],
 "metadata": {
  "kernelspec": {
   "display_name": "Python 3",
   "language": "python",
   "name": "python3"
  }
 },
 "nbformat": 4,
 "nbformat_minor": 0
}