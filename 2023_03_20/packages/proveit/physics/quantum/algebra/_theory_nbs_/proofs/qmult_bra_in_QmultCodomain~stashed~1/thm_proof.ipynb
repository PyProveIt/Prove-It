{
 "cells": [
  {
   "cell_type": "markdown",
   "metadata": {},
   "source": [
    "Proof of <a class=\"ProveItLink\" href=\"../../../../../../_theory_nbs_/theory.ipynb\">proveit</a>.<a class=\"ProveItLink\" href=\"../../../../../_theory_nbs_/theory.ipynb\">physics</a>.<a class=\"ProveItLink\" href=\"../../../../_theory_nbs_/theory.ipynb\">quantum</a>.<a class=\"ProveItLink\" href=\"../../theory.ipynb\">algebra</a>.<a class=\"ProveItLink\" href=\"../../theorems.ipynb#qmult_bra_in_QmultCodomain\">qmult_bra_in_QmultCodomain</a> theorem\n",
    "========"
   ]
  },
  {
   "cell_type": "code",
   "execution_count": 1,
   "metadata": {},
   "outputs": [],
   "source": [
    "import proveit\n",
    "theory = proveit.Theory() # the theorem's theory"
   ]
  },
  {
   "cell_type": "code",
   "execution_count": 2,
   "metadata": {},
   "outputs": [
    {
     "data": {
      "text/html": [
       "Under these <a href=\"presumptions.txt\">presumptions</a>, we begin our proof of<br><strong id=\"qmult_bra_in_QmultCodomain\">qmult_bra_in_QmultCodomain:</strong> <a class=\"ProveItLink\" href=\"../../../__pv_it/theorems/e430c41f6ffe74948d649b387281d45bd20a6ae50/expr.ipynb\"><img src=\"data:image/png;base64,iVBORw0KGgoAAAANSUhEUgAAAXwAAAAmBAMAAAA1qz3cAAAAMFBMVEX///+IiIgiIiIQEBB2dnbu\n",
       "7u5ERETMzMzc3NwyMjK6urpmZmaYmJiqqqpUVFQAAAB6qHgnAAAAAXRSTlMAQObYZgAAAAlwSFlz\n",
       "AAAOxAAADsQBlSsOGwAABd1JREFUWMPNmX9sE1UcwL/X9q7Xn9zmwCxMsywzJv7hqsNgZOoZJzCF\n",
       "5MQEQ0xsXXQkE7RjEkI09NAEY4ysi4FIAjqVkIAJq0oCzhk7NyVqCf1DEw0IDQZB/WNlDB3doL73\n",
       "7t31rr12661xfWneW7997/s+9973+33fdwOoYDmfnbE48quyerN7SPN19lol6eGc1YGeVHn9t0hK\n",
       "e1914H9fZn9vqprwnWVjbK4mfJdY7oinpCrCPy9ZdJbqwG8uewQ/VT34Tgvx7/nqwfeHUMU0hQHC\n",
       "qkiG2juLLXwM16PVg78ojirHACILqaLHyces+LbGBNT0JRV84gNnK4ZvRV1EpviOZEl83+/XReCP\n",
       "vYR72WIK/hBu3qsYvhV1p4Hi26AUvvu5baPXAT7px3HKE1Xwd4B+0+aNb0Xdnyr+mZL4S1Cy0yIw\n",
       "j63C5ExawXdJ+k2bN74VdQ+p+BtN8Jc0NZGFBgdelMFG4Il9+v5V8L3Ib1yVc10r6iYpPhstxD+8\n",
       "WBUNYpuxp3FUwsH2Bo089zY1Latg5LGgbobiM+jRtyHifyQNn9+j9SJaXWk1Z56h+McBXqggvlGd\n",
       "R1cDxMwD+Q2KbyNdnPuPihq+S9bCToZ8b1S/X6H4u4k1vf1uGHxK5sQ+2ix1TIa/gfVpvtNAwtSs\n",
       "EmfD302NUymcrgY4pRF/sRzgJ/XQVfGPIsgw+AFCOXxNk4OkCfaYweIQPiehkV4xmAQb8p6eP7qB\n",
       "SwETgB7g07AlR2LDK1v6XoHxiboi+KTFM4yxCPkuNSBmKD4Kug6Ab/EWqPi9TaiQQOYnvSLauTxN\n",
       "8X0CesQeCMrQi5b4OJ6F4KNtMODfAhCgx1IpfKKuCL5HVmZwCuwUOAP5q9+A9hdAAFbQ8Ndrmpib\n",
       "uH4R8vEhOkKeC+BLwBooPvsyxu8dWSrBmhp+35mh8XbpfQlkvnPkCYlfg1aq7nbZMSLAbWNxQ9JA\n",
       "1MVhe5sBnwhwutKgIKfBE8vH34At1B0GT851cwcZmz3hXO3VTF+zfVhLvPs7vJss2SeuuX1lAPow\n",
       "fkT2RV1JT/zjX0S0N69PDOEjnon6RbvsiHnEAzDsFnnBgI/VuWX+8nY9PhWE6AzgDRFTVRxBjTyc\n",
       "DJ64B9hLucDJCLn7bXaFdFgyhiuM/wY2iA3Z1tY0uOPa6kOQrD5AJgLuUETCf0LPuEBEvMzFgzL/\n",
       "dBoOOad/NqZsWB2DjNihx6eCs3QG9oOrrQ9r63qF4uPQsa/+tc8GdHH/gO79AjCxvHCF8f3EHabA\n",
       "GwXv3q6uzXn4baOJxABq0UfCm45FUFcrDKI1bEv8AIeyAwZ8rI6Bd7AZ6/GJ4BU6AyySddfzFeqp\n",
       "i0zD2zIh6o+tZ7vVBXce+fEv3R0hY0iY3Y3gRzFXNF19wC7cy8ZTeAYsssW5xX3kYcApeaMFCbMf\n",
       "OeBvenwqOEFngI8A/tZQ9qr4a1E7nJc0HOykSUNLdlJ3qfddM+AjR3IJ9MTR4Udkb4iLswJiDjrD\n",
       "GRzTIxITCkq2Gk5khU3wpC8GoQJ876XUq6IeXxFgw1fONBQl+jX8z1X8XahdXixl489lb558S91p\n",
       "R6MB3x4Gu3ARdoXxsbVMqp/cOh57Zhp2JuoA2mv48dXgOAZD7e3IdU8tBWb4ZD8Sg+MRwffpmFx4\n",
       "Xfn1arcxcBIBgxGJqSLIe/yqWZyWKL5L2dCi+f6FictaRE4Z8HeiHb9bBnZlV/csmUHvXG5bXiEv\n",
       "7hMB/kZmwMHqgoYSTFJ81IlpnOW2pb+hWbksRuaCzyXz8IngQ/NhHA4oDnzXTQGvHKu3Qu0DJSkG\n",
       "ZWv4/Lg4B3yblIdPBBeLvPILlL+IHf/LVZ3X1Tjwmr8wzpQ/1YNV9Jqqo+wRTMAcv2dsAfDt4RLv\n",
       "sBrMjNWeNMV3prgFwM8dfIVlB5hd/OvN3zBz4YUwHthf/KeNpvHjfnN8m8QuBP46uehPd5g5/Lqk\n",
       "Ob57TWIe+Jb/t6W7keeXg4l4oXATqSv9vy3r5c2yerNajvsfxqy4uDduw1QAAAAASUVORK5CYII=\n",
       "\" style=\"display:inline;vertical-align:middle;\" /></a><br>(see <a class=\"ProveItLink\" href=\"../../../__pv_it/theorems/986d68256968ec5765369bb67caacd9f06567bf30/dependencies.ipynb\">dependencies</a>)<br>"
      ],
      "text/plain": [
       "<IPython.core.display.HTML object>"
      ]
     },
     "metadata": {},
     "output_type": "display_data"
    }
   ],
   "source": [
    "%proving qmult_bra_in_QmultCodomain"
   ]
  },
  {
   "cell_type": "code",
   "execution_count": null,
   "metadata": {},
   "outputs": [],
   "source": []
  }
 ],
 "metadata": {
  "kernelspec": {
   "display_name": "Python 3",
   "language": "python",
   "name": "python3"
  }
 },
 "nbformat": 4,
 "nbformat_minor": 0
}