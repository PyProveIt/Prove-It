{
 "cells": [
  {
   "cell_type": "markdown",
   "metadata": {},
   "source": [
    "Proof of <a class=\"ProveItLink\" href=\"../../../../../../_theory_nbs_/theory.ipynb\">proveit</a>.<a class=\"ProveItLink\" href=\"../../../../../_theory_nbs_/theory.ipynb\">physics</a>.<a class=\"ProveItLink\" href=\"../../../../_theory_nbs_/theory.ipynb\">quantum</a>.<a class=\"ProveItLink\" href=\"../../theory.ipynb\">algebra</a>.<a class=\"ProveItLink\" href=\"../../theorems.ipynb#qmult_ket_bra_is_op\">qmult_ket_bra_is_op</a> theorem\n",
    "========"
   ]
  },
  {
   "cell_type": "code",
   "execution_count": 1,
   "metadata": {},
   "outputs": [],
   "source": [
    "import proveit\n",
    "theory = proveit.Theory() # the theorem's theory"
   ]
  },
  {
   "cell_type": "code",
   "execution_count": 2,
   "metadata": {},
   "outputs": [
    {
     "data": {
      "text/html": [
       "Under these <a href=\"presumptions.txt\">presumptions</a>, we begin our proof of<br><strong id=\"qmult_ket_bra_is_op\">qmult_ket_bra_is_op:</strong> <a class=\"ProveItLink\" href=\"../../../__pv_it/theorems/97eca17af952378617cf5ff0619505b4baf77f220/expr.ipynb\"><img src=\"data:image/png;base64,iVBORw0KGgoAAAANSUhEUgAAAcgAAAAZBAMAAABHmqPnAAAAMFBMVEX///+IiIgiIiIQEBB2dnbu\n",
       "7u5ERETMzMzc3NwyMjK6urpmZmaYmJiqqqpUVFQAAAB6qHgnAAAAAXRSTlMAQObYZgAAAAlwSFlz\n",
       "AAAOxAAADsQBlSsOGwAABhtJREFUWMPNWF2MFEUQrrnd2dl/BxISY1A2q4geUU5PjQrIvoBPmCEx\n",
       "JiQKG4GFkBAX4eU0wqIGQwh6SFAfSFhiiC8mbggE8O5hNPEHTsJG/AkB9BIF9cF4ctyBipxVXT09\n",
       "PXO7c9yL0EntzFZ/VdPfdHdVTQNEtnzxHriedr24/7lNLTbBKN43ASp1nd5ScHO2rIs/X91gkkkh\n",
       "SfW/Kq+WBqhFm7d3e7OQvF1IvO79Xy2vWz0Fdu2LNm/V0jaLR3KQlGcjBh8NmCQu1HIlIZIkjuqM\n",
       "7FiskTTc8SRWPO6ZZ18Yts05jzV5Bo9ew99tDkzHy3Sf5MfU+V7E4KMBk8SF2lIWSRKH3CE7ChpJ\n",
       "2D3Oru/0qGcO+X8BvpNLuu+lBfj7G47HYZEkN9ELKEcMPhowSVyo9bMwSRNnMs4zkmvoJAfCZonB\n",
       "9KhnDtYoJCU80YC38XIVyTWkMEniK123Hnw0YJK4UOtiYZK5qnpLiapOMuaIW+P54r2snOEkF3rm\n",
       "AHtryyT4B4BH0M8I3j7MIknSJRU1+GjAJHGhLdnLwiTj/npfCjrJlNiU6Z2Op5zrm2M7eWhQwc1L\n",
       "uH5JvYfFi64PFosPRUbNSMAkccGWKbEgkyX9SHIqwDeiA2OGVYX03lWCZFyQ2KY4Gn/75thi1xw/\n",
       "ImHXLRRWn2LxSB4GWBU5eAbIZZ+ZCKcIBOCN1lYuCzIpnYJncRnKyFMQlj3HfxYks73BmNbR5ZvT\n",
       "ZP/pezSGAH6kKHSMxSP5JiTxTW3fVRURGSPVaC3/RFUbPAPEZnEhq3adbxHAqeCg/QKcUHrdfUeT\n",
       "JV63mgfgS4ghN1q5afTzPSWlhCCZE6R6lYu3Gr45hdeLqsf6abRS6aa7UyweyYSDjrKl5U3oqMsV\n",
       "n6npMyQATNLmq3VHpa5b6LjWJMV1/YW1QfexOku8bsIDmEFw9ix6T8S0BFkHFeTSGqJn4m4o3s1x\n",
       "p+6bYzvyh3ps7uTv5879Q3ebWTySORtHuB6W12CDF7sWBpahAAhySXx1RygdVYMWOq41SeKVORx2\n",
       "75OkkFiCJZzfRfq3wQBUEMk0zaTpZ6ddoJPMVDf7XbhUrat08z6LKut6P5HU+6TtQSdYrglAGfYN\n",
       "Zp1ZsB28EsS30HEu9MwLkBQKymTTx7n3lytkevENTkNHNMtmL+3iDwAO8XItBOqDpGDheMv1Sei4\n",
       "osaLdUBW/PuaRZFcLCqKzwE65ea9HKpJBaBs2iMGrKNhP8N9voWGS9eSv/boJKWirKZCc5+wWYhk\n",
       "Oeuk617RuoYSfQOWVTnwCMspKqTN3w+woc6mYOBeu0QvRvRhDMoMycGRKJKv0TZYOtbdPSRT09wQ\n",
       "SQEoJ58rGPAF5Fz4kHOZb6HhDMwEcZ2kVJyFtDvOPeUGIXVIPxqH46poxUSS2vnuQCfnSU4VKS/k\n",
       "fbRgbPaJPdLcXIk3YzityykwUR2Q6jJxNx0EIYpkXsS6KzJSAyycEVquAlCGvL0D941VgmOVSqWp\n",
       "W2g4A3bQZtJJCsVGyL5TqawLurcKLMRk06IpNbUoKZF8OnaXLAY4vJkX9vNqXWOemSPiM5paK4ar\n",
       "0DM2G0Ez6XE457HLL9Z4jXWGP7XSBchzZI47sUaLT6gyPuuzpEshZGPIQsflMWKc00lKxRF6O+Pc\n",
       "z2IRUfkVrWil8jDjehXPq3KIi7yyTjdX7Vt6HMW3i4fwTRRYgiQzDUjZYJZosxsjLUnmbft1sSET\n",
       "jm8RxmV/GXy5pJNkBW1IrhQC7gdYBMlpIEcpC/1Y1SPZ365UCVTupUAt5bIESaLLmH3emm8emAnL\n",
       "/nJbkTT7VqL+NhzCat9iHO708NpgChEKg2IKjjrknjihCJIlvWjdzZlOkGz/aZPQDg1MW+/ZKiVI\n",
       "cguutPtrkGv7xV/mNCny5dOVSt2zCOOydihPCgX9MxdV1obc0wSjCJK2LFpFw2Q01SOZaHv+oeVO\n",
       "DgSqrZHS8vhjfxRJLEH4UCHq+CPRDJEUinZHGFuEGOrLalBtbXiDx16FW9tX+Fva6I0aS2uSbhRJ\n",
       "ell5ZwKSHU6IpFCcv6lP69R5qlwz5kS44EGad5zm3KBz1ztdMIrz/gPQMr8TwgUoUgAAAABJRU5E\n",
       "rkJggg==\n",
       "\" style=\"display:inline;vertical-align:middle;\" /></a><br>(see <a class=\"ProveItLink\" href=\"../../../__pv_it/theorems/8f5661ea71770d802829d43c5db8ed10c6f90c4d0/dependencies.ipynb\">dependencies</a>)<br>"
      ],
      "text/plain": [
       "<IPython.core.display.HTML object>"
      ]
     },
     "metadata": {},
     "output_type": "display_data"
    }
   ],
   "source": [
    "%proving qmult_ket_bra_is_op"
   ]
  },
  {
   "cell_type": "code",
   "execution_count": null,
   "metadata": {},
   "outputs": [],
   "source": []
  }
 ],
 "metadata": {
  "kernelspec": {
   "display_name": "Python 3",
   "language": "python",
   "name": "python3"
  }
 },
 "nbformat": 4,
 "nbformat_minor": 0
}