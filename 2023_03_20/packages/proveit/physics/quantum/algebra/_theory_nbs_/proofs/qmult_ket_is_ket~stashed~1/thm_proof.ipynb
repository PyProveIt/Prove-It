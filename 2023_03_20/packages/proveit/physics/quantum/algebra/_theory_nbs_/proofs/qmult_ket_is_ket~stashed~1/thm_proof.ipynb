{
 "cells": [
  {
   "cell_type": "markdown",
   "metadata": {},
   "source": [
    "Proof of <a class=\"ProveItLink\" href=\"../../../../../../_theory_nbs_/theory.ipynb\">proveit</a>.<a class=\"ProveItLink\" href=\"../../../../../_theory_nbs_/theory.ipynb\">physics</a>.<a class=\"ProveItLink\" href=\"../../../../_theory_nbs_/theory.ipynb\">quantum</a>.<a class=\"ProveItLink\" href=\"../../theory.ipynb\">algebra</a>.<a class=\"ProveItLink\" href=\"../../theorems.ipynb#qmult_ket_is_ket\">qmult_ket_is_ket</a> theorem\n",
    "========"
   ]
  },
  {
   "cell_type": "code",
   "execution_count": 1,
   "metadata": {},
   "outputs": [],
   "source": [
    "import proveit\n",
    "theory = proveit.Theory() # the theorem's theory"
   ]
  },
  {
   "cell_type": "code",
   "execution_count": 2,
   "metadata": {},
   "outputs": [
    {
     "data": {
      "text/html": [
       "Under these <a href=\"presumptions.txt\">presumptions</a>, we begin our proof of<br><strong id=\"qmult_ket_is_ket\">qmult_ket_is_ket:</strong> <a class=\"ProveItLink\" href=\"../../../__pv_it/theorems/2c41aa39449c2f6dd6037dc13dd1f76d617bba390/expr.ipynb\"><img src=\"data:image/png;base64,iVBORw0KGgoAAAANSUhEUgAAAUwAAAAfBAMAAAB+LemBAAAAMFBMVEX///+IiIgiIiIQEBB2dnbu\n",
       "7u5ERETMzMzc3NwyMjK6urpmZmaYmJiqqqpUVFQAAAB6qHgnAAAAAXRSTlMAQObYZgAAAAlwSFlz\n",
       "AAAOxAAADsQBlSsOGwAABOVJREFUWMPVl39oHEUUx7+bu93bu9u7bmqq1Wg9jkJEqRy2f5VAVw1V\n",
       "aypTkBQRvW3UtUSLl0bxL3PbKv0n1J6WiILVK5WCIvQKxWoa6EZTi3pi/lBU2tJDVPCvnNJCacH6\n",
       "ZvbHbdPEHOVKk8fNzd7s5JvPvJn3ZgZoof2WtXEdTMquaqleCdfJqjcG08bSLgSej1Gh33N1vWGY\n",
       "0hQ2gH9cUwoI/Zph+13MGq9OtwqzObUf0cCUgFRlFsyRD0lLHYXkCMwx3vZuqzCbUpNLIcwolczV\n",
       "mMmjB+pAmnqOCsxh+lbNVmE2pZZ0QpibqGy8GvMFxAl+CfX8TmDGGY1oqlWYTalFEML8mcquBubN\n",
       "2Sxf4akaIjTasyQXYRxTI+B4y0KoKbVfw5gGlbjt//p4WdArT2/+4i8dEen3ZbNrWhfpzagd8THl\n",
       "TgeGlEHK8DDV0UavQ2Xgb754awLzKPBc6zBdtYq3CGfv9r6PGU3lZEc6L2JIYMZDu9idNPUXqNZK\n",
       "AvNNqMQ7srcgBsUD8cGV7JFzhS/RV1f7Qwufkkf7Q8Y8mK6aCCIHWrBKQ/LAKh/ztWRGs5EDTxAu\n",
       "ZkNreJ1lPZPjyzQnMBUWLUMz8lNoIzcP/jkApQYph0GodWxv/F0bd1WyNg+mUHMxdbeOrbDKgbyw\n",
       "tT4mi+hR4fphD3MoS+YmitP/njlzls9KrC4wUzqNYRB5G0M8XfFdQWCSW6/AvAl83PNhCjWBp5Ir\n",
       "P6f6WKEhPwOTIjkKWffzPdDX0OITXuSpPeF6E6UJ3lwkQeB2+JjySxxzaKKTobddfe/U2HQP+4DB\n",
       "VvsnHmVqL01Txwo7OqHjjkknvFkKNRP7axrrwgjcXcSXnzHp+AK7ITGxIWzwZsw3ntl/4Es1lXEx\n",
       "N4rw+hq4G7JwuLKyZ30Oezhm0U6V4lNJ58AvBjlj5z9EV7SlUtqI2NFK0tiH8YSh6mFMoWbK+nkJ\n",
       "26AEDhLynm0JMD/DCXzibggCUwqksIQej/MHzXQxX+cT+cTl1avrSDiBN5EX3gQuFpEwi0zM2eC0\n",
       "LppUW3Hytrq5joOxSz9dcfQQaqb6VEbCSaQcfCreuPKePRZgHrANrexuCG7e3Bdo8cy+F5tpHRou\n",
       "ZpofUHCBR772jmVtm4HZ/VW1WqaaPoyvZ96EjqX6IRpod/VbHLxcDmMKNRNpfTdl7piBbyzLmvLk\n",
       "PdseYMZ+37Lcm2sX8+kB5nWyqKx79S6IyAsOcokM0hUuO5s3hfKQ7NR4huNNbY6ybI+ARow1/n/w\n",
       "YJL4CdVB0sbLIXk/ZxSCXSgmUtapxmb5UX/WVdlK5fg9BL0zfN5MVhDXvUQfwizamqk4sk5s+Vjh\n",
       "Ik+KRSaZedbWrhiy/iI20SnMnAUzretviIWpsJC8a1olwJSYjzTXeRPjYcxIARH9D+wq8PS+ht16\n",
       "7pXpypOXsKPaAfS0q9MPI3oEYz09FELfd0IaP/kWNSN6v546PGnPgikfe5bW+W0UHs+H5D3bGmBG\n",
       "/YPdnJjivBVg7qBVda8Neb01MM+OONTE6d1006bw8+OWVfblPetreFPEt/M/mIp9bZeMYnOYGk1n\n",
       "Qp/DQzoe6MItQYrkd6G1c2guv7a7kDptNIXJ/ZRmC/Jm+bZ/T/cquVX39G4sThucXAyUsZqyGDDF\n",
       "zX7hWxuTFwNmore6ILn+AzE+bNcCFaqHAAAAAElFTkSuQmCC\n",
       "\" style=\"display:inline;vertical-align:middle;\" /></a><br>(see <a class=\"ProveItLink\" href=\"../../../__pv_it/theorems/8ed7c98a4db82edd7817bbd478c4a66af370ad110/dependencies.ipynb\">dependencies</a>)<br>"
      ],
      "text/plain": [
       "<IPython.core.display.HTML object>"
      ]
     },
     "metadata": {},
     "output_type": "display_data"
    }
   ],
   "source": [
    "%proving qmult_ket_is_ket"
   ]
  },
  {
   "cell_type": "code",
   "execution_count": null,
   "metadata": {},
   "outputs": [],
   "source": []
  }
 ],
 "metadata": {
  "kernelspec": {
   "display_name": "Python 3",
   "language": "python",
   "name": "python3"
  }
 },
 "nbformat": 4,
 "nbformat_minor": 0
}