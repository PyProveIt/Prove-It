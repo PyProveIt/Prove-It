{
 "cells": [
  {
   "cell_type": "markdown",
   "metadata": {},
   "source": [
    "Proof of <a class=\"ProveItLink\" href=\"../../../../../../_theory_nbs_/theory.ipynb\">proveit</a>.<a class=\"ProveItLink\" href=\"../../../../../_theory_nbs_/theory.ipynb\">physics</a>.<a class=\"ProveItLink\" href=\"../../../../_theory_nbs_/theory.ipynb\">quantum</a>.<a class=\"ProveItLink\" href=\"../../theory.ipynb\">algebra</a>.<a class=\"ProveItLink\" href=\"../../theorems.ipynb#normalization_preservation\">normalization_preservation</a> theorem\n",
    "========"
   ]
  },
  {
   "cell_type": "code",
   "execution_count": 1,
   "metadata": {},
   "outputs": [],
   "source": [
    "import proveit\n",
    "theory = proveit.Theory() # the theorem's theory"
   ]
  },
  {
   "cell_type": "code",
   "execution_count": 2,
   "metadata": {},
   "outputs": [
    {
     "data": {
      "text/html": [
       "Under these <a href=\"presumptions.txt\">presumptions</a>, we begin our proof of<br><strong id=\"normalization_preservation\">normalization_preservation:</strong> <a class=\"ProveItLink\" href=\"../../../__pv_it/theorems/717529dfb3b85082b411cdd6ef0e32cccf502c7d0/expr.ipynb\"><img src=\"data:image/png;base64,iVBORw0KGgoAAAANSUhEUgAAAi4AAAAZBAMAAADkhLjQAAAAMFBMVEX///+IiIgiIiIQEBB2dnbu\n",
       "7u5ERETMzMzc3NwyMjK6urpmZmaYmJiqqqpUVFQAAAB6qHgnAAAAAXRSTlMAQObYZgAAAAlwSFlz\n",
       "AAAOxAAADsQBlSsOGwAABrhJREFUWMPdmW+IFGUYwJ+5m9md3ZndW8O/aXKsHyxFMCmSkJrwLvyT\n",
       "3gjiFy3PqE2MZA3pQ6KOpYKUdgWGUB+2zoLEbCNTzw0biUv8E+yZdJiH3olpHxIkkCBCet7nfWdn\n",
       "Zndmdo7MD77H/N3nnnme37zP8z7vOwDN29W8BbFbNv/wXZe8V+2BfJU2KT8rjnjPaHSn/gfJe9Z0\n",
       "m29w7r7jYoGKf74boiXZru5Ht6n3NxepCvthk/fOIuckUcRd3Y9uS+f8XIbZzaEmXLLskLFjehtD\n",
       "JZcchdq47QJ3Xb36503IPv1+jYuEDypHcYEpfi7H2b19TbhoJeaHFZNLDJVcchRqYzalR7gu/41X\n",
       "Y93+IuPWHsklZfq4bGGx1d2ES5J1gZ1xoyOGSi45CrUxm2YL11O38Opbl8sy3JZEctHLPi4Mk1xt\n",
       "ll/2CrWxuMRQKSTjq43ZWh3X29h7GXa5DIo3EM4FHvdxYYdU07x7Lnb6TUEclUIyvtqY7aLj+leY\n",
       "RhXD5WKIiI3g8rF/PJqTzz/WlEtrPj/NiD3KNFcpJOOrjdkOO1y6cPDRS5yLMtkGQ2qHjBHMpWMp\n",
       "G6lgqZ/LUYCXA55g+LhoRUiYQYZkeNbM+biEqGzkwtVq4kY5JGeI/cSaoCauA985d31a7R8XgZyZ\n",
       "rdjSbUq8gouWp0aB9lZJmati2J/2c9kD6nDAE8o+LiiyB2DTHVt9kQNbPqcTvrkBcMZru8MlUKVy\n",
       "mIHdNmB5JLnaBKU9gJ9qsuNPTHRJJ8R+QU1Qr/LrxjZLcFHusImG4LJZa9ctmE0DZUB/eRTgVQlt\n",
       "+9nPJWHKJW/dN3MR/DBczwXfP8ZpBpP8ASwcpxZKsJ5gKML/tOHlUqcSzi88gZWEuthimbbHK0lq\n",
       "E6LAoOOG6+tgxe/wi3H24IVALigI3WFcnhRcMv+wdyC4mK05mRzaEsRFQ6f62DC+1c8lk3NzJDPq\n",
       "smxqZgOXAYqmHoqYCgvH9VQTaI7/e73eelUyiJIMCxCcMrmkzGZp35UkteTublSG3DSMQejMgW4M\n",
       "dLcEckFBONaMi/wXnixw6t0rpgxKrlb01Q1hCHl+J5701s0Dek7W0DGjhnJlGRZXZlZKXi4pHfW2\n",
       "GCzvSFSgci5o+tlTY8qe0ZaIuCoJoiRBP4sLdYbaDtO9kqQ2Aemp0N9SVMu86lRO4aOtbHFXIxcu\n",
       "CO/4uMgnDaUujuRbzjDNuPQhTBYp+4Lyy2q0oItVFefruCzBd61/t2EyNwoGf90mN+QXkC+i3tUl\n",
       "1l9WgMtlFyhn5sFcgEs+LkwlN5cgIpdxqC952MT+MtcrSWoTsKzNzCWqGB4KKzsyu1kOaoEpnzVw\n",
       "EYIJfn2kgM1G0iOy0LnGiSPMslnL4XIE+ln8s1qzsb+0IZf57OTHOi5vI7VVvXarRUbBoPz8/kYu\n",
       "6lO4u4KJpAgHPVw+B3VZD9xmJ14uTCU3lyBKsrrGhvQfpMuXX0htAnach5xexDlVmhmlr2IZ+gW4\n",
       "YDdwEYI4p3L7izYMpw+I86XOePQRqDdq88Zey2BjNqs1A/JLN+jfJ/kY7+OSxZ6+YxK0mWQUVobl\n",
       "8Y1cgD2lj7LeaXxJVbhOXC7jv+fSmOrf8HFhKrm5BFHSXsKucJOdbhuyfJI3uOMjahW1bQT9w0Lh\n",
       "teSbRa/hvvzCBZOGh0trCXqdtP+6w0Ve/7U7n05eWzORemDgeNRxbpz2DB5nBK0zjGDaIaOQy/JU\n",
       "Q/3C2wmaZ2zka1vEBXG0FrVysS6OXHMJoiTJX0asM6C7M3TzXZZOk/RYzLtgBnPhgpih3Thqs2Cr\n",
       "I425J2idIUmzkkuR8wBMfQFcnoBKkhs1COmBkPWXT6m05gVeSxUm0Ct4D1o2F2FMg7fcXIIoSen9\n",
       "plqpVI6HcRmRVIOSC9WD24+BHFK/kCCLTre/pErQpXgmfwFcJDJ5bSQXzQ7got6C6YPcKKzUpoZw\n",
       "yVxjmVl9hcq0jg58NwkLDoH0HH+m31tuLkHEcbqzHNlfVh5BHRLmgJ0shJSFhaMhcUSC8KCXizoy\n",
       "pD3kCK8N5CI7axARXHYGrdelh2GsTUYlH7FEoRi6Xre8UHDGcKeeU7obvOXmEsQvJhkr+yK5UFXC\n",
       "jsqzhXV1cv76hQmG13WsJwX1F+q1diSXteHrmAFGNVvHPCY6oRW2OumBGMWlH7dPguX8XPrFmmMI\n",
       "FzUHG2C7986E2vcHqlz9P3oWQK27ur4r84x35r+s7ybExPO3OFyYYNYM5XIvvwd8EPX9yPTsydvY\n",
       "X4VqkqpPVfBKPe7NmqAiru/696NpNm1Sft6/287z3CJHRXEAAAAASUVORK5CYII=\n",
       "\" style=\"display:inline;vertical-align:middle;\" /></a><br>(see <a class=\"ProveItLink\" href=\"../../../__pv_it/theorems/9e6cfb68b88963cc3451ffd142761657a986cbf60/dependencies.ipynb\">dependencies</a>)<br>"
      ],
      "text/plain": [
       "<IPython.core.display.HTML object>"
      ]
     },
     "metadata": {},
     "output_type": "display_data"
    }
   ],
   "source": [
    "%proving normalization_preservation"
   ]
  },
  {
   "cell_type": "code",
   "execution_count": null,
   "metadata": {},
   "outputs": [],
   "source": []
  }
 ],
 "metadata": {
  "kernelspec": {
   "display_name": "Python 3",
   "language": "python",
   "name": "python3"
  }
 },
 "nbformat": 4,
 "nbformat_minor": 0
}