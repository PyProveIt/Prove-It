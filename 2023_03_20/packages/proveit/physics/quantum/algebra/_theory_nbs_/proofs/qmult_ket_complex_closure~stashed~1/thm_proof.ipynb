{
 "cells": [
  {
   "cell_type": "markdown",
   "metadata": {},
   "source": [
    "Proof of <a class=\"ProveItLink\" href=\"../../../../../../_theory_nbs_/theory.ipynb\">proveit</a>.<a class=\"ProveItLink\" href=\"../../../../../_theory_nbs_/theory.ipynb\">physics</a>.<a class=\"ProveItLink\" href=\"../../../../_theory_nbs_/theory.ipynb\">quantum</a>.<a class=\"ProveItLink\" href=\"../../theory.ipynb\">algebra</a>.<a class=\"ProveItLink\" href=\"../../theorems.ipynb#qmult_ket_complex_closure\">qmult_ket_complex_closure</a> theorem\n",
    "========"
   ]
  },
  {
   "cell_type": "code",
   "execution_count": 1,
   "metadata": {},
   "outputs": [],
   "source": [
    "import proveit\n",
    "theory = proveit.Theory() # the theorem's theory"
   ]
  },
  {
   "cell_type": "code",
   "execution_count": 2,
   "metadata": {},
   "outputs": [
    {
     "data": {
      "text/html": [
       "Under these <a href=\"presumptions.txt\">presumptions</a>, we begin our proof of<br><strong id=\"qmult_ket_complex_closure\">qmult_ket_complex_closure:</strong> <a class=\"ProveItLink\" href=\"../../../__pv_it/theorems/35f0bf1b65100960cafe7f963740d0bf6b69d0640/expr.ipynb\"><img src=\"data:image/png;base64,iVBORw0KGgoAAAANSUhEUgAAAaQAAAAlBAMAAAD/+YDPAAAAMFBMVEX///+IiIgiIiIQEBB2dnbu\n",
       "7u5ERETMzMzc3NwyMjK6urpmZmaYmJiqqqpUVFQAAAB6qHgnAAAAAXRSTlMAQObYZgAAAAlwSFlz\n",
       "AAAOxAAADsQBlSsOGwAABkFJREFUWMPtmX9sE1UcwL+33vWuvVu5BaIok9QaRQmYwhSNIXokwxEE\n",
       "cyQEQ6KuIBQSEApojCSyAwmREGBoMJqoFEFNjIn9A1A2zG6RSZAlDjURMn5MxV8xhopMF1Dn933f\n",
       "9a63rh2JnTKyN3rH3r2+7/u87893AyjRzvb+CUOstfR2l3x+BoZgu3sYaRhpGGnIIUVitw8qixCb\n",
       "+F8jhQZdQe1XLZLCLhb+OE32P+m3WVc30k3MijpgZu73YCr3v7Be7Du785C62O1UMaQIu1Xa5UIq\n",
       "JcxtlQZevgQHScCOjPusukCjB//G62ZTsD2kJnZ7pRiSmmZrscqFVEqY2+bjR2rMIYn4iXpzmH0G\n",
       "N699AK8/Aez0kNYx1EQxJJnt66ayGV4pYW47hB/VziHNwc9s95mW8Y8NZuBFvGEpesxDYtxiR1Ff\n",
       "2umb8d8ilRLmtjh+ApBD+sq/p47zCwtjdzgrnIKWiaVqwHSRNLu4457hoxrLhlRKmOtKTNxJF8nw\n",
       "W/5rPEzscA1QuogZD78Ssr2INzkWu6s4UiAWu8UoX8QrISzXVCZuHyFJY2wwhCgPGCBWHQF4mMZs\n",
       "9lwqfAlgBAZCsctD+gBgcXEkNQVBs3xIXJjjEGr/w2xHGTNBrIxLttDN44MyEQ4AHIU+EUbI4rkO\n",
       "tag1ekjbQOnKLyuWfb0+DwmfbWOh8h6Kq6zNnTxd3FWnRaWVsCmat7n41ao6YwAkLowChA2a61Vb\n",
       "Xko5qgCoYL0TCek5NapZzLdYpKwwYBLAFzTGcwX529+TyRpmr3EPKWiKaefx2GRaWmFVLspPtYuZ\n",
       "TR+W/gIYz0fACoCRIOuwHeQ8pAqmArVrACQujJB0fmdTakZ9B1Q4qwiw+32EZAZ0kXTKImULGUsD\n",
       "LRTtN3Yb97zPfjl9+jLry3pIlXrOYZsxS4sYNA/nIx3HLZF1qQfkOB/BkbDV+5BGUqgaCIkLYygK\n",
       "KuNDR+gqqLdgDRQgwVlTBEnnBjKFnu6hkJCXB9DoZPY6IZynJWhsZb5XrVMCfnRtXiXFkEKazvdA\n",
       "zQCN4EjzsgxpatV+gFlVyqudTedrzTdMsDZNGLUfNh7DZY0aa4mtunBqlq8gImEJ2N2lmeNgCzhT\n",
       "ss1vhgLDg4OwFQSTfEf6lZ5+Tte8rcQsq/WwzYrmIc1muWe8HJ/HOk6c6FPjiSeZwrUEMwwaAQtr\n",
       "a58AhZB6MNqGOlR7zwkDN3nDhSbWdQOcg3tBzKjG63BoL6z3IZGwhKR3C/AkBMGZEj4hu+bZk23h\n",
       "Ao50ANrgXSc7oyrCNBBblbdGJFWzfIUe0vNoLWpCSr3HOtra+iAp9zNN7/qtBgsPGsG1JBFSHEak\n",
       "GyCcaDDJblad16nrBViOpqQ8koW3Gz4yfUhMGCSUx6ICHGHFI59yfm9NTdYZxqIxxWpE2mMZWtrJ\n",
       "zhju6nh0x6ncwMKybCgupSj2u0iRFDfgo8lksuOZd/pW4j+wywiLhU8a4UcK2B+3t6eRB/+ZaJ/U\n",
       "JUy7Gd7HjZva/ml45SUfEhOGhhfRt2ISlQ1nSuihIMyDFLOq1RxJPrdgNA89yDWr1czpUvr+rZxO\n",
       "UTmBP1ZbFF18hwtcMjxFX8TwIBUeLt4E+NkZUaglWsEaycbtjVLXBFhgbjcpCD3tZBLf4YJZcZti\n",
       "g2o5U4ajEHGrt3EMIsWrB5nU0ekV3o4XhR/kBREEceHqBfToDX3PS6E0GJRSlYcsmFaIhL67A5yk\n",
       "m4fUg7YdtCUdVVQvpy5h0pG74TqpG27Wg4akL4c5ncxhCpEiur6RHIlPiaEn5B6FjjnlKUMS6PFS\n",
       "L/vZpYpdH5JyqNVUllAmfXlZqhAJM+2kCB8xt2a6sKvu8ctSS0apbkULrq1Szs8AcR801dZiQD2e\n",
       "gTHtz+rYDeI0vbN6Rn9IUvMiXNyNKJiEBlIQ0L/L2ZLFKWY6Rws6aTit6KGAIkjhqXZuMpnu/1Sr\n",
       "4BZ+82M/Iwoay14DnmoTPC1RfqIpMSpG7szVppR15jlaooLGU83SYpPTPgzOQV3OXhmSZhY/dq/n\n",
       "m3i9+2rJq9aKHkZHD967h20XrwyJbX+kTPXw//iGyH2P5+y1VO73eFOH37aSp1Qb1xrSOkhca0hL\n",
       "rj3DuxXMIY5U8Lfave32VQ7U0tv9D7amwlk+mq3RAAAAAElFTkSuQmCC\n",
       "\" style=\"display:inline;vertical-align:middle;\" /></a><br>(see <a class=\"ProveItLink\" href=\"../../../__pv_it/theorems/33ca9a8399218557d17d757d9c605b7c40799c3c0/dependencies.ipynb\">dependencies</a>)<br>"
      ],
      "text/plain": [
       "<IPython.core.display.HTML object>"
      ]
     },
     "metadata": {},
     "output_type": "display_data"
    }
   ],
   "source": [
    "%proving qmult_ket_complex_closure"
   ]
  },
  {
   "cell_type": "code",
   "execution_count": null,
   "metadata": {},
   "outputs": [],
   "source": []
  }
 ],
 "metadata": {
  "kernelspec": {
   "display_name": "Python 3",
   "language": "python",
   "name": "python3"
  }
 },
 "nbformat": 4,
 "nbformat_minor": 0
}