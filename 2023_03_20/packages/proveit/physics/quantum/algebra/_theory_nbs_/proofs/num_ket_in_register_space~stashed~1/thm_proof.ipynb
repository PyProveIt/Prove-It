{
 "cells": [
  {
   "cell_type": "markdown",
   "metadata": {},
   "source": [
    "Proof of <a class=\"ProveItLink\" href=\"../../../../../../_theory_nbs_/theory.ipynb\">proveit</a>.<a class=\"ProveItLink\" href=\"../../../../../_theory_nbs_/theory.ipynb\">physics</a>.<a class=\"ProveItLink\" href=\"../../../../_theory_nbs_/theory.ipynb\">quantum</a>.<a class=\"ProveItLink\" href=\"../../theory.ipynb\">algebra</a>.<a class=\"ProveItLink\" href=\"../../theorems.ipynb#num_ket_in_register_space\">num_ket_in_register_space</a> theorem\n",
    "========"
   ]
  },
  {
   "cell_type": "code",
   "execution_count": 1,
   "metadata": {},
   "outputs": [],
   "source": [
    "import proveit\n",
    "theory = proveit.Theory() # the theorem's theory"
   ]
  },
  {
   "cell_type": "code",
   "execution_count": 2,
   "metadata": {},
   "outputs": [
    {
     "data": {
      "text/html": [
       "Under these <a href=\"presumptions.txt\">presumptions</a>, we begin our proof of<br><strong id=\"num_ket_in_register_space\">num_ket_in_register_space:</strong> <a class=\"ProveItLink\" href=\"../../../__pv_it/theorems/48b26d4e6ffcefffda8de5ef28bf3378ca3eb9de0/expr.ipynb\"><img src=\"data:image/png;base64,iVBORw0KGgoAAAANSUhEUgAAAVAAAAAmBAMAAABgyt6CAAAAMFBMVEX///+IiIgiIiIQEBB2dnbu\n",
       "7u5ERETMzMzc3NwyMjK6urpmZmaYmJiqqqpUVFQAAAB6qHgnAAAAAXRSTlMAQObYZgAAAAlwSFlz\n",
       "AAAOxAAADsQBlSsOGwAABPNJREFUWMPFmF1oHEUcwP+b272du9xXoQaqpRyHIiUvUSwWjPaqEoi1\n",
       "stjgi21zqNlKMHBtxVIKdUVNlaK5PLQIVYm2CmI1q1IKiWJqtdKK5AqB+FF0+1ClLyWFxpQ05ZyP\n",
       "/ZrcXXf2Gi7zcDe7+//v/Gbm/zULENySlcoELEn7LqyCcoj+fV+ZFZFOWkuDCa3hX7RLY//rmgp6\n",
       "NrxKwloGUHVdA0oDywAay4day7FfifwWrfmgf2vCPvT4FS3ZBlnPrpsKere410FrFv5FJdxF15sO\n",
       "qs4Ki6ZH0BxkpXNkC15oOmiqQBbIob61fWpoTrGST5L+6aaDpknWkEfYRbRYxzq71g4fwE4kZ507\n",
       "Q2UGSiEuBIEKSAW2Vw0GqjyPIZJmbaE1nfDsf6YX6AFaTAY6Rv7eCwIVkApsk2CvaIwMna3tRXfi\n",
       "1TxjAurzbpUY6H5iOIUgUAGpwHbZAU2TzdxcU2ZfFK9kyoSD8JZzS5phoDH8RC4HgQpIBbZHHNBR\n",
       "sq2D3LO2XI4u3KUosdMJtGPPCXf0OQaawCYeC3QmAanAds0BfYymKcP36LM77E7hIP2LVCozblS7\n",
       "aXv9/bncA8FeHywV2BYc0A9h6gQkffkUHXI61svVcWDBBj0J0FfjtXketErqR6ESVd3kei+6aYMq\n",
       "C8nfOjlvcldXzR+vfsdVG/RdPI8aQ5g8KJP6IeMSdOBBN/JVRs9Tl7jrrdjsZIvfQgyavP6FigPI\n",
       "mA/UnYz5UR2TwaBRzQnCTLb9CThtVYEyqQiRVNfoeDQMcQo+XTS3r+GX41Mu2QoSL0vOZXzeBm3t\n",
       "pMF+v6e4O4cbjSmFN6pBb9igyYznJTv/6Ye/ZK1VqwJlUkPkcpyMQwAehLTfI2AehornCy2eHgfq\n",
       "rmjLkZOkN+UpPuP2+qL1QaF0yo2t5A0XMqYMm8bbx0e4FEqlzqCVIFHjxABoFiJcxPoJg6aKbweB\n",
       "9pZHizR9JL7deRdLPq7K5ySOwkhNG4XN2OeYzmpya/qP1+RqG6VScPGdLQabfqJEqqGWRR71KB5z\n",
       "9Sd+0LjrM8jx+kmtt5wh6WPr0YkI3RIp42Umy8lFfLQgoK/jZ1RHoWYyLW87VgOUSMF9ZRWYX+4t\n",
       "EtBIhvfxe2A7TE34QWHYcXvlqg16GXqLeZI+3lwFafb0Ay/yHzG2tXMvRU4chRTeCKoTp0NMg9lW\n",
       "A5RIoRvYNs7qul5Wr2hk69N8shq0oV7BIrrBQH935/KQDToA0lca3e6LcJQ92t7vTqdrQ7vBz36e\n",
       "K/OITuKwrg9g0J5YdRxl+134GAELyZJV7UzIRNw1AUUd7uVh8JV58CeQF4zbdemx53KleulmlgMl\n",
       "OmqerWj8fJ16NJXZJQM1d+okK+BLugh56GELumefthjUcyb4hgN9EU9iBu6dDswZrDJ1QJkOzT3n\n",
       "cFFYBzRqpH4GtMMBlTfSykFdD7vpSm6oVLgF7r6W8YNOaj5QBd+PW7AyOL9FLT8o0xnEdqiuNSB1\n",
       "ywq/R7cDvtDpwJPrLftAJeGPRPRgsOgoonTp/YJHkXg2NGiU+KdkH0FSwrXMqHF7Z6ZhsWH2enEh\n",
       "0dFQ0dV9m4c7VaiMRr4znDLfEOjDzf8A0d2IktTRfNBIsRGlcvNBE6UGlFYtx/fR98OroPXLAfq0\n",
       "EV6lHAZ0qb7hu4c48fYS/RX8hr907UBYBcWtof8HxdRoG8Ul0RUAAAAASUVORK5CYII=\n",
       "\" style=\"display:inline;vertical-align:middle;\" /></a><br>(see <a class=\"ProveItLink\" href=\"../../../__pv_it/theorems/1ef854bc7180cf80859f595d1c2671b4e5b3e77c0/dependencies.ipynb\">dependencies</a>)<br>"
      ],
      "text/plain": [
       "<IPython.core.display.HTML object>"
      ]
     },
     "metadata": {},
     "output_type": "display_data"
    }
   ],
   "source": [
    "%proving num_ket_in_register_space"
   ]
  },
  {
   "cell_type": "code",
   "execution_count": null,
   "metadata": {},
   "outputs": [],
   "source": []
  }
 ],
 "metadata": {
  "kernelspec": {
   "display_name": "Python 3",
   "language": "python",
   "name": "python3"
  }
 },
 "nbformat": 4,
 "nbformat_minor": 0
}