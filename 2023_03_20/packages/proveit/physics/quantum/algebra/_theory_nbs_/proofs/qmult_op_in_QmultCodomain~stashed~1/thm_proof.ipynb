{
 "cells": [
  {
   "cell_type": "markdown",
   "metadata": {},
   "source": [
    "Proof of <a class=\"ProveItLink\" href=\"../../../../../../_theory_nbs_/theory.ipynb\">proveit</a>.<a class=\"ProveItLink\" href=\"../../../../../_theory_nbs_/theory.ipynb\">physics</a>.<a class=\"ProveItLink\" href=\"../../../../_theory_nbs_/theory.ipynb\">quantum</a>.<a class=\"ProveItLink\" href=\"../../theory.ipynb\">algebra</a>.<a class=\"ProveItLink\" href=\"../../theorems.ipynb#qmult_op_in_QmultCodomain\">qmult_op_in_QmultCodomain</a> theorem\n",
    "========"
   ]
  },
  {
   "cell_type": "code",
   "execution_count": 1,
   "metadata": {},
   "outputs": [],
   "source": [
    "import proveit\n",
    "theory = proveit.Theory() # the theorem's theory"
   ]
  },
  {
   "cell_type": "code",
   "execution_count": 2,
   "metadata": {},
   "outputs": [
    {
     "data": {
      "text/html": [
       "Under these <a href=\"presumptions.txt\">presumptions</a>, we begin our proof of<br><strong id=\"qmult_op_in_QmultCodomain\">qmult_op_in_QmultCodomain:</strong> <a class=\"ProveItLink\" href=\"../../../__pv_it/theorems/5f8cd1c2645f8a8583608b88211796d41e29910d0/expr.ipynb\"><img src=\"data:image/png;base64,iVBORw0KGgoAAAANSUhEUgAAAYgAAAAmBAMAAAAsDBE/AAAAMFBMVEX///+IiIgiIiIQEBB2dnbu\n",
       "7u5ERETMzMzc3NwyMjK6urpmZmaYmJiqqqpUVFQAAAB6qHgnAAAAAXRSTlMAQObYZgAAAAlwSFlz\n",
       "AAAOxAAADsQBlSsOGwAABehJREFUWMPNmX1sU1UUwM9b3+t7/eRNcQlxYaVKTAxxlWlCHJCSdG4Y\n",
       "kAeSGUOyFZRiZLLiJMZ/aBUzJSbbjJnRRKSJkwSVrJEtkgGhyxIN0oTyh8oyIo0f8eOfFbKxrWzU\n",
       "e+/76usra9+2Zn3Z3m3v17m/e88959xbgFI8jkwmtuDGF4usx/SS5FJmEkoDkVx4W1vRbd8QxPTp\n",
       "8oO4XHRNe7JcIVgDQ3q9XCEs3uLrviCUKcRNwfD2KT+IRw3U5abLE4I1ZC9fKU8Ipx+9KHdQ+vrA\n",
       "Y/dbhCh+j5QnxArsJOkI+Xwc/T93HwFHojxKuhMiBBF3Y+khnCQ17LdDYRXiZF4Ixx8zXuAGDuHx\n",
       "V0RFiCGcfLr0EDY8EEvYaMuroEA4MvkgrHvfGpkB+OYjbMVsPSLEUaxg/qWHYPESdxpu+a8KYRsP\n",
       "54GoQkFTLU81NOLxUykRwoKI6EQJ9gQOz7YbbrlZhWjaEVQgqtxuMulA4/nudwFHtoFjSoSwI7W1\n",
       "lGJjx1HaY7jlhALB8TUJGeL0Q3J5P9YiE1oAoqjsnGSd1rvdT5UCwuR2P+I13HJWgbDBzZgEwfUq\n",
       "5WSolpQcjc9KEN8D7C8FhC0IZhJCMDmF13XVKdX8zykQZyDklSBU++BIk+8u+fstCaKL6NeHHwfB\n",
       "QSbulzth52bR2exe30CfbLS7mHbodGWFLEhsZaO3AATqtUsM04JK/uiTKICO6IVFFYetQkShOylD\n",
       "KB3QJNAwRTXahyDMAmpj97YmoEI0z/VgQ+Ts6kAEDgE8CCwP3cBmQVTg5Zv37EKc3X5JoXckpN7A\n",
       "9rMboCWPsD7FgKZlCOrg+XG/BNHhRg+xoE5SHlKm5a4E4eAR6GFoDUOHWFAjNKD3eVyRQKCnVQOB\n",
       "sjwABSGuifva2sFLvYEPfgXkmPTCLIJuJXYi7+2SIJpVxbuH3wchFwJ6hgkdkiQWmAZQlxTxtQSi\n",
       "OYUhNlYOAmyr5D4bGxr3CV8IEO5ct3IQ3ruCBK5cHaaHeerGNg2Exc4TuZak1BtHgjuXXphq41UI\n",
       "pDEVHgmiQj1XZ86xTXZ1QuU9AdvJ3v8B4HGJdkqB3+fzvQwcgZiGUbAkbLEvr3vRJL57ewhnrYI/\n",
       "YQPQUZv3BFzog3c0EPQomV8eudVm1cZzPXph4JCVnJOtkzUmGiECQfHquTpTL5wWtMYMQxzDEl/K\n",
       "1NVJhouuR69vQVkJhkB4YEUkBFZ/SCCacHicJ1kfQBtSDu7FFJwKXRQ0EBxxXNYg5ZF6M+H1sPr1\n",
       "wkimONO3JIhjKDFPy37iRNYdB1DRHGOGIZxEX6fBLrmmhho0mMuBQCChhTDFRuLxCCJAfwKwKZJF\n",
       "bVkD/cjkbIz/ZG1Pa6PYv4kp8z0/KfUWEuSiHGHAKnFPvQjRnOkFRzuK9ESIlteUTfP1lf+yTh9p\n",
       "TShudYFTJKQFbMHezL8SaD0RBBNDI3GRrHWwV+jGSABH1IuKrFCcB25K6g1vgyAeb64wVZ3gEzXs\n",
       "II8UdvTtk8KO2sxE1mWCY1IDYYuChQcGGe9BoCZB8lNZENNIkc0xhkfL0MoG08gNoENYFTMJa3iz\n",
       "l+HbYOcYmPUQWLfnxN64OxeC5gje2LnCspT+bH4IVYF+y9z78bhcTrs0EKYgmPi/2E3Md2uhZSYG\n",
       "3AHs7OoaqJONLXeZS1GuehjJ9FVy401AD8CQzwfs7LUoPBx/m0fZQG/hx6qb9BBnk7BnJkJ623Pm\n",
       "2VqUvqoXBmbFJV8V5odAff9++x/5szmpgUCGxflEGBxK3d2BQKTAcdhT/Mkuq7e+PMJUR9CaKASh\n",
       "OwfqjqdfGTnTpxZ0PLWF9cLOKZ/MeHfQ6hn7mXmH0B/OB2HkONk1sbAzdoNOmF2debvHSKC5ddku\n",
       "Cpj5cpi0ETmbyvTybKuBupSnAARb7V0WCFOw+NGYEgUgjoJ/WSDsPcWPZlWhW/EDy6RO8HnRo+E2\n",
       "FIJYC8LyQOwKFzuaXYlCEH3x2CIgFvGbXdatQIHRtJF3yX6zW9TzfpH1GMW7/A82RM7HKtVHCwAA\n",
       "AABJRU5ErkJggg==\n",
       "\" style=\"display:inline;vertical-align:middle;\" /></a><br>(see <a class=\"ProveItLink\" href=\"../../../__pv_it/theorems/3000ea516028c283bc3e3eaa00686e2719304ce80/dependencies.ipynb\">dependencies</a>)<br>"
      ],
      "text/plain": [
       "<IPython.core.display.HTML object>"
      ]
     },
     "metadata": {},
     "output_type": "display_data"
    }
   ],
   "source": [
    "%proving qmult_op_in_QmultCodomain"
   ]
  },
  {
   "cell_type": "code",
   "execution_count": null,
   "metadata": {},
   "outputs": [],
   "source": []
  }
 ],
 "metadata": {
  "kernelspec": {
   "display_name": "Python 3",
   "language": "python",
   "name": "python3"
  }
 },
 "nbformat": 4,
 "nbformat_minor": 0
}