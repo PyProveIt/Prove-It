{
 "cells": [
  {
   "cell_type": "markdown",
   "metadata": {},
   "source": [
    "Proof of <a class=\"ProveItLink\" href=\"../../../../../../_theory_nbs_/theory.ipynb\">proveit</a>.<a class=\"ProveItLink\" href=\"../../../../../_theory_nbs_/theory.ipynb\">physics</a>.<a class=\"ProveItLink\" href=\"../../../../_theory_nbs_/theory.ipynb\">quantum</a>.<a class=\"ProveItLink\" href=\"../../theory.ipynb\">algebra</a>.<a class=\"ProveItLink\" href=\"../../theorems.ipynb#num_bra_is_lin_map\">num_bra_is_lin_map</a> theorem\n",
    "========"
   ]
  },
  {
   "cell_type": "code",
   "execution_count": 1,
   "metadata": {},
   "outputs": [],
   "source": [
    "import proveit\n",
    "theory = proveit.Theory() # the theorem's theory"
   ]
  },
  {
   "cell_type": "code",
   "execution_count": 2,
   "metadata": {},
   "outputs": [
    {
     "data": {
      "text/html": [
       "Under these <a href=\"presumptions.txt\">presumptions</a>, we begin our proof of<br><strong id=\"num_bra_is_lin_map\">num_bra_is_lin_map:</strong> <a class=\"ProveItLink\" href=\"../../../__pv_it/theorems/0ed1dd2f22b0763d7794dd03e9c886a837002bfb0/expr.ipynb\"><img src=\"data:image/png;base64,iVBORw0KGgoAAAANSUhEUgAAAZIAAAAmBAMAAAAcgAAeAAAAMFBMVEX///+IiIgiIiIQEBB2dnbu\n",
       "7u5ERETMzMzc3NwyMjK6urpmZmaYmJiqqqpUVFQAAAB6qHgnAAAAAXRSTlMAQObYZgAAAAlwSFlz\n",
       "AAAOxAAADsQBlSsOGwAABg5JREFUWMPFmX1oG2Ucx3/X3OUu7xluxTnZSlWkFKFOx4Y6zUQGtQrH\n",
       "VgZqa8O0GVYn2VaUIriTzk0srukfLcoUoyuDoWynRTbXzWVONjbQRkHKpm4ZokMEqdtiR9dSn5d7\n",
       "eS657q7tkT2Q3F3yzfPc53l+b88FwLldnJ4Eb9oxD9VCPzk8I+P349NFNz1e8IgDQgUv1VsJg3gP\n",
       "vVpRUZIznqrDlPSHW0AirvBWvZm8+/OVJwkk5qEOH/m+9OfriXkJKypPclGeo1p44h85Ug019o70\n",
       "TeVJ7p6rOgShGrgsZUoU0nVy6FUqTSIW56qOZaVxqOHOlq7pi9RREpUmiSaZi7Q2ra7UYVkaFwqR\n",
       "p0o1J+m3DZUmieUYw9Duk8/eXC2srevbheact/hI88YPbu/EdkXCljRFSYjX/OpE4kLl2LYr5jmf\n",
       "hw3L7Un2PZA11Usfgef+U/UsqDXu95xw/GV0UqWS63pKcgQf3ncicaFybCPMeRV67bElCR37OGmo\n",
       "Q3eg9TilgtTOSr4YRCaFSUI0BnxNSd5k1npmEhcqx/YXc/4Lek3ZkrwKB5OG+g0/WouoCj3wDhML\n",
       "VMz1N16cMfLBMkoSkMlaO5C4UDm2R5nzTQDBIkNSXVtL55crwg7ZUP/hx76Skza9/hUTC2SM2oJe\n",
       "kXGaedKEJIw8K+Do8S5Uju0aU8ei2+YbTJL9i/RvfCqrTvbQD6enx8wf+yVdI05RB8zT2LW8tvZB\n",
       "59jlrHJszNaAwxNTiDTJlETqN75ZlmXUUqHTpp/dol62CLTLthwlOQTQbqNPWEnKVN/lXOW3JiPo\n",
       "0GBpOnxb7rfuHCUJmFHtLlYtJj636bMzaAz9Lw3YcUqyG6Hb6FUrCVV9GzduEdkGv8ZS0+HqyNJF\n",
       "C7Yho2+RITmArfvdfJeikZh55garltRPbO6sJxi3GmwsQUn8siWASPVPwslCGQlV+bBSXJrKQgTd\n",
       "5QnYZ4mfqDpiK1ZxAUpnEaNYCk6YUhzUh04bfrKtFjUSsbgJizq5w4bELxlDUO6YSkkicXNKtvzZ\n",
       "ARd4OSSXkVBVL74cxqEC3+FKiClgrY4sFWvEQsKuyZ3oVYf7oSQbzFK+waJu99uRyEl7EsicMGb1\n",
       "EM7kcZWHpuH64aylWiGqU9JC4q3kDqUi+NjAjKsjS8VqQxI+umUJ3nwjW5wKjuskVcZPenHngkHy\n",
       "Gc4nUJJzgiSfBMv9BJ7u10fAUwWj59/iy/2EqODSe+sVOoHhDK5Wq6xuj6ojtmLFJEFjiSQcaFr2\n",
       "5nxoHf0KhIvCFKeRcIbhD52XQXxIV6McXzAyOfVFkuMP6Il90izRMEl3QRtBIKs2yrcO2pBgFdyf\n",
       "F4GGk640JvHFS54RWCpWTAJ9OpiAJ/DtxRBDH0QSEM0I47yeTz7Sp/vq9JWj53K6GmXMPUprPTNC\n",
       "G6biXjos/KSa4bBXyycQTWsj0Og2Cmq1DQlWSTeQ+Z1JpVJ5EYUpZF0xS9o3qqPXkCSlUJJzBuzD\n",
       "+O0S7MWHGrz9XrJIJ3m+g/LuVFq/vHrZVKNa+LF61heryJOU5heuHCYGS+PD9ixb1eMRwgOp1GZE\n",
       "0hwozyfUpJKfSkCTFVco83hrdaStidRgXA7gt5UwLGJbBWtVP7ixtmRHOGCfoH62DFA098kGCR6B\n",
       "5s5RCP44w/4kGt/KA3FC4skLSF4AIQHNZEks1VGZx8MQ1ozBvaN48sFpfzJk/3GixC9xe5zdadER\n",
       "iHWcRbuCGUj8SvQ0umGdhF9D7lxcBduUsuoI9dl4Lc6SjKApCBZgIbbhgOxEMmL7+EKwOKa/oJXP\n",
       "DAkdYSfyBbFOgehN94zNKS0zummMro1xqnDciaTNtvLm7Hahk+W7X2FtqsPl7jdYM2sSPxNEQCti\n",
       "uPRMP7SoZ2gHiZsGr89vH9/njqTLnNpww2wqZzfqRrqumfmRiK72XRIz58LEbEjcqFfT3Uu+4k/u\n",
       "Gj1Wc3TZbqv8M0hf2lu1VvWtrjxJOOOtejFdmUzlSeBDT9XSKnLoVm4ByTrFS/U6YlzCfeCexLP/\n",
       "GZknDx6oX6F5h2RHl/8zetd2eagWaHnwrH79P+geyCpj2KP7AAAAAElFTkSuQmCC\n",
       "\" style=\"display:inline;vertical-align:middle;\" /></a><br>(see <a class=\"ProveItLink\" href=\"../../../__pv_it/theorems/7a234eb0d8fd15556029750a4c12fdbc8ab152840/dependencies.ipynb\">dependencies</a>)<br>"
      ],
      "text/plain": [
       "<IPython.core.display.HTML object>"
      ]
     },
     "metadata": {},
     "output_type": "display_data"
    }
   ],
   "source": [
    "%proving num_bra_is_lin_map"
   ]
  },
  {
   "cell_type": "code",
   "execution_count": null,
   "metadata": {},
   "outputs": [],
   "source": []
  }
 ],
 "metadata": {
  "kernelspec": {
   "display_name": "Python 3",
   "language": "python",
   "name": "python3"
  }
 },
 "nbformat": 4,
 "nbformat_minor": 0
}