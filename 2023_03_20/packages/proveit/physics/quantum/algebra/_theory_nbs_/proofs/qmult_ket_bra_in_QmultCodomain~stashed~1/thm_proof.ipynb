{
 "cells": [
  {
   "cell_type": "markdown",
   "metadata": {},
   "source": [
    "Proof of <a class=\"ProveItLink\" href=\"../../../../../../_theory_nbs_/theory.ipynb\">proveit</a>.<a class=\"ProveItLink\" href=\"../../../../../_theory_nbs_/theory.ipynb\">physics</a>.<a class=\"ProveItLink\" href=\"../../../../_theory_nbs_/theory.ipynb\">quantum</a>.<a class=\"ProveItLink\" href=\"../../theory.ipynb\">algebra</a>.<a class=\"ProveItLink\" href=\"../../theorems.ipynb#qmult_ket_bra_in_QmultCodomain\">qmult_ket_bra_in_QmultCodomain</a> theorem\n",
    "========"
   ]
  },
  {
   "cell_type": "code",
   "execution_count": 1,
   "metadata": {},
   "outputs": [],
   "source": [
    "import proveit\n",
    "theory = proveit.Theory() # the theorem's theory"
   ]
  },
  {
   "cell_type": "code",
   "execution_count": 2,
   "metadata": {},
   "outputs": [
    {
     "data": {
      "text/html": [
       "Under these <a href=\"presumptions.txt\">presumptions</a>, we begin our proof of<br><strong id=\"qmult_ket_bra_in_QmultCodomain\">qmult_ket_bra_in_QmultCodomain:</strong> <a class=\"ProveItLink\" href=\"../../../__pv_it/theorems/a900d2c4496a1a30abb9e2d2b64ef16e5578e13d0/expr.ipynb\"><img src=\"data:image/png;base64,iVBORw0KGgoAAAANSUhEUgAAAaEAAAAmBAMAAACfRDklAAAAMFBMVEX///+IiIgiIiIQEBB2dnbu\n",
       "7u5ERETMzMzc3NwyMjK6urpmZmaYmJiqqqpUVFQAAAB6qHgnAAAAAXRSTlMAQObYZgAAAAlwSFlz\n",
       "AAAOxAAADsQBlSsOGwAABrNJREFUWMPNmX2ME1UQwGfb7se129I/REQId6nyD4lyiooR4ZoYSLiA\n",
       "7iExISTcYaSSi8bykSiKsMYIfyBYxSNqznCKGjUEGzxQRE1RICFBrWgkRIWi4mHUcIAHCJg6b95+\n",
       "tt29nj21r+nu9u3svPm9j5l5WwDfEi0Wc1BNqVqwvHwEtRWxix0jxaLGD4MYWqhSbdWCZSVSqJEI\n",
       "lnKKoGYe/meiA7UCgVqoKyL55pqJ4MG6ImpI1k50t1ZPRMe02on4UqwXomtrBwLlQh0RyQPDQAT3\n",
       "1RFRrINOOn5MRvMibV7ooHg+v46On9YR0QiKy0IeWs0aySBROsyaVgjHPR4/PF9gp2fyDiKy5Dsf\n",
       "Q2N0zg1O5K/Jo6ymsfkaDCK0L5rld0J5mwjGlj95tOV5HKIZv7PrQNZB9AGrecHH0EgP87H64ET+\n",
       "mjzKF5THZEyiEH6b+J0AOIgayibTG6NWtmQgvGskObuMg2iVa4ArGCqzvl9Txazz1+RRfiGDciZR\n",
       "G35n8zvfOonUbMlzAjY05zRcMXcF/ep3EDF6e4ArLY8uuxVfIn9NHmUarWkwiQ7bvXe/kwiMzOLK\n",
       "RCJDFzPwGz4DsIG3ft5BpGL/NPgu+IN4zlRB5K/Jo/zBDkcsoqQ1w8WMi6ibrt4aaVSFyem3gOEF\n",
       "5b+cvu7GROImX6JgInFNshpf56vJo1xmh14yWxyTg6TQBFFqTMD+eRgZzmlEdCe5vy7zsSDJbLY2\n",
       "FJedRO8BLPI1NJIGCbceRk3WW7BEU9YpH/GI9qxzaQBaIRRtFnPCgOEaAvSs3L0tSUSUodv+6Rhz\n",
       "V/Ccpee0k2gDKGjNuo1po3O+OafHpqUdhuJtnK0S5e0An1nG7JpMbtcW5Jqs0uE4gmotsOhDi+HH\n",
       "PjOcEtF1RPR4pEnVoRm409yGkmkWOjqI6CsisnTfRWxTXJPXIpK0UA+oyfY8BAgc5SK6K3AuYjol\n",
       "I1zQecnPnbBXRGsmOAVJkwcRneVxKRQIZuF9UyZ8kR1vIyItGA/RmDKnybDw1z5WwYhWs7plCSyk\n",
       "8BRrSD5vtXXJSRSNI/oSaNdhGb/bqE13pwJfMsdAJOuBaCM4v+S4eAHkZqcgafIiYhC7aeiFgZAV\n",
       "XfgYcSJMw0Mgxo2BH0v9F2cVjGgLq7vH0t3I7JKylYkgswd4J+w2Vl2v5iZqUOOMKDwO9gXSStaM\n",
       "4HI/RLIuQdKUgxW3u4hUkDfmWAImGInHFLvHnLMOdmGPCZoRpeextRdOQ4R7hkPuoNt+SV+ufwKV\n",
       "1xHMJg+y35pCwvmSdC10hE1OaBuhxaU8mihyW9UOc56agkxTWFdOrnARvQkb1mbYGJtd3Ji2PQP5\n",
       "uoWcaCdOsrfNKC3pGHgjIPZx772fLLPSO3ni2R3hLrfLtImeZMbMK06a1G8kVFNKiBQWBiV46hDE\n",
       "1TRmbmHqa3Hz2UktbkGmScDpH3IRxTHKJFlmuNWQvcOeLSLrXHLNaPYWPan2mFGauakXR6/c3sOJ\n",
       "ekn8ZdsyDcaUuEybKEZddgFUI6ZNbyyZddBHRHBcyaOty0HdlErh1n6E7njrQYJMk8CmjptIySOV\n",
       "nIQDqVQKrQ21OfZE1HtLOZH808Kr7LmFPlydeCZpRFg+fxZ0mqY9uvVjhxeSL5bvJsJNEONdF9KC\n",
       "2QqbBCSaoGpPsyUu83j7KsCv5YIxtP57F1FBgGieeZTlRo85vC5sovWR5mbLeUdCxxKvD82cQTHS\n",
       "19fu5VlQoFhEI5aZ5kcHyolwjTegY0GxHSAMVCY6LihJWkQ8jqIjebZcUO0rPJZ0EX2+Su6lRSRR\n",
       "a7jUHZPgXXomy4kEql/M77D0brJJFCndzaw/VfztkZfMX6GmcqJgGoLxE/JUcft4WPBnriLR/J2z\n",
       "sFUc7DU0T7G5G2JameCRs51u7x3dfAs+czV2NEs+5yc08VS3vZswIVqNvYSV0GHiK/ebRBVy/6MT\n",
       "r7fCplQoJ3oC5wtKRD23phIPR3QWZ6Q6QUHH88PJckE1XhqP9pi/5qZSPSUNtOeNQNPKA7jt41GP\n",
       "0GQSLa5iJ1x5V/66LxFGcHhlsF25lC8lYi8IvfbVPEpi74yy3jyYFwVQuJsfBcIgG853dE+inC8R\n",
       "s+rEYEQBrZRoPLPT442G2jwc74Jm/pM3J4oVB6p9c6I7jiB6/bFwcTiIptbTG8iZwwAkNNcTUTA9\n",
       "FOkleyvqyNcTkZoZgrBckCpVj66r/yagewiyUsUBVW6tL6I5evWyAa2Sh5mTHwrRv/8/rNJVvWx4\n",
       "1sEKtQ9QclXl/7D/RVlb4/OiOw/5G5TA4zivKPd9AAAAAElFTkSuQmCC\n",
       "\" style=\"display:inline;vertical-align:middle;\" /></a><br>(see <a class=\"ProveItLink\" href=\"../../../__pv_it/theorems/e01f8a929afd1d9e7889161f400d74524fced5990/dependencies.ipynb\">dependencies</a>)<br>"
      ],
      "text/plain": [
       "<IPython.core.display.HTML object>"
      ]
     },
     "metadata": {},
     "output_type": "display_data"
    }
   ],
   "source": [
    "%proving qmult_ket_bra_in_QmultCodomain"
   ]
  },
  {
   "cell_type": "code",
   "execution_count": null,
   "metadata": {},
   "outputs": [],
   "source": []
  }
 ],
 "metadata": {
  "kernelspec": {
   "display_name": "Python 3",
   "language": "python",
   "name": "python3"
  }
 },
 "nbformat": 4,
 "nbformat_minor": 0
}