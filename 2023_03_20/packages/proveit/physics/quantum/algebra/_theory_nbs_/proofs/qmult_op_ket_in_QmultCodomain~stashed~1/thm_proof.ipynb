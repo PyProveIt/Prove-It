{
 "cells": [
  {
   "cell_type": "markdown",
   "metadata": {},
   "source": [
    "Proof of <a class=\"ProveItLink\" href=\"../../../../../../_theory_nbs_/theory.ipynb\">proveit</a>.<a class=\"ProveItLink\" href=\"../../../../../_theory_nbs_/theory.ipynb\">physics</a>.<a class=\"ProveItLink\" href=\"../../../../_theory_nbs_/theory.ipynb\">quantum</a>.<a class=\"ProveItLink\" href=\"../../theory.ipynb\">algebra</a>.<a class=\"ProveItLink\" href=\"../../theorems.ipynb#qmult_op_ket_in_QmultCodomain\">qmult_op_ket_in_QmultCodomain</a> theorem\n",
    "========"
   ]
  },
  {
   "cell_type": "code",
   "execution_count": 1,
   "metadata": {},
   "outputs": [],
   "source": [
    "import proveit\n",
    "theory = proveit.Theory() # the theorem's theory"
   ]
  },
  {
   "cell_type": "code",
   "execution_count": 2,
   "metadata": {},
   "outputs": [
    {
     "data": {
      "text/html": [
       "Under these <a href=\"presumptions.txt\">presumptions</a>, we begin our proof of<br><strong id=\"qmult_op_ket_in_QmultCodomain\">qmult_op_ket_in_QmultCodomain:</strong> <a class=\"ProveItLink\" href=\"../../../__pv_it/theorems/44d1751c431aea1a17604c6740d8c6d857549b990/expr.ipynb\"><img src=\"data:image/png;base64,iVBORw0KGgoAAAANSUhEUgAAAjAAAAAmBAMAAAAoz7zzAAAAMFBMVEX///+IiIgiIiIQEBB2dnbu\n",
       "7u5ERETMzMzc3NwyMjK6urpmZmaYmJiqqqpUVFQAAAB6qHgnAAAAAXRSTlMAQObYZgAAAAlwSFlz\n",
       "AAAOxAAADsQBlSsOGwAACDBJREFUaN7dmntsFEUYwL/ldm+3d3vHNhofkcBZxURFreIrgrpqC2gU\n",
       "FzUYJJEW42FQ6SE+4h/a84UalZYgRhOVU8TER8JFHkJRPKJAxKqnEh+pkfp+/UFFii2C5zffzO7N\n",
       "3l1t8WgbbsPN3s3u983Mb775vm+mAAzGFcnlMsOj7e3/38wMh5Xv5LpFMShgOodJW7iMhvWx/H6W\n",
       "V1QQmPfLaeejygWjlzWeYLZiwVTZ5bSjnVWxYHY4ZTW0sWLBHF9eQy3JCgWjlxlkg3aFgok20C0p\n",
       "VXnfdfwYfUoaaVaatRUKZiTlgQoPLkYrKy/zrCEBELL6auGONHtk7JfAUKNfH3wwUbpnhlRbM9nH\n",
       "dhGhuvJgFBRmNjGqhPLve20wVs8jmidLYNrY7emDDyacYp1LDqm2jynotooIJYFR8RNjGoqiVqjx\n",
       "rnd7AV5bTE/WS2DuZSbUcPDB6MwUFw6ttl9pVyDsamNPHsw0/FzBnEi6UOQIJHmapdRPJpxjJDAM\n",
       "opodBB+zVHRmCLVdwIoA/64++FcezBcuVuFTldk1J/K3mEmsjIHB3diORB6MiYCrBsP5tuO9dWi1\n",
       "7WbFV/z7fcr+PBjbXYjP8vWz2F1SK9mXQJcbvZqzUlQ6o6bmzMEAE6ipOc4eWm37WLGaf09H9nEw\n",
       "2jEZsJUYRJj4VHr2qOdqzsy7aXbNykhg3gS4cTDAhBMQpA5ooqdUnp2kGnNegUCxX7VKaAuDrKso\n",
       "GSEbEUaR1XdzMGqkVsso3dz78t23F2siewlMzIv3lgRmES2wx5YkOFP4fE8yekGC3rvmjHp12WQz\n",
       "pjXBwph06IGLtHqy3Q8Y1LqIflzNlXEH3ylqovl3l2BvtoGx/hwRaSNNN8H3P3sQZG1BSsMAPvRY\n",
       "eFIshyMwp4g+Gv9wMPeEY2YSMHVj8fczeuitSZUcdMDjPNKWwAQdNQWmPSsLI1L0dAKEcf700fEU\n",
       "4LweBroFLaBLYEYwM/vPIyFKyW4UC/zKbCEYrGFg5v80l525XRUDrRPe03BYJ4Ho6Dqcc7tYW1Ak\n",
       "JXRn4pIUStD8n8ejzYaNezgYJ2CpZGMs/jYTQPQeNSdQqkwSzQkPTFoCE7HQ986HWUlYwJ+Oceqx\n",
       "3MDeJjBs7fnAYFWtGOJ/gfmEz0xogVUAhtUgmPCbNGl2JIFpim5pPaDX8pjRrbI1uLRYGwF5Amjm\n",
       "mLgs5VoMgdGwzV3C+e5wVPrNDGs5PfSyE4Ws6mYoCQZaNwFnuYE/DazGbimUDRCY6V0MzMTqNQCX\n",
       "VxvPdLTtrHOedyC5cNzha+DBD9DMDh+dVDdZyteX+4ZSZRIRpaqzAAyribppaIvDbRD0LggLm57A\n",
       "ZiYfnfPaghAaDZtHJNjWhotLUvJSYuvwOAFmPaJUHO5ZPqUXvUnWcuv0KWZ+zn0+Bq6gqdnimaTC\n",
       "EoDp9HV2Xd0NYBCYHoyDVdlwZvmXNlrW/bvaWNXR8AOcC2o6bD8Hb70E9/mGon5FvtcKtxaAYTVR\n",
       "d94mUZhgrqPBXcswhmy7o1hbEKaNdKxgFpUJcUkKDIpDjax4HT/LBJi1sBleFVnsFnqx2iNxW26C\n",
       "84rj32x5YB5g7c7IjR8vopY6QWgWFqMRmFoYmWqGUEOzQ0tu/k6Lqh6BW3AVGtd2wcvNbzu+oRiU\n",
       "b4USSq0fDNVEIcQz1ImseBknb9mf4y8U4pekRWWhtiA89ClYZgI3d1xclgLtDxAR2WBNNiU5mOVJ\n",
       "20yJLJbH8qp8QquBIoW4FjmPgSjNTw+YwlnXj8EBvh+Px7N+MIHMu+3tKaSC/xy0YapSLjoWVuLE\n",
       "TWzfFmra698P/0xGXTe12w+GaqJgPhWP3yqOUL5hs5V0j7LVaVR5Z7E29DHfGln0pbcLcUmKwgYz\n",
       "AhxtU68Dn+ee5GD0HxqPEstVLArtpxXu6nv1g9/kXWiq6NghFIMoR6c6LHzdXtpiqN0FWga7GqOq\n",
       "cdDotDBMAHfkuygdFFhg/OUHQzVR0CnqMAehE4MXAX4XM8NH2FGsDcGcZDqPA0YtLi5J4fUUxcyE\n",
       "HAZYYNSzrjpDuJPQJLElOC23Wz5Cp6NRPxjsYJUFGra2Blg2xHMzCUwPrs9gRrPQXGbpib2YWOBk\n",
       "H6F1w7FW0NasW2BaBw8a/qEwi9/vA8NroiKtbLl5K8yl2UTXvxhTJ+yKA8xm857AB+ZbxbDJwfCs\n",
       "lEuJaxUUbRQZGIXGcpO0wcznhN/k/tn6qOuk4OLig6pAAgLWj/r52htj4freDBhzWII3vl5ZNvn6\n",
       "v7V30saoTQitrtrYOQXU1dBWVwf6vk/ScEz73RZWg3qR1TFqSvFQVnXCzN6UDIbXIJiFOLVa2/bZ\n",
       "ezCpRXeAmdrpUWdBdmaNo+18VoykGMzMtRj7lBQXd6XcYwePgA+M6p1GlNifR77b9Yv3Y14xGAwo\n",
       "0VOTEPHeuSYeT/Vzwlp7QGduUoLHHBt2dVJ8rmtXNhgYKb/DLnp+MZ9t+MCwNIbuJO5Kia0OCU8v\n",
       "shiKtZlCZn1ttkoeba44gA2R3lUeGPla5y09L7KFk6XBbMbPC30cZtMqMuQDzCNBalDp56Qr1NMn\n",
       "mAM5ily0++CBUV0eple1DUqDYcP+sXSzZm15e1+1dTgOw/lsxfnNbCx4WvyXMqeENqPPt/nq21te\n",
       "twPZCv0rAVxaXkO0L+wPjD7KPvTABBIDdI+lB3f+QMDcCw2HHhhzgGeppQentA4EzJxDcSmJ47t+\n",
       "r9KDeyA5EDBjwTkEwVyVHNBrJQen8bO//sC81J4pYyjD9X/wjKUDeq3k4IJUN7j/B2/4rof/v+h1\n",
       "vl//ApN7eW3dPsR0AAAAAElFTkSuQmCC\n",
       "\" style=\"display:inline;vertical-align:middle;\" /></a><br>(see <a class=\"ProveItLink\" href=\"../../../__pv_it/theorems/cdc30e7534f2dcd75b1facdf87a2156f581795150/dependencies.ipynb\">dependencies</a>)<br>"
      ],
      "text/plain": [
       "<IPython.core.display.HTML object>"
      ]
     },
     "metadata": {},
     "output_type": "display_data"
    }
   ],
   "source": [
    "%proving qmult_op_ket_in_QmultCodomain"
   ]
  },
  {
   "cell_type": "code",
   "execution_count": null,
   "metadata": {},
   "outputs": [],
   "source": []
  }
 ],
 "metadata": {
  "kernelspec": {
   "display_name": "Python 3",
   "language": "python",
   "name": "python3"
  }
 },
 "nbformat": 4,
 "nbformat_minor": 0
}