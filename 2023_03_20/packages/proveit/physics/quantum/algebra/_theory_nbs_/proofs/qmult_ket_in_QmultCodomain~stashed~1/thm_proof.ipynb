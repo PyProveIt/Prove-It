{
 "cells": [
  {
   "cell_type": "markdown",
   "metadata": {},
   "source": [
    "Proof of <a class=\"ProveItLink\" href=\"../../../../../../_theory_nbs_/theory.ipynb\">proveit</a>.<a class=\"ProveItLink\" href=\"../../../../../_theory_nbs_/theory.ipynb\">physics</a>.<a class=\"ProveItLink\" href=\"../../../../_theory_nbs_/theory.ipynb\">quantum</a>.<a class=\"ProveItLink\" href=\"../../theory.ipynb\">algebra</a>.<a class=\"ProveItLink\" href=\"../../theorems.ipynb#qmult_ket_in_QmultCodomain\">qmult_ket_in_QmultCodomain</a> theorem\n",
    "========"
   ]
  },
  {
   "cell_type": "code",
   "execution_count": 1,
   "metadata": {},
   "outputs": [],
   "source": [
    "import proveit\n",
    "theory = proveit.Theory() # the theorem's theory"
   ]
  },
  {
   "cell_type": "code",
   "execution_count": 2,
   "metadata": {},
   "outputs": [
    {
     "data": {
      "text/html": [
       "Under these <a href=\"presumptions.txt\">presumptions</a>, we begin our proof of<br><strong id=\"qmult_ket_in_QmultCodomain\">qmult_ket_in_QmultCodomain:</strong> <a class=\"ProveItLink\" href=\"../../../__pv_it/theorems/02de0691849e5591f9f689db1d33f2f3f45014020/expr.ipynb\"><img src=\"data:image/png;base64,iVBORw0KGgoAAAANSUhEUgAAAWAAAAAmBAMAAAAIOVy6AAAAMFBMVEX///+IiIgiIiIQEBB2dnbu\n",
       "7u5ERETMzMzc3NwyMjK6urpmZmaYmJiqqqpUVFQAAAB6qHgnAAAAAXRSTlMAQObYZgAAAAlwSFlz\n",
       "AAAOxAAADsQBlSsOGwAABbRJREFUWMPFmX9oG2UYx59LcpfLz15rO5jrZqiTioKtbsOBCofWummF\n",
       "m8pg+CNnmSlUp+my4V82N5TBGNoMnegfQsQiTAc9ZbCxDb3aat2sEFBBmMygbIj/tJMWu3ZbfN73\n",
       "fuSuXtpcjc1B7u2975vvfe7J8z7P814Banj8WrpW7dRIwZMye5Q2X5Zma8kLF6uf+oVH6b2S3m6p\n",
       "E3A051E6WqwvcEbyqr2nvsDveNZ+UqoncMz72okU6wnsEz1r83P1BM5K3sV31xP4Mjk1tfNWRxqA\n",
       "aUtXMq5KzmP1BKb55VEI5M2OPvyUrxY5/H5VwGaooANTX/6lZsBVyQXnHMCIc8EdOPb7VRH4Ey8T\n",
       "Vp+qA58mzXs1A65KLjrtAMYV6HMFDj//6thVgE+PEJeP5HTgQeIkcs2Aq5KL5+zALFo4UHADXoOD\n",
       "HQLz8CNkPjOtA4ckfXqNgKuS8xftwLG0/owm8Jq2Nj1xB8iDjySAp9Njf+vAUQ3vUrtFV5Vcg2gH\n",
       "DhheZAAfazGnjRBP8KNhFer4140ocU9b2+YaRolq5Bo0C3jHWQRuAvjRBOaPWtOoTmjarDCvGcAn\n",
       "AV6oIbAupxr51H2eHqEosPgDPAO3SGTV6cAhxQoR8/Q6YV5fMYDfoj5y+O00xPSEyT60Udo+k/4K\n",
       "dk7zvbZkjp/G5n3LAetydNlpELW82aaPic4CDhY+h2/Bj+p5E9hSC9Dg51fN6xkDmJNwZlRMFsCH\n",
       "3xi43A9cEZhOGAB+Gvba8j+qppcuvAkwldOBBb0NbkjlLX3dOfMmMAt3Y1RDWwSLBnCmDQ/69Ti1\n",
       "cNbKfwsGcEzAhxqApAIZRDpJ7kmB0dQO4JuAWCK+HDCVo6A82vEUtmfSZf3FFiZ1mwg7gFhfB95p\n",
       "qTE3yPlFWAwMuVEqgsoArWACs68Q4MzoOgl6Gvn3L5ye6pJCl4Dne0cfk/geTBDNGxQcgvXjmiM1\n",
       "UzkZPixGpXY4jPfVh3X9fwFHcvhcLdR1dWBfeR9XOhXcFrVc2PJheJyuy28A7gCW/hbcxq7uThgi\n",
       "wFkllgsVItpHP4toH77jzjx2Mbm46FcCakTEofMiLziAqZzMCrMM7hI4y2RU31x05SgRkaNSGEkP\n",
       "mouOEcr7uNJ90jHJWYAQ4NdJXN5V2rRpGsKaZWFIUgsDzGchLGM9mKHueIV28QqnJRVewqG+hZ+c\n",
       "xQ+Vk/lnEwxMQEyD43RI1zeOpGABh7cG4Dx5TCsOf2DbKwOjlms2Mw5DnLr1HNkYRt9NpfYsAr5/\n",
       "bHIyj22GCOAvS7qguUkYISUfDn1cyjuAqZwMceFN9M6gCOdSqVTB0DcznVpOHIPdjSSQJSzg5/pN\n",
       "owY/+e5PW8U07ygvwwmIq0TfzcJAFl+G1eLExUiXT+NahiTqmEGpDFIuL2UMCV/zGkQU2GfTN46Q\n",
       "bMt0r9GYq5ZT83CvkZo7ShjJglsc2yoLOKJCSDBSiA04q0RlTmMFpEwG0w15DLNZiZGTkq+RE1kB\n",
       "h9arILsBxwXhDerAnGTTN27WaQOmmZhTXIof/mLpxsQhszeQcAD70+AXLsHBNEkcm6W1M/un1KcX\n",
       "4MBkM0BXIz+1DQInIDLcJUL2+3XAnJ04gt1kKPbZuOIGzJ7ZjQviZrxtn03fKC9nbcD0R91VoR7+\n",
       "7a8/zL+5ogP4ADrfXQqw3an+5V4pVLPjkPUwTI3/VCqVN/WNxXTdBkzt3rrEjsNRgKxgi5StEjiK\n",
       "rhAW3CfSbPBgO2NlMbQec+vSwCPKyoD5KbE6YIZEjAq747EVVFbb/9dNqGIGUvcjmfcu/kA9d82B\n",
       "nGdtWt24AA+Mr8q7tXuX2lO3ujmdv+AKHCxyqwJ8bomxQXDbxK51f3vJpVfn7WVIqzzW57rWt7oD\n",
       "+yR2VYDZ2yuP3QYuseWJgjtwuGfyPwB7+B/HocqvA4cnXcz/Ej3X+n8cXsK5N99jrTj4D/jUthvB\n",
       "1kHtAAAAAElFTkSuQmCC\n",
       "\" style=\"display:inline;vertical-align:middle;\" /></a><br>(see <a class=\"ProveItLink\" href=\"../../../__pv_it/theorems/7717f81225bc783197247f96aa76dc7079702aa10/dependencies.ipynb\">dependencies</a>)<br>"
      ],
      "text/plain": [
       "<IPython.core.display.HTML object>"
      ]
     },
     "metadata": {},
     "output_type": "display_data"
    }
   ],
   "source": [
    "%proving qmult_ket_in_QmultCodomain"
   ]
  },
  {
   "cell_type": "code",
   "execution_count": null,
   "metadata": {},
   "outputs": [],
   "source": []
  }
 ],
 "metadata": {
  "kernelspec": {
   "display_name": "Python 3",
   "language": "python",
   "name": "python3"
  }
 },
 "nbformat": 4,
 "nbformat_minor": 0
}