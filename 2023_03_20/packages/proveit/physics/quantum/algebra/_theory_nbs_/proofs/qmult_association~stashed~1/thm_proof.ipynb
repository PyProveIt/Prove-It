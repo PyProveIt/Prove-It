{
 "cells": [
  {
   "cell_type": "markdown",
   "metadata": {},
   "source": [
    "Proof of <a class=\"ProveItLink\" href=\"../../../../../../_theory_nbs_/theory.ipynb\">proveit</a>.<a class=\"ProveItLink\" href=\"../../../../../_theory_nbs_/theory.ipynb\">physics</a>.<a class=\"ProveItLink\" href=\"../../../../_theory_nbs_/theory.ipynb\">quantum</a>.<a class=\"ProveItLink\" href=\"../../theory.ipynb\">algebra</a>.<a class=\"ProveItLink\" href=\"../../theorems.ipynb#qmult_association\">qmult_association</a> theorem\n",
    "========"
   ]
  },
  {
   "cell_type": "code",
   "execution_count": 1,
   "metadata": {},
   "outputs": [],
   "source": [
    "import proveit\n",
    "theory = proveit.Theory() # the theorem's theory"
   ]
  },
  {
   "cell_type": "code",
   "execution_count": 2,
   "metadata": {},
   "outputs": [
    {
     "data": {
      "text/html": [
       "Under these <a href=\"presumptions.txt\">presumptions</a>, we begin our proof of<br><strong id=\"qmult_association\">qmult_association:</strong> <a class=\"ProveItLink\" href=\"../../../__pv_it/theorems/aa4a37c03630f57751bd711fa85059612a7398770/expr.ipynb\"><img src=\"data:image/png;base64,iVBORw0KGgoAAAANSUhEUgAABPIAAAAzBAMAAADvKzsEAAAAMFBMVEX///+IiIgiIiIQEBB2dnbu\n",
       "7u5ERETMzMzc3NwyMjK6urpmZmaYmJiqqqpUVFQAAAB6qHgnAAAAAXRSTlMAQObYZgAAAAlwSFlz\n",
       "AAAOxAAADsQBlSsOGwAADq9JREFUeNrtXQtsW9UZ/h37xo5fcceIeJTiMWUVK4ww8eh4tO6UTGxA\n",
       "e4G0EwLaACJF26AumUATKjWUVUNIJBIUITRRbylik3gY1tEtYRDYKCplqinTMh6iLttAqFOSIkof\n",
       "ULLzvOdxz70OtUVMc38pjs/5H+e/934+5z+P3waoDy1duhQCCujLh8sZk58G97MutPJovrhlNv2/\n",
       "avKTepn8dgCZ+lB65Gi+umg7f7c1QF6D0X/UYuyreA0+Tu8MkNeglBxQyyfRR6nW3lPlwQ9M80XE\n",
       "M56sSCVAXmPSuoJSTOXIv5YJpXajvw0hvXVybOzBvLnkJjffahv7XyzHS5fdPDZyt7e6xJ7tLXVa\n",
       "gLzGpG+oxSvpv10K8lKT/jYk6XNQ4Ljfo+QmF/+YYyH1DA88Q2fa8PZpnsoyu8X2FHvDDpDXkINt\n",
       "h1p+jv57/oBcmRgv+BoR0rG9aOj71FwyjNI6f9lc9PICa8y6DnWHiQNeygo7WfLukEsB8hqRwjm1\n",
       "TIEYuVvpiS5akvezIUkn0bvkXnPJAHudfz/unwY5ZM7GEVyHJ6IU9tneMeCBAHmNSCerw1SKzhXu\n",
       "DB2Wu6bMyWU/G5J0Go27LfPNJTfp/AixczsrLcGNRj07M5X9a+9WHgmQ14j0HbWYoF1gKfWZXAm7\n",
       "RvxsSNLhHrDey5tLhg5X4/dn8euPGd4/ImOql7rGXuwThdoB8hqPolr830IgFi9HP5Yqn4C1Ob8l\n",
       "DUl67bWzPhQoVUtu0vlL5MWRyF5fzzX2NvIROYVQRZVckQmQ13iU1sKopjLt5GKfo/5kG+/ToL8C\n",
       "VueYx/yRSi8n89uTC5C6AOBqOmjTkrcmk3boDDa3IOpNLD7rXvxfk26TOvV4w/sam7MB8hpwgqH1\n",
       "D+Eifm0bfv4TgNVfY6sXPx0e70H4SmTNNqg0jRCvxz1XPjqLitKStybli/JC8mpT9TCBsoVw/4zR\n",
       "c8bm3afPPOZAgLzGo7UjBuRZaHjCURTbeLoMoDULrcWYeWWOSdMIEXV+sCMDKQo1WvLU5NKizyOT\n",
       "nDxVbyLQGoVD0G+K9Tib0aD3NVqfBchrwKltwTDaJtDfNwXy0PSxqQOStgd+mHQTxmwUP+TxIkMe\n",
       "K3lqcv5zq+eEtmJ0kZW8CFB1ulSXg5fNyOPs7a/MKnFfzXEeLAiQ13h0vR4T4R7ocaD7ZRR58RG2\n",
       "PRYxj5lMegUZmBEcogcZdJySlybjXz04Eq6EMFz6cetdTB0vM0MER4jfN85tKdt69QKYXwVX1wXI\n",
       "azw6R58xIgDE8KxjVYEjbx0GJO5gbiHzhBUD7MU6SBHApN8kU2NUGNzAkcdLTJMokJcVdALC+L88\n",
       "HlrzZLDGqzObbK6+awTiXeAcdHLaZA1TduyyAdiHSpt9LnIJQx7pC9+pB/LqZGkGk6VvbUWzYK06\n",
       "aMM/Jx9gyFs2uQFSqw7mIHYDHY9L/GUescCl8aNPr/p87MObgEHHKTFNqjCPqwv+buhjk+qrbt5T\n",
       "5OpgPTs2hP+vt0XDjgmHnc6QfQy/jmhHkSKPWHuoHsirk6UZTFHXmtlc6f1OhXMv/Mr3ecgrJ6ns\n",
       "F9CEc6EN+qNe6rFSrOA3O88nSnmIZf2mURmKvDuwtZ56IK9OlmYwpQ7rNdu9kBdbedsf/UxNZDyh\n",
       "U0UzNoF6va0JL/X1t91u+2j3Q9OaPCRGfERWlCjy8IGWSLkeyKuTpRlMSdeks1n0L3dvXCT3LZOT\n",
       "E36mni5KWPrhx5mpa8YraOC671gv9YWTvme0noTQJQiefiKtFYq8JJ4r1WWGUSdLM5hCrjNI1ldz\n",
       "DLnRF3k9bG773VNOOas+c9v6WJrBFNnnqrrzK/kJ8osEITzAkLcF4IYp2ctVQ55jSQ4ELI9p3Jd5\n",
       "J1jQ8i+9YXs6HAv5+LlvJny+mrIMefdBrDIljVI15HFL1rkS4wrzuRqnOrpq88VOiqlSEHTrp53P\n",
       "ymZCezq7HdTM2dzVZXi+skgzjaKKmj+Kny7HpEaNbmlOyQ2aXBJ86T4e/5FyU9MTMwJ5HQx5zXak\n",
       "CNY4rb1rczG5QJ/szPsR/LXiRh6vd5BHLAE/UchoiXnOIapfAjgGjAUReWchJJ3iiJ8urfb/tgzN\n",
       "7oOyighD3nLdn8hhP8fkRk1uqU7JDZpckvib0N/q93+C3+WTBxEm7RmKvFQGTwveRJ/sOb3FVKUL\n",
       "lDk3vkXvRuyErSFPqneQRy0BPHamdMf7jBlwUvUegB1gLIi+oARJ6aHgJJK3+Yz/bPTn7o1lEY68\n",
       "Id0f2U+3Y3KjJrdUp6QGjS5J/BYbEluIIIpfduRTi26doaMtDLwIZLtjGI0dqRcTSjxHbtE7mVIE\n",
       "Lh6eN1w01EvIo5YAMo9Ig0yLcSiXqi8ESyQ0KQURk5bhcrFCFMNd1Rq+foS6qKirW1VEOPKyuj+y\n",
       "n27H5EZNbilOyQ2aXJL5kTLLCvwFnuiNwKATZkfc+TW1ZnrXql+AujvgzDDg0g0EOSF8G1NrfpfB\n",
       "yNv+yqzK7JUscXL0rTsjTnySfG71iWq9QB6xhELoP4tmMglj2rGoju197XknXFIKgvpnb/9A6myy\n",
       "Eus94+UqIgx5NP9Z8kfx0+2Y1KjRLcUpucH3qjiUKrG1kmsJflNPO31eyH2IpNZM75NqBM5vakWe\n",
       "O+s7XOHIW4feWROwjNyVfNdbCHn4yMECmMOWk0Yj12xykIePMhSUeoG8dcTmY1JMFM+HTNlKpPqe\n",
       "MguXlpek2Gm5YSLzElh7JM9lifPNE/eSG3nxHs2fxwwhpeSY1KjRLcUpucHzqzgU74nTvhL3g622\n",
       "FOe5V5JrzPQm+km8ISsmSFXyvTXpkNOtK3neagq4e4FAYruyvltLHHnpPDnC+jhFXiKEnhA+crAf\n",
       "jcD0Fo1Cqc1BHj7KYCv1AnlpckGbO8dtvq+c6Fy8D544sagvH+Bquj6PwqXYIb6LTQsuefSE+0VV\n",
       "GH+KyqwFHKqlXBpMREFeqsIbZo1hP+OvD3k5RhslrRjdUpySfTK5JDsU7Uk+2Nt7EwBOl3hXwdkh\n",
       "/SnVmulN9MPoiY4LrFXJ99akN3AIKnneSgq4m2S2K+t7RY4jj9zxHGzr7e0tp/JWDvfV6Uy0A04H\n",
       "eotGobtFrOfthkG1XiCPr1f156M7aXsZiO2HDkufs5HqMA+X4vthTbtUcMlfCPCUuBfpCl6rZC2M\n",
       "ob/jXBpUREVetIc3TBsjfobpQTaTY6RR2orRLcUp2SeTS7JDqVKU3srxl69xHizF5Gf6I6wx05vq\n",
       "43N2T5VEROOf761K851jNc9bSQF3k8J2ZX3zEwNsvvEo/Jz2efAEZoTzoZ7YRJ7eolGIvy4Uz4Xh\n",
       "qLteIA/1na1laLLBypE+8zAUEIpRodt5odXrAZWg34bLkW/tUgHJK+KxfWDNg+RfXhv6Rx7XnAdw\n",
       "ArAWrihCqEha6JbbICLJob/n1BkGbRjaHT9j0IdvK1MUjgFrFLciuSWJKk5JPoHkkpCWHQpl2IJ7\n",
       "4lsX3as+PRcgasz0pvo78vIp92r53qo0hGkXoiZyKyngblLZetb3rrKMvNYQNNt0tTVUQbeqH/V6\n",
       "yZ4SvUWvAgr5KHXjowxzR131AnmJBWC98DB+BtEL4Q8VuOpgEZqLuNBXiM7HL7z6bwB95eTGzovx\n",
       "obB2udBcVMS3fdz5bBlSbXAeClv6ynDV5lk2sBas4UXHEg3EoPLzHRGkkZWQdyNwf9qFn4DX1bii\n",
       "cAxYowRLwi1JVHEKhE8guSSkZYfQYL6eQMe67e2Muo9yqh7m1ZjpTfXxWu39BXnR0C/fW5VmiZdq\n",
       "IreaAu6GvsrWs77pkX9ntD0BYjisvOUhgAp6oE9CSyG22ya3KHpqAdJMrq8cr8DXR1z1rqOA+Bmk\n",
       "eGELSAXn3ZAci7XLhS0mcVhpDSTKQsrVgngc/N0HbJbX7Kzgisb4hRu6jyHtOuRGdGJOTVGaOISm\n",
       "ctYPehHib114ZiGphOn/1uNhyj3iTG+qjwK75XPlOM4331uVZl87piZyKynghvFaZS82QFs9Dd/d\n",
       "21vUHja7RRKVPepNyHuUO29nREG8a0fRky2BwSlgebc4ZFO5pqSQ0lsQtpx32dCrtkBeomBAXpdh\n",
       "G7W9bEQeuQydqFNTlsYO/Un0Xm0Lf6aOdFo0XmumN9GPfjJrjtTvVMn31qTZF/qpidxLMr5xpsbe\n",
       "5oY2eOVhPOp9WV6nAjXkRY+5FIBf38bJrCiId4sK4Dyz1WeVRQHLu8WtSqiYPs6RcrUgnn/S0Uhd\n",
       "IvV50CU1xh/N5Efua1lUUK9Dvgx9+YA6NWVp5FCy6P3M1mrDaK2Z3kQfn716Y8TRr5LvzaTFkENi\n",
       "O57ITY2wFHAvG2eowauW9R3b64M8749EEqaGvMYito5uNYQzfl7UO9Ob6OM95Mh+R79KvjeTFp89\n",
       "AmGeyE2NsBRwLxuM7XycNAgFmd4NSIkOA/JqyPQm+vgMMJ7MMv0q+d5c2hnlaJ/HE7mJEZYC7mWD\n",
       "Z4gzGjRu5wTImx6KzjaGavFDhtH2yDO9qT7+4oL0Ia5fLd+bSfPtU5aEwRO5qRGWAu5lg7PJPque\n",
       "uQStwTf6TCfdAT3G+nna0FdbpjfVx6sYawe4frV8byrNt09R/9fjBGc4z3snX2wmUbPZBmOTfVY3\n",
       "xnYE32I2neT1cyva5LbGTG+6JHI/guv3OGiM+d6SPpPm26fOwg7P8yZGeAq4boPljDM22WcFV9Y3\n",
       "+4rAAHnTQ+1gnllq31ZbW6Y30Yf38QmBMgeNMd9b6DvSbPuUD9tOnjeFL0sBd9mgOeOcvZuGeCo0\n",
       "gm+rnV7a9Jp5/SCpnQ2tNdP7iPXZ9inAXWr9zi9gA++zgp713VwJkNeQ9IBarDXT+4j1+fYpP7Ng\n",
       "MlLFBt1n1bO+nwp+laAxqa+g9hCieESZ3kesz7dPtS+NUIxUsUH3WfWs79MhQF5DUkh90rVmetec\n",
       "Kd5cqPWKbnTNmQLkNSRpv7hXa6Z3rfrH1fxRUqH7e6g38k4Lflm5PtRyVH8zTZSdhF26tK1eJoNf\n",
       "Vq4XHdW/rHyl+GXl/wPml36SF37OKwAAAABJRU5ErkJggg==\n",
       "\" style=\"display:inline;vertical-align:middle;\" /></a><br>(see <a class=\"ProveItLink\" href=\"../../../__pv_it/theorems/6d3447470bb4b0927070237bde7f8b581540c8dc0/dependencies.ipynb\">dependencies</a>)<br>"
      ],
      "text/plain": [
       "<IPython.core.display.HTML object>"
      ]
     },
     "metadata": {},
     "output_type": "display_data"
    }
   ],
   "source": [
    "%proving qmult_association"
   ]
  },
  {
   "cell_type": "code",
   "execution_count": null,
   "metadata": {},
   "outputs": [],
   "source": []
  }
 ],
 "metadata": {
  "kernelspec": {
   "display_name": "Python 3",
   "language": "python",
   "name": "python3"
  }
 },
 "nbformat": 4,
 "nbformat_minor": 0
}