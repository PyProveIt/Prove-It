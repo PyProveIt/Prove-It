{
 "cells": [
  {
   "cell_type": "markdown",
   "metadata": {},
   "source": [
    "Proof of <a class=\"ProveItLink\" href=\"../../../../../../_theory_nbs_/theory.ipynb\">proveit</a>.<a class=\"ProveItLink\" href=\"../../../../../_theory_nbs_/theory.ipynb\">physics</a>.<a class=\"ProveItLink\" href=\"../../../../_theory_nbs_/theory.ipynb\">quantum</a>.<a class=\"ProveItLink\" href=\"../../theory.ipynb\">algebra</a>.<a class=\"ProveItLink\" href=\"../../theorems.ipynb#bra_is_linmap\">bra_is_linmap</a> theorem\n",
    "========"
   ]
  },
  {
   "cell_type": "code",
   "execution_count": 1,
   "metadata": {},
   "outputs": [],
   "source": [
    "import proveit\n",
    "theory = proveit.Theory() # the theorem's theory"
   ]
  },
  {
   "cell_type": "code",
   "execution_count": 2,
   "metadata": {},
   "outputs": [
    {
     "data": {
      "text/html": [
       "Under these <a href=\"presumptions.txt\">presumptions</a>, we begin our proof of<br><strong id=\"bra_is_linmap\">bra_is_linmap:</strong> <a class=\"ProveItLink\" href=\"../../../__pv_it/theorems/7f3c8342ab923f913ff904f73e60119bf4a8be880/expr.ipynb\"><img src=\"data:image/png;base64,iVBORw0KGgoAAAANSUhEUgAAAZcAAAAfBAMAAADZ3J0/AAAAMFBMVEX///+IiIgiIiIQEBB2dnbu\n",
       "7u5ERETMzMzc3NwyMjK6urpmZmaYmJiqqqpUVFQAAAB6qHgnAAAAAXRSTlMAQObYZgAAAAlwSFlz\n",
       "AAAOxAAADsQBlSsOGwAABdtJREFUWMPdmH9sFEUUx7/b3v64n2wJaPhpc+AfQpTGIiYEZYlIooBZ\n",
       "EtOEIPYkchAieqUYEjXcErGEkJQDgtEI4YyEaDR4Yo0/Ws1VEQOpev76AxVtNIj+YTigRQQjvtmZ\n",
       "u507+oPiGbCTe3uzb9/s7GfmzXuzC1Sw/BR1cNXKyGiuovdL4WqWUPaagGHzmZBP+je7tBhCrhEY\n",
       "hfzDiBXO7h3IrKSo827atskKmAATBtPN1N9XCibC/sJDHKKvSXy5/mH21aeFmfHu31TZbHP9xFlY\n",
       "cjaD8VQdz2HeY+rnKgUTZN36hxYGVDahVegXJvj+npgwa39iNtV+E/qxFnAoAz+xMSGY9ZDn+N/C\n",
       "6GyiW4bWKsgm8rv+YR7F6zFupmWwnWp/cf2TGhFEMghlwCXrMvlyFVszO+lv4dBaVbPDinKY66JR\n",
       "vgSVXmy0udkPwAzy4l5ucVxj80UjcRtcIRgWA/yVCwBdQ48DRwuuJsO8MrrImvHMoPbQZAjb2BZh\n",
       "sYsLI7k1Gp1eOZjqaHSSNbRWbWz46UHWEcJZm8MYO4uXb0h7ZgicB0aYPCR3rxUW93FhMG8DyysH\n",
       "E0xAsz1NRjoi2HerXWL9Z6Dv2m9xGCmGTJLMoOSBH/k13XpNXDnMhcG0EiOwZUcCYT6k6l2T7Xt6\n",
       "Eh+iIW8sQ8mD1YxaOwgM3atV0sSkI0LFpSn1BtxMsp+WQoIF9piA8XLiBclM//lsPF4vLmReFFe+\n",
       "4sJgNNuXRshqzKGKJrTpl1XQuqHUoQlGHmukB6tlw/7BYElzeUk4KoFx//WJ8XSxN7fMJKEE4QM+\n",
       "ZiPmNm+OUnGbKecls/Dnvx87VqCLbRSVJBcGEzZpGJrQ6KCZPIGcTsDQFJXAkIoCSmQwmC9K1n8p\n",
       "zDsk7QmvN+8pKekpgAnV5DANxTv46yQz5mK6iMxYronKS1zc7UyqU+C180zKYdTHGExz5zgbvk5z\n",
       "8+72/T13+4/DMJZ1zreNBTSUypxfsaAGEw5mZRh/iNZnCPqOrAzDFVv4Si/25vnPYraiAgkERQDw\n",
       "cuhW1kAVZixfhs6JK6+6i5Pm90u44sIsdCPHIWAKVLdzbfLceXXYymCSTjiF3egI3LFRr4MxbWqa\n",
       "VEoqYlU7mI82fy54xDJMGcZ3lLp4Ga2bUjIMV2jFIXd7E+Uh1qVDSTEI9YQIzUrxnm9+a0OfKcxw\n",
       "iqApBsB2dwC01oMp92ZMXJinWdZefLG+Po9AtjgzaHRnBjiv57FP7wXBkMOfclWGo2XVc3gmicCK\n",
       "C9+UuJlxJ5i/WLBkGK6gTRuPQLw3KbKyaPD8mKcOpAt5Zre4GDhz8XTH0WzBrJf5nZpQ/3Tz6gvO\n",
       "0qkiaLcJmIi7+z6HUAqhZ+Px1WUws0Kzuo4QCf1U5h9MhVEjzQA9zUddXel9F9Mlu+YTDMbIwSyB\n",
       "cRW6hcPxeDwnehNlDY8uCE07bRWT5oOreIBvcZYeOHOiYKbR/ar/WOMgaru75tlTWZiewsV7BQjU\n",
       "sm2ObvU9M9BrCeaBCHNmpqrKaqONXtf1ddt7rGKlW0E4J8NwRdDBWqk3UaoSYgvUIW9n9i6Llu4k\n",
       "mBl5I4Kn36IpknKZUcvFgwnS7tMU6VOCSTqhGB7BIjYt+XUj0pREkrYSa7SravAwFpGzTcgUg5UH\n",
       "89l6va0kmnFFA0RGFb2J9JMRm9PbB3yfCWWkE1/ZRpWJB1OdQLV5HC0JljSn22N6Hj+ZWXIBG7pG\n",
       "Ucs5ZmsPLXgruHeuheSn46B0fLKNqTG3JvzGQecSmPCeGekSGK4YS0O4QupNlJVw9/B6fuCXs5VS\n",
       "fZFUbxHiwWygtXOLQ24YXzXInqX5ct40O8vzTGfh7P54PF3oTRQW4SigK7UDwzRIdbMMcuUVvjYn\n",
       "LwdmdTkMUwTMvpu5sb0bBv8McH1/dzf6bq44XK4ExjhpXQbMjeUwTBGx/09fZ7Zf8t3MkT+rqP/t\n",
       "d7NJWQzn0nRw+LDo3drwgdESw8jLqmx1+MAEFnT9j5/+H5aJrxn+mz3KAAAAAElFTkSuQmCC\n",
       "\" style=\"display:inline;vertical-align:middle;\" /></a><br>(see <a class=\"ProveItLink\" href=\"../../../__pv_it/theorems/d34f1c205c61642be87ea5e1f25dc49a498f8a810/dependencies.ipynb\">dependencies</a>)<br>"
      ],
      "text/plain": [
       "<IPython.core.display.HTML object>"
      ]
     },
     "metadata": {},
     "output_type": "display_data"
    }
   ],
   "source": [
    "%proving bra_is_linmap"
   ]
  },
  {
   "cell_type": "code",
   "execution_count": null,
   "metadata": {},
   "outputs": [],
   "source": []
  }
 ],
 "metadata": {
  "kernelspec": {
   "display_name": "Python 3",
   "language": "python",
   "name": "python3"
  }
 },
 "nbformat": 4,
 "nbformat_minor": 0
}