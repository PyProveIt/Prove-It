{
 "cells": [
  {
   "cell_type": "markdown",
   "metadata": {},
   "source": [
    "Proof of <a class=\"ProveItLink\" href=\"../../../../../../_theory_nbs_/theory.ipynb\">proveit</a>.<a class=\"ProveItLink\" href=\"../../../../../_theory_nbs_/theory.ipynb\">physics</a>.<a class=\"ProveItLink\" href=\"../../../../_theory_nbs_/theory.ipynb\">quantum</a>.<a class=\"ProveItLink\" href=\"../../theory.ipynb\">algebra</a>.<a class=\"ProveItLink\" href=\"../../theorems.ipynb#num_ket_norm\">num_ket_norm</a> theorem\n",
    "========"
   ]
  },
  {
   "cell_type": "code",
   "execution_count": 1,
   "metadata": {},
   "outputs": [],
   "source": [
    "import proveit\n",
    "theory = proveit.Theory() # the theorem's theory"
   ]
  },
  {
   "cell_type": "code",
   "execution_count": 2,
   "metadata": {},
   "outputs": [
    {
     "data": {
      "text/html": [
       "Under these <a href=\"presumptions.txt\">presumptions</a>, we begin our proof of<br><strong id=\"num_ket_norm\">num_ket_norm:</strong> <a class=\"ProveItLink\" href=\"../../../__pv_it/theorems/3cbff9213325d3b5a0c9324812507a6128e97db30/expr.ipynb\"><img src=\"data:image/png;base64,iVBORw0KGgoAAAANSUhEUgAAAUQAAAAZBAMAAAC7o0poAAAAMFBMVEX///+IiIgiIiIQEBB2dnbu\n",
       "7u5ERETMzMzc3NwyMjK6urpmZmaYmJiqqqpUVFQAAAB6qHgnAAAAAXRSTlMAQObYZgAAAAlwSFlz\n",
       "AAAOxAAADsQBlSsOGwAAA/tJREFUSMfFl1tIFFEYgP/VmZ3Zmdl1Crthl217MLuARZFElw2kB7Wa\n",
       "QIKgyJcshGA3g4jQVuxGQW4PXaDbUj3HQkWQPWwESlagViyW1fpQPhThi9iL2H/mjDtn3JmdjQU7\n",
       "OhzO9f/2P///n/8AuJdAaCX8r+IJrS1kmg/+Z3k7i4giQAz/yL9eIsyI6LBglhGXgBQWkgB1RvtI\n",
       "duQhnLZbIKkUMUOqYRfEAKn8qaII/WETcd967PicF/G4BrCYIj4n1U0XRDlBqlhRiPuB0eIt/Ery\n",
       "IPI/7yGiT9MR28mhN7kgCkTX54s75xcs4iR+XH8+LS5DPCWpIxJSc7KTLV7DaldxiNUMojRuUYwT\n",
       "ImzUEZWUqz/4qFvFizPFOIPIVVvMyxHxNvXo9aHQBlfE0lBoRbgoRDnMIPoy/noNPrgi7qaIzwAO\n",
       "22wZtiDKEfBq7LDSUBDYiafZTVIM4qHUl86U6S8GohzSS8ZEfE0Rr4CYsdk8aUHEKVeQa3m2rxW/\n",
       "2nKrF9b+tvwK/rWhB72U9DOI3y71n4rROJFXi+8polfjEmxIX10HrzIzEVHRxBE3k2b0RwvAEAKr\n",
       "kiUSyCAHlefvsuqPzgV9Hi2lCQbxcS/pEjJuiGcool81vYVI/8ppspaDOEC8RRwjJM+Aii6NwB92\n",
       "07KEOOGfD8Fsx6AjYlV3hAZzF8QHxgUYf5nVA5E+rCY5qO9e3Z1gEX0K3kZKU0eYhnwiukuDrRbz\n",
       "1MQJGBXj9ojsQfOT0gS9C970zknmscVBA3EXBj3lRbTCuHDSnzq4HFsEbgiXBBZ+rOHp4aKdndFg\n",
       "jfWXc0EIevo0FvH+dMOrmojKOD/pIXcB37cFavJoscdA7ETsAw9SpTEqPc0dfJiLKG4jh7UEIpJ+\n",
       "Uws3dMR1M+9VPuNvsGjRN28aP2MiBuL8BEfuAnFvHMbtEfeQ6/aJgRhAuzi3CMo0Kj0Nyfm5iDCK\n",
       "XxeakHK9ufkYtH/XD3rSmjwZwUtoxnKUIvqvGoNC0ET09kMFomNPQJWqbRF/b7+LNKvYZGwETZNK\n",
       "T0OjLycu0tIjBWMCHVia6y5wGS5a2gSxM9uqhBnJmD9J9pCTEadkDMQgi7gJugUqPQ3SgEO+OCIE\n",
       "w0acRzfwqJJu2Y3A6wvFIyef5iBm3QXezET04lF2QUmbM6KcYhAxnFSmqfQ+XUW2iEfhVwTORwxE\n",
       "qK3QPaM1JtToYWVqaoxddvbeDhYRiayImJ3BI/A0OKa0NLeaRkR9lKd06UJVjGawTlk3v7O5hRWd\n",
       "v5jz0BmtiIvdsm5USc7DgEov6GFw/58RoQMEVUSTWGC0zWs3CmdtX3+xot4uPrUgQuHOLL0A7d7R\n",
       "bQXtf6H4d/SWv77qJTgspdhKAAAAAElFTkSuQmCC\n",
       "\" style=\"display:inline;vertical-align:middle;\" /></a><br>(see <a class=\"ProveItLink\" href=\"../../../__pv_it/theorems/d62575e447104c78fe55fe451d668bbec723c61a0/dependencies.ipynb\">dependencies</a>)<br>"
      ],
      "text/plain": [
       "<IPython.core.display.HTML object>"
      ]
     },
     "metadata": {},
     "output_type": "display_data"
    }
   ],
   "source": [
    "%proving num_ket_norm"
   ]
  },
  {
   "cell_type": "code",
   "execution_count": null,
   "metadata": {},
   "outputs": [],
   "source": []
  }
 ],
 "metadata": {
  "kernelspec": {
   "display_name": "Python 3",
   "language": "python",
   "name": "python3"
  }
 },
 "nbformat": 4,
 "nbformat_minor": 0
}