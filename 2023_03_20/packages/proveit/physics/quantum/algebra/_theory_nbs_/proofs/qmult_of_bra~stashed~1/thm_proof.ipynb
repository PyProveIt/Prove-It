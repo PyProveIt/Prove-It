{
 "cells": [
  {
   "cell_type": "markdown",
   "metadata": {},
   "source": [
    "Proof of <a class=\"ProveItLink\" href=\"../../../../../../_theory_nbs_/theory.ipynb\">proveit</a>.<a class=\"ProveItLink\" href=\"../../../../../_theory_nbs_/theory.ipynb\">physics</a>.<a class=\"ProveItLink\" href=\"../../../../_theory_nbs_/theory.ipynb\">quantum</a>.<a class=\"ProveItLink\" href=\"../../theory.ipynb\">algebra</a>.<a class=\"ProveItLink\" href=\"../../theorems.ipynb#qmult_of_bra\">qmult_of_bra</a> theorem\n",
    "========"
   ]
  },
  {
   "cell_type": "code",
   "execution_count": 1,
   "metadata": {},
   "outputs": [],
   "source": [
    "import proveit\n",
    "theory = proveit.Theory() # the theorem's theory"
   ]
  },
  {
   "cell_type": "code",
   "execution_count": 2,
   "metadata": {},
   "outputs": [
    {
     "data": {
      "text/html": [
       "Under these <a href=\"presumptions.txt\">presumptions</a>, we begin our proof of<br><strong id=\"qmult_of_bra\">qmult_of_bra:</strong> <a class=\"ProveItLink\" href=\"../../../__pv_it/theorems/b7fff327989711176ee2f233992adc3fe26361e10/expr.ipynb\"><img src=\"data:image/png;base64,iVBORw0KGgoAAAANSUhEUgAAAXQAAAAfBAMAAAAFCStNAAAAMFBMVEX///+IiIgiIiIQEBB2dnbu\n",
       "7u5ERETMzMzc3NwyMjK6urpmZmaYmJiqqqpUVFQAAAB6qHgnAAAAAXRSTlMAQObYZgAAAAlwSFlz\n",
       "AAAOxAAADsQBlSsOGwAABRFJREFUWMPdmG1oW1UYx/83zX1JbpLdzqoUnYRaEIov1U72peAVy3yh\n",
       "lbsvShFMEFZHUby1ihTF3irUD+KWKlMH00UHE7/MKBudtR9uZ524RYhvqGxCGM4N/NCyVSmbUp9z\n",
       "zk16kyapZmG0HgI358m9z/md55znf54boIHtdJuDK9Sktlsa6i+FK9iyawFdoxjagFrWL2tFi0M3\n",
       "rBX0TQim6TJe6FOPG0rnlyx8ewBhg6PnWe9Uo9Dr8RY1BWlfTfRgbhkd13P0KdZ7u1Ho9XjrhyCN\n",
       "10QPwIceshj6iyWLcbno9XibFujRTE30k370SIahswksL8blotfjrVOgK3ZN9Mf96LiToUdcin/D\n",
       "0rQOb9GUQO9HLXQ5VYK+lyvMHW1tmxunMP/dm24KdEo91UZ43/aK6BLF5Dngwz8tjv4gR58EtjcO\n",
       "vcwb37+6v7OihVyBHuc3jhz/tYiut/GWL2RpBuregyZH/4qj74RGP776hs1Uiq/NPe3W/Qv2UTw0\n",
       "rz3miw5NvflecxV04a3YeMYqXufrokZ/ugX4viAdOY4epsd+BKmrUjHqB2ln2Ygxjwz9O46uWHRf\n",
       "xEzkEKD7h34bhJKH1IkhaPN4ukSdJqHnV0Hn3qqg8ysbYFb+G+jwrE1pjq7TxUTEohBVQifVDQJf\n",
       "sNAz9FGOHjUor4aQcDBMoZ1kQ3B0Cn8J+lVcC1ZD596qoOuOGEA15EWonaXobDMbkIBtFdEpEyR2\n",
       "g2xw9P2iEEjNQMzjM3FMCXT5KYY+PHOdhd5mbc/Jqbke610LzvjNLYeh9VIUWm5wgjMGNs26/kKA\n",
       "e3Mx0l2Czg1axhsA6jz0TOmGYRKSwQfA4Yp7vZ/t2LANXaTptwK9bzf77RhbQlkM1d6ztRO7GPqo\n",
       "E02Fcrq7/yeT1uSl81NQF9GKmNnkBDO6+Q6mw6Zm+NGZt7CjnRvxo3uGpDcAIkm+O8U2MkSa7mCH\n",
       "UwaP2hWjrjjQXR3yWSGOxwT6y2xa/UtdXfMIu8WoI8GjDlwcRTg5arGvGJozaKE3pDVHcROO9vA8\n",
       "DqiXfigpv5g3ifZl0I/uGU55A8j7LnTdVVTxvECntA1NvHWio7KuMwnZ0/rCJ2mBfkigx/gxtogI\n",
       "nShvDgw8WYbe/Xk2m6YrfSxaaUJvctGy0fiIgtedPY4DS2k/OvMm4TW2M/3o3PCMNwA2OEzeRFPj\n",
       "Ap3J39Gl9mqnKd0Vue286R1JHb6iNxxHjHTTrBh1sHQdll2KT5xHPeAqV+9iE6GRrUiqvOiNUT79\n",
       "4kf3DEe8AfA+8HsR6iaBzuoH3a1aCPSJakega3EfOmVNyPCOEx/6qBNJKq5s0BQSqn2RRFv9A9cg\n",
       "YQWaFVM2nsA2qpqS5eiRs/nnTT+6MLCNLs4rEoSJItQJgc6qtia7Kjqr5rcU0NkUi+j0UJNxBuM2\n",
       "O5I2W60Lz85lHrmEsWwL0NOszd2H4CFM9fRA/eubDKTpLyfIjODdRvTjWWfFq8bPFwZLxZEbJOIZ\n",
       "53DEcHvMWs5ATrqby1w19JBYZIE+7n9LGqNlvtWBvHVgsPZhX9TjWm9JEaNM17mB6TsfgGnS6XPF\n",
       "yiopSElVN1ZHJw9SvIC+o64XPG/qtdGVXBk6N7xX5bExBNm7KJ3yr4hSy5ZuXIFOh6EmyuJrITl1\n",
       "oe9c+BfoAasMnRvOrOF/BF5f8T+MI97wRbMa+j9MN/4/bWh2vZKreWW9oiv2ut0vAUter+jh3uy6\n",
       "Yf0HmBWHCmr+eZUAAAAASUVORK5CYII=\n",
       "\" style=\"display:inline;vertical-align:middle;\" /></a><br>(see <a class=\"ProveItLink\" href=\"../../../__pv_it/theorems/1c486927fbb13a480f592c09da1de9b7cd51a37c0/dependencies.ipynb\">dependencies</a>)<br>"
      ],
      "text/plain": [
       "<IPython.core.display.HTML object>"
      ]
     },
     "metadata": {},
     "output_type": "display_data"
    }
   ],
   "source": [
    "%proving qmult_of_bra"
   ]
  },
  {
   "cell_type": "code",
   "execution_count": null,
   "metadata": {},
   "outputs": [],
   "source": []
  }
 ],
 "metadata": {
  "kernelspec": {
   "display_name": "Python 3",
   "language": "python",
   "name": "python3"
  }
 },
 "nbformat": 4,
 "nbformat_minor": 0
}