{
 "cells": [
  {
   "cell_type": "markdown",
   "metadata": {},
   "source": [
    "Proof of <a class=\"ProveItLink\" href=\"../../../../../../_theory_nbs_/theory.ipynb\">proveit</a>.<a class=\"ProveItLink\" href=\"../../../../../_theory_nbs_/theory.ipynb\">physics</a>.<a class=\"ProveItLink\" href=\"../../../../_theory_nbs_/theory.ipynb\">quantum</a>.<a class=\"ProveItLink\" href=\"../../theory.ipynb\">algebra</a>.<a class=\"ProveItLink\" href=\"../../theorems.ipynb#complex_set_is_hilbert_space\">complex_set_is_hilbert_space</a> theorem\n",
    "========"
   ]
  },
  {
   "cell_type": "code",
   "execution_count": 1,
   "metadata": {},
   "outputs": [],
   "source": [
    "import proveit\n",
    "theory = proveit.Theory() # the theorem's theory"
   ]
  },
  {
   "cell_type": "code",
   "execution_count": 2,
   "metadata": {},
   "outputs": [
    {
     "data": {
      "text/html": [
       "Under these <a href=\"presumptions.txt\">presumptions</a>, we begin our proof of<br><strong id=\"complex_set_is_hilbert_space\">complex_set_is_hilbert_space:</strong> <a class=\"ProveItLink\" href=\"../../../__pv_it/theorems/fea2a1d4e61d2080ebb570630e3f631f019efcf50/expr.ipynb\"><img src=\"data:image/png;base64,iVBORw0KGgoAAAANSUhEUgAAAKUAAAAcBAMAAADywGJUAAAAMFBMVEX///+qqqq6urpmZmaYmJgQ\n",
       "EBBUVFTMzMzc3NyIiIgyMjIiIiJERER2dnbu7u4AAADcB0J/AAAAAXRSTlMAQObYZgAAAAlwSFlz\n",
       "AAAOxAAADsQBlSsOGwAAAqVJREFUSMftlEFoE0EUhv+MJrvZbNYoFIQeGhU8CMEtKdIKYg69eBCh\n",
       "YMyprNrkUCzNpWIPJVskXk09maIlCrkULOJBxBwalB60IEGLVKUSoSgYCyUhJmpLfLNboolJ8bD1\n",
       "5MBOMrP/fPPev28GwNri7M0JWNqc4YBy8mnDlDB8dkQcLo8gHhDSGkvnmtcofr9H3YbZ5wN2NzIh\n",
       "bNDzHTiqQtJgb2TSqBBFZ6o9UlBfUH+xcVL8Sg9xFUDWIDUwRQrwFYWxDdORz1K/ag5uZTKp35lo\n",
       "wXQS8x79ZtszZfGXMUdmmuJsxYyRfkEHAu2Z14T6CnGuKXcxrRnMnmQ3cPW2ytJTbydHH55H16YX\n",
       "YOkl/xCZkFzJQzmx4uEKjJ+aBiZYfUNJrzPLkcglilMymY8gqUII07B3Xw+4KE5nrXYXsA+goKJD\n",
       "35VC3MPOcYWShYu2Z4k6849vJJtMDaxIqD0e130FnInVcC3A521FYrIqZmELccW+QTi5n/XcxzLU\n",
       "si2YRCnFiJEjiskk8TqfV0pUHL6qssmN5or5Z5SsnK9/wC/t4iTKRldPf3+U/+NMsosVzXkox/ZW\n",
       "hW+0yFCszdMuzKhPxkmubZilmIe7k+NMt1FHla04O7xClYcLrhDzOBOlc3SYxseNyku09VOo2Clt\n",
       "L2dKxHxAr9cNPysogVWvzAI2rjiQgIOScD7vVTpNj+40n005azDn4MgJA3DrPG93yo3HHnwm90Io\n",
       "5IjprOyPB7DMFZODkHn1rC386DVRH5/kt+6QMt0htREhHPwUDuryh4M3qED6ltlokPKLvId26PUF\n",
       "ingoSf3lqZl3CcWf1A3Fm+TLpgPgW8yk/v5Gk1RY3naC6dIsR5K7Ov63f93GT1uOFDTZcqYc3YEi\n",
       "zivWV/FSvxWYn2yJ19T15I9RAAAAAElFTkSuQmCC\n",
       "\" style=\"display:inline;vertical-align:middle;\" /></a><br>(see <a class=\"ProveItLink\" href=\"../../../__pv_it/theorems/3a2128d7baaacdd6d835d264ea08475b2f3830050/dependencies.ipynb\">dependencies</a>)<br>"
      ],
      "text/plain": [
       "<IPython.core.display.HTML object>"
      ]
     },
     "metadata": {},
     "output_type": "display_data"
    }
   ],
   "source": [
    "%proving complex_set_is_hilbert_space"
   ]
  },
  {
   "cell_type": "code",
   "execution_count": null,
   "metadata": {},
   "outputs": [],
   "source": []
  }
 ],
 "metadata": {
  "kernelspec": {
   "display_name": "Python 3",
   "language": "python",
   "name": "python3"
  }
 },
 "nbformat": 4,
 "nbformat_minor": 0
}