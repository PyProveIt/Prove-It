{
 "cells": [
  {
   "cell_type": "markdown",
   "metadata": {},
   "source": [
    "Proof of <a class=\"ProveItLink\" href=\"../../../../../../_theory_nbs_/theory.ipynb\">proveit</a>.<a class=\"ProveItLink\" href=\"../../../../../_theory_nbs_/theory.ipynb\">physics</a>.<a class=\"ProveItLink\" href=\"../../../../_theory_nbs_/theory.ipynb\">quantum</a>.<a class=\"ProveItLink\" href=\"../../theory.ipynb\">algebra</a>.<a class=\"ProveItLink\" href=\"../../theorems.ipynb#qmult_complex_left_closure\">qmult_complex_left_closure</a> theorem\n",
    "========"
   ]
  },
  {
   "cell_type": "code",
   "execution_count": 1,
   "metadata": {},
   "outputs": [],
   "source": [
    "import proveit\n",
    "theory = proveit.Theory() # the theorem's theory"
   ]
  },
  {
   "cell_type": "code",
   "execution_count": 2,
   "metadata": {},
   "outputs": [
    {
     "data": {
      "text/html": [
       "Under these <a href=\"presumptions.txt\">presumptions</a>, we begin our proof of<br><strong id=\"qmult_complex_left_closure\">qmult_complex_left_closure:</strong> <a class=\"ProveItLink\" href=\"../../../__pv_it/theorems/23e859cdfcdbfad00f68c7d8a5e663191941c0450/expr.ipynb\"><img src=\"data:image/png;base64,iVBORw0KGgoAAAANSUhEUgAAASsAAAAzBAMAAAA9eDPFAAAAMFBMVEX///+IiIgiIiIQEBB2dnbu\n",
       "7u5ERETMzMzc3NwyMjK6urpmZmaYmJiqqqpUVFQAAAB6qHgnAAAAAXRSTlMAQObYZgAAAAlwSFlz\n",
       "AAAOxAAADsQBlSsOGwAABUZJREFUWMPtmX9sE2UYx5+uvd7113YERY1ESBESNZPNiCYaaTFk/uLH\n",
       "DQeJotk0UkgwcMoCQgwcYjSGCNUwYgjRGtH9wx8jgAbB0RmGIS6uJkYhmlH/0ZhoJlMcQ7G+z/Ne\n",
       "27te77CXdotxl/Su9/b98Xmf932+z3NXAIdDWL5cgXE/rjpqXS7XM/5Y/lyuwxkrBRNyhCexJrH+\n",
       "k1ifVNrgMWUcsELZSluIs8cB60zlTb6oPZY4z4WSZmqOFYi7iDvzao513k047a051s1uGu3Waowl\n",
       "XnQVpuM1xqrnXWslxZptg50E1FRjrIY0nj0ZQ5GUBHjXrv43Kz1Y5YqORZr3nS1WPV4j6cqxtpFd\n",
       "vjL55q+Ms0xXQ7E9zFgtv+D323Ssj/H6li1WCA0W0CrHGiSHT5p8k2FBl6XmB9e9GEtC8Ni1eHNM\n",
       "x9qKpuuwxRLRmq+4WMSfKP6YbNN7iZ0+L63oYYMvuwDXtG3Guxk6VoDJiy9jv7dwdotdYM3Hk9dY\n",
       "4nt5FIu4nHmejt7Ci1vYJzgCsItbVOVYYTahgMOWH2DXpAus3/F0zliy3YP7OUAGDL6RF9sgCUmM\n",
       "LRnfkhndE++IRu90wPJGo7NchBH4C09HyEpTPqOSngiW+cjHXiuEAC91/k7+tj2tY30EsMoBK6SC\n",
       "30UY4Z6+H781wodkloyIFgwnzT52nkTozYKuyDrWLpCMiZFn7ffbjVjsR77qAk+i+BTX4FmB07Yp\n",
       "lUhYjdhJHJp5S+lvFBsSzOK2WEpefm8BK65j+RWfrpriTYmUsE6LPGOS01XwMN08qlJ04BJOnHcD\n",
       "FLFuGDE9UgYv4/ke9jmp23ra8d4/cBBUCZHtnOgcKh7GMcTRAlaPjhWR8zv+OBvY1wpwyoT1pT61\n",
       "pZkSLN8VwsLJABxQw2PM1IrZWoh1l56zsNUZQV60llBUpBk4M3+PBQuSfTjGdJkE+IkteZ/IYwXC\n",
       "Mk1/g1yC1d1MWDgZiDDbD6qRBRstiyhcgMLqz8KaM/FuZgGr/U+tU/sULHsLFqM03So2rcDis2dL\n",
       "Y6LvHJnAE8iWYMlvIxaPJpt5FHyv4DwSeeJT3CWD7HJQ9zcehqcUN+Hc344Gu8yhlOrsYOOFOgQV\n",
       "G0J/fymWRMIIcihpxvJgoMgCTYbG92YihwrW4kZawj7MDR9gveDarWfbO0SCEDAIuAI3GhKuvG5B\n",
       "PVsFLwM4k0gkMpu6LRnEj7SGqqfJjNUNUxGLJgO4ZA2KYW9x33oerb2oTwFh/ZgCX+f25PsUfng/\n",
       "X3HLwV5DorItZUxsGtg8Omkft+alwJzYhBYuuWjGOrJwWGFYNBnS9CGTQuylDlSLcryke2qLHnzq\n",
       "cjlmvw2KMdUuYAVSECfVlB7RYEEZLBmkURMWy452qwyrk7t5/5MlucFhirnW91AnSgteH879/MK+\n",
       "/N39pjRQOtGnSKvxW9vetaoVK5jmC1XEYovXkGFYPASE5jy405z9DFL5Gov6l0lWhubeXmi7zpqd\n",
       "tiUSKZvs9HAWVo6lDFih+SCc3Mew+GSETd/KYIpR7bSpV1iSde1fhNLKk2aDQOCR1SezMdashU0R\n",
       "nSukJJe0v96ZKnipWlj64kyLPWt+69Lk5gnAl6wulvUB+bIbLG/GHRYPTH59K5+W7Rs/5AZras2f\n",
       "qr2q48/PnSpXel/VsMTp5ZPXsGOqLWb9ZUo9yaphbQWbTvY7PtWXteUOrWpYq+1+WOYkUXWKUMZN\n",
       "Gqv32m022KT6UpeTQC0aKGPCdPWwDgzYvQp4tVIveRzG4d2p+2MS63+A1T8xf3O2XgVrwv7m/AfD\n",
       "umDaha2kvgAAAABJRU5ErkJggg==\n",
       "\" style=\"display:inline;vertical-align:middle;\" /></a><br>(see <a class=\"ProveItLink\" href=\"../../../__pv_it/theorems/2d03afa47ba31c65a042a6a6b4529795d456e99d0/dependencies.ipynb\">dependencies</a>)<br>"
      ],
      "text/plain": [
       "<IPython.core.display.HTML object>"
      ]
     },
     "metadata": {},
     "output_type": "display_data"
    }
   ],
   "source": [
    "%proving qmult_complex_left_closure"
   ]
  },
  {
   "cell_type": "code",
   "execution_count": null,
   "metadata": {},
   "outputs": [],
   "source": []
  }
 ],
 "metadata": {
  "kernelspec": {
   "display_name": "Python 3",
   "language": "python",
   "name": "python3"
  }
 },
 "nbformat": 4,
 "nbformat_minor": 0
}