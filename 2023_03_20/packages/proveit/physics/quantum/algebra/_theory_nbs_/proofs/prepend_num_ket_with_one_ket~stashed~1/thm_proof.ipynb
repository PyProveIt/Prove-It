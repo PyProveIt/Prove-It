{
 "cells": [
  {
   "cell_type": "markdown",
   "metadata": {},
   "source": [
    "Proof of <a class=\"ProveItLink\" href=\"../../../../../../_theory_nbs_/theory.ipynb\">proveit</a>.<a class=\"ProveItLink\" href=\"../../../../../_theory_nbs_/theory.ipynb\">physics</a>.<a class=\"ProveItLink\" href=\"../../../../_theory_nbs_/theory.ipynb\">quantum</a>.<a class=\"ProveItLink\" href=\"../../theory.ipynb\">algebra</a>.<a class=\"ProveItLink\" href=\"../../theorems.ipynb#prepend_num_ket_with_one_ket\">prepend_num_ket_with_one_ket</a> theorem\n",
    "========"
   ]
  },
  {
   "cell_type": "code",
   "execution_count": 1,
   "metadata": {},
   "outputs": [],
   "source": [
    "import proveit\n",
    "theory = proveit.Theory() # the theorem's theory"
   ]
  },
  {
   "cell_type": "code",
   "execution_count": 2,
   "metadata": {},
   "outputs": [
    {
     "data": {
      "text/html": [
       "Under these <a href=\"presumptions.txt\">presumptions</a>, we begin our proof of<br><strong id=\"prepend_num_ket_with_one_ket\">prepend_num_ket_with_one_ket:</strong> <a class=\"ProveItLink\" href=\"../../../__pv_it/theorems/b7179dd99aab0507cb4ecd34f8393238455ae81d0/expr.ipynb\"><img src=\"data:image/png;base64,iVBORw0KGgoAAAANSUhEUgAAAcYAAAAZBAMAAABZU5NUAAAAMFBMVEX///+IiIgiIiIQEBB2dnbu\n",
       "7u5ERETMzMzc3NwyMjK6urpmZmaYmJiqqqpUVFQAAAB6qHgnAAAAAXRSTlMAQObYZgAAAAlwSFlz\n",
       "AAAOxAAADsQBlSsOGwAABcVJREFUWMPVmG9oHEUUwN/d7Wb37vaupzS1Nome54daam1sRUup9oRg\n",
       "5ZrULZSCqBg/eA1BYZMWxQ+Nm6ZGsdCcH1oL/unZ+rHIUa2FXD5cESymES4SOaJVr0KtoLTxQ4kK\n",
       "Ic6bmd2bvd3rngaKnfDusrNv373fzJs3bxbAv8VT98Et2wKpdc2oheGWblM3kVElf6xdOH9bwUtD\n",
       "acaMSf7c2rwPDEePebMZO0DK03/kyS2wyUujxWgi9sqQ8dDmfbDH7vmIC2Gs4tdFH8Y4fsVKS0KM\n",
       "pZFRLR411J05uF53d/cGVCn4m5lhPIO6UzvDTXxfG4wSE8I4jtfHfBijOAFhc0mMTwMyjoL0N8QT\n",
       "kc762+/hR9LXipxDHvm347pTO8NNBGtdR7hMwRCulF4fRgVne3RpoTpBGX8F2AghI1rggXbKur2A\n",
       "Hz2+VqIlxnO3zrUDXV2tnBFNSGVb9QKXKQjrjhsN1uORphy4YeukjFt1uGaOQXA/Z5zmdyM0eP2H\n",
       "MQQ1RtRWCODOPO2jJoTpCulMpkAr+SaVMMtNuaUtxxxl/BngmvEJBLrBySjR4PVfDrMCI2q/QkTu\n",
       "p33MRG3ZhUtMiO8bUqmHfBlDqdS96SUxRtPA8+p6sdtiDFdj23XMSz7tM4ERtQtPAjwj6djHTMzY\n",
       "qlKVCWE8C/Cih7G0gzFqQIsu3ta6myLbd0YcVcqo/OHF+Hzph5FSg6QTTdFGd4D3BUaiHTAlUy7I\n",
       "aexjJmpJR8sxIYyHQa16GC44GInKYfLEPXbfXiJdy50pr+uqYxjkr8jHDusqWOaMwaoX409vl18j\n",
       "YTcOLgvOtk5kHMdNbdshIBtgxjIRzduro5MJYWzRpbxYjazNwBfVekYy1Wh5M14O/NJP14WWiDjy\n",
       "cRSiSW38azsABm7n64dlgDxn/Lz2xOlUamMq9QD+++l52jPkGGNqwdk2i4xDIJGfrWLQZSwTij2E\n",
       "yhwTwhhL1FIOuv+jpEd1F+M0phx1DlHO8rUfMuBP8eeX5dX52Aoh3L7xYtScQWPN45qiwXd43not\n",
       "CzdgnCHjCge3obMZy0RtSeMeHOnk+fKcPRPo/sVEQYLtxbXFvMgY1hLEv97hNLRb+W1Mh0cdS1RX\n",
       "5+GKmvNmtGJ1BlTTzSgvROZZVtQmBtrqGMX16IjVY4RRTQfylJGbIMmWl8OxJBNk7CGbH7NM3a98\n",
       "Nyy51iNIs8RofOW3m2QWn2SlvK7D/c5BlpKQDEzqIuMJuxZNUEYlDQHdzahdlxcCdHd79mQpZDae\n",
       "xxcERqKtlPcBrIpgDctNjNrlsNbLBBlHyABRy8z9ivTcx25G9TGMtw4wIrRqVd6ljA86HRjU5Wqs\n",
       "2zGP4VYxk+fhQLF42iNW4zl5XqLFyBt3wjK9MeMOzviUyUqXVSQ0A7SG5SZ6wCqHcbdCQcY4CWNq\n",
       "mblfgcIKNyNcITJGIl47ms2+DEOXaawuOA9PfA9SsqT1MQ9j71gZIEkZ1y8u/uXB2FKGtlZWbV6C\n",
       "kxDNZh/OvuTFOMgYr279kG0TLVgDXMY+boL8DC+Hg3km9tkKLTP3K7Ar7NofWfsykjQVduMud86B\n",
       "Q/CW4xo9HLGvVls1gGfOYQ1PDY9AUWk8j0Gjdo6iZ4xzhtIunK3wMMLL4QPAxGZEy8z9CkSmG5wf\n",
       "LynJNC8YSC4JJCI0DewCmT6o7nn1jItxViyRPRhPOa76aO5eXWnMqBVqPH00W0136AIjzisvhyfY\n",
       "QcBmZJap+5N0kjwZ++B3A0YNq27saqPZY6+p0BNvaHFxTnzs4PHHRUby6x6MroMTGbflJc5ILdS1\n",
       "PptHznmckckJDlg5jNU5rdAtRmYZ3VfWmOxI3Og9gPxEtl/03b+G5s/1+jIGhFN4o+PebptH1LYZ\n",
       "28UxpVL3roO539S7jhP/mhGGIeDzLiPuXUs6E1sC7nBrW31QqzBWcvnv73PCiaYQlQ9ulfdyXu9X\n",
       "9zdl/83/wfvVLf8A3zKivWBD35sAAAAASUVORK5CYII=\n",
       "\" style=\"display:inline;vertical-align:middle;\" /></a><br>(see <a class=\"ProveItLink\" href=\"../../../__pv_it/theorems/f0c0fc6501cb4d480e8d1c0966bc08c9cdd33cd50/dependencies.ipynb\">dependencies</a>)<br>"
      ],
      "text/plain": [
       "<IPython.core.display.HTML object>"
      ]
     },
     "metadata": {},
     "output_type": "display_data"
    }
   ],
   "source": [
    "%proving prepend_num_ket_with_one_ket"
   ]
  },
  {
   "cell_type": "code",
   "execution_count": null,
   "metadata": {},
   "outputs": [],
   "source": []
  }
 ],
 "metadata": {
  "kernelspec": {
   "display_name": "Python 3",
   "language": "python",
   "name": "python3"
  }
 },
 "nbformat": 4,
 "nbformat_minor": 0
}