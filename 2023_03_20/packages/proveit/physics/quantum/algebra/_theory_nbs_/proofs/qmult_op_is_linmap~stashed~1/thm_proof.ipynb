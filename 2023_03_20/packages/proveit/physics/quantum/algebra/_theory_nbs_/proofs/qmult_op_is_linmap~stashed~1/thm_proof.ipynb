{
 "cells": [
  {
   "cell_type": "markdown",
   "metadata": {},
   "source": [
    "Proof of <a class=\"ProveItLink\" href=\"../../../../../../_theory_nbs_/theory.ipynb\">proveit</a>.<a class=\"ProveItLink\" href=\"../../../../../_theory_nbs_/theory.ipynb\">physics</a>.<a class=\"ProveItLink\" href=\"../../../../_theory_nbs_/theory.ipynb\">quantum</a>.<a class=\"ProveItLink\" href=\"../../theory.ipynb\">algebra</a>.<a class=\"ProveItLink\" href=\"../../theorems.ipynb#qmult_op_is_linmap\">qmult_op_is_linmap</a> theorem\n",
    "========"
   ]
  },
  {
   "cell_type": "code",
   "execution_count": 1,
   "metadata": {},
   "outputs": [],
   "source": [
    "import proveit\n",
    "theory = proveit.Theory() # the theorem's theory"
   ]
  },
  {
   "cell_type": "code",
   "execution_count": 2,
   "metadata": {},
   "outputs": [
    {
     "data": {
      "text/html": [
       "Under these <a href=\"presumptions.txt\">presumptions</a>, we begin our proof of<br><strong id=\"qmult_op_is_linmap\">qmult_op_is_linmap:</strong> <a class=\"ProveItLink\" href=\"../../../__pv_it/theorems/6c529599dcf8bc9bfe8229cc187f8c7754f738060/expr.ipynb\"><img src=\"data:image/png;base64,iVBORw0KGgoAAAANSUhEUgAAAbIAAAAfBAMAAABwqFWrAAAAMFBMVEX///+IiIgiIiIQEBB2dnbu\n",
       "7u5ERETMzMzc3NwyMjK6urpmZmaYmJiqqqpUVFQAAAB6qHgnAAAAAXRSTlMAQObYZgAAAAlwSFlz\n",
       "AAAOxAAADsQBlSsOGwAABk5JREFUWMPlmGtsFFUUx//b3els99UlGuKjyrIERUFZqAlGCl1iCyRI\n",
       "HAhBiYZW0IUA2iWoxC+wRSQSklJSMcYAXZXHFyIbAwFaoEtiMNA1rgmSkII0KojxQ1do6/KQeu5j\n",
       "Znb7gLK24eFNzs7svWfOzO/cc8+5M8BgNI9/FO5os/ifGRzDBbjjLXG3kdnJ3WHD8eG+1fpoESl3\n",
       "H9ljsEXFs9dCP+1VrY/2hRQia2WHMwNPlptdd1DHKUj1RuZY+IJUw4Z6uoV9sxw41jUOsy9vhSUO\n",
       "LkTWwPo/G3iy3OzOM3DO9UrWeLpTqjn3f0Uanlp9pC0J92I6bpaSwCo285UDT5ab3UMGzpF0L2T5\n",
       "rY5OqbYUBT6gMK4Pra7EBnZslpJAgUYWkgNPlpvdgI5jW/u3QWZZ4H9KDA/T7OVCzd0KK/ntnGbc\n",
       "Mq3wBWDVhCTgig9CkiaDOdl1G2mj2vKPfurYZDz+RFMNqKDF9odxqevafHHruBDKjeP9/ucGIzfm\n",
       "YtcZ1HFi7uv66XoDzHLVVAP20Ohf5rWl5/nB1iqEyPYDbw0GmWFX6zYvkR7qXuO6uMRxJNV2ncxM\n",
       "Q3kBU41Ck2ylTSMvCyuuWiFEVgM7IW6oC/NcCpzqjHgmixI5Z3y5rX6ay6dUYZ3PtBEj7w2ZFrwF\n",
       "mbALKBNMqDq6+wnYD1LXSd5RtRi//g6n8ehJieOE/YZOZqQ/bIyZalhVGgotDJj3bBNP6A4IIbJ8\n",
       "jQy4ghVJ5EVlMDvJrerjoSjeAR6A6sVGqBlkPjYhztZbkHG7LDxowWD5hSX0e3i2D7TOv1Wo62mu\n",
       "aI3hAM2Q7iVrVOIMbTzSKU9VCmv/EyKBRE01nLlx9uy5mBnINSJU1ZQQInN76TmWoyKCFXoCYvmn\n",
       "kU0bJ2OLNZPMEuA57FZk3C61XeNY8eGMQXcYzqjqVdJQhbctHTZNFqBMMoXm9pIkU8zSUZehxiNx\n",
       "tZH0sV/tFLU8IITtrmqP8npAMPK6vZqs44JsboqRlQzZB9tR7/qtjV+3l2Obhsi6MQ/uw9rmKCxT\n",
       "LrIhy5mXsnZXwi6824AiEUwMIk/41Sm9PZFn8ZndopGF5wg9Gg2f2q/LZcujkRXpH4w1awtjLP/j\n",
       "9glhZDO5x47pAQILVRLM5acLysoWws7J0jiNrTjkmLSWuXvNpQbW9TB+w/OYgb1saDuqs8iEXQsO\n",
       "6m6fyjMdW+WVeuRjGF/RLXol9gqc3XRer5MNMQJu0g5gRVSooZB+mtic8rFHCJPHNNnmwsg+ZHE1\n",
       "r6u4OCXxWdXYDWPOFE4WQOGuFHaqHSKQlrd5WVf0Yyyj2PqIZmHn6sNaFhm3i11kwSGCpoT97KRn\n",
       "qb9cXCo1X4zJTjNlR2Fnd6iKSLICvd7vKe0a/f0WqcaLdB1eQQXLMHOJqrBDrwhMGJmHuy3NcyVr\n",
       "5cPomuOhUCiZTWZNlCRO0JGRaRRRrCtumTLcQR5x0ZCj6moWmbC7t6xNc30aCr0Nld/5Z+buCI5L\n",
       "lFm88315HVvNtqhSdUXDqa5PJJlyYYcIxsVKy1ietfmiD7EatnIU8kbS9aUToNZfYl5iwcDEeItx\n",
       "+OARoW/TKGHh3d7njBlVA6+z9OHjczYGb7zaIbLRe/rjZm4+LLS8wiqPE7a0VA7xJfCn9KLYVujR\n",
       "iCezNovy1DFV311lqIFtf5tG0yT8lDW0RopBRrct8EKhR9hHCYvl7G5kaVqJyzCLcJTUSlylYkVz\n",
       "MFTpwHDvm5jFhlqQ35OMorowKUr2xqXfYQnPIJSqNlG1pLtqYAFiLqXm3sh6tubMP8Hue2ouBpk1\n",
       "DKv3vDpJ+WYk5l+Jw76IVerickv9tPnXlKaYvegovTpN8da0RzAjiIayMqjXf4zh0cQHXupmQy1F\n",
       "03uQOSdDafoc6yiGlIaTCzrDyKcMRoV6nEdbkXzNryltW6T/RQqJ9IssP2Mfo3izXrYr5SuGQUZp\n",
       "zfNsBG5DZU4oFL35FkoN9PudWpkaWqKHfRB2epZfLgLGm4BZsuisP2QZNY7Fezdmzt39a8GO29gc\n",
       "qqmcvhYcMJa2kUqd5hRUw2Z+BxnRp2+r+xp4SEoPsvhtkNW050Rm04FcRteJe+jb1c2+N2r96Pnv\n",
       "3xtL8P9ralHwPiVbhcr7lGzRfRuNIwdhXd8dbXsifm8D/AtN6sarsuLu3wAAAABJRU5ErkJggg==\n",
       "\" style=\"display:inline;vertical-align:middle;\" /></a><br>(see <a class=\"ProveItLink\" href=\"../../../__pv_it/theorems/8b7ec93ce6fec9fd21072e8b57b4eb2601c92f520/dependencies.ipynb\">dependencies</a>)<br>"
      ],
      "text/plain": [
       "<IPython.core.display.HTML object>"
      ]
     },
     "metadata": {},
     "output_type": "display_data"
    }
   ],
   "source": [
    "%proving qmult_op_is_linmap"
   ]
  },
  {
   "cell_type": "code",
   "execution_count": null,
   "metadata": {},
   "outputs": [],
   "source": []
  }
 ],
 "metadata": {
  "kernelspec": {
   "display_name": "Python 3",
   "language": "python",
   "name": "python3"
  }
 },
 "nbformat": 4,
 "nbformat_minor": 0
}