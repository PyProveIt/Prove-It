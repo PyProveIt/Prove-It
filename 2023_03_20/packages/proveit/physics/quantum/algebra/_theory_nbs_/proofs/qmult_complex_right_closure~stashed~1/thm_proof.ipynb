{
 "cells": [
  {
   "cell_type": "markdown",
   "metadata": {},
   "source": [
    "Proof of <a class=\"ProveItLink\" href=\"../../../../../../_theory_nbs_/theory.ipynb\">proveit</a>.<a class=\"ProveItLink\" href=\"../../../../../_theory_nbs_/theory.ipynb\">physics</a>.<a class=\"ProveItLink\" href=\"../../../../_theory_nbs_/theory.ipynb\">quantum</a>.<a class=\"ProveItLink\" href=\"../../theory.ipynb\">algebra</a>.<a class=\"ProveItLink\" href=\"../../theorems.ipynb#qmult_complex_right_closure\">qmult_complex_right_closure</a> theorem\n",
    "========"
   ]
  },
  {
   "cell_type": "code",
   "execution_count": 1,
   "metadata": {},
   "outputs": [],
   "source": [
    "import proveit\n",
    "theory = proveit.Theory() # the theorem's theory"
   ]
  },
  {
   "cell_type": "code",
   "execution_count": 2,
   "metadata": {},
   "outputs": [
    {
     "data": {
      "text/html": [
       "Under these <a href=\"presumptions.txt\">presumptions</a>, we begin our proof of<br><strong id=\"qmult_complex_right_closure\">qmult_complex_right_closure:</strong> <a class=\"ProveItLink\" href=\"../../../__pv_it/theorems/d17badc0438084981c39418cd30388a327c5d1d80/expr.ipynb\"><img src=\"data:image/png;base64,iVBORw0KGgoAAAANSUhEUgAAASsAAAAzBAMAAAA9eDPFAAAAMFBMVEX///+IiIgiIiIQEBB2dnbu\n",
       "7u5ERETMzMzc3NwyMjK6urpmZmaYmJiqqqpUVFQAAAB6qHgnAAAAAXRSTlMAQObYZgAAAAlwSFlz\n",
       "AAAOxAAADsQBlSsOGwAABUdJREFUWMPtmX9sFEUUx9/2bm/3frVrENTYCDmERA1SjMREI21N0/gL\n",
       "2EIhUTStRg4SDKzSgBADCxiNIcJpLDGE6BnR/sMfNUAMgrUYSkJs7JkYhWja8x+NiaZSRShaz3lv\n",
       "dvdub28Xb3PXxthNOrc7uzPzmTfzvu/tFsDjEFetUmHSj2uOWpPL9U4+ViiX6/TGSsOUHLFprGms\n",
       "/yTWJ+U2eEydBKxottwW0rxJwDpXfpMvqo8lLfahpJmqY4WbfMSdxVXHGvETTvuqjnWrn0b79Spj\n",
       "SZd8hemmKmPV8q71omrdtcFeAmqoMlZdP5YCdy05ZVa/6/b8N2sEfHDCwCLN+84VqxZ/4/3lY+0k\n",
       "u3xleOWvZrVQoqvhxjeZsVp/wfM7DKyP8fctV6woGiysl481RA5vWGnEwoJux5Mf3PBiYwoiJ2bi\n",
       "xQkDaweartMVS0JrvuxjEX+i+GPYpu+KVf958YMCG3zFRbi+fRtezTawwkxeghn3vYWzW+oDawkW\n",
       "AX4efOmyVR/gciY8nbiNV7Syv8gYwD5uV41jxdiEwh5bfpD9pnxg/Y7FBX6+S5jIiz8ZMPK6KbYR\n",
       "EpJGtmR8S2YMT7wrkbjbAyuQSMz1EUbgLyyO8fPeOF1Bc70GQfKxV60QEKDO3zEvO/oNrI8A1npg\n",
       "RTUI+Qgj3NMPcYNkJLLd7kyUrU7K7mMjJEJvWLqiGFj7QC5MjIQN3+8qxGI3+aqLPIniU1yPpQpn\n",
       "XVMqibAWGG3kv3k4CigQJ8HMb4vl5OX3WVhNBlZIDRqqKd2STIsb9fgzNjldCw/TxUqNogOXcOK8\n",
       "ByCPddOY7ZUychXLe+l81sm+P5COdpGEWiGxnZOYTzdHcQzJcom6XgMrrpg7/iQbONgGcMaG9aUx\n",
       "teWZIqzgBGHhZAAOa7FxZmrVbi3CEtm6jKGJSYYiaC0xr0izcWahXgcWpE7jGPUKCfAT202fMLHC\n",
       "MYW626wUYfUsIiycDMSZ7Ye0ePOWEouI6z4XdzN1EJ+D5RwLq+NPvUv/DBx7C5aiNN0uNazG6vPn\n",
       "i2Ni8AKZQAhni7CUtxGLR5NtPAq+ZzmPTL73FBZHDE/DKJk2wvB1+U248LfjkW57KKVn9rDxop2i\n",
       "hs1hYKAYSyZhBCWasmMJGCiyQJOh8QOZ+IeWtcSLWC7D9rhqm3QcA4IaREkQwgUCrsLNBQmXqVtQ\n",
       "y1YhwADOJZPJzNYeRwbxI62hJjTYsXpgBmLRZACXrE4t2Fvct55nfJvGVfg6x4IxtAzONPsUf3jf\n",
       "fHD7kb6CRGVnujCxqWOz6aJ93GZKgT2xibYsu2THOtYyqjIsmgxp+rBNIQ5QB5pDOXYbntpqBJ+a\n",
       "XI7Zb7NamGpbWOE0NJFqyo/o0FwCSwH5sg2LZUf7NYbVxd184Mmi3OAoxVznd6hTxRWvjeZ+fuGg\n",
       "efWALQ2UT51W5XV41n5gg+bEivTzhcpjscWryzAsHgKi8x/ca89+hqh+vUP9SyQrwwvvtNpudGan\n",
       "7clk2iU7PZqFNePpAqzoEhA/Pciw+GTErd8qYItRHbSpVzuSdf1fhNLyk+YCgcAja0xmS+MiPWaL\n",
       "6FwhZaWo/Y3eVJErlcIyFmdW47P2ry4Nft4AgqnKYjlfkK/6wQpk/GHxwBQytvJZxb3xQ36wZlT9\n",
       "rTqged5+7kyp2vsrhiXVl05eY56ptpQNlagVUhXD2gEunRzyfKsvacs9esWw1rndWOElUTWqWMJN\n",
       "FlTus9s8cEn15W4vgXp0sIQJ+yuHdXjQ7VPAK+V6yeMwCd9O/R/TWP8DrIGp+Tdn2zWwpuzfnP8A\n",
       "HSthBy0/BXUAAAAASUVORK5CYII=\n",
       "\" style=\"display:inline;vertical-align:middle;\" /></a><br>(see <a class=\"ProveItLink\" href=\"../../../__pv_it/theorems/87965218297ce26bd7a5ad4c457e29e5bed7c8830/dependencies.ipynb\">dependencies</a>)<br>"
      ],
      "text/plain": [
       "<IPython.core.display.HTML object>"
      ]
     },
     "metadata": {},
     "output_type": "display_data"
    }
   ],
   "source": [
    "%proving qmult_complex_right_closure"
   ]
  },
  {
   "cell_type": "code",
   "execution_count": null,
   "metadata": {},
   "outputs": [],
   "source": []
  }
 ],
 "metadata": {
  "kernelspec": {
   "display_name": "Python 3",
   "language": "python",
   "name": "python3"
  }
 },
 "nbformat": 4,
 "nbformat_minor": 0
}