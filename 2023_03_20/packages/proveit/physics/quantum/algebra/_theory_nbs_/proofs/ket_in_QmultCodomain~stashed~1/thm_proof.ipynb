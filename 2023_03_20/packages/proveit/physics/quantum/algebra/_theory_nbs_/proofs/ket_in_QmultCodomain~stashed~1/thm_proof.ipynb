{
 "cells": [
  {
   "cell_type": "markdown",
   "metadata": {},
   "source": [
    "Proof of <a class=\"ProveItLink\" href=\"../../../../../../_theory_nbs_/theory.ipynb\">proveit</a>.<a class=\"ProveItLink\" href=\"../../../../../_theory_nbs_/theory.ipynb\">physics</a>.<a class=\"ProveItLink\" href=\"../../../../_theory_nbs_/theory.ipynb\">quantum</a>.<a class=\"ProveItLink\" href=\"../../theory.ipynb\">algebra</a>.<a class=\"ProveItLink\" href=\"../../theorems.ipynb#ket_in_QmultCodomain\">ket_in_QmultCodomain</a> theorem\n",
    "========"
   ]
  },
  {
   "cell_type": "code",
   "execution_count": 1,
   "metadata": {},
   "outputs": [],
   "source": [
    "import proveit\n",
    "theory = proveit.Theory() # the theorem's theory"
   ]
  },
  {
   "cell_type": "code",
   "execution_count": 2,
   "metadata": {},
   "outputs": [
    {
     "data": {
      "text/html": [
       "Under these <a href=\"presumptions.txt\">presumptions</a>, we begin our proof of<br><strong id=\"ket_in_QmultCodomain\">ket_in_QmultCodomain:</strong> <a class=\"ProveItLink\" href=\"../../../__pv_it/theorems/73074de091dccf1c0b62f2045443984c81a2a96a0/expr.ipynb\"><img src=\"data:image/png;base64,iVBORw0KGgoAAAANSUhEUgAAAVQAAAAmBAMAAABpIX74AAAAMFBMVEX///+IiIgiIiIQEBB2dnbu\n",
       "7u5ERETMzMzc3NwyMjK6urpmZmaYmJiqqqpUVFQAAAB6qHgnAAAAAXRSTlMAQObYZgAAAAlwSFlz\n",
       "AAAOxAAADsQBlSsOGwAABapJREFUWMPFmX9oG2UYx59L7leSS3qd7WCsaikTxT9cZjc2cOKJtdtw\n",
       "wluFyfBHzjIr1E3TxeFfNjeVwRBtik70j2mnYzD9o1EGm13Rq63WzQwCKgiTGSYbon80zha7di6+\n",
       "P+4uSXtdLzU2oeTtvXnzvc/7vM/7PM97Aaji65fCNa9DQ1mPA4VDtPmyMFVNUrjgfegXnkfuRazd\n",
       "UCNUJeV9aK62qAnkXXVPbVHfrkD1UVRL1HAleySUqyWqT6tAVZ6uJWoSVSK7q5aol4mxnKv4wgZN\n",
       "k/fRWqKSTMEP2FfPLujS+9IqbvqyDJX67M9VQ/UkJ00XUTHLeTfKX69qIJ94nlD60gx1iDTvVg3V\n",
       "k5ySL6LiDeabPyL49EujVwE+6SdOHUox1F7iEnrVUD3JRVIOqoCtys+vB1biT9aq3INbyEguz1AD\n",
       "yHXsUlE9yflzDmo4XjK1lS0tLOHypGewGWTqT+G/GapiYv3qbStPcnWag8qXOMzxRnvAIFl3Pzam\n",
       "QV37HysC3N3Ssr6KEcCLXJ3JUDuGMeoKgB9YZDrkDKAKgbxdB16zUE8CPFNFVCaXZh1p93E0+mBU\n",
       "7Xt4Am5F1r4KGM72n6HXzfb1nxbqm9QjXn8rDmGW7oQH1qBtk/GvYEde7ixJxdi/67doi6EyOep9\n",
       "JpxzYvnnG23jkWTFUKXsZ/At+LE09YWi3/A0lfqdiU5aqCLC81O0WBZ8+Bs9l7tBzAEXhR6Q87C3\n",
       "JG8Ti1mlww1QqRxDVUEkDZEcE7C/3em44gBFFWAdjlXYBBJVTbTgF/1ihFo16WSxWQs1rOLp9EDM\n",
       "gASe30lyN4qKzVuGehNA1ArxN0KlchRVzkLIYJKSKkyDFJ1jVVJgadAB1nLucHS46+T9OZiLCqkR\n",
       "+nWA0wBNYKMKLxDUxMhqBNvr5ffOD020ofcRGHLnyENI3o5DfcMtBj+iws1jZllipXI6HMkp6HaS\n",
       "w5tYgspDKD0XNZTC02m0vbSYCYTCKWmr4riq46vwMN1535AFEqj9xTVt7VHoI6hJI5wKZEPmRz9p\n",
       "2OavXMGESYNLRTS/wadD2mEYDmqyWoZK5XRBneJw/a5bkqDo1L+sbWVFgJCuoCDuPcBsqRbPU4V7\n",
       "0HFUVjJQ1FfJou4stLbmIWg6VoUYtSrATBKCOq7aEsTtJlTaJRuiGTPkx/JwTJr9sbxcoXK6/GQz\n",
       "B+O4GmCSwgd/td7njIupDDW4iYezZHas+3DJORW4YvSQ7bgKEeq+0+RoprzT1bVnDurm0UxmALf4\n",
       "D5F1JF3QsEIdxKbanDkLxwoDZahUToeI+gZ2xBctSagz4EwxW6WtFNDbXk/W3lrqp7ptQ0off/d7\n",
       "SXUzU1YEBpshkgZJc7UqkO2VEMwcUSVdPlNs7KPgIKHi6bNYBJLl/lo24ZQlCR8C/OF8GtDtbPUy\n",
       "DaO2AY92Wol1bQHHJ2lD2fHGQcU+H1CtZFCCmjQUXTQFFfPFpPgMiZlJxOkx5KsXNUHdDR34Prob\n",
       "akRVX6OOyvIL3rL9xRAdtVFpKhWNeSX1hcL18YP2avHNZaj+OPjVS3AgTlLAerRqct9E+vFZ2J9p\n",
       "AGirlye2An8Chtra8LY6txq44fF+3A38/Wr40zHDDVU4vcsEjuwZ6l84A6yL2OurTNmo1OQ73erV\n",
       "i1d+s/8Xc2Wo+7GT3WWA0N7VvdgR3sspQKdhlaYAKkmixEXn3iQfMFS66Zu8lAxLObAkPaIq2IZH\n",
       "FhhIojvnJKPcInccNJaGKk9o3lA53FxaYOBoRbfc9r8eAy33XegMHRuoRPbeWp5Y+VQFqlzUHbVn\n",
       "bFmeWW10P8k2uTmXP+uKKuXEZUE949rbC24HyFXuTwLF+PI8CQyYbr2uzy7kTe6oPiQsC6pwh1vv\n",
       "bW778JGsO2pwe+Y/oFbwW8BBt+BwNONi7N30vdq/BVQSnr16muDEtX8BC1Gpntjy/J4AAAAASUVO\n",
       "RK5CYII=\n",
       "\" style=\"display:inline;vertical-align:middle;\" /></a><br>(see <a class=\"ProveItLink\" href=\"../../../__pv_it/theorems/45fb2a6d9275a09202b37f1004999e63c48127890/dependencies.ipynb\">dependencies</a>)<br>"
      ],
      "text/plain": [
       "<IPython.core.display.HTML object>"
      ]
     },
     "metadata": {},
     "output_type": "display_data"
    }
   ],
   "source": [
    "%proving ket_in_QmultCodomain"
   ]
  },
  {
   "cell_type": "code",
   "execution_count": null,
   "metadata": {},
   "outputs": [],
   "source": []
  }
 ],
 "metadata": {
  "kernelspec": {
   "display_name": "Python 3",
   "language": "python",
   "name": "python3"
  }
 },
 "nbformat": 4,
 "nbformat_minor": 0
}