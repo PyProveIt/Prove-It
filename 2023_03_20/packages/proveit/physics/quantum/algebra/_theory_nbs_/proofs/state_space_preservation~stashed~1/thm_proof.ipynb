{
 "cells": [
  {
   "cell_type": "markdown",
   "metadata": {},
   "source": [
    "Proof of <a class=\"ProveItLink\" href=\"../../../../../../_theory_nbs_/theory.ipynb\">proveit</a>.<a class=\"ProveItLink\" href=\"../../../../../_theory_nbs_/theory.ipynb\">physics</a>.<a class=\"ProveItLink\" href=\"../../../../_theory_nbs_/theory.ipynb\">quantum</a>.<a class=\"ProveItLink\" href=\"../../theory.ipynb\">algebra</a>.<a class=\"ProveItLink\" href=\"../../theorems.ipynb#state_space_preservation\">state_space_preservation</a> theorem\n",
    "========"
   ]
  },
  {
   "cell_type": "code",
   "execution_count": 1,
   "metadata": {},
   "outputs": [],
   "source": [
    "import proveit\n",
    "theory = proveit.Theory() # the theorem's theory"
   ]
  },
  {
   "cell_type": "code",
   "execution_count": 2,
   "metadata": {},
   "outputs": [
    {
     "data": {
      "text/html": [
       "Under these <a href=\"presumptions.txt\">presumptions</a>, we begin our proof of<br><strong id=\"state_space_preservation\">state_space_preservation:</strong> <a class=\"ProveItLink\" href=\"../../../__pv_it/theorems/9d121a551047c59e6a220bae8f12c8ec45dd496d0/expr.ipynb\"><img src=\"data:image/png;base64,iVBORw0KGgoAAAANSUhEUgAAAYYAAAAZBAMAAADH6ZT0AAAAMFBMVEX///+IiIgiIiIQEBB2dnbu\n",
       "7u5ERETMzMzc3NwyMjK6urpmZmaYmJiqqqpUVFQAAAB6qHgnAAAAAXRSTlMAQObYZgAAAAlwSFlz\n",
       "AAAOxAAADsQBlSsOGwAABZBJREFUWMPNmH+IFFUcwL+zN7M7t7OzzoWYZcixF5mKIFEUIbZRWJw/\n",
       "GuHwr5PWy9suD2WNo6Aw56gORLzWQCnyj60zgwhbwfLyoibqlLsMzjNYTdHVxPsjgkM4ggjp+973\n",
       "za+dvdsJynzw3Xdz7833fT9vvt/v+84ANG7pzIMQvV3LWHCb2l2ZCZAyK6JMbf5Hiotw+1rKxp8z\n",
       "/y+DJcR/zVsCRZ3trh9Pt5Rp9A5gkCZI3Nbu/BEvACSN0A0dXe8v7FPGV8FjNCoYqmzsUgOGNOt0\n",
       "OyJDBJXUfuaiXrv5O6Sf2O8ySLhWGfv7Qsy/2sq3verGIszQqGA4yQbfa8CglVhnRWSIoJI3pUgi\n",
       "/4kX873nIKO0sgXNmhuOHUazeyFtJFfSqGB4g3lergFDgm3tQFRfiqCSN80maZ7Giy88ho0o69ku\n",
       "l4PzE+Vu/P0NmgpaucBHBQPDkScaxcMBoTYSQwSVvDUJmcd4qx5DxdmwR4QLdWWW8hxvsomd8A7E\n",
       "dhX4qGBgXXPDmD4TPViLUVTydkHI5xieStZjyDqOe4hfJvcLn4qr9GCOgrSORp289FAm83BDhqZM\n",
       "pi0bOS81VsnbcSHP4aamSsSgLLIhK7WCzlbbwKftccJiMBEwYYPHcAKgu84C2QCDVoC4Wc8OnQLd\n",
       "CDCQSuHN2qwMh4S0ubPaQdZXKrY0Q0E9BoHs0JcMZMYxj2EQ1GqdBcoBBpwyCPD6LVvtIjjlqftN\n",
       "bXUBxkOGFh2VPKptSLmRIfVe7fcvsYJEucV8XTDs0lpTFmDaYcntXPDA2Rs8Mc55DHFTLvlG1OXt\n",
       "8H21lgH3FX1VxwTyKV7svLEN4nyOIvCTWT8DqcyJB8T6xOJ8Sdlh6VtTJ39ypz5Oov+Ffb9gMJsM\n",
       "mS/Okttuno3QMzMPUDwEfGm3x6AbXvwx4y7LpmaGGM4y27QiN0o7wRRWmb9pDv4BPwOpZLar+BCG\n",
       "sR9Bl5cxZ/6gL+Be4meQ/8D+WeecvmLKoBh0/g3xJ+5m6bgZSNhDvlqj+J2bsJlxl4yyDGtHlo+U\n",
       "/AzNKdQby/I44ecnMcRE9eJLvEVHZQ4+rKbMJbAXvYit1fkaq4Gm1GKNL8nTTmplDF/BPpBMioJJ\n",
       "/k+XOcnPh6RzOeljWI97mPp65yJhXOWXfjkUDyBfQL3Pl9hzoI0hhj1A1QtcDDAwlZBTjBkJtkMc\n",
       "YBMbOH+eWySNO8lhC4mOEZy2HIYvYZT5Kz8jT/F/tnjn9FFgkKKd8jG8idZ0DtlNFhlXkTcfDjOo\n",
       "q/HnCu5CASg7EMMRENXLkQADUwk5dXOrBKdZnfUZGxgdZZ5R1df5kiOXD0Cdcmu+ISvL8iw/I4/T\n",
       "8l5SeGlYmSz7UrPLkEZfffsemGeScRUoLwgzwBRtAdZjqYP5/HZI5xjDZRDVyysBBqYSfSlt7MM5\n",
       "mNXH8vn8xKuf1KS+l4XIO455dWvi+paF+FeMXS6jFHjjY7dufeHmsHv7stra+yqGCBlXgY7m0PlA\n",
       "7Rtey9BJg+cQzkHTqXq5GK69cxArjao2aBb08VIO71X8DLECSbD2TvBtZ/pUEQnJNVRrBBsbDTI8\n",
       "CiMJMq4CybOzvD98RCVBt4hIqcC2i6qXlnoMacN4iwcDPx/VtRY8GXgLK9fWdYxB4uHSI2rCuSvG\n",
       "AIM6DUsqZByeWotnYdCv86gf4HvX8fQzaJwlqpeeegzKyFZc5F5U/yK/42BvYNf5TT21DLJTljco\n",
       "lAdq3+OSVZhvc+MSSy1xaM76HqesyW+D4NnmJXE/Az8e+DnRkc+XwmZsEhJ8DtxT7Vq8UOup/y7q\n",
       "My7qu6gIMc2qy5Ay675Sui5tkLjtbvdTCuOY852Lj/4779MyJftxqMsg8ar/jviuMdf3JdP3y9u7\n",
       "zvcl0Sn/4felNhukzKq/AbyVfNES54KzAAAAAElFTkSuQmCC\n",
       "\" style=\"display:inline;vertical-align:middle;\" /></a><br>(see <a class=\"ProveItLink\" href=\"../../../__pv_it/theorems/d8c6adfc5739add3ae37d454cb4a84f6ffcc97b40/dependencies.ipynb\">dependencies</a>)<br>"
      ],
      "text/plain": [
       "<IPython.core.display.HTML object>"
      ]
     },
     "metadata": {},
     "output_type": "display_data"
    }
   ],
   "source": [
    "%proving state_space_preservation"
   ]
  },
  {
   "cell_type": "code",
   "execution_count": null,
   "metadata": {},
   "outputs": [],
   "source": []
  }
 ],
 "metadata": {
  "kernelspec": {
   "display_name": "Python 3",
   "language": "python",
   "name": "python3"
  }
 },
 "nbformat": 4,
 "nbformat_minor": 0
}