{
 "cells": [
  {
   "cell_type": "markdown",
   "metadata": {},
   "source": [
    "Proof of <a class=\"ProveItLink\" href=\"../../../../../../_theory_nbs_/theory.ipynb\">proveit</a>.<a class=\"ProveItLink\" href=\"../../../../../_theory_nbs_/theory.ipynb\">physics</a>.<a class=\"ProveItLink\" href=\"../../../../_theory_nbs_/theory.ipynb\">quantum</a>.<a class=\"ProveItLink\" href=\"../../theory.ipynb\">algebra</a>.<a class=\"ProveItLink\" href=\"../../theorems.ipynb#qmult_pulling_scalars_out_front\">qmult_pulling_scalars_out_front</a> theorem\n",
    "========"
   ]
  },
  {
   "cell_type": "code",
   "execution_count": 1,
   "metadata": {},
   "outputs": [],
   "source": [
    "import proveit\n",
    "theory = proveit.Theory() # the theorem's theory"
   ]
  },
  {
   "cell_type": "code",
   "execution_count": 2,
   "metadata": {},
   "outputs": [
    {
     "data": {
      "text/html": [
       "Under these <a href=\"presumptions.txt\">presumptions</a>, we begin our proof of<br><strong id=\"qmult_pulling_scalars_out_front\">qmult_pulling_scalars_out_front:</strong> <a class=\"ProveItLink\" href=\"../../../__pv_it/theorems/a3fedc3e001968e844621f77d40820581f5999a50/expr.ipynb\"><img src=\"data:image/png;base64,iVBORw0KGgoAAAANSUhEUgAABGAAAAAzBAMAAAAqdWPQAAAAMFBMVEX///+IiIgiIiIQEBB2dnbu\n",
       "7u5ERETMzMzc3NwyMjK6urpmZmaYmJiqqqpUVFQAAAB6qHgnAAAAAXRSTlMAQObYZgAAAAlwSFlz\n",
       "AAAOxAAADsQBlSsOGwAADaxJREFUeNrtXQ2MVNUVPrMzb+f37Q5aiYrgFrs19aesxqqpPwyGbbT+\n",
       "8IjsNgYK2xqXBm0ZpNFQg4yipMbU3URpDDY6FoxtImWwEBUorkmpQWgYaWJraWS0tjbRwkpAfsp2\n",
       "en/fu3/vMTA86co7yc7ce8+598zc+717zz33nlmAxsjq6XGgKerp6YGIRivR8T+OMWyp1yvNqZxU\n",
       "/89p0bVzv1hfp5fOE631eh/A/PpnDQOm3Kzmi06PR7Ft6Iv1fZKdLJHrw69/iABzkulDOZsaJR+7\n",
       "5MvZGQEmTMoNyvnxFDZy6WPBbSjSnws978tJ1CLAhEhL5UfVLpC39LBU+lxwG1zaurPDtTm9pG6P\n",
       "ijxr7J5PUgVzTq/psWP+K+klEWBCpC/L2Tvo224JMHY9uA1XOu3tM9IBWw6Rd+ZZYL88ZM5pJLKX\n",
       "+0r9yYkAE96K1CXnN9G3zYfEwuzeUmAjrnR71S0TkhoJvN4L0cvrJWNO3wCJ7G3HwmMEmDAorsz/\n",
       "FD+JRw6KhTdOKwa14Umv8VxfawK8YALvSZxcac5pJLHjvgoyhyLAhEbny91uU/P1odiIaNPmz68G\n",
       "teFJ3+AV3hBQweMlSM0HjDkdmBI77b9yPRsBJjT6upzN0gmnYh8VC2F3oK/Gk352zL9BT+oD6vIG\n",
       "iPn7HWNOI5nNN0Mmm8qJABMSJQ8qyz9BRqaa3C8UroYlhYA2PGnrsDOnpCX1vQ7l4WVuWl5kyDmN\n",
       "ZDb1B7w8EZMC+zn5CDAhUZti87ZU6ZSS+i8a1618BoGBGlhT9/gYDVR6Ntop2QcgnqfVSHLGbf8w\n",
       "VSA8AGzBTmKgmkVGn+X8VE2SEGh3+X6r1o4IMGHZvMq8Hie9Nnbj5s8AFpxBy2J3b9zbh2CR9fGs\n",
       "UGls/WQHob1Aq5FkBV42IgzzaHIyeXWSYzqEnJ8qxuaT47D/1u9QBJiQaMmQATAWevz3getjn472\n",
       "wR3QXk4dNC8wVBpbPy0FWFOl1UjyCAyYtldUjE4aZK4ogt0h5PxUcWG2EvrPMNbRCDBhbZJKhiUp\n",
       "i/4u8ABTQcVdkHN8AMOkcX+3V+F1h1YjyS1mwBCeNa7KnSoJYIBhOT9VnL1pwTjgVYw2DFwfASYk\n",
       "ulNd/bG5+BLQwwAKmMwQ8/0nzEsSk56DkVC0rmXVaNK8uSa8LNnBD2B93Xz0ec5HFWPPWjkUL3E8\n",
       "mOn7EWBCoitVVweyaVJ4rp9f4oBZinGEjYJ7HbrFwduQQZbwpN/FJvRQa4VVo0l21cAVnzPo8noS\n",
       "2B+LN+SrHA4YnvNRxdiPngPtjusBMO+nRMAQM+1vjQCmjWgZagIwDeoatWSpV8SSHWDNP+zAO/Wn\n",
       "2Mj31peDPf9wAVJ3UZGLcedWWMKTXoczH27iExNNLqMWqitOEoxHd/Azf/Rx2V1feM6symW/T7y9\n",
       "QTPCjrIAmA347elGAJPF1dKlJgDToK7R64b5VC25UEjvlDiPw08De8vRq6UqKf/ebxdZdsdxqLoK\n",
       "NiYBHg6y5fMCYB7En6SvEcAk8QSxrJklqUFdo5bsEbVkmx9gUnPvXx/U1HBer7bs/gf8T5QWgh9g\n",
       "jqEqNQwX/tk9JjXSnIoAmDT6DIlqQzYMPgG/tRnANKhr1FJO2420es/9I89NETfc9fpwUFNry3q1\n",
       "yfWAexETRAzctD/fsKpMDb40FPwct9cEwOSw1d6Y0bsdvQ82A5gGdY1aih3SrJrPbT79RXPVW4NM\n",
       "jfY+cZd0+cSJVzQGmPjEiRcUmtolNaZr1FLigFb00OejOf1iV3MNnB3EjA+KgHkFAFvRyWMDJluE\n",
       "VqcpwDBdnkOaPIU+W44T1pSlb39RW3FOipZYgOIDpwqq2XFOiK23dIiAeQJSeIlqKdITL4EeXlfO\n",
       "XS8ABsk9AbDInWUXGeZbuWzs5rPzImCYLrCuEoRuN18n8opjH0+d4fbHhHXd3YZRFEVaqUFRVhqX\n",
       "lOpahIZNOjwNwoXIc/ZJNyfbhr+YM2dLlwiYVifBDSzbs1CSE/rLdq0b1guAQbPDt1GvuKtSm2F9\n",
       "cssW/HMe9P4L3imIgOG6EuJ2YprZDHaLM5cKLtRfVqFVn30lEQaY2WrjiZEgLULDJh2ChlWse1Cq\n",
       "mDuMoOScXoCx864dKnj7NqInz34jCwURMG9jmzfuPpNxw9TAy7Jo9YHuPOQkwHBdL14mDMVC47UN\n",
       "rxhfQt7FIf0N9KffhxZFOGA2qI2LSjUtQsNGHYIGvNfD3UNCAnYU7Sn3nfolKWTASEsSDL6BXqb/\n",
       "jqNi25tjKjTqwF78q7wEmHQOde+SMfxWhpcSfDys7Dy8BrxZFiKkyNEA0QWQf1aY69M1o6nAi1N4\n",
       "YljMSgfQhJDUZiRJhAOmQ21cVKppERo26RA1JKosKGMR3kAMwcq73DnskO7lGCWYKDVu9MKt2L9S\n",
       "wYcX+MTLeutauBp6yaNW7P6rBJjEu+jhOsMZx8q8lEesjGwn7Z+VFKOX6kJ242teeT5r3Kq7xW2i\n",
       "E+oD4xeSRBhgaDSY0LikVNPyQbAOUQOafUj3wPdwX1btte4ME9NPhcef4ADKwWzHCm17rGnAPB8I\n",
       "mJoEmKUoazk3oxQGTWr6IBwgZ6YIMNlYnwiYFDaB74Gt7FADpTJvb5Dbxlxk+OAzWcjNclTALCUP\n",
       "9ItwprcoFGOmHSEpfgw/53FxdbjG/IUqOmAyfUrjolJdyzXBOkQNqGXSPYBnnXZHsGF0xx1atXov\n",
       "d3NCUiOFJ4e+pY9hHHmRcSEEsqEvWZEA01bkjp915GHKZ7pga39/f9UuWoVBETDwEeCjh83JnaSP\n",
       "UCpOZiWBUBnpup/39/8w+ZOiChiqa93UvQ4/SctOve0ArB5XVveJuJh4k/D1Q6gycWyG2Jo4E5EA\n",
       "Y9d4K+zsDStV8e1poQ0TUZMOUUOyj3YP4Ku370nwOKJ2NQ5ke8bLPhMwKjJPDn3bHQwYITIuhEA2\n",
       "tPIUQL/egJdfcuIVL2YrxR/TGQZW5yXAYBqG66DFYamUfIZBudsrkCS4RUav5/y4SPRkDBQZ6CAP\n",
       "qYPQZak9QorjBGNo5GMlJr6H+JhUcSoiAybZx1tZ3OkqVfHtaaENE1GTDlEDWpJI98DeLd+V+zl5\n",
       "VO3qTWwiYjQSMCoyTw5923wo2AvjRsaFEcimHD7y79plFWA4j14GoGVxkTjocmWI1TTAdKKaCDBI\n",
       "EqdgHk7NcF9QWerRQeafe+RVSOR1wLxEbonRNvDaNQKlZJfcDC1eBjj3TYBzgYnfjj5SmYjPECsQ\n",
       "kdyGPxZko5e2Ap2uUopvXtHTAqxhIurp8CRFDbE8819mv3rj4/JoaL+Ag9rIeFunTMAuSubJoW9K\n",
       "IJxGXmRcGIFsaIKr6oCJ1ZLXwdoyevkNxG6BFP5ZnHufZldYJMA8MIaMHpLEqWwRpxaWklfjF1qG\n",
       "t9LL8Fewbup/BTTAZK8H6/UVrI3f1mDm4TK0luVmaPHvARZWYea6MQ5XaW2cchaGRBkxqOzVrog9\n",
       "lu6MGGB+ALzxTk8pwjd6OFhFTwvwhju9JNLhSYoa0BJGuges+3flZffx19S1YlC67uZzyc7Ak0Pf\n",
       "5JxuILuRceEEstGbpwpgkLxNviLLz+jvL6tHA0LO4ZLdMa8OT7UhWetb/fP0owFzG/TMQGuGulKq\n",
       "fuKezcJTH7HNRKvrX2NzojB5G1xHolkjiL5i6DmioZd3z32TLyvlJJPy7+pagbjp9yfwDygkNZJ5\n",
       "cuibnDMchfDIuHAC2WAvaIBZgabqF3DiBT/fjQiY5Jm3Msl0fZ9Yh6ZajC2YAMNrJpy83gwavipk\n",
       "HB9xl+GlOmJvOR5gsiUDCroNJ0GdVRNgyEdSiWh41Xu0x06+R+LvUOZ1/NjOWW5xC0RI6oYl4bET\n",
       "PTn0TQmE08iLjGs6kM1MV+qAWbsegKB0qBHAgCyppMbvagQwBHS85nP1DlODU0qQ8xPPeV+VbxJr\n",
       "9i3CDAP8OGjBFS4iCL5VmuLZIYIo+UjqNhRryJUDrENlAsFRA7sdtO+ikWU46RdWRsTIiR6ooW80\n",
       "5xPGBjwyDk8D4QSypT4FCPMS+HuVhmaY8Ih5V61wWreO5eES86jXXgPYzyLLcNIvrAzz3Iwc+kZz\n",
       "PmFsPDKOONGiQLZRRtkuHTBfgcwIuzOJk35hZUSMY1IKfWM5nzA2HhlHnGjhBLJRN3cEmGYoeZ7R\n",
       "f5o5oi9JI/hMko4gTvqFlRExcqKnhr6x3BY/wNDIONK/TQeymR29UTB+0/Qg9BnLL5azOJDtINw+\n",
       "xIaDJH0214RHTvTU0Dee8/mNGBYZR/yM4QSy7Yh+7qNpmhvYt95WC9k0n8DdfARJUgwrE8LRMI+e\n",
       "6Cmhb27OHMbGI+PIXaZwAtlo5GwEmGaoE8yOUeUny5Jo4GbfPMRHkCTFsDIhHI3wyImeHPrm5cxh\n",
       "bDwyjg54GIFs0U+WnQRatd3sf8gpzn8eyCZYCIFhZbKbRo5kCgpjQwMketBOaiBbay0CTHj0lJzd\n",
       "po1gYFhZsssfMIFhbMgyjfkBptlAtjXRz66GSAvlWYCF+wiRZYFhZTHJjyOHvgWGsSEb5FwBAyc1\n",
       "kO1SiAATHsXkjj/OQLagE8BwyT+QLfrp+HBJ+ecUxxXItmLhKfvY/oFsv4YTA8yWZv/B1iWnxz/Y\n",
       "SjcRO752/f/f90nSK2JWz/Q+/A+2xjYMmOgfbDXpohmldIfyD7b+B0tsw/pd4OpIAAAAAElFTkSu\n",
       "QmCC\n",
       "\" style=\"display:inline;vertical-align:middle;\" /></a><br>(see <a class=\"ProveItLink\" href=\"../../../__pv_it/theorems/be73085ef11826ed5cd246fd5188c046683cae310/dependencies.ipynb\">dependencies</a>)<br>"
      ],
      "text/plain": [
       "<IPython.core.display.HTML object>"
      ]
     },
     "metadata": {},
     "output_type": "display_data"
    }
   ],
   "source": [
    "%proving qmult_pulling_scalars_out_front"
   ]
  },
  {
   "cell_type": "code",
   "execution_count": null,
   "metadata": {},
   "outputs": [],
   "source": []
  }
 ],
 "metadata": {
  "kernelspec": {
   "display_name": "Python 3",
   "language": "python",
   "name": "python3"
  }
 },
 "nbformat": 4,
 "nbformat_minor": 0
}