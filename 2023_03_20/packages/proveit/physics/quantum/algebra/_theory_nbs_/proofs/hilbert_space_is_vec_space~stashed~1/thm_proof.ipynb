{
 "cells": [
  {
   "cell_type": "markdown",
   "metadata": {},
   "source": [
    "Proof of <a class=\"ProveItLink\" href=\"../../../../../../_theory_nbs_/theory.ipynb\">proveit</a>.<a class=\"ProveItLink\" href=\"../../../../../_theory_nbs_/theory.ipynb\">physics</a>.<a class=\"ProveItLink\" href=\"../../../../_theory_nbs_/theory.ipynb\">quantum</a>.<a class=\"ProveItLink\" href=\"../../theory.ipynb\">algebra</a>.<a class=\"ProveItLink\" href=\"../../theorems.ipynb#hilbert_space_is_vec_space\">hilbert_space_is_vec_space</a> theorem\n",
    "========"
   ]
  },
  {
   "cell_type": "code",
   "execution_count": 1,
   "metadata": {},
   "outputs": [],
   "source": [
    "import proveit\n",
    "theory = proveit.Theory() # the theorem's theory"
   ]
  },
  {
   "cell_type": "code",
   "execution_count": 2,
   "metadata": {},
   "outputs": [
    {
     "data": {
      "text/html": [
       "Under these <a href=\"presumptions.txt\">presumptions</a>, we begin our proof of<br><strong id=\"hilbert_space_is_vec_space\">hilbert_space_is_vec_space:</strong> <a class=\"ProveItLink\" href=\"../../../__pv_it/theorems/efbdcf5d6703b32449ce89f292088751b46c63910/expr.ipynb\"><img src=\"data:image/png;base64,iVBORw0KGgoAAAANSUhEUgAAAVQAAAAmBAMAAABpIX74AAAAMFBMVEX///+IiIgiIiIQEBB2dnbu\n",
       "7u5ERETMzMzc3NwyMjK6urpmZmaYmJiqqqpUVFQAAAB6qHgnAAAAAXRSTlMAQObYZgAAAAlwSFlz\n",
       "AAAOxAAADsQBlSsOGwAABhBJREFUWMPNWH1sE2UY//Xjetdru7amJiN8zWV+LmLjMC4IruogfMqp\n",
       "BKMj6RwykY9YGIa/pAeoSEhYCUIkfFgDkvgP6yIGcIN1SiBClSL6hwlkMwai8YMiU3CI83nfu11b\n",
       "lpbMXRMv7X2873vP/d7n/f2e57kDzN2OohSbsM18m67ekkDFSsV0k1+UBincprtAfKREULHcbIPO\n",
       "UKmgPmc2A3qUUkE1XQRVpUIK6brJVP2jZFDxsrnmyhpNNKbmn3xuLlRv0jxbljQwr2lH+Sp8wK9b\n",
       "0+B0PW+O+Sh3wKb3yaaUn19ODEwA1l1dZDQ0dBx1FbX1DaH9ISl0LYWFO8CawKfs+J45UM9wrR7a\n",
       "myEuxPK7utjzHshmynvhub9oKqX72/dR7F8K8Fm7YljD5GUSx35iu6VwVgzlQiuDnjAu7YnbZDZX\n",
       "EmKCLcLPwGlOiAycFArtaXOgPk5/Ty9sjUaEtTRVas5zULBxx/NyhaOYKRstjMI8uIDOmS3PNbhp\n",
       "+k6TpNCnHcIh3cGQtwzmBM8NenZ2pKOWkBcz9R2NkfRVcLIVEm8CD1dWTjQJ6t/aoY28d4Wfbcxm\n",
       "rxpgBUkukIBwsD7tGZhJbR9NPH2MYHQHppLO6udAap8FcYyfceUgsFnU07SdSV8g44eARSZllJva\n",
       "cTw5UUsuOXKdm8YnEGsxCuvT8qMYP/AXTagmLlTDU4sjkKZgb6RFtcTmA0R17AJWyTrf3VyiNPnN\n",
       "kAj1pq0ReLRZCE9VKTP6Ip9hfkZqykFCy+EPrCqWrDSoa+qamxcG+WksT1e9LOJ40zsYOOGrOnLT\n",
       "HiJ1nK7aVGcM59Rq4OZeBT4a/iBBkn06eYI6uxyKPQ53KJyGlea54tISOHphCdJySRmszEFSAVcE\n",
       "x4pAlfv54fw/Fy70cJqJRK7Ke3TCXSdVRZNwTtUZLdYBO4nYNPLFuSrjt0jg37X+Wc56JzGu6gQQ\n",
       "M2xPZPf4nIxGYRUtLCgyznOo5N48qNRky5NGIa+yxY/ytRNygqCnj27t6UylVjMauzVKE1RvIxp+\n",
       "7VGjPia9VOqk8ORAQoeq6LfLQR0qYt080wAdwBgMQhVeY1BbukcrsHf7Nu7uONA31XkRktTUPUuR\n",
       "ZlPmCIxTMduPsceT+VBZ9D+j6guR3WpIVVGKigJ7JgtU3ojmVc8kSnPMufz+t+C+phFA5nFVpilU\n",
       "6FzFHJ4NTrBkornBUVU/LYhWBjWqemLYjU55yptiENJD1bSIxP2ykE21J1whZ9p1KiT5BmWlRQAv\n",
       "XXdpLf7cfHU3RUhSRXwHPZxxrVXjasSbQNuGjTS/NMVl+SzwC41+if7tB2h3hJagcTC8rGex4IWB\n",
       "mpoMNM1pBAhzrwL9RJX9VN4RVIjjrvAmSXUkw6qkRCG/cuNbIxleMerrrXieEzQnt7TSY8RJsKvr\n",
       "k5hu3Q2BRL5VFapAUMe/8c5k6mmJY/o5BYtp9NOMcq8eFr4mb7tCg+GlLMIsXWcxwb29uXn5LVAn\n",
       "uyenThFO+gmMJ6wJgTt8bawyS6Xi+weMJPQY3zfTv271fRz8pQ+zCYoN29Q+HUKHXy2TD/5G13u6\n",
       "x8Uhfn923l1oaC+H1BFQ9/kDbCAXybyFvx9mlQprEPsN9VagLAEt6A71KsQKgrqAhGHlTdak485W\n",
       "hRNcVNxGSNrO98wpXdVa8JenVRarSnYW7LFGsufruCyNst2VgNOnJ4McqFGViLIMzzCXZlZ74xSF\n",
       "o4qlMaxY/Y6Q4HMkhbEJGDr/eLhJozBUd7a0QSdPWYZEbRHYfBfxdoSlgInKqL7XLycabmBtKkCj\n",
       "nvBt7lMxK+TaVx9C9MvRsHSe3IJ6Ek2939N+3KjXzwz3LXBC4a7F2STYqPtP39YSZyeoEKY1L7mN\n",
       "+ZbCXeFhVmgHrv5YsG9+trRR/+sbRrRwlyNh4ivqYAhEuVYDqcM3cbnwZwl3sHRvrDNM/mDXXzqo\n",
       "U/7fU0deBXLrtuL4SAzaIubay7E8RLFir2NE3xZj5trLbqOGajgyMou7TLZniLl2aD5ThBGZfFY1\n",
       "155hd2jElmenRjb7bebaG9yWlUCpG0qif4HVVv8CR7SsDVsCEI0AAAAASUVORK5CYII=\n",
       "\" style=\"display:inline;vertical-align:middle;\" /></a><br>(see <a class=\"ProveItLink\" href=\"../../../__pv_it/theorems/628ca123261402e1b4935cf97cbf7af7dc69380b0/dependencies.ipynb\">dependencies</a>)<br>"
      ],
      "text/plain": [
       "<IPython.core.display.HTML object>"
      ]
     },
     "metadata": {},
     "output_type": "display_data"
    }
   ],
   "source": [
    "%proving hilbert_space_is_vec_space"
   ]
  },
  {
   "cell_type": "code",
   "execution_count": null,
   "metadata": {},
   "outputs": [],
   "source": []
  }
 ],
 "metadata": {
  "kernelspec": {
   "display_name": "Python 3",
   "language": "python",
   "name": "python3"
  }
 },
 "nbformat": 4,
 "nbformat_minor": 0
}