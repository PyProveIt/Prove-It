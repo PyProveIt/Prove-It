{
 "cells": [
  {
   "cell_type": "markdown",
   "metadata": {},
   "source": [
    "Proof of <a class=\"ProveItLink\" href=\"../../../../../../_theory_nbs_/theory.ipynb\">proveit</a>.<a class=\"ProveItLink\" href=\"../../../../../_theory_nbs_/theory.ipynb\">physics</a>.<a class=\"ProveItLink\" href=\"../../../../_theory_nbs_/theory.ipynb\">quantum</a>.<a class=\"ProveItLink\" href=\"../../theory.ipynb\">algebra</a>.<a class=\"ProveItLink\" href=\"../../theorems.ipynb#complex_in_QmultCodomain\">complex_in_QmultCodomain</a> theorem\n",
    "========"
   ]
  },
  {
   "cell_type": "code",
   "execution_count": 1,
   "metadata": {},
   "outputs": [],
   "source": [
    "import proveit\n",
    "theory = proveit.Theory() # the theorem's theory"
   ]
  },
  {
   "cell_type": "code",
   "execution_count": 2,
   "metadata": {},
   "outputs": [
    {
     "data": {
      "text/html": [
       "Under these <a href=\"presumptions.txt\">presumptions</a>, we begin our proof of<br><strong id=\"complex_in_QmultCodomain\">complex_in_QmultCodomain:</strong> <a class=\"ProveItLink\" href=\"../../../__pv_it/theorems/6e590a44efcd78b5d40ddceba6ef660e2b482f910/expr.ipynb\"><img src=\"data:image/png;base64,iVBORw0KGgoAAAANSUhEUgAAAIYAAAAmBAMAAADzS/5MAAAAMFBMVEX///+IiIgiIiIQEBB2dnbu\n",
       "7u5ERETMzMzc3NwyMjK6urpmZmaYmJiqqqpUVFQAAAB6qHgnAAAAAXRSTlMAQObYZgAAAAlwSFlz\n",
       "AAAOxAAADsQBlSsOGwAAAsJJREFUSMdjYMAP9uKXZp3KQBBwPyCgoCiAoBknCSngIWQJA7spQVty\n",
       "CSngdCBoRjAhz9wPoDzEVAiHOscPAsHxlbAZDCn4pfkS8DthA4g8jN8M/gP4ZHlLNwgAqf4LDOAg\n",
       "uYNdVX0DLu2PfzowcGzJuwBkM21g2AUSm4Fd6XkcRnAllh/+ycCweiIo2rgnMNSBPIbD3y9xmCEG\n",
       "zCj6Aoyu7hOAHMYPDJxAs1guYFdrh6pTSWkCmMECsnK9AgMHOBx4vzPwAMONE4d9X5A5K0VhrPUg\n",
       "LzB/YGAABxf7XwYGIyUlExxm/AGTjjIFIP8icjlYOecHWPYHqtrOwJCKI/7/gsimC9wgt3PC44j3\n",
       "F9gMBRj/IwNDH9RfUMCY/bARlkz/QtI7MygZIPzLAk7dzBuQfMwWwLIAqkcubQFrXgMvLPVygSzk\n",
       "hqb3YiUgAMcfH9gd9QUwM34DnSYAs2I3UJglkIHhCLI7mKHxHoZw6T8Qmc2AZAbDhIMgB8oIMIJS\n",
       "dkwVMByQzYgXgHCYEGXo/x3sHjzw4ACFB4MvKMS12A3ANt24gRSmf6B5BuRXRgFEGfrfOmBlAErs\n",
       "NQODlDuBtWANSODoUaRCG2QDMFJYwF6fiyTBwLgBNfb4gEqYgVadTEtLu1C+HCmOrEGEyxlI4orL\n",
       "glnNvur0K6RC5hcslwNjvwQccYEga6BgGkpyWZIETev6/78gFde8sIKKcwGDAxvIHg7vBgZHmK7N\n",
       "ONLevf//jncugCUXWOhy7DkYwJEOYoVMy4bH/HlcRTLvo08vYGw2lEI5JC1tAYrS+AtElKf4CzsG\n",
       "tg1EmLG+AX9FaECEGZ4EavVfRJhhS5kd4NxDyK3MBcg1lgy22peZULjzTEDi1DFgK7olCbp0DhI7\n",
       "HWt6syBoRhBSxKkyYElyQYSTEFJJzLDkDJbUlENEzLUTiH1QwgYA6WKhz+vQ69EAAAAASUVORK5C\n",
       "YII=\n",
       "\" style=\"display:inline;vertical-align:middle;\" /></a><br>(see <a class=\"ProveItLink\" href=\"../../../__pv_it/theorems/e03b5bab6764c266047208e734426729d21ddd610/dependencies.ipynb\">dependencies</a>)<br>"
      ],
      "text/plain": [
       "<IPython.core.display.HTML object>"
      ]
     },
     "metadata": {},
     "output_type": "display_data"
    }
   ],
   "source": [
    "%proving complex_in_QmultCodomain"
   ]
  },
  {
   "cell_type": "code",
   "execution_count": null,
   "metadata": {},
   "outputs": [],
   "source": []
  }
 ],
 "metadata": {
  "kernelspec": {
   "display_name": "Python 3",
   "language": "python",
   "name": "python3"
  }
 },
 "nbformat": 4,
 "nbformat_minor": 0
}