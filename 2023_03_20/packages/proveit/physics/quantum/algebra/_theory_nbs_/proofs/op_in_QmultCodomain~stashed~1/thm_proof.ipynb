{
 "cells": [
  {
   "cell_type": "markdown",
   "metadata": {},
   "source": [
    "Proof of <a class=\"ProveItLink\" href=\"../../../../../../_theory_nbs_/theory.ipynb\">proveit</a>.<a class=\"ProveItLink\" href=\"../../../../../_theory_nbs_/theory.ipynb\">physics</a>.<a class=\"ProveItLink\" href=\"../../../../_theory_nbs_/theory.ipynb\">quantum</a>.<a class=\"ProveItLink\" href=\"../../theory.ipynb\">algebra</a>.<a class=\"ProveItLink\" href=\"../../theorems.ipynb#op_in_QmultCodomain\">op_in_QmultCodomain</a> theorem\n",
    "========"
   ]
  },
  {
   "cell_type": "code",
   "execution_count": 1,
   "metadata": {},
   "outputs": [],
   "source": [
    "import proveit\n",
    "theory = proveit.Theory() # the theorem's theory"
   ]
  },
  {
   "cell_type": "code",
   "execution_count": 2,
   "metadata": {},
   "outputs": [
    {
     "data": {
      "text/html": [
       "Under these <a href=\"presumptions.txt\">presumptions</a>, we begin our proof of<br><strong id=\"op_in_QmultCodomain\">op_in_QmultCodomain:</strong> <a class=\"ProveItLink\" href=\"../../../__pv_it/theorems/24b805d94b34744adfa66f9974798cff497466850/expr.ipynb\"><img src=\"data:image/png;base64,iVBORw0KGgoAAAANSUhEUgAAAXwAAAAmBAMAAAA1qz3cAAAAMFBMVEX///+IiIgiIiIQEBB2dnbu\n",
       "7u5ERETMzMzc3NwyMjK6urpmZmaYmJiqqqpUVFQAAAB6qHgnAAAAAXRSTlMAQObYZgAAAAlwSFlz\n",
       "AAAOxAAADsQBlSsOGwAABcFJREFUWMPNmXtsU1UYwL9Le3tvX9tdMCTGxZXqTFR0lUliMkY607Ip\n",
       "Ihcli4jZBkoxgWxFJMR/aHU4XUy2EjPjHyL3j6HxgTSyRdxAuphokEXKHz4WiFt8ov+skg26yajn\n",
       "ce/t447d223N2jTn3Hte3++c853vfF8LUIiPM5WKzbvzGf0mW0Wcnk1NQmHwx+bf126gL1dJ8zXF\n",
       "h3/OSKPvixWfM4RkiRcpvtVrpBW7pkjxR0VDzb4qUvy7jTXrDhclPmfQFlq8RYlf0qLXgo/i1OEp\n",
       "SvxS5brrvNXQ+6MCnsQMxSeCLi8+fgnJ8757Q2H54egso/425QW+r5UYzfsp/gDO3l18fLuErWA4\n",
       "354XVLdDU2XbfuDrKYBPDhPb9CXFP4h3omXx8Tm8rR159/xbcR3GNTNfgcx9lcD46yP4rYLiW9Fc\n",
       "zPEC6H4Pyjfm3XOdnDdsCtIHZof7XvJgxmt8wgU8PVejQYLvQOppLcTRHUZ5JO+eE7J5ESroktoO\n",
       "K9fYCfxgSgDQbQnFqeVZ7XY/XAh8k9t9lzfvnjdk3YFReuo71UuYQFoTymtzjOJ/AbCzEPj2IFiI\n",
       "bDan8mdNcyZt1GdofhxCdOqqUXFOE3yXamEFit9FtOmtt4PgJD1+vBYuWUcVb8tqv/lovcPFtkGH\n",
       "Ky0N3RtMWb1XBx+N2kVeng6q5SMPoQtH0gqLqpfujCKim6q4qn7mJE5NastSL8W3iGYJHN7mOCyT\n",
       "SEUN2JF6cXcGJGgFWA6cAN3AZeC78JbNGVWQa2snPE5eNsXl0cD+gxugaRZhvapxnKbbsXtwnFhD\n",
       "Dqm2+x5yHZOakLoUpVGK7xTQyd0LzWHYRysqRD9KB3FDgo8VLROfQfc1+uriX6RLZ9snyKOBD34C\n",
       "dNFohVnF7NXfjPCIQFY16cxNnO6GXHyIDJF5IRm0wtSHBmPIySH4jQmMv7asH8xDQueRwc8m/PC+\n",
       "COGOVbf1w6HzEjB1V3AVc/mJLHyrQyByrWPyaPykvHe5wtKWW8ZHaMs8yk7LHn7qFNfgSC+iovuw\n",
       "EVto+AbgPnme11HSSB53+HzPA0/wkzACR+C0rfYQhwZ+7eoALrodfodHYAP04apeeDUL3zxC1lSw\n",
       "R+TRiOXmI1ph4FRUmieWxxZTbUyZyvtSqkb8SMx2jjB+O5a1NVVdLRslcw1KPgV19VmC74HSDxPw\n",
       "AXJoMT7sHRdwkfQm7GGT8DqHqkJnxCx8nlxBtiBSNjqaCUu0tWiFkUK6xv/itB17xEkafKVvVBaY\n",
       "aIbDL9t9KCF6mQSHfMr9FQjjXCAQiGfjm4bXDn+HcowvApfARTGmbqUNkThQla1tOtvj/ItYcN+T\n",
       "k/JoIVGpyhEGnKrieDaNqR5wtk0R08T+eUzRq4/P/5Pp20mZDrPNBSV0bmYRW6eXZ199fIQ5z3P4\n",
       "3LrI6q+C7c8glUarD/vTPxJkOMwC8Nfl0bC6BzFprrC08sA7Gkdtvew0VKUmMgN5ElSqb/YoWAVg\n",
       "0Yz7gZkE+cbJwE8ihd0DmxEzmzgA08isIz1awU7CSuEFZClQ1SWwaPGxGs/Q0fhrp4MWCR/GXGHA\n",
       "CEr7k7cOU35J3fy2U1JeH80KV0xBMAl/cLXs55XQNBUDfhe+tqr9zNH6pv/Ys1G+fMgL5jqhayIM\n",
       "G7ww4PMBd+NiFO4YfkVAxbjqUnmDFv/kGGybksho246vr0L5i1phYFHdywtzROrOX69eUV9as/CR\n",
       "0Sh5MAxOtXpLICDphKUe49FWxmi9swhrVJ+a4/k4R7nB4rF8ourEvIJFe1gr7FQ6BI8aE25Lzoaf\n",
       "T3DXNTG/WNevEeZI77PDY0y4ObJUoTo7Vwk7bUyCKV6cP1M9ZqzZcp1f2bhy75Lgm4KGOGp18A9C\n",
       "y5LgOyJGOJiIDv6uJVIeeM8IR3tYB78SxKXBfyqsz8E+ADr4vcOxBeAv4L8tvkefw0LKCvbf1oI+\n",
       "b+g3eVZ5+B9Qr7fc+xFMCgAAAABJRU5ErkJggg==\n",
       "\" style=\"display:inline;vertical-align:middle;\" /></a><br>(see <a class=\"ProveItLink\" href=\"../../../__pv_it/theorems/b5aa78909fea5a6ac98beb9bb713ad7b5ffffd680/dependencies.ipynb\">dependencies</a>)<br>"
      ],
      "text/plain": [
       "<IPython.core.display.HTML object>"
      ]
     },
     "metadata": {},
     "output_type": "display_data"
    }
   ],
   "source": [
    "%proving op_in_QmultCodomain"
   ]
  },
  {
   "cell_type": "code",
   "execution_count": null,
   "metadata": {},
   "outputs": [],
   "source": []
  }
 ],
 "metadata": {
  "kernelspec": {
   "display_name": "Python 3",
   "language": "python",
   "name": "python3"
  }
 },
 "nbformat": 4,
 "nbformat_minor": 0
}