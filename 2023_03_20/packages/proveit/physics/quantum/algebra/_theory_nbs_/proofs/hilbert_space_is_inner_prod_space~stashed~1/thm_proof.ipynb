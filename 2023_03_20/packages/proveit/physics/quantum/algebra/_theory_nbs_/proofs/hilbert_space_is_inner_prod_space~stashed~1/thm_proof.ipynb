{
 "cells": [
  {
   "cell_type": "markdown",
   "metadata": {},
   "source": [
    "Proof of <a class=\"ProveItLink\" href=\"../../../../../../_theory_nbs_/theory.ipynb\">proveit</a>.<a class=\"ProveItLink\" href=\"../../../../../_theory_nbs_/theory.ipynb\">physics</a>.<a class=\"ProveItLink\" href=\"../../../../_theory_nbs_/theory.ipynb\">quantum</a>.<a class=\"ProveItLink\" href=\"../../theory.ipynb\">algebra</a>.<a class=\"ProveItLink\" href=\"../../theorems.ipynb#hilbert_space_is_inner_prod_space\">hilbert_space_is_inner_prod_space</a> theorem\n",
    "========"
   ]
  },
  {
   "cell_type": "code",
   "execution_count": 1,
   "metadata": {},
   "outputs": [],
   "source": [
    "import proveit\n",
    "theory = proveit.Theory() # the theorem's theory"
   ]
  },
  {
   "cell_type": "code",
   "execution_count": 2,
   "metadata": {},
   "outputs": [
    {
     "data": {
      "text/html": [
       "Under these <a href=\"presumptions.txt\">presumptions</a>, we begin our proof of<br><strong id=\"hilbert_space_is_inner_prod_space\">hilbert_space_is_inner_prod_space:</strong> <a class=\"ProveItLink\" href=\"../../../__pv_it/theorems/ba0ef55aea41c5b70da0d91421e5b57d261e28220/expr.ipynb\"><img src=\"data:image/png;base64,iVBORw0KGgoAAAANSUhEUgAAAZAAAAAmBAMAAAAYddAjAAAAMFBMVEX///+IiIgiIiIQEBB2dnbu\n",
       "7u5ERETMzMzc3NwyMjK6urpmZmaYmJiqqqpUVFQAAAB6qHgnAAAAAXRSTlMAQObYZgAAAAlwSFlz\n",
       "AAAOxAAADsQBlSsOGwAABqFJREFUWMPNWXtsU1UY/7Xd7b19jVZnAuHhnNMIRJiCijxmo5NAGHAd\n",
       "hARH0jpkvCR0DP8xgV4kioSEFTfJUKI1TBNjwu4ihsdQOyESdWblYYJR3AiBRGRu4NzIBszvnHu3\n",
       "rp0dyK6tzXru6Tn3fPf8vsfv++4ZYOznC6T+I7xjvExHSxqAYINsuMhv04EDTsPVJz6RFiBYZ7RA\n",
       "mzc9QBYZ7VvNcnqAGB6auenBAem6wSHyV5qA4GVjxWX6U7ZzJb5zzFjpIyKpwmGKAotL9ozciA/5\n",
       "74ooeJj8Yoz4IFOPdPgWtdvjw35/Zb76Tyt2Tr71R2k8fNODYQj19VF1qCedofsuRISv1sLEV5tV\n",
       "HGHXamOANLGm/rVnqP0tEWMSrwu2QHo6fqgijKIAToWGKkposq6GMuFagNcnjhA2MyUa5Nts91YV\n",
       "b9PlRsJURRKCZONN8dlnRBjzaI9DAXFEIKorqPM78D03Yzts5AMZUWOA5NP3V+BJwKXzl6kkZ/xt\n",
       "gQSzE4FU0WUo5VqIWGR2wzLqMyd2dcFJPmYzKAQ7NLvTJVPTp32XfAcWqQ0lAllOwTYUcfxElpf0\n",
       "ILKxG8WbwOM5OVMNAqL5k72bNuPm3VjIV7SIlYc856G1kOrm4ZPHzlRzIAujvFvsYfFa4AmG0dwR\n",
       "JjmVhfVXgIas54Higvl8jTjGw1AfIJoQdYfMYCoS6NEHgRUG5deb0P0VzRq9Vw/UvLmV0ZrWlium\n",
       "EGacvcHGX5gJ1hUfgdWNRVEsDMPU2/suOc10FKmuaTgMaRb2BdiaJQDzw73ARrtuMi2YrhI0SIRp\n",
       "R2UALg2j8FyuPLcj8DWWtEslAwKMvp6sjUMldg5EvNBZWjpFGwkNBGLNY4lGaycCN5EDGRW5BWNp\n",
       "mrpmL8QurOashWUXeiOwtcDVTUBqFVsIpxW2Zp8MZutHacN2zehw5elebZUzwnB6fVGYSULZpTWw\n",
       "tsCUhzJI7dgQ26aZsATw5RBAmE+R4KbWc+d6NGTktjkP9wPxM4/jrUieUIX32bgW09QNEuN0CKRZ\n",
       "X5iNlBMPqRBI0IsLFR+pmK8xd45kk9NZjOiuJbazlu5zuSnWy+Aje9NWDzIG5UDINHFA7tXI4rYW\n",
       "YW4latEi+OMsEgPi6mlsPIH3YkCo20z77xQ1IBGuFQKCThS3NitB0j5fIzzbq+pAZF24PU8HglAD\n",
       "z0yUyoAx6AMirGdAyhtGyyj0SHt+PtJWINsuQpJKGubJUiHFZdY4haYw9ngkHghlE6dejWYnAaLd\n",
       "WRUDUqVZpEe3CBvs0izimk4x5VN16W/A2aW5lp3nETsBzNZjBPN5bvwGmKCr0JpbMDsPFQxIUHGF\n",
       "bFFHZN9ZL9lLmjwxTEOmUKbXomSoDi9NfeeV3H3BrtmBZDratRFPEiAs49gTgFhUZoXdPEYmgPk1\n",
       "i5GuESpqt22nYIuyNScBIjK8RN+6/dQcJqX5+whzK+Ovpb1TprRDYwLNtXzcIkB3EHZ/UGZdiOOu\n",
       "8iFJsUZ8iiTT1MqeH/sLh6s8RigX2vKEAOf46IASxcYhaG15GHNYxCOo8QF1xafYC+bWMNoiGB/F\n",
       "Ugr2aSjyEpD7N701ExkKW3Naxiq6fQEjx9WHhFNkKYe3jzAz+TOvMx5z7i4tXZcAZOaxxsYwXelP\n",
       "YB7IhpB1j7uWVc809XFvuG+3M7gaSEOWrg2cf4VLH+lF4+T8g235m9bni7yFVJ+l7P+zFTs/uMX2\n",
       "wbrYUXCZVhzwBCeh5dMF1Ldd8VyGeP7k4gdQXDeSr6nxZLGn8dBdvPzaIUZCbEDs7mecbGSq0JLM\n",
       "IIvwleVCJJNxFxsyR6z3Vcg8sEQ5VhXt5qsJguPa57rY2XqJclcnAEkLYHMg1n+9zw30LKHC5tZT\n",
       "4wAgQcXpt0YEN+3eJwaoeNiJoGzy+2Szx+oV3DQ1Vo1VRZ8ZfJSRFIhzwMxRnt77acUSgMV9EW8G\n",
       "WEKcKo/qeLVNLe7BlsYsVjVIbXOQcQCOmgIvgj+MhunoiV00zKZcdcf739aajD17MCc/UlgVKyf8\n",
       "uu71zxaKlUkKhNmla24jvjz5lC9qJA57W76SbG5Jf8+q3O27aTD5lFVN2bFJH+WDZ3qqYv69iLbk\n",
       "h3DOvHSdosw1+Fi8O11AZv2/FXPnhyqDXaHs+HAEWgKJdeSYlJwGWwaxjNhiHY7AQScGm5GSM7tR\n",
       "g3knMDyJexN+r0wNh00bnINkYVgiixJo8CGk4ny+aHD+shc2Dk83Cf/Oq2lMxSnqK/+BzG1p4CyB\n",
       "1b9/A7chEPWD2vNWAAAAAElFTkSuQmCC\n",
       "\" style=\"display:inline;vertical-align:middle;\" /></a><br>(see <a class=\"ProveItLink\" href=\"../../../__pv_it/theorems/7982e8274ad99244ec20b07b0719071523035c3b0/dependencies.ipynb\">dependencies</a>)<br>"
      ],
      "text/plain": [
       "<IPython.core.display.HTML object>"
      ]
     },
     "metadata": {},
     "output_type": "display_data"
    }
   ],
   "source": [
    "%proving hilbert_space_is_inner_prod_space"
   ]
  },
  {
   "cell_type": "code",
   "execution_count": null,
   "metadata": {},
   "outputs": [],
   "source": []
  }
 ],
 "metadata": {
  "kernelspec": {
   "display_name": "Python 3",
   "language": "python",
   "name": "python3"
  }
 },
 "nbformat": 4,
 "nbformat_minor": 0
}