{
 "cells": [
  {
   "cell_type": "markdown",
   "metadata": {},
   "source": [
    "Proof of <a class=\"ProveItLink\" href=\"../../../../../../_theory_nbs_/theory.ipynb\">proveit</a>.<a class=\"ProveItLink\" href=\"../../../../../_theory_nbs_/theory.ipynb\">physics</a>.<a class=\"ProveItLink\" href=\"../../../../_theory_nbs_/theory.ipynb\">quantum</a>.<a class=\"ProveItLink\" href=\"../../theory.ipynb\">algebra</a>.<a class=\"ProveItLink\" href=\"../../theorems.ipynb#ket_one_norm\">ket_one_norm</a> theorem\n",
    "========"
   ]
  },
  {
   "cell_type": "code",
   "execution_count": 1,
   "metadata": {},
   "outputs": [],
   "source": [
    "import proveit\n",
    "theory = proveit.Theory() # the theorem's theory"
   ]
  },
  {
   "cell_type": "code",
   "execution_count": 2,
   "metadata": {},
   "outputs": [
    {
     "data": {
      "text/html": [
       "Under these <a href=\"presumptions.txt\">presumptions</a>, we begin our proof of<br><strong id=\"ket_one_norm\">ket_one_norm:</strong> <a class=\"ProveItLink\" href=\"../../../__pv_it/theorems/654b57cda018a745a2a46fb19ea8e1e8f3d463ec0/expr.ipynb\"><img src=\"data:image/png;base64,iVBORw0KGgoAAAANSUhEUgAAAFAAAAAVBAMAAAAjqnRBAAAAMFBMVEX///+qqqpERESYmJgQEBAy\n",
       "MjJUVFTu7u4iIiKIiIhmZmbMzMx2dna6urrc3NwAAADy/PdUAAAAAXRSTlMAQObYZgAAAAlwSFlz\n",
       "AAAOxAAADsQBlSsOGwAAALRJREFUKM9j4GPgYwAhMNgAIh4AIRZwh2EXAwPPBQhHG4h5D3AvwKuQ\n",
       "u52BQQqHQpAcTGHZ0u8MDBzYFYLl4CZyAjk8AthN5ERXyKdApEKGOGIVyhCrkAOhcEUHCLThUMh1\n",
       "gUgTuROIVMh4gEiFrA+IdOMjInzN8w8ochC7QpAcTCFbytdkBoYGrArBcijJjHEBEckMBJgeEKmw\n",
       "lIFIhZPxKNzJ8Abo/Q0QTgIocibwHcCiDgBMB4BeCZRJfwAAAABJRU5ErkJggg==\n",
       "\" style=\"display:inline;vertical-align:middle;\" /></a><br>(see <a class=\"ProveItLink\" href=\"../../../__pv_it/theorems/ae6b43e62d04c99f67af8aac378dd20278e0c8540/dependencies.ipynb\">dependencies</a>)<br>"
      ],
      "text/plain": [
       "<IPython.core.display.HTML object>"
      ]
     },
     "metadata": {},
     "output_type": "display_data"
    }
   ],
   "source": [
    "%proving ket_one_norm"
   ]
  },
  {
   "cell_type": "code",
   "execution_count": null,
   "metadata": {},
   "outputs": [],
   "source": []
  }
 ],
 "metadata": {
  "kernelspec": {
   "display_name": "Python 3",
   "language": "python",
   "name": "python3"
  }
 },
 "nbformat": 4,
 "nbformat_minor": 0
}