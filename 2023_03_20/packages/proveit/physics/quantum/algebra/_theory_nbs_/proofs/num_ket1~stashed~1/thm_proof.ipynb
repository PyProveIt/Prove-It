{
 "cells": [
  {
   "cell_type": "markdown",
   "metadata": {},
   "source": [
    "Proof of <a class=\"ProveItLink\" href=\"../../../../../../_theory_nbs_/theory.ipynb\">proveit</a>.<a class=\"ProveItLink\" href=\"../../../../../_theory_nbs_/theory.ipynb\">physics</a>.<a class=\"ProveItLink\" href=\"../../../../_theory_nbs_/theory.ipynb\">quantum</a>.<a class=\"ProveItLink\" href=\"../../theory.ipynb\">algebra</a>.<a class=\"ProveItLink\" href=\"../../theorems.ipynb#num_ket1\">num_ket1</a> theorem\n",
    "========"
   ]
  },
  {
   "cell_type": "code",
   "execution_count": 1,
   "metadata": {},
   "outputs": [],
   "source": [
    "import proveit\n",
    "theory = proveit.Theory() # the theorem's theory"
   ]
  },
  {
   "cell_type": "code",
   "execution_count": 2,
   "metadata": {},
   "outputs": [
    {
     "data": {
      "text/html": [
       "Under these <a href=\"presumptions.txt\">presumptions</a>, we begin our proof of<br><strong id=\"num_ket1\">num_ket1:</strong> <a class=\"ProveItLink\" href=\"../../../__pv_it/theorems/220c146cbbfcc03835f5a04157527c1a32f773630/expr.ipynb\"><img src=\"data:image/png;base64,iVBORw0KGgoAAAANSUhEUgAAAFEAAAAVBAMAAADMaB9/AAAAMFBMVEX///+qqqpERESYmJgQEBAy\n",
       "MjJmZmZUVFTu7u4iIiLMzMyIiIi6urp2dnbc3NwAAABKL6MlAAAAAXRSTlMAQObYZgAAAAlwSFlz\n",
       "AAAOxAAADsQBlSsOGwAAAPxJREFUKM9jeMAABlwMWAEflF4AxHcgTKYFWFXyHoDQWlCVKxsYGBNw\n",
       "quSawcAgBlbJURbfwMAwAZfK9tQfDAycUDP3A1VexGkmN1AlrwBC5SO8KvkUECpZH+BTyRCHUMl4\n",
       "Aa9KWYRKJC9lzgSB6SgqOZFU5jAwNAfgNJPtAELlcgau3RNwquQqQKgEuoQRt0qgN+Aq4+AqsbkT\n",
       "GDQwlaAQw2PmI4iP7j+AxAJ2lbz/GMBRCFRZ7h9uAI5ZrCrZS74Wg8MQmurAqQW7mSAASmowlXp4\n",
       "VTI9gKvkAAY639W/G3CobEWkeW4DvGl+MxDvgjDZsecjbmimKWBgAACPgmZUUwUAjQAAAABJRU5E\n",
       "rkJggg==\n",
       "\" style=\"display:inline;vertical-align:middle;\" /></a><br>(see <a class=\"ProveItLink\" href=\"../../../__pv_it/theorems/50b2723cf96aadeda90ab083eb6fa29ef89f95fb0/dependencies.ipynb\">dependencies</a>)<br>"
      ],
      "text/plain": [
       "<IPython.core.display.HTML object>"
      ]
     },
     "metadata": {},
     "output_type": "display_data"
    }
   ],
   "source": [
    "%proving num_ket1"
   ]
  },
  {
   "cell_type": "code",
   "execution_count": null,
   "metadata": {},
   "outputs": [],
   "source": []
  }
 ],
 "metadata": {
  "kernelspec": {
   "display_name": "Python 3",
   "language": "python",
   "name": "python3"
  }
 },
 "nbformat": 4,
 "nbformat_minor": 0
}