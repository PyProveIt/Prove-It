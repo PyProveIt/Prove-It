{
 "cells": [
  {
   "cell_type": "markdown",
   "metadata": {},
   "source": [
    "Proof of <a class=\"ProveItLink\" href=\"../../../../../../_theory_nbs_/theory.ipynb\">proveit</a>.<a class=\"ProveItLink\" href=\"../../../../../_theory_nbs_/theory.ipynb\">physics</a>.<a class=\"ProveItLink\" href=\"../../../../_theory_nbs_/theory.ipynb\">quantum</a>.<a class=\"ProveItLink\" href=\"../../theory.ipynb\">algebra</a>.<a class=\"ProveItLink\" href=\"../../theorems.ipynb#scalar_mult_factorization\">scalar_mult_factorization</a> theorem\n",
    "========"
   ]
  },
  {
   "cell_type": "code",
   "execution_count": 1,
   "metadata": {},
   "outputs": [],
   "source": [
    "import proveit\n",
    "theory = proveit.Theory() # the theorem's theory"
   ]
  },
  {
   "cell_type": "code",
   "execution_count": 2,
   "metadata": {},
   "outputs": [
    {
     "data": {
      "text/html": [
       "Under these <a href=\"presumptions.txt\">presumptions</a>, we begin our proof of<br><strong id=\"scalar_mult_factorization\">scalar_mult_factorization:</strong> <a class=\"ProveItLink\" href=\"../../../__pv_it/theorems/70fcc17ffea01da324973fafc7ebf4be81fcf95b0/expr.ipynb\"><img src=\"data:image/png;base64,iVBORw0KGgoAAAANSUhEUgAAApsAAAAzBAMAAAAqbN79AAAAMFBMVEX///+IiIgiIiIQEBB2dnbu\n",
       "7u5ERETMzMzc3NwyMjK6urpmZmaYmJiqqqpUVFQAAAB6qHgnAAAAAXRSTlMAQObYZgAAAAlwSFlz\n",
       "AAAOxAAADsQBlSsOGwAACTBJREFUeNrtXAuIG9Ua/rPJJNnMTDal0uultV1XvBetyCpWqviI0Pqq\n",
       "7Z0WUyh43a1ilKI215WKgu74oHgR2wUfiAoubFHhKl2lVWm1RLmt1FYaWxDqvUp84L210G6lW3Wr\n",
       "zT2Pmcl5ZSaT3EYdPZBk/v+f/8yZL+ec/5x/vgQgsGiFgtWO/TdQCoVC0zh01Wrj7dg7W27t5MW0\n",
       "W+jn6toxgGStNtgMnKPt2TtasuWOXu4utz/uwG9G5OD8ihfT7dfoW4XZG2k4jRFePq39KjM5P+uS\n",
       "SMP5sM13nnz9eEft0KGnS2pJLox9lu/Nl6MM5+m8uIIVLkQz63cNJLnU7d1+8dqcF2E4jX5efpud\n",
       "A4+ggXtcLSlmzLrd8F23PBdhOON5XmbRNVBfM46oJcUXw9jn+V1yox1dOOfw49JkA1N2Ao3b+WpJ\n",
       "seBi7M/7XbK7Gl04z+VFHXfW9FenktgcHwTtCy/48JKinzP2Jb5LpcnIwpkSYks3DrtjdpLc8fDK\n",
       "aQfqa3xekotrT6HXTvLV9JFSlTZGRyILZ1aIRF0VdLuXgE7W2nNsMC8BuIFOAFTSFhxqELads6EL\n",
       "9dB9vhe9KbJwxoW+E0ct0yegiwSom9HrL6XUNLqPoZLuQC0Xand6qu9F99hRhXO4LMOJJsEB0sAT\n",
       "+NZz7raQSj2j6QZrT+dsUsZ8LzpQjiqcc2x5sA/kYA+ZV39Eb4dHHTgdybAawOmevfQd9LnXb+50\n",
       "hkQU4bxZkJOoew1U4ICJYI59j0D6wU1auBIk1IPdtY/vd6FqWJK9UYXzQkFOVDGk5lwdR3kUpsae\n",
       "cuF0JSfDpv3gvg3QSOXYNWsREjb5XjQxwcJJuuq/A+DKkhVWuTV7x4ombhpTCDrt86vW/QEF/dUn\n",
       "Dh24Axw4PSnt5H/num9dZEfp2ckS/mz/je0UC+cW/PlMAJw67oDddmv2zi07pU3jnxXLbm50PwaP\n",
       "+teJBn26t4mrunA+gL+jwQA4U7gPr23R3rFi/iRqdgXAmb71ns3+WKFBr5ebGBMunDj9lKgEzY14\n",
       "mlncor1z+SQpSielAZO+5iiTDo7XahO+Vcaqwd3kBAungbDvDgw1u9HnSIv2jhUcjoWeM9hmlXib\n",
       "elvAOce4yH5+X98FgXDG+/rOyLdo71hJTEqqB9ur8dkh9CUFhYSLODjfBLhFbpkAl16CpOUDp5/d\n",
       "p+jOfBYiiMV8apv8f39Br21u4qQ+Ds51kK46qRPpPj240CnruBNmbDs1J9vXHF/whpv1Sq3etEjx\n",
       "0JtTJ+nHB7wneyy7MbnxP37LJcqzEz/LoDiDgzNpJUad1AkqD20aNS6T4UQd+FpX/tvXq2D5f+Hj\n",
       "vGw3eiHmZXXeA5iuuDqrpnBqVd6Tq0Vy24DBnV1EF91QMtDKO2b9ouA0c24kwo00qwthswLOj7xI\n",
       "o6PZARbmwMjL9uw4GN49HQS6WxYKq6Zw4lUr68nVIrnhpchW/N3jx5R7SuYVa07eYG+q8IMdRt51\n",
       "9LiR5rs65BNbX9+6hYez20BjW7vuFJs8J9XeRzpbskO8Asu8VdqloJ2juDqrpnB2CZ5cLZIbWtXF\n",
       "iPVe9Oopw5g38yekyC5zDtrhMaTV/nwogsV40bj0HdpI8/6Xc3lF70zsR51imT1sk7WH+bitssP6\n",
       "Wbv+4138yO5tiqcHnJrC+XfBkz2W3cxxWE4OVhLkzde83hmTs0OnBSpCFExgUJAYLuPhfBhHovH9\n",
       "tJFmaeEnKjjT2GkrDEEGg27cYKnsaILTDkJ9BrxR8UiVU1M4XxQ82WPZLTMIr5ADvAfqsZi5U17G\n",
       "m3mVIhSBwcDbdyd2zgIVieE4D2cW1YVTJ69QOPXYoAJOwP3lYpgNxtPF4h2p+0oqO57g1o/CWsuZ\n",
       "AdNT8OpMId9E1aBbdTg/EzzJceajLWq31CDsLBaLFTjquNaxmhLvdIVaEYrAEEdwHC5507ZEYtCO\n",
       "qhJ0z9NGmiUtPyKvO6nj93B7IUW+cBSKwJITdJcCbCyl9lrODJj5Dvo1IahQNdc71wie5DgOA2o3\n",
       "NNjvJgeHt/+VbG75nC9X3lYqwhEY1qNb3UgHBiYwSCQGPgVST53cTXsnvJprlM+cn5raTtf8j7wF\n",
       "iZxkT0+CNhcpLLgeNcOCZeNgp/qRoOXdN0dt7OJDUd3TPU6jicXzY91iOWfHoP/p6sdsedixpV+p\n",
       "CEdg2FOqP+aYBzKJgSZeBDjRXZNGGqNk26+G8x8fnlKGtbjja9cU35TtO48ueKNCQBmqGC8sWIQz\n",
       "hslRJKTmw5CN31z1oysYOJM24+nVAqtQqxw/YNzQ2Wkyl2n3/CsH3NA7S7zTEaUiHIHhMHo9YbtD\n",
       "WCYx0EyBACfCkDTyrmcAqr7Zdu3K4ir/bDwGxctRYdTrCSvv6J8MnJk86+mtIlXhAbnhiHl9ES3j\n",
       "11x+nm1wseZLcdeJrS5twVPg2TAEgQFNrTe6edMlIJMYshMKOHHqhDRSvScPSpGIcGZcXBJWri4w\n",
       "R9+wm8y3VHAuVO3Ov2FOhvSMy2/nx6Ul54M82oKnCEdgSB2bNpt0SIz4TuclhioRTpw6aRquAHtq\n",
       "+mIwXOGFWm9dYI56WTgTVt3Tu/Pat4pr9eLZqGEZFvK2HG3BVYQkMOCxvK/sZPb3gUxiWJ+T4fRL\n",
       "nZyER2+xT8e5PYrVvJvmY/ejLZBnanHS1FAEhiSKXgl3KTIMMonhF0BbMA+2tC0JctP7ZTjjDm2B\n",
       "PFOjcIYiMPRUmcA/BjKJ4Qv42eFst6RmKXPVmSl5sLu0hfpgD0dgwMyS7BRoM7HrXufFlghQvh4A\n",
       "dcPnCgOVoS14ipAEBswsGR4BnayxdoBEYjAiQEhs9FssIbSztAVP0QSBAc+z5AAvOVGnv8iCQgJP\n",
       "FptAIjF0VX/9cJ7ZIHgJZG6GtlBXNEFgIPMs7elf4wRJxV1jnQ0SiSEKZO4Nu9UrRUNIIEu0BVYR\n",
       "jsDQY1MCg0hiuBN+/XA2LE/yokRb2NUIzkACA16YYwKDQGLITEYZziE+JyLRFhhFSALDbKAEhrXy\n",
       "4iG6cMb4G5JoC63zGPBG8zaQSAzR/hGh+BNXibbQIo+h+6V+SmAQSAyZkfBwbvf/2XuQvaOlu3JS\n",
       "qtVnqm/xXqouFGbgvwdY2hScv/89QKOiOU8DvL8H+B989FN83BgJjgAAAABJRU5ErkJggg==\n",
       "\" style=\"display:inline;vertical-align:middle;\" /></a><br>(see <a class=\"ProveItLink\" href=\"../../../__pv_it/theorems/55e4615a4aabd493c58c79645ac23a72a53d973c0/dependencies.ipynb\">dependencies</a>)<br>"
      ],
      "text/plain": [
       "<IPython.core.display.HTML object>"
      ]
     },
     "metadata": {},
     "output_type": "display_data"
    }
   ],
   "source": [
    "%proving scalar_mult_factorization"
   ]
  },
  {
   "cell_type": "code",
   "execution_count": null,
   "metadata": {},
   "outputs": [],
   "source": []
  }
 ],
 "metadata": {
  "kernelspec": {
   "display_name": "Python 3",
   "language": "python",
   "name": "python3"
  }
 },
 "nbformat": 4,
 "nbformat_minor": 0
}