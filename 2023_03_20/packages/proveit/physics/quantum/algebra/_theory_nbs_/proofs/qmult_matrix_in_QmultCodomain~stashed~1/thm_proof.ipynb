{
 "cells": [
  {
   "cell_type": "markdown",
   "metadata": {},
   "source": [
    "Proof of <a class=\"ProveItLink\" href=\"../../../../../../_theory_nbs_/theory.ipynb\">proveit</a>.<a class=\"ProveItLink\" href=\"../../../../../_theory_nbs_/theory.ipynb\">physics</a>.<a class=\"ProveItLink\" href=\"../../../../_theory_nbs_/theory.ipynb\">quantum</a>.<a class=\"ProveItLink\" href=\"../../theory.ipynb\">algebra</a>.<a class=\"ProveItLink\" href=\"../../theorems.ipynb#qmult_matrix_in_QmultCodomain\">qmult_matrix_in_QmultCodomain</a> theorem\n",
    "========"
   ]
  },
  {
   "cell_type": "code",
   "execution_count": 1,
   "metadata": {},
   "outputs": [],
   "source": [
    "import proveit\n",
    "theory = proveit.Theory() # the theorem's theory"
   ]
  },
  {
   "cell_type": "code",
   "execution_count": 2,
   "metadata": {},
   "outputs": [
    {
     "data": {
      "text/html": [
       "Under these <a href=\"presumptions.txt\">presumptions</a>, we begin our proof of<br><strong id=\"qmult_matrix_in_QmultCodomain\">qmult_matrix_in_QmultCodomain:</strong> <a class=\"ProveItLink\" href=\"../../../__pv_it/theorems/7940343ec28d39a15d2fb113448949ba26ff5cf80/expr.ipynb\"><img src=\"data:image/png;base64,iVBORw0KGgoAAAANSUhEUgAAATUAAAAmBAMAAABXBBG2AAAAMFBMVEX///+IiIgiIiIQEBB2dnbu\n",
       "7u5ERETMzMzc3NwyMjK6urpmZmaYmJiqqqpUVFQAAAB6qHgnAAAAAXRSTlMAQObYZgAAAAlwSFlz\n",
       "AAAOxAAADsQBlSsOGwAABOtJREFUWMO9mG9oG2Ucx3+XJrnL5S7NizVuTNoQX+gYuCnixOEa3xS0\n",
       "E7MZ9sbpqmwZtJumdqDOYa+IgkzbIHaoMAx0aIXhAirT1o1o1+FG1RPUFpHuNnG+UZJOR6tdic+f\n",
       "u0uud9fmCeweSPs8d9/nng+/e35/ngNgaXKlUoQGWlitXxsYJjMqlRTbGrIGDbWzLOLnKFSTN2xS\n",
       "jkmtecnWx7bMQS/Z3maTP5byjk2+zug5mndsviSbXljwjq2fcRXY6x3bVfTjEtnqBcvA0o6SvxPe\n",
       "sd1AP3++9op1VG3Tj3P435BK2chqv9bPxqQnjV/QaaRnl/C4bZvqwDbbjrz5aMdfZIMWKNsYHrxT\n",
       "PxuTnsbSsmGpyBxGLeUd7PbBLUfacyB+0UIcNUfZXsaO0VU/G5OetEjOYHtjK0YtObxTDj1x5xys\n",
       "Sb9IRmXKFkJbzq/Wz8akpwFeM9i+eRf9mby3yhZLJGg660A/8RrAIF1mnrJJqLAIMfgCk5605qTB\n",
       "VvgE2Xx0zmT7qEWXiCQ6t6O7dIcu6X56dyJxD4ufsugpW9Fka0PvS5o32IRh07QkOr9vlkk3dLbT\n",
       "APtWfHbSyraqfnkjEQHTCMVLCvwUKRtsIcWQXCLjt8wpczrbIAgrR62ClW0VvViE3mVpwWCTlH41\n",
       "oDZ1mWym5FFCudUc/6OzBVMukVDY+DBMaDY2qudLUeTri3p853ouD0hnpsZ+ROMpvgDS2LdVa5/K\n",
       "62xhaI5yMBQ12PoSqBGXL+ExP29OWdTZ5KjT1u692g2z/lQ4ZWPT9d+h7sfowXxrJh94RpH3yjG4\n",
       "X0ZEUifSxCBut1sYmgoz8H3WYNtlStrwmwgWbGyQ+8qhTDmNo3+04IfO8Y3jeUvOovozcQj8jEww\n",
       "jpfaAXAO9gdy+FzAH0B3/xBydrYjENqnwm9mzvKZkj2LyiHla7DtN3gEuYv0ZW8rdx6/IdRbD3Ar\n",
       "yW6/DPjt+43oAT4vg9ScBQ474e7D2PvjctInAbyEo0ycu2im6iHDT9dC5C6AbSYbFzXT2qa/PxOH\n",
       "rRmYsL2CFtw9UmzSOLwy7ikBsgum/U+ccGDDeuRzCzDar7+XmRns+BqXj6wFPglTqC9vrxolqtPE\n",
       "gVsAvibzH68+OQXra3a6Ed8ggsz16jpozobx/sW9lEhOetNQiDmwRYh5leMBFd09iS9PTlpPccvy\n",
       "QoHSXPm3KEbFK9d+N9me7DaMe/jk2RqH5P+z1EiXoQ98Ku2NgHQskzmI2NIhe3zTNyR8KsFTABcy\n",
       "mYz6/IcrxaBQl2uNdOJpmrN8lUqy5shDivgq2xaIwRBPe+M8n6R2E39wq9/CEBsF5PSHyFI7bMaq\n",
       "9avNq9dvb5Yqf77wnnk7XssmlJG9zochjXu3T9PIfxGg1Y1tAEZUvoyjHZ7dqcCD7jXS9Xpqy9lN\n",
       "d5ppIqjVsokaqskGW6BPRb01RXgN7Sl+gwIRFzZuQ34XxFBeFfbjYfpYT9b9I8JS3XVvbQa21+R6\n",
       "9RPoyHTXV5OnM5n8Kgm1B9NYzgu3rTzllOLEJqZuwnlhgnXCQ45nGelmnGX25BknPODdOcufY9Nz\n",
       "mz38HrLF7UbvOcciXvWQ7YLb6VALOl1e5+V3pJDLx86gY+AR7vOSLXCHy0eclFM22ak2xtbg997X\n",
       "ndcRt085XD3Q2PfeRpuQZTCyGXH+B2CYfJAXAfFzAAAAAElFTkSuQmCC\n",
       "\" style=\"display:inline;vertical-align:middle;\" /></a><br>(see <a class=\"ProveItLink\" href=\"../../../__pv_it/theorems/7c339a5c36621b501a8bb214785266bce0309ea90/dependencies.ipynb\">dependencies</a>)<br>"
      ],
      "text/plain": [
       "<IPython.core.display.HTML object>"
      ]
     },
     "metadata": {},
     "output_type": "display_data"
    }
   ],
   "source": [
    "%proving qmult_matrix_in_QmultCodomain"
   ]
  },
  {
   "cell_type": "code",
   "execution_count": null,
   "metadata": {},
   "outputs": [],
   "source": []
  }
 ],
 "metadata": {
  "kernelspec": {
   "display_name": "Python 3",
   "language": "python",
   "name": "python3"
  }
 },
 "nbformat": 4,
 "nbformat_minor": 0
}