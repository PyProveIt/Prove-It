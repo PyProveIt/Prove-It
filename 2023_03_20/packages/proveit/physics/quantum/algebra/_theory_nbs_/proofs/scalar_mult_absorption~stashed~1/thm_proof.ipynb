{
 "cells": [
  {
   "cell_type": "markdown",
   "metadata": {},
   "source": [
    "Proof of <a class=\"ProveItLink\" href=\"../../../../../../_theory_nbs_/theory.ipynb\">proveit</a>.<a class=\"ProveItLink\" href=\"../../../../../_theory_nbs_/theory.ipynb\">physics</a>.<a class=\"ProveItLink\" href=\"../../../../_theory_nbs_/theory.ipynb\">quantum</a>.<a class=\"ProveItLink\" href=\"../../theory.ipynb\">algebra</a>.<a class=\"ProveItLink\" href=\"../../theorems.ipynb#scalar_mult_absorption\">scalar_mult_absorption</a> theorem\n",
    "========"
   ]
  },
  {
   "cell_type": "code",
   "execution_count": 1,
   "metadata": {},
   "outputs": [],
   "source": [
    "import proveit\n",
    "theory = proveit.Theory() # the theorem's theory"
   ]
  },
  {
   "cell_type": "code",
   "execution_count": 2,
   "metadata": {},
   "outputs": [
    {
     "data": {
      "text/html": [
       "Under these <a href=\"presumptions.txt\">presumptions</a>, we begin our proof of<br><strong id=\"scalar_mult_absorption\">scalar_mult_absorption:</strong> <a class=\"ProveItLink\" href=\"../../../__pv_it/theorems/fc20f1a5ea1dfb3dd5e64fb136f54c154263cdb10/expr.ipynb\"><img src=\"data:image/png;base64,iVBORw0KGgoAAAANSUhEUgAABAgAAAAzBAMAAADoRSdUAAAAMFBMVEX///+IiIgiIiIQEBB2dnbu\n",
       "7u5ERETMzMzc3NwyMjK6urpmZmaYmJiqqqpUVFQAAAB6qHgnAAAAAXRSTlMAQObYZgAAAAlwSFlz\n",
       "AAAOxAAADsQBlSsOGwAADT1JREFUeNrtXXtsFMcZ/85361t7785HU6ymoWAZUVTSKKYCQh6AaUyV\n",
       "hoePYNM/CGDSYhAUfEAFSiPCkVBUFDW2REBV25RrgSBVSbkkLjQQwdGEVDwqDohKKFEwVA2KiPxA\n",
       "vAlc57GzOzP78HGbqgHvJ93dPL+ZnfnNzPd9s58N4I2UxsYE+HQHU2Njo1cWJfl8pk+OXWnyDn8A\n",
       "ZS79bclf9gyCdB9dQJ/f8U+wlG3hH/ggKI5itWI85ZFf6jbTCybVMSda5YPAGx0Qo4Ec+VknJK7r\n",
       "ZXraLPWt9AevHS2PO2ZN8UHgbX2NFuMf0p9NQuImdx5l3Zb6HEVabnV+Ng8CWZYwdXFndg3YxyzE\n",
       "ZQ9wnrusDwJPjy2uL4Uu6mhe2G7z7jxOd8v1BQo2AXQlYQPbK4Yn4NR3wTZmIT67zFF7i470QeCF\n",
       "3hOjGl1TWhd/hIsxK+25KtcXqBXhbHsGDukweQZpIxqrIcasgj+fHXHW3n7rg8ALjZBWLf15op7X\n",
       "G8WYhUJrrsj1BTqCah+JQ5Au5DK8astr2EkixKwHjZA90rEL21M+CIqnwCUxfpIKCvFBnHwnxqy0\n",
       "OnBTqi9SF/qsT0EZ3STqMa8wW9RizEJi9u+cpZIOHwQenrpDjLfTTR1Oc9u6GLNSJvqFWL9uirBz\n",
       "jAKYNRRtGKQp9QLZ5vUCYswqtYrZU5yVxEs+CIqnVdL408X2BqzirAdizKq65cIXhfovpJXRqrl3\n",
       "hC/3G4iTI0RmDPUIJ0mPa++kbKLNatWERPAqPT4Iiqd/S/EH6NqGVjTIT+uSPokpdZ0OwrkG6i20\n",
       "1ruN+sMBFgbMwgEk1x1HW0mUHO0lupSnHOBjDVP+YzsnosR43Pk5nvFBUDyNleKPkGlbuLurCcL9\n",
       "qsCMaaBV2bOo3L3nMpriNlZfQ3B4J4Tn+RpJKkWTH0KiY5jAJEi+FVjyNT6WgbfsWLNstm05P8eR\n",
       "lA+CYin8hR0IpgJUVBnWWBqrSKtX7LU4pACio1urZfWxWeDxCThyP0mqQJtKpIcJ+SVkXk8AHONj\n",
       "16HVTi4wClPa7Pwgs7M+CIpWDq7aHQdIGi+pMUBAY5GEAwg09BlsDB+qPzuuS/Vs/aL5iV1n7KjS\n",
       "X6uDgMX224OAZR/6ez+sIRxzlAkg2OGDoFgqlTX0OVjSy1JLMJ01FoOQ/XHwOhCz8myjfgUCweNc\n",
       "gUFop16FDotIExH4sQgXSugzasTg+7baAc1WDj4Go93nuLTKB0GxFGySErAW9iIe1KsMBCymX9iS\n",
       "g352G/sCFcOoJcUMBKi+1gSRvWGT5XoEpIcTxoGB1M3yCWxZG7HwELqrt/EtsGx1ahtcMvRXez2i\n",
       "m4KAbAgfewFBjKic2T4EgtmymWYpwPT8Boi2XKulIDBiqv7qBj7oSzLsS2m5loB/5l9hE7QUmwkO\n",
       "99fGGxw/zXd2bsyZq0zZ0bkLDBCw2FqqTRCeRgtGdixOBIphzg8SuU5BQJj92gsINNzNslRfMhPI\n",
       "17Ml3NEcFfb/l+CXbpyGJSz1JXpBjB4T9v2M6jbswaSWSYJa5SLh9lAQPI+ZNXkBQRhvJmv70nFw\n",
       "WrYH85c0AgjUeSv+4sapO26pL9G7LiBYu+I5txc8W6FkZdL2csrQUW5QEOCbxlDOk0yAbzsn9yUQ\n",
       "HLEs3PnmtP/wIrdPBPP5bjdOb6bl+rKQJ67PNZvGc7Fxedfb6j9DYFIvy/MWBUEEi7HeBMPD6Let\n",
       "L4FgkGUTnu6Ro2P9Us/H7Hy3zMu6dvC96uoR3kAQrK4eXNuXQFBv2YTVuDeOjvW/4dmm4Yqih3UQ\n",
       "7ASY6w0EWhJKqSLE59ifVor3KdD0szclsbNlXbxThMu07r1rXC2qdRC8DKpoRwosPLMajLsN9f4n\n",
       "4T2hgJCCQYDqv0wi07izUnnItlWjSLilfeI8GhzYPmECy+fDXJfO1zUYA19Kfw7KLU6zEbGNXiy/\n",
       "UbcjKTUgcLV0QDPT7r0gCm5dd82eNlgHQWkiZBh8wgOb08riVPQnQO82lny6AD4JJTRzqOQUosbO\n",
       "hSfpNskJmKGb9jupUeRvAPeQwB9zpgmOD5tU/gDAj0EEgdIht1hvI94avYhUQaBGbEDkaulAeS0d\n",
       "D4Atycg1BJnEXQyCaNyUC3ejxRKaCvA+EFOVthMbkuKZkLkVyykEBEepXFi+jNtCtw23a5Qrch5J\n",
       "2WRbH4k++krjwxwdR+N/SgIBsU7wLQqtW3oRy0CkW2xA5GrtwAY6HhCtxfpAdPzyu/g4gLZ9eMns\n",
       "q1Xo+81P/5x6LKDpJW8rn/jXajzlkXeX3AdCigmCsggZ/0AZd2zEf28rpphFxoBC3odtRQs4rC9i\n",
       "PsydP3g5r5RAUCK3KLRu6UUwB09lhQYkrtYOTNbf934WfSqysNmUnOqtwtZXxVam3l5xJhjCZKzn\n",
       "D4UzIaqofPQRzZ8NCtFRT4RmbsHY2JwNpoQUEwShk2RpxDVTUQzAO7bSllFE7Tm8hxzSZ7nss7Y9\n",
       "jYk2LwqCdXKLfNjai9YBh86JDcTsLGl8B07pitscgqHom+ZOMMgifXh1PvnSqPz21JSxDAQvohWk\n",
       "dcCBP5GrLdi/n+afJDdh+F46U4l+fnEvVCSEFBMEKuFVngyYx/k2/cCXuoiLrMvph/Qssu8+yuU/\n",
       "atvTYMYGBK9JLQqt871QX6USiHJebCBoZ6XjO/AaHQ/AO0ZFgpcJrMYir84nOn2Abwwoc8G7RKns\n",
       "/Fx10cIL8jWxoxsMBDHUajANm2vhQHNzc27FNprfDpGNzc2L0JQ3EKHhDGyWUgwQwDlyStdNuWRc\n",
       "mLTXdSXKj+6StTtchNo/0CGtkusLfGpH9Xo0/MZ9aREEGN05CQSfSC2SsFwT94JaSxACWtNCY5Sr\n",
       "1EearysUdDzgot6aSafTshLi0fnEoFFoYMgLCKJ3yT39IfpW1tkWUJCviZ3CfpGBAFNFClYl4GdE\n",
       "oJ5KVe5hiXAtXfflR/HvQ7A7LKaYINAVa/UKrByi78PQmgyy63KxSJAd0uXkcTuJSYTWo+EaRRye\n",
       "WIdg8yjVp0hskYSlmqQXUEMlENieFBqjXKU+dnL2mVN0PKBr/0zDD4jSKnk+vDqfGCcEfpUIr07R\n",
       "u2T6UCyNOnIr1NfESuwCScdPGuoVavJRJ6ZgvFKL7zbm6vr4QGgAtRuGnuBSLCDARwXaOdH4NpB3\n",
       "JipyKiwDxKjB+KJF1pISrQl4KoMTp6UhkMb1jHAqXMNVQl+PAHwTIrv+USsKhmaLLIxrGhVZL7Ac\n",
       "o14CBd+1Go2BzhX3EVhDLP/Q63h776ebwLRvP/GSOAEV8kB7dT5hFLlC3ymT3EfW4344vyVWqK+J\n",
       "laI3eRCoZz7WvgUqsd40bFyYDI/Bdxtr0VOEv5OCGCzLlXfA17NcigUEb3fAjGtpPL7LctpYUPb+\n",
       "BmABIEbLUuHR+GuMXuR9XCKyqW7iIsDZyu7x/QHPixkuTaMStBL6ysGM9n4JiFZCFQcCdKiYLRqt\n",
       "o5rAKgLtRQTD4cDFuh34QDEaQ0S44j4C6yLLP9pUQozudDyUFafiouWxRBbpvDqfGHse2sjKRoPk\n",
       "PkKNHc85W7EL9DWxOUeu8iDQqaG5WZ9UcjAqP2heoOfoz8OlWI4DSkO481tLmiesGdrFn/BRrp4R\n",
       "3inIACx0ThenSw1bjtkiX1PeqtPWNK6KZrNcY0kk2GNNiIzH8nHDUxFBKovJIqhH55NQ3Tl9R2kC\n",
       "5WxSdh9pJeD/kaOWUaivCdiCzuX1sq2SWJ9wuTuQx9coPCHAM2KhITmO3VauHguHEnGuhBGqChxM\n",
       "cGbjv9rMKK5p6eFMVxDgPlqqwICtoBlHgFo57qfiri15oXl0PlGHwbTUr4iwMaffZxg5ovtIvbva\n",
       "Z+drUiAFm1xBIIE4AgWCYMmInFG4LH+BZ8RC41McuyxXj4U35au4EiykdEQn8XcHoYRZE7ialjGy\n",
       "XsRxVUgfZZoFH2bp3YSDPCVv5N6cT5CeUprpTwwQKYg+BrKvyYMUjk68Cvc1sVBr3BUEhdL/4UVT\n",
       "ZhT7H9tuE73ZWDjy5nyyF0Gijewa+CoDi5Oir8k42h8nXoX7mljIdz7xQG/bgaBo55NRaLsaQTCH\n",
       "X/Q5Epd9TR4kwlPSiVfhviYOBlIfBO569AD7Y3172uY4KNb5BLuFUgWAeDZ1pWVfE2IhCDnysvM1\n",
       "KZB8h9QC6Hlosn9qyVDgzfkEg6CGaWzhayD7mpCTe4Ijr8J9TSxmCd81vQCa5z56BnlzPtkBcKgb\n",
       "a3hlKHUzMU4KviZYl9ySEHkV5WtimbwOHwS90xAn8VB6K9Ob80lo0r5EO1rtMfwHyxZRkUHwNZmx\n",
       "+DweZp5XUb4mllMt5YOgd9py2MHec0QEh1fnE0c6dhu8evc1kWkx+CDwQGWiwOjV+aQgEPTGq3df\n",
       "E9ledckHgSe1Qfpjll6dTxxI8DXpjVcBvibS3OV8EHiiSjE6/SvTsfmFF/X/rK1Hkv7AtVfnky+N\n",
       "3H1NxNOg7UsDwf4++k8vXr3jn+BZOnGNjZWeQeD/04s7lBT9bamW/OX/AosHbM8mb6adAAAAAElF\n",
       "TkSuQmCC\n",
       "\" style=\"display:inline;vertical-align:middle;\" /></a><br>(see <a class=\"ProveItLink\" href=\"../../../__pv_it/theorems/c98cfeebe4afbf3d50a0f524b97926461596684c0/dependencies.ipynb\">dependencies</a>)<br>"
      ],
      "text/plain": [
       "<IPython.core.display.HTML object>"
      ]
     },
     "metadata": {},
     "output_type": "display_data"
    }
   ],
   "source": [
    "%proving scalar_mult_absorption"
   ]
  },
  {
   "cell_type": "code",
   "execution_count": null,
   "metadata": {},
   "outputs": [],
   "source": []
  }
 ],
 "metadata": {
  "kernelspec": {
   "display_name": "Python 3",
   "language": "python",
   "name": "python3"
  }
 },
 "nbformat": 4,
 "nbformat_minor": 0
}