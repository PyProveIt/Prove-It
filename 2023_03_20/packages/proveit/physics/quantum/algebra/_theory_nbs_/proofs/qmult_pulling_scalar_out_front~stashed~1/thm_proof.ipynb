{
 "cells": [
  {
   "cell_type": "markdown",
   "metadata": {},
   "source": [
    "Proof of <a class=\"ProveItLink\" href=\"../../../../../../_theory_nbs_/theory.ipynb\">proveit</a>.<a class=\"ProveItLink\" href=\"../../../../../_theory_nbs_/theory.ipynb\">physics</a>.<a class=\"ProveItLink\" href=\"../../../../_theory_nbs_/theory.ipynb\">quantum</a>.<a class=\"ProveItLink\" href=\"../../theory.ipynb\">algebra</a>.<a class=\"ProveItLink\" href=\"../../theorems.ipynb#qmult_pulling_scalar_out_front\">qmult_pulling_scalar_out_front</a> theorem\n",
    "========"
   ]
  },
  {
   "cell_type": "code",
   "execution_count": 1,
   "metadata": {},
   "outputs": [],
   "source": [
    "import proveit\n",
    "theory = proveit.Theory() # the theorem's theory"
   ]
  },
  {
   "cell_type": "code",
   "execution_count": 2,
   "metadata": {},
   "outputs": [
    {
     "data": {
      "text/html": [
       "Under these <a href=\"presumptions.txt\">presumptions</a>, we begin our proof of<br><strong id=\"qmult_pulling_scalar_out_front\">qmult_pulling_scalar_out_front:</strong> <a class=\"ProveItLink\" href=\"../../../__pv_it/theorems/1a6bc3906d0ef58860fc0e13634d09d6cd29bdf50/expr.ipynb\"><img src=\"data:image/png;base64,iVBORw0KGgoAAAANSUhEUgAAA7oAAAAzBAMAAABLfWnTAAAAMFBMVEX///+IiIgiIiIQEBB2dnbu\n",
       "7u5ERETMzMzc3NwyMjK6urpmZmaYmJiqqqpUVFQAAAB6qHgnAAAAAXRSTlMAQObYZgAAAAlwSFlz\n",
       "AAAOxAAADsQBlSsOGwAAC1lJREFUeNrtXH+MFPUVf/tjbvd2du/2Sr2oGLkcuZoqBGgwUlQ4DNeo\n",
       "ERjiHf0DlFPDQaiFBRoJJcha6KXE1LuktWn6Q9aC8R8sq9JigcA11hrQhqU1UksjW1trEy13EH6d\n",
       "iNvvr5n5/piZvZ27FZbOS3Z3vt/3vu/NzWe+7/u+b94NQFnq6uoaBTugL560ri5jpMBMKV0aBfua\n",
       "obrM1Y/qMnaqpVI3wOrS+RGMuXVU7GuGPqmBc1xrsINkN/7+Y4DuCKmhXWxnr+C5uNpOtQTo+qLD\n",
       "YjNUID/bhM5t3iri/WN0Ls+7cuYH6Pqh+Ayx/Q792S50bvfWUT/ElsfH2BTTmk99Erd8wsJVpwa2\n",
       "uo/m2KEBN6HwQICuDwqnxfiFTsNUSfCLJW8dJ4dMmPP0d9x1kHrFRCo0zYATk1wHC+xnXV3z7QG6\n",
       "Puh1salTTPRBfgkUWyodvMgOGqlbX3QL+jrExmiPophcv+gaDgvst1xt/DxA1wdNF5sR+nPvAn6b\n",
       "JLYUim69wI5209D2R/hnhzmf8axLTHX16gI7YrjJ7c4G6FZMoXNi+z26GKcnFLilWWip9FToMju6\n",
       "h6JNmhtZ3wI8NpZ3Gyyy610X3vpigG7ly25RbO+hrhhOcpdZbKmUT33Gjp5r+i/67iOx1TfZrXGG\n",
       "+F+3yS+xo0XXhfdcgG7FtFm67L8g3y/BZm4XLLYUShRiZ9kaOmwsRQ50AR+oRU972pfYSRzU6a2E\n",
       "RKC10wG6FdM/pfZkOhuhD13bJWwbS1ra3FMua6IO8c8BHh4i8yuCkJ3C4ikyPswCps75Hzr6DjHc\n",
       "Srmuz/BogG7FNEtqzySL8bf2D3ZDrInuXmlLB73FWUXz/oPnES4ISr0fGtEsn026DTo+QnZLGrpF\n",
       "XnEabLIZxYZcz/RoNkC3Qop95oTuQrS3abHSf7TVmItfcN7SoNmKFk8dwRpuh90oSJpCZmGGjg8T\n",
       "vI7Dp9DntPaabNPLu8/dpQMBupWGzBedPDOKYMNTLXRpK2m4oKujz0QkkiPb3UMG2+lG2Xi6lW2H\n",
       "N5zRNdlvvdmE42Y6xGndhUgxQLdCqpPnyiN4Ag3Q5CJF12xB1Nkz7wKSqVyKkxkZ7S4cM+OoqoON\n",
       "j+NoKGpY2yU5ZqZs7chdMMMCz/lUWwJ0K6SIfDVxtn4LvpYXTXTNFnsKpw1jL9nPDhA8+P5YnSUb\n",
       "5YaBOjIBkbvfaZjj0W4q0YEXgTbqYPvF8ZQdX9gPeMujuwfn0SEeXTKR/+4NXwNZIQZc0S2vo8Zp\n",
       "qZxlWAuwqPQspFYPt1N0rFacPUG/Da+WeXYA2uphA94t/ZhslLV/HSAii1d9nDPdLGi/PbUP//bS\n",
       "kJsMtceb7IY0WXKxf3eh5Kc8ukTlT73R1bGy+qwruuV11Pp2Ny1HOdzimBJc8dPwA8+Lqe6XhPHx\n",
       "fDzr5UQyeh6Z/p5HAHiaR/dJrLLbG90Ynpy97p65vI4ap5NyijGZd0Nn+frfeGkaSnuj27t+o+Ex\n",
       "vA/CmxC6B9wltEs8uvVIWbRQZmHFT5zmubPL66hxOqrEsStsPO87yyEWKZWGvDS9rPhUcfzskudj\n",
       "xF9D6IEyM+lzHt0kjvXKhU1vo59+d3Z5HTVOExRvueiKhvBezvu8EDN/rbV1ejl0I62tE9s9Yuay\n",
       "OmqcFijeMp6+gqdzvRfz6wK6ewGWlUNXz0Cd4YGupYMX0lwWBt9/lE5//iprMcbESsiDd8ionTux\n",
       "VUD3GYgXQRsU78zb7ofXizZ8SOIZgA2Wu28+eH2aR5fowNf0Dk7Jg86Ps+zu0MdzO63LdvOejg6H\n",
       "S86L1NGAJicpF4yqVjjFgjaljwuUbjgjboEGa8jPTBTQrTOiOfNxNKE1/14J70cN3eDgWwb3s6JP\n",
       "zF30H3i3nUeX6jAfSJvuzDnOsroTkwEeM3t/VVATQpIIQ/dhWblgVLHCKRa1KX078X7i5h70h+zM\n",
       "JIcR7sY1gG4qjQOiPbb/24tTE+l8lIfvGA6qIhnG7UhDUkCX6gB4cRp33dY5Lk1291/Q1Tth7gpu\n",
       "Rx+1MIEXMdHdJyvnjSpWeMWiNqUPR/778ZRPteMoOTXniWvAM0P/7xlGyQNrxgPchPuP/+0pAd36\n",
       "JLpam5s+JFztzRxXMU0ykUQHQPo5zuXVFx2XN7M7jqfcJnMfh6ZaTJnrgoiJbousnDeqWOEUS9qU\n",
       "PrSno6WkG9CncQB22OHIAjVIzV5BALMjj6pgHtrNaniTtmTHQCSrkf7j0Yd28vBF30N375eM8YSb\n",
       "+mFWiqqIDhyY/M7uT+uOeyiru4HfxH/geKKCCEOXlnxzygWjipUPXLUpfWiK030OfkQQKaRetufu\n",
       "BCWECPG34hdds/68F3OWiO6WIn2oDN+/ARqNBLl9j0O+mYcvjsc8DocJN7nEkNHdQqbKizDO9o2Z\n",
       "kNNDSNK9DV+aCO+I73TOu+VVdBPdknLeqGrlTldtSh/SvIsc4PncaPDrrprNeMeuOfdZsw7VqFZH\n",
       "dElEtyFjPnT4B+yA5E96er6N0O2sF+D7CH3ugIOEG/tuRka3gfTsmTtomGlwfe78c/DSeDk1Q7rJ\n",
       "bhwXn0CBieOlM6WIMxEB3VTR1MLy9dho4tg+FytUMRGl2kRR3kKsGw739PQUAJc/vS9mIuU/A1er\n",
       "mzXnfmvWq1Gtjs7srIgupvALQODbH4u107mbOCbAR3KkcDfloqjK3mTeyu8Y+zKxP1NOGuIXYKom\n",
       "p+VIN6kGbkAwhbJM/BTZo8viVEREN9ZtatnUZhmNkOemTlaoYiJKtYmivAXkmb9DI+Q3HpKu32Z5\n",
       "suBq9UbzvvNZs16VanXpKQKlxhB0QnwIbjlO0xJH0D5Rga8NjSHcra9BNK2iu4v8xWEDtHbyMPsy\n",
       "ZGNTcaPT+qLdvYBbMwFuBCb+YA5COSLeyQ8gIsl9f2oXoyqqBdoso3FYh68AG2hbAaaYiFJtRNSS\n",
       "5C2E0ixlo3/l3qdFhBplp47vnN3mDe6zZr0q1eqQuqyiq98I6wqJInx5AHrRycW+mqUPdQX4NjYB\n",
       "4YJ2X89eUNj6LNAO/QzDFbsbXi3C4uEc1OVwY102NgN/md1/AGQNFu9pMoCJa/vnXIfxyyEGlZ1h\n",
       "iaSaaZzM0F0BpvI22yisxLctG2hbAVMxuRGoQSxqSfIWkCePLydj1p9IiwmwsBwJ4fTAPVZS0l/N\n",
       "elWq1VmRkFqbwU5K+0bPSiXVaHsImavUZoRxuYHZ2Atcwzraxy2ninhBPiH4iIWZdVbSgfkSzh06\n",
       "zBd+fS0jSizggLmzpycHT8yelk0KafUGeU7h9ACtOfdfs16VanVoGHJEN+GVSPZOQyvovmCehZG2\n",
       "G/ZRW8G2Jovbp2EdtYSOGDa6etYBsg6HLHFbwRFdJ1Fi4TX7WjbPflzgJ6V/NMHV6qzm3HfN+qir\n",
       "1Z0p0u2IbhLGBN3YuHkA5t27vdRiN+yjOVnLmiKeVE5IK6Ye4OYumFnjNdMt+OpLZ9QTm2OvnWVE\n",
       "iYVkziNUkZOdk62ac98161WqVie1eLVYNRdnWFRHu1Y2RcDRTKvm3HfNelCtftXQqyq6YVpz7rtm\n",
       "vUrV6jQ5F6Dr6IJvcl40d+cUz8xqzn3XrI+6Wt2Zgv8Sc6cnoduxPyxtVR6xas5916xXp1o9GfyH\n",
       "pzst975oFs23as5HVrNOv4Sa9epUq7N/NA7QdaI2cIl1pbKxtWbN+Uhr1smXULNenWr14M0KHrTz\n",
       "bZdUxFER9bCyOPqvWR/TavVVEKBbOdWLvjCZ90S3opr1saxWT5wL0PUTTEtvI1shhz2+a9bHtFo9\n",
       "XAjQ9UPNYvMqrVYP3iToj6S3gF6d1eqJ/orRneT9FudJ/ydv3/5lDZzjBrpma10Lu/Hbt5tHMCR4\n",
       "+zZ1hzXw9m1WUWK9fft/RVT0bHjl8esAAAAASUVORK5CYII=\n",
       "\" style=\"display:inline;vertical-align:middle;\" /></a><br>(see <a class=\"ProveItLink\" href=\"../../../__pv_it/theorems/9888c58ab7b0a8cff308efd14bc4ea46dbf158380/dependencies.ipynb\">dependencies</a>)<br>"
      ],
      "text/plain": [
       "<IPython.core.display.HTML object>"
      ]
     },
     "metadata": {},
     "output_type": "display_data"
    }
   ],
   "source": [
    "%proving qmult_pulling_scalar_out_front"
   ]
  },
  {
   "cell_type": "code",
   "execution_count": null,
   "metadata": {},
   "outputs": [],
   "source": []
  }
 ],
 "metadata": {
  "kernelspec": {
   "display_name": "Python 3",
   "language": "python",
   "name": "python3"
  }
 },
 "nbformat": 4,
 "nbformat_minor": 0
}