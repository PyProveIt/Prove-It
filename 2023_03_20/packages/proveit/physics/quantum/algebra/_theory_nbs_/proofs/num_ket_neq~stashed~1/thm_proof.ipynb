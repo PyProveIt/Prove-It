{
 "cells": [
  {
   "cell_type": "markdown",
   "metadata": {},
   "source": [
    "Proof of <a class=\"ProveItLink\" href=\"../../../../../../_theory_nbs_/theory.ipynb\">proveit</a>.<a class=\"ProveItLink\" href=\"../../../../../_theory_nbs_/theory.ipynb\">physics</a>.<a class=\"ProveItLink\" href=\"../../../../_theory_nbs_/theory.ipynb\">quantum</a>.<a class=\"ProveItLink\" href=\"../../theory.ipynb\">algebra</a>.<a class=\"ProveItLink\" href=\"../../theorems.ipynb#num_ket_neq\">num_ket_neq</a> theorem\n",
    "========"
   ]
  },
  {
   "cell_type": "code",
   "execution_count": 1,
   "metadata": {},
   "outputs": [],
   "source": [
    "import proveit\n",
    "theory = proveit.Theory() # the theorem's theory"
   ]
  },
  {
   "cell_type": "code",
   "execution_count": 2,
   "metadata": {},
   "outputs": [
    {
     "data": {
      "text/html": [
       "Under these <a href=\"presumptions.txt\">presumptions</a>, we begin our proof of<br><strong id=\"num_ket_neq\">num_ket_neq:</strong> <a class=\"ProveItLink\" href=\"../../../__pv_it/theorems/e53b9c08c177991d8026b0f199fe8d71cca512360/expr.ipynb\"><img src=\"data:image/png;base64,iVBORw0KGgoAAAANSUhEUgAAAYQAAAAZCAMAAAAG7KnIAAAARVBMVEX///8NDQ0WFhYLCwsYGBg2\n",
       "NjYbGxsSEhKIiIgiIiIQEBB2dnbu7u5ERETMzMzc3NwyMjK6urpmZmaYmJiqqqpUVFQAAAA0WiBi\n",
       "AAAAAXRSTlMAQObYZgAAAAlwSFlzAAAOxAAADsQBlSsOGwAABO9JREFUaN7tWoly5CYQJckmC+K+\n",
       "9P+fGpC4p0GyR1lnq0zVuGwNr6fp1xc9RuiZ5QkhEn2vjy4c7OaeEqa+7fnZZe03CeOS6dUs8QkR\n",
       "V3j5TcIiP8TkQHX3jN9gwbD6+wAH8Ro3JPjy2Nk3SXhI1JcuR3srCh6M68wlTnA0ksD4RpJQCI9t\n",
       "JcGUz1PyTRIeEvWVi6nBlfHxgFwCO2fPcJWND+IVKySI7L+Sv5uOHhL1lctYMJ/QqwZGeASQsLsV\n",
       "3ppaEzIh1L1LwkOivnJtcFK/9CouARL0zpb4jRUScnF+r7Sqts7/tlXaKZiEq/yqPQJIoNsar2zt\n",
       "jjYS10Yf6I4eEfWV2Yh2VmQY+7Zez08vIRKUj8CjbQLx1FcSzFFTOLunJ12RMIi66OwsfbCJEtT0\n",
       "JzDzVn161OSb2YpBxGYXpRWZw+nIj7/iTz92R7tFzslTAoS3qpIgff5xy1lWJAyiSD66JRgwW07A\n",
       "FC/8jFHq/cpBmFWdY5U03f1FxOiokE55gnDuwLLWVqPvB0KCu11qh8T5JoR3W3NZi55Lpx8iiYlv\n",
       "2s1fkzAVtdXGG3vOdZOAbbCF5kvSDYm9hLZQUAuMSZ/QQRLaA/lRpxc1kytHQzKo/RkqwmiTE242\n",
       "KybtU3q2NyQ4DNbSbC7nEWXlSrgmYSJK7sWmRgxVcIsP9mnh23WEiyCZT5KC+yAJXg46zUhI9F8W\n",
       "hZeqe8KJag8L4HUbCcFs9jU0iwQX3jRHMaDGGBJeej62qKIYNqVTtRzJI+dgO7Yi8vC1bdrUWnaS\n",
       "gLxAUn2OhFYVpOmg0zQdxQe0NbQ1NgSeGWrCn3+clWGoCSxkMr2LBT4pnkigLnX4za5qLiecljhX\n",
       "5HUkVFFhY7WKx9KxTYab/EtdEgcJZFmiKTlLG7aazUnQZEZCUsXwuH6Gl2106jC4J0Huumn0mdWx\n",
       "yg6YcjsaIsGGg0Ui8BRveUuCTPm+2dWYy4mQjpy+R0IWhRgLgVPCPI7FglPoxtZCiUrChleNDwlb\n",
       "2NHv2UUkIIUZSEKnSnGurBPQNBYS7N5eeSU7hhh7b3RgMHTAvYrRIE7nBfGpIc63K38q0+xqzBVI\n",
       "CKbH/BYJWVTb8AWHSrnNqsMZeTx+6nnOdLQv7thy7J4Fz0t2JDiFZzWhqFKcq+jU092T4Hk//PG4\n",
       "ZPJFIJzweEiEzekYIJ7ojoRatPKuxlyRBEazmekFCW1NbeIu5AoZm/l2jOjvFGYkA+1ydWHNJMht\n",
       "XpgP+TEd/fM3P9NR0QnqZDMJOUCzt0ddjeniB6q4L/0hiJcEwSSUXY25IglIO3zjxvx6D2D0pDb4\n",
       "GB2uhKlkYNxd+w8Ao00cCCEMu0HCojvKV5KmU6w6AUO1aEXvjrTejoaOhooIJ9aB8EoCiE/DwhcS\n",
       "ml3VXFY3fvsBEg6EiH1P1MEfTbNsRr5lUENxY2QRK5KoxW/b41okK6p2ii9IKMrXU1WdAHMFK4qQ\n",
       "IXOzlAbcp6/grjBZcB6hwQF5jy9DvZGEZlcxlyBnH/xhElIedsMFOKYDDRjtsekbQEIuCRfhXGpG\n",
       "tKLBpRXH896NsBskgPgyeF19vdmY6/YAr/lbpxSgp5lEk19DQlHl1nhXRp5wHyEL/wPHYwMcxOMS\n",
       "6//dd8wmp5jFJyj8JAdCOZiEogpyGv0P14MkfOb/jsSDX/7I0Sd/j29YMSGb/RdETUztFlRtkQAA\n",
       "AABJRU5ErkJggg==\n",
       "\" style=\"display:inline;vertical-align:middle;\" /></a><br>(see <a class=\"ProveItLink\" href=\"../../../__pv_it/theorems/4cf55b4704bf53c261a2741898fba24852e4bd4d0/dependencies.ipynb\">dependencies</a>)<br>"
      ],
      "text/plain": [
       "<IPython.core.display.HTML object>"
      ]
     },
     "metadata": {},
     "output_type": "display_data"
    },
    {
     "name": "stdout",
     "output_type": "stream",
     "text": [
      "num_ket_neq may now be readily provable (assuming required theorems are usable).  Simply execute \"%qed\".\n"
     ]
    }
   ],
   "source": [
    "%proving num_ket_neq"
   ]
  },
  {
   "cell_type": "code",
   "execution_count": null,
   "metadata": {},
   "outputs": [],
   "source": []
  }
 ],
 "metadata": {
  "kernelspec": {
   "display_name": "Python 3",
   "language": "python",
   "name": "python3"
  }
 },
 "nbformat": 4,
 "nbformat_minor": 0
}