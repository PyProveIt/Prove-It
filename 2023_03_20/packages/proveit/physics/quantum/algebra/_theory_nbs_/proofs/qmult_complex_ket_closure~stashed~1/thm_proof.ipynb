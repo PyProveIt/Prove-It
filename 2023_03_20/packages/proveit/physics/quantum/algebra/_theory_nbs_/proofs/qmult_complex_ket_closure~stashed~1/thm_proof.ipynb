{
 "cells": [
  {
   "cell_type": "markdown",
   "metadata": {},
   "source": [
    "Proof of <a class=\"ProveItLink\" href=\"../../../../../../_theory_nbs_/theory.ipynb\">proveit</a>.<a class=\"ProveItLink\" href=\"../../../../../_theory_nbs_/theory.ipynb\">physics</a>.<a class=\"ProveItLink\" href=\"../../../../_theory_nbs_/theory.ipynb\">quantum</a>.<a class=\"ProveItLink\" href=\"../../theory.ipynb\">algebra</a>.<a class=\"ProveItLink\" href=\"../../theorems.ipynb#qmult_complex_ket_closure\">qmult_complex_ket_closure</a> theorem\n",
    "========"
   ]
  },
  {
   "cell_type": "code",
   "execution_count": 1,
   "metadata": {},
   "outputs": [],
   "source": [
    "import proveit\n",
    "theory = proveit.Theory() # the theorem's theory"
   ]
  },
  {
   "cell_type": "code",
   "execution_count": 2,
   "metadata": {},
   "outputs": [
    {
     "data": {
      "text/html": [
       "Under these <a href=\"presumptions.txt\">presumptions</a>, we begin our proof of<br><strong id=\"qmult_complex_ket_closure\">qmult_complex_ket_closure:</strong> <a class=\"ProveItLink\" href=\"../../../__pv_it/theorems/063a1891e00b7faa189880903bc838dcbcf8c3240/expr.ipynb\"><img src=\"data:image/png;base64,iVBORw0KGgoAAAANSUhEUgAAAaQAAAAlBAMAAAD/+YDPAAAAMFBMVEX///+IiIgiIiIQEBB2dnbu\n",
       "7u5ERETMzMzc3NwyMjK6urpmZmaYmJiqqqpUVFQAAAB6qHgnAAAAAXRSTlMAQObYZgAAAAlwSFlz\n",
       "AAAOxAAADsQBlSsOGwAABkFJREFUWMPtmX2ME0UUwN/S3e622yt7ARXlJKV+oARN5fyKIdpLihAF\n",
       "syQEQ6JeQSgmIBTQGEnkFiREQoBDg9FEpQhqYkzsH6Byh2EvchikiYeaCDk+TsWvGENFqhdQz/dm\n",
       "dre77bXHHz3lyE1ud+n0dd785n3NLABV2qm+v2CItf19harfn4Qh2O4YRhpGGkYackjh6E2DyiJE\n",
       "b/mvkQKDbqDcJYuk0M2wPthPkO1v+m3GpY10LXlRl/XhAbvXnwYIapV+s8OF1EOP45WQwvSoM2uF\n",
       "VE2Z0+riePsKPEgCdmfx2VBm0b3/4H2DLphFpDZ6vFIJSc3QXIxaIVVT5rS5eEmtXiQRrwiNoZcI\n",
       "t6+6D+8/A2wrIq0m1GQlJJnWdX3NHK+aMqftw0s1vUiz8JqJVyjrlfVn4UV84Fb0cBGJuMWuirG0\n",
       "zRqrNkjVlDkthpcPvEhf2ytrBb8wP3qzNcM70Sdxq+rTHaSQWTlwT3Kp1pohVVPmhBKpO1aCFLf9\n",
       "/zX2MbjVcUDpHFY8/EnALGa8ydHo7ZWRfNHodfHaZbwqyuymkrrd9K+mhjQhSWNNiAsRnjYeYjIb\n",
       "iiEVPA8wEhOh2FNE+hBgYWUkNQ1+vXZIXJkVEGr/YqZljLVdapKQxLqYZAoFnh8OQUmGEfJ4rkP7\n",
       "hVqLSJtB6XFvKxZ/s8aFhN9tplR5l5NXZ0+eKm6fFopIy2B9xLW4+NP6afEBkLgyliBMCDlRtfGl\n",
       "NDcCthHUS1ub68GnEdJzaiRkUIRRvvySyRRDQf7uj1Sqkfw1VkTy62LG+npcKiMtNeoWuEvtQvLm\n",
       "A9LfABO5BCwFGAWyBltAdiGNIBOoPQMgcWUMSeNPGjIUb+6CEdYsfPS8B9eoYMWS7tNEZlnKly1s\n",
       "oui/0Rt55H3+64kTF6gvX0Sq0+yAbUfXFTFdHnAjHcElkTWpF+QYl+BI2Jo9SKNYqhoIiSsjFAWN\n",
       "8ZGldDk0G7ASvEi+pJ0eTukiSBp3k50sJbjqADqdTK8Tgi4rQWsH1bIGjRXgR1a5dlKEFAhpfA3U\n",
       "LDAJjjQnT0hT6vcAzKhXXu1uO5PQ39DBWD9p9B5YdxinNXqcIXZowvEZng0RU5aEHT0hfQJsBGtI\n",
       "Wvx28Dpes2Yj7YVNIOg8gr5gna6lxCob6qXFiriQZlLtmSjH5lDH0aMlezzxGGWHUJIcg0nA/ETi\n",
       "cVAYUi9m20CXau48GsdFXnu2jbquhtNwN4hZNf467NsFazxITFlS0goCPAl+sIaEg8yvefUklHmY\n",
       "xhA2w5A+gE5416rRB5lMfXGOv6GL5vkMi0jPo7eoSSn9HnV0dpYgKfeSpbf/3ogbDybBrSQxpBiM\n",
       "zLRAMNmiM79ZfkZjXS/AEnQl5eE8vN3yse5BImWQVB6NCPApbR75kHP7GhvzlhhlY8rVmO5ElsRh\n",
       "pxEPZawavZsP5SQWqrKBmJRmud9BCqe5Ax9KpVJdz7xTuhP/kW4jDUqfTMKL5DM/yeUyyIN/Ovon\n",
       "6xKaxsP7uHBTcp8Fl533IJEydLywtgnLpxy3hoReloR5kiKvWoFXIncFdzz59LwxPAHZtpR+eMu2\n",
       "KRrH9+cKg2UXz+ECpwxPsTXC9CCVHy7eBPjFkii3EpvBSsnE5Y2wrkkwT9+isyT0tFVJPIcL8uJO\n",
       "xQTVsIYMRiDs7N4m0PTT7t2DzIzSTT5jRVHwfr4hAj9OXD2LEb229LwUyECclVTlQQOaypEwdreC\n",
       "VXRdSL3o235T0tBEzXL6PBYduQBXSgUYr/njkrYEZnVTwJQjhTVtHQskPiSmnoBzFDrs2Z4SksCE\n",
       "nvBsZ/vb7HqQlH0durKIVdKXF6fLkbDS3hbmErMbpwrbpz12QdqfVRo60IMT9cqZ6SDuhrZEAhPq\n",
       "kSyMzT2rYTeITVp3w/T+kKT2BTi5a1AxU+pLY1n93vYlw5q/gySCfd6oeChguaP8VDs7lcr0f6pV\n",
       "cAm//akfibJG1WvAU22SlyVWn9iQmBXDt9qnMlZ15nisxLY1ppu0tLF1GJyDupy/OKSQXvnYvcZa\n",
       "RNaucl4wEVbFw+iYwXv3sPncxSHRwodrtB/+H98QOe/xrLWWav0eb8rw21YWKQ3xyw1pNSQvN6RF\n",
       "l5/j3QD6EEcq+7/aXTnzEgfa31f4FyRuwobkftkWAAAAAElFTkSuQmCC\n",
       "\" style=\"display:inline;vertical-align:middle;\" /></a><br>(see <a class=\"ProveItLink\" href=\"../../../__pv_it/theorems/625af412b749a5d8a186b22c28c9a585b10562020/dependencies.ipynb\">dependencies</a>)<br>"
      ],
      "text/plain": [
       "<IPython.core.display.HTML object>"
      ]
     },
     "metadata": {},
     "output_type": "display_data"
    }
   ],
   "source": [
    "%proving qmult_complex_ket_closure"
   ]
  },
  {
   "cell_type": "code",
   "execution_count": null,
   "metadata": {},
   "outputs": [],
   "source": []
  }
 ],
 "metadata": {
  "kernelspec": {
   "display_name": "Python 3",
   "language": "python",
   "name": "python3"
  }
 },
 "nbformat": 4,
 "nbformat_minor": 0
}