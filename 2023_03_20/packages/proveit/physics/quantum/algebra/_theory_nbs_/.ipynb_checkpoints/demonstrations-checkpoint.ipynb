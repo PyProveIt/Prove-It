{
 "cells": [
  {
   "cell_type": "markdown",
   "metadata": {},
   "source": [
    "Demonstrations for the theory of <a class=\"ProveItLink\" href=\"theory.ipynb\">proveit.physics.quantum.algebra</a>\n",
    "========"
   ]
  },
  {
   "cell_type": "code",
   "execution_count": 1,
   "metadata": {},
   "outputs": [],
   "source": [
    "import proveit\n",
    "from proveit import defaults\n",
    "from proveit import alpha, beta, gamma, delta, j, m, n, b, c, A, B, C, D\n",
    "from proveit.core_expr_types import b_1_to_j, f__b_1_to_j, Q__b_1_to_j\n",
    "from proveit.logic import Forall, InSet, CartExp, InClass\n",
    "from proveit.numbers import Complex, NaturalPos\n",
    "from proveit.linear_algebra import VecAdd, MatrixSpace\n",
    "from proveit.linear_algebra.addition import vec_summation_b1toj_fQ\n",
    "from proveit.physics.quantum import Qmult, Bra, Ket\n",
    "from proveit.physics.quantum import (\n",
    "    psi, bra_psi, ket_psi, varphi, bra_varphi, ket_varphi)\n",
    "from proveit.physics.quantum.algebra import QmultCodomain\n",
    "%begin demonstrations"
   ]
  },
  {
   "cell_type": "markdown",
   "metadata": {},
   "source": [
    "### Make some assumptions from proving that the Qmult examples are well-formed"
   ]
  },
  {
   "cell_type": "code",
   "execution_count": 2,
   "metadata": {},
   "outputs": [
    {
     "data": {
      "text/html": [
       "<strong id=\"all_instances_in_C_nxm\">all_instances_in_C_nxm:</strong> <a class=\"ProveItLink\" href=\"../__pv_it/demonstrations/af3c2902573b75ab19a42e7920623b865c28bcde0/expr.ipynb\"><img src=\"data:image/png;base64,iVBORw0KGgoAAAANSUhEUgAAAcgAAAAZBAMAAABHmqPnAAAAMFBMVEX///+IiIgiIiIQEBB2dnbu\n",
       "7u5ERETMzMzc3NwyMjK6urpmZmaYmJiqqqpUVFQAAAB6qHgnAAAAAXRSTlMAQObYZgAAAAlwSFlz\n",
       "AAAOxAAADsQBlSsOGwAABUVJREFUWMPFWGtoHFUU/vYxO7M7u5tdLYqmBAmmtQ1KWioJktq1SkGk\n",
       "YYq1UKxmVaqCIqkp+qOoA2q1FMzmR0uhRSOh8UfVruKjasAp2Igt6KIWEbXdaFrwSYTGaCHEc+/M\n",
       "3LmTfWQScTswd86cc8+de95nLtDo62SDv1dE46/U///RnYBuirfdl0DIrfKLuchFtBr45OiOZiCU\n",
       "wyhw6tNseelDhMs0XshHJThUWuQiiYqNKxtWDL6Q2zZsRUhx2WgGyslu3IwWIrUBZTbl+4bJqHXw\n",
       "h36bQePXwJbV8k4fuKYus0dfOpfU0o27/yo+fxWaaOHoIH1oUwHTeIeRgA/ZlAMNE1LP8UdPPxlR\n",
       "KRB0UKbG5wlYQY8bc5a9mtYdK2Icw7CFRDqjduB6AnoNPM3Um2+YkE1D/LF2hHapWwTN+Kjz+K+g\n",
       "J+doY1eM1ksX0YmPVGAJWznSF8prk32kEIvrJFpqmJDPcBMkptgYEZB7HTXqc3v0G52ovr91BXue\n",
       "izFvtrRJLP/GSTwDZMtknpSh55EkoeONyzuX8THKY+tbAbnX+nm4PfohOwENOlLn99rvZSyxWAlJ\n",
       "m3gTcVMbJ3qI0sDq1tY1jRPyZ+5sP93A3I1lhfh4i+RGL2d/r8vt0Xv4uMeRUSvvrJOKyVneB7Yv\n",
       "toFIBSx0XsZ/0I6tjGuN3n3K3172/MforbeiQ6c4w2eQE6aae702lzoNvER6gLpfoPZXmSbhnBwV\n",
       "uqXZZC1aMEbdswUfB9g+eeo7a2AVthUcnU0hktncc65mt8TowHICv+KIgluYiq/WqVoXgZgRpYw3\n",
       "IXATVeZNzBUycQBaF5RyQMZEzkW08/EsH2+i+wPggpp1AlMvoClXxNs16w+jOwmM65BCrXUZ39Vz\n",
       "dexPQqYyLO90ClxnlXmdc4X8ku73oA8FZdznt+R6IeS1SMwg5QgZzuFo6aJj5yoXp9vgMN++KH3b\n",
       "Y3UsOc1sfpx08meLE8MeJHmdhMsLvi8QDsy40S/kY3DddQb6lBCSyuDHxonaQnK60lxytAyI1HyE\n",
       "1UkMVY9JFvQbSc2htpCTUTxI6jElHBcyzYLhVuwJzPidiznPx1V8vI/uadxpcSEVJkSf0m3bubJe\n",
       "CrqeYh8f48is1/GUuTfXyq54lugxK1nQeJJl0BvNfp0wHHTDEzKS40YZCcw44mIud1OBUwZ+wyPg\n",
       "QvbSDtNWjHSitlEahY3hg3jj9LuibvmhAiTKzxUHzXvaa/yasHY53cd6IL38VBvfP0EdyqRvGsP5\n",
       "LBmxuBecCcz4hK9nSdmzHqf73jssW8gwLaJMjLIfQJrSSneYCcMHtnuPHmfd4ErbvOcPi7+Qde01\n",
       "qo/YexMiJbS5kKl2+GOBcMlTkpCxYsIIW2zrARmFu0aGvM+G3djjMXlalAPNRKrSX0+LRUkYzYnG\n",
       "xAa7ravb1Vtu3jLG+I/XZhuKDUHJ0QsfbNyLW+XE03XiSirl4cCMWfkv5IzjZaLL5kK6VWb3k7sM\n",
       "RCv3KqpQP5zePuDV6ypMfSvD99pf4hB1Qepa9JtqFw0O7hO5hOwd/8MwETODMj4sUh2Zepl7OuBg\n",
       "tdsv0E+u2xWtm50FNlUmHtE1tSzwTONz3xvzOq7jqEErpgTe1vsvvo4HR+irbo2fl9EraKDm8/gx\n",
       "B94iJ+IafWAl/ZCstADXdfLLjjUlJLhpX5kl/zksUrAh1yR3uwM/EvpYQEbpXEk+49EWcfwSf418\n",
       "IbSAw6HKM56kB1o+XOiHol/I+EpuuWCM0jFkKvcfjxaajYUxLMCzU79WPWAzgjEal/Dc9V3gX6bx\n",
       "drj/oF3ZAAAAAElFTkSuQmCC\n",
       "\" style=\"display:inline;vertical-align:middle;\" /></a><br>"
      ],
      "text/plain": [
       "<IPython.core.display.HTML object>"
      ]
     },
     "metadata": {},
     "output_type": "display_data"
    }
   ],
   "source": [
    "all_instances_in_C_nxm = Forall(\n",
    "    b_1_to_j, InSet(f__b_1_to_j, MatrixSpace(Complex, n, m)),\n",
    "           condition=Q__b_1_to_j)"
   ]
  },
  {
   "cell_type": "code",
   "execution_count": 3,
   "metadata": {},
   "outputs": [
    {
     "data": {
      "text/html": [
       "<strong id=\"defaults.assumptions\">defaults.assumptions:</strong> <a class=\"ProveItLink\" href=\"../__pv_it/demonstrations/c084ef76c98a4cb71e0011d568cda0015e8102cc0/expr.ipynb\"><img src=\"data:image/png;base64,iVBORw0KGgoAAAANSUhEUgAABq0AAAAZBAMAAABZb3lQAAAAMFBMVEX///9UVFQiIiKIiIjMzMx2\n",
       "dnYQEBDc3NxEREQyMjLu7u5mZmaqqqq6urqYmJgAAAB66f/FAAAAAXRSTlMAQObYZgAAAAlwSFlz\n",
       "AAAOxAAADsQBlSsOGwAAEIdJREFUeNrtHAuQHEX17e1n9mZv9zZCDASUqytETBD2OCNIIC4GUqag\n",
       "6hZiKH7CiaQS5bcgnwgWt2DEIxGygB8EJROuUCgssiEiP0kWRERRsxG0SvywCioYQw5ISEgRzve6\n",
       "p3u653pmP4mnFumq2+ud9+0373W/fj2zALAJ/jdbqlnEym7E2tP+uy1Tm2CBlf+U43b9rzpcslnE\n",
       "UmtYlryU3y16Ho+WLE4EUawA8OBuUHB3G2B3tmfUL8U2mRRbMMdiM5LVpmiis5ir3WNGsE/90C2X\n",
       "FgLpWwBbDy/yDfSua799xPEBlHduv96BU96sNYor+7Dh2yB+0QXhcWXCisspcUmA3pm1s/uiLytO\n",
       "Z5WD8GYCRAuwFmDjS/3ZWUvCVW6HiNsKEXH6mwGpOoxTLoyIcZeyKo0NoIr7LzRbNXS02iaXZ1sw\n",
       "fSZnZHF0m6LTxO5F6t1oRui7EO7dLoxrzXvUCQGHU8dhg04cfW/dXrdMzsJLddKvpbNgjzZer5LV\n",
       "DQCrGq1XBizXrXK+yVHR+77f1RPZaNa73DkaiIdTRn88B/amC+Ez0CfTmeWvTdp3SYtEMHLNpPpl\n",
       "YLAVIS7EL7l5ALpy0eXbJw1PgSAizl3IWuiPq3EG0MRRY3J+PXE5Sp39e+B0+vwp2Nf1KMC7zwkn\n",
       "lvBoHZo3/TR1tTlj/vt5EldodwSz8K8D/d0aNOeIxyDnl0XgzIZMNgQcTh3xhSSs+S06noyrqG8t\n",
       "eE/xLIDBxnEV+WC8DolGcWXAct0KNewI0PvKj0F3PqWYdv1oIB4OLn4LmnGkDFvgAYmRQHEH5Fsj\n",
       "in7WgWcONdmKEHfgt9NwMvAp143m21wNIuLchawd/rgaZwBdHLbH6ONbExZXl3MF9z7fXbs6NRe7\n",
       "vQG1hN8Gzd+vPgXvtDxEyiFJXBOtEwXQrJcyR+YJSYRH3FHZBUj3BIMbUEezvm1ChVao/YJo9y91\n",
       "FqEHHhq+bni4HhYxT+P97oDU8PCi4RtbweJuZaOLxqsBeu8Fc6BDAa7eFoT3O9dtIZKLDcIhEmMI\n",
       "2b9QaYnIvhbjMLXNaKtILj3oxpVPuQG8lBoMIHK5u7LSg/648hvAJw7bsXK/MCGNzzGJX5EamPNC\n",
       "t6bg2w2oJXwjNH+/VnnT/j000POot7b9wgvedBsnpW69AHNkby8L2Km0WtiuX0dxkDw4otf2fmgc\n",
       "uAG1/bYOjTik/n3+DMTlDFNexN1MT/B6JRAjV+e+yCfcUmtY3K268orD+PU+F46EoZhkFr9sCxiH\n",
       "fy48ilgzyAMS+WjJGpUr1Gbsbc4FMDcTdX6e8vNBXX3XVol8qpLHnQHdb125jyN1+p0AIpe7K4tY\n",
       "6HElDGAWJ6bfeHXC4mon+3yBuXpC9sTeZUeDvY2EJxxo2vSdnhffTB8H0Mdg+0Ogu3gHzndalvb7\n",
       "o0T17CrVSQGeYGjpWxwDuAE1LHc0aNIyrHOSM0yJ5GeExJVEjBT3jhaC4ioMi7tVXElw/Hpboziz\n",
       "vezV+b8QfRtMw0e8A59098FDOANmSnJkdHe+WQxgbiY6u8pWDE2QsNUQdJyY53ULn3LLieXWACLO\n",
       "XcgiFnpcuQYIEMemX/S6zgkLqxiPjJPZ589lT9y4nnBqD+7GSlOmT0nHSLHZ82wceFe5/TFgTMFD\n",
       "AIdTf/5J3IqWSEytrFqve27xvhzwRccEfmK7A88HUz++vqTxvjimpp4jfRpnjCsoJWtaXKX7vj/v\n",
       "y7H5N+iIkWISbtAj5tmplx2Za4iFbjWyFuPqcNoZG0edzqLDXXyU1LHS9Y5x+Ig3o05120gRNkBn\n",
       "0dpLjmIRwMoDg5gbiazX2eKe19QXttoA0bNYnX2KX7nt5I6vBRBx7kIWshAGiOUhvWKpMIBZHG/n\n",
       "9PYumLC4irLI+Ms5+4mc8Kb+/ZWty159oSunB49nmzd9VK5NQ8xF1tXczVG8/yWF+bxZ4SVYiX0S\n",
       "/n0UYF/8d0nNXmiRSp1FeVTyZ4WmkNl0IKgbWA2cOe/kLFXXAqgz5QibhST0+LSaP1YSdX1rPAVO\n",
       "sKdpcRVP7gWrNsFTmgpom1jlzju1iClck7O3NcRCtyo8hcnOxx133x4wam/xq8a2Bg/fPPFu7++7\n",
       "oynm3o15A3zLyDhbmQQRVWZrS0RoAFzu5m6aLAoXYZQ/BFg6YXHFiwbwhpj47becVd4Zzarb7G1h\n",
       "1B48U27e9F72uI5F5YoiX++sQ2jZEe2Saip0l+lhv8LT12H891mAZVGas+SKb1XUMwAqprBO2QRe\n",
       "DLAklg+kHip2sfVVQq9KK0cG0SLfmpaVuMpUn6Y5RKY6f+ooUR1gs6YCzTn/6rqOhaawUO1gsLY0\n",
       "wkK3ilXvh39Q/p6qQfCovWoSWK8FD9888eINfqreDHPZOhSfKRttZRRE443sbIkI4+pJqqAnhQHC\n",
       "KC/G2b75wNCfkflZk6uUV2bnmQ2/h4dgPrYDEp5G6x3y1ODG4bTz7Bps3vSxLaJ3GIWA/SbdC/TJ\n",
       "joIq7QOqIqa7VxCyafofyMNNaIxRgIfZfmNOLzY2tpJyjkKlsxeYCpgU9B7sB2NKMhINpt7H1VxC\n",
       "k5aSB9pkDZUzxhVMjWj7RmdVjbAe1lXAiIk471XxbHsn3YkGWOhWNtqgQD4QywbrrVRjHl29PXj4\n",
       "5nMYHEB8SzPMvcr8KLeHJkizlVEQUXUPtkRECzZkHGmAUMqkQ2njrdILbzV4pndN5Bgz+h9kzyTN\n",
       "lZP8XMN0L67JKa+T3Y8ufqpxAXpmGboL9isuFB1gqz1/khM0LoKjh+MUHxtt3vTWTtF7ky11lPIn\n",
       "cLpZR3Luc6ecFLnVXSdNDeTCsJnsAVpLajCdn7Wcwk7i7pZ4S5WqQTrPMka86SUTmO7Ul4Kp33FH\n",
       "ebd3pzQT369zprhaaes71PXMZgt0RIwYO3unhoc3hGcSoVjoJxh9BRgRx39mvbVp5fXQ4Y9v3egg\n",
       "mTeaYK7MeMxKT+qCfLYyCCL45npLRGiAHC0SwgChlF05mvYny++TDQwn++Pq90W4vAgr0fwyTiOG\n",
       "WBfXfittUFHqDxewVeCF6uzD5ZqRfjsFqcDqBcFdjx1s3vS2jKte+vhe2Y2rRTRj9LvCKEQw/O8P\n",
       "5LJI9qiSjwsBrlercm4xSjkn/ANV/IEXjmgpu4b1ekxgwsgFUttb3GxXQtPskCTtWUPjTHEVy+m3\n",
       "d19ms222hogRA7OT/vS8u+40wqLtRRm3k0eJDNw8ai23OSh0+OPbQF1kZw2YK2K2uSm3KshnK4Mg\n",
       "tLy9qDUiNEAFngN4RBgglLL8Iqvti3augeG5vrjq6mFltseomi2XY8O2X1zrdLT1KpkVeSDuEXAh\n",
       "eEIeT6V2dNesLcHHVyl3r9TV07zpPX4H4E4aflTkeaD9hseIhwjshKGg2oXtbY5J2yGWB3Yj0Sk8\n",
       "05U5ZOqYLFuG3V1XjD/W0m8C050qBFNvgc6qDl2zgS3atroMS87smbWPyLhiAhbQpBIpX60hJnGM\n",
       "0U+CipgoYL5YaIRFcVXKOOmaeOhyvN4ySaVGe94V5uGbLMxPlfDuDJRDmfuJLLo1ccdnDddWpuaI\n",
       "46tkuTUiNMBajKyVeWGAAEquy5m3UXWkzxF1kj5nfO1EXuNxRe6XGaVwHegXqZPXUyYF95o8IONx\n",
       "5e5kvoyembcv5J7KPel79YyDcWCbx0VwGPkxJXOlpk0PsW3irg1UX7o6zhw9maM8CycYiiuCdeM8\n",
       "WfsnDcwx33GGzWRTJWKgiNsfmloy6/hB43e8TcXtxR9MB/st7N5bh9/wWO+sGsBkmHww9Tx4HHRo\n",
       "9PoH7ScqsIqNMzPq40xo0gSMA1oSsZKFgobIOtJ5GCIO+2OZfCMsdKv0wjh7PeZMMOotC0ykBnvQ\n",
       "a3nRNHxjUYqp/k008+ecUObjiNbXIX06+Kzh2soUi8z2GPDp6S0SoQE6b/n6xg9LA5gp3Zt7Obpk\n",
       "dFpUPDwje0rdwbuWFPkFxAfpYeXDnZkuxOt5TVyTr1REWDwM1UTBOlJPVlhcMV3eD8t4lsjMRR/s\n",
       "suwweIWOvdyHiJoxPa8HMo7Rhbk4371Rnf4hgE+xuCIYhgj5+MlckC6W0TJsJvsBXg+kjdP8V49K\n",
       "zWNCVt4g4tE+9aLp6Ey9+P3JZ2e4kW/v8/x4sFcGMlLH+wt+6F3XvY7b2o5pnik9znPfLKmPNROH\n",
       "dA/gjUuvKaqIsRWU/XjPcRHib1DIv6ARFh2LHntqf9FLgMbpLdJ91NBe/pYDT499wzh80zaJRrXP\n",
       "2KRJt1bDmY8jsh+a9Bj47ezaytRoLChon2XFFonIAH8d+4CXAQZQ8psboRWxnilbrNxOvT/O1DMq\n",
       "ugYpx4urBWzpSZfooe5XYDGDYC/9k8d0ZQhK2WhapCf8LGk9//IJVGzyWjezIl1WnkH7yE843Fxs\n",
       "LzZddATcds6gS7WmTQ+ZQXED4NivnFxj787E0C7xs150WFwxGIYIXp7mGmW6Jp/ghM1l03T1d9+T\n",
       "IriFvLZXWy67HJHz8+A+1X3aSAGT7UOog3n/Qln0x3E2cmgeMQSLPW5wojZP+jXTNGzMNZQmkPmu\n",
       "ChpnmmaJyACpumoAM6UnIJFPZU+cJnqD9qhvm5TKauvVhSwV6srSzmt1jD+qg70Ef7FA3Zet5rNf\n",
       "STtLWu1ONnllxyJ1YeH9ixBd6djwkhZMz3V3OSZrURZ+B4KyUZPSaIYY75CKNijb6uEjSIS/oBkH\n",
       "La5MYLWgYwYHNOQbqW52GspvqsWbxmJxxZ5XSDZ6ca6dtwXaesOgHaI4tElEBuAlg3ADeAK6IVHl\n",
       "L1RQrxgb1GuSeC2zUYmrZfA8HMqiZRTOZ29NsJ4Fc3QBBH21or5aewF+ybrpW6aixJXU5Sq4wmQu\n",
       "T1faLrXy2Cx/5snlmMz+nP3fqMZVQR6DWUWT1QuqbDZh3RH4PLtoI7zOHAKm9ulwcEANJUdbxUOg\n",
       "kfzm2kjTWCyu2KgbvQ1g51p33HZo2iMagTaJyAAD0NgAnoAO52X2otJdvJesYc8uiA+6dsU9Slxd\n",
       "fvXI3DpLMqdlShRXiEY9uAE8Qn7NurKsFhhwc9KxVCwxX1XiSuhiLTnuEZO5pK4U8y09gM+eZxcc\n",
       "U2O8OigmHFa3ENIWH3eCY7C6pw3JpkoQPc/um3v8LcePr0LA1ErhYHOjs+TUzAa/Z9C0w+WaxmJx\n",
       "xdBnNcCOtuG47dC0R5Rrl4gMwM+EZjUpILYmx+JqTpX1fsh6C2FOkT74tb8pcWWt7ptqsbg4oZ+9\n",
       "5Rc7n/VSeYXQvZYpqMsmLmiZmeKbe/502Yp5ni6JsbFRk7mkrvRWUrKVF/j/ot6A2EF8V+we6Vmn\n",
       "bc150i4aGzNZ3dOGZNNkwF5W3B92vRXh/6hF5TyRhXdlIwNc2roBKA9kXhd3cm6PNd57nxJXdBA2\n",
       "IncHlAd2sd7pUVAI+bVITT3AjVQVgVY7MweldUe0QvBB49UvQHuy2fasowi78mrknvZuarMXVCHN\n",
       "tkorxnrcHgsh3uvR4sp6bZr4dZbYR88E9roDdI69Dgohr0HS4a1Xu7TLu6jld+e0SJDJ7TYLSdns\n",
       "9y3af5V/T3u3tUxQL/rLihZXcDMl26dLpLqBkF07+hn9t81+uosarnmkRYLFu886Qra7vdu0x1/2\n",
       "tF1sXe7PKug/D2Y3Jny8oqNN+O8HPrL7WdJR3r8BrPa1K7/BIZgAAAAASUVORK5CYII=\n",
       "\" style=\"display:inline;vertical-align:middle;\" /></a><br>"
      ],
      "text/plain": [
       "<IPython.core.display.HTML object>"
      ]
     },
     "metadata": {},
     "output_type": "display_data"
    }
   ],
   "source": [
    "defaults.assumptions = [\n",
    "    InSet(alpha, Complex), InSet(beta, Complex),\n",
    "    InSet(gamma, Complex), InSet(delta, Complex),\n",
    "    InSet(j, NaturalPos),\n",
    "    InSet(m, NaturalPos), InSet(n, NaturalPos),\n",
    "    InSet(ket_psi, CartExp(Complex, m)),\n",
    "    InSet(A, MatrixSpace(Complex, n, m)),\n",
    "    InSet(B, MatrixSpace(Complex, n, m)),\n",
    "    InSet(C, MatrixSpace(Complex, n, m)),\n",
    "    InSet(D, MatrixSpace(Complex, m, n)),\n",
    "    InSet(ket_varphi, CartExp(Complex, n)),\n",
    "    all_instances_in_C_nxm,\n",
    "    Q__b_1_to_j.basic_replaced({b:c})\n",
    "    ]"
   ]
  },
  {
   "cell_type": "code",
   "execution_count": 4,
   "metadata": {},
   "outputs": [
    {
     "data": {
      "text/html": [
       "<span style=\"font-size:20px;\"><a class=\"ProveItLink\" href=\"../__pv_it/demonstrations/af3c2902573b75ab19a42e7920623b865c28bcde0/expr.ipynb\"><img src=\"data:image/png;base64,iVBORw0KGgoAAAANSUhEUgAAAcgAAAAZBAMAAABHmqPnAAAAMFBMVEX///+IiIgiIiIQEBB2dnbu\n",
       "7u5ERETMzMzc3NwyMjK6urpmZmaYmJiqqqpUVFQAAAB6qHgnAAAAAXRSTlMAQObYZgAAAAlwSFlz\n",
       "AAAOxAAADsQBlSsOGwAABUVJREFUWMPFWGtoHFUU/vYxO7M7u5tdLYqmBAmmtQ1KWioJktq1SkGk\n",
       "YYq1UKxmVaqCIqkp+qOoA2q1FMzmR0uhRSOh8UfVruKjasAp2Igt6KIWEbXdaFrwSYTGaCHEc+/M\n",
       "3LmTfWQScTswd86cc8+de95nLtDo62SDv1dE46/U///RnYBuirfdl0DIrfKLuchFtBr45OiOZiCU\n",
       "wyhw6tNseelDhMs0XshHJThUWuQiiYqNKxtWDL6Q2zZsRUhx2WgGyslu3IwWIrUBZTbl+4bJqHXw\n",
       "h36bQePXwJbV8k4fuKYus0dfOpfU0o27/yo+fxWaaOHoIH1oUwHTeIeRgA/ZlAMNE1LP8UdPPxlR\n",
       "KRB0UKbG5wlYQY8bc5a9mtYdK2Icw7CFRDqjduB6AnoNPM3Um2+YkE1D/LF2hHapWwTN+Kjz+K+g\n",
       "J+doY1eM1ksX0YmPVGAJWznSF8prk32kEIvrJFpqmJDPcBMkptgYEZB7HTXqc3v0G52ovr91BXue\n",
       "izFvtrRJLP/GSTwDZMtknpSh55EkoeONyzuX8THKY+tbAbnX+nm4PfohOwENOlLn99rvZSyxWAlJ\n",
       "m3gTcVMbJ3qI0sDq1tY1jRPyZ+5sP93A3I1lhfh4i+RGL2d/r8vt0Xv4uMeRUSvvrJOKyVneB7Yv\n",
       "toFIBSx0XsZ/0I6tjGuN3n3K3172/MforbeiQ6c4w2eQE6aae702lzoNvER6gLpfoPZXmSbhnBwV\n",
       "uqXZZC1aMEbdswUfB9g+eeo7a2AVthUcnU0hktncc65mt8TowHICv+KIgluYiq/WqVoXgZgRpYw3\n",
       "IXATVeZNzBUycQBaF5RyQMZEzkW08/EsH2+i+wPggpp1AlMvoClXxNs16w+jOwmM65BCrXUZ39Vz\n",
       "dexPQqYyLO90ClxnlXmdc4X8ku73oA8FZdznt+R6IeS1SMwg5QgZzuFo6aJj5yoXp9vgMN++KH3b\n",
       "Y3UsOc1sfpx08meLE8MeJHmdhMsLvi8QDsy40S/kY3DddQb6lBCSyuDHxonaQnK60lxytAyI1HyE\n",
       "1UkMVY9JFvQbSc2htpCTUTxI6jElHBcyzYLhVuwJzPidiznPx1V8vI/uadxpcSEVJkSf0m3bubJe\n",
       "CrqeYh8f48is1/GUuTfXyq54lugxK1nQeJJl0BvNfp0wHHTDEzKS40YZCcw44mIud1OBUwZ+wyPg\n",
       "QvbSDtNWjHSitlEahY3hg3jj9LuibvmhAiTKzxUHzXvaa/yasHY53cd6IL38VBvfP0EdyqRvGsP5\n",
       "LBmxuBecCcz4hK9nSdmzHqf73jssW8gwLaJMjLIfQJrSSneYCcMHtnuPHmfd4ErbvOcPi7+Qde01\n",
       "qo/YexMiJbS5kKl2+GOBcMlTkpCxYsIIW2zrARmFu0aGvM+G3djjMXlalAPNRKrSX0+LRUkYzYnG\n",
       "xAa7ravb1Vtu3jLG+I/XZhuKDUHJ0QsfbNyLW+XE03XiSirl4cCMWfkv5IzjZaLL5kK6VWb3k7sM\n",
       "RCv3KqpQP5zePuDV6ypMfSvD99pf4hB1Qepa9JtqFw0O7hO5hOwd/8MwETODMj4sUh2Zepl7OuBg\n",
       "tdsv0E+u2xWtm50FNlUmHtE1tSzwTONz3xvzOq7jqEErpgTe1vsvvo4HR+irbo2fl9EraKDm8/gx\n",
       "B94iJ+IafWAl/ZCstADXdfLLjjUlJLhpX5kl/zksUrAh1yR3uwM/EvpYQEbpXEk+49EWcfwSf418\n",
       "IbSAw6HKM56kB1o+XOiHol/I+EpuuWCM0jFkKvcfjxaajYUxLMCzU79WPWAzgjEal/Dc9V3gX6bx\n",
       "drj/oF3ZAAAAAElFTkSuQmCC\n",
       "\" style=\"display:inline;vertical-align:middle;\" /></a>, <a class=\"ProveItLink\" href=\"../__pv_it/demonstrations/ba75e0a10e33b28b383c42c2259539aebf0b54450/expr.ipynb\"><img src=\"data:image/png;base64,iVBORw0KGgoAAAANSUhEUgAAAI4AAAAWBAMAAADk5rkVAAAAMFBMVEX///+IiIiqqqq6uroiIiIQ\n",
       "EBBERETu7u7MzMwyMjKYmJhUVFRmZmZ2dnbc3NwAAABtgPhfAAAAAXRSTlMAQObYZgAAAAlwSFlz\n",
       "AAAOxAAADsQBlSsOGwAAAhFJREFUOMulVL9LHFEQ/tb7sRvd1dUmYLWFInbXpJdo0MIQbUwTjP9A\n",
       "ZC1SRBCvCQgKHsTKJtr4Cwu7QCxcQ35AIJwBixgVVwhXpBER0QT0nJm3e7sqZ7FOMW/m7Tffvfne\n",
       "vANiVo9kdrOuKSFPyha2vf2PktZsJeRBM7udPOoKHLxJSoMHLlUPUfCCs++JeWo9YIaDDXZ9iXnw\n",
       "HOY5rwd5kqeQnGcWR9wWijnAZJmtxqXY55/N+TvLK+hdFB1e3/sk1hzd3WN8jWB/HHPozrkRtEHR\n",
       "Mp6R1NBPyaWJMb2FfoyGDT5Fxh7b/VCVR9BI05lbcSp6/yeXod6KxGo0diiYeUbOw+eqPIxWNo0u\n",
       "Xl4XAp4BmceAJ8NNneCoqkYDlegR3XjKwRdf9aUfx3nGedwXq/Mo9Mgnci2Ydpb+WoO8kaUy6i8l\n",
       "PDptNJDwdMZtld0wbknQXjtFC9AGbWtd+rTWwPL/Ep5x6pQuy8rD6FaZ/g+xQByjdXePoh/A5Kvt\n",
       "HPjoBpVbv+dd4UlTNfZXHgIlN8h6uXcvCNDlBmiaQaBTGspprA96giOLPm3hjHj1fpRFVlO5q0sC\n",
       "iaLZtXbZWI3zhP8hpYkpN8pioxwGBj1Lc07mpCxvDFlfnWDnwoZuB7CX5TKiLLKRMNBI1pJifOKo\n",
       "e4w9Au1akXb7virM/JyGr387TPDS372ln/Fxb9v8JssVD8J9soUmivIAAAAASUVORK5CYII=\n",
       "\" style=\"display:inline;vertical-align:middle;\" /></a> <a class=\"ProveItLink\" href=\"../__pv_it/demonstrations/039f53e584d7f6dc57678c18dbfd06eafb3778a20/proof.ipynb\" style=\"text-decoration: none\">&nbsp;&#x22A2;&nbsp;&nbsp;</a><a class=\"ProveItLink\" href=\"../__pv_it/demonstrations/08e367bd957eca5b9ae42173eaf96ed1340dda4b0/expr.ipynb\"><img src=\"data:image/png;base64,iVBORw0KGgoAAAANSUhEUgAAANoAAAAXBAMAAACfRUyCAAAAMFBMVEX///8yMjLc3NyIiIiYmJgi\n",
       "IiJERES6urqqqqoQEBDMzMxUVFTu7u52dnZmZmYAAAD1zdHuAAAAAXRSTlMAQObYZgAAAAlwSFlz\n",
       "AAAOxAAADsQBlSsOGwAAAtBJREFUSMe9VU1oE0EU/rKbzV83myiCHjwUxVPFri0UQYVAoUIPJZeI\n",
       "qEg9FFFLiQiClEI9eFKwWCniKSCCEQpBT0WQlQYvUkyxXpTK2hbxUEj8Q5BKnXm7M9k02WoXdCBv\n",
       "93tv3nyz7y/AP16JCrDUQq8EPbDdRz/Q320DR2FkEF65f1jtK3iMh4KyXW7SzA1t65rWj93BbUA1\n",
       "XwPlq5l4SS1xm7FoMRmrBGVTMxsVMxm9OqLMprHG0LwJ7D+IVMEghnfFcSafB8/N7g14eQwIj6DN\n",
       "jE64bHiCIjROg7tX+LetBGcb2FAY9jCTzxAvGHYBaoWffA896Eywl+ga7ZkIzha3nGdPLpdmjzZr\n",
       "kMkyOqE9LDhVotTY1/UZTJ3M8p2xdHC2kJO4S0ccGFFseo5CXaAOeIxoCdvRwezhmVPcSClMdvd7\n",
       "DmlEzUvak1RsikhfR2KTgkuZ4n7KCXz09F8DatGfZOe5CFNcQqLvpqMZf69OajpeMFoFkyiLkHKk\n",
       "Lz61/PxoNzTmHaOch4ThQNT0Z7vlZDoPVNnJie6sq+fIgJH186vKeyRqXBZzbA1S3jaJ5BvJNkXl\n",
       "Io7nKJVXfvr5Tck3aiu8EDBCNemzLsKNpP7Vy0YobPmyObtnP0kXTZJTv0Vbu006F2Kx/sb3cFed\n",
       "awjx/tCbfSxht6/xO9G3qDJby6NMfGhdWj9kFbMSe0tsr3ilEMIDi5D+Ga5aIm7Xrfeie4Bdck6e\n",
       "XdKv2y3ZYjUn04wkudBrEZt2Gi5Shl10hsfKFiJnuXbs4Ko8HfHynKibufPfl1oH0ig5z5OCnSfh\n",
       "pqxm7PGg+hVlPX5hv33u+9hQ7g8T6UZovHG0EpsoYeXCo9U68owRWfwTWxrox8U/TcQZBcr8LxO6\n",
       "SHh8fb1WR/U1K1PEIqMM/jVbrwiw7vFRG/8cm71M70COtAeY5HsD+OwsMtGF/7SWV7e0/TdqwbXa\n",
       "HSunjgAAAABJRU5ErkJggg==\n",
       "\" style=\"display:inline;vertical-align:middle;\" /></a></span>"
      ],
      "text/plain": [
       "{forall_{b_{1}, b_{2}, ..., b_{j} | Q(b_{1}, b_{2}, ..., b_{j})} (f(b_{1}, b_{2}, ..., b_{j}) in Complex^{n x m}), Q(c_{1}, c_{2}, ..., c_{j})} |- f(c_{1}, c_{2}, ..., c_{j}) in Complex^{n x m}"
      ]
     },
     "metadata": {},
     "output_type": "display_data"
    }
   ],
   "source": [
    "all_instances_in_C_nxm.instantiate({b:c})"
   ]
  },
  {
   "cell_type": "markdown",
   "metadata": {},
   "source": [
    "### Build some Qmult examples, well-formed and not"
   ]
  },
  {
   "cell_type": "markdown",
   "metadata": {},
   "source": [
    "Well-formed:"
   ]
  },
  {
   "cell_type": "code",
   "execution_count": 5,
   "metadata": {},
   "outputs": [
    {
     "data": {
      "text/html": [
       "<strong id=\"qmult1\">qmult1:</strong> <a class=\"ProveItLink\" href=\"../__pv_it/demonstrations/ec98014517e6a0d3f8983153cef35d4f0a9e127f0/expr.ipynb\"><img src=\"data:image/png;base64,iVBORw0KGgoAAAANSUhEUgAAAGAAAAAVBAMAAABLWfZ5AAAAMFBMVEX///+YmJgyMjJmZmZERESI\n",
       "iIiqqqoQEBDu7u66uroiIiLc3NzMzMxUVFR2dnYAAAB9mGmPAAAAAXRSTlMAQObYZgAAAAlwSFlz\n",
       "AAAOxAAADsQBlSsOGwAAAcNJREFUOMuFkzlLA0EUx//ruuvGrGvS2QhiK3gXWogBsVJJQAVBi4BW\n",
       "IhoQK5ttbDVWHoikU7stNIVFSKWICPkEkiZeoEYJIt5vjiyruDrwmDcz7zfzrgH8h1NWTF+TYIN3\n",
       "dV1WKrN+QEVRzJnhLhfQAL3VD5gTgBlDvQtYJCk/oOeVT8vApgsskVz42FuZNz7HCHWBGZJ9H+BA\n",
       "e5KAvusCeRab4zW7uy0noVV/YFPgdKjR5oAxHEJeS0FnFKZLNtaBw6SxGIxzw7j5IcIMb2Y5YOkJ\n",
       "I6Q9i6iV+Zsc83YB6NPYhVARfJd5USIcOFJTioME0C0CGTSzUCmT7Rb3aKSjpyTzEihywK6K0RFV\n",
       "4YyWY3RCRamiuy6vmJ1Bz70wZYuqlRBBz9kW35+VaUwDK7S8jwuPgB2Zl8qcANqRBvO3SQJkXEty\n",
       "yVerJC1MoYY6dgTQiTpsUI9FJEB3qREovawdg8yLKBkabQjsyeZbc/JKkgzjEmDJuwuPqQUyiz7a\n",
       "mPpsplY7GS2Uu9U87x8nrVoWSv29QbztbfK7J+VOzf+AqNCA3Nn+FVjyApw2Gn5+qW9j69sL/A+F\n",
       "5E4Ef44J/HSdcvgFqONv6UFyzbIAAAAASUVORK5CYII=\n",
       "\" style=\"display:inline;vertical-align:middle;\" /></a><br>"
      ],
      "text/plain": [
       "<IPython.core.display.HTML object>"
      ]
     },
     "metadata": {},
     "output_type": "display_data"
    }
   ],
   "source": [
    "qmult1 = Qmult(alpha, A, beta, ket_psi, gamma)"
   ]
  },
  {
   "cell_type": "code",
   "execution_count": 6,
   "metadata": {},
   "outputs": [
    {
     "data": {
      "text/html": [
       "<strong id=\"qmult2\">qmult2:</strong> <a class=\"ProveItLink\" href=\"../__pv_it/demonstrations/0c73256043b53c6764b287879ab8abf235377f520/expr.ipynb\"><img src=\"data:image/png;base64,iVBORw0KGgoAAAANSUhEUgAAAKkAAAAVBAMAAADP89MSAAAAMFBMVEX///8QEBBUVFS6urqYmJiI\n",
       "iIgyMjLu7u5mZmYiIiKqqqp2dnZERETc3NzMzMwAAADeqXKjAAAAAXRSTlMAQObYZgAAAAlwSFlz\n",
       "AAAOxAAADsQBlSsOGwAAAqxJREFUOMuNlU9oE0EUxr9ms9ltNhu9eLKVnDxJGwIKetBIET0orNBa\n",
       "RLA5iD2JK1jx4CFgkZYKFr3b2FNFsAuai/VP8KInGy8epNBF9OJBe1CLRVvfvJlNN5vd4BxmJ2/n\n",
       "/Wbm+15mAfhQrYluzW6N/MibOIDdCEZPoqAP4R9WMRi9iyzXDrBv9RHdqiVSL6u0+pTbojrAQvus\n",
       "CMBCiWb3Ioma3ZLPL0gXWlQvnMEtAki5ol9IpJqDLJThQZsNqIYT3hxiAHqhXaUo9cUr9kEnfmuv\n",
       "WT8sJGIAxoboKklU2xmrKerDlq6W6C6Fp3UAlmmyXga+AQf+uErspYFAACyWxfPwyt5xWQMTk0Q9\n",
       "CzziXc+9gRYDmF9sSK2ryF8oeRy07+FK8yNTD+G7x/6kh+5LqvcAVzHmSn+OztwVx4gC0pXUOlBi\n",
       "rVJAg4M9DnLVUaZWsVpQrp9kar42jVPooVMUWdycT3uMAlab2U3gJmt1XEBE8A7lVHiL+tupwYZy\n",
       "/QhTDeyiJUwgT6vpLr2hV1HAPuSJOsx2OCJZBPtozm6uuAlgBxUUNHL9tFQgu05Uimc9VSTCzQjg\n",
       "B/JrwDVhC2WaLLbxk9I3lADo3alcfy2pZsWugeTJqD98XXQRwCYpC+SaMMsmjAFZGIIqWNDI2gyt\n",
       "igyduF9RG2lXI01XVJUsiS4C2ESmJk9z8czn6aIM3gZOrInify8S/lJ3vYyDRUnV+i0M0fCZor7k\n",
       "CmsH1DEvoqRdeu63p4rYenrMnSETbmyNI7v8i8KP959zgjvr0/ORpkwJROoEjLDoYuHJ+DsruE62\n",
       "b8KvvLuqCnHhxQOESHv+lzqqlOSmecmAjMu1kEQ1nDDVU66H7/FYQNqBPptM1fwwg5cYVpFcN0AB\n",
       "tsw83/W7pftok3P7S9YJ+Ade89AuKbzfqwAAAABJRU5ErkJggg==\n",
       "\" style=\"display:inline;vertical-align:middle;\" /></a><br>"
      ],
      "text/plain": [
       "<IPython.core.display.HTML object>"
      ]
     },
     "metadata": {},
     "output_type": "display_data"
    }
   ],
   "source": [
    "qmult2 = Qmult(bra_varphi, alpha, A, beta, \n",
    "               ket_psi, gamma, bra_varphi, delta)"
   ]
  },
  {
   "cell_type": "code",
   "execution_count": 7,
   "metadata": {},
   "outputs": [
    {
     "data": {
      "text/html": [
       "<strong id=\"qmult3\">qmult3:</strong> <a class=\"ProveItLink\" href=\"../__pv_it/demonstrations/5e619be3689aadb5327ed0cc441bb636aebdc83a0/expr.ipynb\"><img src=\"data:image/png;base64,iVBORw0KGgoAAAANSUhEUgAAARQAAAAVBAMAAAB1dQxbAAAAMFBMVEX///8QEBBUVFS6urqYmJiI\n",
       "iIgyMjLu7u5mZmYiIiKqqqp2dnZERETc3NzMzMwAAADeqXKjAAAAAXRSTlMAQObYZgAAAAlwSFlz\n",
       "AAAOxAAADsQBlSsOGwAABFBJREFUSMedll1oFFcUgM/uzu5MdnZGCy0+tMqyD5FW0I21BV90RNQI\n",
       "AafF/ml/UrAN9M+pEPHNRcUqCXRrfAmCpg+C0tIM2lCotK6CSAsx8yIUlTKUtg990CCNNm3S9Jx7\n",
       "Zu7uve4+pAs7d+6595773fN3BwBiSH4RqD8HFv17ZInU6WoDbpslTiN9u6jN3sXj/YtAyfmaQOos\n",
       "xerAnfTFrtLzp7cn8XWsA0oxFE1hWt+vb6FS+SDWpYNXK95t2ClPOHEskDrzqK2mTv9WRQlzKwG6\n",
       "oAPKfm7GH0GBpwCy/2qy/BMBnDsJhSDp/wZGWeq08V9X59dVlJX0ONcJ5Qg3h+aT/jp54Bn0xF+q\n",
       "0PwBzWTNg5Ec3gwhV5c6B1vNwCavqSgv0uNGJ5SlPPN2ev6z6YCBEmNGFRaWUaTgkmWQusRqWuWr\n",
       "1uDQQodRDmKYmP0dUIo8cDP/t46SRZcVlqvCyxRxLh51j0Q534wVirpC1Mb7EqX0ENd4AHcBnp8L\n",
       "eJl9aTVPsThqa8U/dZRMA8ynY0XozAqvoPACCzbc6R7g45mvehDm65wFxTPXIUeIGN5uDLm91xml\n",
       "+MwcR20N3D1rQ4HijMDH0S1hck9k55j7j45y79pL3Z4qtGfSwa3chMbm04xiF5eaXv4hB+qmoRNk\n",
       "MNGxAH7fvIpRtsKaANYiUgxZgIZAyfhQqr1Ck7tEklvg3NdR3oqg+Lgq7EpjGz6H1CV9jPKHVTci\n",
       "CrzDooaV4rt0wrIIoDKUBIozD+MxTcBU20amIZRPcfd+4ZqM8OHrxw7NUXt8dPSx0dETYpsrFBux\n",
       "IsyIjDfJZJxAWOo2MkqQ8W3SDr9gNAQ4QlXQqhKtEeBRCSXbgHsxOQ0t5tPii1wy7CcDiUIqZ3Wr\n",
       "kJl2+KpVptNE6eGqi6QvJKkwHthCzxc89TuyNkWoTxsPCpQlHh1hPzkBV1oibE30uc0pIxyE/oTP\n",
       "NBSX4nhNVRFa82minJc17WqCchRukTngQ546IazWT4baAPCJQDkYU4yVIrA8C8zVnHiEwgWl5CcV\n",
       "bK+Gksdt3QeqkKoe2GTNPi4zOGV5gjKM7n+2edddEs9JKqE12BezVWJ4j2+ad1/+9XiVUYYBeqdF\n",
       "otoYWQ5RTUVaNUNhz4DGN+5B7ht6GRLdAx6sryYoPVFoVJt33ffiid4qvPNR7wjXFdsvljmtjDOz\n",
       "YVKO7K+3BEMiDtw6mFMPAvhy4X1l1+zU/Ur3j6ChmMOVw+JlhMvrc7v9tGy6q669Ac27jis+9bYv\n",
       "nEpL3MTu9Io80q7wn9YuvLPtvgp0oVOX5VXqdMda77oyBxPKLK9ZbeWHw4p2KL3aLuvaoehCVq+i\n",
       "5IMkOkRuhfIrKRNrKHitu9PtUErR4r/ikkvP9FtR7DRnWnceSEtQC4qB+V1vh2I2/gfKpCwrLVaB\n",
       "pJKIAyYDWwBe01HQeQ6vfFNTe3PxJHndklJnVvuUxf7PvCTF/g/ocCbKRxq66gAAAABJRU5ErkJg\n",
       "gg==\n",
       "\" style=\"display:inline;vertical-align:middle;\" /></a><br>"
      ],
      "text/plain": [
       "<IPython.core.display.HTML object>"
      ]
     },
     "metadata": {},
     "output_type": "display_data"
    }
   ],
   "source": [
    "qmult3 = Qmult(bra_varphi, alpha, VecAdd(A, B, C), beta, \n",
    "               ket_psi, gamma, bra_varphi, delta)"
   ]
  },
  {
   "cell_type": "code",
   "execution_count": 8,
   "metadata": {},
   "outputs": [
    {
     "data": {
      "text/html": [
       "<strong id=\"qmult4\">qmult4:</strong> <a class=\"ProveItLink\" href=\"../__pv_it/demonstrations/e3b4684c6131985a3c0f930cff0c9afe9ba7e6930/expr.ipynb\"><img src=\"data:image/png;base64,iVBORw0KGgoAAAANSUhEUgAAAhgAAABLCAMAAAAF3w5SAAAAOVBMVEX///+Dg4POzs6/v78QEBBU\n",
       "VFS6urqYmJiIiIgyMjLu7u5mZmYiIiKqqqp2dnZERETc3NzMzMwAAABTzrOzAAAAAXRSTlMAQObY\n",
       "ZgAAAAlwSFlzAAAOxAAADsQBlSsOGwAAB3VJREFUeNrtnemWqygQgJkZWWQTfP+HHWUTBUm6RyWZ\n",
       "W/WjTw6iGOqzNiGN0O/Ezk4wArlNpJ/j77ppO2u6CAH13SfrBFP8dWAY0NwjdAAYIAAGCIABAmCA\n",
       "ABgABoABYAAYAAaAAWAAGAAGgAFgABgABoABYAAYAAYIgAECYIAAGCAABgiAAWAAGAAGgAFgABhf\n",
       "BMY4nwgDMP5oMNTCgM0buCEMD/M8ABh/tivB8ywrUyRnBWA8q+WixXQFY92DVdvjJqYu02N6Dvga\n",
       "DPOOQn+lcFPOtyZdwVg3QNIaGT0iXva4nSLsJ2BUdDW1yWgr3IhxmNxEa/VpYCC2kFEbgD6jGaE1\n",
       "TxGP7sAifQGG0UwIXtGVR0qJNkpNhS/fl2B3bYk+Dgw0VcOMh0RjO8S542OPOxh5Ewy76p/iiq4C\n",
       "xe25ayscx7FreHUHgy9JiOgFxqDIFGdH0B53QEULDO7UT2SpK85ObUKW9bUVznDDIXUHA5HFmXRK\n",
       "QsjMM0g6sckbYHjti4rFUPY0imhHINlFeJj3qq3sDwbS8zzwPp4kM7Vq7APGSF+BoWQlxkjx0Hiu\n",
       "npcKn/yDEQId6zAi4+yM6NZP68Xj9gBjLYD20ArFg8RiC0PTRDBGz4L91rG3UCzO1/gcDGLNhMcU\n",
       "hjhdceZ83nK3TB5CZiW9TgnfRbZnCldYzVMWibipsCMlWGf9jCSrvzfIqMfBWMMM3eNpzUvv8ck1\n",
       "Up3WUVrH3ipbZOdHPOh4DoZef1OFSJuDoZFanB6na0K3zyjoILTEyQG9ULgbGK+XIDhzTu7zlPUb\n",
       "3NUmgRh/HIyyNP5QeSkfVIYHQuowG5wWZiwe44txxb/wfuna6+cwthqaYKwHpgwMq5BYFE5NiooE\n",
       "yaONJayw4cpthZtVr2qdgXABNxjlEaXQT/i7EiPSz7uSdfgeYYbKVTHEieAxUWSyuEu+PYNC/uJb\n",
       "8pqrPgUjZB5kzsDgniydTAGywRf5J3o5JxqMpsIRntzgNnkclv64cUO/wVOpB32893/mvx/Qkezx\n",
       "RjWPPSMYw5S57GMCEY/N5GBu3kxAak6IRIvx11yGGF5jwy5uVCteeuPmUJfTKRZoKhy5grOjMsSo\n",
       "Io0otliEB7XoMnF8Zj2G6VHlmvLXNN6V8IzPIxjbsfX5+zkY2bWXCFIdRykthj7cptfVYtV9IBic\n",
       "/iEt0eyQlFQVvtyMTQGOL4uvMe3al/sUJPSLYAyoDxhs6PByZMiN1MS2B2mZyVxl0Yhmx6K5ecv/\n",
       "leeLLTtOEUQJhu9i09QEMCZPJiHVQobeDEhL4ciBMarM5owjGy0VkuRprQ+V6RJq2B5gkD6xJynT\n",
       "Rj8R2mZg8JhMZ8eQdcWFdCh9qDSV53OOtDimyQUY3OWlRJJ9CYIsoKzpCqmXPvU2ky2FO8ui8C59\n",
       "oYtDl/pQ79Ca0sU2Cc06gGG7lD53seei6d1E5BZDpgpTOmZCJT0dkqkgkj5tH8rzt7pW0nsBhrKE\n",
       "sVwfQVcW64kxs89Jtwg3d48Nha8lldQWpj9/K/ABlU/Ehy5L+cR+JYg8Gq0txlBHj2GW6TemeqiK\n",
       "YNkpzqrZyhBzPcSo6Mpuz1HxOiT/Uu8qPLqjwX4WGGOHl2iLFR33ZoqKUzB0MZHWWv8y/K3CXNnJ\n",
       "xmBu09kPwMhqTdNBO0T/RuG+uGpn9FFgTD2Wa8mpeJOwn2OjxznYcX40aEP66W/+jq2rdIovNrPQ\n",
       "8QhGedbmBdAh8zjT57sKpz6nlR8FhpA1a3x30EFZsUiMnwHaUP5bPrDSKYYYGYxHMIg9txjbpY9r\n",
       "BabfKdxxavIRme0MBq0mqrRHNGoeCnVGEj0Jy77766V9FV0VC2bNf1b4+xnDrWDUE1X1v94/IJio\n",
       "GEnYPrCvJVRMAxf91nT1EwCjnagahfu8awUwPgiMcR5zkdLH+x2XBwMYnwCGONu7SgGMPzzGAAEw\n",
       "QAAMEAADBMAAATCeykrOD6lrR2UAxjeBcXhrxTSLr7Yu/wfAAsD4VjCIW9Vq3Ds1fvl/DCcawPhO\n",
       "MOKyGLcwUlz/H8NHDmDcBYZmtFw8UmmrSbVfBkZaje/mR14/olYAxk1gSLKtSEONtprU+2Vg4LgU\n",
       "ad3BYMbrR1QCwLgHjNXGc7stkM7aiGJt4x/PDZteKmAMMQYYl/CCTNePSCYA4x4wwh4+q7KleHFf\n",
       "37p5onWRgbyKMQaaDRf2O1w6ogUwbgJjcymbmkKbQS/MezyX7pdiZ7qahP9dB0k3JV46IriSu8AY\n",
       "/a8zRDW5n4dKbWgiqXH/J+9nzH5Vcx58DoZyZsMiWXn9iIwBGPeAYUTYRuXV5H7uLrUJn1O4RrfZ\n",
       "Mv3Z96P6LF01ArP1RyfcaH7x9KUjTgbAuLmOEQ17lv9pHovOlaQwb8LktMC1Bogi7KY4lKMuGJF/\n",
       "eojx9WBYNviSANkc/5hW45GyjLRrkqgFhplxYCDf9HHJiMIAGHdbjPhF3mzcmpg6RIDFUzymLb6a\n",
       "XzoiJQjAeAiMn4vCh8ygdWV+6YgcARifCwbI/wsMJxg0d5/IOe2S/h7h1AkB9d1oLLz0GfxfRiZn\n",
       "iPFM9sgAAAAASUVORK5CYII=\n",
       "\" style=\"display:inline;vertical-align:middle;\" /></a><br>"
      ],
      "text/plain": [
       "<IPython.core.display.HTML object>"
      ]
     },
     "metadata": {},
     "output_type": "display_data"
    }
   ],
   "source": [
    "qmult4 = Qmult(bra_varphi, alpha, vec_summation_b1toj_fQ, beta, \n",
    "               ket_psi, gamma, bra_varphi, delta).basic_replaced(\n",
    "    {b:c}, allow_relabeling=True)"
   ]
  },
  {
   "cell_type": "code",
   "execution_count": 9,
   "metadata": {},
   "outputs": [
    {
     "data": {
      "text/html": [
       "<strong id=\"qmult5\">qmult5:</strong> <a class=\"ProveItLink\" href=\"../__pv_it/demonstrations/19f2762fb3a49433095cbe8e1577b9c4cbe0f9300/expr.ipynb\"><img src=\"data:image/png;base64,iVBORw0KGgoAAAANSUhEUgAAALwAAAAVBAMAAAAOdJm+AAAAMFBMVEX///+YmJgyMjJmZmZERESI\n",
       "iIiqqqoQEBDu7u66uroiIiLc3NzMzMxUVFR2dnYAAAB9mGmPAAAAAXRSTlMAQObYZgAAAAlwSFlz\n",
       "AAAOxAAADsQBlSsOGwAAAypJREFUOMuFlU1ME1EQgKdsd7tLl7aIB40xFK4m2upFSdAmeENTUCHE\n",
       "mLCJJiQelIMmRjxUkl61ejEhmJB4QBoSe4CLB4IXjVFiD9yUpAcRPYBiqlEUcGbee+3+EJxm3s52\n",
       "Xr83b968KcCuEsWPkvmd3C4pKcOWnmhgetL3RT/ECso+E8T3u1++KCOMgVg9Qj3S8E08584f56dR\n",
       "UXiceTlARzfo2erS6fcevJHCoVeqW64LvN0DB9kYBYVHUGMAP0pDHHfc6rjxMEGR5oS6pfMPP+4B\n",
       "jLGRVngTo485cpaVkEaahnfo0oY9+E+ooZRQl8Tm/qpMdLIxrPAGpjOaUZtXOSUoDFKm1z34GRpu\n",
       "Sa3LrP5T4o2nzEkqfIyGQz68wYWQpZLY8uAbqIjapK6tqpJLGeu8+Tdn2zlrWoXx+TTiLwJc8+HJ\n",
       "DVClw9oU+LcAD6s5PnJYFfq8YI5EOa2WY2+JUJvHeMWGBOMrQ3AXBnO1s1V4coP9gxIto0+B3fa4\n",
       "Is52j9CbAF26CBaimzITIc5zo0N42+mAAxBBf8GLJzfodFxNvxmPJ9QEgD89ga9DrBrW4lFOLVw4\n",
       "1kk7hTxuhCs0UiC8iRFUcG2wyxRDsTh5u1gsSzeEaWZcVA5i9tEWYIEqijWCi618VsW3QcY4xjRc\n",
       "x4PxC/F5cYvc0TM+TvtsTTBep6ogDJ3SI9b7+PbVEbkBmJRXKFyuJwe0JJ7NgCwIf3Ko7M0b4tZq\n",
       "YM2DlhM1dpU1ju4Vnv0A9QgZWG+vmBTuEfhMKGcVZDm78OTmsg8nJT6hgflB3pC9rFoGQqe4x1E+\n",
       "sog102BNiWtWZrw1EoP98jK68eSmgKwnqqW1n3vRUZD3+6TQteYBbRmh2e85uLJ9GH/9um9ZdtYJ\n",
       "ca0WPvaVZCtx48m9uL202FVS+NCzDTofruApqX6J1c1peWtf1hqhpylMg78hcxfi3hqdELobvkXi\n",
       "BzjVJX9Lawng77DVTYWSEBqQfN1EIuMrtfbrkdqCCm/zdTGTsq3N7PQHOF43zYzAczZ6AzPNjA+v\n",
       "czb0hNxBN/xHZkGv/cWWd3K75BImmyc30RIl1n8cY9Ht5WDTSQAAAABJRU5ErkJggg==\n",
       "\" style=\"display:inline;vertical-align:middle;\" /></a><br>"
      ],
      "text/plain": [
       "<IPython.core.display.HTML object>"
      ]
     },
     "metadata": {},
     "output_type": "display_data"
    }
   ],
   "source": [
    "qmult5 = Qmult(alpha, A, beta, VecAdd(ket_psi, Qmult(D, ket_varphi)))"
   ]
  },
  {
   "cell_type": "code",
   "execution_count": 10,
   "metadata": {},
   "outputs": [
    {
     "data": {
      "text/html": [
       "<strong id=\"qmult6\">qmult6:</strong> <a class=\"ProveItLink\" href=\"../__pv_it/demonstrations/a6b29a5ef6667e470d387498f79515261a5faa5a0/expr.ipynb\"><img src=\"data:image/png;base64,iVBORw0KGgoAAAANSUhEUgAAAL4AAAAVBAMAAAAKgUmDAAAAMFBMVEX///+YmJgyMjJmZmZERESI\n",
       "iIiqqqoQEBDu7u66uroiIiLc3NzMzMxUVFR2dnYAAAB9mGmPAAAAAXRSTlMAQObYZgAAAAlwSFlz\n",
       "AAAOxAAADsQBlSsOGwAAAvtJREFUOMuFVU1oE1EQnu1mN5tms02lBy+StngQPNgWD1pQAzV6KJJo\n",
       "KQgKLYoIRTRCRaUecrBXrV6CpUJAEBsQcxAPHmS9KP5RKT2p0Vxq9dA2agv+tXXmvbev2bykDnzJ\n",
       "7H4v35uZN28C8B8rCFQ+M7MR4ZrLN6AVMwY5pH31nIALEEpVr9+ANpJLxf3vuf+kbxd3zgq0rBWL\n",
       "W10pYACYHfh9uK5+DbqpFSDGYrVTsIW9slo5AIYBIn+lgIPIIRoy9fRr0FOYjp4m7xrAOHulRzkg\n",
       "vIzp/pACo4jPCK1D/PaGou+jmQ1Qyb6RhxvtYa+CAqBh7NqyFDiDeEjOJfHbU4q+j2aWpDhXub55\n",
       "j706IQCRMmY7IgVKlDz1SltdfUkvzLv8zRJVfgU/Qq8OtfPK7RWAYBysd/x8rb4olIwcmLTJvKr/\n",
       "GuDmUkbSj8eskTCdqk3pa6vs9JrH+Z5tXohTif7pKBdwzLQVNX7yE9yk6neA3Xa7JOkLAD0GRWtQ\n",
       "e0R+8e7Q4mz5XQEYKIB5ngs803NaAbAPduPjaUXfdCECEPdoHQvb5bAbUaYeTfPuCJXZ8ssCcBCx\n",
       "yOuTCaYcihLeUF5EdufzF/P5+yI9gM0VNBYW5r6w9qeQY1SECUwm7denY4mleAHOZRywUvzeZZX4\n",
       "DWqPdfo6eouDXvtbw6I7Am999bGpbT+Ncf0ueARU0e34OKTo6xByQZd0E6rOyfYPsLuKH8/5oEoI\n",
       "GH9wj+/iAHdiAW5hK1O+Lap+VAfrg6T1OGj7aNjBDqz6HTYUOiE0yZfPCzRgubLbhH62UNIwFWfQ\n",
       "a15//7QfedpdQS80H9Vn0Z1ZK870sKjNF/2zYvlLjkhypTh9wBOwPyaOoddIj5Oqvvbgd6ma9pmz\n",
       "7ja6HP4BZrPzOknXPVfj/naCQtfTpwHlH1IkwK4L9Ir5p8y3K6DQPhut8HsFfPqON7r5EKui7XJ9\n",
       "mtlEhX9VwB8/+4uJVm8taCNXn1YsnOKQdtxzIiRSqF6PdNitoP8BOZ7c5uWQDecAAAAASUVORK5C\n",
       "YII=\n",
       "\" style=\"display:inline;vertical-align:middle;\" /></a><br>"
      ],
      "text/plain": [
       "<IPython.core.display.HTML object>"
      ]
     },
     "metadata": {},
     "output_type": "display_data"
    }
   ],
   "source": [
    "qmult6 = Qmult(alpha, D, beta, VecAdd(Qmult(B, ket_psi), ket_varphi))"
   ]
  },
  {
   "cell_type": "markdown",
   "metadata": {},
   "source": [
    "Not well-formed (matrix-vector incompatible):"
   ]
  },
  {
   "cell_type": "code",
   "execution_count": 11,
   "metadata": {},
   "outputs": [
    {
     "data": {
      "text/html": [
       "<strong id=\"qmult_bad\">qmult_bad:</strong> <a class=\"ProveItLink\" href=\"../__pv_it/demonstrations/3999c116cceb73f89a2e956e615c934fd16df3030/expr.ipynb\"><img src=\"data:image/png;base64,iVBORw0KGgoAAAANSUhEUgAAAI4AAAAVBAMAAABicsu7AAAAMFBMVEX///+YmJgyMjJmZmZERESI\n",
       "iIiqqqoQEBDu7u66uroiIiLc3NzMzMxUVFR2dnYAAAB9mGmPAAAAAXRSTlMAQObYZgAAAAlwSFlz\n",
       "AAAOxAAADsQBlSsOGwAAAqJJREFUOMuNlE1oE0EUx/+bzW52TbrZKoIKogh+gIK2CFZEXPwAQUMj\n",
       "VShateBNxAbEk5cgFE/a3NRQNEd7kYDSg4guHhQRSQ4ivdjmEquCtUrVgkp9b2Z2s1vEdCAvM/tm\n",
       "f/Pm/94+4D+jGkwyixzhOo2ljI/BJOnHHQ+DiVNi+2DzkYjz+ELuTU6F8KSvJ+QYgLkjznkf5zTs\n",
       "iaj3G6D9kHHnsTbkOPSrxDmVOGcifunvZHaJ6Q2gHHKGowGI0QpPck7HvMZvMnddnuaBvSHnQlSQ\n",
       "RXJJzshgzDtL5mlDcsx7IYefJKrRnVcR5yTn2c58lvisR6ZWJ2O/ym0oCo7V56JhVGAK/Pm5Im7R\n",
       "/zESwYe9/bDkmG/nyD4qWVfSHFiNboN1DaFsZ9kXHMcsWK4xL5XVLn2q85V5oQPPVk9KznJM0amX\n",
       "gQMGn36WX50qyQxpnuA81ytaFQVgtxTpKMUBuy5EqyMpOOlfGPKhkyrdnFr0svmpMmTPCk4xlScf\n",
       "pec1LfvJQ8UEvcSiaUUKijkdHmo+UnTw9Ad+my+pfeXZKCWvIHUeKjqw6C4Xla7jnFiXM2HweczJ\n",
       "uqhRzmjTl8GgfK55KkPJuuR0Yxx8662Kw/JY6zlEOqxHcEZ8UghZ8kyH5bNf7KZ9L6qSsxOrcJs0\n",
       "8BRH5I2+pi4iXfdlPD420WU9aPv4+02QImVRqFYX7DH1nd6sNjTa66hKc0SJ0CUTG7etGJP14+RN\n",
       "Dn6ms19vklq9f94d3CPL/uWJZvC9ZyYPnaLZMlV3urC8WrNwP6jD5pl/twsn2jcyIpJz6kmH3EDP\n",
       "dLdVz1gCR5QWgv5yR3YvUivlt+UMRzkCyhmKdrYt4FS344zG4oGqGDFU2lYCJ9tzwjGAmCytjk3r\n",
       "x7LXBB3kL0mPrnP9PhloAAAAAElFTkSuQmCC\n",
       "\" style=\"display:inline;vertical-align:middle;\" /></a><br>"
      ],
      "text/plain": [
       "<IPython.core.display.HTML object>"
      ]
     },
     "metadata": {},
     "output_type": "display_data"
    }
   ],
   "source": [
    "qmult_bad = Qmult(alpha, D, beta, ket_psi, \n",
    "                  gamma, Bra(varphi), delta)"
   ]
  },
  {
   "cell_type": "markdown",
   "metadata": {},
   "source": [
    "### Let's disable some simplification directives during initial testing"
   ]
  },
  {
   "cell_type": "code",
   "execution_count": 12,
   "metadata": {},
   "outputs": [
    {
     "name": "stdout",
     "output_type": "stream",
     "text": [
      "['ungroup', 'factor_scalars', 'use_scalar_mult']\n"
     ]
    }
   ],
   "source": [
    "print(Qmult.simplification_directive_keys())"
   ]
  },
  {
   "cell_type": "code",
   "execution_count": 13,
   "metadata": {},
   "outputs": [],
   "source": [
    "Qmult.change_simplification_directives(\n",
    "    ungroup=False, factor_scalars=False, use_scalar_mult=False)"
   ]
  },
  {
   "cell_type": "markdown",
   "metadata": {},
   "source": [
    "### Proving membership in the QmultCodomain class"
   ]
  },
  {
   "cell_type": "code",
   "execution_count": 14,
   "metadata": {},
   "outputs": [
    {
     "data": {
      "text/html": [
       "<span style=\"font-size:20px;\"><a class=\"ProveItLink\" href=\"../__pv_it/demonstrations/209baac38918ef8b1210d5267967da66f42b39310/expr.ipynb\"><img src=\"data:image/png;base64,iVBORw0KGgoAAAANSUhEUgAAADYAAAAQBAMAAACvnpHFAAAAMFBMVEX///+YmJgyMjJmZmZERESI\n",
       "iIiqqqoQEBDu7u66uroiIiLc3NzMzMxUVFR2dnYAAAB9mGmPAAAAAXRSTlMAQObYZgAAAAlwSFlz\n",
       "AAAOxAAADsQBlSsOGwAAANhJREFUGNNjYMAGOJ4sUt3zAKsUQ2whQ/MXA6xSzJFAPSLY5Q6zNDAw\n",
       "8KLKhaxapQCib7CA7BRAlpoUAWU4bIYJvXt7AExza0AFuC+cg7J2TeCo5k4AMpg2QEV4HkyEskoZ\n",
       "GJxZG0ByMIO4DaZC3fuBgcGID8Q6vgoIHMD27YPIsQN5z1+AWC1wR3mwQOj+AAaG9yDrGLjgcpNB\n",
       "/mOYwMAPlHsOFmENQITLBSChwMDswMBozwMWUkMEgvKGtsUg7wlGMD8Fi/R6NsDjoX7xBtRwnOcF\n",
       "CTMoAAB6EDLom0lYxwAAAABJRU5ErkJggg==\n",
       "\" style=\"display:inline;vertical-align:middle;\" /></a> <a class=\"ProveItLink\" href=\"../__pv_it/demonstrations/e3511ce4e874c49936540e782f6efb6c00873d280/proof.ipynb\" style=\"text-decoration: none\">&nbsp;&#x22A2;&nbsp;&nbsp;</a><a class=\"ProveItLink\" href=\"../__pv_it/demonstrations/0efacd37e0b53121b7eaeb2620f4b3e4801ea8790/expr.ipynb\"><img src=\"data:image/png;base64,iVBORw0KGgoAAAANSUhEUgAAAEAAAAAdBAMAAADoV3fEAAAAMFBMVEX///+YmJgyMjJmZmZERESI\n",
       "iIiqqqoQEBDu7u66uroiIiLc3NzMzMxUVFR2dnYAAAB9mGmPAAAAAXRSTlMAQObYZgAAAAlwSFlz\n",
       "AAAOxAAADsQBlSsOGwAAASpJREFUKM9jYMAHuA3wSjOwnTAIwCl3/dMDBm473wQc8pyuZ8Q/MTBM\n",
       "Vm3AoSCEgYFjfQDrizcKqMKrVkEE+ByAxPwFDNwXUOQnRcBY80Ems39gYNgA4r17ewDiJw240joQ\n",
       "wfQBwtk1gaOaG+RYpg1wL/wEK1gA4ZUyMDizgoxkghvA9xtEskNCiRlokBEfiHV8FRCAXMfACzbh\n",
       "PMRmdqDQ8xcgVgvcBNa/INIZwukHBuZ7cHhxwRVw/Lfmec0IdQI/UMFziD5EuJ/6X9wwCRqIzA4M\n",
       "jPY8YKYaIkg4GFjhEflOMIL5KZjV6wkLeZ6ZwjexxcA8L2hQr///D6iqAk9Cyf3/V2bTBLxp5dav\n",
       "2wxDE/AEPsCv4CyDA34FPoSsWMHQgF/BPEEBDDEA50lK1Vaya9UAAAAASUVORK5CYII=\n",
       "\" style=\"display:inline;vertical-align:middle;\" /></a></span>"
      ],
      "text/plain": [
       "{alpha in Complex} |- alpha in_c Q*"
      ]
     },
     "metadata": {},
     "output_type": "display_data"
    }
   ],
   "source": [
    "InClass(alpha, QmultCodomain).prove()"
   ]
  },
  {
   "cell_type": "code",
   "execution_count": 15,
   "metadata": {},
   "outputs": [
    {
     "data": {
      "text/html": [
       "<span style=\"font-size:20px;\"><a class=\"ProveItLink\" href=\"../../../../logic/sets/cartesian_products/__pv_it/theorems/79a768603778550c651661670153c27ee0a505870/expr.ipynb\"><img src=\"data:image/png;base64,iVBORw0KGgoAAAANSUhEUgAAAEYAAAATBAMAAADfQ2bzAAAAMFBMVEX///8yMjJmZmYiIiIQEBCq\n",
       "qqqYmJjMzMxERER2dnbc3Nzu7u5UVFSIiIi6uroAAACibcT0AAAAAXRSTlMAQObYZgAAAAlwSFlz\n",
       "AAAOxAAADsQBlSsOGwAAAQ9JREFUKM9jYCAAFBgIgwZK1HDbd0gzcPr74TWHI+ANA8N+/HbxWHEm\n",
       "MLAwMHV0eHS04VITwSDFwIzdHN5mY0OwmmUXFuJQwye7AWrOguO8E+Bq+O7smtvLPrMPLLVwA8yu\n",
       "BRwMfXA1nBxnGfbnMYSApaTg7lnArrB5Myyc3zE3MKy/wJAPlhJAqGFIZW2B8Tbsf8AQv4FBEcRm\n",
       "dzY2NraAquHZcATuzngGkAJPcPA2IJnDfWAzXM1BBgZLBr5f3CC2AZIahloOuBpPBu5/DDwCy0Ds\n",
       "u/C4KACGVQWMx/Wdge0DA8eECSAOYwBUFMxQhAebAQOvAgOf7gKwg068Bguyy3sAyY3Y44lvBiQu\n",
       "UAAA9FQ8d6roA+kAAAAASUVORK5CYII=\n",
       "\" style=\"display:inline;vertical-align:middle;\" /></a>, <a class=\"ProveItLink\" href=\"../__pv_it/demonstrations/b9ff765654f5a9fab1a0f971ffbd46ba878d2ac30/expr.ipynb\"><img src=\"data:image/png;base64,iVBORw0KGgoAAAANSUhEUgAAAFAAAAAVBAMAAAAjqnRBAAAAMFBMVEX///9UVFREREQyMjIQEBAi\n",
       "IiKYmJhmZmaqqqru7u7MzMyIiIi6urp2dnbc3NwAAACKehgKAAAAAXRSTlMAQObYZgAAAAlwSFlz\n",
       "AAAOxAAADsQBlSsOGwAAAYNJREFUKM+Fkj1Iw0AUx/9NP9LkTMwqInRxEEW6qQilk4OLBQldQze3\n",
       "oODk0E0QxOiggksFQUGEtg5SEREsOqgQnBw6RBc/QBQ3N+/OSxpDqQ9eLu/d79579+7BgxAVnSW1\n",
       "eFgjpQpavkOqRBHlfnbyzd1sWgmDGAIkQNqOgrUpbH3Zr8forciuADWqhQgnn7lAyUY/9pAsC3CH\n",
       "6kME3JccIGZjGnV8qAJcofokgLppZtnaJ7E6Lf2TxizJAqRJEP9twGVDHMg886XHQA6PDQoqJxZc\n",
       "UkCa0dAnBKcbR38qaUFL5xWLfIvbxP3Gqu5VBDyQCykPeWCJg/6Gbt9EQCdRpd2hXdxl9p5JJcNr\n",
       "fI+AWHM0KFVgldkbwc6QFAUX8AJCe5ZjdjLYuWZ9xEUInMccbmlRPCGptl/GoJ9sCGx6booe1Mrc\n",
       "MR6ErI9528VwanVg+LyddH3ECaZnpuiFQag81rLw3A2a2Q5zyUDCY4yiq7TEkEHJ/g8Sfl2rO3jq\n",
       "/8S6cz9QhmJCgLC/+QAAAABJRU5ErkJggg==\n",
       "\" style=\"display:inline;vertical-align:middle;\" /></a> <a class=\"ProveItLink\" href=\"../__pv_it/demonstrations/0fde02ea14434f6cf43578bb223fead80f21cd400/proof.ipynb\" style=\"text-decoration: none\">&nbsp;&#x22A2;&nbsp;&nbsp;</a><a class=\"ProveItLink\" href=\"../__pv_it/demonstrations/933ed7b8075b3f660a9c6c9a4868468a6c9c880b0/expr.ipynb\"><img src=\"data:image/png;base64,iVBORw0KGgoAAAANSUhEUgAAAEwAAAAdBAMAAADya5dKAAAAMFBMVEX///9UVFREREQyMjIQEBAi\n",
       "IiKYmJhmZmaqqqru7u7MzMyIiIi6urp2dnbc3NwAAACKehgKAAAAAXRSTlMAQObYZgAAAAlwSFlz\n",
       "AAAOxAAADsQBlSsOGwAAAZxJREFUOMvVkjFIw1AQhv/aWpu8pojoplIHESxId0G6iDgIQcng1A6i\n",
       "6BR0VamTIIjZXdpBUBeDg4KCFBREqDQ4qRQpdnFsKQ6CGl9e3kuHVsnqwR13733cvbt7qICLjN8k\n",
       "pgNlEXTkfqEiR7rJMUIjvQ3R27AQ2xjKckyhqrZQ0cTxQgO4HTc4tk/1sQU7BaS0SZ6ekxzbofrK\n",
       "L8mwNueWiFNTUhHrFi1YVINu01FawpWS44RqQMXBpPMMLKIiYrHLqqAw45hgjfllKJGUlCEfoocJ\n",
       "r81PhqkcO+xSwxWkgHV2kBSY8u3YkM4xI2TSedAoz5YxqWnarOMFWLaTHMewZyiQTGDXiaW4yEbq\n",
       "jh2BwNbwBmKIV3lTluxN+SWsetgqllGkG3bzXHrTPbCnjGvDw24qVrhAn5xlB8Gsx0kgYtEUkwcS\n",
       "V9Tr5Hc9d+JrFZf60cQgswTbYuEPfFlp+4veTXsYYQ8Ya/mOW3Z9pVrwMIUVS7b5b33vg82ihI0p\n",
       "gz/kQjgB/AORzyw/WB5xP9iov6LzMPxg94utg/4BuXBoUtJOZ1MAAAAASUVORK5CYII=\n",
       "\" style=\"display:inline;vertical-align:middle;\" /></a></span>"
      ],
      "text/plain": [
       "{m in NaturalPos, |psi〉 in Complex^{m}} |- |psi〉 in_c Q*"
      ]
     },
     "metadata": {},
     "output_type": "display_data"
    }
   ],
   "source": [
    "InClass(ket_psi, QmultCodomain).prove()"
   ]
  },
  {
   "cell_type": "code",
   "execution_count": 16,
   "metadata": {},
   "outputs": [
    {
     "data": {
      "text/html": [
       "<span style=\"font-size:20px;\"><a class=\"ProveItLink\" href=\"../../../../numbers/number_sets/natural_numbers/__pv_it/theorems/132c57ec1224a4beaf274a23bd799047020206590/expr.ipynb\"><img src=\"data:image/png;base64,iVBORw0KGgoAAAANSUhEUgAAAEEAAAATBAMAAAA9n32KAAAAMFBMVEX///9mZmYQEBCYmJgyMjKq\n",
       "qqrMzMwiIiJERER2dnbc3Nzu7u5UVFSIiIi6uroAAAA6K1lcAAAAAXRSTlMAQObYZgAAAAlwSFlz\n",
       "AAAOxAAADsQBlSsOGwAAAPlJREFUKM9jYMAHGBkIAQ6yVWz/0bKBYdKnB3jMaOU7wMD9AZ8txxdM\n",
       "ZmBQYJDoaOroMMCq4mgDywKGAmxm3CgvdwDRp2y5HLCqeHIbyjjFk3AToYLvzq65vWBxLm+Y0lMM\n",
       "DRwP4Co4Oc4y7F8AYrEsQKhI5K4ugIXpO/YGhvUJYBUMCBXMAREKMN6G/Q8Y4jeAWEnlQNAAUcFw\n",
       "mgeugiGegeEImLEDyQyGPdwFcC5Q+jM3iMGOrILtQgOcq8nA+psTxOC9ABNqA+JrcBVc3xh4HczA\n",
       "TFeYGIjB6ADj8RUwcB8OADP39IFdzJDyCaif2wFbfLxsL8cUBwB3/0NP0Yie0QAAAABJRU5ErkJg\n",
       "gg==\n",
       "\" style=\"display:inline;vertical-align:middle;\" /></a>, <a class=\"ProveItLink\" href=\"../__pv_it/demonstrations/55701387f25fde525e21ebc18286978696667feb0/expr.ipynb\"><img src=\"data:image/png;base64,iVBORw0KGgoAAAANSUhEUgAAAEwAAAAVBAMAAAAeOBUnAAAAMFBMVEX///8QEBAiIiKqqqpUVFSY\n",
       "mJhmZmbu7u5EREQyMjLMzMyIiIi6urp2dnbc3NwAAADC3l7hAAAAAXRSTlMAQObYZgAAAAlwSFlz\n",
       "AAAOxAAADsQBlSsOGwAAAWlJREFUKM9jeMAABVwM2AFr6uptDAx3YFyOBegK2G9ozn51ofRgAOMD\n",
       "hDLmBHRlW0QZyn4kPN/JwF+AUMaggKaKbc8FBoaIBAZvhoNIljJcRlO2jKOAgYElgUGKIY0LSdkL\n",
       "KL1DSWkCiHbnALkvgO8Dg5YVkjJOiKdPbofyG56BKR4Hhr0BIGWrgHI/ChiYL4BE+aZDVfE5rEVy\n",
       "AVBZAgPX1CMXoH7ghAUk14WjKMqYFzCwAK1gYMgBK4NJ8CWcRlHGy8AQDjKSYQmIv1AJCBrAbnuL\n",
       "ooybgWEDA/sGBgZbEL8CLtPOgaKMjYFnAQMbMIzmgfhMcJljoHBjOABXFsDGwO4FdAzYKu4NiFhw\n",
       "ABIT4D6duXNpElATrwFYYDLcuB3THhSrIQKEVf/TBYR1JT0F8BQir/YAoYwhFcwyg4qcbVKagJHq\n",
       "QMqkwKw+BjwAqIzrA9iKCQSUcYNjiTsAn7JdwJAAJ28WfKoAVZ9dUa6eI4EAAAAASUVORK5CYII=\n",
       "\" style=\"display:inline;vertical-align:middle;\" /></a> <a class=\"ProveItLink\" href=\"../__pv_it/demonstrations/548a3b380005e4b924a59bb73b95356d4d534f550/proof.ipynb\" style=\"text-decoration: none\">&nbsp;&#x22A2;&nbsp;&nbsp;</a><a class=\"ProveItLink\" href=\"../__pv_it/theorems/715f503574a08999f18d4b215f047a8200ed6dc00/expr.ipynb\"><img src=\"data:image/png;base64,iVBORw0KGgoAAAANSUhEUgAAAEwAAAAdBAMAAADya5dKAAAAMFBMVEX///8QEBBUVFS6urqYmJiI\n",
       "iIgyMjLu7u5mZmYiIiKqqqp2dnZERETc3NzMzMwAAADeqXKjAAAAAXRSTlMAQObYZgAAAAlwSFlz\n",
       "AAAOxAAADsQBlSsOGwAAAZFJREFUOMtjYGB4wAAFFxiwA94GEHEAxt2MXRXX84YABgbuBbiVcSl+\n",
       "28DA230IqISTAacy5qPvHL8xMFikFjAwrMCtLIaBgX1+AOv2fQkMDOfQlcXMnJkAZnCDXG0/gYFX\n",
       "Aag8AU2ZWTiMbw+0i4HxAzgIWB0YGN4BJf8UQJTxpsO1SYMItg9gNsgHDQx8KUYbIMrY4KHH9RnM\n",
       "nwDmGAH5DxiYGBgOQJXBDeP+CyIZG8CcZiCfgcEdZCRY2cOZQAAOcSawae8hkRQCdB4DQwADewBE\n",
       "WQ3cNNZPIPIEhFPGwMDBwPyAgQPqBURos//v5dvLAnEaA88FBg4HDgZ2PWiAsAbA1b38L1FgVgD1\n",
       "zwYGhrSwJ50GsHDLQsQCOwNrA4wNNJVl/s8N8OAtOgw1gIHP2EMZrmUXELcgR5b1SWhkzf//G6hW\n",
       "HCJ6B4jlsEY976L/n/yuGUA4bAUMfB9wpTfNn7pQJksAA+sEfKkXChQYeCEhHccw6AFfyAZilD1i\n",
       "OECMsnPEWTqdoYAYZdYuDhhiAKxcZdVuqi8MAAAAAElFTkSuQmCC\n",
       "\" style=\"display:inline;vertical-align:middle;\" /></a></span>"
      ],
      "text/plain": [
       "{n in NaturalPos, |varphi〉 in Complex^{n}} |- 〈varphi| in_c Q*"
      ]
     },
     "metadata": {},
     "output_type": "display_data"
    }
   ],
   "source": [
    "InClass(Bra(varphi), QmultCodomain).prove()"
   ]
  },
  {
   "cell_type": "code",
   "execution_count": 17,
   "metadata": {},
   "outputs": [
    {
     "data": {
      "text/html": [
       "<span style=\"font-size:20px;\"><a class=\"ProveItLink\" href=\"../__pv_it/demonstrations/209baac38918ef8b1210d5267967da66f42b39310/expr.ipynb\"><img src=\"data:image/png;base64,iVBORw0KGgoAAAANSUhEUgAAADYAAAAQBAMAAACvnpHFAAAAMFBMVEX///+YmJgyMjJmZmZERESI\n",
       "iIiqqqoQEBDu7u66uroiIiLc3NzMzMxUVFR2dnYAAAB9mGmPAAAAAXRSTlMAQObYZgAAAAlwSFlz\n",
       "AAAOxAAADsQBlSsOGwAAANhJREFUGNNjYMAGOJ4sUt3zAKsUQ2whQ/MXA6xSzJFAPSLY5Q6zNDAw\n",
       "8KLKhaxapQCib7CA7BRAlpoUAWU4bIYJvXt7AExza0AFuC+cg7J2TeCo5k4AMpg2QEV4HkyEskoZ\n",
       "GJxZG0ByMIO4DaZC3fuBgcGID8Q6vgoIHMD27YPIsQN5z1+AWC1wR3mwQOj+AAaG9yDrGLjgcpNB\n",
       "/mOYwMAPlHsOFmENQITLBSChwMDswMBozwMWUkMEgvKGtsUg7wlGMD8Fi/R6NsDjoX7xBtRwnOcF\n",
       "CTMoAAB6EDLom0lYxwAAAABJRU5ErkJggg==\n",
       "\" style=\"display:inline;vertical-align:middle;\" /></a> <a class=\"ProveItLink\" href=\"../__pv_it/demonstrations/1419951de28e561ed542f23de47ce4fad681084a0/proof.ipynb\" style=\"text-decoration: none\">&nbsp;&#x22A2;&nbsp;&nbsp;</a><a class=\"ProveItLink\" href=\"../__pv_it/demonstrations/a57c222e475f24e9f431c3e3f743f5710cb89f140/expr.ipynb\"><img src=\"data:image/png;base64,iVBORw0KGgoAAAANSUhEUgAAAEoAAAAdBAMAAAD/decNAAAAMFBMVEX///+YmJgyMjJmZmZERESq\n",
       "qqoQEBDu7u7c3NxUVFS6urp2dnbMzMwiIiKIiIgAAAC2GIS0AAAAAXRSTlMAQObYZgAAAAlwSFlz\n",
       "AAAOxAAADsQBlSsOGwAAAV5JREFUOMtjeHuHAQz47h5gwA44DBgYdsE43AuwK2I9bvAAryrWaZ82\n",
       "MHBYewbgU8Xld0bsEwPDYr0CfKqeMDCw33/At32PAqaqJ3fvKkAEHIDE+gsMHBMwXb/oOUxgfQGQ\n",
       "YPvAwNAAUbV75wGYKg51uIXZIILpA5gNVNW7gD2DIwCiiqkB7sFfYP4FmKo8BgZnvgKoKrhR3D9A\n",
       "JJsBVBUz0FAjbqiNx+4CAcjZDJxgs84fgKpiAwpu2w5VVQI3i+8niHRmgKqqf8DAsD8AqooXror9\n",
       "vwXPDsYLMFX8QFXbYH7kewBXdvZ/csGiApgqZgcGRnseWHipIsKenYHPgAGmimG34HPmfTBVlV5Q\n",
       "7Qw8q4RnMSBUocbQal9oDN3//xuoNB27KkTqi/z/U6ZpAQFVwOCf+3cGA0FVCLAXlu6v4VM1CADP\n",
       "ww1EqDrJ4ECEKh+ibLzOUECEqtWCAhhiAFabbvvFOgaJAAAAAElFTkSuQmCC\n",
       "\" style=\"display:inline;vertical-align:middle;\" /></a></span>"
      ],
      "text/plain": [
       "{alpha in Complex} |- [alpha] in_c Q*"
      ]
     },
     "metadata": {},
     "output_type": "display_data"
    }
   ],
   "source": [
    "InClass(Qmult(alpha), QmultCodomain).prove()"
   ]
  },
  {
   "cell_type": "code",
   "execution_count": 18,
   "metadata": {},
   "outputs": [
    {
     "data": {
      "text/html": [
       "<span style=\"font-size:20px;\"><a class=\"ProveItLink\" href=\"../../../../logic/sets/cartesian_products/__pv_it/theorems/79a768603778550c651661670153c27ee0a505870/expr.ipynb\"><img src=\"data:image/png;base64,iVBORw0KGgoAAAANSUhEUgAAAEYAAAATBAMAAADfQ2bzAAAAMFBMVEX///8yMjJmZmYiIiIQEBCq\n",
       "qqqYmJjMzMxERER2dnbc3Nzu7u5UVFSIiIi6uroAAACibcT0AAAAAXRSTlMAQObYZgAAAAlwSFlz\n",
       "AAAOxAAADsQBlSsOGwAAAQ9JREFUKM9jYCAAFBgIgwZK1HDbd0gzcPr74TWHI+ANA8N+/HbxWHEm\n",
       "MLAwMHV0eHS04VITwSDFwIzdHN5mY0OwmmUXFuJQwye7AWrOguO8E+Bq+O7smtvLPrMPLLVwA8yu\n",
       "BRwMfXA1nBxnGfbnMYSApaTg7lnArrB5Myyc3zE3MKy/wJAPlhJAqGFIZW2B8Tbsf8AQv4FBEcRm\n",
       "dzY2NraAquHZcATuzngGkAJPcPA2IJnDfWAzXM1BBgZLBr5f3CC2AZIahloOuBpPBu5/DDwCy0Ds\n",
       "u/C4KACGVQWMx/Wdge0DA8eECSAOYwBUFMxQhAebAQOvAgOf7gKwg068Bguyy3sAyY3Y44lvBiQu\n",
       "UAAA9FQ8d6roA+kAAAAASUVORK5CYII=\n",
       "\" style=\"display:inline;vertical-align:middle;\" /></a>, <a class=\"ProveItLink\" href=\"../__pv_it/demonstrations/b9ff765654f5a9fab1a0f971ffbd46ba878d2ac30/expr.ipynb\"><img src=\"data:image/png;base64,iVBORw0KGgoAAAANSUhEUgAAAFAAAAAVBAMAAAAjqnRBAAAAMFBMVEX///9UVFREREQyMjIQEBAi\n",
       "IiKYmJhmZmaqqqru7u7MzMyIiIi6urp2dnbc3NwAAACKehgKAAAAAXRSTlMAQObYZgAAAAlwSFlz\n",
       "AAAOxAAADsQBlSsOGwAAAYNJREFUKM+Fkj1Iw0AUx/9NP9LkTMwqInRxEEW6qQilk4OLBQldQze3\n",
       "oODk0E0QxOiggksFQUGEtg5SEREsOqgQnBw6RBc/QBQ3N+/OSxpDqQ9eLu/d79579+7BgxAVnSW1\n",
       "eFgjpQpavkOqRBHlfnbyzd1sWgmDGAIkQNqOgrUpbH3Zr8forciuADWqhQgnn7lAyUY/9pAsC3CH\n",
       "6kME3JccIGZjGnV8qAJcofokgLppZtnaJ7E6Lf2TxizJAqRJEP9twGVDHMg886XHQA6PDQoqJxZc\n",
       "UkCa0dAnBKcbR38qaUFL5xWLfIvbxP3Gqu5VBDyQCykPeWCJg/6Gbt9EQCdRpd2hXdxl9p5JJcNr\n",
       "fI+AWHM0KFVgldkbwc6QFAUX8AJCe5ZjdjLYuWZ9xEUInMccbmlRPCGptl/GoJ9sCGx6booe1Mrc\n",
       "MR6ErI9528VwanVg+LyddH3ECaZnpuiFQag81rLw3A2a2Q5zyUDCY4yiq7TEkEHJ/g8Sfl2rO3jq\n",
       "/8S6cz9QhmJCgLC/+QAAAABJRU5ErkJggg==\n",
       "\" style=\"display:inline;vertical-align:middle;\" /></a> <a class=\"ProveItLink\" href=\"../__pv_it/demonstrations/a57ef9fbec24ca2956ca10be451347683313b31d0/proof.ipynb\" style=\"text-decoration: none\">&nbsp;&#x22A2;&nbsp;&nbsp;</a><a class=\"ProveItLink\" href=\"../__pv_it/demonstrations/8b970f0b0a5757ce60e8ad6224c0b753c87f5a370/expr.ipynb\"><img src=\"data:image/png;base64,iVBORw0KGgoAAAANSUhEUgAAAFgAAAAdBAMAAADcLrbYAAAAMFBMVEX///9UVFREREQyMjIQEBCY\n",
       "mJhmZmaqqqru7u7c3Ny6urp2dnbMzMwiIiKIiIgAAAD6rii8AAAAAXRSTlMAQObYZgAAAAlwSFlz\n",
       "AAAOxAAADsQBlSsOGwAAAbhJREFUOMvVk78vBEEUx7/cnd21a6LQIJLTSAiX69CISoTmCkSh2FCh\n",
       "OY2GxPIHyIZCKyEKCtv5ERISCQWxpeIut5EQEhJyjR+RMzs3u7MXKzmll30v82Y/efPemzd4zsAE\n",
       "F40q9cNF0YFD9hWl8gQBr1SkC90RMKEbeigs1eUtKNPNaQGrVO0wuDpxOZQHtnoMAS9T3QuDbwE5\n",
       "55D9o6SA56muCPg2m00WT4xTs2tDqQ0UaFGNmJ638eAF3jWoib4AJofl+xQsYkOyOKx0+VkMuiby\n",
       "wtYMVqVeOUXeWIUMjvi9lz6Ybwv4vMqOmegFpjzYD6y+uzaqC9iIOrRzdOOUw2dZKm5lqGCRr08E\n",
       "jAVDhewAcxxe8iOTV9e2IABPYA2Elt3N4RoflguT2kHMDsLjGMU2bUKcw8Tx6atCn7FhBOFN04qt\n",
       "02rSXp87xQ3KIDqCsNaYeOSnF+HFNsOb2+2RBpTA0NKuMyuue6eDX3eu8El/9wdhwgK1hgySMlN4\n",
       "HVtdD8Iqyy4ZPs9NX/UlaRDWg9TvL4XJcQZP3rrCfYMD+Lei3Vnlw6eIlw+3/yWNGxjlwzvDqR97\n",
       "39IojQ6o26t3AAAAAElFTkSuQmCC\n",
       "\" style=\"display:inline;vertical-align:middle;\" /></a></span>"
      ],
      "text/plain": [
       "{m in NaturalPos, |psi〉 in Complex^{m}} |- [|psi〉] in_c Q*"
      ]
     },
     "metadata": {},
     "output_type": "display_data"
    }
   ],
   "source": [
    "InClass(Qmult(ket_psi), QmultCodomain).prove()"
   ]
  },
  {
   "cell_type": "code",
   "execution_count": 19,
   "metadata": {},
   "outputs": [
    {
     "data": {
      "text/html": [
       "<span style=\"font-size:20px;\"><a class=\"ProveItLink\" href=\"../../../../numbers/number_sets/natural_numbers/__pv_it/theorems/132c57ec1224a4beaf274a23bd799047020206590/expr.ipynb\"><img src=\"data:image/png;base64,iVBORw0KGgoAAAANSUhEUgAAAEEAAAATBAMAAAA9n32KAAAAMFBMVEX///9mZmYQEBCYmJgyMjKq\n",
       "qqrMzMwiIiJERER2dnbc3Nzu7u5UVFSIiIi6uroAAAA6K1lcAAAAAXRSTlMAQObYZgAAAAlwSFlz\n",
       "AAAOxAAADsQBlSsOGwAAAPlJREFUKM9jYMAHGBkIAQ6yVWz/0bKBYdKnB3jMaOU7wMD9AZ8txxdM\n",
       "ZmBQYJDoaOroMMCq4mgDywKGAmxm3CgvdwDRp2y5HLCqeHIbyjjFk3AToYLvzq65vWBxLm+Y0lMM\n",
       "DRwP4Co4Oc4y7F8AYrEsQKhI5K4ugIXpO/YGhvUJYBUMCBXMAREKMN6G/Q8Y4jeAWEnlQNAAUcFw\n",
       "mgeugiGegeEImLEDyQyGPdwFcC5Q+jM3iMGOrILtQgOcq8nA+psTxOC9ABNqA+JrcBVc3xh4HczA\n",
       "TFeYGIjB6ADj8RUwcB8OADP39IFdzJDyCaif2wFbfLxsL8cUBwB3/0NP0Yie0QAAAABJRU5ErkJg\n",
       "gg==\n",
       "\" style=\"display:inline;vertical-align:middle;\" /></a>, <a class=\"ProveItLink\" href=\"../../../../logic/sets/cartesian_products/__pv_it/theorems/79a768603778550c651661670153c27ee0a505870/expr.ipynb\"><img src=\"data:image/png;base64,iVBORw0KGgoAAAANSUhEUgAAAEYAAAATBAMAAADfQ2bzAAAAMFBMVEX///8yMjJmZmYiIiIQEBCq\n",
       "qqqYmJjMzMxERER2dnbc3Nzu7u5UVFSIiIi6uroAAACibcT0AAAAAXRSTlMAQObYZgAAAAlwSFlz\n",
       "AAAOxAAADsQBlSsOGwAAAQ9JREFUKM9jYCAAFBgIgwZK1HDbd0gzcPr74TWHI+ANA8N+/HbxWHEm\n",
       "MLAwMHV0eHS04VITwSDFwIzdHN5mY0OwmmUXFuJQwye7AWrOguO8E+Bq+O7smtvLPrMPLLVwA8yu\n",
       "BRwMfXA1nBxnGfbnMYSApaTg7lnArrB5Myyc3zE3MKy/wJAPlhJAqGFIZW2B8Tbsf8AQv4FBEcRm\n",
       "dzY2NraAquHZcATuzngGkAJPcPA2IJnDfWAzXM1BBgZLBr5f3CC2AZIahloOuBpPBu5/DDwCy0Ds\n",
       "u/C4KACGVQWMx/Wdge0DA8eECSAOYwBUFMxQhAebAQOvAgOf7gKwg068Bguyy3sAyY3Y44lvBiQu\n",
       "UAAA9FQ8d6roA+kAAAAASUVORK5CYII=\n",
       "\" style=\"display:inline;vertical-align:middle;\" /></a>, <a class=\"ProveItLink\" href=\"../__pv_it/demonstrations/053fb38df6fcf9baf4abe8cee7dd8e99b8a50fd80/expr.ipynb\"><img src=\"data:image/png;base64,iVBORw0KGgoAAAANSUhEUgAAAF0AAAASBAMAAADLUc9JAAAAMFBMVEX///8QEBAiIiLu7u5ERES6\n",
       "urqYmJiIiIjMzMx2dnZUVFRmZmaqqqoyMjLc3NwAAABb1yYoAAAAAXRSTlMAQObYZgAAAAlwSFlz\n",
       "AAAOxAAADsQBlSsOGwAAAXZJREFUKM9jYCAIOhkYuB8wEAPYtrVXMzCwT2DYxsCQnVG+oMwDKvEW\n",
       "XSXzFN3rLyaYBSYwAk0u5yxgYE4VY5BiqIJK30dXXyXGYP1lw+NaBn4DBgbO6wwMfOYXGH4w7ITI\n",
       "8vxHU85dOoGBIWUDw3KGQAaIegauAg4BBh2o9Ho0/3SzAI3l2sAgwbCbg4GhkjuBgYGxgd2B70MD\n",
       "WHrefAjNwO6kpAuiF7OA/JDA94FB4wTUv++BNrA5bADJ8hXUHwArZ71uANHn8BrCX8BQmQAKT64H\n",
       "DFEMvA/4loPluRnOJ0CCCaqcb0EnvmCOYeifAGbcgwpwTAjDp34Dw/sFYMYFqADfhnA8ytm9d693\n",
       "ABsrpKSkpAJ2/0s86s0ZGPgVwJHqABNyZsHrHAYmATBLASYUDQp/hgCsylmBYcP7AcwsR8Qv0EPc\n",
       "F7CqfwjELP/ATN4DMMGS2w9stLEqN/l/mYHH/y84QJmXBMPTp7w2EWmedQokPeAGAE5AWIoR4vwp\n",
       "AAAAAElFTkSuQmCC\n",
       "\" style=\"display:inline;vertical-align:middle;\" /></a> <a class=\"ProveItLink\" href=\"../__pv_it/demonstrations/f1eec586633dd70d065753146a5040ecdb007d960/proof.ipynb\" style=\"text-decoration: none\">&nbsp;&#x22A2;&nbsp;&nbsp;</a><a class=\"ProveItLink\" href=\"../__pv_it/theorems/cd1b98f0dc28e0b17ec7328266db691b60ac265e0/expr.ipynb\"><img src=\"data:image/png;base64,iVBORw0KGgoAAAANSUhEUgAAAEwAAAAdBAMAAADya5dKAAAAMFBMVEX///8QEBDu7u5ERESYmJhU\n",
       "VFRmZmaqqqoyMjLc3Ny6urp2dnbMzMwiIiKIiIgAAAC8plohAAAAAXRSTlMAQObYZgAAAAlwSFlz\n",
       "AAAOxAAADsQBlSsOGwAAAW1JREFUOMtjeHuHAQoQLDTAmcDAsAvCnMEAZ6ID9kMJD2By/ViVsQf+\n",
       "2MDAmW1aAJVj/49NGZfdGccfDAzL+hSgcmzxE7Aoe8zAwHT/Ad+mPQ1QuZ37D8CVPb57twHM4DYA\n",
       "EusvMHAGQOU4H7wvgClb8Qhm2HoFIMH4gYEBZhMbQ70DTEcT3E5pEMHxAcwGyy1nOL8ByuSYAPfm\n",
       "LzD/AkJZAsN8mP0ccMO4f4JIxgS4Mj6ztHgDqLKDd4EA5HYGVrBp5w/AlekxMPBfgCpThpvG9xVE\n",
       "mjHAlQHN5RWAKuOFK2P6n8mzk+UCXBmXA8RDYGV8D+Dqzv4XU1ihAFc2EUgx/4SFWzsiFpgY+BIY\n",
       "YMqU/zcxsNsD4xiiTNUKagADzyq3KAYGhNtQmattoZF1//9voFohHMoQybH0/1efGQsIKQNGROzf\n",
       "SAbCyhBgLyIvSDEMesDzZAMxyo4yGBCjzIY4Sy8xKBCjbLWLA4YYADGudOILrJ7MAAAAAElFTkSu\n",
       "QmCC\n",
       "\" style=\"display:inline;vertical-align:middle;\" /></a></span>"
      ],
      "text/plain": [
       "{n in NaturalPos, m in NaturalPos, A in Complex^{n x m}} |- [A] in_c Q*"
      ]
     },
     "metadata": {},
     "output_type": "display_data"
    }
   ],
   "source": [
    "InClass(Qmult(A), QmultCodomain).prove()"
   ]
  },
  {
   "cell_type": "code",
   "execution_count": 20,
   "metadata": {},
   "outputs": [
    {
     "data": {
      "text/html": [
       "<span style=\"font-size:20px;\"><a class=\"ProveItLink\" href=\"../../../../numbers/number_sets/natural_numbers/__pv_it/theorems/132c57ec1224a4beaf274a23bd799047020206590/expr.ipynb\"><img src=\"data:image/png;base64,iVBORw0KGgoAAAANSUhEUgAAAEEAAAATBAMAAAA9n32KAAAAMFBMVEX///9mZmYQEBCYmJgyMjKq\n",
       "qqrMzMwiIiJERER2dnbc3Nzu7u5UVFSIiIi6uroAAAA6K1lcAAAAAXRSTlMAQObYZgAAAAlwSFlz\n",
       "AAAOxAAADsQBlSsOGwAAAPlJREFUKM9jYMAHGBkIAQ6yVWz/0bKBYdKnB3jMaOU7wMD9AZ8txxdM\n",
       "ZmBQYJDoaOroMMCq4mgDywKGAmxm3CgvdwDRp2y5HLCqeHIbyjjFk3AToYLvzq65vWBxLm+Y0lMM\n",
       "DRwP4Co4Oc4y7F8AYrEsQKhI5K4ugIXpO/YGhvUJYBUMCBXMAREKMN6G/Q8Y4jeAWEnlQNAAUcFw\n",
       "mgeugiGegeEImLEDyQyGPdwFcC5Q+jM3iMGOrILtQgOcq8nA+psTxOC9ABNqA+JrcBVc3xh4HczA\n",
       "TFeYGIjB6ADj8RUwcB8OADP39IFdzJDyCaif2wFbfLxsL8cUBwB3/0NP0Yie0QAAAABJRU5ErkJg\n",
       "gg==\n",
       "\" style=\"display:inline;vertical-align:middle;\" /></a>, <a class=\"ProveItLink\" href=\"../__pv_it/demonstrations/55701387f25fde525e21ebc18286978696667feb0/expr.ipynb\"><img src=\"data:image/png;base64,iVBORw0KGgoAAAANSUhEUgAAAEwAAAAVBAMAAAAeOBUnAAAAMFBMVEX///8QEBAiIiKqqqpUVFSY\n",
       "mJhmZmbu7u5EREQyMjLMzMyIiIi6urp2dnbc3NwAAADC3l7hAAAAAXRSTlMAQObYZgAAAAlwSFlz\n",
       "AAAOxAAADsQBlSsOGwAAAWlJREFUKM9jeMAABVwM2AFr6uptDAx3YFyOBegK2G9ozn51ofRgAOMD\n",
       "hDLmBHRlW0QZyn4kPN/JwF+AUMaggKaKbc8FBoaIBAZvhoNIljJcRlO2jKOAgYElgUGKIY0LSdkL\n",
       "KL1DSWkCiHbnALkvgO8Dg5YVkjJOiKdPbofyG56BKR4Hhr0BIGWrgHI/ChiYL4BE+aZDVfE5rEVy\n",
       "AVBZAgPX1CMXoH7ghAUk14WjKMqYFzCwAK1gYMgBK4NJ8CWcRlHGy8AQDjKSYQmIv1AJCBrAbnuL\n",
       "ooybgWEDA/sGBgZbEL8CLtPOgaKMjYFnAQMbMIzmgfhMcJljoHBjOABXFsDGwO4FdAzYKu4NiFhw\n",
       "ABIT4D6duXNpElATrwFYYDLcuB3THhSrIQKEVf/TBYR1JT0F8BQir/YAoYwhFcwyg4qcbVKagJHq\n",
       "QMqkwKw+BjwAqIzrA9iKCQSUcYNjiTsAn7JdwJAAJ28WfKoAVZ9dUa6eI4EAAAAASUVORK5CYII=\n",
       "\" style=\"display:inline;vertical-align:middle;\" /></a> <a class=\"ProveItLink\" href=\"../__pv_it/demonstrations/b564738acbe7673f5ac8c12e8e0e1ae1fadfeb260/proof.ipynb\" style=\"text-decoration: none\">&nbsp;&#x22A2;&nbsp;&nbsp;</a><a class=\"ProveItLink\" href=\"../__pv_it/theorems/2231b3ef549f9c00886898df42d0fb78beaef04e0/expr.ipynb\"><img src=\"data:image/png;base64,iVBORw0KGgoAAAANSUhEUgAAAFgAAAAdBAMAAADcLrbYAAAAMFBMVEX///8QEBBUVFSYmJgyMjLu\n",
       "7u5mZmaqqqpERETc3Ny6urp2dnbMzMwiIiKIiIgAAAD5J/UaAAAAAXRSTlMAQObYZgAAAAlwSFlz\n",
       "AAAOxAAADsQBlSsOGwAAAa1JREFUOMvVkz1Iw0AUx//9SGvamE0HdaijolARnRwKKm4SxMEx4KQi\n",
       "FAfn4uAgVTo4OBYpDnZoFhGLQlXcKmZxszRQhQ4WSungB6XeXZtLsTXW0Qf3krz3u5e7979D6QlA\n",
       "Bk2LgX13MlEF0vQZMSPpRqCDee9Ug+X8YVvYO1zVIG7shFmuF3aw7yA7UQVOFhWW27aFi4CQN+Sz\n",
       "yxDLRTvAxVwuxF78dEMpHWKA5YRQO5x4MUMphThHmXaK5uQgkCX5N4XD4jyfP0idu2zWovtTIc0e\n",
       "axx2x3grPti3bsLHJJSBE4hYMC/sf6feoZrwOgkBU7S8CV/niDGpnKzyQ8aEC2TZgAHB4PAKryxX\n",
       "qN/l+18GPPBl4LE2aMkk1NekC5fO4Z4YPEEPhDGrdbLB6ft6v5JQOOzVgLnn2814S58XLAUFyKol\n",
       "A8hPXPma1irK0l6zGKTT6dEWzXBOxuo3uZP7Tbnz9U8yo4/DR2QM/XSQxK16ZeYwzmG3Aqlsc57H\n",
       "ayPWMlwGZP2Xm8Lsit65AMSGRK8oDeDfmlTQuodvEOkejv5lGY9QuoeTk8G22Bd8B43G8TQAXAAA\n",
       "AABJRU5ErkJggg==\n",
       "\" style=\"display:inline;vertical-align:middle;\" /></a></span>"
      ],
      "text/plain": [
       "{n in NaturalPos, |varphi〉 in Complex^{n}} |- [〈varphi|] in_c Q*"
      ]
     },
     "metadata": {},
     "output_type": "display_data"
    }
   ],
   "source": [
    "InClass(Qmult(bra_varphi), QmultCodomain).prove()"
   ]
  },
  {
   "cell_type": "code",
   "execution_count": 21,
   "metadata": {},
   "outputs": [
    {
     "data": {
      "text/html": [
       "<span style=\"font-size:20px;\"><a class=\"ProveItLink\" href=\"../__pv_it/demonstrations/55701387f25fde525e21ebc18286978696667feb0/expr.ipynb\"><img src=\"data:image/png;base64,iVBORw0KGgoAAAANSUhEUgAAAEwAAAAVBAMAAAAeOBUnAAAAMFBMVEX///8QEBAiIiKqqqpUVFSY\n",
       "mJhmZmbu7u5EREQyMjLMzMyIiIi6urp2dnbc3NwAAADC3l7hAAAAAXRSTlMAQObYZgAAAAlwSFlz\n",
       "AAAOxAAADsQBlSsOGwAAAWlJREFUKM9jeMAABVwM2AFr6uptDAx3YFyOBegK2G9ozn51ofRgAOMD\n",
       "hDLmBHRlW0QZyn4kPN/JwF+AUMaggKaKbc8FBoaIBAZvhoNIljJcRlO2jKOAgYElgUGKIY0LSdkL\n",
       "KL1DSWkCiHbnALkvgO8Dg5YVkjJOiKdPbofyG56BKR4Hhr0BIGWrgHI/ChiYL4BE+aZDVfE5rEVy\n",
       "AVBZAgPX1CMXoH7ghAUk14WjKMqYFzCwAK1gYMgBK4NJ8CWcRlHGy8AQDjKSYQmIv1AJCBrAbnuL\n",
       "ooybgWEDA/sGBgZbEL8CLtPOgaKMjYFnAQMbMIzmgfhMcJljoHBjOABXFsDGwO4FdAzYKu4NiFhw\n",
       "ABIT4D6duXNpElATrwFYYDLcuB3THhSrIQKEVf/TBYR1JT0F8BQir/YAoYwhFcwyg4qcbVKagJHq\n",
       "QMqkwKw+BjwAqIzrA9iKCQSUcYNjiTsAn7JdwJAAJ28WfKoAVZ9dUa6eI4EAAAAASUVORK5CYII=\n",
       "\" style=\"display:inline;vertical-align:middle;\" /></a>, <a class=\"ProveItLink\" href=\"../__pv_it/demonstrations/b9ff765654f5a9fab1a0f971ffbd46ba878d2ac30/expr.ipynb\"><img src=\"data:image/png;base64,iVBORw0KGgoAAAANSUhEUgAAAFAAAAAVBAMAAAAjqnRBAAAAMFBMVEX///9UVFREREQyMjIQEBAi\n",
       "IiKYmJhmZmaqqqru7u7MzMyIiIi6urp2dnbc3NwAAACKehgKAAAAAXRSTlMAQObYZgAAAAlwSFlz\n",
       "AAAOxAAADsQBlSsOGwAAAYNJREFUKM+Fkj1Iw0AUx/9NP9LkTMwqInRxEEW6qQilk4OLBQldQze3\n",
       "oODk0E0QxOiggksFQUGEtg5SEREsOqgQnBw6RBc/QBQ3N+/OSxpDqQ9eLu/d79579+7BgxAVnSW1\n",
       "eFgjpQpavkOqRBHlfnbyzd1sWgmDGAIkQNqOgrUpbH3Zr8forciuADWqhQgnn7lAyUY/9pAsC3CH\n",
       "6kME3JccIGZjGnV8qAJcofokgLppZtnaJ7E6Lf2TxizJAqRJEP9twGVDHMg886XHQA6PDQoqJxZc\n",
       "UkCa0dAnBKcbR38qaUFL5xWLfIvbxP3Gqu5VBDyQCykPeWCJg/6Gbt9EQCdRpd2hXdxl9p5JJcNr\n",
       "fI+AWHM0KFVgldkbwc6QFAUX8AJCe5ZjdjLYuWZ9xEUInMccbmlRPCGptl/GoJ9sCGx6booe1Mrc\n",
       "MR6ErI9528VwanVg+LyddH3ECaZnpuiFQag81rLw3A2a2Q5zyUDCY4yiq7TEkEHJ/g8Sfl2rO3jq\n",
       "/8S6cz9QhmJCgLC/+QAAAABJRU5ErkJggg==\n",
       "\" style=\"display:inline;vertical-align:middle;\" /></a> <a class=\"ProveItLink\" href=\"../__pv_it/demonstrations/8bb7bee60f87f64c850d8ae313caf0eff609cea50/proof.ipynb\" style=\"text-decoration: none\">&nbsp;&#x22A2;&nbsp;&nbsp;</a><a class=\"ProveItLink\" href=\"../__pv_it/demonstrations/3066ab935f64c8e893a206a0ab6e092dbd16ec660/expr.ipynb\"><img src=\"data:image/png;base64,iVBORw0KGgoAAAANSUhEUgAAAHwAAAAdBAMAAACamBVyAAAAMFBMVEX////MzMxUVFRERES6uroi\n",
       "IiIQEBCYmJhmZmYyMjLu7u52dnaqqqqIiIjc3NwAAACW8nlqAAAAAXRSTlMAQObYZgAAAAlwSFlz\n",
       "AAAOxAAADsQBlSsOGwAAAn1JREFUOMvtlUFoE0EUhv9Nk+x2sxu2ARVEMIJ6lCgVvFSCeLAUaS+5\n",
       "iBAFD6IoEUSLoOzBkkNBciuKymIP4qGwak9SJHgQxUtEpBhQC8WDt1LtoQrGN+/NbtamPeXqBN7s\n",
       "zsw3897/3k4ALNFPN2NDjzy6kz0t75Nxm5iPBgY86ZejgVwZJ7einZ1+C3iHLu740i+wbTHu1jYh\n",
       "96+HyE8fasJuJHBMJLuQcdzrodMjQ9fWgRMPAli1JL6QcMKW0zHZg3+gyWrLffG0gSyS+HJCAscT\n",
       "PBtoqFJpiCAlMuMTyBeBt//gg6zzE1kl0mFQgh9tR4vG1X7ZFU7KtOBDNP8jgBOq+UVgrk74R8Zz\n",
       "Rc5SV4KLfNAKP88I7sOYORZq0ciEr/EYXwOFm42uXxzUT34XeU8zTnGmAIrpthK2CKM5hVuki8Kd\n",
       "M7w8Pjz3R9ms5Pgc4xTnDeUCCvRqlWHjEuXNYtxgN7dXqCnNkOLTd3sJ3FVFYksRcaE4vwifYzzN\n",
       "p8/Gp7uryh5BwnkLaQ8WKfpQJZyCtRr5JtriPEeZiXG7c8d4aeoCGxG8ZsHeQ/qye0cJL5lBusy4\n",
       "yWNuK+a3dc4Ho7oYnonydz/tmFJJaqoxiiB9OYerkneLk4n73aqz4frRVoKb1bUwdlHZwvPPS4Jn\n",
       "yjz4aDiIPufjk3ujnTKeVF2d395IapQPu/QHi2965dhhXbTVzm/a4wI/m77gZ6GjhlagHeH1nmvi\n",
       "VWf1ynfxSRHzUXJt2Z6/0VDjouaG733f2gH9OMu4y4mIroabclkwPrD1bcWutPCeLBdRSo+l4hLx\n",
       "8AX/G4zFsB+8gFI/+MH+nD+FoB987Hrv/81f9liZkrgsOwEAAAAASUVORK5CYII=\n",
       "\" style=\"display:inline;vertical-align:middle;\" /></a></span>"
      ],
      "text/plain": [
       "{|varphi〉 in Complex^{n}, |psi〉 in Complex^{m}} |- (|varphi〉 . 〈psi|) in_c Q*"
      ]
     },
     "metadata": {},
     "output_type": "display_data"
    }
   ],
   "source": [
    "InClass(Qmult(ket_varphi, bra_psi), QmultCodomain).prove()"
   ]
  },
  {
   "cell_type": "code",
   "execution_count": 22,
   "metadata": {},
   "outputs": [
    {
     "data": {
      "text/html": [
       "<span style=\"font-size:20px;\"><a class=\"ProveItLink\" href=\"../../../../numbers/number_sets/natural_numbers/__pv_it/theorems/132c57ec1224a4beaf274a23bd799047020206590/expr.ipynb\"><img src=\"data:image/png;base64,iVBORw0KGgoAAAANSUhEUgAAAEEAAAATBAMAAAA9n32KAAAAMFBMVEX///9mZmYQEBCYmJgyMjKq\n",
       "qqrMzMwiIiJERER2dnbc3Nzu7u5UVFSIiIi6uroAAAA6K1lcAAAAAXRSTlMAQObYZgAAAAlwSFlz\n",
       "AAAOxAAADsQBlSsOGwAAAPlJREFUKM9jYMAHGBkIAQ6yVWz/0bKBYdKnB3jMaOU7wMD9AZ8txxdM\n",
       "ZmBQYJDoaOroMMCq4mgDywKGAmxm3CgvdwDRp2y5HLCqeHIbyjjFk3AToYLvzq65vWBxLm+Y0lMM\n",
       "DRwP4Co4Oc4y7F8AYrEsQKhI5K4ugIXpO/YGhvUJYBUMCBXMAREKMN6G/Q8Y4jeAWEnlQNAAUcFw\n",
       "mgeugiGegeEImLEDyQyGPdwFcC5Q+jM3iMGOrILtQgOcq8nA+psTxOC9ABNqA+JrcBVc3xh4HczA\n",
       "TFeYGIjB6ADj8RUwcB8OADP39IFdzJDyCaif2wFbfLxsL8cUBwB3/0NP0Yie0QAAAABJRU5ErkJg\n",
       "gg==\n",
       "\" style=\"display:inline;vertical-align:middle;\" /></a>, <a class=\"ProveItLink\" href=\"../../../../logic/sets/cartesian_products/__pv_it/theorems/79a768603778550c651661670153c27ee0a505870/expr.ipynb\"><img src=\"data:image/png;base64,iVBORw0KGgoAAAANSUhEUgAAAEYAAAATBAMAAADfQ2bzAAAAMFBMVEX///8yMjJmZmYiIiIQEBCq\n",
       "qqqYmJjMzMxERER2dnbc3Nzu7u5UVFSIiIi6uroAAACibcT0AAAAAXRSTlMAQObYZgAAAAlwSFlz\n",
       "AAAOxAAADsQBlSsOGwAAAQ9JREFUKM9jYCAAFBgIgwZK1HDbd0gzcPr74TWHI+ANA8N+/HbxWHEm\n",
       "MLAwMHV0eHS04VITwSDFwIzdHN5mY0OwmmUXFuJQwye7AWrOguO8E+Bq+O7smtvLPrMPLLVwA8yu\n",
       "BRwMfXA1nBxnGfbnMYSApaTg7lnArrB5Myyc3zE3MKy/wJAPlhJAqGFIZW2B8Tbsf8AQv4FBEcRm\n",
       "dzY2NraAquHZcATuzngGkAJPcPA2IJnDfWAzXM1BBgZLBr5f3CC2AZIahloOuBpPBu5/DDwCy0Ds\n",
       "u/C4KACGVQWMx/Wdge0DA8eECSAOYwBUFMxQhAebAQOvAgOf7gKwg068Bguyy3sAyY3Y44lvBiQu\n",
       "UAAA9FQ8d6roA+kAAAAASUVORK5CYII=\n",
       "\" style=\"display:inline;vertical-align:middle;\" /></a>, <a class=\"ProveItLink\" href=\"../__pv_it/demonstrations/d110bb13a053721ab731f462ceb03fc920ca201b0/expr.ipynb\"><img src=\"data:image/png;base64,iVBORw0KGgoAAAANSUhEUgAAAGAAAAASBAMAAABWXMbBAAAAMFBMVEX///8iIiLu7u52dna6uroQ\n",
       "EBBmZmbMzMyqqqqYmJgyMjLc3NxUVFRERESIiIgAAACK51z6AAAAAXRSTlMAQObYZgAAAAlwSFlz\n",
       "AAAOxAAADsQBlSsOGwAAAXZJREFUKM9jYCAGsBswMGQTo5Azs+4N39wCBobHDGwTQLxnOJUy2Uqt\n",
       "226g6TqB9QDfAQYGvgd2DAwg3gag3Nv/d87e2YCm4U0kg9rfhE2vGPgL2IDuYbB6wMAA4imAJH8B\n",
       "7f6Bqp7tCVDV3ASGcwylDIwNUA1AnivYR/+ARCqqhjJeoFE8CQzhDG8Z9rMDnWSQCRQNZ0gDshn4\n",
       "vgMJ/wlghXwXBaVA9CFekD8mcH8AmjqXDeppIE+8HSjO+wFI7Ac5lIFlnQLEhgvbwBTLAYbVDHse\n",
       "gYP1NIj3GGQu/wUgUX8ApGAXVD33gWI8gV0P8s98sA2r4RHliUfDe2DEMJx3ADEXQIW4E/zwaLgP\n",
       "Ir6CDQ4UFBSUBfthMx4Nf0Fp4Cc4ei/AxC7x4klYoGhQhSgVgAm6geKBwQGrBnA03IKw3yFiGhhq\n",
       "bAuwauACRoNjApTdABN9u2yDhhhW9Tz3/5y5C0vrTGed4Kk1XmwDERmAxRaSNHADANGIZA+NwLhf\n",
       "AAAAAElFTkSuQmCC\n",
       "\" style=\"display:inline;vertical-align:middle;\" /></a>, <a class=\"ProveItLink\" href=\"../__pv_it/demonstrations/55701387f25fde525e21ebc18286978696667feb0/expr.ipynb\"><img src=\"data:image/png;base64,iVBORw0KGgoAAAANSUhEUgAAAEwAAAAVBAMAAAAeOBUnAAAAMFBMVEX///8QEBAiIiKqqqpUVFSY\n",
       "mJhmZmbu7u5EREQyMjLMzMyIiIi6urp2dnbc3NwAAADC3l7hAAAAAXRSTlMAQObYZgAAAAlwSFlz\n",
       "AAAOxAAADsQBlSsOGwAAAWlJREFUKM9jeMAABVwM2AFr6uptDAx3YFyOBegK2G9ozn51ofRgAOMD\n",
       "hDLmBHRlW0QZyn4kPN/JwF+AUMaggKaKbc8FBoaIBAZvhoNIljJcRlO2jKOAgYElgUGKIY0LSdkL\n",
       "KL1DSWkCiHbnALkvgO8Dg5YVkjJOiKdPbofyG56BKR4Hhr0BIGWrgHI/ChiYL4BE+aZDVfE5rEVy\n",
       "AVBZAgPX1CMXoH7ghAUk14WjKMqYFzCwAK1gYMgBK4NJ8CWcRlHGy8AQDjKSYQmIv1AJCBrAbnuL\n",
       "ooybgWEDA/sGBgZbEL8CLtPOgaKMjYFnAQMbMIzmgfhMcJljoHBjOABXFsDGwO4FdAzYKu4NiFhw\n",
       "ABIT4D6duXNpElATrwFYYDLcuB3THhSrIQKEVf/TBYR1JT0F8BQir/YAoYwhFcwyg4qcbVKagJHq\n",
       "QMqkwKw+BjwAqIzrA9iKCQSUcYNjiTsAn7JdwJAAJ28WfKoAVZ9dUa6eI4EAAAAASUVORK5CYII=\n",
       "\" style=\"display:inline;vertical-align:middle;\" /></a> <a class=\"ProveItLink\" href=\"../__pv_it/demonstrations/7916d3425580a45b6bede63a7d3cb88649f606ab0/proof.ipynb\" style=\"text-decoration: none\">&nbsp;&#x22A2;&nbsp;&nbsp;</a><a class=\"ProveItLink\" href=\"../__pv_it/demonstrations/3798a1f247605d27df3ac78858f2067ee5a7d8b80/expr.ipynb\"><img src=\"data:image/png;base64,iVBORw0KGgoAAAANSUhEUgAAAHIAAAAdBAMAAACEUSXBAAAAMFBMVEX////MzMxUVFRERES6uroi\n",
       "IiIQEBCYmJhmZmYyMjLu7u52dnaqqqqIiIjc3NwAAACW8nlqAAAAAXRSTlMAQObYZgAAAAlwSFlz\n",
       "AAAOxAAADsQBlSsOGwAAAk5JREFUOMvlVDtoFGEQ/vaem73by0aIgiB3PksNZwQtYoKoGCxyhdcJ\n",
       "h2Ah2pwIRk2RLTQWgZAuKCqLAeszCIKIBEFRbE5SiDYepLLyvBgl+FhnZv/dy+4lzbX+8A8zs/83\n",
       "71kADaw7gaDRzWGzk7OJmIvrVU98Jm4BifomwOx2mz69I27JLe4uNkLILFv9sAFo31oNueniIoxZ\n",
       "lteA9O8QEiW6PU4UmBjqu0qPT913oFc5qT9EpsLI53TTdhS5BBiVuvns8SxSLJvfiIxVQ8hlJhfV\n",
       "+3JZQkNmgB+WkCsAb6UcTSJfayFkD+c9J+zoJ185xuGnmtKDaVb0sql8wUP20dMVB1k2tCAtuBuY\n",
       "uyQ2m8KL1TyXf1L5tKHNHat5JboeePcK+13kkghnmXym5uHAiCCzFmIABXGTxNfyMnCZ+cs05dXt\n",
       "PJNhJj+82maAG+wYWzgY1m0t0+F8EBOfeauNXOEO/PSQJlCHoUbkJOvmA59mi+lhBNFKOx8NeEgd\n",
       "CQs61fABia9YlwyQhjujvUh7aWLIb+cRNbd6VYexkyrKlq6Ip/b49rsXnFE1WAuqzCdsf+LvfNx2\n",
       "i4qV4U2QnuFee4YMmP5c9VPew61dB2eCXUlXVmt+jGdE+XDQn1/t+LU9vpGkheiW3RbuDc+ASun0\n",
       "ITV9FfcXwb2ZjAw1I88Jd5SurENoo1+6rctfRhC8CCE1GS7ZvuUN9nPv6n7FzkeRpoRoVjusdvxS\n",
       "Qr+M96SQzGOMbuD/OjsmugRqhXiXyLjVbbBJx+gSmXg63qn8B9yCi13d2kGLAAAAAElFTkSuQmCC\n",
       "\" style=\"display:inline;vertical-align:middle;\" /></a></span>"
      ],
      "text/plain": [
       "{n in NaturalPos, m in NaturalPos, D in Complex^{m x n}, |varphi〉 in Complex^{n}} |- (D . |varphi〉) in_c Q*"
      ]
     },
     "metadata": {},
     "output_type": "display_data"
    }
   ],
   "source": [
    "InClass(Qmult(D, ket_varphi), QmultCodomain).prove()"
   ]
  },
  {
   "cell_type": "code",
   "execution_count": 23,
   "metadata": {},
   "outputs": [
    {
     "data": {
      "text/html": [
       "<span style=\"font-size:20px;\"><a class=\"ProveItLink\" href=\"../../../../logic/sets/cartesian_products/__pv_it/theorems/79a768603778550c651661670153c27ee0a505870/expr.ipynb\"><img src=\"data:image/png;base64,iVBORw0KGgoAAAANSUhEUgAAAEYAAAATBAMAAADfQ2bzAAAAMFBMVEX///8yMjJmZmYiIiIQEBCq\n",
       "qqqYmJjMzMxERER2dnbc3Nzu7u5UVFSIiIi6uroAAACibcT0AAAAAXRSTlMAQObYZgAAAAlwSFlz\n",
       "AAAOxAAADsQBlSsOGwAAAQ9JREFUKM9jYCAAFBgIgwZK1HDbd0gzcPr74TWHI+ANA8N+/HbxWHEm\n",
       "MLAwMHV0eHS04VITwSDFwIzdHN5mY0OwmmUXFuJQwye7AWrOguO8E+Bq+O7smtvLPrMPLLVwA8yu\n",
       "BRwMfXA1nBxnGfbnMYSApaTg7lnArrB5Myyc3zE3MKy/wJAPlhJAqGFIZW2B8Tbsf8AQv4FBEcRm\n",
       "dzY2NraAquHZcATuzngGkAJPcPA2IJnDfWAzXM1BBgZLBr5f3CC2AZIahloOuBpPBu5/DDwCy0Ds\n",
       "u/C4KACGVQWMx/Wdge0DA8eECSAOYwBUFMxQhAebAQOvAgOf7gKwg068Bguyy3sAyY3Y44lvBiQu\n",
       "UAAA9FQ8d6roA+kAAAAASUVORK5CYII=\n",
       "\" style=\"display:inline;vertical-align:middle;\" /></a>, <a class=\"ProveItLink\" href=\"../__pv_it/demonstrations/b9ff765654f5a9fab1a0f971ffbd46ba878d2ac30/expr.ipynb\"><img src=\"data:image/png;base64,iVBORw0KGgoAAAANSUhEUgAAAFAAAAAVBAMAAAAjqnRBAAAAMFBMVEX///9UVFREREQyMjIQEBAi\n",
       "IiKYmJhmZmaqqqru7u7MzMyIiIi6urp2dnbc3NwAAACKehgKAAAAAXRSTlMAQObYZgAAAAlwSFlz\n",
       "AAAOxAAADsQBlSsOGwAAAYNJREFUKM+Fkj1Iw0AUx/9NP9LkTMwqInRxEEW6qQilk4OLBQldQze3\n",
       "oODk0E0QxOiggksFQUGEtg5SEREsOqgQnBw6RBc/QBQ3N+/OSxpDqQ9eLu/d79579+7BgxAVnSW1\n",
       "eFgjpQpavkOqRBHlfnbyzd1sWgmDGAIkQNqOgrUpbH3Zr8forciuADWqhQgnn7lAyUY/9pAsC3CH\n",
       "6kME3JccIGZjGnV8qAJcofokgLppZtnaJ7E6Lf2TxizJAqRJEP9twGVDHMg886XHQA6PDQoqJxZc\n",
       "UkCa0dAnBKcbR38qaUFL5xWLfIvbxP3Gqu5VBDyQCykPeWCJg/6Gbt9EQCdRpd2hXdxl9p5JJcNr\n",
       "fI+AWHM0KFVgldkbwc6QFAUX8AJCe5ZjdjLYuWZ9xEUInMccbmlRPCGptl/GoJ9sCGx6booe1Mrc\n",
       "MR6ErI9528VwanVg+LyddH3ECaZnpuiFQag81rLw3A2a2Q5zyUDCY4yiq7TEkEHJ/g8Sfl2rO3jq\n",
       "/8S6cz9QhmJCgLC/+QAAAABJRU5ErkJggg==\n",
       "\" style=\"display:inline;vertical-align:middle;\" /></a> <a class=\"ProveItLink\" href=\"../__pv_it/demonstrations/9dd2dd782d6214be743d4ceb330cf5d197c9bffd0/proof.ipynb\" style=\"text-decoration: none\">&nbsp;&#x22A2;&nbsp;&nbsp;</a><a class=\"ProveItLink\" href=\"../__pv_it/demonstrations/f6e1ebd75cdc62cbeffd2384a8b5a01841ea77c50/expr.ipynb\"><img src=\"data:image/png;base64,iVBORw0KGgoAAAANSUhEUgAAAHwAAAAdBAMAAACamBVyAAAAMFBMVEX////MzMxUVFRERES6uroi\n",
       "IiIQEBCYmJhmZmYyMjLu7u52dnaqqqqIiIjc3NwAAACW8nlqAAAAAXRSTlMAQObYZgAAAAlwSFlz\n",
       "AAAOxAAADsQBlSsOGwAAAlVJREFUOMvtVD1oFFEQ/laT29zu7XIGYiFCUqiNIIlEsLkQJARDimzh\n",
       "NSIkhYVosyL4Vx1oEw7kuoCoLFpZCKtYicgpKIqFKxYRC1lIJViEoEUUPGfm/Vw25qprHXjD+2bf\n",
       "997bmW8egBxAFdpy69gcGiF6WdggF7RpMm5CT61j203bDmQ92JV9Dfr0nmZ+m3FQpBOs8P6rOzAP\n",
       "baYIm0fb8FoEByXoF+kMIxrlZDt7oLbn8iZw8m6CoZjwW4k+KtIZPqfhNrbTPwHeYhY8e9xCifGE\n",
       "RF8W6QzXeHJek+r1lroWZ2ohQjgGvKOpp8Jpkc6wzEVYETj3xRy+wH9TWpcKNTlJMbzPMdIgMnQD\n",
       "K7zHE6nSbXv3C+zK6zJfUZnzK0teHPwydAMld9dg7qHS/kNwJOAMjRPA/qHIzbFk6AbiJsE3stwe\n",
       "7v9hX1IJPQtZk5QyKlTD0A3EMMFRju2tk4m6dsnpo1VLZ2F8SHx4mU2dhiKqWY49sKcHG+yPw17+\n",
       "IY1lfEeQWLqGuEfwNayy2LzOLeeFq34dNZY2peUGrmOmWzgNpRkuyZld6Y90ziVzWopcFS7PbJ66\n",
       "0126htIMTVl4p6s6D4FR4giUtJ3Dta9bZKOhXPmULLw/abTvzFw9YHYarGppO+1CwyrIzRDq35w/\n",
       "pkW72PlN35WUpSFY2kFSoCs4RUOaqvBMvOpsXPw2rcCU7km/+FwIlGZY26HfD/48oqdcUDdTj8XW\n",
       "06GaQe3f20KuyJhBH60TgfEWOf6bs5r2Qx/GeD/0if4ufxpJP/T5K/E/sb9z0qg4V3SFPwAAAABJ\n",
       "RU5ErkJggg==\n",
       "\" style=\"display:inline;vertical-align:middle;\" /></a></span>"
      ],
      "text/plain": [
       "{m in NaturalPos, |psi〉 in Complex^{m}} |- (〈psi| . |psi〉) in_c Q*"
      ]
     },
     "metadata": {},
     "output_type": "display_data"
    }
   ],
   "source": [
    "InClass(Qmult(bra_psi, ket_psi), QmultCodomain).prove()"
   ]
  },
  {
   "cell_type": "code",
   "execution_count": 24,
   "metadata": {},
   "outputs": [
    {
     "data": {
      "text/html": [
       "<span style=\"font-size:20px;\"><a class=\"ProveItLink\" href=\"../__pv_it/demonstrations/209baac38918ef8b1210d5267967da66f42b39310/expr.ipynb\"><img src=\"data:image/png;base64,iVBORw0KGgoAAAANSUhEUgAAADYAAAAQBAMAAACvnpHFAAAAMFBMVEX///+YmJgyMjJmZmZERESI\n",
       "iIiqqqoQEBDu7u66uroiIiLc3NzMzMxUVFR2dnYAAAB9mGmPAAAAAXRSTlMAQObYZgAAAAlwSFlz\n",
       "AAAOxAAADsQBlSsOGwAAANhJREFUGNNjYMAGOJ4sUt3zAKsUQ2whQ/MXA6xSzJFAPSLY5Q6zNDAw\n",
       "8KLKhaxapQCib7CA7BRAlpoUAWU4bIYJvXt7AExza0AFuC+cg7J2TeCo5k4AMpg2QEV4HkyEskoZ\n",
       "GJxZG0ByMIO4DaZC3fuBgcGID8Q6vgoIHMD27YPIsQN5z1+AWC1wR3mwQOj+AAaG9yDrGLjgcpNB\n",
       "/mOYwMAPlHsOFmENQITLBSChwMDswMBozwMWUkMEgvKGtsUg7wlGMD8Fi/R6NsDjoX7xBtRwnOcF\n",
       "CTMoAAB6EDLom0lYxwAAAABJRU5ErkJggg==\n",
       "\" style=\"display:inline;vertical-align:middle;\" /></a>, <a class=\"ProveItLink\" href=\"../../../../numbers/number_sets/natural_numbers/__pv_it/theorems/132c57ec1224a4beaf274a23bd799047020206590/expr.ipynb\"><img src=\"data:image/png;base64,iVBORw0KGgoAAAANSUhEUgAAAEEAAAATBAMAAAA9n32KAAAAMFBMVEX///9mZmYQEBCYmJgyMjKq\n",
       "qqrMzMwiIiJERER2dnbc3Nzu7u5UVFSIiIi6uroAAAA6K1lcAAAAAXRSTlMAQObYZgAAAAlwSFlz\n",
       "AAAOxAAADsQBlSsOGwAAAPlJREFUKM9jYMAHGBkIAQ6yVWz/0bKBYdKnB3jMaOU7wMD9AZ8txxdM\n",
       "ZmBQYJDoaOroMMCq4mgDywKGAmxm3CgvdwDRp2y5HLCqeHIbyjjFk3AToYLvzq65vWBxLm+Y0lMM\n",
       "DRwP4Co4Oc4y7F8AYrEsQKhI5K4ugIXpO/YGhvUJYBUMCBXMAREKMN6G/Q8Y4jeAWEnlQNAAUcFw\n",
       "mgeugiGegeEImLEDyQyGPdwFcC5Q+jM3iMGOrILtQgOcq8nA+psTxOC9ABNqA+JrcBVc3xh4HczA\n",
       "TFeYGIjB6ADj8RUwcB8OADP39IFdzJDyCaif2wFbfLxsL8cUBwB3/0NP0Yie0QAAAABJRU5ErkJg\n",
       "gg==\n",
       "\" style=\"display:inline;vertical-align:middle;\" /></a>, <a class=\"ProveItLink\" href=\"../../../../logic/sets/cartesian_products/__pv_it/theorems/79a768603778550c651661670153c27ee0a505870/expr.ipynb\"><img src=\"data:image/png;base64,iVBORw0KGgoAAAANSUhEUgAAAEYAAAATBAMAAADfQ2bzAAAAMFBMVEX///8yMjJmZmYiIiIQEBCq\n",
       "qqqYmJjMzMxERER2dnbc3Nzu7u5UVFSIiIi6uroAAACibcT0AAAAAXRSTlMAQObYZgAAAAlwSFlz\n",
       "AAAOxAAADsQBlSsOGwAAAQ9JREFUKM9jYCAAFBgIgwZK1HDbd0gzcPr74TWHI+ANA8N+/HbxWHEm\n",
       "MLAwMHV0eHS04VITwSDFwIzdHN5mY0OwmmUXFuJQwye7AWrOguO8E+Bq+O7smtvLPrMPLLVwA8yu\n",
       "BRwMfXA1nBxnGfbnMYSApaTg7lnArrB5Myyc3zE3MKy/wJAPlhJAqGFIZW2B8Tbsf8AQv4FBEcRm\n",
       "dzY2NraAquHZcATuzngGkAJPcPA2IJnDfWAzXM1BBgZLBr5f3CC2AZIahloOuBpPBu5/DDwCy0Ds\n",
       "u/C4KACGVQWMx/Wdge0DA8eECSAOYwBUFMxQhAebAQOvAgOf7gKwg068Bguyy3sAyY3Y44lvBiQu\n",
       "UAAA9FQ8d6roA+kAAAAASUVORK5CYII=\n",
       "\" style=\"display:inline;vertical-align:middle;\" /></a>, <a class=\"ProveItLink\" href=\"../__pv_it/demonstrations/053fb38df6fcf9baf4abe8cee7dd8e99b8a50fd80/expr.ipynb\"><img src=\"data:image/png;base64,iVBORw0KGgoAAAANSUhEUgAAAF0AAAASBAMAAADLUc9JAAAAMFBMVEX///8QEBAiIiLu7u5ERES6\n",
       "urqYmJiIiIjMzMx2dnZUVFRmZmaqqqoyMjLc3NwAAABb1yYoAAAAAXRSTlMAQObYZgAAAAlwSFlz\n",
       "AAAOxAAADsQBlSsOGwAAAXZJREFUKM9jYCAIOhkYuB8wEAPYtrVXMzCwT2DYxsCQnVG+oMwDKvEW\n",
       "XSXzFN3rLyaYBSYwAk0u5yxgYE4VY5BiqIJK30dXXyXGYP1lw+NaBn4DBgbO6wwMfOYXGH4w7ITI\n",
       "8vxHU85dOoGBIWUDw3KGQAaIegauAg4BBh2o9Ho0/3SzAI3l2sAgwbCbg4GhkjuBgYGxgd2B70MD\n",
       "WHrefAjNwO6kpAuiF7OA/JDA94FB4wTUv++BNrA5bADJ8hXUHwArZ71uANHn8BrCX8BQmQAKT64H\n",
       "DFEMvA/4loPluRnOJ0CCCaqcb0EnvmCOYeifAGbcgwpwTAjDp34Dw/sFYMYFqADfhnA8ytm9d693\n",
       "ABsrpKSkpAJ2/0s86s0ZGPgVwJHqABNyZsHrHAYmATBLASYUDQp/hgCsylmBYcP7AcwsR8Qv0EPc\n",
       "F7CqfwjELP/ATN4DMMGS2w9stLEqN/l/mYHH/y84QJmXBMPTp7w2EWmedQokPeAGAE5AWIoR4vwp\n",
       "AAAAAElFTkSuQmCC\n",
       "\" style=\"display:inline;vertical-align:middle;\" /></a> <a class=\"ProveItLink\" href=\"../__pv_it/demonstrations/389b9520862ee31ceab8b9833cc56c511655b8300/proof.ipynb\" style=\"text-decoration: none\">&nbsp;&#x22A2;&nbsp;&nbsp;</a><a class=\"ProveItLink\" href=\"../__pv_it/demonstrations/b23591166adde3825f3df64d02b8437dcf329f550/expr.ipynb\"><img src=\"data:image/png;base64,iVBORw0KGgoAAAANSUhEUgAAAGAAAAAdBAMAAACnCnQUAAAAMFBMVEX////MzMxUVFRERES6uroi\n",
       "IiIQEBCYmJhmZmYyMjLu7u52dnaqqqqIiIjc3NwAAACW8nlqAAAAAXRSTlMAQObYZgAAAAlwSFlz\n",
       "AAAOxAAADsQBlSsOGwAAAfFJREFUOMtjYGB4wIAG+BhwAb4GIMF7AEXsJQMDywUc6nmkGoBSp1EF\n",
       "5wPxdSxq1X5uYODrNjrAwDUBVeI/kOBcgK6exVaw7CcDg8fcBQwcBSgyHPpAL7E3oGu4zMDAFX+B\n",
       "d9fGCQxsqDL79gsAySwIh9c0NBLM4DYAEv4BDHwKDAwnUYPhwn1QGEyHuGMuzGn+IAbbB3CIdoME\n",
       "dm8SgLqI4TzIiZsgAQb3SjaI4PwAZoMMe+rAlccHDl0fBvkNQKoSLDUPHhJfwBoCwJwYIM5lYLDg\n",
       "BRvXwPAe6EyGY2ApePhx/wORbJCgSAG6A2hXJzfYlxYd+iD/yYM4jKmhoaHBIBYT2AZ5AZgGNqCa\n",
       "bbtAnLUMDPwgi91AHC4DmA28n0CkBQPMSeuB8b3/AMRFDKwJQPooWCoApoHrfx/jPnYo1xZoKFDD\n",
       "NnA4FkDDohgsdRce2qL/MxZ4QsMMGIIcBgzs/YxA9jMgZgZ5EBzWDJyIZMnFwAuLfVFQNJTf4tjL\n",
       "wLD4/ywGHntgImMIgahS9oIqYnSpUIHpZRXAkuyhzmXZDE0a8f9/A3VBEgxmQmNAT5BAEw79/1T4\n",
       "0gHCscPU8BhLflD9qgdlLsaUtWPAB/gwMiTvA4bhAxivbyBNgxCDAWkaDEl1UhTDAtI0eJcXYIgB\n",
       "AO6xciS7R6imAAAAAElFTkSuQmCC\n",
       "\" style=\"display:inline;vertical-align:middle;\" /></a></span>"
      ],
      "text/plain": [
       "{alpha in Complex, n in NaturalPos, m in NaturalPos, A in Complex^{n x m}} |- (alpha . A) in_c Q*"
      ]
     },
     "metadata": {},
     "output_type": "display_data"
    }
   ],
   "source": [
    "InClass(Qmult(alpha, A), QmultCodomain).prove()"
   ]
  },
  {
   "cell_type": "code",
   "execution_count": 25,
   "metadata": {},
   "outputs": [
    {
     "data": {
      "text/html": [
       "<span style=\"font-size:20px;\"><a class=\"ProveItLink\" href=\"../../../../numbers/number_sets/natural_numbers/__pv_it/theorems/132c57ec1224a4beaf274a23bd799047020206590/expr.ipynb\"><img src=\"data:image/png;base64,iVBORw0KGgoAAAANSUhEUgAAAEEAAAATBAMAAAA9n32KAAAAMFBMVEX///9mZmYQEBCYmJgyMjKq\n",
       "qqrMzMwiIiJERER2dnbc3Nzu7u5UVFSIiIi6uroAAAA6K1lcAAAAAXRSTlMAQObYZgAAAAlwSFlz\n",
       "AAAOxAAADsQBlSsOGwAAAPlJREFUKM9jYMAHGBkIAQ6yVWz/0bKBYdKnB3jMaOU7wMD9AZ8txxdM\n",
       "ZmBQYJDoaOroMMCq4mgDywKGAmxm3CgvdwDRp2y5HLCqeHIbyjjFk3AToYLvzq65vWBxLm+Y0lMM\n",
       "DRwP4Co4Oc4y7F8AYrEsQKhI5K4ugIXpO/YGhvUJYBUMCBXMAREKMN6G/Q8Y4jeAWEnlQNAAUcFw\n",
       "mgeugiGegeEImLEDyQyGPdwFcC5Q+jM3iMGOrILtQgOcq8nA+psTxOC9ABNqA+JrcBVc3xh4HczA\n",
       "TFeYGIjB6ADj8RUwcB8OADP39IFdzJDyCaif2wFbfLxsL8cUBwB3/0NP0Yie0QAAAABJRU5ErkJg\n",
       "gg==\n",
       "\" style=\"display:inline;vertical-align:middle;\" /></a>, <a class=\"ProveItLink\" href=\"../__pv_it/demonstrations/55701387f25fde525e21ebc18286978696667feb0/expr.ipynb\"><img src=\"data:image/png;base64,iVBORw0KGgoAAAANSUhEUgAAAEwAAAAVBAMAAAAeOBUnAAAAMFBMVEX///8QEBAiIiKqqqpUVFSY\n",
       "mJhmZmbu7u5EREQyMjLMzMyIiIi6urp2dnbc3NwAAADC3l7hAAAAAXRSTlMAQObYZgAAAAlwSFlz\n",
       "AAAOxAAADsQBlSsOGwAAAWlJREFUKM9jeMAABVwM2AFr6uptDAx3YFyOBegK2G9ozn51ofRgAOMD\n",
       "hDLmBHRlW0QZyn4kPN/JwF+AUMaggKaKbc8FBoaIBAZvhoNIljJcRlO2jKOAgYElgUGKIY0LSdkL\n",
       "KL1DSWkCiHbnALkvgO8Dg5YVkjJOiKdPbofyG56BKR4Hhr0BIGWrgHI/ChiYL4BE+aZDVfE5rEVy\n",
       "AVBZAgPX1CMXoH7ghAUk14WjKMqYFzCwAK1gYMgBK4NJ8CWcRlHGy8AQDjKSYQmIv1AJCBrAbnuL\n",
       "ooybgWEDA/sGBgZbEL8CLtPOgaKMjYFnAQMbMIzmgfhMcJljoHBjOABXFsDGwO4FdAzYKu4NiFhw\n",
       "ABIT4D6duXNpElATrwFYYDLcuB3THhSrIQKEVf/TBYR1JT0F8BQir/YAoYwhFcwyg4qcbVKagJHq\n",
       "QMqkwKw+BjwAqIzrA9iKCQSUcYNjiTsAn7JdwJAAJ28WfKoAVZ9dUa6eI4EAAAAASUVORK5CYII=\n",
       "\" style=\"display:inline;vertical-align:middle;\" /></a>, <a class=\"ProveItLink\" href=\"../__pv_it/demonstrations/a96adf032fe1e70a10118c41779605949495a8190/expr.ipynb\"><img src=\"data:image/png;base64,iVBORw0KGgoAAAANSUhEUgAAADQAAAAUBAMAAAAw+gPuAAAAMFBMVEX///8yMjLMzMzc3NyIiIhU\n",
       "VFR2dnZmZmYQEBCYmJi6urru7u5EREQiIiKqqqoAAABRQ6LBAAAAAXRSTlMAQObYZgAAAAlwSFlz\n",
       "AAAOxAAADsQBlSsOGwAAANRJREFUKM9jYMACuHMuihglYJNhcO1k2P6nAJsMuxdQxxysUuo8GxgY\n",
       "WFGkfO7eFQDR0Twg+yYgySz0hjIOmEMZb/9sYFgNpJmloQLMAWoQBmd7bgCDA5DBaACVYkpYCWHY\n",
       "MDAcYlIAScEMZi5YAmEALdjCAmJo3AWCA2C7zOD2s9mByD1w/mkehBTIKgZeOH85yF8MC8BS4OBi\n",
       "cUCERgCQAHuRTQEsIofwu7jBvusQVRCBrac2wEO+/zrEK6xQkWVnIQGFBJYx4ARZuKUO4JYywC4M\n",
       "AInOLMSMX0ERAAAAAElFTkSuQmCC\n",
       "\" style=\"display:inline;vertical-align:middle;\" /></a> <a class=\"ProveItLink\" href=\"../__pv_it/demonstrations/077bc30d4199ea50a5c1d5f52dd065960171502e0/proof.ipynb\" style=\"text-decoration: none\">&nbsp;&#x22A2;&nbsp;&nbsp;</a><a class=\"ProveItLink\" href=\"../__pv_it/demonstrations/1cca5c079ccd7a2e7799cf59d55498b7cb82940d0/expr.ipynb\"><img src=\"data:image/png;base64,iVBORw0KGgoAAAANSUhEUgAAAIoAAAAdBAMAAACHyumsAAAAMFBMVEX////MzMxUVFRERES6uroi\n",
       "IiIQEBCYmJhmZmYyMjLu7u52dnaqqqqIiIjc3NwAAACW8nlqAAAAAXRSTlMAQObYZgAAAAlwSFlz\n",
       "AAAOxAAADsQBlSsOGwAAAp1JREFUOMvtVE1oE0EU/jZJs9tNd9kKVfTSCOpFkFQURKjUImLNoTm0\n",
       "FxWC4KHUS4t/1VMOSsGAxFNRrC715KGwil5EJAoVxUtEpOgp0pPgIVR7KILxvdnZ2d2YeMrRBzO8\n",
       "92bme/8DoA7AgSQW7EAI1VFlK9kl2qwqMblA9ZRWZiSQhsK7qVoHkL4dJTp6z++q7VHeRm6vtgHY\n",
       "s+nBLu+vwqyQ2IP2KD2RJ71uK0hquP/yJnBi0YUxE7MZRwl9BPRSK8pHwCzWrOePK0jH44+jhPki\n",
       "mpZvJycrvgk+HC/AzgLviDUrHVBwP4KyIPaxL4E8ziGmG6KuZS4TRdVPF364AYrmIPXgsJ96rJD+\n",
       "JPBEeHdXoZ4X2WooC5zEErSFUS9AMYDtF/f6J/rUsyyomFfFq7oq0E8hF4RwhtYo6RwkgFyA8grI\n",
       "IgkYFNwa5Y18wxvxSrmS+c172s/5OVrXSQdcY4ckigfdZYc0yhwlYtki9SBf3zpJJHKeEL4MOgqF\n",
       "Goqu1WDWApQaK5bJRc+3+52248w9VL5Y67wfgoroEbmOlANDZbeEo8BNlYYMt/9KvA/N5i3tpe6n\n",
       "BcO0knVqPgPmTlXpecJZckROBAq7dEF4EI7TQHPKHZMNzfVjv+983nZjRKH0Lt6emyD2hUTh6MuC\n",
       "vRc2kAkr6OcB3sgvvbjhRbruUvO0PGAyeJsQ7NKBYJ60Y3O71MA50uR8rHfFeKFP2kpwv0nE/EE5\n",
       "AcXmL4KaDoeMwz8bQ0mLCiZlj+UR4EZ/p9fN9dlvclqO+FOvNWIoojm4eEq71uZ/2b2xT7LcATr1\n",
       "RyGG8in2M+Wktc5kc+2ysP0m/MDVJParkLLhb2zV8Z/+Rdqq1wWULch1AWWoKxGdgtsFlPyVmb90\n",
       "fwAMp5/1+8544wAAAABJRU5ErkJggg==\n",
       "\" style=\"display:inline;vertical-align:middle;\" /></a></span>"
      ],
      "text/plain": [
       "{n in NaturalPos, |varphi〉 in Complex^{n}, gamma in Complex} |- (〈varphi| . |varphi〉 . gamma) in_c Q*"
      ]
     },
     "metadata": {},
     "output_type": "display_data"
    }
   ],
   "source": [
    "InClass(Qmult(bra_varphi, ket_varphi, gamma), QmultCodomain).prove()"
   ]
  },
  {
   "cell_type": "code",
   "execution_count": 26,
   "metadata": {},
   "outputs": [
    {
     "data": {
      "text/html": [
       "<a class=\"ProveItLink\" href=\"../__pv_it/demonstrations/ec98014517e6a0d3f8983153cef35d4f0a9e127f0/expr.ipynb\"><img src=\"data:image/png;base64,iVBORw0KGgoAAAANSUhEUgAAAGAAAAAVBAMAAABLWfZ5AAAAMFBMVEX///+YmJgyMjJmZmZERESI\n",
       "iIiqqqoQEBDu7u66uroiIiLc3NzMzMxUVFR2dnYAAAB9mGmPAAAAAXRSTlMAQObYZgAAAAlwSFlz\n",
       "AAAOxAAADsQBlSsOGwAAAcNJREFUOMuFkzlLA0EUx//ruuvGrGvS2QhiK3gXWogBsVJJQAVBi4BW\n",
       "IhoQK5ttbDVWHoikU7stNIVFSKWICPkEkiZeoEYJIt5vjiyruDrwmDcz7zfzrgH8h1NWTF+TYIN3\n",
       "dV1WKrN+QEVRzJnhLhfQAL3VD5gTgBlDvQtYJCk/oOeVT8vApgsskVz42FuZNz7HCHWBGZJ9H+BA\n",
       "e5KAvusCeRab4zW7uy0noVV/YFPgdKjR5oAxHEJeS0FnFKZLNtaBw6SxGIxzw7j5IcIMb2Y5YOkJ\n",
       "I6Q9i6iV+Zsc83YB6NPYhVARfJd5USIcOFJTioME0C0CGTSzUCmT7Rb3aKSjpyTzEihywK6K0RFV\n",
       "4YyWY3RCRamiuy6vmJ1Bz70wZYuqlRBBz9kW35+VaUwDK7S8jwuPgB2Zl8qcANqRBvO3SQJkXEty\n",
       "yVerJC1MoYY6dgTQiTpsUI9FJEB3qREovawdg8yLKBkabQjsyeZbc/JKkgzjEmDJuwuPqQUyiz7a\n",
       "mPpsplY7GS2Uu9U87x8nrVoWSv29QbztbfK7J+VOzf+AqNCA3Nn+FVjyApw2Gn5+qW9j69sL/A+F\n",
       "5E4Ef44J/HSdcvgFqONv6UFyzbIAAAAASUVORK5CYII=\n",
       "\" style=\"display:inline;vertical-align:middle;\" /></a>"
      ],
      "text/plain": [
       "alpha . A . beta . |psi〉 . gamma"
      ]
     },
     "metadata": {},
     "output_type": "display_data"
    }
   ],
   "source": [
    "qmult1"
   ]
  },
  {
   "cell_type": "code",
   "execution_count": 27,
   "metadata": {},
   "outputs": [
    {
     "data": {
      "text/html": [
       "<span style=\"font-size:20px;\"><a class=\"ProveItLink\" href=\"../__pv_it/demonstrations/a96adf032fe1e70a10118c41779605949495a8190/expr.ipynb\"><img src=\"data:image/png;base64,iVBORw0KGgoAAAANSUhEUgAAADQAAAAUBAMAAAAw+gPuAAAAMFBMVEX///8yMjLMzMzc3NyIiIhU\n",
       "VFR2dnZmZmYQEBCYmJi6urru7u5EREQiIiKqqqoAAABRQ6LBAAAAAXRSTlMAQObYZgAAAAlwSFlz\n",
       "AAAOxAAADsQBlSsOGwAAANRJREFUKM9jYMACuHMuihglYJNhcO1k2P6nAJsMuxdQxxysUuo8GxgY\n",
       "WFGkfO7eFQDR0Twg+yYgySz0hjIOmEMZb/9sYFgNpJmloQLMAWoQBmd7bgCDA5DBaACVYkpYCWHY\n",
       "MDAcYlIAScEMZi5YAmEALdjCAmJo3AWCA2C7zOD2s9mByD1w/mkehBTIKgZeOH85yF8MC8BS4OBi\n",
       "cUCERgCQAHuRTQEsIofwu7jBvusQVRCBrac2wEO+/zrEK6xQkWVnIQGFBJYx4ARZuKUO4JYywC4M\n",
       "AInOLMSMX0ERAAAAAElFTkSuQmCC\n",
       "\" style=\"display:inline;vertical-align:middle;\" /></a>, <a class=\"ProveItLink\" href=\"../../../../logic/sets/cartesian_products/__pv_it/theorems/79a768603778550c651661670153c27ee0a505870/expr.ipynb\"><img src=\"data:image/png;base64,iVBORw0KGgoAAAANSUhEUgAAAEYAAAATBAMAAADfQ2bzAAAAMFBMVEX///8yMjJmZmYiIiIQEBCq\n",
       "qqqYmJjMzMxERER2dnbc3Nzu7u5UVFSIiIi6uroAAACibcT0AAAAAXRSTlMAQObYZgAAAAlwSFlz\n",
       "AAAOxAAADsQBlSsOGwAAAQ9JREFUKM9jYCAAFBgIgwZK1HDbd0gzcPr74TWHI+ANA8N+/HbxWHEm\n",
       "MLAwMHV0eHS04VITwSDFwIzdHN5mY0OwmmUXFuJQwye7AWrOguO8E+Bq+O7smtvLPrMPLLVwA8yu\n",
       "BRwMfXA1nBxnGfbnMYSApaTg7lnArrB5Myyc3zE3MKy/wJAPlhJAqGFIZW2B8Tbsf8AQv4FBEcRm\n",
       "dzY2NraAquHZcATuzngGkAJPcPA2IJnDfWAzXM1BBgZLBr5f3CC2AZIahloOuBpPBu5/DDwCy0Ds\n",
       "u/C4KACGVQWMx/Wdge0DA8eECSAOYwBUFMxQhAebAQOvAgOf7gKwg068Bguyy3sAyY3Y44lvBiQu\n",
       "UAAA9FQ8d6roA+kAAAAASUVORK5CYII=\n",
       "\" style=\"display:inline;vertical-align:middle;\" /></a>, <a class=\"ProveItLink\" href=\"../../../../numbers/number_sets/natural_numbers/__pv_it/theorems/132c57ec1224a4beaf274a23bd799047020206590/expr.ipynb\"><img src=\"data:image/png;base64,iVBORw0KGgoAAAANSUhEUgAAAEEAAAATBAMAAAA9n32KAAAAMFBMVEX///9mZmYQEBCYmJgyMjKq\n",
       "qqrMzMwiIiJERER2dnbc3Nzu7u5UVFSIiIi6uroAAAA6K1lcAAAAAXRSTlMAQObYZgAAAAlwSFlz\n",
       "AAAOxAAADsQBlSsOGwAAAPlJREFUKM9jYMAHGBkIAQ6yVWz/0bKBYdKnB3jMaOU7wMD9AZ8txxdM\n",
       "ZmBQYJDoaOroMMCq4mgDywKGAmxm3CgvdwDRp2y5HLCqeHIbyjjFk3AToYLvzq65vWBxLm+Y0lMM\n",
       "DRwP4Co4Oc4y7F8AYrEsQKhI5K4ugIXpO/YGhvUJYBUMCBXMAREKMN6G/Q8Y4jeAWEnlQNAAUcFw\n",
       "mgeugiGegeEImLEDyQyGPdwFcC5Q+jM3iMGOrILtQgOcq8nA+psTxOC9ABNqA+JrcBVc3xh4HczA\n",
       "TFeYGIjB6ADj8RUwcB8OADP39IFdzJDyCaif2wFbfLxsL8cUBwB3/0NP0Yie0QAAAABJRU5ErkJg\n",
       "gg==\n",
       "\" style=\"display:inline;vertical-align:middle;\" /></a>, <a class=\"ProveItLink\" href=\"../__pv_it/demonstrations/4827169ff5051c0ad90075d5d60d0692974558df0/expr.ipynb\"><img src=\"data:image/png;base64,iVBORw0KGgoAAAANSUhEUgAAADUAAAATBAMAAADCPVhoAAAAMFBMVEX///8QEBAyMjJERESqqqoi\n",
       "IiK6urpUVFSYmJjMzMzu7u5mZmaIiIh2dnbc3NwAAADJOHriAAAAAXRSTlMAQObYZgAAAAlwSFlz\n",
       "AAAOxAAADsQBlSsOGwAAAPZJREFUKM9jYMAG1poqnZsLZr09vQtViqewgWu/NYjFeYChHVVuTy4D\n",
       "AwdYbi0DQyqKFOcGKyBZDWIeYGDYDhE8HBqqAKTYFxgAyRUQOZYosFTSKYgSZr4NUBPY5pkrLQAx\n",
       "+LSgIs85L0BZvAwdqRNADKYHUJG5bA1wOQYOA7AczC2v2Q5AWWuAxn4AMSaGAoEB2D6YmZlAvwqA\n",
       "GIth+pjB7gQBoBrmAhCDFSbHBvYfGxADfTQR7AqeA/BwSQcSmxgYuHYwsIVBhFTg4Wm0j8sV6EeW\n",
       "aWfuQIWWmy2AxYPh130QL8BBrik4zOCAlwE3WINHLhO3FAAKQjWfO727FgAAAABJRU5ErkJggg==\n",
       "\" style=\"display:inline;vertical-align:middle;\" /></a>, <a class=\"ProveItLink\" href=\"../__pv_it/demonstrations/209baac38918ef8b1210d5267967da66f42b39310/expr.ipynb\"><img src=\"data:image/png;base64,iVBORw0KGgoAAAANSUhEUgAAADYAAAAQBAMAAACvnpHFAAAAMFBMVEX///+YmJgyMjJmZmZERESI\n",
       "iIiqqqoQEBDu7u66uroiIiLc3NzMzMxUVFR2dnYAAAB9mGmPAAAAAXRSTlMAQObYZgAAAAlwSFlz\n",
       "AAAOxAAADsQBlSsOGwAAANhJREFUGNNjYMAGOJ4sUt3zAKsUQ2whQ/MXA6xSzJFAPSLY5Q6zNDAw\n",
       "8KLKhaxapQCib7CA7BRAlpoUAWU4bIYJvXt7AExza0AFuC+cg7J2TeCo5k4AMpg2QEV4HkyEskoZ\n",
       "GJxZG0ByMIO4DaZC3fuBgcGID8Q6vgoIHMD27YPIsQN5z1+AWC1wR3mwQOj+AAaG9yDrGLjgcpNB\n",
       "/mOYwMAPlHsOFmENQITLBSChwMDswMBozwMWUkMEgvKGtsUg7wlGMD8Fi/R6NsDjoX7xBtRwnOcF\n",
       "CTMoAAB6EDLom0lYxwAAAABJRU5ErkJggg==\n",
       "\" style=\"display:inline;vertical-align:middle;\" /></a>, <a class=\"ProveItLink\" href=\"../__pv_it/demonstrations/053fb38df6fcf9baf4abe8cee7dd8e99b8a50fd80/expr.ipynb\"><img src=\"data:image/png;base64,iVBORw0KGgoAAAANSUhEUgAAAF0AAAASBAMAAADLUc9JAAAAMFBMVEX///8QEBAiIiLu7u5ERES6\n",
       "urqYmJiIiIjMzMx2dnZUVFRmZmaqqqoyMjLc3NwAAABb1yYoAAAAAXRSTlMAQObYZgAAAAlwSFlz\n",
       "AAAOxAAADsQBlSsOGwAAAXZJREFUKM9jYCAIOhkYuB8wEAPYtrVXMzCwT2DYxsCQnVG+oMwDKvEW\n",
       "XSXzFN3rLyaYBSYwAk0u5yxgYE4VY5BiqIJK30dXXyXGYP1lw+NaBn4DBgbO6wwMfOYXGH4w7ITI\n",
       "8vxHU85dOoGBIWUDw3KGQAaIegauAg4BBh2o9Ho0/3SzAI3l2sAgwbCbg4GhkjuBgYGxgd2B70MD\n",
       "WHrefAjNwO6kpAuiF7OA/JDA94FB4wTUv++BNrA5bADJ8hXUHwArZ71uANHn8BrCX8BQmQAKT64H\n",
       "DFEMvA/4loPluRnOJ0CCCaqcb0EnvmCOYeifAGbcgwpwTAjDp34Dw/sFYMYFqADfhnA8ytm9d693\n",
       "ABsrpKSkpAJ2/0s86s0ZGPgVwJHqABNyZsHrHAYmATBLASYUDQp/hgCsylmBYcP7AcwsR8Qv0EPc\n",
       "F7CqfwjELP/ATN4DMMGS2w9stLEqN/l/mYHH/y84QJmXBMPTp7w2EWmedQokPeAGAE5AWIoR4vwp\n",
       "AAAAAElFTkSuQmCC\n",
       "\" style=\"display:inline;vertical-align:middle;\" /></a>, <a class=\"ProveItLink\" href=\"../__pv_it/demonstrations/b9ff765654f5a9fab1a0f971ffbd46ba878d2ac30/expr.ipynb\"><img src=\"data:image/png;base64,iVBORw0KGgoAAAANSUhEUgAAAFAAAAAVBAMAAAAjqnRBAAAAMFBMVEX///9UVFREREQyMjIQEBAi\n",
       "IiKYmJhmZmaqqqru7u7MzMyIiIi6urp2dnbc3NwAAACKehgKAAAAAXRSTlMAQObYZgAAAAlwSFlz\n",
       "AAAOxAAADsQBlSsOGwAAAYNJREFUKM+Fkj1Iw0AUx/9NP9LkTMwqInRxEEW6qQilk4OLBQldQze3\n",
       "oODk0E0QxOiggksFQUGEtg5SEREsOqgQnBw6RBc/QBQ3N+/OSxpDqQ9eLu/d79579+7BgxAVnSW1\n",
       "eFgjpQpavkOqRBHlfnbyzd1sWgmDGAIkQNqOgrUpbH3Zr8forciuADWqhQgnn7lAyUY/9pAsC3CH\n",
       "6kME3JccIGZjGnV8qAJcofokgLppZtnaJ7E6Lf2TxizJAqRJEP9twGVDHMg886XHQA6PDQoqJxZc\n",
       "UkCa0dAnBKcbR38qaUFL5xWLfIvbxP3Gqu5VBDyQCykPeWCJg/6Gbt9EQCdRpd2hXdxl9p5JJcNr\n",
       "fI+AWHM0KFVgldkbwc6QFAUX8AJCe5ZjdjLYuWZ9xEUInMccbmlRPCGptl/GoJ9sCGx6booe1Mrc\n",
       "MR6ErI9528VwanVg+LyddH3ECaZnpuiFQag81rLw3A2a2Q5zyUDCY4yiq7TEkEHJ/g8Sfl2rO3jq\n",
       "/8S6cz9QhmJCgLC/+QAAAABJRU5ErkJggg==\n",
       "\" style=\"display:inline;vertical-align:middle;\" /></a> <a class=\"ProveItLink\" href=\"../__pv_it/demonstrations/2c0124646f52d041fae0505c9e0a4c290636e7bf0/proof.ipynb\" style=\"text-decoration: none\">&nbsp;&#x22A2;&nbsp;&nbsp;</a><a class=\"ProveItLink\" href=\"../__pv_it/demonstrations/d5e904b5152c2e12bb18075deb57418bcdf44dca0/expr.ipynb\"><img src=\"data:image/png;base64,iVBORw0KGgoAAAANSUhEUgAAAKAAAAAdBAMAAADftXq1AAAAMFBMVEX////MzMxUVFRERES6uroi\n",
       "IiIQEBCYmJhmZmYyMjLu7u52dnaqqqqIiIjc3NwAAACW8nlqAAAAAXRSTlMAQObYZgAAAAlwSFlz\n",
       "AAAOxAAADsQBlSsOGwAAAwVJREFUSMftlU9IFFEcx7+j6842szNtkh4i0kN1CWKVAi/+A7XMg3to\n",
       "O0ighw6iFFtBVqfFgjKhvEX/hzyGtIl5sKytMIoObnRQhGIhOoQGpklY0fZ7f2Z2ZtvttMcG3sx7\n",
       "v/fj837/3m8ApFH4cfYUl9AsqG7G6WUkvbIR92rCnpSGskJfqgAvuCVOW2+8wg3L4rs4f8kBGqQb\n",
       "d+nM5WHtXE/AHK5NQhvx7swKoJLCCQeo04i4D7Vyeb76TafWgf23LARi3q3B3/xzD2h1gGM0Hrt0\n",
       "1Hgu8B2gdaeMqQcj8Ht39MWv/EuxGHSAz2h8dGv1SUw0KvzTw/TqjMCsBl57gV+MXxIY7HKACeam\n",
       "uxiu8nf7gr3uZDHwL/OqGGaCR+N2EuPB7zwm22qvWRyozceQMCIIMipmVi0cAMZ5PVx3Duh3pZMd\n",
       "9qlJO2by6vEllZ8iDQOtIQ7Ugz1azPghsqL2Pqxm0TgDj83Bb3wt8naYxlGgzuCZC8BckXlVwxy4\n",
       "NRBR0+gBzotA1ih00EsOyAaeJ9IvUnWEKGTrkC7CfHFwVebVt8yBlj9FW6RbTksK2hgVJaqYTmWU\n",
       "HnYqSriFVSEb6Cfp5BRbaOTOGps0UzX3iKTMWjqXywugL9Grjc1GHQsN7lUdbJfvk/rTpPAYOCTz\n",
       "WlotgENYAovHbQlk926GzcocoJa5rDxRZenXAxtJZ5Iv9tG4wyZUXpVpATyHs2ihnIYlkGX7JLcr\n",
       "e6UrMr1Wu7w+VAGBMNQrrJ2YzMtGAmkX4Dsom0NbOqE2EUj2EJ1FitcabmYLU4Nh354KVoYDC4Fp\n",
       "kjauW3iRuUF1sPn9tN1tlF31H1wOsqiAH4a7e+w7rbSc3m6zy0J5+pDubl8Kt+2VlJQwT2S4OvbK\n",
       "q9edoepV+gpc9FygqNAGKelgVsZyG+vzzMrxz01i0ZAHOOYGcrrT5SZyG4W8LDvWdsvpaB5gs8dC\n",
       "nlLbqHABG1zmpv6x+Rau0Nl/GSON/0+xHmUuUVxgOcLFBdYU2+UuWMUFdgzE/pL9AWzPwRMzyuIB\n",
       "AAAAAElFTkSuQmCC\n",
       "\" style=\"display:inline;vertical-align:middle;\" /></a></span>"
      ],
      "text/plain": [
       "{gamma in Complex, m in NaturalPos, n in NaturalPos, beta in Complex, alpha in Complex, A in Complex^{n x m}, |psi〉 in Complex^{m}} |- (alpha . A . beta . |psi〉 . gamma) in_c Q*"
      ]
     },
     "metadata": {},
     "output_type": "display_data"
    }
   ],
   "source": [
    "InClass(qmult1, QmultCodomain).prove()"
   ]
  },
  {
   "cell_type": "code",
   "execution_count": 28,
   "metadata": {},
   "outputs": [
    {
     "data": {
      "text/html": [
       "<a class=\"ProveItLink\" href=\"../__pv_it/demonstrations/19f2762fb3a49433095cbe8e1577b9c4cbe0f9300/expr.ipynb\"><img src=\"data:image/png;base64,iVBORw0KGgoAAAANSUhEUgAAALwAAAAVBAMAAAAOdJm+AAAAMFBMVEX///+YmJgyMjJmZmZERESI\n",
       "iIiqqqoQEBDu7u66uroiIiLc3NzMzMxUVFR2dnYAAAB9mGmPAAAAAXRSTlMAQObYZgAAAAlwSFlz\n",
       "AAAOxAAADsQBlSsOGwAAAypJREFUOMuFlU1ME1EQgKdsd7tLl7aIB40xFK4m2upFSdAmeENTUCHE\n",
       "mLCJJiQelIMmRjxUkl61ejEhmJB4QBoSe4CLB4IXjVFiD9yUpAcRPYBiqlEUcGbee+3+EJxm3s52\n",
       "Xr83b968KcCuEsWPkvmd3C4pKcOWnmhgetL3RT/ECso+E8T3u1++KCOMgVg9Qj3S8E08584f56dR\n",
       "UXiceTlARzfo2erS6fcevJHCoVeqW64LvN0DB9kYBYVHUGMAP0pDHHfc6rjxMEGR5oS6pfMPP+4B\n",
       "jLGRVngTo485cpaVkEaahnfo0oY9+E+ooZRQl8Tm/qpMdLIxrPAGpjOaUZtXOSUoDFKm1z34GRpu\n",
       "Sa3LrP5T4o2nzEkqfIyGQz68wYWQpZLY8uAbqIjapK6tqpJLGeu8+Tdn2zlrWoXx+TTiLwJc8+HJ\n",
       "DVClw9oU+LcAD6s5PnJYFfq8YI5EOa2WY2+JUJvHeMWGBOMrQ3AXBnO1s1V4coP9gxIto0+B3fa4\n",
       "Is52j9CbAF26CBaimzITIc5zo0N42+mAAxBBf8GLJzfodFxNvxmPJ9QEgD89ga9DrBrW4lFOLVw4\n",
       "1kk7hTxuhCs0UiC8iRFUcG2wyxRDsTh5u1gsSzeEaWZcVA5i9tEWYIEqijWCi618VsW3QcY4xjRc\n",
       "x4PxC/F5cYvc0TM+TvtsTTBep6ogDJ3SI9b7+PbVEbkBmJRXKFyuJwe0JJ7NgCwIf3Ko7M0b4tZq\n",
       "YM2DlhM1dpU1ju4Vnv0A9QgZWG+vmBTuEfhMKGcVZDm78OTmsg8nJT6hgflB3pC9rFoGQqe4x1E+\n",
       "sog102BNiWtWZrw1EoP98jK68eSmgKwnqqW1n3vRUZD3+6TQteYBbRmh2e85uLJ9GH/9um9ZdtYJ\n",
       "ca0WPvaVZCtx48m9uL202FVS+NCzDTofruApqX6J1c1peWtf1hqhpylMg78hcxfi3hqdELobvkXi\n",
       "BzjVJX9Lawng77DVTYWSEBqQfN1EIuMrtfbrkdqCCm/zdTGTsq3N7PQHOF43zYzAczZ6AzPNjA+v\n",
       "czb0hNxBN/xHZkGv/cWWd3K75BImmyc30RIl1n8cY9Ht5WDTSQAAAABJRU5ErkJggg==\n",
       "\" style=\"display:inline;vertical-align:middle;\" /></a>"
      ],
      "text/plain": [
       "alpha . A . beta . (|psi〉 + (D . |varphi〉))"
      ]
     },
     "metadata": {},
     "output_type": "display_data"
    }
   ],
   "source": [
    "qmult5"
   ]
  },
  {
   "cell_type": "code",
   "execution_count": 29,
   "metadata": {},
   "outputs": [
    {
     "data": {
      "text/html": [
       "<span style=\"font-size:20px;\"><a class=\"ProveItLink\" href=\"../../../../logic/sets/cartesian_products/__pv_it/theorems/79a768603778550c651661670153c27ee0a505870/expr.ipynb\"><img src=\"data:image/png;base64,iVBORw0KGgoAAAANSUhEUgAAAEYAAAATBAMAAADfQ2bzAAAAMFBMVEX///8yMjJmZmYiIiIQEBCq\n",
       "qqqYmJjMzMxERER2dnbc3Nzu7u5UVFSIiIi6uroAAACibcT0AAAAAXRSTlMAQObYZgAAAAlwSFlz\n",
       "AAAOxAAADsQBlSsOGwAAAQ9JREFUKM9jYCAAFBgIgwZK1HDbd0gzcPr74TWHI+ANA8N+/HbxWHEm\n",
       "MLAwMHV0eHS04VITwSDFwIzdHN5mY0OwmmUXFuJQwye7AWrOguO8E+Bq+O7smtvLPrMPLLVwA8yu\n",
       "BRwMfXA1nBxnGfbnMYSApaTg7lnArrB5Myyc3zE3MKy/wJAPlhJAqGFIZW2B8Tbsf8AQv4FBEcRm\n",
       "dzY2NraAquHZcATuzngGkAJPcPA2IJnDfWAzXM1BBgZLBr5f3CC2AZIahloOuBpPBu5/DDwCy0Ds\n",
       "u/C4KACGVQWMx/Wdge0DA8eECSAOYwBUFMxQhAebAQOvAgOf7gKwg068Bguyy3sAyY3Y44lvBiQu\n",
       "UAAA9FQ8d6roA+kAAAAASUVORK5CYII=\n",
       "\" style=\"display:inline;vertical-align:middle;\" /></a>, <a class=\"ProveItLink\" href=\"../../../../numbers/number_sets/natural_numbers/__pv_it/theorems/132c57ec1224a4beaf274a23bd799047020206590/expr.ipynb\"><img src=\"data:image/png;base64,iVBORw0KGgoAAAANSUhEUgAAAEEAAAATBAMAAAA9n32KAAAAMFBMVEX///9mZmYQEBCYmJgyMjKq\n",
       "qqrMzMwiIiJERER2dnbc3Nzu7u5UVFSIiIi6uroAAAA6K1lcAAAAAXRSTlMAQObYZgAAAAlwSFlz\n",
       "AAAOxAAADsQBlSsOGwAAAPlJREFUKM9jYMAHGBkIAQ6yVWz/0bKBYdKnB3jMaOU7wMD9AZ8txxdM\n",
       "ZmBQYJDoaOroMMCq4mgDywKGAmxm3CgvdwDRp2y5HLCqeHIbyjjFk3AToYLvzq65vWBxLm+Y0lMM\n",
       "DRwP4Co4Oc4y7F8AYrEsQKhI5K4ugIXpO/YGhvUJYBUMCBXMAREKMN6G/Q8Y4jeAWEnlQNAAUcFw\n",
       "mgeugiGegeEImLEDyQyGPdwFcC5Q+jM3iMGOrILtQgOcq8nA+psTxOC9ABNqA+JrcBVc3xh4HczA\n",
       "TFeYGIjB6ADj8RUwcB8OADP39IFdzJDyCaif2wFbfLxsL8cUBwB3/0NP0Yie0QAAAABJRU5ErkJg\n",
       "gg==\n",
       "\" style=\"display:inline;vertical-align:middle;\" /></a>, <a class=\"ProveItLink\" href=\"../__pv_it/demonstrations/4827169ff5051c0ad90075d5d60d0692974558df0/expr.ipynb\"><img src=\"data:image/png;base64,iVBORw0KGgoAAAANSUhEUgAAADUAAAATBAMAAADCPVhoAAAAMFBMVEX///8QEBAyMjJERESqqqoi\n",
       "IiK6urpUVFSYmJjMzMzu7u5mZmaIiIh2dnbc3NwAAADJOHriAAAAAXRSTlMAQObYZgAAAAlwSFlz\n",
       "AAAOxAAADsQBlSsOGwAAAPZJREFUKM9jYMAG1poqnZsLZr09vQtViqewgWu/NYjFeYChHVVuTy4D\n",
       "AwdYbi0DQyqKFOcGKyBZDWIeYGDYDhE8HBqqAKTYFxgAyRUQOZYosFTSKYgSZr4NUBPY5pkrLQAx\n",
       "+LSgIs85L0BZvAwdqRNADKYHUJG5bA1wOQYOA7AczC2v2Q5AWWuAxn4AMSaGAoEB2D6YmZlAvwqA\n",
       "GIth+pjB7gQBoBrmAhCDFSbHBvYfGxADfTQR7AqeA/BwSQcSmxgYuHYwsIVBhFTg4Wm0j8sV6EeW\n",
       "aWfuQIWWmy2AxYPh130QL8BBrik4zOCAlwE3WINHLhO3FAAKQjWfO727FgAAAABJRU5ErkJggg==\n",
       "\" style=\"display:inline;vertical-align:middle;\" /></a>, <a class=\"ProveItLink\" href=\"../__pv_it/demonstrations/209baac38918ef8b1210d5267967da66f42b39310/expr.ipynb\"><img src=\"data:image/png;base64,iVBORw0KGgoAAAANSUhEUgAAADYAAAAQBAMAAACvnpHFAAAAMFBMVEX///+YmJgyMjJmZmZERESI\n",
       "iIiqqqoQEBDu7u66uroiIiLc3NzMzMxUVFR2dnYAAAB9mGmPAAAAAXRSTlMAQObYZgAAAAlwSFlz\n",
       "AAAOxAAADsQBlSsOGwAAANhJREFUGNNjYMAGOJ4sUt3zAKsUQ2whQ/MXA6xSzJFAPSLY5Q6zNDAw\n",
       "8KLKhaxapQCib7CA7BRAlpoUAWU4bIYJvXt7AExza0AFuC+cg7J2TeCo5k4AMpg2QEV4HkyEskoZ\n",
       "GJxZG0ByMIO4DaZC3fuBgcGID8Q6vgoIHMD27YPIsQN5z1+AWC1wR3mwQOj+AAaG9yDrGLjgcpNB\n",
       "/mOYwMAPlHsOFmENQITLBSChwMDswMBozwMWUkMEgvKGtsUg7wlGMD8Fi/R6NsDjoX7xBtRwnOcF\n",
       "CTMoAAB6EDLom0lYxwAAAABJRU5ErkJggg==\n",
       "\" style=\"display:inline;vertical-align:middle;\" /></a>, <a class=\"ProveItLink\" href=\"../__pv_it/demonstrations/053fb38df6fcf9baf4abe8cee7dd8e99b8a50fd80/expr.ipynb\"><img src=\"data:image/png;base64,iVBORw0KGgoAAAANSUhEUgAAAF0AAAASBAMAAADLUc9JAAAAMFBMVEX///8QEBAiIiLu7u5ERES6\n",
       "urqYmJiIiIjMzMx2dnZUVFRmZmaqqqoyMjLc3NwAAABb1yYoAAAAAXRSTlMAQObYZgAAAAlwSFlz\n",
       "AAAOxAAADsQBlSsOGwAAAXZJREFUKM9jYCAIOhkYuB8wEAPYtrVXMzCwT2DYxsCQnVG+oMwDKvEW\n",
       "XSXzFN3rLyaYBSYwAk0u5yxgYE4VY5BiqIJK30dXXyXGYP1lw+NaBn4DBgbO6wwMfOYXGH4w7ITI\n",
       "8vxHU85dOoGBIWUDw3KGQAaIegauAg4BBh2o9Ho0/3SzAI3l2sAgwbCbg4GhkjuBgYGxgd2B70MD\n",
       "WHrefAjNwO6kpAuiF7OA/JDA94FB4wTUv++BNrA5bADJ8hXUHwArZ71uANHn8BrCX8BQmQAKT64H\n",
       "DFEMvA/4loPluRnOJ0CCCaqcb0EnvmCOYeifAGbcgwpwTAjDp34Dw/sFYMYFqADfhnA8ytm9d693\n",
       "ABsrpKSkpAJ2/0s86s0ZGPgVwJHqABNyZsHrHAYmATBLASYUDQp/hgCsylmBYcP7AcwsR8Qv0EPc\n",
       "F7CqfwjELP/ATN4DMMGS2w9stLEqN/l/mYHH/y84QJmXBMPTp7w2EWmedQokPeAGAE5AWIoR4vwp\n",
       "AAAAAElFTkSuQmCC\n",
       "\" style=\"display:inline;vertical-align:middle;\" /></a>, <a class=\"ProveItLink\" href=\"../__pv_it/demonstrations/b9ff765654f5a9fab1a0f971ffbd46ba878d2ac30/expr.ipynb\"><img src=\"data:image/png;base64,iVBORw0KGgoAAAANSUhEUgAAAFAAAAAVBAMAAAAjqnRBAAAAMFBMVEX///9UVFREREQyMjIQEBAi\n",
       "IiKYmJhmZmaqqqru7u7MzMyIiIi6urp2dnbc3NwAAACKehgKAAAAAXRSTlMAQObYZgAAAAlwSFlz\n",
       "AAAOxAAADsQBlSsOGwAAAYNJREFUKM+Fkj1Iw0AUx/9NP9LkTMwqInRxEEW6qQilk4OLBQldQze3\n",
       "oODk0E0QxOiggksFQUGEtg5SEREsOqgQnBw6RBc/QBQ3N+/OSxpDqQ9eLu/d79579+7BgxAVnSW1\n",
       "eFgjpQpavkOqRBHlfnbyzd1sWgmDGAIkQNqOgrUpbH3Zr8forciuADWqhQgnn7lAyUY/9pAsC3CH\n",
       "6kME3JccIGZjGnV8qAJcofokgLppZtnaJ7E6Lf2TxizJAqRJEP9twGVDHMg886XHQA6PDQoqJxZc\n",
       "UkCa0dAnBKcbR38qaUFL5xWLfIvbxP3Gqu5VBDyQCykPeWCJg/6Gbt9EQCdRpd2hXdxl9p5JJcNr\n",
       "fI+AWHM0KFVgldkbwc6QFAUX8AJCe5ZjdjLYuWZ9xEUInMccbmlRPCGptl/GoJ9sCGx6booe1Mrc\n",
       "MR6ErI9528VwanVg+LyddH3ECaZnpuiFQag81rLw3A2a2Q5zyUDCY4yiq7TEkEHJ/g8Sfl2rO3jq\n",
       "/8S6cz9QhmJCgLC/+QAAAABJRU5ErkJggg==\n",
       "\" style=\"display:inline;vertical-align:middle;\" /></a>, <a class=\"ProveItLink\" href=\"../__pv_it/demonstrations/d110bb13a053721ab731f462ceb03fc920ca201b0/expr.ipynb\"><img src=\"data:image/png;base64,iVBORw0KGgoAAAANSUhEUgAAAGAAAAASBAMAAABWXMbBAAAAMFBMVEX///8iIiLu7u52dna6uroQ\n",
       "EBBmZmbMzMyqqqqYmJgyMjLc3NxUVFRERESIiIgAAACK51z6AAAAAXRSTlMAQObYZgAAAAlwSFlz\n",
       "AAAOxAAADsQBlSsOGwAAAXZJREFUKM9jYCAGsBswMGQTo5Azs+4N39wCBobHDGwTQLxnOJUy2Uqt\n",
       "226g6TqB9QDfAQYGvgd2DAwg3gag3Nv/d87e2YCm4U0kg9rfhE2vGPgL2IDuYbB6wMAA4imAJH8B\n",
       "7f6Bqp7tCVDV3ASGcwylDIwNUA1AnivYR/+ARCqqhjJeoFE8CQzhDG8Z9rMDnWSQCRQNZ0gDshn4\n",
       "vgMJ/wlghXwXBaVA9CFekD8mcH8AmjqXDeppIE+8HSjO+wFI7Ac5lIFlnQLEhgvbwBTLAYbVDHse\n",
       "gYP1NIj3GGQu/wUgUX8ApGAXVD33gWI8gV0P8s98sA2r4RHliUfDe2DEMJx3ADEXQIW4E/zwaLgP\n",
       "Ir6CDQ4UFBSUBfthMx4Nf0Fp4Cc4ei/AxC7x4klYoGhQhSgVgAm6geKBwQGrBnA03IKw3yFiGhhq\n",
       "bAuwauACRoNjApTdABN9u2yDhhhW9Tz3/5y5C0vrTGed4Kk1XmwDERmAxRaSNHADANGIZA+NwLhf\n",
       "AAAAAElFTkSuQmCC\n",
       "\" style=\"display:inline;vertical-align:middle;\" /></a>, <a class=\"ProveItLink\" href=\"../__pv_it/demonstrations/55701387f25fde525e21ebc18286978696667feb0/expr.ipynb\"><img src=\"data:image/png;base64,iVBORw0KGgoAAAANSUhEUgAAAEwAAAAVBAMAAAAeOBUnAAAAMFBMVEX///8QEBAiIiKqqqpUVFSY\n",
       "mJhmZmbu7u5EREQyMjLMzMyIiIi6urp2dnbc3NwAAADC3l7hAAAAAXRSTlMAQObYZgAAAAlwSFlz\n",
       "AAAOxAAADsQBlSsOGwAAAWlJREFUKM9jeMAABVwM2AFr6uptDAx3YFyOBegK2G9ozn51ofRgAOMD\n",
       "hDLmBHRlW0QZyn4kPN/JwF+AUMaggKaKbc8FBoaIBAZvhoNIljJcRlO2jKOAgYElgUGKIY0LSdkL\n",
       "KL1DSWkCiHbnALkvgO8Dg5YVkjJOiKdPbofyG56BKR4Hhr0BIGWrgHI/ChiYL4BE+aZDVfE5rEVy\n",
       "AVBZAgPX1CMXoH7ghAUk14WjKMqYFzCwAK1gYMgBK4NJ8CWcRlHGy8AQDjKSYQmIv1AJCBrAbnuL\n",
       "ooybgWEDA/sGBgZbEL8CLtPOgaKMjYFnAQMbMIzmgfhMcJljoHBjOABXFsDGwO4FdAzYKu4NiFhw\n",
       "ABIT4D6duXNpElATrwFYYDLcuB3THhSrIQKEVf/TBYR1JT0F8BQir/YAoYwhFcwyg4qcbVKagJHq\n",
       "QMqkwKw+BjwAqIzrA9iKCQSUcYNjiTsAn7JdwJAAJ28WfKoAVZ9dUa6eI4EAAAAASUVORK5CYII=\n",
       "\" style=\"display:inline;vertical-align:middle;\" /></a> <a class=\"ProveItLink\" href=\"../__pv_it/demonstrations/e592367ca26f8ebabbb651b35f931a3fd47215580/proof.ipynb\" style=\"text-decoration: none\">&nbsp;&#x22A2;&nbsp;&nbsp;</a><a class=\"ProveItLink\" href=\"../__pv_it/demonstrations/87029235392ebc4cd15d0596482db90c96d7226e0/expr.ipynb\"><img src=\"data:image/png;base64,iVBORw0KGgoAAAANSUhEUgAAAP4AAAAdBAMAAAB4aMxOAAAAMFBMVEX////MzMxUVFRERES6uroi\n",
       "IiIQEBCYmJhmZmYyMjLu7u52dnaqqqqIiIjc3NwAAACW8nlqAAAAAXRSTlMAQObYZgAAAAlwSFlz\n",
       "AAAOxAAADsQBlSsOGwAABEZJREFUSMftll1oXEUUx/83u9m9ubt3kwarIGLXRn0saUXIS5OtWLX6\n",
       "0C12i5ZCIq0gimX9wEQf7BIsUQO6b6VI9YIPUiS4ttKHanVRLBYfXBFpGxq6UHwopVCThhKrruec\n",
       "mdk79+7a17x0wrmZe8/M/GbOnI8F0MQtW47+TBvoprZaeylHa3LxEdG5FXr49ei3amzQBWQKpr+x\n",
       "c40L9stXppOgnSYboXRt2bsrpPo5+rHvmvp/5dz7alDN8GnsT51r1OgEY0vrH9oQ4Wf5ZGctiU97\n",
       "cKWG3OymOrzYeX9RfKeBV6VzFIZPpN6OhY7yo5/WOFC3+SjyUYJQoi25ec0bK8ATRwK45ahq+l/5\n",
       "9zmwVTozhu/R+TPmrpJm1gw/1pHKnYjwvyFJV0KJtt9oufGGf/LLKlJRTebKn8bY09KZMPwsXWlu\n",
       "2NjP3ClTcZFv+0aEf4kfL1rCnvZw6VkF4WW2F5HLA2ei/Kv+35qf3S2gquFn+PFxjJ+V2xtjv70Z\n",
       "4fdxKByyhHZ4xNzDdu6krkm8zPKHr4+ZyKpkb8jYezcdltFuTfhzM8T/PXRWw2c1sMQOs6j4a4Bt\n",
       "S4H4JY5ZAlxuu8FLlqPz3v4oePtzcrXJunNTHXZyq2ypryz82ml8hotB2wENn9Vw/uHL1uevwDn0\n",
       "SE054JuWhLZD9rpMLcrLHpKXgRFfHRe5RW3stNx1b535Tv0g3mZXcQtRPqvhs8v0XBc+eUkPQFPf\n",
       "odfTlgDtQMuIi6eUV+6jRckS72WUY747zcbEHJlC7JMqMN+jLdZoc3DyvMlSadfzpVJeq5Hgkf3K\n",
       "/2mZt9gIGOS4sAQOTSk9DbNVrBsw/BRt98RJE2PL3NlCp5oI+cj+Rfw5lW7s8wu/ny11oCx8n13X\n",
       "02ntMUvgmdiBLyYegbH/FzT8u7oyP7BL55pEPrQ/3Cr5x7x267j9Ofy9vSr/uUgOwA3Ubf9oifII\n",
       "aV7rA+fbtH7dTPun+Sfk5XGST/Rd3SmoREPxh9NBsqDD2uKzWsI/UdX8sgvvPp0pXrMEWGgH59rW\n",
       "C8E2HQ0UG+4w0h9KxWKTjxHXm0Fyp/KVvPCT+zN4Xac1m89q3nHyGVN/Dp+/62BBZ8pZS8h2YaHz\n",
       "4JucuJbDf3LePUVfx1YC/ND6iJa/Y+GULqRFlX8Gjy80LRsaPquHWuuHRpqGnx5fZh+RQN1pCS0/\n",
       "9KSpzo9O3W+20tulpqtcp9oOnf/uaZe1SP7dgXj9lYoglTJXDEWSy3Gdf8dblCwclZU7i0OUP6X5\n",
       "83LdzXj9mergPye9UfbmcijR3xjftxZfuaxTyWgX/lzYJaTwa+1qG2mJZozvSNqQqn7Jknj9f2B5\n",
       "g+5+2oW/JexS2ApfDN75SyKMas33xdh+WZ9s9H9OaBmjcevff1fht10k301ttV9pORncw3tohnK7\n",
       "3W5wztZWlT+I4VXlb1xl++9GsKr8pybLHd/+A9HJJgH5zKEsAAAAAElFTkSuQmCC\n",
       "\" style=\"display:inline;vertical-align:middle;\" /></a></span>"
      ],
      "text/plain": [
       "{m in NaturalPos, n in NaturalPos, beta in Complex, alpha in Complex, A in Complex^{n x m}, |psi〉 in Complex^{m}, D in Complex^{m x n}, |varphi〉 in Complex^{n}} |- (alpha . A . beta . (|psi〉 + (D . |varphi〉))) in_c Q*"
      ]
     },
     "metadata": {},
     "output_type": "display_data"
    }
   ],
   "source": [
    "InClass(qmult5, QmultCodomain).prove()"
   ]
  },
  {
   "cell_type": "markdown",
   "metadata": {},
   "source": [
    "### Association/dissociation of a Qmult"
   ]
  },
  {
   "cell_type": "code",
   "execution_count": 30,
   "metadata": {},
   "outputs": [
    {
     "name": "stdout",
     "output_type": "stream",
     "text": [
      "Help on function association in module proveit.physics.quantum.algebra.qmult:\n",
      "\n",
      "association(self, start_idx, length, **defaults_config)\n",
      "    Given a valid Qmult operation (valid sequence of bras, kets,\n",
      "    and/or quantum operations), deduce that this expression is equal \n",
      "    to a form in which operands in the\n",
      "    range [start_idx, start_idx+length) are grouped together.\n",
      "    For example, (A B ... Y Z) = (A B ... (L ... M) ... Y Z).\n",
      "    \n",
      "    Keyword arguments are accepted for temporarily changing any\n",
      "    of the attributes of proveit.defaults.\n",
      "    \n",
      "    'associated' returns the right-hand side of 'association'.\n",
      "    'associate', called on an InnerExpr of a Judgment,\n",
      "    substitutes the right-hand side of 'association' for\n",
      "    the inner expression.\n",
      "\n"
     ]
    }
   ],
   "source": [
    "help(Qmult.association)"
   ]
  },
  {
   "cell_type": "code",
   "execution_count": 31,
   "metadata": {},
   "outputs": [
    {
     "name": "stdout",
     "output_type": "stream",
     "text": [
      "Help on function disassociation in module proveit.physics.quantum.algebra.qmult:\n",
      "\n",
      "disassociation(self, idx, **defaults_config)\n",
      "    Given a valid Qmult operation (valid sequence of bras, kets,\n",
      "    and/or quantum operations), deduce that this expression is equal \n",
      "    to a form in which the operand\n",
      "    at index idx is no longer grouped together.\n",
      "    For example, (A B ... (L ... M) ... Y Z) = (A B ... Y Z).\n",
      "    \n",
      "    Keyword arguments are accepted for temporarily changing any\n",
      "    of the attributes of proveit.defaults.\n",
      "    \n",
      "    'disassociated' returns the right-hand side of 'disassociation'.\n",
      "    'disassociate', called on an InnerExpr of a Judgment,\n",
      "    substitutes the right-hand side of 'disassociation' for\n",
      "    the inner expression.\n",
      "\n"
     ]
    }
   ],
   "source": [
    "help(Qmult.disassociation)"
   ]
  },
  {
   "cell_type": "code",
   "execution_count": 32,
   "metadata": {},
   "outputs": [
    {
     "data": {
      "text/html": [
       "<a class=\"ProveItLink\" href=\"../__pv_it/demonstrations/ec98014517e6a0d3f8983153cef35d4f0a9e127f0/expr.ipynb\"><img src=\"data:image/png;base64,iVBORw0KGgoAAAANSUhEUgAAAGAAAAAVBAMAAABLWfZ5AAAAMFBMVEX///+YmJgyMjJmZmZERESI\n",
       "iIiqqqoQEBDu7u66uroiIiLc3NzMzMxUVFR2dnYAAAB9mGmPAAAAAXRSTlMAQObYZgAAAAlwSFlz\n",
       "AAAOxAAADsQBlSsOGwAAAcNJREFUOMuFkzlLA0EUx//ruuvGrGvS2QhiK3gXWogBsVJJQAVBi4BW\n",
       "IhoQK5ttbDVWHoikU7stNIVFSKWICPkEkiZeoEYJIt5vjiyruDrwmDcz7zfzrgH8h1NWTF+TYIN3\n",
       "dV1WKrN+QEVRzJnhLhfQAL3VD5gTgBlDvQtYJCk/oOeVT8vApgsskVz42FuZNz7HCHWBGZJ9H+BA\n",
       "e5KAvusCeRab4zW7uy0noVV/YFPgdKjR5oAxHEJeS0FnFKZLNtaBw6SxGIxzw7j5IcIMb2Y5YOkJ\n",
       "I6Q9i6iV+Zsc83YB6NPYhVARfJd5USIcOFJTioME0C0CGTSzUCmT7Rb3aKSjpyTzEihywK6K0RFV\n",
       "4YyWY3RCRamiuy6vmJ1Bz70wZYuqlRBBz9kW35+VaUwDK7S8jwuPgB2Zl8qcANqRBvO3SQJkXEty\n",
       "yVerJC1MoYY6dgTQiTpsUI9FJEB3qREovawdg8yLKBkabQjsyeZbc/JKkgzjEmDJuwuPqQUyiz7a\n",
       "mPpsplY7GS2Uu9U87x8nrVoWSv29QbztbfK7J+VOzf+AqNCA3Nn+FVjyApw2Gn5+qW9j69sL/A+F\n",
       "5E4Ef44J/HSdcvgFqONv6UFyzbIAAAAASUVORK5CYII=\n",
       "\" style=\"display:inline;vertical-align:middle;\" /></a>"
      ],
      "text/plain": [
       "alpha . A . beta . |psi〉 . gamma"
      ]
     },
     "metadata": {},
     "output_type": "display_data"
    }
   ],
   "source": [
    "qmult1"
   ]
  },
  {
   "cell_type": "code",
   "execution_count": 33,
   "metadata": {},
   "outputs": [
    {
     "data": {
      "text/html": [
       "<strong id=\"qmult1_association\">qmult1_association:</strong> <span style=\"font-size:20px;\"><a class=\"ProveItLink\" href=\"../__pv_it/demonstrations/a96adf032fe1e70a10118c41779605949495a8190/expr.ipynb\"><img src=\"data:image/png;base64,iVBORw0KGgoAAAANSUhEUgAAADQAAAAUBAMAAAAw+gPuAAAAMFBMVEX///8yMjLMzMzc3NyIiIhU\n",
       "VFR2dnZmZmYQEBCYmJi6urru7u5EREQiIiKqqqoAAABRQ6LBAAAAAXRSTlMAQObYZgAAAAlwSFlz\n",
       "AAAOxAAADsQBlSsOGwAAANRJREFUKM9jYMACuHMuihglYJNhcO1k2P6nAJsMuxdQxxysUuo8GxgY\n",
       "WFGkfO7eFQDR0Twg+yYgySz0hjIOmEMZb/9sYFgNpJmloQLMAWoQBmd7bgCDA5DBaACVYkpYCWHY\n",
       "MDAcYlIAScEMZi5YAmEALdjCAmJo3AWCA2C7zOD2s9mByD1w/mkehBTIKgZeOH85yF8MC8BS4OBi\n",
       "cUCERgCQAHuRTQEsIofwu7jBvusQVRCBrac2wEO+/zrEK6xQkWVnIQGFBJYx4ARZuKUO4JYywC4M\n",
       "AInOLMSMX0ERAAAAAElFTkSuQmCC\n",
       "\" style=\"display:inline;vertical-align:middle;\" /></a>, <a class=\"ProveItLink\" href=\"../../../../logic/sets/cartesian_products/__pv_it/theorems/79a768603778550c651661670153c27ee0a505870/expr.ipynb\"><img src=\"data:image/png;base64,iVBORw0KGgoAAAANSUhEUgAAAEYAAAATBAMAAADfQ2bzAAAAMFBMVEX///8yMjJmZmYiIiIQEBCq\n",
       "qqqYmJjMzMxERER2dnbc3Nzu7u5UVFSIiIi6uroAAACibcT0AAAAAXRSTlMAQObYZgAAAAlwSFlz\n",
       "AAAOxAAADsQBlSsOGwAAAQ9JREFUKM9jYCAAFBgIgwZK1HDbd0gzcPr74TWHI+ANA8N+/HbxWHEm\n",
       "MLAwMHV0eHS04VITwSDFwIzdHN5mY0OwmmUXFuJQwye7AWrOguO8E+Bq+O7smtvLPrMPLLVwA8yu\n",
       "BRwMfXA1nBxnGfbnMYSApaTg7lnArrB5Myyc3zE3MKy/wJAPlhJAqGFIZW2B8Tbsf8AQv4FBEcRm\n",
       "dzY2NraAquHZcATuzngGkAJPcPA2IJnDfWAzXM1BBgZLBr5f3CC2AZIahloOuBpPBu5/DDwCy0Ds\n",
       "u/C4KACGVQWMx/Wdge0DA8eECSAOYwBUFMxQhAebAQOvAgOf7gKwg068Bguyy3sAyY3Y44lvBiQu\n",
       "UAAA9FQ8d6roA+kAAAAASUVORK5CYII=\n",
       "\" style=\"display:inline;vertical-align:middle;\" /></a>, <a class=\"ProveItLink\" href=\"../../../../numbers/number_sets/natural_numbers/__pv_it/theorems/132c57ec1224a4beaf274a23bd799047020206590/expr.ipynb\"><img src=\"data:image/png;base64,iVBORw0KGgoAAAANSUhEUgAAAEEAAAATBAMAAAA9n32KAAAAMFBMVEX///9mZmYQEBCYmJgyMjKq\n",
       "qqrMzMwiIiJERER2dnbc3Nzu7u5UVFSIiIi6uroAAAA6K1lcAAAAAXRSTlMAQObYZgAAAAlwSFlz\n",
       "AAAOxAAADsQBlSsOGwAAAPlJREFUKM9jYMAHGBkIAQ6yVWz/0bKBYdKnB3jMaOU7wMD9AZ8txxdM\n",
       "ZmBQYJDoaOroMMCq4mgDywKGAmxm3CgvdwDRp2y5HLCqeHIbyjjFk3AToYLvzq65vWBxLm+Y0lMM\n",
       "DRwP4Co4Oc4y7F8AYrEsQKhI5K4ugIXpO/YGhvUJYBUMCBXMAREKMN6G/Q8Y4jeAWEnlQNAAUcFw\n",
       "mgeugiGegeEImLEDyQyGPdwFcC5Q+jM3iMGOrILtQgOcq8nA+psTxOC9ABNqA+JrcBVc3xh4HczA\n",
       "TFeYGIjB6ADj8RUwcB8OADP39IFdzJDyCaif2wFbfLxsL8cUBwB3/0NP0Yie0QAAAABJRU5ErkJg\n",
       "gg==\n",
       "\" style=\"display:inline;vertical-align:middle;\" /></a>, <a class=\"ProveItLink\" href=\"../__pv_it/demonstrations/4827169ff5051c0ad90075d5d60d0692974558df0/expr.ipynb\"><img src=\"data:image/png;base64,iVBORw0KGgoAAAANSUhEUgAAADUAAAATBAMAAADCPVhoAAAAMFBMVEX///8QEBAyMjJERESqqqoi\n",
       "IiK6urpUVFSYmJjMzMzu7u5mZmaIiIh2dnbc3NwAAADJOHriAAAAAXRSTlMAQObYZgAAAAlwSFlz\n",
       "AAAOxAAADsQBlSsOGwAAAPZJREFUKM9jYMAG1poqnZsLZr09vQtViqewgWu/NYjFeYChHVVuTy4D\n",
       "AwdYbi0DQyqKFOcGKyBZDWIeYGDYDhE8HBqqAKTYFxgAyRUQOZYosFTSKYgSZr4NUBPY5pkrLQAx\n",
       "+LSgIs85L0BZvAwdqRNADKYHUJG5bA1wOQYOA7AczC2v2Q5AWWuAxn4AMSaGAoEB2D6YmZlAvwqA\n",
       "GIth+pjB7gQBoBrmAhCDFSbHBvYfGxADfTQR7AqeA/BwSQcSmxgYuHYwsIVBhFTg4Wm0j8sV6EeW\n",
       "aWfuQIWWmy2AxYPh130QL8BBrik4zOCAlwE3WINHLhO3FAAKQjWfO727FgAAAABJRU5ErkJggg==\n",
       "\" style=\"display:inline;vertical-align:middle;\" /></a>, <a class=\"ProveItLink\" href=\"../__pv_it/demonstrations/209baac38918ef8b1210d5267967da66f42b39310/expr.ipynb\"><img src=\"data:image/png;base64,iVBORw0KGgoAAAANSUhEUgAAADYAAAAQBAMAAACvnpHFAAAAMFBMVEX///+YmJgyMjJmZmZERESI\n",
       "iIiqqqoQEBDu7u66uroiIiLc3NzMzMxUVFR2dnYAAAB9mGmPAAAAAXRSTlMAQObYZgAAAAlwSFlz\n",
       "AAAOxAAADsQBlSsOGwAAANhJREFUGNNjYMAGOJ4sUt3zAKsUQ2whQ/MXA6xSzJFAPSLY5Q6zNDAw\n",
       "8KLKhaxapQCib7CA7BRAlpoUAWU4bIYJvXt7AExza0AFuC+cg7J2TeCo5k4AMpg2QEV4HkyEskoZ\n",
       "GJxZG0ByMIO4DaZC3fuBgcGID8Q6vgoIHMD27YPIsQN5z1+AWC1wR3mwQOj+AAaG9yDrGLjgcpNB\n",
       "/mOYwMAPlHsOFmENQITLBSChwMDswMBozwMWUkMEgvKGtsUg7wlGMD8Fi/R6NsDjoX7xBtRwnOcF\n",
       "CTMoAAB6EDLom0lYxwAAAABJRU5ErkJggg==\n",
       "\" style=\"display:inline;vertical-align:middle;\" /></a>, <a class=\"ProveItLink\" href=\"../__pv_it/demonstrations/053fb38df6fcf9baf4abe8cee7dd8e99b8a50fd80/expr.ipynb\"><img src=\"data:image/png;base64,iVBORw0KGgoAAAANSUhEUgAAAF0AAAASBAMAAADLUc9JAAAAMFBMVEX///8QEBAiIiLu7u5ERES6\n",
       "urqYmJiIiIjMzMx2dnZUVFRmZmaqqqoyMjLc3NwAAABb1yYoAAAAAXRSTlMAQObYZgAAAAlwSFlz\n",
       "AAAOxAAADsQBlSsOGwAAAXZJREFUKM9jYCAIOhkYuB8wEAPYtrVXMzCwT2DYxsCQnVG+oMwDKvEW\n",
       "XSXzFN3rLyaYBSYwAk0u5yxgYE4VY5BiqIJK30dXXyXGYP1lw+NaBn4DBgbO6wwMfOYXGH4w7ITI\n",
       "8vxHU85dOoGBIWUDw3KGQAaIegauAg4BBh2o9Ho0/3SzAI3l2sAgwbCbg4GhkjuBgYGxgd2B70MD\n",
       "WHrefAjNwO6kpAuiF7OA/JDA94FB4wTUv++BNrA5bADJ8hXUHwArZ71uANHn8BrCX8BQmQAKT64H\n",
       "DFEMvA/4loPluRnOJ0CCCaqcb0EnvmCOYeifAGbcgwpwTAjDp34Dw/sFYMYFqADfhnA8ytm9d693\n",
       "ABsrpKSkpAJ2/0s86s0ZGPgVwJHqABNyZsHrHAYmATBLASYUDQp/hgCsylmBYcP7AcwsR8Qv0EPc\n",
       "F7CqfwjELP/ATN4DMMGS2w9stLEqN/l/mYHH/y84QJmXBMPTp7w2EWmedQokPeAGAE5AWIoR4vwp\n",
       "AAAAAElFTkSuQmCC\n",
       "\" style=\"display:inline;vertical-align:middle;\" /></a>, <a class=\"ProveItLink\" href=\"../__pv_it/demonstrations/b9ff765654f5a9fab1a0f971ffbd46ba878d2ac30/expr.ipynb\"><img src=\"data:image/png;base64,iVBORw0KGgoAAAANSUhEUgAAAFAAAAAVBAMAAAAjqnRBAAAAMFBMVEX///9UVFREREQyMjIQEBAi\n",
       "IiKYmJhmZmaqqqru7u7MzMyIiIi6urp2dnbc3NwAAACKehgKAAAAAXRSTlMAQObYZgAAAAlwSFlz\n",
       "AAAOxAAADsQBlSsOGwAAAYNJREFUKM+Fkj1Iw0AUx/9NP9LkTMwqInRxEEW6qQilk4OLBQldQze3\n",
       "oODk0E0QxOiggksFQUGEtg5SEREsOqgQnBw6RBc/QBQ3N+/OSxpDqQ9eLu/d79579+7BgxAVnSW1\n",
       "eFgjpQpavkOqRBHlfnbyzd1sWgmDGAIkQNqOgrUpbH3Zr8forciuADWqhQgnn7lAyUY/9pAsC3CH\n",
       "6kME3JccIGZjGnV8qAJcofokgLppZtnaJ7E6Lf2TxizJAqRJEP9twGVDHMg886XHQA6PDQoqJxZc\n",
       "UkCa0dAnBKcbR38qaUFL5xWLfIvbxP3Gqu5VBDyQCykPeWCJg/6Gbt9EQCdRpd2hXdxl9p5JJcNr\n",
       "fI+AWHM0KFVgldkbwc6QFAUX8AJCe5ZjdjLYuWZ9xEUInMccbmlRPCGptl/GoJ9sCGx6booe1Mrc\n",
       "MR6ErI9528VwanVg+LyddH3ECaZnpuiFQag81rLw3A2a2Q5zyUDCY4yiq7TEkEHJ/g8Sfl2rO3jq\n",
       "/8S6cz9QhmJCgLC/+QAAAABJRU5ErkJggg==\n",
       "\" style=\"display:inline;vertical-align:middle;\" /></a> <a class=\"ProveItLink\" href=\"../__pv_it/demonstrations/dffb061092fc80325ca5b2fa4ec5d99fd547b38f0/proof.ipynb\" style=\"text-decoration: none\">&nbsp;&#x22A2;&nbsp;&nbsp;</a><a class=\"ProveItLink\" href=\"../__pv_it/demonstrations/7cdf2cab099016efb8d9d5c00a67d44fd146e3390/expr.ipynb\"><img src=\"data:image/png;base64,iVBORw0KGgoAAAANSUhEUgAAAQ4AAAAVBAMAAABF+R16AAAAMFBMVEX////MzMxUVFRERES6uroi\n",
       "IiIQEBCYmJhmZmYyMjLu7u52dnaqqqqIiIjc3NwAAACW8nlqAAAAAXRSTlMAQObYZgAAAAlwSFlz\n",
       "AAAOxAAADsQBlSsOGwAAA8BJREFUSMeFlk1oE0EUx/8xaZLubmIV9SRazx6MnkTQtmAr+AFRqgcR\n",
       "DOhBFCUo2CoIoSpVe7A3sYIuCIJIMYofYP2oiKJ4aMSDIn4EpIJoMSoi1Wp9b3Z2d3Z3UgfS9G3m\n",
       "/9v/vvdmZgFUUX94v8V0F5WRnSJSNVqgmJ4ZDgg+BqJr7j/xJv/iOo2P15oo2x/VaIGJCv15GgSe\n",
       "k9+fXp7wZBnAKvlTMsWIDausiRprPsrVaIF4ARj9QeCkTFsFez2ZSZ+8Mmkg4uOiLhqpKagB1UcY\n",
       "2GgjHXy49CKngpeAdk82SJ/byqTuiI9eXdTzV0F1qz7CwFQJySDw7j2nblSxHk92nz7vlUlJO+yj\n",
       "oInMT18VlNTogdiJJ8FGr7wblmJrsyfjcjcqq6Qx3CBWvyYay0woKKnRA3EKffw1dFV2bxojYn5i\n",
       "3pLTtpAZL4soZ/JO71lblyFhw2wO+Ujzj+bQAiUCStZPBSU1ISAefrexGrhKToDRVmNPVuRhLeaX\n",
       "nUbqam8SMtMqGMXML6ev9vdt4F5PiQc+upHHBjdB2U5cqH7205UYjv1WUI4mDEztuN7MhTuALRTt\n",
       "BpZmRP1K+NIsGzqVE7K56XyqyhU/QrfK0bKfQWkphPLRQA+RrCBeeuVGnNrsNwUlNUEgN8niGLl8\n",
       "hO2koPV13BTreumxRTnZ0ImakNnJisn+MJN+tmFUyH2sFvKRbAVOEqi/7EbA82M93xWU1ASBIN+D\n",
       "lGDMZx9JuvWNW1IzXazrNrppwWmrEduku3v73V162ERB42MbPfou2/PBkh8KKuHmIww0uZYdXJfL\n",
       "dPHesFMWNBRkQ8ebHdlxfOZE4Kwju8Ptmg/1B1XC+EPICa9KVBZgk4JyNBqgyZv6QyynFNB/N0Rr\n",
       "Fd3NmJpqTtWRHcZBrBS9IcYQZOuoI04E9lHwIqxyzwiJkpoo0ORa7qMVg3QOqZN8/n1gCG+CRi8S\n",
       "nVLWUS2nKNGmPA6v+AvTH7woD9OeWWtyoyxbaqn6KKmJAk3W9GE2P2PXqzTl+/zkAKyWcRJYs97c\n",
       "cWWxhcvfcrLlLfl4amgN+YhR0s2bh+y+ioyMlnEbDybP+CipiQK5gOhEQ5PmFDfVcz8mjD+WV7hr\n",
       "RiOC9XUjFzVaDziNt/E8HzH/8eHsLCvkq0I5cqpFT75uDaq3DhBrOCdFP1bHoOpDkNzXA7PV7zC1\n",
       "Uav1IolyNRGguMJn3nmNj7ZAPtR3n3jkpmIYuXpRW9BaBIiczE22MsX76TMoVXRfJd9qJo5NEUHR\n",
       "RID8xpqp4h/HbC95/AdhyQAAAABJRU5ErkJggg==\n",
       "\" style=\"display:inline;vertical-align:middle;\" /></a></span><br>"
      ],
      "text/plain": [
       "<IPython.core.display.HTML object>"
      ]
     },
     "metadata": {},
     "output_type": "display_data"
    }
   ],
   "source": [
    "qmult1_association = qmult1.association(1, 2)"
   ]
  },
  {
   "cell_type": "code",
   "execution_count": 34,
   "metadata": {},
   "outputs": [
    {
     "data": {
      "text/html": [
       "<strong id=\"qmult1_associated\">qmult1_associated:</strong> <a class=\"ProveItLink\" href=\"../__pv_it/demonstrations/1924f2d3a5403aff24e6195acfe52100f29deb8c0/expr.ipynb\"><img src=\"data:image/png;base64,iVBORw0KGgoAAAANSUhEUgAAAHcAAAAVBAMAAACOK2zoAAAAMFBMVEX///+YmJgyMjJmZmZERESI\n",
       "iIiqqqoQEBDu7u66uroiIiLc3NzMzMxUVFR2dnYAAAB9mGmPAAAAAXRSTlMAQObYZgAAAAlwSFlz\n",
       "AAAOxAAADsQBlSsOGwAAAjRJREFUOMt1lL9rFEEUx99mb/dmc+t6IYU2QrASBM1FC1NEF0QQRHIQ\n",
       "FSEWAS3FXGNlswTSJmchkpBiOxUUtzAWKYKVIirkL5BrYgz+iiIi/v7OvLfuuHEXZt/Om/m8N/N9\n",
       "s0NkPw0qP1nJUkhVzzkOMVR4bojdzB21RxWs3zOmb4u7qxNHyGvasIc5wxXwDJtphsM27SHaZ8MR\n",
       "WloBt9iMfTdmjmiRaNCGZ9FeVcAdDr/6w9g2whDVEwu+jPagYsss1LL3RWD/NgRoWrDWpC+zmffv\n",
       "RECX9Rr2P2oTPDu9F1mjNYHVRJN6Xsqq+vdPUoDRla661pgyKpskwVT4i8UZWERUZ0jgyO+opveV\n",
       "Fdt19J6Wnq4SHffMxvpNCJcaP0VZJ0aOjsCP3dTJtCyjOAkx6v0cc1GXkchMqHf1+8yhsc+ibICx\n",
       "cEvgpN7GNFT5BeqdkGpD0Dqib7wuYAXfN91bwhzkCfLMNJ1EZvQKK/QG65xH94NZLy/bRbslytYg\n",
       "lp/m8Ag91ClpP8PraDsBb8ixxSddRzuoexDqScb7Zvgw7aYFs18uks4Uk3OMfxVdlYZe5Tgg1aLg\n",
       "TlE/wDeznoONRbxMemsiDJx31/kwp6TGPyV06fcBLPfpWePt7+Zw+PLEpHbI8Sj/IHet70jsSnG2\n",
       "Q5PzogysleDB/8CtAubTcIodQa8E16xjOyt3S1zAJp6SmyLqlmAVF99L/8bb5KuA/t4OtW3/1fI2\n",
       "z6TYC7ljh3Xd/QFuGoKtB+kKtAAAAABJRU5ErkJggg==\n",
       "\" style=\"display:inline;vertical-align:middle;\" /></a><br>"
      ],
      "text/plain": [
       "<IPython.core.display.HTML object>"
      ]
     },
     "metadata": {},
     "output_type": "display_data"
    }
   ],
   "source": [
    "qmult1_associated = qmult1_association.rhs"
   ]
  },
  {
   "cell_type": "code",
   "execution_count": 35,
   "metadata": {},
   "outputs": [
    {
     "data": {
      "text/html": [
       "<span style=\"font-size:20px;\"><a class=\"ProveItLink\" href=\"../__pv_it/demonstrations/a96adf032fe1e70a10118c41779605949495a8190/expr.ipynb\"><img src=\"data:image/png;base64,iVBORw0KGgoAAAANSUhEUgAAADQAAAAUBAMAAAAw+gPuAAAAMFBMVEX///8yMjLMzMzc3NyIiIhU\n",
       "VFR2dnZmZmYQEBCYmJi6urru7u5EREQiIiKqqqoAAABRQ6LBAAAAAXRSTlMAQObYZgAAAAlwSFlz\n",
       "AAAOxAAADsQBlSsOGwAAANRJREFUKM9jYMACuHMuihglYJNhcO1k2P6nAJsMuxdQxxysUuo8GxgY\n",
       "WFGkfO7eFQDR0Twg+yYgySz0hjIOmEMZb/9sYFgNpJmloQLMAWoQBmd7bgCDA5DBaACVYkpYCWHY\n",
       "MDAcYlIAScEMZi5YAmEALdjCAmJo3AWCA2C7zOD2s9mByD1w/mkehBTIKgZeOH85yF8MC8BS4OBi\n",
       "cUCERgCQAHuRTQEsIofwu7jBvusQVRCBrac2wEO+/zrEK6xQkWVnIQGFBJYx4ARZuKUO4JYywC4M\n",
       "AInOLMSMX0ERAAAAAElFTkSuQmCC\n",
       "\" style=\"display:inline;vertical-align:middle;\" /></a>, <a class=\"ProveItLink\" href=\"../../../../logic/sets/cartesian_products/__pv_it/theorems/79a768603778550c651661670153c27ee0a505870/expr.ipynb\"><img src=\"data:image/png;base64,iVBORw0KGgoAAAANSUhEUgAAAEYAAAATBAMAAADfQ2bzAAAAMFBMVEX///8yMjJmZmYiIiIQEBCq\n",
       "qqqYmJjMzMxERER2dnbc3Nzu7u5UVFSIiIi6uroAAACibcT0AAAAAXRSTlMAQObYZgAAAAlwSFlz\n",
       "AAAOxAAADsQBlSsOGwAAAQ9JREFUKM9jYCAAFBgIgwZK1HDbd0gzcPr74TWHI+ANA8N+/HbxWHEm\n",
       "MLAwMHV0eHS04VITwSDFwIzdHN5mY0OwmmUXFuJQwye7AWrOguO8E+Bq+O7smtvLPrMPLLVwA8yu\n",
       "BRwMfXA1nBxnGfbnMYSApaTg7lnArrB5Myyc3zE3MKy/wJAPlhJAqGFIZW2B8Tbsf8AQv4FBEcRm\n",
       "dzY2NraAquHZcATuzngGkAJPcPA2IJnDfWAzXM1BBgZLBr5f3CC2AZIahloOuBpPBu5/DDwCy0Ds\n",
       "u/C4KACGVQWMx/Wdge0DA8eECSAOYwBUFMxQhAebAQOvAgOf7gKwg068Bguyy3sAyY3Y44lvBiQu\n",
       "UAAA9FQ8d6roA+kAAAAASUVORK5CYII=\n",
       "\" style=\"display:inline;vertical-align:middle;\" /></a>, <a class=\"ProveItLink\" href=\"../../../../numbers/number_sets/natural_numbers/__pv_it/theorems/132c57ec1224a4beaf274a23bd799047020206590/expr.ipynb\"><img src=\"data:image/png;base64,iVBORw0KGgoAAAANSUhEUgAAAEEAAAATBAMAAAA9n32KAAAAMFBMVEX///9mZmYQEBCYmJgyMjKq\n",
       "qqrMzMwiIiJERER2dnbc3Nzu7u5UVFSIiIi6uroAAAA6K1lcAAAAAXRSTlMAQObYZgAAAAlwSFlz\n",
       "AAAOxAAADsQBlSsOGwAAAPlJREFUKM9jYMAHGBkIAQ6yVWz/0bKBYdKnB3jMaOU7wMD9AZ8txxdM\n",
       "ZmBQYJDoaOroMMCq4mgDywKGAmxm3CgvdwDRp2y5HLCqeHIbyjjFk3AToYLvzq65vWBxLm+Y0lMM\n",
       "DRwP4Co4Oc4y7F8AYrEsQKhI5K4ugIXpO/YGhvUJYBUMCBXMAREKMN6G/Q8Y4jeAWEnlQNAAUcFw\n",
       "mgeugiGegeEImLEDyQyGPdwFcC5Q+jM3iMGOrILtQgOcq8nA+psTxOC9ABNqA+JrcBVc3xh4HczA\n",
       "TFeYGIjB6ADj8RUwcB8OADP39IFdzJDyCaif2wFbfLxsL8cUBwB3/0NP0Yie0QAAAABJRU5ErkJg\n",
       "gg==\n",
       "\" style=\"display:inline;vertical-align:middle;\" /></a>, <a class=\"ProveItLink\" href=\"../__pv_it/demonstrations/4827169ff5051c0ad90075d5d60d0692974558df0/expr.ipynb\"><img src=\"data:image/png;base64,iVBORw0KGgoAAAANSUhEUgAAADUAAAATBAMAAADCPVhoAAAAMFBMVEX///8QEBAyMjJERESqqqoi\n",
       "IiK6urpUVFSYmJjMzMzu7u5mZmaIiIh2dnbc3NwAAADJOHriAAAAAXRSTlMAQObYZgAAAAlwSFlz\n",
       "AAAOxAAADsQBlSsOGwAAAPZJREFUKM9jYMAG1poqnZsLZr09vQtViqewgWu/NYjFeYChHVVuTy4D\n",
       "AwdYbi0DQyqKFOcGKyBZDWIeYGDYDhE8HBqqAKTYFxgAyRUQOZYosFTSKYgSZr4NUBPY5pkrLQAx\n",
       "+LSgIs85L0BZvAwdqRNADKYHUJG5bA1wOQYOA7AczC2v2Q5AWWuAxn4AMSaGAoEB2D6YmZlAvwqA\n",
       "GIth+pjB7gQBoBrmAhCDFSbHBvYfGxADfTQR7AqeA/BwSQcSmxgYuHYwsIVBhFTg4Wm0j8sV6EeW\n",
       "aWfuQIWWmy2AxYPh130QL8BBrik4zOCAlwE3WINHLhO3FAAKQjWfO727FgAAAABJRU5ErkJggg==\n",
       "\" style=\"display:inline;vertical-align:middle;\" /></a>, <a class=\"ProveItLink\" href=\"../__pv_it/demonstrations/209baac38918ef8b1210d5267967da66f42b39310/expr.ipynb\"><img src=\"data:image/png;base64,iVBORw0KGgoAAAANSUhEUgAAADYAAAAQBAMAAACvnpHFAAAAMFBMVEX///+YmJgyMjJmZmZERESI\n",
       "iIiqqqoQEBDu7u66uroiIiLc3NzMzMxUVFR2dnYAAAB9mGmPAAAAAXRSTlMAQObYZgAAAAlwSFlz\n",
       "AAAOxAAADsQBlSsOGwAAANhJREFUGNNjYMAGOJ4sUt3zAKsUQ2whQ/MXA6xSzJFAPSLY5Q6zNDAw\n",
       "8KLKhaxapQCib7CA7BRAlpoUAWU4bIYJvXt7AExza0AFuC+cg7J2TeCo5k4AMpg2QEV4HkyEskoZ\n",
       "GJxZG0ByMIO4DaZC3fuBgcGID8Q6vgoIHMD27YPIsQN5z1+AWC1wR3mwQOj+AAaG9yDrGLjgcpNB\n",
       "/mOYwMAPlHsOFmENQITLBSChwMDswMBozwMWUkMEgvKGtsUg7wlGMD8Fi/R6NsDjoX7xBtRwnOcF\n",
       "CTMoAAB6EDLom0lYxwAAAABJRU5ErkJggg==\n",
       "\" style=\"display:inline;vertical-align:middle;\" /></a>, <a class=\"ProveItLink\" href=\"../__pv_it/demonstrations/053fb38df6fcf9baf4abe8cee7dd8e99b8a50fd80/expr.ipynb\"><img src=\"data:image/png;base64,iVBORw0KGgoAAAANSUhEUgAAAF0AAAASBAMAAADLUc9JAAAAMFBMVEX///8QEBAiIiLu7u5ERES6\n",
       "urqYmJiIiIjMzMx2dnZUVFRmZmaqqqoyMjLc3NwAAABb1yYoAAAAAXRSTlMAQObYZgAAAAlwSFlz\n",
       "AAAOxAAADsQBlSsOGwAAAXZJREFUKM9jYCAIOhkYuB8wEAPYtrVXMzCwT2DYxsCQnVG+oMwDKvEW\n",
       "XSXzFN3rLyaYBSYwAk0u5yxgYE4VY5BiqIJK30dXXyXGYP1lw+NaBn4DBgbO6wwMfOYXGH4w7ITI\n",
       "8vxHU85dOoGBIWUDw3KGQAaIegauAg4BBh2o9Ho0/3SzAI3l2sAgwbCbg4GhkjuBgYGxgd2B70MD\n",
       "WHrefAjNwO6kpAuiF7OA/JDA94FB4wTUv++BNrA5bADJ8hXUHwArZ71uANHn8BrCX8BQmQAKT64H\n",
       "DFEMvA/4loPluRnOJ0CCCaqcb0EnvmCOYeifAGbcgwpwTAjDp34Dw/sFYMYFqADfhnA8ytm9d693\n",
       "ABsrpKSkpAJ2/0s86s0ZGPgVwJHqABNyZsHrHAYmATBLASYUDQp/hgCsylmBYcP7AcwsR8Qv0EPc\n",
       "F7CqfwjELP/ATN4DMMGS2w9stLEqN/l/mYHH/y84QJmXBMPTp7w2EWmedQokPeAGAE5AWIoR4vwp\n",
       "AAAAAElFTkSuQmCC\n",
       "\" style=\"display:inline;vertical-align:middle;\" /></a>, <a class=\"ProveItLink\" href=\"../__pv_it/demonstrations/b9ff765654f5a9fab1a0f971ffbd46ba878d2ac30/expr.ipynb\"><img src=\"data:image/png;base64,iVBORw0KGgoAAAANSUhEUgAAAFAAAAAVBAMAAAAjqnRBAAAAMFBMVEX///9UVFREREQyMjIQEBAi\n",
       "IiKYmJhmZmaqqqru7u7MzMyIiIi6urp2dnbc3NwAAACKehgKAAAAAXRSTlMAQObYZgAAAAlwSFlz\n",
       "AAAOxAAADsQBlSsOGwAAAYNJREFUKM+Fkj1Iw0AUx/9NP9LkTMwqInRxEEW6qQilk4OLBQldQze3\n",
       "oODk0E0QxOiggksFQUGEtg5SEREsOqgQnBw6RBc/QBQ3N+/OSxpDqQ9eLu/d79579+7BgxAVnSW1\n",
       "eFgjpQpavkOqRBHlfnbyzd1sWgmDGAIkQNqOgrUpbH3Zr8forciuADWqhQgnn7lAyUY/9pAsC3CH\n",
       "6kME3JccIGZjGnV8qAJcofokgLppZtnaJ7E6Lf2TxizJAqRJEP9twGVDHMg886XHQA6PDQoqJxZc\n",
       "UkCa0dAnBKcbR38qaUFL5xWLfIvbxP3Gqu5VBDyQCykPeWCJg/6Gbt9EQCdRpd2hXdxl9p5JJcNr\n",
       "fI+AWHM0KFVgldkbwc6QFAUX8AJCe5ZjdjLYuWZ9xEUInMccbmlRPCGptl/GoJ9sCGx6booe1Mrc\n",
       "MR6ErI9528VwanVg+LyddH3ECaZnpuiFQag81rLw3A2a2Q5zyUDCY4yiq7TEkEHJ/g8Sfl2rO3jq\n",
       "/8S6cz9QhmJCgLC/+QAAAABJRU5ErkJggg==\n",
       "\" style=\"display:inline;vertical-align:middle;\" /></a> <a class=\"ProveItLink\" href=\"../__pv_it/demonstrations/04c533e3d4575749acb163fe9c6048c474c583600/proof.ipynb\" style=\"text-decoration: none\">&nbsp;&#x22A2;&nbsp;&nbsp;</a><a class=\"ProveItLink\" href=\"../__pv_it/demonstrations/a9e2f86f9a4e65ae5b5fc7f4519e93931299af750/expr.ipynb\"><img src=\"data:image/png;base64,iVBORw0KGgoAAAANSUhEUgAAAQ4AAAAVBAMAAABF+R16AAAAMFBMVEX////MzMxUVFRERES6uroi\n",
       "IiIQEBCYmJhmZmYyMjLu7u52dnaqqqqIiIjc3NwAAACW8nlqAAAAAXRSTlMAQObYZgAAAAlwSFlz\n",
       "AAAOxAAADsQBlSsOGwAAA/hJREFUSMd9Vk2IFEcUfhN7t3v7L4NoTkbnGjw4evKyuyO4CokhE9Ac\n",
       "goc95CBClsEIYg5hWZVd9aA3UUEb9hBFljRqPKirI0FJyGEnhETZoA4sCqKiUURWxfVV1evq93pG\n",
       "C4aaV6/rq6/ebwFAG/iQEo64MAOUO5UfhuimKxWPiJr8O5Ie5CtOy8xBLVtZ3ansAmEPOcyl89mf\n",
       "ReUCyp9iF0knCWN6IoGbggdu+Z19f7OThwSEvqdmfnjrgOURAYSjEsUXdEkKF4z4KbgV6Es4jxSg\n",
       "h5+SFGlIQIAZw6PUgh2WR4C/ukTxGnwTSd4q7Uc/BacO7ijj4aM9AmZ4d7TIQwICjL3V0xmAIctj\n",
       "Cn+XQaD0ik0kXblaJvN5FYDtjEeIirjKdmwv8pCAEDz8P/PnmOVxDX9zIFD+ELuMFLfuNonHdbT7\n",
       "EcZDWRROsB1HijwkIDyO3hCP8FvLI1W+aAuUg2q6dJai96AxLcxo466b++wYTmczHlPjyOMfisTr\n",
       "zxP4PFOyIQFhNHypU2L5mqOJ5uHfakAa1SFMBYq6z72aPxI389ttghX6o9Td+TVOuzMe6Q34Ge4m\n",
       "OlDdbb9WlLG10tuiRyWDyAGdZum1seOuobLmEYTDfiN6ZQI1R9mK0vcAayMd+FvNHeBJhcz3A043\n",
       "iEepuQ9+Uv73atq9q0vlTMmGBPQgfkb+dKuaxzKv7rZhGGAvcJTv8FvMrP3a8UrCsFg7sapKufEV\n",
       "ziuIh4/4KSJDCVnOYtRHVsmGBPx7Yuw5ZYjzVPNIeluBuiosBo6C23rx0AsXcx6452NlNAeJ/ovz\n",
       "hswv4SvkgVrjWggeWaXkkQOqq7zQoYbXGzZxOpMEep3qHaGgGX/BxatNa1TFtWeYcmONiqWMh3cY\n",
       "nT5rQz1oZUoeHwIQjQffkIsXVQyP/fAIlNMo6wilHy+P/y6YxX5lhgYV4z70wAiYGDE8qm7i1Gzq\n",
       "B6lVsiEAN2Y9AovsJ23DYw/8COvzKkQomHdeFdxDpv+pLLyvupAqgqcaMFSzyYw8nJEAdualMChb\n",
       "JRscMFZmHcTz/XFwNlOf29BO3VpelQllqcr2XbPetF5EaXLhGISD88jy2pf/6Xa62daxxedut/PW\n",
       "4OVKNhigPzifwG8LxzGiltyezvptaWX/Hci7FKH0lDmIkFJquvW8ni7TtZ16yke58n0Qtrrzvl/S\n",
       "lsi6NqHIRiWkVDQuzWNWPx2oIn/Rpat163xFHqayDIBEGRAbmOTTG2eOvT80tdMMc67zzIEuPKY4\n",
       "j0A8DzKUSbGBSU5Z4GoeLf72qXY/dLILj3XCHrpYNgoosXjaxR0PvYi8EFm/V/K3ZtTlLRq3PvA+\n",
       "/QtYWDCUd7uRJ1RIO2ATAAAAAElFTkSuQmCC\n",
       "\" style=\"display:inline;vertical-align:middle;\" /></a></span>"
      ],
      "text/plain": [
       "{gamma in Complex, m in NaturalPos, n in NaturalPos, beta in Complex, alpha in Complex, A in Complex^{n x m}, |psi〉 in Complex^{m}} |- (alpha . (A . beta) . |psi〉 . gamma) = (alpha . A . beta . |psi〉 . gamma)"
      ]
     },
     "metadata": {},
     "output_type": "display_data"
    }
   ],
   "source": [
    "qmult1_associated.disassociation(1)"
   ]
  },
  {
   "cell_type": "code",
   "execution_count": 36,
   "metadata": {},
   "outputs": [
    {
     "data": {
      "text/html": [
       "<a class=\"ProveItLink\" href=\"../__pv_it/demonstrations/0c73256043b53c6764b287879ab8abf235377f520/expr.ipynb\"><img src=\"data:image/png;base64,iVBORw0KGgoAAAANSUhEUgAAAKkAAAAVBAMAAADP89MSAAAAMFBMVEX///8QEBBUVFS6urqYmJiI\n",
       "iIgyMjLu7u5mZmYiIiKqqqp2dnZERETc3NzMzMwAAADeqXKjAAAAAXRSTlMAQObYZgAAAAlwSFlz\n",
       "AAAOxAAADsQBlSsOGwAAAqxJREFUOMuNlU9oE0EUxr9ms9ltNhu9eLKVnDxJGwIKetBIET0orNBa\n",
       "RLA5iD2JK1jx4CFgkZYKFr3b2FNFsAuai/VP8KInGy8epNBF9OJBe1CLRVvfvJlNN5vd4BxmJ2/n\n",
       "/Wbm+15mAfhQrYluzW6N/MibOIDdCEZPoqAP4R9WMRi9iyzXDrBv9RHdqiVSL6u0+pTbojrAQvus\n",
       "CMBCiWb3Ioma3ZLPL0gXWlQvnMEtAki5ol9IpJqDLJThQZsNqIYT3hxiAHqhXaUo9cUr9kEnfmuv\n",
       "WT8sJGIAxoboKklU2xmrKerDlq6W6C6Fp3UAlmmyXga+AQf+uErspYFAACyWxfPwyt5xWQMTk0Q9\n",
       "CzziXc+9gRYDmF9sSK2ryF8oeRy07+FK8yNTD+G7x/6kh+5LqvcAVzHmSn+OztwVx4gC0pXUOlBi\n",
       "rVJAg4M9DnLVUaZWsVpQrp9kar42jVPooVMUWdycT3uMAlab2U3gJmt1XEBE8A7lVHiL+tupwYZy\n",
       "/QhTDeyiJUwgT6vpLr2hV1HAPuSJOsx2OCJZBPtozm6uuAlgBxUUNHL9tFQgu05Uimc9VSTCzQjg\n",
       "B/JrwDVhC2WaLLbxk9I3lADo3alcfy2pZsWugeTJqD98XXQRwCYpC+SaMMsmjAFZGIIqWNDI2gyt\n",
       "igyduF9RG2lXI01XVJUsiS4C2ESmJk9z8czn6aIM3gZOrInify8S/lJ3vYyDRUnV+i0M0fCZor7k\n",
       "CmsH1DEvoqRdeu63p4rYenrMnSETbmyNI7v8i8KP959zgjvr0/ORpkwJROoEjLDoYuHJ+DsruE62\n",
       "b8KvvLuqCnHhxQOESHv+lzqqlOSmecmAjMu1kEQ1nDDVU66H7/FYQNqBPptM1fwwg5cYVpFcN0AB\n",
       "tsw83/W7pftok3P7S9YJ+Ade89AuKbzfqwAAAABJRU5ErkJggg==\n",
       "\" style=\"display:inline;vertical-align:middle;\" /></a>"
      ],
      "text/plain": [
       "〈varphi| . alpha . A . beta . |psi〉 . gamma . 〈varphi| . delta"
      ]
     },
     "metadata": {},
     "output_type": "display_data"
    }
   ],
   "source": [
    "qmult2"
   ]
  },
  {
   "cell_type": "code",
   "execution_count": 37,
   "metadata": {},
   "outputs": [
    {
     "data": {
      "text/html": [
       "<span style=\"font-size:20px;\"><a class=\"ProveItLink\" href=\"../__pv_it/demonstrations/6f005ee107395200ff7f4bc83791582bbb4e0f640/expr.ipynb\"><img src=\"data:image/png;base64,iVBORw0KGgoAAAANSUhEUgAAADIAAAAQBAMAAACmdTG/AAAAMFBMVEX///8iIiLMzMyYmJiqqqqI\n",
       "iIju7u5UVFS6urp2dnZEREQQEBAyMjJmZmbc3NwAAADj68T8AAAAAXRSTlMAQObYZgAAAAlwSFlz\n",
       "AAAOxAAADsQBlSsOGwAAAOBJREFUGNNjYGB4e3odAwpgmyVz9NEEIGMCRxmqTPhmhtxfF4AMNHEG\n",
       "3gigeiuQTDiajC5XAgMDO0gm3wEiEiUoeABEl3GB7DIAElzfwBI9YVA9C95CGSwlv0AU3zEon69A\n",
       "E8qyYagHmsvA8wDKZ5rQDFXyj8FfASQDcwDfhVYIg30Bgz5IRlsQCBaA7XkJkeE3YNAH0VlwVy/j\n",
       "gtD5CkCbgIARLtML8g9DAwO/AsMREJ81ABEGBUDiAANnAEsBWOAIXFPU2QcpskB6aiSEn74iAR7W\n",
       "+2UfIIdX50JI6EABAMHlMfYoVzARAAAAAElFTkSuQmCC\n",
       "\" style=\"display:inline;vertical-align:middle;\" /></a>, <a class=\"ProveItLink\" href=\"../../../../logic/sets/cartesian_products/__pv_it/theorems/79a768603778550c651661670153c27ee0a505870/expr.ipynb\"><img src=\"data:image/png;base64,iVBORw0KGgoAAAANSUhEUgAAAEYAAAATBAMAAADfQ2bzAAAAMFBMVEX///8yMjJmZmYiIiIQEBCq\n",
       "qqqYmJjMzMxERER2dnbc3Nzu7u5UVFSIiIi6uroAAACibcT0AAAAAXRSTlMAQObYZgAAAAlwSFlz\n",
       "AAAOxAAADsQBlSsOGwAAAQ9JREFUKM9jYCAAFBgIgwZK1HDbd0gzcPr74TWHI+ANA8N+/HbxWHEm\n",
       "MLAwMHV0eHS04VITwSDFwIzdHN5mY0OwmmUXFuJQwye7AWrOguO8E+Bq+O7smtvLPrMPLLVwA8yu\n",
       "BRwMfXA1nBxnGfbnMYSApaTg7lnArrB5Myyc3zE3MKy/wJAPlhJAqGFIZW2B8Tbsf8AQv4FBEcRm\n",
       "dzY2NraAquHZcATuzngGkAJPcPA2IJnDfWAzXM1BBgZLBr5f3CC2AZIahloOuBpPBu5/DDwCy0Ds\n",
       "u/C4KACGVQWMx/Wdge0DA8eECSAOYwBUFMxQhAebAQOvAgOf7gKwg068Bguyy3sAyY3Y44lvBiQu\n",
       "UAAA9FQ8d6roA+kAAAAASUVORK5CYII=\n",
       "\" style=\"display:inline;vertical-align:middle;\" /></a>, <a class=\"ProveItLink\" href=\"../__pv_it/demonstrations/4827169ff5051c0ad90075d5d60d0692974558df0/expr.ipynb\"><img src=\"data:image/png;base64,iVBORw0KGgoAAAANSUhEUgAAADUAAAATBAMAAADCPVhoAAAAMFBMVEX///8QEBAyMjJERESqqqoi\n",
       "IiK6urpUVFSYmJjMzMzu7u5mZmaIiIh2dnbc3NwAAADJOHriAAAAAXRSTlMAQObYZgAAAAlwSFlz\n",
       "AAAOxAAADsQBlSsOGwAAAPZJREFUKM9jYMAG1poqnZsLZr09vQtViqewgWu/NYjFeYChHVVuTy4D\n",
       "AwdYbi0DQyqKFOcGKyBZDWIeYGDYDhE8HBqqAKTYFxgAyRUQOZYosFTSKYgSZr4NUBPY5pkrLQAx\n",
       "+LSgIs85L0BZvAwdqRNADKYHUJG5bA1wOQYOA7AczC2v2Q5AWWuAxn4AMSaGAoEB2D6YmZlAvwqA\n",
       "GIth+pjB7gQBoBrmAhCDFSbHBvYfGxADfTQR7AqeA/BwSQcSmxgYuHYwsIVBhFTg4Wm0j8sV6EeW\n",
       "aWfuQIWWmy2AxYPh130QL8BBrik4zOCAlwE3WINHLhO3FAAKQjWfO727FgAAAABJRU5ErkJggg==\n",
       "\" style=\"display:inline;vertical-align:middle;\" /></a>, <a class=\"ProveItLink\" href=\"../../../../numbers/number_sets/natural_numbers/__pv_it/theorems/132c57ec1224a4beaf274a23bd799047020206590/expr.ipynb\"><img src=\"data:image/png;base64,iVBORw0KGgoAAAANSUhEUgAAAEEAAAATBAMAAAA9n32KAAAAMFBMVEX///9mZmYQEBCYmJgyMjKq\n",
       "qqrMzMwiIiJERER2dnbc3Nzu7u5UVFSIiIi6uroAAAA6K1lcAAAAAXRSTlMAQObYZgAAAAlwSFlz\n",
       "AAAOxAAADsQBlSsOGwAAAPlJREFUKM9jYMAHGBkIAQ6yVWz/0bKBYdKnB3jMaOU7wMD9AZ8txxdM\n",
       "ZmBQYJDoaOroMMCq4mgDywKGAmxm3CgvdwDRp2y5HLCqeHIbyjjFk3AToYLvzq65vWBxLm+Y0lMM\n",
       "DRwP4Co4Oc4y7F8AYrEsQKhI5K4ugIXpO/YGhvUJYBUMCBXMAREKMN6G/Q8Y4jeAWEnlQNAAUcFw\n",
       "mgeugiGegeEImLEDyQyGPdwFcC5Q+jM3iMGOrILtQgOcq8nA+psTxOC9ABNqA+JrcBVc3xh4HczA\n",
       "TFeYGIjB6ADj8RUwcB8OADP39IFdzJDyCaif2wFbfLxsL8cUBwB3/0NP0Yie0QAAAABJRU5ErkJg\n",
       "gg==\n",
       "\" style=\"display:inline;vertical-align:middle;\" /></a>, <a class=\"ProveItLink\" href=\"../__pv_it/demonstrations/209baac38918ef8b1210d5267967da66f42b39310/expr.ipynb\"><img src=\"data:image/png;base64,iVBORw0KGgoAAAANSUhEUgAAADYAAAAQBAMAAACvnpHFAAAAMFBMVEX///+YmJgyMjJmZmZERESI\n",
       "iIiqqqoQEBDu7u66uroiIiLc3NzMzMxUVFR2dnYAAAB9mGmPAAAAAXRSTlMAQObYZgAAAAlwSFlz\n",
       "AAAOxAAADsQBlSsOGwAAANhJREFUGNNjYMAGOJ4sUt3zAKsUQ2whQ/MXA6xSzJFAPSLY5Q6zNDAw\n",
       "8KLKhaxapQCib7CA7BRAlpoUAWU4bIYJvXt7AExza0AFuC+cg7J2TeCo5k4AMpg2QEV4HkyEskoZ\n",
       "GJxZG0ByMIO4DaZC3fuBgcGID8Q6vgoIHMD27YPIsQN5z1+AWC1wR3mwQOj+AAaG9yDrGLjgcpNB\n",
       "/mOYwMAPlHsOFmENQITLBSChwMDswMBozwMWUkMEgvKGtsUg7wlGMD8Fi/R6NsDjoX7xBtRwnOcF\n",
       "CTMoAAB6EDLom0lYxwAAAABJRU5ErkJggg==\n",
       "\" style=\"display:inline;vertical-align:middle;\" /></a>, <a class=\"ProveItLink\" href=\"../__pv_it/demonstrations/55701387f25fde525e21ebc18286978696667feb0/expr.ipynb\"><img src=\"data:image/png;base64,iVBORw0KGgoAAAANSUhEUgAAAEwAAAAVBAMAAAAeOBUnAAAAMFBMVEX///8QEBAiIiKqqqpUVFSY\n",
       "mJhmZmbu7u5EREQyMjLMzMyIiIi6urp2dnbc3NwAAADC3l7hAAAAAXRSTlMAQObYZgAAAAlwSFlz\n",
       "AAAOxAAADsQBlSsOGwAAAWlJREFUKM9jeMAABVwM2AFr6uptDAx3YFyOBegK2G9ozn51ofRgAOMD\n",
       "hDLmBHRlW0QZyn4kPN/JwF+AUMaggKaKbc8FBoaIBAZvhoNIljJcRlO2jKOAgYElgUGKIY0LSdkL\n",
       "KL1DSWkCiHbnALkvgO8Dg5YVkjJOiKdPbofyG56BKR4Hhr0BIGWrgHI/ChiYL4BE+aZDVfE5rEVy\n",
       "AVBZAgPX1CMXoH7ghAUk14WjKMqYFzCwAK1gYMgBK4NJ8CWcRlHGy8AQDjKSYQmIv1AJCBrAbnuL\n",
       "ooybgWEDA/sGBgZbEL8CLtPOgaKMjYFnAQMbMIzmgfhMcJljoHBjOABXFsDGwO4FdAzYKu4NiFhw\n",
       "ABIT4D6duXNpElATrwFYYDLcuB3THhSrIQKEVf/TBYR1JT0F8BQir/YAoYwhFcwyg4qcbVKagJHq\n",
       "QMqkwKw+BjwAqIzrA9iKCQSUcYNjiTsAn7JdwJAAJ28WfKoAVZ9dUa6eI4EAAAAASUVORK5CYII=\n",
       "\" style=\"display:inline;vertical-align:middle;\" /></a>, <a class=\"ProveItLink\" href=\"../__pv_it/demonstrations/053fb38df6fcf9baf4abe8cee7dd8e99b8a50fd80/expr.ipynb\"><img src=\"data:image/png;base64,iVBORw0KGgoAAAANSUhEUgAAAF0AAAASBAMAAADLUc9JAAAAMFBMVEX///8QEBAiIiLu7u5ERES6\n",
       "urqYmJiIiIjMzMx2dnZUVFRmZmaqqqoyMjLc3NwAAABb1yYoAAAAAXRSTlMAQObYZgAAAAlwSFlz\n",
       "AAAOxAAADsQBlSsOGwAAAXZJREFUKM9jYCAIOhkYuB8wEAPYtrVXMzCwT2DYxsCQnVG+oMwDKvEW\n",
       "XSXzFN3rLyaYBSYwAk0u5yxgYE4VY5BiqIJK30dXXyXGYP1lw+NaBn4DBgbO6wwMfOYXGH4w7ITI\n",
       "8vxHU85dOoGBIWUDw3KGQAaIegauAg4BBh2o9Ho0/3SzAI3l2sAgwbCbg4GhkjuBgYGxgd2B70MD\n",
       "WHrefAjNwO6kpAuiF7OA/JDA94FB4wTUv++BNrA5bADJ8hXUHwArZ71uANHn8BrCX8BQmQAKT64H\n",
       "DFEMvA/4loPluRnOJ0CCCaqcb0EnvmCOYeifAGbcgwpwTAjDp34Dw/sFYMYFqADfhnA8ytm9d693\n",
       "ABsrpKSkpAJ2/0s86s0ZGPgVwJHqABNyZsHrHAYmATBLASYUDQp/hgCsylmBYcP7AcwsR8Qv0EPc\n",
       "F7CqfwjELP/ATN4DMMGS2w9stLEqN/l/mYHH/y84QJmXBMPTp7w2EWmedQokPeAGAE5AWIoR4vwp\n",
       "AAAAAElFTkSuQmCC\n",
       "\" style=\"display:inline;vertical-align:middle;\" /></a>, <a class=\"ProveItLink\" href=\"../__pv_it/demonstrations/b9ff765654f5a9fab1a0f971ffbd46ba878d2ac30/expr.ipynb\"><img src=\"data:image/png;base64,iVBORw0KGgoAAAANSUhEUgAAAFAAAAAVBAMAAAAjqnRBAAAAMFBMVEX///9UVFREREQyMjIQEBAi\n",
       "IiKYmJhmZmaqqqru7u7MzMyIiIi6urp2dnbc3NwAAACKehgKAAAAAXRSTlMAQObYZgAAAAlwSFlz\n",
       "AAAOxAAADsQBlSsOGwAAAYNJREFUKM+Fkj1Iw0AUx/9NP9LkTMwqInRxEEW6qQilk4OLBQldQze3\n",
       "oODk0E0QxOiggksFQUGEtg5SEREsOqgQnBw6RBc/QBQ3N+/OSxpDqQ9eLu/d79579+7BgxAVnSW1\n",
       "eFgjpQpavkOqRBHlfnbyzd1sWgmDGAIkQNqOgrUpbH3Zr8forciuADWqhQgnn7lAyUY/9pAsC3CH\n",
       "6kME3JccIGZjGnV8qAJcofokgLppZtnaJ7E6Lf2TxizJAqRJEP9twGVDHMg886XHQA6PDQoqJxZc\n",
       "UkCa0dAnBKcbR38qaUFL5xWLfIvbxP3Gqu5VBDyQCykPeWCJg/6Gbt9EQCdRpd2hXdxl9p5JJcNr\n",
       "fI+AWHM0KFVgldkbwc6QFAUX8AJCe5ZjdjLYuWZ9xEUInMccbmlRPCGptl/GoJ9sCGx6booe1Mrc\n",
       "MR6ErI9528VwanVg+LyddH3ECaZnpuiFQag81rLw3A2a2Q5zyUDCY4yiq7TEkEHJ/g8Sfl2rO3jq\n",
       "/8S6cz9QhmJCgLC/+QAAAABJRU5ErkJggg==\n",
       "\" style=\"display:inline;vertical-align:middle;\" /></a>, <a class=\"ProveItLink\" href=\"../__pv_it/demonstrations/a96adf032fe1e70a10118c41779605949495a8190/expr.ipynb\"><img src=\"data:image/png;base64,iVBORw0KGgoAAAANSUhEUgAAADQAAAAUBAMAAAAw+gPuAAAAMFBMVEX///8yMjLMzMzc3NyIiIhU\n",
       "VFR2dnZmZmYQEBCYmJi6urru7u5EREQiIiKqqqoAAABRQ6LBAAAAAXRSTlMAQObYZgAAAAlwSFlz\n",
       "AAAOxAAADsQBlSsOGwAAANRJREFUKM9jYMACuHMuihglYJNhcO1k2P6nAJsMuxdQxxysUuo8GxgY\n",
       "WFGkfO7eFQDR0Twg+yYgySz0hjIOmEMZb/9sYFgNpJmloQLMAWoQBmd7bgCDA5DBaACVYkpYCWHY\n",
       "MDAcYlIAScEMZi5YAmEALdjCAmJo3AWCA2C7zOD2s9mByD1w/mkehBTIKgZeOH85yF8MC8BS4OBi\n",
       "cUCERgCQAHuRTQEsIofwu7jBvusQVRCBrac2wEO+/zrEK6xQkWVnIQGFBJYx4ARZuKUO4JYywC4M\n",
       "AInOLMSMX0ERAAAAAElFTkSuQmCC\n",
       "\" style=\"display:inline;vertical-align:middle;\" /></a> <a class=\"ProveItLink\" href=\"../__pv_it/demonstrations/887490e0d0ebb08764e18cfa53a5e15e6df622dd0/proof.ipynb\" style=\"text-decoration: none\">&nbsp;&#x22A2;&nbsp;&nbsp;</a><a class=\"ProveItLink\" href=\"../__pv_it/demonstrations/9edb914e24ce7ec7242e2618e0157f08ae0371ef0/expr.ipynb\"><img src=\"data:image/png;base64,iVBORw0KGgoAAAANSUhEUgAAAaEAAAAVBAMAAAAdqkwmAAAAMFBMVEX////MzMxUVFRERES6uroi\n",
       "IiIQEBCYmJhmZmYyMjLu7u52dnaqqqqIiIjc3NwAAACW8nlqAAAAAXRSTlMAQObYZgAAAAlwSFlz\n",
       "AAAOxAAADsQBlSsOGwAABV9JREFUWMONV11oHFUUPpOd3Zmdmd1Oiz8I1W7xSfrQtU+l0HYTjCBY\n",
       "3JT4ooWutG9iCBptEFoWa9imeWh8Kg1oBwtqkeBYpYIx7bagtPQh44O2RtOOlApipQkiYmiN59x7\n",
       "Z/bOz/4M3Mlm5p7vO9+959xzBgB8ALBBXD50uorhLzv2Jgngt7FXkmCpV2ivQJpFOiH7p9DEqeXg\n",
       "8Zdx4N/lf8xK8OvpmKtRgOLkAX9Pipe/4LidBEujanmSsWXzzoSM9BqBN9sqOi0Q5o85oRMewJXo\n",
       "rBiACQNOYTQhyHLx9k1bRYIK/rhxPPSkgFZ12bwzIQ1jGh9koZ0ia43/fRy0UuiEK1uwKwbQh+ph\n",
       "JqHoLN2q7RQFVIoHr4eemJLF2R4Icei0lFfaKtK3stA0XFCrgROGJ68Ru2IABVQP4wlFDZBWPKFI\n",
       "UMGnAIOhJ7PSrjZ6IMSRi2ZFXNGFi7bYfD3cI8uW4xhSAIz7eMs5cUW1SFbEFQkqiul3Qk8uSZlX\n",
       "64EQx1UQkZeqqOjdagpF34Z5RJEAH8jTEgC7cXI+nkjWdCR0YooCKlRkvRQCUerk/ZZ5N0IcU8Dz\n",
       "aT3Ac385Is/mNgeRAAvMr/7bT81wJ2YbqOgHfqCAtX8HqE4S4PICbqFZikcwuXcdE8UG9fQOoWju\n",
       "nB2lUp/Ydsphnho3RsEtVIMTgcy7EuI4KdKsDsrJAZe9Lw7DR/5dhvI8bGJwrjY2xBW538HHcMvh\n",
       "qfnW1F7avjiANt23SneaMvEiXXvpJ9u0KvkOj41t4YruVIyRYlOmMuHQoM0UmVbNGC2sBkcDmXcl\n",
       "xLEPHwyw3OgDKLP3OQ8y9UWGUod7JbH5bzBFSnMCjlDy6RWWTBl7fRLgnm+t4JNabI+y6LlaYrlR\n",
       "ggxX9BrA9oIjU2FMa2WmaKNe1XzKnncD8+6EOA4Cs0CctwmV3p9Af6fZehW2H9taFqfbC0yRgT64\n",
       "tMoK0qMrhuclAZ4EBQmU5ZiiXIUvhAuagxCkSMc5k6ZMRaebuswUOTnPJEjYEJh3J8RxkMd2gTIS\n",
       "Haf3B3D6q45AX0dbrmIY/MijzlpFj2Zb5e5CMwnwDwNXaymKKAE8mjzLFOVQxPmvZSrox0k1nvEL\n",
       "jskW81po3pUQxz5+/ujktc7yzHiArt8XQQfZmjjdtnFF+jSG/WJ4AME8JAFWWEhb1VgeUdTRIVUn\n",
       "r48zRZ+hvxebMhUFeKbEFU3CXdoWca5mmz0Q4thJNcLHQquDsZmfhaSIgat0HFIE5HE7R4Sisuao\n",
       "lVaRmIMkwArkmyIb5CtD8bKLKmUdPrSZonX46HyECtC1R3yu6CjG1TNh7WPm3QhxnBMN06mfHp2o\n",
       "8PdHsfQu03HzG9n+h7dPRmGwwhWpIyaMSYX8c0gCzMPl4LCONH8l3kbm339vfJjXI70M2glFpjIa\n",
       "oA6LOvOs72qVsD8R1aAzIY6HRa+l7f/bFfXK/OqwM4ULcmZtBqzd/+LjS3t+9oKiuOGLJV9qtnhT\n",
       "EwNYol/ZeCeqVMW5++bay0GFnTu0qM/LVNZDS/NB5VS27LzZ6uGUag+EOLK2WPBGeu8dVu6wzG8E\n",
       "uT3jC5cGcCcBMySaZtZLJnvvsDUNgZSm3MMN9UCIQ6uLzumVXhUtikBml8pfpQE0EjDj4sMmZ/eo\n",
       "iFeqXZJ5N8KGmJ93guqRqsjwZEWu3NkLt1IAiuUEDlsG7KY2QXtFs7IiM9LDMfPOhIz0DHURWCKq\n",
       "7RWptuw/k3c9YOF/UgAyyc9yg/gOA7WFbRX1R/YIRNfZMu9MyEiLHgvOIvf6+47f/oXwU6AU+/RP\n",
       "AtxMsf+TPs4Afo2BpV4hUF/EvDMhjv8Bap/oBKSlDYEAAAAASUVORK5CYII=\n",
       "\" style=\"display:inline;vertical-align:middle;\" /></a></span>"
      ],
      "text/plain": [
       "{delta in Complex, m in NaturalPos, beta in Complex, n in NaturalPos, alpha in Complex, |varphi〉 in Complex^{n}, A in Complex^{n x m}, |psi〉 in Complex^{m}, gamma in Complex} |- (〈varphi| . alpha . A . beta . |psi〉 . gamma . 〈varphi| . delta) = (〈varphi| . alpha . A . beta . |psi〉 . (gamma . 〈varphi| . delta))"
      ]
     },
     "metadata": {},
     "output_type": "display_data"
    }
   ],
   "source": [
    "qmult2.association(5, 3)"
   ]
  },
  {
   "cell_type": "markdown",
   "metadata": {},
   "source": [
    "**If the Qmult is not well-formed, we expect an error:**"
   ]
  },
  {
   "cell_type": "code",
   "execution_count": 38,
   "metadata": {},
   "outputs": [
    {
     "data": {
      "text/html": [
       "<a class=\"ProveItLink\" href=\"../__pv_it/demonstrations/3999c116cceb73f89a2e956e615c934fd16df3030/expr.ipynb\"><img src=\"data:image/png;base64,iVBORw0KGgoAAAANSUhEUgAAAI4AAAAVBAMAAABicsu7AAAAMFBMVEX///+YmJgyMjJmZmZERESI\n",
       "iIiqqqoQEBDu7u66uroiIiLc3NzMzMxUVFR2dnYAAAB9mGmPAAAAAXRSTlMAQObYZgAAAAlwSFlz\n",
       "AAAOxAAADsQBlSsOGwAAAqJJREFUOMuNlE1oE0EUx/+bzW52TbrZKoIKogh+gIK2CFZEXPwAQUMj\n",
       "VShateBNxAbEk5cgFE/a3NRQNEd7kYDSg4guHhQRSQ4ivdjmEquCtUrVgkp9b2Z2s1vEdCAvM/tm\n",
       "f/Pm/94+4D+jGkwyixzhOo2ljI/BJOnHHQ+DiVNi+2DzkYjz+ELuTU6F8KSvJ+QYgLkjznkf5zTs\n",
       "iaj3G6D9kHHnsTbkOPSrxDmVOGcifunvZHaJ6Q2gHHKGowGI0QpPck7HvMZvMnddnuaBvSHnQlSQ\n",
       "RXJJzshgzDtL5mlDcsx7IYefJKrRnVcR5yTn2c58lvisR6ZWJ2O/ym0oCo7V56JhVGAK/Pm5Im7R\n",
       "/zESwYe9/bDkmG/nyD4qWVfSHFiNboN1DaFsZ9kXHMcsWK4xL5XVLn2q85V5oQPPVk9KznJM0amX\n",
       "gQMGn36WX50qyQxpnuA81ytaFQVgtxTpKMUBuy5EqyMpOOlfGPKhkyrdnFr0svmpMmTPCk4xlScf\n",
       "pec1LfvJQ8UEvcSiaUUKijkdHmo+UnTw9Ad+my+pfeXZKCWvIHUeKjqw6C4Xla7jnFiXM2HweczJ\n",
       "uqhRzmjTl8GgfK55KkPJuuR0Yxx8662Kw/JY6zlEOqxHcEZ8UghZ8kyH5bNf7KZ9L6qSsxOrcJs0\n",
       "8BRH5I2+pi4iXfdlPD420WU9aPv4+02QImVRqFYX7DH1nd6sNjTa66hKc0SJ0CUTG7etGJP14+RN\n",
       "Dn6ms19vklq9f94d3CPL/uWJZvC9ZyYPnaLZMlV3urC8WrNwP6jD5pl/twsn2jcyIpJz6kmH3EDP\n",
       "dLdVz1gCR5QWgv5yR3YvUivlt+UMRzkCyhmKdrYt4FS344zG4oGqGDFU2lYCJ9tzwjGAmCytjk3r\n",
       "x7LXBB3kL0mPrnP9PhloAAAAAElFTkSuQmCC\n",
       "\" style=\"display:inline;vertical-align:middle;\" /></a>"
      ],
      "text/plain": [
       "alpha . D . beta . |psi〉 . gamma . 〈varphi| . delta"
      ]
     },
     "metadata": {},
     "output_type": "display_data"
    }
   ],
   "source": [
    "qmult_bad"
   ]
  },
  {
   "cell_type": "markdown",
   "metadata": {},
   "source": [
    "from proveit import UnsatisfiedPrerequisites\n",
    "try:\n",
    "    qmult_bad.association(2, 3)\n",
    "    assert False # expecting an error\n",
    "except UnsatisfiedPrerequisites as e:\n",
    "    print(\"Expected error: %s\"%e)"
   ]
  },
  {
   "cell_type": "markdown",
   "metadata": {},
   "source": [
    "### Factor out scalar factors\n",
    "\n",
    "Scalars are pulled to the front automatically with the default simplification directives.  This directive is currently disabled, however.  Here, we demonstrate doing this manually."
   ]
  },
  {
   "cell_type": "code",
   "execution_count": 39,
   "metadata": {},
   "outputs": [
    {
     "name": "stdout",
     "output_type": "stream",
     "text": [
      "Help on function factorization_of_scalars in module proveit.physics.quantum.algebra.qmult:\n",
      "\n",
      "factorization_of_scalars(self, **defaults_config)\n",
      "    Prove equality with a Qmult in which the complex\n",
      "    numbers are pulled to the front andassociated together via Mult.\n",
      "    For example,\n",
      "        (a A b B c C d D e) = ((a*b*c*d*e) A B C D)\n",
      "    where a, b, c, d, and e are complex numbers, '*' denotes\n",
      "    number multiplication, and spaces, here, denote the Qmult\n",
      "    operation.\n",
      "    \n",
      "    Also see scalar_mult_factorization.\n",
      "    \n",
      "    Keyword arguments are accepted for temporarily changing any\n",
      "    of the attributes of proveit.defaults.\n",
      "    \n",
      "    'scalars_factored' returns the right-hand side of 'factorization_of_scalars'.\n",
      "    'factor_scalars', called on an InnerExpr of a Judgment,\n",
      "    substitutes the right-hand side of 'factorization_of_scalars' for\n",
      "    the inner expression.\n",
      "\n"
     ]
    }
   ],
   "source": [
    "help(Qmult.factorization_of_scalars)"
   ]
  },
  {
   "cell_type": "code",
   "execution_count": 40,
   "metadata": {},
   "outputs": [
    {
     "data": {
      "text/html": [
       "<span style=\"font-size:20px;\"><a class=\"ProveItLink\" href=\"../__pv_it/demonstrations/a96adf032fe1e70a10118c41779605949495a8190/expr.ipynb\"><img src=\"data:image/png;base64,iVBORw0KGgoAAAANSUhEUgAAADQAAAAUBAMAAAAw+gPuAAAAMFBMVEX///8yMjLMzMzc3NyIiIhU\n",
       "VFR2dnZmZmYQEBCYmJi6urru7u5EREQiIiKqqqoAAABRQ6LBAAAAAXRSTlMAQObYZgAAAAlwSFlz\n",
       "AAAOxAAADsQBlSsOGwAAANRJREFUKM9jYMACuHMuihglYJNhcO1k2P6nAJsMuxdQxxysUuo8GxgY\n",
       "WFGkfO7eFQDR0Twg+yYgySz0hjIOmEMZb/9sYFgNpJmloQLMAWoQBmd7bgCDA5DBaACVYkpYCWHY\n",
       "MDAcYlIAScEMZi5YAmEALdjCAmJo3AWCA2C7zOD2s9mByD1w/mkehBTIKgZeOH85yF8MC8BS4OBi\n",
       "cUCERgCQAHuRTQEsIofwu7jBvusQVRCBrac2wEO+/zrEK6xQkWVnIQGFBJYx4ARZuKUO4JYywC4M\n",
       "AInOLMSMX0ERAAAAAElFTkSuQmCC\n",
       "\" style=\"display:inline;vertical-align:middle;\" /></a>, <a class=\"ProveItLink\" href=\"../../../../logic/sets/cartesian_products/__pv_it/theorems/79a768603778550c651661670153c27ee0a505870/expr.ipynb\"><img src=\"data:image/png;base64,iVBORw0KGgoAAAANSUhEUgAAAEYAAAATBAMAAADfQ2bzAAAAMFBMVEX///8yMjJmZmYiIiIQEBCq\n",
       "qqqYmJjMzMxERER2dnbc3Nzu7u5UVFSIiIi6uroAAACibcT0AAAAAXRSTlMAQObYZgAAAAlwSFlz\n",
       "AAAOxAAADsQBlSsOGwAAAQ9JREFUKM9jYCAAFBgIgwZK1HDbd0gzcPr74TWHI+ANA8N+/HbxWHEm\n",
       "MLAwMHV0eHS04VITwSDFwIzdHN5mY0OwmmUXFuJQwye7AWrOguO8E+Bq+O7smtvLPrMPLLVwA8yu\n",
       "BRwMfXA1nBxnGfbnMYSApaTg7lnArrB5Myyc3zE3MKy/wJAPlhJAqGFIZW2B8Tbsf8AQv4FBEcRm\n",
       "dzY2NraAquHZcATuzngGkAJPcPA2IJnDfWAzXM1BBgZLBr5f3CC2AZIahloOuBpPBu5/DDwCy0Ds\n",
       "u/C4KACGVQWMx/Wdge0DA8eECSAOYwBUFMxQhAebAQOvAgOf7gKwg068Bguyy3sAyY3Y44lvBiQu\n",
       "UAAA9FQ8d6roA+kAAAAASUVORK5CYII=\n",
       "\" style=\"display:inline;vertical-align:middle;\" /></a>, <a class=\"ProveItLink\" href=\"../../../../numbers/number_sets/natural_numbers/__pv_it/theorems/132c57ec1224a4beaf274a23bd799047020206590/expr.ipynb\"><img src=\"data:image/png;base64,iVBORw0KGgoAAAANSUhEUgAAAEEAAAATBAMAAAA9n32KAAAAMFBMVEX///9mZmYQEBCYmJgyMjKq\n",
       "qqrMzMwiIiJERER2dnbc3Nzu7u5UVFSIiIi6uroAAAA6K1lcAAAAAXRSTlMAQObYZgAAAAlwSFlz\n",
       "AAAOxAAADsQBlSsOGwAAAPlJREFUKM9jYMAHGBkIAQ6yVWz/0bKBYdKnB3jMaOU7wMD9AZ8txxdM\n",
       "ZmBQYJDoaOroMMCq4mgDywKGAmxm3CgvdwDRp2y5HLCqeHIbyjjFk3AToYLvzq65vWBxLm+Y0lMM\n",
       "DRwP4Co4Oc4y7F8AYrEsQKhI5K4ugIXpO/YGhvUJYBUMCBXMAREKMN6G/Q8Y4jeAWEnlQNAAUcFw\n",
       "mgeugiGegeEImLEDyQyGPdwFcC5Q+jM3iMGOrILtQgOcq8nA+psTxOC9ABNqA+JrcBVc3xh4HczA\n",
       "TFeYGIjB6ADj8RUwcB8OADP39IFdzJDyCaif2wFbfLxsL8cUBwB3/0NP0Yie0QAAAABJRU5ErkJg\n",
       "gg==\n",
       "\" style=\"display:inline;vertical-align:middle;\" /></a>, <a class=\"ProveItLink\" href=\"../__pv_it/demonstrations/4827169ff5051c0ad90075d5d60d0692974558df0/expr.ipynb\"><img src=\"data:image/png;base64,iVBORw0KGgoAAAANSUhEUgAAADUAAAATBAMAAADCPVhoAAAAMFBMVEX///8QEBAyMjJERESqqqoi\n",
       "IiK6urpUVFSYmJjMzMzu7u5mZmaIiIh2dnbc3NwAAADJOHriAAAAAXRSTlMAQObYZgAAAAlwSFlz\n",
       "AAAOxAAADsQBlSsOGwAAAPZJREFUKM9jYMAG1poqnZsLZr09vQtViqewgWu/NYjFeYChHVVuTy4D\n",
       "AwdYbi0DQyqKFOcGKyBZDWIeYGDYDhE8HBqqAKTYFxgAyRUQOZYosFTSKYgSZr4NUBPY5pkrLQAx\n",
       "+LSgIs85L0BZvAwdqRNADKYHUJG5bA1wOQYOA7AczC2v2Q5AWWuAxn4AMSaGAoEB2D6YmZlAvwqA\n",
       "GIth+pjB7gQBoBrmAhCDFSbHBvYfGxADfTQR7AqeA/BwSQcSmxgYuHYwsIVBhFTg4Wm0j8sV6EeW\n",
       "aWfuQIWWmy2AxYPh130QL8BBrik4zOCAlwE3WINHLhO3FAAKQjWfO727FgAAAABJRU5ErkJggg==\n",
       "\" style=\"display:inline;vertical-align:middle;\" /></a>, <a class=\"ProveItLink\" href=\"../__pv_it/demonstrations/209baac38918ef8b1210d5267967da66f42b39310/expr.ipynb\"><img src=\"data:image/png;base64,iVBORw0KGgoAAAANSUhEUgAAADYAAAAQBAMAAACvnpHFAAAAMFBMVEX///+YmJgyMjJmZmZERESI\n",
       "iIiqqqoQEBDu7u66uroiIiLc3NzMzMxUVFR2dnYAAAB9mGmPAAAAAXRSTlMAQObYZgAAAAlwSFlz\n",
       "AAAOxAAADsQBlSsOGwAAANhJREFUGNNjYMAGOJ4sUt3zAKsUQ2whQ/MXA6xSzJFAPSLY5Q6zNDAw\n",
       "8KLKhaxapQCib7CA7BRAlpoUAWU4bIYJvXt7AExza0AFuC+cg7J2TeCo5k4AMpg2QEV4HkyEskoZ\n",
       "GJxZG0ByMIO4DaZC3fuBgcGID8Q6vgoIHMD27YPIsQN5z1+AWC1wR3mwQOj+AAaG9yDrGLjgcpNB\n",
       "/mOYwMAPlHsOFmENQITLBSChwMDswMBozwMWUkMEgvKGtsUg7wlGMD8Fi/R6NsDjoX7xBtRwnOcF\n",
       "CTMoAAB6EDLom0lYxwAAAABJRU5ErkJggg==\n",
       "\" style=\"display:inline;vertical-align:middle;\" /></a>, <a class=\"ProveItLink\" href=\"../__pv_it/demonstrations/053fb38df6fcf9baf4abe8cee7dd8e99b8a50fd80/expr.ipynb\"><img src=\"data:image/png;base64,iVBORw0KGgoAAAANSUhEUgAAAF0AAAASBAMAAADLUc9JAAAAMFBMVEX///8QEBAiIiLu7u5ERES6\n",
       "urqYmJiIiIjMzMx2dnZUVFRmZmaqqqoyMjLc3NwAAABb1yYoAAAAAXRSTlMAQObYZgAAAAlwSFlz\n",
       "AAAOxAAADsQBlSsOGwAAAXZJREFUKM9jYCAIOhkYuB8wEAPYtrVXMzCwT2DYxsCQnVG+oMwDKvEW\n",
       "XSXzFN3rLyaYBSYwAk0u5yxgYE4VY5BiqIJK30dXXyXGYP1lw+NaBn4DBgbO6wwMfOYXGH4w7ITI\n",
       "8vxHU85dOoGBIWUDw3KGQAaIegauAg4BBh2o9Ho0/3SzAI3l2sAgwbCbg4GhkjuBgYGxgd2B70MD\n",
       "WHrefAjNwO6kpAuiF7OA/JDA94FB4wTUv++BNrA5bADJ8hXUHwArZ71uANHn8BrCX8BQmQAKT64H\n",
       "DFEMvA/4loPluRnOJ0CCCaqcb0EnvmCOYeifAGbcgwpwTAjDp34Dw/sFYMYFqADfhnA8ytm9d693\n",
       "ABsrpKSkpAJ2/0s86s0ZGPgVwJHqABNyZsHrHAYmATBLASYUDQp/hgCsylmBYcP7AcwsR8Qv0EPc\n",
       "F7CqfwjELP/ATN4DMMGS2w9stLEqN/l/mYHH/y84QJmXBMPTp7w2EWmedQokPeAGAE5AWIoR4vwp\n",
       "AAAAAElFTkSuQmCC\n",
       "\" style=\"display:inline;vertical-align:middle;\" /></a>, <a class=\"ProveItLink\" href=\"../__pv_it/demonstrations/b9ff765654f5a9fab1a0f971ffbd46ba878d2ac30/expr.ipynb\"><img src=\"data:image/png;base64,iVBORw0KGgoAAAANSUhEUgAAAFAAAAAVBAMAAAAjqnRBAAAAMFBMVEX///9UVFREREQyMjIQEBAi\n",
       "IiKYmJhmZmaqqqru7u7MzMyIiIi6urp2dnbc3NwAAACKehgKAAAAAXRSTlMAQObYZgAAAAlwSFlz\n",
       "AAAOxAAADsQBlSsOGwAAAYNJREFUKM+Fkj1Iw0AUx/9NP9LkTMwqInRxEEW6qQilk4OLBQldQze3\n",
       "oODk0E0QxOiggksFQUGEtg5SEREsOqgQnBw6RBc/QBQ3N+/OSxpDqQ9eLu/d79579+7BgxAVnSW1\n",
       "eFgjpQpavkOqRBHlfnbyzd1sWgmDGAIkQNqOgrUpbH3Zr8forciuADWqhQgnn7lAyUY/9pAsC3CH\n",
       "6kME3JccIGZjGnV8qAJcofokgLppZtnaJ7E6Lf2TxizJAqRJEP9twGVDHMg886XHQA6PDQoqJxZc\n",
       "UkCa0dAnBKcbR38qaUFL5xWLfIvbxP3Gqu5VBDyQCykPeWCJg/6Gbt9EQCdRpd2hXdxl9p5JJcNr\n",
       "fI+AWHM0KFVgldkbwc6QFAUX8AJCe5ZjdjLYuWZ9xEUInMccbmlRPCGptl/GoJ9sCGx6booe1Mrc\n",
       "MR6ErI9528VwanVg+LyddH3ECaZnpuiFQag81rLw3A2a2Q5zyUDCY4yiq7TEkEHJ/g8Sfl2rO3jq\n",
       "/8S6cz9QhmJCgLC/+QAAAABJRU5ErkJggg==\n",
       "\" style=\"display:inline;vertical-align:middle;\" /></a> <a class=\"ProveItLink\" href=\"../__pv_it/demonstrations/00ff49bdb20538ad48605cafe75e1729b2f397290/proof.ipynb\" style=\"text-decoration: none\">&nbsp;&#x22A2;&nbsp;&nbsp;</a><a class=\"ProveItLink\" href=\"../__pv_it/demonstrations/70ff6e712b8f5e973c19b6400743dc078419fd8b0/expr.ipynb\"><img src=\"data:image/png;base64,iVBORw0KGgoAAAANSUhEUgAAASEAAAAVBAMAAAD7r0UnAAAAMFBMVEX////MzMxUVFRERES6uroi\n",
       "IiIQEBCYmJhmZmYyMjLu7u52dnaqqqqIiIjc3NwAAACW8nlqAAAAAXRSTlMAQObYZgAAAAlwSFlz\n",
       "AAAOxAAADsQBlSsOGwAABBpJREFUSMeFVk2IFEcUfu3O3053j4MYTxLHswdHT150Z0ENxAQmweQg\n",
       "OQzoQRBlEEERDMMaWXUPOzfRgDYICSEMNkYNRI0joigedkTEZXG1ISQQVNwoEvzJbl7Ve1VT3V3u\n",
       "Frzpnn71ffXVq1evCgAi+HDTPsf20WgltoVaZANSKyu33433aJv/LqiXgXL/4+eWkR6xLdRM7N/i\n",
       "x62pv2uU+24cMjhDz6eTx7UiH8Br9bv4zdRAXkiWbMQCduwZQ1EP4Da7i+04ZIIUOT3YqxW5aHWj\n",
       "z6nUyD+xJRqzgBXrzRmKcDZZdhcSEx6ZlY+fATZpRR20K0afA6mhR9kSjVnAii2sjrSiIsbI7ZI7\n",
       "Fwe4T/9RURzRiq6j/WF0ygXJoRtsicYsYMX+fq2sFXn4WqqS+04c8Nx/z1zeNq1IJMigsUsGk4nk\n",
       "tcnSiiRLLE8VttR70tWKRF7AaXKPiffL59VWann/ikfm47UnA6moONmE0K9z3t58FcCn4FYSwxRC\n",
       "MnAvrzQ+KxZqCWwBJpqkqDOKih7QHkP3CXz8WSvuKckikOk670jz/k1lqcj1GsWm/5ZSO7/zYgUn\n",
       "npfhOPKVaF+qiQsrbYUfomf9FGAW2WJYbJ/BipAUhbfgR3gSyNRG9zf42A2wzg9IeOklRzFflYqW\n",
       "F+r5SOTId5RMa5wyeMmUyXbJcj0YaE0ZiohFtiS2BS8qUpHTPQLfinwu4AKiewe+4YY/JlcS7h8d\n",
       "ecW7KzMjFQW5nivgsAT/4mAdLE7OTDJda2TjSNYWMz/XNlnkvwTWX3d0dVUqKmJEQowFOBXpRkU5\n",
       "9Fz6TW3C1+JlGCENyuyJwJXfuZK6uCiZxgcUbUf/LhHsbMtkybbSWFS7uE6r5r1FRR0qsejGVTuH\n",
       "413r0qIBfM27a6BCio7BMxBLeppZsbNXT+QRr1rxP/S/7wtVLHoVNVZGPdsgRYU2JvEUbWd0r0et\n",
       "2PGS7PaJqu0Y5mURKToMB2EjVwvBEJrJoU69HplQZMRPsWhFfWymyQeWUFTNB5kalTx0n8fIVCE/\n",
       "Lg73kmAbQo7iKGS28km7OQrzNa6ogqHMGz1WVytkh7HozujdpVl0tz72LzGPWVKU2ePCPj4W0P2R\n",
       "KEf7pwpXkWHoTQA35r7H2C2dvqrOfmfV+sfApw4vbLaWPL/qZO6vh4Kxnq6bigVS2LNzp8AbehNS\n",
       "hVzyy3TERye6s2XLncE1byOOjM5t/rJI1K8U4As2OwvMg5U1e7mcQIvc+dZCiqhSbeAvW6xn6gHb\n",
       "+ZtSZMNKRbKEDUTs3mBR1DEVSWJ9abnQT3IztSNmtLLAPFipKFQ3Guk+a1E0HItR7KZVtQyNgqtk\n",
       "dhaYBysVydR7qOJU6s1zCb1npoC6KD+2dHzOttAlO4X1dR6LyoXu/wGs+S4ViYLNhQAAAABJRU5E\n",
       "rkJggg==\n",
       "\" style=\"display:inline;vertical-align:middle;\" /></a></span>"
      ],
      "text/plain": [
       "{gamma in Complex, m in NaturalPos, n in NaturalPos, beta in Complex, alpha in Complex, A in Complex^{n x m}, |psi〉 in Complex^{m}} |- (alpha . A . beta . |psi〉 . gamma) = ((alpha * beta * gamma) . A . |psi〉)"
      ]
     },
     "metadata": {},
     "output_type": "display_data"
    }
   ],
   "source": [
    "qmult1.factorization_of_scalars()"
   ]
  },
  {
   "cell_type": "code",
   "execution_count": 41,
   "metadata": {},
   "outputs": [
    {
     "data": {
      "text/html": [
       "<a class=\"ProveItLink\" href=\"../__pv_it/demonstrations/0c73256043b53c6764b287879ab8abf235377f520/expr.ipynb\"><img src=\"data:image/png;base64,iVBORw0KGgoAAAANSUhEUgAAAKkAAAAVBAMAAADP89MSAAAAMFBMVEX///8QEBBUVFS6urqYmJiI\n",
       "iIgyMjLu7u5mZmYiIiKqqqp2dnZERETc3NzMzMwAAADeqXKjAAAAAXRSTlMAQObYZgAAAAlwSFlz\n",
       "AAAOxAAADsQBlSsOGwAAAqxJREFUOMuNlU9oE0EUxr9ms9ltNhu9eLKVnDxJGwIKetBIET0orNBa\n",
       "RLA5iD2JK1jx4CFgkZYKFr3b2FNFsAuai/VP8KInGy8epNBF9OJBe1CLRVvfvJlNN5vd4BxmJ2/n\n",
       "/Wbm+15mAfhQrYluzW6N/MibOIDdCEZPoqAP4R9WMRi9iyzXDrBv9RHdqiVSL6u0+pTbojrAQvus\n",
       "CMBCiWb3Ioma3ZLPL0gXWlQvnMEtAki5ol9IpJqDLJThQZsNqIYT3hxiAHqhXaUo9cUr9kEnfmuv\n",
       "WT8sJGIAxoboKklU2xmrKerDlq6W6C6Fp3UAlmmyXga+AQf+uErspYFAACyWxfPwyt5xWQMTk0Q9\n",
       "CzziXc+9gRYDmF9sSK2ryF8oeRy07+FK8yNTD+G7x/6kh+5LqvcAVzHmSn+OztwVx4gC0pXUOlBi\n",
       "rVJAg4M9DnLVUaZWsVpQrp9kar42jVPooVMUWdycT3uMAlab2U3gJmt1XEBE8A7lVHiL+tupwYZy\n",
       "/QhTDeyiJUwgT6vpLr2hV1HAPuSJOsx2OCJZBPtozm6uuAlgBxUUNHL9tFQgu05Uimc9VSTCzQjg\n",
       "B/JrwDVhC2WaLLbxk9I3lADo3alcfy2pZsWugeTJqD98XXQRwCYpC+SaMMsmjAFZGIIqWNDI2gyt\n",
       "igyduF9RG2lXI01XVJUsiS4C2ESmJk9z8czn6aIM3gZOrInify8S/lJ3vYyDRUnV+i0M0fCZor7k\n",
       "CmsH1DEvoqRdeu63p4rYenrMnSETbmyNI7v8i8KP959zgjvr0/ORpkwJROoEjLDoYuHJ+DsruE62\n",
       "b8KvvLuqCnHhxQOESHv+lzqqlOSmecmAjMu1kEQ1nDDVU66H7/FYQNqBPptM1fwwg5cYVpFcN0AB\n",
       "tsw83/W7pftok3P7S9YJ+Ade89AuKbzfqwAAAABJRU5ErkJggg==\n",
       "\" style=\"display:inline;vertical-align:middle;\" /></a>"
      ],
      "text/plain": [
       "〈varphi| . alpha . A . beta . |psi〉 . gamma . 〈varphi| . delta"
      ]
     },
     "metadata": {},
     "output_type": "display_data"
    }
   ],
   "source": [
    "qmult2"
   ]
  },
  {
   "cell_type": "code",
   "execution_count": 42,
   "metadata": {},
   "outputs": [
    {
     "data": {
      "text/html": [
       "<span style=\"font-size:20px;\"><a class=\"ProveItLink\" href=\"../__pv_it/demonstrations/6f005ee107395200ff7f4bc83791582bbb4e0f640/expr.ipynb\"><img src=\"data:image/png;base64,iVBORw0KGgoAAAANSUhEUgAAADIAAAAQBAMAAACmdTG/AAAAMFBMVEX///8iIiLMzMyYmJiqqqqI\n",
       "iIju7u5UVFS6urp2dnZEREQQEBAyMjJmZmbc3NwAAADj68T8AAAAAXRSTlMAQObYZgAAAAlwSFlz\n",
       "AAAOxAAADsQBlSsOGwAAAOBJREFUGNNjYGB4e3odAwpgmyVz9NEEIGMCRxmqTPhmhtxfF4AMNHEG\n",
       "3gigeiuQTDiajC5XAgMDO0gm3wEiEiUoeABEl3GB7DIAElzfwBI9YVA9C95CGSwlv0AU3zEon69A\n",
       "E8qyYagHmsvA8wDKZ5rQDFXyj8FfASQDcwDfhVYIg30Bgz5IRlsQCBaA7XkJkeE3YNAH0VlwVy/j\n",
       "gtD5CkCbgIARLtML8g9DAwO/AsMREJ81ABEGBUDiAANnAEsBWOAIXFPU2QcpskB6aiSEn74iAR7W\n",
       "+2UfIIdX50JI6EABAMHlMfYoVzARAAAAAElFTkSuQmCC\n",
       "\" style=\"display:inline;vertical-align:middle;\" /></a>, <a class=\"ProveItLink\" href=\"../../../../logic/sets/cartesian_products/__pv_it/theorems/79a768603778550c651661670153c27ee0a505870/expr.ipynb\"><img src=\"data:image/png;base64,iVBORw0KGgoAAAANSUhEUgAAAEYAAAATBAMAAADfQ2bzAAAAMFBMVEX///8yMjJmZmYiIiIQEBCq\n",
       "qqqYmJjMzMxERER2dnbc3Nzu7u5UVFSIiIi6uroAAACibcT0AAAAAXRSTlMAQObYZgAAAAlwSFlz\n",
       "AAAOxAAADsQBlSsOGwAAAQ9JREFUKM9jYCAAFBgIgwZK1HDbd0gzcPr74TWHI+ANA8N+/HbxWHEm\n",
       "MLAwMHV0eHS04VITwSDFwIzdHN5mY0OwmmUXFuJQwye7AWrOguO8E+Bq+O7smtvLPrMPLLVwA8yu\n",
       "BRwMfXA1nBxnGfbnMYSApaTg7lnArrB5Myyc3zE3MKy/wJAPlhJAqGFIZW2B8Tbsf8AQv4FBEcRm\n",
       "dzY2NraAquHZcATuzngGkAJPcPA2IJnDfWAzXM1BBgZLBr5f3CC2AZIahloOuBpPBu5/DDwCy0Ds\n",
       "u/C4KACGVQWMx/Wdge0DA8eECSAOYwBUFMxQhAebAQOvAgOf7gKwg068Bguyy3sAyY3Y44lvBiQu\n",
       "UAAA9FQ8d6roA+kAAAAASUVORK5CYII=\n",
       "\" style=\"display:inline;vertical-align:middle;\" /></a>, <a class=\"ProveItLink\" href=\"../__pv_it/demonstrations/4827169ff5051c0ad90075d5d60d0692974558df0/expr.ipynb\"><img src=\"data:image/png;base64,iVBORw0KGgoAAAANSUhEUgAAADUAAAATBAMAAADCPVhoAAAAMFBMVEX///8QEBAyMjJERESqqqoi\n",
       "IiK6urpUVFSYmJjMzMzu7u5mZmaIiIh2dnbc3NwAAADJOHriAAAAAXRSTlMAQObYZgAAAAlwSFlz\n",
       "AAAOxAAADsQBlSsOGwAAAPZJREFUKM9jYMAG1poqnZsLZr09vQtViqewgWu/NYjFeYChHVVuTy4D\n",
       "AwdYbi0DQyqKFOcGKyBZDWIeYGDYDhE8HBqqAKTYFxgAyRUQOZYosFTSKYgSZr4NUBPY5pkrLQAx\n",
       "+LSgIs85L0BZvAwdqRNADKYHUJG5bA1wOQYOA7AczC2v2Q5AWWuAxn4AMSaGAoEB2D6YmZlAvwqA\n",
       "GIth+pjB7gQBoBrmAhCDFSbHBvYfGxADfTQR7AqeA/BwSQcSmxgYuHYwsIVBhFTg4Wm0j8sV6EeW\n",
       "aWfuQIWWmy2AxYPh130QL8BBrik4zOCAlwE3WINHLhO3FAAKQjWfO727FgAAAABJRU5ErkJggg==\n",
       "\" style=\"display:inline;vertical-align:middle;\" /></a>, <a class=\"ProveItLink\" href=\"../../../../numbers/number_sets/natural_numbers/__pv_it/theorems/132c57ec1224a4beaf274a23bd799047020206590/expr.ipynb\"><img src=\"data:image/png;base64,iVBORw0KGgoAAAANSUhEUgAAAEEAAAATBAMAAAA9n32KAAAAMFBMVEX///9mZmYQEBCYmJgyMjKq\n",
       "qqrMzMwiIiJERER2dnbc3Nzu7u5UVFSIiIi6uroAAAA6K1lcAAAAAXRSTlMAQObYZgAAAAlwSFlz\n",
       "AAAOxAAADsQBlSsOGwAAAPlJREFUKM9jYMAHGBkIAQ6yVWz/0bKBYdKnB3jMaOU7wMD9AZ8txxdM\n",
       "ZmBQYJDoaOroMMCq4mgDywKGAmxm3CgvdwDRp2y5HLCqeHIbyjjFk3AToYLvzq65vWBxLm+Y0lMM\n",
       "DRwP4Co4Oc4y7F8AYrEsQKhI5K4ugIXpO/YGhvUJYBUMCBXMAREKMN6G/Q8Y4jeAWEnlQNAAUcFw\n",
       "mgeugiGegeEImLEDyQyGPdwFcC5Q+jM3iMGOrILtQgOcq8nA+psTxOC9ABNqA+JrcBVc3xh4HczA\n",
       "TFeYGIjB6ADj8RUwcB8OADP39IFdzJDyCaif2wFbfLxsL8cUBwB3/0NP0Yie0QAAAABJRU5ErkJg\n",
       "gg==\n",
       "\" style=\"display:inline;vertical-align:middle;\" /></a>, <a class=\"ProveItLink\" href=\"../__pv_it/demonstrations/209baac38918ef8b1210d5267967da66f42b39310/expr.ipynb\"><img src=\"data:image/png;base64,iVBORw0KGgoAAAANSUhEUgAAADYAAAAQBAMAAACvnpHFAAAAMFBMVEX///+YmJgyMjJmZmZERESI\n",
       "iIiqqqoQEBDu7u66uroiIiLc3NzMzMxUVFR2dnYAAAB9mGmPAAAAAXRSTlMAQObYZgAAAAlwSFlz\n",
       "AAAOxAAADsQBlSsOGwAAANhJREFUGNNjYMAGOJ4sUt3zAKsUQ2whQ/MXA6xSzJFAPSLY5Q6zNDAw\n",
       "8KLKhaxapQCib7CA7BRAlpoUAWU4bIYJvXt7AExza0AFuC+cg7J2TeCo5k4AMpg2QEV4HkyEskoZ\n",
       "GJxZG0ByMIO4DaZC3fuBgcGID8Q6vgoIHMD27YPIsQN5z1+AWC1wR3mwQOj+AAaG9yDrGLjgcpNB\n",
       "/mOYwMAPlHsOFmENQITLBSChwMDswMBozwMWUkMEgvKGtsUg7wlGMD8Fi/R6NsDjoX7xBtRwnOcF\n",
       "CTMoAAB6EDLom0lYxwAAAABJRU5ErkJggg==\n",
       "\" style=\"display:inline;vertical-align:middle;\" /></a>, <a class=\"ProveItLink\" href=\"../__pv_it/demonstrations/55701387f25fde525e21ebc18286978696667feb0/expr.ipynb\"><img src=\"data:image/png;base64,iVBORw0KGgoAAAANSUhEUgAAAEwAAAAVBAMAAAAeOBUnAAAAMFBMVEX///8QEBAiIiKqqqpUVFSY\n",
       "mJhmZmbu7u5EREQyMjLMzMyIiIi6urp2dnbc3NwAAADC3l7hAAAAAXRSTlMAQObYZgAAAAlwSFlz\n",
       "AAAOxAAADsQBlSsOGwAAAWlJREFUKM9jeMAABVwM2AFr6uptDAx3YFyOBegK2G9ozn51ofRgAOMD\n",
       "hDLmBHRlW0QZyn4kPN/JwF+AUMaggKaKbc8FBoaIBAZvhoNIljJcRlO2jKOAgYElgUGKIY0LSdkL\n",
       "KL1DSWkCiHbnALkvgO8Dg5YVkjJOiKdPbofyG56BKR4Hhr0BIGWrgHI/ChiYL4BE+aZDVfE5rEVy\n",
       "AVBZAgPX1CMXoH7ghAUk14WjKMqYFzCwAK1gYMgBK4NJ8CWcRlHGy8AQDjKSYQmIv1AJCBrAbnuL\n",
       "ooybgWEDA/sGBgZbEL8CLtPOgaKMjYFnAQMbMIzmgfhMcJljoHBjOABXFsDGwO4FdAzYKu4NiFhw\n",
       "ABIT4D6duXNpElATrwFYYDLcuB3THhSrIQKEVf/TBYR1JT0F8BQir/YAoYwhFcwyg4qcbVKagJHq\n",
       "QMqkwKw+BjwAqIzrA9iKCQSUcYNjiTsAn7JdwJAAJ28WfKoAVZ9dUa6eI4EAAAAASUVORK5CYII=\n",
       "\" style=\"display:inline;vertical-align:middle;\" /></a>, <a class=\"ProveItLink\" href=\"../__pv_it/demonstrations/053fb38df6fcf9baf4abe8cee7dd8e99b8a50fd80/expr.ipynb\"><img src=\"data:image/png;base64,iVBORw0KGgoAAAANSUhEUgAAAF0AAAASBAMAAADLUc9JAAAAMFBMVEX///8QEBAiIiLu7u5ERES6\n",
       "urqYmJiIiIjMzMx2dnZUVFRmZmaqqqoyMjLc3NwAAABb1yYoAAAAAXRSTlMAQObYZgAAAAlwSFlz\n",
       "AAAOxAAADsQBlSsOGwAAAXZJREFUKM9jYCAIOhkYuB8wEAPYtrVXMzCwT2DYxsCQnVG+oMwDKvEW\n",
       "XSXzFN3rLyaYBSYwAk0u5yxgYE4VY5BiqIJK30dXXyXGYP1lw+NaBn4DBgbO6wwMfOYXGH4w7ITI\n",
       "8vxHU85dOoGBIWUDw3KGQAaIegauAg4BBh2o9Ho0/3SzAI3l2sAgwbCbg4GhkjuBgYGxgd2B70MD\n",
       "WHrefAjNwO6kpAuiF7OA/JDA94FB4wTUv++BNrA5bADJ8hXUHwArZ71uANHn8BrCX8BQmQAKT64H\n",
       "DFEMvA/4loPluRnOJ0CCCaqcb0EnvmCOYeifAGbcgwpwTAjDp34Dw/sFYMYFqADfhnA8ytm9d693\n",
       "ABsrpKSkpAJ2/0s86s0ZGPgVwJHqABNyZsHrHAYmATBLASYUDQp/hgCsylmBYcP7AcwsR8Qv0EPc\n",
       "F7CqfwjELP/ATN4DMMGS2w9stLEqN/l/mYHH/y84QJmXBMPTp7w2EWmedQokPeAGAE5AWIoR4vwp\n",
       "AAAAAElFTkSuQmCC\n",
       "\" style=\"display:inline;vertical-align:middle;\" /></a>, <a class=\"ProveItLink\" href=\"../__pv_it/demonstrations/b9ff765654f5a9fab1a0f971ffbd46ba878d2ac30/expr.ipynb\"><img src=\"data:image/png;base64,iVBORw0KGgoAAAANSUhEUgAAAFAAAAAVBAMAAAAjqnRBAAAAMFBMVEX///9UVFREREQyMjIQEBAi\n",
       "IiKYmJhmZmaqqqru7u7MzMyIiIi6urp2dnbc3NwAAACKehgKAAAAAXRSTlMAQObYZgAAAAlwSFlz\n",
       "AAAOxAAADsQBlSsOGwAAAYNJREFUKM+Fkj1Iw0AUx/9NP9LkTMwqInRxEEW6qQilk4OLBQldQze3\n",
       "oODk0E0QxOiggksFQUGEtg5SEREsOqgQnBw6RBc/QBQ3N+/OSxpDqQ9eLu/d79579+7BgxAVnSW1\n",
       "eFgjpQpavkOqRBHlfnbyzd1sWgmDGAIkQNqOgrUpbH3Zr8forciuADWqhQgnn7lAyUY/9pAsC3CH\n",
       "6kME3JccIGZjGnV8qAJcofokgLppZtnaJ7E6Lf2TxizJAqRJEP9twGVDHMg886XHQA6PDQoqJxZc\n",
       "UkCa0dAnBKcbR38qaUFL5xWLfIvbxP3Gqu5VBDyQCykPeWCJg/6Gbt9EQCdRpd2hXdxl9p5JJcNr\n",
       "fI+AWHM0KFVgldkbwc6QFAUX8AJCe5ZjdjLYuWZ9xEUInMccbmlRPCGptl/GoJ9sCGx6booe1Mrc\n",
       "MR6ErI9528VwanVg+LyddH3ECaZnpuiFQag81rLw3A2a2Q5zyUDCY4yiq7TEkEHJ/g8Sfl2rO3jq\n",
       "/8S6cz9QhmJCgLC/+QAAAABJRU5ErkJggg==\n",
       "\" style=\"display:inline;vertical-align:middle;\" /></a>, <a class=\"ProveItLink\" href=\"../__pv_it/demonstrations/a96adf032fe1e70a10118c41779605949495a8190/expr.ipynb\"><img src=\"data:image/png;base64,iVBORw0KGgoAAAANSUhEUgAAADQAAAAUBAMAAAAw+gPuAAAAMFBMVEX///8yMjLMzMzc3NyIiIhU\n",
       "VFR2dnZmZmYQEBCYmJi6urru7u5EREQiIiKqqqoAAABRQ6LBAAAAAXRSTlMAQObYZgAAAAlwSFlz\n",
       "AAAOxAAADsQBlSsOGwAAANRJREFUKM9jYMACuHMuihglYJNhcO1k2P6nAJsMuxdQxxysUuo8GxgY\n",
       "WFGkfO7eFQDR0Twg+yYgySz0hjIOmEMZb/9sYFgNpJmloQLMAWoQBmd7bgCDA5DBaACVYkpYCWHY\n",
       "MDAcYlIAScEMZi5YAmEALdjCAmJo3AWCA2C7zOD2s9mByD1w/mkehBTIKgZeOH85yF8MC8BS4OBi\n",
       "cUCERgCQAHuRTQEsIofwu7jBvusQVRCBrac2wEO+/zrEK6xQkWVnIQGFBJYx4ARZuKUO4JYywC4M\n",
       "AInOLMSMX0ERAAAAAElFTkSuQmCC\n",
       "\" style=\"display:inline;vertical-align:middle;\" /></a> <a class=\"ProveItLink\" href=\"../__pv_it/demonstrations/7e791bbb1a599e6e157f6c2bacf55d094569265c0/proof.ipynb\" style=\"text-decoration: none\">&nbsp;&#x22A2;&nbsp;&nbsp;</a><a class=\"ProveItLink\" href=\"../__pv_it/demonstrations/d0080efa87f7c93abe8938fb40658e8d03ab8cc90/expr.ipynb\"><img src=\"data:image/png;base64,iVBORw0KGgoAAAANSUhEUgAAAcQAAAAVBAMAAAAqZIMSAAAAMFBMVEX////MzMxUVFRERES6uroi\n",
       "IiIQEBCYmJhmZmYyMjLu7u52dnaqqqqIiIjc3NwAAACW8nlqAAAAAXRSTlMAQObYZgAAAAlwSFlz\n",
       "AAAOxAAADsQBlSsOGwAABYtJREFUWMOVWF1oXFUQns3ezf5mcyuICEpSfLIK2fokBdNtwII/xbRE\n",
       "EBQaqQ9SsQQaJRUqCxpSzYPri8GgZrGg5iF0rYoPNbotpLT4kKugxdbalaJYqLShiDTUxpk5P/fc\n",
       "uXdrHMjJ/TvffN85M3POWQBoA4AP2tpwKyvbK1+8iQMkIbUjGOuz8PtU/FEyKYcMv+xp4VcV8/Bz\n",
       "6eGSe1OsmqvNgkcUoPzGnvaOOFtyBT//H31/vDPoBebmYozGpURSLhnu/S191eoocU53WzzUsGjY\n",
       "7VT0KwFQhKFGz1iMMLkqNePzxNiJ1vQ2wRlz81VM4pxzF5KKkMHehTpeZqCTxNKa+n83ZPstWtPt\n",
       "wSYAuojyrOTLrubjOhR2om3Cv7zRPywlKnIxUhEy2DtHg32qo8TcAOdUoQnesEErBO5IsQmAHqI8\n",
       "Ifmyq6mYDI2daN/jX7amBdWkREUuRipCBnt3RzNLSvz6G87dHsSzs1jy3XiHBIDCDWy6ZfSxq9F4\n",
       "hirsRDtCpPeq67QvJSpyMVJRMnvhtImgRInl4EJL01iyuVik5oNYCLoAW/HjvExGclWqJ0lc6pSL\n",
       "6VVsZtT1vKx6mpwkJcjMwDQ5QTIbAB651tDV4thGE1uwzES3Xbx3VqEtTCHaD6p0wBL2eDQB4MQy\n",
       "jmdRTg25yjUj+A62jsbdW8Czgkv3X8P2qLrBwpHywZvbYiRqcpKUIHOUh4jyswapmaEmPyyPwEft\n",
       "y4zyOPRxBWxmx3cqtOZJ+BguNLhP9vkv+qmSSYBsvWuVWuo5+STZLtCzQVPr4DvYyl6e3kXTqu0A\n",
       "DDSoNdUmB3Dn+H1GoiYnSEkyB+AZbIc4lLsAKvywO4B07Syj1OBKvy5X+xkt1ZqEVymrclVeqDan\n",
       "/DjAlXZpBZ/ItCNXmVYE38E2S1ra32DvbsIywp/kGw+JHAfoh7SRqMkJUpLMSXgO29c5lF+hTvTw\n",
       "Lfy2zpPX8+ChgYouV08wWgFeRE44milER5oLPOQC4B5IocTUVSGRXHVXHfwjdQe7cJ0cNvA+MK+6\n",
       "KtCHEvtUWFZpNLK4BmiJhpwgJcn0sd8znPMBeaOHe/CbFzgfFgB6qZ576OhHFROlVURbsEt48TLE\n",
       "Af5med5oB4kWP1NzsOEpU8Rb5lXvGMvbDibFAnKzoCUacpKUILOdo2eeohxd5ThBC/9gtxs6FCAz\n",
       "qsvVAwotVy+3aPryag9aDCAOsMJ5WBoWuagD1cEHB9vaYrhk+JyHS7Zq12AbwJtaoiUnSEXJYO+H\n",
       "qDS3cVnOQWGjKrNEgWfAw4HLU7jlMQb2abRKtuFV7YaxyJMpAFYgjzORrYhZZFeBg89msK0ds1e9\n",
       "PrwHNlMHad9Qgw99JdGSk6QEmf1ckWl+3/3pjsmqevga7kyuUhX5nTrcxOaTMXi4qtC8fUUYDzeM\n",
       "RV6PBcAinDDrg2vkilYSi89msK19Gk5wUOrXi43a4ebff3tiRK+ElpwkJchMw+26Hmd3/9XUi2Xx\n",
       "y4ONaRztw2uzUNp6HR8f33EuMGvubZ+db4cbxpwt6C7AebrKVIVEcpUaDvGVGWxrNSdmz1E7Em49\n",
       "X1p7WtMIycVIRcmMQMbX6qeSTxqmrofbirvcDWNXeAiQAL9JFHa1sxO2NbljKA+HBwje5jrHp0RS\n",
       "ETLYmze5FMPPrlfiWR3wbI+FRzkJENtws6uJ/5LoNZN27/oY2O13kOiSipCh3oPqvKJXsUSJhcBF\n",
       "a7obRv19AkC5EsMZdMYmhh0/dsuT8KxZIhMkuqQiZKj3YRpfXHCGO0v0fBct0Cshm9aRAJCO/7JB\n",
       "rgqVDti2X9LAsB0E2ocmS3RJRcgM8n6d47+sXH13y98ZenyZMG17LwF+SfgZhlz9ue7farRPO1SY\n",
       "978KGsmkHDLY+19Rv+PhyeFDSwAAAABJRU5ErkJggg==\n",
       "\" style=\"display:inline;vertical-align:middle;\" /></a></span>"
      ],
      "text/plain": [
       "{delta in Complex, m in NaturalPos, beta in Complex, n in NaturalPos, alpha in Complex, |varphi〉 in Complex^{n}, A in Complex^{n x m}, |psi〉 in Complex^{m}, gamma in Complex} |- (〈varphi| . alpha . A . beta . |psi〉 . gamma . 〈varphi| . delta) = ((alpha * beta * gamma * delta) . 〈varphi| . A . |psi〉 . 〈varphi|)"
      ]
     },
     "metadata": {},
     "output_type": "display_data"
    }
   ],
   "source": [
    "qmult2.factorization_of_scalars()"
   ]
  },
  {
   "cell_type": "markdown",
   "metadata": {},
   "source": [
    "### Distribution over summations"
   ]
  },
  {
   "cell_type": "code",
   "execution_count": 43,
   "metadata": {},
   "outputs": [
    {
     "name": "stdout",
     "output_type": "stream",
     "text": [
      "Help on function distribution in module proveit.physics.quantum.algebra.qmult:\n",
      "\n",
      "distribution(self, idx, *, field=None, **defaults_config)\n",
      "    Given a Qmult operand at the (0-based) index location\n",
      "    'idx' that is a vector sum or summation, prove the distribution \n",
      "    over that Qmult factor and return an equality to the original\n",
      "    Qmult. For example, we could take the Qmult\n",
      "        qmult = Qmult(A, B+C, D)\n",
      "    and call qmult.distribution(1) to obtain:\n",
      "        |- Qmult(A, B+C, D) =\n",
      "           Qmult(A, B, D) + Qmult(A, C. D)\n",
      "    \n",
      "    Keyword arguments are accepted for temporarily changing any\n",
      "    of the attributes of proveit.defaults.\n",
      "    \n",
      "    'distributed' returns the right-hand side of 'distribution'.\n",
      "    'distribute', called on an InnerExpr of a Judgment,\n",
      "    substitutes the right-hand side of 'distribution' for\n",
      "    the inner expression.\n",
      "\n"
     ]
    }
   ],
   "source": [
    "help(Qmult.distribution)"
   ]
  },
  {
   "cell_type": "code",
   "execution_count": 44,
   "metadata": {},
   "outputs": [
    {
     "data": {
      "text/html": [
       "<a class=\"ProveItLink\" href=\"../__pv_it/demonstrations/5e619be3689aadb5327ed0cc441bb636aebdc83a0/expr.ipynb\"><img src=\"data:image/png;base64,iVBORw0KGgoAAAANSUhEUgAAARQAAAAVBAMAAAB1dQxbAAAAMFBMVEX///8QEBBUVFS6urqYmJiI\n",
       "iIgyMjLu7u5mZmYiIiKqqqp2dnZERETc3NzMzMwAAADeqXKjAAAAAXRSTlMAQObYZgAAAAlwSFlz\n",
       "AAAOxAAADsQBlSsOGwAABFBJREFUSMedll1oFFcUgM/uzu5MdnZGCy0+tMqyD5FW0I21BV90RNQI\n",
       "AafF/ml/UrAN9M+pEPHNRcUqCXRrfAmCpg+C0tIM2lCotK6CSAsx8yIUlTKUtg990CCNNm3S9Jx7\n",
       "Zu7uve4+pAs7d+6595773fN3BwBiSH4RqD8HFv17ZInU6WoDbpslTiN9u6jN3sXj/YtAyfmaQOos\n",
       "xerAnfTFrtLzp7cn8XWsA0oxFE1hWt+vb6FS+SDWpYNXK95t2ClPOHEskDrzqK2mTv9WRQlzKwG6\n",
       "oAPKfm7GH0GBpwCy/2qy/BMBnDsJhSDp/wZGWeq08V9X59dVlJX0ONcJ5Qg3h+aT/jp54Bn0xF+q\n",
       "0PwBzWTNg5Ec3gwhV5c6B1vNwCavqSgv0uNGJ5SlPPN2ev6z6YCBEmNGFRaWUaTgkmWQusRqWuWr\n",
       "1uDQQodRDmKYmP0dUIo8cDP/t46SRZcVlqvCyxRxLh51j0Q534wVirpC1Mb7EqX0ENd4AHcBnp8L\n",
       "eJl9aTVPsThqa8U/dZRMA8ynY0XozAqvoPACCzbc6R7g45mvehDm65wFxTPXIUeIGN5uDLm91xml\n",
       "+MwcR20N3D1rQ4HijMDH0S1hck9k55j7j45y79pL3Z4qtGfSwa3chMbm04xiF5eaXv4hB+qmoRNk\n",
       "MNGxAH7fvIpRtsKaANYiUgxZgIZAyfhQqr1Ck7tEklvg3NdR3oqg+Lgq7EpjGz6H1CV9jPKHVTci\n",
       "CrzDooaV4rt0wrIIoDKUBIozD+MxTcBU20amIZRPcfd+4ZqM8OHrxw7NUXt8dPSx0dETYpsrFBux\n",
       "IsyIjDfJZJxAWOo2MkqQ8W3SDr9gNAQ4QlXQqhKtEeBRCSXbgHsxOQ0t5tPii1wy7CcDiUIqZ3Wr\n",
       "kJl2+KpVptNE6eGqi6QvJKkwHthCzxc89TuyNkWoTxsPCpQlHh1hPzkBV1oibE30uc0pIxyE/oTP\n",
       "NBSX4nhNVRFa82minJc17WqCchRukTngQ546IazWT4baAPCJQDkYU4yVIrA8C8zVnHiEwgWl5CcV\n",
       "bK+Gksdt3QeqkKoe2GTNPi4zOGV5gjKM7n+2edddEs9JKqE12BezVWJ4j2+ad1/+9XiVUYYBeqdF\n",
       "otoYWQ5RTUVaNUNhz4DGN+5B7ht6GRLdAx6sryYoPVFoVJt33ffiid4qvPNR7wjXFdsvljmtjDOz\n",
       "YVKO7K+3BEMiDtw6mFMPAvhy4X1l1+zU/Ur3j6ChmMOVw+JlhMvrc7v9tGy6q669Ac27jis+9bYv\n",
       "nEpL3MTu9Io80q7wn9YuvLPtvgp0oVOX5VXqdMda77oyBxPKLK9ZbeWHw4p2KL3aLuvaoehCVq+i\n",
       "5IMkOkRuhfIrKRNrKHitu9PtUErR4r/ikkvP9FtR7DRnWnceSEtQC4qB+V1vh2I2/gfKpCwrLVaB\n",
       "pJKIAyYDWwBe01HQeQ6vfFNTe3PxJHndklJnVvuUxf7PvCTF/g/ocCbKRxq66gAAAABJRU5ErkJg\n",
       "gg==\n",
       "\" style=\"display:inline;vertical-align:middle;\" /></a>"
      ],
      "text/plain": [
       "〈varphi| . alpha . (A + B + C) . beta . |psi〉 . gamma . 〈varphi| . delta"
      ]
     },
     "metadata": {},
     "output_type": "display_data"
    }
   ],
   "source": [
    "qmult3"
   ]
  },
  {
   "cell_type": "code",
   "execution_count": 45,
   "metadata": {},
   "outputs": [
    {
     "data": {
      "text/html": [
       "<a class=\"ProveItLink\" href=\"../__pv_it/demonstrations/2bc34d5ab46c87c90dc26d4bfc171573451bccb00/expr.ipynb\"><img src=\"data:image/png;base64,iVBORw0KGgoAAAANSUhEUgAAAVYAAAAdBAMAAAADaVmrAAAAMFBMVEX////MzMxUVFRERES6uroi\n",
       "IiIQEBCYmJhmZmYyMjLu7u52dnaqqqqIiIjc3NwAAACW8nlqAAAAAXRSTlMAQObYZgAAAAlwSFlz\n",
       "AAAOxAAADsQBlSsOGwAABYhJREFUWMPtl3+IVFUUx8+bmZ15835MbyWNItp1yUCNHJeMkPaHomsi\n",
       "4SQ7BRbsRlGhFNMv3QJp2FW2XKiNoMVN82EQiCyOEgjq2lYUhsi+klj7ob2QoFiFaW2ptXane869\n",
       "7828OzOB+08s+GDfzD33znmfd+73nHMXAFwAsEBcLgSvBFz/5VYbK9KEUvaU6o9LZNnNHGFfkp7p\n",
       "Y2nJj3xh//WwPiSNfZ9hKzhxyfuit+L91/eaI04Vn8ZtWTZ1BteOVGE1cvQRz8u/fanQ0PCuJVuH\n",
       "Ghsy42BmvPH4+d2+T5N5ywaXnwyy5iJLYKwC5l1TOUj0NY6AhiGrgSqsB/nHaBkrPAkQ+l2ymc/Z\n",
       "cPpRgEFvjx140feps79UcH0qyLoEo2LLD4o01W6bAnhwnw0qBuF0NdZe/tE9I8brfPlMMy9/BY3a\n",
       "ChZolS3tEoZDAGt9n0OlgeQBywZZv2F/sazMeo457nDM40f6IYrj5dVYO7mrcS+CZ72JGLPEpoPG\n",
       "+BYMA/tJVASHKazb9/lpqUAl+XLWw6jELYIwneY5omMqbUxBoh7gKwxIfxVWg09cMf+RWUNMFfHn\n",
       "g8ZP8FkKC0w847Eam32fqPy4W0FgPmv4GrsNkGH9997URnzvaJ6qSR/qjPmuZQuu2tyvfmIhX6jy\n",
       "1Moaf8qs0SRoi6yAMTFJQmBGvZ4r7Y7GPTaxauczkDNTPFWNjpUQQTvLI8WCyP6VnNW4+yq7HyVX\n",
       "g/5rbC3J7QGRWllQBlbniDXRDh+5l2kNBSgyovwts9Y1XVicCRr1aV8gYvtg+1qLWHWjU8uY13g2\n",
       "bevbhEWBBirArS8v5ayvwjIb74H4G3/QmGfh4+xvNbNZEAJIEmvUgXCWNqGGapkKiQmZ9ScXjGeC\n",
       "xpoZ/wGdXubHksR6u5qKuSj+nVTLw1YthqCeRFwPYWJNzMAoe7Mvia2oDnIa5Rn3FJAH5vc1DC6y\n",
       "vs3w+mn3o6Sjc2904+7ArnT66XR6E/3sPtSnFTBGaaM01Gzey/xInljtqKOjd5jHBGeD5mDJV1tR\n",
       "xDFWiog1lIQ65rAOf7kgzS7qTyGKa53ls45RpXaYD2JlpVPfavuszAqTclwx0K87wbjmvXSP8Liu\n",
       "Ym47eW6N2jr5OcOXnhoRWeLgg4eI9aYMcbbh/IfFkk07ej/4GjiI+xyxQKXc0pjudJ74pAGmKXhE\n",
       "YlUw2Za1BozqjJfuRsrL/HA9Z30TLmNA4QO+dBhE9cniC+0m1sMWafULCPQmrfCWciommkYTFguX\n",
       "tQQVtIW8viArj0zYEaV+v8RqMi5lKmjE9gA67keMHy8YywKXs/Ywha0pnjtO0L0Ze00WDlg8rhbs\n",
       "xeZN7ovHgvmFZ+31ol4fFV1/z3e37GrlrD2s8+RJIVh8Eojd4kplnxnbBqUXGM1A5Hix1Gm9EGkX\n",
       "NbvNzcVai+eOI3Rngojve6ernddX3TFwE/poam+xCmtger1svqgesY7JnKjb+rEddh+9mZICrWXK\n",
       "hs8L7wewQi0TDYsfAIlV62nYyaVD4jBuvjDs9RdladPFkr3lD8fRK4XHvF4w/AMa6e3gwL3euUBZ\n",
       "03Wn96AaS/Tp3ko99mGpOZ+tdF4rM/7iH1Z8nwpF1Dt38F6BUabjiOhbJCQhzQ0rRI/tKLDarvDO\n",
       "S4cF7NNPVGLtkijWVWItM/aWs5q2UCg1F94OUb1RK8iqZuQz9meFiRd+E/PN/CQmaqLEGnZn8X+B\n",
       "yKChUlYdSs4dHtqgKKclrJcqnF8XTd4jvmIti7E6l6rEqiVnwSpecFUgriAqKi0QEzsAvpVYm/87\n",
       "Cg4JKMFbw9fS7JVZsF6Uxr7PkPRfFRv/zEugdzo0Z7OPN64b1/99KWO5OcM6D5JzhnX5HNLAZrDn\n",
       "DOuG7Zky27+pqXIt+0fKfQAAAABJRU5ErkJggg==\n",
       "\" style=\"display:inline;vertical-align:middle;\" /></a>"
      ],
      "text/plain": [
       "(〈varphi| . alpha . (A + B + C) . beta . |psi〉 . gamma . 〈varphi| . delta) in_c Q*"
      ]
     },
     "metadata": {},
     "output_type": "display_data"
    }
   ],
   "source": [
    "QmultCodomain.membership_object(qmult3).expr"
   ]
  },
  {
   "cell_type": "code",
   "execution_count": 46,
   "metadata": {},
   "outputs": [
    {
     "data": {
      "text/html": [
       "<span style=\"font-size:20px;\"><a class=\"ProveItLink\" href=\"../__pv_it/demonstrations/6f005ee107395200ff7f4bc83791582bbb4e0f640/expr.ipynb\"><img src=\"data:image/png;base64,iVBORw0KGgoAAAANSUhEUgAAADIAAAAQBAMAAACmdTG/AAAAMFBMVEX///8iIiLMzMyYmJiqqqqI\n",
       "iIju7u5UVFS6urp2dnZEREQQEBAyMjJmZmbc3NwAAADj68T8AAAAAXRSTlMAQObYZgAAAAlwSFlz\n",
       "AAAOxAAADsQBlSsOGwAAAOBJREFUGNNjYGB4e3odAwpgmyVz9NEEIGMCRxmqTPhmhtxfF4AMNHEG\n",
       "3gigeiuQTDiajC5XAgMDO0gm3wEiEiUoeABEl3GB7DIAElzfwBI9YVA9C95CGSwlv0AU3zEon69A\n",
       "E8qyYagHmsvA8wDKZ5rQDFXyj8FfASQDcwDfhVYIg30Bgz5IRlsQCBaA7XkJkeE3YNAH0VlwVy/j\n",
       "gtD5CkCbgIARLtML8g9DAwO/AsMREJ81ABEGBUDiAANnAEsBWOAIXFPU2QcpskB6aiSEn74iAR7W\n",
       "+2UfIIdX50JI6EABAMHlMfYoVzARAAAAAElFTkSuQmCC\n",
       "\" style=\"display:inline;vertical-align:middle;\" /></a>, <a class=\"ProveItLink\" href=\"../../../../logic/sets/cartesian_products/__pv_it/theorems/79a768603778550c651661670153c27ee0a505870/expr.ipynb\"><img src=\"data:image/png;base64,iVBORw0KGgoAAAANSUhEUgAAAEYAAAATBAMAAADfQ2bzAAAAMFBMVEX///8yMjJmZmYiIiIQEBCq\n",
       "qqqYmJjMzMxERER2dnbc3Nzu7u5UVFSIiIi6uroAAACibcT0AAAAAXRSTlMAQObYZgAAAAlwSFlz\n",
       "AAAOxAAADsQBlSsOGwAAAQ9JREFUKM9jYCAAFBgIgwZK1HDbd0gzcPr74TWHI+ANA8N+/HbxWHEm\n",
       "MLAwMHV0eHS04VITwSDFwIzdHN5mY0OwmmUXFuJQwye7AWrOguO8E+Bq+O7smtvLPrMPLLVwA8yu\n",
       "BRwMfXA1nBxnGfbnMYSApaTg7lnArrB5Myyc3zE3MKy/wJAPlhJAqGFIZW2B8Tbsf8AQv4FBEcRm\n",
       "dzY2NraAquHZcATuzngGkAJPcPA2IJnDfWAzXM1BBgZLBr5f3CC2AZIahloOuBpPBu5/DDwCy0Ds\n",
       "u/C4KACGVQWMx/Wdge0DA8eECSAOYwBUFMxQhAebAQOvAgOf7gKwg068Bguyy3sAyY3Y44lvBiQu\n",
       "UAAA9FQ8d6roA+kAAAAASUVORK5CYII=\n",
       "\" style=\"display:inline;vertical-align:middle;\" /></a>, <a class=\"ProveItLink\" href=\"../__pv_it/demonstrations/4827169ff5051c0ad90075d5d60d0692974558df0/expr.ipynb\"><img src=\"data:image/png;base64,iVBORw0KGgoAAAANSUhEUgAAADUAAAATBAMAAADCPVhoAAAAMFBMVEX///8QEBAyMjJERESqqqoi\n",
       "IiK6urpUVFSYmJjMzMzu7u5mZmaIiIh2dnbc3NwAAADJOHriAAAAAXRSTlMAQObYZgAAAAlwSFlz\n",
       "AAAOxAAADsQBlSsOGwAAAPZJREFUKM9jYMAG1poqnZsLZr09vQtViqewgWu/NYjFeYChHVVuTy4D\n",
       "AwdYbi0DQyqKFOcGKyBZDWIeYGDYDhE8HBqqAKTYFxgAyRUQOZYosFTSKYgSZr4NUBPY5pkrLQAx\n",
       "+LSgIs85L0BZvAwdqRNADKYHUJG5bA1wOQYOA7AczC2v2Q5AWWuAxn4AMSaGAoEB2D6YmZlAvwqA\n",
       "GIth+pjB7gQBoBrmAhCDFSbHBvYfGxADfTQR7AqeA/BwSQcSmxgYuHYwsIVBhFTg4Wm0j8sV6EeW\n",
       "aWfuQIWWmy2AxYPh130QL8BBrik4zOCAlwE3WINHLhO3FAAKQjWfO727FgAAAABJRU5ErkJggg==\n",
       "\" style=\"display:inline;vertical-align:middle;\" /></a>, <a class=\"ProveItLink\" href=\"../../../../numbers/number_sets/natural_numbers/__pv_it/theorems/132c57ec1224a4beaf274a23bd799047020206590/expr.ipynb\"><img src=\"data:image/png;base64,iVBORw0KGgoAAAANSUhEUgAAAEEAAAATBAMAAAA9n32KAAAAMFBMVEX///9mZmYQEBCYmJgyMjKq\n",
       "qqrMzMwiIiJERER2dnbc3Nzu7u5UVFSIiIi6uroAAAA6K1lcAAAAAXRSTlMAQObYZgAAAAlwSFlz\n",
       "AAAOxAAADsQBlSsOGwAAAPlJREFUKM9jYMAHGBkIAQ6yVWz/0bKBYdKnB3jMaOU7wMD9AZ8txxdM\n",
       "ZmBQYJDoaOroMMCq4mgDywKGAmxm3CgvdwDRp2y5HLCqeHIbyjjFk3AToYLvzq65vWBxLm+Y0lMM\n",
       "DRwP4Co4Oc4y7F8AYrEsQKhI5K4ugIXpO/YGhvUJYBUMCBXMAREKMN6G/Q8Y4jeAWEnlQNAAUcFw\n",
       "mgeugiGegeEImLEDyQyGPdwFcC5Q+jM3iMGOrILtQgOcq8nA+psTxOC9ABNqA+JrcBVc3xh4HczA\n",
       "TFeYGIjB6ADj8RUwcB8OADP39IFdzJDyCaif2wFbfLxsL8cUBwB3/0NP0Yie0QAAAABJRU5ErkJg\n",
       "gg==\n",
       "\" style=\"display:inline;vertical-align:middle;\" /></a>, <a class=\"ProveItLink\" href=\"../__pv_it/demonstrations/209baac38918ef8b1210d5267967da66f42b39310/expr.ipynb\"><img src=\"data:image/png;base64,iVBORw0KGgoAAAANSUhEUgAAADYAAAAQBAMAAACvnpHFAAAAMFBMVEX///+YmJgyMjJmZmZERESI\n",
       "iIiqqqoQEBDu7u66uroiIiLc3NzMzMxUVFR2dnYAAAB9mGmPAAAAAXRSTlMAQObYZgAAAAlwSFlz\n",
       "AAAOxAAADsQBlSsOGwAAANhJREFUGNNjYMAGOJ4sUt3zAKsUQ2whQ/MXA6xSzJFAPSLY5Q6zNDAw\n",
       "8KLKhaxapQCib7CA7BRAlpoUAWU4bIYJvXt7AExza0AFuC+cg7J2TeCo5k4AMpg2QEV4HkyEskoZ\n",
       "GJxZG0ByMIO4DaZC3fuBgcGID8Q6vgoIHMD27YPIsQN5z1+AWC1wR3mwQOj+AAaG9yDrGLjgcpNB\n",
       "/mOYwMAPlHsOFmENQITLBSChwMDswMBozwMWUkMEgvKGtsUg7wlGMD8Fi/R6NsDjoX7xBtRwnOcF\n",
       "CTMoAAB6EDLom0lYxwAAAABJRU5ErkJggg==\n",
       "\" style=\"display:inline;vertical-align:middle;\" /></a>, <a class=\"ProveItLink\" href=\"../__pv_it/demonstrations/55701387f25fde525e21ebc18286978696667feb0/expr.ipynb\"><img src=\"data:image/png;base64,iVBORw0KGgoAAAANSUhEUgAAAEwAAAAVBAMAAAAeOBUnAAAAMFBMVEX///8QEBAiIiKqqqpUVFSY\n",
       "mJhmZmbu7u5EREQyMjLMzMyIiIi6urp2dnbc3NwAAADC3l7hAAAAAXRSTlMAQObYZgAAAAlwSFlz\n",
       "AAAOxAAADsQBlSsOGwAAAWlJREFUKM9jeMAABVwM2AFr6uptDAx3YFyOBegK2G9ozn51ofRgAOMD\n",
       "hDLmBHRlW0QZyn4kPN/JwF+AUMaggKaKbc8FBoaIBAZvhoNIljJcRlO2jKOAgYElgUGKIY0LSdkL\n",
       "KL1DSWkCiHbnALkvgO8Dg5YVkjJOiKdPbofyG56BKR4Hhr0BIGWrgHI/ChiYL4BE+aZDVfE5rEVy\n",
       "AVBZAgPX1CMXoH7ghAUk14WjKMqYFzCwAK1gYMgBK4NJ8CWcRlHGy8AQDjKSYQmIv1AJCBrAbnuL\n",
       "ooybgWEDA/sGBgZbEL8CLtPOgaKMjYFnAQMbMIzmgfhMcJljoHBjOABXFsDGwO4FdAzYKu4NiFhw\n",
       "ABIT4D6duXNpElATrwFYYDLcuB3THhSrIQKEVf/TBYR1JT0F8BQir/YAoYwhFcwyg4qcbVKagJHq\n",
       "QMqkwKw+BjwAqIzrA9iKCQSUcYNjiTsAn7JdwJAAJ28WfKoAVZ9dUa6eI4EAAAAASUVORK5CYII=\n",
       "\" style=\"display:inline;vertical-align:middle;\" /></a>, <a class=\"ProveItLink\" href=\"../__pv_it/demonstrations/053fb38df6fcf9baf4abe8cee7dd8e99b8a50fd80/expr.ipynb\"><img src=\"data:image/png;base64,iVBORw0KGgoAAAANSUhEUgAAAF0AAAASBAMAAADLUc9JAAAAMFBMVEX///8QEBAiIiLu7u5ERES6\n",
       "urqYmJiIiIjMzMx2dnZUVFRmZmaqqqoyMjLc3NwAAABb1yYoAAAAAXRSTlMAQObYZgAAAAlwSFlz\n",
       "AAAOxAAADsQBlSsOGwAAAXZJREFUKM9jYCAIOhkYuB8wEAPYtrVXMzCwT2DYxsCQnVG+oMwDKvEW\n",
       "XSXzFN3rLyaYBSYwAk0u5yxgYE4VY5BiqIJK30dXXyXGYP1lw+NaBn4DBgbO6wwMfOYXGH4w7ITI\n",
       "8vxHU85dOoGBIWUDw3KGQAaIegauAg4BBh2o9Ho0/3SzAI3l2sAgwbCbg4GhkjuBgYGxgd2B70MD\n",
       "WHrefAjNwO6kpAuiF7OA/JDA94FB4wTUv++BNrA5bADJ8hXUHwArZ71uANHn8BrCX8BQmQAKT64H\n",
       "DFEMvA/4loPluRnOJ0CCCaqcb0EnvmCOYeifAGbcgwpwTAjDp34Dw/sFYMYFqADfhnA8ytm9d693\n",
       "ABsrpKSkpAJ2/0s86s0ZGPgVwJHqABNyZsHrHAYmATBLASYUDQp/hgCsylmBYcP7AcwsR8Qv0EPc\n",
       "F7CqfwjELP/ATN4DMMGS2w9stLEqN/l/mYHH/y84QJmXBMPTp7w2EWmedQokPeAGAE5AWIoR4vwp\n",
       "AAAAAElFTkSuQmCC\n",
       "\" style=\"display:inline;vertical-align:middle;\" /></a>, <a class=\"ProveItLink\" href=\"../__pv_it/demonstrations/8ad6c394b3f6e47e61283ded938b84fbf01842970/expr.ipynb\"><img src=\"data:image/png;base64,iVBORw0KGgoAAAANSUhEUgAAAF4AAAASBAMAAAAgZnRKAAAAMFBMVEX///92dnaqqqoiIiLu7u5m\n",
       "Zma6urqIiIjc3NwQEBDMzMwyMjJUVFRERESYmJgAAAAeMT9/AAAAAXRSTlMAQObYZgAAAAlwSFlz\n",
       "AAAOxAAADsQBlSsOGwAAAYZJREFUKM9jYCAIuAQYGCIYiAJPX5UHMDAUMrA+YOCLW17D/nYBLpWO\n",
       "l3dXLGR5No9hBgMDe4E4A4Nf5gPOA+wHgFJv/585sxdNI/vJByzxVzncNzB8AfKkCxgYWqoZ+Bew\n",
       "CoAk5zIw8PxCVR+eyMDAd5WBp4BtAlQ9w3GGlQzMCkAGx3cGBravqF4MuAIkjzJwLmANWMDALhAH\n",
       "5M1iqGXo5wIy+IBm832HOOOysTWI5nG4ACT9GPoZmBctgPiX4wPQhresIMkPDAzcM0DK2LY7QMzn\n",
       "5QgA0zkM7HLg8DzBwHaAYQdDTwlQkPMCA8thsH+7ocoZergEcAfy+uvlpx+AWTtgQgvZHuBWX9/A\n",
       "wDQPzNoAE2plK8Ct/iYQy4PcwzXZ2NjYFuJ+PO75A8TvQeaxXIAJ8TpcwJ2c/gGJ8wkgpgFMjA0c\n",
       "/mxY1bP/AOr5DWaWI+I3B0hEY1XPDYzxzC0QpgLckNsRLMoB2JTz3P9z5vQlCJvlbAo8fd78TESa\n",
       "Z5OFpAfcAABcwGOQGXzv3wAAAABJRU5ErkJggg==\n",
       "\" style=\"display:inline;vertical-align:middle;\" /></a>, <a class=\"ProveItLink\" href=\"../__pv_it/demonstrations/3e9076fd26c9c3bd8c96662b37678647e05f14bb0/expr.ipynb\"><img src=\"data:image/png;base64,iVBORw0KGgoAAAANSUhEUgAAAF0AAAASBAMAAADLUc9JAAAAMFBMVEX///+6uroyMjLMzMwiIiJm\n",
       "ZmaqqqoQEBB2dnbc3NyYmJhUVFRERESIiIju7u4AAABBACUiAAAAAXRSTlMAQObYZgAAAAlwSFlz\n",
       "AAAOxAAADsQBlSsOGwAAAXZJREFUKM9jYCAILBgYWCcwEAO4omyvMjDwNjBEMTAsXXx3w63DuFTy\n",
       "9TjpTm54Jb6AHWjyXY4LDHwLqxiqGW6D5e7s3sXZgKr+dhXD0z8B8y4x8D9gYODQZWDgfKvA8Jkh\n",
       "AiR3/R4DW8gCFOWsF4H61wQw7GUQZ4CoZ+C+wFzA4AZkvHEGEvGoHjLlARrLHcBQzBDKzMBwgxVo\n",
       "GrsB7wHODwYMDOpAKbAxQHDHxUUBRO/jAblzAecHBudkqH/nA23gOhDAwPENbCBYudA9qPkHpoIp\n",
       "xg0MNxaAwpN7AoM0A9MEzr0PGOY7gGQegwhOPahyzg0WOMO4/wKcyQTzBHODFE71/gifMsEYnAGy\n",
       "ONXXg0mQnxnMXYDgANj9M3CbDyLYDEDkG7jgOR6c6sEhzwFmssAFRUHhzyCATf18kH/7wEzeC4j4\n",
       "3QAkFLCpZ/vFwCDxAMJWg4veUZ3wzBW7g56e3gqz+PXBB/D0We9KRJqXOOKigF8FAEWKXqIjgKvg\n",
       "AAAAAElFTkSuQmCC\n",
       "\" style=\"display:inline;vertical-align:middle;\" /></a>, <a class=\"ProveItLink\" href=\"../__pv_it/demonstrations/b9ff765654f5a9fab1a0f971ffbd46ba878d2ac30/expr.ipynb\"><img src=\"data:image/png;base64,iVBORw0KGgoAAAANSUhEUgAAAFAAAAAVBAMAAAAjqnRBAAAAMFBMVEX///9UVFREREQyMjIQEBAi\n",
       "IiKYmJhmZmaqqqru7u7MzMyIiIi6urp2dnbc3NwAAACKehgKAAAAAXRSTlMAQObYZgAAAAlwSFlz\n",
       "AAAOxAAADsQBlSsOGwAAAYNJREFUKM+Fkj1Iw0AUx/9NP9LkTMwqInRxEEW6qQilk4OLBQldQze3\n",
       "oODk0E0QxOiggksFQUGEtg5SEREsOqgQnBw6RBc/QBQ3N+/OSxpDqQ9eLu/d79579+7BgxAVnSW1\n",
       "eFgjpQpavkOqRBHlfnbyzd1sWgmDGAIkQNqOgrUpbH3Zr8forciuADWqhQgnn7lAyUY/9pAsC3CH\n",
       "6kME3JccIGZjGnV8qAJcofokgLppZtnaJ7E6Lf2TxizJAqRJEP9twGVDHMg886XHQA6PDQoqJxZc\n",
       "UkCa0dAnBKcbR38qaUFL5xWLfIvbxP3Gqu5VBDyQCykPeWCJg/6Gbt9EQCdRpd2hXdxl9p5JJcNr\n",
       "fI+AWHM0KFVgldkbwc6QFAUX8AJCe5ZjdjLYuWZ9xEUInMccbmlRPCGptl/GoJ9sCGx6booe1Mrc\n",
       "MR6ErI9528VwanVg+LyddH3ECaZnpuiFQag81rLw3A2a2Q5zyUDCY4yiq7TEkEHJ/g8Sfl2rO3jq\n",
       "/8S6cz9QhmJCgLC/+QAAAABJRU5ErkJggg==\n",
       "\" style=\"display:inline;vertical-align:middle;\" /></a>, <a class=\"ProveItLink\" href=\"../__pv_it/demonstrations/a96adf032fe1e70a10118c41779605949495a8190/expr.ipynb\"><img src=\"data:image/png;base64,iVBORw0KGgoAAAANSUhEUgAAADQAAAAUBAMAAAAw+gPuAAAAMFBMVEX///8yMjLMzMzc3NyIiIhU\n",
       "VFR2dnZmZmYQEBCYmJi6urru7u5EREQiIiKqqqoAAABRQ6LBAAAAAXRSTlMAQObYZgAAAAlwSFlz\n",
       "AAAOxAAADsQBlSsOGwAAANRJREFUKM9jYMACuHMuihglYJNhcO1k2P6nAJsMuxdQxxysUuo8GxgY\n",
       "WFGkfO7eFQDR0Twg+yYgySz0hjIOmEMZb/9sYFgNpJmloQLMAWoQBmd7bgCDA5DBaACVYkpYCWHY\n",
       "MDAcYlIAScEMZi5YAmEALdjCAmJo3AWCA2C7zOD2s9mByD1w/mkehBTIKgZeOH85yF8MC8BS4OBi\n",
       "cUCERgCQAHuRTQEsIofwu7jBvusQVRCBrac2wEO+/zrEK6xQkWVnIQGFBJYx4ARZuKUO4JYywC4M\n",
       "AInOLMSMX0ERAAAAAElFTkSuQmCC\n",
       "\" style=\"display:inline;vertical-align:middle;\" /></a> <a class=\"ProveItLink\" href=\"../__pv_it/demonstrations/eef3ab489078626c98f04815dcda741ceb488ded0/proof.ipynb\" style=\"text-decoration: none\">&nbsp;&#x22A2;&nbsp;&nbsp;</a><a class=\"ProveItLink\" href=\"../__pv_it/demonstrations/2bc34d5ab46c87c90dc26d4bfc171573451bccb00/expr.ipynb\"><img src=\"data:image/png;base64,iVBORw0KGgoAAAANSUhEUgAAAVYAAAAdBAMAAAADaVmrAAAAMFBMVEX////MzMxUVFRERES6uroi\n",
       "IiIQEBCYmJhmZmYyMjLu7u52dnaqqqqIiIjc3NwAAACW8nlqAAAAAXRSTlMAQObYZgAAAAlwSFlz\n",
       "AAAOxAAADsQBlSsOGwAABYhJREFUWMPtl3+IVFUUx8+bmZ15835MbyWNItp1yUCNHJeMkPaHomsi\n",
       "4SQ7BRbsRlGhFNMv3QJp2FW2XKiNoMVN82EQiCyOEgjq2lYUhsi+klj7ob2QoFiFaW2ptXane869\n",
       "7828OzOB+08s+GDfzD33znmfd+73nHMXAFwAsEBcLgSvBFz/5VYbK9KEUvaU6o9LZNnNHGFfkp7p\n",
       "Y2nJj3xh//WwPiSNfZ9hKzhxyfuit+L91/eaI04Vn8ZtWTZ1BteOVGE1cvQRz8u/fanQ0PCuJVuH\n",
       "Ghsy42BmvPH4+d2+T5N5ywaXnwyy5iJLYKwC5l1TOUj0NY6AhiGrgSqsB/nHaBkrPAkQ+l2ymc/Z\n",
       "cPpRgEFvjx140feps79UcH0qyLoEo2LLD4o01W6bAnhwnw0qBuF0NdZe/tE9I8brfPlMMy9/BY3a\n",
       "ChZolS3tEoZDAGt9n0OlgeQBywZZv2F/sazMeo457nDM40f6IYrj5dVYO7mrcS+CZ72JGLPEpoPG\n",
       "+BYMA/tJVASHKazb9/lpqUAl+XLWw6jELYIwneY5omMqbUxBoh7gKwxIfxVWg09cMf+RWUNMFfHn\n",
       "g8ZP8FkKC0w847Eam32fqPy4W0FgPmv4GrsNkGH9997URnzvaJ6qSR/qjPmuZQuu2tyvfmIhX6jy\n",
       "1Moaf8qs0SRoi6yAMTFJQmBGvZ4r7Y7GPTaxauczkDNTPFWNjpUQQTvLI8WCyP6VnNW4+yq7HyVX\n",
       "g/5rbC3J7QGRWllQBlbniDXRDh+5l2kNBSgyovwts9Y1XVicCRr1aV8gYvtg+1qLWHWjU8uY13g2\n",
       "bevbhEWBBirArS8v5ayvwjIb74H4G3/QmGfh4+xvNbNZEAJIEmvUgXCWNqGGapkKiQmZ9ScXjGeC\n",
       "xpoZ/wGdXubHksR6u5qKuSj+nVTLw1YthqCeRFwPYWJNzMAoe7Mvia2oDnIa5Rn3FJAH5vc1DC6y\n",
       "vs3w+mn3o6Sjc2904+7ArnT66XR6E/3sPtSnFTBGaaM01Gzey/xInljtqKOjd5jHBGeD5mDJV1tR\n",
       "xDFWiog1lIQ65rAOf7kgzS7qTyGKa53ls45RpXaYD2JlpVPfavuszAqTclwx0K87wbjmvXSP8Liu\n",
       "Ym47eW6N2jr5OcOXnhoRWeLgg4eI9aYMcbbh/IfFkk07ej/4GjiI+xyxQKXc0pjudJ74pAGmKXhE\n",
       "YlUw2Za1BozqjJfuRsrL/HA9Z30TLmNA4QO+dBhE9cniC+0m1sMWafULCPQmrfCWciommkYTFguX\n",
       "tQQVtIW8viArj0zYEaV+v8RqMi5lKmjE9gA67keMHy8YywKXs/Ywha0pnjtO0L0Ze00WDlg8rhbs\n",
       "xeZN7ovHgvmFZ+31ol4fFV1/z3e37GrlrD2s8+RJIVh8Eojd4kplnxnbBqUXGM1A5Hix1Gm9EGkX\n",
       "NbvNzcVai+eOI3Rngojve6ernddX3TFwE/poam+xCmtger1svqgesY7JnKjb+rEddh+9mZICrWXK\n",
       "hs8L7wewQi0TDYsfAIlV62nYyaVD4jBuvjDs9RdladPFkr3lD8fRK4XHvF4w/AMa6e3gwL3euUBZ\n",
       "03Wn96AaS/Tp3ko99mGpOZ+tdF4rM/7iH1Z8nwpF1Dt38F6BUabjiOhbJCQhzQ0rRI/tKLDarvDO\n",
       "S4cF7NNPVGLtkijWVWItM/aWs5q2UCg1F94OUb1RK8iqZuQz9meFiRd+E/PN/CQmaqLEGnZn8X+B\n",
       "yKChUlYdSs4dHtqgKKclrJcqnF8XTd4jvmIti7E6l6rEqiVnwSpecFUgriAqKi0QEzsAvpVYm/87\n",
       "Cg4JKMFbw9fS7JVZsF6Uxr7PkPRfFRv/zEugdzo0Z7OPN64b1/99KWO5OcM6D5JzhnX5HNLAZrDn\n",
       "DOuG7Zky27+pqXIt+0fKfQAAAABJRU5ErkJggg==\n",
       "\" style=\"display:inline;vertical-align:middle;\" /></a></span>"
      ],
      "text/plain": [
       "{delta in Complex, m in NaturalPos, beta in Complex, n in NaturalPos, alpha in Complex, |varphi〉 in Complex^{n}, A in Complex^{n x m}, B in Complex^{n x m}, C in Complex^{n x m}, |psi〉 in Complex^{m}, gamma in Complex} |- (〈varphi| . alpha . (A + B + C) . beta . |psi〉 . gamma . 〈varphi| . delta) in_c Q*"
      ]
     },
     "metadata": {},
     "output_type": "display_data"
    }
   ],
   "source": [
    "InClass(qmult3, QmultCodomain).prove()"
   ]
  },
  {
   "cell_type": "code",
   "execution_count": 47,
   "metadata": {},
   "outputs": [
    {
     "data": {
      "text/html": [
       "<span style=\"font-size:20px;\"><a class=\"ProveItLink\" href=\"../__pv_it/demonstrations/209baac38918ef8b1210d5267967da66f42b39310/expr.ipynb\"><img src=\"data:image/png;base64,iVBORw0KGgoAAAANSUhEUgAAADYAAAAQBAMAAACvnpHFAAAAMFBMVEX///+YmJgyMjJmZmZERESI\n",
       "iIiqqqoQEBDu7u66uroiIiLc3NzMzMxUVFR2dnYAAAB9mGmPAAAAAXRSTlMAQObYZgAAAAlwSFlz\n",
       "AAAOxAAADsQBlSsOGwAAANhJREFUGNNjYMAGOJ4sUt3zAKsUQ2whQ/MXA6xSzJFAPSLY5Q6zNDAw\n",
       "8KLKhaxapQCib7CA7BRAlpoUAWU4bIYJvXt7AExza0AFuC+cg7J2TeCo5k4AMpg2QEV4HkyEskoZ\n",
       "GJxZG0ByMIO4DaZC3fuBgcGID8Q6vgoIHMD27YPIsQN5z1+AWC1wR3mwQOj+AAaG9yDrGLjgcpNB\n",
       "/mOYwMAPlHsOFmENQITLBSChwMDswMBozwMWUkMEgvKGtsUg7wlGMD8Fi/R6NsDjoX7xBtRwnOcF\n",
       "CTMoAAB6EDLom0lYxwAAAABJRU5ErkJggg==\n",
       "\" style=\"display:inline;vertical-align:middle;\" /></a>, <a class=\"ProveItLink\" href=\"../__pv_it/demonstrations/4827169ff5051c0ad90075d5d60d0692974558df0/expr.ipynb\"><img src=\"data:image/png;base64,iVBORw0KGgoAAAANSUhEUgAAADUAAAATBAMAAADCPVhoAAAAMFBMVEX///8QEBAyMjJERESqqqoi\n",
       "IiK6urpUVFSYmJjMzMzu7u5mZmaIiIh2dnbc3NwAAADJOHriAAAAAXRSTlMAQObYZgAAAAlwSFlz\n",
       "AAAOxAAADsQBlSsOGwAAAPZJREFUKM9jYMAG1poqnZsLZr09vQtViqewgWu/NYjFeYChHVVuTy4D\n",
       "AwdYbi0DQyqKFOcGKyBZDWIeYGDYDhE8HBqqAKTYFxgAyRUQOZYosFTSKYgSZr4NUBPY5pkrLQAx\n",
       "+LSgIs85L0BZvAwdqRNADKYHUJG5bA1wOQYOA7AczC2v2Q5AWWuAxn4AMSaGAoEB2D6YmZlAvwqA\n",
       "GIth+pjB7gQBoBrmAhCDFSbHBvYfGxADfTQR7AqeA/BwSQcSmxgYuHYwsIVBhFTg4Wm0j8sV6EeW\n",
       "aWfuQIWWmy2AxYPh130QL8BBrik4zOCAlwE3WINHLhO3FAAKQjWfO727FgAAAABJRU5ErkJggg==\n",
       "\" style=\"display:inline;vertical-align:middle;\" /></a>, <a class=\"ProveItLink\" href=\"../__pv_it/demonstrations/a96adf032fe1e70a10118c41779605949495a8190/expr.ipynb\"><img src=\"data:image/png;base64,iVBORw0KGgoAAAANSUhEUgAAADQAAAAUBAMAAAAw+gPuAAAAMFBMVEX///8yMjLMzMzc3NyIiIhU\n",
       "VFR2dnZmZmYQEBCYmJi6urru7u5EREQiIiKqqqoAAABRQ6LBAAAAAXRSTlMAQObYZgAAAAlwSFlz\n",
       "AAAOxAAADsQBlSsOGwAAANRJREFUKM9jYMACuHMuihglYJNhcO1k2P6nAJsMuxdQxxysUuo8GxgY\n",
       "WFGkfO7eFQDR0Twg+yYgySz0hjIOmEMZb/9sYFgNpJmloQLMAWoQBmd7bgCDA5DBaACVYkpYCWHY\n",
       "MDAcYlIAScEMZi5YAmEALdjCAmJo3AWCA2C7zOD2s9mByD1w/mkehBTIKgZeOH85yF8MC8BS4OBi\n",
       "cUCERgCQAHuRTQEsIofwu7jBvusQVRCBrac2wEO+/zrEK6xQkWVnIQGFBJYx4ARZuKUO4JYywC4M\n",
       "AInOLMSMX0ERAAAAAElFTkSuQmCC\n",
       "\" style=\"display:inline;vertical-align:middle;\" /></a>, <a class=\"ProveItLink\" href=\"../__pv_it/demonstrations/6f005ee107395200ff7f4bc83791582bbb4e0f640/expr.ipynb\"><img src=\"data:image/png;base64,iVBORw0KGgoAAAANSUhEUgAAADIAAAAQBAMAAACmdTG/AAAAMFBMVEX///8iIiLMzMyYmJiqqqqI\n",
       "iIju7u5UVFS6urp2dnZEREQQEBAyMjJmZmbc3NwAAADj68T8AAAAAXRSTlMAQObYZgAAAAlwSFlz\n",
       "AAAOxAAADsQBlSsOGwAAAOBJREFUGNNjYGB4e3odAwpgmyVz9NEEIGMCRxmqTPhmhtxfF4AMNHEG\n",
       "3gigeiuQTDiajC5XAgMDO0gm3wEiEiUoeABEl3GB7DIAElzfwBI9YVA9C95CGSwlv0AU3zEon69A\n",
       "E8qyYagHmsvA8wDKZ5rQDFXyj8FfASQDcwDfhVYIg30Bgz5IRlsQCBaA7XkJkeE3YNAH0VlwVy/j\n",
       "gtD5CkCbgIARLtML8g9DAwO/AsMREJ81ABEGBUDiAANnAEsBWOAIXFPU2QcpskB6aiSEn74iAR7W\n",
       "+2UfIIdX50JI6EABAMHlMfYoVzARAAAAAElFTkSuQmCC\n",
       "\" style=\"display:inline;vertical-align:middle;\" /></a>, <a class=\"ProveItLink\" href=\"../../../../logic/sets/cartesian_products/__pv_it/theorems/79a768603778550c651661670153c27ee0a505870/expr.ipynb\"><img src=\"data:image/png;base64,iVBORw0KGgoAAAANSUhEUgAAAEYAAAATBAMAAADfQ2bzAAAAMFBMVEX///8yMjJmZmYiIiIQEBCq\n",
       "qqqYmJjMzMxERER2dnbc3Nzu7u5UVFSIiIi6uroAAACibcT0AAAAAXRSTlMAQObYZgAAAAlwSFlz\n",
       "AAAOxAAADsQBlSsOGwAAAQ9JREFUKM9jYCAAFBgIgwZK1HDbd0gzcPr74TWHI+ANA8N+/HbxWHEm\n",
       "MLAwMHV0eHS04VITwSDFwIzdHN5mY0OwmmUXFuJQwye7AWrOguO8E+Bq+O7smtvLPrMPLLVwA8yu\n",
       "BRwMfXA1nBxnGfbnMYSApaTg7lnArrB5Myyc3zE3MKy/wJAPlhJAqGFIZW2B8Tbsf8AQv4FBEcRm\n",
       "dzY2NraAquHZcATuzngGkAJPcPA2IJnDfWAzXM1BBgZLBr5f3CC2AZIahloOuBpPBu5/DDwCy0Ds\n",
       "u/C4KACGVQWMx/Wdge0DA8eECSAOYwBUFMxQhAebAQOvAgOf7gKwg068Bguyy3sAyY3Y44lvBiQu\n",
       "UAAA9FQ8d6roA+kAAAAASUVORK5CYII=\n",
       "\" style=\"display:inline;vertical-align:middle;\" /></a>, <a class=\"ProveItLink\" href=\"../../../../numbers/number_sets/natural_numbers/__pv_it/theorems/132c57ec1224a4beaf274a23bd799047020206590/expr.ipynb\"><img src=\"data:image/png;base64,iVBORw0KGgoAAAANSUhEUgAAAEEAAAATBAMAAAA9n32KAAAAMFBMVEX///9mZmYQEBCYmJgyMjKq\n",
       "qqrMzMwiIiJERER2dnbc3Nzu7u5UVFSIiIi6uroAAAA6K1lcAAAAAXRSTlMAQObYZgAAAAlwSFlz\n",
       "AAAOxAAADsQBlSsOGwAAAPlJREFUKM9jYMAHGBkIAQ6yVWz/0bKBYdKnB3jMaOU7wMD9AZ8txxdM\n",
       "ZmBQYJDoaOroMMCq4mgDywKGAmxm3CgvdwDRp2y5HLCqeHIbyjjFk3AToYLvzq65vWBxLm+Y0lMM\n",
       "DRwP4Co4Oc4y7F8AYrEsQKhI5K4ugIXpO/YGhvUJYBUMCBXMAREKMN6G/Q8Y4jeAWEnlQNAAUcFw\n",
       "mgeugiGegeEImLEDyQyGPdwFcC5Q+jM3iMGOrILtQgOcq8nA+psTxOC9ABNqA+JrcBVc3xh4HczA\n",
       "TFeYGIjB6ADj8RUwcB8OADP39IFdzJDyCaif2wFbfLxsL8cUBwB3/0NP0Yie0QAAAABJRU5ErkJg\n",
       "gg==\n",
       "\" style=\"display:inline;vertical-align:middle;\" /></a>, <a class=\"ProveItLink\" href=\"../__pv_it/demonstrations/b9ff765654f5a9fab1a0f971ffbd46ba878d2ac30/expr.ipynb\"><img src=\"data:image/png;base64,iVBORw0KGgoAAAANSUhEUgAAAFAAAAAVBAMAAAAjqnRBAAAAMFBMVEX///9UVFREREQyMjIQEBAi\n",
       "IiKYmJhmZmaqqqru7u7MzMyIiIi6urp2dnbc3NwAAACKehgKAAAAAXRSTlMAQObYZgAAAAlwSFlz\n",
       "AAAOxAAADsQBlSsOGwAAAYNJREFUKM+Fkj1Iw0AUx/9NP9LkTMwqInRxEEW6qQilk4OLBQldQze3\n",
       "oODk0E0QxOiggksFQUGEtg5SEREsOqgQnBw6RBc/QBQ3N+/OSxpDqQ9eLu/d79579+7BgxAVnSW1\n",
       "eFgjpQpavkOqRBHlfnbyzd1sWgmDGAIkQNqOgrUpbH3Zr8forciuADWqhQgnn7lAyUY/9pAsC3CH\n",
       "6kME3JccIGZjGnV8qAJcofokgLppZtnaJ7E6Lf2TxizJAqRJEP9twGVDHMg886XHQA6PDQoqJxZc\n",
       "UkCa0dAnBKcbR38qaUFL5xWLfIvbxP3Gqu5VBDyQCykPeWCJg/6Gbt9EQCdRpd2hXdxl9p5JJcNr\n",
       "fI+AWHM0KFVgldkbwc6QFAUX8AJCe5ZjdjLYuWZ9xEUInMccbmlRPCGptl/GoJ9sCGx6booe1Mrc\n",
       "MR6ErI9528VwanVg+LyddH3ECaZnpuiFQag81rLw3A2a2Q5zyUDCY4yiq7TEkEHJ/g8Sfl2rO3jq\n",
       "/8S6cz9QhmJCgLC/+QAAAABJRU5ErkJggg==\n",
       "\" style=\"display:inline;vertical-align:middle;\" /></a>, <a class=\"ProveItLink\" href=\"../__pv_it/demonstrations/053fb38df6fcf9baf4abe8cee7dd8e99b8a50fd80/expr.ipynb\"><img src=\"data:image/png;base64,iVBORw0KGgoAAAANSUhEUgAAAF0AAAASBAMAAADLUc9JAAAAMFBMVEX///8QEBAiIiLu7u5ERES6\n",
       "urqYmJiIiIjMzMx2dnZUVFRmZmaqqqoyMjLc3NwAAABb1yYoAAAAAXRSTlMAQObYZgAAAAlwSFlz\n",
       "AAAOxAAADsQBlSsOGwAAAXZJREFUKM9jYCAIOhkYuB8wEAPYtrVXMzCwT2DYxsCQnVG+oMwDKvEW\n",
       "XSXzFN3rLyaYBSYwAk0u5yxgYE4VY5BiqIJK30dXXyXGYP1lw+NaBn4DBgbO6wwMfOYXGH4w7ITI\n",
       "8vxHU85dOoGBIWUDw3KGQAaIegauAg4BBh2o9Ho0/3SzAI3l2sAgwbCbg4GhkjuBgYGxgd2B70MD\n",
       "WHrefAjNwO6kpAuiF7OA/JDA94FB4wTUv++BNrA5bADJ8hXUHwArZ71uANHn8BrCX8BQmQAKT64H\n",
       "DFEMvA/4loPluRnOJ0CCCaqcb0EnvmCOYeifAGbcgwpwTAjDp34Dw/sFYMYFqADfhnA8ytm9d693\n",
       "ABsrpKSkpAJ2/0s86s0ZGPgVwJHqABNyZsHrHAYmATBLASYUDQp/hgCsylmBYcP7AcwsR8Qv0EPc\n",
       "F7CqfwjELP/ATN4DMMGS2w9stLEqN/l/mYHH/y84QJmXBMPTp7w2EWmedQokPeAGAE5AWIoR4vwp\n",
       "AAAAAElFTkSuQmCC\n",
       "\" style=\"display:inline;vertical-align:middle;\" /></a>, <a class=\"ProveItLink\" href=\"../__pv_it/demonstrations/8ad6c394b3f6e47e61283ded938b84fbf01842970/expr.ipynb\"><img src=\"data:image/png;base64,iVBORw0KGgoAAAANSUhEUgAAAF4AAAASBAMAAAAgZnRKAAAAMFBMVEX///92dnaqqqoiIiLu7u5m\n",
       "Zma6urqIiIjc3NwQEBDMzMwyMjJUVFRERESYmJgAAAAeMT9/AAAAAXRSTlMAQObYZgAAAAlwSFlz\n",
       "AAAOxAAADsQBlSsOGwAAAYZJREFUKM9jYCAIuAQYGCIYiAJPX5UHMDAUMrA+YOCLW17D/nYBLpWO\n",
       "l3dXLGR5No9hBgMDe4E4A4Nf5gPOA+wHgFJv/585sxdNI/vJByzxVzncNzB8AfKkCxgYWqoZ+Bew\n",
       "CoAk5zIw8PxCVR+eyMDAd5WBp4BtAlQ9w3GGlQzMCkAGx3cGBravqF4MuAIkjzJwLmANWMDALhAH\n",
       "5M1iqGXo5wIy+IBm832HOOOysTWI5nG4ACT9GPoZmBctgPiX4wPQhresIMkPDAzcM0DK2LY7QMzn\n",
       "5QgA0zkM7HLg8DzBwHaAYQdDTwlQkPMCA8thsH+7ocoZergEcAfy+uvlpx+AWTtgQgvZHuBWX9/A\n",
       "wDQPzNoAE2plK8Ct/iYQy4PcwzXZ2NjYFuJ+PO75A8TvQeaxXIAJ8TpcwJ2c/gGJ8wkgpgFMjA0c\n",
       "/mxY1bP/AOr5DWaWI+I3B0hEY1XPDYzxzC0QpgLckNsRLMoB2JTz3P9z5vQlCJvlbAo8fd78TESa\n",
       "Z5OFpAfcAABcwGOQGXzv3wAAAABJRU5ErkJggg==\n",
       "\" style=\"display:inline;vertical-align:middle;\" /></a>, <a class=\"ProveItLink\" href=\"../__pv_it/demonstrations/3e9076fd26c9c3bd8c96662b37678647e05f14bb0/expr.ipynb\"><img src=\"data:image/png;base64,iVBORw0KGgoAAAANSUhEUgAAAF0AAAASBAMAAADLUc9JAAAAMFBMVEX///+6uroyMjLMzMwiIiJm\n",
       "ZmaqqqoQEBB2dnbc3NyYmJhUVFRERESIiIju7u4AAABBACUiAAAAAXRSTlMAQObYZgAAAAlwSFlz\n",
       "AAAOxAAADsQBlSsOGwAAAXZJREFUKM9jYCAILBgYWCcwEAO4omyvMjDwNjBEMTAsXXx3w63DuFTy\n",
       "9TjpTm54Jb6AHWjyXY4LDHwLqxiqGW6D5e7s3sXZgKr+dhXD0z8B8y4x8D9gYODQZWDgfKvA8Jkh\n",
       "AiR3/R4DW8gCFOWsF4H61wQw7GUQZ4CoZ+C+wFzA4AZkvHEGEvGoHjLlARrLHcBQzBDKzMBwgxVo\n",
       "GrsB7wHODwYMDOpAKbAxQHDHxUUBRO/jAblzAecHBudkqH/nA23gOhDAwPENbCBYudA9qPkHpoIp\n",
       "xg0MNxaAwpN7AoM0A9MEzr0PGOY7gGQegwhOPahyzg0WOMO4/wKcyQTzBHODFE71/gifMsEYnAGy\n",
       "ONXXg0mQnxnMXYDgANj9M3CbDyLYDEDkG7jgOR6c6sEhzwFmssAFRUHhzyCATf18kH/7wEzeC4j4\n",
       "3QAkFLCpZ/vFwCDxAMJWg4veUZ3wzBW7g56e3gqz+PXBB/D0We9KRJqXOOKigF8FAEWKXqIjgKvg\n",
       "AAAAAElFTkSuQmCC\n",
       "\" style=\"display:inline;vertical-align:middle;\" /></a>, <a class=\"ProveItLink\" href=\"../__pv_it/demonstrations/55701387f25fde525e21ebc18286978696667feb0/expr.ipynb\"><img src=\"data:image/png;base64,iVBORw0KGgoAAAANSUhEUgAAAEwAAAAVBAMAAAAeOBUnAAAAMFBMVEX///8QEBAiIiKqqqpUVFSY\n",
       "mJhmZmbu7u5EREQyMjLMzMyIiIi6urp2dnbc3NwAAADC3l7hAAAAAXRSTlMAQObYZgAAAAlwSFlz\n",
       "AAAOxAAADsQBlSsOGwAAAWlJREFUKM9jeMAABVwM2AFr6uptDAx3YFyOBegK2G9ozn51ofRgAOMD\n",
       "hDLmBHRlW0QZyn4kPN/JwF+AUMaggKaKbc8FBoaIBAZvhoNIljJcRlO2jKOAgYElgUGKIY0LSdkL\n",
       "KL1DSWkCiHbnALkvgO8Dg5YVkjJOiKdPbofyG56BKR4Hhr0BIGWrgHI/ChiYL4BE+aZDVfE5rEVy\n",
       "AVBZAgPX1CMXoH7ghAUk14WjKMqYFzCwAK1gYMgBK4NJ8CWcRlHGy8AQDjKSYQmIv1AJCBrAbnuL\n",
       "ooybgWEDA/sGBgZbEL8CLtPOgaKMjYFnAQMbMIzmgfhMcJljoHBjOABXFsDGwO4FdAzYKu4NiFhw\n",
       "ABIT4D6duXNpElATrwFYYDLcuB3THhSrIQKEVf/TBYR1JT0F8BQir/YAoYwhFcwyg4qcbVKagJHq\n",
       "QMqkwKw+BjwAqIzrA9iKCQSUcYNjiTsAn7JdwJAAJ28WfKoAVZ9dUa6eI4EAAAAASUVORK5CYII=\n",
       "\" style=\"display:inline;vertical-align:middle;\" /></a> <a class=\"ProveItLink\" href=\"../__pv_it/demonstrations/f8364777f46b7a1e21e91ad3de026cc8dda641b30/proof.ipynb\" style=\"text-decoration: none\">&nbsp;&#x22A2;&nbsp;&nbsp;</a><a class=\"ProveItLink\" href=\"../__pv_it/demonstrations/c99db15a7239005903d9d2e15d650dc421c1b0ea0/expr.ipynb\"><img src=\"data:image/png;base64,iVBORw0KGgoAAAANSUhEUgAAA7MAAAAVBAMAAABmnaQyAAAAMFBMVEX////MzMxUVFRERES6uroi\n",
       "IiIQEBCYmJhmZmYyMjLu7u52dnaqqqqIiIjc3NwAAACW8nlqAAAAAXRSTlMAQObYZgAAAAlwSFlz\n",
       "AAAOxAAADsQBlSsOGwAACZRJREFUaN6tWnuIVNcZ/+bhzt17Z8ZJ6BPSOtlQWpOCo9BSQl1HqRva\n",
       "EDIb3BTagFuSviyxQ7WNKaQOGtkY/3BLQYl95DaBtFKWTGyagmabbYpiCWFvE5qmm6yZIkJBRY2V\n",
       "NDZqv++87jnn3nt2V71wXPecc8/v8Z33XQDoAUANxNMD86nCgp/EK6rNnFWQS7zSy2ivmlo7/VkA\n",
       "XDXj9ZqLz3WDWoiouLhmlSS59uQvlSl8sSGzn7defJs3PL6A0BYjK0O1WbBoHZf/CZoEsvP+3l0p\n",
       "7b0tklnb0D1+FXDw7z2DCapz2XF1yjKg3KLMJy5ebmk3uUoTmZGv0ItTGVrKXfaj/6wNtenKwMDP\n",
       "7A4EEysG2ifhHwp28rFQtVnB1jpm9RcN4gGsCSvthCiiwGi8mOmCpHfyzcfnDwfd4q0xVfU47Cit\n",
       "endg6fLrBuUU5b8+8OlqNzZRFGP/OGrF3OQqTaTkU49fBBmh3c9/TCdCC/cD5M/ZPf7BEI5+FfpD\n",
       "8fsnoFRXbQaYWmb9lqErT6/tSwDtlzRamaEV9HIR/GD+cHArdYrQasppRx+OkGW16wXlFPXGDJR3\n",
       "tGMTRXFXJ8cei6syEZNH7x/NCu0Y/7Htsvj9DjUgL+HM+18z0/8cyvYuQ0l0Yb8LxZZqc0Lvo7zb\n",
       "dgxdFeoGWxKhHRPJqq0/gt7vANbOHw5eo4HYsYQ57TiDg+buzjVCFduasCxRTw/jP7t7sYm82I/0\n",
       "Ycoei6syEVOfOX9boR3lsCfl+HxVTU6YU7pkZvZvIOb4ygaQE5UXj9o/6yuLtUAx4v4HNDDsvs0o\n",
       "jCZr63OSoIe6t80fDp4ljzZYwpx2bMUWtkbXCFWONGFZovaQDUOaiby4XNMXV0jhqkzE9Fc5C6Vp\n",
       "KfOC05UP7NDmcQ7s32hmvkQCctgP96rQHo7XWlo4+nsps73StQor99uLLVFgNPZDVmglvQjKX1sA\n",
       "XOEiKKpKg9OOZWR67xqhZGhdogIm6GOaibyYpn74VWIB0blKEzHtAr7m3gDw5fOhWIsP3SymJ76L\n",
       "6pTfs0OLy47/qZqRWb3AsDDzAM9YfXzpPo7pv9mGbqXFdw7l9bdDkUKOG4tcDYpP3s6JvzyN/TGo\n",
       "W6ElCoyGVRsOHZA9XtArfnLFE2ESDg6jrK8kGyh/9jwoqkqY0w7cXzw17IDKUmZAydC6RJ1hS/Cv\n",
       "NROxeGIMQ/t3vtFTUDZXZSKmvWIp7kBu75ouK6+ug2d6p9gUy8ZQcSr3Pzu0S1bOLm2bmcElWfgw\n",
       "/9EtbR7moQ3Ko367cpHvGn606x7qi+wXD+Djm29jukrj+Yv0L5XsGKHnHkmB0TBrw4mmv7E6pdML\n",
       "4KG1tSRc6Tt/qNMEajfwMCwLFVUlzGVH7vzsa3vBAZWhzISSoXWJeik+KQkTsbh7BH4D74R84ySh\n",
       "LK6xiZjuw4w1bBbPAzRYeV8Ehc4M234x7zyovmuH9p0elL9tZi6Sey04AnKi2sRDe5PXKvVocXmU\n",
       "rRWF2g0UkjpbpupQYLrO9Mq4ZJZHrVFLFChZteFBgC9UQp0ezlalRgKOVsHlODLsBqqXYbqmqCph\n",
       "LjsqKPBIOxsqS5kJJUPrErU+nt6FiUEzN7UDfkJ7Aa+pQVlcYxMxPQCMFpL9McWfynfj6+NsLutj\n",
       "s8Trj207L8bSt8RYgs/T2lozMvvYEcSnIQ1yO3c3D23YFwXUOtyIBoVYQvKIYhdKIcaGdN0COWSV\n",
       "s49ZRIGSVdvDejvZ0qPo4Ua1eDYBBxiUiUoSLt+AJTVBVRPmsqOAjgXnsqGylGlQ3sjIvd8cGamD\n",
       "W9T3mbBQMzFo+hj4Lo3xXF2DsrjGJmJ6gM/4FdoaYDvP8yUl+F6oQkutX7BHLY2TrZE5as/K7eIQ\n",
       "3+WjnDfE+j4dBqydV3jVP02JJS0i4Amm6z3GqDiaEVqrNh0xXzgIOr3VWGk0FS44lYRb3GZeD1nC\n",
       "XHYsrstTQTZUmjITSo5al6j1cjusTMTi8kUM7YS6RuJQFtfYREz38X2aR414bC32L8ktGp+QsaPA\n",
       "vZYDOdq4LGsamd5luV08rE7yK0Rod8Ip6mlydzcpN3cdculxIu6fY0tEuWWttXJCNmvDs5HYkcf0\n",
       "ELlQT4ULIkg2UGOL3+GUCTnLjiUYiPx/3FApyiwofULOEsVOtIFuIhZ747gMz8Sb8UlIco1NxLSS\n",
       "ZpoeHtU98G/mO2jSwgdPIRKn+SctB2jZyb1vZtItBgTUvTfxfQJW2ShCux3njC/FZ7JD7N9BOrZ3\n",
       "4Kka03UO+qfEEmYcESNBw6y9GLNeUJcNjB5q+kgvFS7oJuEW1+AXimoszGUH7i9gybgbKk2ZCSVD\n",
       "6xJFdyNwUDeRQtsohcVmfIRmUBbX2ERMB8Rt5hP//OiOJi/fDrDlLNuE0y66SrJW9azbCcwc2mfZ\n",
       "Mt2G4kF5ggD4bRvWNkVoh3rdUjO+SXlOXtf2//KnW9bxU9skvBwft7QjXl2ciMzaXgNKu+mziaLn\n",
       "j0FxXTpcUEvCBVG5rqjGGlx27MFp7rtsAcyGSlNmQsnQukTRae7OUDcRi4sbA9isXXw9B0musYmY\n",
       "Piw266X1F7ri3Bv88ZFwFyOQa4G/6v0Q/nLl54YDeboo/yJYtvjbBx5l/1nHL2nueiuSZ+ncbSuP\n",
       "aReeHXX9+cMrXxfn9WCW8BfZl4hIgSWrNhx6aMbDKSmmV/7Q7GQGnJcCB5NvxVRjDQ47bqEvIiyC\n",
       "DqjOnFAytA5RGNEVn2kaJlLxjb+f7WnXzh1I4apMxLSoJjrCWNpF47Bl9KtpH5zszGpLXdKoNnNT\n",
       "+oVnXX208NrmVcyJROvDIqXVNoZ3Nlw+E67asjS47Zgbqj4nlLponI8oZSIrvsm4n66rb0w21xM8\n",
       "sVtrmr6/kabFvq2/Iw3ezuRczdDyI+iguCHvqk+NfTVT11iidXHXnVo7028DDu7MhPPalga3HXNC\n",
       "OZRJKPV5YD6izNDOiNVVh0rjKr+oDPIPTuJAaWkp9Bb+VxZinfcj3YBAv/CUMvbJI7DSVW0kWiMK\n",
       "jEaytvmtOBNOikpp4HiiGacdc0JlK0tCzUeUMpEVd/X7afFCClcykRn5NPVVPFy10rT4jasI7aA6\n",
       "1mp9G8R5j4kSBY8A3YnqulK6ElFgNJK1jWd1Jhw0suDUuNY+p7nsmBMqW1kSaj6ilImsmMVZftIX\n",
       "UClc1WCoRmzervJG/ma1fXrhka3Y4VFt5q0/9MHf/8VfkQqOpbR3WqRk7fQnASf/aijZQCXZk9x2\n",
       "XL2yFKiFiIqL6xZUkusxnv4PKpAMv/ckYloAAAAASUVORK5CYII=\n",
       "\" style=\"display:inline;vertical-align:middle;\" /></a></span>"
      ],
      "text/plain": [
       "{alpha in Complex, beta in Complex, gamma in Complex, delta in Complex, m in NaturalPos, n in NaturalPos, |psi〉 in Complex^{m}, A in Complex^{n x m}, B in Complex^{n x m}, C in Complex^{n x m}, |varphi〉 in Complex^{n}} |- (〈varphi| . alpha . (A + B + C) . beta . |psi〉 . gamma . 〈varphi| . delta) = ((〈varphi| . alpha . A . beta . |psi〉 . gamma . 〈varphi| . delta) + (〈varphi| . alpha . B . beta . |psi〉 . gamma . 〈varphi| . delta) + (〈varphi| . alpha . C . beta . |psi〉 . gamma . 〈varphi| . delta))"
      ]
     },
     "metadata": {},
     "output_type": "display_data"
    }
   ],
   "source": [
    "qmult3.distribution(2)"
   ]
  },
  {
   "cell_type": "code",
   "execution_count": 48,
   "metadata": {},
   "outputs": [
    {
     "data": {
      "text/html": [
       "<a class=\"ProveItLink\" href=\"../__pv_it/demonstrations/e3b4684c6131985a3c0f930cff0c9afe9ba7e6930/expr.ipynb\"><img src=\"data:image/png;base64,iVBORw0KGgoAAAANSUhEUgAAAhgAAABLCAMAAAAF3w5SAAAAOVBMVEX///+Dg4POzs6/v78QEBBU\n",
       "VFS6urqYmJiIiIgyMjLu7u5mZmYiIiKqqqp2dnZERETc3NzMzMwAAABTzrOzAAAAAXRSTlMAQObY\n",
       "ZgAAAAlwSFlzAAAOxAAADsQBlSsOGwAAB3VJREFUeNrtnemWqygQgJkZWWQTfP+HHWUTBUm6RyWZ\n",
       "W/WjTw6iGOqzNiGN0O/Ezk4wArlNpJ/j77ppO2u6CAH13SfrBFP8dWAY0NwjdAAYIAAGCIABAmCA\n",
       "ABgABoABYAAYAAaAAWAAGAAGgAFgABgABoABYAAYAAYIgAECYIAAGCAABgiAAWAAGAAGgAFgABhf\n",
       "BMY4nwgDMP5oMNTCgM0buCEMD/M8ABh/tivB8ywrUyRnBWA8q+WixXQFY92DVdvjJqYu02N6Dvga\n",
       "DPOOQn+lcFPOtyZdwVg3QNIaGT0iXva4nSLsJ2BUdDW1yWgr3IhxmNxEa/VpYCC2kFEbgD6jGaE1\n",
       "TxGP7sAifQGG0UwIXtGVR0qJNkpNhS/fl2B3bYk+Dgw0VcOMh0RjO8S542OPOxh5Ewy76p/iiq4C\n",
       "xe25ayscx7FreHUHgy9JiOgFxqDIFGdH0B53QEULDO7UT2SpK85ObUKW9bUVznDDIXUHA5HFmXRK\n",
       "QsjMM0g6sckbYHjti4rFUPY0imhHINlFeJj3qq3sDwbS8zzwPp4kM7Vq7APGSF+BoWQlxkjx0Hiu\n",
       "npcKn/yDEQId6zAi4+yM6NZP68Xj9gBjLYD20ArFg8RiC0PTRDBGz4L91rG3UCzO1/gcDGLNhMcU\n",
       "hjhdceZ83nK3TB5CZiW9TgnfRbZnCldYzVMWibipsCMlWGf9jCSrvzfIqMfBWMMM3eNpzUvv8ck1\n",
       "Up3WUVrH3ipbZOdHPOh4DoZef1OFSJuDoZFanB6na0K3zyjoILTEyQG9ULgbGK+XIDhzTu7zlPUb\n",
       "3NUmgRh/HIyyNP5QeSkfVIYHQuowG5wWZiwe44txxb/wfuna6+cwthqaYKwHpgwMq5BYFE5NiooE\n",
       "yaONJayw4cpthZtVr2qdgXABNxjlEaXQT/i7EiPSz7uSdfgeYYbKVTHEieAxUWSyuEu+PYNC/uJb\n",
       "8pqrPgUjZB5kzsDgniydTAGywRf5J3o5JxqMpsIRntzgNnkclv64cUO/wVOpB32893/mvx/Qkezx\n",
       "RjWPPSMYw5S57GMCEY/N5GBu3kxAak6IRIvx11yGGF5jwy5uVCteeuPmUJfTKRZoKhy5grOjMsSo\n",
       "Io0otliEB7XoMnF8Zj2G6VHlmvLXNN6V8IzPIxjbsfX5+zkY2bWXCFIdRykthj7cptfVYtV9IBic\n",
       "/iEt0eyQlFQVvtyMTQGOL4uvMe3al/sUJPSLYAyoDxhs6PByZMiN1MS2B2mZyVxl0Yhmx6K5ecv/\n",
       "leeLLTtOEUQJhu9i09QEMCZPJiHVQobeDEhL4ciBMarM5owjGy0VkuRprQ+V6RJq2B5gkD6xJynT\n",
       "Rj8R2mZg8JhMZ8eQdcWFdCh9qDSV53OOtDimyQUY3OWlRJJ9CYIsoKzpCqmXPvU2ky2FO8ui8C59\n",
       "oYtDl/pQ79Ca0sU2Cc06gGG7lD53seei6d1E5BZDpgpTOmZCJT0dkqkgkj5tH8rzt7pW0nsBhrKE\n",
       "sVwfQVcW64kxs89Jtwg3d48Nha8lldQWpj9/K/ABlU/Ehy5L+cR+JYg8Gq0txlBHj2GW6TemeqiK\n",
       "YNkpzqrZyhBzPcSo6Mpuz1HxOiT/Uu8qPLqjwX4WGGOHl2iLFR33ZoqKUzB0MZHWWv8y/K3CXNnJ\n",
       "xmBu09kPwMhqTdNBO0T/RuG+uGpn9FFgTD2Wa8mpeJOwn2OjxznYcX40aEP66W/+jq2rdIovNrPQ\n",
       "8QhGedbmBdAh8zjT57sKpz6nlR8FhpA1a3x30EFZsUiMnwHaUP5bPrDSKYYYGYxHMIg9txjbpY9r\n",
       "BabfKdxxavIRme0MBq0mqrRHNGoeCnVGEj0Jy77766V9FV0VC2bNf1b4+xnDrWDUE1X1v94/IJio\n",
       "GEnYPrCvJVRMAxf91nT1EwCjnagahfu8awUwPgiMcR5zkdLH+x2XBwMYnwCGONu7SgGMPzzGAAEw\n",
       "QAAMEAADBMAAATCeykrOD6lrR2UAxjeBcXhrxTSLr7Yu/wfAAsD4VjCIW9Vq3Ds1fvl/DCcawPhO\n",
       "MOKyGLcwUlz/H8NHDmDcBYZmtFw8UmmrSbVfBkZaje/mR14/olYAxk1gSLKtSEONtprU+2Vg4LgU\n",
       "ad3BYMbrR1QCwLgHjNXGc7stkM7aiGJt4x/PDZteKmAMMQYYl/CCTNePSCYA4x4wwh4+q7KleHFf\n",
       "37p5onWRgbyKMQaaDRf2O1w6ogUwbgJjcymbmkKbQS/MezyX7pdiZ7qahP9dB0k3JV46IriSu8AY\n",
       "/a8zRDW5n4dKbWgiqXH/J+9nzH5Vcx58DoZyZsMiWXn9iIwBGPeAYUTYRuXV5H7uLrUJn1O4RrfZ\n",
       "Mv3Z96P6LF01ArP1RyfcaH7x9KUjTgbAuLmOEQ17lv9pHovOlaQwb8LktMC1Bogi7KY4lKMuGJF/\n",
       "eojx9WBYNviSANkc/5hW45GyjLRrkqgFhplxYCDf9HHJiMIAGHdbjPhF3mzcmpg6RIDFUzymLb6a\n",
       "XzoiJQjAeAiMn4vCh8ygdWV+6YgcARifCwbI/wsMJxg0d5/IOe2S/h7h1AkB9d1oLLz0GfxfRiZn\n",
       "iPFM9sgAAAAASUVORK5CYII=\n",
       "\" style=\"display:inline;vertical-align:middle;\" /></a>"
      ],
      "text/plain": [
       "〈varphi| . alpha . [Sum_{c_{1}, c_{2}, ..., c_{j} | Q(c_{1}, c_{2}, ..., c_{j})} f(c_{1}, c_{2}, ..., c_{j})] . beta . |psi〉 . gamma . 〈varphi| . delta"
      ]
     },
     "metadata": {},
     "output_type": "display_data"
    }
   ],
   "source": [
    "qmult4"
   ]
  },
  {
   "cell_type": "code",
   "execution_count": 49,
   "metadata": {},
   "outputs": [
    {
     "data": {
      "text/html": [
       "<span style=\"font-size:20px;\"><a class=\"ProveItLink\" href=\"../__pv_it/demonstrations/209baac38918ef8b1210d5267967da66f42b39310/expr.ipynb\"><img src=\"data:image/png;base64,iVBORw0KGgoAAAANSUhEUgAAADYAAAAQBAMAAACvnpHFAAAAMFBMVEX///+YmJgyMjJmZmZERESI\n",
       "iIiqqqoQEBDu7u66uroiIiLc3NzMzMxUVFR2dnYAAAB9mGmPAAAAAXRSTlMAQObYZgAAAAlwSFlz\n",
       "AAAOxAAADsQBlSsOGwAAANhJREFUGNNjYMAGOJ4sUt3zAKsUQ2whQ/MXA6xSzJFAPSLY5Q6zNDAw\n",
       "8KLKhaxapQCib7CA7BRAlpoUAWU4bIYJvXt7AExza0AFuC+cg7J2TeCo5k4AMpg2QEV4HkyEskoZ\n",
       "GJxZG0ByMIO4DaZC3fuBgcGID8Q6vgoIHMD27YPIsQN5z1+AWC1wR3mwQOj+AAaG9yDrGLjgcpNB\n",
       "/mOYwMAPlHsOFmENQITLBSChwMDswMBozwMWUkMEgvKGtsUg7wlGMD8Fi/R6NsDjoX7xBtRwnOcF\n",
       "CTMoAAB6EDLom0lYxwAAAABJRU5ErkJggg==\n",
       "\" style=\"display:inline;vertical-align:middle;\" /></a>, <a class=\"ProveItLink\" href=\"../__pv_it/demonstrations/4827169ff5051c0ad90075d5d60d0692974558df0/expr.ipynb\"><img src=\"data:image/png;base64,iVBORw0KGgoAAAANSUhEUgAAADUAAAATBAMAAADCPVhoAAAAMFBMVEX///8QEBAyMjJERESqqqoi\n",
       "IiK6urpUVFSYmJjMzMzu7u5mZmaIiIh2dnbc3NwAAADJOHriAAAAAXRSTlMAQObYZgAAAAlwSFlz\n",
       "AAAOxAAADsQBlSsOGwAAAPZJREFUKM9jYMAG1poqnZsLZr09vQtViqewgWu/NYjFeYChHVVuTy4D\n",
       "AwdYbi0DQyqKFOcGKyBZDWIeYGDYDhE8HBqqAKTYFxgAyRUQOZYosFTSKYgSZr4NUBPY5pkrLQAx\n",
       "+LSgIs85L0BZvAwdqRNADKYHUJG5bA1wOQYOA7AczC2v2Q5AWWuAxn4AMSaGAoEB2D6YmZlAvwqA\n",
       "GIth+pjB7gQBoBrmAhCDFSbHBvYfGxADfTQR7AqeA/BwSQcSmxgYuHYwsIVBhFTg4Wm0j8sV6EeW\n",
       "aWfuQIWWmy2AxYPh130QL8BBrik4zOCAlwE3WINHLhO3FAAKQjWfO727FgAAAABJRU5ErkJggg==\n",
       "\" style=\"display:inline;vertical-align:middle;\" /></a>, <a class=\"ProveItLink\" href=\"../__pv_it/demonstrations/a96adf032fe1e70a10118c41779605949495a8190/expr.ipynb\"><img src=\"data:image/png;base64,iVBORw0KGgoAAAANSUhEUgAAADQAAAAUBAMAAAAw+gPuAAAAMFBMVEX///8yMjLMzMzc3NyIiIhU\n",
       "VFR2dnZmZmYQEBCYmJi6urru7u5EREQiIiKqqqoAAABRQ6LBAAAAAXRSTlMAQObYZgAAAAlwSFlz\n",
       "AAAOxAAADsQBlSsOGwAAANRJREFUKM9jYMACuHMuihglYJNhcO1k2P6nAJsMuxdQxxysUuo8GxgY\n",
       "WFGkfO7eFQDR0Twg+yYgySz0hjIOmEMZb/9sYFgNpJmloQLMAWoQBmd7bgCDA5DBaACVYkpYCWHY\n",
       "MDAcYlIAScEMZi5YAmEALdjCAmJo3AWCA2C7zOD2s9mByD1w/mkehBTIKgZeOH85yF8MC8BS4OBi\n",
       "cUCERgCQAHuRTQEsIofwu7jBvusQVRCBrac2wEO+/zrEK6xQkWVnIQGFBJYx4ARZuKUO4JYywC4M\n",
       "AInOLMSMX0ERAAAAAElFTkSuQmCC\n",
       "\" style=\"display:inline;vertical-align:middle;\" /></a>, <a class=\"ProveItLink\" href=\"../__pv_it/demonstrations/6f005ee107395200ff7f4bc83791582bbb4e0f640/expr.ipynb\"><img src=\"data:image/png;base64,iVBORw0KGgoAAAANSUhEUgAAADIAAAAQBAMAAACmdTG/AAAAMFBMVEX///8iIiLMzMyYmJiqqqqI\n",
       "iIju7u5UVFS6urp2dnZEREQQEBAyMjJmZmbc3NwAAADj68T8AAAAAXRSTlMAQObYZgAAAAlwSFlz\n",
       "AAAOxAAADsQBlSsOGwAAAOBJREFUGNNjYGB4e3odAwpgmyVz9NEEIGMCRxmqTPhmhtxfF4AMNHEG\n",
       "3gigeiuQTDiajC5XAgMDO0gm3wEiEiUoeABEl3GB7DIAElzfwBI9YVA9C95CGSwlv0AU3zEon69A\n",
       "E8qyYagHmsvA8wDKZ5rQDFXyj8FfASQDcwDfhVYIg30Bgz5IRlsQCBaA7XkJkeE3YNAH0VlwVy/j\n",
       "gtD5CkCbgIARLtML8g9DAwO/AsMREJ81ABEGBUDiAANnAEsBWOAIXFPU2QcpskB6aiSEn74iAR7W\n",
       "+2UfIIdX50JI6EABAMHlMfYoVzARAAAAAElFTkSuQmCC\n",
       "\" style=\"display:inline;vertical-align:middle;\" /></a>, <a class=\"ProveItLink\" href=\"../__pv_it/demonstrations/649ae346ef247b1d190476e522e54e82e6fe76a10/expr.ipynb\"><img src=\"data:image/png;base64,iVBORw0KGgoAAAANSUhEUgAAAD8AAAAWBAMAAACF0lkSAAAAMFBMVEX///+6urp2dnYiIiKqqqrc\n",
       "3NyYmJgQEBBmZmZUVFQyMjKIiIju7u5ERETMzMwAAACiJdmqAAAAAXRSTlMAQObYZgAAAAlwSFlz\n",
       "AAAOxAAADsQBlSsOGwAAAPtJREFUKM9jYMADOBgIAF4yFRz+e+sAg/p3AYQCvjuoKq4wTmDg+YBk\n",
       "AvcCVAWTA9QYGAoYeu9ev3s3AZsdUy5wBTAYYLqB+7KxFZgxNZt1ARYFjKsPQFlTOR9sQlZweieY\n",
       "ioLJM0xluMArgKSggR3skqUMCAUveGwM4CHJHcDvAKIXIClgc/AtgHN5GPxBhvMVGxsb20IVMMzh\n",
       "LEByXjNY3QUkExhO8hggKTACkwbICvg2INQzsH4EU7vhAveAeB+SArYPYIrLASawBOQBpODnhCjm\n",
       "mSsD4b/6DhTgQVLAvgEalLrQoEYFnA75B/CmmvcOJviTFccOAbzyAKKqPJPZiakyAAAAAElFTkSu\n",
       "QmCC\n",
       "\" style=\"display:inline;vertical-align:middle;\" /></a>, <a class=\"ProveItLink\" href=\"../../../../logic/sets/cartesian_products/__pv_it/theorems/79a768603778550c651661670153c27ee0a505870/expr.ipynb\"><img src=\"data:image/png;base64,iVBORw0KGgoAAAANSUhEUgAAAEYAAAATBAMAAADfQ2bzAAAAMFBMVEX///8yMjJmZmYiIiIQEBCq\n",
       "qqqYmJjMzMxERER2dnbc3Nzu7u5UVFSIiIi6uroAAACibcT0AAAAAXRSTlMAQObYZgAAAAlwSFlz\n",
       "AAAOxAAADsQBlSsOGwAAAQ9JREFUKM9jYCAAFBgIgwZK1HDbd0gzcPr74TWHI+ANA8N+/HbxWHEm\n",
       "MLAwMHV0eHS04VITwSDFwIzdHN5mY0OwmmUXFuJQwye7AWrOguO8E+Bq+O7smtvLPrMPLLVwA8yu\n",
       "BRwMfXA1nBxnGfbnMYSApaTg7lnArrB5Myyc3zE3MKy/wJAPlhJAqGFIZW2B8Tbsf8AQv4FBEcRm\n",
       "dzY2NraAquHZcATuzngGkAJPcPA2IJnDfWAzXM1BBgZLBr5f3CC2AZIahloOuBpPBu5/DDwCy0Ds\n",
       "u/C4KACGVQWMx/Wdge0DA8eECSAOYwBUFMxQhAebAQOvAgOf7gKwg068Bguyy3sAyY3Y44lvBiQu\n",
       "UAAA9FQ8d6roA+kAAAAASUVORK5CYII=\n",
       "\" style=\"display:inline;vertical-align:middle;\" /></a>, <a class=\"ProveItLink\" href=\"../../../../numbers/number_sets/natural_numbers/__pv_it/theorems/132c57ec1224a4beaf274a23bd799047020206590/expr.ipynb\"><img src=\"data:image/png;base64,iVBORw0KGgoAAAANSUhEUgAAAEEAAAATBAMAAAA9n32KAAAAMFBMVEX///9mZmYQEBCYmJgyMjKq\n",
       "qqrMzMwiIiJERER2dnbc3Nzu7u5UVFSIiIi6uroAAAA6K1lcAAAAAXRSTlMAQObYZgAAAAlwSFlz\n",
       "AAAOxAAADsQBlSsOGwAAAPlJREFUKM9jYMAHGBkIAQ6yVWz/0bKBYdKnB3jMaOU7wMD9AZ8txxdM\n",
       "ZmBQYJDoaOroMMCq4mgDywKGAmxm3CgvdwDRp2y5HLCqeHIbyjjFk3AToYLvzq65vWBxLm+Y0lMM\n",
       "DRwP4Co4Oc4y7F8AYrEsQKhI5K4ugIXpO/YGhvUJYBUMCBXMAREKMN6G/Q8Y4jeAWEnlQNAAUcFw\n",
       "mgeugiGegeEImLEDyQyGPdwFcC5Q+jM3iMGOrILtQgOcq8nA+psTxOC9ABNqA+JrcBVc3xh4HczA\n",
       "TFeYGIjB6ADj8RUwcB8OADP39IFdzJDyCaif2wFbfLxsL8cUBwB3/0NP0Yie0QAAAABJRU5ErkJg\n",
       "gg==\n",
       "\" style=\"display:inline;vertical-align:middle;\" /></a>, <a class=\"ProveItLink\" href=\"../__pv_it/demonstrations/b9ff765654f5a9fab1a0f971ffbd46ba878d2ac30/expr.ipynb\"><img src=\"data:image/png;base64,iVBORw0KGgoAAAANSUhEUgAAAFAAAAAVBAMAAAAjqnRBAAAAMFBMVEX///9UVFREREQyMjIQEBAi\n",
       "IiKYmJhmZmaqqqru7u7MzMyIiIi6urp2dnbc3NwAAACKehgKAAAAAXRSTlMAQObYZgAAAAlwSFlz\n",
       "AAAOxAAADsQBlSsOGwAAAYNJREFUKM+Fkj1Iw0AUx/9NP9LkTMwqInRxEEW6qQilk4OLBQldQze3\n",
       "oODk0E0QxOiggksFQUGEtg5SEREsOqgQnBw6RBc/QBQ3N+/OSxpDqQ9eLu/d79579+7BgxAVnSW1\n",
       "eFgjpQpavkOqRBHlfnbyzd1sWgmDGAIkQNqOgrUpbH3Zr8forciuADWqhQgnn7lAyUY/9pAsC3CH\n",
       "6kME3JccIGZjGnV8qAJcofokgLppZtnaJ7E6Lf2TxizJAqRJEP9twGVDHMg886XHQA6PDQoqJxZc\n",
       "UkCa0dAnBKcbR38qaUFL5xWLfIvbxP3Gqu5VBDyQCykPeWCJg/6Gbt9EQCdRpd2hXdxl9p5JJcNr\n",
       "fI+AWHM0KFVgldkbwc6QFAUX8AJCe5ZjdjLYuWZ9xEUInMccbmlRPCGptl/GoJ9sCGx6booe1Mrc\n",
       "MR6ErI9528VwanVg+LyddH3ECaZnpuiFQag81rLw3A2a2Q5zyUDCY4yiq7TEkEHJ/g8Sfl2rO3jq\n",
       "/8S6cz9QhmJCgLC/+QAAAABJRU5ErkJggg==\n",
       "\" style=\"display:inline;vertical-align:middle;\" /></a>, <a class=\"ProveItLink\" href=\"../__pv_it/demonstrations/55701387f25fde525e21ebc18286978696667feb0/expr.ipynb\"><img src=\"data:image/png;base64,iVBORw0KGgoAAAANSUhEUgAAAEwAAAAVBAMAAAAeOBUnAAAAMFBMVEX///8QEBAiIiKqqqpUVFSY\n",
       "mJhmZmbu7u5EREQyMjLMzMyIiIi6urp2dnbc3NwAAADC3l7hAAAAAXRSTlMAQObYZgAAAAlwSFlz\n",
       "AAAOxAAADsQBlSsOGwAAAWlJREFUKM9jeMAABVwM2AFr6uptDAx3YFyOBegK2G9ozn51ofRgAOMD\n",
       "hDLmBHRlW0QZyn4kPN/JwF+AUMaggKaKbc8FBoaIBAZvhoNIljJcRlO2jKOAgYElgUGKIY0LSdkL\n",
       "KL1DSWkCiHbnALkvgO8Dg5YVkjJOiKdPbofyG56BKR4Hhr0BIGWrgHI/ChiYL4BE+aZDVfE5rEVy\n",
       "AVBZAgPX1CMXoH7ghAUk14WjKMqYFzCwAK1gYMgBK4NJ8CWcRlHGy8AQDjKSYQmIv1AJCBrAbnuL\n",
       "ooybgWEDA/sGBgZbEL8CLtPOgaKMjYFnAQMbMIzmgfhMcJljoHBjOABXFsDGwO4FdAzYKu4NiFhw\n",
       "ABIT4D6duXNpElATrwFYYDLcuB3THhSrIQKEVf/TBYR1JT0F8BQir/YAoYwhFcwyg4qcbVKagJHq\n",
       "QMqkwKw+BjwAqIzrA9iKCQSUcYNjiTsAn7JdwJAAJ28WfKoAVZ9dUa6eI4EAAAAASUVORK5CYII=\n",
       "\" style=\"display:inline;vertical-align:middle;\" /></a>, <a class=\"ProveItLink\" href=\"../__pv_it/demonstrations/af3c2902573b75ab19a42e7920623b865c28bcde0/expr.ipynb\"><img src=\"data:image/png;base64,iVBORw0KGgoAAAANSUhEUgAAAcgAAAAZBAMAAABHmqPnAAAAMFBMVEX///+IiIgiIiIQEBB2dnbu\n",
       "7u5ERETMzMzc3NwyMjK6urpmZmaYmJiqqqpUVFQAAAB6qHgnAAAAAXRSTlMAQObYZgAAAAlwSFlz\n",
       "AAAOxAAADsQBlSsOGwAABUVJREFUWMPFWGtoHFUU/vYxO7M7u5tdLYqmBAmmtQ1KWioJktq1SkGk\n",
       "YYq1UKxmVaqCIqkp+qOoA2q1FMzmR0uhRSOh8UfVruKjasAp2Igt6KIWEbXdaFrwSYTGaCHEc+/M\n",
       "3LmTfWQScTswd86cc8+de95nLtDo62SDv1dE46/U///RnYBuirfdl0DIrfKLuchFtBr45OiOZiCU\n",
       "wyhw6tNseelDhMs0XshHJThUWuQiiYqNKxtWDL6Q2zZsRUhx2WgGyslu3IwWIrUBZTbl+4bJqHXw\n",
       "h36bQePXwJbV8k4fuKYus0dfOpfU0o27/yo+fxWaaOHoIH1oUwHTeIeRgA/ZlAMNE1LP8UdPPxlR\n",
       "KRB0UKbG5wlYQY8bc5a9mtYdK2Icw7CFRDqjduB6AnoNPM3Um2+YkE1D/LF2hHapWwTN+Kjz+K+g\n",
       "J+doY1eM1ksX0YmPVGAJWznSF8prk32kEIvrJFpqmJDPcBMkptgYEZB7HTXqc3v0G52ovr91BXue\n",
       "izFvtrRJLP/GSTwDZMtknpSh55EkoeONyzuX8THKY+tbAbnX+nm4PfohOwENOlLn99rvZSyxWAlJ\n",
       "m3gTcVMbJ3qI0sDq1tY1jRPyZ+5sP93A3I1lhfh4i+RGL2d/r8vt0Xv4uMeRUSvvrJOKyVneB7Yv\n",
       "toFIBSx0XsZ/0I6tjGuN3n3K3172/MforbeiQ6c4w2eQE6aae702lzoNvER6gLpfoPZXmSbhnBwV\n",
       "uqXZZC1aMEbdswUfB9g+eeo7a2AVthUcnU0hktncc65mt8TowHICv+KIgluYiq/WqVoXgZgRpYw3\n",
       "IXATVeZNzBUycQBaF5RyQMZEzkW08/EsH2+i+wPggpp1AlMvoClXxNs16w+jOwmM65BCrXUZ39Vz\n",
       "dexPQqYyLO90ClxnlXmdc4X8ku73oA8FZdznt+R6IeS1SMwg5QgZzuFo6aJj5yoXp9vgMN++KH3b\n",
       "Y3UsOc1sfpx08meLE8MeJHmdhMsLvi8QDsy40S/kY3DddQb6lBCSyuDHxonaQnK60lxytAyI1HyE\n",
       "1UkMVY9JFvQbSc2htpCTUTxI6jElHBcyzYLhVuwJzPidiznPx1V8vI/uadxpcSEVJkSf0m3bubJe\n",
       "CrqeYh8f48is1/GUuTfXyq54lugxK1nQeJJl0BvNfp0wHHTDEzKS40YZCcw44mIud1OBUwZ+wyPg\n",
       "QvbSDtNWjHSitlEahY3hg3jj9LuibvmhAiTKzxUHzXvaa/yasHY53cd6IL38VBvfP0EdyqRvGsP5\n",
       "LBmxuBecCcz4hK9nSdmzHqf73jssW8gwLaJMjLIfQJrSSneYCcMHtnuPHmfd4ErbvOcPi7+Qde01\n",
       "qo/YexMiJbS5kKl2+GOBcMlTkpCxYsIIW2zrARmFu0aGvM+G3djjMXlalAPNRKrSX0+LRUkYzYnG\n",
       "xAa7ravb1Vtu3jLG+I/XZhuKDUHJ0QsfbNyLW+XE03XiSirl4cCMWfkv5IzjZaLL5kK6VWb3k7sM\n",
       "RCv3KqpQP5zePuDV6ypMfSvD99pf4hB1Qepa9JtqFw0O7hO5hOwd/8MwETODMj4sUh2Zepl7OuBg\n",
       "tdsv0E+u2xWtm50FNlUmHtE1tSzwTONz3xvzOq7jqEErpgTe1vsvvo4HR+irbo2fl9EraKDm8/gx\n",
       "B94iJ+IafWAl/ZCstADXdfLLjjUlJLhpX5kl/zksUrAh1yR3uwM/EvpYQEbpXEk+49EWcfwSf418\n",
       "IbSAw6HKM56kB1o+XOiHol/I+EpuuWCM0jFkKvcfjxaajYUxLMCzU79WPWAzgjEal/Dc9V3gX6bx\n",
       "drj/oF3ZAAAAAElFTkSuQmCC\n",
       "\" style=\"display:inline;vertical-align:middle;\" /></a> <a class=\"ProveItLink\" href=\"../__pv_it/demonstrations/1b1357b8354b3de4697c676c7c5da1f5acc30fb50/proof.ipynb\" style=\"text-decoration: none\">&nbsp;&#x22A2;&nbsp;&nbsp;</a><a class=\"ProveItLink\" href=\"../__pv_it/demonstrations/f25727a2c9611ab4961feb51f1ce96e6f9faddb80/expr.ipynb\"><img src=\"data:image/png;base64,iVBORw0KGgoAAAANSUhEUgAABHgAAABMBAMAAADkeB3YAAAAMFBMVEX////c3Nx2dnZERESIiIgi\n",
       "IiLMzMyYmJju7u4QEBCqqqpUVFRmZma6uroyMjIAAADVePneAAAAAXRSTlMAQObYZgAAAAlwSFlz\n",
       "AAAOxAAADsQBlSsOGwAADuVJREFUeNrtnQ+MHFUdx387t39m92b3FhCRptoNFkGQdBuRNFHDQgot\n",
       "0HgbEvAkNrdGwBQit2pxUfpn1ItI0N4WUJBAuhprrFS7QSUo6C2t2MYGb0UgIModiVhQ6V2v/44r\n",
       "3Pj+zd+dmZ2dGeJufb+kd7M3783+ft/3mfd33hQA2xvgYnFFUerQSxZDHgfIfrrsdGZEUU4AN2zD\n",
       "ijJDDiRXNuKzlUqzpwJLVCrjAbILjnKMnFPZyLkhVqncTuHZIbvCc6gHY9scJPN9jvBkOTX6LUrg\n",
       "Ee8DDo/RJrMcHq/w9E9xeEzWn+fweIVnpMnhMVlknsPjFZ6DwOEx20c4PB7hSb3N4bFCUuDweIMn\n",
       "U+TwWKyvyuHxBo/TbfZ/DE9qnsPjDZ5xmcNjtQUOjyd4xMPA4bHaeInD4wWexDyHp8UmcxweL/D0\n",
       "zXF4WmygyuHxAs9YkcPTOtw6xuHxAs/mHIenxaKzHB4v8Iw3OTytMS9weLzAsw04PK2myBye9vCI\n",
       "Rzk8Njbd5PC0hyd1mMNjYxMFDk97eKRZDo9d/jyHpz08mXkOjx0mVQ5Pe3iSxzg8NjY2w+FpD8/A\n",
       "XLjwZBSDFXoWnoFjweGZNihx5KSEZ8lMuPCkFCb71579tVLtWXhi88Hh2aWUyG/xvVdte/OkhGdX\n",
       "MVx4YFwf+98637PwZI4Eh6df0bRNDNdORngGp0KGJ2bYXrqnZ+Hpnw2hzzOsby+V8icjPMvUqErq\n",
       "H7PB4Ikrx3XJ/HcwI34zZu3h0TyJW/21/UbpRAjwjChl7fhJv7E4lov7nz3qZCd4yXKmxYOICs84\n",
       "qyci2q1xQcDR1qCi+1X2Dc+VfjM+aw+PFlWfRZvT1AOBTCovfn05+bAQAjxRRZcu4SOUaM2tXPQ0\n",
       "AXTSTdDm1C+yUGX2AAmULjB4Lm6wvLWw4OlTihDEdp+L+905v9mjZQs8p67Zp0UVRVdumNOfZ1Yv\n",
       "l36MfDgaxlD94qOBlPiha7kQnUiaADrpAjF4EBc7LVSZPcACrWLwTDMtYxAWPOK2t4IoJjz6APq5\n",
       "xf8FXjPDEy/A7VpUAvpnQbtohucxJu2bYcBzp9IIoIQ45VYuVCdxKphOukAMnpzxK+3IwAJlZArP\n",
       "MLvFd4YGD0wqQYYWyZ+tQD/3+r/ABjM8Xwd4Totq1FjV0KmFhhmeq1gro4QBT1oJMt6Uym7lQnWS\n",
       "ysF00gWi4YsFY1VjRwYWKNGg8GzLWRu6wPAIyv0BJJvEVEOAGaKkbIIHqbFfi+rHxk6OpQtE1Rur\n",
       "hQgPLHtTDhCIa7lQnZIBddIFouGnSsZOjh0ZRKD7GTwFvYoMCR6YXggAz9kkBv+1MWTKFnhSQ1pU\n",
       "+E7JmAjYYukxske6U+HAk1ECBPJz13I5W0sTRCddIBo+btfhlZbG0+ABEegAg6esdZ9uBHj5sEyT\n",
       "CGc96h+eOxXf3V24/btP4NqYXGDpKsPISFj5Zff6Tj1P3s2kwZP+zEcPyiRwcU0ZctEi64tvR5G+\n",
       "gH6jvl+8BOnpFVS91G8OhwmPuG3Wf+nudisXqhNJ05lOWmr2DitVIBT+6F4Ez2WsE64KZPGACnQ+\n",
       "hYdNReBeUQPiB17KkSSRtXBndpFfeLQlCj92RLsrTq8ZptYi17lPOdLzeNImMWWER4DKcyUCj5Cq\n",
       "iuXoHO0iJx48u44rbPxBArhl4yMUnk1sD2SawSNdQ6zuEx5ticKPHXAtlyNamo50YqlLTCddIBR+\n",
       "bgfcAYMy+VJNIIsHVKBNDB7axr9Emrt+gDxJkixAX2O1X3hgwn9THyHcxbBXVyM3xE1qnz8H94pn\n",
       "Pe54XXwe/UQypKpmeCCRJ/DcJBUTWdyZepp2fC5CNQ6k66QjVIc+Ak/kEOwq0alOOYyaB6QA/b/r\n",
       "3MqF6kTSdKQTSQ1wLdNJF0hoxmtPwRdwL0pq6gJZPGAC7aDwVOjXPE2uchuGDDs5ga4wxdoe8baO\n",
       "w475X09PkYXaJHJfwo3r9ZepPMq4ipAcp5AmNLni+ApnqJ/Q+Co9Q+CRkwUBxwc3o4+oAEajQHXK\n",
       "QUJG18bw9OdhhMAjVuy+5I7O74lh/+vpD7mVC9UJp+lMJ2nOpJMukNAU0e2Xw/VwvK4LZPGACTSC\n",
       "8S2DQof3q8gEWgEP1bCT96Acd8u+a56I/8kxoajCkyR18Xb2d+QRDDQjju3hPfr42FTzPI8Cq9LO\n",
       "3i5ZIENRNq8mLGItegGHPkrgGSgTXcKreWBJMRA8juVCdcJpOtMpmTfppAuEwk/NIXhGtRlaIpDF\n",
       "AybQi6ZmawvmNV0CiXSLRHS7CPO+O8wQ3epbsb662myNFQyiYI9QBeEoCjkPo3/E92TRCE+OXRJF\n",
       "9SdYBFFZG0wIBTaWaGAB9xF4xkqwyQRP0D4PXJEN1Gw5lgvVCafpSCeaWlxTYzrpAqHwpalIDVc5\n",
       "bDxKBLJ4wATaboKnLwtSWQLxUTogw05W/cMz6b+XmCQe9xUI5NAkbuJyPI5uFXK/ia15tPMNPHIl\n",
       "LbgGD4JjXZbCswdVvn/XpzEEcn8txxOSDbirRGueEvyLwRPKaAvSAYYOF7qVC9UJp+lMJ5JawlMh\n",
       "ibxJIAxPPiGnm9pMGBXI7AET6EumoTquqQ5+4nNPNamTqMO+YabkF554gHnVJU11GIkGBUIJiyIu\n",
       "UI8+AHCDDGN4kIB/kD9rB/i8KH9IHear8Ih7Ib2WzVG8mM0lmvoEqkDiQ21Y5h//3LCWTnQIhRQb\n",
       "wIYEz0iAyfbz3cqF6oTTdKYTSf0toaFOh2gCofDTWwXYqM/BU4HMHjCBdpvgwUPWxPDRHJsKEs5Z\n",
       "L+8u+J7nKfhXbBf9TlylnlVZTSvIa2TqEURWoBYNz2jF8Pz4p9UD7Twd3TYN8KQ+v3KpOsEVf+TC\n",
       "S0Bfq5G0OYpblavVWbKll0KY8Ij3BpguvcGtXHbpaTrSiabGUyGxpkkgHP7N71+ZBW25T7Ijgwq0\n",
       "lsIzzODBtO0NaYb5PwEU209/Xat+xqKk1M7rYjgF4CetIzStc4tdPR0M8AjG2dF4zbhW008T1NQF\n",
       "IsG4zy8keDKNAFLgeQfHctlvSNO5TgNZppMuEAn/JpKsYRTIzoNIkcIzzWoJ3M59Lxx4+vw/NZeq\n",
       "0y6HtmpHRFEDjFx04z66xGAZoWmuVtVAbeGJyqyXQ+wZek3kbLLUAk8qlFV1+HAAdujyo325aDol\n",
       "Gn50gnUaEGZ4VrNejkEgOw/I3Yaf52HfkZHVgX9geJ7SR7mdtvixFWwlRQ3g1OmldC2cdBLxf5Yh\n",
       "traJo9oor672hzdbT12gCqWt1bA4XwM2OjfBkwjleR5pSC9uH/QsdywXTSf1VuhMJ7w0zsYNoyZ4\n",
       "cmx8ZfxCGw9Ijxo/ScjQTRQgWgwFnoQ+Tk90Ck9iDSse0Vh7mWSItubSzuOmnGK3WZ/mMdQ8AIaH\n",
       "oNg3rAe4rBWeaBhPEsJX9PRf9QHPNxzLRdOJpOlYJ9w3ZLfn8yZ4CmxmxyiQjQfLGTwT6uPqdYjQ\n",
       "9vPygPAYxuk7/NfZ7/KR5w1cG18CRng006LqVw+y2ud3U7WN8wvC4RDgMYzTU36eMYkU3MrFkKbT\n",
       "ntjzVVUnA2xa+HWzQK0eRLMMnmVtOygdwmN49/63Az1S2Ln9fp92GHT3hPRWCPAs0SpecaIB3WPS\n",
       "GjmEqyB4Nk+FDI82To88HGRxPaAFhacvhH1b+jh90XiAxfVuNQTPZDVkeKYPEnv1U4oS8En4/yU8\n",
       "mRB2jGYWqBTXbFOUo3AywhP2dmPJuFe93LPwJEPYqz5hUOL4SQnPwKFw4ekSC/yig7lQ5nlOZkPw\n",
       "xN7m8Nj1dfn7eTzA03+cw2M33zDF4WkPT/QtDo+NDeY4PO3hSS9weGxsvMbhaQ+PqHB4bGxY5vC0\n",
       "hweGs+HC0zB++IHHTIUug0e0f5NXZ/CYlEh5zBrtKXiWlcOFhy13XLrySXT9psdMUpfBkzoRAjxM\n",
       "iehSvIq50Rdy3Q7PZP2dgOflLJyZhbu8Zkrnugue/vnQ4Em/ApGtINa95nqml+BJzrwD8OAn86U8\n",
       "2V7nzV7rLngcRPEDD35Kaw/ZH+bNMnIPwSMd8wTP0vXqZ/1IN2FVwSTZkhK5eNFzxvO6C56RujM8\n",
       "eqyGqB2VIJtgNpNHpd0zqvIItR6CJz3rBZ5Ycx37qB8ZbG28apLsd1iFamTKc8ad3QXPYM0ZHj1W\n",
       "Q9SOSvQjDeCD8L62GVV5Uo0egge+7wWePfBNOI1UqOgo/SNLeyTlRbIrTJPsblz/1tN5zxn/0l3w\n",
       "vA6O8GCX8e4EevTXNU13JZK4N/dvHJ97RiIU7EM3c76X4BlseoDnIfR7O9EEb3CFMUsXoWlp6e8j\n",
       "SuMtPh4zfrar4InPOsODXb5pSHW+Ks64K5EsEwUfbpeRbC4m391T8AzUPcBDmi7CwCH8KlVLA4R3\n",
       "ciQ2GCT7GLwAnyQ6eMzYXc1W/5wzPNhlGFKdz1oaoBYl+hppOVbGN4d7RiJUpdFrzZYw5wGeN0DA\n",
       "DIg5cgQfx6+yQx/Yj0wTcqdsMUh25hmjt5TJfjGPGVd2FTxjdWd4sMuYAeo89DUN4dgoEdl62+UH\n",
       "yN5Ct4xUnsh7UAcpWugleMRZD/AsrqzGDMQfIEcSGkytq8W3wros/lGL7F0vwxeNku2/6rEIecre\n",
       "Y8blXQXPYNYZHuLyEKjO/wFwbDScrI0SsPiXj8tZvFfBLSOTJ5HTNx31Bjz4XVCe5nlw60O3H52L\n",
       "J9H1AQk9+q1RMkg3RrUJr/YZxXxXwfMggPs8z5DqvCAXjHuy7JSAv4kFbRbUKSM96m+a99L0ADyx\n",
       "nCd44lecB+QtdZDBj+SmNeTYUdEkWeTEkPrfB3jIKGW7CZ7oXBt4rr+7xpyfxs9pv+CqBCz5laz+\n",
       "9wFOGdkRng16srfgSR3yVvNg0xfCEuaj6E8bZslexeOOcz1m3AjdBM9YuV3NYwpDj81eicxaUtO4\n",
       "ZaRHV+7sYDmwS+Bp8wZEb8sTqSfYgakOET1mlLsKnl+AB3g6VMJLiA83PCnWXfDEysHh6TILAk/6\n",
       "/kDw/L8Ygyfu+sbOuKIo9Z4KK4Y8DpLdseUYUZQTnBpiw/hlCsT+7JZMrFQqzd66J5DHAbJ/x/HM\n",
       "HZXKRs4NMSRx+b8+EUs1XprwyQAAAABJRU5ErkJggg==\n",
       "\" style=\"display:inline;vertical-align:middle;\" /></a></span>"
      ],
      "text/plain": [
       "{alpha in Complex, beta in Complex, gamma in Complex, delta in Complex, j in NaturalPos, m in NaturalPos, n in NaturalPos, |psi〉 in Complex^{m}, |varphi〉 in Complex^{n}, forall_{b_{1}, b_{2}, ..., b_{j} | Q(b_{1}, b_{2}, ..., b_{j})} (f(b_{1}, b_{2}, ..., b_{j}) in Complex^{n x m})} |- (〈varphi| . alpha . [Sum_{c_{1}, c_{2}, ..., c_{j} | Q(c_{1}, c_{2}, ..., c_{j})} f(c_{1}, c_{2}, ..., c_{j})] . beta . |psi〉 . gamma . 〈varphi| . delta) = [Sum_{c_{1}, c_{2}, ..., c_{j} | Q(c_{1}, c_{2}, ..., c_{j})} (〈varphi| . alpha . f(c_{1}, c_{2}, ..., c_{j}) . beta . |psi〉 . gamma . 〈varphi| . delta)]"
      ]
     },
     "metadata": {},
     "output_type": "display_data"
    }
   ],
   "source": [
    "qmult4.distribution(2)"
   ]
  },
  {
   "cell_type": "code",
   "execution_count": 50,
   "metadata": {},
   "outputs": [
    {
     "data": {
      "text/html": [
       "<a class=\"ProveItLink\" href=\"../__pv_it/demonstrations/19f2762fb3a49433095cbe8e1577b9c4cbe0f9300/expr.ipynb\"><img src=\"data:image/png;base64,iVBORw0KGgoAAAANSUhEUgAAALwAAAAVBAMAAAAOdJm+AAAAMFBMVEX///+YmJgyMjJmZmZERESI\n",
       "iIiqqqoQEBDu7u66uroiIiLc3NzMzMxUVFR2dnYAAAB9mGmPAAAAAXRSTlMAQObYZgAAAAlwSFlz\n",
       "AAAOxAAADsQBlSsOGwAAAypJREFUOMuFlU1ME1EQgKdsd7tLl7aIB40xFK4m2upFSdAmeENTUCHE\n",
       "mLCJJiQelIMmRjxUkl61ejEhmJB4QBoSe4CLB4IXjVFiD9yUpAcRPYBiqlEUcGbee+3+EJxm3s52\n",
       "Xr83b968KcCuEsWPkvmd3C4pKcOWnmhgetL3RT/ECso+E8T3u1++KCOMgVg9Qj3S8E08584f56dR\n",
       "UXiceTlARzfo2erS6fcevJHCoVeqW64LvN0DB9kYBYVHUGMAP0pDHHfc6rjxMEGR5oS6pfMPP+4B\n",
       "jLGRVngTo485cpaVkEaahnfo0oY9+E+ooZRQl8Tm/qpMdLIxrPAGpjOaUZtXOSUoDFKm1z34GRpu\n",
       "Sa3LrP5T4o2nzEkqfIyGQz68wYWQpZLY8uAbqIjapK6tqpJLGeu8+Tdn2zlrWoXx+TTiLwJc8+HJ\n",
       "DVClw9oU+LcAD6s5PnJYFfq8YI5EOa2WY2+JUJvHeMWGBOMrQ3AXBnO1s1V4coP9gxIto0+B3fa4\n",
       "Is52j9CbAF26CBaimzITIc5zo0N42+mAAxBBf8GLJzfodFxNvxmPJ9QEgD89ga9DrBrW4lFOLVw4\n",
       "1kk7hTxuhCs0UiC8iRFUcG2wyxRDsTh5u1gsSzeEaWZcVA5i9tEWYIEqijWCi618VsW3QcY4xjRc\n",
       "x4PxC/F5cYvc0TM+TvtsTTBep6ogDJ3SI9b7+PbVEbkBmJRXKFyuJwe0JJ7NgCwIf3Ko7M0b4tZq\n",
       "YM2DlhM1dpU1ju4Vnv0A9QgZWG+vmBTuEfhMKGcVZDm78OTmsg8nJT6hgflB3pC9rFoGQqe4x1E+\n",
       "sog102BNiWtWZrw1EoP98jK68eSmgKwnqqW1n3vRUZD3+6TQteYBbRmh2e85uLJ9GH/9um9ZdtYJ\n",
       "ca0WPvaVZCtx48m9uL202FVS+NCzDTofruApqX6J1c1peWtf1hqhpylMg78hcxfi3hqdELobvkXi\n",
       "BzjVJX9Lawng77DVTYWSEBqQfN1EIuMrtfbrkdqCCm/zdTGTsq3N7PQHOF43zYzAczZ6AzPNjA+v\n",
       "czb0hNxBN/xHZkGv/cWWd3K75BImmyc30RIl1n8cY9Ht5WDTSQAAAABJRU5ErkJggg==\n",
       "\" style=\"display:inline;vertical-align:middle;\" /></a>"
      ],
      "text/plain": [
       "alpha . A . beta . (|psi〉 + (D . |varphi〉))"
      ]
     },
     "metadata": {},
     "output_type": "display_data"
    }
   ],
   "source": [
    "qmult5"
   ]
  },
  {
   "cell_type": "code",
   "execution_count": 51,
   "metadata": {},
   "outputs": [
    {
     "data": {
      "text/html": [
       "<span style=\"font-size:20px;\"><a class=\"ProveItLink\" href=\"../__pv_it/demonstrations/209baac38918ef8b1210d5267967da66f42b39310/expr.ipynb\"><img src=\"data:image/png;base64,iVBORw0KGgoAAAANSUhEUgAAADYAAAAQBAMAAACvnpHFAAAAMFBMVEX///+YmJgyMjJmZmZERESI\n",
       "iIiqqqoQEBDu7u66uroiIiLc3NzMzMxUVFR2dnYAAAB9mGmPAAAAAXRSTlMAQObYZgAAAAlwSFlz\n",
       "AAAOxAAADsQBlSsOGwAAANhJREFUGNNjYMAGOJ4sUt3zAKsUQ2whQ/MXA6xSzJFAPSLY5Q6zNDAw\n",
       "8KLKhaxapQCib7CA7BRAlpoUAWU4bIYJvXt7AExza0AFuC+cg7J2TeCo5k4AMpg2QEV4HkyEskoZ\n",
       "GJxZG0ByMIO4DaZC3fuBgcGID8Q6vgoIHMD27YPIsQN5z1+AWC1wR3mwQOj+AAaG9yDrGLjgcpNB\n",
       "/mOYwMAPlHsOFmENQITLBSChwMDswMBozwMWUkMEgvKGtsUg7wlGMD8Fi/R6NsDjoX7xBtRwnOcF\n",
       "CTMoAAB6EDLom0lYxwAAAABJRU5ErkJggg==\n",
       "\" style=\"display:inline;vertical-align:middle;\" /></a>, <a class=\"ProveItLink\" href=\"../__pv_it/demonstrations/4827169ff5051c0ad90075d5d60d0692974558df0/expr.ipynb\"><img src=\"data:image/png;base64,iVBORw0KGgoAAAANSUhEUgAAADUAAAATBAMAAADCPVhoAAAAMFBMVEX///8QEBAyMjJERESqqqoi\n",
       "IiK6urpUVFSYmJjMzMzu7u5mZmaIiIh2dnbc3NwAAADJOHriAAAAAXRSTlMAQObYZgAAAAlwSFlz\n",
       "AAAOxAAADsQBlSsOGwAAAPZJREFUKM9jYMAG1poqnZsLZr09vQtViqewgWu/NYjFeYChHVVuTy4D\n",
       "AwdYbi0DQyqKFOcGKyBZDWIeYGDYDhE8HBqqAKTYFxgAyRUQOZYosFTSKYgSZr4NUBPY5pkrLQAx\n",
       "+LSgIs85L0BZvAwdqRNADKYHUJG5bA1wOQYOA7AczC2v2Q5AWWuAxn4AMSaGAoEB2D6YmZlAvwqA\n",
       "GIth+pjB7gQBoBrmAhCDFSbHBvYfGxADfTQR7AqeA/BwSQcSmxgYuHYwsIVBhFTg4Wm0j8sV6EeW\n",
       "aWfuQIWWmy2AxYPh130QL8BBrik4zOCAlwE3WINHLhO3FAAKQjWfO727FgAAAABJRU5ErkJggg==\n",
       "\" style=\"display:inline;vertical-align:middle;\" /></a>, <a class=\"ProveItLink\" href=\"../../../../logic/sets/cartesian_products/__pv_it/theorems/79a768603778550c651661670153c27ee0a505870/expr.ipynb\"><img src=\"data:image/png;base64,iVBORw0KGgoAAAANSUhEUgAAAEYAAAATBAMAAADfQ2bzAAAAMFBMVEX///8yMjJmZmYiIiIQEBCq\n",
       "qqqYmJjMzMxERER2dnbc3Nzu7u5UVFSIiIi6uroAAACibcT0AAAAAXRSTlMAQObYZgAAAAlwSFlz\n",
       "AAAOxAAADsQBlSsOGwAAAQ9JREFUKM9jYCAAFBgIgwZK1HDbd0gzcPr74TWHI+ANA8N+/HbxWHEm\n",
       "MLAwMHV0eHS04VITwSDFwIzdHN5mY0OwmmUXFuJQwye7AWrOguO8E+Bq+O7smtvLPrMPLLVwA8yu\n",
       "BRwMfXA1nBxnGfbnMYSApaTg7lnArrB5Myyc3zE3MKy/wJAPlhJAqGFIZW2B8Tbsf8AQv4FBEcRm\n",
       "dzY2NraAquHZcATuzngGkAJPcPA2IJnDfWAzXM1BBgZLBr5f3CC2AZIahloOuBpPBu5/DDwCy0Ds\n",
       "u/C4KACGVQWMx/Wdge0DA8eECSAOYwBUFMxQhAebAQOvAgOf7gKwg068Bguyy3sAyY3Y44lvBiQu\n",
       "UAAA9FQ8d6roA+kAAAAASUVORK5CYII=\n",
       "\" style=\"display:inline;vertical-align:middle;\" /></a>, <a class=\"ProveItLink\" href=\"../../../../numbers/number_sets/natural_numbers/__pv_it/theorems/132c57ec1224a4beaf274a23bd799047020206590/expr.ipynb\"><img src=\"data:image/png;base64,iVBORw0KGgoAAAANSUhEUgAAAEEAAAATBAMAAAA9n32KAAAAMFBMVEX///9mZmYQEBCYmJgyMjKq\n",
       "qqrMzMwiIiJERER2dnbc3Nzu7u5UVFSIiIi6uroAAAA6K1lcAAAAAXRSTlMAQObYZgAAAAlwSFlz\n",
       "AAAOxAAADsQBlSsOGwAAAPlJREFUKM9jYMAHGBkIAQ6yVWz/0bKBYdKnB3jMaOU7wMD9AZ8txxdM\n",
       "ZmBQYJDoaOroMMCq4mgDywKGAmxm3CgvdwDRp2y5HLCqeHIbyjjFk3AToYLvzq65vWBxLm+Y0lMM\n",
       "DRwP4Co4Oc4y7F8AYrEsQKhI5K4ugIXpO/YGhvUJYBUMCBXMAREKMN6G/Q8Y4jeAWEnlQNAAUcFw\n",
       "mgeugiGegeEImLEDyQyGPdwFcC5Q+jM3iMGOrILtQgOcq8nA+psTxOC9ABNqA+JrcBVc3xh4HczA\n",
       "TFeYGIjB6ADj8RUwcB8OADP39IFdzJDyCaif2wFbfLxsL8cUBwB3/0NP0Yie0QAAAABJRU5ErkJg\n",
       "gg==\n",
       "\" style=\"display:inline;vertical-align:middle;\" /></a>, <a class=\"ProveItLink\" href=\"../__pv_it/demonstrations/b9ff765654f5a9fab1a0f971ffbd46ba878d2ac30/expr.ipynb\"><img src=\"data:image/png;base64,iVBORw0KGgoAAAANSUhEUgAAAFAAAAAVBAMAAAAjqnRBAAAAMFBMVEX///9UVFREREQyMjIQEBAi\n",
       "IiKYmJhmZmaqqqru7u7MzMyIiIi6urp2dnbc3NwAAACKehgKAAAAAXRSTlMAQObYZgAAAAlwSFlz\n",
       "AAAOxAAADsQBlSsOGwAAAYNJREFUKM+Fkj1Iw0AUx/9NP9LkTMwqInRxEEW6qQilk4OLBQldQze3\n",
       "oODk0E0QxOiggksFQUGEtg5SEREsOqgQnBw6RBc/QBQ3N+/OSxpDqQ9eLu/d79579+7BgxAVnSW1\n",
       "eFgjpQpavkOqRBHlfnbyzd1sWgmDGAIkQNqOgrUpbH3Zr8forciuADWqhQgnn7lAyUY/9pAsC3CH\n",
       "6kME3JccIGZjGnV8qAJcofokgLppZtnaJ7E6Lf2TxizJAqRJEP9twGVDHMg886XHQA6PDQoqJxZc\n",
       "UkCa0dAnBKcbR38qaUFL5xWLfIvbxP3Gqu5VBDyQCykPeWCJg/6Gbt9EQCdRpd2hXdxl9p5JJcNr\n",
       "fI+AWHM0KFVgldkbwc6QFAUX8AJCe5ZjdjLYuWZ9xEUInMccbmlRPCGptl/GoJ9sCGx6booe1Mrc\n",
       "MR6ErI9528VwanVg+LyddH3ECaZnpuiFQag81rLw3A2a2Q5zyUDCY4yiq7TEkEHJ/g8Sfl2rO3jq\n",
       "/8S6cz9QhmJCgLC/+QAAAABJRU5ErkJggg==\n",
       "\" style=\"display:inline;vertical-align:middle;\" /></a>, <a class=\"ProveItLink\" href=\"../__pv_it/demonstrations/053fb38df6fcf9baf4abe8cee7dd8e99b8a50fd80/expr.ipynb\"><img src=\"data:image/png;base64,iVBORw0KGgoAAAANSUhEUgAAAF0AAAASBAMAAADLUc9JAAAAMFBMVEX///8QEBAiIiLu7u5ERES6\n",
       "urqYmJiIiIjMzMx2dnZUVFRmZmaqqqoyMjLc3NwAAABb1yYoAAAAAXRSTlMAQObYZgAAAAlwSFlz\n",
       "AAAOxAAADsQBlSsOGwAAAXZJREFUKM9jYCAIOhkYuB8wEAPYtrVXMzCwT2DYxsCQnVG+oMwDKvEW\n",
       "XSXzFN3rLyaYBSYwAk0u5yxgYE4VY5BiqIJK30dXXyXGYP1lw+NaBn4DBgbO6wwMfOYXGH4w7ITI\n",
       "8vxHU85dOoGBIWUDw3KGQAaIegauAg4BBh2o9Ho0/3SzAI3l2sAgwbCbg4GhkjuBgYGxgd2B70MD\n",
       "WHrefAjNwO6kpAuiF7OA/JDA94FB4wTUv++BNrA5bADJ8hXUHwArZ71uANHn8BrCX8BQmQAKT64H\n",
       "DFEMvA/4loPluRnOJ0CCCaqcb0EnvmCOYeifAGbcgwpwTAjDp34Dw/sFYMYFqADfhnA8ytm9d693\n",
       "ABsrpKSkpAJ2/0s86s0ZGPgVwJHqABNyZsHrHAYmATBLASYUDQp/hgCsylmBYcP7AcwsR8Qv0EPc\n",
       "F7CqfwjELP/ATN4DMMGS2w9stLEqN/l/mYHH/y84QJmXBMPTp7w2EWmedQokPeAGAE5AWIoR4vwp\n",
       "AAAAAElFTkSuQmCC\n",
       "\" style=\"display:inline;vertical-align:middle;\" /></a>, <a class=\"ProveItLink\" href=\"../__pv_it/demonstrations/d110bb13a053721ab731f462ceb03fc920ca201b0/expr.ipynb\"><img src=\"data:image/png;base64,iVBORw0KGgoAAAANSUhEUgAAAGAAAAASBAMAAABWXMbBAAAAMFBMVEX///8iIiLu7u52dna6uroQ\n",
       "EBBmZmbMzMyqqqqYmJgyMjLc3NxUVFRERESIiIgAAACK51z6AAAAAXRSTlMAQObYZgAAAAlwSFlz\n",
       "AAAOxAAADsQBlSsOGwAAAXZJREFUKM9jYCAGsBswMGQTo5Azs+4N39wCBobHDGwTQLxnOJUy2Uqt\n",
       "226g6TqB9QDfAQYGvgd2DAwg3gag3Nv/d87e2YCm4U0kg9rfhE2vGPgL2IDuYbB6wMAA4imAJH8B\n",
       "7f6Bqp7tCVDV3ASGcwylDIwNUA1AnivYR/+ARCqqhjJeoFE8CQzhDG8Z9rMDnWSQCRQNZ0gDshn4\n",
       "vgMJ/wlghXwXBaVA9CFekD8mcH8AmjqXDeppIE+8HSjO+wFI7Ac5lIFlnQLEhgvbwBTLAYbVDHse\n",
       "gYP1NIj3GGQu/wUgUX8ApGAXVD33gWI8gV0P8s98sA2r4RHliUfDe2DEMJx3ADEXQIW4E/zwaLgP\n",
       "Ir6CDQ4UFBSUBfthMx4Nf0Fp4Cc4ei/AxC7x4klYoGhQhSgVgAm6geKBwQGrBnA03IKw3yFiGhhq\n",
       "bAuwauACRoNjApTdABN9u2yDhhhW9Tz3/5y5C0vrTGed4Kk1XmwDERmAxRaSNHADANGIZA+NwLhf\n",
       "AAAAAElFTkSuQmCC\n",
       "\" style=\"display:inline;vertical-align:middle;\" /></a>, <a class=\"ProveItLink\" href=\"../__pv_it/demonstrations/55701387f25fde525e21ebc18286978696667feb0/expr.ipynb\"><img src=\"data:image/png;base64,iVBORw0KGgoAAAANSUhEUgAAAEwAAAAVBAMAAAAeOBUnAAAAMFBMVEX///8QEBAiIiKqqqpUVFSY\n",
       "mJhmZmbu7u5EREQyMjLMzMyIiIi6urp2dnbc3NwAAADC3l7hAAAAAXRSTlMAQObYZgAAAAlwSFlz\n",
       "AAAOxAAADsQBlSsOGwAAAWlJREFUKM9jeMAABVwM2AFr6uptDAx3YFyOBegK2G9ozn51ofRgAOMD\n",
       "hDLmBHRlW0QZyn4kPN/JwF+AUMaggKaKbc8FBoaIBAZvhoNIljJcRlO2jKOAgYElgUGKIY0LSdkL\n",
       "KL1DSWkCiHbnALkvgO8Dg5YVkjJOiKdPbofyG56BKR4Hhr0BIGWrgHI/ChiYL4BE+aZDVfE5rEVy\n",
       "AVBZAgPX1CMXoH7ghAUk14WjKMqYFzCwAK1gYMgBK4NJ8CWcRlHGy8AQDjKSYQmIv1AJCBrAbnuL\n",
       "ooybgWEDA/sGBgZbEL8CLtPOgaKMjYFnAQMbMIzmgfhMcJljoHBjOABXFsDGwO4FdAzYKu4NiFhw\n",
       "ABIT4D6duXNpElATrwFYYDLcuB3THhSrIQKEVf/TBYR1JT0F8BQir/YAoYwhFcwyg4qcbVKagJHq\n",
       "QMqkwKw+BjwAqIzrA9iKCQSUcYNjiTsAn7JdwJAAJ28WfKoAVZ9dUa6eI4EAAAAASUVORK5CYII=\n",
       "\" style=\"display:inline;vertical-align:middle;\" /></a> <a class=\"ProveItLink\" href=\"../__pv_it/demonstrations/a5acbf509776924f60f93e961691a899ab3439e00/proof.ipynb\" style=\"text-decoration: none\">&nbsp;&#x22A2;&nbsp;&nbsp;</a><a class=\"ProveItLink\" href=\"../__pv_it/demonstrations/202932c16c2f8213104e3ab676d0f4908f6df2ff0/expr.ipynb\"><img src=\"data:image/png;base64,iVBORw0KGgoAAAANSUhEUgAAAfgAAAAVBAMAAABYq+GkAAAAMFBMVEX////MzMxUVFRERES6uroi\n",
       "IiIQEBCYmJhmZmYyMjLu7u52dnaqqqqIiIjc3NwAAACW8nlqAAAAAXRSTlMAQObYZgAAAAlwSFlz\n",
       "AAAOxAAADsQBlSsOGwAABWNJREFUWMOdWF1oHFUUPpvdZCczO5tY/Hmpdts+iWDX+pKXNhsxBUFx\n",
       "I4mICK5UXxTDYguNgjbYhrTmoXkr7YMuFNQgwaFKBWvs9qFF6UO3D2qNqVkICmKL0Shi/Ynn3Ll3\n",
       "59y5N8PQG87sZO9833fOnXPPvXcBoA2JrYh/qvXbulnrUGVkTzH+BEMVk1QNpiRZuGW3/KaG+ilO\n",
       "swReRd0/YKos8X8+VjdZHKZcKzIbagkShA2mJFmr16ncuqSj3pGfP199S3wWAhU8PvyF4QR2gz+4\n",
       "tu3B+zWVwiRevmFmosgswsWFI40Ok8+YDIKNwandcmd11nWZIC14RdzMgQoe+bqNMObo0occB5tc\n",
       "BapovY3ITNQcWIXvhnypw+QxJlN2Q3Bqt5y6RuPsCCfIBwDD4mZaBe/im/fUFMkp1DRdtmCXU9NU\n",
       "PkPLT0amt2mFNITdAHLVDtM8YzJlNwSndqtHp/n8XL/K8TfFTU0FX8COYlkNtZqFxA3LNJX+1FRW\n",
       "6PIiM63VFNIQxkR3ojd/njMZshuCU7v1pV4kW8tNGXzhaSE3q4KnFIS3Y8EXxKQZJOTfmkovvYrj\n",
       "zLQsnVVIQxj9vxDN+YAzGbIbglO7NUPfnT0tFzEHLovMyt2z84SgcQIR/Pw0Bv9VVB2VF44oPGtU\n",
       "JH4LVW4DeGStEVak08y0LA0U0hAeWrn3ZFij3Kt1CPxqxBSX9c5uBTs4tVs0BD9U3PGiGLtHYUsQ\n",
       "vuYDw8Kt3roIPrgI78Fyo1PxlBfUDZl/aSbJIZ6EzPGHgrC0vMoMpsaoPaFQAmkKB/n9I2HwXqHm\n",
       "1v2bEVNMtjgK77avgw2c2q1n8PoywIAvXvQk/FKSOZ4X87u7ScFnmlPwBpUHp6J7Qd3g/4qXrt+F\n",
       "ClaGLgCEHsZ/LzLjjVACaQqjf/vC4Dc71XybJu/hiIHL9rQgO7kINnBqt57HiFYBjoop7Q8c2VGW\n",
       "ZTa3Sjc9FQreRTcDzC7IkIgzNvbkC2NjJdkNWXqyLyyrSPMaeQObqNwy441QZKYwLSmPh8E3elqe\n",
       "xhSTPYbfzAZWcGq3MPgeRJ75VMbcJ9aKIaSsRcFD4SYGPx9tLtQrECp9pHywLlR8qpXkBVWHPcxs\n",
       "wZvCOZxrX8t9yeWGpzHFZPeiYy81rODUbmHaf4hfnmuG+QPdNZlA2VKU9jjGODUXZbWMpz2tp+7e\n",
       "0GWHXHAa4bpwgRmf8yrtTWFKg50y+KNwHXzGpMu6OKO9f8AKTu3WLhwifOqM2kP0imzHpeJOEWe2\n",
       "FQZfzjdyFblOMi+oW6yn2VmpUnfA3Sp3BPuY8UYoMlO4F2fWuAz+EGbqw4wpJkvB1+zg1G5hzXfK\n",
       "kD9GB54fCfcfzZ5pyI2GG8ySCD437sF+uUPiXlA3baxzT6kTxIlv75qqyL3gDDPeBGnJJvx+HYYr\n",
       "kmlPO8hzppjsIYCJ1X4rOLVbd9Bqe2DRWQA4tX4SCoN/0aHj9msLco9fDTc5mz661pZ7Y+4FdW9f\n",
       "37Z9oK1U8s/+QXVBrImjzHgjFJkpfP6x71qKKXPfru85U0zW++T1xkzLCk7tVrfljB7u5sI2Ind4\n",
       "mzunIm2fOWIcRMNtN53/itXI9DZiIGULOFOmyZkSZOPg1G6Zpw49+AkZvFhRs+34wWbCUHlO3O2m\n",
       "takemd4mDKQt+HAHoJgSZM3g07q120Izz4pTOww+sJwk+XB0klUUTHFQXmFmorKWX5DcFvfX05gS\n",
       "ZOPg9G6dsgQ/xCjLYfCC2fxZwi3HVHyRoX5dDrMyE6Uj5Zvt1968xpQgGwend6vYSv417Ab4HdaS\n",
       "rZu1K0gnHu4ipXZkNtSNJNUr6kYxJcnCLbr1P5t+OqdIBd+OAAAAAElFTkSuQmCC\n",
       "\" style=\"display:inline;vertical-align:middle;\" /></a></span>"
      ],
      "text/plain": [
       "{alpha in Complex, beta in Complex, m in NaturalPos, n in NaturalPos, |psi〉 in Complex^{m}, A in Complex^{n x m}, D in Complex^{m x n}, |varphi〉 in Complex^{n}} |- (alpha . A . beta . (|psi〉 + (D . |varphi〉))) = ((alpha . A . beta . |psi〉) + (alpha . A . beta . (D . |varphi〉)))"
      ]
     },
     "metadata": {},
     "output_type": "display_data"
    }
   ],
   "source": [
    "qmult5.distribution(3)"
   ]
  },
  {
   "cell_type": "code",
   "execution_count": 52,
   "metadata": {},
   "outputs": [
    {
     "data": {
      "text/html": [
       "<a class=\"ProveItLink\" href=\"../__pv_it/demonstrations/a6b29a5ef6667e470d387498f79515261a5faa5a0/expr.ipynb\"><img src=\"data:image/png;base64,iVBORw0KGgoAAAANSUhEUgAAAL4AAAAVBAMAAAAKgUmDAAAAMFBMVEX///+YmJgyMjJmZmZERESI\n",
       "iIiqqqoQEBDu7u66uroiIiLc3NzMzMxUVFR2dnYAAAB9mGmPAAAAAXRSTlMAQObYZgAAAAlwSFlz\n",
       "AAAOxAAADsQBlSsOGwAAAvtJREFUOMuFVU1oE1EQnu1mN5tms02lBy+StngQPNgWD1pQAzV6KJJo\n",
       "KQgKLYoIRTRCRaUecrBXrV6CpUJAEBsQcxAPHmS9KP5RKT2p0Vxq9dA2agv+tXXmvbev2bykDnzJ\n",
       "7H4v35uZN28C8B8rCFQ+M7MR4ZrLN6AVMwY5pH31nIALEEpVr9+ANpJLxf3vuf+kbxd3zgq0rBWL\n",
       "W10pYACYHfh9uK5+DbqpFSDGYrVTsIW9slo5AIYBIn+lgIPIIRoy9fRr0FOYjp4m7xrAOHulRzkg\n",
       "vIzp/pACo4jPCK1D/PaGou+jmQ1Qyb6RhxvtYa+CAqBh7NqyFDiDeEjOJfHbU4q+j2aWpDhXub55\n",
       "j706IQCRMmY7IgVKlDz1SltdfUkvzLv8zRJVfgU/Qq8OtfPK7RWAYBysd/x8rb4olIwcmLTJvKr/\n",
       "GuDmUkbSj8eskTCdqk3pa6vs9JrH+Z5tXohTif7pKBdwzLQVNX7yE9yk6neA3Xa7JOkLAD0GRWtQ\n",
       "e0R+8e7Q4mz5XQEYKIB5ngs803NaAbAPduPjaUXfdCECEPdoHQvb5bAbUaYeTfPuCJXZ8ssCcBCx\n",
       "yOuTCaYcihLeUF5EdufzF/P5+yI9gM0VNBYW5r6w9qeQY1SECUwm7denY4mleAHOZRywUvzeZZX4\n",
       "DWqPdfo6eouDXvtbw6I7Am999bGpbT+Ncf0ueARU0e34OKTo6xByQZd0E6rOyfYPsLuKH8/5oEoI\n",
       "GH9wj+/iAHdiAW5hK1O+Lap+VAfrg6T1OGj7aNjBDqz6HTYUOiE0yZfPCzRgubLbhH62UNIwFWfQ\n",
       "a15//7QfedpdQS80H9Vn0Z1ZK870sKjNF/2zYvlLjkhypTh9wBOwPyaOoddIj5Oqvvbgd6ma9pmz\n",
       "7ja6HP4BZrPzOknXPVfj/naCQtfTpwHlH1IkwK4L9Ir5p8y3K6DQPhut8HsFfPqON7r5EKui7XJ9\n",
       "mtlEhX9VwB8/+4uJVm8taCNXn1YsnOKQdtxzIiRSqF6PdNitoP8BOZ7c5uWQDecAAAAASUVORK5C\n",
       "YII=\n",
       "\" style=\"display:inline;vertical-align:middle;\" /></a>"
      ],
      "text/plain": [
       "alpha . D . beta . ((B . |psi〉) + |varphi〉)"
      ]
     },
     "metadata": {},
     "output_type": "display_data"
    }
   ],
   "source": [
    "qmult6"
   ]
  },
  {
   "cell_type": "code",
   "execution_count": 53,
   "metadata": {},
   "outputs": [
    {
     "data": {
      "text/html": [
       "<span style=\"font-size:20px;\"><a class=\"ProveItLink\" href=\"../__pv_it/demonstrations/209baac38918ef8b1210d5267967da66f42b39310/expr.ipynb\"><img src=\"data:image/png;base64,iVBORw0KGgoAAAANSUhEUgAAADYAAAAQBAMAAACvnpHFAAAAMFBMVEX///+YmJgyMjJmZmZERESI\n",
       "iIiqqqoQEBDu7u66uroiIiLc3NzMzMxUVFR2dnYAAAB9mGmPAAAAAXRSTlMAQObYZgAAAAlwSFlz\n",
       "AAAOxAAADsQBlSsOGwAAANhJREFUGNNjYMAGOJ4sUt3zAKsUQ2whQ/MXA6xSzJFAPSLY5Q6zNDAw\n",
       "8KLKhaxapQCib7CA7BRAlpoUAWU4bIYJvXt7AExza0AFuC+cg7J2TeCo5k4AMpg2QEV4HkyEskoZ\n",
       "GJxZG0ByMIO4DaZC3fuBgcGID8Q6vgoIHMD27YPIsQN5z1+AWC1wR3mwQOj+AAaG9yDrGLjgcpNB\n",
       "/mOYwMAPlHsOFmENQITLBSChwMDswMBozwMWUkMEgvKGtsUg7wlGMD8Fi/R6NsDjoX7xBtRwnOcF\n",
       "CTMoAAB6EDLom0lYxwAAAABJRU5ErkJggg==\n",
       "\" style=\"display:inline;vertical-align:middle;\" /></a>, <a class=\"ProveItLink\" href=\"../__pv_it/demonstrations/4827169ff5051c0ad90075d5d60d0692974558df0/expr.ipynb\"><img src=\"data:image/png;base64,iVBORw0KGgoAAAANSUhEUgAAADUAAAATBAMAAADCPVhoAAAAMFBMVEX///8QEBAyMjJERESqqqoi\n",
       "IiK6urpUVFSYmJjMzMzu7u5mZmaIiIh2dnbc3NwAAADJOHriAAAAAXRSTlMAQObYZgAAAAlwSFlz\n",
       "AAAOxAAADsQBlSsOGwAAAPZJREFUKM9jYMAG1poqnZsLZr09vQtViqewgWu/NYjFeYChHVVuTy4D\n",
       "AwdYbi0DQyqKFOcGKyBZDWIeYGDYDhE8HBqqAKTYFxgAyRUQOZYosFTSKYgSZr4NUBPY5pkrLQAx\n",
       "+LSgIs85L0BZvAwdqRNADKYHUJG5bA1wOQYOA7AczC2v2Q5AWWuAxn4AMSaGAoEB2D6YmZlAvwqA\n",
       "GIth+pjB7gQBoBrmAhCDFSbHBvYfGxADfTQR7AqeA/BwSQcSmxgYuHYwsIVBhFTg4Wm0j8sV6EeW\n",
       "aWfuQIWWmy2AxYPh130QL8BBrik4zOCAlwE3WINHLhO3FAAKQjWfO727FgAAAABJRU5ErkJggg==\n",
       "\" style=\"display:inline;vertical-align:middle;\" /></a>, <a class=\"ProveItLink\" href=\"../../../../logic/sets/cartesian_products/__pv_it/theorems/79a768603778550c651661670153c27ee0a505870/expr.ipynb\"><img src=\"data:image/png;base64,iVBORw0KGgoAAAANSUhEUgAAAEYAAAATBAMAAADfQ2bzAAAAMFBMVEX///8yMjJmZmYiIiIQEBCq\n",
       "qqqYmJjMzMxERER2dnbc3Nzu7u5UVFSIiIi6uroAAACibcT0AAAAAXRSTlMAQObYZgAAAAlwSFlz\n",
       "AAAOxAAADsQBlSsOGwAAAQ9JREFUKM9jYCAAFBgIgwZK1HDbd0gzcPr74TWHI+ANA8N+/HbxWHEm\n",
       "MLAwMHV0eHS04VITwSDFwIzdHN5mY0OwmmUXFuJQwye7AWrOguO8E+Bq+O7smtvLPrMPLLVwA8yu\n",
       "BRwMfXA1nBxnGfbnMYSApaTg7lnArrB5Myyc3zE3MKy/wJAPlhJAqGFIZW2B8Tbsf8AQv4FBEcRm\n",
       "dzY2NraAquHZcATuzngGkAJPcPA2IJnDfWAzXM1BBgZLBr5f3CC2AZIahloOuBpPBu5/DDwCy0Ds\n",
       "u/C4KACGVQWMx/Wdge0DA8eECSAOYwBUFMxQhAebAQOvAgOf7gKwg068Bguyy3sAyY3Y44lvBiQu\n",
       "UAAA9FQ8d6roA+kAAAAASUVORK5CYII=\n",
       "\" style=\"display:inline;vertical-align:middle;\" /></a>, <a class=\"ProveItLink\" href=\"../../../../numbers/number_sets/natural_numbers/__pv_it/theorems/132c57ec1224a4beaf274a23bd799047020206590/expr.ipynb\"><img src=\"data:image/png;base64,iVBORw0KGgoAAAANSUhEUgAAAEEAAAATBAMAAAA9n32KAAAAMFBMVEX///9mZmYQEBCYmJgyMjKq\n",
       "qqrMzMwiIiJERER2dnbc3Nzu7u5UVFSIiIi6uroAAAA6K1lcAAAAAXRSTlMAQObYZgAAAAlwSFlz\n",
       "AAAOxAAADsQBlSsOGwAAAPlJREFUKM9jYMAHGBkIAQ6yVWz/0bKBYdKnB3jMaOU7wMD9AZ8txxdM\n",
       "ZmBQYJDoaOroMMCq4mgDywKGAmxm3CgvdwDRp2y5HLCqeHIbyjjFk3AToYLvzq65vWBxLm+Y0lMM\n",
       "DRwP4Co4Oc4y7F8AYrEsQKhI5K4ugIXpO/YGhvUJYBUMCBXMAREKMN6G/Q8Y4jeAWEnlQNAAUcFw\n",
       "mgeugiGegeEImLEDyQyGPdwFcC5Q+jM3iMGOrILtQgOcq8nA+psTxOC9ABNqA+JrcBVc3xh4HczA\n",
       "TFeYGIjB6ADj8RUwcB8OADP39IFdzJDyCaif2wFbfLxsL8cUBwB3/0NP0Yie0QAAAABJRU5ErkJg\n",
       "gg==\n",
       "\" style=\"display:inline;vertical-align:middle;\" /></a>, <a class=\"ProveItLink\" href=\"../__pv_it/demonstrations/b9ff765654f5a9fab1a0f971ffbd46ba878d2ac30/expr.ipynb\"><img src=\"data:image/png;base64,iVBORw0KGgoAAAANSUhEUgAAAFAAAAAVBAMAAAAjqnRBAAAAMFBMVEX///9UVFREREQyMjIQEBAi\n",
       "IiKYmJhmZmaqqqru7u7MzMyIiIi6urp2dnbc3NwAAACKehgKAAAAAXRSTlMAQObYZgAAAAlwSFlz\n",
       "AAAOxAAADsQBlSsOGwAAAYNJREFUKM+Fkj1Iw0AUx/9NP9LkTMwqInRxEEW6qQilk4OLBQldQze3\n",
       "oODk0E0QxOiggksFQUGEtg5SEREsOqgQnBw6RBc/QBQ3N+/OSxpDqQ9eLu/d79579+7BgxAVnSW1\n",
       "eFgjpQpavkOqRBHlfnbyzd1sWgmDGAIkQNqOgrUpbH3Zr8forciuADWqhQgnn7lAyUY/9pAsC3CH\n",
       "6kME3JccIGZjGnV8qAJcofokgLppZtnaJ7E6Lf2TxizJAqRJEP9twGVDHMg886XHQA6PDQoqJxZc\n",
       "UkCa0dAnBKcbR38qaUFL5xWLfIvbxP3Gqu5VBDyQCykPeWCJg/6Gbt9EQCdRpd2hXdxl9p5JJcNr\n",
       "fI+AWHM0KFVgldkbwc6QFAUX8AJCe5ZjdjLYuWZ9xEUInMccbmlRPCGptl/GoJ9sCGx6booe1Mrc\n",
       "MR6ErI9528VwanVg+LyddH3ECaZnpuiFQag81rLw3A2a2Q5zyUDCY4yiq7TEkEHJ/g8Sfl2rO3jq\n",
       "/8S6cz9QhmJCgLC/+QAAAABJRU5ErkJggg==\n",
       "\" style=\"display:inline;vertical-align:middle;\" /></a>, <a class=\"ProveItLink\" href=\"../__pv_it/demonstrations/8ad6c394b3f6e47e61283ded938b84fbf01842970/expr.ipynb\"><img src=\"data:image/png;base64,iVBORw0KGgoAAAANSUhEUgAAAF4AAAASBAMAAAAgZnRKAAAAMFBMVEX///92dnaqqqoiIiLu7u5m\n",
       "Zma6urqIiIjc3NwQEBDMzMwyMjJUVFRERESYmJgAAAAeMT9/AAAAAXRSTlMAQObYZgAAAAlwSFlz\n",
       "AAAOxAAADsQBlSsOGwAAAYZJREFUKM9jYCAIuAQYGCIYiAJPX5UHMDAUMrA+YOCLW17D/nYBLpWO\n",
       "l3dXLGR5No9hBgMDe4E4A4Nf5gPOA+wHgFJv/585sxdNI/vJByzxVzncNzB8AfKkCxgYWqoZ+Bew\n",
       "CoAk5zIw8PxCVR+eyMDAd5WBp4BtAlQ9w3GGlQzMCkAGx3cGBravqF4MuAIkjzJwLmANWMDALhAH\n",
       "5M1iqGXo5wIy+IBm832HOOOysTWI5nG4ACT9GPoZmBctgPiX4wPQhresIMkPDAzcM0DK2LY7QMzn\n",
       "5QgA0zkM7HLg8DzBwHaAYQdDTwlQkPMCA8thsH+7ocoZergEcAfy+uvlpx+AWTtgQgvZHuBWX9/A\n",
       "wDQPzNoAE2plK8Ct/iYQy4PcwzXZ2NjYFuJ+PO75A8TvQeaxXIAJ8TpcwJ2c/gGJ8wkgpgFMjA0c\n",
       "/mxY1bP/AOr5DWaWI+I3B0hEY1XPDYzxzC0QpgLckNsRLMoB2JTz3P9z5vQlCJvlbAo8fd78TESa\n",
       "Z5OFpAfcAABcwGOQGXzv3wAAAABJRU5ErkJggg==\n",
       "\" style=\"display:inline;vertical-align:middle;\" /></a>, <a class=\"ProveItLink\" href=\"../__pv_it/demonstrations/d110bb13a053721ab731f462ceb03fc920ca201b0/expr.ipynb\"><img src=\"data:image/png;base64,iVBORw0KGgoAAAANSUhEUgAAAGAAAAASBAMAAABWXMbBAAAAMFBMVEX///8iIiLu7u52dna6uroQ\n",
       "EBBmZmbMzMyqqqqYmJgyMjLc3NxUVFRERESIiIgAAACK51z6AAAAAXRSTlMAQObYZgAAAAlwSFlz\n",
       "AAAOxAAADsQBlSsOGwAAAXZJREFUKM9jYCAGsBswMGQTo5Azs+4N39wCBobHDGwTQLxnOJUy2Uqt\n",
       "226g6TqB9QDfAQYGvgd2DAwg3gag3Nv/d87e2YCm4U0kg9rfhE2vGPgL2IDuYbB6wMAA4imAJH8B\n",
       "7f6Bqp7tCVDV3ASGcwylDIwNUA1AnivYR/+ARCqqhjJeoFE8CQzhDG8Z9rMDnWSQCRQNZ0gDshn4\n",
       "vgMJ/wlghXwXBaVA9CFekD8mcH8AmjqXDeppIE+8HSjO+wFI7Ac5lIFlnQLEhgvbwBTLAYbVDHse\n",
       "gYP1NIj3GGQu/wUgUX8ApGAXVD33gWI8gV0P8s98sA2r4RHliUfDe2DEMJx3ADEXQIW4E/zwaLgP\n",
       "Ir6CDQ4UFBSUBfthMx4Nf0Fp4Cc4ei/AxC7x4klYoGhQhSgVgAm6geKBwQGrBnA03IKw3yFiGhhq\n",
       "bAuwauACRoNjApTdABN9u2yDhhhW9Tz3/5y5C0vrTGed4Kk1XmwDERmAxRaSNHADANGIZA+NwLhf\n",
       "AAAAAElFTkSuQmCC\n",
       "\" style=\"display:inline;vertical-align:middle;\" /></a>, <a class=\"ProveItLink\" href=\"../__pv_it/demonstrations/55701387f25fde525e21ebc18286978696667feb0/expr.ipynb\"><img src=\"data:image/png;base64,iVBORw0KGgoAAAANSUhEUgAAAEwAAAAVBAMAAAAeOBUnAAAAMFBMVEX///8QEBAiIiKqqqpUVFSY\n",
       "mJhmZmbu7u5EREQyMjLMzMyIiIi6urp2dnbc3NwAAADC3l7hAAAAAXRSTlMAQObYZgAAAAlwSFlz\n",
       "AAAOxAAADsQBlSsOGwAAAWlJREFUKM9jeMAABVwM2AFr6uptDAx3YFyOBegK2G9ozn51ofRgAOMD\n",
       "hDLmBHRlW0QZyn4kPN/JwF+AUMaggKaKbc8FBoaIBAZvhoNIljJcRlO2jKOAgYElgUGKIY0LSdkL\n",
       "KL1DSWkCiHbnALkvgO8Dg5YVkjJOiKdPbofyG56BKR4Hhr0BIGWrgHI/ChiYL4BE+aZDVfE5rEVy\n",
       "AVBZAgPX1CMXoH7ghAUk14WjKMqYFzCwAK1gYMgBK4NJ8CWcRlHGy8AQDjKSYQmIv1AJCBrAbnuL\n",
       "ooybgWEDA/sGBgZbEL8CLtPOgaKMjYFnAQMbMIzmgfhMcJljoHBjOABXFsDGwO4FdAzYKu4NiFhw\n",
       "ABIT4D6duXNpElATrwFYYDLcuB3THhSrIQKEVf/TBYR1JT0F8BQir/YAoYwhFcwyg4qcbVKagJHq\n",
       "QMqkwKw+BjwAqIzrA9iKCQSUcYNjiTsAn7JdwJAAJ28WfKoAVZ9dUa6eI4EAAAAASUVORK5CYII=\n",
       "\" style=\"display:inline;vertical-align:middle;\" /></a> <a class=\"ProveItLink\" href=\"../__pv_it/demonstrations/e290b3a353a47d1063e0abbc9f8e20e5861146c10/proof.ipynb\" style=\"text-decoration: none\">&nbsp;&#x22A2;&nbsp;&nbsp;</a><a class=\"ProveItLink\" href=\"../__pv_it/demonstrations/af14e0c26082280033302317da75425deded13e50/expr.ipynb\"><img src=\"data:image/png;base64,iVBORw0KGgoAAAANSUhEUgAAAf0AAAAVBAMAAAC+girgAAAAMFBMVEX////MzMxUVFRERES6uroi\n",
       "IiIQEBCYmJhmZmYyMjLu7u52dnaqqqqIiIjc3NwAAACW8nlqAAAAAXRSTlMAQObYZgAAAAlwSFlz\n",
       "AAAOxAAADsQBlSsOGwAABjdJREFUWMOVWG9oHEUUf5e7ZDe3d5ezWP1SzTXBD0Ww1xSkgmmvYip+\n",
       "KL1KIyIFTxoVFcNhC42CJlhjrAUbEFraD7pYqIoEl1oqWEPPDy2WIp6KttamOSj5ZItpo9b+M743\n",
       "83Zud2ezSx+8y9ze29/8fjNv3swEABoQYw3wB+VUKw8hr6sHCY7NhWAu9FwLui3YXKwOH4J4kK3F\n",
       "sKAAX5BVclsr0NcH4w+7jSQOT6ouPWjn2CPt3O3CRiNqCIL6Ka/UNXNdKx+Q7T/OvCcbp9i3znd1\n",
       "fZBv6keA7+id6kLdZEbw4zS73zKOdGU/z/d098gJyk2+a6sgY82VrmUrmrDZKNgYRI0YUU+PexE6\n",
       "8NuwmOtEHV4VjyhABm0BaLnc1I+dtdLf/QvphzJ6uy3db5+xN+0aar0pWveAUVBB0FYEWJ5XsFYU\n",
       "bAyiTgypm77p68RJNSvU+hygTzyiABGUu4VZ86/Sn8ZQi4ZqiN99TNP/DboxIt1vY+zKEggO7whc\n",
       "B1JlFQR/YjcbRhTsRAhsqupBjUDUiSH1Nh+vaVoZVzm73xKP2tjBwLk3bin9GQzNFelHnobvNf0X\n",
       "6OMldp9V2JsrjxJrQ1VmuFlQQTCM3QzXFey3IbCZugc1AlEnhtRP+nitoXm+IfVnnhaPTrJDyywm\n",
       "zaDST5kIH1IiVRfS307Lby+7b6GOS29acpbm2pFsj9tuEOY++p6GgnVCYF39cYg6MaS+i74fPZSX\n",
       "P8xR4lyhnLq3Z5+c113stBLT93H9mxhD/b/IumgVNP13ADw+Z8t6dIjda6YjHayjS7nwUCZ1EtLa\n",
       "C8v2qyBRdD7eKGHTZ6rgZMsarKs/DlEnhtRpDGdK6cFczV0zxg0xu9v75Jioge7snVpW5f3POQGf\n",
       "wLQtCqAxrukfgcTeRxxZZ15jh9F+sieAU4Y8twkONi66hQeGiZZjbNsIbhAk5qZ+2suwVqaSrmav\n",
       "B2Cb+uMQdWJIfTO2XgFYlbXdNdPyl8xuoyhQN7PDdAMyL0j9idoovElVwcSlkKkE9WNpaAHA19/G\n",
       "ryfYvdZak95Wh+TIWbfwwPKSzPCtKgiy/+HbVQm7xCwbDVrkAVhXfxyiTgypD6AIXCk7LbVmOiqy\n",
       "zqZmBeoAOzyIfkzmfxqHzAETpwfzKzErJ/d5ntzDNHiv01jDIpoHdq+1laTvxs7HHbfwwD+8rWxQ\n",
       "QZBEMtZlCWu31S0N1uzvf/K5/v4CxCPqxJD6gNxij3yt1swwDfdaHPqKXz+VBVGJMf8z11H/hDxx\n",
       "pLT5z1L5pG6pPKxjD9OPi9t62XYLj0EbTwpH+Nem/o4CbzqUvT/YVhisO/9xiDoxpI6p/QU+OFZz\n",
       "10x6C9fZZMGX/4mrbj6hfnMc68VZWUgz5aB+k/o0bbk9HGf3rn/O/zQKs26qzfpgkbeVnmb+d1Z5\n",
       "QZL+nXARskFYX/5HIurEkHovjjG+f0Rt/0lRzvDjLnl47GWnlZi4xvXPLBp2qiQ3Uq4TXv1VE9JL\n",
       "+XiwFdwF7dmb6tKJbUVt1g+JIoa9DKogKjrQOc76d2D2PqrDuvrjEHViSB13AbMIxm66E8FHmBJP\n",
       "iSPTGKQ2SVR3o2lH2HX7WX9q0IJtfJAyHa3+7/vt7tESHw/V/um9QRWk78Aj2CyVlHasIX3iOPdp\n",
       "FfpKKgj2IKMXbYZd13CMEFhXfxyiTgypL6btf/tZcxL/ds93da8Ss565c2qSuS6W3kIXkYfV/W/R\n",
       "l1MNPki3ljT9xjN/06CI68Emdt/ZtCzd+uoNe1ddgq98Xx7w1v9ebwZ1052r5sIm7u89HwKb8bwQ\n",
       "hagTQ+qt+bCrouXZq/IQCBLnvyXqIjUD+vlPnsTpepgrS/fbRnbdHH+Q/1qVqIXBqvNvDKJObCbs\n",
       "bhLQr19ghH6xxyYbnluH9/7zrGit9l6ffDbkuTctqH9I0y8OKRqsuv8Mxev3ExvjtmYTnvbqYJBV\n",
       "clHpwpkr6vdfcSSQt+YL7nXDXwAbPHhBS9f9QX79VjRsDKJGTFA/EKZ/rad9IBgk9AvU02GdYjdZ\n",
       "kZniPyOrQ4c4XZSuWSrvDwrMfzRsDKJGTFDP1eP+C1cPBGUVIlXo88H4HzFcRLRQbEN60C6xR9ql\n",
       "AKy0CNhoRI0YUv8fjEBDTNQL2uoAAAAASUVORK5CYII=\n",
       "\" style=\"display:inline;vertical-align:middle;\" /></a></span>"
      ],
      "text/plain": [
       "{alpha in Complex, beta in Complex, m in NaturalPos, n in NaturalPos, |psi〉 in Complex^{m}, B in Complex^{n x m}, D in Complex^{m x n}, |varphi〉 in Complex^{n}} |- (alpha . D . beta . ((B . |psi〉) + |varphi〉)) = ((alpha . D . beta . (B . |psi〉)) + (alpha . D . beta . |varphi〉))"
      ]
     },
     "metadata": {},
     "output_type": "display_data"
    }
   ],
   "source": [
    "qmult6.distribution(3)"
   ]
  },
  {
   "cell_type": "markdown",
   "metadata": {},
   "source": [
    "### Simplification"
   ]
  },
  {
   "cell_type": "code",
   "execution_count": 54,
   "metadata": {},
   "outputs": [
    {
     "name": "stdout",
     "output_type": "stream",
     "text": [
      "Help on function simplification in module proveit._core_.expression.operation.operation:\n",
      "\n",
      "simplification(self, **defaults_config)\n",
      "    If possible, return a Judgment of this expression equal to a\n",
      "    simplified form (according to strategies specified in \n",
      "    proveit.defaults). \n",
      "    \n",
      "    This Operation.simplification version tries calling\n",
      "    simplifies the operands and then calls 'shallow_simplification'.\n",
      "    \n",
      "    Keyword arguments are accepted for temporarily changing any\n",
      "    of the attributes of proveit.defaults.\n",
      "    \n",
      "    'simplified' returns the right-hand side of 'simplification'.\n",
      "    'simplify', called on an InnerExpr of a Judgment,\n",
      "    substitutes the right-hand side of 'simplification' for\n",
      "    the inner expression.\n",
      "\n"
     ]
    }
   ],
   "source": [
    "help(Qmult.simplification)"
   ]
  },
  {
   "cell_type": "code",
   "execution_count": 55,
   "metadata": {},
   "outputs": [
    {
     "name": "stdout",
     "output_type": "stream",
     "text": [
      "Help on function shallow_simplification in module proveit.physics.quantum.algebra.qmult:\n",
      "\n",
      "shallow_simplification(self, *, must_evaluate=False, **defaults_config)\n",
      "    Returns a proven simplification equation for this Qmult\n",
      "    expression assuming the operands have been simplified.\n",
      "    \n",
      "    Currently deals only with:\n",
      "    (1) simplify unary case\n",
      "    (2) Ungrouping nested tensor products.\n",
      "    (3) Factoring out scalars.\n",
      "    \n",
      "    Keyword arguments are accepted for temporarily changing any\n",
      "    of the attributes of proveit.defaults.\n",
      "    \n",
      "    'shallow_simplified' returns the right-hand side of 'shallow_simplification'.\n",
      "    'shallow_simplify', called on an InnerExpr of a Judgment,\n",
      "    substitutes the right-hand side of 'shallow_simplification' for\n",
      "    the inner expression.\n",
      "\n"
     ]
    }
   ],
   "source": [
    "help(Qmult.shallow_simplification)"
   ]
  },
  {
   "cell_type": "code",
   "execution_count": 56,
   "metadata": {},
   "outputs": [],
   "source": [
    "Qmult.change_simplification_directives(ungroup=True, \n",
    "                                       factor_scalars=True,\n",
    "                                       use_scalar_mult=True)"
   ]
  },
  {
   "cell_type": "code",
   "execution_count": 57,
   "metadata": {},
   "outputs": [
    {
     "data": {
      "text/html": [
       "<span style=\"font-size:20px;\"><a class=\"ProveItLink\" href=\"../__pv_it/demonstrations/a96adf032fe1e70a10118c41779605949495a8190/expr.ipynb\"><img src=\"data:image/png;base64,iVBORw0KGgoAAAANSUhEUgAAADQAAAAUBAMAAAAw+gPuAAAAMFBMVEX///8yMjLMzMzc3NyIiIhU\n",
       "VFR2dnZmZmYQEBCYmJi6urru7u5EREQiIiKqqqoAAABRQ6LBAAAAAXRSTlMAQObYZgAAAAlwSFlz\n",
       "AAAOxAAADsQBlSsOGwAAANRJREFUKM9jYMACuHMuihglYJNhcO1k2P6nAJsMuxdQxxysUuo8GxgY\n",
       "WFGkfO7eFQDR0Twg+yYgySz0hjIOmEMZb/9sYFgNpJmloQLMAWoQBmd7bgCDA5DBaACVYkpYCWHY\n",
       "MDAcYlIAScEMZi5YAmEALdjCAmJo3AWCA2C7zOD2s9mByD1w/mkehBTIKgZeOH85yF8MC8BS4OBi\n",
       "cUCERgCQAHuRTQEsIofwu7jBvusQVRCBrac2wEO+/zrEK6xQkWVnIQGFBJYx4ARZuKUO4JYywC4M\n",
       "AInOLMSMX0ERAAAAAElFTkSuQmCC\n",
       "\" style=\"display:inline;vertical-align:middle;\" /></a>, <a class=\"ProveItLink\" href=\"../../../../logic/sets/cartesian_products/__pv_it/theorems/79a768603778550c651661670153c27ee0a505870/expr.ipynb\"><img src=\"data:image/png;base64,iVBORw0KGgoAAAANSUhEUgAAAEYAAAATBAMAAADfQ2bzAAAAMFBMVEX///8yMjJmZmYiIiIQEBCq\n",
       "qqqYmJjMzMxERER2dnbc3Nzu7u5UVFSIiIi6uroAAACibcT0AAAAAXRSTlMAQObYZgAAAAlwSFlz\n",
       "AAAOxAAADsQBlSsOGwAAAQ9JREFUKM9jYCAAFBgIgwZK1HDbd0gzcPr74TWHI+ANA8N+/HbxWHEm\n",
       "MLAwMHV0eHS04VITwSDFwIzdHN5mY0OwmmUXFuJQwye7AWrOguO8E+Bq+O7smtvLPrMPLLVwA8yu\n",
       "BRwMfXA1nBxnGfbnMYSApaTg7lnArrB5Myyc3zE3MKy/wJAPlhJAqGFIZW2B8Tbsf8AQv4FBEcRm\n",
       "dzY2NraAquHZcATuzngGkAJPcPA2IJnDfWAzXM1BBgZLBr5f3CC2AZIahloOuBpPBu5/DDwCy0Ds\n",
       "u/C4KACGVQWMx/Wdge0DA8eECSAOYwBUFMxQhAebAQOvAgOf7gKwg068Bguyy3sAyY3Y44lvBiQu\n",
       "UAAA9FQ8d6roA+kAAAAASUVORK5CYII=\n",
       "\" style=\"display:inline;vertical-align:middle;\" /></a>, <a class=\"ProveItLink\" href=\"../../../../numbers/number_sets/natural_numbers/__pv_it/theorems/132c57ec1224a4beaf274a23bd799047020206590/expr.ipynb\"><img src=\"data:image/png;base64,iVBORw0KGgoAAAANSUhEUgAAAEEAAAATBAMAAAA9n32KAAAAMFBMVEX///9mZmYQEBCYmJgyMjKq\n",
       "qqrMzMwiIiJERER2dnbc3Nzu7u5UVFSIiIi6uroAAAA6K1lcAAAAAXRSTlMAQObYZgAAAAlwSFlz\n",
       "AAAOxAAADsQBlSsOGwAAAPlJREFUKM9jYMAHGBkIAQ6yVWz/0bKBYdKnB3jMaOU7wMD9AZ8txxdM\n",
       "ZmBQYJDoaOroMMCq4mgDywKGAmxm3CgvdwDRp2y5HLCqeHIbyjjFk3AToYLvzq65vWBxLm+Y0lMM\n",
       "DRwP4Co4Oc4y7F8AYrEsQKhI5K4ugIXpO/YGhvUJYBUMCBXMAREKMN6G/Q8Y4jeAWEnlQNAAUcFw\n",
       "mgeugiGegeEImLEDyQyGPdwFcC5Q+jM3iMGOrILtQgOcq8nA+psTxOC9ABNqA+JrcBVc3xh4HczA\n",
       "TFeYGIjB6ADj8RUwcB8OADP39IFdzJDyCaif2wFbfLxsL8cUBwB3/0NP0Yie0QAAAABJRU5ErkJg\n",
       "gg==\n",
       "\" style=\"display:inline;vertical-align:middle;\" /></a>, <a class=\"ProveItLink\" href=\"../__pv_it/demonstrations/4827169ff5051c0ad90075d5d60d0692974558df0/expr.ipynb\"><img src=\"data:image/png;base64,iVBORw0KGgoAAAANSUhEUgAAADUAAAATBAMAAADCPVhoAAAAMFBMVEX///8QEBAyMjJERESqqqoi\n",
       "IiK6urpUVFSYmJjMzMzu7u5mZmaIiIh2dnbc3NwAAADJOHriAAAAAXRSTlMAQObYZgAAAAlwSFlz\n",
       "AAAOxAAADsQBlSsOGwAAAPZJREFUKM9jYMAG1poqnZsLZr09vQtViqewgWu/NYjFeYChHVVuTy4D\n",
       "AwdYbi0DQyqKFOcGKyBZDWIeYGDYDhE8HBqqAKTYFxgAyRUQOZYosFTSKYgSZr4NUBPY5pkrLQAx\n",
       "+LSgIs85L0BZvAwdqRNADKYHUJG5bA1wOQYOA7AczC2v2Q5AWWuAxn4AMSaGAoEB2D6YmZlAvwqA\n",
       "GIth+pjB7gQBoBrmAhCDFSbHBvYfGxADfTQR7AqeA/BwSQcSmxgYuHYwsIVBhFTg4Wm0j8sV6EeW\n",
       "aWfuQIWWmy2AxYPh130QL8BBrik4zOCAlwE3WINHLhO3FAAKQjWfO727FgAAAABJRU5ErkJggg==\n",
       "\" style=\"display:inline;vertical-align:middle;\" /></a>, <a class=\"ProveItLink\" href=\"../__pv_it/demonstrations/209baac38918ef8b1210d5267967da66f42b39310/expr.ipynb\"><img src=\"data:image/png;base64,iVBORw0KGgoAAAANSUhEUgAAADYAAAAQBAMAAACvnpHFAAAAMFBMVEX///+YmJgyMjJmZmZERESI\n",
       "iIiqqqoQEBDu7u66uroiIiLc3NzMzMxUVFR2dnYAAAB9mGmPAAAAAXRSTlMAQObYZgAAAAlwSFlz\n",
       "AAAOxAAADsQBlSsOGwAAANhJREFUGNNjYMAGOJ4sUt3zAKsUQ2whQ/MXA6xSzJFAPSLY5Q6zNDAw\n",
       "8KLKhaxapQCib7CA7BRAlpoUAWU4bIYJvXt7AExza0AFuC+cg7J2TeCo5k4AMpg2QEV4HkyEskoZ\n",
       "GJxZG0ByMIO4DaZC3fuBgcGID8Q6vgoIHMD27YPIsQN5z1+AWC1wR3mwQOj+AAaG9yDrGLjgcpNB\n",
       "/mOYwMAPlHsOFmENQITLBSChwMDswMBozwMWUkMEgvKGtsUg7wlGMD8Fi/R6NsDjoX7xBtRwnOcF\n",
       "CTMoAAB6EDLom0lYxwAAAABJRU5ErkJggg==\n",
       "\" style=\"display:inline;vertical-align:middle;\" /></a>, <a class=\"ProveItLink\" href=\"../__pv_it/demonstrations/053fb38df6fcf9baf4abe8cee7dd8e99b8a50fd80/expr.ipynb\"><img src=\"data:image/png;base64,iVBORw0KGgoAAAANSUhEUgAAAF0AAAASBAMAAADLUc9JAAAAMFBMVEX///8QEBAiIiLu7u5ERES6\n",
       "urqYmJiIiIjMzMx2dnZUVFRmZmaqqqoyMjLc3NwAAABb1yYoAAAAAXRSTlMAQObYZgAAAAlwSFlz\n",
       "AAAOxAAADsQBlSsOGwAAAXZJREFUKM9jYCAIOhkYuB8wEAPYtrVXMzCwT2DYxsCQnVG+oMwDKvEW\n",
       "XSXzFN3rLyaYBSYwAk0u5yxgYE4VY5BiqIJK30dXXyXGYP1lw+NaBn4DBgbO6wwMfOYXGH4w7ITI\n",
       "8vxHU85dOoGBIWUDw3KGQAaIegauAg4BBh2o9Ho0/3SzAI3l2sAgwbCbg4GhkjuBgYGxgd2B70MD\n",
       "WHrefAjNwO6kpAuiF7OA/JDA94FB4wTUv++BNrA5bADJ8hXUHwArZ71uANHn8BrCX8BQmQAKT64H\n",
       "DFEMvA/4loPluRnOJ0CCCaqcb0EnvmCOYeifAGbcgwpwTAjDp34Dw/sFYMYFqADfhnA8ytm9d693\n",
       "ABsrpKSkpAJ2/0s86s0ZGPgVwJHqABNyZsHrHAYmATBLASYUDQp/hgCsylmBYcP7AcwsR8Qv0EPc\n",
       "F7CqfwjELP/ATN4DMMGS2w9stLEqN/l/mYHH/y84QJmXBMPTp7w2EWmedQokPeAGAE5AWIoR4vwp\n",
       "AAAAAElFTkSuQmCC\n",
       "\" style=\"display:inline;vertical-align:middle;\" /></a>, <a class=\"ProveItLink\" href=\"../__pv_it/demonstrations/b9ff765654f5a9fab1a0f971ffbd46ba878d2ac30/expr.ipynb\"><img src=\"data:image/png;base64,iVBORw0KGgoAAAANSUhEUgAAAFAAAAAVBAMAAAAjqnRBAAAAMFBMVEX///9UVFREREQyMjIQEBAi\n",
       "IiKYmJhmZmaqqqru7u7MzMyIiIi6urp2dnbc3NwAAACKehgKAAAAAXRSTlMAQObYZgAAAAlwSFlz\n",
       "AAAOxAAADsQBlSsOGwAAAYNJREFUKM+Fkj1Iw0AUx/9NP9LkTMwqInRxEEW6qQilk4OLBQldQze3\n",
       "oODk0E0QxOiggksFQUGEtg5SEREsOqgQnBw6RBc/QBQ3N+/OSxpDqQ9eLu/d79579+7BgxAVnSW1\n",
       "eFgjpQpavkOqRBHlfnbyzd1sWgmDGAIkQNqOgrUpbH3Zr8forciuADWqhQgnn7lAyUY/9pAsC3CH\n",
       "6kME3JccIGZjGnV8qAJcofokgLppZtnaJ7E6Lf2TxizJAqRJEP9twGVDHMg886XHQA6PDQoqJxZc\n",
       "UkCa0dAnBKcbR38qaUFL5xWLfIvbxP3Gqu5VBDyQCykPeWCJg/6Gbt9EQCdRpd2hXdxl9p5JJcNr\n",
       "fI+AWHM0KFVgldkbwc6QFAUX8AJCe5ZjdjLYuWZ9xEUInMccbmlRPCGptl/GoJ9sCGx6booe1Mrc\n",
       "MR6ErI9528VwanVg+LyddH3ECaZnpuiFQag81rLw3A2a2Q5zyUDCY4yiq7TEkEHJ/g8Sfl2rO3jq\n",
       "/8S6cz9QhmJCgLC/+QAAAABJRU5ErkJggg==\n",
       "\" style=\"display:inline;vertical-align:middle;\" /></a> <a class=\"ProveItLink\" href=\"../__pv_it/demonstrations/3e5e0af01f16d679d95bdce0bb6d12f0437395710/proof.ipynb\" style=\"text-decoration: none\">&nbsp;&#x22A2;&nbsp;&nbsp;</a><a class=\"ProveItLink\" href=\"../__pv_it/demonstrations/9cbe1728d6338af61b0a2881f7a78d5351303e2c0/expr.ipynb\"><img src=\"data:image/png;base64,iVBORw0KGgoAAAANSUhEUgAAAToAAAAVBAMAAAAk4T84AAAAMFBMVEX////MzMxUVFRERES6uroi\n",
       "IiIQEBCYmJhmZmYyMjLu7u52dnaqqqqIiIjc3NwAAACW8nlqAAAAAXRSTlMAQObYZgAAAAlwSFlz\n",
       "AAAOxAAADsQBlSsOGwAABG9JREFUSMeFVk2IHFUQrnF6fra7p50E9RTMePaQ0VMQdncCSbwojGEV\n",
       "kYAD5qQYBhUTA8qwSdjEOWRuwQjasKCILGmjRDAmGRFDxMOOiCQs+WmQCJIEN4rIJjFrvap6Pa/f\n",
       "9GQLaqb7df18r15VvQKAGMZT8i2XtWhQILwWxePehspV+UArlX7aTc98+0o/5KvDxWczvF4SXotS\n",
       "uuL6D/XjNfTqEyLmDPDnp7T6xDL/X7/4foKuAuB3DKPtEad+xGwTW4ExuuL6YwMdIjqvxS4AuL20\n",
       "+iKjyw3gjQSdh9w0ZI6NoPhM2CKxAtm64tpfNdDhDgtabCKEshWI2Xv09znAtgTdAvK3hszeERhz\n",
       "whaJFcjWFdflTXGCzsXYeX0RK3WgmFb2rt/SEZ5N0H2H/JshVAxtGC1hi8QKZOuK6zNnqwk6Hx+D\n",
       "uhZ7FX5MK9+s3BW7/ksJOpVQE0Z9TdiJ5/eYR9GRlVReD3XZdTC42k/QqRyCj7TYUeiq91MndEl2\n",
       "/H/Vn/Pokx+EhM692Iao0uSc919+CpwQvJrlshwxg3fqMWNZW+EdjOh2WRcW24xuYQ7R/crFQmIn\n",
       "EB/AtYa7O6Dqdvq5O7yHPduqhM7zW267cpvL4u3uDlXAJQrTwecV7dABURzMwCfxjWGaiBWilC7R\n",
       "Ufp9BjZGjC46B5/C1ZDKgsTegZ34+zrA5krIGwn+kgiX6oRuQ7lZilVOHaCMyFfXYRjsFCv0mYsD\n",
       "yHeWDHRshQ5wVHcnnxb8WSN0uf5BeE8lY7khYudgF75hEzlMJw6/HJr9W6rUWSZ0YXHgKROwHrtQ\n",
       "iEWFmZ5btlO9wXwEjfVUJI73TCvqLaXrrqjPu6gBbj60qU7oXIxShPGBXE3ENiqRIn49+Y0u6H/U\n",
       "wxZUa3FVLIYerUvrPIMhclpj0L2CXl5Th1DomFYKHVv3xQQd7uDBJp+sfxvRLXBbJ7HtKrzH0ffZ\n",
       "Ph8swAtSpfkaozsMN9TGqZKQTqsEb1p5Jyfr/ode7g5BayuahrrDk0XghRajK/cw+Ze4PZDYDzCJ\n",
       "2BHdSZJ/Wt8reBSPxIxuP+yDrdKFVHmDkUzJLTxgVuiMuGormizdSVWGbbk8Fbp6KXQa3FpJ7E2s\n",
       "WlyF0hE1hATK8jTac+fAmZEpYHsclRrSwZG+kAaS7uE15v3Y5JeTKk2saLJ00TX8rvZ2j9E5uz14\n",
       "S64lEuvCw2pPe5bKGHV3eiWE71c/xLg+dPm0nlFyj09eAbn9+CSg0LDv0yaz9/W7YXeQdDhtBbJ1\n",
       "0fX86jHwp1ci7sbrv7wcy5VOYjNQqGbMOZ45QeUoaudlReXRtRGF54SzrUC2bso13RUbaFMdEQua\n",
       "6qpdAx13wilp/1Hmfb83azaw0dm6KdeEjlplPhYxNSVMZaBbMNF5xrRDRoL6iIKymI/HWYExulM2\n",
       "ukhPYySmqmM+A92WVOzMqTEPGTAQfJ052wqM0Z230VHKXtBiUzQj3GfQ/lk/PGCM/1cyBG8K349G\n",
       "dE3XlaqZnUqsEsP/tkNCF1HHqt4AAAAASUVORK5CYII=\n",
       "\" style=\"display:inline;vertical-align:middle;\" /></a></span>"
      ],
      "text/plain": [
       "{gamma in Complex, m in NaturalPos, n in NaturalPos, beta in Complex, alpha in Complex, A in Complex^{n x m}, |psi〉 in Complex^{m}} |- (alpha . A . beta . |psi〉 . gamma) = ((alpha * beta * gamma) * (A . |psi〉))"
      ]
     },
     "metadata": {},
     "output_type": "display_data"
    }
   ],
   "source": [
    "qmult1.simplification()"
   ]
  },
  {
   "cell_type": "code",
   "execution_count": 58,
   "metadata": {},
   "outputs": [
    {
     "data": {
      "text/html": [
       "<a class=\"ProveItLink\" href=\"../__pv_it/demonstrations/1924f2d3a5403aff24e6195acfe52100f29deb8c0/expr.ipynb\"><img src=\"data:image/png;base64,iVBORw0KGgoAAAANSUhEUgAAAHcAAAAVBAMAAACOK2zoAAAAMFBMVEX///+YmJgyMjJmZmZERESI\n",
       "iIiqqqoQEBDu7u66uroiIiLc3NzMzMxUVFR2dnYAAAB9mGmPAAAAAXRSTlMAQObYZgAAAAlwSFlz\n",
       "AAAOxAAADsQBlSsOGwAAAjRJREFUOMt1lL9rFEEUx99mb/dmc+t6IYU2QrASBM1FC1NEF0QQRHIQ\n",
       "FSEWAS3FXGNlswTSJmchkpBiOxUUtzAWKYKVIirkL5BrYgz+iiIi/v7OvLfuuHEXZt/Om/m8N/N9\n",
       "s0NkPw0qP1nJUkhVzzkOMVR4bojdzB21RxWs3zOmb4u7qxNHyGvasIc5wxXwDJtphsM27SHaZ8MR\n",
       "WloBt9iMfTdmjmiRaNCGZ9FeVcAdDr/6w9g2whDVEwu+jPagYsss1LL3RWD/NgRoWrDWpC+zmffv\n",
       "RECX9Rr2P2oTPDu9F1mjNYHVRJN6Xsqq+vdPUoDRla661pgyKpskwVT4i8UZWERUZ0jgyO+opveV\n",
       "Fdt19J6Wnq4SHffMxvpNCJcaP0VZJ0aOjsCP3dTJtCyjOAkx6v0cc1GXkchMqHf1+8yhsc+ibICx\n",
       "cEvgpN7GNFT5BeqdkGpD0Dqib7wuYAXfN91bwhzkCfLMNJ1EZvQKK/QG65xH94NZLy/bRbslytYg\n",
       "lp/m8Ag91ClpP8PraDsBb8ixxSddRzuoexDqScb7Zvgw7aYFs18uks4Uk3OMfxVdlYZe5Tgg1aLg\n",
       "TlE/wDeznoONRbxMemsiDJx31/kwp6TGPyV06fcBLPfpWePt7+Zw+PLEpHbI8Sj/IHet70jsSnG2\n",
       "Q5PzogysleDB/8CtAubTcIodQa8E16xjOyt3S1zAJp6SmyLqlmAVF99L/8bb5KuA/t4OtW3/1fI2\n",
       "z6TYC7ljh3Xd/QFuGoKtB+kKtAAAAABJRU5ErkJggg==\n",
       "\" style=\"display:inline;vertical-align:middle;\" /></a>"
      ],
      "text/plain": [
       "alpha . (A . beta) . |psi〉 . gamma"
      ]
     },
     "metadata": {},
     "output_type": "display_data"
    }
   ],
   "source": [
    "qmult1_associated"
   ]
  },
  {
   "cell_type": "code",
   "execution_count": 59,
   "metadata": {},
   "outputs": [
    {
     "data": {
      "text/html": [
       "<span style=\"font-size:20px;\"><a class=\"ProveItLink\" href=\"../__pv_it/demonstrations/4827169ff5051c0ad90075d5d60d0692974558df0/expr.ipynb\"><img src=\"data:image/png;base64,iVBORw0KGgoAAAANSUhEUgAAADUAAAATBAMAAADCPVhoAAAAMFBMVEX///8QEBAyMjJERESqqqoi\n",
       "IiK6urpUVFSYmJjMzMzu7u5mZmaIiIh2dnbc3NwAAADJOHriAAAAAXRSTlMAQObYZgAAAAlwSFlz\n",
       "AAAOxAAADsQBlSsOGwAAAPZJREFUKM9jYMAG1poqnZsLZr09vQtViqewgWu/NYjFeYChHVVuTy4D\n",
       "AwdYbi0DQyqKFOcGKyBZDWIeYGDYDhE8HBqqAKTYFxgAyRUQOZYosFTSKYgSZr4NUBPY5pkrLQAx\n",
       "+LSgIs85L0BZvAwdqRNADKYHUJG5bA1wOQYOA7AczC2v2Q5AWWuAxn4AMSaGAoEB2D6YmZlAvwqA\n",
       "GIth+pjB7gQBoBrmAhCDFSbHBvYfGxADfTQR7AqeA/BwSQcSmxgYuHYwsIVBhFTg4Wm0j8sV6EeW\n",
       "aWfuQIWWmy2AxYPh130QL8BBrik4zOCAlwE3WINHLhO3FAAKQjWfO727FgAAAABJRU5ErkJggg==\n",
       "\" style=\"display:inline;vertical-align:middle;\" /></a>, <a class=\"ProveItLink\" href=\"../../../../numbers/number_sets/natural_numbers/__pv_it/theorems/132c57ec1224a4beaf274a23bd799047020206590/expr.ipynb\"><img src=\"data:image/png;base64,iVBORw0KGgoAAAANSUhEUgAAAEEAAAATBAMAAAA9n32KAAAAMFBMVEX///9mZmYQEBCYmJgyMjKq\n",
       "qqrMzMwiIiJERER2dnbc3Nzu7u5UVFSIiIi6uroAAAA6K1lcAAAAAXRSTlMAQObYZgAAAAlwSFlz\n",
       "AAAOxAAADsQBlSsOGwAAAPlJREFUKM9jYMAHGBkIAQ6yVWz/0bKBYdKnB3jMaOU7wMD9AZ8txxdM\n",
       "ZmBQYJDoaOroMMCq4mgDywKGAmxm3CgvdwDRp2y5HLCqeHIbyjjFk3AToYLvzq65vWBxLm+Y0lMM\n",
       "DRwP4Co4Oc4y7F8AYrEsQKhI5K4ugIXpO/YGhvUJYBUMCBXMAREKMN6G/Q8Y4jeAWEnlQNAAUcFw\n",
       "mgeugiGegeEImLEDyQyGPdwFcC5Q+jM3iMGOrILtQgOcq8nA+psTxOC9ABNqA+JrcBVc3xh4HczA\n",
       "TFeYGIjB6ADj8RUwcB8OADP39IFdzJDyCaif2wFbfLxsL8cUBwB3/0NP0Yie0QAAAABJRU5ErkJg\n",
       "gg==\n",
       "\" style=\"display:inline;vertical-align:middle;\" /></a>, <a class=\"ProveItLink\" href=\"../../../../logic/sets/cartesian_products/__pv_it/theorems/79a768603778550c651661670153c27ee0a505870/expr.ipynb\"><img src=\"data:image/png;base64,iVBORw0KGgoAAAANSUhEUgAAAEYAAAATBAMAAADfQ2bzAAAAMFBMVEX///8yMjJmZmYiIiIQEBCq\n",
       "qqqYmJjMzMxERER2dnbc3Nzu7u5UVFSIiIi6uroAAACibcT0AAAAAXRSTlMAQObYZgAAAAlwSFlz\n",
       "AAAOxAAADsQBlSsOGwAAAQ9JREFUKM9jYCAAFBgIgwZK1HDbd0gzcPr74TWHI+ANA8N+/HbxWHEm\n",
       "MLAwMHV0eHS04VITwSDFwIzdHN5mY0OwmmUXFuJQwye7AWrOguO8E+Bq+O7smtvLPrMPLLVwA8yu\n",
       "BRwMfXA1nBxnGfbnMYSApaTg7lnArrB5Myyc3zE3MKy/wJAPlhJAqGFIZW2B8Tbsf8AQv4FBEcRm\n",
       "dzY2NraAquHZcATuzngGkAJPcPA2IJnDfWAzXM1BBgZLBr5f3CC2AZIahloOuBpPBu5/DDwCy0Ds\n",
       "u/C4KACGVQWMx/Wdge0DA8eECSAOYwBUFMxQhAebAQOvAgOf7gKwg068Bguyy3sAyY3Y44lvBiQu\n",
       "UAAA9FQ8d6roA+kAAAAASUVORK5CYII=\n",
       "\" style=\"display:inline;vertical-align:middle;\" /></a>, <a class=\"ProveItLink\" href=\"../__pv_it/demonstrations/053fb38df6fcf9baf4abe8cee7dd8e99b8a50fd80/expr.ipynb\"><img src=\"data:image/png;base64,iVBORw0KGgoAAAANSUhEUgAAAF0AAAASBAMAAADLUc9JAAAAMFBMVEX///8QEBAiIiLu7u5ERES6\n",
       "urqYmJiIiIjMzMx2dnZUVFRmZmaqqqoyMjLc3NwAAABb1yYoAAAAAXRSTlMAQObYZgAAAAlwSFlz\n",
       "AAAOxAAADsQBlSsOGwAAAXZJREFUKM9jYCAIOhkYuB8wEAPYtrVXMzCwT2DYxsCQnVG+oMwDKvEW\n",
       "XSXzFN3rLyaYBSYwAk0u5yxgYE4VY5BiqIJK30dXXyXGYP1lw+NaBn4DBgbO6wwMfOYXGH4w7ITI\n",
       "8vxHU85dOoGBIWUDw3KGQAaIegauAg4BBh2o9Ho0/3SzAI3l2sAgwbCbg4GhkjuBgYGxgd2B70MD\n",
       "WHrefAjNwO6kpAuiF7OA/JDA94FB4wTUv++BNrA5bADJ8hXUHwArZ71uANHn8BrCX8BQmQAKT64H\n",
       "DFEMvA/4loPluRnOJ0CCCaqcb0EnvmCOYeifAGbcgwpwTAjDp34Dw/sFYMYFqADfhnA8ytm9d693\n",
       "ABsrpKSkpAJ2/0s86s0ZGPgVwJHqABNyZsHrHAYmATBLASYUDQp/hgCsylmBYcP7AcwsR8Qv0EPc\n",
       "F7CqfwjELP/ATN4DMMGS2w9stLEqN/l/mYHH/y84QJmXBMPTp7w2EWmedQokPeAGAE5AWIoR4vwp\n",
       "AAAAAElFTkSuQmCC\n",
       "\" style=\"display:inline;vertical-align:middle;\" /></a>, <a class=\"ProveItLink\" href=\"../__pv_it/demonstrations/209baac38918ef8b1210d5267967da66f42b39310/expr.ipynb\"><img src=\"data:image/png;base64,iVBORw0KGgoAAAANSUhEUgAAADYAAAAQBAMAAACvnpHFAAAAMFBMVEX///+YmJgyMjJmZmZERESI\n",
       "iIiqqqoQEBDu7u66uroiIiLc3NzMzMxUVFR2dnYAAAB9mGmPAAAAAXRSTlMAQObYZgAAAAlwSFlz\n",
       "AAAOxAAADsQBlSsOGwAAANhJREFUGNNjYMAGOJ4sUt3zAKsUQ2whQ/MXA6xSzJFAPSLY5Q6zNDAw\n",
       "8KLKhaxapQCib7CA7BRAlpoUAWU4bIYJvXt7AExza0AFuC+cg7J2TeCo5k4AMpg2QEV4HkyEskoZ\n",
       "GJxZG0ByMIO4DaZC3fuBgcGID8Q6vgoIHMD27YPIsQN5z1+AWC1wR3mwQOj+AAaG9yDrGLjgcpNB\n",
       "/mOYwMAPlHsOFmENQITLBSChwMDswMBozwMWUkMEgvKGtsUg7wlGMD8Fi/R6NsDjoX7xBtRwnOcF\n",
       "CTMoAAB6EDLom0lYxwAAAABJRU5ErkJggg==\n",
       "\" style=\"display:inline;vertical-align:middle;\" /></a>, <a class=\"ProveItLink\" href=\"../__pv_it/demonstrations/a96adf032fe1e70a10118c41779605949495a8190/expr.ipynb\"><img src=\"data:image/png;base64,iVBORw0KGgoAAAANSUhEUgAAADQAAAAUBAMAAAAw+gPuAAAAMFBMVEX///8yMjLMzMzc3NyIiIhU\n",
       "VFR2dnZmZmYQEBCYmJi6urru7u5EREQiIiKqqqoAAABRQ6LBAAAAAXRSTlMAQObYZgAAAAlwSFlz\n",
       "AAAOxAAADsQBlSsOGwAAANRJREFUKM9jYMACuHMuihglYJNhcO1k2P6nAJsMuxdQxxysUuo8GxgY\n",
       "WFGkfO7eFQDR0Twg+yYgySz0hjIOmEMZb/9sYFgNpJmloQLMAWoQBmd7bgCDA5DBaACVYkpYCWHY\n",
       "MDAcYlIAScEMZi5YAmEALdjCAmJo3AWCA2C7zOD2s9mByD1w/mkehBTIKgZeOH85yF8MC8BS4OBi\n",
       "cUCERgCQAHuRTQEsIofwu7jBvusQVRCBrac2wEO+/zrEK6xQkWVnIQGFBJYx4ARZuKUO4JYywC4M\n",
       "AInOLMSMX0ERAAAAAElFTkSuQmCC\n",
       "\" style=\"display:inline;vertical-align:middle;\" /></a>, <a class=\"ProveItLink\" href=\"../__pv_it/demonstrations/b9ff765654f5a9fab1a0f971ffbd46ba878d2ac30/expr.ipynb\"><img src=\"data:image/png;base64,iVBORw0KGgoAAAANSUhEUgAAAFAAAAAVBAMAAAAjqnRBAAAAMFBMVEX///9UVFREREQyMjIQEBAi\n",
       "IiKYmJhmZmaqqqru7u7MzMyIiIi6urp2dnbc3NwAAACKehgKAAAAAXRSTlMAQObYZgAAAAlwSFlz\n",
       "AAAOxAAADsQBlSsOGwAAAYNJREFUKM+Fkj1Iw0AUx/9NP9LkTMwqInRxEEW6qQilk4OLBQldQze3\n",
       "oODk0E0QxOiggksFQUGEtg5SEREsOqgQnBw6RBc/QBQ3N+/OSxpDqQ9eLu/d79579+7BgxAVnSW1\n",
       "eFgjpQpavkOqRBHlfnbyzd1sWgmDGAIkQNqOgrUpbH3Zr8forciuADWqhQgnn7lAyUY/9pAsC3CH\n",
       "6kME3JccIGZjGnV8qAJcofokgLppZtnaJ7E6Lf2TxizJAqRJEP9twGVDHMg886XHQA6PDQoqJxZc\n",
       "UkCa0dAnBKcbR38qaUFL5xWLfIvbxP3Gqu5VBDyQCykPeWCJg/6Gbt9EQCdRpd2hXdxl9p5JJcNr\n",
       "fI+AWHM0KFVgldkbwc6QFAUX8AJCe5ZjdjLYuWZ9xEUInMccbmlRPCGptl/GoJ9sCGx6booe1Mrc\n",
       "MR6ErI9528VwanVg+LyddH3ECaZnpuiFQag81rLw3A2a2Q5zyUDCY4yiq7TEkEHJ/g8Sfl2rO3jq\n",
       "/8S6cz9QhmJCgLC/+QAAAABJRU5ErkJggg==\n",
       "\" style=\"display:inline;vertical-align:middle;\" /></a> <a class=\"ProveItLink\" href=\"../__pv_it/demonstrations/846906ee18220a1cd77aab119ae590e17d58c6500/proof.ipynb\" style=\"text-decoration: none\">&nbsp;&#x22A2;&nbsp;&nbsp;</a><a class=\"ProveItLink\" href=\"../__pv_it/demonstrations/6ac888077ce4751eeec04cabb73447d9dfa96f6d0/expr.ipynb\"><img src=\"data:image/png;base64,iVBORw0KGgoAAAANSUhEUgAAAVEAAAAVBAMAAAAN5sC/AAAAMFBMVEX////MzMxUVFRERES6uroi\n",
       "IiIQEBCYmJhmZmYyMjLu7u52dnaqqqqIiIjc3NwAAACW8nlqAAAAAXRSTlMAQObYZgAAAAlwSFlz\n",
       "AAAOxAAADsQBlSsOGwAABIhJREFUSMd9V01oXFUUPsO8ycy8eXlORbtqbVy6yphVENJMF9GNoZMS\n",
       "RSRgwKwUQ6ihiQvLECkTnUVmVxqhHQj0hxL6rFDBmHREWhQXGRCN1KQZCBFKDY2KlNg08Zz78979\n",
       "efHCycu773znfOfn/gwAtEAdPhjDtz7kla8tsIcfZyZmtA5601215Mf2hgZY5bq1cMJp8meuKGde\n",
       "VtT7Yxishmb+f2hYQeOB7apfqv6oob2APbLb/PXhr5/BisYUeX+vOhizCJAJYUbL9OJ0XZ/RsILG\n",
       "JdsVqZG4NQ19jT+WOdNEE05Dtq4yRQopFTBrUboWmVHHUUh3GFMKVtDw9mNczXLJ6Emp8MfUHntc\n",
       "B+iDdFlh6mKgObVfJi1KlciMMtwAnJIxp2AFjUxny3Y1yaVNBw9zVg//lPmfAnhPYephj/sFBdBW\n",
       "NzkNh2a0UiMNM6cKVtBYup23XZEayg96j/EibLXvCqbe2wDnFaY5+nNRQWTNRiUTXi2O6R0zKAXL\n",
       "afjN9YbtitRQqvS+cFPsPBm+EsreY7bsX+i6gNZvSqbzFYT/LLrfe+cVcOqQMxNFJpiZ3MKLyvSJ\n",
       "jZeitrSxVY6F5THbFamhUMI2i+6o34iidBqJJzyqiT4M4SPJNLgLV2C9zvv8TPUUJSrN0nfuDRqn\n",
       "IMoA+INwufVHSCVIjw+ELxqWDV631+FYYLsiNZQh/PcDgO52VppUg4fm/yXyn8ZGuSuYJhrn4Cx1\n",
       "VKbIOiiZP4TpMVuSTJC0NSFZvhcxBfgw3LBs7BCvJTzqsF2RGsoIvuGW9GmONzbrkJ+mp/6m5zym\n",
       "F78dE0xdDCnAMCCB5jAyt4krLrFtLpMilxk0XKMM3aiJhXwSxJuGdXdoeoT1cvd0Z8F2RWooqNKG\n",
       "X299HTElq/+w3kIwxvOqrL73L8Lno319CVPnDB/A9F2EvE+FStEu52AX/QLyTcO+FTJF08+UbFek\n",
       "hoJpv4HMbjfC0lEo8KaoWBJjuiOZZmrYzVjQrDijF2lxlIw+FdV3nyJkN+RPJetSA4qwUfUxiNSw\n",
       "7YrUUHowDmR6iwOSdMi/Jk81LNThluwvghfSdQfTtSHMLwBvZG2QCRJiGuU7iwUcVdUMbA/lfUwc\n",
       "44YrUkPBLShTgPRMgtPBFPpkvxcZuhVwBsMdBOHOaA7G8d9vhPkvon0tGmJPgU/wYNkOr11Xx6Cv\n",
       "qKoZWNoJf6c492xXYt97nuKbuJdZ5Ad9CdzenTp8t/85Zvy5NTY7GO78z365RoWXRaOWSxUNpmiC\n",
       "Se6rj+vVppz9tv+3pqZmYJHG3P4seL07geWK1FBSec3AgJodsaeUojPqCNu3xaIA2lE2rdNowDAj\n",
       "Nyl9GFiNhuFqk0u6fNClQTIVlwcGZ/tjUiwoJ4i9i0zG3VtMpiZWo2G4klee4/p6UK7e8/yxocAD\n",
       "5WbIZvyCxZRMJI3fAm7T7GYTe9xkGroiNaY6p5tU0Cc0GwzOHK5ISmBTEiZcIwAnb4ZjYudMpqGr\n",
       "MHJfD3fLugQJe+15tcXkz537Mb86tuLMxPzW0rAqDd3VfS7/AUYUUwtfTNwKAAAAAElFTkSuQmCC\n",
       "\" style=\"display:inline;vertical-align:middle;\" /></a></span>"
      ],
      "text/plain": [
       "{beta in Complex, n in NaturalPos, m in NaturalPos, A in Complex^{n x m}, alpha in Complex, gamma in Complex, |psi〉 in Complex^{m}} |- (alpha . (A . beta) . |psi〉 . gamma) = ((alpha * beta * gamma) * (A . |psi〉))"
      ]
     },
     "metadata": {},
     "output_type": "display_data"
    }
   ],
   "source": [
    "qmult1_associated.simplification()"
   ]
  },
  {
   "cell_type": "code",
   "execution_count": 60,
   "metadata": {},
   "outputs": [
    {
     "data": {
      "text/html": [
       "<a class=\"ProveItLink\" href=\"../__pv_it/demonstrations/e3b4684c6131985a3c0f930cff0c9afe9ba7e6930/expr.ipynb\"><img src=\"data:image/png;base64,iVBORw0KGgoAAAANSUhEUgAAAhgAAABLCAMAAAAF3w5SAAAAOVBMVEX///+Dg4POzs6/v78QEBBU\n",
       "VFS6urqYmJiIiIgyMjLu7u5mZmYiIiKqqqp2dnZERETc3NzMzMwAAABTzrOzAAAAAXRSTlMAQObY\n",
       "ZgAAAAlwSFlzAAAOxAAADsQBlSsOGwAAB3VJREFUeNrtnemWqygQgJkZWWQTfP+HHWUTBUm6RyWZ\n",
       "W/WjTw6iGOqzNiGN0O/Ezk4wArlNpJ/j77ppO2u6CAH13SfrBFP8dWAY0NwjdAAYIAAGCIABAmCA\n",
       "ABgABoABYAAYAAaAAWAAGAAGgAFgABgABoABYAAYAAYIgAECYIAAGCAABgiAAWAAGAAGgAFgABhf\n",
       "BMY4nwgDMP5oMNTCgM0buCEMD/M8ABh/tivB8ywrUyRnBWA8q+WixXQFY92DVdvjJqYu02N6Dvga\n",
       "DPOOQn+lcFPOtyZdwVg3QNIaGT0iXva4nSLsJ2BUdDW1yWgr3IhxmNxEa/VpYCC2kFEbgD6jGaE1\n",
       "TxGP7sAifQGG0UwIXtGVR0qJNkpNhS/fl2B3bYk+Dgw0VcOMh0RjO8S542OPOxh5Ewy76p/iiq4C\n",
       "xe25ayscx7FreHUHgy9JiOgFxqDIFGdH0B53QEULDO7UT2SpK85ObUKW9bUVznDDIXUHA5HFmXRK\n",
       "QsjMM0g6sckbYHjti4rFUPY0imhHINlFeJj3qq3sDwbS8zzwPp4kM7Vq7APGSF+BoWQlxkjx0Hiu\n",
       "npcKn/yDEQId6zAi4+yM6NZP68Xj9gBjLYD20ArFg8RiC0PTRDBGz4L91rG3UCzO1/gcDGLNhMcU\n",
       "hjhdceZ83nK3TB5CZiW9TgnfRbZnCldYzVMWibipsCMlWGf9jCSrvzfIqMfBWMMM3eNpzUvv8ck1\n",
       "Up3WUVrH3ipbZOdHPOh4DoZef1OFSJuDoZFanB6na0K3zyjoILTEyQG9ULgbGK+XIDhzTu7zlPUb\n",
       "3NUmgRh/HIyyNP5QeSkfVIYHQuowG5wWZiwe44txxb/wfuna6+cwthqaYKwHpgwMq5BYFE5NiooE\n",
       "yaONJayw4cpthZtVr2qdgXABNxjlEaXQT/i7EiPSz7uSdfgeYYbKVTHEieAxUWSyuEu+PYNC/uJb\n",
       "8pqrPgUjZB5kzsDgniydTAGywRf5J3o5JxqMpsIRntzgNnkclv64cUO/wVOpB32893/mvx/Qkezx\n",
       "RjWPPSMYw5S57GMCEY/N5GBu3kxAak6IRIvx11yGGF5jwy5uVCteeuPmUJfTKRZoKhy5grOjMsSo\n",
       "Io0otliEB7XoMnF8Zj2G6VHlmvLXNN6V8IzPIxjbsfX5+zkY2bWXCFIdRykthj7cptfVYtV9IBic\n",
       "/iEt0eyQlFQVvtyMTQGOL4uvMe3al/sUJPSLYAyoDxhs6PByZMiN1MS2B2mZyVxl0Yhmx6K5ecv/\n",
       "leeLLTtOEUQJhu9i09QEMCZPJiHVQobeDEhL4ciBMarM5owjGy0VkuRprQ+V6RJq2B5gkD6xJynT\n",
       "Rj8R2mZg8JhMZ8eQdcWFdCh9qDSV53OOtDimyQUY3OWlRJJ9CYIsoKzpCqmXPvU2ky2FO8ui8C59\n",
       "oYtDl/pQ79Ca0sU2Cc06gGG7lD53seei6d1E5BZDpgpTOmZCJT0dkqkgkj5tH8rzt7pW0nsBhrKE\n",
       "sVwfQVcW64kxs89Jtwg3d48Nha8lldQWpj9/K/ABlU/Ehy5L+cR+JYg8Gq0txlBHj2GW6TemeqiK\n",
       "YNkpzqrZyhBzPcSo6Mpuz1HxOiT/Uu8qPLqjwX4WGGOHl2iLFR33ZoqKUzB0MZHWWv8y/K3CXNnJ\n",
       "xmBu09kPwMhqTdNBO0T/RuG+uGpn9FFgTD2Wa8mpeJOwn2OjxznYcX40aEP66W/+jq2rdIovNrPQ\n",
       "8QhGedbmBdAh8zjT57sKpz6nlR8FhpA1a3x30EFZsUiMnwHaUP5bPrDSKYYYGYxHMIg9txjbpY9r\n",
       "BabfKdxxavIRme0MBq0mqrRHNGoeCnVGEj0Jy77766V9FV0VC2bNf1b4+xnDrWDUE1X1v94/IJio\n",
       "GEnYPrCvJVRMAxf91nT1EwCjnagahfu8awUwPgiMcR5zkdLH+x2XBwMYnwCGONu7SgGMPzzGAAEw\n",
       "QAAMEAADBMAAATCeykrOD6lrR2UAxjeBcXhrxTSLr7Yu/wfAAsD4VjCIW9Vq3Ds1fvl/DCcawPhO\n",
       "MOKyGLcwUlz/H8NHDmDcBYZmtFw8UmmrSbVfBkZaje/mR14/olYAxk1gSLKtSEONtprU+2Vg4LgU\n",
       "ad3BYMbrR1QCwLgHjNXGc7stkM7aiGJt4x/PDZteKmAMMQYYl/CCTNePSCYA4x4wwh4+q7KleHFf\n",
       "37p5onWRgbyKMQaaDRf2O1w6ogUwbgJjcymbmkKbQS/MezyX7pdiZ7qahP9dB0k3JV46IriSu8AY\n",
       "/a8zRDW5n4dKbWgiqXH/J+9nzH5Vcx58DoZyZsMiWXn9iIwBGPeAYUTYRuXV5H7uLrUJn1O4RrfZ\n",
       "Mv3Z96P6LF01ArP1RyfcaH7x9KUjTgbAuLmOEQ17lv9pHovOlaQwb8LktMC1Bogi7KY4lKMuGJF/\n",
       "eojx9WBYNviSANkc/5hW45GyjLRrkqgFhplxYCDf9HHJiMIAGHdbjPhF3mzcmpg6RIDFUzymLb6a\n",
       "XzoiJQjAeAiMn4vCh8ygdWV+6YgcARifCwbI/wsMJxg0d5/IOe2S/h7h1AkB9d1oLLz0GfxfRiZn\n",
       "iPFM9sgAAAAASUVORK5CYII=\n",
       "\" style=\"display:inline;vertical-align:middle;\" /></a>"
      ],
      "text/plain": [
       "〈varphi| . alpha . [Sum_{c_{1}, c_{2}, ..., c_{j} | Q(c_{1}, c_{2}, ..., c_{j})} f(c_{1}, c_{2}, ..., c_{j})] . beta . |psi〉 . gamma . 〈varphi| . delta"
      ]
     },
     "metadata": {},
     "output_type": "display_data"
    }
   ],
   "source": [
    "qmult4"
   ]
  },
  {
   "cell_type": "code",
   "execution_count": 61,
   "metadata": {},
   "outputs": [
    {
     "ename": "KeyboardInterrupt",
     "evalue": "",
     "output_type": "error",
     "traceback": [
      "\u001b[0;31m---------------------------------------------------------------------------\u001b[0m",
      "\u001b[0;31mProofFailure\u001b[0m                              Traceback (most recent call last)",
      "\u001b[0;32m/home/wwitzel/Prove-It/packages/proveit/_core_/expression/expr.py\u001b[0m in \u001b[0;36mprove\u001b[0;34m(self, **defaults_config)\u001b[0m\n\u001b[1;32m    959\u001b[0m                     concluded_truth = self.conclude_via_implication(\n\u001b[0;32m--> 960\u001b[0;31m                             assumptions=assumptions)\n\u001b[0m\u001b[1;32m    961\u001b[0m                 \u001b[0;32mexcept\u001b[0m \u001b[0mProofFailure\u001b[0m\u001b[0;34m:\u001b[0m\u001b[0;34m\u001b[0m\u001b[0;34m\u001b[0m\u001b[0m\n",
      "\u001b[0;32m/home/wwitzel/Prove-It/packages/proveit/decorators.py\u001b[0m in \u001b[0;36mdecorated_prover\u001b[0;34m(*args, **kwargs)\u001b[0m\n\u001b[1;32m    146\u001b[0m                 \u001b[0;31m# Now call the prover function.\u001b[0m\u001b[0;34m\u001b[0m\u001b[0;34m\u001b[0m\u001b[0;34m\u001b[0m\u001b[0m\n\u001b[0;32m--> 147\u001b[0;31m                 \u001b[0mproven_truth\u001b[0m \u001b[0;34m=\u001b[0m \u001b[0mchecked_truth\u001b[0m\u001b[0;34m(\u001b[0m\u001b[0mfunc\u001b[0m\u001b[0;34m(\u001b[0m\u001b[0;34m*\u001b[0m\u001b[0margs\u001b[0m\u001b[0;34m,\u001b[0m \u001b[0;34m**\u001b[0m\u001b[0mkwargs\u001b[0m\u001b[0;34m)\u001b[0m\u001b[0;34m)\u001b[0m\u001b[0;34m\u001b[0m\u001b[0;34m\u001b[0m\u001b[0m\n\u001b[0m\u001b[1;32m    148\u001b[0m         \u001b[0;32melse\u001b[0m\u001b[0;34m:\u001b[0m\u001b[0;34m\u001b[0m\u001b[0;34m\u001b[0m\u001b[0m\n",
      "\u001b[0;32m/home/wwitzel/Prove-It/packages/proveit/_core_/expression/expr.py\u001b[0m in \u001b[0;36mconclude_via_implication\u001b[0;34m(self, **defaults_config)\u001b[0m\n\u001b[1;32m   1130\u001b[0m         \u001b[0;32mfrom\u001b[0m \u001b[0mproveit\u001b[0m\u001b[0;34m.\u001b[0m\u001b[0mlogic\u001b[0m \u001b[0;32mimport\u001b[0m \u001b[0mconclude_via_implication\u001b[0m\u001b[0;34m\u001b[0m\u001b[0;34m\u001b[0m\u001b[0m\n\u001b[0;32m-> 1131\u001b[0;31m         \u001b[0;32mreturn\u001b[0m \u001b[0mconclude_via_implication\u001b[0m\u001b[0;34m(\u001b[0m\u001b[0mself\u001b[0m\u001b[0;34m)\u001b[0m\u001b[0;34m\u001b[0m\u001b[0;34m\u001b[0m\u001b[0m\n\u001b[0m\u001b[1;32m   1132\u001b[0m \u001b[0;34m\u001b[0m\u001b[0m\n",
      "\u001b[0;32m/home/wwitzel/Prove-It/packages/proveit/decorators.py\u001b[0m in \u001b[0;36mdecorated_prover\u001b[0;34m(*args, **kwargs)\u001b[0m\n\u001b[1;32m    153\u001b[0m             \u001b[0;31m# Now call the prover function.\u001b[0m\u001b[0;34m\u001b[0m\u001b[0;34m\u001b[0m\u001b[0;34m\u001b[0m\u001b[0m\n\u001b[0;32m--> 154\u001b[0;31m             \u001b[0mproven_truth\u001b[0m \u001b[0;34m=\u001b[0m \u001b[0mchecked_truth\u001b[0m\u001b[0;34m(\u001b[0m\u001b[0mfunc\u001b[0m\u001b[0;34m(\u001b[0m\u001b[0;34m*\u001b[0m\u001b[0margs\u001b[0m\u001b[0;34m,\u001b[0m \u001b[0;34m**\u001b[0m\u001b[0mkwargs\u001b[0m\u001b[0;34m)\u001b[0m\u001b[0;34m)\u001b[0m\u001b[0;34m\u001b[0m\u001b[0;34m\u001b[0m\u001b[0m\n\u001b[0m\u001b[1;32m    155\u001b[0m \u001b[0;34m\u001b[0m\u001b[0m\n",
      "\u001b[0;32m/home/wwitzel/Prove-It/packages/proveit/logic/booleans/implication/implies.py\u001b[0m in \u001b[0;36mconclude_via_implication\u001b[0;34m(consequent, **defaults_config)\u001b[0m\n\u001b[1;32m    460\u001b[0m         \u001b[0mdefaults\u001b[0m\u001b[0;34m.\u001b[0m\u001b[0massumptions\u001b[0m\u001b[0;34m,\u001b[0m\u001b[0;34m\u001b[0m\u001b[0;34m\u001b[0m\u001b[0m\n\u001b[0;32m--> 461\u001b[0;31m         'Unable to conclude via implications')\n\u001b[0m\u001b[1;32m    462\u001b[0m \u001b[0;34m\u001b[0m\u001b[0m\n",
      "\u001b[0;31mProofFailure\u001b[0m: Unable to prove (delta . 〈varphi| . alpha . [Sum_{c_{1}, c_{2}, ..., c_{j} | Q(c_{1}, c_{2}, ..., c_{j})} f(c_{1}, c_{2}, ..., c_{j})] . beta . |psi〉 . 〈varphi|) in_c Q* assuming {alpha in Complex, beta in Complex, gamma in Complex, delta in Complex, j in NaturalPos, m in NaturalPos, n in NaturalPos, |psi〉 in Complex^{m}, A in Complex^{n x m}, B in Complex^{n x m}, C in Complex^{n x m}, D in Complex^{m x n}, |varphi〉 in Complex^{n}, forall_{b_{1}, b_{2}, ..., b_{j} | Q(b_{1}, b_{2}, ..., b_{j})} (f(b_{1}, b_{2}, ..., b_{j}) in Complex^{n x m})}:\nUnable to conclude via implications",
      "\nDuring handling of the above exception, another exception occurred:\n",
      "\u001b[0;31mProofFailure\u001b[0m                              Traceback (most recent call last)",
      "\u001b[0;32m/home/wwitzel/Prove-It/packages/proveit/_core_/expression/expr.py\u001b[0m in \u001b[0;36mprove\u001b[0;34m(self, **defaults_config)\u001b[0m\n\u001b[1;32m    959\u001b[0m                     concluded_truth = self.conclude_via_implication(\n\u001b[0;32m--> 960\u001b[0;31m                             assumptions=assumptions)\n\u001b[0m\u001b[1;32m    961\u001b[0m                 \u001b[0;32mexcept\u001b[0m \u001b[0mProofFailure\u001b[0m\u001b[0;34m:\u001b[0m\u001b[0;34m\u001b[0m\u001b[0;34m\u001b[0m\u001b[0m\n",
      "\u001b[0;32m/home/wwitzel/Prove-It/packages/proveit/decorators.py\u001b[0m in \u001b[0;36mdecorated_prover\u001b[0;34m(*args, **kwargs)\u001b[0m\n\u001b[1;32m    146\u001b[0m                 \u001b[0;31m# Now call the prover function.\u001b[0m\u001b[0;34m\u001b[0m\u001b[0;34m\u001b[0m\u001b[0;34m\u001b[0m\u001b[0m\n\u001b[0;32m--> 147\u001b[0;31m                 \u001b[0mproven_truth\u001b[0m \u001b[0;34m=\u001b[0m \u001b[0mchecked_truth\u001b[0m\u001b[0;34m(\u001b[0m\u001b[0mfunc\u001b[0m\u001b[0;34m(\u001b[0m\u001b[0;34m*\u001b[0m\u001b[0margs\u001b[0m\u001b[0;34m,\u001b[0m \u001b[0;34m**\u001b[0m\u001b[0mkwargs\u001b[0m\u001b[0;34m)\u001b[0m\u001b[0;34m)\u001b[0m\u001b[0;34m\u001b[0m\u001b[0;34m\u001b[0m\u001b[0m\n\u001b[0m\u001b[1;32m    148\u001b[0m         \u001b[0;32melse\u001b[0m\u001b[0;34m:\u001b[0m\u001b[0;34m\u001b[0m\u001b[0;34m\u001b[0m\u001b[0m\n",
      "\u001b[0;32m/home/wwitzel/Prove-It/packages/proveit/_core_/expression/expr.py\u001b[0m in \u001b[0;36mconclude_via_implication\u001b[0;34m(self, **defaults_config)\u001b[0m\n\u001b[1;32m   1130\u001b[0m         \u001b[0;32mfrom\u001b[0m \u001b[0mproveit\u001b[0m\u001b[0;34m.\u001b[0m\u001b[0mlogic\u001b[0m \u001b[0;32mimport\u001b[0m \u001b[0mconclude_via_implication\u001b[0m\u001b[0;34m\u001b[0m\u001b[0;34m\u001b[0m\u001b[0m\n\u001b[0;32m-> 1131\u001b[0;31m         \u001b[0;32mreturn\u001b[0m \u001b[0mconclude_via_implication\u001b[0m\u001b[0;34m(\u001b[0m\u001b[0mself\u001b[0m\u001b[0;34m)\u001b[0m\u001b[0;34m\u001b[0m\u001b[0;34m\u001b[0m\u001b[0m\n\u001b[0m\u001b[1;32m   1132\u001b[0m \u001b[0;34m\u001b[0m\u001b[0m\n",
      "\u001b[0;32m/home/wwitzel/Prove-It/packages/proveit/decorators.py\u001b[0m in \u001b[0;36mdecorated_prover\u001b[0;34m(*args, **kwargs)\u001b[0m\n\u001b[1;32m    153\u001b[0m             \u001b[0;31m# Now call the prover function.\u001b[0m\u001b[0;34m\u001b[0m\u001b[0;34m\u001b[0m\u001b[0;34m\u001b[0m\u001b[0m\n\u001b[0;32m--> 154\u001b[0;31m             \u001b[0mproven_truth\u001b[0m \u001b[0;34m=\u001b[0m \u001b[0mchecked_truth\u001b[0m\u001b[0;34m(\u001b[0m\u001b[0mfunc\u001b[0m\u001b[0;34m(\u001b[0m\u001b[0;34m*\u001b[0m\u001b[0margs\u001b[0m\u001b[0;34m,\u001b[0m \u001b[0;34m**\u001b[0m\u001b[0mkwargs\u001b[0m\u001b[0;34m)\u001b[0m\u001b[0;34m)\u001b[0m\u001b[0;34m\u001b[0m\u001b[0;34m\u001b[0m\u001b[0m\n\u001b[0m\u001b[1;32m    155\u001b[0m \u001b[0;34m\u001b[0m\u001b[0m\n",
      "\u001b[0;32m/home/wwitzel/Prove-It/packages/proveit/logic/booleans/implication/implies.py\u001b[0m in \u001b[0;36mconclude_via_implication\u001b[0;34m(consequent, **defaults_config)\u001b[0m\n\u001b[1;32m    460\u001b[0m         \u001b[0mdefaults\u001b[0m\u001b[0;34m.\u001b[0m\u001b[0massumptions\u001b[0m\u001b[0;34m,\u001b[0m\u001b[0;34m\u001b[0m\u001b[0;34m\u001b[0m\u001b[0m\n\u001b[0;32m--> 461\u001b[0;31m         'Unable to conclude via implications')\n\u001b[0m\u001b[1;32m    462\u001b[0m \u001b[0;34m\u001b[0m\u001b[0m\n",
      "\u001b[0;31mProofFailure\u001b[0m: Unable to prove (alpha . beta . 〈varphi| . [Sum_{c_{1}, c_{2}, ..., c_{j} | Q(c_{1}, c_{2}, ..., c_{j})} f(c_{1}, c_{2}, ..., c_{j})] . |psi〉 . 〈varphi|) in_c Q* assuming {alpha in Complex, beta in Complex, gamma in Complex, delta in Complex, j in NaturalPos, m in NaturalPos, n in NaturalPos, |psi〉 in Complex^{m}, A in Complex^{n x m}, B in Complex^{n x m}, C in Complex^{n x m}, D in Complex^{m x n}, |varphi〉 in Complex^{n}, forall_{b_{1}, b_{2}, ..., b_{j} | Q(b_{1}, b_{2}, ..., b_{j})} (f(b_{1}, b_{2}, ..., b_{j}) in Complex^{n x m})}:\nUnable to conclude via implications",
      "\nDuring handling of the above exception, another exception occurred:\n",
      "\u001b[0;31mKeyboardInterrupt\u001b[0m                         Traceback (most recent call last)",
      "\u001b[0;32m<ipython-input-61-6e6936b54b29>\u001b[0m in \u001b[0;36m<module>\u001b[0;34m\u001b[0m\n\u001b[0;32m----> 1\u001b[0;31m \u001b[0m_\u001b[0m \u001b[0;34m=\u001b[0m \u001b[0mqmult4\u001b[0m\u001b[0;34m.\u001b[0m\u001b[0msimplification\u001b[0m\u001b[0;34m(\u001b[0m\u001b[0massumptions\u001b[0m\u001b[0;34m=\u001b[0m\u001b[0mdefaults\u001b[0m\u001b[0;34m.\u001b[0m\u001b[0massumptions\u001b[0m\u001b[0;34m[\u001b[0m\u001b[0;34m:\u001b[0m\u001b[0;34m-\u001b[0m\u001b[0;36m1\u001b[0m\u001b[0;34m]\u001b[0m\u001b[0;34m)\u001b[0m\u001b[0;34m\u001b[0m\u001b[0;34m\u001b[0m\u001b[0m\n\u001b[0m\u001b[1;32m      2\u001b[0m \u001b[0mproveit\u001b[0m\u001b[0;34m.\u001b[0m\u001b[0mmagics\u001b[0m\u001b[0;34m.\u001b[0m\u001b[0mdisplay_assignments\u001b[0m\u001b[0;34m(\u001b[0m\u001b[0;34m[\u001b[0m\u001b[0;34m'_'\u001b[0m\u001b[0;34m]\u001b[0m\u001b[0;34m,\u001b[0m \u001b[0;34m[\u001b[0m\u001b[0m_\u001b[0m\u001b[0;34m]\u001b[0m\u001b[0;34m)\u001b[0m\u001b[0;34m\u001b[0m\u001b[0;34m\u001b[0m\u001b[0m\n",
      "\u001b[0;32m/home/wwitzel/Prove-It/packages/proveit/decorators.py\u001b[0m in \u001b[0;36mwrapper\u001b[0;34m(*args, **kwargs)\u001b[0m\n\u001b[1;32m    412\u001b[0m                 \u001b[0mkwargs\u001b[0m\u001b[0;34m[\u001b[0m\u001b[0;34m'preserve_all'\u001b[0m\u001b[0;34m]\u001b[0m \u001b[0;34m=\u001b[0m \u001b[0;32mFalse\u001b[0m\u001b[0;34m\u001b[0m\u001b[0;34m\u001b[0m\u001b[0m\n\u001b[1;32m    413\u001b[0m             \u001b[0;32mif\u001b[0m \u001b[0mproven_truth\u001b[0m \u001b[0;32mis\u001b[0m \u001b[0;32mNone\u001b[0m\u001b[0;34m:\u001b[0m\u001b[0;34m\u001b[0m\u001b[0;34m\u001b[0m\u001b[0m\n\u001b[0;32m--> 414\u001b[0;31m                 \u001b[0mproven_truth\u001b[0m \u001b[0;34m=\u001b[0m \u001b[0mdecorated_relation_prover\u001b[0m\u001b[0;34m(\u001b[0m\u001b[0;34m*\u001b[0m\u001b[0margs\u001b[0m\u001b[0;34m,\u001b[0m \u001b[0;34m**\u001b[0m\u001b[0mkwargs\u001b[0m\u001b[0;34m)\u001b[0m\u001b[0;34m\u001b[0m\u001b[0;34m\u001b[0m\u001b[0m\n\u001b[0m\u001b[1;32m    415\u001b[0m             \u001b[0mproven_expr\u001b[0m \u001b[0;34m=\u001b[0m \u001b[0mproven_truth\u001b[0m\u001b[0;34m.\u001b[0m\u001b[0mexpr\u001b[0m\u001b[0;34m\u001b[0m\u001b[0;34m\u001b[0m\u001b[0m\n\u001b[1;32m    416\u001b[0m             \u001b[0;32mif\u001b[0m \u001b[0;32mnot\u001b[0m \u001b[0misinstance\u001b[0m\u001b[0;34m(\u001b[0m\u001b[0mproven_expr\u001b[0m\u001b[0;34m,\u001b[0m \u001b[0mEquals\u001b[0m\u001b[0;34m)\u001b[0m\u001b[0;34m:\u001b[0m\u001b[0;34m\u001b[0m\u001b[0;34m\u001b[0m\u001b[0m\n",
      "\u001b[0;32m/home/wwitzel/Prove-It/packages/proveit/decorators.py\u001b[0m in \u001b[0;36mdecorated_relation_prover\u001b[0;34m(*args, **kwargs)\u001b[0m\n\u001b[1;32m    233\u001b[0m \u001b[0;34m\u001b[0m\u001b[0m\n\u001b[1;32m    234\u001b[0m         \u001b[0;31m# Use the regular @prover wrapper.\u001b[0m\u001b[0;34m\u001b[0m\u001b[0;34m\u001b[0m\u001b[0;34m\u001b[0m\u001b[0m\n\u001b[0;32m--> 235\u001b[0;31m         \u001b[0mproven_truth\u001b[0m \u001b[0;34m=\u001b[0m \u001b[0mdecorated_prover\u001b[0m\u001b[0;34m(\u001b[0m\u001b[0;34m*\u001b[0m\u001b[0margs\u001b[0m\u001b[0;34m,\u001b[0m \u001b[0;34m**\u001b[0m\u001b[0mkwargs\u001b[0m\u001b[0;34m)\u001b[0m\u001b[0;34m\u001b[0m\u001b[0;34m\u001b[0m\u001b[0m\n\u001b[0m\u001b[1;32m    236\u001b[0m \u001b[0;34m\u001b[0m\u001b[0m\n\u001b[1;32m    237\u001b[0m         \u001b[0;31m# Check that the result is of the expected form.\u001b[0m\u001b[0;34m\u001b[0m\u001b[0;34m\u001b[0m\u001b[0;34m\u001b[0m\u001b[0m\n",
      "\u001b[0;32m/home/wwitzel/Prove-It/packages/proveit/decorators.py\u001b[0m in \u001b[0;36mdecorated_prover\u001b[0;34m(*args, **kwargs)\u001b[0m\n\u001b[1;32m    145\u001b[0m                 \u001b[0mAssumption\u001b[0m\u001b[0;34m.\u001b[0m\u001b[0mmake_assumptions\u001b[0m\u001b[0;34m(\u001b[0m\u001b[0;34m)\u001b[0m\u001b[0;34m\u001b[0m\u001b[0;34m\u001b[0m\u001b[0m\n\u001b[1;32m    146\u001b[0m                 \u001b[0;31m# Now call the prover function.\u001b[0m\u001b[0;34m\u001b[0m\u001b[0;34m\u001b[0m\u001b[0;34m\u001b[0m\u001b[0m\n\u001b[0;32m--> 147\u001b[0;31m                 \u001b[0mproven_truth\u001b[0m \u001b[0;34m=\u001b[0m \u001b[0mchecked_truth\u001b[0m\u001b[0;34m(\u001b[0m\u001b[0mfunc\u001b[0m\u001b[0;34m(\u001b[0m\u001b[0;34m*\u001b[0m\u001b[0margs\u001b[0m\u001b[0;34m,\u001b[0m \u001b[0;34m**\u001b[0m\u001b[0mkwargs\u001b[0m\u001b[0;34m)\u001b[0m\u001b[0;34m)\u001b[0m\u001b[0;34m\u001b[0m\u001b[0;34m\u001b[0m\u001b[0m\n\u001b[0m\u001b[1;32m    148\u001b[0m         \u001b[0;32melse\u001b[0m\u001b[0;34m:\u001b[0m\u001b[0;34m\u001b[0m\u001b[0;34m\u001b[0m\u001b[0m\n\u001b[1;32m    149\u001b[0m             \u001b[0;31m# No defaults reconfiguration.\u001b[0m\u001b[0;34m\u001b[0m\u001b[0;34m\u001b[0m\u001b[0;34m\u001b[0m\u001b[0m\n",
      "\u001b[0;32m/home/wwitzel/Prove-It/packages/proveit/_core_/expression/operation/operation.py\u001b[0m in \u001b[0;36msimplification\u001b[0;34m(self, **defaults_config)\u001b[0m\n\u001b[1;32m    710\u001b[0m             \u001b[0;31m# to tell it not to check for an existing evaluation if we have\u001b[0m\u001b[0;34m\u001b[0m\u001b[0;34m\u001b[0m\u001b[0;34m\u001b[0m\u001b[0m\n\u001b[1;32m    711\u001b[0m             \u001b[0;31m# already checked.\u001b[0m\u001b[0;34m\u001b[0m\u001b[0;34m\u001b[0m\u001b[0;34m\u001b[0m\u001b[0m\n\u001b[0;32m--> 712\u001b[0;31m             \u001b[0;32mreturn\u001b[0m \u001b[0mself\u001b[0m\u001b[0;34m.\u001b[0m\u001b[0mshallow_simplification\u001b[0m\u001b[0;34m(\u001b[0m\u001b[0m_no_eval_check\u001b[0m\u001b[0;34m=\u001b[0m\u001b[0;32mTrue\u001b[0m\u001b[0;34m)\u001b[0m\u001b[0;34m\u001b[0m\u001b[0;34m\u001b[0m\u001b[0m\n\u001b[0m\u001b[1;32m    713\u001b[0m         \u001b[0;32melse\u001b[0m\u001b[0;34m:\u001b[0m\u001b[0;34m\u001b[0m\u001b[0;34m\u001b[0m\u001b[0m\n\u001b[1;32m    714\u001b[0m             simplification = reduction.rhs.shallow_simplification(\n",
      "\u001b[0;32m/home/wwitzel/Prove-It/packages/proveit/decorators.py\u001b[0m in \u001b[0;36mwrapper\u001b[0;34m(*args, **kwargs)\u001b[0m\n\u001b[1;32m    412\u001b[0m                 \u001b[0mkwargs\u001b[0m\u001b[0;34m[\u001b[0m\u001b[0;34m'preserve_all'\u001b[0m\u001b[0;34m]\u001b[0m \u001b[0;34m=\u001b[0m \u001b[0;32mFalse\u001b[0m\u001b[0;34m\u001b[0m\u001b[0;34m\u001b[0m\u001b[0m\n\u001b[1;32m    413\u001b[0m             \u001b[0;32mif\u001b[0m \u001b[0mproven_truth\u001b[0m \u001b[0;32mis\u001b[0m \u001b[0;32mNone\u001b[0m\u001b[0;34m:\u001b[0m\u001b[0;34m\u001b[0m\u001b[0;34m\u001b[0m\u001b[0m\n\u001b[0;32m--> 414\u001b[0;31m                 \u001b[0mproven_truth\u001b[0m \u001b[0;34m=\u001b[0m \u001b[0mdecorated_relation_prover\u001b[0m\u001b[0;34m(\u001b[0m\u001b[0;34m*\u001b[0m\u001b[0margs\u001b[0m\u001b[0;34m,\u001b[0m \u001b[0;34m**\u001b[0m\u001b[0mkwargs\u001b[0m\u001b[0;34m)\u001b[0m\u001b[0;34m\u001b[0m\u001b[0;34m\u001b[0m\u001b[0m\n\u001b[0m\u001b[1;32m    415\u001b[0m             \u001b[0mproven_expr\u001b[0m \u001b[0;34m=\u001b[0m \u001b[0mproven_truth\u001b[0m\u001b[0;34m.\u001b[0m\u001b[0mexpr\u001b[0m\u001b[0;34m\u001b[0m\u001b[0;34m\u001b[0m\u001b[0m\n\u001b[1;32m    416\u001b[0m             \u001b[0;32mif\u001b[0m \u001b[0;32mnot\u001b[0m \u001b[0misinstance\u001b[0m\u001b[0;34m(\u001b[0m\u001b[0mproven_expr\u001b[0m\u001b[0;34m,\u001b[0m \u001b[0mEquals\u001b[0m\u001b[0;34m)\u001b[0m\u001b[0;34m:\u001b[0m\u001b[0;34m\u001b[0m\u001b[0;34m\u001b[0m\u001b[0m\n",
      "\u001b[0;32m/home/wwitzel/Prove-It/packages/proveit/decorators.py\u001b[0m in \u001b[0;36mdecorated_relation_prover\u001b[0;34m(*args, **kwargs)\u001b[0m\n\u001b[1;32m    233\u001b[0m \u001b[0;34m\u001b[0m\u001b[0m\n\u001b[1;32m    234\u001b[0m         \u001b[0;31m# Use the regular @prover wrapper.\u001b[0m\u001b[0;34m\u001b[0m\u001b[0;34m\u001b[0m\u001b[0;34m\u001b[0m\u001b[0m\n\u001b[0;32m--> 235\u001b[0;31m         \u001b[0mproven_truth\u001b[0m \u001b[0;34m=\u001b[0m \u001b[0mdecorated_prover\u001b[0m\u001b[0;34m(\u001b[0m\u001b[0;34m*\u001b[0m\u001b[0margs\u001b[0m\u001b[0;34m,\u001b[0m \u001b[0;34m**\u001b[0m\u001b[0mkwargs\u001b[0m\u001b[0;34m)\u001b[0m\u001b[0;34m\u001b[0m\u001b[0;34m\u001b[0m\u001b[0m\n\u001b[0m\u001b[1;32m    236\u001b[0m \u001b[0;34m\u001b[0m\u001b[0m\n\u001b[1;32m    237\u001b[0m         \u001b[0;31m# Check that the result is of the expected form.\u001b[0m\u001b[0;34m\u001b[0m\u001b[0;34m\u001b[0m\u001b[0;34m\u001b[0m\u001b[0m\n",
      "\u001b[0;32m/home/wwitzel/Prove-It/packages/proveit/decorators.py\u001b[0m in \u001b[0;36mdecorated_prover\u001b[0;34m(*args, **kwargs)\u001b[0m\n\u001b[1;32m    152\u001b[0m             \u001b[0mAssumption\u001b[0m\u001b[0;34m.\u001b[0m\u001b[0mmake_assumptions\u001b[0m\u001b[0;34m(\u001b[0m\u001b[0;34m)\u001b[0m\u001b[0;34m\u001b[0m\u001b[0;34m\u001b[0m\u001b[0m\n\u001b[1;32m    153\u001b[0m             \u001b[0;31m# Now call the prover function.\u001b[0m\u001b[0;34m\u001b[0m\u001b[0;34m\u001b[0m\u001b[0;34m\u001b[0m\u001b[0m\n\u001b[0;32m--> 154\u001b[0;31m             \u001b[0mproven_truth\u001b[0m \u001b[0;34m=\u001b[0m \u001b[0mchecked_truth\u001b[0m\u001b[0;34m(\u001b[0m\u001b[0mfunc\u001b[0m\u001b[0;34m(\u001b[0m\u001b[0;34m*\u001b[0m\u001b[0margs\u001b[0m\u001b[0;34m,\u001b[0m \u001b[0;34m**\u001b[0m\u001b[0mkwargs\u001b[0m\u001b[0;34m)\u001b[0m\u001b[0;34m)\u001b[0m\u001b[0;34m\u001b[0m\u001b[0;34m\u001b[0m\u001b[0m\n\u001b[0m\u001b[1;32m    155\u001b[0m \u001b[0;34m\u001b[0m\u001b[0m\n\u001b[1;32m    156\u001b[0m         \u001b[0;32mif\u001b[0m \u001b[0mis_conclude_method\u001b[0m\u001b[0;34m:\u001b[0m\u001b[0;34m\u001b[0m\u001b[0;34m\u001b[0m\u001b[0m\n",
      "\u001b[0;32m/home/wwitzel/Prove-It/packages/proveit/physics/quantum/algebra/qmult.py\u001b[0m in \u001b[0;36mshallow_simplification\u001b[0;34m(self, must_evaluate, **defaults_config)\u001b[0m\n\u001b[1;32m    147\u001b[0m         \u001b[0;32mif\u001b[0m \u001b[0mQmult\u001b[0m\u001b[0;34m.\u001b[0m\u001b[0m_simplification_directives_\u001b[0m\u001b[0;34m.\u001b[0m\u001b[0mfactor_scalars\u001b[0m\u001b[0;34m:\u001b[0m\u001b[0;34m\u001b[0m\u001b[0;34m\u001b[0m\u001b[0m\n\u001b[1;32m    148\u001b[0m             \u001b[0;31m# Next, pull out scalar factors\u001b[0m\u001b[0;34m\u001b[0m\u001b[0;34m\u001b[0m\u001b[0;34m\u001b[0m\u001b[0m\n\u001b[0;32m--> 149\u001b[0;31m             \u001b[0mexpr\u001b[0m \u001b[0;34m=\u001b[0m \u001b[0meq\u001b[0m\u001b[0;34m.\u001b[0m\u001b[0mupdate\u001b[0m\u001b[0;34m(\u001b[0m\u001b[0mexpr\u001b[0m\u001b[0;34m.\u001b[0m\u001b[0mfactorization_of_scalars\u001b[0m\u001b[0;34m(\u001b[0m\u001b[0;34m)\u001b[0m\u001b[0;34m)\u001b[0m\u001b[0;34m\u001b[0m\u001b[0;34m\u001b[0m\u001b[0m\n\u001b[0m\u001b[1;32m    150\u001b[0m \u001b[0;34m\u001b[0m\u001b[0m\n\u001b[1;32m    151\u001b[0m         \u001b[0;32mif\u001b[0m \u001b[0mQmult\u001b[0m\u001b[0;34m.\u001b[0m\u001b[0m_simplification_directives_\u001b[0m\u001b[0;34m.\u001b[0m\u001b[0muse_scalar_mult\u001b[0m\u001b[0;34m:\u001b[0m\u001b[0;34m\u001b[0m\u001b[0;34m\u001b[0m\u001b[0m\n",
      "\u001b[0;32m/home/wwitzel/Prove-It/packages/proveit/decorators.py\u001b[0m in \u001b[0;36mwrapper\u001b[0;34m(*args, **kwargs)\u001b[0m\n\u001b[1;32m    412\u001b[0m                 \u001b[0mkwargs\u001b[0m\u001b[0;34m[\u001b[0m\u001b[0;34m'preserve_all'\u001b[0m\u001b[0;34m]\u001b[0m \u001b[0;34m=\u001b[0m \u001b[0;32mFalse\u001b[0m\u001b[0;34m\u001b[0m\u001b[0;34m\u001b[0m\u001b[0m\n\u001b[1;32m    413\u001b[0m             \u001b[0;32mif\u001b[0m \u001b[0mproven_truth\u001b[0m \u001b[0;32mis\u001b[0m \u001b[0;32mNone\u001b[0m\u001b[0;34m:\u001b[0m\u001b[0;34m\u001b[0m\u001b[0;34m\u001b[0m\u001b[0m\n\u001b[0;32m--> 414\u001b[0;31m                 \u001b[0mproven_truth\u001b[0m \u001b[0;34m=\u001b[0m \u001b[0mdecorated_relation_prover\u001b[0m\u001b[0;34m(\u001b[0m\u001b[0;34m*\u001b[0m\u001b[0margs\u001b[0m\u001b[0;34m,\u001b[0m \u001b[0;34m**\u001b[0m\u001b[0mkwargs\u001b[0m\u001b[0;34m)\u001b[0m\u001b[0;34m\u001b[0m\u001b[0;34m\u001b[0m\u001b[0m\n\u001b[0m\u001b[1;32m    415\u001b[0m             \u001b[0mproven_expr\u001b[0m \u001b[0;34m=\u001b[0m \u001b[0mproven_truth\u001b[0m\u001b[0;34m.\u001b[0m\u001b[0mexpr\u001b[0m\u001b[0;34m\u001b[0m\u001b[0;34m\u001b[0m\u001b[0m\n\u001b[1;32m    416\u001b[0m             \u001b[0;32mif\u001b[0m \u001b[0;32mnot\u001b[0m \u001b[0misinstance\u001b[0m\u001b[0;34m(\u001b[0m\u001b[0mproven_expr\u001b[0m\u001b[0;34m,\u001b[0m \u001b[0mEquals\u001b[0m\u001b[0;34m)\u001b[0m\u001b[0;34m:\u001b[0m\u001b[0;34m\u001b[0m\u001b[0;34m\u001b[0m\u001b[0m\n",
      "\u001b[0;32m/home/wwitzel/Prove-It/packages/proveit/decorators.py\u001b[0m in \u001b[0;36mdecorated_relation_prover\u001b[0;34m(*args, **kwargs)\u001b[0m\n\u001b[1;32m    233\u001b[0m \u001b[0;34m\u001b[0m\u001b[0m\n\u001b[1;32m    234\u001b[0m         \u001b[0;31m# Use the regular @prover wrapper.\u001b[0m\u001b[0;34m\u001b[0m\u001b[0;34m\u001b[0m\u001b[0;34m\u001b[0m\u001b[0m\n\u001b[0;32m--> 235\u001b[0;31m         \u001b[0mproven_truth\u001b[0m \u001b[0;34m=\u001b[0m \u001b[0mdecorated_prover\u001b[0m\u001b[0;34m(\u001b[0m\u001b[0;34m*\u001b[0m\u001b[0margs\u001b[0m\u001b[0;34m,\u001b[0m \u001b[0;34m**\u001b[0m\u001b[0mkwargs\u001b[0m\u001b[0;34m)\u001b[0m\u001b[0;34m\u001b[0m\u001b[0;34m\u001b[0m\u001b[0m\n\u001b[0m\u001b[1;32m    236\u001b[0m \u001b[0;34m\u001b[0m\u001b[0m\n\u001b[1;32m    237\u001b[0m         \u001b[0;31m# Check that the result is of the expected form.\u001b[0m\u001b[0;34m\u001b[0m\u001b[0;34m\u001b[0m\u001b[0;34m\u001b[0m\u001b[0m\n",
      "\u001b[0;32m/home/wwitzel/Prove-It/packages/proveit/decorators.py\u001b[0m in \u001b[0;36mdecorated_prover\u001b[0;34m(*args, **kwargs)\u001b[0m\n\u001b[1;32m    152\u001b[0m             \u001b[0mAssumption\u001b[0m\u001b[0;34m.\u001b[0m\u001b[0mmake_assumptions\u001b[0m\u001b[0;34m(\u001b[0m\u001b[0;34m)\u001b[0m\u001b[0;34m\u001b[0m\u001b[0;34m\u001b[0m\u001b[0m\n\u001b[1;32m    153\u001b[0m             \u001b[0;31m# Now call the prover function.\u001b[0m\u001b[0;34m\u001b[0m\u001b[0;34m\u001b[0m\u001b[0;34m\u001b[0m\u001b[0m\n\u001b[0;32m--> 154\u001b[0;31m             \u001b[0mproven_truth\u001b[0m \u001b[0;34m=\u001b[0m \u001b[0mchecked_truth\u001b[0m\u001b[0;34m(\u001b[0m\u001b[0mfunc\u001b[0m\u001b[0;34m(\u001b[0m\u001b[0;34m*\u001b[0m\u001b[0margs\u001b[0m\u001b[0;34m,\u001b[0m \u001b[0;34m**\u001b[0m\u001b[0mkwargs\u001b[0m\u001b[0;34m)\u001b[0m\u001b[0;34m)\u001b[0m\u001b[0;34m\u001b[0m\u001b[0;34m\u001b[0m\u001b[0m\n\u001b[0m\u001b[1;32m    155\u001b[0m \u001b[0;34m\u001b[0m\u001b[0m\n\u001b[1;32m    156\u001b[0m         \u001b[0;32mif\u001b[0m \u001b[0mis_conclude_method\u001b[0m\u001b[0;34m:\u001b[0m\u001b[0;34m\u001b[0m\u001b[0;34m\u001b[0m\u001b[0m\n",
      "\u001b[0;32m/home/wwitzel/Prove-It/packages/proveit/physics/quantum/algebra/qmult.py\u001b[0m in \u001b[0;36mfactorization_of_scalars\u001b[0;34m(self, **defaults_config)\u001b[0m\n\u001b[1;32m    302\u001b[0m                 \u001b[0m_n\u001b[0m \u001b[0;34m=\u001b[0m \u001b[0m_C\u001b[0m\u001b[0;34m.\u001b[0m\u001b[0mnum_elements\u001b[0m\u001b[0;34m(\u001b[0m\u001b[0;34m)\u001b[0m\u001b[0;34m\u001b[0m\u001b[0;34m\u001b[0m\u001b[0m\n\u001b[1;32m    303\u001b[0m                 expr = eq.update(qmult_pulling_scalar_out_front.instantiate(\n\u001b[0;32m--> 304\u001b[0;31m                         {l:_l, n:_n, b:_b, A:_A, C:_C}, preserve_all=True))\n\u001b[0m\u001b[1;32m    305\u001b[0m                 \u001b[0mn_complex_entries\u001b[0m \u001b[0;34m+=\u001b[0m \u001b[0;36m1\u001b[0m\u001b[0;34m\u001b[0m\u001b[0;34m\u001b[0m\u001b[0m\n\u001b[1;32m    306\u001b[0m             \u001b[0;32melif\u001b[0m \u001b[0misinstance\u001b[0m\u001b[0;34m(\u001b[0m\u001b[0moperand\u001b[0m\u001b[0;34m,\u001b[0m \u001b[0mExprRange\u001b[0m\u001b[0;34m)\u001b[0m\u001b[0;34m:\u001b[0m\u001b[0;34m\u001b[0m\u001b[0;34m\u001b[0m\u001b[0m\n",
      "\u001b[0;32m/home/wwitzel/Prove-It/packages/proveit/decorators.py\u001b[0m in \u001b[0;36mdecorated_prover\u001b[0;34m(*args, **kwargs)\u001b[0m\n\u001b[1;32m    145\u001b[0m                 \u001b[0mAssumption\u001b[0m\u001b[0;34m.\u001b[0m\u001b[0mmake_assumptions\u001b[0m\u001b[0;34m(\u001b[0m\u001b[0;34m)\u001b[0m\u001b[0;34m\u001b[0m\u001b[0;34m\u001b[0m\u001b[0m\n\u001b[1;32m    146\u001b[0m                 \u001b[0;31m# Now call the prover function.\u001b[0m\u001b[0;34m\u001b[0m\u001b[0;34m\u001b[0m\u001b[0;34m\u001b[0m\u001b[0m\n\u001b[0;32m--> 147\u001b[0;31m                 \u001b[0mproven_truth\u001b[0m \u001b[0;34m=\u001b[0m \u001b[0mchecked_truth\u001b[0m\u001b[0;34m(\u001b[0m\u001b[0mfunc\u001b[0m\u001b[0;34m(\u001b[0m\u001b[0;34m*\u001b[0m\u001b[0margs\u001b[0m\u001b[0;34m,\u001b[0m \u001b[0;34m**\u001b[0m\u001b[0mkwargs\u001b[0m\u001b[0;34m)\u001b[0m\u001b[0;34m)\u001b[0m\u001b[0;34m\u001b[0m\u001b[0;34m\u001b[0m\u001b[0m\n\u001b[0m\u001b[1;32m    148\u001b[0m         \u001b[0;32melse\u001b[0m\u001b[0;34m:\u001b[0m\u001b[0;34m\u001b[0m\u001b[0;34m\u001b[0m\u001b[0m\n\u001b[1;32m    149\u001b[0m             \u001b[0;31m# No defaults reconfiguration.\u001b[0m\u001b[0;34m\u001b[0m\u001b[0;34m\u001b[0m\u001b[0;34m\u001b[0m\u001b[0m\n",
      "\u001b[0;32m/home/wwitzel/Prove-It/packages/proveit/_core_/judgment.py\u001b[0m in \u001b[0;36minstantiate\u001b[0;34m(self, repl_map, num_forall_eliminations, simplify_only_where_marked, markers_and_marked_expr, **defaults_config)\u001b[0m\n\u001b[1;32m   1071\u001b[0m                         \u001b[0mequiv_alt_expansions\u001b[0m\u001b[0;34m=\u001b[0m\u001b[0mequiv_alt_expansions\u001b[0m\u001b[0;34m,\u001b[0m\u001b[0;34m\u001b[0m\u001b[0;34m\u001b[0m\u001b[0m\n\u001b[1;32m   1072\u001b[0m                         \u001b[0msimplify_only_where_marked\u001b[0m\u001b[0;34m=\u001b[0m\u001b[0msimplify_only_where_marked\u001b[0m\u001b[0;34m,\u001b[0m\u001b[0;34m\u001b[0m\u001b[0;34m\u001b[0m\u001b[0m\n\u001b[0;32m-> 1073\u001b[0;31m                         markers_and_marked_expr=markers_and_marked_expr))\n\u001b[0m\u001b[1;32m   1074\u001b[0m         \u001b[0;32mfinally\u001b[0m\u001b[0;34m:\u001b[0m\u001b[0;34m\u001b[0m\u001b[0;34m\u001b[0m\u001b[0m\n\u001b[1;32m   1075\u001b[0m             \u001b[0;31m# Revert the preserved_exprs set back to what it was.\u001b[0m\u001b[0;34m\u001b[0m\u001b[0;34m\u001b[0m\u001b[0;34m\u001b[0m\u001b[0m\n",
      "\u001b[0;32m/home/wwitzel/Prove-It/packages/proveit/_core_/proof.py\u001b[0m in \u001b[0;36mget_instantiation\u001b[0;34m(orig_judgment, num_forall_eliminations, repl_map, equiv_alt_expansions, simplify_only_where_marked, markers_and_marked_expr)\u001b[0m\n\u001b[1;32m   1357\u001b[0m                              \u001b[0mmapping\u001b[0m\u001b[0;34m,\u001b[0m \u001b[0mmapping_key_order\u001b[0m\u001b[0;34m,\u001b[0m\u001b[0;34m\u001b[0m\u001b[0;34m\u001b[0m\u001b[0m\n\u001b[1;32m   1358\u001b[0m                              \u001b[0msimplify_only_where_marked\u001b[0m\u001b[0;34m,\u001b[0m\u001b[0;34m\u001b[0m\u001b[0;34m\u001b[0m\u001b[0m\n\u001b[0;32m-> 1359\u001b[0;31m                              markers_and_marked_expr)\n\u001b[0m\u001b[1;32m   1360\u001b[0m         \u001b[0;32massert\u001b[0m \u001b[0minst\u001b[0m\u001b[0;34m.\u001b[0m\u001b[0mmapping\u001b[0m \u001b[0;34m==\u001b[0m \u001b[0mmapping\u001b[0m\u001b[0;34m\u001b[0m\u001b[0;34m\u001b[0m\u001b[0m\n\u001b[1;32m   1361\u001b[0m         \u001b[0;31m#if not defaults.simplify_with_known_evaluations:\u001b[0m\u001b[0;34m\u001b[0m\u001b[0;34m\u001b[0m\u001b[0;34m\u001b[0m\u001b[0m\n",
      "\u001b[0;32m/home/wwitzel/Prove-It/packages/proveit/_core_/proof.py\u001b[0m in \u001b[0;36m__init__\u001b[0;34m(self, orig_judgment, num_forall_eliminations, repl_map, equiv_alt_expansions, mapping, mapping_key_order, simplify_only_where_marked, markers_and_marked_expr)\u001b[0m\n\u001b[1;32m   1557\u001b[0m                 \u001b[0mequiv_alt_expansions\u001b[0m\u001b[0;34m,\u001b[0m\u001b[0;34m\u001b[0m\u001b[0;34m\u001b[0m\u001b[0m\n\u001b[1;32m   1558\u001b[0m                 \u001b[0msimplify_only_where_marked\u001b[0m\u001b[0;34m,\u001b[0m \u001b[0mmarkers_and_marked_expr\u001b[0m\u001b[0;34m,\u001b[0m\u001b[0;34m\u001b[0m\u001b[0;34m\u001b[0m\u001b[0m\n\u001b[0;32m-> 1559\u001b[0;31m                 requirements, equality_repl_requirements)\n\u001b[0m\u001b[1;32m   1560\u001b[0m         \u001b[0;32mexcept\u001b[0m \u001b[0mLambdaApplicationError\u001b[0m \u001b[0;32mas\u001b[0m \u001b[0me\u001b[0m\u001b[0;34m:\u001b[0m\u001b[0;34m\u001b[0m\u001b[0;34m\u001b[0m\u001b[0m\n\u001b[1;32m   1561\u001b[0m             raise InstantiationFailure(orig_judgment, repl_map,\n",
      "\u001b[0;32m/home/wwitzel/Prove-It/packages/proveit/_core_/proof.py\u001b[0m in \u001b[0;36m_instantiated_expr\u001b[0;34m(original_judgment, relabel_params, relabel_param_replacements, param_to_num_operand_entries, num_forall_eliminations, repl_map, equiv_alt_expansions, simplify_only_where_marked, markers_and_marked_expr, requirements, equality_repl_requirements)\u001b[0m\n\u001b[1;32m   1881\u001b[0m                             \u001b[0msubbed_cond\u001b[0m \u001b[0;34m=\u001b[0m \u001b[0mAnd\u001b[0m\u001b[0;34m(\u001b[0m\u001b[0msubbed_cond\u001b[0m\u001b[0;34m)\u001b[0m\u001b[0;34m\u001b[0m\u001b[0;34m\u001b[0m\u001b[0m\n\u001b[1;32m   1882\u001b[0m                         \u001b[0;32mtry\u001b[0m\u001b[0;34m:\u001b[0m\u001b[0;34m\u001b[0m\u001b[0;34m\u001b[0m\u001b[0m\n\u001b[0;32m-> 1883\u001b[0;31m                             \u001b[0mrequirements\u001b[0m\u001b[0;34m.\u001b[0m\u001b[0mappend\u001b[0m\u001b[0;34m(\u001b[0m\u001b[0msubbed_cond\u001b[0m\u001b[0;34m.\u001b[0m\u001b[0mprove\u001b[0m\u001b[0;34m(\u001b[0m\u001b[0;34m)\u001b[0m\u001b[0;34m)\u001b[0m\u001b[0;34m\u001b[0m\u001b[0;34m\u001b[0m\u001b[0m\n\u001b[0m\u001b[1;32m   1884\u001b[0m                         \u001b[0;32mexcept\u001b[0m \u001b[0mProofFailure\u001b[0m\u001b[0;34m:\u001b[0m\u001b[0;34m\u001b[0m\u001b[0;34m\u001b[0m\u001b[0m\n\u001b[1;32m   1885\u001b[0m                             \u001b[0mInstantiation\u001b[0m\u001b[0;34m.\u001b[0m\u001b[0munsatisfied_condition\u001b[0m \u001b[0;34m=\u001b[0m \u001b[0msubbed_cond\u001b[0m\u001b[0;34m\u001b[0m\u001b[0;34m\u001b[0m\u001b[0m\n",
      "\u001b[0;32m/home/wwitzel/Prove-It/packages/proveit/decorators.py\u001b[0m in \u001b[0;36mdecorated_prover\u001b[0;34m(*args, **kwargs)\u001b[0m\n\u001b[1;32m    152\u001b[0m             \u001b[0mAssumption\u001b[0m\u001b[0;34m.\u001b[0m\u001b[0mmake_assumptions\u001b[0m\u001b[0;34m(\u001b[0m\u001b[0;34m)\u001b[0m\u001b[0;34m\u001b[0m\u001b[0;34m\u001b[0m\u001b[0m\n\u001b[1;32m    153\u001b[0m             \u001b[0;31m# Now call the prover function.\u001b[0m\u001b[0;34m\u001b[0m\u001b[0;34m\u001b[0m\u001b[0;34m\u001b[0m\u001b[0m\n\u001b[0;32m--> 154\u001b[0;31m             \u001b[0mproven_truth\u001b[0m \u001b[0;34m=\u001b[0m \u001b[0mchecked_truth\u001b[0m\u001b[0;34m(\u001b[0m\u001b[0mfunc\u001b[0m\u001b[0;34m(\u001b[0m\u001b[0;34m*\u001b[0m\u001b[0margs\u001b[0m\u001b[0;34m,\u001b[0m \u001b[0;34m**\u001b[0m\u001b[0mkwargs\u001b[0m\u001b[0;34m)\u001b[0m\u001b[0;34m)\u001b[0m\u001b[0;34m\u001b[0m\u001b[0;34m\u001b[0m\u001b[0m\n\u001b[0m\u001b[1;32m    155\u001b[0m \u001b[0;34m\u001b[0m\u001b[0m\n\u001b[1;32m    156\u001b[0m         \u001b[0;32mif\u001b[0m \u001b[0mis_conclude_method\u001b[0m\u001b[0;34m:\u001b[0m\u001b[0;34m\u001b[0m\u001b[0;34m\u001b[0m\u001b[0m\n",
      "\u001b[0;32m/home/wwitzel/Prove-It/packages/proveit/_core_/expression/expr.py\u001b[0m in \u001b[0;36mprove\u001b[0;34m(self, **defaults_config)\u001b[0m\n\u001b[1;32m    962\u001b[0m                     \u001b[0;31m# try the 'conclude' method of the specific Expression\u001b[0m\u001b[0;34m\u001b[0m\u001b[0;34m\u001b[0m\u001b[0;34m\u001b[0m\u001b[0m\n\u001b[1;32m    963\u001b[0m                     \u001b[0;31m# class\u001b[0m\u001b[0;34m\u001b[0m\u001b[0;34m\u001b[0m\u001b[0;34m\u001b[0m\u001b[0m\n\u001b[0;32m--> 964\u001b[0;31m                     \u001b[0mconcluded_truth\u001b[0m \u001b[0;34m=\u001b[0m \u001b[0mself\u001b[0m\u001b[0;34m.\u001b[0m\u001b[0mconclude\u001b[0m\u001b[0;34m(\u001b[0m\u001b[0massumptions\u001b[0m\u001b[0;34m=\u001b[0m\u001b[0massumptions\u001b[0m\u001b[0;34m)\u001b[0m\u001b[0;34m\u001b[0m\u001b[0;34m\u001b[0m\u001b[0m\n\u001b[0m\u001b[1;32m    965\u001b[0m             \u001b[0;32mif\u001b[0m \u001b[0mconcluded_truth\u001b[0m \u001b[0;32mis\u001b[0m \u001b[0;32mNone\u001b[0m\u001b[0;34m:\u001b[0m\u001b[0;34m\u001b[0m\u001b[0;34m\u001b[0m\u001b[0m\n\u001b[1;32m    966\u001b[0m                 raise ProofFailure(\n",
      "\u001b[0;32m/home/wwitzel/Prove-It/packages/proveit/decorators.py\u001b[0m in \u001b[0;36mdecorated_prover\u001b[0;34m(*args, **kwargs)\u001b[0m\n\u001b[1;32m    145\u001b[0m                 \u001b[0mAssumption\u001b[0m\u001b[0;34m.\u001b[0m\u001b[0mmake_assumptions\u001b[0m\u001b[0;34m(\u001b[0m\u001b[0;34m)\u001b[0m\u001b[0;34m\u001b[0m\u001b[0;34m\u001b[0m\u001b[0m\n\u001b[1;32m    146\u001b[0m                 \u001b[0;31m# Now call the prover function.\u001b[0m\u001b[0;34m\u001b[0m\u001b[0;34m\u001b[0m\u001b[0;34m\u001b[0m\u001b[0m\n\u001b[0;32m--> 147\u001b[0;31m                 \u001b[0mproven_truth\u001b[0m \u001b[0;34m=\u001b[0m \u001b[0mchecked_truth\u001b[0m\u001b[0;34m(\u001b[0m\u001b[0mfunc\u001b[0m\u001b[0;34m(\u001b[0m\u001b[0;34m*\u001b[0m\u001b[0margs\u001b[0m\u001b[0;34m,\u001b[0m \u001b[0;34m**\u001b[0m\u001b[0mkwargs\u001b[0m\u001b[0;34m)\u001b[0m\u001b[0;34m)\u001b[0m\u001b[0;34m\u001b[0m\u001b[0;34m\u001b[0m\u001b[0m\n\u001b[0m\u001b[1;32m    148\u001b[0m         \u001b[0;32melse\u001b[0m\u001b[0;34m:\u001b[0m\u001b[0;34m\u001b[0m\u001b[0;34m\u001b[0m\u001b[0m\n\u001b[1;32m    149\u001b[0m             \u001b[0;31m# No defaults reconfiguration.\u001b[0m\u001b[0;34m\u001b[0m\u001b[0;34m\u001b[0m\u001b[0;34m\u001b[0m\u001b[0m\n",
      "\u001b[0;32m/home/wwitzel/Prove-It/packages/proveit/logic/classes/membership/in_class.py\u001b[0m in \u001b[0;36mconclude\u001b[0;34m(self, **defaults_config)\u001b[0m\n\u001b[1;32m    206\u001b[0m         \u001b[0;31m# simplify both sides.\u001b[0m\u001b[0;34m\u001b[0m\u001b[0;34m\u001b[0m\u001b[0;34m\u001b[0m\u001b[0m\n\u001b[1;32m    207\u001b[0m         \u001b[0;32mtry\u001b[0m\u001b[0;34m:\u001b[0m\u001b[0;34m\u001b[0m\u001b[0;34m\u001b[0m\u001b[0m\n\u001b[0;32m--> 208\u001b[0;31m             \u001b[0;32mreturn\u001b[0m \u001b[0mRelation\u001b[0m\u001b[0;34m.\u001b[0m\u001b[0mconclude\u001b[0m\u001b[0;34m(\u001b[0m\u001b[0mself\u001b[0m\u001b[0;34m)\u001b[0m\u001b[0;34m\u001b[0m\u001b[0;34m\u001b[0m\u001b[0m\n\u001b[0m\u001b[1;32m    209\u001b[0m         \u001b[0;32mexcept\u001b[0m \u001b[0mProofFailure\u001b[0m\u001b[0;34m:\u001b[0m\u001b[0;34m\u001b[0m\u001b[0;34m\u001b[0m\u001b[0m\n\u001b[1;32m    210\u001b[0m             \u001b[0;31m# Both sides are already irreducible or simplified\u001b[0m\u001b[0;34m\u001b[0m\u001b[0;34m\u001b[0m\u001b[0;34m\u001b[0m\u001b[0m\n",
      "\u001b[0;32m/home/wwitzel/Prove-It/packages/proveit/decorators.py\u001b[0m in \u001b[0;36mdecorated_prover\u001b[0;34m(*args, **kwargs)\u001b[0m\n\u001b[1;32m    152\u001b[0m             \u001b[0mAssumption\u001b[0m\u001b[0;34m.\u001b[0m\u001b[0mmake_assumptions\u001b[0m\u001b[0;34m(\u001b[0m\u001b[0;34m)\u001b[0m\u001b[0;34m\u001b[0m\u001b[0;34m\u001b[0m\u001b[0m\n\u001b[1;32m    153\u001b[0m             \u001b[0;31m# Now call the prover function.\u001b[0m\u001b[0;34m\u001b[0m\u001b[0;34m\u001b[0m\u001b[0;34m\u001b[0m\u001b[0m\n\u001b[0;32m--> 154\u001b[0;31m             \u001b[0mproven_truth\u001b[0m \u001b[0;34m=\u001b[0m \u001b[0mchecked_truth\u001b[0m\u001b[0;34m(\u001b[0m\u001b[0mfunc\u001b[0m\u001b[0;34m(\u001b[0m\u001b[0;34m*\u001b[0m\u001b[0margs\u001b[0m\u001b[0;34m,\u001b[0m \u001b[0;34m**\u001b[0m\u001b[0mkwargs\u001b[0m\u001b[0;34m)\u001b[0m\u001b[0;34m)\u001b[0m\u001b[0;34m\u001b[0m\u001b[0;34m\u001b[0m\u001b[0m\n\u001b[0m\u001b[1;32m    155\u001b[0m \u001b[0;34m\u001b[0m\u001b[0m\n\u001b[1;32m    156\u001b[0m         \u001b[0;32mif\u001b[0m \u001b[0mis_conclude_method\u001b[0m\u001b[0;34m:\u001b[0m\u001b[0;34m\u001b[0m\u001b[0;34m\u001b[0m\u001b[0m\n",
      "\u001b[0;32m/home/wwitzel/Prove-It/packages/proveit/relation/relation.py\u001b[0m in \u001b[0;36mconclude\u001b[0;34m(self, **defaults_config)\u001b[0m\n\u001b[1;32m     42\u001b[0m         \u001b[0;31m# SHOULD WE DO SOMETHING A LITTLE DIFFERENT NOW WITH CANONICAL\u001b[0m\u001b[0;34m\u001b[0m\u001b[0;34m\u001b[0m\u001b[0;34m\u001b[0m\u001b[0m\n\u001b[1;32m     43\u001b[0m         \u001b[0;31m# FORMS.\u001b[0m\u001b[0;34m\u001b[0m\u001b[0;34m\u001b[0m\u001b[0;34m\u001b[0m\u001b[0m\n\u001b[0;32m---> 44\u001b[0;31m         \u001b[0mnormal_lhs_simplification\u001b[0m \u001b[0;34m=\u001b[0m \u001b[0mevaluation_or_simplification\u001b[0m\u001b[0;34m(\u001b[0m\u001b[0mnormal_lhs\u001b[0m\u001b[0;34m)\u001b[0m\u001b[0;34m\u001b[0m\u001b[0;34m\u001b[0m\u001b[0m\n\u001b[0m\u001b[1;32m     45\u001b[0m         \u001b[0mnormal_rhs_simplification\u001b[0m \u001b[0;34m=\u001b[0m \u001b[0mevaluation_or_simplification\u001b[0m\u001b[0;34m(\u001b[0m\u001b[0mnormal_rhs\u001b[0m\u001b[0;34m)\u001b[0m\u001b[0;34m\u001b[0m\u001b[0;34m\u001b[0m\u001b[0m\n\u001b[1;32m     46\u001b[0m         \u001b[0msimp_normal_lhs\u001b[0m \u001b[0;34m=\u001b[0m \u001b[0mnormal_lhs_simplification\u001b[0m\u001b[0;34m.\u001b[0m\u001b[0mrhs\u001b[0m\u001b[0;34m\u001b[0m\u001b[0;34m\u001b[0m\u001b[0m\n",
      "\u001b[0;32m/home/wwitzel/Prove-It/packages/proveit/logic/equality/equals.py\u001b[0m in \u001b[0;36mevaluation_or_simplification\u001b[0;34m(expr, return_none_if_trivial)\u001b[0m\n\u001b[1;32m   1483\u001b[0m         \u001b[0;31m# First try an evaluation -- this is best and it\u001b[0m\u001b[0;34m\u001b[0m\u001b[0;34m\u001b[0m\u001b[0;34m\u001b[0m\u001b[0m\n\u001b[1;32m   1484\u001b[0m         \u001b[0;31m# should fail quickly when it can't be done.\u001b[0m\u001b[0;34m\u001b[0m\u001b[0;34m\u001b[0m\u001b[0;34m\u001b[0m\u001b[0m\n\u001b[0;32m-> 1485\u001b[0;31m         \u001b[0;32mreturn\u001b[0m \u001b[0mexpr\u001b[0m\u001b[0;34m.\u001b[0m\u001b[0mevaluation\u001b[0m\u001b[0;34m(\u001b[0m\u001b[0;34m)\u001b[0m\u001b[0;34m\u001b[0m\u001b[0;34m\u001b[0m\u001b[0m\n\u001b[0m\u001b[1;32m   1486\u001b[0m     except (SimplificationError, ProofFailure,\n\u001b[1;32m   1487\u001b[0m             UnsatisfiedPrerequisites, NotImplementedError):\n",
      "\u001b[0;32m/home/wwitzel/Prove-It/packages/proveit/decorators.py\u001b[0m in \u001b[0;36mwrapper\u001b[0;34m(*args, **kwargs)\u001b[0m\n\u001b[1;32m    412\u001b[0m                 \u001b[0mkwargs\u001b[0m\u001b[0;34m[\u001b[0m\u001b[0;34m'preserve_all'\u001b[0m\u001b[0;34m]\u001b[0m \u001b[0;34m=\u001b[0m \u001b[0;32mFalse\u001b[0m\u001b[0;34m\u001b[0m\u001b[0;34m\u001b[0m\u001b[0m\n\u001b[1;32m    413\u001b[0m             \u001b[0;32mif\u001b[0m \u001b[0mproven_truth\u001b[0m \u001b[0;32mis\u001b[0m \u001b[0;32mNone\u001b[0m\u001b[0;34m:\u001b[0m\u001b[0;34m\u001b[0m\u001b[0;34m\u001b[0m\u001b[0m\n\u001b[0;32m--> 414\u001b[0;31m                 \u001b[0mproven_truth\u001b[0m \u001b[0;34m=\u001b[0m \u001b[0mdecorated_relation_prover\u001b[0m\u001b[0;34m(\u001b[0m\u001b[0;34m*\u001b[0m\u001b[0margs\u001b[0m\u001b[0;34m,\u001b[0m \u001b[0;34m**\u001b[0m\u001b[0mkwargs\u001b[0m\u001b[0;34m)\u001b[0m\u001b[0;34m\u001b[0m\u001b[0;34m\u001b[0m\u001b[0m\n\u001b[0m\u001b[1;32m    415\u001b[0m             \u001b[0mproven_expr\u001b[0m \u001b[0;34m=\u001b[0m \u001b[0mproven_truth\u001b[0m\u001b[0;34m.\u001b[0m\u001b[0mexpr\u001b[0m\u001b[0;34m\u001b[0m\u001b[0;34m\u001b[0m\u001b[0m\n\u001b[1;32m    416\u001b[0m             \u001b[0;32mif\u001b[0m \u001b[0;32mnot\u001b[0m \u001b[0misinstance\u001b[0m\u001b[0;34m(\u001b[0m\u001b[0mproven_expr\u001b[0m\u001b[0;34m,\u001b[0m \u001b[0mEquals\u001b[0m\u001b[0;34m)\u001b[0m\u001b[0;34m:\u001b[0m\u001b[0;34m\u001b[0m\u001b[0;34m\u001b[0m\u001b[0m\n",
      "\u001b[0;32m/home/wwitzel/Prove-It/packages/proveit/decorators.py\u001b[0m in \u001b[0;36mdecorated_relation_prover\u001b[0;34m(*args, **kwargs)\u001b[0m\n\u001b[1;32m    233\u001b[0m \u001b[0;34m\u001b[0m\u001b[0m\n\u001b[1;32m    234\u001b[0m         \u001b[0;31m# Use the regular @prover wrapper.\u001b[0m\u001b[0;34m\u001b[0m\u001b[0;34m\u001b[0m\u001b[0;34m\u001b[0m\u001b[0m\n\u001b[0;32m--> 235\u001b[0;31m         \u001b[0mproven_truth\u001b[0m \u001b[0;34m=\u001b[0m \u001b[0mdecorated_prover\u001b[0m\u001b[0;34m(\u001b[0m\u001b[0;34m*\u001b[0m\u001b[0margs\u001b[0m\u001b[0;34m,\u001b[0m \u001b[0;34m**\u001b[0m\u001b[0mkwargs\u001b[0m\u001b[0;34m)\u001b[0m\u001b[0;34m\u001b[0m\u001b[0;34m\u001b[0m\u001b[0m\n\u001b[0m\u001b[1;32m    236\u001b[0m \u001b[0;34m\u001b[0m\u001b[0m\n\u001b[1;32m    237\u001b[0m         \u001b[0;31m# Check that the result is of the expected form.\u001b[0m\u001b[0;34m\u001b[0m\u001b[0;34m\u001b[0m\u001b[0;34m\u001b[0m\u001b[0m\n",
      "\u001b[0;32m/home/wwitzel/Prove-It/packages/proveit/decorators.py\u001b[0m in \u001b[0;36mdecorated_prover\u001b[0;34m(*args, **kwargs)\u001b[0m\n\u001b[1;32m    145\u001b[0m                 \u001b[0mAssumption\u001b[0m\u001b[0;34m.\u001b[0m\u001b[0mmake_assumptions\u001b[0m\u001b[0;34m(\u001b[0m\u001b[0;34m)\u001b[0m\u001b[0;34m\u001b[0m\u001b[0;34m\u001b[0m\u001b[0m\n\u001b[1;32m    146\u001b[0m                 \u001b[0;31m# Now call the prover function.\u001b[0m\u001b[0;34m\u001b[0m\u001b[0;34m\u001b[0m\u001b[0;34m\u001b[0m\u001b[0m\n\u001b[0;32m--> 147\u001b[0;31m                 \u001b[0mproven_truth\u001b[0m \u001b[0;34m=\u001b[0m \u001b[0mchecked_truth\u001b[0m\u001b[0;34m(\u001b[0m\u001b[0mfunc\u001b[0m\u001b[0;34m(\u001b[0m\u001b[0;34m*\u001b[0m\u001b[0margs\u001b[0m\u001b[0;34m,\u001b[0m \u001b[0;34m**\u001b[0m\u001b[0mkwargs\u001b[0m\u001b[0;34m)\u001b[0m\u001b[0;34m)\u001b[0m\u001b[0;34m\u001b[0m\u001b[0;34m\u001b[0m\u001b[0m\n\u001b[0m\u001b[1;32m    148\u001b[0m         \u001b[0;32melse\u001b[0m\u001b[0;34m:\u001b[0m\u001b[0;34m\u001b[0m\u001b[0;34m\u001b[0m\u001b[0m\n\u001b[1;32m    149\u001b[0m             \u001b[0;31m# No defaults reconfiguration.\u001b[0m\u001b[0;34m\u001b[0m\u001b[0;34m\u001b[0m\u001b[0;34m\u001b[0m\u001b[0m\n",
      "\u001b[0;32m/home/wwitzel/Prove-It/packages/proveit/_core_/expression/operation/operation.py\u001b[0m in \u001b[0;36mevaluation\u001b[0;34m(self, **defaults_config)\u001b[0m\n\u001b[1;32m    673\u001b[0m                 \u001b[0;31m# already checked.\u001b[0m\u001b[0;34m\u001b[0m\u001b[0;34m\u001b[0m\u001b[0;34m\u001b[0m\u001b[0m\n\u001b[1;32m    674\u001b[0m                 return self.shallow_simplification(\n\u001b[0;32m--> 675\u001b[0;31m                     must_evaluate=True, _no_eval_check=True)\n\u001b[0m\u001b[1;32m    676\u001b[0m             evaluation = reduction.rhs.shallow_simplification(\n\u001b[1;32m    677\u001b[0m                     must_evaluate=True)\n",
      "\u001b[0;32m/home/wwitzel/Prove-It/packages/proveit/decorators.py\u001b[0m in \u001b[0;36mwrapper\u001b[0;34m(*args, **kwargs)\u001b[0m\n\u001b[1;32m    412\u001b[0m                 \u001b[0mkwargs\u001b[0m\u001b[0;34m[\u001b[0m\u001b[0;34m'preserve_all'\u001b[0m\u001b[0;34m]\u001b[0m \u001b[0;34m=\u001b[0m \u001b[0;32mFalse\u001b[0m\u001b[0;34m\u001b[0m\u001b[0;34m\u001b[0m\u001b[0m\n\u001b[1;32m    413\u001b[0m             \u001b[0;32mif\u001b[0m \u001b[0mproven_truth\u001b[0m \u001b[0;32mis\u001b[0m \u001b[0;32mNone\u001b[0m\u001b[0;34m:\u001b[0m\u001b[0;34m\u001b[0m\u001b[0;34m\u001b[0m\u001b[0m\n\u001b[0;32m--> 414\u001b[0;31m                 \u001b[0mproven_truth\u001b[0m \u001b[0;34m=\u001b[0m \u001b[0mdecorated_relation_prover\u001b[0m\u001b[0;34m(\u001b[0m\u001b[0;34m*\u001b[0m\u001b[0margs\u001b[0m\u001b[0;34m,\u001b[0m \u001b[0;34m**\u001b[0m\u001b[0mkwargs\u001b[0m\u001b[0;34m)\u001b[0m\u001b[0;34m\u001b[0m\u001b[0;34m\u001b[0m\u001b[0m\n\u001b[0m\u001b[1;32m    415\u001b[0m             \u001b[0mproven_expr\u001b[0m \u001b[0;34m=\u001b[0m \u001b[0mproven_truth\u001b[0m\u001b[0;34m.\u001b[0m\u001b[0mexpr\u001b[0m\u001b[0;34m\u001b[0m\u001b[0;34m\u001b[0m\u001b[0m\n\u001b[1;32m    416\u001b[0m             \u001b[0;32mif\u001b[0m \u001b[0;32mnot\u001b[0m \u001b[0misinstance\u001b[0m\u001b[0;34m(\u001b[0m\u001b[0mproven_expr\u001b[0m\u001b[0;34m,\u001b[0m \u001b[0mEquals\u001b[0m\u001b[0;34m)\u001b[0m\u001b[0;34m:\u001b[0m\u001b[0;34m\u001b[0m\u001b[0;34m\u001b[0m\u001b[0m\n",
      "\u001b[0;32m/home/wwitzel/Prove-It/packages/proveit/decorators.py\u001b[0m in \u001b[0;36mdecorated_relation_prover\u001b[0;34m(*args, **kwargs)\u001b[0m\n\u001b[1;32m    233\u001b[0m \u001b[0;34m\u001b[0m\u001b[0m\n\u001b[1;32m    234\u001b[0m         \u001b[0;31m# Use the regular @prover wrapper.\u001b[0m\u001b[0;34m\u001b[0m\u001b[0;34m\u001b[0m\u001b[0;34m\u001b[0m\u001b[0m\n\u001b[0;32m--> 235\u001b[0;31m         \u001b[0mproven_truth\u001b[0m \u001b[0;34m=\u001b[0m \u001b[0mdecorated_prover\u001b[0m\u001b[0;34m(\u001b[0m\u001b[0;34m*\u001b[0m\u001b[0margs\u001b[0m\u001b[0;34m,\u001b[0m \u001b[0;34m**\u001b[0m\u001b[0mkwargs\u001b[0m\u001b[0;34m)\u001b[0m\u001b[0;34m\u001b[0m\u001b[0;34m\u001b[0m\u001b[0m\n\u001b[0m\u001b[1;32m    236\u001b[0m \u001b[0;34m\u001b[0m\u001b[0m\n\u001b[1;32m    237\u001b[0m         \u001b[0;31m# Check that the result is of the expected form.\u001b[0m\u001b[0;34m\u001b[0m\u001b[0;34m\u001b[0m\u001b[0;34m\u001b[0m\u001b[0m\n",
      "\u001b[0;32m/home/wwitzel/Prove-It/packages/proveit/decorators.py\u001b[0m in \u001b[0;36mdecorated_prover\u001b[0;34m(*args, **kwargs)\u001b[0m\n\u001b[1;32m    152\u001b[0m             \u001b[0mAssumption\u001b[0m\u001b[0;34m.\u001b[0m\u001b[0mmake_assumptions\u001b[0m\u001b[0;34m(\u001b[0m\u001b[0;34m)\u001b[0m\u001b[0;34m\u001b[0m\u001b[0;34m\u001b[0m\u001b[0m\n\u001b[1;32m    153\u001b[0m             \u001b[0;31m# Now call the prover function.\u001b[0m\u001b[0;34m\u001b[0m\u001b[0;34m\u001b[0m\u001b[0;34m\u001b[0m\u001b[0m\n\u001b[0;32m--> 154\u001b[0;31m             \u001b[0mproven_truth\u001b[0m \u001b[0;34m=\u001b[0m \u001b[0mchecked_truth\u001b[0m\u001b[0;34m(\u001b[0m\u001b[0mfunc\u001b[0m\u001b[0;34m(\u001b[0m\u001b[0;34m*\u001b[0m\u001b[0margs\u001b[0m\u001b[0;34m,\u001b[0m \u001b[0;34m**\u001b[0m\u001b[0mkwargs\u001b[0m\u001b[0;34m)\u001b[0m\u001b[0;34m)\u001b[0m\u001b[0;34m\u001b[0m\u001b[0;34m\u001b[0m\u001b[0m\n\u001b[0m\u001b[1;32m    155\u001b[0m \u001b[0;34m\u001b[0m\u001b[0m\n\u001b[1;32m    156\u001b[0m         \u001b[0;32mif\u001b[0m \u001b[0mis_conclude_method\u001b[0m\u001b[0;34m:\u001b[0m\u001b[0;34m\u001b[0m\u001b[0;34m\u001b[0m\u001b[0m\n",
      "\u001b[0;32m/home/wwitzel/Prove-It/packages/proveit/physics/quantum/algebra/qmult.py\u001b[0m in \u001b[0;36mshallow_simplification\u001b[0;34m(self, must_evaluate, **defaults_config)\u001b[0m\n\u001b[1;32m    147\u001b[0m         \u001b[0;32mif\u001b[0m \u001b[0mQmult\u001b[0m\u001b[0;34m.\u001b[0m\u001b[0m_simplification_directives_\u001b[0m\u001b[0;34m.\u001b[0m\u001b[0mfactor_scalars\u001b[0m\u001b[0;34m:\u001b[0m\u001b[0;34m\u001b[0m\u001b[0;34m\u001b[0m\u001b[0m\n\u001b[1;32m    148\u001b[0m             \u001b[0;31m# Next, pull out scalar factors\u001b[0m\u001b[0;34m\u001b[0m\u001b[0;34m\u001b[0m\u001b[0;34m\u001b[0m\u001b[0m\n\u001b[0;32m--> 149\u001b[0;31m             \u001b[0mexpr\u001b[0m \u001b[0;34m=\u001b[0m \u001b[0meq\u001b[0m\u001b[0;34m.\u001b[0m\u001b[0mupdate\u001b[0m\u001b[0;34m(\u001b[0m\u001b[0mexpr\u001b[0m\u001b[0;34m.\u001b[0m\u001b[0mfactorization_of_scalars\u001b[0m\u001b[0;34m(\u001b[0m\u001b[0;34m)\u001b[0m\u001b[0;34m)\u001b[0m\u001b[0;34m\u001b[0m\u001b[0;34m\u001b[0m\u001b[0m\n\u001b[0m\u001b[1;32m    150\u001b[0m \u001b[0;34m\u001b[0m\u001b[0m\n\u001b[1;32m    151\u001b[0m         \u001b[0;32mif\u001b[0m \u001b[0mQmult\u001b[0m\u001b[0;34m.\u001b[0m\u001b[0m_simplification_directives_\u001b[0m\u001b[0;34m.\u001b[0m\u001b[0muse_scalar_mult\u001b[0m\u001b[0;34m:\u001b[0m\u001b[0;34m\u001b[0m\u001b[0;34m\u001b[0m\u001b[0m\n",
      "\u001b[0;32m/home/wwitzel/Prove-It/packages/proveit/decorators.py\u001b[0m in \u001b[0;36mwrapper\u001b[0;34m(*args, **kwargs)\u001b[0m\n\u001b[1;32m    412\u001b[0m                 \u001b[0mkwargs\u001b[0m\u001b[0;34m[\u001b[0m\u001b[0;34m'preserve_all'\u001b[0m\u001b[0;34m]\u001b[0m \u001b[0;34m=\u001b[0m \u001b[0;32mFalse\u001b[0m\u001b[0;34m\u001b[0m\u001b[0;34m\u001b[0m\u001b[0m\n\u001b[1;32m    413\u001b[0m             \u001b[0;32mif\u001b[0m \u001b[0mproven_truth\u001b[0m \u001b[0;32mis\u001b[0m \u001b[0;32mNone\u001b[0m\u001b[0;34m:\u001b[0m\u001b[0;34m\u001b[0m\u001b[0;34m\u001b[0m\u001b[0m\n\u001b[0;32m--> 414\u001b[0;31m                 \u001b[0mproven_truth\u001b[0m \u001b[0;34m=\u001b[0m \u001b[0mdecorated_relation_prover\u001b[0m\u001b[0;34m(\u001b[0m\u001b[0;34m*\u001b[0m\u001b[0margs\u001b[0m\u001b[0;34m,\u001b[0m \u001b[0;34m**\u001b[0m\u001b[0mkwargs\u001b[0m\u001b[0;34m)\u001b[0m\u001b[0;34m\u001b[0m\u001b[0;34m\u001b[0m\u001b[0m\n\u001b[0m\u001b[1;32m    415\u001b[0m             \u001b[0mproven_expr\u001b[0m \u001b[0;34m=\u001b[0m \u001b[0mproven_truth\u001b[0m\u001b[0;34m.\u001b[0m\u001b[0mexpr\u001b[0m\u001b[0;34m\u001b[0m\u001b[0;34m\u001b[0m\u001b[0m\n\u001b[1;32m    416\u001b[0m             \u001b[0;32mif\u001b[0m \u001b[0;32mnot\u001b[0m \u001b[0misinstance\u001b[0m\u001b[0;34m(\u001b[0m\u001b[0mproven_expr\u001b[0m\u001b[0;34m,\u001b[0m \u001b[0mEquals\u001b[0m\u001b[0;34m)\u001b[0m\u001b[0;34m:\u001b[0m\u001b[0;34m\u001b[0m\u001b[0;34m\u001b[0m\u001b[0m\n",
      "\u001b[0;32m/home/wwitzel/Prove-It/packages/proveit/decorators.py\u001b[0m in \u001b[0;36mdecorated_relation_prover\u001b[0;34m(*args, **kwargs)\u001b[0m\n\u001b[1;32m    233\u001b[0m \u001b[0;34m\u001b[0m\u001b[0m\n\u001b[1;32m    234\u001b[0m         \u001b[0;31m# Use the regular @prover wrapper.\u001b[0m\u001b[0;34m\u001b[0m\u001b[0;34m\u001b[0m\u001b[0;34m\u001b[0m\u001b[0m\n\u001b[0;32m--> 235\u001b[0;31m         \u001b[0mproven_truth\u001b[0m \u001b[0;34m=\u001b[0m \u001b[0mdecorated_prover\u001b[0m\u001b[0;34m(\u001b[0m\u001b[0;34m*\u001b[0m\u001b[0margs\u001b[0m\u001b[0;34m,\u001b[0m \u001b[0;34m**\u001b[0m\u001b[0mkwargs\u001b[0m\u001b[0;34m)\u001b[0m\u001b[0;34m\u001b[0m\u001b[0;34m\u001b[0m\u001b[0m\n\u001b[0m\u001b[1;32m    236\u001b[0m \u001b[0;34m\u001b[0m\u001b[0m\n\u001b[1;32m    237\u001b[0m         \u001b[0;31m# Check that the result is of the expected form.\u001b[0m\u001b[0;34m\u001b[0m\u001b[0;34m\u001b[0m\u001b[0;34m\u001b[0m\u001b[0m\n",
      "\u001b[0;32m/home/wwitzel/Prove-It/packages/proveit/decorators.py\u001b[0m in \u001b[0;36mdecorated_prover\u001b[0;34m(*args, **kwargs)\u001b[0m\n\u001b[1;32m    152\u001b[0m             \u001b[0mAssumption\u001b[0m\u001b[0;34m.\u001b[0m\u001b[0mmake_assumptions\u001b[0m\u001b[0;34m(\u001b[0m\u001b[0;34m)\u001b[0m\u001b[0;34m\u001b[0m\u001b[0;34m\u001b[0m\u001b[0m\n\u001b[1;32m    153\u001b[0m             \u001b[0;31m# Now call the prover function.\u001b[0m\u001b[0;34m\u001b[0m\u001b[0;34m\u001b[0m\u001b[0;34m\u001b[0m\u001b[0m\n\u001b[0;32m--> 154\u001b[0;31m             \u001b[0mproven_truth\u001b[0m \u001b[0;34m=\u001b[0m \u001b[0mchecked_truth\u001b[0m\u001b[0;34m(\u001b[0m\u001b[0mfunc\u001b[0m\u001b[0;34m(\u001b[0m\u001b[0;34m*\u001b[0m\u001b[0margs\u001b[0m\u001b[0;34m,\u001b[0m \u001b[0;34m**\u001b[0m\u001b[0mkwargs\u001b[0m\u001b[0;34m)\u001b[0m\u001b[0;34m)\u001b[0m\u001b[0;34m\u001b[0m\u001b[0;34m\u001b[0m\u001b[0m\n\u001b[0m\u001b[1;32m    155\u001b[0m \u001b[0;34m\u001b[0m\u001b[0m\n\u001b[1;32m    156\u001b[0m         \u001b[0;32mif\u001b[0m \u001b[0mis_conclude_method\u001b[0m\u001b[0;34m:\u001b[0m\u001b[0;34m\u001b[0m\u001b[0;34m\u001b[0m\u001b[0m\n",
      "\u001b[0;32m/home/wwitzel/Prove-It/packages/proveit/physics/quantum/algebra/qmult.py\u001b[0m in \u001b[0;36mfactorization_of_scalars\u001b[0;34m(self, **defaults_config)\u001b[0m\n\u001b[1;32m    302\u001b[0m                 \u001b[0m_n\u001b[0m \u001b[0;34m=\u001b[0m \u001b[0m_C\u001b[0m\u001b[0;34m.\u001b[0m\u001b[0mnum_elements\u001b[0m\u001b[0;34m(\u001b[0m\u001b[0;34m)\u001b[0m\u001b[0;34m\u001b[0m\u001b[0;34m\u001b[0m\u001b[0m\n\u001b[1;32m    303\u001b[0m                 expr = eq.update(qmult_pulling_scalar_out_front.instantiate(\n\u001b[0;32m--> 304\u001b[0;31m                         {l:_l, n:_n, b:_b, A:_A, C:_C}, preserve_all=True))\n\u001b[0m\u001b[1;32m    305\u001b[0m                 \u001b[0mn_complex_entries\u001b[0m \u001b[0;34m+=\u001b[0m \u001b[0;36m1\u001b[0m\u001b[0;34m\u001b[0m\u001b[0;34m\u001b[0m\u001b[0m\n\u001b[1;32m    306\u001b[0m             \u001b[0;32melif\u001b[0m \u001b[0misinstance\u001b[0m\u001b[0;34m(\u001b[0m\u001b[0moperand\u001b[0m\u001b[0;34m,\u001b[0m \u001b[0mExprRange\u001b[0m\u001b[0;34m)\u001b[0m\u001b[0;34m:\u001b[0m\u001b[0;34m\u001b[0m\u001b[0;34m\u001b[0m\u001b[0m\n",
      "\u001b[0;32m/home/wwitzel/Prove-It/packages/proveit/decorators.py\u001b[0m in \u001b[0;36mdecorated_prover\u001b[0;34m(*args, **kwargs)\u001b[0m\n\u001b[1;32m    145\u001b[0m                 \u001b[0mAssumption\u001b[0m\u001b[0;34m.\u001b[0m\u001b[0mmake_assumptions\u001b[0m\u001b[0;34m(\u001b[0m\u001b[0;34m)\u001b[0m\u001b[0;34m\u001b[0m\u001b[0;34m\u001b[0m\u001b[0m\n\u001b[1;32m    146\u001b[0m                 \u001b[0;31m# Now call the prover function.\u001b[0m\u001b[0;34m\u001b[0m\u001b[0;34m\u001b[0m\u001b[0;34m\u001b[0m\u001b[0m\n\u001b[0;32m--> 147\u001b[0;31m                 \u001b[0mproven_truth\u001b[0m \u001b[0;34m=\u001b[0m \u001b[0mchecked_truth\u001b[0m\u001b[0;34m(\u001b[0m\u001b[0mfunc\u001b[0m\u001b[0;34m(\u001b[0m\u001b[0;34m*\u001b[0m\u001b[0margs\u001b[0m\u001b[0;34m,\u001b[0m \u001b[0;34m**\u001b[0m\u001b[0mkwargs\u001b[0m\u001b[0;34m)\u001b[0m\u001b[0;34m)\u001b[0m\u001b[0;34m\u001b[0m\u001b[0;34m\u001b[0m\u001b[0m\n\u001b[0m\u001b[1;32m    148\u001b[0m         \u001b[0;32melse\u001b[0m\u001b[0;34m:\u001b[0m\u001b[0;34m\u001b[0m\u001b[0;34m\u001b[0m\u001b[0m\n\u001b[1;32m    149\u001b[0m             \u001b[0;31m# No defaults reconfiguration.\u001b[0m\u001b[0;34m\u001b[0m\u001b[0;34m\u001b[0m\u001b[0;34m\u001b[0m\u001b[0m\n",
      "\u001b[0;32m/home/wwitzel/Prove-It/packages/proveit/_core_/judgment.py\u001b[0m in \u001b[0;36minstantiate\u001b[0;34m(self, repl_map, num_forall_eliminations, simplify_only_where_marked, markers_and_marked_expr, **defaults_config)\u001b[0m\n\u001b[1;32m   1071\u001b[0m                         \u001b[0mequiv_alt_expansions\u001b[0m\u001b[0;34m=\u001b[0m\u001b[0mequiv_alt_expansions\u001b[0m\u001b[0;34m,\u001b[0m\u001b[0;34m\u001b[0m\u001b[0;34m\u001b[0m\u001b[0m\n\u001b[1;32m   1072\u001b[0m                         \u001b[0msimplify_only_where_marked\u001b[0m\u001b[0;34m=\u001b[0m\u001b[0msimplify_only_where_marked\u001b[0m\u001b[0;34m,\u001b[0m\u001b[0;34m\u001b[0m\u001b[0;34m\u001b[0m\u001b[0m\n\u001b[0;32m-> 1073\u001b[0;31m                         markers_and_marked_expr=markers_and_marked_expr))\n\u001b[0m\u001b[1;32m   1074\u001b[0m         \u001b[0;32mfinally\u001b[0m\u001b[0;34m:\u001b[0m\u001b[0;34m\u001b[0m\u001b[0;34m\u001b[0m\u001b[0m\n\u001b[1;32m   1075\u001b[0m             \u001b[0;31m# Revert the preserved_exprs set back to what it was.\u001b[0m\u001b[0;34m\u001b[0m\u001b[0;34m\u001b[0m\u001b[0;34m\u001b[0m\u001b[0m\n",
      "\u001b[0;32m/home/wwitzel/Prove-It/packages/proveit/_core_/proof.py\u001b[0m in \u001b[0;36mget_instantiation\u001b[0;34m(orig_judgment, num_forall_eliminations, repl_map, equiv_alt_expansions, simplify_only_where_marked, markers_and_marked_expr)\u001b[0m\n\u001b[1;32m   1357\u001b[0m                              \u001b[0mmapping\u001b[0m\u001b[0;34m,\u001b[0m \u001b[0mmapping_key_order\u001b[0m\u001b[0;34m,\u001b[0m\u001b[0;34m\u001b[0m\u001b[0;34m\u001b[0m\u001b[0m\n\u001b[1;32m   1358\u001b[0m                              \u001b[0msimplify_only_where_marked\u001b[0m\u001b[0;34m,\u001b[0m\u001b[0;34m\u001b[0m\u001b[0;34m\u001b[0m\u001b[0m\n\u001b[0;32m-> 1359\u001b[0;31m                              markers_and_marked_expr)\n\u001b[0m\u001b[1;32m   1360\u001b[0m         \u001b[0;32massert\u001b[0m \u001b[0minst\u001b[0m\u001b[0;34m.\u001b[0m\u001b[0mmapping\u001b[0m \u001b[0;34m==\u001b[0m \u001b[0mmapping\u001b[0m\u001b[0;34m\u001b[0m\u001b[0;34m\u001b[0m\u001b[0m\n\u001b[1;32m   1361\u001b[0m         \u001b[0;31m#if not defaults.simplify_with_known_evaluations:\u001b[0m\u001b[0;34m\u001b[0m\u001b[0;34m\u001b[0m\u001b[0;34m\u001b[0m\u001b[0m\n",
      "\u001b[0;32m/home/wwitzel/Prove-It/packages/proveit/_core_/proof.py\u001b[0m in \u001b[0;36m__init__\u001b[0;34m(self, orig_judgment, num_forall_eliminations, repl_map, equiv_alt_expansions, mapping, mapping_key_order, simplify_only_where_marked, markers_and_marked_expr)\u001b[0m\n\u001b[1;32m   1557\u001b[0m                 \u001b[0mequiv_alt_expansions\u001b[0m\u001b[0;34m,\u001b[0m\u001b[0;34m\u001b[0m\u001b[0;34m\u001b[0m\u001b[0m\n\u001b[1;32m   1558\u001b[0m                 \u001b[0msimplify_only_where_marked\u001b[0m\u001b[0;34m,\u001b[0m \u001b[0mmarkers_and_marked_expr\u001b[0m\u001b[0;34m,\u001b[0m\u001b[0;34m\u001b[0m\u001b[0;34m\u001b[0m\u001b[0m\n\u001b[0;32m-> 1559\u001b[0;31m                 requirements, equality_repl_requirements)\n\u001b[0m\u001b[1;32m   1560\u001b[0m         \u001b[0;32mexcept\u001b[0m \u001b[0mLambdaApplicationError\u001b[0m \u001b[0;32mas\u001b[0m \u001b[0me\u001b[0m\u001b[0;34m:\u001b[0m\u001b[0;34m\u001b[0m\u001b[0;34m\u001b[0m\u001b[0m\n\u001b[1;32m   1561\u001b[0m             raise InstantiationFailure(orig_judgment, repl_map,\n",
      "\u001b[0;32m/home/wwitzel/Prove-It/packages/proveit/_core_/proof.py\u001b[0m in \u001b[0;36m_instantiated_expr\u001b[0;34m(original_judgment, relabel_params, relabel_param_replacements, param_to_num_operand_entries, num_forall_eliminations, repl_map, equiv_alt_expansions, simplify_only_where_marked, markers_and_marked_expr, requirements, equality_repl_requirements)\u001b[0m\n\u001b[1;32m   1881\u001b[0m                             \u001b[0msubbed_cond\u001b[0m \u001b[0;34m=\u001b[0m \u001b[0mAnd\u001b[0m\u001b[0;34m(\u001b[0m\u001b[0msubbed_cond\u001b[0m\u001b[0;34m)\u001b[0m\u001b[0;34m\u001b[0m\u001b[0;34m\u001b[0m\u001b[0m\n\u001b[1;32m   1882\u001b[0m                         \u001b[0;32mtry\u001b[0m\u001b[0;34m:\u001b[0m\u001b[0;34m\u001b[0m\u001b[0;34m\u001b[0m\u001b[0m\n\u001b[0;32m-> 1883\u001b[0;31m                             \u001b[0mrequirements\u001b[0m\u001b[0;34m.\u001b[0m\u001b[0mappend\u001b[0m\u001b[0;34m(\u001b[0m\u001b[0msubbed_cond\u001b[0m\u001b[0;34m.\u001b[0m\u001b[0mprove\u001b[0m\u001b[0;34m(\u001b[0m\u001b[0;34m)\u001b[0m\u001b[0;34m)\u001b[0m\u001b[0;34m\u001b[0m\u001b[0;34m\u001b[0m\u001b[0m\n\u001b[0m\u001b[1;32m   1884\u001b[0m                         \u001b[0;32mexcept\u001b[0m \u001b[0mProofFailure\u001b[0m\u001b[0;34m:\u001b[0m\u001b[0;34m\u001b[0m\u001b[0;34m\u001b[0m\u001b[0m\n\u001b[1;32m   1885\u001b[0m                             \u001b[0mInstantiation\u001b[0m\u001b[0;34m.\u001b[0m\u001b[0munsatisfied_condition\u001b[0m \u001b[0;34m=\u001b[0m \u001b[0msubbed_cond\u001b[0m\u001b[0;34m\u001b[0m\u001b[0;34m\u001b[0m\u001b[0m\n",
      "\u001b[0;32m/home/wwitzel/Prove-It/packages/proveit/decorators.py\u001b[0m in \u001b[0;36mdecorated_prover\u001b[0;34m(*args, **kwargs)\u001b[0m\n\u001b[1;32m    152\u001b[0m             \u001b[0mAssumption\u001b[0m\u001b[0;34m.\u001b[0m\u001b[0mmake_assumptions\u001b[0m\u001b[0;34m(\u001b[0m\u001b[0;34m)\u001b[0m\u001b[0;34m\u001b[0m\u001b[0;34m\u001b[0m\u001b[0m\n\u001b[1;32m    153\u001b[0m             \u001b[0;31m# Now call the prover function.\u001b[0m\u001b[0;34m\u001b[0m\u001b[0;34m\u001b[0m\u001b[0;34m\u001b[0m\u001b[0m\n\u001b[0;32m--> 154\u001b[0;31m             \u001b[0mproven_truth\u001b[0m \u001b[0;34m=\u001b[0m \u001b[0mchecked_truth\u001b[0m\u001b[0;34m(\u001b[0m\u001b[0mfunc\u001b[0m\u001b[0;34m(\u001b[0m\u001b[0;34m*\u001b[0m\u001b[0margs\u001b[0m\u001b[0;34m,\u001b[0m \u001b[0;34m**\u001b[0m\u001b[0mkwargs\u001b[0m\u001b[0;34m)\u001b[0m\u001b[0;34m)\u001b[0m\u001b[0;34m\u001b[0m\u001b[0;34m\u001b[0m\u001b[0m\n\u001b[0m\u001b[1;32m    155\u001b[0m \u001b[0;34m\u001b[0m\u001b[0m\n\u001b[1;32m    156\u001b[0m         \u001b[0;32mif\u001b[0m \u001b[0mis_conclude_method\u001b[0m\u001b[0;34m:\u001b[0m\u001b[0;34m\u001b[0m\u001b[0;34m\u001b[0m\u001b[0m\n",
      "\u001b[0;32m/home/wwitzel/Prove-It/packages/proveit/_core_/expression/expr.py\u001b[0m in \u001b[0;36mprove\u001b[0;34m(self, **defaults_config)\u001b[0m\n\u001b[1;32m    962\u001b[0m                     \u001b[0;31m# try the 'conclude' method of the specific Expression\u001b[0m\u001b[0;34m\u001b[0m\u001b[0;34m\u001b[0m\u001b[0;34m\u001b[0m\u001b[0m\n\u001b[1;32m    963\u001b[0m                     \u001b[0;31m# class\u001b[0m\u001b[0;34m\u001b[0m\u001b[0;34m\u001b[0m\u001b[0;34m\u001b[0m\u001b[0m\n\u001b[0;32m--> 964\u001b[0;31m                     \u001b[0mconcluded_truth\u001b[0m \u001b[0;34m=\u001b[0m \u001b[0mself\u001b[0m\u001b[0;34m.\u001b[0m\u001b[0mconclude\u001b[0m\u001b[0;34m(\u001b[0m\u001b[0massumptions\u001b[0m\u001b[0;34m=\u001b[0m\u001b[0massumptions\u001b[0m\u001b[0;34m)\u001b[0m\u001b[0;34m\u001b[0m\u001b[0;34m\u001b[0m\u001b[0m\n\u001b[0m\u001b[1;32m    965\u001b[0m             \u001b[0;32mif\u001b[0m \u001b[0mconcluded_truth\u001b[0m \u001b[0;32mis\u001b[0m \u001b[0;32mNone\u001b[0m\u001b[0;34m:\u001b[0m\u001b[0;34m\u001b[0m\u001b[0;34m\u001b[0m\u001b[0m\n\u001b[1;32m    966\u001b[0m                 raise ProofFailure(\n",
      "\u001b[0;32m/home/wwitzel/Prove-It/packages/proveit/decorators.py\u001b[0m in \u001b[0;36mdecorated_prover\u001b[0;34m(*args, **kwargs)\u001b[0m\n\u001b[1;32m    145\u001b[0m                 \u001b[0mAssumption\u001b[0m\u001b[0;34m.\u001b[0m\u001b[0mmake_assumptions\u001b[0m\u001b[0;34m(\u001b[0m\u001b[0;34m)\u001b[0m\u001b[0;34m\u001b[0m\u001b[0;34m\u001b[0m\u001b[0m\n\u001b[1;32m    146\u001b[0m                 \u001b[0;31m# Now call the prover function.\u001b[0m\u001b[0;34m\u001b[0m\u001b[0;34m\u001b[0m\u001b[0;34m\u001b[0m\u001b[0m\n\u001b[0;32m--> 147\u001b[0;31m                 \u001b[0mproven_truth\u001b[0m \u001b[0;34m=\u001b[0m \u001b[0mchecked_truth\u001b[0m\u001b[0;34m(\u001b[0m\u001b[0mfunc\u001b[0m\u001b[0;34m(\u001b[0m\u001b[0;34m*\u001b[0m\u001b[0margs\u001b[0m\u001b[0;34m,\u001b[0m \u001b[0;34m**\u001b[0m\u001b[0mkwargs\u001b[0m\u001b[0;34m)\u001b[0m\u001b[0;34m)\u001b[0m\u001b[0;34m\u001b[0m\u001b[0;34m\u001b[0m\u001b[0m\n\u001b[0m\u001b[1;32m    148\u001b[0m         \u001b[0;32melse\u001b[0m\u001b[0;34m:\u001b[0m\u001b[0;34m\u001b[0m\u001b[0;34m\u001b[0m\u001b[0m\n\u001b[1;32m    149\u001b[0m             \u001b[0;31m# No defaults reconfiguration.\u001b[0m\u001b[0;34m\u001b[0m\u001b[0;34m\u001b[0m\u001b[0;34m\u001b[0m\u001b[0m\n",
      "\u001b[0;32m/home/wwitzel/Prove-It/packages/proveit/logic/classes/membership/in_class.py\u001b[0m in \u001b[0;36mconclude\u001b[0;34m(self, **defaults_config)\u001b[0m\n\u001b[1;32m    206\u001b[0m         \u001b[0;31m# simplify both sides.\u001b[0m\u001b[0;34m\u001b[0m\u001b[0;34m\u001b[0m\u001b[0;34m\u001b[0m\u001b[0m\n\u001b[1;32m    207\u001b[0m         \u001b[0;32mtry\u001b[0m\u001b[0;34m:\u001b[0m\u001b[0;34m\u001b[0m\u001b[0;34m\u001b[0m\u001b[0m\n\u001b[0;32m--> 208\u001b[0;31m             \u001b[0;32mreturn\u001b[0m \u001b[0mRelation\u001b[0m\u001b[0;34m.\u001b[0m\u001b[0mconclude\u001b[0m\u001b[0;34m(\u001b[0m\u001b[0mself\u001b[0m\u001b[0;34m)\u001b[0m\u001b[0;34m\u001b[0m\u001b[0;34m\u001b[0m\u001b[0m\n\u001b[0m\u001b[1;32m    209\u001b[0m         \u001b[0;32mexcept\u001b[0m \u001b[0mProofFailure\u001b[0m\u001b[0;34m:\u001b[0m\u001b[0;34m\u001b[0m\u001b[0;34m\u001b[0m\u001b[0m\n\u001b[1;32m    210\u001b[0m             \u001b[0;31m# Both sides are already irreducible or simplified\u001b[0m\u001b[0;34m\u001b[0m\u001b[0;34m\u001b[0m\u001b[0;34m\u001b[0m\u001b[0m\n",
      "\u001b[0;32m/home/wwitzel/Prove-It/packages/proveit/decorators.py\u001b[0m in \u001b[0;36mdecorated_prover\u001b[0;34m(*args, **kwargs)\u001b[0m\n\u001b[1;32m    152\u001b[0m             \u001b[0mAssumption\u001b[0m\u001b[0;34m.\u001b[0m\u001b[0mmake_assumptions\u001b[0m\u001b[0;34m(\u001b[0m\u001b[0;34m)\u001b[0m\u001b[0;34m\u001b[0m\u001b[0;34m\u001b[0m\u001b[0m\n\u001b[1;32m    153\u001b[0m             \u001b[0;31m# Now call the prover function.\u001b[0m\u001b[0;34m\u001b[0m\u001b[0;34m\u001b[0m\u001b[0;34m\u001b[0m\u001b[0m\n\u001b[0;32m--> 154\u001b[0;31m             \u001b[0mproven_truth\u001b[0m \u001b[0;34m=\u001b[0m \u001b[0mchecked_truth\u001b[0m\u001b[0;34m(\u001b[0m\u001b[0mfunc\u001b[0m\u001b[0;34m(\u001b[0m\u001b[0;34m*\u001b[0m\u001b[0margs\u001b[0m\u001b[0;34m,\u001b[0m \u001b[0;34m**\u001b[0m\u001b[0mkwargs\u001b[0m\u001b[0;34m)\u001b[0m\u001b[0;34m)\u001b[0m\u001b[0;34m\u001b[0m\u001b[0;34m\u001b[0m\u001b[0m\n\u001b[0m\u001b[1;32m    155\u001b[0m \u001b[0;34m\u001b[0m\u001b[0m\n\u001b[1;32m    156\u001b[0m         \u001b[0;32mif\u001b[0m \u001b[0mis_conclude_method\u001b[0m\u001b[0;34m:\u001b[0m\u001b[0;34m\u001b[0m\u001b[0;34m\u001b[0m\u001b[0m\n",
      "\u001b[0;32m/home/wwitzel/Prove-It/packages/proveit/relation/relation.py\u001b[0m in \u001b[0;36mconclude\u001b[0;34m(self, **defaults_config)\u001b[0m\n\u001b[1;32m     42\u001b[0m         \u001b[0;31m# SHOULD WE DO SOMETHING A LITTLE DIFFERENT NOW WITH CANONICAL\u001b[0m\u001b[0;34m\u001b[0m\u001b[0;34m\u001b[0m\u001b[0;34m\u001b[0m\u001b[0m\n\u001b[1;32m     43\u001b[0m         \u001b[0;31m# FORMS.\u001b[0m\u001b[0;34m\u001b[0m\u001b[0;34m\u001b[0m\u001b[0;34m\u001b[0m\u001b[0m\n\u001b[0;32m---> 44\u001b[0;31m         \u001b[0mnormal_lhs_simplification\u001b[0m \u001b[0;34m=\u001b[0m \u001b[0mevaluation_or_simplification\u001b[0m\u001b[0;34m(\u001b[0m\u001b[0mnormal_lhs\u001b[0m\u001b[0;34m)\u001b[0m\u001b[0;34m\u001b[0m\u001b[0;34m\u001b[0m\u001b[0m\n\u001b[0m\u001b[1;32m     45\u001b[0m         \u001b[0mnormal_rhs_simplification\u001b[0m \u001b[0;34m=\u001b[0m \u001b[0mevaluation_or_simplification\u001b[0m\u001b[0;34m(\u001b[0m\u001b[0mnormal_rhs\u001b[0m\u001b[0;34m)\u001b[0m\u001b[0;34m\u001b[0m\u001b[0;34m\u001b[0m\u001b[0m\n\u001b[1;32m     46\u001b[0m         \u001b[0msimp_normal_lhs\u001b[0m \u001b[0;34m=\u001b[0m \u001b[0mnormal_lhs_simplification\u001b[0m\u001b[0;34m.\u001b[0m\u001b[0mrhs\u001b[0m\u001b[0;34m\u001b[0m\u001b[0;34m\u001b[0m\u001b[0m\n",
      "\u001b[0;32m/home/wwitzel/Prove-It/packages/proveit/logic/equality/equals.py\u001b[0m in \u001b[0;36mevaluation_or_simplification\u001b[0;34m(expr, return_none_if_trivial)\u001b[0m\n\u001b[1;32m   1483\u001b[0m         \u001b[0;31m# First try an evaluation -- this is best and it\u001b[0m\u001b[0;34m\u001b[0m\u001b[0;34m\u001b[0m\u001b[0;34m\u001b[0m\u001b[0m\n\u001b[1;32m   1484\u001b[0m         \u001b[0;31m# should fail quickly when it can't be done.\u001b[0m\u001b[0;34m\u001b[0m\u001b[0;34m\u001b[0m\u001b[0;34m\u001b[0m\u001b[0m\n\u001b[0;32m-> 1485\u001b[0;31m         \u001b[0;32mreturn\u001b[0m \u001b[0mexpr\u001b[0m\u001b[0;34m.\u001b[0m\u001b[0mevaluation\u001b[0m\u001b[0;34m(\u001b[0m\u001b[0;34m)\u001b[0m\u001b[0;34m\u001b[0m\u001b[0;34m\u001b[0m\u001b[0m\n\u001b[0m\u001b[1;32m   1486\u001b[0m     except (SimplificationError, ProofFailure,\n\u001b[1;32m   1487\u001b[0m             UnsatisfiedPrerequisites, NotImplementedError):\n",
      "\u001b[0;32m/home/wwitzel/Prove-It/packages/proveit/decorators.py\u001b[0m in \u001b[0;36mwrapper\u001b[0;34m(*args, **kwargs)\u001b[0m\n\u001b[1;32m    412\u001b[0m                 \u001b[0mkwargs\u001b[0m\u001b[0;34m[\u001b[0m\u001b[0;34m'preserve_all'\u001b[0m\u001b[0;34m]\u001b[0m \u001b[0;34m=\u001b[0m \u001b[0;32mFalse\u001b[0m\u001b[0;34m\u001b[0m\u001b[0;34m\u001b[0m\u001b[0m\n\u001b[1;32m    413\u001b[0m             \u001b[0;32mif\u001b[0m \u001b[0mproven_truth\u001b[0m \u001b[0;32mis\u001b[0m \u001b[0;32mNone\u001b[0m\u001b[0;34m:\u001b[0m\u001b[0;34m\u001b[0m\u001b[0;34m\u001b[0m\u001b[0m\n\u001b[0;32m--> 414\u001b[0;31m                 \u001b[0mproven_truth\u001b[0m \u001b[0;34m=\u001b[0m \u001b[0mdecorated_relation_prover\u001b[0m\u001b[0;34m(\u001b[0m\u001b[0;34m*\u001b[0m\u001b[0margs\u001b[0m\u001b[0;34m,\u001b[0m \u001b[0;34m**\u001b[0m\u001b[0mkwargs\u001b[0m\u001b[0;34m)\u001b[0m\u001b[0;34m\u001b[0m\u001b[0;34m\u001b[0m\u001b[0m\n\u001b[0m\u001b[1;32m    415\u001b[0m             \u001b[0mproven_expr\u001b[0m \u001b[0;34m=\u001b[0m \u001b[0mproven_truth\u001b[0m\u001b[0;34m.\u001b[0m\u001b[0mexpr\u001b[0m\u001b[0;34m\u001b[0m\u001b[0;34m\u001b[0m\u001b[0m\n\u001b[1;32m    416\u001b[0m             \u001b[0;32mif\u001b[0m \u001b[0;32mnot\u001b[0m \u001b[0misinstance\u001b[0m\u001b[0;34m(\u001b[0m\u001b[0mproven_expr\u001b[0m\u001b[0;34m,\u001b[0m \u001b[0mEquals\u001b[0m\u001b[0;34m)\u001b[0m\u001b[0;34m:\u001b[0m\u001b[0;34m\u001b[0m\u001b[0;34m\u001b[0m\u001b[0m\n",
      "\u001b[0;32m/home/wwitzel/Prove-It/packages/proveit/decorators.py\u001b[0m in \u001b[0;36mdecorated_relation_prover\u001b[0;34m(*args, **kwargs)\u001b[0m\n\u001b[1;32m    233\u001b[0m \u001b[0;34m\u001b[0m\u001b[0m\n\u001b[1;32m    234\u001b[0m         \u001b[0;31m# Use the regular @prover wrapper.\u001b[0m\u001b[0;34m\u001b[0m\u001b[0;34m\u001b[0m\u001b[0;34m\u001b[0m\u001b[0m\n\u001b[0;32m--> 235\u001b[0;31m         \u001b[0mproven_truth\u001b[0m \u001b[0;34m=\u001b[0m \u001b[0mdecorated_prover\u001b[0m\u001b[0;34m(\u001b[0m\u001b[0;34m*\u001b[0m\u001b[0margs\u001b[0m\u001b[0;34m,\u001b[0m \u001b[0;34m**\u001b[0m\u001b[0mkwargs\u001b[0m\u001b[0;34m)\u001b[0m\u001b[0;34m\u001b[0m\u001b[0;34m\u001b[0m\u001b[0m\n\u001b[0m\u001b[1;32m    236\u001b[0m \u001b[0;34m\u001b[0m\u001b[0m\n\u001b[1;32m    237\u001b[0m         \u001b[0;31m# Check that the result is of the expected form.\u001b[0m\u001b[0;34m\u001b[0m\u001b[0;34m\u001b[0m\u001b[0;34m\u001b[0m\u001b[0m\n",
      "\u001b[0;32m/home/wwitzel/Prove-It/packages/proveit/decorators.py\u001b[0m in \u001b[0;36mdecorated_prover\u001b[0;34m(*args, **kwargs)\u001b[0m\n\u001b[1;32m    145\u001b[0m                 \u001b[0mAssumption\u001b[0m\u001b[0;34m.\u001b[0m\u001b[0mmake_assumptions\u001b[0m\u001b[0;34m(\u001b[0m\u001b[0;34m)\u001b[0m\u001b[0;34m\u001b[0m\u001b[0;34m\u001b[0m\u001b[0m\n\u001b[1;32m    146\u001b[0m                 \u001b[0;31m# Now call the prover function.\u001b[0m\u001b[0;34m\u001b[0m\u001b[0;34m\u001b[0m\u001b[0;34m\u001b[0m\u001b[0m\n\u001b[0;32m--> 147\u001b[0;31m                 \u001b[0mproven_truth\u001b[0m \u001b[0;34m=\u001b[0m \u001b[0mchecked_truth\u001b[0m\u001b[0;34m(\u001b[0m\u001b[0mfunc\u001b[0m\u001b[0;34m(\u001b[0m\u001b[0;34m*\u001b[0m\u001b[0margs\u001b[0m\u001b[0;34m,\u001b[0m \u001b[0;34m**\u001b[0m\u001b[0mkwargs\u001b[0m\u001b[0;34m)\u001b[0m\u001b[0;34m)\u001b[0m\u001b[0;34m\u001b[0m\u001b[0;34m\u001b[0m\u001b[0m\n\u001b[0m\u001b[1;32m    148\u001b[0m         \u001b[0;32melse\u001b[0m\u001b[0;34m:\u001b[0m\u001b[0;34m\u001b[0m\u001b[0;34m\u001b[0m\u001b[0m\n\u001b[1;32m    149\u001b[0m             \u001b[0;31m# No defaults reconfiguration.\u001b[0m\u001b[0;34m\u001b[0m\u001b[0;34m\u001b[0m\u001b[0;34m\u001b[0m\u001b[0m\n",
      "\u001b[0;32m/home/wwitzel/Prove-It/packages/proveit/_core_/expression/operation/operation.py\u001b[0m in \u001b[0;36mevaluation\u001b[0;34m(self, **defaults_config)\u001b[0m\n\u001b[1;32m    673\u001b[0m                 \u001b[0;31m# already checked.\u001b[0m\u001b[0;34m\u001b[0m\u001b[0;34m\u001b[0m\u001b[0;34m\u001b[0m\u001b[0m\n\u001b[1;32m    674\u001b[0m                 return self.shallow_simplification(\n\u001b[0;32m--> 675\u001b[0;31m                     must_evaluate=True, _no_eval_check=True)\n\u001b[0m\u001b[1;32m    676\u001b[0m             evaluation = reduction.rhs.shallow_simplification(\n\u001b[1;32m    677\u001b[0m                     must_evaluate=True)\n",
      "\u001b[0;32m/home/wwitzel/Prove-It/packages/proveit/decorators.py\u001b[0m in \u001b[0;36mwrapper\u001b[0;34m(*args, **kwargs)\u001b[0m\n\u001b[1;32m    412\u001b[0m                 \u001b[0mkwargs\u001b[0m\u001b[0;34m[\u001b[0m\u001b[0;34m'preserve_all'\u001b[0m\u001b[0;34m]\u001b[0m \u001b[0;34m=\u001b[0m \u001b[0;32mFalse\u001b[0m\u001b[0;34m\u001b[0m\u001b[0;34m\u001b[0m\u001b[0m\n\u001b[1;32m    413\u001b[0m             \u001b[0;32mif\u001b[0m \u001b[0mproven_truth\u001b[0m \u001b[0;32mis\u001b[0m \u001b[0;32mNone\u001b[0m\u001b[0;34m:\u001b[0m\u001b[0;34m\u001b[0m\u001b[0;34m\u001b[0m\u001b[0m\n\u001b[0;32m--> 414\u001b[0;31m                 \u001b[0mproven_truth\u001b[0m \u001b[0;34m=\u001b[0m \u001b[0mdecorated_relation_prover\u001b[0m\u001b[0;34m(\u001b[0m\u001b[0;34m*\u001b[0m\u001b[0margs\u001b[0m\u001b[0;34m,\u001b[0m \u001b[0;34m**\u001b[0m\u001b[0mkwargs\u001b[0m\u001b[0;34m)\u001b[0m\u001b[0;34m\u001b[0m\u001b[0;34m\u001b[0m\u001b[0m\n\u001b[0m\u001b[1;32m    415\u001b[0m             \u001b[0mproven_expr\u001b[0m \u001b[0;34m=\u001b[0m \u001b[0mproven_truth\u001b[0m\u001b[0;34m.\u001b[0m\u001b[0mexpr\u001b[0m\u001b[0;34m\u001b[0m\u001b[0;34m\u001b[0m\u001b[0m\n\u001b[1;32m    416\u001b[0m             \u001b[0;32mif\u001b[0m \u001b[0;32mnot\u001b[0m \u001b[0misinstance\u001b[0m\u001b[0;34m(\u001b[0m\u001b[0mproven_expr\u001b[0m\u001b[0;34m,\u001b[0m \u001b[0mEquals\u001b[0m\u001b[0;34m)\u001b[0m\u001b[0;34m:\u001b[0m\u001b[0;34m\u001b[0m\u001b[0;34m\u001b[0m\u001b[0m\n",
      "\u001b[0;32m/home/wwitzel/Prove-It/packages/proveit/decorators.py\u001b[0m in \u001b[0;36mdecorated_relation_prover\u001b[0;34m(*args, **kwargs)\u001b[0m\n\u001b[1;32m    233\u001b[0m \u001b[0;34m\u001b[0m\u001b[0m\n\u001b[1;32m    234\u001b[0m         \u001b[0;31m# Use the regular @prover wrapper.\u001b[0m\u001b[0;34m\u001b[0m\u001b[0;34m\u001b[0m\u001b[0;34m\u001b[0m\u001b[0m\n\u001b[0;32m--> 235\u001b[0;31m         \u001b[0mproven_truth\u001b[0m \u001b[0;34m=\u001b[0m \u001b[0mdecorated_prover\u001b[0m\u001b[0;34m(\u001b[0m\u001b[0;34m*\u001b[0m\u001b[0margs\u001b[0m\u001b[0;34m,\u001b[0m \u001b[0;34m**\u001b[0m\u001b[0mkwargs\u001b[0m\u001b[0;34m)\u001b[0m\u001b[0;34m\u001b[0m\u001b[0;34m\u001b[0m\u001b[0m\n\u001b[0m\u001b[1;32m    236\u001b[0m \u001b[0;34m\u001b[0m\u001b[0m\n\u001b[1;32m    237\u001b[0m         \u001b[0;31m# Check that the result is of the expected form.\u001b[0m\u001b[0;34m\u001b[0m\u001b[0;34m\u001b[0m\u001b[0;34m\u001b[0m\u001b[0m\n",
      "\u001b[0;32m/home/wwitzel/Prove-It/packages/proveit/decorators.py\u001b[0m in \u001b[0;36mdecorated_prover\u001b[0;34m(*args, **kwargs)\u001b[0m\n\u001b[1;32m    152\u001b[0m             \u001b[0mAssumption\u001b[0m\u001b[0;34m.\u001b[0m\u001b[0mmake_assumptions\u001b[0m\u001b[0;34m(\u001b[0m\u001b[0;34m)\u001b[0m\u001b[0;34m\u001b[0m\u001b[0;34m\u001b[0m\u001b[0m\n\u001b[1;32m    153\u001b[0m             \u001b[0;31m# Now call the prover function.\u001b[0m\u001b[0;34m\u001b[0m\u001b[0;34m\u001b[0m\u001b[0;34m\u001b[0m\u001b[0m\n\u001b[0;32m--> 154\u001b[0;31m             \u001b[0mproven_truth\u001b[0m \u001b[0;34m=\u001b[0m \u001b[0mchecked_truth\u001b[0m\u001b[0;34m(\u001b[0m\u001b[0mfunc\u001b[0m\u001b[0;34m(\u001b[0m\u001b[0;34m*\u001b[0m\u001b[0margs\u001b[0m\u001b[0;34m,\u001b[0m \u001b[0;34m**\u001b[0m\u001b[0mkwargs\u001b[0m\u001b[0;34m)\u001b[0m\u001b[0;34m)\u001b[0m\u001b[0;34m\u001b[0m\u001b[0;34m\u001b[0m\u001b[0m\n\u001b[0m\u001b[1;32m    155\u001b[0m \u001b[0;34m\u001b[0m\u001b[0m\n\u001b[1;32m    156\u001b[0m         \u001b[0;32mif\u001b[0m \u001b[0mis_conclude_method\u001b[0m\u001b[0;34m:\u001b[0m\u001b[0;34m\u001b[0m\u001b[0;34m\u001b[0m\u001b[0m\n",
      "\u001b[0;32m/home/wwitzel/Prove-It/packages/proveit/physics/quantum/algebra/qmult.py\u001b[0m in \u001b[0;36mshallow_simplification\u001b[0;34m(self, must_evaluate, **defaults_config)\u001b[0m\n\u001b[1;32m    147\u001b[0m         \u001b[0;32mif\u001b[0m \u001b[0mQmult\u001b[0m\u001b[0;34m.\u001b[0m\u001b[0m_simplification_directives_\u001b[0m\u001b[0;34m.\u001b[0m\u001b[0mfactor_scalars\u001b[0m\u001b[0;34m:\u001b[0m\u001b[0;34m\u001b[0m\u001b[0;34m\u001b[0m\u001b[0m\n\u001b[1;32m    148\u001b[0m             \u001b[0;31m# Next, pull out scalar factors\u001b[0m\u001b[0;34m\u001b[0m\u001b[0;34m\u001b[0m\u001b[0;34m\u001b[0m\u001b[0m\n\u001b[0;32m--> 149\u001b[0;31m             \u001b[0mexpr\u001b[0m \u001b[0;34m=\u001b[0m \u001b[0meq\u001b[0m\u001b[0;34m.\u001b[0m\u001b[0mupdate\u001b[0m\u001b[0;34m(\u001b[0m\u001b[0mexpr\u001b[0m\u001b[0;34m.\u001b[0m\u001b[0mfactorization_of_scalars\u001b[0m\u001b[0;34m(\u001b[0m\u001b[0;34m)\u001b[0m\u001b[0;34m)\u001b[0m\u001b[0;34m\u001b[0m\u001b[0;34m\u001b[0m\u001b[0m\n\u001b[0m\u001b[1;32m    150\u001b[0m \u001b[0;34m\u001b[0m\u001b[0m\n\u001b[1;32m    151\u001b[0m         \u001b[0;32mif\u001b[0m \u001b[0mQmult\u001b[0m\u001b[0;34m.\u001b[0m\u001b[0m_simplification_directives_\u001b[0m\u001b[0;34m.\u001b[0m\u001b[0muse_scalar_mult\u001b[0m\u001b[0;34m:\u001b[0m\u001b[0;34m\u001b[0m\u001b[0;34m\u001b[0m\u001b[0m\n",
      "\u001b[0;32m/home/wwitzel/Prove-It/packages/proveit/decorators.py\u001b[0m in \u001b[0;36mwrapper\u001b[0;34m(*args, **kwargs)\u001b[0m\n\u001b[1;32m    412\u001b[0m                 \u001b[0mkwargs\u001b[0m\u001b[0;34m[\u001b[0m\u001b[0;34m'preserve_all'\u001b[0m\u001b[0;34m]\u001b[0m \u001b[0;34m=\u001b[0m \u001b[0;32mFalse\u001b[0m\u001b[0;34m\u001b[0m\u001b[0;34m\u001b[0m\u001b[0m\n\u001b[1;32m    413\u001b[0m             \u001b[0;32mif\u001b[0m \u001b[0mproven_truth\u001b[0m \u001b[0;32mis\u001b[0m \u001b[0;32mNone\u001b[0m\u001b[0;34m:\u001b[0m\u001b[0;34m\u001b[0m\u001b[0;34m\u001b[0m\u001b[0m\n\u001b[0;32m--> 414\u001b[0;31m                 \u001b[0mproven_truth\u001b[0m \u001b[0;34m=\u001b[0m \u001b[0mdecorated_relation_prover\u001b[0m\u001b[0;34m(\u001b[0m\u001b[0;34m*\u001b[0m\u001b[0margs\u001b[0m\u001b[0;34m,\u001b[0m \u001b[0;34m**\u001b[0m\u001b[0mkwargs\u001b[0m\u001b[0;34m)\u001b[0m\u001b[0;34m\u001b[0m\u001b[0;34m\u001b[0m\u001b[0m\n\u001b[0m\u001b[1;32m    415\u001b[0m             \u001b[0mproven_expr\u001b[0m \u001b[0;34m=\u001b[0m \u001b[0mproven_truth\u001b[0m\u001b[0;34m.\u001b[0m\u001b[0mexpr\u001b[0m\u001b[0;34m\u001b[0m\u001b[0;34m\u001b[0m\u001b[0m\n\u001b[1;32m    416\u001b[0m             \u001b[0;32mif\u001b[0m \u001b[0;32mnot\u001b[0m \u001b[0misinstance\u001b[0m\u001b[0;34m(\u001b[0m\u001b[0mproven_expr\u001b[0m\u001b[0;34m,\u001b[0m \u001b[0mEquals\u001b[0m\u001b[0;34m)\u001b[0m\u001b[0;34m:\u001b[0m\u001b[0;34m\u001b[0m\u001b[0;34m\u001b[0m\u001b[0m\n",
      "\u001b[0;32m/home/wwitzel/Prove-It/packages/proveit/decorators.py\u001b[0m in \u001b[0;36mdecorated_relation_prover\u001b[0;34m(*args, **kwargs)\u001b[0m\n\u001b[1;32m    233\u001b[0m \u001b[0;34m\u001b[0m\u001b[0m\n\u001b[1;32m    234\u001b[0m         \u001b[0;31m# Use the regular @prover wrapper.\u001b[0m\u001b[0;34m\u001b[0m\u001b[0;34m\u001b[0m\u001b[0;34m\u001b[0m\u001b[0m\n\u001b[0;32m--> 235\u001b[0;31m         \u001b[0mproven_truth\u001b[0m \u001b[0;34m=\u001b[0m \u001b[0mdecorated_prover\u001b[0m\u001b[0;34m(\u001b[0m\u001b[0;34m*\u001b[0m\u001b[0margs\u001b[0m\u001b[0;34m,\u001b[0m \u001b[0;34m**\u001b[0m\u001b[0mkwargs\u001b[0m\u001b[0;34m)\u001b[0m\u001b[0;34m\u001b[0m\u001b[0;34m\u001b[0m\u001b[0m\n\u001b[0m\u001b[1;32m    236\u001b[0m \u001b[0;34m\u001b[0m\u001b[0m\n\u001b[1;32m    237\u001b[0m         \u001b[0;31m# Check that the result is of the expected form.\u001b[0m\u001b[0;34m\u001b[0m\u001b[0;34m\u001b[0m\u001b[0;34m\u001b[0m\u001b[0m\n",
      "\u001b[0;32m/home/wwitzel/Prove-It/packages/proveit/decorators.py\u001b[0m in \u001b[0;36mdecorated_prover\u001b[0;34m(*args, **kwargs)\u001b[0m\n\u001b[1;32m    152\u001b[0m             \u001b[0mAssumption\u001b[0m\u001b[0;34m.\u001b[0m\u001b[0mmake_assumptions\u001b[0m\u001b[0;34m(\u001b[0m\u001b[0;34m)\u001b[0m\u001b[0;34m\u001b[0m\u001b[0;34m\u001b[0m\u001b[0m\n\u001b[1;32m    153\u001b[0m             \u001b[0;31m# Now call the prover function.\u001b[0m\u001b[0;34m\u001b[0m\u001b[0;34m\u001b[0m\u001b[0;34m\u001b[0m\u001b[0m\n\u001b[0;32m--> 154\u001b[0;31m             \u001b[0mproven_truth\u001b[0m \u001b[0;34m=\u001b[0m \u001b[0mchecked_truth\u001b[0m\u001b[0;34m(\u001b[0m\u001b[0mfunc\u001b[0m\u001b[0;34m(\u001b[0m\u001b[0;34m*\u001b[0m\u001b[0margs\u001b[0m\u001b[0;34m,\u001b[0m \u001b[0;34m**\u001b[0m\u001b[0mkwargs\u001b[0m\u001b[0;34m)\u001b[0m\u001b[0;34m)\u001b[0m\u001b[0;34m\u001b[0m\u001b[0;34m\u001b[0m\u001b[0m\n\u001b[0m\u001b[1;32m    155\u001b[0m \u001b[0;34m\u001b[0m\u001b[0m\n\u001b[1;32m    156\u001b[0m         \u001b[0;32mif\u001b[0m \u001b[0mis_conclude_method\u001b[0m\u001b[0;34m:\u001b[0m\u001b[0;34m\u001b[0m\u001b[0;34m\u001b[0m\u001b[0m\n",
      "\u001b[0;32m/home/wwitzel/Prove-It/packages/proveit/physics/quantum/algebra/qmult.py\u001b[0m in \u001b[0;36mfactorization_of_scalars\u001b[0;34m(self, **defaults_config)\u001b[0m\n\u001b[1;32m    287\u001b[0m         \u001b[0;31m# process, ensure to know which operands are Complex.\u001b[0m\u001b[0;34m\u001b[0m\u001b[0;34m\u001b[0m\u001b[0;34m\u001b[0m\u001b[0m\n\u001b[1;32m    288\u001b[0m         \u001b[0;32mif\u001b[0m \u001b[0;32mnot\u001b[0m \u001b[0mInClass\u001b[0m\u001b[0;34m(\u001b[0m\u001b[0mself\u001b[0m\u001b[0;34m,\u001b[0m \u001b[0mQmultCodomain\u001b[0m\u001b[0;34m)\u001b[0m\u001b[0;34m.\u001b[0m\u001b[0mproven\u001b[0m\u001b[0;34m(\u001b[0m\u001b[0;34m)\u001b[0m\u001b[0;34m:\u001b[0m\u001b[0;34m\u001b[0m\u001b[0;34m\u001b[0m\u001b[0m\n\u001b[0;32m--> 289\u001b[0;31m             \u001b[0mQmultCodomain\u001b[0m\u001b[0;34m.\u001b[0m\u001b[0mmembership_object\u001b[0m\u001b[0;34m(\u001b[0m\u001b[0mself\u001b[0m\u001b[0;34m)\u001b[0m\u001b[0;34m.\u001b[0m\u001b[0mconclude\u001b[0m\u001b[0;34m(\u001b[0m\u001b[0;34m)\u001b[0m\u001b[0;34m\u001b[0m\u001b[0;34m\u001b[0m\u001b[0m\n\u001b[0m\u001b[1;32m    290\u001b[0m \u001b[0;34m\u001b[0m\u001b[0m\n\u001b[1;32m    291\u001b[0m         \u001b[0;31m# Go through the operands in reverse order so the complex\u001b[0m\u001b[0;34m\u001b[0m\u001b[0;34m\u001b[0m\u001b[0;34m\u001b[0m\u001b[0m\n",
      "\u001b[0;32m/home/wwitzel/Prove-It/packages/proveit/decorators.py\u001b[0m in \u001b[0;36mdecorated_prover\u001b[0;34m(*args, **kwargs)\u001b[0m\n\u001b[1;32m    152\u001b[0m             \u001b[0mAssumption\u001b[0m\u001b[0;34m.\u001b[0m\u001b[0mmake_assumptions\u001b[0m\u001b[0;34m(\u001b[0m\u001b[0;34m)\u001b[0m\u001b[0;34m\u001b[0m\u001b[0;34m\u001b[0m\u001b[0m\n\u001b[1;32m    153\u001b[0m             \u001b[0;31m# Now call the prover function.\u001b[0m\u001b[0;34m\u001b[0m\u001b[0;34m\u001b[0m\u001b[0;34m\u001b[0m\u001b[0m\n\u001b[0;32m--> 154\u001b[0;31m             \u001b[0mproven_truth\u001b[0m \u001b[0;34m=\u001b[0m \u001b[0mchecked_truth\u001b[0m\u001b[0;34m(\u001b[0m\u001b[0mfunc\u001b[0m\u001b[0;34m(\u001b[0m\u001b[0;34m*\u001b[0m\u001b[0margs\u001b[0m\u001b[0;34m,\u001b[0m \u001b[0;34m**\u001b[0m\u001b[0mkwargs\u001b[0m\u001b[0;34m)\u001b[0m\u001b[0;34m)\u001b[0m\u001b[0;34m\u001b[0m\u001b[0;34m\u001b[0m\u001b[0m\n\u001b[0m\u001b[1;32m    155\u001b[0m \u001b[0;34m\u001b[0m\u001b[0m\n\u001b[1;32m    156\u001b[0m         \u001b[0;32mif\u001b[0m \u001b[0mis_conclude_method\u001b[0m\u001b[0;34m:\u001b[0m\u001b[0;34m\u001b[0m\u001b[0;34m\u001b[0m\u001b[0m\n",
      "\u001b[0;32m/home/wwitzel/Prove-It/packages/proveit/physics/quantum/algebra/qmult.py\u001b[0m in \u001b[0;36mconclude\u001b[0;34m(self, **defaults_config)\u001b[0m\n\u001b[1;32m    787\u001b[0m                 \u001b[0;32mif\u001b[0m \u001b[0;32mnot\u001b[0m \u001b[0mbinary_membership\u001b[0m\u001b[0;34m.\u001b[0m\u001b[0mproven\u001b[0m\u001b[0;34m(\u001b[0m\u001b[0;34m)\u001b[0m\u001b[0;34m:\u001b[0m\u001b[0;34m\u001b[0m\u001b[0;34m\u001b[0m\u001b[0m\n\u001b[1;32m    788\u001b[0m                     QmultCodomain.membership_object(\n\u001b[0;32m--> 789\u001b[0;31m                             multi_def.rhs).conclude()\n\u001b[0m\u001b[1;32m    790\u001b[0m                 \u001b[0mbinary_membership\u001b[0m \u001b[0;34m=\u001b[0m \u001b[0mbinary_membership\u001b[0m\u001b[0;34m.\u001b[0m\u001b[0mprove\u001b[0m\u001b[0;34m(\u001b[0m\u001b[0;34m)\u001b[0m\u001b[0;34m\u001b[0m\u001b[0;34m\u001b[0m\u001b[0m\n\u001b[1;32m    791\u001b[0m                 \u001b[0;31m# We need to propogate the side-effect memberships.\u001b[0m\u001b[0;34m\u001b[0m\u001b[0;34m\u001b[0m\u001b[0;34m\u001b[0m\u001b[0m\n",
      "\u001b[0;32m/home/wwitzel/Prove-It/packages/proveit/decorators.py\u001b[0m in \u001b[0;36mdecorated_prover\u001b[0;34m(*args, **kwargs)\u001b[0m\n\u001b[1;32m    145\u001b[0m                 \u001b[0mAssumption\u001b[0m\u001b[0;34m.\u001b[0m\u001b[0mmake_assumptions\u001b[0m\u001b[0;34m(\u001b[0m\u001b[0;34m)\u001b[0m\u001b[0;34m\u001b[0m\u001b[0;34m\u001b[0m\u001b[0m\n\u001b[1;32m    146\u001b[0m                 \u001b[0;31m# Now call the prover function.\u001b[0m\u001b[0;34m\u001b[0m\u001b[0;34m\u001b[0m\u001b[0;34m\u001b[0m\u001b[0m\n\u001b[0;32m--> 147\u001b[0;31m                 \u001b[0mproven_truth\u001b[0m \u001b[0;34m=\u001b[0m \u001b[0mchecked_truth\u001b[0m\u001b[0;34m(\u001b[0m\u001b[0mfunc\u001b[0m\u001b[0;34m(\u001b[0m\u001b[0;34m*\u001b[0m\u001b[0margs\u001b[0m\u001b[0;34m,\u001b[0m \u001b[0;34m**\u001b[0m\u001b[0mkwargs\u001b[0m\u001b[0;34m)\u001b[0m\u001b[0;34m)\u001b[0m\u001b[0;34m\u001b[0m\u001b[0;34m\u001b[0m\u001b[0m\n\u001b[0m\u001b[1;32m    148\u001b[0m         \u001b[0;32melse\u001b[0m\u001b[0;34m:\u001b[0m\u001b[0;34m\u001b[0m\u001b[0;34m\u001b[0m\u001b[0m\n\u001b[1;32m    149\u001b[0m             \u001b[0;31m# No defaults reconfiguration.\u001b[0m\u001b[0;34m\u001b[0m\u001b[0;34m\u001b[0m\u001b[0;34m\u001b[0m\u001b[0m\n",
      "\u001b[0;32m/home/wwitzel/Prove-It/packages/proveit/physics/quantum/algebra/qmult.py\u001b[0m in \u001b[0;36mconclude\u001b[0;34m(self, **defaults_config)\u001b[0m\n\u001b[1;32m    639\u001b[0m                 \u001b[0;31m# Prove memberships of unary Qmult on each of the\u001b[0m\u001b[0;34m\u001b[0m\u001b[0;34m\u001b[0m\u001b[0;34m\u001b[0m\u001b[0m\n\u001b[1;32m    640\u001b[0m                 \u001b[0;31m# operands to fascilitate the various cases below.\u001b[0m\u001b[0;34m\u001b[0m\u001b[0;34m\u001b[0m\u001b[0;34m\u001b[0m\u001b[0m\n\u001b[0;32m--> 641\u001b[0;31m                 \u001b[0mQmultCodomain\u001b[0m\u001b[0;34m.\u001b[0m\u001b[0mmembership_object\u001b[0m\u001b[0;34m(\u001b[0m\u001b[0mQmult\u001b[0m\u001b[0;34m(\u001b[0m\u001b[0mop1\u001b[0m\u001b[0;34m)\u001b[0m\u001b[0;34m)\u001b[0m\u001b[0;34m.\u001b[0m\u001b[0mconclude\u001b[0m\u001b[0;34m(\u001b[0m\u001b[0;34m)\u001b[0m\u001b[0;34m\u001b[0m\u001b[0;34m\u001b[0m\u001b[0m\n\u001b[0m\u001b[1;32m    642\u001b[0m                 \u001b[0mQmultCodomain\u001b[0m\u001b[0;34m.\u001b[0m\u001b[0mmembership_object\u001b[0m\u001b[0;34m(\u001b[0m\u001b[0mQmult\u001b[0m\u001b[0;34m(\u001b[0m\u001b[0mop2\u001b[0m\u001b[0;34m)\u001b[0m\u001b[0;34m)\u001b[0m\u001b[0;34m.\u001b[0m\u001b[0mconclude\u001b[0m\u001b[0;34m(\u001b[0m\u001b[0;34m)\u001b[0m\u001b[0;34m\u001b[0m\u001b[0;34m\u001b[0m\u001b[0m\n\u001b[1;32m    643\u001b[0m \u001b[0;34m\u001b[0m\u001b[0m\n",
      "\u001b[0;32m/home/wwitzel/Prove-It/packages/proveit/decorators.py\u001b[0m in \u001b[0;36mdecorated_prover\u001b[0;34m(*args, **kwargs)\u001b[0m\n\u001b[1;32m    145\u001b[0m                 \u001b[0mAssumption\u001b[0m\u001b[0;34m.\u001b[0m\u001b[0mmake_assumptions\u001b[0m\u001b[0;34m(\u001b[0m\u001b[0;34m)\u001b[0m\u001b[0;34m\u001b[0m\u001b[0;34m\u001b[0m\u001b[0m\n\u001b[1;32m    146\u001b[0m                 \u001b[0;31m# Now call the prover function.\u001b[0m\u001b[0;34m\u001b[0m\u001b[0;34m\u001b[0m\u001b[0;34m\u001b[0m\u001b[0m\n\u001b[0;32m--> 147\u001b[0;31m                 \u001b[0mproven_truth\u001b[0m \u001b[0;34m=\u001b[0m \u001b[0mchecked_truth\u001b[0m\u001b[0;34m(\u001b[0m\u001b[0mfunc\u001b[0m\u001b[0;34m(\u001b[0m\u001b[0;34m*\u001b[0m\u001b[0margs\u001b[0m\u001b[0;34m,\u001b[0m \u001b[0;34m**\u001b[0m\u001b[0mkwargs\u001b[0m\u001b[0;34m)\u001b[0m\u001b[0;34m)\u001b[0m\u001b[0;34m\u001b[0m\u001b[0;34m\u001b[0m\u001b[0m\n\u001b[0m\u001b[1;32m    148\u001b[0m         \u001b[0;32melse\u001b[0m\u001b[0;34m:\u001b[0m\u001b[0;34m\u001b[0m\u001b[0;34m\u001b[0m\u001b[0m\n\u001b[1;32m    149\u001b[0m             \u001b[0;31m# No defaults reconfiguration.\u001b[0m\u001b[0;34m\u001b[0m\u001b[0;34m\u001b[0m\u001b[0;34m\u001b[0m\u001b[0m\n",
      "\u001b[0;32m/home/wwitzel/Prove-It/packages/proveit/physics/quantum/algebra/qmult.py\u001b[0m in \u001b[0;36mconclude\u001b[0;34m(self, **defaults_config)\u001b[0m\n\u001b[1;32m    544\u001b[0m                     \u001b[0;31m# Prove memberships of the nested unary Qmult\u001b[0m\u001b[0;34m\u001b[0m\u001b[0;34m\u001b[0m\u001b[0;34m\u001b[0m\u001b[0m\n\u001b[1;32m    545\u001b[0m                     \u001b[0;31m# to fascilitate the cases below.\u001b[0m\u001b[0;34m\u001b[0m\u001b[0;34m\u001b[0m\u001b[0;34m\u001b[0m\u001b[0m\n\u001b[0;32m--> 546\u001b[0;31m                     \u001b[0mQmultCodomain\u001b[0m\u001b[0;34m.\u001b[0m\u001b[0mmembership_object\u001b[0m\u001b[0;34m(\u001b[0m\u001b[0mop\u001b[0m\u001b[0;34m)\u001b[0m\u001b[0;34m.\u001b[0m\u001b[0mconclude\u001b[0m\u001b[0;34m(\u001b[0m\u001b[0;34m)\u001b[0m\u001b[0;34m\u001b[0m\u001b[0;34m\u001b[0m\u001b[0m\n\u001b[0m\u001b[1;32m    547\u001b[0m                     \u001b[0;32mfor\u001b[0m \u001b[0m_Hspace\u001b[0m \u001b[0;32min\u001b[0m \u001b[0myield_known_hilbert_spaces\u001b[0m\u001b[0;34m(\u001b[0m\u001b[0mop\u001b[0m\u001b[0;34m)\u001b[0m\u001b[0;34m:\u001b[0m\u001b[0;34m\u001b[0m\u001b[0;34m\u001b[0m\u001b[0m\n\u001b[1;32m    548\u001b[0m                         \u001b[0;31m# Propagate Hspace membership\u001b[0m\u001b[0;34m\u001b[0m\u001b[0;34m\u001b[0m\u001b[0;34m\u001b[0m\u001b[0m\n",
      "\u001b[0;32m/home/wwitzel/Prove-It/packages/proveit/decorators.py\u001b[0m in \u001b[0;36mdecorated_prover\u001b[0;34m(*args, **kwargs)\u001b[0m\n\u001b[1;32m    145\u001b[0m                 \u001b[0mAssumption\u001b[0m\u001b[0;34m.\u001b[0m\u001b[0mmake_assumptions\u001b[0m\u001b[0;34m(\u001b[0m\u001b[0;34m)\u001b[0m\u001b[0;34m\u001b[0m\u001b[0;34m\u001b[0m\u001b[0m\n\u001b[1;32m    146\u001b[0m                 \u001b[0;31m# Now call the prover function.\u001b[0m\u001b[0;34m\u001b[0m\u001b[0;34m\u001b[0m\u001b[0;34m\u001b[0m\u001b[0m\n\u001b[0;32m--> 147\u001b[0;31m                 \u001b[0mproven_truth\u001b[0m \u001b[0;34m=\u001b[0m \u001b[0mchecked_truth\u001b[0m\u001b[0;34m(\u001b[0m\u001b[0mfunc\u001b[0m\u001b[0;34m(\u001b[0m\u001b[0;34m*\u001b[0m\u001b[0margs\u001b[0m\u001b[0;34m,\u001b[0m \u001b[0;34m**\u001b[0m\u001b[0mkwargs\u001b[0m\u001b[0;34m)\u001b[0m\u001b[0;34m)\u001b[0m\u001b[0;34m\u001b[0m\u001b[0;34m\u001b[0m\u001b[0m\n\u001b[0m\u001b[1;32m    148\u001b[0m         \u001b[0;32melse\u001b[0m\u001b[0;34m:\u001b[0m\u001b[0;34m\u001b[0m\u001b[0;34m\u001b[0m\u001b[0m\n\u001b[1;32m    149\u001b[0m             \u001b[0;31m# No defaults reconfiguration.\u001b[0m\u001b[0;34m\u001b[0m\u001b[0;34m\u001b[0m\u001b[0;34m\u001b[0m\u001b[0m\n",
      "\u001b[0;32m/home/wwitzel/Prove-It/packages/proveit/physics/quantum/algebra/qmult.py\u001b[0m in \u001b[0;36mconclude\u001b[0;34m(self, **defaults_config)\u001b[0m\n\u001b[1;32m    787\u001b[0m                 \u001b[0;32mif\u001b[0m \u001b[0;32mnot\u001b[0m \u001b[0mbinary_membership\u001b[0m\u001b[0;34m.\u001b[0m\u001b[0mproven\u001b[0m\u001b[0;34m(\u001b[0m\u001b[0;34m)\u001b[0m\u001b[0;34m:\u001b[0m\u001b[0;34m\u001b[0m\u001b[0;34m\u001b[0m\u001b[0m\n\u001b[1;32m    788\u001b[0m                     QmultCodomain.membership_object(\n\u001b[0;32m--> 789\u001b[0;31m                             multi_def.rhs).conclude()\n\u001b[0m\u001b[1;32m    790\u001b[0m                 \u001b[0mbinary_membership\u001b[0m \u001b[0;34m=\u001b[0m \u001b[0mbinary_membership\u001b[0m\u001b[0;34m.\u001b[0m\u001b[0mprove\u001b[0m\u001b[0;34m(\u001b[0m\u001b[0;34m)\u001b[0m\u001b[0;34m\u001b[0m\u001b[0;34m\u001b[0m\u001b[0m\n\u001b[1;32m    791\u001b[0m                 \u001b[0;31m# We need to propogate the side-effect memberships.\u001b[0m\u001b[0;34m\u001b[0m\u001b[0;34m\u001b[0m\u001b[0;34m\u001b[0m\u001b[0m\n",
      "\u001b[0;32m/home/wwitzel/Prove-It/packages/proveit/decorators.py\u001b[0m in \u001b[0;36mdecorated_prover\u001b[0;34m(*args, **kwargs)\u001b[0m\n\u001b[1;32m    145\u001b[0m                 \u001b[0mAssumption\u001b[0m\u001b[0;34m.\u001b[0m\u001b[0mmake_assumptions\u001b[0m\u001b[0;34m(\u001b[0m\u001b[0;34m)\u001b[0m\u001b[0;34m\u001b[0m\u001b[0;34m\u001b[0m\u001b[0m\n\u001b[1;32m    146\u001b[0m                 \u001b[0;31m# Now call the prover function.\u001b[0m\u001b[0;34m\u001b[0m\u001b[0;34m\u001b[0m\u001b[0;34m\u001b[0m\u001b[0m\n\u001b[0;32m--> 147\u001b[0;31m                 \u001b[0mproven_truth\u001b[0m \u001b[0;34m=\u001b[0m \u001b[0mchecked_truth\u001b[0m\u001b[0;34m(\u001b[0m\u001b[0mfunc\u001b[0m\u001b[0;34m(\u001b[0m\u001b[0;34m*\u001b[0m\u001b[0margs\u001b[0m\u001b[0;34m,\u001b[0m \u001b[0;34m**\u001b[0m\u001b[0mkwargs\u001b[0m\u001b[0;34m)\u001b[0m\u001b[0;34m)\u001b[0m\u001b[0;34m\u001b[0m\u001b[0;34m\u001b[0m\u001b[0m\n\u001b[0m\u001b[1;32m    148\u001b[0m         \u001b[0;32melse\u001b[0m\u001b[0;34m:\u001b[0m\u001b[0;34m\u001b[0m\u001b[0;34m\u001b[0m\u001b[0m\n\u001b[1;32m    149\u001b[0m             \u001b[0;31m# No defaults reconfiguration.\u001b[0m\u001b[0;34m\u001b[0m\u001b[0;34m\u001b[0m\u001b[0;34m\u001b[0m\u001b[0m\n",
      "\u001b[0;32m/home/wwitzel/Prove-It/packages/proveit/physics/quantum/algebra/qmult.py\u001b[0m in \u001b[0;36mconclude\u001b[0;34m(self, **defaults_config)\u001b[0m\n\u001b[1;32m    639\u001b[0m                 \u001b[0;31m# Prove memberships of unary Qmult on each of the\u001b[0m\u001b[0;34m\u001b[0m\u001b[0;34m\u001b[0m\u001b[0;34m\u001b[0m\u001b[0m\n\u001b[1;32m    640\u001b[0m                 \u001b[0;31m# operands to fascilitate the various cases below.\u001b[0m\u001b[0;34m\u001b[0m\u001b[0;34m\u001b[0m\u001b[0;34m\u001b[0m\u001b[0m\n\u001b[0;32m--> 641\u001b[0;31m                 \u001b[0mQmultCodomain\u001b[0m\u001b[0;34m.\u001b[0m\u001b[0mmembership_object\u001b[0m\u001b[0;34m(\u001b[0m\u001b[0mQmult\u001b[0m\u001b[0;34m(\u001b[0m\u001b[0mop1\u001b[0m\u001b[0;34m)\u001b[0m\u001b[0;34m)\u001b[0m\u001b[0;34m.\u001b[0m\u001b[0mconclude\u001b[0m\u001b[0;34m(\u001b[0m\u001b[0;34m)\u001b[0m\u001b[0;34m\u001b[0m\u001b[0;34m\u001b[0m\u001b[0m\n\u001b[0m\u001b[1;32m    642\u001b[0m                 \u001b[0mQmultCodomain\u001b[0m\u001b[0;34m.\u001b[0m\u001b[0mmembership_object\u001b[0m\u001b[0;34m(\u001b[0m\u001b[0mQmult\u001b[0m\u001b[0;34m(\u001b[0m\u001b[0mop2\u001b[0m\u001b[0;34m)\u001b[0m\u001b[0;34m)\u001b[0m\u001b[0;34m.\u001b[0m\u001b[0mconclude\u001b[0m\u001b[0;34m(\u001b[0m\u001b[0;34m)\u001b[0m\u001b[0;34m\u001b[0m\u001b[0;34m\u001b[0m\u001b[0m\n\u001b[1;32m    643\u001b[0m \u001b[0;34m\u001b[0m\u001b[0m\n",
      "\u001b[0;32m/home/wwitzel/Prove-It/packages/proveit/decorators.py\u001b[0m in \u001b[0;36mdecorated_prover\u001b[0;34m(*args, **kwargs)\u001b[0m\n\u001b[1;32m    145\u001b[0m                 \u001b[0mAssumption\u001b[0m\u001b[0;34m.\u001b[0m\u001b[0mmake_assumptions\u001b[0m\u001b[0;34m(\u001b[0m\u001b[0;34m)\u001b[0m\u001b[0;34m\u001b[0m\u001b[0;34m\u001b[0m\u001b[0m\n\u001b[1;32m    146\u001b[0m                 \u001b[0;31m# Now call the prover function.\u001b[0m\u001b[0;34m\u001b[0m\u001b[0;34m\u001b[0m\u001b[0;34m\u001b[0m\u001b[0m\n\u001b[0;32m--> 147\u001b[0;31m                 \u001b[0mproven_truth\u001b[0m \u001b[0;34m=\u001b[0m \u001b[0mchecked_truth\u001b[0m\u001b[0;34m(\u001b[0m\u001b[0mfunc\u001b[0m\u001b[0;34m(\u001b[0m\u001b[0;34m*\u001b[0m\u001b[0margs\u001b[0m\u001b[0;34m,\u001b[0m \u001b[0;34m**\u001b[0m\u001b[0mkwargs\u001b[0m\u001b[0;34m)\u001b[0m\u001b[0;34m)\u001b[0m\u001b[0;34m\u001b[0m\u001b[0;34m\u001b[0m\u001b[0m\n\u001b[0m\u001b[1;32m    148\u001b[0m         \u001b[0;32melse\u001b[0m\u001b[0;34m:\u001b[0m\u001b[0;34m\u001b[0m\u001b[0;34m\u001b[0m\u001b[0m\n\u001b[1;32m    149\u001b[0m             \u001b[0;31m# No defaults reconfiguration.\u001b[0m\u001b[0;34m\u001b[0m\u001b[0;34m\u001b[0m\u001b[0;34m\u001b[0m\u001b[0m\n",
      "\u001b[0;32m/home/wwitzel/Prove-It/packages/proveit/physics/quantum/algebra/qmult.py\u001b[0m in \u001b[0;36mconclude\u001b[0;34m(self, **defaults_config)\u001b[0m\n\u001b[1;32m    544\u001b[0m                     \u001b[0;31m# Prove memberships of the nested unary Qmult\u001b[0m\u001b[0;34m\u001b[0m\u001b[0;34m\u001b[0m\u001b[0;34m\u001b[0m\u001b[0m\n\u001b[1;32m    545\u001b[0m                     \u001b[0;31m# to fascilitate the cases below.\u001b[0m\u001b[0;34m\u001b[0m\u001b[0;34m\u001b[0m\u001b[0;34m\u001b[0m\u001b[0m\n\u001b[0;32m--> 546\u001b[0;31m                     \u001b[0mQmultCodomain\u001b[0m\u001b[0;34m.\u001b[0m\u001b[0mmembership_object\u001b[0m\u001b[0;34m(\u001b[0m\u001b[0mop\u001b[0m\u001b[0;34m)\u001b[0m\u001b[0;34m.\u001b[0m\u001b[0mconclude\u001b[0m\u001b[0;34m(\u001b[0m\u001b[0;34m)\u001b[0m\u001b[0;34m\u001b[0m\u001b[0;34m\u001b[0m\u001b[0m\n\u001b[0m\u001b[1;32m    547\u001b[0m                     \u001b[0;32mfor\u001b[0m \u001b[0m_Hspace\u001b[0m \u001b[0;32min\u001b[0m \u001b[0myield_known_hilbert_spaces\u001b[0m\u001b[0;34m(\u001b[0m\u001b[0mop\u001b[0m\u001b[0;34m)\u001b[0m\u001b[0;34m:\u001b[0m\u001b[0;34m\u001b[0m\u001b[0;34m\u001b[0m\u001b[0m\n\u001b[1;32m    548\u001b[0m                         \u001b[0;31m# Propagate Hspace membership\u001b[0m\u001b[0;34m\u001b[0m\u001b[0;34m\u001b[0m\u001b[0;34m\u001b[0m\u001b[0m\n",
      "\u001b[0;32m/home/wwitzel/Prove-It/packages/proveit/decorators.py\u001b[0m in \u001b[0;36mdecorated_prover\u001b[0;34m(*args, **kwargs)\u001b[0m\n\u001b[1;32m    145\u001b[0m                 \u001b[0mAssumption\u001b[0m\u001b[0;34m.\u001b[0m\u001b[0mmake_assumptions\u001b[0m\u001b[0;34m(\u001b[0m\u001b[0;34m)\u001b[0m\u001b[0;34m\u001b[0m\u001b[0;34m\u001b[0m\u001b[0m\n\u001b[1;32m    146\u001b[0m                 \u001b[0;31m# Now call the prover function.\u001b[0m\u001b[0;34m\u001b[0m\u001b[0;34m\u001b[0m\u001b[0;34m\u001b[0m\u001b[0m\n\u001b[0;32m--> 147\u001b[0;31m                 \u001b[0mproven_truth\u001b[0m \u001b[0;34m=\u001b[0m \u001b[0mchecked_truth\u001b[0m\u001b[0;34m(\u001b[0m\u001b[0mfunc\u001b[0m\u001b[0;34m(\u001b[0m\u001b[0;34m*\u001b[0m\u001b[0margs\u001b[0m\u001b[0;34m,\u001b[0m \u001b[0;34m**\u001b[0m\u001b[0mkwargs\u001b[0m\u001b[0;34m)\u001b[0m\u001b[0;34m)\u001b[0m\u001b[0;34m\u001b[0m\u001b[0;34m\u001b[0m\u001b[0m\n\u001b[0m\u001b[1;32m    148\u001b[0m         \u001b[0;32melse\u001b[0m\u001b[0;34m:\u001b[0m\u001b[0;34m\u001b[0m\u001b[0;34m\u001b[0m\u001b[0m\n\u001b[1;32m    149\u001b[0m             \u001b[0;31m# No defaults reconfiguration.\u001b[0m\u001b[0;34m\u001b[0m\u001b[0;34m\u001b[0m\u001b[0;34m\u001b[0m\u001b[0m\n",
      "\u001b[0;32m/home/wwitzel/Prove-It/packages/proveit/physics/quantum/algebra/qmult.py\u001b[0m in \u001b[0;36mconclude\u001b[0;34m(self, **defaults_config)\u001b[0m\n\u001b[1;32m    787\u001b[0m                 \u001b[0;32mif\u001b[0m \u001b[0;32mnot\u001b[0m \u001b[0mbinary_membership\u001b[0m\u001b[0;34m.\u001b[0m\u001b[0mproven\u001b[0m\u001b[0;34m(\u001b[0m\u001b[0;34m)\u001b[0m\u001b[0;34m:\u001b[0m\u001b[0;34m\u001b[0m\u001b[0;34m\u001b[0m\u001b[0m\n\u001b[1;32m    788\u001b[0m                     QmultCodomain.membership_object(\n\u001b[0;32m--> 789\u001b[0;31m                             multi_def.rhs).conclude()\n\u001b[0m\u001b[1;32m    790\u001b[0m                 \u001b[0mbinary_membership\u001b[0m \u001b[0;34m=\u001b[0m \u001b[0mbinary_membership\u001b[0m\u001b[0;34m.\u001b[0m\u001b[0mprove\u001b[0m\u001b[0;34m(\u001b[0m\u001b[0;34m)\u001b[0m\u001b[0;34m\u001b[0m\u001b[0;34m\u001b[0m\u001b[0m\n\u001b[1;32m    791\u001b[0m                 \u001b[0;31m# We need to propogate the side-effect memberships.\u001b[0m\u001b[0;34m\u001b[0m\u001b[0;34m\u001b[0m\u001b[0;34m\u001b[0m\u001b[0m\n",
      "\u001b[0;32m/home/wwitzel/Prove-It/packages/proveit/decorators.py\u001b[0m in \u001b[0;36mdecorated_prover\u001b[0;34m(*args, **kwargs)\u001b[0m\n\u001b[1;32m    145\u001b[0m                 \u001b[0mAssumption\u001b[0m\u001b[0;34m.\u001b[0m\u001b[0mmake_assumptions\u001b[0m\u001b[0;34m(\u001b[0m\u001b[0;34m)\u001b[0m\u001b[0;34m\u001b[0m\u001b[0;34m\u001b[0m\u001b[0m\n\u001b[1;32m    146\u001b[0m                 \u001b[0;31m# Now call the prover function.\u001b[0m\u001b[0;34m\u001b[0m\u001b[0;34m\u001b[0m\u001b[0;34m\u001b[0m\u001b[0m\n\u001b[0;32m--> 147\u001b[0;31m                 \u001b[0mproven_truth\u001b[0m \u001b[0;34m=\u001b[0m \u001b[0mchecked_truth\u001b[0m\u001b[0;34m(\u001b[0m\u001b[0mfunc\u001b[0m\u001b[0;34m(\u001b[0m\u001b[0;34m*\u001b[0m\u001b[0margs\u001b[0m\u001b[0;34m,\u001b[0m \u001b[0;34m**\u001b[0m\u001b[0mkwargs\u001b[0m\u001b[0;34m)\u001b[0m\u001b[0;34m)\u001b[0m\u001b[0;34m\u001b[0m\u001b[0;34m\u001b[0m\u001b[0m\n\u001b[0m\u001b[1;32m    148\u001b[0m         \u001b[0;32melse\u001b[0m\u001b[0;34m:\u001b[0m\u001b[0;34m\u001b[0m\u001b[0;34m\u001b[0m\u001b[0m\n\u001b[1;32m    149\u001b[0m             \u001b[0;31m# No defaults reconfiguration.\u001b[0m\u001b[0;34m\u001b[0m\u001b[0;34m\u001b[0m\u001b[0;34m\u001b[0m\u001b[0m\n",
      "\u001b[0;32m/home/wwitzel/Prove-It/packages/proveit/physics/quantum/algebra/qmult.py\u001b[0m in \u001b[0;36mconclude\u001b[0;34m(self, **defaults_config)\u001b[0m\n\u001b[1;32m    639\u001b[0m                 \u001b[0;31m# Prove memberships of unary Qmult on each of the\u001b[0m\u001b[0;34m\u001b[0m\u001b[0;34m\u001b[0m\u001b[0;34m\u001b[0m\u001b[0m\n\u001b[1;32m    640\u001b[0m                 \u001b[0;31m# operands to fascilitate the various cases below.\u001b[0m\u001b[0;34m\u001b[0m\u001b[0;34m\u001b[0m\u001b[0;34m\u001b[0m\u001b[0m\n\u001b[0;32m--> 641\u001b[0;31m                 \u001b[0mQmultCodomain\u001b[0m\u001b[0;34m.\u001b[0m\u001b[0mmembership_object\u001b[0m\u001b[0;34m(\u001b[0m\u001b[0mQmult\u001b[0m\u001b[0;34m(\u001b[0m\u001b[0mop1\u001b[0m\u001b[0;34m)\u001b[0m\u001b[0;34m)\u001b[0m\u001b[0;34m.\u001b[0m\u001b[0mconclude\u001b[0m\u001b[0;34m(\u001b[0m\u001b[0;34m)\u001b[0m\u001b[0;34m\u001b[0m\u001b[0;34m\u001b[0m\u001b[0m\n\u001b[0m\u001b[1;32m    642\u001b[0m                 \u001b[0mQmultCodomain\u001b[0m\u001b[0;34m.\u001b[0m\u001b[0mmembership_object\u001b[0m\u001b[0;34m(\u001b[0m\u001b[0mQmult\u001b[0m\u001b[0;34m(\u001b[0m\u001b[0mop2\u001b[0m\u001b[0;34m)\u001b[0m\u001b[0;34m)\u001b[0m\u001b[0;34m.\u001b[0m\u001b[0mconclude\u001b[0m\u001b[0;34m(\u001b[0m\u001b[0;34m)\u001b[0m\u001b[0;34m\u001b[0m\u001b[0;34m\u001b[0m\u001b[0m\n\u001b[1;32m    643\u001b[0m \u001b[0;34m\u001b[0m\u001b[0m\n",
      "\u001b[0;32m/home/wwitzel/Prove-It/packages/proveit/decorators.py\u001b[0m in \u001b[0;36mdecorated_prover\u001b[0;34m(*args, **kwargs)\u001b[0m\n\u001b[1;32m    145\u001b[0m                 \u001b[0mAssumption\u001b[0m\u001b[0;34m.\u001b[0m\u001b[0mmake_assumptions\u001b[0m\u001b[0;34m(\u001b[0m\u001b[0;34m)\u001b[0m\u001b[0;34m\u001b[0m\u001b[0;34m\u001b[0m\u001b[0m\n\u001b[1;32m    146\u001b[0m                 \u001b[0;31m# Now call the prover function.\u001b[0m\u001b[0;34m\u001b[0m\u001b[0;34m\u001b[0m\u001b[0;34m\u001b[0m\u001b[0m\n\u001b[0;32m--> 147\u001b[0;31m                 \u001b[0mproven_truth\u001b[0m \u001b[0;34m=\u001b[0m \u001b[0mchecked_truth\u001b[0m\u001b[0;34m(\u001b[0m\u001b[0mfunc\u001b[0m\u001b[0;34m(\u001b[0m\u001b[0;34m*\u001b[0m\u001b[0margs\u001b[0m\u001b[0;34m,\u001b[0m \u001b[0;34m**\u001b[0m\u001b[0mkwargs\u001b[0m\u001b[0;34m)\u001b[0m\u001b[0;34m)\u001b[0m\u001b[0;34m\u001b[0m\u001b[0;34m\u001b[0m\u001b[0m\n\u001b[0m\u001b[1;32m    148\u001b[0m         \u001b[0;32melse\u001b[0m\u001b[0;34m:\u001b[0m\u001b[0;34m\u001b[0m\u001b[0;34m\u001b[0m\u001b[0m\n\u001b[1;32m    149\u001b[0m             \u001b[0;31m# No defaults reconfiguration.\u001b[0m\u001b[0;34m\u001b[0m\u001b[0;34m\u001b[0m\u001b[0;34m\u001b[0m\u001b[0m\n",
      "\u001b[0;32m/home/wwitzel/Prove-It/packages/proveit/physics/quantum/algebra/qmult.py\u001b[0m in \u001b[0;36mconclude\u001b[0;34m(self, **defaults_config)\u001b[0m\n\u001b[1;32m    544\u001b[0m                     \u001b[0;31m# Prove memberships of the nested unary Qmult\u001b[0m\u001b[0;34m\u001b[0m\u001b[0;34m\u001b[0m\u001b[0;34m\u001b[0m\u001b[0m\n\u001b[1;32m    545\u001b[0m                     \u001b[0;31m# to fascilitate the cases below.\u001b[0m\u001b[0;34m\u001b[0m\u001b[0;34m\u001b[0m\u001b[0;34m\u001b[0m\u001b[0m\n\u001b[0;32m--> 546\u001b[0;31m                     \u001b[0mQmultCodomain\u001b[0m\u001b[0;34m.\u001b[0m\u001b[0mmembership_object\u001b[0m\u001b[0;34m(\u001b[0m\u001b[0mop\u001b[0m\u001b[0;34m)\u001b[0m\u001b[0;34m.\u001b[0m\u001b[0mconclude\u001b[0m\u001b[0;34m(\u001b[0m\u001b[0;34m)\u001b[0m\u001b[0;34m\u001b[0m\u001b[0;34m\u001b[0m\u001b[0m\n\u001b[0m\u001b[1;32m    547\u001b[0m                     \u001b[0;32mfor\u001b[0m \u001b[0m_Hspace\u001b[0m \u001b[0;32min\u001b[0m \u001b[0myield_known_hilbert_spaces\u001b[0m\u001b[0;34m(\u001b[0m\u001b[0mop\u001b[0m\u001b[0;34m)\u001b[0m\u001b[0;34m:\u001b[0m\u001b[0;34m\u001b[0m\u001b[0;34m\u001b[0m\u001b[0m\n\u001b[1;32m    548\u001b[0m                         \u001b[0;31m# Propagate Hspace membership\u001b[0m\u001b[0;34m\u001b[0m\u001b[0;34m\u001b[0m\u001b[0;34m\u001b[0m\u001b[0m\n",
      "\u001b[0;32m/home/wwitzel/Prove-It/packages/proveit/decorators.py\u001b[0m in \u001b[0;36mdecorated_prover\u001b[0;34m(*args, **kwargs)\u001b[0m\n\u001b[1;32m    145\u001b[0m                 \u001b[0mAssumption\u001b[0m\u001b[0;34m.\u001b[0m\u001b[0mmake_assumptions\u001b[0m\u001b[0;34m(\u001b[0m\u001b[0;34m)\u001b[0m\u001b[0;34m\u001b[0m\u001b[0;34m\u001b[0m\u001b[0m\n\u001b[1;32m    146\u001b[0m                 \u001b[0;31m# Now call the prover function.\u001b[0m\u001b[0;34m\u001b[0m\u001b[0;34m\u001b[0m\u001b[0;34m\u001b[0m\u001b[0m\n\u001b[0;32m--> 147\u001b[0;31m                 \u001b[0mproven_truth\u001b[0m \u001b[0;34m=\u001b[0m \u001b[0mchecked_truth\u001b[0m\u001b[0;34m(\u001b[0m\u001b[0mfunc\u001b[0m\u001b[0;34m(\u001b[0m\u001b[0;34m*\u001b[0m\u001b[0margs\u001b[0m\u001b[0;34m,\u001b[0m \u001b[0;34m**\u001b[0m\u001b[0mkwargs\u001b[0m\u001b[0;34m)\u001b[0m\u001b[0;34m)\u001b[0m\u001b[0;34m\u001b[0m\u001b[0;34m\u001b[0m\u001b[0m\n\u001b[0m\u001b[1;32m    148\u001b[0m         \u001b[0;32melse\u001b[0m\u001b[0;34m:\u001b[0m\u001b[0;34m\u001b[0m\u001b[0;34m\u001b[0m\u001b[0m\n\u001b[1;32m    149\u001b[0m             \u001b[0;31m# No defaults reconfiguration.\u001b[0m\u001b[0;34m\u001b[0m\u001b[0;34m\u001b[0m\u001b[0;34m\u001b[0m\u001b[0m\n",
      "\u001b[0;32m/home/wwitzel/Prove-It/packages/proveit/physics/quantum/algebra/qmult.py\u001b[0m in \u001b[0;36mconclude\u001b[0;34m(self, **defaults_config)\u001b[0m\n\u001b[1;32m    787\u001b[0m                 \u001b[0;32mif\u001b[0m \u001b[0;32mnot\u001b[0m \u001b[0mbinary_membership\u001b[0m\u001b[0;34m.\u001b[0m\u001b[0mproven\u001b[0m\u001b[0;34m(\u001b[0m\u001b[0;34m)\u001b[0m\u001b[0;34m:\u001b[0m\u001b[0;34m\u001b[0m\u001b[0;34m\u001b[0m\u001b[0m\n\u001b[1;32m    788\u001b[0m                     QmultCodomain.membership_object(\n\u001b[0;32m--> 789\u001b[0;31m                             multi_def.rhs).conclude()\n\u001b[0m\u001b[1;32m    790\u001b[0m                 \u001b[0mbinary_membership\u001b[0m \u001b[0;34m=\u001b[0m \u001b[0mbinary_membership\u001b[0m\u001b[0;34m.\u001b[0m\u001b[0mprove\u001b[0m\u001b[0;34m(\u001b[0m\u001b[0;34m)\u001b[0m\u001b[0;34m\u001b[0m\u001b[0;34m\u001b[0m\u001b[0m\n\u001b[1;32m    791\u001b[0m                 \u001b[0;31m# We need to propogate the side-effect memberships.\u001b[0m\u001b[0;34m\u001b[0m\u001b[0;34m\u001b[0m\u001b[0;34m\u001b[0m\u001b[0m\n",
      "\u001b[0;32m/home/wwitzel/Prove-It/packages/proveit/decorators.py\u001b[0m in \u001b[0;36mdecorated_prover\u001b[0;34m(*args, **kwargs)\u001b[0m\n\u001b[1;32m    145\u001b[0m                 \u001b[0mAssumption\u001b[0m\u001b[0;34m.\u001b[0m\u001b[0mmake_assumptions\u001b[0m\u001b[0;34m(\u001b[0m\u001b[0;34m)\u001b[0m\u001b[0;34m\u001b[0m\u001b[0;34m\u001b[0m\u001b[0m\n\u001b[1;32m    146\u001b[0m                 \u001b[0;31m# Now call the prover function.\u001b[0m\u001b[0;34m\u001b[0m\u001b[0;34m\u001b[0m\u001b[0;34m\u001b[0m\u001b[0m\n\u001b[0;32m--> 147\u001b[0;31m                 \u001b[0mproven_truth\u001b[0m \u001b[0;34m=\u001b[0m \u001b[0mchecked_truth\u001b[0m\u001b[0;34m(\u001b[0m\u001b[0mfunc\u001b[0m\u001b[0;34m(\u001b[0m\u001b[0;34m*\u001b[0m\u001b[0margs\u001b[0m\u001b[0;34m,\u001b[0m \u001b[0;34m**\u001b[0m\u001b[0mkwargs\u001b[0m\u001b[0;34m)\u001b[0m\u001b[0;34m)\u001b[0m\u001b[0;34m\u001b[0m\u001b[0;34m\u001b[0m\u001b[0m\n\u001b[0m\u001b[1;32m    148\u001b[0m         \u001b[0;32melse\u001b[0m\u001b[0;34m:\u001b[0m\u001b[0;34m\u001b[0m\u001b[0;34m\u001b[0m\u001b[0m\n\u001b[1;32m    149\u001b[0m             \u001b[0;31m# No defaults reconfiguration.\u001b[0m\u001b[0;34m\u001b[0m\u001b[0;34m\u001b[0m\u001b[0;34m\u001b[0m\u001b[0m\n",
      "\u001b[0;32m/home/wwitzel/Prove-It/packages/proveit/physics/quantum/algebra/qmult.py\u001b[0m in \u001b[0;36mconclude\u001b[0;34m(self, **defaults_config)\u001b[0m\n\u001b[1;32m    662\u001b[0m                                 \u001b[0;34m{\u001b[0m\u001b[0mc\u001b[0m\u001b[0;34m:\u001b[0m\u001b[0m_c\u001b[0m\u001b[0;34m,\u001b[0m \u001b[0mHspace\u001b[0m\u001b[0;34m:\u001b[0m\u001b[0m_Hspace\u001b[0m\u001b[0;34m,\u001b[0m \u001b[0mvar_ket_psi\u001b[0m\u001b[0;34m:\u001b[0m\u001b[0m_A\u001b[0m\u001b[0;34m}\u001b[0m\u001b[0;34m,\u001b[0m\u001b[0;34m\u001b[0m\u001b[0;34m\u001b[0m\u001b[0m\n\u001b[1;32m    663\u001b[0m                                 preserve_all=True)\n\u001b[0;32m--> 664\u001b[0;31m                     \u001b[0;32mfor\u001b[0m \u001b[0mlinmap\u001b[0m \u001b[0;32min\u001b[0m \u001b[0mcontaining_hilbert_space_linmap_sets\u001b[0m\u001b[0;34m(\u001b[0m\u001b[0m_A\u001b[0m\u001b[0;34m)\u001b[0m\u001b[0;34m:\u001b[0m\u001b[0;34m\u001b[0m\u001b[0;34m\u001b[0m\u001b[0m\n\u001b[0m\u001b[1;32m    665\u001b[0m                         \u001b[0;31m# If the other op is in any Hilbert space linear\u001b[0m\u001b[0;34m\u001b[0m\u001b[0;34m\u001b[0m\u001b[0;34m\u001b[0m\u001b[0m\n\u001b[1;32m    666\u001b[0m                         \u001b[0;31m# mappings, also prove closure within the\u001b[0m\u001b[0;34m\u001b[0m\u001b[0;34m\u001b[0m\u001b[0;34m\u001b[0m\u001b[0m\n",
      "\u001b[0;32m/home/wwitzel/Prove-It/packages/proveit/physics/quantum/algebra/qmult.py\u001b[0m in \u001b[0;36mcontaining_hilbert_space_linmap_sets\u001b[0;34m(qobj)\u001b[0m\n\u001b[1;32m    891\u001b[0m                                     \"domains.\")\n\u001b[1;32m    892\u001b[0m                 \u001b[0;32mfor\u001b[0m \u001b[0mvec_space\u001b[0m \u001b[0;32min\u001b[0m \u001b[0mlinmap\u001b[0m\u001b[0;34m.\u001b[0m\u001b[0moperands\u001b[0m\u001b[0;34m:\u001b[0m\u001b[0;34m\u001b[0m\u001b[0;34m\u001b[0m\u001b[0m\n\u001b[0;32m--> 893\u001b[0;31m                     \u001b[0mdeduce_as_hilbert_space\u001b[0m\u001b[0;34m(\u001b[0m\u001b[0mvec_space\u001b[0m\u001b[0;34m)\u001b[0m\u001b[0;34m\u001b[0m\u001b[0;34m\u001b[0m\u001b[0m\n\u001b[0m\u001b[1;32m    894\u001b[0m                 if all(InClass(V, HilbertSpaces).proven() for V \n\u001b[1;32m    895\u001b[0m                        in linmap.operands):\n",
      "\u001b[0;32m/home/wwitzel/Prove-It/packages/proveit/decorators.py\u001b[0m in \u001b[0;36mdecorated_prover\u001b[0;34m(*args, **kwargs)\u001b[0m\n\u001b[1;32m    152\u001b[0m             \u001b[0mAssumption\u001b[0m\u001b[0;34m.\u001b[0m\u001b[0mmake_assumptions\u001b[0m\u001b[0;34m(\u001b[0m\u001b[0;34m)\u001b[0m\u001b[0;34m\u001b[0m\u001b[0;34m\u001b[0m\u001b[0m\n\u001b[1;32m    153\u001b[0m             \u001b[0;31m# Now call the prover function.\u001b[0m\u001b[0;34m\u001b[0m\u001b[0;34m\u001b[0m\u001b[0;34m\u001b[0m\u001b[0m\n\u001b[0;32m--> 154\u001b[0;31m             \u001b[0mproven_truth\u001b[0m \u001b[0;34m=\u001b[0m \u001b[0mchecked_truth\u001b[0m\u001b[0;34m(\u001b[0m\u001b[0mfunc\u001b[0m\u001b[0;34m(\u001b[0m\u001b[0;34m*\u001b[0m\u001b[0margs\u001b[0m\u001b[0;34m,\u001b[0m \u001b[0;34m**\u001b[0m\u001b[0mkwargs\u001b[0m\u001b[0;34m)\u001b[0m\u001b[0;34m)\u001b[0m\u001b[0;34m\u001b[0m\u001b[0;34m\u001b[0m\u001b[0m\n\u001b[0m\u001b[1;32m    155\u001b[0m \u001b[0;34m\u001b[0m\u001b[0m\n\u001b[1;32m    156\u001b[0m         \u001b[0;32mif\u001b[0m \u001b[0mis_conclude_method\u001b[0m\u001b[0;34m:\u001b[0m\u001b[0;34m\u001b[0m\u001b[0;34m\u001b[0m\u001b[0m\n",
      "\u001b[0;32m/home/wwitzel/Prove-It/packages/proveit/physics/quantum/algebra/hilbert_spaces.py\u001b[0m in \u001b[0;36mdeduce_as_hilbert_space\u001b[0;34m(expr, **defaults_config)\u001b[0m\n\u001b[1;32m    141\u001b[0m     '''\n\u001b[1;32m    142\u001b[0m     \u001b[0;32mfrom\u001b[0m \u001b[0mproveit\u001b[0m\u001b[0;34m.\u001b[0m\u001b[0mlogic\u001b[0m \u001b[0;32mimport\u001b[0m \u001b[0mCartExp\u001b[0m\u001b[0;34m\u001b[0m\u001b[0;34m\u001b[0m\u001b[0m\n\u001b[0;32m--> 143\u001b[0;31m     \u001b[0;32mfrom\u001b[0m \u001b[0;34m.\u001b[0m \u001b[0;32mimport\u001b[0m \u001b[0mHilbertSpaces\u001b[0m\u001b[0;34m,\u001b[0m \u001b[0mhilbert_space_def\u001b[0m\u001b[0;34m\u001b[0m\u001b[0;34m\u001b[0m\u001b[0m\n\u001b[0m\u001b[1;32m    144\u001b[0m     \u001b[0;32mif\u001b[0m \u001b[0mInClass\u001b[0m\u001b[0;34m(\u001b[0m\u001b[0mexpr\u001b[0m\u001b[0;34m,\u001b[0m \u001b[0mHilbertSpaces\u001b[0m\u001b[0;34m)\u001b[0m\u001b[0;34m.\u001b[0m\u001b[0mproven\u001b[0m\u001b[0;34m(\u001b[0m\u001b[0;34m)\u001b[0m\u001b[0;34m:\u001b[0m\u001b[0;34m\u001b[0m\u001b[0;34m\u001b[0m\u001b[0m\n\u001b[1;32m    145\u001b[0m         \u001b[0;31m# Already known as an appropriate vector space.\u001b[0m\u001b[0;34m\u001b[0m\u001b[0;34m\u001b[0m\u001b[0;34m\u001b[0m\u001b[0m\n",
      "\u001b[0;32m/home/wwitzel/Prove-It/packages/proveit/_core_/theory.py\u001b[0m in \u001b[0;36m__getattr__\u001b[0;34m(self, name)\u001b[0m\n\u001b[1;32m    652\u001b[0m             \u001b[0;32mreturn\u001b[0m \u001b[0mself\u001b[0m\u001b[0;34m.\u001b[0m\u001b[0m_theory\u001b[0m\u001b[0;34m.\u001b[0m\u001b[0mget_theorem\u001b[0m\u001b[0;34m(\u001b[0m\u001b[0mname\u001b[0m\u001b[0;34m)\u001b[0m\u001b[0;34m.\u001b[0m\u001b[0mproven_truth\u001b[0m\u001b[0;34m\u001b[0m\u001b[0;34m\u001b[0m\u001b[0m\n\u001b[1;32m    653\u001b[0m         \u001b[0;32mtry\u001b[0m\u001b[0;34m:\u001b[0m\u001b[0;34m\u001b[0m\u001b[0;34m\u001b[0m\u001b[0m\n\u001b[0;32m--> 654\u001b[0;31m             \u001b[0;32mreturn\u001b[0m \u001b[0mself\u001b[0m\u001b[0;34m.\u001b[0m\u001b[0m_theory\u001b[0m\u001b[0;34m.\u001b[0m\u001b[0mget_common_expr\u001b[0m\u001b[0;34m(\u001b[0m\u001b[0mname\u001b[0m\u001b[0;34m)\u001b[0m\u001b[0;34m\u001b[0m\u001b[0;34m\u001b[0m\u001b[0m\n\u001b[0m\u001b[1;32m    655\u001b[0m         \u001b[0;32mexcept\u001b[0m \u001b[0;34m(\u001b[0m\u001b[0mKeyError\u001b[0m\u001b[0;34m,\u001b[0m \u001b[0mOSError\u001b[0m\u001b[0;34m,\u001b[0m \u001b[0mTheoryException\u001b[0m\u001b[0;34m)\u001b[0m\u001b[0;34m:\u001b[0m\u001b[0;34m\u001b[0m\u001b[0;34m\u001b[0m\u001b[0m\n\u001b[1;32m    656\u001b[0m             \u001b[0;32mimport\u001b[0m \u001b[0mproveit\u001b[0m\u001b[0;34m\u001b[0m\u001b[0;34m\u001b[0m\u001b[0m\n",
      "\u001b[0;32m/home/wwitzel/Prove-It/packages/proveit/_core_/theory.py\u001b[0m in \u001b[0;36mget_common_expr\u001b[0;34m(self, name)\u001b[0m\n\u001b[1;32m    537\u001b[0m         \u001b[0;32mwith\u001b[0m \u001b[0mthe\u001b[0m \u001b[0mgiven\u001b[0m \u001b[0mname\u001b[0m\u001b[0;34m.\u001b[0m\u001b[0;34m\u001b[0m\u001b[0;34m\u001b[0m\u001b[0m\n\u001b[1;32m    538\u001b[0m         '''\n\u001b[0;32m--> 539\u001b[0;31m         \u001b[0;32mreturn\u001b[0m \u001b[0mself\u001b[0m\u001b[0;34m.\u001b[0m\u001b[0m_storage\u001b[0m\u001b[0;34m.\u001b[0m\u001b[0mget_common_expr\u001b[0m\u001b[0;34m(\u001b[0m\u001b[0mname\u001b[0m\u001b[0;34m)\u001b[0m\u001b[0;34m\u001b[0m\u001b[0;34m\u001b[0m\u001b[0m\n\u001b[0m\u001b[1;32m    540\u001b[0m \u001b[0;34m\u001b[0m\u001b[0m\n\u001b[1;32m    541\u001b[0m     \u001b[0;32mdef\u001b[0m \u001b[0mget_stored_expr\u001b[0m\u001b[0;34m(\u001b[0m\u001b[0mself\u001b[0m\u001b[0;34m,\u001b[0m \u001b[0mexpr_id\u001b[0m\u001b[0;34m,\u001b[0m \u001b[0mfolder\u001b[0m\u001b[0;34m=\u001b[0m\u001b[0;32mNone\u001b[0m\u001b[0;34m)\u001b[0m\u001b[0;34m:\u001b[0m\u001b[0;34m\u001b[0m\u001b[0;34m\u001b[0m\u001b[0m\n",
      "\u001b[0;32m/home/wwitzel/Prove-It/packages/proveit/_core_/_theory_storage.py\u001b[0m in \u001b[0;36mget_common_expr\u001b[0;34m(self, name)\u001b[0m\n\u001b[1;32m    577\u001b[0m         \u001b[0;32mwith\u001b[0m \u001b[0mthe\u001b[0m \u001b[0mgiven\u001b[0m \u001b[0mname\u001b[0m\u001b[0;34m.\u001b[0m\u001b[0;34m\u001b[0m\u001b[0;34m\u001b[0m\u001b[0m\n\u001b[1;32m    578\u001b[0m         '''\n\u001b[0;32m--> 579\u001b[0;31m         \u001b[0mexpr\u001b[0m \u001b[0;34m=\u001b[0m \u001b[0mself\u001b[0m\u001b[0;34m.\u001b[0m\u001b[0m_getSpecialObject\u001b[0m\u001b[0;34m(\u001b[0m\u001b[0;34m'common'\u001b[0m\u001b[0;34m,\u001b[0m \u001b[0mname\u001b[0m\u001b[0;34m)\u001b[0m\u001b[0;34m\u001b[0m\u001b[0;34m\u001b[0m\u001b[0m\n\u001b[0m\u001b[1;32m    580\u001b[0m         \u001b[0mself\u001b[0m\u001b[0;34m.\u001b[0m\u001b[0m_loadedCommonExprs\u001b[0m\u001b[0;34m[\u001b[0m\u001b[0mname\u001b[0m\u001b[0;34m]\u001b[0m \u001b[0;34m=\u001b[0m \u001b[0mexpr\u001b[0m\u001b[0;34m\u001b[0m\u001b[0;34m\u001b[0m\u001b[0m\n\u001b[1;32m    581\u001b[0m         \u001b[0;32mreturn\u001b[0m \u001b[0mexpr\u001b[0m\u001b[0;34m\u001b[0m\u001b[0;34m\u001b[0m\u001b[0m\n",
      "\u001b[0;32m/home/wwitzel/Prove-It/packages/proveit/_core_/_theory_storage.py\u001b[0m in \u001b[0;36m_getSpecialObject\u001b[0;34m(self, kind, name)\u001b[0m\n\u001b[1;32m    627\u001b[0m             \u001b[0;31m# make and return expression, axiom, or theorem\u001b[0m\u001b[0;34m\u001b[0m\u001b[0;34m\u001b[0m\u001b[0;34m\u001b[0m\u001b[0m\n\u001b[1;32m    628\u001b[0m             \u001b[0;32mif\u001b[0m \u001b[0mkind\u001b[0m \u001b[0;34m==\u001b[0m \u001b[0;34m'common'\u001b[0m\u001b[0;34m:\u001b[0m\u001b[0;34m\u001b[0m\u001b[0;34m\u001b[0m\u001b[0m\n\u001b[0;32m--> 629\u001b[0;31m                 \u001b[0mobj\u001b[0m \u001b[0;34m=\u001b[0m \u001b[0mtheory_folder_storage\u001b[0m\u001b[0;34m.\u001b[0m\u001b[0mmake_expression\u001b[0m\u001b[0;34m(\u001b[0m\u001b[0mobj_id\u001b[0m\u001b[0;34m)\u001b[0m\u001b[0;34m\u001b[0m\u001b[0;34m\u001b[0m\u001b[0m\n\u001b[0m\u001b[1;32m    630\u001b[0m             \u001b[0;32melif\u001b[0m \u001b[0mkind\u001b[0m \u001b[0;34m==\u001b[0m \u001b[0;34m'axiom'\u001b[0m\u001b[0;34m:\u001b[0m\u001b[0;34m\u001b[0m\u001b[0;34m\u001b[0m\u001b[0m\n\u001b[1;32m    631\u001b[0m                 \u001b[0mobj\u001b[0m \u001b[0;34m=\u001b[0m \u001b[0mtheory_folder_storage\u001b[0m\u001b[0;34m.\u001b[0m\u001b[0mmake_judgment_or_proof\u001b[0m\u001b[0;34m(\u001b[0m\u001b[0mobj_id\u001b[0m\u001b[0;34m)\u001b[0m\u001b[0;34m\u001b[0m\u001b[0;34m\u001b[0m\u001b[0m\n",
      "\u001b[0;32m/home/wwitzel/Prove-It/packages/proveit/_core_/_theory_storage.py\u001b[0m in \u001b[0;36mmake_expression\u001b[0;34m(self, expr_id)\u001b[0m\n\u001b[1;32m   1984\u001b[0m             \u001b[0;31m# by in the process of rebuilding.\u001b[0m\u001b[0;34m\u001b[0m\u001b[0;34m\u001b[0m\u001b[0;34m\u001b[0m\u001b[0m\n\u001b[1;32m   1985\u001b[0m             \u001b[0;32mpass\u001b[0m\u001b[0;34m\u001b[0m\u001b[0;34m\u001b[0m\u001b[0m\n\u001b[0;32m-> 1986\u001b[0;31m         \u001b[0mexpr\u001b[0m \u001b[0;34m=\u001b[0m \u001b[0mself\u001b[0m\u001b[0;34m.\u001b[0m\u001b[0m_make_expression\u001b[0m\u001b[0;34m(\u001b[0m\u001b[0mexpr_id\u001b[0m\u001b[0;34m,\u001b[0m \u001b[0mimport_fn\u001b[0m\u001b[0;34m,\u001b[0m \u001b[0mexpr_builder_fn\u001b[0m\u001b[0;34m)\u001b[0m\u001b[0;34m\u001b[0m\u001b[0;34m\u001b[0m\u001b[0m\n\u001b[0m\u001b[1;32m   1987\u001b[0m         \u001b[0;32mreturn\u001b[0m \u001b[0mexpr\u001b[0m\u001b[0;34m\u001b[0m\u001b[0;34m\u001b[0m\u001b[0m\n\u001b[1;32m   1988\u001b[0m \u001b[0;34m\u001b[0m\u001b[0m\n",
      "\u001b[0;32m/home/wwitzel/Prove-It/packages/proveit/_core_/_theory_storage.py\u001b[0m in \u001b[0;36m_make_expression\u001b[0;34m(self, expr_id, import_fn, expr_builder_fn)\u001b[0m\n\u001b[1;32m   2051\u001b[0m                 \u001b[0;32mreturn\u001b[0m \u001b[0mdependent_ids\u001b[0m\u001b[0;34m\u001b[0m\u001b[0;34m\u001b[0m\u001b[0m\n\u001b[1;32m   2052\u001b[0m \u001b[0;34m\u001b[0m\u001b[0m\n\u001b[0;32m-> 2053\u001b[0;31m         \u001b[0mexpr_ids\u001b[0m \u001b[0;34m=\u001b[0m \u001b[0mordered_dependency_nodes\u001b[0m\u001b[0;34m(\u001b[0m\u001b[0mexpr_id\u001b[0m\u001b[0;34m,\u001b[0m \u001b[0mget_dependent_expr_ids\u001b[0m\u001b[0;34m)\u001b[0m\u001b[0;34m\u001b[0m\u001b[0;34m\u001b[0m\u001b[0m\n\u001b[0m\u001b[1;32m   2054\u001b[0m         \u001b[0;32mfor\u001b[0m \u001b[0mexpr_id\u001b[0m \u001b[0;32min\u001b[0m \u001b[0mreversed\u001b[0m\u001b[0;34m(\u001b[0m\u001b[0mexpr_ids\u001b[0m\u001b[0;34m)\u001b[0m\u001b[0;34m:\u001b[0m\u001b[0;34m\u001b[0m\u001b[0;34m\u001b[0m\u001b[0m\n\u001b[1;32m   2055\u001b[0m             \u001b[0;32mif\u001b[0m \u001b[0mexpr_id\u001b[0m \u001b[0;32min\u001b[0m \u001b[0mexpr_class_rel_strs\u001b[0m\u001b[0;34m:\u001b[0m\u001b[0;34m\u001b[0m\u001b[0;34m\u001b[0m\u001b[0m\n",
      "\u001b[0;32m/home/wwitzel/Prove-It/packages/proveit/_core_/_dependency_graph.py\u001b[0m in \u001b[0;36mordered_dependency_nodes\u001b[0;34m(root_node, requirements_fn)\u001b[0m\n\u001b[1;32m     24\u001b[0m         \u001b[0mnext_node\u001b[0m \u001b[0;34m=\u001b[0m \u001b[0mqueue\u001b[0m\u001b[0;34m.\u001b[0m\u001b[0mpop\u001b[0m\u001b[0;34m(\u001b[0m\u001b[0;36m0\u001b[0m\u001b[0;34m)\u001b[0m\u001b[0;34m\u001b[0m\u001b[0;34m\u001b[0m\u001b[0m\n\u001b[1;32m     25\u001b[0m         \u001b[0mnodes_with_repeats\u001b[0m\u001b[0;34m.\u001b[0m\u001b[0mappend\u001b[0m\u001b[0;34m(\u001b[0m\u001b[0mnext_node\u001b[0m\u001b[0;34m)\u001b[0m\u001b[0;34m\u001b[0m\u001b[0;34m\u001b[0m\u001b[0m\n\u001b[0;32m---> 26\u001b[0;31m         \u001b[0mqueue\u001b[0m\u001b[0;34m.\u001b[0m\u001b[0mextend\u001b[0m\u001b[0;34m(\u001b[0m\u001b[0mrequirements_fn\u001b[0m\u001b[0;34m(\u001b[0m\u001b[0mnext_node\u001b[0m\u001b[0;34m)\u001b[0m\u001b[0;34m)\u001b[0m\u001b[0;34m\u001b[0m\u001b[0;34m\u001b[0m\u001b[0m\n\u001b[0m\u001b[1;32m     27\u001b[0m     \u001b[0;31m# Second pass: remove duplicates.  Requirements should always come later\u001b[0m\u001b[0;34m\u001b[0m\u001b[0;34m\u001b[0m\u001b[0;34m\u001b[0m\u001b[0m\n\u001b[1;32m     28\u001b[0m     \u001b[0;31m# (presenting the graph in a way that guarantees that it is acyclic).\u001b[0m\u001b[0;34m\u001b[0m\u001b[0;34m\u001b[0m\u001b[0;34m\u001b[0m\u001b[0m\n",
      "\u001b[0;32m/home/wwitzel/Prove-It/packages/proveit/_core_/_theory_storage.py\u001b[0m in \u001b[0;36mget_dependent_expr_ids\u001b[0;34m(expr_id)\u001b[0m\n\u001b[1;32m   2027\u001b[0m                                           hash_directory)\n\u001b[1;32m   2028\u001b[0m             \u001b[0mhash_path\u001b[0m \u001b[0;34m=\u001b[0m \u001b[0mself\u001b[0m\u001b[0;34m.\u001b[0m\u001b[0m_storagePath\u001b[0m\u001b[0;34m(\u001b[0m\u001b[0mexpr_id\u001b[0m\u001b[0;34m)\u001b[0m\u001b[0;34m\u001b[0m\u001b[0;34m\u001b[0m\u001b[0m\n\u001b[0;32m-> 2029\u001b[0;31m             \u001b[0;32mwith\u001b[0m \u001b[0mopen\u001b[0m\u001b[0;34m(\u001b[0m\u001b[0mos\u001b[0m\u001b[0;34m.\u001b[0m\u001b[0mpath\u001b[0m\u001b[0;34m.\u001b[0m\u001b[0mjoin\u001b[0m\u001b[0;34m(\u001b[0m\u001b[0mhash_path\u001b[0m\u001b[0;34m,\u001b[0m \u001b[0;34m'unique_rep.pv_it'\u001b[0m\u001b[0;34m)\u001b[0m\u001b[0;34m,\u001b[0m \u001b[0;34m'r'\u001b[0m\u001b[0;34m)\u001b[0m \u001b[0;32mas\u001b[0m \u001b[0mf\u001b[0m\u001b[0;34m:\u001b[0m\u001b[0;34m\u001b[0m\u001b[0;34m\u001b[0m\u001b[0m\n\u001b[0m\u001b[1;32m   2030\u001b[0m                 \u001b[0;31m# Extract the unique representation from the pv_it file.\u001b[0m\u001b[0;34m\u001b[0m\u001b[0;34m\u001b[0m\u001b[0;34m\u001b[0m\u001b[0m\n\u001b[1;32m   2031\u001b[0m                 \u001b[0munique_rep\u001b[0m \u001b[0;34m=\u001b[0m \u001b[0mf\u001b[0m\u001b[0;34m.\u001b[0m\u001b[0mread\u001b[0m\u001b[0;34m(\u001b[0m\u001b[0;34m)\u001b[0m\u001b[0;34m\u001b[0m\u001b[0;34m\u001b[0m\u001b[0m\n",
      "\u001b[0;32m/projects/percept/linux_rhel6/anaconda3/lib/python3.7/_bootlocale.py\u001b[0m in \u001b[0;36mgetpreferredencoding\u001b[0;34m(do_setlocale)\u001b[0m\n\u001b[1;32m     31\u001b[0m                 \u001b[0;32mreturn\u001b[0m \u001b[0mlocale\u001b[0m\u001b[0;34m.\u001b[0m\u001b[0mgetpreferredencoding\u001b[0m\u001b[0;34m(\u001b[0m\u001b[0mdo_setlocale\u001b[0m\u001b[0;34m)\u001b[0m\u001b[0;34m\u001b[0m\u001b[0;34m\u001b[0m\u001b[0m\n\u001b[1;32m     32\u001b[0m     \u001b[0;32melse\u001b[0m\u001b[0;34m:\u001b[0m\u001b[0;34m\u001b[0m\u001b[0;34m\u001b[0m\u001b[0m\n\u001b[0;32m---> 33\u001b[0;31m         \u001b[0;32mdef\u001b[0m \u001b[0mgetpreferredencoding\u001b[0m\u001b[0;34m(\u001b[0m\u001b[0mdo_setlocale\u001b[0m\u001b[0;34m=\u001b[0m\u001b[0;32mTrue\u001b[0m\u001b[0;34m)\u001b[0m\u001b[0;34m:\u001b[0m\u001b[0;34m\u001b[0m\u001b[0;34m\u001b[0m\u001b[0m\n\u001b[0m\u001b[1;32m     34\u001b[0m             \u001b[0;32massert\u001b[0m \u001b[0;32mnot\u001b[0m \u001b[0mdo_setlocale\u001b[0m\u001b[0;34m\u001b[0m\u001b[0;34m\u001b[0m\u001b[0m\n\u001b[1;32m     35\u001b[0m             \u001b[0;32mif\u001b[0m \u001b[0msys\u001b[0m\u001b[0;34m.\u001b[0m\u001b[0mflags\u001b[0m\u001b[0;34m.\u001b[0m\u001b[0mutf8_mode\u001b[0m\u001b[0;34m:\u001b[0m\u001b[0;34m\u001b[0m\u001b[0;34m\u001b[0m\u001b[0m\n",
      "\u001b[0;31mKeyboardInterrupt\u001b[0m: "
     ]
    }
   ],
   "source": [
    "qmult4.simplification()"
   ]
  },
  {
   "cell_type": "code",
   "execution_count": null,
   "metadata": {},
   "outputs": [],
   "source": [
    "%end demonstrations"
   ]
  }
 ],
 "metadata": {
  "kernelspec": {
   "display_name": "Python 3",
   "language": "python",
   "name": "python3"
  },
  "language_info": {
   "codemirror_mode": {
    "name": "ipython",
    "version": 3
   },
   "file_extension": ".py",
   "mimetype": "text/x-python",
   "name": "python",
   "nbconvert_exporter": "python",
   "pygments_lexer": "ipython3",
   "version": "3.7.3"
  }
 },
 "nbformat": 4,
 "nbformat_minor": 1
}
