{
 "cells": [
  {
   "cell_type": "markdown",
   "metadata": {},
   "source": [
    "Theorems (or conjectures) for the theory of <a class=\"ProveItLink\" href=\"theory.ipynb\">proveit.physics.quantum.QPE</a>\n",
    "========"
   ]
  },
  {
   "cell_type": "code",
   "execution_count": 1,
   "metadata": {},
   "outputs": [],
   "source": [
    "import proveit\n",
    "# Prepare this notebook for defining the theorems of a theory:\n",
    "%theorems_notebook # Keep this at the top following 'import proveit'.\n",
    "from proveit import a, b, e, k, l, m, n, r, s, t, u, U, eps\n",
    "from proveit import IndexedVar, ExprRange,  Lambda\n",
    "from proveit.logic import (\n",
    "    Implies, And, Or, Equals, Forall, Exists, Set, InSet, InClass, NotEquals, NotInSet,\n",
    "    SubsetEq, Difference, Set, SetOfAll, Disjoint, Bijections)\n",
    "from proveit.numbers import (\n",
    "    zero, one, two, three, four, pi, i,\n",
    "    Abs, Add, Complex, Div, Exp, exp, exp2pi_i, sqrd, frac, greater, greater_eq,\n",
    "    Integer, IntegerNonZero, IntegerNeg, Interval, IntervalCC, IntervalCO,\n",
    "    number_ordering,\n",
    "    IntervalOC, IntervalOO, Less, LessEq, Mod, ModAbs, Round, Mult, Natural,\n",
    "    NaturalPos, Neg, Real, RealNonNeg, sqrd, sqrt, subtract, Sum)\n",
    "from proveit.linear_algebra import (\n",
    "    MatrixMult, Norm, ScalarMult, TensorProd, Unitary, VecAdd, VecSum)\n",
    "from proveit.statistics import Prob, ProbOfAll, SampleSpaces\n",
    "from proveit.physics.quantum import Bra, Meas, NumBra, NumKet, Qmult, QubitRegisterSpace\n",
    "from proveit.physics.quantum import inv_root2, ket0, ket1, normalized_var_ket_u, var_ket_u \n",
    "from proveit.physics.quantum.QPE import (\n",
    "    _alpha, _alpha_l, _alpha_bl, _alpha_l_sqrd, _alpha_m, _alpha_m_sqrd, _rel_indexed_alpha,\n",
    "    _b, _b_floor, _b_round, _delta, _delta_b, _delta_b_floor, _delta_b_round,\n",
    "    _diff_l_scaled_delta_floor, _e_domain, _eps, _full_domain,\n",
    "    _ideal_phase_cond, _ket_u, _m_domain, _n, _n_ge_two,\n",
    "    _neg_domain, _Omega, phase, _phase, _phase_est, phase_est, _phase_in_interval,\n",
    "    _phase_circuit, _phase_est_circuit, _phase_est_circuit_b_r, _pos_domain, _Psi_ket, _psi,\n",
    "    _Psi_register_meas, _psi_t_circuit, _Psi_circuit, _psi_t_ket, _s,\n",
    "    _s_in_nat_pos, s_ket_domain, _sample_space, _success_cond, _t,\n",
    "    _t_in_natural_pos, _t_req, two_pow_s, two_pow_t, _two_pow_t, _U, _U_pow_two_pow_k\n",
    "    )\n",
    "from proveit.physics.quantum.QPE.phase_est_ops import (\n",
    "    exp2pi_i_on_two_pow_t, exp_neg_2pi_i_on_two_pow_t, ModAdd, Psuccess, Pfail, SubIndexed )\n",
    "from proveit.physics.quantum.QFT import InverseFourierTransform\n",
    "from proveit.trigonometry import Sin\n",
    "from IPython.display import display"
   ]
  },
  {
   "cell_type": "code",
   "execution_count": 2,
   "metadata": {},
   "outputs": [
    {
     "name": "stdout",
     "output_type": "stream",
     "text": [
      "Defining theorems for theory 'proveit.physics.quantum.QPE'\n",
      "Subsequent end-of-cell assignments will define theorems\n",
      "'%end theorems' will finalize the definitions\n"
     ]
    }
   ],
   "source": [
    "%begin theorems"
   ]
  },
  {
   "cell_type": "markdown",
   "metadata": {},
   "source": [
    "## The main theorems: QPE circuit output\n",
    "\n",
    "These main theorems are proven using the \"local theorems\" below via \"literal generalization\" in which we convert literals to variables and eliminate extraneous theorem/axiom dependencies.  That is, local definitions (e.g., definitions for $t$, $U$, $\\oplus$, $P_{\\textrm fail}$, etc. in the axioms notebook) are used for convenience to prove local theorems but are formally eliminated to prove these statements that quantify over $t$, $U$, etc. and become logically independent of the local definitions."
   ]
  },
  {
   "cell_type": "code",
   "execution_count": 3,
   "metadata": {},
   "outputs": [
    {
     "data": {
      "text/html": [
       "<strong id=\"qpe_exact\"><a class=\"ProveItLink\" href=\"proofs/qpe_exact/thm_proof.ipynb\">qpe_exact</a> (conjecture with conjecture-based proof):<br></strong> <a class=\"ProveItLink\" href=\"../__pv_it/theorems/62d3dddd14115eed9c3c4d3308ef72cb6284ae910/theorem_expr.ipynb\"><img src=\"data:image/png;base64,iVBORw0KGgoAAAANSUhEUgAABCsAAAErCAMAAADALfnEAAAAdVBMVEX///8AAAAAAAAAAAAAAAAA\n",
       "AAAAAAAAAAAAAAAAAAAAAAAAAAAAAAAAAAAAAAAAAAAAAAAAAAAAAAAAAAAAAAAAAAAAAAAAAAAA\n",
       "AAAAAAAAAAAAAAAAAAAAAAAAAAAAAAAAAAAAAAAAAAAAAAAAAAAAAAAAAAA268pkAAAAJnRSTlMA\n",
       "q1RmmUTNIjK7EInv3XZAMGxgr+PhhVBe56WX0dXZ5cFw16GTfEvEytkAAAAJcEhZcwAADsQAAA7E\n",
       "AZUrDhsAACAASURBVHja7d0JG6MoggZgQRAEYXu6uqp7Znf2Xv//T1zPeEQNIhJNPuaZrkoqIqK8\n",
       "cilJEjbIsgkkOTXE2ct3phbhG4Npr1GHTyHLhU6rwM8ufTH2cmJqBzdoigsV4e2hvkBTUjp8Clku\n",
       "RJTSJ250HhZSyx5wZAIXKsJFwChdP8GKeKmVfcVC5LhEEWAFrFhPbabaPzXFJYoAK2DFemrTrpsi\n",
       "wxWKACtgxVZqC1OHQuMKRYAVsGIrtUzW/80VrlAEWAErtlIrSP8f58DGH+g4TsGWfm+XLge9a4x2\n",
       "OeL2qDSbQkfFiyT3n+xifMPmnFq2OBwuM5ec2d4NAqy4mxVNlUKvzxChRmeMZOMLfjxk0szWUFoT\n",
       "UhfY1DoUoSYpRfun1nar9bMZsUq7Iqsn0tUpkqwkaT24Y/Rzkquf0LV0dQfUNc+qfey7Mt13gwAr\n",
       "7mcFtcs9m9KSPOf1bbEqb1roxRKhSF8YmKl+atjicArX0yirnbZ7rAng+XYNZi1iaa3pjmCc/DZF\n",
       "tL2iOF8sxP1H/uyUGrkjBtMSnhXV/7pS/xhgVlWqaJ6vWLGxGwRYcUMrKiiW7tqs7cioraj+NVV2\n",
       "0Yq2jl5W/xVl9Xuzsud2ZPYR5aN4F/UXG3m4HTFdsqJNEcum1f9ZIWZinK7kafPhUHlrRsIrMXUv\n",
       "SGNF/W1Vd5FpIuju3SDAijtaoWl/LadNW7yo/7Dp0NtQlTir2KIVbWlNVVuk1bjQjiJrZ2/YUQ9F\n",
       "W7xFWe+4WJ/asRjxthXtd13bQ4+TzG1dZyDj7o/nWSWmrVwUWcNag5tov9Ptcdefaiuab23LBd+9\n",
       "GwRYcUcrRNHVu3l9yySi7rlTgwd1G0Tk44I+/JsYSqmuyg5lyeNno8iafxhHWZ3xrE1QbYXZ7uWc\n",
       "R/xsBR/VOtoUqZI/1SuqmlG1u65R0aWlThfL+5D2m2e6jVOrIQbNE9NXDx5tEC1VmkidOOwGAVbc\n",
       "34qEPFob7Z24+j9PR1awXOcLzfBk3Ncg64IkWCraW/AksvZ3oyir+oYcrCg2BwrGEa9YkWRWTVPU\n",
       "d1fIUZKFqn9v2xR3T8o99ZU0X/CizZSsLMsHQ3XPxJMViTUmt0l/zM67QYAV97RiUKFtetc166y9\n",
       "1dK2DaI5XbSCDo+TjJrkshCTyKpv8kmUsh3c6Nog5VYNfRrxowogJlbQYZimTdG8u6JNMrHt/+uY\n",
       "dNKna8pPvbkt6+lpbg8Pk/ExO+8GAVbc2wrSli5Kk3G9uraCc62WrOgLQd0wF2ItsrYSLsejAbYt\n",
       "Y6/6Npcifq5XiCKZpYg10auZFQWv99h2RIjlNkizOd0x4X3a6bqxGwRY8UFWpESSRLK2Nq3G/RVV\n",
       "y32rb1PkUsrZjKhxZIm1yXRuaFcc6+/5MErZVOSVHtcqniN+tqKLrN3QPHow1HyYt7r187IBpO87\n",
       "sXax7Bu7PKPrZXDeDQKsuLUVVaEri3b+Q11KuxZ8ZjOdKMayJSvaxkCx9L6iUWTtzx5Rjm7dWtsR\n",
       "BU1Fvq3Nt6HYeBGS0Fmp7Sgy2QyodM0Tose9sW2SKbOU2DpJdpyuaWlvOlxIURDla4XLbhBgxb2t\n",
       "GE+0ULqulvPVEtFJol0i6+6voyhpyOdaH5HR1RQtT5JSz/0Ix+ZNOe8GAVbc3Iqc7i0RTDhE9vwj\n",
       "bk6wgqvVFE1LK7friWcimBVbu0GAFfe2wqjdJUKrl5EtvY80C9eEl1mHUrqeomkh7toXy+9J1SqU\n",
       "FZu7QYAVt7bCLUxjeV20Fn8hQ81lFNJhf4tJVjuSeyBnMMEbVnytFQgIsAJWIEQKpVuAFbDiolZk\n",
       "7m3rDM3wQ1YE/NWbgjDqnO1gxQ2sYO7vx2JYvuzbrZi9ZCjcdrDi+lbQwvlGseOnCJ9qRVKkp2wH\n",
       "Ky5vhXI/9arAkoYnWqFEECvU2e/N4J7X/4vtYMXlrSDukymJ/7zLxTTIIMXvDeEcKx6z4Q8VjLQ8\n",
       "fcIoyc/YDlZc3QpZcveY/Ds2F98DnAfA4h319XOsGB6nO3JMrDy/S0mU9ITtYMXVrcjc6wrZgcc5\n",
       "Fq0I8dT251gxrEN94JhsGeMxlNycsB2suLgV1L2uQA9UK1bWFzCwYigOOkD8vCxVlGvKht8OVlzc\n",
       "isy9uGZHSvbIitFr9QK8vvZTrFB/qADxmzLOSgN5EX47WHFtK3bcIHzvJU9W0CEekcOKLvz8FSD+\n",
       "SNWKuo5Jg28HK65tBXG/tsihy3DZilEb/cut+LMIET8ps1hZkAXfLrIV/1L+FiGf4uwlRmqVe0+Y\n",
       "OtZptmIF1bCiCcVfIeI3Zax3fJJSht7u/0rXT7DiDalN3auSaUlPsOJ47+ZnWPHrZ5D4yzLWOz65\n",
       "Z8fIxnaRrUAbZF9qc/d2RX6sJbxmBeOwoqq0/f23m1mRlEXo7dBfcWUrVOl8W9/x03UrWL0ChymK\n",
       "5o92ypAcJiDFnkN5oJyEmfG5ehQH4o82CT/3bISsbwcrrmxF6l6RTA8Oxq3VKw53WNy1XjEG4s9i\n",
       "8vFIvSKaFdbzgljfDlZc2QriPruKlPwUKw4PhNzTimlNou3YHL67gxXScyRkfTtYcWUrCvczUBw8\n",
       "WStWHJ9gcUsrpm2OR8dm//UdrEh8p3KsbgcrLmxFxO6KNSuOT9y8oRXzPpafvyVTLG5hReZZ01zd\n",
       "DlZc2ArqPmWCHn0kacUKk3yfFXMqdDop7ces+BUtE5jnmMvqdrDiwlYw9+4pdvQ5g2UrAjxoejsr\n",
       "5lSobFbcD1nxj2iZ4PuejNXtYMWFrcjcp1dlJQ1mxejZsQBLft5+fgXh4eKPaYX0nGGxuh2suLAV\n",
       "hfsQeVHKYFas3lK/0gqZJyGtiNcGUZ5TW1a3gxUXtmJHT/bh5xcXrbAprFAiqBURX4haet4/1raL\n",
       "bIVKYzySG2cvp6dWuN8YxOHpkXbp+iAJrAgaf1QrjGe7dG07kbp+Qr0idmqp+zgoLc1VDw9WvKkN\n",
       "kmSeAyFr26ENcl0rrPvMOxvtvQiw4jb1CuI5Nra2Hay4rhXafdBLR3njK6y4lRW+bwxf2w5WXNcK\n",
       "4n6uSUlgRRArzn12NqoV2rOyubYdrLiuFbn7S5TyaO9b+nArzk5YXCtM0O1gxXWtyNwByGAFrJgH\n",
       "6zkZa207WHFdK3a8Hz7Wq+RhxVErIo6DpJ5tpbXtYMV1rSjcAShgBeoVsOKbrbDuVlhYASumgXpa\n",
       "QWHFDa1I3a1IYQWsgBXfasWOC6uEFbBiHrinFfwaVmB9kB2pLcu/uV+Df4MVsGJ+Yfk9ULi2HdYH\n",
       "uXK94nf3a/B3WHELK37d1wq0Qa5sBXW/BimsQL1ifmH5WSFhBayAFbACVsAKWAErYAWsgBWwAlbA\n",
       "ClgBK2AFrIAVsGJ+nn7BClgBK2AF6hWwAlbAClgBK2AFrIAVsAJWwIq9hflz3qEHK2AFrDjRinPj\n",
       "hxXuAWsJ7Ugt++FM3o6fwopvsUL9+BF0O6wlhHoFrIhmxY8fMuaFhTYIrDjBisU0SFgxueEKtEFg\n",
       "BaxYXPs4l7BiKTtgBayAFdNAGawYAicJrIAVsGLRisTAiiFkAlbAClgxtoIP17OmsOJRHHQCK2AF\n",
       "rBhbQYf1A0QOK7qg/lAhrMCzY7DiM60Y1bu/3Yqfv5IQVqBeASs+1AqqYUUT/iwSWAErYMW6Fcd7\n",
       "Nz/EiuIvWAErYMWWFYzDiiRR//ozgRVYS+jd4RprCTVWMFOHomj+aGcTSAIrkiT/+2/3swJrCaFe\n",
       "EbVeMXRYlJ7hHVb4h9VYAsWPcRBY8alWHB4IuWu9YszDv/1z+hltEFgBK+ZWHJ9gcU8rJvWI9N/5\n",
       "9EtYAStgxdyK4xM372jFrOH0H/85ixhWwApYMbfCJF9oxYwK/V9ilNGwAlbAigUrAjxoej8rZlSo\n",
       "bJrTsAJWwIoujJ4dy8X3WTHfmPCXP9lhBcZBYMUHWbF2S/2e/orJ6ckDxo96Baz4UCtsCiuUgBWw\n",
       "AlaMWVh6XR5JYEXQ+GEFrLi/FRcst7Diq63A8yA7UgsrYMWVrMDzINetV2AtIVhxJIReSwhtELRB\n",
       "YEU0K7CWEKyAFZ9iBdY+hhWwAlZcIDNgBayAFbACVsAKWAErYAWsgBWwAlbAClgBKy5nBZ4dgxWw\n",
       "AlagXgErYAWsgBWwAlbAClgBK2AFrIAVd7VCpSpCJsXZy+mpjbqWEKz4OCtCryUkUtdPqFegXgEr\n",
       "DluBcRBYAStgBdogsAJWwApYAStgBayAFbACVsAKWAErYAWsgBWwAlbAilP3qVKSmawMG4zJGX95\n",
       "njAOAitgxW2soFlm5RkzcBTXhgjUK2AFrPgIK2TGzpypJzOiYAWsgBX3t8LmZ18b3HBYAStgxd2t\n",
       "IOz8vasshRXHA9YS2pFaPA8SfJ///XuU/f9PfgUrQj8PgrWEUK/4HitIrFzSGvUKWAEr7muF1dFS\n",
       "kC+fD6wlBCtgxQ2sUCZeClb29aJekQlYAStgxfv3yWLmkU33W6HKBFbACljx9n2qLGoazGsr5ued\n",
       "vk6hhBWwAlacvc80jZqGxfneUyv05CdCm0y/siCXsAJWwIqT95nHfbEiZ45WCMayloDs9UmkDFbA\n",
       "Clhx8j6zyIkwi+fp19wKUc/F0GX9V5eibWAFrIAV5+5TkMiJyNzqFe3DZkVR1UQKh1g1hRWw4jpW\n",
       "GPaBVnAdOTOW2jwLVhRNwSTVRWBJol52R4gcVsCKy1ihyuwDraBl5MwopVu9omlVkOrXzCb6deF2\n",
       "n4MBK2DF6fUKlXygFb6TF1TIRKyOg5jq15KlS9UK2XzJs7KtqFD9JVZgLaEdqWU/nMnb8dNv7a+I\n",
       "npA9VsjSrp/b5gdZykmrhHPvpvrxw++CXNkOawmhXgErIlrxa9EKs97xSptqRfPvbVdFN3HjdVsE\n",
       "bRBYASs+rV7B8vVukqYy0VY9215WSRybVLACVsCKD7MiXahVPIZf7OM/qm2ntB0WLvPBI1sxHAVN\n",
       "A5aLwNG+ZS8fa8VnjoMk0cdBXK1oCr8QG90VvGmHdO8JrRsfTvPBY1sxzGoP8rxsXy4CR/uWvXxu\n",
       "veIj51f4JsQ7M1ytkE09wa4Va5a2XijS2tBNsHCYDx7bCtnfm3fMAXEoF4Gjfcte0AZBGySAFcKw\n",
       "OqyPbmSZzWTK+jf+dhM3HRiI3l+RqUkSQ5WLsNG+ZS+wAlbst+JpHMS0KxFttHTS6ifmMauiRcVl\n",
       "Pnh0K/onebOw5SJstG/ZC6yAFUH6K14GNtqoe9DUZT54/HGQwtSh0IHLRdBo37IXWAEr4lhRjFTo\n",
       "ljdxmQ8e3wrWJDTQw/9DuQga7Vv2AitgRRQr5Cim/uVeK/PB32xF8yzv/gd69YtysTtaulCibBJ6\n",
       "L9N40hjvUoIVsGIz2FG/p02Pl/nzrGjuyotHNR2IFIbVv0qLtmQujzSN1s0ZopWsJGk9WGHGwChd\n",
       "mLqaxYpmsCjlzXeaTJaL3LGX2W+3RsI4tc1wK5uRxyZ/tWI91sc/OwSsJfStVli3F+KJ0c/23Pbe\n",
       "sJYQtcudg/0sU2lJnldFi5KmCdXNGGGv7qGjaLvHhTmfxJfkI3UU6f/ajC71d/zllxIs72U6bpou\n",
       "3IhtzogVNim6g+OMTc5mPvmrFuuxPv55kmFphnrFt1vxK2bjNv4c7yxJlyr73SzTR3mi1a+GO/FL\n",
       "K0bRsmzUohjKZ2dFE2E7rap+05io3wvw2E+mnPcym2Px+NjbpPL6FUU01/X7lWXRvLFI2X1W9B+X\n",
       "rJDWGliBesVHW6Hpo0TqtL9z9rNMhwYUlZRXN+WqDOt6bkn1f75ZLoZou7aHnjXIxla0pax+hKax\n",
       "4nHHX5w5sbyXWalm3W8eNukWhrTZX1NRSmdTwx2s6GJdrFck9CJW7JrEKt5thdj/iz1WiOSk3PhK\n",
       "K0TRt5KqYvWYC9nOMlVDWaGyKm6UO9crHtGqkj/qFWpcHgcrxFB712Z8x198r/HiXppSzS3pG32C\n",
       "TTuLVCr543Jgiy3JNSueY720FXZXHYTb91rhkNqnJO6wYl9m7MmNr7QiIY9WQTZ6L0sTIU/HVlRC\n",
       "2NzVike0fXeFnMY3toIPLQajxnd8nrvupS6/FTBVqmUxlPzBJiqGkRatFodYVqx4jrX/Z5b3IT1o\n",
       "hSCmLAkhXUxHrHB7sZLQmjW9Rru63h2KjCWMEbtwUJKYoqg+kawo0mlq6x+aZuFiUpTZ86mZJ9Hd\n",
       "Cse3TPnkxn2saMpUICuGWIqy6C/sdpZpmrVlgbZWKN33JDpY8ai3j7orRvElJH9YQYcnO6aHIXPn\n",
       "0lf9Uqi6uHacNdwMNqXD+6mysiyNuxXPsZ5Rr5BlW3EpsmNW9CP0ymzVpxVrEKerfUKeVsi2vWmN\n",
       "XDgo3n6qANfz1Oqu7jlfv7g7ilkSna1wywy/3LiJFYqwrAxvhVCJMPZxf6hnmUo9qVfUw43J0Mvg\n",
       "aEX78o5mw1F8/biyHpFQV/EnT+++bIPMSnp9R+vuas2uBpuk5C8XfVrrr5jHeoYVoitIaakPWdFP\n",
       "GKabF5KtI+yex05ZMCtE/6442765dnpQ/adu1Guc2qyPhk1T3R3FLInOVrhlhl9u3KdeYU+won7U\n",
       "Tbe1h8cs0+E+n/KOkM3kL5QLXhch1ZWAcb3B1AWgHYQ2Xa1CSjm5WqzdZ0XB6ymz8tENObKp69vc\n",
       "eBnrqhXzWMO3QYaCJJeqPDus6B86YpvvbeRFs7hNe9stVCgrsscjT8Y8H9TDiqFW2v++7PN+dnn1\n",
       "RzFNorMVbpnhlxtL+/vxQ36JFSlth0FkQR+zTEW/wqI07dys/VZULQz9aAaK0YqNSleh/dhOgy+a\n",
       "R/ImxVfstEJUNV016kUdbBK6KefaeljxFOt59Qq+9EiiuxWP9ymZ1y112t0Fs+FmSER/mnysoEOd\n",
       "yDY1jOlBtZ/qaTZ0llre10fULNX9UWSpjxV7MmN3bnx3vWKUb6P2jq7vm9w1+S8HnZbjW1kJRuXJ\n",
       "Pisos5TYOnbL5zYpXTVImPRogzzFumSF0Fm5BNFOK3T1Lc8KS/Vo3qy7FazJSE7yMicv+vS56S5s\n",
       "Pfgv2o6G7o+9VpAhmXKkQ3tQ/SfL56mt/12OK699Aoej0MTHih2ZsT83YEWbb8o7+b7D9Uy4f7th\n",
       "xfPHHdYdm4u1O0+WrFC2HSMoGBWj687diuzRQn+VLEv6IaTxfNOmXOygYlJkspIPh1M8HVT1HSGj\n",
       "3wypNcW8cTI7iumUWFcrnDPDJzcuZwUzo0BiWZEm0a1YfAQ35YmvFT7TBl5bwe2JVpiqRdZPB6ib\n",
       "+8qnDWK6HzKHd3p0Pf8JHb9YpSoZe6hYt8I8HVQjhxi73aVWPToy5t0V/VFMkuhsxZ7M2J0bqFcc\n",
       "C0dW+VFOX63vZVqqiTrDCqL2W+G4lpAox7vKyMZPN7s2+VMLXWWj+83kum/X2pw8FF0Xj1UqyqWw\n",
       "3AbhzeFMD2ror+jnR3ap7bsKEmGXuytmSSxfJcQnM/bmxnIiIlrhvJbQzAqsJTSbnutjlpj8VW3E\n",
       "KnbswLleMbGCefZtdsVDldutrnZQJ2+jnb6wbcOK132bbLg+0xUrlBouvS61j+6KGcDDUXCveoVj\n",
       "Zvjlxn2eHbtmvQLrg4SyQnta0VW7mxb6xpXUXi5d6ZiM3xxpgyR5Xc44ffRALFnRXHpyklpdLjdB\n",
       "hqOYDjHtbIO8ygy/3EB/Bay4txW5fbTQ6UaJb5+i6Wrdae7Wm/e6yIhSJ5QrO8zFWrYim6a2nyrV\n",
       "jVGqcXdFexRp7mOFY2b45Qb6K2DFm6yQk3kVxrcN0o34ETJ73n5+XaSjbgKmp4XDe8y0fgiwnj1H\n",
       "WVf7nx6U7K3QxTS1bZNLdCMRw/I+w1Ew7WOFY2b45cZ9rNDTKxBW3NsKQbKyJP1VyklZEOplhexn\n",
       "wL54PSBnjPUjEmZozvcDhyLzs6J+bobY9n1Fs4OS3ZNkJC8etQ3Z1/d1TtijOJv+WafhKAz3scI1\n",
       "M7xy4y5WkPp5PJLCis+pV2wXSPefmt2zjIU5cniLF1H9qFbun1qqtpPoPMd7f2a458Z3PpMOKz7I\n",
       "iv1PgrE0uBUkk6nxT61+kURnKzwei3POja98hx6s+CQrlh+h2bqRHlvgcfm1EWVZWu/UPnUuzJPo\n",
       "/v6KvZnh+SAM6hWw4o5WqJ1lPxfhrajfzu6fWvsqie5W7M2MHbkBK2DF3a14mvy4HezBvDx6ETmk\n",
       "9imJO96hty8z9uQGrIAVt7cibsB7vGGFV1hdN+eGezk9tVhLCFYcu7CiryWEegXqFbAilBUYB4EV\n",
       "sAJWoA0CK2AFrIAVsAJWwApYAStgBayAFbACVsAKWAErYAWsgBWwAlbAiu+14pprCcEKWAErUK+A\n",
       "FbDiTCsMgxXHMwNWwIqPt0KVGaw4nhmwAlZ8fr1CJbDieGbAioNXYaoiZFKcvZyeWvcFgvb8FP0V\n",
       "39Jf4byWkON2X7SWEOoVsOL9VuDZMVgBKy5uhcI4CKyAFbDCYZ/URk4Ek7ACVny4FZ85DsJ15MzI\n",
       "FayAFZ9er/jI+RWCRM6MDG0QWIE2yB2tSLLIiTCwAlbAiltakccdSOds8TxhHARWwIqrW2HTqGlg\n",
       "HPUKWAErbmmFitsIMQmsgBWw4pZWJCxmHi3XYmAFrIAVN7AiZsVCmQRWHAtYS2hHarGWUOB9Wh0t\n",
       "BTl9vxVYSwj1CtQrfPeZx8olrdfOE8ZBYAWsuIEVyT9/j7L//81XzxPaILACVtzBioREaIao3Caw\n",
       "AlbAintbkej87GuDG57AClgBK+5uRcIzduYETpkTkcAKWAEr7m9FktAss6dcIErqjIjt8wQrYAWs\n",
       "uI0V9WsLSWayMmwwJns52wvjILACVtzKivdlBuoVsAJWwApYAStgBayAFbACVsAKWAErYAWsgBW3\n",
       "tQJrCe1ILdYSghWHLiysJYR6BeoVd7Xixw+JegWsgBWwAm0QWAErYAWsgBWwAlbAClgBK2AFrIAV\n",
       "sAJWwApYAStgxYdagWfHYAWsgBWoV8AKWAErYAWsgBWwYpKRTgFWwApY8e1WnBs/rHAPWEtoR2qx\n",
       "lhCsOHZhYS0h1CtQr7itFRgHgRWw4vOtUAJtEFgBKxbTIGHFOOQSVsAKWKH5VuGAFVXgBG0QWAEr\n",
       "lq2gDFYMIRMBrPgHrIAVn2hFYmDFUBx0AitgBawYW8GHNrWmsKIL6g8FK2AFrJhYQYdlvkUOK7rw\n",
       "81cSwgr0bcKKz7Ri1Eb/civ+LBJYAStgxboVVMOKJhR/wQpYASs2rDjeu/kZVvz6mcAKPA/y7rDx\n",
       "PMgFrGAcViSJ+vtvsALPg1y3XhF1LaHGCmbqUBTNH+3MIzlMQPIM77DCP6zFEyr+G68lhDYI2iCb\n",
       "9YrDHRa3rVeMgPizmHJxoF5h0QaBFR9qxeGBkJtaMalJtB2bw1fe8ZuSwQpY8ZlWHJ9gcUsrpm2O\n",
       "R8dm/7V3/KTMYAWs+Ewrjk/cvKEV8z6Wn7/Nahve8XPP4gsrYMXlrTDJ91kxp0Knk5w+FL+J2GEB\n",
       "K2BFRCsCPGh6OyvmVKhsltVH4udloWAFrPgUK0bPjuXiC62Y9zHwkMekSwIrYMWnWLF6S/2W/orp\n",
       "6cnDHhOJNhQCK2BFPCtsCiuUCHxMNlbNAlbAilOssEuvyyMJrAh/TILCClhxYysuWG4/1Qr0VzgF\n",
       "lcboBY6zl9NTi7WEYMWREHotIZG6fkK9AvUKWIF6BdogsAJWtBl51WdnYQWsgBWfsU9YAStgBayA\n",
       "FbACVsAKWAErYAWsgBWwAlbAClgBK2AFrIAVsAJWwApYAStgBayAFbACVsAKWAErYAWsgBWwAlbc\n",
       "2wrubgWHFbACVqBegXoFrIAVsAJWwIrTrAi6Hay4rhWF++KXRcx1MmHFPQL3tILDClgBK2AFrPhI\n",
       "K4w7AAZWwApY8b1WZO5rVGUx19+GFfcItCyCbgcrrmtFXmrXOHb8FFZ8S0hLE3Q7WHFdK3asOhNv\n",
       "gRpYcZtgPRdlX9sOVlzXCua+6AyLt/IdrLhL0GUedDtYcV0rdpxr38sCVnxwYJ6VzbXtYMV1rUjd\n",
       "65BpmcEKWDENuWeH99p2sOK6VnD3fmzu2eU9Dk+pkLBiKVvODQHPQuY5mXdtO1hxXSuE+/i4CLBk\n",
       "xdPqx7mEFVXJibuGXcCzUJQy6Haw4rpWJKX7cZTHD/npKqUMViSy6TTWaUrfZIX/WfB8dGx1O1hx\n",
       "YSuM+5Pm5vhD6U9XaWJgRcLqXGGyM+MNVnifBeHZLl3dDlZc2AriPnObHJ/k/XyVagormpKaZ9FW\n",
       "0w53Frhnf/fqdrDiwlZY90Eve3wy1vNVKvKvt6JtAciiLMS7rPA9C9ZzLu/qdrDiwlbsuDPw44Om\n",
       "z1dpkolvt4LU3XxCJcLYd1nhexaI5zDI6naw4sJWKPfRDXV8IKS5SpVlTWOGNHVuqr/cCtUIbKqc\n",
       "0TKiFUHOgvHs2lzdDlZc2IrqtAn3MyxCXKU6ocXo1JsvtyJtahMpjTYMEu4sKM+uzfXtYMWVrdDu\n",
       "PZb6cOdmfZVKmrD6yiRdi4bx77Yi8uSKkGeBej4itL4drLiyFdz9fPPDT4/VV2lVNIr6Vlp0rfMA\n",
       "I4V3tkLEf8om2FkI3l0BKy5tRVK4n4KiDHCV1uaoeoi9a50PTeXSO7zDivsFt7OwI/heD+vbwYpL\n",
       "W8Hcp+myUoawoqn82v7MBxgIuXO9wsRPeqizID3rmRvbwYpLW8Hdx8j50VdjtVdpXl8qeZ40k49C\n",
       "1MFvbAVn77Li+Fmwnk2Qje1gxaWtSAr3zuyiCHGVMlJPPdJJA0+IiZs3toLId1lx/CxknlfDxnaw\n",
       "4tpWWPfnPOzBR0Laq1QRbakgVoaqg9/Yijc0QUKdBelZy9zaDlZc24pkR7Pz4EjI84zBIA+a3teK\n",
       "1L7NisNngXhOxNraDlZc3ArtftJ1qcJepbn4aiviT64IdhaU531jcztYcXErlHtlUh3r3Xy6SlWW\n",
       "fLMV4i2vMA1zFqxnCdjcDlZc3Irq9Cn3M61CXqU2/WorNL2EFV5nofBsPW5uByuubkVi3GsLmhEE\n",
       "zAAAAJdJREFU5kjFws57/cO83eWtM5uOhPesohDkLPjeNLa3gxWXt4K6Hw291YEjnBSU57NBL7aD\n",
       "FZe3ImHuDWeWo6QgkPyU7WDF9a1IjPttwqQoKt8eeKFO2S66FU0gZ5e+GHuJl1rpfvJloVBYvjwY\n",
       "Hnw7M+kG2voUsCWVNoGfm1lx9hIxtdy9nsTRY/HtvRU8/HbtJZpufvp/5VrhkWLX9BEAAAAASUVO\n",
       "RK5CYII=\n",
       "\" style=\"display:inline;vertical-align:middle;\" /></a><br>"
      ],
      "text/plain": [
       "<IPython.core.display.HTML object>"
      ]
     },
     "metadata": {},
     "output_type": "display_data"
    }
   ],
   "source": [
    "qpe_exact = (\n",
    "    Forall((s, t),\n",
    "    Forall(U,\n",
    "    Forall(var_ket_u,\n",
    "    Forall(phase,\n",
    "           Equals(Prob(_phase_circuit.literals_as_variables(_s, _t, _U, _ket_u, _phase)), one),\n",
    "           domain=Real,\n",
    "           conditions=[_ideal_phase_cond.literals_as_variables(_t, _phase), \n",
    "                       Equals(MatrixMult(U, var_ket_u),\n",
    "                       ScalarMult(exp2pi_i(phase), var_ket_u))]).with_wrapping(),\n",
    "    domain=s_ket_domain, condition=normalized_var_ket_u),\n",
    "    domain=Unitary(two_pow_s)),\n",
    "    domain=NaturalPos))"
   ]
  },
  {
   "cell_type": "code",
   "execution_count": 4,
   "metadata": {},
   "outputs": [
    {
     "data": {
      "text/html": [
       "<strong id=\"qpe_best_guarantee\"><a class=\"ProveItLink\" href=\"proofs/qpe_best_guarantee/thm_proof.ipynb\">qpe_best_guarantee</a> (conjecture with conjecture-based proof):<br></strong> <a class=\"ProveItLink\" href=\"../__pv_it/theorems/af294fe8e747c64549ca04f95a0be1f234da3de70/theorem_expr.ipynb\"><img src=\"data:image/png;base64,iVBORw0KGgoAAAANSUhEUgAABM4AAAErCAMAAAAR5j/xAAAAdVBMVEX///8AAAAAAAAAAAAAAAAA\n",
       "AAAAAAAAAAAAAAAAAAAAAAAAAAAAAAAAAAAAAAAAAAAAAAAAAAAAAAAAAAAAAAAAAAAAAAAAAAAA\n",
       "AAAAAAAAAAAAAAAAAAAAAAAAAAAAAAAAAAAAAAAAAAAAAAAAAAAAAAAAAAA268pkAAAAJnRSTlMA\n",
       "q1RmmUTNIjK7EInv3XZAMGxgr+PhhVBe56WX0dXZ5cFw16GTfEvEytkAAAAJcEhZcwAADsQAAA7E\n",
       "AZUrDhsAACAASURBVHja7d0JA6MomgZgQQ4FYXu6uqp7Znf2Xv//T1zx1miCgkaTl92prqQS8Hzy\n",
       "IVeSxE1ZWSeSHJrOKeU7txYJ6ZLJNLeRx6uYt65Oq8SPBuKMUg7c2oE2muJCRUJ6ndw9lJLS41XM\n",
       "W1eeAoS80XlY2FrW2yYkLlQkJF/TSt9X4Oy8rc268EzmuESRkMDZnTlLhGr+qykuUSQkcHZrztL2\n",
       "kZnAFYqEBM7uzVlSGJcKjSsUCQmc3Zwzlrk/c4UrFAkJnN2cM0m6P7wTe/WBIl85LHb6kspXmbPF\n",
       "7z18nVPLFnvLZMJrH54Wg4QEzm7CWR2Y6fWec9RowYgY3+kvG0FrHLW2Qw1WpeJRkboHXMZKkrqW\n",
       "VaMXMk/puqCjDnRFVcK2a8i/GCQkcHYbzqhdbgjILMlz7kKWyhkt9WvOum/UnKVVtjzv/8WaJowa\n",
       "ZaOakJA2J5/zxczbl/zx2Z4aRZTVfmVFF6mJovq/Fqa+/4mqwKJ5vrYP68UgIYGz+3BWWZYu1LJY\n",
       "81DNcVb9a6rsS876b9ScFe7FUCA1bWHDQ7q2esjEpKI3y5zJh+9Nv95vFG9YS3jFr+6Qqzlz71YB\n",
       "YJYmkiZbi0FCAmc34kzT7iZ2nTYyUbj/2H7MU82ZVWyRs8VvOM5k6fIs6JyzUf+29p22kqlHmXNL\n",
       "uiqrZA/fG39dkULUiNaUyuY93Wyhe+U4q9+1jWg82VoMEhI4uxFnsmirbdyFM0S6x+dqIMtVNmU+\n",
       "wmrE2fI3nBBZzZlJ55zRnkXZRGWq5PPorIoEq2+3tcd8+B7Lu5R2Xxc64S5nrYbn+Jonpguy+sqm\n",
       "zlSaZHq8D2vFICGBs9tylpC+WtkESdX/eDrijOV6UjcbU7f0jYGzws456x+ndX/rHp1lQ+ZSuU/b\n",
       "9t/T2ffGX+dFs/miLEvTF1X9/wNniTUmt23wtqEYJCRwdivORjjVD5dcxUw0YRBtKpua0zXOFr4x\n",
       "VDbLh8pm1n+ZNjHh7NFZkzmxzf/cF/Tse+Ov29L1Afab0KRrOcgKuaEYJCRwdkvOSKMKpcm4WuY4\n",
       "41yrJc6Wv/GsKWCozbVysJoZNeWs4C6D5qGYXK5s1l+nG8ZmmeQhwlwuBgkJnN2fs5RkJMlYUxlT\n",
       "A2euo8ZyU8DyN2rOrOuoQbq6Xc+Ze7t9r+26Yfo3Rs7IhJc1cd0jOWsXeTJ2uTPuy+RdDBISOLsj\n",
       "Z1WwUxZ5U3WTefswiwsrdKIYEwucLX5j6EbLlKvbVaGb1KLUtRT1eIH6vaQdOkCJfmhnoMxSYl2+\n",
       "tuuO9rDp9TuKFAXZ07nCuxgkJHB2S87GHdCUdrU6vkrBs29Mh0yNH7t1UZB7b7nP6nL/VvX4TCus\n",
       "y6t3MUhI4OyenOV0KwWL35hwxsfBU/uIqnmPyZfOcDv53iSxkGPvXwwSEji7JWdGbaVg8RsTzsZr\n",
       "EHTDLNv3tHrlTFuRXF6NQQd04d9QDBISOLsjZ37pZS752iMo9eL1Q+Zq9XNP3t6+Dyo4PyRwBs5u\n",
       "yRkSEjgDZ+AMqUulX8KBAmfgbO/WCv+nRwIPmoI4i/gppNFTBKPOyASc3YAz5j8rLcNi6uDsikmT\n",
       "MzIBZ9fnjBbev2wbPooEzs5MRXpCJuDs8pwp/wtBRblmwNna4ZVROFNfOXsbj3FTvsoEnF2eM+I/\n",
       "oJvsX5dzcRuyKEK8IR3DWT9eLOjGSMvvHORA8uMzAWdX5ywruX9O+9sBFpdZySN49o6K2TGccRJj\n",
       "n1j5pY83ZUkPzwScXZ0z4R9xiYBF0xc5izExz+dwJmSEfbLl1w5Azc3hmYCzi3NG/SMuGhCcrSyC\n",
       "F+EC/BjOUh0hf16WX9tYk5X26EzA2cU5E/6iiBB8RpyNJuSOsObIp3Cm/lAR8jflFy+ylxdHZwLO\n",
       "rs3Zhl+0sB+/EWd0yEeG14w+hbOfvyLk/83Bmas+0IMzAWfX5oz4X/4k6E5Z5mz0vOjLOfuziJE/\n",
       "KUXyxSnK3j/L5GTO/qX87YSjdk4pZ2yt8n9wrMKeMa9wRoPrRh/CWfFXjPxN+dWrHpAyOzaT/yt9\n",
       "X4GzN2xt6h+ep2GR/Apn4Y0Bn8HZr59R8i/Lr171gMd4cvgsk5M5Q2Vz29bm/hXIPOypzBpnLHRI\n",
       "+0dwpv7+GziLcWKKYzPBs7Mrc6ZK7+Bow0fXOWNufUxTFPV/mt6e2dB39Owe+gEXfJzxBKt7EZD/\n",
       "d49Cy2PUNp9kAs6uzFnqH5yngXH8WnQW/PDsrtHZ2LA/i8nLkOjsuzmzMWqbTzIBZ1fmjPh3jCVl\n",
       "WK1wjbPgps17cjaNx5p2gOE9cLb7WheHZgLOrsxZ4X8GisCTtcJZeMezW3I2rVz27QDd2+Bs/wFQ\n",
       "R2YCzi7M2YmPztY4Cx8WcEPO5s/7fv6WTD0DZ3uTKPmRmYCzC3NG/buS0dCRzSuchQ/avB9nc810\n",
       "OgEpjLNf380Zi9G0u54JOLswZ8z/wSkLfca6zFmEKTVux9lcMyVmIgVx9o/v5izKZG/rmYCzC3Mm\n",
       "/HvGitDhcMtD0PPwA3n7fmeEx8v/6znLYvQ8W88EnF2Ys8K/l04R2qFncYIgFaEd6u6cZXnE/L++\n",
       "sqli9ENczwScXZizDc1AwS1Gi5zZCA+u786ZklE5+/bFHMoYHWlXMzmZM5WeMT/KOaUcvrXS/5dM\n",
       "Bv/o2aULJMY00J8zGy04i5BMjEmCVjORqe8rRGdnby3173xBS3PV3QNnqGyOkojRtLmaCSqb1+XM\n",
       "+nehttedRwucITobB/wxhjmtZgLOrsuZ9m/U1tddUAOcgbNRirKQ1Wom4Oy6nBH/M0+uu9rZzTg7\n",
       "dpYQcKZj1CNWMwFn1+Us95+6NL/uLKfll5QJzjwlMgdmAs6uy5nwN0qAM3B2i2Rj9KNdzQScXZez\n",
       "DYuYXXi9M3A24ezbWzbTGP1oVzMBZ9flrPA3qgBniM7AGTi7NGfeXXSK685BD87A2SjRGJxRcHZH\n",
       "zryv/eK6twk4A2fgDJxtufZLcAbObpF4DM74RTjDOpsbtrYs/+Z/m/ztsncwOANn46s9wvTaq5lg\n",
       "nc0rR2e/+98mv1/2DgZn4/P07S2bx3KGyuaVOaP+twm97B0MzhCdja/2CJxl4AycgTNwBs7AGTgD\n",
       "Z+AMnIEzcAbOwBk4A2fgDJyBM3AGzsDZZTn79pZNcAbOwBmiM3AGzsAZOANn4AycgTNwBs7AGTgD\n",
       "Z7flDJNrgzNwBs4+hbNj8wdnH8UZlg3esLXsh7fKGz4KzsDZO6/2Hz8OzATLBiM6A2encfbjR4bo\n",
       "DJVNcHY0Z4vbEOPe+yDOlER0Bs7A2Q0403zhzTyCZx/EWX84wBk4A2e344xGWO7uczjjJDh/cAbO\n",
       "wNm7OEsiLPH6OZwJCc7AGTi7GWd8uOV0eAvDx3CW6vD8wRk4A2fnckaHRe5kDs7apP5QMTjDEHRw\n",
       "Bs7exNmogvXtnP38FSF/RGfgDJy9jzMavLr6h3D2ZxEjf3AGzsDZ+zgLbwz4EM6Kv8AZOANnN+eM\n",
       "cXCWJOpff0bJH5x9FGdYNnjD1p66bHDNGTMuFUX9n6aXVUbAWZLkf/8NnEW62rFsMKKzt0Vnw8Oz\n",
       "cmd6B2f702oukfJHyyYqm+DsbZwFN23eNTobC/Zv/5y+RnQGzsDZDTkL73h2T84m0Vj673z6JjgD\n",
       "Z+DshpyFDwu4I2ezGvJ//OcsY3AGzsDZDTkLH7R5Q85mmun/kqMDDc7AGTi7J2cRptS4H2czzZSY\n",
       "HmlwBs7A2X04Gw1Bz8MP5O04m3+Z8Jcf2cAZWjbBGTg7k7O1wORrKpvT05NHzB/RGTgDZ+/izEa4\n",
       "+e7OmZLgDJyBs3txZpfm0SYRdg9Ln4AzcAbOsJITOANnl+YMYzY3bC04A2fgbFMmGLN53egMywaD\n",
       "s49Lxy4bjMomKpvg7DTOsGwwnp2BM3B2GmfHzhKC6AycgTNwdv0ywRk4A2fgDJyBM3AGzsAZOANn\n",
       "4AycgTNwBs7AGTgDZ0GcYQg6OANn4AzRGTgDZ+AMnIEzcAbOwBk4A2fgDJyBM3AGzj6eM5WqEw7Z\n",
       "OaUcvrWnLhsMzsDZGenYZYNl6vsK0RmiM3AWzBlaNlHZBGfgDNEZOANn4AycgTNwBs7AGTgDZ+AM\n",
       "nIEzcAbOwBk4A2fgDJyBM3AGzjzLVCkRRpRxkzE54y/PE1o2wRk4A2fxyqRC2OyInomKa0MkojNw\n",
       "Bs7A2TllZoId2ck6E0SBM3AGzsDZCWXa/OhrgxsOzsAZOANnh5dJ2PGlK5GCs6/gDMsGb9hajNmM\n",
       "XuZ//35K+f+Tg7PVq/3IMZtYNhjR2fdwRs46SlqDM1Q2wRk4O7BMq0/bgnz5fGDZYHAGzsBZjDKV\n",
       "OW8LVso6PDoT517524sDZ+AMnMUok515jGz6Ds7UuUd7R3HgDJyBswhlKnHqNpjXnMW4Sqd5ULH1\n",
       "G0GpLS7bdLWDM3AGzoLLTM99Cr844GnKmebBpdjxeZfaCP3SFm4j7WFfXJ5tudrBGTgDZ8Fl5ufO\n",
       "uM7ZQZxlouizpnXjhmRMNKQIn8vAbnbdmmK0qQ/FUbblagdn4AycBZcpTt4Is3iefkWIzvqT3dSf\n",
       "pevlpkuXmR8VYjMoshw2daE4s+VqB2fgDJyFlinJyRshjqps8v5eZnVuzaj3oqj+pfDKIN0+NGLE\n",
       "2UJxmm642sEZODuVM8MOpuUdnHF98sFYqtxG4Uz3wVDDSVHf26S6jCxJlM9zrGKzKCPOFoqTOTgD\n",
       "ZxflTJXiYFrewRktTz4YZXYQZ6IDtm1YJDVvpCqP2UT7YCE2Pz0bR2cLxfn3PwNn4Ozk6EwdTcs7\n",
       "ONvbJUvF3IgFzjKdJ5Lp+n1tLaneU7atRSrXDkmU1Da3bY1Z26w/12wccJqqvIyli8FZVr/LRdlG\n",
       "jHpS8XZtC9K6Inj1Z+2WYtZ2TbO62qqsnMs7LY7qYInuyBmWDd6wteyHt8obPnoFWt5SZnmBjVjg\n",
       "TCd5xZKu6o3SzSwkqx83ndCiu/+qfybWYexOMC+qP/P+Vh4HWVn5pP8Fa9RKOWnYSWcRp3GDWbMy\n",
       "rcpPXcmZcaXVhKrC4annnM2L824MUD9+RLhl1jLBssGIzsDZiZzNWzarm0yYJtAytRBGZzRhjgdS\n",
       "ocN5YtyDKemqrqpwdyTrLTJ0LNL6ltA6hqo/0DzkorMmg7x+Xeb11Zi5bUi6v+ZN4+mcs3lxbSj3\n",
       "utKJyiY4A2cfG51lKmnfY80XClfFLJxs7g9VxWVOCuru3+YTpq/YjTqDsfyxct2zV3+hqQOw9pKb\n",
       "cVZ/u9StYV11tnpDNVGYmnH2UFxGPCv04AycgbPPrWz2/S6KvImDbPuWbNoSmiYMF6k1nxjJMnCW\n",
       "LsRmQ5Os7f9QTRVx3qGj5cy2nNG2iCpcyxY5eyyueXjmMcbqvZwN203TiLdu5GzfUsrHcvaZLZvJ\n",
       "6S2bnpwx0xZUw6Hd1VC/ZZsMashcBKeaT4zu0b6yWWMiV3/DnWu8trFdJoGap5z10Rlbjs4WinO1\n",
       "TK8xVu/lbBh5FmXqke7WjZztW0r53OjsI/ud7d2Q3QfDl7Ou8tj8U+Fe5aQxxlUQ6zdcXVOr+iRX\n",
       "vNH2gmmbO5OszsGuMuHaSd1eKNJik+ZPOUuaUVTcGSbamHHE2UJxbcczjzFW7+UsI9MNjnTrRs72\n",
       "LaWgsonKZgTOeilYbRjr/ppVjumuymlFkmY1X7TitQO27W8hDXPpSeOiEFZkKevXZGGzfhVizJl7\n",
       "oFe4QkUdhNU1WjLa7qXi2mEBHlK9+dlZN75L06i3btxs31IKOANn2zl7GLPJexe07vp6KaItlcRm\n",
       "3T8rklL3p9VZ83Zz5TRfNc2yxc8qxWn1maEJIZmuNZWRsiAZzas/Ey3qz0mmNWm3hdX9zoamzKXi\n",
       "zOIjuQty1k2rIuLeunGzfUsp4AycxahshjwV8J6Zh03mWYs9LW87pYbPGKt3t2wWxqVCR751o2b7\n",
       "llLAGTh7M2f+Y8mLbM22GKldu9RnjNW7OWP1gYg0WdRw60bN9i2lgDNw9mbOEt81kCcdzaI/Se7m\n",
       "+V0bY3UlzuqJVbbPrqJf3Lqbs6ULZ84msUuZ5pOeMYMpOANnuyHxlMmaHQZ6py3zQb69G62LbRYP\n",
       "/LT3gzRM12O+GjyWw+DRErlDthkrSep+NMzYQKUL40JXVtTNy248WfWeJmS8IxtKmX32WZjOafNM\n",
       "ls1UZpO/Wrmea//PHgnLBn8rZzZ8lTrpN1O2HJVko3da2hIuvH3ZYGqXn6V3IxoyS3I3Dp+Suubc\n",
       "9tRjryKRUbbt3C2cT/Jret+0OSnS/bVuIe7ipuVJrJZLmf6QpQvhjM0ZsdUFUrQ7xxmbXHD55K9a\n",
       "rufa//PkgKUC0dm3c/Yr+e60PToTcaOzKr906TegHdHQ3/K0+tQQz7zkbJRtO6jWTvPrOKszbFqw\n",
       "S952xOnLWZwneLmUedfB/tMtnyp382zSXLu1brKinnZT2W2cdS+XOMusNeAM0Rk421aTLSNzpmmP\n",
       "hk67+KMb0TDUm2lGeRXaVMxo18uu+h9/eusO2baVTD2rh485ayBIu6Fsfdy02KNsuZQZPKz9TM+n\n",
       "buxK6/LqcDOdjY3y4KzNdTE6exhb8i7ONtU25Ls5k9s/sYUzmRx0NMBZDM44jc2ZLLrKcXXn9z3t\n",
       "mxENo2eRNKtEoNw7Ouuz7QaE2Wl+Y87kEHG6qYWHuGlxEZnFUmp4uCVdXV+2fWXSviqY8f6KZYtP\n",
       "NdY4e8z10pzZTZFc6DpmoZx5bO3DJm7gbNvB2HI0wFkEzpRVsTlLSF/9E6OpBusceTrmrELM5r6c\n",
       "9dl2j86yaX5jzvhQNTRqHDfx3LcUR0xlYLXVWTHgNPBJ5dB2qtVio+kKZ4+5dv/M8i6lgZxJYsqS\n",
       "ENLmFMKZ38yhUmvWzExq06icWcIYsQs7lRFTFNUrIooinW6t+2A9xWBCilI8npr5Jvpz5jmN6p6j\n",
       "Ac4icGaT+JwN2RRl0d17zYiGVDS3K204U7p7cufBWV9BGz06G+WXkLznjA6jL6f7keXeQFSflMqJ\n",
       "0opbizjwmQ6zwoqyLI0/Z4+5HhGdZWUT/hUijLOuk5AyzypOitW/M3WuQsXjLGseLNi2P/t0p3jz\n",
       "qvqN0fOt7adDtVN/2r2YbaI3Z34HY9/RAGfhnFURxnGcSZVIY/tfWTeiIdOT6Mz1cUiGJ16enDVT\n",
       "v9VfHOXXdZbRI7VcXW4yM8nLyuYMIxcXtLFBXdTAZ5bxV+3mq8/O5rkewZls7/W01EGcdV3C6dPL\n",
       "yroM28lxUhaNM9nNyWybybymO9W9atuxx1srumzYdKvbvZhtojdnfgdj39EAZ8Gcufmwj+PMjVzV\n",
       "TQzWj2gYoqWUt8o93ZmFW7ceZavam3QcfdXzOTWdc0wbm2VZNrmgrd3GmZsfoGhWgqif2o/4bJsC\n",
       "nqx1scrZPNf4lc3hXs+WAscNnHXDhNnTgXu8nkihHWdcqFiciX6QsjGPO9VzNsT23efL7tjPJ3Vu\n",
       "92K6id6c+R2MfUdjqbwfPzJwpqbx8RPgM11V8svH5r44nKW0adjM3HII7YgGmWddNaLpVruds6oq\n",
       "qftHEn1+NXFVal42PZmLeiz/RBi5kTPppvocNToMfEpdU6TtDs4ecj0uOuNLUyf4c9ZPGGpePzWi\n",
       "bSwxuuKI7E7THs7oEFnaOk6b7lTzynU/pLOt5V1Up2Zb3e3F9Kbw5WzLwdh8NBCdeUVnSpunzSty\n",
       "Qa7Yk2vT8ea46IP77szLlu7l/FYWfV0e5PGEM8osJdblbvmcT6WrmifLdlQ2H3Jd4kxqUS5ZuZEz\n",
       "Xb3LRWGpHo3K8OesmeqKk7zMyYtWOm7ae2+0jplsHnpJ/7kcxhcRGTYzGwHW7FT3yvL51rp/z8ZV\n",
       "gG4Dh72YLrXmy9mGg7H9aIAz38qmNesj11NSMnowZ1zt3pm93ZiY9H/3CWePLzdwHNaNdvMxWeJM\n",
       "2abVr2BUjm4Nf85E/7To1WZZ0k9eOooH61t3g2aTu1oMk5rKsnjYqeo9QsR44tNua00xr4XO9mI6\n",
       "4MKXM++DsedogDP/Z2epYSo4k92cpcnpnC1OPZLyZC9ne7pTveaM2wM5M1XVu+sm5R49qT2VzW5+\n",
       "eeYxB1zbljddx6y6ebdots6ZedipGjc5/mlpt1b1D9Xmj866vZgutebL2ZaDsflogLMtElHB5Ls4\n",
       "251CFvRVXm+tlzKFh6gjOCNqO2eeywbLclyUIE8++ix1q/+MnhYpYYY0uTWL5qqZrmMmzapm5VJa\n",
       "rmzyMn/YqeHZWdf7vt3a7rHVw4jrfi+mm1i+2pA9B2Pr0VjeiG/nbH3ZYC6Ienr0PDL5omWDpY+E\n",
       "T5Oc/FU9yVVuKMA7Optwxp581IOz+cKJDxvVTBTXZDudNPkJZ6+CFFoOi6XVN/YSZ0oNl167tf2j\n",
       "s9lvxLAXfFd05nkw9h0NDEHfFFhVnHnPS4h1Nq98gvdwpndy1tav6qdFT66e5nppb+BJi2xIZbNZ\n",
       "bpvT/mnYEmf1pZdNtlaXy3XNYS+mjcYbK5uvDsa+o4HK5rbKJlm7abv5usAZOHuoMNv+aRF9glIz\n",
       "0rWtXo3XMQtqCqh2QieUKzt0o13mTEy3tuvl2l7xavzorNmL6VJrvpx5Hox9RwOc+XOWmidPzoqH\n",
       "vrTg7PacZZP+ZmZvZbPtZkDIbPKj+XWRjh5ZjdYxC+uo4eYScB2fKWuredOdyjrOdDHd2qZuLdu2\n",
       "xWEl32Evpkut+XLmeTD2HQ1w5svZs44azZObrABnn8SZJKIsSXcjcbeUGN3FWdaNr3gxbzhnjHVt\n",
       "jKN1zLreClLs48yNbSW2mYJztlNZOyCd5EUfs2VdxU7nhPXiGNNezMNeTJda8+XM92DsOhrgzIsz\n",
       "Zc3rTgY5KpsfFp09N8P/o2bzMJuwdcwWLyI34jvfv7VUPd9E70FO2w+G/9EAZz6cKZOuHeemPXNp\n",
       "vi5wBs66s7p5QHnYOmaLFxERWWr2b61+sYnenO0YXe99NNCy6VvZXEqKKZm2J/phvi5wBs76wH3j\n",
       "wQlcx2x5mrHqZ9fu3tqHB13zTfSf72zzqkb7BqsiOtvMmVujpRmh+zhfFzgDZ/2FspGnwHXMli8i\n",
       "VpD9W2tfbaI/Z1sPxoajAc5COHOHOsnYxkzA2ddx5ruYWWdH4LEMvYg8tvZhEzdMrr3tYGw5GuAs\n",
       "jLMqDuYEnIGzSyWs5ATOdnHG7GwAxvU4W10i94alHL61WDYYnH1c8l822M1ibtS2TDyWDUZ0hugM\n",
       "nMXiDC2bEVZBR2UTnIEzRGfgDJyBM3AGzsAZOANn4AycgTNwBs7AGTgDZ+AMnIEzcAbOwBk4A2fg\n",
       "DJyBM3D2ujwsGwzOwBk4Q3QGzsAZONuTDDv4rr4TZ7sPBjgDZ+Ds/ZypUkTcvZtztv9ggDNwBs4u\n",
       "EJ2pmLt39+hMxdwIcPZRnIUsG3y1Ug7fWv+1gLd89BK03IizqBsBztaXDY6RyRctG4zoDJy9nzMM\n",
       "QUdlE5yBs9AyFaIzcAbOwNlncEbtyRvBMnAGzsDZuzn7zJZNrk8+GLkCZ+AMnL09OvvIfmeSnHww\n",
       "BCqb4AycobJ5TJni5I0w4AycgTNwdkyZ+bm9dzhbPE9o2QRn4AycBZdpzw2MGEd0Bs7AGTg7pkx1\n",
       "bm3TJOAMnIEzcHZQmezMY7QcC4IzcAbOwFmMMs8Mz5RJwNnHc4ZlgzdsLZYNjlym1adtQU7B2crV\n",
       "HoEzLBuM6AycrSETP2m9dp7QsonKJjgDZ1HK/Ofvp5T/v/nqeUJlE5yBM3AWp0xyQn1T5TYBZ+AM\n",
       "nIGzo8vU+dHXBjc8AWfgDJyBs+PL5IIdOTwgy4lMwBk4A2fg7JQyqRD2kAtEZVoQ+fw8gTNwBs7A\n",
       "WcwyVUqEEWXcZIx42VEXLZvgDJyBs+uX6XmeEJ2BM3AGzsAZOANn4AycgTNwBs7AGTgDZ+AMnIEz\n",
       "cAbOPp4zLBu8YWuxbDA4+7iEZYMRnSE6+xDOfvzIEJ2hsgnOwBmiM3AGzsAZOANn4AycgTNwBs7A\n",
       "GTgDZ+AMnIEzcAbOwBk4A2fgDJxdnjMMQQdn4AycIToDZ+AMnIEzcAbOwBk4+z7OPOc2A2fgDJyB\n",
       "s8tzdmz+4AzLBl+0lMO3FssGg7OPS1g2GNEZorOP4Qwtm6hsgjNwdgHOlER0Bs7A2Q04W9yGGNM/\n",
       "fBBneQbOwBk4uwFnmj+7f8FZlThBZROcgbPbckYZOBuSkBE4+wc4A2fg7C2cJQacDbeDDs8fnIEz\n",
       "cHYuZ3x4vqPDWxg+hTP1hwJn4Ayc3Y0zavu/yhyctennrwj5oykAnIGzt3E2el705Zz9WcTIH5yB\n",
       "M3D2Ps6oBmd1Kv4CZ+AMnN2bs/DGgM/g7NfPKPmDM4zZvGgph2/tJThjHJwlifr7b+DsBpxhzOZ1\n",
       "o7NTlw2uOWPGpaKo/9N0Gs2GvqM70zs425/W8omVP5YNPnLZYFQ2Udl8Gp0FPzy7bXQ2MuzPYipa\n",
       "QHRmEZ3h2Rk4exdnwU2bN+VsEo817QDDW7vzNyVLvjuBM3D2Ps7CO57dkrNp5bJvB+je3p0/KQU4\n",
       "A2fg7E2chQ8LuCFn8+d9P3+bxWy78+cxbmZwBs7A2S7Owgdt3o+zuWY6nRzpoPzNtz88A2fg7G2c\n",
       "RZhS43aczTVTYnaoQ/LnZfHd4Rk4A2fncjYagp6HH8j7cTZ7i/CY+6RLAs7AGTg7jbPVwORLKpuz\n",
       "05PH3Sfy3Y2b4AycvYszG6HT5905UzLyPtmvjs/AGTg7gTO7NI92jPsOKznNk6TJ9yZwBs5O4OyC\n",
       "tHwqZ1+dPoozlZ7RrnNOKYdvLZYNBmcfl45dNlimvq8QnSE6A2fgDNEZOANnd+HssrOEgDNwBs7A\n",
       "GRI4A2fgDJwhgTNwBs7AGRI4A2fgDJyBM3AGzsAZOANn4AycgTMkcAbOwBk4QwJn4AycgTNwBs7A\n",
       "GTgDZ+AMnIEzcIYEzsDZWzjzXoF8w0fBGRI4A2eIzsAZEjgDZ+AMnCF1Eh2YCTi7LmdF6T1DAYHn\n",
       "mgAABE5JREFU04aPgjOkNyYegzMOzsAZOEMCZ+DsTVtr/I0y4AycgTNwdmHOhP+K2eK6i2uDM6RR\n",
       "omVxYCbg7Lqc5aX2zWPDR8EZ0htTWpoDMwFn1+VswwKzF16LFpwhjZItxYGZgLPrcsb815dl112K\n",
       "FpwhjZIu8wMzAWfX5WzDmY9ykYAzpMMTi1GPWM0EnF2Xs9Q/Lk9jhPDgDOnwlMdotFrNBJxdlzPu\n",
       "3wjEI7QXPWxFBs6WDstt0kEnNCyJGONXVjMBZ9flTPp30ZERevPo+Sj2PMrlf3fOhEpumg46oWGp\n",
       "KLMDMwFn1+UsKf33owzf5Yern0ZpLb05Z1ndxqLTlCZ3Swed0MBTE2EE+nom4OzCnBn/aX9M+AxB\n",
       "D1d/YqJcv/fmjLmjwrKWtXtzFueEhlWAY/SiXc8EnF2YM+I/dImEj3J6vPp1jIjk5pzVAuQivWGV\n",
       "86ATGpR4jDar9UzA2YU5s/6N2ja8/fvx6pcxen/cm7OmfpYVZXG/JoGDTmhQsjGGr6xnAs4uzNmG\n",
       "n7IIv3qPV38iIhzHe3NG3DNnqRJpbHK3dNAJDTueMRo21zMBZxfmTPm3V6rwps366leW1bVWUleu\n",
       "aISf0ltzpuofCVMdGZ0ld0sHndCwunuMloD1TMDZhTmrzpv0P8UyxtWvE1qMTr25EC3vKDOtY7KU\n",
       "3rFh86gTGvTzEKMl4Ekm4OzKnGn/B/w6uC3AXf0ZTZi74klbdWX8OrS8o8z7djo77oSGJBpjbPGT\n",
       "TMDZlTnj/mefB18o7uqv7t7CBSRF+6QoQveEO3Mm8+TG6aATGpIOfnQGzi7NWVL4n4KijHD1OxaV\n",
       "69jTPikanrWUu9M7OPvq5HdC35KK8thMwNmlOWP+Q0JY6OiR5uqvqya2O/MRWsLuHJ2Z5M7poBMa\n",
       "dKmTYzMBZ5fmjPt30+GhPXqaqz9310qeJ3W/0RiVrRtzxlly53TQCQ1INkZd81km4OzSnCWFf0tQ\n",
       "UcS4+hlxvUZ1UtsYoxf5jTkj9+ucccIJDUiiODgTcHZtzqz/WEwbOGyzufoV0ZZKYrNYla0bc3bv\n",
       "uuZRJzTkStcHZwLOrs1ZsuFpQ+CDicdO5FFmYLgvZ+n9BgKccUIDot0YfWifZgLOLs6Z9r8EdNjV\n",
       "8nj15zEO4305u3Wns+NO6O6kYjQEPM8EnF2cM+UfoKuwWP7h6ldRJuy+LWf37nR23AndnWyM2/J5\n",
       "JuDs4pxV50/5n2oV8+q3UVZWvy1n+objms44obtTwQ7PBJxdnbPE+MdcJiQ8s/N2vDgdyN/akzQk\n",
       "3W++xnNO6P64Sh2eCTi7PGfUf29oKRMkpCsmVabHZwLOLs9Zwvwf4rAc9w3SJRPJT8gEnF2fs8T4\n",
       "/66ZFDcO0gUTL9QJmZzOWZ3I0UCcUcp5W5v5XwpZoXDrIF0vGX5wJmby1PTZq4gV6LROB0+6dE4p\n",
       "J24t9482OZ6eIV3wIudHZ9LcRenTV/8PmsQGuiCZc/gAAAAASUVORK5CYII=\n",
       "\" style=\"display:inline;vertical-align:middle;\" /></a><br>"
      ],
      "text/plain": [
       "<IPython.core.display.HTML object>"
      ]
     },
     "metadata": {},
     "output_type": "display_data"
    }
   ],
   "source": [
    "from proveit.physics.quantum.QPE import _phase_est_circuit_b_r\n",
    "qpe_best_guarantee = Forall(\n",
    "    (s, t), Forall(\n",
    "        U, Forall(\n",
    "            var_ket_u, Forall(\n",
    "                phase,\n",
    "                greater(Prob(_phase_est_circuit_b_r.literals_as_variables(_s, _t, _U, _ket_u, _phase)),\n",
    "                           frac(four, Exp(pi, two))),\n",
    "                domain=Real,\n",
    "                conditions=[_phase_in_interval.literals_as_variables(_phase),\n",
    "                            Equals(MatrixMult(U, var_ket_u),\n",
    "                                   ScalarMult(exp2pi_i(phase), var_ket_u))]).with_wrapping(),\n",
    "            domain=s_ket_domain, condition=normalized_var_ket_u),\n",
    "        domain=Unitary(two_pow_s)),\n",
    "    domain=NaturalPos)"
   ]
  },
  {
   "cell_type": "code",
   "execution_count": 5,
   "metadata": {},
   "outputs": [
    {
     "data": {
      "text/html": [
       "<strong id=\"qpe_precision_guarantee\"><a class=\"ProveItLink\" href=\"proofs/qpe_precision_guarantee/thm_proof.ipynb\">qpe_precision_guarantee</a> (conjecture with conjecture-based proof):<br></strong> <a class=\"ProveItLink\" href=\"../__pv_it/theorems/187b82f71463b10dc3ebd45511bc554f61da868c0/theorem_expr.ipynb\"><img src=\"data:image/png;base64,iVBORw0KGgoAAAANSUhEUgAAA/QAAAFtCAMAAACeDdHyAAAAbFBMVEX///8AAAAAAAAAAAAAAAAA\n",
       "AAAAAAAAAAAAAAAAAAAAAAAAAAAAAAAAAAAAAAAAAAAAAAAAAAAAAAAAAAAAAAAAAAAAAAAAAAAA\n",
       "AAAAAAAAAAAAAAAAAAAAAAAAAAAAAAAAAAAAAAAAAAAAAAB8dl/BAAAAI3RSTlMAq1RmmUTNIjK7\n",
       "EInv3XZAMCClucNsr2Dj4YVQXufXodWTfIZC7dIAAAAJcEhZcwAADsQAAA7EAZUrDhsAACAASURB\n",
       "VHja7Z2JGqQoskZBQRGErp470zNVPXOX9v3f8QruC66kaaZ/9NdVlZkKiBwigi0ICSmicELJTWRa\n",
       "nu6fUUwgkO8WXQEw+ykcZCouhd8H+nF5WPvvJEWbgHy52NYf02L2UzjI7kXStDyiUfVphiYBeQb5\n",
       "hf/TI6Aniaz+VhFaAwTQPwL6uHblEzQGCKB/BvQk11ZyhcYAAfQPgZ4J+2cm31quOMbcAQTQXwV9\n",
       "Sps/rhceGTd9wAiBpdGvkMmLg/cF6EOWxyp5tWdWMZomYga2A/F/GrkWhEhb55xV9sYuYatX5Jmn\n",
       "+sfFNam32M2vOyvEk5xZub+pkIOVsJgLBNB3Tc40w3iCFTS2s3e6r3elyrUqOwaWU0emneaXSlEq\n",
       "e4Z5v/ENJ//imWkBkzFqUkPK0oiyndOUyJWGGmmVMJoYbzZz4swXpUz3NDJOyExxVeotdvPrQJpk\n",
       "6kv5XN3NJzfXU/XWTdQVUmn9JC//q25oJ1RlmU6UZSt1zUA2oF8uT0LiGqaoqgBetUJhaJbZf2a0\n",
       "15Qkrf/JdM8w58pLY/uxSU9mJeVl03W32C+i2L8csLnJ2HxUqjZA35bbltQ+Gs/aX4wmM8Wdgb75\n",
       "OAd9m0xXIeO68yXHp26MHLpWruQ2R14+sap7Age9/TK2/SxJI7I3Fwig74uKmsl6lvTMw87krqGv\n",
       "WpLzOYvyj7QQPcM8kT4aWZ1nm56q1Hps01sz69ubjC1V3DcIsrVbHPS5/dA9dlTTOizuHPR1sWc1\n",
       "fZtMWyGjuvPXQjIZMR068a7wqa5MLJeI/WChd1+ainu+OxcIoO9Lmje6pjZN3Z+mU74D6F17jGUF\n",
       "fWeY9xb32IbIDW3s67SyENr0ZFy32dTyP+OAxm7kKo8HhXDQG8nmoZ+9xWafFrb559GY1mFxW+in\n",
       "xV6HXk/rzl8LM4ugKsBpnggyrBDFia7hbc17JWRMhCK7c4EA+qHvW6tGWfBWW8keU33o09abVbpv\n",
       "mEes3xDLnqCkrXZPXUpdelHaDlwlRVHocWm4NWdpagese4Ww5n2a9YjuQz9/i+VAOOh1PKZ1WNwG\n",
       "+mmxm19Z1kg8gr6ukH7d+WuhyniQWHV/ogjXowqx7vsYemK0zobmji8XCKDfUJ7GLbV9AI/noe/8\n",
       "Yz0wIflgcCmVFgtTfef6hS69WMaLxqeps1KDQpgSFZWR+YG8+Vs66HMzhn5Y3Ab6abHXNX2dUr/u\n",
       "/LUwyLh3P897fe+G0cnK+N+RCwTQe7zhnlsaJ5UusnYizTroI9roniG5YjSiTE31v/1JDdITgosV\n",
       "6N1AlRkUwpr3ikde6Gdu6cz7YmLei2zepx8Xex36ukLGLr0nuX7GvftNYZdFbpo3bXIWebojFwig\n",
       "90Dv2m/lpPf8RlKPVatec7LOY9pPbGgvl8qV20E00Y4u9dKrB/KI9Koy+3sUDW6y0HOu5Cz087cs\n",
       "DeTNm/fTYq+b93WF9OvOXwsz5r27Pzq6+GYhFwig31Ae61XWZuNwYa52alR0mibNhBCsT60xfZOz\n",
       "bIQp4YXsjQ506aXKNU01HcJz98dUUCKYGt5UTdl5BvLmb3HQ23Jx2j5WQ+uwuD3oJ8Ve0PTV/Xpa\n",
       "d/5aqDKeqm5tPGt8NkG/IRcIoPc49VS1Q2Ul1z0YS6k/ulVu+eTIEfe1cMPkWaVrTESNNVgNH6cn\n",
       "VWmDz03WVfdHSZFno5t4YhJFJGPJHPSzt3SLc2zv5JJOVVJUfc2wuB30k2LPQd8kU9+fTuqOeJMj\n",
       "00WC7htJ85zKg9BvyQUC6DeIVNYAnfiZ8ws/GhUTEe/iHE96o27HvQezVogx9PO30GnS88XduThn\n",
       "mKZnJcx8cnLqbJ9aSbM5FwigPyEs9X/J5aQh8j2WprufZNHu9j57C50mPV/cGeibYi9CX6U5WyGe\n",
       "5OauZWko6JdygQD6E6KmZmizfDyeNsRdRmtlH2u5u73P3kKnSc8Xdwb6ptiL0MfeCvEkN39copKB\n",
       "oF/MBQLoT4hc/iZduTiQrD9K5nNtx8WV/mKnW55ArhZPLlaGDFQJ8sVVDuifCz0EAugBPQQC6D8K\n",
       "+rsF5YBATsliGAtAX38/DoKByDeQT1bmS2EsAL3ne0S+gXyXGQ/oV79H5BsIoH8Y9Ih8AwH0T4Me\n",
       "kW8ggP5h0CPyDQTQPw36l0a+WaoWbjsbczYV/+WRTT8+cD8E0H859K+MfGOWBgo2R7gyO4cbelt/\n",
       "OBt9AQH0gP5A5JvNEi36DFuhj9Y9j9GZXt1+dz46oRcC6AE96Ue+WZExfGtHNcnlVDdCL9fLJqLR\n",
       "5rv2OPgaepwPD+iDQ/9b8eNW1eArz1rkm9EKnVQzawLEOZ2FfDCzb+8Uw1MwWLwBepmtvIwqlTa+\n",
       "1ryMoI/ZCPoYZ8k9D/q/Cv+nx0PfRb5pgio2AaMi6vaA14fkLUFf3SlV/5CLfJbhsaZPV15G3t7G\n",
       "tNfEGG+zz+UQ+vYLCKCHeU/6kW/qw1rbgFFRaQJ04aWXoG+PeTVZPP7Kc1MN/Ur01jqVNr7WxMSY\n",
       "hT6JR9An8Oph3gP6ntTRF1KlE3ssZjfsFYmIp9X5tIwxXf7PZ/lt7qxqt47MUh1aW1rWsTCGrUBv\n",
       "YmNtCskMU1Ef6iYVuQt6RUfQK+wsBPSAfk6SiAxOW4xEad5HfIOmT/rTarGLz1ApVxlzG3ouTxeh\n",
       "d0FudXUEXiHndDap4mvNQi9MPlpF3ISYbqGPseIQ0AP6OXG89QJGldCXqNeRlBah75FaOvbOHnCH\n",
       "6JNUmqT/+yz0wr2Q0kKwwV+GZdQtzV18rfW9QVE+gj7KAQegB/RTcZHW+gGjLPRSNRN6C9DzlqmU\n",
       "NaHa8toVsIGY3O8u4EveRo/pQR+72ykjMZXREOkmlXoufphGMZXmQUfQiwJwAHpAPxVDiRT9gFGR\n",
       "C3EZ1RN6yg99dadd2ddFZ2xwtQGnGCNiVdMnhpi0PuGjzLQaP2hS6cfXWtf0fKzpOTQ9oAf0M8KM\n",
       "m6HrlrdVBBrPIFg2vlPS/kHstWHupuS0iJagd0MCaS5JGw4nb0b4mlT68bW6NNq+YWze67F5rwEH\n",
       "oAf0Mz+zWJBewCihq8U669BXd8rBEFw9iM9dpDkVe3x6yQoLpjLGdhi8NNBz+9ku9cl7qQzia3Vp\n",
       "5J4pvzgbQR/jjBBAD+gXZFNgqlUre36WbKLp++L89pRWfkRVgLlUenOFTd/gEmTtxpp6oq+DnmHr\n",
       "MKAH9OdlBXoxa1GzJeidVUBiB2ht6c+lMhhRdH2Dfay41z00IeBb6DWCwQB6QP8C6EUbj91lo8Xy\n",
       "u5pZJBcxZSp9rSSp9PZKKq5vSG3PkCjTjvQ3PUUDfQqXHtAHzlbG91ra7StPWOjX0lrZ5bK4yy4p\n",
       "PXi9IZW2b2jXFbqeIB5Bz7AK93nQp7H/EzT9q2Q5evrW/fRLqXR9gx2JiI2shwbIEHoc9QtND/P+\n",
       "IoMjCwH9/iDsXTdRQ5/hwCxAD+ivkXTpnKooCpHKjJjuIauFRgbMA3pA77eXeXMlot5BlmUxkFw4\n",
       "xaEloH8p9Iy2V46j3kEgY/9sIZBcOFndFQ3oT0EftQfMINg15JRtHVDyGNC/DnrZVS+gh9wFer7S\n",
       "FgH9GehpsnBlSksfjlKaZfMdL08QJQfQv0RoBuhfBb0o+OKVohrXS3PPKTSAHtC/RNIiAvQvgj5J\n",
       "lq9M68H8uJinOwH0gP4lkmlA/xroo56iX4ReFBrQQy6EXhTmftB/9rn3DbOabIOeFwmgh1wIPcny\n",
       "A0XAufdOfv/b7xt70yXoVeli8SQ3kbJnbEhm6tNrEhaX/4wAAqAPLdGSV//b32DeHzTv6eDoaT/0\n",
       "0lQTezmL0iImQtsL3fk2iftngghSgD64FAl8+vDQyyIjq9BrpVQTOFqX3kDZTWhVXS5K3Gll/N9k\n",
       "GV/64ushF0JPCwHog0MfDw2oeegH4S1odV11mx3Qr3V8cRNVvzf8tsKa4/tCzwsF6INDnw0Dy2yA\n",
       "nlXOVoWK/amBPgP0gD64fZ8D+tDQy9E03Abo1UDTsx2aPlZ7TjFJ/ekJxYZbsNgU4phFccx4pASg\n",
       "/2DoM799D+gPQj9ecLMVeuIOrK4c+cbgX6OrOb9WKbMwyddGpI9n5mhlE5tutAUrm0Ic2ahcOSeR\n",
       "Cg59ZA/naMsJ6F8pxm/fA/qD0NPR8Nv8Mtz+EKpmNcGi6QESF+aeel5OE/O+jT5tYeZ+V6CJSG/0\n",
       "dBZQGFMbJqN42DPQk0wQWV61Ope4F/qoOpK/KWe/fTEeRwrQh23SCaAPDH1erF2Z0qQoWqI5LXJa\n",
       "RahkpapzvGQy4tx40Glj3regut7CX3FtRPrZ5X/RdujLKy2BmsQhoY+bfUdtOXuFs8aFBvRhnfpC\n",
       "Avqg0I9d+tNPVEWlp8TEVbgc0yOuAjV1LzH36t8mIr1MzkEvSwfA9kR09tAsWyyRuJUHe6A3WTQu\n",
       "Z8oqsanQ8mMC6INK4p0KBvTHoI/GQ+4nn6iJSk/rSHiDwy0rf1w46PWi+rUR6SM2p6LbYHV6VdMv\n",
       "CU+tCZOKZBf0YtxVqVGXab2SmEtAH1CYd/09oD8GPRsPk5x8oiYqvagDSvVi3peKVXTQ50s7KVxE\n",
       "+pTFqR96khh5Anqbu2r+367po0zJcTn7XR61HsUzjtq/DPrYOxWMYBeL5fFuDErGa5tPd2M2Kr0b\n",
       "pndhZ3sx70U91l2Z90trqtOs9xSj6Dkt9FFiFqGfRK8fJFTem0YN/Ht8et7DflDOp8ll0AvvTP1f\n",
       "CHZxSNPn43m2009kh+nseFZa2Mj0om9I1KGvVwbyBhHpvZo+zbea97PT/bTi3Z3GvXP0XjRxuRfL\n",
       "CeiDKTLvubsw749BPxkaPftELiq91fZx5ia1+sqwHnwzpolY6d6pav5o9WcvIr0X+g2j981Ln3Mk\n",
       "YiooEVVI293z9KmzWZbLCeiDSeFbAALoD0GfTnrRs0/kaE7cMJlzutuY9z1QlTIdLCJP6z9a48N/\n",
       "qHqqkkKZXdDPTfe7+4u8Dsp9YEVeulJOQB9QtM8VBPSHoI8mZ+EEf6JezPso4GzWOvQ8qrb7e+bN\n",
       "OwNgAfruaHDI26BPfMP3gP4Q9Gay3OmVT8T1ldDn1h0knun+8o5oA/QkaSJjAv63QU99C3EB/SHo\n",
       "1WQ65KVPlJhgD5pEa9Cn1SzC/HR/aQDI7dCLqLp6NJMA6C8R5guyBugPQU8n9fnaJxKBztRKxYyT\n",
       "PYXYehXz0/1kdL3MWBxT7ibZhYmMTV+oKG7Mew1N/zbolW/1PaA/BH022Q77BRFuWuiZ2H49T5zF\n",
       "nyaVP2A1vO7BDujfCb0G9AGhT74ZeiWJ2Q49bbbluQ2ApY0gks6nB/RvhN74VucA+kPQ68kYyRdA\n",
       "b0TdoRWF3nw9Zw30stHw0PT3gD4uCkAfEPr8G6E/IpJqwTUjKo8IN7HbJ2x9+urwAGFyhRO+AX0l\n",
       "nx7sIp9MgSJqLeRm0Ed7oUewi0qReTbi5EUM6K+VYpsA+nXofVtpYN4vfl8cgD7BOZKnoA941Qsl\n",
       "XRvFuA56Dp8+MPTR3idiFOA+APrxyaNvhF74DswC9Ieg/6+/j8cAlqLeOVsLq9GfAT3Jl/eh+wLJ\n",
       "hZff//53aPp3anqZx+D2ddDLNAj0MsRUA19uCdD0j4GeHt8oN5uuAPR9afchn2qocZhYQzQD9IDe\n",
       "/np8FG92X0sWgPriHfIS6LujRc40VO8Glb299NKRZoD+MdAnJ3bEz0IfBQh6+Q7/9zXQJ2mAZzLB\n",
       "YgpmGtAD+uhMNOr5Hawa0HfNUwVIn/uDQ+xvTQbQPx765AyiPeh7B2MHWN76LdDLf8kA6esiXFyt\n",
       "LAf0T4d+seffA33UpZNmgL6Wn78CpB9Q0VvLLgL0D4eenmpP89D3/NiHQ/9nHiJ9WoQMq7WQ2HOh\n",
       "//RgF7ugl+dGiDzQn4/y+iXQ5/8Okb4uWMDHpPuDw18IPYJdvF7Tx0X0AujPD+V9B/S/fgZJvyhM\n",
       "wMfk+4PDw7z/Kuizc96iD3rGAX1pRv3nxw2hJ96QUoD+g6H/x0ZHYCaq9RHombaS5+6vag2J6Fak\n",
       "XL1Q5gQMgZb1bPh+rwS1ZjOvff/XZdX+G6B/m6aPT84F+TT9aaf+YzV9j/Q/8yH3JzR9UOiN96VD\n",
       "0z8Belrwl0B/evj+Q6Ef6HY3itfD/i7QC+/4PaB/AvT5ycrzQH9+ov4joR+a880oXov9XaAn3ml/\n",
       "QP8A6M+69D7ozy/J+0Dox+MQP3+M9P9toE989h2gfwD00dl9HB7oNXke9GPmVTx4J+eg/xX0Qdne\n",
       "6JGA/ougZ2fXdM9DH2Cb3cdBP2Z+FGPT/nwC+rAn2nj35gP6B0CfFFEw6HsbbgKEgvw86EdfUR4u\n",
       "/dDQi73hZQD9F0GfFyIY9F4l9xSffljlGQkJfVjzXu49ivb7of+UYBcB1t6f3r01C72JAb1Mg0If\n",
       "eKl54ensb7z2HsEuAmn69PTCNzPXeCgB9EHTDw699rh1MO+/H/qo0OSmAuhfaN6TxDN8D+g/F/qt\n",
       "a+9N0H3agP5jND31zNpg7f33a3oV7LhFQP9R0PvO1oWm/37oaUEBfRDoX7tzMDj0ymPiAfrvhz4L\n",
       "eiLLg6F/dcHCQ68B/UOhTwD9M6E3ntU5gP77oQ95sjKgfyX0gUfvY4+rAei/H/oc0D9T0wP6J0Nv\n",
       "AP0ToY8A/YOhjwE9oAf0T4K+APTPhJ4D+pF8SrAL3/d7oP8HoH8i9L71cDeA3hfGAsEugmn6fwL6\n",
       "j4D+12Ogh3n/cugjQP9ETS8A/ZdBz/5IDzsCgP7R0KeXjfHIP/4ggB6aHtBD0wN6QA/oAT2gB/SA\n",
       "HtADekAP6AE9oAf03wX9H38IQA/oAT00PaAH9IAe0AN6QA/oL8rz047LAvRjeU6wC0AfCvrXpv8k\n",
       "6BHs4sWafrp2D9A/AnrfejiY9zDvAf1doP91DXKA/nOh3xrs4jz0syUQgH6gVtOPMe8R7AKafl1m\n",
       "A1hmAtDPVQd8emj6r4U+YoC+E04JoAf03w490YC+kyQF9ID+S6HnXcNUEaBvm6cigB7Qfyn0UXec\n",
       "dpoB+lrkv2QI6DF6D+hvDn3PpH069D9/kRDQQ9MD+rtDHylA7+TPnAB6QP8I6M8P5X0J9Pm/Af1H\n",
       "QP8pa+/vDD3jgL6UXz8JoA8DPdbeO7lDsAsHPdNW8tz9Vc1KCwroyzf0nx/3hP4Dg13AvL+9pu+c\n",
       "+uKgvAP64+JNJlD6GL0H9LeH/vTw/adq+j7nf+aDjzDvAf3LoL8y2IUH+vMT9Z8J/VC1V6N43Vf3\n",
       "hx7BLqDpD0N/fkneJ0I/subbUbzma2h6aPovhl6TB0I/Hof4+aNX0YAe0H839AG22X0e9OO7VTyo\n",
       "aUAP6L8P+t6Gmyx9HvRjPS+TUVUDekD/ddB72/tjfPqBUB4ufQS7APR3h97EgF5kAdOHpgf0N4Le\n",
       "zKkgSgC9TAE9oP9O6G8I4E3MewLoPwl631KWd4mvPAh2Aei/D3rfVprhuqHgq4gQ7ALQfzn0CHYB\n",
       "8x7Q3x16bLgB9CsoXxfsAtDXFfkdASwR7AKaHtDfpDIwkAfoAT2gB/SAHtADekAP6AE9oAf0gB7Q\n",
       "fyj0GL0H9IAemh7QA3pAD+ifBX23xSOKg0EWNFFAD+gBfVDou9gK56OotUtZgiYaoDyAHtA/F/pp\n",
       "sIs2tkKAeKktIkETfYGmv0OwC0D/kdB/R7CLpE4hQGT0DpGQicK8B/QnoMfo/Qz0cd0/JCEhC5ko\n",
       "oAf0MO/DQk+qQGq5CgpZwEQvhP7KYBeA/qug/7BgF8yd25TJoJAFTBSaHtBD0wfW9Clt/piXaL7Z\n",
       "xxldgGkt0QUZWwcM0AN6QB8WeqePlTcqemx/UcqonslbuepL0K8kOrSMNLNXxjmdhXx2AkBkvbSl\n",
       "UpRKQA/oAf1W6G2AlfGImzA0c1xJS2JcXsGz9iej16GfS5R4MokoUeVzMLkd+hL0LOrbAkwD+vtC\n",
       "L2Oa6KQIK1pnjK9Cj9H7+WW4iaN6YFKz5oBmV625/dQDegP0M4mOpc0kKq9krV2/DfpSTFb34kVZ\n",
       "xrQQgP6m0EdJYsQrhnckV5qm0PRHoFdRM6+eMmbR68VcsHynLpc82gV9lyhRcdzcG7O4tBQc110m\n",
       "kYh4aiz0ijGmy//5PPS9u+txBdev2BF2QH9X6EXCXjmeKxIqAf1+6NPamy7/4Zq47DhLE5eNzUXH\n",
       "u6BvE7Uj+c0SPRnzvEzGZtPLJBKleR/xVU3fu7t9hOaDgnl/T+hN9uqV2FxzQL8bekJrLZlppcQg\n",
       "oKLz5Cvoc7ML+jZRkiXtZHcqje1FbHq9TEroS9RNtgZ97+7Wsa/ft9AYyLsl9JS9PneZxID+8Nba\n",
       "okIoTjInkRtja8z7Yt28n1/KIvKiU87Ujgnmo0yE5bcZ91vy6du7K1+k7VfS+RUBCHbx7jz/+5+X\n",
       "5P8/GaA/GuwiryAS3fRcFU3wyEBeTz+TVJt+FowR0c/EQk94E6VdLUDf3m0XAbTIl/iX/6dXanoE\n",
       "u9iUJ72qa1TqIui/L9iFqrnr6U3Ht7EKljp1vB9663EpUd+c2iy1sJh3mbilAMR4lvL0oO/ulpT1\n",
       "hg8yIcTcaBHM+/fmaa5bhp3Nvw+Eql4/OUcZ955KitrKTKuO1FiohB3BT1VSuN5hI/RxVA3eu5tt\n",
       "11G2hbifidDVrvt16Lu7Zf+5c188BAS7eGueUl9XAk9eCHax/bgsqay7bRUwH3bW/aZON8M0c/Mg\n",
       "k+U+/MwbgqZ/Y57syjoy8Tr0ntYpAkD/XWfksX5NcXkCen5suhbQfyj08tqN1Xodes+68EwA+rHJ\n",
       "38ti0Jvuhf6goeVZe99ICuhvCn187fmIs0tyN0EfMUA/6bHnk8rMXvP+mKRn6gfQvy/PizdWc3YU\n",
       "eqIBfXjI3iWA/p15Xn1skp59T782QL/jVDdAD+gBvTfPY6cpnJDksKbfcX4roAf0gXQU+0Loubq4\n",
       "MubciW3Q7zipHdAD+iAii+QLoY+Kiytjbp/lDPTcUJkqkxkiVLN3I1KA/qj4lrK8Sz4l2IUkXwi9\n",
       "LC6ujGKbea9IZrdwyMIuBI1y/3jAq6DfpxjT09BPg108UtMj2MUVeRY3KMQUes6Jti58WpgeKPV8\n",
       "37qZfz7YhdmnLrjZCv2OYBcw79+v6QH966Afj97LUsdz531YdFjtS1QHPmwwTk5r+saTmN8MPtdJ\n",
       "xPDpAT2gP2Xe14MNFe5NZIYKxSgJBr1vj3+1TFFSlhRb/ZhEAvoXQo9gF0+AnjrutMWclw1BNnZ9\n",
       "qnSixEHoJ7a1VHrujEjWXGc2Qx8PpzOCBLsA9O/W9N85ek8uH73fCL3T7pWNX/KfVjs+K50abWhS\n",
       "2817o9Xk2pzshp7kEpr++8z7r5ynP1qQw5WxEfrqCNWq7WeqOrOlXpK3gcN9Pn08xr5zIHZAP/QU\n",
       "AD18epj3O6Hn1bkwrmvhzLj3W83YtQexBYPeUj7YpsrUduhTRqkrvaKAHtAD+u3Qb1l7X2+zM5RI\n",
       "ERj6sivpn9HdKe1V6OO8KUucAHpAD+jP+PRTqfdnM0OUfAH0/dPnoq3Qi95BtDmgB/SAPij0zWkf\n",
       "gsWCBIY+SgYheHI+B71MdCd1EWhBKTV1noAe0AP6oNCbeE+T2jeQNzqvdR76Ock7R55D0wN6QH8Q\n",
       "ejOvyCl5DfQzU3bbzfuid0S8vjP0vqUs7xIEuwD07wp2Mb84pztuag36rB+ycRP0B4NdQNMj2AWg\n",
       "X9YjG4NdeJbhdrNvaoUVYZfkVCe9MwXzHuY9oN+a392CXYjaUqc0LxK62CEJZmLj8hoG6AT0oaF/\n",
       "SbCLkxuor4Y+3X/BHuhfVhtvNe+3blPX+zuhVI+aJKC/v6Y/u4H6YujXizst4Q7oX1cb9/LpPRLv\n",
       "X2TM4k0lAPQ3gn7jUUypUqw6vMnEQaE3lLF6wjelurDTv1lmsxBU53n5iSZ5Hg+Lay/ULvqkNUMn\n",
       "3E1KuB36F9bGraCXejr17iTbi8j41E5Af3/o2zgvUi9VjrQaIKpSTWQ46IXbQkpM3fBE4UaS0tyV\n",
       "ilefiMzUuLiqDls+CkJZP8S4hJuhb5JfroxjtfERmr6s6505jnsJQH9/6FvjLFqcozE2wXpbacyC\n",
       "QV8dCuXSF9VnWr961ftEJB0XN2mSGa4uqR9iXMLN0DfJL1fGsdr4DOhJus99MykB9J8Gfbuaii0e\n",
       "vsjdWq16L3kuQ0GftNlr3YdeFLoPPWHj4haNQhquXGkeYlTCzdDnmyrjWG2sb7i5BfSvKgGgvw30\n",
       "3QZqve7NRrVe6s3xNiu3t8djKAYJ9rZymh7m3AFVfeK8CyjcFJc3FoIclrp5iNEs9Fbo29rYUBm7\n",
       "a+NDND2g/3ro64UVnGZFRlcMO67rFtrbQJ1Wzni6faqn/1JpV0zRw9y67FH7yfBJccvf6/zi3o+9\n",
       "hxhu8d4MfZX8psrYXxuAHtDfA/qkc+nXCmsobUjrbaB2DXwH84O2nxS88+7zFnNpquH68jtKe9d0\n",
       "xdX52O4fPsRwi/dm6JN4Y2UcqQ1A/xboPyXYxYVr79sdFmzD0W/1ePVwA3XZxPcw74e+8uK1UqqZ\n",
       "K3ddQJrxSXFl6+yPXPrmIYZbvDdD39TGlsrYXRtPh/4vBLt4tabfGOyi3UvZ82Lntk/XV1fvc7iB\n",
       "OtVe5os5mTfveVGFeOh7w51P36x8q4vbuNPjoeb2IYYlnC9H4a+NTZWxtzbmCxEY+t+g6WHeb4Ve\n",
       "Fny5qK4lZ1Wyww3UC9CvD+SxbiAv9kBvd3U0e6/q4rYuvRo8fvcQ/Jimr5Nfq4xjtYHRe0B/D+gb\n",
       "g9Z5sQtzT9WbrJv5YAP1GfOeZBYYHrVe+hz0rimIQXFVMWvddw8x3OK917xfq4xjtQGfHtCTWwS7\n",
       "aDZQWy82WkC3OiilNmj7G6hPDeSVWCsScWm6xTnz0CfD4jZrZ+opMknGDzHc4r0Z+jr5tco4Vhtv\n",
       "hT74NnWvINjF7TV9M99EKZFLk1Rx3HOlexuoz03ZlTcmxtjjXmvDWgxCAzd4jQAAClVJREFUSYgG\n",
       "epWPiptYtyCtx8/b+BPdQwy3eG+Gvk5+rTKO1QY0PaC/B/TNBuo0i5ebH2eMNePovQ3UzbxVmhyD\n",
       "vnTmM2rcAjhRUpwUBW0H4+rtNzTLW/3fFJeojLKWS10HW+weYrjFezP0dfKrlXGoNgA9oL8H9AE2\n",
       "UO+U2Zdq97dkx4sbyeUSbl6G+8raAPSA/ibQn99AHQJ6mohYHy+uWinhZuhfWRsYvQf0N4H+/Abq\n",
       "ENBHRVGYw8UdO+CTEm7fT//C2oCmB/R3gf70BuoQ0BOW0+PFNWsl3A79C2sD0AP6u0B/egN1EOhJ\n",
       "wOJOS7jjuKzX1QagB/QEp+G+N89nn3v/GOg/JdjF9iU3p9feA/rvgv7Ga+9964MQ7AKa/mHQY/Qe\n",
       "5j2gh6YH9IB+yWgPEuwC0H8/9H9d9rQIdgFND+ih6QE9oAf0gB7QA3pAD+gBPaAH9IAe0AP674P+\n",
       "bqGqAT2gB/TQ9ID+mdBrBujPVwagB/SfA70sEkB/vjIA/VugR7CLg9TDvA9QGQh2QTZ8j2AXh6Gf\n",
       "npsLn/4RPr3vLFqY9zDvAT023AD6D4Eea++D5Smx9v5FPiugh6a/KfSRubgQTDzbpwf0nwT9d47e\n",
       "c3VxZWQS0AN6zNO/E/qUXlwZCQH0gB7m/VvzTC4uhAb0gB7QvzfP7NoDEzmbfU8YvQf0gP6yPE18\n",
       "aRkYh6YH9ID+vXnKa+17TQA9oAf0b86TXVlH83YFoAf0gP7KPK9U9VITQP8W6BHsAtAPtK+6rARZ\n",
       "dA30CHYBTQ/oF/PMrqol5eleMHoP8x7QX5zn//7zkvz/zxcLF+Y9oF/5frphdrsjAOhnhV5g4cvM\n",
       "u8z/MujTy+YnfZt7AT00/V3yVNmr2wTXnLwdemh6QA/oOyYT9srhXZHRhUYH6AE9oH9HnlGSmJc0\n",
       "DClUQhdTBvSAHtC/J08Z00QnRVjROlld/gPoAT2g/548NwmCXQB6QP8w6KHpAT2gB/SAHtADekAP\n",
       "6E8Igl0AekD/LugR7OLFmh7BLh4KPYJdwLwH9HeHHhtuAP0Kygh2AU1/CDkEu4CmB/Tw6aHpAT2g\n",
       "B/SAHtADekAP6AE9oAf0gB7QA/oz0GP0HtADemh6QA/oAT2gB/SAHtBflWfx2vQBPdbeA/rbQb9N\n",
       "AP1x6LH23gmCXUDTH9YjHxfsAuY9NP3DoMfoPaAH9B8EvUzh0wP6F0N/ZbCL2RIIQN+XTHwM9Ah2\n",
       "AU2/LoovtXJAXwqn5GOgh6YH9Aehjxig7yRJ4dMD+q+HnmhA3zVPRQJA/zdAD+hvCD3vTFAVAfrG\n",
       "d/2XBPSA/luhj7qgq2kG6Gv5+YuEgB4+PaC/OfQ9P/bh0P+ZE0AP6B8BfaQAvZP834Ae0D8D+vND\n",
       "ed8B/a+fBNB/BPS+pSzvEl957hDswgc944C+fHP/+QHod0Lv20ozXDcUfBURgl3shJ5pK3nu/qqW\n",
       "oohuRcpBeQf0x8WT0K9Q6SPYBcz725v3p536j9X0vT7gz1F3AE0P6F8H/XXBLnzQnx6+/1DoB5S7\n",
       "UbzeNyegN9cgh2AX0PSHoT8/Uf+R0A/N/GYUr/32cPq6YNdAD00P6A9Df35J3idCP3Ltf/7o6vlc\n",
       "+rRIAD2gvzn0mjwP+vFonor7FX0qfe4jBNAD+rtAH2Cb3cdBP2ZeJqOqPpO+DuzUA3pAHwT63oab\n",
       "LH0g9GOTnAdMnxe5BPSA/sZba2VCngf9uMqzoM+kCgroAf2NoTcxoJdp2GeiQQfwAT2gPy5m7mQs\n",
       "SgB98GcyIXU9oB8Lgl3cQAD9WNLo0dAj2EVlQSLYxZOgD6tHEOwC5j2gfxT0MO8BPaAH9ID+o6G/\n",
       "MtgFoG9q8qbbhfchh2AX0PSA/ksFmh7QA3pAD+gBPaAH9IAe0AN6QA/oAT2gB/SAHtADekAP6AE9\n",
       "oAf0gB7QA3pAfyvoP+fNAXpA/xTo3wTTN2p6DugBPTQ9zHtAD+gBPaAH9F8HPQH03wU933hlXsSA\n",
       "/onQc0D/WE0P6AE9oH8Y9BrQA/q3QU8AfTjop/rbd2USOjAioP8MiYr8zdBzQP8m6LNCAfonQh8X\n",
       "GtB/FfR6M/Q0dDRUQP8ZYjwRMQH9p0I/Ndq9B2uFjZsC6D9FVJG9GXqfgwHoj0E/Ndp9V/rePaD/\n",
       "cmEeE+866H0OBqA/Bv3UaPddGYeOew7oP0MyzwjuddD7HAxAfwz6qdHuu5L7bCxA/92SeJZiXge9\n",
       "18gE9Iegn9an78o0wKnMk5QFoJ+rltByqt7zQrwZep+DAeiPQT812r1PVJx/1Enc2kwA+lKX2vVm\n",
       "Ko5ftrnhVL2/f1+rz8EA9Megnxrt3ifS5/fWThpfxAA9EdbDYqL6+xrod9R7unfo/DoHA9Afg35q\n",
       "tHufiJ5fhzuNUK8BPWG2VrLEE1noJdDvqHe+dxQtvPgcDEB/DPqp0e690pxfnTNtfCoC9A5AkRd5\n",
       "eh302+vd+FZiXge9z8EA9Aehnxjt3iv5+Tm7aeNLs8dD70ztVJJUm+ug317vdK9tHVy8DgagPwj9\n",
       "xGj3XinPD99PGx9J0qdDT63tqsuaUeI66LfXu96rZoOLX9sA+mPQT4x2/xPp08/qGp80zPUz1DWm\n",
       "SD0ceuladBy9cPD+TL3L3Wo2uHgdDEB/EPpJN+p/InV6JM81PkWivPcq9MOhjy/YsXyi3iPvlovL\n",
       "oPc6GID+IPQTo93/RPz0lhvb+EREmG1wtO5sGH829Im8BvqD9b6fuODidTAA/UHoJ0b7whPlRYDG\n",
       "V77A3Cq3vNZw3ex0cVjeAf0nyLZ6XxT/O78Ker+DAeiPQj822heeiBXiPPTWYpB2SLZOK4BT/8ma\n",
       "Xl1xxvDxehd+6+4q6KP9RQD0O432hSfiZw/PqRqfszJN8yYCDN9/MvSaXAb9kXo3/oPPr4Ke7i8C\n",
       "oN9ptC89UZ6HaHyZ7WWyjLglaCEm6j8Yes6ug/5IvSf+N34V9AtOJaA/Cv3IaF96InNy+X2tcahd\n",
       "gKaICmXefjD0VFwH/YF6Fwu23UXQLzgYgP4w9COjffGJTo7fV41PUmWilBoRyrz9YOgvse6P1zst\n",
       "5LuhX3AwAP1h6EdG++ITqUKeb3yDURr2aOhjcyH0++tdLnXyF0G/4GAA+uPQD432xSeS54bypo0v\n",
       "Sx8N/RWT9Cfq3Sy1hWugX3IwAP1x6IdG+/ITmVOqftL4ZEKeDH160VmjR+s9X7IHroF+ycEA9Ceg\n",
       "HxjtK0+kVcjGZ4KEynrrwpdTMEZvgn5bvS/38JdAv+hgAPoT0A+M9pUnis48sBmPVd/2KP1r5KrH\n",
       "P1bvcnmvxSXQLzoYgP4E9IMufe2JWEYgz+iSlt/0JdAvOhiA/gz0faN99Yl0DB6eIDyXb4d+ZQjp\n",
       "bdA7ofeBfr48K+XsGe2r0ItcgogHiF5ZiHUB9AsOhvaMrAy/1y/ZkCVjJ/wub8pXnrVydkb7uu3C\n",
       "UxDx/SLX2vQF0C84GFV7jle+910FGRrtd3NYIDeV10PPYVO+2C9oKvhuDgvkhhrimmMMNEdVv7hb\n",
       "Te/psEBuqOQvsZpluDb4/7bzlj8Wfk6TAAAAAElFTkSuQmCC\n",
       "\" style=\"display:inline;vertical-align:middle;\" /></a><br>"
      ],
      "text/plain": [
       "<IPython.core.display.HTML object>"
      ]
     },
     "metadata": {},
     "output_type": "display_data"
    }
   ],
   "source": [
    "qpe_precision_guarantee = Forall(\n",
    "    eps, Forall(\n",
    "        (s, n), Forall(\n",
    "            (U, var_ket_u, phase), \n",
    "            Forall(\n",
    "                t, greater_eq(\n",
    "                    ProbOfAll(m, _phase_est_circuit.literals_as_variables(_s, _t, _U, _ket_u, _phase),\n",
    "                              domain=_m_domain.literals_as_variables(_t), \n",
    "                              condition=_success_cond.literals_as_variables(_t, _n, _phase))\n",
    "                    .with_wrapping(), \n",
    "                    subtract(one, _eps.as_variable())),\n",
    "                domain=NaturalPos,\n",
    "                condition=_t_req.literals_as_variables(_t, _n, _eps)).with_wrapping(),\n",
    "            domains=(Unitary(two_pow_s), s_ket_domain, Real),\n",
    "            conditions=[_phase_in_interval.literals_as_variables(_phase),\n",
    "                        normalized_var_ket_u,\n",
    "                        Equals(MatrixMult(U, var_ket_u),\n",
    "                               ScalarMult(exp2pi_i(phase), var_ket_u))]).with_wrapping(),\n",
    "        domain=NaturalPos, condition=_n_ge_two.literals_as_variables(_n)),\n",
    "    domain=IntervalOC(zero, one))"
   ]
  },
  {
   "cell_type": "code",
   "execution_count": 6,
   "metadata": {},
   "outputs": [
    {
     "data": {
      "text/html": [
       "<strong id=\"main_theorems_combined\"><a class=\"ProveItLink\" href=\"proofs/main_theorems_combined/thm_proof.ipynb\">main_theorems_combined</a> (conjecture with conjecture-based proof):<br></strong> <a class=\"ProveItLink\" href=\"../__pv_it/theorems/91eccb4c5a6cf3bb1ec847756a3115a2e4cbfaa40/theorem_expr.ipynb\"><img src=\"data:image/png;base64,iVBORw0KGgoAAAANSUhEUgAABPwAAAPNCAMAAAAqYoRCAAAAmVBMVEX///8AAAAAAAAAAAAAAAAA\n",
       "AAAAAAAAAAAAAAAAAAAAAAAAAAAAAAAAAAAAAAAAAAAAAAAAAAAAAAAAAAAAAAAAAAAAAAAAAAAA\n",
       "AAAAAAAAAAAAAAAAAAAAAAAAAAAAAAAAAAAAAAAAAAAAAAAAAAAAAAAAAAAAAAAAAAAAAAAAAAAA\n",
       "AAAAAAAAAAAAAAAAAAAAAAAAAAAAAAC+sJjuAAAAMnRSTlMAMquJZkQiEEAwVJnNu+/ddmxgr+Ph\n",
       "hVBeTNvXpY3n91qpkXyh1ZMgcPmXucPB6dHZ5VrNmKIAAAAJcEhZcwAADsQAAA7EAZUrDhsAACAA\n",
       "SURBVHja7N0Lo6S4mSZoJCGpCgFSV7rKnipve7zubvfM9szs8v9/3CLuENwlCC6v7MrMiBMIQcBz\n",
       "Pl2QguDYRLIi0ftk/IW9vLW4SC9MurxGl1/1f3THRDIW5onfJ+Mv7OXA4rYORiFuPKTvJ3uBhjRb\n",
       "ftX/0T3xEzfL+At7ObC4qoEwFrjxkK4iYLbyVQj8gN/e4pI69BMJbjkk4Af83oNfEMvybxbhlkMC\n",
       "fsDvRfiFVVNfjDsOCfgBvzfhF6TappThjkMCfsDvVfgpYv9MJO44JOAH/F6Fn6D1H6uT6r2KOnkK\n",
       "NfZ5M3p9sy1ja8Yzro6KKTlZotEiq5lydbfmkVFjw5hIvOrMzO4GCfgBv2+fbRv0semRipFmsaJx\n",
       "9w7udQzbUYOSMUotQKFZYUJZlLT8mzEzU+Oez1iGFUKMDktEVEZD24et2WeRgzCaLFfQHQWZl1Fu\n",
       "urvW7wYJ+AG/r5/tyIx3dxBDk4TbwCX3gwk2fotLWt3dSucf1Wq005izQZ75XstdWtR4MhtjTmZM\n",
       "jNHVIcTDEgVReVdwPqZS/ZJ/uiu7jooW6YDHaf6/0rFmXJDMSxUlyQR+M7tBAn7A7wJnOx6Nq1TZ\n",
       "GGjxy38aSjOOX1EtzPI/RJZ/Xk/suBpQ0+TZeJXaN6ZP4kLG0Rh+ZUVVxb0q50AlJXrl+ti6c6y8\n",
       "RDDg+e8AVolY4GffzINLEgYiCrbuBgn4Ab8LnG0W1TenbYUjcWr/Mk2LXIGfkWocv4KfUJZGyS5C\n",
       "ncyqUYSm08pXeiUyu+d0cozhaMYL+JXvVdVd1ikyNzaqKyK7ugnxc3SjruK/NC6cLrQWuqyCF7nY\n",
       "Fxa/4k1T+seDrbtBAn7A7wJnW6RVVY/boIYK25wvW+BstVckXbg6+ImGHZZjEKmg+Vgns+IHvTzz\n",
       "qzYuC2Tx07NdH8OMR/DjelgimfFh5JfHrvneqmpsVRRbLpXUKWyOJ2Zlnky23RWMB7r6JdFUexmR\n",
       "YUBY98xM7QYJ+AG/651t2lRwy1Ap/4+HHfxUwpKRpqyCnfrfxMIgVCjKGKmXWfWxTp55SEha/NK5\n",
       "/tBuxlP4BbGR/RLVTX6kLbKQ9uOmLHA1jcNHc2P5Bk/LsxJnWda4apv3hvgFRuvEBPUxr94NEvAD\n",
       "fpc62/ldXDRf2cpcXAZDUVntZTwaxy+iNQedZi2Sil5m+TtJ0MuTlH24VbU3m6kV9jLO86mT6OEX\n",
       "tb3RZYkGTX5lkakp/7MZsaApV4/TYmuT2YHfq+bqod1jXr0bJOAH/C51tmmpRRQF3aqcxY9zJkfx\n",
       "q25r27glxFRmVb2PdDs9TanGQofHWMYjkZ9IhyVSRfayj1/K7Q7LtjwxXu0tt47WP+zX74mZ2Q0S\n",
       "8AN+1z3bISU0IKqswMkWPzvUZbbDQySEkMFI425mgTH9PBtf7A94O7qkqDxK1on7PjMewa/KrNyw\n",
       "eK9osZNsoJIIeFaAWDc/GjOOmTajQ6UX0+rdIAE/4Hepsx3FWVoOw7PslO/x2MQskErFo/gV9c90\n",
       "bE7dTmblp9o8O8EVY6aDW1F5LGuQZWA4N1mvYHHGTCczUnQbVzViyj76aCJlImpskUyvXMHweGxv\n",
       "b0p3jE9ZvRsk4Af8rnW2OwP+JLM1QT55i1dpZgBvm1kdAXXyjHxOI9NkFk2VaHz0sfxsi3MbkLx6\n",
       "N0jAD/hd62wn0eZbXInlzEY+w/UB+HE5VaI+P9xMl125fKPrd4ME/IDfpc62lttvcSaXMhtd4yT2\n",
       "1w5G4orZcLJE/SJXNdrxtVeYw+MYG3aDBPyA3/3O9iCTRSzGP0B8PfYgyPIOxdjP5Zbi7jgz0jk/\n",
       "4Af8gN8ri4sE/IAf8AN+j0vZqgT8gB/wO6e48Yb2qRhtWU74efvQt5LQ8qDtgB/wO724asOMzooG\n",
       "SK/GbzCJrMftgB/wO7u4Ubr+V/mWzyI9E78gDY/ZDvgBv5OLKzdcy3LvdY+0wjUpvOAnj55HkO+8\n",
       "/pe2A37A7+Ti0g1PXdDdT2iMFoF44eQL6Rj8mucAne7tMDv80RKaHLId8AN+5xaXZHxDTrt7O0YX\n",
       "S0p86PeFG+EY/NqpHlwOSWXHt8qKLDpiO+AH/M4tbrwhmIv3P5o7ip+XSZ8eg18sPORvsjMeKU70\n",
       "EdsBP+B3anGjDcFctD/wm1gm08ejvk/BL2Qe8udZJk+5pMwB2wE/4HdqceMN/sQOVnXw60xs72ON\n",
       "n4fgJ/8kPeSvs3MWzEzSA7YDfsDvzOJu+RW+99f9EL+ozUZ4qKM9BL9ff/OQ/0mBn60ERP63A37A\n",
       "78zi0g03C3W5scbx67RzvRy/P6c+8qdZfNYpiP1v9w78fsp+vlnGX9jLGcWVG5rHpVNT+gR+kXst\n",
       "7Rn4pX/xkb/Ozlo3hGbE+3b/yFa++gfwA37OxQ031F7CzKWBbgI/D10ej8Dvt1+95J9lZ60bwnc2\n",
       "Ls5t9w78UO29yNlONtRkE6fmpCn8lPM8CY/A70//7Wb4BVnqfTu0+QG/84ors/WB15bPTuGn7MK4\n",
       "Ok2Lv8qxuIR27tyzH7fYb4yfh0PWvL8xnfb4YbKz3juzHfADfucVN9xQdwndBlFMRX7ujX53jfw6\n",
       "4Mnfac8/h8jvNPzMzuthZjvgB/zOKy7dMGqZZk4V1Cn83Lt774lfL9Sjv4uehnfAj+zs753ZDvgB\n",
       "v/OKm264iFK3C24CPw8D/e6IX7+WS/5gfRHvgF+wd0jh9HbAD/idVtwTm/ym8PPwiMcN8Ru0U3Ye\n",
       "7ih/cgv84p1VgentgB/wO6240YaRe5HjA/MT+Hl4uPd2+H100bCwy5cbfr+ddhLUzp7l6e2AH/A7\n",
       "rbhqQ5u1cnxodBw/H9O63A2/D/tk/MHjfvz+etpJ2Dtv4PR2wA/4nVbceMOw5Thzq6COT2yQeDiR\n",
       "tx/nR7m3/M/Ej+wc6Te9HfADfqcVN90wVCvN3CYeHZ3SSvp4EvXu+JHEX/5nVnvlzhGW09sBP+B3\n",
       "WnG39Ne5Thcyip/x0Tx/d/yk8InfiWusZDt/H05u9w78ZChvlvEX9nJ4ccWGX93C9UEKM3bBe5lw\n",
       "/TEzOd8NP72zJWRyOxGufCXuvIwWIr8rnO1ow+iVKNNXPTzg951qbxDv7O6d3A7VXuB3VnHNhjH6\n",
       "5rSJ4oDfXSI/unMAwOR2wA/4nVVctmGsAjtlXRzgdyf89q4TN7kd8AN+ZxWXbrh46QkLIr4Dv0Mn\n",
       "qjkVP7azNjC5HfADfmcVN9kw7W9y2hTBD8fv4IKdi5/2ux3wA35nFTfeAFoM/IDfIJmdo5wntwN+\n",
       "wO+s4m5Z5vCsJRGBnyN+J/b2hjur55PbAT/gd1Zx0w2gpcAPkR/wA37PwW/9OK30vMUhgN9N8It2\n",
       "4hcBP+D3ffzW3ylpdtlB9cAP+AE/4LetuFvulAz4Ab9B4jvx4+/GD+v2XuFsZ9m/bLir/uWyNzzw\n",
       "+w5+P+2c7GJyO6zbi8jvvMjvlw131S+XveGBX+drOrG31zt+qPYCv/PwizbcVdFlb3jg953Ij+zE\n",
       "jwA/4Af8gB/wA37AD/gBP+AH/IAf8AN+wA/4AT/gB/yAH/ADfsAP+M1+Tb+deV0BP+AH/IAfIj/g\n",
       "B/yAH/ADfsAP+AE/4Af8gB/wA37A70nT2AM/4Af8gJ/nTYFfgEXLr5PxF/ZyeHHVj/WGb/ks8HsH\n",
       "fvLHD7/bYdFyRH6I/IDfzvTjB0HkB/yA37XwGy2Clzv1OfhJgWov8AN+j8OP8ZE3Ex/6PQe/5nQA\n",
       "P+AH/B6OX+RjPczH4Mepc/7AD/gBv3vgF2gPh/cY/GIB/IAf8Hs0fry9QZmHbpSn4Bcy9/yBH/AD\n",
       "flfGL2pXwRQJ8KuS/JP0gR8mNgB+wO8W+HWqem/H79ffPOSPyA/4Ab+74Bcx4FekP6c+8gd+wA/4\n",
       "3QU/D10ez8Av/QvwA37A71X4KQ788vR//auX/IHf9RMWLb/C2T510fICP6VtStPir3JUG6HAL09/\n",
       "++/3ww+LliPyQ+TnEvl1Gv2ynekL+DmkyWz85I/eXuAH/G6Cn3t3700jvy538m+i9xrVXuAH/B6P\n",
       "n4eBfrfErx/pxX+v3gR+wA/4vQU/D4943BG/fl2d/E02pxn4AT/g9w78PDzcez/8hs2U//c/OucZ\n",
       "+AE/4PcG/HxM63I7/Ib2ybh/poEf8AN+D8WvM7FB4uFE3g2/j+5pyj943I8fenuBH/C7Ln5TMc9r\n",
       "qr2Dryfxlz8iP+AH/O6Bn/Fxq94dPymAH/ADfg/Gz4zNWE99HB4WMAJ+wA/4XRi/S0oE/IDf6QnP\n",
       "9l7hbAM/4Hcp/PBsLyK/s4qLRcuBn0vyvmg5qr3AD9Ve4LczYdFy4Af8gN9V8Tt0ohq0+QE/4Af8\n",
       "HrZL4Af8gB/wA37AD/gBP+AH/IAf8AN+wA/4AT/gB/yA3zvxw8QGwA/4AT9EfsAP+AE/4Af8gB/w\n",
       "A37AD/gBP+AH/IAf8AN+ZyYZyptl/IW9HF7cUxctB36Pw8/7ouUiXPlKhMF9EyI/RH7A7xD80NsL\n",
       "/IAf8EPkB/yAH/ADfsAP+AE/4Af8gB/wA37AD/gBP+AH/IAf8AN+wA/4AT/gt3+XMqSxzvwmrRPF\n",
       "F78m9PYCP+AH/L62yyiODTlgKKjkTFOByA/4AT/gd0n8SKwOHANPYiqBH/ADfsDveviZ5OCLg2sO\n",
       "/IAf8AN+V8OPqsP3LuMQ+N03YdHyK5xtPNvrf5d//HLG/v8tuQJ+3p/txaLliPwQ+d0WP3rSWWIM\n",
       "kR/wA37A7zq7NOysEiTjXwcWLQd+wA/4fWGXUp9WgoldLUR+sfB7XQE/4Af8gJ9N6sRzZMLt+MnM\n",
       "83UF/IAf8AN+1pb4zDLoZfyGX3u0XECy6boCfsAP+AE/e0ueOr/w6KNuffxY7yOC6Zgt4ZaQLdcV\n",
       "8AN+wA/4WThOXdyAq5X4CaXi0rR4+TuM1JbrCvgBP+AH/Kwt5xZCj35Nvw3xE3ZMIMvsP9dYpbdc\n",
       "V8AP+AE/4JcrQ88tRLwu8itnQkjTPFZMV+TKog3XFfADfsBva9Di8xmwq+DH2bknY6yWPYJfWkhD\n",
       "82vA0EAuNumJBPgBP+B3GH4y81lDvAp+mTn3ZKhsXeRXVGRpRgJlAras1fqxgMAP+AG/7Tf8E6u9\n",
       "mTz3ZIh1+FXhZf5hosKxwI8Ub/I4K0PJiK2/roDfnu8bi5Zf4GyrH+sN3/LZK0j0DfwuUIop/MhM\n",
       "WFrUukkcclqyt7rLQ/74se96nNoOi5Yj8nt+5Af8DsPvt1H89HRnTFQEfsXPy+a+agDhcvUXkR/w\n",
       "A37A7+KRn/roxWhbGotwr6wblD0vhJYfQLUX+AE/4Hdz/MKRuK/pYzbNH7KsGpeNfmsehQN+Lrdj\n",
       "+6VE4bUz/sJenovfQ3t7zz4Za/ErNBNTv68tgryo+lZLj9j67qpH4YCf0+3YPp/oabKdwzL+wl4e\n",
       "HPk9cpxfdvbJWIkfKSI5M+WUCksAJS2xqwb6rXgUDvg53Y6kjp02DK38TsZf2Auqvaj2esBPaGXT\n",
       "dB9uHJuYhKpeFql6xGOFa8DP7XaMZe+MXzfjL+wF+AG/7fh99PZWa6fP1K3D/CO6Gd1XKrnmUTjg\n",
       "53Y71rMAxVfP+At7AX7Az0e1dzmpzkbVtC5rHoUDfo63Y6ptStnVM/7CXoAf8DsHv7TDXLXq8JpH\n",
       "4YCf4+2oivPubSa0wzL+wl6AH/A7BT/SyaiejXriUTjg5/N2LOYB2j4ZEDsg42iECHNM8et8wlMm\n",
       "/wV+wG8umU5niAm3XFfAb0fqLKNto6bRL6k/ekRoZT8VpiU0akvGRGU0tF2yumumZKm2kb1Kyz7+\n",
       "kNv3GKW9L0atL37/o3PjF3hkilEyaqC46v/biMlc659uPduDOwWLlj8aP7NuTnrR+RjddBdj0XK3\n",
       "WCQy4/0F9eM1xNAkyaWIaNEIUQ3EVJsyjsq8OO/lGCRdSCWt/lkMCmhistFJ2sb30h/uEo5ESiZR\n",
       "1AgTpNXhcaV6l2fS/zcTk7nWP+2fsjBG5Pd2/H478y5G5OdYEYuDcKxyWT1e0/AQ5Z9qIyW1KWMV\n",
       "d+qwLTgVfmWWRShmJ/sWGenGZLFcu5fBWL/mZY2tTOykulHC7KpaJC3m2JVmG371yzH8iDEa+CHy\n",
       "A373wY9FjS8srCOb+vGatgkiIhHPg6acJGaHbOb/8dUZV9VdNmjU6OFXuGGf7y7wa2OysSF843sZ\n",
       "MKWqz7Q5ldKFxf6KYDYcPBW3Ar8q19HIL4gugt+2x13EERJ5LYBwwe+4kwH8bo+fSOt2hlyJ5pmJ\n",
       "8vEa2d76Ecn1iPiGyK/JWGa8ifw6OfbwE02NkeleTDa2nNV48W3O3NC64URUA6bCplJKeHN9q9HW\n",
       "mCn8PnO9NH5mW5DIjdvF5HojLBf3o4Qb8DvwZAC/2+MX0KYaGndm3SzODw+7+OXkmWQ9fk3GdZMf\n",
       "6efYw4/X8BAtezEZT1YXv5gXIy83SVvKWmwj0XYnMznajzyB32eu9U9VUqfQET9BdZZRSqucXPBb\n",
       "ORWwYEwVTa+behhXGGCoUtSMHBWhOk3zVzRO07BfXPtBTe0h0jSLP76bYQnX43fkybgNfsU9Bfxm\n",
       "b0eSZmn9fvl4TRiXt3ZU4idZ3bmgtmTcbfLr5BjQpMUvquI3MRyzR5K1xc8/KKT1pxK68LPFNmwn\n",
       "VI6zLNPr8fvM9YjIj2RlaJnGbvjVI8Wknq3CSVX8WipyjaU//EjZxmE0GTkqXr7KfyWxYXFZVT0I\n",
       "TI+r6igGJVyN36En4x74SariDPgt3I5CBkKb5te3fbyGsF7kZ8eIBJ12urX4lbMzFpt2cqzHN7GO\n",
       "cbZW2Z/8Z6naO6DLhhxV2FHsqsWWEL408mCyzW+Y6xH4iQqGMGNO+NXPSkXzd4axGVbTOYXKG36i\n",
       "nq/dZOTzqOpXZd9+r7hxnY3qFbs6ikEJV+N36Mm4TeRngN/S7WinlWBlfNc8XtPGYSGvTNyeMbcm\n",
       "yOqW7kZ22t7Q1WAoXcZ9hJD+1W/MJvxSbp8WKqdHE31sqw6PmQVrJvEb5uq/2tvCQDLthF/9RLya\n",
       "XwuCp0X3ehkZpdIXfnHzQL7Wn0fV4NdWHerPZ/XJ719h9VH0S7gav0NPxsgOf/wgwO+O+IVR2dlL\n",
       "0qh5vCbXqK7NlIOe9+CX12lZ05TS5FiAmKfqZfFMY1pMgNEHSWzDT+R1K9npWmmxFayAi5kd+H3k\n",
       "elzkx7PYBb9mBmC9orUrqgKVuI1XqKi/pz34RW3YaooYsH9U5Ss73jMaFJfXEaPsF7s+ijjcg9+x\n",
       "JwOR34Pa/NrLoNNiwGxcwz1lPJPjxJLTMgk24RcpE1Fjczd8iK1keR1YkR3V3o9cx/ATLM5GZd2G\n",
       "H8vf5XFqItZ9xmY1fqrsP6JJltClnkuuq1uVtb/TRNlYV/21FT/aFpN0uCuPqn5l+LC49uekW8Oo\n",
       "ytceBaN78Dv2ZAC/B+LH5UEZz9+1YvW7M/h9vtzAt9sg580nZQw/acqO0FRFonsjrcYvblq5Fotl\n",
       "aN1T3n00pbjTN9jXMyDOeHs86cdR5e9R2vlMW1ydDuvD/aPoPzyzFr9jT8bV8FO6kyjw22VUGHwD\n",
       "v9EpfEIe7MRvz+i1Zfy4ORA/zRirh6XZFjO5p9qrq8+pNXMcVh2cQdSdOjO/17fYN42f/jiqgkLR\n",
       "/U1UFVc2jYGDJr/6KHolXI3fsScDkd8t0zUXLZer3prcS58puqMgy/hRuQO/dYuWi6y7q5jOfXYm\n",
       "pfyjlUvGnYigfyOn5W1A+j22etK+bCyNV3t5cTz9o2rb/OpHKari1u1tgTCjTX6DEmZL5fjeyTgR\n",
       "v9WLlg/ww6LlN8t4xV7ECjbnk+j/W07nKrbsYG3k18NPzX12GT+ZLVT0y77rpMy2P2n6zP2+FABF\n",
       "mWrvuHACPynb26cqbtPk1/+V0h4F3xX5HXsybjOxASK/x+N3u7M9ix/biV9V0ytaueZujfIGqO73\n",
       "Xje1S7U3SKwc3GZatuKN4VfcPqRXXJaN1nrbo+h3pG+s9h50MtDmB/yA35XwS0zTyhXNCVY+El3V\n",
       "9MKkd7vv7/DIj4IFEZemHeQ8jl/cL249CLkaW1Lfm+1RhMke/I49GWjzA37Azwt+pDe+T++t9lYD\n",
       "NSgdTNf1caGHQdvUplj/dt891MXOUGGHpUeqqnH2j4rU+LG0X9yymi+qDtdmHfH2KBTbg9+xJ+M2\n",
       "+LH+BQj8gN+l8BM0zjJa33acZimNduFHykqbSJZm6OdKqbrfVbdtYvWAD7F6RbyPiQ0SasoZaQdH\n",
       "RappDmiSZkm/uPkNmlDVAKWrJ/Hbo9B8D37Hnoyb4EftXBE0BH7A77KR34Iwqz+rtz9gJbTL4Y3e\n",
       "CHYigWR/cSM5W8LVj7cdejIwpRXwA36Xwm/HLAXK6Y4dvRFoTEK9v7hsvoSr8Tv0ZGAae+AH/C6F\n",
       "3+jT0POxTuJ0eOPz6GVZZnYXd9hCNyzh+vn8jjwZiPyAH/C7Fn5yq2WJ29kcvxFUSvcX1yyUcD1+\n",
       "R54M4Af8gN+18Bs+JbGUjOPJdL0Rlov7UcIN09gfeDKAH/ADfhfD7+SE1duA353S1DLa1834C3s5\n",
       "vLhYtBz4uV1XWLQckR8iP+CHRcsR+QE/4Af8UO0FfsAP+AE/4Af8gB/wA37AD/gBP+AH/IAf8AN+\n",
       "wA/4AT/gB/yAH/ADfsAP+AE/4LehFNdctBz4AT/gB/wQ+QE/4Pdq/LQ61oBb4bf7ZAA/4Af87oaf\n",
       "zGKPh3dz/PafDOAH/IDf7SI/r6s23z3ykx5LAfyun665aPnF9nJ4cVcvRL7xs1eQ6Eb4+SzFNRct\n",
       "X7sdFi1H5Pf8yA/4HYYfJjYAfsAP+J2N38nVAYFqL/ADfsDvCruMzLmFUAT4AT/gdzP8ntnby9m5\n",
       "JyORwA/4Ab+7RX6PHOcn6LknIw6AH/ADfqj2XmGX8bmF0MAP+AE/4HeJXSan9nhwNfo1obcX+AE/\n",
       "4Hf2Ls2po88UR+QH/IAf8LvELuWp9V4dAD/gB/yA3zV2qU48R+NhJvADfsAP+H1hlyeGflIHwO+e\n",
       "CYuWX+FsY9Fy37s07KwSJNH38cOi5Yj8EPkBvwWTvCfGpr4m9PYCP+AH/L6xy3//5Yz9/0cy+TWh\n",
       "2gv8gB/w+8ou6fE1X5mYAPgBP+AH/K6FX8CSgy8OrnkA/IAf8AN+V8Mv4LE68FEPklARAD/gB/yA\n",
       "3/XwC4Iojs0RV4gkLKZi/msCfsAP+AG/L+5ShjTWmd+kdbw4ihq9vcAP+AG/h+1y7deEyA/4AT/g\n",
       "B/yAH/ADfsAP+AE/4Af8gB/wA37AD/gBP+AH/M5MWLT8Cmcbi5YDP6frCouWI/JD5Af8LpJ+/CCI\n",
       "/IAf8AN+iPyAH/ADfsAP+AE/4Af8gB/wA37AD/gBP+AH/IAf8AN+wA/4AT/gB/xuiB8mNgB+wA/4\n",
       "IfIDfsAP+AE/4Af8gB/wA35f3OW6ufuAH/ADfsDvafgdmj/wu37CouVXONtYtBz4uV1XWLQckR8i\n",
       "P+B3FfzQ2wv8gB/wux1+UqDaC/yA3+PwGy2ClylInoNfQoAf8AN+j8OP8bm7HfjliVNUe4Ef8HsJ\n",
       "fpECfm2KhQf8/gr8gB/wuwF+gQZ+7R3N3PMHfsAP+F0ZP962SzEP3SgPwU/+SQI/4Af8no1fZJp/\n",
       "igT4VenX3zzkjw4P4Af8boJfp53r5fj9OfWRP/ADfsDvLvhFDPgVKf0L8AN+wO9N+Hno8ngEfr/9\n",
       "6iV/4Hf9hGd7r3C2L4Gf4sAvT3/6b8APz/Yi8jutuKcuWl7gp7RNaVr8VQ7pJbRz5+5LX8DPIU3k\n",
       "Qzzlf+dFy1HtBX6vqva6N/rdNfLrSCh/pz0WHSI/g2ov8AN+98DPvbv3nvj1sKO/i+It5/x1ps68\n",
       "roAf8AN+u/HzMNDvjvj1q7/kD1afZcf8aRYDP+AH/G6Bn4dHPG6I36CdsvNwR/mT3fnznR4BP+AH\n",
       "/M7Gz8PDvbfD76OLhoXdE+2Uvz6x0Q/4AT/gtx8/H9O63A+/wVsyXvrEltAvleddV8AP+AG/Tfh1\n",
       "JjZIPJzIu+H3sTHlHvNnGQV+wA/4XRS/yZjnJZHf8OtJvB4SPa3DF/gBP+C3Gz/jY0ju3fGTwu8h\n",
       "mbNiP+AH/IDfqltybMZ6L3cpVm8bJBGddV0BP+AH/L6ZgN/XrivgtyPJUN4s4y/s5fDiYtFy4OeS\n",
       "vC9aLsKVr0QY3Dch8kPkB/wQ+aHaC/yA34vwu+hENcAP+AE/4PeUyAz4AT/gB/yAH/ADfsAP+AE/\n",
       "4Af8gB/wA37AD/gBP+AH/IAf8AN+wA/4AT/gB/yAH/ADfsAP+AE/4Af8gB/wA37AD/gBP+AH/IAf\n",
       "8AN+98CPb8CPX/XwgB/wA37AD5Ef8AN+wA/4AT/gdzR+frcDfsDvrOKm2fpp0bZ8Fvi9I/Gd+HHg\n",
       "B/yAH/ADfsAP+H2huHoDaBr4AT/gB/yegl+cmdV5bPks8HtHirLU73bAD/idVdwkY6vz2PJZ4PeO\n",
       "FGba73bAD/idVdwty1uftxQ28LtLMlnsdzvgB/zOKq7asLq1OmslbOB3m8SyxO92wA/4nVXcLRfv\n",
       "3gsd+D03qZ21gcntgB/wO6u44YZqS7izigP8npuSnZ1gk9sBP+B3VnH5ht46vrNnr5s+SkGA38hZ\n",
       "OTj5+xbinU/9TG4H/IDfWcUVG8ZpCQ9rybLh3AiJF/1ujl8szy27v28hzYjf7YAf8DutuNmG48jc\n",
       "j/njtou89CDfGz9SdCSxMDzr2Wl/38LOeQ2mtwN+wO+04uoN81Rp9zmtPm67QPs4vHvjp+xJUaRC\n",
       "8Bv47f0WxM6WkOntgB/wO624dMMza9T9+bbP2475CHfujV8hTxKHp1V+vX0LfGcf2PR2wA/4nVZc\n",
       "s2GsgnEf5fx52wkf42dujV9Z5yRplp51SXn7FszOh36mtwN+wO+04m753c3dx7p83nZB7OFE3ho/\n",
       "atv+hQyEPuvZaW/fAt3Z2Tu9HfADfqcVV27owpXu3b3FbSeNKurPtKjnRR6eFdpdFQAAIABJREFU\n",
       "GL4zfrL4jaLzE8PISWX39i3onf0d09sBP+B3XnH1hgPRzgdd3HYsiNLO5euhy+PO+IVFvBdG53X2\n",
       "evsW5M7+jpntgB/wO6+4bEMvBnPu8bC3HYkCZW81WlWilfu6SHfG7+xBfh6/hWjn094z2wE/4Hde\n",
       "cfmGC5g7T21gb7v8Zk9ttJNWTVweRnjcGD/xhQemfX0L/pv8gB/wO7O46YarKM083HYWUWnHelVN\n",
       "XG1zU7Y7fQG/G6Z138Lxl8PMdsAP+J1YXLXhCSWVER/4FfUtU1+9Hrp7bxz56S9cDZ6+BbKzIjC3\n",
       "HfADficWl28Yq8VdJ3Mub7vEXvxJEhTDen3U++6LH//GBLGevgWzs9Y7tx3wA35nFjfd0GWXpj5u\n",
       "O0XtoF4WFJL6eMTjvvhR8oWrwdO3EO+8GOa2A37A78zimg2P7BrHx3vL205SZiJBDfFV77svft+o\n",
       "9Xr6FsjOasDsdsAP+J1a3C1NN479vZ/PFniZ1uW2+IVfWRDPz7dAd45wnt0O+AG/U4vLNlzFLJN+\n",
       "b7vEx3m8LX5fGOTn61uQO38Pzm8H/IDfqcWVG+ov0q3L4+O2k16mxr8rfuI7q6J4+RbMzjtgfjvg\n",
       "B/zOLa7ZEM4Zp9Dv47YzoY/Duyt+LPrK1eDlW0h3tlfMbwf8gN/JxdUbwjntEvqZYeemn/k7vzli\n",
       "2CV9aS1QH9/C3l+CC9sBP+B3cnGjDUcT3evIkQ5Jcudj3kvbAT/gd3Zx1YbGJ5Xg3n99oskx2wE/\n",
       "4Hd6cfWGX+Q6xM3/8sRTecx2b8GvSPQ+GX9hL+cVl2y4mkkqcfu/O2nufzvda0udeaW/NZmFv0aD\n",
       "sEj8Phl/YS8nFpdviGQ5Wv3enSQ/YLvyEg2XX/V/hISEhISEhISEhISEhISEhISEhIS0Mx3Xy4le\n",
       "2ruXFgnpkml1z/FCPzLJ2EG9nMflfP5ejitt62CE7i4kpDWp6Bym2dirmR+N3Y7isBsdg5OXS9uu\n",
       "MBhjvAkS0noB1w6YDoHfRfFrVhgUeMgMCQn4vQi/ZvrLL82GhIQE/IDfd0pbj2yPcTkjIQG/N+EX\n",
       "pNqmlOFyRkICfq/CTxUzUSaYWwAJCfi9Cz9B6z9Wp+UJx9OpFWwGq4tFYil3Nbrdx+Y8Mmp0vBGJ\n",
       "Vx3E7G6QkIDfE/Ergj42PVAx0ixWNO6ysNwxXFjKmGkr0zKMP82xIw6Jymhoe5vr+ez7uYfRNLid\n",
       "AYupndR307lYvxskJOD3TPwiM97dQQxNEm6joVwlJtgK/OpNCvzsGrI8aX5iynWseScfWRgZlRcH\n",
       "5+O5Vy/5Z6Ok7ISrwk4LWEeBcZr/r2KsGcIjc96iJJk6iOndICEBv4fil8s3tta1UqSuCuY/DaVZ\n",
       "xq/ZpMAvtS/aHUa62lvbulhWVFXcr3EOclfiY7ve5m2peIlgwHOtWU1igZ99N48uSRiIaPNukJCA\n",
       "31PxY1F9x9thLyRO7V/t6oMFfkaqcfxGN7H4iWJZrTQa4tcZUFi+U1V3WTd3bmhdeRbqY7vu5pKm\n",
       "cUFuAa8o32NlEe0ri1/xrin945t3g4QE/J6Kn0ir+qOdUVlQYfsIZAucrfaKpLsUawe/8U2sJ6TA\n",
       "r12fo8YvahQVRcgnM/4R+eVhZr51VY9N2u1UUqew3jxmAbc5M9nmwHig6wCuqfYyIsOAsGDFbpCQ\n",
       "gN878AtoU8EtA7D8Px528FMJ61USOy/GN2nxS80Qv6YZsPpX3eRHOrkLaT9tyk9WMy7wYWW7eIOn\n",
       "ZfnjLMt0s6v8/x/4BUbrxFSB4YbdICEBv+fi15GsaBOzNcS4jLCistrLeDSJ38gmbbU3+6j2kmbr\n",
       "qAg4h01+Ze7UlP/ZDdhgu+7mJrNDtNdNqlP3j5BUbNgNEhLwez5+tDQoioJu/dDixzmTo/iNbzLX\n",
       "4dHWK0tnVGGSHOCXcptB2Zgnxqu9xebRhsfydPARvo7vBgkJ+L0Mv5ASGhBV1gpli58d6jLR4TG+\n",
       "SYGfsUNdaF3LbPCzb1fvFe8ULXZyOJAmD854VohYNyUaM4qZNuNDpRfT6t0gIQG/x+OXx1FZmpR1\n",
       "SJFUjXA8NjELpFLxGH6jm7SDnJW0tcw8LBQszljhSvHsR/Fe+c+8+sq6vSll7pEyETU2X1PVaT+f\n",
       "GSnekTRN6Z7hKat3g4QE/J6PX3fAn2S2eskn3ZjdpP+0XLe9sI6w7HvjI4rHRx/Lz7Y4twHJq3eD\n",
       "hAT8XoBfsmqUW7K4SQ8/3g3Mqqa18j0lFlXiprddLymXc79+N0hIwO/5+OlVFchkcZMeft06bf04\n",
       "bvUek0sqVVXa8VVSmMPjGBt2g4QE/B6P37q0nEky1XQmF15/5C4nPzfz9vaDkM75IQE/4Pd8/JCQ\n",
       "gB/wA35IO1Pm7UNIwA/4uZc23tDoFaOBzAm/VQnnaWsSWp6RCfB7Gn5qw4zOiuJGQ+R3wcToGZkA\n",
       "v6cNck7X/9Lc8lkk4HdiSsMTMgF+z8JPbrhqpJcrDPhNnF3hBz/5ytkJuY+bcikT4PewiQ02zBJA\n",
       "9y/0O1oGAvw6qXlQ0A2/MHvnAys0OT4T4Pco/EjGN+S0v7djdLWkxIN+2TfSEfhx6qXaq7KXNsuK\n",
       "LDo8E+D3KPziDcFcvD/wG8fPx1RS32ggOwS/WPg4JJO99kHlRB+eCfB7En7RhmAucgj8JtbJ9HC5\n",
       "PgW/kPk4JJ5lr+2SIpk5OhPg9yT84g38xC5UdfDrTH3vYeWgp+D3688+DklnL16GM0mPzgT4PQi/\n",
       "Lb8s3X6xdvCL2nyEex3tIfixP4iH7N8c+NmqSXRwJsDvQfjRDfcKdbqvxvHrNHS9Gz/5O/WRPc3i\n",
       "4MXJy9HPZeIBv5+ynw86+uNyPn8vJ5RWbmgdl24t6RP4Rc61tGfgR38XPrLX2atXI6EZOTaTf2ST\n",
       "r2Z+BPyuiF+4oZ4QutUpJvBz7/J4BH7kD+Yn++zVq5FwHy2ec5l4wA/V3otUe5MNNdnErTVpCj/l\n",
       "OlHCI/D7579K4Ofji0mPzQRtfo/BT2br464tn53ET9n1dnWaFn+VjVykHdp79oBjh9vD1/Do5u3f\n",
       "PGWfvfv5w8RHvXcmE+D3GPzCDbWE0LFGMRX5OTf63Tby61D45z6LLpHfu/EzPuq9M5kAv8fgRzeM\n",
       "WqaZW/10Cj/n7t6b4tfTLv1L7x3gt/9ajw/NBPg9Br90w12WOiIzgZ/7QL9b4tev/v72a/9d4Odw\n",
       "AuSRmQC/p+B3ZpPfFH7uj3jcEL9h01/7cEf5A+C3O8UZPzIT4PcU/KINI/ci1+flJ/Bzf7j3fvgN\n",
       "ez1YOPyAA36/vRs/5aO7ezoT4PcU/NSG1mHl2pI8jp+HaV1uh9/QPhl/fMIBv7++Gz8vkxlOZwL8\n",
       "noJfvGHYcuz62OT4xAaJ+4m8H36Dtyj3mP3b8SM+RvpNZwL8noJfumFQVOo6gGp0SivpoW/u7oOc\n",
       "SeIz+7dXe6WPcZ/TmQC/p+C3pWfMuRdtFD/joXn+7vhJ4RW/ty+ykmXkwEw84CfDo+bdOS7n8/dy\n",
       "dGnFhl+SwvkXqhm7nHxMuP6YmZyBn4+kfUxrNZmJCCdfzfwIkd/lIr9ow+iVKNNXPTzgh2pvJ8U+\n",
       "unsnM0G19yH4mQ2j4c1154kDfoj8upUJHw+4TWYC/B6CH9swKoBdd1kc4Af8OsnL4nWTmQC/h+BH\n",
       "N1wm9LrrIQI/4Nf7NR0fmAnwewh+yYZZf5PrzhB8M/wOXhYY+PlonZ7MBPg9BL94A2gx8Pv2PoHf\n",
       "qmR8jHKezAT4PQS/LascXnhFRODXw+/tvb2hj1HOk5kAv4fgl24ALQV+iPyAH/B7Dn7rR0Sl110b\n",
       "AvgBv06KfOAXAb/H47f+Rkmve1MBP+AH/IDfttJuuVEy4Af8bpG4D/z4gfhh3d4z01Rps+xfNtxU\n",
       "/3LZ+x34Ab/u1e5hIvvJTLBu72Miv1823FS/XPZ+B37A7yz8UO19DH7Rhpsquuz9Dvza9OMHCd6d\n",
       "iA/8CPADfsAPkR/wA37AD/gBP+AH/IAf8AN+wA/4AT/gB/yAH/ADfsAP+AE/4Af8gN/Z+L19YgPg\n",
       "B/yAHyI/4Af8gB/wA37AD/gBP+D3zX1iJmfgB/yA3zvxO9pW4Hdx/LBo+ZlpqrTqx3rCt3wW+AG/\n",
       "L17tP34cmAkWLUfkB/wuix96e1HtBX7A7274SYHID/gBv+fhN1oGH1OQPAe/hAA/4Af8nocf43O3\n",
       "O/ALAk59VHuBH/ADfnfAL/KwGvBj8IsF8AN+wO8t+AUa+DW3C/ORPfADfsDvwvjx9gZl7v0oT8Hv\n",
       "15+94IfeXuAH/K6LX9SuASwS4Fednz8IIj/gB/zeg1+noevd+MnfqZfsgR/wA343wS9iwM8m+rsA\n",
       "fsAP+L0JP/cuj0fgR/5gfrIHflfHD4uWn5musWj5FH6KA78g+Oe/SuDn6WrHouWI/K4Y+SltU5oW\n",
       "f5WNXKQd2rszfQO//WkqG0/Zo7cX1V7gd5dqr3Oj310jv654f06Drn+I/IAf8HsBfs7dvffErx/r\n",
       "pX8p3wN+wA/4vQY/94F+t8SvX8397deg9zbwA37A7/n4uT/icUP8hu2U7cMd5U+AH/ADfs/Hz/3h\n",
       "3vvhN7SPhb0zDfyAH/B7AX4epnW5HX7DjWW89AngB/yA3zPw60xskLifyNvjR7m/7H/8IMG7E/AD\n",
       "flfGbzLoeUm1d/D1JD6zR+QH/IDfLfAzHm7Vu+MnBfADfsDvyfiZsfoY/SpE18DPb/bAD/gBv6vh\n",
       "d0GIgB/wOx8/LFp+ZsKi5cDvPQmLliPyQ+T3UvwwsQGqvcAP+F0Sv2MnqkHkB/yAH/B72j6BH/AD\n",
       "fsAP+AE/4Af8gB/wA37AD/gBP+AH/IAf8AN+r8QPvb3AD/gBP0R+wA/4AT/gB/yAH/ADfsAP+AE/\n",
       "4Af8gB/wA34n4odFy89M11i0HPgBv3OudixajsgPkd8r8UNvL6q9wA/4IfIDfsAP+AE/4Af8gB/w\n",
       "A37AD/gBP+AH/IAf8AN+wA/4AT/gB/yAH/DbvU8Z0ljHmd+kdaI48AN+wA/4XRa/KI4NOWKVF8mZ\n",
       "prOXHhYtB37AD/h9a58kVkcub0ViKhH5AT/gB/wuh59Jjr42uObAD/gBP+B3MfyoOn7vMg6BH/AD\n",
       "fsDvUvj98csp+/+3BPjdFT8sWn5mwqLlp+2TnvUrgjHgN3G1Y9FyRH6I/M7fp2GnlSCJJr4nTGyA\n",
       "ai/wA35n71PqEwMc/Z3ILz73yt++O+AH/IDf+ftUZ54jE34DP3nu2d6xO+AH/IDf6fuU8all0Iv4\n",
       "eblI+5lE8cYN3FK1O7Lpagd+wA/4nbzP8Ny+htFH3Xr4Me6+F9P93gXTMVuSiBtfR9jsLiFbrnbg\n",
       "B/yA38n7TM4dAsDVQfiROG2yjoouHKFUXAIUr7gMzPZfAkannbJ+7C5SW6524Af8gN/J+4xPLoQe\n",
       "/Z5+8xD5NV92WZMXdlQhy2xuq2CJt+sjsrasI7vTW6524Af8gN+5+xT05ELER1V7eXPnqyK3ci6F\n",
       "NM1/kq7ZPtzxlEsHv5HdsWjD1Q78gN+F8dM+nwG7Cn6cnXwyxqrZXvBjTaBV4pMWEtD8MjI0kCva\n",
       "39Lt/HTwG9mdSIAf8HsEfjKLD4boG/hF5uSTochB+MU1x1VnKy0wpBkJlAnYClri7a1+3chvZHfr\n",
       "x/sBP+B36cjPa8/AVfDbOwRO+izEJ36EJYFQrHybGUPzN6Wp6rPSds5SKZhJTFV3Z4Y037XqBrM6\n",
       "3x9R4VjgR4o3eZxVwSjrtwDYHhRh7C54/mehnFTG1N3VLC8VyYZQ93cXMWe3roIfFi0/M2HR8nP2\n",
       "mV2gEJ/4sSDJDWO2AivsXFgi/1XIgiitb9D859RYuu1vSJ7mfybNjd+N4Eg2HdmqkriQ09KocBjM\n",
       "avvQM8nCfP+h3TPRdm8FuDK11LIhfsPd6fVXOxYtR+R34cgP+B2H36C3V4RBrKsYTheeaEaiQFlM\n",
       "aG4U54G2DWoir2XmEFntVEOXjrp+TRYkKsKz4udl21w07BdJijeypLgaiS1DUP8zKTuUh/gNd1eF\n",
       "icvVX1R7gR/wQ+Rn8SMyqN9S5Qapreym1kH7h8xjPutKZO/28hO6qWJ2Bt+p5LOaXyNZfL6cOkhV\n",
       "V9wQv2LrjFXi1RXr/A1ZRnhygN/H7ghd2bQA/IAf8AN+ZYdHM3AlTcoYy1TvFcGeZS+oosDyEx2H\n",
       "WvzCkbiv6aY2zR+yrKt+jIip8DMVflG1izwUJKP4fe6ubPRb8XQd8AN+V8bvmb29Owuy/2SsxE/p\n",
       "ekcFM8xeDcV7psygYM+Gh7L8ROe2baq9BT1i6qK3CPIC0mr1kkjP49dEfmo88hvZna3vrnq67jb4\n",
       "tb5Hodcb3X/GJ5X/HZHfI8f57S3I7pOxEr+mFlv+KLUvE1qKZOuqxRu21stk8SXnGEbVBVN1AQek\n",
       "yMJMoWK7ju1BSFrJFCbz+AXl83PcihdX8WgHv5HdVQP9VjxddzX8PsZn17dj+2y2r2nCqpz9Z3xS\n",
       "+VHtRbXXL34tK6oQT9X/JLl6rK78mjgISYFdlGNcc1wNWRFa2TTd4RrHJiahahZWUsOBKXEXP9sS\n",
       "mdqdxkWAV9StaafcY7urCFnh2sXwkzqeuB0J7cPu7Ub3n/FJ5Qd+wM8Nv+GzvbxFhLF6bJ2kzESC\n",
       "GlL/XNIwsn8aRsq3yyun3FaXi6bPVM/D/CNtP0kwWF6O0CylJEryPwMWFx8UijFalUUV4/za7t2x\n",
       "3ZUFWfN03cXwMyHlE7dj/Qg0izzf6N4zPqn8wA/4ea72OrVPrJ1LSvVWs/A+o3U1rcuap+suhp8O\n",
       "SDJxO9ZToMW+b3TvGZ9UfuAH/C6E3+opClIyJaGXVK2FvObpumvhZ7tuBk1i7e2YaptS5v1G953x\n",
       "SeUHfsDvQvgFK1dg7w3s898GVM+RPfF03YXxs/ANZiNsb8fy4ezN00CyxRt9e8bRyPdsljjZWf46\n",
       "n/CM2X+BH/Dbzc46yIzeDuaGtGV61EvhV3YKaDl+OxaToG2fCU0t3uidjInKaGh/IememZKl2gbR\n",
       "Ki166O1zh/l7jFK5uKPx8qt1RcwTj8qWZ9VnXPX/bcR0rs2PgR/wm8LPEPediFVz1YjOnoz/gQ/U\n",
       "h1vfwK8c+2N657CzjLYNmkZ/Q/VrykIrVjwVTedlaXPuZFyOYbePMZZHZmhSzC2RdDKTtP5n0cde\n",
       "x2Tjk7SNl7//SzIc0cIkipr8ckqrB3W46k1LlPT/zcR0rs2P+8WKF0rbhxSLlj8bv1emzYuWx1sy\n",
       "2bZoeVVd7y8z2olF7Cxoo7vP+lJFtGjrrIaQL0d+3YyrJ7Urf1twKvwK38oxABmvBj41MdnolNzj\n",
       "5R/UEJqX9SHIxM5RGyXMLnBF0mLKWmm24Ve/HMOPGKMR+b0bvx8/SPDutDXyM9lxkV89CKS3pmn3\n",
       "doyDcCyyrp7ia6SK8k+VIjE7ADL/jy/c6G3GVXWXDdsPuviVbIT1I49NTDY6iGW8/AOmlBhgy0rp\n",
       "wmJ/Behh/8GQNfhVuY5Gfp+PFX0Hv21BojgCIq8FEE74HXY2EPl5wI9HB+JX344inrgdWdQEVyys\n",
       "a3X1U3ytVBGJeF5hZMHayK/NuH5usHyIsINJB79O8ewk3m1MNrpw1Hj5bc7c0LqNQqg+tjIkvLm+\n",
       "x2bhncbvM9cr42e2BYmuSx264rdc3M8SbsDvuLMB/Nzxk0Yeh18b1XXX3uzejiKtmzNzEJpHJsqn\n",
       "+DpSRSSPnCK+Ab8m47rJr5xuNhzFj7eVVNs308ZkPFngpC1/UsxqkZ81kraWtYcQibY/Oa/Bm/X4\n",
       "feZa/1gldQod8RNUZxmltMrJAb+Vk+4KxlQ5q68JveJnqFLUjBwUoTpN81c0TtOwX1z7wWLCzYCm\n",
       "Wfzx1XyUcD1+B54N4OeOnwkOxK/tOiVm4nakTRNc3GmZL3bekSoqGuJMsh6/JuNek18Yl1gUF3rS\n",
       "4Be1D6r1j5os4dcpf761tP5UpSz8bA8hbDse4izL9Hr8PnM9IvIjWRlaprETfvWYLKlna3BSFb+W\n",
       "ilxj6Q8/UrZxmOrZhP5B8fJV/huJDYvbTCVs+kMCyqMYlnA1fkeeDeDnjF8ejhyI3zJRnXfTLK3f\n",
       "L5/i60hl8ZOs7ltgW3JW5TyIJX6ks2nVP8A6xtlaZW8uncVq78AuG3PQzq7aQyCELzRGT7f5DXM9\n",
       "Aj9RyRBmzAW/enh/NH8NGpthNZ1TqLzhJ+rZz005WV3/oOpXVd9+t7hxnY3qFbs6imEJV+N35NkA\n",
       "fq742S7Za+AnZCC0aeou9im+jlTFVNl8cYWssZyLR7dlnVU3sivmKytHQ+kq7iOE9C5/Y7bhZ+eo\n",
       "SMsFXYq+ic4hVB0e0yvWTOM3zNV/tbeVgYwFpevxq589V/MPePJiMo/q6fVU+sIvbh591/rzoBr8\n",
       "2qpD/fmsPvn9MWX1UQxKuBq/I8/G4sQGwK+Ivad/HRDGmMpG+jRPx89OBcFIxVT1FF8rVcgrE7fj\n",
       "l9dpWduSIjqNjzI/+Gp2xHJYelrMJ9EDSWzET9hpck3b2tcegmAFXMzswO8j1+MiPz42fcdq/Jq5\n",
       "dvWKxq6oilM61yetB6kne/CL2qjVFDFg/6DKV3a8ZzQoLq8jRtkvdn0UgztoLX6OZ2P+ZCDyWxX5\n",
       "SabnQiYxxtzp+IVR2dlL7HJO1VN8jVREx+Lz9/L6G713MmykNBwoM7Hk9PjjPTP4RcpE1NjcDR9i\n",
       "K1leB1ZkR7X3I9cx/ASLszFZN+LH8rd5nJqIdcaZr8avnMqN0yRL6FKYznV1p3aWOhRlY51YPZ9I\n",
       "zwDaFpN0uCsPqn5l+LC49uek+0u2Kl97FIPFGNfi53g25k8G8Ftb7TV6cj6EkGbqApFf51fgklRO\n",
       "+E3dtWL9uzP4fb5cfwiOg5y3npNR/KQpe0JTFYnOjbQav7hp5FoslqHNzL+dWLO40zfY1zMgbicE\n",
       "Fln6cVD5e5TG3UmD6+LqdFgf7h/F4NmZtfi5no3ZkwH81rf5hVpJ50zOwI9Ll0PfPWZ27JdDyIO9\n",
       "+O0YvrYCP24OxE8zxuphabbJTO6o9tbLPqg1s3xV/Zv9pQ7ze32LfdP46Y+DKigU3V9EVXFl0xg4\n",
       "aPKrj2KwGONa/JzPxtzJAH5b3IpiJZwzOX7Rcpevz2U5cbnqrem99Jmi2wlfgR+V2/FbuWi5yLq7\n",
       "iuncZ6dTveBXt5FLxrpNvTs5La+x/lKHQm+xb6ray7Pk46DaNr/6SYqU95rbhs/xN0cxWIxxLX4j\n",
       "Z2P6ZIyejZmTAfzGr/ap3l4er74nsWj51r2INW7OJdH/t5zJVWzYwerIr4efmvvsIn7DdVg/C1XO\n",
       "BVZm25+efO5+H0u94KkptikYGMNPyvYp9Kq4TZNf/zdKexSDCdSzpYJ4OxtbTwZ6e2fw64z0mP/6\n",
       "sHTlt/dydGnn8WP78KsqekUj1xzP5dVV3e69XmqXam+QWDh41LTijeFXXJukV1yWjdZ626MY9KNv\n",
       "rPbuPxuo9vqr9tKpm7aeYQ74AT8n/KrVDm0jVzQnWPlQYFXR6y516NThkR8ECyIuTTvIeRy/uF/c\n",
       "egxydX/UF357FIPFGNfi53o20OHhCb9Qz7T4pR9DnYHfy/AjvfF9eme1txqnQWl/tq7PqyjsNLV1\n",
       "ljp0G+piZ6iww9IjVVU4+wdFavxY2i9uWcsXVX9rs454exSDxRjX4ud4NjDUxQ9+M0NdqjYkkgK/\n",
       "9+InaJxltL7tuF1sMNqDH6kflVmaoJ8rpep+185Sh/V4D7F6TaiPiQ0SasoJaQcHRappDmiSNvEg\n",
       "qauYLKGq8UlXE4+3RzFYjHEtfo5nY/5kAL9V+EmjlwdeJKj2vjrymxdm9Wf19tk03ZY6HL3K7DwC\n",
       "yf7iRnK+hKsfbzvybAC/NfhJHU6c5rKbo1wrgqypOwM/4DefdsxS4LbU4ehVRmMS6v3FZQslXI3f\n",
       "kWcDz/aurfaOJKmkCOvv+WOGOeAH/HZ9dvPiXY5LHY5Po5f/Tje7iztsoPso4fr5/A48G4j8XPCz\n",
       "Ky1VD3J/zjAH/IDfrs/KrZY5LnU4fpWplO4vrlkq4Xr8DjwbwM8BP3umA6K2ZgL8gN987LLtwT7X\n",
       "pQ5dp7FfLu5nCTdMY3/c2QB+TvjlITanwA/4ecXv5ITV24DfHvyUGT63cw5+Lk/gzqfjcj5/L0eX\n",
       "FvgBvxfjZ5cL0HJjJni29yGRHxYtB37PS5sXLd+UCaq9qPYCv4vih0XLty5afnq1F/gBP+CHyA/4\n",
       "AT/gB/yAH/ADfsAP+AE/4Af8gB/wA37AD/gBP+AH/IAf8AN+wG/0e8LEBsAP+AE/RH7AD/gBv2vh\n",
       "p9XBBtwJv90nA/gBP+B3N/xkFns8vJvjt/9kAD/gB/xuF/lJn4d398hP+iwE8Ls8fjKUBx36cTmf\n",
       "v5ejS7t6IfKNn70CRDfCz2shgN9PPvCbzESEk69mfoTID5Ef8DsBP/T2otoL/IAfIj/gB/yAH/A7\n",
       "fJ8S+AE/4Af85tMze3sjc/LJUAT4AT/gd7PI75Hj/Dg7+WQkEvgBP+CHau/39ynoyYWIUe0FfsAP\n",
       "+F1hn/HJhdCj3xN6e4Ef8AN+J+8zOXfwJ1eI/IAf8AN+V9inOdcdxYEf8AN+wO8K+5Tn1nt1APyA\n",
       "H/ADfpfYpzrzHI3HmcDv8vhh0fIz0/Si5Xi21+s+zwz9pA6A3/jVfuSzvVi0HJEf8BuPxthpJUgi\n",
       "4IdqL/ADfpfZZ3LWWWITzGLRcuAH/IDfV/b577+csv//SCa/J0R+wA/4Ab9v7JOeUPOViQmAH/AD\n",
       "fsDvWvtkydHXBtc8AH7AD/gBv4vhF/BYHfmoB0moCIAf8AN+wO9y+AVBFMfmkAtEEhZTMf89AT/g\n",
       "B/yA3/f2KUMa6zjzm7SOF4dRY2ID4Af8gN/T9rnye0LkB/yAH/ADfsAP+AE/4Af8gB/wA37AD/gB\n",
       "v2/hh0XLz0xTpVU/1hO+5bPAD/h98Wr/8ePATLBoOSI/4HdZ/NDbi2oglKujAAAgAElEQVQv8AN+\n",
       "iPyAH/ADfsAP+AE/4Af8gB/wA37AD/gBP+AH/IAf8AN+wA/4AT/gB/zuiB96e4Ef8AN+iPyAH/AD\n",
       "fsAP+AE/4Af8gN/39pkdnD3wA37AD/hdE79VCfg9Fz8sWn5mwqLliPzek7BoOSI/RH4vxQ+9vaj2\n",
       "Aj/gh8gP+AE/4Pd9/EbLQIBfJ0kB/IAf8HsefmxssdnEg37Pwa85G8AP+AG/p+MXKeDXJE59VHvR\n",
       "5gf8gN8d8As08GtSLHzg91fgB/yA32Xx423VjLn3ozwFv/9UPrIHfsAP+F0Yv8g0/xQJ8KvS337y\n",
       "gh/a/IAf8LsFfp263svx+3vsJXvgB/yA303wixjws0n+TQA/4Af83oSfe5fHM/CL/+4ne+AH/IDf\n",
       "XfBTHPgFwU//QwK/d+CHRcvPTNdYtLzAT2mb0rT4qxzWRtrRbTvTN/Dbn8Yz+tP/9JQ9Fi3HouWI\n",
       "/O4S+Tk3+t038mst/HOfRUR+qPYCvxfg59zde1P8etqlf+m94YKfAX7AD/jdAj/3gX63xK9f//3t\n",
       "1/pd1+x1poJ3J+AH/O6Cn/sjHnfEb9D09+vP7Xl2y55mMfADfsDvFvi5P9x7P/yGvR4s7J5op+y5\n",
       "j1sf+AE/4Hc8fh6mdbkdfkP7ZPzxif0l029v9AN+wO/K+HUmNkjcT+T98BtWVblH/HiWvjv0A37A\n",
       "78r4TQY9L6n2Dr6exOshsYwCP+AH/C6Pn/EwKu3u+Enh95Douzt8gR/wuxx+ZmzGeh9BChYwGp7p\n",
       "V8d+wA/4XQ6/C0L0UPwCEQXvTVi0/OCERcuB34Xxe3XCouWI/BD5AT9Efqj2Aj/gB/yAH/ADfsDv\n",
       "q/hddZYu4Af8gB/wQ2gG/IAf8AN+wA/4AT/gB/yAH/ADfsAP+CEBP+AH/IAfEvADfsAP+CEBP+AH\n",
       "/IAfEvADfsAP+CEBP+AH/IAfEvADft8prSDr89jyWeCH9M3LnRyYCfB7TOTHN0R+/KqHB/yQEPkB\n",
       "P1R7gR/wA37AD/gBv3fid2AmwO8h+KXZ+hU0tnwW+CF9L3Ef+HHgB/yAH/ADfsDvefjpDaBp4Af8\n",
       "gB/wewp+cWZW57Hls8AP6XspytIDMwF+D8EvydjqPLZ8FvghfS+FmT4wE+D3EPy2rG594ZWwgR9S\n",
       "J5ksPjAT4PcQ/NSGxa3VdRfCBn5IncSy5MBMgN9D8NtymXi5pIAf0uFJ+aijTGYC/B6CX7ihghD6\n",
       "qEwAP6TDU+Kja24yE+D3EPz4hn4x7qEP7aMUfiZLuDt+d7qUTvlC3VLs41mkyUyA31NmddkwIkp4\n",
       "GD3FhnMjJF5ulrvjF9unSFkYRsHd0kFfqFtKM3JgJsDvIfgF2YbDyNwP+eNeibz0IN8cP2J7khQp\n",
       "/745ftEFhgT4mNdgOhPg9xT89IZ5qrT7nFYf90qgvVzt98ZP2bOSxKEMbpcO+kLdquI+xjhPZwL8\n",
       "noIf3fDMGnV/vu3zXmE+qno3x6/wgqRZer+2v4O+UKfEffTMTWcC/J6Cn9kwKsC4jyD4vFeEj/Ez\n",
       "98avqCkKGQhtgrulg75Qp2R8PIo0nQnwewp+W35LeviN+nmvBLGH83hv/KhtWdf5mWEkuFs66At1\n",
       "O58+OnunMwF+T8FPbujCle7dvcW9Io0q6s+0aOOKPPyavjV+sviVEkZ37Ow96gt1a0Xw0d8xnQnw\n",
       "ewp++ZcsNlwQwse9woIo7VwbHlrIb41feL/K7uFfqNMvEx/9HTOZAL/H4Mc29GIw5x4Pe6+QKFD2\n",
       "/qBVJVq5r4t0a/ziG3byHv2FuqTIxzPoM5kAv8fgxzdcKtz5srL3Sn6vpzbYSauIpx3dlu1O38Dv\n",
       "1WndF/qVdHCTH/B7Dn5BukGONPOAn0VU2oFUVfO+hzaiO0d+7IYtfYd/oS4pzY7NBPg9Bz+14Vkg\n",
       "5frcUHmvFJUkU18aHnoH74yfDu6cDvpCnS51emwmwO85+PENo6K46wiq8l5J7JWVJEHxSIOPcWE3\n",
       "xo+r4M7poC/UIRkftd65TIDfc/AL0g2dY2nq415R1D7QwALmq9p3Y/zo/cb2nfCFOqQ4PTgT4Pcg\n",
       "/MyGR3aN4+O95b0iKTORoIb4qvbdGL9713qP+kJdrnR2cCbA70H4BVsaSRwbVD4fCPAyC8h98bv1\n",
       "IL/jvlCHSNrHCOfZTIDfk/BjG64X5nZtfd4riY/TeF/8bj3I77gvdHeSPro75jMBfk/CT26oKUi3\n",
       "WsXHvSK9TI1/W/xEEtw7HfSF7k7Gx205nwnwexJ++ZctN1wY0ue9YkIfh/fVcb5Odtx6kN9xX+ju\n",
       "lKrDMwF+j8Iv0BvCOe0S+plh3yYNXp1uf/gX+0KNjxa/hUyA37PwizYcTJSJAAnpiklm4fGZAL9n\n",
       "4ReoDW1PKsFdhnTNQDo5IRMv+BWJHnGjH5Xz+Xs5rbR6w69MHeI2Q7pg4qk8NhPda+3tvZr50Uhw\n",
       "GRbpgNlvjsv5/L2cVlqy4bohqcSNhnS9pPnBmZR3UTj2auZHSJf/rSmO+SwS0lm/4flVMkFCQkJC\n",
       "QkJCQkJCQkJCQkJCQkJCOiwdNS7lYuNd7jX8BgnJd9o/+uTJ+LFDxqUcla+/4rQQRuh4R3p6KgaY\n",
       "0GzkxeDVq/ATt8rXX3HaZQRjjE9BeoeAex66AH7Pw69ZRlDgoTQk4Af8XoRfM1vm7SdPQkICfsBv\n",
       "S3HqZ2xi3BRIwA/4vQm/INU2pQw3BRLwA36vwk8V000mX52LgOAhbyTgB/zOPkxB6z9Wpmgkk94a\n",
       "Y/1Jvuem/OaRKbqb889sjzyXJyRPpxbLGRbXiMli1z/dekZGczNLm9cn5OObi1edhNndIAE/4DdI\n",
       "Nugrl1ogKqOh7fjtTUUvWapZ/hmVFgtoF8MEJWOUyombsN9vHI70pJhEUSNMkNp5ce09r9TC2tyR\n",
       "ZrGisZnczVgqRGfMtEcjw3isuExMFrv+aS/V2VQf5SPnbjy3MbC74y7rE7I6rd8NEvADfh+umKa7\n",
       "Iyq/e17ejsTQJLH/TGh7S0la/1PpToWVs0mVmpd1fjKheTmihAXCTv6XIyUCORWt1BsZGxsywVbg\n",
       "15TbFtUufMuT5iemXDJ7UNwR/OqXY/g12QTtGRmcu4nc+GeAK7tBd3VCys/Gaf6/0rFmIJKM7JlL\n",
       "Fs41Rwsu8AN+a4oTN0tjq7hTbWqjsQq/4o4qa2VZ/qfISKfC2llgdnBDqmqnTX6slC4sNrRKReHk\n",
       "4yXNRsaWKuwamSxtUuCX2hftcUeVWv3ijuFXFXs08muyac9I/9xNnoTPdXiH1dyCbftpnp9ZVolY\n",
       "4GffDO3vm0BEwdbdIAE/4PeZWFTfK1WVrfizs8ZgF7/yrg9lhV9TYe2ME7Q3JDe0rneKMnhp8pMh\n",
       "4XWYE4xVd8OikSsNe4Uo8DNSjeM3uondvShW2kqjoVr94jb4fRZ7GT/9ee4mcxsZTqmr+C+Ni1NR\n",
       "nBChy/aGIhf7wuJXvGlK/3iwdTdIwA/4fSaRVjUvmfEmepEdWzr4ibaxi+luhTVSXU3yN3N1qhpc\n",
       "kVObXyTaFn4mP1vn7TzQggrbxt8phK32iqS76muytIn1gBT4tauK1Gr1i1vj91ns+qcqqVM4wK86\n",
       "I91zN3kSyv328qo2j1nA9eCEMB7o6rdSU+1lRIYBYfPnund4SMAP+E0Xh5J+k599ycNR/Hjbgmdv\n",
       "zLbCynvtUEJaHkz5XvGRNr9QhnWlLM6yTA9LY6pdsV4hTG4GS0bbEqc2afFLzRC/fnFr/D6LvRz5\n",
       "VTl1z93kSejtt7s5T8uvoXdCbPPeEL/AaJ2YKi7csBsk4Af85lK32SqMy+DE1p+qxfrs3Ra1zwL3\n",
       "m5XIoBGemvI/+yPWy48QPtu1m29UtGmZXiFstZfxaBK/kU3aam/2Ue0lyXib37DYy/hVZ2TQ5DeR\n",
       "W3e/3c1NZkear5r9p/4CSCo27AYJ+AG/WfyKG6usx3aqVkHVt8k6d5VtXBLd3Pr1yDzY4razoWzG\n",
       "Ev38qg6PQE7e3fbnUdTbyOLHOZOj+I1vMtfhMV7t/Sz2crW3OiPdczd5EkaqveXm0fqnC/uR8sxu\n",
       "kIAf8FtdnKLVSVZ6dCM7XYRVpL33REIIUV29jOlWxfKbUQQ8k53WwzY/wYpblH2Obim2DymhAVGs\n",
       "v1E51GWiw2N8kwI/Wy5Om8Oq1eoXt4PfR7FnIj/Z6QLqnbvJ3Mr9jmCmzfhY6aW0ejdIwA/4zaWI\n",
       "sqZLIfetg1KeypflQxPpx6y3xfuk6FYtYxllImpsRc7wYX6S5XXTsX7ecvsoztJksBGPTcwCqVQ8\n",
       "ht/oJu0gZ6t0kbVgcVaa2y9ui99Hscfwq7Opthcf524yt+DzmZPyHUnTlMqd+K3ZDRLwA36rk2S2\n",
       "ZjZsh5oYP1uHHFEwOch5PL8hv8UlaBYK8YHf+Cb0M+vx4m4c5NzPc/yMjOcmP9vi3AYkr94NEvAD\n",
       "fq5JiZl3ufy4IfmWGlixfZBEm+/70U3oZ9bjxR3Bry72LH5lnqNnZDy3sY8qly9l/W6QgB/wc01s\n",
       "pHZWP58aft6QmypzZb1Ry833/egm9DPr8eKO4FcXexa/cPqMjOY2vpoLc3gcY8NukIAf8HNNcuEt\n",
       "sfRpP2n5WJKppq9hceV0scWaI5BLpZOz50L6Ogny4FMO/IDfy/FDQgJ+wA/4ISEBP+AH/JCQgB/w\n",
       "uxV+pFytvtNBgMXMke6bdPYxDhX4Ab+pHzC7Xn2nkxCLmSPdOLaziQI/4LcKv4/JirGYOdKDarfA\n",
       "D/itxg+LmSMBP+D3TvywmDkS8AN+r8QPi5kjAT/g9078rrCYORIS8AN+p+O3eTHzLWnutHAbcRrX\n",
       "XKY/Htn8wx3bIwE/4PcK/DqLmXtPZq4XJQx95FJy1wtcO/PLcDV4Awn4AT/gV6fOYuaeUzTbkLgW\n",
       "v2ixOZJE/cle2slG+WA5TSTgB/yAX5vi7hShM2mI0NL6EXKe1JX4yTUwD2a6atbyrvDD4t7A7/X4\n",
       "/fOv/7xVvr6LM45fu5j54DEPoZWtD4fVer9D7HrDou2WpD8VswpX4CeTheuwzEUyRmdmDBzgF6oB\n",
       "fiEW+nkffj/9derF4BUiv/dGfs1i5oGsriNiaDFBfESLGTirFYzm8Cu3lKw703I6atkw8hML+KXN\n",
       "ZkpPhpzDOU5T2ceveQMJkR+qvcCvTfVi5vXKiqpedCjK68Oqqe/O4desyWiScPjWxEYVfnL+Oqxy\n",
       "ybhlkoyEnKP4xeEAvxitfsAP+AG/qSSYju3abW33QEQiLsrFJJVSOv+PjzpWb1leWEnZgliuMJnX\n",
       "OENijFrAz4TGxphSGcWiLm51LnIGP2LSwdN5jA7wYxRKAD/gB/wmU2wJ6SwJFpG82hvxFZFf3MUn\n",
       "TEUTbMmQp2Gx5OwcfraOLXW5PlEmx2I4C5gOpiK/j+s+HuAX4vE94Af8gN90KtzhYRe/nDyTLOPX\n",
       "EUuyst+jWAE9ENLE3Z+P4keKazGPGHW+Zb+MulGVaLkavygd4BelUAL4AT/gN5V4WgZJSZGiEj/J\n",
       "6lGAM/jxxhah6hbEtKoiU1P9XNlcU/tHOMAvLDanKgipjPq01blUA5n7eWSfqT7QAX4kgxLAD/gB\n",
       "v6lkaCBJQFgv8gt4VI0CZNP4lVvax+SazpOGrdSGjyogi5FfbAIjqplW852W7Yt1LiJnTIi1kR8f\n",
       "Rn4ckR/wA37AbzIpU4xsaZ8VKyUyE50FyXBLSburaFcV1mIoiybRHH5Fk6FIZVB3M9sBLmVPSJ1L\n",
       "QghRcphHY+Sw2quH1V4NJYAf8AN+k9upkJTQVK91Oeh5Gb9yS9nrqqg6fbnd2rAwGMdPqswCxYyx\n",
       "cPK84pra13bIdNrJJe0u1tDmkU4MlQmTAX4hJqoGfsAP+C0myWyj2uJcBwuejI8u+Yj8uqlo1xO0\n",
       "rF+XBRjLpTPGpjayyFA1T+lVA2Ra/BTmKwR+wA/4+UoL+JHRmqaaw6+IEoOwgKqqAY/l0ut5KYy0\n",
       "hxV2mNR8gJ/mUAL4vRq/n7Kfb5Wv7+IcjB9J6lTsRpP5i3bkoYtIMVPGb0wGZRy3kEthpLBCxsw0\n",
       "PcO1mDV+Ak1+78PvH9nUi8ErRH6I/LampbwWZhOYndUlzrJMr8ilMbLzkF5nSoUaP4Wn2xD5odoL\n",
       "/M5LidiN38pcWiNtS2Voyh6XdhnOCj+sywn8gB/wO7McMvGBn9wsV8tlhV+CieyBH/ADfmcmMTdJ\n",
       "ahT5yGUkmfYgywHbBvYBP+AH/BY2jXn9ySJhLhSkyaS7DxQe9wtUS+AH/E7AT9HmkyzMEwaIIM20\n",
       "W+SJHs7I0mxkwA/4+cAvaiY8vtgRId2u0ukvpSHwA35H4yfbywz4IV0FPz5/LQI/4OcBPxrPfFJQ\n",
       "nWWU0iQZ/0XM4xSPkAG/IxJNgB/wOxY/kvHZT5Ky/0OkE7MiAz/gd0gSWQT8gN+h+MXx/CdF1fkb\n",
       "ZuPKxcAP+B2SEg38gN+R+EWdwG8WP5Jp4Id0IiMkM8DPNclQ3ipf38WZnYAh1sE6/HgWAz+kMxlJ\n",
       "ZibinpykQIRTLwavEPm9IfKbw6//23UOP5ZFtnvDRMzOdSqVqWZTjlWY/zMCCMDPd4pmWv3+gcgP\n",
       "+DlWe2lvychp/KQpB8SkKhJZGBBtP1jMtxwX/4zVNU6COHwDpPMYyWJUe4HfUfjJLFn6pMg0Y8xU\n",
       "v4N1XkvOudSs/DjJ2aNlpfgaj4UwfvQGSOcxQjMC/IDfQfiF/YrFOH69Zcpp+blyM9sBXMV82TVC\n",
       "P+D3JPx4xoAf8DsIv6RX612DX2Fc3UVsf1Tj53nyPLEPU+D3JPyCLAV+wO8Y/ORg+MoK/Fgv8lPr\n",
       "I7+QbeprC6eHORCm+v3a6tOyUEVhqHjECPC7MX7JZL0X+AE/N/yGA5fX4hcUC02WDX11RXhBmXq5\n",
       "NcbM3NgYyRilOW1Gj3Qgy7BqAB9M+ZF8WhaZpFj6PFoaiLMdv8hOklqXs3syFQ+jl4z7OYsRM1nv\n",
       "BX7Azw0/OuimGH+8rdvlplVFGakljGNrAB2/SImh1WqYUdwEdHymhmyzVzYc1WOZmerdKF7CL0hI\n",
       "IPNPLY7B2YpfVC4p3JSz8xPr7UuWTDqLETLZ3wv8gJ8bfmm29ElB4yxrZOM0S2nBiVB56FO4kciI\n",
       "czNOiFJNPFh5VaA5c96sxiIr4RqRZz1++SdtGKaD0Cd+YT2/Q11Oocpkc6H5yxj4eU1ZJoEf8DsA\n",
       "v2GTn+sRhSrMozMamDAp0DMdeEqvRHEtp9PhmH1KxaISqTG11uMn84qxFZmOTmZvsyZxMXJxC34m\n",
       "iYbl7CZtj5jLN9xSpzESTw2hAn7Azwm/aNhF63ZEMuTWk9S6UwyM7uZeNteRAj89H40xbSPLUEzj\n",
       "x/Vi5DeXuLAhrSDxJvzI0GzWL4X1NmLveILqNEbU1PO9wG9dwqLlYurKYj7xE9JYTmw8pGzGvAMB\n",
       "iUmLXzq7NhGZXr6hxi+IjZzFL+uljwjOfrD+b33kFyVMrisn8PO3o2RjCbBoOSK/XkQmp+oUkd8j\n",
       "oqbq1tVREewlRcr/Taqu0bLaOztRm0g6pSVJnUQPvyg26yK/erhgL6N8WxHVCG5p8+Md/nrlBH6H\n",
       "XdQTI/0mJylA5Af81vwgHY5PcT0i251h+zxFFpB6Bck62qLNJ+Y6PAqthFiI/ES6tto7OlyQlu4V\n",
       "q2hu7O0lVInlcgI/X0lOrROHai/wc8LvoyvN8YhEVkV/YVKMBenGRlUfhbFDXdpRepLVfzTxFCFE\n",
       "yQX8VvT2VuSODRcMQkpoQIqq+fZxfqIIYufLCfy8pWxiACnwA34u+ImP36qOR1SoFhe9CUWbnEjI\n",
       "ED87yLljBklF9UcTjE4vCitYnDGzDj8elTNujY+7i+IsLYcf7nnCQyyUE/h5THqijQT4AT8X/KKP\n",
       "uZl9H5FktpWNj3jllpbxS22NKZgYLtitDc/g1y7pifQ1/OKJ7l7gB/xc8DMfw+cPPCLu89mHZfxE\n",
       "2fMyPlww3yJagV8Qy6oqDgS/hh+deMAN+AE/F/zYxzCCI48oNv6ONI6W8LPv8qnhgnllSq7Hj0Tl\n",
       "pwc9z8DvlKQyCvyAn3f86Md1degREV9T3YthE7gYw0+RVZnZDWSiwpDyYoQyMZGxWxIWhXW1VyPy\n",
       "+xp+bOLpXuAH/FzwSz6mobrYEe25V2r8mAzM6g14XNSERVw2EtqIT3fQA37fxE8DP+DnHb/4gfgZ\n",
       "Uh9blunVG9hu6nIamGLGmbzCTOKm2gv8vomfmRjlDPyAnwt++qMt+f747Utc1fjJOuJD5HcN/MKJ\n",
       "AUXAD/i54JcCvzJJqgnXKmBpFHATFvNz2Ta/cvJCYlKGlTmB302vbSxaPoGfAX5I18YvmsAPi5Yj\n",
       "8nOL/MLNRxRjyQuXlK1K3y6lWKznfx8/RH7AzwW/bDt+igIwJ/y8fejQxJa+5vMY4cAP+B2C37+s\n",
       "rCA3v4bxwNcr8AvShQrieTPj/TQxkT3wA35u+P2yDT+ZvrDR5JX48YVLG/gBv7vjF207Irp/coLR\n",
       "fMnrLsW5u08KP/hJH13TNLlItZcAP+B3AfxItr+3Y/QR2sSDftk30iH4NWfD7RadnPh92y+r2dm2\n",
       "gR/wexl+scOsVKP4ReqkiuQ3Kq9bt2yneHU6pKmJALamRAM/4Af8aqocAr+JyVM8THP1GPxi4eOQ\n",
       "jJe4r7gUDPADfsCvujtdqOrg11nUzcOTE0/BL2Q+DolPLvK9PfRLgR/wA34rQoEN+EVtPsI9THkK\n",
       "fr/+7OOQ9MTUnztSNNfqB/yA35vwo04xxTh+nbrey/FjfxAP2XsM/PJixMDv/gmLlnvAT7o1Jk3g\n",
       "FzkHKs/AT/5OfWRPM48rpdCM3BE/LFqOyK97Z03MeLAJvzBzap+bwM+9y+MZ+NHfhY/sdab8HSWf\n",
       "qUJ/Hz8sWg78Tqv2Jm4Vqin8lOtECY/A7yfN/GSfGZ+HmaLaC/yAX17rdYvRCvyUtilNi7/Keh5x\n",
       "HZX2CPz+1/+WF8Qvma73Aj/gd2/81A+xsoJsrxu31rmpyK9t9Dv9aQsH/Lw8G7LyB9uSz4evzfR3\n",
       "ft7MePLHjwD4Ab9vRn4044fg59zde9fIr+vd//n33muXyC/0ekHFiPyAH/BLHa+bCfzcB/rdE79e\n",
       "pBf+v7zH4VXwC6YHzgA/4Pca/Fyb/Kbwc3/E4474Derq/9//6pN4GfziyXAf+AG/1+AXuT4yOoGf\n",
       "+8O9N8RvYB/7T9H5Shzx+83ncarJ/hPgB/xeg59yfWxqHD8P07rcDr9hF42M+9+JG35/9Xmc07Nj\n",
       "AT/g9xr84syxfjo+sUHifgLvh9/gLcqXPvE1/MjkSD/gB/xeg1+aOc47OjqllfTwMNbdx/mRxGf2\n",
       "fvGT2SphgB/wezJ+zg/Mj+JnPDTP3x0/Kbzi95vfA536nQf87pKwaPnPjvgJ57HEZuwu8jHn8GMm\n",
       "M/WDn9/Bx3qqteP7+GHRckR+50R+Uaav+uUCvwPxi6e6exH5Ab+34Gd8TpUE/A7L/scPvwvi0alO\n",
       "fuAH/N6yaDnztTIE8LtV5De5GhLW7QV+b4n8qKclwYDfvfBjUxE/Ij/g9xb8Ep+TZL4av4OXBfaO\n",
       "nwZ+wO/d+MXA79v7/Ap+ZmqUM/ADfm/Bz+OiYMDvRviFU1Eo8AN+b8EvBX43wc/vIGfgB/yAn9fp\n",
       "0YHfXSK/CPgBP+B32bHxwA/4AT/gdxx+GfB7JX4c+N09vX3Rcvdne7Msuuz9DvyOw29Knis/24tF\n",
       "yxH5eY38/p//+vmy9zvwOw6/f/7XfyHyA35vr/Yi8rsHfr95vqQuG/kBP+AH/IDfK6u9wA/4ueC3\n",
       "ftFy4Af8egmLlgM/RH7AD5EfIj/gB/yAH/ADfsAP+AE/4Af8gB/wA34n4YfeXuAH/IAfIj/gB/yA\n",
       "H/ADfsAP+AE/4Pe9fd5sGnvgB/yAH/DzpdOtprEHfrdPb1+0fP3Q5fXrvAG/N0R+P10Xv8lh1li0\n",
       "HJEfIr9X4ofeXkR+wA/4IfIDfsAP+LkuWu6O32gJCPDrtk6I++CHRcuBHyK/tYnxkTcTD/o9B7/m\n",
       "bCDyQ+QH/J6OX+RhNeDH4Mcpqr3AD/i9Bb9AA78mxQL4AT/g92z8eHuDMvd+lKfg95/KR/bAD/gB\n",
       "vwvjF7VrAIsE+FXpbz95yP7HD+L5kgJ+wA/4HYJfp673cvz+HnvJHpEf8AN+N8EvYsDPJvk3AfyA\n",
       "H/B7E37uXR7PwC/+u5/sgR/w6ycsWv79Rcun8FMc+OXf0P+QwG9bEbBoOSK/cyK/z3XeduGntE1p\n",
       "WvxVDmsj7ei2nekb+O1PozkFf/qfnrL3jN/U0mmI/IAfqr3OkZ9zo999I7/WwgGLmNgA+AG/w/E7\n",
       "79neKfycu3tvil9Pu/QvvTfwbG/vkgR+wO+RkZ/7QL9b4tev//72a/3ubfBD5Af8gJ8jfu6PeNwR\n",
       "v0HT368/t+cZ+AE/4PcO/Nwf7r0ffsNeDxZ2TzTwA37A7w34eZjW5Xb4De2T8ccngB/wA36PxK8z\n",
       "sUHifgLvh9/gLcp94ofeXuAH/K6L32TQ85Jq7+CUJz6zR+QH/IDfLfAzHm7Vu+MnBfADfsDvyfiZ\n",
       "sbmW6FchugZ+frMHfsCvn97+bC9WbwN+78EPz/Yi8uvWrLBoOfDb+fv0fouWI/IDfoj8XokfenuB\n",
       "H/ADfoj8gB/wA35rJ6paX0EGfjt1OnSWrtPwE+FZ53pqVi3gB/wQ+b1kn4j8gB/wA37AD/gBP+AH\n",
       "/IAf8AN+wA/4AT/gB/yAH/B7IX5YtBz4AT/gh8gP+AG/9pZuHyWNwivnC/yAH/ADfnsSm7ql2zVi\n",
       "Y+HnezkmX+AH/IAf8NuRpB7OElcP3W3WiHVfNufQfB2L85GusGg58AN+XoswOUlBb/x1fzC2CIOH\n",
       "JxMO5sZtb+lYTsSGjqGW53yvF/m5L1oO/O6IHxYtv1nSH5PjNrd0WF0asa/v5Zh8Ue0Ffnvxw8QG\n",
       "b8YvYh9Nb+0tnWqbUuZbG7/5noffeYuWA79HVXuxaPklk4VvsD5KN1UAABX0SURBVChYe/OrYhhU\n",
       "In1r4zdfRH7A7+L4IfK7Yio7H7Qcv6UFrf+YCBvH7/0wofOoLOU7k4bRonK4TIAf8AN+78WPFjGY\n",
       "MRO3tA3ORtfSKU+O/QljpgVJhmU73gJ+C/n2ktDKfjJM6Sh2Yx3GJOlkLRmjVAI/4Af8gF83VYsh\n",
       "Sj1xS9sFs4fdEsTQpNBFWo7C/BM8aX5k9Cr8xvINJvYT0YDl36eSq/HLwUuibmioNPC7PH6Z3wT8\n",
       "gN9CJbK6SVU0cUvHhW69eqaqn4csBiun9lVHtXX4jeQ7TM1+ovyTqqnvrsLPBrNJdV1neSlFRoDf\n",
       "dfGTIY21565/oXWiluoW6O19M351RCTiiVuaRfWgPKGU9aezdqzdWBSnOo224tfmG7AwrDcPVZgH\n",
       "j4Vv7X4iEnFhLH5MKaXz//gofp2Ny9dJwasdygz8LoxfFMeGHNH3JTnTVCDyA37jB95EXwkZv6VF\n",
       "1dSW/6N4U7bYFGCS4lTrcCt+Tb6257d+5EOGPM1zsnvq7CciebU34kuRX2fj5vDqFwzV3qviR2J1\n",
       "ZKc/iakEfsBvJLUXBjETtzStVEw0Y/k/eXu1FC19JX6p2Ypfk2+QxM1jZkIaC6rNsrOfHL+cPJMs\n",
       "4NfZuNKQ1f0eRKPD46L4meToZ2G45sAP+K1No0N3s/ISCuOkSFHREVFXe7NV1d7xIcEkzdpojdru\n",
       "k3SwH2Ihq/tHZtr8mo3LWnrDqxgfUIhFy7+/T6qO37uMQ+CHRctXn7+RWzotKSHtsJbyqbidHR5t\n",
       "/VcGQpvuXpQKSHc/Fr+AR9Vn2DR+zcZ2DGFDX85g/p/YEPlh0fKz9vnHL6fs/9+Sk/DDouXPxI9V\n",
       "+HSiqMI5O0SQ0yI224WfrZQwUm0v7NnWxHLX7qcYTRiYiSHRnTbIZmNJVad1MSGEjLUrodr77X3S\n",
       "s84SY1P4obcX+K24pZkpBjOLtmukbK5hzFhaiO3xFSzOCiXX4xdGZWdvsb1VNDAs7O6H6PLR40X8\n",
       "2o1l9+tPp0Z9Ab8v79Oc92x3EqHaC/z249dUCplti7PRGO9fvN3ri27PN4im9jN/Wfs/TCxafso+\n",
       "pT6vBBP7wqLlwG8bUh0Nup/j0g0/vm/Ew4n4IfLzuk915jky4SJ+U1cDIj/gN9qW0jnPvatrB347\n",
       "fzeOP9tbJwH8roqfPHc2R72I38Sz5gnZcucAv9fgF0x81YlxzHd9Ev4PE/idsc/w3DnSRx91W4Nf\n",
       "pLZcUsDvPfhdIl/gd0f8Tp7NkavR7+m3RfwCveWSAn7AD/gBv4V9nr2Ggd4Z+W1ZaQb4AT/gB/yW\n",
       "9rlvKluHFO/Fb8Mag8AP+AE/r/hpn8+AXQU/zk4+GWPV7FX4bVhdGvgBP+DnEz+Z+awhXgW/KDv5\n",
       "ZIzNavaJHzdUCmYSExBWT4wRsfWXFPC7eZpczfui+fouztUWLfd61q6Cn8xOPhnZqmovCxI7P4bM\n",
       "7EOVUTVLxuouDw/4bYwPxNoiYNFyRH7nRH5YtHx5n9kFCvGBH+eBtk18IjMdsqphMsvVX/dFy83G\n",
       "35rcIPIDfs+t9gK/wwrx4wfp4yfzmI8XlXIriKqq2OVkuytiVefIr6lhj09BOaZlCPyA3xn4YdHy\n",
       "h0d+dVtkyV7KuiRF8YpLauWi5RNzDNbriVEVZ2vr97EcXJLAD/gh8gN+O/CjhT/acsfzb1fW9V3B\n",
       "dMzI4iW1NvKTTI88BaWa4pjV+IUKkR/weyp+z+ztDU7v7V2HXxHtlXXf3EFRzq5WhljRiktqQ7XX\n",
       "aDb8cBpsxy9IJfADfk+N/B45zm9vQXafjHX4lev8lXd9wsp5w6tHPFZwtLHNLxzw16lYb8CvX4MG\n",
       "fsAP1V5Ue/fgx8vpyQthuTLF11uOdOHpmktqY4dHFHenhVNsA35CUVqUnlHgB/yAH/Dbit+KiQ2q\n",
       "aV0MDaS/Nr8m8c7amp0YbhG/MK0LE8bAD/gBP+DnGvmNpGpSSGUCJhcvqR34tc/d6Wg1fqSzYGIK\n",
       "/IAf8AN+/vGrJ10lKiTLl9Tmai/tXEEpH8VPxrpNVRloRik11U6BH/ADfsDPP34m3HJJbezw6K8q\n",
       "OIHfWErbhj6OyM9jmlzN+6L5+i4O8HslfmY8sNsy9ZbjUJcN1d6ss661dsIPi5Yj8utWdLBo+Rvx\n",
       "8/L71GmQc2f1hyX8knbET5iswQ+LlgM/VHuBX/d7+tKi5eOPt3UGrbCFe4XYoc3l+tSKodoL/IAf\n",
       "8Ptu5Oc4sQGpK7CUpllMZ8tGlAlNsTPNgR/wOxq/gxYt33ZSxAEG+C2AcMLvsLPxVfxWzoynyY7v\n",
       "oz/bIBYtB373ifw2zuDGzXfxWy7uZwk34Hfc2bhB5DecpGBVUuGqIgA/4Hc5/FbOkS4YU+Ws6sbt\n",
       "fh1ez4YqVQ0YE1RndvhYkthdEKrTNH9F4zQN+8W1H9TUHqKtnn3481HC9fgdeDYuhZ/Un0P3bEo2\n",
       "3yHD5ZWAH/C7C371EFqpZ8+NtCFBVOYaO01r37+eSTF3U2CqG5BkRZO7SItS8fJVIBM2LC7LqoYm\n",
       "w/r3tBgr4Wr8jjwbd4j88lO9dZdDLoEf8LsLfnWlJZof2mBshtV0TqHTJC+967mcrb3In5SvaXXV\n",
       "s86rQNJhceM6m/4o3eoohiVcjd+RZ+NSvb3TgdzGVg0jVhYB+AG/q+FXj85X84vk8GLwfzWXXeoS\n",
       "+vWu57h5OEDrLn4k0138AjUsblZHKP0hwPVRDEq4Gr8jz8YtIr/jigD8gN/F8GtmcNMrGrui6lbt\n",
       "jBGrnwxdv7B21suQtcGU6XDHC1jKV9wuYzYoLq8jRtkvdn0Ug1Fsa/FzPBvzJwP4AT/gdyX8ygGq\n",
       "nCZZQpcqPFxXd2pnLKwoG+vE+jES3euZtsUkHe5sk17UvDJ8WFz782p/YeeHnaPoTzG3Gj/HszF/\n",
       "MoAf8AN+V8Ivbhq5FktrKK3F6UzgVtzpG+zrGRBnjV0iSxvupCm7d/P3KO18pi2uTof14f5R9KeY\n",
       "W42f69mYPRnAD/itSFi0/LRFy+tH2dWalSmq/s3+BG75vb7Fvmn8ylY+zRirx9oVFIqEfxRXNo2B\n",
       "gya/+ij6U8ytxs/5bMydjJfjh0XLEfmdE/mtXrS8nsSo08g1Nntb/enyuu5P4Cb0pH3ZWBqv9vKs\n",
       "XKu721zWtvnVT1JUxa2b24Z9k81R9Es4Xo7siLOx9WR4xs990XJEfsDvLdXe6naXGV8oa3FLJ2W2\n",
       "/QncZu73pQAoyppqqykYGMPPPj1fhwBVcZsmP9Y7/PYo+L7Iz/1szOE38l5v0XJUe4Ef8Dtx0fKq\n",
       "olc0cs21CZRXdHW79yZwc6n2BomFg9tMy1a8MfyKu4D0isuy0VpvexT9Kea2Vnv3n43LVnvPmxkP\n",
       "i5YDv5tEftUMbraRK5oTrJy4t6rodSdwc+rwyHljQcSlaQc5j+MX94tbj0GuxpbUN1t7FP0p5lbj\n",
       "53o20OGByA/43Qa/apwGpYGcHdsRhkHb1NaZwM1tqEu+YWyMXZ+sqnCS3pLgpMaPpf3iBrGtLouq\n",
       "v7VZR7w9iv4Uc6vxczwbGOoC/IDfffCrZnATSbhwF3KlVN3v2pnArR7vIeK1R/0xsUFCTfFABck1\n",
       "i7OMNp0W1TQHNEmbeLCZcI4lVDU+aS0HR9GfYm41fo5nY/5kAD/gB/yuhN+eGdyEdjnq0evZziOQ\n",
       "7C9uJOdLuPrxtiPPBvADfsDvUvjtmKVAOd2wo9czjUmo9xeXLZRwNX5Hno17TGwA/IDfa/DbPoOb\n",
       "SJyOenwavSzLzO7iDhvoPkq4fj6/A88GIj/gB/yuhd/mGdwSt5M4fj2rlO4vrlkq4Xr8DjwbwA/4\n",
       "Ab9r4bd1BjfjeA5dr+fl4n6WcMM09sedDeAH/FYkLFqO1duO3ydWb7sGfli0HJFft+6FRcuB387f\n",
       "p5fFD4uWA7/rVXuB3zfxQ28v8AN+wA+RH/ADfsDv1EXLgd/z8TtvZjwsWg78EPkBP0R+wA/4AT/g\n",
       "B/yAH/ADfsAP+AE/4Af8Xo4fenuBH/ADfoj8gB/wA37Xwk+rgw24E367TwbwA37A7274ySz2eNQ3\n",
       "x2//yQB+wA/43S7y87ra8d0jP+mzEMAP+A2vLyxa7owfnu09CD+vhXjRs71YtByR3x0jP+B3F/wQ\n",
       "+QE/4Af8boEfFi0HfsBvZ2XWedHy9+InXxX5YdFy4IfIb0d6Zm9vZE4+GYqg2gv8gN/Nqr2PHOfH\n",
       "2cknI5HAD/gBv5vh98hqr6AnFyL+ZrUX+AE/4Af85jA6MmngB/yAH/C7wj6Tcwd9cjX6PWFiA+AH\n",
       "/IDfyfs0546gVRyRH/ADfsDvCvuU59Z7dQD8gB/wA36X2Kc68xyNx5nAD/gN0tsXLffxbC/wW9zn\n",
       "maGf1MHL8fsHFi1H5HdK5Pe5zhvwG4nG2GklSKJT8JtaOg2RH/BDtRf4rSDJf2ITzKK3F/gBP+D3\n",
       "lX3++y+n7P8/kqmCoc0P+AG/fZVZLFruuE96Qs1XJpOPEWPRcuAH/BD5fWmfLDn6muCaB1/HD5Ef\n",
       "8AN+wG9oU6yOfNSDJHTmogN+wA/4Ab/v7TOKY3PIhSEJi+lszsAP+AE/4PfNfcqQxjrO/Cat48Vh\n",
       "1OjtBX7AD/g9bZ/rCobID/gBP+AH/IAf8AN+wA/4AT/gB/yAH/ADfq9Jb1+0fP3QZSxaDvy66cKL\n",
       "lk8Os8ai5Yj8EPm9Ej/09iLyA37AD5Ef8AN+wA+LlgM/r/hh0XLgh8gP+CHyQ+QH/IAf8AN+wA/4\n",
       "AT/gB/yAH/ADfsAP+AE/4Af8gN9R6ccPAvyAH/ADfoj8gB/wA37AD/gBP+AH/IDf1/a5buo+4Af8\n",
       "fCUsWo5Fy6+C39G2YtFyLFqOyM9r5IdFy9+JHxYtB36o9iLyuwl+mNgA+AG/VaSd92zvaAl8jMt4\n",
       "Dn5S3Kfai2d7gR8iv7WJjS02m3jQ7zn4NWcDbX6I/IDf0/GLFPBrEqeo9gI/4PcW/AIN/JoUCx/4\n",
       "/RX4AT/gd1n8eFs1Y+79KE/BL2Q+sgd+wA/4XRi/yDT/FAnwq9KvPwM/4Af83oNfp673cvzYH8QL\n",
       "fujwAH7A7x74RQz42SR/p16yB37AD/jdBD/3Lo9n4Ed/F8AP+B2Q3v5s75XxUxz45ef9D+Yne+CH\n",
       "Z3sR+fXqVBdYtLzAT2mb0rT4q6znEQr8guCf/yovid8dFy3//9u7sy03cSAAw2Y/xzbLTWbmOXj/\n",
       "h5uY7iTGpIStKgrL/LrrGUIjNfqoQgtEfuCXSOT356XfGFn2wC++SKcxOj2RH/iBXyr4qYd7U438\n",
       "7sX7tzvd+6eJ/AbwAz/wW/8fy42qnk+QjfDTT/RLE795rNf99/Xf1Kfvx4vxLSXgV5debS3tqgV+\n",
       "4Jd45Kdf4pEifg9p7j8/fjez8vT5eCXyAz/wSwI//eLeBPF7fE95v7hjVJ2+krACP/ADv/fCz2Bb\n",
       "l/Twe/zXRTlraVWVetuXfuAHfuC30cYGrb4Bk8Pv8R8317UjXgr9usb0lgI/8AM/O/zEfn+UtHde\n",
       "8sqySsWYm95S4Ad+4LcFfoPBmGHq+GWtbZVyywFf8AM/8FPjN/xtx3qLICV1/JrauEqDYewHfuAH\n",
       "fny9bbO017xK9dnwlgK/xIs0dfddz2t9OXy0/FD4Ocjzzh8tn82/nk/G9puaTeT3OZEfHy0/Jn58\n",
       "tBz8SHuJ/Ij8wA/8Pgk/v4+Wg993Q77pRjUv4sdHy8GPyA/8PrvnEPmBH/iBH/iBH/iBH/iBH/iB\n",
       "H/iBH/iBH/iBH/iBH/iBH/iBH/iBH/iBH/iBH/iBH/iBH/iBH/iBH/iBH/iBn+vlgB/4JYufWMAP\n",
       "/Iwjvwr8wI/ID/xIe8EP/MAP/BLGr87iE2TwOwh++19D9hq/4Ad+UcmsdGQ3vu02kOC3Yakk/Ij8\n",
       "wO8oaS/4gR/4gd8h8evBD/x2w4+0F/zM8VvGc9KR13EAvwPidx67vfGrwA/8dsWvHQvwOyB+5diD\n",
       "H/h9In790/iZfgkb/JIpw3gFP/D7RPyWyaz49TbDD2GDXzqlGNu98ZMyb/ADPw1+y2RWOlLsBOD3\n",
       "0eUiRfx+jEiZN/iBnwa/ZTIrHVlK6Q/4fXRppYEuP0akzBv8wE+D3zKZlY6spFG/F8rizJlJrRPH\n",
       "b/s7SNPuV2lljx8jUtIBfuCnwW95X4kL4QyWORWPy0laE/0Sx+/abK6Hot27MdsbPynzBj/w0+C3\n",
       "TGbFU4z6qi464dlkBDlt/LIp9i7Kcru105p2F7eT8mNEyrzBD/w0+C2TWfEUvX5Pq0UnPPXgd7k1\n",
       "yiX7RtAHv+fbvRbfdvgxImXe4Ad+GvyWyax4ily/vm3ZCQuLcCdt/CaH2mu5YfKraPdKHOfyY0TK\n",
       "vMEP/DT4LZNZ8chBP8t52Qlri/kzSeP3lYFm3dhtdycp2n0QF/b4MfLyjoLgB35Ryax4ZKWf67Ls\n",
       "hKerQfsljV9+i2rq5lT3262dVrR7Lm7j6MZI/fLqYvADv6hkVjyy0Q/3Tp2wGS7Tr8ynx/nZYMVw\n",
       "yvg10xOl/9kwRbbZxSravRc/n+HGSPXyAjvwA7+oZFauUa+u69QJi9O5u7sLDYY8UsavnOK98rzl\n",
       "YK+i3Rt5dqcbI2LmDX7gp8Jv8ViVa1SoRzxunTA7ny63jpd//96L/rtIKeO3/SQ/Vbuf5RXdbozk\n",
       "L0+zBj/wi0pm5RpV6q0Nbp3wZ2fvbtFO9/2K688MjzG67IFfCuW5do+Cx5GR/uWZhuAHflHJbKBG\n",
       "3WiA3w3R5vYW+/sVl8FLv4Qjv8Llq1Dx7R74k3sx0rw+0xD8wC8qmQ3U6DJmFp1wyr6GXzehwXBv\n",
       "wvj1Lhcb3e5ZINj3YkTOvMEP/HT4PSazgRpV2s2cvzphe/uFbXuapvVaTPRLF7/KZ4PY6HYfAt8r\n",
       "9WIkYrIN+IFfVDIbqlHXWXTCS36b1FucCqu8L1388szlYqPb/Rr4g3sxImfe4Ad+SvwektlQjQbl\n",
       "8t6vTtjkxXCu8yGzyvvSxc8n641u9ywU6jsxkkWMN4Mf+EUls8EaKcd7lysNTLZ1SRa/0umDeLHt\n",
       "no/N7vgNEePN4Ad+UclssEbF2Nh2wtai+ZLFz2WSX3y7N8FnnRMjgcwb/MBPi988mQ3WqNENeSw6\n",
       "YWOyNX6q+NVeX0WJbPcheHP7MBLKvMEP/LT4zZPZcI0GVei36IRDaVHrVPHzmeQX3+5dMDf2YSSU\n",
       "eYMf+KnxmyWzKzXqNaHf8Di4abR/556rJzQd2+u2iGv3lQedCyPBzBv8wE+N3yyZXanR+b0qTNnQ\n",
       "nXB46MJIMPMGP/BT4zd7xq/V6NLiwiFKvvKHdmEkmHmD37MqTCVP5bzWl/N8MrvKeV8CwwFK1TX7\n",
       "4xfOvP92Bf39S4nZDw8/HSmGL6dSpXJe68tZQfoumV3FL+saaPj80q/d0w74yZm3CNlXByj/8sPD\n",
       "TxTwXySz64l8xVu/A9wwq89zB/zkzBvIKIYP+vJp/CgUF/wqcgyKR/mdzL7ZW0zKOz4pfd6e9RVN\n",
       "TfEov5LZN3uLSXnHoM8l6Ww+4R78HytoN1E3QF5BAAAAAElFTkSuQmCC\n",
       "\" style=\"display:inline;vertical-align:middle;\" /></a><br>"
      ],
      "text/plain": [
       "<IPython.core.display.HTML object>"
      ]
     },
     "metadata": {},
     "output_type": "display_data"
    }
   ],
   "source": [
    "main_theorems_combined = And(qpe_exact, qpe_best_guarantee, qpe_precision_guarantee).with_wrapping_at(1, 3)"
   ]
  },
  {
   "cell_type": "markdown",
   "metadata": {},
   "source": [
    "## Local theorems (for convenience - used only internally)"
   ]
  },
  {
   "cell_type": "markdown",
   "metadata": {},
   "source": [
    "### Match quantum circuit outputs with definitions for $|\\psi_t \\rangle$ and $|\\Psi\\rangle$."
   ]
  },
  {
   "cell_type": "markdown",
   "metadata": {},
   "source": [
    "For the `_psi_t_output` theorem below, the initial-stage circuit output $\\lvert \\psi_{t} \\rangle$ is defined in the QPE axioms as\n",
    "\n",
    "$\\lvert \\psi_{t} \\rangle = (\\frac{1}{\\sqrt{2}}(\\lvert 0 \\rangle + e^{2\\pi i 2^{t-1}}\\lvert 1 \\rangle)) \\otimes (\\frac{1}{\\sqrt{2}}(\\lvert 0 \\rangle + e^{2\\pi i 2^{t-2}}\\lvert 1 \\rangle)) \\otimes \\cdots \\otimes (\\frac{1}{\\sqrt{2}}(\\lvert 0 \\rangle + e^{2\\pi i 2^{0}}\\lvert 1 \\rangle))$"
   ]
  },
  {
   "cell_type": "code",
   "execution_count": 7,
   "metadata": {},
   "outputs": [
    {
     "data": {
      "text/html": [
       "<strong id=\"_psi_t_output\"><a class=\"ProveItLink\" href=\"proofs/_psi_t_output/thm_proof.ipynb\">_psi_t_output</a> (conjecture with conjecture-based proof):<br></strong> <a class=\"ProveItLink\" href=\"../__pv_it/theorems/2c5eaa93259c6328caaf266f7a37706922d23b3b0/theorem_expr.ipynb\"><img src=\"data:image/png;base64,iVBORw0KGgoAAAANSUhEUgAAAiQAAAESCAMAAAD65j5vAAAAQlBMVEX///8AAAAAAAAAAAAAAAAA\n",
       "AAAAAAAAAAAAAAAAAAAAAAAAAAAAAAAAAAAAAAAAAAAAAAAAAAAAAAAAAAAAAAAAAACGKEuzAAAA\n",
       "FXRSTlMAq1RmmUTNIjK7EInv3XZsYK+FpUCc6vXSAAAACXBIWXMAAA7EAAAOxAGVKw4bAAAPgUlE\n",
       "QVR42u2di7ajqBKGBcELCHO6Z3j/Vz1eo4maCJTG6F9rzXTv3WAo+CyqCghJQiqZ3KcsJFByow6t\n",
       "t0EE26csJFg0O7beR+GV2qUsJEKq9Nh6H0R5PFft1IbrieJx9aXLD633QVi2T9nX6XLpl8VVGUld\n",
       "GTss5bH13krh5C5lZ7PlUtWSgBL3VVnx3Fy0b5A7fmi999FKtk/ZTZBwQQDJNy3G8odbR/A6l+bY\n",
       "eu88UQ/jwCMMyTIkibkiJNI5Ave+cPbQeu+Mg9mn7DtI5Oj9an5BSIzTFM8uq2PrkWAXh+gEEj4+\n",
       "Jy+vBwmNIWkMNz+03rov7KEPi9J9GZIkyy8HCXMZ0cOzY+utRfMeHpaK88ZWIOH6cpAYJ6je4OLQ\n",
       "eqvhPN+l7HZI4l3X00HiqDxHGejbSBqf6OHjeMwgZdxMuwaJkIBk9enVsfVWZhCzS9lVSIRppKra\n",
       "P7p8U8HGzqXMZx0EyaKkZO9wcWi9lRlE71LWx5JEOyUntCRUkNjAPreU8w3zyI4xJ3eBJDq8uTAk\n",
       "RWCcUlDGN5Xbp6wHJPGJkgtDkoRmXIgyNUe7JGuQxKdcrwxJFmi+M0e2f5B7ZD547JrVCiQmuSAk\n",
       "f6keLwIDJUG3fiM8/BsR6wstQ0KwDHxCSP6liyzKQ+stGiW+S9lPkEwW+MockLz1QKtD6y36osUu\n",
       "ZT9BMvF0suSKkJBNNyowC6Toskc+PnC0v7wIiU0vCQndRmAX+G46qnRa7oFbHo2mXWo1SwDJWzGB\n",
       "s7yh2i7APaJa7kxyUrnydFO7gvbQevN32yMvZ4n3KFwbEjpLwgKDSkaVmNcecZJ2JSD5AiSh2+4J\n",
       "tusPtLFdygISOkh0oAXXVJa/9NhBVVLttgIknoNtDq234NyIXcoCEjpIbGBWzFJl03x2/hvaHXGI\n",
       "bjZKGph6SKmyaZXHwFeA5CuW5ASQ2F3KAhI6SHjgYHM6SNJdygKSC0Hio4wDJF+BRAYOtqSD5J9d\n",
       "ygISOkj+C1xY/Y9qA6Nz/9ulLCD5eyVI+C5lAQmdJSkCB7sAJIAEkAASQAJIAAkgASSABJAAkugP\n",
       "//OnACSABJYEkAASQAJIAAkgoYRE/Ml3KQtI6CBRf/4cWg+W5DBI6Bb4bjbd7HaVCaab60Cy31Um\n",
       "gOTakFzyKhNAQgvJJa8yASQUkFz8KhNAQgHJxa8yQXRDDMkVrzKBJaGG5IJXmQASakgueZUJICGG\n",
       "5IpXmVwKkiMPZ32+ygSQzOVm524+X2VynftuEN0QQ4KrTADJJ0hwlQkg+QgJrjIBJB8hueRVJoCE\n",
       "FJJrXmUCSOIhufxVJohu4iEZ5aJXmcCSUEKCq0wAyRMPuMoEkJxqnAAJIAEkh0GCw1nnhwSHsy4K\n",
       "Cb56ApDAJwEkgASQABJAAkgACSABJFeBBAt8gASWBJAAEkACSAAJICGGBDdnnR0SXIqE6AbTDSwJ\n",
       "IAEkgASQABJAAkgACSABJIhuAAksCSABJIAEkAASQAJIAAkgeQgOZ50fEhzOuigkOJwFSOCTABJq\n",
       "SFan6QKQAJJe9NrXom+6Wg6Q3A+Sp6/CFoAEkCxA8nRviwEkd4bk7wokampJNn3PMSC5nSXhT27I\n",
       "lm9MvzEkRtwTkpdbwjbcvXBfSJTLbgaJsiLtILETT2TD1XI3tiQquRkkOuFVrXb9ezsdPPMLkOBw\n",
       "1jGQFDwRNRBpM71Uk4nm89VyOJx1m+imHq/K9i6JaOfb/n1nP2BJAMlRjitvxkwPUTDPtjolgORG\n",
       "kIgai7zpQquSXJtMF9vCG0Q3d4KkrF2Sethk+1PGtyZKkCe5ESSyypvZJu081X4AN6RcMd3cCJLa\n",
       "R9Wltd30IqutETAguU90043bowctS1SxbRkYkNzJkrQuay/CJlptu1oOkNwLkjHcLURabLxaDpDc\n",
       "zJK8FNt0tRwguQUkdm2XIkt+AxKs3ewPSZxg7eYW0U2cYLqBJbkxJH4nQvPTQJL7lwAkgWWtn9GR\n",
       "9iSQbGj3rK2nhmR0jXlKAknOjHOMsbJMIyHZsCmv/UCtRSk3x4LbIbFMCGYXlCqYqar6J5ZVVbrS\n",
       "7qaGYY2urHLZHN/Xtp4GksKoWb1xT1OWE1mSwrXk5VUWBcmQI1LmbcNUk5Pm3VMzRQdJYVpGrSkW\n",
       "lJLdT4kq9Wq7teu71j6X6fV5aes5IFFMZG4OyWNP05Z9+dsgyfseTJ2OgUT0PcTfa2ebB/Z7BlJB\n",
       "Bknu7PD8Yq7U8FPdq6vtzobnief29/q8tPU0lsQuQPIgWnNqSApnYiCphj5+v8Ypq+aF7TeWVIoK\n",
       "kmz4+MSYuVIPSBKx2m43vHUvHA36PLf1NF89sQhJOoCfUEMil7YEbYZk2JmXmA2uCe/fuWx89Vju\n",
       "ayHd0wP12Gt2plT3U7Pxh6+1Ww6mSL20f9AnS3/HkiSVaaTS5JDo+tcyqyzXE3dnMySibZBkpSvZ\n",
       "p7BFmr439fjW5p0z0f/hCwkbm1lMsOiUGn6ycrXdTcH+g9NpqYk+mv0QJKJVplTEkCjbef6V4PlE\n",
       "2c2QZA+X5KP+lrFhQCa2q8XDg5GnccqcHNWpZkrVv6tjGyfftNtUyxPSQ580+yYkwkyEfYQkZ8P/\n",
       "PoneConRWg/JgmZKVwHTjenLiS3zYB/dtCeXppT4MLIOiZkp1SKTl3K93erhtby6JIM+T209uyVp\n",
       "jciwDv0cB+dGNP+QVmzFSev1fv6yvNxN3YCMvSv7xm+Vc5dEZRP8n4a/6lQpniMUs8qIW5Ll6Ua2\n",
       "6jwrNfoks9xp3+7BS0pyu+ySvLR1sUHf+GK9F0iGetw+3NbHYR/LyuY94azd+tQHcWKrJXmCRIQ5\n",
       "rn1nK/fhcFrRzZbdY2W1EZLPjqsYey1dgUTV3ZI3/6gmU0ff7odLop8pGvWRGyzJ39NYkpqQ1D65\n",
       "5kIUQxbWNmjoJAISHQZJb7bbKVy9dYjUCAk3RNNNUjZDKPnDuViCpPUsiuaVmpze7tut3fJsM+rz\n",
       "1Naz+yRNiqRLlgyHfcaUMS+4rO1lPc5aCGHq/+RRkJT2MYXzdyPdTYX9dJOWRI5rrYROuFR2TKYt\n",
       "Q9K9VZMB79s9pACHSFxNXJJOn7T8JZ8kyauHys0IqrH1tTpacelnSYqn/IgJnG76CJGxl6/1eZU2\n",
       "zzN4AEIThcB1xczaZiN6P308K1UMkOjqFZIhsm2n2XwIux7HyEZ9hD4lJNrly/UGVbrDPjKdQlKj\n",
       "YUsPSPI6NHRMP/ICdbDIQyApTJ8LSz/0lKzt2xBnmNHQDTrlWRgk9TtVMtumR4sXpYp+uY+VVW9f\n",
       "JpAUw191ycSIt+nXzUZ9jDwhJKxZjmTpu3qdL5VmZSu8g0Tpwa3daEl8cirvnBL/nHRuYvpxMSHT\n",
       "rMZ9ztlO/YuVdnP1tq2/s5+kO+xT6CdLUrtv1itPQgRJwGqdSMkhYVmRGi9IVtqt37f1d7YvDod9\n",
       "Hr/uUsqWUQ28V9nSd+9CxEL2KiTcOWe9IFlu96tj9drW37Ek3WGfWoFimF+75Np3IFG+Y17m9JAk\n",
       "otqQjH6CZLHd9kNbf2/7otKNTyJ3GHivsrnffkQbuck1ePtirjOnrVe7Z23FHtfAsgcLdsvvCwkO\n",
       "Z50dEhzOuiwkOJwFSOCTABJAAkgACSABJIAEkAASQAJIbgEJ7gUGJLAkx0Byp2+EBiRhcqvvlgck\n",
       "oZRguvkVSDYfuPIsC5/kC4eziOrBcT0MEizwARL4JIAEkCC6ASS/YUmQJwEkmG4ACSBBdANIYEkA\n",
       "CSABJIAEkACSgyHB4ayzQ4LDWYhuMN3AkgASQAJIAAkgASSABJAAEkACSADJL0OCw1mABJYEkAAS\n",
       "QAJIAAkgIYYEh7PODwkOZ10WEizwARL4JIAEkAASQAJIAAkgASSABNENIIElASSABJAAEkACSADJ\n",
       "gjI4nHV2SHA4C9ENphtYEkDiKYtbDQpAAkgmopfuKy4LQAJIPkDCxSUhgU9CCUliLgnJv4AkGhI5\n",
       "mmPNAQkgWYKE29GdLeGTAJIPkCRZDkgAyQdIuAYkgOQDJPGuKyC5PiRCApITQ3Ls4awWEmEaqar2\n",
       "D9apw8bODZOvQrIoOJxFbEminRJYkutPN9HhzQkhsYCEFJL4RMnpIDFOABJSSOJTrqeDhBFeDAZI\n",
       "SCLg80EiqQYIkPR/FdeDpJ5vLCCJhWSywFfmF4REukoBkkhIJuF8llwQkkQ7BkjIILHpJSGpfVcB\n",
       "SALELu1UZMk1IUkskS3Bbvl9x+m7H57zq0CCw1ln/3AczgIkmG4ACSABJIAEkAASQAJIAAkgASSA\n",
       "BJAAEkACSAAJIAEkgASQABJAMhl4uUtZQAJLAkgACSA5GSSH1ptJ5XEcsSI8ughItosMHGwJSADJ\n",
       "YZAYj4E3gOSekGQeZ4gywkPQgGS7cFcdWm8mpdO7lAUkdJI6c2i9mfgcDmGEJ+UByXaxgYfPLdWh\n",
       "deFxNkSQnUkDJD6iXXlovagHkX0oIPF8kcWh9RbmrWyXsoCETsrAgKGkCjSkhwcsqbxlQOIZgfJD\n",
       "680k94ilc4K4e/YtE8VdIAnXvHJhnRRab0FDl+9Sds2veV1ILoubQBKueeg6Hd2XLRmP9X8Tv1dg\n",
       "1lVc3BWSrZrngbN8TucdMI9cO4vPy8+/ocTcFZKtmsvAeEHSxRnWI06y8THVvKs0vyskGzW3gYlu\n",
       "S5cg9+GNgM15V+XlXSHZqDkLDFIY3fYf5RGyqPjwZuELseJvu/lRSDZqbgL9T0P3JaH1s/Jdyr7p\n",
       "KmVF69ywVguu7wNJgOYq0P9UlFkt7eGN6mjPte0qnfBGgdSRua6/AkmA5jxwxYxTrrRJj4fJ6A9u\n",
       "uqrgiWi6h/UejpB3gSRE8xO4JEmTmNun7GpX1aa2alYVqn5pIf62mzPed/PatPea03d5RdonwiN7\n",
       "K2IzvZ37JhufKh+eReCU/Izj6q15EWi8C9p9HdIjnpaxsXfXVa3NtY4uvPkZSLw1t4GzhiU+/1JV\n",
       "+5Rd76qyobwsk1QRJUp+BhJvzbPADs+IV+ytx5KMjVy+6d+nuquKSietWaJIuf6OJfHUvAg03QX5\n",
       "fmSf6Styquu6SjFtec66bxE3yY0g8dWcBWbEGGEmbUh/qF3KrnbVUzwv7gSJp+Yq8J1U9NuRlYdt\n",
       "UnF2bN5VBLfd/Cgk5Ra3Nax3rMvJ1bQe5sFGmZJZV6ksuSkkWzSvAs1stcfhF6P3Kfu5qyzJ0VH3\n",
       "VdlN89AX0pJ7JO306GGeeIwpm914c9qjPOTW2l9zFbhUpnY6tC3KfcpCIoSVx9b7PImk+5SFBIsM\n",
       "vOpRVmqnFhUeTy52awVk+i7KY+tt4S/fpywkNDEhCer9H/rmkZHQy+xTAAAAAElFTkSuQmCC\n",
       "\" style=\"display:inline;vertical-align:middle;\" /></a><br>"
      ],
      "text/plain": [
       "<IPython.core.display.HTML object>"
      ]
     },
     "metadata": {},
     "output_type": "display_data"
    }
   ],
   "source": [
    "_psi_t_output = Forall(t, Equals(Prob(_psi_t_circuit.literals_as_variables(_t)), one), \n",
    "                       domain=NaturalPos)"
   ]
  },
  {
   "cell_type": "markdown",
   "metadata": {},
   "source": [
    "For the `_Psi_output` theorem below, the circuit output $\\lvert \\Psi \\rangle$ is defined in the QPE axioms as the result of the inverse quantum Fourier transform applied to the initial-stage output $\\lvert \\psi \\rangle$:\n",
    "\n",
    "$\\lvert \\Psi \\rangle = \\text{FT}^{\\dagger} \\lvert \\psi \\rangle$"
   ]
  },
  {
   "cell_type": "code",
   "execution_count": 8,
   "metadata": {},
   "outputs": [
    {
     "data": {
      "text/html": [
       "<strong id=\"_Psi_output\"><a class=\"ProveItLink\" href=\"proofs/_Psi_output/thm_proof.ipynb\">_Psi_output</a> (conjecture with conjecture-based proof):<br></strong> <a class=\"ProveItLink\" href=\"../__pv_it/theorems/b0e817c48c3002c03c27ced9a1b1585da2d97f640/theorem_expr.ipynb\"><img src=\"data:image/png;base64,iVBORw0KGgoAAAANSUhEUgAAAbgAAAESCAMAAAC4kzAJAAAAQlBMVEX///8AAAAAAAAAAAAAAAAA\n",
       "AAAAAAAAAAAAAAAAAAAAAAAAAAAAAAAAAAAAAAAAAAAAAAAAAAAAAAAAAAAAAAAAAACGKEuzAAAA\n",
       "FXRSTlMAIqvdu2Yy782JRFQQdplsYK+FpUBhKRSJAAAACXBIWXMAAA7EAAAOxAGVKw4bAAAL+UlE\n",
       "QVR42u2d62KruA6FwQaMr3PaGb//q55wK4GQBLAgjln+053uFCQ+ZMmyEFm2etQqw6AfOTfHnsAx\n",
       "XORDhjz2wmphcI2PGaI88ODm0KMnMIze/afK58fJxer9k/jSL6vEuJW+CLi4xWFyVX5/ZCKX/rQg\n",
       "IOc/MZ4EAD7EUeVeHwWu3m9wy+C0IwD3ActaPqf1YTZT8KMikwCDWwaX8YTAKe/DIrfK24MMLuQy\n",
       "34FTY4QjdTrguJeBhy3EQR7O0oDT43HyIhlwwQbXTGmHeDkWJNgyuKzOUwHHfB1+3PoAYU2Y630C\n",
       "TstUwHHvCGzjgAVSGWbHT8CFhyexgPMEoYUKdpNLnjNsCn8GzimAuzsIfXhifJhttOAcb4YQ7Y9u\n",
       "sVqx0JX0J8AtjpLCOsjnyjLQip9ZXLCTi8fiCMBZ+rmSeXUIuOCwMilwFX1cKQIv0BNw4Qu5pMBl\n",
       "4YtBYhf3DFx46iQtcLUnrjDQgQnUZ+B4lg64X4IjO+p8pQv1msvgCLYH4gH3L0kMSLwrV4em0ZaT\n",
       "zEUOcLPohHglJ0IXGIvbOqbOEgJHMVUa6nVpcLSzCM6WKYEraS406RI8D74R7JI8LAO42eC0Wzva\n",
       "8yzSkdZUeQsmSMNKe8hOUWLgSCyO0Sa9pC8A7hRwYZViC/cBA7hTwEnaua0g2N4FuHXgSKOJGuBO\n",
       "AmdpV+D8iD11RJULo6RdgQuAO8niyMFZgDsFnKYGVwLcN4LzAHcSOEUN7h+AOwXcf7TFC97/D+BO\n",
       "iSrJwWmAO8XiKoADOIADOIADOIADOIC7MrifnwrgYHEAB3AAB3AAdxo495MD3CngzM9PBos7F9xv\n",
       "hBYXDu6wtoeYKo8Fd1zbQ4A7H1xKbQ8vBS6ltocXAJdm28MLgEuz7WGqUWXybQ+vZXEJtT28GLiU\n",
       "2h5eC1xCbQ/jBPcPBbiXbQ8Brhn/fYvFjU7u6/tVXiqqRNvDLwWHtodfCg5tD78UXEptD68ELqm2\n",
       "h1dKMifV9jD5qHIcabU9vNB+HNoexg8ObQ+/FNypFxHgAO7LwaEg9ixwKIg9+5x4zApTJcABHMAB\n",
       "HMABHMABHAW4X4CDxQEcwAEcwAHcieDQIfYccGg0iqgS4ODjAA7gAA7gAA7gAA5RJcDB4gAO4AAO\n",
       "4AAO4BIEh4LYs8ChIPbsc6IgFlMlwH0M3P5GxgD3UXD7GxkDXBTgNCuEKFh38VZ1KgC4WCxOiL9/\n",
       "coCLEtzvDJyWzdzIG1y5bKiu6cYDcBFYXC0GcJw3NNb0v4oaHHfXACd91YEzvtN4Rce5mMEZX18D\n",
       "XNlctQZc5btmSisaGUdtcSa7Bjjd/KoBp4b/4+eDQ0HsdnDtDNmAs75fwr1vZIyC2M9Hlbclt+jA\n",
       "8cE3vG9kjKgyhnWcqV0DTvKBxXsnB3BxLMAt84KNbR7fh5WIKmPJnPC7gGTFQg7ruFjAeXH3a/3d\n",
       "4K4zVWpWez8kmVclKwEuhqhyNtZsDwBcLFPl3VjTyBjg4gO3qpExwMUHblUjY4D7KLj9jYyRq/wo\n",
       "uP0DucqPRpX7B6bKL7W4T4LbVq3+8deQ5du/kCY4u804lf0suPfiPkoYD7icce8ZY0VRhoJb+Z7h\n",
       "XEpXqNVR8npwljnX5+OnWlWMC3H7xGohyqm4zRd5m5hiwtf2bRwfA7iq3yuqfBut5qIOAzesMg1/\n",
       "OQWZJvuju6PWhg5cxdv7xvJqQSvVfcpMIefiSt+vvOzkvuu1mEv4cXCGubr/Xt4rVXoZBM714uvX\n",
       "57fNAfv9ndKRgcv7qpyhWGCq1fDppvdc3Ho4jJuI3WsxlzAGi7MzcJXnQeCGTQz3OhOuRHOH9xtz\n",
       "wlCBq//2ULptsKlWf+AyNxfXF4ur5EGLmYQxPGY1B6cWdzlXg9PDX/MVrk73N2k93qusn2DXvzvV\n",
       "Tw4oR73sg1bdJ3W7ZfRMXDVYqpmKPWhRl9FbnLwhUrWwWt5vs68G51pNFSt8wd6Fi4r3qsrxNs87\n",
       "59T/2AqOjWJWd6g6rYZPVs3F7UtX20nx7j/vtJAscnDGdgGXcDq/F2Q1uPrPxb2V0DI2XK07I2+R\n",
       "beA2uYi1V6O3Ew9a3X53iym9ehSXi/kcOtWirD8FrnvnfT/YIjgupRwWNW3d9J6pkvffc2u2MPqo\n",
       "MtMim5Dbwu05OP6gVYsxL9SDuObP+c1c3KDFRMLYLO7eq9SzTPbqh/eFenBxpr67Z6ZERHfyahoZ\n",
       "8qfcFl94vzxVqlafqVajjxuyIb24g7PNcrvo4mYSLstx8sP7T8C5ncFJfyWMf1OyW7Vsiu6wSqwE\n",
       "9z44caNe5RNw5qZwXk7E/XNxcnJ/jlqoNRb3G4PFyZ3g+rmndQ7mZQ7NjOA0J5oq29LhTOk/r7UE\n",
       "rvVZ1URc6RdnylELzSP2cSTgCvvnHPSrqy/Y3VRZFkTByU0LmWll7LgAXwZXT8UdsgX9YsTcubhO\n",
       "i7KI1sdVk/Ub3ztV9nEzY7dQ7tX3yvLOtThJtBy4/WFtbVNO1c+BU62qAZwUU3E715D3Ue5fwe6o\n",
       "hZPRgZM+b2WuvWfybwFzi5v1LnAV79fP5Rs1lHNuiO/46BCHFUJe7wN3uxNvS6824VHNtKr6lDMr\n",
       "xJ8dVsMUKAvm7Jh1MTMtuIoMHGuy4ez9GdenvPj2xE/OQzRdXDA2ueFiv7javJYwxf24HRljV5KD\n",
       "Y3VV8v3iyjcSJlm6UGzd0l6fllwPTt+WVXa3uHP3/CBhkjvgZiuHIqcHlznB9otr30mYZulCvq0W\n",
       "wQYWnYSWLrwX91FCNGGjEC2Sc+JtVtcGh4LY88GhIBZTJcABHMABHMABHMABHMBdFBzeOwCLixZc\n",
       "+p2F0gR3gV5eiVpc+h1iowGHt1mdBQ5vszofHJLMmCoBDuAQVQIc1nGYKgEO4BBVwuIADuAADuAA\n",
       "DgWxAPc4UBCLqBLg4OMADuAADuAADuAADuAA7qRzoiAWFgdwAAdwAAdwZ4JDQexZ4FAQez44JJkx\n",
       "VQIcwAEcwAEcwAEcwCGqhMUBHMABHMABHApiAe5xoCAWUSXAXdrHLW4LVQAXPTi59CbAogK4rwSn\n",
       "XUrgfq8DLuMpgfs3dXBqnFOkBrjvAafHt9kEvskKPu5T4LI6B7ivBKclwH0luPDwBOA+A84pgDsQ\n",
       "XHhBbAuuexu5EHdvI6/YqPm+8QlwiyPNgthnFhfs5GBxnwEXHFbGA85eCVz4Qi4WcNy7K4ELT53E\n",
       "Ao7R9L39FnA8SwWcorniXwKOYHsgFnC3udImDu4uyVzk6YBTXpi0wd0tWuosHXCZ9Owq4GyZErhb\n",
       "fOLSA2eXqhRYlhS4zIbbHKq8PnLOXEcHDgWx55wTBbFfek5MlQAHcAAHcAAHcAAHcAAHcAAHcAAH\n",
       "cAAHcAAHcK/BKYCDxQEcwKUIjvJwgqa+GuDeDgVwAJc1NYMA95XgaponGgDu7dBeUB6u8BLgTjln\n",
       "6Tnl4RjNoygA93ZYmmdHhuEoinQBbsWQvoj4cAD3wkRI57aS1oAB7kU0QRoGKtpYB+BexO+kOaqc\n",
       "YHXx8ERVlTK4vdoKX9GK6oOfZHt4XqeoEga3V1vaHHOTOlHk4LS7Erh12ubUPomF57wen5DjVwK3\n",
       "TltFHQXa8Cj1URWprwRulbaWOkVFcCc8qpIXVwK3SltGvfFpwsPKhYeJ6/xC4FZpy4ljk+aIJG3Y\n",
       "jHWts2StfFqmDW6ztoZ+vSyDo5NWFZnpRrTSk4UnMYPbrK2mzwmr4EM2qlQ6c434rPeYTqUMbru2\n",
       "7IDaHuEJwN2mDNHk4kSfkAvvVhlRv8qJOK+1PewiLwwXmovp3LVqvG8+HIvAyUUdnGzUtjpi90yF\n",
       "rjA6Vdq5w3q6sDJqcBu1tYdUQQpBAa5o7qmiyEpDtJCLGtxGbetD9mBsYLqyvwdvqlRCZpIqdRK3\n",
       "xW3StjqosidwAu5UMUxanbOuQxTPEge3TVtGvvoelnImHNxk1eJSB7dJW3NUYY8Js+RHVQi6VX4R\n",
       "uOJ9aJIfJK8NMrkHVUydXQjce23FcSWQXFKCsyRl7f4T4wht7UEerp2mQ4z5oWNltKWaJLPTVm3N\n",
       "oY9nuCLDOGawYy8tL3GJDxlKmEOPXx18/MsOfvRD9irHRT5iqbWP2/8BS/Yp/5PWfhAAAAAASUVO\n",
       "RK5CYII=\n",
       "\" style=\"display:inline;vertical-align:middle;\" /></a><br>"
      ],
      "text/plain": [
       "<IPython.core.display.HTML object>"
      ]
     },
     "metadata": {},
     "output_type": "display_data"
    }
   ],
   "source": [
    "_Psi_output = Equals(Prob(_Psi_circuit), one)"
   ]
  },
  {
   "cell_type": "markdown",
   "metadata": {},
   "source": [
    "### Establish the probabilistic sample space $\\Omega$ of measurement outcomes."
   ]
  },
  {
   "cell_type": "code",
   "execution_count": 9,
   "metadata": {},
   "outputs": [
    {
     "data": {
      "text/html": [
       "<strong id=\"_sample_space_bijection\"><a class=\"ProveItLink\" href=\"proofs/_sample_space_bijection/thm_proof.ipynb\">_sample_space_bijection</a> (conjecture with conjecture-based proof):<br></strong> <a class=\"ProveItLink\" href=\"../__pv_it/theorems/1900faf19841c8766862ab6669f1447534c4b2720/theorem_expr.ipynb\"><img src=\"data:image/png;base64,iVBORw0KGgoAAAANSUhEUgAAA0AAAAETCAMAAAAoOJYAAAAAllBMVEX///8AAAAAAAAAAAAAAAAA\n",
       "AAAAAAAAAAAAAAAAAAAAAAAAAAAAAAAAAAAAAAAAAAAAAAAAAAAAAAAAAAAAAAAAAAAAAAAAAAAA\n",
       "AAAAAAAAAAAAAAAAAAAAAAAAAAAAAAAAAAAAAAAAAAAAAAAAAAAAAAAAAAAAAAAAAAAAAAAAAAAA\n",
       "AAAAAAAAAAAAAAAAAAAAAAAAAAA2JatpAAAAMXRSTlMAMquJZkQiECClQDB2u1Tv3ZnN8+m5w2yv\n",
       "4dfb48HR1dnlcIX3qZF8+ZdeYKGT51D7uV90iwAAAAlwSFlzAAAOxAAADsQBlSsOGwAAFnJJREFU\n",
       "eNrt3Xu/46h5B3AJBOzOggQk3c7sNk2TST7dXNpG7//N1brZQpJtDFjW5cc/s+esj4we+IqLEMry\n",
       "uk0ki06WZUjhqfZKn84l12LyG72NjH0s5TUtLim+8hsCBFGAkn3orYlOi7mpPQU5MyCe5DhlJYDg\n",
       "BICyqlj4ZQFAkUksxhXpeIDYUoUBoNhEbHi3ejFbADS+PPE0gESZoqgVACUHlNfhgyi69KcqgaD6\n",
       "E+ktgK7RiKunRa1SzCPUJQClBmTDG6BlQKVZqVP0iY7Yq3/JSJJTMnWaeR6lASgxoDKiAVoGlGkA\n",
       "ul2eeIpTkknan7bKSABKC8jGVPcRIHabiaAlAA21k6Y4JVbXqeZJVQVASQEtXJLCAJW343AFQH36\n",
       "9lOKU9I1TXWS5WwUBEBRiURd25YBjfotJwdEf8kTHD5hA3TJhgWghIBEXOf6DqCSAlAb3V9JisOT\n",
       "2qY7S1LnAJQOUFGXbwAUP41wDEDkV57i8Lo26c6STbuDABQ1pozrHNwDZBgAZdkXTdMcPmqcOjta\n",
       "BUDJAIk6rq1oARndpKpq/+n6LDkBoCz7w+/FBgGpSR8OgKJ6cDQe0EILdBsErb4qIAJQmjUM9/5H\n",
       "zBqJlIsV5aTMAShqRMneAih6Gm6nLZBj5j//6Pwc0wIVSWuNBaBUgKrI4N0BFH8jaJeA3Ban+C/m\n",
       "/HIrgLLJpDgAfW4IdA9Q/FKEPQKa9Dv/9Idrhd0WIOt2OwAoPJWxS6zuANLZCQFN/NA/85GASEDf\n",
       "U56nceckACgmlPQdgBIsx94doOm0h7AugThAP6Y8z8mTEQAU05iXyQCNFpMqfjpAs2lDwmbEtgIo\n",
       "d+8EAVDMHEKeDNC9i++JJhHGRaNSHj4tIOFqB6CIKhO7SHERkCwASPCkgL6nPVHnuglAwYlH36+U\n",
       "Sy0YyQAo7eHTzsJl2um5A1BwKmu91VMDoDcCss40HACFtx8pl8kD0NsO//Vr2o2OiDP5CkDhI5hU\n",
       "T9oD0K5aIHeHEgCKuBIRADohIOr0PAAoOKmUD2qdGtCbt51LDkgDUApAFoA+/Z0fASSdO6kAFJwS\n",
       "bvYCQDsCVLirxgEoNFUAtBNA3wFom4AkAJ2wBSoBKBWgAoAACIC2UjAAtA9ADIBSASoB6ISAcmcR\n",
       "8YkB/fDjD1F//28//wRAJwT0w88/j3768uNpAaEFOgug74nrDVogAEILBEAABEAABEAABEAABEAA\n",
       "BEAABEAABEAANC0nzMIBEAChBQIgAAIgAAKg1N+5s0e6AQiANgZoX490A1CfvtQ/RQL6dwA6YQv0\n",
       "xQH032iB0AIBEFogAAKgOyn1xooAtBlAi9+fA9AoXbeZRwsEQLO0+HYGlQPQQjQACID8ACV4Qd1x\n",
       "ADGCMRAAvQYowStSjwPIcgACIB9Ao1c8xr+k+zCA/mwyAAIgH0CjlwxzBUB9+suXJICwmPRUgEb9\n",
       "lpMD+qtNcni0QCcDVFIAapL4CwcgAHodUPw0wjEA2b9mAARAAYAMA6As+/KbAKAtJ1HEvaXefOUp\n",
       "ABndpKpq/+lue+S3ux+B6ROAwtPikbL/+FuiwycGJL5+Hf3Ei9MC2m4LFD0I2m8LdAU1pYVZOADy\n",
       "BhQ9DbdTQI6Y6u/OL9CFAyBfQPE3gnYJyO3Kff/m/haAAMgXUPxShD0CmgyFvv3kNksABEC+gHR2\n",
       "PkDTmQRajAMNQADkDyjBcuzdAZr6EdaNNAAB0GNAo8Wkip8O0Gwmm7AZsYhywizc8QHdu/ieaBJh\n",
       "XDQq5eHRAp0KkCwASHAAAqDnSS49vU0yAEp7eAA6KqANVmYAAiDfhI0VASis3mBjRbRApwKEWTgA\n",
       "AiB04QAIgO4EEpvLAxAAbTYYAARAAARAAARAAARAAARAAARAJwKE15sAEAChBQIgAAIgAAIgAAIg\n",
       "AAIgAIpOn99YEYD2CAgbK6IFOhkgLCYFIABCFw6AAAiAAAiAAAiAAAiAAAiAdgeoTpsACIBOA0gU\n",
       "xGqb9Cu51ur5y8gwCwdA+wdUWitzkf5bBaOacLRAAHRoQLk14o0FaYkAIAA6LiCp3rxmg2kGQAB0\n",
       "VEDEvP3LhS0AaO2EjRXX+c5f/rHG1/9TrQUIGyuiBVrzO8lKUaL0bjlhFg6AdgtI0rUyoEp04QDo\n",
       "aICEXi0D974KgABov4DMijG682YlB9CdIs8BCIC2CEjYNbOgnwOiy/PdKgcgANogoGLV5zWXl/X4\n",
       "AHrlxc4ABECrfacSa2aBmVBAmQYgANogILtuHhYZOBsr3gNESwACoM0B4mTdPNjgFogrANo3IG0O\n",
       "CIjRdYOx2GP0ApRZDkB7BiRqe0BAtVw3GKb2AsQkEZxKJbOcUtWRKikA7boFEtkRAYl1g8H9ANFM\n",
       "Edk4LS4/ldWL0wgANJQSNlZ8O6BNZGIKiLFMq5abHAno58Cfd+WwsSImEU4G6LsLSFzankZL2bYk\n",
       "pu8u5qTrPaIFAiAAejKJULaf6+hU/eCnGwSVFoAACICeACItE92QYZdaIIa+G6fa0hyAdgjooLNw\n",
       "awfDE1Db6nT9uIuldhjT3wiypUe9AaANtkCHvA9Urx0MP0C8zq9VX9Gs7bv1SxE85g0BCF24k3fh\n",
       "WDtlLVulzMi2GnSz2KzKAAiAAMgtp+/TLtw89cuxJcnEW8ZAZbOR6lFmvE1zMgKAzjuJME/9xltG\n",
       "ZlS8BRDJjpUqAAKg0bTFcDPIFE8frdszIFGMp2fM008AEAB5AZIv9K52DCiXcrxiST/9BAABkAtI\n",
       "Ljcwr1TvXXfhyhEPWT37xGNA2FjxhIASpKCNFVMBsjwZIEZq2gz4ZCHH474SLRAATcppAxsrJgIk\n",
       "YiM65pG3LVDzOMd4RzAAAqD3tkCfBFTa1IDy7nay3Dqg176KfxoQf/0DLwB6XzD2AEgwFloqPkv1\n",
       "hs+W/C4gVdc17QEVbTNETP+7rQKSrzVWTH4W0PPsznPoD+iNwdgBIGlZ+HNo9oW9T8jSA+6TFkgU\n",
       "XQtkN94CeT4vzCk13RPGskgKSBJjSBcjTnRdE0KUKtoo66q6/ERsVRVudpsP6nZneFLVdlaJZzn0\n",
       "BvTOYGwfUDn8MaXSeFZAbozttn70Waqnh88o8hjQZUCV561JXomngEojpSTsI4CG23RCP/xGYdoA\n",
       "t0e1Ih2gvF23n0md9xWgDSyv2lyx7qdMKDrNLq37cLkbxPdnMc2hL6DrZqWPoxEWjO0DovrWljyp\n",
       "D1c/aiiMp0v1BDH2mjuq5xclW9PbtZCapmCpHEmefOL2l7Ztz4QdymJVQKaYXH3udJyaA/ZL+QuT\n",
       "DBAftvaQ7SLky8+kL3o6+ukS+2l27XAY9/2M/VlMc+gLaDj6k2iEBWP7s3B9rS7af6jXZlrdO2Cr\n",
       "ym+pnnwAKDzpvo26PmnyMiDJwwEN1w3z+IxY1Vzx+xxWIhUge71saT0GlNd6DOi2sGP4fD0Ur9sV\n",
       "GM5ikkNfQFXmFY2wYGyjBZJKX5J9BKjrXpVeu65U7afIpbr6LNVLBMit77Ieagfpo+kDyL3ummBA\n",
       "17lH7dH7L/sMjt5ZOLyF2n/zv9o5IL2FQY7IsLZ2dj81E0PlJLtsaLmEm+3hLCZvVfQEdJuI9YjG\n",
       "y8HYAiBmpXjaAnUVMveqQkR3NTf3WqqXCJBb39U1hrKvPWNAS9uEtSXs1ptgQG1PM2NE1Yo8m1Fi\n",
       "us8pvV32eTd46f95FRC5ZTMfkWl61eX1J8mm2W3+f/99xeh/js6CkhBA/dG9ovF6MDYAiC+O2CaA\n",
       "xADIP2vac2o1VRfO+WM7AqRmgBa3CZuRKVUoIHsdAj0tG0nIUGtHPYC2trzgx6lHtma30VB1JSNk\n",
       "N+12+R0ho8/csqurad/OPYvJsl1PQLbIPKMREowNAFpebHMF1O1kwrtuQe6/86T3R2+AZBVzmk59\n",
       "p9dujOnzMQK0vE3YvM2Rk3l1b0C6HMfuaa+l+3Q5PvtLfXnFz31A3ahHU0qHmzEtJz5qd4fsiuvg\n",
       "aDIEGs6irEIADcHwisbLwdgCoIeTCHy4bPWAvPdD1b5LGW6AeNxSmXF959ddKnR/+AugYWPF5W3C\n",
       "Lul3v9dOqmvnFrL3xooVm3X6hR0dN18YMvZLLG6V5q6feiktd+FY3V0olDNHN4yBhlv+fXaH8UfG\n",
       "5eIQaJLDp/mYBMMvGkmCkRjQ440V82o4ETUHxIll/dWJOsPM58OA2ZDvXtBugDJBbjdeu49/++1f\n",
       "TfpT+9+/XP/822/Nb373r9v/nNZ32h/1OqXrTCIsbRM2b4GYZWEtUDUE7ckSjjzvxmtlNwvlWWee\n",
       "TyKYW2yLO4CEuFWFPrvXIRB1rhO3s2BBLdAA6Fk0woKxlAnn9SZvb4GEetQC5aa/rHeFUvpWocJ/\n",
       "Kd0IELUs4jzd+t4PR+XQvjiAlrYJmwHKZ3cOX+zCtUwfTUJ2BdPXGeeGcEwXLlNN7WPldVSzBKgt\n",
       "pNzJLq0Xe3C3s5jcsn6xC/csGmHB2EAXTj/swg3LA5Tq/thvfr5bGsJfBFTWMbdCnPp+0dLJ0bzv\n",
       "qDiAFrYJm4diNjj0BtQvdW1auPKRgoqMei2FSjSJ0Pa3Sybk7UbqMiDrZncIfz9vLEZDl+4sChUC\n",
       "aFj3+ywaYcHYACAps+ezcP0aTuO3uDrvVpKIFwHRqEkEp75fMkCaw3KTdbuAOYCWtglr2zAnAuH3\n",
       "gfpJWEIy8bDL275QdBh6GJpoGruZWG0KtTR97yl3ti3MB0DXcA9zxta0vfa873H1f3Q7C0NDAA1H\n",
       "fxaNsGBs4T7Q4oLP2VKepiUWVT7uG9vJf9xO2TTJc1KaXtuFhPeBSFG2y8AZLftlIc59oIVtwub5\n",
       "yoMB5d2JcPXslbvsEqZhPkzf+A6TudyGAWomVIhsCyBvxrF1Ta4TAf3SUqKqa7uUD3GniphrHdf9\n",
       "GsXbWWgWAmg4+tNoBAVjC4AEUfP11jNAwlBJnDp13U1yuq2k7qZCvEqfNCt/SREPyK3vtO5qe3H5\n",
       "V867cGHJfymPfn0Uy6Nugi3eYmlWLqrw7JbicQ59l/K8NRjbWMrDqHq2lGeN9NavWhVQwMpQUyQH\n",
       "RGxe6PDs0ic59AX01mDsZjEpAL30PJB69ZteeOetN6Dy2vyGZHc6YJnl0Pt5oHcGY/uPM8QtD3jt\n",
       "uuPd5TdbByRe9aB4ekCZqUh4duWzHHoDemcwtg+Ir7aThqi8z1tvHdD0bv6zJCM3RYh9pPt5dhee\n",
       "7vDOxxuDsYNHurkhaxDi1P9rQlpF7MqzxndiV545oA2kbic4oXReSnJ3g7ingLCxIgCFpI9urJgi\n",
       "DTvBtb3J5q7V8gZxaIEAqC+n42ysmCb/LRd5ASS6lSHLG8QBEAChC7eQhp3gLoCaf+VkgzgAAiAA\n",
       "et4CWekAWtggDoAACICW0rATXAtIyXsbxAEQAAHQYup2ghOkNpeOW/PUz8IGcQAEQJsChHekAtBu\n",
       "AW1gFu6ICYDQAgEQAAEQAAHQ/CmqUwMKDgYAnRWQqC0AxQcDgE7bAokMgOKDAUArpmFjxdDkvbEi\n",
       "xkCHGgM93lgRLRAmEQ4GaN2NFQEIgBICEuvmgaMLB0BHAlTKdfNgcgA6KaBjzsIxum4wlt5LDUDn\n",
       "aIEOeR+Ik3WDsbzZIgChC7dTQJldNw8agADoUIDUqrMIzCyXExaTAtBOAclV75IYhhYIgA4FSKza\n",
       "h9MZAAHQoQBlZsUY3WnuAAiA9gtoxSbo3p5mAPSmhI0V1/hOSdfKgCrXARS0sSJaILRAgd+pVooS\n",
       "pXfLCbNwALRfQNkf/7HG1/+Pul9O6MIB0I4BZeT9vTjxYEtaAAKgfQPKqHrzk1NMswyAAOiogDJm\n",
       "zRuXJOSK8AyAAOi4gLKstFa+oxkSObWEPyknAAKgvQNqnqAntn9he7KktX1+pxazcAB0BECfCwZa\n",
       "IAACIAACIAACIAACIAACoDZhLRwAhdUbrIVDC3QqQJiFAyAAQhcOgAAIgAAIgAAIgAAIgAAIgAAI\n",
       "gAAIgAAIgABosxUJrzcBIABCCwRAAARAAARA6b/T79kfAAIgAAr/SwDaXMJLhgEoqN7gJcNogc4F\n",
       "CItJAeisgARHFw6A7qXF788BaJRUDkAAdC9R9qjKAFCWMYIuHAC9Bqg0AHRNlqcA9CMAnQjQnfes\n",
       "nRJQQTMAAiAfQOzWT6clAPXp208ABEBegMrb2wW4AqA+Pr/kSQBhEuFUgEYd/3MDEr+SDIAA6GVA\n",
       "JQWgJpFfOQAB0OuA4qcRDgEo/4VmALTh9PmNFe8BMgyAsuyH/xWbBISNFbfVAhndpKpq/+k6/fnt\n",
       "9mFg+gSg8HTvMIkOjxbobF246EHQXlugsZr/q7KxoZgWSALQuQBFT8PtE5Db5FR/d34XfnhdGwA6\n",
       "FaD4G0F7BDTpd37/5rIKPzypLQCdClD8UoQdApqO226LELr/E3545lR4ADo+IJ2dD9DUDy2mHwjP\n",
       "mU47CAKgjQNKsBx7b4Bm04bCTo8dcUqsrgQAHRzQaDGp4qcDNB+3sJSnRGsCQAcHdPfie0pAuUp7\n",
       "SiTlRBwAbRuQLABI8MSnJBO2QQC0GUBy6eltkgFQ+lPiJQAdD9AGK/NRAWEMlD5hY0UACqo32FgR\n",
       "LRAAoQUCoMMA2uoCcwACoGN/JwABEAABEAABEAABEAABEAABEAABEAABEAABEAABEAABEAABEAAB\n",
       "EAABEAAB0KEAMQACIABCCwRAAARAALQeoAyAEgCq6gKATgiIARAAARAAfRyQBiAAAqDwZBPv+g9A\n",
       "+0hlXQFQCkCqpgB0QkBFrQEoBSCS+LUZALSPJJ23PQBQcDJJN4wFoL0kWisASgHIDSQAnaXeGKfn\n",
       "AUARfWELQCcEpJzJIwAKTsyZjQlLsxzkALQQleQpJu7WWYECQOGFkGCvstn28ioHoMyKd2c2Ju5V\n",
       "nQNQCkBZXfPkBVkaAMrbyRlaFOV6gF6Iu/vGSAAKTzr+eYb5C040AJkmKCbvIa0DyD/u3O25A1B4\n",
       "IvFreeYFScvTA2rrsrLFGztyEXFn7twRAIUnGX8ndV6QXJ0dUNebyqu64isC8o67dBegAFB4YvHz\n",
       "2AvvqLP85IBIM0bnIuNargjIO+7EfQwMgMKTiJ+GawtSSNP2BUnbZynpuQF174jVl8DQ/L2AwuKu\n",
       "nTkEAIqbReApCpJmZTUqCn1uQEXb7hTlOyfhIuIuJnf/ACimGKJnEZqCzMvMNIVH+g6hYacG9P6b\n",
       "QFFxLycrIAEoahBEEhTkpcJUzVW36rv8CWZvdwyIr7LAMDzukyEQAEWlqk5QkA1E0dxf6Lv8t854\n",
       "HZw+AWgPyS/urxQ5AMUkU+cpALU9CVm/OB10zBZIr5LZ4Ljn004HAMX14WiKglRNoSiVtbcOU/Rh\n",
       "9guImRUBBcRdTvcyA6C4PlyVoiANaW4c0qzVmGIpwn4BkXxFQAFxt9MCB6CoJCOXw3UFKQiVJScy\n",
       "T9WH2S+gdXpwwXHPZ10OAIqsNiRBQY5TkuXYuwVUyDUBvR53UgsASgqI1iJtQSp+ZkCr3AQKj7uY\n",
       "Xy8BKC6JuGmEWUEKm50YEF9rl4nAuMt5lQGg6FGQSFmQsjgzIFp+CpBf3Kt5Pw+Aooe9MU2QnE46\n",
       "JXqG7JM3KSPSavuEhcV96WIJQLGprHmGdIYklpY+AlB0Mgp16xSJLBU0ACXoxBWoXCdIrBIA5AJq\n",
       "U3y/O68Eqtfxk55OPOiPLdzdSJe2aFOCNwUzjIJOUF1mFaWrP6ftfvw/RpQCxoMqVuoAAAAASUVO\n",
       "RK5CYII=\n",
       "\" style=\"display:inline;vertical-align:middle;\" /></a><br>"
      ],
      "text/plain": [
       "<IPython.core.display.HTML object>"
      ]
     },
     "metadata": {},
     "output_type": "display_data"
    }
   ],
   "source": [
    "_sample_space_bijection = (\n",
    "    InSet(Lambda(_sample_space.instance_param, _sample_space.instance_expr), \n",
    "          Bijections(_sample_space.domain, _Omega)))"
   ]
  },
  {
   "cell_type": "code",
   "execution_count": 10,
   "metadata": {},
   "outputs": [
    {
     "data": {
      "text/html": [
       "<strong id=\"_outcome_prob\"><a class=\"ProveItLink\" href=\"proofs/_outcome_prob/thm_proof.ipynb\">_outcome_prob</a> (conjecture with conjecture-based proof):<br></strong> <a class=\"ProveItLink\" href=\"../__pv_it/theorems/376fdc6ac9d1978765fc836219a68ad6724d9fff0/theorem_expr.ipynb\"><img src=\"data:image/png;base64,iVBORw0KGgoAAAANSUhEUgAAAxEAAAETCAMAAAB+7nt2AAAAhFBMVEX///8AAAAAAAAAAAAAAAAA\n",
       "AAAAAAAAAAAAAAAAAAAAAAAAAAAAAAAAAAAAAAAAAAAAAAAAAAAAAAAAAAAAAAAAAAAAAAAAAAAA\n",
       "AAAAAAAAAAAAAAAAAAAAAAAAAAAAAAAAAAAAAAAAAAAAAAAAAAAAAAAAAAAAAAAAAAAAAAAAAAAA\n",
       "AAC9KDLhAAAAK3RSTlMAq1RmmUTNIjK7EInv3Xa5wzBsr+PhhVBel+fR1dnlwXClfOmN12ChkyBA\n",
       "d55lIAAAAAlwSFlzAAAOxAAADsQBlSsOGwAAFhdJREFUeNrtnY3W46p1hoUEAoGgZzqZyWlyTtK0\n",
       "SdqG+7+/Wn+fJVm2kQQySO9eK5l8Dsaw4dH+AUGWRSglC1EU8ijWTT7dTK5lwtXvF0pCFIUsEeGx\n",
       "VEhRJOXq90peywBFISkTkdVFytXvE+neOhl1R0CER2GWJ1z9PiFliKIPruPShwJETB443AsRMvcy\n",
       "Laqws66KdoyEZQGKPnqOS1+tfCBhPyBhiPhSxy4iCutlsnGbh5x2gavfI2UZoqgbETk9zBH5gO+z\n",
       "9puM+OgStZ6i1koH1WHg6neE1e7P/XyHiVgmItMgYvTA4R66ZKwvd0RYE9Y3MXESUeoQRV8Swe7h\n",
       "ucpBxJe3ozzUz6z1lg2s6rBGoo4SiBWk7oN6RER+r4dXIGKIh/8gPdSvrfLoPgR19fM4Iwni/kgh\n",
       "u54+y0SMPIWrE/Hjp4f6fZqIWzPKsFosIwRCunudcp+D+oSIXIGIVv5Y+6ifeJ1lxAZNjweufpsU\n",
       "7par2GfknhDhIbY+BxH1rz7q15Z67Cbz6IIdX/3G6MbdyFb77PEzIigDETcD/B8/vNRv/SZwbNjg\n",
       "18YXW0urAxR9TgTVjdR1+0+XNhcERNweN3/6FiMRVVi/porPbSrc7Vax08Q9sxH3QOL4BeTt89rP\n",
       "cvfTXuyo3uvGMxPWrzHxuU3Efc2NWBaEiP3JpkRtxJiCP//W/u3DRnglQoRNB4n4sk21DVF0DREe\n",
       "FiSSJGJiE4rf2fTDWIjIvCZzD68+6jDiGREeFq0TJGLm6f3lr9kUlGiIKG3QVyYDV79ecvclhnzv\n",
       "dpknROjsgkTMgFD/ybMpEjuI+Om1ozTs5iMa294m6h7Z0L1B0DIRPja/JkfEDAhZTuf0PiL+5jn1\n",
       "EvQ1hsDVbzFaeYCib4kY7fSr+PWImH+ZsLdFPkaECLtkIGJbkajd88H13tTx4m5wWWbXI2I+KyqP\n",
       "9fsmQobNbUtr4yJiRai/OyuwSIQpQITkXon46XuKiLAzMKo1Ou5OKN8Ns1nqOslAhNf6feeaMh12\n",
       "y7aOa0d47p5RzW2s7wCCiKBElGGzQWVcySbjvmRootzLDiLm8v27Zy+EhN1oQeLax6Hcc1/KViDi\n",
       "ijbC2zkGH6l+PaAkQFEQcSYiVFjnQMXle1Tur5dUXt9EuTIRYbfzBiBChyUiqvi0dJ/mJYj48E9+\n",
       "iAgTdg3NxLVEt+LcBh3jC4AgIjwRRdg1tCKuJbrafZrXICIRIn6CiD1EmABFQcSZbEQedsrmsRFR\n",
       "BCgKIkBEqkSsUJ8FEdckgoWdsiw2IvIARUHEmYgQYV/8FHG9V/pvv3wLUBREnImI//vll5DtDVw9\n",
       "bASI8J1rupaNABGwESACRIAIEAEiQASIABEgAkSACBABIkAEiJiME3JNIAJEwEaACBABIkDEKYhI\n",
       "7a1SEAEiAhOR2FulVyPi3wMUBRFnshH/Cjtl/wUbASLgNcFrAhGHEeH9BDMQEYyIxWPxBYgYy9eh\n",
       "yLARFyBi8WzwSoCIJXWAiKsS4eOKofMQwQjiiKsT4eMauvMQcb/IGERci4jRrVserio9CxHyv1QG\n",
       "Iq5JxOhmRg/XWZ+FiOov0gcR2OmXNhEjT+HiRLDfi8wHEbARiRORKxDRyp9/y0AEiPASW5+CiOJ3\n",
       "BiJARCOUgYhbWP3ff81AxMeFfucBir4igupG6rr9p8u+i3sSfqt84llifbW2++zH37mn+j0TIb9/\n",
       "D6nIwNUnaSP2BxLJ2og7IHNUkGu6MBH7k01pEjFBoP51+gm8pusS4WFBIkkiJibh54/ZhyDiukR4\n",
       "WLROkIhZNPHjWzYFBURclwidXZCIGRCqeCgAIq5KhI/Nr8kRMfu2LN+VABEnJ2K006/i1yNi/mXC\n",
       "3hZZMaTINSVIxNPH44Ui69GkqDzWDxuROBGmABGSg4hLEmGWXiAlGYjwWj+ISIeIGKcniAARM/Xh\n",
       "BDMQ8VpwghlsROJEINcEIkAEvCYQkSwRGU5CBhEg4sghBREgAkSACBABIkAEiAARIAJEgIh1gtPy\n",
       "QQSIgI0AESACRIAIEAEiQASIABGHyqEnmIGIJInACWawEYkTgZ1+IAJEwGsCESACRIAIEAEiQASI\n",
       "ABEg4jREWL8CIkBEskTIgpS69PubXOvq7fUzyDWBiAiJyMvSiBADLZnShMNGgIikiBAlDTqHSiJB\n",
       "BIhIhwhThV7dZ5qBCBCRChGEhv91WRYgIhAROMHM80/+45+H/P7/VEcRgRPMYCP2/CQ5SktKPRsn\n",
       "5JpARDxEGHVYC6ocXhOIiJ0IqY9rwZPfAhEgIiIi6JE6Wr56Y0rEk6yXABEg4oiflOWhbdDviVDL\n",
       "adpKgAgQccBPFsWhbVjc0eFExJrrMEEEiNj8k9WxY8voViLWXJkMIkDE5p8sD27E0ryenmD2jAiV\n",
       "gwgQEfwnOTm4EeVmG8ErEBEXEZqekAimDtbGkpfmRkRWchARExHSlickIrcHa4NaJyKYIZIrU5lM\n",
       "KFV1jOQKRERlI2R2QiKkPVgb3I0IlVXENM0rbn/l9crYGieY7S962cjaRtCKRyIYy3TV8nPDIiv6\n",
       "7/Sp2/feE04wQ2SdOBE/Z0TIm3VgrVPXPIxp76EJ4mjW4DWBiJPZiCHA6Vio+wCiCyTyEkSAiOsR\n",
       "Qdp5rxsGmOVd2NK4S1zpUgkQEQER58w1ZUfnmlyJaO1C5zrd4OBNgX5Bosw/PWVBRJ/poCDCgzbc\n",
       "iOBWfIXUlcpad6lftHaYjSACXtPZvCbWZlpNix2jps0udclXVmcgAkScnYifD17To/SbXw3JJOII\n",
       "EHG5yPpR+gN0qMmUBBEg4vJEDK82CVqIDESAiMsTYYpPTVmpFJkcSQgiQMSRRJhlE7Bm27rfKdvE\n",
       "L1THTAROMDs1ER7E7xFjzaJIlw0OUj1sBIh4HKeoTzAr5IwIeE0gIjEb4X/Kqqi9pkBErNs5zj9M\n",
       "BF9fYg0R4ZQRERHuOhT6gpG1WWdPmPkoEQ6tfWjhCiICKiMiIhRzLMGn78K21d8j/byIhwhOtLWE\n",
       "kKoq9hLh+MoiV4p2LzmawicRhlBKzEKnBNF1ffuLlHVdTFvbFNTtMcaktuXjpJy30J2IkMpIkAhO\n",
       "b//hs+rvJ0+VPB4imsa1rPK63EfEsP4j9cvuySYTl3fVltIbEaLd9ZwZLRY6xbq/MlmpeWuV7Ydl\n",
       "dppx34tZC52JCKqM9IjglRBifAVTW70YjMSKM0KOIIL306WwahcRtB+T/LUqTVNjvxO6oL6I6N6d\n",
       "bKsXj50a/sokmbe2HGqZXZnV92LWQmcigiojolyTIxH1/NLVrvrhIaDyKIkQVu8iYthQSV+/3c7q\n",
       "RkX9uwG19ERE+bWdU+vHTn0RkdF5a+3weJotXw29mLbQmYigykgxjlisfjgftMyiJIItvcHiTsTX\n",
       "m4rawYPO+wG8XyM1XMW5woDacX3q/tg1D53q/mLNmRSz1rLBtshZq4deTC+6ciVipzLeaOM0RGS1\n",
       "bqRWcRKhbp+ysja5GsU57kTQtluMVLYi7/ImTPfjp76ezLwLAPp/1hJB7s0UIwa6Tg1/GTZvbfP/\n",
       "979XjAdu1AtFthCxUxlvtBEfEUopIjYQQdsv+T44l1MfREjT5WFqmvORdt2JKL8857fKNmRQX1FO\n",
       "J8EaIMYTo7Ts3p36oVO3zwgZlbm3Vtdzd2rWi6LcQsReZbzWxieIoHokZBY3N5eoyppnPF9JRHtC\n",
       "qMMxoYVa073i+UNIqMUrludE6BviQ/q8ccPlFq9J9wWpi1PYp1e+DtbqJ8EqIJ4SoR861fLBK/bQ\n",
       "WvkVYMzDiKEXeb2FiN3KeKmN2GxE3c7AimZGriSiNQ/vPS/Ra+Y2oi8crGGDrdELV9zI4Xmjlvib\n",
       "HkvG7dhZLcmLoi8Da/bgOcty9FyZjm7dKURM8kX6KRB2URa9Jmarh07d44hhCbVv7eDCZ9wshxHT\n",
       "Fr5thz9lrNaGZyIcjxhrZnN/6uaNfuXsNQ3V5+Z5XH0zn1X3FOvDsubZz57HmV8bbPVSXUbPQrxX\n",
       "NmJCBN0YWfeTQNo3xIvOdezqZbXbHHgfWdN7ZF08IUI2282KSWu/wgg1Bf/eC7bJRuxXxksiHj+a\n",
       "npZ/rI2oO1WrevHFvNc24obDMx+HUjFLVNTNB/bpI3rYYLt851O+mQi1kYjeUWg9Z/kyiJH3SZBr\n",
       "P15TVjWzieVfkcESEe1jRkxaq+yy03TvRa53eE3blRGd1/Q8jpB9uq5LYhS0uD2PSWaK/o6vN0So\n",
       "vF+UmH9xvIbfzWLepaeeTshhg21OsyIGIirz5Tnnr+Z1TUaOQlH5iaxvnVBZzqS5r9AtE1FOWzss\n",
       "oPXZTjkOI7peFNUWIvYqI77I+oWNGIioW3edNcmMpl+GuBDB6347weyLcqz3LgYQ7Vf0y442G2w5\n",
       "LfhzIph+S4SYrEPorV5TH7EQksmX+cZ2VWbw36nyk329fbE0pjlsovdXpp0SAxGqnra2cxJ5n+25\n",
       "nyl27wVVW4jYqYy0sq+06p7xNhMZl6bRYfNY6rvzhois1/38i2zUH1GKOxH1K4VON9guEpGVC/H/\n",
       "dKdfaS0ZxoIRW5N8ExGi+0VevbuokFFKh7SP/lLXkILk5TYibo+Wipg2sBKzTol+3x+p6i/LIQb9\n",
       "qIrQLx3rQaH3Xmi2hYidynijjdhyTUoVxW2aUdUosll/aXNDg2PKHKuffrEoq1byZvy6V7Q7r+nV\n",
       "hJxssBXVIHxCRL6wozPMbnC9Prbju65GX5qezca6antrc/m6hc67OIIqI+o16yb8NVV7y4VYRcT0\n",
       "i2Jsm3sH7E1k/bDBdtFG8HrfNF9RdMO2PVr4JoKUotDbW6vetNCZiKDKiHmnX3vdS/O4v0VFdA0R\n",
       "8y+OH/d9NNz4xewrqm/33Yw33zxssN0aWfsiYjgfa8VTcd8m4OUrsKw1m1v74PTPW+j+fkRIZcRs\n",
       "I9oZ255ATjp/3ZWI+Rf56D76YRYrZe4zXtS8/6/ByDxZHGq1q0rbOnWHEiHXTvCKeyciozXZ3lrz\n",
       "roXuRIRUxnl2+r0cINXEAOzpLN4oRxLxsPD7RszOF6d2vlXq0NqHFq54qzSgMiIiwohtJda9Z810\n",
       "okQcLDiL4/NEHFR9abz98OLdGTjBDES8k8BHjK2tXnh6MHOx98EPG5EKEVGfYHZ09as1CiJgI0AE\n",
       "iAARIAJEgAgQASJABIgAESACRIAIEDEeJ+SaQASIgI0AESACRJyJCE1BhAdtgIizECFtCSI8aANE\n",
       "nMZGyAxEeNAGiPAt7seSrSmKOOJMcYTjCWaRVo/I+vJEfOoEM3hNIGIhHji4ERxeE4iImYjcHNwI\n",
       "KkDESYg4Z66JqYO1sXTdAohI00accj2Ck4O1sfyiMIiA1xRLZH30LWoaRICIqImojh1bRhfHCTv9\n",
       "QEQsRJji0DZQBhsBIqImQh7rNukMRICIqInI6JE6WrZIIAJERETEkUZC6gxEBCACJ5h5/Ulz3BXl\n",
       "VX4MEZGdYAYbkRYRz+apf1Hq2Tgh1wQiIiIi++2fh/z+/1ZPxwleE4iIiYiMHOA4ycpkIAJEpEFE\n",
       "pqrQb5IwzTIQASJSISJjJQ06hyrCMxABItIhormsozRBDIUUqiT89TiBCBBh4/tJWZBSl9avaF2+\n",
       "XQNErglEREnEB4cUNgJEgAgQASJABIgAESACRARXH/Y1gYjXgn1NsBGJE4FcE4gAEfCaQASIABEg\n",
       "AkSACBABIkAEiAARIAJEgAgQASJAhH/BafkgAkTARoAIEAEiQMRJiHB8FwJEgIirEBG2fhCxS3Az\n",
       "I4h4J7iZETYicSKw0w9EnIcIyeE1XYeIRa9LgIixVAJEXIcIxV5NARBxE0bgNV2diJyCiLuU3AMR\n",
       "fwMRKROxfFHORYkoVAYirkkEu/u6KgcRQ1j9BwkiLkpEfj/amlcgopcfPzMfRCCyTpuIke98cSL+\n",
       "WGcgAkTc/rcCEa3Uv4IIEOEntj4FET9/ZCAiAiIOPMHsGRGUgYhbWP2nb3ESgRPMwtoIqhup6/af\n",
       "bj1K3JeltsonNGe9tPZZJ3ZUDxuRute0P5BI1EaMMbiF1RMqdtgIAyISJ2J/silJIqZWoQur759t\n",
       "rl9bCiLSJsLDgkSKREy9pK+wevh4c/3EliAibSI8LFonSMTs+z++jRS9q37me4aBiKOJ0Nn1iJjn\n",
       "AlQx0fSu+rXnQAJEHEyEj82vqRExB0KWM1XvqZ/ZWoKI1IgY7fTzcR166usRhPnskrIERKRGxNPH\n",
       "4yWJEJXfLhGv6SYQcSwRpgARknvukvFpJUBEMCLM0gukJAMR/rvEcxCRABExTs+TEoE4YqvgBDMQ\n",
       "8U5wghlsBIiA1wQiDiQi1u28IAJEpPWTIAJEgAgQASJABIgAESACRIAIEAEiQASIABEgAkSACBAB\n",
       "IkAEiAARIAJEgAgQcToiWICiIAJEwEaACBABIkDERYhIuPq1UrsfElr7Pk8URKQhLOyUZSACRICI\n",
       "eInQ7tNcgwgQcX4iSvfz30rfZ06DiDQkt3XC1a+VyqoARUHEmaSwOuHq18qKs66I71PYQUQaYnwf\n",
       "Nn5o9WuFuh91Rf2enQgiUhFlq4SrD9icyFoOIo57atKEq1/vxJUBioKIM0kVNqVSxZWxYe6BPvOQ\n",
       "E3g4A02AiCW1+JZdei/DblYo49oLwd2TwdxD3vjhLORKgIjbpAi9sWeX3msrQrYtcPXrB9byAEWd\n",
       "RyanIKK/vVgVRX4YEWv0HngnXlwb/ZqVaBagqPPIZBpEdDfcUzG61zs4ESv0zsOuoPG4FuiaVYYi\n",
       "QFH3kVE5iGhnZ1UW4Z6Ve/TOwmZUWGwJG+Oe+zL702SPI8OryxPReTCitjU/jgh3vZuwexVMbFsh\n",
       "ViDqgeaFW4ZKfnUiSBNZcplxbY4jwl3vJGwuiMT22o10zyDJ/cmmdmSkoa37RVovIVcXJ6K7iE/f\n",
       "NKNEUCI26l2HjXx1ZIF10yIeoOirkVFZ3gRThfUXW6dMRNFahiIPmGrao3cZNvKVsQXWzeaMIkDR\n",
       "FyMj8ow2o0F6H4yyaxNRHvCM3KH3POx2tjy+3XLMvUlsd+ubkblNgLp5LNa91+wj55gwEfyI3WI7\n",
       "9H61MKLRkA1R9FWExxrXkQ9LlXeH1m6XDxCRgrjpPeyYf7T6TULdV9Hp3gX3bmRa422sx2RTwjbi\n",
       "kNdltutdhPVqRIyvGDD3hDDbmzvuRqZqtFBVWbsk5cVrSJcIRo8jYoveTVivxkR55FFdhyj66llF\n",
       "mgUplbV4eVm0TpcIIo4jYovey7CpoLKOEIgbpyxA0RcjI4kyOSdGePMa0iXimHeMN+tdhF1RFpG+\n",
       "u7/Cl9vp9j2unfrZ/JosEYU5kIgNeidh189IdMtzvb7c26X2deFxZCp+aSJK+SEi3PQuwwa+MtZX\n",
       "96W77ZL7zNzDyMgyuzIR/KBX17fq3digr/cFrn5Xy2SAoi4jY4pLE6HyDxHhqPc6bCasjve8I61C\n",
       "FF3gaZ5Z8WQ1P7n6tcuPPuqRt03vJqybbyKNIto4y9185dFaOoh3b7pIuPqdQqsQRSFJC6lSrn63\n",
       "31SEKApJWFgtE65+twj39onIuwLx9JBkKVfvAVkeoigk3SiCHVf9/wNuh7ZvRiGATQAAAABJRU5E\n",
       "rkJggg==\n",
       "\" style=\"display:inline;vertical-align:middle;\" /></a><br>"
      ],
      "text/plain": [
       "<IPython.core.display.HTML object>"
      ]
     },
     "metadata": {},
     "output_type": "display_data"
    }
   ],
   "source": [
    "_outcome_prob = Forall(\n",
    "    m, Equals(Prob(_phase_est_circuit), sqrd(Abs(SubIndexed(_alpha, m)))),\n",
    "    domain=_m_domain)"
   ]
  },
  {
   "cell_type": "code",
   "execution_count": 11,
   "metadata": {},
   "outputs": [
    {
     "data": {
      "text/html": [
       "<strong id=\"_Omega_is_sample_space\"><a class=\"ProveItLink\" href=\"proofs/_Omega_is_sample_space/thm_proof.ipynb\">_Omega_is_sample_space</a> (conjecture with conjecture-based proof):<br></strong> <a class=\"ProveItLink\" href=\"../__pv_it/theorems/f7ca653c733b8986939cb7a139971f2ce5a7ff020/theorem_expr.ipynb\"><img src=\"data:image/png;base64,iVBORw0KGgoAAAANSUhEUgAAAKYAAAAbBAMAAAAE8unvAAAAMFBMVEX///8AAAAAAAAAAAAAAAAA\n",
       "AAAAAAAAAAAAAAAAAAAAAAAAAAAAAAAAAAAAAAAAAAAv3aB7AAAAD3RSTlMAVJl2q0QizbsQ3e9m\n",
       "iTL5N35BAAAACXBIWXMAAA7EAAAOxAGVKw4bAAACoklEQVRIx+2US2gTURSG/zSZSSYmk2A3QheN\n",
       "qeBKCKTULgwd8YFi0AEFkSIZECxubKxFhSh0JT42ISBIQVpqUYkoKmkWPqi2gpsoqeCTaiMKLlyU\n",
       "pJZGkybexySSmqSLRlceyGS455vvnjn3MABWe9tVVEbEvbYJVUIOKfUBPXrOQzoZrliSbsNwvSps\n",
       "VpYBeNwkvqFgxZLdBTyrCluUZQAWxgy5mPL8/kKU7W5OkqfrOWsDnKI643d6KxzXW2CJA7Z6ztoA\n",
       "35I5s6yzpa4aiq/o36TvHb7eO9Tp2dupCqFpt585xbaXOrD/0cS6xxxD5MMUy8ibvEHYF0m2aY46\n",
       "TpQ36iouqDDEsR4Ydcp51XYHq8Yw6KLOb5oxyAE8UKURjol30Z2imcvAMMQF4rD+oKbfByU9Hc9T\n",
       "OKDhIpCFXKAnbpinzhEgzQH0A60qw8xBtGg00x2GB5ghb9zrocN3PxqN3ihN4ji5XJrRcA5YZE4X\n",
       "pAxxysR1Rgf6yMS4GDZEDo1lrNkOWiNpyUZW3ECpTNr+gIrI5lbmnNOdpGCLYsgkEi90gDgdAwyb\n",
       "JUWxjPS+SDaXyStfE6lquHy65OdIGcYwW+HkdabLAK+TYbRcljkCWwF27IToslOVt+S0kv73wuFC\n",
       "4KhWdpJ+Fmg/Y2ToOMD6mWJYDynMSTPNgB+mJx8hTE2wsXKWnMcgnabOrk/aKeachzmOwSQ7dxWv\n",
       "OYCQJt3i2OGHsGs00xLGWdiLadiKbJakHQe40yRs2KpC3tJ85eqX3O41OeXNz6TZ790GeVdME90+\n",
       "jQPon2zXMUTaOkAzB72+yg+S8DZa88tAz2hp9GFl8TecVuXPtdGVKYU9MW3p2r7cdvyPfx2fnzdc\n",
       "KSuWhjstqca/ujUsNdwpTCcaofkFk6TbCEjXCIIAAAAASUVORK5CYII=\n",
       "\" style=\"display:inline;vertical-align:middle;\" /></a><br>"
      ],
      "text/plain": [
       "<IPython.core.display.HTML object>"
      ]
     },
     "metadata": {},
     "output_type": "display_data"
    }
   ],
   "source": [
    "_Omega_is_sample_space = InClass(_Omega, SampleSpaces)"
   ]
  },
  {
   "cell_type": "markdown",
   "metadata": {},
   "source": [
    "### Simplify  $|\\psi_t \\rangle$ and evaluate $\\alpha_l \\equiv \\lvert b \\oplus l \\rangle$ as the amplitudes of $\\lvert \\Psi \\rangle$ relative to the $t$-bit estimate of $2^t \\varphi$, $b$."
   ]
  },
  {
   "cell_type": "markdown",
   "metadata": {},
   "source": [
    "This `_psi_t_formula` theorem corresponds to Nielsen & Chuang's (2010) formula 5.20 (pg 222)."
   ]
  },
  {
   "cell_type": "code",
   "execution_count": 12,
   "metadata": {},
   "outputs": [
    {
     "data": {
      "text/html": [
       "<strong id=\"_psi_t_var_formula\"><a class=\"ProveItLink\" href=\"proofs/_psi_t_var_formula/thm_proof.ipynb\">_psi_t_var_formula</a> (conjecture with conjecture-based proof):<br></strong> <a class=\"ProveItLink\" href=\"../__pv_it/theorems/c4414a45089a8f2aacfb71350a866827f0f05f980/theorem_expr.ipynb\"><img src=\"data:image/png;base64,iVBORw0KGgoAAAANSUhEUgAAAcMAAABLCAMAAAA7zBztAAAANlBMVEX///8AAAAAAAAAAAAAAAAA\n",
       "AAAAAAAAAAAAAAAAAAAAAAAAAAAAAAAAAAAAAAAAAAAAAAAAAABHL6OuAAAAEXRSTlMAq1RmmUTN\n",
       "IjK7EInv3XZQQBRtQDMAAAAJcEhZcwAADsQAAA7EAZUrDhsAAAo/SURBVHja3V2LtqsoDBVEQF4z\n",
       "/P/PjopaMUGscFo6rDVz79nnJo0J5AXYrqs6+NA1xLC6NJ8YwqosgkG1BiMtMawuzWeGJnkEg+oM\n",
       "alRDDKtL86lh+jyCQTWGqs23iOGZWLBfseHgRRbBoBqD8JYYnol79zMLkYx5BIPKh/RDQwzPxM4y\n",
       "+jNpjadZBIMqpJC8JYYbsdKakDkwWszf9rxJI442j2BQcf5RexkWMdyJ5yjIpqdViLWkc7ZJG0rv\n",
       "sggGFa8a2xLDnXi2pfCyo6xDEiTapg270eQRDKo9db7J8EXcq2BDwXrxOzakINhBBIMKcymvGmIY\n",
       "E+ukpVq1Yed5HsGgolLOV051ixjGxDLdmGrWhmRyHTkEg0pGX3tdFzGMiMV4MKEctyGatuHgdRbB\n",
       "oKIgXNuVFjE8Es/9GSF+bR123uQRDCpxXpWVkWAob/Xrj8RilFIy9XM2HIGfhAgGlTgvXfcRMIaK\n",
       "MH5rdR6JjZ9Hoh+iudeNtuAcUABEMKgkBFcu8BMM3S0bVpfmK2U+zyIY9HwYX/kREgzv2bC6NF8J\n",
       "iOBRIYJBrYfDezasLs1XBgfOBCIY9LytULk6TDG8ZcPq0nxlMNCngggGPf88XfsB9HMbVpfmK6MH\n",
       "MxEiGPR83dPajoQ+tyH39H9gQwmKP4hg0PMMRNZ9gBTDWzasLs1XhgIVEUQwqF4O9UcMb9nwTMx9\n",
       "YhTEkv7vp4kHUxEiGPRsCF85mU8yvGNDQEz96UmVGByZiv9rP7SfAEDXejLk9rZSmmFBSIAIBj3N\n",
       "Iisn80mGd2wIiYnH+PXw+ftjpr6dAHg7DjxL9xkM6y6LYNCz4aJ2QfrMnHzG8DD0jRN5CLH1HjtT\n",
       "y05JHY30uJ0AeNuHJPCMMsQIZp7OIhj0bOgow9XJeTjKRwxfAk8OkJP+fWI5eVOMjEWKPR252U4A\n",
       "BA3bEEI3Ar6zm/8i+eswaz92wiGKPasFKON8eJKBeQeRAL1Q+vhALol4R8K69Dy/zbBImm1tenQF\n",
       "R488QgVsJwAUU6LvDpbZbThMbAURcrc/cYIqIxI2VKOxKWWc9mQ08CcQCRDbNc4fHxwePUvZMJ6Q\n",
       "9hHDIml2MBuzBUxxlq0uNT3D9IcTSq+5zmrD5S9ufUi9/twZR9GosamFs5QyHDmZxwKD2Q6DJEn5\n",
       "43cq8pQNVewfNH3CsEiaTZApDc3wZMABhhMAMiyqsZOBwfLzbMPlL9MDChpsufwsPGNoyNjUsidS\n",
       "QBkqTtgcyJshskJcvadfNAvWCRtSeR23bzEskmYbw+RNr58QtI+jEwCT6ANBfCkJS5HSVzgcLJbX\n",
       "rWoZdkNBZfA+7qN50FnzHQr1K2HBTpRJ2vCszZv+2pTYMEGsp3pQXfa21t8qYizrzicAmOsGg6i7\n",
       "J5Mnk681TNzkgbt0TqNNWhlxnvyGDTtj52GKtObOwirH+mDD6Cg11Q8YFkkTtWuu5ukmpzKW9oac\n",
       "TwDM7uqQdLyWDOXejK9pO5+1In06HnIya2GZGkAZzpxaE6Dy9R0OBfc9qhKt9WdhdUfNfJ/hXJYf\n",
       "DMrsYZALhkXSxCHxYgpt96SIXYq8++q4eaFqzUsn4SgVoRSxwN+rhzYUZPtfVoxkZ+9sQ0mXFsdy\n",
       "tNoc/Qa71cTwJTZMEoOeW5y5ro4sUI/3BRjpGzakXgx0qifFQRm7T5WReAOwGER2aF6Ce+Yb+Whh\n",
       "2fyLxbVg7aBda/QkrJpz7NXobJl+m5jknhneSbBU7CPTxOwqJHKytwPmcT+0XB21O4gWNMzMwc8G\n",
       "Zey6mVb/EDcmFGhVqA6HqNszmo2fdGScnTwlnZ7+zRrZ0zb8B5lwKthwKS8ofysgxgxT2w4vLbI0\n",
       "8bnnlnR8KxPpqZhHpY2Yl2hBLZYfSo+gjF03k/aPNvwXWAwiL4jvPn3lt38OnX7Bdid6fx1O/5Zv\n",
       "hZPqhLZcy/M6v4iHvqQbf0EsLgr9dR12/o8OK4ZUb5Jt2D3mrIyDbk7d2bfW4VQahiJx4+deSZek\n",
       "g3CzDTVjzE7/DXdtOIaO47D8xOlbBeK1DTM36y+InRFZG7LgbsWf2LCfND7b0R2UwenLICI2DzRY\n",
       "l4KE2ZbBwk+NxxpdKzpk1iGSl07FlJhNv+7m+PcaCdd5aSYRTBMPV7sQ2/12ZU0/OOv+xIZz8qsm\n",
       "KfRBGa+1Feelb+U0E+vt2RYmQx/1WVjnxvdtOAVsPToXJtZeHd9smF7aMHezPkksL1f3qzhj1nP3\n",
       "N750yWEdc+qljEPnoDfdcxvuyMKk5+FmEA02VHrLeFgyVeixPo2kh26umqfJ3Y0Le7kO7TNiZS4N\n",
       "M/i/fZ0N2JJblbHppju/FOmhDQM/qeN+50DddX3IYZ+mC9nMq1E1p7fdeDPKXO5OK/6MmGcmkBk+\n",
       "a8NVGZtuQL+Ugg43RBBo5ffq2YRw5jJF3Yj3S1+gZEtVpO72ZMer8gy/WZ8lHnPpFNMfteGmjFU3\n",
       "Hdi36EESDREEWvmJbY9Z2lALZGxI8L0nsBzc3eYHOe0TCcb4vu+N36xPE29BDnOVxwApzUdtCJXR\n",
       "x2qGZ0qQUybJUytTCJzj4W3fEp8RcMnkjzxjGJJwffdqAcMOAfRoVdFHSQ7506PFZ7VAIW0sIjxT\n",
       "gpwy0bUOeuvaFxxODMnycMY8lwavKqh5K9D+8YDnaViXQzDo4adXfkHDmaFZAgVZKmDQaLsjDfpe\n",
       "LAWen37zngZof4wgN4MIBj0bg68cSk4Ml+2g22+BgNIgVYWgBNnF6L949xTcN4fXRpCLJNXulnzm\n",
       "nLcN2FTpXG9gQWLu+XFYG7Z3G7+mCK+NIBdJ6t0t8bVfpokw3F79ZI67NbeIWWrjo2/ahh++CGxr\n",
       "X4BHGG5bGyJbBdj/wXX82Z2YLIJBTwepPaUhw+N5oUzVQxpfYHdzAp5FMOhx7eMrv2gZMDzWv0x+\n",
       "WJqvjE+/3GSoXVycGS5Z/3rWU6vOfVaarwwCMk6IYNDToWonpieGoQsfeug8m1BWl+Yrw4JsBSIY\n",
       "VPCBovYTHBiK+QABu38X8CwNfq1Ta9fwuxcUrHJh/qJqFua6dhoRMVzvjfHH0mDbSnNra2j3JSgU\n",
       "dH0hgkEl8avy954UMTwTo9c6zZwZ/c2XRPxiOOw+97KvR8TYtc5wkts0+xYU+PyIRupqndV+n0gR\n",
       "wxPxdq2T7S+g7dcrMrbVSlICPwQRDCrzfZXzgyKGJ2LsWmewoWn1y2cc8JIQwaCytV97F7yIYUSM\n",
       "XusMvrTZN0pxk0cwqHDiDA0xjIj3a51HX9p2TiOBF4IIBhWO2plpGcMjMX6t0821RavfkAi/GAL5\n",
       "qojqX0cxFWWqIYZH4sS1zqnGZ41+Q6IC8xciGFT+ubohhuqn33/pgI+HCAZV+GDVEEPn1e/a0LA8\n",
       "gkHlw+qWGFr9w8tQ5Wfk30xSWntxFzGk7fbRsnGgzyIYVKe3MrbEkP3qW72/91Wyi//qW2Jof/NI\n",
       "xgDeGQARDKpVmtbmXMRQ/uaXq9shj2BQtTkkWmI4/GJEVEMeiaH/AJUlbsDEJF4hAAAAAElFTkSu\n",
       "QmCC\n",
       "\" style=\"display:inline;vertical-align:middle;\" /></a><br>"
      ],
      "text/plain": [
       "<IPython.core.display.HTML object>"
      ]
     },
     "metadata": {},
     "output_type": "display_data"
    }
   ],
   "source": [
    "# Notice we're using a ScalarMults instead of QMults on the rhs\n",
    "# at least until QMults are automatically simplified to do that instead\n",
    "_psi_t_formula = Forall(\n",
    "    t, Equals(_psi_t_ket,\n",
    "              ScalarMult(frac(one, Exp(two, frac(t, two))),\n",
    "                    VecSum(k, ScalarMult(exp(Mult(two, pi, i, _phase, k)), NumKet(k, t)),\n",
    "                           domain=Interval(zero, subtract(Exp(two, t), one))))),\n",
    "    domain=NaturalPos)"
   ]
  },
  {
   "cell_type": "markdown",
   "metadata": {},
   "source": [
    "The following `_alpha_m_evaluation` theorem gives an evaluation formula for the amplitude of the possible measurement outcome $\\lvert m \\rangle$. This is a step _between_ Nielsen & Chuang's formulas 5.23 and 5.24 (pg 223), from which we are then able to derive a formula analogous to their formula 5.24. We don't explicitly derive a separate theorem analogous to Nielsen & Chuang's formula 5.23; instead we prove the `_alpha_m_evaluation` theorem via the application of the inverse quantum Fourier transform to the result in the `_psi_t_formula` theorem."
   ]
  },
  {
   "cell_type": "code",
   "execution_count": 13,
   "metadata": {},
   "outputs": [
    {
     "data": {
      "text/html": [
       "<strong id=\"_alpha_m_evaluation\"><a class=\"ProveItLink\" href=\"proofs/_alpha_m_evaluation/thm_proof.ipynb\">_alpha_m_evaluation</a> (conjecture with conjecture-based proof):<br></strong> <a class=\"ProveItLink\" href=\"../__pv_it/theorems/caf49173b3711e4a248a8274f0b087173d02bcf60/theorem_expr.ipynb\"><img src=\"data:image/png;base64,iVBORw0KGgoAAAANSUhEUgAAAjsAAABMBAMAAAB5QGs4AAAAMFBMVEX///8AAAAAAAAAAAAAAAAA\n",
       "AAAAAAAAAAAAAAAAAAAAAAAAAAAAAAAAAAAAAAAAAAAv3aB7AAAAD3RSTlMAq1RmmUTNIjK7EInv\n",
       "3XZ/CtNrAAAACXBIWXMAAA7EAAAOxAGVKw4bAAALXElEQVR42sVcf2wb1R3/+s72ne/ssyekTUWl\n",
       "8TS0P4At2boxysqSQWEUVhK0P9CkjvgPBhoU4jK0rmxZjFQhphVibSBaxtSbuoFQy+xOG39QaLJ1\n",
       "qGxjJINOk9hK3G2iAkTTJE1SkpDbe+d7z+fnO9+L8855f8Sf+Hv37u7zvu/7670zgLj2bZ6D4n2t\n",
       "ycJsylssgEFT9EWiGZ6jvtqiLNR2pAHoGdHXuIKHcOkvrcnCbckuFsBxwZfQuDo83NWaLNwWm2cB\n",
       "9OfFXiKS4znq48Eypaf9/KxrAJGi2CsM89hVdTZYJlfaT89QlgXKtNgr3Mnlt3LBsg+ubT89iXEW\n",
       "wC+EXkCa5Tmqs6+57NCRiyFVM2dXtosedZkFMCxUiePjPEfdGyDrgW3wDP3msQ/apj5PN4DEqFDT\n",
       "U1nJIPnJZmGocKlMv/tM2+jpzLJAEmp8OniinshCgOxqRM8DX1oDetI5FsCcyKjnQ56jSsVA2cvu\n",
       "79pHT+QCC6CjIK57mUsVu7NBMvWttaEntsgC6C8L9IwLPEcdMINku+2/6n7UnmwnPbDUANICbXOJ\n",
       "x3FpHwXJlB4lvybaAwcKLEhcENd7N48mylRx6+dQTbb7kT3m2tAzWWaBsSjQcfGkFBESOv7yhgVv\n",
       "2Zhlub77wcCxttEznGOBKtB1jXHVDc4RZCz4y9ampRdYAJYpqvNmVsXLQDXSw2W8QmzxWRbAgLDi\n",
       "pcQV9nQW/enpbFpAiGbDIUW7m15hmQXQKyzrinKZsd6yPz29TW17QJk12nJx5lEygeQPWQDdwko+\n",
       "ca6ocCDrT89AM/2Q6+sgsc9eX0vVsEjqaTmcJTVldYkFMCws8ElyxQhjBX96xpqF8HvrjWQSSoz2\n",
       "tF6G/SmZZhYLoCTMW6S5guaaK2ikx5HFLVejc/+e+mMV2It1aMeOOxDGMyC+6yzWhGs3Xn/5ShOl\n",
       "w+SerAIL0sLiwiEeopVaTNNAD5FJlnNPz96+3iLKLTWQ+QSiKKbrAHlETx7S9z+HvpDehVekpiZM\n",
       "biSPLj9NZFmQElbS6ORxy9JH/vRQWUftoGvI7aXYZ44WYBDgUAKUcaWojMPwxYC/2KflWBenHf2Y\n",
       "a2Im3R3Jb9vjQtYmBiosiC8LC8lzHAcZc/70UFnKqi3AbSU2ko3PXjTw39+nTGdyvT/4LP5iXCqn\n",
       "ZIZIiPqO3Cv235+TcSmzICIsqxjh8YF6LTjS5/1kqjVTezYnPV3H+knLVrGsROj5mv55rCkZoy9y\n",
       "hjGKfYqfBVGqBmEziSwyLIhOCUu5eNZcI/RykfVzF/nJJq1azu44pJlV1KFMm55BZOhRt3HcoQzq\n",
       "Dvuz+COsJ2TpZoRMAAp0pNH2c31q1eUAnsAjcZ5HlrDY2aDOr+bWdNSddtN3dVvtMC23wc7vYwYi\n",
       "Zy47gWezc+sj5LIU6EhH7QDrrtXSM8BDT/w8j0wbYw+TiVskVTKrWTvXEBdrZQ3OHEKmHNGjlaEC\n",
       "ZSijz+R/ADuyqKMsk8RPUmCgAPEhcObvqtoET7kntcgl67cY7xO0PN101Vl5ClSkJMU9KLjMx7sQ\n",
       "rihZqKDPoS22mzccPrsJrxTIKNiII/OmrzrhG+OhJ7nIJdMtZqdGMsCwNV11fgB22QpwK51cGQMk\n",
       "/MCbYuPYykkXmtEjozPiqy/38CS3yWU+2QBTh0pj7rX1J/3O9Vt1xqco+x65Cc+gynZKz+ceUm/G\n",
       "/2xQx3HHqhNddRJWKJBwqPq3U6f+unp6HB9z9EiToD45wyc7bNXrYhp3fviNzV5KhLPTlF++gE5J\n",
       "Vo1R3MQxUpUeaeDPdiHnSbgI36w205SeGwGeWjU9VpWewT7thOKeqdtO4fZ35zGb0OOW0cSCZCy4\n",
       "x0tA8crrcHb6jE+fPqfAV+r/dfS2n7BCQQzTsxOUhmH5cpfPPHa729+5YlnHmr4O8LjhW4JMN8lh\n",
       "6mS9S3V9DGersc/PvCwvyk4vlb379DmFJulOc6zeMKGSAhWnyQlTZ4uGKnJt+rFyQ+5So/1grn77\n",
       "3Ub7eaKI9xt0fxN6dZUJtwvW5upkJLGoM2X9ffhWLcvbsj8BrlVncrdz0OQUZpXEiSMOEpWgQNuI\n",
       "Vbnitszq6f19IOWwBn6TzV2Mk2TeqGdR6CS5/K1lM5xEAcJLL/priNcel5MeMqW+co21R53etetB\n",
       "z0Khp7E7CU1OAU96fLQHcu65aMcC+MFfhXSezV1q4azE0mMTV0KDPpKFL1x1NvPffR62h3dyGSca\n",
       "6AE/r1fNTj0bZ8K93Jye396NdPu6x04bmwpg2IqFHhwZtWSWyV20XAA9aUTPS6B98Tj8AU6vwvb0\n",
       "12vEEL6pr5vIznhE25b/GonPKR4mymaFWGQKVLsG9UNkQw5u70pmjAw8R0q76gKkupjcRerpctMT\n",
       "G2cde7QIcq+q/CYHF+DmIMd+l69MZWjESgnPH7/97RW6U75TyCZCH88FETRWD74D6UK0DN+wv3+4\n",
       "gOlJVpjcRbku76YH7jPZuOfoxveixyBSQbb9jQB6tHP+cQ8TYybtpGHbXGWF9PCdQnZ8+tFjtw3I\n",
       "QaaycCXK+bIqclJocqWzTO6C249xVpiv0vPp2sUn3JqWLBhF5VyjyUw5FChbvlOom5ouGW53sBNI\n",
       "8B5apk65wEHPq/AuDKnwk6ppzDSYZid3cWuPMurKA9zDNIT0Ry425omkOLkb9Fnl5XsKXjJc0WDZ\n",
       "iI6GSY/u2IhOchUKpCVX5WwDbIqiIMgxzXAW7CTuEGh2/OPkLn6m+YA7SLoV4nllQ2N0mHCikE8A\n",
       "vAbxrKcMT4namdVj5IUw6Uk44Vs3MaUUyNTqxzLIVO58D7FA6NGP2XTszau2l03WFVKUFxYrdfR0\n",
       "8NR7Ik6EMWZCRz5tesrQTdW8ulylR5sOk560YxdouZwCo3GLxqH9TljIMWldR/XyFFNJ7fYSvG9v\n",
       "u7eszqtf4Xw+HiY95OUJWi6nQPfZOBAbXyk9Ky3FT8BpreApc23W/xXRqM1h0vMCGeEeFkT9qpv3\n",
       "8fT7sMt6dPPom0yVVV2GW3TTU0a9uvJJmriXwnwN7o/EfFZYkPALu1WO8qHiHv1+HucSo54glYE9\n",
       "V3nLBu60273/RgklrYnnwmPHIHdO90BQEBdm81a4iLzVVxZ1V9W7amFHaI2mTnQPBAVJYWvsaa61\n",
       "FrKCJWf8ZZ4txFdP3qE3YLIgLSygSHG9jzPh2JDLQcn7yTxbPLT3BBUSRihLLIAhYeFohGshs6P6\n",
       "lGoZGkuKHc0Y0P4ZFj3Pk7kVm2MB9AszecZ5nqMmqy5zcMuWbX4yn/Y9MyR6aLWV7mKubWeeFPbW\n",
       "QIxrD7AzHBOWNecn43GTAptGp3RkmgXQkRV2GYvnqGa70UprvK85tcACmBCnshM87zWn5oNl19Ry\n",
       "/6Pvt5Ge0igLtCVxvY/w+BZ9JliWpOouV2LF9tHTmWGBNCWu936enDQ2FSwbqgVsBZhvHz3U0FAQ\n",
       "EVgo4HslYixYtkkhU2rIpPlQG9pYAxD5lkeUKwDvLQTKNtx/OL8VV2y7hk14s23sqFMsgGGBvzIS\n",
       "49qm2Oz9Q0f2elYlt2fiRek2NWOaBTCZFdj/a1xTcDRIppy/EWqTa7pt9MRHWQA7RPY/yVOTMWaD\n",
       "ZHLxWwpUJ1dbTfNwmQXqosj+01wzdSpIFqk8SvYwGJVYpm300NfwKYgIXQDQuXobMQNkiXyE1smO\n",
       "/s9sFzvaFAugJHRsNC5dLJVbk4VumedZAJNif99okmeojYXWZGG3ZA8L4E+Cczquwf9Xi7KQGx1b\n",
       "CkQPlsTlZjrzrclCNj0zLICS6ALlVq7outiaLNxGfyis9oth64RXTLj4frNFWahtu8mCmPAfCVS5\n",
       "etxrtiYLtf2jAaTErzzexpWc5VuThWp6+lgAv65+/B9e9N18Pe3xOAAAAABJRU5ErkJggg==\n",
       "\" style=\"display:inline;vertical-align:middle;\" /></a><br>"
      ],
      "text/plain": [
       "<IPython.core.display.HTML object>"
      ]
     },
     "metadata": {},
     "output_type": "display_data"
    }
   ],
   "source": [
    "_alpha_m_evaluation = Forall(\n",
    "        m,\n",
    "        Equals(_alpha_m,\n",
    "               Mult(frac(one, _two_pow_t),\n",
    "                   Sum(k, Mult(exp_neg_2pi_i_on_two_pow_t(k, m),\n",
    "                               exp2pi_i(_phase, k)),\n",
    "                       domain=Interval(zero, subtract(_two_pow_t, one))))),\n",
    "        domain=_m_domain)"
   ]
  },
  {
   "cell_type": "markdown",
   "metadata": {},
   "source": [
    "The `_alpha_ideal_case` theorem:<br/>\n",
    "When the scaled phase $2^{t} \\varphi$ can be represented in $t$ (or fewer) bits (what Nielsen & Chuang called \"the ideal case\"),<br/> the probability amplitude $\\alpha_{m}$ of measurement $m = 2^{t}\\varphi$ is $1$."
   ]
  },
  {
   "cell_type": "code",
   "execution_count": 14,
   "metadata": {},
   "outputs": [
    {
     "data": {
      "text/html": [
       "<strong id=\"_alpha_ideal_case\"><a class=\"ProveItLink\" href=\"proofs/_alpha_ideal_case/thm_proof.ipynb\">_alpha_ideal_case</a> (conjecture with conjecture-based proof):<br></strong> <a class=\"ProveItLink\" href=\"../__pv_it/theorems/c9d0edba0e46c2b60cff1bc7234a883ce5d1d01c0/theorem_expr.ipynb\"><img src=\"data:image/png;base64,iVBORw0KGgoAAAANSUhEUgAAAWAAAAAaBAMAAAB7gZtsAAAAMFBMVEX///8AAAAAAAAAAAAAAAAA\n",
       "AAAAAAAAAAAAAAAAAAAAAAAAAAAAAAAAAAAAAAAAAAAv3aB7AAAAD3RSTlMAZkRUmRDNuyLviTJ2\n",
       "3asqG0tJAAAACXBIWXMAAA7EAAAOxAGVKw4bAAAEgElEQVRYw61YXYgTVxT+spnZTDKTGIpaLGqX\n",
       "Qn/sQ81DESwUd0FXWLCdp4oIbrZi6T7400qxIEpAqT8tGgrFUh+6fWgtW9D4qKKJtKv0oRpkLQtl\n",
       "15WViggi6trFtaTn3JlMZubeWRObCzPJ3nvOl++ee/7uAoHRWcD/HW2AeMZ4gZ5Yl/O9P7yotQzX\n",
       "H7nS3R6+ccZ52/1jRXjV2NEq3orIlQPtIfwBPXre+X74z1/Cy4tlDf2VOeAUEDT2sZ/EKkoNo3mu\n",
       "QvQTehJZd2azJJO2palLr84Fulk1ad5mmOtKhV+bJ9xBWzaK9OUQPft7dwPTkow1KfkQCw3/pogt\n",
       "NYTJPBMMc0XpkkNNsj1Pe75IUcXyfcJZT3V1FOXzlwikqpQKcvoYFP6ugNjUO+0qod+OcMkmhn5r\n",
       "O2l32pjH+eEBkCkgWbQmN0qSAyrCS4ATkmQEhOUR7swqmPQ06w9XiXCsG2X6MAkyOY3MjFb5UZJb\n",
       "635eHh/Pe4T3Aqskc0VANAhrvpSTqKsXWyGMb/AHQxJaporMrNlTkuR+dz5eG/Fb+BFQzkkWVkM0\n",
       "CFs+cqZLPp5vifAA/uZfcpTS9/3r54jkPySzXJjC2OJ3CZ0Jq843CBEm3OGPh5fcysQxlBq+2yTh\n",
       "k9jFx+PstlwJ1iVz4C1CK5dCBVfLw3gSlnaHalIQFsY1Z8XEunEeN5zCx35tXMOGwj4n0QR1HdGJ\n",
       "BuGF2MZKTuqaCGSbEjIA7eSoqNqdjZVDWYewKh1NIIKw8ZBfDwIlUfhUmt7JChLdI/rwPVtVpwIW\n",
       "XolRVhKb9UJCf8ynBCwQ5b9fED7DOxUCRz4kCSK8XGHMBsRWYZqSRxibqKDoAcL6ICMn6fU+H9uQ\n",
       "Bq1qjebmJlz2WXipt8SbsIAKdCJ1VPzq+ka0rLVF0K1SQC9FlIXxExEzZv3zX/wMl/Axss939rwu\n",
       "Wq8+w8LLGoSp4hwMtGkdJWgkUxbem/YlJJImz3/ZVhWtgxGERXk0Z3yOOf4xXJfQnxLhh4jZxqzb\n",
       "1MRgDmaVPvwubnOW4JM8C4z4CWc16By7TpawKoHCsQjolamFIAJZohjOEq+72yfgp+56qhrvFjzf\n",
       "wJEv80oLvyjSLIewMbp6deA8Prp0eh072aJwT8OE0zn9uOfu4gUFhCs/U09rMV8eNlxCqUlRm+bf\n",
       "L3G3YPQUoA+RMw5BiulTBdFEsAF55+larRbYVOzGv0LnPbcl+NT2Edb7rpQ8d3deCginnNx5fLNe\n",
       "6XyNVMKtLyYtpH5YbPdVYHzmzHyLipFDOKbvfb+NrH9NOD2+RnSRr/cSb+7xleaWh9RLeF3wX41m\n",
       "z4uASQtxZbowql63Jo/jc3Rrz0dY2a3N98jsPremnm0umEpKFFkw2a/OqHpup8rGpH7YKj4HYS0f\n",
       "lfUS9RqarNXqhT2+/VhX5C1riv1MYX/LMWRaatRF0Wp1bGBvGFM2uqpbY1TB+zx0pwvwKkWp7p9q\n",
       "me/hqeg73VeKuZ1qGKtQv6K8E3nt24G2jRZuzdeb/b+E7Ht2+wivaQfIf3pEUDGIl6QHAAAAAElF\n",
       "TkSuQmCC\n",
       "\" style=\"display:inline;vertical-align:middle;\" /></a><br>"
      ],
      "text/plain": [
       "<IPython.core.display.HTML object>"
      ]
     },
     "metadata": {},
     "output_type": "display_data"
    }
   ],
   "source": [
    "_alpha_ideal_case = (\n",
    "    Implies(_ideal_phase_cond, Equals(SubIndexed(_alpha, Mult(_two_pow_t, _phase)), one)))"
   ]
  },
  {
   "cell_type": "code",
   "execution_count": 15,
   "metadata": {},
   "outputs": [
    {
     "data": {
      "text/html": [
       "<strong id=\"_alpha_m_mod_evaluation\"><a class=\"ProveItLink\" href=\"proofs/_alpha_m_mod_evaluation/thm_proof.ipynb\">_alpha_m_mod_evaluation</a> (conjecture with conjecture-based proof):<br></strong> <a class=\"ProveItLink\" href=\"../__pv_it/theorems/9655086fe34c117c4c1c04e5eac5f7819b5d5ea60/theorem_expr.ipynb\"><img src=\"data:image/png;base64,iVBORw0KGgoAAAANSUhEUgAAAiwAAABLCAMAAABkxywQAAAANlBMVEX///8AAAAAAAAAAAAAAAAA\n",
       "AAAAAAAAAAAAAAAAAAAAAAAAAAAAAAAAAAAAAAAAAAAAAAAAAABHL6OuAAAAEXRSTlMAq1RmmUTN\n",
       "IjK7EInv3XZQQBRtQDMAAAAJcEhZcwAADsQAAA7EAZUrDhsAAArcSURBVHja5V2LoquoDuUlb5jL\n",
       "///sFa0vQMXY01I3M2emzdnRJS5CEgIbofc13qEWGhRGI/A/14TTAMl7GsNNdAEURiPwP9kMhkje\n",
       "0YjVLXQAFEYj8D/bLIVI7jf9Ly76ORiJnmB/gixdEADJ/YZ5E48PhZHoUf83TAtWEMndJkMT7iEU\n",
       "RqLnHSN/w8cNBCC5HYK0YVigMF562hiMo+/iSjMV5c9ji3IQyU23sg3DAoUx6UVPhfVdowu0kN67\n",
       "55FFBg+Q3BzRbfQjFMakFzkjgkSEoYKfTB5IFqQsRPJefjYyTC7qUT2SRTAq/ghZSOaR1EhuOdWh\n",
       "iSQFFMZGz+xS4pFkQYFDJDeSG0G18NhQGBs9uZ/ffiZZcG9Jr0vgjYYmAk0ojLWeUCuuSDU18Vyy\n",
       "dMEAJDecpDZmISiMlV7M3ArxpywLChYigZv/JnqxBENWLJqu9ISSUjL9t8iisjmmRgI3/6aFh85g\n",
       "aMx4hbFZ6dkQW/nHhOHBPHEVwGevr0YCd5GayMiVYPgKsjQC/4sJBw6QQJsNTTx0CUYNWRqB/0Wn\n",
       "JeukGsnjXJYastyC/2vrjZoX+oNnprVGAmukjSxLEUYFWe7A/73qupLHz7LEd40E2GNt+LdFGBVk\n",
       "uQH/9jI0+/wwo7jg4SuABNZ4Gym5IowKssDhy+NKzI54VrTdcuYY+UJBniK5h2sBEqhjKVsgSxFG\n",
       "BVng8PmxSbLRHzqxLF8oRdUZxXWWLaiRvMuZbsSnryNLosfDTvO5s3N8bRFtz2RluO3/edkRMVt0\n",
       "LoSfFrwZoZR1xNwZebRGOXe0QjZeaiSQJkIToWcZxjlZUj0Skm7RovPYhtwMu3NfR3UjaVCHDDIT\n",
       "hQayDGsKQRCtxs/E9x9sh8jJVedivqIx21Wmzi9PnK5nuGwmrpHAopAmIucyjHOyZHo4lK5Es86S\n",
       "Fb5zZJ1w4ztGgz2J3yJZBqkMw2sff0LJoUDvLBifivkuz9KL+6RM5rZ5gATSfGiiNLUMw5zuY8j1\n",
       "XAi4InI5L3o3Gs0dbDo0B63zNOSNcHoC2BMgWhWHjv2YqZjvsuFdET81kjgLCGskkGbaSLOUYOB+\n",
       "+uCYXtST/URU0mFb3oUz5zR6P7MJ6O0FycjSX9HQlyXRPUF9TwTsj+k9FfONV3KjPzWp8BkTHaKu\n",
       "ZTMUVUh4MxGHpNkDjKoki5DAXHMcmshMQWEU9Pyq+zfvaUsp8b2B8eKgZlpQtBrxM1m66BphsQTp\n",
       "PQeJti/IjqUDhqMqyZIK4LCnV6GJ3XtQGCU9Fc79MJr500mpVIC3s/xOnNB6Jwj1//NCm5fj+yLL\n",
       "8CFOf2b8M/699b01mSYvxlMiOFQlkTg1jpeTYU2QBQqjpKf74Ofsand3YMI3yI7FfHI0EwrJ8ULD\n",
       "90iW4UNPFkFG0gzfRWBMrkxnakotqpNMS0sGGBq5NrL9UBhFva4f3ifdYW9OvuANsptivn6Ed7gw\n",
       "DeHRuBCyuCydQ2KOAGViJUNmN8sS+roBdKTYNsgChVHWMyGcnKqwqGls3WUzcXmD7HSXbTEf86iz\n",
       "BbJQ3M8YkpnFZeknr9m7kclIqCcLsi42a8BvaTtGjDFYfoMs/p16fShzPHrmYEhbR2i9nZlWjC6m\n",
       "Sua7bIv54rSwWkdeoiHCg1Wr1EpvVPCc39VJJEcyauxKxslMafBbWt9ZuC4+mRinzHc35lYNH8CA\n",
       "wt+4LeYwbzE9H3bD19rue60Y6YuG/OJdTqa5ZIBcIIvA03+OwFplWP9v4cab3rYDDMWQf9OCUa0j\n",
       "GIBk2dPL0v5pMoZsTIyqvftrxai8QfbMkKl6HUWq5tDJRcudth1JNCpmpxBKeqyiOXMiZiRLDNi4\n",
       "gixMsRlgVvN2udK8BFLrCIbatQu9nV929dih29JNlWPyFe5eeN7Yn+UNsrtYr9/lcFtDEuvJbBF2\n",
       "X0L8rns7B1wxJiOCFt/SfyvDMsbfxhqIYeHLe5uWQKodwQ2MUpZj6UZ2oLeJkw7coNmy9B9EbPXP\n",
       "yy54dBPW63c57qwtWf6XUeNAwqfxSxmV3mPkqRqeyK/ZwRA7G9L61b0GtkS5Mp3zEoir9FkCcFV0\n",
       "X08cZeZW09BFx3q9YnQB5ls3oSRXu2JZkCFjskXTLq4mRKfbx1eh13k6Kog87e2JLLZEvZFPykni\n",
       "saYUdyMf/WCFfP9hZVmmJZBqR/D9ZPFWHDm40zhi42RVm/7erBhdcO2v3aXKA1oTIRsLuxLxivyE\n",
       "9vHdxAE9hOjd6pra77ghm3BiXJqlvesiM+qt4wiuXhv84vyt3et+dvve4hJItSP45mgoeiXy0JuY\n",
       "Bqd2lnbe/ePtZ2+9S7qSeMXB7WMduSRvxvIuFy9H+bjWET+baD+R1ie9bQylvRvMjM+oNyPVY0lF\n",
       "vI8cECg/BoV88wzDEkidI3hClqNVrz09eWKpLFtNjoH/+62Kb7xLevLeNbIsXdC/2ViyJaJpQNKs\n",
       "ckmSjhNu7gfuvqUt9WayrP5mLK3ArAsoJYu4lvk5gHFYCev28iwnL4Y3UZgBa2lBKIws84ukavBm\n",
       "l/dlhu+dK03Cu926pV6JLKNl4QXLcnieAaqAIRjjo69E+BW9l/gsvcPs75IlPa+IZMuGNZJhUYoP\n",
       "tRBDSkVMninFGHujeCF1p3aD/5R6K6mabE7kh+idt1iiJOz6nJSj8wzQOYxhEd309lYYxw+qoMvw\n",
       "1andoOF3T+RWOH0Wh65Lcmtsos9yuHMR767mp9Qbrxh/nlreibFQz3g/lKCZPhpyXC6uREVhxxEM\n",
       "PFglazNXqAY+K6a0yHZu+92TctOZNy8trZGAHK82KuVSGHYY+TjWsx3agBJ8Wgya6ZYd6mdPbM8O\n",
       "WM9LS2skoAmwzRrcYeVtOAytsxfhl4NmYlNG/azLwrMBwwASSKNtVPeXYbgwJHm0vKBXPH5cZ52l\n",
       "f/ZYF0syv80DJDCj1sQQK8IYDrhlHhldr1cImgXBhTVo86Ons3ubR4QEIIG0lnckDutHkh3t6sz0\n",
       "eODr5tzoaxeCASufYVgK271rJDDf+oubIo5hVJ1okeixvZL7PHf3m7/4wfNCF3zs6CfXxuSdw6D4\n",
       "H8Pn9Pe4IvJIT2QzeI0E1nBoos8yGMMW8/Mk8A342olf44p2pOC2cYAEaNfa2DiUwhgXts6rO+/A\n",
       "F/zX0rilwsxPnm3atRE7JzCEY7G5fwtf/JiPq7uibSUACRBAG+FQAuO1ZZz/CvyvensaIAHfTLTx\n",
       "zOIderRYYWSMNw/lis581xoJtJk2PFwojFTPFkx1rFHu1DPJQrLVsRoJ3FtoYikRCiPRE6VZaci/\n",
       "BfFIsnzSZUFNn8d+XW997M1CoDhj22f++t6822ok4MbaONwUCmOrNx17w+bjVujr/DhHn8gVmRnk\n",
       "GsmdCaAJ5w8KY6u3OfZm7qzBsjzy18j7bIapkdyxZG3UdkBhrPW2x95spqHwyGmIW4jkFju7NgZJ\n",
       "d1tvPvZmPQ092MGVmTmukdxqbcRDYBgrve2xNzOdPNocsfSkWEgDJDdzHE0skkBhrPS2x94sP2E8\n",
       "0w/kis7GV43k7j1NG49ufhn+V2ZuAZDcvqlu49n1L8P/QkzAIJK7zbUxNqEw3N80LfkgqZHcbqSN\n",
       "WAEKgzw0l382/VKA5A2NtbHOBoXB1B8kS/7LKmokb5kB2siGQ2E8M5l/2Lrs0LwayVuatE04iVAY\n",
       "jcD/6LjqIJI3EbWNaR8Ko/trXkteY3ki+T+MfHvMFJGmvgAAAABJRU5ErkJggg==\n",
       "\" style=\"display:inline;vertical-align:middle;\" /></a><br>"
      ],
      "text/plain": [
       "<IPython.core.display.HTML object>"
      ]
     },
     "metadata": {},
     "output_type": "display_data"
    }
   ],
   "source": [
    "from proveit.physics.quantum.QPE import _alpha_m_mod_two_pow_t\n",
    "_alpha_m_mod_evaluation = (\n",
    "    Forall(\n",
    "        m,\n",
    "        Equals(_alpha_m_mod_two_pow_t,\n",
    "               Mult(frac(one, _two_pow_t),\n",
    "                   Sum(k, Mult(exp_neg_2pi_i_on_two_pow_t(k, m),\n",
    "                               exp2pi_i(_phase, k)),\n",
    "                       domain=Interval(zero, subtract(_two_pow_t, one))))),\n",
    "        domain=Integer))"
   ]
  },
  {
   "cell_type": "code",
   "execution_count": 16,
   "metadata": {},
   "outputs": [
    {
     "data": {
      "text/html": [
       "<strong id=\"_alpha_m_mod_as_geometric_sum\"><a class=\"ProveItLink\" href=\"proofs/_alpha_m_mod_as_geometric_sum/thm_proof.ipynb\">_alpha_m_mod_as_geometric_sum</a> (conjecture with conjecture-based proof):<br></strong> <a class=\"ProveItLink\" href=\"../__pv_it/theorems/3414a4b887c7c46d9fae6c2a56c87a2250e9d5650/theorem_expr.ipynb\"><img src=\"data:image/png;base64,iVBORw0KGgoAAAANSUhEUgAAAeYAAABLCAMAAACSuNR5AAAANlBMVEX///8AAAAAAAAAAAAAAAAA\n",
       "AAAAAAAAAAAAAAAAAAAAAAAAAAAAAAAAAAAAAAAAAAAAAAAAAABHL6OuAAAAEXRSTlMAq1RmmUTN\n",
       "IjK7EInv3XZQQBRtQDMAAAAJcEhZcwAADsQAAA7EAZUrDhsAAAoLSURBVHja3V2JmqwqDhbZ1xne\n",
       "/2VHRC0VKDF6+6Ym3zm9pDv6S0hIQrCH4T0SfMBAUBhI4PeQ9AbAeYcYQTEEUBhI4PeRJRDOGzQ6\n",
       "g2EAoDCQwO8lRyGc52T+iYv+HYyTnGTI1cyjBHCeExEoHh8K4yRHA3ZzJhrCeUoqoghgoDBOcsGz\n",
       "EXsUFkcA53F4i8OYoTAWOWMtIWmN9jW/TgUmPWsP4TwMfHAYMxTGKpdWZDYNjakoVIXgMalZxQDg\n",
       "PLQiHCMAhbHKJW3LqIaRDZVIbkSl5kE7COfdmYVkgt+UoyarWTIq0at5LFbeHs6jsC+iSDqhMA5y\n",
       "tqlMZGoeooBwHiSrUWN4bCiMg5xq1wixqZlMfuc+B040okg/oDD2clLvtKz0ShKjmnm0AM6DYACH\n",
       "z4bC2Mml6peUP2LNQ3QQDtxZonj+GgzVsU2zk5NaKcXMr6hZFx65hwN3lhbDQxcwDGGiw8B3ci4m\n",
       "qv+atCJaXDXQUAx8DwceCqCojdRghA41I4EPSgQFgAMlF1E8dA1Gj5qRwActzsXj9XD+75bmHjUj\n",
       "gQ8iUTiiHg6MRhxZcxVGh5r/Er58+bdZUfbr4cCI4YjAqjA61PyH8MO9vJ5f6ocWU7SHA/UcKIoj\n",
       "VRgdav47+OPd+RSuOmFUkRX3cKChj8Kg5iqMDjX/s/Dp5+LmfsgrzFVcEQGct8I9JFFnn5pPciI2\n",
       "qOlBt16E6iT6WDC7sk3KRkoZH636cC7BKwAHFFZEFAlJHca1ms9yYzwNi5E8EBfbrm/tRbh0G5dO\n",
       "PUyrqON7535qN6X+NNl8seL0cGARLoqEpA7jWs2FHIm1K9H2YK29CFc3uvbZWs2efdeHJk4ewPFz\n",
       "YBGG+xxQ+BhRtEjVYdjLHtZSzsdYa2RnupHrrL0I+Qc+u3hZ6IktNpoYSlT7jH0O0/yndSW31MuP\n",
       "6xnOc9ICOBCyONLmGgwyOVtB6E05NWmpJsNkOzNaexEMM5IOu2H9qHn5ik9XkUSqyqQ0k07DZK4k\n",
       "bHfKXYZbZkX1IIM9ZIOkyA+rnA9zhDWyk4jiVAoURkUu7Kzx4LibmdG8EWYm7vQpSGOX0GxRbv7e\n",
       "56mRNGaX/x1LkTtkVtMEGI2T+0kqimlb5bDN2wtYj76OKE4oQGHU5HT8Gm8UmVHuRVB5/PWg8hXn\n",
       "75Oa8w+WZXVSsxzz52PXwjGu3zzLIbNyyY2ogwp9odQqR5ENK7QsgULNUBg1OTMF1l+uds6MDr0I\n",
       "0zByUnPai5pJNuixHf3uD/Zwt8+sZGRMnRyPK1xRnbOm4BYYdnsctU4ojKocn+xp7M2Mjr0ILGy6\n",
       "Oap5cdqUTIal2Bew+4M9WyfDnFlNSzP3x/CvSCNbHLoAgcbLDoeaoTDqcnbKk81FZmSI82w49yIk\n",
       "q9m1rHzUrMMqHp3+sml0ONhD9f46JExRwGFV71fz4HwiZ8Hje0zLrLVE/RtqDm/KidjMExdLNM6P\n",
       "1PXHfdtx49YxPD6GOVDy5b0W6bSGE6qOxZyiDtDgZHevDXh890uV9DyNgMxxxtvE/I7IFxhQ+Ifl\n",
       "uTHxFwMlfl4tu4dNrerTY3MtMPEU4Hl+yKwqxZ1uNUuyfviWdzht2fSvUgQ6jJObp6pmQ3ip0N17\n",
       "0jgC1dySK4qew2mRzXK6/65+uVyrC1GmmHw4HOyR/pRZVYKIbk4yZNtYLVQgOq0kfgJhTU13h2CF\n",
       "5SsyMQDWgOA+V9r2A3pPGsfOyq05OeOmHGstzzlkVkvm0/+c9HrCppHeH+z5xPSqvnGgig2bNmcM\n",
       "zQBsC+BT+jdKWh3f/+yGIIcM1lmIMYvPiK/7Ad0njQ8wzlnoPkby7JvcsegZvql5lIluPKe+Kkyc\n",
       "sqV9jsvr1vzfQqlfOGK1GcqoCoEMgWq1r74sI8+uzMgsA2NhmyK7VWvbD/Cda3ME7sO05WSjRrI6\n",
       "7dshn7moTEymEVrzotEjfseap5Q5J8+G8lRST+FjIGdcVI7qcpxWNbvapFme1asxEEMp4Xkmhdny\n",
       "w/TFzprX/YDuvfj31Rxc3fqWzIhll36ndCjD90LNqfgWdtemuqXmfo5c8gJpQhrVZERzJM93xmxC\n",
       "Y7k9hKp5G4dOS7QqJs1mJNO4Cr1M0LQaGb/czx1HPO0H1E8a90fMcDne2ltcMiPjHeXB/1GDfqOe\n",
       "cicEm+Lo9YlIyOFe9kxU5JJr+tomnzIYczFO1lI6BWrMhmLSbGqerqFtvk+OLHTIiYkYjxmIGRon\n",
       "jW+q+Vu1viWnmla+ZUbMR/FXxzA8f0HNn4eedJJ6GGQyx0HZXe6uaF4+ykilOb7HSbOpefcTOnt3\n",
       "wngczmqW9zL5LzBMvC9nXLjMjP6QpB9eVPOmgmkpYIeaiZ2/5762pDQH5DhpamrO1iwq1vz1bOLQ\n",
       "AUMyJnJM8LVvowFfsEeZ0es+uzGHx2Kjoocz762IeeN7TpHlGjtRQkiwWlSKKLqZOp4nzY6rVztP\n",
       "mpVTMJM2/6XbnzP+djZxuIYxJyN2Ctil9cKqbrmFqx9lRq8bcwsOLbKBHk7pu2xam7+eziDNPbvz\n",
       "pMlXTL9PneAyN6/YEOa2DDtF2l6oz5LZPpvYBYPMqnCuWPJ74LNqpWrszYxep+a8Klucejggf4Kj\n",
       "e+QMw83LAEltIF/rzjX4tJpK0bEzM3qdQtN7lC1OPRwIIe0Fm3cW5ldvcHcTfj2VGt2Aj1jhi3o4\n",
       "EKI4OjvrMHyck3ajbshVX4FoWMT4tlZdBJA9HAjxiGKaV2HML/xiYfhSYS/kKqmUHEmMOI4QFXnC\n",
       "COCAokDEpy7murdiVN2QE1HsyfscDeI8BV0eAOvhgChGieGJKzCYvi/HWmeoKEY1/+HrCjyOd3eU\n",
       "MCj5IfhAF+YAHBgRHBO9gDE3zV8X0ghOO+0MSASAA8zqcMSgZxi5IH/dqxQi+1k1/+UboziOjOoE\n",
       "Q3qWyP8KfKAHGwEcGBkcofYJxnIyUfwKfGA8YgAc8M0kjmeWb8jRaqeAtcGi07IpoqseDpQsjiAG\n",
       "CuMs5yqRd+qV4xqbmseiHt/Dga+KKDYvoDBOcrLmw9PO+YDDaf1LS/OA+m2O9+WKo+LDerjCYfuj\n",
       "ReUD93DAxHDUe6EwjnLrUXG2nT6mg5rV7JEl2KpwXz2cJ+4SRXgChXGUK46Kz4M1WzOyPzUXCn/c\n",
       "w3niPXDsxUJh7OXKo+Kb047InLZwEM6jecVxTG/+WG47Kr532ihDMFU4rx7OI8IRa4Nh7OTKo+Lz\n",
       "RAjD4V0TOOJsA+A8zFlRvNARCmMnVx4VX8sjDNcfeDbFnO7hPL2nxfHo9pfh31xpJIDz+KYGx7Ob\n",
       "X4Z/K25kEM5T8jjsAQrD258zZgPgPKYRRxwKhTGiq2ReLTMUwHmBGI7KPhQG0z+lZqIhnFf8JY5a\n",
       "IBSG/6VeIV68FqWH80667lCEMVAYSOB3zkkO4bw0xXAsb1AY/HdWZ8Nvcv4Ht69xYBe/I9wAAAAA\n",
       "SUVORK5CYII=\n",
       "\" style=\"display:inline;vertical-align:middle;\" /></a><br>"
      ],
      "text/plain": [
       "<IPython.core.display.HTML object>"
      ]
     },
     "metadata": {},
     "output_type": "display_data"
    }
   ],
   "source": [
    "from proveit.physics.quantum.QPE import _alpha_m_mod_two_pow_t\n",
    "_alpha_m_mod_as_geometric_sum = (\n",
    "    Forall(\n",
    "        m,\n",
    "        Equals(_alpha_m_mod_two_pow_t,\n",
    "               Mult(frac(one, _two_pow_t),\n",
    "                   Sum(k, Exp(exp2pi_i(subtract(_phase, frac(m, _two_pow_t))), k),\n",
    "                       domain=Interval(zero, subtract(_two_pow_t, one))))),\n",
    "        domain=Integer))"
   ]
  },
  {
   "cell_type": "code",
   "execution_count": 17,
   "metadata": {},
   "outputs": [
    {
     "data": {
      "text/html": [
       "<strong id=\"_best_guarantee_delta_nonzero\"><a class=\"ProveItLink\" href=\"proofs/_best_guarantee_delta_nonzero/thm_proof.ipynb\">_best_guarantee_delta_nonzero</a> (conjecture with conjecture-based proof):<br></strong> <a class=\"ProveItLink\" href=\"../__pv_it/theorems/7785f1810b740f72aebec97b7896dcb3efcf0e8a0/theorem_expr.ipynb\"><img src=\"data:image/png;base64,iVBORw0KGgoAAAANSUhEUgAAASsAAAAyCAMAAAAz1A1hAAAAPFBMVEX///8AAAAAAAAAAAAAAAAA\n",
       "AAAAAAAAAAAAAAAAAAAAAAAAAAAAAAAAAAAAAAAAAAAAAAAAAAAAAAAAAAAo1xBWAAAAE3RSTlMA\n",
       "InZUiRDNmWbv3US7qzLn9enz+YF6hwAAAAlwSFlzAAAOxAAADsQBlSsOGwAABQtJREFUaN7VW+m6\n",
       "oyoQZN9h7h3e/12HRXNEUDHJCcQfZ8mXCBTd1dWFAWDYZRz4gosaOn4SVoCvuJwaDpYl86LDi3+x\n",
       "GjwfweaNJGXL/4kdOh0o4bRQoT1WQA2lC4XmzUDB9lhhOZCyhJw3AwmosAKMj5uPnJfYEWxgpf0w\n",
       "ykCezgoVDNRUY9V6aVCh+V0xSYi1tD8Dm8DgUbvr/CcVe6Qa3iuRBGxjRf2gYmQ/yuxeh8zq3B2I\n",
       "jhLODBKk8qPJL2g/VtrGy8u6qRBj2N35j0s7ol7dS7pO+mXIbt0AbbbodzcLPtf+enMMIML5zpxJ\n",
       "czl53hpW32E+s6Eron81nPLd4S1bhRvvLTogLEwe5VJfFldXYE4I4glddCOtpPksVjBUQvhyABMf\n",
       "M3Ht+LtESGHQsRCQVKVpsO6to55/FCtonHP8ZXkkYj3la0igjvLktu8RKSxJChPR3TG5rVT5AFbS\n",
       "x+sNFSlMW/5sOL4Oq20sG7uRtO1WvMEUeDvMR/iqDGv2XBWO6YB/TDdzKeR1EXo5mVxee3sKzjSC\n",
       "2Y3EKvQ8zxlC3gK+yi5scbNYFi0krIlnkUsH5qEgZ5LhsRoSmjb3GaziFBS5z18BnDUeoqlrjwKL\n",
       "q3T9+S/+XEGBnmz4Z2MKL+/Ol+dVQaFVpVLhF5UQQPwWjCC/ilqhbrO9ZEAt4iruNg7p4ZjpC6sf\n",
       "rNIvfNTkYVYCwGusZELbcIDo6fitEJG4dhQEus5wzPg9HaEUkPl+1qwGwPEBi+Y7tkvv1Dmu3GGp\n",
       "oUxu52z9Pkt4foWz5IjcPODZ7MTqKCDFcQcbarZRSb55FVjJFatEOmm90vWF1crtS13TR3EFGSk+\n",
       "V2O1iFMiE4vIe7xlcO0oqK7KodktPR+wyjlIU3GKnBPoB1WqNDHQ/38zAz1I3GRllXNqc4pW8JXa\n",
       "I1zl4OoNkQR6Y3xqlMPhRSGszk0CytyMwl+buFodhYe6Ps9BezsHTZ5owiqOi0KfiZrCspLm+YSB\n",
       "55mJNs1oUzcL+zq4YiVzjarHhxHFyGNpQ0zEN/6RSrjElaOAORDX3A7vc/tS6wmKqiHORBwcdOIa\n",
       "wBiTdMkZTtoJ2LAZ9vqKL8rfA9ceH8ZQNGEAJ1diDFucXgVl5UiOAuQCvqYZWr6ztOHuy6wRSquN\n",
       "S+e2J6zCLTlBqyxS+rJ9PNSihAgRSiCPG9YaH0Z4Yu8fscrRbHkoKmCP1c5RaGtRdK1FW75zZGdV\n",
       "LsfnuBZc4CJS8Hl5gqrX2MJen62mNX6BVY4r1oqrvaPQ7HF6DpEbvnOq+ruuNwRxpB4cOj93EVbF\n",
       "TnR3WYUtWq+mNX7CyixYJXRgbD/jkzZww1eVo/B0B9XwnbPkLv09x1E26K96lTJ+bgjIc0+mMT61\n",
       "4SNCMg1tknSBLjIzk1AHFXssqXIUXuo2d75zlkbUnLQJm+3u9h+uii/rWA18x6n4K1jtfeeljYUN\n",
       "rsO7zuxcIKI7BXh75IWO7ovf0Rmi59vxyne2Hgy4xJwn9EQujQ0HLd9ZmhGTch7PCBXRmDiBnGtV\n",
       "icD0Yw6epZ0PKocTkyxZW/vOg85SAZ/06Stzcj5jB53Ra69nhCqeuxwiMurZD6D4jFhFOe2nq0dT\n",
       "VkIaJ3UU8Wocxc74DCSK+efJAWuMe2x6xsBKBuuBgW1GVm4278O1zbAaubVu4u8CNNhqrHhG5nug\n",
       "IqO1s/2aLNTjvzrE8HdA5dgEdehLvmv5A9U/OUkrqpXoWYgAAAAASUVORK5CYII=\n",
       "\" style=\"display:inline;vertical-align:middle;\" /></a><br>"
      ],
      "text/plain": [
       "<IPython.core.display.HTML object>"
      ]
     },
     "metadata": {},
     "output_type": "display_data"
    }
   ],
   "source": [
    "# Lower bound on the probability of obtaining the rounding-based best estimate b_r,\n",
    "# assuming delta ≠ 0 (i.e. assuming the non-exact case)\n",
    "_best_guarantee_delta_nonzero = (\n",
    "        Implies(NotEquals(_delta_b_round, zero),\n",
    "                greater(sqrd(Abs(SubIndexed(_alpha, Mod(_b_round, _two_pow_t)))),\n",
    "                           frac(four, Exp(pi, two)))))"
   ]
  },
  {
   "cell_type": "code",
   "execution_count": 18,
   "metadata": {},
   "outputs": [
    {
     "data": {
      "text/html": [
       "<strong id=\"_best_guarantee\"><a class=\"ProveItLink\" href=\"proofs/_best_guarantee/thm_proof.ipynb\">_best_guarantee</a> (conjecture with conjecture-based proof):<br></strong> <a class=\"ProveItLink\" href=\"../__pv_it/theorems/cb2ea2c54bb7fb469c9881c12363a8ad55c21fa60/theorem_expr.ipynb\"><img src=\"data:image/png;base64,iVBORw0KGgoAAAANSUhEUgAAAOwAAAAqCAMAAACHvEePAAAANlBMVEX///8AAAAAAAAAAAAAAAAA\n",
       "AAAAAAAAAAAAAAAAAAAAAAAAAAAAAAAAAAAAAAAAAAAAAAAAAABHL6OuAAAAEXRSTlMAme8y+fOJ\n",
       "qyLdRBBUdrvNZlf9A+gAAAAJcEhZcwAADsQAAA7EAZUrDhsAAAN7SURBVGje5VmJcqMwDPXR+pLl\n",
       "4/9/diVDCARCTem0w+KZJBxG+Ol+jhD//dBS3Gd4ex+seCOwuuT7gDXiPmDRXRksGGMt9M52RVwZ\n",
       "LNcR6fud+NJgayB7Vd03ubhrgy3QD9ahWIKV1/LgwTk73ThYHlVZM15Q1wH7WKr2cOgxu5JwHbAu\n",
       "wbEoT9cF68ibnev3/VSrxYuCdUlrLeFcIFwFrKo8xD3A/rGEPwULudzIsmA8HpZgqMHW13Rj9AaO\n",
       "SHCeWk5QTrh4xZgtvi8/DxJUc4UkBR5P6nFe9Nxm+4lnME4i9yIuZtlRez9a5R1yuczCHNkEaP14\n",
       "CXOWWXC/rd1n2ipuENdJ5Md+I5xnNLduDvHZdDZ0VEaZI4Z1rCKwc5aJXm7GQehTYo5r4voU+fkF\n",
       "2K/bSPYNqDia6lDEIqtIhgXLfMdHcpcWU9wgrl50ubF1nTH7ANtOoowFWwQYNGSRgGw8/hRZNKIc\n",
       "nKxg5qf8gmVCnqcNZihZtUJoJhiQvI5ooRTb9IQFmz8hHcwtuxa5m6Bcd4KSzY0Lha7mIKT18Wsz\n",
       "LSYVQFFBaJoH7Y6gnC3AO6FZ7e6JjllmlGIq8oHmOet0HjQ4836WTW+MrKjEZYAOJDu6evGspchv\n",
       "l54p/NVYZUuhRCwNCu0KLY9wSDamsQ54UeyyDpAXTtCFpLVrDtkw8afGMp1sOyFgxhRsxs9sHoGl\n",
       "iYmusgKbEJGwXVzE7IvIt00Fft1UTPtWGxJGRtTUzIvi8+Eafwd+QoUxZOODGS9Ypmbr09xWtduT\n",
       "Oi3zGktisKW938pQxQrsK3HdbBd9R7s4hf+GBBWGKeyubQqdK81lRulmVA18LyHABGKDZdoBZ4wr\n",
       "N56BHSybtyy7Evntznbat1LbFYVTD91tuzdkplABxzuUXjRfopBlIV68Y5nFaiu0HIoO4lJ+GsE2\n",
       "fE6BsIV/49yuryJPtfFm2421fWgWzWgVjBYDb2Dxsg0tK8gS24FI7i3LjLmqFMaiMpkIbKWUo3Jw\n",
       "traQxkfqL+jzsz1fizwDdti3Ost69tqFZzsF6W/57Bj+pyneToV79gjS/TZYo8YeUc7C/zyffV/k\n",
       "pi3PEn57p8KYEI0u2PLqFP4/wGHhB2Z0xd2BqbH9gYdanN63usagNGFB3GNwUfE3wSokFcZ6E6zA\n",
       "LVkN9wCL7MLV3ANsq/F2CfYfesYgtB/RqFwAAAAASUVORK5CYII=\n",
       "\" style=\"display:inline;vertical-align:middle;\" /></a><br>"
      ],
      "text/plain": [
       "<IPython.core.display.HTML object>"
      ]
     },
     "metadata": {},
     "output_type": "display_data"
    }
   ],
   "source": [
    "_best_guarantee = (\n",
    "        greater(sqrd(Abs(SubIndexed(_alpha, Mod(Round(Mult(_two_pow_t, _phase)), _two_pow_t)))),\n",
    "                frac(four, Exp(pi, two))))"
   ]
  },
  {
   "cell_type": "markdown",
   "metadata": {},
   "source": [
    "#### *Evaluation of $\\alpha_l$ after performing the geometric series summation in terms of $\\delta$:*"
   ]
  },
  {
   "cell_type": "markdown",
   "metadata": {},
   "source": [
    "The `_alpha_summed` theorem corresponds to Nielsen & Chuang's formula 5.26 (pg 224)."
   ]
  },
  {
   "cell_type": "code",
   "execution_count": 19,
   "metadata": {},
   "outputs": [
    {
     "data": {
      "text/html": [
       "<strong id=\"_alpha_summed\"><a class=\"ProveItLink\" href=\"proofs/_alpha_summed/thm_proof.ipynb\">_alpha_summed</a> (conjecture with conjecture-based proof):<br></strong> <a class=\"ProveItLink\" href=\"../__pv_it/theorems/f5cc78d0aaf2d33e5b98ee1332b9681e7992c3bf0/theorem_expr.ipynb\"><img src=\"data:image/png;base64,iVBORw0KGgoAAAANSUhEUgAAAkEAAABBCAMAAADhRYC2AAAAOVBMVEX///8AAAAAAAAAAAAAAAAA\n",
       "AAAAAAAAAAAAAAAAAAAAAAAAAAAAAAAAAAAAAAAAAAAAAAAAAAAAAAACXHtMAAAAEnRSTlMAq1Rm\n",
       "mUTNIjK7EInv3Xbt5cmRiLwgAAAACXBIWXMAAA7EAAAOxAGVKw4bAAAKDElEQVR42u1diZarIBJV\n",
       "QEC2meH/P3YEJLIqJpqXhOacbrtBKwrX2qiqDMNf+5lGkuOJS84N/bXfbArER4cDtHvNpJ4Z6rsh\n",
       "9V10mxvg8dE1eHBbCh4PMczikayjqxcVfxfd5sZwfFxvSyKwf90OGB5Dak6fdu4WQJMmX0X3oEG6\n",
       "8UAYH9cmYz6lMjzBupjbhmaeDGUdvTQm4FfRtbQ5H8cKoxDbQoro6C+KORJkU05JZD1s1MkQEyB9\n",
       "YNCpEoS/i66lbX7koRaEo6O/CKAhwDYqMUoMq8S2IZDiDIguVSGq6VfRtU1Pi0V1+AGIR0d/EUEw\n",
       "QM0kC8vOxyqxYEimwk6iHhGEx++iu4qeAEFEattIyiT8X+sxumgz7UVBA4Y5/5RTNgRSRQ/oDh1G\n",
       "dz30/ZPJVynGECNw4AUJJEF8DC7aOhQ1vGmSNJZHmR6kC0M4BR/u0B6T83fR3aSkkT5sAc5yUIRx\n",
       "pyuvCHL/ipVt+ON60UMbNyb4wikxD5RuL4JralA0BFKOBu4U3Z+qBYF30aWStYCisZHZnEuF5XTz\n",
       "QK0GYv81CHL9GYLcRf7TzDmCOg2HxGJrMoCis29kU4Pc0MNmSxUf0Z0mNOr30GUjwnoXH8dnRABa\n",
       "Voo89rzmYRobpFh00Sab5smwGMUt+1AWKUDmatB6b9EQSqcP6c4AxDR6G111iA/VjCAyU0qRPxup\n",
       "kDNsCJpVdIwvWoFBHPtB0ODQKFXKnAAzGayHlVg0NOnE7M86fr3Bm+R2ie6VCBLW+HpgZrlsE4Ab\n",
       "grzhvR7jizxbUpw5EpOBBoCR6R4wFzUNhSGRGm0C94WgWb+P7hUIYqM44XOhMj7u+R4WwWvcRdiy\n",
       "oIfpXjIRplhqkVSM9WXQ6/l9dC9AEBMSQNHuaPImujzktJNyu2N49TDV5WeyqZZKLdCXGJs0fx/d\n",
       "CxA0muUj7fq23waFzXxr3f+ooyAZIjrBc9bx2w3p6X10L0CQe7/n9rd8JvGxxcQbnE5dU+FTvUcc\n",
       "dfx0O2E+v073HIIYlluj3snkWjvjZHN8PGoAHOAtG5rTp5p1T9urWr6R7us8iGpATDuxRETFx328\n",
       "ObtM1QGUD6nUdap0RzEe5CZFukz3Cil2c9QsP68Fg9TzBXRHbum7HrZM9wIEIReA80n2Mk3fFqo7\n",
       "2l1VN73TZbr80FNyeAaTAk5KflLCBEslNrtLNfhMUwy8je44Co3HPSlxfIYhLTX+rIyb1MttOzaL\n",
       "Hvy0e2i+aU9j7inGQaai13SghzcD/7SLGt/kgcc9efazhzUd1DMh8ttKkbjJdSF6conMqffUdvi0\n",
       "Mv7bpr3W30X3I9uYKn22A/oQ7eEPQX8IegZBg7DOdMG7QhDnfKR/CDpteMJSB7IzOT8hzrO6EGR+\n",
       "QSm4llrmyghXmpjAFybIQFpFNwp2ruRYo9spgsjof5Ua3PF+p3UhKJAvrHmVGuVxuGbVucz2EBQF\n",
       "jduPmtGg2EBrWSusJa46pvvrjafu07XDvOp8Kk8aLUyQz8ku1IUoIYjBXRWrhVqcVjlXVtk9A+eK\n",
       "H6z0GiKOsM28GsPTmVKzWqcJ4NMI0lnbTsQ7Z31ya0AQUA89ep00qsZ5nmqz+Ejkzl3aAYI8p6BK\n",
       "7bq+W6jFdxHyjGDEsVHDyaZ5f6XXzE0u7Pa0CPQhuqBpIeBSGRC/kgf9QpZwDUELfLwEcZOGEB2G\n",
       "+nvoc7JdXQiCXJsSBG2rCHYR1EKtjqBglUfr7bJ4KHj5gneJrY/NrSFBtVK+oAUzA+bHUg2jhGt6\n",
       "0J8mvbqCvFPITlpY1qqEIJ+THdeFGJ5EUAu1OoK2VZ7sqruw0EJpknClPYIs+1DLpyjDHxbhZ/uV\n",
       "lbxB7u9X2mLkjquqCCI+oNtOWhTjVtNhTE52XBfCCiyx+SVbEdRCbZI1PcjcMLK5lv9ZfuDCUQyC\n",
       "JNxdaWQpwEUdoi6O1DylyZ56IMj8AvhFBP3LbSLV7h8meDv3oHZixR9k/qDBuz4F009x2WnSkLN7\n",
       "AkHH1NbElAxB2yqvjNMhSOQTISKNkEO4UERcrbnAo9tYHpWymrQyTAk1eciErqtI/w5A4Ix3L4xm\n",
       "VfA5BEVaBcQugXoZo754VpRWfeipsUxBzJYpNCCowe8DwjCHuaAGecbppFgh4kLW9q+0k3o2eyri\n",
       "QY/c330FOaG7KHJ4pq2m3JUtqIjnK5eBJlYU2QK7NTazQISsw04aDfGrxorvj5CreFADNSIqUsze\n",
       "sAHsf/+3AramSVejMBb+Z5N7LfulK4IADXJ/9x8zpmv3p/liHRAuMb868GOvIF5YEQ/5IkLTePwW\n",
       "xFvqu8lCMp3YrMNNWsgSSi9SKSe7GUG2Dgnj56hVNWm/yo8Ig8E4c6axpARWkn0ocv4f+xHGvFdr\n",
       "rPoj9/dAuYzOWg1Cg3h8/VZ1W0G8B1dBTYoYjCXeXnW7TGRnHW7SyEx3EVTKya4jiHCsuQpclORR\n",
       "yKSZWhVBfpUD0HOuUDH/Bh5yQqsHEEXUiVi7hK4L9hjNq3lD2EdbQbzHdE1NWwQoflHwzsNnzq+a\n",
       "N4xxIxKm14T5leFGdWvey/vjN+0g8wqsHIMBNZ1Z+oSuzTRdEETj2jtXqTo7BfGCpffaYbHoXUGM\n",
       "R8yS1/NQSRoWTRripKenQ6nRGxHUAPNpN0N3zZ56ohXpSm01SHZHAGytIF5eU3EtendIME4M29mD\n",
       "yp51akl7/oRYbxqrFBmCQMM8hftSpWl8Nki8RJcalyVSA78hfLFUEC+tiOeqUPmid5M8BWQgdvit\n",
       "Ougo3/I/j10kyQw856iTN7lnCnTttgdF8AYWVCyIV66I54vehdZ64pUpbaFSvWM10IOOn253FbvJ\n",
       "6aL5CbbSCKB6QbxAilkEPYreEdxG10umOg/C+qjjpxu8qdhNRheeKolyqqTiXkG8rKaiL3qXlE0s\n",
       "P4Rq8d5lenNPCYfGbkBvoWs3FMgZfndNQbyspqIvepeUTSzeQRCbBasclKbmLNV9fT+LkO+g6zz6\n",
       "it2CoFZzLeKCSdnE2JgCyrqDgkeobweqVOtRnVWU5jdldkV0ibThTafAenVJxaSWYlI2MUa/05fC\n",
       "bwCql1WcxVHHz4sxdT/d1cuHL0XQ2ZKKcS3FuGxiZtaaOOYgNqteVpGlzh/WVxE8M4X4M+leXlKx\n",
       "vD1auUtrrm2xWfWyilnVY9jd1yLAm+z5V+leX1KxVNuu8pW9iCbWXv1FkUcdP9/YTabDq3SvL6lY\n",
       "qqUIip5hzuIYlnpZRZJ6LUhvJe3N+yY+ku4NJRWzWoqVjT+8ADPkJDtlFbk+6uiCCalPpPuWkooc\n",
       "XvyMTPf4ffRKfCLdryipmDkokBx6bHeVJXyJ7jeUVCRpnAi5qcD7p7cP/Lr57yipOI5HHb00jr+L\n",
       "7qc4QtLoadjnl4Vbc1V9F92PaETQg46e7DFJv4ruR7Qs+h7Dod9G6HfR/YS3btrp+D/t3HBRh4ey\n",
       "OQAAAABJRU5ErkJggg==\n",
       "\" style=\"display:inline;vertical-align:middle;\" /></a><br>"
      ],
      "text/plain": [
       "<IPython.core.display.HTML object>"
      ]
     },
     "metadata": {},
     "output_type": "display_data"
    }
   ],
   "source": [
    "_alpha_summed = Forall(\n",
    "    l,\n",
    "    Equals(SubIndexed(_alpha, ModAdd(_b_floor, l)),\n",
    "           Mult(frac(one, _two_pow_t),\n",
    "                    frac(subtract(one, exp2pi_i(subtract(Mult(_two_pow_t, _delta_b_floor), l))),\n",
    "                         subtract(one, exp2pi_i(subtract(_delta_b_floor, frac(l, _two_pow_t))))))),\n",
    "    domain=_full_domain,\n",
    "    condition=NotEquals(l, zero))"
   ]
  },
  {
   "cell_type": "markdown",
   "metadata": {},
   "source": [
    "### Compute the probability of failure with a measurement beyond $e$ units away from $b$."
   ]
  },
  {
   "cell_type": "markdown",
   "metadata": {},
   "source": [
    "The `_fail_sum` theorem corresponds to Nielsen & Chuang's formula 5.27 (pg 224). We also abstract out a section of its proof into a smaller lemma to prove the logical equivalence of two similar conditions."
   ]
  },
  {
   "cell_type": "code",
   "execution_count": 20,
   "metadata": {},
   "outputs": [
    {
     "data": {
      "text/html": [
       "<strong id=\"_fail_sum_prob_conds_equiv_lemma\"><a class=\"ProveItLink\" href=\"proofs/_fail_sum_prob_conds_equiv_lemma/thm_proof.ipynb\">_fail_sum_prob_conds_equiv_lemma</a> (conjecture with conjecture-based proof):<br></strong> <a class=\"ProveItLink\" href=\"../__pv_it/theorems/51fd333c7283b5fe748115ec160fae5d2869f4760/theorem_expr.ipynb\"><img src=\"data:image/png;base64,iVBORw0KGgoAAAANSUhEUgAAA3YAAAAzBAMAAAAp/of8AAAAMFBMVEX///8AAAAAAAAAAAAAAAAA\n",
       "AAAAAAAAAAAAAAAAAAAAAAAAAAAAAAAAAAAAAAAAAAAv3aB7AAAAD3RSTlMAq1RmmUTNIjK7EInv\n",
       "3XZ/CtNrAAAACXBIWXMAAA7EAAAOxAGVKw4bAAAOoklEQVR42u2cf4wbxRXHn8933vX67HP4HQqN\n",
       "paL0DxowJaSF0uQgR2hIKZZQqYRacgkgSqqCU0WgiNAzCCFQA3dQVeFSAYtCo3Ih3AUa1NImOaCA\n",
       "xE9DQ5qGGJweUH4k4fgRchxS3HnzY707O7tr5+x1hTrSzdlre+ftfHZm3nvztQGcxRgaMqGZJZoT\n",
       "lVzOgK9Aabeqhp7RXYaGhuRDyUqlu7FXEy84np5kVVJpU7Z7lXiwrvd/kJTbOm1AVI0q0smMtez/\n",
       "/ZUvXOxyjb6+I51N94pKLuvpyz+WpoFx/kDfXzycxvM+x3/lflFuPqA4rdO+iQ/nWpXUIGtNq99+\n",
       "6WR3iHnxzKazi4w4R2FWVHL5LVbvXioNRoty2+GwS2U8XrgMO3y6a3WQmw8oknU34ZBImqKSDNlM\n",
       "HyTq69/L3CezOqL57OY4n67iVeKtgjQ1jKJdk7YDPVcXtC2/KHizuyNwZT5ZdVDfRfqS3kJpmcWk\n",
       "8iyqdpTW3YWU0qKSDCHstkzUyw7tlE+2KSx22nPO54tENU9eknF8JmyAVkLiAMQynuPOOOraIHbK\n",
       "ufmBBUhomdVanL6TLrYJ1dhWt6O0bgu+fVJUWB6tGkLYRcfrZYd2GtIdlcyGxC5Zdj4/IKoF0hu7\n",
       "clLnHQvwInSZbnYXiwcfBbFrt8/NHeJJCvtittVakt5iaTc733aU1iE7uNyqSLfvqBpC2LX31s1u\n",
       "dvVkVlvPh8TubGm+mhTVm7wj7y2x6+s3pc57xYQZ+Z8C3D5ISt7G7pSa2XU6LrlsZ9dpBrLzbUdp\n",
       "HWW30KpIU6flLEM20xs5gN162RNAOxdKx64Iid0L0vxd5JU2wQbDNaJf9smddyLAjMIew73e1c5u\n",
       "pje7WHZq7JTWUXZ7rYqcWx+wDCHs+gpB7Iwt0jyFdu6V3rQ4Hwq7lDRXR3p5FWXu9XVWtxyjWHDe\n",
       "gh8lzCmww3XV2Pq2qWCXSHux27D/gtracVtH2S02RYUuylWWIZvpGh84Z+57QjyihqCdi6X2Y+lQ\n",
       "2CUlHyk+wKvIgDO4hUG6LjicC/0Q3PJd4fM8/mW5bna4UPysoI8o2EVJS6lRiR0237ETflNTOwrr\n",
       "6ADpL4gKL+8kyxDCbnotMcL3+a3DDEE7+wtKd7jZ7ORm6S2DVSfrySqrJTR4yPqBr5vda6RXP4VU\n",
       "TsGujXDTPpHYYfN9WXinpnYU1vWh39mXExXoaR6cvcbYvVxTfDfzfHYyagja2Sd9xjgUCrsT5NN3\n",
       "86qfztn6S6VS6V/0le3kb/mVuFyXsOwE9xqN5cJS6cVS6VWfPq1+Hp4hY/zQfgyK20ul3aSttMVO\n",
       "xzn7gaUOdrT5+/d/mKupHYV1xjEE3jB+nFYQKUCqzA0h7PSDtcXmlxwPliFo57D8mXtDYfckeIw7\n",
       "tv4aA45xpy+091JUPezqGHeky7rSal+lA+fLx3OCnZ4WzX9cYzsq6xIIv68gKkzzGcUqO5yjvdhp\n",
       "tmzuJTRlyQxBO/ukyQvm5UNgp3/qxe4ugz4vOudMR6bjZNDyU54zu8pqduhcsHUjjo1Ey6L5QzW2\n",
       "o7LuVHwjnVHYtIKR+bnVOTOeNl3s9pKRumHT8dwANmceS/8dspygfrmh4WwI7FIH5ezmAK8+TdDn\n",
       "+61Xpst+JnExUubU2N1Hroc4KhmVr0JsSFBfpWPA8nex+TfIO2toR2nd3yQ/E6/mOm4IYdeVHXGx\n",
       "w9RMN1wI+861fBW23HFD0E7Zz4TOdAjs4qMyzFFeHXjEMp3fgDK7G3t6LvSfM7ex+3GYODzG56p3\n",
       "bqJ+2oN5J7vEQZ6C463NzMC6nSCanwPG+d7tsMrLui1WNoJWdCzRLbBNjN2l7tg8nsE0U18h6YoR\n",
       "mCFo59mubi0ydhThN+zsIvRKs41g1ylvZHVM8mo2c9yN6SJzv1jOq7xVqXzuy27aK0uylv+zXZlE\n",
       "Jn8fnl52zpmREz4/kt2jvDXt8R08Q4AHUo/N9Wsn2e1jHWV3jlVF8Kx6mRuyGaKLcL17aOcpx59+\n",
       "NMDYhyakxt4l7M4i7NZzb2efNXcyQ9DOc1zr6jhjd54zzCLvbcdbI5ZvBLvhboX7wCsO8y88J9aZ\n",
       "80oGe4674OiyoMqrsHGjas0jr1JzceUz7YaIPSASmVwNsyCeI27MIujMsA+eFKUvb5SHzI3uk5EB\n",
       "fYCxuwkcW7OEHfW5VjYmvCurUh2skvPGI7Wyu7jm5qPdqlw0LfOD2V18WOyc+wg2Qyx2k/B7WA39\n",
       "ZBUkD+mioe+CFd9Rn3K++2Q0LUDZxTApm3Gsd8vA2ryYYjk1Ix9ZbVWyPWIlbGRZ4/UCvVudWZwG\n",
       "NL9AxA6uAGKNjd04fJ30AFnEjuoYZ+xWmn52uqMR4zPGLkpux5jTVzndkfCYSpknRyYQyYhKLkeA\n",
       "yHQ0rjzk6UThkvCwPEFNsXnjaezAvKgkQyR2ZNxdw8ed1q3lfexMul/8mPuZL5VKLzjZdZZKu0ca\n",
       "0ncfuZoN0KusOKKh7LSyxwv/IX83uNuaUvPaJrwl1XoVYsh7bGgXCLv7CLtYRnsejoRV5DMrb7vF\n",
       "9LHTLX6BLzi7HwCsdbJrL0DcbEjfbTMVMS2otQhtI/AVKME6sQc+iz77kxkjsPXtPCTG9v0c4JVK\n",
       "JeiMUnmWs1uOyTxjho0deb7c8dbvqQOGFeLsax0L15+qwC5ys/uq6zNNUTX0jFIpcXZxE+PFmfbY\n",
       "fC2fnG1uhOHUDBl/nWZag/nmXY7DieraOgP+X5pRdnN2beWYzW2n7E6xXBV9z2COStnu3Oe8GaC9\n",
       "mNouXI5d9sM25VswuzO8BqFcrHhTuon8i1v72lDJMnS3mB304vh53c4uZmVGe9BRpDBmOT7cldMm\n",
       "qonkXY7DNnYXBUwebXjxKpE0/EECOiweSDeRv+Pn1r4qVg9NCF7rS0doDYuC6y9izoRHl9mukrJL\n",
       "zCR9bjw2xmSMKnZRU5sg3qLW09Nzno0dHraz2xbQHeu9nM7UlRL1qvRkVu2XqNK+ur22f4sk4+a6\n",
       "+q+jDPbsf6hF+CqwKm27SspOw223jYUIj4+ivYouSxTburPyuKOpiY5qduKjgr8NqIVGkfSWCTmo\n",
       "t6FbseAeuGHHn73Z6bsUo8JL++qSLLfR5D5qfetjB2POKw+zPCnYRQo8I2Wxg+PI3zTtMZ4WurWg\n",
       "6LI7TG0+H1V3vpCxHSYxp+kdmzs7GPMYqJSOjqsyg5aPvC0HS73HHRPLSsVT+2qpjEUyaT3bEJ1X\n",
       "77ijGak9rWH3mWBHkV3qYIfl7982Yc7g4GBGn2a6u8wZF1g6RXp4pjWTnOrvhtA7ZpEqO2VjF8lD\n",
       "5yhMutk5xbJS8dS+WtnBjb1WxhDZLaibHSYph81WoDO+tLPrSrnY4S4XU0zRW3WWHNtdrw75rmej\n",
       "iZV+d2DYywUGzLUBJpLm6mlLaGtn1zkJkYMdo6Dj3bHGZohzM1Uq3tpXkZUfO5r9H2Xs3gxiZ7jS\n",
       "+c8z+WT4ReSi+Qh4x8Xubkjw9IrNV9kABp1dtXtuu0A1CeJhm6/S5XKiqfdzj0BrcpE0U2RUhbaO\n",
       "cVeEyEQq/UfXuPNl5619FRqh4u2WP0PYodY3YNxteFM6QGC2D7SCXdsndnaOnBgrD459QFiIy7vh\n",
       "2q34cHVep18O6axUxhUnpYdt7JIuH5J22HrOCN19qpRmXyypCm3t7PA04+3lJ+pjB57a173CRWEh\n",
       "I91Az9EVN2jOTL0hTscEu5sav/FRW2FSkiDNw4ZBHpvXc1dU3x6RL01/EQV4u5exZ6iFpkrp6c5I\n",
       "Wv6mSX9Zny9GEL+Jgtl5aV+5+iOWp8ElE7fnqIYmcL2LbufwmGB3DtcBhF4i47WwY05B8XDZReVL\n",
       "e59d/O3Mx0MtNFVKvyyWQtHXTzs+9aq6HX92XtpXLve9iTv4yQxlh1rfYF+l7Qo6Vrlg91vkBplo\n",
       "BTsmJalNa3RNXWe+tRox6NKG2MO8Pw2m20RdHwr+dDoHVIW22jHECuOXVCRbUC8qLrGsq3hpX7nK\n",
       "+DguUkOtBWGHOroa/MyOJXjzccFuP7H0QCvY9ZVrZ6dn6skVFeQg0vba19j/61g4iQIhFO+wVcMm\n",
       "tL3FEYGcBocx7jy1r0xljNmcjTZ2e33yKits7K5GdlywS9xYoyXsQtHWwg/lHi1VFefVcYeiU7AL\n",
       "bWkGxJb4uL5+dp7aV+bTYmTenqnOmaj19WJXTaO1LaHn5ILdWdZX0UIuJ0IY7BbLp5vN/AQnOxSd\n",
       "gl1o6/AzSZD5Qd3svLWvTGWMekgNF9h4mbJDra/ELvUU29Sq7pdEtzPDuWD3TDHbh13C+S5JUg7w\n",
       "Inj+8/gTdC/RwUPRKdiFto6c2PaenqIvuwTrQKqvDda+Mj+TjiWMgOgX8XJU6yuPu6V8U6soxwhR\n",
       "Jthd1CI/MxrOd7hcjiauM9Y+DC4yuNZF2e5hVWhrZ5esVCq9fuyYWNa2fNLgzlP7ylTG9Ks2d+IA\n",
       "LVJ2qPWV2d3NNrXERscj1dicCXZfJ5a3Ir5LhvPdSfk7y2yTTExmOATsd64ltJVi8wBfpeZS1S3b\n",
       "yk7ryzmbjXtv3rPutByk5j5BZvC5S9mmFt8vMf4hO2WEenu6BexC+s4yzDP94hRs7BnPXg7y17OH\n",
       "xe5y9wps7d/1ZWIDbUX4HXFB20fgKTohF639EjlMybYon8kduaazi/mpv6x9BFfZ25SLxmyNS2Uc\n",
       "z9vYmfERfVQfJx5Mn8n2nbx/gAc3zVuxjyBmqqaz05/zexFXi9XK6DPThIum2ldX3EfCyio7iJT1\n",
       "UbKIRboXU1/FtddlK2u8Q8/mLneZkNjB+34vopQ1osKkndN4eEz76lYZ/xpSLJ3wHmdHxl1MjDuP\n",
       "vS50svBE/2wBu9B+k0r+LThn8dSrNK/M9U02kcmSTAZLYZUZyWpPee51WW50OXx0Hb2e7M5q9G+f\n",
       "LvVzFUfA4wfbmlV8JcvGjO6zr1z+JST2nw+wde6Ogtdel33JC7vcyvgMDblmtKb/9qmz1KzPbFRp\n",
       "qGQZLggfncH3z+6vfPFfRhGg7owM/40AAAAASUVORK5CYII=\n",
       "\" style=\"display:inline;vertical-align:middle;\" /></a><br>"
      ],
      "text/plain": [
       "<IPython.core.display.HTML object>"
      ]
     },
     "metadata": {},
     "output_type": "display_data"
    }
   ],
   "source": [
    "from proveit.logic import Iff, Union\n",
    "_fail_sum_prob_conds_equiv_lemma = (\n",
    "    Forall(l,\n",
    "        Forall(\n",
    "            e,\n",
    "            Iff(And(InSet(l, Union(_neg_domain, _pos_domain)), greater(ModAbs(l, _two_pow_t), e)),\n",
    "                And(InSet(l, _full_domain), greater(ModAbs(l, _two_pow_t), e)) ).with_wrap_before_operator(),\n",
    "            domain=_e_domain)))"
   ]
  },
  {
   "cell_type": "code",
   "execution_count": 21,
   "metadata": {},
   "outputs": [
    {
     "data": {
      "text/html": [
       "<strong id=\"_fail_sum\"><a class=\"ProveItLink\" href=\"proofs/_fail_sum/thm_proof.ipynb\">_fail_sum</a> (conjecture with conjecture-based proof):<br></strong> <a class=\"ProveItLink\" href=\"../__pv_it/theorems/69cd837c58f56837baaebb176d7a51c87961ddee0/theorem_expr.ipynb\"><img src=\"data:image/png;base64,iVBORw0KGgoAAAANSUhEUgAAArQAAABMCAMAAACrvtS1AAAAM1BMVEX///8AAAAAAAAAAAAAAAAA\n",
       "AAAAAAAAAAAAAAAAAAAAAAAAAAAAAAAAAAAAAAAAAAAAAADxgEwMAAAAEHRSTlMAq1RmmUTNIjK7\n",
       "EInv3XavTnTj9wAAAAlwSFlzAAAOxAAADsQBlSsOGwAADBRJREFUeNrtXQuTqyoMroCKvJb//2uP\n",
       "aH0V0IClxJmTmbt3NsduvsQAAZL09UJPXYtJdk00AOq1eJydfcwQDmpiDSbZNdGASDbPs7OPGcJB\n",
       "TEQJRLJrogGSoo+zcwAzhIOWREWsvmzxAMu1tn+YnUOYIRy01HSYZIPQkCvjmsKwh6/ZuWefjEH8\n",
       "CDOEg5S4bRHJBqGh8WcEnV2Dld3XWPItO9OP8cVJof2QjxnCwXpy0GGSDUEj/A3D4qPcGD2vdLIo\n",
       "8EF/yc5Gs08/KbWJ9zFDODh3YRUnWl82CA3zn9mWNfI2e1d008OtuaerkLJpHETfS0o5rY8ZwsE5\n",
       "0WpMskFo9PLeqaFRp5VlF7pB3dPVLQ1sZIluDmxnaks6bQAzhIMyojWIZIPQ9PM6KzQfdw5RpyVl\n",
       "o1qSGP19aubm3d5yB5P+aKYNYIZwMB4dWIFINghNO3to07x6GZ9p28IbYdvd0pWK2Wl7Ro8nIdyo\n",
       "YouEjxnCQUfCDohkR9HwYaHxDZN5elWMEucIzLGV+0H3TsuH0iOO37Wz1D+fJXgGBx3RiquBLxuG\n",
       "5u2Oh4Pwn4cHr9bKm3bmP7/r9zFDOOhoqBgd+LKBaGa3HJwbyKjTmtKxulX37FzqEiENM4SDLjrQ\n",
       "iGRD0QzTHCuYoUZ8OG0vOyvN9lDRMcfv2NndhPX9z+cJnsFBFx1IRLKhaAIXB17EKIrH6ibBdr5m\n",
       "/cA5Z7+ea33MEA66s4MWkWwwGubNUOz6kW8TT9hn+5op6+jXNvcxQzjISFlMsuFo5NUURX8wGC18\n",
       "P1DTzheYIZz/Ie3tkHZ69ua/f4M68DJV085XmCEcVEQqntL6smuiySEGvkzEo5mPGcJBZnaJSDbD\n",
       "f0L4sbsaHmDnK8wQDirqKl4t+LI75Nfea2LWumNR6O18jRnCQbYP44hkK+QHhEti1hapWvR2vsYM\n",
       "4aCimvvE/F1rZyNUOBRbErN2gPkNO/9EDQBmCAcR9RWHlC8bjIbYD6uKvjWNssBVLScnYfrMkpi1\n",
       "kgau+mHNUtQoiRnCQXV4oBHJhqNpbOhRCrR1TsC2fuaQmNUBJ8WIZglqlMQM4SAiU/Huw5edgEZb\n",
       "G+orwYbSTntMzGqAhwIxzeBqlMQM4SAieTjbMFrDQpmPBw/3pX2e7DAnSnxcWUM9BEB3tzcc4CMx\n",
       "i9kmU9dUNUpihnAQUXMAJ+H3IPtHzWExa02W7DDnbO6ywb4StKjTfiZmSeDaENUMrEZJzBHOBpmg\n",
       "6p4yWBbwRDNYOzTN0MVzkHZOSz5WEkNzZIc5px/PjsezHcBLzJLQVMqoZlA1SmKOcLaS5w5V25ku\n",
       "6LRrmdAQbT21PSr8xgUiQ3aYc0Ji3GWzHzutl5hlgOcVcc2gapTEHOHwZartcd2P6UPAvXriUjhK\n",
       "opvIzWmZN7FSliE7zDmjdnwX5LdO66/ioaOslgJ0TVWjJOYYZ5l9JK7zLxV2WvM+14tnA29OG7AM\n",
       "rDWg8v64StuzSmvzmhAWdlpiALqmqlHDael79CHLrlWHqXT1xMEu/+dXTksCGnU0XXaYc7Xo5p3Y\n",
       "fc8BCNhpzU01SmKOcpR2pCQ2p6UhT3wf0Jw0zlgfZYtGQhrzjvdhrXmVd9ijbNou1cWD8sbLlFI2\n",
       "/EdOS2+qURJzlMMmSQOyjHAbdNrZWXupyfWR1zKrtu7kls+2p9vEwfSOmhPZYc4FefegSUdBunUO\n",
       "0796ku0ALdBpzzWDqFESc5TTN8uPCFGZ8sbSeppyGTm8Ou4B1iMv24wDeqpXaSVbXwF1jafekcPq\n",
       "tG/H7qe3YmYuUbABQy45V8SywtoZnppLdtnLiBfvIhtk0dgzB+ChRJig05KbapTEHOc4pzo5vedv\n",
       "CYKexTdrciSsp+mWSxlZsSkVAacdtoFnRb/OAXyafz+cVrXvjxhjtpka4jpH2WEO4Agi45b8b3aU\n",
       "2V+6qXNCs1+fhTHD0jRhidn/wu+DHmaaeV1RyltXrjS7VqMY5lOOG3+eP3LTDEO7E7R2V40Mydec\n",
       "HAnsabrlUpIuMtu1Aafd9gXCG6wi7LSHG58WONO2l5zrFSfnhmE+v5znKammEknF9+vS1Edc8n3M\n",
       "fnembW+qURLzCafzpscXY6vc1avIGfw1ORLW03TLpYw6bSA84Ou2gDM7Bi29pO5yZI4MRDg8OEwU\n",
       "OxVOY9r74cHLqD7PacUbsZxkjlG8WdL7hfsH999kBd3+IDwAqFES8wlHkuWwdmmrur/whDntkhwJ\n",
       "7Gm65VKmOK3ZpoXJRd0y5Izah5x2mO2oZz+f/xodYDPtfadts5KV1W6YyekXM1rPuHXJyPnLGsy0\n",
       "Rq7qnjjA6wtOC1CjJOYTTq/eM83SVvXQAoWCnHaCrF8pPU3nXMpWw4+8OnsMBly2xbAY49Np38Hy\n",
       "BF+8k5MY6Bzq/pHXaNusu5rpZc7pf3QME/msnlNBMCNWB3A/1sF+7/TgXDOIGiUxn3GW87Wlrer+\n",
       "uo93HOi0U3IkvKfpkkvZGQFzWuayZcwhgjXSaBNxWr50e5N0jX50+xunFSovVVm9Tzyp6wTGXOMv\n",
       "Fx6676Vz6UzNuKV0mxrjprF1/BV0WpAaJTFDOEtbVdrNDVeJy01YCyYvnPaq096hj+vucdKZ4K41\n",
       "eLlwnGk1dVGACDvty0/B7WF7I+29SJ3otN3XEmacUoq8eje0D7OWbsU3nPZUs45VxgzhLAmUfL+K\n",
       "mgbktImd9tbH+7ACXfga9+C0wsXk2piI0/rpMQzmereLPIbc5CMV2sVOgbhbWFv+dgDCnWeYMwcg\n",
       "oSyvQMLMmWbDUBszhLO2Vd1PmsGNmJDLj3WeTeq0tz0e2YgN4YSZ3TH1GKYaRikfx/P4yxhAzYl0\n",
       "u0c/O2pCE9kG7+5ySLqUZcEoPu+miLP5jHOykjtPGn/rHYeZ0504BefTyptqlMQM4axtVUef+nTa\n",
       "rbvqhMtt2vnuOCSx0972eMRpm0g+7SXtHv1sqQltC9t4eaRNSoIsDZ4S0fzrzdd6z2hob/qPXPbw\n",
       "Zwy4coHdVKMk5rRqPSFd8NmeeNW3KPLnj7VAEl4jpnb+3R+WPgMNXu5VJoVPiWAXyNGHyNtXBDGt\n",
       "gHwGWtUW1QysRknM2dV6ra7htLJi06ZbhY3Bb8NcYpdMpxXmpH+oijgjy9Q1VY2SmCGcyL6kZKU5\n",
       "70gkvqmX4OvLhqMJnBL1pIHmfMVmrbOUJRWJVU2mrqlqlMQM4cQcq1xRQ8+ji2y9TmO+7Dahn1u3\n",
       "J63n6B24Lcq5ReMRHCRT11Q1SmJ+WCfAh7ZFYrEmWL8udYb2lQtrVkcNSN8/3J0Aw1X3tWTXRJOp\n",
       "gsBv50vMT+tfrys2Kvdla9xt0wMTqHqAna8wQzioqLEUkeyaaPLC8u4Bdr7CDOGgImMZItk10eRp\n",
       "IB9g5yvMj/sisZpj6nEjPDB/kgfY+QozhIOKajYqf1zb9ECkKh5g5yvMEA42u/eIZGegSatL/vKo\n",
       "U1m6ruWyV3+fdj/ADOEgI1lxh+DL3nEu3mxqXXKB9/8iCbkSB13PE02WUXhR5PotzBAOuqC2QSR7\n",
       "z7l+s9d1yUXff1Lod9D1vB5pS1Mg+geYHxfSvhB/Oe75m4XVJRd9/2mm2z/s1yMtta7FQUO+j1ih\n",
       "31mwijd2vuwd57zSDFaXXPT986RFaqfZVP3B1rooutW6FgftY4ZwEMYHEpHsjeO/WT9OvKxLLuq0\n",
       "JmkV3enqBz5LrWtx0D5mCAdhfKAwyV4511nxgLrkok7bqUxd/cBnqXWdBqlaB+n3QfuYIRx8ZCpe\n",
       "i/uyV47/ZmOFxpHluPT754lL1KbrVC57WEQOJ30FR5qPGcLBSDVDGF/2wvHf7JFAdcklZ9om9QR+\n",
       "1XUtl91wLrWuhUH7mCEcjCQrovRlLxz/zR59FlSXXPD9i+Sxvuq6lstuf2ypdd2DPha5lsEM4aAk\n",
       "UXE98GUvHP/NfhzLQOqSy73/cbXvC9m5XNmejxnCwRrVCkSyv4mmYNmmYqXszH6IGcJBSlpikv1F\n",
       "NAzXQNd1tziQCcI8IqKdAr6KS4IvmzxggRJZKRt1NfMxQzh4iQ2YZLMBvcGa4XF2DmCGcDAHCBST\n",
       "bI19uLdKPM7OPmYIBzPximh92Ry77XT7PDv7mCEc3HNHj0l2izuqFe3z7OxjvuD8A+xJnt5EkHRk\n",
       "AAAAAElFTkSuQmCC\n",
       "\" style=\"display:inline;vertical-align:middle;\" /></a><br>"
      ],
      "text/plain": [
       "<IPython.core.display.HTML object>"
      ]
     },
     "metadata": {},
     "output_type": "display_data"
    }
   ],
   "source": [
    "_fail_sum = (\n",
    "    Forall(\n",
    "        e,\n",
    "        Equals(Pfail(e),\n",
    "               Add(Sum(l, Exp(Abs(_rel_indexed_alpha), two), domain=_neg_domain),\n",
    "                   Sum(l, Exp(Abs(_rel_indexed_alpha), two), domain=_pos_domain))),\n",
    "        domain=_e_domain))"
   ]
  },
  {
   "cell_type": "markdown",
   "metadata": {},
   "source": [
    "The `_alpha_sqrd_upper_bound` theorem is derived from `_alpha_summed`, and Nielsen & Chuang's formula 5.29 (pg 224) appears as a step in the interactive proof notebook steps:"
   ]
  },
  {
   "cell_type": "code",
   "execution_count": 22,
   "metadata": {},
   "outputs": [
    {
     "data": {
      "text/html": [
       "<strong id=\"_alpha_sqrd_upper_bound\"><a class=\"ProveItLink\" href=\"proofs/_alpha_sqrd_upper_bound/thm_proof.ipynb\">_alpha_sqrd_upper_bound</a> (conjecture with conjecture-based proof):<br></strong> <a class=\"ProveItLink\" href=\"../__pv_it/theorems/60d3f3806b4691fb6784e09d3336d20953a8460c0/theorem_expr.ipynb\"><img src=\"data:image/png;base64,iVBORw0KGgoAAAANSUhEUgAAAgMAAAA/CAMAAABKIjuaAAAAP1BMVEX///8AAAAAAAAAAAAAAAAA\n",
       "AAAAAAAAAAAAAAAAAAAAAAAAAAAAAAAAAAAAAAAAAAAAAAAAAAAAAAAAAAAAAADFBd4eAAAAFHRS\n",
       "TlMAq1RmmUTNIjK7EInv3Xbt5cn58/dAoSAAAAAJcEhZcwAADsQAAA7EAZUrDhsAAAfiSURBVHja\n",
       "7V2JlqMqEBUB2ett/P+3PtkUFaKdNk4i4ZxOOzYyAS5Vtxaw6xorBLpv6To5yGb7DsN3/sNAiFZ7\n",
       "Ti37Tn8oQjUqATX+Tv40Fn2T/SZfTTCXXrdICbjl36mfiyENdnpA34nPBUGD5Kj/EsLVmmjPNjAf\n",
       "2mVu5KsWRWu6kdtPJMISkcG+irzp1hgBsh/6xeFlGCC2LQhIS74YWBVq2/KX4I9Vfq/DQKfbcpiI\n",
       "j5V7L8QAactUsmdYBVIphOR9MNA3pQyoPSNG4igFMffBALMtuc2IpWcIE+rGjd8GA53WDWHgHCMb\n",
       "y5thQNiGAkfWrGX6E2rAF3UjXTC23U4EmS0p4RMSMD3yMs/tH8FAb9txFa76+jwGmLhceKoXGnDc\n",
       "thM3AgunYICNUGKX2tQIaTugV5lw0unI2Tbo72wqkqXeexYDTHDOyZ1olLXj4Ewm03Bnl5FYkvln\n",
       "MaCtK0Vl86HDZ0aywZMgYLdWDMNSp/6CE5ZtRvOpwsEPTNpsoG5tJOgltz4XA2DUx6oH4dxeONKA\n",
       "e0eQVgL8RAxIZT556xLyREkbV7RqEQNKKcR/gwFJzGdT6YAB4gdByPYwwAx1ey1Yx/rnMCDR8Oka\n",
       "lPjIIUPpo8h2VB3nbO1j+pUDpdYaVyu+VfVsyQdmcAkD2gtxQToYuXEtyVbGHLSiHLgLBrwIUDTv\n",
       "71y4LmnAGETHK0XI+5IfVeKHVONAa2oJULGZn1iNBvEOqoCBZT/+Dd0PozB07gGUPyUBBECy+uZH\n",
       "CsAt6QL75iUftOA862FihLG/HJAQNLuxWYcuiA6GrFdBhoG0WjnAwyDLgdZWX0LkVnk2HR4pDklU\n",
       "7GHgP7+yQzWlPavXGS/gIx7GdpS/RdT8yP04YcTACIC0BkN/CeGlQZ5QnoLo27nNMDDPQ/8QAwda\n",
       "q2OAZIsXeQ+An8qNg32NAe3vQRwFhz1uAVKGkHR/cD++dUPvbBsmDKg+OQl8fwGXF9pEEWIQXQ5B\n",
       "GoZCn8TAgdbqGDBzYgj1E8a8H2C7pbbEB1LvdZhH2YGTSaMm8ffBqzEHldv4iEqZcJEPdEyjtFzc\n",
       "Ry5Ja7rcBdF70uHfy4EDrVFT4wN+fohw5a/xB4/L2T2z1dElDBDfEB5pwSg7xmd9ZyUBOWHAfSQA\n",
       "7rgU+uH905ZLmXAJA12ykX1/aTaAvNIzH0RnBC9lLgc9ext/gIHd1gaQRQxkAiIKr4ABDYdsQ6Uw\n",
       "HlsmCoIOIShEzhCA54TgBENSNzdIuiplwqF1EonvLx78uhLj33gSHVykwg7YgH5hauEX5gEM7FuU\n",
       "/QBFDMx0IAmvoAu2yTF6z09ogwphDm4LOWCovAsGSplwGwz4/vLcSAJUseR3g+iH5cB+a0xXWg7z\n",
       "4yD39z8RcmVO6MNjDzEwiiIsumAgUR4x0HMHDrgLBpLaXQzmOjsy9DdfliVOeCyIXsGAVOnjeGtV\n",
       "TpjmZ45+ds6qp1vg7saOOQn+AP9fOZo//ou5OwTqdoE0WfkBH8D0/Jol5b/1qW0y4cx6vYT+jrPy\n",
       "EAP1IHppppgarILM6cTix/HWqhhI85PDVikoIGqVWq53nJWAGTDAhx75eenJ+TULK3V7VVC72tZs\n",
       "CCdYqz6iY+XEdIS6bZgq7HppwB6b0D5qR9kDld1rMCCHp2v+JFFl9rtOVwW1a/f7Rc3vZdHrMbA/\n",
       "qHi5zajScQl1Z895GBD42ZrSVsXXoAWrGurxqqB2mT0wwcOfd4TyVWBmg4F+X2nS5aaq2oQ+CJD9\n",
       "HAOcPGS4yuxtVmEpj5UMQT1XpbJyJGgN35nPx6uC2qWHNpvxPx0ZY+uReiZxT9rF8D3hz/n5I6Y8\n",
       "vJNBi/c4Vajp1bka+QxTZlDlr1HcBysnW0hWdyhg29DZvebyredQwcDETndPSww1YxzEyYRqpLpo\n",
       "wncD3l5tuHJDRxJdvtOe4/JReHxak3vxxlgzpEIi9/2ry1kWt4wRsb1aw6Sl02jw1TvtVeU4xCmS\n",
       "vrt3NdZE/hcaa9M6JynuHQW9vVqLGtMQBtjFG+uAVTCAhqN0AA0rXTZKfFnETY/60p4xOgGDViQI\n",
       "t02dXK0vRTzDtWNRRZostOdBESKfLPDvXijari7eiQqzPJ/NWzulF9o6oVBdutPeLa8yBqa7eo+R\n",
       "5897fskJ5kURx8J5k+ucSDbRT1Y5gUO0dASFG4YLrSAfBp/nMLdM00nRfCapciiGHbIzpYl4YOx6\n",
       "geJXOlKrOnRztarQ2AnOw3W7aBis1nE2neku7C7B+XlcmKq5Sc92uQ9+8xXs+WP+iVs7rBZfZx1S\n",
       "5IrVSNVnVqBOHsRA75qphteln0jHCfKcyKWo4eW+D6YtCIxjdTEH1mW7QEyrd+f7pJohoQOqiPEY\n",
       "cO6jPCfyiF3AbHOvdSEXE6DyER9JB1gqdwgKpN1QPsu2vmRdZL53eMtzIr3kmzqMdZkmtwaBKZn8\n",
       "IsQJaxHUjXZM9sRSrGnCvpAHbEZBWPh5TqT/CpMgIuiPj8ebFHgLS0jT82tG0dLNOZFe3T+OFxDT\n",
       "NVjeYkcQUefXjN3LciK73bghO+XUzo8rb/F6Q67Prxnr5zmRuUVZsi071OjbndQ7nLSB+vNrLhZ4\n",
       "9ByYCfCmAH2sW33brXgDbfCLfMJDJeZEFvIJc6DoZt/zJ80bdL1X59ecexhzIot5xXMZGn7jK3sH\n",
       "+L90f0HMiZxzR0ubN2TW7v+igFJpHZtAuQAAAABJRU5ErkJggg==\n",
       "\" style=\"display:inline;vertical-align:middle;\" /></a><br>"
      ],
      "text/plain": [
       "<IPython.core.display.HTML object>"
      ]
     },
     "metadata": {},
     "output_type": "display_data"
    }
   ],
   "source": [
    "from proveit.physics.quantum.QPE import _delta_b_floor\n",
    "_alpha_sqrd_upper_bound = Forall(\n",
    "    l,\n",
    "    LessEq(Exp(Abs(SubIndexed(_alpha, ModAdd(_b_floor, l))), two),\n",
    "           frac(one,\n",
    "                Mult(four, Exp(subtract(l, Mult(_two_pow_t, _delta_b_floor)), two)))),\n",
    "    domain=_full_domain,\n",
    "    condition=NotEquals(l, zero))"
   ]
  },
  {
   "cell_type": "markdown",
   "metadata": {},
   "source": [
    "#### Obtain a bound on the failure probability:"
   ]
  },
  {
   "cell_type": "markdown",
   "metadata": {},
   "source": [
    "The `_failure_upper_bound_lemma` theorem corresponds to Nielsen & Chuang's formula 5.30 (pg 224), establishing an initial expression for the probability of failing to obtain a sufficiently accurate estimate:"
   ]
  },
  {
   "cell_type": "code",
   "execution_count": 23,
   "metadata": {},
   "outputs": [
    {
     "data": {
      "text/html": [
       "<strong id=\"_failure_upper_bound_lemma\"><a class=\"ProveItLink\" href=\"proofs/_failure_upper_bound_lemma/thm_proof.ipynb\">_failure_upper_bound_lemma</a> (conjecture with conjecture-based proof):<br></strong> <a class=\"ProveItLink\" href=\"../__pv_it/theorems/0b09553e40c08192b100c5b6e6793b3c9a7ca60e0/theorem_expr.ipynb\"><img src=\"data:image/png;base64,iVBORw0KGgoAAAANSUhEUgAAA4MAAABMBAMAAAAl7381AAAAMFBMVEX///8AAAAAAAAAAAAAAAAA\n",
       "AAAAAAAAAAAAAAAAAAAAAAAAAAAAAAAAAAAAAAAAAAAv3aB7AAAAD3RSTlMAq1RmmUTNIjK7EInv\n",
       "3XZ/CtNrAAAACXBIWXMAAA7EAAAOxAGVKw4bAAAP/UlEQVR42s1dfWwcxRV/93239+XQCikB1aZF\n",
       "rdRCc3w0VRFNTJMGQkRi1D+QQBCnLV8V4GubtqBAfbQRoiLFLqgFVxRv1DQtCuCDqFULSuIWEB+l\n",
       "tRG0jUKdOAVUKZA4X04cO8l2Z3dvZnb3zfjOnjn3Sdk8v/Ob37v57cy8mZ1ZA6iVZIcOb2a/GZou\n",
       "95myT29uFrpEUStXaPGm9nhL8ynMyjC1B0TRJYpSib6hw5vZLzCbTyG8JPlMf0Av1aGolKdLOryp\n",
       "3XhpDhiENWXhR00IiKJLFJVythZvao90hj77TODngvovFekVf8QCSrV7yj2mHnSJolDS4zq8mb0n\n",
       "lO7EfJZf2zXarvxbpY4IP+ICio160V5o6kGXKCrz0U4d3sx+S+izTTSvILV3cBjgBvVf61fCT7iA\n",
       "DnzFU/KmJnSJok4WdujwpvZouJl+taZknF+wKUyqTzB6RkX5lxfQ1ucWQB40UUjRJYo6uVOLN7Un\n",
       "h0Of2RZj23s8hdk25V8rMyjqN7yA2uEa2AKwbtmyZR3KKaToEkXdUHhGhzezh2+6lN3HPlOJ8BRG\n",
       "1Q+G0SPTNJBx6K6cH9PUCim6RFGXPE3q8Gb21lDlJOycbF5qG09hQkOadlxgrwV0mU3hui96d9xH\n",
       "z+tClyiqZKBXhze1Gyc560/6bClHWwBevtiEFX1P9PWVHArTGihsreCzQhbQdo0zQ4ouUVTJkjYd\n",
       "3tQeC3cbhK8T/nRGQ0cKa6qomQWU3q1zcl+dXlEl/aYOb2rPID2tzdkjkOUpLKjP0qCIpw0sIMXT\n",
       "eQG6RFEkxmkd3sw+EE5I4TGAze/t9yhM/WFqFDIaVp0yE3gXP0xXZlJlfRRSdImiSGJTSrx/agpK\n",
       "XYL0Gjf45oVEnmooC66vAyzg34wGdM+DG2bSDBtFlyiqEtJxBd7Gx7tMQamtyNQ/XuZWZxy5sgHM\n",
       "Tcvry6HTeOZHAxqyrBl844bRJYoiyR1S4j1mCkodwtxeCDbmhhaICnVOgyy0kQ3NssIaRpcoiuYU\n",
       "w0q8AxRSOz5YGtP8rKYSuzqUj/0zQZcoamRhrxLvAIXUHj2pPlOotxJXY2nurANqGF2iqJHVVSXe\n",
       "AQqpPT41dxQuwe7OWQfUMLpEUSNdbUq8AxRSe/LI3FHYg82/Zh1Qw+gSRY0MVZR4Byik9tzE3FE4\n",
       "gGVqsw6oYXSJokZmlx1R7wCF1F5EvnCXxeSMxkosYmyxgJJcGNaoPnSJokRSlhpvP4XM3o3ccAst\n",
       "t40a39s3dEojhXmsz2QBRS2vJn9707nWoD50iaJEoqfVePspZPaFyJwlYlFjbG+bPgqTWBPnAmpl\n",
       "3/3LR/ShSxQ148pxNd5+Cjl7J+K29zBLEHv1URjBkk8uoLzFtuWu0IcuUZRI1p0mFUaQrObALrdX\n",
       "dH8qi71t2VkW2DGKeiy29/TKGcR8or7fix9GjFxAaeso+92yNnSJokQibmlZdL3g9871P+4PN4m9\n",
       "AeYNrS1hdmjF9p8XLFYNscZDPvf4x+qrbKyH4QMasxhxJW3ouOKE8SkVFGaOUQoL/Sfn/eLqEIVR\n",
       "b5ZeKAm9Jfb+duzz/tPQBMliKHxAGWu4Cei44uziu1UFUJJRCEV7mHjCDFK4pfbTt7h05Vaft6hU\n",
       "MoFAKXzaam8ChQUs3eUDMoaONQEdV+4nQ5SSVZr8FKOQbO1aOBqkcGntp0tZ5/eO6fMWlUoyF3T9\n",
       "LmEdaQKFMTZh+hqgAa2x2vSj4wrZOatm62WOo3DMTmnGqkEK6YwpV2ughXdNv7eoVLJMgy/B7jxl\n",
       "NpXCzwMaUNZ6Y64ojNnjUlIJUO4Mo7Cf/KsEKIzSJDzpDYZb9wS9RaWSGsOXPZJWp34KoyiFvoC6\n",
       "jutHFyh/Gxn5qxoKjzIKTwZ39hIK4+Su3Xrwanq4cfPbIW9RqaTG8EzPGJqaKwpL/kG5OlcUXgXw\n",
       "SyVARUahTV9qe1uQQtL2ErvgIbvpOw1n09fD3qJSbbEEyXptkU2nJDAK/QHRRTaN6ALl25DyTbhi\n",
       "29BiBMfnHmJTh+IRNqk4/OK2DrhhlbPgBE8dcinM26R2l+AD++s6o2LER6EgK2F2Ub4Q1zgKsam7\n",
       "iVDoD2i1tkGZoguUjOmfjG8E95weJ+TgDnJ8jpjhOcb9ZZTCjLMAPHk3uT4MKY/CnP1J/8EPSSt1\n",
       "F4jXcR2p5w3OYj/5eKDTZwe4RFRDe4XrhEVr9uL21pe4BV4zMvLmyMhbaED54DMK5egiJTpKs5mH\n",
       "5/8c4NPeOT1OyMEd5PgcMZNfr0U8Tikk00IwagmowVHorrUkBkPpTDG4/S3fHrBbom0i3cNz1Ar9\n",
       "AaVOwxy1QuhcXOuRriJXwknUXynk4A5yfI6YeQpZR9pDRvYNU6X1l3YY/ZRC0pG6DYaWzyYVM+9I\n",
       "4aPy/0VHWnh1zih8nqyVbF1cgvdAQCE5uIMcn7tMSOFYh9v4zoFXoZtSmLE7mnftwu3esTc0tZ85\n",
       "hQltaYTx4jxaUzAthWsq2tFFyr12NmPsghbDrddFYQrJwR30+Nx2gBuxSUWX13/+AB6FAUohmUos\n",
       "AuNKb3rhJXK3zXJSAT3alkXiEB+WZKT+gNJH9KOLlIh990Ra1pcSTkTp2xAK07sBOz5HNpQn94cp\n",
       "XGE96VJY2LGHozBNDq1sI912vkNCVaPzwr9r6z6LHamJuil8elQ/ukSB3NLPQuz2vr5H4P4FCIWB\n",
       "gztpcrbvMdccvYsOktzU3muFb8OTJqMQdtV+9T5kLZRRuAG378UpTLbrW9gypRT6A/pmE9BlFBbt\n",
       "jCDt9m77whQKDu445ntZXZ4JUmhMwp5RjkK6ur0UYYLNDN7C7V34bd6nM43JehURZU8q2DK3L6BM\n",
       "bxPQJQpk2qDqLdKwdMaowla3EeIHdxwzS2cyU34KNx0rv3/JA/tb2zcf8yisnRvznow8M0Jkl8+b\n",
       "ZHY+Cpm9H13AirPTQVG0Hr5Qt5FNlmoXesoqhj4v5AO6htVQ2zRA8mMf7UDP+ITQJQoYqxabcE/F\n",
       "o9A5p2c3y1dho1PpgoM7jplRGDnmpxCCC2zgJUzoEcAIfd7247W4vRXtMS9nZV2Mri+212tktya9\n",
       "pGpLj+i+ID6gGJtRxNqmATofpkN37/EwukTxePxT3895TuoS9uveNo4sunfmFee/H7o//RdrTXSD\n",
       "RXUtbl/dIp9RRAex+LbIjEl0RuksRDmXdXZO7X4p7PgEHxA3o7hgGnSjc3p0Z6oeRpcovNw4Uwqz\n",
       "szolQr0L5bWoHd/+1E1veWM12rQelRkH+JF9+eu1Kt3tXVKPP+gtAcexZ/JcQNyrtDYfmwY9U0LQ\n",
       "193xGHDoZOaGoEsUX/7QUHKcZkvVsVk9MKPe34W1qB2WdMpmFN9pRR9YpOymmd1bCRvXLX/c3+Nk\n",
       "4dracLbPu+Tc1VpS7dgyLBcQnVGkzuMfWBCg7cGVB5IAhtCriQXAoRdaUHSJ4pMfNVLzd3N92qnZ\n",
       "UEi9q34KWalrkI4yefwWR0bscRldonQWEZaEjfZos7Nj/T//yA26LB8ZMGsXioPN27mAutww7vy3\n",
       "ZfH7oAh6LLgJfSUg6AvAh274dphSdImiRNRsyI+V/RTKN+Sv5hb1j+LzY/uyPGyMlCE3CPzTrgIb\n",
       "2ZxNBUl+1oeegGEBxfmHCyU/ejzYeYwDgr4P/OjfAAxdoqgRq6zA28541uKlFk/MoNQe0pb2hI25\n",
       "SYicAP5eN9j97OwL920Ox47k1BEQQc8HBqa0XVQYfaDNj+7bEk7RJYoa2duhwPvaefNOnYOWmp/J\n",
       "2xgOkIY8ETZGhiEykfB1zey9N4XB2oU2OCzbnT4ggt4dGIgLwxg6904dB/gjwNAlihppLanx/jNu\n",
       "jxydQankhcKh0ch9y3D+UKHld8x4HjtnnpisXeiwh6RSdQR0NjIQey8S9qNHz2LpvAO8xsTQJYoa\n",
       "GWtX430StxdmstmWLL+F3n/srsn1jMZH2fsyYp3sdX3pidqFBoGtDE0fEAGaH5xT9CLoi7hXBDrA\n",
       "PRUMXaKokdndEdR7hfUJ1J6YyaSFjKu5UcRIlmLTS1lFdZejE+nbvRRqvHahXUEblkQfrwc9+CAl\n",
       "2RJGT52AhZUHejn07g4MXaKokdkdGhZ5U7sxk4z3HXJHk4TIuNNZka3UjCxdMRwm5pO73xuEjfHa\n",
       "hQ7IJrbMYtWBnnZyni1sOdjdUOJHt/uJnkqkyqEPdGDoEkWN5E/o8Gb2vaKMV/Jy+rXB1IC2wot8\n",
       "NMNRsifrNa+8iUASZOBTXicgoxUhdxEFKgyirdCPXixBD+QqHDqfBFF0iaJIskd1eDP7zhJSY4Ld\n",
       "dVwlws8MhMJotbYC6f7+hD0aps/scwpwWk6au6Wi+Ck+J6DgojK5nR4+QIEyLSZCYQB9oGKPhj0H\n",
       "3fm9A9xTRtAliiJJHNbhzexrWtAaC+2u4yuRJBNHs4EiifEhgP28bQKSbYXdhXb4EMlII/gaiBvQ\n",
       "Sr/R6SEvpEDFUiDhcJKrAHqxYs/zD5jvQ6GKZKQUXaKokiEt3tTuvo1tZXCtI7S7jq9E0omOPxso\n",
       "0Tam3lm2zPdcewecB5lSrNNYZUKMdH4xrgcUvF3ONf+DdgiLS2H04vWBZIr0rEH07Gi0BR61W+Lm\n",
       "/R7w5YCgSxRVsrqiw5va4xO+GnMF2V3HVyK5my8NJt62MW9Z/uM02YNVezSKt0RL3t/S4v+gVg/+\n",
       "B66cgIxDsIJsRCmRLWRh9NjKYK8yCWH0HXbbfw2ucM7qOsD8HyCj6BJF2ayiqsOb2hNTfI3Rz0O7\n",
       "6/hKzGErRjnBMlIRcm3f34+skY7hqbsTED2vRbaQ1YP+iuD7H4K/pO4ykTVSii5RVEluUIc3s7/J\n",
       "1xidCYd21/GVGMfui7jgZsmbX3IO6oWeVNwhCPlNvjCyhSze1/d636Ny9JWCwnbHeqETkCcVd9Sh\n",
       "qJLCuA5vZic7jGmt8NvoeHr8lZjG7ou04GZJrxp1KLzIn/ZDWnT8jQSUv97rForlUDqDAm0UFLbh\n",
       "IDgUEuBYC4IuUdTJYS3e1F5s4WqMzglDu+v4SoSzsBLPEgexzv73L6hdvC5S9DiABFSs/a02ZwtZ\n",
       "HegRcefnTHAJcL6MoEsUdbLT1OFN7dlJrsZqs/nw7jpfJUr3ziDySX7vTG3aJkoaSEDxD2pTS7KF\n",
       "zEVf37VDDGSI1yGjbfzemSC6RFG4xFbV4U3txhRXY7UpR3h3na8So1ihUWGcz77A72Cr9ZeiZSED\n",
       "6ch6pwX6nAjc+NDkd7AF0SWKwsFwUoc3s4/V1cr9DyYa20eatTtoZ9MR/9acl4VQSEDt0wKJ95Fu\n",
       "84DjJoYuURTKu1q8qT1fVytvb96Nmdd2vj6MLlFUysKyDm9qj56AOZAB8aPsJgRE0SWKSon36vBm\n",
       "9hVzQeF8yWcrmocuUZTK21q8qT1faj6DCdnbGLQHRNElilrZaOrwpvb0G82nMC/b1aU9IIouURTf\n",
       "NGUd3sx+XfMp/I300+uahS5U/gdOivt0oJDGBQAAAABJRU5ErkJggg==\n",
       "\" style=\"display:inline;vertical-align:middle;\" /></a><br>"
      ],
      "text/plain": [
       "<IPython.core.display.HTML object>"
      ]
     },
     "metadata": {},
     "output_type": "display_data"
    }
   ],
   "source": [
    "_failure_upper_bound_lemma = Forall(\n",
    "    e,\n",
    "    LessEq(Pfail(e), \n",
    "           Mult(frac(one, four), \n",
    "                Add(Sum(l, frac(one, sqrd(_diff_l_scaled_delta_floor)), domain=_neg_domain),\n",
    "                    Sum(l, frac(one, sqrd(_diff_l_scaled_delta_floor)), domain=_pos_domain)))), \n",
    "    domain=_e_domain)"
   ]
  },
  {
   "cell_type": "markdown",
   "metadata": {},
   "source": [
    "And then `_failure_upper_bound` corresponds to Nielsen & Chuang's formula 5.34 (pg 224), but derived in a slightly different way to allow two distinctions from Nielsen & Chuang's result: (1) the bound now works for $e = 1$; (2) the bound is now somewhat tighter."
   ]
  },
  {
   "cell_type": "code",
   "execution_count": 24,
   "metadata": {},
   "outputs": [
    {
     "data": {
      "text/html": [
       "<strong id=\"_failure_upper_bound\"><a class=\"ProveItLink\" href=\"proofs/_failure_upper_bound/thm_proof.ipynb\">_failure_upper_bound</a> (conjecture with conjecture-based proof):<br></strong> <a class=\"ProveItLink\" href=\"../__pv_it/theorems/dab15506ed44e496fef5b23b955f66655119a6710/theorem_expr.ipynb\"><img src=\"data:image/png;base64,iVBORw0KGgoAAAANSUhEUgAAAacAAAAyBAMAAAAKHQnvAAAAMFBMVEX///8AAAAAAAAAAAAAAAAA\n",
       "AAAAAAAAAAAAAAAAAAAAAAAAAAAAAAAAAAAAAAAAAAAv3aB7AAAAD3RSTlMAq1RmmUTNIjK7EInv\n",
       "3XZ/CtNrAAAACXBIWXMAAA7EAAAOxAGVKw4bAAAGrElEQVRo3sWaa2gcRRzA/7nL3W72cnsJfhD7\n",
       "MAGlH9SaQEsF0eSwUdti60nBL6KNRbCtoCcGNPSRq5ZSsbZRUZpSmw2GQgmSa2MFKW3TD1q0lSYm\n",
       "SGi99tSKaG3SR/pIIjlndh77TC65mcOB3Oxudnbnt/N/7wLIbWUpgcF7Ch6p7SX9QQOK0O4SGFtS\n",
       "W/jYDwmNeq4ITCVpgcFzrc0ZTM55SqCP9AuLALVEYGywkW92PDWe72z3KYdIF6mQzqScEhi8KWlt\n",
       "63mh3KdEqewOSIeKZgUGXwARqMAPpH9Iuql4TET6eoWg4BXSheOyoU4LjC1Pi0GtIdIbui2ZaQZT\n",
       "mbqNGGJQYWoiXpatUiKmpx/EoAJ0v0ayUu0WCCfUO4JQ2iTpu7NyoeaJuO1eQSj4nAZqfXKhTorY\n",
       "iQpRqHpiKYJyLYV6Q0R0a0WhuskVtBtSoXTzGekZH826MkQiDrKX9DN+joOR/I/bcwpb65NSocpM\n",
       "tYgk/P53xPz9jey85HPCPoeCzbuVL9z3nsKUCemWiXefFKjyVgalt49VfrbCAxWg/lX3yTG+F759\n",
       "5CrpTwA8iftXpUB1x/lKxVDEvc9wQx1gexts7oXcWxsVvn3wJjUYCdiKRb1VjpvKcii8WZN1Qy1l\n",
       "e4utmQzS7G5y+muvnoGdmuTTCKOLRqqlQNVUc6gRZCxG0m4o7orK2SLq5+lW4Pr01354Bin9KBeY\n",
       "IJLvsBxDUZ/iUO34L+WCCvAsMEyVqounG8E7wlBwjXQxZCZ+zGROy4EiVtmEGnMLFIYqxUvXNbyC\n",
       "56edAy53IAY1RqGQMi0D2CsH6oTBoBCQcqzaDYXXJzQEH7DMvWOtzXSNi0N9R2UbXfxNUBwRSrDH\n",
       "P1NnyVezIwpWv7J2n+VQ+rWjPQl4YRXefxwOXiVQUYTZUgt/IEE0tavEBlUqASpDcwXkr8oMp7vc\n",
       "if6+aHSc3XVoDgSpLVMXcgrtaKVhr3RUAYMqM13G+Dv4dxcoFKoc/ad9+DJeSeJSmizxKyFHYjl3\n",
       "w8dXZjJnMhkzN8n5NjL4FwqFnlggy+3Erns+BViA7jnsjHTjsBKuPMGSJg5VCqV9Nu23QWE3BRoz\n",
       "dpoNiihzqNdtKCiU0ErZoKCxjk1yGf5dYKui0XYTWlJR8EDFEsodO5QlfruxSdg2UbtxcUJr51BY\n",
       "/CYdVTrLpEsWPziM/XtXXS38DlNAPYqgUDTQ1NDQkLBBBQ0n1Alu/UYSZIHmwilo4VBlSILPo4uj\n",
       "ka1u5xu5LdVQwCakFdoQVGjkTku8UADH4P6gZ6XQVPogZJ06wv3UG1Tq3oZPoJtDYfVbAtrT1LhT\n",
       "r7uOLFnBfgorvCM8N6P1EjSXkoqNtSHTI6rrfKDUc9D0CN3857B1HFewXzc8znd5bj+B0o9fsEGp\n",
       "6Kp6Dxb2qCeSL9z5YoUnjUYUMWany5c+AMH1bW0fw9Y5PlDNrmLG+22oJUHBDm4BD/FqEo7UA7EM\n",
       "wH7DgoIhduZmz9QCNBpVGtan8kBtA4/Ck/tN0DCJiUEMqYNKdn71QilxxS+vgyYkX0qvK3m1QWnj\n",
       "cCFrg+Jx7NIps+ZmiNzME9D2g0fh3QEtTbCqIU0DC8tQaGnoInfasc2v7qTs2bHCbihicQdUx2jy\n",
       "0qLtf1fFO0cpVBl9NDQr+DKD25BDdu4GOJMnv+4Hj8I7YuIaFspoq+oMaE5RKOXrCUyrnoKd5jTO\n",
       "5nK+SSH2ejaoaGOezJeaIg5nbz+T7qwBVclpod5zVyvZOx0WPjoLA9o3bcT5zqbZoEiVK+Jbo/jW\n",
       "7LaQvT+nLq/NRz58+uph2g3FFJ757yqfQS8WDBUUqTrXcwG/aD3l45c8Yq8nbVA45OcKX946dWEg\n",
       "PLsK53YrGFevi6TN1a4EFj/flOp5M/mWrVhuhvxc4VvIxBXfHPrd2cxFSckuZloFeeUG6B4FTdug\n",
       "zJCfK3xxipnwjMDYUuYalpuCdwvbk8nhIx4nnSRQ3VjqScjP2nyqWpLLzmsShY8NUfcUJAs1SPNy\n",
       "d9tC39VE41b+ThsVu1hWLlQ0LjB4kHQPAnf0ftN7rrLy37kuDKeZqjfkQkkwf8gy6GxWUWQlfOpc\n",
       "luaSkN+li/0guYm/Ht3c0LCSP6NG6ExOWV8BFvIz2S/S61GhpSfLfDGXu8UPXV7kI4DLc/dyn9VT\n",
       "Zx3/iEYr0j+kCIt88PKa0K1DVPTXGLKhVJGPQ3YmhYwU1b6fQHr7S2CsLlTRL95nPNI+uJq99NEQ\n",
       "9HkoQlsropHVhY/dTlRJ3VAMqP/rI0YKc8Bk+w/jIB7SeQt3uwAAAABJRU5ErkJggg==\n",
       "\" style=\"display:inline;vertical-align:middle;\" /></a><br>"
      ],
      "text/plain": [
       "<IPython.core.display.HTML object>"
      ]
     },
     "metadata": {},
     "output_type": "display_data"
    }
   ],
   "source": [
    "_failure_upper_bound = Forall(\n",
    "    e,\n",
    "    LessEq(Pfail(e), Add(frac(one, Mult(two, e)), frac(one, Mult(four, Exp(e, two))) )),\n",
    "    domain=_e_domain)"
   ]
  },
  {
   "cell_type": "markdown",
   "metadata": {},
   "source": [
    "### Evaluate the success probability as the complement of failure and establish our precision guarantee."
   ]
  },
  {
   "cell_type": "code",
   "execution_count": 25,
   "metadata": {},
   "outputs": [
    {
     "data": {
      "text/html": [
       "<strong id=\"_success_complements_failure\"><a class=\"ProveItLink\" href=\"proofs/_success_complements_failure/thm_proof.ipynb\">_success_complements_failure</a> (conjecture with conjecture-based proof):<br></strong> <a class=\"ProveItLink\" href=\"../__pv_it/theorems/be7651547633d37d255e872dfba33544dcca2cf20/theorem_expr.ipynb\"><img src=\"data:image/png;base64,iVBORw0KGgoAAAANSUhEUgAAAacAAAAYBAMAAACsKi+/AAAAMFBMVEX///8AAAAAAAAAAAAAAAAA\n",
       "AAAAAAAAAAAAAAAAAAAAAAAAAAAAAAAAAAAAAAAAAAAv3aB7AAAAD3RSTlMAq1RmmUTNIjK7EInv\n",
       "3XZ/CtNrAAAACXBIWXMAAA7EAAAOxAGVKw4bAAAE3ElEQVRYw9WYW2gcVRjH/9nbzM4mu1sQxPrg\n",
       "QksfWosjKRVbDUsboVoM+yo1utoHLw9mhIKtrWYrRUTbJig1RCUZsRRixG4aV5GSmJdQUKQSEYKY\n",
       "MrUFoZckYoo0hcZzm/vZS3Qf6oEvu+ebb/7n/PZ85xagicXA9dl6Mem5koilRZHLVH3LV+zGXClD\n",
       "/vZ/KekcKvWjUgURS0vckspUeSlYKghIPQNuWepY1xSoTayZ9PDNNR8+UQ9qk6hdksrgmBl+KSxc\n",
       "QUAqrXN7jNZfaAaTVuTNZMjnJ2ZtKBrLSsKUyGh39UigwsIVBKVeBrPDNB37mwEV03kzfSQPHrBq\n",
       "Q9FYVqJ5mQwWZFAh4QqCUlvAjPKlcs2AahXNLJA5vVCuDdXqVL+XycihQsIVBKVaTWZRAppoypTa\n",
       "IJoZplaqDbXBqe6VycihQsIVBKUSOrcf5+Z+aArUbtHMTUC9XWehoLHa5GXS9TGZjBwqJFxBUCqV\n",
       "5bYL+KiBLit28h+otgbs5c2QdpWJXB0oGttdUkkubWXzYo6VrDN0MqiwcAVBqWiR26tQst7I6Li0\n",
       "L1ExQ9XNvvbec9fYGd5M+s+z44V6+xSJVf5Cmny9P/h8phoUF97TReuPYmRRQPmkIlPckqZ/ZztK\n",
       "7LOiT3J0bC2u7xCVNtPr9qTPNIdKLjaw+ZLY5O15tlYGn0+7UKfY+M2Kl7jw8n769zgUG8onpS5y\n",
       "i1jOOnH8nhNs4qnzP/nayeNJtCEERd2eeSqgMsXGoDI8P56uAeV/iQlrU/Z25oFypeJT3FDssHeI\n",
       "XfZqEvFD3UBv6RSwr7Ozs+CBom4PlEi/PrropteNa8O4ZuHqRSM9eTfG56kLv2/XnfTL8HzeHJxT\n",
       "VdOPCR+5pR/cUiDamif9XCnacdb5M3QbHu3QxZFFArWN9H59NDRS2/xQQxxqgXZ6D95EL5JWKh8r\n",
       "f4XdiVxMJ654WbE4FIltI30k0/7h4EgNVYNiwoTlXpwj2g6UTyrazw2HyA+kzSKr8XPF1jAUMIF9\n",
       "D4mF4toZrxvdTmWMQ/XQ7307TNJwi3XaUD7/G6/3Id5PXOrSRpF+Y2yROmmIFdxb2CT9zghD9Yis\n",
       "ew0f4LQL5ZOKlbmhhexnLdmDepydN9QXJVDqr9LpQd2JK3btGIN6fIX+1PHhGwzqWfKVtP5Ie3uB\n",
       "up5aKXAoGnu1nWbNL0FR+mjN+ef0IBQXJizpyQteKJ9UW4EbP5vs3IjoS4OD7+PwWglUYG9SB0kZ\n",
       "4O7IK84KUoJz9XiXDDhNv14TyjJf4ohLNclvyqDa7IOBEswJ95H06kFYfsaQ6YHySb0BbqxkyOip\n",
       "/Fh1MQyl5BVDuh8T9yF3J8u7UOuRRMb8opwsa9bH+DKpaxZxRfLo5/1zzrExPbQh5mtDacu4YHmg\n",
       "fFI7wY2VZA5lcbBwFwqtjFE+UO8ckR0jmNtdKDDggbr0DdnFH5zB2XmkJi36QVyRru2G6N+ArRGW\n",
       "HagF9emScbn97Sv35U8u2a15pOh1w71yaF0dJg6UBJTy9S2ao+o5HGUjdH5lRTalmNsDNYLGb74j\n",
       "1QlGsLqbr0cqaXDzXs++HTzh62WjZ3M7HS1M1P8fxW8FEctqkrRWJHexlPR/FNMISP0BbqHS/a+h\n",
       "7uCSsFYTrT7/v4DCW6sJ3n8nEvwDxaG7jq9YxqUAAAAASUVORK5CYII=\n",
       "\" style=\"display:inline;vertical-align:middle;\" /></a><br>"
      ],
      "text/plain": [
       "<IPython.core.display.HTML object>"
      ]
     },
     "metadata": {},
     "output_type": "display_data"
    }
   ],
   "source": [
    "_success_complements_failure  = Forall(\n",
    "        e, Equals(Psuccess(e), subtract(one, Pfail(e))),\n",
    "        domain=_e_domain)"
   ]
  },
  {
   "cell_type": "markdown",
   "metadata": {},
   "source": [
    "Taking Nielsen & Chuang's formula 5.35 (pg 224) as an axiom for the number of qubits in the top register, $t = \\left(n + \\left\\lceil \\textrm{log}_2\\left(2 + \\frac{1}{2 \\cdot \\epsilon}\\right)\\right\\rceil\\right)$, we derive a precision guarantee probability greater than $1 - \\epsilon$.  That is, rather then deriving the number of qubits needed for a certain precision and success probability as done by Nielsen & Chuang, we derive that a given number of qubits is sufficient."
   ]
  },
  {
   "cell_type": "markdown",
   "metadata": {},
   "source": [
    "The `_precision_guarantee_lemma_01` and `…_lemma_02` theorems below are both used in the proof the the `_precision_guarantee` theorem."
   ]
  },
  {
   "cell_type": "code",
   "execution_count": 26,
   "metadata": {},
   "outputs": [
    {
     "data": {
      "text/html": [
       "<strong id=\"_precision_guarantee_lemma_01\"><a class=\"ProveItLink\" href=\"proofs/_precision_guarantee_lemma_01/thm_proof.ipynb\">_precision_guarantee_lemma_01</a> (conjecture with conjecture-based proof):<br></strong> <a class=\"ProveItLink\" href=\"../__pv_it/theorems/a26ef88b80e4e142c014854a0860563dc2899a060/theorem_expr.ipynb\"><img src=\"data:image/png;base64,iVBORw0KGgoAAAANSUhEUgAAAa8AAAA/BAMAAAClVFrFAAAAMFBMVEX///8AAAAAAAAAAAAAAAAA\n",
       "AAAAAAAAAAAAAAAAAAAAAAAAAAAAAAAAAAAAAAAAAAAv3aB7AAAAD3RSTlMAmXbNRCIQ72Yyq1Td\n",
       "u4mXa1p+AAAACXBIWXMAAA7EAAAOxAGVKw4bAAAF6klEQVRo3tWaX2gcRRzHf3t3u7f3J5dcSiUP\n",
       "NVkV/6DRBsQSqrVHfQj4YhS0CI05zIuKmgO1tvUhp1WhovTqi4jVnAWrBCGFPBRB2iuKkFZILFTx\n",
       "QXogiIZATptEk2rP/XOzO9mbuZ2Zbo7dgSbN3c5v5zMz399vfr9dAKN1Q6CbskOwY2Qg2GBwt2C/\n",
       "R4YDDtZRFVvpAwHnAuU1oW5S0HciwOm8SK/JUuDB0l0ivXYGngtSK+3q1O62S2SZ5/n7HM/7OGgW\n",
       "Y2cF5DJ5ittJfbrbPzA2Y3EBkU0LjGa7nyvGYkyq8c/Yn2EAi/3DbVZdCwMYvMR/XKmFAqyP+9jX\n",
       "OR8KsLNF7hNwNRRgo2Ves325UIDFC7xmhUJS+8E6VnnN/guhAItc5bQq/xcOsBRvuE2JxGdY8jPn\n",
       "ZjKWIC2ATLnYMBj5S2AoUxM7i75xsRlTSJK5i3LxHuMQdnUTzuub0eqE3aZHqsR3JEHqM9Wx5vt5\n",
       "fXPaXPMAxwCe20L0ljsAoiub4A42o+1uVmKPsThEsNf1wLcaErDL1kFiDNNjgQoWz0NnLSRg01Y+\n",
       "rCxqtsQGqGDRYujAAPp/Q8lnlQj26FQRMuXwgPXZe/DdG+xlIYCpB40fAzAePjCY2Wr+Sp8igZkl\n",
       "nFQBxgs42Nj3Rps187S6eDO08IBpqnSdloxmTf2S5gz+oZOmh8jZYNjdpqdO6NGt5gILcNsA9qML\n",
       "DGuHzBJJIZRgM5+12IrXTIdZCbrzeHHhZLPz2NpI0TQS2A+mB5m3wTyP2I3vox7Xyf6CdcE2N5jt\n",
       "7jNGtSDjLtB/kFfyRiRogHkesSONMDLuMZKY5ivYMoyWNgbofvsGiQpA8vMrX7jym+438pDOQZxa\n",
       "fZOzu7CC+Rk98m35Wd/frYZhpAh3+Ar2thvseWz+Z6nd9ukKpNYSRiCz7KRDAyDPw1LuqW/+QOfM\n",
       "Ize76ulWihD1WayL6KxYIh11Ka0HpS2kprueV+0/pCIkh41S0f2I4s0D8AopyVc9Hx8gld7Hcp2d\n",
       "b801i7uDpnd9DUBaptmdyMO03TNu5gHJFUALLD89AKvE6sV+r7JMQ62KVwl6j7lv0AaYIGTVtFqv\n",
       "QRyhVvu/1Pe1vfy6tJIVSK7pkS/xi94uQVKLFYhgg6SKRdcGtZryTbV69G0slJEHy11yY3L/Jlz1\n",
       "GKX3rYbHv9Yqa7X/12uFxFqk/Cxaw5LUVSKBLRAMpcu4Wk35yosPNrqrPe/f5LreSoz1PHjkw2PW\n",
       "ksm8ZcLYeotpcwo91jJMapKGosgopD8igh0mWOov42q15BtFecgzQ8W4Wy1m3NWdw0S97j1OcvXn\n",
       "Cv07bJ4vmD/PQ6IHwTwMkd+JW/E0YYYOO5biSL6dSD1P3AKdeRJYHPtU5a6mzdG/utEhf9mcbJJY\n",
       "sYO1BTbZfE0m6oDNIPkOAXxsyHUYTsAQkMCiWMySuB/j0R88qdZoztlg73jZMsGGCGLGwHrRfN6p\n",
       "oMU/CNkECSxTxpJ97sd4R6lHqTMgD+NbMVWFxxnAvm4OK0UMbBDJtzvT2GlyDWa/IoGpmN/srPCC\n",
       "jdICaqIKEXuTX9T/fQJwGwPYe807EaJuteryPXYE+a8y3FMkgaWweDJZ5QWL06ZiXza7zf5D9+Hy\n",
       "uWzWY9rMFKG36eO3LDBMrZZ8W6jVBEtg228794seGdphca5edzzmcX2S9Sy99etkVorwbdNO1Bor\n",
       "5qhVLXsdT1atPNhuP3EfMmUmP5pmnjC5aVVjU1PTh6obtiIuXzpYyjGlrHODwb0sF6nMb8ZIJGcU\n",
       "d1boolu+dDDVCS8iL20cZXrWdYnV3AjpQ+zVhAW3fMkCWUEV0Ya3r/CDjTP5mxdYzZFmQLq8rmFq\n",
       "3ShfUrMS43TO8d1FfjCJ6Xm8zJjyR4Z9U6uRB9v+ViBFVUSeaYo3drWaj4muZ4y3t7eixqxW2RGm\n",
       "VBG5U1prKxizWrHMfzQncqdYe9+dZVWrmQej0C92q18h4E3dL9avQws42F7BF+iV2YCDDYp2fDLY\n",
       "XIqA6/gf/4kUoGjjxTYAAAAASUVORK5CYII=\n",
       "\" style=\"display:inline;vertical-align:middle;\" /></a><br>"
      ],
      "text/plain": [
       "<IPython.core.display.HTML object>"
      ]
     },
     "metadata": {},
     "output_type": "display_data"
    }
   ],
   "source": [
    "_precision_guarantee_lemma_01 = (\n",
    "    greater(Add(one,\n",
    "         Neg(frac(one, Mult(two, subtract(Exp(two, subtract(_t, _n)), one)))),\n",
    "         Neg(frac(one, Mult(four, Exp(subtract(Exp(two, subtract(_t, _n)), one), two))))),\n",
    "     subtract(one, _eps)))"
   ]
  },
  {
   "cell_type": "code",
   "execution_count": 27,
   "metadata": {},
   "outputs": [
    {
     "data": {
      "text/html": [
       "<strong id=\"_precision_guarantee_lemma_02\"><a class=\"ProveItLink\" href=\"proofs/_precision_guarantee_lemma_02/thm_proof.ipynb\">_precision_guarantee_lemma_02</a> (conjecture with conjecture-based proof):<br></strong> <a class=\"ProveItLink\" href=\"../__pv_it/theorems/64150ffec76dd24e798462b3cc77387f3e2cd62e0/theorem_expr.ipynb\"><img src=\"data:image/png;base64,iVBORw0KGgoAAAANSUhEUgAAAhQAAAAoCAMAAACRg5MoAAAAOVBMVEX///8AAAAAAAAAAAAAAAAA\n",
       "AAAAAAAAAAAAAAAAAAAAAAAAAAAAAAAAAAAAAAAAAAAAAAAAAAAAAAACXHtMAAAAEnRSTlMAq1Rm\n",
       "mUTNIjK7EInv3Xb5868y7sY2AAAACXBIWXMAAA7EAAAOxAGVKw4bAAAHD0lEQVR42u1b6brbKAxl\n",
       "32Gmfv+HHQTGxht2YnJvOp/1I3XTlAh0kI6WIPTIZ4R9zSKPfAMcCLy6Hku5n9TbCPMY71OYwLU9\n",
       "ecBG2qADUtZq/s2gQMo/qPiMULGwp0Uah3gLBxoBQdxXgwJR/NjvI7fNmdqenCOv459yCHDow3eD\n",
       "AmnyWPADIuzCnib6CIgZZACsMPHloDDuCSD9JRu/tidJ3iHDwdkvB0UhRI/0FG/X9sRiep8PEpnv\n",
       "BoWMKj7SmVFMjmKyZ/IOOYZEfEj63aBA2j5W7CxYr+0pBzUxzHjgLx75D4CCMqpCmKpk1D1W7CwD\n",
       "XduTe3jNh85ZkN8GCkO5i0o7OcWPmIDMxILQx6i3o4fsa8+uoJCMCa3Wb5oApGcOez7il01FNvFQ\n",
       "jNuuuKpD/NNjwduLkNmqEkKbBXKjdBH4R6it8Rl9kCcpXP+fR+5RiqoO8W+PBW8uQj2bsx2c4OE2\n",
       "zsdF58EYKi4kALBLF8Q+xaz73h539vy3Fgne1gmwSyECr3NOCSDwiqiprhKf6EglxGPT+zzTfg0o\n",
       "jPVh5cYS5cXDilVwAHKwdOZF4B2cB3FPfto1+XjTniqZjItBmzugMMwfpA3+rP1i0iZY0kP3LXrL\n",
       "v208pIfCKZ27B4qkhRKUY/v+IgYLcpgfhVNkwyckLi8nrMW+kLPSxncry8zmIHaer53gHWourym8\n",
       "G7B3T/wuKHJkT7bQNzzFMSj8uZ1zDAQnYU/HP1RW0NpgW5HMYmyA4zCyVygZiYtdqKYPnne1EPr6\n",
       "hw+PPqViCCYcDhWmjFNi0fEmdhDJB74GxbCVso7ws5Q4n76Qmml997bf2w8f7MKRDembSTimmSpg\n",
       "neeFiCgXiuvm3WVAaPzuWsGX7PldUCBs74KC6DA62ZbCJOjdXUyb4PYDniJMLyb0Jpro4hBNBkVE\n",
       "xJHzZEzNZZCS1KLjThpcFaj2m32QkfugcOoeKKguVyiV7ZYKS5Ylda8UkqK1ie1E431QgD142iEz\n",
       "90CxTUmj5oBjeVajHFmHJeMGc3MEo0BzOTTQujaWqBR80B2WNMDzwRkThujboFhrsSJKAZu3QRGq\n",
       "0SLfVtjD9rk53sS2sCNvZx+MZmAYrHrktYviVeRy6QjOMopxE3IsupTmSPxbgHdMfeoplObWsG8y\n",
       "TuvhylHZAAX3DVCstVih3+TuEjCbV0GhajTPbmBXYQguxDaRzbbZXGiC4kIjQYggFGWedyp2EDHd\n",
       "K+mTF/RXU6gRl6U5AnXPNBRCa4anJlC4FlNvjQSX80SixusKFGstFgLOH+BpWFzhMihKvkn07FAn\n",
       "ZvTqDPOE7O3XO9YChRkuXe5h2E7q9BCfee5ZkVIN65wDmiMpzfAkOYfcNiHQIklOO4ePoVERl4uC\n",
       "x7L1MoOCiNDgFEstFmukQj0eW7qXQTFTJj7BguA9hXePaX8Tavv1dWr0ZwJk6U2SS0VjVnunPz9f\n",
       "sJkHCmsaB7RbDtAgUfVFza78hGimO3lMZcp5StckmkstlgEvUxqZXM0xKMhiAHWRbyrMZGXTtsLo\n",
       "pfCBmNt4iqk3Ka0XVp0vXzPpX5i8SsF0FU/Ge0p14jv1Jco4D2GslpfEp7yUI1BKMXN6nk2iudZi\n",
       "4QMNvDum0A1PkZkzJyFlEst9yuz1/AWFW5sIOylfdctGe1a9SXGl5agWMebNiqbfKYFcFb3mccnc\n",
       "QIckTkFfVvR/NKS1oTpDBRM7ahrbQa4uz2y8iBWDDeegWGuxODOWbXENFC4H8k2CnPRNwaCpcHsT\n",
       "Wu6wBrK2Z9WbHK5gL3j0u55iOK1bGwuhlF+PiFc58dt1ipo5QqqiGaWYpzxBBRISG7aE5vAhMzfZ\n",
       "T5D5vRag2VNVs42nmHqT/JKFpfpdUPCXxrm5/yJQEDK5FZF+1xQTzOQPwEP4HGbGBflhgsxujZrt\n",
       "/u9q7NUtmX8iZeZVX34CilBy7KmBcJ9SvLaQCL0woZbR9WVQmJBTiBJrdKpIphQxYkCJqtzI1HEa\n",
       "geyNzjDdbRaZOZ9zy5JbVCW8/oVnnmI8yLmBcFvci7NWqtNsllQ7EX7nuQFnOn2YswIKUzxE5Smi\n",
       "FVpQvgEKc3bRanum3qRiVKHOoJgKtKQTKML/YcLfYK+4Z8hGhPNAAx85hU/BXUQS6X9WoSmjrE6X\n",
       "vT3+CkxZe0UCNkCdktno6CdDfBK9QeGeocwPyBTcZ1Dc+IG/Q2PdGcpiyfDAkZJPTNVe1xkU4RnK\n",
       "/IgIugLFtd5kCxQm/5oPEqlcxtBhrC139hTSPT/z+ExA83IBiou9yRYo0Fz5z+kNZjF1RN1BYfwT\n",
       "PD4kUtSjEBd7k1dBkT2F+Iyn0M9vBD+HisQ1ValQXOpNHiV8BRS69AgBBhJKc5jCQ09QGP7Y7q/J\n",
       "rwYWo4bgEqeRWhtCrpvZmH34PC4x1967yH/LzDv2efjImwAAAABJRU5ErkJggg==\n",
       "\" style=\"display:inline;vertical-align:middle;\" /></a><br>"
      ],
      "text/plain": [
       "<IPython.core.display.HTML object>"
      ]
     },
     "metadata": {},
     "output_type": "display_data"
    }
   ],
   "source": [
    "_precision_guarantee_lemma_02 = (\n",
    "        Forall(m,\n",
    "           _success_cond,\n",
    "           domain = _m_domain,\n",
    "           condition = LessEq(ModAbs(subtract(m, _b_floor), _two_pow_t),\n",
    "                              subtract(Exp(two, subtract(_t, _n)), one)))\n",
    "        )"
   ]
  },
  {
   "cell_type": "code",
   "execution_count": 28,
   "metadata": {},
   "outputs": [
    {
     "data": {
      "text/html": [
       "<strong id=\"_precision_guarantee\"><a class=\"ProveItLink\" href=\"proofs/_precision_guarantee/thm_proof.ipynb\">_precision_guarantee</a> (conjecture with conjecture-based proof):<br></strong> <a class=\"ProveItLink\" href=\"../__pv_it/theorems/8d4174a4bdee6af57734b2dc7f720861fc14cc0c0/theorem_expr.ipynb\"><img src=\"data:image/png;base64,iVBORw0KGgoAAAANSUhEUgAAAocAAAE4CAMAAAAevqntAAAAkFBMVEX///8AAAAAAAAAAAAAAAAA\n",
       "AAAAAAAAAAAAAAAAAAAAAAAAAAAAAAAAAAAAAAAAAAAAAAAAAAAAAAAAAAAAAAAAAAAAAAAAAAAA\n",
       "AAAAAAAAAAAAAAAAAAAAAAAAAAAAAAAAAAAAAAAAAAAAAAAAAAAAAAAAAAAAAAAAAAAAAAAAAAAA\n",
       "AAAAAAAAAAAAAAAAAAA9Qh/bAAAAL3RSTlMAMquJZkQiECClQDDdu+/NVHaZucNsr3D3qZF8+eOX\n",
       "XoXh19vnUGCh1ZPB6dHZ5aJgHd4AAAAJcEhZcwAADsQAAA7EAZUrDhsAABcNSURBVHja7d2LtqS2\n",
       "lQZgJCHJbgskMXY7WZ5J2vaMJ5NJovd/u3CtgiruCFTAr7US97kUxdl8tXVBQhFxZaERCspAUZWR\n",
       "Xd+DOBbnhSPaKEOlABLTvR0KBBplBkY4RIFDFJQwDgXN26WU0iSJe1/BdcpwWeBw/3xIqu6zSHX/\n",
       "a+AQDo9wKOphnNj1g9NwCIcHOiROwSFKcIfcaThECe6QOVP0SqxhOv8lmVmblePdOovzfxpcGzg8\n",
       "wKG0adlhTjMjXBwRVfxiYguH5T919hkBEru/ACWUQ8UYs3XCU3kjUeb/YdWvk1wgrWrtz7gZyPje\n",
       "L0AJ5TBptwZp9XsVy6ILXWdCl8EhHB7nsORm6uxX/KhxmEydOosX1ZfDrgnLZPvrDA7v55B18mE2\n",
       "Ox+StL7uzI51sCVjlBbKYtvzw7jusrPOzLSkh1WcmTjOuGHEu0OTiNZ5wmFAh3l35dEobGrq3gtO\n",
       "LE2S8kqbilDBi4+kzuK4Wd4Gteq9C06srYcwjZ5yaGz+3ZRHhnl2aMrO2eM829cm47FhcLiTQ9IZ\n",
       "N1RZnd1Ig1LrIi3Q3guQZQ+dNZ3ydSOzKQrZojDdO2huZjuMEhLJ/LcmB5SWOYyb2+yP82ydXEFf\n",
       "weEuDgXVzj2QcepSaqrmW14xlZcwkYZzy6uMEOc5i0Y2TsorZFstwoqOcAXadBhHLKvrK/VGh/lv\n",
       "FslJRX2t0uJ7RJcjUUsc2sS8nqfIqlIcheZfajjcKR/OLzLmxaVN84ralmOObSBV046UDtV4j4UV\n",
       "hrI+QI1DrqYcyuIk8n9T2/MXcVF8wATRixyS148Pe0l+RXMi5hIOAzsU0hZXtqitsiKD8pYkosnT\n",
       "YWpHT0IVuSaLxbDDSFs5kQ9H81rxi83/5udDkzD5ep7tjyEtUnAcwWFgh0X2qTvGypQpMClL/m9S\n",
       "dy6retmNNdpE0rq8JGmK6Dg02o45dJ3ydqD8tcI0Hpe0D3lLYuc80V/+KIdFL6RorQsXkWKcr52D\n",
       "6Kx+SjluKIZ+3jgU6WT78Hm0no9LRdCY5f1lQjMxfZ5wGNShcHVOjJNyYKOdMequhS3GbZ6jf5I1\n",
       "//fIMoSQTE44nNFPiR7DRD1RpIRGpGw7LB8/FGVqHz9POAzqsASmy05A2X4TCXl1WIxjty4fSUX9\n",
       "f01GHVkcK5h2zC5x2DcKWb3epdWw5pr7KWLiPOEwdL381oNmRYuMv9PZWCYdclPNShsaznvmyWGH\n",
       "Jr1xA/BaDtu5Uh3pMG8/yjxUcgj/cyBwJB9qiR7J5RxG2vo7TW0mHIqq394/ClnkSTnfITHVb7/0\n",
       "3eHwnA7z6+npQIK8t9feWRXNgf5RyE4pXiCTLI4pLwf/iDW27Oub+FEvK+TDCzk8pDwcZmTBC7gu\n",
       "q2qhq5o8T4SqzQ8O4XClQyYju8AhbSZGlHOBEk50q30Ih3C4tNgqDWrnnJr/Ap41DmWdCJEP4fDw\n",
       "IqkiXGURS03EbVzMjyjah80cN5syLEeEQxQ4RPFbnLdfurlDjWVFmxzOKqHPUkw2iEM7zPDo7Dvk\n",
       "Q0bDOvzu++9Gf45brjepl9OJ6bxfvg+ZD2Uag9LHO5QeOvd8omIMWy/T9XNmeo9L4LDtR3hxGE8+\n",
       "0WBOocnnOiQbnmHTO50g8QDRhSi7OHxEY9M1zvzsfiNG126Edag3TCHsdWiyfTNM0Np16Sufs9S3\n",
       "/EnWSzYsPhXqUx2aLY/06p9epeDw+SkXHv4k7pz0RcF+qEO9RU3LYWs5qYf7ZVdx+HPm409SztuD\n",
       "TZL0Mx2Of0AWODTP44gEDuvypy8eDu8vHRbVn/lIh3TTn9jvsFUZ3dzhn7WPw1PncRXQ2LHCOZTb\n",
       "GsADDrc/H+saDuWfhI/DK59PQ6WOfKDD2JkdHG7vqVzDof6zn8M7f4uA8kqefaDDZFvLY8hhxuEw\n",
       "ir78p/w8h5FLQzn84n4YrJa3Za7SYaaKkqblf+rdgZ6jZkePKW+4QN5GwOtv/tdfPB3e+bzxmgxX\n",
       "zL+EyofxxgGBoXy4uYF42nzYYvkidEs+9OnQDl/zYPUy3bgvxZDDzR3mkzrswEv/2vnGpzgkwz3m\n",
       "YA7TjW884HD7AOIpHXbr52+/dr/7KQ6j4dHIUA63Ng+HHG6/oXJCh6+txF9/eF74j3KoByvBUA7N\n",
       "1tvnAw5VdD+Hrwzbj5Atf7bF4Teff2c22P0O5TDbet+y36GHCTenc/jKsPssqOKnWxx6nSc9PJUx\n",
       "lEPtjDeHrXkOHp5YdDaHb0M3lL9J/RSHZHAEMZTD1BFvDodSwa36y8+QJz4P77deloOjs6Ecbp7H\n",
       "0evQxnAohVeHfhcQuaH0E8ih2Hzbwvb9QTSCQ7+H9+xQDTXHAjk07mP364LD/erlvFtgP8qhdRoO\n",
       "b5gP6dAwyc4OZdzfDGS+Vt/A4akcDi7+E/suZB/Kh9RROLyhQzZUDwaqlxOf83xv7XDn5dHeHaqP\n",
       "cqjhMPR7BnFohwayAzn0uBwRDk/kMB7KzYEcpnB4Codfv5KLO7RweMN8aD7OYQyHcBjcoYPDWzrk\n",
       "H+fQwOENHZKh+S2BHP7Hjz/A4Q0dfvfjj8iHcLjC4bdL5MOhdfRwiHq5U35BPoTD+7YP4RAO4RAO\n",
       "4RAO4RAO4fCe/WU4RD6EQziEQzg85D1Pti4ADq/q8FzrAj7P4U9weMN8+AX5EA7RX4bDEA497Ht7\n",
       "lXp5aB39doe77b98HYce9r09zGGgdfTbHe63//JVHPrY9xb95VUOsf9yq/jY9xYOVznE/sutK8si\n",
       "ODzUIfZf7ivPTQPQXz7GIfZf7ovPbwT5MJhD7L/cDFT8TiM4DOcQ+y9Xhf4u4DCgQ+y/XMX9NxbB\n",
       "YUiH2H+5KN/9t4TDGQ6zr8KHQ+y/7AaO883T4T07lF+/RvfIh/fef7n+5//42n/Z93PnrreOHvsv\n",
       "d17ZzYzF/sutb52gXv7lYvnwnvsvu5Psv3yffgr2X44+eP/l+zjE/sue91+GwzUOsf+y7/2X4XC2\n",
       "w5vvv/z6Lco9Hh7zHOY7HEoFd+ovt0Lud/9l5MMVDrH/8ofvv3w9h9h/ef4r4RDr9eDwsx1iHf0d\n",
       "HWIdPRyivwyHyIdhHe63jh4O60Be4zlLp11HD4eHnBj6y3AIh3AIh3AIhx/kEP1lOEQ+hEM4hEM4\n",
       "hEM4hEM4hEM4PNLh9nX0cHhGh9dbRw+HRxSso4fDW9XL2I8eDtFPgUM4hEM4hEM4XPKeMqZaOb9F\n",
       "qWT6WZFwCIePYrS2RPp/V8mZomLC4Tc4hMMyhDqTO14gTSXyIRxOvqdNdh7x54rDIRxOvCfNdn9z\n",
       "qWM4hMPR9/ztjyPe/n+T+zrEOvoZ70kP+rQydpBDrKM/o0PLjjqBxKC/DIcD7ynVYScw9FZYRw+H\n",
       "UXZgjAae2Id19HDo46Gi84uadjgwgER8OES9/LEO4/jIU+i/x9dx2L/1epQQOLyyw0QeeQo8W+tw\n",
       "ybPx4fB8DvWx56Am+8sDDpfsFQKHp3Mo6LHnoNfmwyV7J13bocou6JCzY4PR2wyY5XDBXnKXdiid\n",
       "vqDDzu6VBwQjI2sdLthb89r5UEYXdOjkscEQbpZDbqkUzCY2Iowllcz5ew17cLhw+pGYcIj7y1MO\n",
       "P+Ik3hyyKKG2SLtx/pVJF/ZUtt9ftgsTGLfop1zB4Ut/mfNIJWX2tC099eDjdP28OR82qZeouXm/\n",
       "vFMEhxfLhzLPhAU6U3rK6rYooVXT1Fu9PDQnsrrHJGmm5zdbtMQ6+uvVy7nA6CEwZe0sZfR6h6/r\n",
       "6CVTff20rDkdO99hnKG/fLzD9cGY6ZCWx1eFPJ5fXdlUyIIpzchahz31slXs7XfTaLnDKJUYPzw+\n",
       "H64OxkyHZQ6sKuecZDlPph5A1NPXdFn7MH6V+My4SxzmdTzah1erl4UjDzYJi8oKub6hMoPG0n6K\n",
       "0VkbUMYWOBQZpeXZMwqHl3PIyzEaWyZdnlnxHLbhaeTdYX7U9sLWZ+9l2mGcNo2EWMPhyR12njs3\n",
       "dD+lnnBjaSTJDg5bNxyVme2QPIWZFA6v119+L/UK68xGTHp2aHTngRMp73MotXqW5pNAHaXU1m8K\n",
       "hzdw2MwbJ1k8OSN2aT/l5VEW/Q77O8nP6Uoc+fAODu2CeeMbx20W1Mvuec/bKDi8kkPbn+6WzJOc\n",
       "7bB/HDuxsx0mz+GrOMFz2q/k0EOZ+5z2gft67GGeuQlAJM2hSlmP9iAfnt3hN6/vsXGeA6kn9lCa\n",
       "Ok3HPyIks7Et30xxP/eXl6VOcW2H+wXjiHy49TntasX2BUL5ub+8cMYZt4EdiuW/MN/hjsEI6nDm\n",
       "vK94xU3LYm6EB4czJ/sKxrJqerCNgzqclvKOY7bDPYPxSQ6l6hkSLLsfi6u78ub3dofN6JRUo2cg\n",
       "iw+KqY6qpU+HlmZZPSAqqHLF8GiSlHMrqUrT/Cuq0zTuSil+UZUP6yoaMnZypGOuw8cjHsajsS4Y\n",
       "Z8iHkUyWvmUpd7vDZsaZGe+o2+KA9ZynOPPnkJQTnCJbfyiJK3tsIi3fiFdf5cFhr1KYqwfbus/s\n",
       "qv284pjr8DH9bjwa64JxCoeRWNjsqu6Ab3fY3DzPxtdA8HKovZ57l0pfDqvp7+WlJdXXtA4ba30V\n",
       "SfoqRTeH6d4RqP284pjr8DGTYDwa64Jxgv7yhvfd6PAx40zNaBmZ+tPbGnxqbk/OX2PbCYh+XHml\n",
       "2g6JU22HUfYqxTXv1x3lbfy84Jjp8Dn9bkY0FgfjHPkwkMNqxhmniUvoVEbmqg7ac7gz77ST1n+W\n",
       "OjSuNeHNtuTxMtlUX/Fi4dqLFN7kUdkF0/h5Gaad6bCefjcrGsuDAYcjRT+ah5NvZSmt4xvrqBv7\n",
       "BQw7l4M+T5O05BXNP/P4yvI3KfnPm1Np/bDlh9E1DvWzebhDMOBwpDR3trM5qy7qLuJjWW0T+yUM\n",
       "O5dDO/5sKaYPedJWHeT8e3lv2fF3KSp9rbC7fmK9xuHjNv+caCwOxj0dzlxH38z0aTWIeqeb1b9d\n",
       "/ZWk29dQi0bhBx1WLULFGGuGCEuVIuFvUuSj4fjSPGz8mHSNw8e0p1nRWBqMIxye9jntdeilm9gK\n",
       "jpTRTarDdmeoj4W+r/TXy9xVy8eTTm+6aR8290jq0236CK+jDA8/XRyT5/HicCoaHoOB/nInwZQV\n",
       "2vgGXPIZeqM81cvGZc9+SjzgsJjU0TzeuZbyaB6yzp//9MNX5cOmXp6KxrpgXLle3vyc9nrGWVGh\n",
       "mTFM1fTbuiqKE0/9lCgpvHDzaPH1OSzfkXSkMNdbLT/9GLXGYTP9bioa64IR1OGnP6e97lhSmncO\n",
       "xn6vfJh0Ux0+lxduHLfJpbHI8PytH+PY/Q51V0pzu6MesJPRq584WeOw6WVPRWNdMNBfHjtAlThE\n",
       "MvXUcp5lWdNjaO1c2IxeCL3KYf46a4sVaXWFSzpPSyCNQ5a+SNFFfS7qN388YuHpJ2NrHDbT7yaj\n",
       "sSoYcDjaQFw+40xs2v/mbZ5DQm15G4TksLRz9NHXqGc90CR9ZMlGSsQSmj1SlqofTvX087LH59z7\n",
       "ersGAw5HK9zlkxay2KfDCkD+ZyTrPzZGjuOY63DXYMDheE9l6YwzkUTeHVJNYrX+Y8MmcMyef7hn\n",
       "MCbX0d/b4eIZZxs3zu6ff+qcs6vf/bVT8YZjtsM9g4F8OPGRXjbjzG5coDKw111K139s7BSO+esC\n",
       "dgwGHH5U2RqQaSnvOG6zbhQOD3PojQAc7u8Q6+jv6XDuOnrkQzjsXqdvl8iHeE478uEsh78gH8Ih\n",
       "+ilwCIdwCIdwCIdwCIdweK/+MhwiH97HIfaT8hEMONxYsL+el2DA4WaIqJc9BAPr6NE+vEv78Av6\n",
       "KXCI/jIcIh8Gdbh5Hf2NHcpjz0FgHT36yz3fM/bYYGQE/eWN5ZLjh5wdG4xEwiHq5Z6aih57Dv3P\n",
       "eIDDuzuM9LHnoOAQDmdXlLsV3ludYx09HNr4yFPIOPIhHPb2fA+tmFUEh3DYn6IOjNFA8oVDODwy\n",
       "IcqBh0hhHT0cvu7Nt2dJzDEOsY7+jA4HefgubAg81tHDYVH+9scRb/9/g0+zwzp6OCwL3b9qlsnw\n",
       "nWz0U+CwrjKTnVvSXI1sCgSHcNg40dmON1ZIQsecwyEcPorR2u6RFCVhmo4fGA7hsC0mplo5v0Up\n",
       "PT1QjnUBcPgRwUA+hEM4hEM4hEM4hMPDHGId/R0dYh09HK5ziP4yHKJe9lWwjh4OZzm8wjp6OEQ+\n",
       "hEM4hEM4hEM4RH8ZDuEQ+RAO4RAO4RAO4fDT3nPeXEM4hMOdHe7NHOvo4fB6DrGOHg7XlKs8d26/\n",
       "dfS9vgkctpOPOE+9fNp19Kxv1W1C4LAnGmgfHuzQZHD4KJz6aB9+g8PlDgeeJnlPh1r4cPg9HM51\n",
       "yJ91BzNw2FxZFsHhoQ5bO96IBA7r8usPcBjMYasyurlD9hvx4hD9lFUODYPDosjfaQSH4Rxu76lc\n",
       "wyH9XcBhSIcZh8Mo+qJYBIdzHP7kw2GmipKm5X+qiog8R81WlhAO15eeY+X/9/f/l34Oj3X0K/Ph\n",
       "5gbiefNhA/MNKPLh8Q43d5hP6rAj7x9/63xji0N7CYf7raMfcLh9APGUDrv5L/4n73xz/eGVy45x\n",
       "eNp19AMOt99QOaPDl2biv/7ebituOTx1+hiHV6uXVXRDhy8vZz+L0Z8vKHzIDRyOOvQw4eZ0Dl/7\n",
       "zN1t+cqOy/ozU34biHeZ5+Bhs5GzOXwbuqH8Ter6M+MulXA4z+FQKrhVf/kZ8sTrn8QchcOlDn1s\n",
       "4X52h1L4/ZOozy7z9RzaviUANIJD73+S9ZgRsX4ZDlcXYeAQDsM7vHD7EOvo7+kQ6+jh8M75EPvR\n",
       "7+3wU6eyLXSI/ejP7fBkBf0UOIRDOIRDOIRDOIRDOIRDOIRDOIRDOIRDOIRDOIRDOITDJQ45HMIh\n",
       "8iEcwiEc3tlh9EkOUxfD4Q0dcjiEQzh8KwoO4fADHGrPz5GCw3MU49KPcpg4Boc3dBg79VEOqefn\n",
       "mcHhOYoden5YqPV6Xp9WAYdnKcwlH+Vw8Hzg8NIlG6oHAzmMPT/fEQ7PUZKh/mkgh3yo37SgvB2Z\n",
       "wOHAvtRey5a466H7aIEcCg9rat+e+JUQOIx0cf+WxfF+9023xD115KMcRs4J7/EwGRyW28dkpLWN\n",
       "zP4OF8R98DHHoRyq7RO/3p+AqOCw3E4r0bGMjnM4P+5isDkWyiHdfmPvPR7M3N5hSYKkLhUHOpwd\n",
       "dz7YPQ3l0G4fyH6Ph0ju7rCsIoWMhLIHOpwddzt4Gy2UQ7594KbnycRa3NwhLboBKg8MIwc6nB13\n",
       "OjjtNJRDub3DXMZD2qys4GnZIDLs3g6r59THZs/u8pa4q8HdWEI5zE9J+IgHi0za+jPUvR3GR8xi\n",
       "Wh93OTxqHMwh29xRKeJBTJQVMaC61V28r0MtD3K4Lu5meFZBMId880yHIh553NMiB6R1Iti++/LZ\n",
       "9l8+rsyL+7rmYTiHUeo8OCw8y2Jcqm6We2ggnjgfskMWn62P+8glD+cwc8RHPMrqwTp/HeYTO1TR\n",
       "cQ5XxJ2MVIHhHPKtU7KreCTF35YkUXkHwccA4nkd8uxAhyvibkcWC4dzGKWpl88lLe4fsIj5qpjO\n",
       "65CSAx2uiLseueABHdqNt5ireEjKrBG02uZMRXd2eEy1vDruZKwCDOgw2thjfh/X9zLh5rQOY3uk\n",
       "w+Vxp2Nbiod0yLbtdf4ej0Tc2eEhg4fr4y5H005Ih3JbT+UtHlJHN3YojlrxszLudvQGWkiH+alJ\n",
       "n/Gw8Z0dMhPK4by4p6OVd1CHkdqSEN92YPYzBTnkrYpNveWjPjTr4j6Rc8I6NO5jtx1F8VrkxHSC\n",
       "sA6jLMElukWhExc6sMNIxbhGNyg8lZ/tkKQSV+n6RU3dsgjtMOJoId6gdTh552x3h2WhuBQog7ny\n",
       "gGmfMi4LR7RRBlNhVfZ8i38DNpzsJ4cIq/wAAAAASUVORK5CYII=\n",
       "\" style=\"display:inline;vertical-align:middle;\" /></a><br>"
      ],
      "text/plain": [
       "<IPython.core.display.HTML object>"
      ]
     },
     "metadata": {},
     "output_type": "display_data"
    }
   ],
   "source": [
    "_precision_guarantee = greater_eq(\n",
    "    ProbOfAll(m, _phase_est_circuit,\n",
    "              domain=_m_domain, condition=_success_cond).with_wrapping(), \n",
    "    subtract(one, _eps))"
   ]
  },
  {
   "cell_type": "markdown",
   "metadata": {},
   "source": [
    "### Minor theorems used through-out"
   ]
  },
  {
   "cell_type": "code",
   "execution_count": 29,
   "metadata": {},
   "outputs": [
    {
     "data": {
      "text/html": [
       "<strong id=\"_two_pow_t_is_nat_pos\"><a class=\"ProveItLink\" href=\"proofs/_two_pow_t_is_nat_pos/thm_proof.ipynb\">_two_pow_t_is_nat_pos</a> (conjecture with conjecture-based proof):<br></strong> <a class=\"ProveItLink\" href=\"../__pv_it/theorems/d225453a2a7ffa51abafc0081cf891887ab899f10/theorem_expr.ipynb\"><img src=\"data:image/png;base64,iVBORw0KGgoAAAANSUhEUgAAAEUAAAAUBAMAAAApce1IAAAAMFBMVEX///8AAAAAAAAAAAAAAAAA\n",
       "AAAAAAAAAAAAAAAAAAAAAAAAAAAAAAAAAAAAAAAAAAAv3aB7AAAAD3RSTlMAIpnNuzKJRKvvEN12\n",
       "ZlQ4bmvwAAAACXBIWXMAAA7EAAAOxAGVKw4bAAABH0lEQVQoz2NgAANDBoKA6wMuGSY4i88AlxoW\n",
       "GIMx2yyAkBoG5geoMqu/OC9gyPxZAFXDqGQSwMC/AE27H3sDxJFgNSIMbN8ZKtGt6BbIZWCYwKDi\n",
       "4unicoGhkYFhJsMJLjT39DkwCzBsgJkzfwFDv4AOG8QyHu/dm8GMxjuMBgg13QwM/QFBV8Ey7DYw\n",
       "dzVyBBxDqAGC/TAbhOFOb2RwYClAUsP6ByaDiJFGhiCuXRsQ4czdAJMxQFLD++DJBIQfVGAM1tm7\n",
       "d+/eAlXD0MWBUMMLN4bLAckchhVcG+DcZwyMAlDmBmQ1rAfgWlgTGHhg3jkDV+MKxEfhaqSVlLQx\n",
       "o9YO5CW4F/b///8Z7qCWKggj+CfQDC7siYo9BRoXKAAAO4pDRXkqRM0AAAAASUVORK5CYII=\n",
       "\" style=\"display:inline;vertical-align:middle;\" /></a><br>"
      ],
      "text/plain": [
       "<IPython.core.display.HTML object>"
      ]
     },
     "metadata": {},
     "output_type": "display_data"
    }
   ],
   "source": [
    "# t (represented by the Literal _t) denotes\n",
    "# the number of Qbits in the input register\n",
    "# Thus, 2^t is a positive natural number\n",
    "_two_pow_t_is_nat_pos = InSet(_two_pow_t, NaturalPos)"
   ]
  },
  {
   "cell_type": "code",
   "execution_count": 30,
   "metadata": {},
   "outputs": [
    {
     "data": {
      "text/html": [
       "<strong id=\"_two_pow_t_minus_one_is_nat_pos\"><a class=\"ProveItLink\" href=\"proofs/_two_pow_t_minus_one_is_nat_pos/thm_proof.ipynb\">_two_pow_t_minus_one_is_nat_pos</a> (conjecture with conjecture-based proof):<br></strong> <a class=\"ProveItLink\" href=\"../__pv_it/theorems/2ce5873ca249ee269a4dc170b72835640434f1e50/theorem_expr.ipynb\"><img src=\"data:image/png;base64,iVBORw0KGgoAAAANSUhEUgAAAFoAAAAUBAMAAAD/1DctAAAAMFBMVEX///8AAAAAAAAAAAAAAAAA\n",
       "AAAAAAAAAAAAAAAAAAAAAAAAAAAAAAAAAAAAAAAAAAAv3aB7AAAAD3RSTlMAIpnNuzKJRKvvEN12\n",
       "ZlQ4bmvwAAAACXBIWXMAAA7EAAAOxAGVKw4bAAABPUlEQVQoz2NgAANDBihYa8BAEHB9gDJYz2zA\n",
       "qUgBxuCDm8iHW7UDlGbMNgsgXjUD8wNcZnPtd7FiYJs/HaqaUckkgIF/AU6XsDyoYGBYDzNbhIHt\n",
       "O0MlA0OICxAIYKrm2Mh2gYGTgcnFZYqLL0MjA8NMhhNcON3N8QQYvNwws+cvYOgX0GFbgK6ax3v3\n",
       "ZrBq2QPCCNXdDAz9AUFXYaGT/O0AmMFuA9XPIdDKk8CNFCb7sQSXMMwyDgEWBnck1ax/sKiGJwUO\n",
       "AVaF1asRccndgEW1AUI1wz0+T4SEChbFrLN37969BaqaY0EnXIIXm9FcDkhmczWshks8Y2AUwFS+\n",
       "AUk1QwwL3M4EBp4FmKrPwGMeGG88ITCetJKSNhanwNMZmKEME97///9nbA5vqYJYbT8FSC4mlJ3Y\n",
       "UyAxjwIAWJRFqNLVibsAAAAASUVORK5CYII=\n",
       "\" style=\"display:inline;vertical-align:middle;\" /></a><br>"
      ],
      "text/plain": [
       "<IPython.core.display.HTML object>"
      ]
     },
     "metadata": {},
     "output_type": "display_data"
    }
   ],
   "source": [
    "# t (represented by the Literal _t) denotes\n",
    "# the number of Qbits in the input register\n",
    "_two_pow_t_minus_one_is_nat_pos = InSet(Exp(two, subtract(_t, one)), NaturalPos)"
   ]
  },
  {
   "cell_type": "code",
   "execution_count": 31,
   "metadata": {},
   "outputs": [
    {
     "data": {
      "text/html": [
       "<strong id=\"_psi_t_ket_is_normalized_vec\"><a class=\"ProveItLink\" href=\"proofs/_psi_t_ket_is_normalized_vec/thm_proof.ipynb\">_psi_t_ket_is_normalized_vec</a> (conjecture with conjecture-based proof):<br></strong> <a class=\"ProveItLink\" href=\"../__pv_it/theorems/6da986179fe7649ea6ec2f7e6fd17a8f5a1c0bbe0/theorem_expr.ipynb\"><img src=\"data:image/png;base64,iVBORw0KGgoAAAANSUhEUgAAAUwAAAAmBAMAAABdWL/kAAAAMFBMVEX///8AAAAAAAAAAAAAAAAA\n",
       "AAAAAAAAAAAAAAAAAAAAAAAAAAAAAAAAAAAAAAAAAAAv3aB7AAAAD3RSTlMAq1RmmUTNIjK7EInv\n",
       "3XZ/CtNrAAAACXBIWXMAAA7EAAAOxAGVKw4bAAAF10lEQVRYw7WYe4gbRRjAvySb7Gb3bo2IYqt/\n",
       "RNRSUDSC1gelRq+W+qgEfPxzpYarUGpBohRtafXScn8oai9Wj/Yqlm3VYtHrrcWKVQrxRaWixnKc\n",
       "oARSTq1XtD2u1p4ntM58M5N9ZLPZLevA7iSTL7O/+eZ7zQIEaHfjXcpCmLbHgEia+kRAQSmD3V3h\n",
       "pld+igYTXgm43gV4TxRDTL2WXDdFhJnIBFPLEexeDrOJi8iVzkbEuTWQVMrEbk2IifUxgqgeiQjz\n",
       "/UAKuhGl4rNBTf7Tiw2oXYAxd/KNDu1nvHebQScFqaaiHfeXosGUzwYxTabGwaCmeVFBnonnc9Q4\n",
       "zYjU+UYAmVgFuzl0WQ78do5pyDNyD1VkotryY4nMIdPO1srsB0/Vs8GFQbSTw+40ubSCbTxdbrHK\n",
       "g+NPriMa1Gp8s6ZbXCsLvTAAcMA+uJ1cSVPJez18Bd77s4DmebUP5iCuSDlrYTbwHm+Z99gX8PY/\n",
       "eVs8HnNLXAd2TJ0NXtMGk+YHHXXUnYd7aL/KB/NOtpVTFiY3uZrbd34lP9yeB3mHGFnCe41HUOpZ\n",
       "NkyNjXZ7Y+5aQp0CM6VUhE10dyo+mJcxCy02MVWmTdjvEhxIEy3G8iQDPctHTvF+hCcwKefA3Gct\n",
       "wkubOsW8GT9NQcqwVuvZPsN7V6aJGedGuZ4LTNbriDE3TdeQk7e/cJ+IuFxy4lLWd4EDcz434YoP\n",
       "Zhc1oPgMJMgKU34u9C9zJLOJqYnsxNzw0RP8e2UtYzl/fkqYNV9+7UXWz3Niini1ygczRY1TIb74\n",
       "bb3+jR/macvfCea+HoL5J/MhfIws6iw585L7r6M5LshXdL+Fqf6SA1OvCcdqi6nRXVQJw1KAHS1s\n",
       "VmDmUaU/yzDN6+EtOGVYPpQS8U4xH2qJZQ2udh4VVlqYWryq5vRZ4UMCc1mdth8sTFaXnQN4iuih\n",
       "BdNamjJt7Z9WULLL4FZqYzQ2YJBoGoycX9GCyVZLvJTVnkctzM1SLVGCKq5SKrTXZrzKDS9tUJPj\n",
       "SpHHDsDCjB0zeQa7xwqIqcJ3RNMSqFPs8aS+o8vHSFHZ0ILJprkc4CR++MrCNLoaGn3MKNVEpj2m\n",
       "gnb+F+FtUIVQ8S1zhuAqzZCM9tqkhZJJIkm8yGwKYG9TckfaG5NGyxE3Jqm7NBra5jEjb4uZrHJM\n",
       "KC5iTigtpfmokdfgw8VjiwvemFJRzsIJ+dCaMk8K3c1pH6ZxEwottknDHTtH2TadhP6nQTc2jH+M\n",
       "O9nWNuM1bpuwn/gqFZ/AWHbt85rDNmXm6f3c06VKwkgWIJUVSUFvWFkogwnDXQ7Qhcg4vNOGeS/c\n",
       "AY8A9LEA3FabiYqINhupB/WBigPztd29Dkz1HIstDYaZPKzBLQTASgp9TdHJx0u7HWkcwwMeOLC+\n",
       "gA9smMtLZoJofpalMy9MjZYRkimiTYzmillI5lhmyE86MOFLFrTzPLxvOniSeNtya7t3DRnNCun7\n",
       "MUc5NogWMJfetuAZ0YapXLHzODe9midm7Mq/LyEPoVMoZ4Q/VyGxenh4K8F8L+WIm7Caxb6KyEKb\n",
       "sRhSy1jZ0Nb7Zr3odzyxWnfZloUUqmo98y6WWu0KOXjOccAh4orJtJm8wSn4ADO8qsDE3PigZsC2\n",
       "jqXqIXfFnLdh6nQNUuMTSJd8MHtw+0UxRsUxFxG7O+Yq5FAliVmBiasZuA3Uzuf2V90D22yYWBoo\n",
       "PWXY41MWMzdNi/xDxdeTLVHGSxBzJWb0A3VaYArPZhUrdC4HbG2vXZticMIHM12yHSCEBwwPeUmy\n",
       "/79OZ7afK2IdKZMtJ0K5QXyJJKvf7YNUVUpD9jzfHWcpMMARlR+8ghyb3BGlCNG0j4K8HmDRYLQQ\n",
       "evauqN7OfB58LRegmj8iotSrgZTCLPLr/0cJke0Kf2O4ILQSojLN34KJrWR5KBdy9o1RvUI6HExu\n",
       "BJ+n/hjyZfTRiJQ5EtAT+ansmXAv09O5iDBfCyq4jtGWQ83+TkSUKo2E/wEUcpKMpHHEjQAAAABJ\n",
       "RU5ErkJggg==\n",
       "\" style=\"display:inline;vertical-align:middle;\" /></a><br>"
      ],
      "text/plain": [
       "<IPython.core.display.HTML object>"
      ]
     },
     "metadata": {},
     "output_type": "display_data"
    }
   ],
   "source": [
    "_psi_t_ket_is_normalized_vec = Forall(\n",
    "    t, And(InSet(_psi_t_ket, QubitRegisterSpace(t)),\n",
    "           Equals(Norm(_psi_t_ket), one)),\n",
    "    domain=NaturalPos)"
   ]
  },
  {
   "cell_type": "code",
   "execution_count": 32,
   "metadata": {},
   "outputs": [
    {
     "data": {
      "text/html": [
       "<strong id=\"_Psi_ket_is_normalized_vec\"><a class=\"ProveItLink\" href=\"proofs/_Psi_ket_is_normalized_vec/thm_proof.ipynb\">_Psi_ket_is_normalized_vec</a> (conjecture with conjecture-based proof):<br></strong> <a class=\"ProveItLink\" href=\"../__pv_it/theorems/45589a12a203a1c1fc25338e69651f49399dc8240/theorem_expr.ipynb\"><img src=\"data:image/png;base64,iVBORw0KGgoAAAANSUhEUgAAAOoAAAAmBAMAAAA4kBqyAAAAMFBMVEX///8AAAAAAAAAAAAAAAAA\n",
       "AAAAAAAAAAAAAAAAAAAAAAAAAAAAAAAAAAAAAAAAAAAv3aB7AAAAD3RSTlMAmVSrZs0y7xCJ3bsi\n",
       "RHYwvcNTAAAACXBIWXMAAA7EAAAOxAGVKw4bAAAECElEQVRYw62YTWgTQRSA36ZJs9ndpgsq6EGI\n",
       "9CD10tiiCKKuSPFQ0FQFFYpWBEUFE1RU8GBUeqlIQhVBRboVKmVRiAi2iEJ6UCmKjaCIFw22qFC0\n",
       "tYRWUKzzl/3N3+IO2Sz75u18M++9eW8SAAAuArW3niR40xa5Ua4f8gbqj9WsOoquLd5QD9dus23o\n",
       "EiOeUPfWrBkeQET+rBdQ36+a1PgbbUlQXYdBuSaka1LjgFN5EgHjWQ+o8drc2piT5nyygh2b9oC6\n",
       "Hl2S8dhdLtKT0py0GC/Tn7D3SfiDvgwj1FOxVGokIiygK5TTZY+cHr01uO85Wl9IZW/N2jU+A3yA\n",
       "AwC3dYmIJ09kztaQR7P6w6i+9WceohBd4dCaOAUXfssAR4uuGLDHY9pEbRo+14pEchkqHmQS2WtG\n",
       "X+sZElyOMPqOBu2QQRopSpawe4jt3B4wrzVIHKCWpPKr9yNqIAl1MUpt7gYNpGv6UHo7ICLFOhnl\n",
       "pVdMMs3uvSypLTaovusgqDCmQF+ZtU6jwfwyBKOUGkggqjAEUob1T2kaGXWdiCepSI8OLWU9LSzi\n",
       "JjfQe8K01t2YqiXhZQUqnIXGNKWG5hA1hdzRRbvffWN6mVFyCy4szBT3GjOHeoy6NWai9ncLKv8T\n",
       "WTFbgboLGhVK9c8iahyFVzMN1D3FOI8esb+ZUlgQBchW4dIm6vaIoNb/NUVYKepVGI9Qqq+AqJ+U\n",
       "YjgFinuvPv3WkTDyTIVEKgQUE7VFEdSGAg0nRuU00qIGtZ2aC1GRWTSYRh7jSDwH9D0tf3RQaXI6\n",
       "CEBqrRAxUVOyoIbnkGB5hbWuhE85tnOGEXUQL45M6jCeHgmszJiDSpYIawF+EI/nTFQxIahCjM6p\n",
       "LDWurxV6ZC00xPY8wGVdb0QsTcWloNdB5TsF9SYeubkC9b1BhYn5jYZHjWTxBu9XyDn8ijc2OXFZ\n",
       "LAzhTSdJd1cFv66CcUXPTRqRv6QFPG/kJqTPmU85JOzJvCQsFvOW3CSQdI23fdm1dkAqr1PnibyP\n",
       "du/QFac6sxctqZeEPTnNkFoRilqojYmiJUpR+7Ell0FQLmb/NQs4+wOrLJeeJvWac37AUsjjZI7r\n",
       "8NdxHH6qmdq0/3crs0QJatv5nchQ9yGQsVY6ugfxO4+1MofHFts54C44Kh0pXWUqHUgqcAkrVax+\n",
       "Prlpe95cgvqkApVTwP/LSu2pfvp4aHsWsw4qH6tARfHKz1qpk9WpBXvVzDioYaUCFdvhAVYyTkvR\n",
       "qtCGP3bJaxxWKIV90SV1NNTGSp6qsQ+3uj3ehWLw/y2Vc/lC0IufHK6n/tWT3zmnXeqf8ITa7k49\n",
       "HPOEGlBcqb/IekLl77nSvuPRPwTP3PzVICoeUaVuF8pXvCD+A8JQOMQn9evmAAAAAElFTkSuQmCC\n",
       "\" style=\"display:inline;vertical-align:middle;\" /></a><br>"
      ],
      "text/plain": [
       "<IPython.core.display.HTML object>"
      ]
     },
     "metadata": {},
     "output_type": "display_data"
    }
   ],
   "source": [
    "_Psi_ket_is_normalized_vec = And(InSet(_Psi_ket, QubitRegisterSpace(_t)),\n",
    "                                  Equals(Norm(_Psi_ket), one))"
   ]
  },
  {
   "cell_type": "code",
   "execution_count": 33,
   "metadata": {},
   "outputs": [
    {
     "data": {
      "text/html": [
       "<strong id=\"_best_floor_is_int\"><a class=\"ProveItLink\" href=\"proofs/_best_floor_is_int/thm_proof.ipynb\">_best_floor_is_int</a> (conjecture with conjecture-based proof):<br></strong> <a class=\"ProveItLink\" href=\"../__pv_it/theorems/0bd19e511da6f60d1d8f8c18a24b89ea4a8fcb3a0/theorem_expr.ipynb\"><img src=\"data:image/png;base64,iVBORw0KGgoAAAANSUhEUgAAADcAAAAVBAMAAAAQkWtIAAAAMFBMVEX///8AAAAAAAAAAAAAAAAA\n",
       "AAAAAAAAAAAAAAAAAAAAAAAAAAAAAAAAAAAAAAAAAAAv3aB7AAAAD3RSTlMAELvv3c2ZVESJq3Yi\n",
       "MmZ3LnoBAAAACXBIWXMAAA7EAAAOxAGVKw4bAAABFElEQVQoz2NgwAZK7U1VnOwYGBiVHTAlN61l\n",
       "YGUIADJYEzAl0xgY9nEWABn8BZiSaxgYFYRAjH4BhCC3iosriBZgYLuwFsSYgpDjiIYrvMULti1q\n",
       "93KYyFGEIYpMIDbjVwH5A1CRGLgc+4TXYOojA/MGBo4sEDsALgnxCANbAAP/BAZmUaBuXhMXFxcn\n",
       "sOR2zgYGRgYGlgkM/QUMrSARRgWYRkaFQwwMXAdA3swX4HaaCBKDhxXXhTUMDPLAMLjACAzECLDY\n",
       "bpjkNQ6gR5YAFT1gAjJsIM6ABZYiqwDDoSKg8SvzgMQHiFWLGiGBYRSspPxZExY0UE9wTIIEHwrg\n",
       "XsCAG7A9wCPJcgC3nIgoPlPnYBcHAMmjMrvV7qNpAAAAAElFTkSuQmCC\n",
       "\" style=\"display:inline;vertical-align:middle;\" /></a><br>"
      ],
      "text/plain": [
       "<IPython.core.display.HTML object>"
      ]
     },
     "metadata": {},
     "output_type": "display_data"
    }
   ],
   "source": [
    "_best_floor_is_int = InSet(_b_floor, Integer)"
   ]
  },
  {
   "cell_type": "code",
   "execution_count": 34,
   "metadata": {},
   "outputs": [
    {
     "data": {
      "text/html": [
       "<strong id=\"_best_floor_is_in_m_domain\"><a class=\"ProveItLink\" href=\"proofs/_best_floor_is_in_m_domain/thm_proof.ipynb\">_best_floor_is_in_m_domain</a> (conjecture with conjecture-based proof):<br></strong> <a class=\"ProveItLink\" href=\"../__pv_it/theorems/2038736f63fcc563688f1a1529f91166cbd483e20/theorem_expr.ipynb\"><img src=\"data:image/png;base64,iVBORw0KGgoAAAANSUhEUgAAAJwAAAAZBAMAAAA261oVAAAAMFBMVEX///8AAAAAAAAAAAAAAAAA\n",
       "AAAAAAAAAAAAAAAAAAAAAAAAAAAAAAAAAAAAAAAAAAAv3aB7AAAAD3RSTlMAELvv3c2ZVESJq3Yi\n",
       "MmZ3LnoBAAAACXBIWXMAAA7EAAAOxAGVKw4bAAACAUlEQVQ4y2NgIAewHmCgJpCnqmkMpaRqYOzA\n",
       "I3nSdS4W0eN4QmBrIz7LwrEJ8i4SADpD2QGLFPtHIDFzGxb7jqXqMjB8xDDKEUgwLQDFUgIW4ziB\n",
       "drAWMPpgSPAoMMxv4DBAE5VK/QjVxMBfgMO4JwwMkzAkuA4wMBtwL5BFE+aGG9cvgBDd5OISADdO\n",
       "i4GhXgDdOOaPDFx/2DZMxGncFIRg60Zk131jYLiP4XIuBwauv7x5F3AaF7V7OSxcApE9ywgy7gGW\n",
       "gGD5gCkGN47xq4D8AYyswxbAwPMTaNwGLMZhEwQbx20AThLMGxg4skDGIaQPP4AYNwGLcV4MOIzj\n",
       "+Q52B/8EBmZRoMsuuwCBAkj2VATQ2UDj+rE4hE0BlnFCQOpdLsCNY5AKZ2CZwNBfwNAK4gkhUmWS\n",
       "ADgq6rEkolcMuFzHMLUBlOzyBbidQDHPgpAGJXAlBob3Apj5ZQLDGRzGgbIS/wVGOwaGCLDYBpRk\n",
       "/JiBIRVT400Gho24YhYYFVwPmIC5zAYtZ4OMYylgtAWH0VcYAQput7Q0LJmc8w8soazMAxKQpCSl\n",
       "IYBkHGPmLkhqdYMTQDv+//8fgJn1Fn9dB03GIMABVdGpgpTJSAZwTdwLcMmQZRwbembiNiDDODZY\n",
       "KLCgl5OgBE4yEIY6SkQUs9BdTrJpJ2Fa2OZQq4oDAJTDfgwC7mQPAAAAAElFTkSuQmCC\n",
       "\" style=\"display:inline;vertical-align:middle;\" /></a><br>"
      ],
      "text/plain": [
       "<IPython.core.display.HTML object>"
      ]
     },
     "metadata": {},
     "output_type": "display_data"
    }
   ],
   "source": [
    "_best_floor_is_in_m_domain = InSet(_b_floor, _m_domain)"
   ]
  },
  {
   "cell_type": "code",
   "execution_count": 35,
   "metadata": {},
   "outputs": [
    {
     "data": {
      "text/html": [
       "<strong id=\"_best_round_is_int\"><a class=\"ProveItLink\" href=\"proofs/_best_round_is_int/thm_proof.ipynb\">_best_round_is_int</a> (conjecture with conjecture-based proof):<br></strong> <a class=\"ProveItLink\" href=\"../__pv_it/theorems/da6d29f420c18f1153bb6e0cdf0b1ce4715a17960/theorem_expr.ipynb\"><img src=\"data:image/png;base64,iVBORw0KGgoAAAANSUhEUgAAADkAAAASBAMAAAATXWtDAAAAMFBMVEX///8AAAAAAAAAAAAAAAAA\n",
       "AAAAAAAAAAAAAAAAAAAAAAAAAAAAAAAAAAAAAAAAAAAv3aB7AAAAD3RSTlMAELvv3c2ZVESJq3Yi\n",
       "MmZ3LnoBAAAACXBIWXMAAA7EAAAOxAGVKw4bAAABBElEQVQoz2NgwApK7U1VnOwYGBiVHbDIblrL\n",
       "wMoQAGSwJmCRTWNg2MdZAGTwF2CRXcPAqCAEYvQLIJvo4gIyj0GAge3CWhBjCpJk60Y48xYv2Mao\n",
       "3cthIjyBCIWKTCAzGb8KyB+AirAegEuyT3gNpj4yMG+AySK0QvzDwBbAwD8BKnTZBQgUwMztnA0M\n",
       "jAwMLBMY+mF+EoJrZVQ4xMDAdQDk3XwBybWzFwDFWOCyXBfWMDDIAwPjAqMdw55FYGu4YQ5guMYB\n",
       "9M8SoKoHTAkMDb4QwXC4f1gFGA4VAW1YmQckPkAEpTQgAcdhFKyk/FkT5jsFKKNTBRKSKIBtAgMe\n",
       "wHUBuzgAroAy50zI1n0AAAAASUVORK5CYII=\n",
       "\" style=\"display:inline;vertical-align:middle;\" /></a><br>"
      ],
      "text/plain": [
       "<IPython.core.display.HTML object>"
      ]
     },
     "metadata": {},
     "output_type": "display_data"
    }
   ],
   "source": [
    "_best_round_is_int = InSet(_b_round, Integer)"
   ]
  },
  {
   "cell_type": "code",
   "execution_count": 36,
   "metadata": {},
   "outputs": [
    {
     "data": {
      "text/html": [
       "<strong id=\"_e_value_ge_two\"><a class=\"ProveItLink\" href=\"proofs/_e_value_ge_two/thm_proof.ipynb\">_e_value_ge_two</a> (conjecture with conjecture-based proof):<br></strong> <a class=\"ProveItLink\" href=\"../__pv_it/theorems/1fd0a868af1d044898374bdb1a59bd4de9072ebc0/theorem_expr.ipynb\"><img src=\"data:image/png;base64,iVBORw0KGgoAAAANSUhEUgAAAIIAAAAaBAMAAACJGJngAAAAMFBMVEX///8AAAAAAAAAAAAAAAAA\n",
       "AAAAAAAAAAAAAAAAAAAAAAAAAAAAAAAAAAAAAAAAAAAv3aB7AAAAD3RSTlMAZkRUmRDNuyLviTJ2\n",
       "3asqG0tJAAAACXBIWXMAAA7EAAAOxAGVKw4bAAABvUlEQVQ4y2NggAG2BgZygRCEiiekzgGXBDNU\n",
       "xoyQCe24JMIgVNe11VABEekzWK1jPIDDhEIonQylWYUmMszAqvIqdgM4JjAwtLhVMzB8hQnEJMDZ\n",
       "cMAN0n0OQzNYI8sCBo4ChvUKTBMYuMuBoIKB7wCQjQri3EBmxgeA3ZiIsB2kkYFfgYGvgYFzAs+D\n",
       "aKg45wYWhw1oRvCATGATALOj7sBEwRoZ9gcwcH5l4PvBcmApVLyfgXczVhNYCqCcWwFQu0AaGc4C\n",
       "jbrAwPeb2xGmS4+BZyEDNhN4YJ5jhBoB1sjwDMzm/YA/LYBNYIIHMHMKLAEDNZaDGfsPEGEC9284\n",
       "nykP6hGgxjww4x4DESZwfEKYkA41AajxCgNSGKEA1ty7ILABbgIr3ATmPKgvQBrBbpBjIMoNMF8w\n",
       "XoG6AKwRZALzAoYOYsLhB1psQjQ+BzJ2MTAcJT4uECkKovEk0HVXXFwu4DeBC2Q94wT0VA3WqB/A\n",
       "wPv///8EvAbwvfz2EBhsD9CEIRo5FYguzKD5Ah0A8yaxID4AqzD3BKJNgMQ5611EMoGAx0SbcAN/\n",
       "OUkY4CwnmYkNiHZC9QVB4IpdGABZ9IHUcvunZAAAAABJRU5ErkJggg==\n",
       "\" style=\"display:inline;vertical-align:middle;\" /></a><br>"
      ],
      "text/plain": [
       "<IPython.core.display.HTML object>"
      ]
     },
     "metadata": {},
     "output_type": "display_data"
    }
   ],
   "source": [
    "# t (represented by the Literal _t) denotes the number of Qbits in the first register\n",
    "# n (represented by the Literal _n) denotes the desired number of bits of precision\n",
    "# In Nielsen & Chuang, e = 2^{t-n} - 1 is the max desired error\n",
    "_e_value_ge_two = greater_eq(subtract(Exp(two, subtract(_t, _n)), one), two)"
   ]
  },
  {
   "cell_type": "code",
   "execution_count": 37,
   "metadata": {},
   "outputs": [
    {
     "data": {
      "text/html": [
       "<strong id=\"_e_value_in_e_domain\"><a class=\"ProveItLink\" href=\"proofs/_e_value_in_e_domain/thm_proof.ipynb\">_e_value_in_e_domain</a> (conjecture with conjecture-based proof):<br></strong> <a class=\"ProveItLink\" href=\"../__pv_it/theorems/c0aefc43fdc0354c9d823be56f34e93f9629a9eb0/theorem_expr.ipynb\"><img src=\"data:image/png;base64,iVBORw0KGgoAAAANSUhEUgAAAP8AAAAaBAMAAACKr5fIAAAAMFBMVEX///8AAAAAAAAAAAAAAAAA\n",
       "AAAAAAAAAAAAAAAAAAAAAAAAAAAAAAAAAAAAAAAAAAAv3aB7AAAAD3RSTlMAZkRUmRDNuyLviTJ2\n",
       "3asqG0tJAAAACXBIWXMAAA7EAAAOxAGVKw4bAAACxUlEQVRIx2NggIMMBmoDuImBCfiUCUEo1g8E\n",
       "jHMg1X64idxnLuBRxgw1mDmBgHntpDoAYSIzPgeEQSiOtVkbICxGxz1HsClkPIApFqSA22CEiTgc\n",
       "wGEBpgqhXDYDWIRpCnA2YNNwFUOEJykAj9fgJuIKgX2lIGdMAGKX9A0M/DCzWo8h2DDADbL8HIYJ\n",
       "9iB1e7E4AtVELA5ocasGknVAzLIAFLtcnxg0GRi2lwNBA8MbEBsFxLl9BZLxGDatBaa0J/kB2NIL\n",
       "iokYDuAoYFivANbPwA+kXzAwzGQ4xwqLsdkMLtzoYQ1yAJsAFgcwMJzH4gA0EzEcwNfAwDkBon8/\n",
       "UPv8AIb3DT5cUIM4PjDctsbmAJYCKO/43bsJ+B2AaiKmAzi/MvD9gOg/C8RvGRjeb9giDZVkesBw\n",
       "SgCbA3gmQDhqRwmGAKqJHMt+oeUgvgsMfL8h+p9BRO7jz9JgBzB9hRiXSjgKCJvIwPsBor8cksr/\n",
       "EOEA7t+Q3IXIo264HUDIRIb9wEA5CaTzIM55QIQDOD5BHIBIyxNxO4CQiQz3gLgfWFJcAfPcsRXl\n",
       "uXdBYAPcAawQB+wEiYLSI8czBdwOwGZiGNjA22A2OEWzPjOAhAAjIedCQgASBeFw0S2lOB1A0EQ5\n",
       "EMGVBI0CKwaOBiLSwA9I4CKE63A6gJCJzAsYOiAl6XOQyQsYeAKIzgU8BwjnAoIm7mJgAGbmlQyQ\n",
       "hNjr4uKLP8C4QJ5nhJYDyagOWA/xKus3UGkNrYEJmchxxcXlAkS/PtCh9////4bXfr6X3x4C0w00\n",
       "XuOKApAc8G5+HqTYAiVnXmjjgpCJvP///0+A6OdUILqBAa8LtGqRi2IKwFpobUgkwFobUuwA7glE\n",
       "K5fDEDlJoQPAJeljopXfwBDpN6DIftaJSG1CwgBLm5DDjxIXcKwzgBYJxIF2BhoBISLVudLEdgBO\n",
       "oN1ipDvhRwAAAABJRU5ErkJggg==\n",
       "\" style=\"display:inline;vertical-align:middle;\" /></a><br>"
      ],
      "text/plain": [
       "<IPython.core.display.HTML object>"
      ]
     },
     "metadata": {},
     "output_type": "display_data"
    }
   ],
   "source": [
    "_e_value_in_e_domain = InSet(subtract(Exp(two, subtract(_t, _n)), one), _e_domain)"
   ]
  },
  {
   "cell_type": "code",
   "execution_count": 38,
   "metadata": {},
   "outputs": [
    {
     "data": {
      "text/html": [
       "<strong id=\"_mod_add_closure\"><a class=\"ProveItLink\" href=\"proofs/_mod_add_closure/thm_proof.ipynb\">_mod_add_closure</a> (conjecture with conjecture-based proof):<br></strong> <a class=\"ProveItLink\" href=\"../__pv_it/theorems/b1e4882942c1b04ee2dec01062cf0d29fc5321870/theorem_expr.ipynb\"><img src=\"data:image/png;base64,iVBORw0KGgoAAAANSUhEUgAAARwAAAAaBAMAAACX9P56AAAAMFBMVEX///8AAAAAAAAAAAAAAAAA\n",
       "AAAAAAAAAAAAAAAAAAAAAAAAAAAAAAAAAAAAAAAAAAAv3aB7AAAAD3RSTlMAq1RmmUTNIjK7EInv\n",
       "3XZ/CtNrAAAACXBIWXMAAA7EAAAOxAGVKw4bAAAERUlEQVRIx72XXYgTVxTH/9lMdiaTZFxXEJYV\n",
       "GSiWQqumDxXsh6a4LlVBBsQXEdx+UeqDZK20iD7YvtrqSktrFGV8kWrEpHZpNYE2UAq2xRLLVlsl\n",
       "kLSlLf1CxLrLFro9587HTjIfZO3ihRlmzr1z7u+ce865d4D73Xrz/1fDY/OJUwrtyXWnoCc3nzgP\n",
       "hvbs7U7Bab6FuVj2i9StEcr2XbsYIN3N6uPNrnDepkvTQzoTfh0/b4vS9lyQUBkw6X4D6OO3B6K+\n",
       "l2t0ezio58wVuv3oW9tpulV/CnDnnuGjwLQPhSiQZI4WsJ4lL0XhSGXy/0hg1wucKWaHMFUnoa5e\n",
       "99s1hk+NRK1Demp42v4IJROvW+Mi2gKDkLIegfb0wor1dJtXPBeA8xRwyacolke6pvW93yHWXJze\n",
       "rDAupUfhHKYRaa9zK4pRNETcCMd/aWs90bjm4hwBVnZ6DelpxCalZiUURxpDnOzujYzkPzuy8xAU\n",
       "A8uciYHnrZDeZXq8c4es8NkYqyM2paw7EIqj0UJeaTS+isRZTNcmXtLBX0QWlRknxZP3Lm3RnB+I\n",
       "Ua+ansVSGScboCtzyy+bxWFvPwMci8Qp2B7Ynk/yh1qecdQyh95OdRJYhfZskEYg/0M4QVUkSChw\n",
       "2DFQpoBRyH1uWLzs+PWL8eNOiD5L1zeUXJ9BYhNiYBxR0Sk8vgYeEaNmU29/1sIpB+BcRQiOzFkh\n",
       "/00Zb6YMt2uQmVoFI5NPnXe8P0HX52T0LWR4hmS1Oj5YrXIyDgM8rzCE1rzxPT+NvkjoJN4R4AjJ\n",
       "TeHTDW7fuTg4ReVRJZyepieSL9M1RLEWxxuvwOMdwkmPocTc0qx3biJBRm0XG4M7kbLBFKG8MiBd\n",
       "H0WYd/AR6ZSn2M1r6FZc8zGr+rdlalYI5nJoX6xSE2vRjnMbEqlaLkbVXfVcYCne1pr+vbiM10Jw\n",
       "RClXKBJxYScZd108aje03BkxJr7bzccBuk4Sjo7FPVT5FZ1xEmz7FM4R+2ox6q+2MvikWMnOdhD4\n",
       "LSyzak4d20/WSDmF35PZ+MgWMeZ8yh3+B0QyJ5s9ExK/VxinyE+L8I5dBHhb8OJkdPWydbqhEFfv\n",
       "2pvExNBQ3Y+TmnQSPc4MMfJD2tA4vdIHpL5VhUJBR7mCs/bwHeT1t0jp0oujv4rVyiuGvFGE3zgv\n",
       "7LfWqWJgmwdH3dSyvJvJ2cnAzzMzM/69L7bk7iKnKjspXsonH6dZFyCtHxQ19qEsnGKepkjJeEvp\n",
       "E1uXfeLZGG2DE5c8m8Scm7Nn2VPmD28xi8iYqynxuVdCou7Z0dv2SXXFD54wlbJBmu8Jp+SoTaxb\n",
       "8SHe1JXNTchHOSMX/v6u4zkRVe91f6TUaveAI43464AVjcVCwWgT9/NJK1SRD1QU2Lk2TlG0H5ES\n",
       "ZvhZWQ47x2r+U9+e/jnT7Ov3n5XjYX8S5fvzB9bln8T8/meFNyoe/wEhSR6HbbuDGwAAAABJRU5E\n",
       "rkJggg==\n",
       "\" style=\"display:inline;vertical-align:middle;\" /></a><br>"
      ],
      "text/plain": [
       "<IPython.core.display.HTML object>"
      ]
     },
     "metadata": {},
     "output_type": "display_data"
    }
   ],
   "source": [
    "# The o-plus addition denotes addition modulo 2^t, resulting in an integer\n",
    "_mod_add_closure = Forall((a, b), InSet(ModAdd(a, b), \n",
    "                                        Interval(zero, subtract(Exp(two, _t), one))), \n",
    "                         domain=Integer)"
   ]
  },
  {
   "cell_type": "code",
   "execution_count": 39,
   "metadata": {},
   "outputs": [
    {
     "data": {
      "text/html": [
       "<strong id=\"_phase_is_real\"><a class=\"ProveItLink\" href=\"proofs/_phase_is_real/thm_proof.ipynb\">_phase_is_real</a> (conjecture with conjecture-based proof):<br></strong> <a class=\"ProveItLink\" href=\"../__pv_it/theorems/eb10bb1c4e919d952f82009c6c8c95a953f0b22b0/theorem_expr.ipynb\"><img src=\"data:image/png;base64,iVBORw0KGgoAAAANSUhEUgAAADUAAAAUBAMAAADfOGjQAAAAMFBMVEX///8AAAAAAAAAAAAAAAAA\n",
       "AAAAAAAAAAAAAAAAAAAAAAAAAAAAAAAAAAAAAAAAAAAv3aB7AAAAD3RSTlMAMkTNuxCZZquJVHbd\n",
       "7yKDlRhzAAAACXBIWXMAAA7EAAAOxAGVKw4bAAAA6UlEQVQoz2NgwATFV/xtrhQwYAcOLxg0SgJw\n",
       "yL1kYGFswCnH9sAARYjb58xhhJwDshSTdQBCH0co0ExGAQYme1eQyOMAJDNFFj9gYGBjYBAu6gSJ\n",
       "2CHse2vzZyuQXsjA0MDAAhIxQHJLeTCInsDAHgDSzMB458yZM0egcizhIL9vYOBmYIgGMlgdkPQx\n",
       "JoCckMCgyMCQChI5gOy/xCdAOh0oGyEAEtmNLBfCDTSU2dqw7BBYhHkBXO4ZA3uBE5BR8/8kRIS1\n",
       "RRUeD34MLvZApWzw2GCaAg0zOOAVYMAJ5HFLMezBI/cQpwwA07o8urboFVYAAAAASUVORK5CYII=\n",
       "\" style=\"display:inline;vertical-align:middle;\" /></a><br>"
      ],
      "text/plain": [
       "<IPython.core.display.HTML object>"
      ]
     },
     "metadata": {},
     "output_type": "display_data"
    }
   ],
   "source": [
    "# The phase phi is in the real interval [0, 1)\n",
    "_phase_is_real = InSet(_phase, Real)"
   ]
  },
  {
   "cell_type": "code",
   "execution_count": 40,
   "metadata": {},
   "outputs": [
    {
     "data": {
      "text/html": [
       "<strong id=\"_delta_b_is_real\"><a class=\"ProveItLink\" href=\"proofs/_delta_b_is_real/thm_proof.ipynb\">_delta_b_is_real</a> (conjecture with conjecture-based proof):<br></strong> <a class=\"ProveItLink\" href=\"../__pv_it/theorems/2fca217ab274374863326de79c58ca63972c3c250/theorem_expr.ipynb\"><img src=\"data:image/png;base64,iVBORw0KGgoAAAANSUhEUgAAAHsAAAAVBAMAAACUF4xmAAAAMFBMVEX///8AAAAAAAAAAAAAAAAA\n",
       "AAAAAAAAAAAAAAAAAAAAAAAAAAAAAAAAAAAAAAAAAAAv3aB7AAAAD3RSTlMAq1RmmUTNIjK7EInv\n",
       "3XZ/CtNrAAAACXBIWXMAAA7EAAAOxAGVKw4bAAACL0lEQVQ4y4VUTWjUUBD+0uxmk81uXI/iJaUg\n",
       "3lyxFHqRBX/oSbYIXgoSvIiFYqpexKrb3ko95FI1ijSlUGiFsoinHorHLkXoUYTA1ouoIKKXRVCc\n",
       "efmVPuPAC2/mm2/e/LwXoEAqKBS3GMYHinCxd8hrrLcy02sCV2nfYMOIlD3UBUxMBocAbxaT4wEs\n",
       "CnGB9etS+jotJZAA3j0YOp07DcxzjZ6Ufo6W1ZDTS64DjAIahTdtKf0Nrer3nOFTGDopnY6sBVCp\n",
       "AE1eunBdybK/8jk7XdmktDTivg3DPSm9RJ3D8Km0sMp0LvnFEzQQk0JMAM+kdI6tOsrPVE8n6M3N\n",
       "/OJMVMpvFpUG9BsxovReP29F2zp15KE7NEgwLde6M+uiPOqOEZht4Dhp+oHfrrvmVlxtjczHoA8E\n",
       "RvIoJPEiurHWZMI3CtHnsLu0zncoHyzcRkb/wS67kb6RO11vccFlno1zluL8Pgj4EpG04tw5+eqA\n",
       "6mNM6Pm5T9zl5Pfp84o6ar23WlF09VYndjL6wACazRjrVj9H3+DDVC5ljtpvNFXnsoC2zMSJx7KD\n",
       "YYEJw7WUfoeuy3I8WoWOq3VKjTHf9210t7EZOemUmvm1KzBhWF0Okhf3BP5NG/V2HO8IavYSb8on\n",
       "m9iOje8yLNpNvYgubSL3k009GKcJcsYllPdj42iG4Z9vKkr0Uh+Vp7Q5ffTL4+SRGW6KyX9Gfz/U\n",
       "l77fzutVr/hnZPznb/WgGP4I/AEiH4ttsXbq5QAAAABJRU5ErkJggg==\n",
       "\" style=\"display:inline;vertical-align:middle;\" /></a><br>"
      ],
      "text/plain": [
       "<IPython.core.display.HTML object>"
      ]
     },
     "metadata": {},
     "output_type": "display_data"
    }
   ],
   "source": [
    "_delta_b_is_real = Forall(b, InSet(_delta_b, Real), domain=Integer)"
   ]
  },
  {
   "cell_type": "markdown",
   "metadata": {},
   "source": [
    "#### This derives from $\\delta$ being the difference between $\\delta$ and its best $t$-bit estimate (without going over):"
   ]
  },
  {
   "cell_type": "code",
   "execution_count": 41,
   "metadata": {},
   "outputs": [
    {
     "data": {
      "text/html": [
       "<strong id=\"_scaled_delta_b_floor_in_interval\"><a class=\"ProveItLink\" href=\"proofs/_scaled_delta_b_floor_in_interval/thm_proof.ipynb\">_scaled_delta_b_floor_in_interval</a> (conjecture with conjecture-based proof):<br></strong> <a class=\"ProveItLink\" href=\"../__pv_it/theorems/4eda169214babd86924789b4470963c58ecb08c40/theorem_expr.ipynb\"><img src=\"data:image/png;base64,iVBORw0KGgoAAAANSUhEUgAAAIoAAAAaBAMAAACaz9kUAAAAMFBMVEX///8AAAAAAAAAAAAAAAAA\n",
       "AAAAAAAAAAAAAAAAAAAAAAAAAAAAAAAAAAAAAAAAAAAv3aB7AAAAD3RSTlMAZkRUmRDNuyLviTJ2\n",
       "3asqG0tJAAAACXBIWXMAAA7EAAAOxAGVKw4bAAACh0lEQVQ4y6WVPWgUQRTH/5u9vY/dvdxhYRAt\n",
       "Ugmx0ICVgvGKQ0VO2UIUIZoLQSIW8bQxTXALMZXkGhGxyDZ2p15hYyF3FkEUjcGP8siBoqJoEkNS\n",
       "eIH4dmZ3Z/ZuDw4c2J19M29/+583894CQbuM/2k7eKetRk3GeoSoOa8vRs0mS71Rznruj65Uo6b3\n",
       "tA+YjTa/pHu75hnxYWni2D3be0xbbRR9sG2gr04vlOnKT1aRkdx17Pcts9lJ0SsnfOs5+b2g8DnA\n",
       "LPQ/GJI8+wVR2+ikTOACl6p9uUqecQsZEvgduI9FTaxXFjDeQVGWoPtBf0cUJYcadfMWVuyCLglY\n",
       "F28d9/qXjUaRUxJNqBsSBXfxlu6/gJXq093SB28K4ive7V0ItGRyMNZlyji+cms5pHrkqDgmBxgw\n",
       "eUmsaIwoazLlMW4ww9iSIUqxX8S0xsIVtwVlzhH+jLITU/xUhPZzzlZbxqRvsPMRR5jyV6YcwsdQ\n",
       "CDHmRvAbjBZ++COM8qxBreStyEFfSEuNa1ECKWk3q9ZgrOKBr4Wt6JykhaKrhqI7xCmHkbTFgrQW\n",
       "RcbYWuT7VGMzaYmSKEEJ7fQRUk+xdWDK6dKipDI/mTm8DvbIrEunroxYEZagDLDjcCefPyVHt4IR\n",
       "JLJKUSuQzy4+NiFlwAecr2qbzHriKj3JPrW8vb0ZOuRvHKSqsaaaJeM0H7t43QooZyo/gYZr/56f\n",
       "Ip/3SA1Gl50MUsO3F6Q82jfjZ4BX1YIYJJdYTke1tDXADklUTnvVI6iqWRjlaIpRqDOK0uxCGQ1G\n",
       "Zun63L2Y3nI12V0owaZhWtTdqHYwqu7q7XXXdL+jOt0gow97/wf4/6POptMmxqxeEP8A5yig4bLS\n",
       "F2kAAAAASUVORK5CYII=\n",
       "\" style=\"display:inline;vertical-align:middle;\" /></a><br>"
      ],
      "text/plain": [
       "<IPython.core.display.HTML object>"
      ]
     },
     "metadata": {},
     "output_type": "display_data"
    }
   ],
   "source": [
    "_scaled_delta_b_floor_in_interval = InSet(Mult(_two_pow_t, _delta_b_floor), IntervalCO(zero, one))"
   ]
  },
  {
   "cell_type": "code",
   "execution_count": 42,
   "metadata": {},
   "outputs": [
    {
     "data": {
      "text/html": [
       "<strong id=\"_scaled_delta_b_round_in_interval\"><a class=\"ProveItLink\" href=\"proofs/_scaled_delta_b_round_in_interval/thm_proof.ipynb\">_scaled_delta_b_round_in_interval</a> (conjecture with conjecture-based proof):<br></strong> <a class=\"ProveItLink\" href=\"../__pv_it/theorems/1d352e4987d73278be7cc00b5086124af0938ae70/theorem_expr.ipynb\"><img src=\"data:image/png;base64,iVBORw0KGgoAAAANSUhEUgAAALAAAAAzBAMAAADFvZ8bAAAAMFBMVEX///8AAAAAAAAAAAAAAAAA\n",
       "AAAAAAAAAAAAAAAAAAAAAAAAAAAAAAAAAAAAAAAAAAAv3aB7AAAAD3RSTlMAZkRUmRDNuyLviTJ2\n",
       "3asqG0tJAAAACXBIWXMAAA7EAAAOxAGVKw4bAAADG0lEQVRYw7WYPWzTQBTHn+M4jePEifgQA1Lb\n",
       "hYGFRmJAYigZQlmK5KWdkJoBVIRQCQNiQAUPFbCgZgGEEDQbC9AMiAEJNQsDUgkZWj6ETJFABCGV\n",
       "htBCRSLCne3EF9txYut8g++f8/l3L+/uvfMZwH3hJiYk8KPEms2U07gXPIOHne8/l+iASY6q2TIN\n",
       "MPflnGTWj+lY/Foy61jCJzB70ycwnPQLPCL7BA598gnMbvkE5hpkh9P0wDCLLzv01V21paQ8gYfQ\n",
       "7LH6o2zGFnzNE3gKhcikJsOPzhTswEyxF3hRtmoeLYvzelsoadwPj91u917tAf6xMJOw6IEyhHOI\n",
       "k54uQJz4RxE40P5Vcp02MaAKwTz2Y6QG+4l2kRhkSvIAZmoQR72+AdyBEmf4OEpETijhASw0YAkZ\n",
       "tCDBhjweMUzjfhl9gll9sFnlTd9gbhNeoWodYKPwZC9x44oxSDSnVoGzkguL4R981cRaR/PokWxb\n",
       "B7S4vyq5cQX8gYstn5Cuz4hGFhHq5oDvB3wLZrS+HXluXmbrwnRrTdfUKuMOrMCKWh9rLy4MqGAz\n",
       "v7fmQQUL9xRFeWuAJxVcPgA0cdHTDKHfaxYzbYNjOHP8BKEKd1sWq67gsu4s1sGHIUwEPFdHXhYa\n",
       "JW26hG21Krt1RQU/m4coGV91lDiiq9EUuSqWncGSZfJeouuNdPo42foQRmEgwWjzxeTMOcoGzP02\n",
       "NdyHETTWWrPZcSOynAe+ENQcr1dcZZ+TxYrJ5E3guzgsDnxy1868kSsCD+xDem7sEt4mJENjM/6q\n",
       "2c12Y5P2wCG50DO7hbOwOIwTraG1gBNyXfLTeBFCWAw652NRBh4hThAa/wGUxT53XzNz+PLOGcxv\n",
       "gYgWZJHQOHNtt/c8u3Kwjz1PLINYt2gRxR+bd1zpvXdpiFUtms8a7xVdytHe4KWiRc8XaZxBPlr1\n",
       "kEwBHMxa9TqNl8JBG92gAEaTf92sGRqvsc8AXph1jMKLd3glnS6bNY2jAjr/NjNmfdmfI29rb6AP\n",
       "jiV9AlM68lo9kfEK3u38IeSp588KPT6EnMLX/281/DpxEPpEAAAAAElFTkSuQmCC\n",
       "\" style=\"display:inline;vertical-align:middle;\" /></a><br>"
      ],
      "text/plain": [
       "<IPython.core.display.HTML object>"
      ]
     },
     "metadata": {},
     "output_type": "display_data"
    }
   ],
   "source": [
    "_scaled_delta_b_round_in_interval = (\n",
    "    InSet(Mult(_two_pow_t, _delta_b_round), IntervalCO(Neg(frac(one, two)), frac(one, two))))"
   ]
  },
  {
   "cell_type": "code",
   "execution_count": 43,
   "metadata": {},
   "outputs": [
    {
     "data": {
      "text/html": [
       "<strong id=\"_delta_b_in_interval\"><a class=\"ProveItLink\" href=\"proofs/_delta_b_in_interval/thm_proof.ipynb\">_delta_b_in_interval</a> (conjecture with conjecture-based proof):<br></strong> <a class=\"ProveItLink\" href=\"../__pv_it/theorems/7119762d22d99984fb22678c0e6336095f3218700/theorem_expr.ipynb\"><img src=\"data:image/png;base64,iVBORw0KGgoAAAANSUhEUgAAAPEAAAAzBAMAAAC0xfOFAAAAMFBMVEX///8AAAAAAAAAAAAAAAAA\n",
       "AAAAAAAAAAAAAAAAAAAAAAAAAAAAAAAAAAAAAAAAAAAv3aB7AAAAD3RSTlMAq1RmmUTNIjK7EInv\n",
       "3XZ/CtNrAAAACXBIWXMAAA7EAAAOxAGVKw4bAAAEo0lEQVRYw72YTWgTQRTHX5Im2Xw0qSiIWmlU\n",
       "EESlVUQQxSrEouJHRPAgiNGLqKARxA+oWEG8qLTgpRHFFUSwgq568mLVixYVWxXRQmwLXqzYhtZq\n",
       "yKFxZnZ3dna7HWen6B6S3Znd+c3He//3ZgD+5xXt6FCn8n07rzLSwqusVNoA7sjSfQ282un8jwOI\n",
       "rPRKkudwu6UxDzbEZdUkw1I5cCDLq13J3N9sKlsrPOOoRY7VSJGbc5zK8Av2KVFmHoYtMryXIn/h\n",
       "VVb3C5GXyNhY4Cmvdg0IkUPrJMhxjVf7Sowc/C1BHuZNlA3FIcM+CXIPd5lrBMn13hdaKfFqW1sE\n",
       "yff7vQsY18BqQZAc6fZuYFwReCZKDng3sVaeaCujouToqHfT5ilYwjGSGPvcmWPIztkRuK4ZKtnU\n",
       "5dKFiN0IfLW/rMg17e2+BoZ8HYCs2wJhcpcxGtjh4hfxtr9LoPFKJ8AG/H9AOKn4aQzH1R/vrxMm\n",
       "N2bgHJ67NmF3HjdW1NXEW/uFyejVEOp9LCVK9o8YYx9h7Op64aN+V58SJqPpCaB1D4lHKlPCbtDp\n",
       "Dh6ht40twuQkmrQ3hcIrYbLpN/Pq6QKdUMVczkFG/xsBrgqTY2UjI/JRkWCss1MVJsdRTnUMwjZz\n",
       "WT1BpS5uprdVOvBszl9SDupFTFq2XZxcjYQ7osYyYDaDrBepwQWj2ix9YIlDkfzNwjFLz0EVtFqF\n",
       "z3ptHfm9XcDXJ0hW8GV8SO6LDBlh/P0hI5VVBvIZ8GeZ1NVIcBc6yaOgFOGlbuWMR9aB+Jix3GXX\n",
       "oh/cTBqbJibHTRt96STrsx0toZVWxgfI5HZLzzY8PIQVYkBNkAXG5Nah2YZu6I0vdMaAEoRSid4E\n",
       "kawhZ1BwXupkFgbNyMBwM3doIv9D/QoJTS/FZXssr9L9+QnMg0iDnvOHLPkYdvPn6C9XMrZqH3of\n",
       "N7OTFF1AT1fQVuHWIFiNDzqUJDakoSWpIj4RnbWbryQF1c2fTYnHzazM5/MpZZqKl3c9CV9m4/4j\n",
       "VD3HaBtJiOujDT6m6pmxbzjSB4nlEPLxpnabempMMxdpLCjC8zDWRFy6YrkGzW5ZR7W66i8Jy2mI\n",
       "jZGIqgelzow9YljNRFTTwnpRfRbuktJFuRbGwuCn1YltEyJT0h4lZwK8Rn/3iDvmIP6UIdPggpsJ\n",
       "t5vk80NYmi6lcGnIZtvwkZtu27eZb1WoQ9ZOOhgvg+83Q7ZL/N28oSR4dlD3SbeO28m1HlLiuUhb\n",
       "TJvzdYOvxJBdRCeoK4M/BUEy+/Pt5EaeWATKzpI+dkaKDLnL5XNix9HvKgToiu5njIgX/JWRSVIY\n",
       "y6gMcnjc7XPS9iOm5JRspm/fZ/VMLdOv4u5utjieN7FftjFkn/fdTXCMV7vXLiUBdsjLWA1Let/R\n",
       "wQeuW9kdejGEqfP4NThpkRsljis8GLeiQYK+jRRy0CL3/NvTijPp9Faq4R/S6e6pnVZM9NlJZ6Sv\n",
       "UqERsholQ1lKjkgdiB3mVYY0oZxkr9TJ5yVeUq28ECK/kzqJS3A3Yd9EyJKnjx5OXCcj75IDs4mX\n",
       "y7WfuwnuuIdPmQ9Jkqd8sn6b2NcfpkpoN6CuFNUAAAAASUVORK5CYII=\n",
       "\" style=\"display:inline;vertical-align:middle;\" /></a><br>"
      ],
      "text/plain": [
       "<IPython.core.display.HTML object>"
      ]
     },
     "metadata": {},
     "output_type": "display_data"
    }
   ],
   "source": [
    "# This provides a more general interval for _delta_b\n",
    "# to cover both cases: _delta_b_floor & _delta_b_round\n",
    "_delta_b_in_interval = (\n",
    "    Forall(\n",
    "    b,\n",
    "    InSet(_delta_b, IntervalOC(Neg(frac(one, two)), frac(one, two))),\n",
    "    domain=Set(_b_floor, _b_round)))"
   ]
  },
  {
   "cell_type": "code",
   "execution_count": 44,
   "metadata": {},
   "outputs": [
    {
     "data": {
      "text/html": [
       "<strong id=\"_alpha_are_complex\"><a class=\"ProveItLink\" href=\"proofs/_alpha_are_complex/thm_proof.ipynb\">_alpha_are_complex</a> (conjecture with conjecture-based proof):<br></strong> <a class=\"ProveItLink\" href=\"../__pv_it/theorems/36527a47e8fcbdc1bc4babe0104999d7b4a385620/theorem_expr.ipynb\"><img src=\"data:image/png;base64,iVBORw0KGgoAAAANSUhEUgAAANoAAAAXBAMAAACfRUyCAAAAMFBMVEX///8AAAAAAAAAAAAAAAAA\n",
       "AAAAAAAAAAAAAAAAAAAAAAAAAAAAAAAAAAAAAAAAAAAv3aB7AAAAD3RSTlMAq1RmmUTNIjK7EInv\n",
       "3XZ/CtNrAAAACXBIWXMAAA7EAAAOxAGVKw4bAAAC/klEQVRIx61WXUgUURT+dEbv7N/s9tqDLAS+\n",
       "VCBU0hLIghVRD60UQSSxVBD0ICsI9osbhBRp7UOhKxRT9iJCrRFBKWZIKEW1iPW2MIsU6IPso9mD\n",
       "nfm/s23rxnhhds85997znf8ZYEtWqoYzDFu05GjVbf+b712Xcw0qENHYHR7RdlbfLs7i2a84loBD\n",
       "GnvRG5g/WXVb/JEDYnE0KripRTTjDU1sqbp9y6cAdXEIOiACUW9owcri5UJBd3q7T/OfLPoIgX4b\n",
       "PaatuaL01IpJZHpM4jzwuVD45BHtmPYzOZF2F/wli4jcNakJ4AgwUn79QOVE9PCM9EqBYzNuJPxz\n",
       "jM9Io9WDUu6ESbUC3QReplWaoVxO51xlN7lNQZvNjlJCAva1BXq+AA9khUeznYyfNaldgE8JJDig\n",
       "YjaBetLVhtOusoOYlxct26XVPPRTxvpA+yXgcIC/MVCgpRd75popuk+XVL5IDmrB1/TMI8yPo3CC\n",
       "rSFvs/XlaEHSO/WWRxuzqRGfSXTSk6QACe33inIsDVlPGOlh6wjyWRAUtsY1sRuNIvmCxtK7KPbu\n",
       "X40sDevCkH34pNZvoADupr+XVDyjnS3BiBwxDRKSkNYRcpdKIF8fb+HRGmxXH5PvhDYF/75ZvEfR\n",
       "mJ2qM0sowyLZFiPmOtFXfyKcFnMwqqc/raEFVRfaoMLaUzwauhSnssUMhOMSe57EmtEQwDmnzS+k\n",
       "ni6anVKnpaoJAwhF0ZrNZqMSlR9FMuyaMMxokzt0IJsy0Jotcwa1dtuzIk6jTqV6XjCkTx4q9jvg\n",
       "66Jm6DdL2TyW0SfB6EMKaXmVUK/1cpyGxmYsLmT3dTAtZ1jJZM88KrjGNbNCz0rkXUyEnk89/6vo\n",
       "0Mhx+PW+Y8O3j5ahOVVC49ZcfeSdkIlvMrwbIvTW6V4hpRZaYFrXPpCS5nSjNzZKnJWvf6scGoYs\n",
       "ooNGCGtSKqNd+UsynjW7e/PFnRqraZwOVRY7tV0jGlNr+Zz418dLVy1o/R7fis60rEERS/+/3j/+\n",
       "i8CvjnmMZwAAAABJRU5ErkJggg==\n",
       "\" style=\"display:inline;vertical-align:middle;\" /></a><br>"
      ],
      "text/plain": [
       "<IPython.core.display.HTML object>"
      ]
     },
     "metadata": {},
     "output_type": "display_data"
    }
   ],
   "source": [
    "_alpha_are_complex = Forall(m, InSet(_alpha_m, Complex), domain=_m_domain)"
   ]
  },
  {
   "cell_type": "code",
   "execution_count": 45,
   "metadata": {},
   "outputs": [
    {
     "data": {
      "text/html": [
       "<strong id=\"_delta_b_is_zero_or_non_int\"><a class=\"ProveItLink\" href=\"proofs/_delta_b_is_zero_or_non_int/thm_proof.ipynb\">_delta_b_is_zero_or_non_int</a> (conjecture with conjecture-based proof):<br></strong> <a class=\"ProveItLink\" href=\"../__pv_it/theorems/9d7ee87ad003bc18eba01192c396bc9b4be62b780/theorem_expr.ipynb\"><img src=\"data:image/png;base64,iVBORw0KGgoAAAANSUhEUgAAAQ8AAAAYCAMAAADTVYibAAAAP1BMVEX///8AAAAAAAAAAAAAAAAA\n",
       "AAAAAAAAAAAAAAAAAAAAAAAAAAAAAAAAAAAAAAAAAAAAAAAAAAAAAAAAAAAAAADFBd4eAAAAFHRS\n",
       "TlMAq1RmmUTNIjK7EInv3Xbp8+P3nXbhrUQAAAAJcEhZcwAADsQAAA7EAZUrDhsAAAPXSURBVFjD\n",
       "5ViHDtsgEGWZDV3+/28t03BgbKd1paq1olwC5h23DxD6s48Y6G9A/Kl3Xtji48cTQAXjVn3Kd/NP\n",
       "2VzDc11/EW53y5VzytKGnyk+3if0dXUQA2kgG9YPFxvjWRLO04dsLuFlk9QrLKOC0qfhJ8q2Q3+v\n",
       "O4zmkKLHuojbCTbXTkDLdgjSj2yu4ZugiLEiviHAcyI91CbU6+7BKKTI48drqUsWT5uirA0fWlBy\n",
       "ZHMN79pPHLWsVfygHj/RqpyiqzcfO1Ck98dMVJKN7Gl3Vk9iCT6xWcN75b58dceKhMYkwlWlFT9S\n",
       "WrTL388eHNIo5f40YvZkM5kl5C2DVLMxMrJZwm/c6yZ7SyfycLuKn6h18bHm/XAxkCKCyf4wKnXV\n",
       "R9qpaYFQ/cJNbFbwIkaAHs2tdPxUJeOOMlnmV5Fs7guPNGxeD7QegcKe8GxB5rrnyGa7yfrwdeUR\n",
       "/Gm73k9sFvC5TlA/laRuqOInKnD9QpLP+pU5PKepYcDMucwRQMUuYkKQp1wmo1Z9JELsWDedHtks\n",
       "4flQoupgp+OKn2l0DZOrETZHNcNKbX144jGg4ACZ84/dAMUqCShPoM7iJb2zZf+Q+2BvwiY2K3gZ\n",
       "88G37+FLgQYuS5zVVPEzJf5QlpW1QstRUCtHceVn+kipIHGcoJb5lOR8utmh++p7pRv4VFSH4hnG\n",
       "SnuRSu+BXyivsRTC1cempu8Ii6B1qukdDpzoA8aLjqZLETqsPM0fSOXOI+cD4mAnIdXEZgmfMq8b\n",
       "XFsWRejsGBW/UENKePkQlp4dfUqfa8pU53JwYHNzC+EBTRuOXecEdZrFk6lYZk5BRvAUbzObJXxI\n",
       "vRvkFgptGcEO4BcqbDGLokn+jfZpU/ZTAd4gOFDD2o+pHVSxQHwsiScrF/1k7NeL6zOQEbTjJ2zW\n",
       "8JwMzUdImMkBhCLqtDOo70f2DAc0lR4Ss3lxvTKFNPNwoAXMeA6VDlLjsy7HlYuMyoyv+3IbrNDk\n",
       "jM0SXuPvW2+rzapwDlYqHHKVAfgDH5SyEQndRO+duJ9qp+AyQBlNx0thT0wsIYUrP7gBcdeedAdP\n",
       "f5hwuHf8Dn/iEyIvhVDfnJVEWaZEDAtt2gBRAsnzfArPSTOXj8+Fq1RzB8/1h+fOlmhy3yfa4fGo\n",
       "L2WKp5JO4MBCH6hezsBLmrrysXvcKe8G/m59nb94T5uYP7YTQfO/5o6CXeijFir9W3cJtzdqN/B3\n",
       "J/dzqy2v60BQZfG79ETIhT6Q8JD+0p3j/Tav4fEzfP/wPgzUjSz+HM+Sv3998rc+8hBVe3OemoRE\n",
       "/+Vj6D8u4E/3OyLeSHQRdAAAAABJRU5ErkJggg==\n",
       "\" style=\"display:inline;vertical-align:middle;\" /></a><br>"
      ],
      "text/plain": [
       "<IPython.core.display.HTML object>"
      ]
     },
     "metadata": {},
     "output_type": "display_data"
    }
   ],
   "source": [
    "_delta_b_is_zero_or_non_int = (\n",
    "        Forall(\n",
    "            b,\n",
    "            Or( Equals(_delta_b, zero),\n",
    "                NotInSet(_delta_b, Integer)),\n",
    "            domain=Set(_b_floor, _b_round)\n",
    "            ))"
   ]
  },
  {
   "cell_type": "code",
   "execution_count": 46,
   "metadata": {},
   "outputs": [
    {
     "data": {
      "text/html": [
       "<strong id=\"_scaled_delta_b_is_zero_or_non_int\"><a class=\"ProveItLink\" href=\"proofs/_scaled_delta_b_is_zero_or_non_int/thm_proof.ipynb\">_scaled_delta_b_is_zero_or_non_int</a> (conjecture with conjecture-based proof):<br></strong> <a class=\"ProveItLink\" href=\"../__pv_it/theorems/3875ffe0dba065cb8bfad9a7c3b5e9fc48c1a7f30/theorem_expr.ipynb\"><img src=\"data:image/png;base64,iVBORw0KGgoAAAANSUhEUgAAAX8AAAAbCAMAAACjiH+tAAAAP1BMVEX///8AAAAAAAAAAAAAAAAA\n",
       "AAAAAAAAAAAAAAAAAAAAAAAAAAAAAAAAAAAAAAAAAAAAAAAAAAAAAAAAAAAAAADFBd4eAAAAFHRS\n",
       "TlMAq1RmmUTNIjK7EInv3Xbp8+P3nXbhrUQAAAAJcEhZcwAADsQAAA7EAZUrDhsAAAUvSURBVGje\n",
       "5VqJ0uMmDDaHuWHbrd//WWuucAiMnU22O1Mm80c/lqwPISRZzrb994Px7c8bfySoNwbZAVWmwlDH\n",
       "rRvRZ3rp2/C+CKoWoL/F/JgCCneaMbt1Jy4fKb7HPoD3TVC1wGPRd4ZigFLtyri2TItbruqeHTz3\n",
       "FrwPgeJrgYfreWtIAqgylSMtniyBMiPrdVj1SPcN9gG8BSiAaqKFqXKSzGGYtFYa0goECpUjRz5u\n",
       "fm4AlQlOKZPBxY6JnfS27ai+5tANlVo7ym+yA3hrUADVWIsos04if0cWPo1AoOj+xYxPNaASEaKf\n",
       "Pk7lu5kIo94E6lh7tPdbZTlgLzcTbgrvBiiAagyqWHWjIbE4smncCQTqtVPfyAfHDqhEoGAiY4IX\n",
       "qGGohZ7FlieU2OCjErCXYCvFFN4NUBDVEJStNszfVEn/6QUClSOVxh83v3ht9YvKhAnf6OAbdZse\n",
       "+rU6ekR06SIyWAdHJQ17tghnc3g3QEFUAJST9sdftmT2wCQ2JIBAoEjaDvZ593cWUJlA4RsdYhOU\n",
       "TCoN2R9tZ5YHjkZzYsCe3YviObw7oACqDtTOnCq2LulAUCgQKWP9MPrz9kcMUKjZZnvxlIMRPjrX\n",
       "2lcJQGX7E8Ce/d5ewluBGqBqQXEfTlTvy1L5DxCIFBWJZRZT9bowEpoO5KUElJRNfJqXwIR5T1Rd\n",
       "PCt+RW01Xjns0NV9a/Yt+aRzl/AWoEaoWi2hiOkre6zrqSIQKY7yn00wGGFFPC7gUjehB3UYQ4Bi\n",
       "NZudV4j8DMJnHBeNGn7si4Iy219D9lho1OX6AN41qCGqVgtri//XJNsGq0iUd32dyhL9qtKQlHv9\n",
       "JI76ANVOjB7YLQWUpVfpVB2vOCWzf1Rq1Mr+Khp+jy7csXvXbLoMA3jDHH+NqtEifDD/++f5p7qN\n",
       "w8m8qhNIFHav/TEiF62iN6zpE1I7MbL/tf8TdLFjIYKLo1XDj1VPIMZ/HPNvx35GgfYZZ+T/I1DX\n",
       "qBotocjsKslzLtX2sb4tApliOTydsc/5BwxHgGHzpTpO1hOP7e/NsXE+c2SRom2tRhz8Ov6nQE5i\n",
       "hK7ZY+oVcgHvEtQYVavFtik+JR7Eq55qEciUxiliuTM8OloeFXLKKZfq4rKZ2O2g/pGAehEiHGA3\n",
       "y/phpf5htlazrH82EpIVZUN2R9B+DW8Baoiq1XLm973tpJ6FZ5qJ5S2of3z3A5Uu1GnvndRpVtSX\n",
       "Tg16ayeyD0HYfaVbEdxSP+y0jeN8rdepIcv6f7O+/5CCQ8+uLLuGtwI1RNVpYbgr/s/sGrybSyw7\n",
       "gReVRTxwis47yzCwrxrSMUuXNkVdO1ECEKjb4E6/CHuEwS6WGje6VkPXDThFtcurAewUX8Nbghqh\n",
       "6rQo9HOvHXE3kpnTluYwUncCAGDILDgdw7bhkS6VLmmaIJTEoDnyTbMDyuwPW0hJ773+z7N20QDe\n",
       "c1S9FvKPlmdKYjdgAYBnVCOyexhLiTVd4j7MKF0msOSbmOTfi/7nky4+kff7n4/apQN4j1EBLUzd\n",
       "hQUBChqfD3nVJMz1T7rEQpWL24mZ/YUBlDDPVprVzGrDi1y8ZB/Ae4yq17JsIxN0A6DSPv7vA8PG\n",
       "/0og5fTC/hvCgEJv91kt/zT7AN6vglq2kYvAvfW0hWU0d5VhML6y//r97wN//n3vf39BC7otcHc9\n",
       "TV0TzQ0Tm5i8MMUaUPi9Tut3fv8A4X0T1Hu/fxAv0yo3eSvBp42B9e9/bg6qvsE++/3Pd0DVAo9F\n",
       "Q3T7/Dv6//f4F55tNQIujFnrAAAAAElFTkSuQmCC\n",
       "\" style=\"display:inline;vertical-align:middle;\" /></a><br>"
      ],
      "text/plain": [
       "<IPython.core.display.HTML object>"
      ]
     },
     "metadata": {},
     "output_type": "display_data"
    }
   ],
   "source": [
    "_scaled_delta_b_is_zero_or_non_int = (\n",
    "        Forall(\n",
    "            b,\n",
    "            Or( Equals(Mult(_two_pow_t, _delta_b), zero),\n",
    "                NotInSet(Mult(_two_pow_t, _delta_b), Integer)),\n",
    "            domain=Set(_b_floor, _b_round)\n",
    "            ))"
   ]
  },
  {
   "cell_type": "markdown",
   "metadata": {},
   "source": [
    "#### Follows from scaled_delta_in_interval:"
   ]
  },
  {
   "cell_type": "code",
   "execution_count": 47,
   "metadata": {},
   "outputs": [
    {
     "data": {
      "text/html": [
       "<strong id=\"_scaled_delta_b_not_eq_nonzeroInt\"><a class=\"ProveItLink\" href=\"proofs/_scaled_delta_b_not_eq_nonzeroInt/thm_proof.ipynb\">_scaled_delta_b_not_eq_nonzeroInt</a> (conjecture with conjecture-based proof):<br></strong> <a class=\"ProveItLink\" href=\"../__pv_it/theorems/94b4326cc9015d9b3e49b1a56a9592a5fa18a4400/theorem_expr.ipynb\"><img src=\"data:image/png;base64,iVBORw0KGgoAAAANSUhEUgAAAR0AAAAbCAMAAAB2mqvgAAAARVBMVEX///8AAAAAAAAAAAAAAAAA\n",
       "AAAAAAAAAAAAAAAAAAAAAAAAAAAAAAAAAAAAAAAAAAAAAAAAAAAAAAAAAAAAAAAAAAAAAAAeYafp\n",
       "AAAAFnRSTlMAq1RmmUTNIjK7EInv3Xbt5cnn9enzas/lfgAAAAlwSFlzAAAOxAAADsQBlSsOGwAA\n",
       "BDRJREFUWMPtWQey4yAMpXeznfsfdWk2oiXOlpn8nWV+UUDGIJ4ekoLQv9CERP8b5bOUmgm3Hmcv\n",
       "vIp9OOMQNkvlo7j1vNT33/WK7ls0I2Ypb8Qewqpb2PMv4NR/LOtoOkuVdsgOAUw4DTjpMDtHmgey\n",
       "Lm74pG9tHOkGSTImdMZM2G3aIsQxGPR4raegH9kjqFOX8Q9C/Mz2UmYGG+Lyuds9gwezmY0ddeeY\n",
       "NFy6Cn8QHgq8l3A+TOfyKZs170xYEUv/UL0aE01XVHNa8tbGUdexV8nlfzhIxDyya0yYMGyKLSGg\n",
       "e685fNOl1ZzivaHjj0HC+R+OHKEY3V1ZenAlv3JC3kNHBgV03ZGas+9tHSxmKZ3zo0CQYBJ6sPAV\n",
       "8QyESwPUZdlU2mxvfvv8MlOWmT8SiW5n0XqWkpc9CEuoSNgyvX8ClLEMi+Prt/S34QdrqCvx+Qcp\n",
       "MfulcsuRscO26Q0eDhQ7bVn8aVtFG2WbCddaPyFZ4FmK0MEPQoBISYgkz2tLlYE/TdKc73QTbMqy\n",
       "ED5XpTzWmoMwHY/rHTpgNH/K5yRHfL813qys0z1YziiFqXw8poPN0oJkTRAdBjIA2lLNbB3ORvqX\n",
       "nS7xFye7CjzG1LB6NxLf0AE3WUOTa5LomYpI4J96Gcdct3R6LMjn2KEL5DTbBZr32i1VBvUMOhdx\n",
       "n7rizCqiG/sUQXk6bvscgR7fdUDrHNnocJLINPCIoHWOdpq8hHmZKhx5ah2S1OUuhjV5c4l7wFIV\n",
       "NHrmne8/Cvtc02uMel1LatDjY3LhGTJ64LZrBN6wfQc/hoJCP4kkam2dosx0ap/iL63xzDFcBVhP\n",
       "rJlt6bc8nq2TUjCw1PnOEmNHhJztdKXDLb2L1uAUsq8CI/FVtlMFr7nWWWAEJzEedSyll5irYCvW\n",
       "cX4D+FOSB0vt2LKy9elO75dK3bYq0iJx43tdrBqXMBynykepSQqyCybrCDKsGuHsANv0HZOASaJp\n",
       "UjBrzMI6jXZOsBXPGqPcdupVOkJuD4JY68tRgqUy/Aw6iJ4rmnRDcXhlp1yljrREvnZQRontU+jI\n",
       "JOYCftkPUekxu7JOUU6e9fmLzp61ZmXk+CzdzNAajY15FnkQA085WXRQqofQsEC/jsjkP8a2DhJz\n",
       "FNXU8lBAvo8vbaZkwEwaLt2PqaD3U3S/yNHvt3NXixxd7GPYOZ9XzPuSr6vxzqojIseHpO8AammI\n",
       "ed5NQjHG3moQxUHP8hUJ4ERiNDiH3srN0s0Eti51DgHoAzvTfaBpbEI5n4u25QMB1beBXclykjEt\n",
       "WORETyuVmMzSi+2Qi/rfTd1140dXisxdbVJCeuvwW+nWwjrPSwS7uvJv1IrV79eVBdArxlhkparW\n",
       "du9VX2frkBtM2yiU/FJB4e98J6HIFbZsqkxIqtfW+Ytnv/k+625lwPwd3Ysu37sw/8fbT8ZpJIn1\n",
       "VpY8AAAAAElFTkSuQmCC\n",
       "\" style=\"display:inline;vertical-align:middle;\" /></a><br>"
      ],
      "text/plain": [
       "<IPython.core.display.HTML object>"
      ]
     },
     "metadata": {},
     "output_type": "display_data"
    }
   ],
   "source": [
    "_scaled_delta_b_not_eq_nonzeroInt = Forall(\n",
    "        (b, l), NotEquals(Mult(_two_pow_t, _delta_b), l),\n",
    "        domains=[Set(_b_floor, _b_round), Integer], conditions = [NotEquals(l, zero)])"
   ]
  },
  {
   "cell_type": "code",
   "execution_count": 48,
   "metadata": {},
   "outputs": [
    {
     "data": {
      "text/html": [
       "<strong id=\"_delta_b_not_eq_scaledNonzeroInt\"><a class=\"ProveItLink\" href=\"proofs/_delta_b_not_eq_scaledNonzeroInt/thm_proof.ipynb\">_delta_b_not_eq_scaledNonzeroInt</a> (conjecture with conjecture-based proof):<br></strong> <a class=\"ProveItLink\" href=\"../__pv_it/theorems/79da62ee40fb435190bdf7f6258f0c73120966d10/theorem_expr.ipynb\"><img src=\"data:image/png;base64,iVBORw0KGgoAAAANSUhEUgAAAQMAAAAyCAMAAABvXk5FAAAARVBMVEX///8AAAAAAAAAAAAAAAAA\n",
       "AAAAAAAAAAAAAAAAAAAAAAAAAAAAAAAAAAAAAAAAAAAAAAAAAAAAAAAAAAAAAAAAAAAAAAAeYafp\n",
       "AAAAFnRSTlMAq1RmmUTNIjK7EInv3Xbt5cnn9enzas/lfgAAAAlwSFlzAAAOxAAADsQBlSsOGwAA\n",
       "BLRJREFUaN7VW4eW2yoQFb2T5BX+/1NDk0STLFs6ieHs+uxSBnS5M8wM8rJMVwR/QooUcpm2APSM\n",
       "HG6mBQGoz8cq4woOQTMpBIjeGu0qSMCUEDDN7gzHNYIGzYiBsU8Oh3pCk4D0PRa55kiheD4MtFqe\n",
       "Mwe+EMdmg8C6e9wFoq2h05lFc3PFurMm0E1mEbjjN8d3zJfOzoUB0DdVaTBeTOYo6ZuqIMAiezPJ\n",
       "5lKFmy6NH696ZZjKT7J3t8wRaR8n1x+OmSt1ZphqcQIK7g0+wmpsEHYY4JezQlenu38cAo4PNi6u\n",
       "xpLeb8Jk8xe+2zpIVzm24Pxgv5xoQY4sfCUCE99NA14f5fZUjzl4SyzNgCr43RhAB2tanK1XsLfo\n",
       "hbIZoN8NgSdtTW9x4uaSN4y9C321CeVmSPanj0YIoDtW3ndMWxSDI75fn2ZV5b6HlBroiYDjdpp/\n",
       "/g2fF7mggwIwsH4ckFC9PjS5wm9heJi7OJaCi0dmgRPQKwen4iYNFmNWCqh4RI5Ecj1uaWqKBKUE\n",
       "rg12hML+p1Dmg85pGUrZXjPLfjEREMPIUZqZtAi7rpQYxOeDdrOIm0hugRBxQZDWLftCqhpI+79X\n",
       "Icbvi5JWjjCoBiY2Ir8eIs4wiE4+DxWa36RBxsADgPLZu4rEmDdr7Cera8pHyT7pJsSvmENWapTo\n",
       "OqfnZJvgLjgodEHGIyLYBH+628Jbivbgv/+TVQDv6IJ3DbKTsIq0qH24ZrK+psTARAKVQrwBqAgq\n",
       "2s6JxCope5CqYWcTd1QiBtT3sEYutqE+fc+667RwtgZPWaQsiZhuNbbJNk1tpiemcDviZyWEQT7G\n",
       "IHXGIpQf/hd5cMNDdLl/W/gHyobTMchB3bULfJErbjVlfXaQxWeRBJWmjxcti8SrWrfT003fEyVK\n",
       "IT5mrc2JGPEnEydh0OX+Kh9J2bQXQW0weIcGss0tO9yruBeJaNwWAYPjnfi+TrYHl+30kNpKwwsh\n",
       "HgDlpUg5wGA3Bytxki50rjB0ZODgdFoDh74ew5imMArSFhM1FMlVF5zkFrbvdq5BGMVpmS40XEaX\n",
       "YdcTyAN0aoRB6hx04ecvEXXhwCYO00heH5F4TYMYDyoPIlOGKn4Siu0iS6cxAbe2xH+k2mugD0/4\n",
       "1i22uMXWnqeKBrGwGAUGuXMZ6lk79PjdQNE5trZx6EY0yOeNzpb0JBTbRbIi/M7nQm5J/wT6VTVb\n",
       "t9CCLamEIACAVaK8zyh0wWaKF7h7H2ngdporUd34pQId1QsEbrUO9nGGTqrAS9IpEMt7Afsa2raU\n",
       "QrrYtg+NXyb6L6XWx6kTYJKXxReiT1yv4zi0zMDD9IhEtjUrBuTa4dxj8HqT0d07IeOidZP8OEN3\n",
       "eKDa/YjLZq23Tjzr2cWcZDcxJBcyPveyPNH6YVua5nAIXbto4tvchxEke/MW7KPU5c00eHSeOUa8\n",
       "JtdcN8/41l0bFseWYp5CHPl8MBqTaLY718V8/tpI8uPY43b2L6RVP11xclqtHNqIucqniV9mcCim\n",
       "167p3sX5mAgmZdA6H0TM+IYiffQGgLgZX9fl+knyGrjMWOyDt6KTvqt7753tRhPoMmuhDxGY04m/\n",
       "wPDQdzh2CH4DePYofi4rp6EAAAAASUVORK5CYII=\n",
       "\" style=\"display:inline;vertical-align:middle;\" /></a><br>"
      ],
      "text/plain": [
       "<IPython.core.display.HTML object>"
      ]
     },
     "metadata": {},
     "output_type": "display_data"
    }
   ],
   "source": [
    "_delta_b_not_eq_scaledNonzeroInt = Forall(\n",
    "        (b, l), NotEquals(_delta_b, frac(l, _two_pow_t)),\n",
    "        domains=[Set(_b_floor, _b_round), Integer],\n",
    "        conditions = [NotEquals(l, zero)])"
   ]
  },
  {
   "cell_type": "code",
   "execution_count": 49,
   "metadata": {},
   "outputs": [
    {
     "data": {
      "text/html": [
       "<strong id=\"_delta_b_floor_diff_in_interval\"><a class=\"ProveItLink\" href=\"proofs/_delta_b_floor_diff_in_interval/thm_proof.ipynb\">_delta_b_floor_diff_in_interval</a> (conjecture with conjecture-based proof):<br></strong> <a class=\"ProveItLink\" href=\"../__pv_it/theorems/0b50b41ebcf119dc609e2e26048768a6d7b0bd350/theorem_expr.ipynb\"><img src=\"data:image/png;base64,iVBORw0KGgoAAAANSUhEUgAAAaAAAAAzBAMAAAAjncEzAAAAMFBMVEX///8AAAAAAAAAAAAAAAAA\n",
       "AAAAAAAAAAAAAAAAAAAAAAAAAAAAAAAAAAAAAAAAAAAv3aB7AAAAD3RSTlMAq1RmmUTNIjK7EInv\n",
       "3XZ/CtNrAAAACXBIWXMAAA7EAAAOxAGVKw4bAAAGTUlEQVRo3s1aXWgcVRQ++5PdzezObkRB+kdS\n",
       "lTyoJRHEnyJukDW0amt86YNasi2FmhR1haAGItlKEaHRJELRlRZHhEJbaLYVCgo19sXaVknUKhKM\n",
       "2SA+NNY2No2JKWSd2XvuzNyZ2bmzU27oech3ZnN29n73nnt+7gzArS/S0aPKLTScjwjU5z3YHnEc\n",
       "uFwut7nx/ZhFwRJoJXi7F+PYhCOhDvdvvaewKFbWIK+iq1V8iizgBg+EzOOu6MFxckFRqISyBB/i\n",
       "2KWRWAOPkHTHq4pVP4HXJ1aAUF+uAtGzHLt2xJ/4K3RVseoyujVFkfI7/lTJmx3cr/ggFDyPPnde\n",
       "vMd9TfAxjl10EZVImw9CsAsvdwknlMBYcIFHfBaVugU/hDqJY+soTvAHk0u84D5EtR1+CEUwlkQa\n",
       "RBP6AYfE+6GEvsdaFB+EgjhhwSXBfGK4NQZ5ZcKg7isjJR+EpGVgUFyZgDFhLc/wsq7Vj/sgBIeA\n",
       "RWExAV3tDM9wWNLDw4IfQukci6JkkGS62BzPcC6uZ/85P4RGWlkUFuTIhCUXeIbzx3X1DI/QaM6u\n",
       "U1dICA5zB3FfkK0UbT9XzSMeNGrXQxxCt43taLXpdOepWKF0tyBC53DeSJaJw3MeCvzRmtsH7daz\n",
       "Oj6p4W5BreZ19GxSzwQ89SvpDh+EQvM67tV8YUhQGsK0MEhyS9KTgw+WfBCiv6RiRJ22eJMYQsFr\n",
       "mP3J/aVrXr40QsvTS5OTWa+EqC+oGFJ3VURUrY2FQhoLhU+8+FwK13HbTA0rBP8Y+P3k5AVBhGi4\n",
       "xui9vsWLa6eIUbS7FpeD/wzcBCDquCSOteKoQrrxgJfaMUH8LJKridA3Br4GUdNmDX3O9F3Un3td\n",
       "nYUx2/+U/nkYCTxb+XZ/LrgY6+IOTSYpJVJTUIBJA+uVeAdIjfjBgG5y7MRqCGHEiW0wCH2WZe5k\n",
       "NzOOKgKYHcjNV2nF9xq6i1+e1ETbXKkyCrGWSRYe0P49pBM6XDH/FcBkadZ/w/uqGCxpk9EM8P6q\n",
       "AxVEaYMt8PcTdJIqhMLaoK+w5bDdrLkKoTmIzcK3/BUihI7UtkImQpB9XP3zNIQ3ATOaeejPy8AQ\n",
       "qnc4/bKbNTu7nLSo7qLY8rTizeVk3y4HJ7V48jP8ASyhjepIDwP0ZDKZDhdCdjPjFvEFcwm5CJGm\n",
       "5ESyDf7yEhSSJVdCUvWgAH1qTJBmpSHbgeBpuCfEXSG72XYjbGMeulrJQ1/BeqhvDWWlrY6LtNvS\n",
       "Q+10JTTC7mS9RtcwoP5cMFtXKVtjL5nKiQnoeRjVyyerErKZRWacE2v8ShES+XBD0LFnkei5TwpD\n",
       "5qcHFBdCsuUU/LoFw8VQV6HwAexdrQ6roMqH9lC9uXCwUGi1EbJF9OAruoYlY4s+ohQkml6fsUb9\n",
       "TFdenVI697STeOGQY+nT0155nnGvSVen4waLID8fI/eZNiWXqLV7cVohu1mfsXhzTONa8clH7YVW\n",
       "L8Tno6f35D0Vp2ohPapdF006U5zizCWxXDB2dO+7+5TqhKQiHKti1mxzhJR+HBrbWrITuhPgOzVg\n",
       "AFPJViMUyEFCDexSydBNZTBFCP8JvXl2NGPlMjgQip66od0rdhYGcs5mJkK/4IiYHdxjve2YAo25\n",
       "lMK27dUIJZYgoAbPpEk3VY3mZl/6osAkVgep91TBmW6xlj3NInKX9Qvr1NSbf5FeNbp3rIFxCCza\n",
       "dJrCKRqy3W2o4VoJpcm0h8xF6fEvHb4zBdNSnmnbXRo8edamY5OvoyGR0k23qTtN3SfZDzFzZxdv\n",
       "dWw4t8YJ+egyl5A5bKDejx/124f/9s0SetPHQaPcAPse8XrQSA/MzfpKHTSGcfM8w7HbzOwRDqHw\n",
       "kF1fByyKkjrMrJ3u5WXI1JClSjxCDzjoyxYUJhdxSG2uVveBkZzTCodQsAhvWHUadUKiH6c4hjl7\n",
       "SChCUnHaII6E9gPMWHX6/EkW/sDL0yPJtzKZLbqT8h5JRi9mMuNWfeUeSdKlSbu1dVPl8r967m7g\n",
       "EJLVrjtr1Yfxg2EQLnswvRU92ncqPJdzij1LLIoUUvBppZ83+RF8EJKbWBQpSUwUlzye5DX4IbSS\n",
       "r8Z4fHmJyjbwQaguy6JYoX3OTk91YLcjoY3uLwC+o7AoWGp5AfCw45B4LwB2m/F/vhwMu1KRrj0A\n",
       "AAAASUVORK5CYII=\n",
       "\" style=\"display:inline;vertical-align:middle;\" /></a><br>"
      ],
      "text/plain": [
       "<IPython.core.display.HTML object>"
      ]
     },
     "metadata": {},
     "output_type": "display_data"
    }
   ],
   "source": [
    "from proveit.physics.quantum.QPE import _delta_b_floor\n",
    "_delta_b_floor_diff_in_interval = Forall(\n",
    "        l,\n",
    "        InSet(subtract(_delta_b_floor, frac(l, _two_pow_t)),\n",
    "              IntervalCO(Neg(frac(one, two)), frac(one, two))),\n",
    "        domain=_full_domain)"
   ]
  },
  {
   "cell_type": "code",
   "execution_count": 50,
   "metadata": {},
   "outputs": [
    {
     "data": {
      "text/html": [
       "<strong id=\"_non_int_delta_b_diff\"><a class=\"ProveItLink\" href=\"proofs/_non_int_delta_b_diff/thm_proof.ipynb\">_non_int_delta_b_diff</a> (conjecture with conjecture-based proof):<br></strong> <a class=\"ProveItLink\" href=\"../__pv_it/theorems/2728c0b5175ee019897a735be401add4189d4a000/theorem_expr.ipynb\"><img src=\"data:image/png;base64,iVBORw0KGgoAAAANSUhEUgAAAcsAAAAyCAMAAAAENgAQAAAASFBMVEX///8AAAAAAAAAAAAAAAAA\n",
       "AAAAAAAAAAAAAAAAAAAAAAAAAAAAAAAAAAAAAAAAAAAAAAAAAAAAAAAAAAAAAAAAAAAAAAAAAACC\n",
       "gUnDAAAAF3RSTlMAq1RmmUTNIjK7EInv3Xbt5cnp8+P3nRjLMsUAAAAJcEhZcwAADsQAAA7EAZUr\n",
       "DhsAAAakSURBVHja7RyJkqwoTLnvPd/y/3+6gheXKNivX20tqZmpCnbS0dwBZ5oGdABndbwHBBdf\n",
       "oxpwwAzreB8wLb5GNWBXnazjj0FqGzo00D1M+qgGeICkjrewsrFu5y6LmIdOOoEqWsVbACVmoLuC\n",
       "tYZDK32gTR1/wwuonuTXRzVggqqON7m4Tetfgnr49FENULKOv0iXC2DbE7D7qP73YKyo4m0FMc9d\n",
       "rKuQIaP86clwcx1v8/E81YIu2wB2ZMz2zjzJcMyyN8zy0ChsTynVR/V/HxOoOt4Wr0vEvKv152Ng\n",
       "0B4V5zrepoB5EoV6qKeOgaP6aY+KsIq3wUIsC+Gyh6WwY17QXMXSKt6oSyzMvevvvWhbwBhwGxVV\n",
       "DaeIKN6gXIjk89RHjnAMiLKKcK25ghHVqU4wvPQ+XfIavmgGz6+bA2mL0f1UlOGzK56J/wmpED4U\n",
       "P7LnfVZCNXz+SJMHLS6snnqakP9SsyRbEFMd+qZ86Oq+9DE13Mw/40u2mURgMs7pBHc/CdUeh0Ml\n",
       "DygDsKCGCwt+gvO7oKr//EsfAdUrDLFpZikV3NIkGap6EP5YFecfGaXZ2L0xMSLW25o+GcqplHbw\n",
       "Ztw/WpLVS2dgP5GoYibUBU6RehoXU3Joy1Mhtl0ccF9iimvcHRWZP+GYKlKcL0lhumctsyVPRef9\n",
       "z0VgkffNCpOofhM1JjTND/SNYV1xy0S83L+9/nKUqCrEqfNRsARdRl46p44aTBI3l8ciKVK5e5W+\n",
       "5C2JwdZ2OLuULIQHiMRsy0ziRybl7Kv41MIYKB0TFPUjUg+4JWec+IXA66OQ0uRZJ72vEPd7kX7b\n",
       "JDyWJ4g+4ch5NoNIKyp6cgvh3z+WP4G8BmxSipQKmEPLhxjMzJzjdcqQXDqEjxYAyZGcSeoXaDEm\n",
       "o1Fa/gW6RIdAproV8IBbIgQvS79GKGcRmLfo0g9EmVtQLw8+R7r0jUfSYyxrWwc505SKHMa8i4EQ\n",
       "S28zkzBeiB7UOpsqMImSNd4OvOQ6CnR5Ps/6OdAH3Cq6DIZp6+PxN5cNWysxVviS1sWOpdMzr6YG\n",
       "cYzVU3ZPS1G7SilsRiXBFo93MQzMfSyVMFmIHpTGU5FJnELF+vTXGo2iFXCnLh9wq+hSH1MVLNfk\n",
       "52gUyGofeol7XRLgIoOYzJvDVHHtY8yEY25LM7KtzDqjovuQfRMjGihsaeqQcE8jichYh33rHhwS\n",
       "JnlhuFABNMH3fvmAG9aX+dIJjLiD35ZfuBiqo8nOnZqknwxxaVxX4vjCtuPP2ew02fIgIGkul/rG\n",
       "+x7lgOdU+4c3MTAMSxwWXpoEMiJaOL7SiMgLS0yyuso9ZopgfDfMqDNBNOjyllsgYqzL02O3YLLq\n",
       "MjuOU50VSLOauQvP6Pk0T2Sj9HToO//AodxYcaIWi1NWcXlJtYsBiTdRDtx8YYuju4THbkoqMiAm\n",
       "yj4lJozvQB/0Ht5RnNQcPtHlfScTiBjr8kiXezBZY2w2kgPJ2BuUxuC2FJ3zzgmR9eWwLP0Im1SZ\n",
       "8B/JlzqW3JiELIrBZD4w3i7Rw7a3BYggkD5Oh9lHTEUmeSdI7zZnHvvlPTeqrmKsF9iZzu9/bKZT\n",
       "rn0eHStYogO86zB9GSoXS6BSE5keB0vCAXlSSGVUuxihhW92s18ivpc7F8DiYuz8mL9kJ1NmktwP\n",
       "YwyJPl367xGyidt17bMKHG4SGteT5AaYBjJbqHEYMreH4rZiWW3lUuLsINf7LaRUhxg0eDd0r2O3\n",
       "S8T3ryBeCD7mLiGDy0zigJ41yTVdUkmsNEELTbc/z7ld63IVODI/KU3BMtJApzt3JJSP4bNz/Gzq\n",
       "lw59n21gXZ9WEdLFmkKbv03IQDYyOz4G7pm0wAd3VSs9yfaBe3/60JHKtZmYl9IJq9uBxDOO9sGH\n",
       "4koeeFUFdRUA8YPC4p5JC6Av6vLe4GDiRfDVLF1bX0mIOF+qLvN9RhUUf8JIL3ue8dke9uEtk18F\n",
       "LMlM2c0D/KDCAFW8TSBXriAzycgeaNcR9KdU7JT3areDsgYmvwYyEbuON33yrLN/FYUhmPas46zz\n",
       "dwCpOt7CildSaV8CHtACOJkOYIs7OcELj+57y2e8G9QTGFEdf1yI+QELva2unobYcSzk/VPrfIrr\n",
       "VMyIchLtS70DmqufT7zjTrXfktOFGD7ecf+POaZeT4bkDS3vcjA+3LIPiKzj70or8TWqAfEUuIS/\n",
       "qqzA96gGuIqF1/F+GP9D7evwsf9tmMZK8j2qAXuKBHW8M3gT8TWqAWfh+DP+F3CXUgKqfwGKEUBi\n",
       "QDAgmQAAAABJRU5ErkJggg==\n",
       "\" style=\"display:inline;vertical-align:middle;\" /></a><br>"
      ],
      "text/plain": [
       "<IPython.core.display.HTML object>"
      ]
     },
     "metadata": {},
     "output_type": "display_data"
    }
   ],
   "source": [
    "_non_int_delta_b_diff = Forall(\n",
    "        (b, l),\n",
    "        NotInSet(subtract(_delta_b, frac(l, _two_pow_t)),\n",
    "                Integer), \n",
    "        domains=[Set(_b_floor, _b_round), _full_domain],\n",
    "        conditions = [NotEquals(l, zero)])"
   ]
  },
  {
   "cell_type": "code",
   "execution_count": 51,
   "metadata": {},
   "outputs": [
    {
     "data": {
      "text/html": [
       "<strong id=\"_scaled_abs_delta_b_floor_diff_interval\"><a class=\"ProveItLink\" href=\"proofs/_scaled_abs_delta_b_floor_diff_interval/thm_proof.ipynb\">_scaled_abs_delta_b_floor_diff_interval</a> (conjecture with conjecture-based proof):<br></strong> <a class=\"ProveItLink\" href=\"../__pv_it/theorems/61ad1d5541ccb1a1c83bc906a637218e0e19f3970/theorem_expr.ipynb\"><img src=\"data:image/png;base64,iVBORw0KGgoAAAANSUhEUgAAAd8AAAAzCAMAAADhL/InAAAAQlBMVEX///8AAAAAAAAAAAAAAAAA\n",
       "AAAAAAAAAAAAAAAAAAAAAAAAAAAAAAAAAAAAAAAAAAAAAAAAAAAAAAAAAAAAAAAAAACGKEuzAAAA\n",
       "FXRSTlMAq1RmmUTNIjK7EInv3Xbt5cn586+v8jGdAAAACXBIWXMAAA7EAAAOxAGVKw4bAAAHnUlE\n",
       "QVR42u1ciZKjNhBFQuiWkmzC//9qkACjmwYbdspsV+1sacbuBj313dB1f6hF5Mcy+0MlEry1zEl/\n",
       "UrhjJoW8/CbvkPEzCfWt5R34dtxcv/l3yPiR8KrW8vP4KjPyjBk219/oHTJ+HvW0tbxCf/uxwEyh\n",
       "62/1Dhk/jZhmjeUl+BJaYmb662/2Dhk/jIxtLS/BN5axMsP6evd4h4wfZp11a3kJvixyvxszeihT\n",
       "Ihj4uXEieU7GF5BWreUl+Mbud2M2jOwAvA1XqvQ40wrmprWHZHwB2VE2ltfgi0SFGYWHP60oUKkB\n",
       "K95b/jITgVWmzwqxDGotr8FX2wozPEK9I2/4UT4Zbss6GziB4NNwGd9APHaFyfIafHliIjdmcrRA\n",
       "HnTHjUwWAskivnAZX1Ha0K1llX695RJ0lZkAFiD2lJBPZihkFWq7eFKRQ6PWskr/viNToE5WmPXA\n",
       "6MfsqC+Z0tyxgm//oAiLj31jeZF9noSoCjMJuwC+o77S/X0cyvjK8Tk1DhufZQs92u/hO0hbYwYz\n",
       "IEkAnt+WM8GjKuMLNlJfQEK3lvv4MkK1OGrueqKqhwXmHPc0ULjSB6rh62RsEONv1mYtWst9fKct\n",
       "HNC7+UaIrxqPBeBKWQKpl8tEBnkZb/rF3liOpLEEQII+kUuG+Pah16wagNchoJOiSsOO4etk8FWB\n",
       "mfhi9eVxLsjBqeEKiUUfxhd0CWitXfXemitxDF8vgy6/UfiL8cUjbiwBkMgRfxbf3IRYYSaixSxO\n",
       "IEgynOLrZfSL26VfDO9kqXhjCYFEfKDaFwV1Y2wRBmpzAa/IeD4MfP+QxdVML0O7Y2Ng7ZSvTI+y\n",
       "JkwOCUZ4FB/GN+LHqGyEz3LFtz+Ir5NB/Fn+7pE7FWtftMybMBkkroeD3lfgCF8dGcxicMtWfWWz\n",
       "IgN8doyvl8HQ+qNo2VT9zLD0wLM3TkmVGVck4loPfevCSQxOuCw0YVJImFN3PNl0TsXH8DVRAkzL\n",
       "UWGKrzqG7yzD7aPy0bpEaVbGC4UAqRTy+UKfHCeOS3OZsjnHBmEWD4sFWxxf73wPU6KY70JyX+lt\n",
       "xk0YOW4X/N+riuQ7TtnEpaRmo9cRGTPamL32Poqm9cojPEDDmkPJGdgh0d9cQoqvl4Ht6/zg+X9u\n",
       "kRBD8IsuVSBiXHEsmxwJ8F3VjFvbKtVAmMUXEe5A+JfZBLljMohj+KZNGENilfNuj7vvaP45/Y2i\n",
       "adHU3yW+wkfjq0UGfSnPXFAjhHfFrV2EDctkUY5bgO92xc1hXAizOr5hARB5F+YRyKrLDfvc5U2Y\n",
       "BBLpo21nhSYHaN+odDTss2njK8Qc9ssz9nlKfdfozTiltX1ZQV4uWc6QSDr7zZmGc/hCmNXxNVsR\n",
       "aFCzp3Jf0jiLr1h9mTVhUkg8vq6CZKdLsk6VrHob3zi+srYYX61IzMOAftpWHo2v3CQwWu80tRU1\n",
       "36kmzDDp+rf1F8JsMDX/67WOCEd/Tf/6paGWDf/aOOGNl1kTJoVEWZchOdH9vCOSWLgWb6GxLtYu\n",
       "tgJkFpts/ta4+qSzTWFwsI/vIgPxQFGGYHM4LTsc/4ALI31sB7nVWxUMju8+syj3F0XrshidGV9t\n",
       "j9Q3siZMpnLKzgrrNtiNMx5pxcixkv/GeYBEYsjOjH59RhJlZ5RM89miJP9Ncg3vznrq9cHdNUeL\n",
       "t+FiJQbIg7xCaeEVah9fQFKFqS3iu7nf1ejM9jmLQ3BsfjGkuJ9D4p30ZPsZ3VXfydHQ+eHE4AzG\n",
       "9cn0QA1KpPXJYjqGZVFOsT6ZyDDuCPHwl8W6uktV2V4vA6q/AGZMV+yzv15/nP7+ZzlO5fjq7PhG\n",
       "gu+kOr2A1HJ9s0ZNp4gpQxUvMAP1F0ipTa1Kcor4ZjLGzialrFJ8xQTnnMhz+Eq1/oAzq8ZX8/Uu\n",
       "Gc4WqAz5oUws1eH+4CKGzHHQLr5LLK9jx6ojEwJoWJQC5mgkJJBTwDeTQewwb3kTXx3k0/v4MkVH\n",
       "ZYNMni0/4Myq+M7XGx9J1wjPdyW2e+kSim+t1FbYIunT7Ok2A4h0vSJe8935IbAVOQV8azKkcsau\n",
       "Wt+A0QfbyfX8aP3Arq07OR5bxhfvqh4ycxmFd4MuM0MjaBMJVE4JX4CM4fQMLbkRX3rU0vXQZkGp\n",
       "PGsV8Mtm9AGMLPlf2IQQ7CE4M5btM0QG/f1D8DzODfOLxvvRcNI65dB2fWm+XQGDMx/eENu9jsOv\n",
       "sHQB2lcJCfTDMCrEFyaD/+65Dpak4OfGxH7DfLt/xImTnheYQWfPFQXKKeD7pPn2NNUgQAf8xvwz\n",
       "EQ1mCOr39jsakZwQX/Sk51OG2NINwArHeXx71GIGHvDbfUlILCfE91HPl4VNv8Ly4/hil+Kz2vOD\n",
       "PXwYhPZH5AT49o96PvRkBH0W37kImJQxddFl7oVYzannVE6Ar3nYK3TufD8DM77NaSrMDr07oTx6\n",
       "V5ATv3/jae9nOKfAJ/E188wMrTATh1SL8YNyTsj4BkoehafqOnzbzIYbPOMwPu4VhTx+oRm/4f1m\n",
       "ZWbmhpKCwd3jyIrW8jZ8/7yf8Cq6+/2iRWbDDU8CDbR7JCVTThTfjy+nN7wfmD71BdBH3+/NP7rt\n",
       "Lp29YesDGf8DBuZK65/2puQAAAAASUVORK5CYII=\n",
       "\" style=\"display:inline;vertical-align:middle;\" /></a><br>"
      ],
      "text/plain": [
       "<IPython.core.display.HTML object>"
      ]
     },
     "metadata": {},
     "output_type": "display_data"
    }
   ],
   "source": [
    "_scaled_abs_delta_b_floor_diff_interval = Forall(\n",
    "        l,\n",
    "        InSet(Mult(pi, Abs(subtract(_delta_b_floor, frac(l, _two_pow_t)))),\n",
    "              IntervalOC(zero, Div(pi, two))),\n",
    "        domain=_full_domain,\n",
    "        conditions = [NotEquals(l, zero)])"
   ]
  },
  {
   "cell_type": "code",
   "execution_count": 52,
   "metadata": {},
   "outputs": [
    {
     "data": {
      "text/html": [
       "<strong id=\"_pfail_in_real\"><a class=\"ProveItLink\" href=\"proofs/_pfail_in_real/thm_proof.ipynb\">_pfail_in_real</a> (conjecture with conjecture-based proof):<br></strong> <a class=\"ProveItLink\" href=\"../__pv_it/theorems/802775b22ba64573e9fee34e8a3039f930d115430/theorem_expr.ipynb\"><img src=\"data:image/png;base64,iVBORw0KGgoAAAANSUhEUgAAARYAAAAYBAMAAADNHs+4AAAAMFBMVEX///8AAAAAAAAAAAAAAAAA\n",
       "AAAAAAAAAAAAAAAAAAAAAAAAAAAAAAAAAAAAAAAAAAAv3aB7AAAAD3RSTlMAq1RmmUTNIjK7EInv\n",
       "3XZ/CtNrAAAACXBIWXMAAA7EAAAOxAGVKw4bAAADuUlEQVRIx7WWW0gUURjHP13duZi7Gz1lDy0U\n",
       "PXShhRUjIVnSyIpkn3oxYbGHLkRtIKQouYZUkOmiqKyUjiSB+NCqFEQovphQRFIEEq1t5UuWl8oC\n",
       "FbRzncvOGBrTgZnZ858zc377ff/znQGwrwngSkTM8swEvYbZoLUetrV9gqyglf6InF1ecslMGm86\n",
       "LsZ+v2+hugcLO+xASY8TFlfX4ua242aWPaz3OeUxSfBkbukg+hHcP2sHywOgcXGHAO4qqSxyiPWc\n",
       "SipLHKJ1RK/DuYrawVLIWJpQtPcnU1kyfDwpATPLUSfRMWaW1w6WEcYyh/w7F09l2aR2n9PLl0Qi\n",
       "pLJIRHcgXqctdgkxli58RFJZdqndM+R8aloXl5xuqr9MJF7YwZIRZyyLAOKKybsnsGeGp1AW+skS\n",
       "vqDLkdiMDYv0YoCO9RQPnuYqxXqA00dZEIcw5DWx4GiURUQEnEdGhzWWZx8m8TuRfgUEj2HBD1pO\n",
       "5WBuFPcZWG6rqzfbS1lc358OBqG0BGuHoHeesbxGf+cnuNCAvYRF593BfGIcpEuKsUI1oON+yMDR\n",
       "158DM4f5nIpephEn5gxSFmke95Yq8bkRBM4yiu6szOKfTWSWBGpRlqMOP1A9PakyNm5tJSYTZ8cN\n",
       "LAE4CdlgYsGy5knOgssLyCNMlXUsbhr/0/jUq1/T9ZLC9FABd18xN3y6keUX1EZQJasoKioK6liw\n",
       "rLHwHDXh5Vy/7KvODcpdGgvKkZumeR8ZrWfJuBll+gC2dF+Bj1VnC5Z8NOlOhyku+QYWKUlZ5oI0\n",
       "HNtgDGo1lk70JKJEwAfJ7pTUschRPDXWa1Do5AnwyLT65plZAIag4gDz7rcBvQxl/HeWh7JcZqm5\n",
       "Ci3wUGNBvnKEoCdMVzdAucYSAL8UpHoaqktpnmpfJqnS4jkLFvGd5drCspPXLHGcsBxb7aQsruFJ\n",
       "PcsddHz142i8JcO7WxW+Ty+GpbYfXEfGK9wNjvOxWDPU5ViwpNQUMYZaO5XTL3F1ArRvBoTwBjoV\n",
       "HUs2r8QCe3fpvYRhtXId3Ch2It1DPppZhIAQtix/SK5Ru7kGFnkJJpM6FnVLVDfJ1LrNdckLcVZ+\n",
       "Ne/KceijYblVb1VsiaztM1JYY+leCE/5b0xvD/Qs8O+Xdv7UGoVd1eWSAgWqIoxFeLyMEyuOQQOJ\n",
       "x6vVVauniayxIO//7buOV5T2NViMuvwk1qp/+bqabvg1yLL83h2lGaWr2BW2fo+lXvbPLPY3Z3Ij\n",
       "o8Xy/8kC1zcyuNLGif8AycgcJR6IOOgAAAAASUVORK5CYII=\n",
       "\" style=\"display:inline;vertical-align:middle;\" /></a><br>"
      ],
      "text/plain": [
       "<IPython.core.display.HTML object>"
      ]
     },
     "metadata": {},
     "output_type": "display_data"
    }
   ],
   "source": [
    "_pfail_in_real = Forall(e, InSet(Pfail(e), Real), domain=_e_domain)"
   ]
  },
  {
   "cell_type": "markdown",
   "metadata": {},
   "source": [
    "#### *Modulo addition may be converted to regular addition within $2 \\pi i$ exponentiation:*"
   ]
  },
  {
   "cell_type": "code",
   "execution_count": 53,
   "metadata": {},
   "outputs": [
    {
     "data": {
      "text/html": [
       "<strong id=\"_phase_from_best_with_delta_b\"><a class=\"ProveItLink\" href=\"proofs/_phase_from_best_with_delta_b/thm_proof.ipynb\">_phase_from_best_with_delta_b</a> (conjecture with conjecture-based proof):<br></strong> <a class=\"ProveItLink\" href=\"../__pv_it/theorems/63cd2e9348e2b2664a0817e737c9c2dcee0a42810/theorem_expr.ipynb\"><img src=\"data:image/png;base64,iVBORw0KGgoAAAANSUhEUgAAANcAAAAyBAMAAAA92lO3AAAAMFBMVEX///8AAAAAAAAAAAAAAAAA\n",
       "AAAAAAAAAAAAAAAAAAAAAAAAAAAAAAAAAAAAAAAAAAAv3aB7AAAAD3RSTlMAq1RmmUTNIjK7EInv\n",
       "3XZ/CtNrAAAACXBIWXMAAA7EAAAOxAGVKw4bAAAEdElEQVRYw61YTWgTQRR+m90km2z+1JOo2CKI\n",
       "B6UVVBDUBlqLiLQRQbw1LYJ/oPEHFCw0euhFpfUiplaMF/EH2igepKBtEay1CK1/B7USjypqbdXG\n",
       "CK2zOzMbs9m8WakDZWhm531v3vvem/cGQDAuImu+pGi3v4vON9LgYEjVyOIC8f5zFEV97QRsEaZI\n",
       "xlC+exT5xsUWVznAkuPI4jo6eaKYhNt00iJisNZE+TXvEJ3DFZiEIPPDczHYO0xMls5NqPNdT+i8\n",
       "UkgReQBZ3MDm+7iM3U6MrY9ABlkcYXPzl/mYjCbqCfe0COwrcvZQnoXSz3Qv4lnwMGo0i8DGMJcx\n",
       "Ia48BLKY05hSVQKnqTlksYOlDyUOYcza/hk692YF6QPjx2J+wgw0oeS/zHLbqIAfWCQOghlmjaiF\n",
       "aqhHZQFDOpDEqE5xsKT/ISqll0rxTwnIiLAsNG2mal/UkX0GcbBu7Hrh/vQvqrXLZfXDXFPuLOI7\n",
       "A3aZvcBhTN9OVE8NtnNHahN07gfYrM977En7HfMEbjupwBn5ByNKDE7pZ7bXUp3ByGMbNm5OqVCk\n",
       "RAzZ4SEqaPZx4ppEwKps97i4Cv7JEgMRW8hEF0+ZnI8lkJokCgZXCnb8xmKEHPbp+PgIym41Ce5D\n",
       "Xc7CwgSrrCq45hcDI79sAegqwyiaQhWA9rV6LaKMG4N6oz+NgclxKW/++Ijxl5QYh8EbAXUfZ9Hw\n",
       "3UucZwr9foUeHz6r2EYUrC3hypkyx1kSJfHmS2sxWkWp71OxYELr4WIkGiAZkNP68YrHUjrN8kFP\n",
       "/vYpPflC/cbgldlbBjagK6Pz4zH5qyM+l+H0USgGy0IIoKcMWJmTTYE6Yci0gEF8kx4L79MhGiNR\n",
       "M1qZGaOwC2Cr1WeoGf054jVdptWMcGc/Id7rUPQGde0Rk9MaZWMtgbtaQvR+lI058FToMq0EgVai\n",
       "qq9aju8wfurRCtSnceY5uHfNy9Ib4W94T8IC9gAqDZl/p3sj+0tkWyCpRNalUqkKyPTBTUtQb5x9\n",
       "IwjqXuvJtC8ZQ6bxD8sgYe6fMAQqzhjJbUU19PGdLIMqdndoVYzOx+pJn7O8NINQmYYDfzONeKUS\n",
       "TK8nMaCrpIB71HIZB5Llb3GSw/tjJ1/dsyZiJtOSiJnchix49VZs9bxPF8yEzc7fYUcFZhQpAYEB\n",
       "aLG9NBqyRfm8OHXfSqViRZ+/otNn27KROj+QB2ka8tjVxgsIrMgoVGsnkDJPGgUp5x5A79EJLA0U\n",
       "GIeUaLJ5muBEKHLdQQExLCjlkOJTnSzc2Uq2D5HSRl3nnfkPRSppCNTa5NyLVAXzxTb+UaegO1kC\n",
       "3LvocP/A+i7G3NWiVoiZLyxoLOAF1jLRQHNl4DjevebFbHNKR5LkPqIyeB83Nvc21/uirg53huM2\n",
       "V86Ljh0kFUEclXGeVfzih5ADWLOccfJE5M47ecAwxlkkn6lDTsCCLDE8E38awoLogxOwf3hOcvBQ\n",
       "JrAic+hOJ4p5sN68Rby/nT0B7ncCNtfHTQZyzcD8AxUvOqQUCoELAAAAAElFTkSuQmCC\n",
       "\" style=\"display:inline;vertical-align:middle;\" /></a><br>"
      ],
      "text/plain": [
       "<IPython.core.display.HTML object>"
      ]
     },
     "metadata": {},
     "output_type": "display_data"
    }
   ],
   "source": [
    "_phase_from_best_with_delta_b = Forall(\n",
    "    b,\n",
    "    Equals(_phase, Add(frac(b, _two_pow_t), _delta_b)),\n",
    "    domain=Integer)"
   ]
  },
  {
   "cell_type": "code",
   "execution_count": 54,
   "metadata": {},
   "outputs": [
    {
     "data": {
      "text/html": [
       "<strong id=\"_modabs_in_full_domain_simp\"><a class=\"ProveItLink\" href=\"proofs/_modabs_in_full_domain_simp/thm_proof.ipynb\">_modabs_in_full_domain_simp</a> (conjecture with conjecture-based proof):<br></strong> <a class=\"ProveItLink\" href=\"../__pv_it/theorems/4e60ddab0f5da45bc9c316d8a0584d5c28887fa00/theorem_expr.ipynb\"><img src=\"data:image/png;base64,iVBORw0KGgoAAAANSUhEUgAAATUAAAAYBAMAAABpdHdrAAAAMFBMVEX///8AAAAAAAAAAAAAAAAA\n",
       "AAAAAAAAAAAAAAAAAAAAAAAAAAAAAAAAAAAAAAAAAAAv3aB7AAAAD3RSTlMAq1RmmUTNIjK7EInv\n",
       "3XZ/CtNrAAAACXBIWXMAAA7EAAAOxAGVKw4bAAADY0lEQVRIx7WXXWjTUBTHT5sun13s8M2XFZQ+\n",
       "VxgKKltx3dTJoOCboJSBKD6MDgY6qK4Okcn8qA+CGQqBwUCG0gn6oAh982GIFRRksNk5dCLbKMhg\n",
       "uId67k3SJE1aG2ZuILnJ/Sfn13PPOfcWwM/G4aFdW3+DtgwePrdvIKXIVTu30nTlSziP5wjp7vcH\n",
       "LVggtqSvOU9sqEc2OQ7QR55c9IdtVvNDj0e/9RC/wWWAG2SS8/6w9Wq2+j2y9VO2LgBWxQdRf9iK\n",
       "mq1lj2zLlC2sAoPzyvoUbmlqi9v2xoZ6wsYi2PulpQV/2EIFaoupeGNDPWGTMEtPAkw3lI4aZWe6\n",
       "6RfdZeSXo61A/l9sg0ukfdTZUE/YGPT6CHARi+5o3PpWt36dWGz6catsasB42h6ltsJlb35DPWEL\n",
       "YrQKKt6LnfoYXzRU4psOVf5kZInJNpO2fcwpmzeGwilq637GGxvqCRuPUxssk1SI4c2KkqLxq0cL\n",
       "hEpQAitbiMBvluxB5ZDF6tjWG68LXMKFbZ2uC9BGvJQmM3IaIJnTc0tre1LctpgGLplM9ulsAs0+\n",
       "O5tTFqub0weig20dR+bm9wFTdok31NM5JXZeYAWGz3SRsLIxKrcdTMStfnNjc8pqbEKZ2votOdhY\n",
       "ZEvAIGwcd/Eb6mkukAUhi6kgVuCpZsoSTVKJ69W3A/cWog3YnLJztYEItbX13MEmoGwLxnPtbvGG\n",
       "esJGKhAEctRdZ+jYrZypu6vWvejOVi9jfxl5VaK2usiKLz6ZWJk5mAK5+zXIqz+Q7QiyzbqxoZ6w\n",
       "tafMMnlIUZQo34GGbmNPyThq2inlsaLEHWyO0hccNnpfwNwjjUfZPL76EJ5hbIdpXr+FA0zDPRJc\n",
       "q4XtWZiiHTliKahXWvGbQ5at9bqsbKpQ4ItYGIS1PzTegF+E0cON2Xpr2SZjnbPnAvdocqAJ2xyI\n",
       "BXdZzNRnLGwQKPNFpgiBvorGNqY221uae6PQdzRiZwtXqxUXNu7VDk38Oxn+nbvMZBPz9WzoN1b3\n",
       "G5fgMk3YBNvgnGKrvS5NaKm0m2xwHWSaW3gex5KCi84QZNW9kEW2scmbLo7T9PAT1pxjbaVmGwuv\n",
       "bJalrTNx7MLIDkibJ0Ba3bgE8KFa9bqxGd7tzogf8u2vEb/bPfDV/4byF+FgAvwK4q5IAAAAAElF\n",
       "TkSuQmCC\n",
       "\" style=\"display:inline;vertical-align:middle;\" /></a><br>"
      ],
      "text/plain": [
       "<IPython.core.display.HTML object>"
      ]
     },
     "metadata": {},
     "output_type": "display_data"
    }
   ],
   "source": [
    "_modabs_in_full_domain_simp = Forall(l, Equals(ModAbs(l, _two_pow_t), Abs(l)),\n",
    "                                     domain=_full_domain)"
   ]
  },
  {
   "cell_type": "code",
   "execution_count": 55,
   "metadata": {},
   "outputs": [
    {
     "name": "stdout",
     "output_type": "stream",
     "text": [
      "Unable to remove /gpfs/wwitzel/ProveItMasterFull/Prove-It/packages/proveit/physics/quantum/QPE/__pv_it/theorems/name_to_hash.txt~.\n",
      "  Skipping clean step (don't worry, it's not critical)\n",
      "These theorems may now be imported from the theory package: proveit.physics.quantum.QPE\n"
     ]
    }
   ],
   "source": [
    "%end theorems"
   ]
  },
  {
   "cell_type": "code",
   "execution_count": null,
   "metadata": {},
   "outputs": [],
   "source": []
  }
 ],
 "metadata": {
  "kernelspec": {
   "display_name": "Python 3",
   "language": "python",
   "name": "python3"
  },
  "language_info": {
   "codemirror_mode": {
    "name": "ipython",
    "version": 3
   },
   "file_extension": ".py",
   "mimetype": "text/x-python",
   "name": "python",
   "nbconvert_exporter": "python",
   "pygments_lexer": "ipython3",
   "version": "3.7.3"
  }
 },
 "nbformat": 4,
 "nbformat_minor": 1
}
