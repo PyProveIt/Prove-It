{
 "cells": [
  {
   "cell_type": "markdown",
   "metadata": {},
   "source": [
    "Theory of <a class=\"ProveItLink\" href=\"../../../../_theory_nbs_/theory.ipynb\">proveit</a>.<a class=\"ProveItLink\" href=\"../../../_theory_nbs_/theory.ipynb\">physics</a>.<a class=\"ProveItLink\" href=\"../../_theory_nbs_/theory.ipynb\">quantum</a>.QPE\n",
    "========\n",
    "\n",
    "In this package, we prove outcome bounds for the Quantum Phase Estimation algorithm.  Our proof is based on the proof in pp. 221--225 of Michael A. Nielsen and Isaac L. Chuang, \"Quantum Computation and Quantum Information\", (10th Anniversary Edition). Cambridge University Press, New York, NY, 2010."
   ]
  },
  {
   "cell_type": "code",
   "execution_count": 1,
   "metadata": {},
   "outputs": [
    {
     "data": {
      "text/html": [
       "<h3>Local content of this theory</h3>"
      ],
      "text/plain": [
       "<IPython.core.display.HTML object>"
      ]
     },
     "metadata": {},
     "output_type": "display_data"
    },
    {
     "data": {
      "text/html": [
       "<table><tr>\n",
       "<th><a class=\"ProveItLink\" href=\"common.ipynb\">common expressions</a></th>\n",
       "<th><a class=\"ProveItLink\" href=\"axioms.ipynb\">axioms</a></th>\n",
       "<th><a class=\"ProveItLink\" href=\"theorems.ipynb\">theorems</a></th>\n",
       "<th><a class=\"ProveItLink\" href=\"demonstrations.ipynb\">demonstrations</a></th>\n",
       "</tr></table>\n",
       "<h3>Sub-theories</h3>\n"
      ],
      "text/plain": [
       "<IPython.core.display.HTML object>"
      ]
     },
     "metadata": {},
     "output_type": "display_data"
    },
    {
     "data": {
      "text/html": [
       "<h3>All axioms contained within this theory</h3>"
      ],
      "text/plain": [
       "<IPython.core.display.HTML object>"
      ]
     },
     "metadata": {},
     "output_type": "display_data"
    },
    {
     "data": {
      "text/html": [
       "<dt><a class=\"ProveItLink\" href=\"axioms.ipynb#QPE1_def\">proveit.physics.quantum.QPE.QPE1_def</a></dt><dd><a class=\"ProveItLink\" href=\"../__pv_it/axioms/2fef25ec0f6b2da2091797dca4ed88ac63be8aa10/expr.ipynb\"><img src=\"data:image/png;base64,iVBORw0KGgoAAAANSUhEUgAAA0MAAADJCAMAAADW3Rn+AAAAQlBMVEX///8AAAAAAAAAAAAAAAAA\n",
       "AAAAAAAAAAAAAAAAAAAAAAAAAAAAAAAAAAAAAAAAAAAAAAAAAAAAAAAAAAAAAAAAAACGKEuzAAAA\n",
       "FXRSTlMAq1RmmUTNIjK7EInv3XZAMGxgr3zKxjj6AAAACXBIWXMAAA7EAAAOxAGVKw4bAAASRElE\n",
       "QVR42u2dida0JgyGRVEQxC5/uf9brfsGKiqOMvNyTtv5qEaMeQwEDFGEgvKiol3Kd6uAtzdJPnW9\n",
       "LIXZfZUetKdjLhamxG6NuglormVSlU89UUqAz3fp4SUMRZLs1tSGnpA7GGIfVHhcCPDzXXp4C0NR\n",
       "kezX1CAFzpCw3tXvlW/Sw2sYSg1LTm22HTpDJAM/36aH1zAUkXy/JniGuEZA4ev08B6GmI53a4Jn\n",
       "KIMb+j49vIehKFf7NYEzFMMN+dIDVUXOwJBhy+VuTeAMZQr8+NFDO9HBwdDS7RT7NUEzZHkn/Oho\n",
       "6KoeZDtXqN7EkNB9B3X4NVZ9iqHYGP+YNUEzRDTmhux60EGX3jfSaPlr+HH3tUdNZrs1ITMkdA5+\n",
       "/Ogh6yzoFe+kN/XlqvcT36sJmaHEEmf8xeJBD2/sy72DoVTLvZqQGcrRlfOmB8QUVq9U7NUEzJDQ\n",
       "iMr50wNVOn8HQi9jKDfeLMuagBlKDC/7q105+THT/UGGSkO9y5qAGSKYYPWqBzC0Ys7ZTk3ADBUa\n",
       "/PjUAxhauZRl5kB8B0MYDnnWAxiyl8zw84uacBmKMTvkVw9gyF6osQpkURMuQxQhBb96AEP2khgv\n",
       "qUVNuAxlmGH1q4f3MPSuvD7cmCFa1ITLUPGSGcHnQwr8yxh6WdOEAeyiJlyGNFYp+NUDGFrVMN+s\n",
       "CZYhphHa9qsHMLRSlNFbntcEy1CM0LZnPYCh1RFnuVkTLEOlRioFv3oAQyuFGJHPeU2wDElMD3nW\n",
       "AxhaKdTIez2vCZYhopEj2K8ewNDqayrbrAmWoVxTAORVD2BolSG1WRMsQxkY8qwHMLQ65Cw2a4Jl\n",
       "SGGpj2c9gKGVkhjTB/OaYBkqwJBnPYCh32MIueX86gEMrZTYYCj+FoawaYpfPYChX2NIgyHPegBD\n",
       "KyU1GErvZugv/fdHbOcfAORVD/j2YdWgl8t65zX/hcvQvwDIqx7wDd57GPpUXw6f4PnVAxhaNegl\n",
       "Q/OaBAyBITAEhsAQGAJDYAgMgSEwBIbAEBgCQ57LuU1ewRAYAkNdObkhCxgCQ2CoLWc3BgNDYOgF\n",
       "DH3Dfqzbexp/aj9WMAQ/9KAfOrvJq9Oext/th7Be7rMMvXa93Lf05bDWB34IMQWMh8BQoAxFVBcn\n",
       "NnkFQ2AIDF2TCYbAEBgCQ2AIDIEhMASGwBAYAkNgCAyBITAEhsAQGHqAoZflJAFDYCg0hp71OmAI\n",
       "DIEhMASGwNDPMySST2zYTf8wAORVD2BozaD//NmsYckN2MIPwQ/BD4EhMASGwBAYAkNgCAyBITAE\n",
       "hsAQGAJDYAgMgSEwBIbAEBgCQ2AIDIEhMASGwBAYAkPvLRl7SA93fFdw7WMFT98+ePtiAjkawyhC\n",
       "P6UHfcNb/5pMT9/gebux38vRuJ/Q7AW5pGelVlfcZ5TOhSc9gCFfN/ZzfTmS+HhE9zXb1o0TTKpM\n",
       "tuxzJcAQGHqSISKj0BjipOZouJtYgSEw9CBDSRYFxxBN6/rxmUgChsDQYwyxgoXHUO130mJakYAh\n",
       "MPQUQ6qMgmMorrfUKUkkhlhIXAgwBIaeYSgpovAYIjU7tIzk+FQyCobA0DMMFTI8hkQzguM0mYTk\n",
       "0wMaBENgyCNDpduuhe9iKLF1PzMChsDQEwwpEoXHUGbjPnbfwxQMgSF/DHHLroVPp5l1a5DZwdMl\n",
       "GAJDn2eIFP4e0cf8kLQTkCsw9MsMPZWjsSABMrTCSuL8HrqcoxEM7Rr0z+Ro5DoJj6F0JYotXG8G\n",
       "fgh9OX8Mla6XfRNDZG2RuatTBUNgyB9DeRGFx9DqsMd5QASGXsHQ+MqLE48MeRa7ZztF/nGG2PEj\n",
       "5hdPVsNvUoOhkBhqFg43JWMeGfIsdsd2hKafZqjct9603Lx4thp9SXQ6uztSqP5q5T0MCZ15Z+ic\n",
       "TM8MXb4xF4Z47zFYHnlkyLPYHYa485TKUpMloZS0JzOitCaE5HnS3IAqiuovkhWFxZPGsjtDkbop\n",
       "pNCZ2YQy2bj4hmIWt6NKnqhuJRO5yQ8p6t8PnZLp2w9dvTGn8VD/OpSxT4Y8i91hKHa2pbkmeWua\n",
       "peo+I9WNibKieXel7V+RyM2VeCLre12dxyjnxwjFLK5mdvENxczdakOiaFcAcfozfbnRg7w/ppB0\n",
       "L8ss8sqQX7E7DCWan3nArH/fl+35rKMm0XLyV9WXMsTQ/u56eVQsoG7+Tuj6xbdib5qYB5KMR6li\n",
       "DgxdyvBwR9aIc2cruv74b2rE6bhcoerituz5QFzOq9gdhpxD23MzzoZonlJThrhWU4Yi82H2J+rc\n",
       "TgTtImvzj4GcX4V62s+Tw03qIkVM4Y1+KKLNOzgXnhnyKnaHIem8TFPPnIUcISwn1KRNN6L9K63M\n",
       "1jDUPhFP2jsysXhV9MOXLDn1GAu79xaIy72UIUb6fx0qcoehw2Jjiy8p3RiipxgioxQ+oaZGMh7+\n",
       "KlOLFCp7drs+ZDI9KiW5zttAxTw9gvNjVOrcuwQMPcRQ4yukzVTmYWmmaH1U0s2i23urkxyNo1hO\n",
       "dZ21iuVqCp6Qhaq/36RFM2HfmKGQkpBpm+mK7cxzExJ95hFlYwiZ6WKgRpRtIK6qIyTTVsV07kUV\n",
       "9mbG/WXmaVLcGSpm/cJJIZt6AEPeb8wxR2Nc2of+ffpNXpI8r7s0pPlmuRs+0x0/NBXb2VSazuRF\n",
       "+YTGduBO+7EET9qgRCpd3r8eGGpHQEpK2c/8NESx3MZQN10jhhHTcjjUqzMurjMEPxSAH6os3Tpn\n",
       "3vX6Ke06LHF1FB06cbsMTcR2NlXO5fUMNQLbSdnaqlndQRquY52J9N6XS5tRPJuN5cfxkLHioBvb\n",
       "x/3iUFbah0OVOsLoy714jtUS437bHGtjxPFgqTJJ+tdwl35znCiMeZxW1lLZh6SUquqfdJOhUWxn\n",
       "U+1kzDjMnjLUWk395UTDUNqTJmOnmMKZuFw8TsOUDQ02hoRo17eLabesY2gYDkm2eOy9YtJzfqjI\n",
       "PszQm+dYzRj36+ZYa2sZFgpXhjusMGjTb4rRrGJe9eXi1NkPDWJ7myrn8qYMsdFqZIUTYdWwpL0o\n",
       "dbCd8tz8ULNSNY2HzpONoUZPlVbKUhl9uWFdG7EMhxo9z/OWujNEXMdD6Mu9pC83rsLPs8k3dM2h\n",
       "aTJlqCKnzF0ZGsT2wyE+lzdlKB2st8k5HSf9UtU0d2Do9ByrjOK0gnWYY7UzlC1xyDu+O2WS9p7F\n",
       "dDgUNxKT/NRjdF3+B4bew9D4/ws9ZAtt+yFJljclbs1CyD5O4MDQYohdLuRFJB8Yisf1dfMmcxeG\n",
       "Ymv0bF+3LCvL2tV1fTM+63rzniFZLBnqQ9ZNLjjWvSrGrjchvRel8sxjFFqCoVAZYiJiQ7rQNv0m\n",
       "lzM/VHV9uv8vDzDUmFxrVhN5Udc9khNUWGWVbCrCqS/H3b/8XPxd5qRsA4EVC5nWQ9p73q1AJXnR\n",
       "eqcpQ7z/LXNCyzESIPr3QL/SSaVnHqPzElow9D6G6kcueTft3qXfHP1CO5FYku1LWhhKa5Prp/Kn\n",
       "fqYZV5R8jCmwnHM+W3tWli62c+3bh3oV2u7y8tnQRln7jvEyOsjUqcfovIT2lxiaxOdezVA1CmnC\n",
       "cryIh/SbrN8Xi6t2zvU4Q1VPTQ7hODbZZ0vIqrR/5s15hbH0L2cutqOyK4+IZDxRhxhKrMwarpkm\n",
       "uxe33Z77l+2/5IfG+Fwg34JPno2Q9fgldb3k7uO3y7NPps7CeBu2Qy59Cx5X3JaHGLKiLZYylp8I\n",
       "2ffwiqYzCu3dfPw7VnyD55+h9OxS0fP5FChzrzVsJ3GdZLXfMXXIAjJnyMa2geEStLU9vGYzCtGR\n",
       "L9vxDd7dN3aeodM5EC7kJJEWDJLUzXa48wjiZOOYzLScQsL2h/0l2794M009m1GYfNaEvlyAMYXr\n",
       "5UqORuFU1Vjed+Ro7EMp0xmFCDkaX8XQ7+RorHpjQTLURO5nMwr1cAi5gn/aDz3FUOo4y/rGPbz6\n",
       "GYXhMOSsB0MPMLTx9f2LGWpTm/QzCkfjI2AIDHllKPmaPbzUE3t46RsY0mAoLIaC3EvS9nHUZ/eS\n",
       "vGODpktC9cn8O3fd2W/taWw4ojD38MpJ9DmGbn236Pc2DQzZbSeTb38gLnt4pVqAITD0EEO8YIEx\n",
       "ZIthqzgCQ2DoIYaGrwNDYci2h5ckERgCQ48xFBEZFEOWPbzSLAJDYOhBhtoMEMEwZHbleCbA0M8z\n",
       "NMnReCtDK7kJcx4OQ+bkkDiI0PUcjWBo36CdcjR+jx8KajyUiQf1AIbQlwufIR+bm4EhMPQAQ4+W\n",
       "aUt8bG4GhsDQ87bzXCERGAJDYOjpAobAEBgCQ2AIDIEhrzJ9rdsGQ2DoZxl6mWcCQ2AIDIEhMASG\n",
       "wBAYAkNgCAyBITD0MYau5Gh0L5dzE35J8acHMLRm0L+ToxF+CAyhLweGwJB/hqgqcgaGwBAYOitY\n",
       "NVOyHAyBod9jaNw3aPh1Yish2S5rUGAIDB3Tgw669B5kSNgy/Bq3EvrEtylgCH4Ifbkoyjo2xBWD\n",
       "BkNg6IcZQl8ODIEhxBTAEBh6lKGI6iLnERgCQ2DotGB92aDBEBgCQ4Ex9HCOxp9j6B8wdO+NIUcj\n",
       "/BAYQl8ODIEhMASGwBAYAkNg6GMMec7rA4bA0K8x5FsMGAJDYAgMgSEwBIbAEBgCQ2AIDIEhMASG\n",
       "wBAYAkNgCAyBITAEhr6GoRQAedUDGIIfgh8CQ2AIDIGhdzK0WRMsQ4VOAJBXPYChlZIaDKVgCAyB\n",
       "ITBUp2sBQ8f0cEf6wugOmecpuOXi38tQpksAdEgPV5+0vkGofuKwo4fHutisCZahXEsAdEgPYOjk\n",
       "4YmR4XFeEyxDRFMAdEgPYOjk4eWQKd9eEyxDVBMAdEgPYOjk4VLnmzXBMmTe2G8Wdz2AoZOHU8PV\n",
       "z2uCZSgxHOxvFnc9BMPQ+SDhPQzlRthmXhMsQ6kRLPnN4q6H/SfNlu9blourDC1lpnFJ0+tcnjqR\n",
       "lXHJNg+3Wm5mLAWZ1wTLENMaAB3Sw/5xyeJ9y2N1maGlzKLeze4hhrLqbrLNw+sjIpkkM2gKY9eI\n",
       "eU2wDFUen4GgI3rYfdKlossX7mWGDJlVY3nxDEOivm4hNg7ndXyG8va/Ew0LQ+fiKxhS+PjhmB5W\n",
       "n7SQkpDaKMyNrk4ztCEzyj/dl+saw+q2KL5xeNPLzLNEzD19Yfj+IvoKhggW+xzTw+qTrkcstLIv\n",
       "kbUDmLaklxjakEl59GGGusa0fohtHN4AzwtdsNmIMzPGoNl3MFRikvWYHlafdO3IWNXDj2mU+PJD\n",
       "6zKliMoPM9Q3prb8rfFQXGuS1Q6rnClYGiqX38FQiuD2MT2sPum661KbGKPJ/MnxspDxObNdlZnN\n",
       "Nkf9DENDY8o42YrLkdpDqgo4yWeOPjZcf/wdDAkE5o7poT+MEaUVqa2AFDrr3rhSXTLbO2SeP9HW\n",
       "GktjljLafmcSL8JyyggpLGrCZai6EwTmjuhhfNKyD0OUfZ+EK3HR3u+Qef5EozW2xixlJKX9HVXs\n",
       "1ATMkERQ4ZAe9KQ/1Q+2O8OazaWeM1v/MsXQSR1+jVX62B1aG7OUkVkbHBsLEpc1ATOUYtXpqh62\n",
       "l8cMS+y6E+u1BGz3oW2vublBphqCJcOv4Yc+dIf2xritIdodDoXMUFRgQHRED3qEruu0CNm9pDnn\n",
       "VDifb6u8Q+b5ExetWWnMQoaMHbW7rAmZIWqswfjN4qiHydClOz5JO5tw+jB602zvkHllcDZrzUpj\n",
       "FjVqxZrJXk3IDKX4lPWIHoYnrfoh8bEJtk2zvUPm+RPdWjOXkdqPLY2unFETMkNRgaXbB/SghxE6\n",
       "mQ9dPNj7HTLPn+jYmrkMYnfmWbFbEzRDJZbMHdCDHsJKXRyPld7s/Q6Z5090bI126srJ3ZqgGYoQ\n",
       "mTugB2PoIpk3e79DpofB2XZrZjLsk0MRMSZYzZqwGZJaACBXPYwWdqrbtcOQf5lXGHJqzUyGfXJI\n",
       "GG8nsyZwhgSiCu56GHs6rbkQ5s/e75B5pS/n1JqpDJav9JLZbk3gDFV3BEfkqodxSUGzPJkcnRjY\n",
       "NNs7ZJ4/0a01Uxlrk0N0vyZ0hiIFR+Sqh8lqspzQ41lid6ZkbpB5/kSn1kxlEMdXk+1lFTpDMRae\n",
       "uuoBeX2OHi6MlYjCtjYxdIYiijRzjnoIOL/cPdJ2Dyf5fs03MBQprN520wMYOnh4WojdmtsYasqn\n",
       "pm54gbCCkx7A0MHDVbpbow5twuJeRNKUjy0hSDEictIDGDp2uEj3a1pTR0/oV0rAe3jddIf+rvw/\n",
       "E70oYsKTgLsAAAAASUVORK5CYII=\n",
       "\" style=\"display:inline;vertical-align:middle;\" /></a></dd>"
      ],
      "text/plain": [
       "<IPython.core.display.HTML object>"
      ]
     },
     "metadata": {},
     "output_type": "display_data"
    },
    {
     "data": {
      "text/html": [
       "<dt><a class=\"ProveItLink\" href=\"axioms.ipynb#QPE_def\">proveit.physics.quantum.QPE.QPE_def</a></dt><dd><a class=\"ProveItLink\" href=\"../__pv_it/axioms/0c004e18e55f3b78cf9ef6920a995efb3d5ead9d0/expr.ipynb\"><img src=\"data:image/png;base64,iVBORw0KGgoAAAANSUhEUgAAAu0AAABMBAMAAAArT5Q2AAAAMFBMVEX///8AAAAAAAAAAAAAAAAA\n",
       "AAAAAAAAAAAAAAAAAAAAAAAAAAAAAAAAAAAAAAAAAAAv3aB7AAAAD3RSTlMAq1RmmUTNIjK7EInv\n",
       "3XZ/CtNrAAAACXBIWXMAAA7EAAAOxAGVKw4bAAANzUlEQVR42s2dDYxcRR3A//v59t7e7u0Zra1Q\n",
       "ukkLmAjepqcVm8BdQ/mItHAiaMTqbcWkpCDdhsSk0HpbxUQjeNegrYfFPmJCrGhvqTGSVugWgkaE\n",
       "3BWk1bZHFz8ionB3lHL9uHadjzdv3sz72He3O7u+pN1/Zuftf+Y3M//5z3/mvQMIdiWq1WoGZn/F\n",
       "+6CVV4vVo0s7KgsphDLw7Ylz3d1zqcOK1tZ6BbT8ekoWIt3di4Jzn56T0vCLLa2zQvVVr0vO2J6T\n",
       "BYAe1dx/mWspd4XqJz3SO+SE2LQsNIH7vNaOcYXqA3OHBQ5BOffEqZZiV6k+OPeBrCwo5x7Pt9ab\n",
       "yf8/cG8bkwXl3Lta68apVB+ce+KCLCjn/vXWmneV6oNzh50OQTF33sCtMe8Xmsv9Qw7u8QIZdsyu\n",
       "W4Ji7qGzLeWuVH0g7iN0CLBpxhIUcx8ZUo123WzVV+u7fLm/JXEvwGW0/U+zjnC6Odx7smpDH6BP\n",
       "zlb9ZF0aO/x+aPsPnxOzrH/g8NNkwXSOrZzONYf7LsMSfyzXoAF9Lm6E0cDdbQRQ3wzusE/MksjA\n",
       "V6k0w5JmmsJdP89Nba72tD/rum/Vnrm7CImjtdU3h7tk36N9YE4wu4ogCmq5R85Z4kWggPt1EMeW\n",
       "5Mra6tVw33r8YOdjLxnxw9vG127/K9DezbOkIFam0kQJREEt95C1TI/kVXAfgw5sSZKZWupV9fd+\n",
       "NHGvKXZkYSIHVzi4L4F05udEGmTVZ4Ja7u1WJTcXFHAP98IaIrxaS70q7gOoxSPZxwFzbwP4kZhl\n",
       "PkQr++htzKFlglruI1Y84nVQwD1UhDd0bDCvMGqoV8ldr9xHuCcNibueh8S11J7H2chjglruXcx/\n",
       "jpRVcH8C4OYkRh7v9Vevkvv9UPkO4R4poA5uzxKp8Bn2giSo5X4Lm07aSyq4XwPw4FXELZ72V6+S\n",
       "+6fofEnctRuELHE+CiNnJEEt9w1s3TJhqOC+3kpa66/evkqtk7v4QwMZ7YiN+1suWSi8GUlQy32U\n",
       "ua2HXMrdiLpbFsXwVa+uvx+cN23jLmbZa1tJVCVBLfeqiSNxGhT09yTvziMVP/VK7cwNntzts3q1\n",
       "KApKuWuslUNlFdxTPKltzE+9Uu6X27ivs2eJ2Sf7E1lRUMo9zNbp7RkV3G+zrUyn/dSr9SM5dxqk\n",
       "6+Berm2qqYiCUu7p99kqLaeC+3yb/Tzpp75Z3MN5j+EIsKgkCkq5J5n3NFFQwd1uWw76qVfHfXDI\n",
       "xp0E6XiWawSXNiMKSrmHpkxhJyjgHrHPpY/5qVcXF9twkAy62IrRgzcCDdJZWdbb7zuQFwXEnTTA\n",
       "4kDcQ8RsBj6C1faeKfxxLtzlMaJJd8bt3soBP/Xq+rv0pWHLogmL5QNjotCDg6lQY7vM4h7FxyLi\n",
       "haCFjJsV19+bA/d0VkqIVcQ7N9m/7KEHNvSLX8G3iuqbxn2NPUtSKP9EWRQQ962OxvHknsjI9fW9\n",
       "Umb823Vbn9Ug/cEVCOjGE1OdwzkS0J73EhlQHwNt4fkPQGj0XnbH38U799p/bZA2SurNq0vmsOTq\n",
       "m8adBunMLCHhq55JUeih4zWZDWbf18v19b3azYqH3/WuQeIYwNuouIMZ0H4P0I9adneJBvMgiYN3\n",
       "/6H5flWwDIt5p+CbjvSaTaOvBXhQVD8H7gWvBF/uNEjnOpBduEdQ94oHnFe70b98cO5mP4+c9uY+\n",
       "gDpq+jT1yHpKNLCKiUZxqXAZP2NFAiK93haqI8PaInRX7IiofvbcHTYOvhKEOw3SuXLvmhQF7M+8\n",
       "PD7+p4Dc28fHj5eCcze96vS0N/d78H/jlPvgGHWIMd92nGWId+vV6N+LPtypocRlm5jpE9W7c39j\n",
       "5SXIvi6sdi54BBILX+rsvOd5K4/TxqVzAbj7TFxu3JEH9GhA7tEitBnBjaFZ8eRZz+KFiS2YqBDg\n",
       "/Xn8cTvg3oYPnvSjsaCbzYzMEdzpXbF22yg0JPWu3B8uQfovqFbI19ychxj60H9ircIkG6cfsbzC\n",
       "uXLvnxQFzH0jaF4PLiUl7ijjRteMl1uSzavuMO161Jt7iGQZJMDhQBZ//JN8cRP2uZDdj5DOG1tw\n",
       "5hLrORW3iqWoe7Z6HF+HRPVu3DVsgyaKoE2R7W/8AY+zLLKNC6Pyf6I+7oNnRQFzbzOS/Nis6VBu\n",
       "uakvgtaAUdtSfDn+/1H4DbJjUzntMdoPn3x5H6yaj+k8+dRHaKFtUZPl5tQ+6Vk8uu81UMbA9zxP\n",
       "Aqt0Jwz37eP858L4J5b5cHeJvDH1btzjZdpYGHjiPOVulVy2cVHUqO1GXdx/lhOF+3CdKnxaxaGd\n",
       "xBvDfeHMPtzaUXm9+nE8rWIIt9N8sI1kehwb5dWQ6M5BjNv/jlNBuSPDfmz/30jAQyOblID8cH2K\n",
       "u2NRbEeumB33jlPe3LtwKdMXCPDY+/gj1hdmWWQbl0Kf8VzD+zvkeSgBh3ZWouEdviaKJykH9zhe\n",
       "nWMIFZoPc0+StdcpGCiSe9bP3s70D8EAnRiJfccr0xdQGbB9/iavOgzWtDOiBh87swjPIQkCHJLv\n",
       "4o80H/OijYPP7tpWYWdFGsp9L0aV7M7S0A6ZusPf+kKllFy5euV1IvfkZQaFUDKneMod1Xo54h7D\n",
       "TbHXUfGktz8Tfs+MKnHuvyCDEHFPYvfzt6Z/3metB/3m1cD2fQP+PW0GA9f/m0NS5wbOXbJx0AXW\n",
       "ASCb7sDP8xHck6JAuG/GbXkjWYzGs7Cb8Cjuu9Stv2sHTQgVmo9y10ihnoEP6xV8WsfhR/r47zsh\n",
       "lsWV5NwBrqJ2JjnJTWwX6Na5MFfuGW831ps7Muzn9z+L+9sUbOLcJRsH12Mg5bqieW7+DI3Qb19u\n",
       "hnY+R7lH00Mu3EnQG7V/rEjzUe4xDC1xFBbj8NoXHRX3XTeVLt1D1k027rgVf0rdiFCB+oXXw0cB\n",
       "Pu3jv/fOjjuxM7EzoNFYMbHv1qJUsnHEh01MNp47uR6aKdChvGx4eDgbLuqlvBt3s/3TZj78aGAS\n",
       "wiRuY/rN3+NG16x4+JQ3d+3eSnhVn3WAbRD9UhJ3Lewzfg001Mw63r7oxCPpJm/uIy6ruZQP9y7c\n",
       "TumTNu66oeX0ZYy73cbpuPixshrumrGlQkM736f9HW6tOP13eq0A2ANA8sHbOFMCdVatV6P9hduZ\n",
       "uLlQT5z0i4tt+8cYFDdumMLktp6Y6lwwirv+w3he2HYzWc2iBt2EIxSveXMfrLiEQ33iBG1luBU7\n",
       "QZw7GpbFH7zN7IzdxiH3zYDwWF3cu8qiYHFP9SVRF8ehHbIgRVN5OuO17/Fl4mHRhWsqC2+SeXXT\n",
       "dx+kHf4dHgBngakaceAj4AyHporcxzIHkjYm38nDV10ugb02n7iYdi58RwWvm2zc42wGkWxcNI96\n",
       "YWSoLu49Y6JgcY8sXgqJ53BoR8NPCDy8Tgr42bmHL8IhWZIP9P37EaEdAKNsIt/BN3wY78P+3Od9\n",
       "2+kFRnodi+aoI0bCXVa3ncSQX/z9G+/AkheIK0kqh7n/jnGXbFwog0Z3tFQX94m8KIj7fHTl8OTw\n",
       "cJ9HfEa4bPm+ZFvX8r4bZRttF/tz76q6WAnefHtA3Oiw7kQeGPF+8TzpoiHqu8/370vQOk+bV8UH\n",
       "8xMLq52dO88w7pKN0x7JYXtQF/cDQ6Igcr+jVlzM64oW3ERrY7nH8OUedduV3u2I+OyQ74z2md6v\n",
       "+05irX3tVKFN/vJKLxsHW6Au7rf0ioLIPTdX7vTJHnJ90mYrrHMc2YDLOtulyWMg7dh7SDHvl4a5\n",
       "HKaqxjmO0F1Xu3N3sXFwbX3cd1VEoVHnCXRHFBb7XjM+q5oGnEtdwrxf93NLlnoP7uHqBXfuLjaO\n",
       "bYTOtdTWEVlTaM45vWhZCff5zPuF0JzO6a3KeHB32ri2Qn2lto7ImoLic6lmaWOnVHDX88T7JUkV\n",
       "P/Ve3B3XAxuedbdx8K86S20dkTUFtdxPMH/nzyq4RyrE+/WauG3qg3KfxVgTRxbUSNZmJEEt90U5\n",
       "b4emfu62g0uH/NWr5h43aiTH3pcEtdwnmGNgPWej5rkDj+dsJnqbxH0rwK+X+iWn2dKZCWq597NV\n",
       "WuSsgv7OA/1tGX/1qrlfB9HiVr/kENsKYILi5yitSt6tgDv3YfqNGuoVcx+DtjsNv+QU63eppjy/\n",
       "mrLueajxzw3bnqd4pZZ6tdzDvZAY/YNf8ghzpJmglnvSCgCnhxrOnT9P4fWcfPJkc7ijktyvve6X\n",
       "3MVKyAS13GM8MtX490Lw5yk+X1u9Uu5P4K2Bp/2SF7HlKhMUv39mlPtU2UZztw5BJNbXVq+UOyrJ\n",
       "0u6sX/KoXCLF3G+xbIHzvT/11t2i/YQRQL1K7h7tzpMTU7KgmHt/aZaeQfC6Bziyb1Ov4HntABfT\n",
       "lX5XFhRzby8r4x7gyL6r+sb3d4+S2JLjZVlQzD3t837eOt8vFpqj+sZzT3l4sVwcLMmC6velTkFL\n",
       "r6lmcL/NPasteZEhC6q5HzBayt1FfeO5z3fPypP1KVlQzn2k1FLuLuobz30MPIIHlrmblgXl3NOt\n",
       "fVGti/qGcxeeX3ZNbu+VBfV/7+BYaw38MfXcawbf+VuP+OuPlHPvKrSUu1N9w7l7PM/Lk62XVtje\n",
       "XqGce3Sopdyd6hvO3eN5Xp4cGpKFJnD3erdjs65X61txBniowCMYypPXGLIwK+5z/HtlD7XWk2yx\n",
       "eny9Jguz+ntlevfc/l5ZrLUGvsXqMbg+WYgglPA/W/wSX+2CunwAAAAASUVORK5CYII=\n",
       "\" style=\"display:inline;vertical-align:middle;\" /></a></dd>"
      ],
      "text/plain": [
       "<IPython.core.display.HTML object>"
      ]
     },
     "metadata": {},
     "output_type": "display_data"
    },
    {
     "data": {
      "text/html": [
       "<dt><a class=\"ProveItLink\" href=\"axioms.ipynb#_s_in_nat_pos\">proveit.physics.quantum.QPE._s_in_nat_pos</a></dt><dd><a class=\"ProveItLink\" href=\"../__pv_it/axioms/89b9f03344b95013be5c8b0bea35b6e272ad9bde0/expr.ipynb\"><img src=\"data:image/png;base64,iVBORw0KGgoAAAANSUhEUgAAAD0AAAATBAMAAADR6hicAAAAMFBMVEX///8AAAAAAAAAAAAAAAAA\n",
       "AAAAAAAAAAAAAAAAAAAAAAAAAAAAAAAAAAAAAAAAAAAv3aB7AAAAD3RSTlMAiXaZELsyRCJm3c1U\n",
       "76sUjwJqAAAACXBIWXMAAA7EAAAOxAGVKw4bAAAA5UlEQVQoz2NgwA2YGfADVrLkvb5GOzDI/i3A\n",
       "qT+G/QEDywfc5r9qkGRguMBgGhobGjoBi/ybAO4GhgUY+pmiVq0GM15M4tiAKc++yQHKesGXoIgk\n",
       "z6hkAqK6YdIMLxgCWAsQ8mEMxSBqBwNCPpllyQJY+HF8YIgE0RuQ5DkPHL0A43F8nQGi2G6tWrVq\n",
       "KVSe4QkfXJ5B/r8AkGQJQNLP4MeyAOHy0i8gcgGyPJsCXLkUAwNYXgkuHwbEanD5TQw8BiCa+wBM\n",
       "ZA/I6XDnJk3SBNMsT0sgAtl/gXpZNmAEO7soNHxRAABjOjsCU0Qw3QAAAABJRU5ErkJggg==\n",
       "\" style=\"display:inline;vertical-align:middle;\" /></a></dd>"
      ],
      "text/plain": [
       "<IPython.core.display.HTML object>"
      ]
     },
     "metadata": {},
     "output_type": "display_data"
    },
    {
     "data": {
      "text/html": [
       "<dt><a class=\"ProveItLink\" href=\"axioms.ipynb#_unitary_U\">proveit.physics.quantum.QPE._unitary_U</a></dt><dd><a class=\"ProveItLink\" href=\"../__pv_it/axioms/b97223f2d5084937c84c5cb577d63bf6e3b794440/expr.ipynb\"><img src=\"data:image/png;base64,iVBORw0KGgoAAAANSUhEUgAAAF0AAAAVBAMAAADWVP/xAAAAMFBMVEX///8AAAAAAAAAAAAAAAAA\n",
       "AAAAAAAAAAAAAAAAAAAAAAAAAAAAAAAAAAAAAAAAAAAv3aB7AAAAD3RSTlMAIqvdVO/NdolEmRC7\n",
       "MmaVuGqYAAAACXBIWXMAAA7EAAAOxAGVKw4bAAABqUlEQVQoz4VTv0sCYRh+ztPz54no0FCQFS0u\n",
       "Sg7REDq2aUGzDjUZ/YC2Gu4PqHSqRsEmCTkaoiHwIBraDqE5B5ccIgiUoLD38z7Pu0Tuhe/eHzzf\n",
       "873f870HOJjA/UUHiMDZjg0X0FvAFQXRzEoWy71DK6a1u6Xg+atKoVuBUN/TEdpXAW+bKuUKBYqd\n",
       "9E0DgikW3QNz8H1DLmxSVqJ1wE5T7fj5OH3YQgNYALYxK6xS1qX1Q8vFcafpdNGOzwMFFcnIGs4p\n",
       "86jw98k/GPDLk//8btq+BCT1zkeWUqkN3y/5d0O60kQ/AeNiGV73xSHSiagOMykygZeYIpD7vB4u\n",
       "omm2CmnyviLrAmKc19155IhBMNR/TZNpNrynwtLbEY/8ibJObRmNPJr8Tc2KD4/o4c+jPJZTNPEe\n",
       "kkVuj/rZgMBv5k4hpw5fhJnXHIowieZibxiikqzAy98zrEGqIqpz2I55QE3FDRcQsXq9xstM3rOE\n",
       "SXv3MpoLf2JxSCLTEGUGgx4vixX73Fw/GfMwtnVbFnMc/64tazjiQ9Z/StAc8UFt2uYpNmOJj4A/\n",
       "KA1aDqCeBmsAAAAASUVORK5CYII=\n",
       "\" style=\"display:inline;vertical-align:middle;\" /></a></dd>"
      ],
      "text/plain": [
       "<IPython.core.display.HTML object>"
      ]
     },
     "metadata": {},
     "output_type": "display_data"
    },
    {
     "data": {
      "text/html": [
       "<dt><a class=\"ProveItLink\" href=\"axioms.ipynb#_u_ket_register\">proveit.physics.quantum.QPE._u_ket_register</a></dt><dd><a class=\"ProveItLink\" href=\"../__pv_it/axioms/8fdf4d4869eca944a64f0cf8f9d26f26ffcd6c600/expr.ipynb\"><img src=\"data:image/png;base64,iVBORw0KGgoAAAANSUhEUgAAAE4AAAAZBAMAAABtDwVhAAAAMFBMVEX///8AAAAAAAAAAAAAAAAA\n",
       "AAAAAAAAAAAAAAAAAAAAAAAAAAAAAAAAAAAAAAAAAAAv3aB7AAAAD3RSTlMAIolEdjIQmWarVO/d\n",
       "zbuGLT5cAAAACXBIWXMAAA7EAAAOxAGVKw4bAAABaklEQVQoz2NgIAZEdBBUwqY0M4GhgImgOnYG\n",
       "9gMM5qUE1fEbMH7lFEhhEIDyWXGo40hg/MrV1cCgDOXzBWC4TO/sFVEFBgamAyAeTB1XAbo6zx0M\n",
       "6f+AojEJyOoYDqB7wBloVl8BA+MzBhR1WmjqwvmA5nAWMIgzCKKok4PSfmfOXADR0/hAbmxgfBpa\n",
       "hqKOF+JzWzco/4E4mOL+//8DRB2bewMDZwIDlwKIy3gNqoxxQhCKM5QZmLg2MPTDPMILD08FCzR1\n",
       "UcCImQtkFYPVwcQZC0zQ1CVwOzBsAbIiQdzoM0DwAOw+ITR1DPbAqAGyFoG4eXCJZ3zo6moYWEBe\n",
       "ugji8sAlzEHhx2CApO4lA9+DNgZGsG0sDoj4mAAkLiCpq2SIVlBgYFoA5t+CG+h3XSDrOLK9mSoL\n",
       "pwTAbMx8nABPL/uPCyCrg4DlUNrozZkLWNIhXN1D/Okapo7tAnHqWBrwq3OF0pz4lQEAE8dMzY/q\n",
       "8JcAAAAASUVORK5CYII=\n",
       "\" style=\"display:inline;vertical-align:middle;\" /></a></dd>"
      ],
      "text/plain": [
       "<IPython.core.display.HTML object>"
      ]
     },
     "metadata": {},
     "output_type": "display_data"
    },
    {
     "data": {
      "text/html": [
       "<dt><a class=\"ProveItLink\" href=\"axioms.ipynb#_normalized_ket_u\">proveit.physics.quantum.QPE._normalized_ket_u</a></dt><dd><a class=\"ProveItLink\" href=\"../__pv_it/axioms/9dd0f917afb835233a1de3ba51a6f0768bbcc8fd0/expr.ipynb\"><img src=\"data:image/png;base64,iVBORw0KGgoAAAANSUhEUgAAAFIAAAAVBAMAAAAnX6R8AAAAMFBMVEX///8AAAAAAAAAAAAAAAAA\n",
       "AAAAAAAAAAAAAAAAAAAAAAAAAAAAAAAAAAAAAAAAAAAv3aB7AAAAD3RSTlMAIkSJMpl2EGarVO/d\n",
       "zbtGyc70AAAACXBIWXMAAA7EAAAOxAGVKw4bAAAA30lEQVQoz2NgZGBkACEIcAARAkCIBSgzuDIw\n",
       "MCtAeU+AmMmAJYCwyqU4VLIcR1fJg11lZex3dJXMC7CbyYahkvEBsSoZLhJWWRbBwDCdgWExYZUG\n",
       "qxk4PoC9BFMZcwYETqKrZFkQw8B5gYGBVYGQmewM2xi4E4ABN4Gg7UzfGeSBccllQFAl6wGGfKAQ\n",
       "rwAhdzLwTWB4x1HAIEfY76wTWDYzMzBYYVfJ/BGhkn1ylmQKA8MBrCo5Z/+dgRZHXAHEpjo+AWJV\n",
       "1hKdkjPwqHRjEAYGggOUNwGUvhMYDbAoBAArJUYL2YmStgAAAABJRU5ErkJggg==\n",
       "\" style=\"display:inline;vertical-align:middle;\" /></a></dd>"
      ],
      "text/plain": [
       "<IPython.core.display.HTML object>"
      ]
     },
     "metadata": {},
     "output_type": "display_data"
    },
    {
     "data": {
      "text/html": [
       "<dt><a class=\"ProveItLink\" href=\"axioms.ipynb#_phase_in_interval\">proveit.physics.quantum.QPE._phase_in_interval</a></dt><dd><a class=\"ProveItLink\" href=\"../__pv_it/axioms/90ad83733d1e3e414be95a70e25c2d5e068a872e0/expr.ipynb\"><img src=\"data:image/png;base64,iVBORw0KGgoAAAANSUhEUgAAAFAAAAAVBAMAAAAjqnRBAAAAMFBMVEX///8AAAAAAAAAAAAAAAAA\n",
       "AAAAAAAAAAAAAAAAAAAAAAAAAAAAAAAAAAAAAAAAAAAv3aB7AAAAD3RSTlMAMkTNuxCZZquJVHbd\n",
       "7yKDlRhzAAAACXBIWXMAAA7EAAAOxAGVKw4bAAABW0lEQVQoz2NgwAL2HEQT4GPADiahCzBtwKmQ\n",
       "c3YejCcTwMCwHadCK4aYB2A2a5s9UCFzAA6F7AcYOB2gvP1ARewJKAq2nDljAFHI0sDA9RVJIcNV\n",
       "ZHXKW+Em8icwMP5CVmjOwCjAwGTvCg4DU4TV8UCF35EVzmBgY2AQLuoECTA/QCh8P4GB8TeywmKG\n",
       "hQwMDQwsYIUMqAp/IitcyzCBgT0AZCwDg+wZIHCAWj2BgQnFRHmGDQzcDAzRIIEQJBOBnuFC8Ywu\n",
       "QwKDIgNDKkiAB0khiwMDO0rwrGFIByqNEAAJcG9ACvALDGwGDAEIhSUMzNaGZYcg8lZIUXiKIVaA\n",
       "9TOYNx8UGpkMDDX/T0LlI5wC4ArDZjcyMJwB8TvuWxQwMADNYiuAu03TBxaFEMAFTwp8BxgYeAVw\n",
       "pkdOuAjINHncCTcaLvIElO5xK0Skaz8gfoipcA56nuF+wAAACYFae6IiZsQAAAAASUVORK5CYII=\n",
       "\" style=\"display:inline;vertical-align:middle;\" /></a></dd>"
      ],
      "text/plain": [
       "<IPython.core.display.HTML object>"
      ]
     },
     "metadata": {},
     "output_type": "display_data"
    },
    {
     "data": {
      "text/html": [
       "<dt><a class=\"ProveItLink\" href=\"axioms.ipynb#_eigen_uu\">proveit.physics.quantum.QPE._eigen_uu</a></dt><dd><a class=\"ProveItLink\" href=\"../__pv_it/axioms/049acc055a4608bf7d7f32f3fcf67cb8662731950/expr.ipynb\"><img src=\"data:image/png;base64,iVBORw0KGgoAAAANSUhEUgAAAMsAAAAbBAMAAAAg62YvAAAAMFBMVEX///8AAAAAAAAAAAAAAAAA\n",
       "AAAAAAAAAAAAAAAAAAAAAAAAAAAAAAAAAAAAAAAAAAAv3aB7AAAAD3RSTlMAInZUiRDNmWbv3US7\n",
       "qzJazP2FAAAACXBIWXMAAA7EAAAOxAGVKw4bAAADC0lEQVRIx7VWS2gUQRB9Mzub/SS72SiiiJAR\n",
       "BD8HUQwRPY3GWxDnEARF8XMxFyFIcjAaWASFoGgUhYAHxRyCelm85SC7EQRBI6sBwaBhQUiIoBvU\n",
       "BD/oWtUzs/Z8EmclFvR099TUez1V1dUNLIFcxv+R6J63pjS9vuQEF8Uzhtjt0Cax2lkiXaJrzCm/\n",
       "QtsoBdFlpFfOOM3qAJP9Vhc3Bc3qSqXCFp38LoupwUAcnOOHukWCabf7hhJQr/tpnjgDjZwW7Vml\n",
       "iQnT1GeUF1OBOEhyHFugTHwfR+rWcUktnLPB//8Dzui9GTWiWNtBZAbRdECFBs1HI3DUIn11lJb2\n",
       "gybrZDU4wnWmL5qGw/cY6atAYRrcd2Imo2I5UXlpBE50jiyzhDdLkx6Xuo0j0OWlaczZg5VoEsF9\n",
       "WHVaCjq2+WnabH2CrTkXii71Gn7c8NKU7f9Tnn/kVcX0kSpNfLI4bfhpBM5ZoJW6vC5cLKvrqhkk\n",
       "yyZ2wethJCqVWeFVEV3ru9ZvT/2pZOFsBLqp20f5EM9Z6uj6LFImIsy610vzitqBof5i0PaI666M\n",
       "lXHypljJ3epebYcWGcAVO3YXRNjvCRHQz6hNQJkLomlwbwwZp1zCELnhpwihpX5HZYQXfYbaDi/U\n",
       "SWpfpd0jS9J00cg4zTncpOQmSyyz1WZCxzUafeBVeKGGKX9p539ZrKrO+3GOCBqNC8cuJ3R5q5C0\n",
       "UBsJ+Jv056amFYuVsGE/TrNwmjbr5DOre6Hy/Bi1nd7YsNM+hSmXbpxyBo/IaRTSVMZRj6GhcN4q\n",
       "q5e81m+onTYDi6qPRsKhTOOkPQFlsqruw4xhQOO86fZa0wbAwcEHd8LQSDj9VAO53I6d+qM+vHvr\n",
       "yxKSPLvvtc5zNvXO62FoJJw+ysMSAg4CbOeS4jshE7mQR5kLh/emuz5W1aOwquoCFTo0zahdocXA\n",
       "p+bjwSp7LkkP1EgjcOKcpYeC1GrWuwBLxmukEThJzmJFDuhmu+fSo2YWvAv8VWQc6y5Q283GqNnE\n",
       "udn8wz2tJonRLvgNEfPGRyDbHn8AAAAASUVORK5CYII=\n",
       "\" style=\"display:inline;vertical-align:middle;\" /></a></dd>"
      ],
      "text/plain": [
       "<IPython.core.display.HTML object>"
      ]
     },
     "metadata": {},
     "output_type": "display_data"
    },
    {
     "data": {
      "text/html": [
       "<dt><a class=\"ProveItLink\" href=\"axioms.ipynb#_t_in_natural_pos\">proveit.physics.quantum.QPE._t_in_natural_pos</a></dt><dd><a class=\"ProveItLink\" href=\"../__pv_it/axioms/43c5ca85739dab0e5d869af8d9f6b96cb94286c70/expr.ipynb\"><img src=\"data:image/png;base64,iVBORw0KGgoAAAANSUhEUgAAADwAAAATBAMAAAA+KHOiAAAAMFBMVEX///8AAAAAAAAAAAAAAAAA\n",
       "AAAAAAAAAAAAAAAAAAAAAAAAAAAAAAAAAAAAAAAAAAAv3aB7AAAAD3RSTlMAEN0iVJmJRKu7ds0y\n",
       "Zu8qwvqBAAAACXBIWXMAAA7EAAAOxAGVKw4bAAAA5klEQVQoz2NgwA0CGPCCCaRLM+rP3MjA9v45\n",
       "Lt2cDhUMDPJw3YzKqNIcymwXGPgYWGfOfDlzLgMDy0c0aU+GzQxMcN2sChDhlUpKG8DStguskaSZ\n",
       "EsCy1Qthug16uBLg0hXzZywAUswb4YYbcDJMR+j2BwtyGyCkeQKEhOChFg2RRjjNgOEKyzw4Vw1M\n",
       "nlMCgglQaQ6BPngofQdTksi6GRuEYDyWDwwCIPcjSzOc4oTxWDewHABSXAvggQrkcp2EK26QAtNb\n",
       "YALcDnD3gjw89wKYlpguAKZ59r8EktIYMVU2CRKoKAAARP0vCk79Y/oAAAAASUVORK5CYII=\n",
       "\" style=\"display:inline;vertical-align:middle;\" /></a></dd>"
      ],
      "text/plain": [
       "<IPython.core.display.HTML object>"
      ]
     },
     "metadata": {},
     "output_type": "display_data"
    },
    {
     "data": {
      "text/html": [
       "<dt><a class=\"ProveItLink\" href=\"axioms.ipynb#_psi_t_def\">proveit.physics.quantum.QPE._psi_t_def</a></dt><dd><a class=\"ProveItLink\" href=\"../__pv_it/axioms/76de7e7071b91f042f672b1eff2dcdb49c12091a0/expr.ipynb\"><img src=\"data:image/png;base64,iVBORw0KGgoAAAANSUhEUgAABKsAAAAyBAMAAABhdkUjAAAAMFBMVEX///8AAAAAAAAAAAAAAAAA\n",
       "AAAAAAAAAAAAAAAAAAAAAAAAAAAAAAAAAAAAAAAAAAAv3aB7AAAAD3RSTlMAq1RmmUTNIjK7EInv\n",
       "3XZ/CtNrAAAACXBIWXMAAA7EAAAOxAGVKw4bAAAOA0lEQVR42tWdfYwctRXA337O7Oze3qJ+qFAq\n",
       "tgLaqIHL5Q8+VCFugYOilpBVkdo/WilLghQloLJIEZBCexuEWiiBOyioQFt1QlNalIRbaAOBiNyB\n",
       "qgTSplzoCaSUK0tQykeBhISQ9FBz9YztGXvG4/Hebu9mLMXejD3en/089nvP3jkAhZBrQDvFHoQo\n",
       "BePhoJy4cHYmlTnCpuljpvKtn2mrWKI/UuKCuwMaGhfODqUyV9gk1fep3photlXsi9GSFiQnxNfj\n",
       "wtmZVOYMm6Znq954blvFUjV6QX3g/n/DE8KrceEMl8o88z/Bp/mS2m3arraK3VonFzZcNh0NcfUI\n",
       "V7u4cIZKZb75KTZN/654W6utYv90rhQjIq7kbtHVuHCGS2We+Sk2Tc9S0xEvgHaKpcYjJy64RrQG\n",
       "xoRTQSrzzX8Nn2YrSnf9BdopVmiGNPdieTUXd6Ohj5pujMKyur9IXDgVpCLkT5elt4dkq2Abqz3Y\n",
       "JM0cU6lD8VmgxQ6aIc2Va3TpUjfEhZVYR5XNCiqNC6eCVIT8F8nvv6hzbMe1QLFperXSIq7WVlps\n",
       "b0hzz+3E6tTo/Lo2ZP1ezMRo1ReAzAlnpu/STjkVpCLid+3cEDNYiL//bRXsVInHpukiFeVquKHU\n",
       "TlJMPy5vri5XS0OyU0RP1c8OIc+V3RhN1yf8XzQnnAUY7ZBTRSoi/vXyDpJnZ82sCjbcx2PTdFTF\n",
       "xjtVrZ2kWGJc3tys3Iknzk7RPvyAajQ9IcPK2O3GKPzaV2BuODVY3yGnilRE/NfKbxdnn0/SzVAw\n",
       "FbBhs8ljkzSn4td9Xq2dpFghZHIOmSBp9qYnTvGq19alHlAcVkR3oBrEgE8XniNOeKBDThWpCPhD\n",
       "llMnm+e3zABj+0nmj6CnoYJNFUyKTdKUgs6uH1HT4kix4X65uP4hr4ZmV2CJN8u69CjAmsHBwWr4\n",
       "sBqquzGaln2OxjniTDc65FSRioC/Rz7ZOtl+/jSkJ9BsVVfB1o7x2CQ1FIZMUclcdIodrEubq8uf\n",
       "Iif7KAx5BWJdOiOlOlvlmm7Mz01zyvlssUNOFakI+Ifl/eNk+/l7q9rxLGSVsOGXPDZNFRa43DhW\n",
       "EthODSwG8CvmWt4/IhMjKKoHVmNnW+HrdnO1N2ZmrDqy/eTSmvPIre8/ac+2oF/nPt9ctdjbSX2e\n",
       "/tV+bjizM//tkFMqlWD+k0HKfzII+VdYKKZ2XNt/nhI29clSbJoqqIgFuwfzVbZNjaBiAC8xfX/q\n",
       "J76zG70W5tbAanrdVjyH/m38fb/9VGT7nUtc+C7ccLNrKXPVaofdGOEf8t4aF06pVIL5j4CUn1ml\n",
       "WP4VGGJCFRuGyhw2TccA7Hnr9OAGjFaYYYUtx2QlqBgYH4fYxXUMmN/xDVE1w3XG47YJzOIPUXM3\n",
       "IXEZTd9GPbrUgiY0uXbfbdJqJ5kYUke9pkxMOOVSCV6kj4GMXz8Gfn7EuQJ9pl5OJeyeCodN04Eq\n",
       "2P66lZIObjHDinzJRFAx0EM8LwMEcDlsqQuqGXA+rTVhfR1yOuJeX8/267t8LlB0qaWVocW02/js\n",
       "9Salu4yJ/Vhx4ZRLJdhvdkjKnzok4EecK6zP2sPq2Okah01TRLfOmtJGJKZ02R1WBvmSJ4OKQfKw\n",
       "vDs+jwFTE5Afcau5isu2J9mKZk0IazMlZ3Ehl9hQKkKyzD1O1pYMrvYgEzuT07+37zDjwFncvv09\n",
       "EZbDv6gsxU/UpPyJmpjfXgTXwE3K2MVDHDZN0VyaRSXzEsiBhjuskmSVXhtUDFLHFdwtWyFXslwn\n",
       "TjV9Pm/M2jtut/rvysy4Iy5yiQ2L1+nfAl+7cbWLGm4M8JEd32OCcSAGnDoaU49X/VQu/4DccYFN\n",
       "skB+1+Dk+a1hpT14xzeVsZPHWWwn7S1BCnWFzJzEljgeVnnqY64HFAt1R3yKAXvRnHvYraaPy96w\n",
       "pwIvz8xYH1fDPkdc5BLn1bv+paq/3bja4bIbA/zHltYvUPRYNfKccCfKMfyOVIb/oNyv1NuU8uNs\n",
       "P781rAozM4eUsfXDLLaT9qLVb8/UlOzoy5hJhtXjl6Bh9QH+vmZAMciHbJYSCwXNkvoRt5o+NtvY\n",
       "c7qiYx/gQvY/tN24Wuyao466nbYmkK+DUXk28pxQeRpZZ3mf64nhH5P7pbClGshvZyvwh2JTx+dO\n",
       "4NICWmQvB/D/lMgdN0vpsGqeBb+lx0lstS09ZYcSUwzScnFhu3QrDDVt9W7C01w7OzEBQ6aiuO4T\n",
       "tRtX29tyY4ApK3obnoaNtrETbc5iPV83Kobv2WX4l8q/GRv+gfx2tgJ/KDacYLDdtAcVuQE0v2/X\n",
       "tUlPw7NQVS8vgfOggK1G/3GP04gyKHe86Iy4PnWr6WOz0aOUU93D2Cds96XuRN9LZPO6rYJC/qcV\n",
       "SESeExFuW0NcP5zm7/KfFmIolqX8drYCfyg21gYItpv2IE0tZ1qKE1l/tcmtcEFJNKwM+Buaw9Jg\n",
       "WAJZFzKsemfYYF0btY2PzFEyOTchc4JUs2Rq6q9TU3ud7GF0R5u/VRqtce22q+2tuDFpb9PeIs1L\n",
       "OY1P5p8zjzdxm4IlhPKT7ubwZ9yvWFaV8tvZ6vy4T0TY8HHgsEq2LI3dOhd0z8kPwJfzZtpkh5Wz\n",
       "CCKTogmPQ9LiXuj76rBFEDvO6CyAoCwTf6FoFhj+6k03me2JC1futHuhX1xTeArWtjfQkyFdBCfn\n",
       "nxMR3rKNlYGzhDj8gYsg/go6WwXw29lt8E8GYdNhJVgEoWZpZl9Brbnc8re3Knn40+DkILUBxqgl\n",
       "mK5pZXhPe+7aBnGfcroVLibanhItLrkRSE27Xlh+cWnB7ILT7pV+nWUnFsstcACLJdKcadCaxapo\n",
       "WDn8Y3WlRTCAHy+Crc6xqW4lUNnhydXo6Xh1G7xlXVlw5o/znG51kPqt0iMpM1OFbFnoPsXFoCj3\n",
       "B2nEwkqNWw5ap5o+Nju929nWnF27cbXYGKKbd7bNc5vehGL125Hn1Mt3ARzI+JyJDP9Bud9qqF/K\n",
       "b2e3yy/CppuLz/P+PNsvdqsVLQfDLr4g/8j3uGHluEMzu/JwDqpP7D4Vu0N1R2chq/QJAvgKbG64\n",
       "1fSx2cbr53zQmq24rKcYVzvExGSyLlot29+MPCccQIzFhURTsjUbO2L4Pe7Quzz8+NhvIL+d3S6/\n",
       "CJtukdMdVpLaK2TCQpyGjD3+FkDlXW5YLapSd+i6Zz5EtX7fWjsFmzd40Uzye6W+zfM/E8CNO77A\n",
       "VNPHZaff+MFsF5eTXr66n1Q7XHVjMLDFYrkTN5jR58xZ7tBTqKY06ag3Lv8i3gfvffdNoSLlx9lt\n",
       "8ouw9aMstpOOUlMgMw6pVQ89dB8aVpuynN8KH6O0vey3WZ/eNBpwhmA1x5Oi5yzpnd5iq+i4t8IZ\n",
       "PnGtgg4CXy0+FkwOB5M90NQ7cE8cOOHChv6W4E6Xf5hzDehepSQ7IuXPjnQJmxxeFmw141As/UFv\n",
       "4tkq08c7bCvOsLJ3P6/Mm/ZT4/XrVvjpEIfPeYtdwQI61VzFZXcqLlztc0zs7Cw/8uHXIA6cRt9+\n",
       "oZHm8Pdy+nzCu3+YHpfy4+wuYJOjWRSbps5GeLr1LPa1I+3pTd5irTnDyh53t58PRk1g2JJrr3Ka\n",
       "bw3WXMZN0AOmCyioZsDsXFyk2nuZWLAFGBfOID8Cx3QjePhT0yDjT013CTtX4rB9J8/1SxqwFikY\n",
       "+qt17MZ1n4RxZ1g5U5vAOUt/IMX9/CtdRWbDGPsojZZdQEE1o+XOxVVkbZQjQc7/uHAGhAQ331wK\n",
       "Hn7jMMj4jcNdwib2IMWmKbcHYDzzkODnR3hkF1mdNgFBxTzP8aOQqEOB7YGcNXm/E1hNrtKBuLhq\n",
       "8YsA6OsACiPS+SbCnAGBm2/QBOLlvx+k/Pd3B5u+dYFiC06eyz2DysWG2ef4YihMQ4Kd2FPyVT01\n",
       "Dl0K+ZobI3O4JXYYRp9TRSrpso8/5C0/F3QHG57isUmqqZxxnf3PT40Ja5s8wbqIDPlhbeNot8RV\n",
       "KLtx2M9Po8ypIpUt4OMfrUrvDslWxYYXeOw2fn6qavVc4Tcy8vbK28PpC0/Ja3mqW+J6n4kBvuTL\n",
       "jwunilT+CD7+fE1lsukUuzjOY5M0ofKztGVqI5sUy5Dn+EzHa8qf5i805E9Bo0vieoF9msA/K8eF\n",
       "M6S7k1YyIeB/UX77i13BppPsCR5fabexR009pcXwL32K1qbjh/bHvbxWIn9OUrXuSKtYc2OxQR0X\n",
       "Tnl3v4/uLLYE/B29R0kRG/7FYwvNNiWjI7wYrvNnYw16htRj3KyQV7OiO+LC75ulb50VvaIrLpzS\n",
       "7tY3HaeTrYc/Kz+hl+3vAjZ9Ky7FFrziTBJm9ZLH0RJ5ydNiT7Etcq10S70b0jJecWOQvuQx8pzy\n",
       "7jY+oifOPfzGa/Ivfq1zbNhS5rHbesmjqkuZFCOzVvoYfv1Gsun87AwHbbW0lpBsxYBP0zpnau8N\n",
       "nl0jzxnS3Uvr+Giwj/9GudRuNDvGhp97sEmaU5tzs822iuE3cmkf41OEd5GtRDfcLK/m5m6I63dM\n",
       "jB4f4TIeF055dw9V8C9hfPya3KjQGh1jG1Uem6bL1EasvqutYuvxVPgb03qetcnBwQmY59BTFl2N\n",
       "C6e8u3PT1u+H55WfYtP0FcX73m2rWBHrjsv2W7ZKz8zMTG2+xSX+ox9x4ZR3d+aEfVBlPvln+cdJ\n",
       "ZvenlLI76xCNkAno77hwyrv7upURwabpd5TvXN5Wsaw9GSY/ioi04CcBa31cOOXdvagUEWyS6uq2\n",
       "zKz+TOXKiEjLCGxnXDil3Z2tRwObpvgvTPwPsu5yPDN6GkYAAAAASUVORK5CYII=\n",
       "\" style=\"display:inline;vertical-align:middle;\" /></a></dd>"
      ],
      "text/plain": [
       "<IPython.core.display.HTML object>"
      ]
     },
     "metadata": {},
     "output_type": "display_data"
    },
    {
     "data": {
      "text/html": [
       "<dt><a class=\"ProveItLink\" href=\"axioms.ipynb#_Psi_def\">proveit.physics.quantum.QPE._Psi_def</a></dt><dd><a class=\"ProveItLink\" href=\"../__pv_it/axioms/49753eae3adcb021158e8a9c66de5119b10ecbde0/expr.ipynb\"><img src=\"data:image/png;base64,iVBORw0KGgoAAAANSUhEUgAAAJgAAAAmBAMAAADKLE8XAAAAMFBMVEX///8AAAAAAAAAAAAAAAAA\n",
       "AAAAAAAAAAAAAAAAAAAAAAAAAAAAAAAAAAAAAAAAAAAv3aB7AAAAD3RSTlMAIolEdjJUq7vv3WbN\n",
       "EJlNEWA8AAAACXBIWXMAAA7EAAAOxAGVKw4bAAADIElEQVRIx42WS2gTQRiA/91s0mSTTUJPBZUG\n",
       "pCJFMdeemoMiqKULgkEPdvUiBdFcbD0IRkHFB5KCGj25vWnpYUU8FARjDz4O2j1UxAekolK0l1bb\n",
       "IpQW57W7007KzByGzOSfb//3DIBkZB1QGdY7FalZUBvHfLlMuqEIS1fkMkd9RRhclYtMCjttxdaS\n",
       "n6SfTawqw7JSO82CsGVsooG2IIMNCCeTb35tkiyXAfLhIt5C4Ly4pRO+xm/ZZJ4A2B590xZPrsAm\n",
       "PtN5z10hc6dDYKeu3x9Czp4RDsaxH8qP68M3HviZ8Wtjr289gozDwUpkPkP9O0M1S9Xw7IqZOI/n\n",
       "3ipAj51zoN+DwfUwGh+ThrOBYIkuMF1o92CHaBLJ/04U9LTzETAsCUnOTItqphO+MY81e4thYz50\n",
       "CLBUJYBZpS0Epvs8LEHdrFXJYgnD9tima60BZPIbYbkCg22D0mECS+fb7AimM7mXxMHLGPbCMd34\n",
       "IkILGZrzGOwJWfbjZTbPYNNzCHaA/HGS2LyCYWc9042tBBHIjpFRYdEmMG00gtEKQLDCIHyBfj+K\n",
       "wCKGNWdM11hCq+9CAVBY/cJCBGOpW4w7v5HCKWJjlhj9B8OSNdM1cdzKG2G9RWbmNxFmwR2UGVmw\n",
       "UPrEiR1rGGa9N91uPzC9hWYVOBHBMoHPUEcpwDQkGoG3CQyMi/VSGBTeZyEMIliTaYaSVHOgT+ue\n",
       "tNkHFmkFmG6ULvzo9ETY6RBWTfuxIqmIDlbIBJarRYnMjyZReKDKwdrHuxgsNqLDU3QWOYjUjrZM\n",
       "C33q31AY4HUVgGu/PFU/hxex2Yf1nwCvAs2gvHMvMq8nyKn4X64FseLnR6YqtqDVEAZH8K/9lk37\n",
       "DQoIB7sk9vWasBWrRbA+/OsHKlcaYJeDWeIVmRbvE6PyIYSRhDj+DL7S5lrhYIYnXvrLorKl3SGs\n",
       "xPYOBoW8L2peLe6A22LznSNdw+B7PE2d3rzkdpoA9bFLJtAsqsPuyQT0hjLLqElF7irDUvKH3HNl\n",
       "2CG5SMZTZGkjCs/LUUXYZ5Xn6lbF195NJfVttQcyzqH/HLHG0BMnwbEAAAAASUVORK5CYII=\n",
       "\" style=\"display:inline;vertical-align:middle;\" /></a></dd>"
      ],
      "text/plain": [
       "<IPython.core.display.HTML object>"
      ]
     },
     "metadata": {},
     "output_type": "display_data"
    },
    {
     "data": {
      "text/html": [
       "<dt><a class=\"ProveItLink\" href=\"axioms.ipynb#_best_def\">proveit.physics.quantum.QPE._best_def</a></dt><dd><a class=\"ProveItLink\" href=\"../__pv_it/axioms/437be8f4e388c69002d298cc9979fda779cc343f0/expr.ipynb\"><img src=\"data:image/png;base64,iVBORw0KGgoAAAANSUhEUgAAAGQAAAAaBAMAAACz5OTWAAAAMFBMVEX///8AAAAAAAAAAAAAAAAA\n",
       "AAAAAAAAAAAAAAAAAAAAAAAAAAAAAAAAAAAAAAAAAAAv3aB7AAAAD3RSTlMAELvv3c2ZVESJq3Yi\n",
       "MmZ3LnoBAAAACXBIWXMAAA7EAAAOxAGVKw4bAAABUklEQVQ4y2NgwAtiGIgErDAG4wdMyTb8WtgD\n",
       "SNXCMyXyAqm2sBZgs4VR2QGrFp60oAsM/AJYHcaagFXLIQbOHwzNDFi18Bdg1bKGgcGYYRcjVr/0\n",
       "C2DVYi/AsP5ANqcANi1TsHt/CQPD+gvX3mJ1WNTu5ThCzB9F8C4DQ+snAXCIfRWQPwAUSXEBAS8k\n",
       "Lby/UbQkMPDGdU0AaWH/yMC8AastLAuQxdgvMHAxMCiAtLAFMPBPwKolCcaVByUbTgaGhyCrgFpY\n",
       "JjD0F2DTwge3hAUUc9wMDBsYGDeAtACjJV8Am18qGXgOIBnDxsBxgYEN7H3+C4x22EKMdwIDN3Kk\n",
       "sD1gY2BcCw5krgdMCdi0HElLS0ERDN16L6UBkixX5mGNSv///7+iCPL5f5lAROJHAXlE5RcUYEuy\n",
       "Ft4PJGvhdiBZC88F0v2Cv7hwcbmAQ8MWFzcAl5lP/7iIDfIAAAAASUVORK5CYII=\n",
       "\" style=\"display:inline;vertical-align:middle;\" /></a></dd>"
      ],
      "text/plain": [
       "<IPython.core.display.HTML object>"
      ]
     },
     "metadata": {},
     "output_type": "display_data"
    },
    {
     "data": {
      "text/html": [
       "<dt><a class=\"ProveItLink\" href=\"axioms.ipynb#_delta_def\">proveit.physics.quantum.QPE._delta_def</a></dt><dd><a class=\"ProveItLink\" href=\"../__pv_it/axioms/96e922276e8aa9c462a0be195194aadfa0c682160/expr.ipynb\"><img src=\"data:image/png;base64,iVBORw0KGgoAAAANSUhEUgAAAH0AAAAyBAMAAACDoMmvAAAAMFBMVEX///8AAAAAAAAAAAAAAAAA\n",
       "AAAAAAAAAAAAAAAAAAAAAAAAAAAAAAAAAAAAAAAAAAAv3aB7AAAAD3RSTlMAIpnN77uJRKsQdlRm\n",
       "Mt3eazepAAAACXBIWXMAAA7EAAAOxAGVKw4bAAACmUlEQVRIx51XTWgTQRT+svnfbJpYxJtQ2pPQ\n",
       "QxERq4i5COJBVvHiQQneFKQFz2IOEvAHGqhCESQ5Sb1oQK+aogc96YLidUMLtf7SCFrSGOpuZjaG\n",
       "3X1vFucwM8ybb/ft99588xag2nnw7V6NNWdWFPj8Z9ZcpV98SowvOLgxQ9v2iyFVYfC7i7StJ8dv\n",
       "DP4LbUp35eQZzaBRovGptpzEJ8g9iTKNj99abgpHOuSeJ0xw67NZCTxE7tlgqGnVcHI4I3Kjz+Cn\n",
       "gN/SkwaVfAx9WEdaRjDZpujjUqMHTUbQoAi0ueTv4640Z/9Q9DPZhzs4401PuN34gdP+LWe5o7F0\n",
       "cejdBbcrp2/6txxHtDbndgE0sj8j4t/NO91yMPzbEfG2mwD1pn8514uIr7snKNkNnL5+RHzByZPc\n",
       "7V/+ZV3kRd5C+tg5Fm8Cr7DgHgPtx6ANEi8lPNKA96+rHD4xg1gHLcu3LPPzOVBBksOPtZExYfvx\n",
       "mc3BUIZRc53A4sC17+7ajtcEvoTCCmyE4xvQgfvs+0uoWw4Dvu+X/k/gGrBP4X/BwpGAQgr+p50n\n",
       "LFkK/lKNXOCw6yL+8cNHX34Kl9DiP524/BBU/rzdWSfyzot/uILntmQcQ2RkfMq5mJ96zwmX+bzU\n",
       "lUTw42Mm5ub3rF0ZOT8hTZ5fO0RZi0iUhoy3muH4NTE8DmG8i0wHXYXO3RDD3pD3OxnbT3vyvkDp\n",
       "ClebjG3qlQe8ztlNVnS0xiVB5vb/3B8byE9b/P2hMfeXZo6SQZQYWzT+zYj8UPcnVkl4roxdappp\n",
       "y0fgkbpKIOuX2OrkpPfVTP1idKngO9LllYZJJkoHI6j/dSbLPhTV+K+MTTeVcLZ+RVWJv8pa401V\n",
       "/T7L21X/D4sD9v4CztG7iYxhgBwAAAAASUVORK5CYII=\n",
       "\" style=\"display:inline;vertical-align:middle;\" /></a></dd>"
      ],
      "text/plain": [
       "<IPython.core.display.HTML object>"
      ]
     },
     "metadata": {},
     "output_type": "display_data"
    },
    {
     "data": {
      "text/html": [
       "<dt><a class=\"ProveItLink\" href=\"axioms.ipynb#_best_floor_def\">proveit.physics.quantum.QPE._best_floor_def</a></dt><dd><a class=\"ProveItLink\" href=\"../__pv_it/axioms/0e82dd42d26199effba99054b273dc7d693606b30/expr.ipynb\"><img src=\"data:image/png;base64,iVBORw0KGgoAAAANSUhEUgAAAGoAAAAaBAMAAACtLdRlAAAAMFBMVEX///8AAAAAAAAAAAAAAAAA\n",
       "AAAAAAAAAAAAAAAAAAAAAAAAAAAAAAAAAAAAAAAAAAAv3aB7AAAAD3RSTlMAELvv3c2ZVESJq3Yi\n",
       "MmZ3LnoBAAAACXBIWXMAAA7EAAAOxAGVKw4bAAABfElEQVQ4y53Uv0vDQBQH8G9sev2RpLnBzhX8\n",
       "E1z9USQ4uLQIgopIkdJBoXZ1E6QOLo3Q0aGDIILSDrroEsQ/4CY3pf4BQhULgkPttVTu8I6Gvil5\n",
       "x4d39y4vwLjYRviIjh6Mzv/Fk7Eqlp9A2fVNNkGtaEVVy5jN6pRdWmNwqXKH0YJOPSLxjWMolVvR\n",
       "qWtgDveG8lw1qlNLFM1gP0FVqq7txgXQZM/vyh1uPVzqe5iTki9A9ZMOetilmWCYLHo8VgXl/Eiq\n",
       "AGfn1Ocq9oFIC/E9ZS2zIeZiDElghiuSh+sjkg5Uanf0muHfVQJ44wX7yvRRq6CqPFfqr5TJL9UC\n",
       "WjBaXPWv64Bay2eqcx3CFrdAEGcgg264zFgENlS1HB+WeFmkTWDcDDqfbE/1q8+r1FOpVJSS63ev\n",
       "xaPh13tVVo0eV7leryslU7kvX5iUeF47KVKUpfmyGuHUgqRIO5RyOpIyg1DKyopqOo1QymaiIufh\n",
       "1Pi/jecxzdKtt/ILLFBXqSJvJI4AAAAASUVORK5CYII=\n",
       "\" style=\"display:inline;vertical-align:middle;\" /></a></dd>"
      ],
      "text/plain": [
       "<IPython.core.display.HTML object>"
      ]
     },
     "metadata": {},
     "output_type": "display_data"
    },
    {
     "data": {
      "text/html": [
       "<dt><a class=\"ProveItLink\" href=\"axioms.ipynb#_best_round_def\">proveit.physics.quantum.QPE._best_round_def</a></dt><dd><a class=\"ProveItLink\" href=\"../__pv_it/axioms/f4e6a6731694d0ecfec6206c9173d43fddce15d70/expr.ipynb\"><img src=\"data:image/png;base64,iVBORw0KGgoAAAANSUhEUgAAAKcAAAAaBAMAAAAgbFF0AAAAMFBMVEX///8AAAAAAAAAAAAAAAAA\n",
       "AAAAAAAAAAAAAAAAAAAAAAAAAAAAAAAAAAAAAAAAAAAv3aB7AAAAD3RSTlMAELvv3c2ZVESJq3Yi\n",
       "MmZ3LnoBAAAACXBIWXMAAA7EAAAOxAGVKw4bAAACsklEQVRIx61VTWgTQRT+Nlk3f7ubFU/WQ4uC\n",
       "Bz0oFcTiLyKigqSIHhQpQWKxFdKAIgiCAfWih67YW1A3Iqho6aIU0SouKoK9ZEEUBG1WPHgQIRVD\n",
       "A1Xrm92GdLPbwyYO7MzszLzvvfe9N2+A9tpR/Mcm5+2BqzRvCG2AnnGGSG/zhtjVMibngIkjh83m\n",
       "re8tg4YsZ1yS82zxCulctSMQ3PuNrH9FVvYfMJFUPAcSGlOWDmbkDOsGgJeI1XDBh5lp6pK5QJhR\n",
       "JoMa8ADYgKech1P00TesBAKNMbYkQt6uYMw4GfNKH6NvJJj3NlsJQr4NjJkffnhPPKLvyMQdH9mP\n",
       "XW9ukFkTd7EiCxRxpfj2oQ5MFsqMrbiTUSmXyGfg0k/Fdp2rKp3G/HJmF2v72FRdrV6DuAclQz0F\n",
       "uQJ1jc79RnQL1jF/Q3aGS7Mu0DSkvssqUDYRmUZY9xgqWgcpwrwO/nouQ4ZF8zsh/sEyC8dtDjQ7\n",
       "I7WFIhETcYC0lfIQepFUPaCS8pf6ISBcxGbSynE1pp4W9tpw6XpEnCyqsggCX5i56MyDVzGcWyRz\n",
       "ukmtTrMSOVRhRHaDwOuWyg1Dd7PgATo4cppOU5oOKctHC5qbU4HiyxFnNw2avbBDk7SWzjJ666Bn\n",
       "IRqu8hQ1IRDjZQNJk9uGZ7fQVG54RglR0IOQhpWyElZxXrk6Q+DnWPSJOklFYmGSCpYAbtRJ/LgV\n",
       "SiO/v9n9EquXg6A9QZN6Ysyncdlci9NpO0/XA6/7+zMukUPjUxkm9ZV8vJf1q7UX7dtTOMEOPJ58\n",
       "zv47vqHjyaf75jzjqbm5qrtup37ZER+sp0PQyrrJbzHbuPs2H2pA0AG/xa2NKsVa3AwI+s5nTXI4\n",
       "lLVWK3/cJ7UTTrXnjTbfKPfVNtt8oyjzF2ltvKb1d9/b2J36B0YusI2y5lm/AAAAAElFTkSuQmCC\n",
       "\" style=\"display:inline;vertical-align:middle;\" /></a></dd>"
      ],
      "text/plain": [
       "<IPython.core.display.HTML object>"
      ]
     },
     "metadata": {},
     "output_type": "display_data"
    },
    {
     "data": {
      "text/html": [
       "<dt><a class=\"ProveItLink\" href=\"axioms.ipynb#_delta_b_def\">proveit.physics.quantum.QPE._delta_b_def</a></dt><dd><a class=\"ProveItLink\" href=\"../__pv_it/axioms/9c6dd005645132e987ea00ed0bf076438075b1060/expr.ipynb\"><img src=\"data:image/png;base64,iVBORw0KGgoAAAANSUhEUgAAANcAAAAyBAMAAAA92lO3AAAAMFBMVEX///8AAAAAAAAAAAAAAAAA\n",
       "AAAAAAAAAAAAAAAAAAAAAAAAAAAAAAAAAAAAAAAAAAAv3aB7AAAAD3RSTlMAq1RmmUTNIjK7EInv\n",
       "3XZ/CtNrAAAACXBIWXMAAA7EAAAOxAGVKw4bAAAEdElEQVRYw7VYX2gURxj/cnu3t3d7f1L6UIpW\n",
       "T/oitGIEKxZqc9BUbNF4pSB9KCRKQY2g1/algsWtFF9qiQUpPf/g+iJEJTnFJ6FNfdHGaI1tFdGm\n",
       "uTyKVNPENPEE09mZb9fsZeab1eJAMsv9dua38/35zTcDoGk/kGjKoUenD4q+x4UIramFhF/Ujf9W\n",
       "sFi3opDNoz+lqkJ6rog+NiT6JRG4jE4SXqGGPsH+tOjsZj3ZrjKFJi+qsXHss+iH3/Vkf5FotqaE\n",
       "EnV8iF0S/evaEDF+JuG31JA91GBPs6gjy1RJeFANmQtGC+KpQ3giMaUju0+uPVdXY31daZzdxNDY\n",
       "qCO7RruMiLClLvyKTqsHv5DNmibhbkI+VgM8QhF5jGutaeSDjo/5BHYbEn7wH0FlG9LEB52J54FK\n",
       "s7jv0VYRIYYmQrpJYbQmCHAaTvmD+8RDekITjKR+5KZIhT7QaJ/zNNlhVKXVAzLWFOXRY2cDq/jO\n",
       "Yr7jtK/KRwygGsAHsrDN7IdIzR4TfT/Au16/Wb7zPcCglGdIXzEamTGJgVKCrzw7yb/RwgzJyYOy\n",
       "uxaNzJ+GvW+yz7YL0rdimCnpcblIFKKR+QZiljCYI03F+n0BOSq1Y6sTjQz+EV2eGejK8PAgHduL\n",
       "lu5XJ4blQGLHQZLsIZKxWdYAKN6161gaNPliEB/mTfiwn683DrD3DbpSuYDRy0qMTyHZDNZWXw4H\n",
       "zh7yowwFZ3c5Nh3gs9p6TrbYy54USTaMmwTLt5Rrl0QVZY1WStmy3et7qEkkyMue+ku+fSH/XwXD\n",
       "9ZYHx/mib3KDzWATE/yJZEwEYjUvPn5hf23M4wbs+RzCZBNgjXFcSlaDHEAvubJZZND5tpcLo25O\n",
       "CEwxyFVhxvQ085qHN/pMmLEIHwG8H9WMcKaLBd6tXLFHhMNnQUTbUyjgZsHDG+fo59H4DqM75kQN\n",
       "ENjFPjTVYnR+yH/qtZ+Evsizn2ARx+eEPqcwt29Zfl1Osjm873H1b2KDMk68eUWlUilA9RycCCe1\n",
       "fa/KcUVSr5q5rVAOFGBABcn7tslDpvANr7gWt8A5X64mg4EePkeuSsKzkh022bbVgRjaIo3FSJ9f\n",
       "F2bdN1kOeMuIQ2Jo7lbs4Yp9PCNx2E6wJ5M/bnMahRjnba9B0juKLXvh7veBwR48Ue72uRKPZumW\n",
       "WPAlgMssrMJ6Hhbuk5VKKTTmBl02CjP9LYGuurCwnHfDEksXGWStFhR6X0igV1jKOx+HtQFFQNla\n",
       "ySLWqFPoCIymnVD5MKAp5cjt0Rqnt+d2W3zrbuHu5OPnVqSyc8DXK5+qSI3T5fdaAnsv5EDuOk35\n",
       "nZgk4Y6S2p+zbILmy+vqoz/o2FfXcq9BstwQR626c+6zhqNVhZzbcIq79ryOuV+2ta0LjB31mEun\n",
       "knrhIzMz//rP32HFr78I2UaiZlVfNPp3FB3626t9pJ5ZF/VkWRSG3/Sv5uiTyh39DE9xnfTMF2WB\n",
       "FXEH3RClTjfp08Mm3fi9eAXYFelU8D8vN5HkOOf8D7ABLvciRM5qAAAAAElFTkSuQmCC\n",
       "\" style=\"display:inline;vertical-align:middle;\" /></a></dd>"
      ],
      "text/plain": [
       "<IPython.core.display.HTML object>"
      ]
     },
     "metadata": {},
     "output_type": "display_data"
    },
    {
     "data": {
      "text/html": [
       "<dt><a class=\"ProveItLink\" href=\"axioms.ipynb#_sample_space_def\">proveit.physics.quantum.QPE._sample_space_def</a></dt><dd><a class=\"ProveItLink\" href=\"../__pv_it/axioms/5625eefcfb050ef65b8087a6c51183ba94f224dc0/expr.ipynb\"><img src=\"data:image/png;base64,iVBORw0KGgoAAAANSUhEUgAAAqEAAAEaCAMAAAAWmX5HAAAAh1BMVEX///8AAAAAAAAAAAAAAAAA\n",
       "AAAAAAAAAAAAAAAAAAAAAAAAAAAAAAAAAAAAAAAAAAAAAAAAAAAAAAAAAAAAAAAAAAAAAAAAAAAA\n",
       "AAAAAAAAAAAAAAAAAAAAAAAAAAAAAAAAAAAAAAAAAAAAAAAAAAAAAAAAAAAAAAAAAAAAAAAAAAAA\n",
       "AAAAAACPpJ+zAAAALHRSTlMAVJl2q0QizbsQ3e9miTKFr+Ew19vjQMHp0dXZ5XCl96mRfPmXXmCh\n",
       "kyDnUOZAw78AAAAJcEhZcwAADsQAAA7EAZUrDhsAABIaSURBVHja7Z1rt6u2EYYFuoAE0snJSZM2\n",
       "bZqs1Sa96f//vnK1wca2jIQA650P56ztvY2G4WEuQmgIWSkyIxAvsU5yAEUFP6N5a1uCMU9Cg/3R\n",
       "xsJtKU9n3dwyIJYKoQ2iSpzMuBQeNCVCW0TPZVturY/bX7wfDQidZvkiDKGhqoWzxUxltc/X9VLm\n",
       "XQZA1O4hmxB6sYYfocGqBWntmVyIpwtdJjTLI8XNPWL1u9/kLMgpBfR85amcKLMFCU4oUSD0IoUI\n",
       "cUohq4Xa0yvFDvJ5KEJ5ff00A6EjDjrEKfGQUPFThXlraShCs+uRRAlCB/n6fYhT8qwW7hLRLHVC\n",
       "J6EtcUL1NxPg8DxsXLa2PhOh9RaEZhqEdu7qBxbi8L7VAgi9I9S/VvoMQtkPIsThfasFEHpPaM5B\n",
       "KCE/Kh3m8J65WPKE5qqVqur+68OaYSCUkJ/+LEHoQX3oNRGN/nzHxxhBnkY9+oXP064ahAYm1LuY\n",
       "P6sPnUL5l5/JFFJ7FKRAaIgJ0XMSOvOZ9V/5jFkQuk7ZL1sQ6v9Q6YyE3qQmf/tpzu2BCP2SPKGK\n",
       "JEjoDaD6FzExsyehXxImdIsoH2Bx0+kIva3tZDG3sx+hf0ce6k/oZOVIKRIk9OYjxl/9BQiNTOgj\n",
       "95FWLT+KKUMeHoSGJZTWIFSKoIR+AaErhS6tNGQEhIY9fMKzTd99d9DFrCB0O6QOe9FPdTuB0O2Q\n",
       "SirKg1BEeRAKQkEoCPVGaNvX8UEoCN1rTBD6UtkvIDQ9QhN6Lg9CT+hHEOVBKKI8CAWhIBSEglAQ\n",
       "CkJBKGp5EIpaHoSilgeh8KEgFISCUBAKQkEoCAWhqOVBKGp5+FAQiloehCLKg1AQCkJB6BHGxFsg\n",
       "IPTghOItENTy8KGo5UEoojwIBaFrBDs6rJfN+st/DqEB+svDh66X7frLfwyhAfrLg9DAhKK//ERC\n",
       "9JcHoYEJRX/5iYToL4/dGYMQiv7yS/JLfrxaPqndGdFf/sU3f/0xCKFYORKWUPSXH+W3IsjhkYeG\n",
       "JhT95XuRvwoQekhC0V9+iCW/ERB6TELRX76VH/8hQai3sgG6Jj7tL59e9+7Lkcif/hno8Fg5EtyH\n",
       "eiei5/WhF2Jv2UUtfyRCU+0vP0Oy+n32AaL8gQhFf/lGvnydfwhCD0Qo+ss38vX7uWMFoQciNMX+\n",
       "8rflkq6nZgahe9byd4Siv/xdg2iLt0B296HoLz+TsP3lUcsHIPSh+0iplr9I4P7yyEODEor+8sH7\n",
       "y4PQtYL+8u7fBKEfpSwIBaHHLutAKGp5+NATEYpaHoQiyoPQTyYUO4uB0A8dE4SCUBAKQkEoCN1M\n",
       "DvtyPwjdDqmkdnQAoSf0I4jyIBRRHoSCUBAKQkEoCAWhIPSlslg5kiChWDkCQo/sRxDlQSiiPAgF\n",
       "oSAUhIJQEApCQShq+dBj2rCCWh4+NNiYsmaFKsKOKZQqX24HjFoehDqMmRUFNXKDYSXXiglEeRDq\n",
       "NaYpcrnh0KZgEoSC0PVj0gBbUT0XrjgIBaFrx2T59qPLogahqOXXjfntjyjj/6tELQ8fumZMlkVS\n",
       "QGvU8iD0/TGpjqZBmSHKg9B3x5QqngYPxgKhIPTJmHkWUYXlrVdnV+nBpIIBoYkSKouoOqiXV0kv\n",
       "z0qVBoSmSWgd10CLT0BdCH2juwV2dPgoQksZVQeeryT0jQ5B2NHhowgtIiuhXiH1iFD3LmuI8p9E\n",
       "qGCRlSjW+lD3TpXJEqryDySU68jGWMoqnAh17/abKqHSFh9IaGYjG8MaF0I5ZVJoWlJitC57Zp07\n",
       "pifrQyX5QEKljWwM6xTlNSkZbbWrm5+y6r1aCStHPqpSsgdQ4o5Qzolq005h22aq9fCdYabqZbTH\n",
       "yhEQGpzQL3NCZeM9eZeDtL46HzIKw9y8Pmp5ELq1Dx3z457NakhA+0Q0K0AoCN2fUNZxqFomuRV9\n",
       "2tuGd6FVoQ0ITaeWJ9FreTdCO7/Zh/oGVtH+fpgQLbKIF/1cPvQj50PXKrLaGG6Eim5Sqi+RSk26\n",
       "8D48VLLywwhFLX/GKM+7mSXa3QY8p1313k828eq8Fx156MfU8ksyLG6ijEjkoSB090rpXob3pXNK\n",
       "tAShIPRwhI4rrU1eGwJCQejhCKX1+S86CP0IQumyi2QEhILQQxD6wRcdhH5ELQ9CQSh86DkJfW/z\n",
       "N7E3oeL9P3iH0M2sEYVQehpApbWu71/R9zY24HRfQl+re6/hG4RuZ40ohOodmctySinjjn9trHV8\n",
       "MdXxFQOhdd6/lEDroIRSluesv86CKWsZY2XZDmGYqqrmJ1ZUVT1Xt/1D1W0Lxipb3EFyp6E7oRta\n",
       "IwKhyrLd+BRF9yKWLAq3txBq6+irxvlgqZ4GLNk+ect6v1zIcISabpkZocoMN1ZnYlF1WvHB4LLU\n",
       "t+pqO9yr893BhrO41dCZ0C2tEYHQ3Ba7EaoqOURvNx2Y692UDybKnq+coe3lGAav82CEijFxor3L\n",
       "F4PadReuxp+IZLfqFuNh5lt8D2dxq6EzoVtaI0It30ROuROg1OYX9FzuuiYNdcwHxgUz+fO3tXjV\n",
       "Hm+4PSoZitDisl5HqSmhxqopoSS/VdeO75DPb8TxLG40dCZ0S2tE8KFNmN+rVCovZ0KdnKN2daGX\n",
       "NwuUQwKWDVpMdr0eW128sevA7ID6eg/SCZO8u/r9T7x96fFGXT5eCTlXezyLm325XQn1tMZzY8Qg\n",
       "lFu1E6HFhFAHFoR1vbHz7lJwVtqSvbr9uBqU0Ff8RZ9ADv+9Syi7TjiYCZPtHZZdfqL8Vt3298N4\n",
       "9eSXk7PQbBWhntZ4bowYhDaG2amavw6cX/14ribCZvVC5TpPV1wSr5c5DmVsxGKSC3eX4w1AZxeq\n",
       "uOYizU11YVLSvnhvPmsq+Wm+MqqrqtvwPz+LulhFqK81nhojCqHNTc93IVRcCiT1OheWyn1bNzU4\n",
       "sdylABuq18tGA+NVeQfQx4T2mafSWo9zkh2vouR36spLEnOTho5nkVWrCPW2xjNjxCG0r+J2caJy\n",
       "Xvw+nWlyB6bid4mXLCaueX6kqtfCzOtx9RDQV/0uJ1Ge234jg3J2X4556PjsZlB3TAGJoItp6I2G\n",
       "xLXxpr813jXGBo8py51mnIashxZOONdvEipfxQZj+oIt60tZR0JfV0r59davHxAqGw5EPVP3koZq\n",
       "MZ/B4Jdie5UP9bfGM0IXPgu/4WejwC4TTpKYHk0lro+CH+ahTbLqiugQ17rE69mZ9RNtwzXJVKAo\n",
       "T8r26vLsklkuEdqFBTNTV9vFIH89i0z5RPn11tg9youq2mdGtIk6XXtIkRPiUqwp13y5pJfEK3uG\n",
       "WcUmca0uA1VKDYOaZFzS64z9MqHFXN1xQn2Y3pGTNLQ/i7pcRaivNfavlNROhRJhddbtN8F15vQM\n",
       "g9vKEf2eAcaaAvppbltP0r9cB5ptap/mUtquORjiq5k9MjMjobqaq0uK1ghiqKYvz9muZ5HrVYR6\n",
       "WmP/2Sa922NPbfu1SrV1XGBVOZ666UOUKF/1HeB5no9V9aSV6jjlIop1hLatXxntHuGYBrnCWnap\n",
       "doZ1JKysLp7VjBFVlyy/GGJMva5ncdPs1ZVQT2s8N0YEQt0fJe4vzmsI1PupuvB6brFIS7tQo1yv\n",
       "biafa+j81HNLa0QgtHYNnQcQ7rqGYMUykLwOTigrTK3Wq6tfaOhM6JbWiLBypLTlaQg1zv7+7f7q\n",
       "ws8Ky8syXbOXRXVvk8Y7Dd3Xh25ojQg+tNp1BfPbGYnjuct3gStFeEJJXrH16tJXGroTuqE18BbI\n",
       "2nMX750V9XxRyfctkNfq3mv4xlsg21kDb9KdRFm86wlCQSgIBaEgNBCh2NEBhMKHglAQCkJBKAgF\n",
       "oSAUhMYlFJ0WEiQUnRZAKGp5EAofCkJBKAj9KELRky6EMUDoZsqir2cQY4DQ7ZSVBIT6GwOEziX8\n",
       "m9gg9PB56GEvOiqlsxIaGCnU8p9EqEQtD0IPTWgW+4WJ3IBQ1PJvjMl1ZGMsbUgIQsPIR86HChbZ\n",
       "GAWi/I2yWDnyfMzY+8eoGIRi5cgHEVrG3SSO59sjhUrpowilcQ2Uc0R5EPrWmDJumFcEhILQ98bM\n",
       "Y274vuyxQSgIfTJmTCcqFQGhqOXfHZPG24erzOIQilr+owh9xE140ToKUojyn0Yo+fmPKOP/u4xz\n",
       "lUDoxxFKWIRAL0tKQCgIXTmm9twO9bVwxQkIBaGrx+RFvuXDJVMyQUAoanmfMbOioJs4Uml0wURE\n",
       "pFDLfyahDUo1K1Rhw4pSxctnAqjlQehuY+5xlUAoCAWhIBSEglAQCkJRy4PQfQhFLQ9Cj+xHEOVB\n",
       "KKI8CAWhIBSEglAQCkJBKAgFoacmFLszJkgodmcEocf2I4jyIBRRHoSCUBAKQt8xo4uAUBC6G6Fb\n",
       "3wBYOQJCkyIUK0dAaGBCsXIEhG5GqBSI8jsqu/iKogGhEykNCN1RWc2fXRMQSghniPKHIzTLQehF\n",
       "ChGC0L+jlg9J6PJGwmkSWmtyQEITquUnhPLrkXQGQgf5+v0RCU0zyk+6t4kShA72+WaCEIpKKSyh\n",
       "k+QrbULlD4yA0CMSmmkQ2gr7QYDQQxLqXyt9BKHmmyYg9DC1/IzQnINQQv7zX3lMQlOr5XPVSlV1\n",
       "//WJl7nOU6+UXYxhQ2jr8vm7gigf2od6J6Jn9aFTLP9XkSmkPj6UgtDAhHoX8+ckdO41q9/7z7wP\n",
       "r2wOQsMS6j8hekpC51H9y1cy+3j94ZktQGhYQv0fKp2Q0Nvc+fo4qf/N+sNzayUIDUqoIukReguo\n",
       "rmd29jolFTQRTWpHh2VCAyxuOh2ht1++aVjrRyi3lTzORT+rD52sHAnQHuv086GMhzwlbRmivC+h\n",
       "D91HkoSaMuwpsYDlPAilNQiVIvAp0XBeNClC6VJGwwgIDX9KIgOhh1IMhKZ30ZeVxY4OCRKKHR1A\n",
       "KHwoCD0UoUddrgVCQegJBYSCUFx0EApCUcuD0M8lFLU8CMVFB6EgFISCUBAKZUEoLjoIBaGo5UEo\n",
       "ann4UBCKKA9CQSiUBaG46CAUhIJQEApCUcuDUNTy8KHwoVAWhOKig1AQCkJBKAiFsiAUhIJQEHo6\n",
       "Qv036rvbn8iA0AddzYOKh92T2p1xYW+x0oBQUsitlfWwe2JR/s5SWQ5C+2Y9uq6zeIS62z11QkP0\n",
       "7j47oV3Ds9xM2kptT6i73ZMnVGfJE9rBUhb1hrHew+7JExqgd/fJCe0DrqlsJSIS6mz3xFaOLOzC\n",
       "XIjECWVt0SIkEYpGJNTZ7omtHOksJWneHYd1Yc2/d/e5Ce338VeNYbTZltB1dk8xymuSVc1/tQ1W\n",
       "K52Z0LrznHW2ZSnvY/cECTUZyVvrsGJSyqZL6PaToX52T5DQ5opUrd+ohrQrwCTLiQkNUiluafck\n",
       "a3neNp4Udki7rglRmI7t0YxxAnGzOwi9JbQLNtSGK+ZP7EMVieVDV9o9SULLNr6UJenmqEOEufMS\n",
       "yvOIhK6ye5o+lLUz1Jp0YSbEQ6XzEspMREJX2T1JQiXTNBOsb1GnSMqExgnyPnY/GaE0iKWmEmRx\n",
       "02kJrWlMQtfYXVqbnYdQ5d1y995SpUiZ0CiToV52F9aeaAUzs0VoS4Xo3X1eQuNMhnrZvbbW8S6q\n",
       "9TvpgHjs7IzO19643FlbZ0vROmVCdbYXoc52Z659wE01DKXpk4lWqTXr1gUs5TeyHu4bvfohjvJN\n",
       "RO/6dwdatLvnbLhPUIp1O622e5OGPn04aigry+4vsuKSWfPHoaH1nO20LFV5dn8sOpRv2erIym0l\n",
       "CSQheeFC8/yC/kBV1X5gHya5Le/dU63FqYTMm1CiLcNVS0i4nZFU53Xj6FiTI/Rv4k1zhZ4q0eWB\n",
       "1cPspR6euy7nwQEIbe6pHNctIUBn6/5lzauGyarxUrT1VHIazfsc0nSEqqdZrlbdZFf9mFDuM01M\n",
       "4UUTArScJXVC0hbDNkjnbTXEJ5CZwlwJrZ6VK0a1fjSvxWNCSUE9skmR4dIlIveXmtGhaFdZ5zbL\n",
       "TrJ2KV+/cr+P8s8m+cWUelOOImaEZgWF+SErpK2DaNmC2O5aYqbTSpS5VErdPKh49OuRUFHB1JBV\n",
       "TtUOfrQuu3mjqTscqhvazjZdEkGpx38uHtQY83BCPkSlBEk6MW3Ra9eVCkb7FXzmltB2xv5KoGkr\n",
       "LTMpt6onU8lCF1ZTEAoJKFK3OSQPTRUIhWzgXxUIhRxawpXfpsB8EWQDMYG4En1y+38plBcvQQRA\n",
       "8AAAAABJRU5ErkJggg==\n",
       "\" style=\"display:inline;vertical-align:middle;\" /></a></dd>"
      ],
      "text/plain": [
       "<IPython.core.display.HTML object>"
      ]
     },
     "metadata": {},
     "output_type": "display_data"
    },
    {
     "data": {
      "text/html": [
       "<dt><a class=\"ProveItLink\" href=\"axioms.ipynb#_success_def\">proveit.physics.quantum.QPE._success_def</a></dt><dd><a class=\"ProveItLink\" href=\"../__pv_it/axioms/1da7b77425885689d4ad2cbf8154863f3b4213b00/expr.ipynb\"><img src=\"data:image/png;base64,iVBORw0KGgoAAAANSUhEUgAAA2wAAAEsCAMAAACIdcAmAAAAflBMVEX///8AAAAAAAAAAAAAAAAA\n",
       "AAAAAAAAAAAAAAAAAAAAAAAAAAAAAAAAAAAAAAAAAAAAAAAAAAAAAAAAAAAAAAAAAAAAAAAAAAAA\n",
       "AAAAAAAAAAAAAAAAAAAAAAAAAAAAAAAAAAAAAAAAAAAAAAAAAAAAAAAAAAAAAAAAAAAAAADfZImk\n",
       "AAAAKXRSTlMAq1RmmUTNIjK7EInv3XZsYK9AMLnD4+GFUF6X59HV2eXBcKXXoZMgfGtamCUAAAAJ\n",
       "cEhZcwAADsQAAA7EAZUrDhsAABygSURBVHja7d1pw6QqegZgUDZByTnpzHSfyWQmyWTz///BiEuV\n",
       "e1mKFpQ3H/pdul5LkYvlgUJCwk6Ch3Q2qqwTJUhIC6loykj7kyx0NGfOwirXqjRplXoVgKRV5lJK\n",
       "syyd/QsucoMCeKfkCkhKO2zERFMzJ7kODJuc+V2dnTIX838DbHcUVz7vfxrHKevQTnQOm2x7lWk5\n",
       "r0oA262x8ZkyE2KigsSDTZUFsCFNsBGaxXDGquQRYeOlADakKTZZJhGcsRAkImymylMucpsYUb1I\n",
       "M2tZXVcIllbfJiiAd8VGsiL8E06Ca9hWsGnbjC9zlsgyJapwL8ysw1Z/KxhK4F2xqdKG37CFVyHM\n",
       "YyuMMbZtuorqpHX1xTQvV9Vl0KaT+armSM1b0SC5rFcZNgzisoXvVxLqBn/YSJaHP2KzkWDrD4Ab\n",
       "WqrtprsAZdumlS+Kr2pvSOV2bZCnjaHUUUpnckenbcd7NLmTLXw/dxoi2/Kylf5IJmFthC0JftRG\n",
       "Sx0jNtbvAbv/6rDNFl9laZbVr00aJ84Qz9ZbHFa1nraYDgOVtW1nIBF7sRFqjmBLMgtpE2ykFGGf\n",
       "ri4DjJhuwGYGLRtbb9kYU49i2tyP3P1iZWbGKZaudzrbx06OY8vVfmxplsLZHDZaqsBPN4kXG8nZ\n",
       "Y6DWdSyr7E5ZWrU+lNg0qzPf9spm40PWzXm+fOmpbrBpsR/b+DRGnXfruqk7sNks6fV2U5sCW5d4\n",
       "Gfb8TxZgL3JhuVa/ZBesHYGpTp4Quu2d6ZS7kGVe6bN1BLNfopvhlqqvulgvp6YilTCSLmPjxQq2\n",
       "8WkMxRSaWPYONtldca+G0EV1+RTYnh2SoEMkugxxcmKKTVJRlrSrtzgtc5o0RdAYWg/GMp1wbt23\n",
       "UlsnyrVxzP0FT/uBCfXElq8OfJRbSC5ZKpexEWH1IrbxaQxdpo377di6SE2Smcd7UkqkQcvWbzpU\n",
       "0GdrosD2ZtDHtmHHIqkbs6xO1feqCTG23cjVHrTMeo5U1iU5wJYIuzJmG57G4BiuRXYftVjGNloc\n",
       "3ovU8Ae3nKWJJsD2zKWg+5E0vBltD9hcUbaZM0WUmw/r3w66KUBS99rk0v932GS+GiAZnsawv9MO\n",
       "GVdaNtEw4kmzRKbfA1GU1adW3j38P8amgo5H5iX5PmyybJuVNKtj+P02qo1pWBf6p71AQ/fPo11T\n",
       "SjH9Att6gGR8Gv1UdVHTjGzBlru+PhlHamTdRNehEgNsvUqsDLelD3PIdhRbrcitnJS0HlPJXjSw\n",
       "82GM7VlSuWz/eVRCvY8Bjy0bURr7Gtv4NAZXyKxtX6YzlqaUJ27wpWxi3bkqk6RtN1I2XdFJpMad\n",
       "q2Y2tRrYejVUkD21tuiV2Rdim9Ypxg2V+IyPg9m3f56t9zIu6jZKiqb5ci1a0TR+3Yv4UqTm7mmC\n",
       "jQW8PpKFOaBU5w1GeBEeNhcoqaf06jUtFS0lnt3I6iYpqNqKLS3D/VSbCHM12YnYiPBX9SmReMHG\n",
       "Omy6a9H6LZvRpHfKo7gosI1LTrgzbXmY8xJnYiPKV/0ix3knF75fO0bVx6WF4gUjJk8Ir8ZgvB2z\n",
       "tfP2oho7FmC1EZsuy2BPNtDgjSpRbSPtwVaV6FA73TLQegDYkHZiK4L9mE0SaAflNTbBUdIO9Wg2\n",
       "pY83Bq+2Xp1iE8GGI22gE+4vsTFslnwMm8dXnZlebb06xUaDXbBlAg2UvsIW2qaywHZWerGj6RQb\n",
       "C3bTehromb3ApnN8eDJ8bNrH4OnF1qtTbCbY1ZFZyWLEdmBT2dnjKmAbKJE+sHmaXl7fenUOW6jz\n",
       "JCJKbEc2lTVzf5p50FZ+Ip2D7ZEdR7D56s6tb706xWaDndUuAh1NrmM7sqnsLLbEQ5XzifHNOdie\n",
       "H4Y4cE3WWzRgdevVKbY02FntPEZshzaVncVGCmDr1WXy+PG5v9USq1stxoXNxoft0KayPWy93RJM\n",
       "AmyP0mo8HN9nl2lt69UptiRgbGl02I5tKtvDljyPIzNg66Ijf9bHj899LgNc23o1JmxlhNiObSo7\n",
       "j63Xdbo7tp+/PByfeo2/rxxsio0HjO2fgjyvfy5/LNa8x0beC9gSA2x1+iP3cfzCa5R7ZevV/yun\n",
       "RSfUjRHK8rfYsB3cVHYB2/EQyZdgy//i4/il11jAytarcWELc4n0Sjfy4KayS9gYB7aq2/CvP0l4\n",
       "2Fa2Xp12IxWwecN2dIeiGhsrXMrz+kv78ODn5NLVE8xHbp+/6fD6d9lff3g6vtdYwPLWq8B2Jraj\n",
       "m8outWyHB23xtmydvqnCAy2bV2zLW68C25nYjm4qu4TtcDgyVmx9X//2t+HPoWBb3noV2M7EdnRT\n",
       "2QVsxyfa4sQ2aMnSv/Mhv1CwLe/eAWwnYju8qewCtuNLSGLENhq6/ft/jAgGg21x61VgOxHb4U1l\n",
       "F7AV5IbYRtbMf8pewTiI7ZfXC13cehXYTsR2eFPZeWwelv3Hh23018OHCZTlMWz/8Hqhi5+NA7YT\n",
       "sR3eVHZ+IbKHDU+jwzb+Y8pfvuRj2Ba3XgW2E7Ed3lR29iM2WpD7YRtneebx+L67kYtbrwLbidgO\n",
       "5+QsNh+PpY4dm5ZesaW+C6qKHhv7PczNUHU6n2HHN5W1czeNEmDzenzv2Ja2XpWT99G//x6mteha\n",
       "tiTcXe+B7cRu5OLWq+hGnofNhvsUV2A7s2Vb2noV2M7DZsJ9+hawnYltaa8uYDsPGw12u1tgOxXb\n",
       "0tarwHYetlA3lY0P27kfGzoBWwFsF2MTwPbp9/wMtqWtV4HtPGxFsI8oAbZTsS3tBgls52HLgS0K\n",
       "bL//roAtfmwW2O7YsiXA9gFsKbABG7Bdga0Etnti41+BLa5NWstgn04ObKdiWyKEfSPPa9n+5U8/\n",
       "gO2O2P73T39CN/LybiRatjiw/fJdIOYJARuwAVsKbMAGbMAGbMAGbMAGbMAGbMAGbMAGbMB2d2yI\n",
       "RgIbsKFlAzZgAzZgA7ZvxBbbtgjABmzxYotsW4RvwBbbJq2hLpxGy3YytqXlxdikFS0bsCEaCWzA\n",
       "tuEvH9v+oxsJbEfS7HEVsPVTpoAN2Dyc7+xTbDIFbM/EKQE2YDsLm4cHj34RNiGBDdhOw+bhkdrf\n",
       "gy01BNiAzTO23mN+TQJsXXTkzxrYgM03tt4D7GUGbG36+cvD8b1v0gps34OtN065ObY/ch/HR8sG\n",
       "bMvYEgNsdcr/AmzAdi624yGS78D26ycBttOw3W2T1iVsjAMbIfqvP+LChk1az2vZji+crrGxwqU8\n",
       "r780U7jqOZO7M33k9pWezrb97c9fvo7vGdvS8mJ0I2PsRh4etEXbsvXs/TFiiIXIwHYGtsPhyEix\n",
       "DXTV0ZHeLzBmA7YTsB2faIsS27Ah66Ijj18CG7CdgO34EpIYsY2Gbj9/PPMZ2IDtLGwFuR+2cZTE\n",
       "pP2MBjZgOwebh2X/0WEbW9NilNXABmzesPUWImfyhthGv6Lc3/ERjQQ2svARm1Glfp8AST/LM+IT\n",
       "G1o2YJvHZlNg0xLYgM3v+dq5z35QAmxejw9swBZmwQe2e2DDJq3AFgU2bNKKlg3YlsoVopHABmzo\n",
       "RgIbsF37nniwBrABW+jvCWzABmzABmzABmzABmzAdl65QjQS2IANLRuwARuwARuwARuwARuwARs2\n",
       "aT2cztukFdi+Chs2aT2vZQt14TSwnYwNm7SiGwls8wmPjAI2YMOYDdiADdiADdiADdiADdiADdiA\n",
       "Laz3LP0mYAM2YJsmnVJRCL/vKYsie/nkSCxEBrZ7YUuEsOqMgqe5KahEywZswNZmoWBnFjolqAY2\n",
       "YAO2Ktns7LU2vODABmzARig7/921SIHtjYRNWr8T23/9dsn7/3d2FTZs0oqWLVBs9KpcMmapXCEa\n",
       "CWy3wGbNZWeQJehGAtuNseniujNYeC9gA7Z7YGNX5tH8o+0G2BbCAgrYgC12bFpceg7FS2xmfoog\n",
       "U8AGbJFjS9NLz2F26dYWbAkDNmCLHFt2bVnjbPY+/XqJjRTABmyRYxMXn0Sxs2UjJgE2YIsam6QX\n",
       "n4TYi01mwHYfbAX7QmzcXJwZc93WTdiIkMB2F2y6FF+ILSkvzoxSbcHGLdXS2MwSZUzW8EvMzbDd\n",
       "eZNWTb4Qmy4vzoxyUzfSkIxad3Zp9VOSvxsiwSat17ds2KT19XuWAZzEBBvnpHBDNFnaXnvUThts\n",
       "6E5ik1YESIBt/v0Gm7Q6bLpq03jdyXUSWNtlVXRrW/x9YzZbFMc3sh0fRC7+AGz3adm6sWTDLG8H\n",
       "a82gLRF3xGa4l4MODmMHOrgFtptiozWpwvHi1d3VXf9RmkIY5Rnbc/ojSQPHZrOyzCjNdu5i0cc2\n",
       "DjjZNBxs3xmNJJdHI7dhq1uzpi9Zuas/9NlOtIlkS4F4C9tzDZmQgWOrft/kfJbrY9imi2KFDgbb\n",
       "d86z7T2R3ZmxDZusZwgaG5khdR3cLiHZ0u17E5vqmrZ3Js4/hE2VTXcvKe0xbGzSkKUsHGzoRl7X\n",
       "jeR1mN/Wd58zW9/eJvLPc+Id26NON0nw2Gw7UWlLcwzbTD5uaiyBLXZsGxYit8v+LSXa95jt8dEH\n",
       "QYLHlpXdV3UI21ycSaTAdscAyTS1m+0xS4z2jY3khUu5CR9bmQ16k7uxse5atbG2jbYYCmzA1hvP\n",
       "K5Yq4h0bq4+Z6eCxNcikKfaV7Gfmdq0Yd1NvqpGXPlo7VvQSBbabYbPvBOXfxlZ/+GHtExCpeef9\n",
       "5TjUIFccKzMbxl8I/ZfUGJPunXV7Zm6rVdZZb9vVp9vGw8D2NdjsfMP11keB3p/UdhhWJo5VWwx1\n",
       "ujas08bQepv1dNTHU0mhl189330brjXszi07dr+el5jz9njW2mezueEQ2KT1i7D5SO9v0prYmfCI\n",
       "sjRrPnLQhhOUtWuroVndAXPLoia7KM1g6169sChmvmU7ONk7wVb2nXO0bHfA9vlNWsWkOSKMPRrZ\n",
       "B4dkDZubg69nCKcvmsH2ePUb2NQz4G8T17XVrqmzuTt1a6x7WFD7xaTWdi/qvsx0IwdxlufFnT1m\n",
       "e2/tgPxybKflxiUt2w5sJukm23RVTtPRKHEbNtfBcnyaYI5kTeIL2LpXv4PNlp0W96lfad0RXGew\n",
       "+sawOsTYfnHrbFjavqh7bR9b1igrGrzNW6XZprw9js2+1why+2Fs8v0XvIHtvNwIFZvM2wpcu/Bc\n",
       "9b3ul7x0E7a6OBf1lGD6umXrXt1N4W/BJsrnibOkDu2431BLtDMgdfulHn3xrH1R99o+tnacWF+Y\n",
       "Zu20irkG28aPAUtjWNOLt+lHsb3WMAWwHduJuREqNkLbPiOl1XVV58N756SE2ohNOVWSpXI0+Mtn\n",
       "F6eo1qCwegs25lYhd7eVVz/wJzbeXFr7Jc3TKvHuRe2XPjbVXog16aP/XPBLsD1WZepircnQblCb\n",
       "NEcV2ic2SxmjzUVLWpQlpdXY3N1uRYs8r36iIs/ToQb3wqJ+KgbNSzGxNQGwGVuXG+uZsS83gsX2\n",
       "iBywtG4GUpHVKXH34PEoxxfY5PpUncq6JAevTqZ379VHbNxDYl2z1HUjZXMd7Zc2rti+qHvt4DDT\n",
       "z8fJglyC7bEqM1ld52rdAdsV7ynzh001XWfbZoBqYkQyF01l1bT4OjNjDabrwg8fjtEiGQPYjK3L\n",
       "jfXM2JcbwWPrypIyg7pwEzY3vyY3D2Afr5b55mjks7p1Ge56utX5a7f0xZUObR9fUvelfdHjtf3D\n",
       "TO8YS6/Blj/DMKtdszpg2oZfc+0Lm+xiQu0qU9nySuvYU/cT0XScLY8u/HBatEUyzs7N2PJNmbEv\n",
       "N0KNRj5S/aQdl+/9Rmo2QKJN98+jXVNKbf6g2fPVb4T+e9hsalyxT6t+IHWxRWNc/HHwpX3R47WD\n",
       "w4wfNrvxIw+HsT2vtng9Wknaeri3bLN7Pvv2j2gM7rp4WC+KPjZVFn1shI01lN37DaOzHZIRgK3Y\n",
       "HrmxITPezo3gWzZdlcx6CCV7jxdos0QaUZpHj0/lsv2nuy2lS1tP8vnqPdj2pf5h9Oj2bHzS82Fs\n",
       "bRiG06zM6IvIGi/SQTyn6e2q3pd3sSW9yZNm6VvLi9etRvMT512A9nlzeNci6qGKDsloFfdWbE1u\n",
       "bMqM93MjeGz9lsuNrvgiB29pCzY/e5DkfbNycHOtJNdgE88h26u3srQLW/VX7tQF6w1rgzJHn6ep\n",
       "erzckCx5/GT5pG6o/r87ld5/9pCMlgFtxSbSjZmxJzciwjaoUz6MLZx0GNtjDTXbUIO18bfhss2q\n",
       "aL1jbVDmxGOmsoKVP3hp24Qfq99R2nvNU0ORj/uXQySjhXxbsXW5sSUz3s6NOLERYU8svrM7PcS3\n",
       "SevG8320rr1Riha9FStq2Nnuh1cf5eutdn4RWzNKK0w1wE2631E3gOATDfoxmBsN2R6j+XwXti43\n",
       "NmXGu7nx0bWRBzZpVae1M1IdjO5F1rJ1xUuX6+NQ1XzsqTnscNnmCrZyLs13I3nZ7E2aDWKV3Zit\n",
       "WxXSnm4Xmxh1vp9IRqu4y1cnMsyNV5mxLzfmTwKP+b1fN7LugOm1DNDP4jWYcjnSjUxK9gyQpAvY\n",
       "tH4uWm81PIZsZnD5TyR8X8vW5sarzNiXGy83aQW2L8fWrYFxHbBk5cY36+fajlN/2eahAAnJHAqe\n",
       "PEZhc9jqd1QDDaac7UU+kYxmYLdia3PjVWbsy41Ix2zA5g1bF7aj1M2+L6d6Y5iu99Zbtnks9F9x\n",
       "MiTh1Ts/JrXnsYmhhm6BRzuvpcm4xhit4t6Krc2NV5mxLzeA7e7YulWZMnvxiGnOGOtCFb1lm138\n",
       "W4pd2Kq/c7P+Ccu7Ty2JwdW12Ew+qhuE637K9s0f+6Y+kYxWcW/F1ubGy8zYlRvAdndsZMeMoTw0\n",
       "9TJZiJxRWy/8UJUeUZb0EeRolyXTLH+0d13dQExG2aPxKdol5E8ko1Xcm5drnZkbwHZ7bDtWFbPU\n",
       "J7amkMt2vei+uiHR6wA2YzszN4Dt9ti2LgzrleRjO1XPFnwqVFrsrxvMCwDbP892Ym4EvxAZ2E7H\n",
       "pt+1k0n/2JKy3Lj35ty7j6MZEwDbsZ2YG2jZgG08Mfwq2YObkMwvO2Q53V832FcA3tgW4bzcADZg\n",
       "uzwrD/79aw1TAPfZyg4PsD8vXfMA+6CweXvPW2HDA+zPa9nwAPubYsMD7NGNBDZEI4EN2DBmAzZg\n",
       "AzZgAzZgAzZgAzZgAzZgAzZgAzZg+yw2RCOBDdjQsgHbJ7AVDNiOZwawAdvrpEsBbMczA9iAbUsB\n",
       "QzfSQ2YA28YU6lpDPMAeY7ZBev8B9mjZwmrZgO08bIhGAhuwxdmyARuwBYhNAxuwhYftO6ORib04\n",
       "M5gCNmB7mb5yno2bizNj7gnvwAZsd+hGSnrxSQh0I4HtptiIuPgkCmADtrtiy64ta3yu+4lHRgHb\n",
       "LbDZ9NJzYBwtG7DdFZu+th9ZEGADtrtiI+zKPJpvR4FtNlOwSevXYbuyadMF+Sg2bNJ6XsuGTVq3\n",
       "vKc1l51BllyDDZu0ohsZJrYlAv6TMUvlCguRge0e2Mjffrvk/f8nWyxXGLMB202wEXpBT1JnlgAb\n",
       "sN0eGzHZ2aNbXnACbMAGbJUFwc4sdCqjkgAbsAFbnRIh7CnNm1ZGULleroAN2O6EzW3lQkUhSr+p\n",
       "KMTLaXNEI4Htbtg+WK7QsgEbsAEbsAEbsAEbsAEbsPlI2KQV2KLAhk1a0bIB21K5QjQS2IAN3Uhg\n",
       "AzZgAzZgAzZgAzZgAzZgAzZgAzZgAzZgAzZg+yJs2KQV2IANLRuwARuwARuwfSe2jZ9dAzav2LBJ\n",
       "6z2xnXt8bNL6BS0bNmm9KTZs0opuJLAtlSssRAY2MntcBWyDZkRG040EtpCxmbnNDjMFbHPZAWzA\n",
       "5h1bwoDtmThFNxLYTsM2/0S/u2IT0gO2fwAbsPWw8WdXxyTA9ii/hgAbsHnGljyfCyEzYOuiI3/W\n",
       "wAZsJ2LrdZ3uju3nL+IDGwIkwLaELTHAVqc/cgJswHYqtuMhki/Blv8F2IDtZGyMA1uVfv0kwHZS\n",
       "ut8mrTU2VriU5/WXZlZJUWCr8v2vP8LEhk1av6llew7a9j5K6SO3r/Rxttv+472Elg3YFrEdDkfG\n",
       "2rL1ff2RD3480rJZYAO2BWzHJ9rixDZsyproyPNXu49flAzYgG0B2/ElJDFiG/UaH9GR7te7j09L\n",
       "AWzAtoCtIDfENh5n/vzRy+hDx+e+SzywfQ82D8v+48M2/muTDnL60PELz4M2YIscW28hcibvh23c\n",
       "rmkxyuojx+dlroEN2GZ+qQW5H7bJOIv7vCZTUmADtplf2hTYVOb3mqjXgCSwxYjNzu2AQAmwaen5\n",
       "mqzPtg3YYsQWYMEPpBvp/ZpkAmzDwotNWoEtqGt6Dxs2aT2vZcMmrTfFhk1a0Y0Etg+3bMAGbOFj\n",
       "C/aTDMAGbF+GLbYEbMAGbMAGbMAGbMAGbMAGbMAGbMAGbMAGbMAGbMAGbMAGbMAGbMAGbHfFxoEN\n",
       "2IANLVs8lQOwARu6kcB2Q2yBXkPue5toYAO2k7CRbdg4sHnCFur5AtvJiX8BtgLYgA3YrknC9wMQ\n",
       "TsZWABuwrWNLyjzQa8hKExW2UCsHYDs5LRGaYkvLItBroL6fNnIytlArB2A7OS0RmmKzvp/p4S0x\n",
       "v/vWno4t1MoB2E5OS4Sm2EyZBXoNoZ7Z4u5agVYOwPahgjrFxoKtj9NA29wlbOFWW8B2cheMbcSW\n",
       "BTus54GGbpawpcF2yIHt1LREaIpNBLvuQQY6KbGEzUflMDmyAra5bPFe1o7k+xKhKba8VKHWGGUp\n",
       "Y8Lmo3KYPMcmU8BWFeezl+8eyvclQlNswa5DdrPEPCZsPiqHyU1PGLARVUeeTJoml2F7J9+XCE2w\n",
       "yWDntF0sPY0Km4fKYfqEtgLYCHO5wlSL7hJsb+T7IqEJNh7uqJ7YMAOli9g8VA7Tm24SYKsLfibS\n",
       "8/pgR/J9kdAEmw132UOoFcEiNg+Vw/Smy+z22JouncrLXF6HbXu+LxKaYKPhfgiL6DDDkYvYPFQO\n",
       "Mw/6FfLu2KiLP0hNZGGvw7Y93xcJTbAV4cZH3MnJmLB5qBzqm64tq/ujtL41ibk5Nl1XYUWVM0ad\n",
       "im1nvi8SGmPTAcdH3JqMNCZsHiqH+qYbkuS9e1XcHFtat2dpcmIw8ki+LxMaY0vCXc9X98toVNiO\n",
       "Vw7upquEMHejadspZfze2MQFfa8D+b5MaIwt5CEbcdOFUWE7Xjm4m16VrdxV5nk7QnkGvMvd6RPY\n",
       "Ykjb8n3fkG2CLQ97BRsLcXnLMrbj2dkM1LkbBcju2j0M2mJu2cwVzcGBfF++5yNsKuhepLt6ExW2\n",
       "w5VDc9Pr3oztbpWHcGTM2C75bPP+fF8hNMJmw+5FVtVGHhW2w5VDc9Mzd/+yjNSzuD4m2iLGxtl1\n",
       "2Pbk+wqhETaRh22tuhQeE7bDlUNbw1I3h2uI8dWNihgbVddh25PvK4SG2FTAy0e6W0ajwna0cmhu\n",
       "uqbGJpJa5asbFTG2a3bI2Z3va4SG2GjIM9ptLoR3imvYjlYO05UMXpb9x4sttRdi25Hva4QG2HTg\n",
       "4ZHmHE1U2A5WDtObnslbYxP6Q9i25fsqoQE2G+aHM8cdMx0TtoOVw+Sma0HujE1etK3L3nxfJTTA\n",
       "ljMSQSpMTNgOVg6Tm27TW2MzyYewbcz3VUJ9bDb8EVvdeQ6t/V3HdqxysOPYm6eO/idXZxxJV41z\n",
       "dub7OqEeNh3u1vTDxLKosCUxdM6R/AQUVgn1sNEslmsq0piwBVc5IJ2VXhB6YuO5juWaVFinqppe\n",
       "Eo2lckA6Ka0QKoY96YJHdFVBdcx0WiceS+WAdFaPa7kINEWkq3Q1R2bdpHJAOqnS3Ufo/wH4SUHK\n",
       "U7lPSgAAAABJRU5ErkJggg==\n",
       "\" style=\"display:inline;vertical-align:middle;\" /></a></dd>"
      ],
      "text/plain": [
       "<IPython.core.display.HTML object>"
      ]
     },
     "metadata": {},
     "output_type": "display_data"
    },
    {
     "data": {
      "text/html": [
       "<dt><a class=\"ProveItLink\" href=\"axioms.ipynb#_fail_def\">proveit.physics.quantum.QPE._fail_def</a></dt><dd><a class=\"ProveItLink\" href=\"../__pv_it/axioms/3c70c03e635cd35f202ac8293d573a3d478862db0/expr.ipynb\"><img src=\"data:image/png;base64,iVBORw0KGgoAAAANSUhEUgAAA1AAAAEtCAMAAAAx5nE1AAAAb1BMVEX///8AAAAAAAAAAAAAAAAA\n",
       "AAAAAAAAAAAAAAAAAAAAAAAAAAAAAAAAAAAAAAAAAAAAAAAAAAAAAAAAAAAAAAAAAAAAAAAAAAAA\n",
       "AAAAAAAAAAAAAAAAAAAAAAAAAAAAAAAAAAAAAAAAAAAAAAAAAADrabCLAAAAJHRSTlMAq1RmmUTN\n",
       "IjK7EInv3Xa5wzBsryClQGDh19vj54VQXqHVk3xPmRDsAAAACXBIWXMAAA7EAAAOxAGVKw4bAAAc\n",
       "XUlEQVR42u3da5urKLoGYFAEBGVPT3dP9+qr18w+8P9/4w4eEs9RIYrx4cOqVVUpg8gt8EKQkLgT\n",
       "z45+R2mrRAkS0kwq6zrSfCdKdZmcs+PrtbQ6faQOZEEfBUgpzfN08i8yXmhUsjslV0FS2oIi+jJ3\n",
       "36RQJ4ASEz+rikwUfPpvAOqOquzr+qfXyLI6I6NToETTA0zttBwOULcGlU3UmRgT5SQuUNKWAIU0\n",
       "AkVofoUcS5tFBiqzHKCQxqCETS6QY85JZKD0o9wyXphE88eLFDOGVeY5Sx//TVDJ7gqK5OUFIhKn\n",
       "NFALoJSpx3QFS4RNiSzdC3PjQFX/5Qy17K6gpDXxN1DnoJ8GVWqtTdMElY+MqccXXb9cPrJK6w7h\n",
       "uztAqjdFWcS8UKlZLwDKZv7/NuEmEAQUyYv4R1AmIlDdQWfNRzbdZhf4a9om+6Z2yqbQHzaXBl1K\n",
       "a0odl3SiBFTadIT7kx/5zP8ns8Hz9S9GWgcqiX4URa2KFRTr9kjdr1pQk7VTGprn1WuT2oJzkuXL\n",
       "jQZ7tIKmHA/LpDFNw53wvaAI1ftBKQVKU6CI5XFnV9mT7p0rQOleC8WWWyjG5PMuVpd54X6wMHPh\n",
       "pArXk5zs8yb+oAq5H5TImQCmCVDUysizm8QNihTsOXBqO4GPIk1Z+mhFKDFpXhWw6YyaagOianqL\n",
       "+dNLVQ1K8f2ghtkYdKYNVbu7fJJS8eqdpiYFqLoixD13kp/U45tZetStvSVrRkSy1cW5anpSKs1c\n",
       "KLB4CDNVZLBbYevhj6zOrFyuh/rBJmEknQeVlQughtnoJVMqYtw5uJHcnn6AYLRWqsrHVwpQdcci\n",
       "6rCEsmcF9segBOXWPscdGbUFTep6pTWtBke5SrLMuP8KZZwa11Yx9xdZ2g0GyBeoYjHkIt0CZsFS\n",
       "MQ+KcKNmQQ2z0b9XpbVtxR5HyNcr6l4eVo0KKSVCo4VqmwAZdW51NKA2BlNME84rk6pRyquUVF0l\n",
       "9eryLfZoRd6xIvM2iR6ohJuFMVQ/G71juJbVLeNP0i1dvkHIMS3ckVia3DZIMQRlou7z0XNmdQOA\n",
       "ctXVuEbCEunmi7pFTlcFJarGQMz9vgUlisWgRD8b/b5JPYQTVRM3D6q/1L8fckyq+Wxi7xyfGIKS\n",
       "Ucf5CkuuCUrYpnlI8yr+3W1rmjiCcWHz18hD6fafZ/skpWTqDajloMQwG9306E6m7jX8TVCiGhiS\n",
       "LKnXV5XdsWDTzXMNL9EA1dyobLyt9XlDKF9QlRS30k/QaowjOlG21oDWpuNFus5T9c/zZtL5OOjQ\n",
       "q+ZWm/eghtnonSEz1RHWgSrc1SCdkKPJk9dQyqRGAVRTXqf1qt6nxOYXBTW+N2g3dMnGBnyLaP88\n",
       "VDfK4EKCOUtTmiUuvCBNYtwdQOokrbt8oh6LtSFHmWMN8AwoFvF6PnbeAE9+bmCQlTGBSpJnc8ar\n",
       "3pvgdTvkWqay7ho2B8zmQo4A1ftBvOu4+Hkroz4IivBwtzDJEy9QymjV7R/m1URytSLq4UfyZ5fv\n",
       "cXeT0LMGlIx4Jqo4L6b/SVBEhrpPiEH5iJn/z6dm/si9OGMtKNW2TJ0W6gHPgM8KUMraaDN7YsBE\n",
       "3i4WrGgps5IRXSQkM2k1Qe3GUPWKEG6tLcFnBahHrY21LRcnWpcWYwWkXaDKaD/CkZx4TwSoT/c+\n",
       "gr0oNlA82jCfOXHS+T0onkGFV3d+TTq9k/R2O9gxKBrt4iN9YgDyLSiGXZrv0EK93Q52DIpFu4E3\n",
       "PTFn70CdsZstQJ2Q3u2yOgalo13Nl1sWKyhVpDDxMVBKhAGlAkQH3m0HOwUq1nAojxeUx262k8eV\n",
       "ANW9k8ogoMKsWXizHewYlIl2Zrc8cXS3DMpnN1udLVWhjw/zA6dPgHqtwfcCFWgs82Y72DGoNNqZ\n",
       "3SJaUD672U6CSgK0xWdcxo+A4iLEKZlQIa3l7WCvBcrECcprN9tJUKQEqGeF1CFOKQu2zGZ5a8gx\n",
       "qCRiUGmcoLx2s+2A6mw1oROAatKfv4Q4pYDjhcXtYK8EykYKym832w6o5HUckQNUUz4/ZIDDZwHX\n",
       "gS5uBzsGlUUMKokSlN9uttOgOgOHe4NSf9EQh6chJ4OWjjUGJaP9EPx//eOX0977t99/m/uV5262\n",
       "M6ASDVCVhL9EiMOXIadclraD/dfvo6rzj3+ghdrSQnnuZjsDyj8s8RWg5A8d5vAhA1pL28FeqYWK\n",
       "FJTnbrZzoFgGUI/b+98qPlBL28EClC8o362YKlCsdKkoqi/Nk3tf05lHT7L6XKIwU8KvH/8MdPig\n",
       "Aa2F7WAByheU7262cy2U9yDqsi1Uh9e/ix41nxYqJKiF7WAByheU7262c6C8w3zXBNVvrIr/1D+K\n",
       "DNTCdrAA5QvKdzfbGVD+E1GXBNXv+v38s//TWEAt7G4CUJ6gvHeznQHlv1TigqCG477XIon6N9GA\n",
       "mt8OFqA8QXnvZjsDqiT3AzX01HsmjvUE9TPkec5vBwtQnqC8d7OdBhVgufnlQA099Z/V6H7rA+r3\n",
       "kOc5/9EqgPIE5b2b7fTi2FzcDtR4d5Ms4OHDgprfDhagPEF572Y7+fENxcntQI2KPA95+LBdvvnt\n",
       "YK8F6p+nvfe/7C9zmVIfABXimc9XB6VEUFBp4Lo4cx/9PzuuOmih1rdQ/rvZmqkrQwlAhT18YFCz\n",
       "28Giy+cHKol3h2+A+lyXb347WIDyA2XifYQqQH2whZrdDhag/EDpeB+nBVAfBDW7hRJA+YGi0e6z\n",
       "C1CfBDW7HSxA+YE6czfb7wL14W3/goMqAeoToDhAnf2ep4Ca3Q4WoPxAldE+qwSg+nUnbJRvdvdK\n",
       "gPIDVQDULVsogPoYKANQNwSVANSnQKUABVAAFQqUBahbgsq+ART79bwHR6tUzVyofwLUDUHNrngV\n",
       "o/dRv/4abaHE2EL9AVCXAPXzGFDo8vmCSgDqhi2UBCiAAiiAAiiAAiiAAiiAAiiAAiiAAiiAAiiA\n",
       "AqiD06+/SoACKIBCCwVQAAVQAAVQJ7/nxT6x+yWg4tvoEqBCgfq014NAYaNLvxbqzAW7AHUeqNkV\n",
       "r+jyoct3D1A/A9cHjKEA6qqgnrucYwwFUG/T5HElQHVSLgEKoNamyadv5BKgnimjBKAAygtUgAcY\n",
       "fg8oLgAKoPxABXjE7teASjUBKIDaA6rzSFD/h8B/DajXo+AR5QOoTaA6D60WOUA15fNDooUCKF9Q\n",
       "nYHDvUGpvygBKIDyBpVogHKJ/iUACqD8QfmHJb4ClPyhCUB9KH3nRpdzoFgGUIT89reKEhQ2uoy7\n",
       "hWKlS0VRfakHDfI1nbkznXKJbIjcrvn51oQo3827fN6DqKu2UF1F/y5I1xS6fAC1G5R3mO+aoPpt\n",
       "UvGf+mcABVCeoPwnoi4Jqn+An38+ixmgAMoLlP9SiQuCGo77Xosk6t8AFEDtBVWS+4EaetLp8AUA\n",
       "BVD7QAVYbn41UKOwpOLDYwMUQG0B1Vkcm4vbgRolmoU7PDa6vCOo2ZvzLUHJPOTh0ULdGpRJAUoJ\n",
       "gAKo7clM9UUoAaiwhweoqULBRpcAFTkobHTp10Jho8t7gsJGl9F2+QDqGFBYHAtQtwKFhwUAFEDF\n",
       "8J4ABVAABVAABVAABVAABVAABVAAFbzuIMoHUACFFgqgAAqgAAqgAAqgAAqgAMojfedGlwB1RVDY\n",
       "6BIt1M1BIcoHUACFLh9AARRAARRAARRAARRAARRAARRAARRABXlPlVJechs2lWX+9mFaAAVQ3wcq\n",
       "4dzIT1QulemSLk5SYqNLgPo2UJKzT1YsyalCCwVQtwFl8k+vc8nKDKAA6iagKPv8uyueAtQmUNjo\n",
       "8qqgfvxxyPv/d342KGx06ddCYaPLVe9Jj7pyWh8DChtdost34nsafVgO8mTmOmFxLEB9CyhVHpeD\n",
       "mffCGAqgvgcUO7KMpp8E1AM100uXAAVQVwAV4ulxG1L5FpSeDq/nEqAA6gKg0vTQPEwuQ1oDastz\n",
       "jQEKoE57z/zY+pSxnaBICVAAdQFQ/OBMlJPX6ed7UDoBKICKHpSgB2eC722hRA5Q3wWqZF8IKtMH\n",
       "F8ZUF3MVKMIFQH0TKGX5F4JKzMGFweQaUJmhSmiTGyK1zmtiib4ZqG9fy6fIF4JS9uDCsKu6fJrk\n",
       "1LjcpY/vkmJjWAJr+T7WQmGjy3fvaSPIxAhUlpHSDZmENZ125e0nf98qQZcPQYl7gBpE+dSjbXJ6\n",
       "kqq2s6Z7KenKsdQXjqFMWa6b2R68sFdWAqBu2kI5SuRJqWgGT/UgakUn9QtB6Wz1H3ZfanoAMgNQ\n",
       "dwVFK0qlI5Q9rq56NU0JDw7qNXWQpJGDMrm1OaX5wo4FHVDDOI5JIwL1nVG+nRnZXxgrQVWtUt3v\n",
       "e9iqNvmvJqKELrmWgUG9BmdcRA7q8fO65PNCvQU1XqfJVTygvnMeam9GdhfGOlDCymf9zzWpbrTN\n",
       "UgmerKgP20DJtonaMHl8Fihp635bYs1bUGzUIKUsIlDo8h3X5cuqELmpLn/GTHV5m6j5ijHP5jFU\n",
       "e+PWSfSgjJXNV/0WVDH+ZaEA6g6gVqzla5abZwUJD6pdcs9J9KBy236V70BNjTZ5ClC3DEqMU7PR\n",
       "maFEhR5DPW7cpUuFjh+UzXs9vyVQrD0dpY1pghiaAhRAdQfYzBCtgoOqF0TlKnpQNSShy/ma/SzA\n",
       "tjXK3MyUrHWlr1aLlZ1EAepmoNqIr2Tp2xnO7aCqRfdLK+9TvSWgLoZjf7FgVerJEPhM2NxSrXVa\n",
       "jTM1e7ZS6WOAqZre4LMAG3SiKl3TLIgs1uQfoL4IlJn2suVjJjsmdl2FX5g8lU09VOnSMEtpTast\n",
       "p9NBf0wmpZp/9XQ/rL8HXpu3/HUGVolnUcmq3RqAKrLmT4wxrxZuTQHOP7QaoC4HKkCS2x9a7Vbd\n",
       "j6xIQ/N6qXszvpfGLK3QZVVHyi3/Ge18MwGqffXMXPV0C/Wa/1OjtkZNg7JdrplXC4WNLu8Jas9G\n",
       "l3zUrBD2+qjJs8onS6DcPHQ1gzZ+0QSo56s3gJLPYLlk9tELFTp1s9J1b09Nd/l64YtO/jGG+lpQ\n",
       "MTzORiftZJTSaTVg667TWQfKdZQckTqAIlidshlQ7au3gDI267VH9OGrEE1vbwgqryWVtcH6aGm+\n",
       "rgADgNrWmImzQYntL9gCSnyqME7t8i2AEkVzk1YuJkbdXb/7h6tAVdW5rKbM0vctVPvqdhp7DShu\n",
       "+x088Sj6PG2+GYJqhmZV3hWrLxLTR4Ey2xqzzJwL6n12xzncAGpbaWwpjFhBEdq0kpS6jtTjpDp5\n",
       "klyuBCWdHMFSMRiMFZOLMGTjjBu1BhRzK2NNb8RktCnNDCjZ5NXo9NmdLbODQK38fLXQmtXDVJMG\n",
       "BWUoY7Q+a0FLayl9jIfdW0haFsXjO8qLIu1n172wrHb6p4Xlo0o9yuF6UOtKY1dhRAuqTQVLkypS\n",
       "x/MqJe4aPB8X9waUWJ7KknmbRO/Vyfjqvf34RsWnTF3PTk2DIuOPUImSHAOqnTZU5WL3RbnITFIf\n",
       "latwoGTdzzVNCcg6MCOKKldZE6ZRuR5mV7dd6v6G/81ZDHO4GtS60thXGNGDauuS1L373SpQbv5J\n",
       "rO4AP18titVRvj4o5TJfGjMDarwUlqUHgWrfKFleemncAZuPLqQsGCjRBmKalY+iIZRWMZ32O6Lo\n",
       "MLvPLnV/arA5i2EOV4NaVxr7CiN6UNUTQly5dxubyaCE0u0/z/ZJSrn60aqvV28Im7/enNrHsMiw\n",
       "NJWPDuPjm8cNzrLBS4fPpVy7mt4fVPEMJS4PFqrQfjMXUKhQoPjzDlWWXVDSll1QhA2za9sC6kc9\n",
       "27MY5HA1qHWlsa8w3i6OPRuUYiathjSis516U+WF5lY/e2fSxdeqf9pyq557vzaXr1fvAbUQFnm9\n",
       "VA0ArX3wqzeo5xmVKwYPSXM/7SzcbR9yvv7zNLZ3QP2665sOoayqrfV3WdZGPl/ZzdqWTfWz3Z7F\n",
       "YGnxWlBbSmNzYUTfQnVbIDfayWarfLC0BtT6PSWKjj3RG5sZQQ4CVQcTM5rbnL6LWGVl2otK1mM9\n",
       "2fmyFRR9ZVN2CLkhUvL8zmTD7LrfN++Xdn7ZOYvBkpa1oDaUxvbCuBCo3nmeDOrY5A2KPwcNb9/K\n",
       "0Da+2l3WVdWeDZ569Yq/ZuuELZ6ElKnDeo+fUdp5zSu7ZTHsC/bPYrDwbC2o1aWxpzCuCYpw88Hq\n",
       "O/kh5EtvdNkuhmdrWvYmsNVfuPuoP1s8zYOqR02l1rqdC6p4iTwbZVc9B1eDIdRzBF3sArWlNDYX\n",
       "xqmgPDa6lB9rL4T0DAAc2UKtRN52OzuDBsU7K53kYDSp6nftFUu5xdNcly+z9f6OeS8G2I6h2iUJ\n",
       "TXbb8cugp/w6i8HS4rWgNpXG1sI4AhQ2ujy7y9dUIWXfxFJk/Tm0+rD9hbtLdWgq9e7y7BWUSGdA\n",
       "KfVaLN1k9zmE0r3Tf53FYGmxfZeRbaURsDDw0OovA9V0cqpBg1o8SfWqQ705Pp8uH8ldbcyS56ho\n",
       "ClRVH2Qvu9pO9vheZzGYhdzY5XtXGvsK46JjKIDalKdmgZQbNCRLKuoFlE0vp7tw1yso8SCjSZIp\n",
       "85rYnQbF+9lt512bOLXqDKHqsxgsLV4LamVp7CsMgLoDqCboSylRi9GcanecdujSWbjrFzZ//CE3\n",
       "xi1SLtpPvfDe2TWgdNHPLuGuqyiaQNtz78nXWQyWFq8FtbI09hUGQN0BVLMuV+TvHuGcMcbaeFtn\n",
       "4W4bPBZ8Hyi3xS411cIE+RDCraXPwEKzVJbmxbPdapcRE53T174CZbN0+XUWg6XFa0GtLY1dhQFQ\n",
       "dwBFyu2fcBNec32TldutRc33ZzdRyzlcvfRoe2msLwyAugWoHStdWRocFOUyLfdnV7/J4WpQ20tj\n",
       "fWFEv5YPoIJ8Hirf+hFcz22wpz+GZK01u7M7HPCMcrj+81BbS2NDYaCFugcotdVHLsKDIqyg+7Nr\n",
       "3uVwPaitpbGhMADqHqCGqw3eJeO5qYTvR+DfZ3ecww0fgd9WGlsKA6BuAuro4orlPW+1L9+VQJ25\n",
       "Bx42ugSoVUrmN7pEC7WmhcJGl/cEtWejS4BCl+9rQMWw0SVAARRaKIACKIACKIACKIACKIACKIAC\n",
       "KIACKIACKD9QWBwLUACFFgqgfFLJAMq/MAAKoOqkLAco/8IAqNWgLrzR5bpKhC5fgMK46kaXaKFO\n",
       "Ro4x1HmgsNElghI3B4UoH0ABFMZQAAVQo+gCQAHUKaC+M8qXmIMLg0mAAqgqfeU8VKYPLoypx6QD\n",
       "FLp83wJK0IMzwdHlA6hvDkrwgzNRTl4nRPkA6ktA5cfWp4yhhQKobwZl0kPzwDKAAqhvBqWO7fOV\n",
       "BKAA6ptBEXZkGU23hwA1dV2i3OgSa/nevueRTZQqyRGg/oWNLtFCnfeeRh+WgzyZuU6I8gHU14Ca\n",
       "q+bhk9bkkBYKoADq1Pf8nz8Oef//zQlAAdQNQBF6QK9P5YYAFEDdAhTR+adDSlmZEYACqJuAIhln\n",
       "n6xYMqeCABRA3QYUIQnn5iPNlJKaU7FcdwAKoL4NlJvOo7zkNmwqS/526hiPswGobwR1Yt1BCwVQ\n",
       "AAVQAAVQAHUZUN++0SVAXR4UNrr0a6Hw0Op7gsJDq9HluzkoLI4FKIDCGAqgAAqgAAqgAAqgAAqg\n",
       "AAqgAAqgAAqgrg4KUT6AAii0UAAFUAAFUAB19nvaDx8eoADqXqBWJYAKmbDRJVqoWEBho0u0UDcH\n",
       "hSgfQAFUc48XGEMB1No0eVwJUJ2US4ACqLVJZ0tVCKAIySgBKIDyApUwgHomLjCGAig/UNNPDbsn\n",
       "qFQHCUr8DlC3A5W9uiU6Aagm/fkLQAHULlDJa697kQNUUz4/ZBBQGEPdGlRn4HBvUOovSgAKoLxB\n",
       "JRqgXKJ/CYACKH9Q/mGJrwAlf2gCUB8D9Y0bXc6BYhlAEfLb3+paoLDRpV8L5b9gtwLFSpeKovpS\n",
       "DxrkazpzZzrlEtkwuW1/+ufPQIfHRpd37/J5D6Iu20J1fA2oocsHULtBeYf5LgqqJ6j4T/WTEKAM\n",
       "QN0alP9E1CVB9bt+P//s/3T/4UvLAOrWoPyXSlwR1GAo9VokUf9i/+Gp5QB1a1AluR+oYWRCp92C\n",
       "9jp8FrhWA9TFQAVYbn45UENPivdL2uuUyrCDKIC6AqjO4thc3A7U6G9pFvCUMlsogLoZqLmb842C\n",
       "Et0iz4OekrYUoG4LyqQApUTYU6IhA30AFS0oM/Vpd0oAKvgpmYBtFNbyeSY8tPr6oIhIPg8Ka/l8\n",
       "WyhsdHkZUEFvsOjyRdrlA6grgsIYCqAACqAA6j6gYv1ECkAB1BVBXSwBFEABFEABFEABFEABFEAB\n",
       "FEABFEABFEABFEABFEABFEAB1HeBEhLIASpyUFOvlbHWEJudWIDiMsgB6ogKMXPh0eXz7fJlAIUW\n",
       "CqAwhgKo40BFehJF4O10AQqgPECt7fJlALUB1Jl5AqjzUvYNoEqAAiiACpd44A3fQ4AqAQqglkEl\n",
       "toj0JHKrowN1JnKAOi/NKhmDSm0Z6UnQwE9QCAHqTOQAdV6aVTIGZQI/pyBcYkH3/gwD6kzkAHVe\n",
       "mlUyBqVtHulJnJmz2UeCnogcoCKsi2NQLNp7bnpi2zkHKt7bD0B9trfE1oLKox1mZyeGS+ZApdF2\n",
       "kAHqk2lWyRgUj3buX5wY0J8DFQL56MgSoCZKJXx98ij3WSVjUIWNdgG1tSI2UCGQj56/kUuAItyt\n",
       "ldNp+rnbu0+5zyoZg4p2baybRc1iAxUC+ejCJgygpAv2MFl/PQjUhnKfVTICJaKd13Ux6jQ6UAGQ\n",
       "j58QVQIUc4WS8/SDd3ePcp9XMgKVxTvKJua8AOQsqADIxxdWJ7cHVdVtWdhCHAhqdbnPKxmBMvFO\n",
       "/Z+JfRZUAOTjCyvyu4Oqel9CEVGaA0GtLvd5JSNQNN4P+BB1XphvFlQA5BMPBeXi5qCoG/OXj4LR\n",
       "8kBQq8t9XskIVBlvTMJlTsQGKgDy6sIqw6q+I62KP9H3BlU/tDtNPhnk8yn3eSVDUCrimIRbl5DG\n",
       "BioA8urCapIUnetR3htUesTigv3lvqBkCCqJd21a1b+i0YHyR+4urEwIcxeTNh1Ilt0aFFcHgdpX\n",
       "7gtKhqBiHkIRN58WHSh/5O7CPipQ4e7KRXNrfk2/2N3pDFBXSOvKfd8QagSqiHs1FjtrGcc8KP8i\n",
       "qwfHmeuWi/b8AgyiLtxC6UPu6vvLfeGSD0DJqHt87ux1dKC8kdcXtup5GLsx3PSdoI75iOvucl9S\n",
       "MgBl4u7xPe4NRXSgvJHXFzZ3FynPSbU2IMRE1HVBZexAUDvKfUnJABQv4vb0OJcsNlDeyJs7JXUr\n",
       "AzTRofo81wVF5YGgdpT7kpI+KBnxMon2ktHoQPkiry+sotokghoZqs9zXVAHbWqyt9wXlfRB0Zhn\n",
       "dZtSOCeLS6B8kY9n7IMsN78sqNQcCWp7uS8q6YFSkYck6jzq6EB5Ih9f2FzcGRRXZ4FaVe7LSnqg\n",
       "zHkf4NsyilKxgfJEPrqwipMbgxJH7dKxs9yXlfRAFYxcIJU6NlCeyEcX1gRZYHXqpKlPcSRngVpX\n",
       "7stKuqBM/COoqqN7Rju6DMoPuRkGtSi5czrs7PeV+xslHVAq3m26+4nl0YFKrtBZRgoyhl9W0gFF\n",
       "86ucVJnGBuoU5EhntJ9vLvQLVFaoq5yUPD6rsh4i0JiQIx2flpSU/WFkmV3otA7vYKm0SllMyJFO\n",
       "6BwtKKmrSHtjVRlK62LIkY4fQe1U8v9AUdQIp2ZjBQAAAABJRU5ErkJggg==\n",
       "\" style=\"display:inline;vertical-align:middle;\" /></a></dd>"
      ],
      "text/plain": [
       "<IPython.core.display.HTML object>"
      ]
     },
     "metadata": {},
     "output_type": "display_data"
    },
    {
     "data": {
      "text/html": [
       "<dt><a class=\"ProveItLink\" href=\"axioms.ipynb#_mod_add_def\">proveit.physics.quantum.QPE._mod_add_def</a></dt><dd><a class=\"ProveItLink\" href=\"../__pv_it/axioms/dca063a26f7d32fc4e98aed9b851b536a2d568920/expr.ipynb\"><img src=\"data:image/png;base64,iVBORw0KGgoAAAANSUhEUgAAAUUAAAAaBAMAAADS9VP4AAAAMFBMVEX///8AAAAAAAAAAAAAAAAA\n",
       "AAAAAAAAAAAAAAAAAAAAAAAAAAAAAAAAAAAAAAAAAAAv3aB7AAAAD3RSTlMAq1RmmUTNIjK7EInv\n",
       "3XZ/CtNrAAAACXBIWXMAAA7EAAAOxAGVKw4bAAAE10lEQVRYw81XXWgcVRT+sjubmZ39rUJVgsmC\n",
       "1B9q6xa0WJW6pVGsoXGg+BZ0RUHSvkz0KaDpVEQfbE1Aqa6Kbl+EuqW70aAlizVgRatWU6lU2i7d\n",
       "rYKW/hAisbHW1nPmJ5m7O7PdfRA9cGfuzNzv3O/83HvPAP9TebrN8Xfh3wY0iDoDZOgutTg+kGlz\n",
       "grYBHiqywDDd5bHWxr/PF93no+wHkNsANA76dIuBYJV6a1vj+Bq1eMrnY6jqDcCpNgCN0snzHaMW\n",
       "ywNJfnNTU5um6LLc68vuQ3T52RsQKLUOsCV+QjPhvYMGEkQNNX5JBB+46iKSaDY16/npKbY47wWw\n",
       "4t0iwJGtJsdhROYwwL0ijVQvAtuumpgJQkppt73rlkxavVlqwYwXAOuF+Dpwb4AAxHXAt6ipBlnD\n",
       "sCctqyKpZhxHaUTU9axMKlrB1Ba6yNevvQCYElapnYM+AJHj93n06P0RUiKx7zaQVcS1s2n6nqN2\n",
       "s+v5VSgalnEvMg3L0EZAIOvF0QcgcrwR6DFevJsDxoaepXaoUvmmKcel1Po4I7p+NacqMUc2E53d\n",
       "NYrAuBfAzMmh/SMiRwHw0oGR09XHTmtQ+39hcuXzo5qt4aTL7Y/TTA8BbzXlmLNNH9DDjInrzFFl\n",
       "DsXN6gVgNQ/aWGE5vADgVAp9iffyAkcXgORwSvldC05hh453gT0pfGZzVC7b93nOHErMIcjJhVQb\n",
       "tDsdByfedlL7CWo/0AL7HBKHqgPM0Tyo7sjjO+D2eqMYECN/7Uljo+hHEfAO8CfzOG4S2emsawLb\n",
       "hOQ5e7GH8xFtQX0XE63ltJge2etsEUeofUHRm0GMnRculye6ymVO5weBv0h/PUcGREnnI+DpIVUq\n",
       "Jyihkg2AHD8p8wot9kRJJd8VbSIbnEObOfLLQNW1ZL6i1kvODeKFZ91uIY7RMUuHtOjH4wiR/gEv\n",
       "PzLHg9YkLj+KAOJ4mTgGaFBiTFnkGHTiKnOstxIdZPlILKz9xEyEWj5u7WWZDMRYF6u4HyLHWUiU\n",
       "oSvq89GONXkmOCNydAEWOZp+zLj8uByyVR0oFzgfuf/hZvLqUfM5fiye2W3Z8ozhcLyBGuV0MYWl\n",
       "ARqvpJhjiLfUeU45rKn3IwPCVaiz6MjeInAUATZHHKDFq2HQyUelhHheXNd4jlwrZRTei8LpYHaT\n",
       "+XlvZGFK3qDGedbAEbOam2SOBe5di9ftfUkQBkSSbNgKOxoORxEwaHKcw3YDW4iGhh4zhM/39tpL\n",
       "Lcic7jPXsMHpw2c3ooaUXJ3L5VIoTeIDWxUbsoNc3b1v6Dcz2LqiyQ9zb9cEK/2xniMDFNoCdp15\n",
       "udsQOAqAbZeuv+1S8uO/S3LfODlQ7Ts/aubKyStX/rAPfua0zlFb1MP3kOYEoqlXTC/fmoZ9Jpvp\n",
       "HzNcHO59dNl+V5UzXc+RAfjJ65zxAfgWaGn3qRTVRzflC1SsraG9iEMlITTtKmOEOkBdecpVugjl\n",
       "xmLdc6dnTeEN8BOn7rGVrF/5EbanlP4q5DfpedWSMzudHcDM1Dd8FQ03vLFSW28d4Cer3BuRLVb5\n",
       "U8jlNOH1NVyd+iryYM8AdawNgI8c5U1MtDWU9/+fkf0q/Lju8z8z0gbAW7z+Z4J+/2ildn/q2gX4\n",
       "J0Wr/4X/xf81C+9vEsX2H9sTZopuVDYJAAAAAElFTkSuQmCC\n",
       "\" style=\"display:inline;vertical-align:middle;\" /></a></dd>"
      ],
      "text/plain": [
       "<IPython.core.display.HTML object>"
      ]
     },
     "metadata": {},
     "output_type": "display_data"
    },
    {
     "data": {
      "text/html": [
       "<dt><a class=\"ProveItLink\" href=\"axioms.ipynb#_alpha_def\">proveit.physics.quantum.QPE._alpha_def</a></dt><dd><a class=\"ProveItLink\" href=\"../__pv_it/axioms/78f00237da1680c8b67c7d89cb6d64ceac03fba20/expr.ipynb\"><img src=\"data:image/png;base64,iVBORw0KGgoAAAANSUhEUgAAAN4AAAAVBAMAAADbZk3zAAAAMFBMVEX///8AAAAAAAAAAAAAAAAA\n",
       "AAAAAAAAAAAAAAAAAAAAAAAAAAAAAAAAAAAAAAAAAAAv3aB7AAAAD3RSTlMAq1RmmUTNIjK7EInv\n",
       "3XZ/CtNrAAAACXBIWXMAAA7EAAAOxAGVKw4bAAADfklEQVRIx41WXUgUURQ+7q7r7oyzu/qUGLlS\n",
       "WPRD+yBFLzohUeKD5qMVrhlEEbRFL4tRU+FTVBKImRJDD1EUuFmCukgb0YNJMQRWLwtDPxQ+iFSU\n",
       "+RCdc++dmXWb2bpwZu7ec+d8556f7y6A96gooUuJt+atTdk/Q8JYKYM43nurInHh0oCresJ+sBFG\n",
       "r8pNLjFaWO/2kS/jjbdFvOW4NGoU6WaWHbz60dlqtKTi9AOXPaQ66mbzjjeclBQTBSCoFin9SwXn\n",
       "q8zRk1wK6kwueEalxRsvkBCTDQBREdqPVbU6VyYtPN8kKAb0JWCc3FCZEKwcdzOa88artCY3ALo5\n",
       "ymW9X+IZU0z7fCcIL69Dmn6/YOJHV4Ou6Ut64zUUxHWGl6AJ/eDroOl5zcZ7oimG9B0BqFZ7ubzM\n",
       "5+dcY0blImfXuOnarDJFZ3sWq2kjIB5M02KzU5/NccUI/Ral95DLPoCbbjaDaKtiHh6kTgv8PBus\n",
       "nnudcpF+6GPo/WeGd58Waxy87QnFKP8mCmYHl1NQEQOpjhtYO9L62LKFSa00IawuWEpnvAYeo/3o\n",
       "+grtorZCvAApXzl4Y6piRJaBd8FWLmFd7mAZuVozCG9hesGqCVxtp2rL2Omyx3OUMW4GqzGK0RrJ\n",
       "Zndns1OUyZ8OXjinGArVAXXBNS4+M8gyEsDAQiK0MVGAN4uJmdPtdK3Ca+D9q2SgGyOh2ueL5Bw8\n",
       "6YhizOiCHw4KSTbhY571P34RACeeEqZa/krKovxhPPveTDJKwPZr1wvxwjHd6fdI3VPTIpRtQsaP\n",
       "oyNLEu/5nZts0sONhJdDZfH5bqEcpj0piGrSM5xdZHidOIsmMgX8ohg2ze4ScjZGzVbO4iiZNmnK\n",
       "uNwK0Lik/d2JVNornGLLEmEiNFlHPIk+jnaZBXjRHKdZ0UQkZRo1m//Y8PB1kGVd0sUlgp7Jj5r0\n",
       "NjPwF3FfQa4XxCjVct7bi3hn6FN/W8H9UH/yVzXvG56VeStZXSFmtPMSecrHOzuTXcV4igaR2F3K\n",
       "hcPSE50HTI/7iGgWKgwubEQjvOkzKhyyNjWCoyy+AlQImEQmaWft9uJmr/sPhgTH2zwf+ARpDKu/\n",
       "at1Uj10wKUdZPIYg1KKJS+bf9y27vtKr3QNpanhw9SU34E3Y96yDmv+DRzTLzjhU8v/EuRJ/bSyc\n",
       "mKv6i/1go4wwU0z+AOFz9/0J+xbOAAAAAElFTkSuQmCC\n",
       "\" style=\"display:inline;vertical-align:middle;\" /></a></dd>"
      ],
      "text/plain": [
       "<IPython.core.display.HTML object>"
      ]
     },
     "metadata": {},
     "output_type": "display_data"
    },
    {
     "data": {
      "text/html": [
       "<dt><a class=\"ProveItLink\" href=\"axioms.ipynb#_alpha_def_with_b\">proveit.physics.quantum.QPE._alpha_def_with_b</a></dt><dd><a class=\"ProveItLink\" href=\"../__pv_it/axioms/0eaae983846a33d4aaec6e4f8beff376c56de2a00/expr.ipynb\"><img src=\"data:image/png;base64,iVBORw0KGgoAAAANSUhEUgAAASUAAAAYBAMAAABO2vaDAAAAMFBMVEX///8AAAAAAAAAAAAAAAAA\n",
       "AAAAAAAAAAAAAAAAAAAAAAAAAAAAAAAAAAAAAAAAAAAv3aB7AAAAD3RSTlMAq1RmmUTNIjK7EInv\n",
       "3XZ/CtNrAAAACXBIWXMAAA7EAAAOxAGVKw4bAAAEgklEQVRIx81WXWgcVRQ+2ZndmZ3ZbDcIQo2E\n",
       "RaVa++CgoUWEuqU//kFc4ptFjT8g7UPYQh8stjD+tC+xZmtb0m1FpiLBEHG3PwGTLRoKxYKtBKEV\n",
       "IqsTWqhEjUuqNMSinnPPndnZza5Ztg/1wpm5c7+Ze78557vnXIBba5nlMb0xqlUebTmUgVtt8eTy\n",
       "2K768BiamfYfj6C9KC1BA/e2ymlNE9hJGLlYA5k/2T6n0MoLB5D9ffQXFttmeuf1FikZfU1gUwCv\n",
       "1YKPB/10gS7tdNnO9haFNdsiJ9VaHgulAObl2NWOTkd0tvic1thQAu0UmBTpbrYIvmQmW+QUawKL\n",
       "2hBe5O6As9cYE70ffU6RSeTUPs1+iTnCFPydSKtyWtUENoxLT/EGdGEvhChc2oLPyVxATvkU6ydi\n",
       "sV0slb5pldMzdCmesBti2K7gMl0zFAkTkBNMYE8p+5yUeeQ06PKWMBNsTwIcDc712BKNDDzdiNOr\n",
       "aHvSxteaDL5aEi3hYVLi+e3GDexdE5xGsdeW9TmFriOnlywWudLHtgO0BOjbvGX0SYB9UvPe6Alx\n",
       "PV7mp7uPPXVavvwd2rcAh+KOB1YaYZEMhJHgQw69RWkHOamkG9fnZPyBnH5HT6uUFybZog7tyE6i\n",
       "MJND3kizrSDn7QxKg5D3Vx6G72FiVuLncCoks8UUYHVDDPK8FO6yv/DpWLG4oVgcx95gppILPkRO\n",
       "l2l1pKyX2UIuSfw82iZbrhzzBHI+yEktgIqBBku/36qsG0OfnpkgsA6nVZwDf4AwZYOU76dfA3l8\n",
       "OFUyp2lhnCE8yQZ965Hc3zNO3PK8MTh3F8cORyuc2tOkVyKnBuKTxzB8lSSwRk+IvXn5C5E650Fd\n",
       "rOJ0wAjkzJmbXcBxhtAUG5zEzBmfjqdGxDIksd+cq1yxcJTuL4inPBiss3UPeJw+AliBnM6IKNU0\n",
       "xOAVtCGABfiM/vdtwakXe9fNYB4v+WVRybLBbvytqKX0PSegfRi3g7AW4gUeFb8wy94KC08arh8n\n",
       "FL+aBeVZvU6moo2xyGXvDjgkqpyDnAz6+M/Pg5xuyrIo5MEqaLNJQWpibS6XS+odDsloA3wyy6Mi\n",
       "nv2ccJRtudwHYJqOwRUC9lN6emRW/dLPRpW2X0oD9/jx0yzAJ5DTTvq0u1DhFLrzH6rBlDOEAtq9\n",
       "s8IKiCUHOF7IogxnxVGBRrsfLsBugVxydOGg3nfoj1lifra85NRyQiye+LSqcCljvVvdBmcVKouw\n",
       "RxpP4DyKScHT+LSS1fqdUTG6OmNTYNDlZZeTayElBYaLpLwJym4tJ8RUd6K6wH8892Cj81OUDnMb\n",
       "pfEO63FBO+JxencOdyO8l6TRCO87/Sz0pGEX+kXp6Bp/2ftuyOv0pJcEbwj0jbY8gCx/phuW55Oa\n",
       "M8poTuZMangTTt8pc0FIyHs8d7jqk5H/KIYetr4pTlekr6J1Dr9hruFaCsIilvdITs/XnVhzG3Py\n",
       "sLb68M8k3kr1TnBBFLak9bPkkqD4gaU0Y8FtbDqFzPglsI/egP9HO3Ub1/4XEAM/d3Wz/6AAAAAA\n",
       "SUVORK5CYII=\n",
       "\" style=\"display:inline;vertical-align:middle;\" /></a></dd>"
      ],
      "text/plain": [
       "<IPython.core.display.HTML object>"
      ]
     },
     "metadata": {},
     "output_type": "display_data"
    },
    {
     "data": {
      "text/html": [
       "<dt><a class=\"ProveItLink\" href=\"axioms.ipynb#_alpha_l_def\">proveit.physics.quantum.QPE._alpha_l_def</a></dt><dd><a class=\"ProveItLink\" href=\"../__pv_it/axioms/4f284541dd9d46f8c25d9b3fa747abed8a0afdf20/expr.ipynb\"><img src=\"data:image/png;base64,iVBORw0KGgoAAAANSUhEUgAAAQcAAAAXBAMAAAD0JJe7AAAAMFBMVEX///8AAAAAAAAAAAAAAAAA\n",
       "AAAAAAAAAAAAAAAAAAAAAAAAAAAAAAAAAAAAAAAAAAAv3aB7AAAAD3RSTlMAq1RmmUTNIjK7EInv\n",
       "3XZ/CtNrAAAACXBIWXMAAA7EAAAOxAGVKw4bAAADm0lEQVRIx7VWT0gUYRR/zY47szO77naJvJRQ\n",
       "dJFgD+IlsAULSg9tdEqoFjsEHWyLoEKr6RKBWXbSjYg5SWKgKUEkyV6iQoslUkJYGJMohGqxoEUk\n",
       "e9+/+be7Yqs9eDPzfe/78/ve+733DcBGRVnDluZvQzRcgw3elYZNkE+VTbX1HGcfeT5F1ZO2cQD1\n",
       "JNcY6dhVPQZptLKtgb/1enhRtEFIddP3EN1ugjLO9CAZdaZ6EIOVTVqKf0QAAgWXJ6Z5J8BZpjds\n",
       "d1UnLZVNcpx/4KHllADRYEAelHHiHoBGpkETWLtKyVY2hV3hj1gCRDCLICJz7ORhk2oA4QY3QIlU\n",
       "ZdseV1iuGwKEXkQQIwnGgWCc6dt8fqp6EDLhpT6xvZytTSQJ7rLfzo7AEoK4azHa6jGmhwDuu2bu\n",
       "i5fd7KKn1dMqvsgxlBl4nL7AQeWp0Jw77fAS6mwQ0k8EcSrOugMppudBiYG2k09QMcb6pCfttImt\n",
       "JjQ7zSZ8PBGtCNIpbEEosWgvYct7AhJr0VF8v7NBaL8QxA8sVTJJ1yzTkEnyBuOnzmeSNMbNcNzj\n",
       "cZBztR9s7t755go3hHHuEUL+UadPyEvUEaBVQP3tFKsHCGKWnBfdpRaYSlaQxe+AwYn2GqLuWhpN\n",
       "KkXIOe29fhBvcPEp06aABwQZuIC0yDogBhN5fY6XuZosU0gRV89Q+lAQyjKE3TkbMJWilqoAAsOh\n",
       "/cHFl8gSPk5gOLpmn9F6FoqZTrGaX9kBPFJSjimMYcnSCjDEdkyBugwRLzv1nJSIe0CcEI0Q0pyA\n",
       "yJIlfPIQtYOMSUM0PuqqmHlqvkK262MK3THqgGPUctMgIJBqbuk1lZa0B0RwUeDDyYex6hWM0opB\n",
       "2LvM/B5tt1wgVqh5jGc4zfItBv1oymQy9SomAoYj6imhCkthFQdk+hkIqVNkE/pSH2822yy55Cbr\n",
       "5fFGQgXaHE5I21bJBUZpFkkyZaFthx5WWGIlxMQaccndJCC67dZHcJbwScTA5R7xM5dc5RIWTbjK\n",
       "lWVALaaqKMPfaWaDNgrD1BEDt1r9IJx0bHQt4ZNAAmTrOY9+CYhQml9/9hUof8a9BAh9km6qvoLb\n",
       "ZGB4ddXNua5zk24QobSzhF/6QW0heR80y4AY5Ne39wofzvBitQ5xQGhr/AYMCZdYZUAs8BOESv/v\n",
       "anL/CAKurfH7KZKMlo2vhHKGbSR9X7j6pXM9GNQO+K+irucH5/Lm7vkXsYL1MzxbboEAAAAASUVO\n",
       "RK5CYII=\n",
       "\" style=\"display:inline;vertical-align:middle;\" /></a></dd>"
      ],
      "text/plain": [
       "<IPython.core.display.HTML object>"
      ]
     },
     "metadata": {},
     "output_type": "display_data"
    },
    {
     "data": {
      "text/html": [
       "<dt><a class=\"ProveItLink\" href=\"axioms.ipynb#_alpha_m_def\">proveit.physics.quantum.QPE._alpha_m_def</a></dt><dd><a class=\"ProveItLink\" href=\"../__pv_it/axioms/c1601e95111031655bd293b12854febe6ac18c180/expr.ipynb\"><img src=\"data:image/png;base64,iVBORw0KGgoAAAANSUhEUgAAASYAAAAXBAMAAABUu/9VAAAAMFBMVEX///8AAAAAAAAAAAAAAAAA\n",
       "AAAAAAAAAAAAAAAAAAAAAAAAAAAAAAAAAAAAAAAAAAAv3aB7AAAAD3RSTlMAq1RmmUTNIjK7EInv\n",
       "3XZ/CtNrAAAACXBIWXMAAA7EAAAOxAGVKw4bAAAEC0lEQVRIx7VWXYjTWBQ+M23npkmTVh98HLvs\n",
       "4ovKFPzBQdDCqMiKbkX2QfChsMLCrmhFQca/iSCi+NcHxaksElhwEWFnHNZFHB0rsuiuKFEUBBlI\n",
       "FUR9GAoqjgrquT9JbjKtmbV64OQmuTf3fjn3O9+5AF/EShH9RLRm6BP/O0WMIvCFzMhGDHgkoJX9\n",
       "V+e9C7Mkwk043DP0xbctYpoZ0d8+yFst2wDTN7/9OxWH5PH2MfeltOvn1iCpxYgBp0WrQ6M4par0\n",
       "aqN3WMz3hEL6ORbPRQzoEe13EzG1XwDdhh05GMLHWJ45haZlW8OUihpQFW1/gzhtoJhGLeilz/8x\n",
       "j+E/drRIpxlRdCo22GMX0xVTt9WXCILm4E/cb42O3mwR0wp6GT5nNt1bQXEjB4naHyOnlOHjPqbF\n",
       "Wd1W3os8OMd9OcDJ8CQLGxNkq/yg/GW5t/TvdhXU60TmwMpRanfobUfOo7iW7ISBeTDLx9SV0+3E\n",
       "C0Hy+dw3A8mE1lZw/7WRwUBqDU+xYJH3+DvuguZ9dhf9NsAxw2ocJz3Lc3s1wI96GfocWOxjGsjr\n",
       "tjEOXAFmcU9aWkGCU6sU2P4vgrWB8EPcNu65cVDGbJ8lAP9gfx1gmdYsB3ABtc5WtQYK0GXBMh9T\n",
       "sqrbOp2KKsBR7u2OTPElpuDkDUjLBSNdIOMsuoK1YUwplJNLFz+BiY6mktgFFNBNH5O6XrcvW0J4\n",
       "1wkv4pbEeo7UjG6TspBjIm8hJbMjZpFxKW2CmHDvBrAkXMnC3AVjmcf9YT7h3pHLv5pMOqcBPITE\n",
       "a9XXTGP6VccV7tnCh35BfqzLpTJGBs5wAEVQ3oIeJLpmt+dzMqaEF7ZTGEec9hKo867BVaiF45TE\n",
       "zg78w2SJRkh9BW3FLZKO67ZXC7uF70Subn8CaRNTdg2bY59JMaWcwMSHLdJTkjHBRpfSmL3xMsR+\n",
       "UMifRRjn0hD4HVwhbbF0RwbE6pAcHJQwpateLVwhvI1SqBMO0RDPr1QqWQVTDPcuHVB3wgXjAA6o\n",
       "lDimGS7ow1Se5jyPj0Cbgzl7N4xJsTlLkJAYXCMPiVUlqQZvejPVrYX3hTO7Ac+gT4GDXNsyEziO\n",
       "2rRNVmZchVS9XPfUMmUaZVKfIJ4PAGoqvh2CpmcVVguJzZ1HoY6R6o6jMLi1YIyqCcBZUJlOkf79\n",
       "34cw+RynpZNbH0YqVs6HMc0FWKXh1L2fwHRCFHOvoCcySPvNz3FpF5M2wjAcKinXWQA+fKhLG/n3\n",
       "O0fCxOZjthrLFumcIJ1I7r0LxFmkCSaW1L0QxM3tbEVoZrRJo85EHbDEYSjmNMXEVOiE/H9B87N8\n",
       "kpiIEzF2t2ilKvbUuzBro7hK3Bvaxslg2tfiqet/mjKJ5Yj5tVb/CAbEIF+lIKxZAAAAAElFTkSu\n",
       "QmCC\n",
       "\" style=\"display:inline;vertical-align:middle;\" /></a></dd>"
      ],
      "text/plain": [
       "<IPython.core.display.HTML object>"
      ]
     },
     "metadata": {},
     "output_type": "display_data"
    },
    {
     "data": {
      "text/html": [
       "<dt><a class=\"ProveItLink\" href=\"axioms.ipynb#_alpha_def_for_rounded_best\">proveit.physics.quantum.QPE._alpha_def_for_rounded_best</a></dt><dd><a class=\"ProveItLink\" href=\"../__pv_it/axioms/f4e07c06eef312585851f96fc6ff46f1c674ebbd0/expr.ipynb\"><img src=\"data:image/png;base64,iVBORw0KGgoAAAANSUhEUgAAAOcAAAAVBAMAAABPgOQBAAAAMFBMVEX///8AAAAAAAAAAAAAAAAA\n",
       "AAAAAAAAAAAAAAAAAAAAAAAAAAAAAAAAAAAAAAAAAAAv3aB7AAAAD3RSTlMAq1RmmUTNIjK7EInv\n",
       "3XZ/CtNrAAAACXBIWXMAAA7EAAAOxAGVKw4bAAADpklEQVRIx41WXWgTQRCe5NLc5a75qQ9iKWhA\n",
       "K0JBIhYRBI1Uiyi2J+KLiI34INSXU58KVqL4JtoURI0WOV8KtdCmtb4kbS2IiFilChUpRNMWqaho\n",
       "sCpFCjpzu3eXpLnowmT39me+nZlvZgNQoWnOSyLv45VPi/ZnnE9pULEFws5rcxw74bzlIYqiWp+3\n",
       "UI5zCdHE+rKnGpwVulOsV8Jyz1SZdeV93AJ110524/U3kBkRJntpz6lyiuWYM2gv7/0A3mi5DbsK\n",
       "LZ3kWwHamVx0dJIn4gzaxHu8frAgCIHdNWk2arZAG+KQBfEBOgW/G5l4dWDfK1p1hXBP2IFq061Z\n",
       "KS2p/SyK7yxQ7wSC+meYZdW6IQLa4y2reGOFkMbsCIzZ09dAUqHeINiSBaosIehglMXQG2HyIpt9\n",
       "XlbzAfrJDJVLCg/nEZHixNdV5nSKQBWyXMhboMJ3BO3KMV4qISb7AG6XBT2J0qnKT0Xu/INZaq+A\n",
       "X5iTQ/6lD/LUC2gEKtOFXAkL1L2IoG0RxiQhxuQMiCGQ17Fzrmcjd0w2vkZ5CXA9oN/Ll9zHH2aU\n",
       "P4Se/g3VOX4YCBToPE1xUPkHgn5Df3kofSaY+HTiNQZQmk2qfk0ZMInxBPchWrNihdDmGJ6Q80a+\n",
       "eWIQ5M72ZTIjdZkMEaZLs1OmB0HfEM3QrVKeiTvnZQHcg7cR4NI5sEGrUcFo2gphESjdZB6NTkEb\n",
       "97/HtvRLQUXqjWaVGV5QqiaYQGwn/kwbpMAWtXId3TuIXnoUBr9aElN0rzh2Ok41AtO0Ve9fMx4q\n",
       "Au2WC4rD7PJagwhovXuKCQy3G77qM5CEsxZb76JGBB1F7FKO+XDei/b5NAjG5cewUAtotxQm0Cqy\n",
       "e1EprEhZ41AHqU8wgfMhw1eHjZUBxdI8hHdPgNAqrcxYYn1QNzzmiviioL41ptME2k+jnwOFoMvG\n",
       "6jDPNSNYrrgx2JZMJsOQSsN9rvkqpenWT55xlrGFTUIPHaPBFMh1TYxUpFKTVHE/jRpTNqh79R8q\n",
       "+EBepUD5zZfHfxSuUF+1KQJpc85y9LReioqWzcpxdnviCC/eO47Ujzs9bW6KdScXowUDmDq0yQNV\n",
       "5lMlWJTK50pBsWi3UOnpKK5Q8uY53QnUp/GHosmqax9ApFd2S83nGyFz8qY5aFFXMEmDy9uBPRc8\n",
       "Qv96xHv5c1b8pPUnk8XK+5wrvsxPCrn//ucwz631Vf6/IlbQeIH3IectH6kc2y6gnQtM/gKwTPpU\n",
       "PkGhcQAAAABJRU5ErkJggg==\n",
       "\" style=\"display:inline;vertical-align:middle;\" /></a></dd>"
      ],
      "text/plain": [
       "<IPython.core.display.HTML object>"
      ]
     },
     "metadata": {},
     "output_type": "display_data"
    },
    {
     "data": {
      "text/html": [
       "<dt><a class=\"ProveItLink\" href=\"axioms.ipynb#_n_in_natural_pos\">proveit.physics.quantum.QPE._n_in_natural_pos</a></dt><dd><a class=\"ProveItLink\" href=\"../__pv_it/axioms/c56e8d491dac79118ccc66af825783557ca23e9b0/expr.ipynb\"><img src=\"data:image/png;base64,iVBORw0KGgoAAAANSUhEUgAAAEEAAAATBAMAAAA9n32KAAAAMFBMVEX///8AAAAAAAAAAAAAAAAA\n",
       "AAAAAAAAAAAAAAAAAAAAAAAAAAAAAAAAAAAAAAAAAAAv3aB7AAAAD3RSTlMARHarECKJu90yVM1m\n",
       "75kejotwAAAACXBIWXMAAA7EAAAOxAGVKw4bAAAA90lEQVQoz2NgwAf4GAgBdrJVeHyvdmDI/SuA\n",
       "x4wqRgMGlg/4bLEIyGFguMDwvLy2vPwAVhVWBdwBDA3YzFDv6NgAok0PsW7AqkJaBcowZZ6ghlDB\n",
       "qOyaVAQWZ90CU2rKUMAuAFfBxm7E4B8AYnEHIFTMY2lpgIWpIEcBQ/wEsAoGhAqeBcsvwHgO/gIM\n",
       "6x1ArLkdQFAAUcFgwgxXwbCegcEazHBHMoPBmaUBzgVK/2EBMTiQVXAqFMC51xi4vrCBGEwKMKFK\n",
       "INaEq2D9ycC04SSYuQsmBmLwbYDxGBsYWGwWgJnOhWAXM8z+C9TPsgFbfIhVdGCKAwDDkzTgOh63\n",
       "3AAAAABJRU5ErkJggg==\n",
       "\" style=\"display:inline;vertical-align:middle;\" /></a></dd>"
      ],
      "text/plain": [
       "<IPython.core.display.HTML object>"
      ]
     },
     "metadata": {},
     "output_type": "display_data"
    },
    {
     "data": {
      "text/html": [
       "<dt><a class=\"ProveItLink\" href=\"axioms.ipynb#_n_ge_two\">proveit.physics.quantum.QPE._n_ge_two</a></dt><dd><a class=\"ProveItLink\" href=\"../__pv_it/axioms/44249447384a00e3c2eddd544381c73d683c1cbb0/expr.ipynb\"><img src=\"data:image/png;base64,iVBORw0KGgoAAAANSUhEUgAAADMAAAARBAMAAACC64kkAAAAMFBMVEX///8AAAAAAAAAAAAAAAAA\n",
       "AAAAAAAAAAAAAAAAAAAAAAAAAAAAAAAAAAAAAAAAAAAv3aB7AAAAD3RSTlMARHarECKJu90yVM1m\n",
       "75kejotwAAAACXBIWXMAAA7EAAAOxAGVKw4bAAAAwUlEQVQY02NgwAZY322fgMz3PgBnhjOwfUSW\n",
       "YslQgDFNGRjuopqjkQJl3HdgsA9AlTsBlbNgYLCfwMCo7JpUBJdb/RTG6mdgYGM3YvBHaJY2gdCc\n",
       "nxgYBDkKGOIRLpUugdAcBgwMDv4CDOsd4AaaQhnPQcR6BgZruDOeQBk8BiASKP6HBc3xDMsYWIH2\n",
       "X2Pg+sKG5mXOBAYmBwbWnwxMG06iBVTEu3cvGBgYGxhYbBagBW////+/GSgGHh0g0AnnAwCzoC1e\n",
       "iNAJMAAAAABJRU5ErkJggg==\n",
       "\" style=\"display:inline;vertical-align:middle;\" /></a></dd>"
      ],
      "text/plain": [
       "<IPython.core.display.HTML object>"
      ]
     },
     "metadata": {},
     "output_type": "display_data"
    },
    {
     "data": {
      "text/html": [
       "<dt><a class=\"ProveItLink\" href=\"axioms.ipynb#_eps_in_interval\">proveit.physics.quantum.QPE._eps_in_interval</a></dt><dd><a class=\"ProveItLink\" href=\"../__pv_it/axioms/9d5ec70dac6f6bf937c670e5f1e42dac8ce086460/expr.ipynb\"><img src=\"data:image/png;base64,iVBORw0KGgoAAAANSUhEUgAAAEsAAAAVBAMAAAD85A5eAAAAMFBMVEX///8AAAAAAAAAAAAAAAAA\n",
       "AAAAAAAAAAAAAAAAAAAAAAAAAAAAAAAAAAAAAAAAAAAv3aB7AAAAD3RSTlMAIpmrZu8yVHaJuxDd\n",
       "zUQ1r71vAAAACXBIWXMAAA7EAAAOxAGVKw4bAAABL0lEQVQoz2NgwAIEULkcZxKwqeIoQBPgfIBN\n",
       "WSVQYoYilMN2Gocy7gsMDNcZ9kBs3qz7G4cyJgcGlgMMnAugLkBTxrHmzFkwg5WBgcuAgf03VmV8\n",
       "NzZAWbUMDPwKDGzfUZUxKpuAuLIwVQyaDAz7gcq+oCpzhQTKRbi5VxgY5CcwsP1AUQYz/AJc2XGI\n",
       "sp8oypg/GzeAgifmzJkzp8AScUBLJzDwoZrGagAJrAVw0+LAXmBH9QL/BAj3ALKlXAsYWFADhEsB\n",
       "wu2AK1vBwMASwMB0gWEDsheiGXaDuLzw+J4MNnFrAvdfcLR/hARIUks32HFWr6HKcoB40wwzBoYz\n",
       "QOOYTf+aoEQW3yxoZPHAUhf7BnwJiUUBJos/vS2E0jvwK9sFpRvwK2NsQEv0Rx8AAKhjXov/PGqx\n",
       "AAAAAElFTkSuQmCC\n",
       "\" style=\"display:inline;vertical-align:middle;\" /></a></dd>"
      ],
      "text/plain": [
       "<IPython.core.display.HTML object>"
      ]
     },
     "metadata": {},
     "output_type": "display_data"
    },
    {
     "data": {
      "text/html": [
       "<dt><a class=\"ProveItLink\" href=\"axioms.ipynb#_t_req\">proveit.physics.quantum.QPE._t_req</a></dt><dd><a class=\"ProveItLink\" href=\"../__pv_it/axioms/536ff1b8d0476ded2e01a40fc226c6e47c8b6b3c0/expr.ipynb\"><img src=\"data:image/png;base64,iVBORw0KGgoAAAANSUhEUgAAAQsAAAAzBAMAAAByJTAVAAAAMFBMVEX///8AAAAAAAAAAAAAAAAA\n",
       "AAAAAAAAAAAAAAAAAAAAAAAAAAAAAAAAAAAAAAAAAAAv3aB7AAAAD3RSTlMAEN0iVJmJRKu7ds0y\n",
       "Zu8qwvqBAAAACXBIWXMAAA7EAAAOxAGVKw4bAAAE3UlEQVRYw72ZX2gcRRzHf3u3d3u527tsKora\n",
       "h4tbKyHaZvHPQ1/s4oMPFswZCVb6khYswRfzZqWUXhuoorSJfSqi7emTFCQRtCgIHkJBqPTOvini\n",
       "pX2QiJr2TNNr04Tr7M7++e3tzN7OUvqDsHu5+e58duY3v99v5gCETBoaGoL7ZORRWt9GnzL/m+p2\n",
       "74pqQq/yMb2e63aHAR6LRMk12Rgz4pqQ/eT2rBAM9YmopidAHONE1ANRd/IwwoCXIkTFRXEMnsa2\n",
       "R/e1/Q/TGCNb5ateNMQxeBpqeYSRaiIM2MEXjYI4xijExZCvYoxXuU5aXBLH4GrCGPAtxihUeJrS\n",
       "lDgGV8PAOGogDGWVp1nQxDEWtPgYhSrCgO94mhEQxxiB+BhyG2OMc15A3RDH4GsYGNI6xijXOOFw\n",
       "SRwjtySAAacxxsAwx9uq4hilqghGy0AYRY6PNpriGI2mCEa5iTCkTY7TG+IYC0Y0RnY1PHYOBiyz\n",
       "JWdBHONsNEXu1N2T6CN1BxfjNFvzdyTGpWW+Jj35fT1Ors/ewBjvWDOzzbrbiqZWWoseDVa4cTS7\n",
       "INuJg1HsYIzWjBtKpAP+4lXXe1VHAhhnWGGDamYBVpx8EemytLmL0SB9Z5z7L/Z7Me5mr+qVvhiO\n",
       "5roGc9RX5VpkIbiGMcokuaXclHTF5ShuxMbwloejOQ4wV4+BAbcxxmAVDp074wr2vO4scXttKV8+\n",
       "9PYnPIyHz78BcGj6d6+Cy3vrcQziYNwJYMyTxOJ/d/gYdWPbW7IDH0LZYGOo22CgprbhP8Vz/XaP\n",
       "Y/XB+AdjlEj5uA9h0NI9Yz/y3dQ87K6zMchEqhu5YWsOHMu4GKlqLAwdY6TI9Snvqz2zTqixF7VW\n",
       "nqEpeELXV3R9BGM0TIBbAQyqIfamDaXrO6/pukU02O0x2nBnAGMJJG+dX3kt+EgyWx9xfGOcXO4o\n",
       "bauafWT6GMYouhmuz2j0Ysg3QOtZsM4AE4ZNiY1hjcaatHeaxIYKTOBJeRnSRpJJySzK9Z7w5WSh\n",
       "v0hky7IxShVQOrKdXzrUgRyNOgV5LYmL5qqP9wbzvB0D0huQX/yDs1L+hcKU8sNzpMdfKQbVwLOT\n",
       "kxOxJmU5gFGF9GehqEtDEWkjnTQZGD+vzMILB98H+LH7v9XXARS+xrytdh+MQBQdZG4R5E50FHWT\n",
       "tSk9P+puTkMaD4OZdKVbgWDO3Fuom9GpzbH3yN9vJKlqTI2X2phJN5zaqG3RLXsGjVjfsmcLeclv\n",
       "IF2hS4Or8ZNuKBO6GOMmU/l0LAzp4Pm36rDrl4tapMZPurgyXcUYnALylEAReL3bjdb4SRfXhIHq\n",
       "a46tbGnitWgrYu845t2l99KKtDSPMThFZ8NMsEEw+5Ratv3pjMvuGsJIrz+Q7VLK+0q9KbJdyiTY\n",
       "PPI1NOlKVljL3f6g5jqMj5HjbB6VjjgGX+Mk3e14yAJb6UFewN2e4GCBq/GSLunQCZfFwMEC17tb\n",
       "CY5ZeBo/6ZL4Xwl4i4Mx8iAOnfykS5CuwpDAoVOxneAIjqMZw+fbF7/6HPwtBsUY4K+xCwkOJC9A\n",
       "XFPaGOMoP/BdTnA8e9mIi5EyMcaTEYci8+IYPE3YYh9W3/+jezwnixjjcFTTgimOUTDjYVwK/JDx\n",
       "dWRb9k80siGuCRWAXscSqdC22kz3AC7ma+ONSySBAAAAAElFTkSuQmCC\n",
       "\" style=\"display:inline;vertical-align:middle;\" /></a></dd>"
      ],
      "text/plain": [
       "<IPython.core.display.HTML object>"
      ]
     },
     "metadata": {},
     "output_type": "display_data"
    }
   ],
   "source": [
    "import proveit\n",
    "%theory # toggles between interactive and static modes"
   ]
  }
 ],
 "metadata": {
  "kernelspec": {
   "display_name": "Python 3",
   "language": "python",
   "name": "python3"
  },
  "language_info": {
   "codemirror_mode": {
    "name": "ipython",
    "version": 3
   },
   "file_extension": ".py",
   "mimetype": "text/x-python",
   "name": "python",
   "nbconvert_exporter": "python",
   "pygments_lexer": "ipython3",
   "version": "3.7.3"
  }
 },
 "nbformat": 4,
 "nbformat_minor": 1
}
