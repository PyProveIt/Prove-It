{
 "cells": [
  {
   "cell_type": "markdown",
   "metadata": {},
   "source": [
    "Axioms for the theory of <a class=\"ProveItLink\" href=\"theory.ipynb\">proveit.physics.quantum.QPE</a>\n",
    "========"
   ]
  },
  {
   "cell_type": "code",
   "execution_count": 1,
   "metadata": {},
   "outputs": [],
   "source": [
    "import proveit\n",
    "# Prepare this notebook for defining the axioms of a theory:\n",
    "%axioms_notebook # Keep this at the top following 'import proveit'.\n",
    "from proveit import Literal, ExprArray, ExprRange, ExprTuple\n",
    "from proveit import a, b, c, d, e, eps, k, l, m, n, r, s, t, U\n",
    "from proveit.logic import Equals, Forall, NotEquals, InSet, Set\n",
    "from proveit.numbers import (zero, one, two, three, i, pi, Div, Exp, Abs,\n",
    "                             Integer, Interval, IntervalCO, Natural, NaturalPos, Neg)\n",
    "from proveit.numbers import (zero, one, two, three, i, pi, Div, Exp,\n",
    "                             Integer, Interval, IntervalCO, IntervalOC, Natural, NaturalPos, Neg)\n",
    "from proveit.numbers import (Add, exp, Ceil, Floor, frac, greater_eq, LessEq, Mod, ModAbs, \n",
    "                             Mult, Prod, Round, subtract, Sum, Log, sqrt)\n",
    "from proveit.linear_algebra import (\n",
    "    VecAdd, MatrixMult, ScalarMult, TensorExp, TensorProd, Norm)\n",
    "from proveit.physics.quantum import (\n",
    "    Meas, NumBra, NumKet, RegisterU, Qmult,\n",
    "    QubitRegisterSpace, ket0, ket1)\n",
    "#from proveit.physics.quantum.circuit import (Circuit, Input, Output, Gate, MultiQubitGate, \n",
    "#                                             IdentityOp, MultiWire, CircuitEquiv)\n",
    "from proveit.physics.quantum.circuits import QcircuitEquiv\n",
    "from proveit.physics.quantum.QPE import (\n",
    "    _eps, _alpha_m, _b, _b_round, _delta_b, _delta_b_round, _m_domain,\n",
    "    _n, _s, _t, _phase, _phase_est, _psi_t_ket, _psi__t_ket, _Psi_ket,\n",
    "    _two_pow_t, two_pow_t, _ket_u, _U, _U_pow_two_pow_k,\n",
    "    _QPE_U_t, _QPE1_U_t, _QPE_U_t_circuit, QPE1_U_t_circuit, \n",
    "    _psi_t_circuit, _Psi_circuit, _phase_est_circuit, \n",
    "    _Omega, _sample_space, _e_domain, _success_prob_e, _fail_prob_e)\n",
    "from proveit.physics.quantum.QPE.phase_est_ops import ModAdd, Pfail, Psuccess, SubIndexed\n",
    "from proveit.physics.quantum.QFT import InverseFourierTransform\n",
    "from proveit.statistics import Prob"
   ]
  },
  {
   "cell_type": "code",
   "execution_count": 2,
   "metadata": {},
   "outputs": [
    {
     "name": "stdout",
     "output_type": "stream",
     "text": [
      "Defining axioms for theory 'proveit.physics.quantum.QPE'\n",
      "Subsequent end-of-cell assignments will define axioms\n",
      "%end_axioms will finalize the definitions\n"
     ]
    }
   ],
   "source": [
    "%begin axioms"
   ]
  },
  {
   "cell_type": "markdown",
   "metadata": {},
   "source": [
    "### Quantum circuit definitions"
   ]
  },
  {
   "cell_type": "code",
   "execution_count": 3,
   "metadata": {},
   "outputs": [
    {
     "data": {
      "text/html": [
       "<strong id=\"QPE1_def\">QPE1_def:</strong> <a class=\"ProveItLink\" href=\"../__pv_it/axioms/7013a973fc7187266776593fd9a8ae46831b83bf0/axiom_expr.ipynb\"><img src=\"data:image/png;base64,iVBORw0KGgoAAAANSUhEUgAAA0MAAADJCAMAAADW3Rn+AAAAQlBMVEX///8AAAAAAAAAAAAAAAAA\n",
       "AAAAAAAAAAAAAAAAAAAAAAAAAAAAAAAAAAAAAAAAAAAAAAAAAAAAAAAAAAAAAAAAAACGKEuzAAAA\n",
       "FXRSTlMAq1RmmUTNIjK7EInv3XZAMGxgr3zKxjj6AAAACXBIWXMAAA7EAAAOxAGVKw4bAAASRElE\n",
       "QVR42u2dida0JgyGRVEQxC5/uf9brfsGKiqOMvNyTtv5qEaMeQwEDFGEgvKiol3Kd6uAtzdJPnW9\n",
       "LIXZfZUetKdjLhamxG6NuglormVSlU89UUqAz3fp4SUMRZLs1tSGnpA7GGIfVHhcCPDzXXp4C0NR\n",
       "kezX1CAFzpCw3tXvlW/Sw2sYSg1LTm22HTpDJAM/36aH1zAUkXy/JniGuEZA4ev08B6GmI53a4Jn\n",
       "KIMb+j49vIehKFf7NYEzFMMN+dIDVUXOwJBhy+VuTeAMZQr8+NFDO9HBwdDS7RT7NUEzZHkn/Oho\n",
       "6KoeZDtXqN7EkNB9B3X4NVZ9iqHYGP+YNUEzRDTmhux60EGX3jfSaPlr+HH3tUdNZrs1ITMkdA5+\n",
       "/Ogh6yzoFe+kN/XlqvcT36sJmaHEEmf8xeJBD2/sy72DoVTLvZqQGcrRlfOmB8QUVq9U7NUEzJDQ\n",
       "iMr50wNVOn8HQi9jKDfeLMuagBlKDC/7q105+THT/UGGSkO9y5qAGSKYYPWqBzC0Ys7ZTk3ADBUa\n",
       "/PjUAxhauZRl5kB8B0MYDnnWAxiyl8zw84uacBmKMTvkVw9gyF6osQpkURMuQxQhBb96AEP2khgv\n",
       "qUVNuAxlmGH1q4f3MPSuvD7cmCFa1ITLUPGSGcHnQwr8yxh6WdOEAeyiJlyGNFYp+NUDGFrVMN+s\n",
       "CZYhphHa9qsHMLRSlNFbntcEy1CM0LZnPYCh1RFnuVkTLEOlRioFv3oAQyuFGJHPeU2wDElMD3nW\n",
       "AxhaKdTIez2vCZYhopEj2K8ewNDqayrbrAmWoVxTAORVD2BolSG1WRMsQxkY8qwHMLQ65Cw2a4Jl\n",
       "SGGpj2c9gKGVkhjTB/OaYBkqwJBnPYCh32MIueX86gEMrZTYYCj+FoawaYpfPYChX2NIgyHPegBD\n",
       "KyU1GErvZugv/fdHbOcfAORVD/j2YdWgl8t65zX/hcvQvwDIqx7wDd57GPpUXw6f4PnVAxhaNegl\n",
       "Q/OaBAyBITAEhsAQGAJDYAgMgSEwBIbAEBgCQ57LuU1ewRAYAkNdObkhCxgCQ2CoLWc3BgNDYOgF\n",
       "DH3Dfqzbexp/aj9WMAQ/9KAfOrvJq9Oext/th7Be7rMMvXa93Lf05bDWB34IMQWMh8BQoAxFVBcn\n",
       "NnkFQ2AIDF2TCYbAEBgCQ2AIDIEhMASGwBAYAkNgCAyBITAEhsAQGHqAoZflJAFDYCg0hp71OmAI\n",
       "DIEhMASGwNDPMySST2zYTf8wAORVD2BozaD//NmsYckN2MIPwQ/BD4EhMASGwBAYAkNgCAyBITAE\n",
       "hsAQGAJDYAgMgSEwBIbAEBgCQ2AIDIEhMASGwBAYAkPvLRl7SA93fFdw7WMFT98+ePtiAjkawyhC\n",
       "P6UHfcNb/5pMT9/gebux38vRuJ/Q7AW5pGelVlfcZ5TOhSc9gCFfN/ZzfTmS+HhE9zXb1o0TTKpM\n",
       "tuxzJcAQGHqSISKj0BjipOZouJtYgSEw9CBDSRYFxxBN6/rxmUgChsDQYwyxgoXHUO130mJakYAh\n",
       "MPQUQ6qMgmMorrfUKUkkhlhIXAgwBIaeYSgpovAYIjU7tIzk+FQyCobA0DMMFTI8hkQzguM0mYTk\n",
       "0wMaBENgyCNDpduuhe9iKLF1PzMChsDQEwwpEoXHUGbjPnbfwxQMgSF/DHHLroVPp5l1a5DZwdMl\n",
       "GAJDn2eIFP4e0cf8kLQTkCsw9MsMPZWjsSABMrTCSuL8HrqcoxEM7Rr0z+Ro5DoJj6F0JYotXG8G\n",
       "fgh9OX8Mla6XfRNDZG2RuatTBUNgyB9DeRGFx9DqsMd5QASGXsHQ+MqLE48MeRa7ZztF/nGG2PEj\n",
       "5hdPVsNvUoOhkBhqFg43JWMeGfIsdsd2hKafZqjct9603Lx4thp9SXQ6uztSqP5q5T0MCZ15Z+ic\n",
       "TM8MXb4xF4Z47zFYHnlkyLPYHYa485TKUpMloZS0JzOitCaE5HnS3IAqiuovkhWFxZPGsjtDkbop\n",
       "pNCZ2YQy2bj4hmIWt6NKnqhuJRO5yQ8p6t8PnZLp2w9dvTGn8VD/OpSxT4Y8i91hKHa2pbkmeWua\n",
       "peo+I9WNibKieXel7V+RyM2VeCLre12dxyjnxwjFLK5mdvENxczdakOiaFcAcfozfbnRg7w/ppB0\n",
       "L8ss8sqQX7E7DCWan3nArH/fl+35rKMm0XLyV9WXMsTQ/u56eVQsoG7+Tuj6xbdib5qYB5KMR6li\n",
       "DgxdyvBwR9aIc2cruv74b2rE6bhcoerituz5QFzOq9gdhpxD23MzzoZonlJThrhWU4Yi82H2J+rc\n",
       "TgTtImvzj4GcX4V62s+Tw03qIkVM4Y1+KKLNOzgXnhnyKnaHIem8TFPPnIUcISwn1KRNN6L9K63M\n",
       "1jDUPhFP2jsysXhV9MOXLDn1GAu79xaIy72UIUb6fx0qcoehw2Jjiy8p3RiipxgioxQ+oaZGMh7+\n",
       "KlOLFCp7drs+ZDI9KiW5zttAxTw9gvNjVOrcuwQMPcRQ4yukzVTmYWmmaH1U0s2i23urkxyNo1hO\n",
       "dZ21iuVqCp6Qhaq/36RFM2HfmKGQkpBpm+mK7cxzExJ95hFlYwiZ6WKgRpRtIK6qIyTTVsV07kUV\n",
       "9mbG/WXmaVLcGSpm/cJJIZt6AEPeb8wxR2Nc2of+ffpNXpI8r7s0pPlmuRs+0x0/NBXb2VSazuRF\n",
       "+YTGduBO+7EET9qgRCpd3r8eGGpHQEpK2c/8NESx3MZQN10jhhHTcjjUqzMurjMEPxSAH6os3Tpn\n",
       "3vX6Ke06LHF1FB06cbsMTcR2NlXO5fUMNQLbSdnaqlndQRquY52J9N6XS5tRPJuN5cfxkLHioBvb\n",
       "x/3iUFbah0OVOsLoy714jtUS437bHGtjxPFgqTJJ+tdwl35znCiMeZxW1lLZh6SUquqfdJOhUWxn\n",
       "U+1kzDjMnjLUWk395UTDUNqTJmOnmMKZuFw8TsOUDQ02hoRo17eLabesY2gYDkm2eOy9YtJzfqjI\n",
       "PszQm+dYzRj36+ZYa2sZFgpXhjusMGjTb4rRrGJe9eXi1NkPDWJ7myrn8qYMsdFqZIUTYdWwpL0o\n",
       "dbCd8tz8ULNSNY2HzpONoUZPlVbKUhl9uWFdG7EMhxo9z/OWujNEXMdD6Mu9pC83rsLPs8k3dM2h\n",
       "aTJlqCKnzF0ZGsT2wyE+lzdlKB2st8k5HSf9UtU0d2Do9ByrjOK0gnWYY7UzlC1xyDu+O2WS9p7F\n",
       "dDgUNxKT/NRjdF3+B4bew9D4/ws9ZAtt+yFJljclbs1CyD5O4MDQYohdLuRFJB8Yisf1dfMmcxeG\n",
       "Ymv0bF+3LCvL2tV1fTM+63rzniFZLBnqQ9ZNLjjWvSrGrjchvRel8sxjFFqCoVAZYiJiQ7rQNv0m\n",
       "lzM/VHV9uv8vDzDUmFxrVhN5Udc9khNUWGWVbCrCqS/H3b/8XPxd5qRsA4EVC5nWQ9p73q1AJXnR\n",
       "eqcpQ7z/LXNCyzESIPr3QL/SSaVnHqPzElow9D6G6kcueTft3qXfHP1CO5FYku1LWhhKa5Prp/Kn\n",
       "fqYZV5R8jCmwnHM+W3tWli62c+3bh3oV2u7y8tnQRln7jvEyOsjUqcfovIT2lxiaxOdezVA1CmnC\n",
       "cryIh/SbrN8Xi6t2zvU4Q1VPTQ7hODbZZ0vIqrR/5s15hbH0L2cutqOyK4+IZDxRhxhKrMwarpkm\n",
       "uxe33Z77l+2/5IfG+Fwg34JPno2Q9fgldb3k7uO3y7NPps7CeBu2Qy59Cx5X3JaHGLKiLZYylp8I\n",
       "2ffwiqYzCu3dfPw7VnyD55+h9OxS0fP5FChzrzVsJ3GdZLXfMXXIAjJnyMa2geEStLU9vGYzCtGR\n",
       "L9vxDd7dN3aeodM5EC7kJJEWDJLUzXa48wjiZOOYzLScQsL2h/0l2794M009m1GYfNaEvlyAMYXr\n",
       "5UqORuFU1Vjed+Ro7EMp0xmFCDkaX8XQ7+RorHpjQTLURO5nMwr1cAi5gn/aDz3FUOo4y/rGPbz6\n",
       "GYXhMOSsB0MPMLTx9f2LGWpTm/QzCkfjI2AIDHllKPmaPbzUE3t46RsY0mAoLIaC3EvS9nHUZ/eS\n",
       "vGODpktC9cn8O3fd2W/taWw4ojD38MpJ9DmGbn236Pc2DQzZbSeTb38gLnt4pVqAITD0EEO8YIEx\n",
       "ZIthqzgCQ2DoIYaGrwNDYci2h5ckERgCQ48xFBEZFEOWPbzSLAJDYOhBhtoMEMEwZHbleCbA0M8z\n",
       "NMnReCtDK7kJcx4OQ+bkkDiI0PUcjWBo36CdcjR+jx8KajyUiQf1AIbQlwufIR+bm4EhMPQAQ4+W\n",
       "aUt8bG4GhsDQ87bzXCERGAJDYOjpAobAEBgCQ2AIDIEhrzJ9rdsGQ2DoZxl6mWcCQ2AIDIEhMASG\n",
       "wBAYAkNgCAyBITD0MYau5Gh0L5dzE35J8acHMLRm0L+ToxF+CAyhLweGwJB/hqgqcgaGwBAYOitY\n",
       "NVOyHAyBod9jaNw3aPh1Yish2S5rUGAIDB3Tgw669B5kSNgy/Bq3EvrEtylgCH4Ifbkoyjo2xBWD\n",
       "BkNg6IcZQl8ODIEhxBTAEBh6lKGI6iLnERgCQ2DotGB92aDBEBgCQ4Ex9HCOxp9j6B8wdO+NIUcj\n",
       "/BAYQl8ODIEhMASGwBAYAkNg6GMMec7rA4bA0K8x5FsMGAJDYAgMgSEwBIbAEBgCQ2AIDIEhMASG\n",
       "wBAYAkNgCAyBITAEhr6GoRQAedUDGIIfgh8CQ2AIDIGhdzK0WRMsQ4VOAJBXPYChlZIaDKVgCAyB\n",
       "ITBUp2sBQ8f0cEf6wugOmecpuOXi38tQpksAdEgPV5+0vkGofuKwo4fHutisCZahXEsAdEgPYOjk\n",
       "4YmR4XFeEyxDRFMAdEgPYOjk4eWQKd9eEyxDVBMAdEgPYOjk4VLnmzXBMmTe2G8Wdz2AoZOHU8PV\n",
       "z2uCZSgxHOxvFnc9BMPQ+SDhPQzlRthmXhMsQ6kRLPnN4q6H/SfNlu9blourDC1lpnFJ0+tcnjqR\n",
       "lXHJNg+3Wm5mLAWZ1wTLENMaAB3Sw/5xyeJ9y2N1maGlzKLeze4hhrLqbrLNw+sjIpkkM2gKY9eI\n",
       "eU2wDFUen4GgI3rYfdKlossX7mWGDJlVY3nxDEOivm4hNg7ndXyG8va/Ew0LQ+fiKxhS+PjhmB5W\n",
       "n7SQkpDaKMyNrk4ztCEzyj/dl+saw+q2KL5xeNPLzLNEzD19Yfj+IvoKhggW+xzTw+qTrkcstLIv\n",
       "kbUDmLaklxjakEl59GGGusa0fohtHN4AzwtdsNmIMzPGoNl3MFRikvWYHlafdO3IWNXDj2mU+PJD\n",
       "6zKliMoPM9Q3prb8rfFQXGuS1Q6rnClYGiqX38FQiuD2MT2sPum661KbGKPJ/MnxspDxObNdlZnN\n",
       "Nkf9DENDY8o42YrLkdpDqgo4yWeOPjZcf/wdDAkE5o7poT+MEaUVqa2AFDrr3rhSXTLbO2SeP9HW\n",
       "GktjljLafmcSL8JyyggpLGrCZai6EwTmjuhhfNKyD0OUfZ+EK3HR3u+Qef5EozW2xixlJKX9HVXs\n",
       "1ATMkERQ4ZAe9KQ/1Q+2O8OazaWeM1v/MsXQSR1+jVX62B1aG7OUkVkbHBsLEpc1ATOUYtXpqh62\n",
       "l8cMS+y6E+u1BGz3oW2vublBphqCJcOv4Yc+dIf2xritIdodDoXMUFRgQHRED3qEruu0CNm9pDnn\n",
       "VDifb6u8Q+b5ExetWWnMQoaMHbW7rAmZIWqswfjN4qiHydClOz5JO5tw+jB602zvkHllcDZrzUpj\n",
       "FjVqxZrJXk3IDKX4lPWIHoYnrfoh8bEJtk2zvUPm+RPdWjOXkdqPLY2unFETMkNRgaXbB/SghxE6\n",
       "mQ9dPNj7HTLPn+jYmrkMYnfmWbFbEzRDJZbMHdCDHsJKXRyPld7s/Q6Z5090bI126srJ3ZqgGYoQ\n",
       "mTugB2PoIpk3e79DpofB2XZrZjLsk0MRMSZYzZqwGZJaACBXPYwWdqrbtcOQf5lXGHJqzUyGfXJI\n",
       "GG8nsyZwhgSiCu56GHs6rbkQ5s/e75B5pS/n1JqpDJav9JLZbk3gDFV3BEfkqodxSUGzPJkcnRjY\n",
       "NNs7ZJ4/0a01Uxlrk0N0vyZ0hiIFR+Sqh8lqspzQ41lid6ZkbpB5/kSn1kxlEMdXk+1lFTpDMRae\n",
       "uuoBeX2OHi6MlYjCtjYxdIYiijRzjnoIOL/cPdJ2Dyf5fs03MBQprN520wMYOnh4WojdmtsYasqn\n",
       "pm54gbCCkx7A0MHDVbpbow5twuJeRNKUjy0hSDEictIDGDp2uEj3a1pTR0/oV0rAe3jddIf+rvw/\n",
       "E70oYsKTgLsAAAAASUVORK5CYII=\n",
       "\" style=\"display:inline;vertical-align:middle;\" /></a><br>"
      ],
      "text/plain": [
       "<IPython.core.display.HTML object>"
      ]
     },
     "metadata": {},
     "output_type": "display_data"
    }
   ],
   "source": [
    "QPE1_def = Forall(\n",
    "    (s, t), Forall(\n",
    "        U, QcircuitEquiv(_QPE1_U_t.literals_as_variables(_U, _t, _s), \n",
    "                         QPE1_U_t_circuit),\n",
    "        domain=RegisterU(s)),\n",
    "    domain=NaturalPos)"
   ]
  },
  {
   "cell_type": "code",
   "execution_count": 4,
   "metadata": {},
   "outputs": [
    {
     "data": {
      "text/html": [
       "<strong id=\"QPE_def\">QPE_def:</strong> <a class=\"ProveItLink\" href=\"../__pv_it/axioms/cbcaf8d7a9ec46f0c24790e7d8ca378bed4669ed0/axiom_expr.ipynb\"><img src=\"data:image/png;base64,iVBORw0KGgoAAAANSUhEUgAAAu0AAABMBAMAAAArT5Q2AAAAMFBMVEX///8AAAAAAAAAAAAAAAAA\n",
       "AAAAAAAAAAAAAAAAAAAAAAAAAAAAAAAAAAAAAAAAAAAv3aB7AAAAD3RSTlMAq1RmmUTNIjK7EInv\n",
       "3XZ/CtNrAAAACXBIWXMAAA7EAAAOxAGVKw4bAAANzUlEQVR42s2dDYxcRR3A//v59t7e7u0Zra1Q\n",
       "ukkLmAjepqcVm8BdQ/mItHAiaMTqbcWkpCDdhsSk0HpbxUQjeNegrYfFPmJCrGhvqTGSVugWgkaE\n",
       "3BWk1bZHFz8ionB3lHL9uHadjzdv3sz72He3O7u+pN1/Zuftf+Y3M//5z3/mvQMIdiWq1WoGZn/F\n",
       "+6CVV4vVo0s7KgsphDLw7Ylz3d1zqcOK1tZ6BbT8ekoWIt3di4Jzn56T0vCLLa2zQvVVr0vO2J6T\n",
       "BYAe1dx/mWspd4XqJz3SO+SE2LQsNIH7vNaOcYXqA3OHBQ5BOffEqZZiV6k+OPeBrCwo5x7Pt9ab\n",
       "yf8/cG8bkwXl3Lta68apVB+ce+KCLCjn/vXWmneV6oNzh50OQTF33sCtMe8Xmsv9Qw7u8QIZdsyu\n",
       "W4Ji7qGzLeWuVH0g7iN0CLBpxhIUcx8ZUo123WzVV+u7fLm/JXEvwGW0/U+zjnC6Odx7smpDH6BP\n",
       "zlb9ZF0aO/x+aPsPnxOzrH/g8NNkwXSOrZzONYf7LsMSfyzXoAF9Lm6E0cDdbQRQ3wzusE/MksjA\n",
       "V6k0w5JmmsJdP89Nba72tD/rum/Vnrm7CImjtdU3h7tk36N9YE4wu4ogCmq5R85Z4kWggPt1EMeW\n",
       "5Mra6tVw33r8YOdjLxnxw9vG127/K9DezbOkIFam0kQJREEt95C1TI/kVXAfgw5sSZKZWupV9fd+\n",
       "NHGvKXZkYSIHVzi4L4F05udEGmTVZ4Ja7u1WJTcXFHAP98IaIrxaS70q7gOoxSPZxwFzbwP4kZhl\n",
       "PkQr++htzKFlglruI1Y84nVQwD1UhDd0bDCvMGqoV8ldr9xHuCcNibueh8S11J7H2chjglruXcx/\n",
       "jpRVcH8C4OYkRh7v9Vevkvv9UPkO4R4poA5uzxKp8Bn2giSo5X4Lm07aSyq4XwPw4FXELZ72V6+S\n",
       "+6fofEnctRuELHE+CiNnJEEt9w1s3TJhqOC+3kpa66/evkqtk7v4QwMZ7YiN+1suWSi8GUlQy32U\n",
       "ua2HXMrdiLpbFsXwVa+uvx+cN23jLmbZa1tJVCVBLfeqiSNxGhT09yTvziMVP/VK7cwNntzts3q1\n",
       "KApKuWuslUNlFdxTPKltzE+9Uu6X27ivs2eJ2Sf7E1lRUMo9zNbp7RkV3G+zrUyn/dSr9SM5dxqk\n",
       "6+Berm2qqYiCUu7p99kqLaeC+3yb/Tzpp75Z3MN5j+EIsKgkCkq5J5n3NFFQwd1uWw76qVfHfXDI\n",
       "xp0E6XiWawSXNiMKSrmHpkxhJyjgHrHPpY/5qVcXF9twkAy62IrRgzcCDdJZWdbb7zuQFwXEnTTA\n",
       "4kDcQ8RsBj6C1faeKfxxLtzlMaJJd8bt3soBP/Xq+rv0pWHLogmL5QNjotCDg6lQY7vM4h7FxyLi\n",
       "haCFjJsV19+bA/d0VkqIVcQ7N9m/7KEHNvSLX8G3iuqbxn2NPUtSKP9EWRQQ962OxvHknsjI9fW9\n",
       "Umb823Vbn9Ug/cEVCOjGE1OdwzkS0J73EhlQHwNt4fkPQGj0XnbH38U799p/bZA2SurNq0vmsOTq\n",
       "m8adBunMLCHhq55JUeih4zWZDWbf18v19b3azYqH3/WuQeIYwNuouIMZ0H4P0I9adneJBvMgiYN3\n",
       "/6H5flWwDIt5p+CbjvSaTaOvBXhQVD8H7gWvBF/uNEjnOpBduEdQ94oHnFe70b98cO5mP4+c9uY+\n",
       "gDpq+jT1yHpKNLCKiUZxqXAZP2NFAiK93haqI8PaInRX7IiofvbcHTYOvhKEOw3SuXLvmhQF7M+8\n",
       "PD7+p4Dc28fHj5eCcze96vS0N/d78H/jlPvgGHWIMd92nGWId+vV6N+LPtypocRlm5jpE9W7c39j\n",
       "5SXIvi6sdi54BBILX+rsvOd5K4/TxqVzAbj7TFxu3JEH9GhA7tEitBnBjaFZ8eRZz+KFiS2YqBDg\n",
       "/Xn8cTvg3oYPnvSjsaCbzYzMEdzpXbF22yg0JPWu3B8uQfovqFbI19ychxj60H9ircIkG6cfsbzC\n",
       "uXLvnxQFzH0jaF4PLiUl7ijjRteMl1uSzavuMO161Jt7iGQZJMDhQBZ//JN8cRP2uZDdj5DOG1tw\n",
       "5hLrORW3iqWoe7Z6HF+HRPVu3DVsgyaKoE2R7W/8AY+zLLKNC6Pyf6I+7oNnRQFzbzOS/Nis6VBu\n",
       "uakvgtaAUdtSfDn+/1H4DbJjUzntMdoPn3x5H6yaj+k8+dRHaKFtUZPl5tQ+6Vk8uu81UMbA9zxP\n",
       "Aqt0Jwz37eP858L4J5b5cHeJvDH1btzjZdpYGHjiPOVulVy2cVHUqO1GXdx/lhOF+3CdKnxaxaGd\n",
       "xBvDfeHMPtzaUXm9+nE8rWIIt9N8sI1kehwb5dWQ6M5BjNv/jlNBuSPDfmz/30jAQyOblID8cH2K\n",
       "u2NRbEeumB33jlPe3LtwKdMXCPDY+/gj1hdmWWQbl0Kf8VzD+zvkeSgBh3ZWouEdviaKJykH9zhe\n",
       "nWMIFZoPc0+StdcpGCiSe9bP3s70D8EAnRiJfccr0xdQGbB9/iavOgzWtDOiBh87swjPIQkCHJLv\n",
       "4o80H/OijYPP7tpWYWdFGsp9L0aV7M7S0A6ZusPf+kKllFy5euV1IvfkZQaFUDKneMod1Xo54h7D\n",
       "TbHXUfGktz8Tfs+MKnHuvyCDEHFPYvfzt6Z/3metB/3m1cD2fQP+PW0GA9f/m0NS5wbOXbJx0AXW\n",
       "ASCb7sDP8xHck6JAuG/GbXkjWYzGs7Cb8Cjuu9Stv2sHTQgVmo9y10ihnoEP6xV8WsfhR/r47zsh\n",
       "lsWV5NwBrqJ2JjnJTWwX6Na5MFfuGW831ps7Muzn9z+L+9sUbOLcJRsH12Mg5bqieW7+DI3Qb19u\n",
       "hnY+R7lH00Mu3EnQG7V/rEjzUe4xDC1xFBbj8NoXHRX3XTeVLt1D1k027rgVf0rdiFCB+oXXw0cB\n",
       "Pu3jv/fOjjuxM7EzoNFYMbHv1qJUsnHEh01MNp47uR6aKdChvGx4eDgbLuqlvBt3s/3TZj78aGAS\n",
       "wiRuY/rN3+NG16x4+JQ3d+3eSnhVn3WAbRD9UhJ3Lewzfg001Mw63r7oxCPpJm/uIy6ruZQP9y7c\n",
       "TumTNu66oeX0ZYy73cbpuPixshrumrGlQkM736f9HW6tOP13eq0A2ANA8sHbOFMCdVatV6P9hduZ\n",
       "uLlQT5z0i4tt+8cYFDdumMLktp6Y6lwwirv+w3he2HYzWc2iBt2EIxSveXMfrLiEQ33iBG1luBU7\n",
       "QZw7GpbFH7zN7IzdxiH3zYDwWF3cu8qiYHFP9SVRF8ehHbIgRVN5OuO17/Fl4mHRhWsqC2+SeXXT\n",
       "dx+kHf4dHgBngakaceAj4AyHporcxzIHkjYm38nDV10ugb02n7iYdi58RwWvm2zc42wGkWxcNI96\n",
       "YWSoLu49Y6JgcY8sXgqJ53BoR8NPCDy8Tgr42bmHL8IhWZIP9P37EaEdAKNsIt/BN3wY78P+3Od9\n",
       "2+kFRnodi+aoI0bCXVa3ncSQX/z9G+/AkheIK0kqh7n/jnGXbFwog0Z3tFQX94m8KIj7fHTl8OTw\n",
       "cJ9HfEa4bPm+ZFvX8r4bZRttF/tz76q6WAnefHtA3Oiw7kQeGPF+8TzpoiHqu8/370vQOk+bV8UH\n",
       "8xMLq52dO88w7pKN0x7JYXtQF/cDQ6Igcr+jVlzM64oW3ERrY7nH8OUedduV3u2I+OyQ74z2md6v\n",
       "+05irX3tVKFN/vJKLxsHW6Au7rf0ioLIPTdX7vTJHnJ90mYrrHMc2YDLOtulyWMg7dh7SDHvl4a5\n",
       "HKaqxjmO0F1Xu3N3sXFwbX3cd1VEoVHnCXRHFBb7XjM+q5oGnEtdwrxf93NLlnoP7uHqBXfuLjaO\n",
       "bYTOtdTWEVlTaM45vWhZCff5zPuF0JzO6a3KeHB32ri2Qn2lto7ImoLic6lmaWOnVHDX88T7JUkV\n",
       "P/Ve3B3XAxuedbdx8K86S20dkTUFtdxPMH/nzyq4RyrE+/WauG3qg3KfxVgTRxbUSNZmJEEt90U5\n",
       "b4emfu62g0uH/NWr5h43aiTH3pcEtdwnmGNgPWej5rkDj+dsJnqbxH0rwK+X+iWn2dKZCWq597NV\n",
       "WuSsgv7OA/1tGX/1qrlfB9HiVr/kENsKYILi5yitSt6tgDv3YfqNGuoVcx+DtjsNv+QU63eppjy/\n",
       "mrLueajxzw3bnqd4pZZ6tdzDvZAY/YNf8ghzpJmglnvSCgCnhxrOnT9P4fWcfPJkc7ijktyvve6X\n",
       "3MVKyAS13GM8MtX490Lw5yk+X1u9Uu5P4K2Bp/2SF7HlKhMUv39mlPtU2UZztw5BJNbXVq+UOyrJ\n",
       "0u6sX/KoXCLF3G+xbIHzvT/11t2i/YQRQL1K7h7tzpMTU7KgmHt/aZaeQfC6Bziyb1Ov4HntABfT\n",
       "lX5XFhRzby8r4x7gyL6r+sb3d4+S2JLjZVlQzD3t837eOt8vFpqj+sZzT3l4sVwcLMmC6velTkFL\n",
       "r6lmcL/NPasteZEhC6q5HzBayt1FfeO5z3fPypP1KVlQzn2k1FLuLuobz30MPIIHlrmblgXl3NOt\n",
       "fVGti/qGcxeeX3ZNbu+VBfV/7+BYaw38MfXcawbf+VuP+OuPlHPvKrSUu1N9w7l7PM/Lk62XVtje\n",
       "XqGce3Sopdyd6hvO3eN5Xp4cGpKFJnD3erdjs65X61txBniowCMYypPXGLIwK+5z/HtlD7XWk2yx\n",
       "eny9Jguz+ntlevfc/l5ZrLUGvsXqMbg+WYgglPA/W/wSX+2CunwAAAAASUVORK5CYII=\n",
       "\" style=\"display:inline;vertical-align:middle;\" /></a><br>"
      ],
      "text/plain": [
       "<IPython.core.display.HTML object>"
      ]
     },
     "metadata": {},
     "output_type": "display_data"
    }
   ],
   "source": [
    "QPE_def = Forall(\n",
    "    (s, t), Forall(\n",
    "        U, QcircuitEquiv(_QPE_U_t.literals_as_variables(_U, _t, _s), \n",
    "                         _QPE_U_t_circuit.literals_as_variables(_U, _t, _s)),\n",
    "        domain=RegisterU(s)),\n",
    "    domain=NaturalPos)"
   ]
  },
  {
   "cell_type": "markdown",
   "metadata": {},
   "source": [
    "## Local axioms for convenience (_i.e._, used only within the QPE package)"
   ]
  },
  {
   "cell_type": "markdown",
   "metadata": {},
   "source": [
    "Let $U$ be a unitary operator that acts on $s$ qubits, with $\\lvert u\\rangle$ as an eigenstate of $U$ with eigenvalue $e^{2 \\pi i \\varphi}$: $U \\lvert u\\rangle = e^{2 \\pi i \\varphi} \\lvert u\\rangle$."
   ]
  },
  {
   "cell_type": "code",
   "execution_count": 5,
   "metadata": {},
   "outputs": [
    {
     "data": {
      "text/html": [
       "<strong id=\"_t_in_natural_pos\">_t_in_natural_pos:</strong> <a class=\"ProveItLink\" href=\"../__pv_it/axioms/ef512c308ef7f3b4853c914df06179ed62ca3f5d0/axiom_expr.ipynb\"><img src=\"data:image/png;base64,iVBORw0KGgoAAAANSUhEUgAAADwAAAATBAMAAAA+KHOiAAAAMFBMVEX///8AAAAAAAAAAAAAAAAA\n",
       "AAAAAAAAAAAAAAAAAAAAAAAAAAAAAAAAAAAAAAAAAAAv3aB7AAAAD3RSTlMAEN0iVJmJRKu7ds0y\n",
       "Zu8qwvqBAAAACXBIWXMAAA7EAAAOxAGVKw4bAAAA5klEQVQoz2NgwA0CGPCCCaRLM+rP3MjA9v45\n",
       "Lt2cDhUMDPJw3YzKqNIcymwXGPgYWGfOfDlzLgMDy0c0aU+GzQxMcN2sChDhlUpKG8DStguskaSZ\n",
       "EsCy1Qthug16uBLg0hXzZywAUswb4YYbcDJMR+j2BwtyGyCkeQKEhOChFg2RRjjNgOEKyzw4Vw1M\n",
       "nlMCgglQaQ6BPngofQdTksi6GRuEYDyWDwwCIPcjSzOc4oTxWDewHABSXAvggQrkcp2EK26QAtNb\n",
       "YALcDnD3gjw89wKYlpguAKZ59r8EktIYMVU2CRKoKAAARP0vCk79Y/oAAAAASUVORK5CYII=\n",
       "\" style=\"display:inline;vertical-align:middle;\" /></a><br>"
      ],
      "text/plain": [
       "<IPython.core.display.HTML object>"
      ]
     },
     "metadata": {},
     "output_type": "display_data"
    }
   ],
   "source": [
    "# t (represented by the Literal t_)\n",
    "# denotes the number of Qbits in the input register\n",
    "_t_in_natural_pos = InSet(_t, NaturalPos)"
   ]
  },
  {
   "cell_type": "code",
   "execution_count": 6,
   "metadata": {},
   "outputs": [
    {
     "data": {
      "text/html": [
       "<strong id=\"_s_in_nat_pos\">_s_in_nat_pos:</strong> <a class=\"ProveItLink\" href=\"../__pv_it/axioms/7f1ab57f29cb02688d5ccdaf1c08ab3d9b61b1960/axiom_expr.ipynb\"><img src=\"data:image/png;base64,iVBORw0KGgoAAAANSUhEUgAAAD0AAAATBAMAAADR6hicAAAAMFBMVEX///8AAAAAAAAAAAAAAAAA\n",
       "AAAAAAAAAAAAAAAAAAAAAAAAAAAAAAAAAAAAAAAAAAAv3aB7AAAAD3RSTlMAiXaZELsyRCJm3c1U\n",
       "76sUjwJqAAAACXBIWXMAAA7EAAAOxAGVKw4bAAAA5UlEQVQoz2NgwA2YGfADVrLkvb5GOzDI/i3A\n",
       "qT+G/QEDywfc5r9qkGRguMBgGhobGjoBi/ybAO4GhgUY+pmiVq0GM15M4tiAKc++yQHKesGXoIgk\n",
       "z6hkAqK6YdIMLxgCWAsQ8mEMxSBqBwNCPpllyQJY+HF8YIgE0RuQ5DkPHL0A43F8nQGi2G6tWrVq\n",
       "KVSe4QkfXJ5B/r8AkGQJQNLP4MeyAOHy0i8gcgGyPJsCXLkUAwNYXgkuHwbEanD5TQw8BiCa+wBM\n",
       "ZA/I6XDnJk3SBNMsT0sgAtl/gXpZNmAEO7soNHxRAABjOjsCU0Qw3QAAAABJRU5ErkJggg==\n",
       "\" style=\"display:inline;vertical-align:middle;\" /></a><br>"
      ],
      "text/plain": [
       "<IPython.core.display.HTML object>"
      ]
     },
     "metadata": {},
     "output_type": "display_data"
    }
   ],
   "source": [
    "_s_in_nat_pos = InSet(_s, NaturalPos)"
   ]
  },
  {
   "cell_type": "code",
   "execution_count": 7,
   "metadata": {},
   "outputs": [
    {
     "data": {
      "text/html": [
       "<strong id=\"_unitary_U\">_unitary_U:</strong> <a class=\"ProveItLink\" href=\"../__pv_it/axioms/dc684da43396c7cdf0ca24bc90e66fb94ca221c30/axiom_expr.ipynb\"><img src=\"data:image/png;base64,iVBORw0KGgoAAAANSUhEUgAAAF0AAAAVBAMAAADWVP/xAAAAMFBMVEX///8AAAAAAAAAAAAAAAAA\n",
       "AAAAAAAAAAAAAAAAAAAAAAAAAAAAAAAAAAAAAAAAAAAv3aB7AAAAD3RSTlMAIqvdVO/NdolEmRC7\n",
       "MmaVuGqYAAAACXBIWXMAAA7EAAAOxAGVKw4bAAABqUlEQVQoz4VTv0sCYRh+ztPz54no0FCQFS0u\n",
       "Sg7REDq2aUGzDjUZ/YC2Gu4PqHSqRsEmCTkaoiHwIBraDqE5B5ccIgiUoLD38z7Pu0Tuhe/eHzzf\n",
       "873f870HOJjA/UUHiMDZjg0X0FvAFQXRzEoWy71DK6a1u6Xg+atKoVuBUN/TEdpXAW+bKuUKBYqd\n",
       "9E0DgikW3QNz8H1DLmxSVqJ1wE5T7fj5OH3YQgNYALYxK6xS1qX1Q8vFcafpdNGOzwMFFcnIGs4p\n",
       "86jw98k/GPDLk//8btq+BCT1zkeWUqkN3y/5d0O60kQ/AeNiGV73xSHSiagOMykygZeYIpD7vB4u\n",
       "omm2CmnyviLrAmKc19155IhBMNR/TZNpNrynwtLbEY/8ibJObRmNPJr8Tc2KD4/o4c+jPJZTNPEe\n",
       "kkVuj/rZgMBv5k4hpw5fhJnXHIowieZibxiikqzAy98zrEGqIqpz2I55QE3FDRcQsXq9xstM3rOE\n",
       "SXv3MpoLf2JxSCLTEGUGgx4vixX73Fw/GfMwtnVbFnMc/64tazjiQ9Z/StAc8UFt2uYpNmOJj4A/\n",
       "KA1aDqCeBmsAAAAASUVORK5CYII=\n",
       "\" style=\"display:inline;vertical-align:middle;\" /></a><br>"
      ],
      "text/plain": [
       "<IPython.core.display.HTML object>"
      ]
     },
     "metadata": {},
     "output_type": "display_data"
    }
   ],
   "source": [
    "_unitary_U = InSet(_U, RegisterU(_s))"
   ]
  },
  {
   "cell_type": "code",
   "execution_count": 8,
   "metadata": {},
   "outputs": [
    {
     "data": {
      "text/html": [
       "<strong id=\"_u_ket_register\">_u_ket_register:</strong> <a class=\"ProveItLink\" href=\"../__pv_it/axioms/3f2344adfe5a682035b7beb680c784d42170bf4a0/axiom_expr.ipynb\"><img src=\"data:image/png;base64,iVBORw0KGgoAAAANSUhEUgAAAE4AAAAZBAMAAABtDwVhAAAAMFBMVEX///8AAAAAAAAAAAAAAAAA\n",
       "AAAAAAAAAAAAAAAAAAAAAAAAAAAAAAAAAAAAAAAAAAAv3aB7AAAAD3RSTlMAIolEdjIQmWarVO/d\n",
       "zbuGLT5cAAAACXBIWXMAAA7EAAAOxAGVKw4bAAABaklEQVQoz2NgIAZEdBBUwqY0M4GhgImgOnYG\n",
       "9gMM5qUE1fEbMH7lFEhhEIDyWXGo40hg/MrV1cCgDOXzBWC4TO/sFVEFBgamAyAeTB1XAbo6zx0M\n",
       "6f+AojEJyOoYDqB7wBloVl8BA+MzBhR1WmjqwvmA5nAWMIgzCKKok4PSfmfOXADR0/hAbmxgfBpa\n",
       "hqKOF+JzWzco/4E4mOL+//8DRB2bewMDZwIDlwKIy3gNqoxxQhCKM5QZmLg2MPTDPMILD08FCzR1\n",
       "UcCImQtkFYPVwcQZC0zQ1CVwOzBsAbIiQdzoM0DwAOw+ITR1DPbAqAGyFoG4eXCJZ3zo6moYWEBe\n",
       "ugji8sAlzEHhx2CApO4lA9+DNgZGsG0sDoj4mAAkLiCpq2SIVlBgYFoA5t+CG+h3XSDrOLK9mSoL\n",
       "pwTAbMx8nABPL/uPCyCrg4DlUNrozZkLWNIhXN1D/Okapo7tAnHqWBrwq3OF0pz4lQEAE8dMzY/q\n",
       "8JcAAAAASUVORK5CYII=\n",
       "\" style=\"display:inline;vertical-align:middle;\" /></a><br>"
      ],
      "text/plain": [
       "<IPython.core.display.HTML object>"
      ]
     },
     "metadata": {},
     "output_type": "display_data"
    }
   ],
   "source": [
    "_u_ket_register = InSet(_ket_u, QubitRegisterSpace(_s))"
   ]
  },
  {
   "cell_type": "code",
   "execution_count": 9,
   "metadata": {},
   "outputs": [
    {
     "data": {
      "text/html": [
       "<strong id=\"_normalized_ket_u\">_normalized_ket_u:</strong> <a class=\"ProveItLink\" href=\"../__pv_it/axioms/b36edb2fb98644f6720adc83767267a7966450290/axiom_expr.ipynb\"><img src=\"data:image/png;base64,iVBORw0KGgoAAAANSUhEUgAAAFIAAAAVBAMAAAAnX6R8AAAAMFBMVEX///8AAAAAAAAAAAAAAAAA\n",
       "AAAAAAAAAAAAAAAAAAAAAAAAAAAAAAAAAAAAAAAAAAAv3aB7AAAAD3RSTlMAIkSJMpl2EGarVO/d\n",
       "zbtGyc70AAAACXBIWXMAAA7EAAAOxAGVKw4bAAAA30lEQVQoz2NgZGBkACEIcAARAkCIBSgzuDIw\n",
       "MCtAeU+AmMmAJYCwyqU4VLIcR1fJg11lZex3dJXMC7CbyYahkvEBsSoZLhJWWRbBwDCdgWExYZUG\n",
       "qxk4PoC9BFMZcwYETqKrZFkQw8B5gYGBVYGQmewM2xi4E4ABN4Gg7UzfGeSBccllQFAl6wGGfKAQ\n",
       "rwAhdzLwTWB4x1HAIEfY76wTWDYzMzBYYVfJ/BGhkn1ylmQKA8MBrCo5Z/+dgRZHXAHEpjo+AWJV\n",
       "1hKdkjPwqHRjEAYGggOUNwGUvhMYDbAoBAArJUYL2YmStgAAAABJRU5ErkJggg==\n",
       "\" style=\"display:inline;vertical-align:middle;\" /></a><br>"
      ],
      "text/plain": [
       "<IPython.core.display.HTML object>"
      ]
     },
     "metadata": {},
     "output_type": "display_data"
    }
   ],
   "source": [
    "_normalized_ket_u = Equals(Norm(_ket_u), one)"
   ]
  },
  {
   "cell_type": "code",
   "execution_count": 10,
   "metadata": {},
   "outputs": [
    {
     "data": {
      "text/html": [
       "<strong id=\"_phase_in_interval\">_phase_in_interval:</strong> <a class=\"ProveItLink\" href=\"../__pv_it/axioms/760aa70249d81a03882cb81559cfd42539ef921f0/axiom_expr.ipynb\"><img src=\"data:image/png;base64,iVBORw0KGgoAAAANSUhEUgAAAFAAAAAVBAMAAAAjqnRBAAAAMFBMVEX///8AAAAAAAAAAAAAAAAA\n",
       "AAAAAAAAAAAAAAAAAAAAAAAAAAAAAAAAAAAAAAAAAAAv3aB7AAAAD3RSTlMAMkTNuxCZZquJVHbd\n",
       "7yKDlRhzAAAACXBIWXMAAA7EAAAOxAGVKw4bAAABW0lEQVQoz2NgwAL2HEQT4GPADiahCzBtwKmQ\n",
       "c3YejCcTwMCwHadCK4aYB2A2a5s9UCFzAA6F7AcYOB2gvP1ARewJKAq2nDljAFHI0sDA9RVJIcNV\n",
       "ZHXKW+Em8icwMP5CVmjOwCjAwGTvCg4DU4TV8UCF35EVzmBgY2AQLuoECTA/QCh8P4GB8TeywmKG\n",
       "hQwMDQwsYIUMqAp/IitcyzCBgT0AZCwDg+wZIHCAWj2BgQnFRHmGDQzcDAzRIIEQJBOBnuFC8Ywu\n",
       "QwKDIgNDKkiAB0khiwMDO0rwrGFIByqNEAAJcG9ACvALDGwGDAEIhSUMzNaGZYcg8lZIUXiKIVaA\n",
       "9TOYNx8UGpkMDDX/T0LlI5wC4ArDZjcyMJwB8TvuWxQwMADNYiuAu03TBxaFEMAFTwp8BxgYeAVw\n",
       "pkdOuAjINHncCTcaLvIElO5xK0Skaz8gfoipcA56nuF+wAAACYFae6IiZsQAAAAASUVORK5CYII=\n",
       "\" style=\"display:inline;vertical-align:middle;\" /></a><br>"
      ],
      "text/plain": [
       "<IPython.core.display.HTML object>"
      ]
     },
     "metadata": {},
     "output_type": "display_data"
    }
   ],
   "source": [
    "_phase_in_interval = InSet(_phase, IntervalCO(zero, one))"
   ]
  },
  {
   "cell_type": "code",
   "execution_count": 11,
   "metadata": {},
   "outputs": [
    {
     "data": {
      "text/html": [
       "<strong id=\"_eigen_uu\">_eigen_uu:</strong> <a class=\"ProveItLink\" href=\"../__pv_it/axioms/54ff48ffe9b4d34d57910f98678fb665aa1bef1f0/axiom_expr.ipynb\"><img src=\"data:image/png;base64,iVBORw0KGgoAAAANSUhEUgAAAMsAAAAbBAMAAAAg62YvAAAAMFBMVEX///8AAAAAAAAAAAAAAAAA\n",
       "AAAAAAAAAAAAAAAAAAAAAAAAAAAAAAAAAAAAAAAAAAAv3aB7AAAAD3RSTlMAInZUiRDNmWbv3US7\n",
       "qzJazP2FAAAACXBIWXMAAA7EAAAOxAGVKw4bAAADC0lEQVRIx7VWS2gUQRB9Mzub/SS72SiiiJAR\n",
       "BD8HUQwRPY3GWxDnEARF8XMxFyFIcjAaWASFoGgUhYAHxRyCelm85SC7EQRBI6sBwaBhQUiIoBvU\n",
       "BD/oWtUzs/Z8EmclFvR099TUez1V1dUNLIFcxv+R6J63pjS9vuQEF8Uzhtjt0Cax2lkiXaJrzCm/\n",
       "QtsoBdFlpFfOOM3qAJP9Vhc3Bc3qSqXCFp38LoupwUAcnOOHukWCabf7hhJQr/tpnjgDjZwW7Vml\n",
       "iQnT1GeUF1OBOEhyHFugTHwfR+rWcUktnLPB//8Dzui9GTWiWNtBZAbRdECFBs1HI3DUIn11lJb2\n",
       "gybrZDU4wnWmL5qGw/cY6atAYRrcd2Imo2I5UXlpBE50jiyzhDdLkx6Xuo0j0OWlaczZg5VoEsF9\n",
       "WHVaCjq2+WnabH2CrTkXii71Gn7c8NKU7f9Tnn/kVcX0kSpNfLI4bfhpBM5ZoJW6vC5cLKvrqhkk\n",
       "yyZ2wethJCqVWeFVEV3ru9ZvT/2pZOFsBLqp20f5EM9Z6uj6LFImIsy610vzitqBof5i0PaI666M\n",
       "lXHypljJ3epebYcWGcAVO3YXRNjvCRHQz6hNQJkLomlwbwwZp1zCELnhpwihpX5HZYQXfYbaDi/U\n",
       "SWpfpd0jS9J00cg4zTncpOQmSyyz1WZCxzUafeBVeKGGKX9p539ZrKrO+3GOCBqNC8cuJ3R5q5C0\n",
       "UBsJ+Jv056amFYuVsGE/TrNwmjbr5DOre6Hy/Bi1nd7YsNM+hSmXbpxyBo/IaRTSVMZRj6GhcN4q\n",
       "q5e81m+onTYDi6qPRsKhTOOkPQFlsqruw4xhQOO86fZa0wbAwcEHd8LQSDj9VAO53I6d+qM+vHvr\n",
       "yxKSPLvvtc5zNvXO62FoJJw+ysMSAg4CbOeS4jshE7mQR5kLh/emuz5W1aOwquoCFTo0zahdocXA\n",
       "p+bjwSp7LkkP1EgjcOKcpYeC1GrWuwBLxmukEThJzmJFDuhmu+fSo2YWvAv8VWQc6y5Q283GqNnE\n",
       "udn8wz2tJonRLvgNEfPGRyDbHn8AAAAASUVORK5CYII=\n",
       "\" style=\"display:inline;vertical-align:middle;\" /></a><br>"
      ],
      "text/plain": [
       "<IPython.core.display.HTML object>"
      ]
     },
     "metadata": {},
     "output_type": "display_data"
    }
   ],
   "source": [
    "_eigen_uu = Equals(MatrixMult(_U, _ket_u), \n",
    "                   ScalarMult(exp(Mult(two, pi, i, _phase)), _ket_u))"
   ]
  },
  {
   "cell_type": "code",
   "execution_count": 12,
   "metadata": {},
   "outputs": [
    {
     "data": {
      "text/html": [
       "<strong id=\"_mod_add_def\">_mod_add_def:</strong> <a class=\"ProveItLink\" href=\"../__pv_it/axioms/7374bec435b926e3c0b66ae528401867b6bc300e0/axiom_expr.ipynb\"><img src=\"data:image/png;base64,iVBORw0KGgoAAAANSUhEUgAAAUUAAAAaBAMAAADS9VP4AAAAMFBMVEX///8AAAAAAAAAAAAAAAAA\n",
       "AAAAAAAAAAAAAAAAAAAAAAAAAAAAAAAAAAAAAAAAAAAv3aB7AAAAD3RSTlMAq1RmmUTNIjK7EInv\n",
       "3XZ/CtNrAAAACXBIWXMAAA7EAAAOxAGVKw4bAAAE10lEQVRYw81XXWgcVRT+sjubmZ39rUJVgsmC\n",
       "1B9q6xa0WJW6pVGsoXGg+BZ0RUHSvkz0KaDpVEQfbE1Aqa6Kbl+EuqW70aAlizVgRatWU6lU2i7d\n",
       "rYKW/hAisbHW1nPmJ5m7O7PdfRA9cGfuzNzv3O/83HvPAP9TebrN8Xfh3wY0iDoDZOgutTg+kGlz\n",
       "grYBHiqywDDd5bHWxr/PF93no+wHkNsANA76dIuBYJV6a1vj+Bq1eMrnY6jqDcCpNgCN0snzHaMW\n",
       "ywNJfnNTU5um6LLc68vuQ3T52RsQKLUOsCV+QjPhvYMGEkQNNX5JBB+46iKSaDY16/npKbY47wWw\n",
       "4t0iwJGtJsdhROYwwL0ijVQvAtuumpgJQkppt73rlkxavVlqwYwXAOuF+Dpwb4AAxHXAt6ipBlnD\n",
       "sCctqyKpZhxHaUTU9axMKlrB1Ba6yNevvQCYElapnYM+AJHj93n06P0RUiKx7zaQVcS1s2n6nqN2\n",
       "s+v5VSgalnEvMg3L0EZAIOvF0QcgcrwR6DFevJsDxoaepXaoUvmmKcel1Po4I7p+NacqMUc2E53d\n",
       "NYrAuBfAzMmh/SMiRwHw0oGR09XHTmtQ+39hcuXzo5qt4aTL7Y/TTA8BbzXlmLNNH9DDjInrzFFl\n",
       "DsXN6gVgNQ/aWGE5vADgVAp9iffyAkcXgORwSvldC05hh453gT0pfGZzVC7b93nOHErMIcjJhVQb\n",
       "tDsdByfedlL7CWo/0AL7HBKHqgPM0Tyo7sjjO+D2eqMYECN/7Uljo+hHEfAO8CfzOG4S2emsawLb\n",
       "hOQ5e7GH8xFtQX0XE63ltJge2etsEUeofUHRm0GMnRculye6ymVO5weBv0h/PUcGREnnI+DpIVUq\n",
       "Jyihkg2AHD8p8wot9kRJJd8VbSIbnEObOfLLQNW1ZL6i1kvODeKFZ91uIY7RMUuHtOjH4wiR/gEv\n",
       "PzLHg9YkLj+KAOJ4mTgGaFBiTFnkGHTiKnOstxIdZPlILKz9xEyEWj5u7WWZDMRYF6u4HyLHWUiU\n",
       "oSvq89GONXkmOCNydAEWOZp+zLj8uByyVR0oFzgfuf/hZvLqUfM5fiye2W3Z8ozhcLyBGuV0MYWl\n",
       "ARqvpJhjiLfUeU45rKn3IwPCVaiz6MjeInAUATZHHKDFq2HQyUelhHheXNd4jlwrZRTei8LpYHaT\n",
       "+XlvZGFK3qDGedbAEbOam2SOBe5di9ftfUkQBkSSbNgKOxoORxEwaHKcw3YDW4iGhh4zhM/39tpL\n",
       "Lcic7jPXsMHpw2c3ooaUXJ3L5VIoTeIDWxUbsoNc3b1v6Dcz2LqiyQ9zb9cEK/2xniMDFNoCdp15\n",
       "udsQOAqAbZeuv+1S8uO/S3LfODlQ7Ts/aubKyStX/rAPfua0zlFb1MP3kOYEoqlXTC/fmoZ9Jpvp\n",
       "HzNcHO59dNl+V5UzXc+RAfjJ65zxAfgWaGn3qRTVRzflC1SsraG9iEMlITTtKmOEOkBdecpVugjl\n",
       "xmLdc6dnTeEN8BOn7rGVrF/5EbanlP4q5DfpedWSMzudHcDM1Dd8FQ03vLFSW28d4Cer3BuRLVb5\n",
       "U8jlNOH1NVyd+iryYM8AdawNgI8c5U1MtDWU9/+fkf0q/Lju8z8z0gbAW7z+Z4J+/2ildn/q2gX4\n",
       "J0Wr/4X/xf81C+9vEsX2H9sTZopuVDYJAAAAAElFTkSuQmCC\n",
       "\" style=\"display:inline;vertical-align:middle;\" /></a><br>"
      ],
      "text/plain": [
       "<IPython.core.display.HTML object>"
      ]
     },
     "metadata": {},
     "output_type": "display_data"
    }
   ],
   "source": [
    "_mod_add_def = Forall(\n",
    "    (a, b),\n",
    "    Equals(ModAdd(a, b), Mod(Add(a, b), _two_pow_t)),\n",
    "    domain=Integer)"
   ]
  },
  {
   "cell_type": "code",
   "execution_count": 13,
   "metadata": {},
   "outputs": [
    {
     "data": {
      "text/html": [
       "<strong id=\"_psi_t_def\">_psi_t_def:</strong> <a class=\"ProveItLink\" href=\"../__pv_it/axioms/8ae35d971c3a95451623ccf70ba545296493ce730/axiom_expr.ipynb\"><img src=\"data:image/png;base64,iVBORw0KGgoAAAANSUhEUgAABKsAAAAyBAMAAABhdkUjAAAAMFBMVEX///8AAAAAAAAAAAAAAAAA\n",
       "AAAAAAAAAAAAAAAAAAAAAAAAAAAAAAAAAAAAAAAAAAAv3aB7AAAAD3RSTlMAq1RmmUTNIjK7EInv\n",
       "3XZ/CtNrAAAACXBIWXMAAA7EAAAOxAGVKw4bAAAOA0lEQVR42tWdfYwctRXA337O7Oze3qJ+qFAq\n",
       "tgLaqIHL5Q8+VCFugYOilpBVkdo/WilLghQloLJIEZBCexuEWiiBOyioQFt1QlNalIRbaAOBiNyB\n",
       "qgTSplzoCaSUK0tQykeBhISQ9FBz9YztGXvG4/Hebu9mLMXejD3en/089nvP3jkAhZBrQDvFHoQo\n",
       "BePhoJy4cHYmlTnCpuljpvKtn2mrWKI/UuKCuwMaGhfODqUyV9gk1fep3photlXsi9GSFiQnxNfj\n",
       "wtmZVOYMm6Znq954blvFUjV6QX3g/n/DE8KrceEMl8o88z/Bp/mS2m3arraK3VonFzZcNh0NcfUI\n",
       "V7u4cIZKZb75KTZN/654W6utYv90rhQjIq7kbtHVuHCGS2We+Sk2Tc9S0xEvgHaKpcYjJy64RrQG\n",
       "xoRTQSrzzX8Nn2YrSnf9BdopVmiGNPdieTUXd6Ohj5pujMKyur9IXDgVpCLkT5elt4dkq2Abqz3Y\n",
       "JM0cU6lD8VmgxQ6aIc2Va3TpUjfEhZVYR5XNCiqNC6eCVIT8F8nvv6hzbMe1QLFperXSIq7WVlps\n",
       "b0hzz+3E6tTo/Lo2ZP1ezMRo1ReAzAlnpu/STjkVpCLid+3cEDNYiL//bRXsVInHpukiFeVquKHU\n",
       "TlJMPy5vri5XS0OyU0RP1c8OIc+V3RhN1yf8XzQnnAUY7ZBTRSoi/vXyDpJnZ82sCjbcx2PTdFTF\n",
       "xjtVrZ2kWGJc3tys3Iknzk7RPvyAajQ9IcPK2O3GKPzaV2BuODVY3yGnilRE/NfKbxdnn0/SzVAw\n",
       "FbBhs8ljkzSn4td9Xq2dpFghZHIOmSBp9qYnTvGq19alHlAcVkR3oBrEgE8XniNOeKBDThWpCPhD\n",
       "llMnm+e3zABj+0nmj6CnoYJNFUyKTdKUgs6uH1HT4kix4X65uP4hr4ZmV2CJN8u69CjAmsHBwWr4\n",
       "sBqquzGaln2OxjniTDc65FSRioC/Rz7ZOtl+/jSkJ9BsVVfB1o7x2CQ1FIZMUclcdIodrEubq8uf\n",
       "Iif7KAx5BWJdOiOlOlvlmm7Mz01zyvlssUNOFakI+Ifl/eNk+/l7q9rxLGSVsOGXPDZNFRa43DhW\n",
       "EthODSwG8CvmWt4/IhMjKKoHVmNnW+HrdnO1N2ZmrDqy/eTSmvPIre8/ac+2oF/nPt9ctdjbSX2e\n",
       "/tV+bjizM//tkFMqlWD+k0HKfzII+VdYKKZ2XNt/nhI29clSbJoqqIgFuwfzVbZNjaBiAC8xfX/q\n",
       "J76zG70W5tbAanrdVjyH/m38fb/9VGT7nUtc+C7ccLNrKXPVaofdGOEf8t4aF06pVIL5j4CUn1ml\n",
       "WP4VGGJCFRuGyhw2TccA7Hnr9OAGjFaYYYUtx2QlqBgYH4fYxXUMmN/xDVE1w3XG47YJzOIPUXM3\n",
       "IXEZTd9GPbrUgiY0uXbfbdJqJ5kYUke9pkxMOOVSCV6kj4GMXz8Gfn7EuQJ9pl5OJeyeCodN04Eq\n",
       "2P66lZIObjHDinzJRFAx0EM8LwMEcDlsqQuqGXA+rTVhfR1yOuJeX8/267t8LlB0qaWVocW02/js\n",
       "9Salu4yJ/Vhx4ZRLJdhvdkjKnzok4EecK6zP2sPq2Okah01TRLfOmtJGJKZ02R1WBvmSJ4OKQfKw\n",
       "vDs+jwFTE5Afcau5isu2J9mKZk0IazMlZ3Ehl9hQKkKyzD1O1pYMrvYgEzuT07+37zDjwFncvv09\n",
       "EZbDv6gsxU/UpPyJmpjfXgTXwE3K2MVDHDZN0VyaRSXzEsiBhjuskmSVXhtUDFLHFdwtWyFXslwn\n",
       "TjV9Pm/M2jtut/rvysy4Iy5yiQ2L1+nfAl+7cbWLGm4M8JEd32OCcSAGnDoaU49X/VQu/4DccYFN\n",
       "skB+1+Dk+a1hpT14xzeVsZPHWWwn7S1BCnWFzJzEljgeVnnqY64HFAt1R3yKAXvRnHvYraaPy96w\n",
       "pwIvz8xYH1fDPkdc5BLn1bv+paq/3bja4bIbA/zHltYvUPRYNfKccCfKMfyOVIb/oNyv1NuU8uNs\n",
       "P781rAozM4eUsfXDLLaT9qLVb8/UlOzoy5hJhtXjl6Bh9QH+vmZAMciHbJYSCwXNkvoRt5o+NtvY\n",
       "c7qiYx/gQvY/tN24Wuyao466nbYmkK+DUXk28pxQeRpZZ3mf64nhH5P7pbClGshvZyvwh2JTx+dO\n",
       "4NICWmQvB/D/lMgdN0vpsGqeBb+lx0lstS09ZYcSUwzScnFhu3QrDDVt9W7C01w7OzEBQ6aiuO4T\n",
       "tRtX29tyY4ApK3obnoaNtrETbc5iPV83Kobv2WX4l8q/GRv+gfx2tgJ/KDacYLDdtAcVuQE0v2/X\n",
       "tUlPw7NQVS8vgfOggK1G/3GP04gyKHe86Iy4PnWr6WOz0aOUU93D2Cds96XuRN9LZPO6rYJC/qcV\n",
       "SESeExFuW0NcP5zm7/KfFmIolqX8drYCfyg21gYItpv2IE0tZ1qKE1l/tcmtcEFJNKwM+Buaw9Jg\n",
       "WAJZFzKsemfYYF0btY2PzFEyOTchc4JUs2Rq6q9TU3ud7GF0R5u/VRqtce22q+2tuDFpb9PeIs1L\n",
       "OY1P5p8zjzdxm4IlhPKT7ubwZ9yvWFaV8tvZ6vy4T0TY8HHgsEq2LI3dOhd0z8kPwJfzZtpkh5Wz\n",
       "CCKTogmPQ9LiXuj76rBFEDvO6CyAoCwTf6FoFhj+6k03me2JC1futHuhX1xTeArWtjfQkyFdBCfn\n",
       "nxMR3rKNlYGzhDj8gYsg/go6WwXw29lt8E8GYdNhJVgEoWZpZl9Brbnc8re3Knn40+DkILUBxqgl\n",
       "mK5pZXhPe+7aBnGfcroVLibanhItLrkRSE27Xlh+cWnB7ILT7pV+nWUnFsstcACLJdKcadCaxapo\n",
       "WDn8Y3WlRTCAHy+Crc6xqW4lUNnhydXo6Xh1G7xlXVlw5o/znG51kPqt0iMpM1OFbFnoPsXFoCj3\n",
       "B2nEwkqNWw5ap5o+Nju929nWnF27cbXYGKKbd7bNc5vehGL125Hn1Mt3ARzI+JyJDP9Bud9qqF/K\n",
       "b2e3yy/CppuLz/P+PNsvdqsVLQfDLr4g/8j3uGHluEMzu/JwDqpP7D4Vu0N1R2chq/QJAvgKbG64\n",
       "1fSx2cbr53zQmq24rKcYVzvExGSyLlot29+MPCccQIzFhURTsjUbO2L4Pe7Quzz8+NhvIL+d3S6/\n",
       "CJtukdMdVpLaK2TCQpyGjD3+FkDlXW5YLapSd+i6Zz5EtX7fWjsFmzd40Uzye6W+zfM/E8CNO77A\n",
       "VNPHZaff+MFsF5eTXr66n1Q7XHVjMLDFYrkTN5jR58xZ7tBTqKY06ag3Lv8i3gfvffdNoSLlx9lt\n",
       "8ouw9aMstpOOUlMgMw6pVQ89dB8aVpuynN8KH6O0vey3WZ/eNBpwhmA1x5Oi5yzpnd5iq+i4t8IZ\n",
       "PnGtgg4CXy0+FkwOB5M90NQ7cE8cOOHChv6W4E6Xf5hzDehepSQ7IuXPjnQJmxxeFmw141As/UFv\n",
       "4tkq08c7bCvOsLJ3P6/Mm/ZT4/XrVvjpEIfPeYtdwQI61VzFZXcqLlztc0zs7Cw/8uHXIA6cRt9+\n",
       "oZHm8Pdy+nzCu3+YHpfy4+wuYJOjWRSbps5GeLr1LPa1I+3pTd5irTnDyh53t58PRk1g2JJrr3Ka\n",
       "bw3WXMZN0AOmCyioZsDsXFyk2nuZWLAFGBfOID8Cx3QjePhT0yDjT013CTtX4rB9J8/1SxqwFikY\n",
       "+qt17MZ1n4RxZ1g5U5vAOUt/IMX9/CtdRWbDGPsojZZdQEE1o+XOxVVkbZQjQc7/uHAGhAQ331wK\n",
       "Hn7jMMj4jcNdwib2IMWmKbcHYDzzkODnR3hkF1mdNgFBxTzP8aOQqEOB7YGcNXm/E1hNrtKBuLhq\n",
       "8YsA6OsACiPS+SbCnAGBm2/QBOLlvx+k/Pd3B5u+dYFiC06eyz2DysWG2ef4YihMQ4Kd2FPyVT01\n",
       "Dl0K+ZobI3O4JXYYRp9TRSrpso8/5C0/F3QHG57isUmqqZxxnf3PT40Ja5s8wbqIDPlhbeNot8RV\n",
       "KLtx2M9Po8ypIpUt4OMfrUrvDslWxYYXeOw2fn6qavVc4Tcy8vbK28PpC0/Ja3mqW+J6n4kBvuTL\n",
       "jwunilT+CD7+fE1lsukUuzjOY5M0ofKztGVqI5sUy5Dn+EzHa8qf5i805E9Bo0vieoF9msA/K8eF\n",
       "M6S7k1YyIeB/UX77i13BppPsCR5fabexR009pcXwL32K1qbjh/bHvbxWIn9OUrXuSKtYc2OxQR0X\n",
       "Tnl3v4/uLLYE/B29R0kRG/7FYwvNNiWjI7wYrvNnYw16htRj3KyQV7OiO+LC75ulb50VvaIrLpzS\n",
       "7tY3HaeTrYc/Kz+hl+3vAjZ9Ky7FFrziTBJm9ZLH0RJ5ydNiT7Etcq10S70b0jJecWOQvuQx8pzy\n",
       "7jY+oifOPfzGa/Ivfq1zbNhS5rHbesmjqkuZFCOzVvoYfv1Gsun87AwHbbW0lpBsxYBP0zpnau8N\n",
       "nl0jzxnS3Uvr+Giwj/9GudRuNDvGhp97sEmaU5tzs822iuE3cmkf41OEd5GtRDfcLK/m5m6I63dM\n",
       "jB4f4TIeF055dw9V8C9hfPya3KjQGh1jG1Uem6bL1EasvqutYuvxVPgb03qetcnBwQmY59BTFl2N\n",
       "C6e8u3PT1u+H55WfYtP0FcX73m2rWBHrjsv2W7ZKz8zMTG2+xSX+ox9x4ZR3d+aEfVBlPvln+cdJ\n",
       "ZvenlLI76xCNkAno77hwyrv7upURwabpd5TvXN5Wsaw9GSY/ioi04CcBa31cOOXdvagUEWyS6uq2\n",
       "zKz+TOXKiEjLCGxnXDil3Z2tRwObpvgvTPwPsu5yPDN6GkYAAAAASUVORK5CYII=\n",
       "\" style=\"display:inline;vertical-align:middle;\" /></a><br>"
      ],
      "text/plain": [
       "<IPython.core.display.HTML object>"
      ]
     },
     "metadata": {},
     "output_type": "display_data"
    }
   ],
   "source": [
    "_psi_t_def = Forall(\n",
    "    t, Equals(\n",
    "        _psi_t_ket,\n",
    "        TensorProd(ExprRange(r, \n",
    "                             ScalarMult(frac(one, sqrt(two)),\n",
    "                                        VecAdd(ket0, \n",
    "                                               ScalarMult(exp(Mult(two, pi, i, Exp(two, r), _phase)),\n",
    "                                                          ket1))), \n",
    "                             subtract(t, one), zero, order='decreasing'))),\n",
    "    domain=NaturalPos)"
   ]
  },
  {
   "cell_type": "code",
   "execution_count": 14,
   "metadata": {},
   "outputs": [
    {
     "data": {
      "text/html": [
       "<strong id=\"_Psi_def\">_Psi_def:</strong> <a class=\"ProveItLink\" href=\"../__pv_it/axioms/2be7c1e71a1f5f1bd97f295413268fb43f08347f0/axiom_expr.ipynb\"><img src=\"data:image/png;base64,iVBORw0KGgoAAAANSUhEUgAAAJgAAAAmBAMAAADKLE8XAAAAMFBMVEX///8AAAAAAAAAAAAAAAAA\n",
       "AAAAAAAAAAAAAAAAAAAAAAAAAAAAAAAAAAAAAAAAAAAv3aB7AAAAD3RSTlMAIolEdjJUq7vv3WbN\n",
       "EJlNEWA8AAAACXBIWXMAAA7EAAAOxAGVKw4bAAADIElEQVRIx42WS2gTQRiA/91s0mSTTUJPBZUG\n",
       "pCJFMdeemoMiqKULgkEPdvUiBdFcbD0IRkHFB5KCGj25vWnpYUU8FARjDz4O2j1UxAekolK0l1bb\n",
       "IpQW57W7007KzByGzOSfb//3DIBkZB1QGdY7FalZUBvHfLlMuqEIS1fkMkd9RRhclYtMCjttxdaS\n",
       "n6SfTawqw7JSO82CsGVsooG2IIMNCCeTb35tkiyXAfLhIt5C4Ly4pRO+xm/ZZJ4A2B590xZPrsAm\n",
       "PtN5z10hc6dDYKeu3x9Czp4RDsaxH8qP68M3HviZ8Wtjr289gozDwUpkPkP9O0M1S9Xw7IqZOI/n\n",
       "3ipAj51zoN+DwfUwGh+ThrOBYIkuMF1o92CHaBLJ/04U9LTzETAsCUnOTItqphO+MY81e4thYz50\n",
       "CLBUJYBZpS0Epvs8LEHdrFXJYgnD9tima60BZPIbYbkCg22D0mECS+fb7AimM7mXxMHLGPbCMd34\n",
       "IkILGZrzGOwJWfbjZTbPYNNzCHaA/HGS2LyCYWc9042tBBHIjpFRYdEmMG00gtEKQLDCIHyBfj+K\n",
       "wCKGNWdM11hCq+9CAVBY/cJCBGOpW4w7v5HCKWJjlhj9B8OSNdM1cdzKG2G9RWbmNxFmwR2UGVmw\n",
       "UPrEiR1rGGa9N91uPzC9hWYVOBHBMoHPUEcpwDQkGoG3CQyMi/VSGBTeZyEMIliTaYaSVHOgT+ue\n",
       "tNkHFmkFmG6ULvzo9ETY6RBWTfuxIqmIDlbIBJarRYnMjyZReKDKwdrHuxgsNqLDU3QWOYjUjrZM\n",
       "C33q31AY4HUVgGu/PFU/hxex2Yf1nwCvAs2gvHMvMq8nyKn4X64FseLnR6YqtqDVEAZH8K/9lk37\n",
       "DQoIB7sk9vWasBWrRbA+/OsHKlcaYJeDWeIVmRbvE6PyIYSRhDj+DL7S5lrhYIYnXvrLorKl3SGs\n",
       "xPYOBoW8L2peLe6A22LznSNdw+B7PE2d3rzkdpoA9bFLJtAsqsPuyQT0hjLLqElF7irDUvKH3HNl\n",
       "2CG5SMZTZGkjCs/LUUXYZ5Xn6lbF195NJfVttQcyzqH/HLHG0BMnwbEAAAAASUVORK5CYII=\n",
       "\" style=\"display:inline;vertical-align:middle;\" /></a><br>"
      ],
      "text/plain": [
       "<IPython.core.display.HTML object>"
      ]
     },
     "metadata": {},
     "output_type": "display_data"
    }
   ],
   "source": [
    "_Psi_def = Equals(_Psi_ket, Qmult(InverseFourierTransform(_t),\n",
    "                                  _psi__t_ket))"
   ]
  },
  {
   "cell_type": "code",
   "execution_count": 15,
   "metadata": {},
   "outputs": [
    {
     "data": {
      "text/html": [
       "<strong id=\"_sample_space_def\">_sample_space_def:</strong> <a class=\"ProveItLink\" href=\"../__pv_it/axioms/68d5479a3edfd58ecaab9c91307c1aede9b2826e0/axiom_expr.ipynb\"><img src=\"data:image/png;base64,iVBORw0KGgoAAAANSUhEUgAAAqEAAAEaCAMAAAAWmX5HAAAAh1BMVEX///8AAAAAAAAAAAAAAAAA\n",
       "AAAAAAAAAAAAAAAAAAAAAAAAAAAAAAAAAAAAAAAAAAAAAAAAAAAAAAAAAAAAAAAAAAAAAAAAAAAA\n",
       "AAAAAAAAAAAAAAAAAAAAAAAAAAAAAAAAAAAAAAAAAAAAAAAAAAAAAAAAAAAAAAAAAAAAAAAAAAAA\n",
       "AAAAAACPpJ+zAAAALHRSTlMAVJl2q0QizbsQ3e9miTKFr+Ew19vjQMHp0dXZ5XCl96mRfPmXXmCh\n",
       "kyDnUOZAw78AAAAJcEhZcwAADsQAAA7EAZUrDhsAABIaSURBVHja7Z1rt6u2EYYFuoAE0snJSZM2\n",
       "bZqs1Sa96f//vnK1wca2jIQA650P56ztvY2G4WEuQmgIWSkyIxAvsU5yAEUFP6N5a1uCMU9Cg/3R\n",
       "xsJtKU9n3dwyIJYKoQ2iSpzMuBQeNCVCW0TPZVturY/bX7wfDQidZvkiDKGhqoWzxUxltc/X9VLm\n",
       "XQZA1O4hmxB6sYYfocGqBWntmVyIpwtdJjTLI8XNPWL1u9/kLMgpBfR85amcKLMFCU4oUSD0IoUI\n",
       "cUohq4Xa0yvFDvJ5KEJ5ff00A6EjDjrEKfGQUPFThXlraShCs+uRRAlCB/n6fYhT8qwW7hLRLHVC\n",
       "J6EtcUL1NxPg8DxsXLa2PhOh9RaEZhqEdu7qBxbi8L7VAgi9I9S/VvoMQtkPIsThfasFEHpPaM5B\n",
       "KCE/Kh3m8J65WPKE5qqVqur+68OaYSCUkJ/+LEHoQX3oNRGN/nzHxxhBnkY9+oXP064ahAYm1LuY\n",
       "P6sPnUL5l5/JFFJ7FKRAaIgJ0XMSOvOZ9V/5jFkQuk7ZL1sQ6v9Q6YyE3qQmf/tpzu2BCP2SPKGK\n",
       "JEjoDaD6FzExsyehXxImdIsoH2Bx0+kIva3tZDG3sx+hf0ce6k/oZOVIKRIk9OYjxl/9BQiNTOgj\n",
       "95FWLT+KKUMeHoSGJZTWIFSKoIR+AaErhS6tNGQEhIY9fMKzTd99d9DFrCB0O6QOe9FPdTuB0O2Q\n",
       "SirKg1BEeRAKQkEoCPVGaNvX8UEoCN1rTBD6UtkvIDQ9QhN6Lg9CT+hHEOVBKKI8CAWhIBSEglAQ\n",
       "CkJBKGp5EIpaHoSilgeh8KEgFISCUBAKQkEoCAWhqOVBKGp5+FAQiloehCLKg1AQCkJB6BHGxFsg\n",
       "IPTghOItENTy8KGo5UEoojwIBaFrBDs6rJfN+st/DqEB+svDh66X7frLfwyhAfrLg9DAhKK//ERC\n",
       "9JcHoYEJRX/5iYToL4/dGYMQiv7yS/JLfrxaPqndGdFf/sU3f/0xCKFYORKWUPSXH+W3IsjhkYeG\n",
       "JhT95XuRvwoQekhC0V9+iCW/ERB6TELRX76VH/8hQai3sgG6Jj7tL59e9+7Lkcif/hno8Fg5EtyH\n",
       "eiei5/WhF2Jv2UUtfyRCU+0vP0Oy+n32AaL8gQhFf/lGvnydfwhCD0Qo+ss38vX7uWMFoQciNMX+\n",
       "8rflkq6nZgahe9byd4Siv/xdg2iLt0B296HoLz+TsP3lUcsHIPSh+0iplr9I4P7yyEODEor+8sH7\n",
       "y4PQtYL+8u7fBKEfpSwIBaHHLutAKGp5+NATEYpaHoQiyoPQTyYUO4uB0A8dE4SCUBAKQkEoCN1M\n",
       "DvtyPwjdDqmkdnQAoSf0I4jyIBRRHoSCUBAKQkEoCAWhIPSlslg5kiChWDkCQo/sRxDlQSiiPAgF\n",
       "oSAUhIJQEApCQShq+dBj2rCCWh4+NNiYsmaFKsKOKZQqX24HjFoehDqMmRUFNXKDYSXXiglEeRDq\n",
       "NaYpcrnh0KZgEoSC0PVj0gBbUT0XrjgIBaFrx2T59qPLogahqOXXjfntjyjj/6tELQ8fumZMlkVS\n",
       "QGvU8iD0/TGpjqZBmSHKg9B3x5QqngYPxgKhIPTJmHkWUYXlrVdnV+nBpIIBoYkSKouoOqiXV0kv\n",
       "z0qVBoSmSWgd10CLT0BdCH2juwV2dPgoQksZVQeeryT0jQ5B2NHhowgtIiuhXiH1iFD3LmuI8p9E\n",
       "qGCRlSjW+lD3TpXJEqryDySU68jGWMoqnAh17/abKqHSFh9IaGYjG8MaF0I5ZVJoWlJitC57Zp07\n",
       "pifrQyX5QEKljWwM6xTlNSkZbbWrm5+y6r1aCStHPqpSsgdQ4o5Qzolq005h22aq9fCdYabqZbTH\n",
       "yhEQGpzQL3NCZeM9eZeDtL46HzIKw9y8Pmp5ELq1Dx3z457NakhA+0Q0K0AoCN2fUNZxqFomuRV9\n",
       "2tuGd6FVoQ0ITaeWJ9FreTdCO7/Zh/oGVtH+fpgQLbKIF/1cPvQj50PXKrLaGG6Eim5Sqi+RSk26\n",
       "8D48VLLywwhFLX/GKM+7mSXa3QY8p1313k828eq8Fx156MfU8ksyLG6ijEjkoSB090rpXob3pXNK\n",
       "tAShIPRwhI4rrU1eGwJCQejhCKX1+S86CP0IQumyi2QEhILQQxD6wRcdhH5ELQ9CQSh86DkJfW/z\n",
       "N7E3oeL9P3iH0M2sEYVQehpApbWu71/R9zY24HRfQl+re6/hG4RuZ40ohOodmctySinjjn9trHV8\n",
       "MdXxFQOhdd6/lEDroIRSluesv86CKWsZY2XZDmGYqqrmJ1ZUVT1Xt/1D1W0Lxipb3EFyp6E7oRta\n",
       "IwKhyrLd+BRF9yKWLAq3txBq6+irxvlgqZ4GLNk+ect6v1zIcISabpkZocoMN1ZnYlF1WvHB4LLU\n",
       "t+pqO9yr893BhrO41dCZ0C2tEYHQ3Ba7EaoqOURvNx2Y692UDybKnq+coe3lGAav82CEijFxor3L\n",
       "F4PadReuxp+IZLfqFuNh5lt8D2dxq6EzoVtaI0It30ROuROg1OYX9FzuuiYNdcwHxgUz+fO3tXjV\n",
       "Hm+4PSoZitDisl5HqSmhxqopoSS/VdeO75DPb8TxLG40dCZ0S2tE8KFNmN+rVCovZ0KdnKN2daGX\n",
       "NwuUQwKWDVpMdr0eW128sevA7ID6eg/SCZO8u/r9T7x96fFGXT5eCTlXezyLm325XQn1tMZzY8Qg\n",
       "lFu1E6HFhFAHFoR1vbHz7lJwVtqSvbr9uBqU0Ff8RZ9ADv+9Syi7TjiYCZPtHZZdfqL8Vt3298N4\n",
       "9eSXk7PQbBWhntZ4bowYhDaG2amavw6cX/14ribCZvVC5TpPV1wSr5c5DmVsxGKSC3eX4w1AZxeq\n",
       "uOYizU11YVLSvnhvPmsq+Wm+MqqrqtvwPz+LulhFqK81nhojCqHNTc93IVRcCiT1OheWyn1bNzU4\n",
       "sdylABuq18tGA+NVeQfQx4T2mafSWo9zkh2vouR36spLEnOTho5nkVWrCPW2xjNjxCG0r+J2caJy\n",
       "Xvw+nWlyB6bid4mXLCaueX6kqtfCzOtx9RDQV/0uJ1Ge234jg3J2X4556PjsZlB3TAGJoItp6I2G\n",
       "xLXxpr813jXGBo8py51mnIashxZOONdvEipfxQZj+oIt60tZR0JfV0r59davHxAqGw5EPVP3koZq\n",
       "MZ/B4Jdie5UP9bfGM0IXPgu/4WejwC4TTpKYHk0lro+CH+ahTbLqiugQ17rE69mZ9RNtwzXJVKAo\n",
       "T8r26vLsklkuEdqFBTNTV9vFIH89i0z5RPn11tg9youq2mdGtIk6XXtIkRPiUqwp13y5pJfEK3uG\n",
       "WcUmca0uA1VKDYOaZFzS64z9MqHFXN1xQn2Y3pGTNLQ/i7pcRaivNfavlNROhRJhddbtN8F15vQM\n",
       "g9vKEf2eAcaaAvppbltP0r9cB5ptap/mUtquORjiq5k9MjMjobqaq0uK1ghiqKYvz9muZ5HrVYR6\n",
       "WmP/2Sa922NPbfu1SrV1XGBVOZ666UOUKF/1HeB5no9V9aSV6jjlIop1hLatXxntHuGYBrnCWnap\n",
       "doZ1JKysLp7VjBFVlyy/GGJMva5ncdPs1ZVQT2s8N0YEQt0fJe4vzmsI1PupuvB6brFIS7tQo1yv\n",
       "biafa+j81HNLa0QgtHYNnQcQ7rqGYMUykLwOTigrTK3Wq6tfaOhM6JbWiLBypLTlaQg1zv7+7f7q\n",
       "ws8Ky8syXbOXRXVvk8Y7Dd3Xh25ojQg+tNp1BfPbGYnjuct3gStFeEJJXrH16tJXGroTuqE18BbI\n",
       "2nMX750V9XxRyfctkNfq3mv4xlsg21kDb9KdRFm86wlCQSgIBaEgNBCh2NEBhMKHglAQCkJBKAgF\n",
       "oSAUhMYlFJ0WEiQUnRZAKGp5EAofCkJBKAj9KELRky6EMUDoZsqir2cQY4DQ7ZSVBIT6GwOEziX8\n",
       "m9gg9PB56GEvOiqlsxIaGCnU8p9EqEQtD0IPTWgW+4WJ3IBQ1PJvjMl1ZGMsbUgIQsPIR86HChbZ\n",
       "GAWi/I2yWDnyfMzY+8eoGIRi5cgHEVrG3SSO59sjhUrpowilcQ2Uc0R5EPrWmDJumFcEhILQ98bM\n",
       "Y274vuyxQSgIfTJmTCcqFQGhqOXfHZPG24erzOIQilr+owh9xE140ToKUojyn0Yo+fmPKOP/u4xz\n",
       "lUDoxxFKWIRAL0tKQCgIXTmm9twO9bVwxQkIBaGrx+RFvuXDJVMyQUAoanmfMbOioJs4Uml0wURE\n",
       "pFDLfyahDUo1K1Rhw4pSxctnAqjlQehuY+5xlUAoCAWhIBSEglAQCkJRy4PQfQhFLQ9Cj+xHEOVB\n",
       "KKI8CAWhIBSEglAQCkJBKAgFoacmFLszJkgodmcEocf2I4jyIBRRHoSCUBAKQt8xo4uAUBC6G6Fb\n",
       "3wBYOQJCkyIUK0dAaGBCsXIEhG5GqBSI8jsqu/iKogGhEykNCN1RWc2fXRMQSghniPKHIzTLQehF\n",
       "ChGC0L+jlg9J6PJGwmkSWmtyQEITquUnhPLrkXQGQgf5+v0RCU0zyk+6t4kShA72+WaCEIpKKSyh\n",
       "k+QrbULlD4yA0CMSmmkQ2gr7QYDQQxLqXyt9BKHmmyYg9DC1/IzQnINQQv7zX3lMQlOr5XPVSlV1\n",
       "//WJl7nOU6+UXYxhQ2jr8vm7gigf2od6J6Jn9aFTLP9XkSmkPj6UgtDAhHoX8+ckdO41q9/7z7wP\n",
       "r2wOQsMS6j8hekpC51H9y1cy+3j94ZktQGhYQv0fKp2Q0Nvc+fo4qf/N+sNzayUIDUqoIukReguo\n",
       "rmd29jolFTQRTWpHh2VCAyxuOh2ht1++aVjrRyi3lTzORT+rD52sHAnQHuv086GMhzwlbRmivC+h\n",
       "D91HkoSaMuwpsYDlPAilNQiVIvAp0XBeNClC6VJGwwgIDX9KIgOhh1IMhKZ30ZeVxY4OCRKKHR1A\n",
       "KHwoCD0UoUddrgVCQegJBYSCUFx0EApCUcuD0M8lFLU8CMVFB6EgFISCUBAKZUEoLjoIBaGo5UEo\n",
       "ann4UBCKKA9CQSiUBaG46CAUhIJQEApCUcuDUNTy8KHwoVAWhOKig1AQCkJBKAiFsiAUhIJQEHo6\n",
       "Qv036rvbn8iA0AddzYOKh92T2p1xYW+x0oBQUsitlfWwe2JR/s5SWQ5C+2Y9uq6zeIS62z11QkP0\n",
       "7j47oV3Ds9xM2kptT6i73ZMnVGfJE9rBUhb1hrHew+7JExqgd/fJCe0DrqlsJSIS6mz3xFaOLOzC\n",
       "XIjECWVt0SIkEYpGJNTZ7omtHOksJWneHYd1Yc2/d/e5Ce338VeNYbTZltB1dk8xymuSVc1/tQ1W\n",
       "K52Z0LrznHW2ZSnvY/cECTUZyVvrsGJSyqZL6PaToX52T5DQ5opUrd+ohrQrwCTLiQkNUiluafck\n",
       "a3neNp4Udki7rglRmI7t0YxxAnGzOwi9JbQLNtSGK+ZP7EMVieVDV9o9SULLNr6UJenmqEOEufMS\n",
       "yvOIhK6ye5o+lLUz1Jp0YSbEQ6XzEspMREJX2T1JQiXTNBOsb1GnSMqExgnyPnY/GaE0iKWmEmRx\n",
       "02kJrWlMQtfYXVqbnYdQ5d1y995SpUiZ0CiToV52F9aeaAUzs0VoS4Xo3X1eQuNMhnrZvbbW8S6q\n",
       "9TvpgHjs7IzO19643FlbZ0vROmVCdbYXoc52Z659wE01DKXpk4lWqTXr1gUs5TeyHu4bvfohjvJN\n",
       "RO/6dwdatLvnbLhPUIp1O622e5OGPn04aigry+4vsuKSWfPHoaH1nO20LFV5dn8sOpRv2erIym0l\n",
       "CSQheeFC8/yC/kBV1X5gHya5Le/dU63FqYTMm1CiLcNVS0i4nZFU53Xj6FiTI/Rv4k1zhZ4q0eWB\n",
       "1cPspR6euy7nwQEIbe6pHNctIUBn6/5lzauGyarxUrT1VHIazfsc0nSEqqdZrlbdZFf9mFDuM01M\n",
       "4UUTArScJXVC0hbDNkjnbTXEJ5CZwlwJrZ6VK0a1fjSvxWNCSUE9skmR4dIlIveXmtGhaFdZ5zbL\n",
       "TrJ2KV+/cr+P8s8m+cWUelOOImaEZgWF+SErpK2DaNmC2O5aYqbTSpS5VErdPKh49OuRUFHB1JBV\n",
       "TtUOfrQuu3mjqTscqhvazjZdEkGpx38uHtQY83BCPkSlBEk6MW3Ra9eVCkb7FXzmltB2xv5KoGkr\n",
       "LTMpt6onU8lCF1ZTEAoJKFK3OSQPTRUIhWzgXxUIhRxawpXfpsB8EWQDMYG4En1y+38plBcvQQRA\n",
       "8AAAAABJRU5ErkJggg==\n",
       "\" style=\"display:inline;vertical-align:middle;\" /></a><br>"
      ],
      "text/plain": [
       "<IPython.core.display.HTML object>"
      ]
     },
     "metadata": {},
     "output_type": "display_data"
    }
   ],
   "source": [
    "_sample_space_def = Equals(_Omega, _sample_space)"
   ]
  },
  {
   "cell_type": "code",
   "execution_count": 16,
   "metadata": {},
   "outputs": [
    {
     "name": "stdout",
     "output_type": "stream",
     "text": [
      "Expression notebook is being updated for {alpha_{m} = ({t}_〈m| . |Psi>) if m in {0 .. 2^{t} - 1}.\n",
      "Expression notebook is being updated for m -> {alpha_{m} = ({t}_〈m| . |Psi>) if m in {0 .. 2^{t} - 1}.\n",
      "Expression notebook is being updated for (m -> {alpha_{m} = ({t}_〈m| . |Psi>) if m in {0 .. 2^{t} - 1}.)\n",
      "Expression notebook is being updated for forall_{m in {0 .. 2^{t} - 1}} (alpha_{m} = ({t}_〈m| . |Psi>))\n",
      "_alpha_m_def expression notebook is being updated\n"
     ]
    },
    {
     "data": {
      "text/html": [
       "<strong id=\"_alpha_m_def\">_alpha_m_def:</strong> <a class=\"ProveItLink\" href=\"../__pv_it/axioms/b7ab0be27ca30b8d9c94a70d45a621079570cc0e0/axiom_expr.ipynb\"><img src=\"data:image/png;base64,iVBORw0KGgoAAAANSUhEUgAAASYAAAAXBAMAAABUu/9VAAAAMFBMVEX///8AAAAAAAAAAAAAAAAA\n",
       "AAAAAAAAAAAAAAAAAAAAAAAAAAAAAAAAAAAAAAAAAAAv3aB7AAAAD3RSTlMAq1RmmUTNIjK7EInv\n",
       "3XZ/CtNrAAAACXBIWXMAAA7EAAAOxAGVKw4bAAAEC0lEQVRIx7VWXYjTWBQ+M23npkmTVh98HLvs\n",
       "4ovKFPzBQdDCqMiKbkX2QfChsMLCrmhFQca/iSCi+NcHxaksElhwEWFnHNZFHB0rsuiuKFEUBBlI\n",
       "FUR9GAoqjgrquT9JbjKtmbV64OQmuTf3fjn3O9+5AF/EShH9RLRm6BP/O0WMIvCFzMhGDHgkoJX9\n",
       "V+e9C7Mkwk043DP0xbctYpoZ0d8+yFst2wDTN7/9OxWH5PH2MfeltOvn1iCpxYgBp0WrQ6M4par0\n",
       "aqN3WMz3hEL6ORbPRQzoEe13EzG1XwDdhh05GMLHWJ45haZlW8OUihpQFW1/gzhtoJhGLeilz/8x\n",
       "j+E/drRIpxlRdCo22GMX0xVTt9WXCILm4E/cb42O3mwR0wp6GT5nNt1bQXEjB4naHyOnlOHjPqbF\n",
       "Wd1W3os8OMd9OcDJ8CQLGxNkq/yg/GW5t/TvdhXU60TmwMpRanfobUfOo7iW7ISBeTDLx9SV0+3E\n",
       "C0Hy+dw3A8mE1lZw/7WRwUBqDU+xYJH3+DvuguZ9dhf9NsAxw2ocJz3Lc3s1wI96GfocWOxjGsjr\n",
       "tjEOXAFmcU9aWkGCU6sU2P4vgrWB8EPcNu65cVDGbJ8lAP9gfx1gmdYsB3ABtc5WtQYK0GXBMh9T\n",
       "sqrbOp2KKsBR7u2OTPElpuDkDUjLBSNdIOMsuoK1YUwplJNLFz+BiY6mktgFFNBNH5O6XrcvW0J4\n",
       "1wkv4pbEeo7UjG6TspBjIm8hJbMjZpFxKW2CmHDvBrAkXMnC3AVjmcf9YT7h3pHLv5pMOqcBPITE\n",
       "a9XXTGP6VccV7tnCh35BfqzLpTJGBs5wAEVQ3oIeJLpmt+dzMqaEF7ZTGEec9hKo867BVaiF45TE\n",
       "zg78w2SJRkh9BW3FLZKO67ZXC7uF70Subn8CaRNTdg2bY59JMaWcwMSHLdJTkjHBRpfSmL3xMsR+\n",
       "UMifRRjn0hD4HVwhbbF0RwbE6pAcHJQwpateLVwhvI1SqBMO0RDPr1QqWQVTDPcuHVB3wgXjAA6o\n",
       "lDimGS7ow1Se5jyPj0Cbgzl7N4xJsTlLkJAYXCMPiVUlqQZvejPVrYX3hTO7Ac+gT4GDXNsyEziO\n",
       "2rRNVmZchVS9XPfUMmUaZVKfIJ4PAGoqvh2CpmcVVguJzZ1HoY6R6o6jMLi1YIyqCcBZUJlOkf79\n",
       "34cw+RynpZNbH0YqVs6HMc0FWKXh1L2fwHRCFHOvoCcySPvNz3FpF5M2wjAcKinXWQA+fKhLG/n3\n",
       "O0fCxOZjthrLFumcIJ1I7r0LxFmkCSaW1L0QxM3tbEVoZrRJo85EHbDEYSjmNMXEVOiE/H9B87N8\n",
       "kpiIEzF2t2ilKvbUuzBro7hK3Bvaxslg2tfiqet/mjKJ5Yj5tVb/CAbEIF+lIKxZAAAAAElFTkSu\n",
       "QmCC\n",
       "\" style=\"display:inline;vertical-align:middle;\" /></a><br>"
      ],
      "text/plain": [
       "<IPython.core.display.HTML object>"
      ]
     },
     "metadata": {},
     "output_type": "display_data"
    }
   ],
   "source": [
    "_alpha_m_def = Forall(\n",
    "    m,\n",
    "    Equals(_alpha_m,\n",
    "           Qmult(NumBra(m, _t),\n",
    "                 _Psi_ket)),\n",
    "    domain=_m_domain)"
   ]
  },
  {
   "cell_type": "markdown",
   "metadata": {},
   "source": [
    "Let $\\lvert \\Psi \\rangle$ be the outcome of the $t$-qubit register of ${\\rm QPE}(U, t)$ acting on $\\lvert u \\rangle$, $m$ be a random variable representing the measurement of Psi with the register interpreted as an integer (via binary representation), and $\\varphi_m = 2 \\pi m/2^t$ be the random variable phase outcome of ${\\rm QPE}(U, t)$:"
   ]
  },
  {
   "cell_type": "markdown",
   "metadata": {},
   "source": [
    "Let $b_{f}$ be the value for $m$ that gives the closest $\\varphi_m$ to $\\varphi$ without exceeding it (the subscript $f$ stands for \"floor\"); similarly, let $b_{r}$ be the value for m that gives the closest $\\varphi_m$ to $\\varphi$ whether it be above or below the actual value (_i.e._, the subscript $r$ stands for \"rounding\"), and let $\\delta_{b}$ be the difference between the actual value $\\varphi$ and its estimate $b_f$ or $b_r$:"
   ]
  },
  {
   "cell_type": "code",
   "execution_count": 17,
   "metadata": {},
   "outputs": [
    {
     "data": {
      "text/html": [
       "<strong id=\"_best_floor_def\">_best_floor_def:</strong> <a class=\"ProveItLink\" href=\"../__pv_it/axioms/7c3d302a3542abd5b268bfbc2d7a2e2dc4459a1f0/axiom_expr.ipynb\"><img src=\"data:image/png;base64,iVBORw0KGgoAAAANSUhEUgAAAGoAAAAaBAMAAACtLdRlAAAAMFBMVEX///8AAAAAAAAAAAAAAAAA\n",
       "AAAAAAAAAAAAAAAAAAAAAAAAAAAAAAAAAAAAAAAAAAAv3aB7AAAAD3RSTlMAELvv3c2ZVESJq3Yi\n",
       "MmZ3LnoBAAAACXBIWXMAAA7EAAAOxAGVKw4bAAABfElEQVQ4y53Uv0vDQBQH8G9sev2RpLnBzhX8\n",
       "E1z9USQ4uLQIgopIkdJBoXZ1E6QOLo3Q0aGDIILSDrroEsQ/4CY3pf4BQhULgkPttVTu8I6Gvil5\n",
       "x4d39y4vwLjYRviIjh6Mzv/Fk7Eqlp9A2fVNNkGtaEVVy5jN6pRdWmNwqXKH0YJOPSLxjWMolVvR\n",
       "qWtgDveG8lw1qlNLFM1gP0FVqq7txgXQZM/vyh1uPVzqe5iTki9A9ZMOetilmWCYLHo8VgXl/Eiq\n",
       "AGfn1Ocq9oFIC/E9ZS2zIeZiDElghiuSh+sjkg5Uanf0muHfVQJ44wX7yvRRq6CqPFfqr5TJL9UC\n",
       "WjBaXPWv64Bay2eqcx3CFrdAEGcgg264zFgENlS1HB+WeFmkTWDcDDqfbE/1q8+r1FOpVJSS63ev\n",
       "xaPh13tVVo0eV7leryslU7kvX5iUeF47KVKUpfmyGuHUgqRIO5RyOpIyg1DKyopqOo1QymaiIufh\n",
       "1Pi/jecxzdKtt/ILLFBXqSJvJI4AAAAASUVORK5CYII=\n",
       "\" style=\"display:inline;vertical-align:middle;\" /></a><br>"
      ],
      "text/plain": [
       "<IPython.core.display.HTML object>"
      ]
     },
     "metadata": {},
     "output_type": "display_data"
    }
   ],
   "source": [
    "from proveit.physics.quantum.QPE import _b_floor\n",
    "_best_floor_def = Equals(_b_floor, Floor(Mult(_two_pow_t, _phase)))"
   ]
  },
  {
   "cell_type": "code",
   "execution_count": 18,
   "metadata": {},
   "outputs": [
    {
     "data": {
      "text/html": [
       "<strong id=\"_best_round_def\">_best_round_def:</strong> <a class=\"ProveItLink\" href=\"../__pv_it/axioms/909422cf18e3c971568995692a855401171045b90/axiom_expr.ipynb\"><img src=\"data:image/png;base64,iVBORw0KGgoAAAANSUhEUgAAAKcAAAAaBAMAAAAgbFF0AAAAMFBMVEX///8AAAAAAAAAAAAAAAAA\n",
       "AAAAAAAAAAAAAAAAAAAAAAAAAAAAAAAAAAAAAAAAAAAv3aB7AAAAD3RSTlMAELvv3c2ZVESJq3Yi\n",
       "MmZ3LnoBAAAACXBIWXMAAA7EAAAOxAGVKw4bAAACsklEQVRIx61VTWgTQRT+Nlk3f7ubFU/WQ4uC\n",
       "Bz0oFcTiLyKigqSIHhQpQWKxFdKAIgiCAfWih67YW1A3Iqho6aIU0SouKoK9ZEEUBG1WPHgQIRVD\n",
       "A1Xrm92GdLPbwyYO7MzszLzvvfe9N2+A9tpR/Mcm5+2BqzRvCG2AnnGGSG/zhtjVMibngIkjh83m\n",
       "re8tg4YsZ1yS82zxCulctSMQ3PuNrH9FVvYfMJFUPAcSGlOWDmbkDOsGgJeI1XDBh5lp6pK5QJhR\n",
       "JoMa8ADYgKech1P00TesBAKNMbYkQt6uYMw4GfNKH6NvJJj3NlsJQr4NjJkffnhPPKLvyMQdH9mP\n",
       "XW9ukFkTd7EiCxRxpfj2oQ5MFsqMrbiTUSmXyGfg0k/Fdp2rKp3G/HJmF2v72FRdrV6DuAclQz0F\n",
       "uQJ1jc79RnQL1jF/Q3aGS7Mu0DSkvssqUDYRmUZY9xgqWgcpwrwO/nouQ4ZF8zsh/sEyC8dtDjQ7\n",
       "I7WFIhETcYC0lfIQepFUPaCS8pf6ISBcxGbSynE1pp4W9tpw6XpEnCyqsggCX5i56MyDVzGcWyRz\n",
       "ukmtTrMSOVRhRHaDwOuWyg1Dd7PgATo4cppOU5oOKctHC5qbU4HiyxFnNw2avbBDk7SWzjJ666Bn\n",
       "IRqu8hQ1IRDjZQNJk9uGZ7fQVG54RglR0IOQhpWyElZxXrk6Q+DnWPSJOklFYmGSCpYAbtRJ/LgV\n",
       "SiO/v9n9EquXg6A9QZN6Ysyncdlci9NpO0/XA6/7+zMukUPjUxkm9ZV8vJf1q7UX7dtTOMEOPJ58\n",
       "zv47vqHjyaf75jzjqbm5qrtup37ZER+sp0PQyrrJbzHbuPs2H2pA0AG/xa2NKsVa3AwI+s5nTXI4\n",
       "lLVWK3/cJ7UTTrXnjTbfKPfVNtt8oyjzF2ltvKb1d9/b2J36B0YusI2y5lm/AAAAAElFTkSuQmCC\n",
       "\" style=\"display:inline;vertical-align:middle;\" /></a><br>"
      ],
      "text/plain": [
       "<IPython.core.display.HTML object>"
      ]
     },
     "metadata": {},
     "output_type": "display_data"
    }
   ],
   "source": [
    "_best_round_def = Equals(_b_round, Round(Mult(_two_pow_t, _phase)))"
   ]
  },
  {
   "cell_type": "code",
   "execution_count": 19,
   "metadata": {},
   "outputs": [
    {
     "data": {
      "text/html": [
       "<strong id=\"_delta_b_def\">_delta_b_def:</strong> <a class=\"ProveItLink\" href=\"../__pv_it/axioms/7386e55369b0705cfcfee326a0cff96883e9fdc30/axiom_expr.ipynb\"><img src=\"data:image/png;base64,iVBORw0KGgoAAAANSUhEUgAAANcAAAAyBAMAAAA92lO3AAAAMFBMVEX///8AAAAAAAAAAAAAAAAA\n",
       "AAAAAAAAAAAAAAAAAAAAAAAAAAAAAAAAAAAAAAAAAAAv3aB7AAAAD3RSTlMAq1RmmUTNIjK7EInv\n",
       "3XZ/CtNrAAAACXBIWXMAAA7EAAAOxAGVKw4bAAAEdElEQVRYw7VYX2gURxj/cnu3t3d7f1L6UIpW\n",
       "T/oitGIEKxZqc9BUbNF4pSB9KCRKQY2g1/algsWtFF9qiQUpPf/g+iJEJTnFJ6FNfdHGaI1tFdGm\n",
       "uTyKVNPENPEE09mZb9fsZeab1eJAMsv9dua38/35zTcDoGk/kGjKoUenD4q+x4UIramFhF/Ujf9W\n",
       "sFi3opDNoz+lqkJ6rog+NiT6JRG4jE4SXqGGPsH+tOjsZj3ZrjKFJi+qsXHss+iH3/Vkf5FotqaE\n",
       "EnV8iF0S/evaEDF+JuG31JA91GBPs6gjy1RJeFANmQtGC+KpQ3giMaUju0+uPVdXY31daZzdxNDY\n",
       "qCO7RruMiLClLvyKTqsHv5DNmibhbkI+VgM8QhF5jGutaeSDjo/5BHYbEn7wH0FlG9LEB52J54FK\n",
       "s7jv0VYRIYYmQrpJYbQmCHAaTvmD+8RDekITjKR+5KZIhT7QaJ/zNNlhVKXVAzLWFOXRY2cDq/jO\n",
       "Yr7jtK/KRwygGsAHsrDN7IdIzR4TfT/Au16/Wb7zPcCglGdIXzEamTGJgVKCrzw7yb/RwgzJyYOy\n",
       "uxaNzJ+GvW+yz7YL0rdimCnpcblIFKKR+QZiljCYI03F+n0BOSq1Y6sTjQz+EV2eGejK8PAgHduL\n",
       "lu5XJ4blQGLHQZLsIZKxWdYAKN6161gaNPliEB/mTfiwn683DrD3DbpSuYDRy0qMTyHZDNZWXw4H\n",
       "zh7yowwFZ3c5Nh3gs9p6TrbYy54USTaMmwTLt5Rrl0QVZY1WStmy3et7qEkkyMue+ku+fSH/XwXD\n",
       "9ZYHx/mib3KDzWATE/yJZEwEYjUvPn5hf23M4wbs+RzCZBNgjXFcSlaDHEAvubJZZND5tpcLo25O\n",
       "CEwxyFVhxvQ085qHN/pMmLEIHwG8H9WMcKaLBd6tXLFHhMNnQUTbUyjgZsHDG+fo59H4DqM75kQN\n",
       "ENjFPjTVYnR+yH/qtZ+Evsizn2ARx+eEPqcwt29Zfl1Osjm873H1b2KDMk68eUWlUilA9RycCCe1\n",
       "fa/KcUVSr5q5rVAOFGBABcn7tslDpvANr7gWt8A5X64mg4EePkeuSsKzkh022bbVgRjaIo3FSJ9f\n",
       "F2bdN1kOeMuIQ2Jo7lbs4Yp9PCNx2E6wJ5M/bnMahRjnba9B0juKLXvh7veBwR48Ue72uRKPZumW\n",
       "WPAlgMssrMJ6Hhbuk5VKKTTmBl02CjP9LYGuurCwnHfDEksXGWStFhR6X0igV1jKOx+HtQFFQNla\n",
       "ySLWqFPoCIymnVD5MKAp5cjt0Rqnt+d2W3zrbuHu5OPnVqSyc8DXK5+qSI3T5fdaAnsv5EDuOk35\n",
       "nZgk4Y6S2p+zbILmy+vqoz/o2FfXcq9BstwQR626c+6zhqNVhZzbcIq79ryOuV+2ta0LjB31mEun\n",
       "knrhIzMz//rP32HFr78I2UaiZlVfNPp3FB3626t9pJ5ZF/VkWRSG3/Sv5uiTyh39DE9xnfTMF2WB\n",
       "FXEH3RClTjfp08Mm3fi9eAXYFelU8D8vN5HkOOf8D7ABLvciRM5qAAAAAElFTkSuQmCC\n",
       "\" style=\"display:inline;vertical-align:middle;\" /></a><br>"
      ],
      "text/plain": [
       "<IPython.core.display.HTML object>"
      ]
     },
     "metadata": {},
     "output_type": "display_data"
    }
   ],
   "source": [
    "_delta_b_def = Forall(\n",
    "    b, \n",
    "    Equals(_delta_b, subtract(_phase, frac(b, _two_pow_t))),\n",
    "    domain = Integer)"
   ]
  },
  {
   "cell_type": "markdown",
   "metadata": {},
   "source": [
    "The probability of success is defined as $\\theta_m$ being within some epsilon of $\\theta$: "
   ]
  },
  {
   "cell_type": "code",
   "execution_count": 20,
   "metadata": {},
   "outputs": [
    {
     "name": "stdout",
     "output_type": "stream",
     "text": [
      "Expression notebook is being updated for (e, {1 .. 2^{t - 1} - 2})\n",
      "Expression notebook is being updated for e in {1 .. 2^{t - 1} - 2}\n",
      "Expression notebook is being updated for {[Psuccess](e) = [Prob_{m in {0 .. 2^{t} - 1} | |m - b_{f}|_{mod 2^{t}} <= e} QCIRCUIT(VertExprArray(([INPUT]{state:|+〉}, [INPUT]{state:|+〉}, ..(t - 3) ×.., [INPUT]{state:|+〉},[MULTI_QUBIT_ELEM]{element:[INPUT]{state:|u>, part:1}, targets:{t + 1 .. t + s}}, [MULTI_QUBIT_ELEM]{element:[INPUT]{state:|u>, part:2}, targets:{t + 1 .. t + s}}, ..., [MULTI_QUBIT_ELEM]{element:[INPUT]{state:|u>, part:s}, targets:{t + 1 .. t + s}}),  \\\\ ([MULTI_QUBIT_ELEM]{element:[GATE]{operation:QPE(U, t), part:1}, targets:{1 .. t + s}}, [MULTI_QUBIT_ELEM]{element:[GATE]{operation:QPE(U, t), part:2}, targets:{1 .. t + s}}, ..., [MULTI_QUBIT_ELEM]{element:[GATE]{operation:QPE(U, t), part:t}, targets:{1 .. t + s}},[MULTI_QUBIT_ELEM]{element:[GATE]{operation:QPE(U, t), part:(t + 1)}, targets:{1 .. t + s}}, [MULTI_QUBIT_ELEM]{element:[GATE]{operation:QPE(U, t), part:(t + 2)}, targets:{1 .. t + s}}, ..., [MULTI_QUBIT_ELEM]{element:[GATE]{operation:QPE(U, t), part:(t + s)}, targets:{1 .. t + s}}),  \\\\ ([MEASURE]{basis:Z}, [MEASURE]{basis:Z}, ..(t - 3) ×.., [MEASURE]{basis:Z},[GATE]{operation:I}, [GATE]{operation:I}, ..(s - 3) ×.., [GATE]{operation:I}),  \\\\ ([MULTI_QUBIT_ELEM]{element:[OUTPUT]{state:|m〉_{t}, part:1}, targets:{1 .. t}}, [MULTI_QUBIT_ELEM]{element:[OUTPUT]{state:|m〉_{t}, part:2}, targets:{1 .. t}}, ..., [MULTI_QUBIT_ELEM]{element:[OUTPUT]{state:|m〉_{t}, part:t}, targets:{1 .. t}},[MULTI_QUBIT_ELEM]{element:[OUTPUT]{state:|u>, part:1}, targets:{t + 1 .. t + s}}, [MULTI_QUBIT_ELEM]{element:[OUTPUT]{state:|u>, part:2}, targets:{t + 1 .. t + s}}, ..., [MULTI_QUBIT_ELEM]{element:[OUTPUT]{state:|u>, part:s}, targets:{t + 1 .. t + s}})))] if e in {1 .. 2^{t - 1} - 2}.\n",
      "Expression notebook is being updated for e -> {[Psuccess](e) = [Prob_{m in {0 .. 2^{t} - 1} | |m - b_{f}|_{mod 2^{t}} <= e} QCIRCUIT(VertExprArray(([INPUT]{state:|+〉}, [INPUT]{state:|+〉}, ..(t - 3) ×.., [INPUT]{state:|+〉},[MULTI_QUBIT_ELEM]{element:[INPUT]{state:|u>, part:1}, targets:{t + 1 .. t + s}}, [MULTI_QUBIT_ELEM]{element:[INPUT]{state:|u>, part:2}, targets:{t + 1 .. t + s}}, ..., [MULTI_QUBIT_ELEM]{element:[INPUT]{state:|u>, part:s}, targets:{t + 1 .. t + s}}),  \\\\ ([MULTI_QUBIT_ELEM]{element:[GATE]{operation:QPE(U, t), part:1}, targets:{1 .. t + s}}, [MULTI_QUBIT_ELEM]{element:[GATE]{operation:QPE(U, t), part:2}, targets:{1 .. t + s}}, ..., [MULTI_QUBIT_ELEM]{element:[GATE]{operation:QPE(U, t), part:t}, targets:{1 .. t + s}},[MULTI_QUBIT_ELEM]{element:[GATE]{operation:QPE(U, t), part:(t + 1)}, targets:{1 .. t + s}}, [MULTI_QUBIT_ELEM]{element:[GATE]{operation:QPE(U, t), part:(t + 2)}, targets:{1 .. t + s}}, ..., [MULTI_QUBIT_ELEM]{element:[GATE]{operation:QPE(U, t), part:(t + s)}, targets:{1 .. t + s}}),  \\\\ ([MEASURE]{basis:Z}, [MEASURE]{basis:Z}, ..(t - 3) ×.., [MEASURE]{basis:Z},[GATE]{operation:I}, [GATE]{operation:I}, ..(s - 3) ×.., [GATE]{operation:I}),  \\\\ ([MULTI_QUBIT_ELEM]{element:[OUTPUT]{state:|m〉_{t}, part:1}, targets:{1 .. t}}, [MULTI_QUBIT_ELEM]{element:[OUTPUT]{state:|m〉_{t}, part:2}, targets:{1 .. t}}, ..., [MULTI_QUBIT_ELEM]{element:[OUTPUT]{state:|m〉_{t}, part:t}, targets:{1 .. t}},[MULTI_QUBIT_ELEM]{element:[OUTPUT]{state:|u>, part:1}, targets:{t + 1 .. t + s}}, [MULTI_QUBIT_ELEM]{element:[OUTPUT]{state:|u>, part:2}, targets:{t + 1 .. t + s}}, ..., [MULTI_QUBIT_ELEM]{element:[OUTPUT]{state:|u>, part:s}, targets:{t + 1 .. t + s}})))] if e in {1 .. 2^{t - 1} - 2}.\n",
      "Expression notebook is being updated for (e -> {[Psuccess](e) = [Prob_{m in {0 .. 2^{t} - 1} | |m - b_{f}|_{mod 2^{t}} <= e} QCIRCUIT(VertExprArray(([INPUT]{state:|+〉}, [INPUT]{state:|+〉}, ..(t - 3) ×.., [INPUT]{state:|+〉},[MULTI_QUBIT_ELEM]{element:[INPUT]{state:|u>, part:1}, targets:{t + 1 .. t + s}}, [MULTI_QUBIT_ELEM]{element:[INPUT]{state:|u>, part:2}, targets:{t + 1 .. t + s}}, ..., [MULTI_QUBIT_ELEM]{element:[INPUT]{state:|u>, part:s}, targets:{t + 1 .. t + s}}),  \\\\ ([MULTI_QUBIT_ELEM]{element:[GATE]{operation:QPE(U, t), part:1}, targets:{1 .. t + s}}, [MULTI_QUBIT_ELEM]{element:[GATE]{operation:QPE(U, t), part:2}, targets:{1 .. t + s}}, ..., [MULTI_QUBIT_ELEM]{element:[GATE]{operation:QPE(U, t), part:t}, targets:{1 .. t + s}},[MULTI_QUBIT_ELEM]{element:[GATE]{operation:QPE(U, t), part:(t + 1)}, targets:{1 .. t + s}}, [MULTI_QUBIT_ELEM]{element:[GATE]{operation:QPE(U, t), part:(t + 2)}, targets:{1 .. t + s}}, ..., [MULTI_QUBIT_ELEM]{element:[GATE]{operation:QPE(U, t), part:(t + s)}, targets:{1 .. t + s}}),  \\\\ ([MEASURE]{basis:Z}, [MEASURE]{basis:Z}, ..(t - 3) ×.., [MEASURE]{basis:Z},[GATE]{operation:I}, [GATE]{operation:I}, ..(s - 3) ×.., [GATE]{operation:I}),  \\\\ ([MULTI_QUBIT_ELEM]{element:[OUTPUT]{state:|m〉_{t}, part:1}, targets:{1 .. t}}, [MULTI_QUBIT_ELEM]{element:[OUTPUT]{state:|m〉_{t}, part:2}, targets:{1 .. t}}, ..., [MULTI_QUBIT_ELEM]{element:[OUTPUT]{state:|m〉_{t}, part:t}, targets:{1 .. t}},[MULTI_QUBIT_ELEM]{element:[OUTPUT]{state:|u>, part:1}, targets:{t + 1 .. t + s}}, [MULTI_QUBIT_ELEM]{element:[OUTPUT]{state:|u>, part:2}, targets:{t + 1 .. t + s}}, ..., [MULTI_QUBIT_ELEM]{element:[OUTPUT]{state:|u>, part:s}, targets:{t + 1 .. t + s}})))] if e in {1 .. 2^{t - 1} - 2}.)\n",
      "Expression notebook is being updated for forall_{e in {1 .. 2^{t - 1} - 2}} ([Psuccess](e) = [Prob_{m in {0 .. 2^{t} - 1} | |m - b_{f}|_{mod 2^{t}} <= e} QCIRCUIT(VertExprArray(([INPUT]{state:|+〉}, [INPUT]{state:|+〉}, ..(t - 3) ×.., [INPUT]{state:|+〉},[MULTI_QUBIT_ELEM]{element:[INPUT]{state:|u>, part:1}, targets:{t + 1 .. t + s}}, [MULTI_QUBIT_ELEM]{element:[INPUT]{state:|u>, part:2}, targets:{t + 1 .. t + s}}, ..., [MULTI_QUBIT_ELEM]{element:[INPUT]{state:|u>, part:s}, targets:{t + 1 .. t + s}}),  \\\\ ([MULTI_QUBIT_ELEM]{element:[GATE]{operation:QPE(U, t), part:1}, targets:{1 .. t + s}}, [MULTI_QUBIT_ELEM]{element:[GATE]{operation:QPE(U, t), part:2}, targets:{1 .. t + s}}, ..., [MULTI_QUBIT_ELEM]{element:[GATE]{operation:QPE(U, t), part:t}, targets:{1 .. t + s}},[MULTI_QUBIT_ELEM]{element:[GATE]{operation:QPE(U, t), part:(t + 1)}, targets:{1 .. t + s}}, [MULTI_QUBIT_ELEM]{element:[GATE]{operation:QPE(U, t), part:(t + 2)}, targets:{1 .. t + s}}, ..., [MULTI_QUBIT_ELEM]{element:[GATE]{operation:QPE(U, t), part:(t + s)}, targets:{1 .. t + s}}),  \\\\ ([MEASURE]{basis:Z}, [MEASURE]{basis:Z}, ..(t - 3) ×.., [MEASURE]{basis:Z},[GATE]{operation:I}, [GATE]{operation:I}, ..(s - 3) ×.., [GATE]{operation:I}),  \\\\ ([MULTI_QUBIT_ELEM]{element:[OUTPUT]{state:|m〉_{t}, part:1}, targets:{1 .. t}}, [MULTI_QUBIT_ELEM]{element:[OUTPUT]{state:|m〉_{t}, part:2}, targets:{1 .. t}}, ..., [MULTI_QUBIT_ELEM]{element:[OUTPUT]{state:|m〉_{t}, part:t}, targets:{1 .. t}},[MULTI_QUBIT_ELEM]{element:[OUTPUT]{state:|u>, part:1}, targets:{t + 1 .. t + s}}, [MULTI_QUBIT_ELEM]{element:[OUTPUT]{state:|u>, part:2}, targets:{t + 1 .. t + s}}, ..., [MULTI_QUBIT_ELEM]{element:[OUTPUT]{state:|u>, part:s}, targets:{t + 1 .. t + s}})))])\n",
      "_success_def expression notebook is being updated\n"
     ]
    },
    {
     "data": {
      "text/html": [
       "<strong id=\"_success_def\">_success_def:</strong> <a class=\"ProveItLink\" href=\"../__pv_it/axioms/62be744d3488d60ae3223dbdead7114b0c4b98a70/axiom_expr.ipynb\"><img src=\"data:image/png;base64,iVBORw0KGgoAAAANSUhEUgAAA2wAAAEtCAMAAABDKRODAAAAbFBMVEX///8AAAAAAAAAAAAAAAAA\n",
       "AAAAAAAAAAAAAAAAAAAAAAAAAAAAAAAAAAAAAAAAAAAAAAAAAAAAAAAAAAAAAAAAAAAAAAAAAAAA\n",
       "AAAAAAAAAAAAAAAAAAAAAAAAAAAAAAAAAAAAAAAAAAAAAAB8dl/BAAAAI3RSTlMAq1RmmUTNIjK7\n",
       "EInv3Xa5wzBsryClQGDj4YVQXufXodWTfH6c11AAAAAJcEhZcwAADsQAAA7EAZUrDhsAABz/SURB\n",
       "VHja7d1ro6MoggZgUAQEZaemp6e7qmd2dtf//x9XvMS7MREMxJcPdU6lLIPIw10kJOzAs5BiI6sm\n",
       "UIKAsBHKNo90fxOliibmLKx8LSud1mFUAAhaJy6lNM/T1f+R8UIjA94p2AyS0h4b0dGUzEmhAsMm\n",
       "Vj5rklMUfP3/ANsdxVXD/U/jiLIKLaJr2ETXqkyrdVUc2G6NLVvJMyEGykk82GRVAhvCAhuheQwx\n",
       "llUWEbas4sCGsMQmqiSCGHNOIsKm6zTNeGESzeuDFDOGNWUFZ2n9a4IMeFdsJC/Dj3ASXMW2g02Z\n",
       "tn9ZsERUKZGlPTA3FlvzK2fIgXfFJisTfsUWXoGwjq3UWpuu6irrSKv6h24Pl/Vl0LaR+azkSPVL\n",
       "o0FiW6/UbDqIyzZ+fxZQQDjBRvIi/B6biQTbuAPc0pJdM90OUHZ1WvUk58ruhtRu9zp5SmtKLaV0\n",
       "JXVU2jW8Z5M7+cbva9Hg+eFjt9skuQC2SRst9F4ErVSM2Ni4BWz/qce2mnOloXneHJu0TqyhLN+v\n",
       "bFhde5py2Q2UxnSNgYS/i41QfRZbkhtCgG0cKh52dFUV4IjpAWx6UrOx/ZqNMfnIou39KOwHOzMz\n",
       "VrGwrdPVNnZyHlshz2FL85QgzLDRSgYe3SRebKRgj45a37CskztlaV37UGLSvEl8M8qXrQ/RVOfF\n",
       "9qWnqsWm+PvY5tGYNd4NVW9jM3kyavGmJgW2NiOEPf+TB9iK3FiuNc7ZJet6YLKXx7nqWmcqzeyQ\n",
       "ZVHrM80I5jgzt90t2Vx1uZ9HdU0qYSTdxpaVO9jm0ZhqKRUx9hpsz/FVbHJcSqiyTgIKbG2DJOgh\n",
       "ElWFODmxxCYor6pHPyejVUGbDCeY1rTpjOUqyTJjfxXKWFG2jmP2f2TpeGBCDtiK3U6PtAvJBUvF\n",
       "NjbCjdrENo/G1GXaulesPsNhbP3QaJLrx/dSSoRGzdZXHTLo2OoosL046GO6YccyaSqzvAn177Id\n",
       "YuyakbstaJGPHMm8D2KCLeFmp882jcbkHLZGto9aJOkrzchhaDR7cCtYmigCbG2DIeh2JA1vRtsB\n",
       "NpuVTW5NEWnnw8a3gx4aIGkqEbH17z02UewOkEyjMW3vtF1G0VSN29imj2NMhkYlZU30qjsP/8+x\n",
       "yaDHI4uKfB82UXXVSpo3Y/jjOqob0zB26J+OBhn6Px71mpSSqSfY9gdI5tEYh7qJmtrD+ZMBkqYj\n",
       "SrKkXZNWzprWtppuhko0sHWFWBVuLR9ml+0stkaRXTkpaNOnEqPRwN6H1mZkSRai++NRCI0eA55b\n",
       "1rzS5jm2eTQmV8hMc4Zj2Ap7p8hyaNTGt+71pUYBW5deQbbUuqxX5V+IbVmmaNtVylZ8nEy+9+fZ\n",
       "xiMeuR0xZWlKs8QOdUiTGFs6SJ2kbTNStH2/9aHRO4cFNhbw+kgWZodS+uuIZGVI2JKkPzbjTYtQ\n",
       "8Lb+sjVa2TY3u/NlW0OjwDb5INyn2niYq8k8YiPcXdEneXIKmzLtkGLeNX3zZhK9WUVW25L80Yys\n",
       "S8XxCMtsbBTYxjkn3Jm2Isx5CZ/YiHRVvgi50oVa+30zdPNj9tiM9dhUX6ONarYaJRZCHsGmqirY\n",
       "yAY6eCNvN56taCmzkhFdJCQzaTM5b/ts7UoZXlVVCVoHsNU5OtRpbRFoOSAr9E0Q3sJWBvuYTRJo\n",
       "eQlsvls0Do8KCxsPdjjSBDrh/hwbzyDmVPfhUPh4y+vZPsdLbDTYBVs60IHSp9gYdia/Rc32bJ/j\n",
       "JTYW7Kb1NNCYPcMW2g7OwOYrPNk+eIlNB7s6Mq9YjNhUgYUUHrEp4QSbcjFS8WSf4zVsoQ7b8jix\n",
       "ndjBefW8EtgmRbB0gc3RWo79fY6X2Eyws9ploL3JfWxndnDW2V7u8j/k4DZ4wTY8DHEGm6u+0/4+\n",
       "x0tsabCz2kWU2M7s4LyKLXFQv3/iFvvBxoWDazLOht529zmOC5uJD9upHZxXsZES2Ibcqh2cP3O3\n",
       "NGl3X9MltiRgbGl82E7t4DzCNtqaRCfA1g9r/KkcnN9l/2Rvn+OYsFURYju3g/MIWzKcR+TA1oWf\n",
       "vxycP3O55nZvn+MltixgbEl02M7t4LyObdRPuTm2vwoX56dOJ7t2TrbEJoPdGOG//vYjyHj94/d/\n",
       "bDZzzvW8N7AlGtjajsW/XJy/dDqltLPP8T9/X2Sdv/0NNZurmu3kDs4b2M4PkXwHtl8/nZy/cjrw\n",
       "trPPcUw1W4TYTu7gvIWNZcBWNxv+/SNAbDv7HAObT2xntwNrsLHShqJofnRv6h5mcq+eYD5z+9xM\n",
       "hw8f/3J1fqcDb9v7HAObT2xnd3DeqtlOd9qirdlG9P4qpgxP1GxOsW3vcwxsPrGd3cF5C9vp4chI\n",
       "sU10NaMjo09Cwba9zzGw+cR2dgfnDWznJ9qixDZtTvajI49PQ8G2vVUOsHnEdnoH5w1s55eQRIht\n",
       "3s/8+WPIF2Fh29znGNg8Yju9g/MGtpLcD9vc2uS9U9VJbL+cXujmPsfA5hHb6R2c17E5WPYfHba5\n",
       "tdmLBOw/n8D2u9ML3Xw2Dtg8Yju9g/P6QmQHOwvHh232Ec3cnd81ts19joHNI7bTOzivPmKjOLkf\n",
       "tnmS58QlNrfNyM19juPC9vcg4/XP6sdWhJUHbC7e/x47NiWcYktdZ9T1Qvb/qmXWQc3mpmY7v4Oz\n",
       "WbtplACb0/M7x7a1zzGakf6wJeHueA9sHpuRm/scA5s/bCbcVyYDm8+abWufY2Dzh02H+6o7YPOJ\n",
       "bWuvLmDzh40Gu7c0sHnFtrXPMbD5wxbqDs7RYSN+HxvygK0EtouxcWD79Hd+BtvWPsfA5g9bGez7\n",
       "gIBtmq8cj0Zubb0KbP6wFcB2z5oN2D6BzQDbHbElwPYBbCmwARuwXYGtArZ7Ysu+ABv7LcwXxatU\n",
       "bdzEvwPbHbFtLS8Wi+9Rv/0WbKLEVrP9AWxRYPt1DTY0I31iS4DtjjWbBDZgAzZgAzZgAzZgAzZg\n",
       "AzZgAzZgAzZgAzZgAzZgWwu//SaBDdiADTUbsAEbsAEbsH0htiqyJ7W/A1tcm7QCmytsfs9/GTZs\n",
       "0uqvZgt14TSweca2tbwYzUg0I4Htl+sMgT4bsH0jtse2/+izAduZsHpeCWzjkEtgAzYH8V19i00u\n",
       "gW0IGSXABmy+sDl48egXYeMC2IDNGzYHr9T+HmypJsAGbI6xjV7zqxNg60dH/lQusGE0Etg2XmAv\n",
       "cmDrws9fxAU21GzAtoFt1E+5Oba/CgJswOYVW6KBrQnFv4AN2PxiOz9E8h3Yfv0kwOYp3G+T1i1s\n",
       "LAO2Ot3//SNMbNikNdqajZU2FEXzo53ClcNM7pvhI7evchHbzas4cX6MRgLbZs12utMWa802FvZX\n",
       "QSbe0IwENh/YTg9HxoltWpe1oyPDR8AGbB6wnZ9oixLbtNn4GB3pPwY2YPOA7fwSkgixzfuZP3+Q\n",
       "qTZgAzYP2EpyP2xzazqdpDSwAZsXbA6W/UeHbW5N8VlSAxuwOcM2Woici/thmweauTs/NmkFNrLx\n",
       "iM2sUL8lNpk7PD9qNmDbwmZSYFMC2IDNbXzNWvuGEmBzen5gW00UbNL68YwPbO9jwyat/mo2bNJ6\n",
       "U2zYpDXGZiSwXYMNC5GBDdj6hMSLNYAN2AL/TmADNmADNmADNmADNmADNmADNmCLHhtGI4EN2FCz\n",
       "ARuwARuwARuwARuwARuwYZPW08HfJq3AFiU2bNKKmg3YtvIVRiOBDdjQjAQ2YAM2YAM2YAM2YAM2\n",
       "YAM2YAM2YAO2W2FTKeUlr9yGssyfvswO2IDtXtgSzo30kfFUpku6O0GLTVqB7U7YJGc+M53kVKFm\n",
       "AzZgq4PJfa8NysoM2IAN2Ahl/r9d8RTYXsKGTVq/Edt//3HJ9/8n/zQ2bNLqr2bDJq2HvpNedVe1\n",
       "vggbNmlFMzJMbEZfFoM82bhPWIgMbHfApsrrYrDxXeizAds9sLEr02j9bVsTbBstfwlswBY7Nhdv\n",
       "dnwhlE+x6fUpglwCG7BFji1NL43D6tKtI9heeo85sAFbiNjya/Naxt7ERkpgA7bIsfGLI1Gu3qdf\n",
       "z7HpBNiALWpsgl4cCf5uzSZyYLsPtpJ9IbZMX5wYa83WQ9gIF8B2F2yq4l+ILTEXJwaTR7Blhiqh\n",
       "TW6I1Dpv+SX6ZtjuvDZSkS/EpqqLE6M61IzUJKfGxi6t/5YUrw6RYG3kJ2o2bNL67DurACKxwJZl\n",
       "pLRdNFGZUX309Invp4TQjMQACbDNRiNVXadZWUkjgXVNVkmP9t2+r89myvL80+zzk4jNvwDbfWo2\n",
       "y4w8mBVdZ63ttB1p+H4fNp05OenkNGaiIzPAdlNstGFWWl5ZfXfVUKUl3Dm2YfojSQPHZvKqyinN\n",
       "39zFYoxtPuBk0nCwfedo5JsReT8xDmJrarO2LVm7a16I0Uy0CV1yLR1jGzqDXASOrf68Tfm8UOew\n",
       "LRfFchUMtu+cZ3s3Im8nxjFsopIPG7kmTRncLSHhyZEM8RI22Vdtr0ycfwibrNrmXlKZc9jYoiJL\n",
       "WTjY0Iy8rhmZNcP8prn7GTPN7e1G/o/0sV7ts/Vluk6Cx2Yq2f3U57AVy389VFkCW+zYDqyN7Jb9\n",
       "ZwVxj61/9IGT4LHlVf9TnsK21vXlKbDdcYBkGbrN9gwlynWfrS7TSxsKHT62Kp+0Jt/GxvprVdqY\n",
       "brRFU2ADtlF/nhmilXNs7SKyXAWPrUUmdPlezh4St6/FMjv1Jlt56aO2Y+UoUGC7GbZ+YFqy9Hn7\n",
       "6WVszcMPe09ApPqVSQExH2oQO46lXh3G3xj6r6jWOn131m1I3E6raJLedKtPjzXRge1rsJl1Sy89\n",
       "CvT6pLbFsDNxLLtsqNK9bp3SmjbbrKezNp5MSrV99HrzbboPYx+3/Nz9Gi6xyLrzGWOGavPAKbZf\n",
       "YA9s0WFzEeTLL7C3Tz8sHElD8/aRg244QRqztxqaNQ0wuyxqsYvSCrb+6I15+vWa7eRk7wJbNXae\n",
       "nanZsEnrTbG9sUkrX1RHhA2PAz04JHvY7Bx8M0O4PGgF2+PoF7DJYcDfJLZpq2xVZwobdaONfVlQ\n",
       "90OnxvQH9T9WmpGTcZbh4tBn+1psIbwySif9ZJuq82lKpsuXjmGzDSzLpx3MEawN2Qa2/uhXsJmq\n",
       "12Kf+hXGnsE2ButfNGuGGLsfduqfpd1B/bFjbHmrrGzxtl+V5ofS1gG21ypB8Wls4vUDXsHmLTU+\n",
       "2ozcwSaKrgBXdniu/l2Nc156CFuTnctmSjB9XrP1R/dT+Eew8WqIOEuaoR37CTVEWQNCdT+a3leW\n",
       "dwf1x46xdf3E5sIUa28g0xdhM69Vgpn5LLbn0V3G8AVs/lIjVGyEdrUrpUTYNlc2ipPk8iA2aVUJ\n",
       "lopZ569YXZwiO4PcqCPYmF2F3Cd1Vv8lG7Bl7aV1P9IirUPWH9T9GGOT3YUYnT7az2V2DbaDz9wL\n",
       "rVnbZTapU2yGMkbbixa0rCpK6765/QpJy6Ko/0Z5UaTT6NoDy+atGLSo+CK/L2J4HJvH1AgW22Pk\n",
       "gKVNNZDyvAmJvQePVzk+wSb2p+pk3gcxOTpZ3r1nj9jYl8TaaqlvRor2Orof3bhid1B/7OQ0y+fj\n",
       "REkuwfZYAq3KvSaRsiNISXtWrtxhk23T2XQJINsxIlHwtrBqa3yV63l0dd+En74co7uIeQwPY+tP\n",
       "v58Y76VG8Nj6vCT1pCw8hM3Or4nDberH0aI4PBo5lIc28W1Lt46/sktfbO5Q5vEjtT+6gx7Hjk+z\n",
       "XHbM0muwPb4n2V3nauwJu8dLUuYMm+jHhLpVpqLjlTZjT/3fiKLz6D6a8NNp0e4i5jE8jK0//X5i\n",
       "vJcawWNr3rRj031cSa0OkCjd//Go16SUhx80G45+Yeh/hM2k2mb7tG4HUju2qLUdf5z86A56HDs5\n",
       "zfxlswcfeTiPrRjGPHf7Js3sRDfXUShX2Pjj68tyjE1W5RgbYfPoVn36TEdn+4uYxfAwtuJQYryX\n",
       "Gk8XIn8am6pzZtOFEqPXC3QchOaVfrT4ZCG6P/p0q2w4Gsnh6HewvRfGp1EzXAff9Hwa23C15fPe\n",
       "StKVw6M10lS8VDjM8lwymjxpl751vLImI7d/y7J+gHaIbtbXiGoa6/4iZqu4j2J7pMaBxHg5NYKv\n",
       "2cY1l+1dZZscnIUj2NzsQVKMzYpJR9EIcg22bswzo3mV0ycja1mZTgZP266lHP14FRsdoilHvGyX\n",
       "LHn8zWSL6Nb/3n3feK3c6CJmy4COYmtPfygxXk+NiLBNLvPD2MIJp7Hxocv27KsM7ceIx8vkmoz1\n",
       "grVJnuOPmcoaVvHgpUw7/Fh/RunomCG6ZTFvX04vYraQ7yg2nh5MjHdSI05shBuP2Xf14fOv3aT1\n",
       "8cACO9Bc6Mbfpmuk66z1irVtbG0vrdR1BzfpP6O2SZYtoqsenblZl+3Rmy/ewtanxpHEeDk1Port\n",
       "xCat0ls9I+TJAYdQaraDhcOjKTvqpSg+Wh4mpz3b8VzGI3+91KjeaEZmVbs36bi3M/TZ+pUaXXT7\n",
       "7tKs8T1cxGwV91FsfWocSoxXU+MSbNikNeBmZJ+9VLU/6CPbZwzb007XSO9gq9bCpHJgwwBJuoFN\n",
       "qWHRehfdR5dNTy5/uIjZKu7qWUSmqfEsMd5LjfVI4AX298HWN5yaXoraSwA1ZK/J/OaZZiTJbUbN\n",
       "kkcvbA1bk1fkJLq6Wm1FDhcxm4F9sRn5LDHeS41I+2zA5gxbv+DM9lKSHTLtYtWu4TReI31qgKTm\n",
       "pEmSKTNMaq9j49Po9nPO3VC7IvOLmK3iPoqtO/2zxHgvNYDt7tj6cWtK7VKX7dDswtR3lUZrpM8N\n",
       "/df/kdtZ/4QV/VNLfHJ1Xex0MYsut81P0Y0HPvZNHS5itor7KLbu9M8S473UALa7Y+uXQIv8yfvc\n",
       "M8ZYPy44WiPdj38L/h42u600Nc2CDVnr4VVFH4Mc3bJkmheP+q6PLtE5ZQ8PZbeEfLiI2Sruo9i6\n",
       "0z9NjLdSA9jujo28MT0vTs1zrmZ8u+43fz+6idqP4eHlWj5TA9huj+2NVcUsdY6NcpmW70dXP4nh\n",
       "YWw+UyP4tZHA5hvb0VWYo6L83Lbw64+RVdXBvTfXojvvYC1iePx5No+pgZoN2NSrdnLhHhthBX0/\n",
       "uuZZDI9j85gawAZs81UYz4I5uQnJ2W0Rnkd3GcMXtkXwlxrABmyXJ2Uo33mrfSNjwhbqPozYpBXY\n",
       "DhHa3qQVNdvZmg2btN4U2xubtAIbmpG3wBbCJq3ABmyo2YAN2IAN2IAN2IAN2IAN2IAN2IAN2IAN\n",
       "2O6BDQuRgQ3YULMB2yewlQzYzicGsAHb86AqDmznEwPYDmP70k1aj2UwNCMdJEasm7SiZntas4VZ\n",
       "OKDP5hkbNmmNvc8GbP6wYTQS2IAtzpoN2IAtQGwK2IAtPGzfORqZmIsTg0lgA7an4Svn2TJ9cWLk\n",
       "CtiA7Z7NSEEvjgRHMxLYboqN8IsjUa7eJ4xGAtsNsOXX5rWMoWYDtrtiM+mlcWAZsAHbXbGpa9uR\n",
       "JQE2YLsrNsKuTKP1ehTY1u5LdJu0Ym3k0++8smpTJbkE2z+xSStqthCxEaMvi0GebNwnjEYC2y2w\n",
       "bRFwH7Qm19RswAZsgWIj//PHJd//vzkBNmC7OTZCL2hJqtwQYAO222MjOvc99JWVGQE2YAO22gJn\n",
       "PjOdzKkgwAZswNaEhHPjpXpTUnMq9vMVsAHbnbDZ6UrKS165DWXJn06b45VRwHY3bB/MV6jZgA3Y\n",
       "gA3YgA3Yvh7bnTdpBbbosWGTVn81G15gf1NseIE9mpHAtpWvsBAZ2IANfTZgAzZgAzZgAzZgAzZg\n",
       "AzZgAzZgAzZgA7Zr8hVGI4EN2FCzARuwARuwAds3Yqv8nh/YgA3YhoQ8FIDNYcAmrajZoqjZsEkr\n",
       "ajZg28pXGI0ENmA78D+VQJ8N2BzEd/W8EtjGIZfABmwO4quzvdwFbHXIKAE2YPOFLWHANgQu0GcD\n",
       "Nm/Y1t/od1NsqXYxQPI7sAHbCFs2NHV0Amz96MifCtiAzTW2ZHgvhMiBrQs/fxEX2NBnA7YNbKN+\n",
       "ys2x/VUQYAM2r9gSDWxNKP4FbMDmF9v5IZLvwPbrJwE2b9jutknrFjaWARsh6t8/4sKGTVr91Wzn\n",
       "F0432FhpQ1E0P9opXDnM5L4ZPnL7Kkex7T79+cvV+bFJK5qRmzXb6U5btDXbyN5fM4ZoRgKbD2yn\n",
       "hyMjxTbR1YyOjD44gc0AG7BtYDs/0RYltmlF1o+OPD58+/xlxYAN2DawnV9CEiO2Wdft548hnc+d\n",
       "n1Yc2IBtA1tJ7odtPkqi03FCnzp/5jrHA9v3YHOw7D86bHNris+S+sz5S8edNmCLHNtoIXIuboht\n",
       "3vTLHJ4/qwoFbMC28qHi5H7Y5kmeO70mXVFgA7aVD00KbEq4vSbqdEAS2GLEZtZ2QKAE2Jxfk3FZ\n",
       "t2FtpL+AF9jHj42IxD82rI30WbNhk9ZosLktfdGMjK8ZCWxRYkOfDdiADdiADdie3vlAHxsCNmD7\n",
       "NmyRBWADNmADNmADNmADNmADNmADNmADNmADNmADNmADNmADNmADtsCCkHGlObAB29NDZbCZNws0\n",
       "bUVshQOw+c0R63cezUifzcgM2FCzARv6bMAWBrZAr6FwvU00sAGbJ2wHm5EZsDnCFmp8gc1zyL4A\n",
       "WwlswAZs1wTu+gUInrGVwAZs+9iSqgj0GvJKR4Ut1MIB2DyHLUJLbGlVBnoN1PXbRjxjC7VwADbP\n",
       "YYvQEptx/U4PZ4G53bfWO7ZQCwdg8xy2CC2x6SoP9BpCjdnma34DLRyA7UMZdYmNBVsep4HWuVvY\n",
       "wi22gM1zE4wdxJYH263PAh262cKWBtsgBzavYYvQEhsPdt2DCHRSYgubi8JhcWYJbGvJ4jyvnUn3\n",
       "LUJLbEUV7GL1qhIxYXNROCzeY5NLYKuzs117qNPUW71wKt23CC2xBbsO2c4SZzFhc1E4LG56woCN\n",
       "SDvyxGT78xpsr6T7FqEFNhHsnLYdS0+jwuagcFi+oa0ENsJsquQ89VctnEn3TUILbFm4vXpiwhwo\n",
       "3cTmoHBY3nSdAFuT8WVRFeI6bMfTfZPQApsJd9lDqAXBJjYHhcPypov89tiaJp1QRJTmOmzH032T\n",
       "0AIbDfchLKLCHI7cxOagcFh50S8Xd8dG7fhDWaeMltdhO57um4QW2Mpwx0ds5ERM2BwUDs1NV4Y1\n",
       "7VHa3JpE3xybaoqwNPE4GHkq3TcJzbGpgMdH7JqMNCZsDgqH5qZrkhSje1XeHFt6waqLE+m+TWiO\n",
       "LQl3PV/TLqNRYTtfONibLhPC7I2mXaOUZffGxtU12N5M921Cc2whd9mInS6MCtv5wsHe9DpvFbYw\n",
       "L7oSfZhdqt4On8AWQziW7u912RbYirBXsLEQl7dsYzufnG1HPbO9ANFfu4NOW8w1m76iOjiR7tv3\n",
       "fIZNBt2KtFevo8J2unBob3rTmjH9rXIwHBkztkuebX4/3XcIzbCZsFuRdbFRRIXtdOHQ3vTc3r88\n",
       "J82SCRcTbRFjy9h12N5J9x1CM2y8CNtafSlZTNhOFw5dCUvtgglNtKtmVMTYqLwO2zvpvkNoik0G\n",
       "vHykv2U0KmxnC4f2piuqTSKoka6aURFju2aHnLfTfY/QFBsNeUa7S4XworiH7WzhsFzJ4GTZf7zY\n",
       "UnMhtjfSfY/QBJsKfHikjaOOCtvJwmF503Nxa2xcfQjbsXTfJTTBZsJ8OHPeMFMxYTtZOCxuuuLk\n",
       "ztjERdu6vJvuu4Qm2ApGIgiljgnbycJhcdONkwVrH50wPoUg+RC2g+m+S2iMzYTfY2saz6HVv/vY\n",
       "zhUOZj72Rsmtw1WX/2a67xMaYVPhbk0/DSyPClsSQ+Mcwc2Awi6hETaax3JNZRoTtuAKBwRv9e7+\n",
       "nR6wZYWK5ZpkWFGVbZeExlI4IHgKO4TKabe1zCK6qqAaZiptQhZL4YDgq8W1nQXaLNIXuipDYt2k\n",
       "cEDwVOi+R+j/AagswYiYJW+HAAAAAElFTkSuQmCC\n",
       "\" style=\"display:inline;vertical-align:middle;\" /></a><br>"
      ],
      "text/plain": [
       "<IPython.core.display.HTML object>"
      ]
     },
     "metadata": {},
     "output_type": "display_data"
    }
   ],
   "source": [
    "_success_def = Forall(\n",
    "        e,\n",
    "        Equals(Psuccess(e),\n",
    "               _success_prob_e),\n",
    "        domain=_e_domain)"
   ]
  },
  {
   "cell_type": "code",
   "execution_count": 21,
   "metadata": {},
   "outputs": [
    {
     "name": "stdout",
     "output_type": "stream",
     "text": [
      "Expression notebook is being updated for {[Pfail](e) = [Prob_{m in {0 .. 2^{t} - 1} | |m - b_{f}|_{mod 2^{t}} > e} QCIRCUIT(VertExprArray(([INPUT]{state:|+〉}, [INPUT]{state:|+〉}, ..(t - 3) ×.., [INPUT]{state:|+〉},[MULTI_QUBIT_ELEM]{element:[INPUT]{state:|u>, part:1}, targets:{t + 1 .. t + s}}, [MULTI_QUBIT_ELEM]{element:[INPUT]{state:|u>, part:2}, targets:{t + 1 .. t + s}}, ..., [MULTI_QUBIT_ELEM]{element:[INPUT]{state:|u>, part:s}, targets:{t + 1 .. t + s}}),  \\\\ ([MULTI_QUBIT_ELEM]{element:[GATE]{operation:QPE(U, t), part:1}, targets:{1 .. t + s}}, [MULTI_QUBIT_ELEM]{element:[GATE]{operation:QPE(U, t), part:2}, targets:{1 .. t + s}}, ..., [MULTI_QUBIT_ELEM]{element:[GATE]{operation:QPE(U, t), part:t}, targets:{1 .. t + s}},[MULTI_QUBIT_ELEM]{element:[GATE]{operation:QPE(U, t), part:(t + 1)}, targets:{1 .. t + s}}, [MULTI_QUBIT_ELEM]{element:[GATE]{operation:QPE(U, t), part:(t + 2)}, targets:{1 .. t + s}}, ..., [MULTI_QUBIT_ELEM]{element:[GATE]{operation:QPE(U, t), part:(t + s)}, targets:{1 .. t + s}}),  \\\\ ([MEASURE]{basis:Z}, [MEASURE]{basis:Z}, ..(t - 3) ×.., [MEASURE]{basis:Z},[GATE]{operation:I}, [GATE]{operation:I}, ..(s - 3) ×.., [GATE]{operation:I}),  \\\\ ([MULTI_QUBIT_ELEM]{element:[OUTPUT]{state:|m〉_{t}, part:1}, targets:{1 .. t}}, [MULTI_QUBIT_ELEM]{element:[OUTPUT]{state:|m〉_{t}, part:2}, targets:{1 .. t}}, ..., [MULTI_QUBIT_ELEM]{element:[OUTPUT]{state:|m〉_{t}, part:t}, targets:{1 .. t}},[MULTI_QUBIT_ELEM]{element:[OUTPUT]{state:|u>, part:1}, targets:{t + 1 .. t + s}}, [MULTI_QUBIT_ELEM]{element:[OUTPUT]{state:|u>, part:2}, targets:{t + 1 .. t + s}}, ..., [MULTI_QUBIT_ELEM]{element:[OUTPUT]{state:|u>, part:s}, targets:{t + 1 .. t + s}})))] if e in {1 .. 2^{t - 1} - 2}.\n",
      "Expression notebook is being updated for e -> {[Pfail](e) = [Prob_{m in {0 .. 2^{t} - 1} | |m - b_{f}|_{mod 2^{t}} > e} QCIRCUIT(VertExprArray(([INPUT]{state:|+〉}, [INPUT]{state:|+〉}, ..(t - 3) ×.., [INPUT]{state:|+〉},[MULTI_QUBIT_ELEM]{element:[INPUT]{state:|u>, part:1}, targets:{t + 1 .. t + s}}, [MULTI_QUBIT_ELEM]{element:[INPUT]{state:|u>, part:2}, targets:{t + 1 .. t + s}}, ..., [MULTI_QUBIT_ELEM]{element:[INPUT]{state:|u>, part:s}, targets:{t + 1 .. t + s}}),  \\\\ ([MULTI_QUBIT_ELEM]{element:[GATE]{operation:QPE(U, t), part:1}, targets:{1 .. t + s}}, [MULTI_QUBIT_ELEM]{element:[GATE]{operation:QPE(U, t), part:2}, targets:{1 .. t + s}}, ..., [MULTI_QUBIT_ELEM]{element:[GATE]{operation:QPE(U, t), part:t}, targets:{1 .. t + s}},[MULTI_QUBIT_ELEM]{element:[GATE]{operation:QPE(U, t), part:(t + 1)}, targets:{1 .. t + s}}, [MULTI_QUBIT_ELEM]{element:[GATE]{operation:QPE(U, t), part:(t + 2)}, targets:{1 .. t + s}}, ..., [MULTI_QUBIT_ELEM]{element:[GATE]{operation:QPE(U, t), part:(t + s)}, targets:{1 .. t + s}}),  \\\\ ([MEASURE]{basis:Z}, [MEASURE]{basis:Z}, ..(t - 3) ×.., [MEASURE]{basis:Z},[GATE]{operation:I}, [GATE]{operation:I}, ..(s - 3) ×.., [GATE]{operation:I}),  \\\\ ([MULTI_QUBIT_ELEM]{element:[OUTPUT]{state:|m〉_{t}, part:1}, targets:{1 .. t}}, [MULTI_QUBIT_ELEM]{element:[OUTPUT]{state:|m〉_{t}, part:2}, targets:{1 .. t}}, ..., [MULTI_QUBIT_ELEM]{element:[OUTPUT]{state:|m〉_{t}, part:t}, targets:{1 .. t}},[MULTI_QUBIT_ELEM]{element:[OUTPUT]{state:|u>, part:1}, targets:{t + 1 .. t + s}}, [MULTI_QUBIT_ELEM]{element:[OUTPUT]{state:|u>, part:2}, targets:{t + 1 .. t + s}}, ..., [MULTI_QUBIT_ELEM]{element:[OUTPUT]{state:|u>, part:s}, targets:{t + 1 .. t + s}})))] if e in {1 .. 2^{t - 1} - 2}.\n",
      "Expression notebook is being updated for (e -> {[Pfail](e) = [Prob_{m in {0 .. 2^{t} - 1} | |m - b_{f}|_{mod 2^{t}} > e} QCIRCUIT(VertExprArray(([INPUT]{state:|+〉}, [INPUT]{state:|+〉}, ..(t - 3) ×.., [INPUT]{state:|+〉},[MULTI_QUBIT_ELEM]{element:[INPUT]{state:|u>, part:1}, targets:{t + 1 .. t + s}}, [MULTI_QUBIT_ELEM]{element:[INPUT]{state:|u>, part:2}, targets:{t + 1 .. t + s}}, ..., [MULTI_QUBIT_ELEM]{element:[INPUT]{state:|u>, part:s}, targets:{t + 1 .. t + s}}),  \\\\ ([MULTI_QUBIT_ELEM]{element:[GATE]{operation:QPE(U, t), part:1}, targets:{1 .. t + s}}, [MULTI_QUBIT_ELEM]{element:[GATE]{operation:QPE(U, t), part:2}, targets:{1 .. t + s}}, ..., [MULTI_QUBIT_ELEM]{element:[GATE]{operation:QPE(U, t), part:t}, targets:{1 .. t + s}},[MULTI_QUBIT_ELEM]{element:[GATE]{operation:QPE(U, t), part:(t + 1)}, targets:{1 .. t + s}}, [MULTI_QUBIT_ELEM]{element:[GATE]{operation:QPE(U, t), part:(t + 2)}, targets:{1 .. t + s}}, ..., [MULTI_QUBIT_ELEM]{element:[GATE]{operation:QPE(U, t), part:(t + s)}, targets:{1 .. t + s}}),  \\\\ ([MEASURE]{basis:Z}, [MEASURE]{basis:Z}, ..(t - 3) ×.., [MEASURE]{basis:Z},[GATE]{operation:I}, [GATE]{operation:I}, ..(s - 3) ×.., [GATE]{operation:I}),  \\\\ ([MULTI_QUBIT_ELEM]{element:[OUTPUT]{state:|m〉_{t}, part:1}, targets:{1 .. t}}, [MULTI_QUBIT_ELEM]{element:[OUTPUT]{state:|m〉_{t}, part:2}, targets:{1 .. t}}, ..., [MULTI_QUBIT_ELEM]{element:[OUTPUT]{state:|m〉_{t}, part:t}, targets:{1 .. t}},[MULTI_QUBIT_ELEM]{element:[OUTPUT]{state:|u>, part:1}, targets:{t + 1 .. t + s}}, [MULTI_QUBIT_ELEM]{element:[OUTPUT]{state:|u>, part:2}, targets:{t + 1 .. t + s}}, ..., [MULTI_QUBIT_ELEM]{element:[OUTPUT]{state:|u>, part:s}, targets:{t + 1 .. t + s}})))] if e in {1 .. 2^{t - 1} - 2}.)\n",
      "Expression notebook is being updated for forall_{e in {1 .. 2^{t - 1} - 2}} ([Pfail](e) = [Prob_{m in {0 .. 2^{t} - 1} | |m - b_{f}|_{mod 2^{t}} > e} QCIRCUIT(VertExprArray(([INPUT]{state:|+〉}, [INPUT]{state:|+〉}, ..(t - 3) ×.., [INPUT]{state:|+〉},[MULTI_QUBIT_ELEM]{element:[INPUT]{state:|u>, part:1}, targets:{t + 1 .. t + s}}, [MULTI_QUBIT_ELEM]{element:[INPUT]{state:|u>, part:2}, targets:{t + 1 .. t + s}}, ..., [MULTI_QUBIT_ELEM]{element:[INPUT]{state:|u>, part:s}, targets:{t + 1 .. t + s}}),  \\\\ ([MULTI_QUBIT_ELEM]{element:[GATE]{operation:QPE(U, t), part:1}, targets:{1 .. t + s}}, [MULTI_QUBIT_ELEM]{element:[GATE]{operation:QPE(U, t), part:2}, targets:{1 .. t + s}}, ..., [MULTI_QUBIT_ELEM]{element:[GATE]{operation:QPE(U, t), part:t}, targets:{1 .. t + s}},[MULTI_QUBIT_ELEM]{element:[GATE]{operation:QPE(U, t), part:(t + 1)}, targets:{1 .. t + s}}, [MULTI_QUBIT_ELEM]{element:[GATE]{operation:QPE(U, t), part:(t + 2)}, targets:{1 .. t + s}}, ..., [MULTI_QUBIT_ELEM]{element:[GATE]{operation:QPE(U, t), part:(t + s)}, targets:{1 .. t + s}}),  \\\\ ([MEASURE]{basis:Z}, [MEASURE]{basis:Z}, ..(t - 3) ×.., [MEASURE]{basis:Z},[GATE]{operation:I}, [GATE]{operation:I}, ..(s - 3) ×.., [GATE]{operation:I}),  \\\\ ([MULTI_QUBIT_ELEM]{element:[OUTPUT]{state:|m〉_{t}, part:1}, targets:{1 .. t}}, [MULTI_QUBIT_ELEM]{element:[OUTPUT]{state:|m〉_{t}, part:2}, targets:{1 .. t}}, ..., [MULTI_QUBIT_ELEM]{element:[OUTPUT]{state:|m〉_{t}, part:t}, targets:{1 .. t}},[MULTI_QUBIT_ELEM]{element:[OUTPUT]{state:|u>, part:1}, targets:{t + 1 .. t + s}}, [MULTI_QUBIT_ELEM]{element:[OUTPUT]{state:|u>, part:2}, targets:{t + 1 .. t + s}}, ..., [MULTI_QUBIT_ELEM]{element:[OUTPUT]{state:|u>, part:s}, targets:{t + 1 .. t + s}})))])\n",
      "_fail_def expression notebook is being updated\n"
     ]
    },
    {
     "data": {
      "text/html": [
       "<strong id=\"_fail_def\">_fail_def:</strong> <a class=\"ProveItLink\" href=\"../__pv_it/axioms/1dd0d6cec95f44789f8ccc8d71923fbea3002a970/axiom_expr.ipynb\"><img src=\"data:image/png;base64,iVBORw0KGgoAAAANSUhEUgAAA1AAAAEtCAMAAAAx5nE1AAAAb1BMVEX///8AAAAAAAAAAAAAAAAA\n",
       "AAAAAAAAAAAAAAAAAAAAAAAAAAAAAAAAAAAAAAAAAAAAAAAAAAAAAAAAAAAAAAAAAAAAAAAAAAAA\n",
       "AAAAAAAAAAAAAAAAAAAAAAAAAAAAAAAAAAAAAAAAAAAAAAAAAADrabCLAAAAJHRSTlMAq1RmmUTN\n",
       "IjK7EInv3Xa5wzBsryClQGDh19vj54VQXqHVk3xPmRDsAAAACXBIWXMAAA7EAAAOxAGVKw4bAAAc\n",
       "XUlEQVR42u3da5urKLoGYFAEBGVPT3dP9+qr18w+8P9/4w4eEs9RIYrx4cOqVVUpg8gt8EKQkLgT\n",
       "z45+R2mrRAkS0kwq6zrSfCdKdZmcs+PrtbQ6faQOZEEfBUgpzfN08i8yXmhUsjslV0FS2oIi+jJ3\n",
       "36RQJ4ASEz+rikwUfPpvAOqOquzr+qfXyLI6I6NToETTA0zttBwOULcGlU3UmRgT5SQuUNKWAIU0\n",
       "AkVofoUcS5tFBiqzHKCQxqCETS6QY85JZKD0o9wyXphE88eLFDOGVeY5Sx//TVDJ7gqK5OUFIhKn\n",
       "NFALoJSpx3QFS4RNiSzdC3PjQFX/5Qy17K6gpDXxN1DnoJ8GVWqtTdMElY+MqccXXb9cPrJK6w7h\n",
       "uztAqjdFWcS8UKlZLwDKZv7/NuEmEAQUyYv4R1AmIlDdQWfNRzbdZhf4a9om+6Z2yqbQHzaXBl1K\n",
       "a0odl3SiBFTadIT7kx/5zP8ns8Hz9S9GWgcqiX4URa2KFRTr9kjdr1pQk7VTGprn1WuT2oJzkuXL\n",
       "jQZ7tIKmHA/LpDFNw53wvaAI1ftBKQVKU6CI5XFnV9mT7p0rQOleC8WWWyjG5PMuVpd54X6wMHPh\n",
       "pArXk5zs8yb+oAq5H5TImQCmCVDUysizm8QNihTsOXBqO4GPIk1Z+mhFKDFpXhWw6YyaagOianqL\n",
       "+dNLVQ1K8f2ghtkYdKYNVbu7fJJS8eqdpiYFqLoixD13kp/U45tZetStvSVrRkSy1cW5anpSKs1c\n",
       "KLB4CDNVZLBbYevhj6zOrFyuh/rBJmEknQeVlQughtnoJVMqYtw5uJHcnn6AYLRWqsrHVwpQdcci\n",
       "6rCEsmcF9segBOXWPscdGbUFTep6pTWtBke5SrLMuP8KZZwa11Yx9xdZ2g0GyBeoYjHkIt0CZsFS\n",
       "MQ+KcKNmQQ2z0b9XpbVtxR5HyNcr6l4eVo0KKSVCo4VqmwAZdW51NKA2BlNME84rk6pRyquUVF0l\n",
       "9eryLfZoRd6xIvM2iR6ohJuFMVQ/G71juJbVLeNP0i1dvkHIMS3ckVia3DZIMQRlou7z0XNmdQOA\n",
       "ctXVuEbCEunmi7pFTlcFJarGQMz9vgUlisWgRD8b/b5JPYQTVRM3D6q/1L8fckyq+Wxi7xyfGIKS\n",
       "Ucf5CkuuCUrYpnlI8yr+3W1rmjiCcWHz18hD6fafZ/skpWTqDajloMQwG9306E6m7jX8TVCiGhiS\n",
       "LKnXV5XdsWDTzXMNL9EA1dyobLyt9XlDKF9QlRS30k/QaowjOlG21oDWpuNFus5T9c/zZtL5OOjQ\n",
       "q+ZWm/eghtnonSEz1RHWgSrc1SCdkKPJk9dQyqRGAVRTXqf1qt6nxOYXBTW+N2g3dMnGBnyLaP88\n",
       "VDfK4EKCOUtTmiUuvCBNYtwdQOokrbt8oh6LtSFHmWMN8AwoFvF6PnbeAE9+bmCQlTGBSpJnc8ar\n",
       "3pvgdTvkWqay7ho2B8zmQo4A1ftBvOu4+Hkroz4IivBwtzDJEy9QymjV7R/m1URytSLq4UfyZ5fv\n",
       "cXeT0LMGlIx4Jqo4L6b/SVBEhrpPiEH5iJn/z6dm/si9OGMtKNW2TJ0W6gHPgM8KUMraaDN7YsBE\n",
       "3i4WrGgps5IRXSQkM2k1Qe3GUPWKEG6tLcFnBahHrY21LRcnWpcWYwWkXaDKaD/CkZx4TwSoT/c+\n",
       "gr0oNlA82jCfOXHS+T0onkGFV3d+TTq9k/R2O9gxKBrt4iN9YgDyLSiGXZrv0EK93Q52DIpFu4E3\n",
       "PTFn70CdsZstQJ2Q3u2yOgalo13Nl1sWKyhVpDDxMVBKhAGlAkQH3m0HOwUq1nAojxeUx262k8eV\n",
       "ANW9k8ogoMKsWXizHewYlIl2Zrc8cXS3DMpnN1udLVWhjw/zA6dPgHqtwfcCFWgs82Y72DGoNNqZ\n",
       "3SJaUD672U6CSgK0xWdcxo+A4iLEKZlQIa3l7WCvBcrECcprN9tJUKQEqGeF1CFOKQu2zGZ5a8gx\n",
       "qCRiUGmcoLx2s+2A6mw1oROAatKfv4Q4pYDjhcXtYK8EykYKym832w6o5HUckQNUUz4/ZIDDZwHX\n",
       "gS5uBzsGlUUMKokSlN9uttOgOgOHe4NSf9EQh6chJ4OWjjUGJaP9EPx//eOX0977t99/m/uV5262\n",
       "M6ASDVCVhL9EiMOXIadclraD/dfvo6rzj3+ghdrSQnnuZjsDyj8s8RWg5A8d5vAhA1pL28FeqYWK\n",
       "FJTnbrZzoFgGUI/b+98qPlBL28EClC8o362YKlCsdKkoqi/Nk3tf05lHT7L6XKIwU8KvH/8MdPig\n",
       "Aa2F7WAByheU7262cy2U9yDqsi1Uh9e/ix41nxYqJKiF7WAByheU7262c6C8w3zXBNVvrIr/1D+K\n",
       "DNTCdrAA5QvKdzfbGVD+E1GXBNXv+v38s//TWEAt7G4CUJ6gvHeznQHlv1TigqCG477XIon6N9GA\n",
       "mt8OFqA8QXnvZjsDqiT3AzX01HsmjvUE9TPkec5vBwtQnqC8d7OdBhVgufnlQA099Z/V6H7rA+r3\n",
       "kOc5/9EqgPIE5b2b7fTi2FzcDtR4d5Ms4OHDgprfDhagPEF572Y7+fENxcntQI2KPA95+LBdvvnt\n",
       "YK8F6p+nvfe/7C9zmVIfABXimc9XB6VEUFBp4Lo4cx/9PzuuOmih1rdQ/rvZmqkrQwlAhT18YFCz\n",
       "28Giy+cHKol3h2+A+lyXb347WIDyA2XifYQqQH2whZrdDhag/EDpeB+nBVAfBDW7hRJA+YGi0e6z\n",
       "C1CfBDW7HSxA+YE6czfb7wL14W3/goMqAeoToDhAnf2ep4Ca3Q4WoPxAldE+qwSg+nUnbJRvdvdK\n",
       "gPIDVQDULVsogPoYKANQNwSVANSnQKUABVAAFQqUBahbgsq+ART79bwHR6tUzVyofwLUDUHNrngV\n",
       "o/dRv/4abaHE2EL9AVCXAPXzGFDo8vmCSgDqhi2UBCiAAiiAAiiAAiiAAiiAAiiAAiiAAiiAAiiA\n",
       "AqiD06+/SoACKIBCCwVQAAVQAAVQJ7/nxT6x+yWg4tvoEqBCgfq014NAYaNLvxbqzAW7AHUeqNkV\n",
       "r+jyoct3D1A/A9cHjKEA6qqgnrucYwwFUG/T5HElQHVSLgEKoNamyadv5BKgnimjBKAAygtUgAcY\n",
       "fg8oLgAKoPxABXjE7teASjUBKIDaA6rzSFD/h8B/DajXo+AR5QOoTaA6D60WOUA15fNDooUCKF9Q\n",
       "nYHDvUGpvygBKIDyBpVogHKJ/iUACqD8QfmHJb4ClPyhCUB9KH3nRpdzoFgGUIT89reKEhQ2uoy7\n",
       "hWKlS0VRfakHDfI1nbkznXKJbIjcrvn51oQo3827fN6DqKu2UF1F/y5I1xS6fAC1G5R3mO+aoPpt\n",
       "UvGf+mcABVCeoPwnoi4Jqn+An38+ixmgAMoLlP9SiQuCGo77Xosk6t8AFEDtBVWS+4EaetLp8AUA\n",
       "BVD7QAVYbn41UKOwpOLDYwMUQG0B1Vkcm4vbgRolmoU7PDa6vCOo2ZvzLUHJPOTh0ULdGpRJAUoJ\n",
       "gAKo7clM9UUoAaiwhweoqULBRpcAFTkobHTp10Jho8t7gsJGl9F2+QDqGFBYHAtQtwKFhwUAFEDF\n",
       "8J4ABVAABVAABVAABVAABVAABVAAFbzuIMoHUACFFgqgAAqgAAqgAAqgAAqgAMojfedGlwB1RVDY\n",
       "6BIt1M1BIcoHUACFLh9AARRAARRAARRAARRAARRAARRAARRABXlPlVJechs2lWX+9mFaAAVQ3wcq\n",
       "4dzIT1QulemSLk5SYqNLgPo2UJKzT1YsyalCCwVQtwFl8k+vc8nKDKAA6iagKPv8uyueAtQmUNjo\n",
       "8qqgfvxxyPv/d342KGx06ddCYaPLVe9Jj7pyWh8DChtdost34nsafVgO8mTmOmFxLEB9CyhVHpeD\n",
       "mffCGAqgvgcUO7KMpp8E1AM100uXAAVQVwAV4ulxG1L5FpSeDq/nEqAA6gKg0vTQPEwuQ1oDastz\n",
       "jQEKoE57z/zY+pSxnaBICVAAdQFQ/OBMlJPX6ed7UDoBKICKHpSgB2eC722hRA5Q3wWqZF8IKtMH\n",
       "F8ZUF3MVKMIFQH0TKGX5F4JKzMGFweQaUJmhSmiTGyK1zmtiib4ZqG9fy6fIF4JS9uDCsKu6fJrk\n",
       "1LjcpY/vkmJjWAJr+T7WQmGjy3fvaSPIxAhUlpHSDZmENZ125e0nf98qQZcPQYl7gBpE+dSjbXJ6\n",
       "kqq2s6Z7KenKsdQXjqFMWa6b2R68sFdWAqBu2kI5SuRJqWgGT/UgakUn9QtB6Wz1H3ZfanoAMgNQ\n",
       "dwVFK0qlI5Q9rq56NU0JDw7qNXWQpJGDMrm1OaX5wo4FHVDDOI5JIwL1nVG+nRnZXxgrQVWtUt3v\n",
       "e9iqNvmvJqKELrmWgUG9BmdcRA7q8fO65PNCvQU1XqfJVTygvnMeam9GdhfGOlDCymf9zzWpbrTN\n",
       "UgmerKgP20DJtonaMHl8Fihp635bYs1bUGzUIKUsIlDo8h3X5cuqELmpLn/GTHV5m6j5ijHP5jFU\n",
       "e+PWSfSgjJXNV/0WVDH+ZaEA6g6gVqzla5abZwUJD6pdcs9J9KBy236V70BNjTZ5ClC3DEqMU7PR\n",
       "maFEhR5DPW7cpUuFjh+UzXs9vyVQrD0dpY1pghiaAhRAdQfYzBCtgoOqF0TlKnpQNSShy/ma/SzA\n",
       "tjXK3MyUrHWlr1aLlZ1EAepmoNqIr2Tp2xnO7aCqRfdLK+9TvSWgLoZjf7FgVerJEPhM2NxSrXVa\n",
       "jTM1e7ZS6WOAqZre4LMAG3SiKl3TLIgs1uQfoL4IlJn2suVjJjsmdl2FX5g8lU09VOnSMEtpTast\n",
       "p9NBf0wmpZp/9XQ/rL8HXpu3/HUGVolnUcmq3RqAKrLmT4wxrxZuTQHOP7QaoC4HKkCS2x9a7Vbd\n",
       "j6xIQ/N6qXszvpfGLK3QZVVHyi3/Ge18MwGqffXMXPV0C/Wa/1OjtkZNg7JdrplXC4WNLu8Jas9G\n",
       "l3zUrBD2+qjJs8onS6DcPHQ1gzZ+0QSo56s3gJLPYLlk9tELFTp1s9J1b09Nd/l64YtO/jGG+lpQ\n",
       "MTzORiftZJTSaTVg667TWQfKdZQckTqAIlidshlQ7au3gDI267VH9OGrEE1vbwgqryWVtcH6aGm+\n",
       "rgADgNrWmImzQYntL9gCSnyqME7t8i2AEkVzk1YuJkbdXb/7h6tAVdW5rKbM0vctVPvqdhp7DShu\n",
       "+x088Sj6PG2+GYJqhmZV3hWrLxLTR4Ey2xqzzJwL6n12xzncAGpbaWwpjFhBEdq0kpS6jtTjpDp5\n",
       "klyuBCWdHMFSMRiMFZOLMGTjjBu1BhRzK2NNb8RktCnNDCjZ5NXo9NmdLbODQK38fLXQmtXDVJMG\n",
       "BWUoY7Q+a0FLayl9jIfdW0haFsXjO8qLIu1n172wrHb6p4Xlo0o9yuF6UOtKY1dhRAuqTQVLkypS\n",
       "x/MqJe4aPB8X9waUWJ7KknmbRO/Vyfjqvf34RsWnTF3PTk2DIuOPUImSHAOqnTZU5WL3RbnITFIf\n",
       "latwoGTdzzVNCcg6MCOKKldZE6ZRuR5mV7dd6v6G/81ZDHO4GtS60thXGNGDauuS1L373SpQbv5J\n",
       "rO4AP18titVRvj4o5TJfGjMDarwUlqUHgWrfKFleemncAZuPLqQsGCjRBmKalY+iIZRWMZ32O6Lo\n",
       "MLvPLnV/arA5i2EOV4NaVxr7CiN6UNUTQly5dxubyaCE0u0/z/ZJSrn60aqvV28Im7/enNrHsMiw\n",
       "NJWPDuPjm8cNzrLBS4fPpVy7mt4fVPEMJS4PFqrQfjMXUKhQoPjzDlWWXVDSll1QhA2za9sC6kc9\n",
       "27MY5HA1qHWlsa8w3i6OPRuUYiathjSis516U+WF5lY/e2fSxdeqf9pyq557vzaXr1fvAbUQFnm9\n",
       "VA0ArX3wqzeo5xmVKwYPSXM/7SzcbR9yvv7zNLZ3QP2665sOoayqrfV3WdZGPl/ZzdqWTfWz3Z7F\n",
       "YGnxWlBbSmNzYUTfQnVbIDfayWarfLC0BtT6PSWKjj3RG5sZQQ4CVQcTM5rbnL6LWGVl2otK1mM9\n",
       "2fmyFRR9ZVN2CLkhUvL8zmTD7LrfN++Xdn7ZOYvBkpa1oDaUxvbCuBCo3nmeDOrY5A2KPwcNb9/K\n",
       "0Da+2l3WVdWeDZ569Yq/ZuuELZ6ElKnDeo+fUdp5zSu7ZTHsC/bPYrDwbC2o1aWxpzCuCYpw88Hq\n",
       "O/kh5EtvdNkuhmdrWvYmsNVfuPuoP1s8zYOqR02l1rqdC6p4iTwbZVc9B1eDIdRzBF3sArWlNDYX\n",
       "xqmgPDa6lB9rL4T0DAAc2UKtRN52OzuDBsU7K53kYDSp6nftFUu5xdNcly+z9f6OeS8G2I6h2iUJ\n",
       "TXbb8cugp/w6i8HS4rWgNpXG1sI4AhQ2ujy7y9dUIWXfxFJk/Tm0+rD9hbtLdWgq9e7y7BWUSGdA\n",
       "KfVaLN1k9zmE0r3Tf53FYGmxfZeRbaURsDDw0OovA9V0cqpBg1o8SfWqQ705Pp8uH8ldbcyS56ho\n",
       "ClRVH2Qvu9pO9vheZzGYhdzY5XtXGvsK46JjKIDalKdmgZQbNCRLKuoFlE0vp7tw1yso8SCjSZIp\n",
       "85rYnQbF+9lt512bOLXqDKHqsxgsLV4LamVp7CsMgLoDqCboSylRi9GcanecdujSWbjrFzZ//CE3\n",
       "xi1SLtpPvfDe2TWgdNHPLuGuqyiaQNtz78nXWQyWFq8FtbI09hUGQN0BVLMuV+TvHuGcMcbaeFtn\n",
       "4W4bPBZ8Hyi3xS411cIE+RDCraXPwEKzVJbmxbPdapcRE53T174CZbN0+XUWg6XFa0GtLY1dhQFQ\n",
       "dwBFyu2fcBNec32TldutRc33ZzdRyzlcvfRoe2msLwyAugWoHStdWRocFOUyLfdnV7/J4WpQ20tj\n",
       "fWFEv5YPoIJ8Hirf+hFcz22wpz+GZK01u7M7HPCMcrj+81BbS2NDYaCFugcotdVHLsKDIqyg+7Nr\n",
       "3uVwPaitpbGhMADqHqCGqw3eJeO5qYTvR+DfZ3ecww0fgd9WGlsKA6BuAuro4orlPW+1L9+VQJ25\n",
       "Bx42ugSoVUrmN7pEC7WmhcJGl/cEtWejS4BCl+9rQMWw0SVAARRaKIACKIACKIACKIACKIACKIAC\n",
       "KIACKIACKD9QWBwLUACFFgqgfFLJAMq/MAAKoOqkLAco/8IAqNWgLrzR5bpKhC5fgMK46kaXaKFO\n",
       "Ro4x1HmgsNElghI3B4UoH0ABFMZQAAVQo+gCQAHUKaC+M8qXmIMLg0mAAqgqfeU8VKYPLoypx6QD\n",
       "FLp83wJK0IMzwdHlA6hvDkrwgzNRTl4nRPkA6ktA5cfWp4yhhQKobwZl0kPzwDKAAqhvBqWO7fOV\n",
       "BKAA6ptBEXZkGU23hwA1dV2i3OgSa/nevueRTZQqyRGg/oWNLtFCnfeeRh+WgzyZuU6I8gHU14Ca\n",
       "q+bhk9bkkBYKoADq1Pf8nz8Oef//zQlAAdQNQBF6QK9P5YYAFEDdAhTR+adDSlmZEYACqJuAIhln\n",
       "n6xYMqeCABRA3QYUIQnn5iPNlJKaU7FcdwAKoL4NlJvOo7zkNmwqS/526hiPswGobwR1Yt1BCwVQ\n",
       "AAVQAAVQAHUZUN++0SVAXR4UNrr0a6Hw0Op7gsJDq9HluzkoLI4FKIDCGAqgAAqgAAqgAAqgAAqg\n",
       "AAqgAAqgAAqgrg4KUT6AAii0UAAFUAAFUAB19nvaDx8eoADqXqBWJYAKmbDRJVqoWEBho0u0UDcH\n",
       "hSgfQAFUc48XGEMB1No0eVwJUJ2US4ACqLVJZ0tVCKAIySgBKIDyApUwgHomLjCGAig/UNNPDbsn\n",
       "qFQHCUr8DlC3A5W9uiU6Aagm/fkLQAHULlDJa697kQNUUz4/ZBBQGEPdGlRn4HBvUOovSgAKoLxB\n",
       "JRqgXKJ/CYACKH9Q/mGJrwAlf2gCUB8D9Y0bXc6BYhlAEfLb3+paoLDRpV8L5b9gtwLFSpeKovpS\n",
       "DxrkazpzZzrlEtkwuW1/+ufPQIfHRpd37/J5D6Iu20J1fA2oocsHULtBeYf5LgqqJ6j4T/WTEKAM\n",
       "QN0alP9E1CVB9bt+P//s/3T/4UvLAOrWoPyXSlwR1GAo9VokUf9i/+Gp5QB1a1AluR+oYWRCp92C\n",
       "9jp8FrhWA9TFQAVYbn45UENPivdL2uuUyrCDKIC6AqjO4thc3A7U6G9pFvCUMlsogLoZqLmb842C\n",
       "Et0iz4OekrYUoG4LyqQApUTYU6IhA30AFS0oM/Vpd0oAKvgpmYBtFNbyeSY8tPr6oIhIPg8Ka/l8\n",
       "WyhsdHkZUEFvsOjyRdrlA6grgsIYCqAACqAA6j6gYv1ECkAB1BVBXSwBFEABFEABFEABFEABFEAB\n",
       "FEABFEABFEABFEABFEABFEAB1HeBEhLIASpyUFOvlbHWEJudWIDiMsgB6ogKMXPh0eXz7fJlAIUW\n",
       "CqAwhgKo40BFehJF4O10AQqgPECt7fJlALUB1Jl5AqjzUvYNoEqAAiiACpd44A3fQ4AqAQqglkEl\n",
       "toj0JHKrowN1JnKAOi/NKhmDSm0Z6UnQwE9QCAHqTOQAdV6aVTIGZQI/pyBcYkH3/gwD6kzkAHVe\n",
       "mlUyBqVtHulJnJmz2UeCnogcoCKsi2NQLNp7bnpi2zkHKt7bD0B9trfE1oLKox1mZyeGS+ZApdF2\n",
       "kAHqk2lWyRgUj3buX5wY0J8DFQL56MgSoCZKJXx98ij3WSVjUIWNdgG1tSI2UCGQj56/kUuAItyt\n",
       "ldNp+rnbu0+5zyoZg4p2baybRc1iAxUC+ejCJgygpAv2MFl/PQjUhnKfVTICJaKd13Ux6jQ6UAGQ\n",
       "j58QVQIUc4WS8/SDd3ePcp9XMgKVxTvKJua8AOQsqADIxxdWJ7cHVdVtWdhCHAhqdbnPKxmBMvFO\n",
       "/Z+JfRZUAOTjCyvyu4Oqel9CEVGaA0GtLvd5JSNQNN4P+BB1XphvFlQA5BMPBeXi5qCoG/OXj4LR\n",
       "8kBQq8t9XskIVBlvTMJlTsQGKgDy6sIqw6q+I62KP9H3BlU/tDtNPhnk8yn3eSVDUCrimIRbl5DG\n",
       "BioA8urCapIUnetR3htUesTigv3lvqBkCCqJd21a1b+i0YHyR+4urEwIcxeTNh1Ilt0aFFcHgdpX\n",
       "7gtKhqBiHkIRN58WHSh/5O7CPipQ4e7KRXNrfk2/2N3pDFBXSOvKfd8QagSqiHs1FjtrGcc8KP8i\n",
       "qwfHmeuWi/b8AgyiLtxC6UPu6vvLfeGSD0DJqHt87ux1dKC8kdcXtup5GLsx3PSdoI75iOvucl9S\n",
       "MgBl4u7xPe4NRXSgvJHXFzZ3FynPSbU2IMRE1HVBZexAUDvKfUnJABQv4vb0OJcsNlDeyJs7JXUr\n",
       "AzTRofo81wVF5YGgdpT7kpI+KBnxMon2ktHoQPkiry+sotokghoZqs9zXVAHbWqyt9wXlfRB0Zhn\n",
       "dZtSOCeLS6B8kY9n7IMsN78sqNQcCWp7uS8q6YFSkYck6jzq6EB5Ih9f2FzcGRRXZ4FaVe7LSnqg\n",
       "zHkf4NsyilKxgfJEPrqwipMbgxJH7dKxs9yXlfRAFYxcIJU6NlCeyEcX1gRZYHXqpKlPcSRngVpX\n",
       "7stKuqBM/COoqqN7Rju6DMoPuRkGtSi5czrs7PeV+xslHVAq3m26+4nl0YFKrtBZRgoyhl9W0gFF\n",
       "86ucVJnGBuoU5EhntJ9vLvQLVFaoq5yUPD6rsh4i0JiQIx2flpSU/WFkmV3otA7vYKm0SllMyJFO\n",
       "6BwtKKmrSHtjVRlK62LIkY4fQe1U8v9AUdQIp2ZjBQAAAABJRU5ErkJggg==\n",
       "\" style=\"display:inline;vertical-align:middle;\" /></a><br>"
      ],
      "text/plain": [
       "<IPython.core.display.HTML object>"
      ]
     },
     "metadata": {},
     "output_type": "display_data"
    }
   ],
   "source": [
    "_fail_def = Forall(\n",
    "    e,\n",
    "    Equals(Pfail(e), _fail_prob_e),\n",
    "    domain=_e_domain)"
   ]
  },
  {
   "cell_type": "markdown",
   "metadata": {},
   "source": [
    "Let $\\alpha_l$ be the amplitude of $\\lvert \\Psi \\rangle$ for the $b \\oplus l$ state, where $\\oplus$ is defined as addition modulo $2^t$:"
   ]
  },
  {
   "cell_type": "code",
   "execution_count": 22,
   "metadata": {},
   "outputs": [
    {
     "data": {
      "text/html": [
       "<strong id=\"_n_in_natural_pos\">_n_in_natural_pos:</strong> <a class=\"ProveItLink\" href=\"../__pv_it/axioms/66c9e65ca2e0300f8fca3d1de5937a160324f85b0/axiom_expr.ipynb\"><img src=\"data:image/png;base64,iVBORw0KGgoAAAANSUhEUgAAAEEAAAATBAMAAAA9n32KAAAAMFBMVEX///8AAAAAAAAAAAAAAAAA\n",
       "AAAAAAAAAAAAAAAAAAAAAAAAAAAAAAAAAAAAAAAAAAAv3aB7AAAAD3RSTlMARHarECKJu90yVM1m\n",
       "75kejotwAAAACXBIWXMAAA7EAAAOxAGVKw4bAAAA90lEQVQoz2NgwAf4GAgBdrJVeHyvdmDI/SuA\n",
       "x4wqRgMGlg/4bLEIyGFguMDwvLy2vPwAVhVWBdwBDA3YzFDv6NgAok0PsW7AqkJaBcowZZ6ghlDB\n",
       "qOyaVAQWZ90CU2rKUMAuAFfBxm7E4B8AYnEHIFTMY2lpgIWpIEcBQ/wEsAoGhAqeBcsvwHgO/gIM\n",
       "6x1ArLkdQFAAUcFgwgxXwbCegcEazHBHMoPBmaUBzgVK/2EBMTiQVXAqFMC51xi4vrCBGEwKMKFK\n",
       "INaEq2D9ycC04SSYuQsmBmLwbYDxGBsYWGwWgJnOhWAXM8z+C9TPsgFbfIhVdGCKAwDDkzTgOh63\n",
       "3AAAAABJRU5ErkJggg==\n",
       "\" style=\"display:inline;vertical-align:middle;\" /></a><br>"
      ],
      "text/plain": [
       "<IPython.core.display.HTML object>"
      ]
     },
     "metadata": {},
     "output_type": "display_data"
    }
   ],
   "source": [
    "# n (represented by the Literal _n)\n",
    "# denotes the desired bits of precision (and thus n ≤ t)\n",
    "_n_in_natural_pos = InSet(_n, NaturalPos)"
   ]
  },
  {
   "cell_type": "code",
   "execution_count": 23,
   "metadata": {},
   "outputs": [
    {
     "data": {
      "text/html": [
       "<strong id=\"_n_ge_two\">_n_ge_two:</strong> <a class=\"ProveItLink\" href=\"../__pv_it/axioms/81ecc2a59a99da7bf8457dbfbf7f5aca8e8ce52b0/axiom_expr.ipynb\"><img src=\"data:image/png;base64,iVBORw0KGgoAAAANSUhEUgAAADMAAAARBAMAAACC64kkAAAAMFBMVEX///8AAAAAAAAAAAAAAAAA\n",
       "AAAAAAAAAAAAAAAAAAAAAAAAAAAAAAAAAAAAAAAAAAAv3aB7AAAAD3RSTlMARHarECKJu90yVM1m\n",
       "75kejotwAAAACXBIWXMAAA7EAAAOxAGVKw4bAAAAwUlEQVQY02NgwAZY322fgMz3PgBnhjOwfUSW\n",
       "YslQgDFNGRjuopqjkQJl3HdgsA9AlTsBlbNgYLCfwMCo7JpUBJdb/RTG6mdgYGM3YvBHaJY2gdCc\n",
       "nxgYBDkKGOIRLpUugdAcBgwMDv4CDOsd4AaaQhnPQcR6BgZruDOeQBk8BiASKP6HBc3xDMsYWIH2\n",
       "X2Pg+sKG5mXOBAYmBwbWnwxMG06iBVTEu3cvGBgYGxhYbBagBW////+/GSgGHh0g0AnnAwCzoC1e\n",
       "iNAJMAAAAABJRU5ErkJggg==\n",
       "\" style=\"display:inline;vertical-align:middle;\" /></a><br>"
      ],
      "text/plain": [
       "<IPython.core.display.HTML object>"
      ]
     },
     "metadata": {},
     "output_type": "display_data"
    }
   ],
   "source": [
    "# n (represented by the Literal _n)\n",
    "# denotes the desired bits of precision (and thus n ≤ t)\n",
    "# n ≥ 2 helps with some details in some of the final steps of\n",
    "# the overall general theorem, but the assumption should be revisited later\n",
    "_n_ge_two = greater_eq(_n, two)"
   ]
  },
  {
   "cell_type": "code",
   "execution_count": 24,
   "metadata": {},
   "outputs": [
    {
     "data": {
      "text/html": [
       "<strong id=\"_eps_in_interval\">_eps_in_interval:</strong> <a class=\"ProveItLink\" href=\"../__pv_it/axioms/10eb3b954a8c4d74879105217b685757deb7e3b10/axiom_expr.ipynb\"><img src=\"data:image/png;base64,iVBORw0KGgoAAAANSUhEUgAAAEsAAAAVBAMAAAD85A5eAAAAMFBMVEX///8AAAAAAAAAAAAAAAAA\n",
       "AAAAAAAAAAAAAAAAAAAAAAAAAAAAAAAAAAAAAAAAAAAv3aB7AAAAD3RSTlMAIpmrZu8yVHaJuxDd\n",
       "zUQ1r71vAAAACXBIWXMAAA7EAAAOxAGVKw4bAAABL0lEQVQoz2NgwAIEULkcZxKwqeIoQBPgfIBN\n",
       "WSVQYoYilMN2Gocy7gsMDNcZ9kBs3qz7G4cyJgcGlgMMnAugLkBTxrHmzFkwg5WBgcuAgf03VmV8\n",
       "NzZAWbUMDPwKDGzfUZUxKpuAuLIwVQyaDAz7gcq+oCpzhQTKRbi5VxgY5CcwsP1AUQYz/AJc2XGI\n",
       "sp8oypg/GzeAgifmzJkzp8AScUBLJzDwoZrGagAJrAVw0+LAXmBH9QL/BAj3ALKlXAsYWFADhEsB\n",
       "wu2AK1vBwMASwMB0gWEDsheiGXaDuLzw+J4MNnFrAvdfcLR/hARIUks32HFWr6HKcoB40wwzBoYz\n",
       "QOOYTf+aoEQW3yxoZPHAUhf7BnwJiUUBJos/vS2E0jvwK9sFpRvwK2NsQEv0Rx8AAKhjXov/PGqx\n",
       "AAAAAElFTkSuQmCC\n",
       "\" style=\"display:inline;vertical-align:middle;\" /></a><br>"
      ],
      "text/plain": [
       "<IPython.core.display.HTML object>"
      ]
     },
     "metadata": {},
     "output_type": "display_data"
    }
   ],
   "source": [
    "_eps_in_interval = InSet(_eps, IntervalOC(zero, one))"
   ]
  },
  {
   "cell_type": "code",
   "execution_count": 25,
   "metadata": {},
   "outputs": [
    {
     "data": {
      "text/html": [
       "<strong id=\"_t_req\">_t_req:</strong> <a class=\"ProveItLink\" href=\"../__pv_it/axioms/77894948e83345b4e769820ac146a9efb6e5049f0/axiom_expr.ipynb\"><img src=\"data:image/png;base64,iVBORw0KGgoAAAANSUhEUgAAAQsAAAAzBAMAAAByJTAVAAAAMFBMVEX///8AAAAAAAAAAAAAAAAA\n",
       "AAAAAAAAAAAAAAAAAAAAAAAAAAAAAAAAAAAAAAAAAAAv3aB7AAAAD3RSTlMAEN0iVJmJRKu7ds0y\n",
       "Zu8qwvqBAAAACXBIWXMAAA7EAAAOxAGVKw4bAAAE3UlEQVRYw72ZX2gcRRzHf3u3d3u527tsKora\n",
       "h4tbKyHaZvHPQ1/s4oMPFswZCVb6khYswRfzZqWUXhuoorSJfSqi7emTFCQRtCgIHkJBqPTOvini\n",
       "pX2QiJr2TNNr04Tr7M7++e3tzN7OUvqDsHu5+e58duY3v99v5gCETBoaGoL7ZORRWt9GnzL/m+p2\n",
       "74pqQq/yMb2e63aHAR6LRMk12Rgz4pqQ/eT2rBAM9YmopidAHONE1ANRd/IwwoCXIkTFRXEMnsa2\n",
       "R/e1/Q/TGCNb5ateNMQxeBpqeYSRaiIM2MEXjYI4xijExZCvYoxXuU5aXBLH4GrCGPAtxihUeJrS\n",
       "lDgGV8PAOGogDGWVp1nQxDEWtPgYhSrCgO94mhEQxxiB+BhyG2OMc15A3RDH4GsYGNI6xijXOOFw\n",
       "SRwjtySAAacxxsAwx9uq4hilqghGy0AYRY6PNpriGI2mCEa5iTCkTY7TG+IYC0Y0RnY1PHYOBiyz\n",
       "JWdBHONsNEXu1N2T6CN1BxfjNFvzdyTGpWW+Jj35fT1Ors/ewBjvWDOzzbrbiqZWWoseDVa4cTS7\n",
       "INuJg1HsYIzWjBtKpAP+4lXXe1VHAhhnWGGDamYBVpx8EemytLmL0SB9Z5z7L/Z7Me5mr+qVvhiO\n",
       "5roGc9RX5VpkIbiGMcokuaXclHTF5ShuxMbwloejOQ4wV4+BAbcxxmAVDp074wr2vO4scXttKV8+\n",
       "9PYnPIyHz78BcGj6d6+Cy3vrcQziYNwJYMyTxOJ/d/gYdWPbW7IDH0LZYGOo22CgprbhP8Vz/XaP\n",
       "Y/XB+AdjlEj5uA9h0NI9Yz/y3dQ87K6zMchEqhu5YWsOHMu4GKlqLAwdY6TI9Snvqz2zTqixF7VW\n",
       "nqEpeELXV3R9BGM0TIBbAQyqIfamDaXrO6/pukU02O0x2nBnAGMJJG+dX3kt+EgyWx9xfGOcXO4o\n",
       "bauafWT6GMYouhmuz2j0Ysg3QOtZsM4AE4ZNiY1hjcaatHeaxIYKTOBJeRnSRpJJySzK9Z7w5WSh\n",
       "v0hky7IxShVQOrKdXzrUgRyNOgV5LYmL5qqP9wbzvB0D0huQX/yDs1L+hcKU8sNzpMdfKQbVwLOT\n",
       "kxOxJmU5gFGF9GehqEtDEWkjnTQZGD+vzMILB98H+LH7v9XXARS+xrytdh+MQBQdZG4R5E50FHWT\n",
       "tSk9P+puTkMaD4OZdKVbgWDO3Fuom9GpzbH3yN9vJKlqTI2X2phJN5zaqG3RLXsGjVjfsmcLeclv\n",
       "IF2hS4Or8ZNuKBO6GOMmU/l0LAzp4Pm36rDrl4tapMZPurgyXcUYnALylEAReL3bjdb4SRfXhIHq\n",
       "a46tbGnitWgrYu845t2l99KKtDSPMThFZ8NMsEEw+5Ratv3pjMvuGsJIrz+Q7VLK+0q9KbJdyiTY\n",
       "PPI1NOlKVljL3f6g5jqMj5HjbB6VjjgGX+Mk3e14yAJb6UFewN2e4GCBq/GSLunQCZfFwMEC17tb\n",
       "CY5ZeBo/6ZL4Xwl4i4Mx8iAOnfykS5CuwpDAoVOxneAIjqMZw+fbF7/6HPwtBsUY4K+xCwkOJC9A\n",
       "XFPaGOMoP/BdTnA8e9mIi5EyMcaTEYci8+IYPE3YYh9W3/+jezwnixjjcFTTgimOUTDjYVwK/JDx\n",
       "dWRb9k80siGuCRWAXscSqdC22kz3AC7ma+ONSySBAAAAAElFTkSuQmCC\n",
       "\" style=\"display:inline;vertical-align:middle;\" /></a><br>"
      ],
      "text/plain": [
       "<IPython.core.display.HTML object>"
      ]
     },
     "metadata": {},
     "output_type": "display_data"
    }
   ],
   "source": [
    "_t_req = greater_eq(\n",
    "    _t, Add(_n, Ceil(Log(two, Add(two, frac(one, Mult(two, _eps)))))))"
   ]
  },
  {
   "cell_type": "code",
   "execution_count": 26,
   "metadata": {},
   "outputs": [
    {
     "name": "stdout",
     "output_type": "stream",
     "text": [
      "These axioms may now be imported from the theory package: proveit.physics.quantum.QPE\n"
     ]
    }
   ],
   "source": [
    "%end axioms"
   ]
  },
  {
   "cell_type": "code",
   "execution_count": null,
   "metadata": {},
   "outputs": [],
   "source": []
  }
 ],
 "metadata": {
  "kernelspec": {
   "display_name": "Python 3",
   "language": "python",
   "name": "python3"
  },
  "language_info": {
   "codemirror_mode": {
    "name": "ipython",
    "version": 3
   },
   "file_extension": ".py",
   "mimetype": "text/x-python",
   "name": "python",
   "nbconvert_exporter": "python",
   "pygments_lexer": "ipython3",
   "version": "3.7.3"
  }
 },
 "nbformat": 4,
 "nbformat_minor": 1
}
