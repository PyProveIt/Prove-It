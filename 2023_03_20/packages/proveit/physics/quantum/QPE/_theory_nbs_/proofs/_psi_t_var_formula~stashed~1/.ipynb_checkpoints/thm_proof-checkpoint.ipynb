{
 "cells": [
  {
   "cell_type": "markdown",
   "metadata": {},
   "source": [
    "Proof of <a class=\"ProveItLink\" href=\"../../../../../../_theory_nbs_/theory.ipynb\">proveit</a>.<a class=\"ProveItLink\" href=\"../../../../../_theory_nbs_/theory.ipynb\">physics</a>.<a class=\"ProveItLink\" href=\"../../../../_theory_nbs_/theory.ipynb\">quantum</a>.<a class=\"ProveItLink\" href=\"../../theory.ipynb\">QPE</a>.<a class=\"ProveItLink\" href=\"../../theorems.ipynb#_psi_t_var_formula\">_psi_t_var_formula</a> theorem\n",
    "========"
   ]
  },
  {
   "cell_type": "code",
   "execution_count": 1,
   "metadata": {},
   "outputs": [],
   "source": [
    "import proveit\n",
    "theory = proveit.Theory() # the theorem's theory\n",
    "from proveit import a, b, c, k, m, n, t, P, defaults, Function\n",
    "from proveit.linear_algebra import ScalarMult, TensorProd\n",
    "from proveit.logic import Equals, InSet\n",
    "from proveit.numbers import (\n",
    "        zero, one, two, i, e, pi, Add, Exp, Less, LessEq, Mult, Neg, subtract)\n",
    "from proveit.numbers import Complex, Interval, Natural\n",
    "from proveit.numbers.exponentiation import (\n",
    "        add_one_right_in_exp, exp_eq_for_eq_base_and_exp, exponential_monotonocity)\n",
    "from proveit.numbers.number_sets.natural_numbers import fold_forall_natural_pos\n",
    "from proveit.physics.quantum import Ket\n",
    "from proveit.physics.quantum.QPE import _phase, _phase_is_real, _psi_t_def"
   ]
  },
  {
   "cell_type": "code",
   "execution_count": 2,
   "metadata": {},
   "outputs": [
    {
     "data": {
      "text/html": [
       "Under these <a href=\"presumptions.txt\">presumptions</a>, we begin our proof of<br><strong id=\"_psi_t_var_formula\">_psi_t_var_formula:</strong> <a class=\"ProveItLink\" href=\"../../../__pv_it/theorems/f1bc79b7efadf04278d2016e9ddf684ff1d2f1cb0/expr.ipynb\"><img src=\"data:image/png;base64,iVBORw0KGgoAAAANSUhEUgAAAcMAAABLCAMAAAA7zBztAAAANlBMVEX///+/v7+urq6IiIgiIiIQ\n",
       "EBB2dnbu7u5ERETMzMzc3NwyMjK6urpmZmaYmJiqqqpUVFQAAADjR+GvAAAAAXRSTlMAQObYZgAA\n",
       "AAlwSFlzAAAOxAAADsQBlSsOGwAACj9JREFUeNrdXYu2qygMdYaXgAj8/8+OiloxQaxwWjqsNXPv\n",
       "2ecmjQnkBdiuqzr00DXEsLo0nxiKiiyCQbWGcS0xrC7NZwZ3eQSD6gzLREMMq0vzqcHGPIJBNYao\n",
       "zbeI4ZlYmV+x4eBVFsGgGsPplhieiUfyMwvR9XkEg8qH9ENDDM/EhBr7M2mNt1kEgyqkkLolhhux\n",
       "4Ny5OTBSzN+Oukkj9jSPYFBx/lF7GRYx3InnKGimpxWItSQhtEkbSk+yCAYVrxraEsOdeLal8rKz\n",
       "pkMSJNumDbue5REMqj11vsnwRTyKYENlRvU7NrQg2EEEgwpzKS8aYhgT86SlWrVh53UewaCiUs5X\n",
       "TnWLGMbEMt2YataGbnIdOQSDSsZYe10XMYyIVX8woey3oZq24eB5FsGgoiBc25UWMTwSz/0ZpX5t\n",
       "HXae5REMKnFelZWRYChv9euPxKqXUhrxczbsgZ+ECAaVOC9e9xEwhsIZfWt1HomZn0eiH8K15422\n",
       "4AhQAEQwqCQEVy7wEwzJLRtWl+YrZb7OIhj0fDBf+RESDO/ZsLo0XwmI4FEhgkGth8N7NqwuzVeG\n",
       "Bs4EIhj0vK1QuTpMMbxlw+rSfGUY0KeCCAY9/zxe+wH4cxtWl+YrYwQzESIY9Hzd29qOxD63ofb2\n",
       "f2BDCYo/iGDQ8wxE1n2AFMNbNqwuzVeGABURRDCoXg71Rwxv2fBMrH1iFMSS8e+niQdTESIY9Gwo\n",
       "XzmZTzK8Y0NAbP3pSYUaiJuK/2s/tJ8AQNd6MuSOtFKaQUFIgAgGPc0iKyfzSYZ3bAiJncf4jfD5\n",
       "x2Omvp0AeDsOPEv3DQzrJItg0LNBonZB+sycfMbwMPiNE3kIMfUeO1NrTkmdjfS4nQB424ck8Iwy\n",
       "VA9mHs8iGPRs8CjD5cl52MtHDF8CTw5Qu/F9Yjl5U4zMRIo9HbnZTgAEDdMQQjcCvbOb/yL16zDr\n",
       "2HeKIIo9qwUo43x40oB5B5EAvVD7+ECui3hHwpL0PL/NsEiabW16dAVHj9xDBWwnAIQRauwOltlt\n",
       "OExslVNyt78jygqmEjYUPaMpZZz2ZDjwJxAJkNk1rh8fHO69SdkwnpD0EcMiaXYwG7MVTHGWrS4x\n",
       "PcP0B1GCr7nOasPlL2R9SL7+3DFi0aixqUWblDKIO5mHAoPRDoOkS/njdyrylA1F7B+4fcKwSJpN\n",
       "kCkNzfA0wAGGEwAyLKq+k4HB8vNsw+Uv0wMqG2y5/Ky8MWjI2NSyJ1JAGSJO2AjImyGyQlq8p180\n",
       "C+YJG1p5HbdvMSySZhvD5E2vnxC0j6MTAJPog0N8qQtL0dpXOBwoltetahl2Q0Fl6DHuo3nQWfMd\n",
       "Co0rYcFOFEva8KzNm/6aldgwQcynelBc9rbW3wrHqOnOJwAM6QaGqHt0kyeTrzXsyOSBu3ROw1la\n",
       "GXGe/IYNO0bnwYq0Rs7CCmLGYMPoKLXlDxgWSRO1a67m6SanYNSOzJ1PAMzu6pB0vJaM1Z71r2k7\n",
       "n7VyYzoeajdrYZkaQBmEnVoToPL1HQ4F992LEq2NZ2F5Z9l8n+Fclh8MauhhuAuGRdLEIfFiCm33\n",
       "pBxdirz76rh5oWrNSyfhrFWhFKHA34uHNlRu+19WjGRn72xDaZcWx3K0mh39hrnVxPAlNkwSg55b\n",
       "nLmujixQ9/cF6O0bNrReDXaqJ9VBGbtPlZF4A7AYRHZoXoJ75hv5aEXN/IvFtWDtoF1r9iSsmHPs\n",
       "1ehmmX6bmO6eGd5JsETsI9PE5iokare3A+ZxP7RcHbU7iBY0bNjBzwZl7LqZVv8QNyYEaFWIDocs\n",
       "2TOajZ8krp+dvHUdn/7NGtnTNvwXmXAi2HApL6x+KyDGDFPbDi8tmjTxueeWdHwrE+mtmkeljZiX\n",
       "aEEtVB9Kj6CMXTeT9o82/AdYDCIvSO8+feW3f46dfmF2J3p/HU7/Vm+Fk+gUp5rL8zq/iIe+pBt/\n",
       "QawuCv11HXb+jw4rhlRvkm3YPeasjINuTt3Zt9bhVBqGInHjR15Jl7SDIrMNuTGGTv8Nd23Yh47j\n",
       "sPyk7VsF4rUNMzfrL4gJU1kbmuBu1Z/YcJw0PtuRHJSh7csgKjYPNFiXghTblsHCT/THGp0LO2TW\n",
       "IZKXTsWUmk2/7ub49xoJ13lpJhFMEw9XuxDb/XZB2TgQSv7EhnPyKyYp+EEZr7UV56Vv5TQT6+3Z\n",
       "FibDGPVZTEf69204BWzeExIm1l4d32yYXtowd7M+SSwvV/erODPUa/I3vnTJYYkh4qWMQ+dgZN1z\n",
       "G+7IwmTU4WaQDTYUfMt4TDJVGLE+jbSHbq6Yp8ndjQt6uQ7pM2LBLg0z+L99nQ3YkluVsemmO78U\n",
       "6aENAz/J437nYMl1fahhn6YL2cyrUTWnt11/M8pc7k4L/YxYZyYQGz5rw1UZm25Av9SCDjdEEGjl\n",
       "9+rZhHBGMkVdj/dLX6A0S1Uk7vZk+6vyDL9ZnyXuc+mU4R+14aaMVTcd2LcYQRINEQRa+altj1nS\n",
       "UAtkbOjwvSewHMjd5oc77RMpY/S+743frE8Tb0EOc5XHACnZR20IlTHGaoZnSpBTJslTK1MInOPh\n",
       "bd8SnxEgyeTPPWMYknB+92qBwQ4BjGhVMUZJjvvTo8VntUAhaSwiPFOCnDLhtQ5689oXHE4M3fJw\n",
       "jD2XBq8qLHsr0P7xgOdpTJdDMOjhp1d+QcOZIVsChVsqYNBouyMN+l4sAZ7ffvOeBmh/9CA3gwgG\n",
       "PRuDrxxKTgyX7aDbb4GA0iBVhbIO2cUYv3j3FNw3h9dGkIsk1e6WfOacNw3YVOlcb2BBYu31cVAa\n",
       "tncbv6YIr40gF0nq3S3xtV+miTDcXv3Ejrs1t4hNauNjbNqGH74ITGtfgEcYblsbKlsF0P/BdfzZ\n",
       "nbAsgkFPh6s9pSHD43mhTNXjGl9gd3MCnUUw6HHt4yu/aBkwPNa/Rn5Ymq+MT7/cZKhdXJwZLln/\n",
       "etaTi458VpqvDAcyTohg0NMhaiemJ4ahCx966DqbUFaX5iuDgmwFIhhU8IGq9hMcGKr5AIG5fxfw\n",
       "LA1+rZNz0vC7FwSscmH+ImoW5rx2GhExXO+N6cfSYNtKc2traPclKBZ0fSGCQSXxq/L3nhQxPBOj\n",
       "1zrZnBn9zZdE/GI47D73sq9HxNi1znCSmzX7FhT4/IhG6mrd1H6fSBHDE/F2rdPsL6Ad1ysytNVK\n",
       "UgI/BBEMKvN9lfODIoYnYuxaZ7Aha/XLZwjwkhDBoLK1X3sXvIhhRIxe6wy+tNk3SmmWRzCocOIM\n",
       "DTGMiPdrnUdf2nZOI4EXgggGFY7amWkZwyMxfq2TzLVFq9+QCL8YAvmqiOpfRzEVZaIhhkfixLXO\n",
       "qcY3jX5DogDzFyIYVP65vCGG4qfff0mAj4cIBlX4YNEQQ+LF79qQmTyCQeWD8pYYUv7Dy1DkZ+Tf\n",
       "TFJbe3EXMbTt9tGycWDMIhhUp7fSt8TQ/Opbvb/3VbKL/xpbYkh/80jGAN4ZABEMqlWa1uZcxFD+\n",
       "5per0yGPYFC1OaRaYjj8YkQUQx6Jof8AiYd8AfYqn2cAAAAASUVORK5CYII=\n",
       "\" style=\"display:inline;vertical-align:middle;\" /></a><br>(see <a class=\"ProveItLink\" href=\"../../../__pv_it/theorems/71c32c31de612e7e7eaa49ae6a643e66ef78b2990/dependencies.ipynb\">dependencies</a>)<br>"
      ],
      "text/plain": [
       "_psi_t_var_formula: forall_{t in NaturalPos} (|psi_{t}〉 = ((1 / 2^{t / 2}) * (Sum_{k=0}^{2^{t} - 1} (e^{2 * pi * i * phase * k} * |k〉_{t}))))"
      ]
     },
     "execution_count": 2,
     "metadata": {},
     "output_type": "execute_result"
    }
   ],
   "source": [
    "%proving _psi_t_var_formula"
   ]
  },
  {
   "cell_type": "code",
   "execution_count": 3,
   "metadata": {},
   "outputs": [
    {
     "data": {
      "text/html": [
       "<strong id=\"defaults.assumptions\">defaults.assumptions:</strong> <a class=\"ProveItLink\" href=\"../../../__pv_it/_proof__psi_t_var_formula/b224c91479a3b890185904715420afd2361984620/expr.ipynb\"><img src=\"data:image/png;base64,iVBORw0KGgoAAAANSUhEUgAAAEwAAAAZBAMAAABp+tVcAAAAMFBMVEX///9UVFQiIiKIiIjMzMx2\n",
       "dnYQEBDc3NxEREQyMjLu7u5mZmaqqqq6urqYmJgAAAB66f/FAAAAAXRSTlMAQObYZgAAAAlwSFlz\n",
       "AAAOxAAADsQBlSsOGwAAAXtJREFUKM9jYGB4y4AbcIOIDSCCZwMeZRwgogJErGQgpIzPAEj0YUou\n",
       "+tG5gCHs2wWoMgYtBgb2BCyG9PAKMHB9gJnGYAh0ZABIewGqMqGCOAaGBIYdHW0dHQ8YGNYvYOAH\n",
       "Gs1wfgGqMpkGzgIGBbhpnA8Y/EEqNkFkmZuUNMEM8cfsE5CUcTcwGIFoVTCPdzLMUHFGB1MkZcwJ\n",
       "DJJAaYkfwiBeJdxqcYYGjgsIZby/GDpAIfwBzJvOgFDmzaWlAIsFBpYvDBNBnAlg3gQkZXwHTiBC\n",
       "iv0vgzaQYgoA60lSUlLSgCpjkGJEKOP6CzZt/QUwpwHJNIaFXAoI0yCWnmfgAvEUkJWxGCB0sXxn\n",
       "kABSOxmOgHjGcPEWIDZBKAP61AxICXIZgAP7AEx8DsJf4CSSwHAfGFgV7yAulbgFEfb8BjSJC6GM\n",
       "W4CB7QIiKnkjoJGFBoBxCk4hBAAwhbAkEFb2EJRoCCtTJ5QXGOB5gYeg48A5C28+BYNdDAwAV3tO\n",
       "AERfPnQAAAAASUVORK5CYII=\n",
       "\" style=\"display:inline;vertical-align:middle;\" /></a><br>"
      ],
      "text/plain": [
       "defaults.assumptions: (t in NaturalPos)"
      ]
     },
     "execution_count": 3,
     "metadata": {},
     "output_type": "execute_result"
    }
   ],
   "source": [
    "defaults.assumptions = _psi_t_var_formula.all_conditions()"
   ]
  },
  {
   "cell_type": "code",
   "execution_count": 4,
   "metadata": {},
   "outputs": [
    {
     "data": {
      "text/html": [
       "<span style=\"font-size:20px;\"> <a class=\"ProveItLink\" href=\"../../../../../../numbers/number_sets/natural_numbers/_theory_nbs_/proofs/fold_forall_natural_pos/thm_proof.ipynb\" style=\"text-decoration: none\">&nbsp;&#x22A2;&nbsp;&nbsp;</a><a class=\"ProveItLink\" href=\"../../../../../../numbers/number_sets/natural_numbers/__pv_it/theorems/e6f44021025793e42989a647168c70ce5480d4c80/expr.ipynb\"><img src=\"data:image/png;base64,iVBORw0KGgoAAAANSUhEUgAAAhEAAAAaBAMAAAD76BPLAAAAMFBMVEX///+IiIgiIiIQEBB2dnbu\n",
       "7u5ERETMzMzc3NwyMjK6urpmZmaYmJiqqqpUVFQAAAB6qHgnAAAAAXRSTlMAQObYZgAAAAlwSFlz\n",
       "AAAOxAAADsQBlSsOGwAABqBJREFUWMPNWX1sFEUUf3tf3d7etVeJjUagzRE10VSrgWgM6krAGAVc\n",
       "iSGamFCinJgYeiDpf8CqSMI/7UZD0sQGTpsQ4xcNATSUkFZMSYHEE/SPqrGHERTRpiS0CBJx3szO\n",
       "7Ozt3LanhfiSm72Pmd+895v33ryZA1DJMdFMKT9lbbhxomVbAIwZh62ImO7jzdTiwI2VEwB620yD\n",
       "VkR8XjSesJXXrzMT+pS/ESZgUOkt+Womsj1MHDlYodurovEmKtJHMnN9mZgT8hubG5mIWMFfY4Wq\n",
       "oqwoYZKhiFjCL37wk9/Km8Zr686+S6f9hrw2kHezg0woEKoM/vbJsVf207A0K/URcyMTWknFRB1F\n",
       "GAiZyG8OldmMCUQ8iJ+7/fnD5A1cBkgsIM+4A/HzuwhIrbscsaJgQoFQpdQTx3rRCkakEGluZCI+\n",
       "oWLCQK+oDc3fkjmuICZhAhE3BxNGfYE3NRcIyxeQF6S6iYxKuXl0hSOY2Az/NYltIT46in56KBAR\n",
       "fInF3MgE9KiYqEFP2RY2j98cKoiJgdXjklL0K2bxRrtEXhfJmyjXBha4XvWbYEKBUKU0kWTXhD7Y\n",
       "GtjFMhITdG7KxAGvR8ISeWIHeSwLDUOfOUwWMCYIYorQU+sfcJNoEuPkRYbDiNDGXY7mDsGEAqFK\n",
       "accXYSPthDPRw5mYJa1zm2DixFQJ3G8Okx7GBCLen83O9w84J5r6Nua6sE9os5xpaPKAdFQIVcok\n",
       "c1yam947s7Uxs/HxgoqJ5ZyJPdLm8aVgIprNzjND85FkTnLuc4+tZpjIBCJ+BrDGPyAnGjJsa4sI\n",
       "TKrNMEs0Ni+8HBUCj93pEUFY0BdheNUS7zLXZeJXC+lWFRPDnIkttHbYm0W5t48zYeRFrKi1kM2J\n",
       "JU7DKptiIhOI2Ak6STXJ9n2Hf3UH7BRN08+LWc3dIrQ5RT+TLHm7YIIhhBSxvmI2LbI7t1L7e/FS\n",
       "6gORIiQLd4B+AVLjKiZOcSa65OJhpOgyQbToDC2lZXM+jLRBV55iIhOImLBoUfIFwCJ3wN2iaecY\n",
       "DwltttDPvwA0CCZcBEne2FdIPeLpkGCP3X89NWZLxxlDCl8qUbKdxa9AegIMjHeDeDuJvJJvbsrE\n",
       "Knm++DsFt7JaA0+GaOE3xyIYoxbFxKGImM7QdHeezBbwictBJnrB3Y9XCCZcBO7rc3OFdGkJ7A8w\n",
       "kWqGWHPcc5+k6ZUTnAlIjyMNUVPlE73CJ+TKevsTvMb82kuYCi3KzBllubDX9QlEdGjR/TDAPeVM\n",
       "1FzkQ73oOMnrKqMoqm1HLtv7cRMYNMCM9e/tPygzUdcH2rghLecON3x5miPRAXUOREzYY1sKJk6K\n",
       "PGF7eSLbLart2lQmRIsycwgNV+MUk+YJRFyGCukT0MkPn2d5o13hQ1cLbYaoyjjCEUwgQurQ+rna\n",
       "UB40LFrSmz7ImAGfiBYhUop4Xfnm38TJSRBDiDcQTz2nDyiYGFLtHbu9c0dshHx//GhDn1KLMnPm\n",
       "kyiMUUy+d8Cb6K+p+xq+5f1m8aaWBzDbO5+2+X5KfeBlwQQivNA7EC2R8n0lNSC/5LsgE12Wfh62\n",
       "e13he/b9LpHlS9RNvwJ4KVYWHWJuysQR6ZDkeEzoJCvEjy2EB5Va+M3RL4HmHKWYOJQi1mGI1EnZ\n",
       "n/JDGqN9kiuygbzGHt1JmL4LP57BZr1gAhHeuhXq86Qg+JjpYGhtASaONMyxcAl5V3c5D1xbzYO7\n",
       "GeB9gNsAPrrFz4Q3N2XisFQt5aWzKEnk+jMOTCi18JuTbIb470WKiUM9xKh0hsPExRohEZ6i9OZK\n",
       "p/LT8BoG+nAulyum83HT8XZyl4kxbH70ukJH+YZ3Z8UaU8xdfu7Qy0/ldZlkq1ILlTkU0z13uNJl\n",
       "K8+i8kGF/TZQiYkHoBG6amAjWw34RLLBZWIhNh1eVx4dnhyveAITc1c+i/J1zBt9eZUWKnMopnsW\n",
       "5VcES6R9sJU3nqx1n9sq3dTo42SphwxW5aUKvjsExoT+p5tseVdekkgdQ8/U2/j9RKoUwkQXRDbl\n",
       "VVqozKGYZGiqQr8/RCNkZTlEORPJEnRD582gYyLd0O1eAclMNF60mLG8axAsHnq4XyvurOwQJj4F\n",
       "balSC5U5FBPvrOxp32PqzM00e8rbu2dzufKLtITs72aY3a+HnantsHvMmP8eU6GFwhyKqc0rVLzH\n",
       "pJdoaXPG7rZlJuBzL+7/zf8DN/Zuu5r/O96exv8dPiZilm+Wav/vIGnXsGb8/44ZR5zW3b0VePO/\n",
       "kH8APREAlHlLlYUAAAAASUVORK5CYII=\n",
       "\" style=\"display:inline;vertical-align:middle;\" /></a></span>"
      ],
      "text/plain": [
       "|- forall_{P} ((P(1) and [forall_{m in NaturalPos | P(m)} P(m + 1)]) => [forall_{n in NaturalPos} P(n)])"
      ]
     },
     "execution_count": 4,
     "metadata": {},
     "output_type": "execute_result"
    }
   ],
   "source": [
    "# the induction theorem for positive naturals\n",
    "fold_forall_natural_pos"
   ]
  },
  {
   "cell_type": "code",
   "execution_count": 5,
   "metadata": {},
   "outputs": [
    {
     "data": {
      "text/html": [
       "<strong id=\"induction_inst\">induction_inst:</strong> <span style=\"font-size:20px;\"> <a class=\"ProveItLink\" href=\"../../../__pv_it/_proof__psi_t_var_formula/18479959d3af138adccd587287750ae105baaed30/proof.ipynb\" style=\"text-decoration: none\">&nbsp;&#x22A2;&nbsp;&nbsp;</a><a class=\"ProveItLink\" href=\"../../../__pv_it/_proof__psi_t_var_formula/7d90a1d7da91f7e9807049366e5cd82bf6d39b7e0/expr.ipynb\"><img src=\"data:image/png;base64,iVBORw0KGgoAAAANSUhEUgAABwIAAABMBAMAAACc8W6IAAAAMFBMVEX////c3Nx2dnZERESIiIgi\n",
       "IiLMzMyYmJju7u4QEBCqqqpUVFRmZma6uroyMjIAAADVePneAAAAAXRSTlMAQObYZgAAAAlwSFlz\n",
       "AAAOxAAADsQBlSsOGwAAH/hJREFUeNrtXQuQJEWZzupn9XMa1/UE0enAF4fiDo6HjzhuGwVlhXD6\n",
       "PFdRN5gJFCN4HNMosiCH264PYlHpQUEWEadFBR/ItOKpHHfuICyCDmzjYdyhcTezPg4QZXaXdXZ2\n",
       "9lFX+azMqszq7K6qGWZik2Azp/PPrKz//7/MPzP/zAIAhr+AFRNSlmW1lm/z/xJZkcWV8eq6MjFs\n",
       "Wbv4vyVh1LIOaD6o2A6FTreaSFgBQL61ghC4Z+PG9rJtfQ+S0CyyyDKOtZSJjRuv3MX/LUPgKzde\n",
       "pfmgX4ZD98ulZAUA366vIATuXs6t70ESmkUWW8Y3qhMgvUv824vAku5jsltDodOtJiJWmDeCIwh8\n",
       "ToQeJKFZZNFlPF1SJojaTZdCQOCWWih0utVExIrczBEEPjdCD5LQLELJjoVGkP2/8YaoX2VAmaBq\n",
       "NxACAn8aDh3JNiaXhhWj7SMIfG6EHiShWYSSXQqnhPb/F5wd8asYC8oEUTvn794RmDoUCh3NTleW\n",
       "hhXPgCMIfG6EZyIrQsgSG5oYgSBqBIK/Uyew2jl/947A4kwodDT79F8sCSuyTv9wv2aV+Ype/tUh\n",
       "2rfXkqUE80kxXkEIzB6KqggkM4+7pw6qwIPAMIXEo6iiTBAEjlYCI3CiHQodzN78qp+ApDNv/vgi\n",
       "sqJYpZQJXVm8Qy8/dVo1vNdIUNv5La545SCwWI2qCCTLg3zVnAGxqe1TD3MIDFVIXIiPKRMEgezv\n",
       "3hH4x3DoYPYk2A6uZb988PRFZIXTFU1rvnhht2Z+Nkzhvpa2vizGKweBo5WoikCyvrYxl52secbA\n",
       "bDQIzC4oEwSB2YWgCEztDYUOZR8C/SN3pNlv31xEVmyr05FXd8W609otyw9VuFuapJlfFuOVg0Am\n",
       "idCLQLJ03Zgzfl7CCPzgF5oRIxAcViYIAp2MXhGYmw+FDmVfbiPw2EsiQWAHVpjPstmbrhH6iG5+\n",
       "qMJlu6Z0c1m6ybyMEehIIuwihCyGxZF38TUiBG4bUSUoAllGrwhsDIRCR7Jfzv/2zcVjRZrZAqMj\n",
       "mmP6nG5+uMLdQOLkpBivFASmF6IqQsjOw11WbHEQOF1WJSgCp8sBEbipGQodzk6dHRkC/VkRZyP0\n",
       "07qz/5ZufrjCnSByye4W45WCwPh8VEUwmXsX/gODdihFhsC+MVWCIrBvLCAC19ZDocPZq9C/KciU\n",
       "k0JGoD8rGlQA2d1dIqFzfrjCLVJb4veueIUgsFGNqggmOxYcJbXuI0JgfE6VoAiMzwVDoPlXEAYd\n",
       "zjYmjVJUY6A/KzbRgTGpaVSDf3KS59V988MVbpY2f2JEjFcIAjeVgxZJne1DZpz8oQcXE4GJPaoE\n",
       "RSDL6BGB6T2gazoJi3D2qg9dVI8Kgf6s2EY3K0c1jeoUm3uY/z5b98s3XrOnEuaLfIXEmUkxXiEI\n",
       "3NYOWOSzj8z7kGXoYTQxhC0kRxKHVQmKwNThYAjMaXowcHQyFuHsccvifnve7MsWjRXjTEya1eU4\n",
       "OQ7V/fPDDTtInN8lxisEgeOBiyTmQ6s5hGDVFQmKQCejNwRmNDWNp5OwKLNrSVnBbGTzoO7cY9If\n",
       "gY3JqN5jmuwzFvaJ8cpAoO6sxqeIAoE91BxGmG0rEgyBs+1ACNSdOPN0EhY1qkvKiizdUUrP6c49\n",
       "RvwRuGkkqvfIzJDEV13xikBg9tnARRQI7KHmUEyWiiLBELijEgiBE5orFzydhEW61UTEijydG8Z1\n",
       "x+K1wB+BayN7jzxF146SGK8IBOb3BC6iQGAPNYcRNg0oEgyBmwYCIXBHGXRNJ2GRbjURsaJI1036\n",
       "dHuCZzsgMLoON0utzomaGK8IBBYXAhdRILCHmsMIo2OKBEPg6FggBM42Qdd0EhbpVhMRKzLU+JzW\n",
       "7AkKe/wRWIiuwzXoBVr9LTFeEQjMzAUuokBgDzWHERq7FIm0J6M3BI5rznd4OgmLdKuJiBV9tEU7\n",
       "NNfC84f8EYjzZy0n7A3tRW6iKjUmxisCgX3zgYsoEMiTFTnBWJVoX2hOkWAI7JsLhEDVUqofnYRF\n",
       "JDtKzvixop+tS2m+TnHeH4E4f8LCHYv54jPH9/vUlu6q/6HeRdQZS+KUtXwR2L8rcBEFAnmyrEV0\n",
       "4BOP3W2NdXzCZQFeKLmgSDAEJheCINCwNE0ny5dFNFufM90pbSdWTNClWN0V676qPwJxfs5iZOlh\n",
       "YmfjKyDhWWTOQOJt3/S7FM+cpI8jNSUWxHhFIHCiGriIAoEC2TZH0B8V2JdGRhA6Se+EL/AUH9Ua\n",
       "GdjRi+JeRYIhsLg3CAKzmior0HlZxLKlnMFKK3JFT2l1WTE0Q3oC3QWU/gF/BJL8YefS4zz+JTtJ\n",
       "0LRdWfctit9XUVUiUMweFOMVgUAqiQBFFAgUyJLcleL38VR3EKXJK3uCjNZExWA3gu1RJBgCc3uC\n",
       "IDBxWI9LAp2XRSxbxhmitH5cuSUgK9YMCMosvrpstKUoQGFNSZU/ajnrlPeif8kVAPAssqrBvFFV\n",
       "4tpA77AaJY1NPSvGKwKBRBKGPDflU4SF2G7QkSxlOX4MeU58JoYpPEmv7Hx5WanbdSmt/YAiwRCY\n",
       "PxAEgbFnvQxLqelULGLZMs4QpfXhilJpdVmxjeA+gUfFE4XaT5Z1qJwpcs/40zVFfsJyXhWf/X89\n",
       "/uNyhEBj2EIExRrKTz2F4oHnO+P7iXwbiDst9V6gTh4SZ4/li0AiiZh8oImPqIvQkLv78I9BR7Ih\n",
       "y9FvTnpxnIYn6e1otWUhsicw1cXo+oSPGG929LatbFeSGEYxOri4EwyBscNBEJg74GWYjE25A74s\n",
       "crIlnCFKK3JFU2k1WbGWDGn5Ba6KhGCYiGFH058vNH+tCx0Gm9zCs8if+0QNtRu9zKPgRS+APXDu\n",
       "1G9dx7/MJ2+gbTiTdEXModAViwjMoUG9tswQSCRBFMo95cpOqoto1kyV1JIaVEczbNnZ5oN/g8/x\n",
       "QgQWSsb3L4Z//PCYLSUOgeYbq9J2JQjgY1QD3AkHgX9VIxBVcrvfa8UPehkmY1Pc39/SyfZyxlFa\n",
       "niuaSqvJilnSZHJgCSOQnqJOysTZYSGI5m+xRGbkaU+ROhtsBvXEC+2/N9svY5Zt5pVB2Y4zb+fs\n",
       "XtiSP9M2NHBfkqRG/HBdjMEJPALzUCbF0jJD4KyAwLI7u6ouolkzNTfHpRr5M5o4r26WTXDqZpuy\n",
       "bCNws90fx+z/7L+vb6aEMbA4KW2XSaSUoIvg7gRDYGK/GoEPw8ROv9cqHpQwrKqk61CNlDNMaTmu\n",
       "aCutJiuGyTOKuzkEfoqyWTLezXbQbJpfsMSFyj5qLKyqg/NLIJ6yxXd+qVhLXQcqRhNU7Lh/ikM3\n",
       "bMkCbUOxxjfSeQiNzXN4BKZa3OrNsglEElihTM+y4wnqIpo10zBtycwYus1rvAHYogADFwEYP2HL\n",
       "KAGOsVF4fsk4+AAQENjXlLfrCWK6UQvFnWAITFtqBF7Ir2RIQ3KPhGEnKOk6VCPlDFNajivaSqvJ\n",
       "inEincw8h8Db3Gs5XBiv+4ub5a/ZL1COkr/IWeRVhRYb0FsJkIVN/kihWuJfpjBP20CWU+NUTda2\n",
       "xThxZZufBz6p0NjndBjnEZgdUa0HS4po1szAY0m+FJSi5gU+SW8M/JZpUM7u77+DZjy/NgQETtfl\n",
       "7bqvNwS+QUBgsS4fAbil2T0Shq1S0nWoRsoZqrQiVzSVVpMV4xVhinWiaAJJrIBO26Asv2jN8L/D\n",
       "K1A/e8MkPYt8f2GMvcyVF6aQDfTDVFWY1MbGaBsS2B7P0WF1W1OMk6kBHoEb7f9nlh0CK5xCxbzG\n",
       "UklZRLNmx0yRLIAk4Dzn7g30JH2+8jhDYPpHrYugXHKV82ICAv9W0a51ZOpKVcGdYAjMCsr0AQGB\n",
       "aVsziv7Q2SthmKQ5mb061Ug5A5XWyxVNpdVkxXjNhUDzrBooJ4g5fWsABJrjQt/zU/uXG26/mZ5F\n",
       "fhKvb6KXyc5+EXHxJPBjwaQutrKvrqM2FOb9EXgre2WEwMz69e8tLzsE1qhCferntkK5L23OlpVF\n",
       "NGtmYYvlrQt+XGnL+65okZP0xTpexkNW1J37T0EWSCl3mYDAp8GtD8raNV3vCYHpsrAWesP69V/w\n",
       "h84+CcMkzcns06lGyhn4TSUvVzSVVpMVlhuBseyYWaP7lnhGuX09DO/vEoHMMw2HQVvKVdAvtWEv\n",
       "lfxmv0yj9p2ja6gN5ALEPGXWjpoY72SrTwiB+REQry83BFoMgeVvg6u9zg6oU8wjUaxvCUU0a3bA\n",
       "bHk3t+K2EfGvwJBu6cs+KQTXQvdlv3ajbO2DXHtZoKrgTjAE0gzyVgcFBD7A26Wy0LdPxrCqR2P7\n",
       "9ulUI+WMrbRKrnRUWk1W0LlngyLwgnw1XQJj+IMeec/mlNkBgVx+XrCqn7bftUZ3nVzhTfKXmXhx\n",
       "8+ISaoNxyBeBqRbbeUEINFrgRb0CITeyaJgTFYxIItZONbeDS0CGmwMgWTwsgVZTD4Fush37Pf0T\n",
       "vGJyH9v/cqGzKUVgdvdvUjtRu5jphz940o+1JkU9ot0JhsCU6Fud/ROPwBdBMboDP0T1LcgY5mVT\n",
       "n//hLCHbxRl4gaeKKx2VdqceKzaSXxpjpIp6pmLb1JP4gx4pDw9MspxqCQFmHBby0Rocb4BvgH4y\n",
       "liU1DsX7qxoz5GUeuozAC5gYgTFa4ZqKENuoSZBfzMuxbp/YKyx+vHij3ksEaRNJxNomuN7WtDww\n",
       "oaJC10Isiwu9FZAifZY37HJEwmTsLP95ff+Tk7ZSWJZ00SIplMe12gjM34g6K7tdDRhPAvrBkwZW\n",
       "O3MjLeFKGDV3BgnXEg+vq+ED43W044HBbWw4EVzRcjyEkfZeLmOYl02EDrgUlugZy5ZxZgNQc6WT\n",
       "0qLWaLDCarsQCCbqMbi2iy6x81rVpvKkwwZPfn9V7E5Gv3bUURrGIb4L227JOWihF7aB+ASpEHit\n",
       "/dwqNwaCb/S8EJNfxPmjITSSSAIOLvO2Qn0KZGF2HA0OVcWcvIOj5gYFmeHdCbfHwNTCUUe9UKPZ\n",
       "G0gzk39+gKwV3AljtBaGLvkjboddj4HG70rcGJitwIUYCO4P3nUK+G6snq+LCOw7JGOYl019h/z0\n",
       "TMx2ceZpoMsVr9Ki1miwglmhDIGPwO2fOpY67oF4q9rc38EK5fLXlVxWaKUL9TwRmAuFOdIG4mum\n",
       "QiDcefgFj8Biz19D/c/FnPr9i9QKBfkZownOMF7+uxEegTsl88AerdDEdTIEgm4OctrNbDSnR1C7\n",
       "nnfOKwQEEqcyfQSStzqnxFuhYAbOtGxw5yHQb69MxoALgQsyhu30zgO7sEJdnIFW6N7elBa3RoMV\n",
       "VDrObsR94HLwP0TqqwKshYKCMKu9y2blVrfrt+/LpOfNhQRuA1kLVc0DYVNfwiMwdmePCzGm9M7b\n",
       "nFjbsWFNAYttOQIH0vVCGxSb/Bgo25vtFYHT3rku/LT5Q3WVX7gUgZvqjWYFtetP4hhIFgBTFgOa\n",
       "mOAQyFdZGBBWYsAJTwIE7rfBP2773vNj4NVTG6baMgQ6DJOwyY3AY32yXZyxlbYrrvBKi8SnwQrP\n",
       "bgR4vFSGR8UQAk8IgkDxCuB1tnq/96rTK/ovk5sx52K4DekxPwSiAS8+wiHQuLlXI3RS9uv3O6+C\n",
       "dRkuRpJJVb17BrZCFa6LwXNpfXUegbLdaXGbwZgkSxWr6n5k/J3KXOdvc/jTNz72ri4Q+FPQGCmj\n",
       "ds2LCLwCdLkWSqbFQETg0XCk/xMwUcW3xa75lWsMdHYjOIZJ2OTejbhUne3mDNzO64YrvNIi8Wmw\n",
       "wovA1A9edyq1fKodETjKJrbufPN6sd+1G5Qf/kMXA3q8Cc46A7chj80uxX4gGqJSFQ6B4Ec9IqMh\n",
       "Gzvj4jwKfYw9YMjirvovUgSCC196mq2Dj9v2yOAbBwdrSBYyH10RWqgjslU09c0OCNwi6QaRlbH9\n",
       "cKULBL4JJO6vw3YVxkB+cPCLg68nCPxlbwg82YVAtCo9Dwqo9beBybcoEegwTMYmFwLd4hP2A13v\n",
       "j4awLrjCK+3jmqwYJtLJOD4xqSbtd2We5q77l09W5hfFwpku72Sni5moDcQvVLkjz/ViwU4nnSX7\n",
       "8bdc+jdntZ1+aVW95wf9G/r369wvww4CwQUwdabJzwNl51SGBWid/guiosm6Hxn2HfaEW7prPzsT\n",
       "dAc8AfAZYQx8ojcEllwIRBRjIP37wcE32QjcXHQhMLlPwjAJm5KuMbCqznZzJojSIvFpsGKW4Dvp\n",
       "+IUm6lTqccmsbVgQb2pAmT8YbJGRvgxqAxma2Kdn6AEM70GNgAi8RQauf+QIxsxdJl3C9Aw2XYTz\n",
       "sOXBMZhIAinUGTB1f6zOIfAkSSWzQueMun8ZAkUytPnuDT/rEYEnQWet43kE0gMBWboo5044PjE+\n",
       "ZyPIgNX6TKqMx8DCN4C4H1jcK2GYhE2uuzDMGWW2hzNBlBa2RocVa8kzuNNJyMUOfdDjWslDRKXP\n",
       "tVX5ee5L5Uhdx3p7GdSGK4mOUXgNl8Q4LAQWdknAleblUkqNoY+x4/Z0RGBe5d2Pd7njnISJJJBC\n",
       "oeRFl5F5IJSFW2/4Ig6n8FKFu1kiGdjuZHMmxPm9IRC2K/XzEYJA9MGTNFmpTdOVfXfC8cz+aycE\n",
       "QnCjVaur2CFRh4V7vAyTsSkubuc54vNkezgTRGmh+HRYsY2M6+QSQjQGsgrfJnmIeKvhS4Ax9fsR\n",
       "Wf4VDjg+xtldXb/M27hRiH1jY1xuEvsikPru4utzOHOGSyaYADkthmCZHRwc/IdhuIIcb6OPsTtE\n",
       "X6PGKWvCDC9u7pnkSYi/aLcIxDiAEkkghXIGrThtmcyZaJtg6N+RVoyBIlnaWXBPcwjMNXtCoNMu\n",
       "9ipJwh52AYs74ZwP7HhGHoJ7la1fqXNK+OA13/sf9DJMxqYc9XY79hE4Z3LE58qWcSaI0mqyYge9\n",
       "pQJbw28VKpR9LHdIeMeHwSoQOyTJ57YismPOYKYf3sq1ge7usU+Q7nfFcgQSr67VP2unb3Yuroo7\n",
       "+lLjOgggjkmcFsNFrVGYYa6rIHdFKMypKTLY4CvGxkz5XYP5Gn0mvGjsYw4QsX1S4EoRSSREw5q2\n",
       "OiernQoP94LHXkJWYtadICfzLLh/28c46xBoM3PejoyuNbILWNwJ54z8s50QiFr20sFTpLw94GVY\n",
       "Tk0HNyrWtNXZUs4EUFpdVtBbfHS/hih+NNIW2/edi3T5/H7WpZo7sGyyXdrUXKDbktTJhnouGL73\n",
       "xEBQpM4cbGdbx4MHpQisCMMM4E5k8giEc5ssWgMyZkCszk2qINFnqXFq//u/X/3qJNmSugZ8HUbF\n",
       "o04jj4CTevIkuKwO3oeayG2Zrun+AyK0CNcLTvqQYZ45C+6fE46E3wrCCWxHLn9QkXBuajqog0Dl\n",
       "MKx5vR+ly5VkVzw71cg4E0BpdVmxiXR9hQOatU7zHWq+CU/kbit58p2tiGO20SMSV/X8Jg+6nk0b\n",
       "K2k0h0Bo6EEXoeyleThP8CLQwL0Ed2OYc40bh8BXoXEEEf03mOXuEkGDDfEEjrdBCbTL9nNKNt9L\n",
       "oJaqHQMM0HfMJ8kz+50nwcOn4AcoeSPXdc10zRdahOsFyz5kKLAFd+O74kGAdDscBOYp5+J7FQmG\n",
       "wHig+0LTmrcVUrrMPMjtRk60u6TVSDlzVeSsmCa9gqn5OtSfFYdPw8MbYNuIJ794+BkU1o9bVnhf\n",
       "r9tEeJTeK8ZSBEK3IDQtyF7waKUcm9o+9bCAwMda6fq7EaEzbrAz0bwlh7BSVN0XWQXm3f8HjVPD\n",
       "TpUH7MgYsJOVNPhnsBqM/oQ+E140Rp6Edo1fipLcXu/0WNf8oEVQL9jn8stW1DyLBfPH99pk0X44\n",
       "j30wxp1wbuwNdGd2Yb/m8hqhy1VBbs6nmgg548cKdqP5sGZlSV66r/QWxfk7OHXYF9qL7KDrrHNi\n",
       "LB8Di02ABqDsyPHf846BZmU+QU6YDMAN5UG4oTwte+rrUA/1RYWhMQOK5V8T4zTWPpvaHq+4Gq2i\n",
       "v3n1J8gz0UVj3N3F70DJ3zk1Bbi13t0LKsgQy/gTAtFeJ8c+GONOMARmAn03oodb66Fy8otmfHaU\n",
       "nPFjRZ/7m3wdR1ZSINsGZHMztVeWH0WYpdjaJcZyBPbVwX9hBOYTAx4EGtdUE+Ay5CTo3Ik34a7O\n",
       "tGH0HqwVFXkHOwAeB7kRbJxmwbcoAhPrEXDvjX0M1hEnF43djrwSkQPkR1Hxv+fmoN0zjitCesHC\n",
       "Nx72JVvMwD4Y4044X26ZD4JAYGmqrEMHhehZNLNKS8qKJJ3Cb9KEfZoMaetsaxMfyku2ZPlRBGrP\n",
       "0m9X9FX9EPg4AB+3h7ZmdsQsz3jngbnKMfasCa5WncuKYDc+zpqDF2RhBKYV36dtgaH16yVTKIcp\n",
       "dh1xgC8aOxctjyE3BuQ9Au7hjIdDXfPDKUJ7wQw+q6ciW9TQP6ZIMAT2B/t+4LDmzNWhez9bNOuh\n",
       "mohYkaOA6Z/UHNPxIk5q8xx1wrtPlh9FSNH12tGyGMsReKY5ci4eA8FvKs5+IEVgsn25UUNOgvcy\n",
       "K5QfA5kL/R/oohOKXCuWNpruVMwPuRAnF43di7wSkRX6cfcYmOu+63KK0F7QkO2s5/YtCQKnZxQJ\n",
       "hsDpmUAI3KY5aDA6LDyXm692NRGxIkEBk9GdfN5A7LMDZLsj3ZLmRxAS1IgeGhFjOQLvj9XRbTHp\n",
       "Nru7WBwDK89DQDEdUPHzQOZC/1r074eBM4dDuv72UwnSkpVsJ42J44vG4JOqxHQ40z0PTHTfdTlF\n",
       "nF7wFD+yRQ1DZUWCIXCoHAiBQ5qDBqPDrlUP9FhNRKwosIvsdT8guabOJo7I8exWYJRk+eGHOB3C\n",
       "3+iK5Qi86DJgQCeI83YKvgUUgebUa2toHzrR9q6F8i70U2iCRWrI0w6zWMd36Z0EzLtvrndEILpo\n",
       "zH4SfCBydZ1yr4UWDnfNEFbE6QXzIz5kixuY27w7wRDodazvCoGqIVRFly3DWz+FHd1uqomIFexm\n",
       "JUP3LHB/hZqtaLsyVQaJuiw//NBoOcMvHysQCMPmwcG2Bw0YgWg7EDoJcjvy/SWJGYnsRXyZ5Rl0\n",
       "ix2ALSCDXvtXWn0Hi+ADP+nYtpx9aFpdM4QVcXrB4xM+ZIsbmI++O8EQOFwPhMCG5uoxpTsXeXDP\n",
       "urcaGruWlhXMufkZzdqKpMuIz6Od5dVTU9u9+dx3DWMvK4f0HptI/56eE2MfBCrRMAA/iIOdBB/j\n",
       "1qwcuDpeWnAv3XwSDSYzaIv91dAlbTVIoubkS/oIfAw/EH3NDbeTf4Ph7tfkSBGnFyxKd1/5mrnP\n",
       "cB735ii1jt1X4klQBCpvPNFEYFJzjZfQGRumpqo+1UTHGX9WrKFm1SZNBUiTBhf2orNYw5Z1WJJ/\n",
       "CzefCuvulT9SjFfFuEcE0tGC+6Yvd1bBcaHP0Cu7Xry2RrfY0RiIGXa8PgJxWeR8go/H836hjiT0\n",
       "Ayni6QXlZOxtiKAqhYEIEZg9oEpQBGYPBENgTHOFidAlLcua8akmOs74s4J5mTU0hyqTrkg+tVOd\n",
       "z33X8EvCKbgAwWDLtjUx7g6B+NIPrkmcKeScjeBc6BP2TP2hm1Cooy12NAYW6Z3qpk7T+SehAvjk\n",
       "WYzXiOlW92tsuIinF5STsRGdaNwIiHKjkB2n9iQoAnMLwRCo60nZgY5mR8cZf1awEz95Xa+oh0g8\n",
       "0VLnO981NOZBphnKe8RoS9e44u4Q6CsM6ZSAv3gYbrHj93r7JUGehCeRRb7Xy3Q/H9EswpM5n+Hs\n",
       "r4MvR4hA9lBPgiJQ2XpNBEoOp/VENx41Z/xZwTy7TN2lmAaxl1Vf6IP58LuGeJMtNQ+S4Wy40OfS\n",
       "hkobHNYZed6B97gI9BOv5wjWQX6u61o0i/Bk0DvuPiiZ2midOBtEE0ZbqgRF4GgrIAKpl2JAOpId\n",
       "HWf8WVFgx5LWadaXGOuc73zX0EZgphLKe9CpTr4qxmEi0DmHzbkPJsN3WyIXDAub+YU9XVejWYQn\n",
       "cz7DaevZ9REicKipSlAEDjUDInC6HAodyY6OMx1YwU73JXWB8q7O+c53DW0rtC8UK9SgvlXkLn4W\n",
       "h4nABpM95z6YOjv8SRJ+zvuEH2/qvp6buiXjPsNp21oLESLwKWWCIvApEBCBmbFQ6HB2hJzpwIoh\n",
       "qsgFXeWdLnXMh981JK5eYa3E5OgIfo8rDhOB6L5Q5N7Muw/+NnT1xMLOiqP4UPcOippFHDLkHYdt\n",
       "rWhXYpgLoTdBEJjaExSBiUOh0OHs6DjTiRV9zBp/je6SyEzHfO67hqeFpMBX1Emjt4pxqAg0YaXY\n",
       "vZlzHzRC10+sYklxftLX/WKoZhGHjPsMZ6JSaEWHwNy8MkEQmJsPikBwIBy6A9FyphMrHHe0uK4Z\n",
       "+rqO+dx3DWMvezAUI/RLJHH0iBiHikDkOojdmx8AkYcPu3qu+a5r0CzCyZj7DOdxZ9Wje7dGS5kg\n",
       "CGy0AiNQ1wOyAx3Kjo4znVjB9veA+W7NKj89Eiy/l1CkC6pPuOJwEYj9Pk+RuA+GHwqupSSz+6UY\n",
       "zSI91Bx49aGkTBAEDpUCI1B3D7sDnW41UbHC+VrrC3THo5Fg+b2Ez1NlaotxyAgE/wGwe/NsxHc4\n",
       "2GG1u6Md6r7n1SzSQ80Bw1fUCYLAr4DACEzMh0KXmF9aViTLYOWEwAiEXyuQuTdHEDz3O/cgCc0i\n",
       "iy5jptTeBFE7H7XXRiB4Zzh071xaVmR3H0GgaPCGeLlUV6EHSWgWWXQZN2rKBFG7Ri0EBE6UQqGb\n",
       "KC0pK1yH3I8gcOnCfZEVWWwZ36VOELW7C4SAwPxAKHT5gSVlRVheY0cQGDj0IAnNIoss48JWZYKo\n",
       "XWFrGAjU9h57TzjVRMIKW2u3riAEWpbVWr6t3xpVkUWWcbKtTAxjh9ukjy/BqGXp7vSdXw+FTrea\n",
       "SFhhh0dXDgLNjRs3tpdv8x+NrMjiyvjz6oQtoBr/tyRcvXGj7l3VhVIodIXSUrHi/wHYv5NLetyt\n",
       "mAAAAABJRU5ErkJggg==\n",
       "\" style=\"display:inline;vertical-align:middle;\" /></a></span><br>"
      ],
      "text/plain": [
       "induction_inst: |- ((|psi_{1}〉 = ((1 / sqrt(2)) * (Sum_{k=0}^{1} (e^{2 * pi * i * phase * k} * |k〉)))) and [forall_{t in NaturalPos | |psi_{t}〉 = ((1 / 2^{t / 2}) * (Sum_{k=0}^{2^{t} - 1} (e^{2 * pi * i * phase * k} * |k〉_{t})))} (|psi_{t + 1}〉 = ((1 / 2^{(t + 1) / 2}) * (Sum_{k=0}^{2^{t + 1} - 1} (e^{2 * pi * i * phase * k} * |k〉_{t + 1}))))]) => [forall_{t in NaturalPos} (|psi_{t}〉 = ((1 / 2^{t / 2}) * (Sum_{k=0}^{2^{t} - 1} (e^{2 * pi * i * phase * k} * |k〉_{t}))))]"
      ]
     },
     "execution_count": 5,
     "metadata": {},
     "output_type": "execute_result"
    }
   ],
   "source": [
    "# instantiate the induction theorem\n",
    "induction_inst = fold_forall_natural_pos.instantiate(\n",
    "    {Function(P,t):_psi_t_var_formula.instance_expr, m:t, n:t})"
   ]
  },
  {
   "cell_type": "markdown",
   "metadata": {},
   "source": [
    "### Some Related Properties and Definitions Needed for Later Processing\n",
    "Mainly: some domains and orderings. Notice that throughout this section devoted to the induction proof, $t$ is a _variable_, not a literal."
   ]
  },
  {
   "cell_type": "code",
   "execution_count": 6,
   "metadata": {},
   "outputs": [
    {
     "data": {
      "text/html": [
       "<span style=\"font-size:20px;\"> <a class=\"ProveItLink\" href=\"../_phase_is_real/thm_proof.ipynb\" style=\"text-decoration: none\">&nbsp;&#x22A2;&nbsp;&nbsp;</a><a class=\"ProveItLink\" href=\"../../../__pv_it/theorems/6f97b342dd38550cb8024855d13745b7ac6dd4990/expr.ipynb\"><img src=\"data:image/png;base64,iVBORw0KGgoAAAANSUhEUgAAADUAAAAUBAMAAADfOGjQAAAAMFBMVEX////c3NwQEBAiIiKIiIiq\n",
       "qqp2dnZUVFSYmJhmZmbu7u5EREQyMjK6urrMzMwAAACjE6D8AAAAAXRSTlMAQObYZgAAAAlwSFlz\n",
       "AAAOxAAADsQBlSsOGwAAAOtJREFUKM9jYMAEPdr7D2s3MGAHG8QZrncvwCEnxsDNV4BTjlPgAIoQ\n",
       "y2ZjG4TcBmQp3iMLEPrYVwHN5HvAwHt+F0hEZgGSma9jBBgYOBkY3vSWgUQOIuwTOvzZC0jHMTAU\n",
       "MHCDRA4guaVjDYhOYOBYANLMwKdsbGxsDZXjXgHyuwMDCwPDEiCDawOSPr4JICdMYLjHwDALJGKA\n",
       "7L950kB6BlB2+QOQiAuy3GoWoKE8R8512oJFeALgcpIMHA17gYzm/2YQEa7qW/B42Miw+zxQKSc8\n",
       "NnizoWEGB0wPGHCC97ilGJzxyMnhlAEAyX09Ck76UOIAAAAASUVORK5CYII=\n",
       "\" style=\"display:inline;vertical-align:middle;\" /></a></span>"
      ],
      "text/plain": [
       "|- phase in Real"
      ]
     },
     "execution_count": 6,
     "metadata": {},
     "output_type": "execute_result"
    }
   ],
   "source": [
    "# used when processing products involving the phase phi\n",
    "_phase_is_real"
   ]
  },
  {
   "cell_type": "code",
   "execution_count": 7,
   "metadata": {},
   "outputs": [
    {
     "data": {
      "text/html": [
       "<strong id=\"two_pow_t_var_less_one\">two_pow_t_var_less_one:</strong> <a class=\"ProveItLink\" href=\"../../../__pv_it/theorems/c8c0e0f368a63137ceda65bd76f2135a922a579a0/expr.ipynb\"><img src=\"data:image/png;base64,iVBORw0KGgoAAAANSUhEUgAAADMAAAATBAMAAADPIygvAAAAMFBMVEX///+qqqqYmJiIiIgiIiLu\n",
       "7u4QEBBUVFS6urp2dnbMzMxEREQyMjJmZmbc3NwAAADzFso2AAAAAXRSTlMAQObYZgAAAAlwSFlz\n",
       "AAAOxAAADsQBlSsOGwAAAJtJREFUKM9jYACDcwy4AOsHnFKMB3DJ8E05uQCXHI8AVh13Ty9g4A9A\n",
       "F14CFHnNwPmDoQ3dWbXngVJ1DAxpDOas6HbZA6XyAxjqH1zmDMAiVcLAUL9grRYDFikg8MfiOogU\n",
       "12ecUiwFOKVuw7gxLiDghZBiwqYJIiXJwPcAuxTXBAbmAOxST+7evYLFwPlAk/z///+DKVOef1wB\n",
       "AITcKnT60BNxAAAAAElFTkSuQmCC\n",
       "\" style=\"display:inline;vertical-align:middle;\" /></a><br>"
      ],
      "text/plain": [
       "two_pow_t_var_less_one: 2^{t} - 1"
      ]
     },
     "execution_count": 7,
     "metadata": {},
     "output_type": "execute_result"
    }
   ],
   "source": [
    "two_pow_t_var_less_one = subtract(Exp(two, t), one)"
   ]
  },
  {
   "cell_type": "code",
   "execution_count": 8,
   "metadata": {},
   "outputs": [
    {
     "data": {
      "text/html": [
       "<span style=\"font-size:20px;\"><a class=\"ProveItLink\" href=\"../../../__pv_it/axioms/71c1fc00120f763c694cd99d32f7a5e7315b9ca50/expr.ipynb\"><img src=\"data:image/png;base64,iVBORw0KGgoAAAANSUhEUgAAADwAAAATBAMAAAA+KHOiAAAAMFBMVEX///8QEBCYmJjMzMwyMjKI\n",
       "iIhERERUVFS6urp2dnZmZmaqqqrc3NwiIiLu7u4AAAAqt126AAAAAXRSTlMAQObYZgAAAAlwSFlz\n",
       "AAAOxAAADsQBlSsOGwAAAOZJREFUKM9jYMANFjDgBQmkS/PdT/Nj4JSXwKWbbUM7A8N7uG6+O6jS\n",
       "7Hc4FRgYGbjS0sTSkhgYuP+hSW9j8GHghevmugARDrt71wEsfSjgCJI07wSwbEscTPeBYtYJcOn2\n",
       "/PQAIMXjBzf8ABtDBkL3frAgywGENPOCt2/hobYEIo1w2gEGbe5EOPcmmDS8CwQJUGn2B4XwUPoB\n",
       "pp4h6+YreAvjcX9geAByP7I0gykbjMflwG0ApFgD4IEK5LKawRUXPAXT3jABlg1w94I8nKQApp9n\n",
       "PADTzP5iQPIJRkx15kICFQUAALDXOQj7yj+HAAAAAElFTkSuQmCC\n",
       "\" style=\"display:inline;vertical-align:middle;\" /></a> <a class=\"ProveItLink\" href=\"../../../__pv_it/_proof__psi_t_var_formula/f0adc41385c12c07d04cb039b26f11db9f8af2fb0/proof.ipynb\" style=\"text-decoration: none\">&nbsp;&#x22A2;&nbsp;&nbsp;</a><a class=\"ProveItLink\" href=\"../../../__pv_it/_proof__psi_t_var_formula/59d8838d3d684be8647b5d90817774e10cc728b40/expr.ipynb\"><img src=\"data:image/png;base64,iVBORw0KGgoAAAANSUhEUgAAAG4AAAAaBAMAAACkxnQfAAAAMFBMVEX///9UVFQiIiKIiIjMzMx2\n",
       "dnYQEBDc3NxEREQyMjLu7u5mZmaqqqq6urqYmJgAAAB66f/FAAAAAXRSTlMAQObYZgAAAAlwSFlz\n",
       "AAAOxAAADsQBlSsOGwAAAcJJREFUOMtjYICD6QykgbcQiusDFjlu3Np4NkDpCVgk2Rtw6lsJVRE0\n",
       "1QGL7GOc+vqgNOcBbLJMC1D5XPodsxhY83MZ2BOAdu2e4cDAvwBdjxNQhFkATZDjwEUGhvVAnwcw\n",
       "MFQwsP5luIamgEt6PlAf1y80YUZ11gcMbAwM/BcYGMQZGNIYDLnQ/WcPcsE8dH0ngBHGxMDgD5TM\n",
       "X8AgX7CZdQE2fTugHOYmJU2wvjqDSpA+IyBbiIFB3sH7CQM2fWYQNu9kqKmMBSLMAUB9khCuPpaw\n",
       "BOu7D1FfCXMMYwEHQy9QXweYx/IZlz5/B9REyFjAsmHRIgaGiZBoEsClr/4CmD0BoY/hDU8bA4M2\n",
       "mLcDnnqUQEAFoW89WB9LElBUA6qPcYEY1D4+bNZB7QO7k6sByT4uAZg7jzKwF+DyH0RCAUkfgzMH\n",
       "A4MEyBUBDMwL8IenMTydAe1n9oDET9Hu3ZuwuDMeZNUztFQPZuyEmKf///9PTG2C+RMfMDBshKZW\n",
       "iVuQCJufAcl7bBfwlwaw9MkbAUln8JIgAK82jPwAAywJePVhjyEQkMGrj6mAQPmCA+AuX3jweRBP\n",
       "eQYrP7EC7gU4JACQ92VPWLQpAQAAAABJRU5ErkJggg==\n",
       "\" style=\"display:inline;vertical-align:middle;\" /></a></span>"
      ],
      "text/plain": [
       "{t in NaturalPos} |- (2^{t} - 1) in Natural"
      ]
     },
     "execution_count": 8,
     "metadata": {},
     "output_type": "execute_result"
    }
   ],
   "source": [
    "two_pow_t_var_less_one.deduce_in_number_set(Natural)"
   ]
  },
  {
   "cell_type": "code",
   "execution_count": 9,
   "metadata": {},
   "outputs": [
    {
     "data": {
      "text/html": [
       "<span style=\"font-size:20px;\"><a class=\"ProveItLink\" href=\"../../../__pv_it/axioms/71c1fc00120f763c694cd99d32f7a5e7315b9ca50/expr.ipynb\"><img src=\"data:image/png;base64,iVBORw0KGgoAAAANSUhEUgAAADwAAAATBAMAAAA+KHOiAAAAMFBMVEX///8QEBCYmJjMzMwyMjKI\n",
       "iIhERERUVFS6urp2dnZmZmaqqqrc3NwiIiLu7u4AAAAqt126AAAAAXRSTlMAQObYZgAAAAlwSFlz\n",
       "AAAOxAAADsQBlSsOGwAAAOZJREFUKM9jYMANFjDgBQmkS/PdT/Nj4JSXwKWbbUM7A8N7uG6+O6jS\n",
       "7Hc4FRgYGbjS0sTSkhgYuP+hSW9j8GHghevmugARDrt71wEsfSjgCJI07wSwbEscTPeBYtYJcOn2\n",
       "/PQAIMXjBzf8ABtDBkL3frAgywGENPOCt2/hobYEIo1w2gEGbe5EOPcmmDS8CwQJUGn2B4XwUPoB\n",
       "pp4h6+YreAvjcX9geAByP7I0gykbjMflwG0ApFgD4IEK5LKawRUXPAXT3jABlg1w94I8nKQApp9n\n",
       "PADTzP5iQPIJRkx15kICFQUAALDXOQj7yj+HAAAAAElFTkSuQmCC\n",
       "\" style=\"display:inline;vertical-align:middle;\" /></a> <a class=\"ProveItLink\" href=\"../../../__pv_it/_proof__psi_t_var_formula/280d46f0ddafacc069639c7b41835c47a00280150/proof.ipynb\" style=\"text-decoration: none\">&nbsp;&#x22A2;&nbsp;&nbsp;</a><a class=\"ProveItLink\" href=\"../../../__pv_it/_proof__psi_t_var_formula/de5ec38c1942043ced3acb2a834291e4c779b20e0/expr.ipynb\"><img src=\"data:image/png;base64,iVBORw0KGgoAAAANSUhEUgAAAGwAAAAaBAMAAACgM6QiAAAAMFBMVEX///8QEBC6urrMzMxUVFRE\n",
       "RESYmJgiIiLu7u6qqqoyMjLc3NxmZmaIiIh2dnYAAABcDckaAAAAAXRSTlMAQObYZgAAAAlwSFlz\n",
       "AAAOxAAADsQBlSsOGwAAAatJREFUOMuVlM9LAkEUx7+66+rqru6f4H+Qf0EZUVCnhaizhH+AUPTT\n",
       "YqNACGnvnYSCiC5ePCXlKcI8GAR1XOjSRQqFsKRsd1Zd2Z3Z6MHMW96Xz8ybNzsP8LVoGf+yFdvp\n",
       "NK3GpMSBdEITK0zsyHbX2y8UUWiysOWBv6Cqm+aIt+498ZgCVOuLQNetcBbySBYsOOUSL4mTDMRU\n",
       "vCWDios6rFsL6RqEHOLqKOu8RnwiCb6MgCKnD1ycbGHRDEJpiMNU5D2bwpSGQBd8T2q+0jBJRaIG\n",
       "7tMOHe8OxSeAz4HvcLcpGiYr0E3sg0SK6yNxgczhd28RCRbs4sYA901OO1bsJTvVJgPjOgT7sQL8\n",
       "GHZG5jUwsFgbuoEg2Q1VJ8k87IPbFjnfsCw1wiJtqySipyRktyyYu3UQUiF4LsDCRANXrLP1ICiQ\n",
       "Su7rnjXHJPDMriS2sO9cjnhK3IOZSL7RyHmxeM9a3fzniq0ZjzihIdzv90segZ/+mjOLlaa/m0DS\n",
       "v1Vk6HHzBfiZrjnfBXI5q/arUnyxLEuY98V2/ugldGP3EtHvcJU/+yTV7oBfVzh1D8ArNDIAAAAA\n",
       "SUVORK5CYII=\n",
       "\" style=\"display:inline;vertical-align:middle;\" /></a></span>"
      ],
      "text/plain": [
       "{t in NaturalPos} |- 0 <= (2^{t} - 1)"
      ]
     },
     "execution_count": 9,
     "metadata": {},
     "output_type": "execute_result"
    }
   ],
   "source": [
    "LessEq(zero, two_pow_t_var_less_one).prove()"
   ]
  },
  {
   "cell_type": "code",
   "execution_count": 10,
   "metadata": {},
   "outputs": [
    {
     "data": {
      "text/html": [
       "<span style=\"font-size:20px;\"><a class=\"ProveItLink\" href=\"../../../__pv_it/axioms/71c1fc00120f763c694cd99d32f7a5e7315b9ca50/expr.ipynb\"><img src=\"data:image/png;base64,iVBORw0KGgoAAAANSUhEUgAAADwAAAATBAMAAAA+KHOiAAAAMFBMVEX///8QEBCYmJjMzMwyMjKI\n",
       "iIhERERUVFS6urp2dnZmZmaqqqrc3NwiIiLu7u4AAAAqt126AAAAAXRSTlMAQObYZgAAAAlwSFlz\n",
       "AAAOxAAADsQBlSsOGwAAAOZJREFUKM9jYMANFjDgBQmkS/PdT/Nj4JSXwKWbbUM7A8N7uG6+O6jS\n",
       "7Hc4FRgYGbjS0sTSkhgYuP+hSW9j8GHghevmugARDrt71wEsfSjgCJI07wSwbEscTPeBYtYJcOn2\n",
       "/PQAIMXjBzf8ABtDBkL3frAgywGENPOCt2/hobYEIo1w2gEGbe5EOPcmmDS8CwQJUGn2B4XwUPoB\n",
       "pp4h6+YreAvjcX9geAByP7I0gykbjMflwG0ApFgD4IEK5LKawRUXPAXT3jABlg1w94I8nKQApp9n\n",
       "PADTzP5iQPIJRkx15kICFQUAALDXOQj7yj+HAAAAAElFTkSuQmCC\n",
       "\" style=\"display:inline;vertical-align:middle;\" /></a> <a class=\"ProveItLink\" href=\"../../../__pv_it/_proof__psi_t_var_formula/02fab340ca0e62c8d187d537d3c3b5e386877b420/proof.ipynb\" style=\"text-decoration: none\">&nbsp;&#x22A2;&nbsp;&nbsp;</a><a class=\"ProveItLink\" href=\"../../../__pv_it/_proof__psi_t_var_formula/c13e60187e07163300192c2963d497486a4517310/expr.ipynb\"><img src=\"data:image/png;base64,iVBORw0KGgoAAAANSUhEUgAAAF0AAAAVBAMAAADWVP/xAAAAMFBMVEX///8QEBCYmJjMzMwyMjKI\n",
       "iIhERERUVFS6urp2dnZmZmaqqqrc3NwiIiLu7u4AAAAqt126AAAAAXRSTlMAQObYZgAAAAlwSFlz\n",
       "AAAOxAAADsQBlSsOGwAAATdJREFUKM9jYMAGDjCQIszAugG7eCsO9TuxiDHfA5qjAGTw3UGX4nPA\n",
       "FH2+5B+Q9ANi7n/o6rkUEKIcCjA3ggS0QLIXECq3gH3EiCTKHYCsnvEBAwPvBLhy3XUQXQwIUVT1\n",
       "LAoM7fnpMKHYeRB6JQNCFFU9ZwEDw36YL+fCpJwYEKKo6pmAIbEEwudZC/MZw20GuCiaem4BBoab\n",
       "EH4JIo4kGKCiXHfvXpS9e7cArp75AwPfD2zqYaJo5nMIMHB/YHiA6R6YKLp7LjBwOXAboPk3lQEh\n",
       "iubfBAb2gqewAIqNgzCmMyBE4eo5/4A8NIGBJ0kBEV+QCLBlQIjC1LMXfikCxmIDaspRAacHXgOE\n",
       "CNx8MDiLNTkzLUCwORSQZRZhT/85OPIFTwJ28Wc41LPhyJA8AdjFYxgYAIFrUpTc01epAAAAAElF\n",
       "TkSuQmCC\n",
       "\" style=\"display:inline;vertical-align:middle;\" /></a></span>"
      ],
      "text/plain": [
       "{t in NaturalPos} |- t < (t + 1)"
      ]
     },
     "execution_count": 10,
     "metadata": {},
     "output_type": "execute_result"
    }
   ],
   "source": [
    "Less(t, Add(t, one)).prove()"
   ]
  },
  {
   "cell_type": "code",
   "execution_count": 11,
   "metadata": {},
   "outputs": [
    {
     "data": {
      "text/html": [
       "<span style=\"font-size:20px;\"> <a class=\"ProveItLink\" href=\"../../../../../../numbers/exponentiation/_theory_nbs_/proofs/exponential_monotonocity/thm_proof.ipynb\" style=\"text-decoration: none\">&nbsp;&#x22A2;&nbsp;&nbsp;</a><a class=\"ProveItLink\" href=\"../../../../../../numbers/exponentiation/__pv_it/theorems/d2c693d4a6556f5df0150dfc466a8d5c54c99d0f0/expr.ipynb\"><img src=\"data:image/png;base64,iVBORw0KGgoAAAANSUhEUgAAANsAAAAbBAMAAAAHRefHAAAAMFBMVEX///+IiIgiIiIQEBB2dnbu\n",
       "7u5ERETMzMzc3NwyMjK6urpmZmaYmJiqqqpUVFQAAAB6qHgnAAAAAXRSTlMAQObYZgAAAAlwSFlz\n",
       "AAAOxAAADsQBlSsOGwAAAyVJREFUSMe9Vl1IFFEUPrM7M/szs+tYSUUhKQqRPUhEhhTog2RQMNFS\n",
       "D0G7Qk09GAnbQxHoho+C2kMRYTBQCIHRJGGlsq2EgRC0iQ9BPaygUG/6sCBB0Lkzc2dmZ2d3lV2a\n",
       "hzvf/eF8995zzncuQG2/ewn4H5+oGv9oV8klQg3pfph//0DJJcHaHZwbN8FQ/brnAvagBAs1o+Mz\n",
       "JtglH/BccCTQDj4ZIEc6P6ulG6agH5Y8/ZbgBoBBrlnSe1It3VsKOiDtNe8nkcTlAQZr4sQ/FGzA\n",
       "aa/5uhRpJwBCeKFstkq2QJ6iVtHeesS+tJAKmCEzmDDo5FC1h2MOUXS/3k7FNtlOgvkF7OxGdKy5\n",
       "+Xi1dFGSB8G1fZJzCy0m22j3A3PoNY68A7he3hhbOQ/IDT5P8Xl7KNZkgvBJuG0SD6EGjEIwV96Y\n",
       "UFGFQmiBOwWCdacwcpSiixmYNuEYxicvs6rl8scFVpbPph86aPiSIuzTcNUG+CzBjD6z5j4CtJgw\n",
       "jkQRyREpa3awNSoqw0Jvl5uOirDsOp0/oZsrojsBHE2TMSKo4w4t67DQHE4xDCxK7Nz03KyDzhTh\n",
       "kXUXXVyCr1B8mdwmiBtUUEn2nX9EPLvQS4602SgbesoQEUS6Bs19OkOEB39h0003GsULjmfhdyRV\n",
       "FCrcX4zb73ZkwjDx8+HAFrHfymiGnl7SY5kN9mXcdLoIT74nHlOTNOjbcVaKtDmD6UKTcd19sKxp\n",
       "xtAnfWt4O4KGik2EXRw39HRKtyJcSxSFChHhyR6CZuAyDXbMAG71zOjegoprJN7VPXdXzSKYtiWU\n",
       "yDX6RcgZerqkKEqWYdhXjrzjqQgHDF3stE13elZ4t/JPUBBP8Yu4lzrwZw09vaOfjgm/cAQgb4lw\n",
       "7BZBWx4VoWwNtlTAnxqakmNYAD9DTNdTXtZ9Bz2am04XYaYf0VNbb5Lbes9YchKe/3YOktnAGwlb\n",
       "oqfBGzj6cn/XlQ9uOkOEReQb+dJg5dl2aoovVdjPOtqYoqhuZXR2Ijc93yrlPtdbJSzbracQlzG1\n",
       "UpnNXcRFR7tTOlGtSCfIO6tqwepfbP8AvESvZ3zEb+EAAAAASUVORK5CYII=\n",
       "\" style=\"display:inline;vertical-align:middle;\" /></a></span>"
      ],
      "text/plain": [
       "|- forall_{a, b, c in RealPos | b < c} (a^{b} < a^{c})"
      ]
     },
     "execution_count": 11,
     "metadata": {},
     "output_type": "execute_result"
    }
   ],
   "source": [
    "exponential_monotonocity"
   ]
  },
  {
   "cell_type": "code",
   "execution_count": 12,
   "metadata": {},
   "outputs": [
    {
     "data": {
      "text/html": [
       "<strong id=\"exponential_monotonocity_inst\">exponential_monotonocity_inst:</strong> <span style=\"font-size:20px;\"><a class=\"ProveItLink\" href=\"../../../__pv_it/axioms/71c1fc00120f763c694cd99d32f7a5e7315b9ca50/expr.ipynb\"><img src=\"data:image/png;base64,iVBORw0KGgoAAAANSUhEUgAAADwAAAATBAMAAAA+KHOiAAAAMFBMVEX///8QEBCYmJjMzMwyMjKI\n",
       "iIhERERUVFS6urp2dnZmZmaqqqrc3NwiIiLu7u4AAAAqt126AAAAAXRSTlMAQObYZgAAAAlwSFlz\n",
       "AAAOxAAADsQBlSsOGwAAAOZJREFUKM9jYMANFjDgBQmkS/PdT/Nj4JSXwKWbbUM7A8N7uG6+O6jS\n",
       "7Hc4FRgYGbjS0sTSkhgYuP+hSW9j8GHghevmugARDrt71wEsfSjgCJI07wSwbEscTPeBYtYJcOn2\n",
       "/PQAIMXjBzf8ABtDBkL3frAgywGENPOCt2/hobYEIo1w2gEGbe5EOPcmmDS8CwQJUGn2B4XwUPoB\n",
       "pp4h6+YreAvjcX9geAByP7I0gykbjMflwG0ApFgD4IEK5LKawRUXPAXT3jABlg1w94I8nKQApp9n\n",
       "PADTzP5iQPIJRkx15kICFQUAALDXOQj7yj+HAAAAAElFTkSuQmCC\n",
       "\" style=\"display:inline;vertical-align:middle;\" /></a> <a class=\"ProveItLink\" href=\"../../../__pv_it/_proof__psi_t_var_formula/8b2eabf9749fb58bc9c08508fc42243b0a0800c10/proof.ipynb\" style=\"text-decoration: none\">&nbsp;&#x22A2;&nbsp;&nbsp;</a><a class=\"ProveItLink\" href=\"../../../__pv_it/_proof__psi_t_var_formula/2aa51fe0b3c23817904c55ea979ed654123494c70/expr.ipynb\"><img src=\"data:image/png;base64,iVBORw0KGgoAAAANSUhEUgAAAFAAAAAVBAMAAAAjqnRBAAAAMFBMVEX///+qqqqYmJiIiIgiIiLu\n",
       "7u4QEBBUVFS6urp2dnbMzMxEREQyMjJmZmbc3NwAAADzFso2AAAAAXRSTlMAQObYZgAAAAlwSFlz\n",
       "AAAOxAAADsQBlSsOGwAAATVJREFUKM9jYACDcwzYAM8DKINVB8b4gFVhPIi4AMSLTaAijAewKpQB\n",
       "ERtAhAhEgG/KyQVY1L30mYWmkIFHAKuJB5FN5Lt7egEDfwC6mrd3djEwfEVW+JqB8wdDG7o6vg0M\n",
       "8xs4Ehh4d+/O3r0JrLCOgSGNwZwVzY3sDxjYEpgLopBMzA9gqH9wmRNhtwwo8Ni+MrD/4zWYiqSw\n",
       "hIGhfsFaLbg6latgEx0Y2H9xXVoAVfjy/GSQqD+SnSZTYSwWaCRsgMtxfYYzWacYwNnrocwLcBGW\n",
       "ArhfryggzHbHCNbbcFYNUrjzbkBXx1SAVaE6hoGSDHwPMK1mnMDwDlUd1wQG5gBMz6xkYDBFVfjk\n",
       "7t0rCB6rCUSaz/fuXQdUhf7///9B5quAA5Ll////2NMoAug8YKAIAAC1V1HRZOnFOgAAAABJRU5E\n",
       "rkJggg==\n",
       "\" style=\"display:inline;vertical-align:middle;\" /></a></span><br>"
      ],
      "text/plain": [
       "exponential_monotonocity_inst: {t in NaturalPos} |- 2^{t} < 2^{t + 1}"
      ]
     },
     "execution_count": 12,
     "metadata": {},
     "output_type": "execute_result"
    }
   ],
   "source": [
    "exponential_monotonocity_inst = exponential_monotonocity.instantiate({a: two, b: t, c: Add(t, one)})"
   ]
  },
  {
   "cell_type": "code",
   "execution_count": 13,
   "metadata": {},
   "outputs": [
    {
     "data": {
      "text/html": [
       "<span style=\"font-size:20px;\"><a class=\"ProveItLink\" href=\"../../../__pv_it/axioms/71c1fc00120f763c694cd99d32f7a5e7315b9ca50/expr.ipynb\"><img src=\"data:image/png;base64,iVBORw0KGgoAAAANSUhEUgAAADwAAAATBAMAAAA+KHOiAAAAMFBMVEX///8QEBCYmJjMzMwyMjKI\n",
       "iIhERERUVFS6urp2dnZmZmaqqqrc3NwiIiLu7u4AAAAqt126AAAAAXRSTlMAQObYZgAAAAlwSFlz\n",
       "AAAOxAAADsQBlSsOGwAAAOZJREFUKM9jYMANFjDgBQmkS/PdT/Nj4JSXwKWbbUM7A8N7uG6+O6jS\n",
       "7Hc4FRgYGbjS0sTSkhgYuP+hSW9j8GHghevmugARDrt71wEsfSjgCJI07wSwbEscTPeBYtYJcOn2\n",
       "/PQAIMXjBzf8ABtDBkL3frAgywGENPOCt2/hobYEIo1w2gEGbe5EOPcmmDS8CwQJUGn2B4XwUPoB\n",
       "pp4h6+YreAvjcX9geAByP7I0gykbjMflwG0ApFgD4IEK5LKawRUXPAXT3jABlg1w94I8nKQApp9n\n",
       "PADTzP5iQPIJRkx15kICFQUAALDXOQj7yj+HAAAAAElFTkSuQmCC\n",
       "\" style=\"display:inline;vertical-align:middle;\" /></a> <a class=\"ProveItLink\" href=\"../../../__pv_it/_proof__psi_t_var_formula/f477326f3051e2ffbb0cc0d274e8483428616d8c0/proof.ipynb\" style=\"text-decoration: none\">&nbsp;&#x22A2;&nbsp;&nbsp;</a><a class=\"ProveItLink\" href=\"../../../__pv_it/_proof__psi_t_var_formula/8216ae65340484dff38b5fa8c3c51f20d550f7950/expr.ipynb\"><img src=\"data:image/png;base64,iVBORw0KGgoAAAANSUhEUgAAALwAAAAaBAMAAAD/IitrAAAAMFBMVEX///9UVFQiIiKIiIjMzMx2\n",
       "dnYQEBDc3NxEREQyMjLu7u5mZmaqqqq6urqYmJgAAAB66f/FAAAAAXRSTlMAQObYZgAAAAlwSFlz\n",
       "AAAOxAAADsQBlSsOGwAAAllJREFUSMeVlj9oFEEUxr+93bvN/ckmWPgHgjmNEsyBuShYWG1jZeEh\n",
       "Ntp4la2HIAbSpBC5SjQgWlhsSFKkMaJN4oLYWNhdZWsEWyHgSUggrG9mdvY2tzOz54O73Zn9ft+9\n",
       "e292dgEZ5Q7+N17Lk3cv9KLf4rCluvbeRFT26KtKH+dqXQvXYotvKsWialISNZbzGD+ra+FNcf74\n",
       "0h2FwmsqJmPCvf3KN9pz+Hk8eKusw5xiThLlL+bsGey2gaWdp8Dh8EWHWS9kIUa44RsfE4HeXsLV\n",
       "Ftxl3O+Nt4cEqzvsB7eCjD0RVNbiEb4D291n3e5u1j6BJ3qwOii17cn1IYnNFOXdjD0ROAU8wEJF\n",
       "X3sJ3wpQOoS1X23eUymqy6kVI9Y5EXgYYLrzsRiY7Qm+Alh1WH3ns69S2IOaeQ1RKCJwApj2b/6K\n",
       "a+/e/dvUwGf4qLCXbSFXjCcdty/GbRAE5sVhTH2vSrgr/nBTo3D68WhjRs4LwvkTN9pgT/BLPjqn\n",
       "U7hHYrB0OZkXRGHSuB1JuIFjDdw8z+JCoqgIeyt103EC21nLygqH/TTMc/mpT6CfseeEZ04+gZm4\n",
       "1sITXfn21cX5CreTa0/waTrcAK7nrZxBaxnhtGAHufYEX6P/0AhDxZ5UZIl7ybpfm4n9iMCjMPxg\n",
       "LI6EfwQoRFGUfdxYJw/OUtMHNfbihU8E5qPowOSewKWeMYv0nuOJTSGHOA6z/c8Qmh1ztCDYaRsV\n",
       "iiWbQwzBU0bFrGJualT72cGTUx2mZ21ucLhmKqX6TWHE4i+m31qU8cn0npMXBP8Dh3ufnIH0Q9AA\n",
       "AAAASUVORK5CYII=\n",
       "\" style=\"display:inline;vertical-align:middle;\" /></a></span>"
      ],
      "text/plain": [
       "{t in NaturalPos} |- (2^{t} - 1) < (2^{t + 1} - 1)"
      ]
     },
     "execution_count": 13,
     "metadata": {},
     "output_type": "execute_result"
    }
   ],
   "source": [
    "# Used to allow a splitting of a summation into the sum of two summations\n",
    "exponential_monotonocity_inst.derive_shifted(Neg(one))"
   ]
  },
  {
   "cell_type": "markdown",
   "metadata": {},
   "source": [
    "### Base Case"
   ]
  },
  {
   "cell_type": "code",
   "execution_count": 14,
   "metadata": {},
   "outputs": [
    {
     "data": {
      "text/html": [
       "<strong id=\"base_case\">base_case:</strong> <a class=\"ProveItLink\" href=\"../../../__pv_it/_proof__psi_t_var_formula/7150cd32bfa1f25cee863b689d700bd65a359d830/expr.ipynb\"><img src=\"data:image/png;base64,iVBORw0KGgoAAAANSUhEUgAAAVEAAAA/BAMAAACr0ebvAAAAMFBMVEX///9UVFREREQyMjIQEBAi\n",
       "IiKYmJhmZmaqqqru7u7MzMyIiIi6urp2dnbc3NwAAACKehgKAAAAAXRSTlMAQObYZgAAAAlwSFlz\n",
       "AAAOxAAADsQBlSsOGwAABzpJREFUaN61mmuME1UUx++23XYe7WyR+IpRNoQQItFdEDXEhK0P0EXC\n",
       "ViMxhMQWwweNJNuAZIOo7Qej0QR2DKAfdN2aYDR+aUFQIwlbjR/8YNwaHzGBZMdVE3yEsrAL7IMd\n",
       "78y9pzPT3nbu7E5vsp1p//fO/Dr3nHPPPV2EuFqkyKe/0418a4dVchTXexn1GZ8unU76Ryp30pMT\n",
       "HgZF5zl1wUdSdBc9Bsr8Y46kOXVfSY/k6PQ/xj9mL6/uK6nQS09eU3mHSDO8uq+k6Gl6bM/wjgjG\n",
       "eXV/SQc1etV5ryPcdX9Jg+D9a3lHPGmdfqQ21f0lFcCqBvOcZnoNzsSbe9RmuvLT9aKfqI/SY4jT\n",
       "UNsuWucjanPd35aFJZDzDsOZ5qTDmVaRjtI4Hb3C178/35y0P98q0hCkEQ/z9e9CzUm7WgWKIhCe\n",
       "shpX/0supJdaRirArA+mudKT681JHbq/TZmgJ5U41xTMNScleo9utVnfUB8Bg01wrRTTzUmJPqgT\n",
       "vxL/O9432eRqYU/u10VvF5jm6d2RbE5K9Da92i2counabvN16Mdb7e5sTzbDOxrcE+LeCL2SfI2H\n",
       "tNLZnJTqqQnLHsgnQobedV/Da29p8Pk4eBJFFq4i5HR/1tQM2gP7mNZIL+iWf75KNkLkzRyqNJpx\n",
       "xbb2KHaGMF2UC/QpSTi+nHMMvZNxuRHbUr6kb026gS7rVm4WNl9XkjfPm6RKSjc7BNOmLq0zj53/\n",
       "Vo0hVrIzbKfLHzUpcQpIZdrrDdbim3NZnKneNVXzwKr++gv+e/eDtAllkv6Afv/HWH7azry51UYq\n",
       "rkgCw3HqA/DQdSCNQXbN8j8XbwX9iO5c/yPwuKTtaAip8t/4/RAmFcuoiMqojI+hLy17M55pMAMM\n",
       "w8Qf2sHnUyolfQ+6M55fj8tKBnpUdzpoB0znuIqOaSggYYxjWjAtbUVFJYeK+FgZsJ6CQdqRA4Yg\n",
       "MbLgvHUTQvoWzFhnPUmfy36rqo9NOnoW6DsloxjfZTwar85+XEaCwfNsNKnZSUdVYKDhIwCrTleJ\n",
       "klbtekM9ie4Sxap6UHdUUE7hv7c3ZtD4px8bAAeiiSrpzg+lV4w3t0lJh0f9XGWQiZG3wTQty2FS\n",
       "8Ys0KsvUyQ4uglTsc2QAS/EnG19/EPXpZo/1xJ9NUqHnIdM07kY3Oex0DTq4nzBEpxmkMSEhpuVp\n",
       "u0vt22a0JzySVldU0pbjGyVRhWk7L9R/ZPj+FeHQJsJAN+YRSKayaUz6SSQZ1lCCVL8ipdoriC6k\n",
       "Nj2i99qENdhD0ijAzNdWMUmF+e+kDYRBmWOQqqEiDlIZUv2S6tIrkeYbuqMZwmWHbsaSWWddoYB7\n",
       "MotK253bm25CGtlkzonBIBLSGFxwrGh41KAaQ2KR7ICFciPSRiUOu15JOp9p4dCFCxyVGrNGgknb\n",
       "738JUQZlhkW6F51HskpIg1qtnYqTLrNv009qNbPvYU+NSYdzo3nKIM2zSPfgpfl7WlUYX4Tvo6ij\n",
       "fnUDNrPe2hSoKWm/OpwrEgbq+047Rd9q5XCJkv62GNKCY4U7iZ/3U7tPFflJl6LhfJkwhBMsUun2\n",
       "1WegUpN0JS2AR9XH08edm3VsoZHUAx5mfxWSD6iEIRJnxFOMmoOaksAoMvSh5olhVQ86B4dKnrZM\n",
       "1azPZKDrfi2prAJpgGFVKYf3Sp0N9eWInUt5JDUZaC4VmLEStnOQ85nVr8OuWV9bqZEesYKkYH6n\n",
       "xMJITYadNH5BLpUiuZRc7f45K1N2sP2BlIG1eZa+y5qP58zXWxZGajI8Qy3oomViXzm6swoAI471\n",
       "8GUcRGJzDN0WooSEfR/F2eS8jQH2UR0wL5NcBTS7vYnd6A6rYGDXK9UQJWaJawneDJW1N4VFT5ni\n",
       "Kg3aH3QkZ2TOy7Q63QpR55dBSrV7waT7a+4dneAqn9rz46MI3YhjRr5OD16+x2zbcDo6hfxq/dQK\n",
       "wlwFpHZ7QfhX4on1etaWaF3xjTQLcWXGSxFTKMEaJs0yi5wtaD2wqHCVz8P0EZ3Esyybs9EeZ+mt\n",
       "aFOs2ljjIuZVsjgNzcDmZQ9Lb0WTYGNW4AsjG2nwmaD7n3CcqbegyWCeI3y1zDG6sGc1sqs4iBSN\n",
       "pfvfAhD4V/D1r9BQUcmYsVwq05SmVve/Dcet6eQqSndDYThoEP41MLCvXrcVbWNnyz6Rwu9H4Rm+\n",
       "/mEahqKzZhkupeuXGfoW22b+G59I74VnwflzrAgeuG5DY91WtN2MOjRfQBWIf5U054gXoUYSb6xb\n",
       "RVtlGoVyvpDG4NuPcRs2dZmg1lg3iraR5bitlKZRe9ofh6L3Fbl/NpIT7rpVtMWkIX+iAThuhP+/\n",
       "Bna461bRFs9+hy+zr0DCXuHfO45qrrpRtCWz75tHtYFbLPFg2t2uuq1oexp97cvk76LrS7jXw6DV\n",
       "rrqtaBs7u9+Xyd9MT/7Mexh1NL84fSEtCAHkPk/fL784fSHtfVhYiD/9D1w2aXTc0HrdAAAAAElF\n",
       "TkSuQmCC\n",
       "\" style=\"display:inline;vertical-align:middle;\" /></a><br>"
      ],
      "text/plain": [
       "base_case: |psi_{1}〉 = ((1 / sqrt(2)) * (Sum_{k=0}^{1} (e^{2 * pi * i * phase * k} * |k〉)))"
      ]
     },
     "execution_count": 14,
     "metadata": {},
     "output_type": "execute_result"
    }
   ],
   "source": [
    "base_case = induction_inst.antecedent.operands[0]"
   ]
  },
  {
   "cell_type": "markdown",
   "metadata": {},
   "source": [
    "We have $|\\psi_{t}\\rangle$ defined as a tensor product (the result of the first phase of the quantum circuit, and the LHS of Nielsen & Chuang's identity 5.20 on pg 222):"
   ]
  },
  {
   "cell_type": "code",
   "execution_count": 15,
   "metadata": {},
   "outputs": [
    {
     "data": {
      "text/html": [
       "<span style=\"font-size:20px;\"> <a class=\"ProveItLink\" href=\"../../axioms.ipynb#_psi_t_def\" style=\"text-decoration: none\">&nbsp;&#x22A2;&nbsp;&nbsp;</a><a class=\"ProveItLink\" href=\"../../../__pv_it/axioms/7edbcd9ff02ef8603d25ac7f0d4b4ed9995a6a7a0/expr.ipynb\"><img src=\"data:image/png;base64,iVBORw0KGgoAAAANSUhEUgAABKsAAAAyBAMAAABhdkUjAAAAMFBMVEX///+IiIgiIiIQEBB2dnbu\n",
       "7u5ERETMzMzc3NwyMjK6urpmZmaYmJiqqqpUVFQAAAB6qHgnAAAAAXRSTlMAQObYZgAAAAlwSFlz\n",
       "AAAOxAAADsQBlSsOGwAADjNJREFUeNrVnXuMHLUZwL99zM7s8xYoj0aEXI9GAl2BKy2QqAUWFF5p\n",
       "4SYhoqUU7tQWqKC0S0OhCJHbFhpAUbmtICgSAVZq/2glqizQiibH4xCqePzB7UEqyqPNqhToS5C0\n",
       "XBNCwtUztmfsGY/H++jdjBH2Zu3x/uzP8/nzZ88cgELIVKGTYldDlIJ2ZVBOXDh7k8oCYdP0ElP5\n",
       "0n91VKw0HSlxwfcDGhoXzh6lslDYJNWXq15YqnRU7K/RkhYUB8Xfx4WzN6ksGDZNX1a98IWOihXq\n",
       "9Av1gfv/DRcJv40LZ7hUFpn/Ij5Nt9UuM1Z0VOy2Gvniiu1z0RBXUjjbxYUzVCqLzU+xafoZxcvK\n",
       "HRX7lPNNIiLiKp4i+jYunOFSWWR+ik3TV9RsxGehk2KFkciJC+4XzYEx4VSQymLz38+n2abSVZ+H\n",
       "ToqlKiHNfVJezZP9aOilphujsK3mLxIXTgWpCPnzLenlIdkq2NpmDzZJc/tU6lC8F2ixZWZIc+UW\n",
       "Xb7dD3FhI9YxZbOCSuPCqSAVIf9T8uuf6h3bcS1QbJo+qDSJq7WVFjsxpLkv9GPVaVA9uzFgHn+J\n",
       "idGsLwBZUM7c7I5uORWkIuJ317khy2Ap/tKjZNiFNo9N010qxtWEmjOXFNP3ypury81SXc1qLRB7\n",
       "VX85oAWZlhsjdb3H/0MLypmCsS45VaQi4l8vF+16JbM6a2Zl2HAdj03TMZU13ltq7STFSiPy5mYr\n",
       "8oYIswvekX0otWySAd2jneLGKHzDV2BhOQ1Y3yWnilRE/PfKLxdnP+f598WQMiXYcLHJY5M0M6jQ\n",
       "gDPU2kmKpUKUc4iCpNnrLnpbbF7jrCSEDCtiO1ALYsZnCy8wJ1zTJaeKVAT8IdOpk83zs4szbdV7\n",
       "5o8hWZVhUwOTYpO0oGCz6wfUrDhSbGJaLq5Py6uh2U14NKiIlXUpwKapqalG8LCarLkxUsvTvklk\n",
       "YTnz1S45VaQi4E/Kla2THcyfh/wg0lY1Gbaxj8cmqaYwZBJKy0Wn2LKatLm6/C5ysvfDZJAgrKw3\n",
       "CmHaKlNxY143LQrnOYkuOVWkIuCfkCtbJzuYf6Bh7M1CVooN3+KxaaowwWVGsHHAdmpgMYBvMt+l\n",
       "/SOyNI6iWmA1drYVfm831zhpft6qI2vdBQXQ75kmWZueJ1UcdqF7MVct9nZSn6d/tl9Yzuz8v7vk\n",
       "lEolmP8dkPK/A0L+rdZX03DzFy0k09hrLH1eik19shSbpgomYsruwXSDbVM1qBjAqUzfv/Wh7+zG\n",
       "gNXhqwOrGXAngbPR/5d9ddq+K2xx/RLuvqPuZAkCV61x0I0R/m5v4bhwSqUSzH8ApPzMLMXyW8Mq\n",
       "VzP+djOGGQzDhskWh03TUQBbb70Z3ICxJjOs8Mqx2AwqBtpHIeviGgZMn/U7UTUTNcbjtg7MxE9Q\n",
       "c9chcWkV9NsVqKA0cMN+NfbQkWqHmRgK+71LmZhwyqUSPEnvAxm/vg/8/Ah5K/qcgDT6bx34zn+J\n",
       "sJNNDpumMw2w/XRbJB1cZoYVMQEGg4qBHuJ5mSGAD8DamqCaGefTRhPW1yCjI+71tey0vgLKRgvK\n",
       "KA10ga4G7Z8PmZRuOxP7seLCKZdKsL9st5S/sFvAj5C3os8J+CkaWug748pw7Hydw6YpottgqbRx\n",
       "yVK65Q4rjTTmwqBiUDwo746/Y8DCIKTH3Woe5rJtJds0LIWwMdd2Jpd2AootN0usBawtGVztMiZ2\n",
       "lNMnVp1lxoEzsWrV4aJLHf5d8i29Ul3KX6qL+a1JsITU7Z+sf2yCO0OxE7s5bJoiXZpFJdMSyJmq\n",
       "O6yKZJbeGFQMCnsV3C2rIdO2XCdONbM+b8zGm26x+u+R3Igjrpc26L9hsoLFhavdVXVjgI/t+HoT\n",
       "tCUx4NTRmFrT8F/p8s/Itz7wkiyQ311w8vzWsCq8277FmpSMq2/6bSh2cS+L7aQDbSigrshKCPFK\n",
       "HA+rNPUx1wKKhbojPsCAA0jnHnSrmeWyrzi5CWfOz1sfN8NyR1zFh061IUhWsLhwtRMtNwb4ry2t\n",
       "b6PokkbkOeFGlKP5HagM/zK533SgIuXH2X5+eyX42n/sX07Nz+8OxdYPsthOOoBmv5OHhmRHX0ZN\n",
       "MqzWPIGG1aF4CqkEFIN0yGYpWaEgLakfcKuZZbO1k98U+z2eCbE3aLtxtdg1Rx11K21LIF0DrXlO\n",
       "5DmheT5anaV9uo7hH5X7pfBKNZDfzg7iL5TVsanjcyVwaQpNso8D+B8lcsfN03RYVV6Br9PjJLbZ\n",
       "lh+yQ5spBnm5uPC6dDVMVmzzbtDTXDu7NAiTwk67TlFcuNqBshsDDFnRUXA+XGYvcqLNmaila1pT\n",
       "8927DP/T8mGFF/6B/HZ2EH+mpY4NexhsN02iIneD0RbsPNDwPtZCDb31KDwPKbxq9B/zeJ8Yg3LH\n",
       "i86I6wO3mlk2G91KGeEexnJVce1wFf0Akc2xVtSG9A+byCaNOiciPG8Tcf2wgeF/P2Sh2JLy29lB\n",
       "/ElTHRtbAwTbTZPIUsuYluFE5l9jeDU82xYNKw0+i3RYHjRLIBtChtXAPBus78bsxUduP1HOFcjt\n",
       "IdU8OjT0uaGhE53sCXRFBToKY3Wu3Xa1A003Ju2t2FukaSmn9uHic6bxJm5FMIVQftLdHP68+xPb\n",
       "GlJ+O1udH/eJCBs+ChxWxbJlsVvnga5/5xr4c9rMm+ywciZBtKSowBooWtw7fT8dNglixxnVAgjK\n",
       "WuLvFGmBiT/eeWeHD2Liyp127/SLawirYGNVFd0Z0klwePE5EeHt57EycKYQhz9wEsQ/QbVVAL+d\n",
       "3QH/cBA2HVaCSRDqlo35GmrN45a/vdxMw5emhqfo+naUrgTzdaMFhxtn31sl7lPOtsLFRNtToskl\n",
       "Mw6FOdcLy08uZeguOO3e4rdZVmKx3A5LsFgizZkHo5JoiIaVwz9aU5oEA/jxJFjuHZvaVgKTHS7c\n",
       "jO6O48+Do61vXn39R2nOtlpG/Vb58YKZa0C2JXSf4mKQkPuDDLLCKoxYDlqnmlk2O3+Ks63ZXbtx\n",
       "tXgxRDfv7DXPrXoFEo1fR55Tb90AsCTnM50Z/mVyv9XktJTfzu6UX4RNNxfP4P15tl/sNit6ADS7\n",
       "+Kvpy3/BDSvHHZpbkYYXUX1i96nYHao7NguZpfcQwBPg4qpbzSybrR374qHlbsVl3cW42kkmJso6\n",
       "YbVsaSXynLAEMSZ2EkvJtmzsiOH3uENv8PDjY7+B/HZ2p/wibLpFTndYSWrPkCULcQ5y9vh7FZpH\n",
       "cMNqV4O6Qzecewiq9efW3CnYvMGTZpHfK/Vtnn+BAF521rtMNbNcdv6kn3U7ubx35oPTpNqJhhuD\n",
       "hlcsljvxCjP6nBnLHfo2tZSGHfPG5d/F++C9775JNaX8OLtDfhG2vp/FdtIxuhTIjUDhvquuug4N\n",
       "q3VZzm+Fj1HaXvZbrU/HaFV4QzCbY6XoOUt6o7fYfXTcW+ENn7jugx4CXy0+FkwOB5M90MKRcH0c\n",
       "OOGZqn60yFPp8E9wrgHda5Rkx6X82fE+YZPDy4KtZhwS7a/oFaytcrO8w9Y9GGPvfj6SNu27xuvX\n",
       "bfLqEId/eIs9xgI61TzMZfcqLlzt2Uzs7CxffsgfIA6c2uxS4SLN4R/g7PlSw+uPH5Hy50f6hE2O\n",
       "ZFFsmjob4fnyOdjXjqynY/gVa90ZVva4u+U50AQPmSXJd8dzlm8dNm3nFPSM6QIKqpkxexcXqfa7\n",
       "TCzYAowLZ5AfgWO6Czz8hTmQ8Rfm+oSdaXPYvpPn+hNV2IgMDP34GnbjunfCiDOsHNUmcM7SB6S4\n",
       "x7/yDbRsGGVvpbGWCyioZqzVu7gS7BrlQJDzPy6cAaHE6Zsd4OHXDoKMXzvYJ2yyHqTYNOX2ALRz\n",
       "rxI8doRHdoK1aUsQVMxzH18KpRqk2B7IWMr7yMBqMs0exMVVi18EQF8HkBqX6psIcwYETt8gBeLl\n",
       "vxak/Nf2B5u+dYFi0/TU8Np0tZFNi02w9/GTkJqDEqvYC/JZvTACfQrpuhuj5XBZ7DCMPqeKVPIt\n",
       "H3/IW36e7Q82XMBjk9RQOePa/eOn2qC1TV5iXUSa/LC2tr9f4kq13Djs8dMoc6pIZS34+Mca0qtD\n",
       "slWx4XQeu4PHT1VXPY/5Fxlpe+ZNcvbCBfJaLuiXuA5jYoC/+PLjwqkilS+Djz9dV1E2vWInRnhs\n",
       "kpYGFWrYpjaySbEcuY9fd7ym/Gn+VMhp2X69FPp09m4Cv1aOC2dIdxetZFDAf5r88tP6gk2V7B4e\n",
       "X2m3MalmntJi+EmfhLXpeIj98UTeKunHC3LCQ6LuxuIFdVw45d19GLoyURbw9+U9SiHY8EkeW7hs\n",
       "U1p0hBfDdf5gtErPkHoWN1vl1Wztj7jw+2bpW2dFr+iKC6e0u/V1e6my9fBnp6WXh2SrYdO34lJs\n",
       "wSvOJKGrlzyOtcmh6Jc8xdbKrdK1tX5ISzvBjUH6ksfIc8q7W/uYnp338GvHyX/4uN6xYW2Lx+7o\n",
       "JY+qLmVSjGit/D58erVY8TxuZmyW1hKSrRgy024Mjg9bpF0jzxnS3U/X8CFnH/9dcqndZfaMDd/x\n",
       "YJM0o6ZzQ94g5i2G38hlfIRPEd5AthLdcIe8mjv6Ia6vMTG6fYTTeFw45d092cRPwvj4Dfmiwqj2\n",
       "jK01eGyablMbsfqKjoqtx6rwe6Z1PxvDU1ODsMghKdxqiQunvLszc9bzw4vKT7FpeoLidUd0VCyB\n",
       "bcdtS621SnJ+fr6+2OIS/9GPuHDKuzu3xz6ospj8Xf5xku7+lFJ2ZQ2iEXIB/R0XTnl337MlItg0\n",
       "/ZXylQ90VCxrK8PixxGRFtwcMNfHhVPe3bvaEcEmqa6+lunqz1RuiYi0tMB2xoVT2t3ZWjSwaYr/\n",
       "wsT/ALJ3+9MsJVnBAAAAAElFTkSuQmCC\n",
       "\" style=\"display:inline;vertical-align:middle;\" /></a></span>"
      ],
      "text/plain": [
       "|- forall_{t in NaturalPos} (|psi_{t}〉 = (((1 / sqrt(2)) * (|0〉 + (e^{2 * pi * i * phase * 2^{t - 1}} * |1〉))) otimes  ((1 / sqrt(2)) * (|0〉 + (e^{2 * pi * i * phase * 2^{t - 2}} * |1〉))) otimes  ... otimes  ((1 / sqrt(2)) * (|0〉 + (e^{2 * pi * i * phase * 2^{0}} * |1〉)))))"
      ]
     },
     "execution_count": 15,
     "metadata": {},
     "output_type": "execute_result"
    }
   ],
   "source": [
    "_psi_t_def"
   ]
  },
  {
   "cell_type": "code",
   "execution_count": 16,
   "metadata": {},
   "outputs": [
    {
     "data": {
      "text/html": [
       "<strong id=\"_psi_t_as_tensor_prod\">_psi_t_as_tensor_prod:</strong> <span style=\"font-size:20px;\"><a class=\"ProveItLink\" href=\"../../../__pv_it/axioms/71c1fc00120f763c694cd99d32f7a5e7315b9ca50/expr.ipynb\"><img src=\"data:image/png;base64,iVBORw0KGgoAAAANSUhEUgAAADwAAAATBAMAAAA+KHOiAAAAMFBMVEX///8QEBCYmJjMzMwyMjKI\n",
       "iIhERERUVFS6urp2dnZmZmaqqqrc3NwiIiLu7u4AAAAqt126AAAAAXRSTlMAQObYZgAAAAlwSFlz\n",
       "AAAOxAAADsQBlSsOGwAAAOZJREFUKM9jYMANFjDgBQmkS/PdT/Nj4JSXwKWbbUM7A8N7uG6+O6jS\n",
       "7Hc4FRgYGbjS0sTSkhgYuP+hSW9j8GHghevmugARDrt71wEsfSjgCJI07wSwbEscTPeBYtYJcOn2\n",
       "/PQAIMXjBzf8ABtDBkL3frAgywGENPOCt2/hobYEIo1w2gEGbe5EOPcmmDS8CwQJUGn2B4XwUPoB\n",
       "pp4h6+YreAvjcX9geAByP7I0gykbjMflwG0ApFgD4IEK5LKawRUXPAXT3jABlg1w94I8nKQApp9n\n",
       "PADTzP5iQPIJRkx15kICFQUAALDXOQj7yj+HAAAAAElFTkSuQmCC\n",
       "\" style=\"display:inline;vertical-align:middle;\" /></a> <a class=\"ProveItLink\" href=\"../../../__pv_it/_proof__psi_t_var_formula/cf11437aa5d57bb5a022b72371f1754a7999d9f20/proof.ipynb\" style=\"text-decoration: none\">&nbsp;&#x22A2;&nbsp;&nbsp;</a><a class=\"ProveItLink\" href=\"../../../__pv_it/axioms/6c6b22261ae63efb8e3a13e4bea9d030e7e831b20/expr.ipynb\"><img src=\"data:image/png;base64,iVBORw0KGgoAAAANSUhEUgAABE4AAAAyBAMAAACwvYMWAAAAMFBMVEX///9UVFREREQyMjIQEBAi\n",
       "IiKYmJhmZmaqqqru7u7MzMyIiIi6urp2dnbc3NwAAACKehgKAAAAAXRSTlMAQObYZgAAAAlwSFlz\n",
       "AAAOxAAADsQBlSsOGwAADR1JREFUeNrVnX9sHEcVx59/3I/d856vIikqotRBUKWlBTdCpRYidZsG\n",
       "UiQaR41JQgVx1PBHVESOJsGpoGAJ2giMyaZJFEQJvpagllbFB21pSENyiAoh8SNXKqT8ONdHRAlN\n",
       "lR8lIr/jY3fezN7M7s7e7vpyt/f+8No7dzuf++7bN2/e7J4BfFh7Drc3Q5RMuUnW0iqc0eZ/Qg+K\n",
       "fy1u2oYipT/8XHff3yqcMosIv7oiIH5bEbfXR0t+SA64728VTplFhf+xgPgP4ibeG/oKuUr2uuve\n",
       "VuGUWZWfXdFNMi0TCD99H27/VWYD7nvvjIb+MdcA3SqcMrP4t6y70FzuzwfCj+Vx+0B11/5o6J+8\n",
       "121vq3DKrMqfarKffFcPgr+ahsP+yOkPn3AL2y3CKR12+iPjJx3ZIPifw01nsYb+G70Ps7Ee5FtJ\n",
       "x0of/fNA2fmSVuGUGcfv7idXkR+BLeyu6QD4DJbX3E3/RMbzMDWag83VWH7a4XLQVuGUGcfs6idX\n",
       "lR+BrfT/tgD4MfqiJeCt/4O+Jk21cmYa6eCoZMRYhbGZMiVdhGwoZ9foN8NyymwJePtJXfjfGXUP\n",
       "EQjMsGGz7h9/IodXyEVv/VXvZEf1lwvFac6sPibxk/YRsplL4+QlZ0cN5eyE8ZCcUoCL3n5SH/4+\n",
       "6HVvmMtjw3jeP/4s3LT1e+vfUfROiVyb4znbjpfZ6BqT+ImCOmyjzR92vKCxnGnYFZJTZjy/m5/U\n",
       "hV/pB4k/ITDDbh/wj38XvXIy3vpv9p5asGZl8hrdPeeEna9fBzGo4SfwNWEUXusInw3mhFtCckrT\n",
       "2Iy3n/jkNyHl/OkB+IJXesOw49O+8dWzdPgZ8tb/i96HYc0JSMjKwFnYAFsBjg0PDxfkfnKKIKfp\n",
       "Bxh3lIAazJnIheSUDvND3n7ik9+ElPMb8eQ+SeI1zWMrZ33jp+hb9pc99Ve9Ux2rubuQvih5zWU4\n",
       "ldsUrxVP2vHSuNUlejSD81AqJKd0ulP29BO//CakB3+vLD+hwLc6BhNeVtXt89Lx8kP8zilHHGrr\n",
       "IaM1mpOQNJNIphP936pUKsYxOkw/jYP6cXO7xuA/9lVK8tLB6pvLPB0tQ60WB9CqNZazo/K/kJwy\n",
       "4/m1aXfAsvR0WfxriJ+kV1Yq5jEc/O88XlVGVGM1j80SEwO/xPuEiwt20p7v5vZds/g2eyDqNndo\n",
       "BfzDef9Ed/X1miGZ8si/NWD8f4N/Hkfv/oe7dCWeLn0ewzrOJ7TT9he3CqfMOP62WWeudQUsSU8X\n",
       "x29C7vjpULEmv6gGAlNsmAKGj31i9ExmndzjuE85V2NYLdMeJ18pwyb3ZlbKUYoK7NtpJFQGv1KE\n",
       "PBShaGyly6MlLP1QumU4LuEf8cv2eUaLcEoron74jY60I99yO11VfgNyJ+ipt4s1+U01zF2bOGCK\n",
       "DWsLDB/9RMPdLtFxAqfQao0p9FraY8eI8iVuNiA0Y5S7CVQjh+p5BmBXuWPI+D2fHoG8uU9WWyvR\n",
       "lV+kW4d5Zq87VqtwShMMP/zGObsDtpddTleV34DcVYZ2NVuT31CDrEzHOGCKzZ199JMncfdBl4kW\n",
       "RqDkeW/+99Aevwzwd9Bo1II/Cs3EjsFJ8yz0/N6Kh5kUJEdIjTNdll6nZkaKdPsxAJ4WLr/U5ORv\n",
       "Z8DZNdRoTpv9bvKI7p+/BPEB0Hqqp8upM4U82pWpyW/GEzNjRjUQmGJzown6yfepE7o4MA6C8Ys+\n",
       "qixGj3PMKXyaZVOjtiKMAXnzc4+Y/pp/zeJf9ZT6KOn8uWd0T/2RbjMBSlKed9HfDfGfLITnTOYb\n",
       "zSna8zooe/3rXIL2jFlMt06XU2cK+Y2u/pr8zE9QDQRm2N0Zho9+QuswHWXZPC017c1/hfZoXDcT\n",
       "IzDfzk+alVnLoLNSMV21QycTX8KfvPNuIt3iSgU89Ue6CeL2Kr3u/kt+Pm20KLeE57T8pGGc4mDz\n",
       "UePHEwXf/CXozppHtk6XqPOWhVkG2QcroBY/8xNUA4EZdncPwzcG1VeGoJgiY13SWfWdQt/TaiwF\n",
       "ncUezfg6MQRjdn7SvG35atcywkM1xmymP9JhzYdVgBZg6ehNI7fX9NCclp80jFMsgmplULKHfOtc\n",
       "MscD9Wz1dAk6KwsfvwsC8Ft+MlYFZtidvQy/BFqyXxmiJR3iLYlBYqjVt/FTJbz5cRaoFdJXSO4T\n",
       "s/Fj82xIux5lrk/9ka4bzynN9wbJRVjWykrWTOVDcjI/aRynYPvgTdhhTEv88pfgVJFkvANuOrcN\n",
       "wCk9AL/lJzEOmGLHBhh+CZ5NDMTL0E+imHOV/AY6l/cuAKi8/kVIFER+bDZ89Ea3N6/wqz+h6y5W\n",
       "IyzAUgIHcPiYkaiF5mR+0jhOwTKg/TJrtvrkRz+5Uj1dgs7dQ9A+FIDf8hNU4wqPHetn+CXQO/Oa\n",
       "WfU3V8ifquEn3RXezH3KGTJhuEzjuXH8A3lQTSk2DA7eMzi4xGpWjXdcgUCGB7f0J3TdmIKf4/TX\n",
       "cOWqGI7TCJ9LF2L4bBynYEWybKh56jzeW+U3xp0idF2iHdl1njDeUQyAbfkJUYMCn3P6iZH4a6Dk\n",
       "4TtsiBKs5rizjL9OzeMbM2k2cAp+rp4/efLtYPrjwS39x5z6k3ieADhx2HT1sJxCPGkIp2BZSE/m\n",
       "zFYPfqx8sXhiHNycQY+5xZOJH548qQfAtvwE1RD9hBt3YB38B1L6ifsP05RXyE/oEok27SuewweN\n",
       "mbRuJeLiuHMJwpml/3znuL8A9U8XUwWifzhOcdxpBKfNT07AXvQTX/zGvLgH4hfAMa/EcScfDNvy\n",
       "E1RDyE/4PBYehjXwF7PEB1ZBgZsXY/0k5T2vT9N5hLmAtK5ahxkVmtfr1ppTKP2Rji5hnOUKBurI\n",
       "CwB7u0ZCc1p5bMM4BXtWLUKq8CffOpfMVcZELzjqVKQ5cS9AOYyfHOWA2Xwnw/CND/dauRg3XmuV\n",
       "5HzU2VRr3KQj3SXaY2xE+Wy1rjsqNG//9J8fCKu/GdY0bomKLrPR+LjXiJipMTfOKQJai5P5ScM4\n",
       "SWZgphzkl9RfjR+7i751NjpaDtty1dMl6Kws/crL+YB+QsLYwSoww6aDJ5B6rHr9R/YZOVA/uCx4\n",
       "wGacEiTFhSzHUuVnaI/Ko7/KOedr2AwbzuRD6k9WfpFuggCpyKNgwtlu1q+uC89p1U8axrmMpRwk\n",
       "RTDrbFt03/xGRzuOvI87XaLOiZWfDDju4Mr0QBWYYpv5MsUvkXhoOnXmxy4LqOz+KnZbG7Wn7S+b\n",
       "xzyTfNisnX8ezMDYrQ9Ih3f20VvA2bLZQzn1NzPgtPykYZyixffA8wF0Fjuaqc6iGgjM7rAX1wFT\n",
       "OlnKOET82mbVyMPb++0vW8/32F62r0+tr4f+SIc3T2gYCtiymTK6W58Bp7UO2DhO0X706vfAP7/Y\n",
       "0Ux1FtVAYIrNrQKXgM7c1a/nFJeb4WJ03/1COtULx9YJd/ms1bketzqzHH3m+lO6OfihMpJlJztn\n",
       "enheLoqcMvOjs9jRTPlFNRCYYnOreySe0HekXMp47DmBWcKCRMFItacK3J7xEa5HZ2gdH5m5/il+\n",
       "AkFnE87ypY3TSOK1y1HklJkfnUvS0xWGX1QDgdl9cdUq6x7eJ9yGzgsunroV2srQ2c8nXObwlMqx\n",
       "OrTd2rMz0H8PT0efeaWPvHb2eF5RxiXyAYB7osgpMz8675GerjD8ohoIzJ4opndh+sBnK8wTvKdu\n",
       "hM4L0MbHUv5bAty8rR/qZBoG2zfwr1OOiYmNExbrcEM5gpwya7bOb/DY6Uv+8V2e81IGzEXJNn6q\n",
       "r3jfAKpcrpf+najjInr1OQpKNk6YbQTPXAQ5pe9rss6LeOwAz3mxFDrBeapGRq/Yaacf1nDTOthL\n",
       "GCspzWxHu5MTVkaRU2ZN1hmBGXbbgH/8A5jmdFFP/QGw+s6EEIw6c96XSa5O+i/ir1aXpRgnp3hr\n",
       "clQ4ZdZknRGYYbOlIj/47BZ9fM4gZS5ovUp+XSKOjL3eA2dvfeRP4XFeFJNs3hycsUwkOWXWXJ1f\n",
       "5LFZUu0LX5zw/GIqx+56s+XAt3sf5vb66I9fcse+WjCWkU0YqpzwcDQ5vSc8TdIZgRk2c1F/+OL3\n",
       "bo1n6Jd/rLK9bLt3rrO9XA/5leV4MBoXPb53y+KMZ6LJKY38zdQZgRl2oO/dsgWfxDQ+I54skgdc\n",
       "OFfs8/bUvnroT2/oY7clzpHHP8YJYyA+rhIVzhrxuzk63yhgs6qsP3z21SufQo5zeBfVCwC2J5aO\n",
       "ex/meD30/wlerQXq767jpshp3tqhR5JTZk3UGYEZNhzQg+CrdLTahZflx3TTY9PLhocHoMkWG3Hb\n",
       "K3DCW8PDG6LJKbPo6Lw8GP6vaQqPCdWB3eYEKFapVHqbrb/7F2oLnLCyUjkTTU7pVCkqOgf83nLb\n",
       "/0HoWFCGaFiXRMBW4ZRZVPj/EBT/DpqokPiTfDci8sPPJIvorcIpTQijwa/2BcUX/0/T/IjIr0gz\n",
       "+1bhjDb/Vp3D/z9GnyZz0opwyAAAAABJRU5ErkJggg==\n",
       "\" style=\"display:inline;vertical-align:middle;\" /></a></span><br>"
      ],
      "text/plain": [
       "_psi_t_as_tensor_prod: {t in NaturalPos} |- |psi_{t}〉 = (((1 / sqrt(2)) * (|0〉 + (e^{2 * pi * i * phase * 2^{t - 1}} * |1〉))) otimes  ((1 / sqrt(2)) * (|0〉 + (e^{2 * pi * i * phase * 2^{t - 2}} * |1〉))) otimes  ... otimes  ((1 / sqrt(2)) * (|0〉 + (e^{2 * pi * i * phase * 2^{0}} * |1〉))))"
      ]
     },
     "execution_count": 16,
     "metadata": {},
     "output_type": "execute_result"
    }
   ],
   "source": [
    "_psi_t_as_tensor_prod = _psi_t_def.instantiate()"
   ]
  },
  {
   "cell_type": "markdown",
   "metadata": {},
   "source": [
    "For $\\psi'_{1}$, we prove a useful equality then instantiate the `psi_t_def` with $t=1$:"
   ]
  },
  {
   "cell_type": "code",
   "execution_count": 17,
   "metadata": {},
   "outputs": [
    {
     "data": {
      "text/html": [
       "<strong id=\"psi_1_def\">psi_1_def:</strong> <span style=\"font-size:20px;\"> <a class=\"ProveItLink\" href=\"../../../__pv_it/_proof__psi_t_var_formula/eaca34216121874d6a18a3c3149429d5c617673e0/proof.ipynb\" style=\"text-decoration: none\">&nbsp;&#x22A2;&nbsp;&nbsp;</a><a class=\"ProveItLink\" href=\"../../../__pv_it/_proof__psi_t_var_formula/8d0873eecab6d2c3fb0c42f2b63ce6dd4c04e27e0/expr.ipynb\"><img src=\"data:image/png;base64,iVBORw0KGgoAAAANSUhEUgAAAUEAAAAyBAMAAAAw4XTZAAAAMFBMVEX///9UVFREREQyMjIQEBAi\n",
       "IiKYmJhmZmaqqqru7u7MzMyIiIi6urp2dnbc3NwAAACKehgKAAAAAXRSTlMAQObYZgAAAAlwSFlz\n",
       "AAAOxAAADsQBlSsOGwAABYRJREFUWMPFmV2IG1UUx0+SzcfMJNOgVVSwWwV9UB+iiFiEMhVXULSN\n",
       "UD/60o1YH9TChtayiC4N+IlQM7WoD7JuoAsVX5JKa0HBBvRR2FFRfKjsEBX0pYtU1P1o473nzr25\n",
       "87GzN1ond9k7ye49//zmnnvOPXcCoNLSLRhBe9tWH3v1KABB36M8NOX8C6PL0F5VHvkUf3H04HKS\n",
       "hKWy4kBzp3hpJEoIjymOy3ZGRfiKYqzsg1ERZupq4x4eGWHxktIwmSphQrhdbRmWR0fYVFqI7dbl\n",
       "JnxWeeRcR2XUZvjvhLNfXxu9sDfabqsqo3ZsQLg/zjjXxUsdDilT1UVHzFVCRf8znrAQmxFeZ5c1\n",
       "WFIuPnqiA9DIh7u+/0bIGPJtlML3dIxsOutaaxV2fQYJzcl+nwrcRf9Ug+P3D7YtSSHX4R1z4Dmf\n",
       "4i0RS8GSSojNF0Jlzs2Eu7uedbrGX31Hft/7oIY1CCUsuuaW44M7lxX2iA7gJk5o+J0it7Gt8Zu2\n",
       "xfR/PONGWP8sFUWzYBu/OaA5hHCWfGKJ/MiEtG5ChZOiA1jkhHxsNiLg43eevIP6mYa2N8J6Riwu\n",
       "G+ZdSOt10HcSwnnXgF/FvKAC1k2oMGfzDmCq6xG+z0c2wukwPiVt6qL+0wDfDKyL3LlrfKbrJl3w\n",
       "vWKZezkFHXjDN4c0ClEhU+MdfjojfJMrhV3abMTncxv1b6D5X1gXvLvSeej3PjpB5+TFosUJc9eV\n",
       "TzghQlTIiw49yAjF2O0hhKn4NHGa6f9FWBvCmhMaNOEenajDrn6fvt/GAgBj+eU/boMQISoYFu+I\n",
       "i8qEUDtTA8fwkveREMJZN5bwStTXKGFNWHPCFEk22sRrOyJzubx6BCFVKC7zjhBuJYSlgqXVeCrG\n",
       "pZp/FBurGBbjN+8bUd+8iEsmGyBME1elqrAUJZFuRBFSBX2FdySTVAjhh/lqzgUL3qXZNd8NKh22\n",
       "N6yPPEJHWHPCDLnJTTUpK8olkx1FSBVMGl8mC7JslRDaYx2SbOr6Z9TReujwMs4ufV/DRYz7xePM\n",
       "y4RwocOsiQd2TzAPZEmmapPhTlz5UpEJqYJG4TSP0KKR0rRLoHWgQAkLzjqEEZNQH8whjRQS9Nxa\n",
       "nsP2W+fPx7kBZQQhVTCpg80VifAgTZ42I8y4wXWo5GW6HKdsZh30skqJJwipgk73bv3SwMtwgGzs\n",
       "XwEj7IWMF+Nj+Qqmv4/eqLAWsUwiJf9AsDyJI+wFYhkjBb50HVrGIeEP4Wzjz4dtsQ5ZO8X0sw3t\n",
       "wYG1yIckqWm795/uqBBi3UQVchbvCCHNh6Bff+vn4BFWN8rYwfplge0p2szJ1sCaE+JE5CfvUfEy\n",
       "q5uoQr7MO7JG2J6iY2qihBHlaNOXf/TgtjjWHdROwpoTwkOqzz9kBXlfnnOQ0LA5YTq8Ytq+ZJbq\n",
       "Rtc2LAm7wcphZkhCVJBrG69ywNrL/PZihxbMoeLFN60/gTl9h+x33Rroh63nhyREhSdFhynsnFS/\n",
       "AnwSka8q8ruXSLSV1uS/XDPQD1unGsMRosJe0WFV8KlvZMTjsJTlP3dsAbgvcE4xWutZaxU1QlnB\n",
       "d04ZVzDOyce7fAN22TAur9ZC3JYWUSsNddaDe1VOo39Lb94BuIrcWGvY8/Iw7QXRkeBYHfZE/z32\n",
       "k4k9t1E60cPznje7PKHrq4kRppSeiiwwR50ii97oBB+G/c9Nqezwqix9doUfVg8k93RuSunpnBfM\n",
       "2u8Az+H75KYQHhnqKfFhl53UjoDpJgSo+JSYT/VSHVOf7nj7eAItreiuDMvJ6eUMJftlevpQUk5e\n",
       "UJwKnX3jU1zF5z6T/f6FpAifUB34MbvcuR2SbcrfmvFvHpvlhAm/UB96N1uPbrKA+rYhYqoFI2jH\n",
       "ME7+Ab06qh7900ctAAAAAElFTkSuQmCC\n",
       "\" style=\"display:inline;vertical-align:middle;\" /></a></span><br>"
      ],
      "text/plain": [
       "psi_1_def: |- |psi_{1}〉 = ((1 / sqrt(2)) * (|0〉 + (e^{2 * pi * i * phase} * |1〉)))"
      ]
     },
     "execution_count": 17,
     "metadata": {},
     "output_type": "execute_result"
    }
   ],
   "source": [
    "psi_1_def = _psi_t_def.instantiate({t:one})"
   ]
  },
  {
   "cell_type": "markdown",
   "metadata": {},
   "source": [
    "Then show that the summation formula also gives the same qbit result"
   ]
  },
  {
   "cell_type": "code",
   "execution_count": 18,
   "metadata": {},
   "outputs": [
    {
     "data": {
      "text/html": [
       "<strong id=\"sum_0_to_1\">sum_0_to_1:</strong> <a class=\"ProveItLink\" href=\"../../../__pv_it/_proof__psi_t_var_formula/ff4b76cdedb93872d1fb0a4f70b9342f763f11040/expr.ipynb\"><img src=\"data:image/png;base64,iVBORw0KGgoAAAANSUhEUgAAAO8AAAA/BAMAAAD6YIKlAAAAMFBMVEX///+qqqq6urpERESYmJgQ\n",
       "EBDc3Nx2dnaIiIgyMjJmZmZUVFTu7u4iIiLMzMwAAAAz/ewvAAAAAXRSTlMAQObYZgAAAAlwSFlz\n",
       "AAAOxAAADsQBlSsOGwAABYdJREFUWMO1mF1oHEUcwP932ezt3W7O60MpVuTuRSiI3OEXPkhzIAVF\n",
       "WlsptUJLt2oiipJYhIgvOZBaLNUEjAWLktASJLE192BEKNoFiQElJKJCjULvJdRUanK1SZvkknU+\n",
       "92Yue7t3YXcC2dmdmf3t/Of/eQBeLVGgV+MZCKwZnzUw6QN2/fvD4MDwnv+U6DLv3R8guKXbd8pE\n",
       "PgywccB3ygiEAYbtls+E5EY44LYhnwnxYjjgyLLPhLQZDhg+FqT6l8v4rxASOF3ivZ9HKi5HXHa6\n",
       "rw6+EyS4tXrImgtYX4SQWmLREzw9FBY4etsT/FwpLDC86AluD40LY6YX+L/wwOm8Bzh6JzxwV9ED\n",
       "nLhFvJcttEJg9rTfAxwnjyI2c9g/7hq393u8a19TkbHiAb5nhlyurDtP9jKPomRIdOu5LEaZF8S1\n",
       "e+vIJsFxZQ9wV46GErsaKi7Qy072ksRMXVFm3J+rORYmVvmT2OaAkab+I2lXrT1BrMDopxLJqBt1\n",
       "lUfoc8tJ4n9Psz63GH185evaxX1MXH12NUgRK2ihtqBYBPwmUjo8YYCOzx/E16fUU86aE/xcsT9q\n",
       "o6djrHsZeYotsGsk2uGICQ0YF1+JkRsMjprqN/P45tvjE6YA/uEoFi+WoMbOzfYAtzOPaRxblQe+\n",
       "4J2bltFtwPuTaE43Ak+CBjH0h+4Pp5LSjs/hDv5+g+nSNY/sZ5B/c9ZOSQO3uKY8CclDALkbgK8D\n",
       "MGdqcBzB50x19SuQwESJ3+KCEV/u0o7xj4rZR6QwzQ3gdegkivqgI2odCrANH3/uIVUER8mSlwXD\n",
       "aM/UB1ePYXBFfK7hkx2fBXX3vxdJsfGAA1a+L97ASbNeuBkTwTHieeJ4lyfpwyupRsATtpiC68ia\n",
       "Jn7ZU2y1bRzP4xbVVCLDe5ceJvpo6vtEcLwYedeCCH5L1moC7LhNquXICXwHasVtjeLisRB4Or+t\n",
       "I0+1a4Gq7Fi+fr4vaPzYkiUnvcinPOrqg1Ou4PRLqXkk5/PYtWQ42JYaSXmIZzKWhAxcjEsoHU+i\n",
       "ma5Bs02yEmOFgYep4P/BL6fg3kLdRF8Eq+tymp8sd3a+0UAQmmXgP0aJgHfgHZfqg9nnCmDtUE19\n",
       "cbeJEHgCjHKUKMlZfMamH1j0alkx7dORcg1boDYOVipGWWOhiWm1h3IJYCGzx9tHRjl1cNfVxsF6\n",
       "v7GB7DqGNW8P1IKvE+VadLVjSS7EDV1aKTQORrp++gzSHXz35SYHsnuTy3R65+SB55vLr3hYpPnD\n",
       "QC04matd4ASQllyd6NQk+HEhOrU7WqNn6oVFuFQ1TvKdc1sDk8RFYfH4mhOdXkPRZkQS9xj7FKVq\n",
       "SwoB66ktgTWsT21m7Tmex9reK267L7/JlraDkHM12j7iMhVyLnCcBHqZbgp5Nq7ZaEhSq7b0E0tF\n",
       "dmw5kedZZtUVJlLQWgFdzDWzRdmW1Pt4kFIyWy6MmbpE1/iTKSSKGdDF8EdjBQx+StrnvyMrnwmq\n",
       "hFEcn/s2DQ/ibwD0JiHGrnxgPwngHUYyLANEHlx0R4llCK3F8aZOIpFqlPinJI7b4YFxXZac3GBu\n",
       "FBKSi1JXwwMvYIsx1rh5PSuPHg0P3FdiP0iQn9dQFtgpjvZaoYEfo6XdEEk84TrAGankK4TFNdZY\n",
       "eR7He1NnR0clQ43319TYPaeCMmPqL6J3d9JU0rYlL6wsyzW2UojmArImtsFPzroL5I5cY7eWICDT\n",
       "7mKeKF10Hx+Wa+wuCw4EA+7lO69TM04XWI194RHU8gsW/BaMbvllxzifFGpsBD4cjKf2DTZXsf9y\n",
       "amwk6nIwR+wbVrMmrbGpqANTrsu+M2L9Yo2tFaLFQKz4iP+cJ6Qau+d0IE60o+Q/Z6oEwbeBRpKz\n",
       "EMAGVa3/ARLFu/JPPEecAAAAAElFTkSuQmCC\n",
       "\" style=\"display:inline;vertical-align:middle;\" /></a><br>"
      ],
      "text/plain": [
       "sum_0_to_1: (1 / sqrt(2)) * (Sum_{k=0}^{1} (e^{2 * pi * i * phase * k} * |k〉))"
      ]
     },
     "execution_count": 18,
     "metadata": {},
     "output_type": "execute_result"
    }
   ],
   "source": [
    "sum_0_to_1 = base_case.rhs"
   ]
  },
  {
   "cell_type": "code",
   "execution_count": 19,
   "metadata": {},
   "outputs": [
    {
     "data": {
      "text/html": [
       "<strong id=\"sum_0_to_1_processed_01\">sum_0_to_1_processed_01:</strong> <span style=\"font-size:20px;\"> <a class=\"ProveItLink\" href=\"../../../__pv_it/_proof__psi_t_var_formula/c7cf634840b51af93c6c899c0e5bee9c686908e70/proof.ipynb\" style=\"text-decoration: none\">&nbsp;&#x22A2;&nbsp;&nbsp;</a><a class=\"ProveItLink\" href=\"../../../__pv_it/_proof__psi_t_var_formula/33f3012be339b9db816899ba823a611fc80791670/expr.ipynb\"><img src=\"data:image/png;base64,iVBORw0KGgoAAAANSUhEUgAAAjEAAAA/BAMAAADj1ISeAAAAMFBMVEX///92dnZEREQiIiKqqqpU\n",
       "VFTMzMyYmJgQEBDu7u7c3Ny6uroyMjKIiIhmZmYAAABumYecAAAAAXRSTlMAQObYZgAAAAlwSFlz\n",
       "AAAOxAAADsQBlSsOGwAACkNJREFUeNrNW2tsHFcVPuvdnfWM98VL8IPIpkCL4EcsmQLpj3gjkECF\n",
       "4hWvllKIoQIZqXQtSiujUnmhalJKi9egShFE7DRECALCVmnFHyRbQFRSFbIQIsyPkk0DiNDETkhj\n",
       "x06c4T5n7pmZnZl1Z9d7qt5j7/GeOfPNPc+5AaB0HoJJyPVvQHx0sIZ5T1JuMZr8KyfivOgQ5j1J\n",
       "C2ZE+fvjvOpbXLwHSd8fVR4rMgdKmPcg5RejymNFJvVtzHuQKuNR5bEiA7tdvPfoaGR5vMiMmZh7\n",
       "qW98O/D4nsyWqY2QXb/RIWSyQ5h76fZt2SnaLvFDUjHsbp/iQpHHi0xqFXMPpYseY7tC8jYrdm7Q\n",
       "P3fcBxlH/tTxHbFa8F0Xd5NdWD55br2byCTKnO9VPjvlg8zejlmw4uIuMh5zysKuIgPv5RvlejAy\n",
       "SB5zhTmJuduNG9uFzIcYDJnVYGQyqx0zoH8RcxdNwXYhk22yzHghGBkkj7nE3MDcRd/cNmQGmEGF\n",
       "oWBkCp3r+FJrmLtazvVtQ4aXcAvFYGSQPF4yLmPuCjPl7UNmjOKwMh+MDJcftxzajM2AR128ZdPS\n",
       "bWTqNPijEsYHGS4fs7id+s9PzlwJUPlAWwbsrGGO6A6IG5noxvUNk+USBCPD5Wlr2E5Wo7z0y/DN\n",
       "NvuGT/tHTYD7Gi0ir325EuaIHglB5sGgWws3zkNNeyFfJyHY+F8wMlI+6sSCPI/JH5UKz7TMyvMt\n",
       "4osM6mNNzFH3shaMTKoZdJvhxnnokL0Q1yAXT6FCbtDT9kp5xXLKsf+yL4si5CrMteqI51Q05A3T\n",
       "5SEZSoYwR6lJTeUJb14/6Oj0Xj+Cccgq+keZhlz4hs2p8fSTM0fd5aiU5yzHuAxzRfGXX2cXN0Yt\n",
       "9gfP0Y8m4R42Bvyq8Wfn3uaVwUJSbM36MObI1atKa3nHNU/bfZOj80bvl8ONQ1YxDbvsBeCtxDVe\n",
       "CanGpHznJSz4qf3T68j/P/rBJMvu9OIDpnHnPfSXzx4+YCo26O8YFk6QEwm5cAFz5IrBdZRR5ff1\n",
       "mn+Y0nXaM85GhvbxTMNJeyHOQ9ANKf5t+QELO/ZpZUIwC7Xcz4qgF8nFZyEHCfLfLMATJQ3ZwIpu\n",
       "uj10ETaSLo4SZzP4iRWZzmxJvwWSHmmYcYpVrI9nGuo1uQBME9UhcytbPmDh3XXVjlw1mDChT2uC\n",
       "9hi5+ISZg8PEgAnTuP5vQMgUaAp6vXx6inI/IyqNQLsK80znfQCvhYRMbb+OapxqFY3uTEN2Ui7s\n",
       "6v0hlYIjH7yiJi5Nfm40DeoyhwbK8pbT0IAP0HA09CsD2bBQk9H/JbEhr2KOytBSoF2VGtP5dlqv\n",
       "2rnutujGYWSYhvyQk3jJji2ENIyOPGupLXGOesWTDzfh0JfupTd8fqAqL575VPle6tfpxt1o38Kb\n",
       "mBpq6pKIrK9grtJ0YFKBE1zndTZZe96FTATjMDJMQ64qF3Lb5TaQ0WcuqpNIApP+8AcfgRnLor8f\n",
       "41GduclHrryL7QQz/QCy4SjsOQspatdCLRSZU2agXXcxnXR4VJmEPS5kIhjnQoZqGFiXC+ujoyNj\n",
       "dwjcAciuSw/DnF9dn/EJETQ3raVu3c9DsOiJ8qKaEzw/wognrsHg9903MJ3GRRYSki5kIhtnI0M1\n",
       "aKtyYSOjeggyijxvKe/MssT+wqRdOOB8VvJFJrXxjEZ27cu0Bpz3QwZ3srXQOYFApgj5eYxMZONs\n",
       "ZKgGg0Y7g4e85DDUhV9ZKlE09GscGaXgGlWqwmST1sWW5TejSOKbqi9yG/L72U75Iv2I30pCKExs\n",
       "thw/I7ssWx17fUe8iSCz0ACNbrMzIyOPjozcHNU4aRVHhmrQKSi6QKaK7hzTbg8yc8N4z1RuPXIk\n",
       "whkPaie1IfknlsWpS4uaPQIyLdSJPUMjMEliqaJ3z4QZJ63iyFANBnUkYzUcGfAgs2S6vKkRfQJA\n",
       "bKiXFsZFGqiYfsigOBPJm2i4ma7xfOf2pkY0qzgyVINGqyptQ3pTGxF4QC2X0yTI5UncMaMjM12r\n",
       "lxq8dBC5KSjODAZr/hjXOQVwzu6QndwU1TgbmUOu3EQicBvIVNTYRfO+/r4HTzSiI3MX1MeLvNyc\n",
       "glBkTgXXM0vCQ0v6PlFXq/VMVOMoMqyPpxoyVbkQZDz1jGZHYG898wQar7OIPvrHNrzpbZA7X+MZ\n",
       "9l9tV3oVOwKL8TSvgfXTJ8d5IaAiE9k4ooH38VRDviwXcttN6MfIeE4fOPIsbvG+096kUfb7vK19\n",
       "LhyZMTz2utFnKiZ12kOs29o1DmlQ+6Z60d3mfsETwtfV2sqvnW0TmXcqvbZs5P0a/goqRrQh/16b\n",
       "f910d5Sn27SKaVB7bVI+uoz6TMspRN45jpCiy8TWkGHTtoyYzyQ3MEcBDm3RtHtwqlUdnQc9X55o\n",
       "0yqm4X57YaVAHrW5xiL88hzauLZ8ygn0X2O2lraETI5uhaSJXbXfJw0k1f4VfgHG8m+Rp3/C0fk3\n",
       "z5ejGoc03GIvrGvLobSQnydJdVB9PlKupOxUVR21RqScuK20OgcuVDFHN4c+e5nk1cRV1xxY6iy3\n",
       "nANHtarsngOTOjNzEV8ubUK/apOUz9lPQV/h+3wPbJXseYosqud85sCZdXynd7pe2KUC351uwTj1\n",
       "3QF8i+wF9Ob0n3RSlVa9XsidlH14r2i5M/NbRSYvy9uFMuYokKj5Kl+CmRrsRZVblPdN7dBZeyHP\n",
       "btNuHMWjGabNe1oNykKevfYCo5EZy7oEcdF0A3NE6pu47wN8nGzxcegS0TdxMKoGJJYpkygecvmK\n",
       "0vCuxWbAyjjmiP6j/PxGxZRuUJq694rYoh8W8xv3bHrF7JwBx10c0QJ3iNS8eOEA2mbXkGHt6DSv\n",
       "qHKPk+VF9uPNeMdPds6ASy7uM22AJZJmcuxZJctdQ2aaRsI5bsCXB2X/kcfl5lyzY9fXLmLul5y0\n",
       "2VW5l1/qGjB8c/TLN6hlkczvdzUowx27fm4Vcxfxowv6ZVH/ZLq3ZfhptISoG/IbfBBI6oQjqEzs\n",
       "3KEe+eq6r9p6S7NAt4uXKIbZJWT6yjJ1M36dl0efB/g7Kss6F/fqZcxdlC0Kd2ZFnVaEXLf++ZwY\n",
       "rL0gft1ZO0aB2L28jP2HyZVDQokdcZ3ckyOYFi/dNH5Sum89Sw398fLymW5507uFXWKPLvyVxtok\n",
       "KVhw08HkyiGhh+DpmAz4nYu76S/c6TfZSGfUsq51CRh5ur4utkD2cX83ZnLlkNA+KMTj78Ya5t56\n",
       "i1v2h+ehu/Qb2ZOI+Je63KLLoXLnkJCxDv2leB7NBcy99Hs+Kyl3FxjtmOyMZIht8WiYnB4Syt9A\n",
       "6CZtHZLxFH/1BuY+OYIFoKzZXWScfye9FPKXVO4cEiLI9DdiseCMi/ceJRuhcuWQEPGmQizeJN4g\n",
       "27wHaWAjVM4OCXFvii0Cp8uY9yK9OVSuHhJ6EZ6N5apTNcx7kfoaYXL1kFBix9lYnGkf5j1J+nte\n",
       "nXxLJF552bw36SevUr4V+qGL9xr9H61boizlDZRFAAAAAElFTkSuQmCC\n",
       "\" style=\"display:inline;vertical-align:middle;\" /></a></span><br>"
      ],
      "text/plain": [
       "sum_0_to_1_processed_01: |- ((1 / sqrt(2)) * (Sum_{k=0}^{1} (e^{2 * pi * i * phase * k} * |k〉))) = ((1 / sqrt(2)) * (|0〉 + (e^{2 * pi * i * phase} * |1〉)))"
      ]
     },
     "execution_count": 19,
     "metadata": {},
     "output_type": "execute_result"
    }
   ],
   "source": [
    "sum_0_to_1_processed_01 = sum_0_to_1.inner_expr().operands[1].partitioning_first()"
   ]
  },
  {
   "cell_type": "code",
   "execution_count": 20,
   "metadata": {},
   "outputs": [
    {
     "data": {
      "text/html": [
       "<strong id=\"base_case_jdgmt\">base_case_jdgmt:</strong> <span style=\"font-size:20px;\"> <a class=\"ProveItLink\" href=\"../../../__pv_it/_proof__psi_t_var_formula/5e60054d6bbfa3158d56abe55df775536553170b0/proof.ipynb\" style=\"text-decoration: none\">&nbsp;&#x22A2;&nbsp;&nbsp;</a><a class=\"ProveItLink\" href=\"../../../__pv_it/_proof__psi_t_var_formula/7150cd32bfa1f25cee863b689d700bd65a359d830/expr.ipynb\"><img src=\"data:image/png;base64,iVBORw0KGgoAAAANSUhEUgAAAVEAAAA/BAMAAACr0ebvAAAAMFBMVEX///9UVFREREQyMjIQEBAi\n",
       "IiKYmJhmZmaqqqru7u7MzMyIiIi6urp2dnbc3NwAAACKehgKAAAAAXRSTlMAQObYZgAAAAlwSFlz\n",
       "AAAOxAAADsQBlSsOGwAABzpJREFUaN61mmuME1UUx++23XYe7WyR+IpRNoQQItFdEDXEhK0P0EXC\n",
       "ViMxhMQWwweNJNuAZIOo7Qej0QR2DKAfdN2aYDR+aUFQIwlbjR/8YNwaHzGBZMdVE3yEsrAL7IMd\n",
       "78y9pzPT3nbu7E5vsp1p//fO/Dr3nHPPPV2EuFqkyKe/0418a4dVchTXexn1GZ8unU76Ryp30pMT\n",
       "HgZF5zl1wUdSdBc9Bsr8Y46kOXVfSY/k6PQ/xj9mL6/uK6nQS09eU3mHSDO8uq+k6Gl6bM/wjgjG\n",
       "eXV/SQc1etV5ryPcdX9Jg+D9a3lHPGmdfqQ21f0lFcCqBvOcZnoNzsSbe9RmuvLT9aKfqI/SY4jT\n",
       "UNsuWucjanPd35aFJZDzDsOZ5qTDmVaRjtI4Hb3C178/35y0P98q0hCkEQ/z9e9CzUm7WgWKIhCe\n",
       "shpX/0supJdaRirArA+mudKT681JHbq/TZmgJ5U41xTMNScleo9utVnfUB8Bg01wrRTTzUmJPqgT\n",
       "vxL/O9432eRqYU/u10VvF5jm6d2RbE5K9Da92i2counabvN16Mdb7e5sTzbDOxrcE+LeCL2SfI2H\n",
       "tNLZnJTqqQnLHsgnQobedV/Da29p8Pk4eBJFFq4i5HR/1tQM2gP7mNZIL+iWf75KNkLkzRyqNJpx\n",
       "xbb2KHaGMF2UC/QpSTi+nHMMvZNxuRHbUr6kb026gS7rVm4WNl9XkjfPm6RKSjc7BNOmLq0zj53/\n",
       "Vo0hVrIzbKfLHzUpcQpIZdrrDdbim3NZnKneNVXzwKr++gv+e/eDtAllkv6Afv/HWH7azry51UYq\n",
       "rkgCw3HqA/DQdSCNQXbN8j8XbwX9iO5c/yPwuKTtaAip8t/4/RAmFcuoiMqojI+hLy17M55pMAMM\n",
       "w8Qf2sHnUyolfQ+6M55fj8tKBnpUdzpoB0znuIqOaSggYYxjWjAtbUVFJYeK+FgZsJ6CQdqRA4Yg\n",
       "MbLgvHUTQvoWzFhnPUmfy36rqo9NOnoW6DsloxjfZTwar85+XEaCwfNsNKnZSUdVYKDhIwCrTleJ\n",
       "klbtekM9ie4Sxap6UHdUUE7hv7c3ZtD4px8bAAeiiSrpzg+lV4w3t0lJh0f9XGWQiZG3wTQty2FS\n",
       "8Ys0KsvUyQ4uglTsc2QAS/EnG19/EPXpZo/1xJ9NUqHnIdM07kY3Oex0DTq4nzBEpxmkMSEhpuVp\n",
       "u0vt22a0JzySVldU0pbjGyVRhWk7L9R/ZPj+FeHQJsJAN+YRSKayaUz6SSQZ1lCCVL8ipdoriC6k\n",
       "Nj2i99qENdhD0ijAzNdWMUmF+e+kDYRBmWOQqqEiDlIZUv2S6tIrkeYbuqMZwmWHbsaSWWddoYB7\n",
       "MotK253bm25CGtlkzonBIBLSGFxwrGh41KAaQ2KR7ICFciPSRiUOu15JOp9p4dCFCxyVGrNGgknb\n",
       "738JUQZlhkW6F51HskpIg1qtnYqTLrNv009qNbPvYU+NSYdzo3nKIM2zSPfgpfl7WlUYX4Tvo6ij\n",
       "fnUDNrPe2hSoKWm/OpwrEgbq+047Rd9q5XCJkv62GNKCY4U7iZ/3U7tPFflJl6LhfJkwhBMsUun2\n",
       "1WegUpN0JS2AR9XH08edm3VsoZHUAx5mfxWSD6iEIRJnxFOMmoOaksAoMvSh5olhVQ86B4dKnrZM\n",
       "1azPZKDrfi2prAJpgGFVKYf3Sp0N9eWInUt5JDUZaC4VmLEStnOQ85nVr8OuWV9bqZEesYKkYH6n\n",
       "xMJITYadNH5BLpUiuZRc7f45K1N2sP2BlIG1eZa+y5qP58zXWxZGajI8Qy3oomViXzm6swoAI471\n",
       "8GUcRGJzDN0WooSEfR/F2eS8jQH2UR0wL5NcBTS7vYnd6A6rYGDXK9UQJWaJawneDJW1N4VFT5ni\n",
       "Kg3aH3QkZ2TOy7Q63QpR55dBSrV7waT7a+4dneAqn9rz46MI3YhjRr5OD16+x2zbcDo6hfxq/dQK\n",
       "wlwFpHZ7QfhX4on1etaWaF3xjTQLcWXGSxFTKMEaJs0yi5wtaD2wqHCVz8P0EZ3Esyybs9EeZ+mt\n",
       "aFOs2ljjIuZVsjgNzcDmZQ9Lb0WTYGNW4AsjG2nwmaD7n3CcqbegyWCeI3y1zDG6sGc1sqs4iBSN\n",
       "pfvfAhD4V/D1r9BQUcmYsVwq05SmVve/Dcet6eQqSndDYThoEP41MLCvXrcVbWNnyz6Rwu9H4Rm+\n",
       "/mEahqKzZhkupeuXGfoW22b+G59I74VnwflzrAgeuG5DY91WtN2MOjRfQBWIf5U054gXoUYSb6xb\n",
       "RVtlGoVyvpDG4NuPcRs2dZmg1lg3iraR5bitlKZRe9ofh6L3Fbl/NpIT7rpVtMWkIX+iAThuhP+/\n",
       "Bna461bRFs9+hy+zr0DCXuHfO45qrrpRtCWz75tHtYFbLPFg2t2uuq1oexp97cvk76LrS7jXw6DV\n",
       "rrqtaBs7u9+Xyd9MT/7Mexh1NL84fSEtCAHkPk/fL784fSHtfVhYiD/9D1w2aXTc0HrdAAAAAElF\n",
       "TkSuQmCC\n",
       "\" style=\"display:inline;vertical-align:middle;\" /></a></span><br>"
      ],
      "text/plain": [
       "base_case_jdgmt: |- |psi_{1}〉 = ((1 / sqrt(2)) * (Sum_{k=0}^{1} (e^{2 * pi * i * phase * k} * |k〉)))"
      ]
     },
     "execution_count": 20,
     "metadata": {},
     "output_type": "execute_result"
    }
   ],
   "source": [
    "# finish off the Base Case\n",
    "base_case_jdgmt = sum_0_to_1_processed_01.sub_left_side_into(psi_1_def)"
   ]
  },
  {
   "cell_type": "markdown",
   "metadata": {},
   "source": [
    "### Inductive Step"
   ]
  },
  {
   "cell_type": "code",
   "execution_count": 21,
   "metadata": {},
   "outputs": [
    {
     "data": {
      "text/html": [
       "<strong id=\"inductive_step\">inductive_step:</strong> <a class=\"ProveItLink\" href=\"../../../__pv_it/_proof__psi_t_var_formula/a47da4c30c52c39d8f62fd65f73d42f530ed62240/expr.ipynb\"><img src=\"data:image/png;base64,iVBORw0KGgoAAAANSUhEUgAAAzQAAABMBAMAAABJxe91AAAAMFBMVEX///+IiIgiIiIQEBB2dnbu\n",
       "7u5ERETMzMzc3NwyMjK6urpmZmaYmJiqqqpUVFQAAAB6qHgnAAAAAXRSTlMAQObYZgAAAAlwSFlz\n",
       "AAAOxAAADsQBlSsOGwAADnZJREFUeNrVXX2MXFUVP/PxZt58T4sYBaRjpQKWuMuXFkLYAQKKCn3Q\n",
       "Bmks7iSFlTSQLq1iDMJOK64oga6VYtXIjmCI/IE7NEAJW+g0pFCbQKcIFm3DrhK+4kfpx0K7tn3e\n",
       "j3ffu2/evTvz3swbfCfpzNmZc+477/7uPfecc++bAgSVEhW/VDy03Aap86RMUOl531Se7+6NXC1n\n",
       "gkmZ8/1S8dByWxSpSZlg0qKaXyqLutwxycNSJpj0vm8qhphaRS9F9G9Y8/lW3pEzQaT4tF8qTCyd\n",
       "Ry8InvirfkOzti5lAhmfjfilwsRmP0ehgbDf0MQKUiaINFHxSwWLLb76bQiDAxrlT/54gP1SJoi0\n",
       "zjeVdQSRjbAE4Ovj88crHDS3zfbnZpbJmQAuNfv9UiFi07B2cE/a6dBe9ckF1KVM8Cg75ZcKEduG\n",
       "oLl3uxEGnHCV39DkRqRM8Ki/5JeKIXYp/atq/9InaLIfSZng0c66XypULG6UsYpdgSZ5SMoEj1Zo\n",
       "fqlQsYY0Mz6A6GbfoIGDciZopBzwS4WKqVW1LPrWL2hWDEqZoFH6UNsqK7UZxIa/f4fWTWjmFKVM\n",
       "4AK06TZVlH+OajOI9em66Mu7Ry/x536GRqRM0CjyQdsqc7ROtdyJ6HlKygQudi60rSKBxkPLHaDE\n",
       "tJQJGk2U2laRQOOh5Q5Qar+UCRptKbatIoHGQ8udCGs+lDJBo9F62yoSaEY/luJV/KCUCRr1Dbat\n",
       "IoGm72PJJxRdygSNdK1tFQk0vNiobpHPrl8flDLBIlVvX0UMjU1swuge5Wen9jX3L+l2+rKnLmWC\n",
       "RZkD7auIobGJZXUzkk7be2oHecV7oVxGxAcQ6c+2ZJVZ2B7NS5lgUehI+ypiaOxiPcet8JYPqjNV\n",
       "o2M3Sq93YUtWDTNmX1HKBIuiNLJUJV8PylUsWliGpmJDes3kn+E+X0Lf8F6ozH9yRQVVbleaTY0t\n",
       "k1ImWJSlozlaEX/9HbmKSf/pe6jWVCykW2f10tznt9C3bQQatUcnYokakYr/gryXVpuj3jRTYBc7\n",
       "3bxwRMAQcPYGC5rYf/l7djjlPXKVFltmtEK4qKm9jMN7od+6vkZQIND8Ae7/Ce7c7KdeX8BBoywr\n",
       "iO06lQFREDDP4vcNwYImYYPG4ZTDcpUWW2a0SK+KyirsivF5sBi00I/R34sRNEoRDZMiFNF75DOW\n",
       "+8JmJqpiu/qNFW8OQ5tn7sLDoBQsaMKHOGgUx6yJ1qUqLbbMKKkfEwjlmIca1mBVGWJx1O+ryola\n",
       "fAHk1Trk0fvacWthwWbm6mK7EoZX3cnWJp5JaOJ7+X+mCA9NxrG6ikZa5JCblq1g4aAgkBsyPjP2\n",
       "QoeTk2YvT4YggzvzxWShzEMzpontYoGfEJo0ajERsDAgsp+DJur8foNUpcWWrVGtC7a08EHBb59T\n",
       "ZXuhTyR7TWheuSv+JP7j7/GCLQy4TGJXyPBfEwwRG3PO3LnnBQ2ao+yer9mMoHGcqXxNqtJiy1Zx\n",
       "q08w295Hn5+z92K2F7qexlkEmszol8h4uRn+ZVtrHoLXnhLZlZyaCZpNADcFDJqcCU3xz7DUmT3S\n",
       "9XbjXExftKm02LKzWMPTAIrACrBWmLNuFeRKKEI7mnnjIlEcEDfOm40xRGzM/aB6zm7e7V68zHdE\n",
       "7phxz/H6RtgOEc5VLMUOKOVMeHLHWoOmUSylO59RewjJ1SAmyovgViE0mcOPxzdQu+yWqsZm5hDb\n",
       "b7YxMU2WujVP/Wpdg0ZdzyfR24x7VuBsFK2mQMFjLYVH4SycF8SdY81QyelOIuO0f4QX44s1zkVq\n",
       "Pq4T6LqwkmJ/Qpa0iro3dRGZe8iuBksVA5qlrCdtTCbvOQp4sotO7Kf82J42h+MUguYayOAuiJF4\n",
       "Dd9wxtlruSZ77eGqRGxtQTRrht64554WNiZIq8jM8G82AbWrwVL1o5lmDYxs9dhbyW6mQ+mqwKFB\n",
       "agQlEieqlz4wyN9wouxcazw6NDihLHRoLurCyMz++tggsavR0vjhGaG5ar3H3rpWOG7etjuiaqeW\n",
       "mV8LoSmltWQFEnXbWBxupc9bgyYpOBf+DnJJaAUqtw7NTq2/nid2NVjKIrQhtvrbmR95jQLGheuP\n",
       "3eJ0+9sOcTp0VoqC5+SCKN48yWm2G76qaVR8r5EQqTc1ibGHBNn4CWiN+NyO2fnWoXkf+geLxK4G\n",
       "S9O9M0VokPW4PacIT7Etb0jPnmvfl/2FZn8VATRw1xWz0Fh4BODpgWUDAzV6w4Wm0Gw1FuM75zXJ\n",
       "a84W2INT+1TPz104tFsh9IRG7GqwNDU5IzReKSTyVUluCiZ3PWuF8qr35ClLRm7GWtnCFjRwJ+ZO\n",
       "VXgPnhEYFrb1eWh+nULTEFE1iBllSQfM7iJaMwDGdtktNWtoHYbGtJDv9TDnzyLQz3adnOPTjUej\n",
       "s8DaO0lwhZoTMfdEVONuOCZYBRL2GLgAYmgaxHB26aRU0Rs02C67pWbleYIVnJ2MFxoT9fqLfAgA\n",
       "q2BPWhzxC29ZFvHRPO5GKzDgypukm+54yfDg6pWH8tZw4GMJW8FFGYHo+MbxZx1W2cUgZX2d4YZK\n",
       "rzdoljgshVdYMbMgZRqJjYsq9wpspBn0aVGehXox8eHAwMA6fYosPOSJSFMoQ8bz4ydbHuEHXIMZ\n",
       "/mrGlcha+1fCXmF5OG6/xlqMY4w5ReQUbRsxmWpNPGvsYvCCNf9e5j7+tzdoTnFYCmcY73NGpIyR\n",
       "CoA6/2vwwqQFRsl6JV4xzQUsN4qgQYDEyci7Bi2gKRJgqOPjbHzSkyi9itiPpmrG1fB5FONKpP/o\n",
       "tB+zBOk2ccgev5jDRhRxGirImAfxpvHmMpW/7by6UMwROWf4mbLE3Zo82GhXyhG/LixJGbQqIDvf\n",
       "WQ5vRrWUJoQmz31AaFoADXGg9MlqlL5fHrKXMBRqXJl4hMcuuKBKUxClniE+PXHPLOMSF5pXSuL5\n",
       "GyYN9lu1XPcHgpnKMESnBR5A3LL1eyTKFj4eyBShM2QmYGbzTgb7jBQuJuzNV6MggkalZloHS9SP\n",
       "BNBEceenyIKd1BI6t7WOxycrO8YqKF+rFItoNRpG/9LwQ9R6GXL3XUevRs6jGFfCSU2WdIX1U1Rp\n",
       "94edmMp7AOcyW2cQa4ic79tnL0Dv6BA0TzFmRV7K3H3mV6gr3P231VHjVyZ4aH43mdZOZ7masRhO\n",
       "8b3OfDXpRNnvWqBIWnnrl3gfQi2AUizBGgTNGghBLV5Bnwy9zRwaPo9iXAmnj1FiRthcVpLuz2oz\n",
       "lT4N9pWBr24KxaiTP/IrQnP7dP0A+ErmKXgnA78Fhdz/7ugNv3fOGiU/FaJxUgynTAM4ZUqKFowY\n",
       "6b5FJWmJMlF8GKJanqyO84wpHf1e7bv460+suZ5ek5xHMdZKfAwlRJbEhOlG2jhY+w+AfYPNxahP\n",
       "4QA86i805il4J4OW7yTxF7uh+kknNOoNhRC8hAdyxvQqGQc0i9HIJl/LfnPkUZwNZwdHyYHVDLzO\n",
       "vO3szxNEn4m+jNso0fMo6Eq4APcodjMkkIxZ7l4vu755S6XHeOcDxXZa7gSZp+CdTLIX0g8ODNyK\n",
       "oFmcEKw12fx9KKDeinrdHLq0/MNtgODTJRQa2CkumL+JYsK5c50dkrVY1EaJnkdBV8IBzO0suICs\n",
       "FXn1VFzfvKlijhthoOih5Q6QelDKQGjym7TTd0NyF5fXMGjClW1qDZc3UmXm0PhZY9aXE3Q9MApn\n",
       "TzdYcDtLUZxrEEcleh4FXQkX4LBDS480zJp9Ndd3b6qEGcJlUerooeUOUPKIlIFU/nJ6QmCHdaLQ\n",
       "Pmvyd5PyxnVWcx8I6ssxgmm6aK0ThFbvKhsQhPOZZi6jRM+jXEchm0UGjn2tgTnutxpMFWu8xCoz\n",
       "iHWVQoekDMQ3D8Iw9iJnlnn3YkKjjN9Yw+UNOEkQoXH15RS5sz8af21m36+HEaOIpLx1sdYUGnIe\n",
       "5SSa2t1stmpFaDDm/ql6ppK23OKmGcS6S9ljUoaG8VcMLHd2k/GK0xpc3rBiL/WwwCMR1xMnQiEN\n",
       "Nqymvan0wvlm/tiUSubbnjSNG6mbzFm+pt99WZapvAbsN05ooCgR6y6Fp6RMk25Cr2mNlDeSeVE1\n",
       "wKpckGRxCZkXjwEcfr0UxVUalLOc3pCwNr0mvtK92/GKg0AhnZmzgt6w+1/bNVTQihoypu2oXpCK\n",
       "0XFmPb8UvaToJzT9vVKmOTRGySWriWpoXH0Zl1jweR710aMQP25Io1mzwBioLUNjXInk3SvtlW7U\n",
       "jvs0w1BZMz6+sQUx62YobSVBvG80MSllpFTmXkknCyvPXH35ZLQynEvofAh9dV6ZzBq00hguvBVo\n",
       "yvyViAI9uXMlF9Ecdx8EUZUeXT/SgpjlAih92Zi5PtG+upTxRGOiDyNc56fK3zAusHpvWzdGT+k9\n",
       "wGfPHhJu12LW80vqFET8PLLfJ2c8kbUPy5Wioj745BBd4Pj1ZYv78wwtqnBiuF6UwkncLSgaDfuY\n",
       "8MSPSxmPPWa6Q3wIgNEZnbf8WloY4sPaMfcjoEUVTsx6fglBE/HxieTQMSnjjRRzGEfIdg+llZ3/\n",
       "LfH3aOzEe5SI+53zFlU4Mev5JeTQcj46tESvlPFI46xIiA8BmDNostOG071S+y/4hdz/JlWLKpwY\n",
       "rhdRh+ZzGDBUlDIeaRGeILRIuLwxwOpk7Y++nW770IMvPu5WjHt+aZZZ4fAlQNOkjEciNQ9SJEz5\n",
       "/4Mqafs4Wuje9hZVLDHu+aXoJU/5d2vKcSnjmUiNDBcJbYcA/KGHG/Jn9zO+RZX+InSZQoeljGfK\n",
       "4vB5E37i8YDf5jf+124h979N2aJKqOu/ehmpShnv9K6kSNh5cpzIPM19G6d1VKxzZD7w6GTaImGR\n",
       "sAs0UfZLxUPL7S01R6VMMEl6CrdtFQ8tt7cslKRMQOks31TO6u6NPKJJmYDSKs0vlVXd7ZkvyJmA\n",
       "UrLsl4qHlttZaioS5n8x38SvmtB21gAAAABJRU5ErkJggg==\n",
       "\" style=\"display:inline;vertical-align:middle;\" /></a><br>"
      ],
      "text/plain": [
       "inductive_step: forall_{t in NaturalPos | |psi_{t}〉 = ((1 / 2^{t / 2}) * (Sum_{k=0}^{2^{t} - 1} (e^{2 * pi * i * phase * k} * |k〉_{t})))} (|psi_{t + 1}〉 = ((1 / 2^{(t + 1) / 2}) * (Sum_{k=0}^{2^{t + 1} - 1} (e^{2 * pi * i * phase * k} * |k〉_{t + 1}))))"
      ]
     },
     "execution_count": 21,
     "metadata": {},
     "output_type": "execute_result"
    }
   ],
   "source": [
    "inductive_step = induction_inst.antecedent.operands[1]"
   ]
  },
  {
   "cell_type": "code",
   "execution_count": 22,
   "metadata": {},
   "outputs": [
    {
     "data": {
      "text/html": [
       "<strong id=\"defaults.assumptions\">defaults.assumptions:</strong> <a class=\"ProveItLink\" href=\"../../../__pv_it/_proof__psi_t_var_formula/63818d4a945ecb5a2961b173c3caa6531332a3ca0/expr.ipynb\"><img src=\"data:image/png;base64,iVBORw0KGgoAAAANSUhEUgAAAcUAAABLCAMAAAA20myqAAAANlBMVEX///+/v7+urq7c3Nx2dnZE\n",
       "RESIiIgiIiLMzMyYmJju7u4QEBCqqqpUVFRmZma6uroyMjIAAABMl2BWAAAAAXRSTlMAQObYZgAA\n",
       "AAlwSFlzAAAOxAAADsQBlSsOGwAACiFJREFUeNrdXduCoygQdZer3Pn/n11RY4QCwdg9U1keZjqn\n",
       "U+miDlAXgUzT0YKfMLZHaiHt03UjQvWhyptScxZllx6phbRPvUbtAERrfTNaYezQI7WQ9qnf9DwA\n",
       "Vd6kKhiC9kitUpi4b2HRR9KHKm+yAWV3HqlVCs/8ayajZQMQQGREGQY8UqsU5sKZrwlwoulDAAk4\n",
       "p+IjtV7CilJrk4MUtVV3xtlzJgagAjE4p+IjtQ7h5A3d0l9V4UtyLlCyKCPvQwUScHblkVqHcGKT\n",
       "RDkZN1VCJYOz6xPTA1CGVIhHOh4/EZ7VxiJxM/keFg30jBDKEBtR5lWP1MqFaZMrrCxOMQxAJ0RF\n",
       "hjJXfKJWLiyF+joW7bJ8dKETMkeUEfgjtTJhwk4kSvZqBDWLPtI+dEIYzgX1kVpn4VSzIeTb5uIU\n",
       "9QB0ICqi7EhDrYvFsSFMmJTSqa9jkcElFUIHMsOpi2NBhWop68LQDD0L65hao0ZCQ6RIC3McGgBC\n",
       "B2JxpvwNtfgQi0j7dDNXCn3oQHRE2YmGWmMsIu3TTccIuwqhHfkutzjGItI+3WwBLigQ2hGDM1ts\n",
       "qTXEItI+3WwO1q4gtCMOZ3DTUmuIRaR9uh3fsT60IwFnzt9Sa4hFpH26Hd7oPrQjGqYlOIIb+TmL\n",
       "SPt0OzSIfWhHIs7KTUutIRZL4RAb7UGqOMs/YAPZh1aERJRBeVOtERaBsIlF7xXx3OpYKXJl73rt\n",
       "EqjO96brncUP1REEdAwQWhHzOCj/lZ1lTbVGWITCNtY+b66YafZ5z9wH5tH+ZwwZ4FoBoRXh8enG\n",
       "k0pQT5oOe/RDm2rRSD4RFjHWduG6UnlzNuVrl8DtdaSBd4xBGBh7YL5DaEXondRKichYSJOB6vga\n",
       "cRV52hqMbNQkDbXssgwGO98XlsuaWhNzuWnzvTmvXQKbjcXmSl8C4fi49IMM782vM5sIp32rAGOU\n",
       "Wy0dHHkQWhEbb+2CZ2bydouNLuZipi9vDfWrdlOtvjA/EZBZLu8eYPq1S0A5RebpxM3Bol8+llgi\n",
       "jwFgOTFKk4ZVFNOiZYzieQ2FawqEVoRFl8+26wXLLr+nq/56lMVsVI56mUKtm2t8TZjFfgRAYIKW\n",
       "DKuWLiz/caLoHvXsLK4/8L2PdH89aW6qvuNlleBaxuC2IEhAFkUNCXmPTSd4sGYhLZBdBZcemev0\n",
       "z9xkUWXLBB1Mx8MTFqvCaglJe5/pKHBVyRxym1hsktsHrK8Ti+sPS/+I2dhcX5PoXNVxvKxyhFTA\n",
       "GCq3PocxNIRWROTusgjJOBNLO01iS5bFm4TzQOrMRSMvPXgzyH5QQ6sL+2VN7Yyhstac7RJYVPe2\n",
       "sqLabToa83aLXtQCvN0q/qAKGiPMeXUtwhJcrCE677E4v/KBlzPTksnKKfnuURYLgwYyRIR+wmJD\n",
       "mC75oboueW2/VlYLN5W7BByfvK4YfLbSLrOUvt3isg5P7eiG6rYx8pj5DovvFc9bFpk9XpMA+7yw\n",
       "mGhjvs+i4m7eWDzvvzZ0kAj+hEXeWGmv06pdT6WFmbUtdwkka5zCj/e0MSFq9h63aVeWndt+Mdhk\n",
       "hXVwAGNwXRQrYCoca4jOAnATO9Mmsbh4ByVUl0U6GZ0OQhSZujgv36dmCyLmJyzWhZNrvBpE+yEr\n",
       "K9akb7wwOXgYa49RF+WMIVtiIsCqrz5iMU+j3Hms1sZtYnGazWTem8tdXV9pVie77sfWp0Hhhgob\n",
       "8QmLTWFQiSvC2G1AbtJsXAFmbrBoIvFmyS/JyRjHfJGZeh6yCCG/sWgablHq1zRhBYuTVZPVHX1V\n",
       "Crl3t+hOCaa0Y0Tcebak8pWyLewuXWOwrwJBauOO+Wpb3km1jUWnT6utLHJvksVXEj4SgNCKxPjv\n",
       "+U+eUwTWmouL+5+UGBh1amNxTTZMuOMYM7XSy3o77OguhItKXHv52z5FRkNS+6FHPW/VNquIcEpE\n",
       "NmOYUCVg+geyCKF/NhZN4RbVVYa+sThJPrEui2l53jIpNREqApWFt73wi/HJc94LYXKV+m9zcfqt\n",
       "s0dbzLfo5o91MxnjbZqyantnLprcLb7zO87bhVAuIYuqZJFtpUi/vgrmTsJ4zWLnhP6FMNeky6Lb\n",
       "Fl3yKyzOi80Tk/xkjGDelJCcoEo9uIZk8Zy1WaklQGMckAtdD+AXi9HjWc8+hgaLN9cxaicobAv7\n",
       "yycU+0F5JfTsueC/wmKKg9WiBT0Z4z298hh1PLrJekzYfO6/ssxn81emzGj/HYxgxeHl98xIWso4\n",
       "30bXK2EeLKRestg7od8Ultfr9JGtORED/50VdY1nudvKKSIzTRqeevqIRXE56D1leQXushlV1m6k\n",
       "ORV6lRx/qHGtlvhMWOlravzvbl4Bz+t2Y+ymWYeP/YzF8IO+nAJ93xU8xyeqtsLGSLtUS4XPhENv\n",
       "CGn/R1ncjbGbBtZRDayGQ2hF2M9t3Xy71EPf92dLl9IkNTqtL9Wqn9DvCrNuYOXon2TxZYzNNFto\n",
       "ofISqYB1VFFDbPyxfTMc6lvOCT5aEAFqEefCK0Cun9C/EN6dXW29zByl1H+SRWiMOU+3KjtPILQi\n",
       "Lv7CjXe8FQkO/61SrTUmp4Mnoap9mqs5xpyHO/Y3dyOXVoFKFo/oKztPILQiFOeRhlKtrdqg9UfC\n",
       "7RzD6Hse93cb3Hfj4AB1NWSOKC9fKtXSq8ewKSkuq2994al6JVfaSwNsYv7iAQ9QEGEwSoPQivio\n",
       "MbJYqrU+LardOzEiXM0xiLG1Jxzz3zu+Ck6tV46bQGhFvmpvuFhBb/j14y0oHGI4NyG2B8DIjzlW\n",
       "jptAaENiJBh7UFNrv09Kn5/lDAm71jORGTWLNw4TC5xH4Gtq7c89SDclEP+DY/1pSdF9aEcszgFZ\n",
       "Ueu0tYj5u8Jf2DwM0iC0IzyivIgZqnVKiZ28K/yN7c5VKR5nqgHUWnOAbXMoVRO/O4q/sFkYokJo\n",
       "RxTOILVUS65Dbq2uh25wibRPt0MD1YdeiMAZpOZqEeFSEx8Jtw6GUsoR3+KgYHADoQOhOEOBXK39\n",
       "2Fn4SHiqP3NKBS+P90oVA6vBEDoQH1F+A8wjtUrh6sFQvabLBCuLd9zi9G1XiH0kXDsYuu3+1mjv\n",
       "VKn0H0JvxOG8V+SRWoXw62CoO664nfezNQJrZinhWgShE+Jx3tT0SK1CuHYwdGNRY/3CGw4XVAid\n",
       "Ea1xLin6p4SrB0O3FRXtLVVBD0BnhOMsOz5SKxM+DoaeV1Tc0Y2EKxGEcgRnlPpMrbNw/WBo2vvu\n",
       "sX5DY+VrKCBUfN0EzlvEHql1Fm4cDF2yfof0GxoVHMEQKhCFM755pJb66ts1OVzpIVQiHOdkfKQW\n",
       "0j4NBmduAAKIwDlwH6kl6BdPRdWHIGJwxmqP1DJ4q2tdbzD3ocqb4L12ONojtdy33h7+2RfarusP\n",
       "zlLUI7XEd27c8PDuAQj56gUFEufXoj9SS37nV70LPwCJeknE4/Qij9Ty3+gZlR+AMuQ/mM99lfc7\n",
       "FHcAAAAASUVORK5CYII=\n",
       "\" style=\"display:inline;vertical-align:middle;\" /></a><br>"
      ],
      "text/plain": [
       "defaults.assumptions: (t in NaturalPos, |psi_{t}〉 = ((1 / 2^{t / 2}) * (Sum_{k=0}^{2^{t} - 1} (e^{2 * pi * i * phase * k} * |k〉_{t}))))"
      ]
     },
     "execution_count": 22,
     "metadata": {},
     "output_type": "execute_result"
    }
   ],
   "source": [
    "defaults.assumptions = defaults.assumptions + inductive_step.conditions.entries"
   ]
  },
  {
   "cell_type": "code",
   "execution_count": 23,
   "metadata": {},
   "outputs": [
    {
     "data": {
      "text/html": [
       "<strong id=\"scalar_coeff\">scalar_coeff:</strong> <a class=\"ProveItLink\" href=\"../../../__pv_it/_proof__psi_t_var_formula/b725c720a054b6d6127586d7c25d3eeca8e4857b0/expr.ipynb\"><img src=\"data:image/png;base64,iVBORw0KGgoAAAANSUhEUgAAACgAAAAvBAMAAABj1ZXmAAAAMFBMVEX///+qqqq6urpERESYmJgQ\n",
       "EBDc3Nx2dnaIiIgyMjJmZmZUVFTu7u4iIiLMzMwAAAAz/ewvAAAAAXRSTlMAQObYZgAAAAlwSFlz\n",
       "AAAOxAAADsQBlSsOGwAAANRJREFUKM9jYIABvjsMGOD0yj+Yggwcw06Q/RumGPfWn1sYhhr4jwVQ\n",
       "yWi2BUCiAIiTDyAEWRqABFCCTxZJsHchRJCBF0mQlwGL4EkGhqpVt1YpoAhKsWBRmeUGtai1EMxd\n",
       "aQeTWQB3oAFDvQKUXQCPxQQG1gAGfqTg+MDAwPqHgRsjxrkvMHD/gzAVuxSQHP4BQgfwfEAIvm+A\n",
       "0Al8AQjB2zAGM0I7lwGMtQ6h0Bue7g40wJiMBQxpENb8/xdggs8ZGHow4uHWqlUX0AV5gR6bgCYG\n",
       "AL2pXVIgGVzvAAAAAElFTkSuQmCC\n",
       "\" style=\"display:inline;vertical-align:middle;\" /></a><br>"
      ],
      "text/plain": [
       "scalar_coeff: 1 / 2^{(t + 1) / 2}"
      ]
     },
     "execution_count": 23,
     "metadata": {},
     "output_type": "execute_result"
    }
   ],
   "source": [
    "# for convenience for later\n",
    "scalar_coeff = inductive_step.instance_expr.rhs.scalar"
   ]
  },
  {
   "cell_type": "markdown",
   "metadata": {},
   "source": [
    "First, partition the summation:\n",
    "$\\sum_{k=0}^{2^{t+1}-1} e^{2\\pi i \\varphi k} |k\\rangle_{t+1} = \\sum_{k=0}^{2^{t}-1} e^{2\\pi i \\varphi k} |k\\rangle_{t+1} + \\sum_{k=2^{t}}^{2^{t+1}-1} e^{2\\pi i \\varphi k} |k\\rangle_{t+1}$"
   ]
  },
  {
   "cell_type": "code",
   "execution_count": 24,
   "metadata": {},
   "outputs": [
    {
     "data": {
      "text/html": [
       "<strong id=\"summation_partition_01\">summation_partition_01:</strong> <span style=\"font-size:20px;\"><a class=\"ProveItLink\" href=\"../../../__pv_it/axioms/71c1fc00120f763c694cd99d32f7a5e7315b9ca50/expr.ipynb\"><img src=\"data:image/png;base64,iVBORw0KGgoAAAANSUhEUgAAADwAAAATBAMAAAA+KHOiAAAAMFBMVEX///8QEBCYmJjMzMwyMjKI\n",
       "iIhERERUVFS6urp2dnZmZmaqqqrc3NwiIiLu7u4AAAAqt126AAAAAXRSTlMAQObYZgAAAAlwSFlz\n",
       "AAAOxAAADsQBlSsOGwAAAOZJREFUKM9jYMANFjDgBQmkS/PdT/Nj4JSXwKWbbUM7A8N7uG6+O6jS\n",
       "7Hc4FRgYGbjS0sTSkhgYuP+hSW9j8GHghevmugARDrt71wEsfSjgCJI07wSwbEscTPeBYtYJcOn2\n",
       "/PQAIMXjBzf8ABtDBkL3frAgywGENPOCt2/hobYEIo1w2gEGbe5EOPcmmDS8CwQJUGn2B4XwUPoB\n",
       "pp4h6+YreAvjcX9geAByP7I0gykbjMflwG0ApFgD4IEK5LKawRUXPAXT3jABlg1w94I8nKQApp9n\n",
       "PADTzP5iQPIJRkx15kICFQUAALDXOQj7yj+HAAAAAElFTkSuQmCC\n",
       "\" style=\"display:inline;vertical-align:middle;\" /></a> <a class=\"ProveItLink\" href=\"../../../__pv_it/_proof__psi_t_var_formula/bf94f0d6c45d209b0954b7684c521f20c19961740/proof.ipynb\" style=\"text-decoration: none\">&nbsp;&#x22A2;&nbsp;&nbsp;</a><a class=\"ProveItLink\" href=\"../../../__pv_it/_proof__psi_t_var_formula/c1baebd82628e3320f22840478aefc84c688e8a60/expr.ipynb\"><img src=\"data:image/png;base64,iVBORw0KGgoAAAANSUhEUgAAAzYAAABMBAMAAABNMD9IAAAAMFBMVEX////c3Nx2dnZERESIiIgi\n",
       "IiLMzMyYmJju7u4QEBCqqqpUVFRmZma6uroyMjIAAADVePneAAAAAXRSTlMAQObYZgAAAAlwSFlz\n",
       "AAAOxAAADsQBlSsOGwAADjdJREFUeNrFnX1sHMUVwGfPd3vr+w4pLaUgnxBULR+NkVW+pCoHgrYU\n",
       "JF8REUmbYksFpJSIu4rwVUSzpGpRVMoZSBpoi3wgoRaKsCv6RSvha5OUUIJiVPoH5Q+7VVFKoTgx\n",
       "ju3Ysbczu7Ozb2ZnL+ckMzuRdc+369vfvTfz5s2bjyBEyv+QxmKsb3u5MC4K8cFoQWDldFsClRvV\n",
       "iYAuaHv19ZAQH8zrWvWSGJVAPWdrZeiut7mYeUIU4oPRhMDKrjCUtUsvQv5wm4vb66IQH4wmBFYm\n",
       "SiGo7KT3ehZpV8TdXaaY4aU2114RBKMVHwxEKOOf1Yr9S7Y3BFWjPd4W0vXgn2+tV6yOnmbkJXNJ\n",
       "ENKV2GA4BGwf81nFtjEWQlAfei/JjU3PNki1bbqq0ZHRpCBc89fYYDgE0nZSqvvlz4tQGVw9rHP+\n",
       "aKMqCtnmoUkVCOZM5KWRcSBsu+D3KIVig+EQeNtY31Vim1pFgCpUiUlyVWsSJfbv3f8GsI15dVUJ\n",
       "w+WRV96FQgvtRY+g2GAAwoX7N+4fB7a55Ro1bXhIgCLGKo4bs5lWPdRuMmrUMdI8XiV2hSXUM/hC\n",
       "Oi4YHkHwac8qQcksCFBj+Ilp25g1Xi15trnlsaZidRSjvFN2Hgr3YsWc9W0UEwyPQGKBa89XbBu0\n",
       "zENZH3mDUu+L5wRDqlFHdjbiQqOXF86LEYZHEEJ5RbYZG+Sg0l47utVrrwkttslPR1zY2uQEc32M\n",
       "MDxCWYttJsocVJfrRsTx5jf7cCmpUgc6GvH+WpsT6GAvHhgOgXVCBOViZbYpDnFQjaqXE1gl7ZwU\n",
       "qWPtoPRt6wgnGC2jFBuMFEF1u+ma5aC2kmZkXHLbPp226S9L305Pc8Lq2zbbscFIEVTbJjnNQY2R\n",
       "0V634xySJRE+N60mZVKTx0bZJU4Ydpz4YGQIrJw2da4SFHOZgxpGMZTivPTt7kOiEB+MVgRWHBtA\n",
       "MRevtRSW5GFrVRTig9GKwMrUOIDKfBQHQk6exBrpFYX4YLQisHKgAqBy03EgpOU14kBZFOKD0YoQ\n",
       "DKp6AVRhIQ4EUz6mmGqKQnwwWhGCuGQIQHXPxoFgSaMfNDwoCvHBaEUIerlDAAoGKQUHlIpSBmew\n",
       "bZTiC1MAaEYvjAPGNXow3PBsFkD1gFAx49ArD771sjN03M+5+yQYBmQew3BEYYSqzTr7uuGjWmEM\n",
       "2Jg6x3C7ipNocakFADUCQ8WxIKC+i+uHHvDQyOxoUB6Dd9zVUTtjae4p2e2ZI6KQdRhemmlQC0wG\n",
       "ji2kGICFzI6CkRGMItI3dmSTlu+6ZgBUPxwUp5xgFeFuCNqiXyYXGfR3d7QE0vDDkDFZFJRcFgU0\n",
       "sBioslcnTIAQgQFZyOxoVHmqI9us9msBC5sx1Br4KNOZCxhAjo9ODJPZ0agP7wGy/5eStr3Fj1Bl\n",
       "S0kTH4kCqjnBGrE/6YRJcIG1BAOykNnRqAoA+gzDV7PED9Kmm2OVAEONcVz9TmARsHDuUvoBtquO\n",
       "03GPSG476N11h7v08E7jKnb7RfT1Eok/pX5ojSyHlV0UBZR0grV9aZ0wAUIEBmS517WNMeC4txXq\n",
       "7l3me+5r78dYq0zQ5twlMSSdJkqw5oqh1rbgHV2OzE8YLC4gs6PWvk94M3BEHfmS8as7yC+/PnN7\n",
       "Cajjezvx6wsSV0GrwhrZc7qOiQJCa4/EAwMQpBgCC5kdffjBumsG1zZvok99nJg8e+UvHgW2sS6v\n",
       "Mk/IlevoLew5GGqKu88aPibrNJnlb7WtsoWu3IbvLGN1bENJlMD/8O87miZXVT8g9VIylqAhe78s\n",
       "DCwcEwWEtjutWGAKvCJCGDyLuR4/1k6egX/fhm2DeSqojMr4tfsrgTcl7aZAPkdSFxpeG06yMBBD\n",
       "DfD94IQjiSeLftdqXIZMXAt6NyPyehBtKiXRmVglm0rGsb8gTh0kzEtIPusgzU3IsrypaVHAbcFZ\n",
       "0AiTr6MwghSDZ1lt48eiLhMrflOpUMc8FaOJKvi1Z3/gwIhtigTjfEld8J6cZqE7hhrmbZNwJGvn\n",
       "a36w6s2OGr3vsG+WxRXkedet/t2A6sjPw0AIlN1tbNM9LQqkbR+19cFkKkiCIMPgWOjs6Or8KFPz\n",
       "aBJliBnuzFdL0DYTNojKYBPsldhGiO2nlsN/RxbKWS9v9GdHc5W3mTrSvx3dTKybrdyagOpIuG7i\n",
       "n+HPupaO5qS2mREFN1kxqQ8G2EYY/4sYjOWHO1v+7Oie/BCzzf23m392uz6zysUCn3XvCM9zJ4fo\n",
       "8J+Nd7FthH0M251wsE/W02//2n2jdHa0YHsBjusRXjz6BbfrLGXvhuoojGYutNEz4a8zYbexzZwo\n",
       "uF3gtD4YYJs5oW8aliTsMYu18+c/9WdH/+NFW65tMlOPuw7vYvQ7rr95Hz2zD2XCOs7Ph23jCLZh\n",
       "eRtQ+vDPb5AhnR6UrfPH6mjUn/9kXdb/1jzSCaqOvetI+Tp1374+inOShIl6GGibomAbEcNnyVZR\n",
       "jy1j2SIZM+E4bS7z9C5ZMGDO0n6N1RtsG7GLPBB2rO/jnzkWzAuxZlOqjpGzm3eUUG4cuJKHXKfQ\n",
       "43WfNZluiwui4HpivgtUCgNsI/b9OUlPjFmKddQl3UJ1hdQ2mcP/MDHEG8CveevejSU6+ve1j6Hu\n",
       "ES2RCmegN5K/cRzpLBy/78Fapup4zXUq5iiyDtHMFV1q3vDU8ZDs+6TvFQUvYTKjBya3bt2GnevW\n",
       "jUoQwhg+Sw2zyPJPwkaZxqRnm9wut/Xdjt/x02jeunfLs411D6s9deSIqSfjiKx6mAurVp3RQV5o\n",
       "I1XHzW7oiP1qhkB1uXXSVQdNbsjbzZIoeBmYqjYY0G5Ciwh6qjLF1J5etcruIL/c8myT+sAN73Hf\n",
       "9yJ5dYMzdz0VTUBx7Sbk05KPyhDQSqYtLkLWQn7WjUeM8/41yKmjVuLUwfc3Up+Gri1pgmnr0wQM\n",
       "5tMqnaNg2zSaE4NuzHjazZ/mbGMe7sA2E+Euj+w+fM1GRufqSM9bC0k3ji80+apKQ6PaoY77m/ys\n",
       "Ppg2tslLMquYJfdEkE7twDZb7Uaz4o61/su3GxqnmSwWqIVjaHNBPgz4/q63buxcHdlJazbhjn+L\n",
       "Nq+O+5AQGh0vhka1pj6Y6BhaxPBZrA0PXFPp3DavoMZg2c1RzPO2SQ+F47TQ+KYSMQzYu1zpXB04\n",
       "YLr+y26oiEeGu/su7+urU3W8vlLbWDs0wrQZ3+xAcsXkBv69Ap92BUrusUk4j4epub6+x/supbah\n",
       "529wthkQbPOBTGcrPDrET8uTfOt1Fu/iD7axTWpOFBBNDuqCCWyTEmxTaJ28Yvw5ApITT47+gGs3\n",
       "NJ/G2UaYj+3qbZuHXpk6urAj3pOwoTr81O+INA89Iwp0rKkNJsh1FmbC4++TVQyzzcUk1/QZzjY0\n",
       "D51heWgMtZb/+L1BPBj4V3PoxNRBZgU3301dvLfUPE2nTLZK52+mRQF/B7D5VCdMFz+ACmGcCItv\n",
       "GwuH8uarg9Q23rr3++nIjo1gMNQY11bTQQCdBn3fH05MHV9iXzRwWzSm6ZdkDlH2mCjg7joIgr6j\n",
       "EybLz9+EMU6AxbdNkrXOwEt9lV5iqWYMxc+VgwD6OfD2IytTxxfpK/voXCjLtEbqOxdFAUaumSGd\n",
       "MLnFiAA6M3TCiklS7WbZOy0xExgsU8BQHFdwaAd6GNabzAp9fGRhkygHZF2rZC1HcKKJ5f+JHhh+\n",
       "LYcE49Sy+DM6OaZ2/Jytk7IA2vgln45+4BQh5PzubK0sBk4vi0IQuZ45xvLAWmDSy9IAGmCcUhZ/\n",
       "12AXC0Ew1ARsolMfuuXdDY7jqN1+Il0Jnj8qCoVlj2jdsOMc0QqTh+s39WC4T1oAUHDNbQ6uh1Z7\n",
       "dph0JXh4ze0BADSnFYZbc6sHwx0xzQKo4mEUR3GkuVu2Os4pxQ6jF4Gl8eYBVGopDgRDvuJ7YFwU\n",
       "4oPRihAEHUMAKjsXB0J+Wfr2WF0U4oMZq8ehmIlJAJU8FgdCUr6Tsb8lCvHBaEUInloGUBE1WHHJ\n",
       "LrSvNROTscNoRQhaaxNARezuU1xS8vMF2I66xqHYYaIRzlLIMmBDqAEQj4A9RedcpVIdDXmSMHVY\n",
       "EMDOosS5Za0wqcgAdos6vVhHOag1oM8L5iPSlbzK/fUj8pPcE3Oi8BTQyN+0wjAEWEHIZjn3zFlF\n",
       "JbPIQU0AsmBPUfcgUjnwGZN/vfyiIICdRT9GxZJOmHyQ7AwqiLtZTmHGJOj6XCh4bkuwp6jHRj9R\n",
       "mRY43vtUCHYWGfOou6kVhr0NKgjZLGcpDBICY7hPz4GkJtlTtJuc3lav2egmdQjmYsSFA4O8QHYW\n",
       "5QjQpeY8StW1wjAWsPWMbJZzz5xVVGqjHBQ8EjHYU4Rts0PhiCLqMBB2JiIVgp1F2DbdFa0wjMXd\n",
       "euZVWbJZzj1zVtXwpslDPRkkL4I9RdinKTxMpRA1l9s9xAvBziLs04pNrTABC9h65p9rqqi8J0D1\n",
       "B8EZ2VPkVRC1sUAtKhxOLvEC2Vnk+TR1sUAUDGOBW8/U/j8a5rQAVWSBGthTlKzkFf6HRWORlW+R\n",
       "F8DOoqvRO5phfBZ36xn1aRHnmp6qMG1egEqwN+CeonOuV9d4rcXIS2tsTgA7ixLn7tMM47OAChJ1\n",
       "rumpGgWPClCW9hPUktHuslEWhfhgfARQQSLONT1loUBJhOq3NdumuxWtqXlRiA9GGwIrPwtBpcqa\n",
       "EdpVhhtCQnwwN+j2J/MhqIzmaWmr3XTeSEkU4oMZ0Twt3aiHoXbrRci2y6KyY5ZyvbHD5DQfp/qS\n",
       "BCqld/r17bb9200hIT6Ym7TqJf+EBMrU+/9YfqPt1U22KMQHoweBNZFxGdSbWrub9gtY8iVRiA8m\n",
       "r7XD+ZEA9X8abL/GA8bCzwAAAABJRU5ErkJggg==\n",
       "\" style=\"display:inline;vertical-align:middle;\" /></a></span><br>"
      ],
      "text/plain": [
       "summation_partition_01: {t in NaturalPos} |- (Sum_{k=0}^{2^{t + 1} - 1} (e^{2 * pi * i * phase * k} * |k〉_{t + 1})) = ((Sum_{k=0}^{2^{t} - 1} (e^{2 * pi * i * phase * k} * |k〉_{t + 1})) + (Sum_{k=2^{t}}^{2^{t + 1} - 1} (e^{2 * pi * i * phase * k} * |k〉_{t + 1})))"
      ]
     },
     "execution_count": 24,
     "metadata": {},
     "output_type": "execute_result"
    }
   ],
   "source": [
    "summation_partition_01 = (\n",
    "    inductive_step.instance_expr.rhs.operands[1]\n",
    "    .partitioning(two_pow_t_var_less_one))"
   ]
  },
  {
   "cell_type": "markdown",
   "metadata": {},
   "source": [
    "Then shift the second summation of that partition, so that the two summations then have the same index domain:"
   ]
  },
  {
   "cell_type": "code",
   "execution_count": 25,
   "metadata": {},
   "outputs": [
    {
     "data": {
      "text/html": [
       "<strong id=\"summation_partition_02\">summation_partition_02:</strong> <span style=\"font-size:20px;\"><a class=\"ProveItLink\" href=\"../../../__pv_it/axioms/71c1fc00120f763c694cd99d32f7a5e7315b9ca50/expr.ipynb\"><img src=\"data:image/png;base64,iVBORw0KGgoAAAANSUhEUgAAADwAAAATBAMAAAA+KHOiAAAAMFBMVEX///8QEBCYmJjMzMwyMjKI\n",
       "iIhERERUVFS6urp2dnZmZmaqqqrc3NwiIiLu7u4AAAAqt126AAAAAXRSTlMAQObYZgAAAAlwSFlz\n",
       "AAAOxAAADsQBlSsOGwAAAOZJREFUKM9jYMANFjDgBQmkS/PdT/Nj4JSXwKWbbUM7A8N7uG6+O6jS\n",
       "7Hc4FRgYGbjS0sTSkhgYuP+hSW9j8GHghevmugARDrt71wEsfSjgCJI07wSwbEscTPeBYtYJcOn2\n",
       "/PQAIMXjBzf8ABtDBkL3frAgywGENPOCt2/hobYEIo1w2gEGbe5EOPcmmDS8CwQJUGn2B4XwUPoB\n",
       "pp4h6+YreAvjcX9geAByP7I0gykbjMflwG0ApFgD4IEK5LKawRUXPAXT3jABlg1w94I8nKQApp9n\n",
       "PADTzP5iQPIJRkx15kICFQUAALDXOQj7yj+HAAAAAElFTkSuQmCC\n",
       "\" style=\"display:inline;vertical-align:middle;\" /></a> <a class=\"ProveItLink\" href=\"../../../__pv_it/_proof__psi_t_var_formula/e71fc57863ecc05605fbf0ccce808ed5fe19910d0/proof.ipynb\" style=\"text-decoration: none\">&nbsp;&#x22A2;&nbsp;&nbsp;</a><a class=\"ProveItLink\" href=\"../../../__pv_it/_proof__psi_t_var_formula/87d7e25a017e1e6bb5bd60ee81d638e5a6efc4270/expr.ipynb\"><img src=\"data:image/png;base64,iVBORw0KGgoAAAANSUhEUgAAA68AAABMBAMAAABwjpxrAAAAMFBMVEX////c3Nx2dnZERESIiIgi\n",
       "IiLMzMyYmJju7u4QEBCqqqpUVFRmZma6uroyMjIAAADVePneAAAAAXRSTlMAQObYZgAAAAlwSFlz\n",
       "AAAOxAAADsQBlSsOGwAADt9JREFUeNrVnX1sHMUVwGfv2/dNU9QWQX1C8A9fNnVLoGoVg4CWguor\n",
       "IuKjobZUgkQVcVcBASpBtiCEIrXY0FBoVeQTUqRCETYq/aCVapc0LRRXdlX6R8QfdqkQraDYMYnt\n",
       "2LG3M7uzszOzb/fOl9uZeCLrnncvd783b+bNe/OxRoiU/yGFxbgl9HZxRhb0wShB6LAeZ5re1fy4\n",
       "UogLQ+++5RP0wbyFtkxhesQ4Y75gKmXoqofczD4rC/pgFCF0WI9n2LXMM2oZCkdDbu6vy4I+GEUI\n",
       "HdZjtuxKuTnn9WzSkYm/vjxiiF+G3PuDJBiT+mB4hAr+2Rbk2c4+DSzL9Mj1ulKNhgj3kuEW/3zn\n",
       "logZuhuBt1LrkpDu1wYjIGDjpg4GGfbe08CwTA9j1b30kfOS2NVwDIuiNmy8GhyHzknCNX/VBiMg\n",
       "kF6bDDCsXXO6i6fHF9wQATfMzLm/N1EV+Qz7+FwUDKljgbfGZjjhkQt/i5JIG4yAIBo28zCT3JrT\n",
       "XTw9atTJFavEnvlqZg7Fpg5P/Y0zbOrqaJCvCLzzHi9MosPoCaQNhkO4aGrX1Axn2DuuYamiU3On\n",
       "QWF6xEc8A5dmjKXsZN3XY7PR1OVYo1mzs4V11D30UloXjIggueKDrsBqTnthemTpIDuBcdOmsWT8\n",
       "pewY9o6nGhHXZSmoiedWeOEBXKtnfxdpghERSPB03QV+w7Ka0148PTacQeJjZ8KiSj2LmKJHU5e5\n",
       "pYAbw72icL5GGBFByroOemLsdBhhBT0mhuwm53Tc3Y6biSkxbGEx4Ma+hiCkbtEIIyJUAg272zxN\n",
       "piiYHrM2bNz2fvKkxLf7cClHVZfoRMD1HaYg0BkBPTACAht4CcqltmEpVeTTOZvXo2RHT8NVZ+7k\n",
       "DOi9UdXljiHwcua4IBiTRlkbDIgA9NiAmtNQmB5x2ynvI/3WuOzON1QadqACXk4vCsK2O/eY2mBA\n",
       "BL9hg2pOQ2F6JGz0CTIl0GVZC8BbjUsW+yNhqMGRaG5dEEYtSx8MhMDKJ+bPo1JAzekoTI+UHRaP\n",
       "agnNV8DLXQuyoA+m63SxVxt6WCY3rCktxXU4w6jKgj6Y4epWM6ynxzz2wtmPdTDk4QnasV5Z0AfT\n",
       "FkK+obwqM//x6zGNx6z8og7DpuHmNF2RBX0wbSG0spcGiLKNU8FnebSnxz7cKIurOgybgnPH+YYs\n",
       "6INpByE91/w9CflzjUlUOJWoMD3u06OGE9muJR2GzYCxJhodkgV9MO0g3GU2f8/zPsNgq37lVPi/\n",
       "6NNjeEEMCYsWV/ojrUwLrDbLlIR5DuiYWhjLb6SmNO+CH79XaEW+Tk3W8YvmKeDvN2U9Sri3dnNR\n",
       "fdai3ff7b79mjTT9wL2nADMIOTrDkoUxypo55/rRE0phDKAbN6PJ0k5iL7575SkhvKqj9E3sN3cd\n",
       "Pz15KsHfuKxHEo+vY3xUP+HlPvcJY+9DTYHva6mHs8Wjeejt2eOykLMYXpphK4HJAmkgSMOVZMX9\n",
       "4HxgrtSFf56zpUnEbSVobaPrv8CrxlFZjyL2JwO8a0ha3m7jQ7yWk82BW9o0b7g5xAQUcyY2ZAEN\n",
       "rnl26FUJ4yHwXdtPI0z90JZGFt+DvvRl/L2OkyQfwNbx328pGAiYM/mcrEcOpzo9PGDKWvbIubD8\n",
       "iebA3UBADwxd7n6+aejwQexjWUA1y9uc8EeVMDEoBwJo+OLuACWL7/jlTDwUl12j1dHd9vbt1/Ht\n",
       "3k9WqGHZOv6FoemQ27/mQDXQg7IeedwAJwSlBizvY7ntHtubA99jXMXefjF9vQzwVrRR90CJQW5N\n",
       "FlDC8jZ0p1XCeAh8N/bT8MXrFWTxPfPGp5zVbYJWKBuv3E1/yV358yepYdk6/sPIB+z3MOe/OwSp\n",
       "wXaeMj1i2N3sEIbtuAW5N2OkOfCrZ+0vc2iPPo1fXwKqhrajHuh74idlAfMd1wPDIXBlR9gEbOoo\n",
       "N2mQqWTQlY9gwApGewQlUAz/w7/fhgeKr9n9zjasu47/gmBYG1jUeurfQ6jYANVAyUlJjxjGnBcM\n",
       "mxmF9MlXmgMfaKSENvch+UJgmKCB4wAUdBdPygKO5a1JLTBF0LA+GiEhZUOgcTlK4U7ZuweR1/fR\n",
       "XeUEOgvj3VUmgVP31BDK9/X9qG+7t45fQz5goWxDsXVUMkE1UH5O0iOBY/ZBMXCYtYBorzTTFNg4\n",
       "+WcRjQTVMeCzaJSwD4oDkouygHuhtaoQplBHfgSu+GgE7808urP4bvS+w74lh/rRi8iJiO8pVMu0\n",
       "x7J1/CN+YAHoFYR+Yr8JUiOxIOmRxrnaqGjYmPVscLQXApzu/afBoxVW+LCTK4dCDNu1KAvEv5ww\n",
       "1cFk+xGAgIJpBHw3XKGL7/n+Iwwt/evxPXZNY1f8aqrqBk9sHf8g8gELQKMmmihfnxkC1cguQYaV\n",
       "crh5IMwnu6Mzr+0KA871747xaLGRgLzrOprrg4Y9Jgv2dNicOhjOsPBEl0wj+JIKRaOL70XTic5s\n",
       "v/DyiS/bb/o8Qpei37hjLFvHvwf5gXmgX5G9h3+KmaAaqVVJjywxbF0eRfxJHTl1tv+2B8dDgOPl\n",
       "3F4erTievcj0z4tiX2+GGHZZFuxhf1EdDGfYZTiVHA1eDSvVKRo4ANNP9vIaoeu9jvzAIhAaRHv2\n",
       "QnPNGGoZMKwlGZZNK3Klz24yxkoYMF8w2nD9xc/UoZG+5iRis5Th8E5Svklrxq3M0jIwkRc9DF+P\n",
       "JdiwMo0v6whCi9OxcTe7IoRhtwPAIpB7SAKKnugtpkeBGFYejKf9o8gHTo62PQxYqsuxcxp3l1F+\n",
       "hnMdj9tOrNuJfWqQ9qVVWbBjPnHYjxSGM2xAlJS3Amf/ao0QNDdnToLtwqgCwCJQkjoCQA1EvQjT\n",
       "I2WZ6H7ZjEn/us4u8lbLWgwDpk5hg6K9afvC1LgzDUZmZemZqmGnLh+HTrukH5AFxwcdUwOT37nz\n",
       "1qd37hwHEAJpBMc+E4LGdATzpXwdABaB3CleQA1EUzNWqZn7cY+Vp1UNfw7+ARmfzzjj0y1MZ+6i\n",
       "aN+aIi0zW7GnwVDcbnw2RPdQSI9dlwXHxVWVwXA9dj3I4VbDemxztEuhi9sgYAGILacDariGFXqs\n",
       "zxUnnoQMizazGnoxyqwWyFBdLNvTYDxErSwwiGMs6IrRdWVFMK24YonG54qboj3azNoMWAB6HtGM\n",
       "F1DD/dJww84OgZPbb5qt78y5GKVXMqsJuyGSaTAeggaitYWWx9jCkjqY5oYtBO846a63gmYAAV6i\n",
       "DAHzQKkKSphu55bVcCepmR4pIN1JrcLp3mPPvH1T63WZm8ss4VTyAmRPg/EQD0oBXNN0x+kIimCa\n",
       "pjsyDV+G+zeJ1gSYBzpzauqwIwFquE+dEKJiXx7bH5DuHd7obx0Nh6c3fBWRI/xH8LDfd0VfX51C\n",
       "vLVZw2YOKIRpnsceCP6mLjsu2gRaE2AeaNCy6MwRoIb7FBTBsIOSYT+EiGc2i0apsKZkGoxvXe+H\n",
       "GDa5LAtkTJlUCMNlF7BhiyGLAMXObIYWlu2yciuB1HC35AiGlbaFxCG4fKU9tDgeOuxpMA/CXVAZ\n",
       "A1d3jskCnZBQBuMtAhThKKgv5JvyI503bEFOCwE12NFrpkf2BEI7xHo67GWC3mCSGmkPjex1sKfB\n",
       "CIRzpsqN2veB67GLsoBri3sghkqYOJiN+miEFHWl84b1FUANFJf1SOOUdULwLWkv10lzUcLv2kNj\n",
       "u2Xjnrel8d8ANJeeOykLOL7xAsbvqYTJgeuxfhp+/F1VYFhADWeSmteDbNgS9/twuc4LUjPZRLmW\n",
       "vrKP9p5s4W4z6gFd/pos8NlFdkQlTH4tPNfJAo7jSx0x7LWhdwE12NMTmR5kw5aglPe0NvQDvsVm\n",
       "K6gzha0mTkNBCLCZzXsgXsb9L2pgwM1sAI3Qn5GecomsRx4bb98clOsYvxAXeR7qEELeHcJ3QDlB\n",
       "ekMWvOzirAm2rKIEJr0RlutwNHwiq+m51T+V9YjjyG+WdynzH9nlvVsty4r2eCh45KlwQhaKGw7R\n",
       "zlHLOq4UpgBs9W9GE5vTYtfEiKwHOWnHH/HI82d3on3YGHjkyX/EY5oDWlYKAx3xaErzYy2G7WrI\n",
       "epCTdqWjWmCAI0/kalkW9MG0g/Cwlrr8uk8PctIuua6DxYBPWA3OyII+mHYQijqeqWg86dOjGzvn\n",
       "3LIOwxY2wMsTdVnQB9MOQuYbGurysYZPj1k82CdOahnv4V0GA5OyoA+mLYTPmurrcrtfD/LEp4C+\n",
       "E3HJwZM0s3OyoA+mLQRjSHlVZmb8ekw0Ah8aEHFJwtOqwwuyoA9meMs958nTY5A4jkEu+uMODJ97\n",
       "VZQMw/BMfvKoJHCHv2PnVZTCJP3pghKaDuiRsaOoHi5I8NY60/2FKB+1NAb/ba7Ysiw8x+7di/6h\n",
       "FCYGRJUqaDqgR9ae557l1PIODHcNoSgT3IkGHJ+uSYKxwCX/pbJKmIJ/FUAJTQf0cAZb/pmB3oHh\n",
       "bpPNQEZRRptdpwI9/E0qdcWbYVED47+shKYDejgmzXOz/eTA8CHyfOV6zUQ3R4eQWgu4MT0kCuTw\n",
       "d54AbU+toGRdKcy0L8JVQdMJPWq2E+afnO4dGMaGPRBh5hi0JD1bEQV6+Jtg4z7SrxRm1hceqaDp\n",
       "hB4DjjP5iTeGeAeGsSuO8Fl8xaDtLV0jotDNtsRj51dqKIXp8l1XQdMJPf5L7euFwuTAsOOKow2e\n",
       "akG5QmJdFMjhb8f5RReuBMEkfLPoKmg6oEeK+uASC4u5A8OJ/kKEfy2Y/KkfuKyJAj38TcrV6B3F\n",
       "ML6xVwVNB/Rw/3hRjE1Y8AeGz73BjAwhsxZ4q8cUBHr425kSeEMxTI9cAwpoOqHHMO2SGeVPLE4E\n",
       "e/nhiizog1GG0GE9BtxBYsBUzOCchYDxVmRBH4wyhA7r8TNXSKpumWEt6UafoA/mxq1kWKaH1x6z\n",
       "infHZMLW9sfKsqAPZqy8dezq6THszZwcUsuQC1teYE8Vzfdqh8n3bh3Denpwf3Re8ezYkdAx/Waf\n",
       "oA/m5q1jWKZHgXv4SepZpQy3h95lz9Vv5QH7EcOoQeisHkl+E97flY4G4dv/CmVZ0AdT2DKDrKfH\n",
       "D52X/wPNliICxbRvCgAAAABJRU5ErkJggg==\n",
       "\" style=\"display:inline;vertical-align:middle;\" /></a></span><br>"
      ],
      "text/plain": [
       "summation_partition_02: {t in NaturalPos} |- (Sum_{k=0}^{2^{t + 1} - 1} (e^{2 * pi * i * phase * k} * |k〉_{t + 1})) = ((Sum_{k=0}^{2^{t} - 1} (e^{2 * pi * i * phase * k} * |k〉_{t + 1})) + (Sum_{k=0}^{2^{t + 1} - 1 - 2^{t}} (e^{2 * pi * i * phase * (k + 2^{t})} * |k + 2^{t}〉_{t + 1})))"
      ]
     },
     "execution_count": 25,
     "metadata": {},
     "output_type": "execute_result"
    }
   ],
   "source": [
    "summation_partition_02 = (summation_partition_01.inner_expr().rhs.\n",
    "                          operands[1].shift(Neg(Exp(two, t))))"
   ]
  },
  {
   "cell_type": "code",
   "execution_count": 26,
   "metadata": {},
   "outputs": [
    {
     "data": {
      "text/html": [
       "<a class=\"ProveItLink\" href=\"../../../__pv_it/_proof__psi_t_var_formula/f442d61b20097f3b2dd4b2243c5cf6eb0c060ce30/expr.ipynb\"><img src=\"data:image/png;base64,iVBORw0KGgoAAAANSUhEUgAABMYAAAA/CAMAAAA8ATQ8AAAANlBMVEX///8WFhYNDQ0QEBCqqqp2\n",
       "dnbMzMwiIiK6urpmZmaIiIju7u5ERESYmJhUVFQyMjLc3NwAAAANEI+mAAAAAXRSTlMAQObYZgAA\n",
       "AAlwSFlzAAAOxAAADsQBlSsOGwAAEBRJREFUeNrtnYmapKwOhj1HQQEXuP+b/UVcwqZRKduaIs8z\n",
       "M9DT1a0v8QuExaJYTA598YRVarQuwQ9iVbj8IyYGcQPYv0/sLJ+HgUj255fwhpaJla0K05Lht6Zi\n",
       "/tc61YpHbqJKpJasD5cP/YYsX3johj9ltBaXgWGIhR60f5cP65+9uo5/7BJk4u/7aMvEym7zlX5j\n",
       "NmVJnS9x9ZTTJpKxbgiXj/1mvlFa1d8tY0XXXwWGIhZ40P5dPigXSmi89rpeqS6BH/fpTIRq+Bta\n",
       "JlZ2mi8gY4WolS3FjXqsGdPIGAW3RUtxxm9Wvf52GSva6howFLHAg/bv8kG5kOvI8BE6rQh1iksI\n",
       "XhZBRyjevaFlYmW7EqRDlY2xVvS7ZGwg4bKv2IT0vYB+sytj4umwfCvJcMLzLUh7xHxg34rnBJ+B\n",
       "nP7hXTP9XXPHq/ZhLXTFcOcSuvjTKhANtEaoQbygZWJluxJuSqK4pWrPeWcSGatAxq9Se42h3YvV\n",
       "S/MSxlg9/mkiMkY5r7/oOcVnUyxIu8RsYF+NB81n34XCD+L8o8tmHs8QFKyFbsWKbv8S1nASsDIu\n",
       "ecz82FVedyNUx97QMtEsN6yEZUyoMipqXyBjNQmXfVOjm8mxr7n5zf6gsrr8nHb0cWeQSl4Atk/M\n",
       "B/a1eNB86vOdMRMJx9+w9qYEBtZCV7JO7l/CIngnbXmsF3mFHu9HqPKvumOwZWJlqxK5Uis71qvn\n",
       "0iApZIyC0EX3I2knXL9ZUvy8JNXxc9o1yAi5EyKDofFyHLNyDOQ8sANiPrDdJxPyeR0eJB+K74wJ\n",
       "0nEitw5N1xaST78k4EwBGVvoHl/CIngnn66hcORVU4hGqCFddmw4N/EJWyZWhpWIjLVQub5Nxvo2\n",
       "XI4YqeOOfuB6FUsQIa3QCEOS68uoOAbvtyvPA0MQIzUSj80nMZ5LfCw8SD4IF1pUrJaj4ki9ynL+\n",
       "KJeVKKXnKXtd1xBd/xIswZO1mky66qMLdCjXOiOuvAIZ8yMU6THcUWQU3oXdlomVYSUiY/03yxhc\n",
       "PruWB1XWs5WlAivmnBUo5ISMOQmiaxHSDo3wSpzHt0X9ZLgQQiIbzlpvvFSwwHaeTJtPYjzX+Fjr\n",
       "RHB8DoFsQs30lKJOhc3SUOrlDdNlNS1SxoJ0wwvCF8ETTMgOOO4qY41W1F7Swf2fTV6BjPkaGp6x\n",
       "Ic2Fx3o44cJOy8TKsHJVxkaN3xecZnDHCbwumydkjIIB8VZu4OyraIiaE34Hy1xpu5j0Xa/t0BFy\n",
       "J0RaodFzF9GWdajrF8/kgPup2VlgWwUFbBePwycxnot8LJXA8DkEYvcbeb95sVSM0QVUBJbzxaA7\n",
       "0mASbxI8MZIZ/+FSEDOqnVlOBT6HZTLXi7py5dWWMUdDq7JAcN8RI8YGrVyS1AOheBd2WiZWBpXr\n",
       "vbHD3UleukOqR2SsU8EysZfwir42pMc/+G6y9ZzKEh8hd0KkFRoDUW9Yrhs3IONwZmc4CwxULgCz\n",
       "ZSzAJyGei3y4Ndk1nKETBgJHTlJLtxCTaBkFbmozCEMOKsN0OxUcH+tHlxoybUGnXzBVNcupMMqY\n",
       "rIycme8rG1temZbPUv/VhTSUqr3e2HCkSdMInkwP/VCdcWGnZWJlULkuY+2R4PhLXZ6RsX4Ilwfn\n",
       "1/f6gWkppUxckzFGUBHyKERaoTHgLit9ghoiCjDW4eosMFg5D8x+Mn0+KfFc5APxBPg03Q6dEBAr\n",
       "cOvUWKN7nfWswOMdG7HmHCNjEbr9cCB4o2A0vR8SeoOzqpw0I5BX2BvzNLQpCwz3GD2Dp9Q/ZIFO\n",
       "sOkp2DKxMqh8v4xxN3jB0S4sS2XfrBib2OQ40GkaMijCd24nGCEPQiQYeQTdpVmfO4nLNYP5pQqV\n",
       "irLSA6ByFpiDx+eTFM9VPnD6zedT8R06ISDjwGkyfTEN6ypO9M83I0T9d2+WkrTyAJb5XWG6gfyN\n",
       "LXiMQ8lZ77DraT9S3p7DeVAJ5BXImK+h4eydxz1Gr5y+ox/7qOvFSex0CWyZWBlUvlLG7AG827dV\n",
       "JFzW+9uLhLbOgou+NKP0nQgZD5F2aPTdhQD/RI1+WQsuEZXDJpHKPWALnw/hucqHwVyQx8eXsUtA\n",
       "3OWu4pbngUtYYNqCp1elbWmtTairQZUteOhac3dAXoGM+RratQWKe4SeGXT3o9aMI3lBT7iw3TKx\n",
       "MqjclbGOc0LElJRlkvORUzP+3Zix8/ify847QjinRsaWjwTTrBEZkz3hcmXkbJVyG70Ll/WNpFzH\n",
       "u6zCFmVddTpg7kXIeIi0Q6PvLjoHWZHpx1aodU68BCMozMqf4ETlfWAzn0/hucoH4AnwCcjYJSBM\n",
       "7lXPyth6CStMbJ7YvtzgCoq4wjJSoLjv0NNLUKfGnp/4CrmUEbZMrAwqN2Ws0v1+k2mre53DUHrB\n",
       "o1nQMdRySQSKslqzfeAj5lKGYxlr9GfatRfrLN6y2yE6P6svI+Xm0CVjMQUdOV7cXoSMh0g7NHru\n",
       "opuqqqSZuUNlSGFvHz51rAbWh4E5xG4Bm/l8Cs9VPtZgyFMl70G8CoTAB6tr7jgauIQVJtKc7e80\n",
       "BCieqa+bAsd9R8aoRkzZ2oLYJD9smVh5q6SQsWaaD24n7Zp63XRqazOV2WjtagfTHI39EX+EGJYx\n",
       "McHalk46KLg1wRLtghb+nvdb1rYwVrb4Fc/IM26Mu1RKNtXY2Z14MczjQMGTpgjm+6voMOsOsJnP\n",
       "p/Bc5QPx+Hy8B/EyEBHLglwYnVd2vwwP012EVp+JSrLGct+Rsdp5oBlS0WOpoXAG5H5uTK+gkavX\n",
       "Tj94ljEj84qNys2NgDf2R7C5MTbF8G1f2f//V1umYNKtAZXGzcaRhAenzStOqFkApfAb7/ZOiAGd\n",
       "U+MurARdEdpHEgzwuAS4rgVzu02M3k1ghs/H8FzlYy37AXfH5oWtTmc1IZCrtl3CeZhuiDhz8azD\n",
       "co/SszKReBd2PDdW3ip3ZUywvqqgjHFPxlrTsVxlbPsIVsbKFoqg1xtrhgbZG9Nz5slOtZyTeuPv\n",
       "kNrwEXf3JLMtVWjcpR7ATJ3JLAjljges4xLESRnb643dAWbu5GN4rvIRERnD9caSetDp3th5mN5T\n",
       "i794a1Zxn3uUnn82JcqFn5axSq9Eofsy5vTGwEeQMmY+DtYA2jJG7dMD9mWMJO+NFZ86/2NyFzHe\n",
       "QbMOg0wMqwY/OwvmxuGGH0xubF/GyM3e2MfwXOVj7Yc6zo0lBJJiUHkX5okp05jiBbjH6E2aZS/n\n",
       "Rbnw07mxSQ4bJakMyFi/piKGduvOg4+gZUz//n5YT9S0Zczpn0owlyHdmShva1v4/ARCOEHLGDMM\n",
       "5Uce006J6f75Gh/XnR0xH4AhAjNTaUFyid0ANvP5FJ6rfKwIejxTmRDIVQOXcB+mxAohl2juMXrU\n",
       "rPwVbhfv0IWL+HqD8LR6Chnjio4CM0AZmzYgTL2kfhLkaflwP/1W8BF31B0bVOrlLtXYrV3ioJWt\n",
       "cNeNCaDXwole0h+whPZ56iRzcxi2lmMHRF12Da/5Rx5TPd0nxkgAT3sZqt1QBqbiUHufLUgOsTvA\n",
       "Zj6fwnOVD5yplMfrxhICudyD2i7hYzBvcY/Qk/W0MNhSJ5wLn94bjpGxNrQ1vC/LXo7/8IoLUnPa\n",
       "q7KnVTv+XZBB6XR8K6qm4aaNBZvWjemxzPoRf9QdkzHRc0Jlz8OL3d2vlixc1vSoH+lCuTj9bYcp\n",
       "kG0BEqvV8KHHdMp3c2Yi2tzO23MY9AFwfglVmHkhC5JN7A6wlc9n8FzlA8968fkEVvGzj3kQ1uAl\n",
       "fAjmLe4RevPuf6ubgnNhu2ViZVDByNiTSc1Zxpx9/+dyMm247E1U61sPnZ9g1uWURx2ZRonPu0ug\n",
       "32lWjTq7eoEPgMN9cccvW5Csyi1gL+UDzz72+fgylg7I9SxsW7zIdg7qqY4EFunC8XPoI8etR2TM\n",
       "OrdalcXTMnbHWBkuj8HDzxIs5yewVTe7eRdNfZhWKptn3WWW9G1nRziUgU2DpD4LzKrcBPZOPnBP\n",
       "pc/H3xqeEEgKj361jDVHd4x0YbtlYmVQichYBTaPNar/KhnrgGDDcuOcEzCl7kLnJxgnLA+77ow8\n",
       "6i7LIYTbzo6gD8AjHNr+LDBYuQvslXysEy4wfBICSeHRr5axwywfzoWdlomVQSX21oBSgTGl+CoZ\n",
       "E2BADMrSPRJuKCLnJ5ghwXF2nJaPusvy3kCws2M9nAAclwCX6qC2VFrAQOU2sFfysVYyYfgkBJLC\n",
       "o79axpAuXJydqIzKGF9HlZ168rWbKQ6xblmoXFfCmJS04YOabms9PwEOCdAJ2v6j3uXOaATIhHIm\n",
       "tQT9aHka2Fa5D+yNfAAeJJ+EQFJ49J8bv7HNFufCdsvEyrASfYdTP39PpR6dF0khY8F3EDDl2rQc\n",
       "JHh+gj7jrkFciPjrt8sGvBvuSCTDeWBrJQGwF/KxNmzi+CQEksKj/zELCzRsmVgZVuKvojMHVJDy\n",
       "2f5sChmD203E/pKDyPkJhHDUkbAVeZtXWDtIsG1nQdondg7Y6/jYx/aV1Wk6qT3oQgP9gsGWiZVh\n",
       "ZeeNmkTPNJUPd2eTvG43qt/JrXube8Fnh5dXgCUl9jY+lrRg+ZDhz6/7BZfw6Li1PC5blR0Zk3ph\n",
       "qhiGR3fCJpExk5oIlH83pJ0A9jPE0HxeAOS3vPhsZ2xHxqr5OJDh0Vegp5ExeOZH91uBDESr4Rqw\n",
       "XyGG5/MCID/lxbBlYmW7EtWoRcXcTY9fIWPWGsehK37RZCkvAvsNYmf4vADID3kxbJlY2Wm+mIxJ\n",
       "cHzfk6tWEsmYAPPqsPw7JurqKrCfIHaKzwuA/I4Xw5aJld3mi8lYu63JkClPfj6UMT2RnSDwSHAI\n",
       "mRxE8XPWdteB/QKxc3xeAORnvBi2TKwMK2xZ+7LbGVveN/dtPVMaLv9KSGvuAPv3iZ3l8wIgP+LF\n",
       "sGViZWzzVfC47zbdqpXDI7izZcuWLY0xOLDrE24OW3/B/K97BHe2bNmypTHE6a9X7PgI7mzZsmV7\n",
       "oYxJxoaW4o7gzpYtW7b3ydi0j828MfzwCO5s2bJle6GM9VNav9Q7oA6P4M6WLVu2F8qYWa+hD/45\n",
       "PoI7W7Zs2d7YG6vND6GII7izZcuW7c9kTPaEw1d51s4JP7XCHMGdLVu2bH8lY43eqdluuS93QznV\n",
       "h8geH8GdLVu2bH8kY6LUeS74gmBn/1LtbPluM+Ns2bK9SsbYtDy/jp5ZzFzZYplxtmzZXiVjZVvs\n",
       "nRje9RlptmzZXi1jYnp9Uqci/z29WULKjDVbtmwvljH9Hf1QVCGtotNYk4uMNVu2bO8dVLZcr5xg\n",
       "W8oLzFTKmmnL6yqyZcv2Lhmj60uSdQdM9JxQ2YMXCm/rxmrzbtJ8rFi2bNn+TMaY6jKRbNmyfZlZ\n",
       "B752Kk80ZsuW7dvMPn5fqUwkW7Zs32WNsparEpW3C2XLlu27bFB0t54tW7Zs7zainF1Fok73cqRs\n",
       "2bJle0DF/B2PfZ6tzJYt2xeNKEOKRXN3LFu2bN9i3TZJ+R80TeaInWz9rQAAAABJRU5ErkJggg==\n",
       "\" style=\"display:inline;vertical-align:middle;\" /></a>"
      ],
      "text/plain": [
       "{lambda:[_a -> ((Sum_{k=0}^{2^{t + 1} - 1} (e^{2 * pi * i * phase * k} * |k〉_{t + 1})) = ((Sum_{k=0}^{2^{t} - 1} (e^{2 * pi * i * phase * k} * |k〉_{t + 1})) + (Sum_{k=0}^{_a(k) - 1 - 2^{t}} (e^{2 * pi * i * phase * (k + 2^{t})} * |k + 2^{t}〉_{t + 1}))))], ${_{-}a}$:2^{t + 1}}"
      ]
     },
     "execution_count": 26,
     "metadata": {},
     "output_type": "execute_result"
    }
   ],
   "source": [
    "summation_partition_02.inner_expr().rhs.operands[1].domain.upper_bound.operands[0]"
   ]
  },
  {
   "cell_type": "code",
   "execution_count": 27,
   "metadata": {},
   "outputs": [
    {
     "data": {
      "text/html": [
       "<span style=\"font-size:20px;\"> <a class=\"ProveItLink\" href=\"../../../__pv_it/_proof__psi_t_var_formula/0f345c9f8e4103682ccce9d8eb07f5e28e7088bd0/proof.ipynb\" style=\"text-decoration: none\">&nbsp;&#x22A2;&nbsp;&nbsp;</a><a class=\"ProveItLink\" href=\"../../../__pv_it/_proof__psi_t_var_formula/aa25ead259745fe056f37263db4df4a3586e3c7c0/expr.ipynb\"><img src=\"data:image/png;base64,iVBORw0KGgoAAAANSUhEUgAAASgAAAAaBAMAAAD27Nw4AAAAMFBMVEX///9UVFQiIiKIiIjMzMx2\n",
       "dnYQEBDc3NxEREQyMjLu7u5mZmaqqqq6urqYmJgAAAB66f/FAAAAAXRSTlMAQObYZgAAAAlwSFlz\n",
       "AAAOxAAADsQBlSsOGwAAAkpJREFUSMellz1M20AUx/+JnTrEaYg68CGhglgq0QFoJWZPXRiCurF5\n",
       "YkNEHRAbmVAmlFaq6FS5Y5eStkJKm4WFqUumrqRqxYaEBAgRKYK78xfyXVzb70mOX57z/+W9873z\n",
       "GQjswHe+tJDMDpJeT088d0+lC/ZhskN/OZeMwBSm8kKll52INnfKbTdQ5tUUhZcQwRRGQ3XhF4GI\n",
       "He58dr8br99b6RBC8VdVb4tCrCwxb9+LjB2nrYsr8o4cL/YpRCyw7Gx2dD9YGHdGI/SFaE2+QqvK\n",
       "6G0SEctsIq7x21gY4jfQae41m30Z8enHIBLxFSgN5KSOSEQcOhhnnTIJbGC5NHoGaFFEqPgoJzWk\n",
       "Ecf6qLER23IwW/9ecJIjQkVHykkf0IhmAy9Y4Akwa63+82aAsX699D9EqFiRktLmaETNxrQbW/Qa\n",
       "R90VmmLmeIpTqf1yLRrx8QBNd8gv3YCZGOErapbQzQsTrVhs0Ij6Fd4KJ1+NXT8UCF+x25MWmyqN\n",
       "aAzxXDgdxbr8ThRvhYiHkUBxKCWVb9OIpaE7UpX4shR1BYpdSzlSBKLh3b4TGPV0iEBRq0fnlEiK\n",
       "QNRvMMVPa9CcVIhQoei+Bo3Iuo+vM2+63W+xg124iQRCxZn8fzaNWLFFpYt3d7dxhNzE7dPIkhIo\n",
       "vkq/ZpWSiGYVj3ogmeLZt0kjsmcf3yUQbMQugWJsl6DbJIKq9V/RkvrDjhkSIa9o/NwxCfks3KNn\n",
       "tJg9etax5xuKMmVSqd9mTihJ7Tx878tkphPz3pfNfgL3uSPW600qezgAAAAASUVORK5CYII=\n",
       "\" style=\"display:inline;vertical-align:middle;\" /></a></span>"
      ],
      "text/plain": [
       "|- (2^{t + 1} - 1 - 2^{t}) = (2^{t + 1} - 1 - 2^{t})"
      ]
     },
     "execution_count": 27,
     "metadata": {},
     "output_type": "execute_result"
    }
   ],
   "source": [
    "from proveit.numbers import deduce_number_set\n",
    "summation_partition_02.rhs.operands[1].domain.upper_bound.simplification()"
   ]
  },
  {
   "cell_type": "code",
   "execution_count": 28,
   "metadata": {},
   "outputs": [
    {
     "data": {
      "text/html": [
       "<span style=\"font-size:20px;\"><a class=\"ProveItLink\" href=\"../../../__pv_it/axioms/71c1fc00120f763c694cd99d32f7a5e7315b9ca50/expr.ipynb\"><img src=\"data:image/png;base64,iVBORw0KGgoAAAANSUhEUgAAADwAAAATBAMAAAA+KHOiAAAAMFBMVEX///8QEBCYmJjMzMwyMjKI\n",
       "iIhERERUVFS6urp2dnZmZmaqqqrc3NwiIiLu7u4AAAAqt126AAAAAXRSTlMAQObYZgAAAAlwSFlz\n",
       "AAAOxAAADsQBlSsOGwAAAOZJREFUKM9jYMANFjDgBQmkS/PdT/Nj4JSXwKWbbUM7A8N7uG6+O6jS\n",
       "7Hc4FRgYGbjS0sTSkhgYuP+hSW9j8GHghevmugARDrt71wEsfSjgCJI07wSwbEscTPeBYtYJcOn2\n",
       "/PQAIMXjBzf8ABtDBkL3frAgywGENPOCt2/hobYEIo1w2gEGbe5EOPcmmDS8CwQJUGn2B4XwUPoB\n",
       "pp4h6+YreAvjcX9geAByP7I0gykbjMflwG0ApFgD4IEK5LKawRUXPAXT3jABlg1w94I8nKQApp9n\n",
       "PADTzP5iQPIJRkx15kICFQUAALDXOQj7yj+HAAAAAElFTkSuQmCC\n",
       "\" style=\"display:inline;vertical-align:middle;\" /></a> <a class=\"ProveItLink\" href=\"../../../__pv_it/_proof__psi_t_var_formula/884c765a71532a82b1c4be0f5107a869f0ca24de0/proof.ipynb\" style=\"text-decoration: none\">&nbsp;&#x22A2;&nbsp;&nbsp;</a><a class=\"ProveItLink\" href=\"../../../__pv_it/_proof__psi_t_var_formula/a0c680a7684161e081a53047975d2d72948b04070/expr.ipynb\"><img src=\"data:image/png;base64,iVBORw0KGgoAAAANSUhEUgAAAK0AAAAaBAMAAAA3TsG9AAAAMFBMVEX///9UVFQiIiKIiIjMzMx2\n",
       "dnYQEBDc3NxEREQyMjLu7u5mZmaqqqq6urqYmJgAAAB66f/FAAAAAXRSTlMAQObYZgAAAAlwSFlz\n",
       "AAAOxAAADsQBlSsOGwAAAhxJREFUSMdjYIABzgIog+slA3EArgM7eAuh1oOIDUDsbESkuUAd3Lhl\n",
       "eTZA6JMgogFEHCLSXKAO9gacsishVKlmCInmgnU8xindB6XnkOxekA6mBeieyM9s0sgD+iSBgaF6\n",
       "ZwsDwy885jqh64brYBZAk7EQYeBkmAAM+QBQIMVf4E1g4O7oyOjowzSXS3o+mrkwHUC5X2iKdzMw\n",
       "2LEeYGDgv8DAWMDAlsAssAS3e+3RzEXSMQ9NqTgDV8MKIO2/gIHtFwPjd26DKOLNRdKxA+Z/JaUJ\n",
       "IHoBA7eDCJAGJlZGBQbGLyz7HKDmls4PJuhehA4ziMhNK7ikIwso5UqC2UwfIGI4kiO6uUg67oOl\n",
       "2GchZLo4QEIdYLa/AURsA9HmwnT4O6BlaZ4AcJqeCOYo4k+pWMyF6ai/ADYXqdRgAIezNojgxuJ/\n",
       "rklKIOCAMHclWECFAUXHerC5biAZiJAN6wUGLqh7HzKQ6l64jnqwxSsQzmmoAKfDieAgYSgnzVyE\n",
       "Dn9wyDIhkoqDOLikkwCyXRkYrEgzF6EDkh6YDWAy3rzAuBcCpz927d27FfCaG49WgiPpeIZUaoFT\n",
       "GecChooTYPuY/v//PwGfsYL5Ex+gJl6Ejo0QamEvxEu8GdM62r61ArPkBQaKAKx8uNqkhOI2YHlG\n",
       "CcAoz2CAJYEic/kEcMnIUGQuUwGB+o1MgLt+46EkgPHUx7D2A1mAewEOCQCqc5FnSf9jbAAAAABJ\n",
       "RU5ErkJggg==\n",
       "\" style=\"display:inline;vertical-align:middle;\" /></a></span>"
      ],
      "text/plain": [
       "{t in NaturalPos} |- (2^{t + 1} - 1 - 2^{t}) in Integer"
      ]
     },
     "execution_count": 28,
     "metadata": {},
     "output_type": "execute_result"
    }
   ],
   "source": [
    "deduce_number_set(summation_partition_02.rhs.operands[1].domain.upper_bound)"
   ]
  },
  {
   "cell_type": "code",
   "execution_count": 29,
   "metadata": {},
   "outputs": [
    {
     "data": {
      "text/html": [
       "<strong id=\"summation_partition_03\">summation_partition_03:</strong> <span style=\"font-size:20px;\"><a class=\"ProveItLink\" href=\"../../../__pv_it/axioms/71c1fc00120f763c694cd99d32f7a5e7315b9ca50/expr.ipynb\"><img src=\"data:image/png;base64,iVBORw0KGgoAAAANSUhEUgAAADwAAAATBAMAAAA+KHOiAAAAMFBMVEX///8QEBCYmJjMzMwyMjKI\n",
       "iIhERERUVFS6urp2dnZmZmaqqqrc3NwiIiLu7u4AAAAqt126AAAAAXRSTlMAQObYZgAAAAlwSFlz\n",
       "AAAOxAAADsQBlSsOGwAAAOZJREFUKM9jYMANFjDgBQmkS/PdT/Nj4JSXwKWbbUM7A8N7uG6+O6jS\n",
       "7Hc4FRgYGbjS0sTSkhgYuP+hSW9j8GHghevmugARDrt71wEsfSjgCJI07wSwbEscTPeBYtYJcOn2\n",
       "/PQAIMXjBzf8ABtDBkL3frAgywGENPOCt2/hobYEIo1w2gEGbe5EOPcmmDS8CwQJUGn2B4XwUPoB\n",
       "pp4h6+YreAvjcX9geAByP7I0gykbjMflwG0ApFgD4IEK5LKawRUXPAXT3jABlg1w94I8nKQApp9n\n",
       "PADTzP5iQPIJRkx15kICFQUAALDXOQj7yj+HAAAAAElFTkSuQmCC\n",
       "\" style=\"display:inline;vertical-align:middle;\" /></a> <a class=\"ProveItLink\" href=\"../../../__pv_it/_proof__psi_t_var_formula/79927b6a04c4cd2ff14dff685973ed72ac7145b60/proof.ipynb\" style=\"text-decoration: none\">&nbsp;&#x22A2;&nbsp;&nbsp;</a><a class=\"ProveItLink\" href=\"../../../__pv_it/_proof__psi_t_var_formula/850b7bac4e65c8afa1ca8e15b318ce9eada5be0f0/expr.ipynb\"><img src=\"data:image/png;base64,iVBORw0KGgoAAAANSUhEUgAAA4EAAABMBAMAAAAhGq8IAAAAMFBMVEX////c3Nx2dnZERESIiIgi\n",
       "IiLMzMyYmJju7u4QEBCqqqpUVFRmZma6uroyMjIAAADVePneAAAAAXRSTlMAQObYZgAAAAlwSFlz\n",
       "AAAOxAAADsQBlSsOGwAADgZJREFUeNrNnXuMJEUdx6tn59E7bzyJSsCdXOAf8bjFVQ6M5gYCKELc\n",
       "lXDh4eFOIkeCuTBjgANM8FoIIZcouyBPI9kJCYkgYZeADzRxVs5TkDW3RvyD8MeuGIIGZO+GvX3v\n",
       "tl3dXdVV1b/umeauq6Yul/nu9O70Z3+/evzqV1W9COHyPySxaNeFXi7OikIdjBSEiOV0QxRWyU9J\n",
       "ZTg39OobPqEO5o3ecyBKTInCKs8aUhn6GyEXs0+IQh2MJISI5XGfQPrjchEKx0MuHmqIQh2MJISI\n",
       "Za4sCpSbd17PxE0Tjw0XxszwUsi1PwhCm1YHIwshWskNigLV3fH6djwkWv+/d13MDAPNwEvpTUFk\n",
       "qspgpCFEDL7WRIE+dF6Se5uOB1HcHuwbCY7+5gVx2V+VwUhDiFi+JIqsVdX07b830AjyefCB+TgQ\n",
       "0ouBlyZnGXHvub9FKaQMxo+g/7AXPFivCqI4gh2XH9HnUWLmyMzfGA+mLx2JheGiwCvvsmIaHUEP\n",
       "ImUwfoSbLusFD/aNCwJ7sjSrLWWnG742mI3HaJPNTg3CFptooPZ8RhUMhPBML3gwuyaIljUbzBja\n",
       "kvaXsuPBmx5uxmy0UlB/mFthxV2W+c78PlIEAyH0hAfRFi/0j5wZvmOevODueIyWWwq4MDbIi3MU\n",
       "wkAIveHBVo0TGacp7nPyMgkpHiy0Ay4cbHIifZ1CGAihNzw4V+FEn91xibP47w5ZpRyX0dBqwPu7\n",
       "DU5sMxTCsAhpTHB+r3iwNM6JsREnH3MaOGjGZLTdNfBt/QQntGmtrAwGROgND/YtceIgbonaBTe/\n",
       "JtODwxXw7UybE9tu3m8ogwEResODyTYnWngO3W+ax6AEznnteDJKdTj+y21yYsI01cFACJ9YOLsX\n",
       "PJje4sSEkp58BXy7/5go1MFIRYhYTIMRdOiRWoqbcAA/Igp1MFIRIpaFWUZkP1KBkIeTkZODolAH\n",
       "E46Qb0q3mf4fKo9WGZFvq/BgBq43RyuiUAcTjtDN/osyEFicDOc+GlMdHGREcU3JWAzPwRaaolAH\n",
       "E4qQme8iYhQ/QJtGhZOJxTJ0Y0x9nBH9Syo8qJvg2xM1UaiDCUW4xej8sU/7PGC572snA/plOkYf\n",
       "YwQbiBVNplRjtZpZ6xhj2Q2BAVqUC+MiwDZ5B/ycA1y98DVTvFJcNE6C8xD54dISIwaYoDlruld+\n",
       "9OYr5njHDzxwEjCjUB+lmaKYdI2rn3XlxKpUGIIA2iTrVnt7YdwrD3OxTgNlrqFfkZXizPTJhFyk\n",
       "G02tMWKSDZpb3tTiDm58vKcj8B1dtVm69LEAfXv2hChyJsXLUDtLgaEIkE1SFfIJ+cA5R7/1/ylb\n",
       "TSNmpbi7DYz/At/VyL664iIjhtnGnjK9XaSH2V9nujNwV9ubNRJEtaBIL7klCjS67hl8UCYMRYBs\n",
       "UnfrDl4YD/r0F6wbOP0bvg1dKX6vq5E5IJvwBVKx24zYyU570uayZzAmGH6wM/AAEEYDw8vtJFaH\n",
       "toknPhIFqpvens0/yoShCJBNyA5FvDBuvZxuDZFl4p0GutXef/uqdXnwkxXXg3Sl+NzQ2QZpMfMg\n",
       "L7qbcKwzosXRD5vexzLbXXd1Br5Nu4R++w739QI/Q8qtvTuhcDy3LgqUNL0duRmZMB4CYBPPp3hh\n",
       "XH/tU86yKmYolLUXb3W/yF38i4dcD9KVYmav1I7AzuGcd2oQL90ZmSAdBBa7uaG1z4R6Jm28M/DL\n",
       "ZxwqM2j3PWq9Pg90Tm6F2Qndp29DFBbfCTUwHoLfJunjzCxbr+jo4nstkorFcC9KooT1z/r6Bqsz\n",
       "/4bdkmwPkpXiZzkP2mT8rzfz7xoqNkFelHKdlSBGwWKB86A+sQEN+ZXOwI8001zl+gDfEOjh3Shu\n",
       "GAp1ixuisCJoc1oJjIfgt0mGDlPahShtNbPB/Qi/voduKSfRGRbHLWUcxQzM1FB+aOinQ7voYjWq\n",
       "Ix8ZV7ahxCYqGSAvyrudRZLE5ViM8qP4nAlE1qXZjsDaxp95NBy2JYDPckfyg9BYnWqLwmpX5ppE\n",
       "mEID+RF8NsnRXtdZGNcG36Yfl0NV9Bxy4tDbCiNltw3SleK3/GTcnV9E6En7myDepAuaIbMtLCZ4\n",
       "DyZMINwloVcIcGbwnxqLVlhhgz2mHA7xYH9bFLiLWzXkwWSryI/gs0k/iR3chfF89S3KkPn11H7b\n",
       "pFYv+nJ6hEQydKX4GeQj4+48YaBW+Uq9BvJmlyAPCnOhhS3/D+J9rvore8OAc9V9CRYtMR4wrbnC\n",
       "naqDHlwUhZ0UmZcHw3hwMdgmpYrL4C6MFw0nJrKb9AurX7W/6YsInY9+Q8ZBulJ8G/KTsXf+Fd6B\n",
       "9qeEAfKm10iaAXliQjhhdcj0T47wGZ5DN9w9FQLcV84dYNGKU9nPG/7UoNUlGSEeXBaFPQy15cEw\n",
       "HlwOtkmp4TKA+Wf3I7xpA9eYXkV+Mv7OaBTtPwDlVS1bLAMeNAUP0iwSU4bsuqGthAGzxUIbazz3\n",
       "mQY0Gtedec6ca7Qje3D5tmsZYrUSYz6aWYsfhrUjiyDaxA7qgxj63PFrH32HC8VuBMj4O5N961Ao\n",
       "s0iCA+QJX+RydNWXfH3fmQLtCgMWjDZ5VvPWMsrPMp3BA3ZvOOAEInXoty+ticIOwPhhKFYYxoNr\n",
       "wTapN0MYyCQzBebutRGAjL9zym3aAC9qkyyD4Yk7RX+l/KsSe/G3mmY7DNht5lsu2ut2N5aechJE\n",
       "OAPpHlwZc4z2AHQ8NnOXKJxeZVEOTH7Pnusf3bNnyo8g2GRuNoSB/jJgDjvfAMj4O5PUHcCL3HmN\n",
       "fifyhCmmEDX/xpn38Rh62mmf7iKjt9dF+84MroLZip0gQn12LbMhBmohbXBTFE6nNSINhmmDm8E2\n",
       "wW2wM8P50JvbIDLuznQdF+AlHuTaoK8XTT4EeRBFWZ3bgfS1Ah46imU7QcRC1Muc0fhxEOxF0RVl\n",
       "STCBvahgE7sX7chwXye3UjLuzk8jd+YI8JKbhntwzt9/40Tu60b3mzx2oMyKvpa0axxOELEQbvhX\n",
       "P9b1OFhYkgcT4EHBJgONbhg0IKxKliEy9s7pCkoapLmKvCQhmzaRJ8TZRHoNnjbd//ib13RvtNy8\n",
       "vmRNyT6H7AQRC+Gm1+e6nk04NV4SDDybEG0yVo3I0IGMvfPpMzNHHAXwkpPzXCzqmw9WA6ZNR7aq\n",
       "3aNZQeFVX0f4XLc13z48dNHQUMOFeCOqB/VHJMIEzAeFm/XbQUoEhg5k7J1HTdPNHwC85NkMnAdH\n",
       "BQ9+AFl2NiqaS2X9pjhBxFaj90I8mFoWBR4OpiXCMDH9crBNiqdmNyu3upQVqwPES3Z3cB4Udhj0\n",
       "DYauTURD67N6fTtB5EGQ5YBJcG1iURTuDF4ajJfZZhB8NsmPn3oPFsTpFcBLjumiLFmbwGI3b5Aj\n",
       "3ozKG37S4x8PDa+m2wkiDOEcXCGx8kFwfbAtCstazKF+mTAMgs8mmZVT70FfAXhRnwucIbMbLFpc\n",
       "J5XxwuYME0D87uOh0c2RfV5H6QZjw/PAz+U2RGEFG1709gOZMB6C3yb6mgQPArxOQhYJG4r4PSJM\n",
       "2PysUB8ilMvdV/rR3ul8sjVlJ9hbr4uCnUpkx2XCeAiATb5ySjx4eehVgJc+SY3bUMTRe895Qj9m\n",
       "F6azFXRqCl30OgrlnICdTt4zs3TyI3JgKAJkk7uRmnIeceoGIw7OQ1MJ7Zd8Ov6eU4SQJ0PKbigS\n",
       "z2yJwptKnNGiSxRSYCgCZJMxRU+O/RnpWBcZMccGBgsf2uXd603TjPf4HHiupLAqiuKWQ7RnwjRP\n",
       "SIWhCJBNEvNKHJgkvqLHlbBgd93n2TMC8T5bEzxX4t91f5QBWpYKQxBgmzymxIP9pKbR40pYlI4r\n",
       "gTEN8N2yKNTBhCKoeULeN2lMusKI1KYKFg0+xjI6Kwp1MKEIRRVP/9XotGZgnBG5ZRUeLGyBb7ca\n",
       "olAHE4qgf0uB0e6nw/XcPCOSG0rGZHh5e3haFOpgwhE+a8g3mrepgz4BB4uA1hBzycFZDa5uKYYJ\n",
       "R9Bq0m2me916q8mIgPPQMZcUnFnkThcrhhnr4efJjBqsGGViLubk5PZL4kQYg9PTqeOCYE7BJs6u\n",
       "SIUhCNJsEqE1rnJiJzNie2tvmWohzke6TMJ/ZSaxLIqn6LXb0T+kwhAEaTbpvmTXOTHH8HsnJ/tr\n",
       "KM6JYqsJR4XrgtC8ruwxVCrLhCEI0mzyMQZuR7DPD/NOTg4YNAkXSxak0/uucE/BYl+ueCkJOTAT\n",
       "km0SITfDP34uz6Sw8cnJw/hhqI26ga6NDyG9HnDhaI0X+BRsHgPtSq+gVEMqjIsgyyYRSn2KE+xD\n",
       "ir2TkxbtIzHOwIKWSIXnD5NTsNjOVhusSoVxEWTZJEIZbvLiSW+S452ctHqMGB/XVQzaKdE/zosB\n",
       "uqfZ6kVLTakwDoI0m0Qo/xXEsBds4ZOTTo8R76hdD5oYJDd5gU/BOr1ofJFMEIyDIM0mEbr9tiBK\n",
       "NBhlTk4mq4UY/6xkywi6ss4L9xQsLpeityXDrEu1SYRQdEUQCZqSYE9Obr/KiG9Guh54aafBCfcU\n",
       "rDOjf00yjI0gyyZRMhBTgtClP2E0GdwZjVVEoQ5GGkLUQKbsE7JrlrNrHbbniijUwUhDiFh+7hMp\n",
       "2XUtrMpc7RPqYK7uSQcClTwrOcLSwxaVJ8uiUAczWe5FD441RME/xlBGLBWWHyZPMPSEOpj8YC96\n",
       "8CWfQHGlq4LKW6Hj7rU+oQ7m2h50YOEJUeCZody/u35j6FX6COtunmUdM4wchGglNSsKXP4udRgM\n",
       "34dWKItCHUyhBwfCnwji/xksCJSxUZ2/AAAAAElFTkSuQmCC\n",
       "\" style=\"display:inline;vertical-align:middle;\" /></a></span><br>"
      ],
      "text/plain": [
       "summation_partition_03: {t in NaturalPos} |- (Sum_{k=0}^{2^{t + 1} - 1} (e^{2 * pi * i * phase * k} * |k〉_{t + 1})) = ((Sum_{k=0}^{2^{t} - 1} (e^{2 * pi * i * phase * k} * |k〉_{t + 1})) + (Sum_{k=0}^{2^{t} - 1} (e^{2 * pi * i * phase * (k + 2^{t})} * |k + 2^{t}〉_{t + 1})))"
      ]
     },
     "execution_count": 29,
     "metadata": {},
     "output_type": "execute_result"
    }
   ],
   "source": [
    "summation_partition_03 = (summation_partition_02.inner_expr().rhs.\n",
    "        operands[1].domain.upper_bound.operands[0].exponent_separate())"
   ]
  },
  {
   "cell_type": "markdown",
   "metadata": {},
   "source": [
    "We want to rewrite the summand of that 2nd summation on the rhs now by (1) expanding the exponential term and (2) rewriting the $|k+2^t{\\rangle}_{t+1}$ ket as $|1\\rangle \\otimes |k{\\rangle}_t$. This takes a little work."
   ]
  },
  {
   "cell_type": "code",
   "execution_count": 30,
   "metadata": {},
   "outputs": [
    {
     "data": {
      "text/html": [
       "<strong id=\"rhs_2nd_sum\">rhs_2nd_sum:</strong> <a class=\"ProveItLink\" href=\"../../../__pv_it/_proof__psi_t_var_formula/a57ceedf32d68164e5e48623308ad5b89437f0eb0/expr.ipynb\"><img src=\"data:image/png;base64,iVBORw0KGgoAAAANSUhEUgAAASIAAABABAMAAABM22dgAAAAMFBMVEX///8yMjKqqqqIiIgQEBBE\n",
       "RESYmJjMzMzc3Ny6uroiIiJmZmZUVFR2dnbu7u4AAACz9PdfAAAAAXRSTlMAQObYZgAAAAlwSFlz\n",
       "AAAOxAAADsQBlSsOGwAABYJJREFUaN7tmV1oHEUcwP93l9ud+9pEsUUUm1N8Sq09+6Cl9SNYK7FK\n",
       "ewiJeVFObIhUsSsKhaaQxVobG2sC7YOIkKstignaQ9OICa0nLSIi9qoP0trKChElUtpcxDQtyTq3\n",
       "M7O7M7d3ObzU3QcHLrMzs7P72//8v2YCUCr94LfynN+AQiNJvyFl/QSjXPhOV5rs5rOeE8Uglg3m\n",
       "Mqz5yjrPiRoH0Swa06x2i+dEko5mne0WH2hSIus3op26z4jQM2Ylt+PS6Quifujzl4zQUztO+Iuo\n",
       "wTAuO5r7m3+E/0ut5VMPItqKqtElX4MO1tj3Lx2RUGqJuGvKcHIQSdUTQKqIQd68+PxgoeyJGOfe\n",
       "eoT0ZOWhQGHx6b+W9azDyhfQ6yCaNCcHDEdhMl/t+lxJdbbGysajpXty9eRG5rIFDRr8/zhwymil\n",
       "Qx87EjqH8+Ikh++VDluti+e/J1LbXNO7b3a3lStmdfqq1bOtSNVowZHQVVKjUub5mHmZM3/jsFLC\n",
       "F8trMvTL7v1PE1kbtoofI1U87UjoKkkYCwyRB5funoMBtf95fHHevkWrbBVNILv1byUCMf62X0Me\n",
       "0pjhE7p9WMXwSKDULYF8U6kuNaT07gIlegkTiX7jbEVPdu42Nay6DAyQXdFDhv0xBKVX4xI65cQb\n",
       "CaAQ8A68tbe0YFE8Ob727jZKBHCOTLiTI/ptUxnNxDIVAkkIuplAlHSGDVFXtjv9qFJQYO1FrLuY\n",
       "SClACgpQwHXDIFb1NaAyIvkTMqGXl9Gt4kv3QGIOGnX3PVmMbIuULdeEga+cCZ2MxZDuAXhVC2Tw\n",
       "dQolIYXrEtHAhAqx9vaN7R34TdQoD/JERdaIUE34BuAR86Yf3DazVOOHDGFT+4SQ0KH0e9aq5UMQ\n",
       "TNJV64pkNSojlEOamGFhosiCpczU123R4bR2v6JiYbloPLWjhCE4kXlTdKdGWEIXSx20iF7cJR83\n",
       "1xq/4aScZZq9Z0cPEVIXR5RoFYm+xf5G/SyhQ8DFFGUm0uZpfsA0vsn3t+ZpQhfQozojCjZvHDQ/\n",
       "A/uMTvia6dEWwyBzj3NEgXzwZ50jwuUo9HS7xUUsBWb2kwY3iorkY9BClZMU2dbMtHP4I47oUuaO\n",
       "1zMCkTxT+bhhhknUmC2XHcbtqBagP7R6nHaMshzR6jeTL2sCUZR65C9cHj7PLr78yxlaI3Om4zSM\n",
       "eTciauXwgrsrNyWiTFOi0W7SOzx8ZNPwcN4ZGGAX2LrEjkAsq48aKVFGcrGv7+1qsSnsGiSoBY1Q\n",
       "okMTqqDZdl62Ci8qEzE7ArGI0NXyVZtZLFqm3Xo7wblqSjEyKxKtAuoncPy/3VLDFl6PINTGabap\n",
       "8aP6IlnzbjcXp3FE0oJSDPFEcgFCpoqgNOw/9JNAZIXYIS7sKSbp1KMHDte3uTgL8SZlNsET7ZuY\n",
       "GCdeELvYGwUZoaLomGh53Pw7Pp2qlyichPUP8kRHDWPayjgXBCJ5jvkj4dXLlmYDxmUjQfHzVmKj\n",
       "brXCIiEKMg8oBujR60AUyZTbQCj/Oy8jdpgVFq1mu770RGWm2lSKl7/wRGHqGcZtAJIEXEpef6IQ\n",
       "lpk8xsIiPQKhyatkm75EUMK5JSG6r9pg3C0sDmmi6dOUVGr9L08gHJ9/hvcBAH9SJ67MeXQi8zBv\n",
       "+uguKwU44w1QiKxN8w1mueUIDvYslWhQvTnxM9U45tz3W/u0Jk+I7qkyttwLINRWZXBK84Boqpob\n",
       "RCs8IOqoOrrXg5PRQfBr2WanCRce8AVRw6B9shlJ+4FowGZT4YofiLoQW6sBnQYWj8vJ1ya1Y6V/\n",
       "r2V6dfjAD0QbkuxIEBNt8AEQuvY52KtW9AGRlH4XAVk1n2h2PLUzwdKTVCTvA6KwFu+2POR63Wuc\n",
       "fwD9R5bVQ4eztQAAAABJRU5ErkJggg==\n",
       "\" style=\"display:inline;vertical-align:middle;\" /></a><br>"
      ],
      "text/plain": [
       "rhs_2nd_sum: Sum_{k=0}^{2^{t} - 1} (e^{2 * pi * i * phase * (k + 2^{t})} * |k + 2^{t}〉_{t + 1})"
      ]
     },
     "execution_count": 30,
     "metadata": {},
     "output_type": "execute_result"
    }
   ],
   "source": [
    "rhs_2nd_sum = summation_partition_03.rhs.operands[1]"
   ]
  },
  {
   "cell_type": "code",
   "execution_count": 31,
   "metadata": {},
   "outputs": [
    {
     "data": {
      "text/html": [
       "<strong id=\"summand_processed_01\">summand_processed_01:</strong> <span style=\"font-size:20px;\"><a class=\"ProveItLink\" href=\"../../../__pv_it/axioms/71c1fc00120f763c694cd99d32f7a5e7315b9ca50/expr.ipynb\"><img src=\"data:image/png;base64,iVBORw0KGgoAAAANSUhEUgAAADwAAAATBAMAAAA+KHOiAAAAMFBMVEX///8QEBCYmJjMzMwyMjKI\n",
       "iIhERERUVFS6urp2dnZmZmaqqqrc3NwiIiLu7u4AAAAqt126AAAAAXRSTlMAQObYZgAAAAlwSFlz\n",
       "AAAOxAAADsQBlSsOGwAAAOZJREFUKM9jYMANFjDgBQmkS/PdT/Nj4JSXwKWbbUM7A8N7uG6+O6jS\n",
       "7Hc4FRgYGbjS0sTSkhgYuP+hSW9j8GHghevmugARDrt71wEsfSjgCJI07wSwbEscTPeBYtYJcOn2\n",
       "/PQAIMXjBzf8ABtDBkL3frAgywGENPOCt2/hobYEIo1w2gEGbe5EOPcmmDS8CwQJUGn2B4XwUPoB\n",
       "pp4h6+YreAvjcX9geAByP7I0gykbjMflwG0ApFgD4IEK5LKawRUXPAXT3jABlg1w94I8nKQApp9n\n",
       "PADTzP5iQPIJRkx15kICFQUAALDXOQj7yj+HAAAAAElFTkSuQmCC\n",
       "\" style=\"display:inline;vertical-align:middle;\" /></a>, <a class=\"ProveItLink\" href=\"../../../__pv_it/theorems/f96b113649920e91f2100c5281286cc556b8f3f20/expr.ipynb\"><img src=\"data:image/png;base64,iVBORw0KGgoAAAANSUhEUgAAAJcAAAAYBAMAAAAFV3JHAAAAMFBMVEX///+IiIjMzMzc3NyYmJhU\n",
       "VFR2dna6urqqqqpmZmYyMjIiIiIQEBBERETu7u4AAAAsfX+gAAAAAXRSTlMAQObYZgAAAAlwSFlz\n",
       "AAAOxAAADsQBlSsOGwAAAd5JREFUOMtjYCAdLGagHuD7QEXDOBaQpv55AW455uxlClhEm3GpZ1z+\n",
       "AI9NXA3YRFXvgULgzgYMiX6gWWyJk7HYP3OtAgM/hk3aIJGrYIsmYOjJBuIVDK8NMCRsGdi+M9Sg\n",
       "R0jk+gdQTQz8DdgMY9nAwHYBQyKYgeEMgygfepjJww2rh7ma8fbuXXDDeAMYOP5hGHb+AUO8wUS2\n",
       "BzgNy4GKsC98gOQy/gkMTD8wDItmYIhX0HRiwGnYUoa2eSDa6gGyN98DDfuCLdb2YxGDG8b3haP5\n",
       "CFommcXAYJ/AwPQRiz6sgmDDZEDp+XMFE9gcRLpmPgIx7BsWfdwBuAyzB0Yk5xFI3DCd3r17916w\n",
       "WVHA9P8+gYEdmyPmwhivdoPAJoRhfFENDNwrJ0FSCyIhaN4DRwAHZgQwsGBzGMQwtuVAJzTUQ5yG\n",
       "lBGAiZn3AgMLZtJgaGNgNsBhGCjb+D943yAAEhFETbQHGDgxSwemBAbGBzgMAyWxKIb3Cglo+RcU\n",
       "yzsY3oBd/H4BjAAC65kzZ2PxZr4BVNMNBsaJYMv4YuuQDXuZGASJvgkwApTI/v//hWlW6PmlDtBE\n",
       "CwfsuUjZiXSQTaI4WYbJkGPYLBzi9g1kVDNHcBXzU0k2jTkVqAUAoEWJuwmnY2MAAAAASUVORK5C\n",
       "YII=\n",
       "\" style=\"display:inline;vertical-align:middle;\" /></a> <a class=\"ProveItLink\" href=\"../../../__pv_it/_proof__psi_t_var_formula/a0ca4577fed42b7339cfd06cab2249d9bc6d98970/proof.ipynb\" style=\"text-decoration: none\">&nbsp;&#x22A2;&nbsp;&nbsp;</a><a class=\"ProveItLink\" href=\"../../../__pv_it/_proof__psi_t_var_formula/3b9e7a15f0d710b73eedafb5d5cee0bb55b606990/expr.ipynb\"><img src=\"data:image/png;base64,iVBORw0KGgoAAAANSUhEUgAAAlEAAAAmBAMAAAAW6tO9AAAAMFBMVEX///+IiIi6urrc3NxEREQi\n",
       "IiJ2dnbu7u4QEBDMzMwyMjKYmJhUVFSqqqpmZmYAAAAHKSyHAAAAAXRSTlMAQObYZgAAAAlwSFlz\n",
       "AAAOxAAADsQBlSsOGwAABqZJREFUaN7NWWuME0Uc/7d77Xa77d4a4iNRYo2PkKCh5EAF5VrlEiCK\n",
       "qTEnagT6BR8E40bx4iveKSCaQ+0HzxzEXM9gwAQfJ8EohEiJJkb0QwkJJvigF0SE08t5l3CSy1ln\n",
       "dna2+5ht99q9tnPZ6+7sdH6//f0f858tAICUh7q3FxWHG39D8zWd7F8uBsdd9rltwhp2v5SrYjKu\n",
       "ygeYKVlxsPJYn83t2gGuq8VOh9ndh6qZa26lAR6R7VcqDz1p6/kcyTdUA3gLM+SF7VVMFU1XGuER\n",
       "2T3MmweNF7zN7Xzr0Jf31gDOMzUJ04eOWqJFzFgJGNJIWe7ekY1Oapddm74z3HzdlD2QQb6Q9e89\n",
       "9qMCKXTydS0ezcyOp6l/7ycoegsZ/Ua8H/0r6Jcj5bh7SDZAORTgrNPAED5iqmbqIaVULwspblDC\n",
       "7GSaYHU/SJ8vp6I4TfkaOm4CKldPOe4eks3SGcYhkXH4/ik8mEQsOlpj3KVoAblZ2FXsdzvEPiO7\n",
       "CNS/pZiK4rTWjeFnwryTOCgGy3H3kOy39OpLFY1bXyxOoKt9uGsIdvXizz/QcYC7QlNKVLhL3AhS\n",
       "OZhzs1AjmVlPIfbY+yJJ7SRAUNDZ4mKxGNeeUwThI/UzuTANwbymlJQux91DslOl6w3oeOXZIdXY\n",
       "GM0f577ZRS+OLns+TpRCqClrfRGMOWHf+siTsIrlGNMMB6B2X0pR+HN3BNWowHeuhzuXYMjInJ+2\n",
       "QLSgKUWcxZG7Z2SFCWOB1QWK77Y08GmE1oXWlyD66wJYi+6+mheAKtVHIjbaYwTnV9rySvsFBPsJ\n",
       "wG8sVuvsXVmaJW4gKHyahzkIvwvJgTjJkIY0+gzNRYb3JzWlAvmy3D0jK47pV4sU6I9Di1AAYQtC\n",
       "64/7YBlCRH0og3L/nQf4vWNlR8cQcCs0acdMZgoXrJZIwtMxmFSDyd4u2LuO0JNf8LdXYB6QHEAl\n",
       "Xzw8hM5lLg8y+kyMoggRklJHx9aOe8hS48zdM7IR3Sm5AodNusifox4cQVb8VVtrxOSNHPWpdmhT\n",
       "v+E3mQla9WJyvpZ24hDqwYOCrDLzWnvXMXryro7CJW/Woy/ngyie6YA/FS9FH1aqDHfPyIb0RLdo\n",
       "5wD202EyJUYTv88NqIGPoi8i9wU1pbhVO88Rh06ZwBfo6/BxrbiYhMiEL/cCthejdrKnzh1Qyuga\n",
       "iiTP05U6/L6A1xY4KqTS4JMN0efM3TuyraoUL28rwDvFIj7dC2soGpz692513F1IonjkoKZUqFgk\n",
       "niwmTeBPgAU8koLIJUl+HGA3Azxrt91FyqUlTlHCSkChSkU/26rm4uXwQwYPIUq1IMmcuXtHVl1u\n",
       "+G0/72BFp6jV5ZtKhYWpqkubwD+Gk+dM4NjgY8JIhrVvRKWLvcCZolz8aaf9m942g6ZUkP36QZQt\n",
       "JWitZBN5omdCKbON7TOUvIYWiJmWk6noiV4reFam0WQvCdRbUqfacnrhQLicYT79asP5GVqjCylX\n",
       "W/CayaoxgByrhVXCBjT5AuwCeDEYwaMTtwi7reCP6jW3HdzmN8K0ziXI3HsYXmqJpRkfZpILKB6T\n",
       "XYC7s6gQLvfqQiwwu0eIYw4ScKmX6Hm2s/ONzk6CKmnJQcgZwv8lsty22ib1j5e4VNql8aVTd3vf\n",
       "msmqPpU90dZWltpy5vaLzBwoEPDAp+ctSbL0vi6KKsIxLXiFy1IOSqk+VZGLPc7cvM+snSyJPrkC\n",
       "zuZKDBF4d35BxgKOMNvoFh1vZMmCoK3X9jxFok+GGTY+OUM5qyObwPlJ2l7hRTPHoj8HTOBHlO68\n",
       "bAZ/D+BKUqsBt2FPxgJuy4zclBsu9rbQxZjayXbj8fxD+y+fsSlNDYEfg+5M2gTOrRsdJUBPIUvl\n",
       "LWZK2Oop/h9PuMwS2ZCaLaT1H9QMvhp8w4oJPICSM0mICK5VsYBn7UvM255wmSWy4aRX4IZ23Pqb\n",
       "ADLHPH2DrYGftuftD6EurTqyUs8sgM9npNNreEvob7DP8mcjlHJLVpycBXBrw7+eDONi0gh+L+Ot\n",
       "i9IApdyS5afrAH41OgboBpvbeFEG88tWfXeVbwKlHMne5wm4L1Pubo6xwfZPMIqeQl2UqpLsV1DH\n",
       "ZthgBwfd/QrRuGYl2x1rDI8QI9L4cWjOppJl2bYe7SpW58YmVYqQfbMx4G8xbZdpTqUI2UMNwfYx\n",
       "XVkcbEqhNLLhoUaA387eBe9rSqU0svwDDcDm17L7n4s3oVA62aVK/cFbHByZ29uESulkuQak0Wec\n",
       "bixpQqVUsv8DmzFA67AQQQQAAAAASUVORK5CYII=\n",
       "\" style=\"display:inline;vertical-align:middle;\" /></a></span><br>"
      ],
      "text/plain": [
       "summand_processed_01: {t in NaturalPos, k in {0 .. 2^{t} - 1}} |- (e^{2 * pi * i * phase * (k + 2^{t})} * |k + 2^{t}〉_{t + 1}) = (e^{(2 * pi * i * phase * k) + (2 * pi * i * phase * 2^{t})} * |k + 2^{t}〉_{t + 1})"
      ]
     },
     "execution_count": 31,
     "metadata": {},
     "output_type": "execute_result"
    }
   ],
   "source": [
    "summand_processed_01 = rhs_2nd_sum.summand.inner_expr().operands[0].exponent.distribution(\n",
    "    4, assumptions=[*defaults.assumptions,\n",
    "                    rhs_2nd_sum.condition])"
   ]
  },
  {
   "cell_type": "code",
   "execution_count": 32,
   "metadata": {},
   "outputs": [
    {
     "data": {
      "text/html": [
       "<strong id=\"summand_processed_02\">summand_processed_02:</strong> <span style=\"font-size:20px;\"><a class=\"ProveItLink\" href=\"../../../__pv_it/axioms/71c1fc00120f763c694cd99d32f7a5e7315b9ca50/expr.ipynb\"><img src=\"data:image/png;base64,iVBORw0KGgoAAAANSUhEUgAAADwAAAATBAMAAAA+KHOiAAAAMFBMVEX///8QEBCYmJjMzMwyMjKI\n",
       "iIhERERUVFS6urp2dnZmZmaqqqrc3NwiIiLu7u4AAAAqt126AAAAAXRSTlMAQObYZgAAAAlwSFlz\n",
       "AAAOxAAADsQBlSsOGwAAAOZJREFUKM9jYMANFjDgBQmkS/PdT/Nj4JSXwKWbbUM7A8N7uG6+O6jS\n",
       "7Hc4FRgYGbjS0sTSkhgYuP+hSW9j8GHghevmugARDrt71wEsfSjgCJI07wSwbEscTPeBYtYJcOn2\n",
       "/PQAIMXjBzf8ABtDBkL3frAgywGENPOCt2/hobYEIo1w2gEGbe5EOPcmmDS8CwQJUGn2B4XwUPoB\n",
       "pp4h6+YreAvjcX9geAByP7I0gykbjMflwG0ApFgD4IEK5LKawRUXPAXT3jABlg1w94I8nKQApp9n\n",
       "PADTzP5iQPIJRkx15kICFQUAALDXOQj7yj+HAAAAAElFTkSuQmCC\n",
       "\" style=\"display:inline;vertical-align:middle;\" /></a>, <a class=\"ProveItLink\" href=\"../../../__pv_it/theorems/f96b113649920e91f2100c5281286cc556b8f3f20/expr.ipynb\"><img src=\"data:image/png;base64,iVBORw0KGgoAAAANSUhEUgAAAJcAAAAYBAMAAAAFV3JHAAAAMFBMVEX///+IiIjMzMzc3NyYmJhU\n",
       "VFR2dna6urqqqqpmZmYyMjIiIiIQEBBERETu7u4AAAAsfX+gAAAAAXRSTlMAQObYZgAAAAlwSFlz\n",
       "AAAOxAAADsQBlSsOGwAAAd5JREFUOMtjYCAdLGagHuD7QEXDOBaQpv55AW455uxlClhEm3GpZ1z+\n",
       "AI9NXA3YRFXvgULgzgYMiX6gWWyJk7HYP3OtAgM/hk3aIJGrYIsmYOjJBuIVDK8NMCRsGdi+M9Sg\n",
       "R0jk+gdQTQz8DdgMY9nAwHYBQyKYgeEMgygfepjJww2rh7ma8fbuXXDDeAMYOP5hGHb+AUO8wUS2\n",
       "BzgNy4GKsC98gOQy/gkMTD8wDItmYIhX0HRiwGnYUoa2eSDa6gGyN98DDfuCLdb2YxGDG8b3haP5\n",
       "CFommcXAYJ/AwPQRiz6sgmDDZEDp+XMFE9gcRLpmPgIx7BsWfdwBuAyzB0Yk5xFI3DCd3r17916w\n",
       "WVHA9P8+gYEdmyPmwhivdoPAJoRhfFENDNwrJ0FSCyIhaN4DRwAHZgQwsGBzGMQwtuVAJzTUQ5yG\n",
       "lBGAiZn3AgMLZtJgaGNgNsBhGCjb+D943yAAEhFETbQHGDgxSwemBAbGBzgMAyWxKIb3Cglo+RcU\n",
       "yzsY3oBd/H4BjAAC65kzZ2PxZr4BVNMNBsaJYMv4YuuQDXuZGASJvgkwApTI/v//hWlW6PmlDtBE\n",
       "CwfsuUjZiXSQTaI4WYbJkGPYLBzi9g1kVDNHcBXzU0k2jTkVqAUAoEWJuwmnY2MAAAAASUVORK5C\n",
       "YII=\n",
       "\" style=\"display:inline;vertical-align:middle;\" /></a> <a class=\"ProveItLink\" href=\"../../../__pv_it/_proof__psi_t_var_formula/9993d0ae6c858713a8815f7ac74990c7a11f48220/proof.ipynb\" style=\"text-decoration: none\">&nbsp;&#x22A2;&nbsp;&nbsp;</a><a class=\"ProveItLink\" href=\"../../../__pv_it/_proof__psi_t_var_formula/4318675edd1b266ae4aa8afcdad430d74cbc77870/expr.ipynb\"><img src=\"data:image/png;base64,iVBORw0KGgoAAAANSUhEUgAAAlkAAAAmBAMAAAAFPZNJAAAAMFBMVEX///+IiIi6urrc3NxEREQi\n",
       "IiJ2dnbu7u4QEBDMzMwyMjKYmJhUVFSqqqpmZmYAAAAHKSyHAAAAAXRSTlMAQObYZgAAAAlwSFlz\n",
       "AAAOxAAADsQBlSsOGwAAB0VJREFUaN7FWX2IVFUUP7Nvvt58h/RBHzQRgSCxE7tWRrpTSillTMRm\n",
       "RLrzj32I0aNyMYt2y0xDy/nHUIndDaUN7GMMI1ckRywiCxwRDIxqBM3UWnQX3NZFp3vv+7r3vXvf\n",
       "vO292T3LnLdz3z3v/N75nXvvuXcAAFJVmGqJDIru/ENpf2WN4ov13y4651y2uZUtAuipiql9FnmJ\n",
       "H9bxgcZ9A7b0mwdwmwfncUE89lHab9nvh/VWFxl63NayG4Ww7MH5Yj6D603tqyByIehpxtGsP+He\n",
       "HGKmGVv6BZYh40EPzldzOYoVTe2r7MZv4YkE1To5pn3tXvkDdfNdZjZBWfR1xrB79mcFCuifbz04\n",
       "509Nfyimtg3ekvunD/HIdTVBi4VYh3Qia3Ba1DGKP1nykuSTKpBsi7paZXZwW6VRXuuTlLbyF6Uz\n",
       "Lv64xVLMtUEudLhbl2L8bsS6X3/lEegQsXcCd1ZHL/qks9J4sobSLeZm4opc4Lc/xJu2xkztzB+8\n",
       "bfku7muQC0F3I7xHMHFh6+/0b9+QaEld9TqmfRduKsP2jfj6J/rska7TohVXpHHpPIp02BxNktB3\n",
       "EgHlsbCX05bIm9qZP8nKgbivQS7Ee8EFYJwbvEcR6wnz+3L0efOVMmEAR6slJx3arn85OHd1To0W\n",
       "ClPBWnuEs6LXWv5JCRbxEpuzQqXLprbxRzI5DvKn5Jq/i00UMdcGuSBdgcaA4e6nX+ACxtbyKF2A\n",
       "dYMSuKcIkSLy1w0BCKO/boCl6O5bVRn0aGm1ZbKXdh5ZWLA+f3hnCWIoKr9znIdq9rb+nKlt/JFo\n",
       "3Q73z8EcJWb8stZiLORaJxdgGTgDhnnnUJw+5wPG1nEzpdsV2JqDoFwDeS3ytzUXgLkoYqgNTRLS\n",
       "1bMApxYsXLCgDNLDWngvMFTFrO/fDuERSKPIhnjTCacoPkBplj90jZURiRkoQhFdo7dYR4uYa3Pj\n",
       "cA6cAUt5eCkLY3zA2DphgJZqEia1vaWis5NA4H7TptR4/g5Jz6150EYsWpjcgrQxtmapl0MAG2Am\n",
       "vssZdQHO7H+Y0ix/6BorIxIzUhUy6NoxbJ1axFzr5ALcCs6AEzmI9uK34gHG1lFjpm7f1oc5OKnG\n",
       "AEcr/mOljyQ2GomJzJawFi1p0bYz6kgsMM5bjYLiqHrZrMCR3M2REubMPvuP29s2UdrGHxmJlQAk\n",
       "8ZvsaSmw67wD1zq5qJArOQOOjkFiNFB5jQsYW6dJON5YV4PN9Tr+dxCW6P7gxL8Pkn4PoDDlEkNa\n",
       "tKL1upoX8Tzj/HmwOP8e4EjpZFjh1lzyFXvbJVNjRCx/JFr7P5LxAg0H5YI5y9v70lwb5KIZseoM\n",
       "OFGAxHgq8xy/SETWZAGKrPt1E7d81ur3lWbRwUw9Rcb5Z3D8DOMcSRf0DXH3mRCZsLdNGJogYvkj\n",
       "0Up++Q5ZzObDT0aecPrSXBvkokqq3BBw6IJ8vsQFjK3JQo5i2qGId5KwhSr16GUtyywxE8ljGy3O\n",
       "5YtaT87D1VupTiIVMFZ4okWIyIbPWqUJ+sYztgol0wgw9GeEgJE1SU6UYEFeXR7SQIT4hd9sZtJM\n",
       "jt4p77A4D2mzYiorGnb2wUm0CBHv7ELU137mkC42AgzPiAEj61bc3F+v1512BfEat/k8GQeXNeep\n",
       "jWpMT3d2bujsVL2e0uNQoaaC19Vl+KrteS0jhhYiYo/0egYc+oZsCZeuGUYCwKm8GDCyJrnVf6yt\n",
       "zXGHPJ9bpufNkg85D31x1jJpmmd+yaK6X8QDWb6mIIgWlVsNEVElrsu+RrSIER+wcWLIA6xHK51p\n",
       "4OZV7jYzx4zEnmpryeL8OEg5fVuP94vqIqEVHvZ5ix6JGXAt7vuy8xYHMApSmxAwsu7AIz61vsEp\n",
       "u8QDNAOYaB1QeqoZxrlchICiVfVkv8g4t6+J0oShGyKil2bXfdNlZ8DwIcD1QsDIugf3jzz11bWT\n",
       "IJMjyPlh6CkVGeezh4e1Y5QXgewXaeeSvd6KXDT0ZBC579tRdQYsLRseLogAY+soGcqpro/Ba7QW\n",
       "Q+Ckwjjvqtcvq/8hd3i/SDuXR+xP+cDUk0Hkum9/1hlwCK0XAyLA2DqW9+Xcmz0AOWrd5SBKZhqb\n",
       "ctW5ccJNyU5KN0OoI+zJA8bWqd4mRGsWZz3A+0WaqnDB/pS/KN0MWe4FMLaOjzUhWlZZg3dweL9I\n",
       "OQ9yfsY4oJi6GfKoF8DYOnJlCqJ1E/r06ZtyacWlDLs+mcVm1dTNkAkvgIn1Y77gCDj+fFXhbMpb\n",
       "OYt+sGbqJkjLqBfAxHovTKFQm/IVoh8KmB8bfJXwgBfAxLonC9Mi7/MqpxFTN0GiVc/W/yPgvgxd\n",
       "bgKtEKadH3KDD9bvTUu0+DxHS6aemnSerPW+aYnWjfyjoQFT+5/OAz5Yx8rTECxpLb99F6X9lntz\n",
       "PlhHnpiGaK0STLircqb2WSJLfbG+T5n6aD0iyrlBU/sswbIv1lJpyoMVEZYtcyjtr7zs3fo/q1Fx\n",
       "VYivfDMAAAAASUVORK5CYII=\n",
       "\" style=\"display:inline;vertical-align:middle;\" /></a></span><br>"
      ],
      "text/plain": [
       "summand_processed_02: {t in NaturalPos, k in {0 .. 2^{t} - 1}} |- (e^{2 * pi * i * phase * (k + 2^{t})} * |k + 2^{t}〉_{t + 1}) = ((e^{2 * pi * i * phase * k} * e^{2 * pi * i * phase * 2^{t}}) * |k + 2^{t}〉_{t + 1})"
      ]
     },
     "execution_count": 32,
     "metadata": {},
     "output_type": "execute_result"
    }
   ],
   "source": [
    "summand_processed_02 = (\n",
    "    summand_processed_01.inner_expr().rhs.operands[0]\n",
    "    .exponent_separate(\n",
    "        assumptions=[*defaults.assumptions,\n",
    "                     InSet(k, Interval(zero, subtract(Exp(two, t), one)))]))"
   ]
  },
  {
   "cell_type": "code",
   "execution_count": 33,
   "metadata": {},
   "outputs": [
    {
     "data": {
      "text/html": [
       "<strong id=\"summand_processed_03\">summand_processed_03:</strong> <span style=\"font-size:20px;\"><a class=\"ProveItLink\" href=\"../../../__pv_it/axioms/71c1fc00120f763c694cd99d32f7a5e7315b9ca50/expr.ipynb\"><img src=\"data:image/png;base64,iVBORw0KGgoAAAANSUhEUgAAADwAAAATBAMAAAA+KHOiAAAAMFBMVEX///8QEBCYmJjMzMwyMjKI\n",
       "iIhERERUVFS6urp2dnZmZmaqqqrc3NwiIiLu7u4AAAAqt126AAAAAXRSTlMAQObYZgAAAAlwSFlz\n",
       "AAAOxAAADsQBlSsOGwAAAOZJREFUKM9jYMANFjDgBQmkS/PdT/Nj4JSXwKWbbUM7A8N7uG6+O6jS\n",
       "7Hc4FRgYGbjS0sTSkhgYuP+hSW9j8GHghevmugARDrt71wEsfSjgCJI07wSwbEscTPeBYtYJcOn2\n",
       "/PQAIMXjBzf8ABtDBkL3frAgywGENPOCt2/hobYEIo1w2gEGbe5EOPcmmDS8CwQJUGn2B4XwUPoB\n",
       "pp4h6+YreAvjcX9geAByP7I0gykbjMflwG0ApFgD4IEK5LKawRUXPAXT3jABlg1w94I8nKQApp9n\n",
       "PADTzP5iQPIJRkx15kICFQUAALDXOQj7yj+HAAAAAElFTkSuQmCC\n",
       "\" style=\"display:inline;vertical-align:middle;\" /></a>, <a class=\"ProveItLink\" href=\"../../../__pv_it/theorems/f96b113649920e91f2100c5281286cc556b8f3f20/expr.ipynb\"><img src=\"data:image/png;base64,iVBORw0KGgoAAAANSUhEUgAAAJcAAAAYBAMAAAAFV3JHAAAAMFBMVEX///+IiIjMzMzc3NyYmJhU\n",
       "VFR2dna6urqqqqpmZmYyMjIiIiIQEBBERETu7u4AAAAsfX+gAAAAAXRSTlMAQObYZgAAAAlwSFlz\n",
       "AAAOxAAADsQBlSsOGwAAAd5JREFUOMtjYCAdLGagHuD7QEXDOBaQpv55AW455uxlClhEm3GpZ1z+\n",
       "AI9NXA3YRFXvgULgzgYMiX6gWWyJk7HYP3OtAgM/hk3aIJGrYIsmYOjJBuIVDK8NMCRsGdi+M9Sg\n",
       "R0jk+gdQTQz8DdgMY9nAwHYBQyKYgeEMgygfepjJww2rh7ma8fbuXXDDeAMYOP5hGHb+AUO8wUS2\n",
       "BzgNy4GKsC98gOQy/gkMTD8wDItmYIhX0HRiwGnYUoa2eSDa6gGyN98DDfuCLdb2YxGDG8b3haP5\n",
       "CFommcXAYJ/AwPQRiz6sgmDDZEDp+XMFE9gcRLpmPgIx7BsWfdwBuAyzB0Yk5xFI3DCd3r17916w\n",
       "WVHA9P8+gYEdmyPmwhivdoPAJoRhfFENDNwrJ0FSCyIhaN4DRwAHZgQwsGBzGMQwtuVAJzTUQ5yG\n",
       "lBGAiZn3AgMLZtJgaGNgNsBhGCjb+D943yAAEhFETbQHGDgxSwemBAbGBzgMAyWxKIb3Cglo+RcU\n",
       "yzsY3oBd/H4BjAAC65kzZ2PxZr4BVNMNBsaJYMv4YuuQDXuZGASJvgkwApTI/v//hWlW6PmlDtBE\n",
       "CwfsuUjZiXSQTaI4WYbJkGPYLBzi9g1kVDNHcBXzU0k2jTkVqAUAoEWJuwmnY2MAAAAASUVORK5C\n",
       "YII=\n",
       "\" style=\"display:inline;vertical-align:middle;\" /></a> <a class=\"ProveItLink\" href=\"../../../__pv_it/_proof__psi_t_var_formula/e1d4eb235db8bf4ed1c542b5a744bbda2bcd3a460/proof.ipynb\" style=\"text-decoration: none\">&nbsp;&#x22A2;&nbsp;&nbsp;</a><a class=\"ProveItLink\" href=\"../../../__pv_it/_proof__psi_t_var_formula/33b9dd69e3acdb5937fb251d19562639815b08d10/expr.ipynb\"><img src=\"data:image/png;base64,iVBORw0KGgoAAAANSUhEUgAAAlkAAAAmBAMAAAAFPZNJAAAAMFBMVEX///+IiIi6urrc3NxEREQi\n",
       "IiJ2dnbu7u4QEBDMzMwyMjKYmJhUVFSqqqpmZmYAAAAHKSyHAAAAAXRSTlMAQObYZgAAAAlwSFlz\n",
       "AAAOxAAADsQBlSsOGwAAB21JREFUaN7FWX2IVFUUPzNvZt58z4T0QZ8bEQgSO+VKGulOKaWUMRGb\n",
       "EenOP0aIxVC6iEWzZaah5fwjqMTuhuIGho1h5Iq0IxaRBY4IBoY5gqZmLboLbuuyTvfe93Hvfe/e\n",
       "mbfNm92zzHk7993zzu/9zrn3nnsHACBehqkWtV925x9Guyvrc65Y/+2gc8phm1PZLoEeL1HtsoSW\n",
       "uWEd6avf12NLvwUADzbgPCLh4zCj3ZYjbljvcJChp20tBxCFxQacLxVHcBPVrgoKLvgamnF0673C\n",
       "mwPcNGNLP88KZNzfgPN1whiFs1S7KgfwWzQUBM06Nqp/7Vr9E3PzY242QVn0bdK0e/3XHGTQP983\n",
       "4Fw8NZ3LUW0bvAXnTx8QBdfRBC0XYu03AlmBi7KOQfxpIS9JPvEMybago1Vmt7BVGRG1vsxoa/yC\n",
       "bMZFXrRYymNtBhfaU47hCYRY9xqvPAztsuidwZ210Ys+iRZlLFZB6RZ2MnGp18Ttz4imrVGqa8cP\n",
       "PrR8l/c1gwu+rHN4gokLW/9gfPuOsKV0Vqs47PtwUxF2bcHXP9HnoHKHzlYkp4wpVxHTATqaFKmT\n",
       "GAIqisIhQVs0TXXt+CnWl5T3NYMLkW6wAY4JKwLRo4j1OP2+En3ef6dIIoDZ8qaUY7uML0fnr0tp\n",
       "bCGaMtbaI9Aie62VewuwRJTYghUqUaTaFj+SyREIfUmu6Uf5RJHH2gwuKBNgBUzg2UUEGFuHRtgC\n",
       "rAtynsezoGaRvy7wQAD9dQEsR3c/KIfAYEuvLWPdrHN1ccb6/KE9BQgjVv4QOPdX7G29Kapt8SNs\n",
       "PQRPzsMxis74bYPFWBprI7gAKzi2THicrNkIYsDYOkJTui0HO1LgC1UgtAH525HywHzEGGpDk4Ry\n",
       "6wrAhUWLFy0qgvKsTu81LlRh6/u3QWAYEohZv2g6EQyBQUbz8UPXcBEFMQlZyKJr8D7raJHHmm4c\n",
       "/uLYMuHxsh/EgLF11AStVBQc1DZvyYhOFIE7q0+pkfTDipFbC2A2sfByuQUJM0yztMsxgM0wE98V\n",
       "jDqPYHo9zmg+fugaLqIgJpUyJNG1fcg6gOSxNoIL8ADHlgmPxQwwIQGMrYPmTN22swfzfF7jALMV\n",
       "+bnUQxIbjcRocntAZ0tZsvOSNhIzHFutZphOapdtOTiRulctgJIWzP5j9ratjLbFj4zEkgdi+E0O\n",
       "ejN8OVAj1kZwUSFXYAGb8FjM4MUrsggwtk4QOt7bWIFt1Sr+tx+WGf7gzL9Pk35PIZpS0QGdrWC1\n",
       "quVFJM2x9QZY2PoR4EThfCAnLGpCE/a2G1RjRHz8CFtHPg/hBRqOhjJ0lrf3ZWNtBhfNiGUWMIXH\n",
       "shXollVhyJosQOrG37cKy2e9fl9Niw5u6slybH0Fpy/xngE6oWdAuM8EddzeNm5qgoiPH2Er9vVH\n",
       "ZDFbCL+YeSLoy8baDC5AvmhZE3V4LOZwKfZWTgQYW5OFPJqB9px8JwnbmVKPXdZauDVxPHZqi4Wt\n",
       "0HW9p+Dh2q14B5ESmCs80TJEZMNnrdIkfSNJW4WS5Nky4LGY88Wzc4tCwMiaJCdKMJ+oLvfrIPzi\n",
       "wm8ON2nGRh4J7baw5ddnxXiLbNjZByfRMkSiswtZX/uZQ4IfDCY8FvO5x8q7UkLAyLoVN/dWq9Va\n",
       "+/5IRdh8lYyDm7rz+BaN04sdHZs7Ol4j/18weCgxU8G72jJ8y/Y877CppYj4I718X42+flvCJSqm\n",
       "EWHLgMdivjwgA4ysSW71npo9u+YOeaGwTE/Tkg859++/Yo2TeeYXy2obMjyQQ7dlJGwxuVUXEVPi\n",
       "OuxrskWMMFvckaSB+VVSm4gAG2wlknXcrBFuM1PcSMyXWwsWz6dB0fqEU9qGzMcUHvZ5ix2JSXAs\n",
       "zvta5i0THoNZnfCOSQAj63Y84uOb6pyyKyJAM4BjazCXLyc5z6EseHJ6Va9tyFjn9jVRGTd1XUTs\n",
       "0uy4b4JbEyk8BnNkVJ3wiAEj6zx+QfWVb26fRDAFgpwfh3why3meMzSkH6O8CdqGjHGu2Ost9bqp\n",
       "J4PIed92rt6i8BjM0T51LCAEjK2DZCjHO7+ARtlaCp7zfKXXWa3e1P5D7siGjHEeGrY/5TOqJ4PI\n",
       "cd9eruSh8BjMaCG9/04hYGwdTrty7s2f2Jy07nJQSGaam3LNuXnCzcgeRjdDmCNs2xHTyXqAsXW8\n",
       "uwlszRKsB2RDxoQqkLE/5TKjmyErQc7WrHqAsXVktAlsWWU93sHhDRnj3Cf4GWMwR3Uz5PlGAGNr\n",
       "dWIK2LoHfXqMTbmy6kaSX59osVmmuhky3ghgYv2CKzg8NX++Kgk25a2CRd9XoboJ4h1pBDCxPgRT\n",
       "KMymfJXshwLuxwZXJdDXCGBinW+BaZFPRZXTMNVNkGC5Yev/QbgrQ1eYQKukaeeG3OWC9SfTwpY4\n",
       "zsEC1VOTzpO1PjwtbN0tPhrqo9r9dO5zwTpcnAaylA3i9n2MdlvmplywVl+aBrbWSibctSmqXRZ1\n",
       "uSvWT+Smnq3nZDnXT7XL4iu6Yq0UppwsVVq2zGO0u/J249b/AYlzdlAIKYwMAAAAAElFTkSuQmCC\n",
       "\" style=\"display:inline;vertical-align:middle;\" /></a></span><br>"
      ],
      "text/plain": [
       "summand_processed_03: {t in NaturalPos, k in {0 .. 2^{t} - 1}} |- (e^{2 * pi * i * phase * (k + 2^{t})} * |k + 2^{t}〉_{t + 1}) = ((e^{2 * pi * i * phase * k} * e^{2 * pi * i * phase * 2^{t}}) * |2^{t} + k〉_{t + 1})"
      ]
     },
     "execution_count": 33,
     "metadata": {},
     "output_type": "execute_result"
    }
   ],
   "source": [
    "# commute the NumKet num operands to format it for replacement later\n",
    "# using the prepend_num_ket_with_one_ket theorem\n",
    "summand_processed_03 = summand_processed_02.inner_expr().rhs.operands[1].num.commute(\n",
    "    assumptions=[*defaults.assumptions, InSet(k, Interval(zero, subtract(Exp(two, t), one)))])"
   ]
  },
  {
   "cell_type": "code",
   "execution_count": 34,
   "metadata": {},
   "outputs": [
    {
     "data": {
      "text/html": [
       "<span style=\"font-size:20px;\"> <a class=\"ProveItLink\" href=\"../../../../algebra/_theory_nbs_/proofs/prepend_num_ket_with_one_ket/thm_proof.ipynb\" style=\"text-decoration: none\">&nbsp;&#x22A2;&nbsp;&nbsp;</a><a class=\"ProveItLink\" href=\"../../../../algebra/__pv_it/theorems/b267231f637b14c55f4b15b337217e2700d0ea8b0/expr.ipynb\"><img src=\"data:image/png;base64,iVBORw0KGgoAAAANSUhEUgAAAcYAAAAZBAMAAABZU5NUAAAAMFBMVEX///+IiIgiIiIQEBB2dnbu\n",
       "7u5ERETMzMzc3NwyMjK6urpmZmaYmJiqqqpUVFQAAAB6qHgnAAAAAXRSTlMAQObYZgAAAAlwSFlz\n",
       "AAAOxAAADsQBlSsOGwAABcVJREFUWMPVmG9oHEUUwN/d7Wb37vaupzS1Nome54daam1sRUup9oRg\n",
       "5ZrULZSCqBg/eA1BYZMWxQ+Nm6ZGsdCcH1oL/unZ+rHIUa2FXD5cESymES4SOaJVr0KtoLTxQ4kK\n",
       "Ic6bmd2bvd3rngaKnfDusrNv373fzJs3bxbAv8VT98Et2wKpdc2oheGWblM3kVElf6xdOH9bwUtD\n",
       "acaMSf7c2rwPDEePebMZO0DK03/kyS2wyUujxWgi9sqQ8dDmfbDH7vmIC2Gs4tdFH8Y4fsVKS0KM\n",
       "pZFRLR411J05uF53d/cGVCn4m5lhPIO6UzvDTXxfG4wSE8I4jtfHfBijOAFhc0mMTwMyjoL0N8QT\n",
       "kc762+/hR9LXipxDHvm347pTO8NNBGtdR7hMwRCulF4fRgVne3RpoTpBGX8F2AghI1rggXbKur2A\n",
       "Hz2+VqIlxnO3zrUDXV2tnBFNSGVb9QKXKQjrjhsN1uORphy4YeukjFt1uGaOQXA/Z5zmdyM0eP2H\n",
       "MQQ1RtRWCODOPO2jJoTpCulMpkAr+SaVMMtNuaUtxxxl/BngmvEJBLrBySjR4PVfDrMCI2q/QkTu\n",
       "p33MRG3ZhUtMiO8bUqmHfBlDqdS96SUxRtPA8+p6sdtiDFdj23XMSz7tM4ERtQtPAjwj6djHTMzY\n",
       "qlKVCWE8C/Cih7G0gzFqQIsu3ta6myLbd0YcVcqo/OHF+Hzph5FSg6QTTdFGd4D3BUaiHTAlUy7I\n",
       "aexjJmpJR8sxIYyHQa16GC44GInKYfLEPXbfXiJdy50pr+uqYxjkr8jHDusqWOaMwaoX409vl18j\n",
       "YTcOLgvOtk5kHMdNbdshIBtgxjIRzduro5MJYWzRpbxYjazNwBfVekYy1Wh5M14O/NJP14WWiDjy\n",
       "cRSiSW38azsABm7n64dlgDxn/Lz2xOlUamMq9QD+++l52jPkGGNqwdk2i4xDIJGfrWLQZSwTij2E\n",
       "yhwTwhhL1FIOuv+jpEd1F+M0phx1DlHO8rUfMuBP8eeX5dX52Aoh3L7xYtScQWPN45qiwXd43not\n",
       "CzdgnCHjCge3obMZy0RtSeMeHOnk+fKcPRPo/sVEQYLtxbXFvMgY1hLEv97hNLRb+W1Mh0cdS1RX\n",
       "5+GKmvNmtGJ1BlTTzSgvROZZVtQmBtrqGMX16IjVY4RRTQfylJGbIMmWl8OxJBNk7CGbH7NM3a98\n",
       "Nyy51iNIs8RofOW3m2QWn2SlvK7D/c5BlpKQDEzqIuMJuxZNUEYlDQHdzahdlxcCdHd79mQpZDae\n",
       "xxcERqKtlPcBrIpgDctNjNrlsNbLBBlHyABRy8z9ivTcx25G9TGMtw4wIrRqVd6ljA86HRjU5Wqs\n",
       "2zGP4VYxk+fhQLF42iNW4zl5XqLFyBt3wjK9MeMOzviUyUqXVSQ0A7SG5SZ6wCqHcbdCQcY4CWNq\n",
       "mblfgcIKNyNcITJGIl47ms2+DEOXaawuOA9PfA9SsqT1MQ9j71gZIEkZ1y8u/uXB2FKGtlZWbV6C\n",
       "kxDNZh/OvuTFOMgYr279kG0TLVgDXMY+boL8DC+Hg3km9tkKLTP3K7Ar7NofWfsykjQVduMud86B\n",
       "Q/CW4xo9HLGvVls1gGfOYQ1PDY9AUWk8j0Gjdo6iZ4xzhtIunK3wMMLL4QPAxGZEy8z9CkSmG5wf\n",
       "LynJNC8YSC4JJCI0DewCmT6o7nn1jItxViyRPRhPOa76aO5eXWnMqBVqPH00W0136AIjzisvhyfY\n",
       "QcBmZJap+5N0kjwZ++B3A0YNq27saqPZY6+p0BNvaHFxTnzs4PHHRUby6x6MroMTGbflJc5ILdS1\n",
       "PptHznmckckJDlg5jNU5rdAtRmYZ3VfWmOxI3Og9gPxEtl/03b+G5s/1+jIGhFN4o+PebptH1LYZ\n",
       "28UxpVL3roO539S7jhP/mhGGIeDzLiPuXUs6E1sC7nBrW31QqzBWcvnv73PCiaYQlQ9ulfdyXu9X\n",
       "9zdl/83/wfvVLf8A3zKivWBD35sAAAAASUVORK5CYII=\n",
       "\" style=\"display:inline;vertical-align:middle;\" /></a></span>"
      ],
      "text/plain": [
       "|- forall_{n in NaturalPos} [forall_{k in {0 .. 2^{n} - 1}} (|2^{n} + k〉_{n + 1} = (|1〉 otimes |k〉_{n}))]"
      ]
     },
     "execution_count": 34,
     "metadata": {},
     "output_type": "execute_result"
    }
   ],
   "source": [
    "from proveit.physics.quantum.algebra import prepend_num_ket_with_one_ket\n",
    "prepend_num_ket_with_one_ket"
   ]
  },
  {
   "cell_type": "code",
   "execution_count": 35,
   "metadata": {},
   "outputs": [
    {
     "data": {
      "text/html": [
       "<strong id=\"prepend_num_ket_with_one_ket_inst\">prepend_num_ket_with_one_ket_inst:</strong> <span style=\"font-size:20px;\"><a class=\"ProveItLink\" href=\"../../../__pv_it/axioms/71c1fc00120f763c694cd99d32f7a5e7315b9ca50/expr.ipynb\"><img src=\"data:image/png;base64,iVBORw0KGgoAAAANSUhEUgAAADwAAAATBAMAAAA+KHOiAAAAMFBMVEX///8QEBCYmJjMzMwyMjKI\n",
       "iIhERERUVFS6urp2dnZmZmaqqqrc3NwiIiLu7u4AAAAqt126AAAAAXRSTlMAQObYZgAAAAlwSFlz\n",
       "AAAOxAAADsQBlSsOGwAAAOZJREFUKM9jYMANFjDgBQmkS/PdT/Nj4JSXwKWbbUM7A8N7uG6+O6jS\n",
       "7Hc4FRgYGbjS0sTSkhgYuP+hSW9j8GHghevmugARDrt71wEsfSjgCJI07wSwbEscTPeBYtYJcOn2\n",
       "/PQAIMXjBzf8ABtDBkL3frAgywGENPOCt2/hobYEIo1w2gEGbe5EOPcmmDS8CwQJUGn2B4XwUPoB\n",
       "pp4h6+YreAvjcX9geAByP7I0gykbjMflwG0ApFgD4IEK5LKawRUXPAXT3jABlg1w94I8nKQApp9n\n",
       "PADTzP5iQPIJRkx15kICFQUAALDXOQj7yj+HAAAAAElFTkSuQmCC\n",
       "\" style=\"display:inline;vertical-align:middle;\" /></a>, <a class=\"ProveItLink\" href=\"../../../__pv_it/theorems/f96b113649920e91f2100c5281286cc556b8f3f20/expr.ipynb\"><img src=\"data:image/png;base64,iVBORw0KGgoAAAANSUhEUgAAAJcAAAAYBAMAAAAFV3JHAAAAMFBMVEX///+IiIjMzMzc3NyYmJhU\n",
       "VFR2dna6urqqqqpmZmYyMjIiIiIQEBBERETu7u4AAAAsfX+gAAAAAXRSTlMAQObYZgAAAAlwSFlz\n",
       "AAAOxAAADsQBlSsOGwAAAd5JREFUOMtjYCAdLGagHuD7QEXDOBaQpv55AW455uxlClhEm3GpZ1z+\n",
       "AI9NXA3YRFXvgULgzgYMiX6gWWyJk7HYP3OtAgM/hk3aIJGrYIsmYOjJBuIVDK8NMCRsGdi+M9Sg\n",
       "R0jk+gdQTQz8DdgMY9nAwHYBQyKYgeEMgygfepjJww2rh7ma8fbuXXDDeAMYOP5hGHb+AUO8wUS2\n",
       "BzgNy4GKsC98gOQy/gkMTD8wDItmYIhX0HRiwGnYUoa2eSDa6gGyN98DDfuCLdb2YxGDG8b3haP5\n",
       "CFommcXAYJ/AwPQRiz6sgmDDZEDp+XMFE9gcRLpmPgIx7BsWfdwBuAyzB0Yk5xFI3DCd3r17916w\n",
       "WVHA9P8+gYEdmyPmwhivdoPAJoRhfFENDNwrJ0FSCyIhaN4DRwAHZgQwsGBzGMQwtuVAJzTUQ5yG\n",
       "lBGAiZn3AgMLZtJgaGNgNsBhGCjb+D943yAAEhFETbQHGDgxSwemBAbGBzgMAyWxKIb3Cglo+RcU\n",
       "yzsY3oBd/H4BjAAC65kzZ2PxZr4BVNMNBsaJYMv4YuuQDXuZGASJvgkwApTI/v//hWlW6PmlDtBE\n",
       "CwfsuUjZiXSQTaI4WYbJkGPYLBzi9g1kVDNHcBXzU0k2jTkVqAUAoEWJuwmnY2MAAAAASUVORK5C\n",
       "YII=\n",
       "\" style=\"display:inline;vertical-align:middle;\" /></a> <a class=\"ProveItLink\" href=\"../../../__pv_it/_proof__psi_t_var_formula/1eb972808416809f4740c433f940238ed773d6540/proof.ipynb\" style=\"text-decoration: none\">&nbsp;&#x22A2;&nbsp;&nbsp;</a><a class=\"ProveItLink\" href=\"../../../__pv_it/_proof__psi_t_var_formula/5dc692f02c7f60e04d6bb708517ab38d6004bec70/expr.ipynb\"><img src=\"data:image/png;base64,iVBORw0KGgoAAAANSUhEUgAAANEAAAAYBAMAAACW8wWgAAAAMFBMVEX///+qqqqYmJgiIiLu7u4Q\n",
       "EBBUVFREREQyMjJmZmbMzMyIiIi6urp2dnbc3NwAAAAXCV9gAAAAAXRSTlMAQObYZgAAAAlwSFlz\n",
       "AAAOxAAADsQBlSsOGwAAAtNJREFUSMe9lT9oE1Ecx3+XXK65uyQeuLRI5CZRHIyIRbfbRB0S6uAi\n",
       "mEFEtyhIQCVEkUKXNBQHqxUOCnUQMWonKRpnh0ZQh2htwEE6VIp0cmh8v/deLu/l3SVd7IM7jnff\n",
       "9/38fu/P7wHwluzAHrX8XoFg/L8T+KRtnmqH/LR2M74Tos0MGKDmO/++F2Yz5o8C2U7PQdKmm3Ln\n",
       "R0baeHQbYHvAQr+VA9Dqo0hZFuuiJ2sJSTKwXdRlSrDeTBUGPZIoyo0A6VV00K/PerIWc5IMHqDO\n",
       "6ECiYBfPsa6Uy//tc8jr0wiS6bKc3ntca6+tLXOSZHAEdYltMHbMxmfWpTX4v1UyGH6NICWgT0Kt\n",
       "RTDnm4wkGSQ8zCkHxl9rzh8gfdnNeR4XSKh9Rh79LiNJBkmX7Zz4VjA2IE1D9iForeGkpwIJtfUf\n",
       "AGfTHiVJBukiI71sKCT9j3ZwKnRLmCdoK+L3fYFEtHYn3dHreovuPckgVmWkSVBI2s4HqwawIMyg\n",
       "flihHhdJC2AAtDcAikiSDbQC1ZmlfrgnL7BwzSm6cEu8IuKOff5GIV0SSUuQJuPIYJqTbGBtUd0h\n",
       "UHOKzzzmJ5NWRBrL/uGkLJikrLUxLEKSDVI0J7JqvxVS3lnFmGq8IgokcZ2k2asRUqZlNxlJNtBy\n",
       "qHsBsKyQjnl5p4H1g1XEiJzuCCSitRzitZJykCQbxEpYjU7Pz+cU0jXI+2S+HV4RI0hfOWmdLDpq\n",
       "V8imtrP0PMkGZovo4t1ut6qQboD9xIM4nWGzXL5YvhlGWmSkq5enXdTCGJ7cK5QkGpBlbwa3hnJy\n",
       "aZsgIdKKGJFT3O/fOxP4Oupbr4VbIzD4CQopqLC0VUjetCJGkGL1vkOFnrkDrzyR1DOYU0nKpcAq\n",
       "IpI2Z78pikrgoFdDbsKeAW6MoSQ7SLAUoTgTONhuCKnXiev3dhjJCL6iLt9Mo+dgSCH6cuc7gH/f\n",
       "DvT/6ZzRKwAAAABJRU5ErkJggg==\n",
       "\" style=\"display:inline;vertical-align:middle;\" /></a></span><br>"
      ],
      "text/plain": [
       "prepend_num_ket_with_one_ket_inst: {t in NaturalPos, k in {0 .. 2^{t} - 1}} |- |2^{t} + k〉_{t + 1} = (|1〉 otimes |k〉_{t})"
      ]
     },
     "execution_count": 35,
     "metadata": {},
     "output_type": "execute_result"
    }
   ],
   "source": [
    "prepend_num_ket_with_one_ket_inst = prepend_num_ket_with_one_ket.instantiate(\n",
    "        {n: t, k: k},\n",
    "        assumptions=[*defaults.assumptions, InSet(k, Interval(zero, subtract(Exp(two, t), one)))])"
   ]
  },
  {
   "cell_type": "code",
   "execution_count": 36,
   "metadata": {},
   "outputs": [
    {
     "data": {
      "text/html": [
       "<strong id=\"summand_processed_04\">summand_processed_04:</strong> <span style=\"font-size:20px;\"><a class=\"ProveItLink\" href=\"../../../__pv_it/axioms/71c1fc00120f763c694cd99d32f7a5e7315b9ca50/expr.ipynb\"><img src=\"data:image/png;base64,iVBORw0KGgoAAAANSUhEUgAAADwAAAATBAMAAAA+KHOiAAAAMFBMVEX///8QEBCYmJjMzMwyMjKI\n",
       "iIhERERUVFS6urp2dnZmZmaqqqrc3NwiIiLu7u4AAAAqt126AAAAAXRSTlMAQObYZgAAAAlwSFlz\n",
       "AAAOxAAADsQBlSsOGwAAAOZJREFUKM9jYMANFjDgBQmkS/PdT/Nj4JSXwKWbbUM7A8N7uG6+O6jS\n",
       "7Hc4FRgYGbjS0sTSkhgYuP+hSW9j8GHghevmugARDrt71wEsfSjgCJI07wSwbEscTPeBYtYJcOn2\n",
       "/PQAIMXjBzf8ABtDBkL3frAgywGENPOCt2/hobYEIo1w2gEGbe5EOPcmmDS8CwQJUGn2B4XwUPoB\n",
       "pp4h6+YreAvjcX9geAByP7I0gykbjMflwG0ApFgD4IEK5LKawRUXPAXT3jABlg1w94I8nKQApp9n\n",
       "PADTzP5iQPIJRkx15kICFQUAALDXOQj7yj+HAAAAAElFTkSuQmCC\n",
       "\" style=\"display:inline;vertical-align:middle;\" /></a>, <a class=\"ProveItLink\" href=\"../../../__pv_it/theorems/f96b113649920e91f2100c5281286cc556b8f3f20/expr.ipynb\"><img src=\"data:image/png;base64,iVBORw0KGgoAAAANSUhEUgAAAJcAAAAYBAMAAAAFV3JHAAAAMFBMVEX///+IiIjMzMzc3NyYmJhU\n",
       "VFR2dna6urqqqqpmZmYyMjIiIiIQEBBERETu7u4AAAAsfX+gAAAAAXRSTlMAQObYZgAAAAlwSFlz\n",
       "AAAOxAAADsQBlSsOGwAAAd5JREFUOMtjYCAdLGagHuD7QEXDOBaQpv55AW455uxlClhEm3GpZ1z+\n",
       "AI9NXA3YRFXvgULgzgYMiX6gWWyJk7HYP3OtAgM/hk3aIJGrYIsmYOjJBuIVDK8NMCRsGdi+M9Sg\n",
       "R0jk+gdQTQz8DdgMY9nAwHYBQyKYgeEMgygfepjJww2rh7ma8fbuXXDDeAMYOP5hGHb+AUO8wUS2\n",
       "BzgNy4GKsC98gOQy/gkMTD8wDItmYIhX0HRiwGnYUoa2eSDa6gGyN98DDfuCLdb2YxGDG8b3haP5\n",
       "CFommcXAYJ/AwPQRiz6sgmDDZEDp+XMFE9gcRLpmPgIx7BsWfdwBuAyzB0Yk5xFI3DCd3r17916w\n",
       "WVHA9P8+gYEdmyPmwhivdoPAJoRhfFENDNwrJ0FSCyIhaN4DRwAHZgQwsGBzGMQwtuVAJzTUQ5yG\n",
       "lBGAiZn3AgMLZtJgaGNgNsBhGCjb+D943yAAEhFETbQHGDgxSwemBAbGBzgMAyWxKIb3Cglo+RcU\n",
       "yzsY3oBd/H4BjAAC65kzZ2PxZr4BVNMNBsaJYMv4YuuQDXuZGASJvgkwApTI/v//hWlW6PmlDtBE\n",
       "CwfsuUjZiXSQTaI4WYbJkGPYLBzi9g1kVDNHcBXzU0k2jTkVqAUAoEWJuwmnY2MAAAAASUVORK5C\n",
       "YII=\n",
       "\" style=\"display:inline;vertical-align:middle;\" /></a> <a class=\"ProveItLink\" href=\"../../../__pv_it/_proof__psi_t_var_formula/28cdb441ffd126b0131b9f2a2451a27d9a31899e0/proof.ipynb\" style=\"text-decoration: none\">&nbsp;&#x22A2;&nbsp;&nbsp;</a><a class=\"ProveItLink\" href=\"../../../__pv_it/_proof__psi_t_var_formula/406ba9c1055a182d6efbe8bc509297cbf4d4230b0/expr.ipynb\"><img src=\"data:image/png;base64,iVBORw0KGgoAAAANSUhEUgAAAlEAAAAmBAMAAAAW6tO9AAAAMFBMVEX///+IiIi6urrc3NxEREQi\n",
       "IiJ2dnbu7u4QEBDMzMwyMjKYmJhUVFSqqqpmZmYAAAAHKSyHAAAAAXRSTlMAQObYZgAAAAlwSFlz\n",
       "AAAOxAAADsQBlSsOGwAACE5JREFUaN7FWX1sFEUUf9ft3XbveteDRqMiscbE8IekR1pE/Gq1RCGI\n",
       "OTQVTISeMaAhmGwUGoJIGxDRgHLEkABRWgOhJjV6GBKBEKhBIoIJTYhgMOKR8CUoKW3Sakk953N3\n",
       "5nb2unZ77ZKyt7Pzbn7v9968jzkAgFg3jPWld7i8YFj+KsKaq03fkn96mJzwOOb12uYCm2KJdRWB\n",
       "KWOBX8lI+/BzAw63exLgfh+wI2ouGJZDRXHkw34lt3vwyrOOkX2IvowP2POUoxSLsXHUWUKGhdIR\n",
       "RxkmuVf58qAUVhxuF1iMhDt8QF+ltA/FEk6NOlP7sBYjNgCVjA6wp6U/ieDfl+JsBiLzbTk8M4k+\n",
       "HPEBXRmKGJbflSxG0t6//aDKsJ4CcoHwGWQGjEEs6TaxDP2tY7PoTOJlZZ6yyW7lqNanGGRYXmKP\n",
       "zct/EEGIniYYbjg7W4aFuhHnICLZxlaoqNL+cZt4HmnWQ3csmxnNoiAV9hKo9B71+DOKMYrFYF4O\n",
       "Wbjs+rXr8lzU3c6WYaF0xLuaSH7PrWQSpqbncjlMYCcey8DOTfh+Bb2un5ZiTOGZ2g00KWTvIM11\n",
       "kSgCqdo3BxRjFEt5PXvshTq3Hafl8V/AzpZhIdIqfYUFOi2NyoP0mUjetiaFkFX0q4+FyANmqiSh\n",
       "HdvJHsorz61nTNGZcn0RqnJTacneNMxRObQiE1EsFdxVvyVMaU25HN6qxIMjYHxB7tRw9m50t7Nl\n",
       "WNCGRJHJFmgRnqUIGyyJA5M0+oRqUE/pUNmM+EqhtZohACH0Dz0vQlFiMmG5VKwbo63iAvrsfP/X\n",
       "bu5JQxgxckEVk7LOCo9iabPDyRL0t/btDCGFMPUAPD4T24cZTlTR1c7csACLRV9PEVZwVXlBZooq\n",
       "wgcnccmI5cbas2Cg1et3Ab53wvZEAJ5AbG1P4KBQdxMRdWnW7FmzMngm1axHMkU4X/daCPVCBWI1\n",
       "qAofzoKXYTkqFsfNYAZmIKaaEVPIgHFIQQrdmeGkqt/NznZDcF1sUQjoNdcHZHiWInwwbDLJ8na7\n",
       "OKvBfNU/ZFmlHAH7jYXP/SXJBPcpOhNZTfIpqOD7qYRtn2MAH8AU/Fax0wLOSM+wnLSpNrGdSg2E\n",
       "fHsinEEGjGvdEEd3YjjJf93tzA0LcJ8gcIOCDgxweHcufdUUFOGYI1kmWcajsjZnx1Vs6vgUi6nI\n",
       "j127iOOj3fedkeQRnc1EDpyUmKrmpovG6X2LCacT9+ppRL8i0jsjMMOy2dI+q2Hr1JZ0WbuvKwBR\n",
       "rAIznFiEu9qZGxYVagK9rTZTBN5WE/SJgiIW5o1MsgLrr59YDGW5XA9xtqDJ14Lzfz9NJj8F0ACn\n",
       "eJxiM3FYlZh6A/KYOg5wOn0xZCprKmPImaVokO7H/63ZkIXaHbswlovUdwlThz81ruAHZjhahyD0\n",
       "BexsGRZFwG4pJXOmMDyjAd1XVAmKcMydTJIkmlWLDig71ghTebldWEihJiUx9SWcvSoxha4m2HVQ\n",
       "2TeCftvJVMbKgPqGXzfDllwOP3fAAoup6NfvkeTEDEcbI4S+gJ0twwK0ZCTsFlMIXiyUAD37uqAI\n",
       "x7ycSZJkfRy0gQKdIWwTyjgxfVVJKeN29MymPKaMW2ym4svpq8uN+HpFKBxILi9PQp3p1sDlXW7o\n",
       "I3GHKewRzLvFFIJXCa/BWhT/bUU45kNMkjgksuJc1VpBBjaoLgCnSykj2jfV2J3HVJC5akxRbvU7\n",
       "S/Rua1si9yrNeDyDcEPvPDuosDdBsFtgCsHrgtAnWRTbbEU45l+YZDWuKVC91l/wNCmrHL5BdtEg\n",
       "Yyq2ifAZa2xcuKGxkVJ0iftWlxCr3qEp7l/H91UTbCW9mDQESdl7yMdxLe0F0AcdTlmR5UJQViUw\n",
       "heClSBscEhThmNuYJLajMVRTM6Ng39OgLL/r7XIOLRD86o+8iG6f16Eyj/R/ePMaE5IuTAk+1Xam\n",
       "psZD/43L1+HR5zFFal6JKQQvC9rSNMJnK8IxTxGYYiGjwLVC6d0Jafe1dFen85g6CxqdE06QZEMT\n",
       "AisunHFK3H1x7+3rLc8zhW+Vdh+Cl4WHYSJliinCMf/MJOtwNLhmFmhxifuogFfKpe1Rs6U7LjFl\n",
       "pCBgsmqd9H8SU87cR7CAhl/ENno/px8WfX5yJWaOC0zVAnyGwVZNFRThmPczyRas1cpN98/3d6aI\n",
       "FjgJLemUxNT0mzfZscmbQPo/kSnNWU8RLKBjH9EXfnOHV7fyjl7oyvE5CGYq1EfhBR7ETXNKUIRj\n",
       "vsIky8jWvTwY983UPAhcNCWmmnK5QfoJcYP7P5Epo9dZo9PE8TFJDE2fe17cM/o2OwUbSQK6/MTg\n",
       "KQKPhOI1pqAIx/wCkwzXj8o5tXTqEs0HHs2SwMgabMpU1FkDMSx7oFiXeOz8sg0aw4PI3bA1IyjC\n",
       "MIOWZJKx1tFnqiSjiP24/xN9KuQ8o2RYrhWNqSXC5yM2aJqa3p1wTlSEY45lmGRkYPSZclyrcfeG\n",
       "+z+BqVJn/8SwHDWLxdRzsvU46NUqRTjmWi6pD40BU/g0jPR/5ChiWX9czkNWK0ixtBTt138x3er1\n",
       "FuhJKkU45gZL8vlRwRAo+BNTl6LBrlYUARRLabZIRJVIvwdNs0B3qRRhg4GEJXkAxvASGuxlrr9C\n",
       "RFqLtHqo3ZdkSxWMy/WRYoxi0XuLtGRZty/JkRPtb7u2uht9WZHWvMun5IfjwpTavhRLWXrs3Pj/\n",
       "SB4aF6buUY5SLJHiuHmg3adkODMORGnrlcMMS2dR1nwk4VNSf3EcmFqpDq4My8pEEZbUF/mWfNQc\n",
       "e6bmuoxTLFpHEZYszfiW1NJjTpTuVpowLDOLsOZb/iT/Ax+/ezIX0CQWAAAAAElFTkSuQmCC\n",
       "\" style=\"display:inline;vertical-align:middle;\" /></a></span><br>"
      ],
      "text/plain": [
       "summand_processed_04: {t in NaturalPos, k in {0 .. 2^{t} - 1}} |- (e^{2 * pi * i * phase * (k + 2^{t})} * |k + 2^{t}〉_{t + 1}) = ((e^{2 * pi * i * phase * k} * e^{2 * pi * i * phase * 2^{t}}) * (|1〉 otimes |k〉_{t}))"
      ]
     },
     "execution_count": 36,
     "metadata": {},
     "output_type": "execute_result"
    }
   ],
   "source": [
    "summand_processed_04 = (\n",
    "    summand_processed_03.inner_expr().rhs.operands[1]\n",
    "    .substitute(prepend_num_ket_with_one_ket_inst))"
   ]
  },
  {
   "cell_type": "code",
   "execution_count": 37,
   "metadata": {},
   "outputs": [
    {
     "data": {
      "text/html": [
       "<span style=\"font-size:20px;\"><a class=\"ProveItLink\" href=\"../../../__pv_it/axioms/71c1fc00120f763c694cd99d32f7a5e7315b9ca50/expr.ipynb\"><img src=\"data:image/png;base64,iVBORw0KGgoAAAANSUhEUgAAADwAAAATBAMAAAA+KHOiAAAAMFBMVEX///8QEBCYmJjMzMwyMjKI\n",
       "iIhERERUVFS6urp2dnZmZmaqqqrc3NwiIiLu7u4AAAAqt126AAAAAXRSTlMAQObYZgAAAAlwSFlz\n",
       "AAAOxAAADsQBlSsOGwAAAOZJREFUKM9jYMANFjDgBQmkS/PdT/Nj4JSXwKWbbUM7A8N7uG6+O6jS\n",
       "7Hc4FRgYGbjS0sTSkhgYuP+hSW9j8GHghevmugARDrt71wEsfSjgCJI07wSwbEscTPeBYtYJcOn2\n",
       "/PQAIMXjBzf8ABtDBkL3frAgywGENPOCt2/hobYEIo1w2gEGbe5EOPcmmDS8CwQJUGn2B4XwUPoB\n",
       "pp4h6+YreAvjcX9geAByP7I0gykbjMflwG0ApFgD4IEK5LKawRUXPAXT3jABlg1w94I8nKQApp9n\n",
       "PADTzP5iQPIJRkx15kICFQUAALDXOQj7yj+HAAAAAElFTkSuQmCC\n",
       "\" style=\"display:inline;vertical-align:middle;\" /></a> <a class=\"ProveItLink\" href=\"../../../__pv_it/_proof__psi_t_var_formula/79927b6a04c4cd2ff14dff685973ed72ac7145b60/proof.ipynb\" style=\"text-decoration: none\">&nbsp;&#x22A2;&nbsp;&nbsp;</a><a class=\"ProveItLink\" href=\"../../../__pv_it/_proof__psi_t_var_formula/850b7bac4e65c8afa1ca8e15b318ce9eada5be0f0/expr.ipynb\"><img src=\"data:image/png;base64,iVBORw0KGgoAAAANSUhEUgAAA4EAAABMBAMAAAAhGq8IAAAAMFBMVEX////c3Nx2dnZERESIiIgi\n",
       "IiLMzMyYmJju7u4QEBCqqqpUVFRmZma6uroyMjIAAADVePneAAAAAXRSTlMAQObYZgAAAAlwSFlz\n",
       "AAAOxAAADsQBlSsOGwAADgZJREFUeNrNnXuMJEUdx6tn59E7bzyJSsCdXOAf8bjFVQ6M5gYCKELc\n",
       "lXDh4eFOIkeCuTBjgANM8FoIIZcouyBPI9kJCYkgYZeADzRxVs5TkDW3RvyD8MeuGIIGZO+GvX3v\n",
       "tl3dXdVV1b/umeauq6Yul/nu9O70Z3+/evzqV1W9COHyPySxaNeFXi7OikIdjBSEiOV0QxRWyU9J\n",
       "ZTg39OobPqEO5o3ecyBKTInCKs8aUhn6GyEXs0+IQh2MJISI5XGfQPrjchEKx0MuHmqIQh2MJISI\n",
       "Za4sCpSbd17PxE0Tjw0XxszwUsi1PwhCm1YHIwshWskNigLV3fH6djwkWv+/d13MDAPNwEvpTUFk\n",
       "qspgpCFEDL7WRIE+dF6Se5uOB1HcHuwbCY7+5gVx2V+VwUhDiFi+JIqsVdX07b830AjyefCB+TgQ\n",
       "0ouBlyZnGXHvub9FKaQMxo+g/7AXPFivCqI4gh2XH9HnUWLmyMzfGA+mLx2JheGiwCvvsmIaHUEP\n",
       "ImUwfoSbLusFD/aNCwJ7sjSrLWWnG742mI3HaJPNTg3CFptooPZ8RhUMhPBML3gwuyaIljUbzBja\n",
       "kvaXsuPBmx5uxmy0UlB/mFthxV2W+c78PlIEAyH0hAfRFi/0j5wZvmOevODueIyWWwq4MDbIi3MU\n",
       "wkAIveHBVo0TGacp7nPyMgkpHiy0Ay4cbHIifZ1CGAihNzw4V+FEn91xibP47w5ZpRyX0dBqwPu7\n",
       "DU5sMxTCsAhpTHB+r3iwNM6JsREnH3MaOGjGZLTdNfBt/QQntGmtrAwGROgND/YtceIgbonaBTe/\n",
       "JtODwxXw7UybE9tu3m8ogwEResODyTYnWngO3W+ax6AEznnteDJKdTj+y21yYsI01cFACJ9YOLsX\n",
       "PJje4sSEkp58BXy7/5go1MFIRYhYTIMRdOiRWoqbcAA/Igp1MFIRIpaFWUZkP1KBkIeTkZODolAH\n",
       "E46Qb0q3mf4fKo9WGZFvq/BgBq43RyuiUAcTjtDN/osyEFicDOc+GlMdHGREcU3JWAzPwRaaolAH\n",
       "E4qQme8iYhQ/QJtGhZOJxTJ0Y0x9nBH9Syo8qJvg2xM1UaiDCUW4xej8sU/7PGC572snA/plOkYf\n",
       "YwQbiBVNplRjtZpZ6xhj2Q2BAVqUC+MiwDZ5B/ycA1y98DVTvFJcNE6C8xD54dISIwaYoDlruld+\n",
       "9OYr5njHDzxwEjCjUB+lmaKYdI2rn3XlxKpUGIIA2iTrVnt7YdwrD3OxTgNlrqFfkZXizPTJhFyk\n",
       "G02tMWKSDZpb3tTiDm58vKcj8B1dtVm69LEAfXv2hChyJsXLUDtLgaEIkE1SFfIJ+cA5R7/1/ylb\n",
       "TSNmpbi7DYz/At/VyL664iIjhtnGnjK9XaSH2V9nujNwV9ubNRJEtaBIL7klCjS67hl8UCYMRYBs\n",
       "UnfrDl4YD/r0F6wbOP0bvg1dKX6vq5E5IJvwBVKx24zYyU570uayZzAmGH6wM/AAEEYDw8vtJFaH\n",
       "toknPhIFqpvens0/yoShCJBNyA5FvDBuvZxuDZFl4p0GutXef/uqdXnwkxXXg3Sl+NzQ2QZpMfMg\n",
       "L7qbcKwzosXRD5vexzLbXXd1Br5Nu4R++w739QI/Q8qtvTuhcDy3LgqUNL0duRmZMB4CYBPPp3hh\n",
       "XH/tU86yKmYolLUXb3W/yF38i4dcD9KVYmav1I7AzuGcd2oQL90ZmSAdBBa7uaG1z4R6Jm28M/DL\n",
       "ZxwqM2j3PWq9Pg90Tm6F2Qndp29DFBbfCTUwHoLfJunjzCxbr+jo4nstkorFcC9KooT1z/r6Bqsz\n",
       "/4bdkmwPkpXiZzkP2mT8rzfz7xoqNkFelHKdlSBGwWKB86A+sQEN+ZXOwI8001zl+gDfEOjh3Shu\n",
       "GAp1ixuisCJoc1oJjIfgt0mGDlPahShtNbPB/Qi/voduKSfRGRbHLWUcxQzM1FB+aOinQ7voYjWq\n",
       "Ix8ZV7ahxCYqGSAvyrudRZLE5ViM8qP4nAlE1qXZjsDaxp95NBy2JYDPckfyg9BYnWqLwmpX5ppE\n",
       "mEID+RF8NsnRXtdZGNcG36Yfl0NV9Bxy4tDbCiNltw3SleK3/GTcnV9E6En7myDepAuaIbMtLCZ4\n",
       "DyZMINwloVcIcGbwnxqLVlhhgz2mHA7xYH9bFLiLWzXkwWSryI/gs0k/iR3chfF89S3KkPn11H7b\n",
       "pFYv+nJ6hEQydKX4GeQj4+48YaBW+Uq9BvJmlyAPCnOhhS3/D+J9rvore8OAc9V9CRYtMR4wrbnC\n",
       "naqDHlwUhZ0UmZcHw3hwMdgmpYrL4C6MFw0nJrKb9AurX7W/6YsInY9+Q8ZBulJ8G/KTsXf+Fd6B\n",
       "9qeEAfKm10iaAXliQjhhdcj0T47wGZ5DN9w9FQLcV84dYNGKU9nPG/7UoNUlGSEeXBaFPQy15cEw\n",
       "HlwOtkmp4TKA+Wf3I7xpA9eYXkV+Mv7OaBTtPwDlVS1bLAMeNAUP0iwSU4bsuqGthAGzxUIbazz3\n",
       "mQY0Gtedec6ca7Qje3D5tmsZYrUSYz6aWYsfhrUjiyDaxA7qgxj63PFrH32HC8VuBMj4O5N961Ao\n",
       "s0iCA+QJX+RydNWXfH3fmQLtCgMWjDZ5VvPWMsrPMp3BA3ZvOOAEInXoty+ticIOwPhhKFYYxoNr\n",
       "wTapN0MYyCQzBebutRGAjL9zym3aAC9qkyyD4Yk7RX+l/KsSe/G3mmY7DNht5lsu2ut2N5aechJE\n",
       "OAPpHlwZc4z2AHQ8NnOXKJxeZVEOTH7Pnusf3bNnyo8g2GRuNoSB/jJgDjvfAMj4O5PUHcCL3HmN\n",
       "fifyhCmmEDX/xpn38Rh62mmf7iKjt9dF+84MroLZip0gQn12LbMhBmohbXBTFE6nNSINhmmDm8E2\n",
       "wW2wM8P50JvbIDLuznQdF+AlHuTaoK8XTT4EeRBFWZ3bgfS1Ah46imU7QcRC1Muc0fhxEOxF0RVl\n",
       "STCBvahgE7sX7chwXye3UjLuzk8jd+YI8JKbhntwzt9/40Tu60b3mzx2oMyKvpa0axxOELEQbvhX\n",
       "P9b1OFhYkgcT4EHBJgONbhg0IKxKliEy9s7pCkoapLmKvCQhmzaRJ8TZRHoNnjbd//ib13RvtNy8\n",
       "vmRNyT6H7AQRC+Gm1+e6nk04NV4SDDybEG0yVo3I0IGMvfPpMzNHHAXwkpPzXCzqmw9WA6ZNR7aq\n",
       "3aNZQeFVX0f4XLc13z48dNHQUMOFeCOqB/VHJMIEzAeFm/XbQUoEhg5k7J1HTdPNHwC85NkMnAdH\n",
       "BQ9+AFl2NiqaS2X9pjhBxFaj90I8mFoWBR4OpiXCMDH9crBNiqdmNyu3upQVqwPES3Z3cB4Udhj0\n",
       "DYauTURD67N6fTtB5EGQ5YBJcG1iURTuDF4ajJfZZhB8NsmPn3oPFsTpFcBLjumiLFmbwGI3b5Aj\n",
       "3ozKG37S4x8PDa+m2wkiDOEcXCGx8kFwfbAtCstazKF+mTAMgs8mmZVT70FfAXhRnwucIbMbLFpc\n",
       "J5XxwuYME0D87uOh0c2RfV5H6QZjw/PAz+U2RGEFG1709gOZMB6C3yb6mgQPArxOQhYJG4r4PSJM\n",
       "2PysUB8ilMvdV/rR3ul8sjVlJ9hbr4uCnUpkx2XCeAiATb5ySjx4eehVgJc+SY3bUMTRe895Qj9m\n",
       "F6azFXRqCl30OgrlnICdTt4zs3TyI3JgKAJkk7uRmnIeceoGIw7OQ1MJ7Zd8Ov6eU4SQJ0PKbigS\n",
       "z2yJwptKnNGiSxRSYCgCZJMxRU+O/RnpWBcZMccGBgsf2uXd603TjPf4HHiupLAqiuKWQ7RnwjRP\n",
       "SIWhCJBNEvNKHJgkvqLHlbBgd93n2TMC8T5bEzxX4t91f5QBWpYKQxBgmzymxIP9pKbR40pYlI4r\n",
       "gTEN8N2yKNTBhCKoeULeN2lMusKI1KYKFg0+xjI6Kwp1MKEIRRVP/9XotGZgnBG5ZRUeLGyBb7ca\n",
       "olAHE4qgf0uB0e6nw/XcPCOSG0rGZHh5e3haFOpgwhE+a8g3mrepgz4BB4uA1hBzycFZDa5uKYYJ\n",
       "R9Bq0m2me916q8mIgPPQMZcUnFnkThcrhhnr4efJjBqsGGViLubk5PZL4kQYg9PTqeOCYE7BJs6u\n",
       "SIUhCNJsEqE1rnJiJzNie2tvmWohzke6TMJ/ZSaxLIqn6LXb0T+kwhAEaTbpvmTXOTHH8HsnJ/tr\n",
       "KM6JYqsJR4XrgtC8ruwxVCrLhCEI0mzyMQZuR7DPD/NOTg4YNAkXSxak0/uucE/BYl+ueCkJOTAT\n",
       "km0SITfDP34uz6Sw8cnJw/hhqI26ga6NDyG9HnDhaI0X+BRsHgPtSq+gVEMqjIsgyyYRSn2KE+xD\n",
       "ir2TkxbtIzHOwIKWSIXnD5NTsNjOVhusSoVxEWTZJEIZbvLiSW+S452ctHqMGB/XVQzaKdE/zosB\n",
       "uqfZ6kVLTakwDoI0m0Qo/xXEsBds4ZOTTo8R76hdD5oYJDd5gU/BOr1ofJFMEIyDIM0mEbr9tiBK\n",
       "NBhlTk4mq4UY/6xkywi6ss4L9xQsLpeityXDrEu1SYRQdEUQCZqSYE9Obr/KiG9Guh54aafBCfcU\n",
       "rDOjf00yjI0gyyZRMhBTgtClP2E0GdwZjVVEoQ5GGkLUQKbsE7JrlrNrHbbniijUwUhDiFh+7hMp\n",
       "2XUtrMpc7RPqYK7uSQcClTwrOcLSwxaVJ8uiUAczWe5FD441RME/xlBGLBWWHyZPMPSEOpj8YC96\n",
       "8CWfQHGlq4LKW6Hj7rU+oQ7m2h50YOEJUeCZody/u35j6FX6COtunmUdM4wchGglNSsKXP4udRgM\n",
       "34dWKItCHUyhBwfCnwji/xksCJSxUZ2/AAAAAElFTkSuQmCC\n",
       "\" style=\"display:inline;vertical-align:middle;\" /></a></span>"
      ],
      "text/plain": [
       "{t in NaturalPos} |- (Sum_{k=0}^{2^{t + 1} - 1} (e^{2 * pi * i * phase * k} * |k〉_{t + 1})) = ((Sum_{k=0}^{2^{t} - 1} (e^{2 * pi * i * phase * k} * |k〉_{t + 1})) + (Sum_{k=0}^{2^{t} - 1} (e^{2 * pi * i * phase * (k + 2^{t})} * |k + 2^{t}〉_{t + 1})))"
      ]
     },
     "execution_count": 37,
     "metadata": {},
     "output_type": "execute_result"
    }
   ],
   "source": [
    "# reminder of summation_partition_03\n",
    "summation_partition_03"
   ]
  },
  {
   "cell_type": "code",
   "execution_count": 38,
   "metadata": {},
   "outputs": [
    {
     "data": {
      "text/html": [
       "<strong id=\"summation_partition_04\">summation_partition_04:</strong> <span style=\"font-size:20px;\"><a class=\"ProveItLink\" href=\"../../../__pv_it/axioms/71c1fc00120f763c694cd99d32f7a5e7315b9ca50/expr.ipynb\"><img src=\"data:image/png;base64,iVBORw0KGgoAAAANSUhEUgAAADwAAAATBAMAAAA+KHOiAAAAMFBMVEX///8QEBCYmJjMzMwyMjKI\n",
       "iIhERERUVFS6urp2dnZmZmaqqqrc3NwiIiLu7u4AAAAqt126AAAAAXRSTlMAQObYZgAAAAlwSFlz\n",
       "AAAOxAAADsQBlSsOGwAAAOZJREFUKM9jYMANFjDgBQmkS/PdT/Nj4JSXwKWbbUM7A8N7uG6+O6jS\n",
       "7Hc4FRgYGbjS0sTSkhgYuP+hSW9j8GHghevmugARDrt71wEsfSjgCJI07wSwbEscTPeBYtYJcOn2\n",
       "/PQAIMXjBzf8ABtDBkL3frAgywGENPOCt2/hobYEIo1w2gEGbe5EOPcmmDS8CwQJUGn2B4XwUPoB\n",
       "pp4h6+YreAvjcX9geAByP7I0gykbjMflwG0ApFgD4IEK5LKawRUXPAXT3jABlg1w94I8nKQApp9n\n",
       "PADTzP5iQPIJRkx15kICFQUAALDXOQj7yj+HAAAAAElFTkSuQmCC\n",
       "\" style=\"display:inline;vertical-align:middle;\" /></a> <a class=\"ProveItLink\" href=\"../../../__pv_it/_proof__psi_t_var_formula/1402991581069a906f51c475a4416e7c0c5fb2de0/proof.ipynb\" style=\"text-decoration: none\">&nbsp;&#x22A2;&nbsp;&nbsp;</a><a class=\"ProveItLink\" href=\"../../../__pv_it/_proof__psi_t_var_formula/d47fb2665db242f1a7b237c204c275679f4dd6250/expr.ipynb\"><img src=\"data:image/png;base64,iVBORw0KGgoAAAANSUhEUgAAA8MAAABMBAMAAAC7VXiVAAAAMFBMVEX////c3Nx2dnZERESIiIgi\n",
       "IiLMzMyYmJju7u4QEBCqqqpUVFRmZma6uroyMjIAAADVePneAAAAAXRSTlMAQObYZgAAAAlwSFlz\n",
       "AAAOxAAADsQBlSsOGwAAEAtJREFUeNrVXXtsHMUZnz3fY+99IaUFCvU1goqWQpymJUBb5YJ4lFft\n",
       "okY8muKrmiAFInwV4VUKWYIoSoHYAULSB/KBVBUowq6gpbQSvhICoQnEtPQP4A+7qChQKI6N47e9\n",
       "3dmZ3Xns7OZy2Z3VfYi5n2fv8Zvv2/nm++axAQDK/4BEUa70vJwb5EF4ZKRQ8FuO1XhgSKZfKofT\n",
       "PK/udYDwyOxtQguDSD8PDHlSk8ohWfG4mNrJg/DISKLgt+xwAKDukEshO+pxcUuFB+GRkUTBbxkq\n",
       "8ACkh9HribBzw/HprIA5POtx7UUOKLXwyMii4LOk23gAunBQsREOy8b/110ZMIfWquul+DwHEqXQ\n",
       "yEij4HcIOcMD8Al6ia6pIhODoE3c0uEeww5z4Py/h0ZGGgW/5Rs8SBk3q7rkrxroAA4T3zscBIX4\n",
       "uOulvkEKbD7tzyAGQiPjpKDe2RQm7ipxINcBLZvpUIdBZN/ufa9TJo6f1xEIh7Ndr7xPgxrYDbaC\n",
       "0Mg4Kaw9vylM3NLDAWjq/KAykapVHL04FYxW+6qH61ImmAet5acTYZERUfhtU5g4NcOBASMrTmjK\n",
       "hPJqAZl47YPVgLWad3O56Ska3Gro98SfgJDIiCg0h4nBAgvUT9FUCNJfhrsfgtFqesLlQncbC04J\n",
       "kYyIQpOYeKDMgATqzOs0ZGkpJs6OuVzYVGVA/MoQyYgoNImJh4oMaDF9Iz/d8ePlhhSC0iqYdqlf\n",
       "qTFgsRYiGZpCHDJY1jQmzvcwoNtU3IlgkXDgDkirK8vCavUQA5SaUgiNjJBCk5i4ZYIBm2BfVs68\n",
       "do9ME7cXhdWJMQYsvnaDFhoZIYUmMXF0jAEDcLIhqesHBW9VzhgrBZOci6PY9DwDenU9PDIiCseM\n",
       "nNwUJo4vMKA3lMFiSlidPMiD8MhIpeC36BoF7OFPquTmxXlKBw/CIyOVgt8yMkiB1KdhUMiIJ4b7\n",
       "2ngQHhlvCpkqKf0V9YOGP7rVDhv2lyiQGQvDxAnxjbW/yIPwyHhT2EuVPss6reEh2M7hN7VRIDcT\n",
       "SjwgzkVHqjwIj4wnhcQwKf0UuPsg0fhOutvtCLKHAsmJMEys6sLq3jIPwiPjSWG9RkpfHQp0sOc0\n",
       "ng9bt2X3QQrQ4WROp6QUqFr18mEDQbMrUYTG5ZLBFMQ6eY8q/RRz98GWhu8c1dpPmJ+gQCuVG6R0\n",
       "fOWut17Qew77hTcfRVs6RW5Q0XnQh7WvnnRJ77RUMhYFoU5SU6Q8GiYJ/t4ydx8cxZ5nKziIzVCg\n",
       "j84NBkgGdRMzRt+BFA33hhB5kH7HTXX1ensha0T09tQhHqR1m17CNoQUMjYFkU5iRVICtDWkTiYs\n",
       "6yQd0sFvMXcfKKMNm7gVz7bmLJcHQTsdMsR0cgPtottbwzrJuCaLyboODihWpDcgilejCzwAnbPE\n",
       "Im0yydgURDrp0kgJ0NaQOpl4sIbfgnYffK3xwRi3JG3lSRAspdO/uD5JyFDT73hrC9wb4nr/UNj6\n",
       "pGCI22ilJCJnFPmUB6BLJ3uZ/yaTjE1BpJNnqRKgrSF1MDkM63l798FtTH0BKIImWHVxppkJPJRk\n",
       "rJ4BwQDTvHadGJbaJ74C+0rN5HesEXjAtx1A77rB3Gl/o3Ku/fbT8euZznbE8J2/VJRvpGd5AKI6\n",
       "8VoJmWQIBYFOJqkSoK0hhtI7dZOsKxMn61zFbFb8w4r9LeZ9QccG0SqIDDqbYNW14M+8hQyPh5KI\n",
       "5YMgWFljOrouciOKHXrBvSHqns+hjQOwLdmC8ocb4B/PnbClQGn17u3G69MC/4fvqKWi32mZ44HB\n",
       "71A4ZAgFp07io6REAreG3H9XpejJxMnaNPGb4POfHba/xbz1aJs8jswJpzWeZk2snt1hD1sgiu6+\n",
       "NfiqpTUIRhgTq71zorikSGZe1KIKVm023lk02rIZREHE+M/4++FqnOk4H1vxIRdu4Ci0XRSw5+Z4\n",
       "YGQQei0UMoSCUyeJg6S0ppU2Ay16XNGTCc96s2Fi4/0lUARF45VMTmUor6IOm+a8740ptgnQ7Dmo\n",
       "Guv+Q/Oeb2CDW+kHBJ1sqDGkCxKIvBUzKGeB+DYA2jYA+HoArC9EwQlGe9YXlLlXAKNV6DEigu86\n",
       "gCfWROs4sTEeGP1Bn5FIJlsBTgoOnaATQmliiMWa8augJV7zZMKzXl/IVQxcUqqgBOsWW+FblFJO\n",
       "poLMGZ2ymnDukpM1VJeHf38Fv/Fn6G7FN6GVdULQy5o4ogtO49mhI9oborS9aysobdyET8GvavuX\n",
       "Qms1O0WHrJTs8jBxcowH0ItOa/LIpErAScGhk2Q/KdG0o7k1ZHG235OJk7XpqPujIFUF9AaTFBWR\n",
       "JQExsdmEtRpQL0N1Q1AVi603mnrpKwtMzCVuIwuCORfoMF5YY+0NyZTetrWa+FP/BniTpEvrIrRW\n",
       "I6bv+7fzuy7CcxpCE4/zwJxeGpZHhjLxuLtO8kVS3re9Zm0NeTnb48nEydo08e3Xx18yXYG9wSRO\n",
       "Oa5nKBPDJsSXGa93D5p1Xza/w0qFTQfUVcUTNvZslmFi7oDlFt2ZJMITeluuvq0f7w3JaSgUNd3c\n",
       "M9PfNmOSQvpmWqu5/tRXNRgq8DKkeZh4kgfmUDgmjwxl4kl3neQrdqlu/92vra0hH6AzBq5MnKxN\n",
       "s6RGHjLHHrLBRKV++yXaxEYTMpECUGunmnUfgcf3gBTmhg6Md1ecJtY5E9sTdpQsN/7/I1CmXCfO\n",
       "OTkd/tRTx1dEIU4X8iRDWKu7V0P5AVad1bQ81UZ7EjN4MrSJaQq8TlBSY5bpDtCq1cnEjfVGR804\n",
       "Gy7YJjaasAp8EdxvRGowop5MPbbDjrcSprPLl3AEY4cyhon5KGT/tIPyRygJXOG5uMFqte+k6g0F\n",
       "kBmk/OO9JodWFC11iRqbn+GBGXCwQ2GgZCgTz7jrBHlDszS6ckulTiZurJ0rS5Tfupo2sdGEfhD5\n",
       "Uc0Y64261Og7caNBryNnneohoweIW+s4ENzCGzTmXGNaA9+q68LNAzHm8+oC1uprpn+K9wP1IJ4N\n",
       "xqfOupFW7xXpJXErD9Ak5rgcMpnVq6/avnp1v5MCp5OhQbvsMqgU62Piytp51neO0H+UNrHRhKK5\n",
       "1hCBdZkdphO63mgHvGa6ojxKMdVbrF82gM5P5yrOzVwfwQhg0aLj6pgkXYO1es0++PPGOJGC3aXF\n",
       "7CGmVvEMjrgXz/MA+cUOaWSoXjzvrhOqF3c9tmiRVh+TellbJkb0GRMbTagBZUnZuE2NutjHr+C5\n",
       "ERiToVgPm5jpxQ5HHd0mMjE4ktXa04E6k50woz3llPfKjFa7CoxW2bFY6KjBRQVJZFwdNacT2lGX\n",
       "6mcy3sg7GUdtOOQaOAZchkzcXR0qm2H2Mdd8yWoR5uNt4iHnjDqcb39NA0r9Wk1MqTNRM2fLVdmO\n",
       "g4PYroN1j8XZCXlkXEzM6aS1YpeZnWSh43BSP2sq1Ps6bWKjCdfFiyA6+A6s26R1V0tmsvxfMwUn\n",
       "wb5hWXsRxZk0xWfE6eM9O976fv1aTQ+rExFz5iWvsVrFqyhDdSdNVqonhYw4aeJ10l2yS/WqO86v\n",
       "tyPXzVqhfu80bOLIKJrJiv7DeL24COteBN3lojnlNWVP7OIVDCaiduTFJZf0cfdCqX6tGgHlpd8x\n",
       "43kjxd+1/OzlyytYq3uP1MTqwxLJuOTF3I8la6TMdP6nbv9bL+s4FQesQyZOv7DwPMqP4NTHfRqs\n",
       "OwdEX9ZgImUOwzEzqMKP5mFM3MmZ+GOR6o/wOYHW+h1cBblEZYe/Ax4mjk3yAOC5dllkiIlpCrxO\n",
       "cm2kDELoHUOxMlk4NFeVEheAtRVSB5efov0/B+BYNImgOU3MbWppafNcaToyrbYYo9TLEY3WqrW4\n",
       "0ydcaRrnAZ7qkEaGLENQFBw6yfSQMgiJUClEokatDZuj/i/OewJQJl4Gp0NPBeBV8y+8HpmyVpog\n",
       "WMlqbDfJAMgQGO9pTKtwf8aGm/Hwh06dWZuENwnXi8d4YNCnHjwikwxFwaGTxBQpg5AWepvGMmLO\n",
       "rfRtgOvgYmP81bK1yvJNfGNYWR4EA4wfTJDsIEFFOX9pTKsX2pyJ38HhZ/uw4HPpOR4YERGJV38q\n",
       "kwyh4NSJOkPKICRPD553E3NeKDAx3gqAe7gVizO74Nh9S1R28CRVvfXIKF6AX+2vzjjmY5cKB4RZ\n",
       "HtAZU6pHJhlCQaCTb1FlADJEp2FKCUTLXBOg7XBdGv+9CqkL70RhdsExzaOi9fvprQ6pok/k7UXb\n",
       "/TXRGOTcnke2ManWR+SQsSmIdHIbVQYgZzQ+imN/lLGYQrBpWJQxKb9nF1fu8Il8xhrWVorSh8QC\n",
       "D0jGdMKAveAkhYxNQaQTNLfdHdQDyX/V8CeTuEe0WMEiBEN09DLyiSnvX6XrerDHa4WHwrLTPMgt\n",
       "IEare3X9kFQyNgWRTlBniQwHQyfaeKh+kaW3GQrQB14y9PmdYJ/FLDwU5jzwsp8iNCmVjEVBrJNH\n",
       "qNJ3SVaPuv/bhxEhyI+CMETXhLUFHoRHxpPCnVTpu3y38f5v+RX7MCIEsfkwLKyIz6B1DvIgPDKe\n",
       "FNBGqVwgnk7Z1vBHj7duy9YeCqQnwzBxdkFYPVDhQXhkPCmo3yOl33JPw35avdpOu4YpEJ0Lw8RR\n",
       "8eMn2ms8CI+MN4UvaKT0WVY0/Emyxch+lBgELv0pYEmLZ4aYmy9kMt4UlDIp/RW18THqAeKCqhRw\n",
       "eSRDwBITz+8yzy8ImUx3Mz93q1OjQScVOVIHnpecGySFbnHqFxvlQIKsoUdOLkolY1GQphM/PcE0\n",
       "A5ZSYQVZi02UskE++qpP/KyDyCQPHrWvbQT/lErGoiBNJz5KapYBQ1QDyYHnZBkEmTAPiKPG7CwH\n",
       "FOItHwH5gkwyFgVpOgkiukCAftYjOfDcqh3FTOnhpfdw9Rgk2j6D3bMydTSzPo2Q6ZWsEx+Fe5Zo\n",
       "hlpvgAeed8Gna1e6NHBFcBTisy4X9pdZkF71xLYMJLQiPgViFalkMAVZOvFTuvoZQD83nxx4Nprz\n",
       "cICZqNtqOvfEe5C82HrAhWHiZEkqGUxBlk78lPYqC35Jkj1y4NlwSgE+OTHntpaS7GFB6z6rWxuO\n",
       "Ol+VSgZRkKYTP+VDDrSTkBEeeEZOKdjQosst/4nOs+DGbEcBOergwi03MoiCNJ34OfSMcSBvh9TU\n",
       "gedoKRvgv1s9oLldmWXBc/EOywDngXclk5mVqhM/A+opDkTsyR36wPOSS7XgMvNZ10tLNQYsA8+X\n",
       "7amPPZLJmBRk6cTXuZx+DqjSn0gddfd33UUehEdGGgXfo62CA8i+N9FREbHCp3gQHhlpFPyW3zhA\n",
       "TPbd6nVPXe4A4ZG5vDktLOgmKclxouq1C6GvwIPwyPQVmtLE3RUesA+tlRHweU3mW8+rJSA8Mpm2\n",
       "pjTxsw4AgpoZdJO3Pcf+KxwgPDJXNKOFszt5ADPknVI5/NDzqv0PLvj/Ly8cMRk5FHyW2CAPoLwp\n",
       "dSj23rmSLfAgPDLZZhyMH+DA/wEVFo2E+7c1CgAAAABJRU5ErkJggg==\n",
       "\" style=\"display:inline;vertical-align:middle;\" /></a></span><br>"
      ],
      "text/plain": [
       "summation_partition_04: {t in NaturalPos} |- (Sum_{k=0}^{2^{t + 1} - 1} (e^{2 * pi * i * phase * k} * |k〉_{t + 1})) = ((Sum_{k=0}^{2^{t} - 1} (e^{2 * pi * i * phase * k} * |k〉_{t + 1})) + (Sum_{k=0}^{2^{t} - 1} ((e^{2 * pi * i * phase * k} * e^{2 * pi * i * phase * 2^{t}}) * (|1〉 otimes |k〉_{t}))))"
      ]
     },
     "execution_count": 38,
     "metadata": {},
     "output_type": "execute_result"
    }
   ],
   "source": [
    "summation_partition_04 = (\n",
    "    summation_partition_03.inner_expr().rhs.operands[1].summand.substitute(\n",
    "        summand_processed_04))"
   ]
  },
  {
   "cell_type": "markdown",
   "metadata": {},
   "source": [
    "Also process the summand in the 1st sum on the rhs, converting the ket $|k\\rangle_{t+1}$ to the tensor product $|0\\rangle \\otimes |k\\rangle_{t}$:"
   ]
  },
  {
   "cell_type": "code",
   "execution_count": 39,
   "metadata": {},
   "outputs": [
    {
     "data": {
      "text/html": [
       "<span style=\"font-size:20px;\"> <a class=\"ProveItLink\" href=\"../../../../algebra/_theory_nbs_/proofs/prepend_num_ket_with_zero_ket/thm_proof.ipynb\" style=\"text-decoration: none\">&nbsp;&#x22A2;&nbsp;&nbsp;</a><a class=\"ProveItLink\" href=\"../../../../algebra/__pv_it/theorems/7fba3088f95571cbe1ab32e4af92c060b35909c20/expr.ipynb\"><img src=\"data:image/png;base64,iVBORw0KGgoAAAANSUhEUgAAAZYAAAAZBAMAAADgRxUcAAAAMFBMVEX///+IiIgiIiIQEBB2dnbu\n",
       "7u5ERETMzMzc3NwyMjK6urpmZmaYmJiqqqpUVFQAAAB6qHgnAAAAAXRSTlMAQObYZgAAAAlwSFlz\n",
       "AAAOxAAADsQBlSsOGwAABRVJREFUWMPVmH9oG1UcwL9JLnlJLtdGcTpnO2JEhoxBEdExil51OJms\n",
       "nFoGMrUR8QzFwVWLIsJI3ayIsGbCRNBpdOpf00VxTNb+keIPmAuYSqVWh2TCFEHEgQWRjfn9vnd3\n",
       "yeVevNNCma98m9zL9775fu59f7wXgODxY74El/yI5DeFUSvD/2LUV5EliX9isDDqJShJtP0mSras\n",
       "Kks/KBXxLmGFiJkGbJdo+028ZQuyNOnldABLD71otRWhaDo5En8kh2+rweoLQCzK0Cdebb+JSE0I\n",
       "spyg61cDWFR6GqmVVYD7xUNNkRO5QO14mbMcgntLHm2JiYO21GEPBWEhgIXR6k2tLMRmhSO9DXy/\n",
       "I1BbrRFLJgdKQWhHtm5dA1ITp2ypQ8pAhUZQvhwM5cA/jgHhyFEj1GOJAbEkmqAtc22GIPdUpCZi\n",
       "hpA6ZPABpAJzv77iEqCVhSN3QKhwXeIsvVVgF7j2UyjxMamJVE0I+nhjPn9TIEssn79OXxGLqgtH\n",
       "3oCFY1QHAsbHnGUUWc5z7epdALsUQ2ZCaQpBluMAj0qM6R4W1YKE0f7xZ+GK2sSx9qdHRei89u1g\n",
       "l+RX83zwyvo6Z5nWgZ0j7UhJKcWrcV1mIlMWgiz7IdmUGK56WFBlP95xrTPFKPqHvE93ZPistxSd\n",
       "xH/DzlW0wVm0P99nWDVP+DW9Y5PL8gdpY1PY9hJgA5GY0AaEIEvCcPqPaKwbt8OnzU4WXDrqXFsI\n",
       "Y71Z4dE/B+910H8Ep44suNfjl9txLzJUJK46yJvcHs8z45resUXEmA7pc6St4Ko1KVgkJtjvQpBF\n",
       "y7ZSf/ynMfhBMVTDxzLPVwfvgBnLzuRboNeTwn/BtDVfiLYmvpawRF87bndCexQcTRkL5r52gbRV\n",
       "gH3byCmJifSAEF6f5tyAJaXT2aoCd89snKm0s6QyWYyxwqTOWyyxJJch5qnlnyNLj/ViFxY7xkYb\n",
       "Ry3enDOz49d0sLTni4ixRAEyy6StQlKPVARLpwktJ4RYdmDzENN9ZGXxu0nFly+gLOFa9az9ZvNO\n",
       "J9/YMkQ7CsDtEIW+dz0sbzsXiSxn+coYbWSpOT9wuBYrdV+XhzlLZgDUMmmzxgTAunRDZiJTEEIs\n",
       "e/FB8Ok4t7uoPPiOnyV5K8VJP1hH+NQzFrHEsp7vZ9fDQ7BQ87Ck1rRXzgr8AqOWTs35+auh1+jO\n",
       "MsxZcHnus3grX4d1JrIgNUHVnoRYenDF+HSau7EI1Sv9LPAzyjTmyknTNBvsN4NirNe7X5iyqzZD\n",
       "FbMoPNQOOKA57shuiHxoACXVGTgMqmnebD4uY3lCsOwawu8l7QT1yrMSE/hxRYi756fpzCumuRtZ\n",
       "RlK+/iLGF+lcaUJsTpv+3E9Wk952Th7uda82tDbs8D3Q7TOs+7pELXD2/Fwb5izWB1ITz4EQl4Wm\n",
       "mS7WJT3f5fxyhuV00TKpjl0GH/DmoMOIWJannzV8LEvtW0DXkSKviRsWu7Nkqi2WIv+a+X4DpCZm\n",
       "xcbVZRHTvP9/CbC+C0sRfrWSj7m7qyHe1NlmeJKvx20XL3pu2/fmUDsLRonjCG3o0024omazcM2O\n",
       "UXRZ4mXJWaxlgjb5fKPvsIjpKVxYdkNJHL26nStHTLtXhhotFqwsjiORtvrX7bix02Vp15aYoEwi\n",
       "6Tgjx+80x8KdkdO5f80CkxCxD7Y98r2S99eBLFzl15aYWGvLfz/vHwiHwg5dYr/DvCz5fYw1Qtl/\n",
       "YRV/Hxv8G0NxnI2MqMPWAAAAAElFTkSuQmCC\n",
       "\" style=\"display:inline;vertical-align:middle;\" /></a></span>"
      ],
      "text/plain": [
       "|- forall_{n in NaturalPos} [forall_{k in {0 .. 2^{n} - 1}} (|k〉_{n + 1} = (|0〉 otimes |k〉_{n}))]"
      ]
     },
     "execution_count": 39,
     "metadata": {},
     "output_type": "execute_result"
    }
   ],
   "source": [
    "# pull up the relevant NumKet theorem\n",
    "from proveit.physics.quantum.algebra import prepend_num_ket_with_zero_ket\n",
    "prepend_num_ket_with_zero_ket"
   ]
  },
  {
   "cell_type": "code",
   "execution_count": 40,
   "metadata": {},
   "outputs": [
    {
     "data": {
      "text/html": [
       "<strong id=\"prepend_num_ket_with_zero_ket_inst\">prepend_num_ket_with_zero_ket_inst:</strong> <span style=\"font-size:20px;\"><a class=\"ProveItLink\" href=\"../../../__pv_it/axioms/71c1fc00120f763c694cd99d32f7a5e7315b9ca50/expr.ipynb\"><img src=\"data:image/png;base64,iVBORw0KGgoAAAANSUhEUgAAADwAAAATBAMAAAA+KHOiAAAAMFBMVEX///8QEBCYmJjMzMwyMjKI\n",
       "iIhERERUVFS6urp2dnZmZmaqqqrc3NwiIiLu7u4AAAAqt126AAAAAXRSTlMAQObYZgAAAAlwSFlz\n",
       "AAAOxAAADsQBlSsOGwAAAOZJREFUKM9jYMANFjDgBQmkS/PdT/Nj4JSXwKWbbUM7A8N7uG6+O6jS\n",
       "7Hc4FRgYGbjS0sTSkhgYuP+hSW9j8GHghevmugARDrt71wEsfSjgCJI07wSwbEscTPeBYtYJcOn2\n",
       "/PQAIMXjBzf8ABtDBkL3frAgywGENPOCt2/hobYEIo1w2gEGbe5EOPcmmDS8CwQJUGn2B4XwUPoB\n",
       "pp4h6+YreAvjcX9geAByP7I0gykbjMflwG0ApFgD4IEK5LKawRUXPAXT3jABlg1w94I8nKQApp9n\n",
       "PADTzP5iQPIJRkx15kICFQUAALDXOQj7yj+HAAAAAElFTkSuQmCC\n",
       "\" style=\"display:inline;vertical-align:middle;\" /></a>, <a class=\"ProveItLink\" href=\"../../../__pv_it/theorems/f96b113649920e91f2100c5281286cc556b8f3f20/expr.ipynb\"><img src=\"data:image/png;base64,iVBORw0KGgoAAAANSUhEUgAAAJcAAAAYBAMAAAAFV3JHAAAAMFBMVEX///+IiIjMzMzc3NyYmJhU\n",
       "VFR2dna6urqqqqpmZmYyMjIiIiIQEBBERETu7u4AAAAsfX+gAAAAAXRSTlMAQObYZgAAAAlwSFlz\n",
       "AAAOxAAADsQBlSsOGwAAAd5JREFUOMtjYCAdLGagHuD7QEXDOBaQpv55AW455uxlClhEm3GpZ1z+\n",
       "AI9NXA3YRFXvgULgzgYMiX6gWWyJk7HYP3OtAgM/hk3aIJGrYIsmYOjJBuIVDK8NMCRsGdi+M9Sg\n",
       "R0jk+gdQTQz8DdgMY9nAwHYBQyKYgeEMgygfepjJww2rh7ma8fbuXXDDeAMYOP5hGHb+AUO8wUS2\n",
       "BzgNy4GKsC98gOQy/gkMTD8wDItmYIhX0HRiwGnYUoa2eSDa6gGyN98DDfuCLdb2YxGDG8b3haP5\n",
       "CFommcXAYJ/AwPQRiz6sgmDDZEDp+XMFE9gcRLpmPgIx7BsWfdwBuAyzB0Yk5xFI3DCd3r17916w\n",
       "WVHA9P8+gYEdmyPmwhivdoPAJoRhfFENDNwrJ0FSCyIhaN4DRwAHZgQwsGBzGMQwtuVAJzTUQ5yG\n",
       "lBGAiZn3AgMLZtJgaGNgNsBhGCjb+D943yAAEhFETbQHGDgxSwemBAbGBzgMAyWxKIb3Cglo+RcU\n",
       "yzsY3oBd/H4BjAAC65kzZ2PxZr4BVNMNBsaJYMv4YuuQDXuZGASJvgkwApTI/v//hWlW6PmlDtBE\n",
       "CwfsuUjZiXSQTaI4WYbJkGPYLBzi9g1kVDNHcBXzU0k2jTkVqAUAoEWJuwmnY2MAAAAASUVORK5C\n",
       "YII=\n",
       "\" style=\"display:inline;vertical-align:middle;\" /></a> <a class=\"ProveItLink\" href=\"../../../__pv_it/_proof__psi_t_var_formula/21afe4e46ea99046015441983773f453207550380/proof.ipynb\" style=\"text-decoration: none\">&nbsp;&#x22A2;&nbsp;&nbsp;</a><a class=\"ProveItLink\" href=\"../../../__pv_it/_proof__psi_t_var_formula/fc9df762d27533672d387c4fb9bee229fd6739f30/expr.ipynb\"><img src=\"data:image/png;base64,iVBORw0KGgoAAAANSUhEUgAAAKYAAAAVBAMAAAA++IifAAAAMFBMVEX///+YmJhUVFSqqqpmZmYy\n",
       "MjIiIiIQEBBERETu7u7MzMyIiIi6urp2dnbc3NwAAAB0suBCAAAAAXRSTlMAQObYZgAAAAlwSFlz\n",
       "AAAOxAAADsQBlSsOGwAAAsxJREFUOMuFlEloE2EUx1+axXwzmXQObvTSuXgfcMNDzVTcayFqr0oQ\n",
       "6kFE2ougp6KHBg8yLoUiSAaXU8FOay+2VQI99CQJ7tVG5qagBSVeWqj43pvJZB1nQjLfvPm/X773\n",
       "vQUccC8Lwq40ftq1NZvU8LzqrW+FMp+DUmzX1mxJ749SNjMnr+J6TxgyWmb/ypzTpEWbGM/ha8Mz\n",
       "zLj7HMJvIow5wf5xXVxp0tL/xImX8wxxk5lVeqeHMPvZfzvAJ0/7svLFdJnd9PzW00UMYqbW6WzH\n",
       "Qpgj7H8DIGOydsoEsegyS8iG7zXhNWIqI7Q8H3KcWfb/AzCtk1a6jcbJIjM/csy1CjpNzLgWfWdC\n",
       "3/+ZsTIxBTFV0sYUB4Sxwswz0HeCcuheb4hZUHd/Uzsm6ehFui7wNlRipjeRaZP2FXyF+/CQ8/47\n",
       "enC0nqRtxMz81J86ECs2xH8n24pP6D6zTFoNlGcGdBEz+ndJQs9TXvz7iXmshxtBA/GLgqT1Qq6V\n",
       "uaXIsSOzZJMWIz2EFmLGRrneH2HEdJ8m5vBhy61pygMkOSMBTMpRRietAemKhRtAW2LoJCnwkPfS\n",
       "fRmZopra4LylP5yzmpkN5+nGDnmAXpNiNGANFl1mQS9ZXDhrw5/xvg+ZkXVRlbm+4nrwPpM2M3cA\n",
       "HGHtY6kMcnGJbL1mQbe5wM+Scicyu7JiQ+E+6DaDmYrGzIQurrNWfk1jhWfALihYZW4uah4YRGZS\n",
       "h7kXXArLAMfz4/m82oEp5dx5MThruWVDNX/XJNtNkAdMqq8UN89lf9bRXJkVVuA+4VJ9rvEMiszD\n",
       "lFq30bCStQfY5DmfmcTSGlDMYObWhlnJbXhv4UDD/KR9x+wV/FF9Jo4yeNLjnWf6/abdliTH95/o\n",
       "MJMF1qHUb3H+Vuuj1PMNaHgx5vvPdGDKan2/895S84dF0BT5AbLVoiWWZ+uqPTvwD/4P2Y1x1c1r\n",
       "AAAAAElFTkSuQmCC\n",
       "\" style=\"display:inline;vertical-align:middle;\" /></a></span><br>"
      ],
      "text/plain": [
       "prepend_num_ket_with_zero_ket_inst: {t in NaturalPos, k in {0 .. 2^{t} - 1}} |- |k〉_{t + 1} = (|0〉 otimes |k〉_{t})"
      ]
     },
     "execution_count": 40,
     "metadata": {},
     "output_type": "execute_result"
    }
   ],
   "source": [
    "# instantiate the theorem for our specific case\n",
    "prepend_num_ket_with_zero_ket_inst = prepend_num_ket_with_zero_ket.instantiate(\n",
    "        {n: t, k: k},\n",
    "        assumptions=[*defaults.assumptions, InSet(k, Interval(zero, subtract(Exp(two, t), one)))])"
   ]
  },
  {
   "cell_type": "code",
   "execution_count": 41,
   "metadata": {},
   "outputs": [
    {
     "data": {
      "text/html": [
       "<strong id=\"summation_partition_05\">summation_partition_05:</strong> <span style=\"font-size:20px;\"><a class=\"ProveItLink\" href=\"../../../__pv_it/axioms/71c1fc00120f763c694cd99d32f7a5e7315b9ca50/expr.ipynb\"><img src=\"data:image/png;base64,iVBORw0KGgoAAAANSUhEUgAAADwAAAATBAMAAAA+KHOiAAAAMFBMVEX///8QEBCYmJjMzMwyMjKI\n",
       "iIhERERUVFS6urp2dnZmZmaqqqrc3NwiIiLu7u4AAAAqt126AAAAAXRSTlMAQObYZgAAAAlwSFlz\n",
       "AAAOxAAADsQBlSsOGwAAAOZJREFUKM9jYMANFjDgBQmkS/PdT/Nj4JSXwKWbbUM7A8N7uG6+O6jS\n",
       "7Hc4FRgYGbjS0sTSkhgYuP+hSW9j8GHghevmugARDrt71wEsfSjgCJI07wSwbEscTPeBYtYJcOn2\n",
       "/PQAIMXjBzf8ABtDBkL3frAgywGENPOCt2/hobYEIo1w2gEGbe5EOPcmmDS8CwQJUGn2B4XwUPoB\n",
       "pp4h6+YreAvjcX9geAByP7I0gykbjMflwG0ApFgD4IEK5LKawRUXPAXT3jABlg1w94I8nKQApp9n\n",
       "PADTzP5iQPIJRkx15kICFQUAALDXOQj7yj+HAAAAAElFTkSuQmCC\n",
       "\" style=\"display:inline;vertical-align:middle;\" /></a> <a class=\"ProveItLink\" href=\"../../../__pv_it/_proof__psi_t_var_formula/4ef7a29671b628cd5e4ce757240621cad482a1790/proof.ipynb\" style=\"text-decoration: none\">&nbsp;&#x22A2;&nbsp;&nbsp;</a><a class=\"ProveItLink\" href=\"../../../__pv_it/_proof__psi_t_var_formula/e700c33082567abca2021628d11fd30f0b60bcfe0/expr.ipynb\"><img src=\"data:image/png;base64,iVBORw0KGgoAAAANSUhEUgAAA+cAAABMBAMAAAD949s/AAAAMFBMVEX////c3Nx2dnZERESIiIgi\n",
       "IiLMzMyYmJju7u4QEBCqqqpUVFRmZma6uroyMjIAAADVePneAAAAAXRSTlMAQObYZgAAAAlwSFlz\n",
       "AAAOxAAADsQBlSsOGwAAEd5JREFUeNrVXXtsHMUZn73H3vreIYVSGuprFFALhTikJYCKYhCUd21Q\n",
       "EYGm+FQeUkrEXcUzpWmW0BRFpZxDgUAB+YioWijCrqAUSoUNIRBKUIxKVVH+OEOLAgSwY0LsOLa3\n",
       "89id182e73y3e7qp0vvYvbF/v9+38803rzUAqHwKfCzaqoq3k8Oy4W+pDO9T0HqFMTrcZFfjA76C\n",
       "OL7i3TfKDJ9LJXg+K9VoRgEO/uOmrxja8hVuRh+QDb9LJXg+K9VwRlvpNWOrvxgS+yrc3JyXDb9L\n",
       "BXh+K9VwRqW0Y8VGyOciFABQH3CKxyCernDvRcnQhnzXyB0er1QrFcoo1uFYOTtjuhF1WvDfT1Z5\n",
       "jKG96HpLn5GMSKfvErnD45VqpUIZaVPOpc/IR2h1kTgdeO30YLd77j4iGWf/w3eJ3OHxSrVSYYy+\n",
       "42RMsE0Zi18wQTcoc/qdI15g0Pe73uof5oyNxz8HwsBjMDXAE5Sye/lftILTGaOcHTiT3cjX8W5j\n",
       "BAR27dj1Jud0/axuT0Cc6nrnA94YAjvA3cBrMNXD45RyytVnt0RTp4yCvcz5qWHtQHQoX9bSo97o\n",
       "3F+c65HExgxozz4Z8RpM9fAEpezy+5ZwOmUUtTv1QTj2jJjaAe21NHH61fcUPdY55RaoY5O8cSt0\n",
       "+qKf+u90N3iCUi3ldMZolvRKn5PJGqJoXOrFvNE5dsDlRqFDNI7xAUzV8ESlWsrpjNFgFo+JSIO/\n",
       "xiSMfHF6YtzlxoaiYOirmuJ0F3iiUi3ldMaolMFdO46o8oTMVcthSXum80GX6ytNwVho+gGmWniC\n",
       "UjrCtKxVnM4YpXAmV8BSLgILlIMUj3RemVUH0C8EQxvS0s1o6S7wlEq1iNMpoyAO9BtQe9dOvnan\n",
       "n07vyqgD6LhgLLx2rdkUp6vhKZVqEadTRiGs7CCaDmmzrDHFV7UTxzs9wZBT58exGcHosyw/wFQL\n",
       "T6XUYaNLWsLplJGO0/e+pgwhJpWX28Zko0kjHCW8PtC6hTGyTK4b9bUkZ4B7r8kbzSlKeM1RquGM\n",
       "RmG8in7eDAxx9fR2f4dsNKco4c2hFFkYihcbj8b4sP6ajNFu2EfGx5uhakQt4O6MbDSnKOFVVsre\n",
       "SOXJHi9xZmBeNRmjDbA9JaeaoaquHgmPFmWjOUUJr7JSZLUtMtJoKGgTSWTeO/NoTcYoBwfqbQea\n",
       "oaphKS/3ZWWjOUUJr6JSOtnRt8ZsNBS8ieS0eVc/rYxRYUxMVJMWV7wdHllKr1qmZIxygPb76HUV\n",
       "PEcppUpJ0h+933AkeBPJ5nk/S7QmZZSCz247NziKWvbDfPvbz1u9c/7Am+vg0qOK35olG/02VuPo\n",
       "C/oOegamOniOUkqV+rG40cl6sUXkpy3MJQzzSUkHZEZh2Ev184OjQTYquUnowdYT6dGuEVbu4b9x\n",
       "U1WRgS7ijaq+Hv1CNmIWhRehsBsFprwMVYJHlVKpdAkR1M4/a8GGtgdxfUhGuoU3kWj75p0S7JMZ\n",
       "JWHE7OJTj7DFHqntvDeGbJfFXcfPbVWdR9GcodigKj0PzcoG6DnEHpiOBoMpLwtBBXhUKYVKOmni\n",
       "ORPUjA1tD3J9BncAsonkpHnHrJNkRjE4CFnKj4h1a4JpzK112HuW0K4Rtx/eztlOTUXH6Owj3a0K\n",
       "WIHPZQPkLLZJ5aV5gUFwbEC68PwB8WIacFtvVfCoUgqV7K3Fzlbj6rGR7UEuX52hm0jWVUEorSDE\n",
       "alJGcdiMBgV6XRZzNXfYYIUdYU3M5XCYwKCv7SHfuh6fALhBO5N+/QT78+RyHmG7LSxVjW1ih2QD\n",
       "hCwW2SLzAgNCRQdQkFc3MCxefBv9n7N+r4LHlCpXKUU+nIehamyAbA+Cj2CPhZkm85io/lGe3sJP\n",
       "Cp9juBByVBcI0ZqUUQBG0ZVDPIKgpQpLGk3q0K4RY+eXyVYLxCWR1v58PfqPZ47anOZ+/R33wc8n\n",
       "FRHcVm6p6vcEp2UD4vuiTjBgGwYUWPKS0zFQpxundtPeAoSQzBcAd3hMqXKVcvjX6ewBrRIbLmh7\n",
       "0F2353H8xU5/C3z1iBF6C7cVHjkhhCZeBEKO6gIhWpMyCkBBRwWnG33TqvQrw2Z4jIwBztgIv5mB\n",
       "XDaCEAjA/8H/vreoC8/cJ07mKY2A7fy2SzU4SE7LBhxzWEP1gUFbVyGgj8GmNOiWWnoS/WznIpqy\n",
       "LJju8JhS5SptIA18DNSGjYTjVfCyGToS8toInQ6/3wkyIAM/2c6hOBd5CCHj76MmEAg5qguEaE3K\n",
       "KARHQT1iylKyFIOVlJN7aKcAfQsAHWsB+twD1qRD4CjIZ01am35V/PUorQ0oftYeWyXVMlp4XDZg\n",
       "C7Gm6gMTzyNAkW4Q6ADHYdaLF59rOz2FAB5nf/HnTkMT4P2bDeMy7iqRM1gx6poqsZHs0YSXQVCH\n",
       "z9SadDIPv9+pFUEnqr/QGQOExmRC0I0mEAg5qguEaE3KKAKHw32i0wOW4rCok5Tau0a0jnep/2Lw\n",
       "sXwC/aiOf2m80xOTfK7Ole0VnN42LhsoLh006wLThgEFB9AgGmXnOhTol8PE6SWTS9nbTDZCYPAe\n",
       "Y9OFGXeVHiI/gfb6VWIj86x4e9DCxAAN7wMhEC0CfudQlMsL2wBzOk/IUV0gRGuKTpeGjaOzilkh\n",
       "FFSeX+3sGol3vkO5RJ4dWIvEiHVeE+CdHsDR5L3yn3WePehVOn2/bOAJsJG6wDyFAaWGgD4FklDD\n",
       "q+A/43Ti9G/iX2ALi/QO9crwOKd3uqtEHtJUpkZsv75vyNke9Eqilzr9tuv0l7H36M4hnQt3T3FO\n",
       "5wlR1XlCtCZlFEVOl04Eb7bKh6goeG2+Yt2AvWskaZIcHEfqpw6ejnObdOxm3unJgei3TJRyyKVk\n",
       "VnD6hGzgDnS8LjAvY0AF6PQJEIXchr4O06aAiZ2+F2zbiS/i5jvgNBUXp+fdVZpgOXwN2Iz7/vCQ\n",
       "sz3oQzJywI6Kjv4W92Fs55DBCfIy53SeEFWdJ0RrCk63JKfTSUauLIf//gK0SdcFAanAX1/IP/GV\n",
       "vCqTy5EBRcnGsONSVH5od9cOtdQEPxMmToTXCmYPBtSewYdmukEoHUgbQzBLQtn7RPTRrTTxicCI\n",
       "otvkSwqn80pJKtmHQfHwqAZssW7QrpxVLz8Vu18mRJzOE6Kq84RoTcoogZwuJ1u7D5bh2Eue5RUq\n",
       "fMGi0un9RxevT4P4MBfi78QY2kkellMJk5qSDZy4iB1orWCuoE6HEeNN2LeCYxfBbhM5PbrvP/p7\n",
       "6CKOiFEYGzV7gwmDxzm96KqSHUNzxdqwwcgQVL56oXxVbVwmZDudI0RV5wnRmpSRbpngFtnF4fL1\n",
       "tdXoq5al3EQQFuobs7bTX8cxTB8Axpg95W6fPywQp9+pIhu5VTZI2ry/HjCPkPCeAQn4Y65DpznQ\n",
       "IgRu6fGtOIZcB1EhgBCpYTvdhgfj0IM0DglKiSolSLXScG3YcvC7quloxVnxaZmQ7XSOEFWdJ2TX\n",
       "5AQ3boHPrzxNrZVvBduLnuUFC46sYqp3te30K3chPWHvEkXtO4hDIna6PcekbukzskGiZnc9YB5x\n",
       "Ejl0dm8bev4OOxZNa0Onhz951Z7sQMkRyqSc2VNlSx92VYlr6bVgyz26YIFZ3RT6tEzIdjpHiKrO\n",
       "E6JOF1p6WXgPbVE5HdSymn0CMKYSB3AeqR3zflZwOpm7ohjEPl0Z3sF56XrAkGgY7ACRSdTXxIGW\n",
       "CQ0TpxeKpSweYxx25bEEnzOnNmd4F1Xiw3sN2FLVLwbudwnvHCGqOk+I1qzs9FL59D9aR3jdBFr1\n",
       "To9MGlMhPGJMFsWWbmfvubGq+/TEgbrAfJsA6kVzU1oH0Is/BuCiRBE5fYNZKHbi2YSP8QiaZe+5\n",
       "sTmcLqqkkcSzPV8btvgDbJlkjjIhEyJO5wlR1XlCtCZlpCuGbPqUemy9aevbP6je6bER40AAzw2l\n",
       "TNHp6+T0eK4hG2k/8wdzPNHoCrA5i6cIL4K9aGgbHqe/CArZDL44ac/vRnrds3deKUklgzSnQmdt\n",
       "2IzL159dXWPXpsoIgaVpIBCiqvOEaE0hey8bp3e6jK13zHZW73SYql54Lh47vAPA9uWnLl+et53+\n",
       "Rq1ON+6tD8w1RKO7ljxLFgOCaC7jOez000DoFRNdxL1feJhtNJnL6bJKDxPYeHa+Bmzxnv9V90V9\n",
       "pozQC3178wIhqjpPiNYUnN4jOf0TlTNq3JPgLPKh9Z4LDLFP31PB6eEJ2QD2okgdYMJZBggv+92Y\n",
       "1c8BbGkVXQwN/AqAw7m5d5XTeaVklf5LoHq2W5/fh+VGyLkmEKI1BadLG4OCHRVX2WpzOnoGXwmY\n",
       "vNOdVbZ+5SrbftmwJ2PqARMZYoCW4dDx2Pkm7/RlaL70GwC8xq2yMXhswYVTqkyl1wm0Xq+czr8I\n",
       "wY0QdTpPiNakjKIHAVgpariDDSFYV6r3zs/paI/L2pvtPp2cP3Q2Ym9QrqePywaEz70AZ15gkAY2\n",
       "IIOfxXecji7qr2XJ6tBtwB0ep1SZShvwhcikV04PDsxNyFFdIERrUkYRONgcFKJnhI1EIlz+9Lf5\n",
       "Of0cipnFJjtb7RpR1ItNywZM/Fh6+7N5gQF3UEChvMLpzkUUlsDFwB0eU6pcpQL+MDw7OJLKz03I\n",
       "UV0gRGtSRmj/obgbjBuJPM5dvrs2iN+zP+mPjpfNKi9VdiOHZIMfr0V75wUGaJ0OoJgwH5EVL57B\n",
       "z4+r4DGlylUKkgfiu145vZSem5CjOk+I1aSM0P5DgR43MriL3xwSzTQIPF1h3z2k6rnKN0ayzWGG\n",
       "U6VhYMoL3Q2rgkeVUqhkD/XWeQXsxLprUkZxCHnDiGq8pv1JXEZa3yDwcaczXKka1kRmZYON144a\n",
       "pItt6z1zOn3HhAoeVUqhkj1nX/Dq7xL8ru6alFEQJsklPi8a/QyXDy63LMvbE+LKE4qJg7KRnCWI\n",
       "Lu2zLD+Ph6vgUaVUKpEGFRjxBk6ot+6alBE6h8kfa4rzp7S8fd268oRi+bGm3RygCR+droLnKKVU\n",
       "qY1UuN8bOG3FumtSRugcZmofaEaxTOXVtGw0qajgVVQqQtq4R68H/n79NSkjdA4zPNMMUTX1acSe\n",
       "YdloTlHCq6wUmWlMehIftS1112SM2mHAj000Q9XErPLyYF42mlOU8CortQnHJuNiL+BsKtZdkzEq\n",
       "wZgUmm6GqiH1qzy6hmSjOUUJr7JSGnm9y9dMD+CsqL8mY4TeKOfS5jwuMfXcVWlENppTlPDmUOoI\n",
       "4vts49EYw/XXZIwGi64vAvG4hNWz1IUx2WhOUcJrjlINZ9SDYlEPlyhzB+YXn+klhoJ64BneJxkR\n",
       "th8hsCTjm0RqeI5SvqnkBSMDZ3RLuZyJrVVHOhNevsqtX/0+jcCEbDxC790I/umbRGp4jlK+qeQF\n",
       "oyhe1ihxBNmB+bYs8HIAP6jORxOHJENjYf5+kPJt8K6G5yjlm0peMCKdO/8aVnZgvt2sY7537tI3\n",
       "13XbiHR8yQ7q2mQd81KNgeco5ZtKXjAiJOLcygo6ML8dvb0+nzPBZd5B0A+53NidFY3YGX/cEkeA\n",
       "VuiTIOzX4N0FnqOUXyp5wiiHwxX/tyvYgXlI514Px8Fuuw1KGdFoO995cQ10elunX8N0NTxHKb9U\n",
       "8oRRFwmXD7IJBnZgHgYuD98fmnRbNWrrFY32XU7Th+E95Vd4d4P3oL8qecLoI9v3LBlFB+ZJ4PI2\n",
       "Rcm5jb5CM6JxQ6I7TcK7n4mcGzyilG8qecFIt6NViqbv3IH5UGfCw78Pj/7AmbocEo1n9G4H7lng\n",
       "Xd9SXRd4RCnfVPKCkfOH7wJ0soY/ML/4QtMzCMYh11tLTcFYBv6apZMzO31SyBUeUcovlTxhVLAf\n",
       "UsP3N76H3GNiISMbTch63OAZ46A1C2PU5XSRXX4/reT4jxrepGz4X9zhdZmt6XTG6GHHCPvdqCpp\n",
       "d0mZ4Xtxh+e7Uo1mxJpS1OcM1Ki0G6E/LRu+d4Du8KL7WtLnjFGBzW9t9xdDrNIihfMmN2b4XSrB\n",
       "296STmeMnuailr+bk96p2DNeVmb4XCrBC+db0emUUYJ7ZZP+gK8YflTxLv0zKI3/eyj1w/NZqUYz\n",
       "CvN7cN7ytYepvPsnkZYNnzvAivDeakGfM0a/IR//B8C3yNzR2Ba7AAAAAElFTkSuQmCC\n",
       "\" style=\"display:inline;vertical-align:middle;\" /></a></span><br>"
      ],
      "text/plain": [
       "summation_partition_05: {t in NaturalPos} |- (Sum_{k=0}^{2^{t + 1} - 1} (e^{2 * pi * i * phase * k} * |k〉_{t + 1})) = ((Sum_{k=0}^{2^{t} - 1} (e^{2 * pi * i * phase * k} * (|0〉 otimes |k〉_{t}))) + (Sum_{k=0}^{2^{t} - 1} ((e^{2 * pi * i * phase * k} * e^{2 * pi * i * phase * 2^{t}}) * (|1〉 otimes |k〉_{t}))))"
      ]
     },
     "execution_count": 41,
     "metadata": {},
     "output_type": "execute_result"
    }
   ],
   "source": [
    "# use our instantiation to substitute\n",
    "summation_partition_05 = (\n",
    "    summation_partition_04.inner_expr().rhs.operands[0].summand.scaled.substitute(\n",
    "    prepend_num_ket_with_zero_ket_inst))"
   ]
  },
  {
   "cell_type": "markdown",
   "metadata": {},
   "source": [
    "We also then want to:\n",
    "\n",
    "(1) pull the tensor product out of the 2nd summation, and\n",
    "\n",
    "(2) pull the non-$k$-dependent exponential factor out of the 2nd summation."
   ]
  },
  {
   "cell_type": "code",
   "execution_count": 42,
   "metadata": {},
   "outputs": [
    {
     "data": {
      "text/html": [
       "<strong id=\"temp_factors\">temp_factors:</strong> <a class=\"ProveItLink\" href=\"../../../__pv_it/_proof__psi_t_var_formula/56f06930032230de9441a478029f67a72bf6e4b20/expr.ipynb\"><img src=\"data:image/png;base64,iVBORw0KGgoAAAANSUhEUgAAAKMAAAAWBAMAAABeRTF1AAAAMFBMVEX///8yMjK6urqIiIh2dnbM\n",
       "zMxERETc3NyYmJiqqqpmZmYiIiIQEBBUVFTu7u4AAAC+LTDVAAAAAXRSTlMAQObYZgAAAAlwSFlz\n",
       "AAAOxAAADsQBlSsOGwAAAjdJREFUOMutVEto1FAUPTOZzJtvKnTThWjBhRuF7Iq4ycKdCHbRzah0\n",
       "EETdSEBs/GAnVHSlMq7UTQm0C7FSAl1ZZCoitlDUAREFP7xFQPCDf1QQ432ZmcwkzdC36BvCzbn3\n",
       "vJN739z7gA1eZ7Hh60KiN7dfXuFiDCuL9daLt+9tj7tk9OovRPdoe97wHvgwHnLbwMFc3zweRGEB\n",
       "BbcPU4S0TW3wDbV+xbIvUTwwzH72oYpQ3rFb4GogyZZ8/xehlPDmoG4ObPWkETloHkie833fJDsk\n",
       "fDZGV9ohdsvsMPfS8/6dHewOJLfj/ClRRHlkejmaTIYK1+ZPZwIgJNMmezEahjpLbcADVyZJ0iNJ\n",
       "zYAOAwbZ0i7EzuQA1wwNIx4JGyTpQUGGfl4Q6tImOA6ayKoOyKZsdRk6q0MnW7sdU2QnQG5UKxB2\n",
       "iPgKzpAs7adQl+YwcQQT6WZYeFNBXrTYpbRrxsbDEjuqO8PCy1TSzW6oneRYRaQ8k74fSl45pM4K\n",
       "8Ex1I38POzI2LxpG3xFK5p43K0Y3BHxadfDU98XrFjRCyfzWR8MCHMXLsHLt9SJKvi/aKsWLvCOJ\n",
       "a38PByPSCkFbvfFYdlg/3r3cTJxgPQLLLmo8iXd8resV2L8karYebXkbWTuJ11jr+g0cS6IWozmN\n",
       "0xgY6984n6ntVaL+kLidxq9bFl+fVqSOVf9Y1qSE5IAufzl+l6MVngCmpOQdDiZB0+5N7ZZN9MPK\n",
       "tgWpNJcGpSuf+yrx9f9qXJ+ktuoFsgAAAABJRU5ErkJggg==\n",
       "\" style=\"display:inline;vertical-align:middle;\" /></a><br>"
      ],
      "text/plain": [
       "temp_factors: e^{2 * pi * i * phase * k} * e^{2 * pi * i * phase * 2^{t}}"
      ]
     },
     "execution_count": 42,
     "metadata": {},
     "output_type": "execute_result"
    }
   ],
   "source": [
    "# for convenience:\n",
    "temp_factors = summation_partition_04.rhs.operands[1].summand.operands[0]"
   ]
  },
  {
   "cell_type": "code",
   "execution_count": 43,
   "metadata": {},
   "outputs": [
    {
     "data": {
      "text/html": [
       "<strong id=\"temp_factor_01\">temp_factor_01:</strong> <a class=\"ProveItLink\" href=\"../../../__pv_it/theorems/2c1a535bf143a3432d0b7b4c0c044d1032b311ec0/expr.ipynb\"><img src=\"data:image/png;base64,iVBORw0KGgoAAAANSUhEUgAAAEcAAAAUBAMAAAAthD11AAAAMFBMVEX///8yMjK6urqIiIh2dnbM\n",
       "zMxERETc3NyYmJiqqqpmZmYiIiIQEBBUVFTu7u4AAAC+LTDVAAAAAXRSTlMAQObYZgAAAAlwSFlz\n",
       "AAAOxAAADsQBlSsOGwAAASdJREFUKM9jYMAErQxYwRPfe0i8I8hS3QYw1gKG1Qw4AI8CjPWJoT4A\n",
       "h6J6OKsPrIh9////34E8CZBQA0PgCRDdxm4CV+YNxK+eNzgwQBUxFbBfDwRxLle+KYCqYd3H8ITh\n",
       "AXOdAwOfA1DREwZmBhYgfMLAcHgCK8ygsgcMMQUMbKwLGFiPAxXFFDAzVAIVxhSw/1oKU8O+gB1k\n",
       "ZhnTBZh1vAwGDDOBNEeCNjvMoNCoB0BqMdMBmCKOqxeiQA7kNYhmAVJvTy9gOP//P0hWjmEfTBHD\n",
       "xD9JIIqtgBcYAXynZ5zFFj4cBkgc3g0M9Q+wKGKbgMThb2Bga8CiiBtZZ/z///8dGAiA+Onl5Q8I\n",
       "KeI3YCAMuM4xMBQQUsS3p8masGFc+4UJKQEAGE9J3vp7O/cAAAAASUVORK5CYII=\n",
       "\" style=\"display:inline;vertical-align:middle;\" /></a><br>"
      ],
      "text/plain": [
       "temp_factor_01: e^{2 * pi * i * phase * k}"
      ]
     },
     "execution_count": 43,
     "metadata": {},
     "output_type": "execute_result"
    }
   ],
   "source": [
    "# for convenience:\n",
    "temp_factor_01 = temp_factors.operands[0]"
   ]
  },
  {
   "cell_type": "code",
   "execution_count": 44,
   "metadata": {},
   "outputs": [
    {
     "data": {
      "text/html": [
       "<strong id=\"temp_factor_02\">temp_factor_02:</strong> <a class=\"ProveItLink\" href=\"../../../__pv_it/_proof__psi_t_var_formula/ac170f287a7b3dafde2be8ff702282a300f649210/expr.ipynb\"><img src=\"data:image/png;base64,iVBORw0KGgoAAAANSUhEUgAAAEsAAAAWBAMAAAB6cHzwAAAAMFBMVEX///8yMjK6urqIiIh2dnbM\n",
       "zMxERETc3NyYmJiqqqpmZmYiIiIQEBBUVFTu7u4AAAC+LTDVAAAAAXRSTlMAQObYZgAAAAlwSFlz\n",
       "AAAOxAAADsQBlSsOGwAAAT5JREFUKM9jYCACVDEQBZqxirai8Zl3TYAwnvjeQxI+gsTmc7n7gGED\n",
       "lLOAYTUO+7gYuDbwCUA5nxjqA7Ar41dg/8q5oAHC6QMrY9////93IE8CJNTAEHgCSHE8YP/KvqIA\n",
       "pssbiF89b3BggCpjKmC/HgiWYdmAMJt1H8MThgfMdQ4MfA5AZU8YmBlYgPAJUCr6AUJZ2QOGmAIG\n",
       "NtYFDKzHgcpiCpgZKoFKgWLseQhV7AvYQdaXMV2AWcrLYMAwExID5QjDQqNARi9mOgBTxnH1QhTI\n",
       "oeypoevASt6eXsBw/v9/EFOOYR9MGcPEP0kgiuf//w/gYD494yy2AOMwQOHybmCof4BFGdsE1GBu\n",
       "YGBrwKKMG1Vv/P///x0Ip6X46eXlDwgr4zcgKmVynWNgKCCsjG9PkzUxBnLtFyasCADI8VLT/UlQ\n",
       "SQAAAABJRU5ErkJggg==\n",
       "\" style=\"display:inline;vertical-align:middle;\" /></a><br>"
      ],
      "text/plain": [
       "temp_factor_02: e^{2 * pi * i * phase * 2^{t}}"
      ]
     },
     "execution_count": 44,
     "metadata": {},
     "output_type": "execute_result"
    }
   ],
   "source": [
    "# for convenience:\n",
    "temp_factor_02 = temp_factors.operands[1]"
   ]
  },
  {
   "cell_type": "code",
   "execution_count": 45,
   "metadata": {},
   "outputs": [
    {
     "data": {
      "text/html": [
       "<strong id=\"k_domain\">k_domain:</strong> <a class=\"ProveItLink\" href=\"../../../__pv_it/theorems/f96b113649920e91f2100c5281286cc556b8f3f20/expr.ipynb\"><img src=\"data:image/png;base64,iVBORw0KGgoAAAANSUhEUgAAAJcAAAAYBAMAAAAFV3JHAAAAMFBMVEX///+IiIjMzMzc3NyYmJhU\n",
       "VFR2dna6urqqqqpmZmYyMjIiIiIQEBBERETu7u4AAAAsfX+gAAAAAXRSTlMAQObYZgAAAAlwSFlz\n",
       "AAAOxAAADsQBlSsOGwAAAd5JREFUOMtjYCAdLGagHuD7QEXDOBaQpv55AW455uxlClhEm3GpZ1z+\n",
       "AI9NXA3YRFXvgULgzgYMiX6gWWyJk7HYP3OtAgM/hk3aIJGrYIsmYOjJBuIVDK8NMCRsGdi+M9Sg\n",
       "R0jk+gdQTQz8DdgMY9nAwHYBQyKYgeEMgygfepjJww2rh7ma8fbuXXDDeAMYOP5hGHb+AUO8wUS2\n",
       "BzgNy4GKsC98gOQy/gkMTD8wDItmYIhX0HRiwGnYUoa2eSDa6gGyN98DDfuCLdb2YxGDG8b3haP5\n",
       "CFommcXAYJ/AwPQRiz6sgmDDZEDp+XMFE9gcRLpmPgIx7BsWfdwBuAyzB0Yk5xFI3DCd3r17916w\n",
       "WVHA9P8+gYEdmyPmwhivdoPAJoRhfFENDNwrJ0FSCyIhaN4DRwAHZgQwsGBzGMQwtuVAJzTUQ5yG\n",
       "lBGAiZn3AgMLZtJgaGNgNsBhGCjb+D943yAAEhFETbQHGDgxSwemBAbGBzgMAyWxKIb3Cglo+RcU\n",
       "yzsY3oBd/H4BjAAC65kzZ2PxZr4BVNMNBsaJYMv4YuuQDXuZGASJvgkwApTI/v//hWlW6PmlDtBE\n",
       "CwfsuUjZiXSQTaI4WYbJkGPYLBzi9g1kVDNHcBXzU0k2jTkVqAUAoEWJuwmnY2MAAAAASUVORK5C\n",
       "YII=\n",
       "\" style=\"display:inline;vertical-align:middle;\" /></a><br>"
      ],
      "text/plain": [
       "k_domain: k in {0 .. 2^{t} - 1}"
      ]
     },
     "execution_count": 45,
     "metadata": {},
     "output_type": "execute_result"
    }
   ],
   "source": [
    "# another convenience: an expr for the current domain of index k\n",
    "k_domain = summation_partition_04.rhs.operands[1].conditions[0]"
   ]
  },
  {
   "cell_type": "code",
   "execution_count": 46,
   "metadata": {},
   "outputs": [
    {
     "data": {
      "text/html": [
       "<strong id=\"summation_partition_06\">summation_partition_06:</strong> <span style=\"font-size:20px;\"><a class=\"ProveItLink\" href=\"../../../__pv_it/axioms/71c1fc00120f763c694cd99d32f7a5e7315b9ca50/expr.ipynb\"><img src=\"data:image/png;base64,iVBORw0KGgoAAAANSUhEUgAAADwAAAATBAMAAAA+KHOiAAAAMFBMVEX///8QEBCYmJjMzMwyMjKI\n",
       "iIhERERUVFS6urp2dnZmZmaqqqrc3NwiIiLu7u4AAAAqt126AAAAAXRSTlMAQObYZgAAAAlwSFlz\n",
       "AAAOxAAADsQBlSsOGwAAAOZJREFUKM9jYMANFjDgBQmkS/PdT/Nj4JSXwKWbbUM7A8N7uG6+O6jS\n",
       "7Hc4FRgYGbjS0sTSkhgYuP+hSW9j8GHghevmugARDrt71wEsfSjgCJI07wSwbEscTPeBYtYJcOn2\n",
       "/PQAIMXjBzf8ABtDBkL3frAgywGENPOCt2/hobYEIo1w2gEGbe5EOPcmmDS8CwQJUGn2B4XwUPoB\n",
       "pp4h6+YreAvjcX9geAByP7I0gykbjMflwG0ApFgD4IEK5LKawRUXPAXT3jABlg1w94I8nKQApp9n\n",
       "PADTzP5iQPIJRkx15kICFQUAALDXOQj7yj+HAAAAAElFTkSuQmCC\n",
       "\" style=\"display:inline;vertical-align:middle;\" /></a> <a class=\"ProveItLink\" href=\"../../../__pv_it/_proof__psi_t_var_formula/a4e10fde981c997124591d68d645cb95e5992c010/proof.ipynb\" style=\"text-decoration: none\">&nbsp;&#x22A2;&nbsp;&nbsp;</a><a class=\"ProveItLink\" href=\"../../../__pv_it/_proof__psi_t_var_formula/264af6e1074d43fa29f4b7d178f2ce245457e5ab0/expr.ipynb\"><img src=\"data:image/png;base64,iVBORw0KGgoAAAANSUhEUgAABAQAAABMBAMAAAAIDXjOAAAAMFBMVEX////c3Nx2dnZERESIiIgi\n",
       "IiLMzMyYmJju7u4QEBCqqqpUVFRmZma6uroyMjIAAADVePneAAAAAXRSTlMAQObYZgAAAAlwSFlz\n",
       "AAAOxAAADsQBlSsOGwAAEXVJREFUeNrFXXtsHMUZnzvfy/cOKS1QkK8RoJaU2igVEKTKB4Lylq9V\n",
       "EYEGbJUGKSXiruJRKI28hFIUFWFDoSGtkA+E1EIRdlVKoVT4IARCCYpRqSrKHzZVUSiPOHGC7Thx\n",
       "tjv7mJ2Z/Wb3POfZG2T8y859u7/fN9/Ne8cI4fQZCjFF1vlm5yd4EG7ypyfrqc9ayl4OOT7ASNmx\n",
       "UJ282jf3LQ8IOfnRk/VUgJ3KAljdBEDoKS1UH3fWfDLTj/Ig7ORHT9ZTAXYqC4DI8QEotS1cH+cO\n",
       "+GRurfEg7ORDT9ZTAXZKC4DI8QEoM2X9Ptn4ieI24lzFTv6TT97LHIg0Qo8BMT3HU0tNAXZ0ASiU\n",
       "4wOqdr/rVtwqGT8/WqfYx111YVZikQPJcughIKZXleyhBtjRBaBQjg/YZ/2Kra9bIYBUh0BHRTwe\n",
       "mOLARX8PPQTE9PZJ3nFfU9lmASiUIwZp4/uWWvWShirIEwL3TakglTgkzBqdoMCW1S+gOFJMZgn0\n",
       "0otyNwywYwpg+aUSOWKQr+CSz1ZSUyi6e+fut6kQSFxYUeLktcKcD2nQQDvRA0g1mebp5SUJBNhR\n",
       "BaBE6tpAUDVa28JEZDbdqHlqgbQar4/Wm4rYRdQ18ExSNZnm6VUl+yUBdkwBKJBK5AjBuDEoTWqR\n",
       "2cgbRSsEfvhQXbHXC6J6LjNPgzuMEDj5x+GHgIjeuOTwPcCOKQAFUokcEUgdNP8RtR6a5ZopNV7P\n",
       "zAoyhnpYcFoIZJqmZ3tq6bMCB5vJjlZUSSVyRCC5YP5jgxWp0VBCIDcjyBisMyCxri0hIKBne2rJ\n",
       "KcCOLQAFUokcEegw615+OuiGNUYqKvP6YcH1Xo0BK7UwyDRLr2NeclQ230S2XQBKpB4OAEMVa2Jq\n",
       "BTheUeT13gG4TvycAZFGpNiOWkBAb0jy+QF2UAEsr1QiRwAGS9jZZ9+4K8wQ6CvBdeIMA1beuElr\n",
       "SwjA9AZLcncLsIMKYHmlEjkCMI4nYzp1fT9gG/nGTFmJj6twnzuzyIARXQ+DTLP0xiWnhwPsgAJY\n",
       "ZqlEjgCMoDakAtw8du7nQXsSTE/WUyMtZS+nHBiQ5jfUlF/0bzWHKm0NAZCerKcC7EIoACIHBumD\n",
       "7fBxFp6GH+3hQXsSSE/WUwF2IRQAkQOD7Ew7fJyEde8p8aA9CaQn66kAuxAKgMiBQX6hHT5OwCPv\n",
       "6ToP2pNAes17it3mEmAXQgEQOTDonG2Hj1M63DMa4EF7EkiveU+x21wC7EIoACIHBnTnN69TSe0A\n",
       "TAfLWNc4ME0ROhRiDED0Ck1PDrLbXALsnGyVUokcEHRRw6+0bkfk3e++qA8H3vj2Fkj1QzV9ROfB\n",
       "qE01dcrlI4eVkWmOXpdooJrk4yXenB2brVIqkQOCUXr4Ne4OUG5jmqjNFju8tcVND9GfuK2pWoMs\n",
       "RE5DH09/zoOMTuglCevlIuNNDT96lKfwdiaqKqf7rjjrAZEdOAqq+EhNTrQi1SsHBH1TdPjq7jsN\n",
       "O+iyadgFmBXK6Wxq6iziDPbGoS5/7BgPUP8RN3x6lpmMN61EPvQoT+HtTEK370TUNhfWDkokG5CK\n",
       "nmlJqlcOCLrpEXhCn3NpUCs0dljjrS3C+ozCjiXQoDqbZPdA789ED/IAVXX3dYJXpMhgOjahBBON\n",
       "iL1YpPtxED3KU3g7k+DRi+w2F9cO4sDcFpBqbyVbqt8TfLeUyAHBOCO2T3cLnnqV4xz7lppJ5Xij\n",
       "w4I/ttf61M3mixC3RC4gHz/T/n22l3HcrtG6oa9G5ggPUEx3X+xISpFBsbpDqIMut+gEe/Fd/D9n\n",
       "fwJEj/LUHWYIRPp1k12+ZpJL/K9GsgA7iANzW0BqR03K7+QZHjkg6GXGsB06VONESNcQb21J7fqS\n",
       "tbEEU8kVI3+8Gf/juZO2Fikq9zxCqjG2rrcFd0PP6TjKA4R6P2+RDHrCJBQ99RWnCSEhkFpbIe0K\n",
       "imF3X47E9BhP4e1M999dM6tTMwTeQV/+4hTJAuxw+WzQWA7sbT1S0YlyfifP8MgBwTRDKTVyFOrE\n",
       "kZZxg5YqpdD5W4xPlgwqW1AMRY3/jH8/XE8w0fipp2dsPcAeAvVBA478UR4gtFVvtEYGV6YGoY/R\n",
       "vUVU4WqBPL63c/Ej42dIE9OjPZVYZzxGi51gcNlihIDx/DIqoZLxm9vp5NqdiVJ/m9YQqghv65GK\n",
       "XpXzO3mGRw4I+tmOz6QODIcKTpcjci5KPIhQzyaEf+9FG4sxdJJBZ2MxcvR1xFDBA4oocK+91q9B\n",
       "aKQUn+GBEe76QmtksjVMKFlB0R50hvl1X7XqEjsECpjgGfYHf+Z8oRl6/3JHVpSnVmrGY1BHwiiz\n",
       "jcV8zXh+OVJHZcxnpcaPyErEKX0aYjiwt/VIRYtyfieSPHJAMMKGQFQHXuitOqqsrS2RnvdJaWaM\n",
       "8H8aN1c9/4zQVHLzdP+fSjt8QqBzhge4pjqstUSm0yTUMYbS82YXOWH4/ucTVghMalS/uVNzu+Iu\n",
       "vSfdqcsSNQNsbmdamRsjjh6LoXQdeXY6uXZOCNAcuNvyUhPzcn4nkjxy4BDgxpXTx4DZLlyfvrje\n",
       "2dqSLb9HqCSfH9uENWTKG6I0lahZ0Xzgvdel9mgYDIFDPDCnLKdaIvOsSajQQIkFlDdK5wbjJ/Ut\n",
       "KwS+Zj6g6H5lYsM8PSoELE/98pGGs53ptdwwCYG7bkqY1Ta308m1c0KA5kBlQ1JjFUm/O5I8ckAw\n",
       "wr3DvVX3DonxS75br71zzN7aktesfr1Zpz972JTSUczcTlPJj6W/ruGeGJ8mNZ8QmOOB2T2ZaYnM\n",
       "qyahISME5lDa0Nb4itGRi2pmCHyCnthlXjQrwDHnSyQIAdNTqUd+91tnO9NHVpfbDIH09K/MrzW7\n",
       "08m1IyFAc6CyIan4jWMpvzuSPHJAoHMhQCaJqbTG+PkziswHL4kQKkO1p0+sQf3BqjVgmbQp7LwK\n",
       "p+/bzbxT8oU5evqMnbBfKpm9JqGukvmCUgXFitFiqmF0qvCIYC79+DbSeUoaDk/Y4ieBELA8lamg\n",
       "Lg16tvC1YJ0NAZoDlQ1J7eiR9LsjySMHBJ7u357DHoWfGD9zZEDODeTqIJXRU+o3F1F2gmoM7jNr\n",
       "uS6rCaxCugoLPDAbNLZ7slQy15IQML5ibxuNKDr9ZKPpxiGQPvDvxAf4ollzpo1aM2J3wFx6VAiY\n",
       "Ny/UnNE6l84ThkCdDQGKA5UNSc2PSfrdkeSRA4Kf8AUe964RrsfzhroO7m2IM/apYzaVN83qKTGG\n",
       "UvvtpQH7VckhKwTug9yYvIMHVp/5UCtkHrMaghLKGbe5Cb8rg0/2MWuB7DbzS3eTwQoTNJimbJ/Z\n",
       "9Iw6ajupoyxPVY1nQ5Pb3jfyh6ZoOzcEKA5UNiQ13pD0uyOJkyMAOj/HHPHuZTO+eImFFStOaGKW\n",
       "fb1N5frd2LtGm5TGjugwmxgzBOy5M7gWWOSBNQdaaYXMY053ML2Ap4mMaDzudDyVb4RA/NPX7bkj\n",
       "3GfEfTtnIhasBUxPVR9fsUJrasEh3qDt3BCgOFDZkFSjFpDzuyPJIwcEnoYg9iAUAmgpS9hnotRC\n",
       "btbsmUZO+88AEwLVIkOB7QuADQG6tNgKGashMJrV5DxulbIoUopNWCEwVJ8cMMctx11/usUvcSCw\n",
       "ISgvde2JbwgoDnxDwEnFDYGU3x1JHjnNhcCkdwEEH0nzpoYizVNJzqcWYub4NF9nawF7RFDd33Rf\n",
       "IDfbEplvWoSGUXYKT1Qk6j9A6MpcHYfAoDZUL5uzFx+bQ2y3C13dLwqB7KPucoxUCNAc+BDgpGZ6\n",
       "JP3uSPLIAQE/KEwswGP5e7e9+73mqWSmUrNRc5aqoLEhcCff5Q4aFKJqvSUyqy33X4u2DpjTlVca\n",
       "TXDsCXNe4GU0NFAyL87bM8/JYfGIwB4UXrP5oqVVBNSgsLuIGA7coJCXiof1Un53JHnkgMAzL1AW\n",
       "jOV3His3T8Xor15xiTk2eQ+hHWvWrllTs0PgraWGQOrh1shssNx//6nPW4sWHXha5gUzBM5Dsdc0\n",
       "fNGc4olPuGdAikMAZfv/iyRD4KWRT2oMB35egJNqfoll/O5I8sgBQT8XAp9CRbPEHRjOoiVesbo8\n",
       "xfYF9vqEQHyOB8heymmBTHzAJWQuXd46kLgYuYvF+GJs7BcIHU9NqkMh0C95EGJ/jXEKzYG7LS/V\n",
       "7MpK+J1I8sgBAbdFqqPHd6VwaVRwsL+GJ8HcEHBWCkfBlcJDPLCnglohk2y4hM4yv2tPXqbRIXAW\n",
       "nnr9KkJvUEtrLj13mWi6LBcC02XGKTQH7ra8VHelcIkh4EjyyAFBL+vRne6Ax22XEsNyVPD+nk23\n",
       "230B61XJpF01DYL7BWZ4YEihDj6SIoP9YRNK0VPwTgjgi4k3Bqw1rbuQmF5vSS4Eeku0U1JTwtt6\n",
       "pKKNcn53JHnlgGCcqXyS7ogwSXVN/ipH5WJStm61bPemwQ11maM8MLqPbvf7p1Jk0D2EUKwGhIBz\n",
       "EVdZ6DtITG+8IRcCth3Egb2tV2qmLuV38gyPHBCwu+SoEeFT1OUHlib62/ZvcuusZya9G2xwjvCA\n",
       "Hialh6XIoEjZIZRhutsD7MXz6Yl3iN4eyePCbTuIA3NbQGpqSsrvGX4dgcgBASM24o4I76e3D6Ul\n",
       "60BvcThP2wN9pYDto+5hsCnHZNnIeBPZcgvR65Z81TXAjmQDUqGl1pbkgGBwChoRRv7ALhhuXiYf\n",
       "Z52uRi/Ut0oe44E7TDppnKyibVYWAuSgD4je4JTcTQPsnGxQanJieeWAYJLuXU3vM9OH1+i6rvYN\n",
       "f/C90dxhHuSPWYyuGtH1MA9CgOhNDsvdK8DOyVYp1fu6Lg3o152y9DuFav8cAPjeqPeFsj0UobkQ\n",
       "QwCi1yV58kmTL5SplOp9XZcGhQOoHUnXwKtFHrQpQfRkPRVgF0YBeF7XZUB8sR0ujsAvTvZP8KA9\n",
       "CaQn66kAuxAKgMiBQWauHT7OHYOH0DUetCeB9GQ9FWAXQgEQOTCIHW2Hj2Pw6Sp9DR60J4H0ZD0V\n",
       "YBdCARA5MBB8HxWnDHy6yuQUD9qTQHqyngqwC6EAiBwYCI58UZzi8MkbQ/t50J4E0pP1VIBdCAVA\n",
       "5AhAP9X5ps4rWHWBSlJD8Fg5foADSXe7RPTUUmghANPrlxymBNjZ2QqlEjkC0E31vNy1+GQ5p/Lo\n",
       "v1F4vj06xwN3xfxW9I/QQgCm1y3ZRw2wc7LVSSVyBGCSkuueV9A5gFSOV8frcLt4hAMRt0H4NSqE\n",
       "NlkA05uUXCcKsLOzFUolcgSAPu7XPa+gS0O/UejjkaDrNkj2fMGuEyPzqLMeVgjA9GQPRg6ws7MV\n",
       "Sh0JAFlqPQifV7AD/1GEWlVDV6tzceKIIGPPAAsy5//+wSwmdE5iHsXDmiwQ0MtKnhAYYGdnq5NK\n",
       "5IgA/VdY3PMKjBB4WOFAVXTi5mSJBZ2XOQcWGX7pLIc1LQDTy0keFRtgZ2erk0rkCMF28lnqvAKj\n",
       "IVB4MGpetHjWOcyCrt1OtWDUjoWwGgIRve2S99veTLY6qUSOEPS5wwB8XoHVEKjtDlZFg57YIgtu\n",
       "yVWKVu0YZndQRK9PcuUiwM7KVieVyBGCAumwUucVxMq5MXU+Fv/hviMseC5RcdheiN4PbUAgoFeQ\n",
       "dEmAnZWtTiqRIwRRMhVGn1ew6gpNmYtTR8SDZI0BZ6G/DJD5kl0hRYCQXlTyT5QF2FnZyqQSOWKQ\n",
       "Cv0vEsTEbcxQiQfhJyE9WU8F2CkuACLHB/RpIfu4syHmO8+D8JOYnqynAuzUFgCR4wPiYX/h/CR/\n",
       "1wNCT2J6sp4KsFNbAESOD0iHvHcs5bdJYrTIg7CTDz1ZTwXYKS0AIscHsIeOh5AyfgtQ5BDubLv+\n",
       "QpUfPVlP7Wgpe3nk+AAU3syrld7zbfqu9oCQkx89WU8F2KksACLHByCUeDRUH1/nm7tR40HIyY+e\n",
       "rKcC7FQWwHVNAISP0Q6zrfWfK8sVeRByV8CXnqyn3mkpeznkCMH/AXeFkFOHGCvCAAAAAElFTkSu\n",
       "QmCC\n",
       "\" style=\"display:inline;vertical-align:middle;\" /></a></span><br>"
      ],
      "text/plain": [
       "summation_partition_06: {t in NaturalPos} |- (Sum_{k=0}^{2^{t + 1} - 1} (e^{2 * pi * i * phase * k} * |k〉_{t + 1})) = ((Sum_{k=0}^{2^{t} - 1} (e^{2 * pi * i * phase * k} * (|0〉 otimes |k〉_{t}))) + (e^{2 * pi * i * phase * 2^{t}} * (|1〉 otimes (Sum_{k=0}^{2^{t} - 1} (e^{2 * pi * i * phase * k} * |k〉_{t})))))"
      ]
     },
     "execution_count": 46,
     "metadata": {},
     "output_type": "execute_result"
    }
   ],
   "source": [
    "from proveit.linear_algebra import VecSpaces\n",
    "from proveit.numbers import Real\n",
    "VecSpaces.default_field=Complex\n",
    "summation_partition_06 = summation_partition_05.inner_expr().rhs.operands[1].factors_extract()"
   ]
  },
  {
   "cell_type": "code",
   "execution_count": 47,
   "metadata": {},
   "outputs": [
    {
     "name": "stdout",
     "output_type": "stream",
     "text": [
      "Found summation index k in the scalar e^{2 * pi * i * phase * k} and the scalar is not a Mult object.\n"
     ]
    },
    {
     "data": {
      "text/html": [
       "<strong id=\"summation_partition_07\">summation_partition_07:</strong> <span style=\"font-size:20px;\"><a class=\"ProveItLink\" href=\"../../../__pv_it/axioms/71c1fc00120f763c694cd99d32f7a5e7315b9ca50/expr.ipynb\"><img src=\"data:image/png;base64,iVBORw0KGgoAAAANSUhEUgAAADwAAAATBAMAAAA+KHOiAAAAMFBMVEX///8QEBCYmJjMzMwyMjKI\n",
       "iIhERERUVFS6urp2dnZmZmaqqqrc3NwiIiLu7u4AAAAqt126AAAAAXRSTlMAQObYZgAAAAlwSFlz\n",
       "AAAOxAAADsQBlSsOGwAAAOZJREFUKM9jYMANFjDgBQmkS/PdT/Nj4JSXwKWbbUM7A8N7uG6+O6jS\n",
       "7Hc4FRgYGbjS0sTSkhgYuP+hSW9j8GHghevmugARDrt71wEsfSjgCJI07wSwbEscTPeBYtYJcOn2\n",
       "/PQAIMXjBzf8ABtDBkL3frAgywGENPOCt2/hobYEIo1w2gEGbe5EOPcmmDS8CwQJUGn2B4XwUPoB\n",
       "pp4h6+YreAvjcX9geAByP7I0gykbjMflwG0ApFgD4IEK5LKawRUXPAXT3jABlg1w94I8nKQApp9n\n",
       "PADTzP5iQPIJRkx15kICFQUAALDXOQj7yj+HAAAAAElFTkSuQmCC\n",
       "\" style=\"display:inline;vertical-align:middle;\" /></a> <a class=\"ProveItLink\" href=\"../../../__pv_it/_proof__psi_t_var_formula/969f7110b0e88d3611609faec1b38c7cdc69eab50/proof.ipynb\" style=\"text-decoration: none\">&nbsp;&#x22A2;&nbsp;&nbsp;</a><a class=\"ProveItLink\" href=\"../../../__pv_it/_proof__psi_t_var_formula/b43b71711cab944f727c2d94babc59761fa81fc20/expr.ipynb\"><img src=\"data:image/png;base64,iVBORw0KGgoAAAANSUhEUgAABBwAAABMBAMAAAA8dLnSAAAAMFBMVEX////c3Nx2dnZERESIiIgi\n",
       "IiLMzMyYmJju7u4QEBCqqqpUVFRmZma6uroyMjIAAADVePneAAAAAXRSTlMAQObYZgAAAAlwSFlz\n",
       "AAAOxAAADsQBlSsOGwAAEIBJREFUeNrNXX1sJVUVv/P6Pqbvq29dUURInyskRsSWbPjSmH0QvhfS\n",
       "YiCArrZGIFnc8J5hgUVCdlhiyApsCwK7KKZPYyIgsTWoiCb2ybIKgmxRjEH+aDWSlYh0t7t02+62\n",
       "473zcT/O3Jk3HWbae8jm/eic3jm/c86799w7d24RIvI/tIKiXRd4uTwBQRu9+OUEAwKpRPSaSrwo\n",
       "4INSHFvJdECnB159xQPa6MUvqTEIZBLVayrxYgS5oDxlrGg6dDYCLub3QNBGLwnZ7QESieg1tXjt\n",
       "9gZF372i2YBKhwIu7mxA0EYvCZmsQOCVqF5TixcFLCiFKfvzZNJ7kHHk3ITz4dmAa7/zgEA9rZWE\n",
       "gYVeCCQ6U9HaVosXI0iDUneKl61kQMT/br4u4XTobvpeyi5CEKyXqyVS7S5A4JV6tJJPMV6MIA3K\n",
       "e/ZHelPTTgeUdDp09PvX1VMQBOtd9KdELDzLAzzyXsR5hWK8zoJByeOE1Nf91kD9yJMO900lYVT2\n",
       "iO+l0QkI/PV2nP5rlEGJ2FqvQeAp+RajtawaLwrcoJT7SRYU+/UplHp136t/5tIhe2F/Ikl6nu+V\n",
       "tz3AX6+F9qFdKBFbO4Yh8HyNI95NNV6M4HksP7omtNl8q+HpHfLJpMNos12/EdCB0MuLqHvwmVwi\n",
       "tuYXIPD9nsXWMa4OL0bQCco4nj/nDG1W+2PFTocbHm4mnA5dfv1fYQ6CAL1t2G0nfzOZ1F3yACDj\n",
       "0VYd1OO1JAZFP2yvT9k3LYJsSiYdCrM+F4Z6IQjUOy0xW8cHIQCrDoejtaseLwrsoOTs3uJGO9tT\n",
       "K5IOpRmfC9ubEATpZa9LzNbJKgSi5BaitaseLwrsoHRY3Rdcevr6eiyVpNIBzfv8fIMBQZDeWiMx\n",
       "W7uGIQA12Vy0dtXjxQhaQRmy7nYyWiMtPRJKhw0+XfD7EKAAPa2lVZKytWMWAtCrR7uZgrwYQSso\n",
       "20lnoZ1900srmQ59Pl3wDAQoQG/tTVuMpGxNz0AAevVqpGYV5MUIWkEZJ+sinaZ5UPLL2mdnaomk\n",
       "Q10+tSgsQoAC9EZMMzFbs0sQgJIs2hK1grwYQSsoI2gVpEs+9HYehAAF6yUnpgGBIBG9piIvCkhQ\n",
       "2oxmCUl5MXhEbjM0D/UnbuH0BATLqAGiGr4qvCggQckfXo10KMoX50Z7IUDBesnJ/hoEQk0V0Wsq\n",
       "8qKABKU4sxrpkJO7c38VAhSsl5xs74VASOeIXlORFwUkKOWF1UiHrHzhYboJAQrWS07qwxAIg11o\n",
       "r4n7WFTkRQEJSufsaqSDbkp/PDIIAQrWS06GDkIg1HyhvSbuY1GRFwUkKHyNXzY5qSVqlTkYoZz3\n",
       "6E1z9h6Jee4zC0GImZFExH0sKvJiBHFQurnkz5vOlXveeN4cbtvy7R/AqgFZt6iZEPh0wO7lUSer\n",
       "9FM2jswHfkeX/bXLLEDAS/fBsDfKSA1XiRcjiIMyys9txtn86TbBC3fb1pE9U0we5jVuC9Wb0Aem\n",
       "09J6/X0I5EIvF0xqfY4mmMzWTr5Gy10d0LY71JePQCBMAZjXyN4lnxuRS7ukhqvEixHEQemb4lPH\n",
       "ZK+S7OXtbDnBLPpOjDtDLdNpbhU7Lquh00sQyIVdHjjGMq03tK0/CGh7rRuRGQh44bxG9i75hmAf\n",
       "4vaxKMqLEcRB6eHnUVnzKDODe4zipDjZM+V3u24Ou78p6cm2ulMq2StMqcMi0HzaoXqobrLXEn4f\n",
       "1lbtYICtbulXdANSPCZpgvMa2bvkc6NFcR+LorwYQRyUcSEufSZLAu79j3OcJg3LlBNwgUPUDtha\n",
       "t1jvn9yqXUDVz3A+z5YMXU5P1zMl4VM4JoLUhLwdqofSJnuFJxdga7lhKWTfsT57P1z1t9XZa5By\n",
       "v6kp2Tea89o2Kx20AdMyRbjRNpgpSvJiBHFQNgjz4g5T1hNptKwke6b0lz5qb5Ih6VCqaD+/hfzP\n",
       "L07aWeFMufdR/PmMpD90/Ngju0/HcREQt627ouJph+ohtOH9ULZabnsdffwjJAsL5z/5EPK1daPz\n",
       "227DKdl4L3iN7F164J5G1XMjsK1J4EW2uKjBixHEQZkW0kEfOS4rAGnS3WjoVR2dvwNrVnE67EBp\n",
       "lML/4f9/pJkVMvNdWFU7N3BmaH3SxZ3jIsBuKzf1qzztlJmRO81We1t3YLdhe2uoiqr4s/Nyrpv2\n",
       "2Dpk919pt6JPy0p73ms4sDuQkT6x6rkR2NbE87r/tTmkCC9GEAdlQKzpJk3JDLDLLRO1c1EWJ2Dv\n",
       "FkQ+D6DNlTQ6CafE5op2/A9IMIVMTFKStg44K6OymVpmRgTYbbch9EmnnQvWnWoAPdw7mQvtbd1c\n",
       "KTcwrmlNVMOf3a8OBthatgfJnDvpy7HJ4d/ZPJnz2loD3wB1ZFueG7nbmiBB0juk55AivBhBHJQR\n",
       "MR1SpuQN4rrLyt4zpfW+RSNbwLn5tDVu/U3jTSnN8fMITvYGpEPnjAiw2z6PJ3WG1c4NBtKvBHqk\n",
       "g5s3Qthq+WIsjfLEObeW+iv+tjqVvCwdfsyWD6vcKrS1d2ltacxzI7CtiedlpYMavMR0AAsA05LK\n",
       "6SLSyz+/yd0zVay9SdMh96uxLcQ1hdqNKd6UlDUY/NPb1mXOxF2aDkdEgN2Gu896k7STPRP/4N4J\n",
       "Uc9aSZ0KYavltru+kX3BKnOy/VV/W9PDzpIcXZuTpYPttfsfbbl7l14sDXtuBLY18bysdFCDFyOI\n",
       "gzICXiDfaXpXBMhbxTu/dOeYs2eqbNjzA6vf/9n8F6wqqFK4nTelPJb/jIF+5A35pBGQDkdFkJrQ\n",
       "STo0SDvFVAXprU+Jela1MxPCVstt+envWm4/Ez036G9raS5MOlhe0x/9yffdvUv/sUt34Ubitiae\n",
       "l5MOSvAS0sEE6UAXqjlZj//9Emlz7R/RUFOGGk9/rCGrJeu2xZNOOuy7hsiXnfHRdUeX6zZtxnrf\n",
       "CbdzPvoEeoDUrLwev6AbwtatKISt2Vln8KajuCQdbK8V+lG3EfZGAi8nHZTgxQjioHhKx/3zHob/\n",
       "xf+O0pkvmBw1paaMntK8pYKKE9yAcZ/V+3Xb/WJdxqtrQQROOlRJO2Mo9bUWLlUEPWtMFKudIFs/\n",
       "h0LYqi06K3IGEoGQDhbrrgbqaIS9kcDLSQcleDGCOCh3wOBnvM8yN5HfMU3plo+M8Pv6kmPKy9bQ\n",
       "kR1D+kHnUYXz6umQnQ73ydyY2yYCPFjge07WSDtV69SklKhnV/lHwtoqTvt8bNVtt+l3uGp30H7s\n",
       "cdqP2V6r4xtV29+IsJ4SeTnpoAIvBkhQTPisQfMuu+DMzC6sWXNiiIcSmxxTvmpNevJVlCeO6LCG\n",
       "ISsdnHU6ee+wKAK7lBxtknZaSFs36DwC6xJ2Wnb3x2qrswbcpnewvFb/4Zo1RphHNSjTArzsdFCC\n",
       "l9A7eAaL9EOydEDLeex+BtIXSuTu5Yp22r8GhXSoV4R0EGsHz2BBhsztBm4Hu+1D6ErXbcKc/LJK\n",
       "rLZmD4UfLGpoeQIHCyV4BafDpPeBDDk26GUDaeFNyc3pC2nrMVq5KfYOzsyifjBU7YDuROg1q52b\n",
       "s1WUnviH122l2XhtdSrwrEkf6yG/dCjuYY+KIqWDErwYwbp3opldkK8VfHv3G1eHN6Uwpc/i8fDT\n",
       "mKIhpsOdSJhZtJlookxTf8xqJ/0X/IPLq54JGVmWiNXW3HCImYUz0bz+7ouW1UFwE80U+bIqwUuY\n",
       "WXjWHWo+awX7lmrhTcHzjSsuReR4oTcR2rv+vPXrG046vLK8dNBf2DhotYPIcs39hnd+/kisttLT\n",
       "Q8OkAyoO/BtFS4fC80vPKcJLSIcBkA7vylgs8w009+Eq2bGxURdrhwMB6ZA5KgL3QbC18yN3Mbqh\n",
       "AfTI0NiK2VZnbT84HQainf6oJC8hHcAutQ7pWwXVaKZ04IH1xZTBp4P7RHNU+kQT7Ndy3dZhDdDf\n",
       "ufBJqOcsz8Rqq/PkL+8+58vPSx5hTdcipYOSvBhBHJQN4m32sYkTG7uyw9FMIRt4ttzu1A72q6c5\n",
       "Z7/Ddul+hxkRuG7b5aeHvcSdYxWPrXc5Sx/ufDsn3e9QjZQOSvJiBHFQxoVOKcdmmTmulPlNNFMu\n",
       "oTxZd+lU4n1Tkt8rHBeB67ZL/PRwZcoq+2/FY+tVznw7cN/meCtSOijJixHEQRE3LXKzzKe4H+9a\n",
       "nikXO5+06aJneb1HOiiB7XvpQdAO1ONnY/nhWGx1n8HAfZtgJT/aafVK8mIEcVCEuHBn7j7Ab4vK\n",
       "R+sbvUKfvu+Xfb2CQyDR444z1t0WP6Ct7o7j4nEIeOmJ9m6tkrwYQXyr7VOyWab2U/HB5t0xpUPR\n",
       "LU02yGqx3BIEcqGX2WzspHH6APCD2eoegtNxBAJetk9FalxJXowgDsokX6JMv2fJ29ebppnsUQPS\n",
       "l1NL8xDIhV4uL9kGXzNimjGfU0FfypW+nTs5HKlRJXkxgjgo/OtlRf4dzUai6SB9OXXZL+Xt5+w9\n",
       "Gq+B9KVc6du53dGOaVGSFyOIg9J1CK2GyN9dpW95mMGPAsxK4gbSl3Klb+dG9ZqKvBhBHJTM4mpk\n",
       "gybvNQcmIEDBeslJ9zAEvET1moq8KCBBKRxdjXQo+ZzH1oAABeslJ5NTEAgrBBG9piIvCkhQ0sdX\n",
       "Ix18Tmvsa0GAgvWSE3rypfQIzKheU5EXBSQopaXVSIfCQoSvpEQvORlvQhCidwv/3VSIFwUkKLq5\n",
       "GumQkZ+eEnwCj0QvORkwIOAlqtdU5EWBFZQBrprlzuxYd0GSRg3J5+2ZQxCgQD3ugIvUqdU4DdTn\n",
       "IQBejTYHUJAXI2gFpYcrX9hD9VytlOQZh6PyNf/UUQhQsB474GIr+mucBuaPQSBKT7SiT0FejKAV\n",
       "lEkuMuzMjs5BlOSChHRAxkPyMQhQoB53wMVjqCvOSTstbvyqnGjPsBTkxQhaQeHPQWZndnQb6HsJ\n",
       "psNIu5+PhPp9dsCFNoc6mzEa2O507KinR6vHizGxbl7kFmHJmR17yR/VaNQNdG1y2ZD1+5LsH4Qg\n",
       "UI8ccFEk9p6TnUOZOCft9TEIRClGPI5TPV4U2EHh/xARO7MDp8MjCS47+B3a2u5vDgE9dsAFdltn\n",
       "Lc7peRMC0K1HPIVYPV4UOEF5nOpyZ3bgwSLB04nLfg8EO4chCNRjB1zgTrUrzk71HQ8A8njEzlo5\n",
       "Xu+AoPSx6QQ5s8MeLJItJet+35H0IgSBeuSAC7tTjbnkys5A4PmaRXu8oBwvRtAJShcdHbkzO9K1\n",
       "0lhy6eD/RyiPeUCQHnfAxYXorTgL8LZ/z7MrontU48UIOkFJ0R/wZ3asu8JILBt0f5/0GBAE6XEH\n",
       "XKROfSlGC4fGIPAsEUT8U3mq8aLADYq+4n/RIu0/Dg1VIWijl4z0VSDwpHREr6nGiwIalD5jhdOh\n",
       "s+WfKXMQtNFLRp7wAK9no3lNNV5PeIKSqa5wOgR58ose0EYvke4rRFJG9ZpavBhBGpT8Cu+P04MW\n",
       "7kcrELTRS0KGGhB4JarX1OJFAReUvSubDoWgh2PFXgja6CUhz3qARCJ6TS1ez0qCkmmsaDq8GTjq\n",
       "XusBbfTil9IeCKSjRUSvqcSLEeSCkt2zounwlcCrmw0I2ujFL5kJCKRLOhG9phIvRpAPyusrWjoE\n",
       "r+eVKhC00YtfHvQAqUT0mkq8HgRB+T9IHAS+HJw68gAAAABJRU5ErkJggg==\n",
       "\" style=\"display:inline;vertical-align:middle;\" /></a></span><br>"
      ],
      "text/plain": [
       "summation_partition_07: {t in NaturalPos} |- (Sum_{k=0}^{2^{t + 1} - 1} (e^{2 * pi * i * phase * k} * |k〉_{t + 1})) = ((|0〉 otimes (Sum_{k=0}^{2^{t} - 1} (e^{2 * pi * i * phase * k} * |k〉_{t}))) + (e^{2 * pi * i * phase * 2^{t}} * (|1〉 otimes (Sum_{k=0}^{2^{t} - 1} (e^{2 * pi * i * phase * k} * |k〉_{t})))))"
      ]
     },
     "execution_count": 47,
     "metadata": {},
     "output_type": "execute_result"
    }
   ],
   "source": [
    "summation_partition_07 = (\n",
    "    summation_partition_06.inner_expr().rhs.operands[0].factors_extract())"
   ]
  },
  {
   "cell_type": "markdown",
   "metadata": {},
   "source": [
    "Now factor out the common vector summation factor in the two terms of the rhs. We do this using our VecAdd.factorization() method after we quickly re-associate terms in the far right-hand side vector."
   ]
  },
  {
   "cell_type": "code",
   "execution_count": 48,
   "metadata": {},
   "outputs": [
    {
     "data": {
      "text/html": [
       "<strong id=\"desired_expr\">desired_expr:</strong> <a class=\"ProveItLink\" href=\"../../../__pv_it/_proof__psi_t_var_formula/8a44f6f028c6a94c77bebab9f91457aad164a0740/expr.ipynb\"><img src=\"data:image/png;base64,iVBORw0KGgoAAAANSUhEUgAAAXQAAABLCAMAAABX5oytAAAANlBMVEX///+/v7+urq6IiIi6urrc\n",
       "3NxEREQiIiJ2dnbu7u4QEBDMzMwyMjKYmJhUVFSqqqpmZmYAAACexrUPAAAAAXRSTlMAQObYZgAA\n",
       "AAlwSFlzAAAOxAAADsQBlSsOGwAAB75JREFUeNrdXYmS26oS5T32Hf7/Zy8SWgAhGcebeqhKxcmM\n",
       "PX0OTe9iEAK3DIEnM6JcIsArOJBiCweYc6+AqoyyYDmXtew0gJGcRAqVdGeqf1oMSHQGlHMdKy+K\n",
       "efBwfGn0MEk3WdGlEM5Ntp33LJA19xSecZhedFH0yZKHBEF26NUY87seUwxS0Rc6J+5p1MgH1IkJ\n",
       "/F01iimQFn1RFSsz6TRYCoh0D9Gqu1jE6OKU2tuSjqIBx7mMRdClz/Pq+5Lu0ukEtmxxOikrONds\n",
       "XfTepJMooJHOdusyZaKUgtN0FKG5Uhn5ruda6yDhkc6g2Re7n00Vp3WS+AkTxV0DYgzNvrgIsZDe\n",
       "Br3A4hcVEfwVy6j3R4UjaYar44VJB7xMcVx/1o7Rw20sH9kfID3s9Zcf1uWsGxZX/AHS7aY6+q0t\n",
       "sCe7OcyPHkz/B0jXW6Ru3qpDT3Zz5OCOK3gpdNczxdVaPqHo9hH0p7s5g/4k1lKaeLJeCNHtF7Y1\n",
       "LrrDG0Xf+jJdhTs7FZfdnEtzNNSxpU0y5GOsVV9Sgl3Kmq4T7X/Dhix/V7rFs5XUraKvfZkn/TI6\n",
       "7+Y8sOoj1s23EaOLvRjS8qPpt+RVbGk//i0xCx3XNG/foUu99mWePDeX3RzUaHP56XakCoQPuRyP\n",
       "sWeYQgvHh5expbecfQGd45q+zI559axiseVo7cvkt/FsKtdPN9t3Ty+02eZQrrs5SNSqwnSJaMAJ\n",
       "iEOYrpNUve0NtMm/XseGLEMUi8ewKlzdqCLMmqK7JnXty8ggqUXFj9sEI+lt1FFtOu+6kG7Jhir1\n",
       "4wNBpjuqNS74qoDWNNg3YHOYeqnoGSzJFO8cqxmbbJXHzOH6WaIokzzpL0ylWJzQItj8YtpCkf8s\n",
       "X79ML2fppAtm8SDl9oQBN8Bi6Pzf49IAVe/AprA/mI5Kl8wqXSsQdi3p03e4DuLcl9F5axnSYcmh\n",
       "aBZsfpEEoz4LuHxj1c05kw4vpAtfqmwtp0gLy9YBhU6IH+OjQxLEG7DRGIK+hLVZSOHbwFw2x3PS\n",
       "AuW6OeXWl0m+gLjOEXRZIbzvvush6aWL8aVn05luiUnjNjsmlSQD4x/795exJZNOOLpwVWSj9uA6\n",
       "jW3qAJOG7WCkU7N1rfsyASOiOp9hnXZJT8SuQVfdnAPpyNDCJe7Mabb8v2SkTki7fizF5fI67ZZv\n",
       "wOZwMkrowpGK/VMMvYymFtLtdli5t5Pe132Zqfha2Op947yJqiDmqpvTI92L4gjaIrIVNHs5JGRF\n",
       "Ou5XZK7bAsu014vYJkVw9sKmGzcBmjfTN3uDVZvUlfGa43P4Nl4SeKrIciC9dDk7oTjBm1hPnG/+\n",
       "eSHd9is38bL6uHisj2FbopcknPc0h5i8NYHyQPp+tDMqNj67zvxLpIddk3beZgsrdK5UuqpmYU8y\n",
       "1XiV6zD2WWwZlo+U+BTY0wLXamZ0LR6ZSCerp9FLwWi84vi4/yD3s38kXe+c7jGIKGtgoiL9hIZw\n",
       "adaNez+2AtUCK6jC9mRcMm6pH2lSOrlrenpBp/XWp0v2tOdIemH8dtLnF1QI3VYuYvz/aQnporKY\n",
       "BXgztiKZy7C4KULKjMubbYsq0v9XkY4+O8h7JL1w8/uPniOMJPUcMIYRTU+qdJEhZU3/HLac8yXZ\n",
       "yGZFJlxUcJMVp630zJpON1sZ8imlXyK9DGh3e62TaZw1JbFO/BDpWNGHpH8M2wzLJkwT8bjAZfzG\n",
       "Mm1In3ZpVQLJlSWY48+SLlYZitStrHhhslgdXMdeJ9ELKlSsG72wz2KbYU0hkkxiiALXdqCb6GV2\n",
       "pEjthzjwaD56DpFzKhrXRlbVk0RbclT3Gs5I19cp6RYlfwjbDGsOdXDIqXTGtedcTeE6k26+M9nQ\n",
       "1kDLclzdL7RYT8UA27rLkzj9mkkS5VdhrbiwQ1KXkVhNelA/IZ3R04qw9Bh7eUg9+xnpo4KXIt8l\n",
       "fcEV8JpQN7UXPxe8bJQ/IL1qLbCB1jTrBtns4TEN4qukr7h0WCL3tspo51hLfmeepJGush5xIFN0\n",
       "vSJu6OYwFR6tvko6PrThGoVa2o7sK4964zrGcJWZGwjlQqcharvBoq2VyPkvwkIHITlt66Ks416/\n",
       "v8TI/MCxR3oSLHqFzg3Z11enRxo6eer3lxrRRXso4Xb72TIczJD/4QzkcRqALQGB+O2gOh46aaSd\n",
       "IuoEi9S7Xs3R/k6pjk2dbSRT6dsr+mHCK0lvysV57k/cfYp9G8n86Q0GePCHN+MW4WyW8eZ32ewj\n",
       "meZ3klI1WIXif+CRo+nAblZS8l/duiP5aETnov0DpJMiHqDmRzdjjXfQcAx/gPTqmUb6G18qyT/p\n",
       "CNzlYD1PIuNfeKSRRwlM3srx9Of0hcDi1poD7HIA0XjSXtF2yrrJjR999BHYnZikFrg7pz+neTe+\n",
       "ANGBe0Swfk69N6efZ7iUBwIBwgpVWWWd0w/bDTt2GRfltw3odQR34259L1BvTj+Trm57Ex8G+ACy\n",
       "UqUl6czpZ/NyX2QG4B2BuCi/bHP6pXm5uSPVIK83KExif04fTyHjbe2mixCvIRe71Cdz+ik5CndF\n",
       "JiPIi+sl6OtHMNAb1HEE/KslFNQyKReAFR2qwniwv+RAAm7CBKg3eTnIV5BxmApDFORfdKRhSs9h\n",
       "t9UJRKte9SX/Ayd0V680qsFbAAAAAElFTkSuQmCC\n",
       "\" style=\"display:inline;vertical-align:middle;\" /></a><br>"
      ],
      "text/plain": [
       "desired_expr: (e^{2 * pi * i * phase * 2^{t}} * |1〉) otimes (Sum_{k=0}^{2^{t} - 1} (e^{2 * pi * i * phase * k} * |k〉_{t}))"
      ]
     },
     "execution_count": 48,
     "metadata": {},
     "output_type": "execute_result"
    }
   ],
   "source": [
    "temp_summation = summation_partition_07.rhs.operands[1].scaled.operands[1]\n",
    "desired_expr = TensorProd(ScalarMult(temp_factor_02, Ket(one)), temp_summation)"
   ]
  },
  {
   "cell_type": "code",
   "execution_count": 49,
   "metadata": {},
   "outputs": [
    {
     "data": {
      "text/html": [
       "<strong id=\"summation_partition_08\">summation_partition_08:</strong> <span style=\"font-size:20px;\"><a class=\"ProveItLink\" href=\"../../../__pv_it/axioms/71c1fc00120f763c694cd99d32f7a5e7315b9ca50/expr.ipynb\"><img src=\"data:image/png;base64,iVBORw0KGgoAAAANSUhEUgAAADwAAAATBAMAAAA+KHOiAAAAMFBMVEX///8QEBCYmJjMzMwyMjKI\n",
       "iIhERERUVFS6urp2dnZmZmaqqqrc3NwiIiLu7u4AAAAqt126AAAAAXRSTlMAQObYZgAAAAlwSFlz\n",
       "AAAOxAAADsQBlSsOGwAAAOZJREFUKM9jYMANFjDgBQmkS/PdT/Nj4JSXwKWbbUM7A8N7uG6+O6jS\n",
       "7Hc4FRgYGbjS0sTSkhgYuP+hSW9j8GHghevmugARDrt71wEsfSjgCJI07wSwbEscTPeBYtYJcOn2\n",
       "/PQAIMXjBzf8ABtDBkL3frAgywGENPOCt2/hobYEIo1w2gEGbe5EOPcmmDS8CwQJUGn2B4XwUPoB\n",
       "pp4h6+YreAvjcX9geAByP7I0gykbjMflwG0ApFgD4IEK5LKawRUXPAXT3jABlg1w94I8nKQApp9n\n",
       "PADTzP5iQPIJRkx15kICFQUAALDXOQj7yj+HAAAAAElFTkSuQmCC\n",
       "\" style=\"display:inline;vertical-align:middle;\" /></a> <a class=\"ProveItLink\" href=\"../../../__pv_it/_proof__psi_t_var_formula/aeb487c981188b5cf144d9da18c05f45e5fe10930/proof.ipynb\" style=\"text-decoration: none\">&nbsp;&#x22A2;&nbsp;&nbsp;</a><a class=\"ProveItLink\" href=\"../../../__pv_it/_proof__psi_t_var_formula/6cb2b4d924570c088f8663061ae91d89d1031c170/expr.ipynb\"><img src=\"data:image/png;base64,iVBORw0KGgoAAAANSUhEUgAABBQAAABMBAMAAAAvo/kmAAAAMFBMVEX////c3Nx2dnZERESIiIgi\n",
       "IiLMzMyYmJju7u4QEBCqqqpUVFRmZma6uroyMjIAAADVePneAAAAAXRSTlMAQObYZgAAAAlwSFlz\n",
       "AAAOxAAADsQBlSsOGwAAEXFJREFUeNrNXXtsHMUZn73H3vreIYUCBflwAVWlwUZReRRVORDvENkg\n",
       "EIGmtVsIUiDiriJAKKJZQhFKgdhQHqFQ+YqQChTVrugDSlVfCWmhQGNaqoryh4+2KCAoTpzg2E7s\n",
       "7czs7O7s7Ozenm9n119F78vt553v8duZ75uZnQMA0f9AiCSt9bycH2eZJnLB05Eqy3BJoNdCNY4O\n",
       "SHY0TCiAUzyvvuFgmsgFT7FRluGRSK+FaxwVkGfVUKHQUfW4mN7BMk3kRNBjDoZDAr0WsnFWQJTH\n",
       "QkUCyO3zuLityjJN5ETQRJFlnCTSayEbZwUk09A/j0O9Bho7zhSMhRc8rv3BwXjKSXURCmZ6WIYj\n",
       "0xDnoLCNMwNSITnKJjQAwv9uWCsYCp0110vyPMt4y6XKQjLbOZZxUkVcZhe6cWZAPtU/EutqOhSA\n",
       "aCjE+9xT5wbLeMud/xchGn7VwTjoU4H1Q9jGGQFJQwwqXS+roA84oHCvkF5QPuB6aWScZdzltp7y\n",
       "IkgCIbpWyizjyOzmxUEhdOOMgOT7EAKyfUoDxN7c9eZbFBTk8/qE2HqW65UPHIy7XB3sAtuBEF3j\n",
       "QyzjeHL7xEEhfOPOsrBRGJem0/Wqo1dIizF4pNasv/DoOMzL86Bz4PmUEF3Tcyzj+mgJ6jTDNY4E\n",
       "ZAzWxylVmpb+XNShcN1DNcFQKLh1d5kZlvGQ2wy9ddx3xcB2wcEwNCZuViEC4/SAKPvxP2J6W1kG\n",
       "QGKgkJl2uTDYwzKecicJ03VsgGWYWYX94saHCIzTA5LSe4n1OspjoUAhN+VyYUuNZbzk5LXCdJ0o\n",
       "sYydUnPioBCBcXpA4rgrZqeVrl0JqSgKCmDW5ftVKst4yS1XhelaGGIZJvWaEQeFKIzDARnEjRwH\n",
       "lnEzDEFQWOXS7X7GMsBDTqpLRVG6xqdZhunExRUQkRiHA7IFdRLS6de/FiYUel263SmWAR5yy6/f\n",
       "qIrSNTHFMkwnXhIGhUiMwwEZQ3M5HZq2l/M30qlTYmqmCr+EyMyzDPCQG9Y0YbrKCyzDZF7ipp0j\n",
       "MQ4HZBhEQAX+UNuxl2WAt5w40lSWsZFAr0ViHApIk1FZEOXnvUfgJkOxwJHaoMlxluEmNSJqySiM\n",
       "QwFJ748CCln+ZOJID8sAbzlxtLvMMrYcyvJaO0tG29WlYhwKSHYqCiik+ADcXWIZ4C0nsLjvYRkb\n",
       "lE2vtbWtTV67VIxDAcnPRQEFmT+xMFljGeAtJ44qQyxjG+BMr33f193cNqHcsVSMQwHpmI4CCorG\n",
       "/Xp4gGWAt5zAEXsvy9hSO8Nrsr9diG6bUOK1JWIcCgidy+c1ispCldEGFpG2O+QmKX0PBFzjTLMM\n",
       "twLK++vN3TahKDuWinEwIJ0U6NMauXLXOy9pQ01veGsbyvTzekFJYxmX7ta4PEIQpRy/enjW86ls\n",
       "+UlLzrEMTabXRlRfzSXdmnkjAONaDwTHOBiQEbp0GbNqpFtsHrhTVwrtdbLoIVriFl+9iLnwOcnN\n",
       "yz9jGT6ZlzOaqX3KBBdP1w764U1d4XFvY1DPH2AZW5ZvtHs5+USbjlyaQ5e2uzXXWWzfOP+B8DAO\n",
       "BqS3QaNFs/LhnbR6dRLIrGvN2+Fr+k0yMtYxXseaWGAZPlmX+w9ZKOvxretPPO693AjEFMvQZHhN\n",
       "njGdvMvd/7sAtQmFSRZKQRvnFQgP42BAuulaSdYOWq1TeCWgRnudXOFN8cZfcnrlTUbFxKvBYvvt\n",
       "jORyH1MOVDTrjYE/+tVV2uuhq5HgZY04ZA9xbmF4zdw/jjYduTQ3b9+EYrQo680NgWCN8wyEh3Ew\n",
       "IGO2mPRqFgCo1zLOIHdSsQZHwjwGie3RpW7C74bcLJ1riq8gn6dzRinSsXU3OFZkDtmZ2Dj/PqYc\n",
       "SGjW6zUpD13zVSwgf4Q/ez5XcteVlPox4+GM8Xoow2sFw0mbMRSkfg0rZGtuM4MS0mIcf+ncXd+6\n",
       "cS0Ewt04GJBVtoo3rvE6HsmELtrrpLz2eX2DC9IgV5R+eRP6x6+O3VakNLj7Efj5PKdvJz7s5rUT\n",
       "P2xnEBS6Li067mPKAbDqM1+64ti8Db5wFEJg5pxnHgSuuq4mf23cOMbLWwyvVawnB206uv+uasnR\n",
       "HLMfCcdnvWr09etA28a1EAh342BAJm1QUIYP85I98yFaryolBZyzFUqWoAZbQQLE4P/gvx+uyTZj\n",
       "P+HnzQoZXHu5EzeH7QyEQr6mXOa4T95ScptWb67rVhgbqG8ZlEAJfnZcQg05Dl0H9X4rYSTtCV72\n",
       "bnhtCz1xuBWoiaNLjubYOcUVQPn9JGxEfxj+Cto0rqVAuBsHA9Jvz1smNE6VVzAyEelMIMMHqmcj\n",
       "QJ97wIZiAhwLtdhQlA7/yY571PHFOPfaQ3zIm7hJTtkZCIVbAPgiuc+5XSeqjBx8GLS55rpuKOar\n",
       "kC9LNVCGn51vDnjomtf7/JRR06WswvafVi1MvGa9zbdchc2AuFx3NGfsR6Jb7IVffVkPAYlJV9dF\n",
       "izOupUC4GwcDMmyHQkzjTHpUDFv0vU5Sz3tmVDMQ/M/h8fcfEq1BboauFyja6QGFjik7A6FwNird\n",
       "8X2uU4GyhpFDHdus6kNX7ILRBEgjn9yc6yu660qSdR4UnrZmBInXnrBmlvGmo+W5UUdzzH4kEwp6\n",
       "Oj+CYSlDHPxgfJHGtRAId+MQFJgydJKTJZ2PevaX1hl7nbLld00NUr8Z3Yjckimvj9EaxPAA8L7z\n",
       "XheTwpwLhQN2BkIB9paVGrqPfBr84u5xuxyeIW340BXH5o4b5VfwaCr3ldx1TQyR6TZz3o0HBeI1\n",
       "HLb7Hqkbm45ezQ05mmP2I5lQyGOAVPADey3kla8v0rgWAuFuHAzIMPP+9jbNWfGjbnDbNbePkr1O\n",
       "eVWvA3Bf/4tZbEG8mLmV1iA/mv6KCp5yhntC9YDCQTsTG1cQFKroPtlYESj1L9nlcHYz5UNXHJv0\n",
       "5I8wlE4Dvx1w1zU34wcKxGtIEeWRnz1hbDr6UM/Rbc3Z9yNZUEhjRw/iO9VPgDlnTF2ccS0Ewt04\n",
       "GBCNgYI5+UzRSvjfr4E043ehZQWy8Lljqry8saJHYYJAYdeViL5BhkLDCwUDCtIUfg8J3ucccAK4\n",
       "H6VFtBw9P+tD103Ah67yNBmnzQGbAwXiNVwKZvpAp+q3OQoKet5YQP5LFGNFpa6U2jHOVyDcjYMB\n",
       "caSJu2cddn2s4/8M7nRZjavByPG1m4ogO04NEvfizq5T7+MrPHMKc3aGQKGE7jMKYt+uwxHRJoeH\n",
       "P3t246Xr14APXaV5MtumAjtjg4JutTynzy3Eq36bo6HwFrYF9+oAnHwczC7aMc5XINyNgwG5jQ18\n",
       "0rkmuQ79jaZxN7kkbX+vLBANXse9lDwKlL1k6YG8ATqoQ+FenvNSm+0MHCBgmxNldJ8SXrqJ2eX0\n",
       "bP6AX13tRZ2LroruLeU2Q+w2s/963Oy/iNdy83hSUNNKzZtDtjdsULgRRx7VizF9C0ypHeN8BcLN\n",
       "OBwQjZ2ylpxTKh8j/C9bdrSPRYZ1RINv4YINDodpZH4cDz0YCmTmjd8rzNsZPW0cqaH71IHUNUCW\n",
       "swq2nZGdfYHqSqZ0m/QK41avUPnpsmWqnwUYkKzboPCUCQVo1hEnk9WiiIyDAXEMEIkHeVAArayY\n",
       "rwDKXA41mi9KJ/17wAYFMj9nQMGeKzgGCDQ6blFRsl0HR4A1BhRs5fbFxUB1lfe1OkCUQUtkQuF9\n",
       "M1fIAqmUGCdQiMY4HhQmnMsq6Kie11Ug+dcgNaPMJXDpnK/ZewVSQVT2+soVwO14Pg7e5wa5BBLj\n",
       "/3JCITcdrK4kyZY1c4kOuEJBQiledoe17tMKFPRiH69iyLXvALAmV4vQuIqzmJTn+HMB9zz2zhX+\n",
       "Ncg0lOkYnlArqHYo3A5sFUSTYhIka8qj+D6Jv8EvLik5iklSmAenK1kr9K4giNcU9IgqV995frlF\n",
       "KHQXjSlA/RikNdCwxFNRGjfBmVcou8wF7Foo+9cAprOXXoTLpXcB2LnyrJUrqwQKb7QGBeWV1QN6\n",
       "2YWmmO5TnfMKDweqq7mF2RcUwJP4L/r/2+IA8fLwx0aBp5/uFUdTTC9GaRwMSD8DhU94IWrxrTBj\n",
       "bRQtvq1W7LnCHg8oJA/aGWORGi/ipS4A11UZOTQK1gPWlUzTe0PB8Np/QOtktKgvF5IdcZsG5Asj\n",
       "NQ4GhNlZFufu+i8tTgOE9VfRHJoFBWNlcoS7MsnsszKgEMdD8Q/Pe4aVI7MugepKFu/Sxppdepaz\n",
       "HGV47fU2oHAa/n+ygK08fYkaqXEwIKvsd99llUXWMCUPLU4DtOdm460kV9DfAE2R/QpbuPsVpuyM\n",
       "AYXtbnLQOdS5UcHoSl5NSBk1dYq7X4F4bYu6aCgo+vLC2WBpGAcDMmbrg1JWJZmiMpbfLU6DC03z\n",
       "rDGA5Nq9Dc7fZQ7bGQMKF7rJwSzUyt2/F4yul5Ga2nOfpeG1wdqioZComqsYS8E4GBD7JkOqknyW\n",
       "+np7axpcQD7NW2cd8/Ld3IGI2XKXGGDuw8rRxVZ6KBBdjal8dp8lMztPxOP11qFAWtTn0J3nXUdk\n",
       "HAyILSbUTrv76e1M6RIIhsyF8908H3q7nyNHHRGsGHdsU1djU3D2MMvQZHgtNdSmQ2KNJWIcbGFL\n",
       "g1dJSj+3L1DeGRAUssbYuopXEKUWWIZP5mWr2Dp2zFzDa09X4/CZ+AGWocnwmtLuma4dtSViHAzI\n",
       "BI3ryU8xfXC1pmli3/LnviOam2UZPpmX8wu6wlcOa1rAJx6YL8hy3y82vXZqm81cvFSMgwGhX5TL\n",
       "0u9MVoVCgfuOaMsvyu2m9D0YrILmC7Lc94tNr3UMtNfMj5eKcTAghX0gCuK/H2u+haF5T+prReEK\n",
       "mi/Ics8KMr2WarTVSqKxVIyDAUnOR4EEiT8C9I+zDPCWE0edQyxDk+W1PW21ckxxiRiHApI5GAUU\n",
       "ci7nnlVZBnjLiaOJBsvYin/Ta/e08wwr1ywV41BAEoejgILLaYi9dZYB3nLiyDxZknvEpOU16cM2\n",
       "GuFuhIvEOBSQ3EIUUMjMLeJR5MiJo7Eay7j0ake10cgDS8Y4FBBFiwIKSf65jd6n3nDkxFG/yjK2\n",
       "nl2g1yIxDgeknxrsqGMaus4Vqcsgf5YuuY9lgKccdWhG7MRSkAoqsyzDOFNcmh+JcTgg3dR4Za2H\n",
       "p8o5kccHjvCPuIsdZBngLWcdmrEJ/D1IBdOHWMZO3eJyu0iMwwGZoKJiHdPQMQBETjhwB2A4BB9i\n",
       "GeApRx2a8SgoBPmgmsmMW1Yj7leIIzEOB4Q+Utg6pqFT5UyEBUfDzb4f9vX31qEZ0gxnOr8Nanba\n",
       "tMiDmKMwDreZpSZW0TENO9FvUVQrKrhKnLGy20O/e4BlPOXQoRlZpO8Z8gxIBtlnV0ZZxk5Zgcdd\n",
       "RmCcHhD6x3usYxogFB4WOK3gdoRss9/pYeSsQzOgtzrKQVbeNZZhenGB5yFHYBwJyOOmCHVMAxwg\n",
       "BJ74m3db5u8YYhlPOevQDNiHFoLsQz9yMAw9Ls47ERhHAtJrlQ3omAZ9gBCbNlbcnvnEPMt4yqFD\n",
       "M/Q+NODMSp5iGceTJW6lIALjSEAK5mhIHdOQKOfE5cgeP9J4yMF4yVGHZpwH3gsyx276e5cFge4J\n",
       "3zgSkJj5BX1MQ9elqjBTFfc4d6ss4yVHHZoRO/G1ADUcHGUZR/Uv8CflQjfOCIgS+i9CJNzHnsES\n",
       "yzSRE0O9RZZxwFmg10I3zgxIrxoyFDrq7iiZYZkmcmLoSQfjdKg4r4VunBmQZClkKHh58XIH00RO\n",
       "aCw8giLSa2EbZwYkHfKeNsVrgWGkyDJN5IT00FWWcZJIr4VsHBWQneFCIeO10JXtYZkmciLoBQfD\n",
       "IYFeC9k4KiDJaqhQeNdzlL3KwTSRC55yO1iGO0II9Fq4xlEB8fkDSEHRNz2vblBZpolc8JQcZxnu\n",
       "TI1Ar4VrHB2Qt0NNFbzn6XJFlmkiFzw94GC4JNBroRpHAvJ/ZyKYM+MGmhYAAAAASUVORK5CYII=\n",
       "\" style=\"display:inline;vertical-align:middle;\" /></a></span><br>"
      ],
      "text/plain": [
       "summation_partition_08: {t in NaturalPos} |- (Sum_{k=0}^{2^{t + 1} - 1} (e^{2 * pi * i * phase * k} * |k〉_{t + 1})) = ((|0〉 otimes (Sum_{k=0}^{2^{t} - 1} (e^{2 * pi * i * phase * k} * |k〉_{t}))) + ((e^{2 * pi * i * phase * 2^{t}} * |1〉) otimes (Sum_{k=0}^{2^{t} - 1} (e^{2 * pi * i * phase * k} * |k〉_{t}))))"
      ]
     },
     "execution_count": 49,
     "metadata": {},
     "output_type": "execute_result"
    }
   ],
   "source": [
    "summation_partition_08 = (\n",
    "    desired_expr.scalar_factorization(idx=0)\n",
    "    .sub_left_side_into(summation_partition_07.inner_expr().rhs.operands[1]))"
   ]
  },
  {
   "cell_type": "markdown",
   "metadata": {},
   "source": [
    "Now as promised we utilize the VecAdd.factorization() method. We need to let it know we're dealing with vectors over the field of Complex numbers and we want to “pull” the factor to the right:"
   ]
  },
  {
   "cell_type": "code",
   "execution_count": 50,
   "metadata": {},
   "outputs": [
    {
     "data": {
      "text/html": [
       "<strong id=\"summation_partition_09\">summation_partition_09:</strong> <span style=\"font-size:20px;\"><a class=\"ProveItLink\" href=\"../../../__pv_it/axioms/71c1fc00120f763c694cd99d32f7a5e7315b9ca50/expr.ipynb\"><img src=\"data:image/png;base64,iVBORw0KGgoAAAANSUhEUgAAADwAAAATBAMAAAA+KHOiAAAAMFBMVEX///8QEBCYmJjMzMwyMjKI\n",
       "iIhERERUVFS6urp2dnZmZmaqqqrc3NwiIiLu7u4AAAAqt126AAAAAXRSTlMAQObYZgAAAAlwSFlz\n",
       "AAAOxAAADsQBlSsOGwAAAOZJREFUKM9jYMANFjDgBQmkS/PdT/Nj4JSXwKWbbUM7A8N7uG6+O6jS\n",
       "7Hc4FRgYGbjS0sTSkhgYuP+hSW9j8GHghevmugARDrt71wEsfSjgCJI07wSwbEscTPeBYtYJcOn2\n",
       "/PQAIMXjBzf8ABtDBkL3frAgywGENPOCt2/hobYEIo1w2gEGbe5EOPcmmDS8CwQJUGn2B4XwUPoB\n",
       "pp4h6+YreAvjcX9geAByP7I0gykbjMflwG0ApFgD4IEK5LKawRUXPAXT3jABlg1w94I8nKQApp9n\n",
       "PADTzP5iQPIJRkx15kICFQUAALDXOQj7yj+HAAAAAElFTkSuQmCC\n",
       "\" style=\"display:inline;vertical-align:middle;\" /></a> <a class=\"ProveItLink\" href=\"../../../__pv_it/_proof__psi_t_var_formula/012297d445be039f023d2e50f7cea4c0b1c9855b0/proof.ipynb\" style=\"text-decoration: none\">&nbsp;&#x22A2;&nbsp;&nbsp;</a><a class=\"ProveItLink\" href=\"../../../__pv_it/_proof__psi_t_var_formula/59569378efb664af5f38ebc7e76396942fe393b90/expr.ipynb\"><img src=\"data:image/png;base64,iVBORw0KGgoAAAANSUhEUgAAAvkAAABMBAMAAAAFCrWkAAAAMFBMVEX////c3Nx2dnZERESIiIgi\n",
       "IiLMzMyYmJju7u4QEBCqqqpUVFRmZma6uroyMjIAAADVePneAAAAAXRSTlMAQObYZgAAAAlwSFlz\n",
       "AAAOxAAADsQBlSsOGwAADllJREFUeNrFnX2MHGUdx5/Zl5m5fS8VBURvbUpiwHJXG3kT04XwIgje\n",
       "SjAUrN4aC0mh6Z4BChdSO5QQclLY5aVQUHMr0QhIvDVVsJp4q6UK8tLDYAz6x61EUhDkrgder0t7\n",
       "4zxvM8/MPM/c3u09Ow+h++s8u8/zfT7zvPyel5kCAMN/QReDsiEwOjMBwg0SBZxoeA0rpOpdLd4Z\n",
       "gbEvhQxfpoBI3WtY4Smjq8XrGQqITOwJGb5UAY/6DKA/2t3ypQ8HRI4MhUxfqoDJnNcAySb+PBU2\n",
       "CdgxnyO5gHsD4n4fdsdDBCgNGYkn+70GKJNh5hY4BFj/37hBcgF7a8Io9XjI8KkArSDF42h5DfA+\n",
       "/ohtrGH6QDb9aFHscDTD9niIgIv/IiX5L3iNhHW39VW/M0AR+OjfIwWG+qEwaixsfxMK2HnGb0Dc\n",
       "GRa/t4zJlwseI1OE0FNFvQkiLx94+RWGvnpRUUoRzxXGvBV2tw8FNMABcL99ZdPFy9nsqx4D3oXs\n",
       "hDKbaAz56n5CDv2x2uJbRZe6fSjgOOgtPaPZ1366nP5sy2OMW96+Ziizyp9zmP6mB2uS6WdFHVpy\n",
       "LmT6SMDtFv1TvyuFPph3G/oHePaFOac8t0oO/eSsIKLSHzJ9IuA09tqy0h8vuQwNN4Hr8Xw30hX6\n",
       "6RlBxI5ayPSxAHWDNPqTeZcRRY3dO8P6zjor5GTRB0cF19cbIdPHAlaiP1XIYO0y089WXUaliOe5\n",
       "K7iDhCT660vcy/r/QoaPBSgNJSer7kdnXcYO2AKUs254oZv0B/Lcy9pMyPSxgJU3bDFk0Y/NuIxx\n",
       "OL/pMc1p3sT4zBkpE25Q5js9ybDXGbCAUdNkrp0wtXo5Xdp5lzEaRimzfM+yZzpk+l0QYBqMEU5X\n",
       "m+FX8koxZPpdEDA1wRiJD8IoZYo/px2z3f1UsOuZ6sAz1d9GH/cbgQKkhYMFxkiFMtBp/Ht+0B6M\n",
       "F9je62j3D09t1A2BAuTNKPoZI9MKZTmF7/BP0SqtNYNvXrOtXE4V/Bpvqt4RJEBeKFcZo2c2FL/a\n",
       "5F4epdOAzcGzrs3tTcpuEVw/DzvctQABEoeWacZgvY+MyYSCVA1mKdAfeDP412+251pvFNTkEZSN\n",
       "vkcoQCaI7Cxj9DI+VsIkMXe+vs+sLpjOtg40DPLAKLRFJIKXOgXRPj0iB4acoHlJKKB9ENqiG0u8\n",
       "xRhjrMRxx/281TUebMf9BdwBc8KD7DdubauK2EuoU7yvJ2j28eDBz46Gm1B8PVCqLhodFHyoojcn\n",
       "FMAFwYPQwyrVrm6j5JkPGWOAlRg3nVM++1lVDZJCSugP97S1JajQAX+cxzdG54Hl4H7djoabUKLC\n",
       "popou4gbPo87/rxQAA9EGxB+1EbJkzOM0cd6uKp5xNHP1AyyzQZ3wESp9zI2/WVJPBAe5B2fi1A/\n",
       "dC+Tiur/nn0iBW5CCXrXCbJdRAvvkjSMq2pVKIAHYmEIynQABFry1EeMMe7CMGA6gpmKczZpWQbK\n",
       "+ERrKIJfO4S/tRUdxrpZudD++hryeRan0yDVto/XKySpsCNMKlE/X5vM7Yi+Mmiahz16iFSH6wQr\n",
       "CR9pUVpCATwQXAgZGKkB9R302f+xvBACLXmEti9orG+w2UdNXqtS7EoCd8D0Fz6B92BgadM55Zdb\n",
       "4V9+dcpIjsn4rt3W5zOczoXc7D5ePtFjpOYdJqlEVv+BNni2hTJn4eAm1K47h/I+PXSzjqEP51dY\n",
       "UhynuVEkgAeCDwHRfw188uOwNiUvePIBIIJASx6hQwo0plyF00eP8TrRvDNN1PM6uGCn9c28Vdqd\n",
       "IAYi1n/W3x+uqa7b/h4sJMfRJ+7KAM+TyJDMtWmSyn/A3Tm/56I5DdwCuhMYsZPyPj10s86hf++r\n",
       "c1RSCre8V0UCeCB4EHZa9K2MCyAP8tZnz+VMZ+uFQEseoxNNaAy6h55Js8brROn9Pweo1t3t3wLg\n",
       "5yGwORcDp1gl3pxTjv0JuDKGrTrCSesQmWbzFhPjZEDCRxvXAK0IIv3gdBr9d8BGo7DSsPIGUbXh\n",
       "1ePdrIN1PzZHJcVw7gM47sJVqw23AB4IHoTNucyQZReUGihYn70vlwIgkJJr1K2GxqibfsTcE+Bj\n",
       "4B0wpf+fdnJJ68Y/jbq8vylsxuk5dpxnwv4A+j2k8D11nEq0Dl37lTT6J4CNRiDwJtTKdN2rx7tZ\n",
       "R+ljSQk8JowhWJsMoF/pFsADwYeAep56DCQg45vTxZwYwn4efY/jPTXvpwKPE+n7NtIdsFThDZu+\n",
       "9mx9C7x/ycL1ETbjCOpZ/uVP6zKymMilT1zhbB6nkrWqdAtkch76OPre3Q26CfV8uurV492so/Sx\n",
       "JBWPt2WITF1r/XHXhEsADwQfAqJ/x03qH9HYpxbzYgiX0ZkccIxRj088Yvo9cXisd+S64TrZAcsY\n",
       "ePxGTekXR7+ERqlcchubcaae+JwBnvATnjQC6BNnJjuEU6lY9I+ARN5LH0bru3/2A7oJ9TY+/8Xq\n",
       "8W7W2fSRJB1nVIEJpSI5oDc+6xLAA8GHgOgnph5Cd28teK4khkBK7qJveujbk2wmrLP+/zVQuPN7\n",
       "3lnfNbBgT588xBt2y1jfJGFz4OswfINgJYXHDuEa0JtHZ8uKHvooOlkEvUabelj6WBKu41n43QvA\n",
       "Z8AuNE47AngggiDwlvN8EEjJ05Q+NHyj7MGjvkK9i33ss3kZ81YKrYzHPlXbmgOpCab3uQcNlr24\n",
       "jZd5pcgSB7zM0Ld64lc89FG01QCiQ23qYemnUP4zThdWB5FvN6zxghXAAxEE4TzQBgRScpUuJULj\n",
       "Ni/ruH9RbyP8qmly92Hirt/r8yTjF1E/pNaBPk0WOciJ3ArWcA+PnHY7aaMTpOfJg7RVS28ijeQx\n",
       "0khQdNkSlF9QD8qxydJX0QCN3cks9LbzaLkt4hLAAxEEYYM/Qz8EUnL9NsrKMkzv+ozi3+h9F45T\n",
       "K1ac1MZCzkaS8beQ82V12QkoJYqaMqJPlgb4df+4u+5bdOBh0yd4db/84xUr2lvlR1Mrmz4eRRj6\n",
       "DaCsKpFFsOxxMYj2IeC5nA8CKbmr7vt6ntgDPPpgMYeL1wC9lYa9ZiannPZmyUW/nHPRd/f7np4n\n",
       "2g+0Oafvcvc8i1t2t+ljD4rp9xvgBHAlpd8Sg+gYAil5MP3JEndV60UDKO1nrM3prRiArnqm5q77\n",
       "ZOQvTwf0+73E59GqcFZqO8z2qItclT3OQtZi6K9kVoqQ83SjmgexiX/46XtAdAyBlFw17ZU8v8ep\n",
       "tvg++t2Pvn51+xknm/qs1ZVa09Ss4aY/DFw+D9fjrBRI070OjJScySKlj6L1a7dfXFgc/QhcHzqd\n",
       "WV9DzlPsr9Yfl+d9HqcXRMcQhoHf5/H5+wWBj35gvtB+xpbnccWXka9ozUn2rzt33bohQv+lNuj3\n",
       "0I5z1+pnmdUie66LolOD/15cz5PcN/8ccV/Jo3Fl4qVbUzfD7+8XlhWCXXIX/UEP/feWvHMCfIur\n",
       "cHnyK7q73z8UQD9OCp/pZ1N5xks/s4RDN3SFGa+Ykq3JMcRcuwRsGnIL4IHoGMIhDn3PFl+0P3CN\n",
       "c3EZR62O+fmIwdKnK31j3DVOMqqlqmwqa72rbKnq0ulHc8zqM3lG4vsXPekRwAPRKQRa8gRd44TG\n",
       "eneiBxwvzhmO1erSMoa7QVu2kX4fn8glZ2nADu76PnGmtTkmFf/urDa3dPp4gyqKVXxRJIAHolMI\n",
       "tOQadWShMe5a39ccL0tjnKHfLi3jS+1SOZ0L8VMGuHtbZE1dbzGpxHzzMr21dPqXMgtJ4IhIABdE\n",
       "hxBoye29Y2i4N1gZL+sp5vL9i8v4EvJpJ53yrYj0cXs4urF3PpNK0v+98xdPP1ZiJeG3JPjfF2EL\n",
       "4IHoEAItub13DA0XBmancxe7t5PIg+UJtu9+sMGroFTYcHAqw53KOBNn1xQK4IHoDIJd8tQxxtjR\n",
       "5Lmbys/dK3zbl4l+ivam63mem0YbZSXYv6h0+kD749iLqQkFcEFsX5aSRz9kjEl2MJl6H4W3rjVN\n",
       "U+5Jdu5x1TR1ByLN4E682Vnmsao9fxIIkAjCPrYMDfYkYYo9vij3PTnc46r2SULwSPCvH+ksc1Lp\n",
       "HxcKkAnCPrYMjexhEEYwueuT9iGaBV5M0eF7K76KW0AzQIC8YB9bhkY8lAfVFP75/UHaoWeCK1ym\n",
       "o/qoYG/y5FyAAHmht8oYySNh0E/Pcy+PU6r61wJ/vkD0AuFu1PHo1wUJkBcmm4wROxYG/Rj/eaUB\n",
       "2w/9tBH4+wWigwPeHOTuSw40pBfdflQZGoJaKDkkW8H1Aiil4M6jtPS8ddy73BcsQFoYrzGG4Bke\n",
       "ySHOX6qphP28bhcEDBqsMcgMPswjEKsulFpK/pJV/HDI9KkAeSD0oy6jj+n/nDVsrZCW+ejqGP/t\n",
       "t5EjIdOnAuSBSHzkMiYZEM4jED0lILMejtf4rtBHIdOnAuSBsEc8bLCvJnAegeg1OFPBZZzqLvJ6\n",
       "18KobBA2bmykmOU0+AjEfvhOoKGyAa6RV0ZVVMcPlkKmTwTIA1Guuwz2LV3OIxBWpg9LdPdF+yP2\n",
       "e7PCCkSAPBADNbfxmONFO49AWA1O4isEMqJdup5qyPSxAIkg3vEYA874Dh+BwA1O7qhbFlXxWNiv\n",
       "R8IC5IFQZzxG1nZ6mEcgYoW0xH8SYVy4UBC204MFyANhv3CUGhF73sk+ArHqCkNaCXUx4z4jZPpI\n",
       "gDwQlbrH0Lv+hp6YuC1Xwh52JQsYyPmMbtc3fBSQf2PCfhWwZAE/9Bnxbte3oNt9Vdgd/1VdubfO\n",
       "TU50eW1LD1rNGcuFTF+qgMqQ13C/jqQLIRm0bJUK+z3YUgXs9RlW19Pdf+fnjcBx5pqQ6csUkN7j\n",
       "NaDn391/4+qbgbFtvnNNXpAoID7hNWB4ravdfvC5gXTYHb9EAfd5jP8D7GUO9jDNV7kAAAAASUVO\n",
       "RK5CYII=\n",
       "\" style=\"display:inline;vertical-align:middle;\" /></a></span><br>"
      ],
      "text/plain": [
       "summation_partition_09: {t in NaturalPos} |- (Sum_{k=0}^{2^{t + 1} - 1} (e^{2 * pi * i * phase * k} * |k〉_{t + 1})) = ((|0〉 + (e^{2 * pi * i * phase * 2^{t}} * |1〉)) otimes (Sum_{k=0}^{2^{t} - 1} (e^{2 * pi * i * phase * k} * |k〉_{t})))"
      ]
     },
     "execution_count": 50,
     "metadata": {},
     "output_type": "execute_result"
    }
   ],
   "source": [
    "temp_factor = summation_partition_08.rhs.operands[0].operands[1]\n",
    "summation_partition_09 = summation_partition_08.inner_expr().rhs.factor(temp_factor, pull='right', field=Complex)"
   ]
  },
  {
   "cell_type": "markdown",
   "metadata": {},
   "source": [
    "Reintroduce the scalar coefficient:"
   ]
  },
  {
   "cell_type": "code",
   "execution_count": 51,
   "metadata": {},
   "outputs": [
    {
     "data": {
      "text/html": [
       "<strong id=\"summation_partition_10\">summation_partition_10:</strong> <span style=\"font-size:20px;\"><a class=\"ProveItLink\" href=\"../../../__pv_it/axioms/71c1fc00120f763c694cd99d32f7a5e7315b9ca50/expr.ipynb\"><img src=\"data:image/png;base64,iVBORw0KGgoAAAANSUhEUgAAADwAAAATBAMAAAA+KHOiAAAAMFBMVEX///8QEBCYmJjMzMwyMjKI\n",
       "iIhERERUVFS6urp2dnZmZmaqqqrc3NwiIiLu7u4AAAAqt126AAAAAXRSTlMAQObYZgAAAAlwSFlz\n",
       "AAAOxAAADsQBlSsOGwAAAOZJREFUKM9jYMANFjDgBQmkS/PdT/Nj4JSXwKWbbUM7A8N7uG6+O6jS\n",
       "7Hc4FRgYGbjS0sTSkhgYuP+hSW9j8GHghevmugARDrt71wEsfSjgCJI07wSwbEscTPeBYtYJcOn2\n",
       "/PQAIMXjBzf8ABtDBkL3frAgywGENPOCt2/hobYEIo1w2gEGbe5EOPcmmDS8CwQJUGn2B4XwUPoB\n",
       "pp4h6+YreAvjcX9geAByP7I0gykbjMflwG0ApFgD4IEK5LKawRUXPAXT3jABlg1w94I8nKQApp9n\n",
       "PADTzP5iQPIJRkx15kICFQUAALDXOQj7yj+HAAAAAElFTkSuQmCC\n",
       "\" style=\"display:inline;vertical-align:middle;\" /></a> <a class=\"ProveItLink\" href=\"../../../__pv_it/_proof__psi_t_var_formula/2c88042e243fd984115a68cba7b60bc5061907fd0/proof.ipynb\" style=\"text-decoration: none\">&nbsp;&#x22A2;&nbsp;&nbsp;</a><a class=\"ProveItLink\" href=\"../../../__pv_it/_proof__psi_t_var_formula/48a957e66888814dd15ecb8584f783ac195b700e0/expr.ipynb\"><img src=\"data:image/png;base64,iVBORw0KGgoAAAANSUhEUgAAA7oAAABMBAMAAACxCdbHAAAAMFBMVEX////c3Nx2dnZERESIiIgi\n",
       "IiLMzMyYmJju7u4QEBCqqqpUVFRmZma6uroyMjIAAADVePneAAAAAXRSTlMAQObYZgAAAAlwSFlz\n",
       "AAAOxAAADsQBlSsOGwAAEo1JREFUeNrNXXuMJEUZr5md6emd93GKgmd2vCAxItziBRCMudWIiKC7\n",
       "Gi8Cnu4GxOSUMGtAHhLYAT3NRWAXBEHB7HiB+CLuGl+gCTsIx/Nkl6gxyB+7iOQAlb07YW9v4a6t\n",
       "51f9qO6p7pne3iJk6qa/6fr176v66vu+qupFiJT/Iq2iKdadkjpP1N7aCJIrz61B8B3gjFCAIKhI\n",
       "8hAqTmvdRFOsW+UEUUkHtvsUWovgI+OMUoAgydQJ8urPGlo30RTrVukdFbU7AqTyd6K1CD4yzkjl\n",
       "Dk9FkmfeoXULTbGuldJ+UZuv+kvtHF2T4KPijFaAIKhI8goLWrcQYhuICSC2/QMxE/JraLnfX+hB\n",
       "FAp8YkXg3BDHzYEgyRSQV9eb74XY5WQWw/9/5byYCelrCh9hxVfGOIxCgU+qAM7LY/FAVzxMAXmv\n",
       "6t2Ci2W2NZl2Udza7RkStVP8PdGFUOCT85gXbOx1v5ziqQjy8nrdn4iZG//YQEPIo93vxGL3jNdg\n",
       "5A34yUzNaYNPtBCcwF73SQOCoCLIKw/p9b4hotTikLmA0nt27/mzTbvGR4dioeR06IgTfiIvIm3w\n",
       "iZYXEbAXB2lAkGTq9HYDw9M9KnOppXxr1DN28/GQNyWsWH6l7fDW7NtJTbsEJ7DXfdKAIMkUJ29G\n",
       "LxIkYrlGain1WJVp90u3NmPWbgU6+hE/Z3EZaYNPslCcwF4MpB3xVBh55v/0AkYmlmaQiq6uE492\n",
       "C0ugnRG1xHh/GPDJFY4zPRQXaUAQVBh5uRWtn3Oxi9kgSK+KdksHIFyvqSXGmmHAJ1c4zosbcZEG\n",
       "BEGFkdejZ9yYmDuDcdFmXKpxaRcdAjPj41ZtaYQAn2BhODl7cZAGBEmmKHnjeo0wsQ1onXJSj0m7\n",
       "W4SZ6VlSW9zXUQjwyRWO08leV0kDgiRTlLwxp9EzfHIUVCx16pcfX03tDgpsmQNqi+v6OhB8goXh\n",
       "dLHXVdKAIMkUJW/GkQ/47tM+RoyK9VrWPsW11EkH4ok46sJpNtROc8GZpAgGn6TLTHE62esuaUCQ\n",
       "ZIqSN+nqBD4ETSbBSgXAWMoJtnffGgYfgDOGAgRBhZDnnrp8CNKd4bpbyjA2F+d05tM1BX51530g\n",
       "CCqEvPz/tAjKJxIxFiEVNau0YlP9YcE/Gdzgkx14Ti/Rj5sbGjhjKEAQVAh5xQNaBBUPJOKNgFrG\n",
       "lPzM1kKCb7P/pqPtOSyYVTp2s/F7dUAQVAh55RUtgsqJ5AMMCHjryoB3sRkS/HXB7V2nhSrVUndF\n",
       "1jWu0cAZhwM64a4Q8nqXtAjqXUokTrRg5lL6JZMj4cAbwZubDL29TzkfX/cMFnA22+OMY2rf564Q\n",
       "8irLWgTZxcqWrQzEitkStFSWAh1FTfDlYAtZ1jOgZ/rMzjspGvNOf5yLNuJe6y5TQJBkCpPXpxdU\n",
       "2MXyFr/B9X99wJpo2+4VHWAeFgMhq5oZUhYKB36qEdia+nLOPfCywbP2U/44p3hvNd95zuSh7pIG\n",
       "BEmmMHlTekGFQ2xGRhhfd7Ceo9443YMgy612ia9rjXVYgloU4mVVV8+/jsKB/0xws+LyDSfcb7fr\n",
       "9hFNLt3sNx+zfYh9VV+cBQtozEHHvRZ1QlrLTZBkCpM3uKBFkEMsa0nf8mG71H1cN0Xf+K5XK2uU\n",
       "En7fjGC2oPLZM0dQKPBG8GICXG6h3f5k7kb35Xwuvp9NvDV/nMNvyB7MnzHf6oi09W6CJFOYvE2u\n",
       "UCO9X3kTh5hhHZQgbT2VbyshexD8wPTZ6uKXhldM7BycFd2o+IbiZml3EN4GPN0PWvVtFLaLHkZ9\n",
       "fm4QubTha7Ib8k8mfjUblRP+OOuW3Nb8EPvgliAsaSMuFw8Ikkxh8macIV7hgSO/VzXgFBu0pE5t\n",
       "u7B7WJ3sQcAfb8WuAxHby6QupfvFL0t9BMRPFD/zUpnlVmqTMBlpVaK54FJ5O/CVUdmqotGKeJSr\n",
       "qHZTw5ZFekuZfJ1DxsujcEnqjY+qU5kWqLH17s+VODOW7H/cApyGIpF2qvjiPBdBkilM3paW1qTt\n",
       "FOuxlFbkGHhofNl8/G1sjZ8ALVVTv7qU/OM3x+6s2oB+83Zpmxy2jOtjk2gnrUom9ryJQoGvV1mr\n",
       "6eMeUjVal1323fj/G68fpTaWavcZ9I6jF+CSQ7skf8GmpCy757YAnFvcz5GaiEbafeKLc1wESaYw\n",
       "eYt62nWKmZNKXv8k0zZmzUQfvgFL1jDQG1AGpfF/+N+3NQ1HN/wPqXi7ismnwEHx7BmVi1nW1K4A\n",
       "P8ZbfQXtqCoaHZNTz3kYayPzdqzdG7B28UMMoBqq4U9XLgprly5MMTe6yPT/dADOnZaL72ItGmng\n",
       "uI83nARJpjB5w3oxnkts3moqJyXeHz+AjFsQ6r8Ekc+9aHs1g47FYLdXU28+ihxAqRV7r/dWeznh\n",
       "IpbJWaooQDM9KsA/yFrNDaF0v2z076IiD62sb2CsqMfAmtheLY/ihxhINdEAeaj1DffYJa5cmtKR\n",
       "YWgHOc0bN37cg7Nkuex2ZS4aaWmhgPKokyDJFCZvUk+7LrG0dWeAz8n2IKT6nwNFFXDn/zlpuv9v\n",
       "KTvQ0rLd77OVh3W026upXQH+LtZqzzTKL8tG7xGVu2SqMUUs4frSNNA3nUH5przk1i5z8vPML5qi\n",
       "M7OBVfutOQ/OTYecQXW9EY00CCu47+2jXb1kk1tsUeHlZMjE8cA2sQehOPAsAM39bvoSQnFh4OK0\n",
       "HWiaWt6y94zf2TxS3QcZFJV2NfM9AvwB1mqlhYwV2Shol17+7u0ttP7LlxDOHylNgHav+apB5x1+\n",
       "ya1d9DxVKBuXdTqsLsL3Nz/kwVm2nCHomSgiac8L1iecBEmmMHmTeicP3WI7Le+YJ+fsdl5w9TTf\n",
       "g1BuMM+XGtlfHqIP2lMtXGEHWp7Ov6+B8t57zTd0tHsQhQJ/kLU6jrV7UDYK2iWXzdt/cheatGhr\n",
       "LzF/lGo3v/g9Og75JY92d1FvgeEZp8213oUds3TDjdOcdBocMh1EIm2XsPXLAdq19LTrFoNspN01\n",
       "xDbityi1rJt5P5EQ8fNjRlVuVZ3FHfP7YL7idmgrLcylrmhql4NnocqJqK9GzwYMubRLLxeGUJ8y\n",
       "H6k+uwfaZU4OG6MV8qyZarpqtsyaB+eU5YjFNqOIpAm3ylhyECQrhDyle6QgyC02e8hDQnma9v/T\n",
       "VL9XrZxgoFPvbF6KLdifbdbZpMtwfWzGqi9DAkXBeUVzWZKDN2zaPUAbdWiXXsYxb4+yv58RrN3i\n",
       "HNh2VKHmFKHjN+D52oOz6HRZ/o0ikkZaJNY5ddhJkGQKk3clq1uKQq0MnyWudJOb9a4O4XDPwD9T\n",
       "ujpZx+/NIxzoE8zkfBU3JJKmXzqTtsu0+x3BtHmlqm9fhcKALx3mlrmGSq/RRhHavXXrD7Zu/Txc\n",
       "ruOfKv1Mz6I8vTlo16BqZJFPhTxGmq0q1Ow4uQfv8Ba2oYik4RZNYtnMw06CJFOYPCs48csDdK9Y\n",
       "yptewGPXWFm37u0ao2kbB/rFPdRM4Tnkl+STun/30rE7ojN225zbdIEXYxezTw5T7VKN3fqP161r\n",
       "6C3KtOzaZbO4TbtFhI46nif5nTj7hlxjNxppuMU86WA8gakeu1Etc+YWlXZRmFXLE5G5Ulpi/t9R\n",
       "XzzeoV2eN/Jo1znvRrPM2D/ILUun02mZB1CYAtplE4tt3i2iVC0zx7XrwHl21W2ZI5FWrqbe/U+s\n",
       "ZmN/DNqdH1Fm4Z9ooJQ+0NyyuZJhsdsrzrHLfeb6PtAu6njeTXGfOTdBskoQMIJXRS4X75SJ+jDa\n",
       "XS+dcpavNpoXIvTJUtODs+R0R8n7LSKRhlssN6XPDARJpuruiIhuGaohd0rGGxEZCmJJ5LXjjr9+\n",
       "Vh9oYcFcSrO8y7JTu1cjtc8cFBG1A2++xk3bBWjniEz2CO3Sy+b51545EE67dGHqvbb1A7aY8EmM\n",
       "JLPLi7Pe9AT2kUjDLVYacklK7TM71UZ9cEyScW8b7e5UUEB70e4jA/pAsVN47sdpOFHC42nz5u9t\n",
       "Po1r96kI2m0L/m6u3RuP+50tUQvxLr1cHP5XOMvMFqboXMpffcLewNJDshn3e3CatykC+yik4RZp\n",
       "4oPvCFFrd9ihNrplqOVx15BLjGf/3eVHoeYsWMwi6x2Z6W87xu5eHe1mndptC/4Fe6v3ebT7Agpd\n",
       "xAogW3HKMyPJN/BcPmKc5cVZdq0i9M5FI420eI45AnlmtXYXHb0mi3wIcorRxEXAGlFI7Z5MMnDv\n",
       "sWtXrBFNiTWivHKNyOmOtAX/hL3Vkz2rCE9E124Pnav54Wu+Rmje84mGF+dm5LdGFI400uIjJBXG\n",
       "14iAIMkUJm+L4+43I/S+Pdv2zHkIcoqh3fKybRrZHg0o2dJhPDbCtXvU4nGwNxiNieghp1zfdUaJ\n",
       "bcGPNWSr5oLndmONyNplGyx6GOoPBuAs2l42whyYiWikkRYvIYHvNS6CJFOYvBmHpaBbhlTd3ymW\n",
       "k+FQzqbdQjMS0AxYfbAIWe63wnaujHJvhnN9ty348aZsNePNSI03I2v3LOksC89ZjfNq6ZB/g338\n",
       "IZp2zxJffNpFkGQKkyd2Lm14muzloFuGiGNytmvNdXbaJxz6mT2bshAK6MfEw8M3LXdWF7ZzpVXn\n",
       "mGALkSb4npZstaAwBa3Q2s1wIlgD7C2Npf2+OO3hUH7CPuxDkzbtykUDQZIpTB7nD0d/m+bcHNuK\n",
       "Y9ecbefQjY7hswt1p0AsOiuwFFXbMMSD6ILPBVvB3ESHsE9iqBb8cNre74dM8Wj5WkdtrncTJJnC\n",
       "LYwxLIUq6hUPp2pubEEVDqV+4VwqynXpFHRRmNYtoqUeVT4nx42QLngzOHNpdvpCuh8yL7jph9MW\n",
       "Dh07A0tF13bU5uNugiRTmLx5RkvvMirsRxVbGt55RmHe3q8XX6XlxfOxWLwnU+F4lfKUWom7h9rg\n",
       "T9IZe5ELX0c/2xcnKh9hzG2dtKwunykGgiRTmDx+CqMwZHs7lKLYT5oU7Wsxo7FqF45XKU+piRMc\n",
       "2uB7RwJba3O5XeGD9oe+ONGsjbiD3WUKCJJMYfIq4ANkOQf/OFdhXyv7URLF8ZoAxeVqOPC5YLcv\n",
       "t9AR2E+xEbwQhDO2AgQ53kaRhclGvEtxwlScpswm8pLUFETmfUqPZ3guJPi9we3t7QgsCxOPqQbh\n",
       "jK0AQVAh5BXAQnyef1ZVAXbhYBLaLUHsNq8cVjOjIcHvCB5EOzoZYzuoYTYvCMQZWwGCoELIy4An\n",
       "DTFPj6KnZd5MQruuly95ymArJPjUS8HD76UOwLLNM8p9O4Ot2KkCghzv+ILhId8I8GjgKFrNUgD/\n",
       "b6YZ2GG1wR8d3ODR0bGarFvdFIgzvgIEQYWQJ15egINq/pq7dGNAgd1KQrtZ8BCGG6rr4i0CaxK8\n",
       "AmeMBQiCCiVvmM01FyLEz0UsKmPYYduUZDstvPEjsbIiJlFTfVI9y53hMOAT6aUcZ04u0qePq3Wz\n",
       "BSBIMkXJ20QnitS2PXsCExObbPOJXJPMDZTifBXTlMim5t9QXk8zdykU+CRKWrh1cgX8cvSXbrYA\n",
       "BEmmKHnzlMEsjq8DJ4d52zJCnz3+jzMQdswhqgmVPUoo8In4/pzylLTQ30eVbhoUIMjlqmi+w9Au\n",
       "Jk8L9zUUqZkupqpUrSsF9MEnUjjOXP9buD1OLSvy0R0UeEL5qLTNot6bqOxi5LTww+QV0qP1Bvpc\n",
       "fJwYYGXqPoNvdiQ0+EQKx1n48E9vKRLiTjOWUbab0wUQBBVGXknvmKRdTJ4Wxtq9LcZwF6zMoE8/\n",
       "n6+FBp9I4Th7PyHed4G12zvQzXC36a5w8n6g93spZjstjC1zjK8YLEPe6WU/gzQRFnwyhePs2yNs\n",
       "DbbMlW5a5pc9FU7eoF4SVIrR08LMMsfrVdXFyDT8xl5GM/09mPDrtznOy0pDVWaZu+xVAUGSKU5e\n",
       "Rc+hlGK208KZgVKM7ij8FSH/Pzv0BgoJPqHCcP7GGBId9qPouW66zMsepjh5ab0/+CHF7KeFN57b\n",
       "iI0RE1Q37qucTY2Q4BMqDOfJ6PcjkM14vJtpn2l3RZBn6rkc5qp7Jhkw+oO+Rmy8tkbBR8MZ2amq\n",
       "uitA3qBe/x9srDIjvS1Ru9u/B2gOylUHHxFnxHK3pwLkZfX6Vba2yoyARoKo+Qxam+Aj4uyw70im\n",
       "gLy8ntubX+XNNyasuY8HxP1T1TUJPirOiHZ/1F2R5Dnf0+pfHl5dPhR/w11Riv1rEnxknJHKrz0V\n",
       "SZ5uTiy7uistzwrbUgp8ob1mJjSb8DJRnBlbIEgy9az0MzT/HoCmWLfKF0AxgamI7Y21CD4yzigF\n",
       "CJJMfcF2+Rm9uzyzmmyYgPSm4I5bXYPgO8AZodzkqXDy/g97cOYPaAPF6wAAAABJRU5ErkJggg==\n",
       "\" style=\"display:inline;vertical-align:middle;\" /></a></span><br>"
      ],
      "text/plain": [
       "summation_partition_10: {t in NaturalPos} |- ((1 / 2^{(t + 1) / 2}) * (Sum_{k=0}^{2^{t + 1} - 1} (e^{2 * pi * i * phase * k} * |k〉_{t + 1}))) = ((1 / 2^{(t + 1) / 2}) * ((|0〉 + (e^{2 * pi * i * phase * 2^{t}} * |1〉)) otimes (Sum_{k=0}^{2^{t} - 1} (e^{2 * pi * i * phase * k} * |k〉_{t}))))"
      ]
     },
     "execution_count": 51,
     "metadata": {},
     "output_type": "execute_result"
    }
   ],
   "source": [
    "summation_partition_10 = inductive_step.instance_expr.rhs.inner_expr().scaled.substitution(summation_partition_09)"
   ]
  },
  {
   "cell_type": "markdown",
   "metadata": {},
   "source": [
    "Manipulate our scalar coefficient in preparation for distribution a portion of it across the tensor product:"
   ]
  },
  {
   "cell_type": "code",
   "execution_count": 52,
   "metadata": {},
   "outputs": [
    {
     "data": {
      "text/html": [
       "<a class=\"ProveItLink\" href=\"../../../__pv_it/_proof__psi_t_var_formula/b725c720a054b6d6127586d7c25d3eeca8e4857b0/expr.ipynb\"><img src=\"data:image/png;base64,iVBORw0KGgoAAAANSUhEUgAAACgAAAAvBAMAAABj1ZXmAAAAMFBMVEX///+qqqq6urpERESYmJgQ\n",
       "EBDc3Nx2dnaIiIgyMjJmZmZUVFTu7u4iIiLMzMwAAAAz/ewvAAAAAXRSTlMAQObYZgAAAAlwSFlz\n",
       "AAAOxAAADsQBlSsOGwAAANRJREFUKM9jYIABvjsMGOD0yj+Yggwcw06Q/RumGPfWn1sYhhr4jwVQ\n",
       "yWi2BUCiAIiTDyAEWRqABFCCTxZJsHchRJCBF0mQlwGL4EkGhqpVt1YpoAhKsWBRmeUGtai1EMxd\n",
       "aQeTWQB3oAFDvQKUXQCPxQQG1gAGfqTg+MDAwPqHgRsjxrkvMHD/gzAVuxSQHP4BQgfwfEAIvm+A\n",
       "0Al8AQjB2zAGM0I7lwGMtQ6h0Bue7g40wJiMBQxpENb8/xdggs8ZGHow4uHWqlUX0AV5gR6bgCYG\n",
       "AL2pXVIgGVzvAAAAAElFTkSuQmCC\n",
       "\" style=\"display:inline;vertical-align:middle;\" /></a>"
      ],
      "text/plain": [
       "1 / 2^{(t + 1) / 2}"
      ]
     },
     "execution_count": 52,
     "metadata": {},
     "output_type": "execute_result"
    }
   ],
   "source": [
    "# recall\n",
    "scalar_coeff"
   ]
  },
  {
   "cell_type": "code",
   "execution_count": 53,
   "metadata": {},
   "outputs": [
    {
     "data": {
      "text/html": [
       "<strong id=\"scalar_coeff_02\">scalar_coeff_02:</strong> <span style=\"font-size:20px;\"><a class=\"ProveItLink\" href=\"../../../__pv_it/axioms/71c1fc00120f763c694cd99d32f7a5e7315b9ca50/expr.ipynb\"><img src=\"data:image/png;base64,iVBORw0KGgoAAAANSUhEUgAAADwAAAATBAMAAAA+KHOiAAAAMFBMVEX///8QEBCYmJjMzMwyMjKI\n",
       "iIhERERUVFS6urp2dnZmZmaqqqrc3NwiIiLu7u4AAAAqt126AAAAAXRSTlMAQObYZgAAAAlwSFlz\n",
       "AAAOxAAADsQBlSsOGwAAAOZJREFUKM9jYMANFjDgBQmkS/PdT/Nj4JSXwKWbbUM7A8N7uG6+O6jS\n",
       "7Hc4FRgYGbjS0sTSkhgYuP+hSW9j8GHghevmugARDrt71wEsfSjgCJI07wSwbEscTPeBYtYJcOn2\n",
       "/PQAIMXjBzf8ABtDBkL3frAgywGENPOCt2/hobYEIo1w2gEGbe5EOPcmmDS8CwQJUGn2B4XwUPoB\n",
       "pp4h6+YreAvjcX9geAByP7I0gykbjMflwG0ApFgD4IEK5LKawRUXPAXT3jABlg1w94I8nKQApp9n\n",
       "PADTzP5iQPIJRkx15kICFQUAALDXOQj7yj+HAAAAAElFTkSuQmCC\n",
       "\" style=\"display:inline;vertical-align:middle;\" /></a> <a class=\"ProveItLink\" href=\"../../../__pv_it/_proof__psi_t_var_formula/19e95653d76249d6120855d259820aa8fd9ae6d50/proof.ipynb\" style=\"text-decoration: none\">&nbsp;&#x22A2;&nbsp;&nbsp;</a><a class=\"ProveItLink\" href=\"../../../__pv_it/_proof__psi_t_var_formula/180cb5332cac1c47161a961bc61be3623248907f0/expr.ipynb\"><img src=\"data:image/png;base64,iVBORw0KGgoAAAANSUhEUgAAAHoAAAAvBAMAAADeNMOTAAAAMFBMVEX///+qqqq6urpERESYmJgQ\n",
       "EBDc3Nx2dnaIiIgyMjJmZmZUVFTu7u4iIiLMzMwAAAAz/ewvAAAAAXRSTlMAQObYZgAAAAlwSFlz\n",
       "AAAOxAAADsQBlSsOGwAAAcJJREFUSMdjYIABvjsMxIC3B7CJnl75hwi9PLvmY9XNwPGHKLv7R3WP\n",
       "6qZUN/s3onTXJ2AT5d76cwsRmnfHz3ZgGAWDEXDdBYMNtLTjPxaArob/Pw4whP0NBWwLgEQBECcf\n",
       "wK0oC1mDDRKHpQFIAE3gk8Wj2wOJ/RC54updCNHNwItbN8ctASQesm5eBsK6GS5AwhNT90kGhqpV\n",
       "t1Yp4NPNMwFMMWPqlmLBZzfbqskPGBgYFzjg0J3lBg211kIsupMZ2D8BzViSgND9IhwcCFkr7WCK\n",
       "FuBy8zYGhlA4hxnZUQYM9QpQdgEu3fEHGPYngLMEw2JjU2NjB3DS/wAsSxMYWANQ8sEHTN17GRj2\n",
       "P8BmN+sfBm5iSvL7DAxMEosQuhW7QC7mvsDA/Y8BSQA74PsBtIjhPEJ3AA/UjbxQGi6ABfACMxsb\n",
       "w1OE7gS+AIjM+wYGVAEsYDGYNEJKa8xQh96GhwdOl7OA8znXAyShddBywABNAAsQZ2ADppQaDqRK\n",
       "8wDExd7oAljCrICB4wAD5/+/CKH5/8F5hrGAIQ1FAAvIXbVqLXaZ5wwMPQQj+///n9iLpFurVl0g\n",
       "u0DjBabNCeRqBgAdCc0CPSFKQQAAAABJRU5ErkJggg==\n",
       "\" style=\"display:inline;vertical-align:middle;\" /></a></span><br>"
      ],
      "text/plain": [
       "scalar_coeff_02: {t in NaturalPos} |- (1 / 2^{(t + 1) / 2}) = (1 / 2^{(t / 2) + (1 / 2)})"
      ]
     },
     "execution_count": 53,
     "metadata": {},
     "output_type": "execute_result"
    }
   ],
   "source": [
    "scalar_coeff_02 = scalar_coeff.inner_expr().denominator.exponent.distribution()"
   ]
  },
  {
   "cell_type": "code",
   "execution_count": 54,
   "metadata": {},
   "outputs": [
    {
     "data": {
      "text/html": [
       "<strong id=\"scalar_coeff_03\">scalar_coeff_03:</strong> <span style=\"font-size:20px;\"><a class=\"ProveItLink\" href=\"../../../__pv_it/axioms/71c1fc00120f763c694cd99d32f7a5e7315b9ca50/expr.ipynb\"><img src=\"data:image/png;base64,iVBORw0KGgoAAAANSUhEUgAAADwAAAATBAMAAAA+KHOiAAAAMFBMVEX///8QEBCYmJjMzMwyMjKI\n",
       "iIhERERUVFS6urp2dnZmZmaqqqrc3NwiIiLu7u4AAAAqt126AAAAAXRSTlMAQObYZgAAAAlwSFlz\n",
       "AAAOxAAADsQBlSsOGwAAAOZJREFUKM9jYMANFjDgBQmkS/PdT/Nj4JSXwKWbbUM7A8N7uG6+O6jS\n",
       "7Hc4FRgYGbjS0sTSkhgYuP+hSW9j8GHghevmugARDrt71wEsfSjgCJI07wSwbEscTPeBYtYJcOn2\n",
       "/PQAIMXjBzf8ABtDBkL3frAgywGENPOCt2/hobYEIo1w2gEGbe5EOPcmmDS8CwQJUGn2B4XwUPoB\n",
       "pp4h6+YreAvjcX9geAByP7I0gykbjMflwG0ApFgD4IEK5LKawRUXPAXT3jABlg1w94I8nKQApp9n\n",
       "PADTzP5iQPIJRkx15kICFQUAALDXOQj7yj+HAAAAAElFTkSuQmCC\n",
       "\" style=\"display:inline;vertical-align:middle;\" /></a> <a class=\"ProveItLink\" href=\"../../../__pv_it/_proof__psi_t_var_formula/1b3cb0ba81e8506315e04169182aff2bed80bb930/proof.ipynb\" style=\"text-decoration: none\">&nbsp;&#x22A2;&nbsp;&nbsp;</a><a class=\"ProveItLink\" href=\"../../../__pv_it/_proof__psi_t_var_formula/355d61a4ec4d8fa3bbe8d85a8dc7c107eea8efb60/expr.ipynb\"><img src=\"data:image/png;base64,iVBORw0KGgoAAAANSUhEUgAAAIwAAAAwBAMAAAAx5o8DAAAAMFBMVEX///+qqqq6urpERESYmJgQ\n",
       "EBDc3Nx2dnaIiIgyMjJmZmZUVFTu7u4iIiLMzMwAAAAz/ewvAAAAAXRSTlMAQObYZgAAAAlwSFlz\n",
       "AAAOxAAADsQBlSsOGwAAAfhJREFUSMdjYIABvjsMxAI8Sk+v/EOsKXiVchBtDF6lo8aMGjOAxrB/\n",
       "I9oYPEq5t/7cQqQpJCgdBUMHrL0LArfpa+l/LABdDf9/QmAIh00WQRVsC4BEARAnH8CtyIOgMSwN\n",
       "QAJoFJ8sbmM4bglg1sP1KEHcuxBiDAMvHtdcwBRifoDC5WUgbAzPBEyxx6jckwwMVaturVLAZwzj\n",
       "AgcMsU2oXCkWfK5hWzUZ6Hi2JQkYEhOgcrC4dIMGcWshFmOSGdg/YXUglwJMLmulHUxwAS7vbGNg\n",
       "CMUqcRImx2bAUK8AFSzAZUz8AYb9CQxYMs9CmBx3AgNrAErm+4BpzF4Ghv0PsMXdBZgc6x8GbmJq\n",
       "qPsMDEwSi9ArLAeYHPcFBu5/EEHFLgXcrcYfDAysDOeRRIRgqQ0sB+JAvRHA8wGnMbwbgMHI8BQp\n",
       "Z0QCiQ64HBC8b4DIJPAF4DRmMZg0ApPnQan5Tf0DWO6AyDHAyxRmnJ5iAVvIBQlmXnDCOL8Bkp+h\n",
       "cgxcBjDF63A6RpyBDZiCaziQU943aIqHyDF4w8P9QAOuAC5g4DjAwPn/L3I++AU0AC7HwFjAkAaR\n",
       "mP//Ag5jcletWoshaH9gDpLccwaGHoKJ5v//nxiC+o0LEHJst1atukBWycwZiZTheYHJfwJZxjD+\n",
       "pk5FMQ3BBAAHyO/fjc4PpAAAAABJRU5ErkJggg==\n",
       "\" style=\"display:inline;vertical-align:middle;\" /></a></span><br>"
      ],
      "text/plain": [
       "scalar_coeff_03: {t in NaturalPos} |- (1 / 2^{(t + 1) / 2}) = (1 / (2^{t / 2} * sqrt(2)))"
      ]
     },
     "execution_count": 54,
     "metadata": {},
     "output_type": "execute_result"
    }
   ],
   "source": [
    "scalar_coeff_03 = scalar_coeff_02.inner_expr().rhs.denominator.exponent_separate()"
   ]
  },
  {
   "cell_type": "code",
   "execution_count": 55,
   "metadata": {},
   "outputs": [
    {
     "data": {
      "text/html": [
       "<strong id=\"scalar_coeff_04\">scalar_coeff_04:</strong> <span style=\"font-size:20px;\"><a class=\"ProveItLink\" href=\"../../../__pv_it/axioms/71c1fc00120f763c694cd99d32f7a5e7315b9ca50/expr.ipynb\"><img src=\"data:image/png;base64,iVBORw0KGgoAAAANSUhEUgAAADwAAAATBAMAAAA+KHOiAAAAMFBMVEX///8QEBCYmJjMzMwyMjKI\n",
       "iIhERERUVFS6urp2dnZmZmaqqqrc3NwiIiLu7u4AAAAqt126AAAAAXRSTlMAQObYZgAAAAlwSFlz\n",
       "AAAOxAAADsQBlSsOGwAAAOZJREFUKM9jYMANFjDgBQmkS/PdT/Nj4JSXwKWbbUM7A8N7uG6+O6jS\n",
       "7Hc4FRgYGbjS0sTSkhgYuP+hSW9j8GHghevmugARDrt71wEsfSjgCJI07wSwbEscTPeBYtYJcOn2\n",
       "/PQAIMXjBzf8ABtDBkL3frAgywGENPOCt2/hobYEIo1w2gEGbe5EOPcmmDS8CwQJUGn2B4XwUPoB\n",
       "pp4h6+YreAvjcX9geAByP7I0gykbjMflwG0ApFgD4IEK5LKawRUXPAXT3jABlg1w94I8nKQApp9n\n",
       "PADTzP5iQPIJRkx15kICFQUAALDXOQj7yj+HAAAAAElFTkSuQmCC\n",
       "\" style=\"display:inline;vertical-align:middle;\" /></a> <a class=\"ProveItLink\" href=\"../../../__pv_it/_proof__psi_t_var_formula/ab90b682323ad9c2efc8d450ea10704eaa79b7890/proof.ipynb\" style=\"text-decoration: none\">&nbsp;&#x22A2;&nbsp;&nbsp;</a><a class=\"ProveItLink\" href=\"../../../__pv_it/_proof__psi_t_var_formula/8090d9e63214bf8043972464657e38a524c5d3f20/expr.ipynb\"><img src=\"data:image/png;base64,iVBORw0KGgoAAAANSUhEUgAAAKwAAAAyBAMAAAAzcy3YAAAAMFBMVEX///+qqqq6urpERESYmJgQ\n",
       "EBDc3Nx2dnaIiIgyMjJmZmZUVFTu7u4iIiLMzMwAAAAz/ewvAAAAAXRSTlMAQObYZgAAAAlwSFlz\n",
       "AAAOxAAADsQBlSsOGwAAAydJREFUWMOVmM1rE0EUwF++Nh+bTYsXxUvjX5Di1a9cFMVDc9FSFLog\n",
       "eAiIuSsk4kXEkojgQYXGqgcXqkHUgyLJ1VNy6SVaGhFRQUmrEtMajbszu8lsdmf3zUCT3XmP39vM\n",
       "+9wCYFeog1JLHgSh9Ryp973hdTu55IKPorUdaLHP/mrZG3vCW5HZvmQTlD2x0mk/xdG2ksVjlRIa\n",
       "GziLxx4FNBbu4LHzAtiMisXGBgLYeA2LVWoC2MAAi+12BLDJPhb7AgSwcAiLPSOEnVNx2NQvIWyT\n",
       "SYii6hEIPfBVZLYjYwe/Xryb5RfFHPgpstuhFq7YRWaFamh0E6fXrAphwz9wet2SEDbVx+nNTAth\n",
       "kzs4vbmOEBb+4NTKqhj2J1eSWCeLRmCxIYZdwKk9FcSuw9BlOdTq5HPKpmTEZnJ7cp9G7BrOep0n\n",
       "aLtvr+HOVvwQUKuIigSp6nBZ3khlQ+Q6QpVtcZsqunsgXHKU5+PG79b/Prz3TwfekLd037qysizW\n",
       "nqZYcMXOpNm7j7w+Okre39ZVC7ywXVuFfcbBvnWUmmQFotqqtsLBTrGFUaqApN1yOYi9Yaujb1kX\n",
       "1azX0yoVNvTScA6ibEk1reSPMT0q//iwLnioUuyXebcaKOfsv/UlwClmZ8IKyJsgzULRdEiCX+7Z\n",
       "OUX392ID6kwoUyvjoNN7lKxCxHyWKL/cbzE1WvfuGz2fmcOdsAIXSxAZgNwDz0JjHz+iNCo2GOmE\n",
       "FWP8kFsg//PNy0f0a9coOifblW4luGdlbMZQNPvvvutpHjZDJDEj1685RkjTSgSa5l3f1ldzSW5/\n",
       "V0jgfit2aOIAPHAOqhJ8sjn4nSlTUzmfUGjWzHoStj+saWU/OwwnRiNLKO0z5Cd6oJDSuxsk1vXU\n",
       "SqLDDvknR9InHi2d0KQdHWgcZQFibGWnVi7H6N0BkrcFOG+GToM/vMTpS+SRxj3j64KmrbIOI1bi\n",
       "w7/kLkgO7DPADSpdHvInvRR93ctcIb7bGA63GaHdimKkv9TWNMzceJU+9IJb+7FbIS+nip5XFQSW\n",
       "vkoH/MegIIY2XjfJ521fva9iXRr7bwri0//bO0pmb0Bw+wAAAABJRU5ErkJggg==\n",
       "\" style=\"display:inline;vertical-align:middle;\" /></a></span><br>"
      ],
      "text/plain": [
       "scalar_coeff_04: {t in NaturalPos} |- (1 / 2^{(t + 1) / 2}) = ((1 / sqrt(2)) * (1 / 2^{t / 2}))"
      ]
     },
     "execution_count": 55,
     "metadata": {},
     "output_type": "execute_result"
    }
   ],
   "source": [
    "from proveit.numbers import frac\n",
    "scalar_coeff_04 = scalar_coeff_03.inner_expr().rhs.factor(frac(one, Exp(two, frac(one, two))))"
   ]
  },
  {
   "cell_type": "code",
   "execution_count": 56,
   "metadata": {},
   "outputs": [
    {
     "data": {
      "text/html": [
       "<strong id=\"summation_partition_11\">summation_partition_11:</strong> <span style=\"font-size:20px;\"><a class=\"ProveItLink\" href=\"../../../__pv_it/axioms/71c1fc00120f763c694cd99d32f7a5e7315b9ca50/expr.ipynb\"><img src=\"data:image/png;base64,iVBORw0KGgoAAAANSUhEUgAAADwAAAATBAMAAAA+KHOiAAAAMFBMVEX///8QEBCYmJjMzMwyMjKI\n",
       "iIhERERUVFS6urp2dnZmZmaqqqrc3NwiIiLu7u4AAAAqt126AAAAAXRSTlMAQObYZgAAAAlwSFlz\n",
       "AAAOxAAADsQBlSsOGwAAAOZJREFUKM9jYMANFjDgBQmkS/PdT/Nj4JSXwKWbbUM7A8N7uG6+O6jS\n",
       "7Hc4FRgYGbjS0sTSkhgYuP+hSW9j8GHghevmugARDrt71wEsfSjgCJI07wSwbEscTPeBYtYJcOn2\n",
       "/PQAIMXjBzf8ABtDBkL3frAgywGENPOCt2/hobYEIo1w2gEGbe5EOPcmmDS8CwQJUGn2B4XwUPoB\n",
       "pp4h6+YreAvjcX9geAByP7I0gykbjMflwG0ApFgD4IEK5LKawRUXPAXT3jABlg1w94I8nKQApp9n\n",
       "PADTzP5iQPIJRkx15kICFQUAALDXOQj7yj+HAAAAAElFTkSuQmCC\n",
       "\" style=\"display:inline;vertical-align:middle;\" /></a> <a class=\"ProveItLink\" href=\"../../../__pv_it/_proof__psi_t_var_formula/689cd53a2f5b54f96d8d8e3d7036e862ad5ac3740/proof.ipynb\" style=\"text-decoration: none\">&nbsp;&#x22A2;&nbsp;&nbsp;</a><a class=\"ProveItLink\" href=\"../../../__pv_it/_proof__psi_t_var_formula/53b0ae69905f596c45b4d54dd3184840bbca7fc70/expr.ipynb\"><img src=\"data:image/png;base64,iVBORw0KGgoAAAANSUhEUgAAA/cAAABMBAMAAADaTVrXAAAAMFBMVEX////c3Nx2dnZERESIiIgi\n",
       "IiLMzMyYmJju7u4QEBCqqqpUVFRmZma6uroyMjIAAADVePneAAAAAXRSTlMAQObYZgAAAAlwSFlz\n",
       "AAAOxAAADsQBlSsOGwAAFBBJREFUeNrNXXuQHEd579nbx9y+ZcUJJkpuozIpF0acFBXG4VFaOzYP\n",
       "x+Q2FCpso3AbsKkIXN5LAX4U5dwiyqEU27qzwVjGwG1UUAHicEeZQBwet0EIMD77zilSKZM/7uzE\n",
       "ZRs73El2TqezpM1M9/Q33TNfz/buzdyoXdZ9u9v79de/Xz++/rqnlxA7/S/RSprZwknGNVw6vxmU\n",
       "r7gQRmnhaDk3DQD8/IKV8jNaSjSzhZUu5kIisNzHQinssZi5j9IAwM8vWOkbTS0lmtnCSoNjXLo/\n",
       "IFf2cBhlhaPlXDXgfrVAzPu1VGhmCy0VjnNpsazOdXAsjLLC0XKuGgD4+QWSW9JSwbNts8cNe1K+\n",
       "NGJAHoaSd6oz/SiUon4UM/fcAKMdhXLAzy+Qhp6vwbN9wp7+rf8/ek3EgAy1uO+3rsyTPhNGSeFo\n",
       "CcGATDUS33ldKZDf6KlwsiX3tRj5JGryB2pcepPaSV4Ko6RwtIRgwJW/iET9m5RCVq/Z29nM7d9v\n",
       "khrxkf/ZSMBLvwKDjrJDTIeyQpqOe6FnG3Dg4n8hKdfD+psQ1QN+PqFY02ucNZvzfM1cIom5Y3OP\n",
       "C+Snr6hFAskfwxgwqcrybCgFPRsz99SANjlGDsE7118Z5hg6qRIaVe3WU1owVrPtMV/Pz0ZD/jSf\n",
       "9LPrXQeHcIaYuKZ824AzZKj+UAbe+1qYC8l1lTCrt3y3s2WaxqrxszIj//p7WxGTX4LZ5KzKj10L\n",
       "xRtei5l8asCtFvnb/joS8l38PIL5st4qn2VLMJrznpYVDfm5VWh5dTzHxM4wyglHy8YNeJ34Xqjk\n",
       "A34eIbOu9XUn2w1smEhsCvmFExCmqOA5xlthlBOOlg0bkL4mMvIBP48woDfmsWzewM6Hd1upHBX5\n",
       "5BRMAAqPb487ZQ3U9UawSwO1xJOYAVvpv2kb0l0hkw/4eYQJPeJYtm1kC+pQRET+Hk7owCrO5P+5\n",
       "8vc0dd7QDNISS2IGGG2jHFXPB/w8wrg8oqYVoRuazbjkIz/fTPJHuG3JE/hc5L6dq6jZld7225o5\n",
       "ETP5zICtH7mxGRX5gJ9HmJUCHHc+oZgFaLbBTmcF+cx444lqJKg0uLufxt39nBuf4jER8wfLGPnC\n",
       "2xcHaInJ2acGTHU6wnvnLV8Y5lryLC5MedqIgvypOFApgTEdtDsPQlM07nGHC7znw9upMaWWmNIm\n",
       "GAD4SYJ3wlOQH8+8WIQ+ubygdkQoo1Vt8n1b5xO1mMnfBAMAP0nIvqxFfvblOFDJQ+htHp1XpmGB\n",
       "fhvRJp+8pNSSD17z5TewJDSfp38ONQOrEVkC/CQhf0KL/HwsTlEGmtw4is88eHn39kC+92yIq6XL\n",
       "WaoNHbViDifqT89Xoo8k7MSE4roW+cX1OMhPw0K/gS70l1uI1V3JL84otGSWgpvikpbR2xTfZqV+\n",
       "Kqga0SXATxIGV7XIH1yNZQEM/u8E6hNN8ThAaqYH8rNrCi37g4M9+/ViQZ9QvP8Wtr5uBVQjQrdi\n",
       "BRNKa1rki9mKHSFVI7W5w2EprQb6sI16D+Sbryi0PBNszDN6S+p9in58kBZjHlZWI0pcAT9JGFrR\n",
       "Il/Mlu04Cj79y0c6k13LvXkDNo9yIFPYtGPAwPAI6YF8z8Eg0JINDnQrPvZVT+W6OyffH1NWQx/X\n",
       "TM9DBeAnCdM1LfKlbLPuuu+TEikZuo6g533cdK+Y45NaLRo2DZd59iK25Z4FOx7sifzxMqolFex3\n",
       "wcf2kRu8enbNTZVnYLDTyENlZTVQXG8nfkwHRUsz79MAEvCThJElLfKlbKmOO8UeFXM95JSYVy5c\n",
       "B7UOTBncJZ3ltcxhq40khKtO9kT+xBiqpRE8p8PH9pEbFdb5Gj3sgqY/YpN+RVkNDNdsuyumX9YA\n",
       "EvCThGHPGipxHNUiZUt3XLDzQkN2Gr193kdlzZAg82+m1U7TPEcj/yqiLMFXgknR6GH8lL/w9uAM\n",
       "quVhwSjEJjhJbh+5UcysC85hF46987cuxCIyk8pqYLgeIt0wNVYQTOseIAE/SZiV1z25R86i22Ny\n",
       "tpGOW0GhnQ8w2T7vY/0533Jb7GzPsVw30Wc+Pm5cDtl38K/5oUw5vWyYDzgJLLif4xURz/h9f+pF\n",
       "rOuJbw/UUC0nBaMQm4CYWyn5xminc9xTPafmLq3OOHcJa/jUgfGfQwcDMFzfTBBMi/aHGZJ+gf7d\n",
       "+VsVH6aXeIAE/CRhT1vLYZCzDXTQMegCqLT1sfnz32FHPmx0CmXj2zfZL77z2oNlwdDP3OeObNJI\n",
       "6LS1YV5OAgsvD5zmXbm3EFliBdOSPu4Ylbjw3xCb0sLoYh+5uevTYxVf9fhJJ4F8O6zDpsMU07lP\n",
       "WQ0EV2MSw5SS/yT53d+2+0busq/fQ7yYPuQBEvCThGU98uVs5tRpLNOP3WiWWTHJZQesnBULnQMk\n",
       "SRLWf9brz7fSUit9CfePTcfzGOF1T57CIk/ciol2T+RnzmBaMiuOUb8md5T9NmXcFmPxeYA0k6+p\n",
       "+Krn2U+2yKfbpOxEdp4NY08oq4Hgmq/4MT1gkW8VXCUVUrH+Dl5F6j5MUx4gAT9JGNULLXqyLXaw\n",
       "xSzH1LiUpK3GuPNGYv99juwvJ8lrLYT2l43TPyWSoXQMfL1f1XOOX84Rz3Qw/5s7L5oHkIG8VzAt\n",
       "7HG0HSRTI4mdrk3/ScSPadratKpCBtJtb/W8J53snm970AmKVpJVZoR9dvn2C5ueaiC4lhb8mO4v\n",
       "F8csuWq0SNX6OzRX92OaaMlAAn6SMKVHvidbooPEKtJrEODcQj3N/4Lic1Y7/Sadn/7DEA0t0K9s\n",
       "9es6qkP+IEdturf4qHka08LcwB1kYMZe0oNNX/V5ic6Rm62FGW/1vCedOPnM6c4yf2CacnV9k5jv\n",
       "8VQDwRWWGBKmdNifSZKsXe+PF2plH6bg5h8NJF+v03izLSMOWNKelR7Zx8/75KtPAfmZ787caDef\n",
       "XPWGhGhogg7rRb9//m6H1RUILGHk8x483mPQ41VMS6nCjCpZHXrdtYmTzz6+8742P3Lzk8Kkt3re\n",
       "k06cfPI07RzM1WvYjKV3Wf98ZkGuBoKr/eiGH1NK/qc+lqbz7HfStYof06dlIAE/SZjSezbYm+1g\n",
       "xz9i2APjwetum3HO+xSbzNWkA8+3Tr2dejTl3M2iocWZ7BuaJOvXtdjUIZ874CPl3sh/GdNSGmNG\n",
       "WQ5E+qRrE5Bvf2ze9w8P8iM3z7OnVsTqeU86AflH6IBz0o0y5BNlYrYvkquB4Go/vevHlJKfXf4c\n",
       "bTy7yPfqfkyPyEDi5Hf0yPdmg1Ck6LVaQ80/EwONEmGPn+6wgfjmBWOYx+cE6xc5lgXH5vxemtgQ\n",
       "XOKoDTd7I/8r0rTqaGErsR1kqEKdgpqHfPpxrkaGmprVE8ln/hfr4SU772XkD8hd1EUUqoHgupuo\n",
       "McV2kADTlAwkx08WOnrTpS/b/CkfCPZW6UlYmXoaRgs1dPr3WjdZvfZxYehnTygOsRGxsQbxDwTz\n",
       "El8yz/dI/l5MS0Mg/wS1SSKffmx1/4ExzeqJ5OdpdU6488cMSfxl2/IVpGoguL5I1Ji+hQRgapf4\n",
       "tAsk4CcJtzC5gyQ6Rjk+7i1eeFP+fSdrHZu2voYe+0hJ3zfPOoY+yiaBj1kFscApf0Jxgtn8WY60\n",
       "eQvW327lISgGomT9CpRT8rxLyLVEqBvXsrjgDPsVUniF2kTIsb17H9i79wPwccNSUelaPVAO5Kfp\n",
       "UMX8zJJdywrd4UnI1UBw3UfUmF7jL9DF1CrRXHGBBPwkoRMcbHcCE/5shj/qYvX89PqWLa/R6Hr7\n",
       "HEM/yJYp1gT1LfsvdVHpmWUngNql55+RyFeV40/XinXjWnjPt8ixH2M8gvX8xt9v2aI3ylDlQD7z\n",
       "IATy28TYXnf2XUpn1Li+SHQxZbUBTK0Ss0sukHjP73fYT96DkU96ed51BzHXC6vMNT3vg38okd8o\n",
       "4+TLc34kw77lumTWXHdZHvZ7CygA+WxSE+b8NjmPvIeTv67G9UXSJ6bFsvG6Z+oAZLjkL/pXV/ZF\n",
       "L482iaFvaGbNXE+yRemv5Z7vOKmNFSCfBMz5w1re/jaFw+doGXK8/cykHYuDhTI4fNRJP+zunfRC\n",
       "/lZhd4AuGz6arpDkwq/85HtwtXeT+sLUKrHYcoEE/CRBXsMZznzkPDemXuqlkcMVSWuBecf9v3yf\n",
       "vqG5JXM1wcJRazL5zmlcn7evWOpprfNd7/hBTMtE1Rk3ryMH626IjJNPPzavvf3Kam/k023S1wtb\n",
       "OnTZkPx365+rKr6lnhdXe5neF6ZWiaWmCyTu7cusZtiQRNJf60L+QQQCGlo6draqb6jlJF/9LroQ\n",
       "Kljdbffuz+1+s0P+Yz2RLwd50sPgr0pt0z1fdRrTMsgnzbsu/K4bHHcjfPTj/Oj/9Dbss21Sum50\n",
       "bl1qOKtzQu5s+tf5VSTe0Q+mVolPCUDi5I9KrNILgdqI+zrqIf8lrOQv9zbz8u1HewsqOfO3Us9/\n",
       "Tof8FEdNvlNnQDEOQDTBPIFpKe4UjXrIS36xj8P1fEuX7RE658CmKbSZd5DrxzzVQHAdXOgPU7vE\n",
       "PzXrACRO/rLUqFJEQb6cjcZz/OnHfZK/y45bXiSSzzejpvmuXhbd1eOuUENqmh9WRPSX8I0driU/\n",
       "KRq1i3/MN3byk/2TP0D9BGe717mC4e+u+Lq3Ggiu+Up/mNol/iTRBCABP0nYI2k/RMgb5vbNLfjI\n",
       "l7ORY+7Hgie4vz9DbVbSP6s75NMnFJ1D7mSc99YMup/Pe3CpLb79Q7w493yVfMUP15JZE4zyn8TL\n",
       "rPVPPjuOM8Aq9VZlNRBc05P9YWqXeOPNLpCAnyTMSrjRC4Gwni9ny7jrkYxAfq7Vl6FJ6LfQ7lOO\n",
       "Sw1HB5PoSR4+d6dEqgzLVZ/7b3HoZy/d81XSqS/QYq4LRiV9cTxzvX/y3ylsHpCTympguP5rf+S/\n",
       "0wMk4CcJ/JTctifskz/0QiDb4Xu3Z499fkaxzvsGOrBqpXfwysM7ba9jDkcHE9izgnAeLSf2j/yC\n",
       "tc5JiIETz0uSW0G1vE0wKucv7W29k590cGLgscfECseV1cBwPUT6wnTGAyTgJwkOvNaydnjBS4GQ\n",
       "pAOcwjG0uyTH+QgJJ8Eie57bkseODkFFpCHZguvbhDwgvON56Tn1BVpuCzbqto3W6o2suCVlNTBc\n",
       "s5VQgAT8JGGc2ZIrk0HefbDixpewdZ7xj/ImVCakmyzzfNLZw0sawMJcmbPY6thasEw1yawQi2Ev\n",
       "3eXfUBXVMhFs/cRGK/dF1vJaymqguN4eCpCAnyQsMsoH10juOLIFAgOSOLAu/4amZ6+1skX7aDk8\n",
       "wog+KFo4hURtzJq9CSpd3uZ56XloA7QkgmetxNLG6pKchLCNohoR4gr4SYLzHFauJtx6hyTxca28\n",
       "uHkW7UX18Agj+qCo+7jWowJHzKJRT5zCwvirj7uNAdXyhWBjvrCxujhd/ovKakSJK+AnCSXwP1IO\n",
       "v7+6GhnfSsdJHAn28kroQguOubPtWPJPPFThvVHVfjnIto2Jb6cEtHS563iDVyH/Gev/SwHViC4B\n",
       "fpKQAj+YH4GdNJHHoVOxXFpkwLg+hK53R3kzZfuZSXvD5gr2hvwsiv3S4HEI74odtBSDu1txQ73R\n",
       "uTXognJANaJLgJ8k5GDZ+QHnbxkLLOROxkF+AVb3i+iEOzsmuft/NVznQdyjckb28u0EaxiuFvPP\n",
       "A63p8nGXdAcd9c3rgqoRXQL8JCEJrj+sfwaQhpg8HQf57vV7I+iKZwRWpexZ2YkZ5zRdRuaXvcw7\n",
       "DoT3WhZXy+83A83p8nFwYiex0ENgI+3IkQT8JAE6l3tfyE8D++Bmphz4+LOtwPZMxikv+eNOaPII\n",
       "kW6zZC8vSrJXb1VqMerBI3e9/6qYrEfdHVyNyBLgJwn85pNshT9vkGhWEds7cZCfgtl5FO107mUt\n",
       "RdqgjdMszmSflBC+wF4WOyysXVhTaokpbYIBgJ8sjLIu8iFC3uWsNtE15qjQk4QbFrZfHikq3Psw\n",
       "T+GNA9YgaeZO7WnSG8/On5sTH6GXX6ZaSi0xJW5AdLgCfh5hmM5Cxr65ucC4wrAwWbmbzJlqIco7\n",
       "5Kb51J19FY+7uG7on7AB9Co6fY52OuI0Jb+8OEBLPIkbEB2ugJ9HWKQApzqdTuDMsyi4UO4NC4N1\n",
       "EmW3gQkqh2+pFdw2wS5eLn6l65K5sBSgJZ7EDYgOV8DPI2he/Cpmc29YGGoiEavw0hRWOprBOQGa\n",
       "7c7jTc0gLfGkqahxBfw8Ql7vhj0xm33DwlH7NwHGGk3y/ugwSQOVDcVvKc+7/vcAFZ/uOvs9H6gl\n",
       "nuQYEB2ugJ9HKOhdrCpmc29YsIz8fITLfBjsR1qKyagSSgSkEjP5jgHR4Qr4eYUH9L7vZhNuWLCG\n",
       "pwjvZS1CqPEF1XA2GUY54WjZsAER4vqCShjRiyy72egNC2x4itbha/AemVaNTslQthyScf/aAjMg\n",
       "OlwBP59QmtFS4GYTblhIVgsz0WECv/in/uG7cBz1uN19ZkB0uAJ+PiGhdyzVzSbesLD96mZkiJjA\n",
       "yYQSieFQih9uxkw+NSA6XAE/n2DqeXzmpt+47x6yVd+8MRGKrxaOlnPXAMAPEfQa2chmdw/2gJSd\n",
       "vqRuIKH8Emoy7t9TjdiAL6mFlF6zS21294DWFgTNe0Mp6r0xkx+tAYCfXyBZPccyu8n7HyaE3CcC\n",
       "DjtMh3IEarocM/mRGgD4+QXfsRdVOrq5eORga+PhgFz5UDZA8nH/lHKkBjysFpBfmlOM+2ObisdT\n",
       "fNQvHA7KFk4Y9P0xkx+lAYCfX7BX/If1QgWHNxWOv4BGFxiF0vzlmy4pHC3npgGAn1+w05N6Wp7c\n",
       "TDRMMPDu4HYdymxZiHvSj9CAu1XC/wOy0mCEXiviEgAAAABJRU5ErkJggg==\n",
       "\" style=\"display:inline;vertical-align:middle;\" /></a></span><br>"
      ],
      "text/plain": [
       "summation_partition_11: {t in NaturalPos} |- ((1 / 2^{(t + 1) / 2}) * (Sum_{k=0}^{2^{t + 1} - 1} (e^{2 * pi * i * phase * k} * |k〉_{t + 1}))) = (((1 / sqrt(2)) * (1 / 2^{t / 2})) * ((|0〉 + (e^{2 * pi * i * phase * 2^{t}} * |1〉)) otimes (Sum_{k=0}^{2^{t} - 1} (e^{2 * pi * i * phase * k} * |k〉_{t}))))"
      ]
     },
     "execution_count": 56,
     "metadata": {},
     "output_type": "execute_result"
    }
   ],
   "source": [
    "summation_partition_11 = summation_partition_10.inner_expr().rhs.scalar.substitute(scalar_coeff_04)"
   ]
  },
  {
   "cell_type": "code",
   "execution_count": 57,
   "metadata": {},
   "outputs": [
    {
     "data": {
      "text/html": [
       "<strong id=\"desired_expr\">desired_expr:</strong> <a class=\"ProveItLink\" href=\"../../../__pv_it/_proof__psi_t_var_formula/6c59c8e4c5382e1a3d7656ffccbbec0cf76691d00/expr.ipynb\"><img src=\"data:image/png;base64,iVBORw0KGgoAAAANSUhEUgAAAlwAAABMBAMAAABKe3QxAAAAMFBMVEX///+6urqqqqpmZmbu7u6I\n",
       "iIgiIiIQEBDc3NwyMjJ2dnaYmJhUVFTMzMxEREQAAAC0ii6rAAAAAXRSTlMAQObYZgAAAAlwSFlz\n",
       "AAAOxAAADsQBlSsOGwAADLBJREFUeNrVXH+MG0cVHttre+312qdKUH5UnAUttOGPc5Q0bWnpLURK\n",
       "SBpqt1JIKC1nEghFVLqjSpuoSTmTlDYpUu4oQaSlIk6VFBqK7kCEKIL0/AclRW05i6gNlSh2W0Qj\n",
       "SprLxeFyl1zM7Mzs7szs7ti+tbnNi3p5t8/Z+eabN2/ee7suAJeD/NCT2YPIX+eVy0BCJS9mT/K8\n",
       "TfG/fErzYvYk0VFe8b1IW7yYvUngPK/4XhLDTZm3d2Twv9gUv0ulqynzoY4MPpTmFb/Lk02Zw+s7\n",
       "Mp9knld8LsEzDc3SwVc0YE3ntuH2ja6e4xWfSyzf0BwCobxkcqSubqcjvGtTfB66cg3NqS55Npgx\n",
       "j/pgO+nqSfOKv2Vca2hWNHlWvrnQEbpSw7zi76zrUjPmOM1QW+lKzPKKr0WZbMb8utYpugIzvJIs\n",
       "+4GX2503XbImPuiRWf4n+uUf70MptJcuMMUrL/vCjVTnoj8rnjs2bwc7OuVd4HSZVRLFBoj/T/JJ\n",
       "x6tjRSGhyCyfenNxx+jqK7LKEcOw6qbafNIVLzmefF1CeMgcrdcnrEvyczO5diYyw4wibzYt4Xml\n",
       "C3zb6eIgEMIb7DiqVI1RIjm/0OXUuJL+K6SLNneqqjjDKIfFywdC4mw25CHZlXajv1YQmmIZh5Lw\n",
       "khBe8FLH6QqdY5SHGtB1i/hut3iBgtMlI4Q7teBCM0J4tLlTid8lWqExONGliHN/pbnSwKV3p+Do\n",
       "/gfy69MOW2FSCC822fkEZ4pWIiUxXSfEJVsDsyFuvbu3ca5JNnSP/WbRWSG8aOcrE6lOK5WymK6n\n",
       "xDd7qqkhXXt3yxFB0kaSc+bczyVneIZ5b92Sdjem6mVKOQbEsVR8WLqYj/IX3BJH8tCLBECHjuXQ\n",
       "hBCeYe4hc5K+d/fglBDx0Zbp6k9TylYxXZGi8FameeXzf6QuP0Q788FXNMktwsk4ug/h5otij/U9\n",
       "eSE8w5yom59TzOkpXcb4LtDA7wT5rHlM781ZinpBTFdFHJtMcwYscXMgEMpTvTtO/o3dCrMuXbCX\n",
       "IMNCeKa5/6I1YJUonzDHd4MfFTw12WUWDkVLCdMLGrevLnpeVCBHA3A263IGDLn0NfRWJ9W7AzL5\n",
       "G38cZ33KAL621favR6pCeKa5UrcW5Ebi1sPm+G6UDNGODthZKoZT9ZYsJTlAdcKOTduaE2i997k2\n",
       "ekx3+C2iS+6v1/U5/VS/NAre0J+Y6q1OpjQkK3oKA0Y7Ryb5wL/sNWFJCM80h+sWlwqBiwkk4z8K\n",
       "D4ECBw28IN9lw2XO0ijoR4YtJVoVJx3nCV3xAzeCYMbZjOVZ+N/SL4wiz9UxBQryS29gIHmeLj0x\n",
       "xVslgu+5ngCyt08y4u6KaT5tK4ceM0eE40uLfxAHNmgvblteoHBJ78JPmrO822ApbylZMRxlgtD1\n",
       "BFhWsJ9vygTdXVkJtPAjRSAVIaaVIAzi8M9KwLU6dViotxDBkQUv3U2kHWOLJXvF+Czz8jr/yc9Y\n",
       "tYNUlMBaCIWH9kBaZZYRlWHGLLMEdp+xAaHS4DkLfqK+Dyh5EK+CZ4zLH2XMODJq4EQBJNUMUDdD\n",
       "TCcKYbAN4oLXSKuThqUH7TjahmFMeB+JQATNXQcPEKz94pPZMgfqfIJvlMZwfAgJVI8DHpp89rMs\n",
       "rpSOyZhljETDMcMnoNLgcVC0hOlKlvQUyzwsrmHMCFNG1t16V6BkeHwC5MDH7a1Oky4ZhYEgjms9\n",
       "OGAQX39NA9IdpEEjposyj0yxh7haMwswfXy5ehXgoSnVD8oMrm6NOhKNE5ama0zcp08VMV0p6DST\n",
       "IFbg6MLmVQ9mwK43j+tDXR8YMDApr5aOO7Q6TbrAHjQp7BMVvGopRLZ6Ev64He/LQbH3U+ZYnU3u\n",
       "wnrEOrbeGD+UuxLw0BK51+MMrp+jG5FZhskm7DHogkpfQUzXKKYLLjvM0IJFni7dLD346a1gsI5K\n",
       "q934PEHHz3VTbwFbq5OiawGVamWx46fQgobiBSBl9mM+xO9VUWZpcMYWR5avO1wi48e0iMZDSxYS\n",
       "RxlcT4MFi81ZBmp2ukbEaSg+5/eBoSJ6SSDP0YXMiTwYcrqL4uwYJl041uMKL4U/G0UOshb8AixF\n",
       "hwSs08R00eaeOrNTkpD6PwHZsUpzgqafjBeC124xZ6mS/KfboAsqvQ2ydoouuHgLObqQGbpY0mlS\n",
       "ybSYrhDabjPUrgYRhLQE4n/LwACD+BDHVtocqm9kejsllBa+B5qEBnEFz1+h7kGz1DekTM6KisE4\n",
       "VMbJsIyg7YEWuruLbMYiCEA/+Lv+25INGzZt2HCfaa7Af+EUkCO2lUD3NOlSUaA6i+nCMT6CwkUR\n",
       "1dw4qvwe3yRFoZsw0ZlmckwyvQiY0anw0479QxaaNE3oCm1B/glnmdUvE7puM3wBKuOuxXOG9i44\n",
       "neAkCTe8d1Wu3bGjua4XuqdJF44RDnRlgHywDGs9tI5dAnSceSjPeZc6uWPHI03gWk/oivwIJRZw\n",
       "ltfpZ9Ss3bua3IwwECg1cpjZNmNrj6lMuvAJxMQuvBkz4HFwh0FX85sRrCnwm/Fca7iy6e4yOrIf\n",
       "/9avrJKFpmtEfDIOkZMR1sAw/5arfKjXzaGNZhHeEl27qKoTn8Ak1P9VhaV/1xVOdG0X0BVgK+kE\n",
       "BHuDBuQWcI1p2XQOzfIJ6mSsGKEeKn3ivAv3N2ERtA4sL5NEnKILmaVv/vpLudboQr2FZ6jimrz5\n",
       "idPe8EfgjzuLTonEIfdEwsjdzLwLbuxlWz7wjRZw/Rlky0U0yxrVJqFPRi5NrZihnqTtGULX0gOv\n",
       "Gkc/ndUjc6j/x605Pe4toI2n4nhK3sclIUxPU1dpDnTZmth03vUAa0LOsWQ61wKut0H4ek2fJUq2\n",
       "ja830HT1sKH0FHePWJVq4JAmAkVXrNp669tolODKn3SvyUONLHYp5R7wGuGhf1TYxKbMtqeU35kb\n",
       "Ln2W4dIXrZqRpqvCwFH56YcGaLpO8iV2aGDudCULVHPnWbbE/vzqq/nOL93xozoSlvl94NaRaJGu\n",
       "k3rFtN/qSPQYk4RKilmTBH9sKzWKLnvHXanNna4VmDTs8f8hgGzn4Gkmo7M1sS1zyHo9J4j/OjE3\n",
       "XPos1ZvL1tPPsbylRBgKdgJ50c/oaCZNUnSFbbm7NDl3ur5CH4mkK2uvYMfJcmJcdBObMQNw2LL8\n",
       "hqx9ek64zFneyz8PgEqC2U4L4ekeZ95jf0f/cQ8Z3z7GO63TFSbLgd2qG83SeNxvT5qNRjmPi++j\n",
       "U1lEcMBtMzSFK8HXlebzgJEqu53gAC8BsIm+yWHxGIeBR3kOryyZ2Xddn13wuPipWN9BkXoNj1vg\n",
       "CZnZ3DPv15sx+k1k/6fBoAbGaYfPir+Q08DcWO7HCQmerGzPwscIkRgXm+VQZiuL2DZuNiYUT+DM\n",
       "Jt3pHKXQz6qW6S0PME4Hr7jYo+MeXzYnLbg1ZH72J2PdZGfxuDhzbPpJJBsG6/V2v/K1N00pN1CG\n",
       "X+Jchvnww+J7PewNCnGr+0nYyNurMKu1CHEFrlnobO6lOhYX2kzXYJlScIsGBLuMJJD7rtAR8b2O\n",
       "eIPyZexjxEcdivWU6XA6rijqrDiaOyd1jVJIK2QNRBxGaCMlNq8XtzNjnr50S96LfYxEyzF7eyRi\n",
       "noc6LplPpiJnOs6WPEUr+GhUV84aJeGtXGp1r/BmDcwNZBnai9I68ut99k8kzK2Fcb3lZu6YBKYZ\n",
       "Bb+SIl0k5b5S4j6+U9wR26l5gII7w0br2ully/BZ45hDuEJlF3PnJDzDKGQH9BbwQ5wFQGYzZ1nc\n",
       "4pE9fENGwnHzc+TXZEmwthjX/rCLuXOSmGSUGC67hjKoGax35jQwP9LtMLDxqiPGFeOzBKnecVSR\n",
       "GqOoONwmazEd7aOLFi2ZJ7bAOqeL/djX3XARs2J1AeMHim1FlR1gla9itz6Huln99fr0PLHl/CWX\n",
       "ERzY3HARM9XcOgQ+1lZYPSVWIV+h+skeML/yYecdWhJvYGyWJ6jEOVVoJ6zxNKc8wbI4T6Luds77\n",
       "J8RlATYr1e+TLSjXjFKhXUk9r+D35WKF+aVrhfMJExK/OU/MibVXbw7pX/58T62BSDv/fzXqRV7x\n",
       "tQRmmjFH7yTvuurvKUXb+f288CSv+Fs2NWMeWmSkf3Azptq5GWMDvOJv6etqwvxCIF/Am7Hdob5S\n",
       "5BV/S6rUhPlFNW/MZjW4qq0Ho8Yr/pZ4rQnzSfBy2UxTF7dxdOkir/hcpBkvZs+R/jyv+D54aV7M\n",
       "HiWa4RW/S7Pf4ursWnV2VdoowfNezB4jwQVe8b/c6snsSfSXxFjlMtiNo17MnuRKjVf8L+pGL2ZP\n",
       "8jWbchnIhzyZvYSuLlb5H+6dIXCHUvp9AAAAAElFTkSuQmCC\n",
       "\" style=\"display:inline;vertical-align:middle;\" /></a><br>"
      ],
      "text/plain": [
       "desired_expr: ((1 / sqrt(2)) * (|0〉 + (e^{2 * pi * i * phase * 2^{t}} * |1〉))) otimes ((1 / 2^{t / 2}) * (Sum_{k=0}^{2^{t} - 1} (e^{2 * pi * i * phase * k} * |k〉_{t})))"
      ]
     },
     "execution_count": 57,
     "metadata": {},
     "output_type": "execute_result"
    }
   ],
   "source": [
    "# represent the desired (distributed scalar-product) outcome:\n",
    "desired_expr = (\n",
    "    TensorProd(\n",
    "        ScalarMult(frac(one, Exp(two, frac(one, two))), summation_partition_11.rhs.scaled.operands[0]),\n",
    "        ScalarMult(frac(one, Exp(two, frac(t, two))), summation_partition_11.rhs.scaled.operands[1])\n",
    "    ))"
   ]
  },
  {
   "cell_type": "code",
   "execution_count": 58,
   "metadata": {},
   "outputs": [
    {
     "data": {
      "text/html": [
       "<strong id=\"distrib_equality\">distrib_equality:</strong> <span style=\"font-size:20px;\"><a class=\"ProveItLink\" href=\"../../../__pv_it/axioms/71c1fc00120f763c694cd99d32f7a5e7315b9ca50/expr.ipynb\"><img src=\"data:image/png;base64,iVBORw0KGgoAAAANSUhEUgAAADwAAAATBAMAAAA+KHOiAAAAMFBMVEX///8QEBCYmJjMzMwyMjKI\n",
       "iIhERERUVFS6urp2dnZmZmaqqqrc3NwiIiLu7u4AAAAqt126AAAAAXRSTlMAQObYZgAAAAlwSFlz\n",
       "AAAOxAAADsQBlSsOGwAAAOZJREFUKM9jYMANFjDgBQmkS/PdT/Nj4JSXwKWbbUM7A8N7uG6+O6jS\n",
       "7Hc4FRgYGbjS0sTSkhgYuP+hSW9j8GHghevmugARDrt71wEsfSjgCJI07wSwbEscTPeBYtYJcOn2\n",
       "/PQAIMXjBzf8ABtDBkL3frAgywGENPOCt2/hobYEIo1w2gEGbe5EOPcmmDS8CwQJUGn2B4XwUPoB\n",
       "pp4h6+YreAvjcX9geAByP7I0gykbjMflwG0ApFgD4IEK5LKawRUXPAXT3jABlg1w94I8nKQApp9n\n",
       "PADTzP5iQPIJRkx15kICFQUAALDXOQj7yj+HAAAAAElFTkSuQmCC\n",
       "\" style=\"display:inline;vertical-align:middle;\" /></a> <a class=\"ProveItLink\" href=\"../../../__pv_it/_proof__psi_t_var_formula/5fafce574857f8ec34c0ee79810221f74ff7c4dc0/proof.ipynb\" style=\"text-decoration: none\">&nbsp;&#x22A2;&nbsp;&nbsp;</a><a class=\"ProveItLink\" href=\"../../../__pv_it/_proof__psi_t_var_formula/14deb0ffd2c97c2ac305a8cc6af048f1d7aac12b0/expr.ipynb\"><img src=\"data:image/png;base64,iVBORw0KGgoAAAANSUhEUgAABSIAAABMBAMAAACLwNSZAAAAMFBMVEX////c3Nx2dnZERESIiIgi\n",
       "IiLMzMyYmJju7u4QEBCqqqpUVFRmZma6uroyMjIAAADVePneAAAAAXRSTlMAQObYZgAAAAlwSFlz\n",
       "AAAOxAAADsQBlSsOGwAAGE1JREFUeNrVXQtwXNV5/vd9tbvaXXChgZJo43EohRKLZhIIScYihfAq\n",
       "lWDwxICDVBIyQ8MgdUIT3AzR1tTNuBAkQsB2SKINQ6dphomUOE1C00FKAw20Bit9TCfJTCWgHd7Y\n",
       "Vl1blh/be+55P++udK8vOgzef/dc3fOd7/zn8f/3P+cCoPQmRJAqs5BsihHAaQ1VSG1y/sGbsDrS\n",
       "m5BQNRh/uuCn8lQUZfxL0uzGCCA9pQpwnuv6aBiNP4XgjLMa59kFgL9tRFBCcWfC7MYKYIcmdI04\n",
       "Lo+E0ZOQQnDGWQ3Gny6AtyOKEraPJMxurADmaqrQfcB+dTSMxp9CcMZaDcafLkBpPooSnkyaXgIg\n",
       "NRPHzUu9qgC7HVfPrw6NDMFJs8+KpfDddmE4CosgfzxhdimAQl8sC/ElVYCepvXq4dnVoZEhOGn2\n",
       "nbEUzvjThbciMXSTHhYogMv+OZbbv18TMgPWi99aHQoZhpNkZzc34yic8acJxUhGt8mkhwUEYOt5\n",
       "P4Yc/+lLEfaS4T5VyB+02ljHV4dChuBE2d7anzRgIBZGGX+aUBmI4v7/kzS9CMAMPA338ypfOhBh\n",
       "jx5XBfigdbgeWB0aGYITZZehPODNx8Io508VhvuiVPjElpEIwHHoGXq8wDt5hPwVl1QBJpth4+nb\n",
       "fRnZF5pdnU0dKs6MxMEo508VphtRWG2LSZuNCMBdvkae9SexaCSc0ISqbQqLhNGTkEJwouxCI3Uo\n",
       "9fNaLIwy/hTB+98o7j7WmzC7BMB7pHEtSv6mh1ShdMh8ZTSMxp9CcJLs9EBcjDL+FKGwFMXdR5sJ\n",
       "04sB5DfFppFzdVXoXjBfGQ2j8acQnCT71kZcjDL+FCHD59vMUHt96yL9tw1JT1QYwBoM45Pv81Mt\n",
       "4jlmXBXgiMUIElYwH3g7qN49jVCc1uzURbExyvmThTFeyI/avNOtWg29/0t6BgoApGZStbh6dOaQ\n",
       "KsAGcw8WGC2NvB00Mr8pDKc9+yw4JS5GOX+yMFpn9NXtKif9rOMqLCQ9AwUA1nz69tjmmOyCKkB/\n",
       "3byA4D9/P0QpTlL66zCcphYPslMf+PQzsWkk408Wpplr+4t0vPmHfSaNFH7WIrFKSfuEMYCJVkv4\n",
       "LfXehQjdMPkTqgDDZmObM1qgF9z7fKK+iPSUG6exxYPsrlZrf1yMcv5kYYIV9wBXXvMYyX7OqZNR\n",
       "1/6ENfIkAGg1VKFqVjPGKJzB1hDZZL1jH3fjNLb4ROyoGH+SwFeAub62NVILRRxL+inFSQCwb1YV\n",
       "KsftS9ogXQ9vE400BTpKa//+JEwDxp8kFJlTagu0rZHwhpIzyd2RIYEOK4iD8F4JPu43gZuM3x+6\n",
       "t08VysYHVZzRwrhbI8tNZ4Eh2Z1wVZlx4TS2eDF+ryrjTxLKbJ3+lQ40cq6mtBZbJMcZJ4+X30Yj\n",
       "YW89dv5Ge1WhYGw0zmhX3a2RIdswVrRLQ+bKFF5cXnBqZDl+Y5XxJwmVJQNnoRpZURRrX1M1jyzp\n",
       "i21BtUTdFnCpXzBNqc3Y+RseV4W80SHJGBVpNGlkYd7dXvNtwbKE0ypcve7CaWzxSvx+fsafJHRR\n",
       "71puqgONLCoET1CHUt692SXf3l4YW9TtxcG/GYP2MQAxLlX3q4LXMhpZzF95Ezg18raGs7yQbJps\n",
       "4bQyV5MNB05ji3cdip1Rxp8kMDNneKgDjfQOWuzQinv2rLQ3udqibrcHxXg77YbwvhZPEYcjVQ+p\n",
       "ArSGXBZk/pBbI190l/diW6is4bQyV2N9dpzmFqfZMTLK+ROFHtrhn4AONJJHUuNZlg0Wk+6Obc4u\n",
       "qA2bc69C9QUWAzBJ6ua98+qJI85huONBNbekCjBo0gbGaGncqZFFt/ltyf6c+sNAW1wZAt579jtb\n",
       "nGa3zagOLTQx/kRhkkJ9pCONHJVMmyLzFFznhkCzUbC3MEGIIyfKut+2vsQL9J6a1nwUQKnFqC+w\n",
       "at6NKUXh0OYyC9c7MNM1beWgKsA+0+qCMdo15dTInHu+YNkyV18RZz2/Rt58W1wVDthxmlucZhsZ\n",
       "LcyGQIM/7QtnlPMnCv2kRvnDHWnkmOQjz7LnGe5+z7JRsLcV7tMgRN3K6fdwh9fakgGAwaN8lCA2\n",
       "cREzgMKhbYV+wwF6DVX2BVWAaZNSUUZheMSpkcPu6YRl27lCNRLCaV1ceYftOM0tzrINjMLjoc3Y\n",
       "NRvOKOdPFNaTQrJiJ1pfM95J+LlLMrbT1HoP9o6Sq/L6DdjWUhTsbYF7XI66TZFPfPkW1c+nAoDh\n",
       "Fm+hn+IPMuKicGjbeCJOYDWpRG5mlWnLMAH2mnxZlFHoF1hM62PUbnBytRtCuUI1EsJpnVw9Ysdp\n",
       "bnGWbWCUDsyOZuwR6QW5lsxwZfyJwjSRM0Ir/2TidVPHE3+W1yUl2kZVdMH55BIdbJX+/V1BVVKD\n",
       "rRZqqQr6uQD5V0dYFm9K0tdwWBfeP5nSHBMMAGRbvO3JSHsh+dYINPI0f4VeU8os9P4GH+0IfB5I\n",
       "Rnx6aToOMwHWm6ZMyqi4D6f0xAktsOowOLlig5rM1cvopxG4YwevUVtcvd+O09ziLNvAaGYkDBp8\n",
       "NvVRDRer5SaVP1HYQCb1rs4eeqSl58iZY7Q/1TDL6XU/pZOlNBPxnoiCve/785FAEQLt+AX81unz\n",
       "LEuqDfLz4nkih++5Wb0xAwCwQX36lWJ9DYVDe8/8Zlors3TJtx8QNfKeh/jMBHA1+Wt6YybAetMy\n",
       "gDIKD7pXMAfAxVVeGFRFrlCzd9dS37uD1ag9rtbbcZoTz9YYhTPCof3gzO01AZf3wQHgtbxa5U8U\n",
       "9pGrxmY60siC9Ei3QhVilLD8GmyrGazAUU74JtgKjew7/Kps9bXDq0Mf1KHufyrPZPzaBIEz2Pwu\n",
       "Y519XvMqcY3c3lJqUmbD360Nr+7BJVu1MruugiFpjHxDNPjH8BorSy1NJkD/uIEayqh3zM3gfidX\n",
       "hf0GrnyoL/tyFtL+f1tBDSJzcTU6a8NpSTxbYxT+MRzaV5t5qacEzzEHZEY5f6IwSNqrw/1z8t7D\n",
       "HF3rP4lZLgxAuhfOpdn/CWI2Xtw24LYaZPI+zttqlZH8A9CXakKf/0njwIXaILMgHcxBWdxO/UQ1\n",
       "1q69QgHg99LWkrraooPlRYDu33u7VmbPHmHWRBqJbpGmhmUFz1EF6mFiAoyaIo4ooyHbM/ERJlau\n",
       "hANQOFc+1Jd9OQtn+k3v/5aSo/ldXNH2/ejadQ0Zp80zU7cyCsdDoaWO/ZOMq4ownSszyvkThQlS\n",
       "sHWrp8XdLg0AXQuiC+l8yEwhdxozqR4D1cNEgr3XdE8xgFNZKDZBiwOnLKeCVUURr5smAwXK++r4\n",
       "F7MyADTwH2mYjVYcDp3q/bVW5me7B2qiRnYvAi2RW5jtaiRltOh+DIdtQytX3HSUuUJTY8kf3L/D\n",
       "a9QOV3QO/FQDvGtknJYkZKuMMpeJHVqh9z9SEq65hmBkU5vdrJGk74x26DE+KrFLh4MFzHLV7zNL\n",
       "UKmpGhlk3/vQDA32fqp7nGnHFz6TDyYDJQ6csgwvBFzgVh4Ous8n/ft7H5EBoLu1ZHvjMtSBnthM\n",
       "w6HLfb/UyvxBfkCybNIBrBfoLI2nlCJVxCJ/HmDUSMJowf0Yrlp3coWzda5Qsxd+OHU7ylYCvF1c\n",
       "QTVQmvwF/j/3zEo4bRrZZ2U0OxAKrdR3a1rC9TvBjWoSo5w/UZgY0V0V7SQp7KXrsGw/+h0yfxiK\n",
       "dVUjUbb30N88QoO9X8FWV6AdxX0PBkzJceCc5UcFtxr2hs68219VpxsSAHTNhBy1gpYK22/cMkXC\n",
       "oSuNXEMt8wL4kbSOrEwVf7eBSwQyYnagkSMGfxpY/A5WroJsA1eBQfvdI0FHlAO8nVxBNRiWyuka\n",
       "eDPnSDhtGjliZRStKEKgZWqlz0m4XodHn2G1JIyaNZI6m9Y3OtPIb0rsEoXArobzoacerKIGFJaD\n",
       "7NIA9BjLMocMMJbxch2PhVXUf7O1dM2b8eoiAFwr+XHz+/z//w5Si+2WeT5qxe+cMcJMG/J8urvF\n",
       "1lX00jlMZHljkMg8SxlNu58WYOeMlasg28aVJRLFzpWvvcEwdwm8G+4LbCKO05LEbIXRTG9n0JCt\n",
       "fbj4rR2slvSJ/9x+0IUWWT/u7VAjN0oaSZZMeUEj/W71nMJykO13/oyRi4vdLJdn2byPp7QSwNln\n",
       "+WtBEQBWkJYUivE6HpwvbLdMXyMn39m8oxaUiOa/FF7I52k0BxNg2KR0lNGyWyOHm06ugmwbV5lm\n",
       "h1z5ShoowxSk/2gGMSfgtGlk08ooikXsBJqPq3jgV/kXglqimZswyvkThc8TdqcJDimhETtwB1eF\n",
       "H7E634CnBLzAKNxFRo/jZCaqQ7ffQz+Dvj29ceOujRtvYtnD/i2Ma2otEDe4OWM5H6geNqiqaJme\n",
       "xtEEdREAMRMlK3cz0qFWayG8TFxXXyOfDWYcv0QPVdbD/Hmfp5dRAb5kahPKaGm/mVFC2tysk6sg\n",
       "28ZVrtEhV/6fBEu3ehB6kRZxqk3rnZCrYWAUeTrbg4Zv5uMq7whGWb+WY5xRzp8otGYljdTTZvPP\n",
       "N4he2OpxeYz0WUCW5qOmMXL4W6ec0t54HNycsYzXIALLZYBTzyaP7auSe7RnQBkj80unnPKONkrc\n",
       "TDTy5sAb5JdYRA1NHoy0PUbOShppqRcbIy1cBdmRcUU1cgZSa4cQcwJOS4NL2TKjaIxsE9pmopG5\n",
       "NwJvkF/L73JGzWNkLLO2v9AoLHJjVZ61O3N8MpaxnSasjcqQqmdniUZKnpYra+qs3Ulg3/ngLXUf\n",
       "CkpMvefFIfb4xK6Ryjqys1nbwhWetaPiis7aM3AqXEM1sv1ZW2E0mLX7OsI11pwbCpwAp958Nn8g\n",
       "5dTI9W3Z2ny7wTdNGpkitnZhHD0xYA49Ztmg7PJOHszQCctruDGPDdF88xaAa7qbmkZ2y24XFLLw\n",
       "bANS7WtkYdFbygYlVprcMsxTg4YJMLzf0ZRpt63dM+LkKsiOjCtq2fxxvg7Z2V+ZNFLdSSJmK4yi\n",
       "gJlOoPm4Rhtjzb6glq8JtjbjTxSY96ctfyS3pB4xeX9waLk/7d0I24f4Qw/KcpDt3XD3ZZ31L9y2\n",
       "53Jjntip1/hzU/ZRUL0/1APH+rf//7Yd/359+xpZmvcOpYMSq2g0JOEzdlvb4v1x+yNxVLeVqyA7\n",
       "Oq6Ixz37r/4/V9VN3h/VSBazFUaRO7ETaD6uJ2FsqB7UcpEzara1acGKh3yYrcNlbzPbbnDM6I/8\n",
       "OmH5vnU/FB4MM39kkF0e/O/OZiIcOBPMOuT4e3xkewZ5yH+saaT3VfkOwdOCp0/0ta+Rvr34B1cE\n",
       "JQbOdBKN3alGKh7yWwSzMIA84+QKZ0fGFV1OIg/5vQ2TRqo7SUR/pMJoMMR1AM3HdTFkn2qgWgbO\n",
       "dLoj1aiRg6Rg5Rxxy5lejDhPMl1zVCFeIiwH6XFNI1+CjhONZMJxIyTUn2yOuHMof7kCAPS9yV0d\n",
       "npBO4aMSr/aG2FPYdjWSMqqc8q0yWul1clXpjZarMTwwFj4GnxqRcapNC1q2ttv7G8vDhWqZnfpL\n",
       "/lzbqJE0nnxYwpe38MG2G8hhBCzO/1mR5QtoNou0eHb5LGeCRQuJviLxat5jVzUUAMQjLqZyfXka\n",
       "iUp8Cj0SIpEqRRrywwSYNMb+EEalqHyd0fK4k6vyeLRc0UiLv7r02wpOtWn1bJVRHvvToUZegB7i\n",
       "nsNjfxh/orCBtFdV6gcly7jCthvIYQQZOmKONjjLhh0go41ls4wJy+Dh/kOaX5YP2WXuYyxiXRhf\n",
       "nkaiEm9Hjkmy57lAwwSZAKPG+Mi6aWGjMVpYBBdXhUWIlCs9kmZD3dy0WrbGKNy2PFyolvmfD/Fd\n",
       "5Iw/UZgmmpiTOHkXpPa8JK4syVe23UB+aFui5I81OctZ3X081lw2y5eLhqO2aaTEW38LtwD/DH/8\n",
       "/fI08nL6w7WkPjR0nG/q6Z83/D1lFG6WGYWznhdnbm8JXFx5SxApV3rcAsWpNq1aDQOjpeaycLFa\n",
       "XqvyJwp0h0NJGkmegzWQFtdBylfF/ct2nmRQNT5GLtGhZWY6ZjlL+gWGiU930c8M4VtfBEdFcdw8\n",
       "H4UkAh+mFCOU7eXhm3rWmxY3bM/IEzKjqV5YLw6UHwYnVx+GSLmatuJUm1athoFR6wZIN66SatYz\n",
       "/kSBytIs4Zf4PYBdwi/KV2UTBGujgnuGLCxjcSSl9+LiNEK4kvB3w3l7if4X6ysqkwX1HVMF2Gvq\n",
       "YYxdcY3iM1qqQZdY/y3uYrdApFw9aMWpNq1aDQOj7AnTyhjl/InCKEGcl2IVmjDRgGlhoMdfuUeo\n",
       "R1oWF+g85rlPNvVWevDp13B30CYNDoA5Ks6cZgErd6+oTBqCmDmoCrDB5FKijEpePJ/RrkUoiYP7\n",
       "mNsHMDYbJVepg1acatMq2UZGC7NRMMr5E4U52m1Fl/c2FL/FX5MB2lflBIHuI3LHDOm3y04k0vNK\n",
       "LYMBqJx4K0gbJ1qtiA9AZEcz8TOajOdfMUbFHcTbgvgt6X0jaffUl56PkivDCQIUp9q0SnaMjHL+\n",
       "RIGdtSF6Zn4be6QUB5Xf8I89xzVUtHtY9+oackIIyQ5LpMN/TctgAPYKkSyHo6WPHc3Ez2gynn/F\n",
       "GBUdOJjRnLT6fthd3sMQIVcl5ykrUtMq2TEyyvkThSrtPDg6CoroY0B3OQZfu4JYIpTUk6jokFlw\n",
       "9+zCyjr+H+Leb7hJqwZxJ/2MYn4Al3Qde4P5cYVRZXtdJAcbtsmVITCC4VSaVsuOL+kHaftCji7t\n",
       "SGDZlX4VsgH8nHxgA/qaop4o1Vs2yNYVL7sxvLySCpCT0s8waN9g/K+u7RlXhZTxZCbGKInr4oyK\n",
       "x/cBf3JhWyWMRMiVwRPMcUpNq2fHlhh/klCiIzFWsvzWQ/SB0s/kP8dfP8LrIDmvGHvb3IPVtpWM\n",
       "ZduCici70eQEjP/FMXPzqtB9wnQdYxSrgcBoWXYWede6zcBrITqubnLhlJpWz44tMf4kIctcGfho\n",
       "K+8o2X1SkJUOfy2T+V499bmfuUFSr7i7xSsrqAHemGAMpu+fiZ0//e0rWWNcOmcUn7/GGNUOB35X\n",
       "w1lgSHYnXJlOfWY45abVqxFb0l8RhATez8nAvreGY/0fBWnfNP56ThZ/+5Bt/AA43Y3i9OVXwMMz\n",
       "85edA1h8abqpCqUlZ8+naxvKaLEub6+GlNvOSw1FxlVmyoFTblpwTgCRJsafJPCTi8n5tz0zgUcZ\n",
       "hXYKfRR/rRD7v1t96DqW9PtsTgKAwYYq5IzPnoWzoF8UGYVbAK5IiJ65hh2n3LSmasSVGH+yMEhH\n",
       "wjxeC2cWKwj+aXv2iGcDyl9zqh8udyBhjaQAhLNJ0+vqUZbgHVEFGDM/gmKMohNIOKOpzXv2JPXa\n",
       "nxsdOJWWVrPjY5TzJwvr2bLs9/H4dzCI1RtstcRhW/6qvYUufThhjWQAeOjenfBvUZZQPKoKMGl+\n",
       "FQpnNNsrMJprtVrzCbEz5cCptLRWjdgY5fzJwhxDS97U+eoLoTaSRmz30YQ1kgIQziZ9GKpROin1\n",
       "RQ9fUCpTJG//77fJaMzpv8JwOrLjY9SwMg8E4Y2Cr7l6vpDu0FclEwlzTgHws0lTi4bn3ytIjCdO\n",
       "2ETIlWTnWBuMxpvyr4ThdGTHxyjnTxbK/FlrJjDuKmH9wDNUcO9QwhpJAKCzScvo7eQX5hf1F4qu\n",
       "JA1PqULeMjEIjOK9DJVastzc3wjFac+Oj1HGnyJ0R/K2sbl6whpJAPCzSX3+uvoiLKC/qQpZS1Bt\n",
       "d9IvG293pbPQTnZ8jDL+VGFXJHPaeML0EgD8bFJ/jqlGOce8qgkVW513rQ6NDMO5K2ZGGX+q0B/F\n",
       "I+Fs0q98JwDQ2aR4jol4HZ5fUAUYts0L/bOrQyNDcOLs2Bjl/KlCNZJ1d9LGNgEgnE16Kfw6SlN7\n",
       "URVgumG5tjq1OjQyBCfOjo1Rzp8qpCN5GXmn509GnjAA4WzS9LpnIrz92JQqeNZOmF5cHRoZghNn\n",
       "x8Yo408TvEgW4mNJmzYxA2B7+ZhgP0PXWyWmTQjOmKvB+NOF/iiGt2zS40LMAL6uCfgcFLP6NlaH\n",
       "SobgjLcajD9dyEUyulyXNL3XnRR954rvaK9oGI0/tfuy0Hi7gy4UIwmTmEzYDRwvAPZmUiZ4jkf5\n",
       "xQOrQyNDcMZaDcafLmjR4stL5d6E6Y0VwG5NKLmK+9nq0MgwnHFWg/GnCxDRs6GPJ01vjAC6d6oC\n",
       "/NK1yMqNrA6NDMEZZzUYf7oAkN8ZRRG3Jb2cjxFAblYV4BOu66NhNP4UgjPOanzCLgB6h2oU40jS\n",
       "C8kYAXxZEzz3845frA6NDMMZXzUYf6rw/9ssdlSFauofAAAAAElFTkSuQmCC\n",
       "\" style=\"display:inline;vertical-align:middle;\" /></a></span><br>"
      ],
      "text/plain": [
       "distrib_equality: {t in NaturalPos} |- (((1 / sqrt(2)) * (1 / 2^{t / 2})) * ((|0〉 + (e^{2 * pi * i * phase * 2^{t}} * |1〉)) otimes (Sum_{k=0}^{2^{t} - 1} (e^{2 * pi * i * phase * k} * |k〉_{t})))) = (((1 / sqrt(2)) * (|0〉 + (e^{2 * pi * i * phase * 2^{t}} * |1〉))) otimes ((1 / 2^{t / 2}) * (Sum_{k=0}^{2^{t} - 1} (e^{2 * pi * i * phase * k} * |k〉_{t}))))"
      ]
     },
     "execution_count": 58,
     "metadata": {},
     "output_type": "execute_result"
    }
   ],
   "source": [
    "# let Prove-It prove the equality:\n",
    "distrib_equality = Equals(summation_partition_11.rhs, desired_expr).prove()"
   ]
  },
  {
   "cell_type": "code",
   "execution_count": 59,
   "metadata": {},
   "outputs": [
    {
     "data": {
      "text/html": [
       "<strong id=\"conclusion_01\">conclusion_01:</strong> <span style=\"font-size:20px;\"><a class=\"ProveItLink\" href=\"../../../__pv_it/axioms/71c1fc00120f763c694cd99d32f7a5e7315b9ca50/expr.ipynb\"><img src=\"data:image/png;base64,iVBORw0KGgoAAAANSUhEUgAAADwAAAATBAMAAAA+KHOiAAAAMFBMVEX///8QEBCYmJjMzMwyMjKI\n",
       "iIhERERUVFS6urp2dnZmZmaqqqrc3NwiIiLu7u4AAAAqt126AAAAAXRSTlMAQObYZgAAAAlwSFlz\n",
       "AAAOxAAADsQBlSsOGwAAAOZJREFUKM9jYMANFjDgBQmkS/PdT/Nj4JSXwKWbbUM7A8N7uG6+O6jS\n",
       "7Hc4FRgYGbjS0sTSkhgYuP+hSW9j8GHghevmugARDrt71wEsfSjgCJI07wSwbEscTPeBYtYJcOn2\n",
       "/PQAIMXjBzf8ABtDBkL3frAgywGENPOCt2/hobYEIo1w2gEGbe5EOPcmmDS8CwQJUGn2B4XwUPoB\n",
       "pp4h6+YreAvjcX9geAByP7I0gykbjMflwG0ApFgD4IEK5LKawRUXPAXT3jABlg1w94I8nKQApp9n\n",
       "PADTzP5iQPIJRkx15kICFQUAALDXOQj7yj+HAAAAAElFTkSuQmCC\n",
       "\" style=\"display:inline;vertical-align:middle;\" /></a> <a class=\"ProveItLink\" href=\"../../../__pv_it/_proof__psi_t_var_formula/872680cb4d3c7c282d9daeb206a1e5cc1713aae60/proof.ipynb\" style=\"text-decoration: none\">&nbsp;&#x22A2;&nbsp;&nbsp;</a><a class=\"ProveItLink\" href=\"../../../__pv_it/_proof__psi_t_var_formula/894824f97f39983fab27a2857358948f491ecf9c0/expr.ipynb\"><img src=\"data:image/png;base64,iVBORw0KGgoAAAANSUhEUgAAA/cAAABMBAMAAADaTVrXAAAAMFBMVEX////c3Nx2dnZERESIiIgi\n",
       "IiLMzMyYmJju7u4QEBCqqqpUVFRmZma6uroyMjIAAADVePneAAAAAXRSTlMAQObYZgAAAAlwSFlz\n",
       "AAAOxAAADsQBlSsOGwAAE6FJREFUeNrVXXtwZUWZ73Mf557cVy6wqOho7o5KWYtDBqdAVrTm6oo8\n",
       "xE2kpAR31qTEsRyhSCwHkKLcXPFVU+ok4AMfaG5NadWqaGLhi3WXpJgdlCWQUOX+gf6RjBY1IGoy\n",
       "w2wmk3ncPacf3+k+p7tPJ7mdy22KmW/SnXt+/fv14/u6+/RFKEh/RUbJsFhrknMjs86v68qV51BH\n",
       "pAScFqsB/MUNPxUnjT7EsFir0kXMSGmf+0RnaJ+E02I1gL+44acf1I0+xLBYq1LXMLPu15TKf6Mz\n",
       "tE/AabUa96sN5N1v9BGGxVqWSkeZNV9Rl9o33BniJ+C0Wg3gL26gwoLRR7BiW4JxI5iUL7fM10Pw\n",
       "5O3qQo90yKj/iFG2M23j2cBf3EBDZr4GK7Y3mP79/z92o2W+ehrM91tVlnHPdIb2CThZdq5mxXde\n",
       "VRrob2YfQYtldjWI+Mi2+Ol+Zl2qdpIXOkP8BJws+8r/sfL0S5VG3qzzBMW8rb+uo34UE/8LViRw\n",
       "j8Ogo+wQEx0S6CXgDLLvuehXKBt6WP/WwqcDfzGj3G/WdvsDzYv93gJKzRyaeZIT331nvxXG/hHG\n",
       "gDFVkWc7ZMp/Njl7Gh1C++EnH76ylWPomMoYqhm3nu45Zzk/PRzr+Xk74k+wST+/mjg4vMSn/OPJ\n",
       "2WdQz+CDOfjZ91sZZ66qjCmz8D0olqs7y85vKkT8D9/XsCx+N8wmZ1V+7EpniJ+AE2d/0hd/y8et\n",
       "iB/yFzG8F82ifFIsRWQuRlqWHfELy9DyBuUlRrd3hvgJOGn26/mftVR84C9i5FaNfp0W202GidSm\n",
       "iF86BssUVXmJkUZniJ+Ak2S7N1oTH/iLGGmzkZMUiy7s3LzDTxVb4qOTMAEoPL6d4ZSVHnwJiOxd\n",
       "nohTnX0e/tMNKL2kxeIDfxFj1Ew4UmwLOkfqUFgSfycTNL0s5/r/QvuXL4kuvruehFOZ7Uw7FVs9\n",
       "H/iLGCPiiOoqlm5wMeeyj/x2M8XvY9gyx+RzUfjjQlXP/yYlORMcThnBJPu8j9xatyU+8BcxpoTl\n",
       "hy8+pZgFcLGuZnNJkudcfKxmhcoh5u67cne/EK5PsTUR7z8X2yl+uBGtwCkjmGSPN5vcz85dfF0r\n",
       "Q82zcmM80kYU4o+3g8luANOUKtoFTdG5Nxwu2ip+dliLU0pw15J1WMCfYESnI4X4CbOWpVSGHrM4\n",
       "p3ZEMOe1l4j40o153q+SEDzabx0W8CcY+ReNxM+/2A4mi7AwNiudVyYgfL4L6cUv6mOtjeyn7MfP\n",
       "856j//yLFqeU4An7qxXAn2AUjxmJXzzWDvFz0ORGpPzMgpd3X4L4+lNSGzqgRj045mfKTp7MVrUE\n",
       "z1btLzRslxnlVSPxy6vtEN+FQH9IGugvNiSoZeLnFrTPMdxB2yL/8d3kEbQBlSc1OOUELzasMwn8\n",
       "CUbXspH4XcttWTMB/3dU6hONs3WA7KRe/D1aP8A1PEC3VxFEE+3eQifIFQ1OOcF8tqUE/AlG94qR\n",
       "+HyxcpNLNauYm4yW7mWtDzs0qBf/j3q/0mzYxcdYZE2UtJ195LnecQ1OOcE02yavwJ9g9CwZic8X\n",
       "yzfpB3z6dw83xxKfe8cGMA8wurOyaceBgeFhpBU/r1/CnqibAVc55U8IjsOlGpxSglm2Oa+5NQ8V\n",
       "wJ9gTPQbiS8UmwrjvtsFUXI4jsDnfcJ0H1/idqMWDZuGi6x4WbYhngcc39aLn9V37etZF1YDD7I8\n",
       "lePQg308h542HqmocUoJhmwpr5+SQOvi65N7nwGRwJ9g9C0YiS8UyzbDKfYgX+pB+sSiMnDtMjp2\n",
       "5TCXdIrVsiCLNjKwXHVCL/6QfspfAaqUwIMsfIxFOukTlG+ik+mwEqecYMiW8ZqfTuT0OwZEAn+C\n",
       "0RuJoVJHpZ8iFHObIdlFrp3TrhGc91Gh6eFs9puu2rWaZWwUT0k+LMUiwQwPujceawWHwB1qx0dM\n",
       "OMesAR5k4WMsInYCPTfGrzV0TSpxygmGbBmv+xOhOUsSTgcjRAJ/gjElQi08fFa6PSYW62uGNHDt\n",
       "PE3s4LyP/9f5vtsSFDtCSt2G3/n4hPMOKL6N/Vpcjyztqr1swEnJFvcLrCL8Gb9fj78Q63oBpyk6\n",
       "5lwWF5aV1wCnWVHsBDo9CE2Pmqf7lTjlBIfZEl7fLINWDjJzyH0e/73976oxTi+LEAn8CcbOaSOH\n",
       "QSyWbkrHoAugLfvZ3m9fTo58BByWKs5Pbwv+8bNX7qtwQD/ztXBkE0ZC2tZ62XNSsuXl9Gk2meiX\n",
       "yNyjVPyt11Xo1CRMCiHjauDsDBNH8u46g76LEE3+kVpS4lTMGqfVvDpjMmhY/KfRq14W9I3C2//9\n",
       "XhTl9MEIkcCfYCyaiS8W88al1XmUGbvrXtVDb7/HL1n1ObwHZVDK/8//91cbrkDgX+RetEcnxj5W\n",
       "98xJWYjGUIzqK5FbIuKXG957udPRsPoVmmrgkZ3ibXT7kEB/igykZJjKnVHiVESap9W8FqtxaPf4\n",
       "4vvwaqiKqv7fXddyUxnjNBshEvgTjAGzGDdSbL4pC3lZrZ3Lkes3xu23ouDvI2hPJYNe6fO4p+Kc\n",
       "fkzsPXjA/If4Rx2hurBelGvK4hfmvCQcQMYvmvni347Qa1GKIS+x0T58k0oNPHqGaRv1LAn0PkIn\n",
       "ActO6ma2br06glMRhh1T89o9F4e2p1Ie9u2a00A1/++emcE4p1DLIxH+BGPcTPxIsVTzGxqvmZz3\n",
       "cbb/AR5f8NvpD/H89L8OD7SEf+W8+GcdNBG/i7E2oV8fxS6YL/4VQUgPDnC+FosT1cCjZ5iY+AT6\n",
       "BKY/T7wCj/Re11f+s3MiTgW8Y2peIU4RoOFhfzKD8kG9P1Hqr8Q4hVoe1IpvtpQULbYoccAywaz0\n",
       "8C523qdYewY4zP1i8tag+RRqu1M80BQe1stx//waquoSLCzJWGMx64h+0aO7SsT3VRlqoMNR8TH3\n",
       "CcCjZ5iY+AT6EG58Lo3Nif92s5/jvU3EqRD/uJrXK6XQsPh33+LiefZnbn81zulhkUjgTzDGzd4N\n",
       "jhbb16xKR9d9H7hrkp73KdeJq4kHnp+cxDykK4U7eKDlyfwbfbcp/lnzdRPxWWTUV9GLP4zFD7rk\n",
       "0DA6EBUff0oC8OgZJiY+gU5Ce4/CIZHb9N8j9KVUXcCpEP+EmtdHpNCw+PnFr+CB5RL0y8E4pwdE\n",
       "IuXiN83EjxaDpUjea/WHmp8jR7pKJHv9dFvA2g8vGJZ5fHSxfp4xXqKYizfgRHzYbsZar3YRh8Rg\n",
       "qTnnGPYOshHxSaC2FuCc+AR6NylEe/B38TBYSVW8aa8q4FS0zRNqXndooO1FGk6zIpGMP9FoNszE\n",
       "jxabPRkjPNjMPAGRaaRhNKRAJ17duM3vtU9yQz95Q7GHzJZDK7D+IdG3m62BzurFH+LEr6LinCg+\n",
       "Ga3XApwX/0mYV+j8gdANeBhE6MIt/sQs4FSIv6rm9QUNtLcgDadBLQ+HRAJ/gnEnsZuShAc0uspy\n",
       "Z5TebHzfyY9zXf/XpN5NVvh97ywF+jiZBG7xH4SHSsTeUBwlmL/ABhzvTlmv/CRbgiIkCuiX4Dlo\n",
       "fo4M+z6y+RpyJ8kIctPXyAhSOoOpMALOYyfi34KfTEJNGqfdhF03stNT5XEqyIVqSHjdpYEmHgMm\n",
       "Hwac+rX0lkIigT/BaOoX2+nCRbyYE1918Xu+u3rOOa8wGEh2UaAfJGGKP0H9JPgbu6j4zHLPoEnP\n",
       "PyOIr3oO6/mBOH5cwDwMoeebAuewE/EPKMQvInTuhaQ5hzjl5ArZEV5fMIZGPgw49WuZXwiJlPf8\n",
       "9Q77mXtl4qO1vDW7DXmrpWXimp77wQsF8emqW0x8cc5f27AfTKAjdZhgxGF/ja/7gviH43P+DUR8\n",
       "p5qZo+KvYdiP8PoCWien5Yrz+j8OApGtFX9evkHyeB055kBzK95qhgSlfxZ7PnVSh5ZAfB1rvXpv\n",
       "v4d4+8HOy1PhqgI4fNjfWgtwTnwST9PdgROcw+c2PoTQe0oNmfhbNOJHeH0IrZNTv5blRkgk8CcY\n",
       "YgyHLwQKhsXz6vpQz5U05owfYH7u/t+9zxxoYcFbTpHlqBVRfLpDFvP2FaGePs4frRHxsw3v6+F6\n",
       "IhOfHL1ZC3AqftDkyEoa2dJhF92QRaP3+DRmDiBZqLdXHepFeb0GrZNTv5bd9ZBIubcvqooDG78B\n",
       "uN9PEH+fJALCS0uHztbMgfqu9HVX44Xo0hgq7tjxlR1vpuI/sSbxxUUetxdcKlpumojvPfruwTCu\n",
       "hDj/AfznGoAT8fH2IYmoyF1V7FYlMvWng0WeX8nEjx4HE+L8mmS9Yz2c+rV8hiNSLv6AoCq+EGha\n",
       "4uQORMSXnU7XnSpQ9R6cHgx2nz4v9PwjJuJnGWvijTfp6DhQ3o7CLV3YQwTx/4TWnraF0BE7B0YP\n",
       "i3nUNd876F4VwUlTv6IaEl675taHK6jlu71BIFIu/qLQqLJIIb5YDK/nxNOj6xT/kmDd8g28+Gwz\n",
       "aoLt6uWlu3rMFRoSmubN0XLFMU78NPMPYGPn8Q2Ifwn+k9yqQDd92caO971r6xGcNGNBUQ0Jr8Xq\n",
       "+nAFtfzvVB2IBP4EY6fw6fsReuPMrpm5mPhiMXQozOaGsD3rAxqQ4f5mkIqP31Bkh+BHWCfJSffz\n",
       "WfjbPc3/+L9i6wErnPj7Yx8zUl+3+FTHKwgcAjp+gVBaDNOjx8G47Biv7tj6OA1qeesdIZHAn2BM\n",
       "CbzhC4FkPV8slgvjkRwnfqGxLqAZ4ALafZZ2Tzg6mJGe5GG731m+LzkLyJn5Ez/0e6uc+FfF/cHG\n",
       "usXP8G4+9fkzR5U4tzwVnLDhj4MJ2TJe/2N94l8VIRL4Ewx2So7gwhcCBQ7fNZE99tlJRZz3A814\n",
       "lpDexSoPP5mO+sNwdDAle1cQzqMV+P5RnPPjnJSwrvLWoLIUc/yFmvT02sV/Fw+d3hJMX9QqLKlw\n",
       "+nFh75ymGjJe968LF9Ryb5Q/waD08rhkXAgHOLnrUL8kHD05gFqTYDd6lmEpyg7DQEVyK+LU9VOE\n",
       "vskXvEv7tNzYBuGmSKO/mPpo21U4CxXUNaaphozXfLUlRAJ/gjGyEMMle9zIgizOc34kbkLlWnQf\n",
       "ZpFNOjvZk9KyZa7cWVl07Acs43U0xQ+to1pc3kbv7+0iQ/S36JJSTYWzawUVjuItiCVpNaS8fqol\n",
       "RAJ/gjE/FsHFb4xwAz3fYhf/htOzN/nF7L5aDq8wSl8ULUEIwL204fUHm6Di5W0p/Xx08QZRXgNr\n",
       "XLifVFQ4C/3c7XKSaljkFfgTDPoelgJXuELKtYUivztl97p7eIVR+qJo+BoUF62lCKIBoeTX9T13\n",
       "cGMov8X3/6DlKXGirM/j76+bk2bb5BX4E4zuozyuIEWxEU/2KGpHgr28bulxBjjmPk8g/5gtVUTv\n",
       "O9W/g51b2BDIDPn1f6b/PK7BiY+ajnlLqmxrCfgTjOwZHleQYthwy2jLvfYOjOs9UqdsgDVTsp+Z\n",
       "CbZU3kl+IDr1ZX1HOrIhlBeQV/XulTifUZzoX/z/K9HgfcD+1eHAn2AUTvC4kAwbnhZOtEP8EkT3\n",
       "89LOOTUsuPsf7R1ka6cHIz7de7XP+dxGup73AfIZdNTPTmpwFrH3nZ5TZNtLwJ9gZE4LuGTYcKc6\n",
       "3Q7xw+v3+qQRTx9EpeSN2tFJeuYuF1XgNdpVPOe5DYCkL6mxk1aya1kAJ7nE4zFlNawl4E8woHPd\n",
       "DQUf0/bBzUwF8PGnGtr2TJdoi0fp0uQB5IgaOHqf7mUbAPll0v9Zj7lCg9MP2s/xXdJ6TVUNawn4\n",
       "Ewx28wnBhd3lek0ytjXbIX4W5s8Bac8NL2shl2s4p8k6k1tFmXpbPFT6GooC54cQutqP6KJx3Kj9\n",
       "e/iAP9EYqHC4cLQpjTEHuJ7E3bCw9R02IY8y78M7KW8cEIO4xN3aWccD+PkzM4faoz3KNtQ4nV0z\n",
       "M/2aatjjFfiLGL3DOlyQejmnJNxkztVKNu+Qm2BTd/6UND8VuqH/RAbQa/H0OdBsnm2T+BdpcGb9\n",
       "+H1BUw17vAJ/EWN+UocrnJc4F6qHXx6xuQAAE1RBfgSyFLYJcvFy+bsV1NZUWkjAqcu2xyvwFzEM\n",
       "L37li4U3LPTU2Yq2lTQue7q0AD0Bmj/VXu3RbfUknJpse7wCfxGjaHbDHl8suGHhYPCdAMNDdfR+\n",
       "e0y6IOWQ4orM2dCJT2PzcHu1955LxKnJtscr8BcxSmYXq/LFwhsWfJBftRjmw2Df11BMRlXUESkB\n",
       "J822xyvwFzW+afb7YTHuhgV/eLJ4L2sZlhqfVw1nY50hfgJOkm2R1+dVRp/ZynJYDN+wQIYnuw7f\n",
       "EOsvrmp0ynTIV+km4CTZ9ngF/mJGt9mV02Ex7oaFTK00aY8y+MY/9dfSneoM8ZNwnrLLK/AXM1Jm\n",
       "X68VFuNvWNh6Xd2e9wSMjSqZ6K13hvgJOHG2PV6Bv5jhmXl83qbfuB8eg1XfvDHaIR5fAk7L1QD+\n",
       "JIZZI9v0ry/Bb1nh9IC6gXTI96km4LRcjQfURtas2WU3u5NBa9NRc32HTPrXbyi7RS0vbqC8mWOZ\n",
       "3+STXB4s3I9qDjtMVDpD/AScVqsB/MWN2LEXVTq4uXTBfcj4JXVVKnbIVykn4LRajYfUhuK74CTj\n",
       "/vCm0vUMG/VL2m9BeX9niJ+E02I1gL+4gYy/Y8b0q2halP4VGp12FWpPhwR7CTgtVgP4ixtBetrs\n",
       "U57eTLLgXBQ9J6Vs1x0y6SfgtFiNL6uM/wft2lrzBPGntQAAAABJRU5ErkJggg==\n",
       "\" style=\"display:inline;vertical-align:middle;\" /></a></span><br>"
      ],
      "text/plain": [
       "conclusion_01: {t in NaturalPos} |- ((1 / 2^{(t + 1) / 2}) * (Sum_{k=0}^{2^{t + 1} - 1} (e^{2 * pi * i * phase * k} * |k〉_{t + 1}))) = (((1 / sqrt(2)) * (|0〉 + (e^{2 * pi * i * phase * 2^{t}} * |1〉))) otimes ((1 / 2^{t / 2}) * (Sum_{k=0}^{2^{t} - 1} (e^{2 * pi * i * phase * k} * |k〉_{t}))))"
      ]
     },
     "execution_count": 59,
     "metadata": {},
     "output_type": "execute_result"
    }
   ],
   "source": [
    "# now use that equality in our earlier work:\n",
    "conclusion_01 = distrib_equality.sub_right_side_into(summation_partition_11)"
   ]
  },
  {
   "cell_type": "code",
   "execution_count": 60,
   "metadata": {},
   "outputs": [
    {
     "data": {
      "text/html": [
       "<a class=\"ProveItLink\" href=\"../../../__pv_it/theorems/c40919cbb472e35cf40c5a304b53fd3717eed5ff0/expr.ipynb\"><img src=\"data:image/png;base64,iVBORw0KGgoAAAANSUhEUgAAAV4AAABLCAMAAAAPmR+0AAAANlBMVEX///+/v7+urq5UVFREREQy\n",
       "MjIQEBAiIiKYmJhmZmaqqqru7u7MzMyIiIi6urp2dnbc3NwAAAATlYGCAAAAAXRSTlMAQObYZgAA\n",
       "AAlwSFlzAAAOxAAADsQBlSsOGwAACDlJREFUeNrdXdeWtKwS9T9Izu//ssccKBC6oUf96mama9a2\n",
       "dQOVKJyuayjY3Ie+SRyVWU0j4eg+9G1iUV7TRASRt6FvFMLymgYiq64aoB1/Db3Gu6ymgSDcEM30\n",
       "e6Yv6vOaalHetENrysV7vJsXWU191IAboKW1CI02mMbsB8PP5LeneU2tX6uavCt6tLh8uDUZIVJp\n",
       "TZ9Jr/I6q6mdvLQFemTZedUJ3kX8pHgovV1P8prGA/gVmsmZXseZexG9Atha0db6Ii9boW2SxMfS\n",
       "23mc19RErb5vhVbpnPK59KJhxeU0FcKq1sIR7foDu6pfxT2bXuNtVlNj26tswwE9ZmvOvW72dp7k\n",
       "NRWrO/7gqqh4dEC7XinF5fvo7YEt6NtZBxZbCRJxXDSpD2jiR0kkRxZ7+9RcWQMGdDvrgBI5hS6i\n",
       "F/k3FnrD0BJnNV8L8V0FvSn0q8SDR/W+UYU1ZXrL6E2iXyUYLEHcalGKVNRbRK/w/T9ALwdpK29V\n",
       "d+ApK15EL28ZId4mDEwS1mra4FRSUUQv9uIfoFeBOFe1inxJKsQrope0TB9vEwniSekbueykjyyi\n",
       "N0Bjn5AKS8b+YAA9mCW+zbxxyWEqoTdECx/clnRGoyHfyCy1baMjtkCS1p3RVokKBTaOtrF6IhlZ\n",
       "ldAL0MjHrsciN8uOkc+60fGpYfsueuIRF6JjmvSecenU1sn8xBbsSEM09T7WiMFDRyxOz7hudHy6\n",
       "8lJ/uCbDwd1hEABNGpscvr7wXm0iAkHDksaIfYxWg3mIofj5kYP9uHWjY356OtvrBYG3y42/KLz3\n",
       "VLC+czpmOkJaQjIYDHNRTHO6jk7PjquaQU3XTwStd2LOj3R+YDgE60aH5NKxbmdto9cMl3XIqW1k\n",
       "kHZCEpeiV/aEJsgIi4EWrMJJc6L3PI6Flqz3NS01MXTv84myg65uqn/K4RmGH9pJO3u8hd7pF708\n",
       "o10+d0SLuBVcacE8QYZGIZm0i2iO9MrzjLdlng9X0RtDyyFQyF2TgyU9b3SoeS72nZquMH0c6Z1+\n",
       "GX2NmGmePjvPedwErrRsDjUkQwZuW4PQZtIc6RUqY78TIUlNVhtFm8E8ZMYWFExOGx3DrRsEjQOa\n",
       "J7AQu+k1NOrdF1rMRiIgA7MgB/YgK/ZnesMHxUWtaKSK3jjaDnGuvE5Clz9LRCjvwo0OrjtDIBMM\n",
       "KTRMa7ub3sGidBeuzZIkGUEkc0Wv1JzN9J46YYQtI0hX0avjNuO6HL3epyRUMILCjQ4sj85nn2gC\n",
       "e9LvE2rcIkXswvZiNLIwjVpIhiZhOgQi+pVe2wkyNnGFmcCBa04Pgs4EsSp6o+jR/F4N7tpRiegU\n",
       "vRZXrktbL5fIYbg5IdwcyNHQgMlCepWYEp6pM4YcFwIvyWl8Fb0pNEiOg+BiWZozui++g158Qq/w\n",
       "zoghUHYHMlZu1Pn2DKDXrPTKMUJZTC+fBm21cKiIoI9ya3le9Uk0vzS/GG0pyCjF1v9q7/p4ZzO9\n",
       "nBwsx0zGxo07O1cFCluTZh0mOdM7xWYCf2J8vf/f+WNc9ifkF+hzcpxeyctFlBdulDbbWoc7m2mh\n",
       "+BC4zWRs3Mgzvf8Bev/b6eV4jQhl5yzFVoXeMm17fVVlKI12V7nFMns7/6Ot+dnjD/dmNhswknHg\n",
       "JihwXM7eMcoYs3YzfcLik8A3Q2/mmEQarYnL08tnA+J+Qi8b+Bkp1gcyVm4G9lxAJqydrKvADI9i\n",
       "txLfOg5laVsmcsj46iTaXJa/1uMLkhJmNNU/oXcMT+RwG/ZAxjZHg8jhwrVNdtv2Ws/jsQXkZUWH\n",
       "a3pzxyRSaHW9Jvaok1OP9W+MwxRmaK7lTsaerDDSldM7RWd7tUKq8pIZvZ699Cu0JNeUGf/bY3Cg\n",
       "TruQsXIDjjnm6NXb/Q4ZpZVLTlNUlLliQuKv0Dg3tMT8Lb0LGSs3oOYgQElHnEo6ewym+BTtycIm\n",
       "qf4y6owfk8ih+6xT5fZP6V3JWLiBFTMG4hx2KkiCSaQLUyEUFg8d53ir7sePSVygZ3saW/onY6zI\n",
       "n9ILyGAoLD/iLqLRSf9cugcRboNMEYwt7bDikb0OFg3J2NnXoZ92n4S0gJukLqzx9V1O891AB5dB\n",
       "0xcT8h06GZIJ8plR/61E9tp4VvPdNwXLgkxWCU1RN8iIs+jEkVEJb1bc2JsGE64euOi+TUZpAp85\n",
       "1QiLj8aE6FhI5gSK1c/YfW3X8IACbJVr1DwX79Khs9IIfV3VBGjs8VEonQvlT+8Chq1yrZrnYtvm\n",
       "60FLcijhFaF5quLGnk3v79rTaSRKWItqLhtC0X/gaMW4CElW86UgOLOO+3y9+RT9QjHAQ5tWZ1c0\n",
       "cOrHmJurT9FvlB+evALjNIVMS8/BkKHrD8f9jYJAmIBadd2HfdjK7iUinPX5zbq4bxUK/BhtVtOj\n",
       "J+fvKB+FfodOdTRbqx98xEUCPybbHSq2J++0NH/i79CJUuOYhJrnntASoHIifLO3xZmqSwXoeEcz\n",
       "GR3kL94P9njT29WeWz2jox3Ncx8OeewRLUhAy6O8vCr/O6O3jma+vSyDLR179KkRsgLLV/mGb5Ks\n",
       "e/fGGR3taJ7pJc9934DIaqoWB2mFjnc0z8bhsec3Mclr6obPNELvHc1H4/Bs16bA4lWND0rXmZoD\n",
       "OtHRrMfA7Klv+IWvGUON+wRs1fUO6FRH85BW8Ie+4VeCuSU9av0V9jb0/Y7NZTX13yFvQ98d9PK8\n",
       "pr7wYO9D3zx55R9MFlG1IMRzE96sYWNZTZPUrb8PfWfY8Bfv9u6qc1b6zj0hAw6AmB/9DwNVdV31\n",
       "zv+sQE1e02ok3X3ouyyvudT8H7RKZFqZO0ngAAAAAElFTkSuQmCC\n",
       "\" style=\"display:inline;vertical-align:middle;\" /></a>"
      ],
      "text/plain": [
       "|psi_{t}〉 = ((1 / 2^{t / 2}) * (Sum_{k=0}^{2^{t} - 1} (e^{2 * pi * i * phase * k} * |k〉_{t})))"
      ]
     },
     "execution_count": 60,
     "metadata": {},
     "output_type": "execute_result"
    }
   ],
   "source": [
    "# Recall our inductive hypothesis:\n",
    "for item in defaults.assumptions:\n",
    "    if isinstance(item, Equals):\n",
    "        inductive_hypothesis = item\n",
    "inductive_hypothesis"
   ]
  },
  {
   "cell_type": "code",
   "execution_count": 61,
   "metadata": {},
   "outputs": [
    {
     "data": {
      "text/html": [
       "<strong id=\"conclusion_02\">conclusion_02:</strong> <span style=\"font-size:20px;\"><a class=\"ProveItLink\" href=\"../../../__pv_it/axioms/71c1fc00120f763c694cd99d32f7a5e7315b9ca50/expr.ipynb\"><img src=\"data:image/png;base64,iVBORw0KGgoAAAANSUhEUgAAADwAAAATBAMAAAA+KHOiAAAAMFBMVEX///8QEBCYmJjMzMwyMjKI\n",
       "iIhERERUVFS6urp2dnZmZmaqqqrc3NwiIiLu7u4AAAAqt126AAAAAXRSTlMAQObYZgAAAAlwSFlz\n",
       "AAAOxAAADsQBlSsOGwAAAOZJREFUKM9jYMANFjDgBQmkS/PdT/Nj4JSXwKWbbUM7A8N7uG6+O6jS\n",
       "7Hc4FRgYGbjS0sTSkhgYuP+hSW9j8GHghevmugARDrt71wEsfSjgCJI07wSwbEscTPeBYtYJcOn2\n",
       "/PQAIMXjBzf8ABtDBkL3frAgywGENPOCt2/hobYEIo1w2gEGbe5EOPcmmDS8CwQJUGn2B4XwUPoB\n",
       "pp4h6+YreAvjcX9geAByP7I0gykbjMflwG0ApFgD4IEK5LKawRUXPAXT3jABlg1w94I8nKQApp9n\n",
       "PADTzP5iQPIJRkx15kICFQUAALDXOQj7yj+HAAAAAElFTkSuQmCC\n",
       "\" style=\"display:inline;vertical-align:middle;\" /></a>, <a class=\"ProveItLink\" href=\"../../../__pv_it/theorems/c40919cbb472e35cf40c5a304b53fd3717eed5ff0/expr.ipynb\"><img src=\"data:image/png;base64,iVBORw0KGgoAAAANSUhEUgAAAV4AAABLCAMAAAAPmR+0AAAANlBMVEX///+/v7+urq5UVFREREQy\n",
       "MjIQEBAiIiKYmJhmZmaqqqru7u7MzMyIiIi6urp2dnbc3NwAAAATlYGCAAAAAXRSTlMAQObYZgAA\n",
       "AAlwSFlzAAAOxAAADsQBlSsOGwAACDlJREFUeNrdXdeWtKwS9T9Izu//ssccKBC6oUf96mama9a2\n",
       "dQOVKJyuayjY3Ie+SRyVWU0j4eg+9G1iUV7TRASRt6FvFMLymgYiq64aoB1/Db3Gu6ymgSDcEM30\n",
       "e6Yv6vOaalHetENrysV7vJsXWU191IAboKW1CI02mMbsB8PP5LeneU2tX6uavCt6tLh8uDUZIVJp\n",
       "TZ9Jr/I6q6mdvLQFemTZedUJ3kX8pHgovV1P8prGA/gVmsmZXseZexG9Atha0db6Ii9boW2SxMfS\n",
       "23mc19RErb5vhVbpnPK59KJhxeU0FcKq1sIR7foDu6pfxT2bXuNtVlNj26tswwE9ZmvOvW72dp7k\n",
       "NRWrO/7gqqh4dEC7XinF5fvo7YEt6NtZBxZbCRJxXDSpD2jiR0kkRxZ7+9RcWQMGdDvrgBI5hS6i\n",
       "F/k3FnrD0BJnNV8L8V0FvSn0q8SDR/W+UYU1ZXrL6E2iXyUYLEHcalGKVNRbRK/w/T9ALwdpK29V\n",
       "d+ApK15EL28ZId4mDEwS1mra4FRSUUQv9uIfoFeBOFe1inxJKsQrope0TB9vEwniSekbueykjyyi\n",
       "N0Bjn5AKS8b+YAA9mCW+zbxxyWEqoTdECx/clnRGoyHfyCy1baMjtkCS1p3RVokKBTaOtrF6IhlZ\n",
       "ldAL0MjHrsciN8uOkc+60fGpYfsueuIRF6JjmvSecenU1sn8xBbsSEM09T7WiMFDRyxOz7hudHy6\n",
       "8lJ/uCbDwd1hEABNGpscvr7wXm0iAkHDksaIfYxWg3mIofj5kYP9uHWjY356OtvrBYG3y42/KLz3\n",
       "VLC+czpmOkJaQjIYDHNRTHO6jk7PjquaQU3XTwStd2LOj3R+YDgE60aH5NKxbmdto9cMl3XIqW1k\n",
       "kHZCEpeiV/aEJsgIi4EWrMJJc6L3PI6Flqz3NS01MXTv84myg65uqn/K4RmGH9pJO3u8hd7pF708\n",
       "o10+d0SLuBVcacE8QYZGIZm0i2iO9MrzjLdlng9X0RtDyyFQyF2TgyU9b3SoeS72nZquMH0c6Z1+\n",
       "GX2NmGmePjvPedwErrRsDjUkQwZuW4PQZtIc6RUqY78TIUlNVhtFm8E8ZMYWFExOGx3DrRsEjQOa\n",
       "J7AQu+k1NOrdF1rMRiIgA7MgB/YgK/ZnesMHxUWtaKSK3jjaDnGuvE5Clz9LRCjvwo0OrjtDIBMM\n",
       "KTRMa7ub3sGidBeuzZIkGUEkc0Wv1JzN9J46YYQtI0hX0avjNuO6HL3epyRUMILCjQ4sj85nn2gC\n",
       "e9LvE2rcIkXswvZiNLIwjVpIhiZhOgQi+pVe2wkyNnGFmcCBa04Pgs4EsSp6o+jR/F4N7tpRiegU\n",
       "vRZXrktbL5fIYbg5IdwcyNHQgMlCepWYEp6pM4YcFwIvyWl8Fb0pNEiOg+BiWZozui++g158Qq/w\n",
       "zoghUHYHMlZu1Pn2DKDXrPTKMUJZTC+fBm21cKiIoI9ya3le9Uk0vzS/GG0pyCjF1v9q7/p4ZzO9\n",
       "nBwsx0zGxo07O1cFCluTZh0mOdM7xWYCf2J8vf/f+WNc9ifkF+hzcpxeyctFlBdulDbbWoc7m2mh\n",
       "+BC4zWRs3Mgzvf8Bev/b6eV4jQhl5yzFVoXeMm17fVVlKI12V7nFMns7/6Ot+dnjD/dmNhswknHg\n",
       "JihwXM7eMcoYs3YzfcLik8A3Q2/mmEQarYnL08tnA+J+Qi8b+Bkp1gcyVm4G9lxAJqydrKvADI9i\n",
       "txLfOg5laVsmcsj46iTaXJa/1uMLkhJmNNU/oXcMT+RwG/ZAxjZHg8jhwrVNdtv2Ws/jsQXkZUWH\n",
       "a3pzxyRSaHW9Jvaok1OP9W+MwxRmaK7lTsaerDDSldM7RWd7tUKq8pIZvZ699Cu0JNeUGf/bY3Cg\n",
       "TruQsXIDjjnm6NXb/Q4ZpZVLTlNUlLliQuKv0Dg3tMT8Lb0LGSs3oOYgQElHnEo6ewym+BTtycIm\n",
       "qf4y6owfk8ih+6xT5fZP6V3JWLiBFTMG4hx2KkiCSaQLUyEUFg8d53ir7sePSVygZ3saW/onY6zI\n",
       "n9ILyGAoLD/iLqLRSf9cugcRboNMEYwt7bDikb0OFg3J2NnXoZ92n4S0gJukLqzx9V1O891AB5dB\n",
       "0xcT8h06GZIJ8plR/61E9tp4VvPdNwXLgkxWCU1RN8iIs+jEkVEJb1bc2JsGE64euOi+TUZpAp85\n",
       "1QiLj8aE6FhI5gSK1c/YfW3X8IACbJVr1DwX79Khs9IIfV3VBGjs8VEonQvlT+8Chq1yrZrnYtvm\n",
       "60FLcijhFaF5quLGnk3v79rTaSRKWItqLhtC0X/gaMW4CElW86UgOLOO+3y9+RT9QjHAQ5tWZ1c0\n",
       "cOrHmJurT9FvlB+evALjNIVMS8/BkKHrD8f9jYJAmIBadd2HfdjK7iUinPX5zbq4bxUK/BhtVtOj\n",
       "J+fvKB+FfodOdTRbqx98xEUCPybbHSq2J++0NH/i79CJUuOYhJrnntASoHIifLO3xZmqSwXoeEcz\n",
       "GR3kL94P9njT29WeWz2jox3Ncx8OeewRLUhAy6O8vCr/O6O3jma+vSyDLR179KkRsgLLV/mGb5Ks\n",
       "e/fGGR3taJ7pJc9934DIaqoWB2mFjnc0z8bhsec3Mclr6obPNELvHc1H4/Bs16bA4lWND0rXmZoD\n",
       "OtHRrMfA7Klv+IWvGUON+wRs1fUO6FRH85BW8Ie+4VeCuSU9av0V9jb0/Y7NZTX13yFvQ98d9PK8\n",
       "pr7wYO9D3zx55R9MFlG1IMRzE96sYWNZTZPUrb8PfWfY8Bfv9u6qc1b6zj0hAw6AmB/9DwNVdV31\n",
       "zv+sQE1e02ok3X3ouyyvudT8H7RKZFqZO0ngAAAAAElFTkSuQmCC\n",
       "\" style=\"display:inline;vertical-align:middle;\" /></a> <a class=\"ProveItLink\" href=\"../../../__pv_it/_proof__psi_t_var_formula/8a268f2bae86d10933bc760592d53f686f02bd2a0/proof.ipynb\" style=\"text-decoration: none\">&nbsp;&#x22A2;&nbsp;&nbsp;</a><a class=\"ProveItLink\" href=\"../../../__pv_it/_proof__psi_t_var_formula/97d29d79e4f6a6b38709b5020e2d725e8fab2b360/expr.ipynb\"><img src=\"data:image/png;base64,iVBORw0KGgoAAAANSUhEUgAAAusAAABMBAMAAAAmUeRxAAAAMFBMVEX////c3Nx2dnZERESIiIgi\n",
       "IiLMzMyYmJju7u4QEBCqqqpUVFRmZma6uroyMjIAAADVePneAAAAAXRSTlMAQObYZgAAAAlwSFlz\n",
       "AAAOxAAADsQBlSsOGwAAD2FJREFUeNrdXQ1sW8UdPzvPzy/+LhUMWLd4XdkQUBpWjY9NUwPic4Ml\n",
       "mqhWSkcyBkiFChuNjyEEeRQ61FGaQEGUjykeKtpgiHhjY6smLd6gQCGlYWKaYNJiYFML20gastQN\n",
       "bb37fnfv3bPPiR1Lvqo92/ez73+/u/vf//+/u1cAUPov0EqasPqkwBr26lgbtGSK5esJq1c6lb0I\n",
       "5luT9mfsesLqldqz7NWjLcm69Wg9YXVL8QPs1XiqFWmPFmuCLUHzHinfsxss1wu85s5WpD0zVhPs\n",
       "ZqTm4d/r1zRYro4cW11nW5H2j2uCGetyhHbQaNrbetirr7Yg65Ej2jBr6R9s0AM8tN9XbIRg5jSf\n",
       "aF2tR3uiRxsWA7EeqwiCo7tG9wi0m+f3NESyc/i4H2xB1d6lDUuOBWYihaxntEcaQ/swU+6RFlTu\n",
       "I7Y2LGwHZgKvpgjt1zyUazDtSa67jrae1f5JLbAgITjm0vuNoT06w/u8r9VoD8/WAruWTI3ggtAe\n",
       "n+IOU7rVaG8r1QBzu0g/WAlTqlG0g0Nc3fiuqWe68qame2xtyIAeZQS2BCxSGpcNon0V0y1tM356\n",
       "KCvnzU3mGm1If1rrmxgWOPO61xaS9m4mmzHlg/i1K9dpeQPT09qQESk0cP+bPjoHw9rL5UlFWeD0\n",
       "qcb4Mxlmypg+pky4KOf+8i9M0ohRU8iQ/KnhI/ZQM1qR5MKU1VrzhJSc+8u/QOm7mhDrf1q0u2EL\n",
       "5EDzuMWEOlx3uStvOu0aexIYEvlEi/bIJ81oRIxHZfYqtVh4UM595X+9cj2vz8Pt2Y+zrZTuRKH6\n",
       "WEKQ2JQW7bGppvgUvLP7lSH39rSc+8lfZTtyXruVxJNhK7mzN+PvjSBIYlaL9kRToiImN9wzSsO9\n",
       "25ZzP/nvqlzNXVrCBNQDOUz67A769t/VfwhB2me0aG+faUrgoszdBpUFBa505T7ym9srd+52vann\n",
       "Y619jXgWOfJuuLpyR5BkSYt2EZYoC6mrobyXmb+UVHW7OSPnfvInKocWEnqRhwt8VoDNmGiL9t1A\n",
       "dUIQpGNSi3YRFinTZt799s5y9Uj4rfOgvZeOIRBSKbnooJz7yV9lBKqLw32uD0KVV4Y3qD9d3XNE\n",
       "kOEeLdol2IhjTd4i0RHGZh7eg3LSQyLiFq3ZwQOcEwyemFZpvryc+8n/ncq1seKNp/5esVzzoq1+\n",
       "Op+soh3EdQhXX1MRpLuoRbsEC5Wddr4kop6jpMV8u7xda7s8wOyWEdb2qMqSymTl3Ed+s7Ipz4sL\n",
       "YJcfBhU9F/Yp/AoZw0RU62D1FQtCVrgss6C6tySYWXZ+OyacYbFI36A9KL8qO4TX7JumF3YzM9dZ\n",
       "/8Y+VY2FlJz7yI/Pe6R86+LHQY6Ajj4fsVHRkpucYUFzAr9d8h2ekAeQ1MGAQ0ZkmzW68+jvlCEZ\n",
       "CdZddhoqjLQ28hrtQcHsWLjgItg+groRn276YeA8Dl/OvuZtbIhqqRVskgVVQZlzXLmP/MmsU5mi\n",
       "riRrwY8w7YHechlb1ujjMDA/zPIip2/pnCXRZnKwhJ0qkU85BMXZzSqHkFUFnVnvgrWVlVrkBF4Z\n",
       "LLZe+wzZDEG0x1OBX92I3vzmxM0pgfZ7HkFLtFcEg/byClZPUBWc2ObK/QJqKVJZcNmfVHVlnCF0\n",
       "Evy75e4sVheY9rfAZ48r8iKJTOQgEaUaIr+5joqsop0sUaxyCJnQo12GWUOHVaA/O56blbbAuRsh\n",
       "Mg1p3wgMEIR/4PuHc6Y02v+DXnj70KL6tpvZKMYhhY48LOd+qZ9W9hHYlFLU1e8ogTVQRNs4HtK+\n",
       "EdIOZe8CaZCGuSueDMnEoU5i3MRIx7xJf25MQTtdono4pFfPaHXBxss5pQakCu1sYD4IQOcGgPJ9\n",
       "YH3KACdC6tenAodfARLteGae4v2pfVRAZreGy4q1cFrO/dIfSWXhHhDsdOr6m1SM02IbigjaTDjE\n",
       "1qcSWSh7VyAHulBbFttuMtHaHcQsGETIbjp5qPF13tJlNqPdop+dwiFDerS7YMHy9gomAdmDCnT+\n",
       "nTMYhePmWcRe518DIu1x/JXF3t96SYN2doyj2nGOJ0hlbXkQKTl17ZCKifcfQPpmcTzPlUzeAJGc\n",
       "U+SmnVhcEWJADBPNPUD0wjU2sC5jtEeoUqeVQ8iQnpvphk0oljgDafSd69geVKzrHU57+MX8BtRx\n",
       "0a5rgyLtQaxEEt4TvZdQd2GSu2gK+3dGzv3SFKksWQDmrFPXDqn4/kcKYPF1G9CYfjk+yGm/4wYT\n",
       "a05a5KYdvIeHG+n2DFEASdxp5hnwn3vGKO2szbRyCBnS24R0wzaXvbMEHQnevPb2PN2DStjEHsH6\n",
       "4vlD38BrcSp6q0h7Ih85zQYR72+N29VpNw7IuV86SCqDY8w86NS1Qyy2Hvn5E2CojCvZT85dYdoj\n",
       "E9swb7TIQ/tTgqk+QChK4hkQC6aAVTgZIe99FdJ+AWlFmkHKerS7YTxAINo3sMLfgkBJN460HIn6\n",
       "7AlZ1ZqaIdNynNEep82OrcYJj6ggrSlY2R0ilt1y0JHGq0CPi3ZcHO0BHcoQwc3Kn+S0kzWVrC1J\n",
       "0sR2vMCeC74AtsCFGSLTz4D7WIy0h0GUa6OCdjds7yGPmIk8HjpnKeMQOSXtw5/L3Qgn3h5B0Vg4\n",
       "DNtBLIBMiXtoXlZiJTn380IF2qdwXRLtuBja7m1Z//CiL+2xMa6mQJIM5RCmNg+C3y/AJS04ZuZ2\n",
       "gZtAO1FIexjkNtKcsiLhmUP9ldvcrQ55Y4/QfjXh15QbIiHp+9ZRSvtuonJugBURHxyuRXg+DhDa\n",
       "72NcWLcp3MtJKfcTPn6EKpk0iE/jugDYtXr1Y6tXX8mLM/AbStvCcw4B/yan3cTTjhiwSbKWhgap\n",
       "xfgG0unBMQs8DN/FgDUJaOUIUq4cJKGugBcW8PovcLSbs4sWHa8xedZR2q8axcoEqsjnUY7VIj7R\n",
       "QJ3CiqPdRbuf8Gy0Q1qQzfOUarRnfrZoka017fFvctqJslbQXgCBpX2QbIiE5lMa3AsiRbYWYNrn\n",
       "qGSMB1W0g+kaorrLgTUbx0vEe+CYq74k0U5dRw/tom6vUcnApSdcosaHR8nUtm3AaSeqUdLtRMkU\n",
       "wDHgMkJ7rAiN/4sDJ73fxyqHkLnSPt6njCnttuXoT2XawyVr1iDm70fyaKeWTGaS065o/IGK0Ts+\n",
       "L6klEx5E/iQPbu4Qi2PbnchcLbQvdkwlFtshS+r1ZhoYY+9i2jvDdnwMJHI8sgohsmWI9wvTwO2V\n",
       "eQ1IU+GiGHB6bXr07cv1aY8WrZkgcfZKMu23A7UlI9U3I+d+cdZpqtHWgs191LEUaMfF1hV3XtBV\n",
       "G+24s08RgmD0qhUJ/ht/gf98M42Q8QeD4E7YKzbzahFE5hPbeZB68+kqtG9WCIldzl1Hu/Rph/bN\n",
       "pRdjMwy6KLGVK7etPIvS/oYG7T7u0tV4SRX0/ZOU9i3LXhT2iHZIxbHef9amZEioEysUkwRF6JU6\n",
       "quKRu3S/jTvohi+eD2fSO9zeRJBeiU+8X1jwWB7ABaMhLHf6aU0Kkgd+USDPyP9YGu37NGhnl65c\n",
       "l688Z38/ECt7zkP7B6DmxMK5JKQYIWsL3RscIBZR+EJwTZYir0cffMvqY5VDyIQ0OEPAh3YZhj2j\n",
       "ChHIGmk/A0USThZpZxHIYRaBjCgikOZBOafvPKLtFis7wxMK2z132ttSLMzthIZZKOwn5/+CIS9G\n",
       "718O2qxyCFklmatbAThtdN3omId2GQZ2OcXCWrt+brSjTSnz1T5K+zETy/jhE9DPfMqwKt5+2JWT\n",
       "hd1jEffbTmVWESiL50Y72V5tI8J+nY6UnAeJudtwK68cQkakQDreL1SNdhkWdqzHsFBLNDcn2g2u\n",
       "wPhADbHtOsaSodpdusqV4/R5AJa8KSmagZxTmeH1RQdyc6b9ItGEoXOuO+VBdrkaCiFst5KIivcL\n",
       "0ZJ6iSsGvjfvYz0+I9oMxZqEv5D1Fv+k4A6F8C3coOoM5k5XjtMeZKatkPbSCk5lUUXcolAz7QZt\n",
       "PyGFPBKBHcMbUSKlykd4w0RRVWJIW9jCZfQt0gR/CtQnceN6L5MlptpBYupBVBOw66Mp0C4e3wlX\n",
       "PssTnu+l19PJwKBjblv1L0BIP0GLoqqCE/1FlfUY+KUciAyP1Yf2GONxFaupTeX+0gg3z/FXc6C9\n",
       "BKKiB2VVvmZuHZmntI8TY5wIEajupyPIOCGbiJoUYklyoGNcHBITH+P0rysgrEHXZ1hNjFDl0VfV\n",
       "8aRNOIobnfEOxyqjdc7JINTQjRnN40n0lJ1HVFcSD+PFxEhfY69qDTHVqDz6GhuUc5S+TJZkadC0\n",
       "91WspEpxtUSH+eOAEVktIUiS9w4T9d1LFaoieQA0I/G4Y1IV7oofkfIIkrtHMp7p8Kq81IeL85Lx\n",
       "22TM0x/RCKohSIhrNibqoKUIpIaONIP1AHeSOgZ948c8vwS23CCNuFLG7atczb55yUiMaXZ7SsML\n",
       "QJAod/GYqClT0cTowWbQHufW+ngRVDNlzI0z/OSKy1PdVDm6uGk+D8XahHWMtdbFYoWEIAazzBxR\n",
       "2xRKxjjcDNqd66jdaaVaTYu59Skz+O9wj8j9lQfs/nnISPYw2Zag7iUaPqAcUV+pOO4WMkW5/TKi\n",
       "dCXDJSnfmyKbcJG0+7L4cZXrOW7uIlpkjD7Ahmz1a1AYwu6pOKIGbcWqYJWbQXuIL6S9apX5vpR3\n",
       "FMgm29U0+tSENG5rQnqJYnNEnVDa4r2C/hPuBiw9r5GNGGCrjHVIDVifEvO2UgI1KbBudLSnSbSv\n",
       "1YWswFqpqqgrBAPduRsQ7oo38mGBw2zKRj71Uf6dYh6fxgHtEHQnis1hXf/y+3heS9Rx4Qc7RE+j\n",
       "kQY91+hRv2OO8qMePnwPNDf9QxvSPqnniwkw525Ah828s8Y4qarapZTIiflwk58GbO7XhsT0bpyK\n",
       "MHQ34CX0AJ9sxtZ5uMGcW8FVS8aXT+kxPokmP5V2q60Nietdaxdhzt0ASPvDDTTbuWrpzoFWS4/V\n",
       "ChPuBkAl08Bb8QnuLn/YcqyD7rEaYfhuAFEyjV1SM8w1Nadaj/ZkvkaYcDfA6Io3cBXjT6iMllqP\n",
       "9mCpRph4N2DppXbDBLP4ijrQgv9fgTVVT1g9V1Suv7pb8bn53XY9YfVL7QX26skWZB2E0vWENWA4\n",
       "GKVWpD1yoJ6w+ik/vrMykG1F2uWnZMwbVq/k/I8cL7Qk6yCUrSesXukdpmPi21uTds2HZZkL2/zv\n",
       "8e4ea03awVt1hdVJtXOyH2g9wv8Pz5PXUyN7VaUAAAAASUVORK5CYII=\n",
       "\" style=\"display:inline;vertical-align:middle;\" /></a></span><br>"
      ],
      "text/plain": [
       "conclusion_02: {t in NaturalPos, |psi_{t}〉 = ((1 / 2^{t / 2}) * (Sum_{k=0}^{2^{t} - 1} (e^{2 * pi * i * phase * k} * |k〉_{t})))} |- ((1 / 2^{(t + 1) / 2}) * (Sum_{k=0}^{2^{t + 1} - 1} (e^{2 * pi * i * phase * k} * |k〉_{t + 1}))) = (((1 / sqrt(2)) * (|0〉 + (e^{2 * pi * i * phase * 2^{t}} * |1〉))) otimes |psi_{t}〉)"
      ]
     },
     "execution_count": 61,
     "metadata": {},
     "output_type": "execute_result"
    }
   ],
   "source": [
    "# use the inductive hypothesis:\n",
    "conclusion_02 = inductive_hypothesis.sub_left_side_into(conclusion_01)"
   ]
  },
  {
   "cell_type": "markdown",
   "metadata": {},
   "source": [
    "The RHS of conclusion_02 above should be equal to $|\\psi_{t+1}\\rangle$. Let's see how to get there. Ideally we could use the next three cells to show the rhs of the equality in `conclusion_2` is equal to $|\\psi_{t+1}\\rangle$"
   ]
  },
  {
   "cell_type": "code",
   "execution_count": 62,
   "metadata": {},
   "outputs": [
    {
     "data": {
      "text/html": [
       "<span style=\"font-size:20px;\"> <a class=\"ProveItLink\" href=\"../../axioms.ipynb#_psi_t_def\" style=\"text-decoration: none\">&nbsp;&#x22A2;&nbsp;&nbsp;</a><a class=\"ProveItLink\" href=\"../../../__pv_it/axioms/7edbcd9ff02ef8603d25ac7f0d4b4ed9995a6a7a0/expr.ipynb\"><img src=\"data:image/png;base64,iVBORw0KGgoAAAANSUhEUgAABKsAAAAyBAMAAABhdkUjAAAAMFBMVEX///+IiIgiIiIQEBB2dnbu\n",
       "7u5ERETMzMzc3NwyMjK6urpmZmaYmJiqqqpUVFQAAAB6qHgnAAAAAXRSTlMAQObYZgAAAAlwSFlz\n",
       "AAAOxAAADsQBlSsOGwAADjNJREFUeNrVnXuMHLUZwL99zM7s8xYoj0aEXI9GAl2BKy2QqAUWFF5p\n",
       "4SYhoqUU7tQWqKC0S0OhCJHbFhpAUbmtICgSAVZq/2glqizQiibH4xCqePzB7UEqyqPNqhToS5C0\n",
       "XBNCwtUztmfsGY/H++jdjBH2Zu3x/uzP8/nzZ88cgELIVKGTYldDlIJ2ZVBOXDh7k8oCYdP0ElP5\n",
       "0n91VKw0HSlxwfcDGhoXzh6lslDYJNWXq15YqnRU7K/RkhYUB8Xfx4WzN6ksGDZNX1a98IWOihXq\n",
       "9Av1gfv/DRcJv40LZ7hUFpn/Ij5Nt9UuM1Z0VOy2Gvniiu1z0RBXUjjbxYUzVCqLzU+xafoZxcvK\n",
       "HRX7lPNNIiLiKp4i+jYunOFSWWR+ik3TV9RsxGehk2KFkciJC+4XzYEx4VSQymLz38+n2abSVZ+H\n",
       "ToqlKiHNfVJezZP9aOilphujsK3mLxIXTgWpCPnzLenlIdkq2NpmDzZJc/tU6lC8F2ixZWZIc+UW\n",
       "Xb7dD3FhI9YxZbOCSuPCqSAVIf9T8uuf6h3bcS1QbJo+qDSJq7WVFjsxpLkv9GPVaVA9uzFgHn+J\n",
       "idGsLwBZUM7c7I5uORWkIuJ317khy2Ap/tKjZNiFNo9N010qxtWEmjOXFNP3ypury81SXc1qLRB7\n",
       "VX85oAWZlhsjdb3H/0MLypmCsS45VaQi4l8vF+16JbM6a2Zl2HAdj03TMZU13ltq7STFSiPy5mYr\n",
       "8oYIswvekX0otWySAd2jneLGKHzDV2BhOQ1Y3yWnilRE/PfKLxdnP+f598WQMiXYcLHJY5M0M6jQ\n",
       "gDPU2kmKpUKUc4iCpNnrLnpbbF7jrCSEDCtiO1ALYsZnCy8wJ1zTJaeKVAT8IdOpk83zs4szbdV7\n",
       "5o8hWZVhUwOTYpO0oGCz6wfUrDhSbGJaLq5Py6uh2U14NKiIlXUpwKapqalG8LCarLkxUsvTvklk\n",
       "YTnz1S45VaQi4E/Kla2THcyfh/wg0lY1Gbaxj8cmqaYwZBJKy0Wn2LKatLm6/C5ysvfDZJAgrKw3\n",
       "CmHaKlNxY143LQrnOYkuOVWkIuCfkCtbJzuYf6Bh7M1CVooN3+KxaaowwWVGsHHAdmpgMYBvMt+l\n",
       "/SOyNI6iWmA1drYVfm831zhpft6qI2vdBQXQ75kmWZueJ1UcdqF7MVct9nZSn6d/tl9Yzuz8v7vk\n",
       "lEolmP8dkPK/A0L+rdZX03DzFy0k09hrLH1eik19shSbpgomYsruwXSDbVM1qBjAqUzfv/Wh7+zG\n",
       "gNXhqwOrGXAngbPR/5d9ddq+K2xx/RLuvqPuZAkCV61x0I0R/m5v4bhwSqUSzH8ApPzMLMXyW8Mq\n",
       "VzP+djOGGQzDhskWh03TUQBbb70Z3ICxJjOs8Mqx2AwqBtpHIeviGgZMn/U7UTUTNcbjtg7MxE9Q\n",
       "c9chcWkV9NsVqKA0cMN+NfbQkWqHmRgK+71LmZhwyqUSPEnvAxm/vg/8/Ah5K/qcgDT6bx34zn+J\n",
       "sJNNDpumMw2w/XRbJB1cZoYVMQEGg4qBHuJ5mSGAD8DamqCaGefTRhPW1yCjI+71tey0vgLKRgvK\n",
       "KA10ga4G7Z8PmZRuOxP7seLCKZdKsL9st5S/sFvAj5C3os8J+CkaWug748pw7Hydw6YpottgqbRx\n",
       "yVK65Q4rjTTmwqBiUDwo746/Y8DCIKTH3Woe5rJtJds0LIWwMdd2Jpd2AootN0usBawtGVztMiZ2\n",
       "lNMnVp1lxoEzsWrV4aJLHf5d8i29Ul3KX6qL+a1JsITU7Z+sf2yCO0OxE7s5bJoiXZpFJdMSyJmq\n",
       "O6yKZJbeGFQMCnsV3C2rIdO2XCdONbM+b8zGm26x+u+R3Igjrpc26L9hsoLFhavdVXVjgI/t+HoT\n",
       "tCUx4NTRmFrT8F/p8s/Itz7wkiyQ311w8vzWsCq8277FmpSMq2/6bSh2cS+L7aQDbSigrshKCPFK\n",
       "HA+rNPUx1wKKhbojPsCAA0jnHnSrmeWyrzi5CWfOz1sfN8NyR1zFh061IUhWsLhwtRMtNwb4ry2t\n",
       "b6PokkbkOeFGlKP5HagM/zK533SgIuXH2X5+eyX42n/sX07Nz+8OxdYPsthOOoBmv5OHhmRHX0ZN\n",
       "MqzWPIGG1aF4CqkEFIN0yGYpWaEgLakfcKuZZbO1k98U+z2eCbE3aLtxtdg1Rx11K21LIF0DrXlO\n",
       "5DmheT5anaV9uo7hH5X7pfBKNZDfzg7iL5TVsanjcyVwaQpNso8D+B8lcsfN03RYVV6Br9PjJLbZ\n",
       "lh+yQ5spBnm5uPC6dDVMVmzzbtDTXDu7NAiTwk67TlFcuNqBshsDDFnRUXA+XGYvcqLNmaila1pT\n",
       "8927DP/T8mGFF/6B/HZ2EH+mpY4NexhsN02iIneD0RbsPNDwPtZCDb31KDwPKbxq9B/zeJ8Yg3LH\n",
       "i86I6wO3mlk2G91KGeEexnJVce1wFf0Akc2xVtSG9A+byCaNOiciPG8Tcf2wgeF/P2Sh2JLy29lB\n",
       "/ElTHRtbAwTbTZPIUsuYluFE5l9jeDU82xYNKw0+i3RYHjRLIBtChtXAPBus78bsxUduP1HOFcjt\n",
       "IdU8OjT0uaGhE53sCXRFBToKY3Wu3Xa1A003Ju2t2FukaSmn9uHic6bxJm5FMIVQftLdHP68+xPb\n",
       "GlJ+O1udH/eJCBs+ChxWxbJlsVvnga5/5xr4c9rMm+ywciZBtKSowBooWtw7fT8dNglixxnVAgjK\n",
       "WuLvFGmBiT/eeWeHD2Liyp127/SLawirYGNVFd0Z0klwePE5EeHt57EycKYQhz9wEsQ/QbVVAL+d\n",
       "3QH/cBA2HVaCSRDqlo35GmrN45a/vdxMw5emhqfo+naUrgTzdaMFhxtn31sl7lPOtsLFRNtToskl\n",
       "Mw6FOdcLy08uZeguOO3e4rdZVmKx3A5LsFgizZkHo5JoiIaVwz9aU5oEA/jxJFjuHZvaVgKTHS7c\n",
       "jO6O48+Do61vXn39R2nOtlpG/Vb58YKZa0C2JXSf4mKQkPuDDLLCKoxYDlqnmlk2O3+Ks63ZXbtx\n",
       "tXgxRDfv7DXPrXoFEo1fR55Tb90AsCTnM50Z/mVyv9XktJTfzu6UX4RNNxfP4P15tl/sNit6ADS7\n",
       "+Kvpy3/BDSvHHZpbkYYXUX1i96nYHao7NguZpfcQwBPg4qpbzSybrR374qHlbsVl3cW42kkmJso6\n",
       "YbVsaSXynLAEMSZ2EkvJtmzsiOH3uENv8PDjY7+B/HZ2p/wibLpFTndYSWrPkCULcQ5y9vh7FZpH\n",
       "cMNqV4O6Qzecewiq9efW3CnYvMGTZpHfK/Vtnn+BAF521rtMNbNcdv6kn3U7ubx35oPTpNqJhhuD\n",
       "hlcsljvxCjP6nBnLHfo2tZSGHfPG5d/F++C9775JNaX8OLtDfhG2vp/FdtIxuhTIjUDhvquuug4N\n",
       "q3VZzm+Fj1HaXvZbrU/HaFV4QzCbY6XoOUt6o7fYfXTcW+ENn7jugx4CXy0+FkwOB5M90MKRcH0c\n",
       "OOGZqn60yFPp8E9wrgHda5Rkx6X82fE+YZPDy4KtZhwS7a/oFaytcrO8w9Y9GGPvfj6SNu27xuvX\n",
       "bfLqEId/eIs9xgI61TzMZfcqLlzt2Uzs7CxffsgfIA6c2uxS4SLN4R/g7PlSw+uPH5Hy50f6hE2O\n",
       "ZFFsmjob4fnyOdjXjqynY/gVa90ZVva4u+U50AQPmSXJd8dzlm8dNm3nFPSM6QIKqpkxexcXqfa7\n",
       "TCzYAowLZ5AfgWO6Czz8hTmQ8Rfm+oSdaXPYvpPn+hNV2IgMDP34GnbjunfCiDOsHNUmcM7SB6S4\n",
       "x7/yDbRsGGVvpbGWCyioZqzVu7gS7BrlQJDzPy6cAaHE6Zsd4OHXDoKMXzvYJ2yyHqTYNOX2ALRz\n",
       "rxI8doRHdoK1aUsQVMxzH18KpRqk2B7IWMr7yMBqMs0exMVVi18EQF8HkBqX6psIcwYETt8gBeLl\n",
       "vxak/Nf2B5u+dYFi0/TU8Np0tZFNi02w9/GTkJqDEqvYC/JZvTACfQrpuhuj5XBZ7DCMPqeKVPIt\n",
       "H3/IW36e7Q82XMBjk9RQOePa/eOn2qC1TV5iXUSa/LC2tr9f4kq13Djs8dMoc6pIZS34+Mca0qtD\n",
       "slWx4XQeu4PHT1VXPY/5Fxlpe+ZNcvbCBfJaLuiXuA5jYoC/+PLjwqkilS+Djz9dV1E2vWInRnhs\n",
       "kpYGFWrYpjaySbEcuY9fd7ym/Gn+VMhp2X69FPp09m4Cv1aOC2dIdxetZFDAf5r88tP6gk2V7B4e\n",
       "X2m3MalmntJi+EmfhLXpeIj98UTeKunHC3LCQ6LuxuIFdVw45d19GLoyURbw9+U9SiHY8EkeW7hs\n",
       "U1p0hBfDdf5gtErPkHoWN1vl1Wztj7jw+2bpW2dFr+iKC6e0u/V1e6my9fBnp6WXh2SrYdO34lJs\n",
       "wSvOJKGrlzyOtcmh6Jc8xdbKrdK1tX5ISzvBjUH6ksfIc8q7W/uYnp338GvHyX/4uN6xYW2Lx+7o\n",
       "JY+qLmVSjGit/D58erVY8TxuZmyW1hKSrRgy024Mjg9bpF0jzxnS3U/X8CFnH/9dcqndZfaMDd/x\n",
       "YJM0o6ZzQ94g5i2G38hlfIRPEd5AthLdcIe8mjv6Ia6vMTG6fYTTeFw45d092cRPwvj4Dfmiwqj2\n",
       "jK01eGyablMbsfqKjoqtx6rwe6Z1PxvDU1ODsMghKdxqiQunvLszc9bzw4vKT7FpeoLidUd0VCyB\n",
       "bcdtS621SnJ+fr6+2OIS/9GPuHDKuzu3xz6ospj8Xf5xku7+lFJ2ZQ2iEXIB/R0XTnl337MlItg0\n",
       "/ZXylQ90VCxrK8PixxGRFtwcMNfHhVPe3bvaEcEmqa6+lunqz1RuiYi0tMB2xoVT2t3ZWjSwaYr/\n",
       "wsT/ALJ3+9MsJVnBAAAAAElFTkSuQmCC\n",
       "\" style=\"display:inline;vertical-align:middle;\" /></a></span>"
      ],
      "text/plain": [
       "|- forall_{t in NaturalPos} (|psi_{t}〉 = (((1 / sqrt(2)) * (|0〉 + (e^{2 * pi * i * phase * 2^{t - 1}} * |1〉))) otimes  ((1 / sqrt(2)) * (|0〉 + (e^{2 * pi * i * phase * 2^{t - 2}} * |1〉))) otimes  ... otimes  ((1 / sqrt(2)) * (|0〉 + (e^{2 * pi * i * phase * 2^{0}} * |1〉)))))"
      ]
     },
     "execution_count": 62,
     "metadata": {},
     "output_type": "execute_result"
    }
   ],
   "source": [
    "# reminder\n",
    "_psi_t_def"
   ]
  },
  {
   "cell_type": "code",
   "execution_count": null,
   "metadata": {},
   "outputs": [],
   "source": []
  },
  {
   "cell_type": "code",
   "execution_count": null,
   "metadata": {},
   "outputs": [],
   "source": []
  },
  {
   "cell_type": "code",
   "execution_count": 63,
   "metadata": {},
   "outputs": [],
   "source": [
    "# from proveit.numbers import Add, Neg, one, NaturalPos\n",
    "# from proveit import t, defaults\n",
    "# from proveit.logic import InSet\n",
    "# defaults.assumptions = [InSet(t, NaturalPos)]\n",
    "# %begin\n",
    "# Add(Neg(Add(t, one)), one)#.simplification()"
   ]
  },
  {
   "cell_type": "code",
   "execution_count": 64,
   "metadata": {},
   "outputs": [],
   "source": [
    "# Add(Neg(Add(t, one)), one).simplification()"
   ]
  },
  {
   "cell_type": "code",
   "execution_count": null,
   "metadata": {},
   "outputs": [],
   "source": []
  },
  {
   "cell_type": "code",
   "execution_count": 65,
   "metadata": {},
   "outputs": [
    {
     "data": {
      "text/html": [
       "<strong id=\"psi_t_plus_one_as_tensor_prod\">psi_t_plus_one_as_tensor_prod:</strong> <span style=\"font-size:20px;\"><a class=\"ProveItLink\" href=\"../../../__pv_it/axioms/71c1fc00120f763c694cd99d32f7a5e7315b9ca50/expr.ipynb\"><img src=\"data:image/png;base64,iVBORw0KGgoAAAANSUhEUgAAADwAAAATBAMAAAA+KHOiAAAAMFBMVEX///8QEBCYmJjMzMwyMjKI\n",
       "iIhERERUVFS6urp2dnZmZmaqqqrc3NwiIiLu7u4AAAAqt126AAAAAXRSTlMAQObYZgAAAAlwSFlz\n",
       "AAAOxAAADsQBlSsOGwAAAOZJREFUKM9jYMANFjDgBQmkS/PdT/Nj4JSXwKWbbUM7A8N7uG6+O6jS\n",
       "7Hc4FRgYGbjS0sTSkhgYuP+hSW9j8GHghevmugARDrt71wEsfSjgCJI07wSwbEscTPeBYtYJcOn2\n",
       "/PQAIMXjBzf8ABtDBkL3frAgywGENPOCt2/hobYEIo1w2gEGbe5EOPcmmDS8CwQJUGn2B4XwUPoB\n",
       "pp4h6+YreAvjcX9geAByP7I0gykbjMflwG0ApFgD4IEK5LKawRUXPAXT3jABlg1w94I8nKQApp9n\n",
       "PADTzP5iQPIJRkx15kICFQUAALDXOQj7yj+HAAAAAElFTkSuQmCC\n",
       "\" style=\"display:inline;vertical-align:middle;\" /></a> <a class=\"ProveItLink\" href=\"../../../__pv_it/_proof__psi_t_var_formula/1709b9225094eb643113ff4ac68a3dc4231a13e30/proof.ipynb\" style=\"text-decoration: none\">&nbsp;&#x22A2;&nbsp;&nbsp;</a><a class=\"ProveItLink\" href=\"../../../__pv_it/_proof__psi_t_var_formula/b6f8dbaa68fdf98b7d1ed90c5c0df8e6d02f6ae60/expr.ipynb\"><img src=\"data:image/png;base64,iVBORw0KGgoAAAANSUhEUgAABFEAAAAyBAMAAABmGFlzAAAAMFBMVEX///9UVFREREQyMjIQEBAi\n",
       "IiKYmJhmZmaqqqru7u7MzMyIiIi6urp2dnbc3NwAAACKehgKAAAAAXRSTlMAQObYZgAAAAlwSFlz\n",
       "AAAOxAAADsQBlSsOGwAADTVJREFUeNrNnX2sVEcVwA+7vN13d9/etzVY08aWJ7FUsdaHMUZipK9U\n",
       "GktCeaSlQJqUNeAftUa2pRQb0W7S1vqFXAqExoqsLQ1Yom/VliJFWNP+YaKGVaOh8CgbEGv/gEeD\n",
       "4Rue83U/Zu7M3Lnv695DOtPc2Tv7OzPnzpw5M3sfQDyZQbNMHVIgzzuKgnTgRXNCqvld7Nj4WCZV\n",
       "aH59KnqgsFRRcH2qDEXNCanmd7Fj42O5iRlMKx1d8KzCnlvpshQVp/J5TFnzPhv/1lwvzZeP/HEZ\n",
       "UymVpZfTghfFqRKf/xUnDdgx8bH8u00y+173woZVFxPtggdkF9ODp+dUicdvfeQOJxXYD8S+80Ga\n",
       "dTS8K8Vku+IZWUumB0/PqZIA/wEnFdjPxMXI9dF8BaSlK7JVycX04Ok5VRLgT9hSXOxY+FgmM09r\n",
       "fkRX5GvaaiKKtWLN8lMkXdckn0kQT+CEjY6GUyXzIyxl3Js3hB0LP8AdbH5pVzyqr+bR0XQB9fE8\n",
       "T29m+BOJ4gmcnkc90/zOILPUUsa/eUPYM2NWs5DNo2V9V7grpIgFVIS8p7i77KdI1oebcmLx7E/q\n",
       "OOGrak6lm1LWW8qY8Nt79sfBXh9vFixcovlAXd8V2/XVbjf71kcU1z8RSAG2NUIfmFi8nUu1nJma\n",
       "klMlQX6ZpYwJf9bJxsGOgU8CQsyhnQL6rviSvhp58dfFMXixYrrd5PgpUqk/9IEJxlNZCiW07lFy\n",
       "qmQK6C1lTPg3wWQnBnYMfOLQsmHxTn1XdOrXG17x1r/dIHfjwDp6nQMqtnzZT9FoGfa1xgaPMJjg\n",
       "LdVyul5DztwnvFNvKWPDfxI66jGwc/Fc2oEKnYTO6buiQx+L9oqrsFrVyJDvt1TTrX3NT5HW50Jz\n",
       "5NjgYQY9nr1mzZq1akthhENtBadyjj+nt5Sx4UdjSjsGtjk+xaZ3F6/pu2JAP1F6xVdgSG7W0N20\n",
       "L3VWK4oKPh1I+SdwLPEwA5jgKfcLKGGmpeBULn2u6S1lbPizkI2FjXK5ZYGsDz/O5qy+wLVSeFj6\n",
       "EE5YtQWQF2N5mFiKvWx4GNfxeXypAi/fjcc6x75kP+GT2RzUCi48dYtYvwmerdbSxcMMKDs5PDzc\n",
       "1uHtml/TcrrRyltMLYXjP9YeL/4934yFjfJBOe8MybU5zF3pCTi5U86GdsjJQMWqlRy0CIxj/0T/\n",
       "bfl5hZgvVqWrbd/8Mu1hbuQsNYNQQzU/RW0Z8qYM8PgKFXiYwXryPyWIwtNy2hcUnEpvMMB/3YKZ\n",
       "lfHnN8E+5nZpUfzC5yTxu/NsxaQP7RauMUspHfkudFblxcDiO1vBKb7fAquFVNmKKEro31YQ91Cx\n",
       "KjgYRKE6qn4KsLIpfIEJHq7w6BttiZYBvFccq2XBfoQTgaflhMUKTpVMPL8JNsqppZRCjpGE8TKb\n",
       "CfVr69wZZilfgM3t8AqGFhM57sD2NmQKVSjci1TZ3i7Cf5E66JoQzkKqkF1hCpXv9VMJjQkeqjBb\n",
       "sx6SaOnjIQaEBT07IApPywmrjLCS5DfBRjm1lBdDSoejGZ1sQFpf00ddeqml5Pqh1AOH2NWuCldM\n",
       "VKnaeAY93lV2h8dJ0IDv0wDoadHosW9KoYpn/NR/BP9w9IhjjIcq/BrA330tJXiUwe75I0ThaTnh\n",
       "gIJT8GOPHv09JMRvgo1yaik/DC2WesLmynzplXWDqMsgZMp4bX/cNbOGEJRBJvLqDtxm3+7qc1XJ\n",
       "3VjegZ0We8arT8pUoVCdl/wUOfK0vl0OWPuM8VCFH8Mhak/LMB5jyDfehig8LSesr8s5+fEamcmL\n",
       "zYT4DbBxTi0lvEafrVy+HWhrVeluUUvpRpPKBci2BVVo8Ya5VVgwPIz/dxZdZxLn/On/3UbUHR4+\n",
       "I1OFQhUu+Cmqj6hXuB0lzzdN8VCFyOkaqHla8njWlMUuQ9bpcKLwtJz4W6ScnLyEoK3bIBn+aGyS\n",
       "D4L1RgVaRdGhWBduBxabOKZf0HdXqKWg8apwDjpboiq42Jr7PWl8IdfQ98A6PwrkxoImU6+l1Aar\n",
       "+o4pXqmJ3fOBiqclj7dpyYpyDDwtJ2yryDk5qb6LVoElJxn+aGySD0Kps8+qhEJU1L1ZvQgL3UPO\n",
       "s488pVeFrrIGYahFfOB+QRVSPKkfhmS1ZGp6VSjU5UAKHeQL9sO7sIW49UZ4paZ9lXhpHSDD+zDY\n",
       "0pB5pmZoKUHO7oackxuu26W2VbVayfBHY5N8EHbm+3Nt6PMmCrDwid98aIicxIasqRG+e8BSkDpr\n",
       "BVVIMbL8jCwE2+HoVaFQV8FPoYN4OWUo/bqKXDZDPNbSLU9LHg89VdPBHE/PSafbMCfXtACH38Ol\n",
       "ifBHY5N8EJzJjRLehdlGN2OQ1/U6nq7KEZYyzAkZsMhIdbDJZp8WdCHz/AUmWLTo/rmLFpW94gF0\n",
       "h9EvFayznCoUisZ1zgctpUX2tEqmeGj0Ru1xsEErFPEK6IarEE+29ao4u6tyTq6v6M5cy+fv5vDP\n",
       "eE0xxvyG2MxSkA9dAqsBT+MrxIHBv+/oDPVk5OxDYzbumIK+Cq+r18mMfuAnp0+bHQNZzFkKheIt\n",
       "pZ8auH20DnlTPOoRovVoyI3CxYULp0+/H9NSSOVSTrfJRU6uaQFOHaaPqZp/MYw9vyE2m31gFY7I\n",
       "OKfuOxy0FDoXBf0Udw/lWNto9sn0QO6it4YSZp94B2M8VSgU56dQl6sKp2Af7QETPFThNLQedcJL\n",
       "M1J8GUYmUk6ma4iTtxS7VWxSS5l4/mhs5tHCY/Aw/AXHVIOWcjy8SmYRjAP6Bf8QW/vk+nC4z13x\n",
       "+y4XLs7fo9ya1KpyPLC1cS4YQNhZaEGx+SdTPFThChKGDIV7SPHjjrdrNrImD3J2V+ScXDil9iuA\n",
       "fV21ZPijsUmOLOXtdiuHPnyRs5RDppG3Ac8RYFNfg0Xzl8CmuhdF9FQhxdb933i9EU8VMqId8jev\n",
       "3C0sOkoW/4qSPS1TPFRhR82a52vJ422++88PjtRSRE53K1PgJF4HSYirsA9dKq6TNG/h2PjzR2OT\n",
       "HHVp4aZP7QfoQmPAtGlzpk2nlhLeLe28wsLN/KpI3M+cXGWWsuXIjRBextHi/LIvxlOF7goTqMIV\n",
       "PwXsOGPBEa0NjikeqtD6zm/qvpYC3uqzjRFaSogTBppSzsWu60FchQyOvN0gad7QZvw48Btg43yQ\n",
       "DH7Y3Ms/DYwp4U1g7zDWALe+LYhh/2wPsxQiz4mqZHtG9qySSggUPf/nngJkW1i5vbCrYozHVzha\n",
       "PC2ne6w9xMnLI/XCblnzvgTjz2+A7e4QFh2yQ/BOwFIyEjfiPHADEls7i3GXfF/QUm4Xt7DyfSNX\n",
       "hULRwxXuEQt3Q+2FN39gjsdXOFo8LSc5hCPjFMIBP9rjyPg/CuPPb4KN8kFg6/vCE3VmKafuOAIb\n",
       "JTXexxZM3AnXE2Cv+WxwiMxdDFhK+DRs7uLIVaFQmbKfSrZJTPD4CkeLp+XEW3kG2zkKfrt3AvhN\n",
       "sFFOxhT/Lnfw2i2pkf28YBJntmuRx1y6Enw6LgQspRgaaa0LI1dld8ArZ755OKRpgsdXOFo8Lae7\n",
       "RptqWgnHn29OAL8JNsr38ne5Q59sh2mlEzZbNGjcDPDl4MduxcleL0wtyq3xVSnWg1AH237qHdlU\n",
       "PFUKPL7C0eJpOd2f9M4xrYTjR4/5+PObYM+JVSPbiC4EzTZfgwUOTA0OrSv0tayAUco/AinYoShT\n",
       "0ngCZ6lXwakSjv9bkFDzCth2vGCe7Jdhm/HOJUwNzqTbmtpaIoqj5SuBNOqXYQngCZyTaypOlQT4\n",
       "rf6kmlfAjvnLMNevfjxw7V8kXcZNe/qfUJd6R6dJsc9PyfkFUZLFEzjhNSWnSgL8pUpCzStiT4r3\n",
       "a9Mu5lnR3WLobLoBugI/Ns3TVzNvdKpQa2c2L9tBShZP4HTHvhg7XYz/x+DGLRNoXhE75kade7Kf\n",
       "nfN/DVlvkdTQwXtWy/W1LB+dKr8LpJ6XzS0zE8UTOIu9Sk7lMpnG/e9CyZuQUPOK2CtjvhuKW/wU\n",
       "tl5yjf4xIYxY0dYSURwh9HV53kvzFqoWDwnhCZzuOxRlnPrFzy+P1d1g/cQ3bwh7YdyRiXt7l/UB\n",
       "e4tITlisWQ9pa4kojpDNNT/Vvr0rGTyB01qi4VQJ5d9WZudeE2heETv227vcpT4bW55q02P168Bu\n",
       "c587oR+rTozmNXfTA6kfqZUNfYngCZzuGdBMnDe6Uv78NXaaMYHmFbEzsV9Iy97ikqVjy1CVHJLC\n",
       "Ry54OLuuH+HqI9fEavop9v5krZIgnsAJP9NxKucPwm+fp+cFE2jeEPbB2Ma3nRp3gU5mmYtZXMPJ\n",
       "NWtWQ0KyRBq7Sg2enlMljP8zDnmRYxqad0nsO4s9NP8tnb0ukzMFy4aHzyakieI13WnBi+JUCeU/\n",
       "uKeakuYdwdvQhb+w8LnZCffAW/LLacGL4lQJ5c/e1U4J9lsjuDfL1hzkzC2sLyerSWGWoiAdeNGc\n",
       "oOPv/CAl2LHxiXB/CSqbsNFv1P8lqKTxojlByz87Jdg0/z/b1RGhZdpm9AAAAABJRU5ErkJggg==\n",
       "\" style=\"display:inline;vertical-align:middle;\" /></a></span><br>"
      ],
      "text/plain": [
       "psi_t_plus_one_as_tensor_prod: {t in NaturalPos} |- |psi_{t + 1}〉 = (((1 / sqrt(2)) * (|0〉 + (e^{2 * pi * i * phase * 2^{t}} * |1〉))) otimes  ((1 / sqrt(2)) * (|0〉 + (e^{2 * pi * i * phase * 2^{t - 1}} * |1〉))) otimes  ... otimes  ((1 / sqrt(2)) * (|0〉 + (e^{2 * pi * i * phase * 2^{0}} * |1〉))))"
      ]
     },
     "execution_count": 65,
     "metadata": {},
     "output_type": "execute_result"
    }
   ],
   "source": [
    "psi_t_plus_one_as_tensor_prod = _psi_t_def.instantiate({t:Add(t, one)})"
   ]
  },
  {
   "cell_type": "markdown",
   "metadata": {},
   "source": [
    "The following three cell/steps needed so that the `substitute` step will be able to perform the desired simplification, pulling the coefficients out to the front:"
   ]
  },
  {
   "cell_type": "code",
   "execution_count": 66,
   "metadata": {},
   "outputs": [
    {
     "data": {
      "text/html": [
       "<strong id=\"t_greater_eq_one\">t_greater_eq_one:</strong> <span style=\"font-size:20px;\"><a class=\"ProveItLink\" href=\"../../../__pv_it/axioms/71c1fc00120f763c694cd99d32f7a5e7315b9ca50/expr.ipynb\"><img src=\"data:image/png;base64,iVBORw0KGgoAAAANSUhEUgAAADwAAAATBAMAAAA+KHOiAAAAMFBMVEX///8QEBCYmJjMzMwyMjKI\n",
       "iIhERERUVFS6urp2dnZmZmaqqqrc3NwiIiLu7u4AAAAqt126AAAAAXRSTlMAQObYZgAAAAlwSFlz\n",
       "AAAOxAAADsQBlSsOGwAAAOZJREFUKM9jYMANFjDgBQmkS/PdT/Nj4JSXwKWbbUM7A8N7uG6+O6jS\n",
       "7Hc4FRgYGbjS0sTSkhgYuP+hSW9j8GHghevmugARDrt71wEsfSjgCJI07wSwbEscTPeBYtYJcOn2\n",
       "/PQAIMXjBzf8ABtDBkL3frAgywGENPOCt2/hobYEIo1w2gEGbe5EOPcmmDS8CwQJUGn2B4XwUPoB\n",
       "pp4h6+YreAvjcX9geAByP7I0gykbjMflwG0ApFgD4IEK5LKawRUXPAXT3jABlg1w94I8nKQApp9n\n",
       "PADTzP5iQPIJRkx15kICFQUAALDXOQj7yj+HAAAAAElFTkSuQmCC\n",
       "\" style=\"display:inline;vertical-align:middle;\" /></a> <a class=\"ProveItLink\" href=\"../../../__pv_it/_proof__psi_t_var_formula/677502cf94a8a8aa7a5a5dc50fd5550cbdda85f90/proof.ipynb\" style=\"text-decoration: none\">&nbsp;&#x22A2;&nbsp;&nbsp;</a><a class=\"ProveItLink\" href=\"../../../__pv_it/_proof__psi_t_var_formula/26caf01ab7625db31afe4117464de60916323aef0/expr.ipynb\"><img src=\"data:image/png;base64,iVBORw0KGgoAAAANSUhEUgAAACwAAAARBAMAAABUTlNBAAAAMFBMVEX///8QEBCYmJjMzMwyMjKI\n",
       "iIhERERUVFS6urp2dnZmZmaqqqrc3NwiIiLu7u4AAAAqt126AAAAAXRSTlMAQObYZgAAAAlwSFlz\n",
       "AAAOxAAADsQBlSsOGwAAAIlJREFUGNNjYMAEzPeABN8dEPOJAlz0+ZJ/QJIbRDDwzQ2Ai7OCRLgu\n",
       "QDix81CEeSdAebrzkITb89Nh2resQVK9H+GEljqE8BIk4TyE8E246JYahCF8P2CiuuuQrOT+wPAA\n",
       "iwO5HLgNsHiHveApmucZOP8wMPAkKaCFFHvhlyIGssDbuyBwGcYFALekLz75OovtAAAAAElFTkSu\n",
       "QmCC\n",
       "\" style=\"display:inline;vertical-align:middle;\" /></a></span><br>"
      ],
      "text/plain": [
       "t_greater_eq_one: {t in NaturalPos} |- t >= 1"
      ]
     },
     "execution_count": 66,
     "metadata": {},
     "output_type": "execute_result"
    }
   ],
   "source": [
    "from proveit.numbers import greater_eq, NaturalPos\n",
    "t_greater_eq_one = greater_eq(t, one).prove()"
   ]
  },
  {
   "cell_type": "code",
   "execution_count": 67,
   "metadata": {},
   "outputs": [
    {
     "data": {
      "text/html": [
       "<strong id=\"t_minus_one_greater_eq_zero\">t_minus_one_greater_eq_zero:</strong> <span style=\"font-size:20px;\"><a class=\"ProveItLink\" href=\"../../../__pv_it/axioms/71c1fc00120f763c694cd99d32f7a5e7315b9ca50/expr.ipynb\"><img src=\"data:image/png;base64,iVBORw0KGgoAAAANSUhEUgAAADwAAAATBAMAAAA+KHOiAAAAMFBMVEX///8QEBCYmJjMzMwyMjKI\n",
       "iIhERERUVFS6urp2dnZmZmaqqqrc3NwiIiLu7u4AAAAqt126AAAAAXRSTlMAQObYZgAAAAlwSFlz\n",
       "AAAOxAAADsQBlSsOGwAAAOZJREFUKM9jYMANFjDgBQmkS/PdT/Nj4JSXwKWbbUM7A8N7uG6+O6jS\n",
       "7Hc4FRgYGbjS0sTSkhgYuP+hSW9j8GHghevmugARDrt71wEsfSjgCJI07wSwbEscTPeBYtYJcOn2\n",
       "/PQAIMXjBzf8ABtDBkL3frAgywGENPOCt2/hobYEIo1w2gEGbe5EOPcmmDS8CwQJUGn2B4XwUPoB\n",
       "pp4h6+YreAvjcX9geAByP7I0gykbjMflwG0ApFgD4IEK5LKawRUXPAXT3jABlg1w94I8nKQApp9n\n",
       "PADTzP5iQPIJRkx15kICFQUAALDXOQj7yj+HAAAAAElFTkSuQmCC\n",
       "\" style=\"display:inline;vertical-align:middle;\" /></a> <a class=\"ProveItLink\" href=\"../../../__pv_it/_proof__psi_t_var_formula/d31485ea005625a1862ae50cecb8f53c9ab0c9a80/proof.ipynb\" style=\"text-decoration: none\">&nbsp;&#x22A2;&nbsp;&nbsp;</a><a class=\"ProveItLink\" href=\"../../../__pv_it/_proof__psi_t_var_formula/7342c3e75af4b39da9f6d380aef47e3665a75bae0/expr.ipynb\"><img src=\"data:image/png;base64,iVBORw0KGgoAAAANSUhEUgAAAF8AAAAVBAMAAADSoS/MAAAAMFBMVEX////MzMxUVFRERES6uroi\n",
       "IiIQEBCYmJhmZmYyMjLu7u52dnaqqqqIiIjc3NwAAACW8nlqAAAAAXRSTlMAQObYZgAAAAlwSFlz\n",
       "AAAOxAAADsQBlSsOGwAAAVtJREFUOMtjYGB4wIAV4BBmYOA9gF3cF5eG01jEGKOABhVgCO++AbSW\n",
       "awIQx6FKLOr8BSRngdkrEfo4D4AUcgAFeH6hOxMkUAFmcm29ABMtZWDYzMDABmRxBGDTwLYAwrm6\n",
       "CypqxMBwfgHDSSCLdQM2DZwwx5RCdfxgYJA/wNDNwOBkb3QBiwZuBRj3ZB/YcSANBQzTgczzDNhs\n",
       "YJ8A53tqAQm+30ANFxhigMxOrBp4EhAarGAaNjCkAJnRYBunhoKAAFwD4we4k/TACoAa/C+ANHB9\n",
       "wWoDC8yG0i64p88fADmJ5wPDAmxOCkALVmMGhvoFDLbAaJjAI4DN0wZoEVcG9u0mBgYmhbVoTuL+\n",
       "B4rODWhJg/UAVyIDgyjQ++Zo6YxJ7ac6UN4BzRiu7ktAl7AK4ErGT7ELszfg0tCOQ9wOhzgf2M8M\n",
       "S8GxE4gksRiHBmZceZTvAnbxe9iFAbjtWW1zaACRAAAAAElFTkSuQmCC\n",
       "\" style=\"display:inline;vertical-align:middle;\" /></a></span><br>"
      ],
      "text/plain": [
       "t_minus_one_greater_eq_zero: {t in NaturalPos} |- (t - 1) >= 0"
      ]
     },
     "execution_count": 67,
     "metadata": {},
     "output_type": "execute_result"
    }
   ],
   "source": [
    "t_minus_one_greater_eq_zero = t_greater_eq_one.right_add_both_sides(Neg(one))"
   ]
  },
  {
   "cell_type": "code",
   "execution_count": 68,
   "metadata": {},
   "outputs": [
    {
     "data": {
      "text/html": [
       "<span style=\"font-size:20px;\"><a class=\"ProveItLink\" href=\"../../../__pv_it/axioms/71c1fc00120f763c694cd99d32f7a5e7315b9ca50/expr.ipynb\"><img src=\"data:image/png;base64,iVBORw0KGgoAAAANSUhEUgAAADwAAAATBAMAAAA+KHOiAAAAMFBMVEX///8QEBCYmJjMzMwyMjKI\n",
       "iIhERERUVFS6urp2dnZmZmaqqqrc3NwiIiLu7u4AAAAqt126AAAAAXRSTlMAQObYZgAAAAlwSFlz\n",
       "AAAOxAAADsQBlSsOGwAAAOZJREFUKM9jYMANFjDgBQmkS/PdT/Nj4JSXwKWbbUM7A8N7uG6+O6jS\n",
       "7Hc4FRgYGbjS0sTSkhgYuP+hSW9j8GHghevmugARDrt71wEsfSjgCJI07wSwbEscTPeBYtYJcOn2\n",
       "/PQAIMXjBzf8ABtDBkL3frAgywGENPOCt2/hobYEIo1w2gEGbe5EOPcmmDS8CwQJUGn2B4XwUPoB\n",
       "pp4h6+YreAvjcX9geAByP7I0gykbjMflwG0ApFgD4IEK5LKawRUXPAXT3jABlg1w94I8nKQApp9n\n",
       "PADTzP5iQPIJRkx15kICFQUAALDXOQj7yj+HAAAAAElFTkSuQmCC\n",
       "\" style=\"display:inline;vertical-align:middle;\" /></a> <a class=\"ProveItLink\" href=\"../../../__pv_it/_proof__psi_t_var_formula/94619a4d582be5d7efd42ba540c32edbacfae3d60/proof.ipynb\" style=\"text-decoration: none\">&nbsp;&#x22A2;&nbsp;&nbsp;</a><a class=\"ProveItLink\" href=\"../../../__pv_it/_proof__psi_t_var_formula/0c43c12d8daa00e3e57a46daee0fa3a20040bcf50/expr.ipynb\"><img src=\"data:image/png;base64,iVBORw0KGgoAAAANSUhEUgAAAG8AAAAVBAMAAAC6Uq30AAAAMFBMVEX///8QEBC6urrMzMxUVFRE\n",
       "RESYmJgiIiLu7u6qqqoyMjLc3NxmZmaIiIh2dnYAAABcDckaAAAAAXRSTlMAQObYZgAAAAlwSFlz\n",
       "AAAOxAAADsQBlSsOGwAAAX5JREFUOMtjYMAKNjDgBTileSfg16gLIvjensaQmIdHE3MF0OAEIGMl\n",
       "QzvIZo5lCDmOBUjsalR9Lad+AMkVDAxsBQx8ASCRvlq4JE8CQiHnDwjNBBPjBQnkMDCwOsDkeOsa\n",
       "oHKMSDbwFEANuICskbGBgf8AA/NPiBAbTOcsJI3sD7Bp5Epg6Adq/AZz1hpIOJ9D6FOJD7mARSOf\n",
       "A8P+BwzMf2HKmJaA7UQKJ4b5DNhsZFsA1vgPrnEpWGMlksZTWDVyCjD0P2BggtnIuQTiVCFgLCwv\n",
       "BwEDhjpwCJWXF4qXlzvANTJ/AAUOJyxwaqCBI4QUjZ+w2sgkwMAawMCGHh1ITuX8wNCAzakFDGwC\n",
       "DDwL0BJALFI0LuA0wBY4ASDjGw3QktwTBJPFoRfNqXy/QeYBY7fnrTN6OjZHMLnDElA1sjj+cgMm\n",
       "CwWsGYDdAFMMbiMYbMeec9gOYIoxJSDzjiGFezk04kAgGn8+ZuAOwCHRSkAjK66yg/sCfo23GRgA\n",
       "LcVnvskz6mQAAAAASUVORK5CYII=\n",
       "\" style=\"display:inline;vertical-align:middle;\" /></a></span>"
      ],
      "text/plain": [
       "{t in NaturalPos} |- 0 >= (-t + 1)"
      ]
     },
     "execution_count": 68,
     "metadata": {},
     "output_type": "execute_result"
    }
   ],
   "source": [
    "t_minus_one_greater_eq_zero.derive_negated()"
   ]
  },
  {
   "cell_type": "markdown",
   "metadata": {},
   "source": [
    "Now this `substitute()` step will also manage to pull the scalar coefficients out to the front in the process:"
   ]
  },
  {
   "cell_type": "code",
   "execution_count": 69,
   "metadata": {},
   "outputs": [
    {
     "data": {
      "text/html": [
       "<strong id=\"conclusion_03\">conclusion_03:</strong> <span style=\"font-size:20px;\"><a class=\"ProveItLink\" href=\"../../../__pv_it/axioms/71c1fc00120f763c694cd99d32f7a5e7315b9ca50/expr.ipynb\"><img src=\"data:image/png;base64,iVBORw0KGgoAAAANSUhEUgAAADwAAAATBAMAAAA+KHOiAAAAMFBMVEX///8QEBCYmJjMzMwyMjKI\n",
       "iIhERERUVFS6urp2dnZmZmaqqqrc3NwiIiLu7u4AAAAqt126AAAAAXRSTlMAQObYZgAAAAlwSFlz\n",
       "AAAOxAAADsQBlSsOGwAAAOZJREFUKM9jYMANFjDgBQmkS/PdT/Nj4JSXwKWbbUM7A8N7uG6+O6jS\n",
       "7Hc4FRgYGbjS0sTSkhgYuP+hSW9j8GHghevmugARDrt71wEsfSjgCJI07wSwbEscTPeBYtYJcOn2\n",
       "/PQAIMXjBzf8ABtDBkL3frAgywGENPOCt2/hobYEIo1w2gEGbe5EOPcmmDS8CwQJUGn2B4XwUPoB\n",
       "pp4h6+YreAvjcX9geAByP7I0gykbjMflwG0ApFgD4IEK5LKawRUXPAXT3jABlg1w94I8nKQApp9n\n",
       "PADTzP5iQPIJRkx15kICFQUAALDXOQj7yj+HAAAAAElFTkSuQmCC\n",
       "\" style=\"display:inline;vertical-align:middle;\" /></a>, <a class=\"ProveItLink\" href=\"../../../__pv_it/theorems/c40919cbb472e35cf40c5a304b53fd3717eed5ff0/expr.ipynb\"><img src=\"data:image/png;base64,iVBORw0KGgoAAAANSUhEUgAAAV4AAABLCAMAAAAPmR+0AAAANlBMVEX///+/v7+urq5UVFREREQy\n",
       "MjIQEBAiIiKYmJhmZmaqqqru7u7MzMyIiIi6urp2dnbc3NwAAAATlYGCAAAAAXRSTlMAQObYZgAA\n",
       "AAlwSFlzAAAOxAAADsQBlSsOGwAACDlJREFUeNrdXdeWtKwS9T9Izu//ssccKBC6oUf96mama9a2\n",
       "dQOVKJyuayjY3Ie+SRyVWU0j4eg+9G1iUV7TRASRt6FvFMLymgYiq64aoB1/Db3Gu6ymgSDcEM30\n",
       "e6Yv6vOaalHetENrysV7vJsXWU191IAboKW1CI02mMbsB8PP5LeneU2tX6uavCt6tLh8uDUZIVJp\n",
       "TZ9Jr/I6q6mdvLQFemTZedUJ3kX8pHgovV1P8prGA/gVmsmZXseZexG9Atha0db6Ii9boW2SxMfS\n",
       "23mc19RErb5vhVbpnPK59KJhxeU0FcKq1sIR7foDu6pfxT2bXuNtVlNj26tswwE9ZmvOvW72dp7k\n",
       "NRWrO/7gqqh4dEC7XinF5fvo7YEt6NtZBxZbCRJxXDSpD2jiR0kkRxZ7+9RcWQMGdDvrgBI5hS6i\n",
       "F/k3FnrD0BJnNV8L8V0FvSn0q8SDR/W+UYU1ZXrL6E2iXyUYLEHcalGKVNRbRK/w/T9ALwdpK29V\n",
       "d+ApK15EL28ZId4mDEwS1mra4FRSUUQv9uIfoFeBOFe1inxJKsQrope0TB9vEwniSekbueykjyyi\n",
       "N0Bjn5AKS8b+YAA9mCW+zbxxyWEqoTdECx/clnRGoyHfyCy1baMjtkCS1p3RVokKBTaOtrF6IhlZ\n",
       "ldAL0MjHrsciN8uOkc+60fGpYfsueuIRF6JjmvSecenU1sn8xBbsSEM09T7WiMFDRyxOz7hudHy6\n",
       "8lJ/uCbDwd1hEABNGpscvr7wXm0iAkHDksaIfYxWg3mIofj5kYP9uHWjY356OtvrBYG3y42/KLz3\n",
       "VLC+czpmOkJaQjIYDHNRTHO6jk7PjquaQU3XTwStd2LOj3R+YDgE60aH5NKxbmdto9cMl3XIqW1k\n",
       "kHZCEpeiV/aEJsgIi4EWrMJJc6L3PI6Flqz3NS01MXTv84myg65uqn/K4RmGH9pJO3u8hd7pF708\n",
       "o10+d0SLuBVcacE8QYZGIZm0i2iO9MrzjLdlng9X0RtDyyFQyF2TgyU9b3SoeS72nZquMH0c6Z1+\n",
       "GX2NmGmePjvPedwErrRsDjUkQwZuW4PQZtIc6RUqY78TIUlNVhtFm8E8ZMYWFExOGx3DrRsEjQOa\n",
       "J7AQu+k1NOrdF1rMRiIgA7MgB/YgK/ZnesMHxUWtaKSK3jjaDnGuvE5Clz9LRCjvwo0OrjtDIBMM\n",
       "KTRMa7ub3sGidBeuzZIkGUEkc0Wv1JzN9J46YYQtI0hX0avjNuO6HL3epyRUMILCjQ4sj85nn2gC\n",
       "e9LvE2rcIkXswvZiNLIwjVpIhiZhOgQi+pVe2wkyNnGFmcCBa04Pgs4EsSp6o+jR/F4N7tpRiegU\n",
       "vRZXrktbL5fIYbg5IdwcyNHQgMlCepWYEp6pM4YcFwIvyWl8Fb0pNEiOg+BiWZozui++g158Qq/w\n",
       "zoghUHYHMlZu1Pn2DKDXrPTKMUJZTC+fBm21cKiIoI9ya3le9Uk0vzS/GG0pyCjF1v9q7/p4ZzO9\n",
       "nBwsx0zGxo07O1cFCluTZh0mOdM7xWYCf2J8vf/f+WNc9ifkF+hzcpxeyctFlBdulDbbWoc7m2mh\n",
       "+BC4zWRs3Mgzvf8Bev/b6eV4jQhl5yzFVoXeMm17fVVlKI12V7nFMns7/6Ot+dnjD/dmNhswknHg\n",
       "JihwXM7eMcoYs3YzfcLik8A3Q2/mmEQarYnL08tnA+J+Qi8b+Bkp1gcyVm4G9lxAJqydrKvADI9i\n",
       "txLfOg5laVsmcsj46iTaXJa/1uMLkhJmNNU/oXcMT+RwG/ZAxjZHg8jhwrVNdtv2Ws/jsQXkZUWH\n",
       "a3pzxyRSaHW9Jvaok1OP9W+MwxRmaK7lTsaerDDSldM7RWd7tUKq8pIZvZ699Cu0JNeUGf/bY3Cg\n",
       "TruQsXIDjjnm6NXb/Q4ZpZVLTlNUlLliQuKv0Dg3tMT8Lb0LGSs3oOYgQElHnEo6ewym+BTtycIm\n",
       "qf4y6owfk8ih+6xT5fZP6V3JWLiBFTMG4hx2KkiCSaQLUyEUFg8d53ir7sePSVygZ3saW/onY6zI\n",
       "n9ILyGAoLD/iLqLRSf9cugcRboNMEYwt7bDikb0OFg3J2NnXoZ92n4S0gJukLqzx9V1O891AB5dB\n",
       "0xcT8h06GZIJ8plR/61E9tp4VvPdNwXLgkxWCU1RN8iIs+jEkVEJb1bc2JsGE64euOi+TUZpAp85\n",
       "1QiLj8aE6FhI5gSK1c/YfW3X8IACbJVr1DwX79Khs9IIfV3VBGjs8VEonQvlT+8Chq1yrZrnYtvm\n",
       "60FLcijhFaF5quLGnk3v79rTaSRKWItqLhtC0X/gaMW4CElW86UgOLOO+3y9+RT9QjHAQ5tWZ1c0\n",
       "cOrHmJurT9FvlB+evALjNIVMS8/BkKHrD8f9jYJAmIBadd2HfdjK7iUinPX5zbq4bxUK/BhtVtOj\n",
       "J+fvKB+FfodOdTRbqx98xEUCPybbHSq2J++0NH/i79CJUuOYhJrnntASoHIifLO3xZmqSwXoeEcz\n",
       "GR3kL94P9njT29WeWz2jox3Ncx8OeewRLUhAy6O8vCr/O6O3jma+vSyDLR179KkRsgLLV/mGb5Ks\n",
       "e/fGGR3taJ7pJc9934DIaqoWB2mFjnc0z8bhsec3Mclr6obPNELvHc1H4/Bs16bA4lWND0rXmZoD\n",
       "OtHRrMfA7Klv+IWvGUON+wRs1fUO6FRH85BW8Ie+4VeCuSU9av0V9jb0/Y7NZTX13yFvQ98d9PK8\n",
       "pr7wYO9D3zx55R9MFlG1IMRzE96sYWNZTZPUrb8PfWfY8Bfv9u6qc1b6zj0hAw6AmB/9DwNVdV31\n",
       "zv+sQE1e02ok3X3ouyyvudT8H7RKZFqZO0ngAAAAAElFTkSuQmCC\n",
       "\" style=\"display:inline;vertical-align:middle;\" /></a> <a class=\"ProveItLink\" href=\"../../../__pv_it/_proof__psi_t_var_formula/3fda6a5aae917f00434715b180ed531f265e18930/proof.ipynb\" style=\"text-decoration: none\">&nbsp;&#x22A2;&nbsp;&nbsp;</a><a class=\"ProveItLink\" href=\"../../../__pv_it/_proof__psi_t_var_formula/6f218f799ebd39b988a9d8c1944cfbcdf15a9a210/expr.ipynb\"><img src=\"data:image/png;base64,iVBORw0KGgoAAAANSUhEUgAABsMAAABMBAMAAADKAtTXAAAAMFBMVEX////c3Nx2dnZERESIiIgi\n",
       "IiLMzMyYmJju7u4QEBCqqqpUVFRmZma6uroyMjIAAADVePneAAAAAXRSTlMAQObYZgAAAAlwSFlz\n",
       "AAAOxAAADsQBlSsOGwAAFplJREFUeNrtnQ2MHFd9wN9+zc7d7t6uY5IS6uoWN0RRTHIOVr6FvKQJ\n",
       "kDThrhUGx3FzVxKjmkS5rWpIo6i9IamL3CS+MyGNg1NusYIo1OAlEMCizW2TGnC4xEdFVUGl3rpp\n",
       "ZQMtZ1/M3dnY3s68r3lv5s3X7szOjjR/y959nrfzfvN/7//e/30OAJr8H3AlLqP5I4nN5NvFCogl\n",
       "lkhLvu5nNL9kHfmSrMdZFEu05SuKn9H8kr4q+fZsnEWxRFrkZ/2M5psUTpFv86U4k2KJsuSanqKt\n",
       "0Xw3rbN0Q8Bc36Qpr48zKZYoy/icp2g7tG6Z+vcTmwPmGqzhL4mzcSbFEmX5lado6a01ZGIgaBNL\n",
       "jZBv18aZFEuEpf+862jy2u8pYASYTOwzzSDApNO0Aa3E2RRLdGVgxHW0PMiPyE2QnD08+zpjYtKt\n",
       "I4GQ3Ujbs6k4m2KJcFes4jpacS6x1N+omlqx/mBM7CDpjPXHnbFYIiwziutoWSWxlPhBCZnY/Z+t\n",
       "BWxiRep/XoizKZbIivyWl2hJZEx5Qz8tGBPLLVH7HoszKpaoSvasl2jbUJOX7IqJFRbJt/lynFGx\n",
       "RFVSKx6iGaeb79ugSikoEwNnqMtoOd5xnQN2yM3fdb3lsdwQdc7e5n9c4fBxEEy6Mw8UbQ1YJboY\n",
       "lIltJAaSWrLyJav2d/hOuDp3wuu2bFOizdnjepY2c/gkOFEWxjIKjJa47uM/7KaJDRO29KJFjBft\n",
       "cyUXsoP5YtuFJhixyqiocDrqWdocKveXeHwcnOGWTz3xhoXfCKP1tVonBdcSVy9WAiEebxLNWQwp\n",
       "ZkkE+R8XRGXjL0Pu5zrgdV/WRZrTUc+WxbdLQvZdreOC03yktAXjdBjERQrTEuf8pfoa/GFBjMSe\n",
       "cAuKA14IkqlGmdNZz+lwTQx8lMeHQfnXrkzMGK07MkDXdi2Ilyp/GNiWjUwlXIU74IXhge2NMqez\n",
       "nsM2MbynkuDDYP9brkys/60wgPN0leJRobFkp+zLxiPky2v26bzWPqJ8An7sVtrACxBLF0SGMQH4\n",
       "3whzWvqJUw7FN0B+BEyxBxocPgzmF12ZWH4xlL4MNewJ4ZaxvrJ92fgsobc/mqCjExPQ+ICwm+2E\n",
       "FyQWMAwAkGEM0fbWqHBaCcMvLL6B8iNggk32EWN8GBw468rEBkJZJSjRibFx4cQYWx4EZYM+i8Oo\n",
       "h7tBkURDXA2gDHrUO57PWKstXLxHWUwwUA+Zs/DC6+1yWgnDLCy+vvC/7YWSTf4TbPBLHl8L9i25\n",
       "MrG+pTBMTG6Rb5OikUxwD7AtGxn8nJK9Yy+58/uzFh27m+C/qZpnPH+xpC9ZmBgmuwl7/Cshc/aB\n",
       "yXY5reQe++LrD/8J0LTLf4wNDiocvhYsrrgyMTbaQIuRYAcUWmMkfZGJS0v2ZWMc/3qgbD+oUnbF\n",
       "cpuFy74LdSL2esbzGStjYWKYDGEC+XTInAmwvU1OSxtZsi++vvDLU2CvXf5jbDBZ4fC14OBJVybG\n",
       "Rutv4Wf69E8OtZx3cn2qAxMbJW1DRuSo5qbsy8YhvmaxEvHl7JixTbR35X/kGc9nLCsTw2Skx3Ft\n",
       "2JzgvW1yWgnLLyq+vvAnRsBH7PKfYJOt+tfqwYMjrkyMizajj+B/kiv6WTi0DvdGm8ccUHxXrR5d\n",
       "yL9Aog+IKrW+un3Z2Ic//9A+NXL5sXXftRgDgJd2W3UyUA93sOQVzyUWr04R1prZ2dk5axNDZBgT\n",
       "TITNmR9rk9NytKNuX3x9yX61Fdtjl/8EO8vja8HhpisT46JlWvpDvcrGOoANJG+5/qXP1VE8CTJ+\n",
       "OEMeNCca0Ryv2pYNaRl/2rv19HIDHLaKo106kLW4+B5UX5W94rnEslEnh2VpYpjsPdh1qYbMeUW6\n",
       "TU4rYfkFxden7G9a9cUwMMaWlzl8LThkGA1PnhLehosmtZb1BoepbGQEoe2NtoIdZL6TX0rmaDvw\n",
       "51Fiy/nfiOyereiGTLVeGj8KPCOuZJkWPULuPBi0qmC1S2v+VK8C8CeKjmbfslMe8WC6/J2EWDbq\n",
       "ZLGk2680qVZiyR4RtFkhcA60ft0mp+WAYsm2+PqU/W/7csk2/x/hXSeCrwZn+CfJHbogXJzORxtu\n",
       "6ckxVUgKfdf2RqsfF7daMNpxFOsheNLpnyVuodGvIj8zPxmpkYdIzZEULVK8kfn+velfGqs9cuJH\n",
       "saonJkirSH7351DHidFWC85maP+dBdLPq/SSnpG4LUZbKNBhdOaT6BzwYLr8nYRYvDrtsIBRtehp\n",
       "MRk+My81ElVOK7nRvvj6n/3C/CdHEl5r6pNtbLh6DD5aqiV8/kspgnpZ/uFvoY2bmokVSolvPKQF\n",
       "vvWOXSVGv48/ow2fmBHS2KKHSDpJ0QKupx18dFw/jZdQYsnL/lmU1rheXbxL/fvkp6vQYYE6/jH4\n",
       "7Uua9BKnYm2qFDnGGXTPrR7xYLrandbeWcJ3ssBi1WmHxRfdbQp52q0sZvJkVDmtxA2/r9kvzH+M\n",
       "DYYAh68GF9yZGB9Nnj4nivQK+bJNkcsyeN9jasyyamKPgTRIqn/U8OdqEqdfuNDEbK8ydpCHifeV\n",
       "PiMYRz1nzzyJmSdwYr8AO0uCtCZ0B3iziqik367q+DFVxyp7BZRBWf00rN5QVQzXdKNRsjzKhTc8\n",
       "4k3gOw3U5D8QDFfqWIw67bHYoovWzI8wZBgzez6inFbiit/X7BfmP8YGE3McvhocLbsbPeejzbdq\n",
       "QpcVu6o3AGkPAOsfBNrncbC9lAbvUM1seylx7vt8FQZ9gyvNtzqOAUlVlm0JOqoOUyfkaK2XUWLZ\n",
       "EZBcr6f17+TLy/QHqxUVEaQk1TS3lwaqKnslUQMV7Vn4pRNaLaZ1rJNQC2kEOYwrg7VrP+gK72V8\n",
       "p08C8Lv4TmIsRp32WLxqtYGLKxkyjEmwOuQsVLvNaZBb1l6muOf3NfuF+Y+xSakjVGpw2p2JGaIl\n",
       "W3ttxmbQ3ujE+v+g1pJTK4Svapay/t8SrH4L8Cerzfd61YWJOR39Rs6I24cSS9W1OXea1gvGoX2Q\n",
       "aCQ0p2F1oU49hXoa9Nf0S0YVo5HPftTLPwjddUktD3815wZvH77TzdrUDB1DNWPx6rTDMhfd1QwZ\n",
       "xsSVfqec/ZVuc/JyvwLku4Brfl+zX5j/GJv4TqRtVYPTFXcmZoi2IBh+SGuu+KGtZG90vvJTamLZ\n",
       "b9cf1Iw0V9mWZPWbhI7ggFn/t2MrISbWLzCxrMOirgncRV1EiRUbQDqrp0V1DC8/8UwDrP74g1pl\n",
       "9S+FKarjRx+QoPeLLxlVDI7BUoDyeBxa9H3q/eX3usFbxHc6B396TIhlVqcdlrnooqdFZBgToLHZ\n",
       "TjmpiXWNk6/Or1H/eXzONb+v2S/Mf4JdrLP4WnDa3fSDMdqulrn1017dsmvLI3W8N3pAQeOC0Of7\n",
       "+hmoplQp9ylWvwP1/nervV3zveYVZxNLn3I3mLuMElPrE2lZT4vqWLssP/PlfWC6BRM5gc5ghTru\n",
       "X3gaZiO+ZFLxfmYqBM2ENN6pdpmTigu8ZXQnrbobr6I7GbEE6rTDMhdd9LSIjMzYoN0LnXJSE+sa\n",
       "Jyf5ZAnIjSuAW35fs1+Y/wS7uJ7F14ItdyZmjEYXUbHjjOrNXwIJ4UyfaA3tVZpSv3ppVTTegZcX\n",
       "zhMTK+BnzG+CAmuKpMNK0SGUMWgs+CowWIYO8ohBx/BybgQMCuvZHcI7UxWj/i5yu4vaI6ZLyZLc\n",
       "0HrITngIKzmXWIQOe0aEZanOHQ7ZRYouetpihcEEXwB+cBIT6x4nJ+8D7wRPauNnLvl9zX5x/mPs\n",
       "viaDD4PCcQuBiRmjHT1jYtIW8KumfL3o96KF6Kp+D/5O7SG1rXmdcRZluLdgELnf40R9kuBkgbyD\n",
       "iR3F3WFGx4swLU7H8HKxSib1DHKTvYrzc9TXAEXoCQNw+RrViXfGk9iiW8Z3MmBZqvMmt0X3dUpG\n",
       "MMEm4AcnMbHucXJSB8k/bmhXXfL7mv3i/MfYmREGHwYfRuWwJRDYdmObfNhYwjPmNfYZtSlWfybc\n",
       "vMmv7pEvYP0eQW7jAwDtcNB6ivffBtNFOfkZ8uDyw+Z75lATV+SgT9LbgxncAJ7HnkIZFE7DtAA4\n",
       "vGnTc5s23UMvj6u/FI77mAaboUKoiiWY96hnW9Tok2hBaNkZD2GpDpiqr/kKupMRy1Kd1ucsUdWi\n",
       "ovsAJSOY4G7QMafqS9z9DPIlusfJSRmuGk7aFgNUdv3NfoQtzH+MnZli8GGwZb9okEyomaIlzHPB\n",
       "aismnV216u0uGsWtWL/3zkKHUHVpv659QjcWnoyFZ9NtW7HcSdvbExMj1Ziagdrg035RNTb+xVWr\n",
       "FFfNOVQIVTFy7RkTywNw0eWornDAI62D9uuDNdpJ4LDcqlOkWlR091sU3Y45uVasK5ycNEBi7Rha\n",
       "Lm7Jj8quv9mPsIX5b21ibTqK6T0iEwOnPSj5KiCfLcAu3TFw0b2XcyaG59xNJsb2xTw6impXMbsC\n",
       "TEN3yFOoeCoeVMXIvWX6YnmQKKfnYJFw6YCBDQBMKNRR5h3F06A9oUX3mLmPswn4wck7it3gNJjY\n",
       "ReAuZGIuHUUfs1+c/6etHMV2TWx+zNyqqBZyRAEJ9/rNrshn02h64Rd8K4ZHFMdPUhMTPKjDUBJe\n",
       "0ZrAQ0rZKW0G3jQBBS/n9+qrkr2oeLU+ZoUWu0m1jwFwV6HmjJfAI3Xa+tE39LlBDsuTOkVFFz0t\n",
       "Xoa3zPTDO+akwx1d4+TkE1IZpOd+Btzy+5r94vxfthru4Efj4QELWuNnnI43DtpLgvm+tNpE7nz2\n",
       "Jx92r99cU15KoknyFd7E8Lpl04gil57DhMgwqgXQBlQ1M7eAXWP68gSiY3hZvvsvbqt4UzHM2Sv1\n",
       "MSu8DvQuVXvp/S7wEJZ6p0xN/lt9hQuH5UmdxqKr1TDoafl1ymiutVNOYmJd44S9IK17Bb+k/1X9\n",
       "546ya35fs1+Y/wSbWWKPg7ztwLH1huAgCNO8mIAILtU4fKHiXr+pGrjzg3Dos6DWMRs2PL3hemxi\n",
       "P3JhYoY5R4n2c7GQqefnsY6fvOzbzOZbOjECL+dH/9ubitGabugUSGjhGHrdfEqbKv2uG7zn8Z3k\n",
       "V35/zDyYjC57Uaeh6MI18xmGDGPiPoM15xAd67LjpPNiXePcSrpXsDukTT0/objWs6/ZL8x/go07\n",
       "lKRrpgZHOduBByw0gHl/36jBxITH3P2d9yoMygFtaf1fc63YcRcmZnhJdcrouh7EQzRvsokdMOn4\n",
       "Te8lg2xmQAu38VEoeIP6jjHpA67w3jTfqUMss2oPMGQYU8ZDfx1yUhPrGqehfn0/uL/qnt/X7Bfm\n",
       "PzkQZ7LM4avBBa72yQALE+OjwVlms7zSpoldoy27uYI1MbLS/iBZad8vWGkvLXPB+4zXyW7YI2xi\n",
       "15CrdB3okfZVnIIOPH6tId7vIL9wh+IK74j5Th1imVV7DUOGMcn61A456TLgrnEa5G9u/Xvgnt/X\n",
       "7BfmP8YWLAPeyM0H7Abg3bNbBQdB8NHAYf0y0xPd3p5+tc3S0g/GsIldtHCZfizdBPFLsqL9Yvwu\n",
       "hn8yXiZN9oSiJ4Y3ZrMyobStYnScRwrB3uwRD6bL36lDLJNq8dPezGKaV81GhdNK3PD7mv3C/MfY\n",
       "ZPE5wVeDM9x4KDxgQdSK8dGy+oh9ljGxXK0tE0tTJ5S2jRlcWdIjQ9KiXc/3ciM1TbDmDW5Tbgb/\n",
       "eLKmJ5Y2T+JP1tpW8QeAeSDMNR5Ml79Th1gm1aarxhFP0ZI+I2di9s2xXuS0Ejd69jX7hflPdk/j\n",
       "lbEEXw2S0zEQFzxgoWE4CEKTo9wSFmbE/ivs4E3TE+j7iWXS/6F2TNaG0SNDkqIz9Q+xgfxcYj0Y\n",
       "YmfIyeFfqYaeWM58l1TDs4rT+PmRUtDhyoVTHvFguvydOsQyqRY9LSbDZ0CbZ2oNnGA1SJ7vRU4r\n",
       "caNnX7NfmP/khHC84IHgz9BCzHKJ0uSOx2GOqXiSa6X3A3+Ezl4cJSx50dZWro3fDXIl0MeeUZPF\n",
       "Hbqs/VmP2akOaa9GlUDTK17AWHqd22Qw6XELlpzgGwA814ucVhK2nq9msckxBwRfDU6g52K5yqLH\n",
       "YAsQHbFP/AO/4D4754+y80RpG0lKKdH6gXG2jX8N9K2AHNuUkLk72X6Luny+Q9rPI53WPOIFjUUF\n",
       "kyFMMFhx4ATTCpgp9SCnlYSt58+z2InTHL4WnEeGhbiKhoWUjGvI2vrCr6D8z91qtIBeQUtSItoT\n",
       "vraCPQdMHtG2JOQ4i9/HVTMOtVDbkkaqud0zXrBYutzOYjocVapygpdU92asBzktTTNcPSNggi04\n",
       "qhSfpG3iMgh74HaeXdIc7Husp0lWC19bkWfsPglBMlzFQMZj+8bss2jMx8rXA16wWFat7EsuOMFo\n",
       "L3Ja+jzh6hkBE+zcCIevBYu0TSVcP7tT4O4VT4EwhK6vL4rWehZwG/81QKbtxznvYh4/SNZ+GCbb\n",
       "7IjxQ6gua3rGCxZLr2WbDKZoxa6Zkz9xplc4rSRkPX+IwyYrik/rwQx1RQnXlCwYy8mcD8PCEnTC\n",
       "eVDYKUWbVtLaistb4dd7eGgyWHLcPpnjHTGiCYxLS57xAsXSBZGR115nV1xwZuo9yWkloeoZAdO3\n",
       "iuOxF4KvBXN0OodwlSRBcc4th2FiBTobNt+0Hkv6k6ExvFosz49C0Wzaae/X7yx1wLgTegjyFu94\n",
       "gWLpvZMtDKbJeoSc/IsKeofTSkLVMwIm2MSKCL4WTJPRcJ0rJXAU0+fCMLE03Uo7XBa6weh/J+v4\n",
       "bBDjqyrJS2ESJ+wrohMdMKIN9cJ96U54QWJRwWRk37/Ni2gpZ7bem5yWvaEw9Xw9hy16ES1tKHSu\n",
       "79u2J92UHB1HnKkJ3WjUTOVPodUo/WV4kp+xelPlEvt0Lumg8kX10VPt4AWIpctTLKZgmZeZE+wH\n",
       "hmMPe4TTsjcVop4RMMUmy6huZoLkXa86V1KpCO7UCsPEMtQhH1WEEf4LVUPn0KT3xwDgD451+QLH\n",
       "wMQBLwzXe8WZU9vtqPQkZ+/rGW8lJvgoOIoqLJ1rQTjXNcrUa8x7+NbeEiTwJOkVymfEEbYjqo2K\n",
       "1tYnts7O8ujSnnALigNeGJVWzZETXDw7e7g3OXtfz1t4fBQcgj6wI9cQ09nQ38OXrRTWBwh8kHQK\n",
       "+n9j0VlDqc/f0dCeq9VqGUZFfi/cguKE131Z58wJRlutC73J2fN6TtY5fBychx+OXPNMF1h/D1/f\n",
       "GAhywoz2wHJWOxteRA7hFyw6x7mQPUUHvO77X81oc/a6nv+Tx8fBPncrmtlo+nv4BhXBqgb/ZFqU\n",
       "Ot/bqtk1cvjUnfDECa/b8pASbc4e17N0gsMnwfySq1+z0bT38L26QZXquAI+GiAxVdm45SwJ2hp0\n",
       "zOpyaixcpTvgdVnkE1Hn7G3+3QqHj4OgsOiu6Wai6e/hU03scwF2Zah7OFwDscQSVXnOazTmPXyq\n",
       "o3g2OLIBuszk53E2xRJdGZ7zGA2+hw85isEOd4yTwQppMc6mWKIrxbrHaMx7+NKVQj04shnS6c2t\n",
       "xNkUS3QlueIxGvsevrV3KsF1eulox2Q9zqZYoivyop/RfBT9DKLhUpxNsUS5M6b4Gc0/6WuQb8/H\n",
       "mRRLlCVT9jNaAKafjrtisURa+k/5Gc0/B5buAp2sxpkUS6TlVV+j+SU5usD4m3EWxRJxT7HqZzS/\n",
       "5KfETyzsjbMolmiLtNfPaH7JH1HTnouzKJaIy499jeZTV4wa1lNxBsUSXfl/gFa4bYFyVcMAAAAA\n",
       "SUVORK5CYII=\n",
       "\" style=\"display:inline;vertical-align:middle;\" /></a></span><br>"
      ],
      "text/plain": [
       "conclusion_03: {t in NaturalPos, |psi_{t}〉 = ((1 / 2^{t / 2}) * (Sum_{k=0}^{2^{t} - 1} (e^{2 * pi * i * phase * k} * |k〉_{t})))} |- ((1 / 2^{(t + 1) / 2}) * (Sum_{k=0}^{2^{t + 1} - 1} (e^{2 * pi * i * phase * k} * |k〉_{t + 1}))) = ((1 / sqrt(2)) * ((|0〉 + (e^{2 * pi * i * phase * 2^{t}} * |1〉))otimes ((1 / sqrt(2)) * (|0〉 + (e^{2 * pi * i * phase * 2^{t - 1}} * |1〉))) otimes  ((1 / sqrt(2)) * (|0〉 + (e^{2 * pi * i * phase * 2^{t - 2}} * |1〉))) otimes  ... otimes  ((1 / sqrt(2)) * (|0〉 + (e^{2 * pi * i * phase * 2^{0}} * |1〉)))))"
      ]
     },
     "execution_count": 69,
     "metadata": {},
     "output_type": "execute_result"
    }
   ],
   "source": [
    "conclusion_03 = conclusion_02.inner_expr().rhs.operands[1].substitute(\n",
    "        _psi_t_as_tensor_prod)"
   ]
  },
  {
   "cell_type": "markdown",
   "metadata": {},
   "source": [
    "Now we partition the tensor product expression of $\\psi_{t+1}$, so we can eventually show that it is equal to the rhs of conclusion_03."
   ]
  },
  {
   "cell_type": "code",
   "execution_count": 70,
   "metadata": {},
   "outputs": [
    {
     "data": {
      "text/html": [
       "<strong id=\"neg_t_plus_one_sub\">neg_t_plus_one_sub:</strong> <span style=\"font-size:20px;\"><a class=\"ProveItLink\" href=\"../../../__pv_it/axioms/71c1fc00120f763c694cd99d32f7a5e7315b9ca50/expr.ipynb\"><img src=\"data:image/png;base64,iVBORw0KGgoAAAANSUhEUgAAADwAAAATBAMAAAA+KHOiAAAAMFBMVEX///8QEBCYmJjMzMwyMjKI\n",
       "iIhERERUVFS6urp2dnZmZmaqqqrc3NwiIiLu7u4AAAAqt126AAAAAXRSTlMAQObYZgAAAAlwSFlz\n",
       "AAAOxAAADsQBlSsOGwAAAOZJREFUKM9jYMANFjDgBQmkS/PdT/Nj4JSXwKWbbUM7A8N7uG6+O6jS\n",
       "7Hc4FRgYGbjS0sTSkhgYuP+hSW9j8GHghevmugARDrt71wEsfSjgCJI07wSwbEscTPeBYtYJcOn2\n",
       "/PQAIMXjBzf8ABtDBkL3frAgywGENPOCt2/hobYEIo1w2gEGbe5EOPcmmDS8CwQJUGn2B4XwUPoB\n",
       "pp4h6+YreAvjcX9geAByP7I0gykbjMflwG0ApFgD4IEK5LKawRUXPAXT3jABlg1w94I8nKQApp9n\n",
       "PADTzP5iQPIJRkx15kICFQUAALDXOQj7yj+HAAAAAElFTkSuQmCC\n",
       "\" style=\"display:inline;vertical-align:middle;\" /></a> <a class=\"ProveItLink\" href=\"../../../__pv_it/_proof__psi_t_var_formula/d40aa674e30bdcd00eddf596487e948eb4f039cd0/proof.ipynb\" style=\"text-decoration: none\">&nbsp;&#x22A2;&nbsp;&nbsp;</a><a class=\"ProveItLink\" href=\"../../../__pv_it/_proof__psi_t_var_formula/c14b9abff04e56b6952b0c97790d8b4e770cdce80/expr.ipynb\"><img src=\"data:image/png;base64,iVBORw0KGgoAAAANSUhEUgAAAMIAAAAVBAMAAADm9CyVAAAAMFBMVEX////MzMxUVFRERES6uroi\n",
       "IiIQEBCYmJhmZmYyMjLu7u52dnaqqqqIiIjc3NwAAACW8nlqAAAAAXRSTlMAQObYZgAAAAlwSFlz\n",
       "AAAOxAAADsQBlSsOGwAAAfhJREFUSMeFlT1PAkEQhgc4vo8LDbVU2hIbK5BY2JmA8SyUGApsrEhs\n",
       "tLMxhtDQGBIrIpWFCeEX2GhCKLzOxhgSY2lCYSOFcXeBu5ndvWMTjuzcPPPuzs7NAsAEAofutbXS\n",
       "Y2EWjpmnYIU9je0dT/wCcNBw2GMcED10xAI0FbM5wLNxEPgGkOp49tQJ9btvzdjzTuEf8IQH8AeT\n",
       "PUigJZqz+b+xtGW44UJRuMETHmAJeplbgvEriGHnykLJwY6xnqxQx5MYAqmCAM9ghOzRgU4hKR+E\n",
       "2cGzEQKpggC70PbMO9ubjkYhnZfwBInXRiBVEOCQaXjjFXR7iIslX9t87IOyqS4CqYIAL6GG7C2t\n",
       "glmX8Cj5AGoIpAoCfIEGq7Vbsb4sHIsc2PbhqW3nXcfQVMJjZVawAqmyGQswB5ENgWvCYVnZP9o9\n",
       "GHWNgjcaCKR7EOAuzpI5hZ4uSxXpHJQsuaCUJQ4+QxHVSMfM6k66IC0wQgqniEDppDl4zqrJHeH8\n",
       "o5Sl9J9SnEr5DhHoubhgG3KoJ281qUJ4/XeDJaUstzXyBecQ6K7VAw8gmlU7o0nS8KW8r5Lazfp1\n",
       "Zg5aFd6alGE0ffucGKQX6gJ4IO+LpeALCKyCYoqQW60UBH6yX3+FQkS9JFNEtB8EcnnLCVb40Ni+\n",
       "yVodfzAzgX+yDo5CNgHiOgAAAABJRU5ErkJggg==\n",
       "\" style=\"display:inline;vertical-align:middle;\" /></a></span><br>"
      ],
      "text/plain": [
       "neg_t_plus_one_sub: {t in NaturalPos} |- (-t + 1) = (-(t - 1))"
      ]
     },
     "execution_count": 70,
     "metadata": {},
     "output_type": "execute_result"
    }
   ],
   "source": [
    "# to be used as a replacement in the partition step that follows\n",
    "neg_t_plus_one_sub = Neg(Add(t, Neg(one))).distribution().derive_reversed()"
   ]
  },
  {
   "cell_type": "code",
   "execution_count": 71,
   "metadata": {},
   "outputs": [
    {
     "data": {
      "text/html": [
       "<a class=\"ProveItLink\" href=\"../../../__pv_it/_proof__psi_t_var_formula/dcc8fa0b851483582e3e23395cdbf906aa3255830/expr.ipynb\"><img src=\"data:image/png;base64,iVBORw0KGgoAAAANSUhEUgAAA90AAAAyBAMAAACzGqV/AAAAMFBMVEX///+6urqqqqpmZmbu7u6I\n",
       "iIgiIiIQEBDc3NwyMjJ2dnaYmJhUVFTMzMxEREQAAAC0ii6rAAAAAXRSTlMAQObYZgAAAAlwSFlz\n",
       "AAAOxAAADsQBlSsOGwAADbJJREFUeNrNnH+MXEUdwL+393bv7e69vY2J8WfSUyxq+aMrh60g0VVi\n",
       "sU1Dt8hPFbn0yoFY0wsSoFJgYwELyrXBGhtLypaIgQbsmYAnCebWaChYoBcRKwTYoxAl/ND+jNeW\n",
       "us7Md957M/vezLy3u73dL2T3db+7bz73/c585zvfmV0AIrlp6LxYb6o0XYEXgVMl73UF9wVF73JP\n",
       "VwD9vahQ7IGuEiWnQvonugLbWe0BVboCKDGssFelu/yt4lTJX7qE+3T34ommu2575ZHwl7sFz8Sp\n",
       "kOzm4AjriGSq+Gzf5M5Mf7q/owZNhQa+rsEzcKrkx2V+sfzsI53l/h7HL3mvXNlRgyauD7Vut+AZ\n",
       "OFVylXeV7LC/P43mm4RuMejPwl7sHjw9pyqcj3WNv9MF9vRDg0F7B7V3Mai1spS1Z23h/5xXDnmP\n",
       "Ce9MfRNntsNSUTgV0lcx+PsU8iOwh90z20gRatBz9Tc9t/U1gpuHpavBt5jweqv63lht41pGx6kS\n",
       "gTnU36eUH4G9NPc+Nj9W9Qb180tD+qmVDeEvP4n34AiJEIOY8J7Qt/tEJDq7wC/Gi81yqmQN6P3d\n",
       "Fv475odHHAR2sWEh/etq03qD7tNPmvuizamPh7+cw8lgP48/R4PvMOA5+tzJiZZaZXlO6JxebJZT\n",
       "BXBS7+/28G8BxajbL2LDCvpn7ga9v3+pbypc/YfGqDwSPstb+Pecz9v9Z/AdBry0vhgTrs42Fmgv\n",
       "cWfJlMLfZk6F9I/p/d0WfmsMFP0CgV3s3DB5WK83qCF2uWpr57PF8CQLVcPa2d+dpaaCYcmAt1Af\n",
       "Xly1jNcnWnHZI3+GFBj8beZUpWtVvb8j8lNINb89DN/XTf8udpYkbM4JvUFT+g7oqnuhV+VSqrJU\n",
       "s/wmZjl7lgecQCXDhHet3tzXghGvAItgKUkwhoaG8mp/mzhVUpvQ+zsiP4VU85PxfZMiMZkVsS1i\n",
       "zOSs3qA1fQd01QN5+6TiLVSVKCgslMP+8nZwNHAb6fEcffTx1Bq8g7Bp+rSsaXybOJXpeVnr76j8\n",
       "FFLDv1k1f3Pgt/1gmRMmGNgVjFPP0/7Br0OafN6dUorMoHfW63V6j230tQl46Wausr/o35lfOWI5\n",
       "YlKYYGQ76/H6Z7R4TB3ES9POlwXnF/T5MWKvDb/nTJc+AM1xquRfwnVmNhxQaiic/zHmb3ttvU7v\n",
       "EeC/4wzfMrI1JqWaFck7+mb82z97232BYUjjaSaP1yEbuX64zRAbWGf9JMP+Qf3dU7affslT+bKD\n",
       "24wB2YcwXGI6lzkQmP/0eAMTWryBiVA8Zq8Pw0/vwVHx63BXxeJUya2C83Yf2xMKKDWk4qeQ5319\n",
       "omLkl62BwBwbdpGpqKCPKLP8Fju/UYbTwtXu2t6qWHDZMmLWCvH3MkhChvy3DBr3tXbgKwlseATj\n",
       "KP4je7CxAQNerazFq5VD8JYRexHEElSgQp6V21axOFUVrsNg5icNZR78gttQOD+BXAbF5O0VIz+1\n",
       "Bn3pNAGYY8NUHmol/cr0AN4iPWhd46exshrDyJvgkKRh5gWgz9tgXzkJPyI+31emKtmOuNOFg/5s\n",
       "zKewpzqBha0Bbwq0eFMQgrevnJ4g1yV7EEr0NVWNJRanargY3jjFO9a9sKQcsobx+QkksWTOKRj5\n",
       "iTXYTlxKAObY1JoLB/Xrx814i98B/AYy7nt7JkQ1L6BtpGad+bgXz/tJF/ykr5LGDc28cKq8ElOZ\n",
       "A9JwSO7ceRFfkOjxngEt3jMQisfiYTUJiUFWW7PLyvEdmVOWb+58EJ2QOARm/h2QHYbMDHi5w8eg\n",
       "kZ9DjvdUjfx0fNPMEK2BwBybRsupafP6kdziXboWtN3JNFFqXF7a7716Fu1IpQ95/s4+V32h4qsC\n",
       "dhxHh7L2Ezx7fh9HBTHi13AaMuCtBy2et3iX8Zi9nnzFOYeNnFdfKGr9HYlTkheLYK3E+HcSzPw7\n",
       "IFelhYxx99X5geIDh/x8z5iR3/U3WgOBXeyBqrRgCFtMVfAWpEPXBmFro0GZ2to9An31Ou1D6SKu\n",
       "aFh+/tn/vs76BKoCdkyzlmusGzp8HPyPPb5GNNbrgfVMiBwHLR5TB/GYvRL338pcdVu9Dlp/R+KU\n",
       "gvhb5OGCfGA5qeLfAQMFeud0udHfTL38hoILuQVWg4nf9TdaA4Fd7IEZ2KVfX/MEmAaw2gQsCPib\n",
       "qs9fNVnVVaUVdkxU/NKFxfP8dVhCeIjkohkGZsA7AVo8plbhPW6Ye2NxSgWmTBmswq8YmmFn5QQ2\n",
       "ROKsc4I3JPqbqq0bzlgfZ0vC8/cCH9jF7tsMX9YblGXymbx9nE32qUaDMvVTYB/RbDKo7Ij5yQDe\n",
       "iuc1o2xQlDNlq2Cxv16Ph6skJR6qVXj7I/o7Eqcol8FDcB5bmECv3t8IuAM2VVhmN9zgb6buH4ZN\n",
       "xRj8nr9TAjDHTg3DXsOCQfB3BXrzDf5matJ53gmtternRficNyPwyAVwNUsCAR7dQBISeq3Hc0R/\n",
       "B/FQrcJbHdXfUThFqULmHwWqJW85EIEf/X2cNyT4m6lJCM1NxOD3/I3WOC5ip8a4QQfqolBI6xhT\n",
       "zMtjwCQfmFcCh/5tvaOjV98wOlp11Q75xPFoq9Fjkh1fYS3j0vCwYMcMVvgrvr9VeD0HQYfH1NHx\n",
       "WuEUpcK2VzKCv/X8JJ5XoOcob2jR6OiNo6NrPHWNfKISA9vzN7MGBz7s+VsZMEfE8U0/QJZG7gwj\n",
       "jW/n0MaNt0cz5IhkxwVBO47i5gbc/SjdCNDF8xFxfCvwmDoGXguc8g6GvXOaanXxfEQc3+TmdOW2\n",
       "IGx81z6zcWMxBrbnb7SG7O/hsJJ5SDyHf5OlUdHLIOV4fjSeMT07bg3Oi+vQjnYlmUc76vE8f4fj\n",
       "oTomXnOcsr/vhpXo78xspHiem4HsEfDWF3I8L8XD9vyN1pDmb5KvXalf4G7iBepJVmEaD+RrVL24\n",
       "6BXp49gRF4i8RHxCWHA6gy8DrOxh2Z4ez+b5uQIP1THxmuMU5a9OBZL5D7CUTr/+tnl+nh2jJTCv\n",
       "fjBfVPde7+2oxPP3uAB8wiuXyAUNZxebYYT6dQlvkRq0bgGvAuT5m6mX3PzBq2LakQ7bjFDK59sR\n",
       "PO6sJJEouSCk3tKIhweLlHiojonXDCebOVds5hfJj5KHCysh9RbHm79FQNLQKjh/2q8PzhfV1tW/\n",
       "vaQU098srDzgA7vYZN5YKNWHAns0fQW8hXXOt6f9BYNfX2PBbNGxUjw7sp0uXC/UWPsObkBYmFjl\n",
       "aB0DD3QY8H4AWjymjonXFOeIuynBplBab1nO5tyEvLESzk8aOu/B58Cv/8+X1L1rfx4znuNO3LAP\n",
       "zLFpXliTcv3XGj+dnhG22LwdHM+g6Znmxg0V3MDBEzv8WJS7vfD4tPMtniDo8baDFm87tCCxOOVC\n",
       "0xXwInJLx3NU/HJDor+b4ZetgcDuqbNayc07ufwxUCsaE26RKzduSPSONW/Ht9gjbt7yHXJ3e8Ga\n",
       "f2HRi0A6vMWgxVvcDn9H4pTlqxd/CsTAr+eXGxL3Sxa34G+0BgK7BxDIGiYlnoSxSdIwtF0MOjRt\n",
       "9G6xNNiTjzRtR36k7V2Ew6JFsNxswJsqavGmiq37OxqnSr4LMv+Gs98LAMoNtcovWwOBOTbdjRAP\n",
       "zNKSzDhkxDnHOiTcIhi7rENN2zEpJrw8+w2Wowx4Kwa1eCsGW/d3NE6V7JaCZZ6k4LvyjYByQ63y\n",
       "y9ZAYPeczN6GEUr6xNMAN4off4OSTLuFwoC8ER/oCu5JDL04Uvg3svpmtAEkiJcraPFyhRb8HYtT\n",
       "JdIIXQr9ZegbawSUGmqZX7YGArtfeLvV3ypjcibAbUXYKy73JvV3n4TWJINB7GG+nC+FVySUeFl9\n",
       "/pAdgzaJiVNbr/L5+45A/yzMIf/DIrZ9FKQD/dYw3U2CveIMuSKvvZ9BbZQ+tMd1fDQECwt6PEt/\n",
       "kMw62C5/GzlVn6tK/P3k/5Mwh/zXidj0+wZiDpjBML82pGMb+n3TcinGIN6Pnwq+wYD3cJTu3QYx\n",
       "cipEXMAgf+rAHPIjsIvdT9P0eThCPwHugr/hjN0t+jve0o7+x0dPWKnbgNdnOI7Vrp/yMnIqpIeP\n",
       "UJ9fPoF5ivkR2MVmpXg8q5qkOwAX4xJIznva8oVVZf/D8HC5enVnwGvPt5XbwKkS3GYU+NfAHPJf\n",
       "LmJj8ojwf9vl1SO/1FBh039XKt3Sr4vhj9m4P8mTClkAmPC26RvY1h5/mzn1CbrP3zszh/wI7P3i\n",
       "EXY1/C7niio/b5Zt+GOsa/QpxTUt8Fir2NMSHm80v+ehxFuiT52WlNvh7iicqohakfmfhDnkR2AX\n",
       "m68psQf2zvLzRwug4Tz2Xfoiz10t1LD4QR33uNG76gGixLO36Hv4lnb4OwqnKiJj7Hf5ExX5MP6p\n",
       "5X9HwuZVNvxOuX0Yj1fQvVvZg7Y+Z7BbSCm+gqOHr+l6QqdFE949+ibuaYe/o3CqBH8QweV/GeAi\n",
       "mCt+BHaxYR4azsHw/p8i60p3Dg0tgs5IajDs1a7BM3CqZF9Z4LdHhoaGO8W9ij9/B71/IcuE19br\n",
       "xzrEo/idym7BM3GqUvsZgT9Vr9c3dwjb/T1N/oO06XXlzpqxR2GILsEzcqoEfy+38/wf8a7upQ+J\n",
       "9zvM85Iq8esOPDOnasU62BX8jp/54TGbrZ3lsZSZaFfgReBUCe54d5offyPy/4aEHQFVxN+VAAAA\n",
       "AElFTkSuQmCC\n",
       "\" style=\"display:inline;vertical-align:middle;\" /></a>"
      ],
      "text/plain": [
       "((1 / sqrt(2)) * (|0〉 + (e^{2 * pi * i * phase * 2^{t}} * |1〉))) otimes  ((1 / sqrt(2)) * (|0〉 + (e^{2 * pi * i * phase * 2^{t - 1}} * |1〉))) otimes  ... otimes  ((1 / sqrt(2)) * (|0〉 + (e^{2 * pi * i * phase * 2^{0}} * |1〉)))"
      ]
     },
     "execution_count": 71,
     "metadata": {},
     "output_type": "execute_result"
    }
   ],
   "source": [
    "psi_t_plus_one_as_tensor_prod.rhs"
   ]
  },
  {
   "cell_type": "code",
   "execution_count": 72,
   "metadata": {},
   "outputs": [],
   "source": [
    "# from proveit import t, defaults\n",
    "# from proveit.logic import InSet\n",
    "# from proveit.numbers import deduce_number_set, NaturalPos, subtract, Neg, Add, one\n",
    "# defaults.assumptions = [InSet(t, NaturalPos)]\n",
    "# %begin\n",
    "# deduce_number_set(\n",
    "#     subtract(Add(Neg(Neg(t)), one), Add(Neg(t), one)).simplification().rhs)"
   ]
  },
  {
   "cell_type": "code",
   "execution_count": 73,
   "metadata": {},
   "outputs": [
    {
     "data": {
      "text/html": [
       "<span style=\"font-size:20px;\"><a class=\"ProveItLink\" href=\"../../../__pv_it/axioms/71c1fc00120f763c694cd99d32f7a5e7315b9ca50/expr.ipynb\"><img src=\"data:image/png;base64,iVBORw0KGgoAAAANSUhEUgAAADwAAAATBAMAAAA+KHOiAAAAMFBMVEX///8QEBCYmJjMzMwyMjKI\n",
       "iIhERERUVFS6urp2dnZmZmaqqqrc3NwiIiLu7u4AAAAqt126AAAAAXRSTlMAQObYZgAAAAlwSFlz\n",
       "AAAOxAAADsQBlSsOGwAAAOZJREFUKM9jYMANFjDgBQmkS/PdT/Nj4JSXwKWbbUM7A8N7uG6+O6jS\n",
       "7Hc4FRgYGbjS0sTSkhgYuP+hSW9j8GHghevmugARDrt71wEsfSjgCJI07wSwbEscTPeBYtYJcOn2\n",
       "/PQAIMXjBzf8ABtDBkL3frAgywGENPOCt2/hobYEIo1w2gEGbe5EOPcmmDS8CwQJUGn2B4XwUPoB\n",
       "pp4h6+YreAvjcX9geAByP7I0gykbjMflwG0ApFgD4IEK5LKawRUXPAXT3jABlg1w94I8nKQApp9n\n",
       "PADTzP5iQPIJRkx15kICFQUAALDXOQj7yj+HAAAAAElFTkSuQmCC\n",
       "\" style=\"display:inline;vertical-align:middle;\" /></a> <a class=\"ProveItLink\" href=\"../../../__pv_it/_proof__psi_t_var_formula/d40aa674e30bdcd00eddf596487e948eb4f039cd0/proof.ipynb\" style=\"text-decoration: none\">&nbsp;&#x22A2;&nbsp;&nbsp;</a><a class=\"ProveItLink\" href=\"../../../__pv_it/_proof__psi_t_var_formula/c14b9abff04e56b6952b0c97790d8b4e770cdce80/expr.ipynb\"><img src=\"data:image/png;base64,iVBORw0KGgoAAAANSUhEUgAAAMIAAAAVBAMAAADm9CyVAAAAMFBMVEX////MzMxUVFRERES6uroi\n",
       "IiIQEBCYmJhmZmYyMjLu7u52dnaqqqqIiIjc3NwAAACW8nlqAAAAAXRSTlMAQObYZgAAAAlwSFlz\n",
       "AAAOxAAADsQBlSsOGwAAAfhJREFUSMeFlT1PAkEQhgc4vo8LDbVU2hIbK5BY2JmA8SyUGApsrEhs\n",
       "tLMxhtDQGBIrIpWFCeEX2GhCKLzOxhgSY2lCYSOFcXeBu5ndvWMTjuzcPPPuzs7NAsAEAofutbXS\n",
       "Y2EWjpmnYIU9je0dT/wCcNBw2GMcED10xAI0FbM5wLNxEPgGkOp49tQJ9btvzdjzTuEf8IQH8AeT\n",
       "PUigJZqz+b+xtGW44UJRuMETHmAJeplbgvEriGHnykLJwY6xnqxQx5MYAqmCAM9ghOzRgU4hKR+E\n",
       "2cGzEQKpggC70PbMO9ubjkYhnZfwBInXRiBVEOCQaXjjFXR7iIslX9t87IOyqS4CqYIAL6GG7C2t\n",
       "glmX8Cj5AGoIpAoCfIEGq7Vbsb4sHIsc2PbhqW3nXcfQVMJjZVawAqmyGQswB5ENgWvCYVnZP9o9\n",
       "GHWNgjcaCKR7EOAuzpI5hZ4uSxXpHJQsuaCUJQ4+QxHVSMfM6k66IC0wQgqniEDppDl4zqrJHeH8\n",
       "o5Sl9J9SnEr5DhHoubhgG3KoJ281qUJ4/XeDJaUstzXyBecQ6K7VAw8gmlU7o0nS8KW8r5Lazfp1\n",
       "Zg5aFd6alGE0ffucGKQX6gJ4IO+LpeALCKyCYoqQW60UBH6yX3+FQkS9JFNEtB8EcnnLCVb40Ni+\n",
       "yVodfzAzgX+yDo5CNgHiOgAAAABJRU5ErkJggg==\n",
       "\" style=\"display:inline;vertical-align:middle;\" /></a></span>"
      ],
      "text/plain": [
       "{t in NaturalPos} |- (-t + 1) = (-(t - 1))"
      ]
     },
     "execution_count": 73,
     "metadata": {},
     "output_type": "execute_result"
    }
   ],
   "source": [
    "neg_t_plus_one_sub"
   ]
  },
  {
   "cell_type": "code",
   "execution_count": 74,
   "metadata": {},
   "outputs": [
    {
     "data": {
      "text/html": [
       "<span style=\"font-size:20px;\"><a class=\"ProveItLink\" href=\"../../../__pv_it/axioms/71c1fc00120f763c694cd99d32f7a5e7315b9ca50/expr.ipynb\"><img src=\"data:image/png;base64,iVBORw0KGgoAAAANSUhEUgAAADwAAAATBAMAAAA+KHOiAAAAMFBMVEX///8QEBCYmJjMzMwyMjKI\n",
       "iIhERERUVFS6urp2dnZmZmaqqqrc3NwiIiLu7u4AAAAqt126AAAAAXRSTlMAQObYZgAAAAlwSFlz\n",
       "AAAOxAAADsQBlSsOGwAAAOZJREFUKM9jYMANFjDgBQmkS/PdT/Nj4JSXwKWbbUM7A8N7uG6+O6jS\n",
       "7Hc4FRgYGbjS0sTSkhgYuP+hSW9j8GHghevmugARDrt71wEsfSjgCJI07wSwbEscTPeBYtYJcOn2\n",
       "/PQAIMXjBzf8ABtDBkL3frAgywGENPOCt2/hobYEIo1w2gEGbe5EOPcmmDS8CwQJUGn2B4XwUPoB\n",
       "pp4h6+YreAvjcX9geAByP7I0gykbjMflwG0ApFgD4IEK5LKawRUXPAXT3jABlg1w94I8nKQApp9n\n",
       "PADTzP5iQPIJRkx15kICFQUAALDXOQj7yj+HAAAAAElFTkSuQmCC\n",
       "\" style=\"display:inline;vertical-align:middle;\" /></a> <a class=\"ProveItLink\" href=\"../../../__pv_it/_proof__psi_t_var_formula/f67e93e770d503c08ed12fc8d30b65511dba16bc0/proof.ipynb\" style=\"text-decoration: none\">&nbsp;&#x22A2;&nbsp;&nbsp;</a><a class=\"ProveItLink\" href=\"../../../__pv_it/_proof__psi_t_var_formula/a3cc5397f3fb3fe57d511ad1e92d462a9ee69ae20/expr.ipynb\"><img src=\"data:image/png;base64,iVBORw0KGgoAAAANSUhEUgAAAI4AAAAVBAMAAABicsu7AAAAMFBMVEX////MzMxUVFRERES6uroi\n",
       "IiIQEBCYmJhmZmYyMjLu7u52dnaqqqqIiIjc3NwAAACW8nlqAAAAAXRSTlMAQObYZgAAAAlwSFlz\n",
       "AAAOxAAADsQBlSsOGwAAAaJJREFUOMuNlL9LQlEUx4/lj3zqo8W5MKiWwH/AcMopkOgt5eAgDS0J\n",
       "DdXWEiFvkRahJSmak/6BaiiQEN3a6oG0C001ROecfL737j0veuD1cu/n+/HcI/cBgAPi4/x7EUwa\n",
       "MveyZ11YC2GjAxyehY3IFmbq+jqx2ba+/gJgNPH7OljvZeMLx3MNR9ZYvlA9GE62YYZ+tj/eK7n1\n",
       "k+dQ8zD75npcGMOJY4jT9GS81PN74toBmJ14XJjCu9Cl6bbkSWoN6ooeCrfAxnYvfKwIntS86rEF\n",
       "z2/4Fk0A6ZFUT6LJPbH4YWdLqofDR1Ahtil50lW1nork4fAT1HCMdbhflrVjWRsTT2Skemqex4M5\n",
       "PMd7N0Wpnmj1D48Hc3iNa+2DIZ2rrPZHPBeHH6GA0wY8SH3Oq/UUJA+H9/EfA8gZg6An9U2VdFQP\n",
       "sXDnBD0ctiGL0+FBcGtq8XMJG1hUPcTm9s7qAZjDmxCb9YE9f+pdu18B1g+bZbpi3lPyc6eaJ8D6\n",
       "YbrAq/JrDMy8vhbGDvFzFbI3LbxDw1jymwN571WqUWYzDvwAXC6EbnAueBIAAAAASUVORK5CYII=\n",
       "\" style=\"display:inline;vertical-align:middle;\" /></a></span>"
      ],
      "text/plain": [
       "{t in NaturalPos} |- (t + 1) = (1 + t)"
      ]
     },
     "execution_count": 74,
     "metadata": {},
     "output_type": "execute_result"
    }
   ],
   "source": [
    "# # needed explicitly(somewhat oddly) for the next step of substitution\n",
    "Add(t, one).commutation()"
   ]
  },
  {
   "cell_type": "code",
   "execution_count": 79,
   "metadata": {},
   "outputs": [
    {
     "data": {
      "text/html": [
       "<strong id=\"psi_t_plus_one_as_tensor_prod_02\">psi_t_plus_one_as_tensor_prod_02:</strong> <span style=\"font-size:20px;\"><a class=\"ProveItLink\" href=\"../../../__pv_it/axioms/71c1fc00120f763c694cd99d32f7a5e7315b9ca50/expr.ipynb\"><img src=\"data:image/png;base64,iVBORw0KGgoAAAANSUhEUgAAADwAAAATBAMAAAA+KHOiAAAAMFBMVEX///8QEBCYmJjMzMwyMjKI\n",
       "iIhERERUVFS6urp2dnZmZmaqqqrc3NwiIiLu7u4AAAAqt126AAAAAXRSTlMAQObYZgAAAAlwSFlz\n",
       "AAAOxAAADsQBlSsOGwAAAOZJREFUKM9jYMANFjDgBQmkS/PdT/Nj4JSXwKWbbUM7A8N7uG6+O6jS\n",
       "7Hc4FRgYGbjS0sTSkhgYuP+hSW9j8GHghevmugARDrt71wEsfSjgCJI07wSwbEscTPeBYtYJcOn2\n",
       "/PQAIMXjBzf8ABtDBkL3frAgywGENPOCt2/hobYEIo1w2gEGbe5EOPcmmDS8CwQJUGn2B4XwUPoB\n",
       "pp4h6+YreAvjcX9geAByP7I0gykbjMflwG0ApFgD4IEK5LKawRUXPAXT3jABlg1w94I8nKQApp9n\n",
       "PADTzP5iQPIJRkx15kICFQUAALDXOQj7yj+HAAAAAElFTkSuQmCC\n",
       "\" style=\"display:inline;vertical-align:middle;\" /></a> <a class=\"ProveItLink\" href=\"../../../__pv_it/_proof__psi_t_var_formula/6dbd6f863ccd2b30298a156ec1898ff38d6e96180/proof.ipynb\" style=\"text-decoration: none\">&nbsp;&#x22A2;&nbsp;&nbsp;</a><a class=\"ProveItLink\" href=\"../../../__pv_it/_proof__psi_t_var_formula/4e954919a6178da1fe49d137c6065d1ba6dd786e0/expr.ipynb\"><img src=\"data:image/png;base64,iVBORw0KGgoAAAANSUhEUgAABaEAAAAyBAMAAAC32goqAAAAMFBMVEX///9UVFREREQyMjIQEBAi\n",
       "IiKYmJhmZmaqqqru7u7MzMyIiIi6urp2dnbc3NwAAACKehgKAAAAAXRSTlMAQObYZgAAAAlwSFlz\n",
       "AAAOxAAADsQBlSsOGwAAD15JREFUeNrVnX+MXEUdwL/7e9/b270FQQMROYiAouJBCNAY4doKCIlw\n",
       "DZylMcA28g9i6GKBYqyyCSIq1lt+NDVivQVqQBq8jYJWqHQTjfEPtdsQDNArXQ9NlaRcEb3e9dc5\n",
       "783Mm/dj3ryZd29v307Dd46d3dnPfL/fNz++M+8tgFo6X1ycbEBP0/kQp6R9vN85Y81PsWn+aD1E\n",
       "JYmKuPyDvW1jEN5Sp5/V+5sz5nqm2CTX14So44yAlrZ728Qz4uUokB/tb86Y65li0/xB9Sqyw/Qv\n",
       "/vXw5d62MAhv6dOevuaMvZ73OPNiWbmGf3TIH4+sn+cUl67rrV0C8HqQMpV+5oy9nik2zb+oXMOX\n",
       "rL8KvKZkmr21SwBeL8bFa/qZM/Z6ptg0/7bq2jA7Im7KbT2edIzEzlPg0j7m7AM9X+rMU1XFz6fb\n",
       "4qZ8geS5mrCagGJh0pYxqYoH94nrvi8KHT9WZxKl3Z1Yc1qK5HGGdYMumt8Pm+QDJxSr21UXNsV6\n",
       "7S5xNXctxhI4UsMNNwXgQU68cMiVo/AUvFayVkypcqw5LUWmypG5QVfN74NN8wsVq1sFwqZkyu6l\n",
       "cMBKWZgO+Hy6zKQaXlAkRi5QU6ID27TPnG2tTaIZ3nyPOQce3ijipIrMz0fmBpGYv7TjFRVsmo+r\n",
       "TaT1I+KmTDZwvk1c7Ta5b73D5/WP2aQSni5e/ehyi6MsWf3qD/o0I1ljEo2PR3vMmYYJESdVJIcz\n",
       "rBtEYv5UPaWCTfMJtdhEYkTclFNI/llxNfzir7inMKt9pluP15lUwkuJt3/4xdmG64UX6Sw242MZ\n",
       "7RomUTqnx5wl2CbitBR5TmRuEIn5H4d0XQWb5Em1raJ0WdyU5VIDmFW8dc9pnFWlSb3vpDqMCqeR\n",
       "nMlkEF7AiESLnVhpu/8YRRkI8GgyT6SzxXWdHnPCJ4WcVJHrOhG5QTTm/ydkGirYJM+qLQ0nK8Km\n",
       "6LPE1OI+xiquwj1+Tgu5Uc1vulU6waQKHtwsbt3NgVhm0WNohr9hw4aWv0fPdJhE42Clx5y5hpCT\n",
       "KtLLGdINojE/6qM7Ktgk12bVQh0dYVMK5EsmxX2MVXwMZnyUPdgqHclX/VT8KZtUwNPFfYdV7I9l\n",
       "Fj2UDeqjk20mnT1aTzjfKAg5qSLT5YjcIBrzpyClhE1zNE/wuRJ4X/ZR299Fbx+ZJPOrkw1BqtW9\n",
       "tZxM/7jdbFLp1oUFo65LjJcq8PRVxthRLx0p3cvISg6o22xSAS8xJMQyi71YKeO6yoJ+cYUUHbiT\n",
       "VPHC6+zDjmrxBgTdhvDO7JaWM7XwPyEnVaT8DDSAPyLz77hTCZvmaD49xcfmHYBdYdPrKe97Do6m\n",
       "ia7Njp9UyzkvbRsXXkP/bflpxbzojCYNdEofeRpryqHfYssONVNjUgFvsCLEGqxwsUxP+Sv8/Z1h\n",
       "q4iTHNWW5phE7IfizUkV6eX0SwH80ZtfBpvm++m7PSPTQ5xV5mFxSydwBFQ/QSCKe78Fec+2pM6u\n",
       "an0NbIV64d9t0NqoSVsRRRH92wruHRTDo43QOobKVJlUwJvsiLBwsQsL5akKYmtCG9oo9z1qNoWR\n",
       "SbWrbRKyx2LOSRTp4fRLAfxdML8MNs3XtYhHFz0TeA5rQMhyEscCs4cIxGWwueONWGRZXzBdh20d\n",
       "SOpV0K9DTdrWKcC/ULPQayXnTRXIo81TXhgqN8ykAt46IRYudmGhPFVBbM1SDZoo991VmQLtQ1eg\n",
       "Mlztepv0YsWNkyhSlw1IB7yxC+aXwaY5ckLs0U+4v7nojQbn58RNHccfSQxjiOwoFIeATjYH6GCZ\n",
       "sDyxVC0Z/c30QJkOOwnUy3zX+J8D8K67jzbWIBiqcIhJgN/t21uXwvsADwv+6Cj2YpmjebkA+Ror\n",
       "4vd9xt4wrnaXTVpdWmw5iSIpZ2Hfvt/yPirLzze/xR/G/DLYNEcTBezR3/fEyIa8V9+RgM6lYVt1\n",
       "TkGybMQep+nl0PREM6efe8bQ0TcGRmiTsqeXnzFmVaXzn/s6z6MxVP4Ik7C9DtpOKbzlPCx42BVM\n",
       "d2OZnrL2Sf2btiJ/T8HVjjeYBHgv5pxEkYRTR+78RMv7SWl+vvkt/jDml8C28sEy8WhvDPFy3+hc\n",
       "QFRnsI0hBtFoMgepjsujcfEjV1bh+oUF489lsIY2CR74r7kdkF5YOMTzaAylz9nkBUg82pLBO87D\n",
       "Yp5ynI9lekr+ihXmV5Aif0/B1U7WmAT4T8w59TkbJzyFSjTvnow8P9/8Fn8Y80tgW/ngkDFH+U0F\n",
       "2gX3jGeTh7UYcJhlf922GJ8y+n99FvJtt0cbxdqV31nOnYTxt+Utj97EouhY5ood0KpvyODN8rCY\n",
       "p8wKsHzPmLhVjqvF0X4a+18Zc066KbES73u8BbCl6Onh5fn55mceHcL8EthWnh5G7y7mR7SKJ1SO\n",
       "V2H3jBkJH7bKBZji/rotrDIFM21zuj7q8mizODEKM7xxMVkTezSGOsrkK/AWbDGXx0F4OOjjxrI0\n",
       "bRb7YfHORXFVjqsdbDIJMBZzTqJOzFnoFDtaVfMM2fL8fPNb/GHMH4zN8swoevezudFsB0bYCKEZ\n",
       "5xVznslUIiBieSZZbdqahIbIjS6PNovRlZqscKrw2YezPBpDHWfDbxmKv6iiJUUwnj7Hw7I0bRb7\n",
       "YcEaWU/ZyEbWQeIWN8ack6gTcyLCNw8YuK4kz883v8UfxvzB2CzPjKB319PNorHNbp46NKJ82180\n",
       "VFf28ejBBXsyXtPet3v07hYZdtowgK6jJw1HHBu78cqxsbJVPIk+KfUgBFy15dEYCi9rD5P5/10k\n",
       "9uiLN2EurweOebCMEehzZAQyi6WxbEH4YYfKzWoHq0wSVctw4rZ2iRNXzuMk6sScRXwGyFO5l9+B\n",
       "v8BUwTG/nV/N/LLYLo+G8XoRtCY8YLxiRhOM5x7kPV/pP9ysts866EWKvtgI9Gzi9dGTP3z3XblT\n",
       "0qsdHo2hbB5dhdK+BuSEeDgWT/s+J5az75PHclVuqXyT16PHZDlxW7vEiSvncVLXMDkR4cE3cb/m\n",
       "SPJ65pvf2Ucr8Mthu2YdsN6IbNcP3vCm3aPxHMQ+jy4GLNL3dxwenRyC7LwVM3HNOtQOZlsejaFs\n",
       "8+gqHISdWNMBeNRTnFiu0TzsveyWyi/3zqNXxpyTTkjxChZK7UKL59Gy/Hzzu2YdzYixXStD+Brc\n",
       "Dn82NnnsHj3tjd4FBFJ34QDsDFnsZkeMfR0a12YrQ6M4d43vESmhR0+zaACWz+ptKLT+JIFXmuVh\n",
       "sRXXrDqWV+W4Wrzcpwcwlseck560MDn12vMAOwc8KzR5fr752cowhPmDsVmeNuPRf+i0s8hn5h0e\n",
       "/XrQDotuTQCdOyz4xhhU7U3weMPae7Q82izWbvzqi001jza7htdZNADLwl+Q2NGWwMP37bixLE2b\n",
       "xYpYTpUbQxSu1nmU6nDMOemRKjyK70SMhU1kVmzOYk3hz/+8i59vfos/jPklsK180Nwz1M/4xCto\n",
       "zYEuqrPPXnH2udijvScK8s6zLJ5zVeM4OpKmM8ste09n50PYnqFZnLv1M2qzDnzKy4TSjzEJRuT/\n",
       "kboM3tU8LBbnvVody6Hyk66/sEKqnWwxCdrxmHMSRRLOpLHDchqdFa+2prK+/O5Dmnzzsz3DEOaX\n",
       "wLZytCCdMsca4zIs/9jWR3NOfenO+wOe8syg8GiQGqKXlZEecnt0akjdEPQ0KYbC9/WQu3uyL8H2\n",
       "ihTeRTws5ikXwSKSs1p83xS5e4ocoYkvJ1EkPepzR0P/NW/zw4dfd5uTb36LP4z5ZbBdJ5UKxnty\n",
       "zTdsHp3kzHOcxwg/7NktwhdBbsQOcQHJrZNKuDicR2MofHiWHqH90cvfk8O7m4fFTgDdHYWn4Gpf\n",
       "s0nrYE9sOYkiKaf28A5uGMKHP+HetuCb3+IPY34ZbJqP18x3m3FG/d4G8eiDV+w1blPzpBscK5hh\n",
       "OLDeMeRk8LGq7LwNwnu3YHY+vEdjqGSZSQW8dXURFi5epKeQas+ySc4xiJhxEkUWpO85dfC/DS7+\n",
       "LphfBpvmuzq4j2YfpoMCb+Q5xXEtttDKc7/9CiV3vWtzNohCxRMznwvv0RjKGUqQxpuoibBw8SI9\n",
       "pVBxx2J4W2wx4ySKTEjfw+Lg3wgu/i6YXwab5mcCvOQOPOLEu4/S0T08BokOpEc4l995hiDVJry1\n",
       "nKfeokLDDoWfceZ9UFsAXrIqxEpWF+Epjmrxw9foI9jSQ/HmpIpMS09w7fyo23TzR29+GWyar1Cq\n",
       "eNLePdwH6XlI2Icqer4v4Amli36A6as2qYCXFc/gsiMQUSoOMwkw04w3J1XkTDOMG+RqHv5um5+P\n",
       "TfLSUaW67DfAa6PGCaqEIzZJgtwTLWEtAcXB6fM2qYCniW+k045F5SnpGpNBT6DpPSdVZLgn0GwG\n",
       "D3+3zc/HDvcEGvs6tWhOYzKHPKt01juJr7HQqTDCpBLeqzJdfwTpBZsEODXmnFSRp4Zyg7+Bh7/L\n",
       "5vfBJnlC7SlhA6R7+AHQ0PmkY6jaTS6/a8XVXBtlF6iAl26I621E5CnOMeRozDmpIo+qukHesPYo\n",
       "h7+75vfBJrnqiRF8xq5gHAp52fxzlaOYPnAgkqfF+qZf2aQSXjQPAQ4eQ4aZ5Eer4sRJFakSVcP8\n",
       "L6DPF5oc/u6an49Nc9XYJn7/z/c3yMWZc66PabWpirCWgOKAhH+9iPsbRgF4+F42/3RJNJ6Cf3aH\n",
       "/vhOphxvTqrITFnRDfStR6zHTQyp2Hdx5vfBpvkq1QEfn5meKJM7wta6yskDJrVbxGubWxbTos01\n",
       "JhXxNosXP5s7UTiKdhOTIPzVijhwWopU/9UK7T16X+NaJfsuzvw+2GF/tYJ0wrkT+P6ZfNv1XAXa\n",
       "578t7vvfXsy217k2qYhXWibu/ZdF4Sn4diPrpqOz4s1pKfIsdTe4v4PvAvPwd9P8PtgkTyr/oAd+\n",
       "mnXpML6Z4HkA58NK6MO6S+LFS2kRaxutxaQqHrwjrvudKDzlJzaJOo35eHNSRQ7Mq7vBTBXfUuTh\n",
       "76L5fbBpvlv5YtmGO/dP141uorR6wwZnsETv8S90BuD1IGVq/cwp1nNyPlXvMT/FpvlN6gtNvAbY\n",
       "vcOIamQWFhZc6+5f9tYuQXhLn/b0NadYzwNHzdOdveRf/K8ok584T630WUfE45fuffGWPA0M9zen\n",
       "WM8XXx4TbJr/PkQdKbN7z7/nV35Zb5sYhLfU6el6f3OK9Txejgk2yfVQS2Z8FNb34kw2etvGALwl\n",
       "TtqyfucU8qc68cCmOf492v8D/B4NCsFOxC8AAAAASUVORK5CYII=\n",
       "\" style=\"display:inline;vertical-align:middle;\" /></a></span><br>"
      ],
      "text/plain": [
       "psi_t_plus_one_as_tensor_prod_02: {t in NaturalPos} |- |psi_{t + 1}〉 = ((1 / sqrt(2)) * ((|0〉 + (e^{2 * pi * i * phase * 2^{t}} * |1〉))otimes ((1 / sqrt(2)) * (|0〉 + (e^{2 * pi * i * phase * 2^{t - 1}} * |1〉))) otimes  ((1 / sqrt(2)) * (|0〉 + (e^{2 * pi * i * phase * 2^{t - 2}} * |1〉))) otimes  ... otimes  ((1 / sqrt(2)) * (|0〉 + (e^{2 * pi * i * phase * 2^{0}} * |1〉)))))"
      ]
     },
     "execution_count": 79,
     "metadata": {},
     "output_type": "execute_result"
    }
   ],
   "source": [
    "# # we can partition the operands in the psi_{t+1} tensor prod expression\n",
    "psi_t_plus_one_as_tensor_prod_02 = (\n",
    "    psi_t_plus_one_as_tensor_prod.inner_expr().rhs.operands[0].split(t))"
   ]
  },
  {
   "cell_type": "code",
   "execution_count": 81,
   "metadata": {},
   "outputs": [
    {
     "data": {
      "text/html": [
       "<span style=\"font-size:20px;\"><a class=\"ProveItLink\" href=\"../../../__pv_it/axioms/71c1fc00120f763c694cd99d32f7a5e7315b9ca50/expr.ipynb\"><img src=\"data:image/png;base64,iVBORw0KGgoAAAANSUhEUgAAADwAAAATBAMAAAA+KHOiAAAAMFBMVEX///8QEBCYmJjMzMwyMjKI\n",
       "iIhERERUVFS6urp2dnZmZmaqqqrc3NwiIiLu7u4AAAAqt126AAAAAXRSTlMAQObYZgAAAAlwSFlz\n",
       "AAAOxAAADsQBlSsOGwAAAOZJREFUKM9jYMANFjDgBQmkS/PdT/Nj4JSXwKWbbUM7A8N7uG6+O6jS\n",
       "7Hc4FRgYGbjS0sTSkhgYuP+hSW9j8GHghevmugARDrt71wEsfSjgCJI07wSwbEscTPeBYtYJcOn2\n",
       "/PQAIMXjBzf8ABtDBkL3frAgywGENPOCt2/hobYEIo1w2gEGbe5EOPcmmDS8CwQJUGn2B4XwUPoB\n",
       "pp4h6+YreAvjcX9geAByP7I0gykbjMflwG0ApFgD4IEK5LKawRUXPAXT3jABlg1w94I8nKQApp9n\n",
       "PADTzP5iQPIJRkx15kICFQUAALDXOQj7yj+HAAAAAElFTkSuQmCC\n",
       "\" style=\"display:inline;vertical-align:middle;\" /></a>, <a class=\"ProveItLink\" href=\"../../../__pv_it/theorems/c40919cbb472e35cf40c5a304b53fd3717eed5ff0/expr.ipynb\"><img src=\"data:image/png;base64,iVBORw0KGgoAAAANSUhEUgAAAV4AAABLCAMAAAAPmR+0AAAANlBMVEX///+/v7+urq5UVFREREQy\n",
       "MjIQEBAiIiKYmJhmZmaqqqru7u7MzMyIiIi6urp2dnbc3NwAAAATlYGCAAAAAXRSTlMAQObYZgAA\n",
       "AAlwSFlzAAAOxAAADsQBlSsOGwAACDlJREFUeNrdXdeWtKwS9T9Izu//ssccKBC6oUf96mama9a2\n",
       "dQOVKJyuayjY3Ie+SRyVWU0j4eg+9G1iUV7TRASRt6FvFMLymgYiq64aoB1/Db3Gu6ymgSDcEM30\n",
       "e6Yv6vOaalHetENrysV7vJsXWU191IAboKW1CI02mMbsB8PP5LeneU2tX6uavCt6tLh8uDUZIVJp\n",
       "TZ9Jr/I6q6mdvLQFemTZedUJ3kX8pHgovV1P8prGA/gVmsmZXseZexG9Atha0db6Ii9boW2SxMfS\n",
       "23mc19RErb5vhVbpnPK59KJhxeU0FcKq1sIR7foDu6pfxT2bXuNtVlNj26tswwE9ZmvOvW72dp7k\n",
       "NRWrO/7gqqh4dEC7XinF5fvo7YEt6NtZBxZbCRJxXDSpD2jiR0kkRxZ7+9RcWQMGdDvrgBI5hS6i\n",
       "F/k3FnrD0BJnNV8L8V0FvSn0q8SDR/W+UYU1ZXrL6E2iXyUYLEHcalGKVNRbRK/w/T9ALwdpK29V\n",
       "d+ApK15EL28ZId4mDEwS1mra4FRSUUQv9uIfoFeBOFe1inxJKsQrope0TB9vEwniSekbueykjyyi\n",
       "N0Bjn5AKS8b+YAA9mCW+zbxxyWEqoTdECx/clnRGoyHfyCy1baMjtkCS1p3RVokKBTaOtrF6IhlZ\n",
       "ldAL0MjHrsciN8uOkc+60fGpYfsueuIRF6JjmvSecenU1sn8xBbsSEM09T7WiMFDRyxOz7hudHy6\n",
       "8lJ/uCbDwd1hEABNGpscvr7wXm0iAkHDksaIfYxWg3mIofj5kYP9uHWjY356OtvrBYG3y42/KLz3\n",
       "VLC+czpmOkJaQjIYDHNRTHO6jk7PjquaQU3XTwStd2LOj3R+YDgE60aH5NKxbmdto9cMl3XIqW1k\n",
       "kHZCEpeiV/aEJsgIi4EWrMJJc6L3PI6Flqz3NS01MXTv84myg65uqn/K4RmGH9pJO3u8hd7pF708\n",
       "o10+d0SLuBVcacE8QYZGIZm0i2iO9MrzjLdlng9X0RtDyyFQyF2TgyU9b3SoeS72nZquMH0c6Z1+\n",
       "GX2NmGmePjvPedwErrRsDjUkQwZuW4PQZtIc6RUqY78TIUlNVhtFm8E8ZMYWFExOGx3DrRsEjQOa\n",
       "J7AQu+k1NOrdF1rMRiIgA7MgB/YgK/ZnesMHxUWtaKSK3jjaDnGuvE5Clz9LRCjvwo0OrjtDIBMM\n",
       "KTRMa7ub3sGidBeuzZIkGUEkc0Wv1JzN9J46YYQtI0hX0avjNuO6HL3epyRUMILCjQ4sj85nn2gC\n",
       "e9LvE2rcIkXswvZiNLIwjVpIhiZhOgQi+pVe2wkyNnGFmcCBa04Pgs4EsSp6o+jR/F4N7tpRiegU\n",
       "vRZXrktbL5fIYbg5IdwcyNHQgMlCepWYEp6pM4YcFwIvyWl8Fb0pNEiOg+BiWZozui++g158Qq/w\n",
       "zoghUHYHMlZu1Pn2DKDXrPTKMUJZTC+fBm21cKiIoI9ya3le9Uk0vzS/GG0pyCjF1v9q7/p4ZzO9\n",
       "nBwsx0zGxo07O1cFCluTZh0mOdM7xWYCf2J8vf/f+WNc9ifkF+hzcpxeyctFlBdulDbbWoc7m2mh\n",
       "+BC4zWRs3Mgzvf8Bev/b6eV4jQhl5yzFVoXeMm17fVVlKI12V7nFMns7/6Ot+dnjD/dmNhswknHg\n",
       "JihwXM7eMcoYs3YzfcLik8A3Q2/mmEQarYnL08tnA+J+Qi8b+Bkp1gcyVm4G9lxAJqydrKvADI9i\n",
       "txLfOg5laVsmcsj46iTaXJa/1uMLkhJmNNU/oXcMT+RwG/ZAxjZHg8jhwrVNdtv2Ws/jsQXkZUWH\n",
       "a3pzxyRSaHW9Jvaok1OP9W+MwxRmaK7lTsaerDDSldM7RWd7tUKq8pIZvZ699Cu0JNeUGf/bY3Cg\n",
       "TruQsXIDjjnm6NXb/Q4ZpZVLTlNUlLliQuKv0Dg3tMT8Lb0LGSs3oOYgQElHnEo6ewym+BTtycIm\n",
       "qf4y6owfk8ih+6xT5fZP6V3JWLiBFTMG4hx2KkiCSaQLUyEUFg8d53ir7sePSVygZ3saW/onY6zI\n",
       "n9ILyGAoLD/iLqLRSf9cugcRboNMEYwt7bDikb0OFg3J2NnXoZ92n4S0gJukLqzx9V1O891AB5dB\n",
       "0xcT8h06GZIJ8plR/61E9tp4VvPdNwXLgkxWCU1RN8iIs+jEkVEJb1bc2JsGE64euOi+TUZpAp85\n",
       "1QiLj8aE6FhI5gSK1c/YfW3X8IACbJVr1DwX79Khs9IIfV3VBGjs8VEonQvlT+8Chq1yrZrnYtvm\n",
       "60FLcijhFaF5quLGnk3v79rTaSRKWItqLhtC0X/gaMW4CElW86UgOLOO+3y9+RT9QjHAQ5tWZ1c0\n",
       "cOrHmJurT9FvlB+evALjNIVMS8/BkKHrD8f9jYJAmIBadd2HfdjK7iUinPX5zbq4bxUK/BhtVtOj\n",
       "J+fvKB+FfodOdTRbqx98xEUCPybbHSq2J++0NH/i79CJUuOYhJrnntASoHIifLO3xZmqSwXoeEcz\n",
       "GR3kL94P9njT29WeWz2jox3Ncx8OeewRLUhAy6O8vCr/O6O3jma+vSyDLR179KkRsgLLV/mGb5Ks\n",
       "e/fGGR3taJ7pJc9934DIaqoWB2mFjnc0z8bhsec3Mclr6obPNELvHc1H4/Bs16bA4lWND0rXmZoD\n",
       "OtHRrMfA7Klv+IWvGUON+wRs1fUO6FRH85BW8Ie+4VeCuSU9av0V9jb0/Y7NZTX13yFvQ98d9PK8\n",
       "pr7wYO9D3zx55R9MFlG1IMRzE96sYWNZTZPUrb8PfWfY8Bfv9u6qc1b6zj0hAw6AmB/9DwNVdV31\n",
       "zv+sQE1e02ok3X3ouyyvudT8H7RKZFqZO0ngAAAAAElFTkSuQmCC\n",
       "\" style=\"display:inline;vertical-align:middle;\" /></a> <a class=\"ProveItLink\" href=\"../../../__pv_it/_proof__psi_t_var_formula/fe43dc70f4db1c0e5c97257b4932f8812f3cf0da0/proof.ipynb\" style=\"text-decoration: none\">&nbsp;&#x22A2;&nbsp;&nbsp;</a><a class=\"ProveItLink\" href=\"../../../__pv_it/_proof__psi_t_var_formula/f2de2a00413c9c4105f6567fc862c0f97018d6460/expr.ipynb\"><img src=\"data:image/png;base64,iVBORw0KGgoAAAANSUhEUgAAAakAAABLCAMAAAD9CYhUAAAANlBMVEX///+/v7+urq7c3Nx2dnZE\n",
       "RESIiIgiIiLMzMyYmJju7u4QEBCqqqpUVFRmZma6uroyMjIAAABMl2BWAAAAAXRSTlMAQObYZgAA\n",
       "AAlwSFlzAAAOxAAADsQBlSsOGwAACOtJREFUeNrlXYuWnCAMtQV5P///ZwsyOgoIuIWpTnPOtlu2\n",
       "G5ALyU0gzjRtYvTUUfpqu5cAzKotA0XJ+2q7m0BZbxkmgrPbarufcFpvGSSsa0+RNqDWlbc2zA8H\n",
       "UltQbRkk0gzURtFqE8NfROCnbzk511uGCLF6nDaElTggNU2PRwpYUW0ZIsYM0MYglNJDgqepASlG\n",
       "zYOgmnG9ZQSd6LqlVm0eF+WGzxYEoFIKuy99ghRBCD8IKWJRtWXElsIjtHnAgCWTUBNtsX7iSUhN\n",
       "M6+3fGB9dNFGWUAKKAqOjAJxKJ6OlEj8khjvqaRlo7TBw+yr8rM/CqnJmnpL71jKzqO0kaOZg9+E\n",
       "lHTmotbSWWjXXbvXVolwybwKeCBS2sJqS2/f2NX47bT53ARoD90fhtRkeb2ls/ErzhC5FqXutIGZ\n",
       "EKLY1yI1J8ZuHmv+aGHPMqnMtR2308atl+aoHxoL0ZOQQsnEobHmT5bDXnQNKWm/+GAqDkdMtaWr\n",
       "cDt1RIrb6b8Rm0yNtQMTmhU3dRGpmravEpPYDzPSoohKNHUNKWHn/wcpleR21Mjcn6p4wWtIqdEh\n",
       "xZ2EJsuSjlyophL3XkPKfOaU5i6UgldbuhIK0hEpPjqhcidhSQzC7EBCVaMr15A602bsifSw6/Rf\n",
       "rQ6brEs7bqWC2iq4hNSpNmGjZ2BAI+li40ZrsZ0fZzfyqW+keGgsjRNbj8dZf1Gj1ZeQOtcmbe5H\n",
       "tPRkdMd41/Pjy7a9I2tWGUuBqi0dUyKVsBpeuR5V0Iatzd1eVKdkSexnZj0/vmwxzn4QU4EWZel9\n",
       "pITpyjbue+3GGXkBUeSV0lkoI5vvAha0EWf/cnrUyajZAfP1/Dg8Jw4+bv1Ns+n13xDzvm1I5wmg\n",
       "3NzBaK/NLVDRNHyS1Zb8PF3a6mFw0va8p1vShnZze3j+k+El7ev5MVMM0P2p5IaUdvqBBGQDWSIg\n",
       "GAdnU8VmjjMb+NwvsXhhmqnWUkeqai/D4GarOiJV1DbbC6kmkFCN5fiFOYDcXwgw+GIaL6SWb/wz\n",
       "w/AVfs6RyFu2darMOt6mkSEZ44KnWksdqbq9xMEF9kSqqI05qtfcmYKJl/ALmoQNMk8kaFr+7ZFa\n",
       "vnFIAREQW/4NrFKkOFUboYEtnI1F7Aol1BW1kdk9UqzOQZbB4a7pn7I27exfK4mNU52H82Pn27XM\n",
       "WD8ZtpUQbzelcdZ9v6ZKb1MPmtJAhkbJI5ukk+xVpETdRS6D412RqmiDLn5q4/zkNYVMcqym+PxY\n",
       "oUnzzPxRSaTbbfDtppzNnAqMAr61mBY+FjHVLki1zL8fHO8aANS0Gdt41va6T8s4FpTL+PzYsIN3\n",
       "f690YSyf37Pgb9JIWvBTxqkWcFkBomXGEI/j+TTCb0aKIUUDUtXbw35w3NKuSJW1eVfVtIdf1SIS\n",
       "L0FRe+xNG9fdi/u54QoBAqtvoQL6OJQ6UgrvRB67h5Pg/jp+S3YB+0RVT6Sq2pKs0hlPDGYmqJvb\n",
       "hziLK0gJC7RwAdhi+JQ+sYK70gZyHLxOkNLte4qIJeuy3C/mtZ7d4OzfJarY0ZrVtak2V2XkGi17\n",
       "aXelpYtU+7EGpBTfmUYiw3+Kk0f70gZwJDokSUiTtvN53z3zQcTLTalaz25w1v4+TnWbvKdGHX/9\n",
       "d50etnjGoJZYAbx0upywG2tACpsdiw+OSmxovsnD+3obOyL1K8HlVztSfkuzgNRC1Is9u8HZrsnf\n",
       "Bm2gKTYMe2oalu8MLt2NVm/2zBsfALGB5BypKPVY31MlPzUps8Z/rNazG9zHkUIctCOlgqUEY5Ci\n",
       "blY9WmgXUBlR2lPkmA8jiVciV1i65/w+oal1rWc/uDJbu1pLXWeSui0h/qqaZZhTjQYcMi1T5Qkm\n",
       "c+OBuyTFe0vkkIq4318xCvef3aKF2+lOqWc/uPLcXq2lriJFGrfwFrgobA0aZP0WoogUYm+SHgJq\n",
       "5asauP+DHpGifOqIlOMJcEYI1HvGi4OnpfjzYi01rsZTjbOu7dia7eTY4ZVMR3JiBT8VvRDlb5Fa\n",
       "qPo614Wel8GVDynbaqn3OYhKjqI5Q8v1Z5EKhUE+TwXZOVJR3k8k+VhxMUOLtuks9bwMbi4FK221\n",
       "1PvnLYc+c/ttOAU/itR6bknUFmGtY92VNsS5dJrwWHrx1OP9lIWew+Bk6SCitZb6TQSKxxoqX4id\n",
       "d2j8o0ih1GpnVhWNzqfSywjo4kli1gTFPYfBFY+TW2updxmIgjaa5ef0RJ8cesUTRQw0M+zMmsPR\n",
       "A6SXEWDbJVpUJMBxzzKvGihl0lsFjf6lNNA8Pxe8aHlvJZl7FKra0q/3aLsuASBMShbgz7QdchOZ\n",
       "TcIKTybudsM9PWycEwI1j7tFpiOyIpcNznkpCdiurcjPgZDFzDq9Wc1cWgib3sIfeC8/vvXKF3oj\n",
       "f/gOtPMbucaavWAczgafXW6V3sIfeS8/utq1nN3Fb1bQAin9E207+30i9MlIfbYoEefK6HC00fan\n",
       "J9e1fauAxNaDkVU5MrOs4xcpgeb4Rj57k1z18aba0jOyyLAvnIYXs/6xtq+VD7/mILMMMrf6Ffmx\n",
       "tu8VmRA9ObIkMy2jo+mOgmxCP9T2xYIT+oCHHgHgiK4tEefxdUemnU7jE/KXrzmDED23gpsl9IGN\n",
       "fXESPJIAskwdYn207fijzqdn9GNfiyCSJKewQ19wrw/qgT/fUAr30bbnrzn0vPf71IvGn+6mpugF\n",
       "Oq8iMtNH2277ZGrOwuVY/tT3IqRPOvpVRKprBuRE21pzpra3L9JXmQB+aARGEutB7OBP9+j7qscT\n",
       "bbmas4AUR89ECiWmDg1/bQrnw7Vla86C9XvqW2EMr7f0Xx16tLat5mxv/R7NKEhiO8gH3hnV177m\n",
       "tOVrzpBn6Q/9pKr01eXSjv+0Eti1j5y2k5ozF/mqZ34YC0vWI7PyE93C22q7LZ8A1ZYx/bLbartp\n",
       "MKXqLUMEw/tqu+eWYv9oeYquW1c8NkPUbOBptWVYomK+r7YbEr9/9eF7i8Wi99V2N9FJqbL+4Iet\n",
       "kq59ka/+mFis6y0jFwq4r7abeSldb+kufwA7L2j4SjJ/OwAAAABJRU5ErkJggg==\n",
       "\" style=\"display:inline;vertical-align:middle;\" /></a></span>"
      ],
      "text/plain": [
       "{t in NaturalPos, |psi_{t}〉 = ((1 / 2^{t / 2}) * (Sum_{k=0}^{2^{t} - 1} (e^{2 * pi * i * phase * k} * |k〉_{t})))} |- ((1 / 2^{(t + 1) / 2}) * (Sum_{k=0}^{2^{t + 1} - 1} (e^{2 * pi * i * phase * k} * |k〉_{t + 1}))) = |psi_{t + 1}〉"
      ]
     },
     "execution_count": 81,
     "metadata": {},
     "output_type": "execute_result"
    }
   ],
   "source": [
    "conclusion_03.inner_expr().rhs.substitute(psi_t_plus_one_as_tensor_prod_02.derive_reversed())"
   ]
  },
  {
   "cell_type": "code",
   "execution_count": 82,
   "metadata": {},
   "outputs": [
    {
     "data": {
      "text/html": [
       "<span style=\"font-size:20px;\"> <a class=\"ProveItLink\" href=\"../../../__pv_it/_proof__psi_t_var_formula/18479959d3af138adccd587287750ae105baaed30/proof.ipynb\" style=\"text-decoration: none\">&nbsp;&#x22A2;&nbsp;&nbsp;</a><a class=\"ProveItLink\" href=\"../../../__pv_it/_proof__psi_t_var_formula/7d90a1d7da91f7e9807049366e5cd82bf6d39b7e0/expr.ipynb\"><img src=\"data:image/png;base64,iVBORw0KGgoAAAANSUhEUgAABwIAAABMBAMAAACc8W6IAAAAMFBMVEX////c3Nx2dnZERESIiIgi\n",
       "IiLMzMyYmJju7u4QEBCqqqpUVFRmZma6uroyMjIAAADVePneAAAAAXRSTlMAQObYZgAAAAlwSFlz\n",
       "AAAOxAAADsQBlSsOGwAAH/hJREFUeNrtXQuQJEWZzupn9XMa1/UE0enAF4fiDo6HjzhuGwVlhXD6\n",
       "PFdRN5gJFCN4HNMosiCH264PYlHpQUEWEadFBR/ItOKpHHfuICyCDmzjYdyhcTezPg4QZXaXdXZ2\n",
       "9lFX+azMqszq7K6qGWZik2Azp/PPrKz//7/MPzP/zAIAhr+AFRNSlmW1lm/z/xJZkcWV8eq6MjFs\n",
       "Wbv4vyVh1LIOaD6o2A6FTreaSFgBQL61ghC4Z+PG9rJtfQ+S0CyyyDKOtZSJjRuv3MX/LUPgKzde\n",
       "pfmgX4ZD98ulZAUA366vIATuXs6t70ESmkUWW8Y3qhMgvUv824vAku5jsltDodOtJiJWmDeCIwh8\n",
       "ToQeJKFZZNFlPF1SJojaTZdCQOCWWih0utVExIrczBEEPjdCD5LQLELJjoVGkP2/8YaoX2VAmaBq\n",
       "NxACAn8aDh3JNiaXhhWj7SMIfG6EHiShWYSSXQqnhPb/F5wd8asYC8oEUTvn794RmDoUCh3NTleW\n",
       "hhXPgCMIfG6EZyIrQsgSG5oYgSBqBIK/Uyew2jl/947A4kwodDT79F8sCSuyTv9wv2aV+Ype/tUh\n",
       "2rfXkqUE80kxXkEIzB6KqggkM4+7pw6qwIPAMIXEo6iiTBAEjlYCI3CiHQodzN78qp+ApDNv/vgi\n",
       "sqJYpZQJXVm8Qy8/dVo1vNdIUNv5La545SCwWI2qCCTLg3zVnAGxqe1TD3MIDFVIXIiPKRMEgezv\n",
       "3hH4x3DoYPYk2A6uZb988PRFZIXTFU1rvnhht2Z+Nkzhvpa2vizGKweBo5WoikCyvrYxl52secbA\n",
       "bDQIzC4oEwSB2YWgCEztDYUOZR8C/SN3pNlv31xEVmyr05FXd8W609otyw9VuFuapJlfFuOVg0Am\n",
       "idCLQLJ03Zgzfl7CCPzgF5oRIxAcViYIAp2MXhGYmw+FDmVfbiPw2EsiQWAHVpjPstmbrhH6iG5+\n",
       "qMJlu6Z0c1m6ybyMEehIIuwihCyGxZF38TUiBG4bUSUoAllGrwhsDIRCR7Jfzv/2zcVjRZrZAqMj\n",
       "mmP6nG5+uMLdQOLkpBivFASmF6IqQsjOw11WbHEQOF1WJSgCp8sBEbipGQodzk6dHRkC/VkRZyP0\n",
       "07qz/5ZufrjCnSByye4W45WCwPh8VEUwmXsX/gODdihFhsC+MVWCIrBvLCAC19ZDocPZq9C/KciU\n",
       "k0JGoD8rGlQA2d1dIqFzfrjCLVJb4veueIUgsFGNqggmOxYcJbXuI0JgfE6VoAiMzwVDoPlXEAYd\n",
       "zjYmjVJUY6A/KzbRgTGpaVSDf3KS59V988MVbpY2f2JEjFcIAjeVgxZJne1DZpz8oQcXE4GJPaoE\n",
       "RSDL6BGB6T2gazoJi3D2qg9dVI8Kgf6s2EY3K0c1jeoUm3uY/z5b98s3XrOnEuaLfIXEmUkxXiEI\n",
       "3NYOWOSzj8z7kGXoYTQxhC0kRxKHVQmKwNThYAjMaXowcHQyFuHsccvifnve7MsWjRXjTEya1eU4\n",
       "OQ7V/fPDDTtInN8lxisEgeOBiyTmQ6s5hGDVFQmKQCejNwRmNDWNp5OwKLNrSVnBbGTzoO7cY9If\n",
       "gY3JqN5jmuwzFvaJ8cpAoO6sxqeIAoE91BxGmG0rEgyBs+1ACNSdOPN0EhY1qkvKiizdUUrP6c49\n",
       "RvwRuGkkqvfIzJDEV13xikBg9tnARRQI7KHmUEyWiiLBELijEgiBE5orFzydhEW61UTEijydG8Z1\n",
       "x+K1wB+BayN7jzxF146SGK8IBOb3BC6iQGAPNYcRNg0oEgyBmwYCIXBHGXRNJ2GRbjURsaJI1036\n",
       "dHuCZzsgMLoON0utzomaGK8IBBYXAhdRILCHmsMIo2OKBEPg6FggBM42Qdd0EhbpVhMRKzLU+JzW\n",
       "7AkKe/wRWIiuwzXoBVr9LTFeEQjMzAUuokBgDzWHERq7FIm0J6M3BI5rznd4OgmLdKuJiBV9tEU7\n",
       "NNfC84f8EYjzZy0n7A3tRW6iKjUmxisCgX3zgYsoEMiTFTnBWJVoX2hOkWAI7JsLhEDVUqofnYRF\n",
       "JDtKzvixop+tS2m+TnHeH4E4f8LCHYv54jPH9/vUlu6q/6HeRdQZS+KUtXwR2L8rcBEFAnmyrEV0\n",
       "4BOP3W2NdXzCZQFeKLmgSDAEJheCINCwNE0ny5dFNFufM90pbSdWTNClWN0V676qPwJxfs5iZOlh\n",
       "YmfjKyDhWWTOQOJt3/S7FM+cpI8jNSUWxHhFIHCiGriIAoEC2TZH0B8V2JdGRhA6Se+EL/AUH9Ua\n",
       "GdjRi+JeRYIhsLg3CAKzmior0HlZxLKlnMFKK3JFT2l1WTE0Q3oC3QWU/gF/BJL8YefS4zz+JTtJ\n",
       "0LRdWfctit9XUVUiUMweFOMVgUAqiQBFFAgUyJLcleL38VR3EKXJK3uCjNZExWA3gu1RJBgCc3uC\n",
       "IDBxWI9LAp2XRSxbxhmitH5cuSUgK9YMCMosvrpstKUoQGFNSZU/ajnrlPeif8kVAPAssqrBvFFV\n",
       "4tpA77AaJY1NPSvGKwKBRBKGPDflU4SF2G7QkSxlOX4MeU58JoYpPEmv7Hx5WanbdSmt/YAiwRCY\n",
       "PxAEgbFnvQxLqelULGLZMs4QpfXhilJpdVmxjeA+gUfFE4XaT5Z1qJwpcs/40zVFfsJyXhWf/X89\n",
       "/uNyhEBj2EIExRrKTz2F4oHnO+P7iXwbiDst9V6gTh4SZ4/li0AiiZh8oImPqIvQkLv78I9BR7Ih\n",
       "y9FvTnpxnIYn6e1otWUhsicw1cXo+oSPGG929LatbFeSGEYxOri4EwyBscNBEJg74GWYjE25A74s\n",
       "crIlnCFKK3JFU2k1WbGWDGn5Ba6KhGCYiGFH058vNH+tCx0Gm9zCs8if+0QNtRu9zKPgRS+APXDu\n",
       "1G9dx7/MJ2+gbTiTdEXModAViwjMoUG9tswQSCRBFMo95cpOqoto1kyV1JIaVEczbNnZ5oN/g8/x\n",
       "QgQWSsb3L4Z//PCYLSUOgeYbq9J2JQjgY1QD3AkHgX9VIxBVcrvfa8UPehkmY1Pc39/SyfZyxlFa\n",
       "niuaSqvJilnSZHJgCSOQnqJOysTZYSGI5m+xRGbkaU+ROhtsBvXEC+2/N9svY5Zt5pVB2Y4zb+fs\n",
       "XtiSP9M2NHBfkqRG/HBdjMEJPALzUCbF0jJD4KyAwLI7u6ouolkzNTfHpRr5M5o4r26WTXDqZpuy\n",
       "bCNws90fx+z/7L+vb6aEMbA4KW2XSaSUoIvg7gRDYGK/GoEPw8ROv9cqHpQwrKqk61CNlDNMaTmu\n",
       "aCutJiuGyTOKuzkEfoqyWTLezXbQbJpfsMSFyj5qLKyqg/NLIJ6yxXd+qVhLXQcqRhNU7Lh/ikM3\n",
       "bMkCbUOxxjfSeQiNzXN4BKZa3OrNsglEElihTM+y4wnqIpo10zBtycwYus1rvAHYogADFwEYP2HL\n",
       "KAGOsVF4fsk4+AAQENjXlLfrCWK6UQvFnWAITFtqBF7Ir2RIQ3KPhGEnKOk6VCPlDFNajivaSqvJ\n",
       "inEincw8h8Db3Gs5XBiv+4ub5a/ZL1COkr/IWeRVhRYb0FsJkIVN/kihWuJfpjBP20CWU+NUTda2\n",
       "xThxZZufBz6p0NjndBjnEZgdUa0HS4po1szAY0m+FJSi5gU+SW8M/JZpUM7u77+DZjy/NgQETtfl\n",
       "7bqvNwS+QUBgsS4fAbil2T0Shq1S0nWoRsoZqrQiVzSVVpMV4xVhinWiaAJJrIBO26Asv2jN8L/D\n",
       "K1A/e8MkPYt8f2GMvcyVF6aQDfTDVFWY1MbGaBsS2B7P0WF1W1OMk6kBHoEb7f9nlh0CK5xCxbzG\n",
       "UklZRLNmx0yRLIAk4Dzn7g30JH2+8jhDYPpHrYugXHKV82ICAv9W0a51ZOpKVcGdYAjMCsr0AQGB\n",
       "aVsziv7Q2SthmKQ5mb061Ug5A5XWyxVNpdVkxXjNhUDzrBooJ4g5fWsABJrjQt/zU/uXG26/mZ5F\n",
       "fhKvb6KXyc5+EXHxJPBjwaQutrKvrqM2FOb9EXgre2WEwMz69e8tLzsE1qhCferntkK5L23OlpVF\n",
       "NGtmYYvlrQt+XGnL+65okZP0xTpexkNW1J37T0EWSCl3mYDAp8GtD8raNV3vCYHpsrAWesP69V/w\n",
       "h84+CcMkzcns06lGyhn4TSUvVzSVVpMVlhuBseyYWaP7lnhGuX09DO/vEoHMMw2HQVvKVdAvtWEv\n",
       "lfxmv0yj9p2ja6gN5ALEPGXWjpoY72SrTwiB+REQry83BFoMgeVvg6u9zg6oU8wjUaxvCUU0a3bA\n",
       "bHk3t+K2EfGvwJBu6cs+KQTXQvdlv3ajbO2DXHtZoKrgTjAE0gzyVgcFBD7A26Wy0LdPxrCqR2P7\n",
       "9ulUI+WMrbRKrnRUWk1W0LlngyLwgnw1XQJj+IMeec/mlNkBgVx+XrCqn7bftUZ3nVzhTfKXmXhx\n",
       "8+ISaoNxyBeBqRbbeUEINFrgRb0CITeyaJgTFYxIItZONbeDS0CGmwMgWTwsgVZTD4Fush37Pf0T\n",
       "vGJyH9v/cqGzKUVgdvdvUjtRu5jphz940o+1JkU9ot0JhsCU6Fud/ROPwBdBMboDP0T1LcgY5mVT\n",
       "n//hLCHbxRl4gaeKKx2VdqceKzaSXxpjpIp6pmLb1JP4gx4pDw9MspxqCQFmHBby0Rocb4BvgH4y\n",
       "liU1DsX7qxoz5GUeuozAC5gYgTFa4ZqKENuoSZBfzMuxbp/YKyx+vHij3ksEaRNJxNomuN7WtDww\n",
       "oaJC10Isiwu9FZAifZY37HJEwmTsLP95ff+Tk7ZSWJZ00SIplMe12gjM34g6K7tdDRhPAvrBkwZW\n",
       "O3MjLeFKGDV3BgnXEg+vq+ED43W044HBbWw4EVzRcjyEkfZeLmOYl02EDrgUlugZy5ZxZgNQc6WT\n",
       "0qLWaLDCarsQCCbqMbi2iy6x81rVpvKkwwZPfn9V7E5Gv3bUURrGIb4L227JOWihF7aB+ASpEHit\n",
       "/dwqNwaCb/S8EJNfxPmjITSSSAIOLvO2Qn0KZGF2HA0OVcWcvIOj5gYFmeHdCbfHwNTCUUe9UKPZ\n",
       "G0gzk39+gKwV3AljtBaGLvkjboddj4HG70rcGJitwIUYCO4P3nUK+G6snq+LCOw7JGOYl019h/z0\n",
       "TMx2ceZpoMsVr9Ki1miwglmhDIGPwO2fOpY67oF4q9rc38EK5fLXlVxWaKUL9TwRmAuFOdIG4mum\n",
       "QiDcefgFj8Biz19D/c/FnPr9i9QKBfkZownOMF7+uxEegTsl88AerdDEdTIEgm4OctrNbDSnR1C7\n",
       "nnfOKwQEEqcyfQSStzqnxFuhYAbOtGxw5yHQb69MxoALgQsyhu30zgO7sEJdnIFW6N7elBa3RoMV\n",
       "VDrObsR94HLwP0TqqwKshYKCMKu9y2blVrfrt+/LpOfNhQRuA1kLVc0DYVNfwiMwdmePCzGm9M7b\n",
       "nFjbsWFNAYttOQIH0vVCGxSb/Bgo25vtFYHT3rku/LT5Q3WVX7gUgZvqjWYFtetP4hhIFgBTFgOa\n",
       "mOAQyFdZGBBWYsAJTwIE7rfBP2773vNj4NVTG6baMgQ6DJOwyY3AY32yXZyxlbYrrvBKi8SnwQrP\n",
       "bgR4vFSGR8UQAk8IgkDxCuB1tnq/96rTK/ovk5sx52K4DekxPwSiAS8+wiHQuLlXI3RS9uv3O6+C\n",
       "dRkuRpJJVb17BrZCFa6LwXNpfXUegbLdaXGbwZgkSxWr6n5k/J3KXOdvc/jTNz72ri4Q+FPQGCmj\n",
       "ds2LCLwCdLkWSqbFQETg0XCk/xMwUcW3xa75lWsMdHYjOIZJ2OTejbhUne3mDNzO64YrvNIi8Wmw\n",
       "wovA1A9edyq1fKodETjKJrbufPN6sd+1G5Qf/kMXA3q8Cc46A7chj80uxX4gGqJSFQ6B4Ec9IqMh\n",
       "Gzvj4jwKfYw9YMjirvovUgSCC196mq2Dj9v2yOAbBwdrSBYyH10RWqgjslU09c0OCNwi6QaRlbH9\n",
       "cKULBL4JJO6vw3YVxkB+cPCLg68nCPxlbwg82YVAtCo9Dwqo9beBybcoEegwTMYmFwLd4hP2A13v\n",
       "j4awLrjCK+3jmqwYJtLJOD4xqSbtd2We5q77l09W5hfFwpku72Sni5moDcQvVLkjz/ViwU4nnSX7\n",
       "8bdc+jdntZ1+aVW95wf9G/r369wvww4CwQUwdabJzwNl51SGBWid/guiosm6Hxn2HfaEW7prPzsT\n",
       "dAc8AfAZYQx8ojcEllwIRBRjIP37wcE32QjcXHQhMLlPwjAJm5KuMbCqznZzJojSIvFpsGKW4Dvp\n",
       "+IUm6lTqccmsbVgQb2pAmT8YbJGRvgxqAxma2Kdn6AEM70GNgAi8RQauf+QIxsxdJl3C9Aw2XYTz\n",
       "sOXBMZhIAinUGTB1f6zOIfAkSSWzQueMun8ZAkUytPnuDT/rEYEnQWet43kE0gMBWboo5044PjE+\n",
       "ZyPIgNX6TKqMx8DCN4C4H1jcK2GYhE2uuzDMGWW2hzNBlBa2RocVa8kzuNNJyMUOfdDjWslDRKXP\n",
       "tVX5ee5L5Uhdx3p7GdSGK4mOUXgNl8Q4LAQWdknAleblUkqNoY+x4/Z0RGBe5d2Pd7njnISJJJBC\n",
       "oeRFl5F5IJSFW2/4Ig6n8FKFu1kiGdjuZHMmxPm9IRC2K/XzEYJA9MGTNFmpTdOVfXfC8cz+aycE\n",
       "QnCjVaur2CFRh4V7vAyTsSkubuc54vNkezgTRGmh+HRYsY2M6+QSQjQGsgrfJnmIeKvhS4Ax9fsR\n",
       "Wf4VDjg+xtldXb/M27hRiH1jY1xuEvsikPru4utzOHOGSyaYADkthmCZHRwc/IdhuIIcb6OPsTtE\n",
       "X6PGKWvCDC9u7pnkSYi/aLcIxDiAEkkghXIGrThtmcyZaJtg6N+RVoyBIlnaWXBPcwjMNXtCoNMu\n",
       "9ipJwh52AYs74ZwP7HhGHoJ7la1fqXNK+OA13/sf9DJMxqYc9XY79hE4Z3LE58qWcSaI0mqyYge9\n",
       "pQJbw28VKpR9LHdIeMeHwSoQOyTJ57YismPOYKYf3sq1ge7usU+Q7nfFcgQSr67VP2unb3Yuroo7\n",
       "+lLjOgggjkmcFsNFrVGYYa6rIHdFKMypKTLY4CvGxkz5XYP5Gn0mvGjsYw4QsX1S4EoRSSREw5q2\n",
       "OiernQoP94LHXkJWYtadICfzLLh/28c46xBoM3PejoyuNbILWNwJ54z8s50QiFr20sFTpLw94GVY\n",
       "Tk0HNyrWtNXZUs4EUFpdVtBbfHS/hih+NNIW2/edi3T5/H7WpZo7sGyyXdrUXKDbktTJhnouGL73\n",
       "xEBQpM4cbGdbx4MHpQisCMMM4E5k8giEc5ssWgMyZkCszk2qINFnqXFq//u/X/3qJNmSugZ8HUbF\n",
       "o04jj4CTevIkuKwO3oeayG2Zrun+AyK0CNcLTvqQYZ45C+6fE46E3wrCCWxHLn9QkXBuajqog0Dl\n",
       "MKx5vR+ly5VkVzw71cg4E0BpdVmxiXR9hQOatU7zHWq+CU/kbit58p2tiGO20SMSV/X8Jg+6nk0b\n",
       "K2k0h0Bo6EEXoeyleThP8CLQwL0Ed2OYc40bh8BXoXEEEf03mOXuEkGDDfEEjrdBCbTL9nNKNt9L\n",
       "oJaqHQMM0HfMJ8kz+50nwcOn4AcoeSPXdc10zRdahOsFyz5kKLAFd+O74kGAdDscBOYp5+J7FQmG\n",
       "wHig+0LTmrcVUrrMPMjtRk60u6TVSDlzVeSsmCa9gqn5OtSfFYdPw8MbYNuIJ794+BkU1o9bVnhf\n",
       "r9tEeJTeK8ZSBEK3IDQtyF7waKUcm9o+9bCAwMda6fq7EaEzbrAz0bwlh7BSVN0XWQXm3f8HjVPD\n",
       "TpUH7MgYsJOVNPhnsBqM/oQ+E140Rp6Edo1fipLcXu/0WNf8oEVQL9jn8stW1DyLBfPH99pk0X44\n",
       "j30wxp1wbuwNdGd2Yb/m8hqhy1VBbs6nmgg548cKdqP5sGZlSV66r/QWxfk7OHXYF9qL7KDrrHNi\n",
       "LB8Di02ABqDsyPHf846BZmU+QU6YDMAN5UG4oTwte+rrUA/1RYWhMQOK5V8T4zTWPpvaHq+4Gq2i\n",
       "v3n1J8gz0UVj3N3F70DJ3zk1Bbi13t0LKsgQy/gTAtFeJ8c+GONOMARmAn03oodb66Fy8otmfHaU\n",
       "nPFjRZ/7m3wdR1ZSINsGZHMztVeWH0WYpdjaJcZyBPbVwX9hBOYTAx4EGtdUE+Ay5CTo3Ik34a7O\n",
       "tGH0HqwVFXkHOwAeB7kRbJxmwbcoAhPrEXDvjX0M1hEnF43djrwSkQPkR1Hxv+fmoN0zjitCesHC\n",
       "Nx72JVvMwD4Y4044X26ZD4JAYGmqrEMHhehZNLNKS8qKJJ3Cb9KEfZoMaetsaxMfyku2ZPlRBGrP\n",
       "0m9X9FX9EPg4AB+3h7ZmdsQsz3jngbnKMfasCa5WncuKYDc+zpqDF2RhBKYV36dtgaH16yVTKIcp\n",
       "dh1xgC8aOxctjyE3BuQ9Au7hjIdDXfPDKUJ7wQw+q6ciW9TQP6ZIMAT2B/t+4LDmzNWhez9bNOuh\n",
       "mohYkaOA6Z/UHNPxIk5q8xx1wrtPlh9FSNH12tGyGMsReKY5ci4eA8FvKs5+IEVgsn25UUNOgvcy\n",
       "K5QfA5kL/R/oohOKXCuWNpruVMwPuRAnF43di7wSkRX6cfcYmOu+63KK0F7QkO2s5/YtCQKnZxQJ\n",
       "hsDpmUAI3KY5aDA6LDyXm692NRGxIkEBk9GdfN5A7LMDZLsj3ZLmRxAS1IgeGhFjOQLvj9XRbTHp\n",
       "Nru7WBwDK89DQDEdUPHzQOZC/1r074eBM4dDuv72UwnSkpVsJ42J44vG4JOqxHQ40z0PTHTfdTlF\n",
       "nF7wFD+yRQ1DZUWCIXCoHAiBQ5qDBqPDrlUP9FhNRKwosIvsdT8guabOJo7I8exWYJRk+eGHOB3C\n",
       "3+iK5Qi86DJgQCeI83YKvgUUgebUa2toHzrR9q6F8i70U2iCRWrI0w6zWMd36Z0EzLtvrndEILpo\n",
       "zH4SfCBydZ1yr4UWDnfNEFbE6QXzIz5kixuY27w7wRDodazvCoGqIVRFly3DWz+FHd1uqomIFexm\n",
       "JUP3LHB/hZqtaLsyVQaJuiw//NBoOcMvHysQCMPmwcG2Bw0YgWg7EDoJcjvy/SWJGYnsRXyZ5Rl0\n",
       "ix2ALSCDXvtXWn0Hi+ADP+nYtpx9aFpdM4QVcXrB4xM+ZIsbmI++O8EQOFwPhMCG5uoxpTsXeXDP\n",
       "urcaGruWlhXMufkZzdqKpMuIz6Od5dVTU9u9+dx3DWMvK4f0HptI/56eE2MfBCrRMAA/iIOdBB/j\n",
       "1qwcuDpeWnAv3XwSDSYzaIv91dAlbTVIoubkS/oIfAw/EH3NDbeTf4Ph7tfkSBGnFyxKd1/5mrnP\n",
       "cB735ii1jt1X4klQBCpvPNFEYFJzjZfQGRumpqo+1UTHGX9WrKFm1SZNBUiTBhf2orNYw5Z1WJJ/\n",
       "CzefCuvulT9SjFfFuEcE0tGC+6Yvd1bBcaHP0Cu7Xry2RrfY0RiIGXa8PgJxWeR8go/H836hjiT0\n",
       "Ayni6QXlZOxtiKAqhYEIEZg9oEpQBGYPBENgTHOFidAlLcua8akmOs74s4J5mTU0hyqTrkg+tVOd\n",
       "z33X8EvCKbgAwWDLtjUx7g6B+NIPrkmcKeScjeBc6BP2TP2hm1Cooy12NAYW6Z3qpk7T+SehAvjk\n",
       "WYzXiOlW92tsuIinF5STsRGdaNwIiHKjkB2n9iQoAnMLwRCo60nZgY5mR8cZf1awEz95Xa+oh0g8\n",
       "0VLnO981NOZBphnKe8RoS9e44u4Q6CsM6ZSAv3gYbrHj93r7JUGehCeRRb7Xy3Q/H9EswpM5n+Hs\n",
       "r4MvR4hA9lBPgiJQ2XpNBEoOp/VENx41Z/xZwTy7TN2lmAaxl1Vf6IP58LuGeJMtNQ+S4Wy40OfS\n",
       "hkobHNYZed6B97gI9BOv5wjWQX6u61o0i/Bk0DvuPiiZ2midOBtEE0ZbqgRF4GgrIAKpl2JAOpId\n",
       "HWf8WVFgx5LWadaXGOuc73zX0EZgphLKe9CpTr4qxmEi0DmHzbkPJsN3WyIXDAub+YU9XVejWYQn\n",
       "cz7DaevZ9REicKipSlAEDjUDInC6HAodyY6OMx1YwU73JXWB8q7O+c53DW0rtC8UK9SgvlXkLn4W\n",
       "h4nABpM95z6YOjv8SRJ+zvuEH2/qvp6buiXjPsNp21oLESLwKWWCIvApEBCBmbFQ6HB2hJzpwIoh\n",
       "qsgFXeWdLnXMh981JK5eYa3E5OgIfo8rDhOB6L5Q5N7Muw/+NnT1xMLOiqP4UPcOippFHDLkHYdt\n",
       "rWhXYpgLoTdBEJjaExSBiUOh0OHs6DjTiRV9zBp/je6SyEzHfO67hqeFpMBX1Emjt4pxqAg0YaXY\n",
       "vZlzHzRC10+sYklxftLX/WKoZhGHjPsMZ6JSaEWHwNy8MkEQmJsPikBwIBy6A9FyphMrHHe0uK4Z\n",
       "+rqO+dx3DWMvezAUI/RLJHH0iBiHikDkOojdmx8AkYcPu3qu+a5r0CzCyZj7DOdxZ9Wje7dGS5kg\n",
       "CGy0AiNQ1wOyAx3Kjo4znVjB9veA+W7NKj89Eiy/l1CkC6pPuOJwEYj9Pk+RuA+GHwqupSSz+6UY\n",
       "zSI91Bx49aGkTBAEDpUCI1B3D7sDnW41UbHC+VrrC3THo5Fg+b2Ez1NlaotxyAgE/wGwe/NsxHc4\n",
       "2GG1u6Md6r7n1SzSQ80Bw1fUCYLAr4DACEzMh0KXmF9aViTLYOWEwAiEXyuQuTdHEDz3O/cgCc0i\n",
       "iy5jptTeBFE7H7XXRiB4Zzh071xaVmR3H0GgaPCGeLlUV6EHSWgWWXQZN2rKBFG7Ri0EBE6UQqGb\n",
       "KC0pK1yH3I8gcOnCfZEVWWwZ36VOELW7C4SAwPxAKHT5gSVlRVheY0cQGDj0IAnNIoss48JWZYKo\n",
       "XWFrGAjU9h57TzjVRMIKW2u3riAEWpbVWr6t3xpVkUWWcbKtTAxjh9ukjy/BqGXp7vSdXw+FTrea\n",
       "SFhhh0dXDgLNjRs3tpdv8x+NrMjiyvjz6oQtoBr/tyRcvXGj7l3VhVIodIXSUrHi/wHYv5NLetyt\n",
       "mAAAAABJRU5ErkJggg==\n",
       "\" style=\"display:inline;vertical-align:middle;\" /></a></span>"
      ],
      "text/plain": [
       "|- ((|psi_{1}〉 = ((1 / sqrt(2)) * (Sum_{k=0}^{1} (e^{2 * pi * i * phase * k} * |k〉)))) and [forall_{t in NaturalPos | |psi_{t}〉 = ((1 / 2^{t / 2}) * (Sum_{k=0}^{2^{t} - 1} (e^{2 * pi * i * phase * k} * |k〉_{t})))} (|psi_{t + 1}〉 = ((1 / 2^{(t + 1) / 2}) * (Sum_{k=0}^{2^{t + 1} - 1} (e^{2 * pi * i * phase * k} * |k〉_{t + 1}))))]) => [forall_{t in NaturalPos} (|psi_{t}〉 = ((1 / 2^{t / 2}) * (Sum_{k=0}^{2^{t} - 1} (e^{2 * pi * i * phase * k} * |k〉_{t}))))]"
      ]
     },
     "execution_count": 82,
     "metadata": {},
     "output_type": "execute_result"
    }
   ],
   "source": [
    "# # recall our earlier instantiation of the induction theorem:\n",
    "induction_inst"
   ]
  },
  {
   "cell_type": "markdown",
   "metadata": {},
   "source": [
    "We have proven both pieces of the antecedent (_i.e._, the base case and inductive case) of the instantiated induction theorem `induction_inst`, so we can now derive the consequent:"
   ]
  },
  {
   "cell_type": "code",
   "execution_count": 83,
   "metadata": {},
   "outputs": [
    {
     "name": "stdout",
     "output_type": "stream",
     "text": [
      "_psi_t_var_formula has been proven.  Now simply execute \"%qed\".\n"
     ]
    },
    {
     "data": {
      "text/html": [
       "<span style=\"font-size:20px;\"> <a class=\"ProveItLink\" href=\"../../../__pv_it/_proof__psi_t_var_formula/d910a653d1b0af133ab0ff1e1cb9ecba4fda32370/proof.ipynb\" style=\"text-decoration: none\">&nbsp;&#x22A2;&nbsp;&nbsp;</a><a class=\"ProveItLink\" href=\"../../../__pv_it/theorems/f1bc79b7efadf04278d2016e9ddf684ff1d2f1cb0/expr.ipynb\"><img src=\"data:image/png;base64,iVBORw0KGgoAAAANSUhEUgAAAcMAAABLCAMAAAA7zBztAAAANlBMVEX///+/v7+urq6IiIgiIiIQ\n",
       "EBB2dnbu7u5ERETMzMzc3NwyMjK6urpmZmaYmJiqqqpUVFQAAADjR+GvAAAAAXRSTlMAQObYZgAA\n",
       "AAlwSFlzAAAOxAAADsQBlSsOGwAACj9JREFUeNrdXYu2qygMdYaXgAj8/8+OiloxQaxwWjqsNXPv\n",
       "2ecmjQnkBdiuqzr00DXEsLo0nxiKiiyCQbWGcS0xrC7NZwZ3eQSD6gzLREMMq0vzqcHGPIJBNYao\n",
       "zbeI4ZlYmV+x4eBVFsGgGsPplhieiUfyMwvR9XkEg8qH9ENDDM/EhBr7M2mNt1kEgyqkkLolhhux\n",
       "4Ny5OTBSzN+Oukkj9jSPYFBx/lF7GRYx3InnKGimpxWItSQhtEkbSk+yCAYVrxraEsOdeLal8rKz\n",
       "pkMSJNumDbue5REMqj11vsnwRTyKYENlRvU7NrQg2EEEgwpzKS8aYhgT86SlWrVh53UewaCiUs5X\n",
       "TnWLGMbEMt2YataGbnIdOQSDSsZYe10XMYyIVX8woey3oZq24eB5FsGgoiBc25UWMTwSz/0ZpX5t\n",
       "HXae5REMKnFelZWRYChv9euPxKqXUhrxczbsgZ+ECAaVOC9e9xEwhsIZfWt1HomZn0eiH8K15422\n",
       "4AhQAEQwqCQEVy7wEwzJLRtWl+YrZb7OIhj0fDBf+RESDO/ZsLo0XwmI4FEhgkGth8N7NqwuzVeG\n",
       "Bs4EIhj0vK1QuTpMMbxlw+rSfGUY0KeCCAY9/zxe+wH4cxtWl+YrYwQzESIY9Hzd29qOxD63ofb2\n",
       "f2BDCYo/iGDQ8wxE1n2AFMNbNqwuzVeGABURRDCoXg71Rwxv2fBMrH1iFMSS8e+niQdTESIY9Gwo\n",
       "XzmZTzK8Y0NAbP3pSYUaiJuK/2s/tJ8AQNd6MuSOtFKaQUFIgAgGPc0iKyfzSYZ3bAiJncf4jfD5\n",
       "x2Omvp0AeDsOPEv3DQzrJItg0LNBonZB+sycfMbwMPiNE3kIMfUeO1NrTkmdjfS4nQB424ck8Iwy\n",
       "VA9mHs8iGPRs8CjD5cl52MtHDF8CTw5Qu/F9Yjl5U4zMRIo9HbnZTgAEDdMQQjcCvbOb/yL16zDr\n",
       "2HeKIIo9qwUo43x40oB5B5EAvVD7+ECui3hHwpL0PL/NsEiabW16dAVHj9xDBWwnAIQRauwOltlt\n",
       "OExslVNyt78jygqmEjYUPaMpZZz2ZDjwJxAJkNk1rh8fHO69SdkwnpD0EcMiaXYwG7MVTHGWrS4x\n",
       "PcP0B1GCr7nOasPlL2R9SL7+3DFi0aixqUWblDKIO5mHAoPRDoOkS/njdyrylA1F7B+4fcKwSJpN\n",
       "kCkNzfA0wAGGEwAyLKq+k4HB8vNsw+Uv0wMqG2y5/Ky8MWjI2NSyJ1JAGSJO2AjImyGyQlq8p180\n",
       "C+YJG1p5HbdvMSySZhvD5E2vnxC0j6MTAJPog0N8qQtL0dpXOBwoltetahl2Q0Fl6DHuo3nQWfMd\n",
       "Co0rYcFOFEva8KzNm/6aldgwQcynelBc9rbW3wrHqOnOJwAM6QaGqHt0kyeTrzXsyOSBu3ROw1la\n",
       "GXGe/IYNO0bnwYq0Rs7CCmLGYMPoKLXlDxgWSRO1a67m6SanYNSOzJ1PAMzu6pB0vJaM1Z71r2k7\n",
       "n7VyYzoeajdrYZkaQBmEnVoToPL1HQ4F992LEq2NZ2F5Z9l8n+Fclh8MauhhuAuGRdLEIfFiCm33\n",
       "pBxdirz76rh5oWrNSyfhrFWhFKHA34uHNlRu+19WjGRn72xDaZcWx3K0mh39hrnVxPAlNkwSg55b\n",
       "nLmujixQ9/cF6O0bNrReDXaqJ9VBGbtPlZF4A7AYRHZoXoJ75hv5aEXN/IvFtWDtoF1r9iSsmHPs\n",
       "1ehmmX6bmO6eGd5JsETsI9PE5iokare3A+ZxP7RcHbU7iBY0bNjBzwZl7LqZVv8QNyYEaFWIDocs\n",
       "2TOajZ8krp+dvHUdn/7NGtnTNvwXmXAi2HApL6x+KyDGDFPbDi8tmjTxueeWdHwrE+mtmkeljZiX\n",
       "aEEtVB9Kj6CMXTeT9o82/AdYDCIvSO8+feW3f46dfmF2J3p/HU7/Vm+Fk+gUp5rL8zq/iIe+pBt/\n",
       "QawuCv11HXb+jw4rhlRvkm3YPeasjINuTt3Zt9bhVBqGInHjR15Jl7SDIrMNuTGGTv8Nd23Yh47j\n",
       "sPyk7VsF4rUNMzfrL4gJU1kbmuBu1Z/YcJw0PtuRHJSh7csgKjYPNFiXghTblsHCT/THGp0LO2TW\n",
       "IZKXTsWUmk2/7ub49xoJ13lpJhFMEw9XuxDb/XZB2TgQSv7EhnPyKyYp+EEZr7UV56Vv5TQT6+3Z\n",
       "FibDGPVZTEf69204BWzeExIm1l4d32yYXtowd7M+SSwvV/erODPUa/I3vnTJYYkh4qWMQ+dgZN1z\n",
       "G+7IwmTU4WaQDTYUfMt4TDJVGLE+jbSHbq6Yp8ndjQt6uQ7pM2LBLg0z+L99nQ3YkluVsemmO78U\n",
       "6aENAz/J437nYMl1fahhn6YL2cyrUTWnt11/M8pc7k4L/YxYZyYQGz5rw1UZm25Av9SCDjdEEGjl\n",
       "9+rZhHBGMkVdj/dLX6A0S1Uk7vZk+6vyDL9ZnyXuc+mU4R+14aaMVTcd2LcYQRINEQRa+altj1nS\n",
       "UAtkbOjwvSewHMjd5oc77RMpY/S+743frE8Tb0EOc5XHACnZR20IlTHGaoZnSpBTJslTK1MInOPh\n",
       "bd8SnxEgyeTPPWMYknB+92qBwQ4BjGhVMUZJjvvTo8VntUAhaSwiPFOCnDLhtQ5689oXHE4M3fJw\n",
       "jD2XBq8qLHsr0P7xgOdpTJdDMOjhp1d+QcOZIVsChVsqYNBouyMN+l4sAZ7ffvOeBmh/9CA3gwgG\n",
       "PRuDrxxKTgyX7aDbb4GA0iBVhbIO2cUYv3j3FNw3h9dGkIsk1e6WfOacNw3YVOlcb2BBYu31cVAa\n",
       "tncbv6YIr40gF0nq3S3xtV+miTDcXv3Ejrs1t4hNauNjbNqGH74ITGtfgEcYblsbKlsF0P/BdfzZ\n",
       "nbAsgkFPh6s9pSHD43mhTNXjGl9gd3MCnUUw6HHt4yu/aBkwPNa/Rn5Ymq+MT7/cZKhdXJwZLln/\n",
       "etaTi458VpqvDAcyTohg0NMhaiemJ4ahCx966DqbUFaX5iuDgmwFIhhU8IGq9hMcGKr5AIG5fxfw\n",
       "LA1+rZNz0vC7FwSscmH+ImoW5rx2GhExXO+N6cfSYNtKc2traPclKBZ0fSGCQSXxq/L3nhQxPBOj\n",
       "1zrZnBn9zZdE/GI47D73sq9HxNi1znCSmzX7FhT4/IhG6mrd1H6fSBHDE/F2rdPsL6Ad1ysytNVK\n",
       "UgI/BBEMKvN9lfODIoYnYuxaZ7Aha/XLZwjwkhDBoLK1X3sXvIhhRIxe6wy+tNk3SmmWRzCocOIM\n",
       "DTGMiPdrnUdf2nZOI4EXgggGFY7amWkZwyMxfq2TzLVFq9+QCL8YAvmqiOpfRzEVZaIhhkfixLXO\n",
       "qcY3jX5DogDzFyIYVP65vCGG4qfff0mAj4cIBlX4YNEQQ+LF79qQmTyCQeWD8pYYUv7Dy1DkZ+Tf\n",
       "TFJbe3EXMbTt9tGycWDMIhhUp7fSt8TQ/Opbvb/3VbKL/xpbYkh/80jGAN4ZABEMqlWa1uZcxFD+\n",
       "5per0yGPYFC1OaRaYjj8YkQUQx6Jof8AiYd8AfYqn2cAAAAASUVORK5CYII=\n",
       "\" style=\"display:inline;vertical-align:middle;\" /></a></span>"
      ],
      "text/plain": [
       "|- forall_{t in NaturalPos} (|psi_{t}〉 = ((1 / 2^{t / 2}) * (Sum_{k=0}^{2^{t} - 1} (e^{2 * pi * i * phase * k} * |k〉_{t}))))"
      ]
     },
     "execution_count": 83,
     "metadata": {},
     "output_type": "execute_result"
    }
   ],
   "source": [
    "induction_inst.derive_consequent()"
   ]
  },
  {
   "cell_type": "code",
   "execution_count": null,
   "metadata": {},
   "outputs": [],
   "source": [
    "%qed"
   ]
  },
  {
   "cell_type": "code",
   "execution_count": null,
   "metadata": {},
   "outputs": [],
   "source": []
  }
 ],
 "metadata": {
  "kernelspec": {
   "display_name": "Python 3",
   "language": "python",
   "name": "python3"
  },
  "language_info": {
   "codemirror_mode": {
    "name": "ipython",
    "version": 3
   },
   "file_extension": ".py",
   "mimetype": "text/x-python",
   "name": "python",
   "nbconvert_exporter": "python",
   "pygments_lexer": "ipython3",
   "version": "3.7.3"
  }
 },
 "nbformat": 4,
 "nbformat_minor": 1
}
