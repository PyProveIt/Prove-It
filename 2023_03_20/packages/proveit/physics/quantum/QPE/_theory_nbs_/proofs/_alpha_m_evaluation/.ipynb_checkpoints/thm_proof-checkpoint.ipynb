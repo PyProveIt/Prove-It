{
 "cells": [
  {
   "cell_type": "markdown",
   "metadata": {},
   "source": [
    "Proof of <a class=\"ProveItLink\" href=\"../../../../../../_theory_nbs_/theory.ipynb\">proveit</a>.<a class=\"ProveItLink\" href=\"../../../../../_theory_nbs_/theory.ipynb\">physics</a>.<a class=\"ProveItLink\" href=\"../../../../_theory_nbs_/theory.ipynb\">quantum</a>.<a class=\"ProveItLink\" href=\"../../theory.ipynb\">QPE</a>.<a class=\"ProveItLink\" href=\"../../theorems.ipynb#_alpha_m_evaluation\">_alpha_m_evaluation</a> theorem\n",
    "========"
   ]
  },
  {
   "cell_type": "code",
   "execution_count": 1,
   "metadata": {},
   "outputs": [],
   "source": [
    "import proveit\n",
    "theory = proveit.Theory() # the theorem's theory\n",
    "from proveit import k, l, m, n, t, defaults\n",
    "from proveit.logic import InSet\n",
    "from proveit.numbers import Mult\n",
    "from proveit.physics.quantum.QPE import ( _m_domain, _t ) # QPE Common Expressions\n",
    "from proveit.physics.quantum.QPE import (                 # QPE Axioms\n",
    "    _alpha_m_def, _Psi_def )\n",
    "from proveit.physics.quantum.QPE import (                 # QPE Theorems\n",
    "    _phase_is_real, _psi_t_formula, _t_in_natural_pos )\n",
    "from proveit.physics.quantum.QFT import invFT_on_matrix_elem"
   ]
  },
  {
   "cell_type": "code",
   "execution_count": 2,
   "metadata": {},
   "outputs": [
    {
     "data": {
      "text/html": [
       "Under these <a href=\"presumptions.txt\">presumptions</a>, we begin our proof of<br><strong id=\"_alpha_m_evaluation\">_alpha_m_evaluation:</strong> <a class=\"ProveItLink\" href=\"../../../__pv_it/theorems/1973ff1b37f0d1edf492e28b66d82bc0f5a63a3e0/expr.ipynb\"><img src=\"data:image/png;base64,iVBORw0KGgoAAAANSUhEUgAAAjsAAABMBAMAAAB5QGs4AAAAMFBMVEX///8AAAAAAAAAAAAAAAAA\n",
       "AAAAAAAAAAAAAAAAAAAAAAAAAAAAAAAAAAAAAAAAAAAv3aB7AAAAD3RSTlMAq1RmmUTNIjK7EInv\n",
       "3XZ/CtNrAAAACXBIWXMAAA7EAAAOxAGVKw4bAAALXElEQVR42sVcf2wb1R3/+s72ne/ssyekTUWl\n",
       "8TS0P4At2boxysqSQWEUVhK0P9CkjvgPBhoU4jK0rmxZjFQhphVibSBaxtSbuoFQy+xOG39QaLJ1\n",
       "qGxjJINOk9hK3G2iAkTTJE1SkpDbe+d7z+fnO9+L8855f8Sf+Hv37u7zvu/7670zgLj2bZ6D4n2t\n",
       "ycJsylssgEFT9EWiGZ6jvtqiLNR2pAHoGdHXuIKHcOkvrcnCbckuFsBxwZfQuDo83NWaLNwWm2cB\n",
       "9OfFXiKS4znq48Eypaf9/KxrAJGi2CsM89hVdTZYJlfaT89QlgXKtNgr3Mnlt3LBsg+ubT89iXEW\n",
       "wC+EXkCa5Tmqs6+57NCRiyFVM2dXtosedZkFMCxUiePjPEfdGyDrgW3wDP3msQ/apj5PN4DEqFDT\n",
       "U1nJIPnJZmGocKlMv/tM2+jpzLJAEmp8OniinshCgOxqRM8DX1oDetI5FsCcyKjnQ56jSsVA2cvu\n",
       "79pHT+QCC6CjIK57mUsVu7NBMvWttaEntsgC6C8L9IwLPEcdMINku+2/6n7UnmwnPbDUANICbXOJ\n",
       "x3FpHwXJlB4lvybaAwcKLEhcENd7N48mylRx6+dQTbb7kT3m2tAzWWaBsSjQcfGkFBESOv7yhgVv\n",
       "2Zhlub77wcCxttEznGOBKtB1jXHVDc4RZCz4y9ampRdYAJYpqvNmVsXLQDXSw2W8QmzxWRbAgLDi\n",
       "pcQV9nQW/enpbFpAiGbDIUW7m15hmQXQKyzrinKZsd6yPz29TW17QJk12nJx5lEygeQPWQDdwko+\n",
       "ca6ocCDrT89AM/2Q6+sgsc9eX0vVsEjqaTmcJTVldYkFMCws8ElyxQhjBX96xpqF8HvrjWQSSoz2\n",
       "tF6G/SmZZhYLoCTMW6S5guaaK2ikx5HFLVejc/+e+mMV2It1aMeOOxDGMyC+6yzWhGs3Xn/5ShOl\n",
       "w+SerAIL0sLiwiEeopVaTNNAD5FJlnNPz96+3iLKLTWQ+QSiKKbrAHlETx7S9z+HvpDehVekpiZM\n",
       "biSPLj9NZFmQElbS6ORxy9JH/vRQWUftoGvI7aXYZ44WYBDgUAKUcaWojMPwxYC/2KflWBenHf2Y\n",
       "a2Im3R3Jb9vjQtYmBiosiC8LC8lzHAcZc/70UFnKqi3AbSU2ko3PXjTw39+nTGdyvT/4LP5iXCqn\n",
       "ZIZIiPqO3Cv235+TcSmzICIsqxjh8YF6LTjS5/1kqjVTezYnPV3H+knLVrGsROj5mv55rCkZoy9y\n",
       "hjGKfYqfBVGqBmEziSwyLIhOCUu5eNZcI/RykfVzF/nJJq1azu44pJlV1KFMm55BZOhRt3HcoQzq\n",
       "Dvuz+COsJ2TpZoRMAAp0pNH2c31q1eUAnsAjcZ5HlrDY2aDOr+bWdNSddtN3dVvtMC23wc7vYwYi\n",
       "Zy47gWezc+sj5LIU6EhH7QDrrtXSM8BDT/w8j0wbYw+TiVskVTKrWTvXEBdrZQ3OHEKmHNGjlaEC\n",
       "ZSijz+R/ADuyqKMsk8RPUmCgAPEhcObvqtoET7kntcgl67cY7xO0PN101Vl5ClSkJMU9KLjMx7sQ\n",
       "rihZqKDPoS22mzccPrsJrxTIKNiII/OmrzrhG+OhJ7nIJdMtZqdGMsCwNV11fgB22QpwK51cGQMk\n",
       "/MCbYuPYykkXmtEjozPiqy/38CS3yWU+2QBTh0pj7rX1J/3O9Vt1xqco+x65Cc+gynZKz+ceUm/G\n",
       "/2xQx3HHqhNddRJWKJBwqPq3U6f+unp6HB9z9EiToD45wyc7bNXrYhp3fviNzV5KhLPTlF++gE5J\n",
       "Vo1R3MQxUpUeaeDPdiHnSbgI36w205SeGwGeWjU9VpWewT7thOKeqdtO4fZ35zGb0OOW0cSCZCy4\n",
       "x0tA8crrcHb6jE+fPqfAV+r/dfS2n7BCQQzTsxOUhmH5cpfPPHa729+5YlnHmr4O8LjhW4JMN8lh\n",
       "6mS9S3V9DGersc/PvCwvyk4vlb379DmFJulOc6zeMKGSAhWnyQlTZ4uGKnJt+rFyQ+5So/1grn77\n",
       "3Ub7eaKI9xt0fxN6dZUJtwvW5upkJLGoM2X9ffhWLcvbsj8BrlVncrdz0OQUZpXEiSMOEpWgQNuI\n",
       "Vbnitszq6f19IOWwBn6TzV2Mk2TeqGdR6CS5/K1lM5xEAcJLL/priNcel5MeMqW+co21R53etetB\n",
       "z0Khp7E7CU1OAU96fLQHcu65aMcC+MFfhXSezV1q4azE0mMTV0KDPpKFL1x1NvPffR62h3dyGSca\n",
       "6AE/r1fNTj0bZ8K93Jye396NdPu6x04bmwpg2IqFHhwZtWSWyV20XAA9aUTPS6B98Tj8AU6vwvb0\n",
       "12vEEL6pr5vIznhE25b/GonPKR4mymaFWGQKVLsG9UNkQw5u70pmjAw8R0q76gKkupjcRerpctMT\n",
       "G2cde7QIcq+q/CYHF+DmIMd+l69MZWjESgnPH7/97RW6U75TyCZCH88FETRWD74D6UK0DN+wv3+4\n",
       "gOlJVpjcRbku76YH7jPZuOfoxveixyBSQbb9jQB6tHP+cQ8TYybtpGHbXGWF9PCdQnZ8+tFjtw3I\n",
       "QaaycCXK+bIqclJocqWzTO6C249xVpiv0vPp2sUn3JqWLBhF5VyjyUw5FChbvlOom5ouGW53sBNI\n",
       "8B5apk65wEHPq/AuDKnwk6ppzDSYZid3cWuPMurKA9zDNIT0Ry425omkOLkb9Fnl5XsKXjJc0WDZ\n",
       "iI6GSY/u2IhOchUKpCVX5WwDbIqiIMgxzXAW7CTuEGh2/OPkLn6m+YA7SLoV4nllQ2N0mHCikE8A\n",
       "vAbxrKcMT4namdVj5IUw6Uk44Vs3MaUUyNTqxzLIVO58D7FA6NGP2XTszau2l03WFVKUFxYrdfR0\n",
       "8NR7Ik6EMWZCRz5tesrQTdW8ulylR5sOk560YxdouZwCo3GLxqH9TljIMWldR/XyFFNJ7fYSvG9v\n",
       "u7eszqtf4Xw+HiY95OUJWi6nQPfZOBAbXyk9Ky3FT8BpreApc23W/xXRqM1h0vMCGeEeFkT9qpv3\n",
       "8fT7sMt6dPPom0yVVV2GW3TTU0a9uvJJmriXwnwN7o/EfFZYkPALu1WO8qHiHv1+HucSo54glYE9\n",
       "V3nLBu60273/RgklrYnnwmPHIHdO90BQEBdm81a4iLzVVxZ1V9W7amFHaI2mTnQPBAVJYWvsaa61\n",
       "FrKCJWf8ZZ4txFdP3qE3YLIgLSygSHG9jzPh2JDLQcn7yTxbPLT3BBUSRihLLIAhYeFohGshs6P6\n",
       "lGoZGkuKHc0Y0P4ZFj3Pk7kVm2MB9AszecZ5nqMmqy5zcMuWbX4yn/Y9MyR6aLWV7mKubWeeFPbW\n",
       "QIxrD7AzHBOWNecn43GTAptGp3RkmgXQkRV2GYvnqGa70UprvK85tcACmBCnshM87zWn5oNl19Ry\n",
       "/6Pvt5Ge0igLtCVxvY/w+BZ9JliWpOouV2LF9tHTmWGBNCWu936enDQ2FSwbqgVsBZhvHz3U0FAQ\n",
       "EVgo4HslYixYtkkhU2rIpPlQG9pYAxD5lkeUKwDvLQTKNtx/OL8VV2y7hk14s23sqFMsgGGBvzIS\n",
       "49qm2Oz9Q0f2elYlt2fiRek2NWOaBTCZFdj/a1xTcDRIppy/EWqTa7pt9MRHWQA7RPY/yVOTMWaD\n",
       "ZHLxWwpUJ1dbTfNwmQXqosj+01wzdSpIFqk8SvYwGJVYpm300NfwKYgIXQDQuXobMQNkiXyE1smO\n",
       "/s9sFzvaFAugJHRsNC5dLJVbk4VumedZAJNif99okmeojYXWZGG3ZA8L4E+Cczquwf9Xi7KQGx1b\n",
       "CkQPlsTlZjrzrclCNj0zLICS6ALlVq7outiaLNxGfyis9oth64RXTLj4frNFWahtu8mCmPAfCVS5\n",
       "etxrtiYLtf2jAaTErzzexpWc5VuThWp6+lgAv65+/B9e9N18Pe3xOAAAAABJRU5ErkJggg==\n",
       "\" style=\"display:inline;vertical-align:middle;\" /></a><br>(see <a class=\"ProveItLink\" href=\"../../../__pv_it/theorems/caf49173b3711e4a248a8274f0b087173d02bcf60/dependencies.ipynb\">dependencies</a>)<br>"
      ],
      "text/plain": [
       "<IPython.core.display.HTML object>"
      ]
     },
     "metadata": {},
     "output_type": "display_data"
    }
   ],
   "source": [
    "%proving _alpha_m_evaluation"
   ]
  },
  {
   "cell_type": "code",
   "execution_count": 3,
   "metadata": {},
   "outputs": [
    {
     "data": {
      "text/html": [
       "<strong id=\"defaults.assumptions\">defaults.assumptions:</strong> <a class=\"ProveItLink\" href=\"../../../__pv_it/_proof__alpha_m_evaluation/553d5598dac26513c310f953cbd1ba9111fc3e510/expr.ipynb\"><img src=\"data:image/png;base64,iVBORw0KGgoAAAANSUhEUgAAAK0AAAAaBAMAAAA3TsG9AAAAMFBMVEX///8AAAAAAAAAAAAAAAAA\n",
       "AAAAAAAAAAAAAAAAAAAAAAAAAAAAAAAAAAAAAAAAAAAv3aB7AAAAD3RSTlMAZkRUmRDNuyLviTJ2\n",
       "3asqG0tJAAAACXBIWXMAAA7EAAAOxAGVKw4bAAACbklEQVRIx62WT2jTUBzHv00aG9PWym6iYBE8\n",
       "eLJH9WIPpfMwRxAZepDOeVBEahWGF5V42U6S7aggy02UTnvYVeu1oLPgUFDCCkon+GdzsiEqzPd7\n",
       "TWxN3utY8EF/pO+b98kv7/fnBYg8LmyiD0TDaisyJc6tmo/GVUdlil4hOyJfeiIr1/TZizXB7CGy\n",
       "e8hckS5NjZl9/N2WE80+HWcmzdbpU9KVR5lsVI8JvCqcryETeugTmrlJDrXYJjtS7iz7ncMZKyRM\n",
       "wljFgWAcP1w2vUXaGpDJ9uPGmjAqIeEjcAfzWnB/X/pcnAXqwddJ3XBf/+UmWlDXQtwZE8vWkGFK\n",
       "uYPAi4CoXDJ7/M3kkfwe4n4BlmtzuyHlNoA2Q82fql5PPrzKxQmzdx9KjPtNtEeLgrku96CJayzm\n",
       "ic8oDeBwsDqLgO0g+VuAEE5yboOu6jWUgX3pCuxn2MvFbhXp0x3uTwEi3ZJxbUprO4sFwCxlKVeL\n",
       "3JF7ruu+4dg2y5SSA0Xk2qB/MeLSeNflam0GZsAyFQB/57s8C7tZNTfO46aG44aYyN0O1xgjf/k+\n",
       "UOzeQvmhkdjs3sdKJ1FBLJxnOALdknCpSFG3sATyVFvFjtFbJD7/ty6mEA/3raSDlCnhPvDygcVP\n",
       "/4XYChKOE2gnlDKvcJqXlbbOTMl7xO1C4bhgHx5bfp7t4miliVQeyhB/NW1pfy/3ZPVT588CZYHX\n",
       "qhc3NtbD2K8z5Z0edxjYHuwPyv2eOt768PvDJv0sEpf6WVLefxtRuEU/Dd9Lb7FzEU7TaYqD1fd8\n",
       "04e3DNYf5fzzTXXwn0fnPI76/SAfcVYffwA/haX/H6W7vwAAAABJRU5ErkJggg==\n",
       "\" style=\"display:inline;vertical-align:middle;\" /></a><br>"
      ],
      "text/plain": [
       "<IPython.core.display.HTML object>"
      ]
     },
     "metadata": {},
     "output_type": "display_data"
    }
   ],
   "source": [
    "defaults.assumptions = _alpha_m_evaluation.conditions"
   ]
  },
  {
   "cell_type": "code",
   "execution_count": 4,
   "metadata": {},
   "outputs": [
    {
     "data": {
      "text/html": [
       "<span style=\"font-size:20px;\"> <a class=\"ProveItLink\" href=\"../../axioms.ipynb#_alpha_m_def\" style=\"text-decoration: none\">&nbsp;&#x22A2;&nbsp;&nbsp;</a><a class=\"ProveItLink\" href=\"../../../__pv_it/axioms/c1601e95111031655bd293b12854febe6ac18c180/expr.ipynb\"><img src=\"data:image/png;base64,iVBORw0KGgoAAAANSUhEUgAAASYAAAAXBAMAAABUu/9VAAAAMFBMVEX///8AAAAAAAAAAAAAAAAA\n",
       "AAAAAAAAAAAAAAAAAAAAAAAAAAAAAAAAAAAAAAAAAAAv3aB7AAAAD3RSTlMAq1RmmUTNIjK7EInv\n",
       "3XZ/CtNrAAAACXBIWXMAAA7EAAAOxAGVKw4bAAAEC0lEQVRIx7VWXYjTWBQ+M23npkmTVh98HLvs\n",
       "4ovKFPzBQdDCqMiKbkX2QfChsMLCrmhFQca/iSCi+NcHxaksElhwEWFnHNZFHB0rsuiuKFEUBBlI\n",
       "FUR9GAoqjgrquT9JbjKtmbV64OQmuTf3fjn3O9+5AF/EShH9RLRm6BP/O0WMIvCFzMhGDHgkoJX9\n",
       "V+e9C7Mkwk043DP0xbctYpoZ0d8+yFst2wDTN7/9OxWH5PH2MfeltOvn1iCpxYgBp0WrQ6M4par0\n",
       "aqN3WMz3hEL6ORbPRQzoEe13EzG1XwDdhh05GMLHWJ45haZlW8OUihpQFW1/gzhtoJhGLeilz/8x\n",
       "j+E/drRIpxlRdCo22GMX0xVTt9WXCILm4E/cb42O3mwR0wp6GT5nNt1bQXEjB4naHyOnlOHjPqbF\n",
       "Wd1W3os8OMd9OcDJ8CQLGxNkq/yg/GW5t/TvdhXU60TmwMpRanfobUfOo7iW7ISBeTDLx9SV0+3E\n",
       "C0Hy+dw3A8mE1lZw/7WRwUBqDU+xYJH3+DvuguZ9dhf9NsAxw2ocJz3Lc3s1wI96GfocWOxjGsjr\n",
       "tjEOXAFmcU9aWkGCU6sU2P4vgrWB8EPcNu65cVDGbJ8lAP9gfx1gmdYsB3ABtc5WtQYK0GXBMh9T\n",
       "sqrbOp2KKsBR7u2OTPElpuDkDUjLBSNdIOMsuoK1YUwplJNLFz+BiY6mktgFFNBNH5O6XrcvW0J4\n",
       "1wkv4pbEeo7UjG6TspBjIm8hJbMjZpFxKW2CmHDvBrAkXMnC3AVjmcf9YT7h3pHLv5pMOqcBPITE\n",
       "a9XXTGP6VccV7tnCh35BfqzLpTJGBs5wAEVQ3oIeJLpmt+dzMqaEF7ZTGEec9hKo867BVaiF45TE\n",
       "zg78w2SJRkh9BW3FLZKO67ZXC7uF70Subn8CaRNTdg2bY59JMaWcwMSHLdJTkjHBRpfSmL3xMsR+\n",
       "UMifRRjn0hD4HVwhbbF0RwbE6pAcHJQwpateLVwhvI1SqBMO0RDPr1QqWQVTDPcuHVB3wgXjAA6o\n",
       "lDimGS7ow1Se5jyPj0Cbgzl7N4xJsTlLkJAYXCMPiVUlqQZvejPVrYX3hTO7Ac+gT4GDXNsyEziO\n",
       "2rRNVmZchVS9XPfUMmUaZVKfIJ4PAGoqvh2CpmcVVguJzZ1HoY6R6o6jMLi1YIyqCcBZUJlOkf79\n",
       "34cw+RynpZNbH0YqVs6HMc0FWKXh1L2fwHRCFHOvoCcySPvNz3FpF5M2wjAcKinXWQA+fKhLG/n3\n",
       "O0fCxOZjthrLFumcIJ1I7r0LxFmkCSaW1L0QxM3tbEVoZrRJo85EHbDEYSjmNMXEVOiE/H9B87N8\n",
       "kpiIEzF2t2ilKvbUuzBro7hK3Bvaxslg2tfiqet/mjKJ5Yj5tVb/CAbEIF+lIKxZAAAAAElFTkSu\n",
       "QmCC\n",
       "\" style=\"display:inline;vertical-align:middle;\" /></a></span>"
      ],
      "text/plain": [
       "|- forall_{m in {0 .. 2^{t} - 1}} (alpha_{m} = ({t}_〈m| . |Psi>))"
      ]
     },
     "metadata": {},
     "output_type": "display_data"
    }
   ],
   "source": [
    "_alpha_m_def"
   ]
  },
  {
   "cell_type": "code",
   "execution_count": 5,
   "metadata": {},
   "outputs": [
    {
     "data": {
      "text/html": [
       "<strong id=\"alpha_m_eq_01\">alpha_m_eq_01:</strong> <span style=\"font-size:20px;\"><a class=\"ProveItLink\" href=\"../../../__pv_it/common/89d0188c50f606a85186776fad8a95883dbde6470/expr.ipynb\"><img src=\"data:image/png;base64,iVBORw0KGgoAAAANSUhEUgAAAJ8AAAAYBAMAAAAWgDKzAAAAMFBMVEX///8AAAAAAAAAAAAAAAAA\n",
       "AAAAAAAAAAAAAAAAAAAAAAAAAAAAAAAAAAAAAAAAAAAv3aB7AAAAD3RSTlMARHarECKJuzJmVO/d\n",
       "mc2qKiq2AAAACXBIWXMAAA7EAAAOxAGVKw4bAAAB7klEQVQ4y2NgIA88ZaAuYPlAZQO5HpCux1EA\n",
       "txxrzrMGLKJL8ZnH9NABjyzfAmyizSV4tKwHmseWdBWLO+4+b2Dgx7CtByRSjMfAHCB+xeATgCER\n",
       "zsD2kUEaPZJs3ztANeExkPMAA1sBhoQpA8NuBmUW9DDUx24gU82Zc3AD2Q0YuL5gKNnvwGAfcInN\n",
       "gSgDGR85ILmQ/wIDxy8MA20YGOwbemcw4DKQUdk1qYgjrRAsGueA7GV/oIE/sQXHeSxicAPZ2I0Y\n",
       "/CcyrEbPUPcYGOITGDg+YdGLVRBsoDYQC/IUMMQrMMwHiyLSP+tOiIHfsOjlMcBlYDwweTr4C4DS\n",
       "3D2w1XvOnDlzHGyeHTCf+CcwMGJzzHUYw+8MCJxAGMhiBzRxPdh728CpCZFIekvAkcKFGSkMnNgc\n",
       "CDGQ7SGQsGNgOMbA+JUFJHoAoQCY6NkLGDgxkw3DMgbWABwGgrIX0G0sHxmYH0SCRJVQE/YGBl7M\n",
       "UoUjgYHJAYeB2aDQ+sHA+YGBPSEBLc+DUsApBm9whmD5ByT8oWbH3L17B4uX8wNg6fAAA9MFBsZL\n",
       "YF+wmIsgG+ibZAHhnAXF7QVoIvz//x+mecb7H0/AlvUY05GyHukgh0w5sjRpk2PgPTxy8QvIqLp2\n",
       "4pFkvUyyiazJQC0AUWB/cz7tlkgAAAAASUVORK5CYII=\n",
       "\" style=\"display:inline;vertical-align:middle;\" /></a> <a class=\"ProveItLink\" href=\"../../../__pv_it/_proof__alpha_m_evaluation/9adccdb9d9131ba21104ad193c835362a79e02460/proof.ipynb\" style=\"text-decoration: none\">&nbsp;&#x22A2;&nbsp;&nbsp;</a><a class=\"ProveItLink\" href=\"../../../__pv_it/axioms/7ef73f638b7eceb945bc406413dceae5b95f80cf0/expr.ipynb\"><img src=\"data:image/png;base64,iVBORw0KGgoAAAANSUhEUgAAAI8AAAAVBAMAAACNsKCFAAAAMFBMVEX///8AAAAAAAAAAAAAAAAA\n",
       "AAAAAAAAAAAAAAAAAAAAAAAAAAAAAAAAAAAAAAAAAAAv3aB7AAAAD3RSTlMAiasyIt1EEO9UdruZ\n",
       "zWZ7xlX5AAAACXBIWXMAAA7EAAAOxAGVKw4bAAACSklEQVQ4y4WUz2sTQRTHv9vd7GSTzTYRqrUH\n",
       "zTlS2D9AcC+9KLRRCcWDEDyIeHEPnoSQVTyUHqS9eSg0pAWxh7i0ICIe4kEPhWoEwWuh0FPRQEQq\n",
       "iPpmd7q77HazA8ObH4/PvPnOewOMb4qwZrhkRZbFjoXM9lLw3HDpLHWpGUx3qN/P5Ghl30orSZB2\n",
       "aWmbltdoWtjPArWEzeG0iJaCrW9ZoE/CriVBqyYaUC74wR5lgZyIEDFQySFQbtGXL29nSDTwLRsk\n",
       "QdKIQO0+8JXmJS5S5YyZBtKF1iSm2n0481auvA5Axm8CXekAq3xeBeaa7KkSeRR8aPB2AycH+YJK\n",
       "xRrah3gegLS/BHqw76ttUMjLwLtCyhVz/AAK/Q5wN+dioYMfAYj9IdAruozOU8GBPgT2pJSr5cmH\n",
       "kcNHwG43sW5jL3z+NwS6TWOZriUPkSfRp8+NAXHBezReB6c8DkGtfkNaFEmrOmiTXBdXcHSwVe3t\n",
       "xDWiqylTX0wvL2eB61B/sjAhu8c1T0iqNK2OSQJNgx0+wxN04xEVabNEOhUtHgv7hYnBfCSzG57T\n",
       "NS62C92F8VlWHg0wwvs4iL/qpO1Fr4xgDFEslyOgY8/pvMiTyvcX+gwmOrKDW3GQXAfu8UEdah2F\n",
       "PtRdKyza2X+8aGmPNAh+g7xZcJVhIjNvkhLM9E9N+UY0Sm7MBdMFislw+3EQFeOuZPs6pIC4fkFx\n",
       "85QrWUotkZfkdfmAv4ydCmrF/r3TGxMeRicV1DuJany7Kmw1XNrgVRyqyXc2gf/AxYnm9dAIRQAA\n",
       "AABJRU5ErkJggg==\n",
       "\" style=\"display:inline;vertical-align:middle;\" /></a></span><br>"
      ],
      "text/plain": [
       "<IPython.core.display.HTML object>"
      ]
     },
     "metadata": {},
     "output_type": "display_data"
    }
   ],
   "source": [
    "alpha_m_eq_01 = _alpha_m_def.instantiate()"
   ]
  },
  {
   "cell_type": "code",
   "execution_count": 6,
   "metadata": {},
   "outputs": [
    {
     "data": {
      "text/html": [
       "<span style=\"font-size:20px;\"> <a class=\"ProveItLink\" href=\"../../axioms.ipynb#_Psi_def\" style=\"text-decoration: none\">&nbsp;&#x22A2;&nbsp;&nbsp;</a><a class=\"ProveItLink\" href=\"../../../__pv_it/axioms/49753eae3adcb021158e8a9c66de5119b10ecbde0/expr.ipynb\"><img src=\"data:image/png;base64,iVBORw0KGgoAAAANSUhEUgAAAJgAAAAmBAMAAADKLE8XAAAAMFBMVEX///8AAAAAAAAAAAAAAAAA\n",
       "AAAAAAAAAAAAAAAAAAAAAAAAAAAAAAAAAAAAAAAAAAAv3aB7AAAAD3RSTlMAIolEdjJUq7vv3WbN\n",
       "EJlNEWA8AAAACXBIWXMAAA7EAAAOxAGVKw4bAAADIElEQVRIx42WS2gTQRiA/91s0mSTTUJPBZUG\n",
       "pCJFMdeemoMiqKULgkEPdvUiBdFcbD0IRkHFB5KCGj25vWnpYUU8FARjDz4O2j1UxAekolK0l1bb\n",
       "IpQW57W7007KzByGzOSfb//3DIBkZB1QGdY7FalZUBvHfLlMuqEIS1fkMkd9RRhclYtMCjttxdaS\n",
       "n6SfTawqw7JSO82CsGVsooG2IIMNCCeTb35tkiyXAfLhIt5C4Ly4pRO+xm/ZZJ4A2B590xZPrsAm\n",
       "PtN5z10hc6dDYKeu3x9Czp4RDsaxH8qP68M3HviZ8Wtjr289gozDwUpkPkP9O0M1S9Xw7IqZOI/n\n",
       "3ipAj51zoN+DwfUwGh+ThrOBYIkuMF1o92CHaBLJ/04U9LTzETAsCUnOTItqphO+MY81e4thYz50\n",
       "CLBUJYBZpS0Epvs8LEHdrFXJYgnD9tima60BZPIbYbkCg22D0mECS+fb7AimM7mXxMHLGPbCMd34\n",
       "IkILGZrzGOwJWfbjZTbPYNNzCHaA/HGS2LyCYWc9042tBBHIjpFRYdEmMG00gtEKQLDCIHyBfj+K\n",
       "wCKGNWdM11hCq+9CAVBY/cJCBGOpW4w7v5HCKWJjlhj9B8OSNdM1cdzKG2G9RWbmNxFmwR2UGVmw\n",
       "UPrEiR1rGGa9N91uPzC9hWYVOBHBMoHPUEcpwDQkGoG3CQyMi/VSGBTeZyEMIliTaYaSVHOgT+ue\n",
       "tNkHFmkFmG6ULvzo9ETY6RBWTfuxIqmIDlbIBJarRYnMjyZReKDKwdrHuxgsNqLDU3QWOYjUjrZM\n",
       "C33q31AY4HUVgGu/PFU/hxex2Yf1nwCvAs2gvHMvMq8nyKn4X64FseLnR6YqtqDVEAZH8K/9lk37\n",
       "DQoIB7sk9vWasBWrRbA+/OsHKlcaYJeDWeIVmRbvE6PyIYSRhDj+DL7S5lrhYIYnXvrLorKl3SGs\n",
       "xPYOBoW8L2peLe6A22LznSNdw+B7PE2d3rzkdpoA9bFLJtAsqsPuyQT0hjLLqElF7irDUvKH3HNl\n",
       "2CG5SMZTZGkjCs/LUUXYZ5Xn6lbF195NJfVttQcyzqH/HLHG0BMnwbEAAAAASUVORK5CYII=\n",
       "\" style=\"display:inline;vertical-align:middle;\" /></a></span>"
      ],
      "text/plain": [
       "|- |Psi> = (FT^{dag}_{t} . |psi_{t}>)"
      ]
     },
     "metadata": {},
     "output_type": "display_data"
    }
   ],
   "source": [
    "_Psi_def"
   ]
  },
  {
   "cell_type": "code",
   "execution_count": 7,
   "metadata": {},
   "outputs": [
    {
     "data": {
      "text/html": [
       "<strong id=\"alpha_m_eq_02\">alpha_m_eq_02:</strong> <span style=\"font-size:20px;\"><a class=\"ProveItLink\" href=\"../../../__pv_it/common/89d0188c50f606a85186776fad8a95883dbde6470/expr.ipynb\"><img src=\"data:image/png;base64,iVBORw0KGgoAAAANSUhEUgAAAJ8AAAAYBAMAAAAWgDKzAAAAMFBMVEX///8AAAAAAAAAAAAAAAAA\n",
       "AAAAAAAAAAAAAAAAAAAAAAAAAAAAAAAAAAAAAAAAAAAv3aB7AAAAD3RSTlMARHarECKJuzJmVO/d\n",
       "mc2qKiq2AAAACXBIWXMAAA7EAAAOxAGVKw4bAAAB7klEQVQ4y2NgIA88ZaAuYPlAZQO5HpCux1EA\n",
       "txxrzrMGLKJL8ZnH9NABjyzfAmyizSV4tKwHmseWdBWLO+4+b2Dgx7CtByRSjMfAHCB+xeATgCER\n",
       "zsD2kUEaPZJs3ztANeExkPMAA1sBhoQpA8NuBmUW9DDUx24gU82Zc3AD2Q0YuL5gKNnvwGAfcInN\n",
       "gSgDGR85ILmQ/wIDxy8MA20YGOwbemcw4DKQUdk1qYgjrRAsGueA7GV/oIE/sQXHeSxicAPZ2I0Y\n",
       "/CcyrEbPUPcYGOITGDg+YdGLVRBsoDYQC/IUMMQrMMwHiyLSP+tOiIHfsOjlMcBlYDwweTr4C4DS\n",
       "3D2w1XvOnDlzHGyeHTCf+CcwMGJzzHUYw+8MCJxAGMhiBzRxPdh728CpCZFIekvAkcKFGSkMnNgc\n",
       "CDGQ7SGQsGNgOMbA+JUFJHoAoQCY6NkLGDgxkw3DMgbWABwGgrIX0G0sHxmYH0SCRJVQE/YGBl7M\n",
       "UoUjgYHJAYeB2aDQ+sHA+YGBPSEBLc+DUsApBm9whmD5ByT8oWbH3L17B4uX8wNg6fAAA9MFBsZL\n",
       "YF+wmIsgG+ibZAHhnAXF7QVoIvz//x+mecb7H0/AlvUY05GyHukgh0w5sjRpk2PgPTxy8QvIqLp2\n",
       "4pFkvUyyiazJQC0AUWB/cz7tlkgAAAAASUVORK5CYII=\n",
       "\" style=\"display:inline;vertical-align:middle;\" /></a> <a class=\"ProveItLink\" href=\"../../../__pv_it/_proof__alpha_m_evaluation/ab51eddf4957b930414a7eed9ae5cf8c9e5deed80/proof.ipynb\" style=\"text-decoration: none\">&nbsp;&#x22A2;&nbsp;&nbsp;</a><a class=\"ProveItLink\" href=\"../../../__pv_it/_proof__alpha_m_evaluation/033cd799473c4cdc43def70fba3942f96382d44f0/expr.ipynb\"><img src=\"data:image/png;base64,iVBORw0KGgoAAAANSUhEUgAAAOAAAAAmBAMAAAAvsop7AAAAMFBMVEX///8AAAAAAAAAAAAAAAAA\n",
       "AAAAAAAAAAAAAAAAAAAAAAAAAAAAAAAAAAAAAAAAAAAv3aB7AAAAD3RSTlMAiasyIt1EEO9UdruZ\n",
       "zWZ7xlX5AAAACXBIWXMAAA7EAAAOxAGVKw4bAAAEL0lEQVRYw51YW4gTVxj+JxkzyWQyySruWkGM\n",
       "+qYIg9CiIBgRkSJ1oyhUihB8kH3bwSqIUBKj4AXREX3wQXHYFgpi17RSQVFZrRUvrEYRRAQNWNQH\n",
       "Lyu77LJSFs85c/nP7jFnBv+HL5k55+T7L9/550wAouyObNBwII5pTxCjzCjKRm9APPvWRoywd7JB\n",
       "sxmT0Cwiyi25Xza61I5JCJc4lFquIBt9KNxJVL48c5eNKLUzsimZsdiEnhSM6Jyulw1OE8PX2zio\n",
       "jiBKSzgmG10h/Hr22e02G+VPDiWWaIRfLbxb8j8XiQsUm5/ALXzDocTyrTAnSA2d/ucEtKlhJ3/r\n",
       "AsNuB1GWtNBXxREIk7QiS36sz//7gJ3b8temR1d/gpyDE3Rv2imv3gOIEvuAAgGB0Byi2EtC77Hy\n",
       "DpxvwclJhAq/0mgiSmxx+O2USJhgq7uJ1E1nO1DCLGS5lO7mc6MPIUqsPqUSkwjTxYBQc9cxQsXm\n",
       "CY/z1c8MI0rsY9jvmyJhvuATrgH3O0ZolhIWTgh26WNW8PEQO6ZbbQlDHeotSPXtmH052XERCVs+\n",
       "4X/s8jy9NEoeoXauBQW9zAaOMY8nAlxd0fapvFr/3URtA8vGOKcZJbsQqq+IMAJCX+lFdSMSep2m\n",
       "E5RMTWvpY5xqPgV4COBKu4bk5YHmZCvAtmkN6HapcH3CFR5hffEIEgY5X2aUzRLUIEciNipYnY9g\n",
       "EN0MKm0ymhpleSBTbgHY1Qrt5YMhYW/FT+lNkdBOu+RHB6BK3Wbi+h88TBMNzeoCWYQZIph++uQA\n",
       "yrZnaoRFOIGEOb+GxDWFiBdO0/UFnrDqAsx14O3Ls8X+C1NryAjVmQ8t+MXblOshNaIJhICE1UDG\n",
       "g/A9KejKLTMCJ4Ia5gnhLNBeHSF7rk94qDBp0e6RLdHYtFGy29eFommJhKcDwnvwGrYBPCVXaznB\n",
       "T4DRAPNBUt3dhGG4Lpy2mFt5m6VFHabNLFsoBIQ0OSTOBkfIImKEPaWCSWpMdfoNCp5ix/vfjdmQ\n",
       "cJM12CwU8TCFHgplSJVBH4DU3VLYaWgnXvKivoDp68bR+j9eRIwwOe/yb+RujS2l1RlFZIstvaEO\n",
       "CR3gGYU+zfLdnNxpcg1RZmPhhCStsF78GTIDeBzBQ0k3idFsCA+P2xTu0qfqWpHQqIn7qBZOYHvb\n",
       "cLtY+UnbKCNS20q0pC4U9v8Hemf5SxqOLT6exPMHjcifwPZ28r4ncKK6IqLEqmHPM12BUBsXD2du\n",
       "VxhhcK+fa7x4gmhjWUwy59uv/ucVsVPct/gJ3MLeEqLsiF6TjUYeiTibw6HstWdUmvBKfMKDHEY7\n",
       "1saUZmw+vYYotbQlG90bmzDtIMLXv5C9i034B4dyey59t2rF5FP3IUbYTpmQtY0xCXc6iFG+SV/M\n",
       "f4j5RnqNwyhbJXXHivenQiXEzw5kHWmDEXSMAAAAAElFTkSuQmCC\n",
       "\" style=\"display:inline;vertical-align:middle;\" /></a></span><br>"
      ],
      "text/plain": [
       "<IPython.core.display.HTML object>"
      ]
     },
     "metadata": {},
     "output_type": "display_data"
    }
   ],
   "source": [
    "alpha_m_eq_02 = _Psi_def.sub_right_side_into(alpha_m_eq_01)"
   ]
  },
  {
   "cell_type": "code",
   "execution_count": 8,
   "metadata": {},
   "outputs": [
    {
     "data": {
      "text/html": [
       "<span style=\"font-size:20px;\"> <a class=\"ProveItLink\" href=\"../_psi_t_formula/thm_proof.ipynb\" style=\"text-decoration: none\">&nbsp;&#x22A2;&nbsp;&nbsp;</a><a class=\"ProveItLink\" href=\"../../../__pv_it/theorems/a88ec0c8744e13505b853b6e58491d95dad52e200/expr.ipynb\"><img src=\"data:image/png;base64,iVBORw0KGgoAAAANSUhEUgAAAcMAAABLCAMAAAA7zBztAAAANlBMVEX///8AAAAAAAAAAAAAAAAA\n",
       "AAAAAAAAAAAAAAAAAAAAAAAAAAAAAAAAAAAAAAAAAAAAAAAAAABHL6OuAAAAEXRSTlMAq1RmmUTN\n",
       "IjK7EInv3XZQQBRtQDMAAAAJcEhZcwAADsQAAA7EAZUrDhsAAAo/SURBVHja3V2LtqsoDBVEQF4z\n",
       "/P/PjopaMUGscFo6rDVz79nnJo0J5AXYrqs6+NA1xLC6NJ8YwqosgkG1BiMtMawuzWeGJnkEg+oM\n",
       "alRDDKtL86lh+jyCQTWGqs23iOGZWLBfseHgRRbBoBqD8JYYnol79zMLkYx5BIPKh/RDQwzPxM4y\n",
       "+jNpjadZBIMqpJC8JYYbsdKakDkwWszf9rxJI442j2BQcf5RexkWMdyJ5yjIpqdViLWkc7ZJG0rv\n",
       "sggGFa8a2xLDnXi2pfCyo6xDEiTapg270eQRDKo9db7J8EXcq2BDwXrxOzakINhBBIMKcymvGmIY\n",
       "E+ukpVq1Yed5HsGgolLOV051ixjGxDLdmGrWhmRyHTkEg0pGX3tdFzGMiMV4MKEctyGatuHgdRbB\n",
       "oKIgXNuVFjE8Es/9GSF+bR123uQRDCpxXpWVkWAob/Xrj8RilFIy9XM2HIGfhAgGlTgvXfcRMIaK\n",
       "MH5rdR6JjZ9Hoh+iudeNtuAcUABEMKgkBFcu8BMM3S0bVpfmK2U+zyIY9HwYX/kREgzv2bC6NF8J\n",
       "iOBRIYJBrYfDezasLs1XBgfOBCIY9LytULk6TDG8ZcPq0nxlMNCngggGPf88XfsB9HMbVpfmK6MH\n",
       "MxEiGPR83dPajoQ+tyH39H9gQwmKP4hg0PMMRNZ9gBTDWzasLs1XhgIVEUQwqF4O9UcMb9nwTMx9\n",
       "YhTEkv7vp4kHUxEiGPRsCF85mU8yvGNDQEz96UmVGByZiv9rP7SfAEDXejLk9rZSmmFBSIAIBj3N\n",
       "Iisn80mGd2wIiYnH+PXw+ftjpr6dAHg7DjxL9xkM6y6LYNCz4aJ2QfrMnHzG8DD0jRN5CLH1HjtT\n",
       "y05JHY30uJ0AeNuHJPCMMsQIZp7OIhj0bOgow9XJeTjKRwxfAk8OkJP+fWI5eVOMjEWKPR252U4A\n",
       "BA3bEEI3Ar6zm/8i+eswaz92wiGKPasFKON8eJKBeQeRAL1Q+vhALol4R8K69Dy/zbBImm1tenQF\n",
       "R488QgVsJwAUU6LvDpbZbThMbAURcrc/cYIqIxI2VKOxKWWc9mQ08CcQCRDbNc4fHxwePUvZMJ6Q\n",
       "9hHDIml2MBuzBUxxlq0uNT3D9IcTSq+5zmrD5S9ufUi9/twZR9GosamFs5QyHDmZxwKD2Q6DJEn5\n",
       "43cq8pQNVewfNH3CsEiaTZApDc3wZMABhhMAMiyqsZOBwfLzbMPlL9MDChpsufwsPGNoyNjUsidS\n",
       "QBkqTtgcyJshskJcvadfNAvWCRtSeR23bzEskmYbw+RNr58QtI+jEwCT6ANBfCkJS5HSVzgcLJbX\n",
       "rWoZdkNBZfA+7qN50FnzHQr1K2HBTpRJ2vCszZv+2pTYMEGsp3pQXfa21t8qYizrzicAmOsGg6i7\n",
       "J5Mnk681TNzkgbt0TqNNWhlxnvyGDTtj52GKtObOwirH+mDD6Cg11Q8YFkkTtWuu5ukmpzKW9oac\n",
       "TwDM7uqQdLyWDOXejK9pO5+1In06HnIya2GZGkAZzpxaE6Dy9R0OBfc9qhKt9WdhdUfNfJ/hXJYf\n",
       "DMrsYZALhkXSxCHxYgpt96SIXYq8++q4eaFqzUsn4SgVoRSxwN+rhzYUZPtfVoxkZ+9sQ0mXFsdy\n",
       "tNoc/Qa71cTwJTZMEoOeW5y5ro4sUI/3BRjpGzakXgx0qifFQRm7T5WReAOwGER2aF6Ce+Yb+Whh\n",
       "2fyLxbVg7aBda/QkrJpz7NXobJl+m5jknhneSbBU7CPTxOwqJHKytwPmcT+0XB21O4gWNMzMwc8G\n",
       "Zey6mVb/EDcmFGhVqA6HqNszmo2fdGScnTwlnZ7+zRrZ0zb8B5lwKthwKS8ofysgxgxT2w4vLbI0\n",
       "8bnnlnR8KxPpqZhHpY2Yl2hBLZYfSo+gjF03k/aPNvwXWAwiL4jvPn3lt38OnX7Bdid6fx1O/5Zv\n",
       "hZPqhLZcy/M6v4iHvqQbf0EsLgr9dR12/o8OK4ZUb5Jt2D3mrIyDbk7d2bfW4VQahiJx4+deSZek\n",
       "g3CzDTVjzE7/DXdtOIaO47D8xOlbBeK1DTM36y+InRFZG7LgbsWf2LCfND7b0R2UwenLICI2DzRY\n",
       "l4KE2ZbBwk+NxxpdKzpk1iGSl07FlJhNv+7m+PcaCdd5aSYRTBMPV7sQ2/12ZU0/OOv+xIZz8qsm\n",
       "KfRBGa+1Feelb+U0E+vt2RYmQx/1WVjnxvdtOAVsPToXJtZeHd9smF7aMHezPkksL1f3qzhj1nP3\n",
       "N750yWEdc+qljEPnoDfdcxvuyMKk5+FmEA02VHrLeFgyVeixPo2kh26umqfJ3Y0Le7kO7TNiZS4N\n",
       "M/i/fZ0N2JJblbHppju/FOmhDQM/qeN+50DddX3IYZ+mC9nMq1E1p7fdeDPKXO5OK/6MmGcmkBk+\n",
       "a8NVGZtuQL+Ugg43RBBo5ffq2YRw5jJF3Yj3S1+gZEtVpO72ZMer8gy/WZ8lHnPpFNMfteGmjFU3\n",
       "Hdi36EESDREEWvmJbY9Z2lALZGxI8L0nsBzc3eYHOe0TCcb4vu+N36xPE29BDnOVxwApzUdtCJXR\n",
       "x2qGZ0qQUybJUytTCJzj4W3fEp8RcMnkjzxjGJJwffdqAcMOAfRoVdFHSQ7506PFZ7VAIW0sIjxT\n",
       "gpwy0bUOeuvaFxxODMnycMY8lwavKqh5K9D+8YDnaViXQzDo4adXfkHDmaFZAgVZKmDQaLsjDfpe\n",
       "LAWen37zngZof4wgN4MIBj0bg68cSk4Ml+2g22+BgNIgVYWgBNnF6L949xTcN4fXRpCLJNXulnzm\n",
       "nLcN2FTpXG9gQWLu+XFYG7Z3G7+mCK+NIBdJ6t0t8bVfpokw3F79ZI67NbeIWWrjo2/ahh++CGxr\n",
       "X4BHGG5bGyJbBdj/wXX82Z2YLIJBTwepPaUhw+N5oUzVQxpfYHdzAp5FMOhx7eMrv2gZMDzWv0x+\n",
       "WJqvjE+/3GSoXVycGS5Z/3rWU6vOfVaarwwCMk6IYNDToWonpieGoQsfeug8m1BWl+Yrw4JsBSIY\n",
       "VPCBovYTHBiK+QABu38X8CwNfq1Ta9fwuxcUrHJh/qJqFua6dhoRMVzvjfHH0mDbSnNra2j3JSgU\n",
       "dH0hgkEl8avy954UMTwTo9c6zZwZ/c2XRPxiOOw+97KvR8TYtc5wkts0+xYU+PyIRupqndV+n0gR\n",
       "wxPxdq2T7S+g7dcrMrbVSlICPwQRDCrzfZXzgyKGJ2LsWmewoWn1y2cc8JIQwaCytV97F7yIYUSM\n",
       "XusMvrTZN0pxk0cwqHDiDA0xjIj3a51HX9p2TiOBF4IIBhWO2plpGcMjMX6t0821RavfkAi/GAL5\n",
       "qojqX0cxFWWqIYZH4sS1zqnGZ41+Q6IC8xciGFT+ubohhuqn33/pgI+HCAZV+GDVEEPn1e/a0LA8\n",
       "gkHlw+qWGFr9w8tQ5Wfk30xSWntxFzGk7fbRsnGgzyIYVKe3MrbEkP3qW72/91Wyi//qW2Jof/NI\n",
       "xgDeGQARDKpVmtbmXMRQ/uaXq9shj2BQtTkkWmI4/GJEVEMeiaH/AJUlbsDEJF4hAAAAAElFTkSu\n",
       "QmCC\n",
       "\" style=\"display:inline;vertical-align:middle;\" /></a></span>"
      ],
      "text/plain": [
       "|- forall_{t in NaturalPos} (|psi_{t}> = ((1 / 2^{t / 2}) * (Sum_{k=0}^{2^{t} - 1} (e^{2 * pi * i * phase * k} * |k〉_{t}))))"
      ]
     },
     "metadata": {},
     "output_type": "display_data"
    }
   ],
   "source": [
    "_psi_t_formula"
   ]
  },
  {
   "cell_type": "code",
   "execution_count": 9,
   "metadata": {},
   "outputs": [
    {
     "data": {
      "text/html": [
       "<strong id=\"psi_formula\">psi_formula:</strong> <span style=\"font-size:20px;\"> <a class=\"ProveItLink\" href=\"../../../__pv_it/_proof__alpha_m_evaluation/1a06aeefb574dc0cfa761002b4919338660499780/proof.ipynb\" style=\"text-decoration: none\">&nbsp;&#x22A2;&nbsp;&nbsp;</a><a class=\"ProveItLink\" href=\"../../../__pv_it/_proof__alpha_m_evaluation/38c13344ce5f2bea1b766a9506da5b294db378e40/expr.ipynb\"><img src=\"data:image/png;base64,iVBORw0KGgoAAAANSUhEUgAAAV4AAABLCAMAAAAPmR+0AAAANlBMVEX///8AAAAAAAAAAAAAAAAA\n",
       "AAAAAAAAAAAAAAAAAAAAAAAAAAAAAAAAAAAAAAAAAAAAAAAAAABHL6OuAAAAEXRSTlMAIolEdjIQ\n",
       "VJlm3e/Nu6tQQFBgOMoAAAAJcEhZcwAADsQAAA7EAZUrDhsAAAg5SURBVHja3V3XlrSsEpUc5fy8\n",
       "/8sec6BA6IYe9aubma5Z29YNVKJwuq6hWHIf+iZBmmc1jUS6+9C3CXZ5TRMRht+GvlGMymsaCK+6\n",
       "aoBG8jX0Eo+ymgbibEO0ou+Zvq7Pa6qFedIOTbUU7/FuXmQ19VGDbYDmGDs32mAdsx/KPpPfXuc1\n",
       "tX6tavKu6NHiyuHWeIRIRql+Jr3M06ymdvLqFuiRZeRZJ2QX8ZPiofR2vclrGg/gV2jFZ3qRVOhF\n",
       "9Apga0Vb6+s8b4XGSRIfS2/nbV5TE7X6vhWapXPK59LrhhWX01SIqloLRzTqD+yyfhX0bHqJx1lN\n",
       "jW2vsg0H9JitIfS62dt5k9dUrO74g7Oi4tEBjXrGmOTvo7cHtqBvZx1UbCVwJ23RpD6gjR8lkRxh\n",
       "6/FTc2UKGKDtrINL5BS0iF7n31joDUNLm9V8LcZ3FfSm0K8SDx7V+0YV1pTpLaM3iX6VWLAEbatF\n",
       "KVJRbxG9wvf/AL0SpK2yVd1Bpqx4Eb2yZYR4mygwSVSraWNTSUURvdaLf4BeBuJc1iryNakQr4he\n",
       "0zJ9vE04iCe5b+Sykz6yiN4AbX1CKiyZ+oMB9GCW+DbzBiWHqYTeEC18cFscEeqGfCOz1LaNjtgC\n",
       "SVp3pVslKhrYON3G6olkZFVCL0A7H7ueitysOkY+60bHp4btu+hJRlwIjWnSe8alU5sm8xNcsCMN\n",
       "0dr7WCOGDB2xOD3jutHx6cpL/eGaDAR3h0EANGlwcvj6wnvFiQjEDUvaOvUxmg3mIYaS50cO9uPW\n",
       "jY756fVsrxeE3S43/sLs3lOh+g7RmOkIaQnJUDDMdTHN6To0PTuuagY1XT8RNN2JOT/S+YHhEKwb\n",
       "HVxypLqdtY1eMlwWOcS2kXEUCW5Qil7eG50gIywGYrAKJ82J3vM4Flqy3te01MTQvc8nygi6uqn+\n",
       "yYdnGH5QxPHs8RZ6p1/o8ox4+dwZKuJWcKXFygQZ1IVk6i6iOdLLzzMel3k+W0VvDM2HQCF3TQmW\n",
       "9LzRwea52HdsusL0caR3+mX0NWKmefqMvJRxE7jSsjnUkAweuG0KQptJc6RXsIz9ToQkNVltFE0G\n",
       "85AZW1AwOW10DLdOHDQObp7AQuyml+iod19oIRuJgAyrghzYg6zYn+kNH9QWtaKZKnrjaDzEufw6\n",
       "CV3+zJ3Rsgs3OiTtiIFMKMfcMK3xbnoHi9JduDZskmQEkcwVvZxKNdN76oQRuIwgWkUvjduM63L0\n",
       "ep/caKGMCzc6LD86n32iCetNv0+ocYvUqQvba93IwjRqIRnUhOkQiOhXenEnzNjEFWYCB66lPog7\n",
       "E6Sq6I2iR/N7NbhrR6XTU/RaXLkubb1cIofh5oRAcyCnQwPGC+llYkp4ps4Yc1wIsiSn8VX0ptAg\n",
       "OQ6Ci2Vpzui++A568Qm9wiMihkAZHchYuWHn2yOAXrLSy8cIZTG9chq01cK5IoI+yq35edUn0fLS\n",
       "/Fq3pSCjFFv/q73r453N9EpzsBwzGRs36OxcGShsTZp1mPhM7xSbCfuJ8fX+f+ePcdmfUF6gz8lx\n",
       "eiUvF2FeoFHabGsd7mymRdtD4DaTsXHDz/T+B+j9b6dX2jUi5B3C2mIWesu07fVVlaE0Gl3lFsvs\n",
       "7fyPtuZnjz/cG9lswEjGgZugwHE5e8coY8zayfTJik8C3wy9mWMSaTQ1KE+vnA0I+gm9auBnpJge\n",
       "yFi5GdhDAZmwdrKuAjI8Ct5KfOs4lKVtmcgh46uTaHJZ/lqPL3BtFKGa/oTeMTzhw23gAxnbHA0i\n",
       "hwvXNtlt3FM6j8cWkJcVHa7pzR2TSKHZ9ZrYo06pvaW/MQ5TmEEl5TsZe7KiTFdO7xSd7dUKzspL\n",
       "Zvp69uqv0NxcU0b8b4/BgTrtQsbKDTjmmKOXbvc7ZJSYLzlNUVHmigluv0Lb3NAa8rf0LmSs3ICa\n",
       "gwAlHXEq6ewxGJNTtMcLm6T6y6gzfkwih+6zTlXiP6V3JWPhBlbMFIhz1KkgCSYRLUyFXFg8RFLa\n",
       "rbofPyZxgZ7taWzpn4wxM39KLyBDubD8aLuIhib9c+keRLgNMkUwuLTDSkb2OlQ0JFNnX+d+2n0S\n",
       "0gJuUqOwxtd3Oc13Ax1cxk1fbMx36GRIJsxnRv23Etlrk1nNd98ULAszWSU3Rd0gI86iE0dGObxZ\n",
       "cWNvGky4euCi+zYZJQl85lQjLD4aE6JjIRkSLlY/U/e1XcMDCrBVrlHzXLxLR89KIuh1VROgrbdH\n",
       "0XoulD+9Cxi2yrVqnottm68HLc2hhFeElqmKm3o2vb9rT9eRKGEtqqFsCKX/gaMV4yI0Wc2X4uDM\n",
       "Ou7z9eRT9AuFAA9NWp1docCpH2NuyT5Fv1F+ePIKjNMUMi09B0OGTj8c9zeKA2GCa9V1H/ZhM7yX\n",
       "iGzW5zfr4r5VNPBjullNT5+cP9JyFP0dOtXRjDF98BEXDvwYb3eoGJ+809L8ab9DJ0qNYxJKnntC\n",
       "S4DKifDN3hZHqi4VoOMdzWZ0kL94P9jjTW9Xe271jI52NM99OOaxR7QgAS2P8sqq/O+M3jqa5fay\n",
       "DLV07OmnRsgMLF/mG75Jsu7dG2d0tKN5ptc8930DIqupWhymFTre0Twbh8ee37Qmr6kbPtIIvXc0\n",
       "H43Ds10bA4uXNT4oXWdqDuhERzMdA7OnvuEXvmbMNe4TwFXXO6BTHc1DWiEf+oZfDuYW9671V+Db\n",
       "0Pc7NpTV1H8Hvw19d9Ar85r6wgO+D33z5OV/MFlE1YIQz014s4ZNZTVNUrf+PvSdYcNfvNu7q85Z\n",
       "9Tv3hAg4AEJ+9D8MWNV12Tv/s4ImeU2rkUT3oe+yvORS83++0VLwHVEXqQAAAABJRU5ErkJggg==\n",
       "\" style=\"display:inline;vertical-align:middle;\" /></a></span><br>"
      ],
      "text/plain": [
       "<IPython.core.display.HTML object>"
      ]
     },
     "metadata": {},
     "output_type": "display_data"
    }
   ],
   "source": [
    "# This instantiation requires we know that _t is in NaturalPos\n",
    "psi_formula = _psi_t_formula.instantiate({t:_t})"
   ]
  },
  {
   "cell_type": "code",
   "execution_count": 10,
   "metadata": {},
   "outputs": [
    {
     "data": {
      "text/html": [
       "<strong id=\"alpha_m_eq_03\">alpha_m_eq_03:</strong> <span style=\"font-size:20px;\"><a class=\"ProveItLink\" href=\"../../../__pv_it/common/89d0188c50f606a85186776fad8a95883dbde6470/expr.ipynb\"><img src=\"data:image/png;base64,iVBORw0KGgoAAAANSUhEUgAAAJ8AAAAYBAMAAAAWgDKzAAAAMFBMVEX///8AAAAAAAAAAAAAAAAA\n",
       "AAAAAAAAAAAAAAAAAAAAAAAAAAAAAAAAAAAAAAAAAAAv3aB7AAAAD3RSTlMARHarECKJuzJmVO/d\n",
       "mc2qKiq2AAAACXBIWXMAAA7EAAAOxAGVKw4bAAAB7klEQVQ4y2NgIA88ZaAuYPlAZQO5HpCux1EA\n",
       "txxrzrMGLKJL8ZnH9NABjyzfAmyizSV4tKwHmseWdBWLO+4+b2Dgx7CtByRSjMfAHCB+xeATgCER\n",
       "zsD2kUEaPZJs3ztANeExkPMAA1sBhoQpA8NuBmUW9DDUx24gU82Zc3AD2Q0YuL5gKNnvwGAfcInN\n",
       "gSgDGR85ILmQ/wIDxy8MA20YGOwbemcw4DKQUdk1qYgjrRAsGueA7GV/oIE/sQXHeSxicAPZ2I0Y\n",
       "/CcyrEbPUPcYGOITGDg+YdGLVRBsoDYQC/IUMMQrMMwHiyLSP+tOiIHfsOjlMcBlYDwweTr4C4DS\n",
       "3D2w1XvOnDlzHGyeHTCf+CcwMGJzzHUYw+8MCJxAGMhiBzRxPdh728CpCZFIekvAkcKFGSkMnNgc\n",
       "CDGQ7SGQsGNgOMbA+JUFJHoAoQCY6NkLGDgxkw3DMgbWABwGgrIX0G0sHxmYH0SCRJVQE/YGBl7M\n",
       "UoUjgYHJAYeB2aDQ+sHA+YGBPSEBLc+DUsApBm9whmD5ByT8oWbH3L17B4uX8wNg6fAAA9MFBsZL\n",
       "YF+wmIsgG+ibZAHhnAXF7QVoIvz//x+mecb7H0/AlvUY05GyHukgh0w5sjRpk2PgPTxy8QvIqLp2\n",
       "4pFkvUyyiazJQC0AUWB/cz7tlkgAAAAASUVORK5CYII=\n",
       "\" style=\"display:inline;vertical-align:middle;\" /></a> <a class=\"ProveItLink\" href=\"../../../__pv_it/_proof__alpha_m_evaluation/04696ab163c75597bacad83822f341053bd7ae190/proof.ipynb\" style=\"text-decoration: none\">&nbsp;&#x22A2;&nbsp;&nbsp;</a><a class=\"ProveItLink\" href=\"../../../__pv_it/_proof__alpha_m_evaluation/aab9802102c90c7d83dc490cc59403160aeb9ef40/expr.ipynb\"><img src=\"data:image/png;base64,iVBORw0KGgoAAAANSUhEUgAAAdYAAABLCAMAAAD6S1ZBAAAANlBMVEX///8AAAAAAAAAAAAAAAAA\n",
       "AAAAAAAAAAAAAAAAAAAAAAAAAAAAAAAAAAAAAAAAAAAAAAAAAABHL6OuAAAAEXRSTlMAiasyIt1E\n",
       "EO9UdruZzWZQQFPBinIAAAAJcEhZcwAADsQAAA7EAZUrDhsAAApHSURBVHja3V2JmqQoDJb7ENjl\n",
       "/V92RcoqBVQMXr35vpnpTk8qwA+5OLrrziLLn5N+o6IziTIB4JxBBj8n/UZF5xLCEE47KSkek36j\n",
       "orNJOginlUTTR4rzG1SliJo/Ayv3FMBpJWyfk4YrcvrvLFfcQzhtRDx/TBquSDOj/k7U5BWA0xhe\n",
       "2uekjysSCGEcfCwr2Wln34lrzyCcpkCkabmpuxbrpCh4VDMMgCgASLRm74SVeA3gNK0C9pw0QFFA\n",
       "l3rSKdMVQjX1Uli7XkI4Z86j+6QhipyIsFLj6B+CVWWes4bTEKR58Zg0VBFaBe+1sHbeQjjgZND3\n",
       "j0lDFZH1Stt7YcWDhTnOgZJrWvjO35RkzBXRfoYq6Sei74aVewTggF15kxXt77LBM0WhukTpn1ut\n",
       "nZcQDtS4FceB1G0orEhfYYPZb60SQoz4e7D2mYWt4UCNW77sBTa2bhW604xGvSLpA5X/G0XWo7fW\n",
       "FHU2WDUcqCPn5SaIBukr4o2/uNGapmgWwIGR9F0DrCvS59Ntii51rtmg1nBOdK2VsD7hWv8w2czk\n",
       "1HBgtY++AVZ1V9Z6m6JLyWQVuRoOTBNqgNXcFTHdpujiuK8HcGB2QTXAau8qRtym6OKYSQI4sFCE\n",
       "NMAqT6t1zYNefpOi20lkeVkN55zg7Ais/ooaUwnWRJH1K9Tgl9wNE8dns7OGc5zo2tyogpX6K9IO\n",
       "LXYVKZ90XlCusfQ7Bux7rqJoeVa9t2NnFThY5ktqOJAIkzXAqi5IO3rbG6n2FGFfUu0KQ+Jma386\n",
       "V3HYU8FyDlMIETSAA1gZa0UNVHO6cVW6bEYqz0siUaGIeV86Lm3SMFLNx3Y6V3HYpHV1/Uk+meZn\n",
       "C7OAvoZznFA5nMaDQbPYAaUL/Yn/vW7SF3xrrogMZrjUPrMc6+V5p+lcRWwki+54ErDfjwtfEPs7\n",
       "k+z6jmpU0Z8+wdXlSSkGcADhSdNnrEkjtQkrwUxKjHE//CPCGSXbY8Ys7i0L6FlVo0jPEFkM5XKg\n",
       "M+incxXCCOq6GVhfWPnwsRRT8p0RWFMlJF3pj+glK5mG0aaIdHra7jgH4Mm8uUB6xX39Zjf/rD4u\n",
       "h/k9+kM9rj0ly7CWFPV+37PTLIQaNxzFgObwj6YCfUKpD6zjF2GJofgn/lxqVfQrU3+sWeu4xilk\n",
       "rDvOgaT55nxpZfZgpdPqc6oTuPvC2gW0e16lSAyB717jDcrcQ1g/JC69viPxA8bvA6zjFwOsVEV4\n",
       "x++pN4Zs9ecXp6VmSiSBp85C9RoOJOJG50v3pBpWoTvqZrCGcKkAa1ERH8zwTi6Qls0X5yqGCIDj\n",
       "ghHGccEq9XOtnJXivU9/+OzcRhoC2KUTcFlGWMOBFJnQ6dJizTeksNJgCDvCZ7CGI6KYVCpCQ54q\n",
       "tot18ccCS2a69FyF0YMTKCDgMMHDOkY/1zqY7m49ZELzD6GbkfkhWNGQZRMoMLoJ1pK0HseHaywo\n",
       "0v0wJgjFBZjCOj/mq39xraG1zbR+O7z4nPAXkikncXquwopFTPNbWMp6OTMZ4egbduu+1Q6frFCc\n",
       "LSpBX8u0jJJl5CscynhoOY0Ooehh2IxwMl6uCVa3GjChrh+m+eBdQj1gDIVSWCkrw1qoMq00M7jX\n",
       "LWvzuWGH2aiyvs5ZeRXvEwkPbVOKfvIhljoKAYRVjm3oTWk4KoqULbAm0tECRX/FeTdmK3RcZ86n\n",
       "sA4JjvVlWA80MysiJk4+msBPNFbf014dgFV5ytWQ58bOGL4wxmTZPJ6BuMYxkW1sh0DAHClAisTm\n",
       "LaWFn3VMDN/ysdMitq5ghM0BWFeaaTbdq8VT5SJQ/fhsnbqcjUHsj5FzA03wbChCR3lSRBFZWaXI\n",
       "kf3HbyMBgvWf5bdl+vbXbEgrO3OtAdDuC2gso6ewqjKslu41c1lEXLeYsbnEKxropM2m3xjE/jA7\n",
       "z3+ic1X2OwkWsP6bgbjCEZ9eoXE+O+OIHnJg7eZJxoZv9U3bBXNpiphFZBYIR8fGUBevz4tiglOA\n",
       "VfgjRoVuJe9xtXZXXf4a+yOGpvGfqQ1z8jsUWQW6frVOsIagRDgePHcI+jQ+wQjvPc6wlJ6qQ/HS\n",
       "RFyhcbYOCIfstA5WZY80U0u6C6uJdppeAqsb15bq9Dxx/RbKyLLASTJPusaJmZEbXCwZEkEdxiTM\n",
       "EFPnSbYj4b2IcCk9Tbtoh+I8jbFSj2I1jv+a3q/AOpvpNc3km/sxn8cYBJOOa6YvgTUYJTG0As3L\n",
       "TN8VmETC9SHTkLU6NwTBZjzMjseKVzB+qh3W3ccZFtK/1H40i3z8W4/rnRtNu3mp34ZI+AcIN1gO\n",
       "nOiiCiXh1WaSbR/yzRoN81ZfY4THqFmbTxrCkqFwsgPCuuz/MDK6H7cIqwoUbHO1siPSg9kXpFgZ\n",
       "zatMm5ZdVDdTyG2s+LX3vvL+fKrhv6FIngcDwjpu+IYV6/quqoa/uRUv7BFpo6cN8JXt1jpYuaxv\n",
       "pt3ro+T3wvoJK35DkdSEVVbGr+HEUsAYjOG64kS/lc2VH2dYkybmm79ZAYf1N9N3m9nvnqg16FZY\n",
       "p3XwHYp0B8dlcXsN5zjhdG+LGmOn5Kj8OMOW9HaoVQXrb6bvKTLFqsHCARB5K6w6XQUOp4Gh7Y5z\n",
       "jlN6wmK0n6j2Gsjq+YwyW9e4+9mi31bkiqmNW/p1fOWp8aw/WSNZ0sT88E4NBzDhks/AYzukhElf\n",
       "ty5yReXURsmD4cGlVDjLZAAcgOJkxcvRGeAxiU4rh/vS141Ppqj4kJzIh0Q9eHcnDx37LPSr4Rwn\n",
       "noRd4x5W9Xsj3Mt7BihTVEhtqMKl/Rz33HXn/CGE/CpRDQcwoYqLkUUmV9rw49JXzPtUkfV2TozF\n",
       "HfK334LNrxLVcABUOpU5vVcmy3X3HelLKFFk1raa3Lthve06OitEvdMuD93NENhdLzqw/8HTEePp\n",
       "AQAHlrhmE3x+rKrnR6WvIfz2dVgZIlgAB5R7ZbHjPIU25Kj0VSmiN/8DWO97wSebHGNG8DlLi0Sn\n",
       "D06/2+b5XyScBbk1HAill5/JOFdiQdnuhpbirlD4NkUXRwgCwAGqmseYlJlADCZ96YgsFJVvEiOk\n",
       "3/xyiMiioRoOjNAiGPlcDrQw6QspVVTacgu1Ov7ih35UVtmu4UC9Fn5MGq6oeJM4nCHo7jIfr3at\n",
       "Xeuzcw+9jle6SRzP7cv3vvSTj1UNB0imqVhl7npZZ6louklsvm9Eu89FKvbaBJdklq2GAzdv6DFp\n",
       "sKLSTeIIq3ztr7LSmX2t4cBtg3xOGqioeJM4GuH3PrdmJYTTMIv4Y9JARd+bxHMj/PKQiWR2rYbT\n",
       "QG32/K5YeK6ofJNY625xv/xtcbAAcJpyQvGYNEzRyk1ihLR56y94Fdn0r+G0aUSPSb9R0UU+hAI4\n",
       "jSrFY9JvVHRJxGcgnDZi6DnpNyq6Y0rWcBpJNa1+dVf0qV5cGdxzIA7AaSbTPyf9RkWnh8EP/A7t\n",
       "0b6556TfqOhc4tkDFzWcM5Llpg8l8qZg5jZFJ89GDuGcMqHoc9JvVHSqZ+UHOf8BOkdxC2E0KW4A\n",
       "AAAASUVORK5CYII=\n",
       "\" style=\"display:inline;vertical-align:middle;\" /></a></span><br>"
      ],
      "text/plain": [
       "<IPython.core.display.HTML object>"
      ]
     },
     "metadata": {},
     "output_type": "display_data"
    }
   ],
   "source": [
    "# Auto_simplification here pulls the constant coefficient\n",
    "# out to the front of the bra-ket; for that auto-simplification\n",
    "# factoring to work, however, we need the _phase_is_real theorem\n",
    "# and the correct domain assumption for m.\n",
    "alpha_m_eq_03 = psi_formula.sub_right_side_into(alpha_m_eq_02)"
   ]
  },
  {
   "cell_type": "code",
   "execution_count": 11,
   "metadata": {},
   "outputs": [
    {
     "data": {
      "text/html": [
       "<strong id=\"alpha_m_eq_04\">alpha_m_eq_04:</strong> <span style=\"font-size:20px;\"><a class=\"ProveItLink\" href=\"../../../__pv_it/common/89d0188c50f606a85186776fad8a95883dbde6470/expr.ipynb\"><img src=\"data:image/png;base64,iVBORw0KGgoAAAANSUhEUgAAAJ8AAAAYBAMAAAAWgDKzAAAAMFBMVEX///8AAAAAAAAAAAAAAAAA\n",
       "AAAAAAAAAAAAAAAAAAAAAAAAAAAAAAAAAAAAAAAAAAAv3aB7AAAAD3RSTlMARHarECKJuzJmVO/d\n",
       "mc2qKiq2AAAACXBIWXMAAA7EAAAOxAGVKw4bAAAB7klEQVQ4y2NgIA88ZaAuYPlAZQO5HpCux1EA\n",
       "txxrzrMGLKJL8ZnH9NABjyzfAmyizSV4tKwHmseWdBWLO+4+b2Dgx7CtByRSjMfAHCB+xeATgCER\n",
       "zsD2kUEaPZJs3ztANeExkPMAA1sBhoQpA8NuBmUW9DDUx24gU82Zc3AD2Q0YuL5gKNnvwGAfcInN\n",
       "gSgDGR85ILmQ/wIDxy8MA20YGOwbemcw4DKQUdk1qYgjrRAsGueA7GV/oIE/sQXHeSxicAPZ2I0Y\n",
       "/CcyrEbPUPcYGOITGDg+YdGLVRBsoDYQC/IUMMQrMMwHiyLSP+tOiIHfsOjlMcBlYDwweTr4C4DS\n",
       "3D2w1XvOnDlzHGyeHTCf+CcwMGJzzHUYw+8MCJxAGMhiBzRxPdh728CpCZFIekvAkcKFGSkMnNgc\n",
       "CDGQ7SGQsGNgOMbA+JUFJHoAoQCY6NkLGDgxkw3DMgbWABwGgrIX0G0sHxmYH0SCRJVQE/YGBl7M\n",
       "UoUjgYHJAYeB2aDQ+sHA+YGBPSEBLc+DUsApBm9whmD5ByT8oWbH3L17B4uX8wNg6fAAA9MFBsZL\n",
       "YF+wmIsgG+ibZAHhnAXF7QVoIvz//x+mecb7H0/AlvUY05GyHukgh0w5sjRpk2PgPTxy8QvIqLp2\n",
       "4pFkvUyyiazJQC0AUWB/cz7tlkgAAAAASUVORK5CYII=\n",
       "\" style=\"display:inline;vertical-align:middle;\" /></a> <a class=\"ProveItLink\" href=\"../../../__pv_it/_proof__alpha_m_evaluation/5c3205f87be0793f8397a199ccdbf4ad6ecca9520/proof.ipynb\" style=\"text-decoration: none\">&nbsp;&#x22A2;&nbsp;&nbsp;</a><a class=\"ProveItLink\" href=\"../../../__pv_it/_proof__alpha_m_evaluation/94f12783feabc9770f5df255c445eb151d7e72840/expr.ipynb\"><img src=\"data:image/png;base64,iVBORw0KGgoAAAANSUhEUgAAAcwAAABLCAMAAADKx0dgAAAANlBMVEX///8AAAAAAAAAAAAAAAAA\n",
       "AAAAAAAAAAAAAAAAAAAAAAAAAAAAAAAAAAAAAAAAAAAAAAAAAABHL6OuAAAAEXRSTlMAiasyIt1E\n",
       "EO9UdruZzWZQQFPBinIAAAAJcEhZcwAADsQAAA7EAZUrDhsAAAqUSURBVHja7V2LlqsqEpX3mxn+\n",
       "/2cHQQ0KCBGTzL0ta53TTXVKbDb1pKCn6a5m6K+Y/07DhDUpdzQNf8X8lxqAbcp4E5z9iPlvNW7b\n",
       "lNHGRh55YMb6wazaqMNNymiD5j5mKx/MTiZLtSljDTl6G7MkWjyY1X0gJ5qUQU/WjDMzACCcbScp\n",
       "qmJrHiBDU6RNGfJ+RgRzZZ4tpfavxUqoISnJg+OiyGSTMiSY5AbmGVPs0CT0VHKmxAPmKoi8Tblz\n",
       "rVxhtiyCibXFD5inqkw0KQMOlmM3MYM6Yg+YW3OmTbkcJjp1EzM6yU09YCbrHzUpV5sdEfKUGasU\n",
       "S6TWhh8wD2kC0KRcNsgjWjZhnjM/GD+S2aFneZtyVVEWpxl1pfMTZqwQQpo9YPZIAGpSrirKXMQZ\n",
       "1KZLXhNm7uZWy3sA48CT5luazKZc3qRnYTljILvAhO7ZyLwSzpkm5VrjbroOJncPNFeMZja5zt2x\n",
       "i1gxmX1g1pi72jfy8b/J+TPDKp2lmUyhmVtUnKhEmV1gioEQ9RvVCb+qgNh5jwVXUmc5N31LflZX\n",
       "TG8XmPq63f7GLsrvdmosrHUWv1E1KVeaqaQMusA0l/MN6AuVJuiH1SxK1DrR3+FNyjX/B10Hk18O\n",
       "jwz4/ITePQZ8w6yxdCGx46piWQzH3B2uZM2N6gLzyGxcpcnM2L4hNPbaihGO/Q7MvbnObLfLpMDd\n",
       "kDbAtRXRA2bGLNzhnRimEnKX6RByFJqtTqEk/1UJs+TEbSB3C79kb00srnTCu2X2idywDSZqwUUP\n",
       "mDkzdKXn2eObouzha53Cu0aCnkTm9wqmMkrzNyZcgVonqDA5tSgXVlst9QA6KgALzMS5Ujig975a\n",
       "XpC21im8q1dOlGLJPSwP0FnrCFiVo/Bcy2udsOjB1KK830DZJYZeNxpo32dGXtGW2PTu188/stYp\n",
       "xKki0dIuPGb79PwNMq8yXasmLCuTUHoNXPb/QZ8xTGzmkUOhwkITlU6I6WAW5Y3HxHDkGSVm+QJh\n",
       "j9YO8aIsrHUKTDNspxdGG5jUs2GI0aYPoMSCcVzWsgUyEGdgIkg4hxAq/4XNxU1GQUIMVIaERWDE\n",
       "gYMpvryyKBR+E13rzGJgMsEYD4qV0zczK9fM8VlXTZswj6H/IjED0S9awAzfzFYFxH/xx1yKmuos\n",
       "jlF5sU3O6KJqKPcPDcIkg4ALXgTTk3T9ydrUOjN0JANzfI/QjIBZZGbeeW08s1g/H+sUUJQzNSE9\n",
       "rd0ZzPCNBxOLCGroY6c1emMMoRtg4lXVWDExOG1gTgFjlavZTXsWZF66Wmfu8uzT41kDMmJ3y8zU\n",
       "K9pzr48XVPuuTsHbNgpzNQujcArxMpmUVNyX0hgK9YLJ5IRtAmbwfXIw6eYxF6yxSP05sXfubBYR\n",
       "2huyBnwEzAoz8HHlaViQsDHIgznZ1ylo6TVdDqaFCHqRBS+T6XXzBFpjbGPVrNIBTDzr+QnRBMxQ\n",
       "PQrRkQMkL4lzqy0qnVMwgY+40VU85AiYsqJ+z635y9FknAg7C9G+TmHeNXrtNby8WWEcT+RjLhWD\n",
       "lfxQwZmVgUQlZBhI5eECID7sAGZa9yuT5yQe+cJh/McFCGtQZIuHpa/A9u8jMjAXCiZ0nhUc7Ukx\n",
       "tUSSBg942BEwbSUx6c4EPvHTIQn97vC++4RZ6TRO9DDApLxEz7NLV89mDyYmFTCTDNDizfofCoFj\n",
       "qJT7L7ulvl/3VTB5+JjS76WbtpTgAJhV5iytV9M/i3vR/Q6qNwWTqrVFA0YrTOkUAg0cZjf6vAmY\n",
       "PjQxrgJmppiFw1T4wDd8XtOjut0t6P3qphmYkaLd6vuCS3i8kxJke/VZZ9ZnZpNuu+poycN3v/lp\n",
       "yWD6dq8xPHl5pyhNvk+nNQ0fI4aDmtW9YGqe6HgE08HC9KTO897DR9n+RqRwtdhiwC6B+Z9dr9wq\n",
       "se+e+ZjWk22p8d/hud2URU3eLpFMYVKTOcP4CvxiDv8ApqiAaY42k5gkNIpGU5guMP+bgRkobJk0\n",
       "EN7eaoukhP7FUzf8xGa6kWT9CTM+iYFTNfup8sttDAyIASh1ZmMEGvZU5iPorBSalMBMhS5wMD8G\n",
       "3czJDPVrsIbNrEnmCuZsypmlszWe3UMJb1CzjesJTpglxyfOyTZBOipjfDuYyRhb4iaek4jSGHWt\n",
       "x3UOJ/vATIUucNggSyLEvmugmWSJ9g71Xl2jzGZGStyQsN50Ih8hyXnEebXoPjt07s02nMc6Mz3b\n",
       "AGGvVcoIt1SS++UzGWOTgagIYzo/ej4KxPTgy4arGph7oQPLUvDjoOirLCmgRODOMu01B8hHmdZ6\n",
       "R1aHinEYUl2zGhHjYLauJ6gyo3PlzXVqApz5hK7dxkiyD0Hz0/C/DD+mWuIpSbSb2Zt9LUOqIfeU\n",
       "xS6mQhc4gmstdQwiyHGw/V0Ph4sfqmDufwc/sFRhp68rjUBOJZNcY2b8HB6jpo+3bQxvbxiqJlD3\n",
       "GaBzo8JOOJa0bzLYvmzlUMPSBWbYrZ2l06qpK4N+usHNzDVm0xha88+DuY2h5barXNnO7AMzFbqc\n",
       "Y7HHyWD7k8eHY8giS6vnlBgYB78K9qUQ1FmMV7meoMWsWoJn3edrILcxkH4Fg4ZdBzMVuoxjXfbp\n",
       "YCp1phQ8vB3J3nd8Cwwetquw1maLairXE1SZVytYmjKx804+f2qgOEbFoesCMxW6jEPaRnb4YJDy\n",
       "ght5w+b0oVohKCLQe+6hWOpgi0GJ3U2t+sKNbMUxyvGa7HEvUqHLOGDJoceVzlQquAE3lLQfngHD\n",
       "mJxfYj4JSgQ/AP55ML8xxunkmFoniIGeWpQrpsXsgw0W1CdOcnvdzIV4alF5xzdlXzjWyX58dHRX\n",
       "lnms0VSZ66huSIbRvRMVtqS6L7+gmQdWCEqwgPkeCjBfFo2vN8lrnRgHiCblStrLleLHiJWQmr7H\n",
       "bJxJGyFx0zn31Dj6gmyg/1fBLBzS4XfcalAojFwv3eL75HIHs65tu+R1sv/qE31eFk2ts0zcR45O\n",
       "k9y0rBsreMkMvsXcnaGxn5/Rb4xR0VmpS48z/x5n9gnfcqQPZlKTHiVQ9E3mfv+E4I9P6TfGqAws\n",
       "Kp3V2TBNyiV9cHSJ03O+Gr3J/M7iNZ9PA31jjGKMa2uddd4+c3fMcUmEfaKlgBWwSb7F/N5Mf8E/\n",
       "wT/xgRitdTaNJpqUa+HYzsdBYYHEvK5xrZMG95z3/XuNZN4OuSddTXanQomeG7nEPNVOvwIgwYNg\n",
       "KgO8SbkYW6dOzHKWzlxiDuFMQanM6W2qHgxfpizLaQt3zyU3dOQ5R+bi6dcQvDv8gPhpkzkNXpl2\n",
       "YC6dfo0F6/z5+xgnM37btXV6JJF0YF5Pv+rt5mC7XC5A7APi6mRmuhC5u64SG7qG+MBcOv0aweTP\n",
       "BaWvmFI0Kdelnt/FXDz9GtWse9Ts2gxvUwZWCr2JeTv9mqrZxwE6airQpAy0IY2dMpdPv0o5pQeh\n",
       "H1+WNSlDoSa7h7ly+hUAqZ+/sLnlB2CTMvZ88CPmP+n+4CZlcAD2I+Y/GGTqNmWsDV0aSB7RHFn6\n",
       "twuDGJF08Xiqbxgl26QMN61+xfzHXNmP/5XioCvtr5j/UqPZTQ/0E3ePD11o/svb0P9RjdA25ZZF\n",
       "g3/F/IcsJj2l/A9542jMJ2lKYgAAAABJRU5ErkJggg==\n",
       "\" style=\"display:inline;vertical-align:middle;\" /></a></span><br>"
      ],
      "text/plain": [
       "<IPython.core.display.HTML object>"
      ]
     },
     "metadata": {},
     "output_type": "display_data"
    }
   ],
   "source": [
    "alpha_m_eq_04 = alpha_m_eq_03.inner_expr().rhs.operands[1].distribute(2)"
   ]
  },
  {
   "cell_type": "code",
   "execution_count": 12,
   "metadata": {},
   "outputs": [
    {
     "data": {
      "text/html": [
       "<strong id=\"k_domain\">k_domain:</strong> <a class=\"ProveItLink\" href=\"../../../__pv_it/common/0107914a254b4cba063b4849ea3d536e6979ec8c0/expr.ipynb\"><img src=\"data:image/png;base64,iVBORw0KGgoAAAANSUhEUgAAAHIAAAAYBAMAAADUnLRyAAAAMFBMVEX///8AAAAAAAAAAAAAAAAA\n",
       "AAAAAAAAAAAAAAAAAAAAAAAAAAAAAAAAAAAAAAAAAAAv3aB7AAAAD3RSTlMAEER2zVSJ3Zki72ar\n",
       "MruaaVGaAAAACXBIWXMAAA7EAAAOxAGVKw4bAAABYElEQVQ4y2NgIABYJjCQCeTJ1cgQgkeOUQmP\n",
       "5LSSXCyiUyFeMFHEZ6crNkHecwJAkvUjkEizwBIQM1reMjB8xNBVCCT4DgAJtgJgAAYwVmJo5HzA\n",
       "kK/AtABNVKblI1QTmNjOwJCHoZNnAgPXAuYDsmjCzCg63zAwxAug6+T6yMDzk8MgEa/OHwwM9wMw\n",
       "7Cxg4PnL230Bn05GkM4NWMKQ/QOmGEInhwMD5zegTgMsOrEJgnUygwJu1gaIzgQsOmsYcOjk/MrA\n",
       "MMcJmIqAOvWxGM/xAMYSKQeBWrhOBhlXBt4+AXAIxQdg6tzDgMtOhhQFSHJ4x8CwHyNWGFgTGGbi\n",
       "0MkKC6ZdDAwtmGquMTAY4grbBVCd7AGMayG50QHo6y/Q1FfR0VGAqZPtJ3JKYGyzgUQ4ewOQqIBG\n",
       "5v///x0w0+SpL6eRdJIMKNTJvIAMnRwO0ORAMpACp/IZR0nWOA2oBQAOT1/hjoVQGwAAAABJRU5E\n",
       "rkJggg==\n",
       "\" style=\"display:inline;vertical-align:middle;\" /></a><br>"
      ],
      "text/plain": [
       "<IPython.core.display.HTML object>"
      ]
     },
     "metadata": {},
     "output_type": "display_data"
    }
   ],
   "source": [
    "# for convenience and clarity we name the summation domain\n",
    "k_domain = psi_formula.rhs.operands[1].domain"
   ]
  },
  {
   "cell_type": "code",
   "execution_count": 13,
   "metadata": {},
   "outputs": [
    {
     "data": {
      "text/html": [
       "<span style=\"font-size:20px;\"> <a class=\"ProveItLink\" href=\"../../../../QFT/_theory_nbs_/proofs/invFT_on_matrix_elem/thm_proof.ipynb\" style=\"text-decoration: none\">&nbsp;&#x22A2;&nbsp;&nbsp;</a><a class=\"ProveItLink\" href=\"../../../../QFT/__pv_it/theorems/93755fac1e3bce96cd040f096bb42ec154dee51c0/expr.ipynb\"><img src=\"data:image/png;base64,iVBORw0KGgoAAAANSUhEUgAAAkwAAAAzBAMAAACXoUrNAAAAMFBMVEX///8AAAAAAAAAAAAAAAAA\n",
       "AAAAAAAAAAAAAAAAAAAAAAAAAAAAAAAAAAAAAAAAAAAv3aB7AAAAD3RSTlMAq1RmmUTNIjK7EInv\n",
       "3XZ/CtNrAAAACXBIWXMAAA7EAAAOxAGVKw4bAAAJt0lEQVRo3uWbDYwcVR3A//s5szP7dRENjS2s\n",
       "ouRitV1Ji72IvTMsiFp0EWOioj0aE0IFuppKU1LoqslFQ0uXjyKLGgZISLiW3go9jDWha0mkgOgK\n",
       "pRpCyxIatMWU7V1r76615/ucfbPzdnd2Z5fR8JLbmXvz5s283/u//9e+BXBQxsfH4X1cnA7/jfmT\n",
       "PX1uJN+/MT3Qgz4eN8hBe5D++9D8rKPbXu3xUD7QP0q+dA86UV+jx60GqxjyApOv1D9MH+5JL5+i\n",
       "B3/FS0yX9o9SYJSfmZLQTdGT9PgbDzEpz/UP06YcPWrnrXODCV6hh1jaO0yxav8wHTbP3nWF6ZP0\n",
       "bv8L3mG6rI9rrtwjTOERevyed5heZMdgqusutLXy+mjJEaaQxCH5ItEHa+AYbXGa1q7OeYUpPsdO\n",
       "Pu+ikyYKWmDTCtNPIbTkivq/Y/jjY+T0FxCkddczqUp6hSmWbDRK3ayupLT6r+AIUwGiMNFQdzn5\n",
       "LEOIau2lTDnNeYVpG5P4La6Uxz1St3DGESalBApswUvrppuw8tmIK2+4A1kWpQBAJ2CC2hntnFeY\n",
       "FrLj9131slNGwVd2hMmPBWY7QhXSdYQGYVIATn+ioECghEWNxFPMs/y1V5j+AKI4ty4fbHolKFt1\n",
       "0WQ7TOszmUw2gGxHMA+3A+yIADpsRH/qCQN9BrMAVBcEmA4fznmDSZ1mKqrkCpNyWrae046kSUUL\n",
       "ak8cn03GDLbo4r99DQGJPcKlSWOvOZH2BlOcjW+bE9V0rPmlX8oMXc6ZCk9CeP4/+CTl55iCuaeQ\n",
       "jOn/ALVkEXoqoO89pgjTHwvE6SXyYW97/337yJGPPt/GSf2VcL431/wdlrd4P+YQMKXEdNR7jylK\n",
       "hRqmhTpiavSsvfEeepiU5JI2S5zT5+unA3+5vnlKJd4C4SDHzILgGsVEhOqitpicNHNUJmgYoIq6\n",
       "5UnQ38hjTOqiPw0seP0FuPnGRQcX3Fzguglhevwl0wVkum3E7ps7Th4a7S8N01kLnKKYiDd6Q1tM\n",
       "Tpo5c5uoQxKoCXVIsIepNIVm0d9+mIL4NPjLsKYuTdjBiYmLw+6dqufaPTwx76DUxPekfQ7Bj4F6\n",
       "VW0wOWnmqCyli8UnjNKPBONKikk5gT4u0ZIYE7I5AqYpvAKEhRav2f2hqS7c+SsuKbWSeiqhQxA2\n",
       "rI9vgslJM0dlOG9zcXBq/LCAaZeSJpj2IB+QYwrNNcyTf8Y+5JkO3+VrR7L+o1CRCx57wRMUUwBp\n",
       "unB7Fe6kmaPCjHZCmMPHEIAZE5NixNUswfQZAZNeblj16lRTX0OeVFh4wFZX1mpwviKPLRNsSmaZ\n",
       "pXvp0KEXHVg6B80clb1URyYEO/QWUVUcU4BwjBNLeL6JKZz07zZgsTDsaVvXeivHfufLl9kc95xa\n",
       "hkp8uVShRxm9PzJMVwE8KGlWasAkb/ZZR19kqLvrb/JVw2bPkdT7Ciam2wVMXzAxTaQ/uilt0eFU\n",
       "X199CBeaGQi2wrQIFPvlSFZL+p+SJzLYWjzEMP0AFFl8NNKAiTb7HNH/D3P1iWYD9GcsOlD7/YB1\n",
       "dh4drafgUbmQGbw6phC6GK0yTGcH1gmYjpmYlv4oNZYjMRcvZ+yRb60FJtTfvbbKq1rke5gb/DrD\n",
       "FDEsjp1yYBKweDZios2ipKkfjVx9s5glJyvhm1YvNlgRzYd6vEJvsGJaXX8mHvu2nClNQQETmJhW\n",
       "rSCdCRN6shkmi3UnRgu/Ljq3gdWNqmNM/mpdNd+1YDt8RDeChh0TbbaZDgxByOQZr/2QEJ3aRFaZ\n",
       "sZgPvxUTW3SCNMXRwv0XmJj8UkwH6fNKrTA1W3TYE1WnNmy4rfHCuvlKc0wNiw5GV5rPwUJ4UXVE\n",
       "h92ZA5msNVghzYaUd3AXWTI2Mny04qOioxAwkNUSzUcDJhZrEUzLVhxHI9DQxbs1wSGQYNKmQtja\n",
       "h3PsHqlu0ltZunMdmppGFQ5PrkWDu/yuI8TkoKDm43foEt1EmsEFP9yJhjmBggeeqFXnzG+zuChX\n",
       "LOYDYwrVZ+1d6jdtRvdoy5+F50gCGqb11pgCc9pUHAd//B5rUMjusfhNy65dLP67ypAF1y0wJYVM\n",
       "Aca0CVU8el06mtOIqzCoP/JtGSbcDP6cwtH8xQDXkgtjeYwpal3hWw2L+SDfMN9iNLiXOImq7BoF\n",
       "vE7QcE7topjUWRETl5xJ5LRrMzoO/vg9oEy1cS+XFES7CE88+93DnWBKjAhrG2PyoRe/7W1IGDRb\n",
       "PggjR2WYcDPlJLENXwa4tFgsplRk1NCiS1i8c4X7DT9HTYo5iulik+RSupajuH9fNVSmodqyEsGk\n",
       "fujsAMH49YVnz8ubkjMJkRQcOUZdB3oPqKfswYqlype/1XL16n9XOwrRqRrUzlgSKRfAdRC4sVi8\n",
       "B2HaEZb4TXS+Ct/BkvuqAXfSOU/aVDishw3Wl0djU8qNGcYwltxoPjiS50GQPZFiSs6kEPyxe2RJ\n",
       "YtWyDmPw1rfch+g89GVlP2RUmrgbhNCSZvkmX3WrrpWgVkX+AfcMjsM1+HQHaOR25YGffcmGSVDh\n",
       "TJiDZWI3Yz/J81BNkm/iksMxRXLmPVgD2gozfuuvxImph2Gxm008LESn4TTHpNTg74PUzV4O8GYz\n",
       "TJGcb4W6D76SRTQ4Jv0ZgmVLTiULJMozEbznp89URUwxlpLHwnANxIkOW9sEE5ecyXrwZ94TkfjE\n",
       "B+kTC7A326vYk8aJQ3VP+J00bETvpB7Mga9l9tJPPncUmXvppAjt2JdEmqiBVzbBxCVnsh781aVS\n",
       "Iir0uy1fDqJlmlqqdY/pQtFltSZ5td8Vt7dP8gorPlTpGFOA6ZT7xMVF5i1vu41Lzj/NVH+9rJYk\n",
       "aoeJJojOge+0a2l6XsxJd5MLF6fxFmfPHEvZEiBu96U8LVO75DG+CviQa2DZJtBxUZg7urnai68M\n",
       "VEeZOkUUFPbNzoRL9bGvhUsIMbRU7NsEOspqevx1Jqxivvqoq17iZUllsCxYc7pNoNviq/D8i0eY\n",
       "eG5gv6teojIxDnH/ksZ42130n6iKoaAXG3eYf+9uo+rb0lqWxw0SvRvMu0nZG6LB8QATN3VhN85f\n",
       "k22ubHCfJp90m0CXhe2Uinm2DYxvKtT+5qKPJ+Smg24q9JdwvMS2CXRXvN9UyKccbjW67+PeVpJ6\n",
       "Z8s9Go4K9/HvBs8whUsSN6GzojXzJvDeMuVAJlNx+Y6r6RSG5rzDpPZx+/wWvEkJRSmjLvt5mamm\n",
       "lHeY4Gj/MMULPenmf+HHGP8HP+35BlPkox1heqXHPztc0z9M4VQv1ALbnT9GNdT4uDP5f7/97PAx\n",
       "iof/luGh+dn/Ao9XBIizLxXdAAAAAElFTkSuQmCC\n",
       "\" style=\"display:inline;vertical-align:middle;\" /></a></span>"
      ],
      "text/plain": [
       "|- forall_{n in NaturalPos} [forall_{k, l in {0 .. 2^{n} - 1}} (({n}_〈l| . FT^{dag}_{n} . |k〉_{n}) = ((1 / 2^{n / 2}) * e^{(-(2 * pi * i * k * l)) / 2^{n}}))]"
      ]
     },
     "metadata": {},
     "output_type": "display_data"
    }
   ],
   "source": [
    "invFT_on_matrix_elem"
   ]
  },
  {
   "cell_type": "code",
   "execution_count": 14,
   "metadata": {},
   "outputs": [
    {
     "data": {
      "text/html": [
       "<strong id=\"matrix_elem\">matrix_elem:</strong> <span style=\"font-size:20px;\"><a class=\"ProveItLink\" href=\"../../../__pv_it/theorems/df30aba3a535ce7eb8609d1347296ba1cd1680060/expr.ipynb\"><img src=\"data:image/png;base64,iVBORw0KGgoAAAANSUhEUgAAAJcAAAAYBAMAAAAFV3JHAAAAMFBMVEX///8AAAAAAAAAAAAAAAAA\n",
       "AAAAAAAAAAAAAAAAAAAAAAAAAAAAAAAAAAAAAAAAAAAv3aB7AAAAD3RSTlMAELvv3c2ZVESJq2Yi\n",
       "MnY6gD36AAAACXBIWXMAAA7EAAAOxAGVKw4bAAAB20lEQVQ4y2NgIB3EMFAPMH6gomHsAaSpl2jA\n",
       "LcczJfICFtEaXOr5IgTw2MRagE30liIoBJQdMCTqgWZxzsvBYn9a0AUGfgybroBEtMAWJWDomQLE\n",
       "4QwiBzAkDjFw/mBoRo+QZfECUE0M/AXYDON2YOBUwJBYw8BgzPCKET3M3sMN64e5mk/FxRVuGNMC\n",
       "BvaPGIbZCzCsP5DHKYDTsMlQEY44ASSX8Scw8H7HMGwJA8P6C9f2MuA0LIqhMhFEHxVA9qY80LDf\n",
       "2GLNH4sY3DDG3+w11miZJJWB4fwEBt5/WPRhFQQb9hiUnv+084LNQaRrHmuIYT+x6GNZgMuw88CI\n",
       "ZLOGxA2viYuLixPYrKXA9C8/gYEDmyOSYAxRFxDwRRjGuLSAgSUsF5JaEAnhmiI4AtgxI4CBG5vD\n",
       "IIZxRgCdUNAPcRpSRgAmZiYFBm7MpMFQycBzAIdhoGyzX0C+4AFI5B1qojVgYMMsHXgnMPAJ4DAM\n",
       "lMSWMshfmICWf0Gx7M4gDHaxfACMAIIjaWkpWLw5/wBUkzoDXx7YMsZFjciGic1bC4m+BBgBSmT/\n",
       "/3/FNGuVfdQGaKKFA45JSNmJdDCFRHGyDHtMjmGpOMTPF5BRzVjjKuazSDaNZxZQCwAp8XPBv06M\n",
       "ZQAAAABJRU5ErkJggg==\n",
       "\" style=\"display:inline;vertical-align:middle;\" /></a>, <a class=\"ProveItLink\" href=\"../../../__pv_it/common/89d0188c50f606a85186776fad8a95883dbde6470/expr.ipynb\"><img src=\"data:image/png;base64,iVBORw0KGgoAAAANSUhEUgAAAJ8AAAAYBAMAAAAWgDKzAAAAMFBMVEX///8AAAAAAAAAAAAAAAAA\n",
       "AAAAAAAAAAAAAAAAAAAAAAAAAAAAAAAAAAAAAAAAAAAv3aB7AAAAD3RSTlMARHarECKJuzJmVO/d\n",
       "mc2qKiq2AAAACXBIWXMAAA7EAAAOxAGVKw4bAAAB7klEQVQ4y2NgIA88ZaAuYPlAZQO5HpCux1EA\n",
       "txxrzrMGLKJL8ZnH9NABjyzfAmyizSV4tKwHmseWdBWLO+4+b2Dgx7CtByRSjMfAHCB+xeATgCER\n",
       "zsD2kUEaPZJs3ztANeExkPMAA1sBhoQpA8NuBmUW9DDUx24gU82Zc3AD2Q0YuL5gKNnvwGAfcInN\n",
       "gSgDGR85ILmQ/wIDxy8MA20YGOwbemcw4DKQUdk1qYgjrRAsGueA7GV/oIE/sQXHeSxicAPZ2I0Y\n",
       "/CcyrEbPUPcYGOITGDg+YdGLVRBsoDYQC/IUMMQrMMwHiyLSP+tOiIHfsOjlMcBlYDwweTr4C4DS\n",
       "3D2w1XvOnDlzHGyeHTCf+CcwMGJzzHUYw+8MCJxAGMhiBzRxPdh728CpCZFIekvAkcKFGSkMnNgc\n",
       "CDGQ7SGQsGNgOMbA+JUFJHoAoQCY6NkLGDgxkw3DMgbWABwGgrIX0G0sHxmYH0SCRJVQE/YGBl7M\n",
       "UoUjgYHJAYeB2aDQ+sHA+YGBPSEBLc+DUsApBm9whmD5ByT8oWbH3L17B4uX8wNg6fAAA9MFBsZL\n",
       "YF+wmIsgG+ibZAHhnAXF7QVoIvz//x+mecb7H0/AlvUY05GyHukgh0w5sjRpk2PgPTxy8QvIqLp2\n",
       "4pFkvUyyiazJQC0AUWB/cz7tlkgAAAAASUVORK5CYII=\n",
       "\" style=\"display:inline;vertical-align:middle;\" /></a> <a class=\"ProveItLink\" href=\"../../../__pv_it/_proof__alpha_m_evaluation/bebbf1fc88eed6e2163d89d1b1d816b81b88d16c0/proof.ipynb\" style=\"text-decoration: none\">&nbsp;&#x22A2;&nbsp;&nbsp;</a><a class=\"ProveItLink\" href=\"../../../__pv_it/_proof__alpha_m_evaluation/c019d655b17ea3d5ae40460ffa476136a76add270/expr.ipynb\"><img src=\"data:image/png;base64,iVBORw0KGgoAAAANSUhEUgAAAUIAAAAyBAMAAADb1s/aAAAAMFBMVEX///8AAAAAAAAAAAAAAAAA\n",
       "AAAAAAAAAAAAAAAAAAAAAAAAAAAAAAAAAAAAAAAAAAAv3aB7AAAAD3RSTlMAmVSrZs0y7xCJ3bsi\n",
       "RHYwvcNTAAAACXBIWXMAAA7EAAAOxAGVKw4bAAAF4ElEQVRYw7VZW2gcVRj+d7KX2d3ZS9oaRdO6\n",
       "hYoGQhOp0VIvTZXqSzVp82KxmJUiRUU2uI2tRchAiC8quyjUUh+6FUokLXTbUNRqYSqKtgZ2DEjA\n",
       "B3eLgrVVk8YUqiZZz2XnljmzbuZkzsOZ2Tln//nOf/3OGQCvWjTNK0H8FDxtD/CLeFn2EmBTnv81\n",
       "QsFLhNtrlrq/n0MR73sIUHpTu5vmQBjp9g5hpLISCIWD9OpLuZcx4vD+p2AlEMJOelnNISL4Mfv5\n",
       "G+4Q+orW32UF9/5eHnM+wXwav9UQwskrqrFWDENIWicEOnG/jyvrRJkuEulsCOGAOLNEh0tCQyAr\n",
       "3d0glkfZif8g62km3RBCJTiA+h8GB5HqJGzgwMSfqN+2YdvkYSp9UYfpGiHbix+CxvwwqoICah5l\n",
       "dwUhVCDx5duo31gMqW10wnlskHyDCK+yH5cUxsNsgwhbQCqAmC+ii1REt5nN+EE0PQKr6IQeJD3T\n",
       "oBueO/MaWw2MFQbnGkMYlnHaDKs4IRAr/3b5Haw0aIMC9cgcujxsyDWVBIa4I+YBY65/gBHK88b9\n",
       "McUZYX8VV14B7tMQtoYfR/0w/AGP0b+FUMgZy/3OtDjVwQ+1AYNbSbMMvRqoNw318ZSuaAGCxnLf\n",
       "syLcO5rddP6AHDgxPtZ37iTArtqA+EnBkriO2+WGiitVPcMz4DcyUmGJDsvoPVPpRAqmu+FeAyEE\n",
       "kpbJt9nl5pL13/vK56ihyK3Wa9SHFqBJryjmfE4QlpAP+FPDgBFGAS5oA4mUReHTjHRYcaWwi4yY\n",
       "WySuaKftOkKx8hVBGJYNhGXZ4rQddrrf4Y6LPMMoCDcgoSeLEbAj/BYqrxKEfgUe1AY+IBVTD9GM\n",
       "HU5PnT3K8CEnF4gfZyzsL0jokfYLwE+bL12vvPShqiPcQe1I5rRqCPug7Q4Q9JXl7LE67ZxhxEMb\n",
       "sk4kgkX6/4VSyhQo+fGKOKcKAxpC6ZQJ4VUtlueE9v2mUEkQp/ONkUZ95phzlm4qQElmkwiRRbIG\n",
       "azbaAxDrhJh6EqRFHN4UYbZr3oRQM78wPxlE89dqlk7Yi8rdzgiRzaLdbBIhJBkDY1DGWDAJ8iHt\n",
       "iAuYSPh6dSu3MhD69hMv24vsS99p96utdMCUOnBOE29ir0U/8mwSIa1hOMco1aGA9BtHMIQZDC+U\n",
       "1xG2mxDuqSGM7GzBd4h83FMfoa3h3J5pn5iQ2SSC2ShC6ejuNGAvQMkRUZ2yIuvZxkBIySYayKXK\n",
       "aQL40onDDn5Yz8qVeiSCZeUSfnsAK/ILwNrLqdAldTMQCr01hD1yLlUhhX6X5llLm5UtSGYl+xDj\n",
       "VRxJBCtSchh6QqZmK6WhB+CzMLVypmhCSPRMEHZBLo38AC2Kct+SPYtNW/Kh36wdcfTpa8upOFkI\n",
       "4QVOkb0FwI8AVwC+/50yh/4sSdKx1UPZlpqe8cBZiK+T8ewYZTAZ9X8y9rVVlq3I6eeXU2duQAAr\n",
       "6mcRiQyn6rIvomdjYD2Krc63SImzO12H5e8RnvOvv8GHFbEOlV1KIZ0RTlkHkNf6KoTUHmUwB4tr\n",
       "jvDsx1F6xs70wpP417N1ERI96wM48oNriDHHGQFrSUDr/RznIrMgzrKoBQMh0bM+EDe0NMfYLtP6\n",
       "JTU/h9dwcYd7hHg/ccYomaYBOzmhetYGjLmxeUbxHahtK8ILvMeQM+YzIJc8nVHv/TQPPQJwAEDn\n",
       "y24a3k/kVD6EIQapC1LXGZJhq8InvVRh62A57Vdw3NFvQRU6zScd7+jhdT4ZzH3+7drNaeSoG9e6\n",
       "l74Fd9u5AMaZJiirejqDUI2luWqLZMfBdVj8DdPRIknjlE6Cfa6l05ATT/FUpY/qSAa4i/QXXIuv\n",
       "nUN+zXHEGe2ud0rsJy/wuY8WekoMEke8vesUgzLl4RJ6xZG4a/Hj4FkL4L1IMA9xGQLVf9xKid3y\n",
       "DmEQf/G53Nx8J5eUSMo7hHAdJ8Nq9SaXEC+/mhlfHjlarNdLhLVtFld7UfYU4Qp8ASeU+j8KbtMG\n",
       "o4sZ8gAAAABJRU5ErkJggg==\n",
       "\" style=\"display:inline;vertical-align:middle;\" /></a></span><br>"
      ],
      "text/plain": [
       "<IPython.core.display.HTML object>"
      ]
     },
     "metadata": {},
     "output_type": "display_data"
    }
   ],
   "source": [
    "matrix_elem = invFT_on_matrix_elem.instantiate(\n",
    "    {n:_t, l:m}, assumptions=[InSet(k, k_domain), InSet(m, _m_domain)])"
   ]
  },
  {
   "cell_type": "code",
   "execution_count": 15,
   "metadata": {},
   "outputs": [
    {
     "data": {
      "text/html": [
       "<strong id=\"alpha_m_eq_05\">alpha_m_eq_05:</strong> <span style=\"font-size:20px;\"><a class=\"ProveItLink\" href=\"../../../__pv_it/common/89d0188c50f606a85186776fad8a95883dbde6470/expr.ipynb\"><img src=\"data:image/png;base64,iVBORw0KGgoAAAANSUhEUgAAAJ8AAAAYBAMAAAAWgDKzAAAAMFBMVEX///8AAAAAAAAAAAAAAAAA\n",
       "AAAAAAAAAAAAAAAAAAAAAAAAAAAAAAAAAAAAAAAAAAAv3aB7AAAAD3RSTlMARHarECKJuzJmVO/d\n",
       "mc2qKiq2AAAACXBIWXMAAA7EAAAOxAGVKw4bAAAB7klEQVQ4y2NgIA88ZaAuYPlAZQO5HpCux1EA\n",
       "txxrzrMGLKJL8ZnH9NABjyzfAmyizSV4tKwHmseWdBWLO+4+b2Dgx7CtByRSjMfAHCB+xeATgCER\n",
       "zsD2kUEaPZJs3ztANeExkPMAA1sBhoQpA8NuBmUW9DDUx24gU82Zc3AD2Q0YuL5gKNnvwGAfcInN\n",
       "gSgDGR85ILmQ/wIDxy8MA20YGOwbemcw4DKQUdk1qYgjrRAsGueA7GV/oIE/sQXHeSxicAPZ2I0Y\n",
       "/CcyrEbPUPcYGOITGDg+YdGLVRBsoDYQC/IUMMQrMMwHiyLSP+tOiIHfsOjlMcBlYDwweTr4C4DS\n",
       "3D2w1XvOnDlzHGyeHTCf+CcwMGJzzHUYw+8MCJxAGMhiBzRxPdh728CpCZFIekvAkcKFGSkMnNgc\n",
       "CDGQ7SGQsGNgOMbA+JUFJHoAoQCY6NkLGDgxkw3DMgbWABwGgrIX0G0sHxmYH0SCRJVQE/YGBl7M\n",
       "UoUjgYHJAYeB2aDQ+sHA+YGBPSEBLc+DUsApBm9whmD5ByT8oWbH3L17B4uX8wNg6fAAA9MFBsZL\n",
       "YF+wmIsgG+ibZAHhnAXF7QVoIvz//x+mecb7H0/AlvUY05GyHukgh0w5sjRpk2PgPTxy8QvIqLp2\n",
       "4pFkvUyyiazJQC0AUWB/cz7tlkgAAAAASUVORK5CYII=\n",
       "\" style=\"display:inline;vertical-align:middle;\" /></a> <a class=\"ProveItLink\" href=\"../../../__pv_it/_proof__alpha_m_evaluation/5496a3990751d94f3080dcab57504368ae15a12e0/proof.ipynb\" style=\"text-decoration: none\">&nbsp;&#x22A2;&nbsp;&nbsp;</a><a class=\"ProveItLink\" href=\"../../../__pv_it/_proof__alpha_m_evaluation/117f77989ae224f6ce19547513b32827728802a00/expr.ipynb\"><img src=\"data:image/png;base64,iVBORw0KGgoAAAANSUhEUgAAAb4AAABLCAMAAAA4exLFAAAANlBMVEX///8AAAAAAAAAAAAAAAAA\n",
       "AAAAAAAAAAAAAAAAAAAAAAAAAAAAAAAAAAAAAAAAAAAAAAAAAABHL6OuAAAAEXRSTlMAiasyIt1E\n",
       "EO9UdruZzWZQQFPBinIAAAAJcEhZcwAADsQAAA7EAZUrDhsAAAnsSURBVHja5V2JtqMoEGWVnRn+\n",
       "/2fHJYtSyKLEeTH06dMJbSjlUnuBCPVqbkCfb5cQ+UuNcVHs6dEsueBhLiHytxom5Z7zTUnx+Ue5\n",
       "hMhfa9KXe8420X/IIhFmfwK+IbBiz9lG3AUPEhHx+jfYj5hyz7lGwwUmRUREc6t+w3oJqthz0iC8\n",
       "gvkeRATGhEw6kCcFrHe3w8/wcs8pk+I8871AKRKZNJ4db1+kcKJa89vBR4Mu9pzii/NT9gSlTGRC\n",
       "kQWKlEUpc0ndDz5kZLmn5+pob09QykS8WK5k1rMfgU8BXac6aj8SzrtjT1DqiOB9jO4IHwqu3HNY\n",
       "bYVOdmwGlC0Rmokb3RI+AhY2yS31NsZJMrLJDy8MQCAHyoYI2/yWmmdjt4VvCLjYc1ixpmQnKUVh\n",
       "AFjMiDoiU7SFsZ/iPhRkueeo7ExMGMFF1ormOQ/KiggzlFIrfgs+A2Sl6SQ9fYKNI99ZEOsgi24i\n",
       "5wVQVkRkmNpehAK7gG8YTNNgknUn6Umgz84kg/QhNHwlYLOgJIn8VKPA0qSdbE8JJ51rVANfQ/5H\n",
       "BvTbLYD5C6FH9iyh+rxEVfAhZ48TqW9fF9kWDs6VA+LHdRFICnp9ElfCV524Uidcyy/M0CdcKAsi\n",
       "W7ZL3NMmlKqohA85cpRIvWX1RzMQNrcgPYG2myn2HGkOOO2coFr4VKX8dodDfPT/qa8YlLYp2UZf\n",
       "i0llFYdRwFKRxZ5jlguNh6XV8IlKASAPOzkO/y+8Jadny3NfNq4h4lUngFkuQg9zDhhARKJq+Grz\n",
       "jjERF3aaPsjeizii3eBjE98/OdHJ8Y99uLevR2BMP+/WW+W9HRSm+xo7gBUcOjjuDKwBSRrg81XG\n",
       "CyCiQnTvgg2ajL5jvHR4zHy5tLDc5VTP280EMywwogFhhB+YzvDNjxyYEs8vSo+f5IAUXj1yNDEc\n",
       "KqkOSSMVm/Q0+Ab4RPBHiIxufMqV8PETUUC1nBZOI9tspNtpeTG+LBlkHl8m+OZOGpZFtFxh6Fw8\n",
       "sHZxDI7Vv0alniPRHBd3JPkJ77CZJEeITEsvkLI9B0uyimnhHfZvnRcs0Gty8YCensBLeGrMuHhN\n",
       "yYjhxHl8VT8QO88EGN+kQ9gMx+ZrMo1PRsHmkkmIKuWHoY1MR/GZGs9uVgm8ZJMWZnzRmI/fuNfV\n",
       "fjYS32Wl3iCmWyZrUs6vJxt5SsXwjfeJ/ZPZxLgS9biuiGarFaMi34kAb+q8R0viMaRphP8IkZkj\n",
       "Q5Kh/QbjtCR4TKywgnn0RuUF3zBpKcLeVv44r0rI3sWx+cZtNFEOTN15l9YEGymzttpnXxP6MalB\n",
       "TShG0nzYjWmM+giN/2gm8EM9LfDNHyaxh5e/y39LPbJCTuJGOeNwvL2Zy0VgcQDf+dyYi2a2tWyp\n",
       "6nqXgk+MhmZhqSRrv5e0MF14ySBq0fPrBN/8YbwlphYY5+8sWEs7MlZVeb8O0VcJLjjvt/NIf7aW\n",
       "QFVxK08q6WFcq3liKbtokxYeVdFAoPAkCwMq9VZ9A0f9ZGdVeb/aGlgeeGi+g98uo5n1rVZdjf6V\n",
       "aRsLj35e1itf/UwQOSuTbVrYajRICJ8nlIxsid+qb5S4KHUPz2HbrPWq8n66XZsZ+PDoy9Kj8Oka\n",
       "vyEzxaadyMq+y2rvt+EpJFd+YsZtWnjKzLyj+2/LU7kgzVspTwqNpGIyr2HbIqG8Ti75KFIB2DMs\n",
       "5vMw3Qhb5H3SBeWrRqKZ9RFHNIaIpauBz+9EBkPO91nZ3oTP30VX8dY87CMSKuosxu2a3YVPzpcZ\n",
       "i/SB4HzsfdlW+DhvJ7IfPNsTP8sApnoToqnT4I3DPiKhO+X9GdG/aHqo++cJf9qpR5z42HogreqU\n",
       "y6TgcDki69WSUX/DyymhD6u8+gmz+8dfd9c87BIJ3SnvB1NroziFAJEL8fKzscTiEHz/ZOArOjc7\n",
       "8EU+a0xkGzzTZe4bP7Gpdcr9Pe+ufdgW/2ML378AvrnnmXLD87N666nWBGm/rpLO6L4AYjsfEZ5q\n",
       "X7/xKuH5meLB1mHXkdDGwfe47wnfxAXCD1Ogb7KlNDkkPHHO8ky5qzWmSwY+nQllsbfKtIuI7R32\n",
       "ahx2EwmtVKwrsMDqnHXfLDz9qAIpYkJPszmZA7ZOoMdGoc75fSl7TpJ2Imv1RnM66kVPcOkHzXvz\n",
       "4IeGje3mnOkyen3ej0annauTiX7kibk6BF/ObU+6qzVRl134aD7sIu1aAQT3gWn+0LAIbOXfhW/7\n",
       "xOPsT7lfFlCVluXRzGb3SfMUh+B2Im+/Lz9zzqDvbVGdRxV8c15y4kBvUFUwKE750kz6POWuVoas\n",
       "d6IutqSavhi+aLejAgFq2LMEcN2c7qpz4k3MPRlhmHJXq0LcJs2ipsRcPnzxKUyGRM/CwdOdTxiR\n",
       "GC7uImPTuqcPknJXq2KkJLkmbNK3VhvJ/MUnvwCb0IGpO5+uBRn7bZ3gXByAM/qwKkqTLAvwSZfB\n",
       "bwAz33tuVryBABaM4A5l1mCMrcAi8z3IfR1UVVuRutG0y6BkBPH3qj4XL2GLSj3tzcccvLXl5Qwm\n",
       "mVdSImI2mkr6CJGdc6GEBaUbX7stUKpY/2tU6jnC4zLnh88ZlcwxCHVlupBIwmVgisD8A/7WI7K0\n",
       "BNa3KvYciQ2EsrXOl2sS+zYIP0bEBbdunC9pWGiLSXoP5kts85A9dreDcr0BCKynb5fYt1HJ/zER\n",
       "u5fKgHWd38l+Gp7D85nttRygBYo/nkmK9b6NNseMH9dhzn8hevBwAAb0B+uyQYyAFR9jsi5cN0MS\n",
       "2HYi1U1w9nXoCRhwHoD1NnQ5m0BD83W7U2e9UzTKVlZvjtYnbGTmvi70kqi++NTJIIlFsGG/edPT\n",
       "o7AyzlYacpxIA37fZr2IISV/VLHnEK1E2mK1pZXOH5f4aZytHKp1b5+dpN/cOJgr3iegy6EEpC/N\n",
       "y7idWto94OowkfR+SYw1vid6Anq+nQ41wwmzQpvXtM8tKfpaXicBiKT2S07J/MHcEj4For4q9Dnw\n",
       "ZEiNQ8pcMLgTRJL7JWcXPbA7wvcp1Yd2DqxypcFpm0EYEUntl1yqneUt3w4A57jbMWE2GbwpHcfa\n",
       "aM5HRJ77Je1rX51/bGTn/oboUSDhaOh1WFS/g13riaT2Sy7wyTu+W0UDSan7ZaLlFVm1DZHkfslF\n",
       "eIY7Ck8nyz0n1sZwxQIcNqpv2S+5Fp73NV0okG+0p8QLVxzatyaS3i85nVI03PENf/BNC6RnERa+\n",
       "oqJrTWRnv+TottsbvuFPAPYQXRlGXGG8XELkjxourNhzkoC44inEb8InbbnnXONXcAbHP8p84tML\n",
       "WV1h8Kl7BsSKSsMXe043e0Wo2JofhO/z7z6dJdsVwapbRsTybQB794dPnO98yaHR9Pfe/M2Hck+X\n",
       "ZXKFYhp+TfvBwolNz38QGWaMdBl52AAAAABJRU5ErkJggg==\n",
       "\" style=\"display:inline;vertical-align:middle;\" /></a></span><br>"
      ],
      "text/plain": [
       "<IPython.core.display.HTML object>"
      ]
     },
     "metadata": {},
     "output_type": "display_data"
    },
    {
     "name": "stdout",
     "output_type": "stream",
     "text": [
      "_alpha_m_evaluation may now be readily provable (assuming required theorems are usable).  Simply execute \"%qed\".\n"
     ]
    }
   ],
   "source": [
    "# We don't want to combine the two different exponentials through auto-simplification.\n",
    "Mult.change_simplification_directives(combine_all_exponents=False)\n",
    "alpha_m_eq_05 = (alpha_m_eq_04.inner_expr().rhs.operands[1]\n",
    "               .summand.operands[1].substitute(matrix_elem))"
   ]
  },
  {
   "cell_type": "code",
   "execution_count": null,
   "metadata": {},
   "outputs": [
    {
     "name": "stdout",
     "output_type": "stream",
     "text": [
      "proveit.physics.quantum.QPE._alpha_m_evaluation has been proven.\n"
     ]
    }
   ],
   "source": [
    "%qed"
   ]
  },
  {
   "cell_type": "code",
   "execution_count": null,
   "metadata": {},
   "outputs": [],
   "source": []
  }
 ],
 "metadata": {
  "kernelspec": {
   "display_name": "Python 3",
   "language": "python",
   "name": "python3"
  },
  "language_info": {
   "codemirror_mode": {
    "name": "ipython",
    "version": 3
   },
   "file_extension": ".py",
   "mimetype": "text/x-python",
   "name": "python",
   "nbconvert_exporter": "python",
   "pygments_lexer": "ipython3",
   "version": "3.7.3"
  }
 },
 "nbformat": 4,
 "nbformat_minor": 1
}
