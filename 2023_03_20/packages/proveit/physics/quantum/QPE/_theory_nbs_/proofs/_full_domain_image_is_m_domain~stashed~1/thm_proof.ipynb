{
 "cells": [
  {
   "cell_type": "markdown",
   "metadata": {},
   "source": [
    "Proof of <a class=\"ProveItLink\" href=\"../../../../../../_theory_nbs_/theory.ipynb\">proveit</a>.<a class=\"ProveItLink\" href=\"../../../../../_theory_nbs_/theory.ipynb\">physics</a>.<a class=\"ProveItLink\" href=\"../../../../_theory_nbs_/theory.ipynb\">quantum</a>.<a class=\"ProveItLink\" href=\"../../theory.ipynb\">QPE</a>.<a class=\"ProveItLink\" href=\"../../theorems.ipynb#_full_domain_image_is_m_domain\">_full_domain_image_is_m_domain</a> theorem\n",
    "========"
   ]
  },
  {
   "cell_type": "code",
   "execution_count": 1,
   "metadata": {},
   "outputs": [],
   "source": [
    "import proveit\n",
    "theory = proveit.Theory() # the theorem's theory"
   ]
  },
  {
   "cell_type": "code",
   "execution_count": 2,
   "metadata": {},
   "outputs": [
    {
     "data": {
      "text/html": [
       "Under these <a href=\"presumptions.txt\">presumptions</a>, we begin our proof of<br><strong id=\"_full_domain_image_is_m_domain\">_full_domain_image_is_m_domain:</strong> <a class=\"ProveItLink\" href=\"../../../__pv_it/theorems/ad226bfc4d2034bb05fb7ea1155e53e7922204c20/expr.ipynb\"><img src=\"data:image/png;base64,iVBORw0KGgoAAAANSUhEUgAAAWsAAAAdBAMAAACeZFAjAAAAMFBMVEX///9ERETMzMxUVFSYmJgQ\n",
       "EBDc3NxmZmYiIiJ2dnaqqqoyMjKIiIi6urru7u4AAAB85a56AAAAAXRSTlMAQObYZgAAAAlwSFlz\n",
       "AAAOxAAADsQBlSsOGwAAA79JREFUWMPVmF9IU1Ecx7+Oy+bUXR1FUZCMROyfMDP6Z6j00ItQBhU9\n",
       "BE4irCdngtP0QXrpD1QTEzW0fCpDSC0oiqyBWUJBewlKSG6IlElMJII0Xeece6e7O+dOUrf0wMa5\n",
       "v9/v3vM5v/v7czZgJY/HWI1DnliV2Ek90fb0WSg2340H2Q+/sc7c8tRhzPV2WHxXRnrsqVP6lCja\n",
       "5A5jrqRZ4MvJSF3LJLAm9tjdhNraViXwqafXgVRuT1uohHFZ68nXk0i9RLKhJfbYdIln+ObiFKWw\n",
       "zuBDZDjvealoN6nYU5riTe4+dYeWnnhhS/WwpnGK3cBx9MuRsf1eh22bVaVblWy5nc0SffHCTnCy\n",
       "OI0YJQoKXHVWJSo28zhg8iEbSSy3yx3xwk51wzTFKfYCBY6sg4iKnXygnyatFQQbt6n0COKFHSDY\n",
       "P0W6GwLZPDaN4sAL+ReZvmbYY1SaQz4DMSG1XGbDyS5qyXv1wvRHYCcUMmzGdaaQ1aFTZOpk2BYq\n",
       "pZflHbF2tvmYiv1boEt0GmFTrtN96qbpnRtaWytbWxvoVqnz5bwYc5vzSB4FvLCJHFsRmoyzt3Nx\n",
       "HptymSrI7ApsNCvcc95OKaah3hdeyG/qFnSH6qsSlSvMzNTMm2als5RM4lMSksjZKjbjIgWIlG3L\n",
       "rA47wamoLWwkdAjLnLt1rDEfkk8LwM45FrlIvwJnZnXysU0aXkIaJL4A4j7MLgPsbkWrJJMYJRGO\n",
       "bQx7iMxSC71Ak3YI25GzCeiau9WNagxeCEWgooqI1aB+Bc5MdJ6j7aaYVYXIhPQiRTHAbgoVwF1Y\n",
       "z6YKwZa9FHtYazcWLyznqW4ee4YU9UTosFmX69SvwJkZYOMqRlkzDBC9PK0pzno81YIgueMKr9sj\n",
       "zYVMWkWwyyiIVKOpE/14BT32YcIzDpR5PB5/FGzOzAj7a9tOdWv0nV0KFe1gcJo3zy15VBh+Jgnl\n",
       "QfvQJ5/umQHI6oGhSLfYPWlBb3Nmtnox9qLOXzpsfH/3QK/ugo29CNPDsLi7jrJD2nTgliE2Z/Zc\n",
       "WUZsVuuEg1Rz1EDqtds3IiOfLG4nYx1X9Cx2+1H7Wh6bq41dPm6JRTXiWlZbp4x+rJEWhmuKycuu\n",
       "+sOKMVeaRN7mzMwC/yymETMukjT7xa2ikT5ywof0iJQs3ZylGGOTQjQmNhOlpLnyn7lVrgVGnR+l\n",
       "Dj12STAIAfa5l20sjE8g0yU0i/o7PAb/VjTYde1GMNKW/PdBrMbHaEr3isVO9i31Cds7/gM2PbAs\n",
       "7ZTqWEaYv7nGLPKSLmElAAAAAElFTkSuQmCC\n",
       "\" style=\"display:inline;vertical-align:middle;\" /></a><br>(see <a class=\"ProveItLink\" href=\"../../../__pv_it/theorems/5b0866a75f35367bba6e87bbd6ead575a58276fc0/dependencies.ipynb\">dependencies</a>)<br>"
      ],
      "text/plain": [
       "_full_domain_image_is_m_domain: {b MOD_ADD l}_{l in {-2^{t - 1} + 1 .. 2^{t - 1}}} = {0 .. 2^{t} - 1}"
      ]
     },
     "execution_count": 2,
     "metadata": {},
     "output_type": "execute_result"
    }
   ],
   "source": [
    "%proving _full_domain_image_is_m_domain"
   ]
  },
  {
   "cell_type": "code",
   "execution_count": null,
   "metadata": {},
   "outputs": [],
   "source": []
  }
 ],
 "metadata": {
  "kernelspec": {
   "display_name": "Python 3",
   "language": "python",
   "name": "python3"
  },
  "language_info": {
   "codemirror_mode": {
    "name": "ipython",
    "version": 3
   },
   "file_extension": ".py",
   "mimetype": "text/x-python",
   "name": "python",
   "nbconvert_exporter": "python",
   "pygments_lexer": "ipython3",
   "version": "3.7.3"
  }
 },
 "nbformat": 4,
 "nbformat_minor": 1
}