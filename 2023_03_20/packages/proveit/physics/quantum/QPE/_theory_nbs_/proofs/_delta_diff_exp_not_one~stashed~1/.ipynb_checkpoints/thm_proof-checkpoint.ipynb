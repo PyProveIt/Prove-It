{
 "cells": [
  {
   "cell_type": "markdown",
   "metadata": {},
   "source": [
    "Proof of <a class=\"ProveItLink\" href=\"../../../../../../_theory_nbs_/theory.ipynb\">proveit</a>.<a class=\"ProveItLink\" href=\"../../../../../_theory_nbs_/theory.ipynb\">physics</a>.<a class=\"ProveItLink\" href=\"../../../../_theory_nbs_/theory.ipynb\">quantum</a>.<a class=\"ProveItLink\" href=\"../../theory.ipynb\">QPE</a>.<a class=\"ProveItLink\" href=\"../../theorems.ipynb#_delta_diff_exp_not_one\">_delta_diff_exp_not_one</a> theorem\n",
    "========"
   ]
  },
  {
   "cell_type": "code",
   "execution_count": 1,
   "metadata": {},
   "outputs": [],
   "source": [
    "import proveit\n",
    "theory = proveit.Theory() # the theorem's theory\n",
    "from proveit import defaults\n",
    "from proveit.numbers import two, pi, frac, Mult, Real\n",
    "from proveit.numbers.exponentiation import complex_power_not_one\n",
    "from proveit.numbers.number_sets.real_numbers import pi_is_real_pos\n",
    "from proveit.physics.quantum.QPE import _delta_diff_in_interval"
   ]
  },
  {
   "cell_type": "code",
   "execution_count": 2,
   "metadata": {},
   "outputs": [
    {
     "data": {
      "text/html": [
       "Under these <a href=\"presumptions.txt\">presumptions</a>, we begin our proof of<br><strong id=\"_delta_diff_exp_not_one\">_delta_diff_exp_not_one:</strong> <a class=\"ProveItLink\" href=\"../../../__pv_it/theorems/ba55967d89b57d492d13de79d11d5e0f906854390/expr.ipynb\"><img src=\"data:image/png;base64,iVBORw0KGgoAAAANSUhEUgAAAYQAAAAmCAMAAADzwBywAAAAPFBMVEX///8kJCQoKCgUFBQNDQ0Q\n",
       "EBCIiIhmZma6urrMzMxUVFQiIiJERETc3Nzu7u6qqqp2dnaYmJgyMjIAAAChkoCbAAAAAXRSTlMA\n",
       "QObYZgAABRFJREFUaN7lW4l2qyAQ9S2A7KD//6+PTWUVTHNaX+ScpibVCXJn7p0Z7DQ9aGh9q+kI\n",
       "Mj1vwOWly/g5dJwef5f8kuV5eRwGMxAv+SvrnMDwcUyuoQCfFgsC4JeuW3rrCuIvuejbi34WCCTz\n",
       "OoUYaoUGUIeOIPcLI7rUz+ZJpCh4jepei87/deA19Whl3pKW38J5P6T+MoPK3FB7lcbb11zjs8eS\n",
       "3a1d3ByYquwGWJq8gVJwlvmibzwoFHi+3nS2H3ZXDKKeotBJpix30Tngc0BANeaRmxvyZXUDF3rJ\n",
       "wpFUtGFZwQRefVGaNXgOCKDmcHT7EGEMBRKiTFqod3MiJjCWyMg6WEo0Q9RE43LXevLNbFRhE8cc\n",
       "wryYBTLu7HnEvncguIMJOMJS5j0peWZNxkby1e9vx4fNxNTOaMsHS4SuLI1PPjFwbMImHnJR+96C\n",
       "4P/gQbC0RUzYzGwb6VpxEiltNQlKxUdGmalN0fY0l7MPZiNUksRss0583PxMajWUp6M1KHkT44Ps\n",
       "ZtqrJQRRJMqJ4BoFgJIfDAItPAwvUsrdoZE2nl8DwQszFeb8WoKpFDPxoijSp8JMcB6YIsoOuC02\n",
       "hB2cfrIur+jwQ0BteQUiHner7H4KEHzGyQmsKquBFlOXph4xp3pFdQYCXq33r47kqHpHa+CtsvJG\n",
       "ayvcK1qqIRgvU+dT3zReL9a0Y7RUMgCGT0AQq95jhfHLd8ZJHpxf6YS811o6/I06YK1RfqFMpbyf\n",
       "kko0bfZFDJpa3Pj9176iBgjeQWaXqS0+VteC9XQltfOtL13k3rR6c/hU8rvWMEzVao41Lp6vOx0q\n",
       "qCoZqk5Cgo1n4/q8Aha2ycrRXrDVGnhFIGQgqCkwWuiN5NFX6/Jtra9Yjk5AwAidhfSINaIyIq6y\n",
       "BcKhnSZJ2aGR24EfF7j3lCJERpm1VjYm0zkIaCtFaKxDQirkl0Qu9QB1ra9ybWMQyBivjlhLZ8Hq\n",
       "nRpPZy6RLNgmAkFzOy4Q3dmmjq2yVQ+xymcVEEw5t6Hl4lQzyUMJXwUhtL4CgyE/ZA4CGwRhwFob\n",
       "hIhXXLopXGUMZIeOrolVm7uoCar45nTWLrda8At4ZSBNYVYBq62isy45RywoG+W2bX1FclSLhEEQ\n",
       "Rqy1QTh6o7Pynm4/oLoQ5r1L5Pn1ehby8qjtzMUgbA4iN9Z2BUt8xy0QbOsrkqNwNVyRfAWEnrUm\n",
       "CG6+xKXYf82PDu15Wrj7LgKCAqUV+L7+8VwTdljUCVGQQrY1rqqSWKPitqANg9C1JgCvgwD345BB\n",
       "+Ugo1ziqDBBdv3Nnt9KRQwSsy56GzNumhg5nMmhLQN+isocsLE/WuOqkbSbbMcNRoR4AQfcRxXEp\n",
       "GYHAYKaeXhPKvRr2Uw+XyO7N6TyNABjHaU0jEpLW15cjYcBaMxL8fA3Yf34HyOvZ0aR+auuk35ou\n",
       "prZOxrUUPteEtPU1AEK8z8HthTy6esRaUxPcfJNq225HlnXCsYf23YHQL0jyze8JKetITJ6CkLa+\n",
       "uiBwQ8IEHlLK9x7+sLUmCH6+IT0NKKiaxBx9i7sFQnNmMGhCOzsaqTTf6E/LueEBf2M/82hJ/9EL\n",
       "2X/i4/8AYWCSt91PR/3Jp5J4rdB830TbvSO/wAPbUWK96Z4VGJgXhz++/Y+zPT/0khV4zyeg4YOe\n",
       "eHHp7C1n9awngvUdQwE+7T8U2P0eOOSAPwwEQfHtZiSnpw1Ob+Z3TE/PG/xeoSC2Uu4fIck+y1Pg\n",
       "MvYAAAAASUVORK5CYII=\n",
       "\" style=\"display:inline;vertical-align:middle;\" /></a><br>(see <a class=\"ProveItLink\" href=\"../../../__pv_it/theorems/f314fc7ff7d9090c883a8955398ac74f47f597840/dependencies.ipynb\">dependencies</a>)<br>"
      ],
      "text/plain": [
       "_delta_diff_exp_not_one: forall_{l in {-2^{t - 1} + 1 .. 2^{t - 1}} | l != 0} (e^{2 * pi * i * (delta - (l / 2^{t}))} != 1)"
      ]
     },
     "execution_count": 2,
     "metadata": {},
     "output_type": "execute_result"
    }
   ],
   "source": [
    "%proving _delta_diff_exp_not_one"
   ]
  },
  {
   "cell_type": "code",
   "execution_count": 3,
   "metadata": {},
   "outputs": [
    {
     "data": {
      "text/html": [
       "<strong id=\"defaults.assumptions\">defaults.assumptions:</strong> <a class=\"ProveItLink\" href=\"../../../__pv_it/theorems/e09839f6253e52e8ed49f17fdb085df19e51ba1b0/expr.ipynb\"><img src=\"data:image/png;base64,iVBORw0KGgoAAAANSUhEUgAAARoAAAAcCAMAAACJQ4AhAAAAOVBMVEX///8kJCQNDQ0oKCgiIiJE\n",
       "RESYmJiqqqoQEBB2dnbc3NyIiIhmZmbu7u4yMjJUVFS6urrMzMwAAAA4XNDrAAAAAXRSTlMAQObY\n",
       "ZgAAAyNJREFUWMPtWdmWoyAQZWZA9vX/P3ZkUUERqxPj6TnT9RATO3Krbm4t0Ah92jxBT9mDUF82\n",
       "4w/eKoUfwvoIlHf3rKND56b7DDU9rLug5MaMvcldip+jpod1F5RbCTEa+MikpsFfhcJG+Weo6WMt\n",
       "UF5J/dbyvMSpJFDChl+lP31ONT2sDcoxDyShzyFOt0VIF4nDxWpTOKFMKULSs0F8mpoxVgWlzL5+\n",
       "dOMTzde4nHj+klTpsxpHvj3Yj1HHxORhruSeZQfJYhpKDWWwBNhjnUMdne3GZ91OiBqLrJf4yooy\n",
       "FXmNGpW8YrOr0iItAKqhchcvtwFGzQXWkJpefKK+NyW2edYRpms+zYCtwxPBs5lrali6bWeBz0WL\n",
       "Q1oJlcdfFEbNBRYdUcM6JdXWOUZSX6LZlUhk5ipS5Ju58ljjT6gxaS07P+6t9J1WEqy8i5ohVgN1\n",
       "cFZ0Sk0jGhQSNS6kLJJsq1dNKupeP+ejooEDvF2+Tg0cizNAqSG+mSFVpkbmi0akMGdrBm2v1Vgz\n",
       "GJICR09RA8I6MFHHx02yP7/jq1pllZb1mRo/i8zYTiqSbhcZNHf8lYH6TWpgWGvI56WmEc1Mjcqc\n",
       "8PzJIZyX8PWc4JlZbCs+WCzJVllZXCnggJUewnl5+xo1UCyLazL8cQ7a7Y/ahNIzNYVdyU7L0/WA\n",
       "KRVCT6kGimXawCU7imZHVigdii6qyS0rXirvWPdnOBt8aPRWiEeogWLta00TXxLvr5IaK4W56hZX\n",
       "ospKwGGq54TutuqsQ/n0oHyEGjDWvkO18SVZ7RdpRr7YoYrSgtO1w5iCqRGYc64sfiehZEONDubw\n",
       "7qtYxdl1gV18c+zHxIxB61I2Ik8uezUp3g7vxGnoyJfsDWqUZcHU5x1bD9p1IzjW4izOe+h9fN2T\n",
       "GM2lXObjtK1g/SM+xwlso/DCKZREH7fVWarPa9aoikcfFXRY4+yukwX9IDUn0V0c3+mUSx4a8eWp\n",
       "xXeyZf+j+wqlF3qYciJbCj1Y4/8MM24pE9NLokHYl/EWXCSGZ8Pfx67Phi/+hTJxYEn676zaDVD3\n",
       "Q0dTqPQPB0P7CyF7JbHH5ReIAAAAAElFTkSuQmCC\n",
       "\" style=\"display:inline;vertical-align:middle;\" /></a><br>"
      ],
      "text/plain": [
       "defaults.assumptions: (l in {-2^{t - 1} + 1 .. 2^{t - 1}}, l != 0)"
      ]
     },
     "execution_count": 3,
     "metadata": {},
     "output_type": "execute_result"
    }
   ],
   "source": [
    "defaults.assumptions = _delta_diff_exp_not_one.all_conditions()"
   ]
  },
  {
   "cell_type": "code",
   "execution_count": 4,
   "metadata": {},
   "outputs": [
    {
     "data": {
      "text/html": [
       "<strong id=\"exp_expr_01\">exp_expr_01:</strong> <a class=\"ProveItLink\" href=\"../../../__pv_it/theorems/daafdf91fcd36831c9b4d45de4ac6bd0de106d890/expr.ipynb\"><img src=\"data:image/png;base64,iVBORw0KGgoAAAANSUhEUgAAAGQAAAAXBAMAAAAPevcIAAAAMFBMVEX///+qqqq6uroyMjJmZmbM\n",
       "zMxERETc3NyIiIiYmJh2dnYiIiIQEBBUVFTu7u4AAAAuEbc3AAAAAXRSTlMAQObYZgAAAbNJREFU\n",
       "OMtjYMAJKlG57DtBJGMBbg0MfAloAqlg8joeLczo5h0Ak4+hPC43PyQ5ngUgcgoDA6u3HZLDILZy\n",
       "NUC4yxkuI2nhUACR24HSDAoIUc4FEPdCLANKx6M7g30DUO8EJAEWqHYjCLWJoV4BTQuHA9DEo0gC\n",
       "3IwQeglMQP4B0GD7//+/gjwOMpwNSDCuRtLC1Q6hJ8MEdoCsDu3zewDTwi3AwHCPZwJmSErDjHBg\n",
       "eMLwgKMA6JonQC18Dgw8CgxcE3gdYAr/QwCQFQ8VAYZoTAEDG7sDiGaewHocpIX/AW8DUxoQ5EFD\n",
       "5AIDQgvTAqYAIFXGBBaEOYyfgRslUDjBUaIN4QQLioE84cl6gAHJ+9wPguHKWVelM6z2hHr/7ekF\n",
       "DOfBrmTYB4QwLUDfsd9YB9fCxhDNwA1meTHwnZ5xFlsSY9qAmuIY3kOTlykD7zmG+gfY9GzHCFwR\n",
       "TlCC2cDA3wCONUwwBS0vmDOUtEOSZTwwtBdg08KGmureQp0CdF389PLyB4SzGJ/fKwgjnQHkMGIy\n",
       "Mvf/35C4AdrNco6BAV9+xmb/npVrGkjTwsCy35I0DQD7XmrLMSeGUgAAAABJRU5ErkJggg==\n",
       "\" style=\"display:inline;vertical-align:middle;\" /></a><br>"
      ],
      "text/plain": [
       "exp_expr_01: e^{2 * pi * i * (delta - (l / 2^{t}))}"
      ]
     },
     "execution_count": 4,
     "metadata": {},
     "output_type": "execute_result"
    }
   ],
   "source": [
    "exp_expr_01 = _delta_diff_exp_not_one.instance_expr.lhs"
   ]
  },
  {
   "cell_type": "code",
   "execution_count": 5,
   "metadata": {},
   "outputs": [
    {
     "data": {
      "text/html": [
       "<span style=\"font-size:20px;\"> <a class=\"ProveItLink\" href=\"../_delta_diff_in_interval/thm_proof.ipynb\" style=\"text-decoration: none\">&nbsp;&#x22A2;&nbsp;&nbsp;</a><a class=\"ProveItLink\" href=\"../../../__pv_it/theorems/ce7191f9ec2ff8895c913e878e4f11d7c34058290/expr.ipynb\"><img src=\"data:image/png;base64,iVBORw0KGgoAAAANSUhEUgAAAZMAAAAyBAMAAABrBSutAAAAMFBMVEX///8QEBCIiIhmZma6urrM\n",
       "zMxUVFQiIiJERETc3Nzu7u6qqqp2dnaYmJgyMjIAAAAcRTyBAAAAAXRSTlMAQObYZgAABkZJREFU\n",
       "aN7VWl1oHFUUPrvZ3dmZnd2NorUt2q6KhT7tmpU0tEiCIhYRuy1YX4IJ/uAPoYlWrJZgV4tm6w+u\n",
       "CrZ9ythAHvKQH1LRWmlWU/AvkMW+9EUTCUWokAab1CZtWGfmnrs7f3dmdt1Z8D7knuycM3O+e+75\n",
       "uWcGwOtxnkxihx2T0G35s69UKriQGoaGDBF1mbFne8IaypmTkgupwHxDoGwjk7+bcd1/JKNMUUtt\n",
       "fBn7m1Op3xuBJNJM5gkmxxyZPnQBZUIy0igVLjQAyhfERYTbmBxtOkYbKEJPr2SknW9fv3EUly3F\n",
       "5LhVbz47q8xJRtrZ6PXbX2tknmJ6L7+CRH8tUKgU5/0O49AaB9meu4TEVL4WKCgVWfUcyhx5UpT9\n",
       "pFDWgLo6KM5rVa/xBqqZZXL4EtQ8a7VAoVJzksdIgstk7mKn+i66r4S/a4FCpcYSHkNpwgBzP5vl\n",
       "7jK1WAsUKhXzOuH7MMdvYLO8J1Aqma8FCkr5vfb7riLZZ+tslnWRUoPFWqCgFL/uMRQXS7Z8ymhC\n",
       "NpSkZKZdGL4u423M9egyD31pZrlQTm7hPgcorVsXiiaaSg0AqO7ym0dQNqJGJBZHT39sV+mKS1VX\n",
       "xhqpWYBflPmyN0iEqxgpSR4LgWBbsa/UAoVKzWXghOIzWY/SCgb9LhL0xaIr7uqgaJ4Rk91HHPeo\n",
       "mLyB5RW5f2DVlQ0hOnDoLddQNJaP/jwyctwjV9EYXx1/2rNfw3V+R6rCKlQqLkey67lcv0dQaBDG\n",
       "mHwqaV+KXyfTqFTNBqNScdlJngc45izwsivdQ/qiTsRab1b9OXg5vGQrvYVML1XlK1TKJ4fih0GY\n",
       "B6GXXuks++b0UQk+p79urviZPkaIbTuBxzQV/E7WeV/F8ZoQSjs5vGYsYpR23EGmbHVQUMon5xcO\n",
       "/LL2j9JDXVlnMR+ah1/pf4fLSNL6TPYTHIAoLUs5ReeeipHQCr14iA8qUIRFdShKxks4CN8r5AFb\n",
       "lMsVKKMq+yUADSeYpIBrVkIkp5hAfsa36SJEyhUmlw+uigeLWighNQ7pobwpl+k/PKiFco4B5S4I\n",
       "rtmuL1GKr9IqGij8/H6Z+gjg4pkR0ELp4JehT2eVsAWU12CwgwNrKLoNJqxAtM9WqUNkaq4OCkpx\n",
       "yr2PPSf/WYWAmpIj89oeg+JF6XR6lw0UpQUxCjAks40boYgYwWbVCLYC4aIbB26p2e1hUtYt2Awx\n",
       "MELhEpFU0ckqAK/CZNTaKn5086Sq0few21qZS6ArbrlxWyhjhkPWBk2FHJed1p+FIbK9NaF/GvgW\n",
       "PA7tuzrOgiKm4LPtGBKSu5RIVT5CRfE8PKeeh8V7rJthAg3RmLeFFx+zg8Id1v+PUnHl5lF5KcMJ\n",
       "eCqXyyWCSgtut0zlJIgannxg8Y/FxaIJygVTVVTOuBGEMsU62gvpXAYieEPhJv4a+NG6cBlqe1eZ\n",
       "vtHQFakxagPfkyQ8aa3yODxieLKVVQKFgGHpKlahp8culo8Mg7jM71jIuConhW6YVdakoKFNJats\n",
       "Hj+IGb2vBP86+74VFFzEExKvXn767NeGvs05a+NbjZ0At0BsXF98sqA0SeCTo5uQqNDmklW+dB7g\n",
       "Az0UXzkf6aDwO66p+Pfmg5uUeWupBEwouE+4eXam7s3H8/p4x4Ii5/OQzBLV0KYoSeON7Cu6CGYa\n",
       "YVeFmAZKOy4Uq/a6IkFvZq8hobKgxNYgtGKi9WlYd8SoKxRDC9FqHJG2CXntsdnu6MWtmWgqtdEc\n",
       "UzbZKMm7gtKjaR6RDRy8wWQO3IQWbB8NJhyh7CmYaJTiLXqbnxb/4yGlc7yalh7XDfvvc9vSg9fN\n",
       "dKNaetRJ2pkc6Qo54NhobUqZ6QFm56m+I4A5cg8rR/o1yjm3v++1oFEqnvAYCn3twbESyyTwdFv5\n",
       "HV9KRFJw0khTqaTkNRSHEBYsgD/P7rMaoHQCbDfSjeqzyk/CkHOn9eXjM9MvlM8KTi/w+P6Z1j4j\n",
       "3bgXeA6vVa+USv9QegEcoMTkM3CfkUapWMpzKO4fFdkMjm7PlpqQvIfyCVGGv92J0fkTBBuphnyC\n",
       "QA8jXzkxPgu1QEGpUAP2F0ArZrRuh55sthYoVOpiI5BACHPXM/Zs/4ePqOABNEuHHZNg3ch1+rQN\n",
       "pYZVvP8CkHzypk/4fqoAAAAASUVORK5CYII=\n",
       "\" style=\"display:inline;vertical-align:middle;\" /></a></span>"
      ],
      "text/plain": [
       "|- forall_{l in {-2^{t - 1} + 1 .. 2^{t - 1}}} ((delta - (l / 2^{t})) in [-(1 / 2),1 / 2))"
      ]
     },
     "execution_count": 5,
     "metadata": {},
     "output_type": "execute_result"
    }
   ],
   "source": [
    "_delta_diff_in_interval"
   ]
  },
  {
   "cell_type": "code",
   "execution_count": 6,
   "metadata": {},
   "outputs": [
    {
     "data": {
      "text/html": [
       "<span style=\"font-size:20px;\"><a class=\"ProveItLink\" href=\"../../../__pv_it/theorems/e7c38d3fc343e3e581944f4f22b05416c0696da60/expr.ipynb\"><img src=\"data:image/png;base64,iVBORw0KGgoAAAANSUhEUgAAANYAAAAZBAMAAAC/c818AAAAMFBMVEX///+qqqoyMjK6urp2dnbu\n",
       "7u5UVFTc3NwQEBBERERmZmaYmJjMzMwiIiKIiIgAAABu1cpWAAAAAXRSTlMAQObYZgAAAddJREFU\n",
       "SMdjYCAFnGQgB5Cii+kAlHFqLc11xcNZtjTXJUtDXbs2oHCrLq0hwy40XaeeYlUV5IAmoEiWv9B0\n",
       "WYCi7+0fNEX7kdhRK+cwMHwn1S5surgUgAT3BzSVvggmawKDvwFPAwPzTCCYis0uxlZMq7DqYrkA\n",
       "snACbru4Ahg4GvgSwjH8xfgAQoe5fcW0C6susF0cUG07795VQLeL4wID23euBw4YaQtmFwM3Fruw\n",
       "6gLbVQ/JcyefYvEX01cGtj88ebBcWXU/jxi7sOoC2wVJCqyq2MIQCHi/Yot9vHZh1cXSACQywUy2\n",
       "ArhoEooaewdy7MLUBU6CfWAmJ8KYHhQ11xjIsQuLLi0GBh5IPjihBASgtMEzF+hDViUwAIY41wJM\n",
       "XSxKSrpNSkoJuO3CpovtHgNfA5hVCRdjRvHXKwZy/IVNlxow8BICwOkUIZiJbOYChnLS7cKmCxRf\n",
       "/BvA0cj1AGs6PMLA8Jx0u7DpAqVDflOItovY7GK/4rLsAl67+CB2sX6CEbh0gfIX9xJoaTM5AEte\n",
       "/v//P167uDI+rUYkvGt4dLEgi5jMxSyjcALGB6Q2OliwutmDCJ2sAdSxaz8DLQCXAtYGkAMt7LIw\n",
       "wCostYH6VoHaGwDlLJxytAEAzgAAAABJRU5ErkJggg==\n",
       "\" style=\"display:inline;vertical-align:middle;\" /></a> <a class=\"ProveItLink\" href=\"../../../__pv_it/_proof__delta_diff_exp_not_one/5dbe1202e99679564978c6aa84138849d878dee60/proof.ipynb\" style=\"text-decoration: none\">&nbsp;&#x22A2;&nbsp;&nbsp;</a><a class=\"ProveItLink\" href=\"../../../__pv_it/theorems/46599f34c42e902f3e5790c076ccfd54d81decec0/expr.ipynb\"><img src=\"data:image/png;base64,iVBORw0KGgoAAAANSUhEUgAAALwAAAAyBAMAAAAU3awwAAAAMFBMVEX///8yMjLMzMzc3NyYmJgi\n",
       "IiJmZmZERETu7u4QEBCqqqpUVFSIiIi6urp2dnYAAABBmyukAAAAAXRSTlMAQObYZgAAA4hJREFU\n",
       "WMO1mM1rE0EYxt9sssnma9MWLN6aqwg2UDw3/0HiIUIR2hw0VVpsEIoX0e1FkAq2YkGpH0VR6EES\n",
       "EK2CmKLoRSH1ZA9Cc9KD0o9Ea6g1cTMzuzutOzO7C85lZjbP82Py7ny8swB6UVeAU5Sy7eNwu11z\n",
       "5loHbvloj38woDlyxcoMxds6qgJdtvgkf1Cma5Gp2MT1RTE+cpPqLGqUS7nDwgeLuL6yIsJPf2ta\n",
       "UX9V0ShXKM/Ch5fJ0GaEow80qU5Go1wl5hsaNAjDXvDEdZz5djJGo5TygkeuQIOJXzIact4LHrnk\n",
       "IhN/29bsGI+e9TOXrGT+L2XXCx65zjAHH7MmTLcXPHLNM/GhsjmnqikveN0l/WDiE2lzzxpMe8Hr\n",
       "rhh74iRWl01WWYCP0fiqZrpCJMCf7/+75Zy14pTl44Mvtk6anbF7vWnDFcbzMvD4Em8HVDdd75jY\n",
       "dQ2vmCgo3N217gWvu/pxfNU0VyjtesHrrtICasUbXKGybQxoMnfMMV53ZYjqAF/5m4znguZi9LqL\n",
       "LJir1RpX+AtXU5qb4OiuDWSQDoY2ucJZXD1xFXvdNYEPrqTN3KDLHK6K7vBzUEH1KEgd/FR3p/Sg\n",
       "JdsmBf+rIRz62c7vJl5B8u4kERPmHhfG3wCpyR0Hxvtdjn4IB0epQyDLFeZwNeMOn4MNNHPqEEo7\n",
       "ebXjbl9tFam+wyd7QQ+pyakgL/Dwyta+B/OQQWeh+sE+2VGM6UpWrbK0yht9bl9Osw0l1lGrFM4n\n",
       "IULeiNIiT+NfbTcFJNYzJ4S/PHrOdPWzYj4N6h//qd6koy2tI+4EgaTeGyuGK8FKAU8D3AIfiXVk\n",
       "h49HYn1rQUeLBuEZwyV3sddpJZUgR7ja4OORGABFIpyFaMNwBVl7TZ8GleQh0okKTiskJm1fE6J1\n",
       "wxXgrNYR7b2Chx8uCo+TEWrWyE3DJe0w6fEWjKskpVgW4eMtqrNWM13sNEouw+HXDtOojtgqJyzX\n",
       "BBNfsJqTwrtVgU5L8pZrjbWuYtSUFaawtBjeUS6ZNfEfgT9ll4PZ4ikxRPIwYLpYU0eqQSzFzgH3\n",
       "4mkxHAF4Y7nu2uOPrn956vjyQ4v9w+tjWcvFuLr1tds/jXav6OpGi336WZi1XL686FTYcyd2fJwQ\n",
       "l/+6CC++NvNcD0X4Z16+KZiuYFmQ6BY9fbIwXS//6wcXCPI/Fz339LkIuf4C52oa0VlmgGYAAAAA\n",
       "SUVORK5CYII=\n",
       "\" style=\"display:inline;vertical-align:middle;\" /></a></span>"
      ],
      "text/plain": [
       "{l in {-2^{t - 1} + 1 .. 2^{t - 1}}} |- (delta - (l / 2^{t})) in [-(1 / 2),1 / 2)"
      ]
     },
     "execution_count": 6,
     "metadata": {},
     "output_type": "execute_result"
    }
   ],
   "source": [
    "_delta_diff_in_interval.instantiate()"
   ]
  },
  {
   "cell_type": "code",
   "execution_count": 7,
   "metadata": {},
   "outputs": [
    {
     "data": {
      "text/html": [
       "<span style=\"font-size:20px;\"> <a class=\"ProveItLink\" href=\"../../../__pv_it/_proof__delta_diff_exp_not_one/078f5a3075103d3e1c11b78b5e0ff7e63f992ce90/proof.ipynb\" style=\"text-decoration: none\">&nbsp;&#x22A2;&nbsp;&nbsp;</a><a class=\"ProveItLink\" href=\"../../../__pv_it/_proof__delta_diff_exp_not_one/10b28d54a7cf8170525ab41b0cb7eadd1c354c390/expr.ipynb\"><img src=\"data:image/png;base64,iVBORw0KGgoAAAANSUhEUgAAAF0AAAAUBAMAAAAdCCxUAAAAMFBMVEX///9UVFTMzMx2dna6uroQ\n",
       "EBCqqqqIiIgiIiJmZmYyMjJERETu7u6YmJjc3NwAAAC+aOQFAAAAAXRSTlMAQObYZgAAAYNJREFU\n",
       "KM9jYOC7wIAJ2B4w4AKnGRh4Zu5WQBOVQ+PfiN6/Khps8joGhoMMzF/Q5E+hG7vgIIP27QMMDLwT\n",
       "GBjmMDCEokkzF6AJbHjMwM0nwMDAAXRpBAODPJqDeQIgNO+Oji6Yes4HCxgYXgDZ6w8wyKN7YAmY\n",
       "ZNp+AGE+54MNDAyVEG4/TJyh9P///z8ZGCwh3jiA5B5GFqB79oJ5LJ/hDjdKf1sHdNwttGACqs+Y\n",
       "BdTdBuZxCIBIkGFqDHbsILdlQFQh1D/t6EoA0iFg3kywH39BZBhB+vTBzo9aBQRQ8z25D8DUs08A\n",
       "izWC1QhwMMDU8yGZ/5jTCcQDuyeTgQ8enpwX+EHmeIA5Acju33OdAeJfJgMGdrj68wf4HRhg/p2O\n",
       "rF6RUwESbi+MLSXgEhUMrAZAajIkHBKQ0gNzghDE3vX///+Aq9/GwAhSvwgSzdI+8PS2iGH3+gRw\n",
       "esACeBogNIs1ND3AAO8ErOox0hsc7MMqegpffiHaFHCcYMuPvLjyIwD8Sm6jloKg7gAAAABJRU5E\n",
       "rkJggg==\n",
       "\" style=\"display:inline;vertical-align:middle;\" /></a></span>"
      ],
      "text/plain": [
       "|- (2 * pi) in Real"
      ]
     },
     "execution_count": 7,
     "metadata": {},
     "output_type": "execute_result"
    }
   ],
   "source": [
    "Mult(two, pi).deduce_in_number_set(Real)"
   ]
  },
  {
   "cell_type": "code",
   "execution_count": 8,
   "metadata": {},
   "outputs": [
    {
     "data": {
      "text/html": [
       "<strong id=\"exp_expr_02\">exp_expr_02:</strong> <span style=\"font-size:20px;\"><a class=\"ProveItLink\" href=\"../../../__pv_it/theorems/e7c38d3fc343e3e581944f4f22b05416c0696da60/expr.ipynb\"><img src=\"data:image/png;base64,iVBORw0KGgoAAAANSUhEUgAAANYAAAAZBAMAAAC/c818AAAAMFBMVEX///+qqqoyMjK6urp2dnbu\n",
       "7u5UVFTc3NwQEBBERERmZmaYmJjMzMwiIiKIiIgAAABu1cpWAAAAAXRSTlMAQObYZgAAAddJREFU\n",
       "SMdjYCAFnGQgB5Cii+kAlHFqLc11xcNZtjTXJUtDXbs2oHCrLq0hwy40XaeeYlUV5IAmoEiWv9B0\n",
       "WYCi7+0fNEX7kdhRK+cwMHwn1S5surgUgAT3BzSVvggmawKDvwFPAwPzTCCYis0uxlZMq7DqYrkA\n",
       "snACbru4Ahg4GvgSwjH8xfgAQoe5fcW0C6susF0cUG07795VQLeL4wID23euBw4YaQtmFwM3Fruw\n",
       "6gLbVQ/JcyefYvEX01cGtj88ebBcWXU/jxi7sOoC2wVJCqyq2MIQCHi/Yot9vHZh1cXSACQywUy2\n",
       "ArhoEooaewdy7MLUBU6CfWAmJ8KYHhQ11xjIsQuLLi0GBh5IPjihBASgtMEzF+hDViUwAIY41wJM\n",
       "XSxKSrpNSkoJuO3CpovtHgNfA5hVCRdjRvHXKwZy/IVNlxow8BICwOkUIZiJbOYChnLS7cKmCxRf\n",
       "/BvA0cj1AGs6PMLA8Jx0u7DpAqVDflOItovY7GK/4rLsAl67+CB2sX6CEbh0gfIX9xJoaTM5AEte\n",
       "/v//P167uDI+rUYkvGt4dLEgi5jMxSyjcALGB6Q2OliwutmDCJ2sAdSxaz8DLQCXAtYGkAMt7LIw\n",
       "wCostYH6VoHaGwDlLJxytAEAzgAAAABJRU5ErkJggg==\n",
       "\" style=\"display:inline;vertical-align:middle;\" /></a> <a class=\"ProveItLink\" href=\"../../../__pv_it/_proof__delta_diff_exp_not_one/0dc89643a7bd5abbb5269631f01e564719addb3a0/proof.ipynb\" style=\"text-decoration: none\">&nbsp;&#x22A2;&nbsp;&nbsp;</a><a class=\"ProveItLink\" href=\"../../../__pv_it/_proof__delta_diff_exp_not_one/030076b5503509d23beed083bc6659902e9eb49c0/expr.ipynb\"><img src=\"data:image/png;base64,iVBORw0KGgoAAAANSUhEUgAAAOcAAAAXBAMAAAACSEUKAAAAMFBMVEX///+qqqq6uroyMjJmZmbM\n",
       "zMxERETc3NyIiIiYmJh2dnYiIiIQEBBUVFTu7u4AAAAuEbc3AAAAAXRSTlMAQObYZgAAAxZJREFU\n",
       "SMelVk1oE0EUftl2s91sslEQBT2YkxcvxR9KD+riQayVEqheVEgvWrzIHqRBSm0QoSgiAQstPS0o\n",
       "2lqR+ANakbYIorZYCwr2UMpCSw+21YAI/kDjm53dZHZ2kib0hX0z83be971582ayAOVEyXLjMaJD\n",
       "JlQtV7hxt4O4o5LLMm847+ivVXPqHZwhnCQ6VinsJt4w6ejFqknrePQojaXRHUaOtTEvp4hSDQC5\n",
       "9TCTXhp4JCMiiFoBFOjH59Qzu2Toos2wO3wAn5nZ14jSMM4IJEpW1aKBTopIGxIBFHiBjyUxhiHa\n",
       "rBbfp/hcdBMotpbq3QD2lc2nH0XJobrBvj/qpt0Fegq9CQ7hOlnVW8aghWh7ryypH6XBIKtKMu9z\n",
       "W+gGGZ5hN+ZeOVIo/MJ+MzFcJOdjlHGJ9NH2jrBosgGUMDHtzDGThmkeVK+S4CVJ4OnbbbZH+gSf\n",
       "hWg2iL+rAimLouG6YvaH4NyQFwgueQnsBtMA3UDSJYA3aMzGvEzEC47ksZsSk6KfHyWKqR6BL94M\n",
       "ClDAnpwvlfc5E8KKAfI7JMU+ksbtWEa6gHKJTupxdBlS9POjENJ1mIM9BIEeHGUWGFLJksiOd0mO\n",
       "1UtvHDRfeQ06em/Z9PpRSHrzWFyMqM4Zl9z0tm/dTmJpkSeBKSTNbi/OP3PfjDzPVi4kPwoppHG5\n",
       "WDTyw04YbfEKaW3agk9OsmEcfx4pngxl7nERtUPOAY3wROCOnX9FSf0o5GT03CxeSGE4Cxo98Bbo\n",
       "04MfRbFzWWzU8+6leZCfuTp2a1YAIOX8uYAf7r1dl4TYDPTaAh/N5As9ZJDl6BTr7n4iB0h33lbW\n",
       "xRcUf9a2qaRdwWrJ0GPMi2r4x4umctwUXvi/6U0SkH5uF5rgcp974afw8Fgin06/y4JHzs+TEeCv\n",
       "CCDsz9Wam0+yS6mBdNre+E986bslioWQ/kmnr278J663fSvFEs9U9bkyUaB7qbrh0z095Ka3is8V\n",
       "rfCPdgZIAc8A1PDdI5CTNig1uuivRx5lNkW6MjX0vlaf+olm2Jy0/szW5vAf8VnlXPMSjhMAAAAA\n",
       "SUVORK5CYII=\n",
       "\" style=\"display:inline;vertical-align:middle;\" /></a></span><br>"
      ],
      "text/plain": [
       "exp_expr_02: {l in {-2^{t - 1} + 1 .. 2^{t - 1}}} |- e^{2 * pi * i * (delta - (l / 2^{t}))} = e^{i * 2 * pi * (delta - (l / 2^{t}))}"
      ]
     },
     "execution_count": 8,
     "metadata": {},
     "output_type": "execute_result"
    }
   ],
   "source": [
    "exp_expr_02 = exp_expr_01.inner_expr().exponent.group_commutation(0, 1, 2)"
   ]
  },
  {
   "cell_type": "code",
   "execution_count": 9,
   "metadata": {},
   "outputs": [
    {
     "data": {
      "text/html": [
       "<strong id=\"theta_temp\">theta_temp:</strong> <a class=\"ProveItLink\" href=\"../../../__pv_it/_proof__delta_diff_exp_not_one/045d832113eef2a93ff6c0d460a66a009821e86f0/expr.ipynb\"><img src=\"data:image/png;base64,iVBORw0KGgoAAAANSUhEUgAAAIgAAAAyBAMAAAB1xY5yAAAAMFBMVEX///+YmJiqqqqIiIgyMjLc\n",
       "3NwiIiIQEBC6urp2dnZUVFTMzMxERERmZmbu7u4AAADrYmUNAAAAAXRSTlMAQObYZgAAArlJREFU\n",
       "SMetV89rE1EQns02iZtNXvIPSAqCCiItiBbsIT0UL1IbL17bk6IgURR/QinoUWhAPBSRBgRvmsWL\n",
       "4KXBg6AIFgS9GBvooeAlqbXSusZ19+3b7QMzM4v4Dvve7rf77b6Z+WZmAZhhzVOoaECSsUjDd5Nw\n",
       "mNirzJoTTMZEApIDKFIOpzc8h7iBQp/DaX2eJcmvoNCVcEpdYklGOhiSdtXiPEtyEUWMXvSeKsNh\n",
       "bKFQrqUWmRWGJNNCoexo9KLfDMkybvrlaBdikyH5hENj8WqSIbmFQ29FtKrQlrU3cGzDilYzJVo4\n",
       "uHNgey02Ma3kvIrGO4f+xvbW47tmQbTfOagbQw8bB987VMbpwVewtjG4G8ZRDgQZkS58AbiOxkIY\n",
       "UBZtOXsTrgE0MR+NDMtpzxadLvow3YEmtuOyAk7Q0fQzONRivY95ntffRVUYrVXqJMmv4Gt3Yjs/\n",
       "3Hf6qLa3Jclun8r3SJKrgVRlsAT3P4cHptyB8saqJFl3DJck8c0KbfnYd3neysnnumEOb6pkagck\n",
       "YlKO4CVFT43wC8/5sR0GwwX55Y1MmEcaGsllsOmU4ZMchnRshkKpqCdVuR3hgjFLkpwFuw5mTNLt\n",
       "FPU0tCQBF/IlxrBnFh89iU+PQVb3ZkVa+T7cG/zwyTjrTHvej/jyK8jpJGX5WdaRwalYRI7v01UH\n",
       "S7FS+illKbFD52nMFoH00x+nnEiA1ChiJUVKf2hYFdJvdNmZwGO0WS0qp1q0yAuYZqT0X0S1kFYW\n",
       "VdxqneOiqidRNGfhu/Wl/0EVjZnRfy1evrpejicqXrCKIu3d5WumjC5g0WZqzucKOtp7aNI3udYC\n",
       "c48u/SzbD98cfFmXPttuYY2fLv0ptvEb4hoySM2xJOnb3B0JmmHYz93wNEFvX2Bsb7SS/GY8/g+/\n",
       "KlCgf5qeBcc/zQW5Rqr5ptMAAAAASUVORK5CYII=\n",
       "\" style=\"display:inline;vertical-align:middle;\" /></a><br>"
      ],
      "text/plain": [
       "theta_temp: 2 * pi * (delta - (l / 2^{t}))"
      ]
     },
     "execution_count": 9,
     "metadata": {},
     "output_type": "execute_result"
    }
   ],
   "source": [
    "theta_temp = Mult(*exp_expr_02.rhs.exponent.operands[1:4].entries)"
   ]
  },
  {
   "cell_type": "code",
   "execution_count": 10,
   "metadata": {},
   "outputs": [
    {
     "data": {
      "text/html": [
       "<strong id=\"theta_temp_over_2_pi\">theta_temp_over_2_pi:</strong> <a class=\"ProveItLink\" href=\"../../../__pv_it/_proof__delta_diff_exp_not_one/42e358200d376bf3cb86a0518647c419503e06760/expr.ipynb\"><img src=\"data:image/png;base64,iVBORw0KGgoAAAANSUhEUgAAAIAAAAAxBAMAAADghrwoAAAAMFBMVEX///+YmJiqqqqIiIgyMjLc\n",
       "3NwiIiIQEBC6urp2dnZUVFTMzMxERERmZmbu7u4AAADrYmUNAAAAAXRSTlMAQObYZgAAAopJREFU\n",
       "SMdjYCAHvPpArMod2IU5EkAkM2H93Auwi3NeABuzgKABLA+wi/MIgKmJBA24DLLHaAOGOH8AmGID\n",
       "m//2zmlc+ln/AQmhnt8YEtshFDPIJ3wLGOY3MODx6gIGTH/YQC0ARQbvAwb2AhwGsCvg8OhhKJ0E\n",
       "UpTAwPUVhwHxILv7AzAlqqHBcgcU0P8YuH7jMEAcHBMJmBIfDCC0OYRi+weTYK7/////Bbi6K6Aw\n",
       "Mv6JacBNaKj1Q4KnfwJMYuYmU+FQhLozQLzlwXnc0bwf4pUsEMEHSngKnAHWDDAeA4MXkFHNIL8B\n",
       "pwHxYJfwgt383gGcxBjWMSB4uUDJAxBrnriAgDdI9D8UgJSBDbCFBAQ4Ye9iSEDi+QIjSYBh/wP8\n",
       "LmC6wIDw9kWGf0jyp4B2bGAQQ9c29+wDhihIGICieCcDgylMiu8fww8klWuAqX4Dw0H09BnA5cAg\n",
       "DI8F1syZt+AxzZzAUImkFBjNnAYcB9AMYAvg/sqZKwBLKCzA4IAbwKPAsBJJKciCybboPmBrYP0B\n",
       "Dao7BHIzO45cxvSPDxxLDM4EDOCdgF2czYDpggAkyAiUaDiy6VwG1sug8GckWKYtwirKCMstbBsI\n",
       "GfAEq2gnQzeEIUmwTGS6gM1jTkrnIAXSAcLluga2uPn/H1Kv8D5gGB7gP4WAYRTQDvDdPbOBIgNe\n",
       "MXD+oMiAewwM5RQZUMbAsD6AEgP8HzCs30BhOObDc6s5MMn+JVk/B7xa55ytHGhKun8g1SPIFZsY\n",
       "pjKT4Z274OTwBcw+wEV64cN8AdF24F7ARroDdBlY4d7mFeAn2QXcExiY4Qa8f8DfQKoBYTPnLoNz\n",
       "zBjYJ5CckP7//wbnHGLgwmkAANE06cRgm5HEAAAAAElFTkSuQmCC\n",
       "\" style=\"display:inline;vertical-align:middle;\" /></a><br>"
      ],
      "text/plain": [
       "theta_temp_over_2_pi: (2 * pi * (delta - (l / 2^{t}))) / (2 * pi)"
      ]
     },
     "execution_count": 10,
     "metadata": {},
     "output_type": "execute_result"
    }
   ],
   "source": [
    "theta_temp_over_2_pi = frac(theta_temp, Mult(two, pi))"
   ]
  },
  {
   "cell_type": "code",
   "execution_count": 11,
   "metadata": {},
   "outputs": [
    {
     "data": {
      "text/html": [
       "<strong id=\"theta_temp_over_2_pi_02\">theta_temp_over_2_pi_02:</strong> <span style=\"font-size:20px;\"><a class=\"ProveItLink\" href=\"../../../__pv_it/theorems/e7c38d3fc343e3e581944f4f22b05416c0696da60/expr.ipynb\"><img src=\"data:image/png;base64,iVBORw0KGgoAAAANSUhEUgAAANYAAAAZBAMAAAC/c818AAAAMFBMVEX///+qqqoyMjK6urp2dnbu\n",
       "7u5UVFTc3NwQEBBERERmZmaYmJjMzMwiIiKIiIgAAABu1cpWAAAAAXRSTlMAQObYZgAAAddJREFU\n",
       "SMdjYCAFnGQgB5Cii+kAlHFqLc11xcNZtjTXJUtDXbs2oHCrLq0hwy40XaeeYlUV5IAmoEiWv9B0\n",
       "WYCi7+0fNEX7kdhRK+cwMHwn1S5surgUgAT3BzSVvggmawKDvwFPAwPzTCCYis0uxlZMq7DqYrkA\n",
       "snACbru4Ahg4GvgSwjH8xfgAQoe5fcW0C6susF0cUG07795VQLeL4wID23euBw4YaQtmFwM3Fruw\n",
       "6gLbVQ/JcyefYvEX01cGtj88ebBcWXU/jxi7sOoC2wVJCqyq2MIQCHi/Yot9vHZh1cXSACQywUy2\n",
       "ArhoEooaewdy7MLUBU6CfWAmJ8KYHhQ11xjIsQuLLi0GBh5IPjihBASgtMEzF+hDViUwAIY41wJM\n",
       "XSxKSrpNSkoJuO3CpovtHgNfA5hVCRdjRvHXKwZy/IVNlxow8BICwOkUIZiJbOYChnLS7cKmCxRf\n",
       "/BvA0cj1AGs6PMLA8Jx0u7DpAqVDflOItovY7GK/4rLsAl67+CB2sX6CEbh0gfIX9xJoaTM5AEte\n",
       "/v//P167uDI+rUYkvGt4dLEgi5jMxSyjcALGB6Q2OliwutmDCJ2sAdSxaz8DLQCXAtYGkAMt7LIw\n",
       "wCostYH6VoHaGwDlLJxytAEAzgAAAABJRU5ErkJggg==\n",
       "\" style=\"display:inline;vertical-align:middle;\" /></a> <a class=\"ProveItLink\" href=\"../../../__pv_it/_proof__delta_diff_exp_not_one/27d233179f1c14decfc2e78127a6f13c7420db000/proof.ipynb\" style=\"text-decoration: none\">&nbsp;&#x22A2;&nbsp;&nbsp;</a><a class=\"ProveItLink\" href=\"../../../__pv_it/_proof__delta_diff_exp_not_one/35f97a7b1072df459421e4ea72c393eb6b2486f20/expr.ipynb\"><img src=\"data:image/png;base64,iVBORw0KGgoAAAANSUhEUgAAAPIAAAA2BAMAAAAPP9k1AAAAMFBMVEX///+YmJiqqqqIiIgyMjLc\n",
       "3NwiIiIQEBC6urp2dnZUVFTMzMxERERmZmbu7u4AAADrYmUNAAAAAXRSTlMAQObYZgAABH1JREFU\n",
       "WMO9WF2IG1UUPpnZJDuZTDJYUHzaoC8FkYaWtdBatujig7I2PrSFvmwQUVq6tGKxaEUX7ItY7EoR\n",
       "XGQx+CAIaodS6M/LpgqK2tqUFWlLfwZaWChIU7craeMmztx7Z/Iz95zJhowHMndy77nn3HPOd889\n",
       "cwH6oTtViJpOy7uHi+5TjVCxXpL3axWmvxSd5iFb3p82WfNpdJoXXMvWW4H+bIE1CWRh8DkpNSN8\n",
       "9de13zCWeMN5PHKkHhg4xRu1ggRjhjbosLeAL6eBCGcJgpY9K1aGQHwTpvIZbkRsq/s0bEjuRxiT\n",
       "OSSYP4r2Vek0BZMHMbHUX5j0IqSWEcZJ19qjheDAIRH6a9Jpi5gPwSi3cQw1IFVHGB9j+C4GB6p5\n",
       "3m6UTruABjiZ7/RKouGNqB80m80WbP5wcbDhQVDCFWHVURm4lQaqedLbJrvFfB+KsydG12xvMZ53\n",
       "fiftizhI5y1JZ6KC8o94L+t4CPcwjLspK6cVNrMubsuLTvchGLFwG2QRHSmg/N92rs5gz7sM6Wn4\n",
       "ni3jPhufYphght0ed+klt7cpyJ0k07wX99FbPshZRLbwVbDEchaKLTfAhIMJE+btVdms1/BjwN9E\n",
       "mSUXEBVohfYStMPjV8cqCx7tFjB3wYZdPM4Sxxrobga1NTTu/M4AjPpLaUCtMyxZC851Z7ZCaius\n",
       "QbGdxE+wdMnnHytAfPfsVX/HqkV4p43T2a5afrjcjd2CvqxNmf6G78a7iWrOmv4umjRhyMGKrzmd\n",
       "g2/aOF2Tjm0J7JrpeE3AQZbDxnBoZz/J9+AZNoykQaWRYTsBnpcM/izaD58Kpu0rLccXSc0Gctol\n",
       "8krF5LAI0ntCy9qLFiFaoys5HYHpHMQXXJ/GJC7LrPA2xXITSrE6fYR/JZ/lpceExCp9SRhl0kYt\n",
       "0ZpvS3s/go/5y+MyDPwtytNluiJaoTUrsuSvP/fE77wkKVNufIEW/TCkBFwrQ3yzyeFhyNKqKmy9\n",
       "NUYXY/8OpETV2HEyzhykcbzrL6dp9B4YeKFscM2LVgh63x645lRVZDe93nm4dtEb/mnbLyGa3wS9\n",
       "K81kvRlVoXmAcS61vJ2pQ4zOj68P3Nsax3bd+/b6/xCmcmAdgyM037sD1xzjpYW2AalAPbStDFyz\n",
       "UqOzptjlmQcox/XzVn8f+/dIkUox7MS4A1qtP6NXKJHxPyesjoMlSDcADvan+TVS5FCuYwvIk9vx\n",
       "Ql+ab5IixW2Dl3AktM2G4/0FesSmRJ7yDrwyIWKfL2Kjk/N63gXzOUrkpgw3ejKPcw37uNe+ePKV\n",
       "0Z5dT9SzjsgFLbQ2Fh9art0n4DO1d88bVUrkWf6tCj8REq63fVSWU3bPmodrtEhORAEobpz28KvA\n",
       "xCogNhUikr3i9wrwNMT9UBhm1h4AuNtEEmDQZ0D1Nd+1s9O9a07OhItchwNsx+zc160LNFQarOKG\n",
       "pl3kBD59W7P5j//nB0itQjMmtk2k8j5EQjtDt+DidDSalWIYx3cQEV0Nq1vKUWlO5enxwxAZXaYr\n",
       "Inbn9h9sSX6SKztcvAAAAABJRU5ErkJggg==\n",
       "\" style=\"display:inline;vertical-align:middle;\" /></a></span><br>"
      ],
      "text/plain": [
       "theta_temp_over_2_pi_02: {l in {-2^{t - 1} + 1 .. 2^{t - 1}}} |- ((2 * pi * (delta - (l / 2^{t}))) / (2 * pi)) = (delta - (l / 2^{t}))"
      ]
     },
     "execution_count": 11,
     "metadata": {},
     "output_type": "execute_result"
    }
   ],
   "source": [
    "theta_temp_over_2_pi_02 = theta_temp_over_2_pi.inner_expr().cancelation(two)"
   ]
  },
  {
   "cell_type": "code",
   "execution_count": 12,
   "metadata": {},
   "outputs": [
    {
     "data": {
      "text/html": [
       "<span style=\"font-size:20px;\"> <a class=\"ProveItLink\" href=\"../_non_int_delta_diff/thm_proof.ipynb\" style=\"text-decoration: none\">&nbsp;&#x22A2;&nbsp;&nbsp;</a><a class=\"ProveItLink\" href=\"../../../__pv_it/theorems/9279641f692060b99c5251ec2bcda6d32c018a340/expr.ipynb\"><img src=\"data:image/png;base64,iVBORw0KGgoAAAANSUhEUgAAAX0AAAAyCAMAAACH3vtuAAAAS1BMVEX///8/Pz9vb28YGBgrKysP\n",
       "Dw8WFhYoKCgUFBQNDQ0QEBCIiIhmZma6urrMzMxUVFQiIiJERETc3Nzu7u6qqqp2dnaYmJgyMjIA\n",
       "AAALBQTQAAAAAXRSTlMAQObYZgAABb1JREFUeNrtXIuWpCgMdfY9gEB4yf9/6QpaJS8RsaZ3q+yc\n",
       "nj6dakPDJSQ3gDMMNxM91tRTItlXmn0E+LqmnpRx+kqz9xfMampLA9zSTTN9OJp7wq9QTW1DzoYa\n",
       "9K0d0DcEX6KxorYJgctNdJu9twCpqW2C8OXl02/21nHHyoraJiIM+054XxDht4s9nNTUnrDv51D0\n",
       "eYK4F/gmHrDpGj+DgzntdIXPd32oqX1h38+i7PMFeSfwqR0ranMj2YKRFnfRnj6zdxWCamprsVWw\n",
       "mvpqp+lWJRdiNbWVs7IhCxi4L4HiO+Vdak1FbZXZSucktKupTrP3lMTVOj3PjhIfrapthk8txs+u\n",
       "c1FNHbGiTUyFFKok4Dsk66BH8++32G8+eiUgqKhGjWBpb9Pall1/8+2RI4umCfEJmchMq2cS/mQC\n",
       "Ki2pqA6n/tGb8sSRjdJiIO6R2dMhNhMPXcAnuz6N6XWiavPCtguBZ4lXs6OHR2ne7OHy2yL4RFFW\n",
       "VdTxEvtLFpJza+D8rz+3oE4cxoINlKRmRksngn900k2iQxospkujtzF7oYBntCGdUJDuKzWz4OTD\n",
       "tzyrhFNibK8M38YnLj6ayLSUNTjlNd6MeTeAl1Re7KWZ+4Wt6XhTK1LpDBfYK3wqQpp5JHGSCyS4\n",
       "r9xsJM+pkizrBC1kJE3gEcmSZ1EJL1rP54etURynpCBzxR32j2ONC35MYvRDVSK6y1sa0Y/iFhQZ\n",
       "5OzjTJTM3DdsVmKa1sMFPPXcCpuWxZTm+fxpSkg1qLa0xnQ+vCHrsGd1Zn5U5VVk4lah6k9q6RN9\n",
       "OQXynBKbSdjPsHSjyBn+8XOKttFmFx9Tp1jMnHfzhx8uPVCaED8fqrATx8Wy1ao5MfvosyJCfa3F\n",
       "vYBo4WyO4v8idysj3zuvoO8LIHpluz1Cf2HuKYN8Un0tEzMxPesyMAthUkLKYRf90e0RjaVSOkAf\n",
       "WtFvaG0ffTAhp3A0zrkrUu2RZ7EwV0gPj4xRYZdho/ooMwPB1ljqqcAYsFI17fFn+cgVZBHViX5L\n",
       "a/vob9xlWdjL8Qc3edYVe6pHH67UW3HWJTiGcFmWa1YLjxVWM/WIzBStq+QQfY6d2WCu+35La7vo\n",
       "+w4zT5l/zv/MGkE4zhkn3VO1Q+tUoT8lGTrZreRq5ZEZ1ZfMQG72KJUxePcLA6Te4SluRgmOszjF\n",
       "lqgO9A9bk0iU0cfPn1detPh+6fR13FU1xqeOuGVKDJNaVzL4PYpzI4IJzc6BLArvED3MzPowuF5T\n",
       "7n3J/UwfD4/wEP+kqfeWuazvU79pQd8cj52GxWCAPuCNTgdRPD+zVfFH6vyp7hwTAbxLK57ORuqi\n",
       "v/0Azvl0NImJGaI0Yis7vu9C7HjEj5t9v6G1Xd/3HXaT/c/f62TvcJ7LR1v+3reeJ00QPhFa32Vr\n",
       "Kl0zMzu4DzStx306KaVANqMf+YpwhiKwbmltN+4vHQ4rNRdECnw/jQ727HUaXxAOyOWZSVV38Ias\n",
       "qG3a+HM7oX5Bgqqij9Jqo4r+7CuW4SBPivXbidZ20V87HG5fYa1LyCZxgJ+9UbAUpsyllXRDVKcf\n",
       "4KaFpfc2VvEa9/c5z7G88rhgn3Guvz/eIyO2pjbwHB/N2JxWKKpXcq1DZ/bkuP+v6Dd0Mrk71nmV\n",
       "jM9mmA0y8lrUN9QGszjfnZFX3lbZ3+dZoGw4GKJxlKW25zBpdDRlrqai7oi+W2lNZgL/54ftNNk0\n",
       "6bt/+orbVNwZUYaTyu37NtUvD/zOpjjv0LdFBPxG4M9RY6yoTd5aXnSd12HvdYv28ssTyu+HiDyC\n",
       "dOVvfK8b5FdZD/WpFouDfNKZhj5fkK6pR+yD67mMYzyvWL/fHGoc8YW35qblPDFDf+pjYNPNXhzK\n",
       "h/wKBBSSX2j21iIQrag98v229BmX4zW1pwgnX2n29iUXq6nnaRR8pdn7C8M19WwB9/0/xJz1/rGm\n",
       "novefTcdA7N/AUhrY3DRgvkWAAAAAElFTkSuQmCC\n",
       "\" style=\"display:inline;vertical-align:middle;\" /></a></span>"
      ],
      "text/plain": [
       "|- forall_{l in {-2^{t - 1} + 1 .. 2^{t - 1}} | l != 0} ((delta - (l / 2^{t})) not-in Integer)"
      ]
     },
     "execution_count": 12,
     "metadata": {},
     "output_type": "execute_result"
    }
   ],
   "source": [
    "from proveit.physics.quantum.QPE import _non_int_delta_diff\n",
    "_non_int_delta_diff"
   ]
  },
  {
   "cell_type": "code",
   "execution_count": 13,
   "metadata": {},
   "outputs": [
    {
     "data": {
      "text/html": [
       "<strong id=\"non_int_delta_diff_inst\">non_int_delta_diff_inst:</strong> <span style=\"font-size:20px;\"><a class=\"ProveItLink\" href=\"../../../__pv_it/theorems/e7c38d3fc343e3e581944f4f22b05416c0696da60/expr.ipynb\"><img src=\"data:image/png;base64,iVBORw0KGgoAAAANSUhEUgAAANYAAAAZBAMAAAC/c818AAAAMFBMVEX///+qqqoyMjK6urp2dnbu\n",
       "7u5UVFTc3NwQEBBERERmZmaYmJjMzMwiIiKIiIgAAABu1cpWAAAAAXRSTlMAQObYZgAAAddJREFU\n",
       "SMdjYCAFnGQgB5Cii+kAlHFqLc11xcNZtjTXJUtDXbs2oHCrLq0hwy40XaeeYlUV5IAmoEiWv9B0\n",
       "WYCi7+0fNEX7kdhRK+cwMHwn1S5surgUgAT3BzSVvggmawKDvwFPAwPzTCCYis0uxlZMq7DqYrkA\n",
       "snACbru4Ahg4GvgSwjH8xfgAQoe5fcW0C6susF0cUG07795VQLeL4wID23euBw4YaQtmFwM3Fruw\n",
       "6gLbVQ/JcyefYvEX01cGtj88ebBcWXU/jxi7sOoC2wVJCqyq2MIQCHi/Yot9vHZh1cXSACQywUy2\n",
       "ArhoEooaewdy7MLUBU6CfWAmJ8KYHhQ11xjIsQuLLi0GBh5IPjihBASgtMEzF+hDViUwAIY41wJM\n",
       "XSxKSrpNSkoJuO3CpovtHgNfA5hVCRdjRvHXKwZy/IVNlxow8BICwOkUIZiJbOYChnLS7cKmCxRf\n",
       "/BvA0cj1AGs6PMLA8Jx0u7DpAqVDflOItovY7GK/4rLsAl67+CB2sX6CEbh0gfIX9xJoaTM5AEte\n",
       "/v//P167uDI+rUYkvGt4dLEgi5jMxSyjcALGB6Q2OliwutmDCJ2sAdSxaz8DLQCXAtYGkAMt7LIw\n",
       "wCostYH6VoHaGwDlLJxytAEAzgAAAABJRU5ErkJggg==\n",
       "\" style=\"display:inline;vertical-align:middle;\" /></a>, <a class=\"ProveItLink\" href=\"../../../__pv_it/theorems/0be9e2f3b787f846ec34113deabf939b844b1be00/expr.ipynb\"><img src=\"data:image/png;base64,iVBORw0KGgoAAAANSUhEUgAAAC0AAAAUCAMAAAAusUTNAAAAOVBMVEX///8kJCQNDQ0oKCiqqqoy\n",
       "MjK6urp2dnbu7u5UVFTc3NwQEBBERERmZmaYmJjMzMwiIiKIiIgAAACP36pmAAAAAXRSTlMAQObY\n",
       "ZgAAAMhJREFUKM+1ktkSwiAMRaMCYV/y/x9rA9VhqzN9kIcU0svJDQBwNVBv0yVTWrNWDltLxFMU\n",
       "acMwqltIAaCzrfPgN+g+F13lt2qubNC9OW84CuJO7Mb2gAaqakXiwrbvAZpCU7MH03FQ1vF6cgyf\n",
       "QoT8SVW9sT2gD3VoauRgZ3Eyw7J3UtyKnvbTeSaiHo8efT9cc/+t4H27xENHEXBEydladzuk9Nim\n",
       "Cou1zDfvuPUYZvT6+DSWYtLuSYoAN4bUN8QC/4YG9evnG874ByCZaQYyAAAAAElFTkSuQmCC\n",
       "\" style=\"display:inline;vertical-align:middle;\" /></a> <a class=\"ProveItLink\" href=\"../../../__pv_it/_proof__delta_diff_exp_not_one/db77ee883d5a73ed7eea1fcf8d93422fbe7fa8b70/proof.ipynb\" style=\"text-decoration: none\">&nbsp;&#x22A2;&nbsp;&nbsp;</a><a class=\"ProveItLink\" href=\"../../../__pv_it/theorems/4a7068ebd4ba6c2246f98fb0c3c6257d34e3d3fa0/expr.ipynb\"><img src=\"data:image/png;base64,iVBORw0KGgoAAAANSUhEUgAAAHwAAAAyCAMAAACpkk+QAAAAQlBMVEX///9jY2MJCQkNDQ0rKysP\n",
       "Dw8WFhYyMjLMzMzc3NyYmJgiIiJmZmZERETu7u4QEBCqqqpUVFSIiIi6urp2dnYAAACMmeN8AAAA\n",
       "AXRSTlMAQObYZgAAAtBJREFUWMOtWIly4yAMZbfd5RSHDP//qwWctIBJE0QYTyZOLAtJ7+mAsfuK\n",
       "ByMvG9jWinFH+uA70ri6d9RJNLdqQ7t3yyIqdbdA9px16wE3sP2K27bNuozDbeedcskuy8gu5GVp\n",
       "muM1wfAh5NUEySjvIUgFeIsNTAPbD3k1Yj16IhFwKibesgnXOUOBKc6E+HqmcZTEDIFdfYzL4BFJ\n",
       "EZRnoTih3+qrkMSQdFh82YnisQP76B3oxSv0NLOUAnpOp8ch74im/AFJMOKKaWp4449Du+Q4d5o7\n",
       "VfjRpYbynKXqzkyf7ds0VEYw5ZFMC6h462IXFdtYYsr01utntKI/GyeffBdyEvx+0syYYRXo///0\n",
       "D/9NcasMTJiZp7jeMT31cBeAlsHFHLDlujDNIqadZi516LXclo8LMpApdQNogy+Rn4a0odx1mkKx\n",
       "C0cYWCjXGYRGuXXiEWJfVd4FrargI3mCOHdVvqahLRPfyi1v1veO0mW1wG4zlsiE5p8fRbqFtGHH\n",
       "PbKt8sL7rJzO8165hJNVQ+m7eYRF27rdVpvVDtx1J+wmqfVO8fpvbNBelYN6G+AMFif3hS+U695G\n",
       "YIOvmIF5LPVUXPxa1rQPYk5xGxQUcDeZNyKatYw28twMA+Tfo0PQ4YA7AMjVpcwKfr2Ds8YAVIu8\n",
       "HjczZCj1J4LWmr+tkanzcMx7lkZzI34tLPCkUqTVbrvWBuYKlLkf5wY/JrMn7OCkLBYKS8YSGIcf\n",
       "8JlXzWou5zUzhMwSMfbPYXjXU+YoWkbTWQxz/ywft2QvdR+ecg5ScJ2TSOxb5+WRhTQ06FA7QxSb\n",
       "XbghFHAzpQhoggeX08yDPEgYFNfnal8EpLzOPgToruJdVJShfAt4mFvqGaWOMZqg33MssnggxM/m\n",
       "6aKcU05FNuT6ozBi+yWd2NVNPwS8FGbC6dSG88zmobWCrZ3jjvTekXc/RS8HPJDA9gXPByNa86qg\n",
       "HAAAAABJRU5ErkJggg==\n",
       "\" style=\"display:inline;vertical-align:middle;\" /></a></span><br>"
      ],
      "text/plain": [
       "non_int_delta_diff_inst: {l in {-2^{t - 1} + 1 .. 2^{t - 1}}, l != 0} |- (delta - (l / 2^{t})) not-in Integer"
      ]
     },
     "execution_count": 13,
     "metadata": {},
     "output_type": "execute_result"
    }
   ],
   "source": [
    "non_int_delta_diff_inst = _non_int_delta_diff.instantiate()"
   ]
  },
  {
   "cell_type": "code",
   "execution_count": 14,
   "metadata": {},
   "outputs": [
    {
     "data": {
      "text/html": [
       "<span style=\"font-size:20px;\"><a class=\"ProveItLink\" href=\"../../../__pv_it/theorems/4a7068ebd4ba6c2246f98fb0c3c6257d34e3d3fa0/expr.ipynb\"><img src=\"data:image/png;base64,iVBORw0KGgoAAAANSUhEUgAAAHwAAAAyCAMAAACpkk+QAAAAQlBMVEX///9jY2MJCQkNDQ0rKysP\n",
       "Dw8WFhYyMjLMzMzc3NyYmJgiIiJmZmZERETu7u4QEBCqqqpUVFSIiIi6urp2dnYAAACMmeN8AAAA\n",
       "AXRSTlMAQObYZgAAAtBJREFUWMOtWIly4yAMZbfd5RSHDP//qwWctIBJE0QYTyZOLAtJ7+mAsfuK\n",
       "ByMvG9jWinFH+uA70ri6d9RJNLdqQ7t3yyIqdbdA9px16wE3sP2K27bNuozDbeedcskuy8gu5GVp\n",
       "muM1wfAh5NUEySjvIUgFeIsNTAPbD3k1Yj16IhFwKibesgnXOUOBKc6E+HqmcZTEDIFdfYzL4BFJ\n",
       "EZRnoTih3+qrkMSQdFh82YnisQP76B3oxSv0NLOUAnpOp8ch74im/AFJMOKKaWp4449Du+Q4d5o7\n",
       "VfjRpYbynKXqzkyf7ds0VEYw5ZFMC6h462IXFdtYYsr01utntKI/GyeffBdyEvx+0syYYRXo///0\n",
       "D/9NcasMTJiZp7jeMT31cBeAlsHFHLDlujDNIqadZi516LXclo8LMpApdQNogy+Rn4a0odx1mkKx\n",
       "C0cYWCjXGYRGuXXiEWJfVd4FrargI3mCOHdVvqahLRPfyi1v1veO0mW1wG4zlsiE5p8fRbqFtGHH\n",
       "PbKt8sL7rJzO8165hJNVQ+m7eYRF27rdVpvVDtx1J+wmqfVO8fpvbNBelYN6G+AMFif3hS+U695G\n",
       "YIOvmIF5LPVUXPxa1rQPYk5xGxQUcDeZNyKatYw28twMA+Tfo0PQ4YA7AMjVpcwKfr2Ds8YAVIu8\n",
       "HjczZCj1J4LWmr+tkanzcMx7lkZzI34tLPCkUqTVbrvWBuYKlLkf5wY/JrMn7OCkLBYKS8YSGIcf\n",
       "8JlXzWou5zUzhMwSMfbPYXjXU+YoWkbTWQxz/ywft2QvdR+ecg5ScJ2TSOxb5+WRhTQ06FA7QxSb\n",
       "XbghFHAzpQhoggeX08yDPEgYFNfnal8EpLzOPgToruJdVJShfAt4mFvqGaWOMZqg33MssnggxM/m\n",
       "6aKcU05FNuT6ozBi+yWd2NVNPwS8FGbC6dSG88zmobWCrZ3jjvTekXc/RS8HPJDA9gXPByNa86qg\n",
       "HAAAAABJRU5ErkJggg==\n",
       "\" style=\"display:inline;vertical-align:middle;\" /></a>, <a class=\"ProveItLink\" href=\"../../../__pv_it/theorems/e7c38d3fc343e3e581944f4f22b05416c0696da60/expr.ipynb\"><img src=\"data:image/png;base64,iVBORw0KGgoAAAANSUhEUgAAANYAAAAZBAMAAAC/c818AAAAMFBMVEX///+qqqoyMjK6urp2dnbu\n",
       "7u5UVFTc3NwQEBBERERmZmaYmJjMzMwiIiKIiIgAAABu1cpWAAAAAXRSTlMAQObYZgAAAddJREFU\n",
       "SMdjYCAFnGQgB5Cii+kAlHFqLc11xcNZtjTXJUtDXbs2oHCrLq0hwy40XaeeYlUV5IAmoEiWv9B0\n",
       "WYCi7+0fNEX7kdhRK+cwMHwn1S5surgUgAT3BzSVvggmawKDvwFPAwPzTCCYis0uxlZMq7DqYrkA\n",
       "snACbru4Ahg4GvgSwjH8xfgAQoe5fcW0C6susF0cUG07795VQLeL4wID23euBw4YaQtmFwM3Fruw\n",
       "6gLbVQ/JcyefYvEX01cGtj88ebBcWXU/jxi7sOoC2wVJCqyq2MIQCHi/Yot9vHZh1cXSACQywUy2\n",
       "ArhoEooaewdy7MLUBU6CfWAmJ8KYHhQ11xjIsQuLLi0GBh5IPjihBASgtMEzF+hDViUwAIY41wJM\n",
       "XSxKSrpNSkoJuO3CpovtHgNfA5hVCRdjRvHXKwZy/IVNlxow8BICwOkUIZiJbOYChnLS7cKmCxRf\n",
       "/BvA0cj1AGs6PMLA8Jx0u7DpAqVDflOItovY7GK/4rLsAl67+CB2sX6CEbh0gfIX9xJoaTM5AEte\n",
       "/v//P167uDI+rUYkvGt4dLEgi5jMxSyjcALGB6Q2OliwutmDCJ2sAdSxaz8DLQCXAtYGkAMt7LIw\n",
       "wCostYH6VoHaGwDlLJxytAEAzgAAAABJRU5ErkJggg==\n",
       "\" style=\"display:inline;vertical-align:middle;\" /></a> <a class=\"ProveItLink\" href=\"../../../__pv_it/_proof__delta_diff_exp_not_one/9271f811cec0153e6864e0250c589520fb8657310/proof.ipynb\" style=\"text-decoration: none\">&nbsp;&#x22A2;&nbsp;&nbsp;</a><a class=\"ProveItLink\" href=\"../../../__pv_it/_proof__delta_diff_exp_not_one/696d57d935673d497fd8de6be7fcc7ac5982f27c0/expr.ipynb\"><img src=\"data:image/png;base64,iVBORw0KGgoAAAANSUhEUgAAAKoAAAAxCAMAAAB9CcIwAAAAQlBMVEX///9jY2MJCQkNDQ0rKysP\n",
       "Dw8WFhaYmJiqqqqIiIgyMjLc3NwiIiIQEBC6urp2dnZUVFTMzMxERERmZmbu7u4AAAAmYK3VAAAA\n",
       "AXRSTlMAQObYZgAAAwVJREFUaN7NWNmWpCAMdVb2LcD//+oAZSk6qIAeNacfuroaCMnNTbjDcJ85\n",
       "7YenzMi2/5d8+pXc7KluXKDs7LW+1VXqGhcAytxGN3pqpyRKgk3NCs+yD9x1oN1aANO8jPnvWQhL\n",
       "8BUbGJF/IrajLmM6vBy6gRc3qAkRgeVV2/OYThGidZ3ArbCDZdlz3HxkYhC9wFFT/gdZuVaYBUos\n",
       "NNdxOlP7RrSiLA2UVy3xSzYloq+cuS+gjQj/sUIFWDqBnRCvqqCmFgUhvevxVJYOU8pgwhBhpfzC\n",
       "N30m0Cv0dEzjTVdQ5+YxXdUE2Cs2kGzDLAx0XOFE+B71nMraWSemZs6w8zSPXUCxK37HbVYcU4Ac\n",
       "zWx2369s3K3D1QUbZwFOXZ6Xv6PjGoGSq+6eqOJ4ahGQNvix4QXoMTQxduiQApSFROBMZ1hlzfBO\n",
       "FUUK61x0c+Pueiyr5CocNYGA+UFH9CByggEYV0pZXYoLiX8UZSL6sqIKZ8tDMufsE0XFLSoxc20L\n",
       "SFZyFWLr02qD3tzX14rBg8sRm/y4W3VR2H6bbC0KHC7nMnqhGy8BfrmrVjUu4CRVMMoL4eBtIbnw\n",
       "glLBqTgziZtGqKWhkdmpfNHGk8XKfGy0EQ40EfwJ001DHFoDmpvj/H8yp/Cg5ClXc9wdDxnhUJk7\n",
       "h0r4QcD//uF0OUsHKjb2JFpx/QaGYowhAycrZNQACZPPf/weloE7W1m4Oi1ibv3522OVJVdKVWga\n",
       "6M7XbRX2YzzJmsEcxJ+XGRS1BW0+d3iTmUCg9PevOD3m5WhTRRZHybttWWhqTYATpSr3orCKQlOd\n",
       "KVW8CQGWxHQvpz79HXDtq1wdONamTKlOo3exgNM/5QKRUgAVABBmFrDvIgH0QwHnnF508z7ZsJJZ\n",
       "2aU5Grpkw7rNL8Vjr2xY98a/tNV3yoYNnfUy65QNHyTAwrNoTzV8zkqy4a5q+GBQ/5cNC6rhK3r1\n",
       "hmy4VA3fYFuy4Vo1fN42ZcMd1fChWX1LNtxTDR+xbdlwTzV8xLZlwz3V8Br7B7EpM1pQmZosAAAA\n",
       "AElFTkSuQmCC\n",
       "\" style=\"display:inline;vertical-align:middle;\" /></a></span>"
      ],
      "text/plain": [
       "{(delta - (l / 2^{t})) not-in Integer, l in {-2^{t - 1} + 1 .. 2^{t - 1}}} |- ((2 * pi * (delta - (l / 2^{t}))) / (2 * pi)) not-in Integer"
      ]
     },
     "execution_count": 14,
     "metadata": {},
     "output_type": "execute_result"
    }
   ],
   "source": [
    "theta_temp_over_2_pi_02.sub_left_side_into(non_int_delta_diff_inst, assumptions=[non_int_delta_diff_inst.expr])"
   ]
  },
  {
   "cell_type": "code",
   "execution_count": 15,
   "metadata": {},
   "outputs": [
    {
     "data": {
      "text/html": [
       "<span style=\"font-size:20px;\"> <a class=\"ProveItLink\" href=\"../../../../../../numbers/exponentiation/_theory_nbs_/proofs/complex_power_not_one/thm_proof.ipynb\" style=\"text-decoration: none\">&nbsp;&#x22A2;&nbsp;&nbsp;</a><a class=\"ProveItLink\" href=\"../../../../../../numbers/exponentiation/__pv_it/theorems/5f51272e8364699d4b2cf837e296f5be084fd3160/expr.ipynb\"><img src=\"data:image/png;base64,iVBORw0KGgoAAAANSUhEUgAAATAAAAAyCAMAAADsmnd+AAAASFBMVEX///9jY2MJCQkrKysPDw8W\n",
       "FhYkJCQNDQ0oKCgQEBCIiIhmZma6urrMzMxUVFQiIiJERETc3Nzu7u6qqqp2dnaYmJgyMjIAAADS\n",
       "ZW9xAAAAAXRSTlMAQObYZgAABcZJREFUaN7NW4mS3CYQVZzYCSDu6///1IA0I0AIIZAiU66t6vEu\n",
       "D5rXJ8w0DQ81T2+OJ+AFqctjC1bv6usAXmg5MOts6vLAgORVfR3Bz0xINDCvNnW5e0jwqr6O4DEQ\n",
       "02TFwMxM1eVeYwevOrBDeKrdDytvnPqmnTL0KsGO4HUgntV3kvcWW5JDrH8OnnpF4iGGuUlUXe6a\n",
       "812CHcHP1psPtPPgcfCq3BNKxqd4BJ5Y4gawN5/HOD0oe5dgR/A05ADWDB+IqMqXB65wHmwGL5CC\n",
       "T+jrGN6qG1yYW7iFVfnyQJW4AbfNMDGZJ2LDIbwIqkLjUc2Yunx1gCzLxsUTR+5YWPNhw374SGF+\n",
       "IXac1jBzknDMZ+Msz8GkvHqx5pFtRRzphY9V6RQG6TiHeQbBxzK7XN+J3ZnP1NDT2OL2Ylp3wqek\n",
       "5rSJDPgaicFQ4czAzvQKCjNGKVIML6rs2Kjogk9YjSBqm+WEhozu5c2P6Yt8Ayylq8gVJtBqHrq0\n",
       "Ln7gQSHqge/0KhtjZgosMAZQAzY9qCyV87KSRZNqCbrJzlS6T68wDJxZeMNhpaMgc1aqiY/me+A7\n",
       "A+22BsiQt093iizOvHCWieGJf/6fXzwxnIYhIKeiSbrt85LxJHCCRGZLZQd8Z+ob6S4kjo4+cQc3\n",
       "Bwnyh1jqYp4nk8Qws8jIh4mJlVwrwUdpNWLX4XvyeEZ//kO/fiE4PU4mjCo0DrJWwg9+NQyndNXg\n",
       "wxUQqvqvwjBC8xnBUoVBcB3+uvdi0J1kHkldjs2Sg7dZWAyyZX5cbl6kYR0tRyUA1bAl+O5Ytyls\n",
       "birZxpJI4e1K5GFHwzzy2excg7wYx6rt9sJPJftiy8zEu25e2bEyYfz3r/+JigrDMXfW318GOoS/\n",
       "OojfLcx2Kpj/l4ZiU5BnNG3azgo/SSEjyJR0iJIVm4VVi5Nk+jLBIoXxpj4WGuvYl9ICxxyS0RbQ\n",
       "kux/QJ0WfkIqhLSv7ZRPMWGp6bTvFWG7jDPzLlRRm8JEk8JSeNs0NnyXcZm/A8ujqgxNc75wCkqy\n",
       "r0ZoWvhpJrkQ06owLfTZis2qMM39ODt8xqdRhpGR9mAIOXla8E3BohKkrDCXc69H/in8ZrR1D4LC\n",
       "1JlNsNgka57Pn+ovsPgkcuDD+IEPI7eZJNiXRVsKFimJZr+0yoyvafen8DNTojCEUMnpxzQhbO1R\n",
       "hW2cBDDDa+3NtiiphqKkcz1zuieXgnGy67MVnb5z7YhufRFX+AkUKQwRQudiXI8d95o8CQqUVqDO\n",
       "sxkVpxNZSneWVgzlYVRmmfMnBRNEs/N2xceS1sIP05CaMRgYxqGei5lj/OmXFohacxIkC0UrIsAa\n",
       "pC9k+nrsTkiQH3O8jBkwA9yWXQUeX3bmBetH1iIt/EhikhKXOjEyXXH7xfDZmwfTlAhm8M4qEGMX\n",
       "SKf/UoxSak4qfFWVv4WfwokPUyWnn3U8UXOlcNIVEW3ePIMPD5LUBdYx3gQC6xX/t/D7NOElVUb5\n",
       "0yucREpX3HrnIE80qxu7min80jAEzRcfoqvCr1T8cPVhNb+ZKpHIWwg20Ua7SuGXFJw0h07Y1C3N\n",
       "Q/FgaLZZPdv2ZydWo1UXvAmGTJpDZ1vzL8+Oh7Ll3UWwvOOhRXsbs3QPTQufQbAWRh3Ly9vgY23x\n",
       "3dWyvOEFFRLd8D632dNTKSwh15B3GBPPfDwf7PKCd19r7uHp9sm3znJaVXyCXVnuzRe5uRP7v8cO\n",
       "PirgRPwSxdkR6So8S7dsI2O2r77XzOGT+7mIbL6x0LfT3AKH713+qPd0IeaUPJWvuLpaGzD7Kzj8\n",
       "3lK/+2IzgcfB30Nerhy6bOHehwLLFO9+qSGC51QphUjB9MKrlJ6FPvBk8w96FGyWXKugsFDlkQ6F\n",
       "GVSXu4Z514s9Cf99u3AgdybmAL+psAfhH/piwyTpqxR7Dp6gutyfPr6b7j8Fr1ldHjkK+KrGnoF/\n",
       "8Ot/ySOrVzj2yBdMxZH8G8xeYCMFwBQUAAAAAElFTkSuQmCC\n",
       "\" style=\"display:inline;vertical-align:middle;\" /></a></span>"
      ],
      "text/plain": [
       "|- forall_{theta in Real} ((e^{i * theta} != 1) = ((theta / (2 * pi)) not-in Integer))"
      ]
     },
     "execution_count": 15,
     "metadata": {},
     "output_type": "execute_result"
    }
   ],
   "source": [
    "# Our theorem to instantiate:\n",
    "complex_power_not_one"
   ]
  },
  {
   "cell_type": "code",
   "execution_count": 16,
   "metadata": {},
   "outputs": [
    {
     "data": {
      "text/html": [
       "<strong id=\"complex_power_not_one_inst\">complex_power_not_one_inst:</strong> <span style=\"font-size:20px;\"><a class=\"ProveItLink\" href=\"../../../__pv_it/theorems/e7c38d3fc343e3e581944f4f22b05416c0696da60/expr.ipynb\"><img src=\"data:image/png;base64,iVBORw0KGgoAAAANSUhEUgAAANYAAAAZBAMAAAC/c818AAAAMFBMVEX///+qqqoyMjK6urp2dnbu\n",
       "7u5UVFTc3NwQEBBERERmZmaYmJjMzMwiIiKIiIgAAABu1cpWAAAAAXRSTlMAQObYZgAAAddJREFU\n",
       "SMdjYCAFnGQgB5Cii+kAlHFqLc11xcNZtjTXJUtDXbs2oHCrLq0hwy40XaeeYlUV5IAmoEiWv9B0\n",
       "WYCi7+0fNEX7kdhRK+cwMHwn1S5surgUgAT3BzSVvggmawKDvwFPAwPzTCCYis0uxlZMq7DqYrkA\n",
       "snACbru4Ahg4GvgSwjH8xfgAQoe5fcW0C6susF0cUG07795VQLeL4wID23euBw4YaQtmFwM3Fruw\n",
       "6gLbVQ/JcyefYvEX01cGtj88ebBcWXU/jxi7sOoC2wVJCqyq2MIQCHi/Yot9vHZh1cXSACQywUy2\n",
       "ArhoEooaewdy7MLUBU6CfWAmJ8KYHhQ11xjIsQuLLi0GBh5IPjihBASgtMEzF+hDViUwAIY41wJM\n",
       "XSxKSrpNSkoJuO3CpovtHgNfA5hVCRdjRvHXKwZy/IVNlxow8BICwOkUIZiJbOYChnLS7cKmCxRf\n",
       "/BvA0cj1AGs6PMLA8Jx0u7DpAqVDflOItovY7GK/4rLsAl67+CB2sX6CEbh0gfIX9xJoaTM5AEte\n",
       "/v//P167uDI+rUYkvGt4dLEgi5jMxSyjcALGB6Q2OliwutmDCJ2sAdSxaz8DLQCXAtYGkAMt7LIw\n",
       "wCostYH6VoHaGwDlLJxytAEAzgAAAABJRU5ErkJggg==\n",
       "\" style=\"display:inline;vertical-align:middle;\" /></a> <a class=\"ProveItLink\" href=\"../../../__pv_it/_proof__delta_diff_exp_not_one/2d5872e43e7785e319c5fe6ab627b55f994f35220/proof.ipynb\" style=\"text-decoration: none\">&nbsp;&#x22A2;&nbsp;&nbsp;</a><a class=\"ProveItLink\" href=\"../../../__pv_it/_proof__delta_diff_exp_not_one/3babf5db1c5648ebc23b29c2316eec057d2fb8e00/expr.ipynb\"><img src=\"data:image/png;base64,iVBORw0KGgoAAAANSUhEUgAAAVkAAAAyCAMAAADBaFjEAAAASFBMVEX///9jY2MJCQkrKysPDw8W\n",
       "FhYkJCQNDQ0oKCh2dnaqqqpEREQiIiJmZmbc3NxUVFTMzMzu7u4QEBC6uroyMjKIiIiYmJgAAACi\n",
       "+zMUAAAAAXRSTlMAQObYZgAABltJREFUeNrtW4mO5CgMrb2XcN///6cL5CggCTGktzpqDdKM5O64\n",
       "Gp6vZ4d6vX7OQrot9yzJP6n2dGBRW+5b2nxS7dHL8rZ8/QHEi0x0Yxi5HwftpNoyBBRfiHjM5zH6\n",
       "WcBKpZsyZFF8+yPG1R67MG3LkKXsbbc/UHPuWS7YmSQnL5syZLEizcZFxgK7ULNDeZddmIOR9wMT\n",
       "+z9rLKFteSDNJvuwIafN1LSSI46FL2M08wLet8uu0u4qCNwIJBxfGqzbzlKJkQ8wl9vPM47sDAvT\n",
       "kZ8IbstDaTZZaMTjMjVe+ofa8gSimJ5+tlssIygxxw+x4oDI9qUaeBwJr5sy8EP2jiK9HUF2U6s/\n",
       "0677QuHn/NTVyKIV7HByEIdKOtIZneB8QFVbhqWfIyUzxvtXNcMb2ImzlMXIuqXTsKUl4kZ3OhHU\n",
       "aRVvyzDexl/7v2fHatiixk61iY6/PcHD0sssTV5TkQ4664GxUBO4pgxbQQkdMLEhNrqoUdOqHRsz\n",
       "ZMantcKI16cmRM5mJJbdaamd6vKQm47mtbTX4bAaDxRFu5pYIEvW31IhrKRyixiy+COXLwUz7HRs\n",
       "ASRPLQ9LH1g1ZW0nCPVx9KgvwOQkGi+2RA5bj4ispFkERyEcP3hg+un8u6U9RuFhToFRe4jfuScr\n",
       "WA+kcEt2k8Z+iFWm4x3uWWSerInyyhhFTOZgSW3fekRkhWJvZrUI+MUycUE2Jgse/FrjdSUX9MVq\n",
       "Ict11XW/XZiD0of0tCVHEOQosAEdcVGaLabxERPxKdUoOefoOjIq8WanOrPVkg38UulOkznPrHvF\n",
       "eSVHPGME1sNCwbZkdGsiIg4ZbX6QOYmgqXiFkdT2/cqGrDDTNOH1pNQFb81SyfwUkeGxltFtu4Jx\n",
       "cd72wPr2yU8tWY8Rp5OACBvE5K8/yfsoqZUK/iNorfZWlVylMc2GrMpCOWGY/pUcinF7WIIEQjgc\n",
       "CRHqSuu22rQKWVFhBgvYWjbkjtP6khwIbOUL72wV3A/LWm1zd6mIs3CSrdsbDogJUgaOEe2ZzQ5Z\n",
       "CWKTbdIlrfV3pvy+ML2Mffx+AhICsxrDBrX37nmsHQw+gyDNKDMRmGIXMjcFMmn9+0/8n54NQYok\n",
       "t6jMi+blW1blPJNFgAL7G8iqAsY0sLN2P/Sr535B7d1lzMfA4ITvrrhW5K8TfbnGRGbnshWyEG+j\n",
       "FbK5nPpDN066AkSkisTgNHJfK+oZaVDbcplYGBI8dHC7NMg4ZWR07cOOpoiCtwd3HkKUuT+X06st\n",
       "sSErc7ff4Pa7lUdm3naIQFzNHynO8rxIE4kqA1rlyDoWF5z7tSffkstLOxz87GuRTeRd+HE+WyKb\n",
       "6i2a9okP191kUKuzQdfgoZE5YiOcG9KVIKak+beavYefVjB0lmc5KBvI5K3uDjkghbI66GzfVFYV\n",
       "au/hLp27nzvsL99RCKqrEx29lMiRhU2aUMUNcjkhi+/0CmUFozbGft0KLd1QPhaOaptfSKKQQ8q+\n",
       "PrU0PeRQvXzWVgUql1Hqu7tGl6I57CJT3dqsVFZyh0u1TJUSbz74dvzgHQ/lyputt9CgYZernipk\n",
       "ZG3XVFjWDK0eSvDfdbFtrbBRGGPlVX7HIarh77qINNFrzCClZ6qQnfrfgklK8UwA60mnrLmS+w1h\n",
       "Qoi5MlBQQ+qbkDWXsMG2dv+VQro3goJBGCWGiuZEBjPYnuzYdZIvcdlr4mxgrXbNzXzvLYH5/bSK\n",
       "djRTe9wjYUk7qUnvHuqy0J3VoUl689vcZ/HIKerBWE08LGxLsxr+nnvKGmB4GAOkvi1fGzmFLQ+c\n",
       "QqiLNgTIM2Y1912J9hIxoO/VhW7wZgsJapa/ZGFOhYe2PqtJEGv8hqWA+6pprxg6kI7lPHQCRfpn\n",
       "Y5dkVjX7zAvgFhxLX3KTg/A0IrKi7Dru3OQIOxGPdFlwZb2daKPOIaHAYyOHTe2R31roiKS6V9P9\n",
       "vcJJpzaWDDI1bB8HLFMdcXj7YnLqBxlrDTG6ksF72kaelg8k6alCd9mBSGXLsqsEPpD3GWHPQrZz\n",
       "8lffplFdLxUZQQhRTkYJdVONPctppe49zJ1vgCx3AfdXWsYu0w+qPXTVp/mK001D394YVXvqYhVz\n",
       "ZPeZ5K9v2i2eQtpy/+L0k2oPXpS35d7l8CfVHr24bcudY4Rf38LPvFS35a5syeVNtf8AeVNoCeaV\n",
       "+bIAAAAASUVORK5CYII=\n",
       "\" style=\"display:inline;vertical-align:middle;\" /></a></span><br>"
      ],
      "text/plain": [
       "complex_power_not_one_inst: {l in {-2^{t - 1} + 1 .. 2^{t - 1}}} |- (e^{i * 2 * pi * (delta - (l / 2^{t}))} != 1) = ((delta - (l / 2^{t})) not-in Integer)"
      ]
     },
     "execution_count": 16,
     "metadata": {},
     "output_type": "execute_result"
    }
   ],
   "source": [
    "# some auto_simplification in the background reduces this to EXPR = TRUE\n",
    "from proveit import theta\n",
    "complex_power_not_one_inst = complex_power_not_one.instantiate(\n",
    "        {theta: theta_temp})"
   ]
  },
  {
   "cell_type": "code",
   "execution_count": 17,
   "metadata": {},
   "outputs": [],
   "source": [
    "# this is now causing an error, but didn't before\n",
    "# exp_expr_not_one = complex_power_not_one_inst.derive_via_boolean_equality(preserve_expr=complex_power_not_one_inst.lhs)"
   ]
  },
  {
   "cell_type": "code",
   "execution_count": 18,
   "metadata": {},
   "outputs": [],
   "source": [
    "# temp comment out from original\n",
    "# exp_expr_not_one.inner_expr().lhs.exponent.group_commute(\n",
    "#         1, 0, 2)"
   ]
  },
  {
   "cell_type": "code",
   "execution_count": 19,
   "metadata": {},
   "outputs": [],
   "source": [
    "# %qed"
   ]
  },
  {
   "cell_type": "code",
   "execution_count": null,
   "metadata": {},
   "outputs": [],
   "source": []
  }
 ],
 "metadata": {
  "kernelspec": {
   "display_name": "Python 3",
   "language": "python",
   "name": "python3"
  },
  "language_info": {
   "codemirror_mode": {
    "name": "ipython",
    "version": 3
   },
   "file_extension": ".py",
   "mimetype": "text/x-python",
   "name": "python",
   "nbconvert_exporter": "python",
   "pygments_lexer": "ipython3",
   "version": "3.7.3"
  }
 },
 "nbformat": 4,
 "nbformat_minor": 1
}
