{
 "cells": [
  {
   "cell_type": "markdown",
   "metadata": {},
   "source": [
    "Proof of <a class=\"ProveItLink\" href=\"../../../../../../_theory_nbs_/theory.ipynb\">proveit</a>.<a class=\"ProveItLink\" href=\"../../../../../_theory_nbs_/theory.ipynb\">physics</a>.<a class=\"ProveItLink\" href=\"../../../../_theory_nbs_/theory.ipynb\">quantum</a>.<a class=\"ProveItLink\" href=\"../../theory.ipynb\">QPE</a>.<a class=\"ProveItLink\" href=\"../../theorems.ipynb#_fail_sum\">_fail_sum</a> theorem\n",
    "========"
   ]
  },
  {
   "cell_type": "code",
   "execution_count": 1,
   "metadata": {},
   "outputs": [],
   "source": [
    "import proveit\n",
    "theory = proveit.Theory() # the theorem's theory"
   ]
  },
  {
   "cell_type": "code",
   "execution_count": 2,
   "metadata": {},
   "outputs": [
    {
     "data": {
      "text/html": [
       "Under these <a href=\"presumptions.txt\">presumptions</a>, we begin our proof of<br><strong id=\"_fail_sum\">_fail_sum:</strong> <a class=\"ProveItLink\" href=\"../../../__pv_it/theorems/a3a809e63eb0ad4aefe6def45a536f765ee15aa20/expr.ipynb\"><img src=\"data:image/png;base64,iVBORw0KGgoAAAANSUhEUgAAAn0AAABMBAMAAADq5BzfAAAAMFBMVEX///+IiIgiIiIQEBB2dnbu\n",
       "7u5ERETMzMzc3NwyMjK6urpmZmaYmJiqqqpUVFQAAAB6qHgnAAAAAXRSTlMAQObYZgAAAAlwSFlz\n",
       "AAAOxAAADsQBlSsOGwAADDZJREFUeNq1XGuMG1cVvn6M7V0/kxIh0ai7XRpVWgV2C00VtZXWSVMk\n",
       "UJIdNVElSJXdEMWUkmqdBrVCFbXVRmlFVGJAPIpAa7UF8W83VUmBlK4DCiI01VoplaiKtPuDBvEn\n",
       "9ma9eexrmJfv3LlzZubac3KkbL4Z+3y+95t7z30dmxBk66mieAej0SyxxevVX3bJ9aLMA2R7D8f7\n",
       "veAl2evxWnK+S67oPA9wLb0NxTsYjWGRmvtrH8rdcj3sAKi2r4biHYzGsN6bri9JD3fNNVXmAar9\n",
       "D8cboPkXd53zZbvi+kqmYoW2aROclIW4MuM8wLT4Moo3QJNiBxTpohrCfOlO191eKVlkKfM5xC/L\n",
       "QlyJNR6gjr4VFG+A5mAbaO3l2Ea1S+X96GL9bq+8ZsGNfzZBWBbj+qYDINpcFcUboPlTG+jd5rL6\n",
       "76e+zXnBbZgym/f+vZ+SMBHSz+Iq5XiAaD/G8QZo1Oe//3yN1W+PL99ht3be327Kb5GvE3Lq3Llz\n",
       "VR/9LK7YMA8Qw98CijdAk6gQ6V4yz+r3iX97dgmA7ZazTE4XP0kJtT+LK73GAzzLLKF4AzS94yQz\n",
       "f8LW/n7rS5h1icYNU6oLqn6n/m4+szv2CHLdcgA0GxtH8bbRPFtQrZyeJ5F3PyLJQuGBwlFDv2f9\n",
       "H8gNePZ3ncKd4g+XcjWKPECz2TqKN0ATHyfZsn388O+/vS3wdop2vPgW8Rk05ZrK8wDNJmQUb4im\n",
       "n8TqJM/qt8GfcRGei9DwcLKD8lKu7DAPsEy6huIN0jxJpDPnZVO/E5M7tDv+TwTsYWP9dO2REF+E\n",
       "Ua7YDR5gWaqF4g3SvGmb/2kqC8TaPrCHzbbvnnzuefEGSLlCLR6gDb/LKN4gTbLMrD9sNzysBA7A\n",
       "jfbsfERRxItHueK3eIBlkSaKN0zzKHf9DwHKLDifGumqeBaXIvMAa/rSj+IN00jctUjZe5bxorTF\n",
       "NVnlAdbqdxzFOxiNrdND66H09YBcMzkeINlMHsU7GI1tSIKkSrYCcs2O8wDJJuso3sFobLNuaALY\n",
       "sxaQqzTMAyQbKaJ4j6CtiyRofI3cCMg11uQBkgUbjzyHtUnFMv9NHmnXVYNDKXoOyiKsTq7sDR7g\n",
       "WEJB8QZp5szSSz+4a2TRP9aTpDGGDwGh4HSzI1YnV3iNBziWvobiDdJkFDqpSQ35xsdsNWE0jUlg\n",
       "hJzr74jVydWzwAMcC91C8YZphtatFuE77KVks84NYCjvq3TE6uTKtHiAY1FjhA8NAEFn473G/8ai\n",
       "K+HuzQD78kmpUfwHx6tl/iJqNKyZeSfT6Lg3a8KPK7nOA6Tlr0EXBWflXzO0NTpJb87VmwH25qlY\n",
       "x+EpF3bm4hkj5o8CC+DGvDerrfwQV/QWA3Syf6PoF1uhnx+auH7127931vCf5tVmV28GcPtHXtGV\n",
       "1y9xxGxrwFJwYtqbldfPwRW9xgD9XPAXKPr1WPrpxwWHZb6GEj3gld28GWC3fcq0uH6nyCtGrANm\n",
       "uJPT3qy8fg6u0CIDXtB6PM46JNyyPl874prL8TVMtqNNatrNmwF261XWhPVLfOs5o/HP0rlKLw10\n",
       "Q3lvVk4/J1dKYYDWEqI4C6YIo19fkdu91GsYoZfb3LwZwMf9RVlUv4iiNDn90vRhjuS9WTn9nFw2\n",
       "/VLqc+nBGT8iC9bnTxBu91yv4cf08ldu3gzgO7hSEe6/dK4H6ZfzZnWMHzxXWmHBlwYG7kfSb9X6\n",
       "/Ov8KbhekLe1GLjjThlKbjS9GcAvpEZanvrt2lsU06/mzaqVP7rrv6L6vUPIERz9spZ+qnaJnXWH\n",
       "flqre70YVzvQRe3yrQHNvmjzZoDbGg7W78WqtD1R5+o8Bein1LxZ1fInBsm+8qtuXL0KC35IErZJ\n",
       "Zmo3vDyF8+S+y0xSsmvW/GV91+4qefOMdv0X8njTLMgXVJ5VElLf8KFT/TUeOFaiyjYP/e4j5Dsh\n",
       "+WDTVufSEqBf3ZtVLX8kR2LTm6QGzBVvb3DoICbbJ7zHmS0H07Q8JSBPTrvNdsTUBapfTH9WSy9r\n",
       "f4+RRLtSD6qvLGzQYMm5TrrAA+cabsFdv6T6GX+MknTFVucnjLaWHBj4vBqnjHZySfZmVcs/o7pU\n",
       "8lq4dnKp8lxiQTpHh49jV57SYzzdcjBNy1MC8uS028yQQLLLVD89W0RqT5gkRr+sUYk3nO1vmQfO\n",
       "nZN+d/0i6hzskUdJMu/f/qrerGr5H1D/3i9r4dq//ZHK+XZLfsccI+mWg2lanhKQJ6fdtuln9d+S\n",
       "Nkd4vlU78X5VmrD0U/tv1qjHZWf88+2/5I6yu35jKu9onYSrnfZfB2u0KqktMqqWYlBIvz1aIqKW\n",
       "W2csqj5mthxM0/KUgDy5C+769VWNZvcfsp2ctvQ7pMqvKqtW4G9dxL/eGx7jr/ZcHiFkzB7zS01f\n",
       "/Rysavk1/YatYnNcccUGXlJ7lJZbZx7o6yNjlGvTOwmYJ7dTHU7B+cuk2W1fIUfVKtGCqMEyVSEH\n",
       "ysZMpsP5CynVPfRLjpPUTFx/nD7jr33+4mRVy3+WkPebRS6Wuoy/JKOO31punbHCif+cWFsObYtv\n",
       "IVCenJa+1LMJ0O+scsjQL7Tjbla/Z9R/n7mk1WSwi/nffZ7rt12XNiV36M+lI/2crGr5o7vPy2/n\n",
       "uFjqpp9e5nc/IqmfFQpPkxc+JdaWAwHnLCSupeQ9adxO/8hawa7a5++qbFvJIZnRL9yeaiWcI0F4\n",
       "lQf8+kNk/2BQ9tVvqObNSssf/o2wflpuXdxYF95FrC0HOvcD85T02y8xRVng9ZOWyN05Rj+6bZCs\n",
       "OeXx2xUviOxfNXP2NcOwc//AvqdfcN+/yoZgrvQiD4zcuiPt8cPccpDyZL/R/OA8Jf02M37EWvbP\n",
       "P7hSvvPS9zY1pg+stAvSzjk7Cez/tXjAzZ6tXMe0u35n7OPvLLT/l/dmpeVPfg7mSl3jgZFbd7Jo\n",
       "6mduOcS3k+N6u3PJU9JvM/plVnz3nx83r4DcvcwKD+z2V6sLfCC8f9AH7T9Pe7O67R9QLreTGukr\n",
       "hadsgogY83bzOCAKnn88aHR5o++EgHDgc6rATDPSzk3Rz7pcjAI7m+yZCMQaKvpweZ/UvN61ftHu\n",
       "EnOESsV8GUuamRYmhd7KatoJK31DcoUHtjjeUVJR/NfMCjbQ+SX1BmmsacarDUU8v2MCqMxspTtW\n",
       "yhVb4IHNvt9JrV9mu9hiEP2oN0jTc+s13QbUoNvBMT2UijQ13B0r5aIJSD24+Qe3M39jhslUWRUn\n",
       "hVKRmPyNjlgpF01AiiAnkCtlFO9gNHZOYN6VvRmQiyYgZZdw9RuqongHo7G1aSgUhJcDcp0e5gGS\n",
       "NWoo3sFobDEVGooyqwG5pio8QLK+aRTvYDSsgd/QCK0E5KLnsvDXS7q3YM/jNjzWzJpoo+yEq1Hn\n",
       "AZIFy2e9DWmxYSjAS0pAriGZB1jFvYni7U4j+GMZ1iMBA/yQPr4fBJ7SExUBLmmRB1gWXUXxNgBf\n",
       "P5dDQOmiB+XcPHR3VB+f0nattJ/ziG/oF+BKr/MAbbhbR/E2AFc/6BCw/VMc7kM6GKCmdCWS9uAf\n",
       "0z+zX4CLBsIM+hf4R3C8R4D6QYeA+kbA5Y7LY3y/LtyeZUq7N4voN2J3J0G/7gduURRRvHUQ5mbR\n",
       "wCGgn35xuD8k9WXXmPZjAIXCUfJYMSOgn8VVmucB3gQmj+KtgzFCzmoVtCbTjkNAP/1CcAczvopP\n",
       "N96uJnYL6Gdx9dV5gGaRYRRvHTj2cZ2HgH769bgU58vaH3qC+tAHsvqkDmtPykM/i+snDoBmoWUU\n",
       "bx3Q+rGnfWwvZH6Kw8VKLt1BP90flM3+e1No/KBc8RYPEG0dx3tdr5+9/wKHgH7tr+EyS9RzcJrt\n",
       "7dCnSVRAP8rl9Ss1gW1URvHWQJPbOgYOAX30k9yeZlSr+Zn2+HRg8yZTv8RXWzlfrrF5HmCu4PIo\n",
       "3ho4w42/wCGgpp/+Uxwu8cBtHSMBPS/mE1soV1+ZB5gBcAnFW5Bm3Gc8ct3H6XN2k6Qo10MOgGn3\n",
       "4HiL0fjsc/W5BpNwx92EcnX6jDu0uTKK9xxC35DcV+Ppm11zjdV4gGr+340U8g5GY46PHhxnu+a6\n",
       "4gC4thXHe2vwkrzhMRcI17rk6t3GA2Q7LqN4Hw++NTno8Vp8W5dcdFXOL8/R9rDKKN7BaPSQ5VnB\n",
       "33XJ9Q0O/B9BQKGgFKDMSgAAAABJRU5ErkJggg==\n",
       "\" style=\"display:inline;vertical-align:middle;\" /></a><br>(see <a class=\"ProveItLink\" href=\"../../../__pv_it/theorems/1b0c7ab056591624c8bf0c45a8154a45fd8dcfb00/dependencies.ipynb\">dependencies</a>)<br>"
      ],
      "text/plain": [
       "_fail_sum: forall_{e in {2 .. 2^{t - 1} - 2}} ([Pfail](e) = ((Sum_{l=-2^{t - 1} + 1}^{-(e + 1)} |alpha_{l}|^{2}) + (Sum_{l=e + 1}^{2^{t - 1}} |alpha_{l}|^{2})))"
      ]
     },
     "execution_count": 2,
     "metadata": {},
     "output_type": "execute_result"
    }
   ],
   "source": [
    "%proving _fail_sum"
   ]
  },
  {
   "cell_type": "code",
   "execution_count": null,
   "metadata": {},
   "outputs": [],
   "source": []
  }
 ],
 "metadata": {
  "kernelspec": {
   "display_name": "Python 3",
   "language": "python",
   "name": "python3"
  },
  "language_info": {
   "codemirror_mode": {
    "name": "ipython",
    "version": 3
   },
   "file_extension": ".py",
   "mimetype": "text/x-python",
   "name": "python",
   "nbconvert_exporter": "python",
   "pygments_lexer": "ipython3",
   "version": "3.7.3"
  }
 },
 "nbformat": 4,
 "nbformat_minor": 1
}
