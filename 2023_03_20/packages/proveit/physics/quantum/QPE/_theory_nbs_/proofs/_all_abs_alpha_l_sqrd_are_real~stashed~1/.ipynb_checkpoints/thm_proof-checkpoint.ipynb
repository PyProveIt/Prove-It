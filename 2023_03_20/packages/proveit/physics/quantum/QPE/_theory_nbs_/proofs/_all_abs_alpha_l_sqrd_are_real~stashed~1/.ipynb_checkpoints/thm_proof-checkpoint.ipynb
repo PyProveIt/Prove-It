{
 "cells": [
  {
   "cell_type": "markdown",
   "metadata": {},
   "source": [
    "Proof of <a class=\"ProveItLink\" href=\"../../../../../../_theory_nbs_/theory.ipynb\">proveit</a>.<a class=\"ProveItLink\" href=\"../../../../../_theory_nbs_/theory.ipynb\">physics</a>.<a class=\"ProveItLink\" href=\"../../../../_theory_nbs_/theory.ipynb\">quantum</a>.<a class=\"ProveItLink\" href=\"../../theory.ipynb\">QPE</a>.<a class=\"ProveItLink\" href=\"../../theorems.ipynb#_all_abs_alpha_l_sqrd_are_real\">_all_abs_alpha_l_sqrd_are_real</a> theorem\n",
    "========"
   ]
  },
  {
   "cell_type": "code",
   "execution_count": 1,
   "metadata": {},
   "outputs": [],
   "source": [
    "import proveit\n",
    "theory = proveit.Theory() # the theorem's theory\n",
    "from proveit import defaults, l\n",
    "from proveit.numbers import two, Exp, RealNonNeg\n",
    "from proveit.physics.quantum.QPE import _all_abs_alpha_l_are_nonneg"
   ]
  },
  {
   "cell_type": "code",
   "execution_count": 2,
   "metadata": {},
   "outputs": [
    {
     "data": {
      "text/html": [
       "Under these <a href=\"presumptions.txt\">presumptions</a>, we begin our proof of<br><strong id=\"_all_abs_alpha_l_sqrd_are_real\">_all_abs_alpha_l_sqrd_are_real:</strong> <a class=\"ProveItLink\" href=\"../../../__pv_it/theorems/6cf966ad29f4f7cd8cc0eb403d4e94173c263ec40/expr.ipynb\"><img src=\"data:image/png;base64,iVBORw0KGgoAAAANSUhEUgAAAJgAAAAmBAMAAADKLE8XAAAAMFBMVEX///+IiIgiIiIQEBB2dnbu\n",
       "7u5ERETMzMzc3NwyMjK6urpmZmaYmJiqqqpUVFQAAAB6qHgnAAAAAXRSTlMAQObYZgAAAAlwSFlz\n",
       "AAAOxAAADsQBlSsOGwAAAwJJREFUSMeVlk1oE0EUx/+b7mY33fRDsIgeRAKKeqoitRcx2lZQsW61\n",
       "LQhiF2nXjyoGFT2IGqwUitqsRcGbe+lN7CpCUUEjRaFQJDcpeOjFHjWKxVItdSbJprPZzwxkssy8\n",
       "/c2b/3tvdgC/JucQsgmPA03eIXS7rAQYxPXwsPhcgMEV52rdnd88jC8GwB45h0y89DA+7r/PugXn\n",
       "2BIyKY9g+e8zknSOffSESYu+sNuuju/3Mu/3hc3TLs0uTn7iZi/zKV/YP9odYgZ4AxiucHe65dJY\n",
       "S5Y+ZXIoyPbVjSUuusAkU0rbzdRRPP9EV4iYeEMHnrimYd4FNnz9RoVr6l1EReqSrOMW1UJ1g9Xr\n",
       "LrC9KytwwOQ0NeXyiJGFeNd6rplz08xq3OnEtlUY9abuD+JEvJir/g1JH1jtQ2XVs/oeuq64DOxM\n",
       "JHa5w7IWrL0zVQkbUZhtXpulQRFI9CeBAVdYJleC3TGEVilnh62GTB0a+9VUePoJjEKag/CjJHrL\n",
       "4X7TKgALtgMY5JRTeRamMwGYOVF8+g1EFWozS/a8UTMiab7L2sCEUYTJJEVe86jTGZhIxElsKcGi\n",
       "JwuC4C8JQiPV/xXwlggTx837qPCshoSqrQNykoEJKuOZaA5YMOgfSLcdXBFvmpWwvkbgaA4Rg93m\n",
       "JjbPJoctzXCEfAuEPHqLaf+gfMJkStFsILA2oM8WgDUsrLfoCK3lIZIkRJBnhakuvmxFPSpopiL+\n",
       "XqSqMrBYOc/VeyRXz9M6WqYRJL4QQaY1Tcsh2YEeqwLMUjTbZ5rkfVRVBibMj5dPjbPQnhK2uGQd\n",
       "quO4WkjsL1l0WIurtgrYrtjKqfZAqZycp3wDR1KEpqWMWktbudkGyzfaYM7Gl1/cAOkM+f/8fe05\n",
       "68MQX7DBXhgBsCj7RenWNJuxsOx3anjVslcbpN06ZoBL+ZlPpP1mp1BVO+g722dUBdvjO8vr1bC4\n",
       "Zv/53dXAagLuctPVwNYHzMey4VlSa9Ddcmt42LHAG+uIEhp2Idj3VOgLMk2j/5xkwpe8yhXbAAAA\n",
       "AElFTkSuQmCC\n",
       "\" style=\"display:inline;vertical-align:middle;\" /></a><br>(see <a class=\"ProveItLink\" href=\"../../../__pv_it/theorems/7729c9ec12c0d8a026cef6f15f12fd6ed99f1e830/dependencies.ipynb\">dependencies</a>)<br>"
      ],
      "text/plain": [
       "_all_abs_alpha_l_sqrd_are_real: forall_{l in Integer} (|alpha_{l}|^{2} in Real)"
      ]
     },
     "execution_count": 2,
     "metadata": {},
     "output_type": "execute_result"
    }
   ],
   "source": [
    "%proving _all_abs_alpha_l_sqrd_are_real"
   ]
  },
  {
   "cell_type": "code",
   "execution_count": 3,
   "metadata": {},
   "outputs": [
    {
     "data": {
      "text/html": [
       "<strong id=\"defaults.assumptions\">defaults.assumptions:</strong> <a class=\"ProveItLink\" href=\"../../../__pv_it/_proof__all_abs_alpha_l_sqrd_are_real/9d653541d73b93ecf37ec47732c843513b4cabea0/expr.ipynb\"><img src=\"data:image/png;base64,iVBORw0KGgoAAAANSUhEUgAAADoAAAAVBAMAAADlb+D4AAAAMFBMVEX////MzMxUVFRERES6uroi\n",
       "IiIQEBCYmJhmZmYyMjLu7u52dnaqqqqIiIjc3NwAAACW8nlqAAAAAXRSTlMAQObYZgAAAAlwSFlz\n",
       "AAAOxAAADsQBlSsOGwAAAUZJREFUKM9jYGB4wIAd8IEI3gPowjzTvk0ONStguQBkn2Zg2PoRRZbX\n",
       "SIBhAicDw3UGBq4JDAzsH1BkORoYeAv2MDBwLmDgKAByJ6DIMj1gWMxlANTUwMAG5LJegJhoGhoJ\n",
       "orkYGBqZBICMLIaTQPI9iMnAMncBTDejggSIms7QDSTrwUIv4ZIMzAusQNQmoDwDgzJYaB7C5tPs\n",
       "YLsqGWKAZC5YCMlpIP8AwTGGFKAt/8B2pYaGhgZDnHdgCwMD0B55kCxvAtilBnCti/mAbD0GBjeQ\n",
       "ycwKYPcEwGUVgT7mAobQUQZbBgb+gg0gsbtw/zR4AIMEqLgY6GoGfi+wCzkPwP0zi4HPBmh4N4Mo\n",
       "MMS6wYJcyl4QWTfLZOP8ZKB5IQysAnDrWDZDQhIewQGgoMYFQBFkh1P2MchzOGVB+vgu4JDkfcAA\n",
       "AKPvQYVQFXJsAAAAAElFTkSuQmCC\n",
       "\" style=\"display:inline;vertical-align:middle;\" /></a><br>"
      ],
      "text/plain": [
       "defaults.assumptions: (l in Integer)"
      ]
     },
     "execution_count": 3,
     "metadata": {},
     "output_type": "execute_result"
    }
   ],
   "source": [
    "defaults.assumptions = _all_abs_alpha_l_sqrd_are_real.conditions"
   ]
  },
  {
   "cell_type": "code",
   "execution_count": 4,
   "metadata": {},
   "outputs": [
    {
     "data": {
      "text/html": [
       "<span style=\"font-size:20px;\"> <a class=\"ProveItLink\" href=\"../_all_abs_alpha_l_are_nonneg/thm_proof.ipynb\" style=\"text-decoration: none\">&nbsp;&#x22A2;&nbsp;&nbsp;</a><a class=\"ProveItLink\" href=\"../../../__pv_it/theorems/fe16c4db0038134f6e01dc1446689632b93ee31d0/expr.ipynb\"><img src=\"data:image/png;base64,iVBORw0KGgoAAAANSUhEUgAAAJ8AAAAaBAMAAABbSJO4AAAAMFBMVEX///+IiIgiIiIQEBB2dnbu\n",
       "7u5ERETMzMzc3NwyMjK6urpmZmaYmJiqqqpUVFQAAAB6qHgnAAAAAXRSTlMAQObYZgAAAAlwSFlz\n",
       "AAAOxAAADsQBlSsOGwAAArNJREFUSMellU1oE1EQx//Z7G42XyZaa0FENN7qwQ9E6y2ljYf6tQUV\n",
       "vKRRzGprCwE9CKJd9Ko2IIKHKjmoIIhG8FuoEfGgFNmbCB5yURC15hLBg+C8zW7yNn1mIw7s293Z\n",
       "t795b+bNDPC/Epqwb/Jg2n/u266I+6bY+BK3EPWZGS93t8bAJA3bkDC1XOeJBwGTfzf/NjF2CFod\n",
       "QYuW2VHI8Aj/PuKlXDZ+rZt0ngdCdUgVSDpQZYqPIp62sSMQqlaNfMuzJ2VHiYDBJAJEe8Y0V0XA\n",
       "aNoPmEbuLLM8V2BbTlhQ6oCtETozUfIHPgnT3wsFJyjALBCmbcuWCDiti4ErUqliE6hC+WoHaynu\n",
       "0viI/FkhqDAmyyAE3u7lVvgpC0V3DvZDGnvo2pxKbRECvziM4T0FDqhd4bYcmmrz/j2iPwbyQqDR\n",
       "YJwrKQOa1QSGzRZw+4a1epubyPYlaFUoPxqKJVt3HnHz43qDsQk4HtCzNRfIBWXXa3JmyCA55uhm\n",
       "KJCqLtP4gb6sNkqSKY+6RtfbwCiRnsqIFx3giRRJztlyfr5tV2OEiieZ0QfAc1puDGcuwLPCIP08\n",
       "lGkdygP8sTmttm15hrm7yDKwH4GKrSqXvcCxJLDXguQeSokHRk+1neBp5uHdFDel5piOXSy4Hz/b\n",
       "wAQBh2gvblACSQ6o5FYtjjLOUwKSi+7YmlG5+bGn4cMcYi9CzMfOObzWApYxr5Y8wFd2ZAt23r6h\n",
       "YFlIZ7Cfs0aM4fne6CDzsQPMTuhutflpquO/PcA590G6iZPsHnlfQcbRBflc7m/l4Y3DjdQTyWyz\n",
       "EARgB0yOIrJGVG1qyUXFQSCs2jg/r4R2lO7vFpaPV93uw9fD+6VugLGqp9kYhtfD3zuXL4FIpl9P\n",
       "6ePf+3yBPj0lnsa/iV/X67Ivc02D4voH/0meNEs4eK8AAAAASUVORK5CYII=\n",
       "\" style=\"display:inline;vertical-align:middle;\" /></a></span>"
      ],
      "text/plain": [
       "|- forall_{l in Integer} (|alpha_{l}| in RealNonNeg)"
      ]
     },
     "execution_count": 4,
     "metadata": {},
     "output_type": "execute_result"
    }
   ],
   "source": [
    "_all_abs_alpha_l_are_nonneg"
   ]
  },
  {
   "cell_type": "code",
   "execution_count": 5,
   "metadata": {},
   "outputs": [
    {
     "data": {
      "text/html": [
       "<strong id=\"expr\">expr:</strong> <span style=\"font-size:20px;\"><a class=\"ProveItLink\" href=\"../../../__pv_it/theorems/7b8e14bfeec30fa2c83deb2740813fd8ea169a4c0/expr.ipynb\"><img src=\"data:image/png;base64,iVBORw0KGgoAAAANSUhEUgAAAC4AAAAQBAMAAACb51DZAAAAMFBMVEX///+qqqq6urru7u4QEBBE\n",
       "RERUVFTc3NyIiIgyMjJmZmaYmJjMzMwiIiJ2dnYAAACPW0xlAAAAAXRSTlMAQObYZgAAAAlwSFlz\n",
       "AAAOxAAADsQBlSsOGwAAANZJREFUGNNjYEADjFO+TL0bsoGB4e0fFHGOsAMMEziBDO4PKOJcCxg4\n",
       "NjwEMSagiLMVMJgyBwAZvA0Q/bF3b4JoZgaGNWwHgIx6EMHANMMApoMn4RSI2g/mVMKFGVgNgkFU\n",
       "KpgzHWGDHDfYZA8wB8lysCsZeL6DSd+7d+9ehThA4BEDgwEDhwPYFQFw5absQHY6A2sC2MYLcPEc\n",
       "oA+YPzDwb3gA4nXAXblAC+i5Cwz8ymDbOQXgrpzMwB4YwMC9DsxlTlWGiKtEuob6uz6AG8v0FBIO\n",
       "UAAAaDkwDDbpPcIAAAAASUVORK5CYII=\n",
       "\" style=\"display:inline;vertical-align:middle;\" /></a> <a class=\"ProveItLink\" href=\"../../../__pv_it/_proof__all_abs_alpha_l_sqrd_are_real/f710a5e008ac686a1194cc941260f0a16103b5a50/proof.ipynb\" style=\"text-decoration: none\">&nbsp;&#x22A2;&nbsp;&nbsp;</a><a class=\"ProveItLink\" href=\"../../../__pv_it/theorems/05fdafaba2ccc61e709143bbe2ea633314a4f12a0/expr.ipynb\"><img src=\"data:image/png;base64,iVBORw0KGgoAAAANSUhEUgAAAFoAAAAYBAMAAACIFvdWAAAAMFBMVEX///+YmJgyMjJmZmZERESq\n",
       "qqoQEBDu7u4iIiJUVFTMzMyIiIi6urp2dnbc3NwAAADPGwW7AAAAAXRSTlMAQObYZgAAAAlwSFlz\n",
       "AAAOxAAADsQBlSsOGwAAAXtJREFUOMuV0rFLAlEcB/Cvnal5amdIs0vkVjQW1UFCDUcd/g02CfEK\n",
       "QRxC2hwanJscpLWDBCEIjraGoCGMqKMDI3KIXIKm6J13vp7npfYb7n7vvQ+P937vB4yOmt79GZcY\n",
       "J4J3Kv36tIg8FkddAgJVfMPkJmN/8oSGD4JdPHFzUb2PzGR3UlnJzmfNM4KjYRpyG9cJYmWHCqjO\n",
       "Ddfv8IcrNGmdwDrJ5ygtmEmgTbF9Sy9dL5eTTMsorlkDUYtUvPRV43fvqUIFBXtknJOuNh6qnI7N\n",
       "cyepZfgSW/pND+7FVKYn2Lr8mvpqwKVzwIZIip2e5m4ZP7D6JE3DdLTQAZaimEw6+rRMQ7a1f19y\n",
       "7R2gK817CLeOznN7hxc3XbqkAc8qQrqjQ3y9l19ceprqJlDq3VLUOJ0XpX4tyPCth5Fh9Z5jugWf\n",
       "pLhqYsQbwiNWmS4qpNeD20gvqP3ajmPCXv5my375wWC6ow101RC9ov9He3TsYFxwuVgdgX8AAteB\n",
       "dWtePw8AAAAASUVORK5CYII=\n",
       "\" style=\"display:inline;vertical-align:middle;\" /></a></span><br>"
      ],
      "text/plain": [
       "expr: {l in Integer} |- |alpha_{l}| in RealNonNeg"
      ]
     },
     "execution_count": 5,
     "metadata": {},
     "output_type": "execute_result"
    }
   ],
   "source": [
    "expr = _all_abs_alpha_l_are_nonneg.instantiate({l: l})"
   ]
  },
  {
   "cell_type": "code",
   "execution_count": 6,
   "metadata": {},
   "outputs": [
    {
     "data": {
      "text/html": [
       "<span style=\"font-size:20px;\"><a class=\"ProveItLink\" href=\"../../../__pv_it/theorems/7b8e14bfeec30fa2c83deb2740813fd8ea169a4c0/expr.ipynb\"><img src=\"data:image/png;base64,iVBORw0KGgoAAAANSUhEUgAAAC4AAAAQBAMAAACb51DZAAAAMFBMVEX///+qqqq6urru7u4QEBBE\n",
       "RERUVFTc3NyIiIgyMjJmZmaYmJjMzMwiIiJ2dnYAAACPW0xlAAAAAXRSTlMAQObYZgAAAAlwSFlz\n",
       "AAAOxAAADsQBlSsOGwAAANZJREFUGNNjYEADjFO+TL0bsoGB4e0fFHGOsAMMEziBDO4PKOJcCxg4\n",
       "NjwEMSagiLMVMJgyBwAZvA0Q/bF3b4JoZgaGNWwHgIx6EMHANMMApoMn4RSI2g/mVMKFGVgNgkFU\n",
       "KpgzHWGDHDfYZA8wB8lysCsZeL6DSd+7d+9ehThA4BEDgwEDhwPYFQFw5absQHY6A2sC2MYLcPEc\n",
       "oA+YPzDwb3gA4nXAXblAC+i5Cwz8ymDbOQXgrpzMwB4YwMC9DsxlTlWGiKtEuob6uz6AG8v0FBIO\n",
       "UAAAaDkwDDbpPcIAAAAASUVORK5CYII=\n",
       "\" style=\"display:inline;vertical-align:middle;\" /></a> <a class=\"ProveItLink\" href=\"../../../__pv_it/_proof__all_abs_alpha_l_sqrd_are_real/eb63159f37d3d84e65b106a8c7b6c84632eeab490/proof.ipynb\" style=\"text-decoration: none\">&nbsp;&#x22A2;&nbsp;&nbsp;</a><a class=\"ProveItLink\" href=\"../../../__pv_it/_proof__all_abs_alpha_l_sqrd_are_real/def5744dd5f2e768cbca58a3e1235e4f3a4110a60/expr.ipynb\"><img src=\"data:image/png;base64,iVBORw0KGgoAAAANSUhEUgAAAGQAAAAaBAMAAACz5OTWAAAAMFBMVEX///+YmJgyMjJmZmZERESq\n",
       "qqoQEBDu7u4iIiJUVFTMzMyIiIi6urp2dnbc3NwAAADPGwW7AAAAAXRSTlMAQObYZgAAAAlwSFlz\n",
       "AAAOxAAADsQBlSsOGwAAAatJREFUOMtjYEAFtTenM5AIDBgsSNXyh+H9AqwSSw6Aqbt7MWTEcWlh\n",
       "vxIAJBk38Dhgyt3A5YAtAgwMbAsY/jE8QBYFcrjacTpaZAPD+wKGVIY7yIJAzpMCVHVCKf4aKQIQ\n",
       "ttiD9QUMjeha+Az4HqDqcXjJcFIEbE6tDwNQSza6lierFqNZ4/CWgYVrApDxeBYDyGFf0bXk///P\n",
       "gKGF+YECA8NLoA6I99H9AgPcHh1NCC0ODJV2YNENPBNwaeHRLkDYwlk+gaEcwru7uQCs6u7NBeha\n",
       "HhUgOWxJ0AM0g18cYM/jC0DVoofwyzONH9sZ0LRkMzA4cxdUfkDWooDkfcEiUBpzAYIHUC3MQLVG\n",
       "vAysCkhauDI6OjpaoFpYCgXQbGEDJrRr1xmYLyBpYXdAsoXLwB1NS/0GBob7AQwcB5Ad1oAcL1ZP\n",
       "0LTwA7VcY2CoR/H+bmQtJdwCqFqYHRgY7bkYglC0MAXAtTxmYBTwQQuxu4LbmW8z2KJoYZ9yHJ6S\n",
       "/Rhc9AOwRXhPAUqC4bkCTTCYAK7qwwYG1NSDE8BVWR8gWQsGByfYhZODCwAAsC6SeDzU7O0AAAAA\n",
       "SUVORK5CYII=\n",
       "\" style=\"display:inline;vertical-align:middle;\" /></a></span>"
      ],
      "text/plain": [
       "{l in Integer} |- |alpha_{l}|^{2} in RealNonNeg"
      ]
     },
     "execution_count": 6,
     "metadata": {},
     "output_type": "execute_result"
    }
   ],
   "source": [
    "Exp(expr.element, two).deduce_in_number_set(RealNonNeg)"
   ]
  },
  {
   "cell_type": "code",
   "execution_count": 7,
   "metadata": {},
   "outputs": [
    {
     "data": {
      "text/html": [
       "<table><tr><th>&nbsp;</th><th>step type</th><th>requirements</th><th>statement</th></tr>\n",
       "<tr><td><a name=\"-0x35b794e7ec31d4ad_step0\">0</a></td><td>generalization</td><td><a href=\"#-0x35b794e7ec31d4ad_step1\">1</a></td><td><span style=\"font-size:20px;\"> <a class=\"ProveItLink\" href=\"../../../__pv_it/_proof__all_abs_alpha_l_sqrd_are_real/05b3b40c63e5210b0697eee90dd930c684ed92020/proof.ipynb\" style=\"text-decoration: none\">&nbsp;&#x22A2;&nbsp;&nbsp;</a><a class=\"ProveItLink\" href=\"../../../__pv_it/theorems/6cf966ad29f4f7cd8cc0eb403d4e94173c263ec40/expr.ipynb\"><img src=\"data:image/png;base64,iVBORw0KGgoAAAANSUhEUgAAAJgAAAAmBAMAAADKLE8XAAAAMFBMVEX///+IiIgiIiIQEBB2dnbu\n",
       "7u5ERETMzMzc3NwyMjK6urpmZmaYmJiqqqpUVFQAAAB6qHgnAAAAAXRSTlMAQObYZgAAAAlwSFlz\n",
       "AAAOxAAADsQBlSsOGwAAAwJJREFUSMeVlk1oE0EUx/+b7mY33fRDsIgeRAKKeqoitRcx2lZQsW61\n",
       "LQhiF2nXjyoGFT2IGqwUitqsRcGbe+lN7CpCUUEjRaFQJDcpeOjFHjWKxVItdSbJprPZzwxkssy8\n",
       "/c2b/3tvdgC/JucQsgmPA03eIXS7rAQYxPXwsPhcgMEV52rdnd88jC8GwB45h0y89DA+7r/PugXn\n",
       "2BIyKY9g+e8zknSOffSESYu+sNuuju/3Mu/3hc3TLs0uTn7iZi/zKV/YP9odYgZ4AxiucHe65dJY\n",
       "S5Y+ZXIoyPbVjSUuusAkU0rbzdRRPP9EV4iYeEMHnrimYd4FNnz9RoVr6l1EReqSrOMW1UJ1g9Xr\n",
       "LrC9KytwwOQ0NeXyiJGFeNd6rplz08xq3OnEtlUY9abuD+JEvJir/g1JH1jtQ2XVs/oeuq64DOxM\n",
       "JHa5w7IWrL0zVQkbUZhtXpulQRFI9CeBAVdYJleC3TGEVilnh62GTB0a+9VUePoJjEKag/CjJHrL\n",
       "4X7TKgALtgMY5JRTeRamMwGYOVF8+g1EFWozS/a8UTMiab7L2sCEUYTJJEVe86jTGZhIxElsKcGi\n",
       "JwuC4C8JQiPV/xXwlggTx837qPCshoSqrQNykoEJKuOZaA5YMOgfSLcdXBFvmpWwvkbgaA4Rg93m\n",
       "JjbPJoctzXCEfAuEPHqLaf+gfMJkStFsILA2oM8WgDUsrLfoCK3lIZIkRJBnhakuvmxFPSpopiL+\n",
       "XqSqMrBYOc/VeyRXz9M6WqYRJL4QQaY1Tcsh2YEeqwLMUjTbZ5rkfVRVBibMj5dPjbPQnhK2uGQd\n",
       "quO4WkjsL1l0WIurtgrYrtjKqfZAqZycp3wDR1KEpqWMWktbudkGyzfaYM7Gl1/cAOkM+f/8fe05\n",
       "68MQX7DBXhgBsCj7RenWNJuxsOx3anjVslcbpN06ZoBL+ZlPpP1mp1BVO+g722dUBdvjO8vr1bC4\n",
       "Zv/53dXAagLuctPVwNYHzMey4VlSa9Ddcmt42LHAG+uIEhp2Idj3VOgLMk2j/5xkwpe8yhXbAAAA\n",
       "AElFTkSuQmCC\n",
       "\" style=\"display:inline;vertical-align:middle;\" /></a></span></td></tr>\n",
       "<tr><td><a name=\"-0x35b794e7ec31d4ad_step1\">1</a></td><td>instantiation</td><td><a href=\"#-0x35b794e7ec31d4ad_step5\">5</a>, <a href=\"#-0x35b794e7ec31d4ad_step6\">6</a>, <a href=\"#-0x35b794e7ec31d4ad_step2\">2</a></td><td><span style=\"font-size:20px;\"><a class=\"ProveItLink\" href=\"../../../__pv_it/theorems/7b8e14bfeec30fa2c83deb2740813fd8ea169a4c0/expr.ipynb\"><img src=\"data:image/png;base64,iVBORw0KGgoAAAANSUhEUgAAAC4AAAAQBAMAAACb51DZAAAAMFBMVEX///+qqqq6urru7u4QEBBE\n",
       "RERUVFTc3NyIiIgyMjJmZmaYmJjMzMwiIiJ2dnYAAACPW0xlAAAAAXRSTlMAQObYZgAAAAlwSFlz\n",
       "AAAOxAAADsQBlSsOGwAAANZJREFUGNNjYEADjFO+TL0bsoGB4e0fFHGOsAMMEziBDO4PKOJcCxg4\n",
       "NjwEMSagiLMVMJgyBwAZvA0Q/bF3b4JoZgaGNWwHgIx6EMHANMMApoMn4RSI2g/mVMKFGVgNgkFU\n",
       "KpgzHWGDHDfYZA8wB8lysCsZeL6DSd+7d+9ehThA4BEDgwEDhwPYFQFw5absQHY6A2sC2MYLcPEc\n",
       "oA+YPzDwb3gA4nXAXblAC+i5Cwz8ymDbOQXgrpzMwB4YwMC9DsxlTlWGiKtEuob6uz6AG8v0FBIO\n",
       "UAAAaDkwDDbpPcIAAAAASUVORK5CYII=\n",
       "\" style=\"display:inline;vertical-align:middle;\" /></a> <a class=\"ProveItLink\" href=\"../../../__pv_it/_proof__all_abs_alpha_l_sqrd_are_real/a0a18adbfad6c3f6ae87763ee05acaf5103c98400/proof.ipynb\" style=\"text-decoration: none\">&nbsp;&#x22A2;&nbsp;&nbsp;</a><a class=\"ProveItLink\" href=\"../../../__pv_it/theorems/790b9a7fab3406ab648c112298ce5c1a020741d20/expr.ipynb\"><img src=\"data:image/png;base64,iVBORw0KGgoAAAANSUhEUgAAAE8AAAAaBAMAAAAEWRzxAAAAMFBMVEX///+YmJgyMjJmZmZERESq\n",
       "qqoQEBDu7u4iIiJUVFTMzMyIiIi6urp2dnbc3NwAAADPGwW7AAAAAXRSTlMAQObYZgAAAAlwSFlz\n",
       "AAAOxAAADsQBlSsOGwAAAUBJREFUOMtjYEAFtTenMxAFDBgsiFP4h+H9AqIUihOrkIHhBg7xB2gc\n",
       "rnYcCu+gcZ4UoMoLpfhrpAhgKuQz4HuAqtLhJcNJkQIMhU9WLUYz0uEtAwvXBAyF+f//M2AoZH6g\n",
       "gOlGONjS0aEAV+iAW+Gh7QgTOcuhVt+9uQBdIZ86ktVLgh6A5V4cYM/jC0BVyAT3u8MzjR/bIXLZ\n",
       "DAzO3AWVH1AUInlGsAhiCDNQhREvAyuKz5Z1AIEDRCFLISTA2YD8a9cZmC8gKyxBMpHLwB2ssH4D\n",
       "A8P9AAaOA8gKOZDD0eoJWCE/UOE1BoZ6FM9wb0BSWMItAHajAwOjPRdDEGo4qsIVPmZgFPABy90V\n",
       "3M58m8EWVWGlTwEs9fgxuOgHIOR60FLIWQ9IFGLE2ocNaPGJK+FaHyBSIQYHDezCyUEFAKcideDz\n",
       "XBajAAAAAElFTkSuQmCC\n",
       "\" style=\"display:inline;vertical-align:middle;\" /></a></span></td></tr>\n",
       "<tr><td>&nbsp;</td><td colspan=4 style=\"text-align:left\"><span style=\"font-size:20px;\"><a class=\"ProveItLink\" href=\"../../../../../../__pv_it/common/09585084922504426caf1db2ff588a23a0932a960/expr.ipynb\"><img src=\"data:image/png;base64,iVBORw0KGgoAAAANSUhEUgAAAA8AAAAPBAMAAADJ+Ih5AAAAMFBMVEX///8QEBAiIiLu7u5ERES6\n",
       "urqYmJiIiIjMzMx2dnZUVFRmZmaqqqoyMjLc3NwAAABb1yYoAAAAAXRSTlMAQObYZgAAAAlwSFlz\n",
       "AAAOxAAADsQBlSsOGwAAAF9JREFUCNdjYACBtwxQcB9K8/yHMrjXP4Aw5s1vANN8BfUHIDIM5xPA\n",
       "jBiG/glgxgaG9wtANLv37vUOIIY5AwO/AkSGgUkASLMCdfB+ADIeAjHLPwYGk/+XGXj8/04AADnq\n",
       "Fzds8Dk2AAAAAElFTkSuQmCC\n",
       "\" style=\"display:inline;vertical-align:middle;\" /></a> : <a class=\"ProveItLink\" href=\"../../../../../../numbers/number_sets/real_numbers/__pv_it/common/e6ce8d0e09d7926fae58282b7d1defa502e2c9ba0/expr.ipynb\"><img src=\"data:image/png;base64,iVBORw0KGgoAAAANSUhEUgAAACQAAAATBAMAAAAKUbK+AAAAMFBMVEX///+IiIiqqqpmZmbMzMx2\n",
       "dnbu7u66urpUVFTc3NwiIiJEREQQEBAyMjKYmJgAAAA9S0TaAAAAAXRSTlMAQObYZgAAAAlwSFlz\n",
       "AAAOxAAADsQBlSsOGwAAAMdJREFUGNNjYIAC7wIwFSrKAAds0QpAkk+AfQNCjEH6AQMDjwPDTyQh\n",
       "htcCDPMTGA4xvD29/9bpBxCxNxP8ExjWMTBsmMFQ8ToBJJK6nQEodBAoNJWBm6UBKDK5hQGk8RNY\n",
       "iHnCBQaGGUARqPFgoQ0MGZYgvYwC7A1gIY60BoY0iA2hwglgIW/dCciOYdgw59YvMQZUoanvckF+\n",
       "3A0EE2BC3HkP0FWxGGxDF2IwmY0hlM2IqnPDZAa+B9uRRYAhsZNh930FhAgAe4FDGUEsXK8AAAAA\n",
       "SUVORK5CYII=\n",
       "\" style=\"display:inline;vertical-align:middle;\" /></a>, <a class=\"ProveItLink\" href=\"../../../../../../__pv_it/common/a9162d1c3cc0470c02e5daf414500903a7a419230/expr.ipynb\"><img src=\"data:image/png;base64,iVBORw0KGgoAAAANSUhEUgAAABAAAAAOBAMAAADUAYG5AAAAMFBMVEX///92dnaqqqoiIiLu7u5m\n",
       "Zma6urqIiIjc3NwQEBDMzMwyMjJUVFRERESYmJgAAAAeMT9/AAAAAXRSTlMAQObYZgAAAAlwSFlz\n",
       "AAAOxAAADsQBlSsOGwAAAHJJREFUCNdjYGB4+//Mmb0LGIBgLgMDzy8gzfGdgYHtK5DBB+TxATkM\n",
       "PB8YGLhnABmcFxhYDoMUr79efvoBSFN9AwPTPBDjJhDLg6T+APH7AgYGrn9AxvkEBgb2H0DObyCH\n",
       "ewIDQ+YWoHH3/5w5fYmBAQBWoiHo17XzsQAAAABJRU5ErkJggg==\n",
       "\" style=\"display:inline;vertical-align:middle;\" /></a> : <a class=\"ProveItLink\" href=\"../../../../../../numbers/number_sets/real_numbers/__pv_it/common/93cac87a1a47e613f7a83b23ef7891599a1a4cca0/expr.ipynb\"><img src=\"data:image/png;base64,iVBORw0KGgoAAAANSUhEUgAAAA8AAAAPBAMAAADJ+Ih5AAAAMFBMVEX///+IiIiqqqpmZmbMzMx2\n",
       "dnbu7u66urpUVFTc3NwiIiJEREQQEBAyMjKYmJgAAAA9S0TaAAAAAXRSTlMAQObYZgAAAAlwSFlz\n",
       "AAAOxAAADsQBlSsOGwAAAGFJREFUCNdjeHt6/63TDxiAYMMMhorXCSDGVAZulgYIg3nCBRhjA4TB\n",
       "kQaV8tadAGLMufVLDKx96rtcBgiDOw9i4FQWg20QBoPJbCgjmxEkt2EyA9+D7QwMQNt3Muy+rwAA\n",
       "UbUqpptLVNkAAAAASUVORK5CYII=\n",
       "\" style=\"display:inline;vertical-align:middle;\" /></a>, <a class=\"ProveItLink\" href=\"../../../../../../__pv_it/common/a0d9d672aa5e272d907247690c152cc2c6daafb70/expr.ipynb\"><img src=\"data:image/png;base64,iVBORw0KGgoAAAANSUhEUgAAAAsAAAAJBAMAAAAWSsseAAAAMFBMVEX///9ERES6uroQEBAyMjLc\n",
       "3NyYmJgiIiJmZmaqqqp2dnbMzMxUVFSIiIju7u4AAAAd7oVFAAAAAXRSTlMAQObYZgAAAAlwSFlz\n",
       "AAAOxAAADsQBlSsOGwAAAENJREFUCNdjYHh75/WqCQwMDbxnOQoY2ALY/vEkMHAzcDgwgADzBTCl\n",
       "H8D3gOGhwmEGLgaG+fuaGTQZGF7c5WybwAAAJTwQ1a2DuB8AAAAASUVORK5CYII=\n",
       "\" style=\"display:inline;vertical-align:middle;\" /></a> : <a class=\"ProveItLink\" href=\"../../../__pv_it/common/f9e8ab3cea183daacae7bf1e7c66845645ddeb1f0/expr.ipynb\"><img src=\"data:image/png;base64,iVBORw0KGgoAAAANSUhEUgAAACYAAAAaBAMAAAApqzNLAAAAMFBMVEX///+YmJgyMjJmZmZERESq\n",
       "qqoQEBDu7u4iIiJUVFTMzMyIiIi6urp2dnbc3NwAAADPGwW7AAAAAXRSTlMAQObYZgAAAAlwSFlz\n",
       "AAAOxAAADsQBlSsOGwAAALdJREFUKM9jYEAF7HdnFqAJMTAzMDegi/Ef4PuFLsZYgCnGwMDbwPAA\n",
       "mQ/irChguIMsBuTwuTNgiD1meIcuxue1yhxdjO3//w8YepEoDLG7Nxegi704wJ7HF4Aqls3A4Mxd\n",
       "UPkBSYwZyDHiZWBVQBJjc2BguHadgfkCklj9BgaG+wEMHAeQxPiBYtcYGOqR7WB2YGC052IIQrH3\n",
       "ruB25tsMtlj80VOAKfZhA6aY9QG8YbALWQzCAQAwrkmItnnMEAAAAABJRU5ErkJggg==\n",
       "\" style=\"display:inline;vertical-align:middle;\" /></a></span></td></tr><tr><td><a name=\"-0x35b794e7ec31d4ad_step2\">2</a></td><td>instantiation</td><td><a href=\"#-0x35b794e7ec31d4ad_step3\">3</a>, <a href=\"#-0x35b794e7ec31d4ad_step4\">4</a></td><td><span style=\"font-size:20px;\"><a class=\"ProveItLink\" href=\"../../../__pv_it/theorems/7b8e14bfeec30fa2c83deb2740813fd8ea169a4c0/expr.ipynb\"><img src=\"data:image/png;base64,iVBORw0KGgoAAAANSUhEUgAAAC4AAAAQBAMAAACb51DZAAAAMFBMVEX///+qqqq6urru7u4QEBBE\n",
       "RERUVFTc3NyIiIgyMjJmZmaYmJjMzMwiIiJ2dnYAAACPW0xlAAAAAXRSTlMAQObYZgAAAAlwSFlz\n",
       "AAAOxAAADsQBlSsOGwAAANZJREFUGNNjYEADjFO+TL0bsoGB4e0fFHGOsAMMEziBDO4PKOJcCxg4\n",
       "NjwEMSagiLMVMJgyBwAZvA0Q/bF3b4JoZgaGNWwHgIx6EMHANMMApoMn4RSI2g/mVMKFGVgNgkFU\n",
       "KpgzHWGDHDfYZA8wB8lysCsZeL6DSd+7d+9ehThA4BEDgwEDhwPYFQFw5absQHY6A2sC2MYLcPEc\n",
       "oA+YPzDwb3gA4nXAXblAC+i5Cwz8ymDbOQXgrpzMwB4YwMC9DsxlTlWGiKtEuob6uz6AG8v0FBIO\n",
       "UAAAaDkwDDbpPcIAAAAASUVORK5CYII=\n",
       "\" style=\"display:inline;vertical-align:middle;\" /></a> <a class=\"ProveItLink\" href=\"../../../__pv_it/_proof__all_abs_alpha_l_sqrd_are_real/eb63159f37d3d84e65b106a8c7b6c84632eeab490/proof.ipynb\" style=\"text-decoration: none\">&nbsp;&#x22A2;&nbsp;&nbsp;</a><a class=\"ProveItLink\" href=\"../../../__pv_it/_proof__all_abs_alpha_l_sqrd_are_real/def5744dd5f2e768cbca58a3e1235e4f3a4110a60/expr.ipynb\"><img src=\"data:image/png;base64,iVBORw0KGgoAAAANSUhEUgAAAGQAAAAaBAMAAACz5OTWAAAAMFBMVEX///+YmJgyMjJmZmZERESq\n",
       "qqoQEBDu7u4iIiJUVFTMzMyIiIi6urp2dnbc3NwAAADPGwW7AAAAAXRSTlMAQObYZgAAAAlwSFlz\n",
       "AAAOxAAADsQBlSsOGwAAAatJREFUOMtjYEAFtTenM5AIDBgsSNXyh+H9AqwSSw6Aqbt7MWTEcWlh\n",
       "vxIAJBk38Dhgyt3A5YAtAgwMbAsY/jE8QBYFcrjacTpaZAPD+wKGVIY7yIJAzpMCVHVCKf4aKQIQ\n",
       "ttiD9QUMjeha+Az4HqDqcXjJcFIEbE6tDwNQSza6lierFqNZ4/CWgYVrApDxeBYDyGFf0bXk///P\n",
       "gKGF+YECA8NLoA6I99H9AgPcHh1NCC0ODJV2YNENPBNwaeHRLkDYwlk+gaEcwru7uQCs6u7NBeha\n",
       "HhUgOWxJ0AM0g18cYM/jC0DVoofwyzONH9sZ0LRkMzA4cxdUfkDWooDkfcEiUBpzAYIHUC3MQLVG\n",
       "vAysCkhauDI6OjpaoFpYCgXQbGEDJrRr1xmYLyBpYXdAsoXLwB1NS/0GBob7AQwcB5Ad1oAcL1ZP\n",
       "0LTwA7VcY2CoR/H+bmQtJdwCqFqYHRgY7bkYglC0MAXAtTxmYBTwQQuxu4LbmW8z2KJoYZ9yHJ6S\n",
       "/Rhc9AOwRXhPAUqC4bkCTTCYAK7qwwYG1NSDE8BVWR8gWQsGByfYhZODCwAAsC6SeDzU7O0AAAAA\n",
       "SUVORK5CYII=\n",
       "\" style=\"display:inline;vertical-align:middle;\" /></a></span></td></tr>\n",
       "<tr><td>&nbsp;</td><td colspan=4 style=\"text-align:left\"><span style=\"font-size:20px;\"><a class=\"ProveItLink\" href=\"../../../../../../__pv_it/common/c06c606ec12678c58933ac85412ecadc2ae28be60/expr.ipynb\"><img src=\"data:image/png;base64,iVBORw0KGgoAAAANSUhEUgAAAAsAAAAJBAMAAAAWSsseAAAAMFBMVEX////MzMwyMjKqqqoiIiJm\n",
       "ZmaYmJju7u5EREQQEBC6urqIiIh2dnZUVFTc3NwAAAAqL9KcAAAAAXRSTlMAQObYZgAAAAlwSFlz\n",
       "AAAOxAAADsQBlSsOGwAAAEdJREFUCNdjYOC7s28DAwPDygcc3xkY2KcxsDowMLB+YGA5wMDA2cBQ\n",
       "v4CBoX4DQz5QRb0BwyXmBwwcG5hdWYEqbx98u5EBABisEWzRR9jxAAAAAElFTkSuQmCC\n",
       "\" style=\"display:inline;vertical-align:middle;\" /></a> : <a class=\"ProveItLink\" href=\"../../../__pv_it/common/a51c3f2961038ea3ec2a45dc33fe97691343aa970/expr.ipynb\"><img src=\"data:image/png;base64,iVBORw0KGgoAAAANSUhEUgAAABwAAAAVBAMAAACnLJNvAAAAMFBMVEX///+YmJgyMjJmZmZERESq\n",
       "qqoQEBDu7u4iIiJUVFTMzMyIiIi6urp2dnbc3NwAAADPGwW7AAAAAXRSTlMAQObYZgAAAAlwSFlz\n",
       "AAAOxAAADsQBlSsOGwAAAHlJREFUGNNjeMCABB4w3EHm3qE29+7NBUjcFwfY8/gC4NxsBgZn7oLK\n",
       "DxAuM5A24mVgVYBw2RwYGK5dZ2C+AOHWb2BguB/AwHEAwuUHcq8xMNRDjWJ2YGC052IIgpl8V3A7\n",
       "820GW1RX9RSgcD9sQOFaH8DihV3I3F0AdZs7zb27+hAAAAAASUVORK5CYII=\n",
       "\" style=\"display:inline;vertical-align:middle;\" /></a></span></td></tr><tr><td><a name=\"-0x35b794e7ec31d4ad_step3\">3</a></td><td>conjecture</td><td></td><td><span style=\"font-size:20px;\"> <a class=\"ProveItLink\" href=\"../../../../../../numbers/exponentiation/_theory_nbs_/proofs/sqrd_non_neg_closure/thm_proof.ipynb\" style=\"text-decoration: none\">&nbsp;&#x22A2;&nbsp;&nbsp;</a><a class=\"ProveItLink\" href=\"../../../../../../numbers/exponentiation/__pv_it/theorems/299bd9909e5be91c2bbba8e734366d4b14057bce0/expr.ipynb\"><img src=\"data:image/png;base64,iVBORw0KGgoAAAANSUhEUgAAAJkAAAAaBAMAAABWVuP/AAAAMFBMVEX///+IiIgiIiIQEBB2dnbu\n",
       "7u5ERETMzMzc3NwyMjK6urpmZmaYmJiqqqpUVFQAAAB6qHgnAAAAAXRSTlMAQObYZgAAAAlwSFlz\n",
       "AAAOxAAADsQBlSsOGwAAArlJREFUOMuVVU1oE1EQnpfsX7KxiWgFQURXD94sIlo9paBSocKCxYsQ\n",
       "EzGxlhaDChYEs9KLILQRETxU2EMRhKqL+K/EFMlB6CEWD4Ie4sGTUuoh/kGp8zb7XjabLNkOZN/k\n",
       "/XxvZr6ZNwBBRDy0pHdckEftQRhIBoGJmfaggrqt84bhcfqdh3u4p6t8bgxxU/nts4OM4Wc/xA0l\n",
       "3dXDomOi7osGsQwodQhX0cAuIpWZJrR6GruV+7tjzNH75TqEyhDC0NboxBcftEmuXfCwICm16I+s\n",
       "bf8RE9HCCSAI9YrO3PFBe8IUJeu1WklC+ipdKeWpp/EqiHUAe8YvgP+YcgOut6O9iODRpbzDAsAM\n",
       "QARdEKqdwdADx7Szl582tE2aVuRoEojfDfpvPTzE7zOMIQY64sc+C314dXXZVu73umz7lgJRd7KX\n",
       "XrYBf3s0ba8PWg81Y2rgGp9Qbrs8lcc94X6E0M8Bsn4JgvGM9sN5zmfEaKId2L3dw3MBQzgFSs01\n",
       "tXi0dJMfxoXjZXjMFyMuFoYqaLmcQxlx5qaxDCVdMFnUt+ZMIsAgK+GQBfAWYCfHuKihpB1Pswse\n",
       "V04hzroEv/E1mkoIVBIu2/aByPMETrgz5Irk8XSaJkuRFtjw/CAQWkeI1ms10cSfEFvm+0NuNHXC\n",
       "k6YFGtVjSJS4S/7TuJkISoZVZ08axBVk9hNPmYQLTUxvaecUJtEf1ZL7YM4+oJ7hV5I+gAwsWhY/\n",
       "cLeJZsGCZLagvbMtQHfDJtbse+SnSojwgC1HsRZSGye+5vmB1KjO3pBfhnRupQWtxOkwpIp+ybaH\n",
       "RGd5dA+2peDsaa3o937NMCVsFOZ0myPMkMNW2xsSqHnUuU9vPgxhbdNK3Jw8+ZLn11rQYjVPy8jl\n",
       "WuPaU10DWsgI2BcCSde+AB+Dg3XvWayfBhEVOfwPKPShtQ1imJQAAAAASUVORK5CYII=\n",
       "\" style=\"display:inline;vertical-align:middle;\" /></a></span></td></tr>\n",
       "<tr><td>&nbsp;</td><td colspan=4 style-\"text-align:left\"><a class=\"ProveItLink\" href=\"../../../../../../numbers/exponentiation/_theory_nbs_/proofs/sqrd_non_neg_closure/thm_proof.ipynb\">proveit.numbers.exponentiation.sqrd_non_neg_closure</a></td></tr><tr><td><a name=\"-0x35b794e7ec31d4ad_step4\">4</a></td><td>instantiation</td><td><a href=\"#-0x35b794e7ec31d4ad_step5\">5</a>, <a href=\"#-0x35b794e7ec31d4ad_step6\">6</a>, <a href=\"#-0x35b794e7ec31d4ad_step7\">7</a></td><td><span style=\"font-size:20px;\"><a class=\"ProveItLink\" href=\"../../../__pv_it/theorems/7b8e14bfeec30fa2c83deb2740813fd8ea169a4c0/expr.ipynb\"><img src=\"data:image/png;base64,iVBORw0KGgoAAAANSUhEUgAAAC4AAAAQBAMAAACb51DZAAAAMFBMVEX///+qqqq6urru7u4QEBBE\n",
       "RERUVFTc3NyIiIgyMjJmZmaYmJjMzMwiIiJ2dnYAAACPW0xlAAAAAXRSTlMAQObYZgAAAAlwSFlz\n",
       "AAAOxAAADsQBlSsOGwAAANZJREFUGNNjYEADjFO+TL0bsoGB4e0fFHGOsAMMEziBDO4PKOJcCxg4\n",
       "NjwEMSagiLMVMJgyBwAZvA0Q/bF3b4JoZgaGNWwHgIx6EMHANMMApoMn4RSI2g/mVMKFGVgNgkFU\n",
       "KpgzHWGDHDfYZA8wB8lysCsZeL6DSd+7d+9ehThA4BEDgwEDhwPYFQFw5absQHY6A2sC2MYLcPEc\n",
       "oA+YPzDwb3gA4nXAXblAC+i5Cwz8ymDbOQXgrpzMwB4YwMC9DsxlTlWGiKtEuob6uz6AG8v0FBIO\n",
       "UAAAaDkwDDbpPcIAAAAASUVORK5CYII=\n",
       "\" style=\"display:inline;vertical-align:middle;\" /></a> <a class=\"ProveItLink\" href=\"../../../__pv_it/_proof__all_abs_alpha_l_sqrd_are_real/e93a069194fade9312e0b0dcc4b0fc5a5b5e9f9a0/proof.ipynb\" style=\"text-decoration: none\">&nbsp;&#x22A2;&nbsp;&nbsp;</a><a class=\"ProveItLink\" href=\"../../../__pv_it/_proof__all_abs_alpha_l_sqrd_are_real/aa2a1d1644f8454260d5153681fa65682e9a70950/expr.ipynb\"><img src=\"data:image/png;base64,iVBORw0KGgoAAAANSUhEUgAAAEUAAAAVBAMAAADiLT7tAAAAMFBMVEX///+YmJgyMjJmZmZERESq\n",
       "qqoQEBDu7u4iIiJUVFTMzMyIiIi6urp2dnbc3NwAAADPGwW7AAAAAXRSTlMAQObYZgAAAAlwSFlz\n",
       "AAAOxAAADsQBlSsOGwAAARVJREFUKM9jeMCAAHwM2MEdJDbvARQpoRR/jRQB/GoYHF4ynBQpIKDm\n",
       "LQML1wSCapgfKGBXs6WjQwGuxgGrmkPbEeZwlkPtuntzAZIaPnUku5YEPQCreXGAPY8vAK6GCR5k\n",
       "Ds80fmyH+D2bgcGZu6DyA0wNkpsFiyBhyPyBgcGIl4FVAapmWQcQOEDUsBRCwpANyL92nYH5AlRN\n",
       "CZI5XAbuYDX1GxgY7gcwcByAquFADh+rJ2A1/EA11xgY6mFu5t6ApKaEWwDsHgcGRnsuhiB4+KjC\n",
       "1TxmYBTwAfvrruB25tsMtnA1lT4FsHj3Y3DRD0CEc08BPC7OekDiAiP9fNiAEacYaqwPEFaDJW3A\n",
       "wC4kNvcCrEoAmhVkZQDuKIUAAAAASUVORK5CYII=\n",
       "\" style=\"display:inline;vertical-align:middle;\" /></a></span></td></tr>\n",
       "<tr><td>&nbsp;</td><td colspan=4 style=\"text-align:left\"><span style=\"font-size:20px;\"><a class=\"ProveItLink\" href=\"../../../../../../__pv_it/common/09585084922504426caf1db2ff588a23a0932a960/expr.ipynb\"><img src=\"data:image/png;base64,iVBORw0KGgoAAAANSUhEUgAAAA8AAAAPBAMAAADJ+Ih5AAAAMFBMVEX///8QEBAiIiLu7u5ERES6\n",
       "urqYmJiIiIjMzMx2dnZUVFRmZmaqqqoyMjLc3NwAAABb1yYoAAAAAXRSTlMAQObYZgAAAAlwSFlz\n",
       "AAAOxAAADsQBlSsOGwAAAF9JREFUCNdjYACBtwxQcB9K8/yHMrjXP4Aw5s1vANN8BfUHIDIM5xPA\n",
       "jBiG/glgxgaG9wtANLv37vUOIIY5AwO/AkSGgUkASLMCdfB+ADIeAjHLPwYGk/+XGXj8/04AADnq\n",
       "Fzds8Dk2AAAAAElFTkSuQmCC\n",
       "\" style=\"display:inline;vertical-align:middle;\" /></a> : <a class=\"ProveItLink\" href=\"../../../../../../numbers/number_sets/real_numbers/__pv_it/common/e6ce8d0e09d7926fae58282b7d1defa502e2c9ba0/expr.ipynb\"><img src=\"data:image/png;base64,iVBORw0KGgoAAAANSUhEUgAAACQAAAATBAMAAAAKUbK+AAAAMFBMVEX///+IiIiqqqpmZmbMzMx2\n",
       "dnbu7u66urpUVFTc3NwiIiJEREQQEBAyMjKYmJgAAAA9S0TaAAAAAXRSTlMAQObYZgAAAAlwSFlz\n",
       "AAAOxAAADsQBlSsOGwAAAMdJREFUGNNjYIAC7wIwFSrKAAds0QpAkk+AfQNCjEH6AQMDjwPDTyQh\n",
       "htcCDPMTGA4xvD29/9bpBxCxNxP8ExjWMTBsmMFQ8ToBJJK6nQEodBAoNJWBm6UBKDK5hQGk8RNY\n",
       "iHnCBQaGGUARqPFgoQ0MGZYgvYwC7A1gIY60BoY0iA2hwglgIW/dCciOYdgw59YvMQZUoanvckF+\n",
       "3A0EE2BC3HkP0FWxGGxDF2IwmY0hlM2IqnPDZAa+B9uRRYAhsZNh930FhAgAe4FDGUEsXK8AAAAA\n",
       "SUVORK5CYII=\n",
       "\" style=\"display:inline;vertical-align:middle;\" /></a>, <a class=\"ProveItLink\" href=\"../../../../../../__pv_it/common/a9162d1c3cc0470c02e5daf414500903a7a419230/expr.ipynb\"><img src=\"data:image/png;base64,iVBORw0KGgoAAAANSUhEUgAAABAAAAAOBAMAAADUAYG5AAAAMFBMVEX///92dnaqqqoiIiLu7u5m\n",
       "Zma6urqIiIjc3NwQEBDMzMwyMjJUVFRERESYmJgAAAAeMT9/AAAAAXRSTlMAQObYZgAAAAlwSFlz\n",
       "AAAOxAAADsQBlSsOGwAAAHJJREFUCNdjYGB4+//Mmb0LGIBgLgMDzy8gzfGdgYHtK5DBB+TxATkM\n",
       "PB8YGLhnABmcFxhYDoMUr79efvoBSFN9AwPTPBDjJhDLg6T+APH7AgYGrn9AxvkEBgb2H0DObyCH\n",
       "ewIDQ+YWoHH3/5w5fYmBAQBWoiHo17XzsQAAAABJRU5ErkJggg==\n",
       "\" style=\"display:inline;vertical-align:middle;\" /></a> : <a class=\"ProveItLink\" href=\"../../../../../../numbers/number_sets/real_numbers/__pv_it/common/93cac87a1a47e613f7a83b23ef7891599a1a4cca0/expr.ipynb\"><img src=\"data:image/png;base64,iVBORw0KGgoAAAANSUhEUgAAAA8AAAAPBAMAAADJ+Ih5AAAAMFBMVEX///+IiIiqqqpmZmbMzMx2\n",
       "dnbu7u66urpUVFTc3NwiIiJEREQQEBAyMjKYmJgAAAA9S0TaAAAAAXRSTlMAQObYZgAAAAlwSFlz\n",
       "AAAOxAAADsQBlSsOGwAAAGFJREFUCNdjeHt6/63TDxiAYMMMhorXCSDGVAZulgYIg3nCBRhjA4TB\n",
       "kQaV8tadAGLMufVLDKx96rtcBgiDOw9i4FQWg20QBoPJbCgjmxEkt2EyA9+D7QwMQNt3Muy+rwAA\n",
       "UbUqpptLVNkAAAAASUVORK5CYII=\n",
       "\" style=\"display:inline;vertical-align:middle;\" /></a>, <a class=\"ProveItLink\" href=\"../../../../../../__pv_it/common/a0d9d672aa5e272d907247690c152cc2c6daafb70/expr.ipynb\"><img src=\"data:image/png;base64,iVBORw0KGgoAAAANSUhEUgAAAAsAAAAJBAMAAAAWSsseAAAAMFBMVEX///9ERES6uroQEBAyMjLc\n",
       "3NyYmJgiIiJmZmaqqqp2dnbMzMxUVFSIiIju7u4AAAAd7oVFAAAAAXRSTlMAQObYZgAAAAlwSFlz\n",
       "AAAOxAAADsQBlSsOGwAAAENJREFUCNdjYHh75/WqCQwMDbxnOQoY2ALY/vEkMHAzcDgwgADzBTCl\n",
       "H8D3gOGhwmEGLgaG+fuaGTQZGF7c5WybwAAAJTwQ1a2DuB8AAAAASUVORK5CYII=\n",
       "\" style=\"display:inline;vertical-align:middle;\" /></a> : <a class=\"ProveItLink\" href=\"../../../__pv_it/common/a51c3f2961038ea3ec2a45dc33fe97691343aa970/expr.ipynb\"><img src=\"data:image/png;base64,iVBORw0KGgoAAAANSUhEUgAAABwAAAAVBAMAAACnLJNvAAAAMFBMVEX///+YmJgyMjJmZmZERESq\n",
       "qqoQEBDu7u4iIiJUVFTMzMyIiIi6urp2dnbc3NwAAADPGwW7AAAAAXRSTlMAQObYZgAAAAlwSFlz\n",
       "AAAOxAAADsQBlSsOGwAAAHlJREFUGNNjeMCABB4w3EHm3qE29+7NBUjcFwfY8/gC4NxsBgZn7oLK\n",
       "DxAuM5A24mVgVYBw2RwYGK5dZ2C+AOHWb2BguB/AwHEAwuUHcq8xMNRDjWJ2YGC052IIgpl8V3A7\n",
       "820GW1RX9RSgcD9sQOFaH8DihV3I3F0AdZs7zb27+hAAAAAASUVORK5CYII=\n",
       "\" style=\"display:inline;vertical-align:middle;\" /></a></span></td></tr><tr><td><a name=\"-0x35b794e7ec31d4ad_step5\">5</a></td><td>theorem</td><td></td><td><span style=\"font-size:20px;\"> <a class=\"ProveItLink\" href=\"../../../../../../logic/sets/inclusion/_theory_nbs_/proofs/superset_membership_from_proper_subset/thm_proof.ipynb\" style=\"text-decoration: none\">&nbsp;&#x22A2;&nbsp;&nbsp;</a><a class=\"ProveItLink\" href=\"../../../../../../logic/sets/inclusion/__pv_it/theorems/8c2c4c3c91efdbf0b7e86e4a2d99545aea54db000/expr.ipynb\"><img src=\"data:image/png;base64,iVBORw0KGgoAAAANSUhEUgAAAPcAAAAXBAMAAAAl5sTiAAAAMFBMVEX///+IiIgiIiIQEBB2dnbu\n",
       "7u5ERETMzMzc3NwyMjK6urpmZmaYmJiqqqpUVFQAAAB6qHgnAAAAAXRSTlMAQObYZgAAAAlwSFlz\n",
       "AAAOxAAADsQBlSsOGwAAA3hJREFUSMe1ll9IU1Ecx7/L3e1uu5tXohCykutDD/WwIqqHlD2MoEQb\n",
       "RkEIsgoXDMQbRo81K3zUvSgRWIsMCYJmiVZILR+i0NAeo4IRVIihBsk00zr3nN17z6Z3ysAD2z33\n",
       "/H73fM75/TsHKLLZFLWwglhIGNvABAWaPbGOws5CwntshrTW/1wM3Kc9vCkLuTew5vCbfzMzPSps\n",
       "KQp/oQ3dKgbu0fbuilnIz1qMHwJ8GaCbwq9q7gkXA3dqRuuwko9YRMIvwL0EjFG4K0Qek0X5nKwe\n",
       "dVZyf87bdkWJ045Edi2RBZSEtBkkYn1XcQE3Th5xK5fnCB5u03u+OYI7Qn4pGrIHFOVgcfASRakK\n",
       "WIg9RCCUfbtMLSN2G+MlYQhfSY7Z0xQ+DDTT8VDe53pHsIJ7VDjyPjJ0yc7IDLvkJ8iNymvnyqa0\n",
       "BJHiFN4JkaabcJhKrywFh2j2O3T9U0YxcLYO1l404eS7zrwlGbpbSBi9xUToJ4WbCrtj8B7V3OKn\n",
       "cEeI1Qv7MouIStj8OfCTZB5nfSRClj8KbOWKTDNO6EqXvkd1XWZeIlbxnL20KaSxjLqgKZEVOufo\n",
       "DF6ZLax/P4uIJKQ5Hu5uk4FBtqNpYIKDfzDizTNs6hpwgE2JM+bOV8hvgii52c4Rf02H5Tvsq0k0\n",
       "pHi4zZU2crEawj4O7pLINLYd7c9QYeqaZod7Aafpi8F2/iV/s9qWKxm8jsaiLWujroqxH+DhsieO\n",
       "Jr1CjL9UObj9I4m3cl+4Vwibuqw5ZAhRnx80G2yycRwtkAUsat4NM/gNutr+rDdHIUzzcLdKQuAR\n",
       "9HhoSnJwsYZ0Ug5ZdadM3aw4DW+m0e9mJus1koDI73ezVKRwH93MYHA2lHVrV4KDe4L18/gCPR7E\n",
       "P/ypRm1UGoPUE4m0ZHWz9q2EMCB/es/emqIsJX2tKzNTLdQTCe5ctBGmytyKx3yqyRAzuAk9HtyZ\n",
       "VUdqG2LOgKmbbXtyUrDvvJJbC6/zMxDDlk4KAYjzEPZyZtcMugwHqxJdITQk8+Ci/ziSrEwx3Wwb\n",
       "K1wgRzi4pwbCq9vOarz7HRya5OBP02hcTAi0tEh3g7Utqy4TA31lIXSohq4ecbGC15zw6uuIl+s7\n",
       "copphBYZy5uMcCwSzSu0BY9pbWn58AdW8DVq+3pXsPZCwnISZVV58NTG4ZvbxM1H/Ad8JOFpuPeG\n",
       "lQAAAABJRU5ErkJggg==\n",
       "\" style=\"display:inline;vertical-align:middle;\" /></a></span></td></tr>\n",
       "<tr><td>&nbsp;</td><td colspan=4 style-\"text-align:left\"><a class=\"ProveItLink\" href=\"../../../../../../logic/sets/inclusion/_theory_nbs_/proofs/superset_membership_from_proper_subset/thm_proof.ipynb\">proveit.logic.sets.inclusion.superset_membership_from_proper_subset</a></td></tr><tr><td><a name=\"-0x35b794e7ec31d4ad_step6\">6</a></td><td>conjecture</td><td></td><td><span style=\"font-size:20px;\"> <a class=\"ProveItLink\" href=\"../../../../../../numbers/number_sets/real_numbers/_theory_nbs_/proofs/real_nonneg_within_real/thm_proof.ipynb\" style=\"text-decoration: none\">&nbsp;&#x22A2;&nbsp;&nbsp;</a><a class=\"ProveItLink\" href=\"../../../../../../numbers/number_sets/real_numbers/__pv_it/theorems/2c5554d3cc74fc3c7588490932727e5cf6a37cf20/expr.ipynb\"><img src=\"data:image/png;base64,iVBORw0KGgoAAAANSUhEUgAAAFAAAAAUBAMAAADo9qfkAAAAMFBMVEX///+IiIiqqqpmZmbMzMx2\n",
       "dnbu7u66urpUVFTc3NwiIiJEREQQEBAyMjKYmJgAAAA9S0TaAAAAAXRSTlMAQObYZgAAAAlwSFlz\n",
       "AAAOxAAADsQBlSsOGwAAAU1JREFUKM9jYIAC7wIwFSrKQACwRSsAST4B9g2EVDJIP2Bg4HFg+ElQ\n",
       "IcNrAYb5CQyHcMi+Pb3/1ukHEPabCf4JDOtQ5fnu7P67Zh+ItWEGQ8XrBBArdTsDUOFBNJO4ORvY\n",
       "+7aBFE5l4GZpADImtzCArP6EoTCAYYMHRCHzhAsMDDOA6rB5BqTQkhemcANDhiVIlFGAvQEaBqtW\n",
       "rVoCV8gNUciR1sCQBpEPFQY7l8E3EtnEtgyIQm/dCejBvxLZapZNN0EK59z6JYYeaBwFSArPrl+Y\n",
       "ADbxXS4orncDAdxgXmTPxD27AA7Hqdx5D9BN9EDx9bZ3EIUsBtvQFc5AUejMDbGawWQ2ukIuFIXM\n",
       "nhsgCrMZ0e1mfoCskG2DHEjhZAa+B9vRjbyOpNCA4R13ASj17GTYfV8BTWF2ewI89fyewL33E87E\n",
       "WboLGoVQAABKbWutHPmlMwAAAABJRU5ErkJggg==\n",
       "\" style=\"display:inline;vertical-align:middle;\" /></a></span></td></tr>\n",
       "<tr><td>&nbsp;</td><td colspan=4 style-\"text-align:left\"><a class=\"ProveItLink\" href=\"../../../../../../numbers/number_sets/real_numbers/_theory_nbs_/proofs/real_nonneg_within_real/thm_proof.ipynb\">proveit.numbers.number_sets.real_numbers.real_nonneg_within_real</a></td></tr><tr><td><a name=\"-0x35b794e7ec31d4ad_step7\">7</a></td><td>instantiation</td><td><a href=\"#-0x35b794e7ec31d4ad_step8\">8</a>, <a href=\"#-0x35b794e7ec31d4ad_step9\">9</a></td><td><span style=\"font-size:20px;\"><a class=\"ProveItLink\" href=\"../../../__pv_it/theorems/7b8e14bfeec30fa2c83deb2740813fd8ea169a4c0/expr.ipynb\"><img src=\"data:image/png;base64,iVBORw0KGgoAAAANSUhEUgAAAC4AAAAQBAMAAACb51DZAAAAMFBMVEX///+qqqq6urru7u4QEBBE\n",
       "RERUVFTc3NyIiIgyMjJmZmaYmJjMzMwiIiJ2dnYAAACPW0xlAAAAAXRSTlMAQObYZgAAAAlwSFlz\n",
       "AAAOxAAADsQBlSsOGwAAANZJREFUGNNjYEADjFO+TL0bsoGB4e0fFHGOsAMMEziBDO4PKOJcCxg4\n",
       "NjwEMSagiLMVMJgyBwAZvA0Q/bF3b4JoZgaGNWwHgIx6EMHANMMApoMn4RSI2g/mVMKFGVgNgkFU\n",
       "KpgzHWGDHDfYZA8wB8lysCsZeL6DSd+7d+9ehThA4BEDgwEDhwPYFQFw5absQHY6A2sC2MYLcPEc\n",
       "oA+YPzDwb3gA4nXAXblAC+i5Cwz8ymDbOQXgrpzMwB4YwMC9DsxlTlWGiKtEuob6uz6AG8v0FBIO\n",
       "UAAAaDkwDDbpPcIAAAAASUVORK5CYII=\n",
       "\" style=\"display:inline;vertical-align:middle;\" /></a> <a class=\"ProveItLink\" href=\"../../../__pv_it/_proof__all_abs_alpha_l_sqrd_are_real/f710a5e008ac686a1194cc941260f0a16103b5a50/proof.ipynb\" style=\"text-decoration: none\">&nbsp;&#x22A2;&nbsp;&nbsp;</a><a class=\"ProveItLink\" href=\"../../../__pv_it/theorems/05fdafaba2ccc61e709143bbe2ea633314a4f12a0/expr.ipynb\"><img src=\"data:image/png;base64,iVBORw0KGgoAAAANSUhEUgAAAFoAAAAYBAMAAACIFvdWAAAAMFBMVEX///+YmJgyMjJmZmZERESq\n",
       "qqoQEBDu7u4iIiJUVFTMzMyIiIi6urp2dnbc3NwAAADPGwW7AAAAAXRSTlMAQObYZgAAAAlwSFlz\n",
       "AAAOxAAADsQBlSsOGwAAAXtJREFUOMuV0rFLAlEcB/Cvnal5amdIs0vkVjQW1UFCDUcd/g02CfEK\n",
       "QRxC2hwanJscpLWDBCEIjraGoCGMqKMDI3KIXIKm6J13vp7npfYb7n7vvQ+P937vB4yOmt79GZcY\n",
       "J4J3Kv36tIg8FkddAgJVfMPkJmN/8oSGD4JdPHFzUb2PzGR3UlnJzmfNM4KjYRpyG9cJYmWHCqjO\n",
       "Ddfv8IcrNGmdwDrJ5ygtmEmgTbF9Sy9dL5eTTMsorlkDUYtUvPRV43fvqUIFBXtknJOuNh6qnI7N\n",
       "cyepZfgSW/pND+7FVKYn2Lr8mvpqwKVzwIZIip2e5m4ZP7D6JE3DdLTQAZaimEw6+rRMQ7a1f19y\n",
       "7R2gK817CLeOznN7hxc3XbqkAc8qQrqjQ3y9l19ceprqJlDq3VLUOJ0XpX4tyPCth5Fh9Z5jugWf\n",
       "pLhqYsQbwiNWmS4qpNeD20gvqP3ajmPCXv5my375wWC6ow101RC9ov9He3TsYFxwuVgdgX8AAteB\n",
       "dWtePw8AAAAASUVORK5CYII=\n",
       "\" style=\"display:inline;vertical-align:middle;\" /></a></span></td></tr>\n",
       "<tr><td>&nbsp;</td><td colspan=4 style=\"text-align:left\"><span style=\"font-size:20px;\"><a class=\"ProveItLink\" href=\"../../../../../../__pv_it/common/27cc275d44b4f4499fb9ccfb3fab1a98165d2fa60/expr.ipynb\"><img src=\"data:image/png;base64,iVBORw0KGgoAAAANSUhEUgAAAAYAAAAOBAMAAAD+sXAWAAAALVBMVEX///+6urru7u4QEBBERERU\n",
       "VFTc3NyIiIgyMjJmZmaYmJjMzMwiIiJ2dnYAAADXf7CVAAAAAXRSTlMAQObYZgAAAAlwSFlzAAAO\n",
       "xAAADsQBlSsOGwAAAD9JREFUCNdjYLjzmoGB6wEDA2cDAwNPAQND3gYGhnUMDAwhQGzOwMD9jIGB\n",
       "3YCBgSVAgYFvwQUGPqECBq65DAA54ApfLr4OSQAAAABJRU5ErkJggg==\n",
       "\" style=\"display:inline;vertical-align:middle;\" /></a> : <a class=\"ProveItLink\" href=\"../../../../../../__pv_it/common/27cc275d44b4f4499fb9ccfb3fab1a98165d2fa60/expr.ipynb\"><img src=\"data:image/png;base64,iVBORw0KGgoAAAANSUhEUgAAAAYAAAAOBAMAAAD+sXAWAAAALVBMVEX///+6urru7u4QEBBERERU\n",
       "VFTc3NyIiIgyMjJmZmaYmJjMzMwiIiJ2dnYAAADXf7CVAAAAAXRSTlMAQObYZgAAAAlwSFlzAAAO\n",
       "xAAADsQBlSsOGwAAAD9JREFUCNdjYLjzmoGB6wEDA2cDAwNPAQND3gYGhnUMDAwhQGzOwMD9jIGB\n",
       "3YCBgSVAgYFvwQUGPqECBq65DAA54ApfLr4OSQAAAABJRU5ErkJggg==\n",
       "\" style=\"display:inline;vertical-align:middle;\" /></a></span></td></tr><tr><td><a name=\"-0x35b794e7ec31d4ad_step8\">8</a></td><td>conjecture</td><td></td><td><span style=\"font-size:20px;\"> <a class=\"ProveItLink\" href=\"../_all_abs_alpha_l_are_nonneg/thm_proof.ipynb\" style=\"text-decoration: none\">&nbsp;&#x22A2;&nbsp;&nbsp;</a><a class=\"ProveItLink\" href=\"../../../__pv_it/theorems/fe16c4db0038134f6e01dc1446689632b93ee31d0/expr.ipynb\"><img src=\"data:image/png;base64,iVBORw0KGgoAAAANSUhEUgAAAJ8AAAAaBAMAAABbSJO4AAAAMFBMVEX///+IiIgiIiIQEBB2dnbu\n",
       "7u5ERETMzMzc3NwyMjK6urpmZmaYmJiqqqpUVFQAAAB6qHgnAAAAAXRSTlMAQObYZgAAAAlwSFlz\n",
       "AAAOxAAADsQBlSsOGwAAArNJREFUSMellU1oE1EQx//Z7G42XyZaa0FENN7qwQ9E6y2ljYf6tQUV\n",
       "vKRRzGprCwE9CKJd9Ko2IIKHKjmoIIhG8FuoEfGgFNmbCB5yURC15hLBg+C8zW7yNn1mIw7s293Z\n",
       "t795b+bNDPC/Epqwb/Jg2n/u266I+6bY+BK3EPWZGS93t8bAJA3bkDC1XOeJBwGTfzf/NjF2CFod\n",
       "QYuW2VHI8Aj/PuKlXDZ+rZt0ngdCdUgVSDpQZYqPIp62sSMQqlaNfMuzJ2VHiYDBJAJEe8Y0V0XA\n",
       "aNoPmEbuLLM8V2BbTlhQ6oCtETozUfIHPgnT3wsFJyjALBCmbcuWCDiti4ErUqliE6hC+WoHaynu\n",
       "0viI/FkhqDAmyyAE3u7lVvgpC0V3DvZDGnvo2pxKbRECvziM4T0FDqhd4bYcmmrz/j2iPwbyQqDR\n",
       "YJwrKQOa1QSGzRZw+4a1epubyPYlaFUoPxqKJVt3HnHz43qDsQk4HtCzNRfIBWXXa3JmyCA55uhm\n",
       "KJCqLtP4gb6sNkqSKY+6RtfbwCiRnsqIFx3giRRJztlyfr5tV2OEiieZ0QfAc1puDGcuwLPCIP08\n",
       "lGkdygP8sTmttm15hrm7yDKwH4GKrSqXvcCxJLDXguQeSokHRk+1neBp5uHdFDel5piOXSy4Hz/b\n",
       "wAQBh2gvblACSQ6o5FYtjjLOUwKSi+7YmlG5+bGn4cMcYi9CzMfOObzWApYxr5Y8wFd2ZAt23r6h\n",
       "YFlIZ7Cfs0aM4fne6CDzsQPMTuhutflpquO/PcA590G6iZPsHnlfQcbRBflc7m/l4Y3DjdQTyWyz\n",
       "EARgB0yOIrJGVG1qyUXFQSCs2jg/r4R2lO7vFpaPV93uw9fD+6VugLGqp9kYhtfD3zuXL4FIpl9P\n",
       "6ePf+3yBPj0lnsa/iV/X67Ivc02D4voH/0meNEs4eK8AAAAASUVORK5CYII=\n",
       "\" style=\"display:inline;vertical-align:middle;\" /></a></span></td></tr>\n",
       "<tr><td>&nbsp;</td><td colspan=4 style-\"text-align:left\"><a class=\"ProveItLink\" href=\"../_all_abs_alpha_l_are_nonneg/thm_proof.ipynb\">proveit.physics.quantum.QPE._all_abs_alpha_l_are_nonneg</a></td></tr><tr><td><a name=\"-0x35b794e7ec31d4ad_step9\">9</a></td><td>assumption</td><td></td><td><span style=\"font-size:20px;\"><a class=\"ProveItLink\" href=\"../../../__pv_it/theorems/7b8e14bfeec30fa2c83deb2740813fd8ea169a4c0/expr.ipynb\"><img src=\"data:image/png;base64,iVBORw0KGgoAAAANSUhEUgAAAC4AAAAQBAMAAACb51DZAAAAMFBMVEX///+qqqq6urru7u4QEBBE\n",
       "RERUVFTc3NyIiIgyMjJmZmaYmJjMzMwiIiJ2dnYAAACPW0xlAAAAAXRSTlMAQObYZgAAAAlwSFlz\n",
       "AAAOxAAADsQBlSsOGwAAANZJREFUGNNjYEADjFO+TL0bsoGB4e0fFHGOsAMMEziBDO4PKOJcCxg4\n",
       "NjwEMSagiLMVMJgyBwAZvA0Q/bF3b4JoZgaGNWwHgIx6EMHANMMApoMn4RSI2g/mVMKFGVgNgkFU\n",
       "KpgzHWGDHDfYZA8wB8lysCsZeL6DSd+7d+9ehThA4BEDgwEDhwPYFQFw5absQHY6A2sC2MYLcPEc\n",
       "oA+YPzDwb3gA4nXAXblAC+i5Cwz8ymDbOQXgrpzMwB4YwMC9DsxlTlWGiKtEuob6uz6AG8v0FBIO\n",
       "UAAAaDkwDDbpPcIAAAAASUVORK5CYII=\n",
       "\" style=\"display:inline;vertical-align:middle;\" /></a> <a class=\"ProveItLink\" href=\"../../../__pv_it/_proof__all_abs_alpha_l_sqrd_are_real/7b44f31de2b3035f31056b6f022a8e071740fb730/proof.ipynb\" style=\"text-decoration: none\">&nbsp;&#x22A2;&nbsp;&nbsp;</a><a class=\"ProveItLink\" href=\"../../../__pv_it/theorems/7b8e14bfeec30fa2c83deb2740813fd8ea169a4c0/expr.ipynb\"><img src=\"data:image/png;base64,iVBORw0KGgoAAAANSUhEUgAAAC4AAAAQBAMAAACb51DZAAAAMFBMVEX///+qqqq6urru7u4QEBBE\n",
       "RERUVFTc3NyIiIgyMjJmZmaYmJjMzMwiIiJ2dnYAAACPW0xlAAAAAXRSTlMAQObYZgAAAAlwSFlz\n",
       "AAAOxAAADsQBlSsOGwAAANZJREFUGNNjYEADjFO+TL0bsoGB4e0fFHGOsAMMEziBDO4PKOJcCxg4\n",
       "NjwEMSagiLMVMJgyBwAZvA0Q/bF3b4JoZgaGNWwHgIx6EMHANMMApoMn4RSI2g/mVMKFGVgNgkFU\n",
       "KpgzHWGDHDfYZA8wB8lysCsZeL6DSd+7d+9ehThA4BEDgwEDhwPYFQFw5absQHY6A2sC2MYLcPEc\n",
       "oA+YPzDwb3gA4nXAXblAC+i5Cwz8ymDbOQXgrpzMwB4YwMC9DsxlTlWGiKtEuob6uz6AG8v0FBIO\n",
       "UAAAaDkwDDbpPcIAAAAASUVORK5CYII=\n",
       "\" style=\"display:inline;vertical-align:middle;\" /></a></span></td></tr>\n",
       "</table>"
      ],
      "text/plain": [
       "\tstep type\trequirements\tstatement\n",
       "0\tgeneralization\t1\t|- forall_{l in Integer} (|alpha_{l}|^{2} in Real)\n",
       "1\tinstantiation\t5, 6, 2\t{l in Integer} |- |alpha_{l}|^{2} in Real\n",
       "\tA : RealNonNeg, B : Real, x : |alpha_{l}|^{2}\n",
       "2\tinstantiation\t3, 4\t{l in Integer} |- |alpha_{l}|^{2} in RealNonNeg\n",
       "\ta : |alpha_{l}|\n",
       "3\tconjecture\t\t|- forall_{a in Real} (a^{2} in RealNonNeg)\n",
       "\tproveit.numbers.exponentiation.sqrd_non_neg_closure\n",
       "4\tinstantiation\t5, 6, 7\t{l in Integer} |- |alpha_{l}| in Real\n",
       "\tA : RealNonNeg, B : Real, x : |alpha_{l}|\n",
       "5\ttheorem\t\t|- forall_{A, B | A proper_subset B} [forall_{x in A} (x in B)]\n",
       "\tproveit.logic.sets.inclusion.superset_membership_from_proper_subset\n",
       "6\tconjecture\t\t|- RealNonNeg proper_subset Real\n",
       "\tproveit.numbers.number_sets.real_numbers.real_nonneg_within_real\n",
       "7\tinstantiation\t8, 9\t{l in Integer} |- |alpha_{l}| in RealNonNeg\n",
       "\tl : l\n",
       "8\tconjecture\t\t|- forall_{l in Integer} (|alpha_{l}| in RealNonNeg)\n",
       "\tproveit.physics.quantum.QPE._all_abs_alpha_l_are_nonneg\n",
       "9\tassumption\t\t{l in Integer} |- l in Integer"
      ]
     },
     "execution_count": 7,
     "metadata": {},
     "output_type": "execute_result"
    }
   ],
   "source": [
    "%qed"
   ]
  },
  {
   "cell_type": "code",
   "execution_count": null,
   "metadata": {},
   "outputs": [],
   "source": []
  }
 ],
 "metadata": {
  "kernelspec": {
   "display_name": "Python 3",
   "language": "python",
   "name": "python3"
  },
  "language_info": {
   "codemirror_mode": {
    "name": "ipython",
    "version": 3
   },
   "file_extension": ".py",
   "mimetype": "text/x-python",
   "name": "python",
   "nbconvert_exporter": "python",
   "pygments_lexer": "ipython3",
   "version": "3.7.3"
  }
 },
 "nbformat": 4,
 "nbformat_minor": 1
}
