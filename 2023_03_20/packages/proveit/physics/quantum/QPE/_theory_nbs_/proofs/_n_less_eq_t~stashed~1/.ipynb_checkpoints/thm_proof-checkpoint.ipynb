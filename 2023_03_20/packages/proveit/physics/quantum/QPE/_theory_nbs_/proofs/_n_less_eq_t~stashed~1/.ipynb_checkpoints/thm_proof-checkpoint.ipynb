{
 "cells": [
  {
   "cell_type": "markdown",
   "metadata": {},
   "source": [
    "Proof of <a class=\"ProveItLink\" href=\"../../../../../../_theory_nbs_/theory.ipynb\">proveit</a>.<a class=\"ProveItLink\" href=\"../../../../../_theory_nbs_/theory.ipynb\">physics</a>.<a class=\"ProveItLink\" href=\"../../../../_theory_nbs_/theory.ipynb\">quantum</a>.<a class=\"ProveItLink\" href=\"../../theory.ipynb\">QPE</a>.<a class=\"ProveItLink\" href=\"../../theorems.ipynb#_n_less_eq_t\">_n_less_eq_t</a> theorem\n",
    "========"
   ]
  },
  {
   "cell_type": "code",
   "execution_count": 29,
   "metadata": {},
   "outputs": [],
   "source": [
    "import proveit\n",
    "theory = proveit.Theory() # the theorem's theory\n",
    "\n",
    "from proveit.numbers import deduce_number_set\n",
    "from proveit.physics.quantum.QPE import _t_req, _eps_in_interval, _n_in_natural_pos"
   ]
  },
  {
   "cell_type": "code",
   "execution_count": 2,
   "metadata": {},
   "outputs": [
    {
     "data": {
      "text/html": [
       "Under these <a href=\"presumptions.txt\">presumptions</a>, we begin our proof of<br><strong id=\"_n_less_eq_t\">_n_less_eq_t:</strong> <a class=\"ProveItLink\" href=\"../../../__pv_it/theorems/63769816028ec6d64131a886e2edcae96a2e7aa40/expr.ipynb\"><img src=\"data:image/png;base64,iVBORw0KGgoAAAANSUhEUgAAAC8AAAAQBAMAAAB0JTvnAAAAMFBMVEX///9mZmYQEBCYmJgyMjKq\n",
       "qqrMzMwiIiJERER2dnbc3Nzu7u5UVFSIiIi6uroAAAA6K1lcAAAAAXRSTlMAQObYZgAAAAlwSFlz\n",
       "AAAOxAAADsQBlSsOGwAAAKtJREFUGNNjYEAFIQtAJHcVmjCDuTSYYv2NJn59NoRmLEAR5p5+Acpi\n",
       "n8DAwHdn19xeiLi4AVT8TX/PBQZOjrMM+0E2ch8JgOuNB+J37A0M6xNAPCQJESDesP8BQ/wGEI8L\n",
       "bhRDJVTbETTLuf+BTWBg+MyN6lzWDwxAMzSB3uFE9SCjA2sCA9c3Bl4HM0SQgNzBc2Av0B8FDNyH\n",
       "A1ADgKvZgIESwF0OBglQLgAL/SwtBXQzHAAAAABJRU5ErkJggg==\n",
       "\" style=\"display:inline;vertical-align:middle;\" /></a><br>(see <a class=\"ProveItLink\" href=\"../../../__pv_it/theorems/f49e42ca28bd6e760f2870b130488e3643d1e54f0/dependencies.ipynb\">dependencies</a>)<br>"
      ],
      "text/plain": [
       "_n_less_eq_t: n <= t"
      ]
     },
     "execution_count": 2,
     "metadata": {},
     "output_type": "execute_result"
    }
   ],
   "source": [
    "%proving _n_less_eq_t"
   ]
  },
  {
   "cell_type": "code",
   "execution_count": 3,
   "metadata": {},
   "outputs": [
    {
     "data": {
      "text/html": [
       "<span style=\"font-size:20px;\"> <a class=\"ProveItLink\" href=\"../../axioms.ipynb#_t_req\" style=\"text-decoration: none\">&nbsp;&#x22A2;&nbsp;&nbsp;</a><a class=\"ProveItLink\" href=\"../../../__pv_it/axioms/536ff1b8d0476ded2e01a40fc226c6e47c8b6b3c0/expr.ipynb\"><img src=\"data:image/png;base64,iVBORw0KGgoAAAANSUhEUgAAAQsAAAAzBAMAAAByJTAVAAAAMFBMVEX///8QEBCYmJjMzMwyMjKI\n",
       "iIhERERUVFS6urp2dnZmZmaqqqrc3NwiIiLu7u4AAAAqt126AAAAAXRSTlMAQObYZgAAAAlwSFlz\n",
       "AAAOxAAADsQBlSsOGwAABN1JREFUWMO9mV9oHEUcx393e5fbu73bJCoGH2xPRN/qXbEgFOQCglIF\n",
       "PYTikyZVpE+119KihdgEKda35kVCheo9FCvByAr1wQfJ+tIH/9BUDcHaNftQWyxtriRNe03jnbM7\n",
       "++e3tzN7O0vpD8Lu5ea789mZ3/x+v5kDEDJ1ZWUF7pORR5l9G73D/G+p270lqgm9ynv0ur/bXQC4\n",
       "EomSK7MxpsQ1IXve7VkmGNLfUU2PgDjGkagHou6UBYQBP0SI0qPiGDyNbVdPd/wPMxgj3+CrftTF\n",
       "MXgaalmEUSojDPiNL1oEcYxFiIuhbMEY33KdND0kjsHVhDHgZYyRafI0qWlxDK6GgXFCRxjyJk8z\n",
       "ZopjjJnxMTINhAEv8TRLII6xBPExlA7GmOe8gLQmjsHXMDDUdYzRqnPC4ZA4Rm5IAAP2YYyBBY63\n",
       "NcQxUg0RjIqOMNIcH62VxTFqZRGMVhlhqKscp9fFMcb0aIz8ZnjsHAwYYUv2gDjGnmiK3IFbB9FH\n",
       "6g4uxj625tFIjB0jfE1x9sVqnFyfv4kxvrBm5pJ1dxlNrboRPRqscONozkG+HQcj3cYYlSk3lKin\n",
       "/MUrrfeqPgpg7GWFDaqZABh28kWky9LmLkaN9F1w7t/83Itx93pV3/XFcDRbTZikvqrUIwvBDYzR\n",
       "Ismt5KakbS5Hei02hrc8HM2HAJPVGBhwB2MMNuD4/r2u4OzXzhK315b8xvVP3+VhXNv9FcDxmae8\n",
       "Ci7rrcdliINxO4AxThKL/92xo9SNbW/JDxyGls7GkC7BQF3qwEOy5/qdHsfqg/EIxkiR8vE0wqCl\n",
       "e8F+5CelcThfZWOQiZTWcgvWHDhWcDFKjVgYBsYokeuf3ldnJ5xQYy9qszVFU/CcYQwbxhLGqGkA\n",
       "dwMYVEPsSxvKMC48bhgW0WC3x2jDCwGMIVC9db7tm+AjyWwd4vjGPLncljtWNfvvzFGMkXYzXJ/R\n",
       "6MVQboLZs2CdASYMqyobwxqNDfXMDIkNTZjDk/I9FPUkk1IYVao94cvJQo+RyJZnY6SaILcVO7+0\n",
       "qQM5GmkasmYSF801/ukN5lk7BhTXIDv6JGelPAyZafmFX0iPz1AMqoFfZ2fnYk3KSACjAcW3Q1GX\n",
       "hiLSRj2oMTCeG56An05+APBa9z+rr1MofC17W+0+GIEoOsjcIijt6CjqJmtN/XnR3ZyGNB4GM+mq\n",
       "dwPBnLm3kFajU5tjH5O/p0lSNZkaL7Uxk244tVG7YVj2OxqxvmXPDfKSr0CxSZcGV+Mn3VAmdDHm\n",
       "Nabyj1gY6sndn1Xh3LM7zUiNn3RxZbqJMTgF5AGBInBrtxut8ZMurgkD1dckW1kxxWvRSsTecdm7\n",
       "K56hFWlqHGNwis6almCDoPUptWx7whmX83WEUVx/INulkveVdE9ku1RIsHnka2jSVa2wlrvzft11\n",
       "GB8jx9k8ym1xDL7GSboX8ZAFttKDvIB7McHBAlfjJV3SoRMu04GDBa53VxIcs/A0ftIl8b8Z8BYH\n",
       "Y+lBHDr5SZcgbYEVgUOndCfBERxHs4zPt3e+/hb4WwyKMcBfY7sSHEjugrgmdzDGCX7g257geHa7\n",
       "HhejpGGMvyIORcbFMXiasMU+rL7/R/d4TkYxxrGophlNHCOjxcPYYSIM6dXItuyfaBRdXBMqAL2O\n",
       "VVKhXbaZ/geKx7uLJHCBrgAAAABJRU5ErkJggg==\n",
       "\" style=\"display:inline;vertical-align:middle;\" /></a></span>"
      ],
      "text/plain": [
       "|- t >= (n + ceil(log_2(2 + (1 / (2 * eps)))))"
      ]
     },
     "execution_count": 3,
     "metadata": {},
     "output_type": "execute_result"
    }
   ],
   "source": [
    "_t_req"
   ]
  },
  {
   "cell_type": "code",
   "execution_count": 5,
   "metadata": {},
   "outputs": [
    {
     "data": {
      "text/html": [
       "<span style=\"font-size:20px;\"> <a class=\"ProveItLink\" href=\"../../axioms.ipynb#_eps_in_interval\" style=\"text-decoration: none\">&nbsp;&#x22A2;&nbsp;&nbsp;</a><a class=\"ProveItLink\" href=\"../../../__pv_it/axioms/9d5ec70dac6f6bf937c670e5f1e42dac8ce086460/expr.ipynb\"><img src=\"data:image/png;base64,iVBORw0KGgoAAAANSUhEUgAAAEsAAAAVBAMAAAD85A5eAAAAMFBMVEX///+6uroyMjIiIiLu7u5E\n",
       "RER2dnaIiIiqqqrMzMwQEBCYmJhUVFRmZmbc3NwAAADLcLLWAAAAAXRSTlMAQObYZgAAAAlwSFlz\n",
       "AAAOxAAADsQBlSsOGwAAASxJREFUKM9jYMACHqBy2Y0nYFPF3oAmwCaATVkbUCL9HpTDaYJDGYsC\n",
       "A4MGgzPEZp9LX3Ao493AwG3AwBYAdQGaMvZgYyMwg4uBgfUAA8cXrMoY1R2grCYGBv4LDJw/UJXx\n",
       "3TkN4j6CqWK4xsDgD1T2G1XZLkig6MHN1WZgeJ/AwPkdRRnMcAW4MguIsm8oynj+nCkABc9iY2Nj\n",
       "U7DEQqClCQyMqKZxHYAEVgDctIVgL3CgeoE/AcI1QLaUNYCBGzVAWC9AuOVwZeEMDNwLGHgVGByQ\n",
       "vbCEwQXEZYLHdw7YRK8JLJ/A0f4PEiBzq0vAjjsqAlU2GYh9008yMBgDjeM59ek0SmQxpkIjixmW\n",
       "ujgc8CUk7gswWfzpLQ5Ku+NX5gqlC/Ar4ytAS/RWAgAq4EbgXI6PMwAAAABJRU5ErkJggg==\n",
       "\" style=\"display:inline;vertical-align:middle;\" /></a></span>"
      ],
      "text/plain": [
       "|- eps in (0,1]"
      ]
     },
     "execution_count": 5,
     "metadata": {},
     "output_type": "execute_result"
    }
   ],
   "source": [
    "_eps_in_interval"
   ]
  },
  {
   "cell_type": "code",
   "execution_count": 10,
   "metadata": {},
   "outputs": [
    {
     "data": {
      "text/html": [
       "<strong id=\"eps_lower_bound\">eps_lower_bound:</strong> <a class=\"ProveItLink\" href=\"../../../__pv_it/_proof__n_less_eq_t/c37d1361c385de9993eaba9e477981bfd9833af30/expr.ipynb\"><img src=\"data:image/png;base64,iVBORw0KGgoAAAANSUhEUgAAAC8AAAAQBAMAAAB0JTvnAAAAMFBMVEX///+6uroiIiIyMjLu7u5E\n",
       "RER2dnaIiIiqqqrMzMwQEBCYmJhUVFRmZmbc3NwAAACSaOCYAAAAAXRSTlMAQObYZgAAAAlwSFlz\n",
       "AAAOxAAADsQBlSsOGwAAAK9JREFUGNNjYMAC0mofYBNmYG5g0cMqsYmBIRXBc94AZ8YwMPQ7wHks\n",
       "SQUw5l8GhvkNDAx8d05D+EUpUCUgCaD+XRPgZl8BU3zfgBIFDJw/EPY034NLJDDw/DkDN5xB+AjI\n",
       "KKCEfAED1wEkhwqHQC3vb2DgT0Ay6hyYCmVg2O/AwHoB4bF7EHoXA8NlBgbOJQwuqM5lYGpgWQmk\n",
       "5laXgF1fBHcDy7WaCQjznTYwEAcA1BMt6v6leaIAAAAASUVORK5CYII=\n",
       "\" style=\"display:inline;vertical-align:middle;\" /></a><br>"
      ],
      "text/plain": [
       "eps_lower_bound: eps > 0"
      ]
     },
     "execution_count": 10,
     "metadata": {},
     "output_type": "execute_result"
    }
   ],
   "source": [
    "eps_lower_bound = _eps_in_interval.derive_element_lower_bound().reversed()"
   ]
  },
  {
   "cell_type": "code",
   "execution_count": 18,
   "metadata": {},
   "outputs": [
    {
     "data": {
      "text/html": [
       "<strong id=\"one_over_2eps\">one_over_2eps:</strong> <a class=\"ProveItLink\" href=\"../../../__pv_it/axioms/8b0bc984e0f8356329aed2160b2a4506e33005170/expr.ipynb\"><img src=\"data:image/png;base64,iVBORw0KGgoAAAANSUhEUgAAACIAAAAqBAMAAAAkOpScAAAAMFBMVEX///+qqqq6urpERESYmJgQ\n",
       "EBDc3Nx2dnaIiIgyMjJmZmZUVFTu7u4iIiLMzMwAAAAz/ewvAAAAAXRSTlMAQObYZgAAAAlwSFlz\n",
       "AAAOxAAADsQBlSsOGwAAAKFJREFUKM9jYICCtwcYUADPrvloIgwM/UNQpD4BTWB3/GwHhsEJ/qMD\n",
       "WlqWtdIOVYDNgKFeAUWEO4GBNQBFhPUPA/c3VDUXGLj/oZvN+wFhzW5waL9vgAmwxEHo23Al7wXA\n",
       "FJcBiDw/AUjs370DxPaGGLYASESDmYwFDGkwXd/B5HMGhh6YiBXYF7dWrboAE3l6gOcAAy8wICfA\n",
       "RPhWeBwAAD7vROtOiliHAAAAAElFTkSuQmCC\n",
       "\" style=\"display:inline;vertical-align:middle;\" /></a><br>"
      ],
      "text/plain": [
       "one_over_2eps: 1 / (2 * eps)"
      ]
     },
     "execution_count": 18,
     "metadata": {},
     "output_type": "execute_result"
    }
   ],
   "source": [
    "one_over_2eps = _t_req.rhs.operands[1].operand.antilog.operands[1]"
   ]
  },
  {
   "cell_type": "code",
   "execution_count": 24,
   "metadata": {},
   "outputs": [
    {
     "data": {
      "text/html": [
       "<strong id=\"one_over_2eps__membership\">one_over_2eps__membership:</strong> <span style=\"font-size:20px;\"> <a class=\"ProveItLink\" href=\"../../../__pv_it/_proof__n_less_eq_t/895e16550be8b30f6a7bfca1a9b1b806164311880/proof.ipynb\" style=\"text-decoration: none\">&nbsp;&#x22A2;&nbsp;&nbsp;</a><a class=\"ProveItLink\" href=\"../../../__pv_it/_proof__n_less_eq_t/1ff3e6ea986cf2756a1a9c1cb2d81a8eb52a32ea0/expr.ipynb\"><img src=\"data:image/png;base64,iVBORw0KGgoAAAANSUhEUgAAAFgAAAAqBAMAAADFUYHNAAAAMFBMVEX///+qqqq6urpERESYmJgQ\n",
       "EBDc3Nx2dnaIiIgyMjJmZmZUVFTu7u4iIiLMzMwAAAAz/ewvAAAAAXRSTlMAQObYZgAAAAlwSFlz\n",
       "AAAOxAAADsQBlSsOGwAAAUZJREFUOMtjYIAAvjsMRIPTK/8Qr5iBY1TxUFS8AMFk/0ZIsQGcxb31\n",
       "5xZsKlimGv+8aoKmGCdgZtvAtMWGaMUFDAavSVC8jJOBy9g42NgEZ+jY3r0JV8yM32SmGQcQJu85\n",
       "jV9x5gGEM/gMp+FXPA3h5sj7Nw7gVzwBobjEZwI8Bv+jA3Bej7179+5lqDNsXPAHGI8BUtC9Yj6A\n",
       "X/UFJMVczwjERweSYh6DFvyKOQXgihcwuDAr4Hf0Zh1YqvucwGz5ESaetdIOWxQWQ6IbFbAZMNQr\n",
       "EJufuBMYWAOIVcz6h4H7G9EmX2Dg/kdCzub9AGdm7XYgoPh9Azx/xhE0+TZCmwAhtVzgqD8PSoj7\n",
       "d+8goNgb4nBQeo0mZDBjAUMajP2dkOLnDAw9MLYVAbVst1atgqfepwd48CZ0XmBOguc4vhUe+BQD\n",
       "AI4ibmUduuBCAAAAAElFTkSuQmCC\n",
       "\" style=\"display:inline;vertical-align:middle;\" /></a></span><br>"
      ],
      "text/plain": [
       "one_over_2eps__membership: |- (1 / (2 * eps)) in RealPos"
      ]
     },
     "execution_count": 24,
     "metadata": {},
     "output_type": "execute_result"
    }
   ],
   "source": [
    "one_over_2eps__membership = deduce_number_set(one_over_2eps)"
   ]
  },
  {
   "cell_type": "code",
   "execution_count": 27,
   "metadata": {},
   "outputs": [
    {
     "data": {
      "text/html": [
       "<strong id=\"one_over_2eps__lb\">one_over_2eps__lb:</strong> <span style=\"font-size:20px;\"> <a class=\"ProveItLink\" href=\"../../../__pv_it/_proof__n_less_eq_t/1ec17b6d7dcae73856b8cf66157943018000f3550/proof.ipynb\" style=\"text-decoration: none\">&nbsp;&#x22A2;&nbsp;&nbsp;</a><a class=\"ProveItLink\" href=\"../../../__pv_it/_proof__n_less_eq_t/1de3f274d3f8d50abfcc5ab923b59e9608eb72de0/expr.ipynb\"><img src=\"data:image/png;base64,iVBORw0KGgoAAAANSUhEUgAAAEoAAAAqBAMAAADmCtAYAAAAMFBMVEX///+qqqq6urpERESYmJgQ\n",
       "EBDc3Nx2dnaIiIgyMjJmZmZUVFTu7u4iIiLMzMwAAAAz/ewvAAAAAXRSTlMAQObYZgAAAAlwSFlz\n",
       "AAAOxAAADsQBlSsOGwAAAS1JREFUOMtjYIAAvjsMhMHplX+IUMXAMapqwFSxfyNCEffWn1sYKAHs\n",
       "FcuIUDWR4WwCQUUsFxjYDbBL8UyBM5k3MDDi8v/xGzAW/wIGvo84w+/6AQjjPFDVF9zuuQVRll/A\n",
       "wPcDt7MZZyXAVH1n+I8O4MqYZoNMO1/AwITHLAamyQcgrmf8iMfG2WAbmQ0YWP7gcT0kxFkCGLgm\n",
       "EAwJhosMRx/gUHQCHqoMpyr2AcmslXaYMXQFTYDNgKFegXD6S2BgDSCoivUPAzfh1Mx9gYH7HzFp\n",
       "lvcDnJm12wGXqvcN8KCMw23WbYR6AZyKuMDJ+jwoGvbv3oFLlTfEcQuARDTuuC9gSIOxv+NU9ZyB\n",
       "oQfGtsKliO3WqlUXYJynB3gOYA8sYCKGpx++FR5YVQEAIJFplKbIANgAAAAASUVORK5CYII=\n",
       "\" style=\"display:inline;vertical-align:middle;\" /></a></span><br>"
      ],
      "text/plain": [
       "one_over_2eps__lb: |- (1 / (2 * eps)) > 0"
      ]
     },
     "execution_count": 27,
     "metadata": {},
     "output_type": "execute_result"
    }
   ],
   "source": [
    "one_over_2eps__lb = one_over_2eps__membership.derive_element_lower_bound()"
   ]
  },
  {
   "cell_type": "code",
   "execution_count": 30,
   "metadata": {},
   "outputs": [
    {
     "data": {
      "text/html": [
       "<span style=\"font-size:20px;\"> <a class=\"ProveItLink\" href=\"../../../__pv_it/_proof__n_less_eq_t/86fc1e3e6129cfa302f3ffd523722b1b32343f1b0/proof.ipynb\" style=\"text-decoration: none\">&nbsp;&#x22A2;&nbsp;&nbsp;</a><a class=\"ProveItLink\" href=\"../../../__pv_it/_proof__n_less_eq_t/fb280ae586afdc5073afa2c99eb90cdc1dd87ef10/expr.ipynb\"><img src=\"data:image/png;base64,iVBORw0KGgoAAAANSUhEUgAAAY0AAAAzBAMAAACZPklTAAAAMFBMVEX///+6urqqqqpmZmbu7u6I\n",
       "iIgiIiIQEBDc3NwyMjJ2dnaYmJhUVFTMzMxEREQAAAC0ii6rAAAAAXRSTlMAQObYZgAAAAlwSFlz\n",
       "AAAOxAAADsQBlSsOGwAABt9JREFUaN7Vmn+IFFUcwL+zOzc7+2P2Ng6Fw+i2IMv+uY0r+6HVgIeo\n",
       "RLdYRr/w1sy18sqDJMtMhyyT/tDDhCAsF0r/kINbspTox21kp3nCLQiakdwSav8o3XprXP6a3sx7\n",
       "b/ft7pvdmdERenB7j5nvezOf+f543++bAbBu3d3dKtygdiPnsmzRPPfwal0fsB503tbU4mn8/29d\n",
       "TwE84S3LKP/wskZjIll7cx+nty4gDuUlLzEiGRccR2zdPIAvxXDATC85vgXnHOEGFif+vIuxn0GW\n",
       "I5TzDkN+ywXHh1qjKXsZDinLcMAq7zikpAuOFWCXw7eG5bjLO08/AM45wv22OeBjliOY8IxjnQuO\n",
       "QMY+R4fGcAhTXmG0lFxw9Kr2OYI5hgN2euYeORccfWCfw1diOTq9cpDxvHMO5aoDDvEiy9GT9Ijj\n",
       "EDjniPQ74ICzLEc05RHHehccgZwTjmGN4Qh75OjKZRcc41knHD1ZhkO87FG4mnLB0as1nnRIq9ce\n",
       "4eDqX+bOMj1tsdoSceMiM9OrcCfa74Ljr8YYRzfuZBWGXYJynOUMWMyd5jur+Yn4NPO3DXcChUYc\n",
       "yidcT9hg/m56yF4NEppgOYbqBXwZK46TPO0hcbnr8zy0ZAmH0elJNNRHkMchTpraLcBQzA5HuMhy\n",
       "DOMxCxmNLQRLffCWTSS+FUJo0h2Ew+iM18XzGSxHlMehmCtCRINAf80Qfii5yHKQC4p7KheeUyUu\n",
       "ZBmOc5z5kPhhgLUA+ygH6nTGa8XubMrhu2C6bwkiUzVD+PXIJMtRNoCnv6QC1S7qSzbhQOIbVRhD\n",
       "j1ElHKgznLfLUQkqYXM5j6QgctUOB1xhOVrLM+4nIL4BWxw0BhriIwBjeQhmCQfq4BAqvLBg9xkL\n",
       "DvH+J2MgHBldnKqL1dKELY5rVRyVwDLrQfOfH7n5tIMfLU3yOeYtuRfg1sFvaE3sx1FhNaku23CZ\n",
       "OWQuWaHoL9Cj8TmOa3AGxtVAtuzUIZoiU+dqwvE2yxFgnn77QcBPEzLnkuIUl0N5GaJJpQTvCDR/\n",
       "zlKnM4vrNlxlP2Zy3CIVYFuez/GqkUuOGGZEm79Uk/Y24UizHBKTYLWbu0JSHITY6yBf5XJIGZSW\n",
       "oouPlBP0OE3Tff2EA3XGzHNqTwxn1LPT6bXpdB/DoSCnbs1UcUSIOflNE2GG6LUNy62s4qh49azD\n",
       "WEMxEMUizu/96fTKN9PpXIVjHN32JZYjYNrFo4ZOJggH6mAO6AT4le8fvqJh0x2qlAVx71GV5fge\n",
       "7OnDgmP/fZUb801AZICrj0509ppQMnYoFg0epBxhg1Sg+kAdbFcGxGWRy2HqIzHvyCh6WOBPMXaF\n",
       "1tUt12FX5bhrGAqCaM2qPA5DH5Pi3EHkFQmYTe3qHpA1vDfWhjfJSEq3Dqk1xPePN1CJHbvdDDUx\n",
       "bMMh7JG/Azzl2s+ZdTCaNAv+TjXD4wgkQCj6TFsqmj5siCsZaFEhXKB+XoBe07vR/bUM/MDnOJGH\n",
       "T6H9t/eRuIo5WsxfeXlXV8oWx/oqjlxtXmKET3SDz4bz3Hj1LgQzwmdbkLK+NjkM8c1dXbNJBG7D\n",
       "oRivg+gi4mi8nkM5tF6THx6MQVDXjSQ6lKqsg5Je3sduwlG1nrfWJXQKOjMd4PGv6v3jj7WHYdPe\n",
       "nwB26f8Yh/cQ8dW6/i+6gxjhQJ3OWMP1nLY/YcHMJN249RWthnBTYPFSVV5Sn9y+Zr2eU9OLi++t\n",
       "oPvcZfHNNL/azCvtZnA4hIJphPJpfg1Jh/BTYG6eyLZ91nkiabehvx9RmqtWic+hHHN4aubVUSJ6\n",
       "BsE4bCIBatJq/6GSAtellZSDJKbz00bDjzaqNauj5iPr3w5yQtYYcblAOIyONGCrHly0+7lHQD5/\n",
       "Cof8V6z2HyopcF3pTDk4NbFYaMYh7l3yRR62njqmMuKYpw13Ig7q2oCuTzTcK2JSYPZoVT04xhn3\n",
       "AXe2O2oPbCQJAhF/hkZ/oxMuuajPh603BWkKbOh9Ln7RhUtnyrHBo32fC272feLWpypufIAkntuS\n",
       "DId88f+xD9dX/4Ruyj4cPOCCw2/pVDgF7jGCR+TKUaybEXZfNOLVvmhHzDmHULQ6g1NgKcEqrWqf\n",
       "utWrfWop4ZwDllscr6TARtFCqvmq9wYNQsT1tbCb9zhWd1NJgVFUJw9IyrEcfeBVu4Hv1ZgUGPn5\n",
       "Gug2DVdjOLx7r2at6WWOlcikwKgde97UDdm6wRzRnGccwYxzDlSR2G1CieXoUD3jUNx8B3BCsx1H\n",
       "4izHi+BdW+qCo6Vgd/ab9l2GB9/JsGY1wHK0g5dtuwuOYNze3CdVhkPZ4SmHxXdkdzccZPM7svKd\n",
       "i6jMW+iZl/8HEqAV7tqAQIkAAAAASUVORK5CYII=\n",
       "\" style=\"display:inline;vertical-align:middle;\" /></a></span>"
      ],
      "text/plain": [
       "|- (n + ceil(log_2(2 + (1 / (2 * eps))))) >= (n + ceil(log_2(2)))"
      ]
     },
     "execution_count": 30,
     "metadata": {},
     "output_type": "execute_result"
    }
   ],
   "source": [
    "_t_req.rhs.deduce_bound(one_over_2eps__lb)"
   ]
  },
  {
   "cell_type": "code",
   "execution_count": null,
   "metadata": {},
   "outputs": [],
   "source": []
  }
 ],
 "metadata": {
  "kernelspec": {
   "display_name": "Python 3",
   "language": "python",
   "name": "python3"
  },
  "language_info": {
   "codemirror_mode": {
    "name": "ipython",
    "version": 3
   },
   "file_extension": ".py",
   "mimetype": "text/x-python",
   "name": "python",
   "nbconvert_exporter": "python",
   "pygments_lexer": "ipython3",
   "version": "3.7.3"
  }
 },
 "nbformat": 4,
 "nbformat_minor": 1
}
