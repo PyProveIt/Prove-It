{
 "cells": [
  {
   "cell_type": "markdown",
   "metadata": {},
   "source": [
    "Proof of <a class=\"ProveItLink\" href=\"../../../../../../_theory_nbs_/theory.ipynb\">proveit</a>.<a class=\"ProveItLink\" href=\"../../../../../_theory_nbs_/theory.ipynb\">physics</a>.<a class=\"ProveItLink\" href=\"../../../../_theory_nbs_/theory.ipynb\">quantum</a>.<a class=\"ProveItLink\" href=\"../../theory.ipynb\">QPE</a>.<a class=\"ProveItLink\" href=\"../../theorems.ipynb#_failure_upper_bound\">_failure_upper_bound</a> theorem\n",
    "========"
   ]
  },
  {
   "cell_type": "code",
   "execution_count": 1,
   "metadata": {},
   "outputs": [],
   "source": [
    "import proveit\n",
    "theory = proveit.Theory() # the theorem's theory\n",
    "from proveit import a, b, e, f, i, l, x, defaults, Lambda\n",
    "from proveit.logic import Equals, InSet, NotEquals\n",
    "from proveit.numbers import (\n",
    "    zero, one, two, four, Add, Exp, frac, greater, greater_eq,\n",
    "    Less, Mult, NaturalPos, Neg, Real, RealPos, subtract)\n",
    "from proveit.numbers.functions import MonDecFuncs\n",
    "from proveit.physics.quantum.QPE import (\n",
    "    _t_in_natural_pos, _two_pow_t, _two_pow_t_minus_one_is_nat_pos, _phase_is_real,\n",
    "    _mod_add_def, _b_floor, _best_floor_is_int, _delta_b_floor, _delta_b_is_real, \n",
    "    _scaled_delta_b_floor_in_interval, _diff_l_scaled_delta_floor)\n",
    "from proveit.physics.quantum.QPE.phase_est_ops import Psuccess, Pfail, ModAdd"
   ]
  },
  {
   "cell_type": "code",
   "execution_count": 2,
   "metadata": {},
   "outputs": [
    {
     "data": {
      "text/html": [
       "Under these <a href=\"presumptions.txt\">presumptions</a>, we begin our proof of<br><strong id=\"_failure_upper_bound\">_failure_upper_bound:</strong> <a class=\"ProveItLink\" href=\"../../../__pv_it/theorems/a6157de4c5444c5a5dbbab9b2fcdbe64e328db540/expr.ipynb\"><img src=\"data:image/png;base64,iVBORw0KGgoAAAANSUhEUgAAAacAAAAyBAMAAAAKHQnvAAAAMFBMVEX///8AAAAAAAAAAAAAAAAA\n",
       "AAAAAAAAAAAAAAAAAAAAAAAAAAAAAAAAAAAAAAAAAAAv3aB7AAAAD3RSTlMAq1RmmUTNIjK7EInv\n",
       "3XZ/CtNrAAAACXBIWXMAAA7EAAAOxAGVKw4bAAAGrElEQVRo3sWaa2gcRRzA/7nL3W72cnsJfhD7\n",
       "MAGlH9SaQEsF0eSwUdti60nBL6KNRbCtoCcGNPSRq5ZSsbZRUZpSmw2GQgmSa2MFKW3TD1q0lSYm\n",
       "SGi99tSKaG3SR/pIIjlndh77TC65mcOB3Oxudnbnt/N/7wLIbWUpgcF7Ch6p7SX9QQOK0O4SGFtS\n",
       "W/jYDwmNeq4ITCVpgcFzrc0ZTM55SqCP9AuLALVEYGywkW92PDWe72z3KYdIF6mQzqScEhi8KWlt\n",
       "63mh3KdEqewOSIeKZgUGXwARqMAPpH9Iuql4TET6eoWg4BXSheOyoU4LjC1Pi0GtIdIbui2ZaQZT\n",
       "mbqNGGJQYWoiXpatUiKmpx/EoAJ0v0ayUu0WCCfUO4JQ2iTpu7NyoeaJuO1eQSj4nAZqfXKhTorY\n",
       "iQpRqHpiKYJyLYV6Q0R0a0WhuskVtBtSoXTzGekZH826MkQiDrKX9DN+joOR/I/bcwpb65NSocpM\n",
       "tYgk/P53xPz9jey85HPCPoeCzbuVL9z3nsKUCemWiXefFKjyVgalt49VfrbCAxWg/lX3yTG+F759\n",
       "5CrpTwA8iftXpUB1x/lKxVDEvc9wQx1gexts7oXcWxsVvn3wJjUYCdiKRb1VjpvKcii8WZN1Qy1l\n",
       "e4utmQzS7G5y+muvnoGdmuTTCKOLRqqlQNVUc6gRZCxG0m4o7orK2SLq5+lW4Pr01354Bin9KBeY\n",
       "IJLvsBxDUZ/iUO34L+WCCvAsMEyVqounG8E7wlBwjXQxZCZ+zGROy4EiVtmEGnMLFIYqxUvXNbyC\n",
       "56edAy53IAY1RqGQMi0D2CsH6oTBoBCQcqzaDYXXJzQEH7DMvWOtzXSNi0N9R2UbXfxNUBwRSrDH\n",
       "P1NnyVezIwpWv7J2n+VQ+rWjPQl4YRXefxwOXiVQUYTZUgt/IEE0tavEBlUqASpDcwXkr8oMp7vc\n",
       "if6+aHSc3XVoDgSpLVMXcgrtaKVhr3RUAYMqM13G+Dv4dxcoFKoc/ad9+DJeSeJSmizxKyFHYjl3\n",
       "w8dXZjJnMhkzN8n5NjL4FwqFnlggy+3Erns+BViA7jnsjHTjsBKuPMGSJg5VCqV9Nu23QWE3BRoz\n",
       "dpoNiihzqNdtKCiU0ErZoKCxjk1yGf5dYKui0XYTWlJR8EDFEsodO5QlfruxSdg2UbtxcUJr51BY\n",
       "/CYdVTrLpEsWPziM/XtXXS38DlNAPYqgUDTQ1NDQkLBBBQ0n1Alu/UYSZIHmwilo4VBlSILPo4uj\n",
       "ka1u5xu5LdVQwCakFdoQVGjkTku8UADH4P6gZ6XQVPogZJ06wv3UG1Tq3oZPoJtDYfVbAtrT1LhT\n",
       "r7uOLFnBfgorvCM8N6P1EjSXkoqNtSHTI6rrfKDUc9D0CN3857B1HFewXzc8znd5bj+B0o9fsEGp\n",
       "6Kp6Dxb2qCeSL9z5YoUnjUYUMWany5c+AMH1bW0fw9Y5PlDNrmLG+22oJUHBDm4BD/FqEo7UA7EM\n",
       "wH7DgoIhduZmz9QCNBpVGtan8kBtA4/Ck/tN0DCJiUEMqYNKdn71QilxxS+vgyYkX0qvK3m1QWnj\n",
       "cCFrg+Jx7NIps+ZmiNzME9D2g0fh3QEtTbCqIU0DC8tQaGnoInfasc2v7qTs2bHCbihicQdUx2jy\n",
       "0qLtf1fFO0cpVBl9NDQr+DKD25BDdu4GOJMnv+4Hj8I7YuIaFspoq+oMaE5RKOXrCUyrnoKd5jTO\n",
       "5nK+SSH2ejaoaGOezJeaIg5nbz+T7qwBVclpod5zVyvZOx0WPjoLA9o3bcT5zqbZoEiVK+Jbo/jW\n",
       "7LaQvT+nLq/NRz58+uph2g3FFJ757yqfQS8WDBUUqTrXcwG/aD3l45c8Yq8nbVA45OcKX946dWEg\n",
       "PLsK53YrGFevi6TN1a4EFj/flOp5M/mWrVhuhvxc4VvIxBXfHPrd2cxFSckuZloFeeUG6B4FTdug\n",
       "zJCfK3xxipnwjMDYUuYalpuCdwvbk8nhIx4nnSRQ3VjqScjP2nyqWpLLzmsShY8NUfcUJAs1SPNy\n",
       "d9tC39VE41b+ThsVu1hWLlQ0LjB4kHQPAnf0ftN7rrLy37kuDKeZqjfkQkkwf8gy6GxWUWQlfOpc\n",
       "luaSkN+li/0guYm/Ht3c0LCSP6NG6ExOWV8BFvIz2S/S61GhpSfLfDGXu8UPXV7kI4DLc/dyn9VT\n",
       "Zx3/iEYr0j+kCIt88PKa0K1DVPTXGLKhVJGPQ3YmhYwU1b6fQHr7S2CsLlTRL95nPNI+uJq99NEQ\n",
       "9HkoQlsropHVhY/dTlRJ3VAMqP/rI0YKc8Bk+w/jIB7SeQt3uwAAAABJRU5ErkJggg==\n",
       "\" style=\"display:inline;vertical-align:middle;\" /></a><br>(see <a class=\"ProveItLink\" href=\"../../../__pv_it/theorems/dab15506ed44e496fef5b23b955f66655119a6710/dependencies.ipynb\">dependencies</a>)<br>"
      ],
      "text/plain": [
       "<IPython.core.display.HTML object>"
      ]
     },
     "metadata": {},
     "output_type": "display_data"
    }
   ],
   "source": [
    "%proving _failure_upper_bound"
   ]
  },
  {
   "cell_type": "code",
   "execution_count": 3,
   "metadata": {},
   "outputs": [
    {
     "data": {
      "text/html": [
       "<strong id=\"defaults.assumptions\">defaults.assumptions:</strong> <a class=\"ProveItLink\" href=\"../../../__pv_it/_proof__failure_upper_bound/d6451ebca630c456e1c1f2777c5439c1c43bd4fa0/expr.ipynb\"><img src=\"data:image/png;base64,iVBORw0KGgoAAAANSUhEUgAAALoAAAAaBAMAAADyPFssAAAAMFBMVEX///8AAAAAAAAAAAAAAAAA\n",
       "AAAAAAAAAAAAAAAAAAAAAAAAAAAAAAAAAAAAAAAAAAAv3aB7AAAAD3RSTlMAZkRUmRDNuyLviTJ2\n",
       "3asqG0tJAAAACXBIWXMAAA7EAAAOxAGVKw4bAAACYUlEQVRIx7WWTWgTQRTH//nYuMluk+rBoxSh\n",
       "R7EnD4JQYW1Pwh5EEKENetCDH/VUQYSAxdRCy149iEFQDxbMWYTmoIJSJYe0elmNBIwepBrZEGhh\n",
       "nZmdXVY7s2u7+A6TgffeLy/vawLsRnIVflH2x5nu2zl92r88fys3GqdHZnzn9CPB7ZjcqEqP00KV\n",
       "cjACvrD+JJp+i2Yu1SDHNaH+1WhU7OdjYte6JjnXANUSqTMOtVkTaOYmbgCOnK4aF+rAnja5vgOy\n",
       "NRG90ASmJpztCnUGT0fSFrRZItcF9CoKPc8f0yZKIzI6dAG9WEHe0ttnpbF/Be5y/9wwVsyQSr9p\n",
       "r0fT8w6Kg2zjoZR+38RGxfPPziDcsOlLZmzsTRQ3teN1v3uuLv9l8B3YqHN/C19o+y2/YNjbZmxm\n",
       "iAz9iJmGT9w/7WCWfByqa6y2FwODbFlOX2lEw7UtFja5bOIK6YOf0Flty4HFnWE5/WNM6EOkG9Vf\n",
       "tL96aJHm3Fp9wL70nm3b7+lt6RykdFKr7ZN92abiVWOSHlNk4JQejb3U5jaBnzZpSukHYkJPMdoj\n",
       "kgyVZabkJ7IZmLBZE9IzNcxH0o9CrfBZH6BLEkVKOkYVq/HThGfAy8ia1qCbKFhez7wmv6WMU+w5\n",
       "yI39QS8M+DYn1Vb6fBO0DKMZRV80jJPcP2XhMMnwm71ebpTuaIhe/Nb/7DUBfQFavCFc1y1HNrvr\n",
       "9jk920Y+vGfSj8ObIIH4e0a+IxPTyY7UhPtdt5LR2azT3u2ItGzWEsgZOusfpO/qXCcJfKHjv6uZ\n",
       "Gv6PVHf7f+af5ATwG3VArEoQghWKAAAAAElFTkSuQmCC\n",
       "\" style=\"display:inline;vertical-align:middle;\" /></a><br>"
      ],
      "text/plain": [
       "<IPython.core.display.HTML object>"
      ]
     },
     "metadata": {},
     "output_type": "display_data"
    }
   ],
   "source": [
    "defaults.assumptions = _failure_upper_bound.conditions"
   ]
  },
  {
   "cell_type": "markdown",
   "metadata": {},
   "source": [
    "### (1) Import & Instantiate the `_failure_upper_bound_lemma`"
   ]
  },
  {
   "cell_type": "code",
   "execution_count": 4,
   "metadata": {},
   "outputs": [
    {
     "data": {
      "text/html": [
       "<span style=\"font-size:20px;\"> <a class=\"ProveItLink\" href=\"../_failure_upper_bound_lemma/thm_proof.ipynb\" style=\"text-decoration: none\">&nbsp;&#x22A2;&nbsp;&nbsp;</a><a class=\"ProveItLink\" href=\"../../../__pv_it/theorems/deaded043dfbcaa1fdfb156f013d0f6926d302040/expr.ipynb\"><img src=\"data:image/png;base64,iVBORw0KGgoAAAANSUhEUgAAA4MAAABMBAMAAAAl7381AAAAMFBMVEX///8AAAAAAAAAAAAAAAAA\n",
       "AAAAAAAAAAAAAAAAAAAAAAAAAAAAAAAAAAAAAAAAAAAv3aB7AAAAD3RSTlMAq1RmmUTNIjK7EInv\n",
       "3XZ/CtNrAAAACXBIWXMAAA7EAAAOxAGVKw4bAAAP/UlEQVR42s1dfWwcxRV/93239+XQCikB1aZF\n",
       "rdRCc3w0VRFNTJMGQkRi1D+QQBCnLV8V4GubtqBAfbQRoiLFLqgFVxRv1DQtCuCDqFULSuIWEB+l\n",
       "tRG0jUKdOAVUKZA4X04cO8l2Z3dvZnb3zfjOnjn3Sdk8v/Ob37v57cy8mZ1ZA6iVZIcOb2a/GZou\n",
       "95myT29uFrpEUStXaPGm9nhL8ynMyjC1B0TRJYpSib6hw5vZLzCbTyG8JPlMf0Av1aGolKdLOryp\n",
       "3XhpDhiENWXhR00IiKJLFJVythZvao90hj77TODngvovFekVf8QCSrV7yj2mHnSJolDS4zq8mb0n\n",
       "lO7EfJZf2zXarvxbpY4IP+ICio160V5o6kGXKCrz0U4d3sx+S+izTTSvILV3cBjgBvVf61fCT7iA\n",
       "DnzFU/KmJnSJok4WdujwpvZouJl+taZknF+wKUyqTzB6RkX5lxfQ1ucWQB40UUjRJYo6uVOLN7Un\n",
       "h0Of2RZj23s8hdk25V8rMyjqN7yA2uEa2AKwbtmyZR3KKaToEkXdUHhGhzezh2+6lN3HPlOJ8BRG\n",
       "1Q+G0SPTNJBx6K6cH9PUCim6RFGXPE3q8Gb21lDlJOycbF5qG09hQkOadlxgrwV0mU3hui96d9xH\n",
       "z+tClyiqZKBXhze1Gyc560/6bClHWwBevtiEFX1P9PWVHArTGihsreCzQhbQdo0zQ4ouUVTJkjYd\n",
       "3tQeC3cbhK8T/nRGQ0cKa6qomQWU3q1zcl+dXlEl/aYOb2rPID2tzdkjkOUpLKjP0qCIpw0sIMXT\n",
       "eQG6RFEkxmkd3sw+EE5I4TGAze/t9yhM/WFqFDIaVp0yE3gXP0xXZlJlfRRSdImiSGJTSrx/agpK\n",
       "XYL0Gjf45oVEnmooC66vAyzg34wGdM+DG2bSDBtFlyiqEtJxBd7Gx7tMQamtyNQ/XuZWZxy5sgHM\n",
       "Tcvry6HTeOZHAxqyrBl844bRJYoiyR1S4j1mCkodwtxeCDbmhhaICnVOgyy0kQ3NssIaRpcoiuYU\n",
       "w0q8AxRSOz5YGtP8rKYSuzqUj/0zQZcoamRhrxLvAIXUHj2pPlOotxJXY2nurANqGF2iqJHVVSXe\n",
       "AQqpPT41dxQuwe7OWQfUMLpEUSNdbUq8AxRSe/LI3FHYg82/Zh1Qw+gSRY0MVZR4Byik9tzE3FE4\n",
       "gGVqsw6oYXSJokZmlx1R7wCF1F5EvnCXxeSMxkosYmyxgJJcGNaoPnSJokRSlhpvP4XM3o3ccAst\n",
       "t40a39s3dEojhXmsz2QBRS2vJn9707nWoD50iaJEoqfVePspZPaFyJwlYlFjbG+bPgqTWBPnAmpl\n",
       "3/3LR/ShSxQ148pxNd5+Cjl7J+K29zBLEHv1URjBkk8uoLzFtuWu0IcuUZRI1p0mFUaQrObALrdX\n",
       "dH8qi71t2VkW2DGKeiy29/TKGcR8or7fix9GjFxAaeso+92yNnSJokQibmlZdL3g9871P+4PN4m9\n",
       "AeYNrS1hdmjF9p8XLFYNscZDPvf4x+qrbKyH4QMasxhxJW3ouOKE8SkVFGaOUQoL/Sfn/eLqEIVR\n",
       "b5ZeKAm9Jfb+duzz/tPQBMliKHxAGWu4Cei44uziu1UFUJJRCEV7mHjCDFK4pfbTt7h05Vaft6hU\n",
       "MoFAKXzaam8ChQUs3eUDMoaONQEdV+4nQ5SSVZr8FKOQbO1aOBqkcGntp0tZ5/eO6fMWlUoyF3T9\n",
       "LmEdaQKFMTZh+hqgAa2x2vSj4wrZOatm62WOo3DMTmnGqkEK6YwpV2ughXdNv7eoVLJMgy/B7jxl\n",
       "NpXCzwMaUNZ6Y64ojNnjUlIJUO4Mo7Cf/KsEKIzSJDzpDYZb9wS9RaWSGsOXPZJWp34KoyiFvoC6\n",
       "jutHFyh/Gxn5qxoKjzIKTwZ39hIK4+Su3Xrwanq4cfPbIW9RqaTG8EzPGJqaKwpL/kG5OlcUXgXw\n",
       "SyVARUahTV9qe1uQQtL2ErvgIbvpOw1n09fD3qJSbbEEyXptkU2nJDAK/QHRRTaN6ALl25DyTbhi\n",
       "29BiBMfnHmJTh+IRNqk4/OK2DrhhlbPgBE8dcinM26R2l+AD++s6o2LER6EgK2F2Ub4Q1zgKsam7\n",
       "iVDoD2i1tkGZoguUjOmfjG8E95weJ+TgDnJ8jpjhOcb9ZZTCjLMAPHk3uT4MKY/CnP1J/8EPSSt1\n",
       "F4jXcR2p5w3OYj/5eKDTZwe4RFRDe4XrhEVr9uL21pe4BV4zMvLmyMhbaED54DMK5egiJTpKs5mH\n",
       "5/8c4NPeOT1OyMEd5PgcMZNfr0U8Tikk00IwagmowVHorrUkBkPpTDG4/S3fHrBbom0i3cNz1Ar9\n",
       "AaVOwxy1QuhcXOuRriJXwknUXynk4A5yfI6YeQpZR9pDRvYNU6X1l3YY/ZRC0pG6DYaWzyYVM+9I\n",
       "4aPy/0VHWnh1zih8nqyVbF1cgvdAQCE5uIMcn7tMSOFYh9v4zoFXoZtSmLE7mnftwu3esTc0tZ85\n",
       "hQltaYTx4jxaUzAthWsq2tFFyr12NmPsghbDrddFYQrJwR30+Nx2gBuxSUWX13/+AB6FAUohmUos\n",
       "AuNKb3rhJXK3zXJSAT3alkXiEB+WZKT+gNJH9KOLlIh990Ra1pcSTkTp2xAK07sBOz5HNpQn94cp\n",
       "XGE96VJY2LGHozBNDq1sI912vkNCVaPzwr9r6z6LHamJuil8elQ/ukSB3NLPQuz2vr5H4P4FCIWB\n",
       "gztpcrbvMdccvYsOktzU3muFb8OTJqMQdtV+9T5kLZRRuAG378UpTLbrW9gypRT6A/pmE9BlFBbt\n",
       "jCDt9m77whQKDu445ntZXZ4JUmhMwp5RjkK6ur0UYYLNDN7C7V34bd6nM43JehURZU8q2DK3L6BM\n",
       "bxPQJQpk2qDqLdKwdMaowla3EeIHdxwzS2cyU34KNx0rv3/JA/tb2zcf8yisnRvznow8M0Jkl8+b\n",
       "ZHY+Cpm9H13AirPTQVG0Hr5Qt5FNlmoXesoqhj4v5AO6htVQ2zRA8mMf7UDP+ITQJQoYqxabcE/F\n",
       "o9A5p2c3y1dho1PpgoM7jplRGDnmpxCCC2zgJUzoEcAIfd7247W4vRXtMS9nZV2Mri+212tktya9\n",
       "pGpLj+i+ID6gGJtRxNqmATofpkN37/EwukTxePxT3895TuoS9uveNo4sunfmFee/H7o//RdrTXSD\n",
       "RXUtbl/dIp9RRAex+LbIjEl0RuksRDmXdXZO7X4p7PgEHxA3o7hgGnSjc3p0Z6oeRpcovNw4Uwqz\n",
       "szolQr0L5bWoHd/+1E1veWM12rQelRkH+JF9+eu1Kt3tXVKPP+gtAcexZ/JcQNyrtDYfmwY9U0LQ\n",
       "193xGHDoZOaGoEsUX/7QUHKcZkvVsVk9MKPe34W1qB2WdMpmFN9pRR9YpOymmd1bCRvXLX/c3+Nk\n",
       "4dracLbPu+Tc1VpS7dgyLBcQnVGkzuMfWBCg7cGVB5IAhtCriQXAoRdaUHSJ4pMfNVLzd3N92qnZ\n",
       "UEi9q34KWalrkI4yefwWR0bscRldonQWEZaEjfZos7Nj/T//yA26LB8ZMGsXioPN27mAutww7vy3\n",
       "ZfH7oAh6LLgJfSUg6AvAh274dphSdImiRNRsyI+V/RTKN+Sv5hb1j+LzY/uyPGyMlCE3CPzTrgIb\n",
       "2ZxNBUl+1oeegGEBxfmHCyU/ejzYeYwDgr4P/OjfAAxdoqgRq6zA28541uKlFk/MoNQe0pb2hI25\n",
       "SYicAP5eN9j97OwL920Ox47k1BEQQc8HBqa0XVQYfaDNj+7bEk7RJYoa2duhwPvaefNOnYOWmp/J\n",
       "2xgOkIY8ETZGhiEykfB1zey9N4XB2oU2OCzbnT4ggt4dGIgLwxg6904dB/gjwNAlihppLanx/jNu\n",
       "jxydQankhcKh0ch9y3D+UKHld8x4HjtnnpisXeiwh6RSdQR0NjIQey8S9qNHz2LpvAO8xsTQJYoa\n",
       "GWtX430StxdmstmWLL+F3n/srsn1jMZH2fsyYp3sdX3pidqFBoGtDE0fEAGaH5xT9CLoi7hXBDrA\n",
       "PRUMXaKokdndEdR7hfUJ1J6YyaSFjKu5UcRIlmLTS1lFdZejE+nbvRRqvHahXUEblkQfrwc9+CAl\n",
       "2RJGT52AhZUHejn07g4MXaKokdkdGhZ5U7sxk4z3HXJHk4TIuNNZka3UjCxdMRwm5pO73xuEjfHa\n",
       "hQ7IJrbMYtWBnnZyni1sOdjdUOJHt/uJnkqkyqEPdGDoEkWN5E/o8Gb2vaKMV/Jy+rXB1IC2wot8\n",
       "NMNRsifrNa+8iUASZOBTXicgoxUhdxEFKgyirdCPXixBD+QqHDqfBFF0iaJIskd1eDP7zhJSY4Ld\n",
       "dVwlws8MhMJotbYC6f7+hD0aps/scwpwWk6au6Wi+Ck+J6DgojK5nR4+QIEyLSZCYQB9oGKPhj0H\n",
       "3fm9A9xTRtAliiJJHNbhzexrWtAaC+2u4yuRJBNHs4EiifEhgP28bQKSbYXdhXb4EMlII/gaiBvQ\n",
       "Sr/R6SEvpEDFUiDhcJKrAHqxYs/zD5jvQ6GKZKQUXaKokiEt3tTuvo1tZXCtI7S7jq9E0omOPxso\n",
       "0Tam3lm2zPdcewecB5lSrNNYZUKMdH4xrgcUvF3ONf+DdgiLS2H04vWBZIr0rEH07Gi0BR61W+Lm\n",
       "/R7w5YCgSxRVsrqiw5va4xO+GnMF2V3HVyK5my8NJt62MW9Z/uM02YNVezSKt0RL3t/S4v+gVg/+\n",
       "B66cgIxDsIJsRCmRLWRh9NjKYK8yCWH0HXbbfw2ucM7qOsD8HyCj6BJF2ayiqsOb2hNTfI3Rz0O7\n",
       "6/hKzGErRjnBMlIRcm3f34+skY7hqbsTED2vRbaQ1YP+iuD7H4K/pO4ykTVSii5RVEluUIc3s7/J\n",
       "1xidCYd21/GVGMfui7jgZsmbX3IO6oWeVNwhCPlNvjCyhSze1/d636Ny9JWCwnbHeqETkCcVd9Sh\n",
       "qJLCuA5vZic7jGmt8NvoeHr8lZjG7ou04GZJrxp1KLzIn/ZDWnT8jQSUv97rForlUDqDAm0UFLbh\n",
       "IDgUEuBYC4IuUdTJYS3e1F5s4WqMzglDu+v4SoSzsBLPEgexzv73L6hdvC5S9DiABFSs/a02ZwtZ\n",
       "HegRcefnTHAJcL6MoEsUdbLT1OFN7dlJrsZqs/nw7jpfJUr3ziDySX7vTG3aJkoaSEDxD2pTS7KF\n",
       "zEVf37VDDGSI1yGjbfzemSC6RFG4xFbV4U3txhRXY7UpR3h3na8So1ihUWGcz77A72Cr9ZeiZSED\n",
       "6ch6pwX6nAjc+NDkd7AF0SWKwsFwUoc3s4/V1cr9DyYa20eatTtoZ9MR/9acl4VQSEDt0wKJ95Fu\n",
       "84DjJoYuURTKu1q8qT1fVytvb96Nmdd2vj6MLlFUysKyDm9qj56AOZAB8aPsJgRE0SWKSon36vBm\n",
       "9hVzQeF8yWcrmocuUZTK21q8qT1faj6DCdnbGLQHRNElilrZaOrwpvb0G82nMC/b1aU9IIouURTf\n",
       "NGUd3sx+XfMp/I300+uahS5U/gdOivt0oJDGBQAAAABJRU5ErkJggg==\n",
       "\" style=\"display:inline;vertical-align:middle;\" /></a></span>"
      ],
      "text/plain": [
       "|- forall_{e in {1 .. 2^{t - 1} - 2}} ([Pfail](e) <= ((1 / 4) * ((Sum_{l = -2^{t - 1} + 1}^{-(e + 1)} (1 / (l - (2^{t} * delta_{b_{f}}))^{2})) + (Sum_{l = e + 1}^{2^{t - 1}} (1 / (l - (2^{t} * delta_{b_{f}}))^{2})))))"
      ]
     },
     "metadata": {},
     "output_type": "display_data"
    }
   ],
   "source": [
    "from proveit.physics.quantum.QPE import _failure_upper_bound_lemma\n",
    "_failure_upper_bound_lemma"
   ]
  },
  {
   "cell_type": "code",
   "execution_count": 5,
   "metadata": {},
   "outputs": [
    {
     "data": {
      "text/html": [
       "<strong id=\"_failure_upper_bound_lemma_inst\">_failure_upper_bound_lemma_inst:</strong> <span style=\"font-size:20px;\"><a class=\"ProveItLink\" href=\"../../../__pv_it/theorems/e5f8fae80d0c15a1e3af708f726b9705a021c1de0/expr.ipynb\"><img src=\"data:image/png;base64,iVBORw0KGgoAAAANSUhEUgAAAKwAAAAYBAMAAACVRAuIAAAAMFBMVEX///8AAAAAAAAAAAAAAAAA\n",
       "AAAAAAAAAAAAAAAAAAAAAAAAAAAAAAAAAAAAAAAAAAAv3aB7AAAAD3RSTlMAEIl2mUTdMiJmu6tU\n",
       "ze/kkN0jAAAACXBIWXMAAA7EAAAOxAGVKw4bAAAB3ElEQVRIx2NgIBnwNkAZjHMZqAjkYYxiM2oa\n",
       "exbOOkaaRsZQPJJNuer4je1pwKHTNhCfpXcIuJZ9lwBWcZ6PIMlELDItvssZGD7iNpbD5VYBAwPX\n",
       "BqzGMiUwMEj7fsSU4FjAoB/A+oCBfRUQrMBibBcD01eIfhzGMjBjMZa7gYHvAfMGcZyu3cHA8A7d\n",
       "WOZlabn4jeX7yMD9g8VAEaex7wUY9jegGst6WYCgaxMYuL+zexbA0sR9ZTQF2xgY9hdA9DMqm4DN\n",
       "6xUgGAhAwPaBQOLMh+oPK2BXAPFvwGVYLuA2tt4Av6nsn4FaHwBj9ycDcwBI4AJcqm8CbmOzCTiW\n",
       "DZi4OP4AE9lnY1WwNc/S0tKyQKzuqww4jWVZgCVPXksDAUiIe4EI6TsM/NC0ywjXwO4lgNPY2QQc\n",
       "ywk2TTeAgR8WWIhUAc4lWI3lUWDowGvsIQaOBnAuZQPG1wGQiDHh7MBQxMBgiDfCFBiYBRiYgFHG\n",
       "eYFBBFzk8B5AMZbpB7R0BUYl419o5k1xcUnAZ2ybi4sbVL/RTEgwMO4KRDKWe9/fnZCodQASKdBo\n",
       "/v///wW8ifb//7/omZdVCznzUgDwFTXUNxaUSygBLNgDCpRLKAFyE7CLt+yhxNQmoG4Al0x5ui0f\n",
       "zyMAAAAASUVORK5CYII=\n",
       "\" style=\"display:inline;vertical-align:middle;\" /></a> <a class=\"ProveItLink\" href=\"../../../__pv_it/_proof__failure_upper_bound/68e5d42f37211bafffb35499a63fa23236d87e210/proof.ipynb\" style=\"text-decoration: none\">&nbsp;&#x22A2;&nbsp;&nbsp;</a><a class=\"ProveItLink\" href=\"../../../__pv_it/theorems/4033b04cf15a92d046bed36ce750819920b12d5e0/expr.ipynb\"><img src=\"data:image/png;base64,iVBORw0KGgoAAAANSUhEUgAAAs0AAABMBAMAAABkEpfmAAAAMFBMVEX///8AAAAAAAAAAAAAAAAA\n",
       "AAAAAAAAAAAAAAAAAAAAAAAAAAAAAAAAAAAAAAAAAAAv3aB7AAAAD3RSTlMAdt0yiUS7q82ZEO9U\n",
       "ImaUtpOTAAAACXBIWXMAAA7EAAAOxAGVKw4bAAAOYklEQVR42s1cD2wkVRn/Zne7f2Z3dheCuXCX\n",
       "0L0KQQ6lKxjjhcQuJwRDDF0NkUSiLZKcRuS6GsKpqG1QAaPY3uVyXo3aBRG4EOkao4Yj0EpIDoJJ\n",
       "V8QLF/901QDyx2vv2t71em3HefP3vTfvm92dndnzS6732053ft/7zffe+96feQD+LVlGLnzPBbpn\n",
       "yg6vq2E79EoVBf7tx8jvUxUedNNu9LgWukOxCgp8W+YIcuHlKg+6aekGfi18h57DgV97EimQ/BwP\n",
       "umo9G+ilLjg0VEeBX/sa8vvEGA+oOsCRSiEU9R70CuWQMmGCY8GGeGIYBT4tuoJcGCjzwLHX6Q9P\n",
       "acWeCF7n+Vlo5hlANm+W4vlgdVbWUeA32xhDLjzoAk7FtXtIUsQLCgC3BK9zvADNPAO48KcmiATc\n",
       "ZH8eB/5sDsnqMis8oPp76ztx/Q80QZLB90zRk+Dt2aM3fgMiEJLOA3kU+LP7sDgv8MAxrXTyzZfQ\n",
       "Osdmgw/oO5t4NgH74QmA45OTk+XAdY7XUBBs1Hg9x9cAHikmaJ0zITTQc7Penq3AfPGlbEjxnFlH\n",
       "gb+OdQ25MFrlgWOfBtir3Ezr3DMcvM65MW/P3tZ0Pv5fM1y2fSJg9lUc+LFpRCD5NA/04uzW7C44\n",
       "CvD0u1U4uPvO3bsbus7REHROLHl7BrArxAx6tIgCP7aAVM7sOg8o+zDABtsPhtFu9Cx7ewbRHWGO\n",
       "VEoo8GMjSLsWX+MB2w9+GWK0zlI+hKKe8/Ys6LEJ12rVUODD5FNYe1LgAV3UOhy+ZKups/Lx5Tz5\n",
       "TfA2UvT0TJlQ6uHpHF9CgQ/LWnXzai42Fko8oGt0ic6fiT3WFuvVrQVir7Ci2g4du2ann4BusbWR\n",
       "llHgp68xcn756+Ocy6NlHtD2M2o8yPyipTrkIsNSS2HCYTs0o6o+Svz4obXWHscqCnxYetGKHa7o\n",
       "My5AW4z762y5Ldbe1nTOCRWZ6bBBkFrTGdQqCnykdQVx0e12G2nAOUYZwtA5udJOjxK0zuNlFPgY\n",
       "cw2Li545zYMgrUWdU6KxascOtarzVB4F7dtUSVz01DIPzoPOWZGkHTvUqs4Lwyho38ZnxUVPrvPg\n",
       "POgcFSXQHTvUqs4DNRS0bzNFcdHTSzw4DzrLonyiY4da1Xl6EQXtm92FckW3u3pRn59UKcuHpzOo\n",
       "Rc8kZJxy42TgOueWUNC2KSpS9PlFHtBdkWoS/uqT96q1EHXuF0y+UA7Nmc9B/suWmXOB6xxZR0Hb\n",
       "ljmFFH2uwANmqODkVv9aD1HncUFloRxKqDbOih5JZzonT6Kg/bZqFSl67xgPmEetOrtGDoao86hg\n",
       "4E071H/GSUOGg9Y5sSwCF75XcMc+o14Zsy2KaFxnZ06D7JTM4DAPmERA3XQK6GMuZ7DF70wJNgHR\n",
       "Dg2oDWh75B/baO3vUmdE4AbhLfUBjGRUqR5BJUxYt9g780CDiaQKD9igUh2lGm3LzJPhz0NQmWiH\n",
       "JNXRLNvqjM69q99u7XmsioCmszRyeu8Xf+LW+QXz0yXue8XPIiQjEzxgv6cWoAs2WPDwTP9wKjzy\n",
       "2CkRIPFMFtTurPI6y1ZQUGv/mYfMX2E6j0/wgM1sZ852Q+femodnxJ5UJ0Ijl86JANGZLATP5Xmd\n",
       "U1Ydzdo+Za8wJY9gg9j+Eg9YG1Jnu6Dzgp3Dfc7tmd4WquuhkWdVESA69xa5uXFd57T90doYKl1q\n",
       "RXYa03mmxAOuUqlHuqrzH9yeGS3LuWr3dR4Bbq1H1/lF++OPjP8e3e4MYrGMcCbPA776rnZB5zmR\n",
       "znl2aDoWFnlGFQGi82l+24uu8wHSnl53cdXaun34KmqyYBPTucEDzp5US+dJ5wbbUSx3XWdNY2XX\n",
       "rEtnEsWfKkY1Wf5Dfvf4D+kxPKaznZiqDcyLpfB1HhLozDk0pxZDIu9RRYDkdWeuv7kMt+zTh8Pw\n",
       "2KKp8/u1IcomSBp8Wc8fGZ2xbsTu5tD+biq8ltEZh6wJdGYdSoXWUUStOTYGaDrH9ae/9mfy84Og\n",
       "WDr/Vrty8gI9H9H/+jjVbmTfNp0nRr4+bTZ3JywRT2BqRvCZOrVzMwL5KSN29/f1PdPXd7nYoX6u\n",
       "i8kFwG40SSestokGN5j70WQr5ZQpnXPGGOo2Vz+Y41fgImbup1pLYSq2JqacgvMTz5xD84Vux/MA\n",
       "6Zl2Ljdefassjzg6a+1Gzgi95115XQfthvQs/D+0G7Ct3m2de8tGGN8Nz8K8o/PtWpRqT0Bz7w3X\n",
       "OKUDnYfC6n/0/eOmzotNde4JuDuWr99rqwoCoOk8bjYXf4c9MO3orGVz2TE4XDcyPDNb+E6neV00\n",
       "vIEY2T+O5xucQwMBj0tTkCp45xsH1dsNnaXrttM6X639u+gEaTkuc921g/w5H5rOZP94qzrLvw6Y\n",
       "PFdWlprkdVb3dxXcXqV0jlgVXHH3GBFH551sL97gAWffD69VfttTZ9ahZNDzSNlqqzrLa7A9T+ls\n",
       "Tx+l3JJRKzGXs8PqPA9Yiw+H2f9Z+8fnau55JNah3cGTx8xwzFjTdAywdH78bP3iEx/ZOjpx+Kw1\n",
       "/3yXeemY/vORPmLm6kvcHrVKrM4jJR6wtt/JYoUNpHDD3eveDSNYryHaOzoXBDkb41DK2fuZaUb0\n",
       "unefYLNbm1mzVuLKAI/1FGvP7F3uP0jY08gffYC5MDrBA1ZGJ6nLCnV+STRU96zjyrAdCvb+cdHi\n",
       "JOPQO05S924TIm/2Y/YP5UtW5K2KwC7R+uCVus6KUdMkQaJpL31BidXZXpmbqjRJ6l4WZkeiWbQn\n",
       "LPCQsKj/BPP1Vmf/uGhxknaISuoyNQGRiD0pzLd1Yv3HcS1fM4LUWjt1g/bbIuubUp3V2XsdlnoH\n",
       "97BwYSUu6j33UCNV+06HfmeVW38zjbQDzv7xKUEM0g45rybL9J/uAQ/2aRCy7zB/KHdcYy79payS\n",
       "uUH7vatVJf4BrM4LYzwQJnXKUfG03V+1R9jPDWQULeKUyfuLkKFuGYNbrUZCIoG6Bej94yOCTphy\n",
       "yEnq/jZKTdsRIiH78UN30NPxDPsW80famluBuJUjuEH7c39WV1ridB6q8YDJRh7U7b4rVVW8IEtG\n",
       "RAt8G1UiLWBsRdn1XUeDhNOfymSQPc3MEo0L2n7KoeSq4Uef9mROsUQidq0HGCy/+r6PgYhdJ2bY\n",
       "3Vs5/W+htPZ9Zeuczp77vlL03FZDPNQAOOQaAQB8C+AZSFLqSVRrSybKk8ztZgRje8qhKcqNTZZI\n",
       "xJ6oQ7oG9LQwxa4TM+zurZwdbKE092H8CTidcxs8aGsKhoTmdn5SSAuWmSqM1nNU1MhUiJCdTey2\n",
       "ItGLCs0dIkQi9vQaJDaA3o1EsevEDLt7K2duzbfO/Uaee+vevefuZgaKKzxoxyStMVH4h3+h9u+r\n",
       "5K3S25h02JFyG/km3Uwpos2JzR0iRCL2RAESSz01MbtOzLDP11DQvo3aNeX3bGK9yYN2jBz4kuUb\n",
       "HPPcmn7YIjvNwdE5J4SGtEL30CHTI1rrbe4QIULYI4tS5RcgYteJGfahMRS0b712OsTmhtJZHrRj\n",
       "ZFTuOufGGCJHT8I+522t7Bj1Hv+AJn+UjkPhC3vNHSJECPtAPpW/CUTsOjHDbu/QcIP2zX5EB9Wv\n",
       "gCiUevzsH0hq/Uuaz8mMDiBSgZ3/dupmPbMUvd/6oLVhCt0qJET9e3OHCBHCfjlEf14UsuvEDPvo\n",
       "LAraN+xVAPuVBdnPu5Bk9WuA9LDyffpsil60K+zOzmAmT/geEkJWxzCt6SzTJY2seXmGGiESs9v9\n",
       "nKw/LJpdJ2bY+6so8KEI1nv313ngygnxo7ZIPG8ThRlkK/SzgE2ILsJvrPAqcv3XdA31TB4VXHlq\n",
       "zCYSs7/JPAuGXSem2eVzKPAz8MZ6lcEGDfhikaUl0VFbZkmJzl+QRSV9Aeh33+UlrY2Mntxi3IDE\n",
       "YJR+7nMV3LMX3bN9+oFYJpGQPVOy5i7c7DoxzZ45gwI/A0Lsu0MVBrzITyPu54/aoktKeqHNGHdH\n",
       "ch5dtAQSHf1L2qBF2iFNwEWifEPcHhoOHeB6Xl2Igk0kZP8QwFZA2F35ht05uIEfw96Wtl/8NsAB\n",
       "frw3X+SO2qJLSvLQlYe5O5Kq/Mrk5H76d9fBUYg3smPyPu0e75B2pdbUN8Mhew2OOxDLJBKxK1dM\n",
       "ThYwdp2YZucEoIEfm0KWrVNLDOCWFsnSEnfUFl1SEhdv8UkQCdd+VWXShdgFJUgXU5UMaQvIebL0\n",
       "Ca3RM7hn8iKkyBlCe/gDsUwiEXtEG56PYew6Mc0+UEGBr8QOyQntQ3N0oBXrICmWM/7fBdxRW3RJ\n",
       "yd4cdxwiO25ykJ59batgfkNaxz1z5vy4A7EwombsrvmN3lkU+LE0NpZ8hgYZfiQU3QHcUVuMzgdE\n",
       "cYg80Uj1DUiK5uuSNdwz52bcgVgYUTN213zdD3DgxyRsuqC3TAHbS/PAL1cux5YUrhVNLiGyRffl\n",
       "9ZLqKd+b9NRPCfcs8hmr3dhw9YNCombsb7J5H0SXUeDPsIQjV6GAViym3RAcTcTEc0JUxb6JO3Gc\n",
       "RBa54wfodKOKe5azT+jlDsRCiZqw68QUuz0idwN/NoiUJrZGgRx38LDgaCKmpN7rg277I1Drg1Yi\n",
       "gUUAcSj1HusTdyAWSuTN7qwPWmOkCgp8jryR2ikvU8AplplxuY8mYkpqv0tHWwadhnn4Jma922zR\n",
       "sKGqLKjA8aZE3uzOerfVONVR4LOBxqqD/XJwa28JMyVtc/9GjCRWhIV++zGNbgQQOJRqTuTJrhPT\n",
       "7E/jwKddik19lHjgaSkI2PDH25pDwUSfG/i1OaQ+ZDZ40FWT8fn8Ljg03UCBX0Pf9D/oAt00r/Pw\n",
       "w3foHhz4tquw6tngQTftNo9eIXSHeo6gwL9di5QoeoQH3bTLPK6F7lCkjIIOHh6WsHzWBbrYPHuW\n",
       "K2yHfomB/wGKI9qSeIPCrQAAAABJRU5ErkJggg==\n",
       "\" style=\"display:inline;vertical-align:middle;\" /></a></span><br>"
      ],
      "text/plain": [
       "<IPython.core.display.HTML object>"
      ]
     },
     "metadata": {},
     "output_type": "display_data"
    }
   ],
   "source": [
    "_failure_upper_bound_lemma_inst = (\n",
    "        _failure_upper_bound_lemma.instantiate(preserve_expr=Neg(Add(e, one))))"
   ]
  },
  {
   "cell_type": "markdown",
   "metadata": {},
   "source": [
    "### (2) Establish some convenient labels for important expressions"
   ]
  },
  {
   "cell_type": "code",
   "execution_count": 6,
   "metadata": {},
   "outputs": [
    {
     "data": {
      "text/html": [
       "<strong id=\"first_sum\">first_sum:</strong> <a class=\"ProveItLink\" href=\"../../../__pv_it/theorems/a8f4738a60d4d9249e6bda7859629ccd80d6040b0/expr.ipynb\"><img src=\"data:image/png;base64,iVBORw0KGgoAAAANSUhEUgAAAOIAAABCBAMAAAC4IhcKAAAAMFBMVEX///8AAAAAAAAAAAAAAAAA\n",
       "AAAAAAAAAAAAAAAAAAAAAAAAAAAAAAAAAAAAAAAAAAAv3aB7AAAAD3RSTlMAMrsiVGZEEKuZ3c2J\n",
       "du8fJ4RaAAAACXBIWXMAAA7EAAAOxAGVKw4bAAAEeUlEQVRYw+1YX2gURxj/Nnt7e3uXu0TfFDWX\n",
       "C9JHDxUhGMyBgiYKhrakQrENfdGHguuboNajKAqKHv7lTIIpBdOkDwml0NI+5AqCRSreUw1BQ5oH\n",
       "fZLcoSZiqtuZ3Z3dmdm50710lz70g/3YHXbmN/Ob+X7zzQBwtpP7LkPApgxQH+qnAFrQiMfISwE9\n",
       "62cAoqWAEa+TlzR2vej5KWDEEYATB/toxDvBAsqToH4DeRqxJ1jEaBpi+S5mjF8EhbU6gywbyUPq\n",
       "2m7QMpn5zEYLcXWwY5TS0JJlV05P4CunKQclGvFxwIgdoA4f1G3Erqn7uMQPR6O+Eb9k4hHrTtqP\n",
       "fgwu+UbUspTmMAXvZUn/iHCX++6HoBFV7lsPHHFl9j/ifwNxynDtTSiI+41Wa8Vum154GwpizBhx\n",
       "Mp6JXCjzOPHKlZ+0f8Tm576rtBl9zvsV37VjF5fP+KbFcHuphLO+N70OO6K+MgohI0aNF2EP8sFb\n",
       "PWTEhDEZMqK68HfYtBKlC88042nYg5youWu0GCs3UbvdI2GPcTYbtgZUAwuDP84JY70tF9iaBE00\n",
       "YeqzwNhrGZBF/CWCU3JFFyJm3lGt/113Mh4ruOeYZgGrmnsei4iqR0QU1D/VbnYcrBWsnM/c0PhY\n",
       "VP24aOqJ9ieEcaWUiZM/qBsakTlR9Y2CsiaSG52ir00G5wn+KHGdsMWrN05oqLdE/MmoG/f46d+B\n",
       "GxtsB9hLp3VwmFA4bTu5fdWN2qGx9ZJwC9FKiKAKVziEGkvDg4Gu73+j8jp3yk7plksZRsUTGsu/\n",
       "mja+YBivxSGFUPktexG1n4XUHPxIZ4V5t9U+4rx2ixL5l0JBQt2NczegEkrEU0sQew50Rq6+YHPt\n",
       "RhJubDN4rjm6kyjIYiMQq0aZtbbJoTU5R1wDdh49n/OZuMVyvJLMH3VL9+x3BhVdIq4Bw4r0NR8c\n",
       "VtNtZa3s3lsokzEHQqoS14D9jB5e6hPWGvkOpGsu393ZSFX6wQ6pReIasDHUWfNkov4yjg1DxAvM\n",
       "UUxdBpMINKgLdskicbVMJrG/WReM0bMErDEeoHsF8BKkCvxlt1clzsS/xFY/8ftZSwMx9b0OIr6k\n",
       "txGb8roAMVJiFEytopmU3kybv5qsSM6hbS+/tdyEmav2R1wnGw2+pLfIgpa+ErdWMZ/rAB7ShVVI\n",
       "5JKjyQI88qzVIV4/ulvjwCCaE9RrZ10I8RCnAJhmeaxYZPa++7AHKbwyqQ7roOB5UJzJuM1W/wQh\n",
       "oh2ps1gsDggQj6D6Q/x+g3ofRyLFiF/z4xKkWrV8BImbhmnXiOqpFbiML6xd1bsHPUrNMaZEu/2T\n",
       "WnkNpHLbH/K6GuFlWRqFzo/s19k7PKJWErQ8VAMxrn8ICWrv4JqQ8Eg7PBFBX9Ljv0TquKEGojRc\n",
       "NhEPMNETP8SyKhdkPnWgxwinRVccdTLcTvR8C8SZXCe5NGjVGr0eYt08R2C76DzHYu1P9o8F7+kH\n",
       "I5qX9GBFutf21QQ8eZfJ5d7T0ivIV5vRbJm5zQ0/iP9ukv4Pwr5+uVliQdsAAAAASUVORK5CYII=\n",
       "\" style=\"display:inline;vertical-align:middle;\" /></a><br>"
      ],
      "text/plain": [
       "<IPython.core.display.HTML object>"
      ]
     },
     "metadata": {},
     "output_type": "display_data"
    }
   ],
   "source": [
    "first_sum = _failure_upper_bound_lemma_inst.rhs.operands[1].operands[0]"
   ]
  },
  {
   "cell_type": "code",
   "execution_count": 7,
   "metadata": {},
   "outputs": [
    {
     "data": {
      "text/html": [
       "<strong id=\"second_sum\">second_sum:</strong> <a class=\"ProveItLink\" href=\"../../../__pv_it/theorems/3c079adf2bef5d242889f191cdede33db9f29f0b0/expr.ipynb\"><img src=\"data:image/png;base64,iVBORw0KGgoAAAANSUhEUgAAALwAAABCBAMAAAAf/6HxAAAAMFBMVEX///8AAAAAAAAAAAAAAAAA\n",
       "AAAAAAAAAAAAAAAAAAAAAAAAAAAAAAAAAAAAAAAAAAAv3aB7AAAAD3RSTlMAEImrmd1EIjJmu+92\n",
       "VM08Mj7RAAAACXBIWXMAAA7EAAAOxAGVKw4bAAAD+UlEQVRYw+1YXUgUURQ+68w6O+5uu5hQILhb\n",
       "IRQYrfSUYpquD0qZkpUQxPoeuIgQ1INLGAhFuxHVQ2LbU7pP9lIRhZtmLwpZ2UMEJlQP0Y8r5E+F\n",
       "TvfOzty53p2VweY+1YFZD3dnvzlz7jnf+a4Amkl1mnPODxxMTmf/ut5wgZ84ojlO2+GLd1WCE7jB\n",
       "10EjlAH0hMPhCAf4JeiNzcjcor+K4Htuals7udf+jS0HnuZq4wrPp5WMjpWiPIPv7/NzTOmoomwC\n",
       "fWvLAtcd8/yH/9fhtyiUpW2H9yorWWfbmWplxP7k1C4S9/qq/fBOJUT8ZvvhXcpP4ouW2a1g2eqd\n",
       "LxQDNGHxN0L12gGLtxYprTxL2DH6g2uLdCnTPOELlHtcw59f4wpfqgR5whNi4GRHf3NVI06WK33K\n",
       "3xsldhb5DocHfBsrZjMR7NxPbaZr1eZwRRApHitN2wzvi0hUqX+0/ajpp+CLkhx4zEhOo7ENNHXe\n",
       "MAsrsvExEKddtYsEUzaqUqbgvXUmADMbi3ncQmoqpDtmVfmOurfMrODmdHUUzXu6H8BeD5zVO9ao\n",
       "yhJ6bA2bzU19FgeoxZ4vd3W3TTu8SkP9h9iqlF7TxCkhSVXOEul5jNYyBDBLLQYLK3V3HDMA0jVu\n",
       "Rcnos+S7ap9OIRaiekFEI0DOMPD1am73RbpP7zYWKw03gCJ3rFNAIk1yCboz0HdzOUd4EKLgHoFv\n",
       "1OI4JVgxwGcrhRtHgTiZbnahwNwLICwDHWHAKDcxaVXqTaCrl2E6D0qe0ArCSiGtdYuMZ3nw+qQV\n",
       "+IPous1qs2yynBlPaLvRHzW/iF+In9RlZfKl0FXF1mWWPeJpMb2DLA5CLcFz4VKLW2H3D+h6zB41\n",
       "slr6GLiaCIS0DO9jVzTWkpZwSiMW4NtRLKoKLjuOrUPNSh3ZP7WHsTwSkihcQRMyDgwf0OEdtSZ9\n",
       "P0ii94yYRn+NDgF8CYiDW3sZlYaNgpjNZbzLEwS+KOQ3gfcGCZ+oZRlD2Y9PZXtLfd94lOpC2tS3\n",
       "fpP1q3BgjHgT8A0XAJ7SgymGemzC/ww8wZzKOaE7xQMJBh5Vr6+TaSucLak9HKbPAwVpbwjR3yCU\n",
       "oIfKOJ23SJ4z0JxClnB0QIiBRzHIzMupwTkRd6zjiooxgIfQAG/xrmOUBtIR+n1CqJuN3m1WXvfz\n",
       "lFkGnkhf/SzniHpu3U0vQUylHqWGCbxoJprr88C3yUmYy2FMZ6eWHF80Z2tdZkfoS3ng+6ZAhcc1\n",
       "K5NzrM+jd/s0BBl4qDE7EE5v8D859HESx0zqUnyu7/HhAb8G3z1fYWHWmpwRpulZa2rr9I7XLPmv\n",
       "8qrKMT+tFPLqlM3qnD3owuNbJE31BxmlaNWbHQ/sAAAAAElFTkSuQmCC\n",
       "\" style=\"display:inline;vertical-align:middle;\" /></a><br>"
      ],
      "text/plain": [
       "<IPython.core.display.HTML object>"
      ]
     },
     "metadata": {},
     "output_type": "display_data"
    }
   ],
   "source": [
    "second_sum = _failure_upper_bound_lemma_inst.rhs.operands[1].operands[1]"
   ]
  },
  {
   "cell_type": "code",
   "execution_count": 8,
   "metadata": {},
   "outputs": [
    {
     "data": {
      "text/html": [
       "<strong id=\"the_summand\">the_summand:</strong> <a class=\"ProveItLink\" href=\"../../../__pv_it/theorems/c542d2f08dbaf3f44ac7f82f4e0020814a307c960/expr.ipynb\"><img src=\"data:image/png;base64,iVBORw0KGgoAAAANSUhEUgAAAIcAAAA3BAMAAADUA0RMAAAAMFBMVEX///8AAAAAAAAAAAAAAAAA\n",
       "AAAAAAAAAAAAAAAAAAAAAAAAAAAAAAAAAAAAAAAAAAAv3aB7AAAAD3RSTlMAMt0Qq5nNdoki72ZE\n",
       "VLtVShrrAAAACXBIWXMAAA7EAAAOxAGVKw4bAAACnklEQVRIx+1WPYgTQRR+m83f3F6SVTiLa6Ie\n",
       "Fla3hdpm8WxUNKIX3Uqu8w8lnJE7rJZrFGyCcIUWRitBTjxBFGwM2NmY5iBgYcRKbE6EyMFhfG+T\n",
       "3ZmdzMZir1HyYDcz306+eX/z3gD8TbQZiC2Hzv+MTwKZMcmY5J8iyW7F50ie6J6EsYxlJ6QXXzb/\n",
       "H2/od49ZsUlSkNobm6TQZD9ikxjWDpBg0eqbYzRVWzRH/fOM5w5Pdvcdu6FatjFy+0f4sA6N2Nd+\n",
       "lBZUofPBK2pXVPH1hkar8IB+8uuKVT6oizm9evWbP6SbTwINYV92naP5Q3xWZBcjyCo3TMiJarqT\n",
       "c/6wRs3EBpgYHB2H1JMPkUN2Z7fZymWTg3N8WEItdKEjbZOnZb8geBzgGaRbAljjwzSZe41f7Igv\n",
       "UZVuewi+sKBcL4gno8QZUxSai7xNUrI0TKl3IngUoGx+CHmb6595jK/bvMWRJe/kvtc3bxZqOqfP\n",
       "nfodjCeJ72OgZp4UOy1H2Esk7RdcyHJ7XkM5mGgUzmKwQRoDBU8lEg+EhA1TLwOMbcFnc09nMKFw\n",
       "NIKjkcBzoHmd/8h+kn0+KDhO75KJHdw66Q4QIik1xU09Nw1pYtjB/ACVjnUowsTAAq8ANELm5G1L\n",
       "QdIGVhcDbKJXikv9jPN0LwafUUvcxJWig6DmQkbkLphwHRatW5Bxh6JDphTeS8lG4P1K5Wyo+lRz\n",
       "NnxHbQ7fRFPJAW9DETccyScEzvZ63RB4ZxngCczDJ8pYsneef1tTFYy1iGq0Cc/ZJWvo7ICjWuxE\n",
       "kMwYHVhQnOJp1eLpCJKpJfBIXoVTAJIt1aWxFVlfGSXiQcrIuqKcKmvssORaYo31pa1a2o7svsuW\n",
       "WO1HtpjovnMPHyrOqSDV/gApD9nmyTUxIwAAAABJRU5ErkJggg==\n",
       "\" style=\"display:inline;vertical-align:middle;\" /></a><br>"
      ],
      "text/plain": [
       "<IPython.core.display.HTML object>"
      ]
     },
     "metadata": {},
     "output_type": "display_data"
    }
   ],
   "source": [
    "the_summand = first_sum.summand"
   ]
  },
  {
   "cell_type": "code",
   "execution_count": 9,
   "metadata": {},
   "outputs": [
    {
     "data": {
      "text/html": [
       "<strong id=\"first_sum_conditions\">first_sum_conditions:</strong> <a class=\"ProveItLink\" href=\"../../../__pv_it/theorems/bb8428576c5e9aef5059458d15ab082fff89783c0/expr.ipynb\"><img src=\"data:image/png;base64,iVBORw0KGgoAAAANSUhEUgAAAQYAAAAYBAMAAADqsE5QAAAAMFBMVEX///8AAAAAAAAAAAAAAAAA\n",
       "AAAAAAAAAAAAAAAAAAAAAAAAAAAAAAAAAAAAAAAAAAAv3aB7AAAAD3RSTlMAid0yZpnNdiKru+8Q\n",
       "RFSc85eqAAAACXBIWXMAAA7EAAAOxAGVKw4bAAACkUlEQVRIx2NgIAzYGqAMHjeGgQLnYQzzogFz\n",
       "wzM46xHd7Dx7AYXbqCZMkRs48In3NWCVY889gCqQR1k41OEQ5y0AEsyzQJYJfUaTe4/khNawxQwM\n",
       "f/C4gVmHkBP4BLCJGgEtKQExuCYACZYPaNJCSMG1gEH+Au8GBuZVQLACixtOhv0h5IZjWMR4puYD\n",
       "3cAG8iyjApBgTcDtBs4GBu4N7BMOY4QDrwMs4gi6IQSZcwXGqAfazxIAcwNTAUS0SkkpAd0N3H8Y\n",
       "OH+wFshguIGvgGg3bEDmPEd2A8MemBv6DcCC12qwhYMCA+dn5hADWA7JFyfZDXwJuN2QAnODPyTm\n",
       "c7DFBSiYPmA1mWg3sIKS5MHyGGxukIS5YRZqeczAEIZihn0BZW5gA6YcXmUGQ2xuABX97KC42g5R\n",
       "isgLW1DM0GSgzA1MD4DR7cBQi80Nr0HW/QNm8B9gMWslIFgAEpsGLCV5kkBcJWA6YF2AJXiVlLQ3\n",
       "KSlNwO0GhH4GbqBx68sLQUVvkJLSbiUlTYQb7MHZOw8SFgwMp+D6Tdcgm+bJQGE4gNzwE0eavA1i\n",
       "iV0AllPgYpEJoWslaiHXQXlcfMfhBlBW5wMawO8ALkvZC7DmC2BSqqHMDVxAlYpADdjc4AXKF8B4\n",
       "4L9TgFYxIZfVqqGhCnjdwAhJTjzfYAQ6YJwASv88EWhukAflw0Bo3mQJhJb8aw9guoHp////Cfjc\n",
       "wDn72xQwQxVOoFdqQDvYRdzR4mLm/kxgntWFlQ8wcHERZlmNu/QrILrqVsZaToJDWQHdDTjKSRx1\n",
       "vwPRbnDFWmeB87gDTjdUU7dVxtWAS6aLAVu1DQb9D6jqBp4FuGRWgIjTWEOUI5K6jmjHIc4OCqDG\n",
       "eQwMAH9kqIEV576YAAAAAElFTkSuQmCC\n",
       "\" style=\"display:inline;vertical-align:middle;\" /></a><br>"
      ],
      "text/plain": [
       "<IPython.core.display.HTML object>"
      ]
     },
     "metadata": {},
     "output_type": "display_data"
    }
   ],
   "source": [
    "first_sum_conditions = first_sum.conditions[0]"
   ]
  },
  {
   "cell_type": "code",
   "execution_count": 10,
   "metadata": {},
   "outputs": [
    {
     "data": {
      "text/html": [
       "<strong id=\"second_sum_conditions\">second_sum_conditions:</strong> <a class=\"ProveItLink\" href=\"../../../__pv_it/theorems/f01e5817c994f42806cb80f31cb3ebf09f18f49a0/expr.ipynb\"><img src=\"data:image/png;base64,iVBORw0KGgoAAAANSUhEUgAAAKgAAAAYBAMAAACcr6vyAAAAMFBMVEX///8AAAAAAAAAAAAAAAAA\n",
       "AAAAAAAAAAAAAAAAAAAAAAAAAAAAAAAAAAAAAAAAAAAv3aB7AAAAD3RSTlMAid0yZpnNdiKru+8Q\n",
       "RFSc85eqAAAACXBIWXMAAA7EAAAOxAGVKw4bAAAB2UlEQVQ4y2NgoBiwNUAZPG4MVAPnYQzzIuoZ\n",
       "+gzOeoRH1dkLpJjZqCaMbGhfA1ZV7LkHSHJpHopLmWeBdAt9RlP0HquZzDpYBFvDFjMw/EH1PtcE\n",
       "IMHyAU2lEDYzT4b9wRTkWMAgf4F3AwPzKiBYATWUUQFIsCbgNfQKLFCwGMrZwMC9gX3CYRSXgg1l\n",
       "KoBoWqSkhs3Q53gM5f7DwPmDtUAG09B+AxCTN/0AdpfiM5RTgYHzM3OIASwd5IvDDPUHC7QdQPE+\n",
       "j3jpAcKGgvyJHiMQQ2eBmRkI0TAgvmTALECUofYFGClyA5DYDmYiYotjCxB/YWC/QJShmphJ4h8w\n",
       "/f0Ap8JNSkpKWmCxaUDTuL6Xy4I4QUpKu5WUNHEbyroAS+rLg7iWgQchabqGgYF/AlERxcDgiUVM\n",
       "7AIwA4BjRAEhuBJoaAFxhvIJMHRgiAEV8juAY6QcJfEzAcUeEGGoIQNDDUbsA73OfwfsKrYHyIay\n",
       "JDAcbUA1lPEHtPQERinPN2icqIaGKmBLUiyBkFJ71h3kdFroUoDqfc7Z36ZAEmYAkFCFJtL///8n\n",
       "YE2nUMArhT+bEg0YFbCJYi9QKDS0mrLaBaPUA4P+BxQZetoBmyhHJCWmNs5jYAAAach5zb5jDXMA\n",
       "AAAASUVORK5CYII=\n",
       "\" style=\"display:inline;vertical-align:middle;\" /></a><br>"
      ],
      "text/plain": [
       "<IPython.core.display.HTML object>"
      ]
     },
     "metadata": {},
     "output_type": "display_data"
    }
   ],
   "source": [
    "second_sum_conditions = second_sum.conditions[0]"
   ]
  },
  {
   "cell_type": "code",
   "execution_count": 11,
   "metadata": {},
   "outputs": [
    {
     "data": {
      "text/html": [
       "<strong id=\"e_conditions\">e_conditions:</strong> <a class=\"ProveItLink\" href=\"../../../__pv_it/theorems/e5f8fae80d0c15a1e3af708f726b9705a021c1de0/expr.ipynb\"><img src=\"data:image/png;base64,iVBORw0KGgoAAAANSUhEUgAAAKwAAAAYBAMAAACVRAuIAAAAMFBMVEX///8AAAAAAAAAAAAAAAAA\n",
       "AAAAAAAAAAAAAAAAAAAAAAAAAAAAAAAAAAAAAAAAAAAv3aB7AAAAD3RSTlMAEIl2mUTdMiJmu6tU\n",
       "ze/kkN0jAAAACXBIWXMAAA7EAAAOxAGVKw4bAAAB3ElEQVRIx2NgIBnwNkAZjHMZqAjkYYxiM2oa\n",
       "exbOOkaaRsZQPJJNuer4je1pwKHTNhCfpXcIuJZ9lwBWcZ6PIMlELDItvssZGD7iNpbD5VYBAwPX\n",
       "BqzGMiUwMEj7fsSU4FjAoB/A+oCBfRUQrMBibBcD01eIfhzGMjBjMZa7gYHvAfMGcZyu3cHA8A7d\n",
       "WOZlabn4jeX7yMD9g8VAEaex7wUY9jegGst6WYCgaxMYuL+zexbA0sR9ZTQF2xgY9hdA9DMqm4DN\n",
       "6xUgGAhAwPaBQOLMh+oPK2BXAPFvwGVYLuA2tt4Av6nsn4FaHwBj9ycDcwBI4AJcqm8CbmOzCTiW\n",
       "DZi4OP4AE9lnY1WwNc/S0tKyQKzuqww4jWVZgCVPXksDAUiIe4EI6TsM/NC0ywjXwO4lgNPY2QQc\n",
       "ywk2TTeAgR8WWIhUAc4lWI3lUWDowGvsIQaOBnAuZQPG1wGQiDHh7MBQxMBgiDfCFBiYBRiYgFHG\n",
       "eYFBBFzk8B5AMZbpB7R0BUYl419o5k1xcUnAZ2ybi4sbVL/RTEgwMO4KRDKWe9/fnZCodQASKdBo\n",
       "/v///wW8ifb//7/omZdVCznzUgDwFTXUNxaUSygBLNgDCpRLKAFyE7CLt+yhxNQmoG4Al0x5ui0f\n",
       "zyMAAAAASUVORK5CYII=\n",
       "\" style=\"display:inline;vertical-align:middle;\" /></a><br>"
      ],
      "text/plain": [
       "<IPython.core.display.HTML object>"
      ]
     },
     "metadata": {},
     "output_type": "display_data"
    }
   ],
   "source": [
    "e_conditions = _failure_upper_bound.conditions[0]"
   ]
  },
  {
   "cell_type": "markdown",
   "metadata": {},
   "source": [
    "### (3) Some Initial Bounding of the Summand Denominator and variables $\\ell$ and $e$"
   ]
  },
  {
   "cell_type": "code",
   "execution_count": 12,
   "metadata": {},
   "outputs": [
    {
     "data": {
      "text/html": [
       "<span style=\"font-size:20px;\"> <a class=\"ProveItLink\" href=\"../_scaled_delta_b_floor_in_interval/thm_proof.ipynb\" style=\"text-decoration: none\">&nbsp;&#x22A2;&nbsp;&nbsp;</a><a class=\"ProveItLink\" href=\"../../../__pv_it/theorems/84c1eab7000fe746ead771260ec6f97321c6624d0/expr.ipynb\"><img src=\"data:image/png;base64,iVBORw0KGgoAAAANSUhEUgAAAIoAAAAaBAMAAACaz9kUAAAAMFBMVEX///8AAAAAAAAAAAAAAAAA\n",
       "AAAAAAAAAAAAAAAAAAAAAAAAAAAAAAAAAAAAAAAAAAAv3aB7AAAAD3RSTlMAZkRUmRDNuyLviTJ2\n",
       "3asqG0tJAAAACXBIWXMAAA7EAAAOxAGVKw4bAAACh0lEQVQ4y6WVPWgUQRTH/5u9vY/dvdxhYRAt\n",
       "Ugmx0ICVgvGKQ0VO2UIUIZoLQSIW8bQxTXALMZXkGhGxyDZ2p15hYyF3FkEUjcGP8siBoqJoEkNS\n",
       "eIH4dmZ3Z/ZuDw4c2J19M29/+583894CQbuM/2k7eKetRk3GeoSoOa8vRs0mS71Rznruj65Uo6b3\n",
       "tA+YjTa/pHu75hnxYWni2D3be0xbbRR9sG2gr04vlOnKT1aRkdx17Pcts9lJ0SsnfOs5+b2g8DnA\n",
       "LPQ/GJI8+wVR2+ikTOACl6p9uUqecQsZEvgduI9FTaxXFjDeQVGWoPtBf0cUJYcadfMWVuyCLglY\n",
       "F28d9/qXjUaRUxJNqBsSBXfxlu6/gJXq093SB28K4ive7V0ItGRyMNZlyji+cms5pHrkqDgmBxgw\n",
       "eUmsaIwoazLlMW4ww9iSIUqxX8S0xsIVtwVlzhH+jLITU/xUhPZzzlZbxqRvsPMRR5jyV6YcwsdQ\n",
       "CDHmRvAbjBZ++COM8qxBreStyEFfSEuNa1ECKWk3q9ZgrOKBr4Wt6JykhaKrhqI7xCmHkbTFgrQW\n",
       "RcbYWuT7VGMzaYmSKEEJ7fQRUk+xdWDK6dKipDI/mTm8DvbIrEunroxYEZagDLDjcCefPyVHt4IR\n",
       "JLJKUSuQzy4+NiFlwAecr2qbzHriKj3JPrW8vb0ZOuRvHKSqsaaaJeM0H7t43QooZyo/gYZr/56f\n",
       "Ip/3SA1Gl50MUsO3F6Q82jfjZ4BX1YIYJJdYTke1tDXADklUTnvVI6iqWRjlaIpRqDOK0uxCGQ1G\n",
       "Zun63L2Y3nI12V0owaZhWtTdqHYwqu7q7XXXdL+jOt0gow97/wf4/6POptMmxqxeEP8A5yig4bLS\n",
       "F2kAAAAASUVORK5CYII=\n",
       "\" style=\"display:inline;vertical-align:middle;\" /></a></span>"
      ],
      "text/plain": [
       "|- (2^{t} * delta_{b_{f}}) in [0,1)"
      ]
     },
     "metadata": {},
     "output_type": "display_data"
    }
   ],
   "source": [
    "_scaled_delta_b_floor_in_interval"
   ]
  },
  {
   "cell_type": "code",
   "execution_count": 13,
   "metadata": {},
   "outputs": [
    {
     "data": {
      "text/html": [
       "<span style=\"font-size:20px;\"> <a class=\"ProveItLink\" href=\"../../../__pv_it/_proof__failure_upper_bound/7f543d1c91666131131785fa776c43582ecee68c0/proof.ipynb\" style=\"text-decoration: none\">&nbsp;&#x22A2;&nbsp;&nbsp;</a><a class=\"ProveItLink\" href=\"../../../__pv_it/_proof__failure_upper_bound/095b6b0473620ad3472027b86aeaee8b29e1dad50/expr.ipynb\"><img src=\"data:image/png;base64,iVBORw0KGgoAAAANSUhEUgAAAD8AAAAWBAMAAACF0lkSAAAAMFBMVEX///8AAAAAAAAAAAAAAAAA\n",
       "AAAAAAAAAAAAAAAAAAAAAAAAAAAAAAAAAAAAAAAAAAAv3aB7AAAAD3RSTlMAIpnN77uJRKsQdlRm\n",
       "Mt3eazepAAAACXBIWXMAAA7EAAAOxAGVKw4bAAABJUlEQVQoz2NgYBAyCWTABIdd4+1cD4CZCeyd\n",
       "WBQwBEgwVBydAGJhlQYqEGNg5W0AsVbgVMAkYABizd+AIrH03TsDuIIAEIv1J7J88UqECRwzQVZw\n",
       "d39Fkme0RLLi6mYBkH8Y+icgFDALwBWI2P0Dmcb4kWH/hcsBcAVIjjwzGURzBDDcv8CRABO+8g4I\n",
       "AiAKWOeAAor/AMN9BpYLMAVTkUzgVYgEefIC0BX3V8FCiw85HHRFQSZcYLBmWDdhEQMX2BquBUgK\n",
       "pnIB7WBbwN3AEAM0ZRIkAKzhCoQYeA6EAxlZyxgYfBk0GPZAxGeET4DFZiBDqD00lD8weDNaQUOj\n",
       "LA4S1CjgJU8AgwEDHnBpFQN+BaAQVSCggHsDfnnOZRMImJCDQxwAr2RMl+dnoXAAAAAASUVORK5C\n",
       "YII=\n",
       "\" style=\"display:inline;vertical-align:middle;\" /></a></span>"
      ],
      "text/plain": [
       "|- delta_{b_{f}} in Real"
      ]
     },
     "metadata": {},
     "output_type": "display_data"
    }
   ],
   "source": [
    "_delta_b_is_real.instantiate({b:_b_floor})"
   ]
  },
  {
   "cell_type": "code",
   "execution_count": 14,
   "metadata": {},
   "outputs": [
    {
     "data": {
      "text/html": [
       "<strong id=\"scaled_delta_lower_bound\">scaled_delta_lower_bound:</strong> <span style=\"font-size:20px;\"> <a class=\"ProveItLink\" href=\"../../../__pv_it/_proof__failure_upper_bound/19997034cd1380359f418ec5a889d57f76b689cf0/proof.ipynb\" style=\"text-decoration: none\">&nbsp;&#x22A2;&nbsp;&nbsp;</a><a class=\"ProveItLink\" href=\"../../../__pv_it/_proof__failure_upper_bound/af8a7e90f4abc302ce926bf99e2f34ce3796c4870/expr.ipynb\"><img src=\"data:image/png;base64,iVBORw0KGgoAAAANSUhEUgAAAG0AAAAaBAMAAABP8c8cAAAAMFBMVEX///8AAAAAAAAAAAAAAAAA\n",
       "AAAAAAAAAAAAAAAAAAAAAAAAAAAAAAAAAAAAAAAAAAAv3aB7AAAAD3RSTlMAiXaZIs1UEN1mu6sy\n",
       "RO+L2jdBAAAACXBIWXMAAA7EAAAOxAGVKw4bAAACEUlEQVQ4y5VUv0sbcRT/XDwvOZOYI4u6qR0U\n",
       "hKKmoNTloIs4mChF0KFExMHJA5dOjZN2MwiCQykZurjdoNVByIG4mvwFrZOT9Re2QUH03fd7ufsm\n",
       "vW/AN9x7eS+f9/v7gJb0Ea8jvcpY9CbM2CbHLXGm5cKMakkGi/L/q90zTph5W4brKHLenheUHz79\n",
       "8KSYRR8l/e4/3DTFyiw4SFmC0kgeelLEps8cPpu+bZmLI8AUlCf8Ep0dBmXUqHPrUPw6d8c4fwL2\n",
       "gSsMRYX6hgJxnkqxodW8n4NdnCdIcW2hbI4qQqKFoNj3QGoYiX88endvPf914AgoOyffxGbVfPEt\n",
       "eSHcA4ONF+vqOB/DVkOvtJ+PvvzbQtZA4s6FHQRpdLCCmTqgHZT9pCsOw926soBrt9mU7IYluceq\n",
       "c+p1MFtFwUCSOVaDPGPDXvFeQ9y04yWKEjc8TdXti9bcFxZPtxvcpIqooNMbS9Zxa9Gb58Bwi1BN\n",
       "Ic+CQxVW+vnwKyb0c7TlmuZOOSFhICJuWcqhzRq03iBisH5iA1+CpVhmYuQcmMxkxsW+KL2ajT2K\n",
       "uTYAfCfFWvq4ea2TlPjW8/PfBmW6D7jEBFZInpC8oz8S/Q0u1FmL7WcojUj0m3oJOf4e/LfxlREv\n",
       "9UyCO+mHi9NtiT2el14elYYZM1vflzDS8i3uCw1d5rHPanHP6vczhHroflJHXwDdZXqU7jFFvQAA\n",
       "AABJRU5ErkJggg==\n",
       "\" style=\"display:inline;vertical-align:middle;\" /></a></span><br>"
      ],
      "text/plain": [
       "<IPython.core.display.HTML object>"
      ]
     },
     "metadata": {},
     "output_type": "display_data"
    }
   ],
   "source": [
    "# Automatic incidental derivation, but want to label the result for later use\n",
    "scaled_delta_lower_bound = _scaled_delta_b_floor_in_interval.derive_element_lower_bound()"
   ]
  },
  {
   "cell_type": "code",
   "execution_count": 15,
   "metadata": {},
   "outputs": [
    {
     "data": {
      "text/html": [
       "<strong id=\"scaled_delta_upper_bound\">scaled_delta_upper_bound:</strong> <span style=\"font-size:20px;\"> <a class=\"ProveItLink\" href=\"../../../__pv_it/_proof__failure_upper_bound/803edd45a2856b66f298f0c8165b320fa03ce4dd0/proof.ipynb\" style=\"text-decoration: none\">&nbsp;&#x22A2;&nbsp;&nbsp;</a><a class=\"ProveItLink\" href=\"../../../__pv_it/_proof__failure_upper_bound/836886304e3cc5055b636c1e745bc55ef4bf40060/expr.ipynb\"><img src=\"data:image/png;base64,iVBORw0KGgoAAAANSUhEUgAAAGsAAAAaBAMAAABC779bAAAAMFBMVEX///8AAAAAAAAAAAAAAAAA\n",
       "AAAAAAAAAAAAAAAAAAAAAAAAAAAAAAAAAAAAAAAAAAAv3aB7AAAAD3RSTlMAZkRUmRDNuyLviTJ2\n",
       "3asqG0tJAAAACXBIWXMAAA7EAAAOxAGVKw4bAAAB3klEQVQ4y2NggAG2BgaSgBCEiscq6YBLFzNU\n",
       "xgyrbDsubWEQquvaamyyjAdwaCuE0slIYhxu02E+vYpdF8cEBoYWt2oGhq9IglwMegFQ5jlMLXuB\n",
       "ciwLGDgKGNYrME1AkuALgDPjA9A0sT7JBwrxKzDwNTBwTuB5EI2Q4nmAiBcBDNvOA7XtD2Dg/MrA\n",
       "94PlwFIkEz/DmSwFSIGeAdd2FuikCwx8v7kdNyAZWA93Gg/C8YxXAuDanoFZvB9QnGFnD7eDCR5U\n",
       "PLcCEI4sB7P2o0QPYwIfXDH3bygj6g6y3/LArHsolvU3MP/mTodG0CcI3XIRJUiuoPib9RuIfA6y\n",
       "4xVUBKKNLxk1JMG2ycGFwKZ8ZOD+wDAbattvnNqYFzB0IEfob6DvuP+cA4cA9w+sjnwOpHcxMBxF\n",
       "9ttvBjYDnqs8DgynkEISNUhOAt1xxcXlArK2NQx2DOwCjAmsPgEMjPB4i7kDjYD1wGSuH8DA+///\n",
       "/wRkbVxnFjBwbmB5wAxMWCyIdMYIibh38/MEGDgVsOcMfgZOg7ajqGmSMQOR5hZg18YbIM7Ahi0H\n",
       "QFPBBOzauH0OgLXJ4cjdj3EXTi1AfAN/WYINGOMpS5gX4NIVsxRPyQUrJzEBFzAQXbFLAQAkrXln\n",
       "JfhjiwAAAABJRU5ErkJggg==\n",
       "\" style=\"display:inline;vertical-align:middle;\" /></a></span><br>"
      ],
      "text/plain": [
       "<IPython.core.display.HTML object>"
      ]
     },
     "metadata": {},
     "output_type": "display_data"
    }
   ],
   "source": [
    "# Automatic incidental derivation, but want to label the result for later use\n",
    "scaled_delta_upper_bound = _scaled_delta_b_floor_in_interval.derive_element_upper_bound()"
   ]
  },
  {
   "cell_type": "code",
   "execution_count": 16,
   "metadata": {},
   "outputs": [
    {
     "data": {
      "text/html": [
       "<strong id=\"neg_scaled_delta_lower_bound\">neg_scaled_delta_lower_bound:</strong> <span style=\"font-size:20px;\"> <a class=\"ProveItLink\" href=\"../../../__pv_it/_proof__failure_upper_bound/562e50ce1d2d5f5639f9c2869551f2240e7584080/proof.ipynb\" style=\"text-decoration: none\">&nbsp;&#x22A2;&nbsp;&nbsp;</a><a class=\"ProveItLink\" href=\"../../../__pv_it/_proof__failure_upper_bound/bd4a5a66cb64c499790fe5af9aace6a55214cb200/expr.ipynb\"><img src=\"data:image/png;base64,iVBORw0KGgoAAAANSUhEUgAAALIAAAAaBAMAAADh6xvYAAAAMFBMVEX///8AAAAAAAAAAAAAAAAA\n",
       "AAAAAAAAAAAAAAAAAAAAAAAAAAAAAAAAAAAAAAAAAAAv3aB7AAAAD3RSTlMAZkRUmRDNuyLviTJ2\n",
       "3asqG0tJAAAACXBIWXMAAA7EAAAOxAGVKw4bAAAC00lEQVRIx6VWTWgTURCezU/dmF88RASRXD01\n",
       "ghQUxAhVwUPZg1RQIQkKImiMJwt6yEHw59JS8eTBePCktHsQQaEkgh4sbY2aivhHoFZvWoTYQA9x\n",
       "Zn/f7L6ViA/e7nvzJt/MznwzLwABY6gG/z22sJ2SM99FqW4BZ2RQ4HCBbXdb7xGp8jWcanVA5HG2\n",
       "i5bM9813D2TKShMf22UnPHgqPS4y0aaMtTglCK+enbCXyziTmh84kWfbEHqgTjHRDQI6dBmgKwjr\n",
       "oVV7uUQoHT/yXmE9h5afYT7qTOOIEcfZXEg0uOoui/iraNcHbAeRll8voM6QBukcU/kFkKpBbCrR\n",
       "OeEKlwQyUrTKPuRIRti8QmSlAA0WtDi6E+tCqhdp3hccdYMYIWIcNp0TDMTAgwy3YZEnooU+tyC1\n",
       "ET+gC2l1Pz9BUXppro9/csQjPuQyfGPIKTNeyTXG+JV1N+lkZNj6zsQHzU2PB3kGLnHSmVXQaIrC\n",
       "LPx0QhbfoGP7e5S2dVD2IWehwruFSagvjPU92K8/tgpPxRTDpJP18GmzQt76kPdAm8rwM42PFIaC\n",
       "kyYjSb8pQlV0MmWRM0rIRZdPoYrh9TSenDdQdAu5IfV5h7Mnu+kMqsWsAKgUjUk3u6EzNrLH550y\n",
       "5HAdrguyoo5BayyY5RLvkT9OkwhXgqKxD75zblAcngK8EGRpHZvIovYcEnUPNzCDlo0rPuStNjcF\n",
       "uqrt0dGWINvcDHewb2XhKNpTiM/bwMu6GRFktmbwcJjVILmU7Pf7JVH4cB7gDozBLkouhWvMlJ90\n",
       "K2VOUP9xt4K1/gZivG9MB3TxNbilntNY34i+do+TukdfbUl6nXQsK1UoBfc6peBvUXHen58EID9a\n",
       "AAOZCKlI+vOE5Fpb4eTIB15rKvn1nj5dcq0fk1gaD2rhvqs4/5d7UG1yjtXMugi6drjNee0f7+6A\n",
       "/xv+cQ/nQUqONhDsH6QDuCpV7IiiAAAAAElFTkSuQmCC\n",
       "\" style=\"display:inline;vertical-align:middle;\" /></a></span><br>"
      ],
      "text/plain": [
       "<IPython.core.display.HTML object>"
      ]
     },
     "metadata": {},
     "output_type": "display_data"
    }
   ],
   "source": [
    "neg_scaled_delta_lower_bound = scaled_delta_upper_bound.left_mult_both_sides(Neg(one))"
   ]
  },
  {
   "cell_type": "code",
   "execution_count": 17,
   "metadata": {},
   "outputs": [
    {
     "data": {
      "text/html": [
       "<strong id=\"neg_scaled_delta_upper_bound\">neg_scaled_delta_upper_bound:</strong> <span style=\"font-size:20px;\"> <a class=\"ProveItLink\" href=\"../../../__pv_it/_proof__failure_upper_bound/2c8de2c40340d27a0437c312db8589529abc461c0/proof.ipynb\" style=\"text-decoration: none\">&nbsp;&#x22A2;&nbsp;&nbsp;</a><a class=\"ProveItLink\" href=\"../../../__pv_it/_proof__failure_upper_bound/4cf6bd152c0f232a042415b71cf5394a34066e760/expr.ipynb\"><img src=\"data:image/png;base64,iVBORw0KGgoAAAANSUhEUgAAAJUAAAAaBAMAAABMagNxAAAAMFBMVEX///8AAAAAAAAAAAAAAAAA\n",
       "AAAAAAAAAAAAAAAAAAAAAAAAAAAAAAAAAAAAAAAAAAAv3aB7AAAAD3RSTlMAiXaZIs1UEN1mu6sy\n",
       "RO+L2jdBAAAACXBIWXMAAA7EAAAOxAGVKw4bAAACdElEQVQ4y51VvWsUQRT/3Wazd3sf2eUq7Uws\n",
       "DAQkehZimgUbsfDOD8TkQE6srFwJglUuGtB0CUI6lStstLpCExHhFoKtd3+BXmXlRwzqoRDizM7s\n",
       "7rzLLCE+2N/MvH3zZt6b35sBDiJX8B9i98jwqWiyWzrbkRj0cpOMrGnZ1nS2ZisCrWTppLty0qGL\n",
       "gc76cQw6ya+S4QvZjjYU5dnrz2Uv50eQKZ/a4+sCDaLPvspcAMdXtG5pQ/aMdgRXcc/jYc0qdido\n",
       "cl3gPDI7+KhqN5KMDCTYi8iEebvzILHbIb4cdqivgG+Yyir5mkq6sxLybVgDsdX7UQjFAfHVZfrv\n",
       "PjreyYwSZDNJ3hkJzjSKvyWpImfGIvE1yb43QCfYfKKeT7LgcQlN5utPxKPLXtgWKCVei2aFcm79\n",
       "b9z/5AuouihuR8pSPdxZnhLvpQh8myjX0IkD7gYCuK8fsa+58P9om0yrCxYRpfkTt4P3cs1qT0DT\n",
       "RSla0aqLGHOsZrLXlrnwFZeSBIdJ5xkotNhGCq7U9ASw3FtR7pfkrnX7smMdXwnOKroYkxSpBgJY\n",
       "buxhTuh83YDpKbpmwDLWnRCE7XoC7D5GakNcLdDcv+WZd2GoFeQErGAm/aMw3OQc8RALwVANGX3i\n",
       "i9PnXKVyWtVljlhtVvNrmD8GPOMaDvPld8OlXaK85yuu7O7+IsryOPAFM7jF+jOIQCNfyWisl2K2\n",
       "hc/mJT+pR63svSe08shuoabcE/HFsRzzCfhAphT7Kb42J8B9hXSx2ylGhQYZrqc/DCYjW45TIucd\n",
       "6L7XidXY775nzCQT3NRHZtzf7x1KeR81cpgdDWcqh39V1Z9e8ZRdhQAAAABJRU5ErkJggg==\n",
       "\" style=\"display:inline;vertical-align:middle;\" /></a></span><br>"
      ],
      "text/plain": [
       "<IPython.core.display.HTML object>"
      ]
     },
     "metadata": {},
     "output_type": "display_data"
    }
   ],
   "source": [
    "neg_scaled_delta_upper_bound = scaled_delta_lower_bound.left_mult_both_sides(Neg(one))"
   ]
  },
  {
   "cell_type": "code",
   "execution_count": 18,
   "metadata": {},
   "outputs": [
    {
     "data": {
      "text/html": [
       "<span style=\"font-size:20px;\"><a class=\"ProveItLink\" href=\"../../../__pv_it/theorems/e5f8fae80d0c15a1e3af708f726b9705a021c1de0/expr.ipynb\"><img src=\"data:image/png;base64,iVBORw0KGgoAAAANSUhEUgAAAKwAAAAYBAMAAACVRAuIAAAAMFBMVEX///8AAAAAAAAAAAAAAAAA\n",
       "AAAAAAAAAAAAAAAAAAAAAAAAAAAAAAAAAAAAAAAAAAAv3aB7AAAAD3RSTlMAEIl2mUTdMiJmu6tU\n",
       "ze/kkN0jAAAACXBIWXMAAA7EAAAOxAGVKw4bAAAB3ElEQVRIx2NgIBnwNkAZjHMZqAjkYYxiM2oa\n",
       "exbOOkaaRsZQPJJNuer4je1pwKHTNhCfpXcIuJZ9lwBWcZ6PIMlELDItvssZGD7iNpbD5VYBAwPX\n",
       "BqzGMiUwMEj7fsSU4FjAoB/A+oCBfRUQrMBibBcD01eIfhzGMjBjMZa7gYHvAfMGcZyu3cHA8A7d\n",
       "WOZlabn4jeX7yMD9g8VAEaex7wUY9jegGst6WYCgaxMYuL+zexbA0sR9ZTQF2xgY9hdA9DMqm4DN\n",
       "6xUgGAhAwPaBQOLMh+oPK2BXAPFvwGVYLuA2tt4Av6nsn4FaHwBj9ycDcwBI4AJcqm8CbmOzCTiW\n",
       "DZi4OP4AE9lnY1WwNc/S0tKyQKzuqww4jWVZgCVPXksDAUiIe4EI6TsM/NC0ywjXwO4lgNPY2QQc\n",
       "ywk2TTeAgR8WWIhUAc4lWI3lUWDowGvsIQaOBnAuZQPG1wGQiDHh7MBQxMBgiDfCFBiYBRiYgFHG\n",
       "eYFBBFzk8B5AMZbpB7R0BUYl419o5k1xcUnAZ2ybi4sbVL/RTEgwMO4KRDKWe9/fnZCodQASKdBo\n",
       "/v///wW8ifb//7/omZdVCznzUgDwFTXUNxaUSygBLNgDCpRLKAFyE7CLt+yhxNQmoG4Al0x5ui0f\n",
       "zyMAAAAASUVORK5CYII=\n",
       "\" style=\"display:inline;vertical-align:middle;\" /></a>, <a class=\"ProveItLink\" href=\"../../../__pv_it/theorems/bb8428576c5e9aef5059458d15ab082fff89783c0/expr.ipynb\"><img src=\"data:image/png;base64,iVBORw0KGgoAAAANSUhEUgAAAQYAAAAYBAMAAADqsE5QAAAAMFBMVEX///8AAAAAAAAAAAAAAAAA\n",
       "AAAAAAAAAAAAAAAAAAAAAAAAAAAAAAAAAAAAAAAAAAAv3aB7AAAAD3RSTlMAid0yZpnNdiKru+8Q\n",
       "RFSc85eqAAAACXBIWXMAAA7EAAAOxAGVKw4bAAACkUlEQVRIx2NgIAzYGqAMHjeGgQLnYQzzogFz\n",
       "wzM46xHd7Dx7AYXbqCZMkRs48In3NWCVY889gCqQR1k41OEQ5y0AEsyzQJYJfUaTe4/khNawxQwM\n",
       "f/C4gVmHkBP4BLCJGgEtKQExuCYACZYPaNJCSMG1gEH+Au8GBuZVQLACixtOhv0h5IZjWMR4puYD\n",
       "3cAG8iyjApBgTcDtBs4GBu4N7BMOY4QDrwMs4gi6IQSZcwXGqAfazxIAcwNTAUS0SkkpAd0N3H8Y\n",
       "OH+wFshguIGvgGg3bEDmPEd2A8MemBv6DcCC12qwhYMCA+dn5hADWA7JFyfZDXwJuN2QAnODPyTm\n",
       "c7DFBSiYPmA1mWg3sIKS5MHyGGxukIS5YRZqeczAEIZihn0BZW5gA6YcXmUGQ2xuABX97KC42g5R\n",
       "isgLW1DM0GSgzA1MD4DR7cBQi80Nr0HW/QNm8B9gMWslIFgAEpsGLCV5kkBcJWA6YF2AJXiVlLQ3\n",
       "KSlNwO0GhH4GbqBx68sLQUVvkJLSbiUlTYQb7MHZOw8SFgwMp+D6Tdcgm+bJQGE4gNzwE0eavA1i\n",
       "iV0AllPgYpEJoWslaiHXQXlcfMfhBlBW5wMawO8ALkvZC7DmC2BSqqHMDVxAlYpADdjc4AXKF8B4\n",
       "4L9TgFYxIZfVqqGhCnjdwAhJTjzfYAQ6YJwASv88EWhukAflw0Bo3mQJhJb8aw9guoHp////Cfjc\n",
       "wDn72xQwQxVOoFdqQDvYRdzR4mLm/kxgntWFlQ8wcHERZlmNu/QrILrqVsZaToJDWQHdDTjKSRx1\n",
       "vwPRbnDFWmeB87gDTjdUU7dVxtWAS6aLAVu1DQb9D6jqBp4FuGRWgIjTWEOUI5K6jmjHIc4OCqDG\n",
       "eQwMAH9kqIEV576YAAAAAElFTkSuQmCC\n",
       "\" style=\"display:inline;vertical-align:middle;\" /></a> <a class=\"ProveItLink\" href=\"../../../__pv_it/_proof__failure_upper_bound/a204fb56d2065b36cdeafda2e17b11d2952aeed10/proof.ipynb\" style=\"text-decoration: none\">&nbsp;&#x22A2;&nbsp;&nbsp;</a><a class=\"ProveItLink\" href=\"../../../__pv_it/_proof__failure_upper_bound/ea52f7bc059c4100f0d0433c7f904a7ce4c5bc540/expr.ipynb\"><img src=\"data:image/png;base64,iVBORw0KGgoAAAANSUhEUgAAAM4AAAAaBAMAAAANnn7OAAAAMFBMVEX///8AAAAAAAAAAAAAAAAA\n",
       "AAAAAAAAAAAAAAAAAAAAAAAAAAAAAAAAAAAAAAAAAAAv3aB7AAAAD3RSTlMAZkRUmRDNuyLviTJ2\n",
       "3asqG0tJAAAACXBIWXMAAA7EAAAOxAGVKw4bAAADAUlEQVRIx61WTWgTQRR+2/w0P5sYROyt5uLB\n",
       "ixYEQcEaoc2h9LAnBS00RaEnYzy1oGgORcVLF0E8KJhLT2qbs1AaDz0oWqOmIv4GKgoepI1UCivE\n",
       "N7M7uzvTt5GID/Yx+72Z+d68efNmADpKtAz/TXZ2AMfJETlXdSGhXAfwEDnkmqu6kBMdwBtv7lNW\n",
       "rSaUKnSYY0xdoCwCPOPvnb8tpll1lSz6AMnTgy7FTIDE56riAIIz+YsAmz4wAfsNp7niKlmOADy0\n",
       "FGwRBz0GCFewvUexIRgrwUK2x/SBacNtjhtCSRIpYDjXZejLeewWNWBHFv/yygAE02WIm3rztC8o\n",
       "TS/dM0LJ7iESLijgC+TRcrDEvPqg2BCMb0J6K1yb87n205uwJBREJrwecfxSNYIHbsFzth1qTBFM\n",
       "1yFtJY/7N+6KGyjdFArglOckOwWzVYpnAr7CtpgCB9E1GR48VnITaFMoxvdO8I8QW23zzMMU2+GS\n",
       "YpuyoyeFQCuk3exLWkJxS8MhYiH8RvLshiKLqxrTItefJGy2HLKSk07et4Syq8dZ+2C9xu8uyXMY\n",
       "Gsxx1i1y7iMTHt6Gu9l8q38BdxQX8N1BWkI5cSzyFd3ERW7xcsKneu/xLHHXnwC1nn73l9NuQHId\n",
       "7jjrseTs6ZkUPLpJrmcfn/JyhOAJVeC6/8BZuEPJ3yt8Qu617TqPW9GNW2/ToHiO8n3bSCg2Bj4C\n",
       "WPZjFkQH9FU9B0+VfMM8cOreJTzhmQrF08dj1hpTbAjGGkNDdT/2AAahN6MVIqMGaCw6mqnm9Tzy\n",
       "7FVzaqHMM/4Adtql+oBgqt1uSyUk8awC8Wq4GWLFhZWgsF2HxrxzuojkI8pUP+4VccAriGeJQk6C\n",
       "rO5BfODqslTfIi89c6oacMfF6na9hu31mpSU0QfR4HqtBd3lWGCTJoGTIMNHa5ynX857V6YDeNgd\n",
       "v0YZ1oLv+Rn83oJQspwMGDP9l/cBJQc7vA9iNXKIXrbPI/HeqQTRjM3943un4/ttuyQwy4ZZY7gr\n",
       "kj8EfcwNVZ+QbgAAAABJRU5ErkJggg==\n",
       "\" style=\"display:inline;vertical-align:middle;\" /></a></span>"
      ],
      "text/plain": [
       "{e in {1 .. 2^{t - 1} - 2}, l in {-2^{t - 1} + 1 .. -(e + 1)}} |- (l - (2^{t} * delta_{b_{f}})) > (l - 1)"
      ]
     },
     "metadata": {},
     "output_type": "display_data"
    }
   ],
   "source": [
    "_diff_l_scaled_delta_floor.deduce_bound(neg_scaled_delta_lower_bound,\n",
    "        assumptions=defaults.assumptions + (first_sum_conditions,))"
   ]
  },
  {
   "cell_type": "code",
   "execution_count": 19,
   "metadata": {},
   "outputs": [
    {
     "data": {
      "text/html": [
       "<strong id=\"diff_l_scaled_delta_upper_bound\">diff_l_scaled_delta_upper_bound:</strong> <span style=\"font-size:20px;\"><a class=\"ProveItLink\" href=\"../../../__pv_it/theorems/e5f8fae80d0c15a1e3af708f726b9705a021c1de0/expr.ipynb\"><img src=\"data:image/png;base64,iVBORw0KGgoAAAANSUhEUgAAAKwAAAAYBAMAAACVRAuIAAAAMFBMVEX///8AAAAAAAAAAAAAAAAA\n",
       "AAAAAAAAAAAAAAAAAAAAAAAAAAAAAAAAAAAAAAAAAAAv3aB7AAAAD3RSTlMAEIl2mUTdMiJmu6tU\n",
       "ze/kkN0jAAAACXBIWXMAAA7EAAAOxAGVKw4bAAAB3ElEQVRIx2NgIBnwNkAZjHMZqAjkYYxiM2oa\n",
       "exbOOkaaRsZQPJJNuer4je1pwKHTNhCfpXcIuJZ9lwBWcZ6PIMlELDItvssZGD7iNpbD5VYBAwPX\n",
       "BqzGMiUwMEj7fsSU4FjAoB/A+oCBfRUQrMBibBcD01eIfhzGMjBjMZa7gYHvAfMGcZyu3cHA8A7d\n",
       "WOZlabn4jeX7yMD9g8VAEaex7wUY9jegGst6WYCgaxMYuL+zexbA0sR9ZTQF2xgY9hdA9DMqm4DN\n",
       "6xUgGAhAwPaBQOLMh+oPK2BXAPFvwGVYLuA2tt4Av6nsn4FaHwBj9ycDcwBI4AJcqm8CbmOzCTiW\n",
       "DZi4OP4AE9lnY1WwNc/S0tKyQKzuqww4jWVZgCVPXksDAUiIe4EI6TsM/NC0ywjXwO4lgNPY2QQc\n",
       "ywk2TTeAgR8WWIhUAc4lWI3lUWDowGvsIQaOBnAuZQPG1wGQiDHh7MBQxMBgiDfCFBiYBRiYgFHG\n",
       "eYFBBFzk8B5AMZbpB7R0BUYl419o5k1xcUnAZ2ybi4sbVL/RTEgwMO4KRDKWe9/fnZCodQASKdBo\n",
       "/v///wW8ifb//7/omZdVCznzUgDwFTXUNxaUSygBLNgDCpRLKAFyE7CLt+yhxNQmoG4Al0x5ui0f\n",
       "zyMAAAAASUVORK5CYII=\n",
       "\" style=\"display:inline;vertical-align:middle;\" /></a>, <a class=\"ProveItLink\" href=\"../../../__pv_it/theorems/bb8428576c5e9aef5059458d15ab082fff89783c0/expr.ipynb\"><img src=\"data:image/png;base64,iVBORw0KGgoAAAANSUhEUgAAAQYAAAAYBAMAAADqsE5QAAAAMFBMVEX///8AAAAAAAAAAAAAAAAA\n",
       "AAAAAAAAAAAAAAAAAAAAAAAAAAAAAAAAAAAAAAAAAAAv3aB7AAAAD3RSTlMAid0yZpnNdiKru+8Q\n",
       "RFSc85eqAAAACXBIWXMAAA7EAAAOxAGVKw4bAAACkUlEQVRIx2NgIAzYGqAMHjeGgQLnYQzzogFz\n",
       "wzM46xHd7Dx7AYXbqCZMkRs48In3NWCVY889gCqQR1k41OEQ5y0AEsyzQJYJfUaTe4/khNawxQwM\n",
       "f/C4gVmHkBP4BLCJGgEtKQExuCYACZYPaNJCSMG1gEH+Au8GBuZVQLACixtOhv0h5IZjWMR4puYD\n",
       "3cAG8iyjApBgTcDtBs4GBu4N7BMOY4QDrwMs4gi6IQSZcwXGqAfazxIAcwNTAUS0SkkpAd0N3H8Y\n",
       "OH+wFshguIGvgGg3bEDmPEd2A8MemBv6DcCC12qwhYMCA+dn5hADWA7JFyfZDXwJuN2QAnODPyTm\n",
       "c7DFBSiYPmA1mWg3sIKS5MHyGGxukIS5YRZqeczAEIZihn0BZW5gA6YcXmUGQ2xuABX97KC42g5R\n",
       "isgLW1DM0GSgzA1MD4DR7cBQi80Nr0HW/QNm8B9gMWslIFgAEpsGLCV5kkBcJWA6YF2AJXiVlLQ3\n",
       "KSlNwO0GhH4GbqBx68sLQUVvkJLSbiUlTYQb7MHZOw8SFgwMp+D6Tdcgm+bJQGE4gNzwE0eavA1i\n",
       "iV0AllPgYpEJoWslaiHXQXlcfMfhBlBW5wMawO8ALkvZC7DmC2BSqqHMDVxAlYpADdjc4AXKF8B4\n",
       "4L9TgFYxIZfVqqGhCnjdwAhJTjzfYAQ6YJwASv88EWhukAflw0Bo3mQJhJb8aw9guoHp////Cfjc\n",
       "wDn72xQwQxVOoFdqQDvYRdzR4mLm/kxgntWFlQ8wcHERZlmNu/QrILrqVsZaToJDWQHdDTjKSRx1\n",
       "vwPRbnDFWmeB87gDTjdUU7dVxtWAS6aLAVu1DQb9D6jqBp4FuGRWgIjTWEOUI5K6jmjHIc4OCqDG\n",
       "eQwMAH9kqIEV576YAAAAAElFTkSuQmCC\n",
       "\" style=\"display:inline;vertical-align:middle;\" /></a> <a class=\"ProveItLink\" href=\"../../../__pv_it/_proof__failure_upper_bound/c4956432ed5da62cc18f2dcae16853a22eb663480/proof.ipynb\" style=\"text-decoration: none\">&nbsp;&#x22A2;&nbsp;&nbsp;</a><a class=\"ProveItLink\" href=\"../../../__pv_it/_proof__failure_upper_bound/ebaf6b917d3cba941ef6d4d31e197f521f8025d50/expr.ipynb\"><img src=\"data:image/png;base64,iVBORw0KGgoAAAANSUhEUgAAAJwAAAAaBAMAAACwfyi7AAAAMFBMVEX///8AAAAAAAAAAAAAAAAA\n",
       "AAAAAAAAAAAAAAAAAAAAAAAAAAAAAAAAAAAAAAAAAAAv3aB7AAAAD3RSTlMAZkRUmRDNuyLviTJ2\n",
       "3asqG0tJAAAACXBIWXMAAA7EAAAOxAGVKw4bAAACiklEQVRIx5VVPWzTQBT+3NhpHP8kQkhMlCys\n",
       "EAnUgaEEqc1QFckTC5UaiYEJFCYGJMhQ8bc0YmGAwUsnqMgKS710ANEqQ4sYKFhCKhJTGxRUyUjh\n",
       "zvadz/YlUj/J350/+969e+/dHTARxQ5OilMSTalF7Yp0RINTHgWZfjluZ6VDnnDK44ZE01pR+/zL\n",
       "G9kQxWOUxz2JNl2NO7cEsdR8ySK5xymLUhco/+ilxWfkWW0+AIaCWMYFJ+7ucEphI4DqkvZcRl8k\n",
       "07TxrjbVFUTb4d0VhxGLcei3cogKzWEzY25ABnegd03/ZiKaflI/VUYRzi6EjdrCJp3jW9qaQdao\n",
       "D2Efq966kJ8/vKu2GYXYjv+yPGzT+AVpc2afeNeHHRjXxKA+4qszu4zoNBssx2s9HERrTsGO6sRK\n",
       "y3NXuTtTQ0bE2nW+aJKC+3R4O1Mn0ftmqrKUls3zbASMoB3U+S+/gLuk0TMVWYyC/j0lrnUKgXE7\n",
       "rq4BI0Aw9xrYpW7QNGt39ilosKwGxFBrf6OpiTu/Y2XAiFjlizWOI+8+QubdDH+nU+IIxiFexd4F\n",
       "QgJ5KmhuqLmHmsRcwcVTcRsHJHrGvx2H+RGRWCjTvkPDh6NyJrN0mR+ALVEMUKybe2YDn9KZTcq4\n",
       "UnXDhQ6WM3VHvC7tzs/3RfEt5sjRoLS0JQcKLTlF2IGzNOSV8x4uEu9Pu2lzdF5rNBq1RLH82YXe\n",
       "U/0CibxKo6H62XOLbHW9JjlmXow5uCvQ64+38ns2gepKxMUx5iznDIqyEyXZ7l2J+H6MOWPJC83N\n",
       "JIWk7fNyDfFTMsyuj7+pVsnzFYxOdFfIcGnyXVGQBe/KWGvL65Nvson3bB5lks+waBdkX/8DXKCn\n",
       "nItearUAAAAASUVORK5CYII=\n",
       "\" style=\"display:inline;vertical-align:middle;\" /></a></span><br>"
      ],
      "text/plain": [
       "<IPython.core.display.HTML object>"
      ]
     },
     "metadata": {},
     "output_type": "display_data"
    }
   ],
   "source": [
    "# For the 1st Summation\n",
    "diff_l_scaled_delta_upper_bound = _diff_l_scaled_delta_floor.deduce_bound(\n",
    "        neg_scaled_delta_upper_bound.reversed(),\n",
    "        assumptions=defaults.assumptions + (first_sum_conditions,))"
   ]
  },
  {
   "cell_type": "code",
   "execution_count": 20,
   "metadata": {},
   "outputs": [
    {
     "data": {
      "text/html": [
       "<strong id=\"diff_l_scaled_delta_upper_bound_2\">diff_l_scaled_delta_upper_bound_2:</strong> <span style=\"font-size:20px;\"><a class=\"ProveItLink\" href=\"../../../__pv_it/theorems/e5f8fae80d0c15a1e3af708f726b9705a021c1de0/expr.ipynb\"><img src=\"data:image/png;base64,iVBORw0KGgoAAAANSUhEUgAAAKwAAAAYBAMAAACVRAuIAAAAMFBMVEX///8AAAAAAAAAAAAAAAAA\n",
       "AAAAAAAAAAAAAAAAAAAAAAAAAAAAAAAAAAAAAAAAAAAv3aB7AAAAD3RSTlMAEIl2mUTdMiJmu6tU\n",
       "ze/kkN0jAAAACXBIWXMAAA7EAAAOxAGVKw4bAAAB3ElEQVRIx2NgIBnwNkAZjHMZqAjkYYxiM2oa\n",
       "exbOOkaaRsZQPJJNuer4je1pwKHTNhCfpXcIuJZ9lwBWcZ6PIMlELDItvssZGD7iNpbD5VYBAwPX\n",
       "BqzGMiUwMEj7fsSU4FjAoB/A+oCBfRUQrMBibBcD01eIfhzGMjBjMZa7gYHvAfMGcZyu3cHA8A7d\n",
       "WOZlabn4jeX7yMD9g8VAEaex7wUY9jegGst6WYCgaxMYuL+zexbA0sR9ZTQF2xgY9hdA9DMqm4DN\n",
       "6xUgGAhAwPaBQOLMh+oPK2BXAPFvwGVYLuA2tt4Av6nsn4FaHwBj9ycDcwBI4AJcqm8CbmOzCTiW\n",
       "DZi4OP4AE9lnY1WwNc/S0tKyQKzuqww4jWVZgCVPXksDAUiIe4EI6TsM/NC0ywjXwO4lgNPY2QQc\n",
       "ywk2TTeAgR8WWIhUAc4lWI3lUWDowGvsIQaOBnAuZQPG1wGQiDHh7MBQxMBgiDfCFBiYBRiYgFHG\n",
       "eYFBBFzk8B5AMZbpB7R0BUYl419o5k1xcUnAZ2ybi4sbVL/RTEgwMO4KRDKWe9/fnZCodQASKdBo\n",
       "/v///wW8ifb//7/omZdVCznzUgDwFTXUNxaUSygBLNgDCpRLKAFyE7CLt+yhxNQmoG4Al0x5ui0f\n",
       "zyMAAAAASUVORK5CYII=\n",
       "\" style=\"display:inline;vertical-align:middle;\" /></a>, <a class=\"ProveItLink\" href=\"../../../__pv_it/theorems/f01e5817c994f42806cb80f31cb3ebf09f18f49a0/expr.ipynb\"><img src=\"data:image/png;base64,iVBORw0KGgoAAAANSUhEUgAAAKgAAAAYBAMAAACcr6vyAAAAMFBMVEX///8AAAAAAAAAAAAAAAAA\n",
       "AAAAAAAAAAAAAAAAAAAAAAAAAAAAAAAAAAAAAAAAAAAv3aB7AAAAD3RSTlMAid0yZpnNdiKru+8Q\n",
       "RFSc85eqAAAACXBIWXMAAA7EAAAOxAGVKw4bAAAB2UlEQVQ4y2NgoBiwNUAZPG4MVAPnYQzzIuoZ\n",
       "+gzOeoRH1dkLpJjZqCaMbGhfA1ZV7LkHSHJpHopLmWeBdAt9RlP0HquZzDpYBFvDFjMw/EH1PtcE\n",
       "IMHyAU2lEDYzT4b9wRTkWMAgf4F3AwPzKiBYATWUUQFIsCbgNfQKLFCwGMrZwMC9gX3CYRSXgg1l\n",
       "KoBoWqSkhs3Q53gM5f7DwPmDtUAG09B+AxCTN/0AdpfiM5RTgYHzM3OIASwd5IvDDPUHC7QdQPE+\n",
       "j3jpAcKGgvyJHiMQQ2eBmRkI0TAgvmTALECUofYFGClyA5DYDmYiYotjCxB/YWC/QJShmphJ4h8w\n",
       "/f0Ap8JNSkpKWmCxaUDTuL6Xy4I4QUpKu5WUNHEbyroAS+rLg7iWgQchabqGgYF/AlERxcDgiUVM\n",
       "7AIwA4BjRAEhuBJoaAFxhvIJMHRgiAEV8juAY6QcJfEzAcUeEGGoIQNDDUbsA73OfwfsKrYHyIay\n",
       "JDAcbUA1lPEHtPQERinPN2icqIaGKmBLUiyBkFJ71h3kdFroUoDqfc7Z36ZAEmYAkFCFJtL///8n\n",
       "YE2nUMArhT+bEg0YFbCJYi9QKDS0mrLaBaPUA4P+BxQZetoBmyhHJCWmNs5jYAAAach5zb5jDXMA\n",
       "AAAASUVORK5CYII=\n",
       "\" style=\"display:inline;vertical-align:middle;\" /></a> <a class=\"ProveItLink\" href=\"../../../__pv_it/_proof__failure_upper_bound/aed348235544af344a7cafcc79bad63bed3070ef0/proof.ipynb\" style=\"text-decoration: none\">&nbsp;&#x22A2;&nbsp;&nbsp;</a><a class=\"ProveItLink\" href=\"../../../__pv_it/_proof__failure_upper_bound/ea52f7bc059c4100f0d0433c7f904a7ce4c5bc540/expr.ipynb\"><img src=\"data:image/png;base64,iVBORw0KGgoAAAANSUhEUgAAAM4AAAAaBAMAAAANnn7OAAAAMFBMVEX///8AAAAAAAAAAAAAAAAA\n",
       "AAAAAAAAAAAAAAAAAAAAAAAAAAAAAAAAAAAAAAAAAAAv3aB7AAAAD3RSTlMAZkRUmRDNuyLviTJ2\n",
       "3asqG0tJAAAACXBIWXMAAA7EAAAOxAGVKw4bAAADAUlEQVRIx61WTWgTQRR+2/w0P5sYROyt5uLB\n",
       "ixYEQcEaoc2h9LAnBS00RaEnYzy1oGgORcVLF0E8KJhLT2qbs1AaDz0oWqOmIv4GKgoepI1UCivE\n",
       "N7M7uzvTt5GID/Yx+72Z+d68efNmADpKtAz/TXZ2AMfJETlXdSGhXAfwEDnkmqu6kBMdwBtv7lNW\n",
       "rSaUKnSYY0xdoCwCPOPvnb8tpll1lSz6AMnTgy7FTIDE56riAIIz+YsAmz4wAfsNp7niKlmOADy0\n",
       "FGwRBz0GCFewvUexIRgrwUK2x/SBacNtjhtCSRIpYDjXZejLeewWNWBHFv/yygAE02WIm3rztC8o\n",
       "TS/dM0LJ7iESLijgC+TRcrDEvPqg2BCMb0J6K1yb87n205uwJBREJrwecfxSNYIHbsFzth1qTBFM\n",
       "1yFtJY/7N+6KGyjdFArglOckOwWzVYpnAr7CtpgCB9E1GR48VnITaFMoxvdO8I8QW23zzMMU2+GS\n",
       "YpuyoyeFQCuk3exLWkJxS8MhYiH8RvLshiKLqxrTItefJGy2HLKSk07et4Syq8dZ+2C9xu8uyXMY\n",
       "Gsxx1i1y7iMTHt6Gu9l8q38BdxQX8N1BWkI5cSzyFd3ERW7xcsKneu/xLHHXnwC1nn73l9NuQHId\n",
       "7jjrseTs6ZkUPLpJrmcfn/JyhOAJVeC6/8BZuEPJ3yt8Qu617TqPW9GNW2/ToHiO8n3bSCg2Bj4C\n",
       "WPZjFkQH9FU9B0+VfMM8cOreJTzhmQrF08dj1hpTbAjGGkNDdT/2AAahN6MVIqMGaCw6mqnm9Tzy\n",
       "7FVzaqHMM/4Adtql+oBgqt1uSyUk8awC8Wq4GWLFhZWgsF2HxrxzuojkI8pUP+4VccAriGeJQk6C\n",
       "rO5BfODqslTfIi89c6oacMfF6na9hu31mpSU0QfR4HqtBd3lWGCTJoGTIMNHa5ynX857V6YDeNgd\n",
       "v0YZ1oLv+Rn83oJQspwMGDP9l/cBJQc7vA9iNXKIXrbPI/HeqQTRjM3943un4/ttuyQwy4ZZY7gr\n",
       "kj8EfcwNVZ+QbgAAAABJRU5ErkJggg==\n",
       "\" style=\"display:inline;vertical-align:middle;\" /></a></span><br>"
      ],
      "text/plain": [
       "<IPython.core.display.HTML object>"
      ]
     },
     "metadata": {},
     "output_type": "display_data"
    }
   ],
   "source": [
    "# For the 2nd Summation\n",
    "diff_l_scaled_delta_upper_bound_2 = _diff_l_scaled_delta_floor.deduce_bound(\n",
    "        neg_scaled_delta_lower_bound,\n",
    "        assumptions=defaults.assumptions + (second_sum_conditions,))"
   ]
  },
  {
   "cell_type": "markdown",
   "metadata": {},
   "source": [
    "### (4) Bound on the First Summand and First Sum\n",
    "We can find an $\\ell$-dependent upper bound on the first summand, then an upper bound on the first summation."
   ]
  },
  {
   "cell_type": "code",
   "execution_count": 21,
   "metadata": {},
   "outputs": [
    {
     "data": {
      "text/html": [
       "<strong id=\"first_summand_bound_02\">first_summand_bound_02:</strong> <span style=\"font-size:20px;\"><a class=\"ProveItLink\" href=\"../../../__pv_it/theorems/e5f8fae80d0c15a1e3af708f726b9705a021c1de0/expr.ipynb\"><img src=\"data:image/png;base64,iVBORw0KGgoAAAANSUhEUgAAAKwAAAAYBAMAAACVRAuIAAAAMFBMVEX///8AAAAAAAAAAAAAAAAA\n",
       "AAAAAAAAAAAAAAAAAAAAAAAAAAAAAAAAAAAAAAAAAAAv3aB7AAAAD3RSTlMAEIl2mUTdMiJmu6tU\n",
       "ze/kkN0jAAAACXBIWXMAAA7EAAAOxAGVKw4bAAAB3ElEQVRIx2NgIBnwNkAZjHMZqAjkYYxiM2oa\n",
       "exbOOkaaRsZQPJJNuer4je1pwKHTNhCfpXcIuJZ9lwBWcZ6PIMlELDItvssZGD7iNpbD5VYBAwPX\n",
       "BqzGMiUwMEj7fsSU4FjAoB/A+oCBfRUQrMBibBcD01eIfhzGMjBjMZa7gYHvAfMGcZyu3cHA8A7d\n",
       "WOZlabn4jeX7yMD9g8VAEaex7wUY9jegGst6WYCgaxMYuL+zexbA0sR9ZTQF2xgY9hdA9DMqm4DN\n",
       "6xUgGAhAwPaBQOLMh+oPK2BXAPFvwGVYLuA2tt4Av6nsn4FaHwBj9ycDcwBI4AJcqm8CbmOzCTiW\n",
       "DZi4OP4AE9lnY1WwNc/S0tKyQKzuqww4jWVZgCVPXksDAUiIe4EI6TsM/NC0ywjXwO4lgNPY2QQc\n",
       "ywk2TTeAgR8WWIhUAc4lWI3lUWDowGvsIQaOBnAuZQPG1wGQiDHh7MBQxMBgiDfCFBiYBRiYgFHG\n",
       "eYFBBFzk8B5AMZbpB7R0BUYl419o5k1xcUnAZ2ybi4sbVL/RTEgwMO4KRDKWe9/fnZCodQASKdBo\n",
       "/v///wW8ifb//7/omZdVCznzUgDwFTXUNxaUSygBLNgDCpRLKAFyE7CLt+yhxNQmoG4Al0x5ui0f\n",
       "zyMAAAAASUVORK5CYII=\n",
       "\" style=\"display:inline;vertical-align:middle;\" /></a>, <a class=\"ProveItLink\" href=\"../../../__pv_it/theorems/bb8428576c5e9aef5059458d15ab082fff89783c0/expr.ipynb\"><img src=\"data:image/png;base64,iVBORw0KGgoAAAANSUhEUgAAAQYAAAAYBAMAAADqsE5QAAAAMFBMVEX///8AAAAAAAAAAAAAAAAA\n",
       "AAAAAAAAAAAAAAAAAAAAAAAAAAAAAAAAAAAAAAAAAAAv3aB7AAAAD3RSTlMAid0yZpnNdiKru+8Q\n",
       "RFSc85eqAAAACXBIWXMAAA7EAAAOxAGVKw4bAAACkUlEQVRIx2NgIAzYGqAMHjeGgQLnYQzzogFz\n",
       "wzM46xHd7Dx7AYXbqCZMkRs48In3NWCVY889gCqQR1k41OEQ5y0AEsyzQJYJfUaTe4/khNawxQwM\n",
       "f/C4gVmHkBP4BLCJGgEtKQExuCYACZYPaNJCSMG1gEH+Au8GBuZVQLACixtOhv0h5IZjWMR4puYD\n",
       "3cAG8iyjApBgTcDtBs4GBu4N7BMOY4QDrwMs4gi6IQSZcwXGqAfazxIAcwNTAUS0SkkpAd0N3H8Y\n",
       "OH+wFshguIGvgGg3bEDmPEd2A8MemBv6DcCC12qwhYMCA+dn5hADWA7JFyfZDXwJuN2QAnODPyTm\n",
       "c7DFBSiYPmA1mWg3sIKS5MHyGGxukIS5YRZqeczAEIZihn0BZW5gA6YcXmUGQ2xuABX97KC42g5R\n",
       "isgLW1DM0GSgzA1MD4DR7cBQi80Nr0HW/QNm8B9gMWslIFgAEpsGLCV5kkBcJWA6YF2AJXiVlLQ3\n",
       "KSlNwO0GhH4GbqBx68sLQUVvkJLSbiUlTYQb7MHZOw8SFgwMp+D6Tdcgm+bJQGE4gNzwE0eavA1i\n",
       "iV0AllPgYpEJoWslaiHXQXlcfMfhBlBW5wMawO8ALkvZC7DmC2BSqqHMDVxAlYpADdjc4AXKF8B4\n",
       "4L9TgFYxIZfVqqGhCnjdwAhJTjzfYAQ6YJwASv88EWhukAflw0Bo3mQJhJb8aw9guoHp////Cfjc\n",
       "wDn72xQwQxVOoFdqQDvYRdzR4mLm/kxgntWFlQ8wcHERZlmNu/QrILrqVsZaToJDWQHdDTjKSRx1\n",
       "vwPRbnDFWmeB87gDTjdUU7dVxtWAS6aLAVu1DQb9D6jqBp4FuGRWgIjTWEOUI5K6jmjHIc4OCqDG\n",
       "eQwMAH9kqIEV576YAAAAAElFTkSuQmCC\n",
       "\" style=\"display:inline;vertical-align:middle;\" /></a> <a class=\"ProveItLink\" href=\"../../../__pv_it/_proof__failure_upper_bound/8862c5980be46fa5e6cc2c94821e4d520cde589b0/proof.ipynb\" style=\"text-decoration: none\">&nbsp;&#x22A2;&nbsp;&nbsp;</a><a class=\"ProveItLink\" href=\"../../../__pv_it/_proof__failure_upper_bound/a7a01af9fd1dac7fe29ea40f8e1e0a3b5711dd0a0/expr.ipynb\"><img src=\"data:image/png;base64,iVBORw0KGgoAAAANSUhEUgAAALcAAAA3BAMAAAC88MZ0AAAAMFBMVEX///8AAAAAAAAAAAAAAAAA\n",
       "AAAAAAAAAAAAAAAAAAAAAAAAAAAAAAAAAAAAAAAAAAAv3aB7AAAAD3RSTlMAMt0Qq5nNdoki72ZE\n",
       "VLtVShrrAAAACXBIWXMAAA7EAAAOxAGVKw4bAAADE0lEQVRYw+1XT2jTUBj/mqxr06xLJtSDl6hD\n",
       "JnhoEKe7tbh58KAtc9WdpIKgU6ZFJxu7rAxBwYND6EEPrZ4EUToRFXax4M2LvQwGHqzoRbxMBsqw\n",
       "WN9L8pKX9plkrVEP/Q4fX37h/d6X7997AXCTbSq0IZ5W8Ucut0HuedVCW54vdMm75F3yv0J+e6kd\n",
       "cm+rxspnl7fO3d6qfyjRKf+4xT2qb9yhvf5xjwz5F5Phff5xH5j2sVB6WOSNzmVdIyqYYZFs+P+f\n",
       "UB9KceT6qH9NlIZxuv3PmNeim2Odb1SHkszCgxDc2TH5MxZ5OC5LFeHrHwjMIgN7BaJqkIsV1oSr\n",
       "OBAGTQWBQR3avxvLLv3hJHZfD8sqa/2qk7dCjSgosvI2ZF6i+SzrEkxA9vh/SZSQFlpPSxwR4aNm\n",
       "9rNOOwLydA8XLnw2LE41VHEg1uq6iBYV4C427+GsNKcWgULmkgxR+rPyfaRjQklDlRsNxhCrgfBh\n",
       "4AQ2J429bILAIoTrwuJ5qtKsZuQ3iGJJJAcRY27VceazLc0BRwEeQW+VAmcs86KpGKKYaQjg/bmc\n",
       "/TUGyyqkliQ6oglrp9OmYsi8NctwPTa3GQYPA6TkN7Ysb9jXz/+G/BNvRj+rtVRTSvQwxWGGt7aN\n",
       "Hvtp2m9VohjyI2y6g3vheHMlag0S+A6nwhbBC0iZD4pMFGuaHSJWL66qh02vNRC4JMSeWq2xCe/l\n",
       "7TX9oVQhiiHP88Ti0sjFTWwdtMYDBqmEJbJ69Spyj7EuUSHKUbCTofssz8Uk7QBIy6BAxIiEVgEl\n",
       "2Qt5f1JlkK+BbW4kZBR1ZXbUKmXF9RKOvhY5lW8FA3kI0XtKMkzDFfUahPIu1UKVNAqJ9DrXCt7J\n",
       "ZMZt50sumoQvyPvhqwArGFlxPUn6UGeIkwww3mh8s4E35gAewAS8Q/YEEOUsjz2DSNbhiXBOdZkt\n",
       "9gHoEUQyKNYg6zYVKdnhGUQSmwVMLtpL1aFcql5Bo1NR0XO4CDkPv4POZyjjr6pKnaGusuYZ1Lad\n",
       "U+nT3/UnbGv3llvo4MLdE3RtoV/tXgTUD/sZ+AAAAABJRU5ErkJggg==\n",
       "\" style=\"display:inline;vertical-align:middle;\" /></a></span><br>"
      ],
      "text/plain": [
       "<IPython.core.display.HTML object>"
      ]
     },
     "metadata": {},
     "output_type": "display_data"
    }
   ],
   "source": [
    "first_summand_bound_02 = the_summand.deduce_bound(scaled_delta_lower_bound.reversed(),\n",
    "        assumptions=defaults.assumptions + (first_sum_conditions,))"
   ]
  },
  {
   "cell_type": "code",
   "execution_count": 22,
   "metadata": {},
   "outputs": [
    {
     "data": {
      "text/html": [
       "<strong id=\"first_summand_bound_generalized\">first_summand_bound_generalized:</strong> <span style=\"font-size:20px;\"><a class=\"ProveItLink\" href=\"../../../__pv_it/theorems/e5f8fae80d0c15a1e3af708f726b9705a021c1de0/expr.ipynb\"><img src=\"data:image/png;base64,iVBORw0KGgoAAAANSUhEUgAAAKwAAAAYBAMAAACVRAuIAAAAMFBMVEX///8AAAAAAAAAAAAAAAAA\n",
       "AAAAAAAAAAAAAAAAAAAAAAAAAAAAAAAAAAAAAAAAAAAv3aB7AAAAD3RSTlMAEIl2mUTdMiJmu6tU\n",
       "ze/kkN0jAAAACXBIWXMAAA7EAAAOxAGVKw4bAAAB3ElEQVRIx2NgIBnwNkAZjHMZqAjkYYxiM2oa\n",
       "exbOOkaaRsZQPJJNuer4je1pwKHTNhCfpXcIuJZ9lwBWcZ6PIMlELDItvssZGD7iNpbD5VYBAwPX\n",
       "BqzGMiUwMEj7fsSU4FjAoB/A+oCBfRUQrMBibBcD01eIfhzGMjBjMZa7gYHvAfMGcZyu3cHA8A7d\n",
       "WOZlabn4jeX7yMD9g8VAEaex7wUY9jegGst6WYCgaxMYuL+zexbA0sR9ZTQF2xgY9hdA9DMqm4DN\n",
       "6xUgGAhAwPaBQOLMh+oPK2BXAPFvwGVYLuA2tt4Av6nsn4FaHwBj9ycDcwBI4AJcqm8CbmOzCTiW\n",
       "DZi4OP4AE9lnY1WwNc/S0tKyQKzuqww4jWVZgCVPXksDAUiIe4EI6TsM/NC0ywjXwO4lgNPY2QQc\n",
       "ywk2TTeAgR8WWIhUAc4lWI3lUWDowGvsIQaOBnAuZQPG1wGQiDHh7MBQxMBgiDfCFBiYBRiYgFHG\n",
       "eYFBBFzk8B5AMZbpB7R0BUYl419o5k1xcUnAZ2ybi4sbVL/RTEgwMO4KRDKWe9/fnZCodQASKdBo\n",
       "/v///wW8ifb//7/omZdVCznzUgDwFTXUNxaUSygBLNgDCpRLKAFyE7CLt+yhxNQmoG4Al0x5ui0f\n",
       "zyMAAAAASUVORK5CYII=\n",
       "\" style=\"display:inline;vertical-align:middle;\" /></a> <a class=\"ProveItLink\" href=\"../../../__pv_it/_proof__failure_upper_bound/defc19d753bc98342d1276cd1269e3c3b99f78c30/proof.ipynb\" style=\"text-decoration: none\">&nbsp;&#x22A2;&nbsp;&nbsp;</a><a class=\"ProveItLink\" href=\"../../../__pv_it/_proof__failure_upper_bound/9e853ca4a236e81f1a4b57d7d1cbbc14804121560/expr.ipynb\"><img src=\"data:image/png;base64,iVBORw0KGgoAAAANSUhEUgAAAaMAAAA/BAMAAAC/aLpLAAAAMFBMVEX///8AAAAAAAAAAAAAAAAA\n",
       "AAAAAAAAAAAAAAAAAAAAAAAAAAAAAAAAAAAAAAAAAAAv3aB7AAAAD3RSTlMAq1RmmUTNIjK7EInv\n",
       "3XZ/CtNrAAAACXBIWXMAAA7EAAAOxAGVKw4bAAAGiElEQVRo3tWaf4iURRjHn3333X3fm/1xq4Fg\n",
       "BZ4F/hXcFRr00wvPMy29jf6qCFf9IwqyDcSShHuLCMVKqz9yQ+qNIhLTWxMiDPOI6JdIG1xFgrki\n",
       "BV3+ODW79Uyvmffd952Z3Xl3t23fBxy4293ZmXnnMzPP93lmZgEQk14OtXnyBKCn30Nu/w90othk\n",
       "yA/oKmIjfdQX8gPIF9hIg6E/4SYbl8ishP6IVD8uUjwT+iO0SVyk3nz4z3gcF+mXllbnkbbWtFer\n",
       "10I1pXMtFHp3cKqNpnmtJKoxRSZaKZVuB4nX0icwkUb6EZBi5zGRFloISPAVJtI7gIE0lEdEuoiC\n",
       "1NuHRxS7hII0nMFD0i+gICVHEcOhKRSkrik8pO4SClL6HB7S8DYUJO0vxKC1tVAl0VYszWuZF/GQ\n",
       "zpRbipqu//uaNmItXotcBnBE78bwkYZ6cIZuGmAxe30MIXgIIeyfpwgVjtnwPH0xtoWP9FTnI5W7\n",
       "lqmfE7epdSEsiu87ftJxar9yNWQhSoOiOM4a72giB9R6M4dOz+GjRw9dfUhkeUB8ypDuBXjrqkMi\n",
       "s4JsZYiiPg2GGL3eIdGvq74aTam1GvNP078t3H5Jh2epIVKXncgCmeN5Xz+SJZ/NsOHu6ocX+MHN\n",
       "ezllUwvED6wMixb2cqR/3Ehv+v8nd4z5wvPadI8dDlIT08pMHeZRmuOFLGh+h3XQS+kxbzCOuFm0\n",
       "1Gll/EkyfrVqmUfcVmWk8OWBIUGOTcV9AAPMGXKk7qxRAb/7DlKXs8KUSHrWi+69Msw7hIgUJOIO\n",
       "0sfspulHSDszyZGitlEhOTAGBgYWN0dK0V7vOyGWYc5uXqflYdfea5u4WmZLsJGuGTIBO10QwVIS\n",
       "Ja2/r8VZWg+w24qIZTRqTI92GqkflosBkVWP6iBFLGdyHnRyXhJCsVdsY1FVx1491NMY6SGAGcY+\n",
       "sUyMRlnx8Q4jXYBhqzHqHM/69SLcWigUekyqcrCZvivk64R7aWFHodBXi2Sywm/CXIAvb7HFMiZF\n",
       "0tbygKgjSLerkBLHLI7qI6Uehi2uO8kIPumZmroNZmkzwKRchi28jVKE3JF0QJG3UED1I/7uNPVP\n",
       "sjwY2zcta4C0C0hRlofXISGWSZcleeCbiwVN3VqdnLpry1kUroMkR51UbXNQQD3muXz9N4ogIyU9\n",
       "5yUjGZ9cchzCy3nza/GrPLx/YlwsQ3NEpCFP5TXVjl1ruI13Nj8bnLcbVJP9q3AdIy3wXQXJ1SpS\n",
       "V/BXsWJtmZ2Sq4UznnZ+oKruZcbVuyrmOaNsJI1+o74E9Z8ctd7/xUrNFkBAWlJbZomMtNBjfkNV\n",
       "28scEXs6+K3X/ZRd9SMbNr1YP03RCY5qXK5vfG2bZpuoeVSULjRzNf+8sqo7xqgjUTXjTDPXDW6X\n",
       "xoBa5gNem45oHWfLalrhDCLbOGrsbP33Zrs73BokQv+eFT6P5Hx3wSSqZvqLzF4OZp/76VOhp7xF\n",
       "ws7pRoI0M1nmqNEreIdeqQkvdIT6X0DQzEienWevFrcnwp5nDbOzoEuJrYJ56RU8JL16erjVdiVK\n",
       "7pQNySmITIJ41kqEs+ClrIWgQ5+Twvs44s1mtHrleKoqUXJQTZdZCSKV2Kh0MmJLvU6PBjT9GhHm\n",
       "u4SHZFQPq2e5ElWzR62uzXTmQ545t5dPy0pKFws6Lj+fEOYb85dRh92XgitRciq43SnrZb4HiuYi\n",
       "nGGr1eAHOxf2CO7PQkQ66C6jVa5EyWmV8/8HMBfxHg3ntYrp/dpkmIqKEXTpNl+YmR2IRDDscox5\n",
       "EkWe5GHaGEjm7wj+bDYt13k5FIm0cI9IzmIixXP+hJwE1SzdzAWfRXznwZyAb7zxsBSiohKhCiZS\n",
       "dNLvvShRfqZWlDYzpEKtybxy3PZdj9nC1VO8hIlE3Cv12TUS5WfS/dq4mFeBeE/6SLof/mymeOLq\n",
       "7sNEgvt9DyNKlJdpjA0MSEP8Od0pd/VFc2QFxbmTTfNoCxqESgQjZc/DzK91HjQzNT09LW1sEqeL\n",
       "kLT0jMYG/h4mH81/0kCu4CK53j+ZVQWeWXWVbkj2rB9vFuMJUVcJF8mN7HSVe9cDfH7Kvs25KWoc\n",
       "iQumlEVGWsnckamyCDPATMwVZQcpmpFEPjDNQCaChGMrM1VfzQyuxS5PUmwwfm7uJ77DRoK3m549\n",
       "KNIN4tlD47TRQkfabbkuVXFCFBhA79kvnRA1TGvQicCw/vs5XoLqnM6EYVlzCXfF4V8khhZ0Qykr\n",
       "twAAAABJRU5ErkJggg==\n",
       "\" style=\"display:inline;vertical-align:middle;\" /></a></span><br>"
      ],
      "text/plain": [
       "<IPython.core.display.HTML object>"
      ]
     },
     "metadata": {},
     "output_type": "display_data"
    }
   ],
   "source": [
    "first_summand_bound_generalized = first_summand_bound_02.generalize((l), conditions=[first_sum_conditions])"
   ]
  },
  {
   "cell_type": "code",
   "execution_count": 23,
   "metadata": {},
   "outputs": [
    {
     "data": {
      "text/html": [
       "<strong id=\"first_sum_bound\">first_sum_bound:</strong> <span style=\"font-size:20px;\"><a class=\"ProveItLink\" href=\"../../../__pv_it/theorems/e5f8fae80d0c15a1e3af708f726b9705a021c1de0/expr.ipynb\"><img src=\"data:image/png;base64,iVBORw0KGgoAAAANSUhEUgAAAKwAAAAYBAMAAACVRAuIAAAAMFBMVEX///8AAAAAAAAAAAAAAAAA\n",
       "AAAAAAAAAAAAAAAAAAAAAAAAAAAAAAAAAAAAAAAAAAAv3aB7AAAAD3RSTlMAEIl2mUTdMiJmu6tU\n",
       "ze/kkN0jAAAACXBIWXMAAA7EAAAOxAGVKw4bAAAB3ElEQVRIx2NgIBnwNkAZjHMZqAjkYYxiM2oa\n",
       "exbOOkaaRsZQPJJNuer4je1pwKHTNhCfpXcIuJZ9lwBWcZ6PIMlELDItvssZGD7iNpbD5VYBAwPX\n",
       "BqzGMiUwMEj7fsSU4FjAoB/A+oCBfRUQrMBibBcD01eIfhzGMjBjMZa7gYHvAfMGcZyu3cHA8A7d\n",
       "WOZlabn4jeX7yMD9g8VAEaex7wUY9jegGst6WYCgaxMYuL+zexbA0sR9ZTQF2xgY9hdA9DMqm4DN\n",
       "6xUgGAhAwPaBQOLMh+oPK2BXAPFvwGVYLuA2tt4Av6nsn4FaHwBj9ycDcwBI4AJcqm8CbmOzCTiW\n",
       "DZi4OP4AE9lnY1WwNc/S0tKyQKzuqww4jWVZgCVPXksDAUiIe4EI6TsM/NC0ywjXwO4lgNPY2QQc\n",
       "ywk2TTeAgR8WWIhUAc4lWI3lUWDowGvsIQaOBnAuZQPG1wGQiDHh7MBQxMBgiDfCFBiYBRiYgFHG\n",
       "eYFBBFzk8B5AMZbpB7R0BUYl419o5k1xcUnAZ2ybi4sbVL/RTEgwMO4KRDKWe9/fnZCodQASKdBo\n",
       "/v///wW8ifb//7/omZdVCznzUgDwFTXUNxaUSygBLNgDCpRLKAFyE7CLt+yhxNQmoG4Al0x5ui0f\n",
       "zyMAAAAASUVORK5CYII=\n",
       "\" style=\"display:inline;vertical-align:middle;\" /></a> <a class=\"ProveItLink\" href=\"../../../__pv_it/_proof__failure_upper_bound/ff787bc4632b2a1db6d5530d7e8ea341ac83a9d80/proof.ipynb\" style=\"text-decoration: none\">&nbsp;&#x22A2;&nbsp;&nbsp;</a><a class=\"ProveItLink\" href=\"../../../__pv_it/_proof__failure_upper_bound/1c5e6179c991b4a4ccbccec48e64ae78ab5e5cc70/expr.ipynb\"><img src=\"data:image/png;base64,iVBORw0KGgoAAAANSUhEUgAAAawAAABLCAMAAAAbIEMQAAAANlBMVEX///8AAAAAAAAAAAAAAAAA\n",
       "AAAAAAAAAAAAAAAAAAAAAAAAAAAAAAAAAAAAAAAAAAAAAAAAAABHL6OuAAAAEXRSTlMAzUSZq1Tv\n",
       "EGYy3Xa7iSJQQBQRrlsAAAAJcEhZcwAADsQAAA7EAZUrDhsAAAitSURBVHja5V3ZgqMqEBUB2YS5\n",
       "/P/PXsFojECscqFjwsOMM03awymojYI0zdxI2/xCc1oc+HRtkgpoKWt+o9kDA61PUhYt78SPCKvp\n",
       "5N5P/gVJGbRi/whu11rv9n3wT0jKoGUENLM2RmnuIS3W7/wcOYEjNEkJWuUhhlMWOwk5joPew8fw\n",
       "fM/HQCSVOdpLUoKWQOaMSGzd9FpljB7XrL2FtHq9yxMkezg6TtIKLQctLJp0ei5Q/viF5BZuivI7\n",
       "FDaIpJSj4ySt0BLQTBs7CSuNLOKw/B5Lq9uxsDSYo5NJekELm2guagGh1WDzijj4PawWx1stEEkj\n",
       "R2eT9IKWeci6bONbGWucLU+atr+FsBpPsJ8AkfQY/tkkLdAKX/qw6qc2+KM8TpWOSh5Q0/C/XfhD\n",
       "LnGomwiLeYWMsUokZTg6naQFWgnTCeMrXkK026rBIdREumQwkh5iOJukBdrew7yT+Ko+YLZFHOYm\n",
       "cXHjkS4GkKSRhtNJmtEKD4w6wjpvBDXSiBUOZ4m3Zu5zkb+tzwwLepwehJI0jv8YSZmBzmglVCOk\n",
       "wVyie8VVJkswSvyZwjI4PQglKRPw4kjKD3RGyzx0j4a6QnBe7nEqvWcKS+H8QTBJKQNokjIDndF2\n",
       "HgzZbtAlr9yaO1dYjUf9OjhJWxxtk5Qb6AMt2GTFzod+/FHCIh4xszAkiYM/zw70gZb7m4RGJwuL\n",
       "YvKDVUnKDfSBlnr7k8KSGP6rkpQb6AMt8fwnhaUwkVZVknIDfaDtsImXLxGW8HDHqi5JuYE+0EK9\n",
       "IuILzdxTWMPAFaJvRZKyA41oHXSCcb8anXCtYZ333U2FpeGqrS5J2YFGtBzslDKf6yp1LXV+trAI\n",
       "fLrXJSk70IjWwCN57X2u4pBW8mqtPzc9wuAeXl2SsgONaC3cg1XDGpegDMsFjQ3KhLAz6/aoZ3D6\n",
       "6pFUGGhEy+CQhwnms7P7nvWhFr5cPoCkiLb3iJ2w3nvdfEuz5bFw4lbj/nOSIlqCwSEGv4Z+i7BM\n",
       "yUWTmoq1df9zkiJajUqktMMa518iLJn3x41O8+YfQFJE2+GyXnYIGcT3CktYbbIJjD8n6SEsXAZi\n",
       "iNHJdwiLJ8ISVOfdgA8giY/CwrkpQSPbrxSWYKSkvD6ApIjWI3GkGZW7tna9ssrC+gCS2lFYWFtI\n",
       "v8RsqSQ760pq8ANIimi9/4f9nN6Tafef0RaI/suk0gsORiWS3oAd0e7wMt13RMYqv++Rc90/gCS1\n",
       "U1imc3cTjLCWMZEMHxoUfwBJao83GEzd/fyLkFGgesPBWPgHRB3yBi8gqd0lLHXHFEYo5HIr/lr4\n",
       "vn5lknJ6IKLV6BDC3E9WjRSHhFWZpKIeINjg/LaJXKvXsRB4r70aSVaHGZXTAxFtjwu1+4PbwvAC\n",
       "6/2l2DTzlDmbIVf+mtCL9spUPZKkL+iBiJah0vk0e+wGrp/hx8gOnMpzffo0PK6RG8zmYy2SKCno\n",
       "gYgWsbk9iDfrj0qwsATZ3ZMgPGFpkic3sO1efwVir74eSVNMnuiBiBYBueCPcniZVS/39hQlZ8BR\n",
       "0iWH054jfTy5Xim1ip4ofLlUI2lSfqkeiGglXBlkb9ERiDG7bmlGAT0dpaRXY+RT4nGghyUajq2e\n",
       "uiR9EwwR2GuoRpL0JT0Q0bZgnyjjjzrOMOllal8xbfWMJscOvpGzmtj8a1jOPog5kSTKxYaI+vVq\n",
       "JI2XauX0QEQLLjYdupNl03qcrogc2HwiihJQTxYnVxeIKu5emKw1ITJ9SiNdBV8ulUgaRZ3TAyNa\n",
       "D6ydpKVENtgOqXmWawPq2cW/WABYXCAiuz6eNZXl6krM0cdKJKnya0a02te69tXolRnd6sn06Der\n",
       "pi2roeydB6ZLn5LVgqg/r0RSEeyElvlaNZrz3YqbJuvlFkbto7ITWQFzlj2U2M4SbEvrp8WUSVQi\n",
       "qWfNe7SmWiXgHNhv3qS5TAHEC66oyR+sDtctsuzZM5U8JTExIitRiaRhSti3aNtq1UqEvZhRSM+w\n",
       "sMKzolJllUO4L2kQhyL96gdt8pQsFkRivBJJvhXmLVrUCcBDTdPEjAqSzcdp2pQdBPEkLi7RuHaY\n",
       "XfVpk6fEDCFqJCqRJKlt3qPVO47SOJrk4wR4ZZkOvAYbycpCj2ojCCssVpXNBJSdGYE7BLiDpF0c\n",
       "FSfLlE9YGE/B3s6geVdMrlar4rnk5XSD70oEZTOaCIuHmeZccQjqYbcGw2aW4fFz8Za8Ye5R9+kv\n",
       "SLqUo0Kb0bZL2PztR6ddMaMpL6bj0ht8V35F2Yyue6rYzxRFG4UV4mUzvN6E9xoL9AYZbi93SdKV\n",
       "HDVbBnZ51Q21W4mFqFfSFyyApHe2vaq/shld9XSahlYeTbhkLN7HGPK+YYoKOkpWzjpOdqX8BU4R\n",
       "LfpfydHm2+lCreu3wd+0KzZuYDg6thYIZJrkktrNeSxGQxHbm4lszbiUgskK3xPCH8rq+Z0hhW8P\n",
       "UR75rSILkq7kqNlCu7gnMu5E0Pki0VwkGHbFOE0O8kGAdOA0QIdMGEQfgzeOPFTmZm7QYCtaniRd\n",
       "y9Em2q6DqeMo5PBGR+Wr2Vame95/XQRCwWEoRZb1D6BkeC2Z+NzKuhP0hRAzSddytInWPNPhCUkv\n",
       "9/Vuup+FG3yn3wVmSCG5VHS8ypSsHX5Z0oLoQx4zSddytI12Vom6FW+XeGZXLJMsKs4aBtY9bFfd\n",
       "3RTa6BmidgXvCh/yTCRdzNEmWjv9y7//DprcrhgGyIEaDFDjo4gzNRjrAG3Hl5ZNJF3M0SZaMa0z\n",
       "atr3HmS6K1YG8rzB94kMrH04/jCaMGOyN1vdtFJpOwrRJ5Ku5mgT7alX7bzLqV9aN/j4koLntC5N\n",
       "8G5XDv1MkjCVhQlafeKpyo+v2d3L+okk0SNoub/dMZ7dTezdSfwTknJoaf8zwmK7h/oXJGXR6l/5\n",
       "hs72wGHf+iTl0apf+e5bfaD2pT5JBbTtb1gtcahOqTZJL2j/B2FCc6RrdO0UAAAAAElFTkSuQmCC\n",
       "\" style=\"display:inline;vertical-align:middle;\" /></a></span><br>"
      ],
      "text/plain": [
       "<IPython.core.display.HTML object>"
      ]
     },
     "metadata": {},
     "output_type": "display_data"
    }
   ],
   "source": [
    "first_sum_bound = first_sum.deduce_bound(first_summand_bound_generalized)"
   ]
  },
  {
   "cell_type": "markdown",
   "metadata": {},
   "source": [
    "### (5) Bound on the Second Summand and Second Sum\n",
    "We can find an $\\ell$-dependent upper bound on the second summand, then an upper bound on the second summation."
   ]
  },
  {
   "cell_type": "code",
   "execution_count": 24,
   "metadata": {},
   "outputs": [
    {
     "data": {
      "text/html": [
       "<strong id=\"second_summand_bound_02\">second_summand_bound_02:</strong> <span style=\"font-size:20px;\"><a class=\"ProveItLink\" href=\"../../../__pv_it/theorems/e5f8fae80d0c15a1e3af708f726b9705a021c1de0/expr.ipynb\"><img src=\"data:image/png;base64,iVBORw0KGgoAAAANSUhEUgAAAKwAAAAYBAMAAACVRAuIAAAAMFBMVEX///8AAAAAAAAAAAAAAAAA\n",
       "AAAAAAAAAAAAAAAAAAAAAAAAAAAAAAAAAAAAAAAAAAAv3aB7AAAAD3RSTlMAEIl2mUTdMiJmu6tU\n",
       "ze/kkN0jAAAACXBIWXMAAA7EAAAOxAGVKw4bAAAB3ElEQVRIx2NgIBnwNkAZjHMZqAjkYYxiM2oa\n",
       "exbOOkaaRsZQPJJNuer4je1pwKHTNhCfpXcIuJZ9lwBWcZ6PIMlELDItvssZGD7iNpbD5VYBAwPX\n",
       "BqzGMiUwMEj7fsSU4FjAoB/A+oCBfRUQrMBibBcD01eIfhzGMjBjMZa7gYHvAfMGcZyu3cHA8A7d\n",
       "WOZlabn4jeX7yMD9g8VAEaex7wUY9jegGst6WYCgaxMYuL+zexbA0sR9ZTQF2xgY9hdA9DMqm4DN\n",
       "6xUgGAhAwPaBQOLMh+oPK2BXAPFvwGVYLuA2tt4Av6nsn4FaHwBj9ycDcwBI4AJcqm8CbmOzCTiW\n",
       "DZi4OP4AE9lnY1WwNc/S0tKyQKzuqww4jWVZgCVPXksDAUiIe4EI6TsM/NC0ywjXwO4lgNPY2QQc\n",
       "ywk2TTeAgR8WWIhUAc4lWI3lUWDowGvsIQaOBnAuZQPG1wGQiDHh7MBQxMBgiDfCFBiYBRiYgFHG\n",
       "eYFBBFzk8B5AMZbpB7R0BUYl419o5k1xcUnAZ2ybi4sbVL/RTEgwMO4KRDKWe9/fnZCodQASKdBo\n",
       "/v///wW8ifb//7/omZdVCznzUgDwFTXUNxaUSygBLNgDCpRLKAFyE7CLt+yhxNQmoG4Al0x5ui0f\n",
       "zyMAAAAASUVORK5CYII=\n",
       "\" style=\"display:inline;vertical-align:middle;\" /></a>, <a class=\"ProveItLink\" href=\"../../../__pv_it/theorems/f01e5817c994f42806cb80f31cb3ebf09f18f49a0/expr.ipynb\"><img src=\"data:image/png;base64,iVBORw0KGgoAAAANSUhEUgAAAKgAAAAYBAMAAACcr6vyAAAAMFBMVEX///8AAAAAAAAAAAAAAAAA\n",
       "AAAAAAAAAAAAAAAAAAAAAAAAAAAAAAAAAAAAAAAAAAAv3aB7AAAAD3RSTlMAid0yZpnNdiKru+8Q\n",
       "RFSc85eqAAAACXBIWXMAAA7EAAAOxAGVKw4bAAAB2UlEQVQ4y2NgoBiwNUAZPG4MVAPnYQzzIuoZ\n",
       "+gzOeoRH1dkLpJjZqCaMbGhfA1ZV7LkHSHJpHopLmWeBdAt9RlP0HquZzDpYBFvDFjMw/EH1PtcE\n",
       "IMHyAU2lEDYzT4b9wRTkWMAgf4F3AwPzKiBYATWUUQFIsCbgNfQKLFCwGMrZwMC9gX3CYRSXgg1l\n",
       "KoBoWqSkhs3Q53gM5f7DwPmDtUAG09B+AxCTN/0AdpfiM5RTgYHzM3OIASwd5IvDDPUHC7QdQPE+\n",
       "j3jpAcKGgvyJHiMQQ2eBmRkI0TAgvmTALECUofYFGClyA5DYDmYiYotjCxB/YWC/QJShmphJ4h8w\n",
       "/f0Ap8JNSkpKWmCxaUDTuL6Xy4I4QUpKu5WUNHEbyroAS+rLg7iWgQchabqGgYF/AlERxcDgiUVM\n",
       "7AIwA4BjRAEhuBJoaAFxhvIJMHRgiAEV8juAY6QcJfEzAcUeEGGoIQNDDUbsA73OfwfsKrYHyIay\n",
       "JDAcbUA1lPEHtPQERinPN2icqIaGKmBLUiyBkFJ71h3kdFroUoDqfc7Z36ZAEmYAkFCFJtL///8n\n",
       "YE2nUMArhT+bEg0YFbCJYi9QKDS0mrLaBaPUA4P+BxQZetoBmyhHJCWmNs5jYAAAach5zb5jDXMA\n",
       "AAAASUVORK5CYII=\n",
       "\" style=\"display:inline;vertical-align:middle;\" /></a> <a class=\"ProveItLink\" href=\"../../../__pv_it/_proof__failure_upper_bound/4a50417f1c50374c0ac643e837bec7e8a1a02c5c0/proof.ipynb\" style=\"text-decoration: none\">&nbsp;&#x22A2;&nbsp;&nbsp;</a><a class=\"ProveItLink\" href=\"../../../__pv_it/_proof__failure_upper_bound/64b2e7ee3e05a513ea155c3ef969000b9632ed0f0/expr.ipynb\"><img src=\"data:image/png;base64,iVBORw0KGgoAAAANSUhEUgAAAOsAAAA3BAMAAAAf2KCyAAAAMFBMVEX///8AAAAAAAAAAAAAAAAA\n",
       "AAAAAAAAAAAAAAAAAAAAAAAAAAAAAAAAAAAAAAAAAAAv3aB7AAAAD3RSTlMAMt0Qq5nNdoki72ZE\n",
       "VLtVShrrAAAACXBIWXMAAA7EAAAOxAGVKw4bAAADt0lEQVRYw+1YTWgTQRR+yaZNNtskW6Eeeklr\n",
       "KRU8dA/aemuw9aCiLbWthYIEFPyjWrTSKkhDERQ8GApF9NDUkyCVVqQKvRjwIHgxl0LBgxG9iJdK\n",
       "oVIsxpnN7uxk8jY/3Uo85EEes2933vfmvW/ezgagmOzRwKmU70I6es0p7M5cTDlf7VQVtgpbha3C\n",
       "/jsXD+OOYXfgomfx/JJD1F1wUZWKS+BSJVCVVq0CqN79lUA93FaJDM8eKOfpjHNZp348o8xlqLQZ\n",
       "uyIc7H+cZKc8uttdJqWk+z3OCd8H/Wzc2VaKvxqoaXIMuw0J1WoXpWzcUFL+6Rj2FQ8LSgnNUdF2\n",
       "ARZguuwZvmySlSQWVLJgfUwFrhbsARmfF+c/AFexJ1YLxSunTQVzaDnv4PPe65O/ZhkdxWhuGvFq\n",
       "vTGV3CcjB6VADHztaq6NpsVLDzez8JheB7GDjmmU+D42e/m7MXJrhpqrb0CW20F+b3NNB4c2iD5H\n",
       "Av1Sf5oanlBeiOQiRnnwqgoBPhWxOrM3eCOGWsxkkKBHyG9IfC1S2GUAv9GShymBxOZMjHPg25an\n",
       "L3K56rZqsGEqVObJrw2D9WvcjiesjOa1ATgG8BxqU5xx3BpeYQo72xBveZtTh61lBXXRS/eYUH9i\n",
       "XNSgNx7iK9dlxXCWKWx/xZD86bC+CLukmzch0I4ajwD0qh9yeGZl9TZTiNA1edIYrMKy6onm0y5r\n",
       "BGiHcckKKHDyDxt/1EyFiJtkxT+GwQbm2RJoWKfE/aPH6voFZ3yW69fQyy7CqqkQ8ZMOF9a3c8c+\n",
       "Ks0M1sVSX0vT/UxMk14DdwQaXlqtaQs+q3uN3CWSprKBzSuADlvHVuvuI0FsCaFRI0cZaRP0aoVV\n",
       "T8xgV9JUNkn+JqFJbuIX5p3HVqsw2kErfVEuQRj8Rl51DiZskhwkdf3tQymV5hGCEQ2BXYOcftul\n",
       "kuqGJ7I9Qy9d2Oa7lW6T7U7RuGVsLYO0abqQmMBkYnTFwMtHE1JhFK5rN8EbK8JkF0nlsujx+OYJ\n",
       "kn5WFprg0DuB7tQ4MzjYnxPuWCACP8iKD90AWKGWFbvm2Gx3Y4aN6kjOlWHhNjW2ZzKbOcZ7kwBP\n",
       "YQA+kfEAmAqTZbsbI9ZwAbu/YDNvHV7IF7QiPRmC8QLHA+tlky/DNg5bCBejRd9AUrp4OI3YA402\n",
       "DhsmgMIqwgYT5RFuvsVzLIV90qTsD1Kklbhp2G5Hfx0VPkshb9MUd5ZyIGslG/WAJjX+5OjgL4fy\n",
       "zskPSLOhfaLGwRfUX//lRKAxLk7qAAAAAElFTkSuQmCC\n",
       "\" style=\"display:inline;vertical-align:middle;\" /></a></span><br>"
      ],
      "text/plain": [
       "<IPython.core.display.HTML object>"
      ]
     },
     "metadata": {},
     "output_type": "display_data"
    }
   ],
   "source": [
    "second_summand_bound_02 = the_summand.deduce_bound(diff_l_scaled_delta_upper_bound_2,\n",
    "        assumptions=defaults.assumptions + (second_sum_conditions,))"
   ]
  },
  {
   "cell_type": "code",
   "execution_count": 25,
   "metadata": {},
   "outputs": [
    {
     "data": {
      "text/html": [
       "<strong id=\"second_summand_bound_02_relaxed\">second_summand_bound_02_relaxed:</strong> <span style=\"font-size:20px;\"><a class=\"ProveItLink\" href=\"../../../__pv_it/theorems/e5f8fae80d0c15a1e3af708f726b9705a021c1de0/expr.ipynb\"><img src=\"data:image/png;base64,iVBORw0KGgoAAAANSUhEUgAAAKwAAAAYBAMAAACVRAuIAAAAMFBMVEX///8AAAAAAAAAAAAAAAAA\n",
       "AAAAAAAAAAAAAAAAAAAAAAAAAAAAAAAAAAAAAAAAAAAv3aB7AAAAD3RSTlMAEIl2mUTdMiJmu6tU\n",
       "ze/kkN0jAAAACXBIWXMAAA7EAAAOxAGVKw4bAAAB3ElEQVRIx2NgIBnwNkAZjHMZqAjkYYxiM2oa\n",
       "exbOOkaaRsZQPJJNuer4je1pwKHTNhCfpXcIuJZ9lwBWcZ6PIMlELDItvssZGD7iNpbD5VYBAwPX\n",
       "BqzGMiUwMEj7fsSU4FjAoB/A+oCBfRUQrMBibBcD01eIfhzGMjBjMZa7gYHvAfMGcZyu3cHA8A7d\n",
       "WOZlabn4jeX7yMD9g8VAEaex7wUY9jegGst6WYCgaxMYuL+zexbA0sR9ZTQF2xgY9hdA9DMqm4DN\n",
       "6xUgGAhAwPaBQOLMh+oPK2BXAPFvwGVYLuA2tt4Av6nsn4FaHwBj9ycDcwBI4AJcqm8CbmOzCTiW\n",
       "DZi4OP4AE9lnY1WwNc/S0tKyQKzuqww4jWVZgCVPXksDAUiIe4EI6TsM/NC0ywjXwO4lgNPY2QQc\n",
       "ywk2TTeAgR8WWIhUAc4lWI3lUWDowGvsIQaOBnAuZQPG1wGQiDHh7MBQxMBgiDfCFBiYBRiYgFHG\n",
       "eYFBBFzk8B5AMZbpB7R0BUYl419o5k1xcUnAZ2ybi4sbVL/RTEgwMO4KRDKWe9/fnZCodQASKdBo\n",
       "/v///wW8ifb//7/omZdVCznzUgDwFTXUNxaUSygBLNgDCpRLKAFyE7CLt+yhxNQmoG4Al0x5ui0f\n",
       "zyMAAAAASUVORK5CYII=\n",
       "\" style=\"display:inline;vertical-align:middle;\" /></a>, <a class=\"ProveItLink\" href=\"../../../__pv_it/theorems/f01e5817c994f42806cb80f31cb3ebf09f18f49a0/expr.ipynb\"><img src=\"data:image/png;base64,iVBORw0KGgoAAAANSUhEUgAAAKgAAAAYBAMAAACcr6vyAAAAMFBMVEX///8AAAAAAAAAAAAAAAAA\n",
       "AAAAAAAAAAAAAAAAAAAAAAAAAAAAAAAAAAAAAAAAAAAv3aB7AAAAD3RSTlMAid0yZpnNdiKru+8Q\n",
       "RFSc85eqAAAACXBIWXMAAA7EAAAOxAGVKw4bAAAB2UlEQVQ4y2NgoBiwNUAZPG4MVAPnYQzzIuoZ\n",
       "+gzOeoRH1dkLpJjZqCaMbGhfA1ZV7LkHSHJpHopLmWeBdAt9RlP0HquZzDpYBFvDFjMw/EH1PtcE\n",
       "IMHyAU2lEDYzT4b9wRTkWMAgf4F3AwPzKiBYATWUUQFIsCbgNfQKLFCwGMrZwMC9gX3CYRSXgg1l\n",
       "KoBoWqSkhs3Q53gM5f7DwPmDtUAG09B+AxCTN/0AdpfiM5RTgYHzM3OIASwd5IvDDPUHC7QdQPE+\n",
       "j3jpAcKGgvyJHiMQQ2eBmRkI0TAgvmTALECUofYFGClyA5DYDmYiYotjCxB/YWC/QJShmphJ4h8w\n",
       "/f0Ap8JNSkpKWmCxaUDTuL6Xy4I4QUpKu5WUNHEbyroAS+rLg7iWgQchabqGgYF/AlERxcDgiUVM\n",
       "7AIwA4BjRAEhuBJoaAFxhvIJMHRgiAEV8juAY6QcJfEzAcUeEGGoIQNDDUbsA73OfwfsKrYHyIay\n",
       "JDAcbUA1lPEHtPQERinPN2icqIaGKmBLUiyBkFJ71h3kdFroUoDqfc7Z36ZAEmYAkFCFJtL///8n\n",
       "YE2nUMArhT+bEg0YFbCJYi9QKDS0mrLaBaPUA4P+BxQZetoBmyhHJCWmNs5jYAAAach5zb5jDXMA\n",
       "AAAASUVORK5CYII=\n",
       "\" style=\"display:inline;vertical-align:middle;\" /></a> <a class=\"ProveItLink\" href=\"../../../__pv_it/_proof__failure_upper_bound/ab5c4ebeface1d0bb7d1f102e9d3d497a30175e80/proof.ipynb\" style=\"text-decoration: none\">&nbsp;&#x22A2;&nbsp;&nbsp;</a><a class=\"ProveItLink\" href=\"../../../__pv_it/_proof__failure_upper_bound/274290b0b9c34f59c59b6566666922b9a97e8c1d0/expr.ipynb\"><img src=\"data:image/png;base64,iVBORw0KGgoAAAANSUhEUgAAAOsAAAA3BAMAAAAf2KCyAAAAMFBMVEX///8AAAAAAAAAAAAAAAAA\n",
       "AAAAAAAAAAAAAAAAAAAAAAAAAAAAAAAAAAAAAAAAAAAv3aB7AAAAD3RSTlMAMt0Qq5nNdoki72ZE\n",
       "VLtVShrrAAAACXBIWXMAAA7EAAAOxAGVKw4bAAADuUlEQVRYw+1YT0gUURj/dmZ1d3bd3TGwg5fV\n",
       "RAw6OESaN5eyQ0UppiYIsVHQPywpQwvCRYKCDi2CRB3UTkEYGmGBlxY6BF3aiyB0aKMu0cUQDEna\n",
       "3pudefP27Te7rmNtwX4wH2++mfd+3/u+3/vemwEoJDs0cCrFDyEfuuIUdmtDjDmf7VgZtgxbhi3D\n",
       "/rkh7scdw25hiI65s/MOUbdhiH9SAhdKgepv1EqA6tldCtS2plJEuGVPKVD3DZaExO7iYNPOZUUf\n",
       "aJIFObTJHv8zpf7qAmq7fbDIciHf7XDuXRd088XxdOEeFVBR5xh2A6bV4nqEEsp3x7Aviob1a9sA\n",
       "CzBedA9vJsj+BOZUIm9+TAWuhoxp7y4q9cYLCt4vzn8ALmFvLOXzV0mZCqZQWt7C+73VO3/OMDqK\n",
       "0dw04hv3K1MpXQpyUArEwNss5JyGxUMPN5PwkN4HsYOOaZT5OjZ58avRkjRDTVXXINNtJddrYavo\n",
       "WyX6DHH0U/UJanhEeSGSixiV3ssqBPhQxKrM2uCJGGounUacHiBXn1jDKOwCgM8oyf2UQGJxJsYp\n",
       "8G4o4+e5WFkFSV41FSoz5GrCYH0at+IJK6M5ZQAOAzyFyiRnHLaal5jCTnJktJzFqcNWsoS66K00\n",
       "JOSfGOc06IyH+My1Wz6cYgpbXzEkfjqsN8Ju6eIVSw01HgDoVN9l8cyK6k2mEKFzcqcwWD+Lqjua\n",
       "S7uMEaAZhmXLocCxX6z9XjMVIhKJim8Igw3MsClQt46L60f31fUDTnqtoV9CJ7sJq6ZCxEcqXFhf\n",
       "zq1W7dJhXSz0lTTcT8Qw6TmQIlDz3CpN6/BR3WnEbjphKhvYnATosFVstlIXcWJdcI0aOcrIa6Bn\n",
       "K6y6Ywa7EqayCfIXGQ1yHT8xzww2Wz+jHTTSjXIewuAz4qpz0G7PC5K8/vSilErxCMGIhsAuQ1a9\n",
       "bVdJdsMjmZqhpy5s891Kl8nGftG4biwtg7QpOpGYwGRidMXAw3sTUmEQrmrXwRMrwGQXCeWCOOKR\n",
       "taMk/CwtNMChNwLdqXGit7c7y92hQAS+kRm3XANYpJZFu+JYb/dggrWqSMz9/cJjamxOp9eyjHdG\n",
       "AR5DD3wg7R4wFSYLdg8GrOYs9nzWpt8KPFPOaQVqMgTjeY4H1maTK/02AzYQLkYL7kByqrA7tdgL\n",
       "tTYD1owAhfULC0yUB7j5Bs+xJPYBl7Q/SJFSIlG3JUe/jvKfpZDdNMmdpRzI8qaNukOjGn9ydPCD\n",
       "pbhz8j1SbGidqHDwBfUbSepFNTVeyOUAAAAASUVORK5CYII=\n",
       "\" style=\"display:inline;vertical-align:middle;\" /></a></span><br>"
      ],
      "text/plain": [
       "<IPython.core.display.HTML object>"
      ]
     },
     "metadata": {},
     "output_type": "display_data"
    }
   ],
   "source": [
    "second_summand_bound_02_relaxed = second_summand_bound_02.derive_relaxed()"
   ]
  },
  {
   "cell_type": "code",
   "execution_count": 26,
   "metadata": {},
   "outputs": [
    {
     "data": {
      "text/html": [
       "<strong id=\"second_summand_bound_generalized\">second_summand_bound_generalized:</strong> <span style=\"font-size:20px;\"><a class=\"ProveItLink\" href=\"../../../__pv_it/theorems/e5f8fae80d0c15a1e3af708f726b9705a021c1de0/expr.ipynb\"><img src=\"data:image/png;base64,iVBORw0KGgoAAAANSUhEUgAAAKwAAAAYBAMAAACVRAuIAAAAMFBMVEX///8AAAAAAAAAAAAAAAAA\n",
       "AAAAAAAAAAAAAAAAAAAAAAAAAAAAAAAAAAAAAAAAAAAv3aB7AAAAD3RSTlMAEIl2mUTdMiJmu6tU\n",
       "ze/kkN0jAAAACXBIWXMAAA7EAAAOxAGVKw4bAAAB3ElEQVRIx2NgIBnwNkAZjHMZqAjkYYxiM2oa\n",
       "exbOOkaaRsZQPJJNuer4je1pwKHTNhCfpXcIuJZ9lwBWcZ6PIMlELDItvssZGD7iNpbD5VYBAwPX\n",
       "BqzGMiUwMEj7fsSU4FjAoB/A+oCBfRUQrMBibBcD01eIfhzGMjBjMZa7gYHvAfMGcZyu3cHA8A7d\n",
       "WOZlabn4jeX7yMD9g8VAEaex7wUY9jegGst6WYCgaxMYuL+zexbA0sR9ZTQF2xgY9hdA9DMqm4DN\n",
       "6xUgGAhAwPaBQOLMh+oPK2BXAPFvwGVYLuA2tt4Av6nsn4FaHwBj9ycDcwBI4AJcqm8CbmOzCTiW\n",
       "DZi4OP4AE9lnY1WwNc/S0tKyQKzuqww4jWVZgCVPXksDAUiIe4EI6TsM/NC0ywjXwO4lgNPY2QQc\n",
       "ywk2TTeAgR8WWIhUAc4lWI3lUWDowGvsIQaOBnAuZQPG1wGQiDHh7MBQxMBgiDfCFBiYBRiYgFHG\n",
       "eYFBBFzk8B5AMZbpB7R0BUYl419o5k1xcUnAZ2ybi4sbVL/RTEgwMO4KRDKWe9/fnZCodQASKdBo\n",
       "/v///wW8ifb//7/omZdVCznzUgDwFTXUNxaUSygBLNgDCpRLKAFyE7CLt+yhxNQmoG4Al0x5ui0f\n",
       "zyMAAAAASUVORK5CYII=\n",
       "\" style=\"display:inline;vertical-align:middle;\" /></a> <a class=\"ProveItLink\" href=\"../../../__pv_it/_proof__failure_upper_bound/ada1d8f592cd467aa774d6a252a20095a8df37bc0/proof.ipynb\" style=\"text-decoration: none\">&nbsp;&#x22A2;&nbsp;&nbsp;</a><a class=\"ProveItLink\" href=\"../../../__pv_it/_proof__failure_upper_bound/6719dc813a6551f1dfb6e482a8e9388518243b750/expr.ipynb\"><img src=\"data:image/png;base64,iVBORw0KGgoAAAANSUhEUgAAAZsAAAA/BAMAAADETHiHAAAAMFBMVEX///8AAAAAAAAAAAAAAAAA\n",
       "AAAAAAAAAAAAAAAAAAAAAAAAAAAAAAAAAAAAAAAAAAAv3aB7AAAAD3RSTlMAq1RmmUTNIjK7EInv\n",
       "3XZ/CtNrAAAACXBIWXMAAA7EAAAOxAGVKw4bAAAGoUlEQVRo3s2aW2wUVRiA/93Z7czOXtqqqcFL\n",
       "WpD0RQ1oEBUvVFkboUJrfDNqF3kwYIQ1IUYScMeEGBMwrfriGiJrNCSmQgskPpDUNsa7EvqgUZtg\n",
       "W4kaawuFWlqKtJ5z5nZm50y70/3rcBLodjrn7Pn++7kAoLbIIATT1G2LMeofEFT7axHGjE4GhhPr\n",
       "wh/z45WB4aif4Y/ZCMG12wrYIypTAeIkG7BHrKgKECeM7rcrsgHiwFbsAX8p6a03yjZypV8oTA3Z\n",
       "dS6UEoGu21EuzvuN06LHCWTnCY2V9Nq5srWTEuJExnBxOhsCxYmO4+Ks1QLFgS9xcQ5CsDjNuIH1\n",
       "UsA4K1BLrOjlgHFyqFk8MhEwTqIXtcSZDhgnNo2JU9kXME7qAiZOrj1gnPA/qAVoiUVGT9nxNC4u\n",
       "npVLmDjnBkt6rfrU5jIDauimi9cKy8ErACy43YKB01wHAbdZgEfoz+dQigItaJyBArxKfsjtGIPt\n",
       "yAaNQ2ZQQeJMHMVMThXwJ1jvS0QHW0AiflmBZbnY7YENvl6vJWo5efr0d1cpzugJ8I3zKMC7VyWO\n",
       "2j3os0czsbQXQeYr0fvmSwqymS13EV/ZZ1uDiowjb/SdnihOrBBvAbXWzKzOqvSDjOPXjqM3gGTI\n",
       "TLmduv5RG+dfQ0nlN7bor7HjU2VpPaCHTC08SCNBPZnfUL4Fwtb8I3TKZ51lZQNshNGHjV+SBb1f\n",
       "EQ5Wq/EfbikOZB4k/zUBpGkatHFirKpz4kxATkvC/4OzAGNjOMfoSc+PkGK9KY56/IwHzhqCcwhg\n",
       "ZzqdbinGQQoF1J79hQK7B/Ud2E0igToGH7EnEsE5rIU8cAC6YbnEa+dpbBxqzybP6LC/HgwnpDGl\n",
       "PMGevEZ+qZaPe+Eo/bDzbuPjyDG6BB1GxqH2bKfRE7561JruFumC1fl8vk6pJiL//M4CrM8fyOdX\n",
       "unB2FRcy4e12kYOCs4bHgdVZPz0snOSTsE9f6BHLm/QMBXKDXDT+bkc9i9K6F9zDqukrUyT/mKHg\n",
       "LYg7cdQu6NCV8/reojnXixYIUovgO++acxdIdwLDnkVxTtwv6+gxYMo68jvI75g4H54ZNnDkTy7T\n",
       "6KJ8BfvZm6dmix2Ew2m2IJaLFvJzLr3ZEmWX2J5Z+03c7xlHD4e5d+QdaTRWWgXPLa7NPKFmBC8e\n",
       "Mj+Il4o097F6w23PTBhdEB/QXGGJZRe7hzvzRfsc+veDs9Y8Co+J8t/bJit3bCE3fpPlo36/0J5N\n",
       "Yax1PtJPebZxPeQr7o7bfTmh8qz9ubXKDg8uUcqkFpTTWzVO/eQteNycOg1BMCS0Z9rWgftYnG1P\n",
       "reJ6RM8LJuirVHqZ+9xpTrTJLUqaCYhvxCfk7udt0JCtB5XOrdMzNtLC+FcRToLrIs1gFlnJMSuv\n",
       "uUVZSeLE9QDfQwUnrhS3MtlCc7JXlUZVKk+JcPguEdR7ABFjM0+ZFoiyrcA2E2qzlZw4VW4Xdj0d\n",
       "wWsLhupWGhPhxDmJVKCeJkrGYV6qTyDKUfLvZpK3taccexU22wjt2esxNNVBqF2EI3GuWOomeYkV\n",
       "vbFFHMoIRFljJDoYUm3fWbrCnmIrIYt6HQEkiYUmBkU4YU4Cbbi3jE4acbpdIMq8boczsCluaUTK\n",
       "hOz5t2lzXIJJEM9rozFdfeE0bZqFo3ByO4e7b9mjT5ReZXGJcrMu5SrYe4/1LJcNTynmXY0cmbE8\n",
       "MQfOCIi0E+W0cwB3/ZjTGehdH5cof7D83Q7qS6g6bjSfkBmrE3MY25uq0Nhsf1HP4+JUZCztuETJ\n",
       "tCNZYYhdbxqnpvK1KQtNEECsgosIajwuDAW2VUvI97WkSQvHJUqGcyvw9Zg6RbxHmRnSTZTqU/G6\n",
       "9ETD8cSR4oeTRgg3pdmHi6PqR9c0DLhEuYS6bRek+Lw/RXJqqj/VAH/PF9kUMtNVRXFLP+VJ2muR\n",
       "HPZVx8d0I+gViJJa3550eiP/7FNYSspVKaNuIij3U/V65R342esPe7hIhEwDnSwWUBkXi5IJf2B2\n",
       "9qLDWs52QUKLVIWpWB+iluN5MWCV1x/W2bYxg41jZPUvPEKtqFVCou6l4flqNohl51j2GYVQHzaO\n",
       "Uak1eVRdwhBcuJedx8xTUavt82LmWtBxWtno+0XO7OEWyqZBhsNi+B3eI78ifvyn/bEanQbiLPOE\n",
       "REuma7x77aRaooL4qZws8S0+Drw3/16Buy3j9woW2nZri4BzWNPTpXDzwqMdOeHYyVlg27IINCBr\n",
       "/vfZ4iSeRWgQ2FDGF6v6V/4HAhky+ZH4jW8AAAAASUVORK5CYII=\n",
       "\" style=\"display:inline;vertical-align:middle;\" /></a></span><br>"
      ],
      "text/plain": [
       "<IPython.core.display.HTML object>"
      ]
     },
     "metadata": {},
     "output_type": "display_data"
    }
   ],
   "source": [
    "second_summand_bound_generalized = second_summand_bound_02.generalize([l], conditions=[second_sum_conditions])"
   ]
  },
  {
   "cell_type": "code",
   "execution_count": 27,
   "metadata": {},
   "outputs": [
    {
     "data": {
      "text/html": [
       "<strong id=\"second_summand_bound_relaxed_generalized\">second_summand_bound_relaxed_generalized:</strong> <span style=\"font-size:20px;\"><a class=\"ProveItLink\" href=\"../../../__pv_it/theorems/e5f8fae80d0c15a1e3af708f726b9705a021c1de0/expr.ipynb\"><img src=\"data:image/png;base64,iVBORw0KGgoAAAANSUhEUgAAAKwAAAAYBAMAAACVRAuIAAAAMFBMVEX///8AAAAAAAAAAAAAAAAA\n",
       "AAAAAAAAAAAAAAAAAAAAAAAAAAAAAAAAAAAAAAAAAAAv3aB7AAAAD3RSTlMAEIl2mUTdMiJmu6tU\n",
       "ze/kkN0jAAAACXBIWXMAAA7EAAAOxAGVKw4bAAAB3ElEQVRIx2NgIBnwNkAZjHMZqAjkYYxiM2oa\n",
       "exbOOkaaRsZQPJJNuer4je1pwKHTNhCfpXcIuJZ9lwBWcZ6PIMlELDItvssZGD7iNpbD5VYBAwPX\n",
       "BqzGMiUwMEj7fsSU4FjAoB/A+oCBfRUQrMBibBcD01eIfhzGMjBjMZa7gYHvAfMGcZyu3cHA8A7d\n",
       "WOZlabn4jeX7yMD9g8VAEaex7wUY9jegGst6WYCgaxMYuL+zexbA0sR9ZTQF2xgY9hdA9DMqm4DN\n",
       "6xUgGAhAwPaBQOLMh+oPK2BXAPFvwGVYLuA2tt4Av6nsn4FaHwBj9ycDcwBI4AJcqm8CbmOzCTiW\n",
       "DZi4OP4AE9lnY1WwNc/S0tKyQKzuqww4jWVZgCVPXksDAUiIe4EI6TsM/NC0ywjXwO4lgNPY2QQc\n",
       "ywk2TTeAgR8WWIhUAc4lWI3lUWDowGvsIQaOBnAuZQPG1wGQiDHh7MBQxMBgiDfCFBiYBRiYgFHG\n",
       "eYFBBFzk8B5AMZbpB7R0BUYl419o5k1xcUnAZ2ybi4sbVL/RTEgwMO4KRDKWe9/fnZCodQASKdBo\n",
       "/v///wW8ifb//7/omZdVCznzUgDwFTXUNxaUSygBLNgDCpRLKAFyE7CLt+yhxNQmoG4Al0x5ui0f\n",
       "zyMAAAAASUVORK5CYII=\n",
       "\" style=\"display:inline;vertical-align:middle;\" /></a> <a class=\"ProveItLink\" href=\"../../../__pv_it/_proof__failure_upper_bound/51ac940a640bfd651c8f73331846d694788932de0/proof.ipynb\" style=\"text-decoration: none\">&nbsp;&#x22A2;&nbsp;&nbsp;</a><a class=\"ProveItLink\" href=\"../../../__pv_it/_proof__failure_upper_bound/c266527b2eed4f60e89b4746b4330d6313fcc0b50/expr.ipynb\"><img src=\"data:image/png;base64,iVBORw0KGgoAAAANSUhEUgAAAZsAAAA/BAMAAADETHiHAAAAMFBMVEX///8AAAAAAAAAAAAAAAAA\n",
       "AAAAAAAAAAAAAAAAAAAAAAAAAAAAAAAAAAAAAAAAAAAv3aB7AAAAD3RSTlMAq1RmmUTNIjK7EInv\n",
       "3XZ/CtNrAAAACXBIWXMAAA7EAAAOxAGVKw4bAAAGoUlEQVRo3s2aW2wUVRiA/93Z7czO3lo1GLyk\n",
       "gIQXNUVTb/XSKisRKnSNb0ZlkQcDRlgTYiQBd0yIMQHTqi+uIbpGQ2IQukDiA0mFGO9K6INGbYLd\n",
       "StSIQAu4tBRpPefMzM6ZnTPbne5fh5NAt9M5Z8/3388FALWFSuBPUzfMxah/gF/trzkYMzzuG06k\n",
       "iD/mx0t9w1E/wx9zOfjXbilgj6hM+IgT78IesanZR5wgut+2ZX3EgfXYA/5S11uvN2zkypBQmBqy\n",
       "65yrJwJds6lRnPeXT4oex5CdJzBW12ujDWsnIcQJjeHi9Hf5ihM+j4vTqfmKA1/i4rwH/uL04AbW\n",
       "iz7jtKGWWOFLPuPkULN4qOwzTuwIaokz6TNOZBITJznoM07iHCZOrs9nnOA/qAVonUXG4YbjaVRc\n",
       "PCsXMXFGS3W91nJsbYMBNXDDhauF5eBlABbcbsLA6VkAPrdpgIfpz2dRigINf4JLPBnmcAFeIT/k\n",
       "Poyv3oS/eLt/pdcZNJE4E0Uxk2Poew+nD3m0jzRIxC+bsCwXtakDJY89Wolajh4//t2ViKOu8hwA\n",
       "Kc4jAO9cgTjqPO8e0EME8ALIfCV670wykc1suYX4yg7LV1Vk7cwSJ1KIpkFtNTOrvSr9IGP7dc/+\n",
       "60AyLFq5lbr+fgvnX0NJjTe26JctY0vW1wMOk6kFSzQSLCHzG8mnIViZf4hO+Yy9rOyCVXD6IeOX\n",
       "eEHvV4XjYyigOJB5gPzXDZCiadDCibCqzo5ThpwWh/8Jx3ugZjgH6EnPj5BguqU46sETLjgdBGc3\n",
       "wOZUKpWuxkEKBdSevaVRqwf1HdhKIoE6Bh+xJxLB2asFXHAABmCxxGvnKWwcas9ckaN56cFwAhpT\n",
       "yuPsyavklxb5oBuOMgSb7zI+njpAl6AnkXGoPc+2R6sZDENFuDOfzy9QWojIP7+9ACvyu/L5pQ6c\n",
       "LdWFTHCjVeSg4HR4xulw4sSfgB36Qo9Y3rhrKJC75Ko6c6utnkVpA7PuUanpkwmSf8xQ8CZE7Thq\n",
       "Efboynlte9Wcl4gWCFJa8J131NwF0p3AsGf2ncdZM8eUxf2yXA8iUFPWod9BftvE+fDESQNH/uQS\n",
       "jX3KV7CTvXlsutpBOJyeCsRi0UK+5tKbLVG2iO2Ztd/E/Z629bCZ+568LY1G6ltfcYtrM4urGcGL\n",
       "u80P4qUizX2s3nDaMxNGEaLDmiMssexi9XBmvvCgTf9ecDrNo/CIqOx7y2Tlji3k5d9k+ag/JLRn\n",
       "Uxid9kf6Kc8Grod82dlxoycnVJ6xPq9ptsKDQ5QyqQXl1HqNUz95Cx4zp05DEIwI7Zm2ZeA8Fmfb\n",
       "U+1cj/BZwQQ9FbIvcZ/7zYl2O0VJMwHxjWhZHnjOAg1YelDp3PpdYyMtjH8V4cS4LtIUZoUVH6vk\n",
       "NacokyROXAvwPTRx4kpwK5N1NCe7LU6oSuUJEQ7fJYR6DyBkbOYpkwJR9hbYZkJrNsmJU+V2YVfQ\n",
       "Edy2YKhupTERTpSTSBPqaaJkHOYlBgWiPE3+3Ujytvakba/CYjtFex5xGZrqINAnwpE4V6x3k7y+\n",
       "JhtbxIGMQJTzjEQHI6rlOwvbrCmuIWRhtyOAOLHQWEmEE+Qk0It7y+ioEaf7BKLM63Y4BaujFY1I\n",
       "mYA1/16txiWYGPG8XhrT1eetWoHhKJzcRnH3LQ/rE6VXWRyiXKtLuRm23115lssGJxTzrkaOzFgu\n",
       "18A5BSLthDnt7MJdPOZ0BnrXxyHKHyr+bgX1+VQd15tPyIzVcg1je0MVGpvlL+pZXJymTEU7DlEy\n",
       "7UiVMMSuN52npvK1KQtNEEAqBRcR1PmoMBRYVi0h39eSxis4DlEynJuBr8fUCeI9ytSIbqJUn4rb\n",
       "pScajsv7qh+OGyHclOYgLo6qH13TMOAQ5XzqtkVI8Hl/guTUxFCiC/6eKbIpZKbtVXFLP+WJW2uR\n",
       "HPZVx0d1IzgiECW1vm2pFL8PAJ/CQlKuShl1NUG5j6rXLe/Az25/2MZFIuyNpH4WC6iMq0XJhD88\n",
       "PX3BZi1nihDTQs1BKtYHqeW4Xgxod/vDMss2prBxjKz+hUuoFbUkxBa8eHKmmg0i2RrLPqMQGsTG\n",
       "MSq1bpeqSxiCC/ew85gZKmq1b0bMXBodZw0bfafImV3cQlldYjgsht/mPvLL4sd/Wh9b0GkgyjJP\n",
       "QLRkusq912aqJSqInxrJEt/i48C7M+8VONsifq9gtm2rNgc4ezU9XQo3L1zavkO2nZxZtnVzQAOy\n",
       "5n2fLUriWYgGgZUNfLGqf+V/fEk4FKQsLocAAAAASUVORK5CYII=\n",
       "\" style=\"display:inline;vertical-align:middle;\" /></a></span><br>"
      ],
      "text/plain": [
       "<IPython.core.display.HTML object>"
      ]
     },
     "metadata": {},
     "output_type": "display_data"
    }
   ],
   "source": [
    "second_summand_bound_relaxed_generalized = second_summand_bound_02_relaxed.generalize([l], conditions=[second_sum_conditions])"
   ]
  },
  {
   "cell_type": "code",
   "execution_count": 28,
   "metadata": {},
   "outputs": [
    {
     "data": {
      "text/html": [
       "<strong id=\"second_sum_bound\">second_sum_bound:</strong> <span style=\"font-size:20px;\"><a class=\"ProveItLink\" href=\"../../../__pv_it/theorems/e5f8fae80d0c15a1e3af708f726b9705a021c1de0/expr.ipynb\"><img src=\"data:image/png;base64,iVBORw0KGgoAAAANSUhEUgAAAKwAAAAYBAMAAACVRAuIAAAAMFBMVEX///8AAAAAAAAAAAAAAAAA\n",
       "AAAAAAAAAAAAAAAAAAAAAAAAAAAAAAAAAAAAAAAAAAAv3aB7AAAAD3RSTlMAEIl2mUTdMiJmu6tU\n",
       "ze/kkN0jAAAACXBIWXMAAA7EAAAOxAGVKw4bAAAB3ElEQVRIx2NgIBnwNkAZjHMZqAjkYYxiM2oa\n",
       "exbOOkaaRsZQPJJNuer4je1pwKHTNhCfpXcIuJZ9lwBWcZ6PIMlELDItvssZGD7iNpbD5VYBAwPX\n",
       "BqzGMiUwMEj7fsSU4FjAoB/A+oCBfRUQrMBibBcD01eIfhzGMjBjMZa7gYHvAfMGcZyu3cHA8A7d\n",
       "WOZlabn4jeX7yMD9g8VAEaex7wUY9jegGst6WYCgaxMYuL+zexbA0sR9ZTQF2xgY9hdA9DMqm4DN\n",
       "6xUgGAhAwPaBQOLMh+oPK2BXAPFvwGVYLuA2tt4Av6nsn4FaHwBj9ycDcwBI4AJcqm8CbmOzCTiW\n",
       "DZi4OP4AE9lnY1WwNc/S0tKyQKzuqww4jWVZgCVPXksDAUiIe4EI6TsM/NC0ywjXwO4lgNPY2QQc\n",
       "ywk2TTeAgR8WWIhUAc4lWI3lUWDowGvsIQaOBnAuZQPG1wGQiDHh7MBQxMBgiDfCFBiYBRiYgFHG\n",
       "eYFBBFzk8B5AMZbpB7R0BUYl419o5k1xcUnAZ2ybi4sbVL/RTEgwMO4KRDKWe9/fnZCodQASKdBo\n",
       "/v///wW8ifb//7/omZdVCznzUgDwFTXUNxaUSygBLNgDCpRLKAFyE7CLt+yhxNQmoG4Al0x5ui0f\n",
       "zyMAAAAASUVORK5CYII=\n",
       "\" style=\"display:inline;vertical-align:middle;\" /></a> <a class=\"ProveItLink\" href=\"../../../__pv_it/_proof__failure_upper_bound/6407724e35acaec45bcad247fa0472f7f325f4e60/proof.ipynb\" style=\"text-decoration: none\">&nbsp;&#x22A2;&nbsp;&nbsp;</a><a class=\"ProveItLink\" href=\"../../../__pv_it/_proof__failure_upper_bound/287051db1a127dd85183d9c764b48f881f018a3d0/expr.ipynb\"><img src=\"data:image/png;base64,iVBORw0KGgoAAAANSUhEUgAAAZIAAABLCAMAAABtGvGbAAAANlBMVEX///8AAAAAAAAAAAAAAAAA\n",
       "AAAAAAAAAAAAAAAAAAAAAAAAAAAAAAAAAAAAAAAAAAAAAAAAAABHL6OuAAAAEXRSTlMAzUSZq1Tv\n",
       "EGYy3Xa7iSJQQBQRrlsAAAAJcEhZcwAADsQAAA7EAZUrDhsAAAhPSURBVHja3V3ZgqwoDAUB2YQZ\n",
       "/v9nx71ciBCXEZuX6+3GqnPIQgKBJmRutCKfbt7IC2+/yh6Azjj5eHMXGLzMPgpd1PLrIiG1Ovvm\n",
       "6+wj0GWUjmfbHzQlC64K/tyL77OPQOc01lHZ9f+1MEXbEm9Ovvc++x10HWKzmzVMbH5Utkh8EGde\n",
       "K4H9DjpdqYl0jvPu283uzbJFQhpzKtoqgf0GulirSedDWdtD0sGlDq36gEh0sCfm9iLYb6DTtYQ6\n",
       "iD5oIhhR37IS0tQnjKQM9ivoW91ScgDlmVrHAdrWThQtEoGfTUphv4LOw176zpBPtkDRsU4p7BfQ\n",
       "ZdjHjtp8NHPkrX7jcpJi2C+gq72xl50SHudcDvdCOewX0Jud5XZ5q/fflElATvAFsZ+hy2B2WqK1\n",
       "Zv+bptzrJhqc53qaPYbcDF3tTL0OXft/5CE5o+FOkVic53qUPZLcDJ2HlzdK7K0i0biY62n2GHIz\n",
       "9DqQvyQSElAf9zR7FLkR+t6ZflwkFKP3j7NHkRuhi9D8LZEwzDrX4+xR5EboDBvIly4ShRnlx9mj\n",
       "yI3QaRB/SyQak5k8zh5FboReY1cgSheJxESwj7NHkRuhRwMUGoBmyxdJy0gj+j7MHkeuh+6jOiXC\n",
       "hpf0leVtElV/QCQm3xk9zx5Hrocu4lEgD7GfK/OE671bJDRfm59njyPXQ7dAsmtCiJV7sQdiRhfu\n",
       "XePj+VHU8+xx5HroDggZdWu8seImdvcSKW89AuXqxk9kgecP2LPsseR66BzCb1tUMQCKlN5c/ipX\n",
       "aex76E1gwK+bEL652etg3IL6Dcey2PfQKQhKtiEG+6JILBQZKbPdBimNfQ/dwHNh1Rqv+KBIVDxX\n",
       "tMbJ/TReFvseen0Qnrg2Epd/QyTSGRtN3stiP4rEHoXJ+Bqc95vYiUQyo4D1lLLYi0EkB0FE51Dd\n",
       "50UiOYU8UGnse+jhCNR+aeELrdpaCSyS0thXg0jEce7yvelE79YSPeS4SmPfQw/hn8NOJrX+Gcpo\n",
       "C0T/RpZ3gem9CPZb6KlIz38vX9TxgohYEFwae50jElsXXfU4n89Z88pNFd9kD0I/jDm6+abs2X06\n",
       "n3M4vS8XVHR+xPUwexD6MShdevo+nc/JFAkqCH6YPQjdHEfmtmyJzOdzTorkTfYg9MMtOPqJZcft\n",
       "+RyRvyH7Nvso9OYgQW0Qm2iqur9nzPtunyK16WoTJkmzaGutvIk9KgbwKegcXoJm0Tr8uHsV2Rol\n",
       "zuueb/ZPkfM5FrOFdQd7i5pyKpuADu+KqmgAqKJfL7MHYdeTIlTsd1/D/BQ5n+Pyyx1vYS/c4INS\n",
       "4dlkE1YdQwfxxwNAEXfTTfYG6LanhKZiz2jdbIflp7njU+x8Dsvfe7qD/aRk6jCoWB41ofIQugKs\n",
       "PHr3hQTY+nqarVKaMvb0jNFGD5kCNFrtuPCdYfPNU+x8TpNfNHQHezYqGUt5irl+SLFD6FU8PIkE\n",
       "gF5waGWUOZKjKXPPfipwbWDunaEuLkUec+VyXiqRcH0Uos73DvbTJxibKxICrmX20OP1fu3v6LIZ\n",
       "M8gUWPKZT3QkNWXoyXuHVHdkwHVzG/XyVO2f9vlfds59A/vJzH3yW38iAbEP0KPFMQxatVTxLFdm\n",
       "asrYs+7/4d03g8ouo7r+K26Dy9wwx7Cus588RNJBLEQC3q83QDfXD+tZQzI1ZezJzRCBalLBWV0T\n",
       "G1lb7592mo8o3b3OftL49F1gP5Eoegidh8vlYvMNY0lNWd1FZkLvnmRUjIJHD0hVM60KsoUKs2N+\n",
       "nb0ZjTm9+vITCRC3TtDt9XKlOc9NasoyI+6vk2GWuNjQdnoUu9xEz3aoIYtEnbK+zr6uRjj+FxXH\n",
       "Vwt+ItHhEHp1vQyDTq4xqSl04URN96yZ0lEL9t2CjyaaNptfVLunneIjkunr7EeR2JrkWwnkrkfo\n",
       "8vqxe8NIpqYYRuDpWf6Gpze33g642/Spdk+76QF/7um642paD5zvuMwxdLMYSJ4JUK4mqEn305ry\n",
       "sxLFYdG2kYeazLvWGyvRiVBC4g7mnGC/Jt/YCbHLFolqjqG7xQwnjs14GjJtrYkMdFpTZpH060Lg\n",
       "3TGyH+6OeTvh2GXS+DNEDRzcEAF1C3M+e4D8GNCGStrkV/ltag1ArxYc2LGkf8Jdmd40q6c1Zeqp\n",
       "+34WFGAvki6LtEYS2w2GdZkRF8dtBeazB8hrMy6SpKgvjpqYKgF9cWdFpK90alq6hFBNDiutKWNP\n",
       "b/orLOHqD2e7MHhcpeysRbJBfqr+LdVCCTByej5in0GeGPT+vDcpKGz2ysOyLGumprr9n26OPUY1\n",
       "KWxSU6aeZkiGD/yEs4NZdFNJdx+8mNb2Zp0GbonXAXl7/IY9mvy4iIj6SpWC/rstLeJMOSfepRSl\n",
       "zk6Ba2Sy3M/wgng6OrnkGpfFljAcsc8iTxpkYZFvSBJ6XcPOtGZKyEl76lF7tqhYdnLGkHXP7VTS\n",
       "hyd0UuTUSjBFH4Q+YJ9FnkjkoVJIhEvodgrxTSW3truKayBF0dnjoJEjppntpye6DZ0V5LfQte5r\n",
       "9njyrdqjKlksIJE19MmJBbL78KYzJpdCxbO9BT9VGjX9kQQz0zEeCFrwZdUw+zzyN7U1dDf+j9l9\n",
       "zMGsmoPVCZV3NLgl/gt771lNDIKM7L1vE5oTfxoGZp9H/p62gS4zzR12miLbXwj8KRppnVzPi/AM\n",
       "6c8MhrtG/pa2hZ55rcRBuPdoHdcY9fxqB6ALSmt2bjTkNfJ3tB10873zb6fHNhLXuQKhi+C/LxF5\n",
       "dj/qffYx6Kz5vkj4aQ6vs49CN+rrEqkunCt8mX0cuv78X/EzFyobXmYPQK8+PpvIS7Umr7JfQf8P\n",
       "D15zSGP16NMAAAAASUVORK5CYII=\n",
       "\" style=\"display:inline;vertical-align:middle;\" /></a></span><br>"
      ],
      "text/plain": [
       "<IPython.core.display.HTML object>"
      ]
     },
     "metadata": {},
     "output_type": "display_data"
    }
   ],
   "source": [
    "second_sum_bound = second_sum.deduce_bound(second_summand_bound_relaxed_generalized)"
   ]
  },
  {
   "cell_type": "markdown",
   "metadata": {},
   "source": [
    "### (6) Bound on the Sum of Summations"
   ]
  },
  {
   "cell_type": "markdown",
   "metadata": {},
   "source": [
    "Now we're ready to invoke our `deduce_bound()` method utilizing the bounds we've established on each separate summation.<br/>\n",
    "The following three steps correspond to the transition from (5.30) to (5.31) in Nielsen & Chuang (pg 224):"
   ]
  },
  {
   "cell_type": "code",
   "execution_count": 29,
   "metadata": {},
   "outputs": [
    {
     "data": {
      "text/html": [
       "<strong id=\"_failure_upper_bound_lemma_inst_bound_01\">_failure_upper_bound_lemma_inst_bound_01:</strong> <span style=\"font-size:20px;\"><a class=\"ProveItLink\" href=\"../../../__pv_it/theorems/e5f8fae80d0c15a1e3af708f726b9705a021c1de0/expr.ipynb\"><img src=\"data:image/png;base64,iVBORw0KGgoAAAANSUhEUgAAAKwAAAAYBAMAAACVRAuIAAAAMFBMVEX///8AAAAAAAAAAAAAAAAA\n",
       "AAAAAAAAAAAAAAAAAAAAAAAAAAAAAAAAAAAAAAAAAAAv3aB7AAAAD3RSTlMAEIl2mUTdMiJmu6tU\n",
       "ze/kkN0jAAAACXBIWXMAAA7EAAAOxAGVKw4bAAAB3ElEQVRIx2NgIBnwNkAZjHMZqAjkYYxiM2oa\n",
       "exbOOkaaRsZQPJJNuer4je1pwKHTNhCfpXcIuJZ9lwBWcZ6PIMlELDItvssZGD7iNpbD5VYBAwPX\n",
       "BqzGMiUwMEj7fsSU4FjAoB/A+oCBfRUQrMBibBcD01eIfhzGMjBjMZa7gYHvAfMGcZyu3cHA8A7d\n",
       "WOZlabn4jeX7yMD9g8VAEaex7wUY9jegGst6WYCgaxMYuL+zexbA0sR9ZTQF2xgY9hdA9DMqm4DN\n",
       "6xUgGAhAwPaBQOLMh+oPK2BXAPFvwGVYLuA2tt4Av6nsn4FaHwBj9ycDcwBI4AJcqm8CbmOzCTiW\n",
       "DZi4OP4AE9lnY1WwNc/S0tKyQKzuqww4jWVZgCVPXksDAUiIe4EI6TsM/NC0ywjXwO4lgNPY2QQc\n",
       "ywk2TTeAgR8WWIhUAc4lWI3lUWDowGvsIQaOBnAuZQPG1wGQiDHh7MBQxMBgiDfCFBiYBRiYgFHG\n",
       "eYFBBFzk8B5AMZbpB7R0BUYl419o5k1xcUnAZ2ybi4sbVL/RTEgwMO4KRDKWe9/fnZCodQASKdBo\n",
       "/v///wW8ifb//7/omZdVCznzUgDwFTXUNxaUSygBLNgDCpRLKAFyE7CLt+yhxNQmoG4Al0x5ui0f\n",
       "zyMAAAAASUVORK5CYII=\n",
       "\" style=\"display:inline;vertical-align:middle;\" /></a> <a class=\"ProveItLink\" href=\"../../../__pv_it/_proof__failure_upper_bound/9f19b5981ff75bd51f12a2e5c25834ae68a6d4320/proof.ipynb\" style=\"text-decoration: none\">&nbsp;&#x22A2;&nbsp;&nbsp;</a><a class=\"ProveItLink\" href=\"../../../__pv_it/_proof__failure_upper_bound/bae4487e58753c557527caa6435d31601a3088f30/expr.ipynb\"><img src=\"data:image/png;base64,iVBORw0KGgoAAAANSUhEUgAABHAAAABMBAMAAAD3r10sAAAAMFBMVEX///8AAAAAAAAAAAAAAAAA\n",
       "AAAAAAAAAAAAAAAAAAAAAAAAAAAAAAAAAAAAAAAAAAAv3aB7AAAAD3RSTlMAzUSZq1TvEGYy3Xa7\n",
       "iSJNjWSlAAAACXBIWXMAAA7EAAAOxAGVKw4bAAAUrUlEQVR42sVdfWxkV3U/45nxfHnGDgXaphT7\n",
       "D5R/+LDDBhFlF3aqLqRq03pQAkWRwFahCRDAkyaKUmjqSQhJ2lSsq4iofFR2s4gNi4ItdZWgXdH1\n",
       "HzQNlcVOpSAgEdqBFQjRpPYaf6x3Y7++9+bd73Pvfe/NXPtKO3t85s45v/u7591373333QsQpNcB\n",
       "nl6nCPuXaidN37oG9JumDMOMBzJjFr0uQ288pLWa2DvKQ7aO/4rqdRmcphcN3zkHVK0rMF40/uAG\n",
       "m/4GFzykt5rYO8bDh5r4j6hel8FpGmzpv3MP6BMKDBMeyN9p0esy9MZDequJvSM8FD6B/4bqdRnc\n",
       "poE97Vf7AGi8I8Mw4AG4r2XR39dywEMPVhN7R3jIjeC/oXokQ74j/l1xgPkW7TccoNpEJLzS30Yo\n",
       "t6zAuMWQ/Y9seiTDR6W/lxLzwFu9SAj5L0e1oArzmg4W1SMZHuL/uN+vx4n+B85qQ/cNB6gY0V26\n",
       "vb+BU9tUYOjxQGndokcyFHlWCw/6HbfEPPBWH4/+//JJR7WgCtdofnINaDMUaLc5gH92AeDt/Q+c\n",
       "oQWwIQM4865IKPe52/PfCgw9HsiMWPRIhnuJEFxzXzvj3wPaSXngrFZOkOo86agWFCGvuVqoHsmQ\n",
       "JVfLUJjBt5Tpf3e1dBXMyB548WYog6PAmV+SYWjxAEyNWfRIhncSIbwp3u7/+92EPBCrhZ8dawKN\n",
       "rpOOakERMpqApnokg19dhZ98lw+caqP/Tc7zYEY2ATfB3f7d/dChQ2N9D5yhaQXG89rM19r0SAa/\n",
       "EA883uID50cJeSBWs5BdKIxAzefhnX0PHKT4z0uXlu6SQzL8HOBzczk+cPIOOjlTDTOydVidu7Xo\n",
       "qMXJbyowdHi0bYKpsaqNQOFbUOcD59aEPBCrw2O1nfxEy02LgxQ/EiY1jFM9kuFtAMdqP+EDZ2C5\n",
       "/4EzPGJG9qgfOBe/FJH47I/67P2SAkOHB3LbFj2SwScsV39VaHHelpAHYrXYrO3UbozGuV/7TMNR\n",
       "LUhC4TXNXMlrshDWz4qffgi3AXzsi004svL8ykorDJySg8DJ7ZiRAbzkcAZjck6GocEDMLts0QsZ\n",
       "vh5w2MnXYfDGv4TsysqnV17oBs7Xk/HAWa0uuONBLX5XKG7i+akey+AXcU/sHLu4VQ3smpFB6aTD\n",
       "wBlvyzA0eACONyx6JIN/pQ13xM7xrcl44Kx+1eFMulr8rjCkaWapHsvgd47/E6p84FSWHGDeMiPr\n",
       "96Sf1ERPKzC2NFnPNy16LMMCDDWgzQfO2WQ8MKv9nvTTeBeFWU0rR/VYhqEO3PPd56LAqf3P7lKg\n",
       "6X86P2dEVpuoddzxNbSjwMDxQOEKmPVohh9C4fDjzShwXh19OdAk4oFZvQj/5zBw1OKHwvE23toR\n",
       "PRP45qvNz+ME6e8SYYnZtJ5Dp8QooFe+8kSqJiee98quAgPHA8Vd/M5J9Ezg09uFeZwgEJZ1OHG/\n",
       "1GrtB195tzsekOKHwmQ4iVT441HJyuSYLPDpvUCmECRFnKQ6003CocMJCmjG81LQFdd76ZICA8cD\n",
       "ue6E5L3Xb6N6TuBTlrSWE7JCwYn7pVYHPW/NHQ9I8UNhhkSRZGVGEfhUlXIXxxKBPhcP8jDa/5rp\n",
       "te2N6d1ryjBwPDAYVVtlG9czQUg/lv5+SIsT9zu4tj88qMUPBHqjlKyY788Aks+CE8iZ9QQ9ir57\n",
       "Hx2TYWTWjd1BOXCM3USVs6YWJ+53dmF/eFCLHwj513ArVJ9/zUF/KybkLDYj2zugmN6PLskwsvgM\n",
       "8dQyHjhEz4SUOHG/Ka2mrwVByO7iVqg+u3twgVPEYqR3QDG9H1+WYRTxmD3axgOH6JmQEifuN6XV\n",
       "9LUgCJlN3ArVZzYPLnBK2ARG74Biep+flmGU8AmV0QYeOETPhJQ4cb+jjX2uBUEY3MGtUP3gzsEF\n",
       "TgEbNfUOKKb32TUZRgEfxc3M4YFD9ExIiRP3m9Jq+loQBNpTlqwYRxIZj0tL7iCDN2ccao1yMK72\n",
       "fzSxo8Dw5kzDLzlw6LDMQxzGwM5won6ZVbc8IMX3hdU13ArVryKDvrwXcfr3b32/N+0wcBaR1pgD\n",
       "NBWVpPCL0zNbffde3lRgYHigRi5EKXCovoY1GDGwM5yYX86qWx6Q4vvC1AJuheqnsEHfJBsS/+Om\n",
       "w8AZRZozDlDOo3JxsdFv75mrCgwMD+Sv4IFD9XlsAiEGdoYT88tZdcsDUnxfODeCW2F6bNay7NWp\n",
       "fMRh4EwiAwce0OIGG2wt99t7bleBgeGByiU8cJj+EnodW7EznJhf3qpTHpDi+8IF4udCR8jM9BiQ\n",
       "kneZIe0kD5wLMX9ztI78lgM077Wo/N5+e89uKDAwPFAlo9TqnkaPjqbt2BlOzC9v1SkPSPF9YTKS\n",
       "j828viVEWV0WxGD1mNNW4riRnemLhjR3PKCKx+qq2G/v1UsKDAwP5KIAy73/0p9geiaILYYNO4cT\n",
       "88tbdcoDUnxfOK9ZgEX1eIYhbwH2IV1YMCAL/7jiznn1igIDwwNDv8V/T/WaDAmwY34Fqy55QIrv\n",
       "C6OawKF6PENh5rf7ETjnpg3IgnSfN+HMeWVLgSHgyb856kRrqKB6TYYE2DEeBKsueUCK7wuLmnlr\n",
       "qtdkGPca+xA4x+nQe6AFGKABb9OZ86KnwDjOzU0UT0R9y7LmGQjVazIkwI7xIFh1yQNSfF+Y0QQO\n",
       "1WsyVL079zVw8kuAArqw1TyYwKk8QxwPagKH6nUZ4mPHeBCtOuRBEziaiV+q12UYvbQPgTOFBY4A\n",
       "KOONuHKe9xQYDM8D32YBopmspXpdhvjYMR5Eqw55QIrvCzOajjXV6zLc57UPKHBaYmdr9yAC556n\n",
       "uQC5rAmcy5YM8bGjgXN5n3jAA8fTxAXV6zLQxw4u0zhCmARoyptz5HzAU2AQ4d43cPmGNXFB9boM\n",
       "8bFjPEhW3fGgFj8QdH1cqtd2go9uud+na34bCRwRUNZZZ6tEnyJSGETICYGj6ZdSvS5DfOwYD5JV\n",
       "dzyoxQ+Ex7rkhA9Wg3gqRF2Xxwhpj+nCo6x/Lu71nrqxfX+3dcmeOvXNT506VUcBLV515L3wGLF4\n",
       "f0sWLnK3quKj3YoMfxlIsyO8nhPUsav2WfawlQfZqjMekOL7gjcmuTsReSV6JQNJtStwMC2OBGh1\n",
       "Yf9bHKFzPCyvCC5PiPrhdZ2LuNjRFmd9n3jAW5z0t6rKZw8ocCRAz3YOInC44Xj6W1Vs7DFuVe54\n",
       "6HfgjDvrjAUbJkUA16yBM7DjynuJdo4pjHlsAjB94MTGjvEgWXXHA1L8+R6G4yV3U5XBhkn60YQE\n",
       "aL7hyrthVNWF9Ps9Dsdt2FnVjVuH4w55wEdV6edxlpwFTrBhUtzAKdzlzLstcHqfx7mrlwtImse5\n",
       "ax9qgRcWaTU8IfbRW7Igpd9x17N51Bg4IqDMhDPvcQOnTGuwNIHqy5rAMWKvLs6ZLyDRqkMe8MBh\n",
       "ixK/IfzMvFoSYGjZZaeYbJg0NU1v4S1AAa24856nT8cpDIaHrzM6Di7XUX1GM+g2Yz/OVR3Gg2h1\n",
       "ZT9qgRfOkwcHFTFwqP48/mThJjabgt5c0ZfJHzLBzNIPtu3DcWSIKQDKsg0i8r17nxC8F+l8A4VB\n",
       "hM+dCtK3omuITvafEQKH6ofwpwEa7CRdz1UdxoNg1SUPavEDYZI0cf/yesEA1U+ibWCRjcWLaOBg\n",
       "u0uZd+2qLZMPtmEStuBZAPQIG4N+sXfvrwDvnS3qNS/AzpGFMaUH66g+h6/H0WAn6dtc1WF+Basu\n",
       "eUCK7wt0GWlbDBzzMlt+LP4htN+HMXw3Ed6MYn6cfLANk7AFzzwgbgyan47pPdPReg+3aafe2aJe\n",
       "8wJsuja5mqmj+uyGZSyeR+6AtR2u6jC/vNU0PBhqQeQBKb4vELnSEQPHzBXbsB7uQS+nIaxL/QIp\n",
       "D9/FvPhGshFVuOFs8ME2TDqKXB08ILZbfYHPavQ+y5fj+k93eO/BFU69Z2nJqG0MDwuw/xADx7JY\n",
       "XYOdNuRrXNVhGXiraXgw1YLAA1J8XzgeBeWvQQwcomcCOhav3YY/JP9VOCyQos2/FmqH3jQHed5k\n",
       "e4BMVlTq0QfbMOk80jPnALEx6C8n+YfDOu8Xr/8BwAd48uEtTd77aeC8D9HeJ4WB4YFidEurtcTA\n",
       "IXom4ONnETu9Ey1zVYf55awm5cFaCwIPSPF9YTxq2dpS4BA9E4Qx1zVhuvabnoevWn9POCyQ2tZ2\n",
       "cPesrtde+kOuMDez4m+TD+YH6T9xgDKXujhO+YW8Yvfu378vjL36bz/laqcpep/lH6Cy3Q3MuwcM\n",
       "bJEoFAOH6JkgjLk02Ok0zRJXdZhfzmpCHuy1IPCAFN8Xohdqix0pcIyvAGf5J6gtfPaoOyzg07Df\n",
       "xf8LgDsgw9Nwmom/Rz/oZB9yKXKAjnIwLtu95zowOA38iohKXfSe4QvDdjcw7x5A3sX9khQ45leA\n",
       "ddjpTHDHwgNnNSEP9loQeECK7wvD3Rdy/hekwBnek4UkqbTdHRaIVPhhPNOEyc4wH8+zDP8R+kES\n",
       "9ra+HZDO++A25PaAb9IK3HOTwLHwGiTb3cC4e4CvDeu4tiQFDtB3z7xOcgqftfFgt5q+FsTXQdXi\n",
       "+0K5+3D+LceObf25MO25LgtJUmWhOywQ0hn/358GO5ZfJ3Sjt0WueMJqWBtvB6TznluA3M6AcOvl\n",
       "NiAOHFf4L1enZRg1/I3+xXC2ZODYscmPt1U9LyRI3y9YeLBbTV8LAg9q8QMhR5u2j4t9s8uykCQF\n",
       "R9gV5XtcdJzbIpwusJY3/z42OBhvkg9yG8d6lXZABu/ltUr9b5nyNm47tMDxAN8cjY/IMAbwBfqT\n",
       "pGEfrOP6yVZyCi9XLTzYraavBYEHtfiBUKFjTnHMSPWVNG/eBQ8kcvI4vjsrXroKh7k9Sx/kzhiZ\n",
       "nyMfxDc25WoHZPA+v5RdYrt9Fke40zkCxyX++qTb+lIYFXwK+BwZpQ4v4/pzKR4krX/ewoPdavpa\n",
       "EHhQix8INIqOeH8GxjBLkoKb/aA8hOx2osp1eOIfWDO4B1Nz/xwVbnWMfJBLBlu6YQdk8P4NKN3I\n",
       "InO1k98pvQmY9xp/G5xsyDBy+FIS0jRlz28sYXomJEhfaFt4sFtNXwsCD2rxA0GzO5l1+zJzChZP\n",
       "docFd7OnOidA6PyGK3P9C2J+LhdxNDtGPoiZbRMyu/fCtaH3OeqddfpC77cElxbp2gWOCzxhi00Z\n",
       "Rhnf53hWs+Ew1c/2uCMx7tdqNX0tCDyoxQ+FRU3fnOoXtZ13/cGzQaw/C1isF+t8sWC4BfMwGLUB\n",
       "4bPgVe5WNTutR3YvQtv9IxbvDwukwmUorcEngXnnu5KFLQUGjgfKmnEe1Ze1A8F4hxjjfrtWU/Fg\n",
       "qwWhS60WPxQuaLpYVN8VJHzhMZDIwbMc5O8XMMgfAeHgjtk5//46f/ZmNnXBz19M1fXI8mJDTU+V\n",
       "NXnPt4XTMgo7fi+ndPV0k3ovcTWc31Bg4HigqumuU31XkKs4WOCHHGIcHAgsJdxv12oaHqy1wPOA\n",
       "FD8UxnEymL4rKPiyC9LBszzkoEvGDwvCFJxXXWpDhb+2hufgDXCm+e9QaSOjqsmGHllWXO5Bzz8y\n",
       "ef9XgOd43Q5kGpWTlQn4HjKaYB0LCgPHAwMbYNZ3BYnCcIGfdIgxORBYHj819ObT8GCtBWFUpRY/\n",
       "FHQnAkgHEUj4gmMgpYNnecjBPAA/LKATBL85dOgm4apZytfhBT/e7/Fr9JFA8wg/ZWlAViZ9IelU\n",
       "WYP32olDhxZ43ctwGwy1iiOFw82u4+I0QoDlWIs4+hmEwnBtpnSIcdgFuz2u/ZmUPNhrgecBKX63\n",
       "OJrV8VTfFcribFNwDKR08CwPOYjYL8grwIJQXvQ8cVD0sn+xfxJugA/78g1APqL2e8OAbDY4lXBl\n",
       "5QX5VFmD97Lnia/mV8+2/Vt7tp5vRY6zXPM7X5dhaPAAHJ2z6ENBojBc4CcdYowHjs5vaDUFD/Za\n",
       "4HlQi98VdOf2SQfpUXyU9AXp4FkeMvwV1lLoZjrX4K9rf9BUn1VVNg3I6ENu6VTZpN6HYbDx8+dA\n",
       "fUZzriHDqOhe7BhvW/ShMOsPZgIOmY+XQDrEGA8cnd/Qar94EGqB50EtfiTcoTF0hyB8QP76q03p\n",
       "4FkB8nuwlkK3vcXJ4jKMIE/HM9MGZNSDdKpsUu/l5j9BBpCnwm9UYOjwBI9OzfpQUCgsnQTpEGM8\n",
       "cDIm8/3iQagFnge1+JFwThOCVB8KFEP3DFtlCC5BfhIxWNLx/sRZCCCHY8Qif7NoG5A91YyawD2l\n",
       "U5jIe+nwUhg4oeOHOf2uAkOHByrrFn0oUAqjo5TlITh/ILCQdH5Dq/3iQaiFhzHvsjCsGVZRfShQ\n",
       "fHQORz4GUoCcw8YB79PPVATzGeWgAStzw0TdieghoDUyJSqdKpvG+0Xi+DvcoGpbgTGpnWvZsOk3\n",
       "QgrFWxVypCje4mj9bvSZB1oL38G8y0JVcwww1YfCmjh1jRwDKUA2r3ZVU77BrTkmwwRddYSADpMG\n",
       "UTpVNo33DwK31pbMbdRlGFo8ABeaFn0gSBRiR4qigaP3G1jtJw+kFnge1OIToaDpHVN9KBwWb2jI\n",
       "MZACZPgIhku7h1fhe03+LYeoJdbNt2KIh4S/knn//I+F1f3R/bAjw6joFwLNti36QJAoxI4UDUCE\n",
       "BwILd6S9BG574YHWwiuYd1XQ7cxO9fG2bhchJ3yjxx8QZAMvWc7VoPbpLwIo24P3aityzDeiH1Ng\n",
       "6PEo58Yoel0GrMVR+sATCdxm+1EL78a8q0JZN95oWzKYIPch6eO17H77QVYnsa6fZ2z6Z2J5nUjG\n",
       "Q0yr/akFVchrmkKqz+/BAaSCfsHWPgCabckwCqYFZFMdi16XoSceerCa2DvGg+78lyO2DE5Tbln/\n",
       "nXtAtygwTHi0Z7ZQfYJDXRLwkN5qYu8YD+WW5o7QsmRwmq4z3BmcAxq4U4FxnbGn97RN/7QLHtJb\n",
       "Tewd46Gk2a+S6kt3HkDgPGX4zjkg9lzpqTh4AJ5sWvRPNh3wkN5qYu8oD+/Q/Oodtgwub65jpm9d\n",
       "A/obBYYZDwx0LPqBjgse0lpN7F0W/h/031B4WIHjrQAAAABJRU5ErkJggg==\n",
       "\" style=\"display:inline;vertical-align:middle;\" /></a></span><br>"
      ],
      "text/plain": [
       "<IPython.core.display.HTML object>"
      ]
     },
     "metadata": {},
     "output_type": "display_data"
    }
   ],
   "source": [
    "_failure_upper_bound_lemma_inst_bound_01 = _failure_upper_bound_lemma_inst.rhs.deduce_bound(first_sum_bound)"
   ]
  },
  {
   "cell_type": "code",
   "execution_count": 30,
   "metadata": {},
   "outputs": [
    {
     "data": {
      "text/html": [
       "<strong id=\"_failure_upper_bound_lemma_inst_bound_02\">_failure_upper_bound_lemma_inst_bound_02:</strong> <span style=\"font-size:20px;\"><a class=\"ProveItLink\" href=\"../../../__pv_it/theorems/e5f8fae80d0c15a1e3af708f726b9705a021c1de0/expr.ipynb\"><img src=\"data:image/png;base64,iVBORw0KGgoAAAANSUhEUgAAAKwAAAAYBAMAAACVRAuIAAAAMFBMVEX///8AAAAAAAAAAAAAAAAA\n",
       "AAAAAAAAAAAAAAAAAAAAAAAAAAAAAAAAAAAAAAAAAAAv3aB7AAAAD3RSTlMAEIl2mUTdMiJmu6tU\n",
       "ze/kkN0jAAAACXBIWXMAAA7EAAAOxAGVKw4bAAAB3ElEQVRIx2NgIBnwNkAZjHMZqAjkYYxiM2oa\n",
       "exbOOkaaRsZQPJJNuer4je1pwKHTNhCfpXcIuJZ9lwBWcZ6PIMlELDItvssZGD7iNpbD5VYBAwPX\n",
       "BqzGMiUwMEj7fsSU4FjAoB/A+oCBfRUQrMBibBcD01eIfhzGMjBjMZa7gYHvAfMGcZyu3cHA8A7d\n",
       "WOZlabn4jeX7yMD9g8VAEaex7wUY9jegGst6WYCgaxMYuL+zexbA0sR9ZTQF2xgY9hdA9DMqm4DN\n",
       "6xUgGAhAwPaBQOLMh+oPK2BXAPFvwGVYLuA2tt4Av6nsn4FaHwBj9ycDcwBI4AJcqm8CbmOzCTiW\n",
       "DZi4OP4AE9lnY1WwNc/S0tKyQKzuqww4jWVZgCVPXksDAUiIe4EI6TsM/NC0ywjXwO4lgNPY2QQc\n",
       "ywk2TTeAgR8WWIhUAc4lWI3lUWDowGvsIQaOBnAuZQPG1wGQiDHh7MBQxMBgiDfCFBiYBRiYgFHG\n",
       "eYFBBFzk8B5AMZbpB7R0BUYl419o5k1xcUnAZ2ybi4sbVL/RTEgwMO4KRDKWe9/fnZCodQASKdBo\n",
       "/v///wW8ifb//7/omZdVCznzUgDwFTXUNxaUSygBLNgDCpRLKAFyE7CLt+yhxNQmoG4Al0x5ui0f\n",
       "zyMAAAAASUVORK5CYII=\n",
       "\" style=\"display:inline;vertical-align:middle;\" /></a> <a class=\"ProveItLink\" href=\"../../../__pv_it/_proof__failure_upper_bound/c64a3a6156c9e86e5627f4b6f0a969724088b14a0/proof.ipynb\" style=\"text-decoration: none\">&nbsp;&#x22A2;&nbsp;&nbsp;</a><a class=\"ProveItLink\" href=\"../../../__pv_it/_proof__failure_upper_bound/f5da68b2c91d2bb76c9bbc55d13ca756b18011c70/expr.ipynb\"><img src=\"data:image/png;base64,iVBORw0KGgoAAAANSUhEUgAAA7cAAABMBAMAAABE9113AAAAMFBMVEX///8AAAAAAAAAAAAAAAAA\n",
       "AAAAAAAAAAAAAAAAAAAAAAAAAAAAAAAAAAAAAAAAAAAv3aB7AAAAD3RSTlMAzUSZq1TvEGYy3Xa7\n",
       "iSJNjWSlAAAACXBIWXMAAA7EAAAOxAGVKw4bAAAR/klEQVR42sVde2wcxRkf+3y397DvDKUgoUr2\n",
       "H6hFghKnaUWUR2PUlFZqKhuRUglU2SqI0ELrCyBES6mPV4lKRSyhovKo7AIixVVrq6KAgor9R8tL\n",
       "EblKICioytGoVcWjsR0/k9jX273d2Zlvvm9md2+3jOTTz3O73+P3zc58M7c7y5hdzmZ4OVsBIcsH\n",
       "Zd23UaWG1q6CcAa19UIQshQPJciD3s1UP34Wr6cOMJYu3YmRpYbWroJwBn1RAWHLmwnyoHfzKqI9\n",
       "8/qrylEV36D5LrrU0NpvCGIPaVB6HwShS6aSIA86Ny3CY15v3RBZ76Ya+VULUkNrV0EYg26rQBC6\n",
       "tG8kyIPOzY5u/BxejxyQBiQVCL0ds6RJgtRinws+ivdi5tpVoDdILpcpgOSBTRMy9iTIg87NcSJL\n",
       "4PXIAXeL/9zeMK+PyCSWSJMEqVmXktzV8QaXa1eB3iCp5BYgIHiw7moMoITwE4PJ8aBz8yzinLPo\n",
       "AyyeatmmvDjB2OcJIa+TJglSD3/JBfmYh+HXaaA1SM6VuyFQeXAa92OHG/1vFRfSOZEgD7Sb6QUi\n",
       "jVigD0h5ra3TOaBheBthzjjVT3lS73zzayzPEgou164C2l9YhnohUHlgTj94dePvPOLyP50gD7Sb\n",
       "bUSb4vXIAQ0rrHdeEIPbRXQ7ncNML76PbWP7GTu+ZcuW3tiDy7WrgPYXlvMVIPLA7nygIgb3LULK\n",
       "ywnyQLtJtWVdY3+fsR+PdYjBTRODbnrJ0NoW2ImxK7MJXblcuwoC9zH8mkMuvgYP1jOsXwzuldT1\n",
       "P5gcD7SbA4QgXo8ccDFju4vviMFtp9LQeaYXf3/DqeMPuvQ991bMk6F5GpD+wlx0BQKJh47+j6Ur\n",
       "92JCfKk7QR4oN60zxPTrDASO2iON8gbby9i195XZjiMvHzlScYKbo4I7MKYXz9i7Cc50uXYV0AbJ\n",
       "ZXQWAomHzNZvs9SRIzcdebUZ3Mep+cpagjxQbmaJforXYwc0PNiQEyqqW2abqnrxLHcoyWWMKglI\n",
       "g0A5OAiBxEOpJidUVLfcvp4gD5SbnSvEIL0CgZxI/JV1icEtUFloaVgvPu6FC0K7CkiDQDlahkDi\n",
       "oXOQVcXgvkiZspwgD5Sbo0SSyOuxAzpr7JYXnneDW/zb+rRdQ5C2phdf7CvWkgsu164CyiDYb56C\n",
       "QObB2v5A2Q3uxz3vMfYGZcrRseR4oNw86F7Ij4KG49X7QOxjquI81y4/gTmm18kU8O6IS/3okYei\n",
       "NNmAnRjXrgLCICg4uw4BxgPzxmNrlrJzphoHD4+Ww7g54MzDra/0gLMGeiEQy5eFFSqpwi23bva6\n",
       "mxyennKpI/V6hNj68g1tYJ4EuEGK4I4FCDAe+PJrqkbZOd7dOg9qmPRujngNC5w1ogCxdIGjs7AF\n",
       "FLhTddSckRb720Kw4PraVYAbBAVn5iDQ8SAvNkviSitx8DBTDuEmH0nAWdqhplGADosmv6dXN5Il\n",
       "HVyuXQW4QVCwNvdQeFD+98W1LcTBAxFc3M30GfwsXp8+0yL5u7A8OqLU8MHl2lWAGwQFD81CENHO\n",
       "1Ok4eCCCi7uZWsfP4vWp9RbJP4iRElFq+OBy7SrADYKCd1UhiGhn9kwcPBDBxd1sW8LP4vVtSy2S\n",
       "P45NLCNKDR9crl0FuEFQcM8gBBHtzC3HwQMRXNzNzBp+Fq/PrLVI/iiWiESUGj64XLsKcIOg4JEx\n",
       "CCLaadXj4IEILu4mz+HAWbweS/La6kKZNjhVwuwXpPYIsk7HHlyuXQW4QVCwNss22y6Iq4/FwAMR\n",
       "XNzNE3P4Wbz+BNLQ03VXxE8vurw+bHAqj/U8gtQh12nrn8+OLMceXK5dBbhBQHCxDoGUbRltF8RN\n",
       "DcbAAxFc3M2hCfwsXj+EzQAG/Az+50sGp9qwZihI7ahznJ0ajDu4XLsKcIOA4PQpCKQVDqPtgrie\n",
       "6Rh4IIKLuznTjZ/l12MLK/l6P8c7DOR3YAmhKHVq0U8eZ+MOLteuAtwgILgwD4FUjLYL4gaqMfBA\n",
       "BBd385gn5pi8bubXY3py9VXfkBq6hMVv1E0tIl+LUsfrFXU5z1S6NoIdx7WrADcICO46A4GcpZps\n",
       "F8Tt6o+Bh2O1EG4OuBp3j5xTkTrefgjkBlT3lVSwlnT5/Nc997AmL0ot1H0CsgFjK8g3NIJ5EqAG\n",
       "QcEdixDIF6bBdlHcse7WeYBh0rt5lPiRndfjB3TWJwJfY6d04p1/Wl2LDKJdBbRBoqMnIQDnBbf9\n",
       "2ERyPOBu9hBO8Xr8AGvkZODRcVkn3i631fsSCy7XrgKnXFHTudnIS05CIJcQts8MJ8cD7uYUsajG\n",
       "64kDNtWDJrZZfw5xoSreLu31pcSCy7WrwMn1L9W7yfLrEMglhO0H+bSnvRI3D7ibI4RTvJ44oKu+\n",
       "L3xwr1HFNzus5fInE9zDbzO9myyzDgHsbAPb7gc3PR03D0RwiXufeD11QM98QL1pNLjT8opXd1LB\n",
       "5dpVwKx3pwmDhOCehkBZrQtq+xAW3Jh4wN0cqRDBrUCgDDbVVoJbkUfw9U8guNa2CiMMEoK7CoGS\n",
       "fay3EtyYeMDdrBNO8XrqAL4EaSrtWHCB1KH6WELB5doVYF02iPkLSmkVAiVmQW3fhAQ3Lh5wN6m8\n",
       "iNeTidOugANEzl9xv0YV78646/sSCi7XrgI5uISbpSUIlPWDoLaPryDBjYkH3M0DTez8FmG3LMsd\n",
       "Sg94ETlAhTBfJx+Y837caF4hB5qV2yYnr5+cfAqXOgVGtFK99SJpR0BR7JZdg0remR4P2fsZAOrE\n",
       "4nQgHtjtTXWpycmnvz852R8TD3MaN+u9wKAnXbu8euUArxRPsRauXCD1xMT//8qVEiqKh5J351OJ\n",
       "esIzsO3olRsTD7ib0bvlwg9ZbN0ye672CQRXnApF75YD2x6gW47MQ9zB3TQWVC8zBrd9Ld6QWv/Y\n",
       "XQbaVSAtYkQPbmDbx+eMwQ3Jg8nNyFOhnGE1xX5SnM6WgdTxwXiDm2KpCVO27C4/jrU4FTLZznlA\n",
       "s+XWeDC5GX2eO61XbD8pHjS41o0xd8al3uJasOC2Ps+9MSAPAYIblgeTm1Nc+kNy2laBAJRP6bS+\n",
       "u+Y8KU4HV5baFvcPB9ly2OD6BuUkY/KrEMAVqr6APKDBbY0Hk5v+vR9PyauL0xDIpXNWq3XOeVK8\n",
       "6Yn/K8yFqninHIk/kepy+yuuXQW4vyzfL/GtvzvHYLvIAxsa5kNrJS4e9G4e9RYRC3Jwef1RfJVx\n",
       "m59yIuNEyl4jdZ8Uz6K/54pSU/6DdWmh+m6MrV59F+h98KfhuHYFWJNOGYMGHZaC27kOAfAUtx3h\n",
       "gR2ciMRDEfe1FsDNAa8n+NU50rm8fgDtKrL+PCiLBDc/7T+8iN58JEn9mZ//3yesb2KKr9S244/4\n",
       "R/EVBrQbbobiBuXukoLbcRICueC2Yzygd6MF4OFPuK8XBXCT39hTlYPL67E7f6R50FXYvH7Mf1Ic\n",
       "vflIlCrk/+lhv3o/lr3w/b7Q+aCzA5vzcZz9F2g33AzFDepqkxw23HpF2I7xgN6NZuYhXWVdU2DW\n",
       "abeXQsXspqexUJODq79BTthl7xasRR8UnhRPYQeIUv2d86xdQkN+FRvpvcFqVDRm801eqA+5H8XX\n",
       "HnEnsFy7CnCDXpKDa2gThO0YDww7wMzD/qYYsTQf+j3P7OZB91r4D5OD69X7AJ0HFfeiPw7tEZ4U\n",
       "78QyEUGqn///a0D4UaTYaLxKk/233Vo3v9aYnor8swu8i+NZ9yPjrbn62lWAGlSsyMHNzkOAz10k\n",
       "21Ee2NHpKDxsbfxthouDdnDvMbu5ye0AqiC4Xr0PpNzyLKec/3S9jt4pd6PwpDj6rJMgtW2+KWyy\n",
       "cYaQe6WqapNlOxvsz7JjvR//5u/CsOjndqNl74NLXyIBalAXk4PbvgyBlEvjtqM8oE+SmXmwD/gd\n",
       "FtyM2U33eYZsDQRX+zhJSvxZApkH58R7f9FnnQSpuwRZq+IEHWmyC41Q1lhmmH1adNWPRlvF+1C0\n",
       "G55s8wx6EARX/zgJYTvKA/okmZGHdOPSLq5hwQ3gZqmp/0MGglvagCBEKYhXO7pdgFnqeFltsrmG\n",
       "qMwK69hgokzLvxSdO/Wl2/XVB9rw7Qtcg4rTILiM36Bdr7XGA/okmZEHuwPLzmHBlbb0x93MN3/J\n",
       "umD37uVvSkn8AgQhSme/4McJrF83Sz3M1CZbaAwBHROsY61dkulvEOWwKVHKtasAM6h99+6B66SZ\n",
       "/VQvBBF5KC5H4cG+PpUdwJ3gZruNbnbwHuA66Xxe37EaYWm3IvCzCcvIzFIvY2qTdTcVz88V+n/k\n",
       "1+71NzRoX/E+FO0qIAzKyFfuQAWCiDy0z0fhId8YqDPTWHClqRfuZoFPDORUn9cXTkYI7ucEc9D9\n",
       "l8xS7aU42GTdNc/x6dT0234+2+3vuJlb8z4U7SogDCrJSmf6IIjIA7oBlpGHTKO/GHcGhP3Ogtoz\n",
       "PLi5OaObvD3tqH9DyhLndQ3OtKC9U2z62M9YZql2CgCbrDscPsVyW/3k5EQtvZb7jNv1LXgfinYV\n",
       "4Aalji5KWg1XfHAeOpai8GAH9zmGXbnS0IS7aRFbW/F6K8oeYNKgVdaJJ4t9m4vTZK3z+Rpwvo+J\n",
       "CVPzPqc99qXq5gvWgvehaFdBMIMM2y0EL/mVKDzY3fJfLLRbnjC7OUUkgbx+iswSj3upwisa66xl\n",
       "Wrw1gBx/l3/lwibbvHLvlRoAW7U7qO+5lqyBNIxrVwHlL2R3A4JoPLDR4VA8OK8FaYxEjW5ktQtN\n",
       "qGbNbh4j8gRe3wS3yu3WucHjAfefXx4CFoklvagRf4Vc6b0FwgsubLJOcNNVb0G1aclaY9TNnX62\n",
       "zCeW4uySa1cB5S8oXasSiMwDG+oPzAN/LUhzwrNwB7Rpw1vlMbi5qR93itc3QbobqE9NFJ4cFJd0\n",
       "BYuYaajxpO6UK522eDVfuVOarJNg/Zqx58XKNdY2WDhU6GN/RrJlrl0FlL9wVFyUQGQeiLEe5YFv\n",
       "dNyQ1Pi8B6SAzYd+871mNzPEUAL2PEzJCpwbPLgDh4BFqBys+gnvX/AWCLdLhk3WnsEWn9yyRVLy\n",
       "HtvLOivZbmt7mWXtri87THoRxF9Y5E0wI/NA7PIIeACvBWmUZ6hu/gNmdjNF3HDH65sgL0/h7Rs8\n",
       "rG5W3LJlyxf0To330+KtObbD3k++At8CYTfpstpk7WsyX6/Lj0t1vVhlmbFUf7rivvNQfPEh164C\n",
       "yl9liXFMBJF5yC1qeUjZPLwKXwvCnN8H8LKVmd0ktmf365tg1FPPOZ1I91UCtNiZQVo87+PgWyDc\n",
       "OYBSvktNKFlm8P3nkbVlrl0FlL9KxyntLB+Zh8JSAB7ga0EYI3cpL86yAG5eTzh1vQSugF8/Wi5u\n",
       "dfU+9oNB2qlzNeJ5HwffAqH2f82yk5owlH/B2hjyq9C5NCD9hR3nsAgi89A2HIAH+FoQpu7Ozcfl\n",
       "Ggvg5gyxZsrrHcBpfdxuuDUl7ZctEnoj6oKwpeY/53bL8C0Q9okYGQ8TwnLbp53g3itPlXztKqD9\n",
       "hZfcggii8sDGq1oe3P5ggykX/4f4eS+xIG6WiEGI1zvgibLcHR2X5iN0d9RB7RdlSy15L++Eb4Gw\n",
       "y1expVjNTdv2bPMPzPsA2nUvB2J6HtiiCKLyQL62SOIBvhYkYKHd7CLc5fUOmJNXAv0bPAxOjVKU\n",
       "2VJTf/SSRPAWCGctFVsR0SwBfku8hwpqVwHtrzIVLQsgKg/WYhAe4GtBAhbaTYvoqHi9A7bLnZZ/\n",
       "g4fklGrRDLW+hamVhpc01o99h3TwjrfFux+hdhUEMqhJVFUAUXkobIRQ2xlyZVPjJrHjnF8/E+gp\n",
       "a9yia2mLVKny7y7h7lvuaqSszkV0Kab9WrM9pJsFakPXMDxk+kKoTYUMrsbNPLVLT9VwQACLNHzk\n",
       "I+08HqqoYdHFhzTo9woIzYPmAmmdB52baaLH4PXpjch6RyvkVy1IDa1dBWEMGqpBELpYqwnyoHVz\n",
       "B3HSDtMB5rJH892OxIO7hwZhDOK/MQbfVFbJZ2cT5EHrZp5ozrw+X4motl23f0dkqaG1qyCcQb9V\n",
       "QNjy2XJyPOjdzBEu8/pc1L1m8r2aL3P7Eg4u166CcAY9XIYgbHkiQR4Mbl5CnHaJ6QBTuVn77SUJ\n",
       "B/dmGoQzqL0GQdghtzdBHkg3/we7OwUXIsPzkQAAAABJRU5ErkJggg==\n",
       "\" style=\"display:inline;vertical-align:middle;\" /></a></span><br>"
      ],
      "text/plain": [
       "<IPython.core.display.HTML object>"
      ]
     },
     "metadata": {},
     "output_type": "display_data"
    }
   ],
   "source": [
    "_failure_upper_bound_lemma_inst_bound_02 = _failure_upper_bound_lemma_inst_bound_01.rhs.deduce_bound(second_sum_bound)"
   ]
  },
  {
   "cell_type": "code",
   "execution_count": 31,
   "metadata": {},
   "outputs": [
    {
     "data": {
      "text/html": [
       "<strong id=\"_failure_upper_bound_lemma_inst_bound_03\">_failure_upper_bound_lemma_inst_bound_03:</strong> <span style=\"font-size:20px;\"><a class=\"ProveItLink\" href=\"../../../__pv_it/theorems/e5f8fae80d0c15a1e3af708f726b9705a021c1de0/expr.ipynb\"><img src=\"data:image/png;base64,iVBORw0KGgoAAAANSUhEUgAAAKwAAAAYBAMAAACVRAuIAAAAMFBMVEX///8AAAAAAAAAAAAAAAAA\n",
       "AAAAAAAAAAAAAAAAAAAAAAAAAAAAAAAAAAAAAAAAAAAv3aB7AAAAD3RSTlMAEIl2mUTdMiJmu6tU\n",
       "ze/kkN0jAAAACXBIWXMAAA7EAAAOxAGVKw4bAAAB3ElEQVRIx2NgIBnwNkAZjHMZqAjkYYxiM2oa\n",
       "exbOOkaaRsZQPJJNuer4je1pwKHTNhCfpXcIuJZ9lwBWcZ6PIMlELDItvssZGD7iNpbD5VYBAwPX\n",
       "BqzGMiUwMEj7fsSU4FjAoB/A+oCBfRUQrMBibBcD01eIfhzGMjBjMZa7gYHvAfMGcZyu3cHA8A7d\n",
       "WOZlabn4jeX7yMD9g8VAEaex7wUY9jegGst6WYCgaxMYuL+zexbA0sR9ZTQF2xgY9hdA9DMqm4DN\n",
       "6xUgGAhAwPaBQOLMh+oPK2BXAPFvwGVYLuA2tt4Av6nsn4FaHwBj9ycDcwBI4AJcqm8CbmOzCTiW\n",
       "DZi4OP4AE9lnY1WwNc/S0tKyQKzuqww4jWVZgCVPXksDAUiIe4EI6TsM/NC0ywjXwO4lgNPY2QQc\n",
       "ywk2TTeAgR8WWIhUAc4lWI3lUWDowGvsIQaOBnAuZQPG1wGQiDHh7MBQxMBgiDfCFBiYBRiYgFHG\n",
       "eYFBBFzk8B5AMZbpB7R0BUYl419o5k1xcUnAZ2ybi4sbVL/RTEgwMO4KRDKWe9/fnZCodQASKdBo\n",
       "/v///wW8ifb//7/omZdVCznzUgDwFTXUNxaUSygBLNgDCpRLKAFyE7CLt+yhxNQmoG4Al0x5ui0f\n",
       "zyMAAAAASUVORK5CYII=\n",
       "\" style=\"display:inline;vertical-align:middle;\" /></a> <a class=\"ProveItLink\" href=\"../../../__pv_it/_proof__failure_upper_bound/fefe43a8a736bd251d740a94954a9b0bcbfcecb10/proof.ipynb\" style=\"text-decoration: none\">&nbsp;&#x22A2;&nbsp;&nbsp;</a><a class=\"ProveItLink\" href=\"../../../__pv_it/_proof__failure_upper_bound/a88cc0c68172b88650c3a595864b5730426af8670/expr.ipynb\"><img src=\"data:image/png;base64,iVBORw0KGgoAAAANSUhEUgAABC0AAABMBAMAAAC7RVDUAAAAMFBMVEX///8AAAAAAAAAAAAAAAAA\n",
       "AAAAAAAAAAAAAAAAAAAAAAAAAAAAAAAAAAAAAAAAAAAv3aB7AAAAD3RSTlMAzUSZq1TvEGYy3Xa7\n",
       "iSJNjWSlAAAACXBIWXMAAA7EAAAOxAGVKw4bAAAVFUlEQVR42sVdfWxkV3U/45nxfHnGDoWUppT1\n",
       "Hyj9o4AdNlWj7IadqgupylIbJU1RpGCL0Cw0tJ40UZRCU88GSNIGsa4iohKo7GYpDotSW+oqQbui\n",
       "6z9oGlqLnUpB0ETVDl21qmhSe40/1ruxX997M/f7nHvfm5lnX2lnj8/cOed3zjv3vnPvu+9egKC8\n",
       "DfDyNoPYu1KZt32bNKCf1XQYdjyQGnbwqQrd+aFTqbqZJuGXdBX/FedTFRItr1q+SxxQuWrAeNX6\n",
       "g5td/JuT8EPnUjUzTcIvd9XwX3E+VSHR0l+nv0se0KcNGDY8kD3u4FMVuvND51J1M00Ccp/Gf8P5\n",
       "VIVkS98u+dUeABpp6jAseAAerjv4D9cT8EMXUnUzTQIyQ/hvOB+pkG2qf5cSuDTHyG8kQJXRNvFG\n",
       "b7uQzJIB45il+m+6+EiFT2h/L8b2gyz1EnPIP3dkpknALJG7cD5S4TH5j0f8yzTa+7hYGae+kQDl\n",
       "294s3N3buKhsGDBoPFBYc/CRCnnZq7kTftIU2w+y1Kfa/391viMzTQKuI35zHV0hxzPSAN25OYD3\n",
       "9T4uBubAhQzg7K+3iWKPU45/MWDQeCA15OAjFR5iRNCkvn7Wv2E04vpBklo6xaJnvjMzDSJLxDrn\n",
       "IxXSLNYHwgo+8FTvM8HCNbAje/TV26EICcXF7KIOg8QDMDHs4CMVPsCIsOO+2//3izH9wKTm/uNo\n",
       "DXjwzHdmpkGkiHDkfKSCfzVyP/muHBfl8d53GC+DHdko3AoP+HfWgwcPDvc8LgYmDRgvk5VvcPGR\n",
       "Cr4Rjz5Vl+PiRzH9wKSmIT2XG4KK74cPxI0LbqZBzC5GjSRRfgrwuZmMHBfZBBKMiXE7sjVYmbkj\n",
       "n1B/kd0wYFB4yBZt62oqQ5D7NlTluLgjph+Y1MHhynZ2tN5Rf8HNNIgxwqGcj1R4L8DRyk/kuOhb\n",
       "6n1cDA7ZkT3hx8Wlr7R99OKPeqz9sgGDwgOZLQcfqeA7LFN9U+kv3hvTD0xqvlbZrtzSHiF+/Y/G\n",
       "OzNTI3JvEXMEb+lE6P5lv/wQ7gS490s1OLz88vJyPYyLQgJxkdm2IwN4LcEZjLEZHQaBB2B6ycFX\n",
       "Knwj8GEzW4X+W34f0svLn11+pRUX34jnB0lqea57MzUiv4HX53ysgm/Brpp3JnEf6duxI4PCfIJx\n",
       "MdLQYRB4AE6OO/hIBb8hDTbVvPOOeH6QpD5b695MjRgg+kDOxyr4eec/QVmOi9JiApdm046s13NZ\n",
       "Wu89acDYJKpeqDn4WIU5GBiHhhwX5+L5QUiNN5dFmKkR00QXxPlYhYEmPPjdl9pxUfm3ncWA0/ty\n",
       "YcaKrDJaaSYXFwPbBgwcD+Sugp2PVvgh5A49VWvHxZsHXg84sfwgpF6C/+veTI042cC7IsYXhNyz\n",
       "NeT5i6D8WSwwEfu98+hMDwf0xtee7qjDiKa9tGPAwPFAfge/rTG+IOTyPmX+IrjOSxROXC+XWvnB\n",
       "134jynzQvNVMjRgL50Zyv3VAc9bYsE7I5YNsgktnRCmmMmrSBU3EOaApz+sgKqJqL1w2YOB4INOa\n",
       "Z3vopi2ULxHK3CDr60Z1hoET18ul9nveqtseA55mpkZMsZjUnDVlEHIpa7Xzw7GuzflocTGIWjLV\n",
       "7R0ionavpsPA8UB/+6qUtnC+IJTyY+3vx0icuN7+1Xhml7bsZioEv0lpzrLfGwE01+YSuTKptRh3\n",
       "855rPzCsw0itWVMx3fHWFM30WY3EieudnutJXHAzFSL7Fu4szs++lUBOF/HKpLF5xO4BRdR+ZFGH\n",
       "kcbnNSeWcMczviA6xInrjSuViAtupkKkd3BncX56Z//iIo+FQPeAImo/uaTDyOMheaSBO57xBdEh\n",
       "TlxvXKlEXHAzFSK1gTuL81Mb+xcXBWzg3j2giNpnJ3UYBXwi4cA47njGF0SHOHG9caUSccHNVIj+\n",
       "bdxZnN+/vX9xkcPGG90Diqh9elWHkcPHP1MzuOMZXxAd4sT1xpVKxAU3UyF4qqs5y5qDpzypLCZ3\n",
       "ZcCbsQ5SDkgwrvV+NLRtwPBmbBm97ngz05dbuxu7wInqFVKj+YGIC26mQqys4s7i/BVkNJT12iL+\n",
       "/Nc+7E0mGBcLSFcpAZpo+yv3n2emNnuuvbhhwMDwQMXDHc/5Fay5R8AucGJ6JanR/EDEBTdTISbm\n",
       "cGdx/gQ2GhoTY8W/3EgwLg4gnZEEKONxOr8w3mvtqWsGDAwPZK/ijuf8LDayjoBd4MT0SlKj+YGI\n",
       "C26mQpwfwp0l+NhcW9GrcvpwgnExhqTcMqCFdTFMWeq19syOAQPDA6XLuOMF/zLaFzqxC5yYXllq\n",
       "JD8QccHNVIiLTMzFplJb8DE9Be+KANKMHxcXI/7mSBX5rQRo1qtz+oO91p5eN2BgeKDMRpHlXYKP\n",
       "DjPd2AVOTK8sNZIfyrt2MxVirK3x6NTb60pLreqEGsqe8G09dljoyugriHRWMqCSJ2zN91p7+bIB\n",
       "A8MDmbY/Mx++/NsYXxBq83Vhl3BiemWpUfygwzPMVIgLxHoazscrDHhzsAfl4pwFWfjH1eSUl68a\n",
       "MDA8MPBz/PecT1SIgR3Tq0jtwg/cTIU4QMQF5+MVclM/34u4OD9pQRaUh73RxJSXNg0YCp7su9tp\n",
       "GuEKzicqxMCO+UGR2oUfuJkKsUBMpnI+UWHEG9+DuDjJx6R9dcAA9XkbiSnPewaMk9KgPX+qnRYW\n",
       "iYl5zicqxMCO+UGR2oUfuJkKMUXEBecTFcre8T2Ni+wioIAubtb2Jy5KLzDF/URccD5VITp2zA+q\n",
       "1M79QMQFMV3J+VSFA5f3IC4msLhQAKW8oaSUZz0DhsDz6HfE9SemGDmfqhAdO+YHVWrnfuBmKsQU\n",
       "kZpzPlXhYa+xT3FRVxOdnf2Iiwefl67/FSIurjgqRMeOxsWV3vgBjwuPuOycT1Xgc+FJlhHEHxqg\n",
       "CW8mIeV9ngGDEQ+9Q6o3SFx2zqcqRMeO+UGT2rEfuJkKQaWPnE/ml0c2k99FZ3YLiQsVUDqxRKfA\n",
       "H0xxGIzIKHFBpHycT1WIjh3zgya1Yz9wMxXiyRYdPooLgjLXThueZD55krr6RfpJqtd9aTWQR1p9\n",
       "Q/r06W/94enTVRTQwrWEtOeeZBIfqevEJek+kn+idZ3CXwbU9JDMlwhz1Ec+/Rx0+kGX2oEfQDFT\n",
       "IbxhTdqptlDGNyqwUrkK+9NfaIBW5va+v1DyzkF99WVxVOUPrlEqomJH+4u13vgB7y86v4+U/nif\n",
       "4kID9GJzP+JCGqd2fh+JjD3CfaRjP/Q6LkaSyvfC/U7a/lh1xkXfdlLaCzzv5DBmsXmtzuMiMnbM\n",
       "D5rUmH4I91JRzVSIjsepheQmGoP9Tug8XAM0O56Udst4pAXpl7ocp7qwi/Yx4hynxvVDsJeKbTzS\n",
       "+fzFYmJxEex3EjUucvcnpt0VF93PX9zfTfvQ5i9i+iHYS8UWFwvcy0+r2W1dJ7TyC8llFU9Y40IF\n",
       "lBpNTHvUuCjyC1QYRflFIi6s2MsLM/b2oUqN64dgLxVbXIgVYt9UfmdfugYwsJRkvsn2O5mY5LfP\n",
       "OqCAlpPTnuXPUzkMgUe+JHyAWKyi/BQxGrVjPym1D8wPqtT4fmB7qXAzFeICm80uqXHB+Rfw6e5b\n",
       "xSwCemNDX1h9zH7HYx/izeuTyNhLAZQW72hnu9c+qmjP84E4h8GIz50OyrfbTYTPQJ9V4oLzB/Ap\n",
       "agI7KzdJ7QPzgyKVkIUPUSrhJ3tbnpupEGOs//nrtyu/5fwxtIPKi0FqHo0LbO8X+546lSX2IfY7\n",
       "wRaXKoAeF5Z/qXvtb4CsXSygtC92zbCFEIUTVZSfwddfENhZ+Y7UPjC9ilRcVgnPRfuCHpfvpWIu\n",
       "Qw0IvnKwocaFfUmjPEi9C02pMAc+wIh3o3CfYh9ivxNscakMSBqcZScjak81Se3h5sFcu1hAaV/s\n",
       "ytdFllNVlJ9edwxSs8jtKbj98/aB6ZWlErLu8XscffgadBPBDpt8LxVzGWpAMI2lphoXdleIzYLh\n",
       "QbQxDGDZ6ivsssnZ26Xr2TYx4U6LwYfY7+QI0sZlQGKL5Jxc1ap9Wrbjps82Ze1B++Ta09wyLhvD\n",
       "I/z5j2pcONb9Eth5N7wqtQ+sgiwVlxU0j7yaKbc21UjVpL1UuJkKcbLdtP4H1LhgfEGgg9TKnfhj\n",
       "1f8OE2otmPxIrhx81wxkZZGNPjZIL1XbH2K/kwtI0isBEoOz/xqTHydS2i/d9AOAj8m+hffUZO1n\n",
       "QNI+wBM7DgPDA/l2/1upq3HB+ILAB5Yqdn6bWJLaB6ZXkkrISvvNI61fvuDlg/yotJcKN1MhRtrd\n",
       "TkOLC8YXhDJauS4sN3zL8/AFwLeFCbXW8TWCO3h5rfLar0h+uF1Yt8U+hB7kBikBSl1u4TjtX8ur\n",
       "bu1+DnFx+M2//XfJ+TVV+7T8TE68IG1/AblvkwWZGheMLwhltEJg59MTi1L7wPRKUglZ/UE3uIjE\n",
       "BRzHzFSI9lt9+aYWF9b3ENPyQ7k6PjnUSqjVqRSA3wW4D1KylWcE+U7+weewkIYkAToiwbji1p5p\n",
       "Qv8kyI/IS1VVe0o2RrwgbX8Bmb0Q+BUtLuzvIVLY+fxl0+EHSSohK+gZV2awuHgnZqZCDLZePPhf\n",
       "0OJicFcn4pTCViuhVi31EU3VYKw5KLfKaREkh/kHK9gLv25AlPb+Lcjsgtwh5aTJ/ECx8rKWeEHa\n",
       "+gKyzw0vYWVRiwvg79h4zfgufNHlB7dUrNtsxcWrmJkKUWw9rX3P0aObH1Um69Z0Ik4pzbUSaqWc\n",
       "9f/9TrCd7I1KhrqlukL2RwXrgN2AKO2ZOchs9yn3RWljzUBxSf5yZVKHUcFfCl4IZ0v6jh4d+1TD\n",
       "5MtEjPL9nMMPbqlBr3AMjYsTmJkKkeH9zqfUtOeKTsQpGTMT5ofrLMCZnOjcsh8SafVIjX2wWyiW\n",
       "sLkBWbQXV0vVPxXMO6W9iALFfXJnMjKkw+jD1zqPsbtPfxXnj9Xju/BK2eEHt9S/8//dj8bFXZiZ\n",
       "ClHigzF1MMX5pU5eIApmyTNL6LRv4RocknbzOyFtSz87wz6Ybmyi0A3Ion12Mb0o9sHLD0kbugeK\n",
       "C3Ivw3fNNLe41FzNhoaDSzj/fAcPcdY+7/CDW+onfYPCm+4D0vRsGBezmJkKwUPxsPcRJdt1tBF7\n",
       "CW60/Xom3EpgilV4+i9ED7kLEzN/1XbnyjD7YA0fe5bvBmTR/k0o3CICb6WZ3S68C4T2inyPGhvX\n",
       "YWTwtQWsoaUvrC+CtSXGKF9oOPzglvpJ7cYo4uJGzEyFILYGcu4dZC/BSrZWQi2F6ilQ8spwFaTf\n",
       "rGdnMm0XTA+zDyZmy4bMrT13Q6h9hmsXeWWo/VjQQbC0KlCck+NioabDKDp2IqL406vQVcH1OqX6\n",
       "95GBag2Li7sxM1VigchqOX+BTHvpI/iCFvsiYC02X5WvHgzW/T6tv92CwzGVPLCanqSRPYR45ZEh\n",
       "h/YvKrEDV6CwCp8BoV3OVnObBgwcDxSJERLnF8khVLTjHHG9LakWP/xr4N8GFhdfRszUiItE9sL5\n",
       "LUJTHy4DQ47gk67M93PYlbkHlL3ep2f8DGP23O1iyC6P2yeqNLKs2ovyA/hs2rMNZYP13LafYRSu\n",
       "nalx7QXpAmbXDRg4HigTmTDntwj9CgbLsZDjHHMnDEG43pZUix/80ejgr+r303BTjdsQMzViBLdV\n",
       "8FuEoT49px3BJyMKsj45oQ5LMGQqNKAkt4zBGXgHnK39A5QayHhkbJxGllYbAj/wwqb9bwBeknnb\n",
       "kBovzZdG4XvIeETc1M07sJbxrIOd3yI0F4bLsbTjHNnRiPrIY5wWb/HDs373fJv2o9amGs8hZmoE\n",
       "tcu0trm1pj5cBsZnwOd1REG6IyfUfILgZwcP3qrE/GK2Cq/4fcaD/gV7POA8Lk/zWZAVWR6iHcBn\n",
       "0V45dfCgMmv/OtwJA/X8UO5QraU4P4k4wLFVehT+FOLCcMGgdpxjmP7cHVX+lMMPRWpldmWOvM7i\n",
       "ghPriDm/RRTVSZRgGZh2BJ+MKGh3X9DvbEGDXPA8dTjxut9UPwM3w8ehfQi9dBJ9Yd2CbDo4Amp5\n",
       "+RX9AD6L9qLnqW/3ls81/OQmXc3W24rTUuc5W9VhEHgAjsw4+CGhuTBcjqUd54jHBaU3lGrxQ54a\n",
       "yKbriJkaQR2SpJ3exNVzn85pR/DJiIIhktnOqfm5VfiDyi/XzOcjpQ0LMv5YVDuAL672Qegf/+lL\n",
       "YD4fOT+uwyhRS+BHGg5+SEz7g7HAh0LHa6Ad54jHBaU3lGrzA3XQzRuAmKkT9xE/vk8hPqZ//WxN\n",
       "O4JPQXQbFqXUC/Dz+SUYQp6npiYtyLgG7QC+uNqLtS9DCpDnqdcbMCg8wdM4Oz8kDBcW5kE7zhGP\n",
       "i5RNvM0P1GFBcrxcTxHniYbE+SHB1bdO8zPGphqiZxCBBcqtT5+DIC7CIWxe7skbFmTP1dod2K6R\n",
       "b8XSXji0GMZFqPiLEn/HgEHhgdKagx8S3IXtQyX1sal8NKJSKL2hVJsfKvia7VITMdMgBokBCeeH\n",
       "BFfP5y70I7UURBksg/4QPUIPxvHFAG5Rwkyd7BoCWmU2awfwdaL9ElP891KevmXAGCPnGNZd/PXQ\n",
       "hep9BDmeDe8vSL3rDj9EKOYRr4woEwcicn5IrKqhhxyppSCyr+80S3ZcWt/JEmzK2yGgQ6w70w7g\n",
       "60T774G0vpPNrFR1GCQegIs1Bz8gNBdix7OhcUHrDaTa/BChcDMNIkcknpwfEofUuw1ypJaK6B7s\n",
       "4pM77OS+V5PXg7e7O2qWEEM8oPwVT/vnf6ysB2/frJo6jBK98GO64eAHhOZC7Hi2AER4NKLS7e/G\n",
       "UDsQc4qdm4kQRLBzfrR9k1VEMd/g8FPpdKAlLanqJ58XIoDSXWgv19uK5S7wXgMGjYfaYlnwqQpY\n",
       "f2Gkl6Mx1KZjxsW9NFGkMvWGo0J3iNyhTIZjMfmtvYTLIzWPF1z8FyJpHY3nh4hSo5iJRHCW6Kc4\n",
       "P7sL+1By9PqbPQA0Xddh5GzrgSaaDj5VoSs/dCFVN9Mk6BMBDrsqJFoyS/R3yQM6ZsCw4SF38ef8\n",
       "GMcdxPBD51J1M03C75brRHddd1RItNxo6bYTB9R33IBxozXLet7Ffz4JP3QuVTPTJIKZDGInN84v\n",
       "HN+HuHjO8l3igMSzjOei4AF4pubgP1NLwA+dS9XMNImgvJ/42ftdFZJML4Zt3yYN6E8MGHY80Nd0\n",
       "8PuaSfihU6m6mTrx/4E+z1e+AUkeAAAAAElFTkSuQmCC\n",
       "\" style=\"display:inline;vertical-align:middle;\" /></a></span><br>"
      ],
      "text/plain": [
       "<IPython.core.display.HTML object>"
      ]
     },
     "metadata": {},
     "output_type": "display_data"
    }
   ],
   "source": [
    "_failure_upper_bound_lemma_inst_bound_03 = (\n",
    "    _failure_upper_bound_lemma_inst_bound_01.apply_transitivity(_failure_upper_bound_lemma_inst_bound_02))"
   ]
  },
  {
   "cell_type": "markdown",
   "metadata": {},
   "source": [
    "Next, shift the index of the second summation to create identical summands in each of the summations:"
   ]
  },
  {
   "cell_type": "code",
   "execution_count": 32,
   "metadata": {},
   "outputs": [
    {
     "data": {
      "text/html": [
       "<strong id=\"_failure_upper_bound_lemma_inst_bound_04\">_failure_upper_bound_lemma_inst_bound_04:</strong> <span style=\"font-size:20px;\"><a class=\"ProveItLink\" href=\"../../../__pv_it/theorems/e5f8fae80d0c15a1e3af708f726b9705a021c1de0/expr.ipynb\"><img src=\"data:image/png;base64,iVBORw0KGgoAAAANSUhEUgAAAKwAAAAYBAMAAACVRAuIAAAAMFBMVEX///8AAAAAAAAAAAAAAAAA\n",
       "AAAAAAAAAAAAAAAAAAAAAAAAAAAAAAAAAAAAAAAAAAAv3aB7AAAAD3RSTlMAEIl2mUTdMiJmu6tU\n",
       "ze/kkN0jAAAACXBIWXMAAA7EAAAOxAGVKw4bAAAB3ElEQVRIx2NgIBnwNkAZjHMZqAjkYYxiM2oa\n",
       "exbOOkaaRsZQPJJNuer4je1pwKHTNhCfpXcIuJZ9lwBWcZ6PIMlELDItvssZGD7iNpbD5VYBAwPX\n",
       "BqzGMiUwMEj7fsSU4FjAoB/A+oCBfRUQrMBibBcD01eIfhzGMjBjMZa7gYHvAfMGcZyu3cHA8A7d\n",
       "WOZlabn4jeX7yMD9g8VAEaex7wUY9jegGst6WYCgaxMYuL+zexbA0sR9ZTQF2xgY9hdA9DMqm4DN\n",
       "6xUgGAhAwPaBQOLMh+oPK2BXAPFvwGVYLuA2tt4Av6nsn4FaHwBj9ycDcwBI4AJcqm8CbmOzCTiW\n",
       "DZi4OP4AE9lnY1WwNc/S0tKyQKzuqww4jWVZgCVPXksDAUiIe4EI6TsM/NC0ywjXwO4lgNPY2QQc\n",
       "ywk2TTeAgR8WWIhUAc4lWI3lUWDowGvsIQaOBnAuZQPG1wGQiDHh7MBQxMBgiDfCFBiYBRiYgFHG\n",
       "eYFBBFzk8B5AMZbpB7R0BUYl419o5k1xcUnAZ2ybi4sbVL/RTEgwMO4KRDKWe9/fnZCodQASKdBo\n",
       "/v///wW8ifb//7/omZdVCznzUgDwFTXUNxaUSygBLNgDCpRLKAFyE7CLt+yhxNQmoG4Al0x5ui0f\n",
       "zyMAAAAASUVORK5CYII=\n",
       "\" style=\"display:inline;vertical-align:middle;\" /></a> <a class=\"ProveItLink\" href=\"../../../__pv_it/_proof__failure_upper_bound/ffa19102b186d3aeb1eaeb714fba2c8f5ee1dc0e0/proof.ipynb\" style=\"text-decoration: none\">&nbsp;&#x22A2;&nbsp;&nbsp;</a><a class=\"ProveItLink\" href=\"../../../__pv_it/_proof__failure_upper_bound/5267c36530ebe65593aa83199cb4bf661c62a38d0/expr.ipynb\"><img src=\"data:image/png;base64,iVBORw0KGgoAAAANSUhEUgAABAEAAABMBAMAAADuJLOKAAAAMFBMVEX///8AAAAAAAAAAAAAAAAA\n",
       "AAAAAAAAAAAAAAAAAAAAAAAAAAAAAAAAAAAAAAAAAAAv3aB7AAAAD3RSTlMAzUSZq1TvEGYy3Xa7\n",
       "iSJNjWSlAAAACXBIWXMAAA7EAAAOxAGVKw4bAAAUlUlEQVR42sVdfWxkV3U/45nxfNljh4a0TSnr\n",
       "P1D6RwE7OFWj7Iadqgup2i02SkorS9RWQ5PQ0HpCVlEKTT0JkKRNxU4VNSqByiaL2LAo9UhdbVBW\n",
       "dP0HDQFZ7FQKgiaqduiqVUUT1mv8sd4PT+e9effcr3Pue8+et76SR8dn7pzzO+eee9+59913H4BX\n",
       "3gF0eYdFXL9SPu76NmlAP62aMNx4IDUSwucq7M4PkaWiQTbRKekK/SvkcxUSLa87vksc0GDFgvG6\n",
       "8we3hfFvS8IP0aWiQTbRKR+r0r9CPlch0dJf479LHtADFgwXHsjeH8LnKuzODzGkPsATkHuA/g3y\n",
       "uQrJlr5t9qvrAGi0ZcJw4AF4pBbCf6SWgB/iSEWDbAIyw/RvkE9UyLb0/0sJNMJh9hsFUHksIN7q\n",
       "7bCQWbJgHHZU/60wPlHhj43/G7H9IKRGcQIaZBMwz2QTyCcqPKH+82inQcZ6HwEXJrlvFED5wG+F\n",
       "qd5GQHndgsHjgcJqCJ+okFe9mnu8k9zE9oOQGsUJaJBNwA3Mb27gK+QwR/T0nl4AeF/vI2BgAcKQ\n",
       "AbzyGwFR7HFq8H0LBo8HUsMhfKLCEUF4nefLr3SG+2ZcPwipkZzwfZbIMvGLfKJCWsTvgF+hAzHV\n",
       "+9yscAXcyB57/S4oQkIRMN8wYbB4AKZHQvhEhQ8Iwh+Mpzp/vxjTD75UxgneoMIYZBEpJsSQT1To\n",
       "qMz9+FtqBAxO9n4QeBXcyMbgDngI4Pz4+PhIzyNgYMaC8Spb+eYwPlGhY8Rjz9TUCPhhTD/4Uhkn\n",
       "eIMKY5BFzDdCOgFR4ScAn6ln1AjIJpAITE+6ka3Chfrd+YTGgOy6BYPDw/ZS1/BRHobcN6CiRsDd\n",
       "Mf3gS+WcMMUaZBETjOuQT1R4L8Ch8o/VCOhb6n0EDA27kT3VMf78FwNvnPphj7VftGBweCCzGcIn\n",
       "KnQclqm8rY0B743pB18q54Qp3iCDyF1l5txXTcLXsdwpP4B7AO79QhUOLL+6vFzzI6CQQARkttzI\n",
       "AN5IcEVgom7CYPAAzC2F8LUKX/F82MpWoP/2P4T08vKnll/rNthX4vlBSKWdMMUbZBD5dVo88qkK\n",
       "HazbeiaYxFWg75obGRSOJ7km1DRhMHgAjk6G8IkKnS4z1NIzwbvj+SGQyjhhijfIIAaYEQz5VIVO\n",
       "JvhvMKhGQKmRQCNsuJH1ehXIGHtnLBgbTNWz1RA+VWEBBiahqUbA6Xh+CKQaTghGaSIC0CCDmGOm\n",
       "AsinKgy04OFvvRxEQPnfrzU8Tu/L2boTWXms3EouAga2LBg0HshdBjefrPADyO1/phpEwNv73vQ4\n",
       "sfzQlco5YYo3yCCOBkPC80aYCr4k1HGpqa4HeOWvYnn3+Wid9wy5RoKA3vrSszsaBKJpL12zYNB4\n",
       "IH+NvigJviTU8j5tPcBr0SUOJ623K5VzwpQlBQ0yiAl/rSL32/sMORMjJqGWDyprghojSrGVcasy\n",
       "ZBKMgGbb7R20f1TthYsWDBoPZLorVEdu3ST5CqGtqrWUNUGNYeGk9XalMk7wBxVdChpkELMizgy3\n",
       "zFqEWgaN2vmRWK1wJloEDJE5yuxux/eI2ttVEwaNB/pXgi61SfMloZUfGf8/weKk9dJSHdaiQRqB\n",
       "lyjDLe5rGIDhxFwibZBajXHV7bn2fSMmjNSqM2UyI8CZStk+q7I4ab1cBsdaiwZpRPYq7RbkZ68m\n",
       "kGVFbIM0tda2e0ARtR9smDDS9Nrf9BIdAYIviR3ipPVGlCqtRYM0In2Ndgvy09f2LgLyVGPvHlBE\n",
       "7UeXTBh5OvgONukIEHxJ7BAnrTeiVGktGqQRqXXaLchPre9dBBSoifDuAUXUPj9jwijQE/N9k3QE\n",
       "CL4kdoiT1htRqrQWDdKI/i3aLcjv39q7CMhRae7uAUXUPrdiwsjRc4/ZOh0Bgi+JHeKk9UaUKq1F\n",
       "gzQC00zDLc78N9VWSiO5NoB23TlB2KfAuNL7mciWBaNdd00azAiwc2+1B4djV7L4umuu4pYmpaBB\n",
       "GnFhhXYL8i8Qc45sOxDx17/+4fZMghGwSAx0CqDpwDO5/zo5u9Fz7cV1CwaFB8qihxoRgPwy1YUj\n",
       "YJc4Kb2aVIc0KQUN0ojpBdotyJ+m5hwTckb2t+sJRsA+YoBRAGXaSOcXJ3utPXXFgkHhgexlOgKQ\n",
       "n6XmrxGwK/O4hkNtiDQpBQ3SiDPDtFskn1qPKrYrSB9IMAImiHRXBbS4JqcIS73WnrlmwaDwQOki\n",
       "HQGSf5Ec30KxS5yUXl0qL01KQYM04pyofq6l/U7yKXSF9iWpsBU/As5F/M3BCvFbBdB8u4b0B3ut\n",
       "Pb1mwaDwwKCYqw1uM3xyMheOXeKk9OpSeWlSChqkEROB7EOzN9a03lcxCT2w2tKLtdgBYCrj24oY\n",
       "gFRApbZ0er7X2gcvWjAoPJAJ/Jn58MXfofiS0PtwGHYFJ6VXl8pKU6SgQRpxltnZgXy6wkB7Aa5D\n",
       "ObfgQOb/czk55YOXLRgUHhj4Of175DMVYmCn9BpSI0hDgzRiHxMByKcr5GZ/fj0i4MyMA5lXHmmP\n",
       "Jaa8tGHB0PBk3x2kU4wrkM9UiIGd8oMhNYI0NEgjFpmlReQzFUbbk9chAo7izK+vBhSgvvZ6Ysrz\n",
       "bQvGUWVqnD8WpFhFZpka+UyFGNgpPxhSI0hDgzRilokA5DMVBtv3X9cIyDaABHRuo7o3EVB6SSju\n",
       "ZyIA+VyF6NgpP5hSw6UxEcAs6SGfq7Dv4nWIgGkqAjRAqfZwUsqzbQuGxPPYN2VLM0t6yOcqRMdO\n",
       "+cGUGi4NDdKIWSYtRj5X4ZF2c48ioKYnJNf2IgIeflFp6UtMBFwKqRAdOxkBl+JKoyOgzTQw8rkK\n",
       "uDKcZBklLDcATbfrCSnva1swBHHknUq9IaaBkc9ViI6d8oMlNVQaGqQRXEKHfDbjO7iR/Mki85tE\n",
       "BOiA0oklJAW89YIwBJHRIoBJwZDPVYiOnfKDJTVUGhqkEU93af+mkhdoueDy/rSw/mmunYv8XcH2\n",
       "7ks36B/t9vf0iRNf/7MTJyokoMUrCWnPPS0kPlozifPKVSD/VLdF/F961NywylcIe8bF3tEcCvWD\n",
       "LZWQJgwCzSCNaI8YvzkW/FTwrQqilC/D3owBBqALC9d/DNAywSFzF19xTOcPrXIqomInx4DVuNLo\n",
       "MWDnV4HSX+xRBBiATrX2IgKU2eDOrwKRsUe6CoRK63UEjCaVgfmHIgSWr4RGQN9WUtoLmAkijHlq\n",
       "RWjnERAZO+UHS2qoNDRII3Y8GywktxjnHYrA58AGoPnJpLQ75gJdSL+8y9lgGHbZE0YjzAY5abn/\n",
       "PFR1zQV2vh7QSCwCvEMRokZA7sHEtIdFwO7XAx7cTU+w1gMYaWlIL7giYBH9+ayeV9ZMwii/kNzV\n",
       "/ylnBOiAUmOJaY8aAUVsisIYyS8yEeDEPrhYd/cEUyot7Y2toZHylisC5P6jr2m/dG+MAhhYSjID\n",
       "FIciTM/gRa4GJKDl5LRn8d4gwpB4VNfjJKxYIfkpZs7nxn5U6QmUH0yptLT8Sr4qIgAN0oizYm23\n",
       "pEcA8s/Si793yFk5efkhHyR8wmVxGj/kQ7hHifmNBigtH9fN7l77mKY9j9NdhCGIz5zwyjeCzoCr\n",
       "sa9oEYD8AXq5lsEuyq1KT6D8YEhlpKWHO8PJgmGQRkyIseMfb9QEIn+CHFzyciqYJyOAOg/Dfc5I\n",
       "eUl8yEMRqE2KGqAn5QToC7vX/hao2uVGPPemyYy4UV94vELyM/T+AAa7KN9UegKl15DKSCs25PPj\n",
       "9sZFj8AdaE09Atxb49Sp4MfIJIdy1UOCeDfpkWfEhzwUgdqkqAJSJkDZmYjaUy1Wu382J2qXG/Hc\n",
       "myZx191gqkLy02shU8EscXHxhm7sCZReXSonrXMdKX9X4LtKEUJ2qaVHgNtoeSApPEwG+ACVP74m\n",
       "GkjNp87fJI7O8I9C8z7koQgHiX6rApIHrubUqk7tc6odt36qpWr3+hxqT6NlKJvCI/35r3oEhOwU\n",
       "ZbDLC7jSE6gKulRO2tGOh+FnoBukEUeD7vK/oEeA4EuCnAqW76FvEf6Pn8waYdOJzfL4u+qQVUU2\n",
       "+8Skt1QJPuShCGeJNFQBJCdA/z2h3hjjtJ+/9XsAH1W9CO+pqtpPgqJ9AFMthEHhgXwwppZregQI\n",
       "viToyZuOHQf5JaUnUHo1qay0w1D+3pd+0zBII0aDIaNpRIDgS0KbKdzgl5u/3m7TW0bv7IafPmw1\n",
       "vSvt4Gr5jV9VMN4lrdgUH1IPkWMogFIXuzhOdFrtcrj2zrX+3MjbX/0Pxc1VXfucetdJPqLqfgS0\n",
       "b0OEkx4Bgi8JbabAYMfpfkPpCZReTSor7UHoF7eXiKeBPSJ4BivfMiLA+dRYWr2PVqOXVbrJrLZK\n",
       "2knQPwJwH6RUe05K8pfwA1d/iM6hADqowLgUrj3Tgv4ZUG/sliq69pRqjHxE1f0IqHh864tGBLif\n",
       "GuOw4wpfK8QPmlROWmGbMkgjhrpV/g+MCBjaNok4pbDZTWZ1mzodbLYKE60htafNyXA4gB+iUI9c\n",
       "hgPitPdvQmYb1EEmpyxte4q1x23kI6rOR0A7XL+xyg0jAgCfqWi34rvwVJgfIkktzVAGaUSxe4/x\n",
       "PYcObfy+tqC1ahJxSmmhm8xqxTvr+He9gyxv0XLGTd1o1fIyNXyGA+K0ZxYgs9WnXdWUg/5OmQ67\n",
       "MGPCKNOPeC76qw99hw5NfKJp81UiRvlOLsQPkaQOVKqEQRqRwTHjE3oicskk4hTvJSB58/IRvBBj\n",
       "EU7m5KCW/ZBMaUer4kNc6qgUKhyQQ3txpVT5S8m8RzmJxVPcpw4Qo8MmjD56d+yEuHb0V2j+RC2+\n",
       "Cy8NhvghktShWpMwSCNKOOXRpyzIL+3k0RBvzTizRC6CFq7AfuUksseVg6vn6+JD6KYW08IBObTP\n",
       "N9INeYZXflg58tlTXFBHDjzFzz6ITy9nxPRraInmn9nBzYvVz4b4IZLUoV9rEAZpBIbXgfbvaZlm\n",
       "SNy7i3dB7DdnMDeKtfNn/0aOb9swXf/7wHEXRsSH6MzUHehwQA7tX4PC7TLELrSyW4V3gdReVq8w\n",
       "E5MmjAx9R1x0qfTZtQbFl0SM8rlmiB8iSc3fSRmkEczBKKEnp7iLt0+qm8w+JFfQj4GW6fm76Tpd\n",
       "db6eCYydGxEfQsymC1m49tzNvvY6apeZnq/9sNfpRfrjKc6pEbBYNWEU6fME55iD/exTW3ZYaL2x\n",
       "paJBOrHIZJTIX2RTzvOiI3+X6oWngOqF+YraTp3rFMxDfx1XMAFvh/k2zvDIjhD2Pzocov3zWpTA\n",
       "JSiswCfl+qmWP+Y2LBg0HigysxPkF9npS7RXpdF6NalHwsMBDTKIc0w+gfwuYWjwN548E/zzD8ep\n",
       "NvhOjmqDj4N2EPJcvZMJzJ++S06B1XnwdIVHltXHQHzllUt7tikWSLtGbHUygcKVk1XUrk6fs2sW\n",
       "DBoPDDK5KfK7hNlI3hYg4i1h9huCGL2a2mz4JQENMohR2irJ7xKWw9MLpWPicnLcbAMvD1OT2WCB\n",
       "slOhCSU12ofq8E54pfovUGoSc4GJSR5ZWr9rjcfcu7T/E8DLKm8LUpOl46Ux+DYxF5AXX/v6aWQm\n",
       "a+DmdwmzkbwtQMZbwsRrx8ysfzJUbTr8CS47nekS3Om0xqG4hgZ/4wmuBx8328CbV6vJLE64fzo+\n",
       "focWx41sBV7rjAMPd5rmSY/zpLoU5kBWFPmC8corh/bysfFxbQ37TbgHBmr54dz+aldxfoZwQMgR\n",
       "y1H4s1QjeVuAjLeE+WnKVFT5KhvdEby+KrxFZdMyO0yR3yWK+vKDt/EkNwzl8fHxDxAR4PWlz5lR\n",
       "6XWyxXZbT+Xf7HS/T8Jt8EcQvEZZeZdyYc2BbM57Qcvy8mvmK68c2ovttv505eDpZicJSVeytUCx\n",
       "+kbr+YoJg8EDcLAewvcJw4X+FiDjLWF0BHB6VbVznRzb80cteH0Vtc5coQnuFSbGu1XQ4ei9hexY\n",
       "jRsD4E+oGOTWsFbgT8u/UrXvC5TWHcjwFp/xyqu42oegf/InL4N9X+DMpAmjxG2PHm2G8H0CGwm/\n",
       "fwOMt4TREcDpVdWiO4LXV1HrB5MMcR9j1n0a8VHz6+er5duDpO3Lfz5ptsGdVN/lLlXH80swTNwb\n",
       "TM04kKEG45VXcbUXq38HKSDuDd5kweDwePeb3HyfsFxYOA7GW8LoCEjNhKtFk73XV9HlJo44w3QO\n",
       "5PsEaui+KcuaARpt8BwhsMA58NnT4EWAP1HMq+Nw04HshWowKG1bmWAs7YX9DT8CfMWfV/jXLBgc\n",
       "HiithvB9Al0oXgVkzADV147pw3czXO0L1WCAGeIm72iQRQwxlw3k+wQ6HNcCfmauxaptkKGy1w/x\n",
       "eao3Ly562IuKAdybEH1AK2L5zXjl1U60nxeK/1nJnDctGBPsnH0tjL+mNhLabL0hiB4DWL2KWnRH\n",
       "8PoqYiqwyRGDzMvGkO8TK/oqq9x4QkeAe58gMVedVPYJiiSf86sPaL8YooxXXu1E+x+Ask9QpFYV\n",
       "EwaLB+BcNYTvEYYLqTcEkRHA61XUojuC11cRy0oVjsgxqSDyfWK/fq2QG0+0CMA2gI9TzczOWXPf\n",
       "rqp7hYNBjltJoxAPaP/F0/7ZH2l7hYNLTcuEUeI3Jsw1Q/geYbiQekOQB0K8ISjcD6xa+trZ4gkm\n",
       "gJEf7RRWvQ1i7tjvpPNpT0taUdXP3vsiAKV3oX2wFihWh7V7LRg8HutUcYvPVaDGACvhG4urliz3\n",
       "8kSRy5KbIRVcbdCDwgdeMfkjjKRzI3WEl8L4L0XSOhbPDxGlMsEoTcwyowzys9uwByXH7wS5DoDm\n",
       "aiaMnGtnynQrhM9V2JUf4khFg2yCPx38QFiFREtmif8ueUCHLRguPOzJ5siPcfR5DD/EkHqYJzqD\n",
       "KrOIhHyuQqLlFsegmzigvvstGLc4s6EXw/gvJuGH6FLRIJvwVgaYM6iQX7h/DyLgBcd3iQOSa/gv\n",
       "RMED8Fw1hP9cNQE/RJeKBtmEV97P/Oz9YRWSTANGXN8mDejTFgw3HuhrhfD7Wkn4IbLUT3PE/wN3\n",
       "gYqy1WVTtQAAAABJRU5ErkJggg==\n",
       "\" style=\"display:inline;vertical-align:middle;\" /></a></span><br>"
      ],
      "text/plain": [
       "<IPython.core.display.HTML object>"
      ]
     },
     "metadata": {},
     "output_type": "display_data"
    }
   ],
   "source": [
    "_failure_upper_bound_lemma_inst_bound_04 = (\n",
    "    _failure_upper_bound_lemma_inst_bound_03.inner_expr().rhs.operands[1].\n",
    "    operands[1].shift(Neg(one)))"
   ]
  },
  {
   "cell_type": "markdown",
   "metadata": {},
   "source": [
    "Then negate and flip the order of indices on the first summation (possible because the summand is an even function)."
   ]
  },
  {
   "cell_type": "code",
   "execution_count": 33,
   "metadata": {},
   "outputs": [
    {
     "data": {
      "text/html": [
       "<strong id=\"_failure_upper_bound_lemma_inst_bound_05\">_failure_upper_bound_lemma_inst_bound_05:</strong> <span style=\"font-size:20px;\"><a class=\"ProveItLink\" href=\"../../../__pv_it/theorems/e5f8fae80d0c15a1e3af708f726b9705a021c1de0/expr.ipynb\"><img src=\"data:image/png;base64,iVBORw0KGgoAAAANSUhEUgAAAKwAAAAYBAMAAACVRAuIAAAAMFBMVEX///8AAAAAAAAAAAAAAAAA\n",
       "AAAAAAAAAAAAAAAAAAAAAAAAAAAAAAAAAAAAAAAAAAAv3aB7AAAAD3RSTlMAEIl2mUTdMiJmu6tU\n",
       "ze/kkN0jAAAACXBIWXMAAA7EAAAOxAGVKw4bAAAB3ElEQVRIx2NgIBnwNkAZjHMZqAjkYYxiM2oa\n",
       "exbOOkaaRsZQPJJNuer4je1pwKHTNhCfpXcIuJZ9lwBWcZ6PIMlELDItvssZGD7iNpbD5VYBAwPX\n",
       "BqzGMiUwMEj7fsSU4FjAoB/A+oCBfRUQrMBibBcD01eIfhzGMjBjMZa7gYHvAfMGcZyu3cHA8A7d\n",
       "WOZlabn4jeX7yMD9g8VAEaex7wUY9jegGst6WYCgaxMYuL+zexbA0sR9ZTQF2xgY9hdA9DMqm4DN\n",
       "6xUgGAhAwPaBQOLMh+oPK2BXAPFvwGVYLuA2tt4Av6nsn4FaHwBj9ycDcwBI4AJcqm8CbmOzCTiW\n",
       "DZi4OP4AE9lnY1WwNc/S0tKyQKzuqww4jWVZgCVPXksDAUiIe4EI6TsM/NC0ywjXwO4lgNPY2QQc\n",
       "ywk2TTeAgR8WWIhUAc4lWI3lUWDowGvsIQaOBnAuZQPG1wGQiDHh7MBQxMBgiDfCFBiYBRiYgFHG\n",
       "eYFBBFzk8B5AMZbpB7R0BUYl419o5k1xcUnAZ2ybi4sbVL/RTEgwMO4KRDKWe9/fnZCodQASKdBo\n",
       "/v///wW8ifb//7/omZdVCznzUgDwFTXUNxaUSygBLNgDCpRLKAFyE7CLt+yhxNQmoG4Al0x5ui0f\n",
       "zyMAAAAASUVORK5CYII=\n",
       "\" style=\"display:inline;vertical-align:middle;\" /></a> <a class=\"ProveItLink\" href=\"../../../__pv_it/_proof__failure_upper_bound/61f93379aad1f5916be3b3d3514bd1620e590ac20/proof.ipynb\" style=\"text-decoration: none\">&nbsp;&#x22A2;&nbsp;&nbsp;</a><a class=\"ProveItLink\" href=\"../../../__pv_it/_proof__failure_upper_bound/9113a1b6167d501448967911c2427e0641732df50/expr.ipynb\"><img src=\"data:image/png;base64,iVBORw0KGgoAAAANSUhEUgAAA+MAAABMBAMAAAD0CHtFAAAAMFBMVEX///8AAAAAAAAAAAAAAAAA\n",
       "AAAAAAAAAAAAAAAAAAAAAAAAAAAAAAAAAAAAAAAAAAAv3aB7AAAAD3RSTlMAzUSZq1TvEGYy3Xa7\n",
       "iSJNjWSlAAAACXBIWXMAAA7EAAAOxAGVKw4bAAAUT0lEQVR42s1dfWxk11U/8+X5nnFKGkEotf+o\n",
       "UiSg67BBRNlNPRXbBsGCXTUEFFTZIiVpScETEkWhJXjSjyQQVA+KGtG0yG426qaugkditakSFfuP\n",
       "EtJq1R2koJZEaKesQKgkrHeztte7az/mvnn3+5z73njmrbl/zN49vu+c3zm/e+87974vAFbeBXh5\n",
       "l1W5dqVy3PXXuAH9pG7CcOOBxHiInGpAmx7IcQS3qjhVww8TcqpBrOV1x99iB1SuWTBedx5wS5j8\n",
       "lv5ND+S4jVtVfBfRr4T8rvo+UD7SoP8WP6BPWjBceCBzX4icauAyPZDjCG6pOEvYEPLsJ/eBcUju\n",
       "kn+6BoAOdEwYDjwADzdC5A83+jc9kOMIbqk4PYofJORIg4wBqxhD1I+Sf1EAVSaCylvDHfjpNQvG\n",
       "UUfzD4XJPxQdrjRNOn6We//PEcJ31Fa8SCQWQo40+Jz6n0e6QCaGT/m5aeovCqBcq/dv/u7hUl7Z\n",
       "sGDQeCB/IUTOK1HgStOk408F///y8QjhExWp+DrimOvoBlmR2DH4rywB/NLwKS8tQRgygJd/JagU\n",
       "hnx6/74Fg8YDidEQOa9Egvt9CHG8eIyzeDxC+CRurjhD9FAhRxqk+DAr+Q26OhPDT6jyV8CN7NHX\n",
       "74ACxET5YsuEQeIBmBkPkbMKBfeRUco05nj234/UQZAoKc8+RoVP4uaKE0TnFXKkQRd59kffVikv\n",
       "Tw9/mL8KbmQTcBs80D2xHTx4cHzolJdmLRivko1vDJPfSMP1J0nCNOJ4ClJL2VGodLX8skr5V18m\n",
       "w/eqqZjqU0KONPgxwGeaaZXyTAwn85lpN7ILcK75sVxMozyzYcGg8JDjXx9oFNzMEmkacbw6XtnO\n",
       "TDTsif1uMnyiwhVPEbEScqTBLwIcqfxIpTy5NnzKq6NuZE90Y3j2S0FQT/7rkK2ft2BQeCC9FSL3\n",
       "KxRci3JpGnE8V69sV24NFkxf/eNpmnIEd09x9iqxBLxqVnyop7rlB3AnwD1frMPhU6+eOtXwMedj\n",
       "oDy97UYG8EaMK/OppgmDwAMwvxYiDyo4XJtyYRp1vIyfie8mwydx9xTniFlEyLEGXwPY1dO3OCb2\n",
       "5I4bGeSPx7kZ0zZhEHgAFqZD5L0KAdemXJhGHX+2Ho1yBHdPcYmYlIQca9BN3/4JyirlxVYMUd90\n",
       "Ixv29osxL85aMDaJpqfrIfJexYT7NTZldhDKq7MOx83tl2DitSlHcPcUzxMJu5BjDUodePDbLwWU\n",
       "V/5lp8Ukwy+nm05klYlKJz7KS9sWjNPEhHsZ3PJehYJrU17adlByFv432ihHcPcULwSTiDldcLms\n",
       "qHNGW12Xs/LnfYXz2WjDcxWd4ASgt77y9J6GeTTrxR0Lxiox4e7g5xkuDyoUXEG5OL6In0F8xyvf\n",
       "+8qvuikX7tm4e4qn/N2C7K+NGXCmxs2KWj6o7L5pgijFNkYtStAUWQCa87w9EB7Vev68BQPHA+ne\n",
       "1tBDN2+hcl4h4PqTpH58Hk/ZfcdHPG8d++PbY2+a7tm4e4rneE8w4jBnVdRSNlrnxvsK+2o0yqto\n",
       "njE36JQd0bpXN2HgeGAk4KC4hctlJWRe2bJM78XxVQduplicb4w4GOchqxiYsrEEPXGhjzPn0K2P\n",
       "jZswEhecaY9JuTMdclI+Nj6A48I9BDdTnLmKx0HIM1djSI0iBj2F7WoNDiii9cmWCSOF77LNrOGU\n",
       "c7msRKV8sjWA48I9BDdTnNrB4yDkqZ39ozyHOTk4oIjWF9ZMGDk86JNtnHIul5WolC+sDeC4cA/B\n",
       "zRQnNvA4CHliY/8oz2ML4cEBRbS+OGvCyOML87FpnHIul5WolC/ODuC4cA/BzRSPbONxEPKR7f2j\n",
       "PIuluIMDimh9ft2EkcVXCHNNnHIul5WolM+vD+C4cA/BzRSLZM6IgzNLTXhKacUXdPCazjR+TIFx\n",
       "ZfjrhW0Lhtd0pfYm5SLvVhNwR+zk8dXtsPWLw3Xpno2bKT63jsdByM8hHS7jBZD+4hc+4s3GSPkK\n",
       "MiMqgGYCV7L/cWJuc+jWCxsWDAwPVDxAKRfyihctdvL4AjaHa0w4XJfu2biZ4pklPA5CPoMtMKbk\n",
       "euGvNmKkfAyZQhRAaU/UcyvTw7aeuGLBGEMz6cs45UKeuRwtdvL4BDZnaUw4XJfu2biZ4tVRPA5S\n",
       "ju04FbyaqB+OkfIpJNVVAa1clPns2rCtp3csGBgeKJ7HKZfy89FiJ49PY8m5zgTtunTPxs0Un+HN\n",
       "z3S046QcC2XeuyQNdvqn/EzEYyZryLEKoEWvIeofHLb11EULBoYHynwJVN4l5FejxU4eL00Tjrtc\n",
       "l+7ZuJniqeA/R+aub2jjq2ZW9J7kSbCNvhk3jdHkIFOMCqjoySjnhm29fN6CgeGBdMBP+iPnfx2T\n",
       "y4o7dsrxZWyTXWeCdF1xz8bNFJ8mbm0QcrxByVuCa1DOLDmQ+f+5HJ/x8mULBoYHSu/gxwu50SBC\n",
       "7MqXIcTxSK7buJniMYJyIccbZOfeuRaUr846kLHysDcRm/HipgVDw5N5b5ASEaEQcqNBhNgVNyHE\n",
       "8Uiu27iZ4hViL1DIiQYHvOlrQPmCWJckG4ABSnobsRnPeRaMBWWdlDsWpEkFYiNUyM0G4bGTpuHn\n",
       "AXAmIrhu42aK5wjKhZxoUPbuu6aUZ1qAAjqzWd8fyosvcsMjBOVCbjYIj51C+e8DEEyEu05QTmye\n",
       "CTnVYOz8NaB8BqO8pW8EjsZlPONZMCSeR78lqSU2/oTcahAauwxKucFEuOs2bqZ4jkhehZxq8LDX\n",
       "3ifKG/qJcWc/KH/wBYXaSwTll6gGobHDKW+Y+dTOnij3CEaFnGogNg7jLAcQyg1AM14zJuNJz4LB\n",
       "Kw+9W2lXJSgXcqtBaOySGOUWE6GuW7h9xVQmIeRkqjG5Gf+7JRa3EMp1QKnYkoq8uBoiYPBKWqOc\n",
       "SKOE3G4QFjtpWqXcZCLUdQu3r/jJnm7/igzrCtngNPMkt/kkBa5AX0PzBi+9bvlIr2Onlpe/8UfL\n",
       "yzUU0MqVmKxnn+QaH2mYlbPKxJ57okesfySrzY+qcqXiih03Darp25aX711efp5iwnI9AGGET6kw\n",
       "xd64cdCxAAGXWw14qVyG/RnlBqBzS9d+lGvpW9W8I64wocutBqGxw0e5xUSY6/go3/vEXvwT+P8w\n",
       "scPJzn5QrizS9jCxh8Uu2sQe6vqwKT8QV9rkP3sfQF0PpTy5HZf1vMihBIxFbCtmD5SHxS6Ppm8m\n",
       "E6Gu27jzgyzS8vFte7Fn7+mM3QC0OB2XdUfG3oP0M3tdpFGxE70tGWWRRrkuRwyese99Xd6KjXL2\n",
       "7H1UyrP3x2Y9jPIB1uWtyL3NtS6/P/KI0ShfEXqe1pPBhlkxyk/FdwZ/wkm5DigxEZv1qJQXBKP5\n",
       "CVReuBQldm9sY71NodxkAnW9vNJERoxGuby153l9T9B57w9AaS3OtI0/ez8zK85bDUABnYrPekZc\n",
       "zhIwJB419GKpVKihcvO2Jjx2uXXZ26Rp5bKKyQTu+oIyYmzcTPFp8VCiTrmQn8b3Bm+Ti0T0jII+\n",
       "pPY5V6BT4kc+grmArEI0QCn5sGdmcOsTmvWcWEkJGLzymWVWvhkwKPY9X9YoF/LSTpTYpUZlb8uh\n",
       "18t1JgjXb1ZGjIXbVzzFZ4e/vV5TKORT6MyZk6uMHEr5xxCZ+00TlTX+I5+9x2680wA9LpcpXxzc\n",
       "+lugWpe3rLlvBEzzy9/5x2qoPP1OlNgVWrK3FdG7YnQHCNe/pYwYGzdTLO6KauuUu2/3UlcZd2F/\n",
       "z2KxeYBX3otG/Sn+I5+9x268UwEpy5TMbETriQ5p3X/3orAub1lz3wgoblQrJ2qo3LiTjYgdm415\n",
       "bytjT0LpTBCuV7aVEWPjZor5f4odnXK3l8o7Jx9Eb/EoYUnfa5wRNQk6e8MPeDevBz/y2ftJZGSq\n",
       "gOQ7NrNqU6f1edWPmz/dUa2z4SGsp4RnQvckmjFxfv5Rp5y43ZGK3YLS21JYUHUmCNe7GYEcMTZu\n",
       "pnghGBD/DTrlXC4r6Cqjcid+Uei//NzR6Cfdzlg5+J4mZFSV7SRfRRZrwY989v40kjsqgOQy5T+n\n",
       "1KtKlPWzN38P4KMqK/C+umr9BCjWSyLrEjAwPJALZuFKQ6ecy2XFGbujSm8rYZfgNSYo19Nryoix\n",
       "cTPFB4JJoW1QzuWyouXz1/nlxm94Hn7v3u29bqtPgG12tixfqLzxcwrGO6QXW/xH2kHyBAVQ4nwP\n",
       "x3KXpsvh1rvn6zPjb3/935QA1XXr8+qVC/nYn/t5wuQm7z865VwuK87Y3a/0NvSJQ40JyvWRljJi\n",
       "bNxMcfDUS65jUO58QCmlXnVq4PsZvdxR24DsptG/DXAvJNTAnZDVnxY/YvcB2ZhUAE0qMC6FW093\n",
       "YGQW1OuexZpuPaE6Ix/7cz9PyJ8/+pJBOf6AEhW7/C5qGnecdn2xg4VPVJjias/S/4BBeXXXrPRT\n",
       "8lu93FHfH+wOobk6THWq6lial/wfFj9iWxm5chsOiLI+sgXpXVCnkawymphh7bmPqv0eD/yFHr37\n",
       "0istg3IQ96t7nfCQFWdR03053i0n0fBp70Ap9C7sve/Ikc3f0raOLpiVfkpxqZc7aoW9V/Y32BsG\n",
       "b9ISvS0droq5gt3bGw6Isp5egvR2UjtRKW9sO2nG/dysCaOCP+u44u8CJI8cmfpE25arFUcp1eqI\n",
       "6f4c75bvZpHwSdxMcVrMCp/QF5uXzEo/hX0dIGeeEYIPD6zAiaycHzMflunsgTr/4SdBbHkaDshh\n",
       "vbBerP2ZFN6pvNKDGU6qo+vAqAkjSbypic/PIzVcPtUID1m10UZM9+d4t1wqI+GTuJniolgO6EtB\n",
       "IS/u5RkFtqVofS+it0GYvwKHlPdJPaa8FXixyX+4bex+vnBADuuLrVTrhzKnHlVeuMsM59W5wXhb\n",
       "GpDvY1vlS6DqGi5fjXAhoPr+FmK6P8dZGvNZJHz6K+xEBzjs/aaWbob0bHdhJ7URc0FzPd+Hfvov\n",
       "5dyzCzPNvwkidW6c//B+jSWu4YAc1p+H/K2yT53rZLbz7wFpvaLOnVPTJow0ftGTj8nU6YstTI4P\n",
       "WnOpdztmuj/Hu+XzbSR8EjdTTLwLI/RlGe7CbgXq5Y4PyN3oY6ClZ/4dYt3BuNhMBzDnx/kPV7Pl\n",
       "QhZuPXujb70prMv0zLd+lA1rnsIww1mV8pW6CaOAv/dtnnitm5DPr/cZv5X6nhw342Dj9hWvENmk\n",
       "kK+Q6Sb9HR82zk4CNs5yNZWY7hkMFmGkKbccxVUgP1SzNLKHkDAGn6ygrX9B6xZwCfLr8Cllw1NN\n",
       "+rKbFgwcDxSIVFrIeQXDbH0gQzONU0LpMruchbun+AyRWgh5r2JY8L/wgXzHRwn6d7NY0D8O2rtr\n",
       "55vds/niK3fINaW6sJyp0cgy+mQpvuvjsp5pa6+8zW53z+b5Kyfqwrq6OM5ctGDgeKBM5FVCzisG\n",
       "Zv/Knf2BDNU0TgmmCyk27p7iA7gbUt6rWBFOLRnf8VGDzpInNXfkO4qQb0NRnbSqTXg3vFz/Byi2\n",
       "kYwdPaUFgFJ6hiPeEu6y/ncAL6mybUhMF48XJ+A7SMaunwAdeCCJMyTlvGJgBv80czeSm2+4KcF0\n",
       "YSuJaTwrod4varyA1LDAvvBhfMdHDTpb36q5o1j4/uTgwdu0gdDK1OC17kh/sMvF40zyuLp75EBW\n",
       "4Od847s+DuuVYwcPatvDb8KdUGrkRrOH6j3DuVkkACGvs40iDyoCMzz6VMNBOcGJJjb8j2JecEnc\n",
       "JinkvUpB301gX/gwvuOjBp2Nls+b3ZANoxXP0/PON7sD7FNwC/weBF+CVT4Hm7/oQDYPKfbu+dfM\n",
       "7/o4rBc8T39yr/xKu5tIpGqZRmBY/YrsYs2EQeABmGyGyIPKfDd7ZaAb2W9CzUH5Ys1NCeI/tglp\n",
       "4+4ppr4eYXymQVgQ4VoyvuOjBh3+AOuk1B7UOvxh5Wfr9h57ccOBTFwQM77r06/1KoxM//glZI99\n",
       "ddqEUaRu6iU+jCHlQUVgTtfedo3y1Wk3JYj/2Drexh0ovpfw416t8lHzz8/Wje/4aEG/Heuk1Nnn\n",
       "eG4NRpEraYlZBzJhwfiuT7/WC/W/hgQgV9JusGBQeNjFGrc8qAhcI7f+LhtCn2ZDCKH8hjBKTP/x\n",
       "7Qkbd6B4lej+Qu5XhIXggyDmwswI+jPYRENF7OlXgFHur99y6tTadiB7rh5MO7tW+taX9fyhlk+5\n",
       "b/gLinzHgkHhgeKFEHlQea4eTOzVjit9y1MPEatUGf4jxcbNFVeJlF3I/YqwINbk5hc+tKCnsanp\n",
       "w3Ryyb74W2BxKChrNOoLbj6gdb7RZXzXZy/Wz3LDf69kzVsWjCnycdGLYfJeRWAuTUObppz67JpG\n",
       "leE/lrBbuLniMmFAyP3Kur6BiXzhQwu6+943ZCU6rdz7xlNRKpA+oEO8xxvf9dmL9d8B5d43nh7V\n",
       "TBgknu6KuR4i71UE5uyhp+oB5fwDGYCYJimx/Uf2c2zcXHGWmEaE3K8c0qd/5AsfWtDh4xiv5FIy\n",
       "+526eodrMBtSUxaGuKT9rz/rn/2hdodrMIl2TBhF+nr1fDtEjjdYI+bvTh+OkwXBLRRT77cU8mgv\n",
       "wNSD3ued5N2kM8WspBRTI+T1JwRQagDr5UZgWJ247rFg0HisdzRbcrwBofAe6MNxsiC4heIClcu2\n",
       "Qxq4gj6EQvtXiP81NZKjSD3/xTD5i3sxPZDjNm6pOENMWEKe2YV9KFn6joBrAGi+YcLIuu5QmOmE\n",
       "yKkGLtMDOY7gVhRT71o+HNYg1pJeo/8WP6CjFgwXHvI90ULex4ukj8IwHEdwK4oLRLcS8kJjHyi/\n",
       "yTGPxg4oeZ8F4ybnefSFMPkL/ZseyHEbt6o4TxgR8vx9+0D5c46/xQ5IXlJ4LgoegGfqIfJn6n2b\n",
       "HshxG7em+APEYR8IaxDnqdzleeyA/tSC4cYDyU6IPNnp1/RAjiO4A8X/B+1tbS3gJzwHAAAAAElF\n",
       "TkSuQmCC\n",
       "\" style=\"display:inline;vertical-align:middle;\" /></a></span><br>"
      ],
      "text/plain": [
       "<IPython.core.display.HTML object>"
      ]
     },
     "metadata": {},
     "output_type": "display_data"
    }
   ],
   "source": [
    "_failure_upper_bound_lemma_inst_bound_05 = (\n",
    "    _failure_upper_bound_lemma_inst_bound_04.inner_expr().rhs.operands[1].\n",
    "    operands[0].negate_index())"
   ]
  },
  {
   "cell_type": "markdown",
   "metadata": {},
   "source": [
    "Now we're ready to split off the first element of the second summation.<br/>\n",
    "Nielsen & Chuang originally split off the first element of the _first_ summation, eventually leading to a bound requiring $e \\ge 2$.<br/>\n",
    "Instead, we split off the first term of the _second_ summation, allowing us to eventually derive a bound valid for $e \\ge 1$.<br/>\n",
    "In doing so, the resulting expression is auto-simplified to combine the two resulting like-summations:"
   ]
  },
  {
   "cell_type": "code",
   "execution_count": 34,
   "metadata": {},
   "outputs": [
    {
     "data": {
      "text/html": [
       "<strong id=\"bound_07\">bound_07:</strong> <span style=\"font-size:20px;\"><a class=\"ProveItLink\" href=\"../../../__pv_it/theorems/e5f8fae80d0c15a1e3af708f726b9705a021c1de0/expr.ipynb\"><img src=\"data:image/png;base64,iVBORw0KGgoAAAANSUhEUgAAAKwAAAAYBAMAAACVRAuIAAAAMFBMVEX///8AAAAAAAAAAAAAAAAA\n",
       "AAAAAAAAAAAAAAAAAAAAAAAAAAAAAAAAAAAAAAAAAAAv3aB7AAAAD3RSTlMAEIl2mUTdMiJmu6tU\n",
       "ze/kkN0jAAAACXBIWXMAAA7EAAAOxAGVKw4bAAAB3ElEQVRIx2NgIBnwNkAZjHMZqAjkYYxiM2oa\n",
       "exbOOkaaRsZQPJJNuer4je1pwKHTNhCfpXcIuJZ9lwBWcZ6PIMlELDItvssZGD7iNpbD5VYBAwPX\n",
       "BqzGMiUwMEj7fsSU4FjAoB/A+oCBfRUQrMBibBcD01eIfhzGMjBjMZa7gYHvAfMGcZyu3cHA8A7d\n",
       "WOZlabn4jeX7yMD9g8VAEaex7wUY9jegGst6WYCgaxMYuL+zexbA0sR9ZTQF2xgY9hdA9DMqm4DN\n",
       "6xUgGAhAwPaBQOLMh+oPK2BXAPFvwGVYLuA2tt4Av6nsn4FaHwBj9ycDcwBI4AJcqm8CbmOzCTiW\n",
       "DZi4OP4AE9lnY1WwNc/S0tKyQKzuqww4jWVZgCVPXksDAUiIe4EI6TsM/NC0ywjXwO4lgNPY2QQc\n",
       "ywk2TTeAgR8WWIhUAc4lWI3lUWDowGvsIQaOBnAuZQPG1wGQiDHh7MBQxMBgiDfCFBiYBRiYgFHG\n",
       "eYFBBFzk8B5AMZbpB7R0BUYl419o5k1xcUnAZ2ybi4sbVL/RTEgwMO4KRDKWe9/fnZCodQASKdBo\n",
       "/v///wW8ifb//7/omZdVCznzUgDwFTXUNxaUSygBLNgDCpRLKAFyE7CLt+yhxNQmoG4Al0x5ui0f\n",
       "zyMAAAAASUVORK5CYII=\n",
       "\" style=\"display:inline;vertical-align:middle;\" /></a> <a class=\"ProveItLink\" href=\"../../../__pv_it/_proof__failure_upper_bound/d41fc57891183a72bfc388d80c4b5dc7ccf943800/proof.ipynb\" style=\"text-decoration: none\">&nbsp;&#x22A2;&nbsp;&nbsp;</a><a class=\"ProveItLink\" href=\"../../../__pv_it/_proof__failure_upper_bound/8666a499a3526315726dab709f1607c3bdfee1910/expr.ipynb\"><img src=\"data:image/png;base64,iVBORw0KGgoAAAANSUhEUgAAA8QAAABMBAMAAABZiWPsAAAAMFBMVEX///8AAAAAAAAAAAAAAAAA\n",
       "AAAAAAAAAAAAAAAAAAAAAAAAAAAAAAAAAAAAAAAAAAAv3aB7AAAAD3RSTlMAzUSZq1TvEGYy3Xa7\n",
       "iSJNjWSlAAAACXBIWXMAAA7EAAAOxAGVKw4bAAATmElEQVR42s1dfWxk11U/45nxfNkzTkkChFIb\n",
       "qQqoQO3gAlF2052KbVqVBbtqWlBQZYuEpKVJPWGjKLQET0qbLATVgyKqNi0akw3d1FXxSF1tqiyR\n",
       "/QeENFp1BxTUkgh5ygqEStK1nfXXeu3HvDfvfp177n1vPp7N/WN8fOfc9/u9c+7HuffddwfATW8D\n",
       "Or1NEw4u5c/Yvo2a0I9KmIadD8RGsGBSaB+6BxaMF2kdnm9SiDS9avkuckKDRY3Gq9YC79EEk0IH\n",
       "0N1b8GMlWoXnmxQiTf1l83fRE/qERsPGB5L3YcGk0Al01xZMfYLW4PkmhWhT377xqwMgNNrANCx8\n",
       "AB4uY8Gk0Al01xZMDNEaPJ9QSDbU/3MRWPmE8RuJUH7MF97obcNOLGs0TljU36cJtEIYugR0txas\n",
       "GgIBnk8ofE7+55Gmxcd67+LLk6ZvJELpWutv5q7euji/odEw84HMOhYMCmHoEtDdWvA6g8J1YFRI\n",
       "8UDMpXt+HuCXe+/igXkIYgbwwq/6QrbHw/MrGg0zH4gNYcGgEIruK8EWaM+CSUPF4/mEQpw1owFP\n",
       "oXmlWO8DoMwu2Jk9+uoHIAsRubhawzSMfACmRrBAKJjoPjIUCN2lBWOGqsLzCYUm09QPviO7eHCy\n",
       "9834JbAzG4Pb4EGAS+Pj4yM9d/HAtEbjJaPyTZpAKBjoep1gEHR3FuR1xlSXCIUfAnymkpBdnIxg\n",
       "MJ6atDNbh8uVj6QjasXJDY2GiU9wQ/fyTXST88HQ3VlwwmAbnk8o/BLA8fwPZBf3LffexYUhO7Mn\n",
       "mja79EXfiOf+rcfoaxoNEx9IbGGBUjDR1VxMQHdlwdQ1w9zzGhY8ahea6XtwJ8DdXyjB0QsvXbhQ\n",
       "9jhmInBxYsfODOC1CGfGExVMw8AHYHYZC7QCTVd3sQ7dlQXTG/S3PJ9S+BrAvhpuRdFR9+3ZmUHm\n",
       "TIQuHq1jGgY+AHOTWCAVDHR1F+vQXVlwwNC38HxKoRlu/RMMyi7O1SKw8qadWa+XO1AnN63R2DSo\n",
       "XixhgVTAdL/mdokNwsUENLZBxcL8T0qqBWcNATXPpxQGGnDyO8/7Ls7/y17Nzel9ulixMsuP5RvR\n",
       "uXhgR6NB84HUVSyQCia6uosJaJQ+aJ0rnVEtOOd3Ck+jKsbyhSB3AHV5XuzVnLbM93S45rdUJ3s9\n",
       "lvvGV57qqBmHQ8/taTRoPpDeQwLukVv5JrrcxbwYAY3G2Dp5H+wCd6kWnPAm66nfGEb6EyNYkNN7\n",
       "pdUtJSNM0sFMyw9kQMkJzThOBw4Oi55Z02jQfCCxrgoP3bJFKRjoep2gWoyAVtNj5H3wC4jnkV75\n",
       "GeZvpD+jCXIaRNrpkbbMvBTOxQUyTpjptgsOie6UMA2aD/SvIiG3ZVAI6De2zNBqrfg0fR/8As/J\n",
       "FuTDB9IPGl/Q1VORGDm2bhv5onbx8AimEVsPF7ZgF5viHaOLdWg12q0FuJg/T3fLJ6/R983zk9ci\n",
       "CGVCGjlOLRZ1Tygk+rEaphGnF6+mlpGAXTy13KaLdWglPQ4BLo6NSeXje/R98/z43uG5OE15s3tC\n",
       "IdHnljGNNF27jtWRgF18rN6mi3VoJT0Q5GK+GcAtH9ug75vnxzYOz8UZalrYPaGQ6NVpTCNDT1OH\n",
       "J5GAXTw82aaLdWhKz+xiuF4q379D3zfP7985PBenqBC0e0Ih0WdXMY0UHcHPVJCAXTxTadPFOrQy\n",
       "FBcDXTxVEuV5yIb0rVFkzJFSLTojg1OxhtnDEo3dnqMXdjQaTsUaejMBu9gphbKdKEZAy91LJdDF\n",
       "szVR/vIqfd88/zIR8Ccdn8Kf/uIdznSELl4kejiJ0JRvgNR/np3Z7Dl6dkOjQfGBvIMF5OK8E852\n",
       "ohgBLaU7INDFfL9Is/zUPK3P86eogH9CTFz+YiNCFw8TXYREKOFwOb042Wv02K5Gg+IDyatYQC5O\n",
       "Xg1nO1GMgJbSPcEuTu+L8ktDtL7Ip9ZXsg5fP4GjEbp4gghFZUKLV0Sgvdxr9MSeRoPiA7k1Tdii\n",
       "FQJsJ4oR0FIQuh3s4tS2KL/CLLPSULRFPmW6jLMtbNto38UrIcscKxJlJUJVp8zl9/YaPX5Fo0Hx\n",
       "gcFrmrBPKwTYThQjoCVH7pvuQ8K9R5Sf8C9xfOb6stJ+ilhQG4IjLl9u28MYzOwMoguRCeUccVPp\n",
       "XqMPrmk0KD6QuIKExB1rHyQV7LaTihHQIrGtXdp9yLiviPIXDY/yeT6tMODMwwGklXkLM++fq9GB\n",
       "D17VaFB8YOAtLJgUQtuOgJZmjWGGpBVRftjgYp5PK6Rm3joIFy9NW5i56WFnLDLw3KZGQ+GTfIcf\n",
       "GzFTxAw2QfkhbEdAS/P1MLc8N8LLLxrW1ni+QWHUmTwAF8/xCVJfGShCfc5GZOBpR6MxJ80g06f9\n",
       "aCfLYqOsYWkV5wfbjoCGX+ABSJiVCKbULD9jcDHPNygMOvcdqIuTNSAJrWyWDsfFuW8x4P49LOCe\n",
       "da9d21Eu/j0+awzTuFhTd11sqBI836QwvHYALp6iXFxTF9qGogJPOhoNwefRbwoP7mIBu3i3XdsR\n",
       "0MLFc2GWQwtFXn7GEFzyfJPCw079kFxcVge2vcNw8cnnJA9uYwG7eLtd21ldvBRmzldY5uUdgwd5\n",
       "vkmBL8RFmUYJFyNCU04lIvA+R6PBhIdukK25jQVs7u12bUdACxevhBma+od4edPIz/ONocGxzejP\n",
       "DqhuES5WCcUjCwoy/OkBp8GEhOLiDSxgF2+0azsCWrj4WBi7Z+d5+VMtfe+5h1thUv4wcYpd55Tp\n",
       "glnzMyan+9SqvI+0Wmx8YeHrf7iwUCQJLe5GhJ46xa74SBkLl6SOOv2EKhS8S3gxz5CqYLMdgwYS\n",
       "+raFhXsXFp5trf2A6rIWCrJcdpqXd0YQ1Gn/AixfU2ApfxUOpxUjQpfnD74VK+FWYR0L3JNjdH6g\n",
       "7ayteIJGQZnTvHznHXXu0/D/oaOGc43DcLE0aeqgow6yXU876s5dPBpVmOO9a+0TXA10cd9OVOgZ\n",
       "HvNwGlVq6aMDFwfZjoCWwq0wdZqFW9UuJk2Z6JaV3HetzRE1IlSdjArdElG3KP10p5Mmk+147bJG\n",
       "1Evm+pH6j+N+vesv8vKdz4trkbnYfdc6rItTn4oMPcjFXcyLa+3XrlBLH3GI+x10YYyXX+QGe0qN\n",
       "U8tYQOknohuBn7C6WCUUG4sMPayLs9tIyI+/vUIqWG332o61dkkLmCO0y1zHjuT9cWu2zsuLjSPP\n",
       "qmts1r0sAAPLUYZZ7F3rqWk+5JaBJHQhOvQkf9zDaQg+ci3bRcIbMLhOKlhtl14VtYuAlh5DlGmX\n",
       "udcoMRezxxDN8hfZUlpO1ef5F+m1tttEWEcOhuRLTp+zGTbOP8QrenPEhEghFBfvACa7Rx9T0NN8\n",
       "ZsNpMOEzC276hu8xtoTKhN8GuFdx6V4Y28WHRO0ioKWmOka7zEuDvj57VtEsP8H0v3y9osrzJ8ie\n",
       "MC2i/jTp4o9Qa57WTjW/zD7Eu9bUxjGF0OMiuvxC9+hvgIwutlzZN7Il3kLCTAkmGpSC1Xbui0qs\n",
       "dhHQkuIQ7TIvsRdS2UJ2szzfG1RX9e3bleSo/2NkaEfZ4kEmvIO08pPsQ7xrTW0ckwlJM6bkdEj0\n",
       "WMOI7p1tx9HFliv7Rja+0YoJH5JO61AUrLZz+2hWuwhoqcZM0y7zauo/o/WRZnl2iVxD1bfflTjD\n",
       "D06SWxgGqCDtZeYBOWi5dOP3WO0s+R/iXetjRMuTCYkTBFOyqhV9Vr6PW+5vyOhuI+LocX5n/NoU\n",
       "H2J7XjMmJBWstpuTahcBLfUCW6TLUq9/uwSX4Met/+4X5ef8Cv8/oLqY5QuBjPrzd9IPTf67eWOL\n",
       "KLjPT/vBZlK+ZL2PrXPkiv6HeNf6IhHrSYTEjOm/JuQHTib0S7d8F+DDsvHhnSUZ/SxI6AM8SuI0\n",
       "KD6QXsMCOn8rvRbGdiek2kVA67Nq5LJ3VTL1/He/8uuta++K8qN+q68jF7N8ISjx9nVeuunrjkPv\n",
       "Nbu9VS3VDq3eCjbzr/2sZP4PCIdtsQ+BQ4zzEqHYWovHQtMtV4PRm+Ptysibf/vvUp9XUtFn5bVB\n",
       "8X6c9l6aur62iQX+1hHOt9nuU1LtIqCldA/lsvw25Eb62VMIsVV+kr0+km4gF1tfeInLT2XK9PoB\n",
       "wC3apM0PNmMy7bNC/Cn+wZc5iFm+ROiYRGM7GD3RgP5pkJ8D5ooqeky+GfF+nPZemto/aC+8oC3w\n",
       "ygsvJttl9u3QUvo1ymUDu+f/Vaq786J8oXXl/wXk4sI+FtpJGbdJfBNlVkt+sFmQ28qs8PdRzToO\n",
       "seIeTMiE3r8FiX2Qu4mUtJLoAiuvVBT0cxkc8gkA3xfNhHTRoGBJuWk7tNyPjRAuKyiYhZoon21N\n",
       "0t95/PjmbymR+ToW2km5ZiXK40H6BRZs3qwEZsLk5/gHq/7Uu2jBhEzozaqd2OlTBh7poKxz2M6X\n",
       "pzGNPP1u3OIIEj4O6vFLiyPBJhsolmzQigXGCJcVlEF7riTKJ7ZRD89a+jYW2knuse9p3MO/jwWb\n",
       "Z1Oi90m+X4SboyX2wQYxahtbMCELenY1V/xjkXmndESDC9wnN/HRIUyjj95WN1FWhUwdciVSwZIK\n",
       "5boNmgqpFZdl6/JCyrNS+RwPz9UjB3h+rpM98e4SXQLPti6wYPOIdN7PY9Ipqt57s1Vp8MlRW++C\n",
       "CVnQq7V47fvCVkPSuaQucEZu+/zMK04jR28FXBpThR+Nj99GK9hc/PM1G7SSHiBclh6Ck7zr4AdB\n",
       "uOV5NTnq/KYSBQbUXHuKNQeGfhzuX8+Czaf+XHTF+zBV+SvfHZdH2AdrjtRDt2BCFvRnIXOrqEOX\n",
       "G8mdzNtBoOflQWBiEtNI0A8BeZvzhUXHWaMVLCl9uxUaiG5YddmLp2pSry+VN5xtEHj4gT25o0XV\n",
       "q1MPitXc02qw6W05aja2aiXh19nZEfbBLrNlYxaMnrrJQ69wdBFOeegn3GbLxjMXOCW7eLGEaWTp\n",
       "c7f4sQ2zhvO1ZlfbtJ8OrdbhoP3No0r5RUO0x/MXjeHgJbxqprSjc0C1IxFsekFDoQxV6K+IJTz+\n",
       "HNEzzbSZ2UOE2fwj+M3on1dDlm3IrMInpQVEOUhLbWo0aD6Q3ceCQYHinHqMyNu0WyATtKfq75Ty\n",
       "K4ZQgOe3BMTO217wpP/PX5+hjPyPKcrIKNicrTRH4+r51vqH1/Kq0tdTRTOzpNr58d8hsaEn62x9\n",
       "r3UTO80RLLN7tsTR5clp8opGg+YDg9tYMCggzt6Tra++oOsT0Gr6B7uHxQGJXvnRoqGtFxVBs2h8\n",
       "PneajRhnsJHdYGd7EF3xBBFsFipwA7xQ+jbk6kREPTFpZhZXOyt+arIN/W8AnpfzdiA2mTuTG4MX\n",
       "iYhaDIOcBs0H+q5gwaCAOIM3bNxFTAk27BaAhL2n/jnVgqbzGdHBjoidt72AL7+dwUZ255frn0VX\n",
       "PEcEm4O1ZBFebrbkk8/7h8I9Li9uWZhl2ZiNfofEgp4/PT6uLLe+DnfCQDk9lDpSagGnpwkDBBwH\n",
       "2oYC5wyPPlm2uJiARukG69LPT6rAccMORp7fErLq7N3dXpAagvz4+PivEC52W8Of1YkYQAs2X282\n",
       "oE/Ce+B3wf/lSOnnIzNXLMxmIe6e2P0y/h0SC3rWcdSX3AbP15uBQLyYLPvA8s9tVouYhoEPwLEK\n",
       "FmiF2Wa06ZIup74BRYuLdWhtXmjbwvlgSbWg6Wx6dFw+tyg3z3xyrGxqxfD7VOszrfGswh/kf6ak\n",
       "r1HnNizM+AMj9Dsk7aIXoH/yh88Ta9RLk5hGzrTplB/0P1q3KnDOieKbtlasQ3eY/PL3Gr6+VxE+\n",
       "jL9+upS/1Y+MvvrAJDby7VTrMw0gZ9LLMEQ8aYpNW5hxBPQ7JO2iZ0t/CTEgnjTdqNEw8XEfbiCB\n",
       "VuC8+m/9HbfJ3O82GcLFNwZZIPT6RKv8kqF683xP4Oz8HzTAEyVk5C9RQ4SJ71PnwXWxN5+SV/Cr\n",
       "dQuzZ0p+t7KvhVttoWeO1DwXe8Cfl/L3NBomPpBbxwKt8EzJ76gLDVu4RUB3mPzyBUNIzfM9gVuU\n",
       "z4l/jIcH2cgJKhJ8v5mL+4ugWfe+s9KcyfQLUh6hVbaWg36HpBP0Swz476WgdUujMWF80+SKJpAK\n",
       "nPPAJNTNLiagO0x++UHDT7zwfE9YVRcE+fYCg4vte7eImeCktHeLhcome3mEjrBOBv0OSSfoHwVp\n",
       "7xabsRcxDSMf6ZVf07u/rXzOOXXkyZLv4jeHX9cWw4rBiKESK58yxFs83xOOqN05316gupgbGT5O\n",
       "+dHY7aReLMk7MP3ezfRgmGI8oPzXHvpnv6/swPRHgwamkTM/qGYb04VgUtDnxcRA1AhGDBdtsfKm\n",
       "8wJ5frgDBVUjt7mTuRkUx12UuATVb3w+QxCKd4E+WPaB5Y7pbo2GmY84mTC3FaCgrW4R6e5gC4RL\n",
       "vHzWFGvWAxRsRu5BMtesbPTHjAifhKrp39IEk0JH0N1aMGnoDnh+ch8OIaXMj/4PgNBsGdNI2bYi\n",
       "TDWwYFLoBLp7C5rOoj0apBBpSiybv4ue0AmNho2PeEppOlC3jYN2T4SxQJsWzJYN/WE5QCHSdLOl\n",
       "l4qcUN99Go2brb3mc5pgUugAunsLZgxn3vD8zH2H4OJnLN9FTkgsyT8Thg/Al0pYMCl0AN0DC77b\n",
       "oPPuIIUoh+IR27dRE/ojjYadD/Q1sGBSaB+6Owv+H6y5xwHlAGv2AAAAAElFTkSuQmCC\n",
       "\" style=\"display:inline;vertical-align:middle;\" /></a></span><br>"
      ],
      "text/plain": [
       "<IPython.core.display.HTML object>"
      ]
     },
     "metadata": {},
     "output_type": "display_data"
    }
   ],
   "source": [
    "Mult.change_simplification_directives(distribute_numeric_rational=True)\n",
    "bound_07 = _failure_upper_bound_lemma_inst_bound_05.inner_expr().rhs.factors[1].operands[1].split_first()"
   ]
  },
  {
   "cell_type": "code",
   "execution_count": 35,
   "metadata": {},
   "outputs": [
    {
     "data": {
      "text/html": [
       "<strong id=\"sum_bound_as_integral\">sum_bound_as_integral:</strong> <span style=\"font-size:20px;\"><a class=\"ProveItLink\" href=\"../../../__pv_it/theorems/e5f8fae80d0c15a1e3af708f726b9705a021c1de0/expr.ipynb\"><img src=\"data:image/png;base64,iVBORw0KGgoAAAANSUhEUgAAAKwAAAAYBAMAAACVRAuIAAAAMFBMVEX///8AAAAAAAAAAAAAAAAA\n",
       "AAAAAAAAAAAAAAAAAAAAAAAAAAAAAAAAAAAAAAAAAAAv3aB7AAAAD3RSTlMAEIl2mUTdMiJmu6tU\n",
       "ze/kkN0jAAAACXBIWXMAAA7EAAAOxAGVKw4bAAAB3ElEQVRIx2NgIBnwNkAZjHMZqAjkYYxiM2oa\n",
       "exbOOkaaRsZQPJJNuer4je1pwKHTNhCfpXcIuJZ9lwBWcZ6PIMlELDItvssZGD7iNpbD5VYBAwPX\n",
       "BqzGMiUwMEj7fsSU4FjAoB/A+oCBfRUQrMBibBcD01eIfhzGMjBjMZa7gYHvAfMGcZyu3cHA8A7d\n",
       "WOZlabn4jeX7yMD9g8VAEaex7wUY9jegGst6WYCgaxMYuL+zexbA0sR9ZTQF2xgY9hdA9DMqm4DN\n",
       "6xUgGAhAwPaBQOLMh+oPK2BXAPFvwGVYLuA2tt4Av6nsn4FaHwBj9ycDcwBI4AJcqm8CbmOzCTiW\n",
       "DZi4OP4AE9lnY1WwNc/S0tKyQKzuqww4jWVZgCVPXksDAUiIe4EI6TsM/NC0ywjXwO4lgNPY2QQc\n",
       "ywk2TTeAgR8WWIhUAc4lWI3lUWDowGvsIQaOBnAuZQPG1wGQiDHh7MBQxMBgiDfCFBiYBRiYgFHG\n",
       "eYFBBFzk8B5AMZbpB7R0BUYl419o5k1xcUnAZ2ybi4sbVL/RTEgwMO4KRDKWe9/fnZCodQASKdBo\n",
       "/v///wW8ifb//7/omZdVCznzUgDwFTXUNxaUSygBLNgDCpRLKAFyE7CLt+yhxNQmoG4Al0x5ui0f\n",
       "zyMAAAAASUVORK5CYII=\n",
       "\" style=\"display:inline;vertical-align:middle;\" /></a> <a class=\"ProveItLink\" href=\"../../../__pv_it/_proof__failure_upper_bound/aaee0806000989102a1047dc820f2a22bc11411e0/proof.ipynb\" style=\"text-decoration: none\">&nbsp;&#x22A2;&nbsp;&nbsp;</a><a class=\"ProveItLink\" href=\"../../../__pv_it/_proof__failure_upper_bound/f272938912f2cc3db874d535ed785f70e96f700c0/expr.ipynb\"><img src=\"data:image/png;base64,iVBORw0KGgoAAAANSUhEUgAAASoAAABLCAMAAADwOzpWAAAANlBMVEX///8AAAAAAAAAAAAAAAAA\n",
       "AAAAAAAAAAAAAAAAAAAAAAAAAAAAAAAAAAAAAAAAAAAAAAAAAABHL6OuAAAAEXRSTlMAzUSZq1Tv\n",
       "EGYy3Xa7iSJQQBQRrlsAAAAJcEhZcwAADsQAAA7EAZUrDhsAAAc7SURBVHja3VyJsqQqDAXZQZiX\n",
       "///Z59J2u4RNsW+XVE1NzfQWD8nJSYgS8l60I21XsIo8cjHe/Cs9fyRSQt7gAlI/ECm1varA9sHU\n",
       "n0Gyg/A8qDjd/FO77ctGnOMd3j8OKQMbTneWid07zkEVQDwNKjo7lfKe8xETe3gHBpXSNPfFvT2Z\n",
       "ZFxuE9pQRI6X6P5Lxcupxp9ndnzHbM28ughUxjmbd1d3xkSX3YNWFJEzZM8g9HXJI2IBDBGM6JIA\n",
       "FHmf6eUt6aAZRWTt9/jWazVDFZgOOweSXpyCSpxgKxUXGe0pImvLxn4Oq1/xFexSABWBemNZ/CPt\n",
       "KaJKcCpYBaSp8eMSqPjgpbXpOP6JGygit+wqgehVjGTyiOmXFUoN6cDXpuNEPXQDReQp5PNL/Sf+\n",
       "xhQcQlOvIiDPm4aXlo0pIrt1/Sf+7MenjDFMXTAEid++MgItrvC5d80oouorhr0z7/h7R4iEcRVL\n",
       "cU/Br+WN4ozCwQhXF4EGT5ncdaCbUARuZbLqZ2/ebdiockcjTF0O5IADqIzsWlGEq4OKwduVyK1Q\n",
       "EagxTAFL1d3XKeIEVC9/XlPVTVDRGrfVOLMtIvkiRZyDikj6Iq3+ZqhYTR3YA76vhtxsZToCw/yX\n",
       "v9kIXbMZ+HtZS5Koh0rMEUibtpQwI0yFsooIVkv/FKoAfI5+c7MRqpxcBvfpyrn+a1ARKVP5iUJk\n",
       "uWojoHw3cMXzCoC/g2oqaEJsywXsrlCFzvEhA8lqI2x5jOPpmLVl9Xqo3HgFIqoVOGAv6fR1o0bQ\n",
       "4hQYcFa3bVm9HioxMoCLa2kLgNX4LJXPPFbr8uIkK1BSaiv9Ylamq61+/FQffx1QjmDR3+FDgFKu\n",
       "j/HDi7fboQA2PaaOWJmuIey44zxhOKDw6+pNLM31DI1uf+4s48QyVOK5dmT0PpWHe2ji+j7+LYKG\n",
       "fMOGQke+tSJMbAd2oymo1JDwGigaF8ua2u4qX4p6McDXRmq6qHQKA1w++UloIOY1Lkic9Xu7JGap\n",
       "Afk1p4p1WPvBsWU6O/lBR6k7oFLeOpwSrtWQFxdlMeUkBqhcRj7D5fpLHBBQzOoYe17QGpdW4N7N\n",
       "LVjlHFfGr481ZqjS+WykK98YKsVpJKpRqOxXZkQ6GZYTmVFucjedN35SsyaQK68OBc4ZrtwhEIMK\n",
       "L6zhG1Na84n2dFg7HpvpAbO19Jqhym0Zu0xX5pDCAh6ACiNwA/AFp5o7YnYMIEOOB9yjtAP4l/sW\n",
       "CwUScN9/WL/2H5LtUVpHoXLQqlmFd0peubeffn8RcNJhUGWJIFzVoQYXRkexgELFGzerIqHvplz7\n",
       "powhCJWqhsrJcBmqQgmKvdGC/gZUYuJQIoLqO8LHLfNky1Uya8j1I4AuzjaCmhxU0LhZFdGYbjwJ\n",
       "Y0P2E2AUG6DqRC1Upi5VvwegyqDKi4W7WH1nqOLOm8CdGTSfc0QwLfYS1GZ1VV1VvwxAnYMKOb4V\n",
       "QG+BCjM00bgZoMp1KGkxp3o7RsoyALW92tIizh7539+k1TFDUz0WM/xJWtJXlF9T/lgGoLYvbHdP\n",
       "2dUymSZMf1MHBjM0tYchk4oZPgoXeTONlOeuorXXkZJmw819BJwZks1cjcoEHYHKxgagfHFrwB2Y\n",
       "s3lffZ0xysesRgpJXQYuE4SMKdX53ccBKFYsIvWBDjq47favipsCJhWu48GB3vWhotf9krrIAFRf\n",
       "3Bs/AqObCtB1e6VmUmuyq4tmJ0QmBMHjfYZ5BAobgCofi1CHjWNN2wqr9krVpJYeNzt6ujxcIF0v\n",
       "a+fZpih3zMhiA1AVYxGHw1Hbslm8bq9UTWrNx9uxbhCLzSzomKoPcQ1eTAoHJ2pKVVh7pWjRuUXT\n",
       "SLc4Gee8cs/YU5NpXivLM2eKcyjxRsb0nKgYJ5ZvZNglDde6A3por5S1RvxsTJt20IC4j4mlitJE\n",
       "bqmQ26W41e7ylqLtlTK5Z2r3PF1TKRcvNcsF9JbXpH+VQoOtl1kLba8URYx85ec2TQ7NfHkNnIpA\n",
       "twmX+aOck+CvexXWXimSMPxTCa7/n5dBV3yrnao7HKbvSpJOEM3ONVzf3z3f4j0g7ne8LmiuzTMx\n",
       "XfGtdpUjP3rZub4nZjkq+tuHECw34R6KCZbuynwgKISKV7ZRlyQwhAtfEOrFCTJuVit+fGnXerQH\n",
       "nbVOP/VQ1d6YwiTKMtr9VQR62Kn2z66O//W+/0nv0k81VKZWb6uvDZ7V27Mdqz9S1Sb9VEPlqicO\n",
       "nPwpqDYNeCmTVLWkn8nV5MvViqGi9Rduf8mtwqbwc+t/2U7tAnCTfmq9ypw4Rfipp+5wHi3fgez3\n",
       "dJN+aqHiZ1rjnv4MUno32rKuJpjrUulngSp2q11M6FZWEr8SgkGaiJYpuIjaQvNULClrfgMqqo9X\n",
       "VBomlW0IebJtEX4DKoX08uw9UtjB855MKG5JOgqe+LA9dsfA8wOfHzeFYHsH6OQzHwxq2l+X7cgz\n",
       "V9eardSzkPof7YlPvteLuCYAAAAASUVORK5CYII=\n",
       "\" style=\"display:inline;vertical-align:middle;\" /></a></span><br>"
      ],
      "text/plain": [
       "<IPython.core.display.HTML object>"
      ]
     },
     "metadata": {},
     "output_type": "display_data"
    }
   ],
   "source": [
    "sum_bound_as_integral = bound_07.rhs.terms[0].factors[1].upper_bound_as_integral()"
   ]
  },
  {
   "cell_type": "code",
   "execution_count": 36,
   "metadata": {},
   "outputs": [
    {
     "data": {
      "text/html": [
       "<strong id=\"integral_bound\">integral_bound:</strong> <span style=\"font-size:20px;\"><a class=\"ProveItLink\" href=\"../../../__pv_it/theorems/e5f8fae80d0c15a1e3af708f726b9705a021c1de0/expr.ipynb\"><img src=\"data:image/png;base64,iVBORw0KGgoAAAANSUhEUgAAAKwAAAAYBAMAAACVRAuIAAAAMFBMVEX///8AAAAAAAAAAAAAAAAA\n",
       "AAAAAAAAAAAAAAAAAAAAAAAAAAAAAAAAAAAAAAAAAAAv3aB7AAAAD3RSTlMAEIl2mUTdMiJmu6tU\n",
       "ze/kkN0jAAAACXBIWXMAAA7EAAAOxAGVKw4bAAAB3ElEQVRIx2NgIBnwNkAZjHMZqAjkYYxiM2oa\n",
       "exbOOkaaRsZQPJJNuer4je1pwKHTNhCfpXcIuJZ9lwBWcZ6PIMlELDItvssZGD7iNpbD5VYBAwPX\n",
       "BqzGMiUwMEj7fsSU4FjAoB/A+oCBfRUQrMBibBcD01eIfhzGMjBjMZa7gYHvAfMGcZyu3cHA8A7d\n",
       "WOZlabn4jeX7yMD9g8VAEaex7wUY9jegGst6WYCgaxMYuL+zexbA0sR9ZTQF2xgY9hdA9DMqm4DN\n",
       "6xUgGAhAwPaBQOLMh+oPK2BXAPFvwGVYLuA2tt4Av6nsn4FaHwBj9ycDcwBI4AJcqm8CbmOzCTiW\n",
       "DZi4OP4AE9lnY1WwNc/S0tKyQKzuqww4jWVZgCVPXksDAUiIe4EI6TsM/NC0ywjXwO4lgNPY2QQc\n",
       "ywk2TTeAgR8WWIhUAc4lWI3lUWDowGvsIQaOBnAuZQPG1wGQiDHh7MBQxMBgiDfCFBiYBRiYgFHG\n",
       "eYFBBFzk8B5AMZbpB7R0BUYl419o5k1xcUnAZ2ybi4sbVL/RTEgwMO4KRDKWe9/fnZCodQASKdBo\n",
       "/v///wW8ifb//7/omZdVCznzUgDwFTXUNxaUSygBLNgDCpRLKAFyE7CLt+yhxNQmoG4Al0x5ui0f\n",
       "zyMAAAAASUVORK5CYII=\n",
       "\" style=\"display:inline;vertical-align:middle;\" /></a> <a class=\"ProveItLink\" href=\"../../../__pv_it/_proof__failure_upper_bound/8a5aa97ee56a10b6bf6c7e5a0f682074d6c1cee40/proof.ipynb\" style=\"text-decoration: none\">&nbsp;&#x22A2;&nbsp;&nbsp;</a><a class=\"ProveItLink\" href=\"../../../__pv_it/_proof__failure_upper_bound/a9e5e162e5a5fe8593d08df236ad94dac7d454a30/expr.ipynb\"><img src=\"data:image/png;base64,iVBORw0KGgoAAAANSUhEUgAAAMoAAAA/BAMAAABTFEoxAAAAMFBMVEX///8AAAAAAAAAAAAAAAAA\n",
       "AAAAAAAAAAAAAAAAAAAAAAAAAAAAAAAAAAAAAAAAAAAv3aB7AAAAD3RSTlMAmXbNRCIQ72Yyq1Td\n",
       "u4mXa1p+AAAACXBIWXMAAA7EAAAOxAGVKw4bAAAEO0lEQVRYw62YT0hUQRzHf7vuvv331vUPRZDg\n",
       "IoEYVkb0zwi9dXS9FAW1K0GQhC4VEQQpil467NYlgnCtyERK10tdBLVDKITuoegULnWpDPxTmqa2\n",
       "vXGfb2b3zbyZt7sDy743M8xn5vfnOzMPAJUyyCz2EvXhYggEi3SM18Nal1Xh9Kf/XWPCFDjA69AU\n",
       "yKqo3as+yOIUb5Kz2NvkW9uPAZBBR5G6eSa7Y9xuyTBYCVTAZYDm0tLSRoLyoJa3mDfG645Fybff\n",
       "EIyOOvUWG+NR5BLD5vqMt16F0tyjer96XpziWTHV+pPajUuB04YrTeDnYSWEXe94lMd0D4xHabXq\n",
       "cLG4VuPet6bLRNdnpXwkKNKTBjrFQXNMa/nq9v8IEQdXbyp5bw9w1nKITrEsUlN+myIt4ZpXSFQe\n",
       "3Q/lRrGtsSnOdVyzrPw6Uila50sNX3gUuMGmePE6betiYsKiVAaYFF+CY1hxyngnk9KEVU6uy48S\n",
       "7GdSKhu1ivaS/CiOMJNCBD91xSYo3lUmZZPwXjQ/inWDRbFv4YpZyI/iWWJRiBZpU5CyEKDXu7Yo\n",
       "lcVIjK3LeCp/xSBDHfV0B9Km6X7xa1DJEWzL4mUwX1zHicBMMQ8FON+LfudAAV+ccCzhMM9RolMR\n",
       "3sN8q7lQmoiRG7DDnJNkiDjw0LFwLhRyZ53TMtw6kxGHPqxdkUQulMPE88iO9dreZpkVU0aSphH2\n",
       "4ZoNkKoG+uYzKC1TwKTMxk1TzgQUVbHAfn9FWjzSEd56KrtfO6akAmYhyqlUOTL2QCQ0SFLceorm\n",
       "cldKJG5TWlnc3pDkJEShfEcU1FN881Rmf4Ji/WXaYI4EtKOwup5F0XkfU9xLpintfoignXwFrmRS\n",
       "2JEsr5mnxOGZ5+wHdxiSpF/0WYkpvnXx4dH1A8mT3zNp8ay3hG3xbAp4TlIpsUVxCrp+oBh7+v1C\n",
       "jVTmH72XlZU6B2pjj9eJU9D1g1LNpMiaji2YSP1eOmUuylV+LHVmRRKrRzqvr71HZZo8QmubSkfI\n",
       "BIR+/ehg3sLXzO76Bh8C/rC6O//tHJLFdv20ANOvH3baRNuqdhODO8WSMi3A9OsHbaK2aehT5raj\n",
       "XpYVIUpagOnXDyfleBLshH3EUU8W24+xAFPWSVGPuaqDjcSlw9cv6PjrzJYiinqoRoyo2hMTPIpr\n",
       "AkzZfCb0daoRg+qp7ZDQTilhAaZ8BKE0zCi6iYRMncBLFHVdvAURAkw5pVMEphukXejcqgrZXWWi\n",
       "08BzDiHA+vKJlvXfurZTKW05mwJz91/qhNyLZJTXR9CC6tzKKhx7XucBybjT60pEcbs38VDJZV8g\n",
       "HwgUTRht3klk7udoF4hDMg9K0MjcljB2bVcoD8qCodOWoSCFM051YSiWCcNm2V8QSrCRp0yFKEOc\n",
       "9q+FgDhvcTp4C2Gyc7wPH9J0ASgnuD3OFyCOjXz/H+EHO/Yrm7cfAAAAAElFTkSuQmCC\n",
       "\" style=\"display:inline;vertical-align:middle;\" /></a></span><br>"
      ],
      "text/plain": [
       "<IPython.core.display.HTML object>"
      ]
     },
     "metadata": {},
     "output_type": "display_data"
    }
   ],
   "source": [
    "integral_bound = sum_bound_as_integral.rhs.bound_via_upper_limit_bound()"
   ]
  },
  {
   "cell_type": "code",
   "execution_count": 37,
   "metadata": {
    "scrolled": true
   },
   "outputs": [
    {
     "data": {
      "text/html": [
       "<span style=\"font-size:20px;\"><a class=\"ProveItLink\" href=\"../../../__pv_it/theorems/e5f8fae80d0c15a1e3af708f726b9705a021c1de0/expr.ipynb\"><img src=\"data:image/png;base64,iVBORw0KGgoAAAANSUhEUgAAAKwAAAAYBAMAAACVRAuIAAAAMFBMVEX///8AAAAAAAAAAAAAAAAA\n",
       "AAAAAAAAAAAAAAAAAAAAAAAAAAAAAAAAAAAAAAAAAAAv3aB7AAAAD3RSTlMAEIl2mUTdMiJmu6tU\n",
       "ze/kkN0jAAAACXBIWXMAAA7EAAAOxAGVKw4bAAAB3ElEQVRIx2NgIBnwNkAZjHMZqAjkYYxiM2oa\n",
       "exbOOkaaRsZQPJJNuer4je1pwKHTNhCfpXcIuJZ9lwBWcZ6PIMlELDItvssZGD7iNpbD5VYBAwPX\n",
       "BqzGMiUwMEj7fsSU4FjAoB/A+oCBfRUQrMBibBcD01eIfhzGMjBjMZa7gYHvAfMGcZyu3cHA8A7d\n",
       "WOZlabn4jeX7yMD9g8VAEaex7wUY9jegGst6WYCgaxMYuL+zexbA0sR9ZTQF2xgY9hdA9DMqm4DN\n",
       "6xUgGAhAwPaBQOLMh+oPK2BXAPFvwGVYLuA2tt4Av6nsn4FaHwBj9ycDcwBI4AJcqm8CbmOzCTiW\n",
       "DZi4OP4AE9lnY1WwNc/S0tKyQKzuqww4jWVZgCVPXksDAUiIe4EI6TsM/NC0ywjXwO4lgNPY2QQc\n",
       "ywk2TTeAgR8WWIhUAc4lWI3lUWDowGvsIQaOBnAuZQPG1wGQiDHh7MBQxMBgiDfCFBiYBRiYgFHG\n",
       "eYFBBFzk8B5AMZbpB7R0BUYl419o5k1xcUnAZ2ybi4sbVL/RTEgwMO4KRDKWe9/fnZCodQASKdBo\n",
       "/v///wW8ifb//7/omZdVCznzUgDwFTXUNxaUSygBLNgDCpRLKAFyE7CLt+yhxNQmoG4Al0x5ui0f\n",
       "zyMAAAAASUVORK5CYII=\n",
       "\" style=\"display:inline;vertical-align:middle;\" /></a> <a class=\"ProveItLink\" href=\"../../../__pv_it/_proof__failure_upper_bound/5c43592c8a57bb27aa0fbc3c3ed68381103d7b910/proof.ipynb\" style=\"text-decoration: none\">&nbsp;&#x22A2;&nbsp;&nbsp;</a><a class=\"ProveItLink\" href=\"../../../__pv_it/_proof__failure_upper_bound/3c01981435fbb0bfbda4521f303da50fa2b92aac0/expr.ipynb\"><img src=\"data:image/png;base64,iVBORw0KGgoAAAANSUhEUgAAAjMAAABMBAMAAABqlyvMAAAAMFBMVEX///8AAAAAAAAAAAAAAAAA\n",
       "AAAAAAAAAAAAAAAAAAAAAAAAAAAAAAAAAAAAAAAAAAAv3aB7AAAAD3RSTlMAzUSZq1TvEGYy3Xa7\n",
       "iSJNjWSlAAAACXBIWXMAAA7EAAAOxAGVKw4bAAAMUUlEQVR42s1ca2xcRxUe78P37t2XSx+REMjL\n",
       "LxA/6iADlULAWxGVKkpZV0j8KELeKlES0cduH6oQotrNjzYRSLURElJByOYVyqLKFqBSJW3tH6Wl\n",
       "lYUNCiJKhbwigh9VwXZix3Ec+3J3d87cmTMz947vWt0cKb7f2nu+c/bcmTNnzp0NIS35CKHCAJK+\n",
       "AjGT96sYRJRu9fdI4kUMsHzWlCpbxCCidKu/R/L1KgZIkieMuU5KIKKcvBUiY53EAMszdWOyoSYG\n",
       "EaVb/T2RxAAGWO7tXHL76esP9IkgMYdBVK/mboHQTBYwQJK60rnaM/T1Q/rQ5NYxiCjd6u+J3CYB\n",
       "vD7R0XTuc/QXTsDy8a4EIsq7vY9M8goGWMa80fTsha8Qh0ihsU5JY3AGg6iDeabnoembwgDLR71/\n",
       "+8kB8gQhl4eHhwtcaH5yDr85U8YgonSrvxepJuw2p7a8H1fI8sTXbHlCPSQNwnUMoo7m3iebUhUD\n",
       "vFZseD9Oe6G5/AKN1St/14eGrEogoqz2OjLWTQyw1DrL6CXlH+XQlCYwiHrPJnocGnsdAyzjo+2h\n",
       "8mvD0AwtYhC16FvscWgyGxhgWagqyrzUvCd/UYUmX8ZAMhkwHKy3ZSItgY6II8HyDgm3/V36UWuw\n",
       "LtU0C5R1o1MJ55pmoyaziQGW+4Nu1Y+rJEyfEdwfToLzZt3ANkyQcRi2APDMsbfbg+bFH1YDQ8O8\n",
       "SW9jgN1bVM5PSpBkd0in3yHQEbVpkro65AFiYpt+qBLsDih4+jNoYiXalWDFdVWm/jv4XmdofXkQ\n",
       "QpNaxQDJKZUVn+ACCdEnp/REQHNBk1gHjGzTjkgF3gAgjRT7V4xy1iwbVG4VA3Fz9LjKik/g1Emg\n",
       "PiXQEXVoHPXE+U/TzPZLfibhAVbU5SBtaAYLGAjizAS75zeH1PqUQEfUodF0mH5LzGy3G1dJqGYY\n",
       "wIpjc7sMzcgMBoI8H+IeuZ0E6lMCHRGluV05n8qGtvta7Zc45DoGsOLI4i5DMz6HgSCPhbnHmlhq\n",
       "fUqgI6I0yk5Y/6Kh7dhOKz5Q6DGAFQdHdxmayTIGvFD6APf6ikH6TFNDRGkYieJvBrbvaAUSigcG\n",
       "sGJlYpehqa1gIGSKYph7yY0gfSDQEVGapKqA/SUxtT3m/SIPb2MAK/LrxKDry5YuNPlNDISN/kSY\n",
       "e9ZWkD4Q6IgojbWlaCFsElPbNS/NLcOdYQAp5vh6Zszt+GP96w+Va7rQOOsY8HJfqHusv6fUBwId\n",
       "EdAomoSJsrHtjLcsj8HSzABSTN7gyV22ktvToxr2vi0MeDkW7t54M0AfCHREQDMu5+H+orFt28vD\n",
       "s/AUgQGkmBZq0uk1BuNzGvbENgb8oL4e7l6trtdnBDoioKnJRd9k3di25bEvwQdkILsjaGWFNs6k\n",
       "61v8kvC+JXaX4msY8JHeUVoRCODuqvQZgY4IaPrlJWq2aW7bG5MlYACQuG9V2NAmBP/Srk9r8384\n",
       "VLkDgpZdxYDfl5eVVgSCzJRen7WMNUSMJiMX8W8Rc9tezlmAx24MYFeuis2bG6HLePYGBvx8N6it\n",
       "syt6fUYQRpSVV/5HibntJW85hogMakLTJ4bmGXd/GHv6Ggb8jmx/uHv2FZX+g02BIIzIlh4dWVeJ\n",
       "ue3xApmGbcC0Zj/giLkw5oY2+m0XA0I+xZKVwdOl1JakT8j37hEJwoiAhMTq+Dcmah59BSJS0YSm\n",
       "Hy0TS9eqEULzDVYZGWw74PbyoTn3D0QQRsTGSBJiaPT0BtS8QVkBxYrmLvSjWPe5AyHsSRcDLjTj\n",
       "JtuONaxvXZrBBKFEazg09iYxt50vkgoMt4qma9p/HYW1st1NaGabBu7dRPrWgbq0AocS3cShSe8Q\n",
       "c9v5OcLqFFcTmjwKDdssaCXmYsCFZsnkINrDor51Lzd5gCCU6GEcmuwGMbfdP0BcsOpq5m4ez9C4\n",
       "G3JGKwUb0pS/M2WhGTEJTQPp86EBglCiBg5N3Cg0VM2ZImfAAgX59q66datovWWfxsrTcqaH3Xjn\n",
       "Jp+BeUDBgUbjeKPR6QiURCukNsDru52q4qyoT3LchCoJVyURRxJvNM5+q9Fol7OJFdUnzLuC82Db\n",
       "KRMX+q8ubsT+go4aqT5Ynupi1JRwbaAqT85ifS4Nl0yJzuJRk1hRf0KlWis0u55Q5JXmhz2h+MX7\n",
       "w5tQuw9NLGwNTLkY8Gm4aZ4KU6qSDwhCieQ0vLO7NLzrxZtMqmNo/fNQ1WCFmtUvbz7DMUm/tVGY\n",
       "EAhmw+qaY9LiHXBPW4fOBLX+KHXNI+r3xUl8yiA0AZWaz3BVFZrdlnxXd1PytQ6dCWr5/WQaIgIg\n",
       "N/wxwaiDQtOn3NZd2swXcpsGoRmDbJ+SeBiDtR0QGiCgV+yufwu3pY0CW1Bk261DZ4JabZEMgiKA\n",
       "D0hWWJNwF3JevW9asasQmiRsmJPXFNtLuBWO1GpiDLDFSyp27oyAXrG7QdtLdpNl26chNNz2cgF2\n",
       "lQC+SshxoV8j7gvi/imDJP9rr6rI0ulgQ5vFVvRb8nDDzhUVzZIpYR8I+lajLRMCAb1id33v1rVT\n",
       "TGn7kqjm7V5L4CqASpWU+OSfELscz/t/e46fdjP+MRLWTU4runQO3ZymTincowysx6nq8gEBvWJ3\n",
       "pUYpJz8jettwsATUvC3aCLwLwGF0iE5s0HIrd7LMl4ETJPc27iZnFacD4YFHVvF4ERigNlPpMwJ6\n",
       "Paw785eQu3zwmEZlGw6dgVpJ1Tb3MrIwyAX/ltnKbY3wuWyckMvkfzSYMM7iiraaTeuuN0T3rPd+\n",
       "X2UM0NtU6TMCe0PpbptI0yAdryptP3v+Hv/QGag96r0dui8MoG6Yvapcuf9dEjbgR0junRdpUZYB\n",
       "/YzqCWJnLufqonufnkgtMoblGb0+ELArcrdFJJDIFRmyHfsN+al/6Iyq5TzSIZgWDKD8HeOXib7V\n",
       "29rSqLiukGMfIf2wrVOcMJArsaz4vD53naQLjIE9olsPKuWOqdxtEwkkfIlWVNlerpPf+YfOuEd0\n",
       "8oNdclBMAHxxMcI98+brnRSf8+QTBrx8vv3zBdG9zNb5v/mvDgfpUwL/KrjrEx1W1JRlle2F868X\n",
       "JNsJb63Mw4diwEY5yjXY9aT5lCyfMOBlqOVHbkZ0Ly/Y3ArS7xD4V9Fdn0gxGWPtCgjbFp8DUrW8\n",
       "N68cKJgY+CYRj8FOF8JDkyly++DlMgZS8yB26FDpGNenz88oEq1an3Uf6FV0lxHZqrC2uxDY9pYq\n",
       "ybcydgLmBQAvi6WF/X6pHh6afJ2zNTSAgcq48ODV8dRHpVyn1EdLFHKXETlF1f6rqrD9Ml+8glqr\n",
       "75aGBRLA+8PDBwS+WYOHavlPcrd9dhEDQR5jfWnu4w6Qp9i9Z2fN1PrigTXkLiMKOrAm2j5FLP/p\n",
       "PX9gLQZrM4Bp1xWL0KGB8NDYX+SH2SgGilsXX1jjJ9HrZ/xXb5JAfXbv21fsLhC9GTDgRNvpi98n\n",
       "2HamNXgs9kDD1Xzsmtm5YS45VTEQt+4hxyZjGyRQnxEEEcXUHb2PEzPbQ23L0zDypjUrkUOXrqcV\n",
       "Ifq2YkRZ1zBANdvjwe45o8H6jCCIyFEPuB81zWz/qrNBgCy7pEm3WZqfkwOo8eQ5d17RQU+uYYDk\n",
       "tWD3LpAQfUbwmgEJKjLmjGzTg/hDbD0oagYZ9TAujt9M23tFaBLrGOA3BM6o2AAJ0Re/vhFCguQB\n",
       "YmL7EzRrwzzRfheBfnnBgfrGuvhqUGjCCe8Mcu8HVRKmzwjuDCfBeWrUwHZqHx0MUI3Hda3Tkc4+\n",
       "skbira+H/Zl8ZyIRFJrJIgZSgRj0VbF9MpGWQPtVsX1a/sCvilG1J6D/D128mO4xP/2i34Pw+lDu\n",
       "YlBoZkcxiCjd6ncvxyWAZ0inXmely9HnquTg/Fvz83VlaO6SQES5q9eRIbMFDHBa7+yufl6lE2on\n",
       "MA2ntjGIKN3q74GwzWpeN7c7S9QKVJB/ItmA0CQ2MIgo3ervgbBjJ9rzJ52jLF+AQfXUq3+kocn9\n",
       "dVvqpdWKGESUbvX3QNizLEs3gmuq+iGjm59NDKJO9CbpfbKpYoCTjWo4xTVsRyUQUY72PjLtHocI\n",
       "sLxsTpbeCIoniUDUS0nuYIBlzHxss29N1OrdedWt/t7IQQngyTNnzHVEAhHlyK0QGf9L0Y7uTr1k\n",
       "ShU7gUFE6VZ/jyR1AgOpz2H6fyuyPahT6PJ2FW6J0JC7JYDvoWmyeVICEeXJngfl/yOT1laFpI+V\n",
       "AAAAAElFTkSuQmCC\n",
       "\" style=\"display:inline;vertical-align:middle;\" /></a></span>"
      ],
      "text/plain": [
       "{e in {1 .. 2^{t - 1} - 2}} |- (((1 / 2) * (Sum_{l = e + 1}^{2^{t - 1} - 1} (1 / l^{2}))) + ((1 / 4) * (1 / e^{2}))) <= (((1 / 2) * (1 / e)) + ((1 / 4) * (1 / e^{2})))"
      ]
     },
     "metadata": {},
     "output_type": "display_data"
    }
   ],
   "source": [
    "bound_07.rhs.deduce_bound(sum_bound_as_integral.apply_transitivity(integral_bound))"
   ]
  },
  {
   "cell_type": "code",
   "execution_count": null,
   "metadata": {},
   "outputs": [
    {
     "name": "stdout",
     "output_type": "stream",
     "text": [
      "proveit.physics.quantum.QPE._failure_upper_bound has been proven.\n"
     ]
    }
   ],
   "source": [
    "%qed"
   ]
  },
  {
   "cell_type": "code",
   "execution_count": null,
   "metadata": {},
   "outputs": [],
   "source": []
  }
 ],
 "metadata": {
  "kernelspec": {
   "display_name": "Python 3",
   "language": "python",
   "name": "python3"
  },
  "language_info": {
   "codemirror_mode": {
    "name": "ipython",
    "version": 3
   },
   "file_extension": ".py",
   "mimetype": "text/x-python",
   "name": "python",
   "nbconvert_exporter": "python",
   "pygments_lexer": "ipython3",
   "version": "3.7.3"
  }
 },
 "nbformat": 4,
 "nbformat_minor": 1
}
