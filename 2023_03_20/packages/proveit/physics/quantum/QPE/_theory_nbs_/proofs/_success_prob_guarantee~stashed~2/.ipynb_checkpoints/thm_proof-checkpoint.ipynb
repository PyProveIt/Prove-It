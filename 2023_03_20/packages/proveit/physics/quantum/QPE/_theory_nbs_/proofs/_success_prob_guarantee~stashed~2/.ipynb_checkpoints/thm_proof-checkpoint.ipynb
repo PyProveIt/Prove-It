{
 "cells": [
  {
   "cell_type": "markdown",
   "metadata": {},
   "source": [
    "Proof of <a class=\"ProveItLink\" href=\"../../../../../../_theory_nbs_/theory.ipynb\">proveit</a>.<a class=\"ProveItLink\" href=\"../../../../../_theory_nbs_/theory.ipynb\">physics</a>.<a class=\"ProveItLink\" href=\"../../../../_theory_nbs_/theory.ipynb\">quantum</a>.<a class=\"ProveItLink\" href=\"../../theory.ipynb\">QPE</a>.<a class=\"ProveItLink\" href=\"../../theorems.ipynb#_success_prob_guarantee\">_success_prob_guarantee</a> theorem\n",
    "========"
   ]
  },
  {
   "cell_type": "code",
   "execution_count": 1,
   "metadata": {},
   "outputs": [],
   "source": [
    "import proveit\n",
    "theory = proveit.Theory() # the theorem's theory\n",
    "from proveit import e, m, X, defaults\n",
    "from proveit.logic import Equals, InSet, NotEquals\n",
    "from proveit.numbers import zero, one, greater, NaturalPos, Neg, Real, subtract\n",
    "# import common expressions\n",
    "from proveit.physics.quantum.QPE import _e_domain, _e_value, _two_pow_t\n",
    "# import axioms, definitions\n",
    "from proveit.physics.quantum.QPE import _n_ge_two, _success_def, _t_in_natural_pos, _t_req\n",
    "# import theorems\n",
    "from proveit.physics.quantum.QPE import (\n",
    "    _e_value_in_e_domain, _fail_ineq, _pfail_in_real, _phase_is_real, \n",
    "    _success_complements_failure)"
   ]
  },
  {
   "cell_type": "code",
   "execution_count": 2,
   "metadata": {},
   "outputs": [
    {
     "data": {
      "text/html": [
       "Under these <a href=\"presumptions.txt\">presumptions</a>, we begin our proof of<br><strong id=\"_success_prob_guarantee\">_success_prob_guarantee:</strong> <a class=\"ProveItLink\" href=\"../../../__pv_it/theorems/f0d27462b7df6deeec3b6e8f907f4c3d9bc984da0/expr.ipynb\"><img src=\"data:image/png;base64,iVBORw0KGgoAAAANSUhEUgAAAocAAAE4CAMAAAAevqntAAAAk1BMVEX///++vr4bGxsnJycuLi4X\n",
       "Fxc/Pz9tbW0rKyteXl6fn5+urq4ZGRkkJCQoKCgfHx96enqhoaFpaWkdHR0HBweDg4Nubm5WVlYJ\n",
       "CQmOjo5RUVGTk5M9PT1GRkZmZmaIiIiqqqoyMjIQEBBEREQiIiLOzs6/v79aWlrf39/u7u7c3Ny6\n",
       "urqYmJh2dnZUVFTMzMwAAACTir6NAAAAAXRSTlMAQObYZgAAAAlwSFlzAAAOxAAADsQBlSsOGwAA\n",
       "FwhJREFUeNrt3QfXtLaZBmC2Z7PrxFt8kjhZCYHsWBIq///XLXUGZugIRLl1TuLvLcPwPlzzqCCh\n",
       "yLqymAgFZaDwysiu72GdzvKiEG2UoVIAyczeDiUCjTIDIxyiwCEKShiH0uTtUmNMmma9r1As0bgs\n",
       "cLh/PrRV91kmrP81cAiHRziU9TBO5vrBMTiEwwMdWsfhECW4Q+UYHKIEd6hdXPRKaKxZ/kuCUErK\n",
       "8W5GsvyfMa4NHB7gUNCk7DAnJJYuiywvfjGlhcPyn4ycI0By9xeghHLItda0Tng8bySK/D+6+nWb\n",
       "CzRVrX2Om4Fa7f0ClFAO03Zr0FS/V7EsutB1JnQEDuHwOIclt7jOfsWPGofp1KnrbFF9OezaaiLa\n",
       "XxM4fJ5D3cmHZHY+tEl93TUd62ALrY0plGW054dZ3WXXnZlpaQ+rjMRZRlSsrXeHcSpb5wmHAR3m\n",
       "3ZVXo7CpqXsvuKUmTcsrHVeECl5qJHUWxyV5G5Ty7y64pbQewozZlMOY5t9NVBRrzw7jsnP2Os/2\n",
       "tSEqizUc7uTQdsYNOamzm21QMlakBdN7AQh56azplK8bmU1RyJaF6d5B83i2wyi1kch/a3JAaZnD\n",
       "rLnN/jrP1skV9Dkc7uJQGubcC5kyLjFx1XzLK6byEqYiVoqqKiNkec4yEc3S8grRVouwoiNdgTYZ\n",
       "xpGJ6voKttFh/ptFcuJRX6u0+J5l5UjUEoc0jT/PU5KqFEcx+ZcMDnfKh/OLyFRxaZO8oqblmGMb\n",
       "SNW0s6VDPt5j0YUh0geocaj4lENRnET+b0N7/iIliw+YtGyRQ/v58dEfya9oTmRKwGFgh1LQ4soW\n",
       "tRUpMqhqSbLMvh0mdPQkeJFrSCaHHUaMiol8OJrXil9s/jc/H8apFp/n2f4YmiIFZxEcBnZYZJ+6\n",
       "Y8zjMgWmZcn/bevOZVUvu7FGm0xbl9emTZEdhzGjYw5dp3wdKH+tjBuPS9qHqiWxc57oL5/KYdEL\n",
       "KVrr0kW2GOdr5yAzq59SjhvKoZ83DmUy2T58H63n41IRjOPl/WVriJw+TzgM6lC6OidmaTmw0c4Y\n",
       "ddeCFuM279E/oZv/e2UZay0REw5n9FOi1zBRTxSNNZEt2w7Lxw9lmdrHzxMOgzosgbGyE1C232Rq\n",
       "Px0W49ity2cTWf9fk1FHFsdKzZymSxz2jUJWr3dJNay55n6KnDhPOAxdL3/1oHXRIlPfdDaWSYcq\n",
       "rmalDQ3nvfPksMM4eXAD8F4O27mSH+kwbz+KPFRiCP97IHAkHzKBHsntHEaM+jtNFk84lFW/vX8U\n",
       "ssiTYr5DG1e//dF3h8NrOsyvp6cDSfvdXvtmVTQH+kchO6V4gUhJlhlVDv5ZGtOyrx9nr3qZIx/e\n",
       "yOEh5eWQ2AUvUKysqiWravI8EfI2PziEw5UOtYjoAoemmRhRzgVKlWWt9iEcwuHSQqs0yJxzfP4L\n",
       "FGkcijoRIh/C4eFFGG4VJ5FO4kjRrJgfUbQPmzluNNEx6MEhChyieC3O2y893CHDsqJNDmeV0Gcp\n",
       "JxvEoR0SPDr7CflQm7AOf/v7b6M/xy3Xh9TLycR03n/4e8h8KJIMlE7vUHjo3KuJijFsvWzWz5np\n",
       "Pa6Fw7Yf6cVhNvlEgznFpOd1aDc8w6Z3OkHqAaILUXZx+IrGpmtM/Ox+I0fXboR1yDZMIex1GJN9\n",
       "M0zQ2nXpK9+z1Lf8SdRLNiw+FfysDuMtj/Tqn17F4fD9KZce/iTlnPBFgZ7UIduipuWwtZzUw/2y\n",
       "uzj8C/HxJ3Hn7cEmaXJOh+MfkAUO4/dxZAqHdfnzrx4O7y8dFtVffEqHZtOf2O+wVRk93OGfmI/D\n",
       "G+dxFdDYscI5FNsawAMOtz8f6x4OxZ+lj8Nzn09DNc6e0GHm4h0cbu+p3MMh+5Ofwzt/i4DySl6f\n",
       "0GG6reUx5JAoOIyiX/9XnM9h5JJQDn91vwxWy9syV+mQ8KIkSfmfeneg96jZ0WPKGy6QtxHw+pv/\n",
       "89+eDu983nhNhyvmn0Llw2zjgMBQPtzcQLxsPmyx/BC6JR/6dEiHr3mwetls3JdiyOHmDvNFHXbg\n",
       "Jf/V+cZZHNrhHnMwh8nGNx5wuH0A8ZIOu/Xzj3/sfvcsDqPh0chQDrc2D4ccbr+hckGHn63EP/7y\n",
       "vvCncsgGK8FQDuOtt88HHPLoeQ4/GbYfIVv+bIvDH33+nWSw+x3KIdl637LfoYcJN5dz+Mmw+yyo\n",
       "4qdbHHqdJz08lTGUQ7ZtFHtonoOHJxZdzeHX0I1RX1LP4tAOjiCGcpg4683hUCp4VH/5HfLU5+H9\n",
       "1sticHQ2lMPN8zh6HdIMDoX06tDvAiI3lH4COZSbb1vQvj/IRHDo9/CeHfKh5lggh7E77X5dcLhf\n",
       "vZx3C+ipHFLH4PCB+dAMDZPs7FBk/c1A7Wv1DRxeyuHg4j+570L2oXxonIHDBzrUQ/VgoHo59TnP\n",
       "99EOd14e7d0hP5VDBoeh3zOIQzo0kB3IocfliHB4IYfZUG4O5DCBw0s4/Plne3OHFA4fmA/j0znM\n",
       "4BAOgzt0cPhIh+p0DmM4fKBDOzS/JZDD//vbL3D4QIe//e1vyIdwuMLhj549hMmHQ+vo4RD1cqf8\n",
       "hHwIh89tH8IhHMIhHMIhHMIhHMLhM/vLcIh8CIdwCIdweMh7XmxdABze1eG11gWcz+Ff4fCB+fBX\n",
       "5EM4RH8ZDkM49LDv7V3q5aF19Nsd7rb/8n0cetj39jCHgdbRb3e43/7Ld3HoY99b9JdXOcT+y63i\n",
       "Y99bOFzlEPsvt66sjuDwUIfYf7mvvDcNQH/5GIfYf7kvPn+wyIfBHGL/5Wag4gcTwWE4h9h/uSrm\n",
       "BwmHAR1i/+Uq7n/QERyGdIj9l4vy238KOJzhkPwsfTjE/stu4Dg/ejq8Z4fi55+jZ+TDZ++/XP/z\n",
       "P3ztv+z7uXP3W0eP/Zc7r+xmxmL/5da3LlAv/3SzfPjM/ZfdRfZffk4/BfsvRyfef/k5DrH/suf9\n",
       "l+FwjUPsv+x7/2U4nO3w4fsvf37LKI+HxzyH+Q6HUsGT+sutkPvdfxn5cIVD7L988v2X7+cQ+y/P\n",
       "fyUcYr0eHJ7bIdbRP9Eh1tHDIfrLcIh8GNbhfuvo4bAO5D2es3TZdfRweMiJob8Mh3AIh3AIh3B4\n",
       "IofoL8Mh8iEcwiEcwiEcwiEcwiEcwuGRDrevo4fDKzq83zp6ODyiYB09HD6qXsZ+9HCIfgocwiEc\n",
       "wiEcwuGS9xSZYdz5LZyn08+KhEM4fJWYMWqF/3cVSnMjJxxingMcViFkROx4gZgRyIdwOPmeNN15\n",
       "xF9xBYdwOPGehuz+5oJlcAiHo+/5h98f8fb/nj7XIdbRz3hPc9CnVeuDHGId/RUdUn3UCaQx+stw\n",
       "OPCegh92AkNvhXX0cBiRA2M08MQ+rKOHQx8PFZ1f+LTDgQEk68Mh6uXTOsyyI0+h/x5fx2H/1utR\n",
       "auHwzg5TceQpKLLW4ZJn48Ph9RyyY8+BT/aXBxwu2SsEDi/nUJpjz4GtzYdL9k66t0NObuhQ6WOD\n",
       "0dsMmOVwwV5yt3YoHLuhw87ulQcEg9i1DhfsrXnvfCiiGzp04thgSDfLoaJGSE1TGlmt00rm/L2G\n",
       "PThcOP1ITjjE/eUph6c4iS+HOkoNLdJuln8VJwt7KtvvL9OFCUxR9FPu4PCjv6xUxNMye9KWnnrw\n",
       "cbp+3pwPm9Rr+dy8X94pgsOb5UORZ8ICXVx6InVb1JqqaeqtXh6aE1ndYxKGsPnNFiawjv5+9XIu\n",
       "MHoJTHQ7S8VsvcPPdfRC875+GmlOh853mBH0l493uD4YMx2a8vi8kKfyqyuaCllqzrRd67CnXqZc\n",
       "f/1uEi13GCUC44fH58PVwZjpsMyBVeWckyznydQDiGz6mi5rH2afEt8Zd4nDvI5H+/Bu9bJ09sUm\n",
       "1VFZIdc3VGbQWNpPiRlpAyJ6gUNJjCnPXhs4vJ1DVY7R0DLpKkLle9hGJZF3h/lR2wtb372XaYdZ\n",
       "0jQSMgaHF3fYee7c0P2UesINNZGwOzhs3XDk8WyH9i0sTuDwfv3l71KvsCY00sKzw5h1HjiRqD6H\n",
       "gvF3aT4JxhljaP2mcPgAh828cUuyyRmxS/spH4+y6HfY30l+T1dSyIdPcEgXzBvfOG6zoF5273ve\n",
       "MYfDOzmk/eluyTzJ2Q77x7FTOtth+h6+ylI8p/1ODj2Uuc9pH7ivp1/mtZsAZJMcqhD1aA/y4dUd\n",
       "nmodva0n9hiTOGbGPyKW0IyWb8aVn/vLy1KnvLfD/YJxRD7c+px2vmL7Asn93F9eOONM0cAO5fJf\n",
       "mO9wx2AEdThz3le24qZlMTfCg8OZk32l1qSaHkyzoA6npXzjmO1wz2CcyaHgPUOCZfdjcXVX3vze\n",
       "7rAZnRJ89AxE8UGJq6My4dMhNYTUA6LScFcMj6ZpObfS8CTJvzIsSbKulOIXefmwrqIhQydHOuY6\n",
       "fD3iYTwa64JxhXwYiXTpW5ZytztsZpzF4x11WhywnvOUEX8ObTnBKaL1h9K6sscmk/KNVPVVHhz9\n",
       "KUW7erCt+8yu2s8njrkOX9PvxqOxLhiXcBjJhc2u6g74dofNzXMyvgZClUPt9dy7RPhyWE1/Ly+t\n",
       "rb42ddh066tImE8prDlM945A7ecTx1yHr5kE49FYF4wL9Jc3vO9Gh68ZZ3xGyyiuP72twafm9uT8\n",
       "NbadgLDXlee87dA63nYYkU8prnm/7ihv4+cDx0yH7+l3M6KxOBjXyIeBHFYzzpRJXWqmMrLiddDe\n",
       "w515p922/rPUYexaE95oS54qk031lSoWrn1IUU0eFV0wjZ+PYdqZDuvpd7OisTwYcDhS2Kt5OPlW\n",
       "1Jg6vhmLurFfwLBzOcz7NG1LXtH8i19fUfUlJf95cyqtH7b8aLPGIXs3D3cIBhyOlObONpmz6qLu\n",
       "Ir6W1TaxX8KwczmYU++WYvKSJ2jVQc6/l/eWnfqWwpPPCrvrJ2NrHL5u88+JxuJgPNPhzHX0zUyf\n",
       "VoOod7pZ/dvVX2m7fQ2+aBR+0GHVIuRa62aIsFQpU/UlRbwajh/Nw8ZPnKxx+Jr2NCsaS4NxhMPL\n",
       "Pqe9Dr1wE1vB2TK6aXXY7gz1sdD3lf56Wblq+Xja6U037cPmHkl9uk0f4XOU4eWni2PyPD4cTkXD\n",
       "YzDQX+4kmLJCG9+AS7xDH3NP9XLsyLufkg04LCZ1NI93rqW8moe68+e//ahV+bCpl6eisS4Yd66X\n",
       "Nz+nvZ5xVlRo8RimavptXRVlqad+SpQWXlT8avH1OSzf0XakaNdbLb/9xHyNw2b63VQ01gUjqMOz\n",
       "P6e97lgak3cOxn6vfJh0Ux2+lxduHLfJpekoVvlbv8ax+x2yrpTmdkc9YCeiTz9ZusZh08ueisa6\n",
       "YKC/PHaAKnHIdOqp5YoQ0vQYWjsXNqMXkq1ymL+O0mJFWl3h2s7TEmzjUCcfUlhRn8v6zV+PWHj7\n",
       "IXqNw2b63WQ0VgUDDkcbiMtnnMlN+998zXNIDS1vg9gcFnPOvPoa9awHkyavLNlIiXRqyCtl8frh\n",
       "VG8/H3t8zr2vt2sw4HC0wl0+aYFkPh1WAPI/I13/sYnFOI65DncNBhyO91SWzjiTaeTdoWE24+s/\n",
       "NnoCx+z5h3sGY3Id/bMdLp5xtnHj7P75p845uvrdPzsVXzhmO9wzGMiHEx/pZTPO6MYFKgN73SVm\n",
       "/ceGTuGYvy5gx2DA4anK1oBMS/nG8Zh1o3B4mENvBOBwf4dYR/9Mh3PX0SMfwmH3Ot1jngOe0458\n",
       "OMvhT8iHcIh+ChzCIRzCIRzCIRzCIRw+q78Mh8iHz3GI/aR8BAMONxbsr+clGHC4GSLqZQ/BwDp6\n",
       "tA+f0j78Ff0UOER/GQ6RD4M63LyO/sEOxbHnILGOHv3lnu/F9NhgEIv+8sZyy/FDpY8NRirgEPVy\n",
       "T01ljj2H/mc8wOHTHUbs2HPgcAiHsyvK3Yrqrc6xjh4OaXbkKRCFfAiHvT3fQytmHsEhHPanqANj\n",
       "NJB84RAOj0yIYuAhUlhHD4efe/PtWdL4GIdYR39Fh4M8fBc9BB7r6OGwKL/7/RFv/2+DT7PDOno4\n",
       "LIvZv2oW6fCdbPRT4LCuMtOdW9KKj2wKBIdw2DhhZMcbKzY1Y87hEA5fJWaM7pEUhdXMjB8YDuGw\n",
       "LSYzjDu/hXM2PVCOdQFweIpgIB/CIRzCIRzCIRzC4WEOsY7+iQ6xjh4O1zlEfxkOUS/7KlhHD4ez\n",
       "HN5hHT0cIh/CIRzCIRzCIRyivwyHcIh8CIdwCIdwCIdweLb3nDfXEA7hcGeHezPHOno4vJ9DrKOH\n",
       "wzXlLs+d228dfa9vC4ft5COvUy9fdh297lt1m1o47IkG2ocHO4wJHL6KMj7ah7ifssLhwNMkn+mQ\n",
       "SR8O/w6Hcx2qd92hYzhsrqyO4PBQh60db2QKh3X54y9wGMxhqzJ6uEP9B+vFIfopqxzGGg6LIn4w\n",
       "ERyGc7i9p3IPh+YHCYchHRIFh1H0K9cRHM5x+FcfDgkvSpKU/6kqIvseNVtZQjhcX3qOlf/fv/6L\n",
       "8HN4rKNfmQ83NxCvmw8bmF9AkQ+Pd7i5w3xRhx15//y7zje2OKS3cLjfOvoBh9sHEC/psJv/sn9S\n",
       "nW+uPzx35BiHl11HP+Bw+w2VKzr8aCb+47+224pbDm8cO8bh3eplHj3Q4cfL9V/k6M8XFDXkBg5H\n",
       "HXqYcHM5h5995u62fGXHZf2Zcb8NxKfMc/Cw2cjVHH4N3Rj1JXX9mSmXCDic53AoFTyqv/wOeer1\n",
       "T9LOwOFShz62cL+6QyH9/knGZ5f5fg5p3xIAE8Gh9z+JesyIWL8Mh6uLjOEQDsM7vHH7EOvon+kQ\n",
       "6+jh8Mn5EPvR7+3wrFPZFjrEfvTXdnixgn4KHMIhHMIhHMIhHMIhHMIhHMIhHMIhHMIhHMIhHMIh\n",
       "HMLhEocKDuEQ+RAO4RAOn+wwOpPDxGVw+ECHCg7hEA6/CodDODyBQ+b5OVJweI0Su+RUDlOn4fCB\n",
       "DjPHT+XQeH6eGRxeo9Ch54eFWq/n9WkVcHiVol16KoeD5wOHty5kqB4M5DDz/HxHOLxGSYf6p4Ec\n",
       "qqF+04LydWQLhwP7UnstW+LOhu6jBXIoPayp/XriV2rhMGLF/VudZfF+bbwNcU+cPZXDyDnpPR4x\n",
       "gcNy+xhiW9vI7O9wQdwHH3McyiHfPvHr+wmIHA7L7bRSlonoOIfz4y4Hm2OhHJrtN/a+4+Fh9+Wr\n",
       "OyxJ2MQl8kCHs+OuBrunoRzS7QPZ3/GQ6dMdllWkFJHk9ECHs+NOB2+jhXKotg/c9DyZmMmHOzRF\n",
       "N4DngdH2QIez424Gp52Gcii2d5jLeAhKygrelA2iWD/bYfWc+izes7u8Je58cDeWUA7zU5I+4qGj\n",
       "OGn9GfzZDrMjZjGtj7sYHjUO5lBv7qgU8bBxRIoYGNbqLj7XIRMHOVwX93h4VkEwh2rzTIciHnnc\n",
       "kyIHJHUi2L778tX2Xz6uzIv7uuZhOIdR4jw4LDyLYlyqbpZ7aCBeOB96GbfaMe4jlzycQ+Ksj3iU\n",
       "1QN1/jrMF3bIo+Mcroi7HakCwzlUW6dkV/FIi78tTaPyDoKPAcTrOlTkQIcr4k5HFguHcxgliZfP\n",
       "pSnuH+hI+6qYruvQ2AMdrog7G7ngAR3SjbeYq3gIo2ksTbXNGY+e7PCYanl13O1YBRjQYbSxx/w9\n",
       "ru9lws1lHWb0SIfL427GthQP6VBv2+v8Ox6pfLLDQwYP18ddjKadkA7Ftp7KVzwEix7sUB614mdl\n",
       "3OnoDbSQDvNTEz7jQbMnOzxm8HB93JPRyjuow4hvSYhfOzD7mYIc8lbFpt7yUR+adXGfyDlhHcbu\n",
       "tNuOongtYmI6QViHEUlxiR5RzMSFDuww4hmu0QOKSsS5HdpE4Crdv/CpWxahHUYKLcQHtA4n75zt\n",
       "7rAsBpcCZTBXHjDtU2RlUYg2ymAqrMqeb/H/fjqMf77KvnYAAAAASUVORK5CYII=\n",
       "\" style=\"display:inline;vertical-align:middle;\" /></a><br>(see <a class=\"ProveItLink\" href=\"../../../__pv_it/theorems/a43581a764a41a669f6586601d17f5c59f743b350/dependencies.ipynb\">dependencies</a>)<br>"
      ],
      "text/plain": [
       "_success_prob_guarantee: [Prob_{m in {0 .. 2^{t} - 1} | |(m / 2^{t}) - phase|_{mod 1} <= 2^{-n}} QCIRCUIT(VertExprArray(([INPUT]{state:|+〉}, [INPUT]{state:|+〉}, ..(t - 3) ×.., [INPUT]{state:|+〉},[MULTI_QUBIT_ELEM]{element:[INPUT]{state:|u>, part:1}, targets:{t + 1 .. t + s}}, [MULTI_QUBIT_ELEM]{element:[INPUT]{state:|u>, part:2}, targets:{t + 1 .. t + s}}, ..., [MULTI_QUBIT_ELEM]{element:[INPUT]{state:|u>, part:s}, targets:{t + 1 .. t + s}}), ([MULTI_QUBIT_ELEM]{element:[GATE]{operation:QPE(U, t), part:1}, targets:{1 .. t + s}}, [MULTI_QUBIT_ELEM]{element:[GATE]{operation:QPE(U, t), part:2}, targets:{1 .. t + s}}, ..., [MULTI_QUBIT_ELEM]{element:[GATE]{operation:QPE(U, t), part:t}, targets:{1 .. t + s}},[MULTI_QUBIT_ELEM]{element:[GATE]{operation:QPE(U, t), part:(t + 1)}, targets:{1 .. t + s}}, [MULTI_QUBIT_ELEM]{element:[GATE]{operation:QPE(U, t), part:(t + 2)}, targets:{1 .. t + s}}, ..., [MULTI_QUBIT_ELEM]{element:[GATE]{operation:QPE(U, t), part:(t + s)}, targets:{1 .. t + s}}), ([MEASURE]{basis:Z}, [MEASURE]{basis:Z}, ..(t - 3) ×.., [MEASURE]{basis:Z},[GATE]{operation:I}, [GATE]{operation:I}, ..(s - 3) ×.., [GATE]{operation:I}), ([MULTI_QUBIT_ELEM]{element:[OUTPUT]{state:|m〉_{t}, part:1}, targets:{1 .. t}}, [MULTI_QUBIT_ELEM]{element:[OUTPUT]{state:|m〉_{t}, part:2}, targets:{1 .. t}}, ..., [MULTI_QUBIT_ELEM]{element:[OUTPUT]{state:|m〉_{t}, part:t}, targets:{1 .. t}},[MULTI_QUBIT_ELEM]{element:[OUTPUT]{state:|u>, part:1}, targets:{t + 1 .. t + s}}, [MULTI_QUBIT_ELEM]{element:[OUTPUT]{state:|u>, part:2}, targets:{t + 1 .. t + s}}, ..., [MULTI_QUBIT_ELEM]{element:[OUTPUT]{state:|u>, part:s}, targets:{t + 1 .. t + s}})))] >= (1 - eps)"
      ]
     },
     "execution_count": 2,
     "metadata": {},
     "output_type": "execute_result"
    }
   ],
   "source": [
    "%proving _success_prob_guarantee"
   ]
  },
  {
   "cell_type": "code",
   "execution_count": 3,
   "metadata": {},
   "outputs": [
    {
     "data": {
      "text/html": [
       "<span style=\"font-size:20px;\"> <a class=\"ProveItLink\" href=\"../../axioms.ipynb#_success_def\" style=\"text-decoration: none\">&nbsp;&#x22A2;&nbsp;&nbsp;</a><a class=\"ProveItLink\" href=\"../../../__pv_it/axioms/b00be5dc8f95c9bef3231e4ff3fba6e76eba8b780/expr.ipynb\"><img src=\"data:image/png;base64,iVBORw0KGgoAAAANSUhEUgAAA2wAAAEsCAMAAACIdcAmAAAAgVBMVEX///+Dg4Pf399tbW1eXl4o\n",
       "KCgaGhpaWlqOjo4/Pz8bGxsnJycrKysuLi4YGBhpaWmhoaGurq56enofHx8dHR09PT1GRkbOzs6/\n",
       "v79RUVGfn5+Tk5OIiIgiIiIQEBB2dnbu7u5ERETMzMzc3NwyMjK6urpmZmaYmJiqqqpUVFQAAAAH\n",
       "Jqq9AAAAAXRSTlMAQObYZgAAAAlwSFlzAAAOxAAADsQBlSsOGwAAHKVJREFUeNrt3emiozh6BmBl\n",
       "m8kySbqrZlLpiUBCG4j7v8AgFpvdGASWzKsf5To+PhiEHi0fQhASdlI6pL0RZZ0sQUJaSElTRtqf\n",
       "ZMKj2XMTVrkWJcur1KsApK0y11qbZfnsX2iVMhTAOyVXQHLbYSMsmpq5SHlg2OTMe3V2ylTN/w2w\n",
       "3VFc+Tz/eRy7zEPb0Tlssu1V5uW8KgVst8amZ8pMiMkqEg82USbAhjTBRmwWwx6LUkeETZcK2JCm\n",
       "2GRZRLDHSpGIsLEqT7VKacFU9SFuKDV1XaFMXv23QAG8KzaSJeHvcBFcw7aCjdNmfJmaQpY5EYn7\n",
       "YEYdtvq/yqAE3hWbKGn4DVt4FcI8toQxRtumK6l2mlcvrPm4qA7DNp3MVzVHzt6KBsllvYIZPnjD\n",
       "LPx/JaFu8IeNZGn4IzYaCbb+ALihJdpuugtQtm1a+aL4ivaEVG7XBnmcMWsdpXwmd3jedrxHF3ey\n",
       "hf/P7YbKtnxspT+SSVgbYSuCH7XZkseIzfR7wO5XHbbZ4iuozbL6s0XjxBnS2XqLY6rWkybTYaCg\n",
       "tO0MFGovNmLZEWxFRiFtgo2UKuzd5WWAEdMN2NigZTPrLZsx4lFMm/ORujdWrsw4xdL1Tmf72MVx\n",
       "bKnYjy3Pcjibw2ZLEfjuFvFiI6l5DNS6jmWV3bnJq9bHEppndebTXtlsfMi6OU+XDz3nDTau9mMb\n",
       "78ao805dN3UHNpoVvd5uTnNg65Iuw77+kwXYi1yYrtUv2YlpR2Cik6cUb3tnPNcuZJlW+mgdweyX\n",
       "6Ga4JeqjTtbLKatIFYbky9h0soJtvBtDMQkn1LyDTXZH3KsheFIdvgW2Z4ck6BAJL0O8ODHFJq0q\n",
       "S9vVW9qWqS2aIsiYrQdjGS+0pu6/klMnyrVxxv2FzvuBCfHElq4OfISbSC5NLpexEUX5Irbxbgxd\n",
       "5o377di6SE2Rscd3WkskQ8vWbzpE0HvLosD2ZtCHtmHHpKgbs6xO1f9FE2Jsu5GrPWiZ9RyJrEty\n",
       "gK1QdGXMNtyNwTZci+xutVjGNpoc3ovU6Ae31OQFJ8D2zKWg+5E2vCvaHrC5okwzZ4oIdz2sfzrs\n",
       "pgBJ3WuTS7/vsMl0NUAy3I1hf6cdMq60bKphpItmiky/ByKsqXetvHv4f4xNBB2PTEvyfdhk2TYr\n",
       "eVbH8PttVBvToC70b3uBhu6fR7smhDD8Bbb1AMl4N/qp6qLmGdmCLXV9fTKO1Mi6ia5DJQzYepVY\n",
       "iCGIoIdsR7HVitzMSWnrMZXsRQM7H4zRniWRyvafRyXUuw14bJmpktHX2Ma7MThCQ2n7MZ6ZPLe6\n",
       "cIMvQQvq9lWwIm+7kbLpik4iNW5fuaE55cDWq6GC7Km1Ra/MvhDbtE5hbqikZ3wczL7919l6H9Oq\n",
       "bqOkapov16IlTePXfUgvRWrunibYTMDzI02YA0px3mBEJ+Fhc4GS+pJePaeloiXUsxtZnSQBVVux\n",
       "5WW4d7WpMGeTnYiNKH9Vn1CFF2ymw8a7Fq3fsjFOers8iosC27jkhHulLQ3zusSZ2IjwVb/Icd7J\n",
       "hf+vbaPq49pE6MQQlhZEV2Mw3Y7Z2uv2qho7JmC1ERsvy2B3NtDgjShRbSPtwVaV6FA73TLQegDY\n",
       "kHZiS4K9zaYItIPyGpvSKGmHejSb0scbg1dLr06xqWDDkTTQC+4vsRkslnwMm8dPnZleLb06xWaD\n",
       "nbDFAg2UvsIW2qKywHZWerGi6RSbCXbRehvonr3AxlPcPBk+Nu5j8PRi6dUpNhbs7MisNDFiO7Co\n",
       "7Ox2BbANlEgf2DxdXl5fenUOW6jXSVSU2I4sKsvm/jTzoK38RDoH2yM7jmDz1Z1bX3p1io0Ge1U7\n",
       "CXQ0uY7tyKKys9gKD1XOJ8Y352B73gxx4Jiot2jA6tKrU2x5sFe10xixHVpUdhYbSYCtV5fJ49vX\n",
       "/mZLrC61GBc2Gh+2Q4vK9rD1VktgBbA9SivzsH2fXaa1pVen2IqAseXRYTu2qGwPW/HcjsyArYuO\n",
       "/JUf3772OQ1wbenVmLCVEWI7tqjsPLZe1+nu2H7+8LB96zX+vrKxKTYdMLb/C3K//rf8tVjzHht5\n",
       "L2ArGLDV6ffUx/YTr1HulaVX/6GcFp1QF0Yoy7/Hhu3gorIL2I6HSL4EW/qbj+2XXmMBK0uvxoUt\n",
       "zCnSK93Ig4vKLmEzGtiqbsN//yThYVtZenXajRTA5g3b0RWKamwmcSlN65f24cHPi0tXX2A+cvr8\n",
       "XQ6v38v+65en7XuNBSwvvQpsZ2I7uqjsUst2eNAWb8vW6ZsqPNCyecW2vPQqsJ2J7eiiskvYDocj\n",
       "Y8XW9/Wffxn+HAq25aVXge1MbEcXlV3AdvxCW5zYBi1Z/h96yC8UbMurdwDbidgOLyq7gO34FJIY\n",
       "sY2Gbv/+byOCwWBbXHoV2E7EdnhR2QVsCbkhtpE19q+yVzAOYvvh9UAXl14FthOxHV5Udh6bh2n/\n",
       "8WEb/fXwYQJleQzbn70e6OK9ccB2IrbDi8rOT0T2sOBpdNjGf2z1y498DNvi0qvAdiK2w4vKzt5i\n",
       "wxW5H7Zxlmcet++7G7m49CqwnYjtcE7OYvPxWOrYsXHpFVvuu6CK6LGZP8JcDJXn8xl2fFFZOnfS\n",
       "LAE2r9v3jm1p6VU5+R7+xx9hWouuZSvCXfUe2E7sRi4uvYpu5HnYaLhPcQW2M1u2paVXge08bCzc\n",
       "p28B25nYltbqArbzsNlgl7sFtlOxLS29CmznYQt1Udn4sJ1729AJ2BJguxibArZPf+dnsC0tvQps\n",
       "52FLgn1ECbCdim1pNUhgOw9bCmxRYPvjDwFs8WOjwHbHlq0Atg9gy4EN2IDtCmwlsN0Tm/4KbHEt\n",
       "0loG+3RyYDsV2xIhrBt5Xsv2P3/7BWx3xPaPf/sbupGXdyPRssWB7YfvAjFPCNiADdhyYAM2YAM2\n",
       "YAM2YAM2YAM2YAM2YAM2YAO2u2NDNBLYgA0tG7ABG7ABG7B9I7bYlkUANmCLF1tkyyJ8A7bYFmkN\n",
       "deI0WraTsS1NL8YirWjZgA3RSGADtg1/+Vj2H91IYDuSZrcrgK2fMgFswOZhf2efYpMJYHsmbQmw\n",
       "AdtZ2Dw8ePSLsCkJbMB2GjYPj9T+Hmw5I8AGbJ6x9R7zywpg66Ijf+XABmy+sfUeYC8zYGvTzx8e\n",
       "tu99kVZg+x5svXHKzbH9nvrYPlo2YFvGVjBgq1P6G7AB27nYjodIvgPbj58E2E7DdrdFWpewGQ1s\n",
       "hPA//YoLGxZpPa9lOz5xusZmEpfStH5pLuGK55Xcnekjp6/0tLftuz9/+Nq+Z2xL04vRjYyxG3l4\n",
       "0BZty9az9/uIISYiA9sZ2A6HIyPFNtBVR0d6b2DMBmwnYDt+oS1KbMOGrIuOPN4ENmA7AdvxKSQx\n",
       "YhsN3X7+euYzsAHbWdgScj9s4ygJy/sZDWzAdg42D9P+o8M2tsbVKKuBDdi8YetNRM7kDbGN3rLa\n",
       "3/YRjQQ2snCLzahSv0+ApJ/lGfGJDS0bsM1jozmwcQlswOZ3f+ncvR+WAJvX7QMbsIVZ8IHtHtiw\n",
       "SCuwRYENi7SiZQO2pXKFaCSwARu6kcAGbNd+Jx6sAWzAFvp3AhuwARuwARuwARuwARuwnVeuEI0E\n",
       "NmBDywZswAZswAZswAZswAZswIZFWg+n8xZpBbavwoZFWs9r2UKdOA1sJ2PDIq3oRgLbfMIjo4AN\n",
       "2DBmAzZgAzZgAzZgAzZgAzZgAzZgC+s7S78J2IAN2KaJ51Ylyu93yiTJXj45EhORge1e2AqlqDij\n",
       "4HHNEivRsgEbsLVZqMyZhU4oy4EN2ICtSjQ7e66NTjSwARuwEWvO/3aucmB7I2GR1u/E9i9/v+T7\n",
       "/zm7ChsWaUXLFig2e1UuMbZUrhCNBLZbYKPssj3ICnQjge3G2Hhy3R4sfBewAds9sJkr82j+0XYD\n",
       "bAthAQFswBY7Nq4u3YfkJTY2f4kgE8AGbJFjy/NL92F26tYWbIUBNmCLHFt2bVnTZvY8/XiJjSTA\n",
       "BmyRY1MX70Sys2UjrAA2YIsam7QX74Tai01mwHYfbIn5QmyaXZwZc93WTdiIksB2F2y8VF+IrSgv\n",
       "zoxSbMGmqeWS0YwSwVjW8CvYzbDdeZFWTr4QGy8vzoxyUzeSkcxSt3d59VORvhsiwSKt17dsWKT1\n",
       "9XeWAezEBJvWJHFDNFnSXnvUXjbY0J3EIq0IkADb/PcNFml12HjVpum6k+skmLbLKuzWtvj7xmw0\n",
       "SY4vZDveiFz8Adju07J1Y8mGWdoO1ppBW6HuiI1pLxsdbIYOdGgKbDfFZmtSieOlq7PLu/6jZIli\n",
       "wjO25+WPIg8cG83KMrM227mKRR/bOOBE83CwfWc0klwejdyGrW7Nmr5k5a6+6bO90KaKLQXiLWzP\n",
       "OWRKBo6ter/J+Szlx7BNJ8UqHgy277zOtndHdmfGNmyyvkLQ2MgYqevgdgrJlm7fm9hE17S9c+H8\n",
       "Q9hE2XT3ipIew2YmDVluwsGGbuR13Uhdh/lpffa1ofXpbSL/OiXesT3qdFYEj422FyppyY5hm8nH\n",
       "TY0lsMWObcNE5HbaP7WE+x6zPW59UCR4bFnZvYpD2ObiTCoHtjsGSKapXWzPUMK4b2wkTVxKWfjY\n",
       "ymzQm9yNzXTHyhmlbbSFWWADtt54XphcEO/YTL3NjAePrUEmWbKvZD8zt2vFtLv0Jhp5+aO1M0kv\n",
       "WWC7GTb6TlD+bWz1zQ9rd0Dk7J3vl+NQg1xxLNhsGH8h9F9axli+96rbM3NbrbLOetrOPt02Hga2\n",
       "r8FG5xuut24Fev+itsOwcuFYpG2Xi9mVddQfv85HfTxRJHz50/Pdt+Fcw27fsmPn63mIqW63Ryl9\n",
       "NpsbNoFFWr8Im4/0/iKtBZ0Jjwhqs+aWgzacYOoe1uLXdr+myWQVpRlsz40VanPLdvBi7wRb2Xeu\n",
       "0bLdAdvnF2lVk+aIGPNoZFsO7iK7XA4DPn499TiD7bmx7djEM+BPC9e15a6po6nbdcqoe1hQ+8Jy\n",
       "SrsPdS8z3chBnKVIrhqzvTd3QH45ttNy45KWbQc2VnQX23hVTvPRKLHl4HpQK9i6XzfBHGmapBew\n",
       "PTe2HRstOy3url9J3RZcZ7D6DzN1iLF9cfNsTN5+qPtsH1vWKEsavM1X5dmmvD2Ojb7XCGr6YWzy\n",
       "/Q+8ge283AgVm0zbCpy78Fz1f94vec84HWHrt9W5XxeG5K9btufGdLIVmyqfO26KOrTj3rGUcGdA\n",
       "8valHn3prP1Q99k+tnacWB8YN+1lFXYNto23AUvGTNOLp/lHsb3WMAWwHduJuREqNmLbBsva6riq\n",
       "/dG9fRLq0ZqJhK9+s/u1NLkcDf7S2ckp3cYU5VuwGTcLuTutuvpBP7Hp5tDalzzNq6S7D7UvfWyi\n",
       "BU5Z/ug/J/oSbI9ZmTxZazK4G9QWzVa3TdvcWuaoNcY2By1tUpbWVmNzd7qFTdK0+smqNM2HGtwH\n",
       "k/qpGDYt1cTWBMBmbF1urGfGvtwIFtsjcmDyuhnIVVanwp2DRwhyLYb/+tci65IcfLqYnr1Xt9i4\n",
       "h8S6ZqnrRsrmONqXNq7Yfqj77GAz0/vjZEIuwfaYlVmsznOlboPtjPfc+MMmmq4zbTNANDEimaqm\n",
       "smpafJ6xsQbWdeGHD8dokYwBbMbW5cZ6ZuzLjeCxdWVJsEFd2JbH6jDlcg304tdLn5bp5mjks7p1\n",
       "Ge56utX+czf1xZUOTh8vuXtpP/T4bH8z0zNm8muwpc8wzGrXrA6YtuHXXfc4zJY52cWE2lmmsuWV\n",
       "17Gn7ifC7ThbHl344WXRFsk4OzdjSzdlxr7cCDUa+Uj1k3ZcvvcbqTaEITMhxCOvOev+ebRr/V+/\n",
       "tPb49Buh/x42mjNX7POqH2hdbJExF38cvLQfenx2sJnxw2Y33vJwGNvzaJPXo5WirYd70za757Nv\n",
       "v0VjcNbVw3qS9LGJMuljI2asoey+bxid7ZCMAGzF9siNDZnxdm4E37LxqmTWQyjZe7xAmyVp6dLj\n",
       "b1PZ/tOdlsGvX1bwj0/vwbYv9TfDR6dn45OeD2NrwzDaZmVmX0TWdJIP4jlNb1f0Xt7FVvQunjRT\n",
       "31peum41mp+07gK0z5OjuxaRD1V0SEazuLdia3JjU2a8nxvBY+uVRuZGV3qRg7e0BZufNUjSvlk5\n",
       "OLlUkmuwqeeQ7dVXUduFrXrh4KZgvWFtUObsczdFj5cbkhWPn6ie1A3V77td6f2yh2Q0DWgrNpVv\n",
       "zIw9uRERtkGd8mFs4aTD2B5zqM2GGqyNvw2nbVZF6x1rgzKnHlcqK1jpgxenTfixes/a3meeGpJ0\n",
       "3L8cIsnVLmxdbmzJjLdzI05sRNETi+/sSg/xLdK6cX8frWtvlMJVb8aKGHa2eXOeBsPL99r5RWzN\n",
       "KC1h1QC36N6zbgChJxr4YzA3GrJ1SEazuLdi63JjU2a8mxsfnRt5YJFWcVo7I8XB6F5kLVtXvHi5\n",
       "Pg4VzW1PzWaH0zZXsJVzab4bqctmbdJsEKvsxmzdrJB2d7vYxKjz/UQymsVdvtqRYW68yox9uTG/\n",
       "E3jM7/26kXUHjK9lAH8WryLx1I0sSvMMkOQL2Dh/TlpvNTyGbGxw+E8kel/L1ubGq8zYlxsvF2kF\n",
       "ti/H1s2BcR2wYuXEN/Pn2o5Tf9rmoQAJyRwKXTxGYXPY6m8UAw2snO1FPpEUyS5sbW68yox9uRHp\n",
       "mA3YvGHrwnbWuqvvy6leGKbrvfWmbR4L/VecGCl09c2Pi9rz2NRQQzfBo72uxcm4xhjN4t6Krc2N\n",
       "V5mxLzeA7e7YulmZMnvxiGltjOlCFb1pm138W6pd2Kq/c1f9C5N2dy2pwdG12Fg6qhuU637K9ssf\n",
       "66Y+kYxmcW/F1ubGy8zYlRvAdndsZMcVQ3no0stkInJmaT3xQ1R6VFnaR5CjnZZss/TR3nV1A2GZ\n",
       "NY/GJ2mnkD+RjGZxb56udWZuANvtse2YVWxyn9iaQi7b+aL76oaCrwPYjO3M3AC222PbOjGsV5KP\n",
       "rVQ9W/CtEnmyv25gLwBsv5/txNwIfiIysJ2Ojb9rJ5P+sRVluXHtzblvH0czJgC2YzsxN9CyAdv4\n",
       "wvCrRA8uQjI/7dCkdn/dQF8BeGNZhPNyA9iA7fKsPPj3rzVMAdxnKTs8wP68dM0D7IPC5u07b4UN\n",
       "D7A/r2XDA+xvig0PsEc3EtgQjQQ2YMOYDdiADdiADdiADdiADdiADdiADdiADdiA7bPYEI0ENmBD\n",
       "ywZsn8CWGGA7nhnABmyvEy8VsB3PDGADti0FDN1ID5kBbBtTqHMN8QB7jNkG6f0H2KNlC6tlA7bz\n",
       "sCEaCWzAFmfLBmzAFiA2DmzAFh6274xGFvTizDAC2IDtZfrK62yaXZwZGQc2YLtnN1Lai3dCoRsJ\n",
       "bDfFRtTFO5EAG7DdFVt2bVnTc91PPDIK2G6BjeaX7oPRaNmA7a7Y+LX9yIQAG7DdFRsxV+bRfDsK\n",
       "bLOZgkVavw7blU0bT8hHsWGR1vNaNizSuuU7KbtsD7LiGmxYpBXdyDCxLRHwnxhbKleYiAxs98BG\n",
       "/vL3S77/n7LFcoUxG7DdBBuxF/QkeUYJsAHb7bERlp09utWJJsAGbMBWWVDmzEInMisJsAEbsNWp\n",
       "UIqe0rxxwZSV6+UK2IDtTtjcUi5WJar0m5JEvbxsjmgksN0N2wfLFVo2YAM2YAM2YAM2YAM2YAM2\n",
       "HwmLtAJbFNiwSCtaNmBbKleIRgIbsKEbCWzABmzABmzABmzABmzABmzABmzABmzABmzABmxfhA2L\n",
       "tAIbsKFlAzZgAzZgA7bvxLbx3jVg84oNi7TeE9u528cirV/QsmGR1ptiwyKt6EYC21K5wkRkYCOz\n",
       "2xXANmhGZDTdSGALGRubW+wwE8A2lx3ABmzesRUG2J5JW3Qjge00bPNP9LsrNiU9YPszsAFbD5t+\n",
       "dnVYAWyP8ssIsAGbZ2zF87kQMgO2LjryVw5swHYitl7X6e7Yfv4gPrAhQAJsS9gKBmx1+j0lwAZs\n",
       "p2I7HiL5Emzpb8AGbCdjMxrYqvTjJwG2k9L9FmmtsZnEpTStX5qrSsICW5Xvf/oVJjYs0vpNLdtz\n",
       "0Lb3UUofOX2lj73d9ov3Elo2YFvEdjgcGWvL1vf1ezr48UjLRoEN2BawHb/QFie2YVPWREeeb+3e\n",
       "flIaYAO2BWzHp5DEiG3Ua3xER7q3d2/flgrYgG0BW0JuiG08zvz5q5fRh7avfZd4YPsebB6m/ceH\n",
       "bfzXLB/k9KHtJ54HbcAWObbeRORM3g/buF3japTVR7avy5QDG7DNvMkVuR+2yThL+zwmVlpgA7aZ\n",
       "N2kObCLze0zWa0AS2GLERudWQLAE2Lj0fEzUZ9sGbDFiC7DgB9KN9H5MsgC2YeHFIq3AFtQxvYcN\n",
       "i7Se17JhkdabYsMirehGAtuHWzZgA7bwsQV7JwOwAduXYYstARuwARuwARuwARuwARuwARuwARuw\n",
       "ARuwARuwARuwARuwARuwARuwAdtdsWlgAzZgQ8sWT+UAbMCGbiSw3RBboMeQ+l4mGtiA7SRsZBs2\n",
       "DWyesIW6v8B2ctJfgC0BNmADtmuS8v0AhJOxJcAGbOvYijIN9BiykkWFLdTKAdhOTkuEptjyMgn0\n",
       "GKzvp42cjC3UygHYTk5LhKbYqO9nenhLxu+6tadjC7VyALaT0xKhKTZWZoEeQ6h7tri6VqCVA7B9\n",
       "qKBOsZlg6+M80DZ3CVu41RawndwFMxuxZcEO63WgoZslbHmwHXJgOzUtEZpiU8HOe5CBXpRYwuaj\n",
       "cphsWQDbXLZ4L2tH8n2J0BRbWopQa4yylDFh81E5TJ5jkwlgq4ozP3vYdSTflwhNsQU7D9ldJdYx\n",
       "YfNROUxOemGAjYg68sTyvLgM2zv5vkRogk0Ge03bxdLzqLB5qBymT2hLgI0YlytGtOguwfZGvi8S\n",
       "mmDT4Y7qCQ0zULqIzUPlMD3prAC2uuBnKj+vD3Yk3xcJTbDRcKc9hFoRLGLzUDlMT7rMbo+t6dKJ\n",
       "tEzlddi25/sioQk2G+5NWISHGY5cxOahcph50K+Sd8dmXfxBciITeh227fm+SGiCLQk3PuJ2TsaE\n",
       "zUPlUJ90Tk3dH7X1qSnYzbHxugpLqpxh4lRsO/N9kdAYGw84PuLmZOQxYfNQOdQnnZEi7Z2r5ObY\n",
       "8ro9y4sTg5FH8n2Z0BhbEe58vrpfZqPCdrxycCddFMS4E23bTqnR98Z2+kW2Y/m+TGiMLeQhG3GX\n",
       "C6PCdrxycCe9Klupq8zTdoTyDHiXu9MnsMWQtuX7viHbBFsa9gw2E+L0lmVsx7OzGahrNwqQ3bF7\n",
       "GLTF3LKxK5qDA/m+fM5H2ETQvUh39CwqbIcrh+ak170Z2p0qD+HImLFdcm/z/nxfITTCRsPuRVbV\n",
       "RhoVtsOVQ3PSM3f+sozUV3F9XGiLGJs212Hbk+8rhEbYVBq2tepQdEzYDlcObQ1r3TVcRpivblTE\n",
       "2Ky4DtuefF8hNMQmAp4+0p0yGxW2o5VDc9K5ZbSQlgpf3aiIsV2zQs7ufF8jNMRmQ76i3eZCeLu4\n",
       "hu1o5TCdyeBl2n+82HJ6IbYd+b5GaICNBx4eafaRRYXtYOUwPemZvDW2Ky6yHcj3VUIDbDTMmzPH\n",
       "HTMeE7aDlcPkpHNF7oxNXrSsy958XyU0wJYaEkFKWEzYDlYOk5NO81tjY8WHsG3M91VCfWw0/BFb\n",
       "3XkOrf1dx3ascqDj2Junjv4nZ2ccSVeNc3bm+zqhHjYe7tL0w2SyqLAVMXTOkfwEFFYJ9bDZLJZj\n",
       "SvKYsAVXOSCdlV4QemLTKY/lmERYuyqaXpKNpXJAOimtEEqGPelER3RUQXXMeF4nHUvlgHRWj2u5\n",
       "CDRFpKt0uUZm3aRyQDqp0t1H6P8BoU4fF3M3xCUAAAAASUVORK5CYII=\n",
       "\" style=\"display:inline;vertical-align:middle;\" /></a></span>"
      ],
      "text/plain": [
       "|- forall_{e in {2 .. 2^{t - 1} - 2}} ([Psuccess](e) = [Prob_{m in {0 .. 2^{t} - 1} | |m - b|_{mod 2^{t}} <= e} QCIRCUIT(VertExprArray(([INPUT]{state:|+〉}, [INPUT]{state:|+〉}, ..(t - 3) ×.., [INPUT]{state:|+〉},[MULTI_QUBIT_ELEM]{element:[INPUT]{state:|u>, part:1}, targets:{t + 1 .. t + s}}, [MULTI_QUBIT_ELEM]{element:[INPUT]{state:|u>, part:2}, targets:{t + 1 .. t + s}}, ..., [MULTI_QUBIT_ELEM]{element:[INPUT]{state:|u>, part:s}, targets:{t + 1 .. t + s}}), ([MULTI_QUBIT_ELEM]{element:[GATE]{operation:QPE(U, t), part:1}, targets:{1 .. t + s}}, [MULTI_QUBIT_ELEM]{element:[GATE]{operation:QPE(U, t), part:2}, targets:{1 .. t + s}}, ..., [MULTI_QUBIT_ELEM]{element:[GATE]{operation:QPE(U, t), part:t}, targets:{1 .. t + s}},[MULTI_QUBIT_ELEM]{element:[GATE]{operation:QPE(U, t), part:(t + 1)}, targets:{1 .. t + s}}, [MULTI_QUBIT_ELEM]{element:[GATE]{operation:QPE(U, t), part:(t + 2)}, targets:{1 .. t + s}}, ..., [MULTI_QUBIT_ELEM]{element:[GATE]{operation:QPE(U, t), part:(t + s)}, targets:{1 .. t + s}}), ([MEASURE]{basis:Z}, [MEASURE]{basis:Z}, ..(t - 3) ×.., [MEASURE]{basis:Z},[GATE]{operation:I}, [GATE]{operation:I}, ..(s - 3) ×.., [GATE]{operation:I}), ([MULTI_QUBIT_ELEM]{element:[OUTPUT]{state:|m〉_{t}, part:1}, targets:{1 .. t}}, [MULTI_QUBIT_ELEM]{element:[OUTPUT]{state:|m〉_{t}, part:2}, targets:{1 .. t}}, ..., [MULTI_QUBIT_ELEM]{element:[OUTPUT]{state:|m〉_{t}, part:t}, targets:{1 .. t}},[MULTI_QUBIT_ELEM]{element:[OUTPUT]{state:|u>, part:1}, targets:{t + 1 .. t + s}}, [MULTI_QUBIT_ELEM]{element:[OUTPUT]{state:|u>, part:2}, targets:{t + 1 .. t + s}}, ..., [MULTI_QUBIT_ELEM]{element:[OUTPUT]{state:|u>, part:s}, targets:{t + 1 .. t + s}})))])"
      ]
     },
     "execution_count": 3,
     "metadata": {},
     "output_type": "execute_result"
    }
   ],
   "source": [
    "_success_def"
   ]
  },
  {
   "cell_type": "code",
   "execution_count": 4,
   "metadata": {},
   "outputs": [
    {
     "data": {
      "text/html": [
       "<strong id=\"thm_condition\">thm_condition:</strong> <a class=\"ProveItLink\" href=\"../../../__pv_it/common/bcbd6b9d4ad35855001dc2b200dcea87f75c697e0/expr.ipynb\"><img src=\"data:image/png;base64,iVBORw0KGgoAAAANSUhEUgAAALEAAAAoCAMAAACGnut8AAAAOVBMVEX///8yMjIiIiKqqqqYmJhE\n",
       "RER2dnbc3Nzu7u5UVFSIiIi6urpRUVEMDAwGBgbMzMwQEBBmZmYAAACtm2JgAAAAAXRSTlMAQObY\n",
       "ZgAAAAlwSFlzAAAOxAAADsQBlSsOGwAAAoVJREFUWMPVmNl26yAMRQEzCNF7Af3/xxYpsTPVtRPj\n",
       "xuEhzqKrYkdoOLKqqsPqYmTtKocx8uRhCSMEjw5V9t6lDyD2ykVUCsg22qEcnzglZVx7BmrYytLx\n",
       "iaF5l0NhIOBE0h8QFY1VTazFfwJxFFbDrImCguMTi19PodHggz08caA8pZzzyh8uKmy1GbFe1WPD\n",
       "n7KjUsVwNGKwqbR7L+GIPS/Uql2+3wTkRONS9r/HIZuNDHq61cB9wXNCZTcu/iM3uMSu+deDeKMR\n",
       "a+qlNkVhLw/XVprba1X5AFGBxl/X0iJNLNJdKgUuCiYPbycGb/B2J0oNiHQXySnyj/P21cOy2Eua\n",
       "HGwhhmpmCr+hzu6RKpi1TdG/bgSiHuY8QtiXeBAXR2k3G3w8T2ziUgjS4xodoc1ljbEljrUwefvV\n",
       "qAgzUVFd76TB6QOwd+axL2L3NGfHJnF4hd7VrcUcX2EIfYntiRpi7tGlbzpIGzTld8ATxHpZB2mN\n",
       "OttqUiddMeip/AZTeZknogJolVuIjN9DCZlT4s8Pbl8PimnQawPjwcifKvpRMQVvtM8r/i+/eQa5\n",
       "UkyzZf22KW1vnGB+KPWria8UE8GqkvTuOe+imNKq40N++yw9KSaMCvIWIz9cSBnGaU33JRbFVFF5\n",
       "6Es8pkYbhk1fYlFMuY3ZvRW9G5N56Ev8q2JaNAKuzTQYwdoonRAtyl1h+6L3If5dMS0bCdS4tDtj\n",
       "8TtoaF8qN8ayC/GCYlpDDPI+SeUy1muHsql28fGSYlpDfH6rwMRWtmJNpHYiXlRMTxKffKz38HFe\n",
       "qZiWjQixOxMLZCigouVnT+JuCyLVFgw6hUgcYR6xBnlaNCf5G7wmjxvP+QZuxxodQ86MLgAAAABJ\n",
       "RU5ErkJggg==\n",
       "\" style=\"display:inline;vertical-align:middle;\" /></a><br>"
      ],
      "text/plain": [
       "thm_condition: |(m / 2^{t}) - phase|_{mod 1} <= 2^{-n}"
      ]
     },
     "execution_count": 4,
     "metadata": {},
     "output_type": "execute_result"
    }
   ],
   "source": [
    "# for convenience\n",
    "thm_condition = _success_prob_guarantee.lhs.condition.operands[1]"
   ]
  },
  {
   "cell_type": "code",
   "execution_count": 5,
   "metadata": {},
   "outputs": [
    {
     "data": {
      "text/html": [
       "<strong id=\"m_membership\">m_membership:</strong> <a class=\"ProveItLink\" href=\"../../../__pv_it/common/89d0188c50f606a85186776fad8a95883dbde6470/expr.ipynb\"><img src=\"data:image/png;base64,iVBORw0KGgoAAAANSUhEUgAAAJ8AAAAYBAMAAAAWgDKzAAAAMFBMVEX///8yMjJmZmYiIiIQEBCq\n",
       "qqqYmJjMzMxERER2dnbc3Nzu7u5UVFSIiIi6uroAAACibcT0AAAAAXRSTlMAQObYZgAAAAlwSFlz\n",
       "AAAOxAAADsQBlSsOGwAAAfBJREFUOMtjYCAPSDFQF3B/oLKBrAKk69n3ALcc12TJAiyiUfjM45Xb\n",
       "gEeWMQCbaE03Hi3xQPM452phcYeSRAEDP4ZtxSCRHjwGTgZiUYbNCzAkVjBw/mN4gh5Jh+Q3QDXh\n",
       "MZDNgIGzAUPiFAODC8MdbvQwvI/dQN5mY0O4gRwHGFh/Yyjx38BwfoEu5waiDOST3YDkQn4FBvav\n",
       "GAYeZmA4X1CUzoDLQL47u+b2ss/sA4su3IDs5f1AA79hCw57LGJwAzk5zjLsz2MIQc9QigwM6ycw\n",
       "sP/FoherINjAK0D8jrmBYf0FhnywKCL9c7lBDPyJRS/zAVwGrgcmzw37H4DSnCLYamdjY2MLsHkH\n",
       "gflk/wQGPmyO0YAxNhqDgDnCQO6DQBPjwd7zBKcmRCIp6gZHCitmpDCwYXMgxEBOOSBxkIHBkoHv\n",
       "FzdI1AChAJjoORoY2DCTDUMkA9cCHAaCshfQbdz/GHgEloFE76ImbAcGJsxShX0CA+8GHAZOAYXW\n",
       "dwa2DwwcEyag5XlQCjBl2ALOENwfgcR+qNmLlZSUsXh5/gJYOjRg4FVg4NMF+4L7xGtkAzfNPQ7h\n",
       "GIHiVgGaCP///4hp3hl/mQRsWY9vBlLWIx1MJlOOLE1XyDFQEY/c+gAyqi43PJJcOiSbyDUHqAUA\n",
       "QduDMdPRGlAAAAAASUVORK5CYII=\n",
       "\" style=\"display:inline;vertical-align:middle;\" /></a><br>"
      ],
      "text/plain": [
       "m_membership: m in {0 .. 2^{t} - 1}"
      ]
     },
     "execution_count": 5,
     "metadata": {},
     "output_type": "execute_result"
    }
   ],
   "source": [
    "# for convenience, and recall that m is our measurement\n",
    "# implemented across the t-qubit first register\n",
    "m_membership = _success_prob_guarantee.lhs.condition.operands[0]"
   ]
  },
  {
   "cell_type": "markdown",
   "metadata": {},
   "source": [
    "We eventually need to show: $|\\frac{m}{2^t}-\\varphi|_{\\text{mod}\\,1} = |m - b|_{\\text{mod}\\,2^{t}}$"
   ]
  },
  {
   "cell_type": "code",
   "execution_count": 6,
   "metadata": {},
   "outputs": [
    {
     "data": {
      "text/html": [
       "<span style=\"font-size:20px;\"> <a class=\"ProveItLink\" href=\"../_phase_is_real/thm_proof.ipynb\" style=\"text-decoration: none\">&nbsp;&#x22A2;&nbsp;&nbsp;</a><a class=\"ProveItLink\" href=\"../../../__pv_it/theorems/6f97b342dd38550cb8024855d13745b7ac6dd4990/expr.ipynb\"><img src=\"data:image/png;base64,iVBORw0KGgoAAAANSUhEUgAAADUAAAAUBAMAAADfOGjQAAAAMFBMVEX////c3NwQEBAiIiKIiIiq\n",
       "qqp2dnZUVFSYmJhmZmbu7u5EREQyMjK6urrMzMwAAACjE6D8AAAAAXRSTlMAQObYZgAAAAlwSFlz\n",
       "AAAOxAAADsQBlSsOGwAAAOtJREFUKM9jYMAEPdr7D2s3MGAHG8QZrncvwCEnxsDNV4BTjlPgAIoQ\n",
       "y2ZjG4TcBmQp3iMLEPrYVwHN5HvAwHt+F0hEZgGSma9jBBgYOBkY3vSWgUQOIuwTOvzZC0jHMTAU\n",
       "MHCDRA4guaVjDYhOYOBYANLMwKdsbGxsDZXjXgHyuwMDCwPDEiCDawOSPr4JICdMYLjHwDALJGKA\n",
       "7L950kB6BlB2+QOQiAuy3GoWoKE8R8512oJFeALgcpIMHA17gYzm/2YQEa7qW/B42Miw+zxQKSc8\n",
       "NnizoWEGB0wPGHCC97ilGJzxyMnhlAEAyX09Ck76UOIAAAAASUVORK5CYII=\n",
       "\" style=\"display:inline;vertical-align:middle;\" /></a></span>"
      ],
      "text/plain": [
       "|- phase in Real"
      ]
     },
     "execution_count": 6,
     "metadata": {},
     "output_type": "execute_result"
    }
   ],
   "source": [
    "# recall\n",
    "_phase_is_real"
   ]
  },
  {
   "cell_type": "code",
   "execution_count": 7,
   "metadata": {},
   "outputs": [
    {
     "data": {
      "text/html": [
       "<span style=\"font-size:20px;\"><a class=\"ProveItLink\" href=\"../../../__pv_it/common/89d0188c50f606a85186776fad8a95883dbde6470/expr.ipynb\"><img src=\"data:image/png;base64,iVBORw0KGgoAAAANSUhEUgAAAJ8AAAAYBAMAAAAWgDKzAAAAMFBMVEX///8yMjJmZmYiIiIQEBCq\n",
       "qqqYmJjMzMxERER2dnbc3Nzu7u5UVFSIiIi6uroAAACibcT0AAAAAXRSTlMAQObYZgAAAAlwSFlz\n",
       "AAAOxAAADsQBlSsOGwAAAfBJREFUOMtjYCAPSDFQF3B/oLKBrAKk69n3ALcc12TJAiyiUfjM45Xb\n",
       "gEeWMQCbaE03Hi3xQPM452phcYeSRAEDP4ZtxSCRHjwGTgZiUYbNCzAkVjBw/mN4gh5Jh+Q3QDXh\n",
       "MZDNgIGzAUPiFAODC8MdbvQwvI/dQN5mY0O4gRwHGFh/Yyjx38BwfoEu5waiDOST3YDkQn4FBvav\n",
       "GAYeZmA4X1CUzoDLQL47u+b2ss/sA4su3IDs5f1AA79hCw57LGJwAzk5zjLsz2MIQc9QigwM6ycw\n",
       "sP/FoherINjAK0D8jrmBYf0FhnywKCL9c7lBDPyJRS/zAVwGrgcmzw37H4DSnCLYamdjY2MLsHkH\n",
       "gflk/wQGPmyO0YAxNhqDgDnCQO6DQBPjwd7zBKcmRCIp6gZHCitmpDCwYXMgxEBOOSBxkIHBkoHv\n",
       "FzdI1AChAJjoORoY2DCTDUMkA9cCHAaCshfQbdz/GHgEloFE76ImbAcGJsxShX0CA+8GHAZOAYXW\n",
       "dwa2DwwcEyag5XlQCjBl2ALOENwfgcR+qNmLlZSUsXh5/gJYOjRg4FVg4NMF+4L7xGtkAzfNPQ7h\n",
       "GIHiVgGaCP///4hp3hl/mQRsWY9vBlLWIx1MJlOOLE1XyDFQEY/c+gAyqi43PJJcOiSbyDUHqAUA\n",
       "QduDMdPRGlAAAAAASUVORK5CYII=\n",
       "\" style=\"display:inline;vertical-align:middle;\" /></a> <a class=\"ProveItLink\" href=\"../../../__pv_it/_proof__success_prob_guarantee/7a03994ccc73669a87ff0a3e7e83ae4efe25ec3f0/proof.ipynb\" style=\"text-decoration: none\">&nbsp;&#x22A2;&nbsp;&nbsp;</a><a class=\"ProveItLink\" href=\"../../../__pv_it/_proof__success_prob_guarantee/b9b6d5326181980ec2b377f6b227a213757b505b0/expr.ipynb\"><img src=\"data:image/png;base64,iVBORw0KGgoAAAANSUhEUgAAAHwAAAAmBAMAAAD0JeIcAAAAMFBMVEX///+IiIi6urrc3NxEREQi\n",
       "IiJ2dnbu7u4QEBDMzMwyMjKYmJhUVFSqqqpmZmYAAAAHKSyHAAAAAXRSTlMAQObYZgAAAAlwSFlz\n",
       "AAAOxAAADsQBlSsOGwAAAppJREFUSMeNVU1oE0EU/rK7yeav2/WkqODiRRDBgCCiYFZRir9EtP4U\n",
       "bSPYinhw0ZNFSC9WFISAIIpiIgURRSheKlYwQkHUS47iJRHxkpZSTCVUKTqzu9kN3bxJHuzsDvN9\n",
       "M+/Ne+9bANDKENuoJVqdA6T1187viY3sbQ+InRKwE0UgonxA7jW+EpB3AvoD5trGsIm0jvcERBGE\n",
       "94w9Vs5AxUKNgKi3SHZPg48VcO644HoIC2f5+Bk4CamuEqB0iqIX7KyMQ/2FZHEXFXyWos/wQV5C\n",
       "YoGBKFRijKL/5YOUQagK6Tvlo7y8Yrvn+/6cPsRLoo5ubHBlNHJJ+tIH7nM3VgvQszAfg11XV/QN\n",
       "beg/4kC01BW9knfeof39Ax5dAXqzXdELTtlKTy3/9I83GH1SxHoIbF7kjJwD22n5zseOTLB6EjZ7\n",
       "FbGXW7h/vbo9n/BjvzN0zPK8IvohjyRgwoux6NMvT/HJVoPP/jWNp3G0n9sZ9hUBprgLjF61deMm\n",
       "WzjhOt83jQ6nhwAdqu7RVbMlcU+UTs5rkPLQLD/2TAtdu8c2S4tuXpvUoH7iX26CVrXQVXMdy4ju\n",
       "o+OBjnmx9tFP+3LcBMXLHr2KacVAtOqDc8FGHfrtXHnBcFRrZlOz4xZTysFlxJ3b2F07AHwLuj/b\n",
       "LFq3XqQLTtF64dlCIJu4YmwfuBSg33bfw5SO2EqZTCE6hlfBH0SznQ9TGmzrSLSBZB2NYOIzrZrU\n",
       "zo7ap2eQXJKCgia7fSqRmvSmKdgLodJ1ChQhRSVnuB2ta/pFChQtd9r4LGKzeQq0hq5MJzeaKer7\n",
       "u/TS247/YIQEehrn3dCTxTYasiNFr6nH2XAfWE0jzolcY/onD87PZ0iAIpRTVhthplN0fFfJlf/C\n",
       "JaWqSWiAUQAAAABJRU5ErkJggg==\n",
       "\" style=\"display:inline;vertical-align:middle;\" /></a></span>"
      ],
      "text/plain": [
       "{m in {0 .. 2^{t} - 1}} |- ((m / 2^{t}) - phase) in Real"
      ]
     },
     "execution_count": 7,
     "metadata": {},
     "output_type": "execute_result"
    }
   ],
   "source": [
    "thm_condition.lhs.operands[0].deduce_in_number_set(Real, assumptions=[m_membership])"
   ]
  },
  {
   "cell_type": "code",
   "execution_count": 8,
   "metadata": {},
   "outputs": [
    {
     "data": {
      "text/html": [
       "<span style=\"font-size:20px;\"> <a class=\"ProveItLink\" href=\"../../../../../../numbers/rounding/_theory_nbs_/proofs/floor_x_le_x/thm_proof.ipynb\" style=\"text-decoration: none\">&nbsp;&#x22A2;&nbsp;&nbsp;</a><a class=\"ProveItLink\" href=\"../../../../../../numbers/rounding/__pv_it/theorems/c68b5cfacaa00a4f0a64b832bc3c745ba71851820/expr.ipynb\"><img src=\"data:image/png;base64,iVBORw0KGgoAAAANSUhEUgAAAIoAAAAVBAMAAABrmWvBAAAAMFBMVEX///+IiIgiIiIQEBB2dnbu\n",
       "7u5ERETMzMzc3NwyMjK6urpmZmaYmJiqqqpUVFQAAAB6qHgnAAAAAXRSTlMAQObYZgAAAAlwSFlz\n",
       "AAAOxAAADsQBlSsOGwAAAhRJREFUOMuNlE1IG0EUx/9bd5vNfoRNwYMfBNljQYhiL57SUqE9KBE0\n",
       "HnIxULfiKYhedUHoscRDoQcPgfZSqHSrLX4iKrToQVxsL1KhilQQvIoendnMbjZhtubB7ryZefPj\n",
       "vTfvDfBfsSFlwzOeyLhHBBfadjBTHK6RYgCnVDmJoPxGAxS0A+t0fM/flkqRlONQdPEsZmhko3yK\n",
       "uh1F2f0eMtMcCoLo8ilNiKA86quxe+JZxSPScsynSM+MWrsFoNs0eyIo3xhFSv6b6g8o0lIAHkyN\n",
       "PCdxDAArwFgEZYFRVKSMJZ8iXVbjd4QztQPYB95CPg2dPHq5Ne/rnYyyh8PsVeBLlaLZ2nWC7P8C\n",
       "HmbFMluNpayyIOJFhs17GaWItVBe5CCiGNQSHWcB3QiSu1Ek5Srgh1FHAboistvkaR/IV9ohv+Rq\n",
       "my3QA4TS7NRFBOUWw9yb/mLTPjsiWv87cta+iLs5r3VEueB7XKhQpIlEGhlO1eXK5xDJ+JN8cyS5\n",
       "GgoxfPYo6qugkgcqFP0mn1bcug4gwePv9DIWWUUk6AJuyYVZluUKgrjom04yX74afw543ZhP6pv0\n",
       "wh77C7G0jCnPF0H56D8pD4oN9bTcwZQ5saSSO/fygj6n2maNUFTfRG192gz5NdE+tWTya/7+OIci\n",
       "mZ4Uq5Q3tdAhyyrXLOQa8mX8nhdTNqB3m5Ua003T4D+rNu4A/aOIEBga5bUAAAAASUVORK5CYII=\n",
       "\" style=\"display:inline;vertical-align:middle;\" /></a></span>"
      ],
      "text/plain": [
       "|- forall_{x in Real} (floor(x) <= x)"
      ]
     },
     "execution_count": 8,
     "metadata": {},
     "output_type": "execute_result"
    }
   ],
   "source": [
    "# might still need this? CHECKING\n",
    "from proveit.numbers.rounding import floor_x_le_x\n",
    "floor_x_le_x"
   ]
  },
  {
   "cell_type": "code",
   "execution_count": 9,
   "metadata": {},
   "outputs": [
    {
     "data": {
      "text/html": [
       "<strong id=\"floor_int_phase_bound\">floor_int_phase_bound:</strong> <a class=\"ProveItLink\" href=\"../../../__pv_it/_proof__success_prob_guarantee/7753d6947ee0472caa619c766e2861c00b6fccaa0/expr.ipynb\"><img src=\"data:image/png;base64,iVBORw0KGgoAAAANSUhEUgAAAJkAAAAaBAMAAABWVuP/AAAAMFBMVEX///9UVFQiIiKIiIjMzMx2\n",
       "dnYQEBDc3NxEREQyMjLu7u5mZmaqqqq6urqYmJgAAAB66f/FAAAAAXRSTlMAQObYZgAAAAlwSFlz\n",
       "AAAOxAAADsQBlSsOGwAAAk9JREFUOMuVlT9oE1Ecx7/JpYleLtcgiApCa7SIBmmawcHpLQ7ikEOc\n",
       "XMzk6iGKgksHh+JQEv/QQkVP1MGpQRftQXHQwS2DuFrFTQoFC6WFcv7uXu7yLu+X1L7l9+79vvd5\n",
       "v/fv9wOStoD9tIMuP74ujbkx6Ogw4lbcWdZ9JfrB6v1ktQa990bRvvK0t7JbuPJUDHjt2nDanTNX\n",
       "Wdp8vBGfNPfZEbE9Y2MrNCkuf1Fg3NPcMzzt/scHwA5LKzrhBo3t4rvuXo4mMJ+naYVZXO+Wmixt\n",
       "vAscAW5gxhTaLViLzJuTKVrGRb5plF9ztAbNf9PDhPt+TFtqcVZaY8pTaPkdZLaKtWscrU7mEDAh\n",
       "Lv/W3Ea8HDvBhbFNIrOZWxUc7ZjsTavDOYHSi4fkTrbaWnLVM81usPIO5uTA39QKgUvrh2l0sz9v\n",
       "21NojRonJ1pbTlZW3Z+BMg7Q6e32aYsq7QQ4OdGq0cCH5FKEcge2F85oJjSrra40Ph2Y21DkcWx2\n",
       "Elo2fLU1GMArii1eqV311LfwMwkriiWWx7QvKLip5PENWKF92+JuCCwHd8HIiXY0PAMHhnrZVknw\n",
       "UiRnOnB7cRG4AE7ewXn6vOX771Jv4PGTP+fCBTbZl1X1/UlOTrQfFNR0EGynTulXMBXtdpl79dkg\n",
       "CFqcnGj5LpMTi2vqO2UzEiPv5RCt5YWSQ/am9eREyzGpBQ1p5E0wK1ETw2mNfu49zrjr0pzG/8VW\n",
       "1+pCqt3esy4wclmznGElc2TNAl+z4nqqtxVm7FHl1BC1Ual0/gHX1KBK6wcc3wAAAABJRU5ErkJg\n",
       "gg==\n",
       "\" style=\"display:inline;vertical-align:middle;\" /></a><br>"
      ],
      "text/plain": [
       "floor_int_phase_bound: (2^{t} * phase) >= floor(2^{t} * phase)"
      ]
     },
     "execution_count": 9,
     "metadata": {},
     "output_type": "execute_result"
    }
   ],
   "source": [
    "# might still need this? CHECKING\n",
    "from proveit import x\n",
    "from proveit.numbers import Mult\n",
    "from proveit.physics.quantum.QPE import _phase\n",
    "_x_sub = Mult(_two_pow_t, _phase)\n",
    "floor_int_phase_bound = floor_x_le_x.instantiate({x: _x_sub}).reversed()"
   ]
  },
  {
   "cell_type": "code",
   "execution_count": 10,
   "metadata": {},
   "outputs": [
    {
     "data": {
      "text/html": [
       "<span style=\"font-size:20px;\"> <a class=\"ProveItLink\" href=\"../_e_value_ge_two/thm_proof.ipynb\" style=\"text-decoration: none\">&nbsp;&#x22A2;&nbsp;&nbsp;</a><a class=\"ProveItLink\" href=\"../../../__pv_it/theorems/396def8ba7d11f0cfc66829313d1ccd83d6529830/expr.ipynb\"><img src=\"data:image/png;base64,iVBORw0KGgoAAAANSUhEUgAAAIIAAAAaBAMAAACJGJngAAAAMFBMVEX///9UVFQiIiKIiIjMzMx2\n",
       "dnYQEBDc3NxEREQyMjLu7u5mZmaqqqq6urqYmJgAAAB66f/FAAAAAXRSTlMAQObYZgAAAAlwSFlz\n",
       "AAAOxAAADsQBlSsOGwAAAbxJREFUOMtjYIABzgIGcsFbCLWekLoNuCR4oDInCZlQgUtiJYQq1QyB\n",
       "Crx+YozVOj4DHCb0Qek5UJrrbR5DOlaVWtgNYE9gYKje2cLA8AsmsHgCnA0HLCDdhhiawRq5AxjY\n",
       "GxjiL/AmMLB0AEE7A6MBkI0KFu4Embl+AdiN8xC2gzQy8F9gYCxgYEtgFlgCFWdz4N7ggGYEM8gE\n",
       "zgdg9lJlmChYI4P/Aga2XwyM37kNoqDi9QxMPlhN4G6AclQXQO0CaWQwAhqlwMD4hWUfTNdFBuY4\n",
       "BmwmMMM8xwc1AqyRQRLMZvqAPy2ATeCFBzDPbFgCBmrsADP8DYgwgeULnM87EeoRoMaJYIYiAxEm\n",
       "sP9FmDADagJQozYDUhihAK5JSiDgADeBC24Cz0SoL0AawW54yECUG2C+4NOGugCsEWQCTwBDOTHh\n",
       "8B0tNiEaJYAMVwYGK+LjApGiIBrNgK7T3r1bAb8JrCDr+RLQUzVY4/0FDEz///+fgNcARrGfcsBg\n",
       "E0AThmhku0B0YQbNF+gAmDeJBesXYBVmSSDaBEiccykhkgkEyBBtgjr+cpIwwFlO8hAbEBWE6guC\n",
       "YBd2YQDe6nFJjXTFcgAAAABJRU5ErkJggg==\n",
       "\" style=\"display:inline;vertical-align:middle;\" /></a></span>"
      ],
      "text/plain": [
       "|- (2^{t - n} - 1) >= 2"
      ]
     },
     "metadata": {},
     "output_type": "display_data"
    },
    {
     "data": {
      "text/html": [
       "<span style=\"font-size:20px;\"> <a class=\"ProveItLink\" href=\"../../axioms.ipynb#_t_in_natural_pos\" style=\"text-decoration: none\">&nbsp;&#x22A2;&nbsp;&nbsp;</a><a class=\"ProveItLink\" href=\"../../../__pv_it/axioms/43c5ca85739dab0e5d869af8d9f6b96cb94286c70/expr.ipynb\"><img src=\"data:image/png;base64,iVBORw0KGgoAAAANSUhEUgAAADwAAAATBAMAAAA+KHOiAAAAMFBMVEX///8QEBCYmJjMzMwyMjKI\n",
       "iIhERERUVFS6urp2dnZmZmaqqqrc3NwiIiLu7u4AAAAqt126AAAAAXRSTlMAQObYZgAAAAlwSFlz\n",
       "AAAOxAAADsQBlSsOGwAAAOZJREFUKM9jYMANFjDgBQmkS/PdT/Nj4JSXwKWbbUM7A8N7uG6+O6jS\n",
       "7Hc4FRgYGbjS0sTSkhgYuP+hSW9j8GHghevmugARDrt71wEsfSjgCJI07wSwbEscTPeBYtYJcOn2\n",
       "/PQAIMXjBzf8ABtDBkL3frAgywGENPOCt2/hobYEIo1w2gEGbe5EOPcmmDS8CwQJUGn2B4XwUPoB\n",
       "pp4h6+YreAvjcX9geAByP7I0gykbjMflwG0ApFgD4IEK5LKawRUXPAXT3jABlg1w94I8nKQApp9n\n",
       "PADTzP5iQPIJRkx15kICFQUAALDXOQj7yj+HAAAAAElFTkSuQmCC\n",
       "\" style=\"display:inline;vertical-align:middle;\" /></a></span>"
      ],
      "text/plain": [
       "|- t in NaturalPos"
      ]
     },
     "metadata": {},
     "output_type": "display_data"
    },
    {
     "data": {
      "text/html": [
       "<span style=\"font-size:20px;\"> <a class=\"ProveItLink\" href=\"../../axioms.ipynb#_n_less_eq_t\" style=\"text-decoration: none\">&nbsp;&#x22A2;&nbsp;&nbsp;</a><a class=\"ProveItLink\" href=\"../../../__pv_it/axioms/63769816028ec6d64131a886e2edcae96a2e7aa40/expr.ipynb\"><img src=\"data:image/png;base64,iVBORw0KGgoAAAANSUhEUgAAAC8AAAAQBAMAAAB0JTvnAAAAMFBMVEX///9mZmYQEBCYmJgyMjKq\n",
       "qqrMzMwiIiJERER2dnbc3Nzu7u5UVFSIiIi6uroAAAA6K1lcAAAAAXRSTlMAQObYZgAAAAlwSFlz\n",
       "AAAOxAAADsQBlSsOGwAAAKtJREFUGNNjYEAFIQtAJHcVmjCDuTSYYv2NJn59NoRmLEAR5p5+Acpi\n",
       "n8DAwHdn19xeiLi4AVT8TX/PBQZOjrMM+0E2ch8JgOuNB+J37A0M6xNAPCQJESDesP8BQ/wGEI8L\n",
       "bhRDJVTbETTLuf+BTWBg+MyN6lzWDwxAMzSB3uFE9SCjA2sCA9c3Bl4HM0SQgNzBc2Av0B8FDNyH\n",
       "A1ADgKvZgIESwF0OBglQLgAL/SwtBXQzHAAAAABJRU5ErkJggg==\n",
       "\" style=\"display:inline;vertical-align:middle;\" /></a></span>"
      ],
      "text/plain": [
       "|- n <= t"
      ]
     },
     "metadata": {},
     "output_type": "display_data"
    },
    {
     "data": {
      "text/html": [
       "<span style=\"font-size:20px;\"> <a class=\"ProveItLink\" href=\"../../axioms.ipynb#_n_ge_two\" style=\"text-decoration: none\">&nbsp;&#x22A2;&nbsp;&nbsp;</a><a class=\"ProveItLink\" href=\"../../../__pv_it/axioms/44249447384a00e3c2eddd544381c73d683c1cbb0/expr.ipynb\"><img src=\"data:image/png;base64,iVBORw0KGgoAAAANSUhEUgAAADMAAAARBAMAAACC64kkAAAAMFBMVEX///9mZmYQEBCYmJgyMjKq\n",
       "qqrMzMwiIiJERER2dnbc3Nzu7u5UVFSIiIi6uroAAAA6K1lcAAAAAXRSTlMAQObYZgAAAAlwSFlz\n",
       "AAAOxAAADsQBlSsOGwAAAMJJREFUGNNjYMAGuAQ9EpD5WwzgzBUMnP+QpbinX4AxTzEwKKGac302\n",
       "lKG/geH8AlQ5c6jccQaG8wkMfHd2ze2Fy4VIwVj1DAycHGcZ9iM0PzkNodn+MjC8Y29gWI9w6ZNu\n",
       "CM1+gIFhw/4HDPEb4AaegjIkQEQ8A8MRuDOkoQzmAyASKP6ZG83xDJEMXED7NRlYf3OieZltAgPv\n",
       "Bgaubwy8DmZoAbVcUFCcgYGvgIH7cABa8Nb///+FgWKwvRwEyuB8AIEjNG+fGjGHAAAAAElFTkSu\n",
       "QmCC\n",
       "\" style=\"display:inline;vertical-align:middle;\" /></a></span>"
      ],
      "text/plain": [
       "|- n >= 2"
      ]
     },
     "metadata": {},
     "output_type": "display_data"
    },
    {
     "data": {
      "text/html": [
       "<span style=\"font-size:20px;\"> <a class=\"ProveItLink\" href=\"../../axioms.ipynb#_n_in_natural_pos\" style=\"text-decoration: none\">&nbsp;&#x22A2;&nbsp;&nbsp;</a><a class=\"ProveItLink\" href=\"../../../__pv_it/axioms/c56e8d491dac79118ccc66af825783557ca23e9b0/expr.ipynb\"><img src=\"data:image/png;base64,iVBORw0KGgoAAAANSUhEUgAAAEEAAAATBAMAAAA9n32KAAAAMFBMVEX///9mZmYQEBCYmJgyMjKq\n",
       "qqrMzMwiIiJERER2dnbc3Nzu7u5UVFSIiIi6uroAAAA6K1lcAAAAAXRSTlMAQObYZgAAAAlwSFlz\n",
       "AAAOxAAADsQBlSsOGwAAAPlJREFUKM9jYMAHGBkIAQ6yVWz/0bKBYdKnB3jMaOU7wMD9AZ8txxdM\n",
       "ZmBQYJDoaOroMMCq4mgDywKGAmxm3CgvdwDRp2y5HLCqeHIbyjjFk3AToYLvzq65vWBxLm+Y0lMM\n",
       "DRwP4Co4Oc4y7F8AYrEsQKhI5K4ugIXpO/YGhvUJYBUMCBXMAREKMN6G/Q8Y4jeAWEnlQNAAUcFw\n",
       "mgeugiGegeEImLEDyQyGPdwFcC5Q+jM3iMGOrILtQgOcq8nA+psTxOC9ABNqA+JrcBVc3xh4HczA\n",
       "TFeYGIjB6ADj8RUwcB8OADP39IFdzJDyCaif2wFbfLxsL8cUBwB3/0NP0Yie0QAAAABJRU5ErkJg\n",
       "gg==\n",
       "\" style=\"display:inline;vertical-align:middle;\" /></a></span>"
      ],
      "text/plain": [
       "|- n in NaturalPos"
      ]
     },
     "metadata": {},
     "output_type": "display_data"
    }
   ],
   "source": [
    "from proveit.physics.quantum.QPE import (\n",
    "    _e_value_ge_two, _t_in_natural_pos, _n_less_eq_t, _n_ge_two, _n_in_natural_pos)\n",
    "display(_e_value_ge_two)\n",
    "display(_t_in_natural_pos)\n",
    "display(_n_less_eq_t)\n",
    "display(_n_ge_two)\n",
    "display(_n_in_natural_pos)"
   ]
  },
  {
   "cell_type": "code",
   "execution_count": 11,
   "metadata": {},
   "outputs": [
    {
     "data": {
      "text/html": [
       "<strong id=\"_success_def_inst\">_success_def_inst:</strong> <span style=\"font-size:20px;\"> <a class=\"ProveItLink\" href=\"../../../__pv_it/_proof__success_prob_guarantee/91f2df12f9d4c58fbffc680e03e216838cdfce460/proof.ipynb\" style=\"text-decoration: none\">&nbsp;&#x22A2;&nbsp;&nbsp;</a><a class=\"ProveItLink\" href=\"../../../__pv_it/_proof__success_prob_guarantee/c6d5398bf82b1680fc1cf5885e415b6a0928f3680/expr.ipynb\"><img src=\"data:image/png;base64,iVBORw0KGgoAAAANSUhEUgAAAvsAAAEsCAMAAABqjIx2AAAAh1BMVEX///++vr5tbW1eXl6wsLAm\n",
       "JiY2NjYZGRmOjo4/Pz8rKysuLi4nJycbGxuDg4MoKCgkJCSysrKhoaGurq56enofHx8dHR1RUVGf\n",
       "n5+Tk5POzs6/v79aWlrf39+YmJjc3NyqqqoQEBDu7u5mZmYyMjJUVFRERES6urp2dnbMzMwiIiKI\n",
       "iIgAAADex6OAAAAAAXRSTlMAQObYZgAAAAlwSFlzAAAOxAAADsQBlSsOGwAAGQFJREFUeNrt3em2\n",
       "o7qZBmB6XiudPuckqTN0J5FAQrPu//qa0YANGIPAgF79KO/a5QIhHsSnAZEk90rGV0kkSEgTydZG\n",
       "bndcxmtSJNX7FRXFwQohpCSj/0XlmQaIiFIJhIg72qdjv6zuAzTLx/8T7Ed4AURinzYxEPHjyHPY\n",
       "h/2b2zfewj5SlPaVz2EfKUr72qdly9alOi++xbhzvGoU55wUP6YAAfs3tc9cVnX0ZDylniTGlt+U\n",
       "rrRf/ZhziID9+9m3WmvXVOy2CPpZ8aHr75tCvagjIvWuvDT5ICt0+loymrPBL/jEz3Np66Wa0kV5\n",
       "HU0O9i9jX/aje1F/sb4Uyq6fpsb3bwCYrP4sLqOZBgLTWohSNhkBwkjT4tDD0Tc58fNoNnK56HuT\n",
       "5mVVROUYyGxex4+uOQAO+5e0X523tKnly39q7Y9qMk5IWX03rU976UTJ2eqYF7cWZ19bEMa5pqcp\n",
       "zVfbT4TeYD+VNXMm5vJKuCKpHiuM5gCUhv0r2teDep/P1/ucmweb2mtW/mJsN3UqrylaRlKj/alp\n",
       "APuZWW2fPMa2q1b+ZF5TJ98cQM5g/6r2iybvI8hvoyBTVnikqNtE4oishLlehF97pb4869lkrxBh\n",
       "tSeWb7D/nI3hIRb/wtbYd7LLtX3NK+V1Kq8KYRI6ewA6hf0r2DeDfn3Lm+jdtBdCXlViZSjBiCo7\n",
       "g7LiYnBV31AfWB3qmsq+nW316gJIyhMyTUfZOfvP2RgKtixx/HP7pn+9drDH81oGQkSxmYuXw/75\n",
       "7VORey/a+FQJn4m0ruaKll4VyEuWKuXKHylzJYryDsDL/6FIv41pOvvZXOPQ2LI+5YRO00lyx6bt\n",
       "P2djeJ2Q+jJcbL/txEmlfuzz0WAZz2vZGkhHe7UeF6+E/SvU+58k4ZoOHZtWVb2sUvGzqXtEmpjH\n",
       "z9zyqeyxNrJNdGA/zd1cvD/MxmAj5f2Kiw/sd5046qE/FSN5HS/R8QMwsH87+6WssqFHfWLKjvh+\n",
       "sCGWtHWrapZO/XNLh2bzbd1hNoaN6aa5MY0vzdggRup14hjBaY/ubF5nDwAxz+3sU99UukRWPYD9\n",
       "arFpn7qyj/MRhTPd/vGo9Y0xnL2jM9/Wfc7GIBRn5W9n6/26E0al9ZwN+xQCVvcv+z6vswfgHOzf\n",
       "zH6FupztQ0UVkNNeP0vrVWvXeTEZbf5obxwzDwVRnXvtFth/zsbgEHnt7q394tbCioy8dDhVea0i\n",
       "mOzTB5i6A5AU9u8W8zwnpstQV4143ZS29O/3+oMkJ0SoqlVqXOrK69TolNQxD62bDOMdThsHp9jF\n",
       "w33Y//CeYM9mP1Flf09a9lhWtXtZ39s6LGq+o6Y6nBK+qaA4hf2Y7Cd5sBjX5GkY+2V/TzU2VfU5\n",
       "FtRNnnSDrtxMd9gkesPILFEJ7EdlPzFpmO1QMxaCj/w8u5HSPm/ts7a+79X7he65q3WDfZbAfmT2\n",
       "z5aYsEZZnugsTZQj1fBcGe/XQ9d50Y61CRLsIyHBPtKG5Jcl2D+l/VxB8Ab7Ab+1Y6KWwf5L4liv\n",
       "MAL7zw/GwX7yPNcF6a72k4zA/jCxjKzc8uh2DewPSpcGsc/SABlV8xIitC9Wz0vQY80EGQK//0La\n",
       "x/6jODbBIj7IhAkhYX/4zyqo/SAzeb9wFvax381u3XJIPNAK8nTuGYsI7efrp6ON2k8s7PdKlwY4\n",
       "JOdDTZOTFvZ71fT6ar9vv/ckY4hHtu9in+gA21fes2AWHOx3FdOGarpnP+3KlErYb1uov7EA27c+\n",
       "3Mo/MoP9RRXBOvu9+3zs9n/9EWD7Aav98jafwn7b8t9SrhP2Uw37VfpbFmL7wuchDzOPyf4///HP\n",
       "6ZvyplbUhP0Ard172M/+GmL71od8Bl74yT7of/lHVPU+8ekO9rmC/SL9+DXI9r0P+Qy8mm48RBbz\n",
       "yE2hZGWf2zJlWfXRvMhIwH6RfvvLCe0nPoP9OuTZFJ5M1ftdwH/8IOt6E2GGhCePYsPmScjjlJNB\n",
       "T1z2ybbesyn72zt6rlrv97yzX0T/r1vq/aD23eQ5j8u+8GoH+wE6+K9pf1DRi1/o4GI4i30z2dMT\n",
       "l/1s29FO2A8wsHtF+8MQx/ysh7eCs9hPJocLorK/Mdyfsm+TCO0/N1F6Q7r1P22w/yPogeZTN/uo\n",
       "7Kcb50iN2w8xkfNy9l9a54PVyv02+2H73flUv1FU9vnGiSLjc9lCLEt5Nfsv9Icrfpb/fBr7k88C\n",
       "RGU/3zSyNTGHmeVJfPZfexFUsO2Htm+mevijsp95E96+I7A/9hqK08T7bGr05Ib2/+7/79MW/8Lk\n",
       "xi4dkcB+95RuEPsk8JFOVHk/RVTv0/Oul3Sb57bOaN9OhLoxxTzpeZemhP0u/f574KUv8omOnpjs\n",
       "u6ATw2H/KvW+mOjei8m+9hL2I7Q/tepDTPaFF7Afwv6+U1OD29cT9/uY7EvPYf+bu/yafRu9/Rz2\n",
       "o7TvJga3YrIfcu0L2N/RftixrcK4j95+BvtR1vuwX9p3sB+h/RT2C/sE9mH/zvYn5/N42I/Svpqw\n",
       "H9N8Hu//F/YjtP/3iTmMJCr7f8D+Fez/gP3w9lPYj7DeN7AP+7AP+7AP+7AP+7AP+7AP+7AP+9+2\n",
       "/wP2YR/1PuzDPuzDPux/f5dXe2YR9mE/mP2LPbMYkX1G2FShYj5PjPX+1JwGSm5nH/U+7CPmgf0r\n",
       "2g++NhXsB7A/ul0D+4OIk6Lev6P90XWYpYH9seKA/fvbD/HalfvYVwLxfjz2Q7xu6z72u9etwv5d\n",
       "7ffeORTgNYt3sc9+0gns391+711zAV6vexf78n9YCPuYy3YV+wFeq34T++rPJAlhH/X+ZeynGvar\n",
       "9N9/SmA/LvsBWru3sE/+rGD/u2lmbaqd7HMF+0X6r/9MLmU/prWp+O80gH1uy5Rl1Ufdm226Tu21\n",
       "6Qv2N6SxTSX6P/490PYD22e//54g5tmp3t8e8F+23u8uheeLAv08Udjf3tFzUft97eIXOvgF4v0Y\n",
       "7Afo4L+k/UE1b37Ww1/Cfgz2AwzsXtD+U9jPfmPDSwL2Y7BvkwjtPzd4dX9Yy8N+HPZDTOS8nP3n\n",
       "/83yd9+A/bvY781lkzQ++y//Wai3X1luH/08p7Y/VePF1Nbtl7kMt33U+5ex7wjsd08qwv5N7bux\n",
       "xxNFAvtBtw/7Z7R/RoiwD/u9+y/WpoL9fsLaVKj3L2Mf/Tywj3of9mH/XLvEWrSwH6v9nTMG+7AP\n",
       "+7AP+7AP+7AP+7AP+7e1jzXIYR/1PuzDPuzDPuzDPuzPpf3WpoL9W9nH2lSwf3f7WJsK9f5l7GMu\n",
       "G+yj3od92Id92Id92Id92Id92If9HXfpwybYh/0L2GdE5DYPu09qrXz7og7088D+V3eZ5rkzbIfd\n",
       "MqWtoKj3Yf+k9k3O2Z5nKBcM9mH/jPad3HsAXFkF+7B/PvuC7793lhPY36FYsTbVpl3+/Mch+/83\n",
       "eZR9rE2Fen/ZLsVRhaT11GlCPw/sf2OXTh+WA5ki5oH989hn9rgcTOwL9mH/K7vkRxbR+KsLhvYn\n",
       "zqWBfdgPu0uWH5oH+96+Hu8MlQb2YT/oLsmxXR+j8xsW2f/kBX+wD/sLdinZoXlQfK39T17sCvuw\n",
       "v2CX+cGZGBM8XJtqyv4HL/SGfdh/v0sqDs5EvrrepxL2v2Xf8hvaV/rg0hiLsZbZT3IK+9+xz3x+\n",
       "Q/upP7g0uF9kXznBqHbSJUZrWV8Nqb6M/fywtXGOWZuKJTe0z/zBpUGX2deJFK7MHin+lmYftnYP\n",
       "X5uKqDCl+qghttf7WJvq7S79CXLxal+pxMrqSnG96rrpIH1fqR69NtVz/2u6NURY3rZBW/fq9n88\n",
       "2WdF1amqkKysv3lDyYiFlepczOOs3b7i+XAjT+ODVNtcP+2DcGKcW16dEwf7kdb7bUOkVp81gX4d\n",
       "8C+oVOfsaxXkMPqbkc/jg/kzO0ZUVnwpWx6GWAb7sdoXlXBbalfF6WVtsDNWqa6x76T3Ugi59lnN\n",
       "nn3aNEco53k98+Jl75S5fOz3rzlvzTtxIvv37OdJju7nWWq/quvrwKe4DKqHTpogOE8XgFhQ7zdH\n",
       "IDO20T7XXYyuyxyr6mIwsk2lzrLlrrI3hSp43maceXYe+/fs31+dj9Wlscw+9ebRNpU6qXQ1A7sL\n",
       "UCyxb3wdUqfebbTv6x/rtSiyrKqz2fOtKSt+wfnb2ajukfGcnMg+Yp4DYx5V9WfWjUPFXXV+6y7O\n",
       "d5XnUvvOm+ZTb7Nvmn1l1acoLHKX6Kf9V1271qTL7XMJ+1H284ylpiNxrFJdY1/69tNss++aYQdR\n",
       "fYpic4aT522qMnx3+m1d3tl3GexH2tZ9Tc0yKiOV6ir7Xg5Cn/X2xaDlY7cVaGdfLQv4YT8C+20n\n",
       "+kilusZ+bZ5qu1JIl0spB3t2geyb/v2I214SsB+ZfffBQzZL+ji90FqT1Z39XS7zvkW7cV5sZ596\n",
       "texQYf8+9t14tf4JqgX25cYD7+z3e7z40rkILO9V5GbMPltmH2tT3cl+gDS3NlWDdutozWi9TzY/\n",
       "DdGv982yyxz1/n36eQKk9/W+6Xo2XUo0SVh5I3CZq7pjXNlX33xo4tzjW+3HuP1qzgWlYewPUCPe\n",
       "R70fzL57RBTl0zvUNT3wsvhB82qotvkoR5E5ab/VfnnQz9PGOaa6nBwLY//Qfp7Prlf6Zfv08298\n",
       "Yn+/wjiH/dx33+UpSxr7whVxdjlriDUfpvytku232i8P+vfb6TyWl2nbUl/6QZkc2L/vPrtFKPdV\n",
       "+wty+5LDD+zvWBhnsM/LiWxtnlXxF9XZV76pdhuBpEjq8a3mo2+/raBt/ZKlLe0IITKfi7owuDjM\n",
       "/sIH4qjWvH6EzpGg9p3gXNSng4qiGIUQspoba4TNsuJvIs8yMowsi+/ZaiHZsshe+T3ncLn9PQvj\n",
       "HPV+77vFN0nexTy0/q/Nh/GDb7VfHmwmU8kO6bj5PO3ICbOz929W9mel9VZzFs6+sXWs2HR3GV9d\n",
       "9DTL64qlrgKY1E+51W3U+rSebHMUTzlcbH/Xwjib/WqqRBmyF/+FlbNHy1Jm7vFBqo/mW48vj8zj\n",
       "DJsOnMfJm9JP53fpyg0283cJD2aftqOBzQQr2mgnVW9E+7eEiafcPqLWp0nozVE85XCx/V0L4xz9\n",
       "PH37jujSD9GEiHKYV+uqZ2fw0Xzr8eX+Zky2g31y3Pz97NGZNB/YVve3JqbLWCj7+aP0rO3bN972\n",
       "7T8eYW6/7tsuhqeCao9imMPF9nctjLPV+2sbpb3N7PECA0uPsv94Ds4uuH+lzanqRWTtewSXP2Ps\n",
       "BxvsOpvraSaNdlXBqv+mygULhrlV7e2CPeW6PYphzLjU/r6F8XX7YZ7X7Qf5O6zne+DzunXIpoT0\n",
       "Urzbq7LNmdJdbUvr8qTLi7VPQHTZND3tZTyfPv7mXgNM3Q79Daal9I5CizX29y2Mb9vfI6WhI/4j\n",
       "12nIHxHu2305IVpxvcu9OtEf0B8QyLupG9RnD+3M1R07xe+E6H3nkVubPcVCydNRkHyN/X0L4472\n",
       "ExK4q2f5Q8Tb16ZqZ7LyJXevpmvjsWRSe74/oT9tv47wrS7aWGn7O1HWBOo5t+zRDngO99ujGORw\n",
       "sf19C+Ob9n+KaE3CxWtTtdFbL8KdmmmXtE+nPfp+2/M9ebZH03jMo3y9JJMc9AK18X4zgNrktg21\n",
       "m1H213D/KYdv83FEYYznIrD9o9emOqP9xfV+c7rfzhs11RmV9WaHT47Sz9pQw7Yu79q6ZMI+Y493\n",
       "ZDa5fYT7enj43VGoVfX+voUxssPhGuRXjHmubL+5zVcR7lyoVZdpc7pTGyjmSWQJR6WPEH7MfnXu\n",
       "TD+32o+HPN1RDHL4acyzU2HcMt6/sv1mckcZ4c4+Sp+J3m2eyEBt3UK3TlLFXDe2NW4/H+S2HXpq\n",
       "+xRZL9yvj4LINfb3LQzYP5n9podOiHL8eq49T3pxdm8se1sfZ/Ef83rwMGsfJs0Hh9fY19kgt0le\n",
       "hkq07Wl5LBfVHcVwtH2p/X0LA/ZPZt/Ud2wq3716TXHO2x4X28XDrT+ar7NfrpEnXDWOagrNuffi\n",
       "0V5tZrYJmbV3A9PGF1oK3vG0zXp23VFYtcb+voUB+yezn6wY66ObZmqPnoVyIFuuz23KZnO4eE7D\n",
       "roUB+2ezv2JiGifB7YvcELs+t3o+h4vt71oY357LBvuvDbxPH8T64NVni+2n3i9b32U0t8/R+XMO\n",
       "l8/f37MwUO+fzj77lLKk4e0nPBPrc+ve5HC5/T0LA/ZPZ/9lcPRNchsf2N14Fhbk9iWHHzyzuGNh\n",
       "wP757B+csE4D7IdIWJsK9gdpbm0q1Puwfyr76OeBfdT7sA/7sA/7sA/7sA/7sA/7sA/7sA/797CP\n",
       "fh7YR70P+7AP+7B/Hvt4r3qQ0oD969lnPof9AKUB+0HT9rWpFp1uxDwhSgNrUx1T7y9emwrx/q3i\n",
       "faxNhbbuRexjbSrY/8Iu2dH5oIj3Yf8cu0zdwZngBvYvZ/+e/TxKH1waksH+9er9W/bvU3FwaeQJ\n",
       "7CPmOccu84MzYWEf9k+yS8kOzYPio6cJc9lg//hdumMf3+YK9T7sn2SX7NigxyawD/tn2SU/sojG\n",
       "7zKwvz4dM5/npvaPrPiZTb5q/6eo6n2sTfV2l04flgOZHmP/74h5UO8v2qU8qpC0njpN6OeB/e/s\n",
       "8k9/HLL/f51a3RnxPux/bZfigLCHycmpQ7AP+9/bpZZ7P+ig7PTbemEf9r+4S5XzPQd4jRQzFxfs\n",
       "w/5Xd5nmudul8mdG52J2y7AP+1/eJSMit7kPm6zN346eoZ8H9u+3y4UZQ70P+7AP+7AP+7AP+7AP\n",
       "+7ONNLxrDvZ7Ce+aQ72Peh8xD+yf2j7WpoJ91PuwD/uwD/uwD/uwD/uwD/uwD/uwD/t3sY+5bLCP\n",
       "eh/2YR/2YR/2T7DLhXP1Yf/4hLWp9ra/7/axNtUO9T7eNRenfbxrDvX+Zeyjnwf2r2if0cvEPLD/\n",
       "QRrdroH9fpIG9u9oX6u5kw37RVICMU889lMO+13KaQD7/4D9a9gff3lIpPaJTmD/7vZVF5PqFPbb\n",
       "hu5vDPZvb7/3BnIqYb9Jv/5IQthHW/cq9nsxbuT2/5YlsB+X/VTDfpWyv8J+ZPYDtHZvYf/Hrwns\n",
       "fzfttzbVlH2uYL9Iv/3lnPaxNlWoep/bMmVZ9VGP5JhuQGdt+oL9DWlqO4G2j3r/OjHP9oD/qvV+\n",
       "zzv7RQz4b6j3Hexfxv72jp5r2h9U9OIXOrgYVm/feg77V7EfoIP/ivaHIY75WQ9/vXr7wuewfxX7\n",
       "AQZ2L2j/qY3SG9Kt/2X19tUEVdg/oX2bxGf/pXWuSb+gN23fBg74YX83+yEmcl7N/gt9lg9Lesv2\n",
       "lc8Y7J/Xfm8uW4gXMV++f1+ogIekvYD989qfqvEitW9k0EMSQbt6YH8v+47AfveUbqBDciFrftgP\n",
       "YN+NPZ4oEtgPf0g0hf0VCWtT3cD+EfE+1qaC/bvbx9pUqPdR78M+7G+0f9apqbAP+xerl2Ef9mEf\n",
       "9mEf9mEf9mEf9mEf9mEf9mEf9mEf9mEf9mEf9mEf9iO2P322YR/2736ok/W+gn3YR8wD+7AP+7B/\n",
       "f/tJ7PYzT2A/QvsK9mEf9qO1b2Ef9iO1n4de4Bf2L5FSn0VvX3oN+xHaJ95Gb1+EXtwa9i+R3MTC\n",
       "zjHZ52GXuoP9iyTtZfT2p8oA9u+d+MT9Pib7JPRLDWD/EklO9HHEZF9NtPc/SC9bNrA/VizB05aC\n",
       "zyfG82OyT7evGfOyGq00sF/o2n2e5JaCz7yJ3n7iPQ19ClIO+807VjUh6XH2Pyj4qSnMUdm3mycx\n",
       "v65CbmG/frc2N733DO9vf3nB06lQNyr7YvOkhtdTEOBFc5e3XzGUOdkx8tlQ8GqqiyMq+27z4Nbr\n",
       "KaAyevt1+GEyn9ED7S8ueDc1nB+VfbW5k3PkzSs5jd2+KJuSlCXUugPtLy54MfXYRlT22eaOnuoU\n",
       "MMer2ElU9/hUR26/fuGYLUpGm33tryt4O/W0blT2i2KgAU6BTtKsV3Q2cvukqu1Jumc3z4aCZ5Oj\n",
       "OnHZ11sbu+UpMGnCy2IXea+XI2L7+RGLIKwv+HRyFldc9tXW2WzlKShOdVZWdVkT3Ybo2buwfXrI\n",
       "JKn1BT8Z7kdmP8n89lNQXkKs7DZuotsu7vTr0xfsXyItK/i5NH3KI7PPvQlgv7rzOh+wo+fC9b49\n",
       "JLerC95M3+ojs682PrpVnwJZFqeUSTWYE+Sef137ih9of0XBu+mFaSKzn2RZgFPARTmUo5PqOgoy\n",
       "sHtd+8IcaH9FwefTJzw2+27blJ76FDChXUpF/Zp1m0Rt/5iQZ3XBm5kbfWz2k209Pa/Di2Emcl7W\n",
       "PnFH2v+84MXMMrTR2deb1uR9PQWSRm0/Z9+yv6jg2VxVF519tqm1+3IKWJ7EbJ8e9QT0yoJ3cxai\n",
       "s18UBwt4ChyJ2n6YGdz7FXw2FxjFZz+xGyp+99yrEehpjW8OG21Jhy36sq7g5+u5CO2nniZIMSQ2\n",
       "P30rQvsJl2ARRRLzJzpG+4klcBFBUhmLz36VZgJCkzHIuH+y08OY9lszCPeO8kiV5sZvFSL+CKL9\n",
       "GQE1EZL8PwzgMpHElkWxAAAAAElFTkSuQmCC\n",
       "\" style=\"display:inline;vertical-align:middle;\" /></a></span><br>"
      ],
      "text/plain": [
       "_success_def_inst: |- [Psuccess](2^{t - n} - 1) = [Prob_{m in {0 .. 2^{t} - 1} | |m - b|_{mod 2^{t}} <= (2^{t - n} - 1)} QCIRCUIT(VertExprArray(([INPUT]{state:|+〉}, [INPUT]{state:|+〉}, ..(t - 3) ×.., [INPUT]{state:|+〉},[MULTI_QUBIT_ELEM]{element:[INPUT]{state:|u>, part:1}, targets:{t + 1 .. t + s}}, [MULTI_QUBIT_ELEM]{element:[INPUT]{state:|u>, part:2}, targets:{t + 1 .. t + s}}, ..., [MULTI_QUBIT_ELEM]{element:[INPUT]{state:|u>, part:s}, targets:{t + 1 .. t + s}}), ([MULTI_QUBIT_ELEM]{element:[GATE]{operation:QPE(U, t), part:1}, targets:{1 .. t + s}}, [MULTI_QUBIT_ELEM]{element:[GATE]{operation:QPE(U, t), part:2}, targets:{1 .. t + s}}, ..., [MULTI_QUBIT_ELEM]{element:[GATE]{operation:QPE(U, t), part:t}, targets:{1 .. t + s}},[MULTI_QUBIT_ELEM]{element:[GATE]{operation:QPE(U, t), part:(t + 1)}, targets:{1 .. t + s}}, [MULTI_QUBIT_ELEM]{element:[GATE]{operation:QPE(U, t), part:(t + 2)}, targets:{1 .. t + s}}, ..., [MULTI_QUBIT_ELEM]{element:[GATE]{operation:QPE(U, t), part:(t + s)}, targets:{1 .. t + s}}), ([MEASURE]{basis:Z}, [MEASURE]{basis:Z}, ..(t - 3) ×.., [MEASURE]{basis:Z},[GATE]{operation:I}, [GATE]{operation:I}, ..(s - 3) ×.., [GATE]{operation:I}), ([MULTI_QUBIT_ELEM]{element:[OUTPUT]{state:|m〉_{t}, part:1}, targets:{1 .. t}}, [MULTI_QUBIT_ELEM]{element:[OUTPUT]{state:|m〉_{t}, part:2}, targets:{1 .. t}}, ..., [MULTI_QUBIT_ELEM]{element:[OUTPUT]{state:|m〉_{t}, part:t}, targets:{1 .. t}},[MULTI_QUBIT_ELEM]{element:[OUTPUT]{state:|u>, part:1}, targets:{t + 1 .. t + s}}, [MULTI_QUBIT_ELEM]{element:[OUTPUT]{state:|u>, part:2}, targets:{t + 1 .. t + s}}, ..., [MULTI_QUBIT_ELEM]{element:[OUTPUT]{state:|u>, part:s}, targets:{t + 1 .. t + s}})))]"
      ]
     },
     "execution_count": 11,
     "metadata": {},
     "output_type": "execute_result"
    }
   ],
   "source": [
    "_success_def_inst = _success_def.instantiate({e: _e_value})"
   ]
  },
  {
   "cell_type": "code",
   "execution_count": 12,
   "metadata": {},
   "outputs": [
    {
     "data": {
      "text/html": [
       "<span style=\"font-size:20px;\"> <a class=\"ProveItLink\" href=\"../_success_complements_failure/thm_proof.ipynb\" style=\"text-decoration: none\">&nbsp;&#x22A2;&nbsp;&nbsp;</a><a class=\"ProveItLink\" href=\"../../../__pv_it/theorems/2cea04ff52443f11e029580e56ca10206f7c36d30/expr.ipynb\"><img src=\"data:image/png;base64,iVBORw0KGgoAAAANSUhEUgAAAacAAAAYBAMAAACsKi+/AAAAMFBMVEX///+IiIgiIiIQEBB2dnbu\n",
       "7u5ERETMzMzc3NwyMjK6urpmZmaYmJiqqqpUVFQAAAB6qHgnAAAAAXRSTlMAQObYZgAAAAlwSFlz\n",
       "AAAOxAAADsQBlSsOGwAABPVJREFUWMPVmG1oW1UYx/9Jc3Nv3prbvYCwuXYVKYiFIgqjX5aWIhK7\n",
       "esVaGAPXotY6lGabMmS4Rjc3oWDrB18+TBvr8KupTAd2g1vdRFmRMLcPYwPzwYkg1A7slFWM5+2+\n",
       "nySt5sM88CQ5T879n/PLec55zgnQwJLHho56bULtOdGWFk0uU/UpT7E6c6Ty8qf/SwmVkK3fKlIQ\n",
       "bWmJ61KZKg/5SxY+qY/ArUwd1xsCdZl1Exq/tfT85/WgLovaVqkMDhjBh4LCWfikQia3L2n9/UYw\n",
       "KdO8mzR5f9qoDUXbshIzJDLKrzMSqKBwFn6pd8DsCA3H4UZAJUzezQSJgx/12lC0LSvJokwGrTKo\n",
       "gHAWfqmLYEb5IqVGQDWJblrJmm7N1IZqsqsPyWTkUAHhLPxSTQazJAGNNWRJXRXdjFPL1Ya6aldP\n",
       "ymTkUAHhLPxSMZPbA+3tDzYE6rTo5hag3qyzUdC2Ss8WMvQBmYwcKiCchV8qUuZ2Bnh2DUPWrOA/\n",
       "Xm0POMm7If1qvaU6ULTtbE4lsfQdWxftrJTtqZNBBYWz8Eslp7m9Ba3sbpnsl44lKVaoesnT30vO\n",
       "HtvJuwn93ddfqJenSFvtL4TIxx/833dWg+LCp+Zo/SsMLQsoj1Sqi1vU8Ga2g2Q2+5Y8ooMDN7Dh\n",
       "nKiEDbfbFT7dHCq6vIbkS9pGb7awvdL/fbcDtZvNX4d4iAuvnKCv+6FZUB4pdZlbSrf3if0/72ML\n",
       "L4FEm7ufIj5DGAEo6natUwGVnl4bVJrHx8c1oLwPMWGly0pnLihHKt7FDdMLVoY4I3aTdEH7wy15\n",
       "G1O53cDk/Px8wQVF3S4oEX4TdNMNXe9XxrFRx6Zt+VDPL+hvoS7cfd60wy/N4/mSf01VDT8mfPh3\n",
       "89jFAtFWXOHnSKXauGEXTcODC6Y4spBRJg0v1AUy+mvJwExd8EKNcKhWOuhTeA1TiOqRYiLzKE7H\n",
       "SgmTuOIZTedQpG2YjJEs+2/8MzVSDYoJE5afsINo21AeqeQwNxwlP5DSgbLCzxVsO4q0eUV7Mfmt\n",
       "2Cg27nK7MWtXBjjUDP08cc4gHTfre/Pak3/ijQnEh4lLXb0iwm+AbVJ78mIHdxe2SB/LB6FmRNS9\n",
       "iRew14HySCUy3NBM8llz+ZgZZ+cN9T0ED5TqvdLlQd2xzVbtAIP6okJ/6vj4bQb1KflIev96cbFA\n",
       "XZ9UChyKtt20SKPmPr8o/Wpp54emH4oLE5ZQz3Y3lEcqXODGzyZnryD57ujoizhygyYlX+by5SZ1\n",
       "lJQx7k69be8gOdhXj5fJhNPwmzKgrfAtjrhUg/ymDCpsHQy0Nj9UOIcaVw/Ccj9GDBeUR+p1cGMl\n",
       "TWZP5ceqbcQmyRx7Eq+Wl+Zj4j7qZLKiA3UNUaSNJzLRjKI/g8ejpqITV6qIYT4++xybMAMJsVgb\n",
       "SlnBdt0F5ZE6C26sREvIiIMFWfnac4doTlUyGOQTdeiw7BjB3M5GgTEX1NZHSBb/vhN9LYj06PSN\n",
       "uFJz5/NifGOWRlB2rBbUU6v5LYuvbP6tuGfV6s0lRa8bzpVDmVswcDwnoJoqFZro1B04yGZoZ6Ui\n",
       "W1LM7YIawtpvvkPVCYawvpuvSyqa5+a+nj08us8zyrWeza1w1NFb/z+KewqiLatJwlqT3MUi0v8o\n",
       "uuGTugvcAmX2X0PdwSWmr6e1+sH/AgqvrqfxiTuR4B+UuITxL1sv+gAAAABJRU5ErkJggg==\n",
       "\" style=\"display:inline;vertical-align:middle;\" /></a></span>"
      ],
      "text/plain": [
       "|- forall_{e in {2 .. 2^{t - 1} - 2}} ([Psuccess](e) = (1 - [Pfail](e)))"
      ]
     },
     "execution_count": 12,
     "metadata": {},
     "output_type": "execute_result"
    }
   ],
   "source": [
    "_success_complements_failure"
   ]
  },
  {
   "cell_type": "code",
   "execution_count": 13,
   "metadata": {},
   "outputs": [
    {
     "data": {
      "text/html": [
       "<strong id=\"_success_complements_failure_inst\">_success_complements_failure_inst:</strong> <span style=\"font-size:20px;\"> <a class=\"ProveItLink\" href=\"../../../__pv_it/_proof__success_prob_guarantee/d3e0c34d170983d74017754c0b603f83127567450/proof.ipynb\" style=\"text-decoration: none\">&nbsp;&#x22A2;&nbsp;&nbsp;</a><a class=\"ProveItLink\" href=\"../../../__pv_it/_proof__success_prob_guarantee/38c5e9e820179ecb1f993a1f06623e512684dc3f0/expr.ipynb\"><img src=\"data:image/png;base64,iVBORw0KGgoAAAANSUhEUgAAAZEAAAAaBAMAAACED3zLAAAAMFBMVEX///+YmJjc3NyqqqoQEBDu\n",
       "7u5mZmYyMjJUVFRERES6urp2dnbMzMwiIiKIiIgAAAAs9KwDAAAAAXRSTlMAQObYZgAAAAlwSFlz\n",
       "AAAOxAAADsQBlSsOGwAABMhJREFUWMO9mF1oHFUUgM9Odiazu7OzWwha0iCDWEGKJj5YHyq4ir6I\n",
       "0FEqVpDuRnHbWNpuFKQi2rUV2yKaKIIGi7sPfVB86KxgHxLTDvgDIrqBau1DSkeaaiUkuwTSmBi6\n",
       "nntntjvJnZ87UrywdyYnc86Z755zz713ACK3l+D/bN3azbcZq9KL2Ax5TvKU9kZ15yjkebxJ0Uxv\n",
       "tS9dpZDnhFEPYVchIkhb4X4eb7Sbmw6zqV40aSxsAmHyNdOJ0eDPf3gq3OYhezrAsqfMUdjy29fO\n",
       "P27pmy/4eiPdePjwpGhaJbJO4g444idOZuOeSZzWWdn7/oa9hW2Fl52r2PsQPOzrjXRIolaWj330\n",
       "QhjJHRiP4qsmZNrvufnPzv2N9hNK1DKbAznslF89DP/V+vj4KzrjjSjcufsEwGLbwq7SjXvWG+lI\n",
       "TDKYOB/qISR7Ae6C1AqcBPhhDJsG75H7NU18+xCaERfZeWkA7Ny96GV4CcP9KOMNFTD5z1aTOVCI\n",
       "tw9AtpI5X2+kIyR1C+BBK4RkBeAwwCNwVWwn9+NQVNY/2yADMsyYyBATqheJch1n93XGGyrIGsRz\n",
       "avlZRx43pYLp623YJmngEw0jmETB19iuw4i2P+VET2jC9AOeJEOMibruR6Ku4u8fhgQV4osgL0jW\n",
       "V468H9LfmL7ehmySCvmZwSTqFMC7ACPm932OOFmG2awnyQxjYg78SBK4PCVWGRJUkKdAXlUG2+/1\n",
       "Gag1f28zNsmyHeRAEtkuwpdC6hy1fYqZc0d9STKjdnavIzlq16UmrzfsximFMDkQQpKg610QcMd2\n",
       "nY7jvoukXaDiMV8SpNhyjp2VY3ZSWrzesCNV+O+JWjVsPemmpTVd5iHpZ6wd9CVpvDPRC8nT5JVj\n",
       "U2KlTUIV4AK3N+zG7VQNXRnTBfCcy2Q5poM/3bGdZ0jOd0jE1+njpmO4QivVk+RPxcJp7ZBQBclr\n",
       "3+PSd3nLU5JMiYOExiQWFhJnlEz+mCyRmx1tSX5NTDbye+un2VUnBVi9t4axnbFg9qqmnjkMtXm4\n",
       "vCmLUjfJNhA0nszV1s8TXxKFFGDlQE2ovQjPNNeSdBlwO6837JCkQXS/gHswtgkrVZCM07C3e0Dq\n",
       "NQSLSJ3ahZFWDFD1/1S7jvuRqCt2KGQjrgkuEqLwI8CVaLXrEC0Tz+tIIlt5TXhqATbXIXni2n1U\n",
       "6qwnuFW4u1jcFxLvs2SAehgxrfmpBZaku2mTCFoiK7pIUEE4XyxO8XrrIevJUOtTss5VVijJKbxF\n",
       "6z0bNlQ/b1WJ1LadxAG91GotBZs+tv0gLpZ7GDkZN/mtpTfXk0iVZcueHrNzlpsEFdKtVqvE621P\n",
       "Z1f/HdxKs6tfBwFfuo65pMdKROrYfoz/lMTuu+LVwF19HtLZxBU3Sbwazdtwh2QrJHCTvsNIGKL1\n",
       "CezCWF8uwCiRdvbCnM1nLxxIktfT824SyYjkrb0XpiS/fwmx2sZzMDEPqTMWXrr2b9KI1LH9Lf+B\n",
       "n63VSi6IRBx5Th3se2PnNfFAwRF6K/h6i5UjnBnlAV7baY9KfSTqmfFIJG+kmww/x/9SdZ3jORr3\n",
       "OT7ldY63vXkrBJ7j+ds2zue8v60YEK3xKnS+rUT+3hXaJP1mfu/i8ka6fwEG88C+Cx2f9wAAAABJ\n",
       "RU5ErkJggg==\n",
       "\" style=\"display:inline;vertical-align:middle;\" /></a></span><br>"
      ],
      "text/plain": [
       "_success_complements_failure_inst: |- [Psuccess](2^{t - n} - 1) = (1 - [Pfail](2^{t - n} - 1))"
      ]
     },
     "execution_count": 13,
     "metadata": {},
     "output_type": "execute_result"
    }
   ],
   "source": [
    "_success_complements_failure_inst = _success_complements_failure.instantiate({e: _e_value})"
   ]
  },
  {
   "cell_type": "code",
   "execution_count": 14,
   "metadata": {},
   "outputs": [
    {
     "data": {
      "text/html": [
       "<strong id=\"_success_def_equality\">_success_def_equality:</strong> <span style=\"font-size:20px;\"> <a class=\"ProveItLink\" href=\"../../../__pv_it/_proof__success_prob_guarantee/9beee9a16893a0c27e2be0d13c5e1d5c73d55c5e0/proof.ipynb\" style=\"text-decoration: none\">&nbsp;&#x22A2;&nbsp;&nbsp;</a><a class=\"ProveItLink\" href=\"../../../__pv_it/_proof__success_prob_guarantee/2cea831aa79671978467360fec277ec2e2b5d20a0/expr.ipynb\"><img src=\"data:image/png;base64,iVBORw0KGgoAAAANSUhEUgAAAxUAAAEsCAMAAACCKW50AAAAh1BMVEX///++vr5tbW1eXl6wsLAm\n",
       "JiY2NjYZGRmOjo4/Pz8rKysuLi4nJycbGxuDg4MoKCgkJCSysrKhoaGurq56enofHx8dHR1RUVGf\n",
       "n5+Tk5NmZmaIiIiqqqoyMjIQEBBEREQiIiLOzs6/v79aWlrf39/u7u7c3Ny6urqYmJh2dnZUVFTM\n",
       "zMwAAAAbxorfAAAAAXRSTlMAQObYZgAAAAlwSFlzAAAOxAAADsQBlSsOGwAAGXFJREFUeNrt3em2\n",
       "rCiaBmB6Xqu6OjOr6uTQoEJXFSjD/V9fB87GFsMQdIf68iNPnJ37KIE88jGIxLo6GYKEFEiiqSM3\n",
       "+sbW6eqRyuEnyjxKwRjDeTX7L8q80Kgpd0q+glTmXirUzM/qpkMV+fy/gYo70ri7CtUGVJWbr/45\n",
       "VEDFbVVYJ6ACCSomKkqXQwUSVExUaJf5vjXLdP74JUkZo3WvPKfV42OGmgIVt1MhWVEPQhU0U64i\n",
       "Vvhf5MyrqD/mFFUFKu6kQmitWdsYiEfnQj7+0M2v24cH08RX5auC1NUbOVELyqymcvx3Gvi8lGIR\n",
       "Z2plZmcSg4oLqODjXoRpfq9B4oel2lbCvagZtmj+fABb6IhIrY3xVb6aqzqyars2ejLPyAOfZ7OR\n",
       "81W/F9TA6xKqp3SWM7uQfwoVF1NRX9GsbRn8/+pUzNYzywzn9e9mTYXwFajki7dw+miOmJjpqVjG\n",
       "RFs3860qiNERKjLe1H9pFjNb0bLKdDj/pYaKa6nQk7aCLrcVlNq+QjUVufA/mDlLm7w25eMyMV8r\n",
       "41UUdrOKqp/fb8YZgpnNGJ//Bl3+cwkV11Px6HT3nYkuprL+Hlk97oeGsIrXdY+NehJNRVbO14ci\n",
       "OGJVyaaiyTxCxXM2pt/w8X/kFhWMD7kWM5lVtEkejLFE5Qv51xlUnFuFncxTCNr2EmxHJK9vfD4w\n",
       "kVXpB6qKBxNWj1uNq14TUttahVjsd+tH1ckoqRZqVSkWVDxnY1q3hSSMvq/CjiWPavx8Zn1YVZUy\n",
       "rJpCxZlVKJM7Z7o4uDSuMFlzZ3x0Nes4gsusLJn/qCTz1cW3GtT/i7Ia93LtoKJY6p1a4W/BtFIL\n",
       "KkjOZFDFczYmyQdBHuhqFd34UsZ1f8qhYzSfWd/tyOaG3HrVHCrO3Va8kwxrB5tEVjcPvE6Pz7YZ\n",
       "rGkjKLcQQCg+vsVa3iU1UZHlbKFfMc3G5Bi+jaPmDRXD+FLZu8jMbGbnCnQ+/xYqbqTC1znf01SO\n",
       "WD+vMA5dzJredn1rVsH/3dUqVSz2tqfZmHbn225NuFpmhZxEXKPxJWuoGlfq5cwu9YsQQd1HhXLt\n",
       "jbri9bDl+E7adpCZH5kdon2pu/90N19rLZUva9Vib/s5G5OIX/qfLrYVzQBRmTUrWsRTQFm3eWJN\n",
       "ZhfyzxhU3EZFXd39Kill6rhfjcaAuoqsNRtVJFuo9j9tY7P0nJfSudPstYrnbEy+IW1q5EsVj9ZI\n",
       "PjLyZTCszmoTDxVvPpQ25J8rqLhPBPWcpPYhdfm1IkemiPmK0VgVp1VlyrpbbFnGvGCrs6qJoFTT\n",
       "NZkfDIuchpNn71ZARaI0HUz9BBWk9GNRmR9nrVsE30aIJshqf6cMDobRqHKiCiqgoglM0sXSNs+S\n",
       "qPBjUfUkXD1S+kBgczJMPFMbHkwiOmJ2uioJVEBFe/BUE7rKzoT6M58Xj+FV0E6F7NqIUVvxqPdL\n",
       "jiNUSAIVUPGhSRphS0GJLjJSsqqeiPT9imb6Pn90pAVBgop7qUCCCqj4hORWJag4mYq8RNWOUZHs\n",
       "l/ZMSkioeEMFxWabN1Dx9KwjVCyrmK4RQrqqClJUULFWhSyqrUeePa6FinHpqiQqZIoB8PLF7REq\n",
       "hmS2r9rQc/0RnoCF+460i4q+NKJqXOWSLCcxHCrWqbCuTKsixYLq77g8u6gYVhLHfCWa6DULymVQ\n",
       "sUpFHrHAb1ZFYM+Ce6rIVYKvxFyqhYdcQMUaFVlEUzFWMXpwNcFT/VdRUekEhy+dk8mqAoOKFSry\n",
       "mDv7SEU2FLfiUNH2kX+TCQ4vXLqdpngBFa9VLN88tqkYhQ03V/HrjwSHT9hU+NAgg4qXKkxUiQdU\n",
       "ZBoqfPpbkeLwxqV8tGvpYLdS8c9//DPYxMf14wIq4vvb11BR/DXF4YVLuUuCceGB83/5B9qK5u6Q\n",
       "7aGCllBByI9fkxzeuZS7JJQLnRREUG3nKy5krVVQ4VNR1H+07xUzUEHIb3/5QBXEFVCxrEJGPoIT\n",
       "aiuGjsXh88wR1SXJrHjwW3zLrPvsjdBCxaKKKnLML6QiehDqrG3FqAbLX8z4rzFtRZXya7LwNYeK\n",
       "tutV7qEifsLinComN3Xzi5r87FNU2PAoFFQ0gySRxRBQET+5fUYV00DH/qynVj5FBQlPf0BFim5F\n",
       "SIUg91PxHPyPprWb/xWh4kfS75kHAwSoqGty7KqzeRUJFs2eUMVz0VQvfuENFWmnEWhwTAsqmvLR\n",
       "yVSMVgcm2G/1bCq+DBM97WTrPkhF+FkNqGja0iyZimCFuFFve9zXLpMdPrUKG5yxgIqms213UMEq\n",
       "qJh5wcvH9CtkcP7jVir+7v7v3dGIlYnNqTIEKqRKqaJK/EVDN8Of0Fb45xU/thQu8yzeJ6oQocAZ\n",
       "ERTxQ1ACKj5fxe+/J941JQ8NQkGFj3+SLtyHirO0FSY09AgVvq/sOFTcUEVwxxCoqO8ZBiqSqNh1\n",
       "4WtyFToUI0AF8WuKKVR87zm/SYWAiqCKHCpuqYKFpvGggqTdUQUqdlSRdhbvUfkdVARVFFBxy7YC\n",
       "KpZVMKi4oYoMKhZVVFABFTdVEVoH5aDilirKkAqsg6qL+3+h4oYq/h5aFYoIqi7uP6DiDCp+QMWR\n",
       "KjKouGFbYaECKqACKqACKqACKqACKqACKqACKqDiB1RABVSgrYAKqIAKqLicipM9oQoVUHGEinM9\n",
       "oQoVPslKBoob66Du2FYEV3yo6kYq0FZABdoKqLiUiuS7pEHFvipmj2uhYhy+KrQVN1Mxuyc5t1Ax\n",
       "UxpQcWsVCV51dB0VpUG/Aip8ElDRp+Edy1BxQxWjN4DFv0L1KirkT5pAxY1VjN4WGf+67auo4P8j\n",
       "U6jA6sALqBiFDfdWUf65IilUoK24gopMQ4VP//0nAhVQkay/fQkV1Z9LqPjYFN4lbS8VtIQKQv7r\n",
       "P8m5VGCXNF93f1cpVFDhU1HUfzTD83YYpd+YvkPF9jR7JP0f/57o8IlLQ/7+O0FbcXwEFd2xOG1b\n",
       "MdTi5+qMMai7q4gehDqpirED84ua/AD9ipuriJ+wOKWKSdNgf9bTn0LFzVXET26fUMVT+C9/k2TC\n",
       "AipurkKQ+6l47hLr8QSeg4rbq0iwaPZ0Kp5RyHxa0lBxSxWj1YFc3U7Fl8FTU35xs10FxqDOqiJ0\n",
       "m7xRb3tc5Dzd4dFWXEEFq6BCKqi4rQo29zCqIVCR8vBQcTIVH1hDoQIqViXskgYV44Rd0tBWXEAF\n",
       "xqCgAioQQUHFBVRg92WogIpj8wUVUAEVUAEVUAEVUAEVUAEVUBGZsFM/VEAF2gqogAqogAqogIqP\n",
       "SPvtkgYVl1KBXdJIil3SoOKMKrBLGiKoC6jA6kCogAr0K6ACKqACKqACKqACKqACKi6twqVNUAEV\n",
       "51YhK5OLPOkplRD85RtwMAYFFZ+qIstzZmX6s8pSC6PQVkDF+VTYnModL1BuJFRAxclUML7zKoBS\n",
       "lFABFadSYejuJ5d5BRWHJuySFnfOn/844vT/xo9SgV3S0FZEn9McVEpah1RgDAoqPkwF00dlgGeI\n",
       "oKDiFCqkOC7SFVABFadQQQ8so/k3f0xVBAbDLFRAxWHnlPmRWRCvVej5IVxuoQIqjjpndeiwzOzq\n",
       "j1Uq3nlDJ1RARdw5uTwyCyXdquKdtzlDBVTEnTM/Ng9zdXu6S1pIhc6gAiqOOacyx+Yh39xWKA4V\n",
       "H6hC0AuqKPWxhTEXsK1TQXIFFR+nQrr8giocO7YwqFulomRGKs04I1Zr3jjJNFS8k47ZJU2SK6qQ\n",
       "xxaGWqdCE26Yx1c9/pYVb/a3T7lLWp561TJ2Sduu4gMy8VVFWRLBa0NsdIdvh3VfV58Uu6RV5d4l\n",
       "MT2DjL0S9PkTetsnV/HjSYV8VBJfZ7L6nk/baM2aldUnQQSV7b62/ukMWWx8PoxGtJ+g4mJthfdA\n",
       "eg9F26FoOhYrqk+8ivUz/kwIu+UXp2dQWuT66TgVrSxj63VWbPoJKi6nwtSVRngH5ePqyi50mqs+\n",
       "O6jgq2f89fpIa/Krz2fIn6uqrMri8TvF+k6AkJNPGIM6WsX2wlipom4fmjDqAaR+WqgNDPLX1zRa\n",
       "hSr6Qwm5rqoz7hw3hi88/z5W0Z5BUZo3K7y+5FhJlq8aDumzyPq5p/oT5isObys2F8Y6FcrZvhJz\n",
       "TerQqZ3cXjFqFq2CNjGbNDR3K1U8MtbcKHghV6hozlBD195+WSuxvEu+QvtRuLJ4cXsaZVH2ea0/\n",
       "IYK6WgRVivqWV9MrKasvb/2jl9UkiQrX11+2WoVtp36y4BTQWEVzhmZHoKKo7+7yOTAsHj+g9OUa\n",
       "+iGLw6Px/hNUXGwMamHMZq76pFZhh3++XgVztv1Tv1bRnqGo/zCP6ksZ0U9nqqd2hM3Wq6D9MJT/\n",
       "BBWX623PdICbazxTfZKrYIK8r4K77k/7WkV7BlP/YR7/wtLq+Z+VvnPA9Mt+/5BF1rej/hNUXF9F\n",
       "N5I5U32SqzD5BhWOTwKpZRVmPFgh4i7CkMVy8gkqrq+CvfF01FoVVIzSaPEw5++raDQoLbIVHfPx\n",
       "GZYcvanC9s2U/wQVF1LB5puCd1a8x7YVuXlfBXNGa12v4ig1HSbUHjGSbIOrkYrRGYiIXMw/ZFH1\n",
       "owT+E3ZJu5CKBCl2l7TRsPNYhcxHTYt9UsGHL+ak6mVbRvolkSMVozPQ1c+NzJ5/nEXZq/Cf0FZc\n",
       "aAwqQfqOtmKY1pRfxo7lQltRRT/2NW4r7OgTVKCtSNmv2KDC9uOxljpdPToYlV/i2wRPCyrqtV1K\n",
       "pVExOPCfkqh4L2fqu1Wo93/hDRX7FcYnqQiOQb3f22bDxF9twOhmCZOaV9GdwdaWmEyjIv0YFHuv\n",
       "WSnZ96p4nd2vOVyvYsfCOIOKYdyfaKdWqcjdNF7yt3+/AFDOq2jPoAT1SUR92yGLVZ/vKs18xcrH\n",
       "H5XWtHlgklVJVTBDqWkqlzLCOWMMr5dVWiOK4vE3kxdFNc2u/0VRb51sCpd/qZlfcrhaxZ6FcQYV\n",
       "/T3X+II11UsV1C8NZJNeBNNMsKCK9gyieXlgzLLTcRZpH/n5T/EqujkiKRZvDdIPHWTNUXOZToUV\n",
       "TUvajixYV389VeRNCTZfVnL9nF3dtdvTHZTbb/Gcw7Uqdi2MM6ggxcbl4YMK8fhKnMmQinfOsD6l\n",
       "XgdF2+Nly2Ek8wdsV1FXNJkK1c3jtGtpVOugqrtw3d+INM/Z7dvt6fLl9ls853Ctil0L4wxjUN2a\n",
       "2e0q6kWrgrGgCrrDRvDJ18wW/ajEctNaE29bvEKmUpH38aAQYxXWibGK4dHc7vdd1y00T2MrZC6H\n",
       "a1XsWhinaCtssV2FNI4qwmhV2Zz5vzwaVUeff/WNM6xO1XS4N1pF/9SjWEE4ay/i6JVW3TtC1+/k\n",
       "5SYH1MP9l40clHWVa/5W+s0unrJbdm2MnGa7+xZPL91aqWLfwjiFijdedLP1WbwdXqUzBLz1p2gV\n",
       "TXtWGu64eTWeUor2GurhBq2aDoESdosKM2TTjhz4bkPW/43NNL+6m7UZbxcx+hbabFGxb2GcQ8X6\n",
       "57b1+ue2J32J9HvBJ39uO+8j6ZcFzozpquLoe9VV4A0Uk8qRD2PdyhW9A8maQafHz4wZ/c6QXVE8\n",
       "h1bTb1HlW1TsWxjnUPHGlmxbU+ozfNnjI3qXtG6hI10DuB126Tfv6mrCOyjCKpqehNBad5MGtRHF\n",
       "yy/ZlX2H46lb0X2LrNiiYt/C+FYVP33uflDRaRhwaT9F75LWtW2jSDqwFKv+7abM7XQcKdySurk0\n",
       "H0GVrtkcjE9GqLp+RTeJ3Ga3i+mJYrPdiqccvsxHuDAWSiNJYSRWkWKXtPOn6AiqrQjSveBr62vN\n",
       "m8NOnyBW4p2m4qm3TYfedhVQIeWw5LPNbt+t0Go6QFf2o0Rb2op9C2PmhNOd+j8jgoKKPmioI+ml\n",
       "IcamtNuKkIlEERThvkqVWd9TmFNRX1Q7ya52swHU8C0mOXw3gtqpME7Sr4AKPwvZR9KLD48XZhQ0\n",
       "VDxRb/tR7zXJSsmGWbx5Ffk0u90sWzsUKkfdiuZbVHyLin0LAypOo6IdVzSGyMWxyPolcl04P5qe\n",
       "jBuZffzDnDG/i0XRLUvOJ9+uVaGLaXZJ7iMv1Q4D9RuXDd/iaQJ1pYp9CwMqTqPCinZI69W7E0tK\n",
       "aTcaJEYLg21Xu7ep8FvPGVbPJdtHNc+dM32PuV0raHjRtyC2C1c0N8PDkKLdQ274FqLcomLfwoCK\n",
       "06gg4v3+nhIxWZ69PH5Kkm/PbiaXc7h2xceuhQEV51GxYakfrZKrMLmtxPbs6hc5XKti18I4xepA\n",
       "qGi7mO8+XPfGywtXq8icW7kLylx2n3sBX3K4+vmKPQsDbcWJVMh3KzlX6VUQWpjt2WWvcrhaxZ6F\n",
       "ARUnUvE8P/wqscgHt2Mvz+vsfs3h+idUdywMqDiTioMT9viAip0TdkmDinGK3SUNbQVUfIAKjEFB\n",
       "BVQggoIKqIAKqIAKqIAKqIAKqIAKqIAKqNhbBcagoAIq0FZABVRAxWVVCAoV8YUBFZdSIV0OFfGF\n",
       "ARVHpehd0tbVBERQCQrjLLukXbetWL1LGvoVl+pXYJc09LZPrwK7pEHFh6mQx+ZBoV8BFR+vImPH\n",
       "5oFaqLiSimuOQZX62MLgEiou1VZccr5CmWMLIydQgQjq01WQ/Ng8CKiAis9XwQ/tbpd09jJhdSBU\n",
       "fJQKdugD/rREWwEVn69CHhpCCQIVUPH5Kgg9sIzmGyao2CUdsw7qoioObCykIN+rAuugCHZJW3dO\n",
       "po/KAM+OUfF3tBWIoGLPyQ8qJR3ghzEoqPg8FeRPfxxx+n8N7XSOfgVUfKAKYvYPoiQPrriCCqj4\n",
       "RBVE852fRClF+O3dUAEVH6mClDndcZLbcrOgDiqg4jNVEJLlOdujwZBW52bxwFABFZ+qwr8GxOTC\n",
       "pU1C5C+nCTEGBRWfq+LbygJtBVRABVRABVRABVRABVR8QsLbIqFinPC2SLQVUIG2AioupwK7pEEF\n",
       "VKCtgAqogAqogAqogAqogAqogAqogAqo2F8FVgdCBVSgrYAKqIAKqLieinXPUkDFRyXskra3il0P\n",
       "j13SDm0r8LbIe6rA2yIRQV1ABcagoOJaKqQ6TwQFFUlUzB7XQsUocQsVN1Ohy6V6ABWElAYRFFQ8\n",
       "Ukahok+5SqDiH1BxehXzb+y5p4pKE6i4sYpyCH51BhVtV/s3CRV3VpENe2orDhVN+vUHSaECve0L\n",
       "qBgF0/dW8beCQAVUdJ81VPhU/BUqoCJdf/sSKn78SqDiY9N+u6SFVNASKgj57S+fqQK7pB3QVlDh\n",
       "U1HUfzSTVnaYu9qYvkPF9hQ6TKLDu9T1AW3Fd0RQ0R2Ls7YVoxosfzGTCh3RVjCouIKK6EGoc6qY\n",
       "3NTNL2rys82HF45CxQVUxE9YnFHFNNCxP+uplc2HNy6HiguoiJ/cPqGKp+h/NK3d/J/Nhy9DlRgq\n",
       "TqVCkPupeP7XuhoXdNThReKOBVR8h4oEi2bPpuLLMJHMn4+9/fClKyRUnFLFaHVggle2n36+wpQJ\n",
       "v5J2BipOqSJ4m7ylCsuTfiWTdBgKKr5BBaugQqq0X4mlbC2gYl8VbO5hVEOgIvlXUhlUpE3YJe38\n",
       "Kg7pV2CXNIJd0u6qAruk7RtBQcWl2gqogIqEKj51GTBUQMUJzwkVUAEVUAEVUAEVUAEVUAEVUAEV\n",
       "UAEVUAEVUAEVUAEVUAEVUAEVt1URrAZQARW3TeG2ooQKqEAEhbYCKqACKqBiTgWBipCKwlVQcUMV\n",
       "JVRABVRAxRsqBFRABVQ8pTz1ZtdQcYqUuQIqgiq401BxQxWVE1ARVGFSbwEPFadILLTJOVQ8Ek27\n",
       "USNUnCRpx6EiqCJYOlBx6URDMQJU1IWQQ8UNVfDQKAtUkHoH+OhjfzmyhYqZUkmeYso9D61pgApf\n",
       "sgn2KPqy/zK3UEHy3dekxpR74SxUBFUQ51Tyq5NRqGherKyrKjtOxRvlHlxIDhU+ifil5F/36hdQ\n",
       "QevXkNvRa8f3V7G+3FUwcIYKn0z8ko+vV0dnt1dRV1CeVzvGURHlXgYHWaDCJxY/jff16ih+dxVN\n",
       "MGMLV6gDVawudxZc0gAVy3eNiKsT/wr6s6swvjOrJFGCHahidbmb4GM1UOGTjB+Eqq+OZLQOxUwd\n",
       "MmT63iqa9wKKR8Fou6+KbeUugk9tQ0VbQCrF1dEkK0aFKu6toqpbiCrbcwgqotxleJYKKpqyje5u\n",
       "+6tjM0L9FTFtPEbLW6vIj9hAY3u5Z+HVb1DRdixMgqvzqAWFvz8WbRidYEDyxCrUIYvLtpd7uFsB\n",
       "FW0qXIKr43VJPw7ehtFDgOs2p+9QcYa0rtyX0sIlh4q20XU2hYq6IWfuzcGQa7YV4pDMbi53uxAe\n",
       "QEUXQukUV4f7kuac1PNWKUKI86oo6YEqNpQ7W9juCCq69rRIcXWo8bNWmtTEUkxun1eFsQeq2FDu\n",
       "+cIFh4r+1lEmuDrSaJYpw2yqEOK8Ko4JoDaXu10KDqCirwsmwdUZpySLZk+romJHqni/3M3SxstQ\n",
       "0Rdv3P7UX68OV3dWkcvvUrGq3OXiTRAqhnLSSa+OzMmNVaijnoTfWO5scTEDVIwKSqa8Oqy6swqd\n",
       "fZeKdeVeLIZZUDHqH8Y0Fux5yCXNgzbfOUEWkw7bSmhbub+4A0LFqJvmFEG6Q5Ivlr1BxShRjgpz\n",
       "i2ReXGiomMRQFWrMDVJZSKgYqahTOPK0Bd4eeIMkFiZsxbctyvy2cLKq00KZlOhZ3KAaLK1iaKrI\n",
       "jWKG/wd+eDlUm026tgAAAABJRU5ErkJggg==\n",
       "\" style=\"display:inline;vertical-align:middle;\" /></a></span><br>"
      ],
      "text/plain": [
       "_success_def_equality: |- [Prob_{m in {0 .. 2^{t} - 1} | |m - b|_{mod 2^{t}} <= (2^{t - n} - 1)} QCIRCUIT(VertExprArray(([INPUT]{state:|+〉}, [INPUT]{state:|+〉}, ..(t - 3) ×.., [INPUT]{state:|+〉},[MULTI_QUBIT_ELEM]{element:[INPUT]{state:|u>, part:1}, targets:{t + 1 .. t + s}}, [MULTI_QUBIT_ELEM]{element:[INPUT]{state:|u>, part:2}, targets:{t + 1 .. t + s}}, ..., [MULTI_QUBIT_ELEM]{element:[INPUT]{state:|u>, part:s}, targets:{t + 1 .. t + s}}), ([MULTI_QUBIT_ELEM]{element:[GATE]{operation:QPE(U, t), part:1}, targets:{1 .. t + s}}, [MULTI_QUBIT_ELEM]{element:[GATE]{operation:QPE(U, t), part:2}, targets:{1 .. t + s}}, ..., [MULTI_QUBIT_ELEM]{element:[GATE]{operation:QPE(U, t), part:t}, targets:{1 .. t + s}},[MULTI_QUBIT_ELEM]{element:[GATE]{operation:QPE(U, t), part:(t + 1)}, targets:{1 .. t + s}}, [MULTI_QUBIT_ELEM]{element:[GATE]{operation:QPE(U, t), part:(t + 2)}, targets:{1 .. t + s}}, ..., [MULTI_QUBIT_ELEM]{element:[GATE]{operation:QPE(U, t), part:(t + s)}, targets:{1 .. t + s}}), ([MEASURE]{basis:Z}, [MEASURE]{basis:Z}, ..(t - 3) ×.., [MEASURE]{basis:Z},[GATE]{operation:I}, [GATE]{operation:I}, ..(s - 3) ×.., [GATE]{operation:I}), ([MULTI_QUBIT_ELEM]{element:[OUTPUT]{state:|m〉_{t}, part:1}, targets:{1 .. t}}, [MULTI_QUBIT_ELEM]{element:[OUTPUT]{state:|m〉_{t}, part:2}, targets:{1 .. t}}, ..., [MULTI_QUBIT_ELEM]{element:[OUTPUT]{state:|m〉_{t}, part:t}, targets:{1 .. t}},[MULTI_QUBIT_ELEM]{element:[OUTPUT]{state:|u>, part:1}, targets:{t + 1 .. t + s}}, [MULTI_QUBIT_ELEM]{element:[OUTPUT]{state:|u>, part:2}, targets:{t + 1 .. t + s}}, ..., [MULTI_QUBIT_ELEM]{element:[OUTPUT]{state:|u>, part:s}, targets:{t + 1 .. t + s}})))] = (1 - [Pfail](2^{t - n} - 1))"
      ]
     },
     "execution_count": 14,
     "metadata": {},
     "output_type": "execute_result"
    }
   ],
   "source": [
    "_success_def_equality = Equals(_success_def_inst.rhs, _success_complements_failure_inst.rhs).prove(assumptions=[InSet(e, _e_domain)])"
   ]
  },
  {
   "cell_type": "code",
   "execution_count": 15,
   "metadata": {},
   "outputs": [
    {
     "data": {
      "text/html": [
       "<span style=\"font-size:20px;\"> <a class=\"ProveItLink\" href=\"../_fail_ineq/thm_proof.ipynb\" style=\"text-decoration: none\">&nbsp;&#x22A2;&nbsp;&nbsp;</a><a class=\"ProveItLink\" href=\"../../../__pv_it/theorems/2988b6731174711d50870cbd7dba60ef6dabef330/expr.ipynb\"><img src=\"data:image/png;base64,iVBORw0KGgoAAAANSUhEUgAAAXEAAAAyBAMAAABYEvbhAAAAMFBMVEX///+IiIgiIiIQEBB2dnbu\n",
       "7u5ERETMzMzc3NwyMjK6urpmZmaYmJiqqqpUVFQAAAB6qHgnAAAAAXRSTlMAQObYZgAAAAlwSFlz\n",
       "AAAOxAAADsQBlSsOGwAABZlJREFUaN69ml1oHEUcwP97d3t7l9xXagti1UtCS5C2GlRK8UGvpfgg\n",
       "aVzkCJRAkraY1qLk2hSKFJuzKakQMBFM9cGPs/jik2mxrXoRLkLB0kJDrQ+ikMO24oM0DXht82HP\n",
       "mZ3Zmf206e3cDmTvZmfvv7+d+X/NfwMgtu2F+rcutQ5CEyUfyJX1dRB6wxfCq+LBY+MChfV8V3EZ\n",
       "CZWFkw/nRUqT3Mhho3DyFvCH/GfRNhpr94k8OimYPJjxibzhnmDytOoTOXwmmPxp8It8VuwcKXd9\n",
       "I+9NiQ2g7b6Rh5vFGmjZN/KYWBMdKvlGLi+LdS1aBJVac/ahVW3aR4T0VhhpQ/8zsS8KJd9D7ldw\n",
       "GntFOz5BOl+szGyuL/ztOrgbQNPN34WQb2bk0sCdW2+ctZHHaaSSvKvVqwDf48+PRYDLS3zOkyhp\n",
       "3KNayXfqvQk+EK/t3lcKcBSrX58Qdz7PyYeQv51NWcmn9N4l7iQ21BZT0A2i6JehGRHk8X85eRpZ\n",
       "aTpjJWf+PqjjSutqDIa9kxBDOhcVkyne5eQD+C9nIY+zfUeUKnq25rQ4iezz2dbW58W433uc/A5T\n",
       "HgN5I16EbNNZtqnprn2HkEQKfh7gdSHkoQojR9SRbTNWcjzTDW1wSN/19XzqIV4jCe9DxBS1Yx2O\n",
       "l0b0ZH7EpJmHuO9r5OTS/e0dBfjyNO7/CF23CXkAPctYCR5DeqNpfMIDeQAlLmHVHDsGkX/bfsuE\n",
       "l+28CTHqKZSrqvE0dPLIcZuRh7WvlRP4eAAilDyIRgaaVuM1IZeOMm1JVlfeCDl69niKGeiBP/cD\n",
       "/IpmDxpNudgknIFVP+hPqxpP48vt5Nidg6y7EtlAfp/sadq9Wigmh/FpfbnP4yNCSRYiplR7EcZy\n",
       "AbCR49MGcoO2DGFbPPJP6filgjzAyLG2ELONN3v1ilhbYAeOaNnpEjwOlDymmskvIEQU/0aLxWLB\n",
       "QH7BTB7iviVdIFN9A7bAGCMPI4Vbh7DRDfq8RiJsoTCMDFRug7JMxF3Ubm/J3LfBbzHbnOPTcIp7\n",
       "Re7PP6dK8h68Cb2MHPvCiyB/S/0jjV8fOYG5ZZN5014ggSJGony81KCFB0WTdFC11slGf6JfH9lh\n",
       "Kp9F19gj0bnqLkIubW0xkCtoOqQOrJuBwgNCg1tQZ1lmUnd1walfIHayv/8tOHoTu0CLhx+xPEg/\n",
       "avvI6fgHbPYWzVkuAt4Iu1RODm36pcfsTrd40hByr7mVGVmW2auvWhItg0I6T2J3hdbZ5MsjeUcX\n",
       "j04Pc8nLVnK5Ai0pAzlLtKZsskYgtMizznHXMuMEz7jojnQGMjSUIpOL7D2MA4ycgSwRe/iIkx1p\n",
       "p7mFwpKZvGcpv/by22vmJruXKHmYPj/NTV9rxY0sxF8Az3EvVXLd3OkPP6vrk3x6WoWRHCUPVqvY\n",
       "NytbYFC710vU/VuadtpA/tSD9kTUB7AnMMpSYY6bn/u2VM8y0yYR8sv9+00oK2mGy68Tcsd96Ava\n",
       "x7uk96j9gj8A5nIOMq3kepY553DBqZrJr3grPD3Dvn2Dp3HrWtWBXC+db3aqkz5U+UgxZE1DnjYo\n",
       "hqz4EzyBOSXjQE7fLUTmnUS88zD3OyGsUhTgv96E0JZBKjiQkyxTdKWo0VN17pxmagv4iIwiPN9E\n",
       "Nt3c/2jkNMtMiK3ONSx62QuSKd9AyZNlZwulWWZSbEWU3LbGdg14tNvkiEa0pVmEM7AXQWqXh8xR\n",
       "Yr9GWU8AmeeMk4WSkCC4Uu/lbcuxYvEM63RqPqQ771BmJFmm8LctsUrtzrxaXWCdg+hv9eWUU5mR\n",
       "ZJnhsmBy+FCMmEDOfW2049fC3/wP5sWsnftLwyndhAU3qU+MnH1uAyTLrMPbc1H/sdDlNkCyzK/E\n",
       "g0NUSG0VIm6BRssylYk6kPvynzk7Nfv8D8s4oTxAUA80AAAAAElFTkSuQmCC\n",
       "\" style=\"display:inline;vertical-align:middle;\" /></a></span>"
      ],
      "text/plain": [
       "|- forall_{e in {2 .. 2^{t - 1} - 2}} ([Pfail](e) <= (1 / (2 * (e - 1))))"
      ]
     },
     "execution_count": 15,
     "metadata": {},
     "output_type": "execute_result"
    }
   ],
   "source": [
    "_fail_ineq"
   ]
  },
  {
   "cell_type": "code",
   "execution_count": 16,
   "metadata": {},
   "outputs": [
    {
     "data": {
      "text/html": [
       "<strong id=\"_fail_ineq_inst\">_fail_ineq_inst:</strong> <span style=\"font-size:20px;\"> <a class=\"ProveItLink\" href=\"../../../__pv_it/_proof__success_prob_guarantee/82a1b8cd9672998762a44b43a176127734e2c8e70/proof.ipynb\" style=\"text-decoration: none\">&nbsp;&#x22A2;&nbsp;&nbsp;</a><a class=\"ProveItLink\" href=\"../../../__pv_it/_proof__success_prob_guarantee/a12a819c1f46995438da1df3a18e4f7673a876300/expr.ipynb\"><img src=\"data:image/png;base64,iVBORw0KGgoAAAANSUhEUgAAAScAAAAvBAMAAABTUBGrAAAAMFBMVEX///+YmJjc3NyqqqoQEBDu\n",
       "7u5mZmYyMjJUVFRERES6urp2dnbMzMwiIiKIiIgAAAAs9KwDAAAAAXRSTlMAQObYZgAAAAlwSFlz\n",
       "AAAOxAAADsQBlSsOGwAAA4dJREFUWMPtmE1o1EAUx9+mm+1uTdI9iNZSJXgQpIf2IPQgwip48eIi\n",
       "Qi2ImwrWjyLtIkgvakGwFg9qTxbE3YMHb20PSlFLAx6l7EKlirQQwR5E2i7CtqilNZmZbBKTJlOZ\n",
       "rD3sQEjyeJP8MvPem/8E4H+0mTTstMbfu7PzoABWalA1qBpUDYoRVDM+1cv+brFqQtUp+JwJ8OMe\n",
       "MYZamnfbpAUVnTvJfUfQSw5sE2o6YOhfexl35dHpMb5r/fiW2Pe0LCte/uL2puP+6YFkINS3zSfD\n",
       "N9MuKC4FcOjyU4Ab5krafBxOeK340iDbREAjtQaQOOmCio0b0TKdh7IZOxf6K9eOFZ+3WztkJlDC\n",
       "hh7UGy6oxjzEZYimGlIgjOptBOKafu0VtFnrfv8lNiMlrevHbxdUIQ3RMsR/SIPniT2qxhTVC+qq\n",
       "lTgvGU1foqQf6y6oJYB4EeLrMc18URuI7zyhvpqzOaWxiqlGvc4UNBfUEM6sktBtgrwAacJz+sZw\n",
       "mvDXk8wCXQdqnXWXhFF0XdAoCmEBYfND7eyyb+XBm2ZoeGW8PVLkcybUAHL4RFOd23BhYwmVQ7l2\n",
       "xvhaQdMDh0DNobrgtYTwtxaMplagMhiKs6Zv899bCUGtGU85az4u4xipJqp1rE1lHeiCUQ2Evglu\n",
       "4hp0lZxQdeNwkCamZNYlQfqFByg+HpU5G9SwfrwHWKSAGkuzLp71JQzFyYkkb4PSiw8319NTpFjx\n",
       "d9uXGdXLTaaTZhyBiuV+ajiUvi9pdij980U97vopVvwrQd8utdNJswbNIV0yICYTi3aoaJ56vLNu\n",
       "E9IXlXaUGPykGXL48hdUJi0u26F0lUD7d6DspUanrY/i+7HBT5rhHvVpGxT/8KLU3XL73CrfpxAo\n",
       "IUULFcF6il+wyhfSF5aKTxKDjzTDDhElQHnepYUS3eGL9IV1Zxp8pBnpYei6KS+N/iHv0OiBzUOj\n",
       "I31hZSQx+Ekz0iMbtJuhDKotdjNiqXLZSwz+0gz1mKTc9wW1mPe+waYvssTgL81Qj73h7oNt+mKW\n",
       "GPylGepxJFQmrC8yqPae2lJwdKKEnbd6FEKFwvpCVCpQTVQ9nofJ5NAXszSCAzscCxPKoS+e0QgO\n",
       "7LAvRCanvpikEBzEoTdEKKe+mIFgwUEcPlftL5moUo9wsWpQEYW6kCSrBgUjtI6Hq/iXs4s5PYtk\n",
       "pNx6SYYI+gNf3H1vehzrOwAAAABJRU5ErkJggg==\n",
       "\" style=\"display:inline;vertical-align:middle;\" /></a></span><br>"
      ],
      "text/plain": [
       "_fail_ineq_inst: |- [Pfail](2^{t - n} - 1) <= (1 / (2 * (2^{t - n} - 2)))"
      ]
     },
     "execution_count": 16,
     "metadata": {},
     "output_type": "execute_result"
    }
   ],
   "source": [
    "_fail_ineq_inst = _fail_ineq.instantiate({e: _e_value})"
   ]
  },
  {
   "cell_type": "code",
   "execution_count": 17,
   "metadata": {},
   "outputs": [
    {
     "data": {
      "text/html": [
       "<strong id=\"p_fail_upper_bound\">p_fail_upper_bound:</strong> <a class=\"ProveItLink\" href=\"../../../__pv_it/_proof__success_prob_guarantee/47b9c4e0cc18e79a70f4eed89d6eb2f71d3554df0/expr.ipynb\"><img src=\"data:image/png;base64,iVBORw0KGgoAAAANSUhEUgAAAHcAAAAvBAMAAAArykgjAAAAMFBMVEX///+qqqq6urpERESYmJgQ\n",
       "EBDc3Nx2dnaIiIgyMjJmZmZUVFTu7u4iIiLMzMwAAAAz/ewvAAAAAXRSTlMAQObYZgAAAAlwSFlz\n",
       "AAAOxAAADsQBlSsOGwAAAc5JREFUSMftVj1Lw0AYfvqR9CNN6uYmXQqOAXfpXEG6uNqCICIW+gek\n",
       "uih+gIKgg4KCHTQgZBJRpB1cOtlZsS04KIJYHERBrLmPRExKGgou0ne4O557nvfufS/3XgA3e66g\n",
       "V4ud7/cuBjb64r74T8XFXO/ai+xuCn3rW7t3a/2TFIi83+7C63jdFvlj0S0Zw6ybPR79wXwFiNpW\n",
       "E75Nl80RQpjeVVFFMWFNVIEphF7F+Z0mA4Klx1WbmBCAPTKUchAy1kQJOAUmEBngwFUyJdjiowSk\n",
       "yVD4hPRmTRhushWUc3GzeM2tIG4rZJQAgaBSDdKXFbIR6iVQbiaB+xHDcjhD0rZtSkCEFyjZSm20\n",
       "QLsG1mI8ZkxCUxw5awAhnQ1fFkyQuVPecRTiexVbqA/ZtQYBQX4etxYq0zzJOp7GOeLXseyooAYB\n",
       "PpblqEraa+JJoId22Ol0q3fE6jAJCot1jHk7MMVBvcvXRQn+DP+opn9texCi+0NBCb4aGT4A6yYc\n",
       "MFKnFBB2faIYIUiCFW80rWbiJP95TTtxXZgR6KnKRj2xboFiuGm02x+uYkaQE46JuueLn3dCac/i\n",
       "khMKeH2QRbXD76bqUdxxlRmP4iXSfANmgr2/j38GhwAAAABJRU5ErkJggg==\n",
       "\" style=\"display:inline;vertical-align:middle;\" /></a><br>"
      ],
      "text/plain": [
       "p_fail_upper_bound: 1 / (2 * (2^{t - n} - 2))"
      ]
     },
     "execution_count": 17,
     "metadata": {},
     "output_type": "execute_result"
    }
   ],
   "source": [
    "p_fail_upper_bound = _fail_ineq_inst.rhs"
   ]
  },
  {
   "cell_type": "code",
   "execution_count": 18,
   "metadata": {},
   "outputs": [
    {
     "data": {
      "text/html": [
       "<strong id=\"p_fail_e\">p_fail_e:</strong> <a class=\"ProveItLink\" href=\"../../../__pv_it/_proof__success_prob_guarantee/2fd8221040353ceb8dc9a274153597000b8ea9c50/expr.ipynb\"><img src=\"data:image/png;base64,iVBORw0KGgoAAAANSUhEUgAAAI8AAAAaBAMAAAB85hJQAAAAMFBMVEX///+YmJjc3NyqqqoQEBDu\n",
       "7u5mZmYyMjJUVFRERES6urp2dnbMzMwiIiKIiIgAAAAs9KwDAAAAAXRSTlMAQObYZgAAAAlwSFlz\n",
       "AAAOxAAADsQBlSsOGwAAAjlJREFUOMtjYCACFDFQCBgXgCnWDwTUsREyyAxCMRcQUMc0AUi8vYMp\n",
       "wXf3ANglEAOY9lYfgLow8dwzrCbJAfEubBLcYD9xCkB47AZQ4cAlAiwK2NTzBkAMevl/RmdZAIZB\n",
       "KkDXpFUeYOCHSak+R7Dh4CxQhK8B6qLvQOtdMQzKZmDQZOD+xbCEgeHkTCBQYOgDsVEAa1s90CDW\n",
       "rxCDeP4BQ/QfhkG/GBiaGBhcGF6wQsOIwYchjQfdRe9BbiyEGMT3B4h/oxvEA7TGP4ChXyGPG+of\n",
       "pg8Md2ywGpQJMYgTmFA4/6AbxHeBgaGXgaH/wDEZqDBXA8NrAawGPYEYxA9MB+cfoBvEAYn9+wQS\n",
       "Edig9QFgg4CGaF/GiH5OUDIDhx9hg84fABv0vnu3FAPXNpCbGC+wzocaxN4ATiINxBikvwBs0HyQ\n",
       "AH8QKG54HjDoQw3iTWCABCMmCL8LAncQBsVDDPoOEgiBqYpHdhEjIQdBXQT2Gg8o5nnyNzJtzGKI\n",
       "/IBqkDUDkwIxYaQAMojvF8QhHBtYFJgQBnEAA5tnAwNfANGxxv4BYhCTAqcAK8IgPgcGBt20tFwC\n",
       "XtsPcrEIKB2xzf/5ABI0r98+QDKIC5iy7////x2/OR3+FcA0moFUjMQz8ApwPkUyiMGL+LK0EMWg\n",
       "+ADed8gGZRNtDiz3g9n9SXyJMnUR31jzE6AGHSG+cG/AW0JyGBBrEC8wwPdiK7OvLEAqs4kAcgTk\n",
       "rYk0B1yLEFGvEQRswDQJALdVsQi3I+w9AAAAAElFTkSuQmCC\n",
       "\" style=\"display:inline;vertical-align:middle;\" /></a><br>"
      ],
      "text/plain": [
       "p_fail_e: [Pfail](2^{t - n} - 1)"
      ]
     },
     "execution_count": 18,
     "metadata": {},
     "output_type": "execute_result"
    }
   ],
   "source": [
    "p_fail_e = _fail_ineq_inst.lhs"
   ]
  },
  {
   "cell_type": "code",
   "execution_count": 19,
   "metadata": {},
   "outputs": [
    {
     "data": {
      "text/html": [
       "<span style=\"font-size:20px;\"><a class=\"ProveItLink\" href=\"../../../__pv_it/axioms/f67ffeb951aaff9cc5f02f3801926b572b231a930/expr.ipynb\"><img src=\"data:image/png;base64,iVBORw0KGgoAAAANSUhEUgAAAKwAAAAYBAMAAACVRAuIAAAAMFBMVEX///8QEBAyMjKqqqpUVFRE\n",
       "RESYmJjc3NzMzMwiIiK6urpmZmaIiIh2dnbu7u4AAAAMEBwRAAAAAXRSTlMAQObYZgAAAAlwSFlz\n",
       "AAAOxAAADsQBlSsOGwAAAe1JREFUSMdjYCAZMBVAGXxJDFQE72GMnpPUNNYIzrIkTSPfKjyStZNu\n",
       "4De2uACHzkPr8FmqTMC1HK4PsIoz/2NgYN+t2oApU70pgoHhH25jIbpYHbAayzuBgaGUgfcXhgR7\n",
       "AMP9BVwCDByhQBCOxViILpB+HMa6MzAIYkiwFDAwCvA4vMDpWoguVGN5ImdOghsr/4DBHyPoGf8x\n",
       "sHznPnAPp7EQXSjGcuk8QHKtJwODP0bgskxgYPnBsQ0mXqt/B00BRBfYWL47p8HmFT1ADgQgmI8t\n",
       "gDg/EEic86H6VzZwXADx1eEy3ArgdPIHm67+A/hNBeniEQDG7jcGngUgAQW4VGEC2F1Yk8kUAo4F\n",
       "6WL/DExkf87cAlsjOXPmzKkgVokWWMFWbLq4A7DkSc2ZINCA0PVEmYEf6ig+uAaOraBQZsPq2BQC\n",
       "joXourSAgR8WWIhUAc4ltgzsmHmb+QJDOV5jwbpAuZQTGF8GIJEzKNkBGI08mFm7l4HhHN4IA+vi\n",
       "BUYZmwLDa7CzmAyQja3cvXsnpHQFRiXfJ2jmnb179wR8xkJ0gRPY2TRIMPC5rkMydv7//xCzODcA\n",
       "idnQaP7//78C3kQL1oWaebmuImVeSgCeooYGxoJyCSWAG3tAgXIJJeBhAnbxamdKTK0F6gYAv0eE\n",
       "w3ELTC0AAAAASUVORK5CYII=\n",
       "\" style=\"display:inline;vertical-align:middle;\" /></a> <a class=\"ProveItLink\" href=\"../../../__pv_it/_proof__success_prob_guarantee/0635a500957988818f75eadb088026be8455ece30/proof.ipynb\" style=\"text-decoration: none\">&nbsp;&#x22A2;&nbsp;&nbsp;</a><a class=\"ProveItLink\" href=\"../../../__pv_it/_proof__success_prob_guarantee/0d1fab809e81439b3a179eefcb3e1add24fd905b0/expr.ipynb\"><img src=\"data:image/png;base64,iVBORw0KGgoAAAANSUhEUgAAAC4AAAARBAMAAABQu4N8AAAAMFBMVEX///+qqqqYmJiIiIgiIiLu\n",
       "7u4QEBBUVFS6urp2dnbMzMxEREQyMjJmZmbc3NwAAADzFso2AAAAAXRSTlMAQObYZgAAAAlwSFlz\n",
       "AAAOxAAADsQBlSsOGwAAAKlJREFUGNNj4Lt7egEDFvCagfMHnMN4Ds6sY2BIg7GZfAPg4vkBDPUP\n",
       "IExmT4QwQwkDQz3EgkhnNCv8wWSsE1wg0vgqkOT6DGKHH4QLc3gxrARSLAUgDjtC/L0CgwWQug3h\n",
       "vYWbs9/YsgHouAKYqTB7v4NJSQY+NHeC7eOawMAcgOovT6DHGZ7cvXsFEQ6nQKQOA+s9Bv////+g\n",
       "+Yd5kjID2SDEBQS8YFwAT/UoxS5bNZIAAAAASUVORK5CYII=\n",
       "\" style=\"display:inline;vertical-align:middle;\" /></a></span>"
      ],
      "text/plain": [
       "{e in {2 .. 2^{t - 1} - 2}} |- 2 <= e"
      ]
     },
     "execution_count": 19,
     "metadata": {},
     "output_type": "execute_result"
    }
   ],
   "source": [
    "# Need to explicitly deduce that e != 1 so we can assure that p_fail_upper_bound is Real?\n",
    "InSet(e, _e_domain).derive_element_lower_bound(assumptions=[InSet(e, _e_domain)])"
   ]
  },
  {
   "cell_type": "code",
   "execution_count": 20,
   "metadata": {},
   "outputs": [
    {
     "data": {
      "text/html": [
       "<span style=\"font-size:20px;\"><a class=\"ProveItLink\" href=\"../../../__pv_it/axioms/f67ffeb951aaff9cc5f02f3801926b572b231a930/expr.ipynb\"><img src=\"data:image/png;base64,iVBORw0KGgoAAAANSUhEUgAAAKwAAAAYBAMAAACVRAuIAAAAMFBMVEX///8QEBAyMjKqqqpUVFRE\n",
       "RESYmJjc3NzMzMwiIiK6urpmZmaIiIh2dnbu7u4AAAAMEBwRAAAAAXRSTlMAQObYZgAAAAlwSFlz\n",
       "AAAOxAAADsQBlSsOGwAAAe1JREFUSMdjYCAZMBVAGXxJDFQE72GMnpPUNNYIzrIkTSPfKjyStZNu\n",
       "4De2uACHzkPr8FmqTMC1HK4PsIoz/2NgYN+t2oApU70pgoHhH25jIbpYHbAayzuBgaGUgfcXhgR7\n",
       "AMP9BVwCDByhQBCOxViILpB+HMa6MzAIYkiwFDAwCvA4vMDpWoguVGN5ImdOghsr/4DBHyPoGf8x\n",
       "sHznPnAPp7EQXSjGcuk8QHKtJwODP0bgskxgYPnBsQ0mXqt/B00BRBfYWL47p8HmFT1ADgQgmI8t\n",
       "gDg/EEic86H6VzZwXADx1eEy3ArgdPIHm67+A/hNBeniEQDG7jcGngUgAQW4VGEC2F1Yk8kUAo4F\n",
       "6WL/DExkf87cAlsjOXPmzKkgVokWWMFWbLq4A7DkSc2ZINCA0PVEmYEf6ig+uAaOraBQZsPq2BQC\n",
       "joXourSAgR8WWIhUAc4ltgzsmHmb+QJDOV5jwbpAuZQTGF8GIJEzKNkBGI08mFm7l4HhHN4IA+vi\n",
       "BUYZmwLDa7CzmAyQja3cvXsnpHQFRiXfJ2jmnb179wR8xkJ0gRPY2TRIMPC5rkMydv7//xCzODcA\n",
       "idnQaP7//78C3kQL1oWaebmuImVeSgCeooYGxoJyCSWAG3tAgXIJJeBhAnbxamdKTK0F6gYAv0eE\n",
       "w3ELTC0AAAAASUVORK5CYII=\n",
       "\" style=\"display:inline;vertical-align:middle;\" /></a> <a class=\"ProveItLink\" href=\"../../../__pv_it/_proof__success_prob_guarantee/1864eb2a9ca94d48439ba33d8bf592abce152c400/proof.ipynb\" style=\"text-decoration: none\">&nbsp;&#x22A2;&nbsp;&nbsp;</a><a class=\"ProveItLink\" href=\"../../../__pv_it/_proof__success_prob_guarantee/6b7b2afa606b326c8435cb06008ce535188682760/expr.ipynb\"><img src=\"data:image/png;base64,iVBORw0KGgoAAAANSUhEUgAAAC4AAAAQBAMAAACb51DZAAAAMFBMVEX///8QEBAyMjKqqqpUVFRE\n",
       "RESYmJjc3NzMzMwiIiK6urpmZmaIiIh2dnbu7u4AAAAMEBwRAAAAAXRSTlMAQObYZgAAAAlwSFlz\n",
       "AAAOxAAADsQBlSsOGwAAAIZJREFUGNNjYMACOOZhE2V4sukfVnEGHiTxRwnYxfluHkAV57tz+gGY\n",
       "d/IeivjKBo4LEG7mPiRx9m8MPAugfKPtCHHWP2duwQ1e5AcX53dAcuCiOIQ4whkMRu4IcziBlhpA\n",
       "7d2OZC+bAsPrAjR38n4HEmfTwCbxnYQbyOL4yQ1u9ssEBmIAAAfSLVFATQhPAAAAAElFTkSuQmCC\n",
       "\" style=\"display:inline;vertical-align:middle;\" /></a></span>"
      ],
      "text/plain": [
       "{e in {2 .. 2^{t - 1} - 2}} |- e > 1"
      ]
     },
     "execution_count": 20,
     "metadata": {},
     "output_type": "execute_result"
    }
   ],
   "source": [
    "greater(e, one).prove(assumptions=[InSet(e, _e_domain)])"
   ]
  },
  {
   "cell_type": "code",
   "execution_count": 21,
   "metadata": {},
   "outputs": [
    {
     "data": {
      "text/html": [
       "<strong id=\"_e_value_minus_1_ge_one\">_e_value_minus_1_ge_one:</strong> <span style=\"font-size:20px;\"> <a class=\"ProveItLink\" href=\"../../../__pv_it/_proof__success_prob_guarantee/dcb4f7ea70157d0d477f76f1f1ccb3a97e3ce6e60/proof.ipynb\" style=\"text-decoration: none\">&nbsp;&#x22A2;&nbsp;&nbsp;</a><a class=\"ProveItLink\" href=\"../../../__pv_it/_proof__success_prob_guarantee/1ea90015923562a3a6bbba7f827f130d71fc153a0/expr.ipynb\"><img src=\"data:image/png;base64,iVBORw0KGgoAAAANSUhEUgAAAIEAAAAaBAMAAABiLyLjAAAAMFBMVEX///9UVFQiIiKIiIjMzMx2\n",
       "dnYQEBDc3NxEREQyMjLu7u5mZmaqqqq6urqYmJgAAAB66f/FAAAAAXRSTlMAQObYZgAAAAlwSFlz\n",
       "AAAOxAAADsQBlSsOGwAAAeJJREFUOMtjYIABzgIGcsFbCLWekLoNuCR4oDInCZlQgUtiJYQq1QyB\n",
       "Crx+YozVOj4DHCb0Qek5UJrrbR5DOlaVWtgNYE9gYKje2cLA8AsmsHgCnA1XtHuGAwODIaZupwUM\n",
       "DNwBDOwNDPEXeBMYWDqAoJ2B0QDIRg8C1r/AsF4AduM8uDCX9HygEP8FBsYCBrYEZoElUHE2B+4N\n",
       "DqgmiDMwpAHj+wGYs1QZIWEPNMF/AQPbLwbG79wGUVDRegYmHzQT8hcwyBcwcDdAeMyqC5BNMGJg\n",
       "YFRgYPzCsg+m6yIDcxyaL4QYGOQdGJhhnuODGwEyQRLMYvpAKDXoMzDwwgOYZ3YBwoQOMMvfgIAB\n",
       "LJ+B+AucyztxAdyEiWCWIiEnMAkA4/QvwoQZCBO0QQxYGKEArklKIAAJnh0gAbgJPBORfAF2w0NC\n",
       "TuATAKUrmC/4tJFDEmQCTwBDOX4TjjKwFzCwfMcamxJA2pWBwQp/OAYwMC+AxQV6ijIDuk57924F\n",
       "vCYU7d69Cej4BLRUzcAQDwyP+wsYmP7//z8Bf2L4//8nMLwF0MUF8yc+YGC7QHRhBs0X6ACYN4kF\n",
       "6xdgD6QEok2AxDmXElIyAQMZok1Qx19OEgY4y0keYgOiglB9QRDswi4MAFhBbx4VSnEtAAAAAElF\n",
       "TkSuQmCC\n",
       "\" style=\"display:inline;vertical-align:middle;\" /></a></span><br>"
      ],
      "text/plain": [
       "_e_value_minus_1_ge_one: |- (2^{t - n} - 2) >= 1"
      ]
     },
     "execution_count": 21,
     "metadata": {},
     "output_type": "execute_result"
    }
   ],
   "source": [
    "_e_value_minus_1_ge_one = _e_value_ge_two.right_add_both_sides(Neg(one))"
   ]
  },
  {
   "cell_type": "code",
   "execution_count": 22,
   "metadata": {},
   "outputs": [
    {
     "data": {
      "text/html": [
       "<span style=\"font-size:20px;\"> <a class=\"ProveItLink\" href=\"../../../__pv_it/_proof__success_prob_guarantee/4109f0b807d09f82e077fa2f8618b3655530e4850/proof.ipynb\" style=\"text-decoration: none\">&nbsp;&#x22A2;&nbsp;&nbsp;</a><a class=\"ProveItLink\" href=\"../../../__pv_it/_proof__success_prob_guarantee/2efc25d43c7b865bea96ddb60a48321609ae5e040/expr.ipynb\"><img src=\"data:image/png;base64,iVBORw0KGgoAAAANSUhEUgAAAJEAAAAaBAMAAABFgaMLAAAAMFBMVEX///9UVFQiIiKIiIjMzMx2\n",
       "dnYQEBDc3NxEREQyMjLu7u5mZmaqqqq6urqYmJgAAAB66f/FAAAAAXRSTlMAQObYZgAAAAlwSFlz\n",
       "AAAOxAAADsQBlSsOGwAAAjFJREFUOMtjYIABzgIGSsFbCLWekLoNuKW4wSQPVMVJQiZV4JbiAJMr\n",
       "IZxSzRCo8Osnxlit5zMgYFIflDcHSnO9zWNIx6peC43/MqN/UsYDuEnsCQwM1TtbGBh+QeXZF0+A\n",
       "s2GAffcMBwYGQ3SjGwoZLr5YADOJO4CBvYEh/gJvAgNLBxC0MzAaANnoQcT6FxgnC9BNKmXgYBFg\n",
       "2NHR1tHxgIH/AgNjAQNbArPAEqg8mwP3BgdULeIMDGnAdPIA0yTuggkwN/kvYGD7xcD4ndsgCipf\n",
       "z8Dkg2ZS/gIG+QIG7gYIj7lJSRNhUgPMJCMGBkYFBsYvLPtgui8yMMehWS7EwCDvwMAM8TTv5AUI\n",
       "NzGuEoCZJAkWY/pAKDXpA42ARETlAiTfeZwsgJnUARbzNyBgEMtnIP4CZk5HhFPZpE9W8DQ+ESym\n",
       "SMhJTEBPsP8FMycghfi7lQgl2mAzG7Bo5pqkBAKQ4NsBEgCbxJIEFNSAmsSxDhGfYDc9JOQkPlC4\n",
       "soN9x9WA5CaWDV0oJvEEMJTjN+koA3sBA8t3MFsBOT1tQeRrCSB2ZWCwwh/eAQzMC2BxZ4xs0gpm\n",
       "uPfMgK7W3r1bAa9JRbt3bwJ6EZKeOA/ATapm4HvQC+PdX8DA9P///wn4E9P//z+B8SIAiQmJW/Cy\n",
       "oJ2hYz7MYLYLRBeusHzHGwHNLWgFZwDRJmGUBWiBmUC0SYTSigzRJqkTkF9JrEF8hPImD7EBVUFs\n",
       "fUcQ7MIvDQDDVIe5SXwpiQAAAABJRU5ErkJggg==\n",
       "\" style=\"display:inline;vertical-align:middle;\" /></a></span>"
      ],
      "text/plain": [
       "|- (2^{t - n} - 2) in RealPos"
      ]
     },
     "execution_count": 22,
     "metadata": {},
     "output_type": "execute_result"
    }
   ],
   "source": [
    "from proveit.numbers import RealPos\n",
    "InSet(_e_value_minus_1_ge_one.lhs, RealPos).prove()"
   ]
  },
  {
   "cell_type": "code",
   "execution_count": 23,
   "metadata": {},
   "outputs": [
    {
     "data": {
      "text/html": [
       "<span style=\"font-size:20px;\"> <a class=\"ProveItLink\" href=\"../../../__pv_it/_proof__success_prob_guarantee/12074e96d2f4e84fe8f2290bad3ab1a234447c4a0/proof.ipynb\" style=\"text-decoration: none\">&nbsp;&#x22A2;&nbsp;&nbsp;</a><a class=\"ProveItLink\" href=\"../../../__pv_it/_proof__success_prob_guarantee/632b63914a69cc722e8c319d9443f077b07be2860/expr.ipynb\"><img src=\"data:image/png;base64,iVBORw0KGgoAAAANSUhEUgAAAKEAAAAvBAMAAAB5xbctAAAAMFBMVEX///+qqqq6urpERESYmJgQ\n",
       "EBDc3Nx2dnaIiIgyMjJmZmZUVFTu7u4iIiLMzMwAAAAz/ewvAAAAAXRSTlMAQObYZgAAAAlwSFlz\n",
       "AAAOxAAADsQBlSsOGwAAAhJJREFUSMdjYMAH3h5goCrg2TWfyiYyMPSPmjhq4qiJJIH6BCobuDt+\n",
       "tgPRij2D7ecGO1DVfoNsBm1nqgaTQToDM98GKpvIlTCBGiY13707AW6iARUM1OxBuJH7DBV8zTYH\n",
       "ydePJamQ3DjhZhikzv3bQwVPcyLFjMtJEP2ffPABpP/pXSAwgJjIfIQaKfwwkhv5FthQwURe5PS4\n",
       "LpkKJnI0IJl4mAOLtxPQoxBHooGzJsJNzGJgcTDCtFIAQp8n4DQmuNNOGx2AlT1mDMbzgfqzVtoh\n",
       "qRSHCkjiMQ2soAXOVbe9i5Kb2QwY6hUQTZ0JEIH0m3VQES+/jgVoHgbr4MRZbnEnMLAGwHlcDlAB\n",
       "WOjwOIUwhGHTwbIAl4msfxi4vyF4MIE/MAedmABno+qIwenGCwzc/+A8SagAUwADnzEQmDFwNzAF\n",
       "YNUxBV8i/QBnLocKcGw4B3PRA64FD7DpqMZj4nt4SoBa/L6Bq6EGKpLPwPvwATYdnnhMvI1gXoQK\n",
       "8C2BmaLNwFGCVYcobgO5wCXHeXCaCkIIoIGToDLm7j2Ejve4TfSGBM0CuInehPIyWIEqTmnGAoY0\n",
       "FF+jCODWIYtT/jkDA6Ist0AXwK3DGWchcmvVqgtwXjW6AG4dy3EmRmDxjsjob9EFcOu4RGSJ/IDo\n",
       "WvUCcepw53+MNEdsJWVGrIlE1yiHGahtNVsDkRUWznoIAIMX4sgMWXiAAAAAAElFTkSuQmCC\n",
       "\" style=\"display:inline;vertical-align:middle;\" /></a></span>"
      ],
      "text/plain": [
       "|- (1 / (2 * (2^{t - n} - 2))) in Real"
      ]
     },
     "execution_count": 23,
     "metadata": {},
     "output_type": "execute_result"
    }
   ],
   "source": [
    "p_fail_upper_bound.deduce_in_number_set(Real, assumptions=[InSet(e, _e_domain)])"
   ]
  },
  {
   "cell_type": "code",
   "execution_count": 24,
   "metadata": {},
   "outputs": [
    {
     "data": {
      "text/html": [
       "<span style=\"font-size:20px;\"> <a class=\"ProveItLink\" href=\"../_pfail_in_real/thm_proof.ipynb\" style=\"text-decoration: none\">&nbsp;&#x22A2;&nbsp;&nbsp;</a><a class=\"ProveItLink\" href=\"../../../__pv_it/theorems/4ad9130e750b89aede825e4a080b75701c45347e0/expr.ipynb\"><img src=\"data:image/png;base64,iVBORw0KGgoAAAANSUhEUgAAARYAAAAYBAMAAADNHs+4AAAAMFBMVEX///+IiIgiIiIQEBB2dnbu\n",
       "7u5ERETMzMzc3NwyMjK6urpmZmaYmJiqqqpUVFQAAAB6qHgnAAAAAXRSTlMAQObYZgAAAAlwSFlz\n",
       "AAAOxAAADsQBlSsOGwAAA9JJREFUSMe1lkloE1EYx7/UzJImbeJ6cWkbkYIoiiioF1MRD1JlDkWQ\n",
       "Qk2VxlqUpq2gUmwjllYo2Ii4HBRD9eKtihu2QipUFHsILgdRMAfrSVzAVlzj97aZN5OpqIwPZibv\n",
       "P2/m/fJ93/u/AfCu6eCLJovlWdXsmuKDpnvY07YQ/Bk3fQs9+3L0Uhqx3wydSnxZvI/peSK89AKl\n",
       "LEZZfK1T7/beKGZ5ynsLHI+per70bRPV75D+OS9YdgCLSzgNsNtwsihp3gsYTpYYxLuo3kVyFfeC\n",
       "ZYSzdGO0X0WcLMGsSMpQMcvtANUJpj/nBctKzlKB9VsRc7LMMLtr2GVeNJo2WVSqh5A34Em5pDlL\n",
       "KzmSTpbnZvc8PV+ZK8VlooHpq6LR1V6wBGOcZQpA+1hUu9dJzdTMxyxso0v4tJQjbT8pWNRvATT9\n",
       "iXmINPca7gMCWcaCHPrGXBELicZgUkPgh3R0ymJZt6KKvBP1E6DnbQu+1nWqEK9G7bGN5YC5ekty\n",
       "jMX3c1NtBi5fJdo92P6BsyzHv/MdfDjgCWWRard2jBYO6qphd6gOjOWmd7YJ67ZNwKy7Yk5DllnE\n",
       "aXFmGIv6gfQm+8i5DXTBsh7vfJxJfnbTWaLY4jxHTePA9LKIydj2poUWWRCClTLLEFyDEihiIbJV\n",
       "k4KF2AsoK7mqSCxhFv9L5LRdXtOdqsH19Kiovlu84MMZ/bPM8hUGkuhk/cPDwxmJhcgWi8hRN1nO\n",
       "nZ+yPY8ySqvFgjkKszQ/pqNlluChONe3kpKuG81yd8aXhww7yxhO+iJUFJcxG4saYSwVGRaO17AW\n",
       "BiyWRnwSKRH4Pt2dIhKLEidTE/0Yhk6phrzC3JeWub/SXrkbof8Br93ZW2UZBsVvf56xXOSpOQ77\n",
       "YKfFgnUVSkN9iq1ugAsWyxCMqxmml6Mvled7sqXUpbWz5NxuX7jaEte1ReSA8CytkrLcLDQyFl9N\n",
       "lczSjseccRKNpXR4Q4sh9umplLr3h9Cx8EaeQehMIrEfuiaImTgcx+EpWgJbM5PLTgq1GqxvBkRY\n",
       "Bo2GxFIinFjnIb+8K5q2GZhIRRhjp7E9ZBEe/Rhhm8/pKVf7Q/mY2X1kY1EmoSoisZhborlJOn1b\n",
       "6GoOYtx+sRj1PQeJhSkxqGNhOdjpZrZUtvYZNWWxNHxLzR8/PPf9UP038f3SLJ6axthNXbk6akBv\n",
       "krPMKBSIYWlroYPGY0Oh4PY0lS0WrP3ffdcJR2mehsWuK5sTLfLL/6hJw4+C3/V7dz3LKFvFvpT7\n",
       "e1z1wX9m8b4FIn8zWrvwP1ngyN8M7vNw4l9zEwcPz16LfAAAAABJRU5ErkJggg==\n",
       "\" style=\"display:inline;vertical-align:middle;\" /></a></span>"
      ],
      "text/plain": [
       "|- forall_{e in {2 .. 2^{t - 1} - 2}} ([Pfail](e) in Real)"
      ]
     },
     "execution_count": 24,
     "metadata": {},
     "output_type": "execute_result"
    }
   ],
   "source": [
    "# need this for deduce_bound effort further below\n",
    "_pfail_in_real"
   ]
  },
  {
   "cell_type": "code",
   "execution_count": 25,
   "metadata": {},
   "outputs": [
    {
     "data": {
      "text/html": [
       "<span style=\"font-size:20px;\"> <a class=\"ProveItLink\" href=\"../../../__pv_it/_proof__success_prob_guarantee/5fd1ee6b48af9d2679d00be005d02e49f78369420/proof.ipynb\" style=\"text-decoration: none\">&nbsp;&#x22A2;&nbsp;&nbsp;</a><a class=\"ProveItLink\" href=\"../../../__pv_it/_proof__success_prob_guarantee/5d2516baa81754fa9033583a512707a0d916ec4a0/expr.ipynb\"><img src=\"data:image/png;base64,iVBORw0KGgoAAAANSUhEUgAAALoAAAAaBAMAAADyPFssAAAAMFBMVEX///+YmJjc3NyqqqoQEBDu\n",
       "7u5mZmYyMjJUVFRERES6urp2dnbMzMwiIiKIiIgAAAAs9KwDAAAAAXRSTlMAQObYZgAAAAlwSFlz\n",
       "AAAOxAAADsQBlSsOGwAAAsJJREFUSMe1lk1oE0EUx19Xt8nmY5uAetKyiB5EpTl5qaCIIIjQ9aLp\n",
       "qVEwWIolVgXFQ6OgFESToqVUsNlDwUMPplclGqREPdgo9JgvwbaKSALS1lQwzs5sspP9cMeCDzY7\n",
       "+3b2l/+8efNmABhsBP6HdSj4xtcc+nVuin6I3LbEHPpxSbs33wtmn1jMYs2EymVuZrWxnFtYtoR0\n",
       "29GfWzm9OCRCgDy5Qpr79Exgq2TV3y8bQnp1an1xnNDFVH1s8oKZvgfpjt7IQlfz270rertl75FH\n",
       "jBucAhf33Jog2rtQCB7JJvoQwD7wbsAMwLspZBI8UNttxt8dRR/yqyZ6GpJvCT1fAThSMdE3AG4D\n",
       "HIcvvBZ3OAVRn1F7VZV12YJ+3kXoVfR1NW2k+5CgPhkS0rBXGxdXg8JhS/qg9vC1WIy16AKhp9Qr\n",
       "a6SLHwDuAySyuZ2a2xOHbwFL+mfSfrpEab8TJvQ6EvrbNKtukpBlh2TH9Gd4dNw1KjK+hyOYjshc\n",
       "JmSiC3iNtP+tHT2PR+6SdPqJckkmGfnzxZwCs8Oqexf01zS6C6eZP85C78Fp4KJmdW57jOS7gOvI\n",
       "6gH1d0GdOkL3R4CarzY7W1StoNMHMH1e9Sa1yEwECV1Nd+CPNjO4TXuHk3RNO45MP52ROYFEJq8m\n",
       "Y+5XYP8OhU8Z6L3ASSxxx538NL3zdRLTqwqRfA+OQY9Od6O3vjSIMnPOiBWKzic/YfqoFpDdMA4D\n",
       "Ol1EsToYjV5yiMwrVfY20r6i0yMQFBREH2xME7r4skTTPWitlhuN9b/Dx/quowV2kTyEH8vNGlmX\n",
       "hMkfrQqMoB9hWqbocJJ9n2nWmdknxZhVfedrqNCVKjR9iBluqpFGenhNWg6+WUpEzqw16fPsG3D8\n",
       "3/cmd4iV7rfL2ozVvrqoUPsqg3Vv5kzQy9jP/kzAcJ5xtE67BfcHK4/lq6EAcOoAAAAASUVORK5C\n",
       "YII=\n",
       "\" style=\"display:inline;vertical-align:middle;\" /></a></span>"
      ],
      "text/plain": [
       "|- [Pfail](2^{t - n} - 1) in Real"
      ]
     },
     "execution_count": 25,
     "metadata": {},
     "output_type": "execute_result"
    }
   ],
   "source": [
    "_pfail_in_real.instantiate({e: _e_value})"
   ]
  },
  {
   "cell_type": "code",
   "execution_count": 26,
   "metadata": {},
   "outputs": [
    {
     "data": {
      "text/html": [
       "<a class=\"ProveItLink\" href=\"../../../__pv_it/_proof__success_prob_guarantee/054d8b2ef6a3a13e6207bb28e05e92101bab64020/expr.ipynb\"><img src=\"data:image/png;base64,iVBORw0KGgoAAAANSUhEUgAAALQAAAAaBAMAAADs9WufAAAAMFBMVEX///+qqqpERES6urqYmJgQ\n",
       "EBDc3Nx2dnaIiIgyMjJmZmZUVFTu7u4iIiLMzMwAAACFobtaAAAAAXRSTlMAQObYZgAAAAlwSFlz\n",
       "AAAOxAAADsQBlSsOGwAAAj5JREFUSMet1k1oE0EUB/B/87Hd7FfP3koRL4LJ3YOB3CyUBYsnD6EH\n",
       "C14MGBBEdBHEgg3WmyhCwFJoEVqLIp5cBEUpuPEiWFuJJ48JBmIjIXF2dlI2ndnNpPhgsrOP2V9e\n",
       "ZoadAMeKTBH/PQrBxRs1rjq2PMEeOTFq4IIwq+7X+WTlB718Cu4Wv91i+fNzS8ICU44oO5kTZa/R\n",
       "z5Ps7iG7GoV5XBQWuEeatSeg7/RPbz92OVqxgSvrZ4AuyyofVw77h0HF+8DOeldUdQdIXOJorQRl\n",
       "GrdzSRvWDIlT0B3SH45A9Ehhqoi2DsiSHXD0VA56EWlb3frM0um6Vj26NFTM5CNotUfaH45uuEh3\n",
       "obc15yZLX4X5U0hr0xF0oklaj6MrgF6D3rNWB9xZqGWIaNWOoKfIdzYcjn5Du2Yzfk9TMdmNoAm7\n",
       "+IXffDO023AkaKsXQT94fb2A5A3fSNWM7IB+Qgd8hwSttAa08XTfjzqjs3Q/fPBvLYesFaN3wRaI\n",
       "i9DzgWi0Iqru+J33g4w3VPUspKqOmBDL33fWZlkpP8O75jA9UcJlmblui2m1FRSrl9JFJURvk/YL\n",
       "WJbcIZNtns40A1opJvJGiL5LfujuxkYtnqZiyob+qvPyKK1lfzvBFN+rOGH6nAuz3++vxMqBqG3F\n",
       "vVQ9mPnEcphO5+SPuHw87bnmUpgmbz7Z8NwY2ni7pq7OPdr5a2xWGW3Z0vTsuKfMC2n6q5AWno0X\n",
       "wmfj6Eg5Y5/ospO9cOz/ISPjOfAPerbD6vDJkIgAAAAASUVORK5CYII=\n",
       "\" style=\"display:inline;vertical-align:middle;\" /></a>"
      ],
      "text/plain": [
       "1 - [Pfail](2^{t - n} - 1)"
      ]
     },
     "execution_count": 26,
     "metadata": {},
     "output_type": "execute_result"
    }
   ],
   "source": [
    "_success_complements_failure_inst.rhs"
   ]
  },
  {
   "cell_type": "code",
   "execution_count": 27,
   "metadata": {},
   "outputs": [
    {
     "data": {
      "text/html": [
       "<strong id=\"bound_01\">bound_01:</strong> <span style=\"font-size:20px;\"> <a class=\"ProveItLink\" href=\"../../../__pv_it/_proof__success_prob_guarantee/065cb92f62204bc73dd2b909d884f8601b8e7b050/proof.ipynb\" style=\"text-decoration: none\">&nbsp;&#x22A2;&nbsp;&nbsp;</a><a class=\"ProveItLink\" href=\"../../../__pv_it/_proof__success_prob_guarantee/ede20b7bbaa5db8662b99c1519a666b93a9717040/expr.ipynb\"><img src=\"data:image/png;base64,iVBORw0KGgoAAAANSUhEUgAAAZwAAAAyBAMAAACaDnAgAAAAMFBMVEX///9UVFQiIiKIiIjMzMx2\n",
       "dnYQEBDc3NxEREQyMjLu7u5mZmaqqqq6urqYmJgAAAB66f/FAAAAAXRSTlMAQObYZgAAAAlwSFlz\n",
       "AAAOxAAADsQBlSsOGwAABW1JREFUaN7Fml+IG0Ucx3/757LJ5s+dQmv9gxfPUqitNFxRpA82FCwI\n",
       "QtKiLy1e44t/DmoXobXgw11VbPHBuyqCWNFURXtPuQpHrcH2ECoUX+KL4FOjFlHkaCQp1+SM5+zM\n",
       "zu5mszuZpFlnIL9sbn8z5LMz8/t9f5MDENTeHPJ4+tsgsEnVYY+4pygQZ0PfPdSH2PcTaXE0qfl+\n",
       "e5y92OrhsU8czjGj7y5KLxy5KgznQRg+TmJa2ForhIADZ0ThRPJh4FwzBOHsLoaBExsThPMAhIGT\n",
       "aImhURuh4Oj12/lSsYGXqlQIBQdeN81Kv2GpQt5LPfzitumKBGPh4NxADzix2Oe4P1jvV3v4abPU\n",
       "eFuuGg5OCY274HdjcrPPeBNZvEItfXJ069PWjb+u7/R9JL/ZxhvYBlmmI6u94z+a9Xf8bjzrOyBe\n",
       "ZVH6aD+iO3DlZXjBV3UUqfG0twbZbxub9/fyiaZBK/iJaxPnsfUTm84Uu3COoddrF1G5Qidf+2we\n",
       "Wn5yXTG3iOKzT14MSdKP1CCeB/3eT/xwoIl4p7twlvCGOFRJFkA9hdpJkDJJT6giI+ompE5IF1zb\n",
       "RV9zfIarndowWvHL0iaOisJ4ot6F00YTb0CkoIx9TpdsNr6Y9cv7HwM1oO/POGmnPrg2YOezOuSK\n",
       "QTgKSnbKTS+Oip52pAXSajxzwPr7DMhP+eJ8DdSY0eWAnb3/CQkHTfskBOFEa+jV8OIoqOiT0iA1\n",
       "1EsU4UdQpnxV2aNAjdl+pTypRkg48DfcHYgzilJGLuPFkUiclmscIvOabUiiumBF/NWwcG7BqUAc\n",
       "hHJ0e1egjpK82MEZhJPLUkPaz/eQcVph4bwEpwNxdm94ZgWSB83vnUrrcxaOpcJ7aWI84kyFGguH\n",
       "HB7FQ8OZgG3OwAsTZttMcebMi9EvzYerZtB+JzgyFgBxP+3i6k9GLFWoIYvtLisj1tw4rl6j64M3\n",
       "POIWxuw0zYsvbD3UMTu/cBVoM1lqcCj4BvxwhtkYOKoZo9XLU9rUt3Cu1omTyMOrPHvHoKYjUIe5\n",
       "2DYF4ShtMilSPmJoDo5kLrMnAHb1F9ncaXRkNbxQgNPCIaMbJ1YjOJoRreoOjoL0jLatXE6zB8Yj\n",
       "/g7UdIgcpeHyYTWDr07U7Kvn8MO748jpqhcnPncrQ7bMI5MZF04SrRQZbT32MSYZ8bx5eb5bWjVc\n",
       "PqwKZ5mvTkzaE78GkQqzQCiBXI3ucuHAYf65d2m2jiOKduBzLn/gUktXLOnOqhOxw+NU5Nw0FTUb\n",
       "p1SUd7pxlvgllEtRdyjFf4N6HIcRBxXViVi6s+pE7ACxoi1B1QILRx+/oFy6/t7ZNf3yooWzl1+v\n",
       "j1ED8KkrJ8FaUA+UmJ53zhqqRLqz6kTikFp0tO19fVaj0jIvjmxQ42lbg3ocKcK47R+xpDurTiQO\n",
       "MO2IQd+zgv1+ZwVbKu6zgt4t8KxgY1CPOwHG7c1z1ZLurDoRO9j708zPiX7Pi69w+gWf5NxgJJwd\n",
       "9tWSJd3ZdSLW9tZPO5HZ2zhn69XiRWq6DqaWWQVlR1xE0p1dJ2Jt/6d1PyPkUJdxbCg7t7Zb0p1d\n",
       "J2Jt/71zbCigxYMPdXEprjftBOcr3fV3cZzM2g45e+uJaMk2M7YDqVoOc0l37PATua6LwSFf1z/M\n",
       "aIZ7sfWU7sThO/IsBP0gEhja1Dwo9q03eKQ7cfjDu+/+51gQkBxeKZe/sj/s45DulgOJ6cJ+TAxa\n",
       "FjvW15v2hz0c0t1yeBh/OAGi2vs8GinLO5qGZzDZEoazl2NdpLh/eIrjukleFoajzHI4neQd7Tjd\n",
       "a8Iaz78YneMdDHMn5wXixDhWhsYpwRS8cp8sCsQZ/r/nfWja/wByOt8Sf4K/fwAAAABJRU5ErkJg\n",
       "gg==\n",
       "\" style=\"display:inline;vertical-align:middle;\" /></a></span><br>"
      ],
      "text/plain": [
       "bound_01: |- (1 - [Pfail](2^{t - n} - 1)) >= (1 - (1 / (2 * (2^{t - n} - 2))))"
      ]
     },
     "execution_count": 27,
     "metadata": {},
     "output_type": "execute_result"
    }
   ],
   "source": [
    "bound_01 = _success_complements_failure_inst.rhs.deduce_bound(_fail_ineq_inst, assumptions=[InSet(e, _e_domain)])"
   ]
  },
  {
   "cell_type": "code",
   "execution_count": 28,
   "metadata": {},
   "outputs": [
    {
     "data": {
      "text/html": [
       "<strong id=\"bound_02\">bound_02:</strong> <span style=\"font-size:20px;\"> <a class=\"ProveItLink\" href=\"../../../__pv_it/_proof__success_prob_guarantee/c6894aafb1b938a34b91d7feb888aad6b1af26300/proof.ipynb\" style=\"text-decoration: none\">&nbsp;&#x22A2;&nbsp;&nbsp;</a><a class=\"ProveItLink\" href=\"../../../__pv_it/_proof__success_prob_guarantee/c4399a9e8aee5c6076476f626369376335f908300/expr.ipynb\"><img src=\"data:image/png;base64,iVBORw0KGgoAAAANSUhEUgAAAwYAAAEsCAMAAABOsFSfAAAAh1BMVEX///++vr5tbW1eXl6wsLAm\n",
       "JiY2NjYZGRmOjo4/Pz8rKysuLi4nJycbGxuDg4MoKCgkJCSysrKhoaGurq56enofHx8dHR1RUVGf\n",
       "n5+Tk5NmZmaIiIiqqqoyMjIQEBBEREQiIiLOzs6/v79aWlrf39/u7u7c3Ny6urqYmJh2dnZUVFTM\n",
       "zMwAAAAbxorfAAAAAXRSTlMAQObYZgAAAAlwSFlzAAAOxAAADsQBlSsOGwAAGZ5JREFUeNrtnXu7\n",
       "qyiWh5n78/T0VFV3n6rqARWmugEBv//nm3hJokaMUTQiv/XHOXsnbkHgZV2AJXFVI5ZAIB4R7Ri5\n",
       "8iO6ypQ30c9PlL09trWW83LyL3ReGAyNlKQeIKW9OAZq4rNGOagin/4bYJAiC8lhoDobqaymx3sO\n",
       "DIBBOhi4SgADSOoY6CoHBpDUMTBVVjvELDP57SJJGaONK53T8vZjhqEBDK6PgWRFEyoqaKaqkjhR\n",
       "X8hZjUHzY04xNoDBpTEQxhjWTffi5iDI23+mvdzdALCtyaTftZwpP6iJmsHKGSr7v1PPz3OyldpM\n",
       "LazshDBgECMGvO8J2Pa6loo6eNTpgerNUHBF+/+NqBlnQhpjbT3Gy6mxIsvOPTGDBT7u+XmyGjlf\n",
       "dJ13+POmhZqllfnKztSfAoPYMWi6MOvm/vqrOwaTA8sxy3lzbdaOgHrEaD47SdObwmFiwttwjIlu\n",
       "MOZrMSDWbMAg4+2Al3a2siXVZWb89dcGGESOgRloAzqvDSh1jxHUjtyi/mCilE5qvFRtaonpYbgd\n",
       "g8KtxqB8rKS3wQFvZTPGp5/gXv9cAoMLYHDzlB8Owd1McvUsWN5mPEtYyZvBxnreQDtyVVUPgMIb\n",
       "VyplO7JkvgGDcTWGT3j7Rq7BgPFnrcVEZRVtpSbEOqLymfqbDBhEhoEbrBcI2ln67s5E3kxtta0h\n",
       "S12Hk4obF6yJLvXHWmsWuwYDMessm9tYySgpZ4aRFjMYjKsxHMxCEkY/x8D10e0N8enK1pZSqaUf\n",
       "YwoMosJA2byq7N2W1bYqbNbOfTf/sDENuMy0ZvWPSrJ6fNR6gdZ/ocu+a+qeGBRzLqUT9SRLSzWD\n",
       "AcmZ9GIwrsZAarumJnIxBvcoUMbNo8inczNd2dp1yKYCYw+MOTCITBt8IpZ1ISGRNQqAN3L72bUh\n",
       "lc4oqmZsAsX7k6jjd1EDDLKczfgGw2oM7lFrMWo/wOAZBdIPEDI7WdmpBp2uvwMGV8agHmS1e6gq\n",
       "4ur4ft8asUtc5GbyVd6v78NIFbMu8rAaQx+8c0384zAr5MCI6kWBnKWqP4rnKzvn28AoujAGquqm\n",
       "4pI30cT+XNl5tawOmD4tdmnu/9ynV+cclW+H0ayLPK7GwGqX9aez2qAN4+is3SwiRjZio9XEksrO\n",
       "1J8xYHBdDJrxXe84Urax3VUvUnMfucaw3shxher+6dTJ3MkmZfLKsPcYjKsxeELaDsG3GNz0jbxV\n",
       "5CVk1VS1NXGKD49hPevPFTC4sFE0Fmlqs1i/jtyNsmHdoBdR4rQsrW58WccyViPrTFa2RpFq3Yvp\n",
       "kNXG9S8Zu2sADFZrCnE2DIiuI0ZZHf5s5vxaC4jWbuqu0d6QFd3UTlQBg0QxIHk4e9jlWRAM6ohR\n",
       "s/rVBDBvo97l5LnES50/5EPMhnXgUhNgkCoGxIVaOlVuwlyf+Hn2HjUG9I6BvGuBnja4DfQ5cDdg\n",
       "IAkwSBeDs4m0wmlBiSkyolnZrADWvkG7UJ7fvF9BIMAAAgEGkPBSLRJgcHYMco2xvAWDYBftKUpI\n",
       "YDAnFHkdE8BgdLoPGIxkuN8GclUMSFECA6/Iolx758n7OmDQb10VBAMZIi6t38yHSWNg12+IMFM+\n",
       "BQ/AQfUN2QWDR2tsGmJlFWSnhuXAwPutDotBiP3G3+iPXTB47rvd8kg0UFZ+VWXAYFryDbvjJjHw\n",
       "HLxPE4NcBXgkVoXatccFMJj2jzcogz4GvbOZAY6mXwWD0gS4va4qGWwoMGAwOV1tmbt7GGTP9lUc\n",
       "GHSO7W8ywO1FFS4DEi+AwcfTwzoMepZA4hj8+iPA7QMqg1r5Z8BgInawqYk9GGQGGNTytyLE7W0V\n",
       "8mzT3M2ujcE///FPr9be5nx5MNjuJF8Dg+KvIW4vqpBH/W3lj2f/yz8S1QZlle2BAdXAgJAfvwa5\n",
       "fVWFPOqvZxyNZI0ivs3sbDCgopaiaP7rXiVlgQEhv/3lhBiQqgAGLzbRNvPFpw2ezsHhK7obxkeQ\n",
       "9WfvU3xlfXty5nPAYPzcZhcMNoeKYtUGvSErf7H9X7dogzLkYzJ/n6eKga30HhhsXziIE4PBtG1/\n",
       "UYPPzoKB88eKUsWg2PjcHgy2LyPHiMHQdnE/myEcZ8GA+JchEsVgq2vgw0CQ9DAYG/C9BeT2qw0Y\n",
       "/Aj6nLnXBEgUg2zrlq1pDAJsMY0Qg3HTlG8u+ACDsOF86o08JYoB3bpZZXprXYBcnrFh8BLMGWVJ\n",
       "rU6Egf/sQqIY5FUWDAPvCEjIRe47yDrY7UNj4LwrB4liUFRuBwxYCQwm3vhxGt9Aetchro3BH9X/\n",
       "fRozWChsCiNLgIFUITEoAz+ob/b7KUltoM6bQuoyp8/OiIHw2cJpGkXZedN5AoOn/P574FwfuS9U\n",
       "lCYGLOhGdmAQizawvgBhmhiYigODBDHw5rlIEwNbWWAQBINdt4kGx8D4rIA0MeAVBQbfLfNLGAhg\n",
       "0HeVgEGKGDDf+lmaGIRM/AEMdsQg7PLZbbRXwOApBTBIUhsAgxEGDBgkiEEGDIYYlMAAGKSCgW9P\n",
       "UQUMksRA+zBIc09RVf0vMEgQgz98WyrLRDH4OzCIAYMfwGBXDDJgkKA2cMAAGAADYAAMgAEwAAbA\n",
       "ABgAA2AADIBBpBj8AAbAABhAGwADYAAMgEEMZUZ2CBMYAINdMIjrEGaiGMhSetoXe4pS1AbezRSq\n",
       "vDIG0AbAANoAGMSNQfB0XcAgMAaT93XAoG+RKmiDq2MwmdGaO2Aw0RrAIC0MArzs5joYaAvfIE0M\n",
       "Arz67DoYPF+NCwxSwKD30qftL8K8CgbyJ0OAQUoY9F4BuP21yFfBgP+PDIEBttbFiEHPEkgbA/3n\n",
       "koTAANogSgwyAwxq+e8/EWCQLgbbneRLYFD+WQOD84g/XddeGFANDAj5r/8kcWGQZrou+rsKgQEV\n",
       "tRRF818bJnfPaPlK+QYG62XyTuY//j3Q7QO3hvz9dwKj6ABtsNk5iFYbPIftePwiUpQcBptDRZFi\n",
       "0B/49hc1+AC+QWoYbF84iBKDweTvfjbDT4FBahhsX0aOEIORCS9/k2TAATBIDQNB0sNg7Mea/spZ\n",
       "BQzSwyDAFtPoMBhTIPNhSwODNDDoba3jKjkMXmKaVr+Ash4DRIqiwcA3ESbkIvebnIe7PbRBlBiw\n",
       "EhhIBQzSwYBNnbe0BBiEvD0wODsGJxySwAAYTAvSdQGDviBdF7RBjBggUgQMgAGMImAQBQZI5QsM\n",
       "gMHO9QIGwAAYAANgAAyAATAABsAAGAADgsTuwAAYQBsAA2AADIABMAAGAWW/dF3A4FIYIF0XMEgH\n",
       "A6TrgjaIEQNsrQMGwAC+ATAABsAAGAADYAAMgAEwAAbnK7MKK8AAGESGgSxtLvKgRSoh+NtXoiBS\n",
       "BAxOU2aW58zJ8KVKbYRV0AbAIAIMXE7ljh2UWwkMgMHZMWB85/V2LTQwAAbnxsDS3QuXeQkMdm5i\n",
       "pOvaVObPfz+i+H/jR2GAdF3QBp+XaQ9qJWN8GJw2UsTdyYe+5BIYBCmTmaMqwLPIjCJ7fu3hhAQG\n",
       "AcqU4ripS8SFgTXHjuNVkglgEKBMemAbTb8ZYoiBJ2TljsegzPefGCzNq42RamOBweYyZX5kFcR7\n",
       "DIzebKWHwUAVhxzaYlsxIKIEBlvLLA81fyc3VizC4JPXLobBQDASBwZZIYHBxjK5PLIKmq7F4JOX\n",
       "8AbBoCxIJBiQnAKDjWXmx9ZhajAP03X5MPjglexBMChMNBjodvwDg9VlKntsHfLV2kDxQzEIMDqP\n",
       "Kyi3x2Eg6AUx0ObYxpiywZZhQHJ1JAbiqPkhBAZZc49DMJBVfkEMKnZsY9BqEQaaWakM44w4Y3gL\n",
       "RmYOxMBVLiIMZNONx6TrkuSKGMhjG0Mtw8AQblndvaWuIyEfOskB0nXZgkSEAeGCIF3XFgxOUIlX\n",
       "DLQmgjfQsN4c3kVb3xtHAdJ1FTYqDMqaALjIkWPwY4SBvOkB/bB5aWeAOdsaAAcYRa4qo8JA1vUF\n",
       "BhfTBjUA5AHAPXTZOgdZfgAGrDrMjjBBiqq1FzC4HAa2GeyiHvh1VFzerSFlRG7c7hjwo1wDa4sq\n",
       "D7CRtXYOECk6GoP1jbEQg0YDtJbRjYjmuEy3cJC/79PtGBTDRYqtu0CP0ClYN/iCNljdGMswUE28\n",
       "sh213JDGGuqWkReY0ksx8B4MlVXv8ULsAt1dytuMAaPoakaRFo2F3gxGTVnTvc1HRC8wVxZrA2mm\n",
       "98+50XIKOz0GdY2BQeQY/Hgxil6l22LKLJEhfQMmzOu12WjgnB+DWn8Bg8u5yBNOYNvHlBEjA2Jw\n",
       "+/AVhHK0hnx+DEhlgUECGNyPBzlavt3m8KmLnOVUjYa9ig4DDgwSwIB9EFT8PFKkh2n1zOjvI8Cg\n",
       "yIHBlTBg05P9J5sb1mAw2PpK48NACKTruhIGAeTTdF1ZPso1bEe17GEgc/EU13uGr0gPgwLaIHYM\n",
       "vpquqxQvWYxnMDitNgAG0AbrMZgMmMZpFAXB4LMNTurbGKjPL/gAg/0a41QY+JbPTHyRokAuMvtM\n",
       "cWj2XQzeV/e1hssx2LExzoSBdzMFG60bbN4FOvrzPOztGgyCrBssPOGnjKHtmUBWBsWAWUptO5qU\n",
       "FVVlreW8LsJZURS332xeFOWwuvWFosnDW29TfBmKLzVcjMGejXE2o8hzXR+D7btAR9OK3DoJTsw7\n",
       "QVaR74szUsxyKusF/W6lPZfhMHDNjuKbneq6bmzCg6poaqXb34jkZlxdU3VB9mE63u4pxjVcisGu\n",
       "jREFBlmlPy5UUZp7Uuu108rzgmzl9tznHV7mHVmZABjQ8v78s/3J6ht2m4xLGgwDdd/J1Slj1Q38\n",
       "sjK934i04+rm99sMYx3dU4xruBSDXRvjfJGiyRt8DGazDdxM4tNOK48Lpo5MlLR0jNHlRYznnTBb\n",
       "6+7bFqmYV0ZFXYdur30hQ2GQFz1/vzfwXSX6GBA6rm513xY/XFy6P8Wohksx2LUxTuUbiMk1gNbE\n",
       "+FDalYei8E4rvQtejkzIUtcW75ukqf0ixvNOrZU3Y/DQUmKBVZx1vdbzr+6rL8tTSlWDG5rnDMt6\n",
       "A183Y6z9TdcpGkbV1XctIofVvj/FyANciMG+jRGFUUQ+fy9u0RRpp0ZiMb7gpXZKsrrAN/GoQRHF\n",
       "OKSrtmNAmw7Xllfcvot66HsCYfOcglU7lyjh1mBgn9V0vYFfK8Ds8RvT4+rW33fllb0ve09h7BoM\n",
       "9m2MODD4PD+LFW1XOt+08rygPTLh+F3qwVu39LujFIMiRlOcDXH6LH9Yw29bmFl7H3u9GaPp8w8o\n",
       "GIyG/GlRqqp4DHzJ2tDQ7TNr877Vea+uKMbW0vApRgn6F2Kwb2PEgUG5cqFAeKeV3gVTRyaK2weU\n",
       "LnmLQ1fEaIqrT41uTtcluuvoEl14P5OR9eG99fonFPgxaL0BYYy5R9kaKBTXL9WVD6dh5BrcnyIr\n",
       "1mCwb2N8FYOflidoydYVzPzTyuOCiSMTTRYz4TK3uIjhFNcEWTan6yr0izXs2UL1tNFupQ4qIrwU\n",
       "vNkU1TeKdNVmqeKDR7z7Bvdlk666d7ucKDbpGoxq+LYe/saYaY0gjREYg6+l65pMfCqy0QUTRyZ0\n",
       "Y/eacnkRwykuTLquruflu3Cxa6rP29sOTbmZnn/vItOnp1N6MJDyuUGyq+7DNTCDx38+hV6lDfZt\n",
       "jIkCh4ndT2EUEbomQwvlvU7Ix9PK8IJ3JHvmnccdhvNO4zZsxqADtrGG54zCtnm7ns9EIKOozYqj\n",
       "s4e1P4VB04tuUF1TTdpEz6fIxAajaKfGiMM3uKnlzxfQyn4/PFN3PDEoN2eEfN5hOO80ltJmDDh7\n",
       "WMOz5lmrKjs7oOSBXOTbQDck05I9l8+mMciH1b0vb3URStlzDdqnKPkaDPZtjEgwWJGBpt3govxG\n",
       "ke+CVUUM5p0yTGL3zu22Nxd+NkTYvCjsbpL3IgDbAqa3P8wZq3MvdBOHGyTDcncMTDGsbvuyH9UF\n",
       "ax5q+PkU1KzBYN/GiAWDj2NFrt0PI33Tiv+CVUUMpjgR5jUfrkVL8XcvxNOU0nvMRjzV5j1sqPJ1\n",
       "GNyejVvWrNq627jOq+rxSl7XbbSzvHjoCHefCQy39DFURZda7fkUQq/BYN/GiAWDT1/6pAStRXin\n",
       "Ff8Fq4roT3HBXvok3IpKbempyf6ot7Lx9dXN5HwNl26m2LUxosHgQ3Ug2phX7p1W/BesKqI/xfH7\n",
       "3putGKzYJ0fL4BjY3JVifXXNmxouxWDXxohia11rcoZ6B6DY4cU5/XlHV8FeCMs/9Vw+eCPdYgyy\n",
       "G+tsdXXHlvxLDRefN9izMaLRBsSFej14ScNj0J937j54AAzkp6Oaq/AYELp01WaquuxdDRdjsGdj\n",
       "xIPBzV8LVB8e/GUJ/Xnnsa0ixCFM9dmpSrbxybaeP3pf3dcaLj+EuWNjRIQBsYHMIslDY9ADS+ck\n",
       "IAYHCzJTRIDBkncp7DHHfjLvuOcBHKTrAgZ9+TRd18ys68i5RfaOoUEbRI7BKSNF0QkwgDYABsAA\n",
       "GAADYAAMgAEwAAbAABgAA2AADK6AASJFwAAYQBsAA2AADGLCQFBgsL0xgEHcGMgtJyauhsH6xgAG\n",
       "u8nmdF3Luh5GUYDGiCNd16W0weJ0XfANLuUbBEjXBaMIGBxciTOm6wIGaWFw8LvtFHwDYHA+DDJ2\n",
       "bB2oAwZRY3DNSJE2xzYGl8Agbm1wyXUDZY9tjJwAAxhFp8OA5MfWQQADYHBCDPihPrKmk92ErXXA\n",
       "4LtlsvLIKlANbQAMToiBPNQqEgQYAIMTYkDogW00rXqAQRg5Zk/RRTE4UB1IQb6LwU+JagOk63pf\n",
       "JjNHVYBnx2DwB4wiaIOPy+QHtZLx8IZIETA4Q5l/+vsRxf+rL6EtfANgcIoy7f52keTe3UvAABic\n",
       "o0zDdz6ZoYX/BavAABicpEyd0x2Xkx23M5gBA2BwmjKzPGd7qATpTG5nbwwMgMGJypSlzbu3LQYT\n",
       "IfK363OIFAGDi5e5qF7QBsAAGAADYAAMgAEwAAbAIFgwAq8ABAY9CfcKQGgDYABtAAyAwWGCdF3A\n",
       "ABhAGwADYAAMgAEwAAbAABgAA2AADIABMAAG927C1jpgAAygDYABMAAGwCCKMpedLQAG3xWk69ob\n",
       "g11vj3Rd+2oDvAIwTQzwCkBogxgxQKQIGESOgVTxGEXAYJ1M3tcBg55wBwyujoHRcx0PDAjRFkZR\n",
       "mhhkFBg8JFcBMPgHMIgPg+l3tqSJQWkIMEgJA/00YE0GDDr/+DcJDJLCoPc+ecWBQSu//iAhMICL\n",
       "HCMGPYM4bQz+VhBgkC4GmQEGtRR/BQYJY7DdSb4EBj9+JcDgPLJfui4fBlQDA0J++8s5MUC6rj20\n",
       "ARW1FEXzX7ta5J6LRivlGxisF99tAt2+Cj0eYBQdYhRtdg5i1Qa9ISt/sYMRvEEbMGAQJQabQ0Vx\n",
       "YjCYtu0vavDZ6tuLigKDGDHYvnAQIwZD28X9bIZwrL69rXJgECMG25eRI8RgZMH3FpDbb1bfXvtG\n",
       "LTA4NwaCpIfB+K9N2W/oTbcXgZ0DYHAIBgG2mMaGwUswR+bje6+/va4KCQziwKC3tS7Au7SjXzew\n",
       "OuAjmcoCgzgw8E6ESWLgeNBHskGDRcDgCAxYCQykCvtILKQ+AAaBMWBT5y0tAQbBH0llwGCjIF1X\n",
       "/Bgc4hsgXRcwSAcDpOuCNgAG8A2AwT4YnHXTLDAABjGUCQyAATAABsAAGAADYAAMgAEwAAbAABgA\n",
       "A2AADIABMAAGwAAYAANgAAxONNaAATBIR/zaQAMDYACjCNoAGAADYJAqBgQYPKSoSmCQIAYaGAAD\n",
       "YAAMBiKAATAABnnoVMnAIArJqgIYPIVXBhgkiEFZCWDwFBs6YzgwiEKYL0V2mhjQsDkBgUEkYioO\n",
       "DBY0BzC4tFCfFZAmBmXo90cAgyiE+0IjaWKgfRGDD+Tlzg4YTLRKcNnS7rlv90CaGKgAuXNekvly\n",
       "BwxIvvsOzi3tXlQOGPQ7vlLBuyOjwKB9H64py+w4DD5od+8+60QxENt3Wr+mdhfAoHk7OnW910Pv\n",
       "j8HydldeWzhRDOz23RSv3WGy5DFoRiTPyx1Now3trr2RkUQxYNvXz167Q/HUMWjtE1dUhToQg8Xt\n",
       "zrybBxLFQG+PmE687yZXiWNgaw9USaIEOxCDxe1uvcdMEsVAbg8VNd0hGW2sK9tYAZlJG4P23W/i\n",
       "1jDG7YvBunYX3pPIiWJwaxEVojsMyYpeK4q0MSgbHVBmewaKNrS79K8WpYqB2ewj193hMkLrLrB5\n",
       "L1CSLgb5EWkf1rd75t9JlioGevPmuro7bt1e1DNg0ZnCAeKEEWOgDtmotb7d/a5BshiQogrQHTVO\n",
       "so5Hd6bw00itVss3MIhBlrX7nMx0ebIY0MqFwKDRzawKFyqKWBuIQyq7ut3djAGQLAZ66wG0tjt4\n",
       "3bSck2bBKIRVEC8Gmh6IwYp2ZzNZeZLFgBRFiO6gtl4uMqRhKsQycrwYWHcgBivaPZ/p8HQxYBu3\n",
       "FbXdIa1hmbLMhbIK4sXgGJtodbu7OfWfLgZkY6zodTUzyBbTaDEo2ZEYfN7udi6Lb8IYmG3ZjV+7\n",
       "g6uUMcjltzBY1O5ydtZLGAO5zUl+6Q6Zk4QxUEed7l7Z7mx220DCGNxaRobsDlamjIHJvoXBsnYv\n",
       "Zi2nlDEgYos6YOPASJiTJt9cmdoih2W8Wdfub6a8pDHIKkUgKYh8s4UsaQwI5RghSYh909FpY0BE\n",
       "iSGSgOhCpo1BI37r0RUSg+T6ImZWSsXXdjQeZxKWjcw0goZ3kIBnMLdfoB0iV7YK/h+ymks5TQaj\n",
       "dgAAAABJRU5ErkJggg==\n",
       "\" style=\"display:inline;vertical-align:middle;\" /></a></span><br>"
      ],
      "text/plain": [
       "bound_02: |- [Prob_{m in {0 .. 2^{t} - 1} | |m - b|_{mod 2^{t}} <= (2^{t - n} - 1)} QCIRCUIT(VertExprArray(([INPUT]{state:|+〉}, [INPUT]{state:|+〉}, ..(t - 3) ×.., [INPUT]{state:|+〉},[MULTI_QUBIT_ELEM]{element:[INPUT]{state:|u>, part:1}, targets:{t + 1 .. t + s}}, [MULTI_QUBIT_ELEM]{element:[INPUT]{state:|u>, part:2}, targets:{t + 1 .. t + s}}, ..., [MULTI_QUBIT_ELEM]{element:[INPUT]{state:|u>, part:s}, targets:{t + 1 .. t + s}}), ([MULTI_QUBIT_ELEM]{element:[GATE]{operation:QPE(U, t), part:1}, targets:{1 .. t + s}}, [MULTI_QUBIT_ELEM]{element:[GATE]{operation:QPE(U, t), part:2}, targets:{1 .. t + s}}, ..., [MULTI_QUBIT_ELEM]{element:[GATE]{operation:QPE(U, t), part:t}, targets:{1 .. t + s}},[MULTI_QUBIT_ELEM]{element:[GATE]{operation:QPE(U, t), part:(t + 1)}, targets:{1 .. t + s}}, [MULTI_QUBIT_ELEM]{element:[GATE]{operation:QPE(U, t), part:(t + 2)}, targets:{1 .. t + s}}, ..., [MULTI_QUBIT_ELEM]{element:[GATE]{operation:QPE(U, t), part:(t + s)}, targets:{1 .. t + s}}), ([MEASURE]{basis:Z}, [MEASURE]{basis:Z}, ..(t - 3) ×.., [MEASURE]{basis:Z},[GATE]{operation:I}, [GATE]{operation:I}, ..(s - 3) ×.., [GATE]{operation:I}), ([MULTI_QUBIT_ELEM]{element:[OUTPUT]{state:|m〉_{t}, part:1}, targets:{1 .. t}}, [MULTI_QUBIT_ELEM]{element:[OUTPUT]{state:|m〉_{t}, part:2}, targets:{1 .. t}}, ..., [MULTI_QUBIT_ELEM]{element:[OUTPUT]{state:|m〉_{t}, part:t}, targets:{1 .. t}},[MULTI_QUBIT_ELEM]{element:[OUTPUT]{state:|u>, part:1}, targets:{t + 1 .. t + s}}, [MULTI_QUBIT_ELEM]{element:[OUTPUT]{state:|u>, part:2}, targets:{t + 1 .. t + s}}, ..., [MULTI_QUBIT_ELEM]{element:[OUTPUT]{state:|u>, part:s}, targets:{t + 1 .. t + s}})))] >= (1 - (1 / (2 * (2^{t - n} - 2))))"
      ]
     },
     "execution_count": 28,
     "metadata": {},
     "output_type": "execute_result"
    }
   ],
   "source": [
    "bound_02 = _success_def_equality.apply_transitivity(bound_01)"
   ]
  },
  {
   "cell_type": "code",
   "execution_count": 29,
   "metadata": {},
   "outputs": [
    {
     "data": {
      "text/html": [
       "<span style=\"font-size:20px;\"> <a class=\"ProveItLink\" href=\"../../../__pv_it/_proof__success_prob_guarantee/caedb9db04690ea55e138f941f4bf283b69dda030/proof.ipynb\" style=\"text-decoration: none\">&nbsp;&#x22A2;&nbsp;&nbsp;</a><a class=\"ProveItLink\" href=\"../../../__pv_it/_proof__success_prob_guarantee/bebc6d161727ad4e2c47be629390654eb6e91c210/expr.ipynb\"><img src=\"data:image/png;base64,iVBORw0KGgoAAAANSUhEUgAAAY0AAAAyBAMAAABSYpr2AAAAMFBMVEX///+6urqqqqpmZmbu7u6I\n",
       "iIgiIiIQEBDc3NwyMjJ2dnaYmJhUVFTMzMxEREQAAAC0ii6rAAAAAXRSTlMAQObYZgAAAAlwSFlz\n",
       "AAAOxAAADsQBlSsOGwAABYpJREFUaN61WltoHFUY/vc+e8v2RYJPzVNLCpKF1UgN2HmNl+6iIt4w\n",
       "sZUU0ZAVCmqpZkAt4kMaaihii+6D5CmyCxVLoZoFL1EUslAsKGj2QaUPKkmbQuMtnjm3mZ09Z+bs\n",
       "MOc87Myenf//zjfnv51zFgC1oQ5E25K/yH+LGuywyW+/hajbVVP6U9RgxWfZXaER5Thxi0/Lfhkc\n",
       "LAhrH7u5NLDZfP5BgG5Ykf1wKXKsXJtcjZcHn8ypIB7plrg/BFgg1vMUsqaBR/y4hF8teqz95IGL\n",
       "oIEHvCPuvqgBK1vGlxNaeOy1hN0nNGDFbtmfqW0tPLJtUW8YsGCs89hi21p4xIUjDgMWjDVmP7HR\n",
       "0cIjeVPUGwYsGKtqB4810MIDfhN1rmnBGrKz7klNPFZFjn5SC1YeOXrxb008qoJMGApMwYaR2tSt\n",
       "MDyaVuAjGYFLhwJTwELTPFQPofq7+fMtJaP19tX1YCFfzHTVqsqBW25TMEddT6kdUWsiMy4rVrCD\n",
       "tvyW68sosQ0C9sDB7YixVvfARk3Zcwdc37gSyCd30vRRC53VfRvSOzaiiUfyBr999EOWeEf08EDz\n",
       "vNrRxAP+YYSWea1OwSLnUWrDlKWLx3+UxrgTbihY9Dy60DR18XiF0PhmxBVXTD08MotwSBuPGXJx\n",
       "8zikiUd6GtZ7sv/kjN1m7dvd8I1kjmN0Re6yq3X3KiR5FoPZLlMKj0V41D08omzH+v18HTTNR12/\n",
       "Xbnjrka7alp6/bwnDzYtbX4+1VGrKg16fRfUnutda4wSFAqWCyp76ViybEz3rXzh8xiurWlqCqwq\n",
       "H6LGvhm0ecGd4YagDsJghbUd/03eFA1xVdZRhnHRc7fx/FGGsT0yba8f/MO1bdAAo/J+B+KLPvhY\n",
       "4knm3n8JNgRkYFg3bweoqlHWsQWnOwKBFHv11QZsyKbBQDnSgZ0EWIDclrH8HlWYn/j+YaFE1uyv\n",
       "E3k9JwOzdTuV2SJR9fZzH9Gej/t4EIElp04slSWqCxZknGXPBMDXAC9BlmW1+4dbGUskkacK49fJ\n",
       "oGZ4lgA5GNbNWqJFVZ1xHlgWClxw6s+0zFAy21Bw/BExmjdh3SqxsPbG41AyhRLH5WtYKRjWzfUw\n",
       "VU5Y61t5EYGMyeu2gmypWZiGwr/cPdAAvkJ5rDMM8POfqFnwJQyLJc7Rb4KIIAXDunlwo6pidSja\n",
       "WNeQGZlCgWyL59e8TyxP86EkGvgyB08lGdyrUCkKJVZ61rC9a0QfsDl+dw9VlWo/yDyvbFgiAXb0\n",
       "8Rqaseu+yyzaCHHkunfl6JsxNmH2DqEEPak5LTgh8AFzhYVzVFWixuqAhZ+umCKBPLFT46b/1tgL\n",
       "znvG7p1uw5VPWZ5owxMtocT+UPtwaWeb6AhVVZxgcz9P60GvQLzO9+HgbqnqBLaMqs05gyPwvaKn\n",
       "XCUykdjgFtzf5GBYd3LH/nzRAfcslc+6Yp8tUNxkjgmwV5oILxPeZcYj3w6qc7AEdX/hPrUUjOo+\n",
       "ynlcDtqOsQViZD5KNTZOUUMp/K0euzoAhn8RRiT2+bi0FMyt+4gHXC5Aj4VXTb8Y8iPAI3wjEDEu\n",
       "NiDlXxQTic+89q4QsHp0/+oBlwvkuy4/lhx1GUcrFb61aQe4U5XKuH+pSyRI2BzsXK1H94oHXC5A\n",
       "0gE5VyOzIjABtGjk6beIlM7t7u74r2aIxDP4y++SnT8xWI/uqx5wuUAau9sQmfpsQ2GlMqu8pjHw\n",
       "e4xJDEgFLK18aHWKTD15N0WVo/kLyjwSLSfhCOxaASxfVsWacOUbgKcVJIYsVd0LzMbFTQXsmurU\n",
       "d5nvkjSiMNfJrioPPIiY1LhVwA4rQpGXezv/fkZB5k1F3Sms+wd5gFYAMxT/vPEYttQlh1fk/yNb\n",
       "8nmJEYNN4lf2P9X5ImZ+sesPAAAAAElFTkSuQmCC\n",
       "\" style=\"display:inline;vertical-align:middle;\" /></a></span>"
      ],
      "text/plain": [
       "|- (1 - (1 / (2 * (2^{t - n} - 2)))) <= (1 - (1 / (2 * (2^{t - 2} - 2))))"
      ]
     },
     "execution_count": 29,
     "metadata": {},
     "output_type": "execute_result"
    }
   ],
   "source": [
    "bound_01.rhs.deduce_bound(_n_ge_two)"
   ]
  },
  {
   "cell_type": "code",
   "execution_count": 30,
   "metadata": {},
   "outputs": [
    {
     "data": {
      "text/html": [
       "<span style=\"font-size:20px;\"> <a class=\"ProveItLink\" href=\"../../axioms.ipynb#_t_req\" style=\"text-decoration: none\">&nbsp;&#x22A2;&nbsp;&nbsp;</a><a class=\"ProveItLink\" href=\"../../../__pv_it/axioms/536ff1b8d0476ded2e01a40fc226c6e47c8b6b3c0/expr.ipynb\"><img src=\"data:image/png;base64,iVBORw0KGgoAAAANSUhEUgAAAQsAAAAzBAMAAAByJTAVAAAAMFBMVEX///8QEBCYmJjMzMwyMjKI\n",
       "iIhERERUVFS6urp2dnZmZmaqqqrc3NwiIiLu7u4AAAAqt126AAAAAXRSTlMAQObYZgAAAAlwSFlz\n",
       "AAAOxAAADsQBlSsOGwAABN1JREFUWMO9mV9oHEUcx393e5fbu73bJCoGH2xPRN/qXbEgFOQCglIF\n",
       "PYTikyZVpE+119KihdgEKda35kVCheo9FCvByAr1wQfJ+tIH/9BUDcHaNftQWyxtriRNe03jnbM7\n",
       "++e3tzN7O0vpD8Lu5ea789mZ3/x+v5kDEDJ1ZWUF7pORR5l9G73D/G+p270lqgm9ynv0ur/bXQC4\n",
       "EomSK7MxpsQ1IXve7VkmGNLfUU2PgDjGkagHou6UBYQBP0SI0qPiGDyNbVdPd/wPMxgj3+CrftTF\n",
       "MXgaalmEUSojDPiNL1oEcYxFiIuhbMEY33KdND0kjsHVhDHgZYyRafI0qWlxDK6GgXFCRxjyJk8z\n",
       "ZopjjJnxMTINhAEv8TRLII6xBPExlA7GmOe8gLQmjsHXMDDUdYzRqnPC4ZA4Rm5IAAP2YYyBBY63\n",
       "NcQxUg0RjIqOMNIcH62VxTFqZRGMVhlhqKscp9fFMcb0aIz8ZnjsHAwYYUv2gDjGnmiK3IFbB9FH\n",
       "6g4uxj625tFIjB0jfE1x9sVqnFyfv4kxvrBm5pJ1dxlNrboRPRqscONozkG+HQcj3cYYlSk3lKin\n",
       "/MUrrfeqPgpg7GWFDaqZABh28kWky9LmLkaN9F1w7t/83Itx93pV3/XFcDRbTZikvqrUIwvBDYzR\n",
       "Ismt5KakbS5Hei02hrc8HM2HAJPVGBhwB2MMNuD4/r2u4OzXzhK315b8xvVP3+VhXNv9FcDxmae8\n",
       "Ci7rrcdliINxO4AxThKL/92xo9SNbW/JDxyGls7GkC7BQF3qwEOy5/qdHsfqg/EIxkiR8vE0wqCl\n",
       "e8F+5CelcThfZWOQiZTWcgvWHDhWcDFKjVgYBsYokeuf3ldnJ5xQYy9qszVFU/CcYQwbxhLGqGkA\n",
       "dwMYVEPsSxvKMC48bhgW0WC3x2jDCwGMIVC9db7tm+AjyWwd4vjGPLncljtWNfvvzFGMkXYzXJ/R\n",
       "6MVQboLZs2CdASYMqyobwxqNDfXMDIkNTZjDk/I9FPUkk1IYVao94cvJQo+RyJZnY6SaILcVO7+0\n",
       "qQM5GmkasmYSF801/ukN5lk7BhTXIDv6JGelPAyZafmFX0iPz1AMqoFfZ2fnYk3KSACjAcW3Q1GX\n",
       "hiLSRj2oMTCeG56An05+APBa9z+rr1MofC17W+0+GIEoOsjcIijt6CjqJmtN/XnR3ZyGNB4GM+mq\n",
       "dwPBnLm3kFajU5tjH5O/p0lSNZkaL7Uxk244tVG7YVj2OxqxvmXPDfKSr0CxSZcGV+Mn3VAmdDHm\n",
       "Nabyj1gY6sndn1Xh3LM7zUiNn3RxZbqJMTgF5AGBInBrtxut8ZMurgkD1dckW1kxxWvRSsTecdm7\n",
       "K56hFWlqHGNwis6almCDoPUptWx7whmX83WEUVx/INulkveVdE9ku1RIsHnka2jSVa2wlrvzft11\n",
       "GB8jx9k8ym1xDL7GSboX8ZAFttKDvIB7McHBAlfjJV3SoRMu04GDBa53VxIcs/A0ftIl8b8Z8BYH\n",
       "Y+lBHDr5SZcgbYEVgUOndCfBERxHs4zPt3e+/hb4WwyKMcBfY7sSHEjugrgmdzDGCX7g257geHa7\n",
       "HhejpGGMvyIORcbFMXiasMU+rL7/R/d4TkYxxrGophlNHCOjxcPYYSIM6dXItuyfaBRdXBMqAL2O\n",
       "VVKhXbaZ/geKx7uLJHCBrgAAAABJRU5ErkJggg==\n",
       "\" style=\"display:inline;vertical-align:middle;\" /></a></span>"
      ],
      "text/plain": [
       "|- t >= (n + ceil(log_2(2 + (1 / (2 * eps)))))"
      ]
     },
     "execution_count": 30,
     "metadata": {},
     "output_type": "execute_result"
    }
   ],
   "source": [
    "_t_req"
   ]
  },
  {
   "cell_type": "code",
   "execution_count": 31,
   "metadata": {},
   "outputs": [
    {
     "data": {
      "text/html": [
       "<span style=\"font-size:20px;\"> <a class=\"ProveItLink\" href=\"../../axioms.ipynb#_eps_in_interval\" style=\"text-decoration: none\">&nbsp;&#x22A2;&nbsp;&nbsp;</a><a class=\"ProveItLink\" href=\"../../../__pv_it/axioms/9d5ec70dac6f6bf937c670e5f1e42dac8ce086460/expr.ipynb\"><img src=\"data:image/png;base64,iVBORw0KGgoAAAANSUhEUgAAAEsAAAAVBAMAAAD85A5eAAAAMFBMVEX///+6uroyMjIiIiLu7u5E\n",
       "RER2dnaIiIiqqqrMzMwQEBCYmJhUVFRmZmbc3NwAAADLcLLWAAAAAXRSTlMAQObYZgAAAAlwSFlz\n",
       "AAAOxAAADsQBlSsOGwAAASxJREFUKM9jYMACHqBy2Y0nYFPF3oAmwCaATVkbUCL9HpTDaYJDGYsC\n",
       "A4MGgzPEZp9LX3Ao493AwG3AwBYAdQGaMvZgYyMwg4uBgfUAA8cXrMoY1R2grCYGBv4LDJw/UJXx\n",
       "3TkN4j6CqWK4xsDgD1T2G1XZLkig6MHN1WZgeJ/AwPkdRRnMcAW4MguIsm8oynj+nCkABc9iY2Nj\n",
       "U7DEQqClCQyMqKZxHYAEVgDctIVgL3CgeoE/AcI1QLaUNYCBGzVAWC9AuOVwZeEMDNwLGHgVGByQ\n",
       "vbCEwQXEZYLHdw7YRK8JLJ/A0f4PEiBzq0vAjjsqAlU2GYh9008yMBgDjeM59ek0SmQxpkIjixmW\n",
       "ujgc8CUk7gswWfzpLQ5Ku+NX5gqlC/Ar4ytAS/RWAgAq4EbgXI6PMwAAAABJRU5ErkJggg==\n",
       "\" style=\"display:inline;vertical-align:middle;\" /></a></span>"
      ],
      "text/plain": [
       "|- eps in (0,1]"
      ]
     },
     "execution_count": 31,
     "metadata": {},
     "output_type": "execute_result"
    }
   ],
   "source": [
    "from proveit.physics.quantum.QPE import _eps_in_interval\n",
    "_eps_in_interval"
   ]
  },
  {
   "cell_type": "code",
   "execution_count": 32,
   "metadata": {},
   "outputs": [
    {
     "data": {
      "text/html": [
       "<strong id=\"bound_03\">bound_03:</strong> <span style=\"font-size:20px;\"> <a class=\"ProveItLink\" href=\"../../../__pv_it/_proof__success_prob_guarantee/b629ca221597b95fabdea20cec9e4586c03220af0/proof.ipynb\" style=\"text-decoration: none\">&nbsp;&#x22A2;&nbsp;&nbsp;</a><a class=\"ProveItLink\" href=\"../../../__pv_it/_proof__success_prob_guarantee/df08ca495ec940b462f05d440965e495db460bcc0/expr.ipynb\"><img src=\"data:image/png;base64,iVBORw0KGgoAAAANSUhEUgAAAPoAAAAzBAMAAABMJQhyAAAAMFBMVEX////MzMxUVFRERES6uroi\n",
       "IiIQEBCYmJhmZmYyMjLu7u52dnaqqqqIiIjc3NwAAACW8nlqAAAAAXRSTlMAQObYZgAAAAlwSFlz\n",
       "AAAOxAAADsQBlSsOGwAABDhJREFUWMO9mVloE0EYgP8cu0nWdBsf2hfBloIHirYKoojVIBTpgzRW\n",
       "g+JZD0QQNAgVBcX64I1aBBVUcFFEW9EuBV8q0j5YQUQbEMELmxehKGgLlUKtXScze6Y7m1mZOA+b\n",
       "JjM738w//zkF8NU6OzsV4NMkNJfPV3ZoWju1M5RgmuMuWX9I0375pG/w6pzDNkdgs/FXA0d6UPV6\n",
       "s8I6sf5S0I96HfLc2xZ9WjV/unzA881Bm7Zu5E8Xssz0Fwp3+mFgpsfauNP3s9PDk7zpZePsdLjC\n",
       "my5U+6APKJzpVQkf9K4sZ/ps8EEPpTjTd/mhRyb50gNjfujSmEnPUcbn/NDLJovQe3NTJYXoZX2U\n",
       "8Wv90EMt3vCag1cytq9LDPor6nYyrvTANTfbEuvwx9C5RUwn2KvTJZQtSNtdh9zAz45Mwd5jbvQu\n",
       "7DzlOuhNstBPJAk9iiaPu/upI0RDnmSd9JAbvQoPCuZA1I9gjSedDG8AET2jKdchoq6m73qK0wew\n",
       "9ojjENTV77UnnYiqAV7mvaR7VhIzZN7aQ6HLliixqwumIDjCQi+vJvQLAKtXLXbG5rXzvr/N2nIQ\n",
       "eHnJSZcuvk9CeP6cz6bQBg2DEoaZ6HWEfj0vtoI+dXFWQgKMWOlr4zwHvSIH9VCliBlTxXoVx4kW\n",
       "o4vthL4VPc85u8LJ9SAjAcYtG25c7qBvyUeVWXlBG+2yQW8GFrqQIvQ96LkF6/bVdL6h85OkUWwG\n",
       "gWFT8gsdkg9MINmpDnqt/hnFIj2VTu9Np/FCtMJG6C0mHcGcLT4MQSSasLH31vNOrYuP5k+uSREy\n",
       "ID2tUez0Q8C29xZT8gjmLI8QujyjQDxFsTi897YH81H5ENXNVZd8XIUffiRfj2ZojztTA1FF2YcK\n",
       "kTqat9kH0JR8jpU3KY/YgsgMgI9+tK4bbbX6kbPvZwI+RBIQVV09LaJXJuAmNM78huxCIfRBvH55\n",
       "09mzKSa6bu8V6J2lBfEExZ47x5B4kq5RZvaunHyhOwkxTduWr0xSlrcRNLPKLGLvuq8T6PnYV+8I\n",
       "uwIe92eNAm2gcKUm3TXsdamEHmmj0s940sNIK5BmyMQTVBWGYyPKuIc9I8rASmphRkL2PewG1k2h\n",
       "S+inWB8MESUvp23CFvamBCVEv0tNV3Lekn/47NNJkBdNx85AoF0q2MKePcvL6XSZVv19YcmsRE3D\n",
       "HjFIy6xsYc/WavnmtBGPQkowPTYM1RD92M05o54olsjgNe7UVerP/6smmq119JWmmoDT1B4S9rry\n",
       "allbs8BQBr70JmouS8Ke0GYTUDnvKlKgGbwV9gB+G1kg7wqaqvRW2ANY5tSE0t+c2MIeQKUiKSW5\n",
       "OTGkOeVENNvlauDiccWWk3Okx1TmWZr435gFDjDPsrUEN6VvWScpxU1pkVtiW2uEEtDhFtscgRv/\n",
       "Sn/j1cn434EO0zju/wVH7j/1+a292AAAAABJRU5ErkJggg==\n",
       "\" style=\"display:inline;vertical-align:middle;\" /></a></span><br>"
      ],
      "text/plain": [
       "bound_03: |- (t - n) >= ceil(log_2(2 + (1 / (2 * eps))))"
      ]
     },
     "execution_count": 32,
     "metadata": {},
     "output_type": "execute_result"
    }
   ],
   "source": [
    "from proveit.physics.quantum.QPE import _n\n",
    "bound_03 = t_minus_n_ge_log = _t_req.right_add_both_sides(Neg(_n))"
   ]
  },
  {
   "cell_type": "code",
   "execution_count": 33,
   "metadata": {},
   "outputs": [
    {
     "data": {
      "text/html": [
       "<span style=\"font-size:20px;\"> <a class=\"ProveItLink\" href=\"../../../__pv_it/_proof__success_prob_guarantee/c4863f12e67f968990a396a46b8cbbdb564909b30/proof.ipynb\" style=\"text-decoration: none\">&nbsp;&#x22A2;&nbsp;&nbsp;</a><a class=\"ProveItLink\" href=\"../../../__pv_it/_proof__success_prob_guarantee/46390a27a3a372dc0cbafdb5cf3a8b145fc485c20/expr.ipynb\"><img src=\"data:image/png;base64,iVBORw0KGgoAAAANSUhEUgAAALkAAAAyBAMAAADy9Gd0AAAAMFBMVEX///+YmJiqqqp2dnYiIiK6\n",
       "urqIiIhmZmbu7u7c3NxERERUVFQQEBAyMjLMzMwAAABfdDLwAAAAAXRSTlMAQObYZgAAAAlwSFlz\n",
       "AAAOxAAADsQBlSsOGwAAA3dJREFUWMOtmE1oE0EUx1/SbLpNm228FCmWBvQqDVQQzKEVFr+oNEex\n",
       "h/ZUxEtzqBb8XFFQFGlQoViV5lCx6sEKKtYWoujB1lpDKX6CzUEQ1JraNm1Uatzd2ezMxv2YWXyQ\n",
       "nd3M29/OvHnzn9kFsLRABiiMHwJXdpfO7ZPkBl4ZsakUduin3mY39DqbunNH8/gi6gJeMW5X6yfo\n",
       "vhA73ddBS/c+Z6evA1o6vGGnP6WntydY4YbbHaqDw8xhH6ane/Os9GyGns4vs9LHWAI3yEp/wUKv\n",
       "ZxxW4QcLvZdxPvl/2teXGeqrGJMm8Nhe4cZWSQUNlApZ3cSdmQmlQ3OmEa5KqlrT855K48vmS/9J\n",
       "XoG2WkWaP5j598aVYz+U5Wjonn+8khchICjxum2a7qqGjQBMomvOdtyEZRN6eSJtRW8IK8dXEqRQ\n",
       "snltFZNfKSbDoLgb05NGOk7bejXe9wBSGQo6/NZ6+FrCba88o0XmdOcBgLZozQbdvav4oFagof9C\n",
       "xTWJiMyXjQmVLuyEQIeQhyec7t4kGSPqQH+Jinc47ldnlvaBSvdFQPhT2awEomjHJaNUOtBFVKSJ\n",
       "UV1zHhA9Kw/hopGe0spDyqFcFFueiaLyoOpCiaFMb0EdlZ3EXRo9cCKE6A0xOXJcHrYCnIw+JOme\n",
       "4hR3aDui80mi7UJ8CLd9hT8clR8Wh24yMuuhIsEQmWYy34/1I3pVHLicN6Zc5GBATcEmFSpEwC8x\n",
       "jGonST/rD6GcmYJghPt4WQat1ehd6vFST083VWQ0rQqGdXofeELXAb5OjkBf432A2cKSgthEzKbW\n",
       "QmGViq7NVf7RHl0jb8Kt2TBW0TB/YZu+QWyIGW/X6aayyS9qJ9wWTQlKba/8q5VlEcU5W6JauoqZ\n",
       "yqbguGyfkps0DRVxlCTVcQs3LJtkzxYcd/mNnZsz0P/9s9p4X9rCDcsmwzqp31wooKXNauXDskku\n",
       "hPNs66rHZnvVik/7RkN4nWTYcSzQLESeKVQOdPy33RKxw8yG3e2W4IhljSqbvDrLUqMPioPBZu0x\n",
       "qxFBTd9OdpB5l+qzSnhdNmVbdE4BtqTBsinbDaq9PsObDZZN2b5JvOTqzQbqzV+hsWwqHTlYI1nt\n",
       "iOwtGKH15PLsdGGcOgHCLl6299M6unmTt/8KQQYm7eoLyjSd25yrLyi0X3/e2lT+BV/sEsUs6/Cv\n",
       "AAAAAElFTkSuQmCC\n",
       "\" style=\"display:inline;vertical-align:middle;\" /></a></span>"
      ],
      "text/plain": [
       "|- log_2(2 + (1 / (2 * eps))) in Real"
      ]
     },
     "execution_count": 33,
     "metadata": {},
     "output_type": "execute_result"
    }
   ],
   "source": [
    "_t_req.rhs.operands[1].operand.deduce_in_number_set(Real)"
   ]
  },
  {
   "cell_type": "code",
   "execution_count": 34,
   "metadata": {},
   "outputs": [
    {
     "data": {
      "text/html": [
       "<span style=\"font-size:20px;\"> <a class=\"ProveItLink\" href=\"../../../__pv_it/_proof__success_prob_guarantee/0e472ad4da26e7c2a847704f1e4b125c373a01c20/proof.ipynb\" style=\"text-decoration: none\">&nbsp;&#x22A2;&nbsp;&nbsp;</a><a class=\"ProveItLink\" href=\"../../../__pv_it/_proof__success_prob_guarantee/b64732097d94b156d1676f56c53b8eb4c2ae442c0/expr.ipynb\"><img src=\"data:image/png;base64,iVBORw0KGgoAAAANSUhEUgAAAMsAAAAzBAMAAADLFOF0AAAAMFBMVEX///+YmJh2dnaIiIhmZmZE\n",
       "RERUVFQQEBDMzMzc3Nyqqqq6uroyMjIiIiLu7u4AAAAjTthJAAAAAXRSTlMAQObYZgAAAAlwSFlz\n",
       "AAAOxAAADsQBlSsOGwAAA8NJREFUWMO1mE1o02AYx5+2a5u0TTcY6EW0IOwmm+IuO7jgKnrYsPiB\n",
       "oky2Cfs4zE5x04GyIsPpQZrDevCgFkFEdCx4nrQIOvAw5rco0TjcQJDVuYPuw8U031mT9E0yc0iT\n",
       "Psn7y/O+z/t/nveF+fl5FjbmiPJtmdm+cFze9EV/Cqn9WfFD/Rz31+yRT1bvt6O5gX2Wr544wQRi\n",
       "SG0DjLnCbLGwzTWvqTfeNhcYfNCqp3waDLx0gSHqkDH3WeeYzYCMiZDOMefQMeElxxhdO+XMzx1j\n",
       "iDYbmHHWKSadsoEp1DnFdIENjH/aKWbADsaz5BCDLdjBRBccYnxL1hjvkoHv9jH+PktKoGtVp9+t\n",
       "xphHQ5da354VMNikUegGE4KuxZ+h5ZxaY0x9N0QgL3oTMcIUBP3IgHcFCbONNsTEAXZ6syLGb4RJ\n",
       "CzOhB+CCpCdVlhjx8RJMD0QTs2CBGc8Wz0MsJCnhPmSp15LzCqaeYYTcz0JFqrsUg6u9IIxJL0Ay\n",
       "hYKpbNNiJvYohqsYqWKiTbtpCHe0N0zL5kZKLkoACZPQYPAp1XDKz6qYGxQchjQbrKKV0JEyFbaI\n",
       "hAnmNZgIpfwfilWDinlVlMpeCCjOwEFWL9RlMMS0FqNJeJBXMdgy73ZMh0lKv/uKpwqGeX+ZYQQi\n",
       "t/4QMX0azAjDH0IvQoOXhqiMCa0UezfHElUwU3NGi/HI4VHOGy1mVtW6RIZXDErrDfmtg9cPElq0\n",
       "nXYXcMp2pxGqJqX4mVdQxuY8QI5+WDSswB0hgmuF1rEY+FjbIeBTnh0Ok8KskDAjKXgKE9dvA2yV\n",
       "MI3C+VY83oIWabp580IJ5wgLmXuidHYNUPjeGhoiHPeaN+3QTE++kl9Fmzc6FZg7KXZBuH/y6LHf\n",
       "h/SJ4AR8H6uTi+NxWt+OihltPm4gNjGd2DxuZfIm+SbMh6AnARnxQ9LrpFKRTjwBtTSqdBpgoh/4\n",
       "2ZTFSTG0KkmzhEZBsM9EaZGy58z2XQcgc21YcIcwW10F1yBQmsBFCURP0kPStA6YJWleKQJ/Sv5N\n",
       "OqwFPBa1LfFTuRztFMes32kBtVwuVQofc1GKi8X/UA6+U4FZl+Ug7De1VAjiWyjGSLLztDxgDjE5\n",
       "2syySRwgUuNypeNSnTCbOKEY3JSvf8mVg+OFh2moXQFQKooj+tHawEUh/iYeV5LsCBtl3S0K5Y4o\n",
       "6UxOs/+CNVWzmhLMCSYSQ94VyrlYsGODyJiPbjZT6lEprjZTrLeGtMeEq60hNaWX2eiaKot5YPU+\n",
       "4rbdDyUkv5o88Q/eLVutWQrvDAAAAABJRU5ErkJggg==\n",
       "\" style=\"display:inline;vertical-align:middle;\" /></a></span>"
      ],
      "text/plain": [
       "|- ceil(log_2(2 + (1 / (2 * eps)))) in Integer"
      ]
     },
     "execution_count": 34,
     "metadata": {},
     "output_type": "execute_result"
    }
   ],
   "source": [
    "from proveit.numbers import Integer\n",
    "_t_req.rhs.operands[1].deduce_in_number_set(Integer)"
   ]
  },
  {
   "cell_type": "code",
   "execution_count": 35,
   "metadata": {},
   "outputs": [
    {
     "data": {
      "text/html": [
       "<span style=\"font-size:20px;\"> <a class=\"ProveItLink\" href=\"../../../__pv_it/_proof__success_prob_guarantee/e61dea0db36356434cf06a47db6762a47d3d5c970/proof.ipynb\" style=\"text-decoration: none\">&nbsp;&#x22A2;&nbsp;&nbsp;</a><a class=\"ProveItLink\" href=\"../../../__pv_it/_proof__success_prob_guarantee/89be164c06d96115e5712c9c141c95a46936bc610/expr.ipynb\"><img src=\"data:image/png;base64,iVBORw0KGgoAAAANSUhEUgAAAREAAAAzBAMAAABCqSE0AAAAMFBMVEX///+6urqqqqpmZmbu7u6I\n",
       "iIgiIiIQEBDc3NwyMjJ2dnaYmJhUVFTMzMxEREQAAAC0ii6rAAAAAXRSTlMAQObYZgAAAAlwSFlz\n",
       "AAAOxAAADsQBlSsOGwAABQxJREFUWMO9mU2IW1UUgE+Sl7/Je0k2CqNC4sJWVwnUKgrFB87CapkE\n",
       "7UYXM7G1T9RRBwQVqWNghEoRDaVUKIVm40aEBEFEFCfgT2E6MFl1RLCTah1dWDvTpjJYhvj+7nvn\n",
       "Jffe3HfRnkUm5/1+Offc8zcAbJmamtLhPxLBZ2W71MOvDgYN9k1XhAim3fdfHQxqvsaU8/TDz/Lu\n",
       "UdtCJNpz5FukhjXGQ5sSJMu8kxf8374Lk/gaXb6E8CQZzrop3571SSY6mMTTqJJ6U4LkWJ33yFnk\n",
       "Dy9hEk+jSqIqQXIEREl265hkN89nv4DwJJl5YZJ0GZMQjSpvSZAkm8IkkW1MQjSaxPsSJLO6MAmc\n",
       "wSREo7pJR4JkDsRJSjomKbF/w3o3PIm2E4KkUsUklSrzrnMQnkSdD0GSrWESV6PJUQmSZCcESWYb\n",
       "k2SYLqvdlCBZb4cgUW5iEoX5vvi2BMlsnU/Sqo9a3SVhr0F2XoLkdz7IyjtnsNE2AiQbw1lv4eqp\n",
       "BevyZI9Hon1E9YgF+3PxIbEapRUgaQ2f7r0Pd31jLmelzLVJmkaiXLczZw9aeRGSpTwmWRq+p3cc\n",
       "spr5mvXh/R1pY5IsjUS7YW/lOiTdpb2TS+K8gpCMvNAkidXNIqNUHDoRrY4liV6zt3IfVNfd7+GS\n",
       "OGYnJN4izBhGwyMxfWSpK0qS8iOEHWLVGqg7IiS5DibJuU+cPOjbRJ3qkA1523fHZ6oMEmXvU3mI\n",
       "LJ9/sjay8xObQiS9AImzRVIn0epcvM+kaNlBqPlnVdlmkFyow2+wrifbnqtN9CG45nySZAOTOBqk\n",
       "vZDTO3bqb8s+j1gkkfwrkNphkLxoZckfrMUgEusPpWQ+SaKGSRwN0shjv9pv/V21t6WyBVHr8THD\n",
       "eP51w+ggEs10z1wzQKK6ixKzDf2AYbxhGDbUYFicd88HSJz9tmaY0nNIsk+0CQlEN0Ft0G0S3bLW\n",
       "tqAn2qB8sqJjkq9BzCY0kmlkE618mayOhZFr61QS2yblR5fN9iwGsRpanWgT3pNenQSOJ/s+8JKV\n",
       "WZeW9CbdT14DKOTvtt0+7zjThOPcPwEclPbYeBWRTMfN5Zm148mHXXg606WTrHXhNEz++K4ZR3SH\n",
       "JG5/pg7v2VMTIgnEE1LbnPBIFiHTvkQi2+0ABz6j+Il27mg99fCneUgPBlaLM1HzI1ti4HXwY+JJ\n",
       "IMbm3Bh74JJOcvEf8NfZIpTy3BhL5Bd4bFeVNLyWEwfEI6Gm50ozEO1Jg3LHhtHgll/BDEgOmvst\n",
       "04PUZXqdRzIgPT2PyYBB042rlJSXzVhUhEV3s1xnVdp+esZtRhGTjKRcb4s1hGq2xz9+Zh+krvx8\n",
       "v629wPJNPz2P1JqEhFl5qiGqx+RgsMntTFB6RrIaqNlWmb12X6KOXWI3ciQ9W+670ka1JiFZYHYZ\n",
       "12S6jOKYAs3+jW+7bnwDk7jaLei85kZwRTsveFCCJMZ0Lic9V6xtsLryPXEeRKKyu9FCPjxJZIt1\n",
       "xknPiTIydi7QoefYHXqiLDG1OMw47qdngH+C7u2ScJw9IzPJYT3PT88AvwY9xyWZuzXTLZSezapM\n",
       "V/RQ0y22vXgTP7ohUXo248Pez3XUpzgkWd68I92UmIKeBlEpBKagBd6ATpOZDK/VRUkOBSbDh7jX\n",
       "zkiQxHuCIGGm5f/DfxCQTAImmRxz9QkJknRRCEQ7iUl8jTVXog9C7+XeJDbF2e95qNLG2qj8C8DH\n",
       "mZboNveXAAAAAElFTkSuQmCC\n",
       "\" style=\"display:inline;vertical-align:middle;\" /></a></span>"
      ],
      "text/plain": [
       "|- (n + ceil(log_2(2 + (1 / (2 * eps))))) in Real"
      ]
     },
     "execution_count": 35,
     "metadata": {},
     "output_type": "execute_result"
    }
   ],
   "source": [
    "_t_req.rhs.deduce_in_number_set(Real)"
   ]
  },
  {
   "cell_type": "code",
   "execution_count": 36,
   "metadata": {},
   "outputs": [
    {
     "data": {
      "text/html": [
       "<strong id=\"_eps_le_one\">_eps_le_one:</strong> <span style=\"font-size:20px;\"> <a class=\"ProveItLink\" href=\"../../../__pv_it/_proof__success_prob_guarantee/9e916907dc1c7446836fc1dfcda5f9c7eaf67f770/proof.ipynb\" style=\"text-decoration: none\">&nbsp;&#x22A2;&nbsp;&nbsp;</a><a class=\"ProveItLink\" href=\"../../../__pv_it/_proof__success_prob_guarantee/ff24096d2b1d72376aed268b9700cde0af9715870/expr.ipynb\"><img src=\"data:image/png;base64,iVBORw0KGgoAAAANSUhEUgAAAC4AAAARBAMAAABQu4N8AAAALVBMVEX///8iIiIyMjLu7u5ERER2\n",
       "dnaIiIiqqqrMzMwQEBCYmJhUVFRmZmbc3NwAAACWiUnzAAAAAXRSTlMAQObYZgAAAAlwSFlzAAAO\n",
       "xAAADsQBlSsOGwAAAH1JREFUGNNjYMACOITRBNh1QaT1oceowlwyBmCaDVWcTdSAAYu4qRhcAUic\n",
       "9/QuMMdGigFFfGUDmG2tzoAizvEcwuZGE+d+vTsBzLmDag7nBuz28gVgdyfLAez+4pjMYIwIBw0w\n",
       "xfoWSPRkJaOFEvfOR7sYyAWGgiAgAeMCAHIjHN5FackWAAAAAElFTkSuQmCC\n",
       "\" style=\"display:inline;vertical-align:middle;\" /></a></span><br>"
      ],
      "text/plain": [
       "_eps_le_one: |- eps <= 1"
      ]
     },
     "execution_count": 36,
     "metadata": {},
     "output_type": "execute_result"
    }
   ],
   "source": [
    "# need some info about that epsilon value\n",
    "_eps_le_one = _eps_in_interval.derive_element_upper_bound()"
   ]
  },
  {
   "cell_type": "code",
   "execution_count": 37,
   "metadata": {},
   "outputs": [
    {
     "data": {
      "text/html": [
       "<strong id=\"bound_04\">bound_04:</strong> <span style=\"font-size:20px;\"> <a class=\"ProveItLink\" href=\"../../../__pv_it/_proof__success_prob_guarantee/d19bf309e01151b7e7fb1836220ca9c33af50de00/proof.ipynb\" style=\"text-decoration: none\">&nbsp;&#x22A2;&nbsp;&nbsp;</a><a class=\"ProveItLink\" href=\"../../../__pv_it/_proof__success_prob_guarantee/198c704aaf28ac4f6f15a1ccbeed5364f293b5e60/expr.ipynb\"><img src=\"data:image/png;base64,iVBORw0KGgoAAAANSUhEUgAAAHMAAAAyBAMAAACdafkcAAAAMFBMVEX///+6urqqqqpmZmbu7u6I\n",
       "iIgiIiIQEBDc3NwyMjJ2dnaYmJhUVFTMzMxEREQAAAC0ii6rAAAAAXRSTlMAQObYZgAAAAlwSFlz\n",
       "AAAOxAAADsQBlSsOGwAAAmlJREFUSMeVlr9LW1EUx4/1JeaHL3HtlExKuyhEWnWwbyoIUgOCU9Ei\n",
       "JRVa0MlK6Y9MjiLSsZQMpYODcao4JYOo0CH5D+JQnKRgq6B1iPfde9999uV9z9M35Me995Pce873\n",
       "e+4hEk+mSeh55hD7/MRT9kuW7K0wVD+L7oaOTo6euW+pOkMmVsLHYxKl1wwaL7LoABOoHWLR5BBG\n",
       "3/Fo1wUk9Qo88QUftR6BDsLDtpoR6FQRoQdRJ8m8QCveR6FpFCf7Kgq10IoYjH3qImJfmSVkioNL\n",
       "7ahjsKLnSOq48BV7tto5tDldFqGXOluj1ClEa33BkWTeWhBplVk7JHqrRru2OzPfkdgfRFtCK3n3\n",
       "8yeHGmU5eq9TAGpjNOH/6InUWE2ecZ+o0URoVknV+m6m/oqt5GmurL8uEkSP9IeZbzrTLrpNVS1u\n",
       "+xyiPevmjMOqrvyTAXji/G+gEDTui/jBiEEr1NCD4+5Ld6n0arlUcn8l23Yfhd5Qzf09d8MCzRU9\n",
       "NO25Nuxfb6K/dJhEZvSGH1KifJsNH8q330InDlUlYVco5twiTCOmEo4Szcl0rhYKj3CE64HkUDxv\n",
       "fSAticV2+xLnVanJmjFT1thzgQ0GtG1Q30xT6k56GlR3KzBg5O+bqQXqWhYVd99MyiEhZXgdoL6Z\n",
       "jMyDdQQVGN9MDbAifYZvI22mj6iY/sHNgDJT4vzOJdwzEyzh9Bii4zoa8OLI9aEoaP1l4XUVR4n1\n",
       "zFSDlyQKsTHTmzs3BJ6ZmIYAbcgzU4ZpnJIVtiHLMc2PvcKi89zkLDfJNnqovdQlkG9qN5jTfOZR\n",
       "ppWewEG6Bu4OpjyKmyDoAAAAAElFTkSuQmCC\n",
       "\" style=\"display:inline;vertical-align:middle;\" /></a></span><br>"
      ],
      "text/plain": [
       "bound_04: |- (2 + (1 / 2)) > 0"
      ]
     },
     "execution_count": 37,
     "metadata": {},
     "output_type": "execute_result"
    }
   ],
   "source": [
    "from proveit.numbers import two, Add, frac\n",
    "bound_04 = greater(Add(two, frac(one, two)), zero).prove()"
   ]
  },
  {
   "cell_type": "code",
   "execution_count": 38,
   "metadata": {},
   "outputs": [
    {
     "data": {
      "text/html": [
       "<strong id=\"bound_05\">bound_05:</strong> <span style=\"font-size:20px;\"> <a class=\"ProveItLink\" href=\"../../../__pv_it/_proof__success_prob_guarantee/5b976bd84b2e4fcff9542022fdc4110d06a239100/proof.ipynb\" style=\"text-decoration: none\">&nbsp;&#x22A2;&nbsp;&nbsp;</a><a class=\"ProveItLink\" href=\"../../../__pv_it/_proof__success_prob_guarantee/8124b77d7ea380648c815e83bd316efb152257e60/expr.ipynb\"><img src=\"data:image/png;base64,iVBORw0KGgoAAAANSUhEUgAAAUsAAAAzBAMAAADsnze1AAAAMFBMVEX///+YmJh2dnaIiIhmZmZE\n",
       "RERUVFQQEBDMzMzc3Nyqqqq6uroyMjIiIiLu7u4AAAAjTthJAAAAAXRSTlMAQObYZgAAAAlwSFlz\n",
       "AAAOxAAADsQBlSsOGwAABQhJREFUaN6tmU1oJEUUx99MMj2f3RkQ9OKSQWFvbgbRi6AZ3AUV/BhQ\n",
       "NAgbJ1GyeFgziEYXRIOXKBjShwXxogEPIrpkvK8kiKzgQUdddhd1tBU9CGsmu1llssFpe7qmp7u6\n",
       "q9+rrk1fJkxN3v/X9apevfcKtre3LTiYx3BsCb6+UQX3/3+17a3YX2SWpQz9yTAytv2fYBRVgJn4\n",
       "t55ln8/Ydht+wvTn5N4394v31+eCUVRBK8ePrXpOKOKYWgVTWPVdeUYZcx6xXWjLYd6KLcTnvvUx\n",
       "0w1FzNQWZvuwFGb+FOrq6cDG+E4R810Ts62XZTD1qjTmR5Ya5g+o7cLrMpi3gDRmqaaEmWritr+U\n",
       "wXxRHrO4p4SZreC2N00ac6wvjwnnlDCnLXyg1KAx9UYCzA1LBfMCYbvQpzHXlhNgdqsKmLkeYdvY\n",
       "pTFPQALMTFsBU2tSto/TmEtJMFN7CpjZBmV70qQwc1eSYBpXFDDXypTtbpnCHNsjMKfM6Nwnw5w2\n",
       "KdtsvjHMTBOnXHjjXHAyjitgPkXaZkueYea+Eq2RbN39OP3wjFQyN4VhihXgZVIhvROYzZLISNc9\n",
       "//J1mGrJYE62ApiXy6HZFCoY10iF1H4AMyMysuZGQs2E7ND7n6GY7OdDTOOOKo8pVMjtkgrsJxjm\n",
       "xrrr+j5ow730IYrJJn/k9HuP0JiF66QCm/AoZt73onsIaW3QejKYEw1+bR46EoPpK6R6tMK/PKZx\n",
       "9K4WFOfn7mlHooW+I4VZD22hTx/iMaMKo5CHKPzDY66a8DisWdnyaDVPWdyqozCzW+GdfvYFDjOq\n",
       "kO7TCq/xmN8PUo2TAw94z2NWKI3BMfV2BHOWw4wqjPdphQ6HmXNW80SFM7LoGXO9+Uin80qn49qz\n",
       "ww/DbIad/jzndIGCtoMpsMGLHGZhf7C6Ni2nSDJuW7CCmDeD3GyGMA89ym8hgYKHiSlcjM5m7Y/5\n",
       "OefdYLwdcHqhAu8pOD0SkAQKQ6ejCrzT4SWn8Gh94m7ZVr4XOP3fBLgv8RYShfeoQnqPVghtoZVl\n",
       "+ALOvv2+E80sZmTajZv588eOtaUwG9hhKVQY69EKS4HU48SSmb//cAtKtj0onNNtP7zr9qhRRcTN\n",
       "GpZ6CBVYeMcVrgkSuafhrzNVrzm0Ec4HRkaEKU23IpPIcQqFfVLBuBrFLDqBIVWH/Kw4tfYSA3FK\n",
       "w6UecZi8QqQ+iCpwqYd3zl9yMq51OM023kQtrtDyU5pIpjLE/LszeC5FMHkF5lFUgWUnIaf/fvud\n",
       "D0J+5i035OlxvdNAShMpGCincwrwM6nAjn1RkZEdHgCx1WkgpQk8i/JFhqcQW2L7CtoOVQulkN6M\n",
       "l9IMVvtCOVAwJKuFJi1KgVU6aAF8nUrV3Zd5dbjqd1UK4HVK4YPqjbQTLkSUDrid4CnQ7QR4IHaE\n",
       "pTTdwR5bXHjWW07JMcebuALASbo5sxlb77GURq8FpnxCpdVV3McVACRaXXpc4PRTGoCr/G5I2Dg8\n",
       "TyikJBqHsVvdT2kAnuDXUkLMuK3uKegSbdi4pnYgpQFYsQzrwJvaIwWZpnbcuwZSGidsHb3JChS4\n",
       "Sa8I+rjCkyCBWaqA7LNpKWE6GSj2FPsymLlT0pg/ghrmiokWLusymHC3LKXyZeBYHTMrdxlIXK0G\n",
       "S3JQxIy7WmV0W3KY8LUcZe4bZcxS/LEO71g+5seYEclr/8ujkPCbYBRVwK79Ry9vlP8HPiB3QhnV\n",
       "g2cAAAAASUVORK5CYII=\n",
       "\" style=\"display:inline;vertical-align:middle;\" /></a></span><br>"
      ],
      "text/plain": [
       "bound_05: |- ceil(log_2(2 + (1 / (2 * eps)))) >= ceil(log_2(2 + (1 / 2)))"
      ]
     },
     "execution_count": 38,
     "metadata": {},
     "output_type": "execute_result"
    }
   ],
   "source": [
    "bound_05 = bound_03.rhs.deduce_bound(_eps_le_one)"
   ]
  },
  {
   "cell_type": "code",
   "execution_count": 39,
   "metadata": {},
   "outputs": [
    {
     "data": {
      "text/html": [
       "<span style=\"font-size:20px;\"> <a class=\"ProveItLink\" href=\"../../../../../../numbers/logarithms/_theory_nbs_/proofs/log_base_large_a_greater_one/thm_proof.ipynb\" style=\"text-decoration: none\">&nbsp;&#x22A2;&nbsp;&nbsp;</a><a class=\"ProveItLink\" href=\"../../../../../../numbers/logarithms/__pv_it/theorems/1d0f363079d69d5571d3f713042a549971d413cc0/expr.ipynb\"><img src=\"data:image/png;base64,iVBORw0KGgoAAAANSUhEUgAAAQcAAAAYBAMAAAAFciVuAAAAMFBMVEX///+IiIgiIiIQEBB2dnbu\n",
       "7u5ERETMzMzc3NwyMjK6urpmZmaYmJiqqqpUVFQAAAB6qHgnAAAAAXRSTlMAQObYZgAAAAlwSFlz\n",
       "AAAOxAAADsQBlSsOGwAAA7dJREFUSMfNlm1IFEEYgN/z9m7v9u70EIuiFBOlCIKSwjCIMzCMTBYz\n",
       "KQQ9Qa/Agkv70a/cPn+GUUaQ0EX9kQzPMPw4kS1QEAku+4AiyNKgHxIFSSaIvTOztzu37kXFFQ3M\n",
       "7rsz884+837MDEAai5Ki3cU9f1npD4stnqIjlz4lv2XnbazTRHiTFojnIF6dtmj3BaC2GN/rV/SI\n",
       "RYiuAgyTjxvpYHB0ALitII5gvYnVLZs66ofm8dkJcIZ4K5gOCA8uyWkFMYJ1Cas3usKBBGKS4Qnx\n",
       "dEDYIQXEVowH8jfYQe2imiDsMnixzZ2WkHiVDKEngw/dJOQTqYt6bY8/GcKNBMUFBdvTAtHPIBx9\n",
       "6yIgzc7l5ifcFMAfvctDa1exhuzyJAgBwQcAmlPNK/wORBeDaFWgEdpluxrR2slKGzodCwATWsvj\n",
       "hzyEFy11GVzTKWPN9P5p2cIgCgHaw+8hM2EIyEAbvJVhG8Az3XODHIQPY8YpCxE9b69rwtS+0Svc\n",
       "z50sBycsfq2rQCmFEDEPsgI8hB2nHwL4inC6VvcHA0L8jCB+Li5nSWNeKGIToCJghjiZrW0I3N7A\n",
       "VDgI3yJCBHvlDJWHKAQJ4e4YEM0GhISWgI5HxqQlWGNh7LXBmF+IPYgNcxAwxcJ+VN90iFiS7A5q\n",
       "iWjd7Bzw7lgCz3xCn7jjI+8OYrMDuGVBzaMKYoQveTLZRgnEqqjZEmwS8ZOiD0eRqLDeRhYTuwB6\n",
       "I685hzkxJb/BQZx2PBGYg0mBSbbK8xiXjk3iAmksskVraa/galQtIaQWJTGcikSF9VYxiLYwXIPu\n",
       "0xdxVGWOoqXgHLRoSZyUosKClsKQieb3REXiGafq7eihEJ6mIFhBSE1k3XQ4E4kK621F08zsVlz9\n",
       "VRFwLy9vgGqlnUCIaO76/cS+m2kYZeubVebMd/RaRkQPHhvJU3vYMz0RCoXiNptwn9snDIi2uD5c\n",
       "E1FF833YcMEJODzlj0Eb/diYiCCaMNWqKb/OJYQGxTmG68oCe/wUtYRNusudeQaEY288MZyJRIX1\n",
       "cueTFCSuLoU8+jXJnXApzjdmCaW9R66BDHkc9w0aE1AetYIAWK1qw5lIVLRyzMhcXLz7xQIcP0S1\n",
       "tcvTJetrl36ESyNPK9G+Yp8fXEdJHq8N1A2ZIS7cKiOvcZUNZyJR0UqtoVBTljMAO8XFMYoUNEPy\n",
       "xWm63zG71oRCEfPApK+XipWIazLd3+49yWEOOMvy0fo2uSb5U5JTHQtO+GfFC/8BROri+rvT/wBW\n",
       "T/9TcG8QSgAAAABJRU5ErkJggg==\n",
       "\" style=\"display:inline;vertical-align:middle;\" /></a></span>"
      ],
      "text/plain": [
       "|- forall_{a, b in RealPos | 1 < a < b} (log_a(b) > 1)"
      ]
     },
     "execution_count": 39,
     "metadata": {},
     "output_type": "execute_result"
    }
   ],
   "source": [
    "from proveit.numbers.logarithms import log_base_large_a_greater_one\n",
    "log_base_large_a_greater_one"
   ]
  },
  {
   "cell_type": "code",
   "execution_count": 40,
   "metadata": {},
   "outputs": [
    {
     "data": {
      "text/html": [
       "<strong id=\"log_base_2_of_stuff_greater_than_one\">log_base_2_of_stuff_greater_than_one:</strong> <span style=\"font-size:20px;\"> <a class=\"ProveItLink\" href=\"../../../__pv_it/_proof__success_prob_guarantee/678d9938a2332db8490dd2aecdc7bbf9659b822f0/proof.ipynb\" style=\"text-decoration: none\">&nbsp;&#x22A2;&nbsp;&nbsp;</a><a class=\"ProveItLink\" href=\"../../../__pv_it/_proof__success_prob_guarantee/8e0e50e1aecd9262099852e39b2164fe9d4722730/expr.ipynb\"><img src=\"data:image/png;base64,iVBORw0KGgoAAAANSUhEUgAAAJ4AAAAyBAMAAABfdX/dAAAAMFBMVEX///+YmJiqqqp2dnYiIiK6\n",
       "urqIiIhmZmbu7u7c3NxERERUVFQQEBAyMjLMzMwAAABfdDLwAAAAAXRSTlMAQObYZgAAAAlwSFlz\n",
       "AAAOxAAADsQBlSsOGwAAAuhJREFUSMetl01oE0EUx98m2XTztclBRLwkoEclgRYs5GCVUJUq8ayI\n",
       "OZRezaESqwgBCwWlJIggFsEePAiKRFRooJAKnrSo6EUUNDcPfsSvNFGocXdnv5LMm+RBB5JZdmZ+\n",
       "OzPvzf/NA0DLfbzpchHIJRTD29TDdN5DEWo3GSe94r6+crGtV94KlXezzH/vN3hwgMqbBCFvD9Ei\n",
       "0pqYF8nTeOGUmCf/ofHOFMU8eE/jTcEAXpK0geq/QbxSjnQ41gbxghMkc1QG8SSSQRqxQTzlB8m8\n",
       "ZazFa83rOYV3D93Y1c0H7Ok2v8NX7neeGf+Bwrs6+sn9iPbwHFNpGdUSeJsoL36crz13ee63YVRV\n",
       "gHX2Qu63TyPHtxWP5/lpVC+LUGOG8fQPLjFFWIzhPNuoEjsejwBqdYwXZS6qjOX6eAszZwFOprfb\n",
       "Ku63nTULKG/ZfJge7+GpRyCYU9vwRLadrN29kTxe2A4I285183wp7fyHJvTlmWXE4vkqKM/nHOC9\n",
       "c128RgLgVxcv9N18OG/QM5mjTzMZHR3t6IXxXJJxasXNS2qe9Fdu6zHmUnrFzZMsWeDNz8270zu/\n",
       "lnIhrVk+D7Pu9e6CQHmY9Va71hvOg9z0GO7ehFt159CrKfAXh7DHXI99X0AkJX+4oQ3dwXh+5n/X\n",
       "CoVZ3L6VPn/Rp/F5vQrXRx8DfOz81geNufw52+ls4v7HzocynevXHl2/E8rVSet64umVAZvnSE6J\n",
       "RdR5RHlPaL+dmqQY+6X2iq+tB47kNMQBaV777GsI5JlBW1g3R3KSCSFPGZ3ZV4elb5+MCR7DujmS\n",
       "g4cEd3fT+VexDo7k1CjxIy6I/ll3SBg2XuKbY0pOYGNr4rklObR4PoLeN5jkaM5Lum/IaFyzJCdK\n",
       "ug/BIazBkpw47cKLdbclZ2pr7ruW5FDvu1IbcT5TcoLUBOSNuPk0NYP7Ij6eB6n5jH9Z1ErPt7B8\n",
       "0Axo9PwyItA39S2dJ8qnF1Fr/Adn0+EVI7J0+gAAAABJRU5ErkJggg==\n",
       "\" style=\"display:inline;vertical-align:middle;\" /></a></span><br>"
      ],
      "text/plain": [
       "log_base_2_of_stuff_greater_than_one: |- log_2(2 + (1 / 2)) > 1"
      ]
     },
     "execution_count": 40,
     "metadata": {},
     "output_type": "execute_result"
    }
   ],
   "source": [
    "from proveit import a, b\n",
    "_a_sub, _b_sub = (\n",
    "    bound_05.rhs.operand.base,\n",
    "    bound_05.rhs.operand.antilog)\n",
    "log_base_2_of_stuff_greater_than_one = log_base_large_a_greater_one.instantiate({a: _a_sub, b: _b_sub})"
   ]
  },
  {
   "cell_type": "code",
   "execution_count": 41,
   "metadata": {},
   "outputs": [
    {
     "data": {
      "text/html": [
       "<strong id=\"bound_06\">bound_06:</strong> <span style=\"font-size:20px;\"> <a class=\"ProveItLink\" href=\"../../../__pv_it/_proof__success_prob_guarantee/c855977839015e6a88ac48d060f392b5124bc40e0/proof.ipynb\" style=\"text-decoration: none\">&nbsp;&#x22A2;&nbsp;&nbsp;</a><a class=\"ProveItLink\" href=\"../../../__pv_it/_proof__success_prob_guarantee/dce421e6166480eb3bf9f57f3a0cf4596be63a250/expr.ipynb\"><img src=\"data:image/png;base64,iVBORw0KGgoAAAANSUhEUgAAALIAAAAzBAMAAADBSE8mAAAAMFBMVEX///+YmJh2dnaIiIhmZmZE\n",
       "RERUVFQQEBDMzMzc3Nyqqqq6uroyMjIiIiLu7u4AAAAjTthJAAAAAXRSTlMAQObYZgAAAAlwSFlz\n",
       "AAAOxAAADsQBlSsOGwAAA0FJREFUWMOtmE1oE0EUx1/aZJPddJOc9CI0KPTaInrxYIsW9OBHQJAi\n",
       "qGmR9lQUkUpBNHhRwZI99OJFCz2JSNO7kCo1ggddalGhBJfixUsbbZVaIevuzH5n32ycOJcNmX2/\n",
       "nX3z5v/eW9jY2NCgg4Hbf9H1JdQsUUKnMpfo9bKuq+F3rLEWNMqYm7GXmuYgC3kGVFI7IO8L98OV\n",
       "92S5ffxkcRqZGCRkOcdNlgeYZOk2N3kvMMmwzE2+HkGuKpzk7mYEuafISZaLEWSpyUkulyLImS1O\n",
       "8gREkOEiJ3kqktyrcJFT3yPJmzkucvdvlNxPww2SRS5y4ho2M36nRg92Qo0gp96ExVeyQC6zp0bQ\n",
       "tXc1EDIxWnND3j82h4gqFaC/gpFjfzzkzEtXyoiRSU6EkctEjwQFkpZbFls3ecu75vUPjq4TI5S8\n",
       "MEd80gTB2sr5VqXe9nmje8WKGWoUIIvOr15yBAUVhB2MDL/8fo5ZaGpkkTPHD1UgPTZ6xLltULH1\n",
       "o4GSfwZ2UFr2GFnkGQXOQVlL5pzt6td8Dg8l3wrGRrqmOUYWecVUoEnzPexx1iZ/BJRcbyG/1hwj\n",
       "Sk7tAmTzPvJV6xoncX26Xr9Zr5OH6OagHvoU9EZNcY0oWTIiM1uoakbWzOwf17zkPYCvOUCOrWoe\n",
       "I8+ah76OGaVLHOKqxxtSHh616Q0n6qiR5ecbRlqrPDP/zVbEHY/s3AU42t4OuieFGlnkeyV4BS8e\n",
       "PDZeSaPkQRLP4urwsIqSp5DTTYxMRZqYUsRjfRXo0XXzuV2qe1Jk3akoQ8jb4YpEjbwqegG+PR+w\n",
       "a8GFoBDN+5SMLPNHm/qcNkIlVgCR1q/lXODORZ+StSoSg5z5bAjqHMzSYMgOYRWqI3/SrtfPdTJK\n",
       "oTll/cDBkyCO3D9DnIUV7K780YTWdrZKWgdMwLKVK39CgysPxpqMKrXhSWj/XhXs4mRL/p4M/O9K\n",
       "xpY/zkoGTqAzVP4AJjmrryqas235460YZSygbfmL8Va5aHDY8ifzVuZYN+HIH3c3Ab3hDbUjf+e5\n",
       "O6CePLOXTze5yalpJlme4++ODzPJHXTHaEdPgUsdkOEtY+5h1FeIpywy68vJO+dXLvSGv1CUUjZk\n",
       "TT9cAAAAAElFTkSuQmCC\n",
       "\" style=\"display:inline;vertical-align:middle;\" /></a></span><br>"
      ],
      "text/plain": [
       "bound_06: |- ceil(log_2(2 + (1 / 2))) >= 2"
      ]
     },
     "execution_count": 41,
     "metadata": {},
     "output_type": "execute_result"
    }
   ],
   "source": [
    "bound_06 = bound_05.rhs.deduce_bound(log_base_2_of_stuff_greater_than_one)"
   ]
  },
  {
   "cell_type": "code",
   "execution_count": 42,
   "metadata": {},
   "outputs": [
    {
     "data": {
      "text/html": [
       "<strong id=\"bound_07\">bound_07:</strong> <span style=\"font-size:20px;\"> <a class=\"ProveItLink\" href=\"../../../__pv_it/_proof__success_prob_guarantee/88425c5a57b0d774b2202d67f740eebf816304050/proof.ipynb\" style=\"text-decoration: none\">&nbsp;&#x22A2;&nbsp;&nbsp;</a><a class=\"ProveItLink\" href=\"../../../__pv_it/_proof__success_prob_guarantee/dbccab79b18bf9c8fa3e015c71579d5cb387645a0/expr.ipynb\"><img src=\"data:image/png;base64,iVBORw0KGgoAAAANSUhEUgAAAMoAAAAzBAMAAAAk1opKAAAAMFBMVEX///+YmJh2dnaIiIhmZmZE\n",
       "RERUVFQQEBDMzMzc3Nyqqqq6uroyMjIiIiLu7u4AAAAjTthJAAAAAXRSTlMAQObYZgAAAAlwSFlz\n",
       "AAAOxAAADsQBlSsOGwAAA31JREFUWMOtmE1oE0EUx98m6Sa7abY51WOLQq+N4smDKVrEg0pA0CKo\n",
       "bZH2VOhB60VqEaEKlu6hIF400JOIkN6F1lLjTZcaVKjBpXjxklaNpR+Q7e7O7O5ks7OZTLqHzWYy\n",
       "+3558978581ApVLR4Yguuq2fhrFCf2+IybpyC33eNgwtuMdG2Otims2JOceFJA9llMk0gKy1QRFC\n",
       "xlK585mIQV8blOdqmC9ZgpJK81O+ACtFnuamCJPMFFjjpsR72SnLKi8lq7NTOod5KV+BnSLXOCmJ\n",
       "3RYoyj9OijjZAgVuclLiw61QelQ+yny6FcpWmo+SVcMp/Wqj561TrodDxh4WSWc7tCaUxMfACNyz\n",
       "7wuX2NaYyDaFYhvY8KaUT3Sr1l3KQX+BhSIcEBTlvduODFiUjiBKwp4BogpxnNFLoRTU3fFl0xVa\n",
       "ZIBKkfftoNZA3EMNi+GrcrVuxKLrOAORAR9F8obAnvqiBuIuCwV26uMiYAwygCnK+dMFSI6OnHG7\n",
       "RfecFWqbifLfF315TfUMYMqcCldhXo+n3VBHas7szDBRHvhzLFnUXQOYsm5+mZmw/HOuWM0nzU0o\n",
       "5QbKB901gCgJM9RdvXUUEQ9ULGfdL5fL98tlG2j4L9Tvm3/EiqpnAFFkM9u7csu6WSUox8d0ktIN\n",
       "bL74KELJkbluqPNl4NfoiImGmEaMmNwLLzhGzM1kZADH5a65dBfeWK1dBclO3QjKsUcAZ1uPvjcr\n",
       "kQFMmZ2BVXj39KXpqo4oUfsulQYHNSbKFEVhbAOWWo5PqdK5vgJ0Gob1HyKaNytThlutN6FUg9US\n",
       "GSCV/wb8fptxCmD5wNd/sU5lGxTmL+P6kjRTTsiBhPYJiT++nkt1KhuuliEU5bu5CORhASdVlVZ1\n",
       "eDLdIK5OXMr2NRO4Vm6eOHURpKEnV+xvP2hVhyfTxIVkj3lFjhsGmo/jNF88mSZbt/nW/R56AevI\n",
       "tBWlCyPoz+U4K6U8/aeM+3gMD/6rzJFXfV4Fndhvs+qLUStYJNNb1mwVd8aQXxOcFWzygPYLkunU\n",
       "AOkwbzUOJUq7J9PWooSFnndnQU0yT6ZNoR3AWce9S6Ls+AiZNqM/DZX2dnxCLXiyGOShyuOTtl/X\n",
       "+Hfiq8znPMkaP2VWZaWk8vyUaI6V0s4JSfhpDzlgK+1QOvNslGfNTq5eh77OeAr3yX0K3oseAsyt\n",
       "a7fw+JuCAAAAAElFTkSuQmCC\n",
       "\" style=\"display:inline;vertical-align:middle;\" /></a></span><br>"
      ],
      "text/plain": [
       "bound_07: |- ceil(log_2(2 + (1 / (2 * eps)))) >= 2"
      ]
     },
     "execution_count": 42,
     "metadata": {},
     "output_type": "execute_result"
    }
   ],
   "source": [
    "bound_07 = bound_05.apply_transitivity(bound_06)"
   ]
  },
  {
   "cell_type": "code",
   "execution_count": 43,
   "metadata": {},
   "outputs": [
    {
     "data": {
      "text/html": [
       "<strong id=\"bound_08\">bound_08:</strong> <span style=\"font-size:20px;\"> <a class=\"ProveItLink\" href=\"../../../__pv_it/_proof__success_prob_guarantee/a8263185d4d6672399424bb7cafdc914e812dfee0/proof.ipynb\" style=\"text-decoration: none\">&nbsp;&#x22A2;&nbsp;&nbsp;</a><a class=\"ProveItLink\" href=\"../../../__pv_it/_proof__success_prob_guarantee/0c12e1e4f9e4b0bbeb6784ec517c3b67e3280b5c0/expr.ipynb\"><img src=\"data:image/png;base64,iVBORw0KGgoAAAANSUhEUgAAAJwAAAAbBAMAAAB7I/seAAAAMFBMVEX///+qqqqYmJiIiIgiIiLu\n",
       "7u4QEBBUVFS6urp2dnbMzMxEREQyMjJmZmbc3NwAAADzFso2AAAAAXRSTlMAQObYZgAAAAlwSFlz\n",
       "AAAOxAAADsQBlSsOGwAAAl1JREFUSMfdlE1oE0EUx//ZzZZ8biIWoehBFBTRQ+ipHgJRI+pBnGvx\n",
       "YC/1Aw8WVEIF7RbEnoSAiHiLHwgKUrEIYkClHoIUMVAFYwku1VtRC5YiKqzzsbuZSTayBk8+yMzs\n",
       "Y+eX9/b93wO4XSzuQYfZCDST/vqLu/EH2xTg07PB78ZybL38t7iBjrAeiX2wF5zxvN1zY6/YU6QH\n",
       "XHpjh8vFafUQOOOZ6uqjruslEoDDaJjovqquDTRApAv0VG/HzYbBHVFdDSBjmT/o6UE77lpI3OBO\n",
       "Ysw31nshaETB3TrhSmdHOFzSMgrJbEZ8r11siRfk6Dxb1x1nNucqHm4amIlaGdENx9lym7i4jOMZ\n",
       "fZjugrsPLCH+3cNtAc5rZ0WuHEeFm65WT1Yfqtcu+ThjVvbvAy4AR6XoXuiLFmJr34lkP+NLULL9\n",
       "reiGpV7XKe4UwYTt4lJZczRdYZKjZZmhwT2599bDTeYt/952KVn9gC/NmzXgDDBR4TL+UMeVvB1z\n",
       "Vusm7nA19DnOsocbMZZlDbW+nebzyjW+HZKbbImY48BjWgXfxXF2YoTdnWfn/UopIq9E7XSb4xLf\n",
       "ZNwUsA0s42jFc4muSFp0AG7lYiiolY3VeHyL4LjomIyLNPI5XNXdRpfsPcO8HPKGg4yb47iywC10\n",
       "TJSUs0LXp4ovTtjUPMe/hzrvIjWerGZznDbWZXweVp5eOyzF4c3E/Z9WKQ6KUnwExw3AtLEmqF9y\n",
       "wX2k82DutgtlqlRaHUeiDJ2gZ5NljGPAp2bzTe80tcl+UtE5zi/8G1twTuN/NqPIzW+g36CtqCvM\n",
       "jK0GAAAAAElFTkSuQmCC\n",
       "\" style=\"display:inline;vertical-align:middle;\" /></a></span><br>"
      ],
      "text/plain": [
       "bound_08: |- 2^{ceil(log_2(2 + (1 / (2 * eps))))} >= 4"
      ]
     },
     "execution_count": 43,
     "metadata": {},
     "output_type": "execute_result"
    }
   ],
   "source": [
    "from proveit.numbers import Exp\n",
    "bound_08 = Exp(two, bound_07.lhs).deduce_bound(bound_07)"
   ]
  },
  {
   "cell_type": "code",
   "execution_count": 44,
   "metadata": {},
   "outputs": [
    {
     "data": {
      "text/html": [
       "<strong id=\"bound_09\">bound_09:</strong> <span style=\"font-size:20px;\"> <a class=\"ProveItLink\" href=\"../../../__pv_it/_proof__success_prob_guarantee/46510b26a9f35775716970b0a3712e1cc73b3aad0/proof.ipynb\" style=\"text-decoration: none\">&nbsp;&#x22A2;&nbsp;&nbsp;</a><a class=\"ProveItLink\" href=\"../../../__pv_it/_proof__success_prob_guarantee/89fc811434e052d969a0c218e2ec7b366c5bee730/expr.ipynb\"><img src=\"data:image/png;base64,iVBORw0KGgoAAAANSUhEUgAAANYAAAAmBAMAAABKX3gEAAAAMFBMVEX///+IiIi6urrc3NxEREQi\n",
       "IiJ2dnbu7u4QEBDMzMwyMjKYmJhUVFSqqqpmZmYAAAAHKSyHAAAAAXRSTlMAQObYZgAAAAlwSFlz\n",
       "AAAOxAAADsQBlSsOGwAAA3VJREFUWMO1lk1oE0EUx1+ySXeTTbI5WaFQ9yJ4kBqwBVFo0lqQomiq\n",
       "RBFtmx7Ug4KDiIdeUkSsHsT1oNSDpELx0iI9iJQqUvDrIjaCLSKIUTRCkfhRpGopcWZndrNJZoLK\n",
       "9kFmNvPv9vfmzXtvAgAQyYFp61M9UGMx4JqEP3OpQzxpEIHYPrP5Hkfz5PjveKNkbOFJgQNilDpa\n",
       "hzVfs6EddG4SsuC+mDWCxCx5tHrlBvM6iIQsX07IugViVmSyZomx1LyQJQ+LUOElB0veUykqeOno\n",
       "M8RhwbCQZSdAjfnTzn3FK8XXeGsQSeKnfDVrXMyKC5IXssjJylSKBQBNl37hp0Q164SY5UsLWI+g\n",
       "itW0BsnvCi8t51VUwbpynp38tJilDglYy1Usny4nfTmN7raXDA1J574seyVmSSv89cAiEYtjhsXK\n",
       "AnT4dY2G/CwZriKLVbLsK5C/q2W1L3STqQ+4gopfg1Zo+G6xpgCeq09pCE0Wrt5IV9e5rp2Vb2/g\n",
       "sKQEnNTxvEBzf7xKCJFqfQhwwbGvm55tOnhfvKcxbIfNvBjOcVihGCjkrNbRr2d6KgVlBj9eRjAb\n",
       "Y6xgThqOGKS0cJ50YJe6r3+yWCaf2R0OS1mCEDmTtwbrpvuRU9BIfj4GmDXMWv6Sh4HmmLf0My/B\n",
       "iJnYink6lKU4aqLA21cSQiRps1aXUhmMChrrQv3OHtWKpCcAnTgt7KUEvUlGyPSANPm9/Dz0E8cy\n",
       "dmsL346VhTh1IfDNydoIcBdIIP2GtcT6RifmqSTsUpLPyhI/tGj58plAtsC2659xssKF5igc87AO\n",
       "6+zFBrRBcEBnXZnDOkwGrdw4vGPIFjbp5tOHmj4fLP3A4/bK/0T4EDLMMrFZgyliB6kzZqw128Xw\n",
       "BIshEei+zLDw7srTHL58vJE50SK4J22W2occAmXNgxSDN7x2E+W3G4/p7rWaCyptFqN1XnbOUyFO\n",
       "4h5Ig6feL5K/NgxvJKzJqlqmQoa40FYsfnQDJfUViyQ/aXI7e5QpKCS0/aXSbzdYftyWSc/L6lwh\n",
       "mAD37S3/QCJDq8A6IrhDl1aBtYveKWbdpYzyD6yVVWAtC9Z3u4/yLgqEKfdZDaMCIaO7zlJy/+rE\n",
       "/9taoXLRddYloTLtNsojjlRw0mXWlphQkve5i5J764hbkassX704SYarrFMi4Q9I6/CfMAlRbQAA\n",
       "AABJRU5ErkJggg==\n",
       "\" style=\"display:inline;vertical-align:middle;\" /></a></span><br>"
      ],
      "text/plain": [
       "bound_09: |- (2^{ceil(log_2(2 + (1 / (2 * eps))))} - 2) >= 2"
      ]
     },
     "execution_count": 44,
     "metadata": {},
     "output_type": "execute_result"
    }
   ],
   "source": [
    "bound_09 = bound_08.right_add_both_sides(Neg(two))"
   ]
  },
  {
   "cell_type": "code",
   "execution_count": 45,
   "metadata": {},
   "outputs": [
    {
     "data": {
      "text/html": [
       "<strong id=\"bound_10\">bound_10:</strong> <span style=\"font-size:20px;\"> <a class=\"ProveItLink\" href=\"../../../__pv_it/_proof__success_prob_guarantee/08f7b9caf61423e2ac6de7c9a5f639cbdff7d3f80/proof.ipynb\" style=\"text-decoration: none\">&nbsp;&#x22A2;&nbsp;&nbsp;</a><a class=\"ProveItLink\" href=\"../../../__pv_it/_proof__success_prob_guarantee/f2f1bb0bfc2719c060b8bacc432a0f8f5a40272f0/expr.ipynb\"><img src=\"data:image/png;base64,iVBORw0KGgoAAAANSUhEUgAAAQgAAAAmBAMAAADKCRg+AAAAMFBMVEX///+IiIi6urrc3NxEREQi\n",
       "IiJ2dnbu7u4QEBDMzMwyMjKYmJhUVFSqqqpmZmYAAAAHKSyHAAAAAXRSTlMAQObYZgAAAAlwSFlz\n",
       "AAAOxAAADsQBlSsOGwAABHZJREFUWMO1mG+IFGUcx397s/93292SKAh03wQRpRMVqIm36UFIf7iM\n",
       "K8I/N76wgygaxOuFoCsinUKZvlCMqL0XYi+86IyEMMELSzEO3F4oIeRteWketpxedaXU+DzPPDO/\n",
       "Z+b5zRHd3BfuN7u/mZ39zPP79+wBAJSaENZv8vhgz4vaOTCBlMH+zvesoU5tsdFG6LrmKY3IF18R\n",
       "lyea9G06KtwupE7lXkFLqzCouY7DDBAXtCV4xj0+EAkBJxRL6qC2SrmBGSAyGvNH8gnzdiREsomW\n",
       "1GHNk7dmgCgNay4JUWhFQmQG0FK6a1pzjdkKxObJ4Mksu9lrozYBAQOREDLvrkdBpCzN9TIoEEYI\n",
       "4iJbDCh1s1etMMSRaIhOEy2hhp4S0ypEJgRxBaBcNf5mr2phiDeiIZIWWkLfaJ5iLQSRONoH2+a/\n",
       "WfMet2AHIPa908SiioAobEdL6LbmKQ+HIFZAPzwPcn3WcZPuVlfC0w/REMY/aIk+MsVPtg/tVQJk\n",
       "+i4BkZuEZGU1TLlnd3Cz35YQZccT/yAFsXxiFT+sB7RBfcxWiIf8CUjfRO9J8F0Cgi1isXViaw0h\n",
       "WHsqdXXt7Ho2eLuHCAijBm9V2XFCvJuQbVwt87UsAXjvOQWwC73fge/yViJfmfc5a8zf/+yGYzk8\n",
       "ToXjPAFRNCHLM2GBeLdAto2NFZwCDCLLx8T7NpzD6nkXfJebE5/CYvuaaBF1gKfZ06364KoH8ej8\n",
       "qv/BLwiI7DQUeSDHRLzHvKjf2+dd8OEQCyqvmm8BzmFS/Am+i0Fs+xfSd1+GRc4eNicPijrMOs6k\n",
       "B7FdKeEr1Ep0Q5GXUkNUUMNv3Mc8CmsIS6FXr5depW2zLFjGcFewnPSvExBmji924Sf+ejVdHSmO\n",
       "WRffU8dkuHjZjYbJIDpdttyNUDW5Lh+iYwQKFpTYcqX8JXM7ZrLKNhhiPhrdNESDJ0BZZEEZcwEe\n",
       "PsPtUzDkL1BqBItWQnAXDrBLG9jD9iXkmFJ0jX/54Xu80UZArBVfb6GVEGIHYHGIRW5ejYukvSUe\n",
       "WlbruDZF884fzK4M+NI2f7izblX7EFt6uF51x64IW7mF1g3HKdFDTVyJwgj2ErkSwkVtajYH3n3m\n",
       "8CC8fdSWdAsjNjRhiGNXxeExQIgLYJihcAjXj1QHrtC9NyHucEDbKliiqYRywivRR0ZH/zoNnTyQ\n",
       "OQsS/jA1RHUEXLMRo7rPH0iyFtVmxdtSnb99st3+BXdBolACrlnIWN9u84C5VShrMdC2f2eNh0ep\n",
       "13FuoXcPaK7/rxSbbXwyNEQBNKraBePO15DXJgAcgjmQu2UcoyNc0vcZv84FxEbF6lsefZ970p4D\n",
       "iOcUC/1KGxFpqG926s05gLgdsY1z9YK+KW3Fz9AxhZbQlxGb0niVHkRLqK5VTeZm/BDZJtpIxoBe\n",
       "jx/ifsVS2q1j740d4j3FUjr+X/5ZMEslBtGSyus/s4/EDbHYREv/bH9Jc/Wb8TJk1qGN0FKtQxqf\n",
       "xAuRHEYbNW31PFwSL8QmxRK6AxtqRQMJh8pMAAAAAElFTkSuQmCC\n",
       "\" style=\"display:inline;vertical-align:middle;\" /></a></span><br>"
      ],
      "text/plain": [
       "bound_10: |- (2 * (2^{ceil(log_2(2 + (1 / (2 * eps))))} - 2)) >= 4"
      ]
     },
     "execution_count": 45,
     "metadata": {},
     "output_type": "execute_result"
    }
   ],
   "source": [
    "bound_10 = bound_09.left_mult_both_sides(two)"
   ]
  },
  {
   "cell_type": "code",
   "execution_count": 46,
   "metadata": {},
   "outputs": [
    {
     "data": {
      "text/html": [
       "<span style=\"font-size:20px;\"> <a class=\"ProveItLink\" href=\"../../../__pv_it/_proof__success_prob_guarantee/af39d48b952ec07984b70ce16b8d6a82e9b8a2830/proof.ipynb\" style=\"text-decoration: none\">&nbsp;&#x22A2;&nbsp;&nbsp;</a><a class=\"ProveItLink\" href=\"../../../__pv_it/_proof__success_prob_guarantee/3a9545055e0634185c975144e0328e59730402850/expr.ipynb\"><img src=\"data:image/png;base64,iVBORw0KGgoAAAANSUhEUgAAARcAAAAmBAMAAAAcrMJbAAAAMFBMVEX///+IiIi6urrc3NxEREQi\n",
       "IiJ2dnbu7u4QEBDMzMwyMjKYmJhUVFSqqqpmZmYAAAAHKSyHAAAAAXRSTlMAQObYZgAAAAlwSFlz\n",
       "AAAOxAAADsQBlSsOGwAABLJJREFUWMO1mF1oHFUUx89m9mt21t31AyII7b4oItoOWCVKScd0pRa/\n",
       "1pa1iG2zPmhBFIeSKkTtFglGQWsFlfgguw9tfSjSrfRB2kIXtA+K0O1DixQ0q8ZqQl1iQxtsqeu9\n",
       "d+7ce2funVkxkwP5z+yZmc1vzj3n3JMAAOTa4Lc/6fH2ylPSNTBBaRr6OVt5VnVp3Obaxy5KnlyL\n",
       "nhxX3B5rq79moIB1leqSvoVruBkNyXUMQmDOSSHZ4BxvC4SBE4KG2pQUPX0yBCYlsX9G3zhjB8LE\n",
       "21xD7aDkyVRDYHJNyUVhjE4gTGqSa5jdsCi5pm0BZmzeezGNvvSF720FDEwGwtC8vNgPJlGVXE+D\n",
       "AKP5YM6j4ECujM46fphDwTDrTK5KyxGtyymzKMKkfDAXAPJF7W90ZvlhXgqGiVe5qm8g+o3kz1o+\n",
       "mNiRHbB7xcuW+/qG7YH58O02L8IAGGMP1xCYa5I/3/TBjMAueBxovLZhSZbFyLj2QzCMdp2r2EMm\n",
       "njww0WQw+gK+qbt/H7+jbjIXgdHnIV7YBAvO1bewfGxTmHzPNfygCmZ4biM+bAeugllr4e6jtgtj\n",
       "4JRYA8lL/IaTwFwEBgU32znxpsVhUJvLlUoTpUe933ynAkaz4JUiOs6RT3MSzP0Q11swU3qkVGpC\n",
       "FvewrwHe4Td8B8zlRiZTuPlL1PDP/OIs0zDcq1qmswqYrAlpnCkryaeVCpic2XAjk8bb0Ac2nOZV\n",
       "9x4wl5MzX8CQPUtaTA3gIfS2Gz/93YW5Z0WRPXhUAZNehCxe4GmSB9NuNtxSqTQYjOXC5HG1nQI4\n",
       "zZPmCjAXgtn9DyRv/BVW9/aifXmK1G+615t3YfYIpX9BFZkyZHHp1UnF1Wnd3TXII5N9rcVgaOmM\n",
       "8ufd+hoVtgOUJWsR9gjKXR5iMk/oeBGMn/H5JnU1JTBujfweR0H7XFimj86bLsw6h1X/y1eFjovB\n",
       "DLTAqEIOhS/BQuh04HgRDThkP9bKapg6ni3yZMBwFDIsJ6yhA5cHWQemgUu0eAOmMNjFN8qfnkMv\n",
       "vyNGt0PBZjHEwZvcLVQBs5WlA1XICAl8fJzfudrJvxmyq14lQaBVPiPt2pneZaTrPb6kjV/2W6cb\n",
       "MJjxCrZnnF2HLGe+wxWm8FXLgYm/znusExmjxXsSjQxxqYarMc+nwz28OK8esSnlqoDBygMzJkRG\n",
       "72zwwZwDzfQtE3H9qOrsBXXHj5Fv+EQaUaqkKXlyJiH2mdk1fG/HQdKrEGObt0aqyeNaiiG6QVa1\n",
       "tHZjBQFmLMbWqYb993W7v/GpjBSWx7UE07Z3u2VWtbR2URt1YYbBaI6wDolXcbTXu8qf3wuS6/9b\n",
       "Au2huNfWSaHUabt+Y8R2d+31UDrszsYZaYeB/bAM5oyybKC94+FKQzHuyfPOH8sB87ygwX81yfP4\n",
       "SXsZYB4TNNBS1yVXrb0MMNcCxkqvPSGPo53oWQYWuIbYVwHDc7SWbHANsVpRWrlL0cOk21z7Mnvs\n",
       "xehhbhU0zN6VX2Nf5DDvCxpmx/7LP0mWaLEG11DLyP9WOBQ1zJDJNbzTbJZcu8xoWVLbuPaxB6WO\n",
       "ywfmaCze5Npvl5fz9YFoYXYKGmL/Ap37TjffkHUVAAAAAElFTkSuQmCC\n",
       "\" style=\"display:inline;vertical-align:middle;\" /></a></span>"
      ],
      "text/plain": [
       "|- (2 * (2^{ceil(log_2(2 + (1 / (2 * eps))))} - 2)) in RealPos"
      ]
     },
     "execution_count": 46,
     "metadata": {},
     "output_type": "execute_result"
    }
   ],
   "source": [
    "bound_10.lhs.deduce_in_number_set(RealPos)"
   ]
  },
  {
   "cell_type": "code",
   "execution_count": 47,
   "metadata": {},
   "outputs": [
    {
     "data": {
      "text/html": [
       "<span style=\"font-size:20px;\"> <a class=\"ProveItLink\" href=\"../../../__pv_it/_proof__success_prob_guarantee/1974c1e0e9c4ad7fab34ed511b284c0c4b6ad2010/proof.ipynb\" style=\"text-decoration: none\">&nbsp;&#x22A2;&nbsp;&nbsp;</a><a class=\"ProveItLink\" href=\"../../../__pv_it/_proof__success_prob_guarantee/ae644040569dffa7cba74a3ef3891abdd7f1c4f20/expr.ipynb\"><img src=\"data:image/png;base64,iVBORw0KGgoAAAANSUhEUgAAAOQAAAAyBAMAAAC+HmqMAAAAMFBMVEX///+qqqqYmJiIiIgiIiLu\n",
       "7u4QEBBUVFS6urp2dnbMzMxEREQyMjJmZmbc3NwAAADzFso2AAAAAXRSTlMAQObYZgAAAAlwSFlz\n",
       "AAAOxAAADsQBlSsOGwAAA91JREFUWMOtmE9IFFEYwL/9M+vu7Dq7UJfwoJeCoHATDCJMD+YhCPcS\n",
       "EQTrIZMgVCKNDuVCh45uWXh0D+Uhkl3on+ChjegUwVJSiYlLefOgZqaRNr15b3bm7cy8mbfs+0Bn\n",
       "nPf5/d77vve+770HIESiOR4t6QWIk2t8ao9SwogNWZdG+bTx6usShjzi0nb+25b5x6QoojLo1hqg\n",
       "kMEWQchgkhfp6xeEPAS8SPjAdhXje9nx6xV+5HiZpXbM+mGVTO87njY9mmPDDC2fddLL+wky4BT+\n",
       "4DA/0sfq3kW7WX0Rv3PQzuf4kdKm/nxt0foIcGFyxAl51MHmKPAj4bn+XLNo9QGUYB69NFqRIYeU\n",
       "NVALslWfP2lLKIsAO7CG/BW1ImP2YMo/a0GmWwxk24mU9GmhCf/ZiGbPwSqkfPweeYnYp0rgnzsy\n",
       "UtUeGq4goxmpK5qIp6ihPABqlBXxF+2Fq8895Y/u0nUm2gXK0vscQuYBngUzceLoYKJSAGxIn91+\n",
       "qICTh2aHQyLrsAqRHYREOeuWf6RJN5Ihi39x7uXcXAuoFVlHHVm3GUmXcK7Q7HCIfwduA1wmo3wb\n",
       "+J6B8L6vBKmUlLLDKMP2UeZxUsd2iIprtZA3YSgFY+U0xBJKfyPyTEibSppjV5/MpHQk7ga7yDZr\n",
       "YSB2iIprXZH24DrA2OPlEkx0lMPq75IC0wiE/mlIVSuxDFGLyF+wGWnFMdTs5DiQsK396jVSt3IT\n",
       "YJZeCVFSVqZx4knq68cinZXioNvxQP4l3iVyF+AwaN6VDe/p2WcWYf24H8EM/tyNhfRsKmVEiQd5\n",
       "lS4EvoWOJDwMoLcz1VqoGysQm9BoK3Yby6nqguKB7EY/i/SHmPrLnrxxNxpyesK3ypj+XNTH33OJ\n",
       "jD+uWoSsrx7QHWZJKGV7N6T77SisBSbSsOMxSoQ8AIptcyAVWLtyoloVS92xhh1Px8pZCNgL0g+G\n",
       "/imHb1OYZNrxnD4rS0vz9e3vOnGQTTseyAHoVdXd+pAkFZh2PJB7AnaxzRlLsakgHYuL9EcAMm9J\n",
       "40ZadywuRuKpR+IlRoNZXGgfbIg4kRQZDWZxqWHbwne4ZG1EzOJCa68LQPpdzge95innyzVq21Kn\n",
       "yBtuWwDjdKaPdy0p4qzH3jqbpxWjX61lEcjPzBZcXCQtRTRs30hWAixAxjOsKJNBnqV2zLApBBlk\n",
       "LUyqSMWz3nNNwJSli1S0xHUW5RbGwZ0uUnI/nHM/uNdYS5wvraqK1Exbu/Z4JehGJJbl1QxvCULK\n",
       "g9wzLSHqeuskr6KwCzX3a0Par0VhSHjDp/ZU3OUo7xUwvsL5D0VuGf37YlJMAAAAAElFTkSuQmCC\n",
       "\" style=\"display:inline;vertical-align:middle;\" /></a></span>"
      ],
      "text/plain": [
       "|- 2^{log_2(2 + (1 / (2 * eps)))} = (2 + (1 / (2 * eps)))"
      ]
     },
     "execution_count": 47,
     "metadata": {},
     "output_type": "execute_result"
    }
   ],
   "source": [
    "Exp(two, bound_07.lhs.operand).simplification()"
   ]
  },
  {
   "cell_type": "code",
   "execution_count": 48,
   "metadata": {},
   "outputs": [
    {
     "data": {
      "text/html": [
       "<span style=\"font-size:20px;\"> <a class=\"ProveItLink\" href=\"../../../__pv_it/_proof__success_prob_guarantee/3f19425562b68a3a1da8c099da181151d2056ad80/proof.ipynb\" style=\"text-decoration: none\">&nbsp;&#x22A2;&nbsp;&nbsp;</a><a class=\"ProveItLink\" href=\"../../../__pv_it/_proof__success_prob_guarantee/be6c8ce1163c6a9f2199d6072086100da54fe4540/expr.ipynb\"><img src=\"data:image/png;base64,iVBORw0KGgoAAAANSUhEUgAAANMAAAAmBAMAAACsdrNAAAAAMFBMVEX///+IiIi6urrc3NxEREQi\n",
       "IiJ2dnbu7u4QEBDMzMwyMjKYmJhUVFSqqqpmZmYAAAAHKSyHAAAAAXRSTlMAQObYZgAAAAlwSFlz\n",
       "AAAOxAAADsQBlSsOGwAAA49JREFUSMetlk9IFFEYwL/dmd3Z2V13t4IUIttOXYwmUhELd6uNCiIX\n",
       "SqIoNchb0RBhYIfdg2Edwj1Efy7tSmlHDaLEIoQs6ZJ7sA5dXEEFLTZTwkpkmzdv/s8bZ8N5F93v\n",
       "fe/7ff/e9wYAIJQH4qLIYuCI0i4e7Nd3C/l2C/lOopQ9Y08K5MjyinajpBY77hoi6r+xRz20iLzL\n",
       "5PdnSfMZUZ/O26IGLOTfTBKPhHpL1Gd67EgVK5Jms2EjDdB5eZyE8vH/VXP1vFySmMEFoYQFmEUd\n",
       "akT5ycWKcZYQbCIru5gy7AouLEEsIxTBiPKOkovVbonCJsZARW3byjPTc5OK6690KLbqyro9G0jb\n",
       "oFZVFB1lknQ+jH33iA3VAZqolNySbVJrBsFId3N/95CCYpeRUvFpRkBlAQ56omGccl9UvpeiXrgk\n",
       "L0G6aLDZtHAc/Wk1wuMHoOYFL5sIoGO14F0SUMMAnwLjk6CihEs7kziWSOj7wG2IiorDVaS9YELV\n",
       "A82OyiaCKO/vAG7jqPpc+4VDu6ujYgKpAsWREpjU/w5y4EP0HQRUiMvJUflQN/XyMMGlwJ+nekIZ\n",
       "dKWYRaAjQlCPHvMyCuHl+sf1Fn0rEER1mMrg364jLedUVFypAerQ9wATD34U4GI15y79LgDHpsWO\n",
       "7kWVkVAIr7kHuqiSEPyD7g0eTe4+Xo0qeGNUQUllaFNGKvVB2IoCm9R3KsILAU2j5oyaBwHyI4Vt\n",
       "NfKaBN77yskmYtgT9qe0WwPwEmBe+O+s/qojPIfHd5250bMR5HZE/P+JWquG/l+VigkpaI88ACrm\n",
       "qiPg5SPmoToPVBIGNhMHMZxXigGQ07TFa837sAcnY0Z3cLAkZI/WjzQRDx9xb4uPTAtaOPaQKAoX\n",
       "xATdEsSnJRR9U70nOKoAYaoxcTMeOp/zRh/UZxGjNOfi9WzhqAH1BSjz+b0WA20L6cHep9Yqqb1X\n",
       "87Xq5EcBsu3gKucrxGrdB6hUu3mTFnVd/TxIIU/qisXZDZCo1mIxqXazX3n5400QGDqk3HSU37ZS\n",
       "6e8GUB5hCKO2y+IWY8Z2KZP9MCQGZbI/Do6tKakI7kvSYDI8tmnnUB02X4ErzqFOrL/NrDmHWrXZ\n",
       "P+kYyb1sozDsGMqbs1FIRZ1C+fIb9aXsVWWrcccp1F1bjRGHSC779Fh8gf/3auBsVZhTjpCYC2Uo\n",
       "NfJOoOhykkNlnEBds1P4Bzxw5I8nR+SLAAAAAElFTkSuQmCC\n",
       "\" style=\"display:inline;vertical-align:middle;\" /></a></span>"
      ],
      "text/plain": [
       "|- (2^{log_2(2 + (1 / (2 * eps)))} - 2) in RealPos"
      ]
     },
     "execution_count": 48,
     "metadata": {},
     "output_type": "execute_result"
    }
   ],
   "source": [
    "# also need a version of bound_10 without the Ceil function\n",
    "from proveit.numbers import Mult\n",
    "subtract(Exp(two, bound_07.lhs.operand), two).deduce_in_number_set(RealPos)"
   ]
  },
  {
   "cell_type": "code",
   "execution_count": 49,
   "metadata": {},
   "outputs": [
    {
     "data": {
      "text/html": [
       "<strong id=\"bound_11\">bound_11:</strong> <span style=\"font-size:20px;\"> <a class=\"ProveItLink\" href=\"../../../__pv_it/_proof__success_prob_guarantee/ed9aec6956ddbdc85660941748df2cbec10cfd6b0/proof.ipynb\" style=\"text-decoration: none\">&nbsp;&#x22A2;&nbsp;&nbsp;</a><a class=\"ProveItLink\" href=\"../../../__pv_it/_proof__success_prob_guarantee/50105bc93e199fdfa86ab6f85d0d1a7a3051dc0c0/expr.ipynb\"><img src=\"data:image/png;base64,iVBORw0KGgoAAAANSUhEUgAAAeoAAABOCAMAAADYSaVEAAAANlBMVEX///+/v7+urq66urqqqqpm\n",
       "Zmbu7u6IiIgiIiIQEBDc3NwyMjJ2dnaYmJhUVFTMzMxEREQAAAAtZbcjAAAAAXRSTlMAQObYZgAA\n",
       "AAlwSFlzAAAOxAAADsQBlSsOGwAACFpJREFUeNrtXdm2qygQtRuZ5///2XaICogKhuRIEx7uw12c\n",
       "QNUuaga7roXBQdfkYAQ1RjFUXaNDNEZ5T1GrUHdUtkQtaotcfwDLGqJW8a7hoUw7tGoLWoaa2b4Z\n",
       "WnnTh7rrDGnGJ2v7UI9aDbdyqEnX+DD0J9PN6LU2rLWyqHWoO9uEt4KsaR7pQdx1oNL102Ez+QdU\n",
       "NhRqHA5ghQ/981NKOj95b376e9TgnmOmxCOhChyMXG8aWfL/ENk3fXBXg8uPW26kIH/7iOUWaqQV\n",
       "T8O5CB8yB3bYwCj7yopvk0jyzIx6ZP4Efxtq7fjgBFdCYmY9ktruB/VorNcVJa2GRA6rN9V/ADVf\n",
       "tRsV1ZCYVX/tnxlVfx9quOQMv7V0kXW4yqFQ/KCe3dOXzBNVEYl9xo/wZyZQvg+1fkXW2uqKSEQZ\n",
       "9Qtq9Q/qmWmzf6poVSRmlNrtM3Nl34d64MQk9FRVRaJMdsyYfWSs9RdQk8mUaSurIhEl77d/Zqz1\n",
       "F1Dzyezhr7WPijIrJWsh/NBCrfh+w66aYpFv9aMoRS0vUT9LNtbikWF1MT7kBdbj+aAeP/Tzb/kI\n",
       "myzK/vnXpNmKphgVHLJbqvEvqi53/DK3hoH44QExDmmV0PY5qMmuzw4/nx3BjpE4KtZwC7vKaPuc\n",
       "J0h3/YQVsAPZsOSBiUDRCEP8oF40oR3/0bWxw+5dcBkDm/6g9qAOYq0qoI451j2HbAc1/kG9pBjs\n",
       "aLBRbeyg8XAZcIUCqOUPagdqWB/UhBxAHXQP2x/UK29GqJU9ZAfiZBsPqhERGlXgKlTgNqhh1kDb\n",
       "x6KWgfYTqA8s5d+Mc6glgSiy03/roO3zLPtnhPr/oMAPgq2zU93YmE61qM8D992y4xTKD2oX6pF+\n",
       "z1KJCp5J8UpbJ4nR0AMvQxt88i0wxNGxW+alUEpUXQJ28jfZG/lzm9gg7ENdqKIUvoEGRr8O36Qk\n",
       "YXo//n76rg9KOhPUpR+QwL7Qo3cbQcCOjSi1D5R8oOlid+NJynuMiYHrBYsO4SCj+V2qQ6hvNKEw\n",
       "CPnRFd1e+DP6m90B2y9gubM7iY2EvPyLCXp3uyQV6v5SPnXvn8iN8ByoO9NHUyg0Qx06wjfZPRC3\n",
       "Fd4MJggXgVBIKDXGMH2N0Pz4BRpEDgNkU74NnO9+MRFqlCLygfJdCc+CGsXuOsmp94rknrs5VUGj\n",
       "zStQBjN4KGNIgvF1wIv7gO4aMiA0uUNKZUvx5dHc+/AvqJE5t1QzY5AQSqFUqFfCs6COvqg6915l\n",
       "9wbTiV4VZTgNZ+x4wxAeV72Ie7w1AjFVqeYf2tK9sGSvJpZTzc53NTNmhAwuWQF4BfVKeB7ULILM\n",
       "3Hslc6NNRWaGR6z1yzJvM8BEojbLGDehBgsKaMYaQThFUzvGiveW6QirFqjP/c8XY0aLxBbGmUuo\n",
       "F8LzoO6MiEg9nPZ/K1AkMdKgCGZg1aFQJOjwHxB2OnkN/wI9S3a2ZOmO0dh7nT7UWOIxcYcghqI3\n",
       "O8ZIdAK1xlT4UCyEZ0IduVhrZqbdavmPu8Hu+ZtmQNyFOctJ0xHd6+Q1/AAnveUf2MLNsLFgxYPa\n",
       "gNFPnL1gTwM4jBGLAr9WOQvhmVBHnhV93V6DdxgSv9JH+mCGHtztEIDx/7GQ6Wv0dK/b00jOD+rP\n",
       "Akm9Cpkzy4VaT+sZ3JEBck8iN8ZsOY5rqBfCr6H2t03g3vfRs/DnJ1GgcTIa26GjIDbjKgw5iJbW\n",
       "X9AeYhnBss3OhJ4FkoM+icxyoZ41p4KdVKj36F8ZM6dJ4Oi30PEfOe8zXpVaCL+EOtg25HtOoAMh\n",
       "yErJOH++QS3fdn63X/B8uBwvkmQL8VkguT0s7oWCu1PNcYeZnFYGPYbAZQwbeMVY6qkGqac62Da2\n",
       "O/1G87m3ZX4YO1HghzPurOG9YZVzGVxlZwLPAsnNqXFnebZ6zCKwIUSCeg2xZnftxRhmtNZLZd2B\n",
       "ehWJgAckEepg230YHYFV82Y+kKGn6TgiHwZfzbizhnSZkqOTcXYO5SSQHLSgiMxaUihzOCMwHrsZ\n",
       "waCCKZxKFpo6jKFuy4Dxou5YsLYQfn2q/W3vgqrtNau8Y80IHEfMO3pFBycz7qzhhnAmxzCAm9EW\n",
       "sSkO+DwrlhidDDKbX/0zYB8v7qBeRWJOkuEgdk30wNdt7y6rqg17LrIYMY0YFzW5mnFnDQIc8HKE\n",
       "Et27YH1QTwlimNesGNRTkNHJkakvVa4jYu/jN4kE872chfA0qJ1thwSQjW261BN1n+jIYyQezSVJ\n",
       "zB26DtyBQC2+ZkXLHT0UeDqbAnU4iTGTSEyUcoFBQHga1M62gzoPchMMuFAKUcLyUEO5Sx+lDnGn\n",
       "Yn0QSAZB6TLrtLLFB81EUhizisSgbPWOcBfq69i021Ure68YUOo5WVO8X4ltJIBckwBuFDyOAkn/\n",
       "VK+zUuvVp4zZRGKsfsnZG90ITznV3rYDqJWvj3iZlilU/Pb6xiPNs136/Jcnj8NEF+ptVirU+YzZ\n",
       "CE+A2t92YKtDLhR6+p0V7vzAbFNd+cEbzH3O6iRMZJs1cGb1/YcYsxH+Wi5j277d0raFL2OCzEaU\n",
       "szBxezHt/WCyuOfqbYiFF6mb+NQBzavlnIaJFKbM+osRbCj4YCBv4+tLuGBDLK/lky9+X5R+5kur\n",
       "5UdBOwVrOR2C+P53I5daRDlCZS0887LHyLbyuXJUTn2hWtwbzwHH7XzBuuClPAOroNiv/lHYNTNI\n",
       "sWMt6zDWgn9G0mvwR0tpMFTHB5Jp725Zdg0NaD5yXh5rsVzdoxr7JigpJtlU13WoAW3s9QBdjGD5\n",
       "/GON3S0S0DU2QLF4gz/d9HkfQkTNIV0yTCfs4fv7fcW52Knhj7Z+Rv4gKof1kz2zM439H4PJcCT/\n",
       "2Td2AAAAAElFTkSuQmCC\n",
       "\" style=\"display:inline;vertical-align:middle;\" /></a></span><br>"
      ],
      "text/plain": [
       "bound_11: |- (1 - (1 / (2 * (2^{t - n} - 2)))) >= (1 - (1 / (2 * (2^{ceil(log_2(2 + (1 / (2 * eps))))} - 2))))"
      ]
     },
     "execution_count": 49,
     "metadata": {},
     "output_type": "execute_result"
    }
   ],
   "source": [
    "bound_11 = bound_02.rhs.deduce_bound(t_minus_n_ge_log)"
   ]
  },
  {
   "cell_type": "code",
   "execution_count": 50,
   "metadata": {},
   "outputs": [
    {
     "data": {
      "text/html": [
       "<strong id=\"bound_12\">bound_12:</strong> <span style=\"font-size:20px;\"> <a class=\"ProveItLink\" href=\"../../../__pv_it/_proof__success_prob_guarantee/59a62dcf2fd8ef0f1d94a47c77674cf0dcb369ca0/proof.ipynb\" style=\"text-decoration: none\">&nbsp;&#x22A2;&nbsp;&nbsp;</a><a class=\"ProveItLink\" href=\"../../../__pv_it/_proof__success_prob_guarantee/ae38a92588027500dedb4460419c3ac8501930f50/expr.ipynb\"><img src=\"data:image/png;base64,iVBORw0KGgoAAAANSUhEUgAAA2MAAAEsCAMAAAB5fpurAAAAh1BMVEX///++vr5tbW1eXl6wsLAm\n",
       "JiY2NjYZGRmOjo4/Pz8rKysuLi4nJycbGxuDg4MoKCgkJCSysrKhoaGurq56enofHx8dHR1RUVGf\n",
       "n5+Tk5NmZmaIiIiqqqoyMjIQEBBEREQiIiLOzs6/v79aWlrf39/u7u7c3Ny6urqYmJh2dnZUVFTM\n",
       "zMwAAAAbxorfAAAAAXRSTlMAQObYZgAAAAlwSFlzAAAOxAAADsQBlSsOGwAAHThJREFUeNrt3WnX\n",
       "qyqaBmB6Xqu6us6pOvsMDSJ0VQEy/P/f13FK1IgxikbjzYc9vDvbIHIxPCISH6rkCBJSJMm6jqAg\n",
       "FiYfbHFL5vET7W5l6pwTohj9H4bnFuV2pVRWkMLB2HJjeuRnVbemcz7+f2DsitBgLKUx3QwdizCO\n",
       "icMYjCElMeaDhDEkGNvQmAkcxpBgbENjNmRlhINllt8+pChjtIqNcFrc/pih8GAMaZUxxfIqsJjT\n",
       "TIeCeFl+ULDSWPVHTlF6MIa01Ji01rKmo5K3SZm6/Wbrj/ubLlePJM2ry2KLN3KiJ8x6S1X37zTy\n",
       "56m0tknI9MzMjiQGYzA2MCa6sy9Xf64mV4Yamx4svKhnPq9/v3GdmMApa50rARVjFVEVzZTQ9u6S\n",
       "i8ifR7PBxazPRW2JqoSqW4jTmZ3IP4UxGJswVtWPrOm1yn9qjY3WWs+cENVns7p6ldXRiMnuhd66\n",
       "SiZHZnieMdnUdL7UGHF2hbFM1JqUm8xsQU2R2Xj+jYUxGIsbs71+jE73Y5T6e/WsWeTlD0a+pUml\n",
       "XV2OQOV4HV9vLPeLjRX3tS51tCea2YyJ8TNo888VjMHYtDGS0/skrB09+rL9Lm5ttSOsEFVNZp0Z\n",
       "WM1Ch7J25dEoZKHqaqv4CmPDbPTP8PYvaokxJh65liOZ1bROJT/nieYT+bcZjMFY92fd2iJpM7vy\n",
       "LTheNcrlEEwVpgw+5jd0rIpFdityPRXxlTE5Gf2wt4qYUVJM1FEjJ4wNs9GXIhVh9H1jvtsudPyM\n",
       "Z7YcQBZGxdsICmMwdq9Ojofg2vmDcSF3Wd1q3yb81YhJqMwYVv5RK1ZWvrJHo+X/MEU31uAfxvKp\n",
       "GIGXZfdACz1hjHCmosaG2eilcrhXcp9trI0ZZsLev/IxoRzPbDldy8bCqPc2QsAYjC1LjjUBRJlV\n",
       "XZeo0u3Pvg7ANWPFMDFU0qLb/HvRJt0zlnE2MR/rZ6N3jLL/pe4NY4+Yobkry9xoZscKdDz/HsZg\n",
       "bGEqa3A539eB+PI+VneQ5ubEPKpuQ0f/ua2jOp+MefSz0Q+qNNPBeCXPctUbW3Ziht5R3SUyndmp\n",
       "+STGijC2LOnQdCKFqALb3Va+CVOwMnb/mCUp2/7Sdgzee6pe1tHJmMcwG72Zkip/OtmP1UE/k9Vr\n",
       "xeRg6Fz1x3JOZifyzxiMwdiiVOEpVzNqV82XdCeu17KwlnWqpc9180vTEU49Y6stD5a9NjbMRu8M\n",
       "aV2/Xxq79ZTqlpGnAGeV1Xrkl7/5QPAj/0LDGIylScqWUxHzzGJlWnF/7PE5JWhROFMFJzzLWNke\n",
       "eJsV9VhR11O68QDnypvI6uzTMRg7jrFutZRHM0ZMGV/Mykh81VuV/Zesh5PNZ0w0wElXlRPVMAZj\n",
       "GySebg7ieZbEWBlfrG4hV7H0GynPyWMRBu3GSwYBQmJXrNQoDIExGNvk4KkWN2g/MkUa+fPkMUpj\n",
       "tDWm2v6r04/dFE21CiuMKQJjMHaJpJz0RlJi84wYVlS30cv5WL2UhYcQJGoEjMEYEozBGFInhVkJ\n",
       "xi5tjBuU0hpjyT60ZdJSwdjHjFFs030BY4PnzGFsT2P9tXxI32qM5AWMfcaYyoulRx49roexbunq\n",
       "JMZUilsk5kVjC2NbGXPL10PZsXmcSIAsfCJtYuxeGqvqbxGSLNRyAsY+YcwHk9ZYikc8PnGxNzH2\n",
       "eBphzSnRRC+20iGDsQ8Y4yuW9Y4ai+yMc01jXCc4JRZSLTcWEsb2N5at6Ma6xjpbECTYO+ZbjBU2\n",
       "weFNCCpZVWAwtrsxvqbX6RjLHhdPCxhrIhW/qQSHlyHdzo0ih7G9jU03bMuMdQZIFzf2648Eh0/Y\n",
       "jZXDlgzGdjbmVl2/iLHMwliZfslTHN6FlA/CTh0Mxhanf/7jn9HBzLrZdMTY+qjHdxjL/5bi8DKk\n",
       "3IvHhfitlX/5B7Ck78eKkG1hjBoYI+THr0kOH0LKvXjMxOQO/dgWxsS6oX5ljMoy5Xn1W/MGXAdj\n",
       "hPz21wMaIyGHsT2NqZUPLMb6sceEbPc1FysqX5IVItGz+MgKlNFm1cPYjsaKlVHhmLHVgcWz9mMd\n",
       "D+pn1/3rmn6sSHmaLH7NYWwDYy6YLYytv0F2TmO9Dsf9rHs/O4oxH48swtgGxvKVhRoxtn6hxxmN\n",
       "9Yd0/ifbl3cUYyR+uw3G0htbOx2LGZPkesaGk6bOEo/6n1YY+5H0PHl08AJj6Y1la9eajhtLsPD+\n",
       "hMaGRVO8+MAbxtLetqLROCWMpTdG1y6EG18TnGDf97MZewr9DXbUDwcyFn8WDcbSG+MhS2YsWr0u\n",
       "FPPoRjxMssOnNuajd8hgLL2xPPgNjLECxkZe93eY+ZiK3m+DscXp7+H/Yldv5YJuNmbUERhTOqWx\n",
       "IvGJxprWv8BY6n5MH3dfza95DvqIxmRsioB+LLmx7Lhbv8PYI/3+e+KdvngssAhjyY2xpA8mwdhZ\n",
       "+jEXCyfDWHJjNggYu6Cx6C5XMJbcmAsOxpIY23TxfHJjNjZ+gbHkxkTSB2wvbGzjfKU3JmFsJ2Mc\n",
       "xi5pjMVuQsNYcmMp9xSDsQ2Npb0HfaMUYGwnYzmMXbIfg7E9jTEYu6CxDMZ2NFbAGIzBWIIUW68Y\n",
       "YOySxkzMGNYrJu/HQvhfGLugsb/H1oKjH9vA2B8wdgZjP2DsvMYyGLtgP+ZhDMZgDMZgDMZgDAnG\n",
       "YAzGYAzGYAzGYOwIxn7AGIzBGPoxGIMxGIMxGDutsZPtNQBjMEaw1wCMnSypQkUuHtYrXrEfi66l\n",
       "0gWwoB+DMfRjMAZjqQ+ffA9TGDuTsdHjehjrDtQ1+jEYW5FG39siPIyNlAaMwVgyYwleo/k9xozD\n",
       "fAzGkhtL8Dro7zHGNYzBWCJjnXfV2gzGmsnYXyyBMRhLZKzzznUtYKyZjP2PSmEMa4JhbGCsM0C6\n",
       "tjHz54KkMIZ+DMaGxjILY2X67z8RGIOxTYytj3p8hbHizwbGLpLie5huZYwaGCPkv/6TnMsY9jBN\n",
       "3o/R33UKY1SWKc+r3+rbQf5xV2hh+oSx5Wn0SPY//j3R4ROXhvr9d4J+7OxjxdUTstP2Yw8TQxyI\n",
       "K8JYSmOrA4snNdZV5X7WvR9gPgZjCY2tv0F2SmO9bsv/ZPs/hTEYS2hs/UKPExobTJvUb4r0kMEY\n",
       "jCU0Jsn1jA0DE7Z7+znAGIwlNZZg4f3pjA2JKd4vaRiDsdXGOmuChb6csafwujNPCpcbQ1wRxqaa\n",
       "8AvFPLpFLtIdHv0YjA0TK2BMaRiDsSTG2Ni2Ao7AWMrDw9iljR2wvsMYjH0gYQ9TGOsm7GGKfgzG\n",
       "BpcJcUUYgzGMFWEMxjY1hndKwBiMHfQ7YQzGYAzGkGAMxmAMxmAMxmAMxo5rDO9GgjEYQz8GYzAG\n",
       "YzAGYzAGYydO2+1hCmNfZQx7mCbvx9bvYQpjZzSWdA9Tbi6qSkuFseL3GDvwmmDqyFWTdTCGfmx7\n",
       "Y1murjs+zAsYg7Gtjan8yk+cmY4rGIOxbYw5Tq6cnIAxGNvWmA/m0sb0AxCMpfvOkDad2xi/djdG\n",
       "iJAwlvQ7VeG4TFurtJTi5fsQDxtXzC7ejZUlyWAs3XdmnDO/QRBNGSudPmU/xiW5ehI5jKX6Ts/p\n",
       "hkFqz506n7FHI37dlLWEYGztdzKx8YoYI83pjLmgLm+MBA5jSb7T0c2/XPHiZMZUECB2a2h8M1nH\n",
       "HqZrvvOnP/b4+n8TexlLs4dpcdwWesdkgkU/tv473U6lZG3M2CHjigJDxerq5DC2+juZ3SsDIjvR\n",
       "WFEFCWBVU+NhbOV3qv2qUuSrjmmsCPaA9cbLvTtXVpcDjK34TrpjGY2/ua1vLBLg9Hsbc8e7Aa0c\n",
       "5bsPYH0dWYSx5d+pdl0uJF8bs+NVW/idjeWHXN7J9p8k1oUJY8u/s9j14Y3RdVWzjL3znvsUxg46\n",
       "HfuAMV516DC2/DvFrtfM0KXGiNzXWHbMu2MfMEar5S4wtvw7d15ZPialv4dpzJjNdjVGDxny+ISx\n",
       "omptYGzxd+qdt6vgi/sxLXY1xo9Zdz5gzFd3yPYxJukXGjN238IYG5rOM0a43tNYHjyMNTPTsJcx\n",
       "FfgXGlu4tHxxYdAwy5hhTmnLBCPeWlGry+yexsIxV3l8wNitKPxee5gq8o3G1L6FoecZs0Q4VlIu\n",
       "TLk31JtRjwR7mOpwzJ0ZPmFMloywh+lyYwfIxLMxY4gUVU1nnd6nCfy/HjMm2MM0O+hKqk8Y4+VV\n",
       "QMzj5MZ+DIypWw9mqppe1ijaPsLk6mHqHmNFFjiMNcmVIVYY+7J+rNRF7rryZiJWT8gyvocxe9CH\n",
       "x2zYf2hGg4OxLzRWb2woS1XlTpqqHSRqK7n12xtz4Yh7cDuXB+6K3V1zxBX3N7a8MGYaq/quesB4\n",
       "41Y9W9ncIOOvr2kCYyL0b07sv979SH2nxP2xD/RjiwtjnjFd3Z2qSQhLqkFis9BjxoRkrrGJ/Q94\n",
       "19hH1rsfaQ6YY6z4fWNFI6uLW9VzQ1l1easfEZOTZMaIsjJyf1AOllKxCxsryvsYMHZyYz+exorP\n",
       "qVl4zxxRKedjTNqxz+YwBmNfHvMYmSHV15gyYlVCY7cfjinLBwtgrmwsg7FrGGufJfW0eLmQ8N2Y\n",
       "R8apfjJWwBiMXcsYeyNi/X5c0Qw3Mg4w9igcGPsyY2y8m3rndtUSY0JNVp0rG6uKE3uYfpGxBOnd\n",
       "PUwz/vTSixB+iRpTXD6S7/yXb0rD4kQ/dnJjH93DtJAjr9NAPzYoThhDP7bUWCR2D2O94kw0H3tv\n",
       "raX+tDH9/gfeMLZdYRzKWPwe9DZxRXrkHfQVVxvHPNh7p2/YZ429zu5zDucb27AwjmRsYi3V0FiS\n",
       "9e50ELgx5YRuVtm9++XN57PyC2YXbmxNZipjMx9k19bS+tF3ViQ1xhylri5u7WQIzjkhyq/wTub5\n",
       "7W+O53nRz275QVm9EKJcjv10rZ5yONvYloVxtLFiJMlentKsdy+G66hn723J3u3/Oq2emb+ytHBb\n",
       "GmvvcCo52WKoMr/NqwW5SmfMVw9x3OYGvqkj1cnqnNenWJ+6EnaYXdvuF91/L0RzFsMczjW2aWGc\n",
       "xBhP/w5Nn6uFxma0eXpw7+HR6r1hLPLSjyzNmmBatIebrCysPGDzXEdBkxnT7QVl9WZIulFVv9ag\n",
       "/RtRbphd3h6mHxlrzmKYw7nGNi2M48UVx2tb+u0V+dMRZxqbsV26z4bjvHur944xlavRUpMpjLWL\n",
       "uamc7oLzst9onp3KVSpj/L6WXMquMV9tKnE3Rugwu/eHdfudfHsWgxzONbZpYRxqPiZHb3RVBRpS\n",
       "v1p0pMVqjCkRZnQAylo38VbtobF7q/eOsacZY9OYpnhG8/78urRzCqsums6Eub2FOX+fzdA7oH2c\n",
       "DuuoMlUFrv9myg2aBtk1bf+n+tluz2IwpZ9pbNvCOMlYkSZ/DnqkNNt+TIcZHQDttnr0pbF7q/eW\n",
       "MT0mqdp3YbUxWp2/cSII92ocbtpAjX1cBV23glr6JcbcI5u+o6o8uez+N2aG2S3/vfm+ovOPnbOw\n",
       "bomxbQvjJMaS7+fhR7LUGpveBqhp88qpt24vuHhtrG313jJGhB1rb2gCY/w+A3lZVMw5/xwmqirU\n",
       "G8R6VY0/3nSlq32Pa1WK1YHE28+c4923YbXZlflos3Y/i0Ega6axbQvjJMaK1PtSuRGzfWOsYOXt\n",
       "cEUZtZl4alHL9YLvGGtbvfeMFfnY3JQl2MNUNp+jcwq2CaXdt9Zs69U7xOLG6hmYtNa2AdtKnBbm\n",
       "KbvqPp4ZTMfas8jyJca2LYyPGpu/h6kJedo8jZ1jz1h5gcsXjZaxvV72O8Nw244VxVNrlw/fudG2\n",
       "eu8Z0yNkeJI9THPzNGaOLPysPl0Xge/HBmWU2Ks1l52xogn11p2id9rtfKy9tdhkt50LEc3GR/79\n",
       "HL7MR7wwJkojSWEkNpZgD9NF+wRrSnnkXYSPKtr5UNdYXYCCEXkr/l59lo+ZxL2zmjGQbVu9l8b6\n",
       "uR7ZqKXa+n/1WLGpVurV60m9r/vOrI6rzaxWr2Me9BHzKCLGlHosG2+ye5+O2d7pP87CLOrHti2M\n",
       "kS/svxvpGGPFW915e2FHFeSx48V2/+buh7rG6kGao6RwKhNjbV5zD4yKW8rLX4pIm9VvYF8ZG+R6\n",
       "ZPRSleZqY01TUc1A1GTBq0e1ymSisSIRZfma7D7DGjNWXRPfy64No0PFx1n0cvjuWHGjwjjJfIzI\n",
       "918HXQdU89FBpuMjH3ruxzgjTNcRLJOxevPx1pi+YdF6dj9mZvZjg1yz8NylJ3k3kmB3w9kUlNx1\n",
       "hkeFSBTzuJ2FJZlR7HEPetwY72e3vePSBMtVpyWqz6IQS4xtWxhnMebez1RdFG60MuZu5EO9+Vi5\n",
       "b6TOFaFNueVtLKRp87Tw3rdrDTqlfbc4HCvKecYGuc6e3glV30FabayJwThH1GS0uiqUdhpEbb9W\n",
       "LY7d3/4jZ6zcealpsnwvqOVbYzYfhIx4WXy6Ce3dtxV9nAW1S4xtWxhnMcbevwntZI1z7Lzvt0C7\n",
       "H2rvQVfBcWIZK7cVMbfRXk6rubfPO21e3p0+d4zlkdh/2+q97Mf6ufZPZliV99XGvGyailerWwyl\n",
       "tI3wyUfr0UawNV9m7HYiwrHqDqO/oeEhuHvcolkh7ER+7918OzCzwtG7A9nMiB9nIc0SY9sWxlmM\n",
       "maXBexlmhBXrD40VcDXp0vXlrwvXjtwN744aWovVER/VoW315sUV77lWTxejDsmtX0sl3591a7kq\n",
       "lDuaCz1rpB3Lbqamczh3LdWmhXEWY2rhC8j86GLiQUi8+dCYMVOJKkogzajRj5Rt341oY87dhfNt\n",
       "qzfLWCfXT/mXVWGuN7ZggS8tkhtz3BdyeXbtixzONbZpYZxkTXBZtRY9MSbdeI6ykQ+NDhQyalnV\n",
       "G1lF2Kw2r7JYtXLc3pcD3Vu9WcY6uR4uhlb1ncIEz4+Jt5+CW7fWZvy5rduAmy3O7nD29JTD2c+P\n",
       "bVkYZ+nHiF2UKyo6lZN3Rp5m5EOTg/HbhKF5z+CLNu9u8TFM77Z6XWOx25ydXJPhPDSrwwEJjKl3\n",
       "yQid3hihuVueXfYqh7ONbVkYpzFmlqwK7j3l2Lmd2+vH7h+a+/zYZPE+LJZrwwumBq3ejH6sl+uh\n",
       "sWaFRIq9BvR7z+SxlY+er91r4HV2n3M4f6+BDQvjNMZI/v41qh9P19NjxceH5hpT74+ZHixfG+vn\n",
       "ejiSaooB+1It/s7L70s1MewL78Z+fP00uxqLeRQjH8rmVk/97kPZnVbP2/dyPbgY7Z0j7GEKY930\n",
       "7h6mscHim49Ca0nLJMd6onvvMPGhz6RBhvTTpncZ+rFvMHbEuGJsVVQ8yXq54Oh9tZzO+NBH0iBD\n",
       "frCGrH1GH8bQj21gjL2/ZDEemRDkHGmwJYJvO3MYg7ENjJGE+w3Q/CTGbH8U69qShDEY28KYTbcB\n",
       "d3GWvbyF688jHYExGNvOmEq3AZwK2TmM9a8Fu8uCMRjbwljKN0kIegpipk/pHqqBsbMb+3FQY7O2\n",
       "v5s5WDzHhMzySBsDY+jHtjGWpXiVRDNYNGcwlme9PBcExmBsW2O91bIpe4iDJtbrbbv71e1jTFIY\n",
       "W18YJzNGZLK85f74xnrdmOlusL6LMZX03vzJjS0vjLMZ83mqsEdx/I6M9bLYe4x+9R6m8+oVxooJ\n",
       "CuMke5h2WvNUMzLCi4MT03n3XJXpl+nKPUwxH/uq+ViCPUy3SC/e5/bxpGQ21W4h5nFiY4fcw3ST\n",
       "foIferGHKAiMbWFs56uuzzYfS3v2Rw57KENgbIvvzNi+eaD+ysZOnBBXXPydxu5bGELBGIxF01fe\n",
       "H9Nu38LgBMZg7FpjRbLzTRsJYzB2NWNi16DH6CZJB14TjARj67+T7XpjdPQNI+jHYOyrjaldB4uS\n",
       "wBiMXc0YoTuW0XinCWMnSPusV/xSYzt2ZEqSzxr7C4yl78ewh+nr72R2rwyIbB9jf0c/hrHioYzF\n",
       "qn7yZCOYEVeEsW83Rv70xx5f/6+xR4oxH4OxrzdG3PbDRSWiKyNhDMa+3xixYuNHm4yMr+qGMRi7\n",
       "gDFiON1wwYcXbsIwjMHYFYwRknHOtujMlLfcTR4YxmDsGsbK17g53rwpJ1mSkr+8yY24IoxdxdjH\n",
       "ygL9GIzBGIzBGIzBGIzBGIzB2HkT3rkOY92U5p3rSOjHYAz9GIzB2Kx0mT1MYQzG0I8hwRiMwRiM\n",
       "wRiMwRiMwRgSjMEYjMEYjCU0hjXBMAZj6MdgDMZgDMZg7LzG5j0rBmNfnLCH6dbGNj089jA9cT+G\n",
       "d65f09hB37mOsSKMfc4Y4oowBmMTnYY+z1gRxg5obPS4HsY6SXgYg7EVyZqpWgVjhBiHsSKMJTeW\n",
       "URi7J64TGPsHjMFYP0kYu9daS2AMxhIZM49Jg81grAl4/KZgDMZSGcse7x3RAsbq9OsPksIYYh4w\n",
       "NjDWmYRc29gvOYExGNvEWGZhrEz532AMxrYxtj7q8RXGfvxKYOwiabs9TGPGqIExQn776zGNYQ/T\n",
       "0/VjVJYpz6vf6luu/nHndWH6hLHlKXaYRIcPqesD+rHzjxVXT8jO2o91PKifXY/Hin6MwRiMDY2t\n",
       "Diye01ivw3E/697PFh9eBgpjMDYwtv4G2RmN9Yd0/ifbl7f48C5wGIOxgbH1Cz1OaGwwa+os8aj/\n",
       "ZfHhTYwEjF3YmCTXMzb837boFvSqw8vEEzIYO7+xBAvvz2bsKfSn+PDYyw9vQq5gDMa6a4KFvpyx\n",
       "50mUSXhKNjgYg7F4E35JY14kPSWXNLQIY6c3xgoYUzrtKbGUPRmMnckYG9tWwBEYS35KOoOxIyfs\n",
       "YXp+Y7vMx7CHafJ+DHuYXtMY9jA901gRxr6qH4MxGDussaM+SgBjMPYlxk5XH2AMxmAMxmAMxmAM\n",
       "CcZgDMZgDMZgDMZgDMaQYAzGYAzGYAzGYAzGYAzGNqhUMAZjSBv3YwbGYAz9GMaKMAZjMAZjZzNG\n",
       "YGwfY3koYOyCxgyMwRiMwdiXGJMwBmMwtqkxnvqFIDB2ipSFHMZ2MiaChbELGiuChLGdjLnUL92B\n",
       "sVMkFnsRDIwlN0bTbvEMYydJNggY28lYtKxh7KsTjY1fYCy5sSL1y+Ng7BRJxGJdMJbcmInFl95I\n",
       "T0f2MDZSKsnTmnLnsfU9MJbcmE6w59/TWyWEhzHCN1/Xvqbc8+BhbCdjJASd/FpnFMZ8FUuyRZHt\n",
       "Z+yNco8+2gJj6Y3J9Q+3PL8dScIYLQuF+sbaPsbml7uOThFgLL0xt34x1fO1ttnljVXVXfBiwxHj\n",
       "inI30VAXjKU3xtbfhH6+1lpc3Vg9bPN5yPWOxmaXO4su74Gx9MbM+uD9yJs0ub64MVeGFLQiWrId\n",
       "jc0udxd9bBDG0htT6wOL1bVWjFaDTlcNjjJ7bWP1+7DlrWCs39bYsnKX0d08YCy9sVtx6xTX2pIs\n",
       "71wieW1jRdV7FdmWYcUV5a7id0VhbANjdnXQo7zWPiO0vL6uGXlSc2ljfI9Nn5aXexZfpQpjGxgz\n",
       "q1cFl9f6Vqfysu3Om+lHgpD1iY3pXRaBLi/3+HQMxrYwRvKQ4FqXVlV536WZfjwmBmFx+oSxM6R5\n",
       "5T6VJi45jG1hjAafwlg1ZGHtFUoQWDxxPyZ3yezicvcTQxcY28KYWfsodH2tRXndhCDVXdcUg6Xz\n",
       "GjN0R2MLyp1NbPgHY1sYI3me4lpTV95ztaQCm2Khx3mNOb+jsQXlzicuOIxtYoytXLJYX2vlLMu0\n",
       "Yz7VYOm8xvYZKi4udz81cIGxTYyRlZHF5/UGSRben9ZYwfY09n65u6nXScDYNsbsund4PF9roa9s\n",
       "jKtPGZtV7mqySYWxbYypdVGPp2utOLmwMb3XDikLy51NLuyBsW2M3YpdpbzWrLiyMZt9yti8cs8n\n",
       "B5QwtpExItd0ZGwYRkvzWOInb++uSbttpres3F+0pzC2lbEsaJTRJZJ6sTwVxrYyRqhAGV0iuRcX\n",
       "GsY2M0ZkgUK6QDK5grHNjFUpPmL3Od7BfYEkJ5YbyI8txf6SYXhRpYkSNpiRXaAaTK3oqasIxjML\n",
       "0/8DIea39LtJz/oAAAAASUVORK5CYII=\n",
       "\" style=\"display:inline;vertical-align:middle;\" /></a></span><br>"
      ],
      "text/plain": [
       "bound_12: |- [Prob_{m in {0 .. 2^{t} - 1} | |m - b|_{mod 2^{t}} <= (2^{t - n} - 1)} QCIRCUIT(VertExprArray(([INPUT]{state:|+〉}, [INPUT]{state:|+〉}, ..(t - 3) ×.., [INPUT]{state:|+〉},[MULTI_QUBIT_ELEM]{element:[INPUT]{state:|u>, part:1}, targets:{t + 1 .. t + s}}, [MULTI_QUBIT_ELEM]{element:[INPUT]{state:|u>, part:2}, targets:{t + 1 .. t + s}}, ..., [MULTI_QUBIT_ELEM]{element:[INPUT]{state:|u>, part:s}, targets:{t + 1 .. t + s}}), ([MULTI_QUBIT_ELEM]{element:[GATE]{operation:QPE(U, t), part:1}, targets:{1 .. t + s}}, [MULTI_QUBIT_ELEM]{element:[GATE]{operation:QPE(U, t), part:2}, targets:{1 .. t + s}}, ..., [MULTI_QUBIT_ELEM]{element:[GATE]{operation:QPE(U, t), part:t}, targets:{1 .. t + s}},[MULTI_QUBIT_ELEM]{element:[GATE]{operation:QPE(U, t), part:(t + 1)}, targets:{1 .. t + s}}, [MULTI_QUBIT_ELEM]{element:[GATE]{operation:QPE(U, t), part:(t + 2)}, targets:{1 .. t + s}}, ..., [MULTI_QUBIT_ELEM]{element:[GATE]{operation:QPE(U, t), part:(t + s)}, targets:{1 .. t + s}}), ([MEASURE]{basis:Z}, [MEASURE]{basis:Z}, ..(t - 3) ×.., [MEASURE]{basis:Z},[GATE]{operation:I}, [GATE]{operation:I}, ..(s - 3) ×.., [GATE]{operation:I}), ([MULTI_QUBIT_ELEM]{element:[OUTPUT]{state:|m〉_{t}, part:1}, targets:{1 .. t}}, [MULTI_QUBIT_ELEM]{element:[OUTPUT]{state:|m〉_{t}, part:2}, targets:{1 .. t}}, ..., [MULTI_QUBIT_ELEM]{element:[OUTPUT]{state:|m〉_{t}, part:t}, targets:{1 .. t}},[MULTI_QUBIT_ELEM]{element:[OUTPUT]{state:|u>, part:1}, targets:{t + 1 .. t + s}}, [MULTI_QUBIT_ELEM]{element:[OUTPUT]{state:|u>, part:2}, targets:{t + 1 .. t + s}}, ..., [MULTI_QUBIT_ELEM]{element:[OUTPUT]{state:|u>, part:s}, targets:{t + 1 .. t + s}})))] >= (1 - (1 / (2 * (2^{ceil(log_2(2 + (1 / (2 * eps))))} - 2))))"
      ]
     },
     "execution_count": 50,
     "metadata": {},
     "output_type": "execute_result"
    }
   ],
   "source": [
    "bound_12 = bound_02.apply_transitivity(bound_11)"
   ]
  },
  {
   "cell_type": "code",
   "execution_count": 51,
   "metadata": {},
   "outputs": [
    {
     "data": {
      "text/html": [
       "<span style=\"font-size:20px;\"> <a class=\"ProveItLink\" href=\"../../../../../../numbers/rounding/_theory_nbs_/proofs/ceil_x_ge_x/thm_proof.ipynb\" style=\"text-decoration: none\">&nbsp;&#x22A2;&nbsp;&nbsp;</a><a class=\"ProveItLink\" href=\"../../../../../../numbers/rounding/__pv_it/theorems/7a7abe75957c0525b4d0ab245d81779e724009d50/expr.ipynb\"><img src=\"data:image/png;base64,iVBORw0KGgoAAAANSUhEUgAAAIoAAAAVBAMAAABrmWvBAAAAMFBMVEX///+IiIgiIiIQEBB2dnbu\n",
       "7u5ERETMzMzc3NwyMjK6urpmZmaYmJiqqqpUVFQAAAB6qHgnAAAAAXRSTlMAQObYZgAAAAlwSFlz\n",
       "AAAOxAAADsQBlSsOGwAAAhdJREFUOMuNlD1oFEEUx/9jdt29/Tj2ihRJ5IhLKkU4gzapTlDQIuGE\n",
       "eBbXeKBrsFoktnEhkFLOQgkYwoFpBEPWKGhUJBaKFuISbUQhEdHKVkzpm8lsLrvMmRvYnbfz3vz2\n",
       "fc0A/x0RLN/3hOj6/rrSxsQ+gyVwOlutWGlk0V+2uPCtC+UzeqDgEPCcz/Nqtd5SUPSFvFmhhhke\n",
       "2SU1xV5X+TJ5OGfmxBwELVFT+qCMiI3UsnYnhVWhS1q+qClwchiKcdT3T3ShPJEUvfRzenxvdt17\n",
       "kZjPly+epjgmgKfAlS6UBUmxUfZWMzWyFoU3MftuDwPvgVswt/bs3Dj36nYqH5OUd/hY+52l3OUU\n",
       "J3L+FEn/CThY09pSZ5SDNtNwtiq/xyQlxFq2X9xFEZEBu8Xnm7Ti7Sb3RUgFYHjj5SjA8Wx2j6bZ\n",
       "7ROm9+lpvaZX6dlQxPgGovTHuYhgbeOCstIrkU7yBknjd0gR/SokdWGimc20uM0din6tWEFV0XX1\n",
       "9g9oNL+lZ5aS66Bp4KGg2Jd3O3lih+L+bVSsRHECNm88xrLsiGLIV7apYEEQJIxpy6nVdenLI+/r\n",
       "B9VpbJTcl7ztj6QLRsXEtPCFWUtp2AfCns60OSyFWa1lU81FXnAm7hyzXih2amIPnuqHeZWkBwPV\n",
       "xlqqn1LdDL4YYYcyl4VOBkE7s1DvyZepfW5M04PbuTWMqvpajfAPRmKEABDjpe4AAAAASUVORK5C\n",
       "YII=\n",
       "\" style=\"display:inline;vertical-align:middle;\" /></a></span>"
      ],
      "text/plain": [
       "|- forall_{x in Real} (ceil(x) >= x)"
      ]
     },
     "execution_count": 51,
     "metadata": {},
     "output_type": "execute_result"
    }
   ],
   "source": [
    "from proveit.numbers.rounding import ceil_x_ge_x\n",
    "ceil_x_ge_x"
   ]
  },
  {
   "cell_type": "code",
   "execution_count": 52,
   "metadata": {},
   "outputs": [
    {
     "data": {
      "text/html": [
       "<strong id=\"bound_13\">bound_13:</strong> <span style=\"font-size:20px;\"> <a class=\"ProveItLink\" href=\"../../../__pv_it/_proof__success_prob_guarantee/5e12283369a0a86938bdf5f76a82eb68a6361f420/proof.ipynb\" style=\"text-decoration: none\">&nbsp;&#x22A2;&nbsp;&nbsp;</a><a class=\"ProveItLink\" href=\"../../../__pv_it/_proof__success_prob_guarantee/c93df583359cc0b620d4bff2d1437add4e4e1e910/expr.ipynb\"><img src=\"data:image/png;base64,iVBORw0KGgoAAAANSUhEUgAAAUwAAAAzBAMAAAAOQyzMAAAAMFBMVEX///+YmJh2dnaIiIhmZmZE\n",
       "RERUVFQQEBDMzMzc3Nyqqqq6uroyMjIiIiLu7u4AAAAjTthJAAAAAXRSTlMAQObYZgAAAAlwSFlz\n",
       "AAAOxAAADsQBlSsOGwAABBFJREFUaN6tmUtME0EYgP/Ssn0sXZsY9UhDDFdquAMHwsVHelIuKhqD\n",
       "MYYED4IHo8QY9YBhDyQGLzbx5MGIB72KBhvjQaoQjcHGjfFqQSgEaOy63ed0uzPM384mLNCZfPt1\n",
       "XvvPP1AqlTQQdIlk+a6fur5ALx3mYijnrN/ndb3A/2QUe5VVR0rxPfGh04gyvyaOzdS8yOUGkCjg\n",
       "NXFslmaIMRyUS0vEOOxGayLZLM1HKutB/QQqmcJqItkszWXgRSVuYTWRbIZmaJwbBYtITSyboRlN\n",
       "86PeqDhNLHuVs+4+xR0jOE0sm6H5FfGkRBWniWXTNWM7CJSyidJEs+ma0jim386iNNFsumZ0BIPq\n",
       "VDGaaDZdcyaFQa2lMJpoNl2zX2WjetTG9uHVRLPpmmfYpNHbebJJ2gsYTTS7pjk9EVT3unmfPcEX\n",
       "F7atB2sKYputmQ8KU8q1ezwLPfNcb78Koam89QrEsE3N00FLm7kSSipE7cXjJXsl3CRb85cXWYhh\n",
       "UzUTe+borYK0a33wlL0ZKNd1eviLxtDEs/2a7hQLmS8KqQDSDg8KtuvHZsjxFMN2NH/3Hgd43X3w\n",
       "uVMU3nXC0nUu1JZvCiUWVRDHtjVj36E9E6vCNdmdXlVnKc5woW76Z7qc18Sxbc1k2ggHjF4Yc4si\n",
       "VV8wsw+q2KD5XhPHtjVncgAbdSjJ7o9ItnY/WSxOFosmVfdfVr1v/k7PO50ugm1rvjAWsC25Cp9B\n",
       "6RrVSNRh4PvGPs3QijuFRLCJ1iwrQ90piECkQHRMIg1zTXQ6uSCJYNua0QGQK4naO+HAfNxcJdqs\n",
       "2XgHoA8/heqWdxFsZ6bfgI60/GFOg5BmocLmPb4yOFjgQk1QXpZi2DXNe5NXYLbrKsCS/s9YIdoK\n",
       "3hKc1N1U2D6ocnDoIYhNBnLtOeXxspPASVR8dV1UYGCjbLADuRbZpOYr4+cQxK1UXeyvr7ITHgQH\n",
       "NvWhR+PVIpvU/DMF8BFm7elXpm23vMCmIZpwxmbRvKbEsUlNpav36FR8+MEp878ftO2WF9gQl/Wa\n",
       "prdmi+yGTUZU163F9zLtG3uBDfnpOscmo3k2fS/USc+fOIFNbTQNXbAMspi9EJrN2ADn6EUZ988j\n",
       "9gB8kkFtgLHsptIJXgYotic6nRDMpmtGqAkUK7BZqy3N0vao9e3HUMkZNJuuKVdoJVZgkxwgmwWX\n",
       "6kKzGYnDFcrnXmBjBBN2OjWETBxi2av46egFNsY7cMCen8g0LJaNT2oTgY0xzG9ByUk8Q+tJbSqb\n",
       "dURQDV7YdPL88O6xPmKby39EgGSzDlzeAe8lV5GaWDZL877Ki0rmsJpINksznOVF4Q8Dkezmj1bJ\n",
       "fllAayLZTM2OHB9qWsNr4tjPmHU4j+Y/uX+luDVR7P8sIjktZ96pggAAAABJRU5ErkJggg==\n",
       "\" style=\"display:inline;vertical-align:middle;\" /></a></span><br>"
      ],
      "text/plain": [
       "bound_13: |- ceil(log_2(2 + (1 / (2 * eps)))) >= log_2(2 + (1 / (2 * eps)))"
      ]
     },
     "execution_count": 52,
     "metadata": {},
     "output_type": "execute_result"
    }
   ],
   "source": [
    "from proveit import x\n",
    "_x_sub = bound_07.lhs.operand\n",
    "bound_13 = ceil_x_ge_x.instantiate({x: _x_sub})"
   ]
  },
  {
   "cell_type": "code",
   "execution_count": 53,
   "metadata": {},
   "outputs": [
    {
     "data": {
      "text/html": [
       "<strong id=\"bound_14\">bound_14:</strong> <span style=\"font-size:20px;\"> <a class=\"ProveItLink\" href=\"../../../__pv_it/_proof__success_prob_guarantee/ca7ccbf646cb435496eb66d5229b4d14e9114c0f0/proof.ipynb\" style=\"text-decoration: none\">&nbsp;&#x22A2;&nbsp;&nbsp;</a><a class=\"ProveItLink\" href=\"../../../__pv_it/_proof__success_prob_guarantee/6bdf76a3dc4d7ecacb2447b1aaef2e00af7face60/expr.ipynb\"><img src=\"data:image/png;base64,iVBORw0KGgoAAAANSUhEUgAAAaUAAABOCAMAAAC3+PlpAAAANlBMVEX///+/v7+urq7c3Nx2dnZE\n",
       "RESIiIgiIiLMzMyYmJju7u4QEBCqqqpUVFRmZma6uroyMjIAAABMl2BWAAAAAXRSTlMAQObYZgAA\n",
       "AAlwSFlzAAAOxAAADsQBlSsOGwAAB6hJREFUeNrtXdvaoyoMdYbzUXj/l92i1QKiJW61OpaLuZiP\n",
       "vwYWCSuLiE0zNdc2j2yIyfsYa03z0IbvM3Kt5FNRapS4iaHyNpYe0FqP7mGocc2DmyG3MJP79sko\n",
       "Ia/vYKZ7tCs1DWF3oA7PdqUQS+gNXIk1D29E/VbSHaLJ5Xcm4+XTUWr81Xdm6cnjQepWKr+2geIe\n",
       "PPTozBZv2M2ORFaSJMKRX8ALIQ/OH8yxeg2PZWDpr8jw+NlKNQGHPIMPHqRmccDDV4NIGuvOdnAK\n",
       "nQbhDh9kpNabS6a09GyUOJDlIYWOHySbYqryzQ+lsDHBnsjoCYOczpOuuS19ASUHiilCnTJIZ8es\n",
       "m/xQCs2CFBiFTxnkePRlr0cevoOSgCzXfcyr+BVnXo6ufygN9AEQxJg5aZB66KKuKY2cj5L0HoAo\n",
       "P2mQcojD/prKw/kodTNRPfVGnTbI/oAS+UsS8W+gxOpjvzKnDVIE/qCvScS/gZKrJnnci9MGKcOz\n",
       "6EUPVvD51Vemmu3SnYyrGmTwW3zJdMkY5Z05uUTQ+to4ts/5e+Ugw8ZkMtM4e+wxBq4OK4qcOGXY\n",
       "B8HeRjHwC1r0lVBKt2jpxNJWYU+cMuHbbsu03961r0NYskAmcVlSzap5Dp6y8DSWbZkPRkkUkhLK\n",
       "sCzoAfrEKQueq34oraHU/e8cJ5Gmv0dPWcccVJYkPBglvZDga2fRGhE/HCXSoSR+KK2j1DStMzKh\n",
       "GfLMKVOu8T+UJixWUEqqruy5KDHWoaQXUZKOvRv/51HiC8KzdgZlIsWpU8ZUh9JfoC/5f6pFA/tT\n",
       "REkwK2dS0vFTlqOkfxFv2ZeKTPxaEe95KNVltfgIjicX6/s69pBzvH20aHvlynPpZBV7WFSIaJov\n",
       "7TJlnNKlIyRlMpR20qLzuyPasJdWHd4Ax/vqrsPv11u9II+2tQeiSVa7m3yvl1DytmF+//OBme+K\n",
       "2mfQjz6IEk7cvqFvLcBA879QOuYF1yWUpMeAA8r6pTq74KMWJf3xGI7r1A+o2IJSQ3Rx8iuPjbgX\n",
       "J6IU1Fayfzmem/1iJUqy5nwni1bTHgNCSZZuihH5yQVbyn28hc4JstZ9eNtpCaWg7Rr4Ez/GA7mA\n",
       "kiTrIcWKgVlhY2QtSsJuQal461J9cQGDViEg0rOMdgtKQTWsP0aupvdz5xx9Ca2jNAScMNt2tNh+\n",
       "QqkZvQKGEirwsvriAnCh1yBeKLUFpZBD7173wAvZw4iSXEVJDys0rDg0sijyEaWRLsNQagguJKu1\n",
       "PyGgGZLq/8CsUvYllMLxvdi7hqh0p0+KEhU0JPTSUot11NsOEyfkCkqcKpzu/OObWECUCu9MEECl\n",
       "FzAfNGzwiuWdCWHnMS16PQ30c+f7KEr8J0GJtGFjHnhWsiajJBKP6+qzo4+0H4hS4eohd3TVJNtS\n",
       "oNpXTW6pbV0jLHzy6qhXjBLvn0dowzq0khDA9Dzt/IySVrUopWYzOw9L1SK23bK0t11+MrihB+sb\n",
       "q4RF+EKvGKUh1BjbpZZSJyCoNslcLemaCv+Ipigrj2OvRCkz284iPaBivt2S1257T2OAloEfuEpY\n",
       "pov24l5zX3K0oUj0T241tW2MEurmG6FaX2prfSkzm/pZDIS8GQPPXyyJ5AQXrY3Vc4sXUTHgRHqV\n",
       "sEwRO+6V7EtOh1eHZWP5xL8HVvGKeIhwzscznffIJjAXqNFHlDKzdR7fWgiPArO8VJWqB/nlgBSc\n",
       "1q4SlknKiHuNWe3AdTGlodyj7daMsr1iytVrrxpmM1pNJE6mikRekFpfSs2e8TTYVQLQNzZ78QuB\n",
       "xfPxjc12IxVfICyZZw69SgpRv/mg4WYL0sacOmHH7/4jmIPiQDP+XsvxJrNlHkMMiF4DnYn3VtLS\n",
       "36xqLcSM1m56gWmBsGQE99WrhFLbP18E61+xjxfSumTqezBRFj1YC0EpMjsfAIPNu4M4E2I2tGLe\n",
       "mmgtM1eSk3VbDrEWCEsWR169imqrtpj2LtGluMOEfSjn6MFErJ8hOvFBBtLxIrOzACeBiSOH3MrB\n",
       "BlJQjFqJ1pL/nX7LVxt0+AXCklHUsdeqJu4689krjq09cgKzC07vMVlRQGmxkicyOxe2NVTQpDtJ\n",
       "a4nWEpI6PNNV+omF8/hFwpL40tSr9nyJoBowQygXrxCPpqmq8aXE7AwlA35X3+x35jNpLcm9Oa1L\n",
       "KCr0R5cJS4zSu1ctShK8PN+4VqCUmp3tSxsu+nF7VXf0WosM1hGG8ehW3KWlmsDyvhXCgt7hM+ql\n",
       "a4eDgBoKRZlRALPTQM+3nODsdIvhoLX0G120YWRFNNBrFtcIi5xW6Fqvr7TMIJS/3vK1sqdYa1HL\n",
       "uCsYu1kjLI2yNb2+0TKDss8RuK9dVZ1oLXg5mNAda2LcXW7qTQ/++fduY0q0liDMLFmy46m6VTdB\n",
       "CbOU4V2/pBfvZ6O4SwUzMcl2eoMvZcn9/F3e5drrhOLRW3yBaccafmJvAVL6ZSx1D6PZbs4k7rEx\n",
       "YXfMIj2Y8ezl8vIeXwlSOjb5Lp/bs+SQVXrZEB97vLnPdz7YbutJ8Xu5Unujz4vy3WwV13cmGpvI\n",
       "7vQht3Y3MuquHuaT8wH50K/tSYYubt/vU0ZhrbpLR3oifhD1MF2ZQNwvxP0H/NllVWv3S4EAAAAA\n",
       "SUVORK5CYII=\n",
       "\" style=\"display:inline;vertical-align:middle;\" /></a></span><br>"
      ],
      "text/plain": [
       "bound_14: |- (1 - (1 / (2 * (2^{ceil(log_2(2 + (1 / (2 * eps))))} - 2)))) >= (1 - (1 / (2 * (1 / (2 * eps)))))"
      ]
     },
     "execution_count": 53,
     "metadata": {},
     "output_type": "execute_result"
    }
   ],
   "source": [
    "bound_14 = bound_11.rhs.deduce_bound(bound_13)"
   ]
  },
  {
   "cell_type": "code",
   "execution_count": 54,
   "metadata": {},
   "outputs": [
    {
     "data": {
      "text/html": [
       "<strong id=\"bound_15\">bound_15:</strong> <span style=\"font-size:20px;\"> <a class=\"ProveItLink\" href=\"../../../__pv_it/_proof__success_prob_guarantee/6227fd7074483c2c91474f2005e52df6ee2574990/proof.ipynb\" style=\"text-decoration: none\">&nbsp;&#x22A2;&nbsp;&nbsp;</a><a class=\"ProveItLink\" href=\"../../../__pv_it/_proof__success_prob_guarantee/203d01e3b8cb006e3e1825344b122cdedfe6efc80/expr.ipynb\"><img src=\"data:image/png;base64,iVBORw0KGgoAAAANSUhEUgAAAWoAAABOCAMAAAA+TKxFAAAANlBMVEX///+/v7+urq7c3Nx2dnZE\n",
       "RESIiIgiIiLMzMyYmJju7u4QEBCqqqpUVFRmZma6uroyMjIAAABMl2BWAAAAAXRSTlMAQObYZgAA\n",
       "AAlwSFlzAAAOxAAADsQBlSsOGwAABopJREFUeNrtndm2qygQhu1G5vn9X7ZxSAQkEWxBshMuzsVZ\n",
       "rIAfRfFXMexheBajh+8sALO2DSo5fGsZ23664OxrUQ+cNmyMNW2tt6ItaNeYNMM3FwmbNUWs/mrU\n",
       "wIpWTZnvNuphgLjVmvjlRj1Na9TIqPHw7QXyvzWkHRfRxltLy74e9WBbLFfMwh9pZ2+kfiO0ndLp\n",
       "OowZG6wIP/8xe5D6CyOzPeoP0jrd5iyuugehLWZO4ehLZZpPNVSfg+wyfkHNUZP6GoTb4Yd6dta1\n",
       "m+zTVd+B2tSe3qJPVX0DalU7aFb9rYo3oaa1jc70GcDcgJrUVta8RUD6EaiZrSwQbJ+x4g2oHYqq\n",
       "Vgdsl1rvFtS4ri8VfWq9W1CbuhIE2T63FceW5wWecXO2GCvrHFg/qUdZLSW3RrY+mqJs7jEnVOZp\n",
       "NFpGMvr59im1jmZS5gwXYyErNFkNtMrXO3ek1DpCHa5bzKTnFTPFrAyblgJ1/3rUzVIcxTBsxKmF\n",
       "UtFiVlRNAmf8oX5G5nvhi/C448FPsOLMBYs/1O9Qu/+NYQtzgpXzRTzWkl+MWrwI54RRvrhTYz4r\n",
       "oOQipEbpUNMf6gPUTq0ZyXwDzWVF+SPUp8bF/T/UT6BvUMONCha5rMgW6QvuUIvXqJnBWyF/HjV5\n",
       "kXoTRvoOhOtcVi5okRKtv+1Q/1tq1fZPFe/D/kmipliF/5tGnZQdW3ioD6z6y0rKqhNiL9+BeOpO\n",
       "4B/qEHVOCANRLiu4hYcU7hXIJSk11fUpQGZY1rL4IjDf7t4dsSLTtTnGVoUYob4mpba7A6mntSIr\n",
       "GVw4zuAxPV3J7/WLNJHO2yYhOJsVUYiiuS2sXWB+faqS7hJkNLeR4+wkgD4mvY2fVgU9lP8D9XBC\n",
       "jAFcZeeB7G+b5qIWh7l5IkKLRPQM6gGKZAiTt2VOVfk8p1MS9fJjIGb/i5moWU6+OJr8T79bhJql\n",
       "Lh/TOImKX4QVsHQ5A3BW2epi0iKxLC+oGbTHYz+t+6OULBf108SKUCev1Gdv/rHSnat5bPI3eXIL\n",
       "TkyT1arBAepl/k7I1MO+1BHq4WGfZahBQjzkb/6BMq+LQNnPZ4tT9hI1e496zU5OpxTB40gGPET9\n",
       "UGRlqAe4twh1+QyP/NPFO+bJ69oBaqd/pgiMKaRG4ddes5OUvUFNEB9FUuYWoqb7JRDWPZygrz6o\n",
       "lhSPPmqopwVnEQHhDPAihvHhQI7n3ENaFqJOXCuvfHzx1OkmoJSB5IX/AIlaHmpi1+DWifohdJhb\n",
       "cmGLMY5RC56LOuw23tWvfXzRlgfis3QZ0we/qU3V8lAvE1cqF0YwAdMpsyVMUdAVPv1Dh2Q+8TG4\n",
       "maijbiuzR1E3/YPLz8ov2Vue9DzbwyJ+rZ1VG+SWZTq3rAVSOkANHDQAcq1a51p11G1kdxO88qFf\n",
       "WR6Z83n0ZXI6bClav5bvq41zE8ApNEWeCm9VJqsDAZAQ8sgRb6i3IYkcCM5EHXVbxO5C1z5Th8oV\n",
       "jsTLGKU82xZ8+rXWEGZRUyNC07aodi6AqzljRBZzWrOT3E/ZQ190J8UihblWHXab7NPHle9PnB5L\n",
       "bHMEyFIrEZjP/hjI+eugDmRbIMD8JB7hW4yIIomYq0Ce3WZxV2Xt+xNnz8qnX7aIJdRaK4Faz1zp\n",
       "xOnhSkji/HHAbx4SEGXmsC5B7XU7/gBcfVMEn9sLwDL9JSJVK5VuEmpEs226eGb96IPs5DwkUzpy\n",
       "MCN6qhVclAPxuh35C1b/kvl4KmOtoNdH47kjnar1LrNnnGPGUeoo3dHnkAySRCmqCPXLrX6v20O0\n",
       "SAlb/WVDfaaJILfuBQOhVT9r5ear32UnvSEZ2LhubixiOduqg25HqGWDq24nbj7PKXwADhzIVisX\n",
       "dXF20hucDNRhtyNf3eICuCqOR8ns5RBLLYs0VUvkGkxhdnJNT3rNFXQ7dJzENngZtfh9F4DVVHBS\n",
       "z6CMWveUqEORWEJNrsrywqUXLymIpB7nKqfWLSXqUPRipmny+hu68MkA8zFPboUbc6TRVfsL3ZTi\n",
       "n4J6xKH+aHOoa7yuHfox59CgDNaYRs+Fs+tmD/uYl+QCAYKa3Ui98EwkVJ9BOnwenLfrNb7MrOmH\n",
       "OOvR1DG1jOX4qgnEPuSBZi78Pre8Y61gFXPptiB/8sm2ChVfNrCcfJhR68Z/PYRc1h79ALNGfh9x\n",
       "a5enL5M7pvs/fAK497Hsg1//Zxj03sE/84w0MH2HjPAP/b0h0PXKeI/H+A+YiFIXcxltHwAAAABJ\n",
       "RU5ErkJggg==\n",
       "\" style=\"display:inline;vertical-align:middle;\" /></a></span><br>"
      ],
      "text/plain": [
       "bound_15: |- (1 - (1 / (2 * (2^{ceil(log_2(2 + (1 / (2 * eps))))} - 2)))) >= (1 - eps)"
      ]
     },
     "execution_count": 54,
     "metadata": {},
     "output_type": "execute_result"
    }
   ],
   "source": [
    "bound_15 = bound_14.inner_expr().rhs.operands[1].operand.denominator.cancel(two)"
   ]
  },
  {
   "cell_type": "code",
   "execution_count": 55,
   "metadata": {},
   "outputs": [
    {
     "data": {
      "text/html": [
       "<strong id=\"bound_16\">bound_16:</strong> <span style=\"font-size:20px;\"> <a class=\"ProveItLink\" href=\"../../../__pv_it/_proof__success_prob_guarantee/bf4ab3138e0eb0f6963e5520f6867b25042157150/proof.ipynb\" style=\"text-decoration: none\">&nbsp;&#x22A2;&nbsp;&nbsp;</a><a class=\"ProveItLink\" href=\"../../../__pv_it/_proof__success_prob_guarantee/91ddae9f14eb680b913de378dcd9adb728e08bd90/expr.ipynb\"><img src=\"data:image/png;base64,iVBORw0KGgoAAAANSUhEUgAAAocAAAEsCAMAAACG+elgAAAAflBMVEX///++vr5tbW0rKyteXl5p\n",
       "aWkHBweDg4Nubm5WVlYJCQmOjo56enqhoaGurq4ZGRkdHR0kJCQoKCgfHx9RUVGfn5+Tk5NmZmaI\n",
       "iIiqqqoyMjIQEBBEREQiIiLOzs6/v79aWlrf39/u7u7c3Ny6urqYmJh2dnZUVFTMzMwAAAA1K3ct\n",
       "AAAAAXRSTlMAQObYZgAAAAlwSFlzAAAOxAAADsQBlSsOGwAAFrpJREFUeNrtneeaqzqyhnXyM3P2\n",
       "hJ1GQqAdJKFw/zc4RBtshAkima9+rNV2u6Eova6gSJyvxBIIJCCiZmTTezhv8kL08x1li/taa7Ms\n",
       "H/wLzVODtrmTlIDkdmsO1cB7lXtUKR/+G3B4Rxj351A1YTr3w8BxcAgOd+TQeQEOIYdzqD0Hh5DD\n",
       "OTQ+KasSlhhefEhSxmhVz3CaFz8maBtwuAOHkqVVwZzSRPmcOFF+MGMlh9WPnKJxwOG2HApjDGsc\n",
       "niiSRFn8Z+qPu4JAW0dt/Ul1k89RRYXBdobK7msa+HlM1n5tEjVN1yFh4HARh1k3G7T152osyxK6\n",
       "8YT+Q1u4tP6/QHosoZTGWFtSlg+0lsybFNX0etqzwM+DavBs0ueC/GWVhaou1lFdBx+u0Z+Cw9Uc\n",
       "VjZMGu9X/qrlcLBlHbNZVn02qZugbDKdjfspWvhcJt5TTsdYU7InfCmHxJoVHCZZTZy0o7rmVOeJ\n",
       "IUH9tQGHazk0PX9Ix/0hpe7RhDU6afnGwF1aKQFXZbgf7CRK1nOYusUc5o8xpbpCC+qasGz4AVr9\n",
       "uQSHMTgsypVHUthGalf6gbz4zlvC8qxqbdbJCGt0lC9bIA1X17ms21by5Ry+qtF/wuI3cgmHLHtq\n",
       "LQZ0VbSWElHriOIj+psEHM7l0PX6DQVtsj3XQsmrL3cZ7mSuy6I6LcBkVY3dbew6NXIVh2K8YjFF\n",
       "ayWU5OF21GKEw1c1+jQJSRidz6Hrfnc6jA3rWgbrXMvw94iCw3kcKsu9t20+o61PbVJ/+4skvYpO\n",
       "mUy0ZuWPSrKygUrPSMu/0Hm3PnBPDtPRvN6J0s/QXIU5JJzJIIevavSkDK3lV2Iyh20tnGTmcctn\n",
       "gjusa5k+Jmbse5SBw7n+cI5Y1hTGIqlcYFZJ8bOrC8smLvuxsKSyDmIua0X1OEw4G8kP+2r0rlH6\n",
       "cWpncPishfWDxMQO6Tpo0GH9HTjclMOylcscXXniyn6+bkC0k+qUyv+o0O/bdlTpaJ3SV6NfBzXp\n",
       "aRiEJJW9ON6phZ2lqovRqK6j+S3i8pYcKt84ozyrOjW63qIpLVjZb2M73YXtPw8P45yj8lM7jtYp\n",
       "r2r0MjdZvjvqD+tiVif1uKV4SVMqvy4m6DqmP2PgcEMOK8DK0Wdlq/xNderVFh1jWKfpXKqaf1qP\n",
       "OjLZVxnuDfvM4asavSekNQMfOSw8riz0eKvbK1XrKJvOnJj81D9T4HDLuPwq0pSpkX5HZ6Ws6D/s\n",
       "1NUZzXOrq4LCsYSV3xlnkryOy6pOMYfr9pUd0fLq6eHVOOw2nTgbh0SXdXNS9sJUXq/0g6IO3c1n\n",
       "dKhuJ3SVnagCh0dxSHi8nMjxJAqHZd1cdUNX/SgFdo6T52AHdeHCl5gVIyK5JuDwMA6JizWIoNxA\n",
       "yjbw8+g1Sg5py6Fs/WDHHxakjX1zVnAoCTg8kMOzibTCaUGJSROiWV51xZf5YT1kxIsSRBAIOISA\n",
       "Q8g24icJOPzIIdeAaQ2H0T60pSghT84hxZYjN+DwZb77+Tjsj71CvpVDkuZn5lCm+dIrD17XgcOu\n",
       "dVUcDmWE/jH9wSEdy6FdPjZnhvLKLAKI/gjZhMOHNda1ce5jjBra7LwcOq/jchhj+tMRQWwTDp+z\n",
       "kFY9Eo2za6AanSN6LId8xVSFQQ6JAIdP66oYj8R8pDkUmTgrh8kKd9jlsLNcIMJ6oW/hMDcxHkl7\n",
       "L2OhwE7KIV/jvTocJs8HVBk4bOTn32I8kvDRlkZn6Tk5HP+CLOOwE4xuzqH5yUW4fDx3WIa/5JQc\n",
       "2lWPGOAwMeCw6mv50ca4vPURZxuPXWtjDv/848/Qr+S6BDjA4fpK5Ts4tD+qGJcXPuICLOvD3Wr/\n",
       "8cdR/jD3yRYcUg0OC7v/ZOJc3kdcgKVHcs3j4nK2LvOoOKSilDSt/mt2O7bgsIhD/5Dn45D49Hwc\n",
       "ypWTQkP+8Jkg7j62saKB4ozETHl/ruQRHzMLB+bDOMxXdgiEOFxdMF/VH3bZ+3vae7nGH8bkkIXb\n",
       "/DAOrddbcLi+A/GaHPYdYPq33ntn4dCFK+bDOExX3jjA4foBlSty+JJM/PBzn86zcEjCvZFHcbg2\n",
       "PQxxKMgNOXz989ehlDUc/hDzOXkwCB7FYbJ2+HyYwwgTbq7H4etf9zao8ys5/CPmc9Jg+X0Uh3Tt\n",
       "uOXwPIcI+7xcjcO3Av9lBx1/Ig7DUxmP4pD7JBqHwSa4Vb38rAB1xMvH5dAFexCP4jD1bgMOWQ4O\n",
       "B7bkPE1+KIO9sxtz+Lv/bW7lNFHYEMeWgEOponKYx33QkPv5v2P8oTrv2u6vmY99Rg5FKB07KC4n\n",
       "593qBRx25Jdf4i6B5KGC+SAOWcx5beDwMv7QhrpJDuLQ+Awc3pDD4OK/gzi03oLDOKBsuzw6Mocm\n",
       "FAcP4jDzFBwee8+DOBSn4pCDw1tyyEId2QdxGHE5IjjclMOo/dgFbv5UHKbg8Jb+8HwcMnB4Qw6T\n",
       "03GYg0NwuBuHofFlDw5vyaEOcXjQ+LL3/wKHN+Tw99D8lvwoDn8Fhzesl8/HYQIOb+gPHTgEh+AQ\n",
       "HIJDcAgOwSE4BIfgEByerF4Gh+AQ/hAcgkNw+NUcXmxdADj8Vg6vtS7gKA5lLgPPh/HlO/rD4Lie\n",
       "2nbeC/whOERcBodrLx97Hf33cbjZ+cvfw2GE85fhDz/Jducvfw2HEc5fBoeLOMT5yx2Jcf4yOFzE\n",
       "Ic5f7kiM85fB4QwOcf7ykPw/Rb28L4c4f3lI/vp7FA4xz2EJhzh/uZW/8CiXhz9cxiHOX65F/lWB\n",
       "wwM5xPnLTVz4CwGHTwmvo9+KQ5y/XNn9f+W1ODxoHT39RcXgcPT85fude/u4Evnn/0S6fGQO5S+/\n",
       "kHvE5dUJ4mX94ZPLV0JRL+/P4V3PX+6BV55723kD+eHuHN70/OV+fG7PvW3fBYe7c3jL85df08TH\n",
       "ubdtnAaHe3N4x/OXX4uV7rm33oPDAzi84/nLrxj2D131HhzuP88B5y+/nXvrUS/vPu8L5y9HP/cW\n",
       "/nABhzh/+eTn3n4fhzh/efpfgkOs1wOHZ+AQ6+jBYVewjh4col4Gh/CH4PC7OcQ+S+Dw0vcEh+AQ\n",
       "HIJDcAgOwSE4BIfgcLZg3zlwCH8IDsEhOASH4DC2bLeOHhx+FYeXXUcPDq/I4fetoweH+3CIeQ7g\n",
       "EPkhOASH4BAcgkNwCA7BITgcYyKqgENwOPeeMrdc8Ki3VEJkn/csRb0MDh+ScM6cjH9XqY2wCv4Q\n",
       "HE65p+NUbthA3EpwCA4/3pNlG488aaHBITj8cE9LN7+55PnXc4h19Ovu+dOve9z+v7O9OMQ6+kty\n",
       "aHeykjGol8Fh8J7M7KVAliA/BIeBe0qxmwKhW4FDcEjojjYK7BzZ4zBQuDtw+NUcSr6nCuIzh8NH\n",
       "r5PMgcNv5jDP91RheIxvCodz9sYHh9fjMJN7qqDpUg7nnBUCDq/HId9Xh0GaeuvoQxzOODsJHF6O\n",
       "Q2X31YEv9oczzpL7bg4F/UIOtdnXGINpwCQOZ5yt+dUcSs+/kEPP9jUG9ZM41MxKZVjGiDMmq8mc\n",
       "ftbwd6+jl+QbOZT7GkNN49CQzLIS97x4laQzKxWso78eh6dQ4pVDrYnIKmpZx4s1nT6f4zPW0YPD\n",
       "ZRz+0OdQFp6whC6p/BptcgBn65QA9TI43McflgSSB4FpkxjWCWLC9+BwZiBV4PA7ObQVbaIkTxet\n",
       "K9uArIzgxm3OIZsJjmaol4/gcLkxJnJY+cA6OBdIVvNXmw5E/rlNV3PYluZOTK3Hqhkc6D/c3R8u\n",
       "NsY0DpV3D2wyQyosmgGVCRX+VA5DaxXquR/SUj69O4FLxOXvi8u66qNhFeyaMvXsttEpicYhkUYM\n",
       "9Z/SVh02ncOcgsOvq5cHY2XtgZklMmZ+yIR5++wD9RkcklSCw++rU96lWdlKGTEyIofFm68kPivy\n",
       "ORwWMR4cfj+H7XxdR/OPM2Ln1ikJp12AqJnBoaLWVtobCw5vwCGbMV93fr2suxtOPKuXzxzmafut\n",
       "yDk4/CYO2bC7mzM/bQmHnYlAIpnMoXsSlqRYR/9NHEaQuevoE97bCCrVQxxKLp7Sflest9ayBkn4\n",
       "w2+qlyPI3DrlZYupYQ6Hi+Snm9YpOIQ/jNlvMyMu++ecyETE4XDeyLY6mkM1/wMzONzOGKficLgf\n",
       "O2OTOcyew0p5FoXDmSPbmh3L4Wd13zWczuGGxjgTh4FxPfMItsZ/+Iq5tLiRlE1vTwQOJ046V8bQ\n",
       "epo6y6NyyCylTcKrrPBl+ptl1di5FWlavLI8TfO+uuUHRbVJkk09Zx97OiZzuKUxzhaXh/68mfht\n",
       "S7PacdUcZTmrbiZ0BA7bXlIpRr8AsnTDSX1VLuNx6KoJTkWu4ho7Vt9IlVZa6foVkZl5Vdf4JqXu\n",
       "75XUPMWrhlM5fGzxMG6NZca4AIdELDgOWokY48vtyHYynhCw8oLNnKecRuNQtauVWDXNpHhtG7OZ\n",
       "zisi7au6vL1Mv+JrnuJVw6kcPob5x62xzBjnq5cHPragaUujreewHdmm42txdFXSN3PvUhmLQ/4Y\n",
       "WBeiy6Hzosshoa/q+nZNb7+Xt32KFw2ncpiSSdZYZoxT5YdioEuwKj9ml6HV5MjVHD5GtsWEzChp\n",
       "rNZJcttu0OlrvX3vgp0BTdYhT1eNXL/S5cK1F3V160dlX+32KV7S8IkcPof5J1hjtjGuEJeLFGju\n",
       "LStyV3NYj2xrm/nMfqr9tMhfy6oiOXCd/+ZyaJ9qug55ZfqXPF4x/apu+fvmfnnnl52nMHYJh83V\n",
       "J1ljvjEuwSFRM7tD6hmSqznkj/Tw4yMya9vG56Rv+xkY9pqDe/3MFNMHeZLVBXLxXlEte/2urkhf\n",
       "A3b/KXK+hEOek4nWWGKMa3C4TFavo2970OmUVRdNifhY3t3afg6GYQ7rjFAYY9pOvIpKlek3deUj\n",
       "cXxJD9unSNIlHD6GE6ZYY7YxDuXw7Ovo2xHFTkI0OKzdfLp+SteveUUQw08Hz3Xisvb18vGsV023\n",
       "+WE7cNGo2+Zmr1Hk8RR9DcnEA/Aew6uTrBHFGDiPvmd66T8cBecq62b1ZfsrJUZM/7lOoc86JQ9w\n",
       "WHbat9NFGnUf6aHpPf7zKfQif9hy+Mkay4wxpERv37kLx+XVHDahqEqIxg/gkk/TJyJSXCZZ2Yg6\n",
       "eWR8QxxWZnQ9dY0fDMvPp0jEmrj8yRrLjPHN+eFqDpuR7TIhSsZgqqf5NKEozyLVKQVphiRasmc/\n",
       "9jCHvK9u283cdJTITlpXP0WeLeGwHeb/ZI1lxgCHI9L0OlhbFKljn6s2k27TsucyhpX9NsUfcsbK\n",
       "FWlNSHS9Vequ5dCkfXUJL+O5akrWx9L251NQs4TD9uqfrLHMGOBw7AJ1VFHZp13LNaW0rVw7Jxe2\n",
       "vReKL+OwPGjRsmr4whVgce/to9ZoZj3YLH14yXYgnpjM0gcqotl84PkUL2crTuSwvfpHaywyBjgc\n",
       "TRDnJ8pq1fk3gwYppxVky9VN5LiGU8f1NjUGOBwNuPNHtmkenUPLXS6Wq2s+aDiVw02NcYV5Dsdx\n",
       "OH9kW2UkOoeJ9xP3CR5S9zWZe9Nw8vzDLY0Bfzgqs0e2Vx6cHThjLLXL1WWfNJzM4ZbGAIcfvtLz\n",
       "RrbZygUqaw3yWd13DaevC9jQGODwVIL1el/IIdbRg8Ou4Dx6cIh6GRzCH4JDcAgOwSE4BIfgEByC\n",
       "Q3AIDsEh6mVwCH8IDsEhODyKQ5wnFcMY4HCl4Hy9KMbAOvrVICIuRzAG1tEjP7xLfojz6MHhEiWw\n",
       "jh4cyn11UKhTwOHAewnbVwfqwCHq5XfRZl9jZBIcrpSv7D9Udl9jDK+tB4d3j8uE76uDAIfgcHKg\n",
       "3Ew0HW4nzHO4O4cs31MFquEPweFgxbFrYBYEHILDYRe1o40Czhfjy+BwT4coA5tIffv4MtbRT7kn\n",
       "M3spkCX7cPg74vIFOQziEVtMCHjUy+CwlP/6dY/b/2dwFzHUKeCwErt9aJZZeCQbHILDJmRmG8/U\n",
       "1GLkMBZwCA5bTjjdcGDFZXaMc3AIDh+ScM62cIrSGW7HLwwOwWGXmNxy4eOKEPxzRznqZXB4CmPA\n",
       "H4JDcAgOwSE4BIfgMHZJhn3awWFHsE87OERcBodX5RDr6MEh/CE4BIfgEByCQ3AIDsEhOASH4BAc\n",
       "DrUT5jmAQ/hDcAgOwSE4nAHKFLk9h1hHvzWHW2OOfdrB4fdxiH3awSHqZXB4CIdSXScuX5bDwes6\n",
       "cNiRzIHDzTk0eszy4JAQbRGXD+IwoeDwIVzF4PAPcDifw8CuprfkMDcEHO7KoX7mMCYBh438/Bs4\n",
       "3JfDzslLKgOHjX1+clE4RJ2yhMNOUnRvDuWPloDD4zhMDDgsxf6owOGBHK6vVL6CQ/eTIeCwEx42\n",
       "W0cf4pBqcEjIn/+Qp+Tw+9bRVxxSUUqaVv/VCZF79t4ulCM4XC6hy0S6POLyQn+4OkG8qj/swvf3\n",
       "tIfiGn/IwOEiDlcXzNfksO8A07/13lt+eeEpOFzC4foOxCty+JJM/PBzn87ll7eeg8MlHK4fULkg\n",
       "h6857XMopf7N8svrEDfgcJxDQe7H4SuGJu8aet0jibgJ4l04jDDh5mocvhX4L8dD+lWPpH0qweE0\n",
       "DjvzHCIcenP5/kOrYz6S8RYcTuMw6ApuyaHL4j6SjVky34RDloNDqSI/EovoEb+PQza0BMAScBj/\n",
       "kVRyeQ6xjv4LONwjP8Q6enC4o2AdPTg8tT8Ehxfn8KxTiMDhrTi8mIBDcAgOwSE4BIfgEByCQ3AI\n",
       "DsEhOASH4BAcgkNwCA7B4dk4DBoeHILDXe8b8ocaHIJDxGVwCA7B4Z05JGfiMPU5OLwhhxocgkNw\n",
       "+CYCHILDE3DII+8jBQ6vIYlPT8Vh5g04vCGHuRen4tBG3s8MHF5DWGj/sIM4pFF3qwCHVxHjs1Nx\n",
       "GNQHHH610FAcPIjDPPL+juDwGpKF6tODONShummGvF3ZgcPAecBRZY3deWgc7SAOVYQ1tW87LWUO\n",
       "HBK++XyWNXZPvTsVh8R7Fd0eCQWH9bEdJs+T/TicYffgtK+jOBTrJ3697zwnwGF1jBF1nWNktudw\n",
       "ut1VMB07ikO7fmDv3R4muT2HFRIZzzeMzivsroPl6VEcsvUd2e/2UNndOaxDpEt9qnbkcLLdWXAY\n",
       "7SgO9fqOm4EdYbm6OYe2LAOUJEqwHTmcbHcbnHZ6FIdyfcFc2UMyWgV4WwWixNybw3p/cFEYxrht\n",
       "OVxmdxFcnXIUh4VKKoY9DEnSzmOIe3OYV14wT7Ysl1fYXYZ7jQ/j0KwuVEp7uITQ0gaWd8rF+3LI\n",
       "91gMt9zuSXhWwWEc6tUzHUp7FHZPSx+QNulQhO6KC3Oodhm0X273cHp4HIck9RHsUfIsy36pJh16\n",
       "JipxTjTei8MryDS7j8lIkx/HIfUuBodVeGA+XsF8YX8oyF7+cJHd3UgIPI5DvXZKdm2PrHy2LCNV\n",
       "z22MwHRdDjXdkcMFdmcji4WP45CkaZTvpS37bQ2poI4xoHJdDq3bkcMFducjDX4gh2zlEHNtD2kN\n",
       "S5Stj5cS5M4c7hOWF9vdjQXAAzkkKyvm9379KBNuLsthzvbkcL7d7dgWS0dyaNbt/fRuj0zdmUMu\n",
       "j+Jwkt3lqNs5kkO5rlJ5s4fk5MYcqr1W/Cy0OxsdQDuSw0I1GdMeLL8zhyY5isNpdk9Hg/ehHBKx\n",
       "xiG+nXwbZ+rnkV3Eq6rlvb40y+z+weccy2HiT3vsKCSqyA/TCY7lkNAMTXQLsR8a+mAOicjRRjcQ\n",
       "ncqDOawknEG4VKKVvl/EyJCF2GF6icwrGdFCI0O8QXY4NnJWI7JpXPw3vOh2PdbNUHQAAAAASUVO\n",
       "RK5CYII=\n",
       "\" style=\"display:inline;vertical-align:middle;\" /></a></span><br>"
      ],
      "text/plain": [
       "bound_16: |- [Prob_{m in {0 .. 2^{t} - 1} | |m - b|_{mod 2^{t}} <= (2^{t - n} - 1)} QCIRCUIT(VertExprArray(([INPUT]{state:|+〉}, [INPUT]{state:|+〉}, ..(t - 3) ×.., [INPUT]{state:|+〉},[MULTI_QUBIT_ELEM]{element:[INPUT]{state:|u>, part:1}, targets:{t + 1 .. t + s}}, [MULTI_QUBIT_ELEM]{element:[INPUT]{state:|u>, part:2}, targets:{t + 1 .. t + s}}, ..., [MULTI_QUBIT_ELEM]{element:[INPUT]{state:|u>, part:s}, targets:{t + 1 .. t + s}}), ([MULTI_QUBIT_ELEM]{element:[GATE]{operation:QPE(U, t), part:1}, targets:{1 .. t + s}}, [MULTI_QUBIT_ELEM]{element:[GATE]{operation:QPE(U, t), part:2}, targets:{1 .. t + s}}, ..., [MULTI_QUBIT_ELEM]{element:[GATE]{operation:QPE(U, t), part:t}, targets:{1 .. t + s}},[MULTI_QUBIT_ELEM]{element:[GATE]{operation:QPE(U, t), part:(t + 1)}, targets:{1 .. t + s}}, [MULTI_QUBIT_ELEM]{element:[GATE]{operation:QPE(U, t), part:(t + 2)}, targets:{1 .. t + s}}, ..., [MULTI_QUBIT_ELEM]{element:[GATE]{operation:QPE(U, t), part:(t + s)}, targets:{1 .. t + s}}), ([MEASURE]{basis:Z}, [MEASURE]{basis:Z}, ..(t - 3) ×.., [MEASURE]{basis:Z},[GATE]{operation:I}, [GATE]{operation:I}, ..(s - 3) ×.., [GATE]{operation:I}), ([MULTI_QUBIT_ELEM]{element:[OUTPUT]{state:|m〉_{t}, part:1}, targets:{1 .. t}}, [MULTI_QUBIT_ELEM]{element:[OUTPUT]{state:|m〉_{t}, part:2}, targets:{1 .. t}}, ..., [MULTI_QUBIT_ELEM]{element:[OUTPUT]{state:|m〉_{t}, part:t}, targets:{1 .. t}},[MULTI_QUBIT_ELEM]{element:[OUTPUT]{state:|u>, part:1}, targets:{t + 1 .. t + s}}, [MULTI_QUBIT_ELEM]{element:[OUTPUT]{state:|u>, part:2}, targets:{t + 1 .. t + s}}, ..., [MULTI_QUBIT_ELEM]{element:[OUTPUT]{state:|u>, part:s}, targets:{t + 1 .. t + s}})))] >= (1 - eps)"
      ]
     },
     "execution_count": 55,
     "metadata": {},
     "output_type": "execute_result"
    }
   ],
   "source": [
    "bound_16 = bound_12.apply_transitivity(bound_15)"
   ]
  },
  {
   "cell_type": "code",
   "execution_count": 56,
   "metadata": {},
   "outputs": [
    {
     "data": {
      "text/html": [
       "<strong id=\"thm_condition_01\">thm_condition_01:</strong> <a class=\"ProveItLink\" href=\"../../../__pv_it/_proof__success_prob_guarantee/acd32fcced5d827e7e8acea60ad61aa8dc676ec60/expr.ipynb\"><img src=\"data:image/png;base64,iVBORw0KGgoAAAANSUhEUgAAAOkAAAAaBAMAAACgH2ZnAAAAMFBMVEX///8yMjJmZmYiIiIQEBCq\n",
       "qqqYmJhERETu7u5UVFTMzMyIiIi6urp2dnbc3NwAAABLrkmVAAAAAXRSTlMAQObYZgAAAAlwSFlz\n",
       "AAAOxAAADsQBlSsOGwAAAwBJREFUSMe9ll1IFFEUx//O7K4zzjpJoRU9pAZmD8KqD5EQGGEERa31\n",
       "GNFSEdQGLUFUijFBINaDqw+hGLRgvQTiYtGHUg31FEEuBRa54SK9mhIYw2ZuZ2Z2V3d2d+YK1oWZ\n",
       "e5l75vzmnHPPOQOs9yhJ4D8Oj2rOvQ5y3LpSj6Xndgc5OUQ3W3+swVlChTnPNX5NPzl9YaK6kGSQ\n",
       "rridqjg7tTSQXlRmPuPiARwpJMkrxRV3718b9TtdszUdgJbx5J2K7Do7hokohW0Ub2SktpthaDAi\n",
       "NqN6W1F2lcYNiFFa50ahfztRBc1G8SIb9Uy9OS8BYgKuVil8O73jinDVEYv0a6Kiqrhir8ZEffzF\n",
       "nMtI3KVBXOai6SeYB/+wIHVnccXlPgaq8CmaXkkkLvogJsvqMqR3kKZQiPpEV/x+YO5ZdOSzaikx\n",
       "Qy/8TlRhR+bgQjQTh1+wf8OgTiqkOHY9KvxS3ZbI924Rlh2oQp9/JXFCxjQaZaCORhD3qrsh/4bH\n",
       "8pWnFBxysnUVtSRsTHvAQJ1XEReEJbg1cLqLhE3N+tAjUwP8caLKKx7mjTLEhQpI3TR0tqxQe4kK\n",
       "94KOdMVyZffCu1iUOpt3mkxbz4PJVvKwfhD4GCYTiiVdOc1KldoI9G1QMUppbuYYVHcMP1jimiDF\n",
       "ZCXZ3CcHcvaTuBXIs7VSb1ScT2ryW6uEqPt2BHjOeobJ4EtAV3nu/l1czs/XK8AGVU7Ct7oiGvkp\n",
       "UQrITbW1PnvqjF4+z+qK3wJjwJtXufs9HwP6ZnfLiYFz94CnLxVMBMlWjyInM13NUsr4VCpVYQsd\n",
       "PLqVtO5y7HTyIjbjOEpVwcfF0GZWLXd1IE/0MHt7qnKmaujCA4wCnfOK2TuHFbkuv903sPd/zZm6\n",
       "gCGiUij6J82OLV/Lvt6czW6QDPMPVpiVSrZuS9s6Wzg7RD8rlSdHjdsJjOvUTqKW+OWDYkCmuMod\n",
       "j+rt/pucR9BZpOenZ9+H+zFMjyUwHWyMwJVKFe4rJxmhcuhf/A87DY4KxV+Lne/MXHmDNwAAAABJ\n",
       "RU5ErkJggg==\n",
       "\" style=\"display:inline;vertical-align:middle;\" /></a><br>"
      ],
      "text/plain": [
       "thm_condition_01: |m - b|_{mod 2^{t}} <= (2^{t - n} - 1)"
      ]
     },
     "execution_count": 56,
     "metadata": {},
     "output_type": "execute_result"
    }
   ],
   "source": [
    "thm_condition_01 = bound_16.lhs.condition.operands[1]"
   ]
  },
  {
   "cell_type": "markdown",
   "metadata": {},
   "source": [
    "$|m-b|_{2^{t}} \\le 2^{t-n} - 1$\n",
    "\n",
    "$|m-b|_{2^{t}} + 1 \\le 2^{t-n}$"
   ]
  },
  {
   "cell_type": "code",
   "execution_count": 57,
   "metadata": {},
   "outputs": [
    {
     "data": {
      "text/html": [
       "<span style=\"font-size:20px;\"> <a class=\"ProveItLink\" href=\"../../axioms.ipynb#_best_def\" style=\"text-decoration: none\">&nbsp;&#x22A2;&nbsp;&nbsp;</a><a class=\"ProveItLink\" href=\"../../../__pv_it/axioms/71694bac880242a0678e735d578cd2883225b4dd0/expr.ipynb\"><img src=\"data:image/png;base64,iVBORw0KGgoAAAANSUhEUgAAAGMAAAAaBAMAAABROP+vAAAAMFBMVEX///+YmJjMzMzc3NyIiIhU\n",
       "VFR2dna6urqqqqpmZmYyMjIiIiIQEBBERETu7u4AAAD7tRWPAAAAAXRSTlMAQObYZgAAAAlwSFlz\n",
       "AAAOxAAADsQBlSsOGwAAAU5JREFUOMuV0r9Lw0AUB/Bvm9g2aZsUFxGXW3UxuIrQQSeXgFAEh2bv\n",
       "5iw0ODin4BKKWvy1iV3UIYO4C/4DIjfoXAdB6GBMmnjp8Cq5G5Lwjs+9e+8FkFgXs7d0Omx8Ro+y\n",
       "J0MqA1midK6ZbBbdTbIYr8McRPFvGEyeXkz3cpANlL5xgJSYbg6yAzxjy0hr6fIc5IWjbR2XeEI6\n",
       "ecrfA9pseT692NXmLkWKDOXbt6ngY/KKOzbmIyv67AfxuhNEA1YWWpkofglS+UGtSWQ5BGzUs1jV\n",
       "FkQbwHQI4qDA41QYDSaxEwhSddB1CdKECrzHx0/mVrAzEo3ljBO1eNgHTsUpR1AsQZjxRHWsF6EP\n",
       "Jop3oPI/MteoexTRL88XH0Rk3ff7WZNbPXqUS+H91FDCcCzIzJ9fa5B7/5EakyarkCbb8mRNnkCO\n",
       "BAFdO9Qg8H4Bp1RXtQ/85FYAAAAASUVORK5CYII=\n",
       "\" style=\"display:inline;vertical-align:middle;\" /></a></span>"
      ],
      "text/plain": [
       "|- b = floor(phase * 2^{t})"
      ]
     },
     "execution_count": 57,
     "metadata": {},
     "output_type": "execute_result"
    }
   ],
   "source": [
    "# recall our def of the 'best' estimate b\n",
    "from proveit.physics.quantum.QPE import _best_def\n",
    "_best_def"
   ]
  },
  {
   "cell_type": "code",
   "execution_count": 58,
   "metadata": {},
   "outputs": [
    {
     "data": {
      "text/html": [
       "<strong id=\"thm_condition_02\">thm_condition_02:</strong> <span style=\"font-size:20px;\"><a class=\"ProveItLink\" href=\"../../../__pv_it/_proof__success_prob_guarantee/acd32fcced5d827e7e8acea60ad61aa8dc676ec60/expr.ipynb\"><img src=\"data:image/png;base64,iVBORw0KGgoAAAANSUhEUgAAAOkAAAAaBAMAAACgH2ZnAAAAMFBMVEX///8yMjJmZmYiIiIQEBCq\n",
       "qqqYmJhERETu7u5UVFTMzMyIiIi6urp2dnbc3NwAAABLrkmVAAAAAXRSTlMAQObYZgAAAAlwSFlz\n",
       "AAAOxAAADsQBlSsOGwAAAwBJREFUSMe9ll1IFFEUx//O7K4zzjpJoRU9pAZmD8KqD5EQGGEERa31\n",
       "GNFSEdQGLUFUijFBINaDqw+hGLRgvQTiYtGHUg31FEEuBRa54SK9mhIYw2ZuZ2Z2V3d2d+YK1oWZ\n",
       "e5l75vzmnHPPOQOs9yhJ4D8Oj2rOvQ5y3LpSj6Xndgc5OUQ3W3+swVlChTnPNX5NPzl9YaK6kGSQ\n",
       "rridqjg7tTSQXlRmPuPiARwpJMkrxRV3718b9TtdszUdgJbx5J2K7Do7hokohW0Ub2SktpthaDAi\n",
       "NqN6W1F2lcYNiFFa50ahfztRBc1G8SIb9Uy9OS8BYgKuVil8O73jinDVEYv0a6Kiqrhir8ZEffzF\n",
       "nMtI3KVBXOai6SeYB/+wIHVnccXlPgaq8CmaXkkkLvogJsvqMqR3kKZQiPpEV/x+YO5ZdOSzaikx\n",
       "Qy/8TlRhR+bgQjQTh1+wf8OgTiqkOHY9KvxS3ZbI924Rlh2oQp9/JXFCxjQaZaCORhD3qrsh/4bH\n",
       "8pWnFBxysnUVtSRsTHvAQJ1XEReEJbg1cLqLhE3N+tAjUwP8caLKKx7mjTLEhQpI3TR0tqxQe4kK\n",
       "94KOdMVyZffCu1iUOpt3mkxbz4PJVvKwfhD4GCYTiiVdOc1KldoI9G1QMUppbuYYVHcMP1jimiDF\n",
       "ZCXZ3CcHcvaTuBXIs7VSb1ScT2ryW6uEqPt2BHjOeobJ4EtAV3nu/l1czs/XK8AGVU7Ct7oiGvkp\n",
       "UQrITbW1PnvqjF4+z+qK3wJjwJtXufs9HwP6ZnfLiYFz94CnLxVMBMlWjyInM13NUsr4VCpVYQsd\n",
       "PLqVtO5y7HTyIjbjOEpVwcfF0GZWLXd1IE/0MHt7qnKmaujCA4wCnfOK2TuHFbkuv903sPd/zZm6\n",
       "gCGiUij6J82OLV/Lvt6czW6QDPMPVpiVSrZuS9s6Wzg7RD8rlSdHjdsJjOvUTqKW+OWDYkCmuMod\n",
       "j+rt/pucR9BZpOenZ9+H+zFMjyUwHWyMwJVKFe4rJxmhcuhf/A87DY4KxV+Lne/MXHmDNwAAAABJ\n",
       "RU5ErkJggg==\n",
       "\" style=\"display:inline;vertical-align:middle;\" /></a> <a class=\"ProveItLink\" href=\"../../../__pv_it/_proof__success_prob_guarantee/0ce6d7061c1b07a52ba0540b1a06dc9b519362730/proof.ipynb\" style=\"text-decoration: none\">&nbsp;&#x22A2;&nbsp;&nbsp;</a><a class=\"ProveItLink\" href=\"../../../__pv_it/_proof__success_prob_guarantee/702889b0c7704cf97d6fc4125c8c9af9087f97100/expr.ipynb\"><img src=\"data:image/png;base64,iVBORw0KGgoAAAANSUhEUgAAASMAAAAbCAMAAAAAoBlrAAAANlBMVEX///8yMjIiIiKqqqqYmJhE\n",
       "RER2dnbc3Nzu7u5UVFSIiIi6uroMDAwGBgbMzMwQEBBmZmYAAABXd5ydAAAAAXRSTlMAQObYZgAA\n",
       "AAlwSFlzAAAOxAAADsQBlSsOGwAAA29JREFUWMPFmdd2KyEMRelFJCD+/2cvaJrtwA1Towcvrwke\n",
       "weaoQBiy243bjwcP+Ox4PmbpiOtdo11evgU87nPMVGh7Pmj4FCPJH2MkseP5oFn9CCNrBDfxGUaO\n",
       "9zyvOkMVAcZjXcEzOuLyKR1p1fO8QFQhlTFpPE0JdyMji8g17WJ2DzGyqet5GeGAt57/sCjmIeDv\n",
       "Y0SRbHJJoWHzcDkj+Va40LQ8R71YHevhbUbtkPXIF4yufrmJkafJp0Q74e7JR0rgmyBy6Hreynh5\n",
       "gMjiL6+GVWpc3cYokROfLUNgxt3ACIR5D5k4ravpeZV37QZElOOMUN+nI0GfObJYSsnlseaMgJ/Q\n",
       "+p7XaK/pBYxiw4wgzfMN4J01oIFFY3QYZBRpBoFn3cuB4r2Ju4qRQ9FYped9z7tFujIK5RvN1zBd\n",
       "k5nLtU+VaZARrThyFbzpVIcMNzBy/kdNnyq/7ns+zigWQX7XuQcmNEVrfbPKY4ymoPY0vY6MPGsy\n",
       "+j4now4j7vuejzOypRJ81Z0pCqoBJukvyLe+VWwWPxmReJR7PaS6/Kp3/ES3MPo62wg1Y01g3/N/\n",
       "WvPmEjdGlcyke0namegkM6YjWD8cNObJ1I+9vDdnbzpS/uz7X3UU5/lO+U4YSlKWuRFGdcGB0GNr\n",
       "vKwvs/YeRq3avzJqeD6Tj+w8X9LOFHAFl1VDjNTEyflWtxFJjeAuYWRxoIf0uu/5grpWBbUka22Y\n",
       "GYo1xjnwqFC0egUrsJo4FGuQ5BxRxnu3Hr9bZ5H4+qu+571m8iJDtfZH9MbpziAg2DFGZSNzFqbT\n",
       "GZHxY/loLlx1eF0sCJS/rytMe9/0vLNw+pS5n4IJ/ck+G9Wu3w0z0nI9gJHEx0SRArveTp/XUjzM\n",
       "yOlybCrtvVKelgYKphwM5duso9pYVEZuTBRorkd0+twfdzb8bzqyuYDgJc/KqpJ6AHJiWWjaQssI\n",
       "uoJ9EawT7a6NxRvupdTZ+yMQpxg5KhC0tIl2OS/S05cLRLrssqiGKrmXlzMS9iQjG08xmq+8KiNF\n",
       "jzyWxMteGVm9p4Q7frmMHrrPHmE06Yh/6qj2RXuaQXlxRpr/LxKPMPrMBENtcbGZUVwZ6ZkRUbGp\n",
       "8Kkl1875yOoYI+5Rkrq2tKFjf2nO55KJEw/W57r7BgBJMabUNTH1hok6HfbX9g9dKyJiZR8pqAAA\n",
       "AABJRU5ErkJggg==\n",
       "\" style=\"display:inline;vertical-align:middle;\" /></a></span><br>"
      ],
      "text/plain": [
       "thm_condition_02: {|m - b|_{mod 2^{t}} <= (2^{t - n} - 1)} |- |m - floor(phase * 2^{t})|_{mod 2^{t}} <= (2^{t - n} - 1)"
      ]
     },
     "execution_count": 58,
     "metadata": {},
     "output_type": "execute_result"
    }
   ],
   "source": [
    "thm_condition_02 = thm_condition_01.inner_expr().lhs.value.operands[1].operand.substitute(\n",
    "        _best_def, assumptions=defaults.assumptions+(thm_condition_01,))"
   ]
  },
  {
   "cell_type": "code",
   "execution_count": 59,
   "metadata": {},
   "outputs": [
    {
     "data": {
      "text/html": [
       "<strong id=\"thm_condition_02\">thm_condition_02:</strong> <span style=\"font-size:20px;\"><a class=\"ProveItLink\" href=\"../../../__pv_it/_proof__success_prob_guarantee/acd32fcced5d827e7e8acea60ad61aa8dc676ec60/expr.ipynb\"><img src=\"data:image/png;base64,iVBORw0KGgoAAAANSUhEUgAAAOkAAAAaBAMAAACgH2ZnAAAAMFBMVEX///8yMjJmZmYiIiIQEBCq\n",
       "qqqYmJhERETu7u5UVFTMzMyIiIi6urp2dnbc3NwAAABLrkmVAAAAAXRSTlMAQObYZgAAAAlwSFlz\n",
       "AAAOxAAADsQBlSsOGwAAAwBJREFUSMe9ll1IFFEUx//O7K4zzjpJoRU9pAZmD8KqD5EQGGEERa31\n",
       "GNFSEdQGLUFUijFBINaDqw+hGLRgvQTiYtGHUg31FEEuBRa54SK9mhIYw2ZuZ2Z2V3d2d+YK1oWZ\n",
       "e5l75vzmnHPPOQOs9yhJ4D8Oj2rOvQ5y3LpSj6Xndgc5OUQ3W3+swVlChTnPNX5NPzl9YaK6kGSQ\n",
       "rridqjg7tTSQXlRmPuPiARwpJMkrxRV3718b9TtdszUdgJbx5J2K7Do7hokohW0Ub2SktpthaDAi\n",
       "NqN6W1F2lcYNiFFa50ahfztRBc1G8SIb9Uy9OS8BYgKuVil8O73jinDVEYv0a6Kiqrhir8ZEffzF\n",
       "nMtI3KVBXOai6SeYB/+wIHVnccXlPgaq8CmaXkkkLvogJsvqMqR3kKZQiPpEV/x+YO5ZdOSzaikx\n",
       "Qy/8TlRhR+bgQjQTh1+wf8OgTiqkOHY9KvxS3ZbI924Rlh2oQp9/JXFCxjQaZaCORhD3qrsh/4bH\n",
       "8pWnFBxysnUVtSRsTHvAQJ1XEReEJbg1cLqLhE3N+tAjUwP8caLKKx7mjTLEhQpI3TR0tqxQe4kK\n",
       "94KOdMVyZffCu1iUOpt3mkxbz4PJVvKwfhD4GCYTiiVdOc1KldoI9G1QMUppbuYYVHcMP1jimiDF\n",
       "ZCXZ3CcHcvaTuBXIs7VSb1ScT2ryW6uEqPt2BHjOeobJ4EtAV3nu/l1czs/XK8AGVU7Ct7oiGvkp\n",
       "UQrITbW1PnvqjF4+z+qK3wJjwJtXufs9HwP6ZnfLiYFz94CnLxVMBMlWjyInM13NUsr4VCpVYQsd\n",
       "PLqVtO5y7HTyIjbjOEpVwcfF0GZWLXd1IE/0MHt7qnKmaujCA4wCnfOK2TuHFbkuv903sPd/zZm6\n",
       "gCGiUij6J82OLV/Lvt6czW6QDPMPVpiVSrZuS9s6Wzg7RD8rlSdHjdsJjOvUTqKW+OWDYkCmuMod\n",
       "j+rt/pucR9BZpOenZ9+H+zFMjyUwHWyMwJVKFe4rJxmhcuhf/A87DY4KxV+Lne/MXHmDNwAAAABJ\n",
       "RU5ErkJggg==\n",
       "\" style=\"display:inline;vertical-align:middle;\" /></a> <a class=\"ProveItLink\" href=\"../../../__pv_it/_proof__success_prob_guarantee/67500f0b65154e12a3d8b83f95b9c0cf70cd44470/proof.ipynb\" style=\"text-decoration: none\">&nbsp;&#x22A2;&nbsp;&nbsp;</a><a class=\"ProveItLink\" href=\"../../../__pv_it/_proof__success_prob_guarantee/148ccddd1922dce12bdbbf26548fe752487f00e00/expr.ipynb\"><img src=\"data:image/png;base64,iVBORw0KGgoAAAANSUhEUgAAASMAAAAbCAMAAAAAoBlrAAAANlBMVEX///8yMjIiIiKqqqqYmJhE\n",
       "RER2dnbc3Nzu7u5UVFSIiIi6uroMDAwGBgbMzMwQEBBmZmYAAABXd5ydAAAAAXRSTlMAQObYZgAA\n",
       "AAlwSFlzAAAOxAAADsQBlSsOGwAAA2RJREFUWMPNmdlywyAMRQGzCGhB/P/PFuQlaepFtmkbPWQy\n",
       "DrWvDxdJUIGiR0h3ZnSfZ3aXtRn5yqNfL0Bh/V3E68/khY4XZB1OZhdGg3wPRgNekbUdzvRi5KyS\n",
       "Nr0BI5BHsjTqFAJ/revQzUdyeAsfGX0gC3TMdUzmpykF9xg5RGloogq8AyOXj2Q5CJIlN6lpSPC3\n",
       "GNFitaVmyci8SXdGw7fChXZNVjJztLE+HMsFj3LGCO3LdUae9OVMsOEf8pFW+M0QJR7LyvUCojhS\n",
       "GxarSX2HUab7+OIEBmHhrxkF9fLMNL7XrizXugGVBj4jNLd8pOizJJFqtfjbtQZWhZ/QjmXFll6C\n",
       "1YLNKORJbwwenA0miGStiWfqmtrp0xJJjLIY6MoIUK28pefK4ph0YRTrN9JrhWnJDErrU4d8glEq\n",
       "4aBNTVJHbzsyAr/eahjDlHWKUaqG/Gzao1CGVmu7sy4nGCm/U3XIRjTAfGP0ec9GG4yk58k6x8jV\n",
       "SvDRZqY6qC2wgX5B+ehb1SPSGiM0P6e5zD+TeTQ8Nj4zo4+7jdDqWlO4J2uzNV99xQejRmb0/UDe\n",
       "Gelky/aRXpuuRWtYPiD8Qc5++Ej7u/d/9lGa9I75TllKUk4Aj9HQxju3l44izQ1CZ0ZrtX9hdCDr\n",
       "bD5yk17yzrjgKi6nWYwSGS5sAkU9cgKfbtZ+h4we0huerIt1rRlqTtbGCstaa05hC7UzTgaZNKp4\n",
       "sj8KeZhWlPUelu332l4kPf8VUxYjbJltqJf+iO44nhlEDI7FSBUKubtbKEXZ8z3kVLja8PayQSHj\n",
       "YCGOc8+QdVg4fS7Sj4sJfaezEbG33C702WZYNmBkcZ4pchT9495+jSU7bTECU7dNtb3X2tOrBR3G\n",
       "HBzqt8lHrW9ojID3QLT9Ed3c9zMile39misVhKx5dmguaRsgUPOL5sfSsoqOYJ/8CGq9axPpF86l\n",
       "9L3zI1Z93mMEVCDo1UaYdb9IV58OEOmwy6FmVXI/dGek3G8zcmmP0XTk1RhpuuSxJl7xzMiZMyUc\n",
       "ZHcb9TvPZsY2o9FH8tVHrS860wwOnTPS9H+RdIXRayZgLbsaE6O0MDITI6LicuXTSq6b8pEzKSU8\n",
       "4yTdt7QhiP8M8KVm4iyj86XNvg0ByTG21jU19oaZOh3x3/EFdhYiYtrfNckAAAAASUVORK5CYII=\n",
       "\" style=\"display:inline;vertical-align:middle;\" /></a></span><br>"
      ],
      "text/plain": [
       "thm_condition_02: {|m - b|_{mod 2^{t}} <= (2^{t - n} - 1)} |- |m - floor(2^{t} * phase)|_{mod 2^{t}} <= (2^{t - n} - 1)"
      ]
     },
     "execution_count": 59,
     "metadata": {},
     "output_type": "execute_result"
    }
   ],
   "source": [
    "# and perform a quick commutation of the phi and 2^t to avoid problems later\n",
    "thm_condition_02 = thm_condition_02.inner_expr().lhs.value.operands[1].operand.operand.commute(0, 1)"
   ]
  },
  {
   "cell_type": "code",
   "execution_count": 60,
   "metadata": {},
   "outputs": [
    {
     "data": {
      "text/html": [
       "<span style=\"font-size:20px;\"> <a class=\"ProveItLink\" href=\"../../../../../../numbers/modular/_theory_nbs_/proofs/mod_abs_of_difference_bound/thm_proof.ipynb\" style=\"text-decoration: none\">&nbsp;&#x22A2;&nbsp;&nbsp;</a><a class=\"ProveItLink\" href=\"../../../../../../numbers/modular/__pv_it/theorems/77091dae23c319aa18d892fe6b36ce42c24c19460/expr.ipynb\"><img src=\"data:image/png;base64,iVBORw0KGgoAAAANSUhEUgAAAdoAAAAXBAMAAABey5NCAAAAMFBMVEX///+IiIgiIiIQEBB2dnbu\n",
       "7u5ERETMzMzc3NwyMjK6urpmZmaYmJiqqqpUVFQAAAB6qHgnAAAAAXRSTlMAQObYZgAAAAlwSFlz\n",
       "AAAOxAAADsQBlSsOGwAABRhJREFUWMPdWH1oW1UUP695L3n57MvYqDItoVSrDiEO5xcWXgebs1N5\n",
       "bqUglSXRGUd1LDr/UGQ2Y7I/21TcEOckMAUnG32MTTc7ttQxoSj6Vv3DgWALq1g/WIQF5zTg/XjJ\n",
       "e/el7yOJf3nKSV7PPSfn/u4599xzH8B/RXn0Z0NiEz8jGtp5zyau+mKTs3AjToNBuzG+6P13bjW0\n",
       "Bz2a1Awc9EMS5Xn8zw/to/1ueW/Cs4mm0EblltAOr3XRv4XyZ/j5nbbBCgUbb0HVFe1TJdMztBbb\n",
       "Qy76QYXwGzij022jDZdsvHVqrmiF9VL9+WyLaKsu+hGVMAbNa22j9dl5m1I8ZPKKDbWnZGtoQxU3\n",
       "/XWEIygowfa37WU7b+s9VanPdbjRQmto+YSb/nuU1/b03Ns+2pPUm3jlJokdeD/+u5cqdfk03RAy\n",
       "RTs+sLcptMGFbs1Z/wnKnwI81ypGmVk65O1I3l9h9+RfSirvpSYfXSTFpEQT8wHYpTSDNnVAuO6s\n",
       "P0t5HMT5VtGq9ae7CVrhYQgn2BOlAj7JE1qy5B20pm0twYmmYvujAvc4639L2a8wk5l79Nwk/n5N\n",
       "r9PR3kNLJDlDu0pwdJIVGmgfImjDZejA8Rbe6sGUQ6lZgE7ZSyb/TItdkUz+PECvC1rDBTY4A3DN\n",
       "WX+MclSqF6lAd7bI8bAJTziGP176aRQkmX+TjHYngcuzQitaXxpSLDIEfkrzUKVOgRntfSDcaCq2\n",
       "vRCqOusf0bkwU5NMo5XiOLiIw+bDgUF7GiQp8iQZPfUP8GAWbp5eM11kMjklwTcNx+15xYqW67fk\n",
       "Sv0Eopks/AGRcgPaBisT2iqEK876czo/fgB9DM1sAg73NAjtKhyysfgiabcQMG6ElqQTBK1ZaMQ2\n",
       "Q9FqsBRlmvPOHNrLDbE9bM4Vc3fhlwjaKsQK3zfEirVi0P6Jt7qj/hc670NFSrgjcB2GyYrwYgaj\n",
       "XqGsFsjWleT9BGBAS2l7kKZZqDIFfhBNNromzHiMlfxqI9qdplxhOkd+nkw+A3Oq2jB71opB+xu8\n",
       "AM76J3WO4ZxVA0k4RtCGtxM8L8JsiMxC+mQjTQwlnFiFUsMsNNC+TGvywiPjXWwxuUJ6QeGZPd1P\n",
       "f10EbgblbHzmsClXGArQO8S2la8u5NDvDfddWvzqF5RPKxUHK2ywGXeuTl7u0plWB24eZrPZrMZx\n",
       "/HEsuR/ORQ5msztR0g6SxjIM4g1UuRihcd525MDxxjehBdPRBIzCFtxB9Bu5YqE+ppcSq3AQ7TZ/\n",
       "UUg4WBk3PnsvYoIyoVTef1F5hYSQC32AWlsoQ39Aplv0Y1JD0AotIQErZLpuR7SKXw4kA2WU7BMK\n",
       "2VF6rljoSxZtBbbDbnxyZBysTGhtveBbS7i2Y3z5sWOKXyH7Fjaoggy3RdK0x0KHzQgMAaAVmsDx\n",
       "NIQM7XBBCzEpkIwkIaZO0fqh5wqiLeTk7KNlKs+gLcMCQnsB4NcGq2XR2nrZrzO925+99BiIz+Oe\n",
       "5mZ55EygH16Po2GUnqHJt4Xpwm6Nuz0HMbwchpBxOewFLVr1YG3V9VyxNg3pZdCi2E46WFnRLudl\n",
       "h84mGspmdcModb0xO6oPGXdCk5B58yNBl+1bnByahx/NA01gnxIriXhH1XLFQnuxNqUujDaD0AY1\n",
       "cZ2DVc2gy94LPoQ42/dWH1rf6yhtvtq4ql54d/wa8HF01xmYuTMH9Vxxom1/Rx786KoMA6vzXqxa\n",
       "9AIl69Uf/hf0L6e1sV87WgULAAAAAElFTkSuQmCC\n",
       "\" style=\"display:inline;vertical-align:middle;\" /></a></span>"
      ],
      "text/plain": [
       "|- forall_{a in Real, b in Real, N in RealPos} (|a - b|_{mod N} >= (|a|_{mod N} - |b|_{mod N}))"
      ]
     },
     "execution_count": 60,
     "metadata": {},
     "output_type": "execute_result"
    }
   ],
   "source": [
    "from proveit.numbers.modular import mod_abs_of_difference_bound\n",
    "mod_abs_of_difference_bound"
   ]
  },
  {
   "cell_type": "code",
   "execution_count": 61,
   "metadata": {},
   "outputs": [
    {
     "data": {
      "text/html": [
       "<strong id=\"thm_condition_03\">thm_condition_03:</strong> <span style=\"font-size:20px;\"><a class=\"ProveItLink\" href=\"../../../__pv_it/common/89d0188c50f606a85186776fad8a95883dbde6470/expr.ipynb\"><img src=\"data:image/png;base64,iVBORw0KGgoAAAANSUhEUgAAAJ8AAAAYBAMAAAAWgDKzAAAAMFBMVEX///8yMjJmZmYiIiIQEBCq\n",
       "qqqYmJjMzMxERER2dnbc3Nzu7u5UVFSIiIi6uroAAACibcT0AAAAAXRSTlMAQObYZgAAAAlwSFlz\n",
       "AAAOxAAADsQBlSsOGwAAAfBJREFUOMtjYCAPSDFQF3B/oLKBrAKk69n3ALcc12TJAiyiUfjM45Xb\n",
       "gEeWMQCbaE03Hi3xQPM452phcYeSRAEDP4ZtxSCRHjwGTgZiUYbNCzAkVjBw/mN4gh5Jh+Q3QDXh\n",
       "MZDNgIGzAUPiFAODC8MdbvQwvI/dQN5mY0O4gRwHGFh/Yyjx38BwfoEu5waiDOST3YDkQn4FBvav\n",
       "GAYeZmA4X1CUzoDLQL47u+b2ss/sA4su3IDs5f1AA79hCw57LGJwAzk5zjLsz2MIQc9QigwM6ycw\n",
       "sP/FoherINjAK0D8jrmBYf0FhnywKCL9c7lBDPyJRS/zAVwGrgcmzw37H4DSnCLYamdjY2MLsHkH\n",
       "gflk/wQGPmyO0YAxNhqDgDnCQO6DQBPjwd7zBKcmRCIp6gZHCitmpDCwYXMgxEBOOSBxkIHBkoHv\n",
       "FzdI1AChAJjoORoY2DCTDUMkA9cCHAaCshfQbdz/GHgEloFE76ImbAcGJsxShX0CA+8GHAZOAYXW\n",
       "dwa2DwwcEyag5XlQCjBl2ALOENwfgcR+qNmLlZSUsXh5/gJYOjRg4FVg4NMF+4L7xGtkAzfNPQ7h\n",
       "GIHiVgGaCP///4hp3hl/mQRsWY9vBlLWIx1MJlOOLE1XyDFQEY/c+gAyqi43PJJcOiSbyDUHqAUA\n",
       "QduDMdPRGlAAAAAASUVORK5CYII=\n",
       "\" style=\"display:inline;vertical-align:middle;\" /></a> <a class=\"ProveItLink\" href=\"../../../__pv_it/_proof__success_prob_guarantee/b54176fb16ce206f95c6cd42f5c9b410e39b0efc0/proof.ipynb\" style=\"text-decoration: none\">&nbsp;&#x22A2;&nbsp;&nbsp;</a><a class=\"ProveItLink\" href=\"../../../__pv_it/_proof__success_prob_guarantee/d9237b44f1cb6bb14c70e79c3315555648dad3a00/expr.ipynb\"><img src=\"data:image/png;base64,iVBORw0KGgoAAAANSUhEUgAAAo4AAAAbCAMAAADF5P4LAAAANlBMVEX///9UVFSIiIh2dnbc3NxE\n",
       "RESqqqq6urqYmJgiIiIyMjLu7u4MDAwGBgbMzMwQEBBmZmYAAAASw48rAAAAAXRSTlMAQObYZgAA\n",
       "AAlwSFlzAAAOxAAADsQBlSsOGwAABatJREFUeNrdm+tipCAMhQVRuXQF3/9lV4KOOhVMgnan649e\n",
       "x8h3csCA2ISGcljVPHXQQofm0SP8PFL4LyhqL+qL/9XD4Vc33dQc++0vmNDzMQRMsyuOROwrzqUg\n",
       "BWwiHsgtMjPExHA5MHnt37zV2+u4qmPZERP6B+y4EPuKcylIO7E+1Y7ExHA5FiVKZ7tjS1RrbDte\n",
       "jxGSDo0M/bgdV2JfcS4JaRPrM+1ITgybIylROrvTqUkh2A6aZHtMYOPQ0NTQT9txIWaF56n1Euuz\n",
       "7MhODJ8DlCicrfw2jLZTrIsmh4krBRqaGvoeOzqri8Ss8Ey1XmJ9lB35ieFzgBKFs0ML3wTMrPz8\n",
       "wQF3KfdOMOiMHcmhbxodXWtkgZgVnqnWS6yPsiM/MXwOUKJw9pQmih4EE5OK/nWYOuJ98Ollxo70\n",
       "0LfdrKVpXY6YFZ6rltUfaEd+Yio4ohL5s8el3woDX6exCbJpMUN36JB2pIe+sXbU3ww5TvxCjq3W\n",
       "KtZnjY7sxFRwRCV8Yfw4FJrTLHnQpx1lhL8OdupSw6VH2pEe+tapTG+DOieO4QcpnGplJ5uxbbvh\n",
       "crRFIuXEesqONIxDZjiJqeCISuTPFvbQ+QvLN9CS0epBpPppeCsey3akhb53Zj1Y4c6IY/i26YSM\n",
       "JU1c3e6vLohWKyfWU3akYewzw0pMBUdUIn92t7/lmsJsuYeOAh/oFo6RYEdS6Nvt2Lkz4ljDD42J\n",
       "vytIir56NoFVKyvWQ3YkYuwzw0pMBUdU4k9a+TDbsVrJinw1GHvbq+HQPbR79ZkZfb0nBIjoPXwT\n",
       "p9C00Cv1n3tu1uJws96I5/BubkfE6GH0CnZbJTrRCq9WVqwaokybYkgixi4z3ylKGC878jmiEl/5\n",
       "ZcntmZcWpX/L1xcnl1YP6NGRGHql/rpjKhNc7roQvoehJGXQtxfRsGplxfq6f3RMIUkYW2bOKAoY\n",
       "LzvyOaIS+bF16+99hFCqVEYM0MGW/Cr8zZoa+tGFno3Yb+WgaaGsUU15folVKyvWYzNrEsYrM9zE\n",
       "VHBEJRB2HKFLySxH0Kl5ToxrEaCQdiSHfnQZ/M2OMJSkwWtOqdI4O14gZcV6zI4kjDUz7MRU1Y6q\n",
       "NLNeagdlQjxMAcFKO+pght0UCWVHRmimHVU4lFq6SJzCp2ErFf9d21zc5tBq5cQip1EFlB1pGOtD\n",
       "QnZiKjJTnlmvC2JmgsMWy7BpMhuoxq470kMj7Sh9vwyDrYClHMw2o916KcxJIRkypMtKhTv3Gikj\n",
       "lm9uR0rrjiSMJTP8xFRkRhfXHQfkw/N17N79JpB2pIfGjo7LPpQAs/tYKQbExpSh4qkMQa1zsa5X\n",
       "BMlIt+x3JCamIjNRicLZfkA3zR/mLu/3wuwWCnporB27xBgrJrhbGdy1Kp5Z49U6F+vyknSkZ+14\n",
       "npiKzJSfWW/7WxBF6HHC7u6DPoY+2NF1ZuylcFoLsILUEmbLcv5h6YNxZSxCH7fGOnO+5nbHjh62\n",
       "WCWia6Sft2MmMfGiPIyrHT0jGuf4wFaLG/vgMfRxdFTTjGbnOUQfPxSfxzqz+MJvN7LWwHsDGiNx\n",
       "xX5HtFoZsQpEXKRH7ZhJzDILZGDoi/2OjeiRTVOHcduoG+14DP1uRwezRbBC6q2dhD/u9jCPcZex\n",
       "Chr1PtxKzEkkVq2MWHmihov0qB0ziVnsyMAAJQjvyiAPzrsy+BnD0Y7RBTJRpxmqCMPU7KFV5wjh\n",
       "b3xXhipWnqjhIj1bOzYlO9Ixrt+VSUvz1HWkrvkndkyd0L6NjnFVSxFeFF6IeW8StjVi5YkaLtJn\n",
       "2BGHsShR3umrB3K7Aqbr2vdJBK5amY+Fenwlr1uogVN51wgdv/cL5DiOgTI+JuKRlRK6WrumFYi4\n",
       "SBwKTmb2iYGLMjBISfrIw4lproO9HZSY4sDUSgnbadt5/mYsSOphNffXE/0yJD7GXx6nUkuG0myJ\n",
       "AAAAAElFTkSuQmCC\n",
       "\" style=\"display:inline;vertical-align:middle;\" /></a></span><br>"
      ],
      "text/plain": [
       "thm_condition_03: {m in {0 .. 2^{t} - 1}} |- |-(2^{t} * phase) + floor(2^{t} * phase)|_{mod 2^{t}} >= (|m - (2^{t} * phase)|_{mod 2^{t}} - |m - floor(2^{t} * phase)|_{mod 2^{t}})"
      ]
     },
     "execution_count": 61,
     "metadata": {},
     "output_type": "execute_result"
    }
   ],
   "source": [
    "from proveit import N\n",
    "from proveit.numbers import Floor, ModAbs\n",
    "from proveit.physics.quantum.QPE import _two_pow_t, _phase\n",
    "_a_sub, _b_sub, _N_sub = (\n",
    "    subtract(m, Mult(_two_pow_t, _phase)),\n",
    "    subtract(m, Floor(Mult(_two_pow_t, _phase))),\n",
    "    _two_pow_t)\n",
    "thm_condition_03 = mod_abs_of_difference_bound.instantiate(\n",
    "        {a: _a_sub, b: _b_sub, N: _N_sub}, assumptions=defaults.assumptions + (m_membership,))"
   ]
  },
  {
   "cell_type": "code",
   "execution_count": 62,
   "metadata": {},
   "outputs": [
    {
     "data": {
      "text/html": [
       "<span style=\"font-size:20px;\"> <a class=\"ProveItLink\" href=\"../../../../../../numbers/rounding/_theory_nbs_/proofs/real_minus_floor_upper_bound/thm_proof.ipynb\" style=\"text-decoration: none\">&nbsp;&#x22A2;&nbsp;&nbsp;</a><a class=\"ProveItLink\" href=\"../../../../../../numbers/rounding/__pv_it/theorems/1da937839768f43ff773ebbf125bd8f76a3dd31c0/expr.ipynb\"><img src=\"data:image/png;base64,iVBORw0KGgoAAAANSUhEUgAAAL0AAAAVBAMAAADhtvKAAAAAMFBMVEX///+IiIgiIiIQEBB2dnbu\n",
       "7u5ERETMzMzc3NwyMjK6urpmZmaYmJiqqqpUVFQAAAB6qHgnAAAAAXRSTlMAQObYZgAAAAlwSFlz\n",
       "AAAOxAAADsQBlSsOGwAAAklJREFUOMuFlU1oE0EUx9+0k+ymuwnpoeAHlDboSYVQPHmqUEEPyhZq\n",
       "PBSkAV09FtGrLPZYkLQg9KCwQi+iYkBBq0XiwYPoYaleBMFIwZMHLwG9OW8+drOZWWfgH2Z+yf7Y\n",
       "fW8mC/DfEclo42I2dQt+UoizQRIRfXzKpo8BHpovR9zHybcC/xcZm5/0tB84RwV+jYsts77UEbH6\n",
       "4d7o95d3BgLfxgqumP1eT8Tu/6iXdiBwJQCgidk/LmP3jwfpsrqV+Rn22f1VCsr/Vcbur6RP6R8L\n",
       "Mj/iuUbjZIH/hczi9KWFRPdLjH7aV2U5EgzVB/FLgKsF/vsyXfLDm9H9EqPfl7tgaTZXf8R3we0P\n",
       "Xbh37u2Gmp8Q8SN/UOtpfoXRX21yun4831/E5YDGas9OhzGhcHZerk+JOODx2yttNnCsSr/C6Hd+\n",
       "46z2YGT/IK7W0/a+YZcSAu/reT/bB3VjfwVG/0TT6Oe48459TL46HPFTyPxT3Xx9AJ5FpcDgF5jX\n",
       "Z8ZcH8Tn2Skj0c9K0uKcum1V67ZIK94Hqt+/wry/K+b+Il5j7fWh7cATzr0r6Wm+IPL91nN4qvsV\n",
       "Rr+nWrY4Kx+U/lG4xhvGlh/CMEwIoanrhsjyZHU30f0Ko38sTs+XOAC1/b+/hrHTdOEmv38ysa1q\n",
       "PbYqYj+/d7KlP/RnmeI12vHYTuX1hzOqv35XxO7fNR/QFHuHTk+Be43NHh2cX95R+LqMzV/wBzyK\n",
       "l8IwzoGWjM1fNr8Jy7YXpFsX0cfnhtyJezg5YL6c4X+CsqhlQ8GntwAAAABJRU5ErkJggg==\n",
       "\" style=\"display:inline;vertical-align:middle;\" /></a></span>"
      ],
      "text/plain": [
       "|- forall_{x in Real} ((x - floor(x)) < 1)"
      ]
     },
     "execution_count": 62,
     "metadata": {},
     "output_type": "execute_result"
    }
   ],
   "source": [
    "from proveit.numbers.rounding import real_minus_floor_upper_bound\n",
    "real_minus_floor_upper_bound"
   ]
  },
  {
   "cell_type": "code",
   "execution_count": 63,
   "metadata": {},
   "outputs": [
    {
     "data": {
      "text/html": [
       "<strong id=\"thm_condition_04\">thm_condition_04:</strong> <span style=\"font-size:20px;\"><a class=\"ProveItLink\" href=\"../../../__pv_it/common/89d0188c50f606a85186776fad8a95883dbde6470/expr.ipynb\"><img src=\"data:image/png;base64,iVBORw0KGgoAAAANSUhEUgAAAJ8AAAAYBAMAAAAWgDKzAAAAMFBMVEX///8yMjJmZmYiIiIQEBCq\n",
       "qqqYmJjMzMxERER2dnbc3Nzu7u5UVFSIiIi6uroAAACibcT0AAAAAXRSTlMAQObYZgAAAAlwSFlz\n",
       "AAAOxAAADsQBlSsOGwAAAfBJREFUOMtjYCAPSDFQF3B/oLKBrAKk69n3ALcc12TJAiyiUfjM45Xb\n",
       "gEeWMQCbaE03Hi3xQPM452phcYeSRAEDP4ZtxSCRHjwGTgZiUYbNCzAkVjBw/mN4gh5Jh+Q3QDXh\n",
       "MZDNgIGzAUPiFAODC8MdbvQwvI/dQN5mY0O4gRwHGFh/Yyjx38BwfoEu5waiDOST3YDkQn4FBvav\n",
       "GAYeZmA4X1CUzoDLQL47u+b2ss/sA4su3IDs5f1AA79hCw57LGJwAzk5zjLsz2MIQc9QigwM6ycw\n",
       "sP/FoherINjAK0D8jrmBYf0FhnywKCL9c7lBDPyJRS/zAVwGrgcmzw37H4DSnCLYamdjY2MLsHkH\n",
       "gflk/wQGPmyO0YAxNhqDgDnCQO6DQBPjwd7zBKcmRCIp6gZHCitmpDCwYXMgxEBOOSBxkIHBkoHv\n",
       "FzdI1AChAJjoORoY2DCTDUMkA9cCHAaCshfQbdz/GHgEloFE76ImbAcGJsxShX0CA+8GHAZOAYXW\n",
       "dwa2DwwcEyag5XlQCjBl2ALOENwfgcR+qNmLlZSUsXh5/gJYOjRg4FVg4NMF+4L7xGtkAzfNPQ7h\n",
       "GIHiVgGaCP///4hp3hl/mQRsWY9vBlLWIx1MJlOOLE1XyDFQEY/c+gAyqi43PJJcOiSbyDUHqAUA\n",
       "QduDMdPRGlAAAAAASUVORK5CYII=\n",
       "\" style=\"display:inline;vertical-align:middle;\" /></a> <a class=\"ProveItLink\" href=\"../../../__pv_it/_proof__success_prob_guarantee/3ef484a0c6dcff0772f3ed31da3d7adecd99d3fb0/proof.ipynb\" style=\"text-decoration: none\">&nbsp;&#x22A2;&nbsp;&nbsp;</a><a class=\"ProveItLink\" href=\"../../../__pv_it/_proof__success_prob_guarantee/e3524a3b0577b8611e2bdd93b3d2f60c92cd08d80/expr.ipynb\"><img src=\"data:image/png;base64,iVBORw0KGgoAAAANSUhEUgAAAnoAAAAbCAMAAADcQ9LoAAAANlBMVEX///+qqqqYmJiIiIju7u5U\n",
       "VFS6urp2dnZERETc3NwiIiIyMjIMDAwGBgbMzMwQEBBmZmYAAACOqHTDAAAAAXRSTlMAQObYZgAA\n",
       "AAlwSFlzAAAOxAAADsQBlSsOGwAABWJJREFUeNrdm+mW2yAMhTGL2VrA7/+yNXhJbIODBG4z5cfM\n",
       "nEwQ+qTLakwCKRWryVMFZjqQR0v4L5DCz8uM39o8/4NPVfXHqubpCDUdri52L4tXvqEuBCmQJ5Ew\n",
       "Fi85r0z6nnPf1E2K0htsP+kNAWxaq8elt3rlG+pCkN6IvlZ6dUlvld4aiYL0tDRWuk7S4xZhmrKH\n",
       "pbd55RvqgpBeRF8qvdqkt0pvjcRJejoEq1Lrdug26imKMW34s9JbvMKZX+sCkXaiL5MeNDPN0lsi\n",
       "cZReGgrlFNcxE+8lPe1RppnokSdu6Z1XOPNrXSjSTvRd0gNnpl16KRJH6Ym0wfHzh2Ol2QrpBYky\n",
       "zbc4tOWJS8PKXuHMr3WhSDvRd0kPnJl26aVIHKXnU3DEpKMueae13jTiTFvaKU/MSF7wCmd+rQtG\n",
       "2kfgr5IeGKNdeikSp1HPpJ+TI4ERybtIzy19HW46qG55ohfxuYYRaKsLRtqIvmzUg2J0kF6MRG6H\n",
       "a6Y5vIFm9e/Sp6OdFK+UHjNI08x3zNNgg857lcyPTHAtmWLESalGANEdUonoKemBKE47XABGB+nF\n",
       "SGSk5yZ2I9f0DUtHISulJ9Cm18GlU55GK3jOq2ReEiVYXIPEo+LB1xPdIpWInpIeiOIoPRBGu/Ri\n",
       "JDLSM+Jm8EgdIH1BVUpPKaRpN7m+0lM851U0P47ExA90SgCd6onukIpED0kPRnGa6QQi53iMGInf\n",
       "FzeCymxItn8n2VO+94V36XFrXuU1cFuBNK3X1fzvPhOuOEy4L6+ieT77ERsb0rAU7D3SG1EGqYKo\n",
       "CSnvE5ziID0Qxp5zPEaMxK+zGzQnf7M1xvYfnFWOentdqGm+JupXj21G4CWvFvNDGiOWdHlZS5RF\n",
       "+kzUA+lU4BTv0oNh7DnHY8RInCfcITqs9d20P6aOE2q3GfsYATWte024ucMVezreXdZvRqZ1iCa8\n",
       "iugDUpHosR0uhOJNekCMDhNujMRJei51FVb0OdDFFS4cAUoPbNpNukOeCkfKZ+mlMWIZleb8aVol\n",
       "vQ9IRaLHpAeheEkPitFlrafPD9JMiMXcuGuZdTSYsfpcTyisaeQOV4fDyojeebWZX8ajZWWuJJE1\n",
       "RJ+RSkRtSGXpgSheD9LAGFjpvTCuO1wzpWJvl03TZOT1ePH2CAdlmtad6zE/rMObFOn4hLLKg6X3\n",
       "E7EUeBYWJKar6n5GKhA9gASn2KUHxqiV3g0G9Tf39cjdxEgA0hsrLyJcTAdR17fW6xbRkdh1mQkV\n",
       "9y/GhqcZzUQPIPW5rwfMOR4jRgIuPe9g0iN+xJmufYarFp64wkkzjqlrq+EZbivRA0jPSq+QczzG\n",
       "9Rlu1QKRAKUXJMr04eYKV8YNTHBKRUo7oyztWtn8x9q34slTBDxe4+Qmf6bV4+YKmii2WSL6jPT3\n",
       "pVfKOTozmZsrVScVUOk5jzJNxXEFPWPYeX0/xC/F55PcrBrwr8lImnR3ndaEs+F5aitRajNPhEV6\n",
       "VHqlnKMzQ6/39Wp2KQ4qPSIGjGmjj4A87dpS2pdeqFj68O1qrYu3X3WgVa9VbV5hktZItEovQ0Sw\n",
       "SI9Kr5RzdGZSJOBrPQKWHscYP72boSNTfDYeAZedogjjRN4BteKABjq+mwElWqWXISJYpGfXeuRW\n",
       "euDMZN/NeER6y2k58AhIkbL0lr5lT30rnhppwHukq1e4N9KaiK7S24gIFulLpFeVmTUS21Bqz8vw\n",
       "qiXAXBDv4Vat5F/dxO2AagVMTNpzImj8PaxAzrkAGfcWrxwq/E1Eqc08ERYJQ9Gcc2RmQEn654WL\n",
       "aV6jejtqMcUBRzKWrn7KeR9lbAqBTwejP57opyGhM/MH3ENQ3+5j+A0AAAAASUVORK5CYII=\n",
       "\" style=\"display:inline;vertical-align:middle;\" /></a></span><br>"
      ],
      "text/plain": [
       "thm_condition_04: {m in {0 .. 2^{t} - 1}} |- |floor(2^{t} * phase) - (2^{t} * phase)|_{mod 2^{t}} >= (|m - (2^{t} * phase)|_{mod 2^{t}} - |m - floor(2^{t} * phase)|_{mod 2^{t}})"
      ]
     },
     "execution_count": 63,
     "metadata": {},
     "output_type": "execute_result"
    }
   ],
   "source": [
    "thm_condition_04 = thm_condition_03.inner_expr().lhs.value.commute(0, 1)"
   ]
  },
  {
   "cell_type": "code",
   "execution_count": 64,
   "metadata": {},
   "outputs": [
    {
     "data": {
      "text/html": [
       "<strong id=\"thm_condition_05\">thm_condition_05:</strong> <span style=\"font-size:20px;\"> <a class=\"ProveItLink\" href=\"../../../__pv_it/_proof__success_prob_guarantee/0d9d082e1c30e6b8af42686e1bdf6b987c8e5cef0/proof.ipynb\" style=\"text-decoration: none\">&nbsp;&#x22A2;&nbsp;&nbsp;</a><a class=\"ProveItLink\" href=\"../../../__pv_it/_proof__success_prob_guarantee/dfb48d71503e92074067b4a9d00b58a2c33ad6920/expr.ipynb\"><img src=\"data:image/png;base64,iVBORw0KGgoAAAANSUhEUgAAANEAAAAaBAMAAADbO6SrAAAAMFBMVEX///9UVFQiIiKIiIjMzMx2\n",
       "dnYQEBDc3NxEREQyMjLu7u5mZmaqqqq6urqYmJgAAAB66f/FAAAAAXRSTlMAQObYZgAAAAlwSFlz\n",
       "AAAOxAAADsQBlSsOGwAAAv1JREFUSMeVlk1oE0EUx//pbpN2N0mjKFoUGgtStEiTHgS9uIgKIpil\n",
       "eOqlOYg3aRA/Al568CAexPqBCmJX9OKpJSJoA6EHPRQvEUQQDybFi0qhaKEfUOLM7iSbybxt0wf7\n",
       "NTP//c28efNmAMm6c9iGPcb2bJFd8bL3Pq3Uzigl3fUXY0n92XdKISzKaz6Jj3mlOh9Mit4jSfkg\n",
       "0mveO6G5duhCa3U8FUSKjDyyKJKqEHaXXV0V8fFMrT8cOKbuOXJMqkL0LMtu19l18/0tYF1tkKZI\n",
       "keITCz0OTUqrxSdZU9NmL2+ZdgJj5VhWbTTtEKQ8OjfwFTRJURj7plhRD4+6DSCUQzirJV6pAVAh\n",
       "SHuAS0gb5DypCuAEI2XYpTOnhdcRWjFTo0ojc4IgjTvoy73pdEhSs2I+1yANs6eWZGNKIrSsl9Re\n",
       "almCtBPos879pL3XpFiY9cfUy54hL8g7pJWoW4hN3QFi63TsDUmFp4Bvq45H8hXDo03eu82D3Btu\n",
       "RloIJnB2cTcjLpMk/V9LKtGff7Y9Ul1hjKSa52mSaxPu5wFJ+wFIoIsF5QZJ6khIicZCCJjwSEIR\n",
       "KVSkiBjkqhlp6o01frcRd/jADK4z7vdzs3zSu8Yq4K7vBH67GY+TDI/UOyfHnj+maqOc05GCBrxk\n",
       "XSO9F28Mye2mxtsbKTGm5c1JURs3ZM9/AVjo6CsU6SMiOWlSYxZMERFC0eq9vTz2uN9OA8ebf1hi\n",
       "rBdWQOzpNrTmxWRWTBi7IMdeS0QcFQsgMlgsJqUfPnj45wj3E7WerhSLBanw6bHzhbIgNRTGcL3v\n",
       "Y8wBPxyvEx21Wk3ebxZqB93uJgjSUK22Jm8uQ3/tRo7wFQvegtoxPllBmPfkMpXlzUpw3lOtROe9\n",
       "X/5s1nO5amErOJerdnGTXC6SDnfqGaom4z2qaIekL/mkasCeu58HH7F7urmX2UBbJC3pkwbaOEdI\n",
       "dnWLc4S8dVtbnyOitrsQg2yTsxGwvbORdN5TbVYlifxHObx/kFK49h8TG8Wv9lEnZAAAAABJRU5E\n",
       "rkJggg==\n",
       "\" style=\"display:inline;vertical-align:middle;\" /></a></span><br>"
      ],
      "text/plain": [
       "thm_condition_05: |- ((2^{t} * phase) - floor(2^{t} * phase)) < 1"
      ]
     },
     "execution_count": 64,
     "metadata": {},
     "output_type": "execute_result"
    }
   ],
   "source": [
    "_x_sub = thm_condition_04.lhs.value.operands[0].operand\n",
    "thm_condition_05 = real_minus_floor_upper_bound.instantiate({x: _x_sub})"
   ]
  },
  {
   "cell_type": "code",
   "execution_count": 65,
   "metadata": {},
   "outputs": [
    {
     "data": {
      "text/html": [
       "<strong id=\"substitition_01\">substitition_01:</strong> <span style=\"font-size:20px;\"> <a class=\"ProveItLink\" href=\"../../../__pv_it/_proof__success_prob_guarantee/e68bc29d9fef0d9abb82143a895e82b0a603daff0/proof.ipynb\" style=\"text-decoration: none\">&nbsp;&#x22A2;&nbsp;&nbsp;</a><a class=\"ProveItLink\" href=\"../../../__pv_it/_proof__success_prob_guarantee/fbc2ce07a6164733e8dffb405e83de528d31ae060/expr.ipynb\"><img src=\"data:image/png;base64,iVBORw0KGgoAAAANSUhEUgAAAHwAAAAaBAMAAACHnSXKAAAAMFBMVEX///9UVFQiIiKIiIjMzMx2\n",
       "dnYQEBDc3NxEREQyMjLu7u5mZmaqqqq6urqYmJgAAAB66f/FAAAAAXRSTlMAQObYZgAAAAlwSFlz\n",
       "AAAOxAAADsQBlSsOGwAAAa9JREFUOMtjYMAKOAugDK6XDLgBWNVbLBLrYQxnIyCxAYd2kCoebJIn\n",
       "4axDQFyBQztI1Uos4qWaIcja+Qyw6gar6sMmMwfFdgYt7LYDVbEnAPHuGQ5wseqdLQwMv1C1G2Lo\n",
       "hKniDgD5jfUvTJy9gSH+Am8CA0sHELRDta9fgKYbpoqB/wIDgzgDQxpMgrGAgS2BWWAJiu2cD9C0\n",
       "w1X5Aw3OX8AgD4totl8MjN+5DaJQtHM3oGmHqwLFqxADgzzM84wKDIxfWPbBuKXzg4EkcwK67TBV\n",
       "khC+PpIc0wf0gOL9hRnsEFUdYDbLZyQJf4xoZvkC9oISGAggq5oIMUoASbEihk3sfzFth6jSBpM7\n",
       "wNnjJwPWcALKYGqHqgLbzieAZNRDTJvYv2AIQVWBtR9lYIdFHANPAEM5ht+/o/sdpkoCJBvAwAxP\n",
       "V64MDFaEQx6mygyIi3bv3gR3p/bu3QroivnQ4x2u6j7QWv3//3/Co/P///8TMMJJAD3SYarYLjAQ\n",
       "BhhpHmFwABHaMXIcIlATiND+ELeUDBHa1XFLrSSsG0dZB0smhEAFPsm3BLXvwikDAAD/bHp3XpUp\n",
       "AAAAAElFTkSuQmCC\n",
       "\" style=\"display:inline;vertical-align:middle;\" /></a></span><br>"
      ],
      "text/plain": [
       "substitition_01: |- (2 * 2^{t - 1}) = 2^{t}"
      ]
     },
     "execution_count": 65,
     "metadata": {},
     "output_type": "execute_result"
    }
   ],
   "source": [
    "# and 1 < (2^t)/2\n",
    "from proveit.numbers import Div, Less\n",
    "from proveit.physics.quantum.QPE import _two_pow__t_minus_one\n",
    "substitition_01 = Mult(two, _two_pow__t_minus_one).exponent_combination()"
   ]
  },
  {
   "cell_type": "code",
   "execution_count": 66,
   "metadata": {},
   "outputs": [
    {
     "data": {
      "text/html": [
       "<strong id=\"div_mult_id\">div_mult_id:</strong> <span style=\"font-size:20px;\"> <a class=\"ProveItLink\" href=\"../../../__pv_it/_proof__success_prob_guarantee/ecde63787f651f906fbb8202580c2a029e201c560/proof.ipynb\" style=\"text-decoration: none\">&nbsp;&#x22A2;&nbsp;&nbsp;</a><a class=\"ProveItLink\" href=\"../../../__pv_it/_proof__success_prob_guarantee/d071afe9f0c1113f96f3858dd673365a9613328e0/expr.ipynb\"><img src=\"data:image/png;base64,iVBORw0KGgoAAAANSUhEUgAAAFMAAAAuBAMAAACmIDgsAAAAMFBMVEX///+qqqqYmJiIiIgiIiLu\n",
       "7u4QEBBUVFS6urp2dnbMzMxEREQyMjJmZmbc3NwAAADzFso2AAAAAXRSTlMAQObYZgAAAAlwSFlz\n",
       "AAAOxAAADsQBlSsOGwAAAT9JREFUOMtjYAADngcMxIJ4olUyyBCl6u2dXQwvfWYRoZJvA8P8BoaD\n",
       "xBjK/oCBLYHhKzFK2b4ysP/jSCDKVAcG9l/MBVHEeZ/lA6/BVOKUrjfgurSAOKXuRAc/7wailaoT\n",
       "rZJxAsM7nJLnYIygA0BiJQODKS6VrB+gDC5jB2DE+t6964DTxgNwFlANy////w/gSh9TTi5AUooz\n",
       "Gd09vYCBR4CBCKWvGTh/MPAHEKO0joEhjaGNgWH1biB4gFdpfgBD/QNzVmLcWsLAUL/gMmcAEUqB\n",
       "wJ9hrRbMk3N+GqAlBxcwKIAE+2eiY5ylgGilt9EF/sMAugQTfkOR3SrJwEdk6cQ1gYE5gDilT+7e\n",
       "vUKkp/z////DQAEAJzfiADi5EQfAyY04AE5uxCkFJzeifeZPtEo6JTecgIl4Q4dKcgMAWURlLI1i\n",
       "D5YAAAAASUVORK5CYII=\n",
       "\" style=\"display:inline;vertical-align:middle;\" /></a></span><br>"
      ],
      "text/plain": [
       "div_mult_id: |- (2^{t} / 2) = 2^{t - 1}"
      ]
     },
     "execution_count": 66,
     "metadata": {},
     "output_type": "execute_result"
    }
   ],
   "source": [
    "div_mult_id = Div(Mult(two, _two_pow__t_minus_one), two).cancelation(two).inner_expr().lhs.numerator.substitute(substitition_01)"
   ]
  },
  {
   "cell_type": "code",
   "execution_count": 67,
   "metadata": {},
   "outputs": [
    {
     "data": {
      "text/html": [
       "<span style=\"font-size:20px;\"> <a class=\"ProveItLink\" href=\"../_two_pow_t_minus_one_is_nat_pos/thm_proof.ipynb\" style=\"text-decoration: none\">&nbsp;&#x22A2;&nbsp;&nbsp;</a><a class=\"ProveItLink\" href=\"../../../__pv_it/_proof__success_prob_guarantee/fdc5aaccce23f853b415834a94fd23eb3d98ce2b0/expr.ipynb\"><img src=\"data:image/png;base64,iVBORw0KGgoAAAANSUhEUgAAAFoAAAAUBAMAAAD/1DctAAAAMFBMVEX///+qqqqYmJiIiIgiIiLu\n",
       "7u4QEBBUVFS6urp2dnbMzMxEREQyMjJmZmbc3NwAAADzFso2AAAAAXRSTlMAQObYZgAAAAlwSFlz\n",
       "AAAOxAAADsQBlSsOGwAAAT9JREFUKM9jYACDcwxQEHSAgSBg/QBlcBk74FR0AcZghJvIiFv1BijN\n",
       "N+XkAuJVM/AI4DKb1X/3UQbO/Ayoar67pxcw8AfgdAm3QDsDQzzM7NcMnD8Y2hgYVu8GggeYqtn9\n",
       "OBUY2Bh4d+/O3r2JoY6BIY3BnBWnu9mlgcHLAjM7P4Ch/sFlzgB01cxbXHzAqh8ZvEGoLmFgqF+w\n",
       "VgsWOnN+GoAZHIeh+tkfVDFPYEEKE38swfUGZhn7A26GHUiquT5jUQ1PCuwPuC6EhCDikqUAi+oD\n",
       "CNUMiozbEBK3sSjmSnFxcfGGqmYPKINLMGEzmnUDktmsBSFwCUkGvgeYyh2QVDMs5obbOYGBOQBT\n",
       "tTE85oHxxrwaxnty9+4VLE6BpzMw4w5M2P///z/YHF7dCrH6fDaQjCGUnThmQ2IeBQAAYmtTOe5+\n",
       "TdwAAAAASUVORK5CYII=\n",
       "\" style=\"display:inline;vertical-align:middle;\" /></a></span>"
      ],
      "text/plain": [
       "|- 2^{t - 1} in NaturalPos"
      ]
     },
     "execution_count": 67,
     "metadata": {},
     "output_type": "execute_result"
    }
   ],
   "source": [
    "from proveit.physics.quantum.QPE import _two_pow_t_minus_one_is_nat_pos\n",
    "_two_pow_t_minus_one_is_nat_pos"
   ]
  },
  {
   "cell_type": "code",
   "execution_count": 68,
   "metadata": {},
   "outputs": [
    {
     "data": {
      "text/html": [
       "<strong id=\"two_pow_t_minus_1_ge_1\">two_pow_t_minus_1_ge_1:</strong> <span style=\"font-size:20px;\"> <a class=\"ProveItLink\" href=\"../../../__pv_it/_proof__success_prob_guarantee/403d9ce6166997281529d88f8ba2f60f8d0bf5040/proof.ipynb\" style=\"text-decoration: none\">&nbsp;&#x22A2;&nbsp;&nbsp;</a><a class=\"ProveItLink\" href=\"../../../__pv_it/_proof__success_prob_guarantee/1d407b6d4c9b606e0513b5a9b2bc6a67e023e89d0/expr.ipynb\"><img src=\"data:image/png;base64,iVBORw0KGgoAAAANSUhEUgAAAEsAAAAWBAMAAAB6cHzwAAAAMFBMVEX///+qqqqYmJiIiIgiIiLu\n",
       "7u4QEBBUVFS6urp2dnbMzMxEREQyMjJmZmbc3NwAAADzFso2AAAAAXRSTlMAQObYZgAAAAlwSFlz\n",
       "AAAOxAAADsQBlSsOGwAAAOZJREFUKM9jYACDcwxQEHSAATdg/QBlcBk74FHGCDeDEY8yviknFxCh\n",
       "jIFHgJBpfHdPL2DgD8CnbAlQ9jUD5w+GNgaG1buB4AFMGeshhPdqzwOV1TEwpDGYs6K7LdIZYZo9\n",
       "UFl+AEP9g8ucAeiWMnsGICsrYWCoX7BWC+bSOT8NoEwmuDp7CMMfR2CefYCsjOszjmDiOB6ApIyl\n",
       "AJey08jKbuOKwePIljLhMIzJF8ULkgx8D7CoQgsQrgkMzAGYqtCD98ndu1ewJMBDSJz5QNv8////\n",
       "w4AXlOcfV2CgB2B1AQNYumEAALtDPydgumYJAAAAAElFTkSuQmCC\n",
       "\" style=\"display:inline;vertical-align:middle;\" /></a></span><br>"
      ],
      "text/plain": [
       "two_pow_t_minus_1_ge_1: |- 2^{t - 1} >= 1"
      ]
     },
     "execution_count": 68,
     "metadata": {},
     "output_type": "execute_result"
    }
   ],
   "source": [
    "from proveit.numbers import greater_eq\n",
    "two_pow_t_minus_1_ge_1 = greater_eq(_two_pow_t_minus_one_is_nat_pos.element, one).prove()"
   ]
  },
  {
   "cell_type": "code",
   "execution_count": 69,
   "metadata": {},
   "outputs": [
    {
     "data": {
      "text/html": [
       "<span style=\"font-size:20px;\"> <a class=\"ProveItLink\" href=\"../../../__pv_it/_proof__success_prob_guarantee/48d0ca934af370a21268ee40f14d55d01f4380070/proof.ipynb\" style=\"text-decoration: none\">&nbsp;&#x22A2;&nbsp;&nbsp;</a><a class=\"ProveItLink\" href=\"../../../__pv_it/_proof__success_prob_guarantee/323c5844597ad95d60fc3607437ce8cf26beb4d00/expr.ipynb\"><img src=\"data:image/png;base64,iVBORw0KGgoAAAANSUhEUgAAANwAAAAuBAMAAACxLmqgAAAAMFBMVEX///9UVFQiIiKIiIjMzMx2\n",
       "dnYQEBDc3NxEREQyMjLu7u5mZmaqqqq6urqYmJgAAAB66f/FAAAAAXRSTlMAQObYZgAAAAlwSFlz\n",
       "AAAOxAAADsQBlSsOGwAAA11JREFUWMPlmE1oE0EUx/9Jtt1m02yDKCoIrQURLdI0h4I97UEFEWwo\n",
       "nrzYg3gTg/hR8NAcPIgHqV+oIHVFL54SK4I2UHrQg3ipIIIn0yqCSqFoQRso6052kuzuvIkRzFx8\n",
       "kM1mdzO/mXnv/d/MAuosnoNKKyil4ZUy0oXnF3F21xFFND2PYwu4q2pwkRw6x1FRheusIPIzOa5s\n",
       "dH2IrMZSD9WFZXQlkT6qDjea1uYsdbjtSlM8kVeKW/wHKnqr5Se7szjPT5fdj7kgUdEE0aXaibEi\n",
       "3EsWgSKB2w+McDC7/VqmonpejuueInEThIgNlEp93ukj1k/+R0JFP0px+thNi8KZaTHpHMfhiCvu\n",
       "p6vsiTaholGbwuml2xbi8+TosLuZWDMlO1cTbVFFYykKN4GOdfTYNG6oWUJk3cNTLtqEihoVCrcZ\n",
       "OIF3oHEFW47rYTG5zkWbUtFpCnfKRm9uyCB9h3jZV8FDmTXqdkWrcNGmVPQZhdsA9FpPOmwS51OQ\n",
       "pdnQAxnmnz4u2n4V3Qe8/+W2NyyJzEEc+lS/pllI3rvMcbG6SzJC77eycjTFRdt/owht+o3r2A82\n",
       "idN+hNTg4PImjktydxtjYkpcYnmQF0W720IEcG+MWiQuGojYF0AKXRynrXoxP1MWQ+UqayAVEG1j\n",
       "zT10AF+rgjTJYsm41s/MauDqLi2wqcnCtNkQqzh93Zu3eSIyB1hPi0HRZtdiQBqGOxuFBWp0Zn1w\n",
       "1T+n2fMPOM4QcE7NGqPzibbnjaSFhOu3SXIyX0LPBRz9Fpitja6VyWyItocrJ2BsZAGUI3BaFjF/\n",
       "CM25wPtWzXc/5aGyhUVmPiDant3Ze3iGzSMZmadLpZnAtes3vu1BKDJhZEbCuGGeKD7R9swc/M70\n",
       "DZ+pvBt0nLXAxSVnRz3NzYYULoUTj3U+Sa5v57yvx9J6F0i8sk9VfDnyJeSKTjZhJ6kWjjfRTHGd\n",
       "bNGaGdiU+CqCYNpKk4ogLiP/UBG8+ua2yib6ANEAF1Iz1RIu48MtSjclrm1jPwgB0L3pieZawp3x\n",
       "4XbKNiXhtQph8rUKZZK1Cq9vfAnIREK+Efxb3IR0UyKsM8UAF90e51JNuLu/v1jVMsmmROm6/T/c\n",
       "lLTLQvWt3Raqb+1+sxKub21+E+DVt983U+kEgh0t8wAAAABJRU5ErkJggg==\n",
       "\" style=\"display:inline;vertical-align:middle;\" /></a></span>"
      ],
      "text/plain": [
       "|- ((2^{t} * phase) - floor(2^{t} * phase)) < (2^{t} / 2)"
      ]
     },
     "execution_count": 69,
     "metadata": {},
     "output_type": "execute_result"
    }
   ],
   "source": [
    "thm_condition_05.apply_transitivity(two_pow_t_minus_1_ge_1).inner_expr().rhs.substitute(div_mult_id.derive_reversed())"
   ]
  },
  {
   "cell_type": "code",
   "execution_count": 70,
   "metadata": {},
   "outputs": [
    {
     "data": {
      "text/html": [
       "<span style=\"font-size:20px;\"> <a class=\"ProveItLink\" href=\"../../../../../../numbers/modular/_theory_nbs_/proofs/mod_abs_x_reduce_to_abs_x/thm_proof.ipynb\" style=\"text-decoration: none\">&nbsp;&#x22A2;&nbsp;&nbsp;</a><a class=\"ProveItLink\" href=\"../../../../../../numbers/modular/__pv_it/theorems/2daafb76db005d142d599124aeffac2033a2465b0/expr.ipynb\"><img src=\"data:image/png;base64,iVBORw0KGgoAAAANSUhEUgAAAToAAAAaBAMAAADVt43tAAAAMFBMVEX///+IiIgiIiIQEBB2dnbu\n",
       "7u5ERETMzMzc3NwyMjK6urpmZmaYmJiqqqpUVFQAAAB6qHgnAAAAAXRSTlMAQObYZgAAAAlwSFlz\n",
       "AAAOxAAADsQBlSsOGwAAA/dJREFUWMPNl3+IFGUYx7/jzezMzuyu75lX2p3HcgRC/bNJ/tEfwggp\n",
       "algj5IUs1B2cYxwEK2f9V42c3J+2B2qFiotdUdHRadFpJ7IRST/x7QL/MehETiil7h9JMLHnfWd2\n",
       "dvaHq9veis8y+z7vzM48n+d5n/d5doC2iUGfUL1X8cqKgXbKKqiFQA2Vu8qWsmIyYE6ov7UBLmm3\n",
       "SIce4CuhvtsGuh1olS7u4E2RFgNtoDvTMl1iSgBC5W2gy7RMh7VIFCmE7Ui7fOt0R4A1fX1PtYHO\n",
       "siWU1jm/Z2tzdNt6X3yGS7rngGlg5yIRPc/1w06gx4uSzkIvO3kXOqtPylxAN6VcstKS7ntgP4y5\n",
       "RaKbSIOV9CVc0n2H8861pmKX8BLXU0VJ9ysQc+75XjsYpyLfpUEIO1Km6yhIuhxON5l3Oqx8kHdv\n",
       "Ufqyik0xu/nsuFQ+/Bfme76x5GOH/2ARkIHIdzBcEC2IHdeKVXTAk03vig4WKO/Tkf+6dEnvdQuK\n",
       "ik0yRsplYAWNu68Mg9nqvoZ0F6QbLP6DV7WyMG9gew3dQzzqflXe4TNPc6QyS8fWg6WbZnIEpeBb\n",
       "acp6uSiW0poWZlliWyO6czJkBjfLuz/GBJ02nMrArqGL84j7VbHrL1yG6mOeo2NUQHee6vYUYYPo\n",
       "uiSFShvHls1O0ClZPDvzxEyhgk7p3ntKTB72q3nSw6HQjDon6JL/ZDMmr6GL8bL71XS/v/Y5Jn26\n",
       "L+hIiYh5V+K8Xy6oagzKSLyh3dI5NEnC7LGeOrFbkRo4SsNI0GpmGXaHZvS0jN0JdvFnofSv/mX+\n",
       "pz/J2eUOlJ6VvOx+NV22M3mG+3SPBycTGNTxqaSzhnzjXTipODAlKftyI+rQFWMsR0NyyKmT36sr\n",
       "eoVxi+I6i1hBS1NIOnjofoNeYaTD0zeo+LmuyxVFnQwqxdsThH3IdV+lld3C6+XdUk8OpsRbeltK\n",
       "6YE/VtJdxxBGRI0YJFXmne9+AzorLAB6xsAeGTvFnHD84pY6QOdtP+8+2RCpdyHdCP2FFRP9qlcT\n",
       "u5hXQbeAS/Tzb4Cr5oJP57vfgG6spI+qeYvqssw7bJjSbFDQaTWCLkcVJRt5REBnZDaTCTkx/hL3\n",
       "TnZHsp8ytpaOYjdeip3vfgO6V8JW9+j6Lhi7SPt4pZ09ra/DMprM03yM9ow5fkCbydfQ4cREpxNM\n",
       "5EtARluIGNoLJReoSo7oBokuzo21uIZRoiu5XymPlBWlaj1ecN3A22Q5BBvd4epH1OkV/puKnrlT\n",
       "D3jpZuLpj/62sb6bFrxn2TsI3f8f8kHDq3eioy2J+yHFZuhep73uymWYxgMgXvTVM5IdqsPw4Mqx\n",
       "2+nFfeB/ht0iLLKI9lIAAAAASUVORK5CYII=\n",
       "\" style=\"display:inline;vertical-align:middle;\" /></a></span>"
      ],
      "text/plain": [
       "|- forall_{x in Real, N in RealPos | |x| <= (N / 2)} (|x|_{mod N} = |x|)"
      ]
     },
     "execution_count": 70,
     "metadata": {},
     "output_type": "execute_result"
    }
   ],
   "source": [
    "from proveit.numbers.modular import mod_abs_x_reduce_to_abs_x\n",
    "mod_abs_x_reduce_to_abs_x"
   ]
  },
  {
   "cell_type": "code",
   "execution_count": 71,
   "metadata": {},
   "outputs": [
    {
     "data": {
      "text/html": [
       "<strong id=\"floor_diff_equality\">floor_diff_equality:</strong> <span style=\"font-size:20px;\"> <a class=\"ProveItLink\" href=\"../../../__pv_it/_proof__success_prob_guarantee/bec0f131ae62f2a9cdd773f0a23e2ffc0f756f180/proof.ipynb\" style=\"text-decoration: none\">&nbsp;&#x22A2;&nbsp;&nbsp;</a><a class=\"ProveItLink\" href=\"../../../__pv_it/_proof__success_prob_guarantee/1227cb8a6f9dde97aeb603dd38f95d423e649d3d0/expr.ipynb\"><img src=\"data:image/png;base64,iVBORw0KGgoAAAANSUhEUgAAAaIAAAAbCAMAAAAJZ3tUAAAANlBMVEX///9UVFQiIiKIiIh2dnbc\n",
       "3NxEREQyMjLu7u6qqqq6urqYmJgMDAwGBgbMzMwQEBBmZmYAAAAz8eiFAAAAAXRSTlMAQObYZgAA\n",
       "AAlwSFlzAAAOxAAADsQBlSsOGwAAA5dJREFUaN7dWtuWqyAM5SIXZYbL///s0YCCttqkU2dYh4fR\n",
       "1Wl3stkEQoBFdtaMYnc1GnRkv926oQ4t1Fc3tf+w6UOdZx4+wUDPbYoPLn62VcJ9Un/gP+6tjuY1\n",
       "ktJv+YmB/gWJKuFOqRcbG3+7+7EahBn863Eo6X4ioW+XqBLulnq2sfHX7gA/YngK+8ZQwkHfLVEl\n",
       "3C91sLHyV/lFxWg06JwsBktytJ9U6JslUoH1Tx1srI7GYZv9hjQvnhOuY+xrm6aZvCnQN0uUCXdO\n",
       "HWysv0mQ03BICUMA/Sxm1jQO6Scd+l6J0sT6pw42Cn+fh0SAB0+KRckGTFBGjfSTDn2rRH6LgZ6p\n",
       "g43CX4qsNzx48sxHh5GbyYAdSmToWyUqhDunDjaKGd4mH+Jif+XBxGSSzqNhejkj79IaEvSdElXC\n",
       "PVMHG4W/1u0cIF/sqr1xEx/Klz3BTxL0RySKomlNDlYJ90wdbHwXsMZ7cZFNjuAVfCEzU2ki+EmC\n",
       "Xv38vqVWxh/f+qMONr4KQLxYBW3abIHIztYKkt38tKYZr/6pnzTo1c+vOySqhC+pNw5eUD/j/mPq\n",
       "YCMch5LjV3zk9sfKIjM+2onQt65Fz6LomX/Vwb+gDjaOEo2LokpdTZoTeBZtmSwV1k8q9K1r0ROJ\n",
       "OqQONtaMrsShh5iTp6lKdBnQcs+IaQ0d+k2JFOaggOvjW4/U24yu5PhKxKWJC6tGGu+iWKdhh90c\n",
       "0KGREsmQS5N2GDhfegFTg242NT1TBxthNyJEgnZ1qOHm74ihDgCO9JMOjY2iUj2OMK0tW9GIKCfX\n",
       "EOiZOthY+YcJPbu7twpVdGisRHrcSm2wgguUrUq4Y+ptja4p/L7k5t8q95KhdxJZLfwouXWOQ4dK\n",
       "J6HYJeeXEkVL0rpIZHEGj5XuLqnvKt0euyj7XR3D4Q9NqND7KFJpFsLMK/u4BImedbKi9G6o89og\n",
       "4JTbYYwF1j91154XMY47D2zqjzDNqg/6uYc+SjSPJz3kDs2EtIQPm5NMv5xSquhQt2wq4X6pg42T\n",
       "uwsXKW0bke8c4COhHyRa+lJmiXIuxeOUWCuR0hY/s5zeXeiI+uHuQt5eEXcg712DQbZziXIUmUMU\n",
       "LfshRbimVgl3Sr3YaNRzExUpYkatOdTskIE/tyKR3yTSRSJQRQXLuFueY+k0732kxNHZPbpeqJPI\n",
       "/HmzPM1ZQDCT4mkZ8oOUUcHTSWGgFwJsPth/1/4BkvI0HQrj3ZIAAAAASUVORK5CYII=\n",
       "\" style=\"display:inline;vertical-align:middle;\" /></a></span><br>"
      ],
      "text/plain": [
       "floor_diff_equality: |- |(2^{t} * phase) - floor(2^{t} * phase)|_{mod 2^{t}} = ((2^{t} * phase) - floor(2^{t} * phase))"
      ]
     },
     "execution_count": 71,
     "metadata": {},
     "output_type": "execute_result"
    }
   ],
   "source": [
    "_x_sub, _N_sub = (thm_condition_05.lhs, _two_pow_t)\n",
    "floor_diff_equality = mod_abs_x_reduce_to_abs_x.instantiate({x: _x_sub, N: _N_sub})"
   ]
  },
  {
   "cell_type": "code",
   "execution_count": 72,
   "metadata": {},
   "outputs": [
    {
     "data": {
      "text/html": [
       "<strong id=\"floor_diff_equality_abs_reversal\">floor_diff_equality_abs_reversal:</strong> <span style=\"font-size:20px;\"> <a class=\"ProveItLink\" href=\"../../../__pv_it/_proof__success_prob_guarantee/d2787dd9bfcfee02efb7d750004db515ace25e3d0/proof.ipynb\" style=\"text-decoration: none\">&nbsp;&#x22A2;&nbsp;&nbsp;</a><a class=\"ProveItLink\" href=\"../../../__pv_it/_proof__success_prob_guarantee/37a3ff8c8ddaa32564163140393ed6413314ee340/expr.ipynb\"><img src=\"data:image/png;base64,iVBORw0KGgoAAAANSUhEUgAAAaIAAAAbCAMAAAAJZ3tUAAAANlBMVEX///+qqqqYmJiIiIju7u5U\n",
       "VFS6urp2dnZERETc3NwiIiIyMjIMDAwGBgbMzMwQEBBmZmYAAACOqHTDAAAAAXRSTlMAQObYZgAA\n",
       "AAlwSFlzAAAOxAAADsQBlSsOGwAAA9hJREFUaN7dmul2nDAMhcELeEm9vP/LFhtmzI4km7an/pHk\n",
       "JBnpcj8LbOEudFfD6u6tgQsduj89/plLz8N/Prr/g4igzw8gA9mADR2OEpuPoqpK3w2PrsrV8ICo\n",
       "t+0Q9QEdWqvXERVVdfowiFCuLjkuEOnR2NE1QiQsITTjLyMqqir1wRFhXZ1zXFaR7ZtVkWKU0Ea8\n",
       "i6ioqtSHqSKkqznHDpEOwarMOYpWiLQnhebyVUTat9L3jIjsas6xRZTvfmOcHp4D0BgAojCSQovP\n",
       "5byDaFbVQt8jIrqrOccWkcxLQu8zP9HoWRQHWmjL3kQUh1b6HhFVuJpybBH5PDNk1F3g3SiaIHLz\n",
       "bMOHDupFRO5bA9X6HhFVuJpy7KrI5K/RdS4w1+ZGxw0xNPcvIlpUtdD3XEV0V1OOsxWdudlfuZxi\n",
       "sFEJICJJDr1M9FcQFVXV+oArOpKrKccJIhf5w67aWTbIEYhIKWJoF109omBWQ56pqtYHQ0RzNeX4\n",
       "dYxmblaTfVaV/0EBEVlJDK2XJ/qvV3plspk+GCKaqynHzyHayVNQxM+fM2QmSgdphUjY1YQtE8wE\n",
       "YmixWPDzBqKiqlrf9aXbu7VFiXzjaspxuNExeXdB/PtFcHQVIUPrFjc6TBUR9UGq6Cx0mRvXrqYc\n",
       "e0R9Iqr13U1zyMqCwCLChnZRv/csOkFE1QdARHY15dghcrnm+OVSJbA5oJAOuuiWihqauKLTkOa7\n",
       "VM30PSOiu3pc0WkT0jA3WS23jgUzwPdFnhiawfZF3M+tSTGOUiYXID3o1aamWt9zA4juKjvsi0zM\n",
       "4+6lBpv+x4yIresy2fChg4RtXZfucci3tbQVDYB2cimBan2PiCpcTTkuX0Z0d1WJ6tH5gRYa2qNT\n",
       "/bfVlp/gBpSrqKrVB9y6klw99uhA1+aQiEpPGRV60+kWyrieS8GYzIZyxnOzi08/LFWUFq0JkYBd\n",
       "yr7TTdfXBNG5qyedblD/Edmj65wnhWab90U6TiDs9GTvU5GoiZMwi7u+3NdGk99yM0gy30pfC0QX\n",
       "rrLj+yJU/xGKqJM9JbTRW0TTfFLjbOh8QYrnX67eZLr0llIHBjplU1RV6muB6MLVnAONSDs0IuCt\n",
       "Zxt6d3ZBJyqSz4jmtZQMQ+zWiLQS8DvL5dkFtL4WiM5dfTi7ABywE0AjOu7+BNAG0VxFdldFaT+k\n",
       "EcfUiqo6fU2eRWeuLjk+9Oy2uwSszmkQztGBnualINwXkVoQZSrai06y9L1fTHPOBUwdXZ2jQ+q7\n",
       "QUQwdeUq6mL++hAyTqsAbwctY5ryI+dB5++MG5td8Hnz0f134zfhjTbYAQwyEgAAAABJRU5ErkJg\n",
       "gg==\n",
       "\" style=\"display:inline;vertical-align:middle;\" /></a></span><br>"
      ],
      "text/plain": [
       "floor_diff_equality_abs_reversal: |- |floor(2^{t} * phase) - (2^{t} * phase)|_{mod 2^{t}} = ((2^{t} * phase) - floor(2^{t} * phase))"
      ]
     },
     "execution_count": 72,
     "metadata": {},
     "output_type": "execute_result"
    }
   ],
   "source": [
    "floor_diff_equality_abs_reversal = floor_diff_equality.inner_expr().lhs.reverse_difference()"
   ]
  },
  {
   "cell_type": "code",
   "execution_count": 73,
   "metadata": {},
   "outputs": [
    {
     "data": {
      "text/html": [
       "<strong id=\"thm_condition_04\">thm_condition_04:</strong> <span style=\"font-size:20px;\"><a class=\"ProveItLink\" href=\"../../../__pv_it/common/89d0188c50f606a85186776fad8a95883dbde6470/expr.ipynb\"><img src=\"data:image/png;base64,iVBORw0KGgoAAAANSUhEUgAAAJ8AAAAYBAMAAAAWgDKzAAAAMFBMVEX///8yMjJmZmYiIiIQEBCq\n",
       "qqqYmJjMzMxERER2dnbc3Nzu7u5UVFSIiIi6uroAAACibcT0AAAAAXRSTlMAQObYZgAAAAlwSFlz\n",
       "AAAOxAAADsQBlSsOGwAAAfBJREFUOMtjYCAPSDFQF3B/oLKBrAKk69n3ALcc12TJAiyiUfjM45Xb\n",
       "gEeWMQCbaE03Hi3xQPM452phcYeSRAEDP4ZtxSCRHjwGTgZiUYbNCzAkVjBw/mN4gh5Jh+Q3QDXh\n",
       "MZDNgIGzAUPiFAODC8MdbvQwvI/dQN5mY0O4gRwHGFh/Yyjx38BwfoEu5waiDOST3YDkQn4FBvav\n",
       "GAYeZmA4X1CUzoDLQL47u+b2ss/sA4su3IDs5f1AA79hCw57LGJwAzk5zjLsz2MIQc9QigwM6ycw\n",
       "sP/FoherINjAK0D8jrmBYf0FhnywKCL9c7lBDPyJRS/zAVwGrgcmzw37H4DSnCLYamdjY2MLsHkH\n",
       "gflk/wQGPmyO0YAxNhqDgDnCQO6DQBPjwd7zBKcmRCIp6gZHCitmpDCwYXMgxEBOOSBxkIHBkoHv\n",
       "FzdI1AChAJjoORoY2DCTDUMkA9cCHAaCshfQbdz/GHgEloFE76ImbAcGJsxShX0CA+8GHAZOAYXW\n",
       "dwa2DwwcEyag5XlQCjBl2ALOENwfgcR+qNmLlZSUsXh5/gJYOjRg4FVg4NMF+4L7xGtkAzfNPQ7h\n",
       "GIHiVgGaCP///4hp3hl/mQRsWY9vBlLWIx1MJlOOLE1XyDFQEY/c+gAyqi43PJJcOiSbyDUHqAUA\n",
       "QduDMdPRGlAAAAAASUVORK5CYII=\n",
       "\" style=\"display:inline;vertical-align:middle;\" /></a> <a class=\"ProveItLink\" href=\"../../../__pv_it/_proof__success_prob_guarantee/3ef484a0c6dcff0772f3ed31da3d7adecd99d3fb0/proof.ipynb\" style=\"text-decoration: none\">&nbsp;&#x22A2;&nbsp;&nbsp;</a><a class=\"ProveItLink\" href=\"../../../__pv_it/_proof__success_prob_guarantee/c63e43df30a49617f760d4f4be0edca45e8c9f980/expr.ipynb\"><img src=\"data:image/png;base64,iVBORw0KGgoAAAANSUhEUgAAAnoAAAAbCAMAAADcQ9LoAAAANlBMVEX///8MDAwGBgZUVFQiIiKI\n",
       "iIjMzMx2dnYQEBDc3NxEREQyMjLu7u5mZmaqqqq6urqYmJgAAADnqtlnAAAAAXRSTlMAQObYZgAA\n",
       "AAlwSFlzAAAOxAAADsQBlSsOGwAABRVJREFUeNrdW+uaqyoMZW9uIiD4/i+7BbSVVmiC+uE5/OjM\n",
       "dIyulSwgBCRka5Zc0bTCXH3NM2+4ZXcawNvjcD7QA94tH8MJ21czMwrmcL3LGm6pv76B0Fias+do\n",
       "WBylVpzOPjaQk223nnJak/5tosbHSw9C4wLp7TzRJj0YTpD0ugTS6HZrkyFUkmkpfvcv/mzpAWmc\n",
       "l97OEy3Sg+KESK9PIEffbp1slbV6jEj1BLFi5pHSw9I4L723JzDSw+KESK9LINXQbp1s48Ar55Ar\n",
       "zBBXEk6fKD00jQuk9/LE10yqitJD4wRIr08grWy3TrY0umlYbuBgNzEbsUdJD03jAumZwxB7Zk15\n",
       "1EPjBEivTyBn126dbIcIgM4q9AIDSZK0f6D08DTOS+/lif1QwqSpTbhonADpdQmkOCHc1Zay+DkL\n",
       "YjmRkJHajk8c9dA0LpCe/VjkGsn4j1wPjfO39PoEkrM9QcepUZKPnAgpRwe1jSnnvFCw/rCviPit\n",
       "0/OY+PDhXunhaGSLOwyNC6THM1tjmQeucCs4SzCfFkiq9wQlGSkPc3goME4D1DZ2nEqhIHIX2jua\n",
       "Eku3DrV3SQ9HQ5NWGuel53bJnqHH68oBibME82mBHMcdQecIC3+r+Hg/Q21DX6Hl66bYV+IF40pP\n",
       "3Ck9JI19SFE0LpDe5olVAWDpVXAWYT4tkHp70t/Q75aBIkxPUxSzfXE1mr2b+Lb9zlni8mezjz3E\n",
       "m1e3WTThXs9sXhweY2qhQSo03iy+aWwxPUFj88RWsTuacP/icBZhPi2QbMP1J+k6DhEpWoOE2hJP\n",
       "a//mrw/DVzJu98xLWwONd0iPaLxJftHYYnqChpndz2XGHxzOIsynBVLnVcE06zMZ53FFDMx2Ctcr\n",
       "VcsQXOxja71K3TvhYmmQRhoXTLhqFtjiyi+cRZhPC+SH9OIQkbS8hE95kK2I4wovBtj6hNpQsWU4\n",
       "6l7p4WiQRhqX5HoHca6XlH/hLMJ8WiDpfpmxqjgl5qMkEmSrmA2NVahproW3zH2s67CIlYVJD0dj\n",
       "26DC02iU3o6GO96xmrQoSu8nzhLMBwUyuuBVWEoFsfhYbhNirkBFKTbHVjtm45dr2FsBHlYO4sO0\n",
       "JkCS0sARcNKjgYYmjTSA0qvR8ICgDVicBZj9AnnsAndiN8MBt9nXoXr3F4U9cy02BNeFvsiZnaBx\n",
       "wuQc8EtzGtBRr0LDUrT0mmF2DOSxC4YTe7iDA1+ZZdPQrb8xAQ45W5xDGTxO90gvpwGVXoWG9ndI\n",
       "7xhmx0Aeu+D8yRVQNp1XFHYjrRmZmDg13tPIn3seV3h8+WXtK6GSFAAb3Vl6OY1Mem00spMrhh0W\n",
       "3fDSK8DsFMiyC8SJbTgBNco2Cd/Fo3VNsMDSS6I7hYvCjqthqzOG9/wqWTzE7btKL6eRj3pNNDwl\n",
       "N4x6BZh9AllzAZ1OrI9hx3mJyoZppnLEJq5DI//Uq0Yev9ydlRXhQKyyXnWVXk7jU3oNNJi6Q3oF\n",
       "mF0CSWouuO7dDGD7ONKvAsiw2x8QpyUTtW4me8BqhObB9+Z6pCY9PI1z72ZgYXYJJKm6IJawW99I\n",
       "k2iTzxeZMsSps+iP4SJUgZT6D0kPRuP0G2nXSe+2QJK6C+IrmKKNl3dYi12lXrwQjyviiFENhlAf\n",
       "fk4rRyGEhY17DTT0R1oPTHqWZs/RQFJqwbmH2SeQzZG8vxk6LznnoJ2ic+h5knOr4k/PWSrqD7HS\n",
       "SR7d/ic0bvBAyQX/APvAVAPjU4oxAAAAAElFTkSuQmCC\n",
       "\" style=\"display:inline;vertical-align:middle;\" /></a></span><br>"
      ],
      "text/plain": [
       "thm_condition_04: {m in {0 .. 2^{t} - 1}} |- (|m - (2^{t} * phase)|_{mod 2^{t}} - |m - floor(2^{t} * phase)|_{mod 2^{t}}) <= |floor(2^{t} * phase) - (2^{t} * phase)|_{mod 2^{t}}"
      ]
     },
     "execution_count": 73,
     "metadata": {},
     "output_type": "execute_result"
    }
   ],
   "source": [
    "thm_condition_04 = thm_condition_04.with_styles(direction='normal')"
   ]
  },
  {
   "cell_type": "code",
   "execution_count": 74,
   "metadata": {},
   "outputs": [
    {
     "data": {
      "text/html": [
       "<strong id=\"thm_condition_06\">thm_condition_06:</strong> <span style=\"font-size:20px;\"><a class=\"ProveItLink\" href=\"../../../__pv_it/common/89d0188c50f606a85186776fad8a95883dbde6470/expr.ipynb\"><img src=\"data:image/png;base64,iVBORw0KGgoAAAANSUhEUgAAAJ8AAAAYBAMAAAAWgDKzAAAAMFBMVEX///8yMjJmZmYiIiIQEBCq\n",
       "qqqYmJjMzMxERER2dnbc3Nzu7u5UVFSIiIi6uroAAACibcT0AAAAAXRSTlMAQObYZgAAAAlwSFlz\n",
       "AAAOxAAADsQBlSsOGwAAAfBJREFUOMtjYCAPSDFQF3B/oLKBrAKk69n3ALcc12TJAiyiUfjM45Xb\n",
       "gEeWMQCbaE03Hi3xQPM452phcYeSRAEDP4ZtxSCRHjwGTgZiUYbNCzAkVjBw/mN4gh5Jh+Q3QDXh\n",
       "MZDNgIGzAUPiFAODC8MdbvQwvI/dQN5mY0O4gRwHGFh/Yyjx38BwfoEu5waiDOST3YDkQn4FBvav\n",
       "GAYeZmA4X1CUzoDLQL47u+b2ss/sA4su3IDs5f1AA79hCw57LGJwAzk5zjLsz2MIQc9QigwM6ycw\n",
       "sP/FoherINjAK0D8jrmBYf0FhnywKCL9c7lBDPyJRS/zAVwGrgcmzw37H4DSnCLYamdjY2MLsHkH\n",
       "gflk/wQGPmyO0YAxNhqDgDnCQO6DQBPjwd7zBKcmRCIp6gZHCitmpDCwYXMgxEBOOSBxkIHBkoHv\n",
       "FzdI1AChAJjoORoY2DCTDUMkA9cCHAaCshfQbdz/GHgEloFE76ImbAcGJsxShX0CA+8GHAZOAYXW\n",
       "dwa2DwwcEyag5XlQCjBl2ALOENwfgcR+qNmLlZSUsXh5/gJYOjRg4FVg4NMF+4L7xGtkAzfNPQ7h\n",
       "GIHiVgGaCP///4hp3hl/mQRsWY9vBlLWIx1MJlOOLE1XyDFQEY/c+gAyqi43PJJcOiSbyDUHqAUA\n",
       "QduDMdPRGlAAAAAASUVORK5CYII=\n",
       "\" style=\"display:inline;vertical-align:middle;\" /></a> <a class=\"ProveItLink\" href=\"../../../__pv_it/_proof__success_prob_guarantee/91024055707c64e382e4a873120d6cd204cae4080/proof.ipynb\" style=\"text-decoration: none\">&nbsp;&#x22A2;&nbsp;&nbsp;</a><a class=\"ProveItLink\" href=\"../../../__pv_it/_proof__success_prob_guarantee/c661202f46fb94c195e0967cbf0cfebbb76851e20/expr.ipynb\"><img src=\"data:image/png;base64,iVBORw0KGgoAAAANSUhEUgAAAk4AAAAbCAMAAAC9W/CqAAAANlBMVEX///8MDAwGBgZUVFQiIiKI\n",
       "iIjMzMx2dnYQEBDc3NxEREQyMjLu7u5mZmaqqqq6urqYmJgAAADnqtlnAAAAAXRSTlMAQObYZgAA\n",
       "AAlwSFlzAAAOxAAADsQBlSsOGwAABYRJREFUaN7dm9mCnCAQRU3YREDw/382AjaKa1WpmU54mMl0\n",
       "xOKeuqzaTVOKa54oRmOufibmC7f8cRkvtfRv3Dn4+LO9UbcUO6Dgt89DINzSbD6ByGga7+7JcBTO\n",
       "eOCOBgHG4ANhDtI7OpN+1dbeXNfR3dfbCSLjvp0WIMCcCcBhYQyNwQdCCWINnYmtQ2rFjZLXPU18\n",
       "t52AMm7baQECypkEHBTG0BgUCJ8gXaAzmepq50yXYpseUo3br7QTVsZtO80gYJypwCFhDI3BDCEH\n",
       "0S2dyVQ3DXRqiJP6AOIj2DfaCS3jvp0KiO1Mo7ecycAPw2wgoBnMEHIQp+hMprosSW/HG3jYTeyn\n",
       "qV9lJ7SM+3ay+zkL3NkdzmTgFmANQ2MwQ8hBBk9nMtVt043YoKNDLWTCNeEL7YSWcd9OBUQ1lnBl\n",
       "dznTge+F2YWAT2WBkILIgb6O+dRlPP0cZONEoyBjpOu+cXTCynjATm6967KKiyPOdOCug45O6FTO\n",
       "dopBBK/y4AWzWolONFKpzl9Mybxa7w2jXhd2HS3Tp94MXW6haF+1E0rFalNzImOt4gE7ibqqdTyc\n",
       "cAYDP+INhIBJ5WynGISZyk6q6ZiI82A8LesvGsFM1YXExUmaNMGzPPn7qZu9ZCeUiprkmYyNivt2\n",
       "8stVjWX7u6nCmZFber14MtRUuqWWrqu6tW94/ECnG4aLc9FuOYTyk91DnxydLuimBssX7YRTseqY\n",
       "DK7iATt9QHzs0p9yhgI/5A2DgErlbKcYxJSqv2P/GHt0nBv65GZn5mM0PpfSMsPOZmc7lOrJx8EW\n",
       "c4+J9iUmeVe026Z4S5yKiuSZjI2KQpIuQw/VVKx3J7vCGQr8kDcIws5CCwIhBeHlr1/Zfakv5xS0\n",
       "6uJ0bD7wD+zsv0X5YcXUPL+I+Wj5hVWxJHkqY6OikKTLsIO/XoqXFkCBH/KGQNi7MwRCCjIbvl1M\n",
       "z1yluVA3p1PuXLeP12t9Nt/61BOm8xT96mSHU7EgeS5jo+KByU7vzEKbg4Kd0QnZUg2f7LCpXI5O\n",
       "cmOn1Jezmcec6ACyk0wDgDjMmgu5HZbJzzSrX7UTRsVM8kLGRsUjayd9fYy5tRO2pfth9iCgU7lc\n",
       "O+mGVUvxycZ59dqp5nye+NTV3MXCT9pqhJHBcb/a0GDzoB3ITigV80OWKxkbFVQ7abe7s1uueI3c\n",
       "coYDP+J9CYGQykrLfCKRz53SjYTLFwoNOjThQypnLzSE8Ro+pzXAzp1E208LCsVYBAJ4Nt5iVRQ7\n",
       "XctYqYDa6URGgDix5AgO/ID3JQR8Kmc7xSD+xqm4Bz4l/AySi78YLOa0cY4tjj1GcNdD7IQshqgC\n",
       "PDody3AMwxkBfJ/3mxBykPbGM7vWwy+t1oLQZ3Zdxh4XQWkC48C101t2qlWA7XQsA/AwrcqRv8f7\n",
       "TQg5yANvFICWnPX2ePFGge247AWzIbAESwSRdjZi/MfUreM5R8yDNT9rp1pFbSeSjPpRv+X7R0Kb\n",
       "NwrIvN+EkIPIG+87SXCd+mlTYPXyf6RtxlVmHy+Kj9gsn8i189ymeHqzNfyknWoVq9GJIiMwHGcw\n",
       "8APeb0KYgrCevttlPfBCXQ2QXNd5sGkDlmBl73cifbh4I1DGl/20C/on7VSr2NgJL4NrJGco8APe\n",
       "b0KYgjz4rjiwrN4V1xF9fGQb85D3IMz5oVnmQXfQReira6fm1E5oGbffFcfyfhFCCdIr+llcr/B1\n",
       "1t9kqfKQu7VZdet4UKP1P2QnkAzMN1kUHTjxmyw4CIsg+atbknS34NFVFie+suShm/KQ0OvWNizE\n",
       "3/3UVimlg41PBBlmvfQFrSDG4u7JcJbAGQ8cFuYmBIyWV4tlw7g0bY3XbIhdTwnhdPodBM+Hw206\n",
       "W2u+uvwnMu6VP14FT3OuotsyAAAAAElFTkSuQmCC\n",
       "\" style=\"display:inline;vertical-align:middle;\" /></a></span><br>"
      ],
      "text/plain": [
       "thm_condition_06: {m in {0 .. 2^{t} - 1}} |- (|m - (2^{t} * phase)|_{mod 2^{t}} - |m - floor(2^{t} * phase)|_{mod 2^{t}}) <= ((2^{t} * phase) - floor(2^{t} * phase))"
      ]
     },
     "execution_count": 74,
     "metadata": {},
     "output_type": "execute_result"
    }
   ],
   "source": [
    "thm_condition_06 = thm_condition_04.inner_expr().rhs.substitute(\n",
    "        floor_diff_equality_abs_reversal)"
   ]
  },
  {
   "cell_type": "code",
   "execution_count": 75,
   "metadata": {},
   "outputs": [
    {
     "data": {
      "text/html": [
       "<strong id=\"thm_condition_07\">thm_condition_07:</strong> <span style=\"font-size:20px;\"><a class=\"ProveItLink\" href=\"../../../__pv_it/common/89d0188c50f606a85186776fad8a95883dbde6470/expr.ipynb\"><img src=\"data:image/png;base64,iVBORw0KGgoAAAANSUhEUgAAAJ8AAAAYBAMAAAAWgDKzAAAAMFBMVEX///8yMjJmZmYiIiIQEBCq\n",
       "qqqYmJjMzMxERER2dnbc3Nzu7u5UVFSIiIi6uroAAACibcT0AAAAAXRSTlMAQObYZgAAAAlwSFlz\n",
       "AAAOxAAADsQBlSsOGwAAAfBJREFUOMtjYCAPSDFQF3B/oLKBrAKk69n3ALcc12TJAiyiUfjM45Xb\n",
       "gEeWMQCbaE03Hi3xQPM452phcYeSRAEDP4ZtxSCRHjwGTgZiUYbNCzAkVjBw/mN4gh5Jh+Q3QDXh\n",
       "MZDNgIGzAUPiFAODC8MdbvQwvI/dQN5mY0O4gRwHGFh/Yyjx38BwfoEu5waiDOST3YDkQn4FBvav\n",
       "GAYeZmA4X1CUzoDLQL47u+b2ss/sA4su3IDs5f1AA79hCw57LGJwAzk5zjLsz2MIQc9QigwM6ycw\n",
       "sP/FoherINjAK0D8jrmBYf0FhnywKCL9c7lBDPyJRS/zAVwGrgcmzw37H4DSnCLYamdjY2MLsHkH\n",
       "gflk/wQGPmyO0YAxNhqDgDnCQO6DQBPjwd7zBKcmRCIp6gZHCitmpDCwYXMgxEBOOSBxkIHBkoHv\n",
       "FzdI1AChAJjoORoY2DCTDUMkA9cCHAaCshfQbdz/GHgEloFE76ImbAcGJsxShX0CA+8GHAZOAYXW\n",
       "dwa2DwwcEyag5XlQCjBl2ALOENwfgcR+qNmLlZSUsXh5/gJYOjRg4FVg4NMF+4L7xGtkAzfNPQ7h\n",
       "GIHiVgGaCP///4hp3hl/mQRsWY9vBlLWIx1MJlOOLE1XyDFQEY/c+gAyqi43PJJcOiSbyDUHqAUA\n",
       "QduDMdPRGlAAAAAASUVORK5CYII=\n",
       "\" style=\"display:inline;vertical-align:middle;\" /></a> <a class=\"ProveItLink\" href=\"../../../__pv_it/_proof__success_prob_guarantee/9ed4ef559b9148af90e95563aaa3edc9a3e689610/proof.ipynb\" style=\"text-decoration: none\">&nbsp;&#x22A2;&nbsp;&nbsp;</a><a class=\"ProveItLink\" href=\"../../../__pv_it/_proof__success_prob_guarantee/50e3fc9859e95393ede49cb8b6691552314ddf2d0/expr.ipynb\"><img src=\"data:image/png;base64,iVBORw0KGgoAAAANSUhEUgAAAakAAAAbCAMAAADxh4CjAAAANlBMVEX///8MDAwGBgZUVFQiIiKI\n",
       "iIjMzMx2dnYQEBDc3NxEREQyMjLu7u5mZmaqqqq6urqYmJgAAADnqtlnAAAAAXRSTlMAQObYZgAA\n",
       "AAlwSFlzAAAOxAAADsQBlSsOGwAABERJREFUaN7lmtmWpCAMhu1h3wTf/2VHFhXtUhOwTtWc4aK6\n",
       "T7cp+PgTCJFhWJobnmhGYZ5+ps83fOXHMU5a8POH7LBdm51QXPJ5lpavNMc/QDDm5l0fBlrh0bV3\n",
       "N+57G829idJfrxQE4wGlqpkANWvau7M7JCWoEfw+DNl3KwXE6FeqmglQ06G9u2K7MY8QK2q/PKZg\n",
       "GP1KbTMBCkHZ3l2xVc4ZnZxwAvXMyFcqhcV4QKl1Ji4bz4I60d5dtk3LrZjm1MLDvsQuM/FVSqEx\n",
       "HlDK3vuEJc7kpybf3l22JSmllTK5iIUs8CZ8oVJ4jH6l1pm4jrykFO/w72Ir0w8yqcGxQUAWDqe/\n",
       "UCk8xgNKudfp37g70GWlGG1HLLYk/SATH7gLHGQovzGm0BgPKMVe2Qbq7O+YIqZG9IxYJZhmAxdC\n",
       "+5tuSJ000YvTIk/g3kw6j8CXQH6XUjiMoRmjXyn/e6Ni9BjQWSmta0QxaMLiRhdLD+PdCLSuV0J2\n",
       "cxjnJngiysP8rUrhMGqlUBgPKLXMxJo/CMpO9imz5Il/Ytd+oHH2VRpvuKupmCrHpBf55phGkx7I\n",
       "2qqSxvx5XqkGjFopFMaiVAfGMhPLOYGG04yCLuWgn6jo7IbRckz/cmYrRdCtbU5A3dXOaKfFPnlg\n",
       "sFupy5bx/XRIcjKmBoxKKRzGolQHhq2VIicn7kNM5RAekwNmOCnAMRVeueIqJFs/LCue9N7VD4ex\n",
       "KYXEeGD1U/Xqh1IqJwlUpM1ODRam1BifV+pqffdpRCWn4ZN6r1IojFUpLMYj+5SCrn5kl1FkB8wh\n",
       "OdOq63PZYsuT17LT+XAhY1rCh77cTzmYUiiMRSk8RqtSG8Yx97vIKNaEXm7BmPdgLQYBOgwo6mKj\n",
       "F1NhmOHB0WVNDsDzFJNjGb8gJI72vvjcgLFUk9AYUKUuMMIvW8vo0VlECjy/q1H4NE7m8jiYAh0G\n",
       "6JTa1TudMD9DtwlzBOiMZeGO44lTyKgbIUrhMIpSeAxwTJ1jOPKym/pERYicDJnjWXbU/aSHPulC\n",
       "U91Pj2t9McUJfWONAo8BVuoc46TuF15dD+ivpYM05bvUtIpjqykfGbEhkKQ7Cyx7FJt/K84YU+OI\n",
       "aM2Hldph7JRqw7AT4gUV76jBcagR350+A9lvKjOHmZOTMbparP1YuniB3BY7QdNdgPBJpfYY+5hq\n",
       "wggEM04ytqeaBPZydKsD5x1B7ZWyad9Puue50Cz/tXr5mt6mKRfUJ5XaYxyVasCgqDtQz92juEhL\n",
       "61XjcI9CRapYpouIORcibs5WhhpRaeAy8ValFL9SCo+BvEeRD3ytd5ME2uR4N2mHmJ3RHJ0xHkCU\n",
       "+rhSx9zX9WFg7yaVO3u8bbTBYy2qdy98RdQFMUEpOT8S81JVFnilOecOFFUtGOZQB4QthHNzfRjO\n",
       "Dv9Ss2SaN1hpvCJTDFDBmEtuJ+akiZo0CzKddP5vjL+sWzdPhDHjIwAAAABJRU5ErkJggg==\n",
       "\" style=\"display:inline;vertical-align:middle;\" /></a></span><br>"
      ],
      "text/plain": [
       "thm_condition_07: {m in {0 .. 2^{t} - 1}} |- (|m - (2^{t} * phase)|_{mod 2^{t}} - |m - floor(2^{t} * phase)|_{mod 2^{t}}) < 1"
      ]
     },
     "execution_count": 75,
     "metadata": {},
     "output_type": "execute_result"
    }
   ],
   "source": [
    "thm_condition_07 = thm_condition_06.apply_transitivity(thm_condition_05)"
   ]
  },
  {
   "cell_type": "code",
   "execution_count": 76,
   "metadata": {},
   "outputs": [
    {
     "data": {
      "text/html": [
       "<strong id=\"thm_condition_08\">thm_condition_08:</strong> <span style=\"font-size:20px;\"><a class=\"ProveItLink\" href=\"../../../__pv_it/common/89d0188c50f606a85186776fad8a95883dbde6470/expr.ipynb\"><img src=\"data:image/png;base64,iVBORw0KGgoAAAANSUhEUgAAAJ8AAAAYBAMAAAAWgDKzAAAAMFBMVEX///8yMjJmZmYiIiIQEBCq\n",
       "qqqYmJjMzMxERER2dnbc3Nzu7u5UVFSIiIi6uroAAACibcT0AAAAAXRSTlMAQObYZgAAAAlwSFlz\n",
       "AAAOxAAADsQBlSsOGwAAAfBJREFUOMtjYCAPSDFQF3B/oLKBrAKk69n3ALcc12TJAiyiUfjM45Xb\n",
       "gEeWMQCbaE03Hi3xQPM452phcYeSRAEDP4ZtxSCRHjwGTgZiUYbNCzAkVjBw/mN4gh5Jh+Q3QDXh\n",
       "MZDNgIGzAUPiFAODC8MdbvQwvI/dQN5mY0O4gRwHGFh/Yyjx38BwfoEu5waiDOST3YDkQn4FBvav\n",
       "GAYeZmA4X1CUzoDLQL47u+b2ss/sA4su3IDs5f1AA79hCw57LGJwAzk5zjLsz2MIQc9QigwM6ycw\n",
       "sP/FoherINjAK0D8jrmBYf0FhnywKCL9c7lBDPyJRS/zAVwGrgcmzw37H4DSnCLYamdjY2MLsHkH\n",
       "gflk/wQGPmyO0YAxNhqDgDnCQO6DQBPjwd7zBKcmRCIp6gZHCitmpDCwYXMgxEBOOSBxkIHBkoHv\n",
       "FzdI1AChAJjoORoY2DCTDUMkA9cCHAaCshfQbdz/GHgEloFE76ImbAcGJsxShX0CA+8GHAZOAYXW\n",
       "dwa2DwwcEyag5XlQCjBl2ALOENwfgcR+qNmLlZSUsXh5/gJYOjRg4FVg4NMF+4L7xGtkAzfNPQ7h\n",
       "GIHiVgGaCP///4hp3hl/mQRsWY9vBlLWIx1MJlOOLE1XyDFQEY/c+gAyqi43PJJcOiSbyDUHqAUA\n",
       "QduDMdPRGlAAAAAASUVORK5CYII=\n",
       "\" style=\"display:inline;vertical-align:middle;\" /></a> <a class=\"ProveItLink\" href=\"../../../__pv_it/_proof__success_prob_guarantee/61b6a26d7b86b70f4ba0597bee49a0b1adf7aebd0/proof.ipynb\" style=\"text-decoration: none\">&nbsp;&#x22A2;&nbsp;&nbsp;</a><a class=\"ProveItLink\" href=\"../../../__pv_it/_proof__success_prob_guarantee/0fa739d1819dd7eff130cf194124c385ad17fef70/expr.ipynb\"><img src=\"data:image/png;base64,iVBORw0KGgoAAAANSUhEUgAAAakAAAAbCAMAAADxh4CjAAAANlBMVEX///8MDAwGBgZUVFQiIiKI\n",
       "iIjMzMx2dnYQEBDc3NxEREQyMjLu7u5mZmaqqqq6urqYmJgAAADnqtlnAAAAAXRSTlMAQObYZgAA\n",
       "AAlwSFlzAAAOxAAADsQBlSsOGwAABE5JREFUaN7lmtmWpCAMhu1h3wTf/2WHTQW71ADWqZozXFT3\n",
       "6ZaCjz+EJDJNazPTE02JlqefGfMNX/lxjJPmrP/gA323ppcmLv48S89XquMfIBi+WTOG0azwbPqH\n",
       "m+vRZnXfRcivVwqC8YBSxUqAmlb9w+kKSTCsGL3fhuS7lQJijCtVrASoSdc/XO67M8+QXlh/+Z6C\n",
       "YYwrta8EaAvy/uFyX2GMktEIF9DIBH2lUq0YDyi1rcRlo0lQw/qHS32ju2WLDy0s7Ev0uhJfpVQz\n",
       "xgNK6RObmPfgUyOj0lOL7R8u9UXxWzmPJqIhDl65L1SqHWNcqW0l6uMLm0pAEpWiA/ad+/L4Ay1i\n",
       "MmRiEMdh5Bcq1Y7xgFLmd/hH8HHwpBTB/Yi5L4o/0EInahwFdeTfuKeaMR5Qihz6aoZ/x4NJKaRK\n",
       "REuQFoxIMlHGpL0ZBpVBE77IFmkEt2qRyVps3sjvUqoNY+rGGFfKVgeVNviVN0xKSVkiskkiEg66\n",
       "UHqY72YgZekJyU0yTpWziOWH6VuVasMolWrCeECpdSVS7HCSHSSl1Bon/glD2wmH1Rdxvu6upqKK\n",
       "GBNfxJtznE18IGkrchjz53mlOjBKpZowVqUGMNaVyD7qSim8loN+gqreDEPPOf7LqL0Ugfe2GwE2\n",
       "VyejXtb+0QKd3ktdOs/vZ0CSkzl1YBRKtWGsSg1g6FIpn9FdeD9VZ6FzNMAExxl4T7lXprgJSbYP\n",
       "TbIlvdf7tWHsSjViPOD9xEKhEcVBqRQkYBYPOzFpmFJzeF6IK/9u44xynkAX8V6lmjA2pVoxHjmn\n",
       "BDRKR1VEkQwwbUlPK9x17Jf70mi15HQ9jEuYGtFpLPYTBqZUE8aqVDtGr1I7hn1VpHid+W4BPd83\n",
       "YzqDJZsYKBkQ2ISGL5ZCEUWdwatPdsB8ivA5+wSGUJjtffG5A2OtJjVjQJW6wHD8pJpUOkUWN56t\n",
       "ahQ2zpOYNA8iQMkAXmK7eqfj/DN4XzCDgMaYg6Ewn7CEBJsZolQbRlaqHQO8p84xzH2JFiG+KOT3\n",
       "Mx+o+3ELfdK4rrqfnLf6Ytwn+I01inYMsFLnGMo1VJ6Ga+kgTWkVmhb7WEtMZ4K0cyjqThxJJyrx\n",
       "v2VjDKFxQNTqw0pVGJVSfRh6aXhBRQdqcBTaiVbZp0P1oeI5lA9O5mBqofaj8WoFfHd2DMe7AO6T\n",
       "StUY9Z7qwqjSAo1fp3u7H5z7Q00Eezm614HTiSBqpXQ896PuaS0kSX8tXr7Gt2nCOPFJpWqMo1Id\n",
       "GLjpDtRz9yguwtLSRA73KESgCmW6gJhiIWR8tDKViEIC3cRblRL0Sql2jMZ7FCnh672bxJq7HO8m\n",
       "VYjJGNXRGEMCIsTHlTrGvmYMo/VuUr6zR/tm62xrjyKroxuizIgRSnD/SIhLRXbwQlJKDWhX9WCo\n",
       "s4Ph0hH6ZsYwjJ7+pabR4g9YrqxAS9igjBATzY75oAmnDJDHTOf/xvgLHu03l1KpVS8AAAAASUVO\n",
       "RK5CYII=\n",
       "\" style=\"display:inline;vertical-align:middle;\" /></a></span><br>"
      ],
      "text/plain": [
       "thm_condition_08: {m in {0 .. 2^{t} - 1}} |- (|m - (2^{t} * phase)|_{mod 2^{t}} - |m - floor(2^{t} * phase)|_{mod 2^{t}}) <= 1"
      ]
     },
     "execution_count": 76,
     "metadata": {},
     "output_type": "execute_result"
    }
   ],
   "source": [
    "thm_condition_08 = thm_condition_07.derive_relaxed()"
   ]
  },
  {
   "cell_type": "code",
   "execution_count": 77,
   "metadata": {},
   "outputs": [
    {
     "data": {
      "text/html": [
       "<strong id=\"thm_condition_09\">thm_condition_09:</strong> <span style=\"font-size:20px;\"><a class=\"ProveItLink\" href=\"../../../__pv_it/common/89d0188c50f606a85186776fad8a95883dbde6470/expr.ipynb\"><img src=\"data:image/png;base64,iVBORw0KGgoAAAANSUhEUgAAAJ8AAAAYBAMAAAAWgDKzAAAAMFBMVEX///8yMjJmZmYiIiIQEBCq\n",
       "qqqYmJjMzMxERER2dnbc3Nzu7u5UVFSIiIi6uroAAACibcT0AAAAAXRSTlMAQObYZgAAAAlwSFlz\n",
       "AAAOxAAADsQBlSsOGwAAAfBJREFUOMtjYCAPSDFQF3B/oLKBrAKk69n3ALcc12TJAiyiUfjM45Xb\n",
       "gEeWMQCbaE03Hi3xQPM452phcYeSRAEDP4ZtxSCRHjwGTgZiUYbNCzAkVjBw/mN4gh5Jh+Q3QDXh\n",
       "MZDNgIGzAUPiFAODC8MdbvQwvI/dQN5mY0O4gRwHGFh/Yyjx38BwfoEu5waiDOST3YDkQn4FBvav\n",
       "GAYeZmA4X1CUzoDLQL47u+b2ss/sA4su3IDs5f1AA79hCw57LGJwAzk5zjLsz2MIQc9QigwM6ycw\n",
       "sP/FoherINjAK0D8jrmBYf0FhnywKCL9c7lBDPyJRS/zAVwGrgcmzw37H4DSnCLYamdjY2MLsHkH\n",
       "gflk/wQGPmyO0YAxNhqDgDnCQO6DQBPjwd7zBKcmRCIp6gZHCitmpDCwYXMgxEBOOSBxkIHBkoHv\n",
       "FzdI1AChAJjoORoY2DCTDUMkA9cCHAaCshfQbdz/GHgEloFE76ImbAcGJsxShX0CA+8GHAZOAYXW\n",
       "dwa2DwwcEyag5XlQCjBl2ALOENwfgcR+qNmLlZSUsXh5/gJYOjRg4FVg4NMF+4L7xGtkAzfNPQ7h\n",
       "GIHiVgGaCP///4hp3hl/mQRsWY9vBlLWIx1MJlOOLE1XyDFQEY/c+gAyqi43PJJcOiSbyDUHqAUA\n",
       "QduDMdPRGlAAAAAASUVORK5CYII=\n",
       "\" style=\"display:inline;vertical-align:middle;\" /></a> <a class=\"ProveItLink\" href=\"../../../__pv_it/_proof__success_prob_guarantee/6b21a804a7c96b2ad3ec2fb51fc834ad339346980/proof.ipynb\" style=\"text-decoration: none\">&nbsp;&#x22A2;&nbsp;&nbsp;</a><a class=\"ProveItLink\" href=\"../../../__pv_it/_proof__success_prob_guarantee/aa582cbb6a0502368d8900b191498b3196b65e650/expr.ipynb\"><img src=\"data:image/png;base64,iVBORw0KGgoAAAANSUhEUgAAAagAAAAbCAMAAAAeReudAAAANlBMVEX///8yMjIiIiKqqqqYmJhE\n",
       "RER2dnbc3Nzu7u5UVFSIiIi6uroMDAwGBgbMzMwQEBBmZmYAAABXd5ydAAAAAXRSTlMAQObYZgAA\n",
       "AAlwSFlzAAAOxAAADsQBlSsOGwAABGJJREFUaN7Vmu2CoyAMRQGRzxnA93/ZlUBVtEVA6O76YzrT\n",
       "kSYnN4SARQ71uDCvubuPzcGf/i8h+cs2jaI6+VMsVSh2FAy41fLp+PJOCRJC2o1G2gLXZGE6JdCE\n",
       "78fwebhQwa0+QpUgfUeoGLgWCyKF4IxgZu7TXQ0WKrrVQ6hCpK8IFQPXYmGmZ86pZBgRY6miW31m\n",
       "VBnSV4QKgWuwwOMY7hyeIe0WUTJOyaFUL7eeCFWLNFQo88psCFyDBcf22smWdf3WZR8iXvC9qKak\n",
       "M4tuPRGqGmmcUEI6/IoXBK7BwhJaPglRshYUF6YkHLQnFSVOvHHriVDVSB2F0vRSgbZZ7QNXb8HE\n",
       "8RZe5cKRU4iVVAo39xNKkZNJ82S+RqGqkToKNanPQvnA2YYQxfSDV7kYZBw1RSNtJyrBiPrk1qMZ\n",
       "VYv0JaF84MCCVlJwpmaFDGOzzn+iTFokktkYGmDVeJmDRf2aiw9lcoRm3KonOnV9GaQL0XeE8oED\n",
       "CwzNUvlFy2/tpxuj85wUHHWzpzaYasnizeY5lZDvO+fNrXqiVKgc0pnoS0L5wP16cxoRj8nBRXpz\n",
       "eILlMftkxjTIAjeEIPK43v8+Ivog1OZWPVEqVAbpQrQJ9TtUKB+4H5+ka+b5EE7wH4f3rT7Zr61k\n",
       "E3dtD449+DYcko6K/bxKRKF+Hm6Y3pa+za16okSoHNKFSB+NNh/mgTfWwot8J5SHCXN2gpwLQJYV\n",
       "zygqMwFDavshVEwM06dOvGsmcLqdriE6CpVFuhB9qfT5wNnDSkwYLFwciTKhJn8/57mCrkGauOEx\n",
       "Cx/Xnp+EqiE6CJVHuhB9bY3i0QLkXKgWKyGn2TXiVRsMJKr6GANHA5qQBj3q+rgr2PDKpJmoItqF\n",
       "ukG6ErUKdUUq6vpCTQpr7swQK9oNceL8RTL4WGFDHXl1x7RsH6XsFAsck9L7StWnIyRzdauBaD9C\n",
       "ukM6E5UKVYB0FYot/BC4sOsA15QLtlX+2eZrXpAFLpw95VkWsgfJybL0i22dg4XWVzlXcJStk5OJ\n",
       "KqJNqHukE1HxjLpHOgslpV2wpFvgGoqr1cW3Otpy1jdP2+EdzAxS5VafxxxlRMVC3SNNKn9I2n56\n",
       "XhQ8k7S5h5wXMzGTkoJSCQFWVEF3oNZfYvr5PthTCVzl1lihEqJUqGdI+vMy2np6borHmGSnSWW6\n",
       "iqy+47UDmHx2+VMeQWK07V4WGIEn7AcIQd5vhTa3hgqVEp1mVCvS3UUbn0chORXeqJIZTnhKJWCd\n",
       "hwAH/lnBm4enq/DsjDvKK9waKlRKdBGqN9IhcB2+M5FpQo8Zf/rOBPcg/jzOU4V+UDq9oCMVn0W9\n",
       "W0OF4iYrVG+kQ+DavoXE6secv4WUUIX0w6f085sNzmvdGrtGoVKh+iDtgTNNDlJdPeSwOzUb1Ryp\n",
       "AIRbgXw/ymNB57Mxxolat1qI8HnBK6qC6+VGIyWB+xuXkMu6oFqsuVz8RGBKOQ6vVJGwkbWwqUH/\n",
       "zTUU6Q8QzzSBVHvcAgAAAABJRU5ErkJggg==\n",
       "\" style=\"display:inline;vertical-align:middle;\" /></a></span><br>"
      ],
      "text/plain": [
       "thm_condition_09: {m in {0 .. 2^{t} - 1}} |- |m - (2^{t} * phase)|_{mod 2^{t}} <= (|m - floor(2^{t} * phase)|_{mod 2^{t}} + 1)"
      ]
     },
     "execution_count": 77,
     "metadata": {},
     "output_type": "execute_result"
    }
   ],
   "source": [
    "thm_condition_09 = thm_condition_08.left_add_both_sides(\n",
    "        thm_condition_08.lhs.operands[1].operand)"
   ]
  },
  {
   "cell_type": "code",
   "execution_count": 78,
   "metadata": {},
   "outputs": [
    {
     "data": {
      "text/html": [
       "<span style=\"font-size:20px;\"><a class=\"ProveItLink\" href=\"../../../__pv_it/_proof__success_prob_guarantee/acd32fcced5d827e7e8acea60ad61aa8dc676ec60/expr.ipynb\"><img src=\"data:image/png;base64,iVBORw0KGgoAAAANSUhEUgAAAOkAAAAaBAMAAACgH2ZnAAAAMFBMVEX///8yMjJmZmYiIiIQEBCq\n",
       "qqqYmJhERETu7u5UVFTMzMyIiIi6urp2dnbc3NwAAABLrkmVAAAAAXRSTlMAQObYZgAAAAlwSFlz\n",
       "AAAOxAAADsQBlSsOGwAAAwBJREFUSMe9ll1IFFEUx//O7K4zzjpJoRU9pAZmD8KqD5EQGGEERa31\n",
       "GNFSEdQGLUFUijFBINaDqw+hGLRgvQTiYtGHUg31FEEuBRa54SK9mhIYw2ZuZ2Z2V3d2d+YK1oWZ\n",
       "e5l75vzmnHPPOQOs9yhJ4D8Oj2rOvQ5y3LpSj6Xndgc5OUQ3W3+swVlChTnPNX5NPzl9YaK6kGSQ\n",
       "rridqjg7tTSQXlRmPuPiARwpJMkrxRV3718b9TtdszUdgJbx5J2K7Do7hokohW0Ub2SktpthaDAi\n",
       "NqN6W1F2lcYNiFFa50ahfztRBc1G8SIb9Uy9OS8BYgKuVil8O73jinDVEYv0a6Kiqrhir8ZEffzF\n",
       "nMtI3KVBXOai6SeYB/+wIHVnccXlPgaq8CmaXkkkLvogJsvqMqR3kKZQiPpEV/x+YO5ZdOSzaikx\n",
       "Qy/8TlRhR+bgQjQTh1+wf8OgTiqkOHY9KvxS3ZbI924Rlh2oQp9/JXFCxjQaZaCORhD3qrsh/4bH\n",
       "8pWnFBxysnUVtSRsTHvAQJ1XEReEJbg1cLqLhE3N+tAjUwP8caLKKx7mjTLEhQpI3TR0tqxQe4kK\n",
       "94KOdMVyZffCu1iUOpt3mkxbz4PJVvKwfhD4GCYTiiVdOc1KldoI9G1QMUppbuYYVHcMP1jimiDF\n",
       "ZCXZ3CcHcvaTuBXIs7VSb1ScT2ryW6uEqPt2BHjOeobJ4EtAV3nu/l1czs/XK8AGVU7Ct7oiGvkp\n",
       "UQrITbW1PnvqjF4+z+qK3wJjwJtXufs9HwP6ZnfLiYFz94CnLxVMBMlWjyInM13NUsr4VCpVYQsd\n",
       "PLqVtO5y7HTyIjbjOEpVwcfF0GZWLXd1IE/0MHt7qnKmaujCA4wCnfOK2TuHFbkuv903sPd/zZm6\n",
       "gCGiUij6J82OLV/Lvt6czW6QDPMPVpiVSrZuS9s6Wzg7RD8rlSdHjdsJjOvUTqKW+OWDYkCmuMod\n",
       "j+rt/pucR9BZpOenZ9+H+zFMjyUwHWyMwJVKFe4rJxmhcuhf/A87DY4KxV+Lne/MXHmDNwAAAABJ\n",
       "RU5ErkJggg==\n",
       "\" style=\"display:inline;vertical-align:middle;\" /></a> <a class=\"ProveItLink\" href=\"../../../__pv_it/_proof__success_prob_guarantee/67500f0b65154e12a3d8b83f95b9c0cf70cd44470/proof.ipynb\" style=\"text-decoration: none\">&nbsp;&#x22A2;&nbsp;&nbsp;</a><a class=\"ProveItLink\" href=\"../../../__pv_it/_proof__success_prob_guarantee/148ccddd1922dce12bdbbf26548fe752487f00e00/expr.ipynb\"><img src=\"data:image/png;base64,iVBORw0KGgoAAAANSUhEUgAAASMAAAAbCAMAAAAAoBlrAAAANlBMVEX///8yMjIiIiKqqqqYmJhE\n",
       "RER2dnbc3Nzu7u5UVFSIiIi6uroMDAwGBgbMzMwQEBBmZmYAAABXd5ydAAAAAXRSTlMAQObYZgAA\n",
       "AAlwSFlzAAAOxAAADsQBlSsOGwAAA2RJREFUWMPNmdlywyAMRQGzCGhB/P/PFuQlaepFtmkbPWQy\n",
       "DrWvDxdJUIGiR0h3ZnSfZ3aXtRn5yqNfL0Bh/V3E68/khY4XZB1OZhdGg3wPRgNekbUdzvRi5KyS\n",
       "Nr0BI5BHsjTqFAJ/revQzUdyeAsfGX0gC3TMdUzmpykF9xg5RGloogq8AyOXj2Q5CJIlN6lpSPC3\n",
       "GNFitaVmyci8SXdGw7fChXZNVjJztLE+HMsFj3LGCO3LdUae9OVMsOEf8pFW+M0QJR7LyvUCojhS\n",
       "GxarSX2HUab7+OIEBmHhrxkF9fLMNL7XrizXugGVBj4jNLd8pOizJJFqtfjbtQZWhZ/QjmXFll6C\n",
       "1YLNKORJbwwenA0miGStiWfqmtrp0xJJjLIY6MoIUK28pefK4ph0YRTrN9JrhWnJDErrU4d8glEq\n",
       "4aBNTVJHbzsyAr/eahjDlHWKUaqG/Gzao1CGVmu7sy4nGCm/U3XIRjTAfGP0ec9GG4yk58k6x8jV\n",
       "SvDRZqY6qC2wgX5B+ehb1SPSGiM0P6e5zD+TeTQ8Nj4zo4+7jdDqWlO4J2uzNV99xQejRmb0/UDe\n",
       "Gelky/aRXpuuRWtYPiD8Qc5++Ej7u/d/9lGa9I75TllKUk4Aj9HQxju3l44izQ1CZ0ZrtX9hdCDr\n",
       "bD5yk17yzrjgKi6nWYwSGS5sAkU9cgKfbtZ+h4we0huerIt1rRlqTtbGCstaa05hC7UzTgaZNKp4\n",
       "sj8KeZhWlPUelu332l4kPf8VUxYjbJltqJf+iO44nhlEDI7FSBUKubtbKEXZ8z3kVLja8PayQSHj\n",
       "YCGOc8+QdVg4fS7Sj4sJfaezEbG33C702WZYNmBkcZ4pchT9495+jSU7bTECU7dNtb3X2tOrBR3G\n",
       "HBzqt8lHrW9ojID3QLT9Ed3c9zMile39misVhKx5dmguaRsgUPOL5sfSsoqOYJ/8CGq9axPpF86l\n",
       "9L3zI1Z93mMEVCDo1UaYdb9IV58OEOmwy6FmVXI/dGek3G8zcmmP0XTk1RhpuuSxJl7xzMiZMyUc\n",
       "ZHcb9TvPZsY2o9FH8tVHrS860wwOnTPS9H+RdIXRayZgLbsaE6O0MDITI6LicuXTSq6b8pEzKSU8\n",
       "4yTdt7QhiP8M8KVm4iyj86XNvg0ByTG21jU19oaZOh3x3/EFdhYiYtrfNckAAAAASUVORK5CYII=\n",
       "\" style=\"display:inline;vertical-align:middle;\" /></a></span>"
      ],
      "text/plain": [
       "{|m - b|_{mod 2^{t}} <= (2^{t - n} - 1)} |- |m - floor(2^{t} * phase)|_{mod 2^{t}} <= (2^{t - n} - 1)"
      ]
     },
     "execution_count": 78,
     "metadata": {},
     "output_type": "execute_result"
    }
   ],
   "source": [
    "# recall from earlier\n",
    "thm_condition_02"
   ]
  },
  {
   "cell_type": "code",
   "execution_count": 79,
   "metadata": {},
   "outputs": [
    {
     "data": {
      "text/html": [
       "<strong id=\"thm_condition_10\">thm_condition_10:</strong> <span style=\"font-size:20px;\"><a class=\"ProveItLink\" href=\"../../../__pv_it/common/89d0188c50f606a85186776fad8a95883dbde6470/expr.ipynb\"><img src=\"data:image/png;base64,iVBORw0KGgoAAAANSUhEUgAAAJ8AAAAYBAMAAAAWgDKzAAAAMFBMVEX///8yMjJmZmYiIiIQEBCq\n",
       "qqqYmJjMzMxERER2dnbc3Nzu7u5UVFSIiIi6uroAAACibcT0AAAAAXRSTlMAQObYZgAAAAlwSFlz\n",
       "AAAOxAAADsQBlSsOGwAAAfBJREFUOMtjYCAPSDFQF3B/oLKBrAKk69n3ALcc12TJAiyiUfjM45Xb\n",
       "gEeWMQCbaE03Hi3xQPM452phcYeSRAEDP4ZtxSCRHjwGTgZiUYbNCzAkVjBw/mN4gh5Jh+Q3QDXh\n",
       "MZDNgIGzAUPiFAODC8MdbvQwvI/dQN5mY0O4gRwHGFh/Yyjx38BwfoEu5waiDOST3YDkQn4FBvav\n",
       "GAYeZmA4X1CUzoDLQL47u+b2ss/sA4su3IDs5f1AA79hCw57LGJwAzk5zjLsz2MIQc9QigwM6ycw\n",
       "sP/FoherINjAK0D8jrmBYf0FhnywKCL9c7lBDPyJRS/zAVwGrgcmzw37H4DSnCLYamdjY2MLsHkH\n",
       "gflk/wQGPmyO0YAxNhqDgDnCQO6DQBPjwd7zBKcmRCIp6gZHCitmpDCwYXMgxEBOOSBxkIHBkoHv\n",
       "FzdI1AChAJjoORoY2DCTDUMkA9cCHAaCshfQbdz/GHgEloFE76ImbAcGJsxShX0CA+8GHAZOAYXW\n",
       "dwa2DwwcEyag5XlQCjBl2ALOENwfgcR+qNmLlZSUsXh5/gJYOjRg4FVg4NMF+4L7xGtkAzfNPQ7h\n",
       "GIHiVgGaCP///4hp3hl/mQRsWY9vBlLWIx1MJlOOLE1XyDFQEY/c+gAyqi43PJJcOiSbyDUHqAUA\n",
       "QduDMdPRGlAAAAAASUVORK5CYII=\n",
       "\" style=\"display:inline;vertical-align:middle;\" /></a>, <a class=\"ProveItLink\" href=\"../../../__pv_it/_proof__success_prob_guarantee/acd32fcced5d827e7e8acea60ad61aa8dc676ec60/expr.ipynb\"><img src=\"data:image/png;base64,iVBORw0KGgoAAAANSUhEUgAAAOkAAAAaBAMAAACgH2ZnAAAAMFBMVEX///8yMjJmZmYiIiIQEBCq\n",
       "qqqYmJhERETu7u5UVFTMzMyIiIi6urp2dnbc3NwAAABLrkmVAAAAAXRSTlMAQObYZgAAAAlwSFlz\n",
       "AAAOxAAADsQBlSsOGwAAAwBJREFUSMe9ll1IFFEUx//O7K4zzjpJoRU9pAZmD8KqD5EQGGEERa31\n",
       "GNFSEdQGLUFUijFBINaDqw+hGLRgvQTiYtGHUg31FEEuBRa54SK9mhIYw2ZuZ2Z2V3d2d+YK1oWZ\n",
       "e5l75vzmnHPPOQOs9yhJ4D8Oj2rOvQ5y3LpSj6Xndgc5OUQ3W3+swVlChTnPNX5NPzl9YaK6kGSQ\n",
       "rridqjg7tTSQXlRmPuPiARwpJMkrxRV3718b9TtdszUdgJbx5J2K7Do7hokohW0Ub2SktpthaDAi\n",
       "NqN6W1F2lcYNiFFa50ahfztRBc1G8SIb9Uy9OS8BYgKuVil8O73jinDVEYv0a6Kiqrhir8ZEffzF\n",
       "nMtI3KVBXOai6SeYB/+wIHVnccXlPgaq8CmaXkkkLvogJsvqMqR3kKZQiPpEV/x+YO5ZdOSzaikx\n",
       "Qy/8TlRhR+bgQjQTh1+wf8OgTiqkOHY9KvxS3ZbI924Rlh2oQp9/JXFCxjQaZaCORhD3qrsh/4bH\n",
       "8pWnFBxysnUVtSRsTHvAQJ1XEReEJbg1cLqLhE3N+tAjUwP8caLKKx7mjTLEhQpI3TR0tqxQe4kK\n",
       "94KOdMVyZffCu1iUOpt3mkxbz4PJVvKwfhD4GCYTiiVdOc1KldoI9G1QMUppbuYYVHcMP1jimiDF\n",
       "ZCXZ3CcHcvaTuBXIs7VSb1ScT2ryW6uEqPt2BHjOeobJ4EtAV3nu/l1czs/XK8AGVU7Ct7oiGvkp\n",
       "UQrITbW1PnvqjF4+z+qK3wJjwJtXufs9HwP6ZnfLiYFz94CnLxVMBMlWjyInM13NUsr4VCpVYQsd\n",
       "PLqVtO5y7HTyIjbjOEpVwcfF0GZWLXd1IE/0MHt7qnKmaujCA4wCnfOK2TuHFbkuv903sPd/zZm6\n",
       "gCGiUij6J82OLV/Lvt6czW6QDPMPVpiVSrZuS9s6Wzg7RD8rlSdHjdsJjOvUTqKW+OWDYkCmuMod\n",
       "j+rt/pucR9BZpOenZ9+H+zFMjyUwHWyMwJVKFe4rJxmhcuhf/A87DY4KxV+Lne/MXHmDNwAAAABJ\n",
       "RU5ErkJggg==\n",
       "\" style=\"display:inline;vertical-align:middle;\" /></a> <a class=\"ProveItLink\" href=\"../../../__pv_it/_proof__success_prob_guarantee/bbcdc3dee330791c2b5a6883064076cf33471e8e0/proof.ipynb\" style=\"text-decoration: none\">&nbsp;&#x22A2;&nbsp;&nbsp;</a><a class=\"ProveItLink\" href=\"../../../__pv_it/_proof__success_prob_guarantee/77f34a732dcc588bc528e208b4807f1bc92ef8fc0/expr.ipynb\"><img src=\"data:image/png;base64,iVBORw0KGgoAAAANSUhEUgAAASQAAAAbCAMAAADifAISAAAANlBMVEX///8MDAwGBgZUVFQiIiKI\n",
       "iIjMzMx2dnYQEBDc3NxEREQyMjLu7u5mZmaqqqq6urqYmJgAAADnqtlnAAAAAXRSTlMAQObYZgAA\n",
       "AAlwSFlzAAAOxAAADsQBlSsOGwAAA4RJREFUWMPdmet2qyAQhWlhuA4C7/+yBwZjolGRxNisw4+k\n",
       "yyLZ+ZzLhjA2Dc/OGM70zD7nM9kVymMor/qFdZ+uYDp0Yxjp6M99517+DeWDZ6dBGty3QDK2b/6+\n",
       "cnTsLEhGCafkd0BiEXqQriiPPkqAqtRGdl4kueFbIokxgV3fZakcY9AZjS6lytyEvgHJeO8sPYeE\n",
       "fw5J3uAAPxBB28oNgrtd9+ptSJT+KuXyHw4u8jFIyL27fV3ceGLDvY8tlUt7G2UKh9v1FN6GxOlD\n",
       "taaHh9fWpBCXV2Bi4+JaqRL+zm5fuc4XvGeSyWnJ1yFpWoMnwzwwhZdCGmAbkn9ucCBm+naVm2IK\n",
       "hBxkvou9H0m0Bk8ZeW4I7GsgwWJ5VGIxe1d5KDUNVA5H7maQAnA0CiwwqZQNPd1N7LgxSQKCSxYv\n",
       "hBRmRQm9iBttsOWArZ1BUsyWcoWpuPBBd0CSCRr2V7oYuLoQkkzyoaJvupNd5fV7Tn3yt4gPTFhK\n",
       "x3JfTB2QxE7DHUgsTbAzSL8fhWTSQypsQxJNqyCmPc5P4Z1jqCw8VHfgJlMu7kOuQnoukpimf1P4\n",
       "RLxvqW6Qft7ZnJEaremNr0HCR0jZEq2nm2/vX+6RVEN/oOipeLQ6HEmR7/GH6QXhwnQzSTYK94by\n",
       "FqRayIWiumcYHoM0lPnG7JWkQII9XlqTTMMCNJWPqTov3DV6apxmXiYegiQp5GCTqI8VFHL5ngUw\n",
       "/vXutmYmm8qXXkLfI7RWbKuYOrYtEb4MsTPRgZPRi9Dnk0APY54oznF1Z/8MSU3xE/XGtmTKwrby\n",
       "Be3qk2h+PR8IHswhSCLR2DuQiXmOUN1mcuxInup0SRY/NCBxrpPjNQF8u221lVed7+/dDvWi+Irj\n",
       "tpVJyX6KcXGgJj3Ii6cdc6pLIGm5BQlt3h9lox8jp+cFEai4Qv5jjKTiHgokdAc2uA8eBM+CJPUV\n",
       "kGTa3ruZlFG43ECGEihlL4RifHj6nl1K0EFzR3DMmjuKdat3cPDhAkgg9iAhdQl6XpWmBbr4cFxI\n",
       "R2nGx44fY4Rhp40Tz7h3erfcgzQecBVItSNxH9LsTNXY7tTpOuNu+zF1QU1iByHVSHKLSCr+yPQF\n",
       "Ru+vJU3mVDDlC5BeSXAoN42Q5ATJjpCIi9HIShs3Y00yVkrp+2LJI/uPBvKU67F2wfBUYloBeEPv\n",
       "EUT1fZrczJ8p/AdvACZ66QRkzAAAAABJRU5ErkJggg==\n",
       "\" style=\"display:inline;vertical-align:middle;\" /></a></span><br>"
      ],
      "text/plain": [
       "thm_condition_10: {m in {0 .. 2^{t} - 1}, |m - b|_{mod 2^{t}} <= (2^{t - n} - 1)} |- (|m - floor(2^{t} * phase)|_{mod 2^{t}} + 1) <= 2^{t - n}"
      ]
     },
     "execution_count": 79,
     "metadata": {},
     "output_type": "execute_result"
    }
   ],
   "source": [
    "thm_condition_10 = thm_condition_02.right_add_both_sides(\n",
    "        one, assumptions=defaults.assumptions+(m_membership,))"
   ]
  },
  {
   "cell_type": "code",
   "execution_count": 80,
   "metadata": {},
   "outputs": [
    {
     "data": {
      "text/html": [
       "<a class=\"ProveItLink\" href=\"../../../__pv_it/_proof__success_prob_guarantee/acd32fcced5d827e7e8acea60ad61aa8dc676ec60/expr.ipynb\"><img src=\"data:image/png;base64,iVBORw0KGgoAAAANSUhEUgAAAOkAAAAaBAMAAACgH2ZnAAAAMFBMVEX///8yMjJmZmYiIiIQEBCq\n",
       "qqqYmJhERETu7u5UVFTMzMyIiIi6urp2dnbc3NwAAABLrkmVAAAAAXRSTlMAQObYZgAAAAlwSFlz\n",
       "AAAOxAAADsQBlSsOGwAAAwBJREFUSMe9ll1IFFEUx//O7K4zzjpJoRU9pAZmD8KqD5EQGGEERa31\n",
       "GNFSEdQGLUFUijFBINaDqw+hGLRgvQTiYtGHUg31FEEuBRa54SK9mhIYw2ZuZ2Z2V3d2d+YK1oWZ\n",
       "e5l75vzmnHPPOQOs9yhJ4D8Oj2rOvQ5y3LpSj6Xndgc5OUQ3W3+swVlChTnPNX5NPzl9YaK6kGSQ\n",
       "rridqjg7tTSQXlRmPuPiARwpJMkrxRV3718b9TtdszUdgJbx5J2K7Do7hokohW0Ub2SktpthaDAi\n",
       "NqN6W1F2lcYNiFFa50ahfztRBc1G8SIb9Uy9OS8BYgKuVil8O73jinDVEYv0a6Kiqrhir8ZEffzF\n",
       "nMtI3KVBXOai6SeYB/+wIHVnccXlPgaq8CmaXkkkLvogJsvqMqR3kKZQiPpEV/x+YO5ZdOSzaikx\n",
       "Qy/8TlRhR+bgQjQTh1+wf8OgTiqkOHY9KvxS3ZbI924Rlh2oQp9/JXFCxjQaZaCORhD3qrsh/4bH\n",
       "8pWnFBxysnUVtSRsTHvAQJ1XEReEJbg1cLqLhE3N+tAjUwP8caLKKx7mjTLEhQpI3TR0tqxQe4kK\n",
       "94KOdMVyZffCu1iUOpt3mkxbz4PJVvKwfhD4GCYTiiVdOc1KldoI9G1QMUppbuYYVHcMP1jimiDF\n",
       "ZCXZ3CcHcvaTuBXIs7VSb1ScT2ryW6uEqPt2BHjOeobJ4EtAV3nu/l1czs/XK8AGVU7Ct7oiGvkp\n",
       "UQrITbW1PnvqjF4+z+qK3wJjwJtXufs9HwP6ZnfLiYFz94CnLxVMBMlWjyInM13NUsr4VCpVYQsd\n",
       "PLqVtO5y7HTyIjbjOEpVwcfF0GZWLXd1IE/0MHt7qnKmaujCA4wCnfOK2TuHFbkuv903sPd/zZm6\n",
       "gCGiUij6J82OLV/Lvt6czW6QDPMPVpiVSrZuS9s6Wzg7RD8rlSdHjdsJjOvUTqKW+OWDYkCmuMod\n",
       "j+rt/pucR9BZpOenZ9+H+zFMjyUwHWyMwJVKFe4rJxmhcuhf/A87DY4KxV+Lne/MXHmDNwAAAABJ\n",
       "RU5ErkJggg==\n",
       "\" style=\"display:inline;vertical-align:middle;\" /></a>"
      ],
      "text/plain": [
       "|m - b|_{mod 2^{t}} <= (2^{t - n} - 1)"
      ]
     },
     "execution_count": 80,
     "metadata": {},
     "output_type": "execute_result"
    }
   ],
   "source": [
    "thm_condition_01"
   ]
  },
  {
   "cell_type": "code",
   "execution_count": 81,
   "metadata": {},
   "outputs": [
    {
     "data": {
      "text/html": [
       "<strong id=\"thm_condition_11\">thm_condition_11:</strong> <span style=\"font-size:20px;\"><a class=\"ProveItLink\" href=\"../../../__pv_it/common/89d0188c50f606a85186776fad8a95883dbde6470/expr.ipynb\"><img src=\"data:image/png;base64,iVBORw0KGgoAAAANSUhEUgAAAJ8AAAAYBAMAAAAWgDKzAAAAMFBMVEX///8yMjJmZmYiIiIQEBCq\n",
       "qqqYmJjMzMxERER2dnbc3Nzu7u5UVFSIiIi6uroAAACibcT0AAAAAXRSTlMAQObYZgAAAAlwSFlz\n",
       "AAAOxAAADsQBlSsOGwAAAfBJREFUOMtjYCAPSDFQF3B/oLKBrAKk69n3ALcc12TJAiyiUfjM45Xb\n",
       "gEeWMQCbaE03Hi3xQPM452phcYeSRAEDP4ZtxSCRHjwGTgZiUYbNCzAkVjBw/mN4gh5Jh+Q3QDXh\n",
       "MZDNgIGzAUPiFAODC8MdbvQwvI/dQN5mY0O4gRwHGFh/Yyjx38BwfoEu5waiDOST3YDkQn4FBvav\n",
       "GAYeZmA4X1CUzoDLQL47u+b2ss/sA4su3IDs5f1AA79hCw57LGJwAzk5zjLsz2MIQc9QigwM6ycw\n",
       "sP/FoherINjAK0D8jrmBYf0FhnywKCL9c7lBDPyJRS/zAVwGrgcmzw37H4DSnCLYamdjY2MLsHkH\n",
       "gflk/wQGPmyO0YAxNhqDgDnCQO6DQBPjwd7zBKcmRCIp6gZHCitmpDCwYXMgxEBOOSBxkIHBkoHv\n",
       "FzdI1AChAJjoORoY2DCTDUMkA9cCHAaCshfQbdz/GHgEloFE76ImbAcGJsxShX0CA+8GHAZOAYXW\n",
       "dwa2DwwcEyag5XlQCjBl2ALOENwfgcR+qNmLlZSUsXh5/gJYOjRg4FVg4NMF+4L7xGtkAzfNPQ7h\n",
       "GIHiVgGaCP///4hp3hl/mQRsWY9vBlLWIx1MJlOOLE1XyDFQEY/c+gAyqi43PJJcOiSbyDUHqAUA\n",
       "QduDMdPRGlAAAAAASUVORK5CYII=\n",
       "\" style=\"display:inline;vertical-align:middle;\" /></a>, <a class=\"ProveItLink\" href=\"../../../__pv_it/_proof__success_prob_guarantee/acd32fcced5d827e7e8acea60ad61aa8dc676ec60/expr.ipynb\"><img src=\"data:image/png;base64,iVBORw0KGgoAAAANSUhEUgAAAOkAAAAaBAMAAACgH2ZnAAAAMFBMVEX///8yMjJmZmYiIiIQEBCq\n",
       "qqqYmJhERETu7u5UVFTMzMyIiIi6urp2dnbc3NwAAABLrkmVAAAAAXRSTlMAQObYZgAAAAlwSFlz\n",
       "AAAOxAAADsQBlSsOGwAAAwBJREFUSMe9ll1IFFEUx//O7K4zzjpJoRU9pAZmD8KqD5EQGGEERa31\n",
       "GNFSEdQGLUFUijFBINaDqw+hGLRgvQTiYtGHUg31FEEuBRa54SK9mhIYw2ZuZ2Z2V3d2d+YK1oWZ\n",
       "e5l75vzmnHPPOQOs9yhJ4D8Oj2rOvQ5y3LpSj6Xndgc5OUQ3W3+swVlChTnPNX5NPzl9YaK6kGSQ\n",
       "rridqjg7tTSQXlRmPuPiARwpJMkrxRV3718b9TtdszUdgJbx5J2K7Do7hokohW0Ub2SktpthaDAi\n",
       "NqN6W1F2lcYNiFFa50ahfztRBc1G8SIb9Uy9OS8BYgKuVil8O73jinDVEYv0a6Kiqrhir8ZEffzF\n",
       "nMtI3KVBXOai6SeYB/+wIHVnccXlPgaq8CmaXkkkLvogJsvqMqR3kKZQiPpEV/x+YO5ZdOSzaikx\n",
       "Qy/8TlRhR+bgQjQTh1+wf8OgTiqkOHY9KvxS3ZbI924Rlh2oQp9/JXFCxjQaZaCORhD3qrsh/4bH\n",
       "8pWnFBxysnUVtSRsTHvAQJ1XEReEJbg1cLqLhE3N+tAjUwP8caLKKx7mjTLEhQpI3TR0tqxQe4kK\n",
       "94KOdMVyZffCu1iUOpt3mkxbz4PJVvKwfhD4GCYTiiVdOc1KldoI9G1QMUppbuYYVHcMP1jimiDF\n",
       "ZCXZ3CcHcvaTuBXIs7VSb1ScT2ryW6uEqPt2BHjOeobJ4EtAV3nu/l1czs/XK8AGVU7Ct7oiGvkp\n",
       "UQrITbW1PnvqjF4+z+qK3wJjwJtXufs9HwP6ZnfLiYFz94CnLxVMBMlWjyInM13NUsr4VCpVYQsd\n",
       "PLqVtO5y7HTyIjbjOEpVwcfF0GZWLXd1IE/0MHt7qnKmaujCA4wCnfOK2TuHFbkuv903sPd/zZm6\n",
       "gCGiUij6J82OLV/Lvt6czW6QDPMPVpiVSrZuS9s6Wzg7RD8rlSdHjdsJjOvUTqKW+OWDYkCmuMod\n",
       "j+rt/pucR9BZpOenZ9+H+zFMjyUwHWyMwJVKFe4rJxmhcuhf/A87DY4KxV+Lne/MXHmDNwAAAABJ\n",
       "RU5ErkJggg==\n",
       "\" style=\"display:inline;vertical-align:middle;\" /></a> <a class=\"ProveItLink\" href=\"../../../__pv_it/_proof__success_prob_guarantee/c5c12ff6adc9200f59d3e53114a1922a19efff250/proof.ipynb\" style=\"text-decoration: none\">&nbsp;&#x22A2;&nbsp;&nbsp;</a><a class=\"ProveItLink\" href=\"../../../__pv_it/_proof__success_prob_guarantee/49183e2995fe2737afd338a8aa69cd97a61391af0/expr.ipynb\"><img src=\"data:image/png;base64,iVBORw0KGgoAAAANSUhEUgAAAO0AAAAbCAMAAACnWPi5AAAANlBMVEX///8yMjIiIiKqqqqYmJhE\n",
       "RER2dnbc3Nzu7u5UVFSIiIi6uroMDAwGBgbMzMwQEBBmZmYAAABXd5ydAAAAAXRSTlMAQObYZgAA\n",
       "AAlwSFlzAAAOxAAADsQBlSsOGwAAAydJREFUWMPFWFli6yAMZF9EH8v9L/tA4DikNibUafloEhes\n",
       "GUmMBCSSOwbV78y+x+YKmLD0QuG6nya9xTB8lOwIzJJl/hIdTi+XaPlbbEdgViyb/n1aMar8ZTrA\n",
       "r7A9AiOi8ABx0bIUrzuFT6xi5ndi+w2MES5kxEEvWdZtjY6RSnRjMhPLwH6S7QCMNkDb8wXLUe07\n",
       "UaWsVy7MqYe5mS3f1fcVjJfbKFMstOcLllMVZIumQsCoGT+RYuJWtoLFPYpjMCE/iJH4Bcu+xSjg\n",
       "p02aRCBqIpejvJEtsM7kEIwuNYl5vsIWWHMnftrkic+aN7Mw3MXWKAb9kyEYVxQDlGiWHVijFUgg\n",
       "XinpxqZsV3/YeS33aNXRJKuv3bZxf8jWRCZOZP+qy0HLisiykU0qPRK/ACNll9Ywbp88Fc6qNtff\n",
       "wNbY03o3AlPHv+J0R5jE/C6zxYWDqH32pj1XTOSG/5dt+7jd5vo4ZzsA08ZXcVeOagHCMdUi3Xsm\n",
       "to/HZmDxQHie6sy2HAMqzN4km43t109L63Emfwdz0jlyjGflGdR0bMWBMx/OgMcfAy22/mMqdQLm\n",
       "mG1VHqZQSzQxc2x5ma/1YNs65Nfqok/6YxXoCkzHFuNZMy0T12K4b7aE8ZgEcOaaKCpjY1tIlzVZ\n",
       "x8vu4grMM9uaY1WepCJqqmxqFstg50lAgXoR2VbRxGS9hcBbviprTX98eukcH2JyCebJssNZeCYi\n",
       "LsI4HbYQsYSDjnq7lNjuumgnu4smugVOwQ8sXp6xrsGs7qHgps8PYqlPlvzRj2PWMXLXWD8Dzbzc\n",
       "n52BjMx9a+7ghLDoOxBQVQfytxbbUr0KW0P/kq2fXePTcYUIKBWZEs2Cx0vkSrdq2ObJsCeuYngv\n",
       "9JQjhh01AZ9jSyyfmwddCjLdszWoiOi76pbcpuPTp9sHXy48dBT672I7nVran99L4SmsNOeFbVVr\n",
       "G7MCdnctWhpy61i7c1RvL3m9c+zY1tjS19iWOqv1nWz90irh3pY209tEtrKxRX465ClWlC+8Och7\n",
       "H2+O7p8MY1PWnkCdtqkkigKIGEWVNZnVriFgCb3T6n8xSR1Ndu/4lwAAAABJRU5ErkJggg==\n",
       "\" style=\"display:inline;vertical-align:middle;\" /></a></span><br>"
      ],
      "text/plain": [
       "thm_condition_11: {m in {0 .. 2^{t} - 1}, |m - b|_{mod 2^{t}} <= (2^{t - n} - 1)} |- |m - (2^{t} * phase)|_{mod 2^{t}} <= 2^{t - n}"
      ]
     },
     "execution_count": 81,
     "metadata": {},
     "output_type": "execute_result"
    }
   ],
   "source": [
    "thm_condition_11 = thm_condition_09.apply_transitivity(thm_condition_10,\n",
    "        assumptions=defaults.assumptions+(m_membership,thm_condition_01))"
   ]
  },
  {
   "cell_type": "code",
   "execution_count": 82,
   "metadata": {},
   "outputs": [
    {
     "data": {
      "text/html": [
       "<span style=\"font-size:20px;\"> <a class=\"ProveItLink\" href=\"../../../../../../numbers/modular/_theory_nbs_/proofs/mod_abs_scaled/thm_proof.ipynb\" style=\"text-decoration: none\">&nbsp;&#x22A2;&nbsp;&nbsp;</a><a class=\"ProveItLink\" href=\"../../../../../../numbers/modular/__pv_it/theorems/2c432e62d31c90f1129af41a71a8f763ccf471bd0/expr.ipynb\"><img src=\"data:image/png;base64,iVBORw0KGgoAAAANSUhEUgAAAUkAAAAWBAMAAAC/C3MNAAAAMFBMVEX///+IiIgiIiIQEBB2dnbu\n",
       "7u5ERETMzMzc3NwyMjK6urpmZmaYmJiqqqpUVFQAAAB6qHgnAAAAAXRSTlMAQObYZgAAAAlwSFlz\n",
       "AAAOxAAADsQBlSsOGwAABExJREFUSMeVl12IG1UUx/+TZD6SyaZT3bItriEslap9icXqKhayD8W6\n",
       "VhnqdkuxbLJSo/iBgfXBF93UBV+E7fahVVoLkfqgWDGKaGuXmlC2UGx1Wl98ENyF+uAHNIUurpWA\n",
       "58xHnJ2ZTGYvnMm9c+fM+c2Z/z1zA0Ruim2eU9yq3T08LejKanjcKtbS7rbN1RI163c02COl+U4F\n",
       "XTkaHvdDskXu/BIBsq9gmYdyfFtInMFeRKHedhMawLfceT8C5X7bvLk8ERInqffK24nelDgKvMX6\n",
       "KUWgnLfNS9kOiZOu96JsR6D83nrchBGBMm+bhzK1HBZnew/KcG+7xXWk6a0no8hyzjIvZSIXFueD\n",
       "HpTh3o5uCHHb0NCDESjVgmWYHTnkpkwuZY3ucZ4OoFSub+ys/XBvJwqt8G+A5yNQ8gOxpYbxmu6i\n",
       "LB4VV7rHuWQ+4JDZFm3KU1Vp2ZkP93bUTa9wFsqiM5aPrZq+9sT5I04/Zlj2TANfunP5q44Husf5\n",
       "yZ9L8TGoOWcY7u2IjZaDpDu1mdr1Tk/OlmtCArucChmvWfYdsJmG4j825VngVvc4035KtYUY37TI\n",
       "Ig/3dlBaRKq5Fs/Dnd65CtVTAQuah/IhiLd5vNWm3IxUu3ucU37KeAlFTkuMq1S4t1MIuLTMNekw\n",
       "1tzF1DezrLnEoMYFnyk31Fe/cfEm0i33G29DXfbGEXZ0NOPXZVHDj65y6ffGnZ7C2McCeYpqu3iv\n",
       "vMK3v0dgqvvl/LgZLaFMNuxLJc00sY3M3M8uyr9Zqd44J53ORX8uiwZ+73N2EIHeSQ9lmj86M/SQ\n",
       "al3mtEoNXk9qSaycNinVgyV3OWCbxLV63UX5F172V7xXnc5XfkpJ69uqOsNAb8nwF0FkKqw4gV9I\n",
       "vKIuWvK7VC6XDUFIfNaRcM6yif43liouyoknKduj4nNvZg/8UIPQ3Amsb560ZENvJWCNLz0+O+AM\n",
       "LW+Mb7n62+U/aHfSr0MY3ESU4u5+M98jJMeYs7qLVWmBFLkOcbpiHc2/buZSSH3UqY1bbAveuR02\n",
       "kiXSz0vYw4++w5INlFy0nZvSxjHSsFQTc5R+ZthTnWbKWG0KeLvzqaxOn9bHENMvYgzJGgqSbuoS\n",
       "O+uub75pXSh1qSDnqWZI2mGddcmygdqISLmMg5jiujVJXdblORqKBXyNfa49Tmr+6m5MGfIXGh2V\n",
       "+aauvEBnP9lUePZsRy1Vy7pQIqPJ+XQemfrn5uph2eCdiLtgpYUlwroA/JlqmZSPIgt5mH78OzbD\n",
       "dRwrl2urJsWSZWGUlMuknUuWDV5cGyXl8oiVS/puvrKXplbgS01K//8Y0A7Z5i6M9joaIEqJKAlv\n",
       "Rs80FNIly0bw/2UZCLjxAFNOEmXSULbTsp+hPA3Ltxdo6jgS2OipS67jGpt4o37h+OwtJNaf4XV5\n",
       "XwUsm8juE/+mH/n4RgEjd1WpNtzxHvDplX7W9LuXN/D8f1sULDEW5vApAAAAAElFTkSuQmCC\n",
       "\" style=\"display:inline;vertical-align:middle;\" /></a></span>"
      ],
      "text/plain": [
       "|- forall_{a, b, c in Real} ((a * |b|_{mod c}) = |a * b|_{mod a * c})"
      ]
     },
     "execution_count": 82,
     "metadata": {},
     "output_type": "execute_result"
    }
   ],
   "source": [
    "from proveit.numbers.modular import mod_abs_scaled\n",
    "mod_abs_scaled"
   ]
  },
  {
   "cell_type": "code",
   "execution_count": 83,
   "metadata": {},
   "outputs": [
    {
     "data": {
      "text/html": [
       "<span style=\"font-size:20px;\"> <a class=\"ProveItLink\" href=\"../_phase_is_real/thm_proof.ipynb\" style=\"text-decoration: none\">&nbsp;&#x22A2;&nbsp;&nbsp;</a><a class=\"ProveItLink\" href=\"../../../__pv_it/theorems/6f97b342dd38550cb8024855d13745b7ac6dd4990/expr.ipynb\"><img src=\"data:image/png;base64,iVBORw0KGgoAAAANSUhEUgAAADUAAAAUBAMAAADfOGjQAAAAMFBMVEX////c3NwQEBAiIiKIiIiq\n",
       "qqp2dnZUVFSYmJhmZmbu7u5EREQyMjK6urrMzMwAAACjE6D8AAAAAXRSTlMAQObYZgAAAAlwSFlz\n",
       "AAAOxAAADsQBlSsOGwAAAOtJREFUKM9jYMAEPdr7D2s3MGAHG8QZrncvwCEnxsDNV4BTjlPgAIoQ\n",
       "y2ZjG4TcBmQp3iMLEPrYVwHN5HvAwHt+F0hEZgGSma9jBBgYOBkY3vSWgUQOIuwTOvzZC0jHMTAU\n",
       "MHCDRA4guaVjDYhOYOBYANLMwKdsbGxsDZXjXgHyuwMDCwPDEiCDawOSPr4JICdMYLjHwDALJGKA\n",
       "7L950kB6BlB2+QOQiAuy3GoWoKE8R8512oJFeALgcpIMHA17gYzm/2YQEa7qW/B42Miw+zxQKSc8\n",
       "NnizoWEGB0wPGHCC97ilGJzxyMnhlAEAyX09Ck76UOIAAAAASUVORK5CYII=\n",
       "\" style=\"display:inline;vertical-align:middle;\" /></a></span>"
      ],
      "text/plain": [
       "|- phase in Real"
      ]
     },
     "execution_count": 83,
     "metadata": {},
     "output_type": "execute_result"
    }
   ],
   "source": [
    "# recall\n",
    "_phase_is_real"
   ]
  },
  {
   "cell_type": "code",
   "execution_count": 84,
   "metadata": {},
   "outputs": [
    {
     "data": {
      "text/html": [
       "<span style=\"font-size:20px;\"><a class=\"ProveItLink\" href=\"../../../__pv_it/common/89d0188c50f606a85186776fad8a95883dbde6470/expr.ipynb\"><img src=\"data:image/png;base64,iVBORw0KGgoAAAANSUhEUgAAAJ8AAAAYBAMAAAAWgDKzAAAAMFBMVEX///8yMjJmZmYiIiIQEBCq\n",
       "qqqYmJjMzMxERER2dnbc3Nzu7u5UVFSIiIi6uroAAACibcT0AAAAAXRSTlMAQObYZgAAAAlwSFlz\n",
       "AAAOxAAADsQBlSsOGwAAAfBJREFUOMtjYCAPSDFQF3B/oLKBrAKk69n3ALcc12TJAiyiUfjM45Xb\n",
       "gEeWMQCbaE03Hi3xQPM452phcYeSRAEDP4ZtxSCRHjwGTgZiUYbNCzAkVjBw/mN4gh5Jh+Q3QDXh\n",
       "MZDNgIGzAUPiFAODC8MdbvQwvI/dQN5mY0O4gRwHGFh/Yyjx38BwfoEu5waiDOST3YDkQn4FBvav\n",
       "GAYeZmA4X1CUzoDLQL47u+b2ss/sA4su3IDs5f1AA79hCw57LGJwAzk5zjLsz2MIQc9QigwM6ycw\n",
       "sP/FoherINjAK0D8jrmBYf0FhnywKCL9c7lBDPyJRS/zAVwGrgcmzw37H4DSnCLYamdjY2MLsHkH\n",
       "gflk/wQGPmyO0YAxNhqDgDnCQO6DQBPjwd7zBKcmRCIp6gZHCitmpDCwYXMgxEBOOSBxkIHBkoHv\n",
       "FzdI1AChAJjoORoY2DCTDUMkA9cCHAaCshfQbdz/GHgEloFE76ImbAcGJsxShX0CA+8GHAZOAYXW\n",
       "dwa2DwwcEyag5XlQCjBl2ALOENwfgcR+qNmLlZSUsXh5/gJYOjRg4FVg4NMF+4L7xGtkAzfNPQ7h\n",
       "GIHiVgGaCP///4hp3hl/mQRsWY9vBlLWIx1MJlOOLE1XyDFQEY/c+gAyqi43PJJcOiSbyDUHqAUA\n",
       "QduDMdPRGlAAAAAASUVORK5CYII=\n",
       "\" style=\"display:inline;vertical-align:middle;\" /></a> <a class=\"ProveItLink\" href=\"../../../__pv_it/_proof__success_prob_guarantee/7a03994ccc73669a87ff0a3e7e83ae4efe25ec3f0/proof.ipynb\" style=\"text-decoration: none\">&nbsp;&#x22A2;&nbsp;&nbsp;</a><a class=\"ProveItLink\" href=\"../../../__pv_it/_proof__success_prob_guarantee/b9b6d5326181980ec2b377f6b227a213757b505b0/expr.ipynb\"><img src=\"data:image/png;base64,iVBORw0KGgoAAAANSUhEUgAAAHwAAAAmBAMAAAD0JeIcAAAAMFBMVEX///+IiIi6urrc3NxEREQi\n",
       "IiJ2dnbu7u4QEBDMzMwyMjKYmJhUVFSqqqpmZmYAAAAHKSyHAAAAAXRSTlMAQObYZgAAAAlwSFlz\n",
       "AAAOxAAADsQBlSsOGwAAAppJREFUSMeNVU1oE0EU/rK7yeav2/WkqODiRRDBgCCiYFZRir9EtP4U\n",
       "bSPYinhw0ZNFSC9WFISAIIpiIgURRSheKlYwQkHUS47iJRHxkpZSTCVUKTqzu9kN3bxJHuzsDvN9\n",
       "M+/Ne+9bANDKENuoJVqdA6T1187viY3sbQ+InRKwE0UgonxA7jW+EpB3AvoD5trGsIm0jvcERBGE\n",
       "94w9Vs5AxUKNgKi3SHZPg48VcO644HoIC2f5+Bk4CamuEqB0iqIX7KyMQ/2FZHEXFXyWos/wQV5C\n",
       "YoGBKFRijKL/5YOUQagK6Tvlo7y8Yrvn+/6cPsRLoo5ubHBlNHJJ+tIH7nM3VgvQszAfg11XV/QN\n",
       "beg/4kC01BW9knfeof39Ax5dAXqzXdELTtlKTy3/9I83GH1SxHoIbF7kjJwD22n5zseOTLB6EjZ7\n",
       "FbGXW7h/vbo9n/BjvzN0zPK8IvohjyRgwoux6NMvT/HJVoPP/jWNp3G0n9sZ9hUBprgLjF61deMm\n",
       "WzjhOt83jQ6nhwAdqu7RVbMlcU+UTs5rkPLQLD/2TAtdu8c2S4tuXpvUoH7iX26CVrXQVXMdy4ju\n",
       "o+OBjnmx9tFP+3LcBMXLHr2KacVAtOqDc8FGHfrtXHnBcFRrZlOz4xZTysFlxJ3b2F07AHwLuj/b\n",
       "LFq3XqQLTtF64dlCIJu4YmwfuBSg33bfw5SO2EqZTCE6hlfBH0SznQ9TGmzrSLSBZB2NYOIzrZrU\n",
       "zo7ap2eQXJKCgia7fSqRmvSmKdgLodJ1ChQhRSVnuB2ta/pFChQtd9r4LGKzeQq0hq5MJzeaKer7\n",
       "u/TS247/YIQEehrn3dCTxTYasiNFr6nH2XAfWE0jzolcY/onD87PZ0iAIpRTVhthplN0fFfJlf/C\n",
       "JaWqSWiAUQAAAABJRU5ErkJggg==\n",
       "\" style=\"display:inline;vertical-align:middle;\" /></a></span>"
      ],
      "text/plain": [
       "{m in {0 .. 2^{t} - 1}} |- ((m / 2^{t}) - phase) in Real"
      ]
     },
     "execution_count": 84,
     "metadata": {},
     "output_type": "execute_result"
    }
   ],
   "source": [
    "thm_condition.lhs.operands[0].deduce_in_number_set(Real, assumptions=[m_membership])"
   ]
  },
  {
   "cell_type": "code",
   "execution_count": 85,
   "metadata": {},
   "outputs": [
    {
     "data": {
      "text/html": [
       "<strong id=\"condition_equality_01\">condition_equality_01:</strong> <span style=\"font-size:20px;\"><a class=\"ProveItLink\" href=\"../../../__pv_it/common/89d0188c50f606a85186776fad8a95883dbde6470/expr.ipynb\"><img src=\"data:image/png;base64,iVBORw0KGgoAAAANSUhEUgAAAJ8AAAAYBAMAAAAWgDKzAAAAMFBMVEX///8yMjJmZmYiIiIQEBCq\n",
       "qqqYmJjMzMxERER2dnbc3Nzu7u5UVFSIiIi6uroAAACibcT0AAAAAXRSTlMAQObYZgAAAAlwSFlz\n",
       "AAAOxAAADsQBlSsOGwAAAfBJREFUOMtjYCAPSDFQF3B/oLKBrAKk69n3ALcc12TJAiyiUfjM45Xb\n",
       "gEeWMQCbaE03Hi3xQPM452phcYeSRAEDP4ZtxSCRHjwGTgZiUYbNCzAkVjBw/mN4gh5Jh+Q3QDXh\n",
       "MZDNgIGzAUPiFAODC8MdbvQwvI/dQN5mY0O4gRwHGFh/Yyjx38BwfoEu5waiDOST3YDkQn4FBvav\n",
       "GAYeZmA4X1CUzoDLQL47u+b2ss/sA4su3IDs5f1AA79hCw57LGJwAzk5zjLsz2MIQc9QigwM6ycw\n",
       "sP/FoherINjAK0D8jrmBYf0FhnywKCL9c7lBDPyJRS/zAVwGrgcmzw37H4DSnCLYamdjY2MLsHkH\n",
       "gflk/wQGPmyO0YAxNhqDgDnCQO6DQBPjwd7zBKcmRCIp6gZHCitmpDCwYXMgxEBOOSBxkIHBkoHv\n",
       "FzdI1AChAJjoORoY2DCTDUMkA9cCHAaCshfQbdz/GHgEloFE76ImbAcGJsxShX0CA+8GHAZOAYXW\n",
       "dwa2DwwcEyag5XlQCjBl2ALOENwfgcR+qNmLlZSUsXh5/gJYOjRg4FVg4NMF+4L7xGtkAzfNPQ7h\n",
       "GIHiVgGaCP///4hp3hl/mQRsWY9vBlLWIx1MJlOOLE1XyDFQEY/c+gAyqi43PJJcOiSbyDUHqAUA\n",
       "QduDMdPRGlAAAAAASUVORK5CYII=\n",
       "\" style=\"display:inline;vertical-align:middle;\" /></a> <a class=\"ProveItLink\" href=\"../../../__pv_it/_proof__success_prob_guarantee/4e5fca1b95048d035df697966f6fd2cd0016e5c60/proof.ipynb\" style=\"text-decoration: none\">&nbsp;&#x22A2;&nbsp;&nbsp;</a><a class=\"ProveItLink\" href=\"../../../__pv_it/_proof__success_prob_guarantee/57b2be5a3eaa49e58b537bc9755729c1ef9612290/expr.ipynb\"><img src=\"data:image/png;base64,iVBORw0KGgoAAAANSUhEUgAAAX8AAAAoCAMAAAAhZgquAAAAOVBMVEX///9RUVEMDAwGBgaIiIi6\n",
       "urrc3NxEREQiIiJ2dnbu7u4QEBDMzMwyMjKYmJhUVFSqqqpmZmYAAADV6QObAAAAAXRSTlMAQObY\n",
       "ZgAAAAlwSFlzAAAOxAAADsQBlSsOGwAABSFJREFUaN7Vm+uSoyAQhdld5H4R3v9hVzCS1kSFBrdm\n",
       "+ZFJTSXt+Q4NtGAIaWmBjGhjovzbyE9fPsw1n9JDZDZGUVY9FLkOul4a3p7gm/gm6hWTlFNipOTT\n",
       "s/4TI9QjkV/QPTB7aWj/nW3jk4R7unR/dIvcWT/sP3H+icgbdBfMThrWf6NVE980EcGXvyzSJCE+\n",
       "7T/h8/jIG3QnDJSG9d/KNufUkixpnM4xIQT7uP+qMkE0AroTBkpD+r9e+aCOXfLNOU1WsVo+7n/r\n",
       "+nSDcYDugoHSkP6Lz2uqeM3nbfniFBlRT/vPIsNEVrEGugsGSsP5b76k/2yv+XKarON2Uc/c0/4T\n",
       "LjGRZ1sD3QUDpeH89/yjS6Ww0lzwsWjKWrVcXj4+/xCn2yOfYuyh+2CgNJz/8UuH2/m6/hfpleb7\n",
       "vSlQ9rz/LM6IyHaugO6DgdI0bvopV2QhWJ4TJqqfc//7mq9DdeRbjB10fyvSUGDvipelMSnTPDid\n",
       "RPozRC8qSlVh+KcOA1HmV0lDgfkC5nNO6EU09UR9mzh/D9GLikJjbeR7DAg9oBVpKDBd6ledh6tf\n",
       "hmagRKqfNf/M0VRGvseA0ANakYYCi2XB93kh8ks0E5z5YfO/qVmAdR0GhB7QijSc/4fyR8TBzi0C\n",
       "swuTjVyho6jomnpWxNaaDwcDpY0o7Ezehhrrf64PjHWTlx1lMtAVBGj+m75LjMpqtgoGStMDxrXw\n",
       "o2cOMueMyXF5h/+yJf8vMeomszoYKA0DNsXdiUPgnwPfHvniZ9s+bEFibnNvVudUSR6k/6HB/2uM\n",
       "HXQnDJTWn//fTjrAnQ/OOVpeFP03/t9g9OT/EWao/3PqXcYGzz9J3ZTzJ6gO/+vn/zuMHv+PML3z\n",
       "PwOlgMmDi6rR/rtVtvJm8DbVd323GDvoThgoDQOm3nnFREhNtK2/9n4nxVpqjQti6uhFVl3/32NA\n",
       "6F4YKA0FpsO7ZM7NNvmvavYF3BJa9G2TmzhV+n+PAaF7YaA0FJjl9Z/9Vbq8bDHOtnbUfkZpu8lX\n",
       "DfqaoLtgoDQUWGjotXL+sm0xXh1x7L5oelcRKUbubEDoPhgoDbn/rJr9f28xXhxx7EZo9yrO/Uj/\n",
       "IXQfDJSG3FiZm/1/bzGSqt6jotv/qopFY6D7YKA0XGHHQ3v+ly3GqeqazPT6P1UdWGkMdB8MlNYK\n",
       "xrIIp5v93+qlqyMOtEtUv3JTgccipSVD/f+AxsJAaZVgSkrv00hz6310nFDO5S3G8yMOvEuvWdhQ\n",
       "MNL14Oezj9BoGCitEizkO/g0ka0PYEuLci7f+J8fceBdKo9UzuKdOmSs/0doNAyUVgmWuj4/9CJO\n",
       "CqoqvsAJsi1RFBdmpl4553MeUkfXzKPLO/vpf136N03AO2g8DJSWLn9GBsDS7mnyX20pUPv4OeRz\n",
       "+BNUvd2zp7ug7HF66l6lN0FCouI/tWS4/xC6AwZK0+SUbA+23jPMgbwqJ+ta+W63GG/9V+uTe0Zv\n",
       "FTWn63/JR/4zzcb7D6A7YHbSXv5/ITuArb/bYMG9vqwEa+O732K89T/VfHRVuRYjPiylHPnivxIz\n",
       "ecD/At0Bs5f28v8L2QGM8cPFWN1vrMr+w/0WY4v/a5bYs/znjjzh/wbdA7OX9un/RrYHS3X/Ybix\n",
       "qiXYlGL5fovxOkpWyV8qszCWfsjgXXqz919NTZFbOsB0whykGXJKBsEYN8YE3NwxqCkfl8VH24n5\n",
       "fHgtKQ05IeRSJgi7gkgbJSX/WTsjA2AaHDL/BTOnSa1k0QGSAAAAAElFTkSuQmCC\n",
       "\" style=\"display:inline;vertical-align:middle;\" /></a></span><br>"
      ],
      "text/plain": [
       "condition_equality_01: {m in {0 .. 2^{t} - 1}} |- (2^{t} * |(m / 2^{t}) - phase|_{mod 1}) = |2^{t} * ((m / 2^{t}) - phase)|_{mod 2^{t}}"
      ]
     },
     "execution_count": 85,
     "metadata": {},
     "output_type": "execute_result"
    }
   ],
   "source": [
    "from proveit import a, b, c\n",
    "from proveit.physics.quantum.QPE import _two_pow_t\n",
    "_a_sub, _b_sub, _c_sub = _two_pow_t, thm_condition.lhs.operands[0], one\n",
    "condition_equality_01 = mod_abs_scaled.instantiate(\n",
    "        {a: _a_sub, b: _b_sub, c: _c_sub}, assumptions=[m_membership])"
   ]
  },
  {
   "cell_type": "code",
   "execution_count": 86,
   "metadata": {},
   "outputs": [
    {
     "data": {
      "text/html": [
       "<strong id=\"condition_equality_02\">condition_equality_02:</strong> <span style=\"font-size:20px;\"><a class=\"ProveItLink\" href=\"../../../__pv_it/common/89d0188c50f606a85186776fad8a95883dbde6470/expr.ipynb\"><img src=\"data:image/png;base64,iVBORw0KGgoAAAANSUhEUgAAAJ8AAAAYBAMAAAAWgDKzAAAAMFBMVEX///8yMjJmZmYiIiIQEBCq\n",
       "qqqYmJjMzMxERER2dnbc3Nzu7u5UVFSIiIi6uroAAACibcT0AAAAAXRSTlMAQObYZgAAAAlwSFlz\n",
       "AAAOxAAADsQBlSsOGwAAAfBJREFUOMtjYCAPSDFQF3B/oLKBrAKk69n3ALcc12TJAiyiUfjM45Xb\n",
       "gEeWMQCbaE03Hi3xQPM452phcYeSRAEDP4ZtxSCRHjwGTgZiUYbNCzAkVjBw/mN4gh5Jh+Q3QDXh\n",
       "MZDNgIGzAUPiFAODC8MdbvQwvI/dQN5mY0O4gRwHGFh/Yyjx38BwfoEu5waiDOST3YDkQn4FBvav\n",
       "GAYeZmA4X1CUzoDLQL47u+b2ss/sA4su3IDs5f1AA79hCw57LGJwAzk5zjLsz2MIQc9QigwM6ycw\n",
       "sP/FoherINjAK0D8jrmBYf0FhnywKCL9c7lBDPyJRS/zAVwGrgcmzw37H4DSnCLYamdjY2MLsHkH\n",
       "gflk/wQGPmyO0YAxNhqDgDnCQO6DQBPjwd7zBKcmRCIp6gZHCitmpDCwYXMgxEBOOSBxkIHBkoHv\n",
       "FzdI1AChAJjoORoY2DCTDUMkA9cCHAaCshfQbdz/GHgEloFE76ImbAcGJsxShX0CA+8GHAZOAYXW\n",
       "dwa2DwwcEyag5XlQCjBl2ALOENwfgcR+qNmLlZSUsXh5/gJYOjRg4FVg4NMF+4L7xGtkAzfNPQ7h\n",
       "GIHiVgGaCP///4hp3hl/mQRsWY9vBlLWIx1MJlOOLE1XyDFQEY/c+gAyqi43PJJcOiSbyDUHqAUA\n",
       "QduDMdPRGlAAAAAASUVORK5CYII=\n",
       "\" style=\"display:inline;vertical-align:middle;\" /></a> <a class=\"ProveItLink\" href=\"../../../__pv_it/_proof__success_prob_guarantee/fdea6ec1a975211b17eff23fa7c6793bddccd7720/proof.ipynb\" style=\"text-decoration: none\">&nbsp;&#x22A2;&nbsp;&nbsp;</a><a class=\"ProveItLink\" href=\"../../../__pv_it/_proof__success_prob_guarantee/d081b42373c98a06af9afabd14f7d975d03f1bf90/expr.ipynb\"><img src=\"data:image/png;base64,iVBORw0KGgoAAAANSUhEUgAAAXQAAAAoCAMAAADZhvFZAAAAOVBMVEX///9RUVEMDAwGBgaIiIi6\n",
       "urrc3NxEREQiIiJ2dnbu7u4QEBDMzMwyMjKYmJhUVFSqqqpmZmYAAADV6QObAAAAAXRSTlMAQObY\n",
       "ZgAAAAlwSFlzAAAOxAAADsQBlSsOGwAABPZJREFUaN7tm+uynCoQhUnC/Q7v/7BHUBllnLFBqZqy\n",
       "Dj92dqUyDOujbZZLg1DLCOiGccskjxjBQ/6VuuOrGieRRj6VuWvhRbCTVGCGkRaCkbHQkebPpG5N\n",
       "Ey+BmMNTDUY7AfdqMHRk3ROZayVbeBGCOJv+pBEnJHE0dMT8A6Eb0cRLTjWeeoqPaa+CGQ5dquc1\n",
       "mBnefhvoV14+V/eMW4nh0KFHzj2+6IP2m7+Tv2GT8TsvZ8rnSKRIjoZOIx00cz4zCET7B9Kd36nf\n",
       "C92b76pydc89ZuJP7WjoiIlx0H0Aad8VAbsK3bF6SsGN0F9U0ajLCTrhEMPbC7JqGHRpYNr368EX\n",
       "ocf3QjX+u0/n6SfOFUICpuOh0+hHQWcWpr1qyfISdF36JQ3BsLzLUf7OHekiMozaTgXUvh/YXUJS\n",
       "fHZuVCI1avJppn93QO+aBGRMewAEAdReWw15Bbpb5bhc8UrlbZSHfe3vHdC7JsFxEPTsBiDa6w5s\n",
       "r0BX5ULJm+embhMwEvK32ouPesjMi3UDaK+vEHYFSVzNh8vHo5vU6WD1j/V0DTlJO2bGHKq9/qC6\n",
       "BH1/evN4uxHWWQUxkcl+YxctEHpbBOoMUHslYroplP1IKjOmI74dejYe2ljixIXa2K4r8M1w++W1\n",
       "RaCMAbVXIqZ/rG+7brm7vx3n1eV52Q1d8MQXNUagxsG01yKm+Um/FyORHBwP2+va1NDj+yh3d5sK\n",
       "XFtjpmVlKZdO6ACjnnzRpwj0cGk7//+ufSO+FrF8S6cX21X60eMCfjXdweWHxGOhq8XovIz9aQT6\n",
       "qvTDRyVFfC1iiUJuaC8+LZHSm9tLWjfJKwzyAnRoT2+LQAv0E+21iHIj33mQFlugc1lgeTd0O69Z\n",
       "ugu1gcDupS0CXdO+M+21iH73QkNa3VpClIc0eNtBCoj8jcFG28AJulIbUJ/eFoEudvtceyWi5J5n\n",
       "arCaFy6FcC7tUw4oVSguNQ/TBB0S+SM7Tf16UtLZBQkQelsEuhQsQPteRHmYdapmSS1D7orpbiy9\n",
       "7WIYXPqfcomsmZw30A7zNkljDCCh7aXx/pi0tMmO7GV5qp6KJl+EuSZCw1LXhxhrJgeM/JHSVw8G\n",
       "wYemjCDx+lPKKBnXfroRttblLcQWz/kNnn5bKj3ZzQR9fmZio2yF/srkYJG/jpdPY+YGQdcK3OB2\n",
       "zcbtz5GlZfhUGyl7kHzdUOV3leMDsmnPfCv0VyYHi/wxvwwdYl76ZnZA+XsRnO6hy/k5btrCeXcY\n",
       "nv92U5b5VTUabPooC82VXjI5WORP9VU0BPQ6wA3PSIEiqmekNHFOiU+CPvsaF6ZFoy10yjYFalUr\n",
       "9FcmB438G9CsHgvJzct+wqBR0OfbokYDy9Bn6HOlm7rSkz9/3XzJSHp45UwOGvm3oFlWqfHmglag\n",
       "HqC7oFfvvYBOX7n/zgydLdCzAJpeSnM2/eKXfdJabz4nTA+vfPsNjfxboJc3Fz2vbmF+dUgXp+NR\n",
       "GUJdDkMFxiHXtJjcCzd6Pgc3weCbGQLyCqx3id9M1sZjbaGrB75BCn1TegP9wuvLX0zW3mMV6Nig\n",
       "Bw5jG6Gf5pHn0A9MVuWxVuhU0SdCl5w2QT/PI8+hH5isymMt0CV/4uvpiQHsP/asMcB5HtkEfTVZ\n",
       "x5XOLHrooKCzVK8O/TSTO5vk2GRtPdYKXRL0/xhqsjYeiwoTBX6k+v8AES0/E/iiRu8AAAAASUVO\n",
       "RK5CYII=\n",
       "\" style=\"display:inline;vertical-align:middle;\" /></a></span><br>"
      ],
      "text/plain": [
       "condition_equality_02: {m in {0 .. 2^{t} - 1}} |- (2^{t} * |(m / 2^{t}) - phase|_{mod 1}) = |m - (2^{t} * phase)|_{mod 2^{t}}"
      ]
     },
     "execution_count": 86,
     "metadata": {},
     "output_type": "execute_result"
    }
   ],
   "source": [
    "condition_equality_02 = condition_equality_01.inner_expr().rhs.operands[0].distribute(1)"
   ]
  },
  {
   "cell_type": "code",
   "execution_count": 87,
   "metadata": {},
   "outputs": [
    {
     "data": {
      "text/html": [
       "<span style=\"font-size:20px;\"><a class=\"ProveItLink\" href=\"../../../__pv_it/common/89d0188c50f606a85186776fad8a95883dbde6470/expr.ipynb\"><img src=\"data:image/png;base64,iVBORw0KGgoAAAANSUhEUgAAAJ8AAAAYBAMAAAAWgDKzAAAAMFBMVEX///8yMjJmZmYiIiIQEBCq\n",
       "qqqYmJjMzMxERER2dnbc3Nzu7u5UVFSIiIi6uroAAACibcT0AAAAAXRSTlMAQObYZgAAAAlwSFlz\n",
       "AAAOxAAADsQBlSsOGwAAAfBJREFUOMtjYCAPSDFQF3B/oLKBrAKk69n3ALcc12TJAiyiUfjM45Xb\n",
       "gEeWMQCbaE03Hi3xQPM452phcYeSRAEDP4ZtxSCRHjwGTgZiUYbNCzAkVjBw/mN4gh5Jh+Q3QDXh\n",
       "MZDNgIGzAUPiFAODC8MdbvQwvI/dQN5mY0O4gRwHGFh/Yyjx38BwfoEu5waiDOST3YDkQn4FBvav\n",
       "GAYeZmA4X1CUzoDLQL47u+b2ss/sA4su3IDs5f1AA79hCw57LGJwAzk5zjLsz2MIQc9QigwM6ycw\n",
       "sP/FoherINjAK0D8jrmBYf0FhnywKCL9c7lBDPyJRS/zAVwGrgcmzw37H4DSnCLYamdjY2MLsHkH\n",
       "gflk/wQGPmyO0YAxNhqDgDnCQO6DQBPjwd7zBKcmRCIp6gZHCitmpDCwYXMgxEBOOSBxkIHBkoHv\n",
       "FzdI1AChAJjoORoY2DCTDUMkA9cCHAaCshfQbdz/GHgEloFE76ImbAcGJsxShX0CA+8GHAZOAYXW\n",
       "dwa2DwwcEyag5XlQCjBl2ALOENwfgcR+qNmLlZSUsXh5/gJYOjRg4FVg4NMF+4L7xGtkAzfNPQ7h\n",
       "GIHiVgGaCP///4hp3hl/mQRsWY9vBlLWIx1MJlOOLE1XyDFQEY/c+gAyqi43PJJcOiSbyDUHqAUA\n",
       "QduDMdPRGlAAAAAASUVORK5CYII=\n",
       "\" style=\"display:inline;vertical-align:middle;\" /></a>, <a class=\"ProveItLink\" href=\"../../../__pv_it/_proof__success_prob_guarantee/acd32fcced5d827e7e8acea60ad61aa8dc676ec60/expr.ipynb\"><img src=\"data:image/png;base64,iVBORw0KGgoAAAANSUhEUgAAAOkAAAAaBAMAAACgH2ZnAAAAMFBMVEX///8yMjJmZmYiIiIQEBCq\n",
       "qqqYmJhERETu7u5UVFTMzMyIiIi6urp2dnbc3NwAAABLrkmVAAAAAXRSTlMAQObYZgAAAAlwSFlz\n",
       "AAAOxAAADsQBlSsOGwAAAwBJREFUSMe9ll1IFFEUx//O7K4zzjpJoRU9pAZmD8KqD5EQGGEERa31\n",
       "GNFSEdQGLUFUijFBINaDqw+hGLRgvQTiYtGHUg31FEEuBRa54SK9mhIYw2ZuZ2Z2V3d2d+YK1oWZ\n",
       "e5l75vzmnHPPOQOs9yhJ4D8Oj2rOvQ5y3LpSj6Xndgc5OUQ3W3+swVlChTnPNX5NPzl9YaK6kGSQ\n",
       "rridqjg7tTSQXlRmPuPiARwpJMkrxRV3718b9TtdszUdgJbx5J2K7Do7hokohW0Ub2SktpthaDAi\n",
       "NqN6W1F2lcYNiFFa50ahfztRBc1G8SIb9Uy9OS8BYgKuVil8O73jinDVEYv0a6Kiqrhir8ZEffzF\n",
       "nMtI3KVBXOai6SeYB/+wIHVnccXlPgaq8CmaXkkkLvogJsvqMqR3kKZQiPpEV/x+YO5ZdOSzaikx\n",
       "Qy/8TlRhR+bgQjQTh1+wf8OgTiqkOHY9KvxS3ZbI924Rlh2oQp9/JXFCxjQaZaCORhD3qrsh/4bH\n",
       "8pWnFBxysnUVtSRsTHvAQJ1XEReEJbg1cLqLhE3N+tAjUwP8caLKKx7mjTLEhQpI3TR0tqxQe4kK\n",
       "94KOdMVyZffCu1iUOpt3mkxbz4PJVvKwfhD4GCYTiiVdOc1KldoI9G1QMUppbuYYVHcMP1jimiDF\n",
       "ZCXZ3CcHcvaTuBXIs7VSb1ScT2ryW6uEqPt2BHjOeobJ4EtAV3nu/l1czs/XK8AGVU7Ct7oiGvkp\n",
       "UQrITbW1PnvqjF4+z+qK3wJjwJtXufs9HwP6ZnfLiYFz94CnLxVMBMlWjyInM13NUsr4VCpVYQsd\n",
       "PLqVtO5y7HTyIjbjOEpVwcfF0GZWLXd1IE/0MHt7qnKmaujCA4wCnfOK2TuHFbkuv903sPd/zZm6\n",
       "gCGiUij6J82OLV/Lvt6czW6QDPMPVpiVSrZuS9s6Wzg7RD8rlSdHjdsJjOvUTqKW+OWDYkCmuMod\n",
       "j+rt/pucR9BZpOenZ9+H+zFMjyUwHWyMwJVKFe4rJxmhcuhf/A87DY4KxV+Lne/MXHmDNwAAAABJ\n",
       "RU5ErkJggg==\n",
       "\" style=\"display:inline;vertical-align:middle;\" /></a> <a class=\"ProveItLink\" href=\"../../../__pv_it/_proof__success_prob_guarantee/c5c12ff6adc9200f59d3e53114a1922a19efff250/proof.ipynb\" style=\"text-decoration: none\">&nbsp;&#x22A2;&nbsp;&nbsp;</a><a class=\"ProveItLink\" href=\"../../../__pv_it/_proof__success_prob_guarantee/49183e2995fe2737afd338a8aa69cd97a61391af0/expr.ipynb\"><img src=\"data:image/png;base64,iVBORw0KGgoAAAANSUhEUgAAAO0AAAAbCAMAAACnWPi5AAAANlBMVEX///8yMjIiIiKqqqqYmJhE\n",
       "RER2dnbc3Nzu7u5UVFSIiIi6uroMDAwGBgbMzMwQEBBmZmYAAABXd5ydAAAAAXRSTlMAQObYZgAA\n",
       "AAlwSFlzAAAOxAAADsQBlSsOGwAAAydJREFUWMPFWFli6yAMZF9EH8v9L/tA4DikNibUafloEhes\n",
       "GUmMBCSSOwbV78y+x+YKmLD0QuG6nya9xTB8lOwIzJJl/hIdTi+XaPlbbEdgViyb/n1aMar8ZTrA\n",
       "r7A9AiOi8ABx0bIUrzuFT6xi5ndi+w2MES5kxEEvWdZtjY6RSnRjMhPLwH6S7QCMNkDb8wXLUe07\n",
       "UaWsVy7MqYe5mS3f1fcVjJfbKFMstOcLllMVZIumQsCoGT+RYuJWtoLFPYpjMCE/iJH4Bcu+xSjg\n",
       "p02aRCBqIpejvJEtsM7kEIwuNYl5vsIWWHMnftrkic+aN7Mw3MXWKAb9kyEYVxQDlGiWHVijFUgg\n",
       "XinpxqZsV3/YeS33aNXRJKuv3bZxf8jWRCZOZP+qy0HLisiykU0qPRK/ACNll9Ywbp88Fc6qNtff\n",
       "wNbY03o3AlPHv+J0R5jE/C6zxYWDqH32pj1XTOSG/5dt+7jd5vo4ZzsA08ZXcVeOagHCMdUi3Xsm\n",
       "to/HZmDxQHie6sy2HAMqzN4km43t109L63Emfwdz0jlyjGflGdR0bMWBMx/OgMcfAy22/mMqdQLm\n",
       "mG1VHqZQSzQxc2x5ma/1YNs65Nfqok/6YxXoCkzHFuNZMy0T12K4b7aE8ZgEcOaaKCpjY1tIlzVZ\n",
       "x8vu4grMM9uaY1WepCJqqmxqFstg50lAgXoR2VbRxGS9hcBbviprTX98eukcH2JyCebJssNZeCYi\n",
       "LsI4HbYQsYSDjnq7lNjuumgnu4smugVOwQ8sXp6xrsGs7qHgps8PYqlPlvzRj2PWMXLXWD8Dzbzc\n",
       "n52BjMx9a+7ghLDoOxBQVQfytxbbUr0KW0P/kq2fXePTcYUIKBWZEs2Cx0vkSrdq2ObJsCeuYngv\n",
       "9JQjhh01AZ9jSyyfmwddCjLdszWoiOi76pbcpuPTp9sHXy48dBT672I7nVran99L4SmsNOeFbVVr\n",
       "G7MCdnctWhpy61i7c1RvL3m9c+zY1tjS19iWOqv1nWz90irh3pY209tEtrKxRX465ClWlC+8Och7\n",
       "H2+O7p8MY1PWnkCdtqkkigKIGEWVNZnVriFgCb3T6n8xSR1Ndu/4lwAAAABJRU5ErkJggg==\n",
       "\" style=\"display:inline;vertical-align:middle;\" /></a></span>"
      ],
      "text/plain": [
       "{m in {0 .. 2^{t} - 1}, |m - b|_{mod 2^{t}} <= (2^{t - n} - 1)} |- |m - (2^{t} * phase)|_{mod 2^{t}} <= 2^{t - n}"
      ]
     },
     "execution_count": 87,
     "metadata": {},
     "output_type": "execute_result"
    }
   ],
   "source": [
    "thm_condition_11"
   ]
  },
  {
   "cell_type": "code",
   "execution_count": 88,
   "metadata": {},
   "outputs": [
    {
     "data": {
      "text/html": [
       "<strong id=\"thm_condition_12\">thm_condition_12:</strong> <span style=\"font-size:20px;\"><a class=\"ProveItLink\" href=\"../../../__pv_it/common/89d0188c50f606a85186776fad8a95883dbde6470/expr.ipynb\"><img src=\"data:image/png;base64,iVBORw0KGgoAAAANSUhEUgAAAJ8AAAAYBAMAAAAWgDKzAAAAMFBMVEX///8yMjJmZmYiIiIQEBCq\n",
       "qqqYmJjMzMxERER2dnbc3Nzu7u5UVFSIiIi6uroAAACibcT0AAAAAXRSTlMAQObYZgAAAAlwSFlz\n",
       "AAAOxAAADsQBlSsOGwAAAfBJREFUOMtjYCAPSDFQF3B/oLKBrAKk69n3ALcc12TJAiyiUfjM45Xb\n",
       "gEeWMQCbaE03Hi3xQPM452phcYeSRAEDP4ZtxSCRHjwGTgZiUYbNCzAkVjBw/mN4gh5Jh+Q3QDXh\n",
       "MZDNgIGzAUPiFAODC8MdbvQwvI/dQN5mY0O4gRwHGFh/Yyjx38BwfoEu5waiDOST3YDkQn4FBvav\n",
       "GAYeZmA4X1CUzoDLQL47u+b2ss/sA4su3IDs5f1AA79hCw57LGJwAzk5zjLsz2MIQc9QigwM6ycw\n",
       "sP/FoherINjAK0D8jrmBYf0FhnywKCL9c7lBDPyJRS/zAVwGrgcmzw37H4DSnCLYamdjY2MLsHkH\n",
       "gflk/wQGPmyO0YAxNhqDgDnCQO6DQBPjwd7zBKcmRCIp6gZHCitmpDCwYXMgxEBOOSBxkIHBkoHv\n",
       "FzdI1AChAJjoORoY2DCTDUMkA9cCHAaCshfQbdz/GHgEloFE76ImbAcGJsxShX0CA+8GHAZOAYXW\n",
       "dwa2DwwcEyag5XlQCjBl2ALOENwfgcR+qNmLlZSUsXh5/gJYOjRg4FVg4NMF+4L7xGtkAzfNPQ7h\n",
       "GIHiVgGaCP///4hp3hl/mQRsWY9vBlLWIx1MJlOOLE1XyDFQEY/c+gAyqi43PJJcOiSbyDUHqAUA\n",
       "QduDMdPRGlAAAAAASUVORK5CYII=\n",
       "\" style=\"display:inline;vertical-align:middle;\" /></a>, <a class=\"ProveItLink\" href=\"../../../__pv_it/_proof__success_prob_guarantee/acd32fcced5d827e7e8acea60ad61aa8dc676ec60/expr.ipynb\"><img src=\"data:image/png;base64,iVBORw0KGgoAAAANSUhEUgAAAOkAAAAaBAMAAACgH2ZnAAAAMFBMVEX///8yMjJmZmYiIiIQEBCq\n",
       "qqqYmJhERETu7u5UVFTMzMyIiIi6urp2dnbc3NwAAABLrkmVAAAAAXRSTlMAQObYZgAAAAlwSFlz\n",
       "AAAOxAAADsQBlSsOGwAAAwBJREFUSMe9ll1IFFEUx//O7K4zzjpJoRU9pAZmD8KqD5EQGGEERa31\n",
       "GNFSEdQGLUFUijFBINaDqw+hGLRgvQTiYtGHUg31FEEuBRa54SK9mhIYw2ZuZ2Z2V3d2d+YK1oWZ\n",
       "e5l75vzmnHPPOQOs9yhJ4D8Oj2rOvQ5y3LpSj6Xndgc5OUQ3W3+swVlChTnPNX5NPzl9YaK6kGSQ\n",
       "rridqjg7tTSQXlRmPuPiARwpJMkrxRV3718b9TtdszUdgJbx5J2K7Do7hokohW0Ub2SktpthaDAi\n",
       "NqN6W1F2lcYNiFFa50ahfztRBc1G8SIb9Uy9OS8BYgKuVil8O73jinDVEYv0a6Kiqrhir8ZEffzF\n",
       "nMtI3KVBXOai6SeYB/+wIHVnccXlPgaq8CmaXkkkLvogJsvqMqR3kKZQiPpEV/x+YO5ZdOSzaikx\n",
       "Qy/8TlRhR+bgQjQTh1+wf8OgTiqkOHY9KvxS3ZbI924Rlh2oQp9/JXFCxjQaZaCORhD3qrsh/4bH\n",
       "8pWnFBxysnUVtSRsTHvAQJ1XEReEJbg1cLqLhE3N+tAjUwP8caLKKx7mjTLEhQpI3TR0tqxQe4kK\n",
       "94KOdMVyZffCu1iUOpt3mkxbz4PJVvKwfhD4GCYTiiVdOc1KldoI9G1QMUppbuYYVHcMP1jimiDF\n",
       "ZCXZ3CcHcvaTuBXIs7VSb1ScT2ryW6uEqPt2BHjOeobJ4EtAV3nu/l1czs/XK8AGVU7Ct7oiGvkp\n",
       "UQrITbW1PnvqjF4+z+qK3wJjwJtXufs9HwP6ZnfLiYFz94CnLxVMBMlWjyInM13NUsr4VCpVYQsd\n",
       "PLqVtO5y7HTyIjbjOEpVwcfF0GZWLXd1IE/0MHt7qnKmaujCA4wCnfOK2TuHFbkuv903sPd/zZm6\n",
       "gCGiUij6J82OLV/Lvt6czW6QDPMPVpiVSrZuS9s6Wzg7RD8rlSdHjdsJjOvUTqKW+OWDYkCmuMod\n",
       "j+rt/pucR9BZpOenZ9+H+zFMjyUwHWyMwJVKFe4rJxmhcuhf/A87DY4KxV+Lne/MXHmDNwAAAABJ\n",
       "RU5ErkJggg==\n",
       "\" style=\"display:inline;vertical-align:middle;\" /></a> <a class=\"ProveItLink\" href=\"../../../__pv_it/_proof__success_prob_guarantee/27dbc139067acddb0a24a9bd8b13a3d1c32a8f450/proof.ipynb\" style=\"text-decoration: none\">&nbsp;&#x22A2;&nbsp;&nbsp;</a><a class=\"ProveItLink\" href=\"../../../__pv_it/_proof__success_prob_guarantee/b2bdf2c349c154e7601b5b6590e2a100e75025cb0/expr.ipynb\"><img src=\"data:image/png;base64,iVBORw0KGgoAAAANSUhEUgAAAPEAAAAoCAMAAAAYJOzcAAAAOVBMVEX///9RUVEMDAwGBgaIiIi6\n",
       "urrc3NxEREQiIiJ2dnbu7u4QEBDMzMwyMjKYmJhUVFSqqqpmZmYAAADV6QObAAAAAXRSTlMAQObY\n",
       "ZgAAAAlwSFlzAAAOxAAADsQBlSsOGwAAA81JREFUaN7dmmfT2yAMgGkrltj8/x9bRjwSj4CNe++V\n",
       "D07OF2M9SGgRQnpGIAPGkEkGiOFbfqVGvKp3EjT4BLDrEZaCQyaBA9FScvowMdFiPLI1XcJKwh2k\n",
       "xY820Xr1NDGxbjSwVtgjLKVE8PTJImRx4uPEhPvBxEZ2CYtJu9mUfcwLFczzxKjG2nWV/H0N2Kmw\n",
       "vui1sir5PHGrn/kK8BpiIzPGc2GdmZ+jkRF8nJhF1mcUp1tNb1XszbmwRa/VtBM8s48TE95nSf50\n",
       "qzn+uaBSGKlPhGVRzy4riSKft2pie57aA7DBaoCa/cStiow/j8ciX+vjNAD7B8QsdrnrDQBaqhKn\n",
       "YsWoJ4lZCIaXpYn4g3Kul7NpSE5PABiCme7P8ZRl65Z5c9Ijof6MIL42yVEQ9ItX/gTQfBr5Jzln\n",
       "qvfdNJUrj6p0ExzB3X38ewTxtUlg1/taERZtngOodCMEkq5qCnWqqNwlIw9AJP4wq/ZxqwMQb2Ke\n",
       "ArC8YkL7NEucXK0r/silmXXyaz9tH+tP14VSwEfQOQOgWbEg7dZVizhe2PJ2aiLH65Pgu5wYxEEW\n",
       "IL7l+R9uX0cYTly8rDaWOnnDUNaCoTuKn18AdqxFuOEG6YuKy7z8DvE60TkmFl8zcBrXFX3gO+Zk\n",
       "Pojjdiz9CrEMPVXT2anirO2rxOE99O5b9Q7AqY53S+9V7L8kLMwXhGHEe56rsXewJvZZHYwNtuos\n",
       "KS36DjhoH+9HpwaA6rlm69DF/gBHE9tKjU7fCXHRfstAGgDqNp3WjomQh+j0XOZrIWEMGG2DoHcc\n",
       "/lEp4c0ceRsAqgBhDmRlmD5ibGhz2TT10na4moF87Zk2AFQN8PbX/tpWKd40GvZ2krutqasjdKy5\n",
       "+qxSjpsHmyz+ZhojxSjgVC1iN/FSpRw2D94t8n7ixtdxB8U27PckrL6beKlSSMt6gbhPHO0wHRMe\n",
       "+nU8Vym0RX6mbxPTzmbmqKaZ2lQph82Dy0EdlJ9aUyunKM044FcXtl/YUqUcNg+upzEvz6BhvRnU\n",
       "0HOY9vVTmyrlsHlwnXg+ZPJipXgydCh9QdjAr74t2xUX2oNDa10xMLBQTAXSF7NDrAYftbUepq6J\n",
       "r59wqjlpzMlPwcpn0Ji+BLmmW4jBkMHD2F7ipirllBjr0YpWU7zmUG6SrY6ZYqOJUbA+4rYq5ZSY\n",
       "1BZyJq7RwgUayR4xitHHx1mAtv9aqM4qpZG46tgc6Zhb8sBgTc5Ld1Ypx5MUYv4iLpBMIXE2f34Q\n",
       "IyX/wUAXQzJmQ5krHTsJEFj5tCBqxcukiRLGv/ov36osLFeKduUAAAAASUVORK5CYII=\n",
       "\" style=\"display:inline;vertical-align:middle;\" /></a></span><br>"
      ],
      "text/plain": [
       "thm_condition_12: {m in {0 .. 2^{t} - 1}, |m - b|_{mod 2^{t}} <= (2^{t - n} - 1)} |- (2^{t} * |(m / 2^{t}) - phase|_{mod 1}) <= 2^{t - n}"
      ]
     },
     "execution_count": 88,
     "metadata": {},
     "output_type": "execute_result"
    }
   ],
   "source": [
    "thm_condition_12 = condition_equality_02.sub_left_side_into(thm_condition_11,\n",
    "        assumptions=defaults.assumptions+(m_membership,thm_condition_01))"
   ]
  },
  {
   "cell_type": "code",
   "execution_count": 89,
   "metadata": {},
   "outputs": [
    {
     "data": {
      "text/html": [
       "<span style=\"font-size:20px;\"><a class=\"ProveItLink\" href=\"../../../__pv_it/common/89d0188c50f606a85186776fad8a95883dbde6470/expr.ipynb\"><img src=\"data:image/png;base64,iVBORw0KGgoAAAANSUhEUgAAAJ8AAAAYBAMAAAAWgDKzAAAAMFBMVEX///8yMjJmZmYiIiIQEBCq\n",
       "qqqYmJjMzMxERER2dnbc3Nzu7u5UVFSIiIi6uroAAACibcT0AAAAAXRSTlMAQObYZgAAAAlwSFlz\n",
       "AAAOxAAADsQBlSsOGwAAAfBJREFUOMtjYCAPSDFQF3B/oLKBrAKk69n3ALcc12TJAiyiUfjM45Xb\n",
       "gEeWMQCbaE03Hi3xQPM452phcYeSRAEDP4ZtxSCRHjwGTgZiUYbNCzAkVjBw/mN4gh5Jh+Q3QDXh\n",
       "MZDNgIGzAUPiFAODC8MdbvQwvI/dQN5mY0O4gRwHGFh/Yyjx38BwfoEu5waiDOST3YDkQn4FBvav\n",
       "GAYeZmA4X1CUzoDLQL47u+b2ss/sA4su3IDs5f1AA79hCw57LGJwAzk5zjLsz2MIQc9QigwM6ycw\n",
       "sP/FoherINjAK0D8jrmBYf0FhnywKCL9c7lBDPyJRS/zAVwGrgcmzw37H4DSnCLYamdjY2MLsHkH\n",
       "gflk/wQGPmyO0YAxNhqDgDnCQO6DQBPjwd7zBKcmRCIp6gZHCitmpDCwYXMgxEBOOSBxkIHBkoHv\n",
       "FzdI1AChAJjoORoY2DCTDUMkA9cCHAaCshfQbdz/GHgEloFE76ImbAcGJsxShX0CA+8GHAZOAYXW\n",
       "dwa2DwwcEyag5XlQCjBl2ALOENwfgcR+qNmLlZSUsXh5/gJYOjRg4FVg4NMF+4L7xGtkAzfNPQ7h\n",
       "GIHiVgGaCP///4hp3hl/mQRsWY9vBlLWIx1MJlOOLE1XyDFQEY/c+gAyqi43PJJcOiSbyDUHqAUA\n",
       "QduDMdPRGlAAAAAASUVORK5CYII=\n",
       "\" style=\"display:inline;vertical-align:middle;\" /></a> <a class=\"ProveItLink\" href=\"../../../__pv_it/_proof__success_prob_guarantee/860ac3153648d1a3a2562863c531f0f156cbd8260/proof.ipynb\" style=\"text-decoration: none\">&nbsp;&#x22A2;&nbsp;&nbsp;</a><a class=\"ProveItLink\" href=\"../../../__pv_it/_proof__success_prob_guarantee/cbc880446c3506039e008b9208fd205da85cce8f0/expr.ipynb\"><img src=\"data:image/png;base64,iVBORw0KGgoAAAANSUhEUgAAAJ0AAAAoCAMAAADT/wgiAAAAOVBMVEX///8yMjIiIiKqqqqYmJhE\n",
       "RER2dnbc3Nzu7u5UVFSIiIi6urpRUVEMDAwGBgbMzMwQEBBmZmYAAACtm2JgAAAAAXRSTlMAQObY\n",
       "ZgAAAAlwSFlzAAAOxAAADsQBlSsOGwAAAnVJREFUWMPNmOGWoyAMhRMkEMLMBHj/h13A6sxu7W4X\n",
       "PK35UT2enutncg1ByHBCnCJyFOkyIn8RjhLYOyEBdY7ixegcUBAALraSLeladDGCoXr0pSKCLdei\n",
       "45q1Vs6lcDM5XqyylQt2ruSuRhc6l2lcsXjga9H1fK3lraDeXorOF91fB3LgrlXZaNqv9KYfs/g3\n",
       "0VlMRAVNInvJtYLAh5qgYKlZ/+sMya9T6Vw/aIWEzzMkP0+nyx7w/ZUVMjXwiI7eTRdR+Dh3gTkM\n",
       "C6uu4qV7d5TOIz+orNKCfli4dx5FG4OboEN/6LuEphgZf+ylpy6sahN0D94Kaxl/Wqbcx+3fjOY7\n",
       "FLZpsHVO3rM4aI+06dIflSW2E91Y9h+WcTqmRx1FM0wYuiUs9kTmmbfCPOx3Wf24ZbJdCTnoTEcR\n",
       "eURX0yr2WBj/PQMgCqrNJs71O1yO6NpzV9+1vde9MD+zq7CmFONmuzEHinw/o1BNDxGWBT62zpgz\n",
       "Uq/Tgs8Wd4+P4VUmOvp9JTuePpsJXR2NvTPo9InFS184fYbutZSOzXDQq8orZ+PUt4qh7negPLPj\n",
       "EfNKutDvFuruIj51K68v3ZOt7bHWSwKwzogcJDrdzMIWx4W1fafIAo7PpdusrCJmXNi0qUOzVTiZ\n",
       "jrYXbRmnyzRjDyaji4Q6XYS+goiVXgOpJzhPZ8OceX3t7YB0Q2jrENeT3BaUNE23NBnvZ+i4f0eo\n",
       "c9vWD0n6RZjOnfZFU3iGrvUkWelsvxRyLHACnTe5hYGT6Nbc4WzudOt0PXCMTnc6utF1IJ8Ygm3H\n",
       "UbrTgkPJtaAYfSjNJU4k+360YnDld1ic/IfmL34rGHsRpFSJAAAAAElFTkSuQmCC\n",
       "\" style=\"display:inline;vertical-align:middle;\" /></a></span>"
      ],
      "text/plain": [
       "{m in {0 .. 2^{t} - 1}} |- |(m / 2^{t}) - phase|_{mod 1} in Real"
      ]
     },
     "execution_count": 89,
     "metadata": {},
     "output_type": "execute_result"
    }
   ],
   "source": [
    "# to do some simplification, we need to explicitly deduce_in_number_set\n",
    "# the main piece of that inequality\n",
    "thm_condition_12.lhs.operands[1].deduce_in_number_set(\n",
    "    Real, assumptions=defaults.assumptions+(m_membership,thm_condition_01))"
   ]
  },
  {
   "cell_type": "code",
   "execution_count": 90,
   "metadata": {},
   "outputs": [
    {
     "data": {
      "text/html": [
       "<strong id=\"thm_condition_13\">thm_condition_13:</strong> <span style=\"font-size:20px;\"><a class=\"ProveItLink\" href=\"../../../__pv_it/common/89d0188c50f606a85186776fad8a95883dbde6470/expr.ipynb\"><img src=\"data:image/png;base64,iVBORw0KGgoAAAANSUhEUgAAAJ8AAAAYBAMAAAAWgDKzAAAAMFBMVEX///8yMjJmZmYiIiIQEBCq\n",
       "qqqYmJjMzMxERER2dnbc3Nzu7u5UVFSIiIi6uroAAACibcT0AAAAAXRSTlMAQObYZgAAAAlwSFlz\n",
       "AAAOxAAADsQBlSsOGwAAAfBJREFUOMtjYCAPSDFQF3B/oLKBrAKk69n3ALcc12TJAiyiUfjM45Xb\n",
       "gEeWMQCbaE03Hi3xQPM452phcYeSRAEDP4ZtxSCRHjwGTgZiUYbNCzAkVjBw/mN4gh5Jh+Q3QDXh\n",
       "MZDNgIGzAUPiFAODC8MdbvQwvI/dQN5mY0O4gRwHGFh/Yyjx38BwfoEu5waiDOST3YDkQn4FBvav\n",
       "GAYeZmA4X1CUzoDLQL47u+b2ss/sA4su3IDs5f1AA79hCw57LGJwAzk5zjLsz2MIQc9QigwM6ycw\n",
       "sP/FoherINjAK0D8jrmBYf0FhnywKCL9c7lBDPyJRS/zAVwGrgcmzw37H4DSnCLYamdjY2MLsHkH\n",
       "gflk/wQGPmyO0YAxNhqDgDnCQO6DQBPjwd7zBKcmRCIp6gZHCitmpDCwYXMgxEBOOSBxkIHBkoHv\n",
       "FzdI1AChAJjoORoY2DCTDUMkA9cCHAaCshfQbdz/GHgEloFE76ImbAcGJsxShX0CA+8GHAZOAYXW\n",
       "dwa2DwwcEyag5XlQCjBl2ALOENwfgcR+qNmLlZSUsXh5/gJYOjRg4FVg4NMF+4L7xGtkAzfNPQ7h\n",
       "GIHiVgGaCP///4hp3hl/mQRsWY9vBlLWIx1MJlOOLE1XyDFQEY/c+gAyqi43PJJcOiSbyDUHqAUA\n",
       "QduDMdPRGlAAAAAASUVORK5CYII=\n",
       "\" style=\"display:inline;vertical-align:middle;\" /></a>, <a class=\"ProveItLink\" href=\"../../../__pv_it/_proof__success_prob_guarantee/acd32fcced5d827e7e8acea60ad61aa8dc676ec60/expr.ipynb\"><img src=\"data:image/png;base64,iVBORw0KGgoAAAANSUhEUgAAAOkAAAAaBAMAAACgH2ZnAAAAMFBMVEX///8yMjJmZmYiIiIQEBCq\n",
       "qqqYmJhERETu7u5UVFTMzMyIiIi6urp2dnbc3NwAAABLrkmVAAAAAXRSTlMAQObYZgAAAAlwSFlz\n",
       "AAAOxAAADsQBlSsOGwAAAwBJREFUSMe9ll1IFFEUx//O7K4zzjpJoRU9pAZmD8KqD5EQGGEERa31\n",
       "GNFSEdQGLUFUijFBINaDqw+hGLRgvQTiYtGHUg31FEEuBRa54SK9mhIYw2ZuZ2Z2V3d2d+YK1oWZ\n",
       "e5l75vzmnHPPOQOs9yhJ4D8Oj2rOvQ5y3LpSj6Xndgc5OUQ3W3+swVlChTnPNX5NPzl9YaK6kGSQ\n",
       "rridqjg7tTSQXlRmPuPiARwpJMkrxRV3718b9TtdszUdgJbx5J2K7Do7hokohW0Ub2SktpthaDAi\n",
       "NqN6W1F2lcYNiFFa50ahfztRBc1G8SIb9Uy9OS8BYgKuVil8O73jinDVEYv0a6Kiqrhir8ZEffzF\n",
       "nMtI3KVBXOai6SeYB/+wIHVnccXlPgaq8CmaXkkkLvogJsvqMqR3kKZQiPpEV/x+YO5ZdOSzaikx\n",
       "Qy/8TlRhR+bgQjQTh1+wf8OgTiqkOHY9KvxS3ZbI924Rlh2oQp9/JXFCxjQaZaCORhD3qrsh/4bH\n",
       "8pWnFBxysnUVtSRsTHvAQJ1XEReEJbg1cLqLhE3N+tAjUwP8caLKKx7mjTLEhQpI3TR0tqxQe4kK\n",
       "94KOdMVyZffCu1iUOpt3mkxbz4PJVvKwfhD4GCYTiiVdOc1KldoI9G1QMUppbuYYVHcMP1jimiDF\n",
       "ZCXZ3CcHcvaTuBXIs7VSb1ScT2ryW6uEqPt2BHjOeobJ4EtAV3nu/l1czs/XK8AGVU7Ct7oiGvkp\n",
       "UQrITbW1PnvqjF4+z+qK3wJjwJtXufs9HwP6ZnfLiYFz94CnLxVMBMlWjyInM13NUsr4VCpVYQsd\n",
       "PLqVtO5y7HTyIjbjOEpVwcfF0GZWLXd1IE/0MHt7qnKmaujCA4wCnfOK2TuHFbkuv903sPd/zZm6\n",
       "gCGiUij6J82OLV/Lvt6czW6QDPMPVpiVSrZuS9s6Wzg7RD8rlSdHjdsJjOvUTqKW+OWDYkCmuMod\n",
       "j+rt/pucR9BZpOenZ9+H+zFMjyUwHWyMwJVKFe4rJxmhcuhf/A87DY4KxV+Lne/MXHmDNwAAAABJ\n",
       "RU5ErkJggg==\n",
       "\" style=\"display:inline;vertical-align:middle;\" /></a> <a class=\"ProveItLink\" href=\"../../../__pv_it/_proof__success_prob_guarantee/71697a63b899ab2c57f2d171f92202e1806e5e4a0/proof.ipynb\" style=\"text-decoration: none\">&nbsp;&#x22A2;&nbsp;&nbsp;</a><a class=\"ProveItLink\" href=\"../../../__pv_it/_proof__success_prob_guarantee/87abcb11cac7bbcafbf6582744a1b45fa78280360/expr.ipynb\"><img src=\"data:image/png;base64,iVBORw0KGgoAAAANSUhEUgAAALwAAAAvCAMAAABuZVB0AAAANlBMVEX///8yMjIiIiKqqqqYmJhE\n",
       "RER2dnbc3Nzu7u5UVFSIiIi6uroMDAwGBgbMzMwQEBBmZmYAAABXd5ydAAAAAXRSTlMAQObYZgAA\n",
       "AAlwSFlzAAAOxAAADsQBlSsOGwAAAvVJREFUaN7Vmdu2oyAMhgNyCGGGw/u/7ABW21p1qFBtudAu\n",
       "9l7kI4QQfgG+vDENP9sw/i47DOznkHUITLr0Vpwp9/w3EYQjCt/LLtNDRZtDfljGkbBeAPiv3Qqm\n",
       "kHmfHhGXE0Nia/1f03xBM1GDzRMAJ6eWZ2UIbv3QJ3j6hqDh5RkdkAF0y6mljhAgd/tblyWDWpEk\n",
       "cEpJ+66vPuB/nrJkIFCLANE5eXI3PMIrkHk9MIoEPvjr4V1MOC6llkW/NelBSjyYtRa4LPOinI7i\n",
       "9fDcVJvF5PMcK0PZK4FdDh/kO2aH4u0R26ur4YV5y6wp2Dxj25Sk8FL4IWNoXW22eHuMnTQPLa6E\n",
       "d2XlCWvN6ujmnSoVqCvDRvOQG682a8u/jgWPDaSvhOexNHaS2U8cUqeZbR5lOHRj+tsFvnEUwcOh\n",
       "KvFPF/imUYgr/M2wQcXpbLOu1EuWRYkt8Bi4ON9nJaU6JqxRx0dB83LLOwO+VNNQ6g/Z4IKPwyPj\n",
       "9+bm6j/nCJzX4GjY6C5hE1/bboKYH0jdN2ysbQfNZnfbsgwBm3PW2akyiHECaFyPhHv0kDpoljFi\n",
       "TgRuu5UHrhN8TZ0hUunH1bmF2QvXSlVSp8wG0b1C+t/ejptVySRu1iqz3nWvkDay6TbXfJOaxM01\n",
       "ZXZVVmnfOchXjpAl+x7XZPZB3Kw69oifcxnZ5ZrM3sXNOgVWu3Pgd7lmz8/ipvV9clYnz+9x+cXV\n",
       "F1aV2TZ48rcFR3HwK80Gl3/ehbSqzLZ6/hatjogfYt/iejJbxM0VZbYVXk5bbTgGv8X1aLZK3NyC\n",
       "R8ndQAaFMKVmIEHFUZR+sDb4Ta4H+Dpxc3MUHRMikzfC/H0C04+QSwjfBL/NdYevFDd34LEoheD8\n",
       "dIZJKp3Q5Pkdrhm+VtzcgYfxa1eGF2VcE2yERvg9rmkPVIubsDXKE/zoedbu+SquanFz20wsgTLC\n",
       "F17tEYzI7+Pw7Vx1OkYMKVqY1SbmlVZEQZe3ID5eNbRiUVE/k/8Aft0gMOEq72QAAAAASUVORK5C\n",
       "YII=\n",
       "\" style=\"display:inline;vertical-align:middle;\" /></a></span><br>"
      ],
      "text/plain": [
       "thm_condition_13: {m in {0 .. 2^{t} - 1}, |m - b|_{mod 2^{t}} <= (2^{t - n} - 1)} |- |(m / 2^{t}) - phase|_{mod 1} <= (2^{t - n} / 2^{t})"
      ]
     },
     "execution_count": 90,
     "metadata": {},
     "output_type": "execute_result"
    }
   ],
   "source": [
    "thm_condition_13 = (\n",
    "    thm_condition_12.divide_both_sides(_two_pow_t).inner_expr().lhs.simplify())"
   ]
  },
  {
   "cell_type": "markdown",
   "metadata": {},
   "source": [
    "Now dealing with some algebra in a klunky way to simplify the RHS of the inequality in thm_condition_13."
   ]
  },
  {
   "cell_type": "code",
   "execution_count": 91,
   "metadata": {},
   "outputs": [
    {
     "data": {
      "text/html": [
       "<strong id=\"two_pow_t_minus_n_factored\">two_pow_t_minus_n_factored:</strong> <span style=\"font-size:20px;\"> <a class=\"ProveItLink\" href=\"../../../__pv_it/_proof__success_prob_guarantee/c333f160b92dac6e6a99aecc1ff2a087685b0d0f0/proof.ipynb\" style=\"text-decoration: none\">&nbsp;&#x22A2;&nbsp;&nbsp;</a><a class=\"ProveItLink\" href=\"../../../__pv_it/_proof__success_prob_guarantee/8dff45904754a6f15f164ede6888dbcb5349c3b90/expr.ipynb\"><img src=\"data:image/png;base64,iVBORw0KGgoAAAANSUhEUgAAAJYAAAAaBAMAAACnXbhyAAAAMFBMVEX///9UVFQiIiKIiIjMzMx2\n",
       "dnYQEBDc3NxEREQyMjLu7u5mZmaqqqq6urqYmJgAAAB66f/FAAAAAXRSTlMAQObYZgAAAAlwSFlz\n",
       "AAAOxAAADsQBlSsOGwAAAbxJREFUOMuVlb9LAzEUx79cf2Fb26KDCkJR3ByKgoK4FFwEhxb/gg7i\n",
       "6uEkLjp2kjqITqVrF611EQ7EQfdOXS1U3AoFJwWpaXLGy0sO4xvy7pv7vJeXH5cDpF3i/0ZjBsIl\n",
       "h+EhqZB+GpNu+b4Wnitxau6nMU0f370oGujMw9Ymc33zEDLGx878FxOPJvy624u7gNMwJpMxAktU\n",
       "WH7vqojsL861sOMN/iKS02pSYgSWKgNHiH2h+8txvV1l5mKav0h+0lw/MUEs2wFmgH2sJOV6ce3b\n",
       "Hrwoc3Wai8RwrMTKPGgg797F5CS59qcyxNIT8/c0lxojsFX2NAXkizuvkuNaPE7msNZjfp3mUmME\n",
       "NidEgaBUvxg2kjKo8jb6rvZSjRKvs704toUQBue8dcieU42TjlaWxmCZt3Jpb2qqlv16Lo0RdWXk\n",
       "EE5L1bIu7QPTGZHrGQk32Ek1Wy+XrpfOYHa8imVEgvtEtWkfDQw/OIee1w72Uc3sjc7HwPABC6PR\n",
       "h3JwiGZ2qx0unUG8Y3UZ122g8T3xt+n3hMmiFRvKcABMNm8DOa5VrqYN1Lf7xaUtFizsP6TZwGKD\n",
       "GjaJvgHeb4AdyrPwzgAAAABJRU5ErkJggg==\n",
       "\" style=\"display:inline;vertical-align:middle;\" /></a></span><br>"
      ],
      "text/plain": [
       "two_pow_t_minus_n_factored: |- (2^{t} * 2^{-n}) = 2^{t - n}"
      ]
     },
     "execution_count": 91,
     "metadata": {},
     "output_type": "execute_result"
    }
   ],
   "source": [
    "two_pow_t_minus_n_factored = Mult(_two_pow_t, Exp(two, Neg(_n))).exponent_combination()"
   ]
  },
  {
   "cell_type": "code",
   "execution_count": 92,
   "metadata": {},
   "outputs": [
    {
     "data": {
      "text/html": [
       "<strong id=\"two_pow_t_minus_n_factored_div\">two_pow_t_minus_n_factored_div:</strong> <span style=\"font-size:20px;\"> <a class=\"ProveItLink\" href=\"../../../__pv_it/_proof__success_prob_guarantee/69dc2b60c954ab6aa02ef7c4399610f51b25bbae0/proof.ipynb\" style=\"text-decoration: none\">&nbsp;&#x22A2;&nbsp;&nbsp;</a><a class=\"ProveItLink\" href=\"../../../__pv_it/_proof__success_prob_guarantee/6fbb1d5b487c2089cdfabc6b67c39b62088d40640/expr.ipynb\"><img src=\"data:image/png;base64,iVBORw0KGgoAAAANSUhEUgAAAIIAAAAuBAMAAAAW89xbAAAAMFBMVEX///+qqqqYmJiIiIgiIiLu\n",
       "7u4QEBBUVFS6urp2dnbMzMxEREQyMjJmZmbc3NwAAADzFso2AAAAAXRSTlMAQObYZgAAAAlwSFlz\n",
       "AAAOxAAADsQBlSsOGwAAAahJREFUSMfVlD9Iw0AUh3/9mzbU1FVx6CY4dRERFDoIBbE0OLrYycHF\n",
       "gs7WqXMHXVwMOImInXWpowgOtZsGMuggohRKQaQY22vaXHNg7noufkvePbjHy8v7AhASFiTZlC2A\n",
       "GZnL709XeF07Hp41885wwmD9dNm/gFbFyQFu3MQb4p9OuF5ORf0HpFiIFtB2E/vAlhO+LCGp+1aI\n",
       "tqF8xwpuYkdHyTq/7mJhF2X/t1AyUL5CxY1hYg8oDQaxDVPlmWW4OZE+ohP5wYyaWJ3mqXCZVusG\n",
       "dVZbThArYjHFUyHr7akouBATVSeIdPrPR9GVmh1Guf4eibYQqOBjJDEFTcyzM2CePqsVhHSRAlrO\n",
       "NDN04tk0G0IthG3bro0sg213OO/ymcc27brLZx4D5S6feQzEXRHzGIi7guaNQrnLbR5DXtS8Lo2V\n",
       "HlmPu2Mj7C6Dx13bF2YTx2qBnoOwu16E3WXgcff+92XwdzfSlOiQmBuoSVTomasd3hrjVyDmJiYl\n",
       "eiDmJmW+FTG3LLn0eSxEDKmNa+EhrkuaezH3l+aKE5T+efwTcyFrLsMPaR+nFKKMnYQAAAAASUVO\n",
       "RK5CYII=\n",
       "\" style=\"display:inline;vertical-align:middle;\" /></a></span><br>"
      ],
      "text/plain": [
       "two_pow_t_minus_n_factored_div: |- ((2^{t} * 2^{-n}) / 2^{t}) = 2^{-n}"
      ]
     },
     "execution_count": 92,
     "metadata": {},
     "output_type": "execute_result"
    }
   ],
   "source": [
    "two_pow_t_minus_n_factored_div = (\n",
    "    Div(Mult(_two_pow_t, Exp(two, Neg(_n))), _two_pow_t).cancelation(_two_pow_t))"
   ]
  },
  {
   "cell_type": "code",
   "execution_count": 93,
   "metadata": {},
   "outputs": [
    {
     "data": {
      "text/html": [
       "<strong id=\"two_pow_neg_n_sub\">two_pow_neg_n_sub:</strong> <span style=\"font-size:20px;\"> <a class=\"ProveItLink\" href=\"../../../__pv_it/_proof__success_prob_guarantee/6402ccc421b165de7cec72ef1818561ef84a89e60/proof.ipynb\" style=\"text-decoration: none\">&nbsp;&#x22A2;&nbsp;&nbsp;</a><a class=\"ProveItLink\" href=\"../../../__pv_it/_proof__success_prob_guarantee/32b6e8f1745e0fc00dfa8a994d1c8289ae32c9320/expr.ipynb\"><img src=\"data:image/png;base64,iVBORw0KGgoAAAANSUhEUgAAAGgAAAAuBAMAAAA2M0HjAAAAMFBMVEX///+qqqqYmJiIiIgiIiLu\n",
       "7u4QEBBUVFS6urp2dnbMzMxEREQyMjJmZmbc3NwAAADzFso2AAAAAXRSTlMAQObYZgAAAAlwSFlz\n",
       "AAAOxAAADsQBlSsOGwAAAXdJREFUSMdjYAADngcMpIN4MvQwyJCo/u2dXQwvfWZBebpaxhcI6+Hb\n",
       "wDC/geEglMeqkcSQR1gT+wMGtgSGrzAjgg/A2XgA21cG9n8cCQxcu4FgHwO7AZBN2CYHBvZfzAVR\n",
       "MDMW8F5YQExQsHzgNZgKZb9nYFlIlKb1BlyXYArbGZgnERXo7mRELO8GMjSpk6GHcQLDO5I1rWRg\n",
       "MCVVD5/v3bsOpGpi+f///wHilTNdWmxLpGvunobFY1CbAhtxGfY1A+cPKPOpDQN/AFGa6hgY0hhW\n",
       "g1L0A4ZihjbinJcfwFAPc1MWw10uojSVMDDUQz3F94HBS4rYUPOH0hwFDJYKuJVdcQEBaGLm+kxG\n",
       "WmMpIEPTbVTufyzgA0Y6INYiZD9JMvCRXG5zTWBgDiBV05O7d6/glMRVd/j///+HanUHqBogte4A\n",
       "VwOIuoM4AKkGDpJmE7gaIKa+wKgGiKkvMKoBRN1BNFhvgKg7iAbuDIi6Y7QaoGE1AACodIQxr0Tw\n",
       "nwAAAABJRU5ErkJggg==\n",
       "\" style=\"display:inline;vertical-align:middle;\" /></a></span><br>"
      ],
      "text/plain": [
       "two_pow_neg_n_sub: |- (2^{t - n} / 2^{t}) = 2^{-n}"
      ]
     },
     "execution_count": 93,
     "metadata": {},
     "output_type": "execute_result"
    }
   ],
   "source": [
    "two_pow_neg_n_sub = (\n",
    "    two_pow_t_minus_n_factored_div.inner_expr().lhs.numerator.\n",
    "    substitute(two_pow_t_minus_n_factored))"
   ]
  },
  {
   "cell_type": "markdown",
   "metadata": {},
   "source": [
    "Done with the klunky algebra; now we can apply it to simply the RHS of the thm_condition_13:"
   ]
  },
  {
   "cell_type": "code",
   "execution_count": 94,
   "metadata": {},
   "outputs": [
    {
     "data": {
      "text/html": [
       "<strong id=\"thm_condition_14\">thm_condition_14:</strong> <span style=\"font-size:20px;\"><a class=\"ProveItLink\" href=\"../../../__pv_it/common/89d0188c50f606a85186776fad8a95883dbde6470/expr.ipynb\"><img src=\"data:image/png;base64,iVBORw0KGgoAAAANSUhEUgAAAJ8AAAAYBAMAAAAWgDKzAAAAMFBMVEX///8yMjJmZmYiIiIQEBCq\n",
       "qqqYmJjMzMxERER2dnbc3Nzu7u5UVFSIiIi6uroAAACibcT0AAAAAXRSTlMAQObYZgAAAAlwSFlz\n",
       "AAAOxAAADsQBlSsOGwAAAfBJREFUOMtjYCAPSDFQF3B/oLKBrAKk69n3ALcc12TJAiyiUfjM45Xb\n",
       "gEeWMQCbaE03Hi3xQPM452phcYeSRAEDP4ZtxSCRHjwGTgZiUYbNCzAkVjBw/mN4gh5Jh+Q3QDXh\n",
       "MZDNgIGzAUPiFAODC8MdbvQwvI/dQN5mY0O4gRwHGFh/Yyjx38BwfoEu5waiDOST3YDkQn4FBvav\n",
       "GAYeZmA4X1CUzoDLQL47u+b2ss/sA4su3IDs5f1AA79hCw57LGJwAzk5zjLsz2MIQc9QigwM6ycw\n",
       "sP/FoherINjAK0D8jrmBYf0FhnywKCL9c7lBDPyJRS/zAVwGrgcmzw37H4DSnCLYamdjY2MLsHkH\n",
       "gflk/wQGPmyO0YAxNhqDgDnCQO6DQBPjwd7zBKcmRCIp6gZHCitmpDCwYXMgxEBOOSBxkIHBkoHv\n",
       "FzdI1AChAJjoORoY2DCTDUMkA9cCHAaCshfQbdz/GHgEloFE76ImbAcGJsxShX0CA+8GHAZOAYXW\n",
       "dwa2DwwcEyag5XlQCjBl2ALOENwfgcR+qNmLlZSUsXh5/gJYOjRg4FVg4NMF+4L7xGtkAzfNPQ7h\n",
       "GIHiVgGaCP///4hp3hl/mQRsWY9vBlLWIx1MJlOOLE1XyDFQEY/c+gAyqi43PJJcOiSbyDUHqAUA\n",
       "QduDMdPRGlAAAAAASUVORK5CYII=\n",
       "\" style=\"display:inline;vertical-align:middle;\" /></a>, <a class=\"ProveItLink\" href=\"../../../__pv_it/_proof__success_prob_guarantee/acd32fcced5d827e7e8acea60ad61aa8dc676ec60/expr.ipynb\"><img src=\"data:image/png;base64,iVBORw0KGgoAAAANSUhEUgAAAOkAAAAaBAMAAACgH2ZnAAAAMFBMVEX///8yMjJmZmYiIiIQEBCq\n",
       "qqqYmJhERETu7u5UVFTMzMyIiIi6urp2dnbc3NwAAABLrkmVAAAAAXRSTlMAQObYZgAAAAlwSFlz\n",
       "AAAOxAAADsQBlSsOGwAAAwBJREFUSMe9ll1IFFEUx//O7K4zzjpJoRU9pAZmD8KqD5EQGGEERa31\n",
       "GNFSEdQGLUFUijFBINaDqw+hGLRgvQTiYtGHUg31FEEuBRa54SK9mhIYw2ZuZ2Z2V3d2d+YK1oWZ\n",
       "e5l75vzmnHPPOQOs9yhJ4D8Oj2rOvQ5y3LpSj6Xndgc5OUQ3W3+swVlChTnPNX5NPzl9YaK6kGSQ\n",
       "rridqjg7tTSQXlRmPuPiARwpJMkrxRV3718b9TtdszUdgJbx5J2K7Do7hokohW0Ub2SktpthaDAi\n",
       "NqN6W1F2lcYNiFFa50ahfztRBc1G8SIb9Uy9OS8BYgKuVil8O73jinDVEYv0a6Kiqrhir8ZEffzF\n",
       "nMtI3KVBXOai6SeYB/+wIHVnccXlPgaq8CmaXkkkLvogJsvqMqR3kKZQiPpEV/x+YO5ZdOSzaikx\n",
       "Qy/8TlRhR+bgQjQTh1+wf8OgTiqkOHY9KvxS3ZbI924Rlh2oQp9/JXFCxjQaZaCORhD3qrsh/4bH\n",
       "8pWnFBxysnUVtSRsTHvAQJ1XEReEJbg1cLqLhE3N+tAjUwP8caLKKx7mjTLEhQpI3TR0tqxQe4kK\n",
       "94KOdMVyZffCu1iUOpt3mkxbz4PJVvKwfhD4GCYTiiVdOc1KldoI9G1QMUppbuYYVHcMP1jimiDF\n",
       "ZCXZ3CcHcvaTuBXIs7VSb1ScT2ryW6uEqPt2BHjOeobJ4EtAV3nu/l1czs/XK8AGVU7Ct7oiGvkp\n",
       "UQrITbW1PnvqjF4+z+qK3wJjwJtXufs9HwP6ZnfLiYFz94CnLxVMBMlWjyInM13NUsr4VCpVYQsd\n",
       "PLqVtO5y7HTyIjbjOEpVwcfF0GZWLXd1IE/0MHt7qnKmaujCA4wCnfOK2TuHFbkuv903sPd/zZm6\n",
       "gCGiUij6J82OLV/Lvt6czW6QDPMPVpiVSrZuS9s6Wzg7RD8rlSdHjdsJjOvUTqKW+OWDYkCmuMod\n",
       "j+rt/pucR9BZpOenZ9+H+zFMjyUwHWyMwJVKFe4rJxmhcuhf/A87DY4KxV+Lne/MXHmDNwAAAABJ\n",
       "RU5ErkJggg==\n",
       "\" style=\"display:inline;vertical-align:middle;\" /></a> <a class=\"ProveItLink\" href=\"../../../__pv_it/_proof__success_prob_guarantee/ae54c5ee83d351fe01d4b0babeaf1ba3910455370/proof.ipynb\" style=\"text-decoration: none\">&nbsp;&#x22A2;&nbsp;&nbsp;</a><a class=\"ProveItLink\" href=\"../../../__pv_it/common/bcbd6b9d4ad35855001dc2b200dcea87f75c697e0/expr.ipynb\"><img src=\"data:image/png;base64,iVBORw0KGgoAAAANSUhEUgAAALEAAAAoCAMAAACGnut8AAAAOVBMVEX///8yMjIiIiKqqqqYmJhE\n",
       "RER2dnbc3Nzu7u5UVFSIiIi6urpRUVEMDAwGBgbMzMwQEBBmZmYAAACtm2JgAAAAAXRSTlMAQObY\n",
       "ZgAAAAlwSFlzAAAOxAAADsQBlSsOGwAAAoVJREFUWMPVmNl26yAMRQEzCNF7Af3/xxYpsTPVtRPj\n",
       "xuEhzqKrYkdoOLKqqsPqYmTtKocx8uRhCSMEjw5V9t6lDyD2ykVUCsg22qEcnzglZVx7BmrYytLx\n",
       "iaF5l0NhIOBE0h8QFY1VTazFfwJxFFbDrImCguMTi19PodHggz08caA8pZzzyh8uKmy1GbFe1WPD\n",
       "n7KjUsVwNGKwqbR7L+GIPS/Uql2+3wTkRONS9r/HIZuNDHq61cB9wXNCZTcu/iM3uMSu+deDeKMR\n",
       "a+qlNkVhLw/XVprba1X5AFGBxl/X0iJNLNJdKgUuCiYPbycGb/B2J0oNiHQXySnyj/P21cOy2Eua\n",
       "HGwhhmpmCr+hzu6RKpi1TdG/bgSiHuY8QtiXeBAXR2k3G3w8T2ziUgjS4xodoc1ljbEljrUwefvV\n",
       "qAgzUVFd76TB6QOwd+axL2L3NGfHJnF4hd7VrcUcX2EIfYntiRpi7tGlbzpIGzTld8ATxHpZB2mN\n",
       "OttqUiddMeip/AZTeZknogJolVuIjN9DCZlT4s8Pbl8PimnQawPjwcifKvpRMQVvtM8r/i+/eQa5\n",
       "UkyzZf22KW1vnGB+KPWria8UE8GqkvTuOe+imNKq40N++yw9KSaMCvIWIz9cSBnGaU33JRbFVFF5\n",
       "6Es8pkYbhk1fYlFMuY3ZvRW9G5N56Ev8q2JaNAKuzTQYwdoonRAtyl1h+6L3If5dMS0bCdS4tDtj\n",
       "8TtoaF8qN8ayC/GCYlpDDPI+SeUy1muHsql28fGSYlpDfH6rwMRWtmJNpHYiXlRMTxKffKz38HFe\n",
       "qZiWjQixOxMLZCigouVnT+JuCyLVFgw6hUgcYR6xBnlaNCf5G7wmjxvP+QZuxxodQ86MLgAAAABJ\n",
       "RU5ErkJggg==\n",
       "\" style=\"display:inline;vertical-align:middle;\" /></a></span><br>"
      ],
      "text/plain": [
       "thm_condition_14: {m in {0 .. 2^{t} - 1}, |m - b|_{mod 2^{t}} <= (2^{t - n} - 1)} |- |(m / 2^{t}) - phase|_{mod 1} <= 2^{-n}"
      ]
     },
     "execution_count": 94,
     "metadata": {},
     "output_type": "execute_result"
    }
   ],
   "source": [
    "thm_condition_14 = thm_condition_13.inner_expr().rhs.substitute(two_pow_neg_n_sub)"
   ]
  },
  {
   "cell_type": "code",
   "execution_count": 95,
   "metadata": {},
   "outputs": [
    {
     "data": {
      "text/html": [
       "<span style=\"font-size:20px;\"> <a class=\"ProveItLink\" href=\"../../axioms.ipynb#_sample_space_def\" style=\"text-decoration: none\">&nbsp;&#x22A2;&nbsp;&nbsp;</a><a class=\"ProveItLink\" href=\"../../../__pv_it/axioms/0e6f42e273cac69e3e141b5290cc4b5b45d736340/expr.ipynb\"><img src=\"data:image/png;base64,iVBORw0KGgoAAAANSUhEUgAAAqEAAAEaCAMAAAAWmX5HAAAAh1BMVEX///+urq4ZGRnf399tbW1e\n",
       "Xl6fn5+hoaFpaWkHBweDg4Nubm5WVlYJCQlaWlqOjo4bGxsnJycrKysuLi4XFxc/Pz+/v78dHR0k\n",
       "JCQoKCjOzs4fHx9RUVF6enrMzMx2dnaYmJgQEBAiIiLu7u5EREQyMjLc3Ny6urpUVFSIiIhmZmaq\n",
       "qqoAAABEAaf3AAAAAXRSTlMAQObYZgAAAAlwSFlzAAAOxAAADsQBlSsOGwAAEhtJREFUeNrtnWm3\n",
       "o7gRhpV1knNmSSaZSc/0tAQSaAH9/98XVhtsbMtICLDe+tB9ru81KoqHWoRQEbJSRE0gXmKd5ACK\n",
       "SnVG82a2AGOehAb7o41F2UKczrqV1UAsFUIbRLk8mXENPGhKhLaInsu2yloft794P1IQOs3yZRhC\n",
       "Q1ULZ4uZ3DKfr7OlzLsIgKjdQzYh9GINP0KDVQvC2jO5EE8XukxoXUWKm3vE6ne/qXSQUwro+YpT\n",
       "OVFtSxKcUMJB6EVKGeKUQlYLmadXih3kq1CEquz6aQ1CRxxYiFNSIaFSpwrz1ppQhNbXI8kChA7y\n",
       "9fcQp+RZLdwlonXqhE5CW+KEst9ogMOrsHHZ2uxMhGZbEFozENq5qy86xOF9qwUQekeof630GYTq\n",
       "LzLE4X2rBRB6T2ilQCghv3IW5vCeuVjyhFa8lTzv/uvDGtUglJBf/itA6EF96DURjf58x8cYQZ5G\n",
       "PfqFz9OuDIQGJtS7mD+rD51C+Z+fyRRSexSkQGiICdFzEjrzmdm/1YxZELpO2W9bEOr/UOmMhN6k\n",
       "Jv/6Zc7tgQj9ljyhnCRI6A2g7Cc5MbMnod8SJnSLKB9gcdPpCL2t7UQ5t7MfoT8iD/UndLJypJAJ\n",
       "EnrzkVav/gKERib0kftIq5YfhRYhDw9CwxJqMhAqZFBCv4HQlWKWVhpqAkLDHj7h2aY//jjoYlYQ\n",
       "uh1Sh73op7qdQOh2SCUV5UEoojwIBaEgFIR6I7Tt6/ggFITuNSYIfansNxCaHqEJPZcHoSf0I4jy\n",
       "IBRRHoSCUBAKQkEoCAWhIBS1PAhFLQ9CUcuDUPhQEApCQSgIBaEgFISCUNTyIBS1PHwoCEUtD0IR\n",
       "5UEoCAWhIPQIY+ItEBB6cELxFghqefhQ1PIgFFEehILQNYIdHdbLZv3lP4fQAP3l4UPXy3b95T+G\n",
       "0AD95UFoYELRX34iIfrLg9DAhKK//ERC9JfH7oxBCEV/+SX5qTpeLZ/U7ozoL//imz/8GoRQrBwJ\n",
       "Syj6y4/yfRnk8MhDQxOK/vK9iB8kCD0koegvP8SS7wkIPSah6C/fyq//FCDUW9kAXROf9pdPr3v3\n",
       "5Ujkf/8IdHisHAnuQ70T0fP60Auxt+yilj8Soan2l58hmX83+wBR/kCEor98I9++zj8EoQciFP3l\n",
       "G/n6+9yxgtADEZpif/nbcollUzOD0D1r+TtC0V/+rkG0xVsgu/tQ9JefSdj+8qjlAxD60H2kVMtf\n",
       "JHB/eeShQQlFf/ng/eVB6FpBf3n3b4LQj1IWhILQY5d1IBS1PHzoiQhFLQ9CEeVB6CcTip3FQOiH\n",
       "jglCQSgIBaEgFIRuJod9uR+EbodUUjs6gNAT+hFEeRCKKA9CQSgIBaEgFISCUBD6UlmsHEmQUKwc\n",
       "AaFH9iOI8iAUUR6EglAQCkJBKAgFoSAUtXzoMW1YQS0PHxpsTJHpkpdhx5ScFy+3A0YtD0IdxqzL\n",
       "0lCxwbBCMa4lojwI9RqTlpXYcGhaagFCQej6MU2Araiei+IKhILQtWPqavvRRZmBUNTy68b87e9R\n",
       "xv9bgVoePnTNmLqOpABjqOVB6PtjGhZNg6JGlAeh744peDwNHowFQkHokzGrOqIKy1uvzq7Sg0kF\n",
       "CkITJVSUUXXgL68SW56VKigITZPQLK6BFp+AuhD6RncL7OjwUYQWIqoOqlpJ6BsdgrCjw0cRWkZW\n",
       "gr9C6hGh7l3WEOU/iVCpIytRrvWh7p0qkyWUVx9IqGKRjbGUVTgR6t7tN1VChS0/kNDaRjaGpS6E\n",
       "KqOFZKYwhDJW9Mw6d0xP1ocK8oGEChvZGNYpyjNSaNNqlzU/1fl7tRJWjnxUpWQPoMQdoUoR3qad\n",
       "0rbNVLPhO8NM1ctoj5UjIDQ4od/mhIrGe6ouB2l9dTVkFFS7eX3U8iB0ax865sc9m/mQgPaJaF2C\n",
       "UBC6P6G645C3TCor+7S3De+S8ZJREJpOLU+i1/JuhHZ+sw/1Dayy/f0wIVrWES/6uXzoR86HrlVk\n",
       "tTHcCJXdpFRfIhWMdOF9eKhkxYcRilr+jFFedTNLprsNVGW66r2fbFL5eS868tCPqeWXZFjcZDQR\n",
       "yENB6O6V0r0M70tXhjABQkHo4QgdV1rTKqMEhILQwxFqsvNfdBD6EYSaZRepCQgFoYcg9IMvOgj9\n",
       "iFoehIJQ+NBzEvre5m9yb0Ll+3/wDqGbWSMKoeY0gAprXd+/Mu9tbKDMvoS+VvdewzcI3c4aUQhl\n",
       "OzJXV8YYrRz/mlrr+GKq4ysGkrGqfynBZEEJNbqqdH+dpebWaq2Loh2Cap7nzU+6zPNsrm77h7zb\n",
       "FkzntryD5E5Dd0I3tEYEQrnVu/Epy+5FLFGWbm8hZNbRV43zwYI/DViiffJW9365FOEIpd0yM2I4\n",
       "HW6szsQy77RSg8FFwW7VZXa4V+e7gw1ncauhM6FbWiMCoZUtdyOU52KI3m46aNe7qRpMVD9fOWPa\n",
       "yzEMnlXBCJVj4mR6ly8HtbMuXI0/EaFv1S3Hw8y3+B7O4lZDZ0K3tEaEWr6JnGInQI2tLui53HVN\n",
       "GuqYD4wLZqrnb2upvD3ecHvkIhSh5WW9DudTQqnlU0JJdauuHd8hn9+I41ncaOhM6JbWiOBDmzC/\n",
       "V6lUXM7EODlH5upCL28WcIcErB60mOx6Pba6eGPXgdkB2fUeNBMmVXf1+59U+9LjjbpqvBJirvZ4\n",
       "Fjf7crsS6mmN58aIQaiyfCdCywmhDixI63pjV92lULqwhX51+yk+KMGu+Ms+gRz+e5dQfZ1woBMm\n",
       "2zusvvxk1K267e+H8bLJLydnwfQqQj2t8dwYMQhtDLNTNX8duLr68YpPRM/qhdx1nq68JF4vcxyj\n",
       "9YjFJBfuLscbgM4uVHnNRZqb6sKkMH3x3nzWVPLTfGVUl+e34X9+Flm5ilBfazw1RhRCm5te7UKo\n",
       "vBRI/HUuLLj7tm58cGKVSwE2VK+XjQbGq/IOoI8J7TNPzhgb5yQ7XmWh7tQVlyTmJg0dz6LOVxHq\n",
       "bY1nxohDaF/F7eJExbz4fTrT5A5Mru4SL1FOXPP8SHmvBZ3X4/whoK/6XU6ivLL9RgbF7L4c89Dx\n",
       "2c2g7pgCEmkW09AbDYlr401/a7xrjA0eUxY7zTgNWY8pnXDO3iRUvIoNlPYFW92Xso6Evq6Uquut\n",
       "nz0gVDQcyGym7iUNZXI+g6EuxfYqH+pvjWeELnwWfsPPRoFdJpwEoT2aXF4fBT/MQ5tk1RXRIa51\n",
       "idezM+sn2oZrUvNAUZ4U7dVV9SWzXCK0Cwt0pi6zi0H+ehY194ny662xe5SXeb7PjGgTdbr2kLIi\n",
       "xKVY4675cmEuiVf9DLNcT+JaVgSqlBoGGamVMNcZ+2VCy7m644T6ML0jJmlofxZZsYpQX2vsXynx\n",
       "nQolorO6229CsdrpGYayuSP6PQNaNwX009w2m6R/FQs029Q+zTWmXXMwxFc6e2RGR0JZPleXlK0R\n",
       "5FBNX56zXc+iYqsI9bTG/rNNbLfHnsz2a5Uy67jAKnc8ddqHKFm86jugqqoaq+pJK9VxykWW6wht\n",
       "W79q0z3CoQ1ypbX6Uu0M60h0kV88Kx0jKit0dTHEmHpdz+Km2asroZ7WeG6MCIS6P0rcX5zXEPD3\n",
       "U3Xp9dxikZZ2oUaxXt1aPNfQ+annltaIQGjmGjoPIMp1DcGKZSBVFpxQXdKMr1eXvdDQmdAtrRFh\n",
       "5Uhhi9MQSp39/dv91aWfFZaXZbpmL4vq3iaNdxq6rw/d0BoRfGi+6wrmtzMSx3MX7wJXyPCEkirX\n",
       "69U1rzR0J3RDa+AtkLXnLt87K+P5opLvWyCv1b3X8I23QLazBt6kO4myeNcThIJQEApCQWggQrGj\n",
       "AwiFDwWhIBSEglAQCkJBKAiNSyg6LSRIKDotgFDU8iAUPhSEglAQ+lGEoiddCGOA0M2URV/PIMYA\n",
       "odspKwgI9TcGCJ1L+DexQejh89DDXnRUSmclNDBSqOU/iVCBWh6EHprQOvYLExUFoajl3xhTscjG\n",
       "WNqQEISGkY+cD5U6sjFKRPkbZbFy5PmYsfeP4TEIxcqRDyK0iLtJnKq2RwqV0kcRauIaqFKI8iD0\n",
       "rTFF3DDPCQgFoe+NWcXc8H3ZY4NQEPpkzJhOVHACQlHLvzumibcPV1HHIRS1/EcR+oib8MJYFKQQ\n",
       "5T+NUPLz36OM/9cizlUCoR9HKNERAr0oDAGhIHTlmMxzO9TXorgiIBSErh5TldWWD5dooSUBoajl\n",
       "fcasy9Js4kgFZaWWEZFCLf+ZhDYoZbrkpQ0rnJcvnwmglgehu425x1UCoSAUhIJQEApCQSgIRS0P\n",
       "QvchFLU8CD2yH0GUB6GI8iAUhIJQEApCQSgIBaEgFISemlDszpggodidEYQe248gyoNQRHkQCkJB\n",
       "KAh9x4wuAkJB6G6Ebn0DpEwoVo4kSChWjoDQwIRi5QgI3YxQIRHld1R28RVFCkInUlAQuqOyTD27\n",
       "JiCUEKUR5Q9HaF2B0IuUMgShP6KWD0no8kbCaRKaMXJAQhOq5SeEquuRWA1CB/n6+xEJTTPKT7q3\n",
       "yQKEDvb5jQYhFJVSWEInyVfahIovmoDQIxJaMxDaiv4iQeghCfWvlT6CUPobIyD0MLX8jNBKgVBC\n",
       "/vJncUxCU6vlK95Knnf/9YkXvc5Tr5RdjGFDaOvy+buCKB/ah3onomf1oVMs/5STKaQ+PtSA0MCE\n",
       "ehfz5yR07jXz7/rPvA/PbQVCwxLqPyF6SkLnUf3bVzL7eP3htS1BaFhC/R8qnZDQ29z5+jip/836\n",
       "wytrBQgNSign6RF6CyjLZnb2OiUeNBFNakeHZUIDLG46HaG3X75pWOtHqLK5OM5FP6sPnawcCdAe\n",
       "6/TzoVqFPCVmNaK8L6EP3UeShNIi7CnpgOU8CDUZCBUy8CmZcF40KULNUkajCQgNf0qyBqGHUgyE\n",
       "pnfRl5XFjg4JEoodHUAofCgIPRShR12uBUJB6AkFhIJQXHQQCkJRy4PQzyUUtTwIxUUHoSAUhIJQ\n",
       "EAplQSguOggFoajlQShqefhQEIooD0JBKJQFobjoIBSEglAQCkJRy4NQ1PLwofChUBaE4qKDUBAK\n",
       "QkEoCIWyIBSEglAQejpC/Tfqu9ufiILQB13Ng4qH3ZPanXFhb7GCglBSiq2V9bB7YlH+zlJ1BUL7\n",
       "Zj0sy+p4hLrbPXVCQ/TuPjuhXcOzik7aSm1PqLvdkyeU1ckT2sFSlNmGsd7D7skTGqB398kJ7QMu\n",
       "zW0uIxLqbPfEVo4s7MJcysQJ1W3RIgWR3EQk1Nnuia0c6SwlTNUdR3dhzb9397kJ7ffx541hGN2W\n",
       "0HV2TzHKM1LnzX+ZDVYrnZnQrPOcWb1lKe9j9wQJpTWpWuvoclLKpkvo9pOhfnZPkNDmiuSt38iH\n",
       "tCvAJMuJCQ1SKW5p9yRredU2npR2SLuuCVGYju3RjHECcbM7CL0ltAs2xoYr5k/sQ3kUZT3sniSh\n",
       "RRtfioJ0c9Qhwtx5CVVVREJX2T1NH6rbGWpGujAT4qHSeQnVNCKhq+yeJKFCM1NL3beo4yRlQuME\n",
       "eR+7n4xQE8RSUwmyuOm0hGYmJqFr7C6src9DKPduuXtvqUKmTGiUyVAvu0trT7SCWdsytKVC9O4+\n",
       "L6FxJkO97J5Z63gXZeyddEA+dnaUVWtvXOWsrbOlQvTuPi+hrN6LUGe7a9c+4DQfhmLmyUSrYEx3\n",
       "6wKW8huRDfcNW/0Qh/smonf9uwMt2t1zNtwnKMW6nVbbvUlDnz4cpUYXRfcXdXnJrNXj0NB6znZa\n",
       "1vCqvj+WGcq3enVkVTYXBJKQvHChVXVBf6Aqbz+wD5PclvfuqdbiVELtTShhVuOqJSTKzkjKqqxx\n",
       "dLrJEfo38aa5Qk+V7PLA/GH2kg3PXZfz4ACENvdUheuWEKCzdf8iU3nDZN54KdN6KjGN5n0OSTtC\n",
       "+dMsl/Fusit7TKjymSY28KIJAVrMkjopTIthG6SrthpSE8hoSa+E5s/KFcpbP1pl8jGhpDQe2aSs\n",
       "cekSkftLrc1QtPO6c5tFJ3W7lK9fud9H+WeT/HJKPS1GkTNC69LA/JAV0tZBpmhBbHctodNpJaNd\n",
       "KqVuHlQ++vVIqMxhasgqp2oHP5oV3bzR1B0O1Y1pZ5suiaBg4z8XD0opfTghH6JSgiSdmLbotetK\n",
       "pTb9Cj56S2g7Y38lkLaVFp2UW/mTqWTJSssMCIUEFMHaHFKFpgqEQjbwrxyEQg4t4cpvWmK+CLKB\n",
       "0EBcyT65/T/9jXMMNjZVUQAAAABJRU5ErkJggg==\n",
       "\" style=\"display:inline;vertical-align:middle;\" /></a></span>"
      ],
      "text/plain": [
       "|- Omega = {QCIRCUIT(VertExprArray(([INPUT]{state:|+〉}, [INPUT]{state:|+〉}, ..(t - 3) ×.., [INPUT]{state:|+〉},[MULTI_QUBIT_ELEM]{element:[INPUT]{state:|u>, part:1}, targets:{t + 1 .. t + s}}, [MULTI_QUBIT_ELEM]{element:[INPUT]{state:|u>, part:2}, targets:{t + 1 .. t + s}}, ..., [MULTI_QUBIT_ELEM]{element:[INPUT]{state:|u>, part:s}, targets:{t + 1 .. t + s}}), ([MULTI_QUBIT_ELEM]{element:[GATE]{operation:QPE(U, t), part:1}, targets:{1 .. t + s}}, [MULTI_QUBIT_ELEM]{element:[GATE]{operation:QPE(U, t), part:2}, targets:{1 .. t + s}}, ..., [MULTI_QUBIT_ELEM]{element:[GATE]{operation:QPE(U, t), part:t}, targets:{1 .. t + s}},[MULTI_QUBIT_ELEM]{element:[GATE]{operation:QPE(U, t), part:(t + 1)}, targets:{1 .. t + s}}, [MULTI_QUBIT_ELEM]{element:[GATE]{operation:QPE(U, t), part:(t + 2)}, targets:{1 .. t + s}}, ..., [MULTI_QUBIT_ELEM]{element:[GATE]{operation:QPE(U, t), part:(t + s)}, targets:{1 .. t + s}}), ([MEASURE]{basis:Z}, [MEASURE]{basis:Z}, ..(t - 3) ×.., [MEASURE]{basis:Z},[GATE]{operation:I}, [GATE]{operation:I}, ..(s - 3) ×.., [GATE]{operation:I}), ([MULTI_QUBIT_ELEM]{element:[OUTPUT]{state:|m〉_{t}, part:1}, targets:{1 .. t}}, [MULTI_QUBIT_ELEM]{element:[OUTPUT]{state:|m〉_{t}, part:2}, targets:{1 .. t}}, ..., [MULTI_QUBIT_ELEM]{element:[OUTPUT]{state:|m〉_{t}, part:t}, targets:{1 .. t}},[MULTI_QUBIT_ELEM]{element:[OUTPUT]{state:|u>, part:1}, targets:{t + 1 .. t + s}}, [MULTI_QUBIT_ELEM]{element:[OUTPUT]{state:|u>, part:2}, targets:{t + 1 .. t + s}}, ..., [MULTI_QUBIT_ELEM]{element:[OUTPUT]{state:|u>, part:s}, targets:{t + 1 .. t + s}})))}_{m in {0 .. 2^{t} - 1}}"
      ]
     },
     "execution_count": 95,
     "metadata": {},
     "output_type": "execute_result"
    }
   ],
   "source": [
    "from proveit.physics.quantum.QPE import _sample_space_def\n",
    "_sample_space_def"
   ]
  },
  {
   "cell_type": "code",
   "execution_count": 96,
   "metadata": {},
   "outputs": [
    {
     "data": {
      "text/html": [
       "<span style=\"font-size:20px;\"> <a class=\"ProveItLink\" href=\"../_Omega_is_sample_space/thm_proof.ipynb\" style=\"text-decoration: none\">&nbsp;&#x22A2;&nbsp;&nbsp;</a><a class=\"ProveItLink\" href=\"../../../__pv_it/theorems/ef50cfd78642298ccc5f7a03eb46d72f6b2dde100/expr.ipynb\"><img src=\"data:image/png;base64,iVBORw0KGgoAAAANSUhEUgAAAKYAAAAbBAMAAAAE8unvAAAAMFBMVEX////MzMx2dnaYmJgQEBAi\n",
       "IiLu7u5EREQyMjLc3Ny6urpUVFSIiIhmZmaqqqoAAADsO/sPAAAAAXRSTlMAQObYZgAAAAlwSFlz\n",
       "AAAOxAAADsQBlSsOGwAAAqJJREFUSMftlEtoE1EUhv9JzCSZpEkWLgTFRotPsFWzEWxFfCzSoK1i\n",
       "UKmFIBRBCO3CB+6CBlRqZdxIBaGDFBEUMhJRfKAhLmppoIMrwUayKLiplDTRlNok3sckkpqki0ZX\n",
       "HshkuOeb75459zAAviUmFFRGMPmlCVVCCKv1AT2GL0G8EahYEo/BcaoqbFGXAXicIL7+UMWSQQP2\n",
       "VIXN6jIAC3ueXGwZfn/Rz3a3uMnT9Zy1AU5Rnf0nvZVu6S0wewFjPWdtgG/JnDnW2VJXHcXt9K89\n",
       "vhlrjtwfiz0ZU6RwSzLKnNapHTrw6EDH550cQ3BjK8sI7xMhGOZItmmROm6WN5oszitwePEJ6EkJ\n",
       "GcW4H6s60adR52rZHuIADiliL8esRzHqoplzQDes88Rh+kFNvw9K3NuVoXBExgUgByFNT9yxQJ29\n",
       "QIEDGARmFYZZQpiWaWY0gBjQRt54JEaH77Df7z9ZmsQucjnfJuMyMMecGsQ8cQrEdVUHhsjEaAzr\n",
       "J4fGMqbcOK2RtOQDK26gVCZtf0RB8O0scy7qTlKwWXXkPZ5dOkCczgGGNZOiWEbcVCSbC+SVT1up\n",
       "qrt8uuTndDk60Vzh5HUWygCvk2G0XJa5C2MaBjyHVTNQVaLkNJH+j8CpIXJHLjtJP9O0nz4ydBxg\n",
       "/XQxbJgUlqKZGSAK274NkFo72FilSs7bEK9R5+R6+TpzLsDiRZ+bnbuCbRxAWBaPc+zeQRhkmpkO\n",
       "4AoMxQKMRTZL4ouH3GmTPr5WILyZOXtmbfbp16y69bvbEk28gvDMJ1uTcZkDGGyf0DEEp8ZBMw8S\n",
       "8coPkrTFX/PLQM9oaQxhZfE3nCb1z7WelSmldz556drj7Ev8j38d63Y3XCmo5oY7za7Gv7opIDbc\n",
       "KbV4GqH5BRg16OlJZU4LAAAAAElFTkSuQmCC\n",
       "\" style=\"display:inline;vertical-align:middle;\" /></a></span>"
      ],
      "text/plain": [
       "|- Omega in_c SampleSpaces"
      ]
     },
     "execution_count": 96,
     "metadata": {},
     "output_type": "execute_result"
    }
   ],
   "source": [
    "from proveit.physics.quantum.QPE import _Omega_is_sample_space\n",
    "_Omega_is_sample_space"
   ]
  },
  {
   "cell_type": "code",
   "execution_count": 97,
   "metadata": {},
   "outputs": [
    {
     "data": {
      "text/html": [
       "<span style=\"font-size:20px;\"> <a class=\"ProveItLink\" href=\"../_sample_space_bijection/thm_proof.ipynb\" style=\"text-decoration: none\">&nbsp;&#x22A2;&nbsp;&nbsp;</a><a class=\"ProveItLink\" href=\"../../../__pv_it/theorems/74d48b93e72a62cda3adcfbe238b3fe8174ff27e0/expr.ipynb\"><img src=\"data:image/png;base64,iVBORw0KGgoAAAANSUhEUgAAA0AAAAETCAMAAAAoOJYAAAAAn1BMVEX///8EBAQGBga+vr6urq4Z\n",
       "GRltbW1eXl6fn5+hoaFpaWkHBweDg4Nubm5WVlYJCQl6enqOjo4bGxsnJycrKysuLi4XFxc/Pz8d\n",
       "HR0kJCQoKCgfHx9RUVGTk5M9PT1GRkYWFhYNDQ0yMjJmZmYiIiIQEBCqqqpERESIiIjOzs6/v79a\n",
       "Wlrf39/u7u7c3Ny6urqYmJh2dnZUVFTMzMwAAACfO8fNAAAAAXRSTlMAQObYZgAAAAlwSFlzAAAO\n",
       "xAAADsQBlSsOGwAAFnNJREFUeNrt3Xm/46p5B3Al3ZK2n2SSZumdmd42gAR3AQTS+39ttTZbSLKN\n",
       "Actafvwz95zrI6MHvmIRQllVt8lm0YnoDCk81V7p07lUTE5+w7aRsY+lqjblJcVXfmqBIApQsg+9\n",
       "NZlpMTe1p7RnBqSSHKfIJRCcAFCWlwu/LAEoMsnFuCIdD5BeqjAAFJssCe9WL2YLgMaXJ5UGkCxS\n",
       "FDUHoOSAqjp8EGWW/pQnEFR/Ir0F0DUacfW0rHmKeYS6AKDUgEh4A7QMqKArdYo+0RF79S+1TXJK\n",
       "tE4zz8MZACUGVEQ0QMuAMgZAt8uTSnFKIkn701YZAUBpAZGY6j4CpG8zEaYAoKF2mhSnpOs61Twp\n",
       "zwEoKaCFS1IYoOJ2HMUBqE/ffkpxSqw2qU6ymI2CACgq2ahr2zKgUb/l5IDM1yrB4RM2QJdsEABK\n",
       "CEjGda7vACoMALXR/cGmOLytSbqztHUFQOkAlXXxBkDx0wjHAGR/UCkOz2qa7iz1tDsIQFFjyrjO\n",
       "wT1AVANQlv3MTJrDR41TZ0fLASgZIFnHtRUtIMqalOftP12fpbIAlGV//5vcICA+6cMBUFQPzsQD\n",
       "WmiBboOg1VcFRABKs4bh3v+IWSORcrGimJQ5AEWNKPVbAEVPw+20BXLM/PUvzs8xLVCZtNYQAEoF\n",
       "KI8M3h1A8TeCdgnIbXHK/9LOL7cCKJtMigPQ54ZA9wDFL0XYI6BJv/PPf79W2G0BIm63A4DCUxG7\n",
       "xOoOIJadENDEj/mTGgmIBPQl5XlSd04CgGJCad4BKMFy7N0Bmk57SOISiAP0S8rznDwZAUAxjXmR\n",
       "DNBoMSlXpwM0mza0ekZsK4Aq904QAMXMIVTJAN27+J5oEmFcNDzl4dMCkq52AIqoMrGLFBcBiRKA\n",
       "pEoK6EvaE3WumwAUnFT0/Uqx1ILZDIDSHj7tLFzGnJ47AAWnomZbPTUAeiMg4kzDAVB4+5FymTwA\n",
       "ve3w37+n3ejIOpOvABQ+gkn1pD0A7aoFcncoAaCIK5EFoBMCMk7PA4CCE0/5oNapAb1527nkgBgA\n",
       "pQBEAOjT3/kRQMK5kwpAwSnhZi8AtCNApbtqHIBCUw5AOwH0BYC2CUgA0AlboAKAUgEqAQiAAGgr\n",
       "BQNA+wCkASgVoAKATgiochYRnxjQr7/8GvX3//vjTwB0QkC//vjj6Kd/+uW0gNACnQXQl8T1Bi0Q\n",
       "AKEFAiAAAiAAAiAAAiAAAiAAAiAAAiAAAiAAmpYTZuEACIDQAgEQAAEQAAFQ6u/c2SPdAARAGwO0\n",
       "r0e6AahPP9c/RQL6HwA6YQv0swPoP9ECoQUCILRAAARAd1LqjRUBaDOAFr+/AqBRum4zjxYIgGZp\n",
       "8e0MvAKghWgAEAD5AUrwgrrjANIWYyAAeg1QglekHgcQUQAEQD6ARq94jH9J92EA/YlmAARAPoBG\n",
       "LxlWHID69MefkwDCYtJTARr1W04O6A8kyeHRAp0MUGEAqEnyjwqAAOh1QPHTCMcARP6QARAABQCi\n",
       "GoCy7Of/kAC05STLuLfU0+8qBSDKmpTn7T/dbY/qdvcjMH0CUHhaPFL23/+e6PCJAcnv30c/qfK0\n",
       "gLbbAkUPgvbbAl1BTWlhFg6AvAFFT8PtFJAjJv+98wt04QDIF1D8jaBdAnK7cl++ub8FIADyBRS/\n",
       "FGGPgCZDoW8/uc0SAAGQLyCWnQ/QdCbBlONAAxAA+QNKsBx7d4CmfiRxIw1AAPQY0GgxKVenAzSb\n",
       "ybZ6RiyinDALd3xA9y6+J5pEGBcNT3l4tECnAiRKAJIKgADoeRJLT2/bDIDSHh6Ajgpog5UZgADI\n",
       "N2FjRQAKqzfYWBEt0KkAYRYOgAAIXTgAAqA7gcTm8gAEQJsNBgABEAABEAABEAABEAABEAAB0IkA\n",
       "4fUmAARAaIEACIAACIAACIAACIAACICi0+c3VgSgPQLCxopogU4GCItJAQiA0IUDIAACIAACIAAC\n",
       "IAACIAACoN0BqtMmAAKg0wCSpSWMJP1KxRh//jIyzMIB0P4BFYSISqb/VqkNswotEAAdGlBFqHxj\n",
       "QRIrAQiAjgtI8Dev2dBMAxAAHRWQpW//cklKAFo7YWPFdb7z6+/W+Pp/42sBwsaKaIHW/E67UpSM\n",
       "uVtOmIUDoN0CEmatDPACXTgAOhogyVbLwL2vAiAA2i8gumKM7rxZyQF0p8grAAKgLQKSZM0ssOeA\n",
       "zPJ8N68ACIA2CKhc9XnN5WU9PoBeebEzAAHQat/J5ZpZ0DQUUMYACIA2CIism4dFBs7GivcAmQKA\n",
       "AGhzgJRdNw8kuAVSHID2DYjRAwLSZt1gLPYYvQBlRAHQngHJmhwQUC3WDQatvQBpYaUygousMoZ3\n",
       "pAoDQLtugWR2REBy3WAoP0Am41Y0TsvLT0X+4jQCAA2lhI0V3w5oE5mYAtI6Y7zlJkYC+jnw5105\n",
       "bKyISYSTAfriApKXtqfRUrQtCe27i5Xteo9ogQAIgJ5MIhTt5zo6eT/46QZBBQEgAAKgJ4Bsy4Q1\n",
       "ZPSlFsih76YMI6YCoB0COugs3NrB8ATUtjpdP+5iqR3G9DeCSOFRbwBogy3QIe8D1WsHww+Qqqtr\n",
       "1ecma/tu/VIEj3lDAEIX7uRdON1OWYtWqaairQbdLLbOMwACIAByy+nLtAs3T/1ybGEz+ZYxUNFs\n",
       "pHqUGW/anIwEoPNOIsxTv/EWFZmRbwFks2OlHIAAaDRtMdwMouXTR+v2DEiW4+kZ+vQTAARAXoDE\n",
       "C72rHQOqhBivWGJPPwFAAOQCEssNzCvVe9dduGLEQ+TPPvEYEDZWPCGgBCloY8VUgIhKBkjb2jQD\n",
       "PlGK8bivQAsEQJNy2sDGiokAydiIjnlUbQvUPM4x3hEMgADovS3QJwEVJDWgqrudLLYO6LWvUp8G\n",
       "pF7/wAuA3heMPQCSWoeWis9SveGzhboLiNd1bXpAZdsMWdr/bquAxGuNlRafBfQ8u/Mc+gN6YzB2\n",
       "AEgQHf4cGnlh7xO79ID7pAWSZdcCkY23QJ7PCytjaPeEsSiTAhKWUtvFSFlW19Zazss2yizPLz9Z\n",
       "kuelm93mg6zdGd7mNZlV4lkOvQG9MxjbB1QMf2yMoJ4VUFFKuq0ffZbqseEz3D4GdBlQVVVrUuXy\n",
       "KaCCCiGs/gig4TadZA+/UdI2wO1RiUwHqGrX7WeCVX0FaAOr8jZXuvspk9xMs2vqPlzuBvH9WUxz\n",
       "6Avoulnp42iEBWP7gAy7tSVP6sPVDx8K4+lSPWkpuebOsPlFidTmdi00tClYI0aSJ5+4/SVp2zNJ\n",
       "hrJYFRAtJ1efOx2n5oD9Uv6SJgOkhq09RLsI+fKz7YvejH66xH6aXTIcxn0/Y38W0xz6AhqO/iQa\n",
       "YcHY/ixcX6vL9h/jtZlW9w7YPPdbqiceAApPrG+jrk+avAxIqHBAw3WDPj4jnTdX/D6HuUwFiFwv\n",
       "W4yNAVU1GwO6LewYPl8Pxet2BYazmOTQF1CeeUUjLBjbaIEEZ5dEHgHquleF164refspe6muPkv1\n",
       "EgFy67uoh9ph+2j6AHKvuzQY0HXukXn0/os+g6N3Fg5vofbf/K92DmhuYRAjMrqtnd1PzcRQMcmu\n",
       "Hlou6WZ7OIvJWxU9Ad0mYj2i8XIwtgBIEyGftkBdhay8qpBlXc2tvJbqJQLk1nd+jaHoa88Y0NI2\n",
       "YW0Ju/UmGFDb08y05TW3z2aUNOtzam6XfdUNXvp/XgVkb9msRmSaXnVx/UnoaXab/99/Xzn6n6Oz\n",
       "MDYEUH90r2i8HowNAFKLI7YJIDkA8s8a85xaTdWFc/6YjADxGaDFbcJmZAoeCohch0BPy0ZYO9Ta\n",
       "UQ+grS0v+HHqEan1bTSUX8lI0U27XX5n7egzt+yyfNq3c89ismzXExApM89ohARjA4CWF9tcAXU7\n",
       "maiuW1D57zzp/dEbIJHHnKZT3821G0P7fIwALW8TNm9zxGRe3RsQK8axe9pr6T5djM/+Ul9e8XMf\n",
       "UDfqYcaY4WZMy0mN2t0hu/I6OJoMgYazKPIQQEMwvKLxcjC2AOjhJIIaLls9IO/9UJnvUoYbIBW3\n",
       "VGZc39V1lwrWH/4CaNhYcXmbsEv6x/8xJ9W1cwvZe2PFXM86/ZKMjlstDBn7JRa3SnPXT72Ulrtw\n",
       "uu4uFNyZoxvGQMMt/z67w/gjU2JxCDTJ4dN8TILhF40kwUgM6PHGilU+nAifA1KW6P7qZJxh5vNh\n",
       "wGzIdy9oN0CZtLcbr93Hv/32N036c/vfX69//u23zW/+8Zvb/5zWd9Mf9Tql60wiLG0TNm+BNNFh\n",
       "LVA+BO3JEo6q6sZrRTcL5Vlnnk8i0FtsyzuApLxVhT671yGQca4Tt7PQQS3QAOhZNMKCsZQJ5/Um\n",
       "b2+BJH/UAlW0v6x3hVL4VqHSfyndCJAhOuI83freD0fF0L44gJa2CZsBqmZ3Dl/swrVMH01CdgXT\n",
       "1xnnhnBMFy7jTe3TxXVUswSoLaTKya6pF3twt7OY3LJ+sQv3LBphwdhAF4497MINywM47/7Yb36+\n",
       "WxqiXgRU1DG3Qpz6ftHSyWGq76g4gBa2CZuHYjY49AbUL3VtWrjikYLcjnotJU80idD2twstxe1G\n",
       "6jIg4mZ3CH8/byxHQ5fuLEoeAmhY9/ssGmHB2AAgIbLns3D9Gk7qt7i66laSyBcBmahJBKe+XzJg\n",
       "m8MqmnW7gDmAlrYJa9swJwLh94H6SVhrM/mwy9u+UHQYelCTaBq7mVhtCrWgfe+pcrYtrAZA13AP\n",
       "c8aEtr32qu9x9X90OwtqQgANR38WjbBgbOE+0OKCz9lSnqYllnk17huTyX/cTpk2yXNS2lzbhYT3\n",
       "gWxZtMvAtSn6ZSHOfaCFbcLm+aqCAVXdiSj+7JW7+hKmYT6M3fgOk7mKhAFqJlSsaAugasaxdW2v\n",
       "EwH90lLL82u7VA1xN9zSax1n/RrF21kwHQJoOPrTaAQFYwuApOXz9dYzQJIaYZ06dd1NcrqtJOum\n",
       "QrxK3zYrf20ZD8it76buant5+VfMu3BhyX8pD3t9FKuiboIt3mJpVi7y8OwW8nEOfZfyvDUY21jK\n",
       "ow1/tpRnjfTWr1oVUMDKUFomB2RJVbLw7JonOfQF9NZg7GYxKQC99DwQf/WbXnjnrTeg4tr8hmR3\n",
       "OmCZ5dD7eaB3BmP7jzPELQ947brj3eWnWwckX/XAVXpAGc1teHbFsxx6A3pnMLYPSK22k4bMvc+b\n",
       "bR3Q9G7+syQiN0WIfaT7eXYXnu7wzscbg7GDR7oVtWsQUsb/a0JaRezKs8Z3YleeOaANpG4nOMlZ\n",
       "VQh7d4O4p4CwsSIAhaSPbqyYIg07wbW9yeau1fIGcWiBAKgvp+NsrJgm/y0XcQEku5UhyxvEARAA\n",
       "oQu3kIad4C6Amn/FZIM4AAIgAHreAhHhAFrYIA6AAAiAltKwE1wLiIt7G8QBEAAB0GLqdoKTtqaX\n",
       "jlvz1M/CBnEABECbAoR3pALQbgFtYBbuiAmA0AIBEAABEAAB0PwpqlMDCg4GAJ0VkKwJAMUHA4BO\n",
       "2wLJDIDigwFAK6ZhY8XQ5L2xIsZAhxoDPd5YES0QJhEOBmjdjRUBCIASApLr5kGhCwdARwJUiHXz\n",
       "QCsAOimgY87CabNuMJbeSw1A52iBDnkfSNl1g7G82SIAoQu3U0AZWTcPDIAA6FCA+KqzCJoulxMW\n",
       "kwLQTgGJVe+SUI0WCIAOBUiu2odjGQAB0KEAZXTFGN1p7gAIgPYLaMUm6N6eZgD0poSNFdf4TmHW\n",
       "ygAv1gEUtLEiWiC0QIHfyVeKkjF3ywmzcAC0X0DZX363xtf/K79fTujCAdCOAWX2/b04+WBLWgAC\n",
       "oH0Dygx/85NTmukMgADoqIAyTegblyRU3KoMgADouICyrCBEvKMZkpUhVj0pJwACoL0Dap6gt6R/\n",
       "YXuyxBh5fqcWs3AAdARAnwsGWiAAAiAAAiAAAiAAAiAAAqA2YS0cAIXVG6yFQwt0KkCYhQMgAEIX\n",
       "DoAACIAACIAACIAACIAACIAACIAACIAACIAAaLMVCa83ASAAQgsEQAAEQAAEQOm/0+/ZHwACIAAK\n",
       "/0sA2lzCS4YBKKje4CXDaIHOBQiLSQHorICkQhcOgO6lxe+vAGiUeAVAAHQvGf2oygBQlmmLLhwA\n",
       "vQaooAB0TUSlAPQLAJ0I0J33rJ0SUGkyAAIgH0D61k83BQD16dtPAARAXoCK29sFFAegPj5fqySA\n",
       "MIlwKkCjjv+5AckfbAZAAPQyoMIAUJPsDwqAAOh1QPHTCIcAVH01GQBtOH1+Y8V7gKgGoCz79V/k\n",
       "JgFhY8VttUCUNSnP23+6Tn91u30YmD4BKDzdO0yiw6MFOlsXLnoQtNcWaKzmn/NsbCimBRIAdC5A\n",
       "0dNw+wTkNjn5753fhR+e1RSATgUo/kbQHgFN+p1fvrmswg9vawJApwIUvxRhh4Cm47bbIoTu/4Qf\n",
       "XjsVHoCOD4hl5wM09WPK6QfCc8bSDoIAaOOAEizH3hug2bShJNNjR5ySrnMJQAcHNFpMytXpAM3H\n",
       "LTrlKZnaAtDBAd29+J4SUMXTnpJNOREHQNsGJEoAkirxKYmEbRAAbQaQWHp622YAlP6UVAFAxwO0\n",
       "wcp8VEAYA6VP2FgRgILqDTZWRAsEQGiBAOgwgLa6wByAAOjY3wlAAARAAARAAARAAARAAARAAARA\n",
       "AARAAARAAARAAARAAARAAARAAARAAARAAHQoQBqAAAiA0AIBEAABEACtBygDoASA8roEoBMC0gAE\n",
       "QAAEQB8HxAAIgAAoPJHEu/4D0D5SUecAlAIQrw0AnRBQWTMASgHIJn5tBgDtIwnnbQ8AFJxo0g1j\n",
       "AWgvydQcgFIAcgMJQGepN9TpeQBQRF+YANAJAXFn8giAgpN2ZmPC0iwHFQAtRCV5iok7cVagAFB4\n",
       "ISTYq2y2vTyvACgj8t2ZjYl7XlcAlAJQVtcqeUEWFICqdnLGlGWxHqAX4u6+MRKAwhOLf55h/oIT\n",
       "BkC0CQqtekjrAPKPu3J77gAUnmz8Wp55QZri9IDausxJ+caOXETctTt3BEDhScTfSZ0XpOJnB9T1\n",
       "pqq8ztWKgLzjLtwFKAAUnnT8PPbCO+qIOjkg24zRlcwUEysC8o67dR8DA6DwJOOn4dqClIK2fUHb\n",
       "9lkKc25A3Tti2SUwpnovoLC4M2cOAYDiZhFUioI0WZGPioKdG1DZtjtl8c5JuIi4y8ndPwCKKYbo\n",
       "WYSmIKsio03h2b5DSPWpAb3/JlBU3IvJCkgAihoE2QQFeakweXPVzfsuf4LZ2x0DUqssMAyP+2QI\n",
       "BEBRKa8TFGQDUTb3F/ou/60zXgenTwDaQ/KL+ytFDkAxidZVCkBtT0LUL04HHbMFYqtkNjju1bTT\n",
       "AUBxfTiToiB5UyicZ+2twxR9mP0C0nRFQAFxF9O9zAAorg+XpyhIapsbhyZrNaZYirBfQLZaEVBA\n",
       "3Mm0wAEoKonI5XBdQUprRKGsqFL1YfYLaJ0eXHDcq1mXA4Aiq41NUJDjlGQ59m4BlWJNQK/H3dYS\n",
       "gJICMrVMW5BcnRnQKjeBwuMu59dLAIpLMm4aYVaQkmQnBqTW2mUiMO5iXmUAKHoUJFMWpCjPDMgU\n",
       "nwLkF/d83s8DoOhhb0wTJKaTTomeIfvkTcqItNo+YWFxX7pYAlBsKmqVIZ0hyaWljwAUnShH3TpF\n",
       "sksFDUAJOnElKtcJks4lALmA2hTf765yiep1/MSmEw/sYwt3N9KlLduU4E3BGqOgE1SXWUXp6s9p\n",
       "ux//D9Bh5cH+2Q7lAAAAAElFTkSuQmCC\n",
       "\" style=\"display:inline;vertical-align:middle;\" /></a></span>"
      ],
      "text/plain": [
       "|- [m -> QCIRCUIT(VertExprArray(([INPUT]{state:|+〉}, [INPUT]{state:|+〉}, ..(t - 3) ×.., [INPUT]{state:|+〉},[MULTI_QUBIT_ELEM]{element:[INPUT]{state:|u>, part:1}, targets:{t + 1 .. t + s}}, [MULTI_QUBIT_ELEM]{element:[INPUT]{state:|u>, part:2}, targets:{t + 1 .. t + s}}, ..., [MULTI_QUBIT_ELEM]{element:[INPUT]{state:|u>, part:s}, targets:{t + 1 .. t + s}}), ([MULTI_QUBIT_ELEM]{element:[GATE]{operation:QPE(U, t), part:1}, targets:{1 .. t + s}}, [MULTI_QUBIT_ELEM]{element:[GATE]{operation:QPE(U, t), part:2}, targets:{1 .. t + s}}, ..., [MULTI_QUBIT_ELEM]{element:[GATE]{operation:QPE(U, t), part:t}, targets:{1 .. t + s}},[MULTI_QUBIT_ELEM]{element:[GATE]{operation:QPE(U, t), part:(t + 1)}, targets:{1 .. t + s}}, [MULTI_QUBIT_ELEM]{element:[GATE]{operation:QPE(U, t), part:(t + 2)}, targets:{1 .. t + s}}, ..., [MULTI_QUBIT_ELEM]{element:[GATE]{operation:QPE(U, t), part:(t + s)}, targets:{1 .. t + s}}), ([MEASURE]{basis:Z}, [MEASURE]{basis:Z}, ..(t - 3) ×.., [MEASURE]{basis:Z},[GATE]{operation:I}, [GATE]{operation:I}, ..(s - 3) ×.., [GATE]{operation:I}), ([MULTI_QUBIT_ELEM]{element:[OUTPUT]{state:|m〉_{t}, part:1}, targets:{1 .. t}}, [MULTI_QUBIT_ELEM]{element:[OUTPUT]{state:|m〉_{t}, part:2}, targets:{1 .. t}}, ..., [MULTI_QUBIT_ELEM]{element:[OUTPUT]{state:|m〉_{t}, part:t}, targets:{1 .. t}},[MULTI_QUBIT_ELEM]{element:[OUTPUT]{state:|u>, part:1}, targets:{t + 1 .. t + s}}, [MULTI_QUBIT_ELEM]{element:[OUTPUT]{state:|u>, part:2}, targets:{t + 1 .. t + s}}, ..., [MULTI_QUBIT_ELEM]{element:[OUTPUT]{state:|u>, part:s}, targets:{t + 1 .. t + s}})))] in Bijections({0 .. 2^{t} - 1}, Omega)"
      ]
     },
     "execution_count": 97,
     "metadata": {},
     "output_type": "execute_result"
    }
   ],
   "source": [
    "from proveit.physics.quantum.QPE import _sample_space_bijection\n",
    "_sample_space_bijection"
   ]
  },
  {
   "cell_type": "code",
   "execution_count": 98,
   "metadata": {},
   "outputs": [
    {
     "data": {
      "text/html": [
       "<span style=\"font-size:20px;\"> <a class=\"ProveItLink\" href=\"../../../../../../statistics/_theory_nbs_/proofs/constrained_event_prob_bound/thm_proof.ipynb\" style=\"text-decoration: none\">&nbsp;&#x22A2;&nbsp;&nbsp;</a><a class=\"ProveItLink\" href=\"../../../../../../statistics/__pv_it/theorems/919910b0de3c957ae04a79e2f88491f4a03fe36f0/expr.ipynb\"><img src=\"data:image/png;base64,iVBORw0KGgoAAAANSUhEUgAAAsYAAABkCAMAAACy/QZLAAAAPFBMVEX///+Dg4Ourq7Ozs6/v7+I\n",
       "iIgiIiIQEBB2dnbu7u5ERETMzMzc3NwyMjK6urpmZmaYmJiqqqpUVFQAAAAE96oRAAAAAXRSTlMA\n",
       "QObYZgAAAAlwSFlzAAAOxAAADsQBlSsOGwAAD7VJREFUeNrtndGCqyoSRZ2ZCwKKIPz/v44CIihK\n",
       "adSYvvBwTncrxMiyLIpiU1UvLY02Rd1dp5TfKtj2cfK3V2JM5FC6u+uU8ltl7GCpdPK3V2LcPlKn\n",
       "lF9kWW//9hcxnv2LXpbeLxj/KMbCOxi8GOqC8a9i3EzmuGWl8wvGP+sbc2r/J33p/ILxz2IsnUvM\n",
       "S98XjH8X46rGY6lJ6fuC8Q9jLJrxX0ZL3xeMfxjjVk3/pEvNDn2OZENTqIBUMH4WY2OIiY+7USHi\n",
       "ALIFvGd6xFnVqkm2jIiUruJYQRSSCsbPYtyjcIDHZGdAbZBirKvmCZJ6RFOkP5PWhmDBJoy74moX\n",
       "jJ/FeGBYzl6Atk6yEE1kjQd7OxwhSw/aGXHmHgONpgq8+NoF42cxJr2Hrle1CSAjuXAqjDleUVyh\n",
       "brbUQ8FsqlDC0AXjhzFuaxWM0IyTwKo1xkiv3WJ3InPnazJV6It3XDB+FuMqGLYJg18nExiTOoFm\n",
       "o8YWex00byp0ZW67YPwwxmHYwgAsOTOlDzAmFOlp4prNRWODrh3iIc99UzAuGH8P49qGKcjKGo9+\n",
       "ccIcI3NmS80Yj1VNcSoKxt/HmDqDG0zqWYwFdcGKhVttj5IKDQ33TeV9Y1RmQArGX8O4qR2erAkw\n",
       "pgLjAWCqNF/k1rs4Mte6Gymfh3isZC8XjL+GsZx8AWr833D6I229UwPGRaijlILxoxizPjHVfHgZ\n",
       "tao2Z/tKKRjfjzFJebRnMC5rrwvGX41UJEz00Qw3lPY1DOEY41fbaTRcYF8w/lGML5Vh4dum+BeW\n",
       "mMhXrhBv8dI07Aqp/Fsxvk6GRew8DC/CuN369Z0YV0StHrcdIZV/K8aXver7mv4CxmjhOnTo5RhX\n",
       "tcziWjC+CmNa71HA4zHjQwoviGnNlJtbd5+8yof2OX1vxbhL9VHB+B6M1a7BNQe/oPCiTRi79c4/\n",
       "TVzllKz6VowrxQrGD2Hc6C6L8fMKL422LgObvqZIoDrN/LwW41b3BeNnMOb73i+P7N5jqfVTpjSf\n",
       "vmaddD7pLsbfXzvOcMH4EYz7fWPsMH5c4YVP6dDO/PfJT3b5IlsYfz/1dHqpFIxvxpjjCoDx4wov\n",
       "zjXGkzcj3CdThBRtiHsruJDWplMhv75MltUF4wcwTpiLJMYPK7x0miFElF8kO9ndUYYAKVQJ+/BJ\n",
       "vsZY4KDob+dQ9yvvuGB8A8ZKUxDGOYWXZNlhqA+vfv0kkfHbUTU/Nm6+WbZjD1O3dKXq69wQr+df\n",
       "nqjW/M9h/I/+32V1rsGY6pz7yIPhEtlxo1PiLou2EUHI5dEtZh9XvHPLp/ZOQW0rjG0LHtyEbKSC\n",
       "8vqrSU9quap3C9D/6O3fCsb7ReoeiHGs8OKvYlJ4qVLiLhHGnQk5t/X4L12Y9ZXUiw0X0zllJGCx\n",
       "no13l7XGLSffTWzqNPlrGL/PqWA5n2JGN1J4mayoCEzNWtwlxLh3Q0kjUySWBnIh9dJpaR1LsXAq\n",
       "Kjc1RmnY6LZvjL8vyK/r4hvfjDHVuIJiPCu8jK6B8Q5QbAVX4i4Bxu30bjX9gxcNLePRwj5dZBx/\n",
       "2nrMPEJ0sPxqxMJZOCvRsW2N36BZwBZeRcH4coylJmCMvcILasdJ1mHotFz2tBJ3CRVgpnZIPb7p\n",
       "44aWq7Lb2mIsB4y7MLTW64aKoQH3xykMt4Vx+4a8JrS4x3CM37pX0YTekeu7FWOlOzDGXuFFGtvY\n",
       "xAovllCxibGPOHPljaRvaGE2yVisigafDH5jDDgVCA3Iy8l2424XY9a8otP5SYzfulfRhN6R67sV\n",
       "4zr/6koaNPvZocJLFYm7JDCWwWX3Km4IMt+GE0i2zjnZtMav6HUd3xU4xm/dq2hC78j13YkxwDVO\n",
       "YjxqCrSxwktS3CX4dmw40g1nYBlC6xqCSL3IxBlTupB89f6APH7lHfCNX7pXkUfvwPXdiXGv2XGM\n",
       "27oi3IZ6w0m9lLhLOMSrW0lR4ybj8KIhiNTLen2hNwLvxljEE6UHMH7pXkUevQPXdyfGIj/CS1yi\n",
       "QB1BiFaBwsuGuEv4kLRCIaWoNb4WybkhiNTLWkfDV3o3xjI2FkciFe/cq2hGD359d2LMdX8C4xAt\n",
       "r/CSNqDL+JeoqLFMy+kOkNRLu7DYyN+Ad2PcxJHjIxi/c6+iGT349d2Jca2bzzDO+QFLELVyq4UX\n",
       "2i4fSr28G2Oq9VmMo0yWYK+W4FlGiDRZa0iZPlwHgmR0fbt7zdyJsdb554h/oFPB1o11wYBw7rNP\n",
       "sh7Q8FZ79xbwOrIWh6Y/5kyWaK8WnwVgzKHIZ2y1QePQOtsPhfSdF2fa7Ow1E9S5GuNWXzRVtCXJ\n",
       "sneFdOPn58vtei048t22MG5l4rc5kyXaq8VnAVh3JY8kDT4UWgfiIMSZNsm9Zm63xj0g3haY1uYW\n",
       "x+Mdo7Cj5pwe8Vd5FKo4NhntM1mivVp8FgBX1JqLlshxNoIy3PRIUSlVNw7BsURkjCFZjIkcI0JT\n",
       "nfmoq2xyEM1WBPZE1EsiM+jFmTapvWZuxxjpA/wpWf08xhfqtTQYzrGKAkLHMPaZLOFeLfOIuMUa\n",
       "GwLV8OcxedAsYuXMZU0ZSBB3GI/T/oNz7ev4o1NlIuz8vj1xHIe3KINesJdSld5r5naMiYbPDilS\n",
       "/TzGl+q19PA3mYgkyo5h7DNZwr1awiyAwUkejX3b2t0z2nG4w4iTvbba17ozGJvkbDPr7+r4o64y\n",
       "Hdtu6XRio0VPc+iFeylt7DUDwviD/BEFV4CTeS2LVmGtlRpGHunr6PgX4p+CzG+5i/VaiIKbC34a\n",
       "43mvomCvljkLgFoUrD+AkRvLKRRhXEuDsaytWpqv44+6yp37zOnEjulkzk2EZBiWWKcjgDH+IH+E\n",
       "gVeq2WT3nDVu7GPR1hvMP48xUU09meAzei393j3FEowxPo+x74Jgr5Y5WmYfJWwvhiGaxDi0xmEd\n",
       "f9RVbh2D7sSGbpivLSQ39poBYfxB/ggHY4z354qn9XrOum+lf/LHMa77zo/Fjuu1SCz2HOBd6bt4\n",
       "DFJ/jnG0V4v/UsZatspuAIOHcZnBmHmMxz8j5nzj8TVJka/jj/rKozMyzk/ZE02eC4MjubHXDNA3\n",
       "Pp8/gjWQK1lXRzBuNiIgj2Pchff0qF4LwiS32hZoBWQU2DyJcbRXi88CEN2Y1DperZCy4YiqwTTJ\n",
       "mnetGVc2WvZIjMkCxmIRI+ru60xHp8rTCe7/XiCZXAGWQnJ7rxkgxufzR2ooxjlvYIFxtxEBeRxj\n",
       "gkP/IHlJG3otlGAEeEra5zBeXt9uFoCHpD5/dKfeLas/TueP1Bq2hRiCigA4jInuxwEd6snoWo6p\n",
       "7taB50IOPz6WdChVjZWYB3sOAIBey2BaQH4vh43y+usxBsNz/ujTGJ/OH6k1bJCCc70VYUyRnTat\n",
       "Rd8OH9CY+T2zlI6bH/lzCijhYwrXa6EKqm3Ra/pqjFu1977dP/o4xgsllEANwr76mBZEpOK+GoZx\n",
       "k00g8hjjwemaorMYm1lmTHwb1nh1+lgGxXnNlja88AN6LWCMKex11n3NGt9TblpSGuZnhGoQfqyy\n",
       "MR7RGtRdKutCeYzZ6o3buM8YH3x3CdvxkWSO1HnNlj5E4YheSwt0KlKCmcmuCq12wTgsgQxLkJ8R\n",
       "qUFMGJr+ZTyB8X9Bvoc6h7GwKFl8xkMTxgsw9yVbPtBsCUd4B/VaQEO8ETZIh/4TYfyfKzBu0BdV\n",
       "Fu9a4O/zM2I1iKnXetNfzUlr3ORdjzTGJLLGYssaZyRbzmu2VCzkHK7XAg64jV6FBN3Bq63xOFnA\n",
       "/hzGPj8jUoPwHiKSKBX7B2KM8he9g7Gb1jEO8eRmjNiCJVvOa7aEVveUXktm+gP2prIYX+wbf1e5\n",
       "4C6MfX5GpAbhO2PsPXI6UsHy0UU/GR06Ltga3ca8BgzT3DxsZrAJl2w5rdkyQB+a61N6LT1vLnCO\n",
       "rx/imZmGP4exz8+I1CBC17jXpzGugaunW8W19gGRTula9Xa8RIjq7FC07zpkfoRLtpzVbFl+51N6\n",
       "LdlC9Fcw7sY9Ef8exr7LQzWI0DUmKZOKIRhTQOLFqURNoGTLec2WxTqdM3otgDFe9w2M/2TALeiW\n",
       "UA2CEvtqNW9yXHWr8zkk7NkATjqDMVSy5aRmywD5Ivp7i14L5O4Mr4W6YHwobT5UgzA5iojpkY2G\n",
       "JwRNGGQWp/9UBCBVDki2nNRswWyVmAnVa6GhsGzz+btqQBIXjA+v/vBqEFUGQAXrgztEAOCSLSc1\n",
       "WyRardC9Ra8FsvIAfZI2/6/F2KtBdJnBrID1QXsDxiFdmWSt6zRb7tBrgawDixeLFYyBbU1qEPLQ\n",
       "7d08id6LcTbgt/WUXqjZch7jGvDdRfTWKxh/2tbqxoH64F5JlsMYX67Z8pFeCwYEjtkHC/wLxoBA\n",
       "ECBvWn37fr5bswUDbiEHya0UjM8CAlENgmCs7rTGt5ePVIMgGNfnxa8KxpDxCaAN8W3f+D7D/onc\n",
       "yhGnIpbKKxhfjTEGzEGRuyMVD5rdK+VW4EO89rwwbMEYUhRgNhpB48b/NrkVh3E+ZrlYYVswvhpj\n",
       "BJj/ODD98ffkVgAOgwDcZVIwvhPjDhBx6wGOxx+VWwEUCpjPV/F0fsH4aowpIFQBWPzxN+VWgL2T\n",
       "Tw3CZzcUKxiDx3j5RuCJmn9IbgVaAIlTdBGdLxhfjjEBmFrMj2L883IrR0YXbZ50VTC+F+MOkByk\n",
       "6mMY/7zcyrFYz1HXuGB8PcaQ3XZlfv7jDXIrCR/1rNzKkfvHDt/igvH1GIt8OK3Ju3/Pya1EEkhx\n",
       "MpBIvM5Dmg7IrYBLmx/hNcsXXsH4eow7QMDoTXIroQTSQm5lpbbyidwK1P3OdwJaWoGC8fUYV3Xe\n",
       "8xUnxa9ukFuJJJCWcitLtZUP5VZArjFg6/i6KhjfjjHKe6p5Z/YpuZUqkkCyCG2rrXwst3JsDLnV\n",
       "faRgfD/GkMVkWMAwvl1uJZJAsnIr22orV8itfD76VatTCsZ3YAxYpCRBMt0PyK1EEkhWXGVbbeUB\n",
       "uZWs8HNF11aiYHwHxpCsAOCmCQdfA8flViIJJC+3sqG2cr/cSgcZ4LUF4ycwzm+JkDfHT8mtRBJI\n",
       "E7VJtZVH5FZY3h9L7K9VML4FYzdBsc8puRbjk3IrsQQSrrbVVj6RW4EbY3rGRBSM78G4z7fUgLZ3\n",
       "PFDOya3EEkgGyw21lSfkVjAgK0hWBeOHMI6k6bfMCrvcN/Z9fVBuZbaGJEPpyvheKrcC2GxXsapg\n",
       "/BjGkG1jv7f1+Tadsb39QG3lDMZd/kt3yW1M/wLGpqgr6pxpa9tnAKx+7l+HcTTfd1pt5RzGDc/f\n",
       "Mry8JGz7bH1i9Pets15TqJR2b/QL6pxpa9tuACzZjlD/rapBQLmV82orZ1SDKIBi2q2fFlOq/b9P\n",
       "v/0f8MMlOlaWE0AAAAAASUVORK5CYII=\n",
       "\" style=\"display:inline;vertical-align:middle;\" /></a></span>"
      ],
      "text/plain": [
       "|- forall_{Omega in_c SampleSpaces} [forall_{X} [forall_{f in [X -> Omega]} [forall_{Q, R} ([forall_{x in X | Q(x)} R(x)] =>  \\\\ ([Prob_{x in X | Q(x)} f(x)] <=  \\\\ [Prob_{x in X | R(x)} f(x)]))]]]"
      ]
     },
     "execution_count": 98,
     "metadata": {},
     "output_type": "execute_result"
    }
   ],
   "source": [
    "from proveit.statistics import constrained_event_prob_bound\n",
    "constrained_event_prob_bound"
   ]
  },
  {
   "cell_type": "code",
   "execution_count": 99,
   "metadata": {},
   "outputs": [
    {
     "data": {
      "text/html": [
       "<strong id=\"_Omega_sub\">_Omega_sub:</strong> <a class=\"ProveItLink\" href=\"../../../__pv_it/common/cd5a47365483b766cf71e2cfb0eaff1126aa163c0/expr.ipynb\"><img src=\"data:image/png;base64,iVBORw0KGgoAAAANSUhEUgAAAA8AAAAOBAMAAAACpFvcAAAAMFBMVEX////MzMx2dnaYmJgQEBAi\n",
       "IiLu7u5EREQyMjLc3Ny6urpUVFSIiIhmZmaqqqoAAADsO/sPAAAAAXRSTlMAQObYZgAAAAlwSFlz\n",
       "AAAOxAAADsQBlSsOGwAAAHJJREFUCNdjYGB4e+b0AgYgmFHGwNaRAGSEAIn8BgYGnr9ADvdnBgZ2\n",
       "IGbg+c3AwAFmfGdgYPoEZPD+YWDg/AFksH4DEvpAXfMPgHgGDAwngDQbI9CMSE6gYoZtDJwXmIBm\n",
       "2SkycOnZAkX+/2Ng/v+HAQDoDxsG7V8uywAAAABJRU5ErkJggg==\n",
       "\" style=\"display:inline;vertical-align:middle;\" /></a><br>\n",
       "<strong id=\"_x_sub\">_x_sub:</strong> <a class=\"ProveItLink\" href=\"../../../../../../__pv_it/common/674a03b9c3ca221b3aabd5636837b31528ff33830/expr.ipynb\"><img src=\"data:image/png;base64,iVBORw0KGgoAAAANSUhEUgAAABIAAAAJBAMAAADN8WE8AAAAMFBMVEX///8yMjJmZmYiIiIQEBCq\n",
       "qqqYmJjMzMxERER2dnbc3Nzu7u5UVFSIiIi6uroAAACibcT0AAAAAXRSTlMAQObYZgAAAAlwSFlz\n",
       "AAAOxAAADsQBlSsOGwAAAF9JREFUCNdj4Luza24v+8w+BgZOjrMM+/MYQhgY3jE3MKy/wJDPwLBh\n",
       "/wOG+A0MigwMDPEMIMoTyDrIwGDJwPeLG8Tj/sfAI7CMges7A9sHBo4JExj4DBh4FRj4dBcAAHmM\n",
       "Fol5FJjkAAAAAElFTkSuQmCC\n",
       "\" style=\"display:inline;vertical-align:middle;\" /></a><br>\n",
       "<strong id=\"_X_sub\">_X_sub:</strong> <a class=\"ProveItLink\" href=\"../../../__pv_it/common/0107914a254b4cba063b4849ea3d536e6979ec8c0/expr.ipynb\"><img src=\"data:image/png;base64,iVBORw0KGgoAAAANSUhEUgAAAHIAAAAYBAMAAADUnLRyAAAAMFBMVEX///9ERETMzMxUVFSYmJgQ\n",
       "EBDc3NxmZmYiIiJ2dnaqqqoyMjKIiIi6urru7u4AAAB85a56AAAAAXRSTlMAQObYZgAAAAlwSFlz\n",
       "AAAOxAAADsQBlSsOGwAAAWFJREFUOMtjYCAAuBMYyATvydXIsBqPHN9dPJKZ3ZOwiGZBvHD6Hj47\n",
       "d2ETZDJ8ACS5/gGJmcexBER6tRADwz8MXX1AgtEASHA2AANwAV8bhkY2AYb5F3gD0EQfV/+DagIT\n",
       "HgwMEzF0MicwsAbwGDxCE+ZB0SnMwLD+AbpO1n8MzN/YD8zDq/M7A4P+Agw7GxiYPzGVKODTyQfS\n",
       "6YAlDDk+YIohdLJvYGD7CdR5AItObIJgnTyggEt1gOicgEVnMwMOnWy/GBiS9wJTEVDnfSzGswvA\n",
       "WK87QKAJrpPh8S4GpsIH4BBavwBTpzMDLjsZZl+AJAdBBgZ/jFhh4JrAkIZDJxcsmFwZGKox1Wgy\n",
       "MJzDFbYBUJ0cC/iCILlxA9DXv6Gpr728vAFTJ+c35JTAV3kYEuEcBUCiHRqZ////34CZJk1/myDp\n",
       "JBlQqJMngAyd7BugyYFk8BScytOtSNaYCdQCACw2ZRDDxSPaAAAAAElFTkSuQmCC\n",
       "\" style=\"display:inline;vertical-align:middle;\" /></a><br>\n",
       "<strong id=\"_f_sub\">_f_sub:</strong> <a class=\"ProveItLink\" href=\"../../../__pv_it/theorems/f60246258cb07b4b2a981281323ca9b15a596f7d0/expr.ipynb\"><img src=\"data:image/png;base64,iVBORw0KGgoAAAANSUhEUgAAAjUAAAETCAMAAAD51gccAAAAflBMVEX///9tbW1eXl6Ojo4bGxsn\n",
       "JycrKysuLi4XFxc/Pz+/v79aWlp6enqhoaGurq4ZGRnf398dHR0kJCQoKCjOzs4fHx9RUVGfn5+T\n",
       "k5MWFhYNDQ0yMjJmZmYiIiIQEBCqqqqYmJjMzMxERER2dnbc3Nzu7u5UVFSIiIi6uroAAAAy42bs\n",
       "AAAAAXRSTlMAQObYZgAAAAlwSFlzAAAOxAAADsQBlSsOGwAAEJFJREFUeNrtnWm3mzgShjVbz3Q6\n",
       "vZykk/SMEJvQ9v//4JjFNmB8DaiQAb36knNvrqFUelyqklQqxtDe29ysdrpuc4uh96GG7I82bZVQ\n",
       "lI9LNEY+AmqYpBznLFUY+RioYWlO9ihF+CxQ86DdioYalREIal1F1WfN18+UU78sQE2vlQUJNbkr\n",
       "Sca6JOpy4da7wtJ+pKfNoxLitgU1VpPMUImjcUkql9FQw9ebmmlqsiSQp/AO72TpJ3lF0SXjqGxE\n",
       "KWhcYQ9TM00NE6DmNrFIii5Z56jilcIZElPjM8Y9auzdpZYZqOnatz8puiScJOtlmb6dvR412f05\n",
       "VQlqOv18LQgeT2hq6rmFwLPRXgJNU9ObzOOmRn3RFI/XjlN20/9hys/NekJNJkFNM9xfKorHC5cQ\n",
       "dlM77xg397NXT6jx94dPQU3xVdI8nsaDvc133t/p0m/GfEZNYkENY3/8rnZIDXO+/rByflahoSYR\n",
       "dUvT5p92Ii/ua1uhV9w8tEm0Pvjk9z7rjzllP0vfKSr3tFbPbI23Y3NYW9ND5bd0AI6PrSGlxvhO\n",
       "UdrZTajxDqKOSc3QuqS/Dn61G2oK3ygq9RydJ9T4L9gckprhjPT5Gxv8ejfUMM/lH1+35hk1/ovD\n",
       "B6Rm7Ivdl4Xb/9kPNdxvhsl8N8WeUCNYfNSMoZH5YNz9qPlM2tHELyZLfP2iaWoINr0PR834w4q/\n",
       "+osl1PxC2lHPszrcd09ieveyrECNtoSPJ6am8FuxSX0j98mTEoqz+KgZD0xJ+XjiGUr5LYd576VO\n",
       "UmNyUKMqUmpy4p76WIvKewnWTL1dM1BD+3hqaoSPZ5I5wXbaQM2GM9TFn/UIogzpuQ1Qcxhbo31i\n",
       "Z0l2hhnUHIoar4wH7TSooRnWbRNnqKmRPpNMSXpGLGJqthaMnhoPh5aDmjipMT7LfJQJE6BmS2qI\n",
       "Y6jcZ8klBTVx2hpPagyoiZGazI+aHNSAmndLA2qOQY31o+YvUBMjNZ98tq2d+wFqYoyhPKnJQE2M\n",
       "tqYANaAG1IAaUANqQA2oATWgBtSAmvNS8/17AWpADWwNqAE1oGadIo91AhTU7IKaraHcEzXJ9wrU\n",
       "xEiN+v7dZ76ErTkGNcS7l2+eoTar9HMeagjqQ53Nr9mu0s9pqCGoDxUFNaj002sU9aGioAaVfnqN\n",
       "oj7UialBpZ+pRlIf6sTUoNLPVCOpD3W2GAqVfj7+JE19qDhsDSr9XKNumvpQkVCDSj9tI6oPFQs1\n",
       "qPRTt0+Cqj7Uvqj5i4KaDyv9xEzNz/9R+6Tm0z5tzd2xia8+1LP/8KkPFUUMFWuln2Gtn3//xPrg\n",
       "wK95QU2klX6GFTjyf9kBR6DmBTVRVvoZV235589DlkDNC2pirPQzhkb+o+opGtS8pCbKSj+jTw9L\n",
       "kPjWhzotNaj0M2ijSj8O+1CT1Dz7msW5XkNc6Sc/PzWo9LP3Sj9vpgaVfuZ/EtTseARBDagBNQxZ\n",
       "dKBmF9Qgiy4CanATyTmpwe0AoGZ3ygA1oAbUgBpQA2pADag5DTWfQQ2oga0BNaAG1IAaUANqNqAG\n",
       "teiipAZVxRBDYYYCNfBrQA2oATWgBtSAGlADakDNHqlRueaCO9omRPnyiijEUIelJuPcFGqD1yor\n",
       "ha5ga05ITcETteGrC64VqDkbNabcOpvDCgtqzkWNTrZ/u+I5qDkTNV9/BHn/38tDUIMsulnv1KG+\n",
       "W1IGogZZdJu/08hgEpTT44EsusNRo0Q4CZ68C37N4ahJQupo+uqfATVPnIoC1OyIGoqLvxY08ZKa\n",
       "6UJuy8pGgpqN35nnQWWY3F2YQ82iGzRBzcbvLFVQGWyykppFt/WCmo3fyQMLISbH6fNrapbcDA5q\n",
       "tn1npQMLwdfamiVVCHZEjUhOSI2VgZUxNSPOomZJxZP9UKMcPyE1mQusDFfMocYarSppSsMKKcuW\n",
       "owVlI3dkaxQ7ITXKBVaGmzVDSVZqU0uXX37K0qX+MLLoNn6n24EQD9RYy0TtxlSuLl6Ru0HUPmOm\n",
       "QhZdFNSMYih1sTK2mT/rwU+62bAtGznHOiKGitHWXP2tlpe0c2haxybjoAbUTFOjGzaaGr7WVa0b\n",
       "VU9NlRRcFseh5pwxFAseQ82jprEv7TR1AajK7ws2PDuUrTnles1aQVYrYx41VROgt25wKVkzNXWL\n",
       "w3N4wAwV5QxlmyjbNGjaxFT3wNumDNSAGjZzH6rb9DaaqQLUgJp5Owpd7k1imFSgBtTMouZ6eqxI\n",
       "8tfns0ANqGlnpnzBS0BNbNSYaVOy6EQH9qFio4aiYR8qthiKomGGgq3ZMzXLknurd1NTLf+DJdRs\n",
       "po1zUWOWmSVr3kvNa3EfJVxAzXbaOBU1M48XVlIm7YFEk5NSY3SS6Fb3lRbOaa3Lsn5FoUWaXn7S\n",
       "PE3zobj1H4omtV+njpuXsep8ajbUxpmoua4hKfGhsVX1qnbWPpUrOmqK5kgAM6LoOt3EmVXaSGXb\n",
       "n5gq5Vhc6brFjWGGf9eLsYSzqdlSG2eiJunEzj5+m6kf2J0SyBMyatqDjs3zi/bnlpPcyd5PTOmx\n",
       "uPz6mOH1aF0vxhLOpmZLbeyNGlOtp+a6kZp8fKLZpvV3uztbkioqavhtH1eIPjWFE31qWDIW111z\n",
       "hIZrYNdejCScTc2W2ph6X+CbSIbfsGQ1NbdThWLGhJ5134zejWHXKy7nZ3q5wQPl/etrepzYZkTa\n",
       "n2x9WH8krr3aKDUU+9qL0Z1mc6nZVBsBbc1UekzTraGyVlOTNOqxunSlfhUOWNF1Ud6/4FXrkHT/\n",
       "LKVG38UsepzUbkt2+8nYsbj1/3fvy3v/2euF1Kuo2VQbAamZTI954CQr11LDbxP5S3mM1teh6h2C\n",
       "bDS0AJqB8rizdw8nvXGiTBs0XX53iaCcfRRXpOOpa9iLnK+iZlNthKNmOj3m0bqYUTrobGpE93fJ\n",
       "nNOwXdTQp7fR0RJonlPTejJCSnldM2kYqnoW9iquujk8I7fm2ossXUXNptoIR810esyl/e+/YtCc\n",
       "G2yzz77NMbWPE7nivQcPNJC2rlYxjIPEU2gmb4qfnqGsa78d5SDCuvo11zXYTtyrS8EqM+nWjCSc\n",
       "lsPN0sZzZSzVxrQQxNR0tzlOpcc82hrL7Tpb0+lJuRc3/heNKsr2scMTrB9Q89obTu7ecP6EGnUZ\n",
       "myofiHtza+Tgy3HvhV1nazbVRsjdy6n0mAdqiodlrYUzVMOm+nABSN31lAmiGYqVtcZtdvNUpqhp\n",
       "fIdiIK50kxPUvReZ8JmhttFGyPWaifSYR2oeEoBnU1Oa20SefTT0qe7Z5Lwk8oYvXEiWWWXuq3zT\n",
       "1PChuNdFuC7SVT23pu1FXq6iZlNtBKRmKj2mMYtE6zVd2Kj1JXD56O+aS+yu7kQiiSLvywe5MXUH\n",
       "urmhGOSoFVdqZDoUl/G6x1UXxdwS2+69SOQqajbVRsj1mon0mMfOFqupKUS3LPXqbkObJMk1mumV\n",
       "k7iGnxVfR00d/mnTLMUWFwy4c/rm0XZ7mbpMbxaouNpYWerE3NeV1agXo4IXc6nZVBtn2ocSy5e0\n",
       "K6/bnSdHsN4sLNeLm6mPJZy9o7ClNs5EzYqtyCQnp0bzIhfrxZUvJJxNzZbaONUJ0MX1kZZcLjiX\n",
       "msw5Z1aLO3ZCHiScf75mQ22c6lSWWgqBZxmuJ7fTp3q9uOaVhPOp2VAb5zoBWi070mk8Dw77ngB9\n",
       "Le7EwZH5gmynjZOdNg/bkKOwY2qQRRclNciii4IaZNGBGvg1oAbUgBpQA2pADagBNaAG1IAaULOd\n",
       "EKjnDWpga/oNd5tTKCMyalBHgUQZsdmaU9aiY7urRfd2amZn0cGvOZdf02XRwRs+NzXYvTwUNQox\n",
       "FKhZ/M7MBBYiKaKi5pwx1Moq8OuV8bIK/MlszSnXayodWBkcM9QJvGEeWAgBak5ATamCymATxFAn\n",
       "oMbkQWVILGzNCahRYacowUDNCahhSUgdTVs2UHM4akIaGyXYEahBFt3rdxoZTIIyC0MNsui2f2cZ\n",
       "SktSPhsnxFCHo4b99CPI+/9WPh0n+DXHo4bpAJOUKg0DNWeihsly65NIVlgGas5FDbM82XKRuCh1\n",
       "xUDN2aip6/tws4nBUYXkuvp4nEDNQam5DG+uueCOtgnBX64jgpoDU/O2hiw6ULNmnGBrQA2oATWg\n",
       "BtSAmlcNWXSRUoMsuiiowe4lqIFfA2pADagBNaAG1IAaUANqQA1iKFADWwNqQA2o2fid847SgBpQ\n",
       "s/iT56EGWXRRUoMsuiioQQwVGTWqOt0M5UvN5EmLAtT0WlmAmlGT9iM9gRrGrGagZg41WQJqbo1X\n",
       "8GtmUTN94VOc1OSSxBv+5azU2LsVlRmo6dq3P0HNR9T0bgGvSlDT6edrQUJNHgE1vck8bmrUF81A\n",
       "zVxqMglq6qa/VKBmNjX+/vApqCm+SgZq5lOTWFDD2B+/qxNS459F11CTiLqlafNPO5EX97Wtle0d\n",
       "1KxvT57zmejxJ8uie2ZrvB2bw9qaHkO/pQOgMEO9osY7iDooNQOrk/7aUkRAjYmBGv8Fm0NSM5yp\n",
       "Pn+7WR/PxwuXxECN/+LwAakZ+2L3ZeH2f9Y/XjseAzWCxUfNGBqZj/9g9eOtzyAfhhqCTe/DUTOG\n",
       "ZlS0w3l1SRA7NrvcvSS40vl41IxnFUvYJetSdU5qnn7N4oq8r+NSknZJOn12aiiK/h2dGlXRdkmT\n",
       "hlFvpsZMHfbUDNSQd8lQWhvkKERCDauy3VCDLLrDUEPZkEUHajBDgRpQEw01ez38AWpO+U5QA2pA\n",
       "DagBNaAG1IAaUANqQA2oATWgBtSAGlADarypsaAG1MDWgBpQA2o2o2b9h1PqTFBQc4xmQQ2oCUuN\n",
       "ADWgZnHj1FnnoOYYLXPp+g+XToKaGKnJnUdOtaa+qwDUHKMZn+sGEtqMPlBzlCZd+aYPg5rjtsRn\n",
       "ksmp70UBNcdopU8YZH1caVBz3MZ9NgUqgmyLhyz4AtSwJ4Wz2JYvWKL31PmMknPevXu4VaIsQM3l\n",
       "21zvDso832yjz0vvfndvCf+jEg/SZwmoae9bTorevcubU7NA75WfZ6L9txQeb7ARoKa9273kuWLB\n",
       "qFmgd+sXBRn/Zb5H6WUGapoRLFKXVuGoma9347cnYP1D70fpqzJ6aprZolKsEiYcNfP1rv3OVSn/\n",
       "IGrijjVexU6Nrj1TcdGMLMJRM1/vwvMiWuFI6m8okzQOkm6kyWTk1LTXWebZhiGUj96V7zKd9HaH\n",
       "G+kly2pBckfmDx+amjzAARQPvWe+24/We/+ylr7IWFJLrHkvgoiYGq7CULNS79r7uHjqCKS/KCmt\n",
       "v16p6a1WtAPh4qgPFa7N0/u2Y84SVxBYyovNUvXiUfcsAsfmyLZGhsj8WK/3wv98jPU9ztdK3xhK\n",
       "4+iCqCNTI1gwatbo3RDkM6UphfRljW9ZsmYxlGLB5sDU2CQcNWv0zgkOOhjPraiOeV0vhUomqSz0\n",
       "ganRRUBbs1zvBclhcc9ZrpVeaWmySrcX5AsWNTVBJqj1etcktaak31Me1yhJNr2PS01uAlKzXO+K\n",
       "5qy48rNYj9KXVdTUhFis8dC7cTQbqsbL2DxIrziLmZoq0AH+tXpPqXx1ISmlp6gO9aYVt8Ms1qzX\n",
       "uyGroJn5GK2HClG7TbEK00J1f53eFWFmf1IytDiYphxpkUOhMTRLWnS1SBVUGkETtPcw2goqPX9T\n",
       "fWj+D20mEY4l+RYxAAAAAElFTkSuQmCC\n",
       "\" style=\"display:inline;vertical-align:middle;\" /></a><br>\n",
       "<strong id=\"_Q_sub\">_Q_sub:</strong> <a class=\"ProveItLink\" href=\"../../../__pv_it/_proof__success_prob_guarantee/160505c1fbf81131f1fa4b27a252c41fe92c800d0/expr.ipynb\"><img src=\"data:image/png;base64,iVBORw0KGgoAAAANSUhEUgAAATEAAAAaCAMAAADop5sbAAAANlBMVEX///8WFhYNDQ0yMjJmZmYi\n",
       "IiIQEBCqqqqYmJjMzMxERER2dnbc3Nzu7u5UVFSIiIi6uroAAACH5VaMAAAAAXRSTlMAQObYZgAA\n",
       "AAlwSFlzAAAOxAAADsQBlSsOGwAAA65JREFUWMPdWdeW3CAMJaFXwf//bChu2DBrYzZnEx7GWo+t\n",
       "lS5XBQ1C//vC5qdYIvzPROhklw0v9ZGGNLQ4+ZmAne3i+KVCo67SyLLFkHHGf1Os2BogoynW8kRC\n",
       "IiTA/Q0XcJUGlhL5oodDU39PUC92HdIYP2MqPIsPsftbRu1Ves4QNua3VYx+J2KrXYYQrDK3wtlJ\n",
       "YwG37l+WXPEBt97apefpUI/6jclcxHhVCxe7csbRIf4LnyGUal3pYQfr/Q9b6wheQbUbujYMkyz4\n",
       "Ub8Dn4mYoMQ27HIZRcYyK+wpjyEWbxCC5Be6YYMHb6GOxV3LoI56uSp77LcffrNlFdW2aRfLVxcM\n",
       "IoBOzyCT+g0q+X3EyFYkyadyaT/UbKCj+VsPv3mxT1O4QliuLl9dkEjGwnjetJSMQH/Jlh0x2EI4\n",
       "Sx6cNRoUIKm12v2gdb2o/nL46HdPQzONOQDH3yNmCW247Kregr5rXnfEfC1ppFIqtCE1y5x1MOIV\n",
       "HZU6ItbT0HI0YBs/zEvErLs0DbVdJURhEmIyyIPkPaIqR3fSL0IHMQTKHplyQKyroVXZshUM3nKs\n",
       "gxg+Vn/q0CTEzFrospS23G++kJ3Wv3/RaoVwiFhyQKynweLD28smlW+Dfh2VphmV9JBuyd0zTcvO\n",
       "GjG7ub56uvvCdI9jHvsOx7oaWu2zzsmAP0fMkBuZ/8Ax8ZJhNcdkJZV0ufhithpZIyaxRV3EOhp6\n",
       "3RjJ6fMzYsD4got2znbOdJfuYkeMJ2OMmZXHTCVlVhS6RdeNaCJWT5lclfl7GlqIxS2y6Vj3JceW\n",
       "RJWYRWgCh/CvO9jNLpmZDnYOYqdaWYhWErbSaAsq/6kfY0fEehpaGTuCpcidfkzxrYnP+mn3lCSv\n",
       "dhlK0qKvolJvzBJb/c+Sz3rL9MMTaBP5NDGpO/dbGta2QJN96mFVbL1jMyeEy/iBgBxmEIWFY2LZ\n",
       "U3trzLXaFctUWm9GY86xgF2xlWzBToazIxs+V6KanREXHEOJJ9BT82vpcpxmvDonRJKLB3bNXSPn\n",
       "ynmzixNiNgcykixl1RyNkG8e5lp56mKIMA/smjulnDG7kGwSYsvwJekr2cIRH6pJoFFXKy1tt1Cb\n",
       "XVPX3qi8aVkcn45Y4Rg+cSz1YQ+6BMfnI0bNVRpgasmqIEcV5DczYmpBLINkmM0F1Sx5zCgpJbFP\n",
       "7ZpKsTlz/tIivk0QLsSEzrA3Lh2ckAYgJl8F0NI1sFz0/rJd9WFj0m9J/8zvla/XTvAi/QHtzCtW\n",
       "BYpW9QAAAABJRU5ErkJggg==\n",
       "\" style=\"display:inline;vertical-align:middle;\" /></a><br>\n",
       "<strong id=\"_R_sub\">_R_sub:</strong> <a class=\"ProveItLink\" href=\"../../../__pv_it/_proof__success_prob_guarantee/5e98222b11cc3e22c5f6567ed0e0c6c97eddcbd00/expr.ipynb\"><img src=\"data:image/png;base64,iVBORw0KGgoAAAANSUhEUgAAAP4AAAAoCAMAAADpL7dRAAAAP1BMVEX///9RUVEMDAwGBgYWFhYN\n",
       "DQ0yMjJmZmYiIiIQEBCqqqqYmJjMzMxERER2dnbc3Nzu7u5UVFSIiIi6uroAAABIICPhAAAAAXRS\n",
       "TlMAQObYZgAAAAlwSFlzAAAOxAAADsQBlSsOGwAAA8dJREFUaN7NWdmWpCgQpad72Jcg4P+/dQBb\n",
       "RS3SBaZKHsws62QYN/YbEtJ9GCEvEfLdh8l0ESMkiW/VGyiMQO8rzQN6cBYNEm2tCa+GTzTvx69o\n",
       "rbklxmMybFQJuhTvhk+U77aggErzEAg36dNFzNLjy+ETIzsFUFtrDsnvOeJlzEZh9O3wQfSF/4Sz\n",
       "0lwWj0/AhX07/L+F6/Hhdqe5p8vtEB2Bl8N3SceOzJ+dv2hePD5lQLKEUy+HT4zt+LE3O81d1EvN\n",
       "S5Lt64JfMaUR1/lK9Twzqp3mgefrJD4wdG+DDyqIpLNwa/TLjth3QzUfCt8xRo3e3wTMxSmuNYk/\n",
       "n7Srxv57hMbdQiRd3Zrz0uYipM188j/zVBYqO9/uzlXqrz/9ZwT8TiGKs9WrvhhCHAJKpIBgjCxh\n",
       "gZdns0MqC0/eE/zIbd1mRQlwv29sLqPlWup1ctEfSsUmtPZpEu1b4IPluIvMUoT9HlzIHkOrqvol\n",
       "20yNb4ecZuF/qLkuygUaDfTAB8YbAwY/DW3IIFpMbQtYml0gyU74JZw0VcHb50LAU9lsTXjevLHN\n",
       "1Hb+RgMb4Z3wpwwsBcR0eL8Nn18Y6VMGN5nav3/45sRYrTBC9cekeTyedbdSidHzdiAbG5Y4eBr8\n",
       "rhH8zFwZ3Vibqe28H2gY6X1cLoCjS9/lbUaB32BqW/h6ux3rhp8fHEokMOiDf2x8yaMZjHMXcr/J\n",
       "1LbwqduVvs7Kz9RkAvB6RPfcjD2phRWjnFLuDKLF1MKnvg9VXf1Kc3pqeUqRasV4GDQ8SLq0ecdZ\n",
       "Pvyc8cuLTM3u5yPBPsGHeMVhMS4rk6GUh0+V93Si1zE8fQRdK+uvI9GS9GL8H4V845Hx8bqPiYP3\n",
       "F6LlLKdWn8+5+me3PcTy57VmtZw4Ei16YZGgY//MD/w4UdzYdj1fdsLa+cSRaF2JKuQ/vOurecvt\n",
       "Y9jB+wvRClfAOP3D8EPPqnddFIoD0UJP4GYonsBHIeeNHR2W+j2SYOka4kC0GBILQ+HP1UQj8lHw\n",
       "hRxiPHEgWpqpu3XoDP7ySk6Ogo+d+TY3LnGXaLXgg+FaogelfIksVFiCCNMXOhy+6HzHOWehuEu0\n",
       "mt4vU2geqArGvHmC9IXZWtlR8LG7hlC1g3+RaH2AD9O7Jy3mucBguUlGe98J1ysCuNvAv0q0PsAn\n",
       "0zY+w59ai2chkvHwgcsBJixLAHGTaF2EP3mf/j/eN2pICOXqp28Sra9H4AW++Qu/IHYCiM+sfGzu\n",
       "QyDvO+AjSzFPg/PlNYJFZK58KuQTnXeWRovjHvkfIU8xuGwemrcAAAAASUVORK5CYII=\n",
       "\" style=\"display:inline;vertical-align:middle;\" /></a><br>"
      ],
      "text/plain": [
       "_Omega_sub: Omega\n",
       "_x_sub: m\n",
       "_X_sub: {0 .. 2^{t} - 1}\n",
       "_f_sub: m -> QCIRCUIT(VertExprArray(([INPUT]{state:|+〉}, [INPUT]{state:|+〉}, ..(t - 3) ×.., [INPUT]{state:|+〉},[MULTI_QUBIT_ELEM]{element:[INPUT]{state:|u>, part:1}, targets:{t + 1 .. t + s}}, [MULTI_QUBIT_ELEM]{element:[INPUT]{state:|u>, part:2}, targets:{t + 1 .. t + s}}, ..., [MULTI_QUBIT_ELEM]{element:[INPUT]{state:|u>, part:s}, targets:{t + 1 .. t + s}}), ([MULTI_QUBIT_ELEM]{element:[GATE]{operation:QPE(U, t), part:1}, targets:{1 .. t + s}}, [MULTI_QUBIT_ELEM]{element:[GATE]{operation:QPE(U, t), part:2}, targets:{1 .. t + s}}, ..., [MULTI_QUBIT_ELEM]{element:[GATE]{operation:QPE(U, t), part:t}, targets:{1 .. t + s}},[MULTI_QUBIT_ELEM]{element:[GATE]{operation:QPE(U, t), part:(t + 1)}, targets:{1 .. t + s}}, [MULTI_QUBIT_ELEM]{element:[GATE]{operation:QPE(U, t), part:(t + 2)}, targets:{1 .. t + s}}, ..., [MULTI_QUBIT_ELEM]{element:[GATE]{operation:QPE(U, t), part:(t + s)}, targets:{1 .. t + s}}), ([MEASURE]{basis:Z}, [MEASURE]{basis:Z}, ..(t - 3) ×.., [MEASURE]{basis:Z},[GATE]{operation:I}, [GATE]{operation:I}, ..(s - 3) ×.., [GATE]{operation:I}), ([MULTI_QUBIT_ELEM]{element:[OUTPUT]{state:|m〉_{t}, part:1}, targets:{1 .. t}}, [MULTI_QUBIT_ELEM]{element:[OUTPUT]{state:|m〉_{t}, part:2}, targets:{1 .. t}}, ..., [MULTI_QUBIT_ELEM]{element:[OUTPUT]{state:|m〉_{t}, part:t}, targets:{1 .. t}},[MULTI_QUBIT_ELEM]{element:[OUTPUT]{state:|u>, part:1}, targets:{t + 1 .. t + s}}, [MULTI_QUBIT_ELEM]{element:[OUTPUT]{state:|u>, part:2}, targets:{t + 1 .. t + s}}, ..., [MULTI_QUBIT_ELEM]{element:[OUTPUT]{state:|u>, part:s}, targets:{t + 1 .. t + s}})))\n",
       "_Q_sub: m -> (|m - b|_{mod 2^{t}} <= (2^{t - n} - 1))\n",
       "_R_sub: m -> (|(m / 2^{t}) - phase|_{mod 1} <= 2^{-n})"
      ]
     },
     "execution_count": 99,
     "metadata": {},
     "output_type": "execute_result"
    }
   ],
   "source": [
    "from proveit import f, m, Q, R, X, Omega, Lambda\n",
    "from proveit.physics.quantum.QPE import _Omega, _phase_est_circuit, _sample_space_def\n",
    "_Omega_sub, _x_sub, _X_sub, _f_sub, _Q_sub, _R_sub = (\n",
    "    _Omega,\n",
    "    m, m_membership.domain, Lambda(m, _phase_est_circuit),\n",
    "    Lambda(m, bound_16.lhs.condition.operands[1]),\n",
    "    Lambda(m, thm_condition_14.expr))"
   ]
  },
  {
   "cell_type": "code",
   "execution_count": 100,
   "metadata": {},
   "outputs": [
    {
     "data": {
      "text/html": [
       "<strong id=\"constrained_event_prob_bound_inst\">constrained_event_prob_bound_inst:</strong> <span style=\"font-size:20px;\"> <a class=\"ProveItLink\" href=\"../../../__pv_it/_proof__success_prob_guarantee/aba4710296e08487e27cad7401e7e93b537420bb0/proof.ipynb\" style=\"text-decoration: none\">&nbsp;&#x22A2;&nbsp;&nbsp;</a><a class=\"ProveItLink\" href=\"../../../__pv_it/_proof__success_prob_guarantee/f253f7e46eee9a0408cc96f05e46c9eda88f89af0/expr.ipynb\"><img src=\"data:image/png;base64,iVBORw0KGgoAAAANSUhEUgAAA+MAAAJFCAMAAACBaNalAAAAh1BMVEX///8ZGRnf398kJCSDg4Nt\n",
       "bW1eXl4oKCiOjo4/Pz8bGxsnJycrKysuLi4YGBhpaWlaWloaGhqhoaGurq56enofHx8dHR3Ozs6/\n",
       "v79RUVGfn5+Tk5MMDAwGBgaIiIgQEBB2dnbu7u5ERETMzMy6urpmZmaYmJiqqqoyMjLc3NwiIiJU\n",
       "VFQAAAD87b/sAAAAAXRSTlMAQObYZgAAAAlwSFlzAAAOxAAADsQBlSsOGwAAIABJREFUeNrt3Wmj\n",
       "pDh2JmDZbbtm8YzbXZmuzq6x0Apa+P+/b4ItWAIIFrG/50Nm3pv3RiiEHo4kBCLeOWcJIljE6vWH\n",
       "Xv86etdSv9+NvtpDgqN4qzCogqCR5Fqi9S8U7VpsKxpnqRiHEcYRQ8ENuaRxElMYh3HEhBBxC2is\n",
       "Y0mpJzQW8tzGieMwfmfjvu5q4viu6vJGLaA8VtGrQqNX/VJ/pHGrtfk8yxRnoHIoXhcQxu9oXKv3\n",
       "l5h/WxOatYBaTrP6TWX9P/sZT+pjmY+2Wao644ryDFT8GE85jN/YuPTNxoBYHBWjN1D/GubK7KvZ\n",
       "k9UrjcdOvzvfxOeMo85LVmeg8udMDON3Ho+b8jgzXDZZE7Ly8tYUvVI4fZ04bUrkjsapY7z5Wnm5\n",
       "fGqJFFXY8gykqjfSYty44DjAVzZeHVbMwJF1tDpAX7QLSbGYe8F7uXHOHG1/x+fl8mn3NJOdgbQu\n",
       "zz40Gjcu0ce7tHESuSwihgpZE950gCpfznFYT7+lQZlTUyYtEuZS41y7gb62SzvfyM9ATiaFcVV1\n",
       "Qob66jFax6WNa4nu2PoQYkUSzvO8NLHybLlx7k0yOJDoZPfiDERZXP2//DSuXSNSjUN8YePWV3+M\n",
       "R8zmTMjY4UYhmeafTbzn319ZrIjETiprf7+8rzL9cuNFNs1fQKzI48PG3Zeja6sJw+E5t8Rgvua6\n",
       "xvMUztS3n5Zly2OMsrEBIfM+Exz3QOBx+Zas3ebEwL97i2HEpJ8bbKv5jFO+tHy0rP2frvwAPecE\n",
       "V33vv4u/0k5Ur2AaybEaI+f1GfP3K//3ws9mB/rq+ltl8e/GXyWPFMxc1XhCh2fcJPVCqOJEXrSC\n",
       "bD5WjKZX7bIpKJ18vlY1MZWYxcZJ0Z1daDwRtOzXjpU11ipOWF9llB9AseE8/v/ml4q+/+B04Uu8\n",
       "T7Hu83wVf+2j2b6+eudHDMP6iesaf/1jKJNpLevOWtEVzb6RDh7uLCHkLcb1EgtgPJKLjceiasL5\n",
       "yp/BsibZJa/RD2D49L7695FA9gMq/1h61ZxbccJoXzt7lTk7IdlRoLI6oIPjcYcVUtc2zpKyzXbX\n",
       "WNO4OSArzvjZT0aDY7Osx5m54WaF8bGl3jJ9/Q9fYpyKutTus6xWF5Hp9/KVt8Y+wOdiAt+dc5sx\n",
       "EtBx4Zx7SVYb76yBITLvc4xP7X+dV1e4eHZx4zby5XCzvcaaN49sMRQtlnq40dk35vL7LONhIsqN\n",
       "GR9d6k0dJ9k667mNTjbPSzXg/rJmHfhY8ZGT1Edufl9ijiaMWj6OhKFGxtopEsJ4dg59nxuty89c\n",
       "bvys8OX6uMXiiasbJ2X+6K6xVnFzrkvWxqOx1CSz25isju0wEWJaeaVjfHSpd9bdzk43k41XXeVE\n",
       "1H3Yd1rqL2s2Wk96ryK8T1JiMBVGk0YtH6k3Td37s34xTqvT1XsOcyRcMeU3/oPajxuffecc4nTG\n",
       "a+ytNdaxKdY+Jtmy9rzfWfbV05HMZJtX2tvrJ2vjiaFj4/F2MVovkq/P8jOM111l9Vae+J6y9p+w\n",
       "+j9Az8KvqJOEx0ctfd11MtE4KS9j1XOYq1vCl/XqGIvfyHh7jbVsZtGy2/xlzi1Pm4MTPBURG43P\n",
       "uY0s9U7L6YBB40nE2337RldZem0bREfLOvoBPvvq3fvOvoxa+ip+svH3xEISxjjuO3uQ8e4a62aa\n",
       "K+fJKC0XSZUTS9Uf7ywupdT8G5HxObexpd6vznUsyFgeL+cPVULz+bM2A1v0R9z3so5+AEp7Bvwf\n",
       "QEdGLd1fbq01jbKpECcT6nkc+7x/QGNadELo61+m1zh3PZfep3V1cP/4c4x311jbxkCscskYrV3I\n",
       "7A5kGdWNOGou+OieQZhJGZ1gfGypt9SFr6/GMygp+ewq52XNe95jZf3yAUQPW590jNvp64Pbne4o\n",
       "P8+9Xi5b75M7zpYocFf1FqLAebx+cieM37+v/tGLY9lQVPW4XBVrro/XP8eFztJcPjsmaULz0UUS\n",
       "l311W6TW/q5yzyKWWZ3bvlJ2n+c2ZyRg5afx7AIhKz5EkeYFLadDTFjjeJ7bo403WbizGSfK5GNT\n",
       "awpfrwTuSPPpZNnJaaCrrFdNI/X/drE0Lpo0ahkfnDfHK5nx4tqW10Tl2MMax3NZ72x83vPVDQ31\n",
       "xrJzf8Ni4z6/rPMCnl/LEkoa0liDppvJsTNBTtiK++xiNfL9aMKoZa7xIo+bbfL4+zxEnYtg/Nkh\n",
       "A915ZGXfELnn36MvkhnXlXFeJvBmHn8pHjsrrTA++qsBLiXLyrioriFmqm02CPFx9o/A43EE4qTB\n",
       "vZPKacJebV7RmKpiPF7eAWZeWdRd+LOl+tVFN8r6NBsCMEqLAQJ7fVBXrEeqpwARCAQCgUAgbhjp\n",
       "tMBAvKgHjxZzRBg8mmGN8YA/tWFY153kcfuefGTK4legrR0RGqfWBxjvPhopu4z5Ch+yYKPJQqa4\n",
       "KeGo6Cy/R9zUOOm9bBnPL9hnj2BSsoDxw4LjivWGxrkNYpyHuKis+pAtMP7ZI5iULGD8sPCLVxD3\n",
       "HrIg94GnB8Q2xt+3Y6wyHqdBnpLjRRjj/T2Cb8kCxo8KmS6eBOl90m6Qhz0c0LHdxnh9/+Saj6QD\n",
       "TUbbnqcyLDLe2yP4lixg/Kgwy28E6jWeaBhv1K4N8JFoGupZd8KFMd7XI/iaLGD8oEiWp/GBJ+Y7\n",
       "GK8BsQCvr9I01KTo5242C4339Ai+JgsYPyqNryDZMN54Ll+I3WlvYpz/Fw/w+i5lwT6liMIY/+wR\n",
       "fE8WMH7UaJwGMZ7ULxNil/mbGP/5I8DrB0zjmcQkjPGPhvM9WcD4MeHXtJ9+4yTAXgj3MP57FOL1\n",
       "fRrysdQfL7bQeLdHMCFZwPghwVfN5gwYTxiM5xH9LcTrh93Q9WOb+KXGOz2CCckCxg+JOE3CGw8w\n",
       "63YL4z9+Bnn9NA15c6/qDu6XGm/3CKYkCxg/JMSqod6Qca1g/NXs//OPExonaRTIeKtHMCVZwPgx\n",
       "XfVVKTc3XuxLGEX5X8VSDVkv/Nh90dnyth9oidyU78+MoGuNRaezvth4q0cwJVnA+DFddbbaeE8e\n",
       "Xz8gv2oeb7j+PSIt5SvyeFDjtHPM4+UFi+YlCxg/InyqtjC+fmL9ksbbibuYcKu/dxbjsjOzvtx4\n",
       "o0cwKVnA+BERrbM0YDzABfIrGm93zd8TbtW3z2KcdC63Lzfe6BFMShYwfr3h+JDxAAvdLmi88/s/\n",
       "/2igOpVx0/a43HijRzApWcD4AZGsvNdhwLgjzzPenSVsbTud/+cK4z+CflDdnqePV3zwqkcwLVnA\n",
       "+AGhVy6E7jce4sazqxnvEu9sgZf99wrjfw36QTv3oq8w/u4RTEsWMH5AmDQJZbxxT4qwDzTe+ZZX\n",
       "4V4/tHHZvkK+wvi7RzAtWcD4ARGlMpTxwRT2mPF4qzULEtJ42L46b3c6Vhh/9wimJQsYPyDW3tDU\n",
       "a5zGMM5tUONx6MMuwxh/9wimJQsY3z/s2uVktO/IegLjQV8/uHHXyrorjL97BNOSBYzvH8l5N2uD\n",
       "8e366q+eNQ1jvOoRTEwWML5/0KA3JsP4VfK4b82QrTFe9ggmJgsY3z9YsEcBwviVjLef8rrGeNkj\n",
       "mJgsYHz/8OfdXu5axre9lS64cdYiucZ42SOYmCxgfP8QQR8w8lzjWxcsvHEXyHjZI5iYLGB8/zAw\n",
       "/kjjtLUIZo3xskcwMVnA+P4R8pm+ML6h8cDz6nFr3LDOuJuRLGB8/4hg/JF5PJzxskcwMVnA+BHG\n",
       "KYw/0HgSzHh5tohg/LzGYxiH8RDGKYw/pPHA+CUOkwpmPKmMTyrh39M/gG73xvMnjD/Q+N9by8v/\n",
       "Zb3xFMbP23j+AeNXMP7jrMZVZXxSskBf/YjGk8D4A/O4bBlf01cvzxYTkwWMwziMX9Z4AuMwDuN3\n",
       "NC5hHMZhHMZhHMZhHMYRMA7jMI6A8bsa//VLwjgCxpHHYRwB4zAO4zAO48vq8VrPeoJxGIfxLX4T\n",
       "xnnMgW7n0L8sjD/QOP/1q/GVjfcyjjyOPA7jA4cp8D0pwfP4xGQB4xc03nvIJIy3kqa9cV+97BEg\n",
       "j9/XeO+ehkLCeF91YDwO43cxnmgYr0N5AuMwfjPjxMF4HcbCOIzfw7iq2yFLYPwNiBEYh/F7GE/q\n",
       "J3NaAeNl8P/iIYz/gHHEqYw3+qdPN/7zBwlhHHkccTLjCYPxPH6PCIzD+B2NB5h1u4fx6G8wDuP3\n",
       "NK4VjL8G4//xk8B4I/B89SOM/xnAuHZZRFH+V3E1WHoYJ0T83z/OaTzc89WRxx+bx+sBebo0jqiN\n",
       "NERpBz/Fipc//7w69lB4mvH1E+sXzeNN1//n3/Ovb91Xx/PVn2o8wAXySxpvbxX4v1X7mxiPw/h9\n",
       "jAdY6HZB453xxf/6n6RNH8Zh/D7GHXmg8Q5x9j8saSOHcRi/jfEQN55dzniHODftioZxGL+88cY9\n",
       "KcI+z3j3l736+iMzDhPWqyNOYHwohT1nPN5qzSLg6yOPI05mnMYwzi2Mw/gtjNO+xzp5AuNBXx/G\n",
       "EccZPyM4GIdxBIzDOPZQeEhgD4VnGsceCsjjMH4q4+ffmxh7KMD43Y0/dk9D7KEA488wvvlhwpwb\n",
       "AsZhHMYRMA7jMA7jMA7jMA7jML7/YcI9KQgYRx6HcQSMwziMwziMwziMwziMw/hC49hD4YjG8yeM\n",
       "P9A49lBAHofxkx0m7KGAgHHk8UOMYw8FGIdxjMdhHMZhHMYRMA7jMI6AcRiHcQSMr3lLHnvjTBo2\n",
       "nBNafT1MWK+OgPHN3zIxhsotHjnIFXPeIo8jYPzQt5RGb/lIUWk8h3EEjB/3llRs3TiVUzCOgPGj\n",
       "3tLr7d+dmxjGETB+zFv+9o9d3v/fxN2NYw+F/QN7KEx5S7/XiZCxnYxjDwXkcRhvjsXZbiUQ/YcD\n",
       "eyggYHzDt+RuvxIMvBf2UEDA+IZvqfesov6t29vGB5jIQ4yjrw7jlzfOza5lcN+Ns/6LbELCOALG\n",
       "F7xlHO9aht51rZOMJxrGETC+4C3Fvld7lF5qnDgYR8D4grc0OxfC9R6mHxOMswTGETA++y2t37kQ\n",
       "ZnEetwLGEdsad/qGxhXbuTb6xgbTjBNjYRyxpXGemhsaT9Kda0Onk4wr6rllVFAiGROF+oTBOGLT\n",
       "PM7JDY3zdOfasNOMMyI8zYoXv75KouGx/KmMYw+FI4xjD4Uvb5meoBSfxpUiTuRnBNpAWl54+95n\n",
       "xx4KyOMwfjLj3Xl1/srgKh9K5KvFy3GB9BO7HthDAcZh/OR5vJooKHRH5UC8GJAnZkfj2EMBxmF8\n",
       "I+M+l+wy1eolh1eddMucYXI34+irP8n4PefVyd7z6lON57m76LC/uOe3gJcXyE0yVSaMw/i8uOX1\n",
       "8cXlWFwb04zbVL51CkbyTnq50C3lMI5AX/3yfXWVXyej+YlEaZrTKS6dqYjAOALGr2Z8ynr18sYz\n",
       "6gnHeBwB41fP4z1RPh5aU8I4jCNg/HbGq4dZSB1LAuMIGL+dcRrPlgnjMA7jZzRO+9O0J+c3jvXq\n",
       "RxjHevXLGQ8QWK+OPA7jJzN+/r2JsV4dxmH8RHkc69VhvDfmHR57sHE7/yfmGN+uMq5lHH31Oxmn\n",
       "81K+oocan1DajxLOML5hZTzBuPUuTb33QvR/MGWqW+kQOxqf+CAhy5guHj1E45DGqdfa054GIr2L\n",
       "otdX3kRR3C5t9oMu35DQR6n5ZNYt4XTjW1bGM/K4TPPrADYauHUHxvc3Xq2w4G60t8Wz9ZRJ8aqG\n",
       "BzMu83soCXWyp4Go4ivCBeuWlqXlteTOvoTlp+iUcLLxTSvjVMaTb8+UWWrclgctTvsxGxjf3bgu\n",
       "W1kyflcTzV6wvK8y1qGMF080yl9efjaQ6ivCfbe0pnoV3S51+Sk6JZxsfNPKOJHx2OmJq2IXG5ep\n",
       "g/GTGK9uZtLjzwVUUZY4y3unIx7IuHnfSuXcZwN5Gye6W9q0euR4Z4FI9SnaJZxsfNPK6HnDY/Ym\n",
       "po5Nvkt1sXE1cJ89jO9u/P38IDeh7pMy7Zg6+/jy2E5/zn/afD1Wp0b60UCKr1T2fNJOaVWV/3mn\n",
       "1NWnMPES49tWxjnyOGeOznilxcbZ6xeViWjCslEB15QWD540On79MwHR/YzrvDUrL1Lhvx175coW\n",
       "yersaYuRdPnXTOO+LqVsqC4aSPUVVd3SZv9fvl3cXOLd+BTMLzG+bWWcwTjXLp71SguNc1rMk0Y6\n",
       "sa/PKPP5DZHVqcn/aTSM7mbcvEegXw8j9b6S1eiG5Q16BvFmUzepqkfm0UcDeX3P+8bP1KV1UbcT\n",
       "3/kUsVlifNvKON449yaZ+UoLjDvGWHUJMhuC8apfJLMzs/FFR0x9ecWYzaoaO3zSkKwz+aB7/zme\n",
       "Clcel8ROK2vv0GqtcVf+nJ7ylLJyKvn9aP+qXc8hPmjcfTSQXLwV6qO0/D1Q7w7Hq0/RKuFk49tW\n",
       "xgny+GbGeczfB7I5UClEy/JFsqFZmcHTL+1clrX6ag1j4ybOmPfZW8e0r1Dmo6uVhej9Z38xjJj0\n",
       "c4ONpLj3P+9ujpa1v1LN2AlG/5q47ihSHyNQblwd7fYaFS1IttqOdYOtujd6++oqFR8NpB6PV+vJ\n",
       "ytJWQ2Fiaf9wvFPCb+XYpTL6SxHYOP/1q1mY+DPdbd9XbxnXxfEqKjb7r8q4GOgeieKcXk6NZByU\n",
       "GM+v2QQpdZ9DfEmp68yzzDZOPFthPBG07D+NljXWKu5ZmPEu/8DWfJPzeNms+be+k8xbrihetv1k\n",
       "sZFm/XXOTddzbvGAcc7rxlqW9j0cZ+0zWf0p1KI8vm1lnOOelJlzbhOTxaBx1srjejyPay07059R\n",
       "9o2RdbLZkcqfctl7ISRZbzySi43H77V+xWzjYFkTKvo/QFX+/jUYc/vq+QiUjw7wed2sExemr05E\n",
       "5kMl7xF2n/G8umSrtCzt76rXn6JVwrl99Y0q4zTXxyddOyt7BGvzeJGCIv0ehFe9d5nlr/iVqzyh\n",
       "scirrLlmsGBp808TDRchGyJkbrhZbrxbjPbnev0PX2KcirrUrqesVheRP2NbEmtGyt+/Af1k42Vv\n",
       "IhuBJmNQI9/onsYizJzb6yMzkihO6zUw/cZNu7TVEpXyWhVvDseLTxGLJca3rYxnrIGRrevi5YOq\n",
       "ZZ4Oc/AmT0pZF5jHKptbzSqT5h225jErhqIyL8OX4QVz+WMt42Ejyo0Y7xajczrk+TNy5xqXzfNS\n",
       "w29/WbMOfKz48DlKrzJeTkd4T/hoFy6OG+Ngzdqteum1s+zjU5p9hrKX3G4gsjLOonZpiw6fLWe2\n",
       "610N6k+h2RLj21bGydayyi2MW2/S1Fc1onwa5bcVvLIWYz4/xoInSuXXQy2n2YHLzu55Haq4Odcl\n",
       "a+PR6MGQLsuPOrbDxomhfNB4txjt00FcnG4mG6/mzBNR95XqCYX+smbD9YSNnaPEKuOyeBkr4i+t\n",
       "Tb36FdUUt6vHq9UVJGsWGc/6NJ7my8pkp4HI8g4VL6J3dpfVQWPC6/eRd66szvpTOLXE+LaVgXtL\n",
       "Pya0aDmBng+SYiPySLJjn09Al3310SJY0fjAUlRhW8aT1o1L3fF4uxit18j6H9rPMF7Pmau38sT3\n",
       "lbW3GvvLL9cZJ27+akrr1jTDvnaXrYsQy0ub8PESTl7LumllwHjfhFY232TT1xmeyGYWLbvN3+bc\n",
       "8rxph/6/MmKj0Tm3djE+jlnW7R5unElrLXNrzlx6bZtER8s6Op+wrq++5AYTHYc27o2M3fLSsi8l\n",
       "nGx808q46LOetjNu0zKJxiK/sNTMcuU0WTaSU/UomTPSXr9shZRycG5h2pxbtxitkz4v5ltGElAx\n",
       "6a2SYq1uuxXboj/iJpR1rPyUrjNePaF/xqERJLTxJE1Turi0H4Pnbgmn3z++ZWWcYJ2bG7zYf4Tx\n",
       "HG++JavPx8u2Ma9dsWSMNljIyJZ/VD2BgZUO+aFhJmX0u/FuMVqfSxe+vhqPiu3hP+b3bd2qxso6\n",
       "Xv7+VjnDOJ9LVtjgxomO/PLS0m8lnG58y8pAX/3rwWXZUFT1sFwXK66P1z/HhY5jr/LJMUmT/EHZ\n",
       "kiVx0Ve3xZC+f35/YBHLSqFznvVk5z28ia48miuf9TShtB8lnPGspw0rA8bn5Hh3NuNEZfPrSTah\n",
       "mmfrLH+7ojtf/owamt8nelXtDPw2nsu60Pi+pbiN8fB7KBgarlI6q/SXGs/m1/MlLPm1rBdpaUi9\n",
       "CE03Bz+dCXLCVjxxIR5YdYk9FJ5p/EZ7KMhQWcrKvjHyxz/HXyMzrivjvMrfjTz+Ujx2VlphfOhX\n",
       "kccvYhx7KFwluHdSOU1YlBBF43wZTzYeL5bymTRN3c7tCcbRV8ceCrcOGIdx7KEA4zAO4zAO4zAO\n",
       "4zAO4zAO4zAO4zAO4wgYf6DxY/ZQgHEYh3HkcRh/lnGnYTxAbcA44qzGeWpgPEBtwDjitHmcExgP\n",
       "UBt3Nl7voYDYKybvoYDx+K3G49/2UEAeRx6H8Z2Nn/2elNl7KCBg/CzG+d7lsNfqqy/dQwEB42cx\n",
       "ntCdC6HljcfjMH5t4/ecV1/6jK3FtdH3bG0YR5wjj9/y+rj1O9eGITCOQF99z7c0OxfCwTgCxnd9\n",
       "S7HvFV2lew/TDxhHwPhGb0njXcugFfI4AsZ3fUu+b2fdERhHwPi+b6n3rKL+XgOMI2B8w7fcM5Fz\n",
       "R25tPPweCojvxrGHwte3pGy3EohkH+M32kMBgTwe4C3FXpXE2NBhwh4KCBjf8i3//R+7vP+/isHD\n",
       "hD0UEDC+6Vv6HbrrXFByPePoq8P4PYwTJrZunMopAuMIGD/sLZXRWy54k8JbAuMIGD/yLRNj6CYt\n",
       "lEtmvB0/TDCOgPEd3pLH3rhsd9mQ4Zz5usoGxhEwftW3nBbYQwEB4/c2jjyOgHEYh3EEjMM4jMM4\n",
       "jMP4psaxh8L+gT0Unmkceyggj8P4yQ4T9lBAwDjy+CHGsYcCjMM4xuMwDuMwDuMIGIdxGEfAOIzD\n",
       "OALGL2oceyggYBx5HMYRMA7jMA7jML6wHicFjMM4jF/V+Lavjz0UECuMYw+FJxrHHgrI4zB+MuPY\n",
       "QwEB4+c1zu2N++rYQ+H2xnsPmYTxZgiJ8TiMX9c4U2ONGsZfoTyBcRi/mfFEw3gdxj5iPA7jjzJO\n",
       "HIzXgBgJYPyvMI443riq+5MsgfEy+H9xGIfxmxhP6m03rYDxMn7+ICGMYzyOOJfxxhj04cZ/jwiM\n",
       "w/gdjScMxvOI/gbjMH5L4wFm3W5h/MdPAuMwfk/jWsE4Ifw//4DxVoVgD4XdY/UeCrlx7bKIovyv\n",
       "YsWHrBd+LI0jznhpmNK+v/sj1OtjDwXE2fL4+gH5VfN4A/zvUVv/jfM49lB4nvH1E+vXNN5K6MWE\n",
       "W/2tFcbpWY1jD4WnGg9wgfyKxttd9veEW/Xtxa/vUn1W4+irP9V4gIVuFzTe+f2ff5B2el/8+j41\n",
       "MI44l3FHHmi88+ss/vID00O1SMI44njjIW48u5rx7oUAbjo1veb1XeABOYzD+BLjjXtShH2g8W7/\n",
       "WgV8fZVGHMYRRxsfTGGPGY+3WrMI+pFY6mEccR7jNIZxbsN+JB90ah3GYXxy0L7HOnkC48E/Eg2Z\n",
       "yWEcxs9QNBhvh02ubxx7KBxhHHsoXMV4yMAeCsjjMH5v49hDAcZhHMZn9QiQx2H85sbJWW+XPdl4\n",
       "HMZh/LLGLxYwDuMwDuMwDuMwDuMwDuMwDuMwDuMwDuMIGIdxGEfAOIzDOALGYRzGYRzGYRzG72Vc\n",
       "wTiMwzjyOIzD+PgrYQ8FGIfxsxknYYxjD4WzRxR6kx0Yv0SoYMbRV4dxGIdxGD8yHIzDOIzfOkzo\n",
       "zfJg/BKRpBGMPyREymD8gcbj1MH4Q8KH3hATxi8RtLVJIozfOXTY7Tdg/CLBUgHjjzzWMP6cc7uG\n",
       "8ceMywyMP9C4aM21wvidQ7XmV2H8KWFaJGH8zmHXPw/446BJGO+rlvDHbkXFR6kMbRx7KJw2W66u\n",
       "9I+dS4WE8VemzFo+i+Pt7gdYU/GtW1Kwh8K9w62+ufSjqSUaxonMrldoWfy9k/HpFW/bQzT01W8d\n",
       "fvVi1s8dyB2ME53VijAxJ/sZn17xqj3VCuO3Drp6EcxnU2MJjOfcZJRGdkfjkyuetpc3wvitQ62+\n",
       "ePbZ1Kx4vPG822w5sY7uaHxyxfu2SBi/dfDVE+ufTY0Y+3TjPpv+cq+aYXJH45Mr3rWm3GD85uHW\n",
       "1nre1DjV+bje520nYQ83zvPOUZxsOa2+ouJ5Z1UEjN872NpJt7ypMZJEjcbiHm483uOO3eUVn3Tu\n",
       "UoDxuw/I/fqmJhOis+bly8G9Vs82bvhOxpdVfGc4DuN3jyhd39ReRznKUldU5q/6qnC6PA4wfoWY\n",
       "WPFzDjmM3zx0Klcbz7oDPFtaUb5UiAH5hfM42+Vht4srXna7bjB++846C9DU8h4jrdpKiIn1Cxt3\n",
       "ZD/jCyqedj1ivfrtO+tRgKYmstQgBMkXdgW5QH5d40rvaHxBxZvuAcd69bsHXbdkvUwnPlvWxQgL\n",
       "1le9rnEvdzQ+v+LlR8cNffXbx7qZ9aKpcc9oYj2Vwfqq1zW+T1d9ccX7lMP404KlfHVTa0aYG88u\n",
       "azymexqfXfH885QO47cPvmrW7bOpCfto47tcHF9e8fSTGYw/YUTOAzY1bsiTjdu9noK5sOKjz2QP\n",
       "4w8IxwI2NRpme6VD15esoZccZXxSxfedz2H8AZGsqHranUX2z67L3T7+oornfbcnwPgTQgvUwTPO\n",
       "QH0HGsaf0VuPUQcPCBXxg43n4XEkDggZcVTCA07l3TG8WzsRMc84j/NQOBKHnOHRibp/8A9chbl4\n",
       "L+MIBOJyHcDCuP6FHIFA3LNr8OsXQR5HIG6fx2Eccd0460NrLmkc8+rbhMEs5irjwX5oy7Du47qI\n",
       "2+XsM9c4w7x6+NA4aT7AOGGfd5Nl4c9mHFNz4SPBhe9HGCdR7wWwGMZvHzzCArbtjHMbxjgPMGGl\n",
       "evnA+P3DL7/Rs/doSBhvxHvH73WS4jTE7QLBl6LD+CVCrngrTHOyAAAYCUlEQVRWG1NjrXqNmkvd\n",
       "Njrym8oH6avrMPPMto8ZjN8+zIrnNfQaD/EcpyMGr5sYr590vOYj0TTQTX/CwfjzIlnzyNVe4yEe\n",
       "SHgX4zEL8ZFUmvJQ3CiMPy+NrxHZMK7qibsAjzm5i/Gff4T4SG7lHhbNRB4daBx7KBw0GqdhjCf1\n",
       "6wR4XNlNjLPfZICXD5fGs25bsrtx7KFwbPhQD1VuGA+wz9E9jPO/+BAv71MT8FMa9NWfFXzdZM6A\n",
       "8fX7Fd7DuP+LDfHyLg24c5L/2J8Sxu8d8bp7gQaMr591u4Vx+RsL8/JpwC0XVNBtjmD8/CHWjfSG\n",
       "jGsF44T88z/x8xknaQTjz+qqr8u4uXHtsoii/K9iAFrvY3/kY8xnUwqzembg+2tW54RcbCy6nXUY\n",
       "v3lXna033pPHVw/IL5vHG7B/j1rM1+TxkMZp95jD+K3Dr9tzeND46on1axpvZ+7ob61vncW47M6s\n",
       "w/itI1p5eAeMr79Afknj7b75j59t+GcxTrpX22Ecw/H5xtcvdLug8e4cQr3Erfif0xg3nc4bjN85\n",
       "krW3OgwYd+R5xrvEWdz9gRXGf4T8nLozTQ/jdw69dh10v/EAN55dznj3lzubAKfrjP815Ofs3ooO\n",
       "43cOs/ZpuP33pAj7OOMfv+tVwJcPa1x2rpDvZXziHgowHjSiVAYzPpjCnjIebzdUEfLlw/bVeWdY\n",
       "sbnxeXsowHjYVr32fqZe4zSGcW6DGo8DH3aJvvpDwq5eTkb7+gGewHjYlw9s3LWxwfiNI0ndWYsG\n",
       "49v11YlpT6zD+I2DhrwvGcYvk8d9+3IKjN84WKgnAcL4pYx3HvIK4zcOf96N4y5mfONHOwc2ztr9\n",
       "Nxi/cYiQzxd5svGtCxbcuIPxh4SB8Ucap+1FMDB+4wj4SF8Y39R42Hn1uD1ugPEbRwTjj8zjMP4k\n",
       "4xTGH2g8Oco49lA4wHgM4zCOPRRuHCmMP9K4OnVf/e/pH6AZsO38CeMPNP739r1I/wLjdzb+Dxi/\n",
       "hPEfDzKOvnrYtpPA+APzuGwbx7w6jMM4jMM4jMM4jMM4jMM4jMM4jMM4jMM4jMM4jCNg/FbGf/2S\n",
       "MI6AceRxGEfAOIwfaRx7KMD4dY1f7FlPexvHHgowfn3jW59CntRX5zEHzWAxsfME4zczXubVKmx8\n",
       "KuPI48jjTzT+YwtzJ83jMH4u471HQ8J4M2la9NVh/MLGe/c0FBLGe2oDxmH8NsYTDePvUJ7AOIzf\n",
       "zThxMP4OY2Ecxm9iXNXtkCUwXvlhBMZh/CbGk/o5zlbAeBk//whiHPPqiHMZb3RQH26c/SaRx2H8\n",
       "jsYTBuNZ8L94AuPYQ+GOxtfPut3DuP+LhXHsoXBP41rB+Ku1/sYIjOP56sca/zOEce2yiKL8r6Jz\n",
       "Kj2ME/LP/8RPaRzPV0ceX5/H6wF5ujAOqY40RGmH/mPFy2NeHXE646sn1q+ax5usf49aX6KvDuM3\n",
       "Mr7+Avk1jbcTevS31vdgHMZvZHz9QrcrGu8MMH78bMuHcRi/kXFHHmi8O4fQXOKWwjiM38p4gBvP\n",
       "rme8+9ss/vIDMA7jFzPeuCdF2McZ/7gQwE33tWEcxi9ufLB5P2Y83gqvwr089lBAnMw4jWFcipAv\n",
       "jzyOOMw47UswnsA4tzDefT/soXBJ4yf0dpK+OoHx+oSHPRRgHMbRV6/PCNhDIWBgD4VnGsceCsjj\n",
       "MH4247gnBQHjxxrHnoYwDuO3Nr75cYJxBIzDOIwjYBzGYRzGYRzGYRzGYXz/44R5dQSMI4/DOALG\n",
       "Yfxg49hDAcZh/JbGsYcCjMM4+urNMwL2UAjZdv6E8Qcaxx4KyOMwfrbjhHl1BIwjj8M4AsZhHMZh\n",
       "HMZhHMZhHMZhHMZhHMZhHMZh/HLGeeyNM2nYcE5o9fU4YV4dAeObv2diDJVbPE2QK+a8RR6HcRg/\n",
       "9D2l0Vs+LVQaz2EcxmH8uPekYut2p5y6u3HsoQDj5zXu9fbvzk18V+PYQwHGz278t3/s8v7/JtBX\n",
       "J9hDIWxgD4VJ7+n3OhMyto9x7KGAPA7jrbE4260Eov94YG9iBIxv+J7c7VeCgffCvDoCxjd8T71n\n",
       "HfVv3d4yPgBAwjgCxhe9Jze7lsF9Nc76r7EJCeMIGF/ynnG8axl617VOMZ5oGEfA+JL3FPteyFF6\n",
       "oXHiYBwB40ve0+xcCNd7nH58N84SGEfA+Pz3tH7nQpiledwKGEdsbNzpGxpXbOfK6BsbTDJOjD29\n",
       "ceyhcG3jPDU3NJ6kO1dGKqcYV9Rzy6igRDImCvUJO6tx7KFwlzzOyQ2N83Tnykgn9dUZEZ5mpYtf\n",
       "XyXR8FD+gn117KEQ1jj2UPj2nukJCvFhXCnisuG3TWnDaHnd7XufHXsoII/D+NmMd+bV+SuDq3wk\n",
       "kd+XXY4LpJ/Y88CcG4zD+MnzeDVPUOiOyoF4MSBPDIwjYPz6xn0u2WWq1csErzrpljnDJIwjtjB+\n",
       "z3l1svu8+jTjee4uOuwv7vkd4OUFcpNMNQfjMD4zbnl9fGlBFlfGNOM2v8RW4BSM5J30cqFbymEc\n",
       "gb765fvqKr9ORvMTidI0R1FcOlMRgXEEjF/O+IT16uWNZ9QTjvE4Asavnsd7onw6tKaEcRhHwPjt\n",
       "jFfPspA6luSsxrFeHcZhfLFxGs82t5txrFeHcRifYZz2p+k598Cirw7jMH5i4+HMndQ49lAIGdhD\n",
       "4ZnGsYcC8jiMn8s49lBA7GJ8XsXbo43b+T8wx7jdqjLQV4fxo4zTeSlf0WONfy/uZwlnGJ9XG3Mq\n",
       "A8Yr49a7NPXeC9H/6ZWpbrhDBDE+8UFCljFdPHqIxkGNU6+1pz3HXnoXRa+vvImiuF3c7AddviGh\n",
       "j1Lz4eyjhNONT6uNRZUB43Uel2l+tcBGAzf4wHhI49UKC+5G+1E8W0+ZFK9qeDjjMr+JklAne469\n",
       "Kr4iXLBucVlaXkxu70tYfopuCScbn1YbyyoDxmvjtjyycdqP2cB4QOO6bGTJ+F1NNHvB8r7KWAcz\n",
       "XjzSKH99+Xnsq68I993imupldKvY5afolnCy8Wm1sawyYPzTuEwdjG9uvLqZSY8/F1BFWd4s752O\n",
       "eCjj5n0vlXOfx/5tnOhucdPqmePtFSLVp+iUcLLxabWxrDK+3pPyQONq4G58GA9o/P38IDehVpMy\n",
       "65g6+fjyqE1/zn/aekFW50b6ceyLr1T2gNJOcVWV/3m72NWnMPEi43NqY3ZlII9/GmevX1QmognL\n",
       "HnXDNaXF4ymNjl//TAA5hHGdN2blRSr8tzli5coGyerkaYuBdPnXXOO+LqZsqC6OffUVVd3iZv9f\n",
       "vl/c+M/Gp2B+kfEZtTG/Mm5sfOKSq65xTovJ1Egn9lURMp8EEVnFm/yfRkNyAOPmPQD9eoCo9xWs\n",
       "Rgcrb9AziLeauklVPTKPPo7963veN36mLq6Lup349qeIzSLjk2tjSWXc0Xi5rm5BHneMseo6ZTZO\n",
       "41XnSWanb+OL3po6hSa7+S9satyVP6enPKWsnEp+P9q/atdziA8bdx/HPhdvhfooLn8P1DvD8epT\n",
       "JNEi43NqY3ZloK9e76Fg0+ZwphAtyxfJxm9lBk/PkciZ2voXlhmfuIdCpD4GoNy4OtrtNSpakGzP\n",
       "jbtB4mlf9PfVVSo+jn09Hq/OjGVxq7EwsbR3ON4pYX850pW1EaQyAhu/yh4KHeO6OKhF7Wf/VRkX\n",
       "ML4+j5etmn/rFcm85YriZdtPFhtp1t/n3HQ95xYPGOe8vrmiLO57OM5avaL6U6hleXxibSyrDMyr\n",
       "DxpnrTyup+fxmM06R9rh15OsfRW2OQqsyMY6iWOtkq+PwD6X8bJ3mg9A+egL8rpZJy5QX52IDIhK\n",
       "3iPsPuN57cpWcVna21WvP0Xi1vTVv9XGsspAX33cOIn0exBe9d6/tCtZnl9fwzs2NmvAmPdZOeOe\n",
       "iVReTah05mnFJ9mEijwPfF0MOd94kj3Q613OsMYFfQ9Ak7EKjXyjexqLQHNur2PNSKI4rdfA9Bs3\n",
       "7eJWS1TKi1W8MRwvPkUsFhmfWBvLKgPGm2tZmzMe5eOsZSQr8CZfPuj7LUnqRTFJU17rzOiqkW59\n",
       "9vLZigfqPi/HSUrLk3RnG5oe40TIfCXk14t6c40nRcOrytk8glrFA6eUycbLk5f3hI9eLIrjxjBY\n",
       "s3arXnzt7PWLhtLsyaNlL7l97GVlnEXt4hZ9OVtObb+3Nag/hWaLjE+sjWWVAeP1PSkmTd+AlU+j\n",
       "/N6DV1f6lcjyhiB4ohTtl6L1u3pLlvm5YeSetqxnkD+3vndlUzLduCtuaHAkDmk8rm7NeZezUbis\n",
       "6+DWGZfF71sRfym20lpXM9yu/gjVFSRrlhl/nVyFp/nJS3aOvSzvUPEiemd3WX1cJrx+M3SOdz6F\n",
       "U4uMT62NRZUB44vuLY11/Mq1ntBY5NXbvAuoYGnzMkTDRcgeP5PZ4Wad8WxJdXbi8bTvc+T3UZn8\n",
       "qu8c41Qk3XJaXYQq2tSArelrWd38hxRYt6ZZ9Da7bMmDWF7chI+XcPJa1vm1Mb0yYHyJcR6rjE02\n",
       "PKL5DGyzmRRDaZmXwY3XJHP5g+rjYePKfc3jo+f9bE86b6WZZVx2T02s056yIUas+CrjC24w0XFw\n",
       "497I2C0vLvtSwsnG59fG9MrAvPoS45bTTE3Wg81HRapR39LI2nhEx/urWY7UsR02TgzlK4zTsh2y\n",
       "eXk8Ea2H5kvX5px1HZL+iwcz7h8Xc+vdrrto2X/bdpqmdHFxu4PnjxJOv398bm3MqAzk8WXPgclW\n",
       "FecT6PlVj9iIPJJsMFdMQhd99dEiWNGoFimqsC3jSetJBJ/GP1ZXtF7o9bs2qazPGY+rhvJWOb+1\n",
       "p+nG+VyywoY3TnTklxeXfivhdONza2NGZdza+IZ7KGQzatnMk02JzK5jNw+8nzTnll8Xt0P/Xxm3\n",
       "0dS+eu9ldl+0wySZPef2Ollp+72cK4x314p97ZOsXIy7ttl9L+5nCWc862lebcypjDsa32EPBZuW\n",
       "uTwW+cWlZqYrp8mySzOqzhGckfYNiVZIKTX/YnzCvHpVrX1tJPbSE1lcZZl9fdzmXZLxcq4xvnPg\n",
       "uayP7avX69XndGUzvCaf0MrHy1bIrvFsDUyDhoxs+UfVExhYupzrYiZldJbxvsvs+e+nUXmxZcE6\n",
       "N/ulnH1t508Yf6Dxq6xXXxOcZSNg1cNyXXw3rpLi9vaB2eE6vY8YT6JQ+0ggj1/FOObVV4RyuxqP\n",
       "svVWZOAy++s3kgnGqwcAzpldg3Hk8ccaJ4aG+ygm+WbcFhP8/ZfZX+mdTzcuk+KnO3P8MA7jMN59\n",
       "yVDt3MqeAfIn2WyM0H+ZvRnZL3Ch49ir/OK2pEm+YaVkSVz11R3yOIzD+FmiNq7l9F9QJu++W1N0\n",
       "7rP87Rq2YRzGYfx8xhkndLpxX92olt8T9+oBSFOPx2EcxmH8PFFtDG/SNHWTf0Hpyjiv8jfyOIzD\n",
       "+H2CeyeV04RFCVE0zm+Uzcbjxc3ykkYsgfEnGMfexAgYRx6HccT2xp2G8fWVgT0UYPy0xnlqYHx9\n",
       "ZWAPBRg/bx7nBMbXVwb66jzmoBksJnaeMB6/2Xi8zKtV2PhUxpHHz5vHYXw747gnBQHjG70nx7w6\n",
       "jMP4rY0ndOdC9K11hnHEKYzfc15dsZ0ro++GYRhHnCOP3/L6uPU7V4ZBXx3G0Vff9T3NzoVwMA7j\n",
       "ML7re4p9L9Yq3XucMK+OgPGt3pPGu5ZBK+RxGIfxXd+T79tZd+TOxv+EcRg/n/Hv20iHDBrf0fjf\n",
       "kcdh/MzG90zkfGgPaeyhgFhqHHsofH9PynYrgUh2Mf6EPRQQyOMz3lPsVUuMDR0nzKsjYHzL9/z3\n",
       "f+zy/v8qBo8T5tURML7pe/oduutcUALjMA7jB70nE1u3O+UUgXEYh/HD3lMZveWCNym8JTAO4zB+\n",
       "5HsmxtBNGh+XzHg7fpxgHAHjO7wnj71xJg0bzpmvq2xgHAHjl33PSYE9FBAwfm/jyOMIGIfxCxjH\n",
       "HgowDuM3NY49FGAcxtFXb5wRsIdCwMAeCs80jj0UkMdh/GzHCfekIGAceRzGETAO4zAO4zAO4zAO\n",
       "4zAO4zAO4zAO4zAO4zA+/ThhXh0B48jjMI6AcRg/2Dj2UIDxqxpPN3557KGAgPGDjU8K5HHsoXCA\n",
       "ceyh8MQ8jj0UkMdh/GzGMa+OgPHTGuf28eNxGL+y8d6jIWG8EULCOIxf2DhTY60axglRnsA4jN/N\n",
       "eKJh/B3GYjwO47czThyMv/2wEC+f/hXGEccbV3V/kiUwXsbPP2Acxu9iPKm33bQCxsv6+U0GMY7x\n",
       "OOJcxhuD0Gcb53/xBMZh/I7GEwbjWfi/WBjHHgq3NL5+1u0WxuVvjMA49lC4p3GtYJyQf/4nDuME\n",
       "eygcGev3UMiNa5dFFOV/FQNQWa/8WBiHnPLSMKWtvvvzR6CXxx4KiNPl8dUD8svm8Yb439v6kcdh\n",
       "/E7GV0+sX9N4G3X0t+JbAYxTGEecy/j6C+SXNN7us//42f7u8pd3qYZxxLmMr1/odkXjnWF5vcSt\n",
       "+I/lL+9TA+OIcxl35HnGuxNvLG5W9KqXV22TMI443HiAG88uZ7xLnJt2Ta/6SC7sgBzGYXyR8cY9\n",
       "KcI+zvjH73oV8COpNOIwjjja+FAKe854vNVQRdCPxFIP44jzGKcxjHMb9iP5kFPr2EMBxqcH7Xus\n",
       "kycwHvwj0YCZHHsowPgZigbjnbDJZY1jD4UjjWMPhcsYD59Xq8AeCsjjMH4z45hzg3EYh3EYh3EY\n",
       "b1XkSW+XhXEYh/FTJloYR8A4jMM4AsZhHMZhHMZhHMZhHMZhHMZhHMZhHMZhHMZhXME4jMM48jiM\n",
       "wziMwzhiunEF4zC+h/Hsr2jaY+JhHHkcxq9mXME4jMP43sbJAcYdjO8fURrD+AONq2OMm2lPl4Vx\n",
       "GIfxqxlP0ij7S6QMxvcOB+MwvoPxOM031Zj43EkYDxkm8F55MH6NKPPqbsZpsZeTnvbYSRgPGRM7\n",
       "TzB+syjz6m7GWSoaf8H4nuED74cJ49cI2t4jcXPjumhn8bStGWE8bN17GH+g8U5C3dy4KMaEqj1E\n",
       "gPEDjjWMP+bcrnc1bop1GHbaI+1gPOy4zMD4A42L9lzr5sajtNhOJ52kF8ZDxsTOE4zfLEx7fePm\n",
       "xquls27S/REwHjJsgOcBfxwPCeM9tRL+2K2o9yqv7mTcVqnET1qPAeOBT7Crq/Nj51IhYZyYLHGx\n",
       "ON7ufoA19d6+JWVz46oaEtJJ13FgPGi49TeXfrS1RMO4zK5XaFn8vZPx6fVuO0O0rY3TahmGmjT/\n",
       "A+NBw69fzPq5A7mDcZ1VijAxJ/sZn17vXWpbG/fV8J9PGhvCeOAzrA7f1ljyeOM5Nxmlkd3R+OR6\n",
       "p53ljVsbd++hgZvCF8a3GSmFbGtWPN143m22nFhHdzQ+ud5957EBGxvn9dCATek3wnjg6k/DtzVi\n",
       "7MON+2z6y70qhskdjU+ud9eectvaeFKvplRTFlbCeOhulA3R1jjV+Qna540nYc82zvPOUZxsOa2+\n",
       "ot55d1XExsab3YYohfG9g62edMvbGiNJ1Ggs7tnG4z3u2F1e70k3mW5svOlapxLGdx+Q+wBtTSZE\n",
       "Z+3Ll6N7rR5t3PCdjC+r9+5wfGPjstnE1IS7mWF8w5Ps4rb2atNRlruiMoHVl4XTxXGE8SvEtHqf\n",
       "dci3NU5bp5QogvG9Y0rnacLcj8qmcWz1WgEG5BfO42yXh90urnf50XXb1riJ2uIVjO/eWWch2lre\n",
       "ZaRVWwkwsX5h447sZ3xBvdOPB25valx2Gtj3wSGMB++sRyHamsiOnBAkX9kV4gL5dY0rvaPxBfVu\n",
       "Pg74psZ950IdSzmM7xx05ZL1Mp/4bF0XIyxUZ/W6xr3c0fj8epefHbctjfNu3uZfO44wHr5l+wBt\n",
       "jXtGE+upDNVZva7xfbrqi+vdf+bRLY3TD7D0WyKH8fCNJeXr21ozgtx4dlnjMd3T+Ox65z2n9C2N\n",
       "R5+FcgzGdw6+btbts60J+2Tju1wcX17vtAfQhsb7knbyxTCM73McVrQ1bsiDjdu9noK5sN578uqG\n",
       "xnnvMkotYHzv+NZ5mtfWaJD9lQ5dX7KmOpKjjE+q997z+XbGfb9mF8P4zpGsqVTanUb2j67L3T79\n",
       "onrvz6ubGVdRfw9RRhzGdw4tUAfPOAP1HujNjLuhy7LKwvjuvfUYdfCAGMirWxnny1ZeyGLg5HG8\n",
       "gsZ45wlxl1P55zPgDrsBaOTUEOehcLwCn+HRPbp/9OTVgtMevbj/D4oBwyDCLjqAAAAAAElFTkSu\n",
       "QmCC\n",
       "\" style=\"display:inline;vertical-align:middle;\" /></a></span><br>"
      ],
      "text/plain": [
       "constrained_event_prob_bound_inst: |- [forall_{m in {0 .. 2^{t} - 1} | |m - b|_{mod 2^{t}} <= (2^{t - n} - 1)} (|(m / 2^{t}) - phase|_{mod 1} <= 2^{-n})] =>  \\\\ ([Prob_{m in {0 .. 2^{t} - 1} | |m - b|_{mod 2^{t}} <= (2^{t - n} - 1)} QCIRCUIT(VertExprArray(([INPUT]{state:|+〉}, [INPUT]{state:|+〉}, ..(t - 3) ×.., [INPUT]{state:|+〉},[MULTI_QUBIT_ELEM]{element:[INPUT]{state:|u>, part:1}, targets:{t + 1 .. t + s}}, [MULTI_QUBIT_ELEM]{element:[INPUT]{state:|u>, part:2}, targets:{t + 1 .. t + s}}, ..., [MULTI_QUBIT_ELEM]{element:[INPUT]{state:|u>, part:s}, targets:{t + 1 .. t + s}}), ([MULTI_QUBIT_ELEM]{element:[GATE]{operation:QPE(U, t), part:1}, targets:{1 .. t + s}}, [MULTI_QUBIT_ELEM]{element:[GATE]{operation:QPE(U, t), part:2}, targets:{1 .. t + s}}, ..., [MULTI_QUBIT_ELEM]{element:[GATE]{operation:QPE(U, t), part:t}, targets:{1 .. t + s}},[MULTI_QUBIT_ELEM]{element:[GATE]{operation:QPE(U, t), part:(t + 1)}, targets:{1 .. t + s}}, [MULTI_QUBIT_ELEM]{element:[GATE]{operation:QPE(U, t), part:(t + 2)}, targets:{1 .. t + s}}, ..., [MULTI_QUBIT_ELEM]{element:[GATE]{operation:QPE(U, t), part:(t + s)}, targets:{1 .. t + s}}), ([MEASURE]{basis:Z}, [MEASURE]{basis:Z}, ..(t - 3) ×.., [MEASURE]{basis:Z},[GATE]{operation:I}, [GATE]{operation:I}, ..(s - 3) ×.., [GATE]{operation:I}), ([MULTI_QUBIT_ELEM]{element:[OUTPUT]{state:|m〉_{t}, part:1}, targets:{1 .. t}}, [MULTI_QUBIT_ELEM]{element:[OUTPUT]{state:|m〉_{t}, part:2}, targets:{1 .. t}}, ..., [MULTI_QUBIT_ELEM]{element:[OUTPUT]{state:|m〉_{t}, part:t}, targets:{1 .. t}},[MULTI_QUBIT_ELEM]{element:[OUTPUT]{state:|u>, part:1}, targets:{t + 1 .. t + s}}, [MULTI_QUBIT_ELEM]{element:[OUTPUT]{state:|u>, part:2}, targets:{t + 1 .. t + s}}, ..., [MULTI_QUBIT_ELEM]{element:[OUTPUT]{state:|u>, part:s}, targets:{t + 1 .. t + s}})))] <=  \\\\ [Prob_{m in {0 .. 2^{t} - 1} | |(m / 2^{t}) - phase|_{mod 1} <= 2^{-n}} QCIRCUIT(VertExprArray(([INPUT]{state:|+〉}, [INPUT]{state:|+〉}, ..(t - 3) ×.., [INPUT]{state:|+〉},[MULTI_QUBIT_ELEM]{element:[INPUT]{state:|u>, part:1}, targets:{t + 1 .. t + s}}, [MULTI_QUBIT_ELEM]{element:[INPUT]{state:|u>, part:2}, targets:{t + 1 .. t + s}}, ..., [MULTI_QUBIT_ELEM]{element:[INPUT]{state:|u>, part:s}, targets:{t + 1 .. t + s}}), ([MULTI_QUBIT_ELEM]{element:[GATE]{operation:QPE(U, t), part:1}, targets:{1 .. t + s}}, [MULTI_QUBIT_ELEM]{element:[GATE]{operation:QPE(U, t), part:2}, targets:{1 .. t + s}}, ..., [MULTI_QUBIT_ELEM]{element:[GATE]{operation:QPE(U, t), part:t}, targets:{1 .. t + s}},[MULTI_QUBIT_ELEM]{element:[GATE]{operation:QPE(U, t), part:(t + 1)}, targets:{1 .. t + s}}, [MULTI_QUBIT_ELEM]{element:[GATE]{operation:QPE(U, t), part:(t + 2)}, targets:{1 .. t + s}}, ..., [MULTI_QUBIT_ELEM]{element:[GATE]{operation:QPE(U, t), part:(t + s)}, targets:{1 .. t + s}}), ([MEASURE]{basis:Z}, [MEASURE]{basis:Z}, ..(t - 3) ×.., [MEASURE]{basis:Z},[GATE]{operation:I}, [GATE]{operation:I}, ..(s - 3) ×.., [GATE]{operation:I}), ([MULTI_QUBIT_ELEM]{element:[OUTPUT]{state:|m〉_{t}, part:1}, targets:{1 .. t}}, [MULTI_QUBIT_ELEM]{element:[OUTPUT]{state:|m〉_{t}, part:2}, targets:{1 .. t}}, ..., [MULTI_QUBIT_ELEM]{element:[OUTPUT]{state:|m〉_{t}, part:t}, targets:{1 .. t}},[MULTI_QUBIT_ELEM]{element:[OUTPUT]{state:|u>, part:1}, targets:{t + 1 .. t + s}}, [MULTI_QUBIT_ELEM]{element:[OUTPUT]{state:|u>, part:2}, targets:{t + 1 .. t + s}}, ..., [MULTI_QUBIT_ELEM]{element:[OUTPUT]{state:|u>, part:s}, targets:{t + 1 .. t + s}})))])"
      ]
     },
     "execution_count": 100,
     "metadata": {},
     "output_type": "execute_result"
    }
   ],
   "source": [
    "constrained_event_prob_bound_inst = constrained_event_prob_bound.instantiate(\n",
    "        {Omega: _Omega, X: _X_sub, f: _f_sub, x: m, Q: _Q_sub, R: _R_sub})"
   ]
  },
  {
   "cell_type": "code",
   "execution_count": 101,
   "metadata": {},
   "outputs": [
    {
     "data": {
      "text/html": [
       "<strong id=\"conseq\">conseq:</strong> <span style=\"font-size:20px;\"> <a class=\"ProveItLink\" href=\"../../../__pv_it/_proof__success_prob_guarantee/31b3633170c98c2df54b130c2e42d2eedd9d0ae00/proof.ipynb\" style=\"text-decoration: none\">&nbsp;&#x22A2;&nbsp;&nbsp;</a><a class=\"ProveItLink\" href=\"../../../__pv_it/_proof__success_prob_guarantee/dd4fb856768b5f5c5cb7323027078ab40470b2570/expr.ipynb\"><img src=\"data:image/png;base64,iVBORw0KGgoAAAANSUhEUgAAA5gAAAIpCAMAAADw92frAAAAkFBMVEX///8ZGRkkJCS+vr4aGhpt\n",
       "bW1eXl6fn58oKChycnIXFxeDg4OOjo4/Pz8bGxsnJycrKysuLi4YGBhpaWmhoaGurq56enofHx8d\n",
       "HR1RUVGTk5M9PT1GRkZmZmaIiIiqqqoyMjIQEBBEREQiIiLOzs6/v79aWlrf39/u7u7c3Ny6urqY\n",
       "mJh2dnZUVFTMzMwAAACVoXHUAAAAAXRSTlMAQObYZgAAAAlwSFlzAAAOxAAADsQBlSsOGwAAIABJ\n",
       "REFUeNrt3X2jpCaeL3Ane3eTu7Mzk9lNurczF0ToJICA7//d3fKpyscqFbSw/P7+6O5z+hxF5FM8\n",
       "iokrqrAJ4g3BNPJgexTL4t3JVEIOviMWJMwVJr8FCsg7guDz0AtmwJ/aM8zwNpficvsKpsIdflOk\n",
       "mUQmXABmkuUT38wBM9KQk/cL8Xkw9RQywIw1LNvca5m8k4DZ+9hTQWDKNMit5oB5mnDF5o69mfpN\n",
       "HkJm8YbYB+Y9O7xg5gUPca9VkQLmWYJtrjCnYabksNbhGxqka39T2xCXREJNV3ABmCeJdHuFOQ0z\n",
       "EYDZ+dhTAS6JhqkvK2YUME9SYXo46sDUjwEkkwLmvdSbAMfXRRFs2JxngHmSHiYNAjN9HEZxwGxC\n",
       "/q8McHxRmIANpBQwzxDW58N4Gman+XZ1mF+/BDh+yArzlgwGmCcI6dV7mYGZGsCs4tcsxPHtyJLf\n",
       "J7EDzPgjL9LwMAMM/3wGzOyXEMcXBQl4mXrYLgbMGIN7tZLmYBINmLfWyP98DXL8wmcYYOJwGWCe\n",
       "oCXrVblVMIkoI8uqv+rpNmcB8/ah99/fY4TJB21ZwIyyJWu8YU7UmI9O5vHLcLbzCrNoaPYqPA4f\n",
       "dC0zHdxzwIwwbKH3gOk/LHvSGrOL8Z8/V1+HqDGDwnSDsSTAjDAyPwAzMANMZJ4SZq+KzP+hm29G\n",
       "BjMZzL4A5sd1MedgBlj6c0aY/Zbr3//2gBAXTNZvJgFmfJF6rsGcgSmSC8IcdIvNf6mkL9MD5peg\n",
       "F0r6g0mAGV8Qz7Ve0zBDPF5yOpgDl5KNf2I7zD+CXujgETLAjC9YkYaC2VnEztX1YA5/2eqXP/I2\n",
       "mK4/kwmY8UVWuFAwZyuL6/Qxu6WZBzx+aJiyX7sDZnzhuzp6EibNAVOqoDC/hL7tDjBjDuU7j0+n\n",
       "KlybAGbQ44celU1ErwcDmNFFWohYkwaYO8JkvWFZwIwuaNDniQBzp+N/+xZ440HbG4wHzOjCBNtK\n",
       "BjDPVGP2t/YCzOjCxvuqGMDcEabptZQAM7rgQZ/AvTDMfR+Y2QGmAMyYgwHme0/5Jpi0t8IAMKOL\n",
       "kLuvAeZ5YOa92hswo4sMMM8B8wtgXgwmBcwL1pgpYMYOMwdMwATMj7/jgHmK26QBM3aYKWBeEKbr\n",
       "PbzwAuaff/wJKQfH//vXd8C8IMw///Wvzlf/9gdqTNSYgLnlNgUelV1VYwImYAJmhE1ZwARMwARM\n",
       "BGACJmACJmACJgIwARMwARMwd75NGJUFTMBEjQmYgAmYgIkAzH1OebatRQATMK8B82Rbi6yC+Xvx\n",
       "HVIOh/kbYF6wxvy9B/OvqDFRYwImmrIIwPwMmME3fAbMT4c5ecscYHbj/n4h1JiIo2BOvu2LO8Cc\n",
       "yg7ARLwVZogXSn8OTG3Rx0REATMRgPkIpgAT8UaYnVe9mxQw2w7mX00CmIg3wkwfW9QqDphtB/Pv\n",
       "MgRMLGIHzAAwO823i8PU/8iTEDBRYwJmCJipAcwq/vlzApiIaGAGGP75CJj5PzRgIiKCSTRgJon8\n",
       "z78l54cpcwkpBwf5pgLAJKKMLKv+qmft3GPybmu842OqCJXa+ntf/68KdPzAMOW3b52vVI4a8yo1\n",
       "pn8n87Q15sPpUCxGZRHvhuk/LHtSmF2K2S/9b6CPiXgzzAATmaeE2asgv3wdfBMwEW+GGWDpzwlh\n",
       "DrqaX78nfa+AiXgzTJFcEOZgBMjkvYwGTMTbYYZ4vOR0MAe/LdmrnwBMxBEwO4vYuboezOEvW/3y\n",
       "R1bcJozKAuZWmLOVxWX6mL3SzAMeHzUmYIaASXPAlAowEe+DSad2EbEJYAY9PmACZjxJA8xIYGLD\n",
       "53fAxIbPV4SJDZ9RYwJmCJgYlQVMwERTFjAB8yNgJp/8UiHABMzTwtz7NgEmYAImYAImYAImYCIA\n",
       "EzABEzABM0zgNXyACZioMQETMAETMBGACZiACZiA+RkwseHz8eG94TNgnhImNnxGjQmYIW4TFrED\n",
       "JmCiKQuYgAmYgIkATMAETMAETMBEAOYxpyzCBmAiANPvlDK3TLCw51RC8Jdv+cWoLGAC5lykjFG3\n",
       "x1S71EZYhRoTAZjrT+kY2XP9i2NWAiYCMFeekvK9C6cWGjARgLnqlJbsf3bJ8jhhYsPnd8DEhs8L\n",
       "TvnTj4ec/z/4UTCx4TNqzA+AaY/KJGPmbhNGZQETMIf9S3NYCniKPiYCMBedUorjUjBzLsAETMAc\n",
       "Bjkyi6ZfLdqHOcPEASZgXghmkNdjLw/xGqaZnlfhDjAB8zow8/zQNEwuz1sEMyWACZjXgcmP3fBG\n",
       "k60wEwGYgHkdmOzgREzx6m/4PAfTpIAJmFeBqezBiWCba0zFARMwpz7ryQfC1Obg3JhqOi+DmTAF\n",
       "mIA5ClmwD4SZFgfnBikWwdTUSmUop4kzhtdUUwOYgDlRFj+xKSuLg3NDLYNpEm5pmbz89lWazfdP\n",
       "/WFiw+fjAxs+vzxlEUEqxjC1TgSvGNOOrGau5XWTFhs+X6nGBMz9YH4ZwJS3ulJXLe2yNiNNs9nZ\n",
       "hZU8mrKACZh71Jht57cmmTWdy7qTmTLABEzAfBNMW/ETJUV9kyPbNqwyghkHmID5GCZhgBkgNxbC\n",
       "rGrJuj17M1p1E5uJTPb6ngLmlWrMj5zH3JyOzbmxDKYq3J0UN0nVhm2W/hQSMAETTdn3NGV1NTVC\n",
       "K/2a0IpOPVuiswQwARMwD4H5ZdSUHUfzeAm1iUQfEzAB8y015kQ0O2wSmhgJmIAJmHHAbJ/odiR/\n",
       "+cg0YAImYB4Ek654ohswARMwQ8Ok0xXimufTsOFz9DCx4fPpYAYIbPiMGhMwQ8DEhs+ACZifX2MC\n",
       "5ifBXHd71JthqvU/sQbmfpkBmIhVMOm6ylXTt8JckNpRClfA3DEzooWprCgKay3n06nRLDMgdTjM\n",
       "hftWKGNIvdMFzUPCpJYQSycKiLMiy25fWZZleT+15Q+K6o1ANivY2MYwhcth7pkZEdeYrqiGflXG\n",
       "pn8SMI+H2U5fS/G0XSPLZWFpfVQmg8F01eNNCRVuooDo+qtEcjNMrSmaOb/Bi4GaqxikcDHMXTMj\n",
       "KpgpUx2YqsnpvJgWyADzcJikKRrp82cXaHnA5pGnnISCWW+gUR3ejQtI+1Ui7TC1rD3K4D3tzVUM\n",
       "UrgY5q6ZEdGobC7KfBvDdIUAzEhgto8skOcbPumsrKKaZxEzGQgmuz8wIcS4gNxhJmSY2qLdanUw\n",
       "+95eRT+Fi2HumhnR1JhU1GtuxzD1zMOmgHk4zPt2FWJB3qdNOeq8u9w293b5psRF93jmUQnRUQGp\n",
       "v9LlbnGD1Oq2ppWDVLdX0X+7+lKY+2ZGHDClEXTUx2zz3dyKjWYZTU25Z4IklNbbgDGS3/6ZwtVx\n",
       "MElVBLXlBbevRhi1aIqRedRTqu4dNn+thGkfqXQdinUBab+iepja8v+b0+Xd5aWdqzB2C8x9MyMG\n",
       "mJKIfGLwp85pSetRtoyk6pYwV3W0eZkRrPonI4B1GEx271W9vOfU2pZDp8FTlcIVLrvlkxX60dvM\n",
       "RgXk9j1rOz/zSK3Ihm3cwVXkbAvMfTPj/TCl7e1O0oUpjDHtVFHZrZBts8GVn4HM1u0U/eL0uVl1\n",
       "PWpeujOD0QMy+c/nlY5nZqZqWVonuwu+MEXzc4QtSWlz1LT7LP2tHK5xOQtTjApIxVRxPUqtvHc+\n",
       "h13M9ip6KVwMc9/MiKDG7MN8bPisim7ju2bomusruxtNXVm8KJyuyYrbLXzWF5DGWFueOp8ovrL9\n",
       "oOs3ehI++c/pZDC+6Odm72z9AGzVGnua1smLa9I/k1WLN3zO9KhXJZl4RL+QZUUzatD73BOzRXEy\n",
       "JpuyuuCjAvLoY7YrbJrUtt27RNHpLuYgha/ScUhmTKciMMxXGz6ruaZsDyapM1nfx9lamHym9cDr\n",
       "T8+mj16WYc2f12Tl8BoV426ro1QMOvyrYSbWeMBMOW2aF0/TmhOdT8x639M/826cxTVmUxblq1aK\n",
       "q4obrw/b333mSVl8OfhDHoM/+QxMKR8lrEntvYtp+h8/j6vQm2rMfTNj4oT91/C9c/CnB9P0akzy\n",
       "vMYkxA0Gz7LyG0+W+5XZW+05Njn2nfrDzNxmmPl99VM97DWb1pTy6Qto0z89wb22KVv1quTTTqt8\n",
       "lMVUhGnKJrws1Dq99xqnYFbZ5XqpNcV0S/ZxFb0Urm3K7pQZUU+XjGEmGbl3LNvGrStrivxWK9iE\n",
       "5vUr6LtLn2pLqkpCNl8AyxZ0Wdgl2w5zmIx+Jtz+R26BSfkj1WIirYrUUe0t6hLFnqR/+q2mi2E2\n",
       "9XbZq0qf6cpsp/WW8zCDP7dLNkmqJX0sMJiGyfqpbef/2+kJ2eli1leR8y0w982MiFb+DBcYuN78\n",
       "ZbNBp6sqnkopqz7+yxaizHU5MlfmAK3aM92MrrtXrkqCeH5lRlSbjOXzBVuLJzCHyRh88Mhqm8HF\n",
       "MFV7wR00HXTTaS3bt7mW8x8sxAtm08W2NpFPe7d53unbEdMvilunS8rLp7S8hqYR2S8groVpsn5q\n",
       "66aVasdF73swP66CmC0w982MyJbkuc4idlYUtr0MbYusWod8K6/G2OrGcJlqXc1bKUnLzC4/R6sL\n",
       "13l30MU9YGZPc9CJsiYiuZqHmTAqZ2EOk9E3nNefEYthtgM7KX/sdvboJE+nteyCpubZBwv3gunq\n",
       "wyievygi+laDtwOk4tEHa3Eotglm2XqwtFpo4wYFxDVL2i3P7vWoa2+a4ZY87rwQcnAVQm+BuW9m\n",
       "fMhjX+UMbzX8WjX8c8arSMsbVg1fNk3ZpwVQdd/i63gbqgcz7T2eMOxj9pPRO0ZZ0xP7DGbaW67V\n",
       "GdjRd5qpnUrrZDZOp9/5wUzE+uEHJXzKzlRhKeevuUdqU/k0hYuX5O2aGR8Csyz25cCHKm6fpYnr\n",
       "1ldNq/LV4E/VdFRz/98WbJU9HfzpJ2OU0WWr9EmJqkdmdFqvbOreQmeJ6rp6mtanfWS/puyWFekk\n",
       "Dw3TMpcLj9Sa5ylcDHPXzPiMrUWq9++W1dWtb02S/hvsm/GasneibWccOOmvnVTcOUfkq4L9dPBn\n",
       "mIzex6usO/4vYWb1qw0Hg1CqrvnFgrQ+Sz+lfjDb7YRX3BqehIaZFkVBt6d22CMcpnD585h7ZkYE\n",
       "K39Eb1J2E8xKXPX2MVv1AVVnVLS1ZAztlGWXqeaPts6dmUau8tOwwtDXMIfJ6GUCqVGUg0Sc5LnV\n",
       "VWfQ0bTah9CZNK+bsqpuDY8GdtSjKDxL6/P0TxelFTDlWmdcBYeZkMx6pJa+SOFymHtmxoduLSJN\n",
       "2b3SE5b8wmMeswu4HARKy15/VS+WNaWoK9XmZ/TcIJT2e6JmpiSt2VpErdsrhHreTc+tRRakdpTC\n",
       "FVuL7JgZn7/njxbxwSwHgappyGqU9ObQseQx+0+eDCoQr9yZ+W3skrcR5rGpeC/M8Bs+MxruSgZv\n",
       "A90Kk7QwZVtTdmpMI7utrcHw6us3xTwbDJlZPIYNn68J890bPrtQ9YEaVmVq8p/Pj1HONgqnBUlM\n",
       "liaa5tVUbNnHrNdQsFv38Vkl7wFz7ldRY54EJjZ8vlYAJpqygAmYgAmYCMAETMAETMAETARgAiZg\n",
       "AiZgvhsmRmUBEzBRYwImYAImYCJ2hSkIYAbIDcBEBIUpZ15ocU2Y23MDMBFha0yZAGaA3IgO5mPD\n",
       "Z8RRsXjDZ/QxP6qP+WrDZ9SYn1RjAuZeqXjDhs+ACZhRw5RHp0Ohj4kAzJenTOnBiZh6WB4wAdOj\n",
       "3/KRo7Jbt3TZnBtT25MCJmB6xEfOYyp7cG6wBDARaMq+PCU7OBECMBGA+fqU/NhJPE0mbxMWsQMm\n",
       "YPaC5oemgWjUmAjAfH1KeWxbViSAiQDMBackR2bRdP0MmIAJmO+sMqVI4oMZfsNnxGuY2PD55Smp\n",
       "OSwFPD0G5rs3fEagxgxwSn5UJhkzd5swKguYgDmKn3885Pz/zmdvE/qYgAmY47AHtGYlpwlgIgBz\n",
       "zSkN37twaqETwEQA5rpTakb2XALkuFUJYCIAc/UpU8boLiVUOsOsen6bABMwAXNWUG6ZKF+WGDKE\n",
       "YC+XMGBUFjABM8rbhBoTMAETMAETMAETMBGACZirYWKt7DvuONbKXhEm1sqixgTMELcJo7KACZho\n",
       "ygImYAImYCIAEzABEzABEzARgAmYgAmYgAmYCMC8NEy8hg8wARM1JmACJmACJgIw9zrlwmcvARMB\n",
       "mIfC3Pf474UpcwkpBwf5pgDzgjDlt2+dr1SOGhM1JmBuuU1YxA6YgBn4N6U6d1MWME8Ic/KWOcDs\n",
       "BneAiTgYptHPSiJg3kJbNGURUcBMCWA+gqkAMP8ATMD0hjn9WuSLwsxNApiIN8LUj36QSQGzCfm/\n",
       "EjAR74SZPl5WpThgNvH1SxICJgZ/ADMAzE6/6uIwf80SwEREAzM1gFlF9gtgIuKBGWD45yNgfvma\n",
       "nB8mNnx+B8zf9oFJNGAmifw/3+OEiQ2fL1FjElFGllV/1dPp7jGrvjXekRtFkNQu+f7KQFMWMIPU\n",
       "mP6dzLPWmB2Mv2ZJz6ZHjUkBEzBDwPQflj0nzF4VWY/8PGhuPr4oCGACZgCYASYyzwiz33K9j/y0\n",
       "3958fFswwATMADADLP05IcxBv/jr96RfkW4+vu45AkzA3ApTJNeDORyuMnkvo72OLwJ3MgHzmjBD\n",
       "PF5yNphDl5INctrn+LrIJGAC5iaYnUXsXF0P5qhfqENekiksYALmJpizlcUlYToe9pJs0IFZwLwk\n",
       "TJoDplSBL4mGrDMB89Nh0qldRGwCmOEvSaWACZgRJA0w9wts+Bx5YMPna8LEhs+oMQHz7DUmYALm\n",
       "aWHG+sAMYALmlWGeLQATMAETMBGACZiACZiACZgIwARMwARMwARMwARMwARMBGACJmACJmACJgIw\n",
       "ARMwzw9TAyZgAiZqTMAETARgAuYczAQwI44s9EsxAPMUoQETMAETMBErQwAmYAJmfMFCv0YKME8R\n",
       "aZEBZszBCwOYF4SZFwIwYw4b+v1ugHmKoL3XhwFmdEHC7rwPmCcJU3DAPM8NAszrfCATwIy7r8EA\n",
       "84IweW/QDzCjC90bndsUo5vmAHMqW4KHT8az3oovwIwulP9ep6PXCnEHmLeiv/trBXwyPiscYEYd\n",
       "hXemj8pHSgAzcdWgmsnz9DiYKzK+/+p4wIwvhPdzX+MX8QnATEiZK8Q1QI+BuTzjVb8HA5jxhfVe\n",
       "kzcuHyYFzMoIZ3u+J8sj43V/zA8w4wvqvcJgXD4UvzzMulXpsiJTB8JcnPG0v+ALMOML7T1fMvFO\n",
       "aaauDtOWYytKJkrQA2EuznjbfwwXMOML6T0sW5UPSUnVJLZV0y01F4cpq087ccsZ4/aFuS3jRW/s\n",
       "BzBjDOGb61X5MEmade6wuDjMvKon83TPQVmPjJeD2WvAjDCM7+hPWT5cmpCyTNimXUz0tWGyI96N\n",
       "vj3j08EKacCMspNp/cvHrRxmZSWRNT2qEJMEJ4apDlmAvD3jB11MwIwyssK/fJS+ZTk91vSoHn2d\n",
       "Ynu8AeYpYlnGr7nlgBljkMIFgFk1qGh7g0MMy564xhSHpHZzxrthIwkw42zLmgDlg5f3mvOkmlEP\n",
       "0pQ7L0xNDoS5IePpcM9SwIyzLZsFKB/ElvPpJqmQB1n6c16Y1h0Ic0PGs+ENB8wog/otl63Lh7SG\n",
       "pspSF6wpd16Yx7RkN2e8GzWRADPO8BuXHS9ACfN4yWlh5vRImOsz3hYSME8RppBBywdXl4Z5yCTm\n",
       "9oyX489hwIwzpNfwz6h81OvRLgtTHbWL0saMp2NmgBltL1MGLB80vzRMk74L5rKMz8btXcCMNYRH\n",
       "lUmHY5CBHg1+59y9Txy2H+i2jJ/6EAbMWCNF1l+m2zJRrQJmtEE48uASYaduNGBG3JjNkQcXCJ3J\n",
       "LTCrsMi+N4TLJDLhAp+/wwEjsaBzLfMqNLLvLZ+laK5coIc5wlWbQ3MJgUAgEAgEAoFAII6JWLdb\n",
       "OC4wKrtPMAynecEM9kN7hhKjUXUR6iPDFQajsuGD4JPuAjATM35mpAwbBCZG7MNHignKS8BMssk5\n",
       "jxww4wyZbZ6jmrwbDjC7uavCwJQBnkjRk3wAM9JodwLe0jia6lQEeSvtqR4cefab99zwK/55EWKp\n",
       "8pZlsID5pnAe+/lMwgyxbcg72n27wNQ2yCWRMAOeqkgB8yzBtleY0zBD7DT1MTAfu7j6XBItAj3a\n",
       "wwVgniRSnw3wOjD1o6Ma4AH9T4GZmxCXpIsi0PCcKyhgnqTC9KnfOjDTxx0PsKXNp8D8+j3EJYnC\n",
       "hLpIngHmSXqYNDjMAK8/+BCY5icX4PDhKsyygZQC5hnChtqXsgvT/620nwFT/mBDHN56v9K7m1YG\n",
       "mCcI6TeqMAPTf/jnM2DaH1SIw4si4JtO7OgFUYAZYeRFugdM77fSfgRM95MJc/gi4Mbteu3bDwDz\n",
       "HcH9ei8VTCLKyLLqr7rt5v1W2o+A+edfZHwwkyIDzBO0ZP0anXM1pv9bad8BM8yaoSXfXxsh9/Xg\n",
       "w7YsYMbYkjW7wPQelj1rjdnV+GuWdG361JghYdLhPQfM+ML6vV5vDqb/ROY5YfbryOyX+nuRwXTD\n",
       "cVnAjC8yz3syA9N/6c8ZYQ6arl++3l1FBTMZzooC5sd1MedgiuSCMIf94u6in8IT5peQ18kGzSTA\n",
       "jC5S37XR0zADPF5yPpjD3zZ5j5YfzD9CXicZDPICZnRBfNdgTi9iD/BW2tPBHP7y4EWUMcEcPtoJ\n",
       "mNEFK9JgMGfL5GX6mL2wOuDhw8J0g5lMwIwussLtADPEW2nPDtPxkIcP28eUg94wYEYX3k8t0CnY\n",
       "NgFMqYLCzAPfdgeYMYeKdxPij9nBIEaYot+DAczYIi0EYJ4A5rdvYTceZP1hWcCMLWjI5/wA8zQ1\n",
       "pu0PxgNmbGEKDpgXhDnYcg8wYwsb70tgTgZz521rA8M0/ZYSYMYWPOST8VeGuXfCgsMUgBlzMMC8\n",
       "JEzaX2EAmLFFwF0RAXNXmEEXGNwkFoAZc2SAeckaEzCjh0kB84IwU8CMHWYOmIAJmJ9+wwHzHPdJ\n",
       "h4f5e/EdngLe8N8A84Iwf+8/vPBXwIzuhv8ImKeA+SV2mGjKhr3hKWBesMZ0fZjoYwImYAImAjAB\n",
       "EzABEzABEwGYgAmYgAmY771PXwATMAETNSZgAiZgAiYCMAETMAHzKjBPtrUIYALmRWDu7T56mDKX\n",
       "8BQsyDcFmBeEKb99636p8hDWUWOixrwazNAbPqMp+/EwJ++GA8xu9aSu0JQFzLhgTr7tizvAnMgN\n",
       "wES8F2aAF0p/DkxtE8BERAEzEYB5D6YAE/FOmJ1XvZsUMNtCbxLARLwTZvrYClNxwGzi6/cgMLGI\n",
       "HTADwOy03y4O0/zkUGMiooGZGsAsQ/5gE8BERAPTf/jnM2DaHxRgIiKCSTRgJsnvwiQXgYl9ZcPC\n",
       "/C0ETCLKyLLqr7rt5h6zdxvjLdlRBEtt9b2//acMc/j4N3xGjXmOGtO7k3neGrOVOhKLUVnE22F6\n",
       "D8ueFWbX4j9/7n2NPibi3TD9JzLPCbNXQ+b/0D2qgIl4N0z/pT9nhDnoav79b32ugIl4N0yRXBDm\n",
       "wKX5L9XJaMBEvB9mgMdLTgdzODIrWT+nARPxHpidRexcXRDm4FtWv/qJNfcJo7KAuRXmXGVxnT5m\n",
       "r6DykIdHjQmYAWDSHDClAkzE+2DSqV1EbAKYYQ8PmIAZS9IA81QwsVY2LMzfAPOCMLFWFjUmYKIp\n",
       "iwDMz4SJDZ8BEzC3ZSReKgSYgPlB5wRMBGACJmACJmACJgIwARMwARMwD75PWMQOmICJGhMwARMw\n",
       "ARMBmIAJmIAJmJeBKXMJT8GCfFOAeUGY8tu37pcqD2EdNSZqzOvBxKgsYAImmrKACZiACZgIwARM\n",
       "wARMwARMBGACJmAC5gVhytwywYqwIQR/+ZZfjMoCJmDORcoYdXvMoktthFWoMRGAuf6cjpE9l7Y4\n",
       "ZiVgIgBz5Tkp37vcaaEBEwGYq85pyf5nlyw/MUxs+BwWJjZ8XnLOn3485Pz/wQ+CiQ2fUWN+Akx7\n",
       "VC4ZM3efMCoLmIA57F+aw1LAU/QxEYC56JxSHJeCmXMBJmAC5jDIkXk0/WrRHswZAA4wAfNKMEO8\n",
       "HntFiJcwzfS0CneACZgXgpnnh6ZhcnneEpgpAUzAvBBMfuxeNppshJkIwATMC8FkBydiylfvNXxz\n",
       "ME0KmIB5GZjKHpwItrXGVBwwAXPys558IExtDs6MqabzIpgJU4AJmOOQBftAmGlxcGYUbglMTa1U\n",
       "hnKaOGN4TTU1gAmYU4XxE5uysjg4M4pFTVmTcEvL1OW3r9Jsvnt6FExs+BwysOHz63MWESRiBFPr\n",
       "RJRdSlXQDqxmquV1kxYbPl+qxgTM/WB+6cOUt7pSVw3tsp4iTbPZ2YV1PJqygAmYuzRlm75vTTJr\n",
       "Opd1JzNlgAmYgPkmmLbiJ0qK+mZCtm1YZQQzDjABszNMwgDTPzMWwqxqybo9ezNa9RKbiUyWLlAE\n",
       "mBeqMT9yHnNrQjZnxjKYqppVqUVxk1Rt2GbpTyEBEzDRlH1PU1ZXUyO00q8JrVDUsyU6SwATMAHz\n",
       "GJhfhk3ZcTSPl1CbSPQxARMw31JjTkSzwSahiZGACZiAGQfM9oFuR3KXACZgAmYcMGm+RhFgAiZg\n",
       "hoVJpytEm7wVJjZ8DgsTGz6fDmYSQhE2fEaNCZgBYGLDZ8AEzI+vMQHzk2Cuy3j1bphq/Q+sgblb\n",
       "bgAmYhVMuq5y1fS9MF8nd5zCFTD3y42Tw1RWFIW1lvPpJGuWGcALCHPhvhXKGFLvdEHzoDCpJcTS\n",
       "iXvvrMiy21eWZVneT275g6J6I5DNCjayMUrhcpg75sbpa0xXVAPEKmPTPwmYIWG209dSPG2xyHJZ\n",
       "WFoflclwMF31fFNChZu497r+KpHcDJNrimbSr/9ioOYqhilcDHPP3Dg9TNXcjryYFsgAMyBM0pSM\n",
       "9PmzC7Q8YPPIU06Cwax30KiO78b3vv0qkXaYXNYepv+e9uYqhilcDHPP3Ph7MUiZAAANtklEQVQY\n",
       "mK4QgLk7zPaRBfJ8wyedlTVU8yxiJkPBZPcnJoQY3/s7zIQMk1u0e632p9/bqxikcDHMPXNj6ny9\n",
       "DZ/PAlPPPJIKmAFh3rerEAtyNW0+3zuvLrfNXVu+KXHRO6B5VEJ0dO/rr3S5XdwgubqtaWU/2e1V\n",
       "DF6uvhSmZ248z4yPqTHNrXBpltHUlDsrSEJpvVkYI/ntnyn0hYBJqhKoLS+4fTXAqEVTisyjmlJ1\n",
       "57D5ay1M+0im61Cs7337FdXD5Jb/35wv7/xn5yqM3QTTMzeeZ8aHwJS0HorLSKpuqXdVb5yXucWq\n",
       "fzISBwG1+y/sCpPdO1UvbxC1ttXQacpUpXCFy175ZIV+9Daz0b2/fc/azs88kiuyYRu3fxU52wTT\n",
       "NzeeZsYHwBTGmHY+qex7yLZt4coPSmbrxoyOAqbRe//CrjBF83OELWn3NkdNu8/S38rhGpfzMMXo\n",
       "3ldMFdej5Mp753PQxWyvIs02wfTOjWeZcVKYjw2fVdFtotcMXZMJZZ+kqSsLApjzLdSlGz5netSp\n",
       "kkw8ol/Isvq2u/7Iqph1WUzFdFNWF3x07x99zLad0SS37d4lik52MQcpnE5HsUdurM2MwDB33fB5\n",
       "AJPUd0LfB+NamBww/WvMpijKV+0PVxU3Xh+2v/vMk7L4evCHPAZ/8hmYUj5KWJPcexfT9D5/Hleh\n",
       "t9WY/rnxDObkfTrRIvYBTNOrMcnyGjM3qz4v1PzxnOnPlnV7Nq2znKR5TnT6cuvPKJuyVadKPj2g\n",
       "fBTFVARqyia8LNQ6vfcap2BWuet6yTXFZEv2cRWp8GnKbs+ND2zKPoeZZOTesWwbty8Kg2s+yG5d\n",
       "lmdj39IYa8uLyelU+5qNxiGr8jR2llJefeK+XNO1HmZabvpyT2dYmJzeO1XpswzNbKfxlvNAgz+3\n",
       "e22SVEv6WGAwDZP1k9vO/zfzE7LTxayvIuebYPrmxmcP/rje/GWzjafLXKuUVYugrJkbLeP1aEEz\n",
       "J1V6009aveXhy+lkKsYzMI7S5tNwsDv9BMyEu2pB18t5nLUw07q0tOnsZjvR+cznwGKYzSeOtYl8\n",
       "Oj+Q552uHTH9orh5uuT2i4zSch+4phHZv/euhWmyfnLrVpNqxkXvezA/roKYTTA9c+Ojp0uUZUVx\n",
       "V6dtkVWLlW8tzVuVUd09LlOt6XTxJuSeJ42lCvSTJ1fKOrjaZHdyrUe6HKaoV0CLJA8JM2/X8t/T\n",
       "2UlcWUkLP5iu/n3F8xfJ1oSQdnxUPC6hnTNQbBvM2ycit7T6xHGDe++aJe2WZ/d61LWXa7gldztC\n",
       "yMFVCL0JpmduPM+MKz32lZP8VqvZhOa8ypPuUv/akqoSms0X03IwuCzwkvnBLJdzlp8Wlk5dR/W0\n",
       "BKtm59bApDwdplOROnRdEGZALF+SJ9avCVPC50ZPlpVyappvT24qn6dw8ZK8PXPjQjBlrsuyXrb4\n",
       "aTV+1723dffQVQkVzy/fiGpX3XwephYva8ynH7DlS2GscmwVTDf8PDGDMlC2wHMtvWBuWJFO8uAw\n",
       "LXO52J5c8yKFi2HumRsX2lpESVoW9bKBVzX0dSePHHMPmBl93pwrayOSq3mYCaPSAyZtCo9ZV2Om\n",
       "vLfDrxN9g2UlnU4PPa94HpOvzXflN081/RhkURR0c3KHHcJRCpc/j7ljblxqB4NyRWM1/FoNdOeM\n",
       "V5GWHZR6CLNuyj4tpop3rsXxNlQPZtp7HHcMczR13TvQ7XdV2gJd08fUHZq9dL4qBMthyrXOuAoP\n",
       "MyGZ3Z5c+iqFy2HumBuXglkO7ZRDIKpIXDnf2L1bdtHgTzV/qeb+v4WpsqVN2cnpUFsXnjRdPfhz\n",
       "+4Qh6nU6PWAOV8+8rP09F/v6lpXXyR2ncMXWIvvlxpVgqqKpNXNezSd065RmvKYcjdePT+PqMaHu\n",
       "s0KKO+eIfAFzwahsmxdTNza3ziauHldfPY+pqsr/eTp9YB4c2CXvXDA3bfhciatet2urPqDibgiz\n",
       "XGDQKc8uU80fbZ07s2yyImFYYegqmFPTodXvF1kzvL5h5Y96kc6pG44Nn68IM9oNn6Upe3V6wpJf\n",
       "vIap0/px0ZmxxUdF+gRm6rU1AGrMM8K83obPWhwKMytXoCQz06G330gXwGw3dlozzAOYqDHPBTNh\n",
       "NNz1svQVTFUPD09Ph94qUrkcpkvrnx6MEAMmYH4EzFsBD3Qg5SY6fWNnZRN6ejq0G+UvSE7y3Opq\n",
       "EtLRtHrNkzNp3jZlBWpMwPxcmIfEAyZxy39Bs6p1q1jd9i1rStEBCZiACZh+cX+poZEJXfwL5XBy\n",
       "/ThK9eTLra517NHHBEzABMxQPdqiKJYPN2nSwpRtTYka85Iw8Rq+mEJa4bQgicnSRNO8eoat7GPW\n",
       "D586mpkUMFFjAubHBWACJmB+PExBANM/MwATERamnHlXxSVhbs8MwEQErjFlApj+mXH6DZ8R/rF4\n",
       "w2f0MT+qj7nrhs+I2GpMwNwrEad6DR8CMA84p8SoLGACZnwwU3pwIqaWbAImYHp0XD5yVFabgzNj\n",
       "6lk+wARMj/jIeUxlD84MhqYsAk3Z1+dkBydCACYCMF+fkx87P6fJ5H3CInbABMxe0PzQNBCNGhMB\n",
       "mK/PKY9ty4oEMBGAueCc5Mg8ojlgIgBzyTmPrDLl3OsSP3PDZ8QsTGz4/Pqc1ByWAp4eAjPaDZ8R\n",
       "qDFXnJMflUvGzN0njMoCJmCO4ucfDzn/v/PZ+4Q+JmAC5jjsAa1ZyWkCmAjAXHNOw/cud1roBDAR\n",
       "gLnunJqRPZcAOW5VApgIwFx9zpQxukvhk84wq57fJ8AETMCcFZRbJlgRNoRgL5cwYFQWMAEzyvuE\n",
       "GhMwARMwARMwARMwEYAJmIAJmIB5GZjY8DlkYMPna8LEhs+oMQEzQGDDZ8AETDRlARMwARMwEYAJ\n",
       "mIAJmIAJmAjABEzABEzAPPY+YRE7YAImakzABEzABEwEYO5zzmWPXgImAjCPhbm3e2z4fDGY2PD5\n",
       "ijCx4TNqTMAMAhOjsoAJmGF/U6orNGUBMy6Yk3fDAWYnuANMxNEwjX5WFAEzSbRFUxYRB8yUAOY9\n",
       "mAoB8w/ABExvmNOvRb4mzNwkgIl4J0z96AeZFDCb+PodMBFvhZk+XlalOGA2+fOTCwITgz+AGQBm\n",
       "p2N1bZjyB5sAJiIamKkBzDLsDwowEfHA9B/++QiY7ieTXAQm1sqGhfnbTjCJBswk+fMvMkqYWCt7\n",
       "jRqTiDKyrPqr7lS5x7T6xnhLdhRBUjvzfZ+X9aEpC5hBakzvTuZpa8yOxl+znk2fGpMCJmCGgOk9\n",
       "LHtSmL06MvulB3X74UVBABMwA8D0n8g8Jcx+0/XL134duv3wtmCACZgBYPov/TkhzGG/+LHop/6f\n",
       "7YfXfUiACZgbYYrkejCHLk3ey2mvSxJhO5mAeVGYAR4vOR3M4S9L9uonVlWZmQRMwNwEs7OInSvA\n",
       "tDrkJZnCAiZgboI5W1lcpY/ZL6g87CXZkAOzgHlNmDQHTKkCXxINWGcC5sfDpFO7iNgEMMNfkkoB\n",
       "EzDfnzTA3C92gClzCU/BgnxTgHlBmPLbt15dnIewjhoTNSZgoikLmIC5JCMjfWAGMAHzyjBPFoAJ\n",
       "mIAJmAjABEzABEzABEzABEzABEzABEzABEzABEzARAAmYAImYAImYCIAEzAB8/wwNWACJmCixgRM\n",
       "wEQAJmDOwUwAM+LIAr8TAzDPERowARMwAROxMgRgAiZgxhcs8FukAPMckRYZYMYcvDCAeUGYeSEA\n",
       "M+awgV/vBpjnCNp/exhgxhYk6Mb7gHmWMAUHzBPdIMC8zAcyAcy4+xoMMC8Ik/cH/QAzttD90blN\n",
       "MbofDjAnciV4+OQ766/4AszYQgXY63T0WiHuADNhu78wwCffs8IBZtRR+GfnqICkBDBdNahm8jw9\n",
       "DuaKfB+8OR4wowvh/9zX+EV8AjBJmSnENUCPgbk839WgBwOY0YX1X5M3LiAmvTzMyghne74ByyPf\n",
       "9WDMDzCjC+q/wmBcQBS/Osy6VemyIlMHwlyc73Sw4AswowvtP18y8U5ppi4O05ZjK0omStADYS7O\n",
       "dzt4DBcwowvpPyxbFRBJSdUmtlXbLTXXhimrTztxyxjj9oW5Ld9Ff+wHMCMM4Z2fVQExSZp17rC4\n",
       "Nsy8qifzdM9BWY98l8PZa8CML4z36E9ZQFyakLJQ2KZhTPSlYbIj3nq+Pd/T4QppwIyxk2kDFJBb\n",
       "QczKWiJrulQBZglODFMdsgB5e74Pu5iAGWNkRYACUgKX5fxY06V6dHaKzfEOmGeIZfm+6pYDZoRB\n",
       "ChcCZtWiou0NDjAse+IaUxyS2M357kaNJMCMsi1rQhQQXt5szpNqSj1EW+68MDU5EOaGfKejPUsB\n",
       "M8q2bBaigBBbTqibpFIeYunPeWFadyDMDfnORjccMGMM6rlcti4g0hqaKktdqLbceWEe05LdnO9u\n",
       "3EQCzCjDc1x2vAIlyOMlp4WZ0yNhrs93W0jAPEWYQoYtIFxdGeYhk5jb811OfA4DZpQh/YZ/RgWk\n",
       "XpB2VZjqqF2UNuY7nQAEmLH2MmXIAkLzK8M06btgLsv3bKK9C5iRhvCpMulwEDLMs8Fvnbz3iMP2\n",
       "A92W75MfwoAZaaTI1Mt0W6aqVcCMNQhHHlwi7OSNBsx4G7M58uACoTO5H8wqLDI5aLhMIhMu8Pk7\n",
       "3sArVOda5lVoZHLgz1I0RC7QwxyzqTn5t5f+P5TzTmVXSC93AAAAAElFTkSuQmCC\n",
       "\" style=\"display:inline;vertical-align:middle;\" /></a></span><br>"
      ],
      "text/plain": [
       "conseq: |- [Prob_{m in {0 .. 2^{t} - 1} | |m - b|_{mod 2^{t}} <= (2^{t - n} - 1)} QCIRCUIT(VertExprArray(([INPUT]{state:|+〉}, [INPUT]{state:|+〉}, ..(t - 3) ×.., [INPUT]{state:|+〉},[MULTI_QUBIT_ELEM]{element:[INPUT]{state:|u>, part:1}, targets:{t + 1 .. t + s}}, [MULTI_QUBIT_ELEM]{element:[INPUT]{state:|u>, part:2}, targets:{t + 1 .. t + s}}, ..., [MULTI_QUBIT_ELEM]{element:[INPUT]{state:|u>, part:s}, targets:{t + 1 .. t + s}}), ([MULTI_QUBIT_ELEM]{element:[GATE]{operation:QPE(U, t), part:1}, targets:{1 .. t + s}}, [MULTI_QUBIT_ELEM]{element:[GATE]{operation:QPE(U, t), part:2}, targets:{1 .. t + s}}, ..., [MULTI_QUBIT_ELEM]{element:[GATE]{operation:QPE(U, t), part:t}, targets:{1 .. t + s}},[MULTI_QUBIT_ELEM]{element:[GATE]{operation:QPE(U, t), part:(t + 1)}, targets:{1 .. t + s}}, [MULTI_QUBIT_ELEM]{element:[GATE]{operation:QPE(U, t), part:(t + 2)}, targets:{1 .. t + s}}, ..., [MULTI_QUBIT_ELEM]{element:[GATE]{operation:QPE(U, t), part:(t + s)}, targets:{1 .. t + s}}), ([MEASURE]{basis:Z}, [MEASURE]{basis:Z}, ..(t - 3) ×.., [MEASURE]{basis:Z},[GATE]{operation:I}, [GATE]{operation:I}, ..(s - 3) ×.., [GATE]{operation:I}), ([MULTI_QUBIT_ELEM]{element:[OUTPUT]{state:|m〉_{t}, part:1}, targets:{1 .. t}}, [MULTI_QUBIT_ELEM]{element:[OUTPUT]{state:|m〉_{t}, part:2}, targets:{1 .. t}}, ..., [MULTI_QUBIT_ELEM]{element:[OUTPUT]{state:|m〉_{t}, part:t}, targets:{1 .. t}},[MULTI_QUBIT_ELEM]{element:[OUTPUT]{state:|u>, part:1}, targets:{t + 1 .. t + s}}, [MULTI_QUBIT_ELEM]{element:[OUTPUT]{state:|u>, part:2}, targets:{t + 1 .. t + s}}, ..., [MULTI_QUBIT_ELEM]{element:[OUTPUT]{state:|u>, part:s}, targets:{t + 1 .. t + s}})))] <=  \\\\ [Prob_{m in {0 .. 2^{t} - 1} | |(m / 2^{t}) - phase|_{mod 1} <= 2^{-n}} QCIRCUIT(VertExprArray(([INPUT]{state:|+〉}, [INPUT]{state:|+〉}, ..(t - 3) ×.., [INPUT]{state:|+〉},[MULTI_QUBIT_ELEM]{element:[INPUT]{state:|u>, part:1}, targets:{t + 1 .. t + s}}, [MULTI_QUBIT_ELEM]{element:[INPUT]{state:|u>, part:2}, targets:{t + 1 .. t + s}}, ..., [MULTI_QUBIT_ELEM]{element:[INPUT]{state:|u>, part:s}, targets:{t + 1 .. t + s}}), ([MULTI_QUBIT_ELEM]{element:[GATE]{operation:QPE(U, t), part:1}, targets:{1 .. t + s}}, [MULTI_QUBIT_ELEM]{element:[GATE]{operation:QPE(U, t), part:2}, targets:{1 .. t + s}}, ..., [MULTI_QUBIT_ELEM]{element:[GATE]{operation:QPE(U, t), part:t}, targets:{1 .. t + s}},[MULTI_QUBIT_ELEM]{element:[GATE]{operation:QPE(U, t), part:(t + 1)}, targets:{1 .. t + s}}, [MULTI_QUBIT_ELEM]{element:[GATE]{operation:QPE(U, t), part:(t + 2)}, targets:{1 .. t + s}}, ..., [MULTI_QUBIT_ELEM]{element:[GATE]{operation:QPE(U, t), part:(t + s)}, targets:{1 .. t + s}}), ([MEASURE]{basis:Z}, [MEASURE]{basis:Z}, ..(t - 3) ×.., [MEASURE]{basis:Z},[GATE]{operation:I}, [GATE]{operation:I}, ..(s - 3) ×.., [GATE]{operation:I}), ([MULTI_QUBIT_ELEM]{element:[OUTPUT]{state:|m〉_{t}, part:1}, targets:{1 .. t}}, [MULTI_QUBIT_ELEM]{element:[OUTPUT]{state:|m〉_{t}, part:2}, targets:{1 .. t}}, ..., [MULTI_QUBIT_ELEM]{element:[OUTPUT]{state:|m〉_{t}, part:t}, targets:{1 .. t}},[MULTI_QUBIT_ELEM]{element:[OUTPUT]{state:|u>, part:1}, targets:{t + 1 .. t + s}}, [MULTI_QUBIT_ELEM]{element:[OUTPUT]{state:|u>, part:2}, targets:{t + 1 .. t + s}}, ..., [MULTI_QUBIT_ELEM]{element:[OUTPUT]{state:|u>, part:s}, targets:{t + 1 .. t + s}})))]"
      ]
     },
     "execution_count": 101,
     "metadata": {},
     "output_type": "execute_result"
    }
   ],
   "source": [
    "conseq = constrained_event_prob_bound_inst.derive_consequent()"
   ]
  },
  {
   "cell_type": "code",
   "execution_count": 102,
   "metadata": {},
   "outputs": [
    {
     "name": "stdout",
     "output_type": "stream",
     "text": [
      "_success_prob_guarantee has been proven.  Now simply execute \"%qed\".\n"
     ]
    },
    {
     "data": {
      "text/html": [
       "<span style=\"font-size:20px;\"> <a class=\"ProveItLink\" href=\"../../../__pv_it/_proof__success_prob_guarantee/68ed39af452462eefc36e3549b8008e148c7b20c0/proof.ipynb\" style=\"text-decoration: none\">&nbsp;&#x22A2;&nbsp;&nbsp;</a><a class=\"ProveItLink\" href=\"../../../__pv_it/_proof__success_prob_guarantee/852827168a717bc78d8d9f0d5b0e5f56ec946e110/expr.ipynb\"><img src=\"data:image/png;base64,iVBORw0KGgoAAAANSUhEUgAAA3YAAAErCAMAAACl/OG/AAAAk1BMVEX///++vr6urq4ZGRltbW1e\n",
       "Xl6fn5+hoaFpaWkHBweDg4Nubm5WVlYJCQl6enqOjo4bGxsnJycrKysuLi4XFxc/Pz8dHR0kJCQo\n",
       "KCgfHx9RUVGTk5M9PT1GRkZmZmaIiIiqqqoyMjIQEBBEREQiIiLOzs6/v79aWlrf39/u7u7c3Ny6\n",
       "urqYmJh2dnZUVFTMzMwAAADnRCYxAAAAAXRSTlMAQObYZgAAAAlwSFlzAAAOxAAADsQBlSsOGwAA\n",
       "GARJREFUeNrt3Wm7pLh5BmCcOHbiy247TuyZbk+0gLpnJCGJ///rUmxVbFUsEqIonveDx+f0KUpI\n",
       "3GhFJMktXFGFTRBBg2vkgUcUi+LoVCohh78Sy1LmCpPfAhdJ2CC4j/mxC/ZHu4YZFXOJKbcL2CkU\n",
       "cvBgqUQmXIBdkuZTv83B7oiQ06WB+Dh2epIP2B0Slm/vLkwWEth1b2oqDDvJQhR1BnZvEq7Y3lU2\n",
       "Ux/NArgrjohd2N1zw49dXmQByloVDOzeI/j2ym6aHSORmm1HNBXXflLbIKdEAo3eZwLs3iKYR2U3\n",
       "zS4RYPe4qakQp0SD1HUVIAp2b1HZ+SDpsNOPcRnDwK69pE2IU9JFEWqsOUvB7i16djQMO/Y4jsrA\n",
       "romv30OckihMuMYNA7vjw3rdR6fZdVpWF2dnfnYBDh+wsrslg4Pd4SH9Og1P2DEDdlXu/mRDHN4W\n",
       "PNxZ2sKB3dGRF2wHdv6DKp/Bzv6kQhxeFCTcWepRgxXsokfm13x5xo5osEuSH8KEObxX/3t0tBTs\n",
       "Dm9j+tVLFTsiykjT6j91q8pZsEuSf/yvfEN22bCVCXbx25jGn91Ebffo3EVfMeLBLsz6lmf/4LN+\n",
       "JuSiWTosc7CLHbbQu7DzHso8a23XlfY/f0+68nxqu5Ds3HCABuxiR+p5eT9h5z9xd052vdot/2/d\n",
       "g/gu7JLhdATYnaxr94yd/zKVM7IbtIz/9o8+xrdhxwdNHLCLHMx3qd8TdiK5ILuBOvNX1XHjye5L\n",
       "yPMkgxEasIscxHfR0TS7AI8gnI7dcBBI8j4cP3a/hjzP4TNEYBc5uN9k+bOl0Jm6ILvBr6ye+4vD\n",
       "2LnBzB3YRY60cMHYPbvRX6dv17tQs5CHD8tODmpmsIt9ofkusZ1kR3Owkyoouy+Bi92B3XGhvGel\n",
       "6VRtaROwC3v4sCOZiej3LcAubrBCvGvSwG5Hdrw/lAl2cYOGfKAE7HY7/LdvYTdjs/0BbLCLGybU\n",
       "Dh1gd6rabrAfEtjFDfu+L5MAux3ZmX4rB+ziRhby8clLs9t5G87g7ATYHRcc7I7+zkPY0f58OdjF\n",
       "jYAbUoHdidjl/ZoX7OJGCnYnYfcF7D6JHQW7C9Z2DOyOZZeDHdiB3bmLE+zOUU4a7I4tTgZ2F2Tn\n",
       "+kvg59n99utv0BIs/u+X72B3QXa//fJL98ff/TrvFLUdarvrsQs7krm6tgM7sENtB3ZgB3ZghwA7\n",
       "sAM7sAM7sEOAHdiBHdiB3YJywkgm2IEdajsE2IEd2IHd9didbFMHsAO7j2B3rk0dVrP7UXyHloDs\n",
       "/gV2F6ztfvTZ/Qm1HWo7sEMjE+zA7nh2obenBbuTs5ssDQd2nbi/hAS1HSIQu8k3/mQO7CZyA+wQ\n",
       "e7IL8DLXz2GnLfp2iBjsAry6/HPYcQV2iP3YdV6ibBjYNfFXkoAdYj927LHnpsrArom//AjCDkuh\n",
       "wW6WXadldXF2f+ZBDo/aDuwWsGMG7MqQf1Fgh4jFzn9Q5TPY8T8nYIeIxo5osEuSH/8lP4OdzCW0\n",
       "BAvyTYVgR0QZaVr9p56mco/Zqo1xyF2oCJTa5pf//M9Ahw/MTn771v1R5fNOUdudobbz7tydt7a7\n",
       "MxyCxEgmYmd23kOZJ2XXc5b+sfcL9O0Q+7Lzn7g7J7tea/PL1/4vwQ6xLzv/ZSpnZDfo4n393q8C\n",
       "wQ6xLzuRXI/dcFzF5N2MBjvE3uwCPIJwOnZDdZKP/gLsEMHZdZZCZ+qC7Aa/sjokO4xkgt00u6c3\n",
       "+sv07XoXahby8KjtwG6WHc3BTiqwQ+zFjk7t32ATsAt7eLADuzcnAHbh2WF72rDssD3tFdlhe1rU\n",
       "dmC3oJwwkgl2YIe+HQLsjmf34a8eATuw+6jvBDuwAzuwAzuwAzuwAzuwAzsE2F2EHV60BXZgh9oO\n",
       "AXZgB3ZgB3ZghwA7sPNmh+1pQ4b/9rRgd0Z22J4WtR3YLSgnLIUGO7BD3w4BdmAHdmAHdmCHADuw\n",
       "AzuwOze7ImyAHdiB3auQueWCh/1OJUQ2+w5OjGSC3VXZMc6p22PWWGojrEJtB3ZgN7rwONlzoYbj\n",
       "VoId2IFdL2i293WnhQY7sAO7Tliy/7dLnr8tO2xPG5Ydtqdd8p0//yHK9/9HFokdtqdFbff+7Gys\n",
       "XDLmWTlhJBPsLsaOmmgpyBj6dmAHdmWfS8RLwZPvAjuwuxo7EjOPpl8N2GP3BIADO7D7HHaSR02D\n",
       "mGVnpicaMgd2YPcx7PI8ahomF4otYccI2IHdx7DL4u4ioslGdokAO7D7GHY8ciKm9PS2p33GzjCw\n",
       "A7sPYads5ETwrbWdysDuiuwE+UB22kTOjKlG7SJ2CVdgdz12suAfyI4VkTOjcEvYaWqlMjSjiTMm\n",
       "qyEyA3YXrO1k8oHsZBE5M4pFjUyTZJaWqctvP7H0ebcwDDtsTxsysD3t/HcWb5CIETutE1F25VRB\n",
       "O2yayYf5xia2p/2g2g7s9mP3pc9O3uo5XTWBy1qINA1aZxfWz2hkgh3YbWhkNn3OGlzadOrqzh3j\n",
       "YAd2YLcLO1vhEiU0fTMh29alMoIbB3aXYfeZI5lJ9JHMZeyqGq5uad4EVr2zZuKOz5cp2H1QbfeR\n",
       "83ZbE7I5M5axU9U8Q+0lM0nVumyWqRQS7NDIRCNzD3a6miyglW1NaIWinj/QaQJ2YAd2Idh9GTYy\n",
       "x9E8gkBtItG3Azuw26NvN45mS0FCEyPBDuzALga79nFcR3KXgB3YgV0MdnTF47hgB3Zgt44dna7M\n",
       "1jyghO1pD2aH7WlPxy5AYHta1HZgt4AdtqcFO7A7eW0Hdudhty7j1dHs1Po/WMNut9wAO7DrBF1X\n",
       "MWp6LLv55I5TuILdfrnx1uyUFUVhrc2y6QRpnhqwCshu4Y4ByhhS7zFA86DsqCXE0omyd1ak6e0n\n",
       "y9M07ye3/ENRvTfEpgUfXfmjFC5nt2NuvHlt54pqyFSlT5Z6g11Idu1krBQvWxuyXKDE6qNyGY6d\n",
       "q55wSahwE2Wv658SmZlhck3RTHL1Xx/SnMUwhYvZ7Zkbx7ObeNHeg51qMjsvpn1xsAvIjjQlwV6v\n",
       "b6flAZuHXnISjF29d0F1fDcu+/anRNphcnl7mP4bkJuzGKZwMbs9c+MNRjKlEXSOnSsE2O3Orl3W\n",
       "Tl5vk6PTsnZpnjVLZSh2/L6qXohx2d/ZJWSY3KLdO7I/mdyexSCFi9ntmRvv0cikorewc8xOP3mg\n",
       "EOwCsrtvFCAW5CprLpJOW8U2pbZ8C9Wid0DzqEDoqOzrn3S5hdYgubqtJWU/2e1ZDFpTS9l55sbr\n",
       "zHiXvl3ehTdmZ26XjuYpZaZ8pl0SSusNlDjJb/+XwVYIdqS6vrTNiszODcpp0Vwj5lHFqLpT1vxn\n",
       "LTv7SKbrQKvLvv2J6mFyy39vvi/v/GPnLIzdxM4zN15nxvsMqTBO1BN2ktbDVylh6pY2V/VxszIv\n",
       "ePV/OXmPC1zt/oFd2fF7Z2a2RKm17bXeaYZU19gKdb2rjxf60ctLR2V/+521nb95JFekw9Zn/yxy\n",
       "vomdb268zIx3GsnU3MoRO2GMaedPyja/bGt9V97kuK2bGfot2Bm99wd2ZSeavyNLdghpxu7uu6a2\n",
       "l9oadc/ZiVHZVwhVpkfJlfdO36Br154FSzex886NV5nxXuyareEf29Oqots0rpG55hTLvkBTzxUE\n",
       "7J63HZduT5vqUWdGcvGI/iWU1oXq+qOR4qm6YiqmG5m6yEZl/+jbtW2EJrlttypRdLJrN0jhdDqK\n",
       "PXJjbWYEZrdse1rG7VQjs8eO1Pms7wNYLbsM7Pxru+ZCk3NtB1ddTFl92P6uHi+utPkhFfIYUsmf\n",
       "sJPycf00yb137Uzv7vI4C72ttvPPjVfsJn7Xe9FWtCEVMj2k0mNnerUdWV7b5WbVnUQ9P54z/dmh\n",
       "bo+iVZQTludEs9mtDN+ykVl1ZuTLA8rHhcZEoEZmkpWXrGb33toUuyp3XS+5pphsYz7OggmfRub2\n",
       "3Hj/RuaLCYQxuyQl9w5d2+ycKWrX3IRuXYVXo8HSGFt1L/OJoSvZdpcHI2PZWBGjWXW3nF1dtJ4d\n",
       "KzfTuKczLLuM3jsz7FWGprbTrMqzQEMqt7I2CdOSPqbLp9nxfnLb2eymrSQ7Xbv6LPJsEzvf3Hj3\n",
       "IZVX0+WuN1/XbEvoUtca5NVyHGuejTBldR+8mYMpNekX7dHy8OXkKBXjOQlHqWhbw3Psyje7l0uL\n",
       "Zmc21rJj9bXQprObqUTnT5QvZtfcT6xN5MsR8+pF322Xipj+hbZ5AuH2QU5puTdW07zrl71r2Zm0\n",
       "n9y6xaOascT7jrGPsyBmEzvP3Hj3CYQXi8OU5UVxN6VtkVZLXm9twNvtviqbTDKt6fTFS4h79Bvr\n",
       "G1P5ixdPN5T1Z7Ul6OS6BLacnajX0YokD8kub1eE39PZSVxZwQo/dq7+vMrymWRrQkg7pigep9CO\n",
       "oiu+jd3tfpdZWt1P3KDsXbMw2mbpvQ507emazJK7DCHk4CyE3sTOMzdeZ8bnPPiTk/xWI9mE5ll1\n",
       "xt3l4LUUVSUjfX4RlgOo5eUsuR+7ctlgeS+wdOo8qhX1vJqNWsOOZmyYTkXq0HUxP7ncly8OE+v7\n",
       "9Er4XBmTV0I5FZttTy6Tr1O4eHHYnrnxMexkrssruWxp02rMq1tydbfMVckQr0/OiGoP0Pw5Oy1m\n",
       "a7uXN8fy1RFWOb6KnRveLcyghMu2ca6lF7sN65pJHpyd5S4X25NrZlK4mN2eufExmzooScsLuWx6\n",
       "VQ1s3ckBx92DXUpfN7TKmoTk6jm7hFP5kt3rGSHaXBpmXW3Hsv6ok+gLKytYNj1cu+J5u2xtviu/\n",
       "mZvpx9xumUY3J3fYERulcPnzdjvmxhv07cRoDnLb0+XlyrlqyLIa+s15VgUrOwb1sF/dyHx5Earu\n",
       "u9xd1obqsWO9hykX1Ha9A90+q1jLb03fTnfgqWz5wv8V7ORaRZkKzy4hqd2eXDqXwuXsdsyND9rU\n",
       "oRwwKQcWVHHrkSeu29igdtGQSjVfp579e8tOpUsbmZPTf7a+NBhbP5LpbLNs9WU6PdgNV3rM9jc9\n",
       "F5X6buown9xxClds6rBfbnwOO1U0NV6eVSPs3fqgGQUpx6f1405aPSjSfVpEZc45ImfYLRjJbM90\n",
       "qthy62zi6pHm1fN2qqq4X6fTh13kwM5h78Ru0/a0lafqVZe26nupzA3ZldPl3cUwqWr+p60vnyzP\n",
       "qy54wwtDV7Gbmv6rPl+kzYDzhlUqaiadU8WJ7WmvyO6g7WmlKXtTekKKX8yz06x+HPDJeNyjEnzB\n",
       "jnk9to3a7ozsPm17Wi2iskvL1RLJk+m/2yfYAnbtdjhrBk/ADrXdO7FLOA13NpzNsVP1kOr09N+t\n",
       "EpTL2TlW//VgVBXswO4E7G6Xb6ADKTfR2RorKhu309N/3Sg/IDOS51ZXk26OsupVL86wvG1kCtR2\n",
       "YHdWdlHiwY645R/QvGp3Kl63SstaTnS4gR3Ygd2ruL+UzMiELv5AOQRbP7JQPR1xqycdf/TtwA7s\n",
       "wG5ZT7IoiuWDOJq07GRby6G2uyQ7vGgrXkgrnBYkMSlLNM2rp5jKvl39cKGjqWFgh9oO7E4WYAd2\n",
       "YHdydoKAnX9mgB3YrWoSFxzs/DMD7MBu3aWGRmaAzHhLdo/taRH+sXh7WvTtPqpvt2x7WtR2p6jt\n",
       "wG6vRByxPS3Ygd1x3ykxkgl2YBf7OxmNnIipxYNgB3ZPOwwfOZKpTeTMmHqaC+zA7ml85LydspEz\n",
       "g6ORCXaXb2QmPHIiBNiBHdhlcWesNJksJyyFBrtLsaN51DQQjdoO7MBOxm1ligTswA7s5t+JFjJo\n",
       "DnZgB3Zxqzv57IVoZ9yeFvGUHbannf9OaqKlIGNR2B20PS0Ctd2K78xi5ZIxz8oJI5lgdzV2yd//\n",
       "EOX7f589LSf07cDucuwSG6GdKTOagB3YgV2n+Zftfd1poROwAzuw66ngZM/lKi6zKgE7sAO7QTDO\n",
       "6S4Xn3SGW/W6nMAO7K7JrtxRxHLBi7AhBJ+dkMdIJthdl92B5YTaDuzADuwQYAd2YAd2YPdp7LAm\n",
       "M2xxYk3mFdlhTSZqO7BbUE4YyQQ7sEPfDgF2YAd2YAd2YIcAO7ADO7ADO7ADO7ADO7ADO7AbBF60\n",
       "BXZgh9oOAXZgB3Zgd0V2yx6tAzsE2IVkt7fqg9nJXEJLsCDfFNhdkJ389q37o8rnnaK2Q213PXZY\n",
       "Cg12YLfmk1Kdv5EJdu/FbrI0HNh1InNghwjLzuhXFxrYJYm2aGQiYrBjBOzuwVUIdr+CHdjNsJt+\n",
       "Jek12eUmATvEfuz0o/9hGNg18fU72CF2ZMceL6xRGdg1+fOzC8IOQypgN8uu06G5Njv5k03ADhGJ\n",
       "HTNgV4b9SYEdIhY7/0GVj2DnfjbJR7DD9rRh2f1rJ3ZEg12S/Pbv8i3ZYXvaT6jtiCgjTav/1J0Z\n",
       "95gk3hiHZEcRIrVLfr820MgEuwW1nXfn7qy1Xdfav6VJV55PbUfBDuzm2XkPZZ6TXb9+S/9Y/877\n",
       "8KIgYAd2s+z8J+5Oya7fqPzyNen9evvhbcHBDuxm2fkvUzkhu2F/9LFApf6X7YfXfSZgB3aT7ERy\n",
       "PXZDdSbv5bTXKYmwnTuw+0h2AR5BOB274Ycln/uLVdVdKsEO7CbYdZZCZ+p67Eb9MR3ylExhwQ7s\n",
       "Jtg9vdFfkp3Lwp6SDTmYCXafyI7mYCdV4FOiAes7sDs5Ozq1f4NNwC78KSkGdmD3tgQ+ld2RfTts\n",
       "TxsysD3tNdlhe1rUdmD3/rUd2IHdO7J714cqwA7sPpfdyQLswA7swA7swA7swA7swA7swA7swA4B\n",
       "dmAHdmAHdmCHADuwAzuwAzuwAzuwAzuwi81Ogx3YgR1qO7ADO7ADu89kl4DdYZEG3lsf7M4RGuzA\n",
       "DuzA7lIhwA7swC528MBvkgG7cwQrUrA7LrLCgN0F2eWFALvjwgZ+gRPYnSNo/w1CYBc3SNAtvsHu\n",
       "LGGKDOzeJvvB7jK3WwJ2R7bxOdhdkF3WH0oDu7ih+yNam2JUHg7sJnIlePjkO++vTgK7uKEC7N04\n",
       "evlI5sAu4btvXu6T72nhwO7Ippx/do6KnxGwc9VQlclzFo/dinwfvJMZ7CKH8H/yZ/yqLQF2pMwU\n",
       "4hp+cdgtz3c16FuAXeSw/qvDxsVv2OXZVQIyvud7cjzyXQ9G0sAuclD/+fJx8avs6uzq9p5Li1RF\n",
       "ZLc43+lgcRLYRQ7tP4Mw8T5Xri7OzpYjFkomStCI7Bbnux08Zgl2kUP6D2VWxS8pqVqrtmpVMXNt\n",
       "dvW728UtY4zbl922fBf9ERWwix7COz+r4jcJSzvlJ67NLq/quJztOZDpke9yOFsLdrHDeI+plMXv\n",
       "WELKIrdNk5XoS7PjMd44vD3f2XAlLtjF79zZAMV/u8zS8g6fNl2ZAOPmJ2anoix03Z7vw64d2MWP\n",
       "tAhQ/CVfWc4HNV2ZRyej2BxHsDtDLMv3VUUOdtGDFC4Eu6qtQ9viCzCUeeLaTkRJ7OZ8d6MGDtgd\n",
       "0Mo0IYo/K4syy5JqgjhEK+u87DSJyG5DvtPRLo1gd0ArMw1R/MSW08MmqQyHWKZyXnbWRWS3Id/5\n",
       "qMDBLn5Qz2WZdfFLayhTlrpQrazzsovTxtyc727cvAG7Iy42G6D4uxHkEYTTsstpTHbr890WEuze\n",
       "IEwhwxZ/pq7MLsqk3fZ8lxN3WbA7IKTfoMqo+CVPLsxOxdqdZmO+0wlAYHdM706GLH6aX5ldkKee\n",
       "dsz3dKIlCnaHhPCp7uhw4C7Qk51HTkV7RLQdELfl++QtFuwOCYZMvUyHYqpKBLtjgmTIg0uEnSxo\n",
       "sDuqmZkjDy4QOpVb2VVhkYVBw6USmXCBu+t426NlnVqZV6GRhYHvg2hEXKBnN2ZTc0JbB4FAIBAI\n",
       "BAIRP9Suf45AIMZB2bq/1xR5hkD4xX2vCCcWDnhTDNIgEF7RrLGWlvDFq3c5JqQQCJ8g96pr+aL5\n",
       "nCDfEAiPeGwCseJZFay/QCB8enZ8CzuO3h0C4dHGNCvYKWJtBc5g/SYCsT069dYsuzxtnwLMOXIO\n",
       "gdgcgi1m5x5bcLIUOYdAbI5UT7GTXDyireJsYa2ljUDkHAIRmN30nz46dBq1HQIRpZHZ2YOOCeQc\n",
       "ArE5MrqYXfaYJM+xTwgCsT06UwFmZkuVapMCWdEkBjmHQGwO1zYXrU0Lbl9OgztCc1qxE9gAAoHw\n",
       "6dxteIWRQtcOgfCJLcuaCdaGIRBesf5dMgoDKgiEX8hsf6gIBGJQea3cpIFCHQLhE/8PXHRqEMqd\n",
       "LFkAAAAASUVORK5CYII=\n",
       "\" style=\"display:inline;vertical-align:middle;\" /></a></span>"
      ],
      "text/plain": [
       "|- [Prob_{m in {0 .. 2^{t} - 1} | |(m / 2^{t}) - phase|_{mod 1} <= 2^{-n}} QCIRCUIT(VertExprArray(([INPUT]{state:|+〉}, [INPUT]{state:|+〉}, ..(t - 3) ×.., [INPUT]{state:|+〉},[MULTI_QUBIT_ELEM]{element:[INPUT]{state:|u>, part:1}, targets:{t + 1 .. t + s}}, [MULTI_QUBIT_ELEM]{element:[INPUT]{state:|u>, part:2}, targets:{t + 1 .. t + s}}, ..., [MULTI_QUBIT_ELEM]{element:[INPUT]{state:|u>, part:s}, targets:{t + 1 .. t + s}}), ([MULTI_QUBIT_ELEM]{element:[GATE]{operation:QPE(U, t), part:1}, targets:{1 .. t + s}}, [MULTI_QUBIT_ELEM]{element:[GATE]{operation:QPE(U, t), part:2}, targets:{1 .. t + s}}, ..., [MULTI_QUBIT_ELEM]{element:[GATE]{operation:QPE(U, t), part:t}, targets:{1 .. t + s}},[MULTI_QUBIT_ELEM]{element:[GATE]{operation:QPE(U, t), part:(t + 1)}, targets:{1 .. t + s}}, [MULTI_QUBIT_ELEM]{element:[GATE]{operation:QPE(U, t), part:(t + 2)}, targets:{1 .. t + s}}, ..., [MULTI_QUBIT_ELEM]{element:[GATE]{operation:QPE(U, t), part:(t + s)}, targets:{1 .. t + s}}), ([MEASURE]{basis:Z}, [MEASURE]{basis:Z}, ..(t - 3) ×.., [MEASURE]{basis:Z},[GATE]{operation:I}, [GATE]{operation:I}, ..(s - 3) ×.., [GATE]{operation:I}), ([MULTI_QUBIT_ELEM]{element:[OUTPUT]{state:|m〉_{t}, part:1}, targets:{1 .. t}}, [MULTI_QUBIT_ELEM]{element:[OUTPUT]{state:|m〉_{t}, part:2}, targets:{1 .. t}}, ..., [MULTI_QUBIT_ELEM]{element:[OUTPUT]{state:|m〉_{t}, part:t}, targets:{1 .. t}},[MULTI_QUBIT_ELEM]{element:[OUTPUT]{state:|u>, part:1}, targets:{t + 1 .. t + s}}, [MULTI_QUBIT_ELEM]{element:[OUTPUT]{state:|u>, part:2}, targets:{t + 1 .. t + s}}, ..., [MULTI_QUBIT_ELEM]{element:[OUTPUT]{state:|u>, part:s}, targets:{t + 1 .. t + s}})))] >=  \\\\ (1 - eps)"
      ]
     },
     "execution_count": 102,
     "metadata": {},
     "output_type": "execute_result"
    }
   ],
   "source": [
    "conseq.apply_transitivity(bound_16).with_styles(direction='reversed')"
   ]
  },
  {
   "cell_type": "code",
   "execution_count": null,
   "metadata": {},
   "outputs": [],
   "source": [
    "%qed"
   ]
  },
  {
   "cell_type": "code",
   "execution_count": null,
   "metadata": {},
   "outputs": [],
   "source": []
  }
 ],
 "metadata": {
  "kernelspec": {
   "display_name": "Python 3",
   "language": "python",
   "name": "python3"
  },
  "language_info": {
   "codemirror_mode": {
    "name": "ipython",
    "version": 3
   },
   "file_extension": ".py",
   "mimetype": "text/x-python",
   "name": "python",
   "nbconvert_exporter": "python",
   "pygments_lexer": "ipython3",
   "version": "3.7.3"
  }
 },
 "nbformat": 4,
 "nbformat_minor": 1
}
