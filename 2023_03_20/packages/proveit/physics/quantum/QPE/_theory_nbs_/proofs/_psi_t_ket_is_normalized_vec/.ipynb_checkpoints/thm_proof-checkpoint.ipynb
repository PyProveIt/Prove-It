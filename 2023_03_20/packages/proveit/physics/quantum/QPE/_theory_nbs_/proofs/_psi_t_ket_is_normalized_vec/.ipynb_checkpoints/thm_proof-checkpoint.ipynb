{
 "cells": [
  {
   "cell_type": "markdown",
   "metadata": {},
   "source": [
    "Proof of <a class=\"ProveItLink\" href=\"../../../../../../_theory_nbs_/theory.ipynb\">proveit</a>.<a class=\"ProveItLink\" href=\"../../../../../_theory_nbs_/theory.ipynb\">physics</a>.<a class=\"ProveItLink\" href=\"../../../../_theory_nbs_/theory.ipynb\">quantum</a>.<a class=\"ProveItLink\" href=\"../../theory.ipynb\">QPE</a>.<a class=\"ProveItLink\" href=\"../../theorems.ipynb#_psi_t_ket_is_normalized_vec\">_psi_t_ket_is_normalized_vec</a> theorem\n",
    "========"
   ]
  },
  {
   "cell_type": "code",
   "execution_count": 1,
   "metadata": {},
   "outputs": [],
   "source": [
    "import proveit\n",
    "theory = proveit.Theory() # the theorem's theory\n",
    "\n",
    "from proveit import defaults\n",
    "from proveit.logic import InSet\n",
    "from proveit.numbers import Mult, Complex\n",
    "from proveit.physics.quantum.QPE import _psi_t_def, _phase_is_real"
   ]
  },
  {
   "cell_type": "code",
   "execution_count": 2,
   "metadata": {},
   "outputs": [
    {
     "data": {
      "text/html": [
       "Under these <a href=\"presumptions.txt\">presumptions</a>, we begin our proof of<br><strong id=\"_psi_t_ket_is_normalized_vec\">_psi_t_ket_is_normalized_vec:</strong> <a class=\"ProveItLink\" href=\"../../../__pv_it/theorems/69597cdddc096bf354ec5966375a5dcaab3ca1330/expr.ipynb\"><img src=\"data:image/png;base64,iVBORw0KGgoAAAANSUhEUgAAAUwAAAAmBAMAAABdWL/kAAAAMFBMVEX///8AAAAAAAAAAAAAAAAA\n",
       "AAAAAAAAAAAAAAAAAAAAAAAAAAAAAAAAAAAAAAAAAAAv3aB7AAAAD3RSTlMAq1RmmUTNIjK7EInv\n",
       "3XZ/CtNrAAAACXBIWXMAAA7EAAAOxAGVKw4bAAAF10lEQVRYw7WYe4gbRRjAvySb7Gb3bo2IYqt/\n",
       "RNRSUDSC1gelRq+W+qgEfPxzpYarUGpBohRtafXScn8oai9Wj/Yqlm3VYtHrrcWKVQrxRaWixnKc\n",
       "oARSTq1XtD2u1p4ntM58M5N9ZLPZLevA7iSTL7O/+eZ7zQIEaHfjXcpCmLbHgEia+kRAQSmD3V3h\n",
       "pld+igYTXgm43gV4TxRDTL2WXDdFhJnIBFPLEexeDrOJi8iVzkbEuTWQVMrEbk2IifUxgqgeiQjz\n",
       "/UAKuhGl4rNBTf7Tiw2oXYAxd/KNDu1nvHebQScFqaaiHfeXosGUzwYxTabGwaCmeVFBnonnc9Q4\n",
       "zYjU+UYAmVgFuzl0WQ78do5pyDNyD1VkotryY4nMIdPO1srsB0/Vs8GFQbSTw+40ubSCbTxdbrHK\n",
       "g+NPriMa1Gp8s6ZbXCsLvTAAcMA+uJ1cSVPJez18Bd77s4DmebUP5iCuSDlrYTbwHm+Z99gX8PY/\n",
       "eVs8HnNLXAd2TJ0NXtMGk+YHHXXUnYd7aL/KB/NOtpVTFiY3uZrbd34lP9yeB3mHGFnCe41HUOpZ\n",
       "NkyNjXZ7Y+5aQp0CM6VUhE10dyo+mJcxCy02MVWmTdjvEhxIEy3G8iQDPctHTvF+hCcwKefA3Gct\n",
       "wkubOsW8GT9NQcqwVuvZPsN7V6aJGedGuZ4LTNbriDE3TdeQk7e/cJ+IuFxy4lLWd4EDcz434YoP\n",
       "Zhc1oPgMJMgKU34u9C9zJLOJqYnsxNzw0RP8e2UtYzl/fkqYNV9+7UXWz3Niini1ygczRY1TIb74\n",
       "bb3+jR/macvfCea+HoL5J/MhfIws6iw585L7r6M5LshXdL+Fqf6SA1OvCcdqi6nRXVQJw1KAHS1s\n",
       "VmDmUaU/yzDN6+EtOGVYPpQS8U4xH2qJZQ2udh4VVlqYWryq5vRZ4UMCc1mdth8sTFaXnQN4iuih\n",
       "BdNamjJt7Z9WULLL4FZqYzQ2YJBoGoycX9GCyVZLvJTVnkctzM1SLVGCKq5SKrTXZrzKDS9tUJPj\n",
       "SpHHDsDCjB0zeQa7xwqIqcJ3RNMSqFPs8aS+o8vHSFHZ0ILJprkc4CR++MrCNLoaGn3MKNVEpj2m\n",
       "gnb+F+FtUIVQ8S1zhuAqzZCM9tqkhZJJIkm8yGwKYG9TckfaG5NGyxE3Jqm7NBra5jEjb4uZrHJM\n",
       "KC5iTigtpfmokdfgw8VjiwvemFJRzsIJ+dCaMk8K3c1pH6ZxEwottknDHTtH2TadhP6nQTc2jH+M\n",
       "O9nWNuM1bpuwn/gqFZ/AWHbt85rDNmXm6f3c06VKwkgWIJUVSUFvWFkogwnDXQ7Qhcg4vNOGeS/c\n",
       "AY8A9LEA3FabiYqINhupB/WBigPztd29Dkz1HIstDYaZPKzBLQTASgp9TdHJx0u7HWkcwwMeOLC+\n",
       "gA9smMtLZoJofpalMy9MjZYRkimiTYzmillI5lhmyE86MOFLFrTzPLxvOniSeNtya7t3DRnNCun7\n",
       "MUc5NogWMJfetuAZ0YapXLHzODe9midm7Mq/LyEPoVMoZ4Q/VyGxenh4K8F8L+WIm7Caxb6KyEKb\n",
       "sRhSy1jZ0Nb7Zr3odzyxWnfZloUUqmo98y6WWu0KOXjOccAh4orJtJm8wSn4ADO8qsDE3PigZsC2\n",
       "jqXqIXfFnLdh6nQNUuMTSJd8MHtw+0UxRsUxFxG7O+Yq5FAliVmBiasZuA3Uzuf2V90D22yYWBoo\n",
       "PWXY41MWMzdNi/xDxdeTLVHGSxBzJWb0A3VaYArPZhUrdC4HbG2vXZticMIHM12yHSCEBwwPeUmy\n",
       "/79OZ7afK2IdKZMtJ0K5QXyJJKvf7YNUVUpD9jzfHWcpMMARlR+8ghyb3BGlCNG0j4K8HmDRYLQQ\n",
       "evauqN7OfB58LRegmj8iotSrgZTCLPLr/0cJke0Kf2O4ILQSojLN34KJrWR5KBdy9o1RvUI6HExu\n",
       "BJ+n/hjyZfTRiJQ5EtAT+ansmXAv09O5iDBfCyq4jtGWQ83+TkSUKo2E/wEUcpKMpHHEjQAAAABJ\n",
       "RU5ErkJggg==\n",
       "\" style=\"display:inline;vertical-align:middle;\" /></a><br>(see <a class=\"ProveItLink\" href=\"../../../__pv_it/theorems/6da986179fe7649ea6ec2f7e6fd17a8f5a1c0bbe0/dependencies.ipynb\">dependencies</a>)<br>"
      ],
      "text/plain": [
       "<IPython.core.display.HTML object>"
      ]
     },
     "metadata": {},
     "output_type": "display_data"
    }
   ],
   "source": [
    "%proving _psi_t_ket_is_normalized_vec"
   ]
  },
  {
   "cell_type": "code",
   "execution_count": 3,
   "metadata": {},
   "outputs": [
    {
     "data": {
      "text/html": [
       "<strong id=\"defaults.assumptions\">defaults.assumptions:</strong> <a class=\"ProveItLink\" href=\"../../../__pv_it/_proof__psi_t_ket_is_normalized_vec/b224c91479a3b890185904715420afd2361984620/expr.ipynb\"><img src=\"data:image/png;base64,iVBORw0KGgoAAAANSUhEUgAAAEwAAAAZBAMAAABp+tVcAAAAMFBMVEX///8AAAAAAAAAAAAAAAAA\n",
       "AAAAAAAAAAAAAAAAAAAAAAAAAAAAAAAAAAAAAAAAAAAv3aB7AAAAD3RSTlMAZkRUmRDNuyLviTJ2\n",
       "3asqG0tJAAAACXBIWXMAAA7EAAAOxAGVKw4bAAABfUlEQVQoz2NgYBBiwA1YQIQDiGB2wKOMHUS0\n",
       "g4gwBkLKGA8AiUJMydjvZQEMK38qQJUxXGVg4JiAxZBipgcMrB9gpjGcAzpyAUh7A6qytw0LGRgm\n",
       "MLiXV5aXCzAwxAcw8AONZrAPQFX2uICtgeEC3DQ2AYb9IBW+EFme2rvXwIwXMhwJSMpYChjOguhb\n",
       "YB5TDszQF3wbTiEp45nA8Awo/fz7GxCvDW71C4YCdgWEMqavDOWgEP4A5mUwIJRtYb16ARYLDNy/\n",
       "GfJAnAQwLwFJGaOBOSKkOD4xXAFSvAvAeubevXv3OlQZw1M+hDLWT2DT4hXAnAIk0xjiWC8gTINY\n",
       "as/ACuJdQFbGfQChi/sHw3Mg5cZgDeKdgYtXA/FphDKgT08CqXesB8CBbQATT0b4C5xEJjDoAwOr\n",
       "XRDi0ueqEOFtP4EmsSKUsTxg4FRARCXTcmhkoQFgnIJTCAEATCHcEwgrkwMlGsLKbhDKCwzwvMBM\n",
       "0HHgnIU3n4KBKwMDAAoSXd07oc4kAAAAAElFTkSuQmCC\n",
       "\" style=\"display:inline;vertical-align:middle;\" /></a><br>"
      ],
      "text/plain": [
       "<IPython.core.display.HTML object>"
      ]
     },
     "metadata": {},
     "output_type": "display_data"
    }
   ],
   "source": [
    "defaults.assumptions = _psi_t_ket_is_normalized_vec.conditions"
   ]
  },
  {
   "cell_type": "markdown",
   "metadata": {},
   "source": [
    "Keep the $2$ in $2 \\pi i ...$ from combining with the other factors of $2$:"
   ]
  },
  {
   "cell_type": "code",
   "execution_count": 4,
   "metadata": {},
   "outputs": [],
   "source": [
    "Mult.change_simplification_directives(combine_all_exponents=False)"
   ]
  },
  {
   "cell_type": "code",
   "execution_count": 5,
   "metadata": {},
   "outputs": [
    {
     "data": {
      "text/html": [
       "<strong id=\"psi_t_def_inst\">psi_t_def_inst:</strong> <span style=\"font-size:20px;\"><a class=\"ProveItLink\" href=\"../../../__pv_it/axioms/71c1fc00120f763c694cd99d32f7a5e7315b9ca50/expr.ipynb\"><img src=\"data:image/png;base64,iVBORw0KGgoAAAANSUhEUgAAADwAAAATBAMAAAA+KHOiAAAAMFBMVEX///8AAAAAAAAAAAAAAAAA\n",
       "AAAAAAAAAAAAAAAAAAAAAAAAAAAAAAAAAAAAAAAAAAAv3aB7AAAAD3RSTlMAEN0iVJmJRKu7ds0y\n",
       "Zu8qwvqBAAAACXBIWXMAAA7EAAAOxAGVKw4bAAAA5klEQVQoz2NgwA0CGPCCCaRLM+rP3MjA9v45\n",
       "Lt2cDhUMDPJw3YzKqNIcymwXGPgYWGfOfDlzLgMDy0c0aU+GzQxMcN2sChDhlUpKG8DStguskaSZ\n",
       "EsCy1Qthug16uBLg0hXzZywAUswb4YYbcDJMR+j2BwtyGyCkeQKEhOChFg2RRjjNgOEKyzw4Vw1M\n",
       "nlMCgglQaQ6BPngofQdTksi6GRuEYDyWDwwCIPcjSzOc4oTxWDewHABSXAvggQrkcp2EK26QAtNb\n",
       "YALcDnD3gjw89wKYlpguAKZ59r8EktIYMVU2CRKoKAAARP0vCk79Y/oAAAAASUVORK5CYII=\n",
       "\" style=\"display:inline;vertical-align:middle;\" /></a> <a class=\"ProveItLink\" href=\"../../../__pv_it/_proof__psi_t_ket_is_normalized_vec/3b2b244a456255e6f1b54fc7e6aa4dbb54eb3d3f0/proof.ipynb\" style=\"text-decoration: none\">&nbsp;&#x22A2;&nbsp;&nbsp;</a><a class=\"ProveItLink\" href=\"../../../__pv_it/axioms/563650e734cfbeae20efdbfe15f272f48df74d250/expr.ipynb\"><img src=\"data:image/png;base64,iVBORw0KGgoAAAANSUhEUgAABE4AAAAyBAMAAACwvYMWAAAAMFBMVEX///8AAAAAAAAAAAAAAAAA\n",
       "AAAAAAAAAAAAAAAAAAAAAAAAAAAAAAAAAAAAAAAAAAAv3aB7AAAAD3RSTlMAIolEdjIQVJlm3e/N\n",
       "u6uczJRnAAAACXBIWXMAAA7EAAAOxAGVKw4bAAANU0lEQVR42tWdf4wcZRnHn53bmf1xv6YNxYqp\n",
       "Xbr8SAxy54/EGIxdLBUElJOANLRwY8XYtIU7a1VAkq5o4CxFz0j6hyV0NUhrIe1hIpVS6NWYIjGF\n",
       "E4QGjXXBQIQa6PV3tbK+8z7vO/O+M+/Mzuweu7PPH7d3887O+9nvPPO8z/u8M3sAEax3CF9fhiSZ\n",
       "8UpQS6dwJpv/Visu/lv40jeeKP3hRku9vVM4gywh/PojMfH7Cvj6erLkh0xFvb1TOIMsKfx3xsR/\n",
       "EF9ykw1fIe+TXazc2imcQeby8yu6TaZVY+GnHsfXD5l8wP3XC8nQP68M0J3CGWQO/20bTrSX+9ex\n",
       "8PMlfH3Y3XRNMvTPPKHa2imcQebyp9vsJ9+z4uBvYuFwInH6wx9VYbtDOAOHnYnE+ElPOQ7+b/Cl\n",
       "u1BH/3vDD3PvTJCvph0b+9ifC03/Lp3CGWQCv9pP3kd+BHawu6Zj4HNYUXOV/tlq6GHqNMebq/H8\n",
       "tEdx0E7hDDKBWekn7ys/Ajvp//Mx8PNsp+0Qrv+DkSZNQbkyi3Awr85I8RDGZsaUUQjZEs6utT9o\n",
       "ljPItkO4nzTFf9ba8NCAwBwb1lnR8YexGKsfD9dfD0926jTnWK6s31nHT3pH6csBFieP+TtqCWc3\n",
       "jDTJGQhwPNxPmuPfB5Ph3R8QsWGkFB3/EL70TYTr31MIT4mUzTm2IABX8lE1X8dPDNRhFdvtr74d\n",
       "WsOZgqVNcgaZyK/yk6b4jQmoM3dBYI7dW4mO/wy7gqrh+q8LP8G82VjwjuXJ2ZZf/CbkIaKfwI+l\n",
       "UXizL4y2iBNeapIzMI2thvtJRH4b1s+fqsCvIEJ6w7Fz05Hx9dNs+BkP1/+X4YfhzVnIVjxNZVgP\n",
       "qwHmjo2NDdb3k/kUOcU+wIivBNQizuxQk5yBw/x4uJ9E5Ldh/fwknjwe/n4E5tjG6cj4afaWa8xQ\n",
       "/fXwVMdp7h9MHfe0HYX5Q7fnosaTXgysLyqiRys5L0g3yRk43TFD/SQqvw2r4J+sl58w4Bd9g4ko\n",
       "q676vGy8/Ju4ccAXh/qm6KiN5r/WaDONZBbV/5xarUaO0WP76UbCP/enjOCqC+leoP/JdWFTpGNl\n",
       "qE3yAOpaazh7av9pkjPIRH5tWg1oBp4uh38j9ZPUjlrNPobDf9Yd9L3jsOxJN4RIamwSsXliQvCL\n",
       "ok8ogmk36/lpYds7e573BqJ+e4M2iH/475/od/fXiGTGPR/UgPMDfMS7+8fgw3Ncxy+KdKmTGNZx\n",
       "PqEd9r61UziDTODvO3TmLSVgMfB0Cfw27IqvjhcU/F1m6rVl7geV1EBghg0DwPGxT4yimbKfewS3\n",
       "GafqDKsm63HBFSbcrm7mpRyjYMCly0liRfiNgm9ZlGwqQQEKkv43WpxuK45P+EfuqHee0SGcgfOk\n",
       "KPykI+2876tOl8tPYJeDlT674ONfTs62BprkJ3bT7QIww4bNgxwf/YS9SxEdh3EKrdeZQm9mPfaM\n",
       "Gr8QZgVSM0a5V0AnudTUEoClZs+4/buntkY2lVKjUBL0x5VfpNuAeeakGqtTOAMTjCj85Jw9CytN\n",
       "xely+QnsUhN69bKPf6mZhg9AWvQTujKdF4AZtnD20U9uwc0XKiZaGIEyJ8P5/816/DnAR0FjUQs+\n",
       "LTVTmwuz7LMw9VknHqbKKW8aUU1DZlS6Tu2MFOmuwQB4WLr80gsWfL4Jzq7xVnN67HMLzrOi8xch\n",
       "VwFtyj1dfp0Z7LyuqoK/jzj3d6V4YmfMqAYCM2xhNEE/+TZzQoUD4yCYOx6hykJ6PGhP4VM8m1rr\n",
       "KcIQ2Jevv8f219IlDv+865d4pyUP3azfDT79kW4dBcownvfQ34n4tww2zpkptZpTtussMBZF17kI\n",
       "vVW7mO6cLr/ODPaHXRMK/twb1SUFn5+gGgjMsfurHB/9hL2rxwyap6Wnw/mPsB7JdTM8Cnu9/LTZ\n",
       "OLQVums121V7LDoBpvx7ajXv0TIvPD3o1x/phqnb6+y6+x/9eRNpMV5qnNPxk5ZxyoPNn8mPWwcj\n",
       "8xehv2wf2Tldss637Spz2H3wCCj47/qvAMH9BNVAYI7dP8XxyaB6xTgU0nSsy/irvgPog1qdpaDT\n",
       "2KMdX4fHYY2Xnzav2rIpahnhAfEPrj/SYc2HV4B2YwnpXJLba1bDnI6ftIxTLoJqJhjlCyLrXLTH\n",
       "A/20e7oknY1ddzxTBztXAoWfrHGBOXb3JMcvgpaZMMZZSYd6S3YbNdTqJ/ipsuH8OAvUBlNHaO6T\n",
       "9/Bj89uQirpuekClP9L142dk+d42ehGammmU7ZS+QU7uJ63jlOxSOBdWkHlIVP4izC/QjLei0rmv\n",
       "AvPrVCt7R1V+kheAGXa+wvGLcEO2kjNhgkYx/2r5uyz1CS8A6KL+BcgOyvzYTHz01Yj6P6LUn9L1\n",
       "F9wIC/Ao5mVw/lySVTbMyf2kdZxyOgzal8t2a0R+9JMj7umSdO4fh946dXap6u34CapxRMTOT3D8\n",
       "IljdJc2u/tsr5TfX8ZP+mmj2NuMMnTAcZfGcHH9hCXRbivXbtj21bdt2p1kn7zgCsQwP7uhP6fox\n",
       "BT8l6K/hylWhMU4SPh/dheGzdZySFeiyoRaq88iky0/GnQJ0HWMdeXUeJu8oxMB2/ISqwYBP+f2E\n",
       "JP4aGCW4iw9RktUdd7aK16l9fDKT5gOn5Of6yVmzzo6nPx7c0X+NX38az7MAs8+3Xb1RTimetIRT\n",
       "sjKkFgzZrSH8WPni8YQc3J5Br1HFk+FvzpplxcB2/ATVkP1EGHdgg112sWY/dj5LeaX8hC2RaNOR\n",
       "4jn8ncykLScRl8edY9CYOfrv9Y/7u1H/VCE9SPVvjFMed1rB6fGT2bAI/SQSP5kXT0HuBPjmlTju\n",
       "lOJhO36Cakj5iZjHwv2wET5hl/jAKSgI82Ksn6TD5/UpNo+wF5A2uHWYtVLzfZaz5tSQ/kjHljBO\n",
       "CwUDffRagEVdow1zOnlsyzglu0EvQHrwU5F1LtqrjNlJ8NWpaHP2CQCzET+ZJwDz+U6V45MPd4lZ\n",
       "yJF9nZJchDqb7oybbKQ7xnrMjxq/deu6a6XmlU9+8uFG9bfDmiYsUbFlNhYfF5GImV6j4hygoPU4\n",
       "uZ+0jJNmBnbKQX9Jf5z8uLwQWWfS0RZYNeSeLkln49GfXVmK6Sc0jF3oAnNsNngCrcfqr//lUpID\n",
       "TYBiwQPW4ZQgIy9k+ZYqf8d6NO7+0pB/vobNsP5MqUH96cov0g1TIB15DEw4e+361ZuNczr1k5Zx\n",
       "buUpB00R7DrbbVZkftLRivPeEE6XrHN2xx9ijju4Ml1xgRm2nS8z/CKNh7ZTV7+uWEDl91fx29qY\n",
       "3eTdbT/3TPphy17+/dCE8VsfkA7v7GO3gPNlsweG9C80wen4Scs4PXWvxXBdDJ3ljprVWVYDgfkd\n",
       "9vI6YNqiSxkXUL/2mBt5RPund7f7xB57Te/61H0zoT/S4U0UGoYCvmxmrL3caoLTWQdsHads37js\n",
       "OxCdX+6oWZ1lNRCYYQurwEVgM3f9R0PGpGI+xrY9JqVTkzB3g3SXz2ZL6HG1P8uxmtef0R3ED4UJ\n",
       "ln85xMuZGts/lETOIIuis9xRs/yyGgjMsIXVPRpP2DvSijIef07gkLQgMUhS7QFx4XNkVOjRH1pH\n",
       "RpvXPy1OINhswl++9HCSJF47mkTOIIuiczHwdDXCL6uBwPy+OLfKulj0CdXQeULhqauhz4Ru8UmZ\n",
       "Xnt4Sg/xOrRvQaHchP6LRTr2zCt75LV7KvSKIpfIawBPJZEzyKLovDjwdDXCL6uBwPyJYnYXZgR8\n",
       "vsI8LHrqvdB9AvrEWCp+S4DK2yZghkzDYHsR/jXfNzHxcMIeC941E8gZZO3W+SIRO3UsOr7iOS+j\n",
       "Yi9K9olTfSP8BlDj6Ezp34067mRXX+hzXoQT3ibBcyiBnIHva7POO0XsGM958RQ6K3iqRkev/GG/\n",
       "H9Zx0xmwqzBWMpq3fe1+TtiRRM4ga7POCMyx+yrR8RdimtPFPPVbwOs7w1Iw6g5/QK57aIb03yle\n",
       "rYqlGD+nfGtyUjiDrM06IzDH5ktFUfD5Lfr4nEHaXtC6jP66XR4ZJ8MHzsmZkT+Nx7laTrJF83Hm\n",
       "q4nkDLL26ny1iM2T6kj48oTnKwO83J315MDPhR/muZnRH7/kjn+1YL4aNGFwOeH+ZHKGT3japDMC\n",
       "c2zuotHw5e/dGqmyuysf8uy2MjzXWWnOhPzGFjwYi4sh37vlcOaqyeQMjPzt1BmBOXas793yBJ/s\n",
       "NN41lynQB1wEV9wX7qn7ZkJ/dkMfvy3xYHD845ywBuTHbpLCWSd+t0fnVyVsXpWNhs+/euX3yHEK\n",
       "76K6FsDzxNKc8MPMmQn9v4ZXK6sgdinHTZnTvrXDSiRnkLVRZwTm2LDQioOvs9FqKV6W/7Bsj01t\n",
       "HRurQJstr6xSS5xwztjY+mRyBllydN4SD/+LLIXHhGrh5fYEKF+r1Sbbrb/6C7UlTthRq51JJmfg\n",
       "VCkpOsf83nLP/0Ho2W1CMqwrQMBO4QyypPB/Ji7+syxRofEn815C5IdlVkBC1SGcgQlhMvj1fXHx\n",
       "5f/TtDch8huBmX2ncCabH79Tm+H/H4/9aG0KTnQWAAAAAElFTkSuQmCC\n",
       "\" style=\"display:inline;vertical-align:middle;\" /></a></span><br>"
      ],
      "text/plain": [
       "<IPython.core.display.HTML object>"
      ]
     },
     "metadata": {},
     "output_type": "display_data"
    }
   ],
   "source": [
    "psi_t_def_inst = _psi_t_def.instantiate()"
   ]
  },
  {
   "cell_type": "code",
   "execution_count": 6,
   "metadata": {},
   "outputs": [
    {
     "data": {
      "text/html": [
       "<strong id=\"blah\">blah:</strong> <span style=\"font-size:20px;\"><a class=\"ProveItLink\" href=\"../../../__pv_it/axioms/71c1fc00120f763c694cd99d32f7a5e7315b9ca50/expr.ipynb\"><img src=\"data:image/png;base64,iVBORw0KGgoAAAANSUhEUgAAADwAAAATBAMAAAA+KHOiAAAAMFBMVEX///8AAAAAAAAAAAAAAAAA\n",
       "AAAAAAAAAAAAAAAAAAAAAAAAAAAAAAAAAAAAAAAAAAAv3aB7AAAAD3RSTlMAEN0iVJmJRKu7ds0y\n",
       "Zu8qwvqBAAAACXBIWXMAAA7EAAAOxAGVKw4bAAAA5klEQVQoz2NgwA0CGPCCCaRLM+rP3MjA9v45\n",
       "Lt2cDhUMDPJw3YzKqNIcymwXGPgYWGfOfDlzLgMDy0c0aU+GzQxMcN2sChDhlUpKG8DStguskaSZ\n",
       "EsCy1Qthug16uBLg0hXzZywAUswb4YYbcDJMR+j2BwtyGyCkeQKEhOChFg2RRjjNgOEKyzw4Vw1M\n",
       "nlMCgglQaQ6BPngofQdTksi6GRuEYDyWDwwCIPcjSzOc4oTxWDewHABSXAvggQrkcp2EK26QAtNb\n",
       "YALcDnD3gjw89wKYlpguAKZ59r8EktIYMVU2CRKoKAAARP0vCk79Y/oAAAAASUVORK5CYII=\n",
       "\" style=\"display:inline;vertical-align:middle;\" /></a> <a class=\"ProveItLink\" href=\"../../../__pv_it/_proof__psi_t_ket_is_normalized_vec/cee1cd52058b45ceb0e6b009897879e714780fea0/proof.ipynb\" style=\"text-decoration: none\">&nbsp;&#x22A2;&nbsp;&nbsp;</a><a class=\"ProveItLink\" href=\"../../../__pv_it/theorems/f319a3098bf69c968c76068c7a506e41523028480/expr.ipynb\"><img src=\"data:image/png;base64,iVBORw0KGgoAAAANSUhEUgAAAFoAAAAVBAMAAAA0iOSIAAAAMFBMVEX///8AAAAAAAAAAAAAAAAA\n",
       "AAAAAAAAAAAAAAAAAAAAAAAAAAAAAAAAAAAAAAAAAAAv3aB7AAAAD3RSTlMAIkSJMpl2EFRm3e/N\n",
       "u6sQQchiAAAACXBIWXMAAA7EAAAOxAGVKw4bAAABHUlEQVQoz2NgZGBkYBBgQAIOIEIAVQwGlBlc\n",
       "GRiMkEWuADGTAUsAAdVsEJFWHKpZlqOoZoaIcmFXXRfzHUV1GUSYuQG72WyoqlsgoowXiFJtABU+\n",
       "SFA1e+oEBgO2BWDhZoKqmTk2sE8A8SHehKmOWgUC69BVe7Au4BRg2MDAA4wUVgVCZhdwJwADMICh\n",
       "HhSwDwj6sr+AmYE9gaEHKMxhQFB1DIMEA1uB8BoTBpBrCLibIZZhOoMSA8MJoLAs4fDWFjDgVGBg\n",
       "AIWKBXbVzB8RqlkeX0sEqtoAFF6AVTXf6z8vEXHJ0gCy7UEJA0cAESmWrQBIsCaYM/AKEKEanF5Z\n",
       "Ih0YaojJDWwwkUw8qt0YhBkYUpBFHoDsSGA0wKIYALXyTw6n5t9VAAAAAElFTkSuQmCC\n",
       "\" style=\"display:inline;vertical-align:middle;\" /></a></span><br>"
      ],
      "text/plain": [
       "<IPython.core.display.HTML object>"
      ]
     },
     "metadata": {},
     "output_type": "display_data"
    }
   ],
   "source": [
    "psi_t_def_inst.rhs.compute_norm(field=Complex, replacements=[psi_t_def_inst.derive_reversed()])"
   ]
  },
  {
   "cell_type": "code",
   "execution_count": 8,
   "metadata": {},
   "outputs": [
    {
     "data": {
      "text/html": [
       "<strong id=\"domain\">domain:</strong> <a class=\"ProveItLink\" href=\"../../../__pv_it/theorems/159b10cef8a4d9569c7d0082018ceb562e82e0b20/expr.ipynb\"><img src=\"data:image/png;base64,iVBORw0KGgoAAAANSUhEUgAAABwAAAAWBAMAAAAhuOHBAAAAMFBMVEX///8AAAAAAAAAAAAAAAAA\n",
       "AAAAAAAAAAAAAAAAAAAAAAAAAAAAAAAAAAAAAAAAAAAv3aB7AAAAD3RSTlMAEIm73c12IjKr72aZ\n",
       "RFTgyeMAAAAACXBIWXMAAA7EAAAOxAGVKw4bAAAApUlEQVQY02NgQALsB5B5DNwJKNyUc3CmkOZE\n",
       "BhaEzAGGIwyiCO5fhvqGN9xw7kYgt2Y7SJdJaHoTkFYBC7PN2sB43oaBgcMRzD12CWghkFssAOJx\n",
       "HDAEknOALmIvADI4BQyApDRDcUcPSJoZ6tD1//+DqEoOBWR3NvFuQObW8KJ4g5kdRTEz2GQ44AXb\n",
       "ywvnH7sJJI7CuWymxxmfIAWSkNWX4zA2AFr0JOv3BuRZAAAAAElFTkSuQmCC\n",
       "\" style=\"display:inline;vertical-align:middle;\" /></a><br>"
      ],
      "text/plain": [
       "<IPython.core.display.HTML object>"
      ]
     },
     "metadata": {},
     "output_type": "display_data"
    }
   ],
   "source": [
    "domain = _psi_t_ket_is_normalized_vec.instance_expr.operands[0].domain"
   ]
  },
  {
   "cell_type": "code",
   "execution_count": 9,
   "metadata": {},
   "outputs": [
    {
     "data": {
      "text/html": [
       "<span style=\"font-size:20px;\"><a class=\"ProveItLink\" href=\"../../../__pv_it/axioms/71c1fc00120f763c694cd99d32f7a5e7315b9ca50/expr.ipynb\"><img src=\"data:image/png;base64,iVBORw0KGgoAAAANSUhEUgAAADwAAAATBAMAAAA+KHOiAAAAMFBMVEX///8AAAAAAAAAAAAAAAAA\n",
       "AAAAAAAAAAAAAAAAAAAAAAAAAAAAAAAAAAAAAAAAAAAv3aB7AAAAD3RSTlMAEN0iVJmJRKu7ds0y\n",
       "Zu8qwvqBAAAACXBIWXMAAA7EAAAOxAGVKw4bAAAA5klEQVQoz2NgwA0CGPCCCaRLM+rP3MjA9v45\n",
       "Lt2cDhUMDPJw3YzKqNIcymwXGPgYWGfOfDlzLgMDy0c0aU+GzQxMcN2sChDhlUpKG8DStguskaSZ\n",
       "EsCy1Qthug16uBLg0hXzZywAUswb4YYbcDJMR+j2BwtyGyCkeQKEhOChFg2RRjjNgOEKyzw4Vw1M\n",
       "nlMCgglQaQ6BPngofQdTksi6GRuEYDyWDwwCIPcjSzOc4oTxWDewHABSXAvggQrkcp2EK26QAtNb\n",
       "YALcDnD3gjw89wKYlpguAKZ59r8EktIYMVU2CRKoKAAARP0vCk79Y/oAAAAASUVORK5CYII=\n",
       "\" style=\"display:inline;vertical-align:middle;\" /></a> <a class=\"ProveItLink\" href=\"../../../__pv_it/_proof__psi_t_ket_is_normalized_vec/cf337b098492404de2f3ff6e85c82ede13f7a7860/proof.ipynb\" style=\"text-decoration: none\">&nbsp;&#x22A2;&nbsp;&nbsp;</a><a class=\"ProveItLink\" href=\"../../../__pv_it/_proof__psi_t_ket_is_normalized_vec/b64cd6c0fa734016ba456aa6d54b5b69667070880/expr.ipynb\"><img src=\"data:image/png;base64,iVBORw0KGgoAAAANSUhEUgAABEcAAAAyBAMAAABMqKjcAAAAMFBMVEX///8AAAAAAAAAAAAAAAAA\n",
       "AAAAAAAAAAAAAAAAAAAAAAAAAAAAAAAAAAAAAAAAAAAv3aB7AAAAD3RSTlMAuzKrZonNIu/ddhCZ\n",
       "VERetuGgAAAACXBIWXMAAA7EAAAOxAGVKw4bAAAL1ElEQVR42tWdfYxUVxXAz7z5eDvzZmY3raY2\n",
       "tXXaBqW1Zqe2NRiMjmmCDSYyFKEpTcs01tAATR8YwFSS3YqCBBtGibUr23RbtaU1wBgCFkPdSVRs\n",
       "Fej8UWLERuaPGhM/Al3WbuRrfO/de9/nvffdN/OGvXuSvW/33plzf+9w5txzP+YBYEiiBJZcAzKJ\n",
       "dgOrZa5wSs1PsEXx70aXZEUq48NtDXr9XOFkiST8BFsMP1lF13vksj0U6vT6ucLJknvkwhbDX4Qu\n",
       "qRqpUPbIcRvLqLUOZ+TP8FXlZIk0dl4WAV/djq7f1HHFwWMX5XCSLDUu25za555sSMzJEmnsTLBF\n",
       "8LMT6PoTuyYniZMUdtJqHU440JCYkyXS2Jlgi+Dfh6PgqHROAuto0XpUOiehcjJHG3nsvE4c/7vo\n",
       "MlANgT/BV3MiDuzDDac05KwefImLk+4kV49TW8vhZEmPds634scOxyekLoNT4fNlPnw5DuOjVM5O\n",
       "6DIUpW7HoDnJVeS0E+dMBKU92vm3fcAOx8/iV+wGPvwioSkSKzlu4l/WhwwQ97pKY7SkgOwGvpPE\n",
       "wlk8fVKEM1Vmc7KkNzu7pnY0eeq03gU2H3+L8TNcQk42xYdX+NlNSHMKJ8fKX0KcJNFySiMwXgh2\n",
       "NMV3kng4B2BShBNuZHIyAXqz83y+/dZCrQtsPv5i42cB+jU5yofPVLm905tTJfzLq2SgzYY4ibbT\n",
       "KQ25PvACNyfNSeLhVGG+CCe83mBxsqRHO38dePzaKOzsBpuHnxs3HGsr/uyU+fBn+P+6pPnQsoX+\n",
       "JM2syoKgk+Axl4y8SwLR081Jc5KYOOEmIU6SQCwRzlx7s7M9MND51Tr8sBtsFr62/K4G1I3wNo3+\n",
       "Hq7w4X/E75w0N+Etf5NZddgY2o4fP94Od5IR3SkBJgPrPG5OmpPExJkvCXGqMyxOlvRm52yVy29E\n",
       "ku3dYLPw85Cva8YAlsOvP6Bz4RV+amY3X4ERv3nNqndTopEkUXVKX9wIcFKcJC7Oh3JCnPBhFidz\n",
       "ctOTnYcbfP5aSE7CwGbhD7bVqUKzAgk8Rn7E1ZaeCQ6lQ0aB708BerMpX7bg1Rc6HVNHpoKrtnwJ\n",
       "v3Xvw9YYCsrjjvN61KK1JrLilAhsPrk5YZXeJ85M539CnGQlMiG8x9ebne8EPv9T7+jdYLPwUw11\n",
       "Sv2dDgPYbE+7QBd8cHfAp8xOH8Eqg6F40GF60Pg5+quK5bGZil3lkX/ANzY4Lu9Rq152SsOM5/xv\n",
       "dXHCXbu+VpldThhpMThZ0pudp0GEPzJ2EF9b+uyaDYbutOU+k2hlQLsUMpTqqLv0yj9AoUlvJus1\n",
       "h6CR+5bRwSEDXqsGNjuNqgmoQtVzF7c1iNpxVwmpK354yTizTTonc3rRE78yA6H83WAH8X/6HTj6\n",
       "fpOsuw2jlQElZKa/BHf3BBzRoU5vJqtl83VIKEYH8/VMRdkeWEAzqibUFky47gLt5yK1x1xlEEs2\n",
       "znxNCCsm/tS5cP5usANU+f2Gk32xCSo6tnYGBZ7CZT78Z1B3qTqkh+BhUvuepxktWarmZ2F9sWyH\n",
       "QVzllnIOCi2Pq5spKFJ7wFXaH7zc8uW/kJIzd47O6ZOfL1/ZiIE/WRPij4wdiG93JIw3JJuwBTZb\n",
       "rosGvtQUH34r6i5RNqfq60ntaU+z5eC33GFa44/FURseV3lWh29Vfg+Bu0Bqz5ScEuA88nTD8r9u\n",
       "y8hZmKJzeuX2Bmj7Y7CzMwvh8kfFdq6568eeNa8LE6brVNRrbvmTa0qWm+HD/xd1N9gE5TJkdL/x\n",
       "reaDO5qwq9NBy8N7bHhc5VkTevLpdvAukNrhllMCvG+VNxst2k0yciqX6ZzeMeY6o/hlu3f+waoQ\n",
       "f1Rs+1pcg91saAtyyk7HCjmrUHU6ZItqGnVnpLnKNBSqfuObzdqOd7aK5viL3X+Qu0Bq0cIOWd7Z\n",
       "htaJHjAy+XRDQk5tms7pHeHTOmjNh3q3szX3EeCPiG1fN2F0tTzPo+9tVJ/nw6OZ0yMwUrWSnLoP\n",
       "3mpO1mFE9BDQjbS7QGoHJ5wSYMz6+OlpXWuaCbx0nHCBzumRV+ABOGpMQnrmt2auAvzRsJ3rahL6\n",
       "qu959H0Bp0T8ib7igjci4kkfvNVsuHlCdHV6D/UuTjohdRBb+jkLDuB+I/6VJeRE40OQ05v/QvoT\n",
       "TbO1V35rrBDgj4btXGt2WvxPjpMMdtxi1mkfWIPVFRwGq1A0nPBW86+3xsa+Nza2224eNt5RhUgy\n",
       "WfPchaV2sOmUmD6NtqSqs8aJlNM44RKd0yNVa2Mt7bKzB7/jmCKE/2w7Er8gtn1VdoyNjf3Aykk2\n",
       "Rhtuxt0ebnRhTuJO0T6hw3/evDnimVO0pmPfxamgk4yhfSbYeL+5gzVbnEg5jZNY28/pkSaoy0tm\n",
       "K4cfmSKE34okEfjFsO2rRjYt4IYEULY/0jNCYTAxBKmLztjlDeMT0J3Yd7E6mJNsQ8ZXq7m2ZXzZ\n",
       "OMng7uf0OclG2I+cpDd+NNxMxIztXO3Vu3+b6yRgT5EOoAWJHH/+ruKsOzVqLtapQ/6E0GzO77Q3\n",
       "k7q7C6QWba+QTRYrj1daRrK9v9iSkJPspvg5PfIppQq59n96t/NIpQv+UGzn+pqz4lq2l2WZi2mK\n",
       "Pdbj0e0C7u55eL0E6ZYP3mrWnvvKqxPdGt8MaEjtiKskYdFcJM6dkpGT7ET6OK0MwyystCD3d6PY\n",
       "V6Xwz4vGPznRBX84tn3N2P794jr9jXFbxRkUUwreLZ5EydfT93F3R1d+GpzzW6c9zfkX1nQbxq39\n",
       "XKR2uO2UoKEsPGEuUi2UkVO5QuW0MgyrsCxtLqYdbFD4A88X4PMPNLvgD8d2rnf+i3jr0l3jTrjC\n",
       "J6WUaY/im/09PUp80pR3A8Z/FHoQr1p0fg+f4iM7T4tLys+k5MTnCQOcXkm9BLfT7KwMRePPDPUH\n",
       "297gKy5Fy/I+IdMI7xbP5/0ve9Pd3XX+jSfU3KvxkdoHXaW9H6ad3teQkhOdt6BweuWN1/4KFP5k\n",
       "Oxp/frQ/2GHbjlmcnXgcSK3BlmOeULik4XSn1QJaljR6Nz5We62rpGx1SMaZKIPIlgyDfxNE409d\n",
       "7A92GD454r/As9nQNlLhVW43n2w53eWC632Trd6Nn3Pn3dOshWDJOPFkISl8Ms3DfxKi8WuX+4Md\n",
       "hk+c0/MZOwxJHQbcsS1hjkovYZVBLYlmD8b3qC3OOCXYhysZsWDWOcnXaAeEkwU3v/Hhjsj/0f5g\n",
       "h+GTTeNh92fsBAxchKQ7BqX4o2FqFGKSdM0pjQlbYK4nFyesYHGyxM2fb0Xlv68/2KH4lC9naXVz\n",
       "qzHpntJr/EOc2pW4jD/QcsqwL2fNPic8w+Jkvs/FfwSi8k+2+4Idiv9mMHFOWyNW1jNQreBrWRGX\n",
       "8fe6SoDPBtrl4syNsjhZ4ub/KkTlT9f6gh2KfxY5ZxG78N+ALOIMe2LQQInvoaWYjP+M29MheGxY\n",
       "Lk4S8cS/MI75C6bV69H5v90X7FB8fLoen7XPmVs9aAl/t3c05/twqhaP7XM1p6RP+WTihJejT00R\n",
       "/17j/bmJ6PyL+oEdju+d3nxyVQl7eN6X8T7GV/NYPMZHT50jz57LllnTAzk4yTMJsxEeYmPxK4em\n",
       "SCCMxp+p9AFbAN/7OKzJMn5Ix72+lx3hJzdH9Dhsrz3vlMB9HJYMnHCkxeZkDngWv3aenESNxq/9\n",
       "uA/YAvh45o4jSn4Gfam7UEVfubBFXcvVEtIsKOhcnn0671p25JOBEz7E4QyJ3G/r6JBhVP5Njfix\n",
       "BfDJY1PQ81HUS+gE0zwA39eMNvDVbIjD+L9xlUaSRx0r5eHU2jxOliD+kSY6vR6VXy3Fji2Cr+AR\n",
       "aj4KOh9rmK6sjh8/XodZlix1EX2ucLIE8ScuZhqzzE+whfBfxJkvyqDO7jOnO9lOp1ObbePTn2c9\n",
       "VziZMwyLv3jB2rqfTf4ojw33/QcEmW06yCFFhvXmCidLEP/jqyXBFsR/AicnVtgpnJfE9vBxRo42\n",
       "VziZSaDFf6YsCbYgfgInQ+hkw2pJbK8x0/y5wsnlz+hyYAvg/x9//ca9aG7CPgAAAABJRU5ErkJg\n",
       "gg==\n",
       "\" style=\"display:inline;vertical-align:middle;\" /></a></span>"
      ],
      "text/plain": [
       "{t in NaturalPos} |- (((1 / sqrt(2)) * (|0〉 + (e^{2 * pi * i * 2^{t - 1} * phase} * |1〉))) otimes  ((1 / sqrt(2)) * (|0〉 + (e^{2 * pi * i * 2^{t - 2} * phase} * |1〉))) otimes  ... otimes  ((1 / sqrt(2)) * (|0〉 + (e^{2 * pi * i * 2^{0} * phase} * |1〉)))) in Complex^{2^{t}}"
      ]
     },
     "metadata": {},
     "output_type": "display_data"
    }
   ],
   "source": [
    "InSet(psi_t_def_inst.rhs, domain).prove()"
   ]
  },
  {
   "cell_type": "code",
   "execution_count": null,
   "metadata": {},
   "outputs": [
    {
     "name": "stdout",
     "output_type": "stream",
     "text": [
      "proveit.physics.quantum.QPE._psi_t_ket_is_normalized_vec has been proven.\n"
     ]
    }
   ],
   "source": [
    "%qed"
   ]
  },
  {
   "cell_type": "code",
   "execution_count": null,
   "metadata": {},
   "outputs": [],
   "source": []
  }
 ],
 "metadata": {
  "kernelspec": {
   "display_name": "Python 3",
   "language": "python",
   "name": "python3"
  },
  "language_info": {
   "codemirror_mode": {
    "name": "ipython",
    "version": 3
   },
   "file_extension": ".py",
   "mimetype": "text/x-python",
   "name": "python",
   "nbconvert_exporter": "python",
   "pygments_lexer": "ipython3",
   "version": "3.7.3"
  }
 },
 "nbformat": 4,
 "nbformat_minor": 1
}
