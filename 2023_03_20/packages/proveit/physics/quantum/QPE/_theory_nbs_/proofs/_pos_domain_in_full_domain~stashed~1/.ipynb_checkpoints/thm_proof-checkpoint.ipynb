{
 "cells": [
  {
   "cell_type": "markdown",
   "metadata": {},
   "source": [
    "Proof of <a class=\"ProveItLink\" href=\"../../../../../../_theory_nbs_/theory.ipynb\">proveit</a>.<a class=\"ProveItLink\" href=\"../../../../../_theory_nbs_/theory.ipynb\">physics</a>.<a class=\"ProveItLink\" href=\"../../../../_theory_nbs_/theory.ipynb\">quantum</a>.<a class=\"ProveItLink\" href=\"../../theory.ipynb\">QPE</a>.<a class=\"ProveItLink\" href=\"../../theorems.ipynb#_pos_domain_in_full_domain\">_pos_domain_in_full_domain</a> theorem\n",
    "========"
   ]
  },
  {
   "cell_type": "code",
   "execution_count": 1,
   "metadata": {},
   "outputs": [],
   "source": [
    "import proveit\n",
    "from proveit import a, b, c, e, l, defaults, eps\n",
    "from proveit.numbers import one, Less, Neg\n",
    "from proveit.numbers.negation import negated_positive_is_negative\n",
    "from proveit.numbers.ordering import less_shift_add_right\n",
    "from proveit.physics.quantum.QPE import _pos_domain, _full_domain, _two_pow__t_minus_one\n",
    "from proveit.physics.quantum.QPE import _two_pow_t_minus_one_is_nat_pos\n",
    "theory = proveit.Theory() # the theorem's theory"
   ]
  },
  {
   "cell_type": "code",
   "execution_count": 2,
   "metadata": {},
   "outputs": [
    {
     "data": {
      "text/html": [
       "Under these <a href=\"presumptions.txt\">presumptions</a>, we begin our proof of<br><strong id=\"_pos_domain_in_full_domain\">_pos_domain_in_full_domain:</strong> <a class=\"ProveItLink\" href=\"../../../__pv_it/theorems/911f329d7218aa2a8e0341fa309ff6fff76f58ac0/expr.ipynb\"><img src=\"data:image/png;base64,iVBORw0KGgoAAAANSUhEUgAAAcYAAAAbBAMAAAAUmzJfAAAAMFBMVEX///+IiIgiIiIQEBB2dnbu\n",
       "7u5ERETMzMzc3NwyMjK6urpmZmaYmJiqqqpUVFQAAAB6qHgnAAAAAXRSTlMAQObYZgAAAAlwSFlz\n",
       "AAAOxAAADsQBlSsOGwAABR1JREFUWMPNmG9oHEUUwN8lu9m97N3lVFoQJMSVUGuwOWwRP4ie4h9a\n",
       "ra4YFMGmodCrhCoXU/SDtF1NiEIwnGKrCNWj1g9KwUtpWtLLhwt+KNVSk6KEiMhSMSoYG8HjkmA5\n",
       "599u98/s3e3l2jpwu3M77+3Ob97Me28G4H9YPjIrL2ZqVwrrrCKeC/7FS6reuO5/U4OMuMQq0k0d\n",
       "tb95p1kZuNms5dAvpN5dg3KmgRaK5moRsr4YDcA4b9UumpURcj1/nRlf4NrtS8df+eEP0sEZhzc+\n",
       "bmd8F8+9SPxGMO7lPbz1c9fKmqnHjkccdpQWNHTtpIwGvv1UmTFGvldYO6KcABC6066pWbQJ5A+n\n",
       "oU3zZ5Q6Oa8dndwDUHTO1RYM1k4ZzzgcGZ9Rydr91hqKkkSX71wPBRvICAir8BnAaylUdC9j72SR\n",
       "M3J98HS2NQESVnqJMZK37tQI4wEqVJFRMqwFvLbShgdrsgLj7wCboV30rsfj7B7iMMZ0aE6EjOcd\n",
       "diRvDRcIYxihCjNV1uMhdNveAMaDeFxvp/X1qprxMD6owWV9XNA8jLMVGJuLEFtW4o96GZU+whhB\n",
       "qOFqPud8g1wPjlxyiVS/WMez4yWAy+k3zpqTcOs/8RoYYx0QK0lTpvGHP33IfGsoQf3qPaq6pRpj\n",
       "s6rekWwA4x/YoZMILx/izlVUurmalRhRaVoC3gpoLVLG0wC7vUpJB6OShhYtCMyoaQnnq1N41PvA\n",
       "6cEUxwyR/q6H8WDc/YSYUCpRxjGQDa9SzsGIJMZsjZEnqzFOs/t+5Or3TViPP8Grh3THtjyGHEGp\n",
       "yaiHcZPX2V7Bl1XK2KIJWVtT1zb42nAzIktvQ47bnBCDzjTFmQOLj/ylhbpML4bD2VNWWxcecmLB\n",
       "QRUVYtGxj3H+g/+qG1DtFIfghKpuVtVN/owKJzD0oqRAZIzRuDWmAwv98LOgKZqHcRZfcR6JRWyp\n",
       "Yc6RA9PvgdIB1hLrdGSS2I63kNpzVyfnKfsqiPDNWMWOFzjPtmaZfyMO05xYymmc8sRzAjyR78pn\n",
       "7YxhnPqhCE5EbJ3uc+TALAbKJTGDMpZ8/gyP8RWRTMmrCi12rO9B1gMzRpPwjucZFpSWGeN27OJ6\n",
       "pgtwG26b+/FNwbMeQZhHg92UpSKk01iByxjR5FI0V+DacQH9/hVIX+NcvyolIaQFZtwHsM7jVxM2\n",
       "vwpDaBzFDWCIpMNzwo5jXkb5AbJDoyJwjirwGXGn5SlmjIEtaGEetVrwPF19xpVC2xnfyudPVJyr\n",
       "wjLbLaJeiSumD8nnO7ixI8LiI8RQ8IwZw4VWMvZzkFvvZYTfiD2oiPQhVfBjfNVlibA1yF+hlm9p\n",
       "WOrt1ziM3eXySiXG2C8rf1L3m2MuDNfL5XKGy6gYtr1V89QPEDmcSr2MGHvCnvhIy0kmcuBXqqCk\n",
       "Uvem9noYZXe4jb5nZV02D35sFyeX8y2zQdMNe77KHIVO1gKxY+usz/7xLo2K4C1Lm+7nc1D8dzmA\n",
       "Iee+Ayrk5L7leF2MbN/BfNsMstxuduDS7sO4FGcZ0TxTcDD2gEgI5D2vT/idQkgJTm9CiWtx7kWy\n",
       "pwv2cwBxfFqDEbQwpY063RJzGMezRIR0mihQRpoDw6Au3UfmY7m85McIi7yN85VrwfgsnqZ3es46\n",
       "xMdS/VXOOqiIKz7WfprEP88ZXWw84vDiGs9zjvLS2poYo0m4jqX2c7n3Peer4XiQL0lHAp6vNqxM\n",
       "kPPV++tT3h9E+G24weU/D0poL/bs9QUAAAAASUVORK5CYII=\n",
       "\" style=\"display:inline;vertical-align:middle;\" /></a><br>(see <a class=\"ProveItLink\" href=\"../../../__pv_it/theorems/d4e53542a7466ee8fe6f3c30f8b3a5ac3d50d36a0/dependencies.ipynb\">dependencies</a>)<br>"
      ],
      "text/plain": [
       "_pos_domain_in_full_domain: forall_{e in NaturalPos} [forall_{l in {e + 1 .. 2^{t - 1}}} (l in {-2^{t - 1} + 1 .. 2^{t - 1}})]"
      ]
     },
     "execution_count": 2,
     "metadata": {},
     "output_type": "execute_result"
    }
   ],
   "source": [
    "%proving _pos_domain_in_full_domain"
   ]
  },
  {
   "cell_type": "markdown",
   "metadata": {},
   "source": [
    "The basic approach is to show<br>\n",
    "(1) $\\ell\\in\\{\\epsilon+1\\ldots 2^{t-1}\\}$ means $\\ell \\le 2^{t-1}$ (and $\\ell\\in\\mathbb{Z}$)<br>\n",
    "(2) $\\ell\\in\\{\\epsilon+1\\ldots 2^{t-1}\\}$ means $\\epsilon+1 \\le \\ell$<br>\n",
    "(3) $\\epsilon\\in\\mathbb{N}^{+}$ means $-2^{t-1 + 1} < \\epsilon+1$<br>\n",
    "(4) Thus $-2^{t-1 + 1} \\le \\ell \\le 2^{t-1}$ and $\\ell$ is an Integer.<br/>\n",
    "(5) Thus $\\ell\\in\\{-2^{t-1 + 1}\\ldots 2^{t-1}\\}$"
   ]
  },
  {
   "cell_type": "code",
   "execution_count": 3,
   "metadata": {},
   "outputs": [
    {
     "data": {
      "text/html": [
       "<strong id=\"defaults.assumptions\">defaults.assumptions:</strong> <a class=\"ProveItLink\" href=\"../../../__pv_it/_proof__pos_domain_in_full_domain/75170192fa54158af168c1883af5c94a2e926e300/expr.ipynb\"><img src=\"data:image/png;base64,iVBORw0KGgoAAAANSUhEUgAAAQAAAAAaBAMAAACqZp8cAAAAMFBMVEX///9UVFQiIiKIiIjMzMx2\n",
       "dnYQEBDc3NxEREQyMjLu7u5mZmaqqqq6urqYmJgAAAB66f/FAAAAAXRSTlMAQObYZgAAAAlwSFlz\n",
       "AAAOxAAADsQBlSsOGwAAAylJREFUSMfFl01oE0EUx98m2266+ejiwbZSZF38antZG9uDIgTEg/TQ\n",
       "0IqoYF30LrkUKwqNIhpFNOLBi2LqF4hI60G0FiR40pPBYy9GeupBrbS0NljrvP1I92XHfNiqAzs7\n",
       "efOf3d++eW9mAvDPSkPCbsjTtONzuVHBtQMYdRp7O53WGFahsXKjAmsH8K7YeuM0hrB6DH8K8DRX\n",
       "y/sH2w64Ac7ihER0Vl3jiO99v5yBg/O5sgD+O5maPHCbeEBsxtHtAJLBE18NKyDPEA/0zZVo3nPf\n",
       "L7ZzjGfGLwAU6BQEFFbtYFEW5z1mXWIAwICXqYupVN4yRWZKNH28gSPjBa9RSsKxXNgAMcXKJRug\n",
       "TsXAzEAjdyJbkyxpVOKBYLocQDjvTAwHQEhAveFXHhAPmAANeeh1O9J/XmszG01TUroEwKdTCQUI\n",
       "6WUA6gsgLAT1I16AYBI63Z9x06FpEmJdJQDDMSqpAUBQQZgTX8ecfLjb7wD4DWhB08PoK7ydLj68\n",
       "CZKBHAX4ClRiAsj9uzOVAdB/pRFkAYQLkMLbZtiHtluwAtAjt6tkJWwGKoFxdn2IifGqAHp1TxZj\n",
       "+olzcAO9m4c9aEu7ACLZtzRBTwCVSCfZ9RP8uaoANnlT4wdWS9DBbtejXfgY8bimadttANggEABx\n",
       "AYhEasFlajZ6FN2kaVtZh/J7ABZs3oxlK5O8ZHrgm71LJV0egBFZ9XjMLem5AtCoVBWEAJ84tsPs\n",
       "CyRrCmZtk+oGEHVCHVAyVALnGIBeHUAoDqc8toLlV4ytLewn2qLFXrZyws4iAL66MR+nEswCH7Nl\n",
       "qwBgIb7LkwWGlQXd7DYN8gvzyJB1bxzFpU9eRIBJnUoQIJKGJwkKULewMmbUfoLUMTGhctMwYsBH\n",
       "9nn+gSlrVPOk1bl/nn29XIx4jWkiz6nEWge6vuh0CoT1ixvNBga3zz5q+JaXl9NcgKAC9e69IHzI\n",
       "WWfpdGV4Ev5KWHVx9gL+blii5Vr5m1FtAGw3FI3K2vtca/fqTmhmiGF6tlbW8t07nF0VwCP02baK\n",
       "Z8IyRXq2GoLBVudMGIrDfytDlf8X/N3CDgG/APvcwNG0/5sIAAAAAElFTkSuQmCC\n",
       "\" style=\"display:inline;vertical-align:middle;\" /></a><br>"
      ],
      "text/plain": [
       "defaults.assumptions: (e in NaturalPos, l in {e + 1 .. 2^{t - 1}})"
      ]
     },
     "execution_count": 3,
     "metadata": {},
     "output_type": "execute_result"
    }
   ],
   "source": [
    "defaults.assumptions = _pos_domain_in_full_domain.all_conditions()"
   ]
  },
  {
   "cell_type": "code",
   "execution_count": 4,
   "metadata": {},
   "outputs": [
    {
     "data": {
      "text/html": [
       "<strong id=\"ell_membership\">ell_membership:</strong> <a class=\"ProveItLink\" href=\"../../../__pv_it/theorems/f01e5817c994f42806cb80f31cb3ebf09f18f49a0/expr.ipynb\"><img src=\"data:image/png;base64,iVBORw0KGgoAAAANSUhEUgAAAKgAAAAYBAMAAACcr6vyAAAAMFBMVEX///+qqqq6urru7u4QEBBE\n",
       "RERUVFTc3NyIiIgyMjJmZmaYmJjMzMwiIiJ2dnYAAACPW0xlAAAAAXRSTlMAQObYZgAAAAlwSFlz\n",
       "AAAOxAAADsQBlSsOGwAAAdtJREFUOMtjYKAYcBZAGcw7GagG7GGME73UM1QSzpLFo8pIgRQz626+\n",
       "QTa0sACrKo5JBiS5dCKKS3lSQbrf/kFTJI/VTJ7LWASrVsYwMHxG9T5rApDg/oCm8i02M81WfsYU\n",
       "ZA9geK/A5MDAEwoE4VBD+S4ACa4JeA3VhgUKFkPZChhYHDgSbFBcCjaUtwGiKfbuTWyGSuAxlOUz\n",
       "A9t3robHmIbWHwAxmWYYYHcpPkPZLjCw/eFZfQCWDua/gBm6HyxQaYDifeYXXQaEDQX5Ez1GIIam\n",
       "gpnTEaIrgVj3AM8Dogw934CRIh2AhAeYiYgtdm8g/s3AoUCUodcwk8RHYPr7Dk6Fvnfv3r0KFssE\n",
       "msb6o+MRiLP27l2Xu3ev4TaUKwBL6psIcS0DM0LyVDADA38CURHFwLANi9hLBWAGAMfIBYRgGNDQ\n",
       "BuIMZXzAUI4hBlTIvwEcIx0oiZ8XKCZAhKHnGBiaMWIf6HV+ZbCrOAWQDeWewGBVgGoo33do6QmM\n",
       "Uuaf0Di5tWrVBWxJinsdpNROVUZOp327G1C9z5byMxuSMBcAiVvQRPr///8JWNMpFDA9xZ9NiQZ8\n",
       "F7CJYi9QKDS0hbLaBaPUA4N6AYoMNdmATZR9GSWm1iUyMAAAMyWCGgj5uJ8AAAAASUVORK5CYII=\n",
       "\" style=\"display:inline;vertical-align:middle;\" /></a><br>"
      ],
      "text/plain": [
       "ell_membership: l in {e + 1 .. 2^{t - 1}}"
      ]
     },
     "execution_count": 4,
     "metadata": {},
     "output_type": "execute_result"
    }
   ],
   "source": [
    "ell_membership = _pos_domain_in_full_domain.all_conditions()[1]"
   ]
  },
  {
   "cell_type": "code",
   "execution_count": 5,
   "metadata": {},
   "outputs": [
    {
     "data": {
      "text/html": [
       "<span style=\"font-size:20px;\"><a class=\"ProveItLink\" href=\"../../../__pv_it/theorems/4b1bad3f6d5e8f44327875c798038169eb4402770/expr.ipynb\"><img src=\"data:image/png;base64,iVBORw0KGgoAAAANSUhEUgAAAD4AAAATBAMAAAA63aOfAAAAMFBMVEX///8QEBAyMjKqqqpUVFRE\n",
       "RESYmJjc3NzMzMwiIiK6urpmZmaIiIh2dnbu7u4AAAAMEBwRAAAAAXRSTlMAQObYZgAAAAlwSFlz\n",
       "AAAOxAAADsQBlSsOGwAAAOBJREFUKM9jYMADNjDgBwHkyPPND9Vj4JWXwqmf1WAJA8N73OazTOdN\n",
       "YGBk4A4NFQ0NwyZvyqDOwImp/+jMmQpg+bIDRVjkF52D6S/w4LmAkOe7c/oBkGLXg5tfwMoQhZBf\n",
       "2cBxAUgxFSDkOTa8fAkLP/ZvDDwLQPII9xUwJDMHwn3758wtEN04EwgCoPIsDxxh8vwOEPopsn4+\n",
       "h5dw+QMQmhNZnqGHFcbjBDrOAEjzHIDb2ADktcJ4bAoMr8FOV4aJMIGUb4IbdzYNovNJ1AMwzaEv\n",
       "CiQfYYb72khI+KIAADDwNXLQjGRpAAAAAElFTkSuQmCC\n",
       "\" style=\"display:inline;vertical-align:middle;\" /></a>, <a class=\"ProveItLink\" href=\"../../../__pv_it/theorems/f01e5817c994f42806cb80f31cb3ebf09f18f49a0/expr.ipynb\"><img src=\"data:image/png;base64,iVBORw0KGgoAAAANSUhEUgAAAKgAAAAYBAMAAACcr6vyAAAAMFBMVEX///+qqqq6urru7u4QEBBE\n",
       "RERUVFTc3NyIiIgyMjJmZmaYmJjMzMwiIiJ2dnYAAACPW0xlAAAAAXRSTlMAQObYZgAAAAlwSFlz\n",
       "AAAOxAAADsQBlSsOGwAAAdtJREFUOMtjYKAYcBZAGcw7GagG7GGME73UM1QSzpLFo8pIgRQz626+\n",
       "QTa0sACrKo5JBiS5dCKKS3lSQbrf/kFTJI/VTJ7LWASrVsYwMHxG9T5rApDg/oCm8i02M81WfsYU\n",
       "ZA9geK/A5MDAEwoE4VBD+S4ACa4JeA3VhgUKFkPZChhYHDgSbFBcCjaUtwGiKfbuTWyGSuAxlOUz\n",
       "A9t3robHmIbWHwAxmWYYYHcpPkPZLjCw/eFZfQCWDua/gBm6HyxQaYDifeYXXQaEDQX5Ez1GIIam\n",
       "gpnTEaIrgVj3AM8Dogw934CRIh2AhAeYiYgtdm8g/s3AoUCUodcwk8RHYPr7Dk6Fvnfv3r0KFssE\n",
       "msb6o+MRiLP27l2Xu3ev4TaUKwBL6psIcS0DM0LyVDADA38CURHFwLANi9hLBWAGAMfIBYRgGNDQ\n",
       "BuIMZXzAUI4hBlTIvwEcIx0oiZ8XKCZAhKHnGBiaMWIf6HV+ZbCrOAWQDeWewGBVgGoo33do6QmM\n",
       "Uuaf0Di5tWrVBWxJinsdpNROVUZOp327G1C9z5byMxuSMBcAiVvQRPr///8JWNMpFDA9xZ9NiQZ8\n",
       "F7CJYi9QKDS0hbLaBaPUA4N6AYoMNdmATZR9GSWm1iUyMAAAMyWCGgj5uJ8AAAAASUVORK5CYII=\n",
       "\" style=\"display:inline;vertical-align:middle;\" /></a> <a class=\"ProveItLink\" href=\"../../../__pv_it/_proof__pos_domain_in_full_domain/c11c8a32d9ebb4169c9a152ba5bb6bcd2cbf6e060/proof.ipynb\" style=\"text-decoration: none\">&nbsp;&#x22A2;&nbsp;&nbsp;</a><a class=\"ProveItLink\" href=\"../../../__pv_it/_proof__pos_domain_in_full_domain/f0c2092a2ee576e7f433cef4e612c988e19ccde60/expr.ipynb\"><img src=\"data:image/png;base64,iVBORw0KGgoAAAANSUhEUgAAAF0AAAAVBAMAAADWVP/xAAAAMFBMVEX////MzMxUVFRERES6uroi\n",
       "IiIQEBCYmJhmZmYyMjLu7u52dnaqqqqIiIjc3NwAAACW8nlqAAAAAXRSTlMAQObYZgAAAAlwSFlz\n",
       "AAAOxAAADsQBlSsOGwAAAVBJREFUKM9jYGB4wIAd4BDnPYBDvS924dPYBBmjgAYVoItyxwswcE3A\n",
       "onxR5y8gOQshwDMPTNUzMHAgm8IC4/CC1FfAxdkjFoDpTgYGNmRzeS4gq2dbAONFQ1mxDAwncavn\n",
       "hNq2OhYqyveRgaEbSHPtvbEAi3puBTB7RTjcWR8YGKYDaVcBxg1Y1LODg2LRHLj1TAYMDDFAa74z\n",
       "8DpgUc+TAFaEUM8GlE5hYGD+e3cLkMcRGhqWGhqqAFfP+AGs6gXcPfIPwOr5FbD7lyUBzb/XGMDu\n",
       "4b+AXT1PAFp4GnExMNgyMLACPXsAm38N0OLrOzcDwyZwOKx4gKqe+x/IQxsQETMRRH5Zy8AgCqRv\n",
       "l19AdQ+T2k91oL0OaMmqAmgAqwC2+AWDp9hSLnsDtvQGBu1Y078djuzCwAfx7tJQEAiECy/GpZ4Z\n",
       "e4bku4BD/T1sggCaBVghRyIeGwAAAABJRU5ErkJggg==\n",
       "\" style=\"display:inline;vertical-align:middle;\" /></a></span>"
      ],
      "text/plain": [
       "{e in NaturalPos, l in {e + 1 .. 2^{t - 1}}} |- (e + 1) <= l"
      ]
     },
     "execution_count": 5,
     "metadata": {},
     "output_type": "execute_result"
    }
   ],
   "source": [
    "ell_membership.derive_element_lower_bound()"
   ]
  },
  {
   "cell_type": "code",
   "execution_count": 6,
   "metadata": {},
   "outputs": [
    {
     "data": {
      "text/html": [
       "<span style=\"font-size:20px;\"><a class=\"ProveItLink\" href=\"../../../__pv_it/theorems/4b1bad3f6d5e8f44327875c798038169eb4402770/expr.ipynb\"><img src=\"data:image/png;base64,iVBORw0KGgoAAAANSUhEUgAAAD4AAAATBAMAAAA63aOfAAAAMFBMVEX///8QEBAyMjKqqqpUVFRE\n",
       "RESYmJjc3NzMzMwiIiK6urpmZmaIiIh2dnbu7u4AAAAMEBwRAAAAAXRSTlMAQObYZgAAAAlwSFlz\n",
       "AAAOxAAADsQBlSsOGwAAAOBJREFUKM9jYMADNjDgBwHkyPPND9Vj4JWXwqmf1WAJA8N73OazTOdN\n",
       "YGBk4A4NFQ0NwyZvyqDOwImp/+jMmQpg+bIDRVjkF52D6S/w4LmAkOe7c/oBkGLXg5tfwMoQhZBf\n",
       "2cBxAUgxFSDkOTa8fAkLP/ZvDDwLQPII9xUwJDMHwn3758wtEN04EwgCoPIsDxxh8vwOEPopsn4+\n",
       "h5dw+QMQmhNZnqGHFcbjBDrOAEjzHIDb2ADktcJ4bAoMr8FOV4aJMIGUb4IbdzYNovNJ1AMwzaEv\n",
       "CiQfYYb72khI+KIAADDwNXLQjGRpAAAAAElFTkSuQmCC\n",
       "\" style=\"display:inline;vertical-align:middle;\" /></a>, <a class=\"ProveItLink\" href=\"../../../__pv_it/theorems/f01e5817c994f42806cb80f31cb3ebf09f18f49a0/expr.ipynb\"><img src=\"data:image/png;base64,iVBORw0KGgoAAAANSUhEUgAAAKgAAAAYBAMAAACcr6vyAAAAMFBMVEX///+qqqq6urru7u4QEBBE\n",
       "RERUVFTc3NyIiIgyMjJmZmaYmJjMzMwiIiJ2dnYAAACPW0xlAAAAAXRSTlMAQObYZgAAAAlwSFlz\n",
       "AAAOxAAADsQBlSsOGwAAAdtJREFUOMtjYKAYcBZAGcw7GagG7GGME73UM1QSzpLFo8pIgRQz626+\n",
       "QTa0sACrKo5JBiS5dCKKS3lSQbrf/kFTJI/VTJ7LWASrVsYwMHxG9T5rApDg/oCm8i02M81WfsYU\n",
       "ZA9geK/A5MDAEwoE4VBD+S4ACa4JeA3VhgUKFkPZChhYHDgSbFBcCjaUtwGiKfbuTWyGSuAxlOUz\n",
       "A9t3robHmIbWHwAxmWYYYHcpPkPZLjCw/eFZfQCWDua/gBm6HyxQaYDifeYXXQaEDQX5Ez1GIIam\n",
       "gpnTEaIrgVj3AM8Dogw934CRIh2AhAeYiYgtdm8g/s3AoUCUodcwk8RHYPr7Dk6Fvnfv3r0KFssE\n",
       "msb6o+MRiLP27l2Xu3ev4TaUKwBL6psIcS0DM0LyVDADA38CURHFwLANi9hLBWAGAMfIBYRgGNDQ\n",
       "BuIMZXzAUI4hBlTIvwEcIx0oiZ8XKCZAhKHnGBiaMWIf6HV+ZbCrOAWQDeWewGBVgGoo33do6QmM\n",
       "Uuaf0Di5tWrVBWxJinsdpNROVUZOp327G1C9z5byMxuSMBcAiVvQRPr///8JWNMpFDA9xZ9NiQZ8\n",
       "F7CJYi9QKDS0hbLaBaPUA4N6AYoMNdmATZR9GSWm1iUyMAAAMyWCGgj5uJ8AAAAASUVORK5CYII=\n",
       "\" style=\"display:inline;vertical-align:middle;\" /></a> <a class=\"ProveItLink\" href=\"../../../__pv_it/_proof__pos_domain_in_full_domain/24862c608de3cfe6be3a6f13b88c1ff53d30a3b60/proof.ipynb\" style=\"text-decoration: none\">&nbsp;&#x22A2;&nbsp;&nbsp;</a><a class=\"ProveItLink\" href=\"../../../__pv_it/_proof__pos_domain_in_full_domain/d959c94c6b67001a2d9a6245fbea5be37f398c430/expr.ipynb\"><img src=\"data:image/png;base64,iVBORw0KGgoAAAANSUhEUgAAAEYAAAAWBAMAAACPjvdAAAAAMFBMVEX///+qqqq6urru7u4QEBBE\n",
       "RERUVFTc3NyIiIgyMjJmZmaYmJjMzMwiIiJ2dnYAAACPW0xlAAAAAXRSTlMAQObYZgAAAAlwSFlz\n",
       "AAAOxAAADsQBlSsOGwAAAPlJREFUKM9jYMAOOAugDOadDLiAPYxxohenGkk4SxaXkrqbbwiqYZiI\n",
       "Ys7bP2jSVStjGBg+o6jh/oBwBMgz7AEM7xWYHBh4QoEgHKKGawJMyd7FIJKtgIHFgSPBBtkc3gYo\n",
       "p/cxmGL5zMD2navhMbKa+gOQsHoLVct2gYHtD8/qAzAfzn/BwLAfomTtBoSreT+geSMVrCRTAEno\n",
       "fAOaGg8wiaLmGpoSnu9gih3JLq4ANDUcDgyobmZg2IYe6KwJBqh+Z2B8wFCOqoZ/wwPUMGQ4x8DQ\n",
       "jKZGGeEJSVCgsN9ateoCqhrudWiW8/7//38CAw0B810wOIBVEgD+yEMMvKrdxwAAAABJRU5ErkJg\n",
       "gg==\n",
       "\" style=\"display:inline;vertical-align:middle;\" /></a></span>"
      ],
      "text/plain": [
       "{e in NaturalPos, l in {e + 1 .. 2^{t - 1}}} |- l <= 2^{t - 1}"
      ]
     },
     "execution_count": 6,
     "metadata": {},
     "output_type": "execute_result"
    }
   ],
   "source": [
    "ell_membership.derive_element_upper_bound()"
   ]
  },
  {
   "cell_type": "code",
   "execution_count": 7,
   "metadata": {},
   "outputs": [
    {
     "data": {
      "text/html": [
       "<span style=\"font-size:20px;\"> <a class=\"ProveItLink\" href=\"../../../../../../numbers/negation/_theory_nbs_/proofs/negated_positive_is_negative/thm_proof.ipynb\" style=\"text-decoration: none\">&nbsp;&#x22A2;&nbsp;&nbsp;</a><a class=\"ProveItLink\" href=\"../../../../../../numbers/negation/__pv_it/theorems/99d74eef377cfc0b9723562042bb99c622d375540/expr.ipynb\"><img src=\"data:image/png;base64,iVBORw0KGgoAAAANSUhEUgAAAMUAAAAXBAMAAABJ4JbnAAAAMFBMVEX///+IiIgiIiIQEBB2dnbu\n",
       "7u5ERETMzMzc3NwyMjK6urpmZmaYmJiqqqpUVFQAAAB6qHgnAAAAAXRSTlMAQObYZgAAAAlwSFlz\n",
       "AAAOxAAADsQBlSsOGwAAAsJJREFUSMetVU1o02AYftPmr027RZhYEcpWPAymUETYGB4q+DNhSpS5\n",
       "i4e1oFHQSVHPNuhRGFMQdlCIKII4tYepzI3RKj2IyKJ4EYRV8OJFdrAw9OL3lzRfTAcpe+GBN0++\n",
       "73uS93nfBKCrsBgCVIeVXYXgUPjjQfhSTDdx8i2ixhcGTrf237JDuyxCv8EXc9EkpFkKPu4GiYQj\n",
       "DRL6OrpQi9E0tBoFHx+CxFuAI4ROGACiE00jzhBgDS9Nk8JcBlgzMJ1Cz5OIaMdXhkBpvDdLDRG5\n",
       "vwAVh9D7crn9ETUWGNxQf2R0VI2m6/5uIiFhjRqhXwOcCy16Z417DG48tOQWenrWBRMDTPk30tAJ\n",
       "PQNq07f+87GV2ySRgyeLBwss28vgttkB0PqRCXlydWsP+DQKhJYN0WaskjVtQYSxAq8hUTPr8JgR\n",
       "oxTSnRyOsrYOMbRFWcf3eu5725DGC53Qad2zfKmMiilAQ+c11IvkgzAMvRan4TVUEabQYybzvAb2\n",
       "fM2h9GwdF7E+RicVaWyvtjWk8T4LlF/ocLUFcSe0VlM6rOKG7edrBSbAqkHp42gSpUFlAyZJU4hq\n",
       "qdbWOGVV8PkrZVBaEGPdWWJwNRz4mbYgVeQ9h3cAi0Dpm8hyrarkYZ5oaGeLPs+X4Cp5nVc20ojr\n",
       "dPMJBhaynh5CXai5LXFygBoYc6RhRvcgF+K20IT3pmk6giA+82mMQpaO1QiqVS+r1RUG19zvR2d2\n",
       "oCNtbwbZgCxkyz56ypIbxjXyHkLykeFpSBtw6TSudcnveaxMwceNdpqaC6HjVmXekA3iBxz2eT6i\n",
       "/GmgPXjitsFz94gqBR/L4QPr0cnlT+OgnkfZk52FM4ttjacf+2ogTNMZfOkuv8Dgjw4f7yA9YZp2\n",
       "20kvU6aDGycZ/CGH/1XlzX628ib3VJ3CH5nwpRnoUmOrQt2yk/4BKDmhAzvNS3sAAAAASUVORK5C\n",
       "YII=\n",
       "\" style=\"display:inline;vertical-align:middle;\" /></a></span>"
      ],
      "text/plain": [
       "|- forall_{a in Real | a > 0} ((-a) < 0)"
      ]
     },
     "execution_count": 7,
     "metadata": {},
     "output_type": "execute_result"
    }
   ],
   "source": [
    "negated_positive_is_negative"
   ]
  },
  {
   "cell_type": "code",
   "execution_count": 8,
   "metadata": {},
   "outputs": [
    {
     "ename": "NameError",
     "evalue": "name '_two_pow_t_minus_one' is not defined",
     "output_type": "error",
     "traceback": [
      "\u001b[0;31m---------------------------------------------------------------------------\u001b[0m",
      "\u001b[0;31mNameError\u001b[0m                                 Traceback (most recent call last)",
      "\u001b[0;32m<ipython-input-8-f3b10f507f97>\u001b[0m in \u001b[0;36m<module>\u001b[0;34m\u001b[0m\n\u001b[0;32m----> 1\u001b[0;31m \u001b[0mnegated_positive_is_negative\u001b[0m\u001b[0;34m.\u001b[0m\u001b[0minstantiate\u001b[0m\u001b[0;34m(\u001b[0m\u001b[0;34m{\u001b[0m\u001b[0ma\u001b[0m\u001b[0;34m:\u001b[0m\u001b[0m_two_pow_t_minus_one\u001b[0m\u001b[0;34m}\u001b[0m\u001b[0;34m)\u001b[0m\u001b[0;34m\u001b[0m\u001b[0;34m\u001b[0m\u001b[0m\n\u001b[0m",
      "\u001b[0;31mNameError\u001b[0m: name '_two_pow_t_minus_one' is not defined"
     ]
    }
   ],
   "source": [
    "negated_positive_is_negative.instantiate({a:_two_pow_t_minus_one})"
   ]
  },
  {
   "cell_type": "code",
   "execution_count": null,
   "metadata": {},
   "outputs": [],
   "source": [
    "ineq_01 = Less(Neg(_two_pow_t_minus_one), e).prove()"
   ]
  },
  {
   "cell_type": "code",
   "execution_count": null,
   "metadata": {},
   "outputs": [],
   "source": [
    "ineq_01.derive_shifted(one)"
   ]
  },
  {
   "cell_type": "code",
   "execution_count": null,
   "metadata": {},
   "outputs": [],
   "source": [
    "%qed"
   ]
  },
  {
   "cell_type": "code",
   "execution_count": null,
   "metadata": {},
   "outputs": [],
   "source": []
  }
 ],
 "metadata": {
  "kernelspec": {
   "display_name": "Python 3",
   "language": "python",
   "name": "python3"
  },
  "language_info": {
   "codemirror_mode": {
    "name": "ipython",
    "version": 3
   },
   "file_extension": ".py",
   "mimetype": "text/x-python",
   "name": "python",
   "nbconvert_exporter": "python",
   "pygments_lexer": "ipython3",
   "version": "3.7.3"
  }
 },
 "nbformat": 4,
 "nbformat_minor": 1
}
