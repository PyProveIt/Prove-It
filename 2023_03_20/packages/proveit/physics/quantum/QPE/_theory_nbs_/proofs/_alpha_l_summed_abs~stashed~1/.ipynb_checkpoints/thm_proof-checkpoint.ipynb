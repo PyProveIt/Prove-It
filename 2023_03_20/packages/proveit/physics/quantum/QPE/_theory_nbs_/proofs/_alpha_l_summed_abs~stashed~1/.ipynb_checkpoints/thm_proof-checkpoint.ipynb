{
 "cells": [
  {
   "cell_type": "markdown",
   "metadata": {},
   "source": [
    "Proof of <a class=\"ProveItLink\" href=\"../../../../../../_theory_nbs_/theory.ipynb\">proveit</a>.<a class=\"ProveItLink\" href=\"../../../../../_theory_nbs_/theory.ipynb\">physics</a>.<a class=\"ProveItLink\" href=\"../../../../_theory_nbs_/theory.ipynb\">quantum</a>.<a class=\"ProveItLink\" href=\"../../theory.ipynb\">QPE</a>.<a class=\"ProveItLink\" href=\"../../theorems.ipynb#_alpha_l_summed_abs\">_alpha_l_summed_abs</a> theorem\n",
    "========"
   ]
  },
  {
   "cell_type": "code",
   "execution_count": 1,
   "metadata": {},
   "outputs": [],
   "source": [
    "import proveit\n",
    "theory = proveit.Theory() # the theorem's theory\n",
    "from proveit import l, w, x, y, z, defaults\n",
    "from proveit.logic import Equals, InSet, NotEquals\n",
    "from proveit.numbers import (zero, one, two, pi, Abs, Add, Complex,\n",
    "                             frac, Integer, Less, Mult, Neg, Real)\n",
    "from proveit.physics.quantum.QPE import (\n",
    "    _all_alpha_l_is_complex, _alpha_l_summed, _delta_diff_exp_not_one,\n",
    "    _delta_is_real, _full_domain, \n",
    "    _t_in_natural_pos, _two_pow_t_is_nat_pos, _two_pow_t_minus_one_is_nat_pos)"
   ]
  },
  {
   "cell_type": "code",
   "execution_count": 2,
   "metadata": {},
   "outputs": [
    {
     "data": {
      "text/html": [
       "Under these <a href=\"presumptions.txt\">presumptions</a>, we begin our proof of<br><strong id=\"_alpha_l_summed_abs\">_alpha_l_summed_abs:</strong> <a class=\"ProveItLink\" href=\"../../../__pv_it/theorems/fb6864d135f175075308887521e1ac00675d5cd70/expr.ipynb\"><img src=\"data:image/png;base64,iVBORw0KGgoAAAANSUhEUgAAAgwAAABPCAMAAACwC23WAAAASFBMVEX///+/v79RUVEMDAwGBgau\n",
       "rq42NjYbGxsSEhKIiIgiIiIQEBB2dnbu7u5ERETMzMzc3NwyMjK6urpmZmaYmJiqqqpUVFQAAACt\n",
       "XYrlAAAAAXRSTlMAQObYZgAAAAlwSFlzAAAOxAAADsQBlSsOGwAACf1JREFUeNrtXQmXrCoOdt6d\n",
       "jU1Atv//T6cAUVBArKfT1YWcc6/dJ0KzfAlJCHEYnvI3i3g6+pRQ0J2Ns+Rx9Fqdgp61+tVgACp+\n",
       "zMub4fAJlFqIKA8YfjUYFI4fc5G5hQeyiCf5gKFc+PRbwEB4/AiLC4XKjYoUx0sqHWWQdK3v6c+W\n",
       "DJKuXZXxIxS4kR5+D5FF9XChZDuKdcdYUIj8OBgIxlqXuoHwtmWUVErlxCDJ5Jvaj4toM8SUfEeR\n",
       "7BYL5PqxnweDZVUBj3HL40eopMQQD0EEc4HLUgOBku/oZFivYND8AxRI89JamKGHmMHxI1RiQsar\n",
       "N4VNPyPv55qBUuioHjvFAjXTB4BBkggMDBpX9hw+/zQ/kkqRBojmtZR7mMMpoRQ6yozq1JK4XjC8\n",
       "qUDieZsggjA5RLbjCgao4kdcKWoGBHyrXT+IGRJKqaMj7BIL6gbBsMwxPWOluZfJCwOvB2AEzzri\n",
       "DAb/O/KdRdOQ+wvuHfDaATiehV5BZVgoqCguQZeC4Q4e+KfX3AU37WBgo32XIrc3jAP11p/73YLB\n",
       "E7Zg8JWWJbTvILpoBpNdazqGwhaCp4SOZkVDj+6oe1jgT/AGtYPBepQZW9Z4mHTDNpFUijaCcd4m\n",
       "4F5lIAnlT1lgdqg1aHOHuw2dBgMbKaUivC3AwrspGEYQP9JKYb3ZwObNQO6MAjOAhFLmf8O7wwIx\n",
       "txhR7WAgGkG7ISBnPiyr/6oWKQMrGGaTcH6klRYRAzBJ7MjYsgRTQkEVLqG9gUHeIw2bwUAQVBK1\n",
       "u38pjB9HBU5HlDIYJoN7A8N4yy7RDgYNnVXf3glI48fB1gMPKRU10fSmQhJzjz3dDAbjNoCx3R8+\n",
       "HzHJlhAlIQ8pqMYnne0T8iZZmAMD4XAtNNgyvpzoxcjiR10nPaZUwAB62yf0HR6nE5KBGsVsObFX\n",
       "kTF+NMCmSkG1vnVmTyAz/CgYhje8HAzEjwpnswZKTS8wpqsgl7tUhnYwCB9Y8GMnxjUw8JvE5ocW\n",
       "ZcZ75xgfBQYQiOQEIPhEMIi+zifEXTqSn2OtkeH6wFIQ0PCfm3RU1a67imrgdzng//otM/BXVbvt\n",
       "ytOA7jKlf80soqpGZXoCw2368leA4TU9Hbmd2G3Q/w4wwJ6OsdVdluWXgIH3ZE6AxMfWdFG1KzDo\n",
       "nhzSOLGdcNHFgqc+wSCMfiFiFaRffbVGG/2AocosL8kplsHzr75ZMxrxgKEKhpdORQPDsO92QfEH\n",
       "DKiuU1lyuLGNv9u0gImC9IBhW6QzveWsKnz5gTZ6wNAAhgG5cByEvx0MILPkGGNNHzBY88GDQbjZ\n",
       "GMm3g0HulpzZuGGC2MBUBgwiilyDlZjmX+PGpQ1gYDr8lxUfuGxx7lJNsb8DqVJrFG+ujhTjQ2t/\n",
       "3GTAgJywGMUAyJLZAncV5LGWaXbX2zn3cxBmJEJTRrYsiUe2qaaoyt09JbKqjjS0tkk9sJo9aX/9\n",
       "GDAGOAsGtX1V+MqCu0vQ8zXVXsFA54M8BRb1cZ4RCvTor/CpzEKGHCKZVFMRGAL/UgCqpwINrW06\n",
       "EdnAMcULNwupacyB4V9bMMyZDTByl5JCZotDMJjvKdGo/hFOdfnClX5GhKC52V5mIyQe2S9yBIZ1\n",
       "QVQVDA2tlcEQ3ynTzmlm7yUPmQC0vWQgs0qJPWW+d3ReZ/guyTBgFZwNbkbinII5MIQcIj7VFBO+\n",
       "TG+CoaG1MhiiO2WTw4W/sIRUyzYRwOB2wpDZouNtYhaw4QKgm5EkSr+03+N9qqk3wdDQ2gRLOoM3\n",
       "h1xCgv++/snXmGwdKFusCeEaki/Vga6A+2kwyKO/fzYDdKpXiVIT07JpBFvbzcgUzRrleXvE5RDZ\n",
       "pJqy6gFa/ZgnwHDYGgckC4ZIZMzizIMBgSbTEmMpXy0LDNYN54fBoA7X+rRbI5GryJtpNTAkW7Dk\n",
       "PveHsgcXc7rCJCPIoQnpWBWNjlUbwHBskKokpnjMqAxBnPltIhO1AzNgSOhzZouTYLj4dI8c+4FP\n",
       "gyG5q+9rZzIO78HgZoTGlYEueATY0Sw0S4bj1hgqtOxX0GLvP/+esVdSIHnWAxnpFHNmi3NgIBfH\n",
       "0jXcykXLtHE0tkAxuauPdtv54nRC2RmJGTWnQGZziLSCweWlIvhUa0UFMqzgevY6AGtaZhA8HpxN\n",
       "hMwWLWB4abl8pKXpielFdMsW1FfBgO04yVm8ohKPy11YoJ8RFg0kN9psDpEiGBjmBoPIi8WWzFat\n",
       "rRXBEFYwxi/GIActfd0Rttty8cskZhhyTMv0irtPHEv0AzDoRmdvOnkoIGRbG5Su3hJsZe5Uhn6T\n",
       "xLtQq+IHLavjYE6RRDqBIt+C46OG2aHhzv9VnV5k17LPpRUMoNH1kQIs1N4lF8YNV6qmt2OKxf8R\n",
       "DA2IxdfdH0OOrbRVTLJ3MSL6WVuftIOBNMa2B804rS3GHbM0LBj/+QhquuG/3aqqBoaS12UgcOl4\n",
       "XFKsCdXpJwto4Ty0akFNG8WiV6VyBe10qpaFpj8dAcW2k/qWNTddfZkQGieqCa3Qd3MJJAB8YNx6\n",
       "+ShHggGg10UIWc4xms8ORBkMSjdeK1/0qgQM0xZJvKdLNFffqHIJRgUYMKnQt5qCWz3L/txt+FBb\n",
       "X866nYzzyRmeFKYSUFqWDNYz/E5ayyW38VZuoa6yOplrv6vgjq6okLRG30onl63DWe+O6tP0rt4w\n",
       "DxErigErarLeh2gHo95Yv8VLsdVV+0rdAi/NTbJTwF4KHc/TIwI0o0+rM4PBvbSKECgitSgyHZOm\n",
       "XQZo942Ihbtz6cSG/Vn7Uts1OW0EZ1dX8rW58JKQzPA9FAX6SiAYekUgDwYealkfGiw0/WeRJvSN\n",
       "je/Psvh0o1J1leELmOuMXfdtwYoLvUB3id6kXYYDMNjUjaYi6IlbStm8fmtE4aozsM3sdJX770Ls\n",
       "+9MbQM7SvW/M5vrJgyF8IMj5B0u7mtczaMnjlexc+4jCkjWh+0osf11uEgZd/A08TfdfzrOnSx4G\n",
       "fAOGYPw7f0OJVd071r+vDl2QmYjCAAaJthpVX9+3hFeZE/NHpfhp+oQBAHh6qQQIaUK1QZqq0Sy5\n",
       "xQO72uiBQdfA8EIDOJbrmYjCxQOpN5zSWfJobD7+mjk6cTbRouYmEYVJ7c3ZhDKdfet0+vwBnzm1\n",
       "bGWBNKKwcGqpu/sWDfr4hGYUXQ2GbUQhypvGyHSGhUF8vsdVq2vBsIsoDJFOm3BT090XsX/B91Yu\n",
       "joHcRxTmYyBBh18sQ5+vMit8IRgyEYX56Gje4bcMwS9InX54b+LEumUiCl3tbVgg7e8TVdbw/oKt\n",
       "kV5fW3fmcQquhh5Hfaio9Kc++mHjZ+0zuyfrdNyPaNirFqLTgcNHNDwMsphunYrE2tYpux27GJ/1\n",
       "T02JnicEygcAUfFBur0Wih4dMuaNqW9eeLSGSGOIsfA/YNqs5l+M+BMAAAAASUVORK5CYII=\n",
       "\" style=\"display:inline;vertical-align:middle;\" /></a><br>(see <a class=\"ProveItLink\" href=\"../../../__pv_it/theorems/8c0e5d40b1121d0b24fc7551b04922308dfa694e0/dependencies.ipynb\">dependencies</a>)<br>"
      ],
      "text/plain": [
       "_alpha_l_summed_abs: forall_{l in {-2^{t - 1} + 1 .. 2^{t - 1}} | l != 0} (|alpha_{l}| = (|1 - e^{2 * pi * i * ((2^{t} * delta) - l)}| / (2^{t} * 2 * sin(pi * |delta - (l / 2^{t})|))))"
      ]
     },
     "execution_count": 2,
     "metadata": {},
     "output_type": "execute_result"
    }
   ],
   "source": [
    "%proving _alpha_l_summed_abs"
   ]
  },
  {
   "cell_type": "code",
   "execution_count": 3,
   "metadata": {},
   "outputs": [
    {
     "data": {
      "text/html": [
       "<strong id=\"defaults.assumptions\">defaults.assumptions:</strong> <a class=\"ProveItLink\" href=\"../../../__pv_it/theorems/e291f82fba5781cb778dc66b129aea3d3d4197760/expr.ipynb\"><img src=\"data:image/png;base64,iVBORw0KGgoAAAANSUhEUgAAARoAAAAaCAMAAABfGmM8AAAAPFBMVEX///8NDQ0WFhYLCwsYGBhU\n",
       "VFQiIiKIiIjMzMx2dnYQEBDc3NxEREQyMjLu7u5mZmaqqqq6urqYmJgAAACZCzMOAAAAAXRSTlMA\n",
       "QObYZgAAAAlwSFlzAAAOxAAADsQBlSsOGwAAAyZJREFUWMPlWdmWpCAMdaaHfRP4/38dZbFBEFOW\n",
       "5Tk9k4duyxJuuN6EkJqmO02J5pZ2avqItVifgHL2nnm0b25RQvBHmGmx7oMy29VsbnJ37r21+TPU\n",
       "9LDughIy8w+WobYjeQmGFaPPUNPHylBiFm+GEYn/pQMOIMrqcfjPz6mmh7VBUSQ1MHb6z+FwW/Dw\n",
       "gWFPTyTs+9MIY5QMY7sPQKihGLiSMVYBJdHuu/76qKyeYcREvZEw3LAkIn/iFsPHgcn8EmqWJ7hs\n",
       "AkSNRkZ5DU8CBdYxVOtsd32S7oSosYhJfnXIp/xh1DVqUJiL80C1huQa20QwAVJzgjWkprc+WmrL\n",
       "hSEs6kgtPtLsFSa1txIvps6p4WEC5MVkyMQ0gJqZXKXmBGtIDSYd0ZTpOsZgShtmYSjXAqIKRauI\n",
       "hqom3EbLcGocbbcS5Rm5i5ohVgXVOCs6qcZWCcmHGob6kN/JokykOqEolAYHVHonfgLbdWrgWI2z\n",
       "vVRTFdQ6UxPC3S4eyZSjkRwX/ONkRD15jBoQFuF7wRXrMzjYn6/1L9pkxYrZ6SIylb7iJV6PBMEH\n",
       "9Q9G02PUgLCE39U9nJycwjZqWPxkJ2zSqyieoxwn26gWSNlcPONvS/FrJLDACoN4nB5dowaIpVFV\n",
       "FFbrS5nG7A5lLEYSiZ9sVk0lQN1Bp+a4wHSvaOZN1UCxmLLDAGuzRsw1c5Sb+A6oZecqvOsmXHnk\n",
       "1LzSLcQj1ECx9qV7tb4g3t+/cC3emHVdHLiqLKWnJS+zwlUCL/kmGgYS/QQ1YCyWVJKfrNcXRLOf\n",
       "xPFis1l3qKQ0bzU5ObwdHRSwWQ2/E1DM19uoaq5exUrObhPs1tftxOD1oMDpxpONL8wZVicx2Zyy\n",
       "D6jBPpi6Tg1C3CtU7H/YtFcvYmVncTq47tbXEc2yaMMIyhvLGme834OxTMIOChe6UGT6uG3Ozvo4\n",
       "Z416Hq44eb9eYF416x6k5mB1apyu4smbcmgni08/x3LprvsKdQxUIqAZ2Eby849hRufS/SB2z1pn\n",
       "sWsD7w0Lg34GOYKdOXrS0My94dOU9N+Z+D4N3PU71L9isZf+F8ZyJttyoUwDAAAAAElFTkSuQmCC\n",
       "\" style=\"display:inline;vertical-align:middle;\" /></a><br>"
      ],
      "text/plain": [
       "defaults.assumptions: (l in {-2^{t - 1} + 1 .. 2^{t - 1}}, l != 0)"
      ]
     },
     "execution_count": 3,
     "metadata": {},
     "output_type": "execute_result"
    }
   ],
   "source": [
    "defaults.assumptions = _alpha_l_summed_abs.all_conditions()"
   ]
  },
  {
   "cell_type": "code",
   "execution_count": 5,
   "metadata": {},
   "outputs": [
    {
     "data": {
      "text/html": [
       "<span style=\"font-size:20px;\"> <a class=\"ProveItLink\" href=\"../_alpha_l_summed/thm_proof.ipynb\" style=\"text-decoration: none\">&nbsp;&#x22A2;&nbsp;&nbsp;</a><a class=\"ProveItLink\" href=\"../../../__pv_it/theorems/fe50f5b74793c5e8acc666be470ed870790308ff0/expr.ipynb\"><img src=\"data:image/png;base64,iVBORw0KGgoAAAANSUhEUgAAAhsAAABACAMAAACEL0WSAAAAOVBMVEX///82NjYbGxsSEhKIiIgi\n",
       "IiIQEBB2dnbu7u5ERETMzMzc3NwyMjK6urpmZmaYmJiqqqpUVFQAAAAnLjGdAAAAAXRSTlMAQObY\n",
       "ZgAAAAlwSFlzAAAOxAAADsQBlSsOGwAACONJREFUeNrtXYmWnSgQdWbYBATk/z92nrgBsil2fC2p\n",
       "cxKaYNEKF2qBqnTdX/ptxJwi99iplrZJgGf56wkou4jTAApaCCdOk19viQB/lr+eFLaLbSsQgXeV\n",
       "0a/YW0DvNfWtQmPQ7FH+eiLcLjaSoU0ivgdYLb0LskO9FSJIPsp/lSTdZZq0i221Q2GLGDULHCmi\n",
       "HQrrm5T3japJbAj+LH8KdhiPY2ydo30tI6fYuKAz82SYu0KHDsmoO69FeU8p1KLKQTV9lD8Ju+kP\n",
       "zGsb3C42LlfEiFXwcRnrwG6B3vYCRYPY4OOz/CnSw0ehzGNPYLvYuJTorMke4LLy8RjrwG5RnhKl\n",
       "dHtGbu03/+iYSWJhg0Ft6Lj+l5/Wf1i5mJDWuzG0GBvyKAPhcGzhnm3C27NVYP8sf5bwIlOIIEx2\n",
       "lr2wYwMqu3C49n8AVA+L6nDQN3R3bFHefqV+UHZ+q7ahbuanMKe15Z/wHyYfSHwKwAhetM0FG3Md\n",
       "zZO+FP6vMM+Aj7jgeHnliLrhtSBPw0CtaRyjvpWfjILr5Mznn3CI9dOzFBnh0Hd0nh9Tn7AxNxyw\n",
       "MXOtOJmeQXTTKoZpd6D9SmxXVAZnRxHe0AjdFjSIFnfzg+zMg3JsTJ5NxrYZ74axRKY4XLvU6BeZ\n",
       "Ao/qBgm0DNo1aPz620lWCtEA/53YYD2lVKxPC+Cs7B0bPbALj2uZftaxRXLIg4akOxBqQZ7SinhT\n",
       "2Oj17fx3YIOMyPgTkDFMNjB82Cw9YsfGYnuuJqjLtW4lABPHYLWlBRhCLcIzwURbZqzub+e/ARsE\n",
       "QSVRud+EQrvIWlZDYYvyhIhqSqgMGt/OfwM2xmmS2QmNFVK7yMgpWNrC9Jisv5uEHm7nvwEb8/rs\n",
       "y1fpckomSxRrIYtbEErXX01nrMlS/nPYIBzuRFc3w0wn9rSe2UVavS1v6b1P6XVDB24a3s9fv29Q\n",
       "rdhEJyaC9HZRgKKiFuA59oBu56SeVaqiQf47ZMr5K4YM2EXid7MTLcrz3ijdjmu09luD/DdgQ8yX\n",
       "JR63GKmHfarbOW8DGtzPj7NegOwTBCI5APj4BWXiyUxSK4N/lZmi7uYfR6T5mLIw8k9MPUPNwfMD\n",
       "5HvQpvpux6o3uzv6So95//Zja+hJv6kuNrOdv9lNyiudwPztTmT/A6c6HbPW8BsIVdrr6O32fu/5\n",
       "9kx9DVXArzZotX6W/+tp9BQqU5eLmvHuU9m/2LiCjQ4ZJy7CTWEDYzzSv9iwDTEZqAszRv2r5Slx\n",
       "55ZNR9QEsY4pz560aIzzN4MNNq5/hUjiuGl7CNBlNQiL9Uaxe7Ep7uAkCWw454rIOBR60QGyRXpl\n",
       "sPX2c0nsOfeW+jQF2Gipx3GigTHZAu38AF2qQteqiUyqMgW9uSE4lj3lvu/8DRgDnJnb5aqs4Oae\n",
       "v+KnsaEPtD/I4w99GxVgQ4FNE13GiYKxn6+jhgZuDbTzAnSNx4QcljcFIOl+LejNfQnb1rZb5q1v\n",
       "QtjQp+d2Ce3ByNydE/jOfeO3BgxGsPEBxrpm53ESgoYGf1sQa3jecc4tbOzzo5LYKOgtjg17Xkfj\n",
       "vJlu4HdHR5W9SMjy2XhWza3rcVF9o1VddHJtrE4OM052To8QNtZAuzlAl4mZhovYKOgtjg1rXgcD\n",
       "k/l63TFNgDO3KzbQjJRfbKew2x6NYYOtl1nNODm3RmK6whRo5wboXt03CnobYEzfMDMmTGDOf58/\n",
       "sqMGG1Am51aYLuRH7aBl6kYSGw+eNeTyOjG+PzCAC/6N6QdqLdDBGljKw04AE2jnBuga1QLt3tUT\n",
       "2Mj2xgEJYsOa12Wzm7GBDuOAXMULS/npUmBQpm74/K4q8hg0VPbV7QteQF7ChiO+JZ8j5D5tdE0X\n",
       "4sTNZW1Vs5BRbxZyATbylq+yT7H7kLqxbnazTDkeqMPoecga6ZVRMT3+j+zjPe260n3nR5w2+d/s\n",
       "aNDJNG/+QfPh4NmME7XRCMaIJ4LldtLifSPfG0MRmTLP6wTFf/9ZoBjRReNn7GukV+ZrXH5zMIk/\n",
       "ajTDkOM/eXx/TO+0pXAKrTqHVSTBz5L1ZZzsZRxaFaFAu2JsmFBvgk/1FtVFt3ndTpM7MNmwgZQk\n",
       "0RCENdIrp6o5Ty020YRZfvsZ5cn0TnsKp4Dj0uUl5ULzIETncWI9TWIjFGgXxwbDXGNgOdPYFixe\n",
       "2lsUG9u8WnDGGIhQuEDdzSWPfz6yH6e1df/h/bn0TlYKp2NPLux5Ygx8B07MoUPwtEEPddL0xusg\n",
       "cRt221SzW3FlWJvHb8LRPtigXrKCW+hceicrhVPAQeRsajgerMa8+6Gs4L7oAGvQ/6ewkQfwUBnE\n",
       "F+SH2ihk5GZ941x6JyuF09E34EYbJA4v/O8rGq8vuOdKXZF+HAiV1xisc45rOkCAn04+NAE6/ANH\n",
       "2OXpnawUTtk1hhL7IkjWIzPz9H0wRi/7Ar01XkMBfuNVp0IWbhtn8judSO9kpXByfHWBQzWqE7o2\n",
       "TdZfTbUZJY784oxGdS6/06n0TksKJ88FZXsINkER3ze4TtdfTbLSUDnwy7MKzIkcPifSO9kpnILv\n",
       "bcmGhKPJVz0bCl2alDtxK7/xVzP2E9g4l97JSuEU+qX2zQcZ3emoZ8ZR3VTGewTv5J+dx4DciY1r\n",
       "6Z2sFE6OoaGA8W7AkNUbeDearL+ccKWTyuFn0NwkOAW3HDYupneKQXkWN86ZSzzFU4/S9dcLFXAf\n",
       "/+J04Hdi42p6p8jrzvc57ZsP8RRPxPNmkKZSOk27MX+WP4eNq+mdojRpqPbNh3iKJz8/pmwtabWs\n",
       "tGJr+TP5na6nd4pZ3b5fKG5zc5iuv55Ipe5dy5/ZN66nd4roR8S7fBBHEvPsc9ZYWuJpIaFH+bMy\n",
       "5XJ6p+BW8NmCnNUfT/H0UbPT9SY2DvAkfw4bj6V38r+rdpx+JQH0JH8uv9Nj6Z18U1zArkGqHfgK\n",
       "/pL8Ts+kd2LeKS6rzNL7S+n3//ewP0DjmK63Qpg/y/+Npr13i1SiVv/X8R48y/91xBBN1luyVSB9\n",
       "lP/ryL9fzGXXLDH6LP+3rZUhXv8fFhx42Voz+k4AAAAASUVORK5CYII=\n",
       "\" style=\"display:inline;vertical-align:middle;\" /></a></span>"
      ],
      "text/plain": [
       "|- forall_{l in {-2^{t - 1} + 1 .. 2^{t - 1}} | l != 0} (alpha_{l} = ((1 / 2^{t}) * ((1 - e^{2 * pi * i * ((2^{t} * delta) - l)}) / (1 - e^{2 * pi * i * (delta - (l / 2^{t}))}))))"
      ]
     },
     "execution_count": 5,
     "metadata": {},
     "output_type": "execute_result"
    }
   ],
   "source": [
    "_alpha_l_summed"
   ]
  },
  {
   "cell_type": "code",
   "execution_count": 6,
   "metadata": {},
   "outputs": [
    {
     "data": {
      "text/html": [
       "<strong id=\"alpha_l_summed_inst\">alpha_l_summed_inst:</strong> <span style=\"font-size:20px;\"><a class=\"ProveItLink\" href=\"../../../__pv_it/theorems/8bc9b38cf75c7371ab646fd064ad09fc02345f250/expr.ipynb\"><img src=\"data:image/png;base64,iVBORw0KGgoAAAANSUhEUgAAANYAAAAYBAMAAAB0Lx7ZAAAAMFBMVEX///+qqqq6urru7u4QEBBE\n",
       "RERUVFTc3NyIiIgyMjJmZmaYmJjMzMwiIiJ2dnYAAACPW0xlAAAAAXRSTlMAQObYZgAAAAlwSFlz\n",
       "AAAOxAAADsQBlSsOGwAAAeBJREFUSMdjYCAMOAugDOadDMQD8nTZwxgnemmuSxLOkqW6LiMFFG7d\n",
       "zTdk2IWmq7AAqyqOSQaoAhPJ8heqLp5UkKFv/6ApkkeyqmplDAPDZzx28VzGYg02XawJQIL7A5rK\n",
       "twgmewDDewUmBwaeUCAIx2KX2crPmFZh1cV3AUhwTcBtF1sBA4sDR4INhr+YNsACHItdWHWB7eJt\n",
       "gIi03r07Ad0uls8MbN+5Gh5j2MXYgMcurLrAdtUfAAtoNmPz1wUGtj88qw/A0tb8F8TYhVUX2K79\n",
       "kDCejC0MQd7+gC2R4bULqy6wXamoJQoDw0oUNecbyLELUxeHA5DwgNiFSEXeKGquMZBjF6Yu9o/A\n",
       "DPIdzDxyFwgCQGKZwFKDeS6IexcY4lwBmAZx3b17xffu3QTcdmHTZTYR4jcGBlO42KlgZBXbGMjx\n",
       "FzZdLxWA+RlcTPAiBMOQzXzAUE66Xdh0MQIV8m94ANbTgDUdnmNgaCbdLmy6+IDhx6/cgFZUIpdR\n",
       "t1atuoDXLj5IdDP/hBG4dIHSPPc6aNQFGWDaxfv///8J+OxiS/mZDWbcghM4dPEh264Xi1lG4QSM\n",
       "DQwkAj6s4UOMXfCyl0K7WhhoAbiwxkW9AC3sMsEaEuzLaGBZXSIDAwB4aaUFdo5x/QAAAABJRU5E\n",
       "rkJggg==\n",
       "\" style=\"display:inline;vertical-align:middle;\" /></a>, <a class=\"ProveItLink\" href=\"../../../__pv_it/theorems/b38b045a9246dd5ac239f68f921874310f53aad00/expr.ipynb\"><img src=\"data:image/png;base64,iVBORw0KGgoAAAANSUhEUgAAAC0AAAAUCAMAAAAusUTNAAAAPFBMVEX///8NDQ0WFhYLCwsYGBiq\n",
       "qqq6urru7u4QEBBERERUVFTc3NyIiIgyMjJmZmaYmJjMzMwiIiJ2dnYAAABsuYCuAAAAAXRSTlMA\n",
       "QObYZgAAAAlwSFlzAAAOxAAADsQBlSsOGwAAAMhJREFUKM+VkusShCAIhd2Loal4e/93XZGp1bIa\n",
       "+cGEHT8PohBXgTBcTjGH82rQnSZZNPzp84ChW4KTQkBkOboBem0KHyufT4t2gDZtUbfKTJ2Yge2l\n",
       "RYuM9bgsL2y7Fg2b2pe8Nt1jrPH9UN74JidWk2Nl79F/daJkTq6xK4HVC7GtekBvXUrqslwP9L7f\n",
       "L3a/34vWPMSiK52mA/r4Qrzah5gX6NuUeLIWafKKxuLxCV2UmOwaRk9SJjERDibEfgodZ9Ai3P38\n",
       "AUNKCPHed8bwAAAAAElFTkSuQmCC\n",
       "\" style=\"display:inline;vertical-align:middle;\" /></a> <a class=\"ProveItLink\" href=\"../../../__pv_it/_proof__alpha_l_summed_abs/56f86499c866e435a220cfbfbee235e1146d47960/proof.ipynb\" style=\"text-decoration: none\">&nbsp;&#x22A2;&nbsp;&nbsp;</a><a class=\"ProveItLink\" href=\"../../../__pv_it/theorems/60e62f60c438978939d202e99b7e42238bf223f40/expr.ipynb\"><img src=\"data:image/png;base64,iVBORw0KGgoAAAANSUhEUgAAARkAAABABAMAAADcyB6vAAAAMFBMVEX///+YmJgyMjJmZmZERESI\n",
       "iIiqqqoQEBDu7u66uroiIiLc3NzMzMxUVFR2dnYAAAB9mGmPAAAAAXRSTlMAQObYZgAAAAlwSFlz\n",
       "AAAOxAAADsQBlSsOGwAABlNJREFUaN7NWX9oW0Uc/yYvaV7yYlJ/4YTBrEwRZGtrLY4qa0SHE4VF\n",
       "FH/N2TqQgcKWiT/qqvYxRVFZk3/mRBgGirPbCn3aykYrJFBhUAYt+IcyKQ3C2Bi0je0617Xb8+7d\n",
       "ey/vx+XepXHZDvLje7ncfe6+P+/zAK5zk9BLcfQpZQWP1lotmhcBgp2OvoMuQXyAZ67gPVWCqSsA\n",
       "7CZfh0qz1luX0IQXeCb7XqkSzX60b31Hd5Z6bSehCYGC91zi3tXj8OXxezOAQE4i2EcUVod0d7t1\n",
       "oCaI73vPKFSkqN6ZPy1SSNttCn1Ba81OyZAl/WsOyxCSje1Ogy7skj3nn8hXgqYJ2lxmg7azE+0K\n",
       "hKyhsEfRy28azk5DiDR5zr+hIt0sQc6JXkAHtBkgnpFW6poIhO/QIcQmjQGbDaFu2dMhlitCs0ZD\n",
       "Iw2q6rKxf/zWgGxIllakZuIRJxJINi3gqCms95o+kqjQci+g16df12sWo6GJIMs9gqWYbjUQe20J\n",
       "bTNl2E3RFPZ4WcWEEbbGnSY2TrW5aD/0ghw8idD0IjRiAUIZgA9Lf0A9O2AjGli02JUuhLwMZ1rf\n",
       "wO+N9sVdHXobluGUAoEomveU4q+PdptopK0Ebjd8hE0lnILfnkRNwXYVJmcjFD2izYLxrcO5eAcN\n",
       "jdQkYdMYDk+6NDUEo6ZqnkZHYugt8q0phP/xiF8rlaEZPj2Gu1vJZjU0gSTAFoTz2dOb9EHHJaQc\n",
       "n2GQ8WBJeIeNJlDkR3NgXxP0qCqJ9P0mGuy9M8gmVNWYa+h1mTg+Uc8rJaGdnYXiCW404r43Pqba\n",
       "NdLCOMVZMxRhTz07ZRa40dyShRzVsAfQam7XHaEJuUkmmvYMN5p4PQSoW0Mp0ed23WaaEEox0ZTc\n",
       "uAya/cdwG8CRSVVVak0QQMbwjMv5EjQhcJmJ5gpwn83E26OjVE2JaK3PaBDdQvASs6K9yI8mniw3\n",
       "yy9oIueP26lC3QIzZy7woxG6Kiu3qf53kVkTL5pf55wrOTvEH+9+NVklGvEKs/Az9TjVs8HuMK4O\n",
       "EAbvq/qyozJD8QrUtg2yilH/co3RNLIsL3S5xmi2ZVhpqlhjNNOdNx2a2Zn8zYGmHfnpSEbslvQz\n",
       "ErTEc4wk0/SNQPMewBNB+YB76XSqxmjmklpx/FBMK97paOKq3jDetDZM/b+biSaEkuy586XakH02\n",
       "HPfTqs4mjdLLXKdeDtrs5kZYMa4FzqGDuL4+pZQj4RxohAT42qOYK2CjebAaME6uTbpfu0El3fFm\n",
       "9taXhbP4AujKDFY0YlUHtdvZQYrT58rF4qPu/BnR85TUsj5P87kKKhfXn4mD+O2LbjOjcDFZtqIY\n",
       "htiSdGFjflVA1mrOgYuhNztdlbnjNjFoWlerO38KS+TzL4APwN/Jew6YVCu1TzSd45W/tNBwPj2e\n",
       "dNn+2sM0Pf2a3iPDtBKXOdFgUs3Zh11EsLqVoO+9wTbsXyYpcI18nkH2lT/EqxpMqjn7sIuE+60m\n",
       "+Tn5nLE5GrMuDl8taRR2iJx2g0k1fJ1F8V4xdo/fpHctg2L6teW2MuvRLGDevFssQmuMV1UaqSZu\n",
       "+ilW0gVmcM5OUCq7XbZ9LLKrZvNgJ2FsLWUAnW8bl8WCCNt7NWKtAXo1dis46TcyYbyUhCdsFse+\n",
       "FZiEysP0s6PzbdJWTKhBYkwj1how94bQhPJCIYrJNf1STh462KzRzw6w6/Q7k68clUFluAipJiUO\n",
       "2zSVhoBNU+Shw1s2+88y0eSajLguKdxodFJNSB4qodmClK38bIsefVr8usPGLBSYaEIEbLQAQZkL\n",
       "jfhHn0Gq+eWIbKJBjiy1njeHffN8Rn/oYMuOHWyvjZFENdLS0sanqS+O3EVVqoNrS4lFPXMdtXY/\n",
       "xXZVibjcoKrO86E5AxL1Rujg2pRoijx0kKyWIl71iBz3evzuRINSyePUiOioXwMZ8tBBsFILPq9r\n",
       "/zqFB43Jt0VRFLlGHejg2h4DozqwOnjWA026UNHZRC+Njp6kDrRzbTE5SQGZq/fKx6nKNFU2tNu5\n",
       "tkaVHEPQdvRznrXKYmVoHpFdlTd/fbjoOeQljwuQw66+2nvwh9WiEbKeQyJMLs/Nt7XNr5r8y2U8\n",
       "h4RrR29NcYz5u1ZgfF0cgwLJGqE5wVNaigM1QtPANerX2oARiQ3/B4WMHm2NiyyuAAAAAElFTkSu\n",
       "QmCC\n",
       "\" style=\"display:inline;vertical-align:middle;\" /></a></span><br>"
      ],
      "text/plain": [
       "alpha_l_summed_inst: {l in {-2^{t - 1} + 1 .. 2^{t - 1}}, l != 0} |- alpha_{l} = ((1 / 2^{t}) * ((1 - e^{2 * pi * i * ((2^{t} * delta) - l)}) / (1 - e^{2 * pi * i * (delta - (l / 2^{t}))})))"
      ]
     },
     "execution_count": 6,
     "metadata": {},
     "output_type": "execute_result"
    }
   ],
   "source": [
    "alpha_l_summed_inst = _alpha_l_summed.instantiate()"
   ]
  },
  {
   "cell_type": "markdown",
   "metadata": {},
   "source": [
    "To eventually apply the Complex.abs_both_sides_of_equals() method, we need to establish that all the components are in the Complex numbers (or some subset) and that the denominator on the rhs is non-zero."
   ]
  },
  {
   "cell_type": "code",
   "execution_count": 7,
   "metadata": {},
   "outputs": [
    {
     "data": {
      "text/html": [
       "<span style=\"font-size:20px;\"> <a class=\"ProveItLink\" href=\"../../axioms.ipynb#_t_in_natural_pos\" style=\"text-decoration: none\">&nbsp;&#x22A2;&nbsp;&nbsp;</a><a class=\"ProveItLink\" href=\"../../../__pv_it/axioms/43c5ca85739dab0e5d869af8d9f6b96cb94286c70/expr.ipynb\"><img src=\"data:image/png;base64,iVBORw0KGgoAAAANSUhEUgAAADwAAAATBAMAAAA+KHOiAAAAMFBMVEX///8QEBCYmJjMzMwyMjKI\n",
       "iIhERERUVFS6urp2dnZmZmaqqqrc3NwiIiLu7u4AAAAqt126AAAAAXRSTlMAQObYZgAAAAlwSFlz\n",
       "AAAOxAAADsQBlSsOGwAAAOZJREFUKM9jYMANFjDgBQmkS/PdT/Nj4JSXwKWbbUM7A8N7uG6+O6jS\n",
       "7Hc4FRgYGbjS0sTSkhgYuP+hSW9j8GHghevmugARDrt71wEsfSjgCJI07wSwbEscTPeBYtYJcOn2\n",
       "/PQAIMXjBzf8ABtDBkL3frAgywGENPOCt2/hobYEIo1w2gEGbe5EOPcmmDS8CwQJUGn2B4XwUPoB\n",
       "pp4h6+YreAvjcX9geAByP7I0gykbjMflwG0ApFgD4IEK5LKawRUXPAXT3jABlg1w94I8nKQApp9n\n",
       "PADTzP5iQPIJRkx15kICFQUAALDXOQj7yj+HAAAAAElFTkSuQmCC\n",
       "\" style=\"display:inline;vertical-align:middle;\" /></a></span>"
      ],
      "text/plain": [
       "|- t in NaturalPos"
      ]
     },
     "execution_count": 7,
     "metadata": {},
     "output_type": "execute_result"
    }
   ],
   "source": [
    "_t_in_natural_pos"
   ]
  },
  {
   "cell_type": "code",
   "execution_count": 8,
   "metadata": {},
   "outputs": [
    {
     "data": {
      "text/html": [
       "<span style=\"font-size:20px;\"> <a class=\"ProveItLink\" href=\"../_two_pow_t_is_nat_pos/thm_proof.ipynb\" style=\"text-decoration: none\">&nbsp;&#x22A2;&nbsp;&nbsp;</a><a class=\"ProveItLink\" href=\"../../../__pv_it/theorems/a2ce7dd1709eee58d9638162058f196f35f493ea0/expr.ipynb\"><img src=\"data:image/png;base64,iVBORw0KGgoAAAANSUhEUgAAAEUAAAAUBAMAAAApce1IAAAAMFBMVEX///+qqqqYmJiIiIgiIiLu\n",
       "7u4QEBBUVFS6urp2dnbMzMxEREQyMjJmZmbc3NwAAADzFso2AAAAAXRSTlMAQObYZgAAAAlwSFlz\n",
       "AAAOxAAADsQBlSsOGwAAASBJREFUKM9jYACDcwwEAesHXDK8cBbjAVxquGEMviknFxBSw8AjgCoT\n",
       "8ntPAMO0bw1QNXx3Ty9g4A9A076RowDiSLCa1wycPxja0K0oeTCJgSGB4fbubbt3KzDUMTCkMZiz\n",
       "ormncAPPAwYHmDn5AQz1Dy5zQixj3uLiA2bUKfMdQKgpYWCoX7BWCyzDcRjmrjr2BZYINUDgD7Ph\n",
       "DdzpdQwbuBuQ1HB9hskgYqSOYS2rqwMinFkKYDIHkNQwCUgnIPxwG8bgSnFxcfGGqmEoZUeoYYIb\n",
       "w7oByRyGcFYHOFeSge8BlOmArIbLAK6FawIDM8w7xnA1u4DYCq7myd27VzCj9iDIS3Av+P///wfu\n",
       "oOpWCGPNN6AZrNgTFcdsaFygAACJZEjHST5yjwAAAABJRU5ErkJggg==\n",
       "\" style=\"display:inline;vertical-align:middle;\" /></a></span>"
      ],
      "text/plain": [
       "|- 2^{t} in NaturalPos"
      ]
     },
     "execution_count": 8,
     "metadata": {},
     "output_type": "execute_result"
    }
   ],
   "source": [
    "_two_pow_t_is_nat_pos"
   ]
  },
  {
   "cell_type": "code",
   "execution_count": 9,
   "metadata": {},
   "outputs": [
    {
     "data": {
      "text/html": [
       "<span style=\"font-size:20px;\"> <a class=\"ProveItLink\" href=\"../_two_pow_t_minus_one_is_nat_pos/thm_proof.ipynb\" style=\"text-decoration: none\">&nbsp;&#x22A2;&nbsp;&nbsp;</a><a class=\"ProveItLink\" href=\"../../../__pv_it/theorems/fdc5aaccce23f853b415834a94fd23eb3d98ce2b0/expr.ipynb\"><img src=\"data:image/png;base64,iVBORw0KGgoAAAANSUhEUgAAAFoAAAAUBAMAAAD/1DctAAAAMFBMVEX///+qqqqYmJiIiIgiIiLu\n",
       "7u4QEBBUVFS6urp2dnbMzMxEREQyMjJmZmbc3NwAAADzFso2AAAAAXRSTlMAQObYZgAAAAlwSFlz\n",
       "AAAOxAAADsQBlSsOGwAAAT9JREFUKM9jYACDcwxQEHSAgSBg/QBlcBk74FR0AcZghJvIiFv1BijN\n",
       "N+XkAuJVM/AI4DKb1X/3UQbO/Ayoar67pxcw8AfgdAm3QDsDQzzM7NcMnD8Y2hgYVu8GggeYqtn9\n",
       "OBUY2Bh4d+/O3r2JoY6BIY3BnBWnu9mlgcHLAjM7P4Ch/sFlzgB01cxbXHzAqh8ZvEGoLmFgqF+w\n",
       "VgsWOnN+GoAZHIeh+tkfVDFPYEEKE38swfUGZhn7A26GHUiquT5jUQ1PCuwPuC6EhCDikqUAi+oD\n",
       "CNUMiozbEBK3sSjmSnFxcfGGqmYPKINLMGEzmnUDktmsBSFwCUkGvgeYyh2QVDMs5obbOYGBOQBT\n",
       "tTE85oHxxrwaxnty9+4VLE6BpzMw4w5M2P///z/YHF7dCrH6fDaQjCGUnThmQ2IeBQAAYmtTOe5+\n",
       "TdwAAAAASUVORK5CYII=\n",
       "\" style=\"display:inline;vertical-align:middle;\" /></a></span>"
      ],
      "text/plain": [
       "|- 2^{t - 1} in NaturalPos"
      ]
     },
     "execution_count": 9,
     "metadata": {},
     "output_type": "execute_result"
    }
   ],
   "source": [
    "_two_pow_t_minus_one_is_nat_pos"
   ]
  },
  {
   "cell_type": "code",
   "execution_count": 10,
   "metadata": {},
   "outputs": [
    {
     "data": {
      "text/html": [
       "<span style=\"font-size:20px;\"><a class=\"ProveItLink\" href=\"../../../__pv_it/theorems/8bc9b38cf75c7371ab646fd064ad09fc02345f250/expr.ipynb\"><img src=\"data:image/png;base64,iVBORw0KGgoAAAANSUhEUgAAANYAAAAYBAMAAAB0Lx7ZAAAAMFBMVEX///+qqqq6urru7u4QEBBE\n",
       "RERUVFTc3NyIiIgyMjJmZmaYmJjMzMwiIiJ2dnYAAACPW0xlAAAAAXRSTlMAQObYZgAAAAlwSFlz\n",
       "AAAOxAAADsQBlSsOGwAAAeBJREFUSMdjYCAMOAugDOadDMQD8nTZwxgnemmuSxLOkqW6LiMFFG7d\n",
       "zTdk2IWmq7AAqyqOSQaoAhPJ8heqLp5UkKFv/6ApkkeyqmplDAPDZzx28VzGYg02XawJQIL7A5rK\n",
       "twgmewDDewUmBwaeUCAIx2KX2crPmFZh1cV3AUhwTcBtF1sBA4sDR4INhr+YNsACHItdWHWB7eJt\n",
       "gIi03r07Ad0uls8MbN+5Gh5j2MXYgMcurLrAdtUfAAtoNmPz1wUGtj88qw/A0tb8F8TYhVUX2K79\n",
       "kDCejC0MQd7+gC2R4bULqy6wXamoJQoDw0oUNecbyLELUxeHA5DwgNiFSEXeKGquMZBjF6Yu9o/A\n",
       "DPIdzDxyFwgCQGKZwFKDeS6IexcY4lwBmAZx3b17xffu3QTcdmHTZTYR4jcGBlO42KlgZBXbGMjx\n",
       "FzZdLxWA+RlcTPAiBMOQzXzAUE66Xdh0MQIV8m94ANbTgDUdnmNgaCbdLmy6+IDhx6/cgFZUIpdR\n",
       "t1atuoDXLj5IdDP/hBG4dIHSPPc6aNQFGWDaxfv///8J+OxiS/mZDWbcghM4dPEh264Xi1lG4QSM\n",
       "DQwkAj6s4UOMXfCyl0K7WhhoAbiwxkW9AC3sMsEaEuzLaGBZXSIDAwB4aaUFdo5x/QAAAABJRU5E\n",
       "rkJggg==\n",
       "\" style=\"display:inline;vertical-align:middle;\" /></a> <a class=\"ProveItLink\" href=\"../../../__pv_it/_proof__alpha_l_summed_abs/987576baa155293b734c6727e6cececed04073390/proof.ipynb\" style=\"text-decoration: none\">&nbsp;&#x22A2;&nbsp;&nbsp;</a><a class=\"ProveItLink\" href=\"../../../__pv_it/theorems/7b8e14bfeec30fa2c83deb2740813fd8ea169a4c0/expr.ipynb\"><img src=\"data:image/png;base64,iVBORw0KGgoAAAANSUhEUgAAAC4AAAAQBAMAAACb51DZAAAAMFBMVEX///+qqqq6urru7u4QEBBE\n",
       "RERUVFTc3NyIiIgyMjJmZmaYmJjMzMwiIiJ2dnYAAACPW0xlAAAAAXRSTlMAQObYZgAAAAlwSFlz\n",
       "AAAOxAAADsQBlSsOGwAAANZJREFUGNNjYEADjFO+TL0bsoGB4e0fFHGOsAMMEziBDO4PKOJcCxg4\n",
       "NjwEMSagiLMVMJgyBwAZvA0Q/bF3b4JoZgaGNWwHgIx6EMHANMMApoMn4RSI2g/mVMKFGVgNgkFU\n",
       "KpgzHWGDHDfYZA8wB8lysCsZeL6DSd+7d+9ehThA4BEDgwEDhwPYFQFw5absQHY6A2sC2MYLcPEc\n",
       "oA+YPzDwb3gA4nXAXblAC+i5Cwz8ymDbOQXgrpzMwB4YwMC9DsxlTlWGiKtEuob6uz6AG8v0FBIO\n",
       "UAAAaDkwDDbpPcIAAAAASUVORK5CYII=\n",
       "\" style=\"display:inline;vertical-align:middle;\" /></a></span>"
      ],
      "text/plain": [
       "{l in {-2^{t - 1} + 1 .. 2^{t - 1}}} |- l in Integer"
      ]
     },
     "execution_count": 10,
     "metadata": {},
     "output_type": "execute_result"
    }
   ],
   "source": [
    "# this is needed for a group commutation step later below\n",
    "InSet(l, Integer).prove(assumptions=[InSet(l, _full_domain)])"
   ]
  },
  {
   "cell_type": "code",
   "execution_count": 11,
   "metadata": {},
   "outputs": [
    {
     "data": {
      "text/html": [
       "<span style=\"font-size:20px;\"> <a class=\"ProveItLink\" href=\"../_scaled_delta_in_interval/thm_proof.ipynb\" style=\"text-decoration: none\">&nbsp;&#x22A2;&nbsp;&nbsp;</a><a class=\"ProveItLink\" href=\"../../../__pv_it/theorems/606435bff720c2e5a200cdcc6604d8d77afc504e0/expr.ipynb\"><img src=\"data:image/png;base64,iVBORw0KGgoAAAANSUhEUgAAAH4AAAAaBAMAAACDaPX3AAAAMFBMVEX///9UVFQiIiKIiIjMzMx2\n",
       "dnYQEBDc3NxEREQyMjLu7u5mZmaqqqq6urqYmJgAAAB66f/FAAAAAXRSTlMAQObYZgAAAAlwSFlz\n",
       "AAAOxAAADsQBlSsOGwAAAkpJREFUOMudlD1oFEEUx//J7rrJ3t7eKYKKQsIhCH6QD0HEQg8LG4us\n",
       "uVq8SsQmi1W6HDbaqJdCFAm6KohicYciflxjBG2NhQErI1hoIQieSCRfb3Zmd2b2buH0wc3cm3m/\n",
       "fW/evHlAIjfwf/KDT85PfbnZI+4KQ7eur0/3yD/ikz15vayte6Npy/HdqQWbDVeFMvha2Xh5LsDe\n",
       "NH86vZAnF3aVfq2bZRRCuWHhQ4ixLrxVeR5rx8n+KJDz2VGtVSwqln3sW42wk5/DvYBne+cd2h4M\n",
       "UVgAtgFnMebI8xtFdqClDt4bhlUT2jHivSYmaJoKMRQ8taQ/Z4WGXGx5uFSqc36gCPevwuM8xmnc\n",
       "AgyVT35VXF2jTaPK/386kvgvNGGuqPxt7ODaiBbp/Hvyneee7Fsy/gbxayp/CpcjxfylXX29j1iz\n",
       "ze81kPyMLy0j/jtmI6W/qPIzgUusvcp56PxvlX+HfZHyIrZpsExtj3w7nD9RIqmJ+H3kNf8T3L+X\n",
       "uO9nr2ENJj0mm8f/UPFP+XO1/C1y/i3sQIbvtCkDdP4//IsKP1CDp93fG4qVLH0YarG1o8cg8m+M\n",
       "KvVTRa6OUPLfcIjGC63WEzV/FcyzQ4n7n1Pqdz8elJ3lSDvDIn6Gz/SZkfX1ZZW3Dvqs/kRS7l4J\n",
       "E/5xZStQYvrmqVmq7wPYtJDVGJL6/3gxrl/RaZKz2sPR++su3d6feN2x5JZgVrP4L1n9477W43Zl\n",
       "8XuyeNnYLsn+1yGd/W8y3f8MdgVuRgKm/7H/p+VVT/AG0TSPmdA7ZhwAAAAASUVORK5CYII=\n",
       "\" style=\"display:inline;vertical-align:middle;\" /></a></span>"
      ],
      "text/plain": [
       "|- (2^{t} * delta) in [0,1)"
      ]
     },
     "execution_count": 11,
     "metadata": {},
     "output_type": "execute_result"
    }
   ],
   "source": [
    "from proveit.physics.quantum.QPE import _scaled_delta_in_interval\n",
    "_scaled_delta_in_interval"
   ]
  },
  {
   "cell_type": "code",
   "execution_count": 12,
   "metadata": {},
   "outputs": [
    {
     "data": {
      "text/html": [
       "<span style=\"font-size:20px;\"> <a class=\"ProveItLink\" href=\"../_delta_is_real/thm_proof.ipynb\" style=\"text-decoration: none\">&nbsp;&#x22A2;&nbsp;&nbsp;</a><a class=\"ProveItLink\" href=\"../../../__pv_it/theorems/355883e1e15b1746fda8624e0c2f796eca2ef1cb0/expr.ipynb\"><img src=\"data:image/png;base64,iVBORw0KGgoAAAANSUhEUgAAADIAAAAQBAMAAACmdTG/AAAAMFBMVEX///8iIiLMzMyYmJiqqqqI\n",
       "iIju7u5UVFS6urp2dnZEREQQEBAyMjJmZmbc3NwAAADj68T8AAAAAXRSTlMAQObYZgAAAAlwSFlz\n",
       "AAAOxAAADsQBlSsOGwAAANtJREFUGNNjYGB4e3odAxJgPr3qj/RiMHMCRxmyDAMXXwFH8TIQC1Uc\n",
       "JDOBYYE6iBWOReYeD4iV7wARiRIUPACX4QKzvoElesKQ9JSlAxksJb9AfL5jSKYxLTkHZNgw1CcA\n",
       "KZ4HCJk98qJAIb5/DP4KIBkkF0w2A1nIvoBBHySjLQgEC6CmLTMG0vwGDPogfhayq3W5gKblKwBt\n",
       "AgJGZBlePaBufgWGIyA+awCSDNuCYAYGzgCWArDAEYTMBQZjrgYGhqmREIH0FQmwsP71gGvNF6Tw\n",
       "6lwICR0oAABfpzVYn5bpmAAAAABJRU5ErkJggg==\n",
       "\" style=\"display:inline;vertical-align:middle;\" /></a></span>"
      ],
      "text/plain": [
       "|- delta in Real"
      ]
     },
     "execution_count": 12,
     "metadata": {},
     "output_type": "execute_result"
    }
   ],
   "source": [
    "_delta_is_real"
   ]
  },
  {
   "cell_type": "markdown",
   "metadata": {},
   "source": [
    "We need to establish that our denominator is not 0, or equivalently that $e^{2\\pi i (\\delta - 1/{2^t})} \\ne 1$, which is already proven as a lemma:"
   ]
  },
  {
   "cell_type": "code",
   "execution_count": 13,
   "metadata": {},
   "outputs": [
    {
     "data": {
      "text/html": [
       "<span style=\"font-size:20px;\"> <a class=\"ProveItLink\" href=\"../_delta_diff_exp_not_one/thm_proof.ipynb\" style=\"text-decoration: none\">&nbsp;&#x22A2;&nbsp;&nbsp;</a><a class=\"ProveItLink\" href=\"../../../__pv_it/theorems/18ead2d10a69b60cc0afdf83650c8ca199a2f7520/expr.ipynb\"><img src=\"data:image/png;base64,iVBORw0KGgoAAAANSUhEUgAAAYQAAAAmCAMAAADzwBywAAAARVBMVEX///8NDQ0WFhYLCwsYGBg2\n",
       "NjYbGxsSEhKIiIgiIiIQEBB2dnbu7u5ERETMzMzc3NwyMjK6urpmZmaYmJiqqqpUVFQAAAA0WiBi\n",
       "AAAAAXRSTlMAQObYZgAAAAlwSFlzAAAOxAAADsQBlSsOGwAABP5JREFUaN7lW4uWoyoQdB93l/cb\n",
       "/v9TV0AUFASzs0lu5JyZSU4iItVd1V0603SjocxDh/F/8E0/iCDT7YayDx0GzqHjYvtcgkszM3g7\n",
       "FLR46DCDO1+gWfwDfW1J9mYYMPRQ2JEudCh/c5FhqLkXCAJfiFC2cdgS26bFSpwWR6prEKNbEZJx\n",
       "5eUSjK1t7QDC+zjXRDa+rUtwL+6quhUhwV0i+IhVsI/dwkaqWfgoWSbcNVXgjt8HA7ZLhMlJvwOs\n",
       "G6kLdrJZyEBS8BS+GNoU3wcES/csQjIQOHRh8EM4p1cc0cbMGPC/qcE0ug8IrsYSeKEjogjXE65x\n",
       "CjTLTjMnx7SnvqmKNPloPsOWPUZ/LgasRr2hVyLz3s9/ACd4EewFhPgeha0HtlpduWKkM1XPT5td\n",
       "GlS5rogPlgjtarUlCe1DuGw6MbW0EzyCED+IICAW1YHRNMq94lthKquZQDPxIVaJTKHUzF/MVuvd\n",
       "T5OEI1P7jeN8u3hpm3REPIT0hI70ZleYWsXFdmoNMhCAy3o8/MnNG7LHPGCMrUytQBHCGwg0bC/k\n",
       "Ez8RXAA3a1DTjrOxB8H46kAvJxQfjMHk8EYGyLPwhDIej5GY8fQGQqw4uQK4pqzSgEDn8FjTFl/b\n",
       "h0AOAvPKPCHoB/roenUtjgiCRqPxWp7Bjm3kqSr3l2CFtQ5qm4NAwtpUEA163cTgqip1D46vna1S\n",
       "B0ZxgOHt+MzwrJ/jXr9nRlFTApnnoKkQ3vDnD//bNkCYnGc8btOvqjOiR+QoRo35G3+8ORvDZZHd\n",
       "tMjISYVqipSg49V4z5Hzes2VTrGu9EAi7EDAKQmwjIS5K+VYpeBK1lcuR2sLX9ub0yZyZLbSCqB5\n",
       "tZetN14CxuBIrDJ1Wmyp6S9wLz2t3BXbZW9FEY4wliCEzw1YZTn6VQxYGisyU9m/1fqCFR/lGLAM\n",
       "gDNeHZmtXAWt+GtrLvt8krSZCfML7seFjCVnpfss16CHWKX/qoAwI5C4IGi72uCtgZCsryhHXMUh\n",
       "9yDQ89L5ymxtELJaxPLUVk2H9jijI3CZJ3n7EDEnVX5xpY0UNeH7t6gM55rgW4TULHhtz2/R1UBI\n",
       "1lcmR7VMGARhZLY2CFstIvG0Si4yB2FOc6vo9z/RHKjdaytB0ItFaFO5tEu/Fp176yuTo0Q8KOv4\n",
       "BkEYmU3CliZ4SVDBR/g9/+jFsYZ7OMmaAAQiLQEET8PA1IQdZ7m6Vm6WbSEnsytggjWq5z6pjoPQ\n",
       "n02AaoplKbKkbwQBHfYYqYwjnAAvTQRrkRNWr1S56yw8xWoRLSrjLY/llt7OuOpV8CE2EQ2x2Qdh\n",
       "oB8w+bbRiiSk9I105A4OjHiVMdZ9VuNw33WmWDKX5Tl52UZbxflXZcLAbBw16MivN0D+678F8row\n",
       "z1LwIhD6T1/g/e44X3DlgVkT5tL6ughCcOkJvjZbU5jdUiBuLiUAFavGW9mveapB9xsSul+tAjJs\n",
       "yykIpfXVBYFj4TDYuj++evjDszVBCOstPZe5WatAStxrPOIB7XS60cT63G42a6Od5hcSqzif2PSF\n",
       "lqqXgNB9kGBu5rvELuHD51fPA2EgUt72fjoeWPwzq7lmOAlzCoIZuAVPBu/TP32gEZ5kL7/hxnc5\n",
       "zf9ZxL1ggBs98ZJcpf9nInzO0O+YCkBM9xri/Z6r4ojfDAQC+dut6Gb/nuDj7t3+R4zq6X6Dv5c2\n",
       "k1Q1/wEzF0gT8wEByAAAAABJRU5ErkJggg==\n",
       "\" style=\"display:inline;vertical-align:middle;\" /></a></span>"
      ],
      "text/plain": [
       "|- forall_{l in {-2^{t - 1} + 1 .. 2^{t - 1}} | l != 0} (e^{2 * pi * i * (delta - (l / 2^{t}))} != 1)"
      ]
     },
     "execution_count": 13,
     "metadata": {},
     "output_type": "execute_result"
    }
   ],
   "source": [
    "_delta_diff_exp_not_one"
   ]
  },
  {
   "cell_type": "code",
   "execution_count": 14,
   "metadata": {},
   "outputs": [
    {
     "data": {
      "text/html": [
       "<strong id=\"extra_assumptions\">extra_assumptions:</strong> <a class=\"ProveItLink\" href=\"../../../__pv_it/theorems/e291f82fba5781cb778dc66b129aea3d3d4197760/expr.ipynb\"><img src=\"data:image/png;base64,iVBORw0KGgoAAAANSUhEUgAAARoAAAAaCAMAAABfGmM8AAAAPFBMVEX///8NDQ0WFhYLCwsYGBhU\n",
       "VFQiIiKIiIjMzMx2dnYQEBDc3NxEREQyMjLu7u5mZmaqqqq6urqYmJgAAACZCzMOAAAAAXRSTlMA\n",
       "QObYZgAAAAlwSFlzAAAOxAAADsQBlSsOGwAAAyZJREFUWMPlWdmWpCAMdaaHfRP4/38dZbFBEFOW\n",
       "5Tk9k4duyxJuuN6EkJqmO02J5pZ2avqItVifgHL2nnm0b25RQvBHmGmx7oMy29VsbnJ37r21+TPU\n",
       "9LDughIy8w+WobYjeQmGFaPPUNPHylBiFm+GEYn/pQMOIMrqcfjPz6mmh7VBUSQ1MHb6z+FwW/Dw\n",
       "gWFPTyTs+9MIY5QMY7sPQKihGLiSMVYBJdHuu/76qKyeYcREvZEw3LAkIn/iFsPHgcn8EmqWJ7hs\n",
       "AkSNRkZ5DU8CBdYxVOtsd32S7oSosYhJfnXIp/xh1DVqUJiL80C1huQa20QwAVJzgjWkprc+WmrL\n",
       "hSEs6kgtPtLsFSa1txIvps6p4WEC5MVkyMQ0gJqZXKXmBGtIDSYd0ZTpOsZgShtmYSjXAqIKRauI\n",
       "hqom3EbLcGocbbcS5Rm5i5ohVgXVOCs6qcZWCcmHGob6kN/JokykOqEolAYHVHonfgLbdWrgWI2z\n",
       "vVRTFdQ6UxPC3S4eyZSjkRwX/ONkRD15jBoQFuF7wRXrMzjYn6/1L9pkxYrZ6SIylb7iJV6PBMEH\n",
       "9Q9G02PUgLCE39U9nJycwjZqWPxkJ2zSqyieoxwn26gWSNlcPONvS/FrJLDACoN4nB5dowaIpVFV\n",
       "FFbrS5nG7A5lLEYSiZ9sVk0lQN1Bp+a4wHSvaOZN1UCxmLLDAGuzRsw1c5Sb+A6oZecqvOsmXHnk\n",
       "1LzSLcQj1ECx9qV7tb4g3t+/cC3emHVdHLiqLKWnJS+zwlUCL/kmGgYS/QQ1YCyWVJKfrNcXRLOf\n",
       "xPFis1l3qKQ0bzU5ObwdHRSwWQ2/E1DM19uoaq5exUrObhPs1tftxOD1oMDpxpONL8wZVicx2Zyy\n",
       "D6jBPpi6Tg1C3CtU7H/YtFcvYmVncTq47tbXEc2yaMMIyhvLGme834OxTMIOChe6UGT6uG3Ozvo4\n",
       "Z416Hq44eb9eYF416x6k5mB1apyu4smbcmgni08/x3LprvsKdQxUIqAZ2Eby849hRufS/SB2z1pn\n",
       "sWsD7w0Lg34GOYKdOXrS0My94dOU9N+Z+D4N3PU71L9isZf+F8ZyJttyoUwDAAAAAElFTkSuQmCC\n",
       "\" style=\"display:inline;vertical-align:middle;\" /></a><br>"
      ],
      "text/plain": [
       "extra_assumptions: (l in {-2^{t - 1} + 1 .. 2^{t - 1}}, l != 0)"
      ]
     },
     "execution_count": 14,
     "metadata": {},
     "output_type": "execute_result"
    }
   ],
   "source": [
    "extra_assumptions = _delta_diff_exp_not_one.all_conditions()"
   ]
  },
  {
   "cell_type": "code",
   "execution_count": 15,
   "metadata": {},
   "outputs": [
    {
     "data": {
      "text/html": [
       "<strong id=\"delta_diff_exp_not_one_inst\">delta_diff_exp_not_one_inst:</strong> <span style=\"font-size:20px;\"><a class=\"ProveItLink\" href=\"../../../__pv_it/theorems/8bc9b38cf75c7371ab646fd064ad09fc02345f250/expr.ipynb\"><img src=\"data:image/png;base64,iVBORw0KGgoAAAANSUhEUgAAANYAAAAYBAMAAAB0Lx7ZAAAAMFBMVEX///+qqqq6urru7u4QEBBE\n",
       "RERUVFTc3NyIiIgyMjJmZmaYmJjMzMwiIiJ2dnYAAACPW0xlAAAAAXRSTlMAQObYZgAAAAlwSFlz\n",
       "AAAOxAAADsQBlSsOGwAAAeBJREFUSMdjYCAMOAugDOadDMQD8nTZwxgnemmuSxLOkqW6LiMFFG7d\n",
       "zTdk2IWmq7AAqyqOSQaoAhPJ8heqLp5UkKFv/6ApkkeyqmplDAPDZzx28VzGYg02XawJQIL7A5rK\n",
       "twgmewDDewUmBwaeUCAIx2KX2crPmFZh1cV3AUhwTcBtF1sBA4sDR4INhr+YNsACHItdWHWB7eJt\n",
       "gIi03r07Ad0uls8MbN+5Gh5j2MXYgMcurLrAdtUfAAtoNmPz1wUGtj88qw/A0tb8F8TYhVUX2K79\n",
       "kDCejC0MQd7+gC2R4bULqy6wXamoJQoDw0oUNecbyLELUxeHA5DwgNiFSEXeKGquMZBjF6Yu9o/A\n",
       "DPIdzDxyFwgCQGKZwFKDeS6IexcY4lwBmAZx3b17xffu3QTcdmHTZTYR4jcGBlO42KlgZBXbGMjx\n",
       "FzZdLxWA+RlcTPAiBMOQzXzAUE66Xdh0MQIV8m94ANbTgDUdnmNgaCbdLmy6+IDhx6/cgFZUIpdR\n",
       "t1atuoDXLj5IdDP/hBG4dIHSPPc6aNQFGWDaxfv///8J+OxiS/mZDWbcghM4dPEh264Xi1lG4QSM\n",
       "DQwkAj6s4UOMXfCyl0K7WhhoAbiwxkW9AC3sMsEaEuzLaGBZXSIDAwB4aaUFdo5x/QAAAABJRU5E\n",
       "rkJggg==\n",
       "\" style=\"display:inline;vertical-align:middle;\" /></a>, <a class=\"ProveItLink\" href=\"../../../__pv_it/theorems/b38b045a9246dd5ac239f68f921874310f53aad00/expr.ipynb\"><img src=\"data:image/png;base64,iVBORw0KGgoAAAANSUhEUgAAAC0AAAAUCAMAAAAusUTNAAAAPFBMVEX///8NDQ0WFhYLCwsYGBiq\n",
       "qqq6urru7u4QEBBERERUVFTc3NyIiIgyMjJmZmaYmJjMzMwiIiJ2dnYAAABsuYCuAAAAAXRSTlMA\n",
       "QObYZgAAAAlwSFlzAAAOxAAADsQBlSsOGwAAAMhJREFUKM+VkusShCAIhd2Loal4e/93XZGp1bIa\n",
       "+cGEHT8PohBXgTBcTjGH82rQnSZZNPzp84ChW4KTQkBkOboBem0KHyufT4t2gDZtUbfKTJ2Yge2l\n",
       "RYuM9bgsL2y7Fg2b2pe8Nt1jrPH9UN74JidWk2Nl79F/daJkTq6xK4HVC7GtekBvXUrqslwP9L7f\n",
       "L3a/34vWPMSiK52mA/r4Qrzah5gX6NuUeLIWafKKxuLxCV2UmOwaRk9SJjERDibEfgodZ9Ai3P38\n",
       "AUNKCPHed8bwAAAAAElFTkSuQmCC\n",
       "\" style=\"display:inline;vertical-align:middle;\" /></a> <a class=\"ProveItLink\" href=\"../../../__pv_it/_proof__alpha_l_summed_abs/cd23acf9a2aedd69555365af028f905e5a68d9310/proof.ipynb\" style=\"text-decoration: none\">&nbsp;&#x22A2;&nbsp;&nbsp;</a><a class=\"ProveItLink\" href=\"../../../__pv_it/theorems/2cd54318b98124018e69cc6126a3d22285df188a0/expr.ipynb\"><img src=\"data:image/png;base64,iVBORw0KGgoAAAANSUhEUgAAAIwAAAAdCAMAAABPJHTqAAAAPFBMVEX///8NDQ0WFhYLCwsYGBgy\n",
       "MjK6urqIiIh2dnbMzMxERETc3NyYmJiqqqpmZmYiIiIQEBBUVFTu7u4AAABdz/weAAAAAXRSTlMA\n",
       "QObYZgAAAAlwSFlzAAAOxAAADsQBlSsOGwAAAg9JREFUSMfNV9uWpCAMdHeWa4Bw+f9/HRFsQRFs\n",
       "zzjbebClRahUKglO0x2DB2beNab7AMj2nLKHsWg+mCALPph6FIsnoxm2HBD/4wiUeN2a7Ks+ixbI\n",
       "6k1zy2POnTtzw/K938rTk9mqDqO9Q030wOBYMTlK5jRRDK2G5I5qwrwGBDHEnP2meOYx+ip+3N2R\n",
       "hS/AAIbF4ODeegdWnizEWUWaIjd1ynOYvPGgJt7iGnXeUQR6rRLYNsMjKYlIvZ8xzD8MPM/CzmDS\n",
       "2C4Q2Mw9OdabUFleNDS3kseddzkZ/xF2YVlOIiXlMo5g0oMExoqkHiFXq/UMW0LTJjOyEKd3hoQd\n",
       "mLgAwFYsqDsNk4/eyk6Y1NYGdCtDxU7VbAcGpBDiFUnDKpc2MHLZBmFuQZ3uheaVUUoOOkYJxjuL\n",
       "kVRbxDlV8SKOG5iUqWAYbymQaraUGTzWgmraPt0zGG9RK3u9FggctKUYwrJ/YSOaBNpgXFwcwvWa\n",
       "jaJ/fhEzIG2mlUoowRtc7N9XvLojmLC8Ja/X7FHni7oGo2DXV7vEZDAi1wR+vTLK7vHNiE4Lz4o5\n",
       "urOC0RDtjdbqZa+G+4mNkB+JeYXp/YMhnL9CZpJLkdRtKmnm75+knIZmTDpvPH9y7p791tRGqyhD\n",
       "9mtYdCsB+Ho+MBgI+6/EOGcDcWr6ddN8+hx74Gvh/mfGJxGDH0TM1Gts34D3GEnUBFdGAAAAAElF\n",
       "TkSuQmCC\n",
       "\" style=\"display:inline;vertical-align:middle;\" /></a></span><br>"
      ],
      "text/plain": [
       "delta_diff_exp_not_one_inst: {l in {-2^{t - 1} + 1 .. 2^{t - 1}}, l != 0} |- e^{2 * pi * i * (delta - (l / 2^{t}))} != 1"
      ]
     },
     "execution_count": 15,
     "metadata": {},
     "output_type": "execute_result"
    }
   ],
   "source": [
    "delta_diff_exp_not_one_inst = _delta_diff_exp_not_one.instantiate(\n",
    "    assumptions = [*defaults.assumptions, *extra_assumptions])"
   ]
  },
  {
   "cell_type": "code",
   "execution_count": 16,
   "metadata": {},
   "outputs": [
    {
     "data": {
      "text/html": [
       "<strong id=\"exp_expr_01\">exp_expr_01:</strong> <a class=\"ProveItLink\" href=\"../../../__pv_it/theorems/f513127ce3f61596b0d12fb1865b3de8ffb7ba3d0/expr.ipynb\"><img src=\"data:image/png;base64,iVBORw0KGgoAAAANSUhEUgAAAGQAAAAYBAMAAAD+LEXdAAAAMFBMVEX///8yMjK6urqIiIh2dnbM\n",
       "zMxERETc3NyYmJiqqqpmZmYiIiIQEBBUVFTu7u4AAAC+LTDVAAAAAXRSTlMAQObYZgAAAAlwSFlz\n",
       "AAAOxAAADsQBlSsOGwAAAbJJREFUOMtjYMAJ2IkWhANLNMWSIJLJAI8OTgc0gXQwaYFHy0N0gQNg\n",
       "kvEBNsUcASByBRBPnoDksASI5AII94nvPSQtPA5QQzkeIQlzQB16DkItYFiN4RUBBgauAiQBLgUI\n",
       "LQGhPjHUB6Bp4QIayrQPSYD7JYT2hVB9YC3s+////w7yYQOUYD+GpIXFHEI3wgS8gfjV8wawe8Fa\n",
       "uIE+d45XwAycOVCadR/DE4YHzHVALU+AWvgcGHgUGJgvMMLj5j8EAFnxUJGyBwwxBQxsrMAQjClg\n",
       "bGA9DtLCE8DlwJoGBOnQYAaHrw6Mww4KnDKmC8gOe8/AhuIwDnBimQ21JDQKFKmLmQ7AtbAZMHAX\n",
       "FKL4wnoliGxjYHh7egHDebArGeQY9sG1sFxgYF/sB1fONHkRAzeYtYSB7/SMs9hSDesGFC4P0JmQ\n",
       "VLeJgXcDQz3WlLYVLZ/EMMziADE2MPA3MLA1YNPShcZPYqhqB6WKBoZ4YGg7YNPCVoCagKApqgwY\n",
       "M9PLy7E6jC8BhevHDM9o/DhzZjEyh/H/bzDNDLSbC5j+CxhIAnx7mqwNSNPCwLVfmDQNAOePaew5\n",
       "2LHEAAAAAElFTkSuQmCC\n",
       "\" style=\"display:inline;vertical-align:middle;\" /></a><br>"
      ],
      "text/plain": [
       "exp_expr_01: e^{2 * pi * i * (delta - (l / 2^{t}))}"
      ]
     },
     "execution_count": 16,
     "metadata": {},
     "output_type": "execute_result"
    }
   ],
   "source": [
    "exp_expr_01 = alpha_l_summed_inst.rhs.factors[1].denominator.operands[1].operand"
   ]
  },
  {
   "cell_type": "code",
   "execution_count": 17,
   "metadata": {},
   "outputs": [
    {
     "data": {
      "text/html": [
       "<strong id=\"exp_expr_02\">exp_expr_02:</strong> <span style=\"font-size:20px;\"><a class=\"ProveItLink\" href=\"../../../__pv_it/theorems/8bc9b38cf75c7371ab646fd064ad09fc02345f250/expr.ipynb\"><img src=\"data:image/png;base64,iVBORw0KGgoAAAANSUhEUgAAANYAAAAYBAMAAAB0Lx7ZAAAAMFBMVEX///+qqqq6urru7u4QEBBE\n",
       "RERUVFTc3NyIiIgyMjJmZmaYmJjMzMwiIiJ2dnYAAACPW0xlAAAAAXRSTlMAQObYZgAAAAlwSFlz\n",
       "AAAOxAAADsQBlSsOGwAAAeBJREFUSMdjYCAMOAugDOadDMQD8nTZwxgnemmuSxLOkqW6LiMFFG7d\n",
       "zTdk2IWmq7AAqyqOSQaoAhPJ8heqLp5UkKFv/6ApkkeyqmplDAPDZzx28VzGYg02XawJQIL7A5rK\n",
       "twgmewDDewUmBwaeUCAIx2KX2crPmFZh1cV3AUhwTcBtF1sBA4sDR4INhr+YNsACHItdWHWB7eJt\n",
       "gIi03r07Ad0uls8MbN+5Gh5j2MXYgMcurLrAdtUfAAtoNmPz1wUGtj88qw/A0tb8F8TYhVUX2K79\n",
       "kDCejC0MQd7+gC2R4bULqy6wXamoJQoDw0oUNecbyLELUxeHA5DwgNiFSEXeKGquMZBjF6Yu9o/A\n",
       "DPIdzDxyFwgCQGKZwFKDeS6IexcY4lwBmAZx3b17xffu3QTcdmHTZTYR4jcGBlO42KlgZBXbGMjx\n",
       "FzZdLxWA+RlcTPAiBMOQzXzAUE66Xdh0MQIV8m94ANbTgDUdnmNgaCbdLmy6+IDhx6/cgFZUIpdR\n",
       "t1atuoDXLj5IdDP/hBG4dIHSPPc6aNQFGWDaxfv///8J+OxiS/mZDWbcghM4dPEh264Xi1lG4QSM\n",
       "DQwkAj6s4UOMXfCyl0K7WhhoAbiwxkW9AC3sMsEaEuzLaGBZXSIDAwB4aaUFdo5x/QAAAABJRU5E\n",
       "rkJggg==\n",
       "\" style=\"display:inline;vertical-align:middle;\" /></a>, <a class=\"ProveItLink\" href=\"../../../__pv_it/theorems/b38b045a9246dd5ac239f68f921874310f53aad00/expr.ipynb\"><img src=\"data:image/png;base64,iVBORw0KGgoAAAANSUhEUgAAAC0AAAAUCAMAAAAusUTNAAAAPFBMVEX///8NDQ0WFhYLCwsYGBiq\n",
       "qqq6urru7u4QEBBERERUVFTc3NyIiIgyMjJmZmaYmJjMzMwiIiJ2dnYAAABsuYCuAAAAAXRSTlMA\n",
       "QObYZgAAAAlwSFlzAAAOxAAADsQBlSsOGwAAAMhJREFUKM+VkusShCAIhd2Loal4e/93XZGp1bIa\n",
       "+cGEHT8PohBXgTBcTjGH82rQnSZZNPzp84ChW4KTQkBkOboBem0KHyufT4t2gDZtUbfKTJ2Yge2l\n",
       "RYuM9bgsL2y7Fg2b2pe8Nt1jrPH9UN74JidWk2Nl79F/daJkTq6xK4HVC7GtekBvXUrqslwP9L7f\n",
       "L3a/34vWPMSiK52mA/r4Qrzah5gX6NuUeLIWafKKxuLxCV2UmOwaRk9SJjERDibEfgodZ9Ai3P38\n",
       "AUNKCPHed8bwAAAAAElFTkSuQmCC\n",
       "\" style=\"display:inline;vertical-align:middle;\" /></a> <a class=\"ProveItLink\" href=\"../../../__pv_it/_proof__alpha_l_summed_abs/813747ae568d95554a153f6d905ddc1f7e1ee3e90/proof.ipynb\" style=\"text-decoration: none\">&nbsp;&#x22A2;&nbsp;&nbsp;</a><a class=\"ProveItLink\" href=\"../../../__pv_it/_proof__alpha_l_summed_abs/cedb9f9ef7cf2f93681ecf3c425af9cc59198b220/expr.ipynb\"><img src=\"data:image/png;base64,iVBORw0KGgoAAAANSUhEUgAAAOcAAAAYBAMAAADzHvffAAAAMFBMVEX///8yMjK6urqIiIh2dnbM\n",
       "zMxERETc3NyYmJiqqqpmZmYiIiIQEBBUVFTu7u4AAAC+LTDVAAAAAXRSTlMAQObYZgAAAAlwSFlz\n",
       "AAAOxAAADsQBlSsOGwAAAxZJREFUSMelVk1oE0EUfvnb2WxiKuhBLxroSVTIQfGnCAsepSUXPWgh\n",
       "oYL1mCI0EEsb/6FIUSoo6mFpFSvxEBSRVk2D+AfFmrsiUYriH41VUBFc52c3nZnM2oQOZH5e5n3f\n",
       "mzfz3lsAz5ZRCRE031DzsG4LnJMg1pLen2iedIe07qOI7f9TuSALemm/vWnOsCkJNHrIQN5bJbZS\n",
       "lpRp76s2S/pWFkTZsE65+xTpDGLQKOdilKaDbqlU9GSjbIKclndxPxuGneVc5xvuz8euWfo7Tqw7\n",
       "3ppVkUbNBhTqmZHNnGNOOnsdkQUFGeY8OS3/0ow4G9d4+lNECZP7ucH/P8YGn3OpCzAk++caeaol\n",
       "ThD5yMZOT1IRxSCH38i/gBK7rGCFLUfodjRt2z/ds5AOPeVUgtvYeEzFR60XUahoIM1t2s0cp9ef\n",
       "6B78+/Qhb9YdOEl2peKN+Fc9SUWUCD5XcOuCIpTKziRUgjmoBgZNiJmYdA7gEY6ois8NtTabthqe\n",
       "ptSkWE9EiWKDd8FqdwcDsAlXzX3NVejOgBayIPQMk+I5Jo0mDTN0CDeWFiBH+01qUqwnohDSJ/hp\n",
       "7CMIzLGIhpvfOSmyEBH3+yu8e+dBE9x7gvZXPN0romD3xmrQI0QzzaHhonPQvfvJMxtnRlDSg1gt\n",
       "0yck4yn6+k57koooGma4h4S81nGTUuPH9XXGgpfU2ThBleqkODLQeFd9/4adcSjWY0lMmK+nGKmI\n",
       "QiIjt6UeMv7RMYi4sRSbufRCZfsBKfHGak42vi3v/DJ5tqIACBWlxDvvZONIHFYUYUiVwyNitsiE\n",
       "ymGLXhzDKtwn7SGZvgL0V2X2Xam4dsNlncyO4mDIg6YqNnJi1+JoIuMWAqH9AjisIh2W1j2QO+MU\n",
       "ghQOHlOl0ysur4ulgnMjBvihAtDEbwQjuVitUhezWWWJfC+sgtWE0hZM+jubHVRW5LSw7Aos2tLm\n",
       "9f2BhD/W2+wuA4753J1+9yoAR4Sgsv+wCUnhxuwS30pLtlvVlj7XqBMeHO9ILIv08/P2O63qGNOr\n",
       "YHmt8K1Fq/8BPePkdp5d2LoAAAAASUVORK5CYII=\n",
       "\" style=\"display:inline;vertical-align:middle;\" /></a></span><br>"
      ],
      "text/plain": [
       "exp_expr_02: {l in {-2^{t - 1} + 1 .. 2^{t - 1}}, l != 0} |- e^{2 * pi * i * (delta - (l / 2^{t}))} = e^{i * 2 * pi * (delta - (l / 2^{t}))}"
      ]
     },
     "execution_count": 17,
     "metadata": {},
     "output_type": "execute_result"
    }
   ],
   "source": [
    "exp_expr_02 = exp_expr_01.inner_expr().exponent.group_commutation(0, 1, 2)"
   ]
  },
  {
   "cell_type": "code",
   "execution_count": 18,
   "metadata": {},
   "outputs": [
    {
     "data": {
      "text/html": [
       "<strong id=\"theta_temp\">theta_temp:</strong> <a class=\"ProveItLink\" href=\"../../../__pv_it/_proof__alpha_l_summed_abs/f529203e489360d04d0b58e1815c8597d776f82c0/expr.ipynb\"><img src=\"data:image/png;base64,iVBORw0KGgoAAAANSUhEUgAAAIgAAAAyBAMAAAB1xY5yAAAAMFBMVEX///+qqqqYmJiIiIgiIiLu\n",
       "7u4QEBBUVFS6urp2dnbMzMxEREQyMjJmZmbc3NwAAADzFso2AAAAAXRSTlMAQObYZgAAAAlwSFlz\n",
       "AAAOxAAADsQBlSsOGwAAAqpJREFUSMedV89rE0EUfvurdTcxm1vpKT15ECUFRUHBFizeJAH/gPSi\n",
       "IkotIl4E05MeG1DUW6N4VBpB6dEIehBRAoqXNtiDNw9NU4IxNq7Zmd1xYvPeWxzI7my+yZf363sz\n",
       "C8CMVJVCnZeQZFyj4SfFBBzjFQRwC8JEYzYBySEUycvbA54js4BCG/JmT7Ek9jQKnZY34zxLcgC3\n",
       "sRdNPrAkl1DEbEWT5U2Gw+rgaatFk/QiFxJ8wVgcLaPDkKzi5boae+HsMCQ3cOiYmr1gSC7i0Jqj\n",
       "qo6OrNfGsbYbz0p0uVm/cax7ToWYTk9qXtbVxuW9Fh9WykzNQqb5Hk3BmKwFF+5Qgndb8B3cLgaX\n",
       "GrKu6J5hduEWwAW0FmRBWbTT3g5cLUIZy1EuK8tpmyRx+nAdoIwFJR8Br2h/foSXgnq8HwRB/y86\n",
       "I02cyNVIkl/SpzjODycfn9DMWhEWmPVxWmNXhqT6CE5ZumtfBcnWptEjSeYGn3URnV3xXJPpLNXF\n",
       "U1lcb4IXkjhv5sIR/okfREM2pjMDa6UhZ0W2Fm3ZRxoaSRu8FmnJgGQSMirF+6d8+NcdpzeICuOO\n",
       "VwFLZbBU9Jc0dEWw9yCdZQL7rdn8rB6Pgq/veDMiyndhYvSPP6quUwiCXfX18+FtUxabe2T0VurE\n",
       "keqTduaWsE0nlL4RRcr5SfdprGeF0s/ce1eNBUgNv4EAQvpxuA1anzaWWiF9v8g30bAbzSOAkP7t\n",
       "eBVdiiYhvAIcd6p6E0V71jbVzj650p+t6f/dvAbSf3Yw0eYFX1BkfShA5FjGqs3Ueje3odtYoWjS\n",
       "N7mjBbZAl77NHXKw45Yuffa4BfnRm4Uu/TX24JeucCv2dVgSb4E96Wb5I/VJbkGCYzn+ghB7U0/y\n",
       "qvKahp8meVXhXprehtc/+6+zv+ytJgkAAAAASUVORK5CYII=\n",
       "\" style=\"display:inline;vertical-align:middle;\" /></a><br>"
      ],
      "text/plain": [
       "theta_temp: 2 * pi * (delta - (l / 2^{t}))"
      ]
     },
     "execution_count": 18,
     "metadata": {},
     "output_type": "execute_result"
    }
   ],
   "source": [
    "theta_temp = Mult(*exp_expr_02.rhs.exponent.operands[1:4].entries)"
   ]
  },
  {
   "cell_type": "code",
   "execution_count": 19,
   "metadata": {},
   "outputs": [
    {
     "data": {
      "text/html": [
       "<span style=\"font-size:20px;\"><a class=\"ProveItLink\" href=\"../../../__pv_it/theorems/8bc9b38cf75c7371ab646fd064ad09fc02345f250/expr.ipynb\"><img src=\"data:image/png;base64,iVBORw0KGgoAAAANSUhEUgAAANYAAAAYBAMAAAB0Lx7ZAAAAMFBMVEX///+qqqq6urru7u4QEBBE\n",
       "RERUVFTc3NyIiIgyMjJmZmaYmJjMzMwiIiJ2dnYAAACPW0xlAAAAAXRSTlMAQObYZgAAAAlwSFlz\n",
       "AAAOxAAADsQBlSsOGwAAAeBJREFUSMdjYCAMOAugDOadDMQD8nTZwxgnemmuSxLOkqW6LiMFFG7d\n",
       "zTdk2IWmq7AAqyqOSQaoAhPJ8heqLp5UkKFv/6ApkkeyqmplDAPDZzx28VzGYg02XawJQIL7A5rK\n",
       "twgmewDDewUmBwaeUCAIx2KX2crPmFZh1cV3AUhwTcBtF1sBA4sDR4INhr+YNsACHItdWHWB7eJt\n",
       "gIi03r07Ad0uls8MbN+5Gh5j2MXYgMcurLrAdtUfAAtoNmPz1wUGtj88qw/A0tb8F8TYhVUX2K79\n",
       "kDCejC0MQd7+gC2R4bULqy6wXamoJQoDw0oUNecbyLELUxeHA5DwgNiFSEXeKGquMZBjF6Yu9o/A\n",
       "DPIdzDxyFwgCQGKZwFKDeS6IexcY4lwBmAZx3b17xffu3QTcdmHTZTYR4jcGBlO42KlgZBXbGMjx\n",
       "FzZdLxWA+RlcTPAiBMOQzXzAUE66Xdh0MQIV8m94ANbTgDUdnmNgaCbdLmy6+IDhx6/cgFZUIpdR\n",
       "t1atuoDXLj5IdDP/hBG4dIHSPPc6aNQFGWDaxfv///8J+OxiS/mZDWbcghM4dPEh264Xi1lG4QSM\n",
       "DQwkAj6s4UOMXfCyl0K7WhhoAbiwxkW9AC3sMsEaEuzLaGBZXSIDAwB4aaUFdo5x/QAAAABJRU5E\n",
       "rkJggg==\n",
       "\" style=\"display:inline;vertical-align:middle;\" /></a>, <a class=\"ProveItLink\" href=\"../../../__pv_it/theorems/b38b045a9246dd5ac239f68f921874310f53aad00/expr.ipynb\"><img src=\"data:image/png;base64,iVBORw0KGgoAAAANSUhEUgAAAC0AAAAUCAMAAAAusUTNAAAAPFBMVEX///8NDQ0WFhYLCwsYGBiq\n",
       "qqq6urru7u4QEBBERERUVFTc3NyIiIgyMjJmZmaYmJjMzMwiIiJ2dnYAAABsuYCuAAAAAXRSTlMA\n",
       "QObYZgAAAAlwSFlzAAAOxAAADsQBlSsOGwAAAMhJREFUKM+VkusShCAIhd2Loal4e/93XZGp1bIa\n",
       "+cGEHT8PohBXgTBcTjGH82rQnSZZNPzp84ChW4KTQkBkOboBem0KHyufT4t2gDZtUbfKTJ2Yge2l\n",
       "RYuM9bgsL2y7Fg2b2pe8Nt1jrPH9UN74JidWk2Nl79F/daJkTq6xK4HVC7GtekBvXUrqslwP9L7f\n",
       "L3a/34vWPMSiK52mA/r4Qrzah5gX6NuUeLIWafKKxuLxCV2UmOwaRk9SJjERDibEfgodZ9Ai3P38\n",
       "AUNKCPHed8bwAAAAAElFTkSuQmCC\n",
       "\" style=\"display:inline;vertical-align:middle;\" /></a> <a class=\"ProveItLink\" href=\"../../../__pv_it/_proof__alpha_l_summed_abs/aeb77831d62667ff8cca1203242be9bd67f9e0630/proof.ipynb\" style=\"text-decoration: none\">&nbsp;&#x22A2;&nbsp;&nbsp;</a><a class=\"ProveItLink\" href=\"../../../__pv_it/_proof__alpha_l_summed_abs/314416695ac95ab1277ec18373b901f6032393640/expr.ipynb\"><img src=\"data:image/png;base64,iVBORw0KGgoAAAANSUhEUgAAANEAAAAyBAMAAAAwxCPwAAAAMFBMVEX///+6urqqqqpmZmbu7u6I\n",
       "iIgiIiIQEBDc3NwyMjJ2dnaYmJhUVFTMzMxEREQAAAC0ii6rAAAAAXRSTlMAQObYZgAAAAlwSFlz\n",
       "AAAOxAAADsQBlSsOGwAABCNJREFUWMO1WE1oE1EQfkk2SZPsbot4EYTmpHhKwYOIiDnooYgmB0UQ\n",
       "f4LVSrFqDyIqUgM9VEW0VK0igj3oRdQGREQsJkhRULA5KYraCKV68Ce1UapV6+a92c3b1HkTLe5l\n",
       "tn0v8+2b+eab2WXMusw8o64PytW1cW60UcrNYxJIzyiXje3CPo0TbvpJpEfI/8N7RTgWiD+9KbWb\n",
       "OyRQpAdbyQJiTthrSjd1B0ik7jS2shTsLmECyigHkiTSDnJlociQd5/KzW06eB1oPH7CTahJ2NMq\n",
       "P4dIpCBKmUgRbjyTwjamcTf+Eom0FSWvXrDvLsLZcoo05Uikdvy0To5jkCjFc4+QAmH8xH/sBCsh\n",
       "MLUvuJ+HtECghGAbnDsTinYM93OYJgQe3/eaww2gRBalhDFFIo3g5TgVtu808JNAN/snaerhzB1f\n",
       "VR0bPABmB4n0Vpiuc+9mLN2sVNqYO18VVe381NdZPmhQVETXUrwDdQrT7xlSPc8AaG2xeqFwgs2/\n",
       "Z9VAgstIXYENNCAutAlhh9Qnz4rfR8ZnIB1npmHFdITXgZ5mQSyMBpTIJoI3SdduF5IvbbWdWJTn\n",
       "scR0jBrez8CqqBJJBMeJAPOPtbZVkKwcZblE6CmmY0oQgQVTLZD1QLofILln45Uz6StzEoUDTirD\n",
       "R6anp5uq68B7/5caCcQWdh2LS9F7vchCGYi742xdV+dcv/VKmhVKMAMMK+eRIEwAB4U5X8lTd9/X\n",
       "dZZdEa8WbCPqT2+WXPg4Ut0kiym1OACF1CpMj8SIu81lO2z744dP8A2mYLT2TQhsEToRV/3m1vK1\n",
       "u/yvafsSSMDdneJx91u79gCSuTojIQ2K7Tw9L5l4vhYJqT7DRpR5ciNpBelMRtNoJXrefnbUWVvG\n",
       "ijOil8gT01pV9FJyPS0/WRYRwb0XjK1zRKHE5EIPc+7V51kv+wtGrJeR1vqt8G3laa5rWbzYeQp/\n",
       "in2X1Z7XUzjp/bNKh9JuEQdNDzl1Xuhikcwbu3IDVl4dtphR13QMlXtlI6INdj1BBYJGaE/mOlr+\n",
       "jn28FGWxBqppeMexFd4AFtmIooFodjg8N0CNamioVFfmDeB423VCYVnVoRXXBDbJ8AZg80RItaPH\n",
       "fyBnD4nUhrGNN4CSewbApwWd7u7YnMYbgMf+PUiAXkQna3pYzuLKGij6c2tcM0CwgOb7Mz2FRRWN\n",
       "1pe8LOgBTDiV/D+TZTszluVrnCzZEhLJh6bSV5CTxq8HuJ9GsnQ9aOkOStUCUVO8AQTogmrB1ENq\n",
       "AEAbFcFmQT65AbTX8Db2z2+fcgOo5e1TVS7qY8sNwISzvFf5CdGfWC6QOxrF43qUqTDoLx/P0tSO\n",
       "bXBM9Zy7hUTyF4gNtX3Nmc0XKvuaB7ygGkMviRRSR8U4I+xzilyz/pLYDF8Szyj2/AbOkTfrLTsE\n",
       "8wAAAABJRU5ErkJggg==\n",
       "\" style=\"display:inline;vertical-align:middle;\" /></a></span>"
      ],
      "text/plain": [
       "{l in {-2^{t - 1} + 1 .. 2^{t - 1}}, l != 0} |- (2 * pi * (delta - (l / 2^{t}))) in Real"
      ]
     },
     "execution_count": 19,
     "metadata": {},
     "output_type": "execute_result"
    }
   ],
   "source": [
    "InSet(theta_temp, Real).prove()"
   ]
  },
  {
   "cell_type": "markdown",
   "metadata": {},
   "source": [
    "Establish that lhs is Complex:"
   ]
  },
  {
   "cell_type": "code",
   "execution_count": 20,
   "metadata": {},
   "outputs": [
    {
     "data": {
      "text/html": [
       "<span style=\"font-size:20px;\"> <a class=\"ProveItLink\" href=\"../_all_alpha_l_is_complex/thm_proof.ipynb\" style=\"text-decoration: none\">&nbsp;&#x22A2;&nbsp;&nbsp;</a><a class=\"ProveItLink\" href=\"../../../__pv_it/theorems/35f789298544c445041dc56cdacbb75809d1e28e0/expr.ipynb\"><img src=\"data:image/png;base64,iVBORw0KGgoAAAANSUhEUgAAAHsAAAAVBAMAAACUF4xmAAAAMFBMVEX///+IiIgiIiIQEBB2dnbu\n",
       "7u5ERETMzMzc3NwyMjK6urpmZmaYmJiqqqpUVFQAAAB6qHgnAAAAAXRSTlMAQObYZgAAAAlwSFlz\n",
       "AAAOxAAADsQBlSsOGwAAAh9JREFUOMuFVE1oE0EU/tLsbjabNO7BShEsZS+FnoqUnHOwJxWmWAVB\n",
       "JLR2pe0l0FwrqR61JZeCHoQI9SCIrFC0/kDToxSk9FIEDwEPHoQ29l7oe7MzSauz6TvMz/vem3nf\n",
       "e28GSBYXvaXWG76SiExNvxis4hWtWrz9abLpLyV5p3417a0FpJrAZ94/NxndTbz8/TqQXwDWgEdM\n",
       "smwy+prknYlmafwD7ABZAVi7Jqux/zSXgqBOU0HwdfeAtECeCGSN1Ov/at4MxLPjRvEiS75Xg2Dc\n",
       "5J7jzFnXfnfruKYWqxmVVIvy/hGYNbnz0e4obtVWtELXueo140WeAlyF24J9GCsKxesPVGR9lJC0\n",
       "DycaUGCH4lPPV/woPY6wGsAPSuhQ2OirWZMixtKk3SIO9RKDJIsBSVlyV8Fn2nSEz8duAF8qFA6W\n",
       "nqHrXiR+44JBkjv6dkeoQntcnPo2DaOyh0giFTsHb/8l92MGpUK7e7LuHt08TPNNyqjdVofnVyr6\n",
       "DiLI7mMMylb1O133joZPZMxRPGnJIr+VyKSlbbgqH6iz2hXdAS87PT+3ae9FqraFilx8C8NwF6UJ\n",
       "3FZ5ocisG9tiw8+pTN2fF/rFzRxtMp2GJvoaVUlrv4kJpRtBF4xlfTo404qP9eJCivLJEefgDSvd\n",
       "zinQLJ1HlbsM9yHN3w8uzrV07mpd0PwbnXmoU2HYOL23y+d8Vk7v32r5HPdB4ATNIXEjYwBgOwAA\n",
       "AABJRU5ErkJggg==\n",
       "\" style=\"display:inline;vertical-align:middle;\" /></a></span>"
      ],
      "text/plain": [
       "|- forall_{l in Integer} (alpha_{l} in Complex)"
      ]
     },
     "execution_count": 20,
     "metadata": {},
     "output_type": "execute_result"
    }
   ],
   "source": [
    "_all_alpha_l_is_complex"
   ]
  },
  {
   "cell_type": "code",
   "execution_count": 21,
   "metadata": {},
   "outputs": [
    {
     "data": {
      "text/html": [
       "<strong id=\"all_alpha_l_is_complex_inst\">all_alpha_l_is_complex_inst:</strong> <span style=\"font-size:20px;\"><a class=\"ProveItLink\" href=\"../../../__pv_it/theorems/8bc9b38cf75c7371ab646fd064ad09fc02345f250/expr.ipynb\"><img src=\"data:image/png;base64,iVBORw0KGgoAAAANSUhEUgAAANYAAAAYBAMAAAB0Lx7ZAAAAMFBMVEX///+qqqq6urru7u4QEBBE\n",
       "RERUVFTc3NyIiIgyMjJmZmaYmJjMzMwiIiJ2dnYAAACPW0xlAAAAAXRSTlMAQObYZgAAAAlwSFlz\n",
       "AAAOxAAADsQBlSsOGwAAAeBJREFUSMdjYCAMOAugDOadDMQD8nTZwxgnemmuSxLOkqW6LiMFFG7d\n",
       "zTdk2IWmq7AAqyqOSQaoAhPJ8heqLp5UkKFv/6ApkkeyqmplDAPDZzx28VzGYg02XawJQIL7A5rK\n",
       "twgmewDDewUmBwaeUCAIx2KX2crPmFZh1cV3AUhwTcBtF1sBA4sDR4INhr+YNsACHItdWHWB7eJt\n",
       "gIi03r07Ad0uls8MbN+5Gh5j2MXYgMcurLrAdtUfAAtoNmPz1wUGtj88qw/A0tb8F8TYhVUX2K79\n",
       "kDCejC0MQd7+gC2R4bULqy6wXamoJQoDw0oUNecbyLELUxeHA5DwgNiFSEXeKGquMZBjF6Yu9o/A\n",
       "DPIdzDxyFwgCQGKZwFKDeS6IexcY4lwBmAZx3b17xffu3QTcdmHTZTYR4jcGBlO42KlgZBXbGMjx\n",
       "FzZdLxWA+RlcTPAiBMOQzXzAUE66Xdh0MQIV8m94ANbTgDUdnmNgaCbdLmy6+IDhx6/cgFZUIpdR\n",
       "t1atuoDXLj5IdDP/hBG4dIHSPPc6aNQFGWDaxfv///8J+OxiS/mZDWbcghM4dPEh264Xi1lG4QSM\n",
       "DQwkAj6s4UOMXfCyl0K7WhhoAbiwxkW9AC3sMsEaEuzLaGBZXSIDAwB4aaUFdo5x/QAAAABJRU5E\n",
       "rkJggg==\n",
       "\" style=\"display:inline;vertical-align:middle;\" /></a> <a class=\"ProveItLink\" href=\"../../../__pv_it/_proof__alpha_l_summed_abs/e9f1ad023b8804732e98e8d4782418020f9fa9730/proof.ipynb\" style=\"text-decoration: none\">&nbsp;&#x22A2;&nbsp;&nbsp;</a><a class=\"ProveItLink\" href=\"../../../__pv_it/theorems/0d759977af41403593a50489d35ed5ac7ed3b0d90/expr.ipynb\"><img src=\"data:image/png;base64,iVBORw0KGgoAAAANSUhEUgAAADwAAAASBAMAAAD1dKAHAAAAMFBMVEX///+YmJgyMjJmZmZERESI\n",
       "iIiqqqoQEBDu7u66uroiIiLc3NzMzMxUVFR2dnYAAAB9mGmPAAAAAXRSTlMAQObYZgAAAAlwSFlz\n",
       "AAAOxAAADsQBlSsOGwAAAPBJREFUKM9jYMABOJ4sUt3zAJcsQ2whQ/MXA1yyzJFAnSI4pQ+zNDAw\n",
       "8GJIh6xapQCib7CA7BdAk50UAWU4bIYJvXt7AMbk1oAxLpyDsnZN4KjmToCwmTZABXkeTISyShkY\n",
       "nFkbej+ApeHGGEyF+gAobsTHwAZ20PFVQOAAtnsfRJodyHv+goEZHEAtcDd6sEDo/gAGhvcJDFwT\n",
       "QBwuuPRkkL8ZJjDwA6WfA1WBBVkDEKF2AUgoMDA7MDDa8zAkQUTVEOGjvKFtMcjbghHMTxnsIIK9\n",
       "ng3wGKtfvAGueCVUeJ4XJFDRwIcABnzAdAJWYQC2KDplSIQKVwAAAABJRU5ErkJggg==\n",
       "\" style=\"display:inline;vertical-align:middle;\" /></a></span><br>"
      ],
      "text/plain": [
       "all_alpha_l_is_complex_inst: {l in {-2^{t - 1} + 1 .. 2^{t - 1}}} |- alpha_{l} in Complex"
      ]
     },
     "execution_count": 21,
     "metadata": {},
     "output_type": "execute_result"
    }
   ],
   "source": [
    "all_alpha_l_is_complex_inst = _all_alpha_l_is_complex.instantiate()"
   ]
  },
  {
   "cell_type": "markdown",
   "metadata": {},
   "source": [
    "Now we can use our `Complex.abs_both_sides_of_equals()` method, and take advantage of some auto-simplification:"
   ]
  },
  {
   "cell_type": "code",
   "execution_count": 22,
   "metadata": {},
   "outputs": [
    {
     "data": {
      "text/html": [
       "<strong id=\"alpha_l_summed_abs_01\">alpha_l_summed_abs_01:</strong> <span style=\"font-size:20px;\"><a class=\"ProveItLink\" href=\"../../../__pv_it/theorems/8bc9b38cf75c7371ab646fd064ad09fc02345f250/expr.ipynb\"><img src=\"data:image/png;base64,iVBORw0KGgoAAAANSUhEUgAAANYAAAAYBAMAAAB0Lx7ZAAAAMFBMVEX///+qqqq6urru7u4QEBBE\n",
       "RERUVFTc3NyIiIgyMjJmZmaYmJjMzMwiIiJ2dnYAAACPW0xlAAAAAXRSTlMAQObYZgAAAAlwSFlz\n",
       "AAAOxAAADsQBlSsOGwAAAeBJREFUSMdjYCAMOAugDOadDMQD8nTZwxgnemmuSxLOkqW6LiMFFG7d\n",
       "zTdk2IWmq7AAqyqOSQaoAhPJ8heqLp5UkKFv/6ApkkeyqmplDAPDZzx28VzGYg02XawJQIL7A5rK\n",
       "twgmewDDewUmBwaeUCAIx2KX2crPmFZh1cV3AUhwTcBtF1sBA4sDR4INhr+YNsACHItdWHWB7eJt\n",
       "gIi03r07Ad0uls8MbN+5Gh5j2MXYgMcurLrAdtUfAAtoNmPz1wUGtj88qw/A0tb8F8TYhVUX2K79\n",
       "kDCejC0MQd7+gC2R4bULqy6wXamoJQoDw0oUNecbyLELUxeHA5DwgNiFSEXeKGquMZBjF6Yu9o/A\n",
       "DPIdzDxyFwgCQGKZwFKDeS6IexcY4lwBmAZx3b17xffu3QTcdmHTZTYR4jcGBlO42KlgZBXbGMjx\n",
       "FzZdLxWA+RlcTPAiBMOQzXzAUE66Xdh0MQIV8m94ANbTgDUdnmNgaCbdLmy6+IDhx6/cgFZUIpdR\n",
       "t1atuoDXLj5IdDP/hBG4dIHSPPc6aNQFGWDaxfv///8J+OxiS/mZDWbcghM4dPEh264Xi1lG4QSM\n",
       "DQwkAj6s4UOMXfCyl0K7WhhoAbiwxkW9AC3sMsEaEuzLaGBZXSIDAwB4aaUFdo5x/QAAAABJRU5E\n",
       "rkJggg==\n",
       "\" style=\"display:inline;vertical-align:middle;\" /></a>, <a class=\"ProveItLink\" href=\"../../../__pv_it/theorems/b38b045a9246dd5ac239f68f921874310f53aad00/expr.ipynb\"><img src=\"data:image/png;base64,iVBORw0KGgoAAAANSUhEUgAAAC0AAAAUCAMAAAAusUTNAAAAPFBMVEX///8NDQ0WFhYLCwsYGBiq\n",
       "qqq6urru7u4QEBBERERUVFTc3NyIiIgyMjJmZmaYmJjMzMwiIiJ2dnYAAABsuYCuAAAAAXRSTlMA\n",
       "QObYZgAAAAlwSFlzAAAOxAAADsQBlSsOGwAAAMhJREFUKM+VkusShCAIhd2Loal4e/93XZGp1bIa\n",
       "+cGEHT8PohBXgTBcTjGH82rQnSZZNPzp84ChW4KTQkBkOboBem0KHyufT4t2gDZtUbfKTJ2Yge2l\n",
       "RYuM9bgsL2y7Fg2b2pe8Nt1jrPH9UN74JidWk2Nl79F/daJkTq6xK4HVC7GtekBvXUrqslwP9L7f\n",
       "L3a/34vWPMSiK52mA/r4Qrzah5gX6NuUeLIWafKKxuLxCV2UmOwaRk9SJjERDibEfgodZ9Ai3P38\n",
       "AUNKCPHed8bwAAAAAElFTkSuQmCC\n",
       "\" style=\"display:inline;vertical-align:middle;\" /></a> <a class=\"ProveItLink\" href=\"../../../__pv_it/_proof__alpha_l_summed_abs/0e854a50b9863cd7b60877370b4fbbb16377427a0/proof.ipynb\" style=\"text-decoration: none\">&nbsp;&#x22A2;&nbsp;&nbsp;</a><a class=\"ProveItLink\" href=\"../../../__pv_it/_proof__alpha_l_summed_abs/7212d27c7766883519f77cb05b7b4e9b5383130c0/expr.ipynb\"><img src=\"data:image/png;base64,iVBORw0KGgoAAAANSUhEUgAAAUkAAAA/CAMAAABaWMryAAAAM1BMVEX///9RUVGYmJgyMjJmZmZE\n",
       "RESqqqoQEBDu7u4iIiJUVFTMzMyIiIi6urp2dnbc3NwAAAAnMnCLAAAAAXRSTlMAQObYZgAAAAlw\n",
       "SFlzAAAOxAAADsQBlSsOGwAABzxJREFUeNrtXImSnCAQNRxyCvz/10YRFBABlThbO6Eqqa2a5no2\n",
       "ffF0GPo0JIcvbBTS3kNKOHxlk7jzgJPR34nkgFVfJSfgS4Gctz72HA7B4WvbSDqaSmHEj98w/Gfm\n",
       "h6GOq+SvAaJbf08EqXk0bCwYS4/9fMT4nruRNaOkprzgeGJ/NIIE62FqjeHs+Ik07Oa/2WEkwcq2\n",
       "QyMEccEi6BMPNqqhDUkn6OfRikGVnW+Wm/i8WFl1mYotNmwdP5Yeexk3YeLnTzmCpoikXqBXZioE\n",
       "VSgfB7fpjBcM5oEnysz9QushNjD7k4qlSSdLyY8mSJaR5NYaEFKILfIhAmhE0gkG85wtSHoTD6po\n",
       "2ADFIRlLI9MnoMroTwVJYn/ml80rabRjXnCfZyKnq/fKWg1mmAzscCQ9mS7hNMhYiZpOslWXL5qX\n",
       "ETYi6QX3eWbVo/nZsF8qrKCh7XI9krE06RJP44xqV5B0z/jYUUgg5wxeQzIfOgEJ0lLyzVEi528U\n",
       "MWtDJ0gilc6D5KBySxr5aJy/VLzBTG5IxtKoS/Ri8D0khTlEHtQOxbYIlfFxkfOrdHqg1DQqAaQQ\n",
       "ZzoZKYydRyCQkwZwUVm6/V08SDhEMpYeexzvyah7SLKjDkzW+iwAY/sjttZtWyWzJk3M/0s9SHF+\n",
       "utlYnmc/sHqPYcaKFSYyRDKW1qZDboJywUwDkggHVh9uBxFLq4EOSSuz6S7ZZsJB+BL2dzslU3ae\n",
       "g7hVM5/qCrMHW2xvYlNtHSIpYtNEyHMks6FjHUnAc5krncNfa/3KSAq+2oBM5psiCXghUbba7jGZ\n",
       "ymBIEuVQiTQ2z8sYhg03kLQ5iE7NtKY+FsgiuR3aJVw0Q8vpzs+zKacILN7Iyo6V2yB3O90s2fDj\n",
       "2prOOZwqksLaVpkKjRYzDk6QxNIjMHc8yZDsTr3g2TybFogg+wHl7HnWXxV6HJyUHlCpDNLi2cds\n",
       "XqfKUYFmaGksX+rD2mMIYyR95CGXjkadI+kFz+bZhOUSByUx1hmSEw0j80RaLAqlplpdpWg+jrHM\n",
       "wDkxkINSJGnbIeyYlJRynlVwQjgV3BAuRmwI93URp5uLFvECkl7wbJ4ASrkNw8q7BSt2HpNEmi5G\n",
       "7hmSyHQtvlcCp3pStK6ZXS/OaNZeVctIG/MUSfxmubxeZXBrBteLMwhcQfIgzWbb/QxJ+OqlItaN\n",
       "O8VXV6Ubq7Xr+EfpBYdnSBJDX0SS4kYkKe7+jMLxj9J4jiWeIWnM8GbTtVsCn0Tqa5QQ2arDdvyM\n",
       "NJ/9xVbdUIqLn47kj207knpx65ToQY8ZJFGQiMYVgf9I+hgG+CqzPQ0YLQkBdfcJDTpJ/yOZIOlu\n",
       "IhC0KZGrOTchSWINTVuuXmN+S4uyOumqJ6uvU8RWll0qdB3JUlSNfrVOeiSpy/nUmrG4VKjBTrYj\n",
       "+cvbppMeSbLC84t8N3qn+24n8ZpkmUHsV3MPkYRvZD+gtsarZ4bG1/ekEc7ddysFwOy20VJo2u7w\n",
       "HiFJ39DWsbrJy9YnvgsmjalkGJkHzmGiF7LFJAnZGD/jC5zKBnrLZSTjyuPaHch7SJpBNiPJ4rx7\n",
       "Y+Kcc5q6VjRAM5KOlNawoynTndWqC0tN7IgXktPdqlrAxIHthcu71DXdoHBexJPS6nFdrrvkVY3S\n",
       "jyu907E0ZBk/7UWiu9S12oVBhCRvXE5ilIjHl9atnBS1ukqxNhKzD3YmztRuoO5S1wYztSMpG+/2\n",
       "k6fju9dYQ8/japC7mVqYOOecpszzvEddEy1qT7ZT22ZtvLtNuqOy+9aGPUVyyvA4LBPnjNOU08l7\n",
       "1LX1jrHZdzde7nt3m6o0uQzD1Tgkc3Nn88kTTlPJZh8fSZG6NnA/dYm85hAISGmV0y1zvnuGipaP\n",
       "5vOXDY8AoFsE9uvUNXcpXiGvuYAwIKVdamRbnig73ucR34E6CO7p+XXqmn95pUxeW5OUkJR2C0ld\n",
       "9m6wQ0IHEupgkYlTeCDXqWthoe6cvPbH2gEcqVWWjDZkq49/tiGLSD53OMvDioxThYlz+jxuUNeC\n",
       "F6oK5LVdj8Udvdl1UhRNU4/3QEm4hRoT5ywcvkNdC5AskNfIkJLSWnKujJ3Uxai6R2KsQkNeZeLk\n",
       "H+kt6prjKw9l8tqqk6IlfaVKcWsjgoJFm+/GXerd+nEAcJO6tsd4JfKalYlIaee2evnHluHQmCIJ\n",
       "SDEU7PPiJnxaPrtJXdv1pERec1TcgJR27jYmZw9ZJsfhRa/bp+oFPva9AXIh727ZCF2RDKueTXk3\n",
       "ZH32Q436EJJXakGtVp/ZQjy4UgvSptcXF9Cn7hcF6Y2kfQlYI6CT7sV0Q3W7Z6HmU1+44WNfJDWm\n",
       "+e5Mv7N9+Sml7HyPs8SRSVTbcI+DWMcdsU8pZf3VeXJFI4UQiGbSdlyMAqeOG/rc54J63neTlOzj\n",
       "u6NSVM77fgRE/djP3Ih/3B2QzqRm/JWfVVuuN3tfRVMmvhJJ2P/jXforkaSBmf4L5I9ag+Y5sHMA\n",
       "AAAASUVORK5CYII=\n",
       "\" style=\"display:inline;vertical-align:middle;\" /></a></span><br>"
      ],
      "text/plain": [
       "alpha_l_summed_abs_01: {l in {-2^{t - 1} + 1 .. 2^{t - 1}}, l != 0} |- |alpha_{l}| = ((1 / 2^{t}) * ((2 * sin(pi * |(2^{t} * delta) - l|)) / (2 * sin(pi * |delta - (l / 2^{t})|))))"
      ]
     },
     "execution_count": 22,
     "metadata": {},
     "output_type": "execute_result"
    }
   ],
   "source": [
    "alpha_l_summed_abs_01 = Complex.abs_both_sides_of_equals(alpha_l_summed_inst.expr)"
   ]
  },
  {
   "cell_type": "markdown",
   "metadata": {},
   "source": [
    "Then we use Abs.distribute() to distribute the absolute value over the pieces of the product, and take advantage of some auto_simplification to transform the denominator:"
   ]
  },
  {
   "cell_type": "code",
   "execution_count": 23,
   "metadata": {},
   "outputs": [
    {
     "data": {
      "text/html": [
       "<strong id=\"alpha_l_summed_abs_02\">alpha_l_summed_abs_02:</strong> <span style=\"font-size:20px;\"><a class=\"ProveItLink\" href=\"../../../__pv_it/theorems/8bc9b38cf75c7371ab646fd064ad09fc02345f250/expr.ipynb\"><img src=\"data:image/png;base64,iVBORw0KGgoAAAANSUhEUgAAANYAAAAYBAMAAAB0Lx7ZAAAAMFBMVEX///+qqqq6urru7u4QEBBE\n",
       "RERUVFTc3NyIiIgyMjJmZmaYmJjMzMwiIiJ2dnYAAACPW0xlAAAAAXRSTlMAQObYZgAAAAlwSFlz\n",
       "AAAOxAAADsQBlSsOGwAAAeBJREFUSMdjYCAMOAugDOadDMQD8nTZwxgnemmuSxLOkqW6LiMFFG7d\n",
       "zTdk2IWmq7AAqyqOSQaoAhPJ8heqLp5UkKFv/6ApkkeyqmplDAPDZzx28VzGYg02XawJQIL7A5rK\n",
       "twgmewDDewUmBwaeUCAIx2KX2crPmFZh1cV3AUhwTcBtF1sBA4sDR4INhr+YNsACHItdWHWB7eJt\n",
       "gIi03r07Ad0uls8MbN+5Gh5j2MXYgMcurLrAdtUfAAtoNmPz1wUGtj88qw/A0tb8F8TYhVUX2K79\n",
       "kDCejC0MQd7+gC2R4bULqy6wXamoJQoDw0oUNecbyLELUxeHA5DwgNiFSEXeKGquMZBjF6Yu9o/A\n",
       "DPIdzDxyFwgCQGKZwFKDeS6IexcY4lwBmAZx3b17xffu3QTcdmHTZTYR4jcGBlO42KlgZBXbGMjx\n",
       "FzZdLxWA+RlcTPAiBMOQzXzAUE66Xdh0MQIV8m94ANbTgDUdnmNgaCbdLmy6+IDhx6/cgFZUIpdR\n",
       "t1atuoDXLj5IdDP/hBG4dIHSPPc6aNQFGWDaxfv///8J+OxiS/mZDWbcghM4dPEh264Xi1lG4QSM\n",
       "DQwkAj6s4UOMXfCyl0K7WhhoAbiwxkW9AC3sMsEaEuzLaGBZXSIDAwB4aaUFdo5x/QAAAABJRU5E\n",
       "rkJggg==\n",
       "\" style=\"display:inline;vertical-align:middle;\" /></a>, <a class=\"ProveItLink\" href=\"../../../__pv_it/theorems/b38b045a9246dd5ac239f68f921874310f53aad00/expr.ipynb\"><img src=\"data:image/png;base64,iVBORw0KGgoAAAANSUhEUgAAAC0AAAAUCAMAAAAusUTNAAAAPFBMVEX///8NDQ0WFhYLCwsYGBiq\n",
       "qqq6urru7u4QEBBERERUVFTc3NyIiIgyMjJmZmaYmJjMzMwiIiJ2dnYAAABsuYCuAAAAAXRSTlMA\n",
       "QObYZgAAAAlwSFlzAAAOxAAADsQBlSsOGwAAAMhJREFUKM+VkusShCAIhd2Loal4e/93XZGp1bIa\n",
       "+cGEHT8PohBXgTBcTjGH82rQnSZZNPzp84ChW4KTQkBkOboBem0KHyufT4t2gDZtUbfKTJ2Yge2l\n",
       "RYuM9bgsL2y7Fg2b2pe8Nt1jrPH9UN74JidWk2Nl79F/daJkTq6xK4HVC7GtekBvXUrqslwP9L7f\n",
       "L3a/34vWPMSiK52mA/r4Qrzah5gX6NuUeLIWafKKxuLxCV2UmOwaRk9SJjERDibEfgodZ9Ai3P38\n",
       "AUNKCPHed8bwAAAAAElFTkSuQmCC\n",
       "\" style=\"display:inline;vertical-align:middle;\" /></a> <a class=\"ProveItLink\" href=\"../../../__pv_it/_proof__alpha_l_summed_abs/68a524e0171693799a2f25fc2de16dbf626a72af0/proof.ipynb\" style=\"text-decoration: none\">&nbsp;&#x22A2;&nbsp;&nbsp;</a><a class=\"ProveItLink\" href=\"../../../__pv_it/_proof__alpha_l_summed_abs/c86a59e53917925fc7e64f4b4320c9e3e9d6d4fa0/expr.ipynb\"><img src=\"data:image/png;base64,iVBORw0KGgoAAAANSUhEUgAAAQcAAAA3CAMAAAA2eH+MAAAANlBMVEX///8MDAwGBgaYmJgyMjJm\n",
       "ZmZERESqqqoQEBDu7u4iIiJUVFTMzMyIiIi6urp2dnbc3NwAAABSWCMZAAAAAXRSTlMAQObYZgAA\n",
       "AAlwSFlzAAAOxAAADsQBlSsOGwAABZhJREFUaN7lW9eW4ygQZYcgcvj/n10JAUIWSWq89k7z0KeP\n",
       "KdKlEnVtAP53DVnwNzU73H+WZO5H054FPw+pWjoCRpclF1Q5F0aUWKDV4Ab8/MPSXVQxRkQ2+iks\n",
       "fr4YMIjDLhnXsYYjU1xvFdOCrbDB7szcyTh/X3oMBrLN63RVQDtc+pghMIjDLpmtgyqKtGGw+w/W\n",
       "mxq6Y/6+9EgT3sAorUuUl8FwFIddMlvHVTauRDwl7k2N0TF/X3qkUb8r4e76GwpGcaAv6+jaUOai\n",
       "otDeFXOV2R2doRCC+79O3hu2oFEcguSxznrtrLwaiZqCOspm/XYjDmiOh/D4XkOZVFApBCyiq7pK\n",
       "RLFVSiTnjIOXNNTtDddwwOZlHayAKd3gIhZHwkgx4B4SDj3p8SbdJfowv6XtEpFfhotlk4vmE+7A\n",
       "GL0YCZWUVX3Ib8uvIzEsSUO0qQtL/zeVmOQ4QDRNHa6Iam91GzzEdxJv1S4eintTlutfZYGSDbvg\n",
       "S3OdQ9VXiJdgnkvH+1B1ist0EgyYZL4KJRUmyt9+wMHLJL2hKdCSLOCdJgj7PCTzdS7S/oplwEG6\n",
       "Izzzo8mkVjbHQbo5MMD8lng0dLYmK97q2zhIsVvPdYILDrCgDUnaa1o8kW7fsKKnPE3P0Qef7tnX\n",
       "uGmZ90eygkPS9i07cGDELsrrJMWQmaUvvLnjdUcstws+xUd6f65ePfjiTyxgBQei4v7XgZVsdN9n\n",
       "lKysE5vHIWaakDS3vOqOyf0k6bzPRnIjy/HWLpAu3k+uz56AADrjEGOV2gY608AhSNbWScJqi5wv\n",
       "UbmGg2Z5HhWkje4++JqZg2+X0KONUmqdQApKBZPCUSEX4mjYqgwHItsNihYOQbK2TgaEStPw9sbh\n",
       "fvJ4vCD9Mxweh9p+AhqW5/Lu3HbM4MP8UfozOAy8bh6/gzC8g0OU/gwO3nWM1R/IzTecJTfqMIf0\n",
       "h3BgZBQHRmYjfIpH9rM4ANuriKV0296qnalR9fHzH9Lp2WWMkP8hDt/Wgpls0YNRC+xSwAFnWToX\n",
       "fzMO+xOM4C1jY8L9Vn3ALtbtzFED+oU4UBLKQ77U0800U4b69zR/WhYSf7OXOi+Z5q/xDxEHuj8C\n",
       "f2282Es9cHUT8igmfz0ONzPu6P/Lo8Pz1kC4hgq8vV9TMfnDOMDe+ncLSWe2gJ7BuJ6WazYVh4c8\n",
       "/dK97rs4nOsS9PwYuZ7WATUTB/asDjrAgEYcAtPdf+zr62ioqjhgpYdxqNLdR0ebu6rx4YDAYRwi\n",
       "033vQsJozia8s6p0d+qo8/ShcFXmw1d8wDAOgj1wD3F0pIeV7D746q1Kd2cdqP2FDzZiy20clHjg\n",
       "HuJo5ibwvFW6O+t4to7T4zgcTHfHPbDS6Bk8b5XuPjqe0SRyBL00MxnCOvr/l9GYgEmNu0ZHhadv\n",
       "8+F7QR+0CfF4kozpbtuF0kWrmsVvFujurKPM03f4cCDCk7dFiMfIlzHdt2w6eWo2SR1Eq6PM03f4\n",
       "8MD+tAnxkAnlTPcTHOSDsUV1K9HdZcPL+tt8eNAS33OKi6cV/njNyZnuMsFdbn9ihHZT8sUy3Q06\n",
       "/HSHDz8EXwnxfIV/kg71uPtLtSGO9tDOwKFKQzf56R4ffuhDgxD3mn1mukcS4EtWPsMuqjR0h5/u\n",
       "8OEJhxYhvp/kxHTXszVjhDev9J7I/MPPv1xcpaF7/HSHDw9fYWoT4vtJTkx3s1Sx7UZxvLwhXlRp\n",
       "6B4/3eHDU1BvEeLhJDnT3UxPvQHwS7yAs/KHdzR9K58c8OZsxyF7zad88qsLrlRPxcErDvfFHfiG\n",
       "98Uba49mNg5yqzRYDO0b3pvva5JOxsESVhwNv5yHEMtUHLa84ZzNxHrUl//K6UZ9ckgbpJS4UH+A\n",
       "Cnx56/9i5wYONKXTL680Ar6+dfmLn+XDfnRSkX8B1h9QdlvnVH0AAAAASUVORK5CYII=\n",
       "\" style=\"display:inline;vertical-align:middle;\" /></a></span><br>"
      ],
      "text/plain": [
       "alpha_l_summed_abs_02: {l in {-2^{t - 1} + 1 .. 2^{t - 1}}, l != 0} |- |alpha_{l}| = ((2 * sin(pi * |(2^{t} * delta) - l|)) / (2 * 2^{t} * sin(pi * |delta - (l / 2^{t})|)))"
      ]
     },
     "execution_count": 23,
     "metadata": {},
     "output_type": "execute_result"
    }
   ],
   "source": [
    "alpha_l_summed_abs_02 = alpha_l_summed_abs_01.inner_expr().rhs.distribute(assumptions=[*defaults.assumptions, *extra_assumptions])"
   ]
  },
  {
   "cell_type": "code",
   "execution_count": 24,
   "metadata": {},
   "outputs": [
    {
     "ename": "ProofFailure",
     "evalue": "Unable to prove forall_{l in {-2^{t - 1} + 1 .. 2^{t - 1}} | l != 0} (|alpha_{l}| = (|1 - e^{2 * pi * i * ((2^{t} * delta) - l)}| / (2^{t} * 2 * sin(pi * |delta - (l / 2^{t})|)))):\nUnable to conclude automatically; the domain has no 'prove_by_cases' method and automated generalization failed.",
     "output_type": "error",
     "traceback": [
      "\u001b[0;31m---------------------------------------------------------------------------\u001b[0m",
      "\u001b[0;31mProofFailure\u001b[0m                              Traceback (most recent call last)",
      "\u001b[0;32m/home/wwitzel/Prove-It/packages/proveit/_core_/expression/expr.py\u001b[0m in \u001b[0;36mprove\u001b[0;34m(self, **defaults_config)\u001b[0m\n\u001b[1;32m    802\u001b[0m                     concluded_truth = self.conclude_via_implication(\n\u001b[0;32m--> 803\u001b[0;31m                             assumptions=assumptions)\n\u001b[0m\u001b[1;32m    804\u001b[0m                 \u001b[0;32mexcept\u001b[0m \u001b[0mProofFailure\u001b[0m\u001b[0;34m:\u001b[0m\u001b[0;34m\u001b[0m\u001b[0;34m\u001b[0m\u001b[0m\n",
      "\u001b[0;32m/home/wwitzel/Prove-It/packages/proveit/decorators.py\u001b[0m in \u001b[0;36mdecorated_prover\u001b[0;34m(*args, **kwargs)\u001b[0m\n\u001b[1;32m    138\u001b[0m                 \u001b[0mkwargs\u001b[0m\u001b[0;34m.\u001b[0m\u001b[0mupdate\u001b[0m\u001b[0;34m(\u001b[0m\u001b[0mpublic_attributes_dict\u001b[0m\u001b[0;34m(\u001b[0m\u001b[0mdefaults\u001b[0m\u001b[0;34m)\u001b[0m\u001b[0;34m)\u001b[0m\u001b[0;34m\u001b[0m\u001b[0;34m\u001b[0m\u001b[0m\n\u001b[0;32m--> 139\u001b[0;31m                 \u001b[0mproven_truth\u001b[0m \u001b[0;34m=\u001b[0m \u001b[0mchecked_truth\u001b[0m\u001b[0;34m(\u001b[0m\u001b[0mfunc\u001b[0m\u001b[0;34m(\u001b[0m\u001b[0;34m*\u001b[0m\u001b[0margs\u001b[0m\u001b[0;34m,\u001b[0m \u001b[0;34m**\u001b[0m\u001b[0mkwargs\u001b[0m\u001b[0;34m)\u001b[0m\u001b[0;34m)\u001b[0m\u001b[0;34m\u001b[0m\u001b[0;34m\u001b[0m\u001b[0m\n\u001b[0m\u001b[1;32m    140\u001b[0m         \u001b[0;32melse\u001b[0m\u001b[0;34m:\u001b[0m\u001b[0;34m\u001b[0m\u001b[0;34m\u001b[0m\u001b[0m\n",
      "\u001b[0;32m/home/wwitzel/Prove-It/packages/proveit/_core_/expression/expr.py\u001b[0m in \u001b[0;36mconclude_via_implication\u001b[0;34m(self, **defaults_config)\u001b[0m\n\u001b[1;32m    897\u001b[0m         \u001b[0;32mfrom\u001b[0m \u001b[0mproveit\u001b[0m\u001b[0;34m.\u001b[0m\u001b[0mlogic\u001b[0m \u001b[0;32mimport\u001b[0m \u001b[0mconclude_via_implication\u001b[0m\u001b[0;34m\u001b[0m\u001b[0;34m\u001b[0m\u001b[0m\n\u001b[0;32m--> 898\u001b[0;31m         \u001b[0;32mreturn\u001b[0m \u001b[0mconclude_via_implication\u001b[0m\u001b[0;34m(\u001b[0m\u001b[0mself\u001b[0m\u001b[0;34m)\u001b[0m\u001b[0;34m\u001b[0m\u001b[0;34m\u001b[0m\u001b[0m\n\u001b[0m\u001b[1;32m    899\u001b[0m \u001b[0;34m\u001b[0m\u001b[0m\n",
      "\u001b[0;32m/home/wwitzel/Prove-It/packages/proveit/decorators.py\u001b[0m in \u001b[0;36mdecorated_prover\u001b[0;34m(*args, **kwargs)\u001b[0m\n\u001b[1;32m    142\u001b[0m             \u001b[0mkwargs\u001b[0m\u001b[0;34m.\u001b[0m\u001b[0mupdate\u001b[0m\u001b[0;34m(\u001b[0m\u001b[0mpublic_attributes_dict\u001b[0m\u001b[0;34m(\u001b[0m\u001b[0mdefaults\u001b[0m\u001b[0;34m)\u001b[0m\u001b[0;34m)\u001b[0m\u001b[0;34m\u001b[0m\u001b[0;34m\u001b[0m\u001b[0m\n\u001b[0;32m--> 143\u001b[0;31m             \u001b[0mproven_truth\u001b[0m \u001b[0;34m=\u001b[0m \u001b[0mchecked_truth\u001b[0m\u001b[0;34m(\u001b[0m\u001b[0mfunc\u001b[0m\u001b[0;34m(\u001b[0m\u001b[0;34m*\u001b[0m\u001b[0margs\u001b[0m\u001b[0;34m,\u001b[0m \u001b[0;34m**\u001b[0m\u001b[0mkwargs\u001b[0m\u001b[0;34m)\u001b[0m\u001b[0;34m)\u001b[0m\u001b[0;34m\u001b[0m\u001b[0;34m\u001b[0m\u001b[0m\n\u001b[0m\u001b[1;32m    144\u001b[0m \u001b[0;34m\u001b[0m\u001b[0m\n",
      "\u001b[0;32m/home/wwitzel/Prove-It/packages/proveit/logic/booleans/implication/implies.py\u001b[0m in \u001b[0;36mconclude_via_implication\u001b[0;34m(consequent, **defaults_config)\u001b[0m\n\u001b[1;32m    433\u001b[0m         \u001b[0mdefaults\u001b[0m\u001b[0;34m.\u001b[0m\u001b[0massumptions\u001b[0m\u001b[0;34m,\u001b[0m\u001b[0;34m\u001b[0m\u001b[0;34m\u001b[0m\u001b[0m\n\u001b[0;32m--> 434\u001b[0;31m         'Unable to conclude via implications')\n\u001b[0m\u001b[1;32m    435\u001b[0m \u001b[0;34m\u001b[0m\u001b[0m\n",
      "\u001b[0;31mProofFailure\u001b[0m: Unable to prove forall_{l in {-2^{t - 1} + 1 .. 2^{t - 1}} | l != 0} (|alpha_{l}| = (|1 - e^{2 * pi * i * ((2^{t} * delta) - l)}| / (2^{t} * 2 * sin(pi * |delta - (l / 2^{t})|)))):\nUnable to conclude via implications",
      "\nDuring handling of the above exception, another exception occurred:\n",
      "\u001b[0;31mProofFailure\u001b[0m                              Traceback (most recent call last)",
      "\u001b[0;32m/home/wwitzel/Prove-It/packages/proveit/_core_/expression/expr.py\u001b[0m in \u001b[0;36mprove\u001b[0;34m(self, **defaults_config)\u001b[0m\n\u001b[1;32m    802\u001b[0m                     concluded_truth = self.conclude_via_implication(\n\u001b[0;32m--> 803\u001b[0;31m                             assumptions=assumptions)\n\u001b[0m\u001b[1;32m    804\u001b[0m                 \u001b[0;32mexcept\u001b[0m \u001b[0mProofFailure\u001b[0m\u001b[0;34m:\u001b[0m\u001b[0;34m\u001b[0m\u001b[0;34m\u001b[0m\u001b[0m\n",
      "\u001b[0;32m/home/wwitzel/Prove-It/packages/proveit/decorators.py\u001b[0m in \u001b[0;36mdecorated_prover\u001b[0;34m(*args, **kwargs)\u001b[0m\n\u001b[1;32m    138\u001b[0m                 \u001b[0mkwargs\u001b[0m\u001b[0;34m.\u001b[0m\u001b[0mupdate\u001b[0m\u001b[0;34m(\u001b[0m\u001b[0mpublic_attributes_dict\u001b[0m\u001b[0;34m(\u001b[0m\u001b[0mdefaults\u001b[0m\u001b[0;34m)\u001b[0m\u001b[0;34m)\u001b[0m\u001b[0;34m\u001b[0m\u001b[0;34m\u001b[0m\u001b[0m\n\u001b[0;32m--> 139\u001b[0;31m                 \u001b[0mproven_truth\u001b[0m \u001b[0;34m=\u001b[0m \u001b[0mchecked_truth\u001b[0m\u001b[0;34m(\u001b[0m\u001b[0mfunc\u001b[0m\u001b[0;34m(\u001b[0m\u001b[0;34m*\u001b[0m\u001b[0margs\u001b[0m\u001b[0;34m,\u001b[0m \u001b[0;34m**\u001b[0m\u001b[0mkwargs\u001b[0m\u001b[0;34m)\u001b[0m\u001b[0;34m)\u001b[0m\u001b[0;34m\u001b[0m\u001b[0;34m\u001b[0m\u001b[0m\n\u001b[0m\u001b[1;32m    140\u001b[0m         \u001b[0;32melse\u001b[0m\u001b[0;34m:\u001b[0m\u001b[0;34m\u001b[0m\u001b[0;34m\u001b[0m\u001b[0m\n",
      "\u001b[0;32m/home/wwitzel/Prove-It/packages/proveit/_core_/expression/expr.py\u001b[0m in \u001b[0;36mconclude_via_implication\u001b[0;34m(self, **defaults_config)\u001b[0m\n\u001b[1;32m    897\u001b[0m         \u001b[0;32mfrom\u001b[0m \u001b[0mproveit\u001b[0m\u001b[0;34m.\u001b[0m\u001b[0mlogic\u001b[0m \u001b[0;32mimport\u001b[0m \u001b[0mconclude_via_implication\u001b[0m\u001b[0;34m\u001b[0m\u001b[0;34m\u001b[0m\u001b[0m\n\u001b[0;32m--> 898\u001b[0;31m         \u001b[0;32mreturn\u001b[0m \u001b[0mconclude_via_implication\u001b[0m\u001b[0;34m(\u001b[0m\u001b[0mself\u001b[0m\u001b[0;34m)\u001b[0m\u001b[0;34m\u001b[0m\u001b[0;34m\u001b[0m\u001b[0m\n\u001b[0m\u001b[1;32m    899\u001b[0m \u001b[0;34m\u001b[0m\u001b[0m\n",
      "\u001b[0;32m/home/wwitzel/Prove-It/packages/proveit/decorators.py\u001b[0m in \u001b[0;36mdecorated_prover\u001b[0;34m(*args, **kwargs)\u001b[0m\n\u001b[1;32m    142\u001b[0m             \u001b[0mkwargs\u001b[0m\u001b[0;34m.\u001b[0m\u001b[0mupdate\u001b[0m\u001b[0;34m(\u001b[0m\u001b[0mpublic_attributes_dict\u001b[0m\u001b[0;34m(\u001b[0m\u001b[0mdefaults\u001b[0m\u001b[0;34m)\u001b[0m\u001b[0;34m)\u001b[0m\u001b[0;34m\u001b[0m\u001b[0;34m\u001b[0m\u001b[0m\n\u001b[0;32m--> 143\u001b[0;31m             \u001b[0mproven_truth\u001b[0m \u001b[0;34m=\u001b[0m \u001b[0mchecked_truth\u001b[0m\u001b[0;34m(\u001b[0m\u001b[0mfunc\u001b[0m\u001b[0;34m(\u001b[0m\u001b[0;34m*\u001b[0m\u001b[0margs\u001b[0m\u001b[0;34m,\u001b[0m \u001b[0;34m**\u001b[0m\u001b[0mkwargs\u001b[0m\u001b[0;34m)\u001b[0m\u001b[0;34m)\u001b[0m\u001b[0;34m\u001b[0m\u001b[0;34m\u001b[0m\u001b[0m\n\u001b[0m\u001b[1;32m    144\u001b[0m \u001b[0;34m\u001b[0m\u001b[0m\n",
      "\u001b[0;32m/home/wwitzel/Prove-It/packages/proveit/logic/booleans/implication/implies.py\u001b[0m in \u001b[0;36mconclude_via_implication\u001b[0;34m(consequent, **defaults_config)\u001b[0m\n\u001b[1;32m    433\u001b[0m         \u001b[0mdefaults\u001b[0m\u001b[0;34m.\u001b[0m\u001b[0massumptions\u001b[0m\u001b[0;34m,\u001b[0m\u001b[0;34m\u001b[0m\u001b[0;34m\u001b[0m\u001b[0m\n\u001b[0;32m--> 434\u001b[0;31m         'Unable to conclude via implications')\n\u001b[0m\u001b[1;32m    435\u001b[0m \u001b[0;34m\u001b[0m\u001b[0m\n",
      "\u001b[0;31mProofFailure\u001b[0m: Unable to prove |alpha_{l}| = (|1 - e^{2 * pi * i * ((2^{t} * delta) - l)}| / (2^{t} * 2 * sin(pi * |delta - (l / 2^{t})|))) assuming {l in {-2^{t - 1} + 1 .. 2^{t - 1}}, l != 0}:\nUnable to conclude via implications",
      "\nDuring handling of the above exception, another exception occurred:\n",
      "\u001b[0;31mTransitivityException\u001b[0m                     Traceback (most recent call last)",
      "\u001b[0;32m/home/wwitzel/Prove-It/packages/proveit/relation/transitivity.py\u001b[0m in \u001b[0;36mconclude_via_transitivity\u001b[0;34m(self, **defaults_config)\u001b[0m\n\u001b[1;32m     87\u001b[0m             proven_relation = self.__class__._transitivity_search(\n\u001b[0;32m---> 88\u001b[0;31m                 self.normal_lhs, self.normal_rhs)\n\u001b[0m\u001b[1;32m     89\u001b[0m         \u001b[0;32mexcept\u001b[0m \u001b[0mTransitivityException\u001b[0m \u001b[0;32mas\u001b[0m \u001b[0me\u001b[0m\u001b[0;34m:\u001b[0m\u001b[0;34m\u001b[0m\u001b[0;34m\u001b[0m\u001b[0m\n",
      "\u001b[0;32m/home/wwitzel/Prove-It/packages/proveit/decorators.py\u001b[0m in \u001b[0;36mdecorated_prover\u001b[0;34m(*args, **kwargs)\u001b[0m\n\u001b[1;32m    142\u001b[0m             \u001b[0mkwargs\u001b[0m\u001b[0;34m.\u001b[0m\u001b[0mupdate\u001b[0m\u001b[0;34m(\u001b[0m\u001b[0mpublic_attributes_dict\u001b[0m\u001b[0;34m(\u001b[0m\u001b[0mdefaults\u001b[0m\u001b[0;34m)\u001b[0m\u001b[0;34m)\u001b[0m\u001b[0;34m\u001b[0m\u001b[0;34m\u001b[0m\u001b[0m\n\u001b[0;32m--> 143\u001b[0;31m             \u001b[0mproven_truth\u001b[0m \u001b[0;34m=\u001b[0m \u001b[0mchecked_truth\u001b[0m\u001b[0;34m(\u001b[0m\u001b[0mfunc\u001b[0m\u001b[0;34m(\u001b[0m\u001b[0;34m*\u001b[0m\u001b[0margs\u001b[0m\u001b[0;34m,\u001b[0m \u001b[0;34m**\u001b[0m\u001b[0mkwargs\u001b[0m\u001b[0;34m)\u001b[0m\u001b[0;34m)\u001b[0m\u001b[0;34m\u001b[0m\u001b[0;34m\u001b[0m\u001b[0m\n\u001b[0m\u001b[1;32m    144\u001b[0m \u001b[0;34m\u001b[0m\u001b[0m\n",
      "\u001b[0;32m/home/wwitzel/Prove-It/packages/proveit/relation/transitivity.py\u001b[0m in \u001b[0;36m_transitivity_search\u001b[0;34m(cls, left_item, right_item, **defaults_config)\u001b[0m\n\u001b[1;32m    559\u001b[0m                                     presorted_pair=True)\n\u001b[0;32m--> 560\u001b[0;31m         \u001b[0mlist\u001b[0m\u001b[0;34m(\u001b[0m\u001b[0msorter\u001b[0m\u001b[0;34m)\u001b[0m  \u001b[0;31m# should prove desired relation\u001b[0m\u001b[0;34m\u001b[0m\u001b[0;34m\u001b[0m\u001b[0m\n\u001b[0m\u001b[1;32m    561\u001b[0m         \u001b[0;31m# Return the proven relation.\u001b[0m\u001b[0;34m\u001b[0m\u001b[0;34m\u001b[0m\u001b[0;34m\u001b[0m\u001b[0m\n",
      "\u001b[0;32m/home/wwitzel/Prove-It/packages/proveit/relation/sorter.py\u001b[0m in \u001b[0;36m_generate_next_items\u001b[0;34m(self)\u001b[0m\n\u001b[1;32m    273\u001b[0m                    \" the remaining items: \" + str(self.remaining_items))\n\u001b[0;32m--> 274\u001b[0;31m             \u001b[0;32mraise\u001b[0m \u001b[0mTransitivityException\u001b[0m\u001b[0;34m(\u001b[0m\u001b[0;32mNone\u001b[0m\u001b[0;34m,\u001b[0m \u001b[0massumptions\u001b[0m\u001b[0;34m,\u001b[0m \u001b[0mmsg\u001b[0m\u001b[0;34m)\u001b[0m\u001b[0;34m\u001b[0m\u001b[0;34m\u001b[0m\u001b[0m\n\u001b[0m\u001b[1;32m    275\u001b[0m \u001b[0;34m\u001b[0m\u001b[0m\n",
      "\u001b[0;31mTransitivityException\u001b[0m: Proof step failed assuming {l != 0, l in {-2^{t - 1} + 1 .. 2^{t - 1}}}:\nInsufficient known transitive relations to sort the remaining items: {|alpha_{l}|, |1 - e^{2 * pi * i * ((2^{t} * delta) - l)}| / (2^{t} * 2 * sin(pi * |delta - (l / 2^{t})|))}",
      "\nDuring handling of the above exception, another exception occurred:\n",
      "\u001b[0;31mTransitivityException\u001b[0m                     Traceback (most recent call last)",
      "\u001b[0;32m/home/wwitzel/Prove-It/packages/proveit/relation/transitivity.py\u001b[0m in \u001b[0;36mconclude\u001b[0;34m(self, **defaults_config)\u001b[0m\n\u001b[1;32m     77\u001b[0m         \u001b[0;32mtry\u001b[0m\u001b[0;34m:\u001b[0m\u001b[0;34m\u001b[0m\u001b[0;34m\u001b[0m\u001b[0m\n\u001b[0;32m---> 78\u001b[0;31m             \u001b[0;32mreturn\u001b[0m \u001b[0mself\u001b[0m\u001b[0;34m.\u001b[0m\u001b[0mconclude_via_transitivity\u001b[0m\u001b[0;34m(\u001b[0m\u001b[0;34m)\u001b[0m\u001b[0;34m\u001b[0m\u001b[0;34m\u001b[0m\u001b[0m\n\u001b[0m\u001b[1;32m     79\u001b[0m         \u001b[0;32mexcept\u001b[0m \u001b[0mTransitivityException\u001b[0m \u001b[0;32mas\u001b[0m \u001b[0me\u001b[0m\u001b[0;34m:\u001b[0m\u001b[0;34m\u001b[0m\u001b[0;34m\u001b[0m\u001b[0m\n",
      "\u001b[0;32m/home/wwitzel/Prove-It/packages/proveit/decorators.py\u001b[0m in \u001b[0;36mdecorated_prover\u001b[0;34m(*args, **kwargs)\u001b[0m\n\u001b[1;32m    142\u001b[0m             \u001b[0mkwargs\u001b[0m\u001b[0;34m.\u001b[0m\u001b[0mupdate\u001b[0m\u001b[0;34m(\u001b[0m\u001b[0mpublic_attributes_dict\u001b[0m\u001b[0;34m(\u001b[0m\u001b[0mdefaults\u001b[0m\u001b[0;34m)\u001b[0m\u001b[0;34m)\u001b[0m\u001b[0;34m\u001b[0m\u001b[0;34m\u001b[0m\u001b[0m\n\u001b[0;32m--> 143\u001b[0;31m             \u001b[0mproven_truth\u001b[0m \u001b[0;34m=\u001b[0m \u001b[0mchecked_truth\u001b[0m\u001b[0;34m(\u001b[0m\u001b[0mfunc\u001b[0m\u001b[0;34m(\u001b[0m\u001b[0;34m*\u001b[0m\u001b[0margs\u001b[0m\u001b[0;34m,\u001b[0m \u001b[0;34m**\u001b[0m\u001b[0mkwargs\u001b[0m\u001b[0;34m)\u001b[0m\u001b[0;34m)\u001b[0m\u001b[0;34m\u001b[0m\u001b[0;34m\u001b[0m\u001b[0m\n\u001b[0m\u001b[1;32m    144\u001b[0m \u001b[0;34m\u001b[0m\u001b[0m\n",
      "\u001b[0;32m/home/wwitzel/Prove-It/packages/proveit/relation/transitivity.py\u001b[0m in \u001b[0;36mconclude_via_transitivity\u001b[0;34m(self, **defaults_config)\u001b[0m\n\u001b[1;32m     90\u001b[0m             \u001b[0;31m# indicate the expression we were trying to prove\u001b[0m\u001b[0;34m\u001b[0m\u001b[0;34m\u001b[0m\u001b[0;34m\u001b[0m\u001b[0m\n\u001b[0;32m---> 91\u001b[0;31m             \u001b[0;32mraise\u001b[0m \u001b[0mTransitivityException\u001b[0m\u001b[0;34m(\u001b[0m\u001b[0mself\u001b[0m\u001b[0;34m,\u001b[0m \u001b[0mdefaults\u001b[0m\u001b[0;34m.\u001b[0m\u001b[0massumptions\u001b[0m\u001b[0;34m,\u001b[0m \u001b[0me\u001b[0m\u001b[0;34m.\u001b[0m\u001b[0mmessage\u001b[0m\u001b[0;34m)\u001b[0m\u001b[0;34m\u001b[0m\u001b[0;34m\u001b[0m\u001b[0m\n\u001b[0m\u001b[1;32m     92\u001b[0m         \u001b[0mrelation\u001b[0m \u001b[0;34m=\u001b[0m \u001b[0mproven_relation\u001b[0m\u001b[0;34m.\u001b[0m\u001b[0mexpr\u001b[0m\u001b[0;34m\u001b[0m\u001b[0;34m\u001b[0m\u001b[0m\n",
      "\u001b[0;31mTransitivityException\u001b[0m: Unable to prove |alpha_{l}| = (|1 - e^{2 * pi * i * ((2^{t} * delta) - l)}| / (2^{t} * 2 * sin(pi * |delta - (l / 2^{t})|))) assuming {l != 0, l in {-2^{t - 1} + 1 .. 2^{t - 1}}}:\nInsufficient known transitive relations to sort the remaining items: {|alpha_{l}|, |1 - e^{2 * pi * i * ((2^{t} * delta) - l)}| / (2^{t} * 2 * sin(pi * |delta - (l / 2^{t})|))}",
      "\nDuring handling of the above exception, another exception occurred:\n",
      "\u001b[0;31mTransitivityException\u001b[0m                     Traceback (most recent call last)",
      "\u001b[0;32m/home/wwitzel/Prove-It/packages/proveit/logic/booleans/quantification/universality/forall.py\u001b[0m in \u001b[0;36mconclude\u001b[0;34m(self, **defaults_config)\u001b[0m\n\u001b[1;32m    124\u001b[0m             \u001b[0;32mtry\u001b[0m\u001b[0;34m:\u001b[0m\u001b[0;34m\u001b[0m\u001b[0;34m\u001b[0m\u001b[0m\n\u001b[0;32m--> 125\u001b[0;31m                 \u001b[0;32mreturn\u001b[0m \u001b[0mself\u001b[0m\u001b[0;34m.\u001b[0m\u001b[0mconclude_via_generalization\u001b[0m\u001b[0;34m(\u001b[0m\u001b[0mautomation\u001b[0m\u001b[0;34m=\u001b[0m\u001b[0;32mTrue\u001b[0m\u001b[0;34m)\u001b[0m\u001b[0;34m\u001b[0m\u001b[0;34m\u001b[0m\u001b[0m\n\u001b[0m\u001b[1;32m    126\u001b[0m             \u001b[0;32mexcept\u001b[0m \u001b[0mProofFailure\u001b[0m\u001b[0;34m:\u001b[0m\u001b[0;34m\u001b[0m\u001b[0;34m\u001b[0m\u001b[0m\n",
      "\u001b[0;32m/home/wwitzel/Prove-It/packages/proveit/decorators.py\u001b[0m in \u001b[0;36mdecorated_prover\u001b[0;34m(*args, **kwargs)\u001b[0m\n\u001b[1;32m    138\u001b[0m                 \u001b[0mkwargs\u001b[0m\u001b[0;34m.\u001b[0m\u001b[0mupdate\u001b[0m\u001b[0;34m(\u001b[0m\u001b[0mpublic_attributes_dict\u001b[0m\u001b[0;34m(\u001b[0m\u001b[0mdefaults\u001b[0m\u001b[0;34m)\u001b[0m\u001b[0;34m)\u001b[0m\u001b[0;34m\u001b[0m\u001b[0;34m\u001b[0m\u001b[0m\n\u001b[0;32m--> 139\u001b[0;31m                 \u001b[0mproven_truth\u001b[0m \u001b[0;34m=\u001b[0m \u001b[0mchecked_truth\u001b[0m\u001b[0;34m(\u001b[0m\u001b[0mfunc\u001b[0m\u001b[0;34m(\u001b[0m\u001b[0;34m*\u001b[0m\u001b[0margs\u001b[0m\u001b[0;34m,\u001b[0m \u001b[0;34m**\u001b[0m\u001b[0mkwargs\u001b[0m\u001b[0;34m)\u001b[0m\u001b[0;34m)\u001b[0m\u001b[0;34m\u001b[0m\u001b[0;34m\u001b[0m\u001b[0m\n\u001b[0m\u001b[1;32m    140\u001b[0m         \u001b[0;32melse\u001b[0m\u001b[0;34m:\u001b[0m\u001b[0;34m\u001b[0m\u001b[0;34m\u001b[0m\u001b[0m\n",
      "\u001b[0;32m/home/wwitzel/Prove-It/packages/proveit/logic/booleans/quantification/universality/forall.py\u001b[0m in \u001b[0;36mconclude_via_generalization\u001b[0;34m(self, **defaults_config)\u001b[0m\n\u001b[1;32m    202\u001b[0m                 \u001b[0;32mif\u001b[0m \u001b[0mautomation\u001b[0m \u001b[0;32mand\u001b[0m \u001b[0;32mnot\u001b[0m \u001b[0misinstance\u001b[0m\u001b[0;34m(\u001b[0m\u001b[0mexpr\u001b[0m\u001b[0;34m,\u001b[0m \u001b[0mForall\u001b[0m\u001b[0;34m)\u001b[0m\u001b[0;34m:\u001b[0m\u001b[0;34m\u001b[0m\u001b[0;34m\u001b[0m\u001b[0m\n\u001b[0;32m--> 203\u001b[0;31m                     \u001b[0mexpr\u001b[0m\u001b[0;34m.\u001b[0m\u001b[0mprove\u001b[0m\u001b[0;34m(\u001b[0m\u001b[0;34m)\u001b[0m\u001b[0;34m\u001b[0m\u001b[0;34m\u001b[0m\u001b[0m\n\u001b[0m\u001b[1;32m    204\u001b[0m                 \u001b[0;32mif\u001b[0m \u001b[0mexpr\u001b[0m\u001b[0;34m.\u001b[0m\u001b[0mproven\u001b[0m\u001b[0;34m(\u001b[0m\u001b[0;34m)\u001b[0m\u001b[0;34m:\u001b[0m\u001b[0;34m\u001b[0m\u001b[0;34m\u001b[0m\u001b[0m\n",
      "\u001b[0;32m/home/wwitzel/Prove-It/packages/proveit/decorators.py\u001b[0m in \u001b[0;36mdecorated_prover\u001b[0;34m(*args, **kwargs)\u001b[0m\n\u001b[1;32m    142\u001b[0m             \u001b[0mkwargs\u001b[0m\u001b[0;34m.\u001b[0m\u001b[0mupdate\u001b[0m\u001b[0;34m(\u001b[0m\u001b[0mpublic_attributes_dict\u001b[0m\u001b[0;34m(\u001b[0m\u001b[0mdefaults\u001b[0m\u001b[0;34m)\u001b[0m\u001b[0;34m)\u001b[0m\u001b[0;34m\u001b[0m\u001b[0;34m\u001b[0m\u001b[0m\n\u001b[0;32m--> 143\u001b[0;31m             \u001b[0mproven_truth\u001b[0m \u001b[0;34m=\u001b[0m \u001b[0mchecked_truth\u001b[0m\u001b[0;34m(\u001b[0m\u001b[0mfunc\u001b[0m\u001b[0;34m(\u001b[0m\u001b[0;34m*\u001b[0m\u001b[0margs\u001b[0m\u001b[0;34m,\u001b[0m \u001b[0;34m**\u001b[0m\u001b[0mkwargs\u001b[0m\u001b[0;34m)\u001b[0m\u001b[0;34m)\u001b[0m\u001b[0;34m\u001b[0m\u001b[0;34m\u001b[0m\u001b[0m\n\u001b[0m\u001b[1;32m    144\u001b[0m \u001b[0;34m\u001b[0m\u001b[0m\n",
      "\u001b[0;32m/home/wwitzel/Prove-It/packages/proveit/_core_/expression/expr.py\u001b[0m in \u001b[0;36mprove\u001b[0;34m(self, **defaults_config)\u001b[0m\n\u001b[1;32m    806\u001b[0m                     \u001b[0;31m# class\u001b[0m\u001b[0;34m\u001b[0m\u001b[0;34m\u001b[0m\u001b[0;34m\u001b[0m\u001b[0m\n\u001b[0;32m--> 807\u001b[0;31m                     \u001b[0mconcluded_truth\u001b[0m \u001b[0;34m=\u001b[0m \u001b[0mself\u001b[0m\u001b[0;34m.\u001b[0m\u001b[0mconclude\u001b[0m\u001b[0;34m(\u001b[0m\u001b[0massumptions\u001b[0m\u001b[0;34m=\u001b[0m\u001b[0massumptions\u001b[0m\u001b[0;34m)\u001b[0m\u001b[0;34m\u001b[0m\u001b[0;34m\u001b[0m\u001b[0m\n\u001b[0m\u001b[1;32m    808\u001b[0m             \u001b[0;32mif\u001b[0m \u001b[0mconcluded_truth\u001b[0m \u001b[0;32mis\u001b[0m \u001b[0;32mNone\u001b[0m\u001b[0;34m:\u001b[0m\u001b[0;34m\u001b[0m\u001b[0;34m\u001b[0m\u001b[0m\n",
      "\u001b[0;32m/home/wwitzel/Prove-It/packages/proveit/decorators.py\u001b[0m in \u001b[0;36mdecorated_prover\u001b[0;34m(*args, **kwargs)\u001b[0m\n\u001b[1;32m    138\u001b[0m                 \u001b[0mkwargs\u001b[0m\u001b[0;34m.\u001b[0m\u001b[0mupdate\u001b[0m\u001b[0;34m(\u001b[0m\u001b[0mpublic_attributes_dict\u001b[0m\u001b[0;34m(\u001b[0m\u001b[0mdefaults\u001b[0m\u001b[0;34m)\u001b[0m\u001b[0;34m)\u001b[0m\u001b[0;34m\u001b[0m\u001b[0;34m\u001b[0m\u001b[0m\n\u001b[0;32m--> 139\u001b[0;31m                 \u001b[0mproven_truth\u001b[0m \u001b[0;34m=\u001b[0m \u001b[0mchecked_truth\u001b[0m\u001b[0;34m(\u001b[0m\u001b[0mfunc\u001b[0m\u001b[0;34m(\u001b[0m\u001b[0;34m*\u001b[0m\u001b[0margs\u001b[0m\u001b[0;34m,\u001b[0m \u001b[0;34m**\u001b[0m\u001b[0mkwargs\u001b[0m\u001b[0;34m)\u001b[0m\u001b[0;34m)\u001b[0m\u001b[0;34m\u001b[0m\u001b[0;34m\u001b[0m\u001b[0m\n\u001b[0m\u001b[1;32m    140\u001b[0m         \u001b[0;32melse\u001b[0m\u001b[0;34m:\u001b[0m\u001b[0;34m\u001b[0m\u001b[0;34m\u001b[0m\u001b[0m\n",
      "\u001b[0;32m/home/wwitzel/Prove-It/packages/proveit/logic/equality/equals.py\u001b[0m in \u001b[0;36mconclude\u001b[0;34m(self, **defaults_config)\u001b[0m\n\u001b[1;32m    190\u001b[0m         \u001b[0;31m# strategies (simplify both sends then try transitivity).\u001b[0m\u001b[0;34m\u001b[0m\u001b[0;34m\u001b[0m\u001b[0;34m\u001b[0m\u001b[0m\n\u001b[0;32m--> 191\u001b[0;31m         \u001b[0;32mreturn\u001b[0m \u001b[0mTransitiveRelation\u001b[0m\u001b[0;34m.\u001b[0m\u001b[0mconclude\u001b[0m\u001b[0;34m(\u001b[0m\u001b[0mself\u001b[0m\u001b[0;34m)\u001b[0m\u001b[0;34m\u001b[0m\u001b[0;34m\u001b[0m\u001b[0m\n\u001b[0m\u001b[1;32m    192\u001b[0m \u001b[0;34m\u001b[0m\u001b[0m\n",
      "\u001b[0;32m/home/wwitzel/Prove-It/packages/proveit/decorators.py\u001b[0m in \u001b[0;36mdecorated_prover\u001b[0;34m(*args, **kwargs)\u001b[0m\n\u001b[1;32m    142\u001b[0m             \u001b[0mkwargs\u001b[0m\u001b[0;34m.\u001b[0m\u001b[0mupdate\u001b[0m\u001b[0;34m(\u001b[0m\u001b[0mpublic_attributes_dict\u001b[0m\u001b[0;34m(\u001b[0m\u001b[0mdefaults\u001b[0m\u001b[0;34m)\u001b[0m\u001b[0;34m)\u001b[0m\u001b[0;34m\u001b[0m\u001b[0;34m\u001b[0m\u001b[0m\n\u001b[0;32m--> 143\u001b[0;31m             \u001b[0mproven_truth\u001b[0m \u001b[0;34m=\u001b[0m \u001b[0mchecked_truth\u001b[0m\u001b[0;34m(\u001b[0m\u001b[0mfunc\u001b[0m\u001b[0;34m(\u001b[0m\u001b[0;34m*\u001b[0m\u001b[0margs\u001b[0m\u001b[0;34m,\u001b[0m \u001b[0;34m**\u001b[0m\u001b[0mkwargs\u001b[0m\u001b[0;34m)\u001b[0m\u001b[0;34m)\u001b[0m\u001b[0;34m\u001b[0m\u001b[0;34m\u001b[0m\u001b[0m\n\u001b[0m\u001b[1;32m    144\u001b[0m \u001b[0;34m\u001b[0m\u001b[0m\n",
      "\u001b[0;32m/home/wwitzel/Prove-It/packages/proveit/relation/transitivity.py\u001b[0m in \u001b[0;36mconclude\u001b[0;34m(self, **defaults_config)\u001b[0m\n\u001b[1;32m     80\u001b[0m             \u001b[0;31m# indicate the expression we were trying to prove\u001b[0m\u001b[0;34m\u001b[0m\u001b[0;34m\u001b[0m\u001b[0;34m\u001b[0m\u001b[0m\n\u001b[0;32m---> 81\u001b[0;31m             \u001b[0;32mraise\u001b[0m \u001b[0mTransitivityException\u001b[0m\u001b[0;34m(\u001b[0m\u001b[0mself\u001b[0m\u001b[0;34m,\u001b[0m \u001b[0mdefaults\u001b[0m\u001b[0;34m.\u001b[0m\u001b[0massumptions\u001b[0m\u001b[0;34m,\u001b[0m \u001b[0me\u001b[0m\u001b[0;34m.\u001b[0m\u001b[0mmessage\u001b[0m\u001b[0;34m)\u001b[0m\u001b[0;34m\u001b[0m\u001b[0;34m\u001b[0m\u001b[0m\n\u001b[0m\u001b[1;32m     82\u001b[0m \u001b[0;34m\u001b[0m\u001b[0m\n",
      "\u001b[0;31mTransitivityException\u001b[0m: Unable to prove |alpha_{l}| = (|1 - e^{2 * pi * i * ((2^{t} * delta) - l)}| / (2^{t} * 2 * sin(pi * |delta - (l / 2^{t})|))) assuming {l != 0, l in {-2^{t - 1} + 1 .. 2^{t - 1}}}:\nInsufficient known transitive relations to sort the remaining items: {|alpha_{l}|, |1 - e^{2 * pi * i * ((2^{t} * delta) - l)}| / (2^{t} * 2 * sin(pi * |delta - (l / 2^{t})|))}",
      "\nDuring handling of the above exception, another exception occurred:\n",
      "\u001b[0;31mProofFailure\u001b[0m                              Traceback (most recent call last)",
      "\u001b[0;32m<ipython-input-24-b046f9677097>\u001b[0m in \u001b[0;36m<module>\u001b[0;34m\u001b[0m\n\u001b[0;32m----> 1\u001b[0;31m \u001b[0mget_ipython\u001b[0m\u001b[0;34m(\u001b[0m\u001b[0;34m)\u001b[0m\u001b[0;34m.\u001b[0m\u001b[0mrun_line_magic\u001b[0m\u001b[0;34m(\u001b[0m\u001b[0;34m'qed'\u001b[0m\u001b[0;34m,\u001b[0m \u001b[0;34m''\u001b[0m\u001b[0;34m)\u001b[0m\u001b[0;34m\u001b[0m\u001b[0;34m\u001b[0m\u001b[0m\n\u001b[0m",
      "\u001b[0;32m~/.local/lib/python3.7/site-packages/IPython/core/interactiveshell.py\u001b[0m in \u001b[0;36mrun_line_magic\u001b[0;34m(self, magic_name, line, _stack_depth)\u001b[0m\n\u001b[1;32m   2305\u001b[0m                 \u001b[0mkwargs\u001b[0m\u001b[0;34m[\u001b[0m\u001b[0;34m'local_ns'\u001b[0m\u001b[0;34m]\u001b[0m \u001b[0;34m=\u001b[0m \u001b[0msys\u001b[0m\u001b[0;34m.\u001b[0m\u001b[0m_getframe\u001b[0m\u001b[0;34m(\u001b[0m\u001b[0mstack_depth\u001b[0m\u001b[0;34m)\u001b[0m\u001b[0;34m.\u001b[0m\u001b[0mf_locals\u001b[0m\u001b[0;34m\u001b[0m\u001b[0;34m\u001b[0m\u001b[0m\n\u001b[1;32m   2306\u001b[0m             \u001b[0;32mwith\u001b[0m \u001b[0mself\u001b[0m\u001b[0;34m.\u001b[0m\u001b[0mbuiltin_trap\u001b[0m\u001b[0;34m:\u001b[0m\u001b[0;34m\u001b[0m\u001b[0;34m\u001b[0m\u001b[0m\n\u001b[0;32m-> 2307\u001b[0;31m                 \u001b[0mresult\u001b[0m \u001b[0;34m=\u001b[0m \u001b[0mfn\u001b[0m\u001b[0;34m(\u001b[0m\u001b[0;34m*\u001b[0m\u001b[0margs\u001b[0m\u001b[0;34m,\u001b[0m \u001b[0;34m**\u001b[0m\u001b[0mkwargs\u001b[0m\u001b[0;34m)\u001b[0m\u001b[0;34m\u001b[0m\u001b[0;34m\u001b[0m\u001b[0m\n\u001b[0m\u001b[1;32m   2308\u001b[0m             \u001b[0;32mreturn\u001b[0m \u001b[0mresult\u001b[0m\u001b[0;34m\u001b[0m\u001b[0;34m\u001b[0m\u001b[0m\n\u001b[1;32m   2309\u001b[0m \u001b[0;34m\u001b[0m\u001b[0m\n",
      "\u001b[0;32m<decorator-gen-143>\u001b[0m in \u001b[0;36mqed\u001b[0;34m(self, line)\u001b[0m\n",
      "\u001b[0;32m~/.local/lib/python3.7/site-packages/IPython/core/magic.py\u001b[0m in \u001b[0;36m<lambda>\u001b[0;34m(f, *a, **k)\u001b[0m\n\u001b[1;32m    185\u001b[0m     \u001b[0;31m# but it's overkill for just that one bit of state.\u001b[0m\u001b[0;34m\u001b[0m\u001b[0;34m\u001b[0m\u001b[0;34m\u001b[0m\u001b[0m\n\u001b[1;32m    186\u001b[0m     \u001b[0;32mdef\u001b[0m \u001b[0mmagic_deco\u001b[0m\u001b[0;34m(\u001b[0m\u001b[0marg\u001b[0m\u001b[0;34m)\u001b[0m\u001b[0;34m:\u001b[0m\u001b[0;34m\u001b[0m\u001b[0;34m\u001b[0m\u001b[0m\n\u001b[0;32m--> 187\u001b[0;31m         \u001b[0mcall\u001b[0m \u001b[0;34m=\u001b[0m \u001b[0;32mlambda\u001b[0m \u001b[0mf\u001b[0m\u001b[0;34m,\u001b[0m \u001b[0;34m*\u001b[0m\u001b[0ma\u001b[0m\u001b[0;34m,\u001b[0m \u001b[0;34m**\u001b[0m\u001b[0mk\u001b[0m\u001b[0;34m:\u001b[0m \u001b[0mf\u001b[0m\u001b[0;34m(\u001b[0m\u001b[0;34m*\u001b[0m\u001b[0ma\u001b[0m\u001b[0;34m,\u001b[0m \u001b[0;34m**\u001b[0m\u001b[0mk\u001b[0m\u001b[0;34m)\u001b[0m\u001b[0;34m\u001b[0m\u001b[0;34m\u001b[0m\u001b[0m\n\u001b[0m\u001b[1;32m    188\u001b[0m \u001b[0;34m\u001b[0m\u001b[0m\n\u001b[1;32m    189\u001b[0m         \u001b[0;32mif\u001b[0m \u001b[0mcallable\u001b[0m\u001b[0;34m(\u001b[0m\u001b[0marg\u001b[0m\u001b[0;34m)\u001b[0m\u001b[0;34m:\u001b[0m\u001b[0;34m\u001b[0m\u001b[0;34m\u001b[0m\u001b[0m\n",
      "\u001b[0;32m/home/wwitzel/Prove-It/packages/proveit/magics.py\u001b[0m in \u001b[0;36mqed\u001b[0;34m(self, line)\u001b[0m\n\u001b[1;32m    978\u001b[0m     \u001b[0;34m@\u001b[0m\u001b[0mline_magic\u001b[0m\u001b[0;34m\u001b[0m\u001b[0;34m\u001b[0m\u001b[0m\n\u001b[1;32m    979\u001b[0m     \u001b[0;32mdef\u001b[0m \u001b[0mqed\u001b[0m\u001b[0;34m(\u001b[0m\u001b[0mself\u001b[0m\u001b[0;34m,\u001b[0m \u001b[0mline\u001b[0m\u001b[0;34m)\u001b[0m\u001b[0;34m:\u001b[0m\u001b[0;34m\u001b[0m\u001b[0;34m\u001b[0m\u001b[0m\n\u001b[0;32m--> 980\u001b[0;31m         \u001b[0;32mreturn\u001b[0m \u001b[0mProveItMagicCommands\u001b[0m\u001b[0;34m.\u001b[0m\u001b[0mqed\u001b[0m\u001b[0;34m(\u001b[0m\u001b[0mself\u001b[0m\u001b[0;34m)\u001b[0m\u001b[0;34m\u001b[0m\u001b[0;34m\u001b[0m\u001b[0m\n\u001b[0m\u001b[1;32m    981\u001b[0m \u001b[0;34m\u001b[0m\u001b[0m\n\u001b[1;32m    982\u001b[0m     \u001b[0;34m@\u001b[0m\u001b[0mline_magic\u001b[0m\u001b[0;34m\u001b[0m\u001b[0;34m\u001b[0m\u001b[0m\n",
      "\u001b[0;32m/home/wwitzel/Prove-It/packages/proveit/magics.py\u001b[0m in \u001b[0;36mqed\u001b[0;34m(self)\u001b[0m\n\u001b[1;32m    650\u001b[0m     \u001b[0;32mdef\u001b[0m \u001b[0mqed\u001b[0m\u001b[0;34m(\u001b[0m\u001b[0mself\u001b[0m\u001b[0;34m)\u001b[0m\u001b[0;34m:\u001b[0m\u001b[0;34m\u001b[0m\u001b[0;34m\u001b[0m\u001b[0m\n\u001b[1;32m    651\u001b[0m         \u001b[0;32mimport\u001b[0m \u001b[0mproveit\u001b[0m\u001b[0;34m\u001b[0m\u001b[0;34m\u001b[0m\u001b[0m\n\u001b[0;32m--> 652\u001b[0;31m         \u001b[0mproof\u001b[0m \u001b[0;34m=\u001b[0m \u001b[0mJudgment\u001b[0m\u001b[0;34m.\u001b[0m\u001b[0mtheorem_being_proven\u001b[0m\u001b[0;34m.\u001b[0m\u001b[0mproven_truth\u001b[0m\u001b[0;34m.\u001b[0m\u001b[0m_qed\u001b[0m\u001b[0;34m(\u001b[0m\u001b[0;34m)\u001b[0m\u001b[0;34m\u001b[0m\u001b[0;34m\u001b[0m\u001b[0m\n\u001b[0m\u001b[1;32m    653\u001b[0m         \u001b[0mproof\u001b[0m\u001b[0;34m.\u001b[0m\u001b[0m_repr_html_\u001b[0m\u001b[0;34m(\u001b[0m\u001b[0;34m)\u001b[0m  \u001b[0;31m# generate expressions that should be referenced\u001b[0m\u001b[0;34m\u001b[0m\u001b[0;34m\u001b[0m\u001b[0m\n\u001b[1;32m    654\u001b[0m         \u001b[0;31m# clean unreferenced expressions, but only when \"display latex\"\u001b[0m\u001b[0;34m\u001b[0m\u001b[0;34m\u001b[0m\u001b[0;34m\u001b[0m\u001b[0m\n",
      "\u001b[0;32m/home/wwitzel/Prove-It/packages/proveit/_core_/judgment.py\u001b[0m in \u001b[0;36m_qed\u001b[0;34m(self)\u001b[0m\n\u001b[1;32m    336\u001b[0m         \u001b[0mJudgment\u001b[0m\u001b[0;34m.\u001b[0m\u001b[0mqed_in_progress\u001b[0m \u001b[0;34m=\u001b[0m \u001b[0;32mTrue\u001b[0m\u001b[0;34m\u001b[0m\u001b[0;34m\u001b[0m\u001b[0m\n\u001b[1;32m    337\u001b[0m         \u001b[0;32mtry\u001b[0m\u001b[0;34m:\u001b[0m\u001b[0;34m\u001b[0m\u001b[0;34m\u001b[0m\u001b[0m\n\u001b[0;32m--> 338\u001b[0;31m             \u001b[0mproof\u001b[0m \u001b[0;34m=\u001b[0m \u001b[0mself\u001b[0m\u001b[0;34m.\u001b[0m\u001b[0mexpr\u001b[0m\u001b[0;34m.\u001b[0m\u001b[0mprove\u001b[0m\u001b[0;34m(\u001b[0m\u001b[0massumptions\u001b[0m\u001b[0;34m=\u001b[0m\u001b[0;34m[\u001b[0m\u001b[0;34m]\u001b[0m\u001b[0;34m)\u001b[0m\u001b[0;34m.\u001b[0m\u001b[0mproof\u001b[0m\u001b[0;34m(\u001b[0m\u001b[0;34m)\u001b[0m\u001b[0;34m\u001b[0m\u001b[0;34m\u001b[0m\u001b[0m\n\u001b[0m\u001b[1;32m    339\u001b[0m             \u001b[0;32mif\u001b[0m \u001b[0;32mnot\u001b[0m \u001b[0mproof\u001b[0m\u001b[0;34m.\u001b[0m\u001b[0mis_usable\u001b[0m\u001b[0;34m(\u001b[0m\u001b[0;34m)\u001b[0m\u001b[0;34m:\u001b[0m\u001b[0;34m\u001b[0m\u001b[0;34m\u001b[0m\u001b[0m\n\u001b[1;32m    340\u001b[0m                 \u001b[0mproof\u001b[0m\u001b[0;34m.\u001b[0m\u001b[0mproven_truth\u001b[0m\u001b[0;34m.\u001b[0m\u001b[0mraise_unusable_proof\u001b[0m\u001b[0;34m(\u001b[0m\u001b[0;34m)\u001b[0m\u001b[0;34m\u001b[0m\u001b[0;34m\u001b[0m\u001b[0m\n",
      "\u001b[0;32m/home/wwitzel/Prove-It/packages/proveit/decorators.py\u001b[0m in \u001b[0;36mdecorated_prover\u001b[0;34m(*args, **kwargs)\u001b[0m\n\u001b[1;32m    137\u001b[0m                         \u001b[0msetattr\u001b[0m\u001b[0;34m(\u001b[0m\u001b[0mtemp_defaults\u001b[0m\u001b[0;34m,\u001b[0m \u001b[0mkey\u001b[0m\u001b[0;34m,\u001b[0m \u001b[0mkwargs\u001b[0m\u001b[0;34m[\u001b[0m\u001b[0mkey\u001b[0m\u001b[0;34m]\u001b[0m\u001b[0;34m)\u001b[0m\u001b[0;34m\u001b[0m\u001b[0;34m\u001b[0m\u001b[0m\n\u001b[1;32m    138\u001b[0m                 \u001b[0mkwargs\u001b[0m\u001b[0;34m.\u001b[0m\u001b[0mupdate\u001b[0m\u001b[0;34m(\u001b[0m\u001b[0mpublic_attributes_dict\u001b[0m\u001b[0;34m(\u001b[0m\u001b[0mdefaults\u001b[0m\u001b[0;34m)\u001b[0m\u001b[0;34m)\u001b[0m\u001b[0;34m\u001b[0m\u001b[0;34m\u001b[0m\u001b[0m\n\u001b[0;32m--> 139\u001b[0;31m                 \u001b[0mproven_truth\u001b[0m \u001b[0;34m=\u001b[0m \u001b[0mchecked_truth\u001b[0m\u001b[0;34m(\u001b[0m\u001b[0mfunc\u001b[0m\u001b[0;34m(\u001b[0m\u001b[0;34m*\u001b[0m\u001b[0margs\u001b[0m\u001b[0;34m,\u001b[0m \u001b[0;34m**\u001b[0m\u001b[0mkwargs\u001b[0m\u001b[0;34m)\u001b[0m\u001b[0;34m)\u001b[0m\u001b[0;34m\u001b[0m\u001b[0;34m\u001b[0m\u001b[0m\n\u001b[0m\u001b[1;32m    140\u001b[0m         \u001b[0;32melse\u001b[0m\u001b[0;34m:\u001b[0m\u001b[0;34m\u001b[0m\u001b[0;34m\u001b[0m\u001b[0m\n\u001b[1;32m    141\u001b[0m             \u001b[0;31m# No defaults reconfiguration.\u001b[0m\u001b[0;34m\u001b[0m\u001b[0;34m\u001b[0m\u001b[0;34m\u001b[0m\u001b[0m\n",
      "\u001b[0;32m/home/wwitzel/Prove-It/packages/proveit/_core_/expression/expr.py\u001b[0m in \u001b[0;36mprove\u001b[0;34m(self, **defaults_config)\u001b[0m\n\u001b[1;32m    805\u001b[0m                     \u001b[0;31m# try the 'conclude' method of the specific Expression\u001b[0m\u001b[0;34m\u001b[0m\u001b[0;34m\u001b[0m\u001b[0;34m\u001b[0m\u001b[0m\n\u001b[1;32m    806\u001b[0m                     \u001b[0;31m# class\u001b[0m\u001b[0;34m\u001b[0m\u001b[0;34m\u001b[0m\u001b[0;34m\u001b[0m\u001b[0m\n\u001b[0;32m--> 807\u001b[0;31m                     \u001b[0mconcluded_truth\u001b[0m \u001b[0;34m=\u001b[0m \u001b[0mself\u001b[0m\u001b[0;34m.\u001b[0m\u001b[0mconclude\u001b[0m\u001b[0;34m(\u001b[0m\u001b[0massumptions\u001b[0m\u001b[0;34m=\u001b[0m\u001b[0massumptions\u001b[0m\u001b[0;34m)\u001b[0m\u001b[0;34m\u001b[0m\u001b[0;34m\u001b[0m\u001b[0m\n\u001b[0m\u001b[1;32m    808\u001b[0m             \u001b[0;32mif\u001b[0m \u001b[0mconcluded_truth\u001b[0m \u001b[0;32mis\u001b[0m \u001b[0;32mNone\u001b[0m\u001b[0;34m:\u001b[0m\u001b[0;34m\u001b[0m\u001b[0;34m\u001b[0m\u001b[0m\n\u001b[1;32m    809\u001b[0m                 raise ProofFailure(\n",
      "\u001b[0;32m/home/wwitzel/Prove-It/packages/proveit/decorators.py\u001b[0m in \u001b[0;36mdecorated_prover\u001b[0;34m(*args, **kwargs)\u001b[0m\n\u001b[1;32m    137\u001b[0m                         \u001b[0msetattr\u001b[0m\u001b[0;34m(\u001b[0m\u001b[0mtemp_defaults\u001b[0m\u001b[0;34m,\u001b[0m \u001b[0mkey\u001b[0m\u001b[0;34m,\u001b[0m \u001b[0mkwargs\u001b[0m\u001b[0;34m[\u001b[0m\u001b[0mkey\u001b[0m\u001b[0;34m]\u001b[0m\u001b[0;34m)\u001b[0m\u001b[0;34m\u001b[0m\u001b[0;34m\u001b[0m\u001b[0m\n\u001b[1;32m    138\u001b[0m                 \u001b[0mkwargs\u001b[0m\u001b[0;34m.\u001b[0m\u001b[0mupdate\u001b[0m\u001b[0;34m(\u001b[0m\u001b[0mpublic_attributes_dict\u001b[0m\u001b[0;34m(\u001b[0m\u001b[0mdefaults\u001b[0m\u001b[0;34m)\u001b[0m\u001b[0;34m)\u001b[0m\u001b[0;34m\u001b[0m\u001b[0;34m\u001b[0m\u001b[0m\n\u001b[0;32m--> 139\u001b[0;31m                 \u001b[0mproven_truth\u001b[0m \u001b[0;34m=\u001b[0m \u001b[0mchecked_truth\u001b[0m\u001b[0;34m(\u001b[0m\u001b[0mfunc\u001b[0m\u001b[0;34m(\u001b[0m\u001b[0;34m*\u001b[0m\u001b[0margs\u001b[0m\u001b[0;34m,\u001b[0m \u001b[0;34m**\u001b[0m\u001b[0mkwargs\u001b[0m\u001b[0;34m)\u001b[0m\u001b[0;34m)\u001b[0m\u001b[0;34m\u001b[0m\u001b[0;34m\u001b[0m\u001b[0m\n\u001b[0m\u001b[1;32m    140\u001b[0m         \u001b[0;32melse\u001b[0m\u001b[0;34m:\u001b[0m\u001b[0;34m\u001b[0m\u001b[0;34m\u001b[0m\u001b[0m\n\u001b[1;32m    141\u001b[0m             \u001b[0;31m# No defaults reconfiguration.\u001b[0m\u001b[0;34m\u001b[0m\u001b[0;34m\u001b[0m\u001b[0;34m\u001b[0m\u001b[0m\n",
      "\u001b[0;32m/home/wwitzel/Prove-It/packages/proveit/logic/booleans/quantification/universality/forall.py\u001b[0m in \u001b[0;36mconclude\u001b[0;34m(self, **defaults_config)\u001b[0m\n\u001b[1;32m    126\u001b[0m             \u001b[0;32mexcept\u001b[0m \u001b[0mProofFailure\u001b[0m\u001b[0;34m:\u001b[0m\u001b[0;34m\u001b[0m\u001b[0;34m\u001b[0m\u001b[0m\n\u001b[1;32m    127\u001b[0m                 raise ProofFailure(self, defaults.assumptions,\n\u001b[0;32m--> 128\u001b[0;31m                                    \u001b[0;34m\"Unable to conclude automatically; \"\u001b[0m\u001b[0;34m\u001b[0m\u001b[0;34m\u001b[0m\u001b[0m\n\u001b[0m\u001b[1;32m    129\u001b[0m                                    \u001b[0;34m\"the domain has no 'prove_by_cases' method \"\u001b[0m\u001b[0;34m\u001b[0m\u001b[0;34m\u001b[0m\u001b[0m\n\u001b[1;32m    130\u001b[0m                                    \"and automated generalization failed.\")\n",
      "\u001b[0;31mProofFailure\u001b[0m: Unable to prove forall_{l in {-2^{t - 1} + 1 .. 2^{t - 1}} | l != 0} (|alpha_{l}| = (|1 - e^{2 * pi * i * ((2^{t} * delta) - l)}| / (2^{t} * 2 * sin(pi * |delta - (l / 2^{t})|)))):\nUnable to conclude automatically; the domain has no 'prove_by_cases' method and automated generalization failed."
     ]
    }
   ],
   "source": [
    "# %qed"
   ]
  },
  {
   "cell_type": "code",
   "execution_count": null,
   "metadata": {},
   "outputs": [],
   "source": []
  }
 ],
 "metadata": {
  "kernelspec": {
   "display_name": "Python 3",
   "language": "python",
   "name": "python3"
  },
  "language_info": {
   "codemirror_mode": {
    "name": "ipython",
    "version": 3
   },
   "file_extension": ".py",
   "mimetype": "text/x-python",
   "name": "python",
   "nbconvert_exporter": "python",
   "pygments_lexer": "ipython3",
   "version": "3.7.3"
  }
 },
 "nbformat": 4,
 "nbformat_minor": 1
}
