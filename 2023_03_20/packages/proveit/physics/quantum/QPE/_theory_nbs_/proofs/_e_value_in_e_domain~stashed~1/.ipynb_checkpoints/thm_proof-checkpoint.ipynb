{
 "cells": [
  {
   "cell_type": "markdown",
   "metadata": {},
   "source": [
    "Proof of <a class=\"ProveItLink\" href=\"../../../../../../_theory_nbs_/theory.ipynb\">proveit</a>.<a class=\"ProveItLink\" href=\"../../../../../_theory_nbs_/theory.ipynb\">physics</a>.<a class=\"ProveItLink\" href=\"../../../../_theory_nbs_/theory.ipynb\">quantum</a>.<a class=\"ProveItLink\" href=\"../../theory.ipynb\">QPE</a>.<a class=\"ProveItLink\" href=\"../../theorems.ipynb#_e_value_in_e_domain\">_e_value_in_e_domain</a> theorem\n",
    "========"
   ]
  },
  {
   "cell_type": "code",
   "execution_count": 1,
   "metadata": {},
   "outputs": [],
   "source": [
    "import proveit\n",
    "theory = proveit.Theory() # the theorem's theory\n",
    "from proveit import a, b\n",
    "from proveit.logic import InSet\n",
    "from proveit.numbers import (\n",
    "        zero, one, two, Add, frac, greater, Integer, Mult, NaturalPos,\n",
    "        Neg, Real, subtract)\n",
    "from proveit.physics.quantum.QPE import (\n",
    "    _e_value_ge_two,\n",
    "    _e_domain, _e_value, _eps_in_interval, _n, _n_ge_two, _n_in_natural_pos,\n",
    "    _t, _t_in_natural_pos, _t_req)"
   ]
  },
  {
   "cell_type": "code",
   "execution_count": 2,
   "metadata": {},
   "outputs": [
    {
     "data": {
      "text/html": [
       "Under these <a href=\"presumptions.txt\">presumptions</a>, we begin our proof of<br><strong id=\"_e_value_in_e_domain\">_e_value_in_e_domain:</strong> <a class=\"ProveItLink\" href=\"../../../__pv_it/theorems/b7aaae78f9d7cace931e554d57aef27b675026df0/expr.ipynb\"><img src=\"data:image/png;base64,iVBORw0KGgoAAAANSUhEUgAAAP8AAAAaBAMAAACKr5fIAAAAMFBMVEX///9UVFQiIiKIiIjMzMx2\n",
       "dnYQEBDc3NxEREQyMjLu7u5mZmaqqqq6urqYmJgAAAB66f/FAAAAAXRSTlMAQObYZgAAAAlwSFlz\n",
       "AAAOxAAADsQBlSsOGwAAAtFJREFUSMe1Vk1oE0EUfkk2WbJN01JBDYitoSDYQ1vFovUSEUXooTEH\n",
       "wZM5iMe69GLRQ2vxUAQlCqKIhfRmD/5fjAuSg+LRXCx4MoLXQkFFEijrvJnZ3WxmsrNl7YPN7E7m\n",
       "++Z7M++9GQDXHsH/NpfxRSVo2CZrjC0F3audzu8yasdGAoZlOHGmouBb2KkAjzETJGCdNXrpYYG9\n",
       "ZT+cOSUbmJ0Q+543ehN7jD0E6J9pc49/puvOhm00U6YMcEToSaxWA1xzGXutwOk7KKNMHutxAQYc\n",
       "rhsnvXfHNJx8UmD4QsbdrN2WOOdjlAhgqFvk6Svi7ia3YQPg/AoxE/bgu8/Wam3y+1Jwt0SmWoLL\n",
       "DUm8+BgFARxF8DBA2n0AV2HScHbsClha91qjgHRTIiBmQqosCOhiFARwFAqYJW5dq8Kw+TbJHdS3\n",
       "YPSjTEDfEv86kc9XHAGpNsT+CgL8jKIAjkIBR8kzBDBcmPnJ/+wfhONNmYAE9/TbdOcKjEDstyDA\n",
       "z6hf+tOVQRyFAnKsZzw4pamA/jaje9K5BcTi0hKmYKQoxK+wKP8VQoDGPE17OVqjv7OSAqFkpKgp\n",
       "0t5ncgZDCNC3mQAvludoc0jqoIKRohZJpRijX+9kpfxBHq3gCjCYgHPYi/Go52j+ubHpMxnjOiUc\n",
       "BRdl5OpsBbIquWwF2BY8c3tnsJLBD2ndVjFSVHKVb8En0M0QMcDSLe51YyXLFOG6CFAxMhRW0v3I\n",
       "XIRENXQWJCZ8WXAWYFoMQRUjQ10EFojzlvUmeMGS6HyW14GnvlI8Zlm0zBgtrNb8BFYxchQ68J0I\n",
       "HbftVuD8sb2tgyRu+L6u3a16AuK2bbNZMZzj/HKhYuQoFJBqhL5guGfB12WvFEeyEj8NQ5r0NIws\n",
       "QCuHHi7m21REAbSSHgg9/LDQs1iPNL8x13EnVJvkTqi/jqJAv1DnJSGcLcAu2WbIce93ZfZ/wbK+\n",
       "NSGPTHUAAAAASUVORK5CYII=\n",
       "\" style=\"display:inline;vertical-align:middle;\" /></a><br>(see <a class=\"ProveItLink\" href=\"../../../__pv_it/theorems/68b0167076495dadd896b89c1fc64f46e6b6c1560/dependencies.ipynb\">dependencies</a>)<br>"
      ],
      "text/plain": [
       "_e_value_in_e_domain: (2^{t - n} - 1) in {2 .. 2^{t - 1} - 2}"
      ]
     },
     "execution_count": 2,
     "metadata": {},
     "output_type": "execute_result"
    }
   ],
   "source": [
    "%proving _e_value_in_e_domain"
   ]
  },
  {
   "cell_type": "code",
   "execution_count": 3,
   "metadata": {},
   "outputs": [
    {
     "data": {
      "text/html": [
       "<span style=\"font-size:20px;\"> <a class=\"ProveItLink\" href=\"../../axioms.ipynb#_n_in_natural_pos\" style=\"text-decoration: none\">&nbsp;&#x22A2;&nbsp;&nbsp;</a><a class=\"ProveItLink\" href=\"../../../__pv_it/axioms/c56e8d491dac79118ccc66af825783557ca23e9b0/expr.ipynb\"><img src=\"data:image/png;base64,iVBORw0KGgoAAAANSUhEUgAAAEEAAAATBAMAAAA9n32KAAAAMFBMVEX///9mZmYQEBCYmJgyMjKq\n",
       "qqrMzMwiIiJERER2dnbc3Nzu7u5UVFSIiIi6uroAAAA6K1lcAAAAAXRSTlMAQObYZgAAAAlwSFlz\n",
       "AAAOxAAADsQBlSsOGwAAAPlJREFUKM9jYMAHGBkIAQ6yVWz/0bKBYdKnB3jMaOU7wMD9AZ8txxdM\n",
       "ZmBQYJDoaOroMMCq4mgDywKGAmxm3CgvdwDRp2y5HLCqeHIbyjjFk3AToYLvzq65vWBxLm+Y0lMM\n",
       "DRwP4Co4Oc4y7F8AYrEsQKhI5K4ugIXpO/YGhvUJYBUMCBXMAREKMN6G/Q8Y4jeAWEnlQNAAUcFw\n",
       "mgeugiGegeEImLEDyQyGPdwFcC5Q+jM3iMGOrILtQgOcq8nA+psTxOC9ABNqA+JrcBVc3xh4HczA\n",
       "TFeYGIjB6ADj8RUwcB8OADP39IFdzJDyCaif2wFbfLxsL8cUBwB3/0NP0Yie0QAAAABJRU5ErkJg\n",
       "gg==\n",
       "\" style=\"display:inline;vertical-align:middle;\" /></a></span>"
      ],
      "text/plain": [
       "|- n in NaturalPos"
      ]
     },
     "execution_count": 3,
     "metadata": {},
     "output_type": "execute_result"
    }
   ],
   "source": [
    "_n_in_natural_pos"
   ]
  },
  {
   "cell_type": "code",
   "execution_count": 4,
   "metadata": {},
   "outputs": [
    {
     "data": {
      "text/html": [
       "<span style=\"font-size:20px;\"> <a class=\"ProveItLink\" href=\"../../axioms.ipynb#_t_in_natural_pos\" style=\"text-decoration: none\">&nbsp;&#x22A2;&nbsp;&nbsp;</a><a class=\"ProveItLink\" href=\"../../../__pv_it/axioms/43c5ca85739dab0e5d869af8d9f6b96cb94286c70/expr.ipynb\"><img src=\"data:image/png;base64,iVBORw0KGgoAAAANSUhEUgAAADwAAAATBAMAAAA+KHOiAAAAMFBMVEX///8QEBCYmJjMzMwyMjKI\n",
       "iIhERERUVFS6urp2dnZmZmaqqqrc3NwiIiLu7u4AAAAqt126AAAAAXRSTlMAQObYZgAAAAlwSFlz\n",
       "AAAOxAAADsQBlSsOGwAAAOZJREFUKM9jYMANFjDgBQmkS/PdT/Nj4JSXwKWbbUM7A8N7uG6+O6jS\n",
       "7Hc4FRgYGbjS0sTSkhgYuP+hSW9j8GHghevmugARDrt71wEsfSjgCJI07wSwbEscTPeBYtYJcOn2\n",
       "/PQAIMXjBzf8ABtDBkL3frAgywGENPOCt2/hobYEIo1w2gEGbe5EOPcmmDS8CwQJUGn2B4XwUPoB\n",
       "pp4h6+YreAvjcX9geAByP7I0gykbjMflwG0ApFgD4IEK5LKawRUXPAXT3jABlg1w94I8nKQApp9n\n",
       "PADTzP5iQPIJRkx15kICFQUAALDXOQj7yj+HAAAAAElFTkSuQmCC\n",
       "\" style=\"display:inline;vertical-align:middle;\" /></a></span>"
      ],
      "text/plain": [
       "|- t in NaturalPos"
      ]
     },
     "execution_count": 4,
     "metadata": {},
     "output_type": "execute_result"
    }
   ],
   "source": [
    "_t_in_natural_pos"
   ]
  },
  {
   "cell_type": "code",
   "execution_count": 5,
   "metadata": {},
   "outputs": [
    {
     "data": {
      "text/html": [
       "<span style=\"font-size:20px;\"> <a class=\"ProveItLink\" href=\"../../axioms.ipynb#_n_ge_two\" style=\"text-decoration: none\">&nbsp;&#x22A2;&nbsp;&nbsp;</a><a class=\"ProveItLink\" href=\"../../../__pv_it/axioms/44249447384a00e3c2eddd544381c73d683c1cbb0/expr.ipynb\"><img src=\"data:image/png;base64,iVBORw0KGgoAAAANSUhEUgAAADMAAAARBAMAAACC64kkAAAAMFBMVEX///9mZmYQEBCYmJgyMjKq\n",
       "qqrMzMwiIiJERER2dnbc3Nzu7u5UVFSIiIi6uroAAAA6K1lcAAAAAXRSTlMAQObYZgAAAAlwSFlz\n",
       "AAAOxAAADsQBlSsOGwAAAMJJREFUGNNjYMAGuAQ9EpD5WwzgzBUMnP+QpbinX4AxTzEwKKGac302\n",
       "lKG/geH8AlQ5c6jccQaG8wkMfHd2ze2Fy4VIwVj1DAycHGcZ9iM0PzkNodn+MjC8Y29gWI9w6ZNu\n",
       "CM1+gIFhw/4HDPEb4AaegjIkQEQ8A8MRuDOkoQzmAyASKP6ZG83xDJEMXED7NRlYf3OieZltAgPv\n",
       "Bgaubwy8DmZoAbVcUFCcgYGvgIH7cABa8Nb///+FgWKwvRwEyuB8AIEjNG+fGjGHAAAAAElFTkSu\n",
       "QmCC\n",
       "\" style=\"display:inline;vertical-align:middle;\" /></a></span>"
      ],
      "text/plain": [
       "|- n >= 2"
      ]
     },
     "execution_count": 5,
     "metadata": {},
     "output_type": "execute_result"
    }
   ],
   "source": [
    "_n_ge_two"
   ]
  },
  {
   "cell_type": "code",
   "execution_count": 6,
   "metadata": {},
   "outputs": [
    {
     "data": {
      "text/html": [
       "<span style=\"font-size:20px;\"> <a class=\"ProveItLink\" href=\"../../axioms.ipynb#_t_req\" style=\"text-decoration: none\">&nbsp;&#x22A2;&nbsp;&nbsp;</a><a class=\"ProveItLink\" href=\"../../../__pv_it/axioms/536ff1b8d0476ded2e01a40fc226c6e47c8b6b3c0/expr.ipynb\"><img src=\"data:image/png;base64,iVBORw0KGgoAAAANSUhEUgAAAQsAAAAzBAMAAAByJTAVAAAAMFBMVEX///8QEBCYmJjMzMwyMjKI\n",
       "iIhERERUVFS6urp2dnZmZmaqqqrc3NwiIiLu7u4AAAAqt126AAAAAXRSTlMAQObYZgAAAAlwSFlz\n",
       "AAAOxAAADsQBlSsOGwAABN1JREFUWMO9mV9oHEUcx393e5fbu73bJCoGH2xPRN/qXbEgFOQCglIF\n",
       "PYTikyZVpE+119KihdgEKda35kVCheo9FCvByAr1wQfJ+tIH/9BUDcHaNftQWyxtriRNe03jnbM7\n",
       "++e3tzN7O0vpD8Lu5ea789mZ3/x+v5kDEDJ1ZWUF7pORR5l9G73D/G+p270lqgm9ynv0ur/bXQC4\n",
       "EomSK7MxpsQ1IXve7VkmGNLfUU2PgDjGkagHou6UBYQBP0SI0qPiGDyNbVdPd/wPMxgj3+CrftTF\n",
       "MXgaalmEUSojDPiNL1oEcYxFiIuhbMEY33KdND0kjsHVhDHgZYyRafI0qWlxDK6GgXFCRxjyJk8z\n",
       "ZopjjJnxMTINhAEv8TRLII6xBPExlA7GmOe8gLQmjsHXMDDUdYzRqnPC4ZA4Rm5IAAP2YYyBBY63\n",
       "NcQxUg0RjIqOMNIcH62VxTFqZRGMVhlhqKscp9fFMcb0aIz8ZnjsHAwYYUv2gDjGnmiK3IFbB9FH\n",
       "6g4uxj625tFIjB0jfE1x9sVqnFyfv4kxvrBm5pJ1dxlNrboRPRqscONozkG+HQcj3cYYlSk3lKin\n",
       "/MUrrfeqPgpg7GWFDaqZABh28kWky9LmLkaN9F1w7t/83Itx93pV3/XFcDRbTZikvqrUIwvBDYzR\n",
       "Ismt5KakbS5Hei02hrc8HM2HAJPVGBhwB2MMNuD4/r2u4OzXzhK315b8xvVP3+VhXNv9FcDxmae8\n",
       "Ci7rrcdliINxO4AxThKL/92xo9SNbW/JDxyGls7GkC7BQF3qwEOy5/qdHsfqg/EIxkiR8vE0wqCl\n",
       "e8F+5CelcThfZWOQiZTWcgvWHDhWcDFKjVgYBsYokeuf3ldnJ5xQYy9qszVFU/CcYQwbxhLGqGkA\n",
       "dwMYVEPsSxvKMC48bhgW0WC3x2jDCwGMIVC9db7tm+AjyWwd4vjGPLncljtWNfvvzFGMkXYzXJ/R\n",
       "6MVQboLZs2CdASYMqyobwxqNDfXMDIkNTZjDk/I9FPUkk1IYVao94cvJQo+RyJZnY6SaILcVO7+0\n",
       "qQM5GmkasmYSF801/ukN5lk7BhTXIDv6JGelPAyZafmFX0iPz1AMqoFfZ2fnYk3KSACjAcW3Q1GX\n",
       "hiLSRj2oMTCeG56An05+APBa9z+rr1MofC17W+0+GIEoOsjcIijt6CjqJmtN/XnR3ZyGNB4GM+mq\n",
       "dwPBnLm3kFajU5tjH5O/p0lSNZkaL7Uxk244tVG7YVj2OxqxvmXPDfKSr0CxSZcGV+Mn3VAmdDHm\n",
       "Nabyj1gY6sndn1Xh3LM7zUiNn3RxZbqJMTgF5AGBInBrtxut8ZMurgkD1dckW1kxxWvRSsTecdm7\n",
       "K56hFWlqHGNwis6almCDoPUptWx7whmX83WEUVx/INulkveVdE9ku1RIsHnka2jSVa2wlrvzft11\n",
       "GB8jx9k8ym1xDL7GSboX8ZAFttKDvIB7McHBAlfjJV3SoRMu04GDBa53VxIcs/A0ftIl8b8Z8BYH\n",
       "Y+lBHDr5SZcgbYEVgUOndCfBERxHs4zPt3e+/hb4WwyKMcBfY7sSHEjugrgmdzDGCX7g257geHa7\n",
       "HhejpGGMvyIORcbFMXiasMU+rL7/R/d4TkYxxrGophlNHCOjxcPYYSIM6dXItuyfaBRdXBMqAL2O\n",
       "VVKhXbaZ/geKx7uLJHCBrgAAAABJRU5ErkJggg==\n",
       "\" style=\"display:inline;vertical-align:middle;\" /></a></span>"
      ],
      "text/plain": [
       "|- t >= (n + ceil(log_2(2 + (1 / (2 * eps)))))"
      ]
     },
     "execution_count": 6,
     "metadata": {},
     "output_type": "execute_result"
    }
   ],
   "source": [
    "_t_req"
   ]
  },
  {
   "cell_type": "code",
   "execution_count": 7,
   "metadata": {},
   "outputs": [
    {
     "data": {
      "text/html": [
       "<span style=\"font-size:20px;\"> <a class=\"ProveItLink\" href=\"../../axioms.ipynb#_eps_in_interval\" style=\"text-decoration: none\">&nbsp;&#x22A2;&nbsp;&nbsp;</a><a class=\"ProveItLink\" href=\"../../../__pv_it/axioms/9d5ec70dac6f6bf937c670e5f1e42dac8ce086460/expr.ipynb\"><img src=\"data:image/png;base64,iVBORw0KGgoAAAANSUhEUgAAAEsAAAAVBAMAAAD85A5eAAAAMFBMVEX///+6uroyMjIiIiLu7u5E\n",
       "RER2dnaIiIiqqqrMzMwQEBCYmJhUVFRmZmbc3NwAAADLcLLWAAAAAXRSTlMAQObYZgAAAAlwSFlz\n",
       "AAAOxAAADsQBlSsOGwAAASxJREFUKM9jYMACHqBy2Y0nYFPF3oAmwCaATVkbUCL9HpTDaYJDGYsC\n",
       "A4MGgzPEZp9LX3Ao493AwG3AwBYAdQGaMvZgYyMwg4uBgfUAA8cXrMoY1R2grCYGBv4LDJw/UJXx\n",
       "3TkN4j6CqWK4xsDgD1T2G1XZLkig6MHN1WZgeJ/AwPkdRRnMcAW4MguIsm8oynj+nCkABc9iY2Nj\n",
       "U7DEQqClCQyMqKZxHYAEVgDctIVgL3CgeoE/AcI1QLaUNYCBGzVAWC9AuOVwZeEMDNwLGHgVGByQ\n",
       "vbCEwQXEZYLHdw7YRK8JLJ/A0f4PEiBzq0vAjjsqAlU2GYh9008yMBgDjeM59ek0SmQxpkIjixmW\n",
       "ujgc8CUk7gswWfzpLQ5Ku+NX5gqlC/Ar4ytAS/RWAgAq4EbgXI6PMwAAAABJRU5ErkJggg==\n",
       "\" style=\"display:inline;vertical-align:middle;\" /></a></span>"
      ],
      "text/plain": [
       "|- eps in (0,1]"
      ]
     },
     "execution_count": 7,
     "metadata": {},
     "output_type": "execute_result"
    }
   ],
   "source": [
    "_eps_in_interval"
   ]
  },
  {
   "cell_type": "code",
   "execution_count": 8,
   "metadata": {},
   "outputs": [
    {
     "data": {
      "text/html": [
       "<strong id=\"bound_01\">bound_01:</strong> <span style=\"font-size:20px;\"> <a class=\"ProveItLink\" href=\"../../../__pv_it/_proof__e_value_in_e_domain/2dba2d4760aef7f7660487e54dd8fcaf38633eff0/proof.ipynb\" style=\"text-decoration: none\">&nbsp;&#x22A2;&nbsp;&nbsp;</a><a class=\"ProveItLink\" href=\"../../../__pv_it/_proof__e_value_in_e_domain/f6a8143496d86e53edc18a9e18fff7eb5849f5fc0/expr.ipynb\"><img src=\"data:image/png;base64,iVBORw0KGgoAAAANSUhEUgAAAPoAAAAzBAMAAABMJQhyAAAAMFBMVEX////MzMxUVFRERES6uroi\n",
       "IiIQEBCYmJhmZmYyMjLu7u52dnaqqqqIiIjc3NwAAACW8nlqAAAAAXRSTlMAQObYZgAAAAlwSFlz\n",
       "AAAOxAAADsQBlSsOGwAABDhJREFUWMO9mVloE0EYgP8cu0nWdBsf2hfBloIHirYKoojVIBTpgzRW\n",
       "g+JZD0QQNAgVBcX64I1aBBVUcFFEW9EuBV8q0j5YQUQbEMELmxehKGgLlUKtXScze6Y7m1mZOA+b\n",
       "JjM738w//zkF8NU6OzsV4NMkNJfPV3ZoWju1M5RgmuMuWX9I0375pG/w6pzDNkdgs/FXA0d6UPV6\n",
       "s8I6sf5S0I96HfLc2xZ9WjV/unzA881Bm7Zu5E8Xssz0Fwp3+mFgpsfauNP3s9PDk7zpZePsdLjC\n",
       "my5U+6APKJzpVQkf9K4sZ/ps8EEPpTjTd/mhRyb50gNjfujSmEnPUcbn/NDLJovQe3NTJYXoZX2U\n",
       "8Wv90EMt3vCag1cytq9LDPor6nYyrvTANTfbEuvwx9C5RUwn2KvTJZQtSNtdh9zAz45Mwd5jbvQu\n",
       "7DzlOuhNstBPJAk9iiaPu/upI0RDnmSd9JAbvQoPCuZA1I9gjSedDG8AET2jKdchoq6m73qK0wew\n",
       "9ojjENTV77UnnYiqAV7mvaR7VhIzZN7aQ6HLliixqwumIDjCQi+vJvQLAKtXLXbG5rXzvr/N2nIQ\n",
       "eHnJSZcuvk9CeP6cz6bQBg2DEoaZ6HWEfj0vtoI+dXFWQgKMWOlr4zwHvSIH9VCliBlTxXoVx4kW\n",
       "o4vthL4VPc85u8LJ9SAjAcYtG25c7qBvyUeVWXlBG+2yQW8GFrqQIvQ96LkF6/bVdL6h85OkUWwG\n",
       "gWFT8gsdkg9MINmpDnqt/hnFIj2VTu9Np/FCtMJG6C0mHcGcLT4MQSSasLH31vNOrYuP5k+uSREy\n",
       "ID2tUez0Q8C29xZT8gjmLI8QujyjQDxFsTi897YH81H5ENXNVZd8XIUffiRfj2ZojztTA1FF2YcK\n",
       "kTqat9kH0JR8jpU3KY/YgsgMgI9+tK4bbbX6kbPvZwI+RBIQVV09LaJXJuAmNM78huxCIfRBvH55\n",
       "09mzKSa6bu8V6J2lBfEExZ47x5B4kq5RZvaunHyhOwkxTduWr0xSlrcRNLPKLGLvuq8T6PnYV+8I\n",
       "uwIe92eNAm2gcKUm3TXsdamEHmmj0s940sNIK5BmyMQTVBWGYyPKuIc9I8rASmphRkL2PewG1k2h\n",
       "S+inWB8MESUvp23CFvamBCVEv0tNV3Lekn/47NNJkBdNx85AoF0q2MKePcvL6XSZVv19YcmsRE3D\n",
       "HjFIy6xsYc/WavnmtBGPQkowPTYM1RD92M05o54olsjgNe7UVerP/6smmq119JWmmoDT1B4S9rry\n",
       "allbs8BQBr70JmouS8Ke0GYTUDnvKlKgGbwV9gB+G1kg7wqaqvRW2ANY5tSE0t+c2MIeQKUiKSW5\n",
       "OTGkOeVENNvlauDiccWWk3Okx1TmWZr435gFDjDPsrUEN6VvWScpxU1pkVtiW2uEEtDhFtscgRv/\n",
       "Sn/j1cn434EO0zju/wVH7j/1+a292AAAAABJRU5ErkJggg==\n",
       "\" style=\"display:inline;vertical-align:middle;\" /></a></span><br>"
      ],
      "text/plain": [
       "bound_01: |- (t - n) >= ceil(log_2(2 + (1 / (2 * eps))))"
      ]
     },
     "execution_count": 8,
     "metadata": {},
     "output_type": "execute_result"
    }
   ],
   "source": [
    "bound_01 = _t_req.right_add_both_sides(Neg(_n))"
   ]
  },
  {
   "cell_type": "code",
   "execution_count": 9,
   "metadata": {},
   "outputs": [
    {
     "data": {
      "text/html": [
       "<strong id=\"_eps_le_one\">_eps_le_one:</strong> <span style=\"font-size:20px;\"> <a class=\"ProveItLink\" href=\"../../../__pv_it/_proof__e_value_in_e_domain/9e916907dc1c7446836fc1dfcda5f9c7eaf67f770/proof.ipynb\" style=\"text-decoration: none\">&nbsp;&#x22A2;&nbsp;&nbsp;</a><a class=\"ProveItLink\" href=\"../../../__pv_it/_proof__e_value_in_e_domain/ff24096d2b1d72376aed268b9700cde0af9715870/expr.ipynb\"><img src=\"data:image/png;base64,iVBORw0KGgoAAAANSUhEUgAAAC4AAAARBAMAAABQu4N8AAAALVBMVEX///8iIiIyMjLu7u5ERER2\n",
       "dnaIiIiqqqrMzMwQEBCYmJhUVFRmZmbc3NwAAACWiUnzAAAAAXRSTlMAQObYZgAAAAlwSFlzAAAO\n",
       "xAAADsQBlSsOGwAAAH1JREFUGNNjYMACOITRBNh1QaT1oceowlwyBmCaDVWcTdSAAYu4qRhcAUic\n",
       "9/QuMMdGigFFfGUDmG2tzoAizvEcwuZGE+d+vTsBzLmDag7nBuz28gVgdyfLAez+4pjMYIwIBw0w\n",
       "xfoWSPRkJaOFEvfOR7sYyAWGgiAgAeMCAHIjHN5FackWAAAAAElFTkSuQmCC\n",
       "\" style=\"display:inline;vertical-align:middle;\" /></a></span><br>"
      ],
      "text/plain": [
       "_eps_le_one: |- eps <= 1"
      ]
     },
     "execution_count": 9,
     "metadata": {},
     "output_type": "execute_result"
    }
   ],
   "source": [
    "_eps_le_one = _eps_in_interval.derive_element_upper_bound()"
   ]
  },
  {
   "cell_type": "code",
   "execution_count": 10,
   "metadata": {},
   "outputs": [
    {
     "data": {
      "text/html": [
       "<span style=\"font-size:20px;\"> <a class=\"ProveItLink\" href=\"../../../__pv_it/_proof__e_value_in_e_domain/f7209ebea9bd613173519f226c944cacda6e8f5b0/proof.ipynb\" style=\"text-decoration: none\">&nbsp;&#x22A2;&nbsp;&nbsp;</a><a class=\"ProveItLink\" href=\"../../../__pv_it/_proof__e_value_in_e_domain/452f0ed8ae7acaa2fed06a7fea59391c56de0ab50/expr.ipynb\"><img src=\"data:image/png;base64,iVBORw0KGgoAAAANSUhEUgAAAHMAAAAyBAMAAACdafkcAAAAMFBMVEX///+6urqqqqpmZmbu7u6I\n",
       "iIgiIiIQEBDc3NwyMjJ2dnaYmJhUVFTMzMxEREQAAAC0ii6rAAAAAXRSTlMAQObYZgAAAAlwSFlz\n",
       "AAAOxAAADsQBlSsOGwAAAmlJREFUSMeVlr9LW1EUx4/1JeaHL3HtlExKuyhEWnWwbyoIUgOCU9Ei\n",
       "JRVa0MlK6Y9MjiLSsZQMpYODcao4JYOo0CH5D+JQnKRgq6B1iPfde9999uV9z9M35Me995Pce873\n",
       "e+4hEk+mSeh55hD7/MRT9kuW7K0wVD+L7oaOTo6euW+pOkMmVsLHYxKl1wwaL7LoABOoHWLR5BBG\n",
       "3/Fo1wUk9Qo88QUftR6BDsLDtpoR6FQRoQdRJ8m8QCveR6FpFCf7Kgq10IoYjH3qImJfmSVkioNL\n",
       "7ahjsKLnSOq48BV7tto5tDldFqGXOluj1ClEa33BkWTeWhBplVk7JHqrRru2OzPfkdgfRFtCK3n3\n",
       "8yeHGmU5eq9TAGpjNOH/6InUWE2ecZ+o0URoVknV+m6m/oqt5GmurL8uEkSP9IeZbzrTLrpNVS1u\n",
       "+xyiPevmjMOqrvyTAXji/G+gEDTui/jBiEEr1NCD4+5Ld6n0arlUcn8l23Yfhd5Qzf09d8MCzRU9\n",
       "NO25Nuxfb6K/dJhEZvSGH1KifJsNH8q330InDlUlYVco5twiTCOmEo4Szcl0rhYKj3CE64HkUDxv\n",
       "fSAticV2+xLnVanJmjFT1thzgQ0GtG1Q30xT6k56GlR3KzBg5O+bqQXqWhYVd99MyiEhZXgdoL6Z\n",
       "jMyDdQQVGN9MDbAifYZvI22mj6iY/sHNgDJT4vzOJdwzEyzh9Bii4zoa8OLI9aEoaP1l4XUVR4n1\n",
       "zFSDlyQKsTHTmzs3BJ6ZmIYAbcgzU4ZpnJIVtiHLMc2PvcKi89zkLDfJNnqovdQlkG9qN5jTfOZR\n",
       "ppWewEG6Bu4OpjyKmyDoAAAAAElFTkSuQmCC\n",
       "\" style=\"display:inline;vertical-align:middle;\" /></a></span>"
      ],
      "text/plain": [
       "|- (2 + (1 / 2)) > 0"
      ]
     },
     "execution_count": 10,
     "metadata": {},
     "output_type": "execute_result"
    }
   ],
   "source": [
    "greater(Add(two, frac(one, two)), zero).prove()"
   ]
  },
  {
   "cell_type": "code",
   "execution_count": 11,
   "metadata": {},
   "outputs": [
    {
     "data": {
      "text/html": [
       "<strong id=\"bound_02\">bound_02:</strong> <span style=\"font-size:20px;\"> <a class=\"ProveItLink\" href=\"../../../__pv_it/_proof__e_value_in_e_domain/0d235adeb757ac40b71f3ad3e25b8ea4f30a72660/proof.ipynb\" style=\"text-decoration: none\">&nbsp;&#x22A2;&nbsp;&nbsp;</a><a class=\"ProveItLink\" href=\"../../../__pv_it/_proof__e_value_in_e_domain/3f9dd07e797ba64778ef3bc1f0de3fb5487cd4a60/expr.ipynb\"><img src=\"data:image/png;base64,iVBORw0KGgoAAAANSUhEUgAAAUsAAAAzBAMAAADsnze1AAAAMFBMVEX///+YmJh2dnaIiIhmZmZE\n",
       "RERUVFQQEBDMzMzc3Nyqqqq6uroyMjIiIiLu7u4AAAAjTthJAAAAAXRSTlMAQObYZgAAAAlwSFlz\n",
       "AAAOxAAADsQBlSsOGwAABQhJREFUaN6tmU1oJEUUx99MMj2f3RkQ9OKSQWFvbgbRi6AZ3AUV/BhQ\n",
       "NAgbJ1GyeFgziEYXRIOXKBjShwXxogEPIrpkvK8kiKzgQUdddhd1tBU9CGsmu1llssFpe7qmp7u6\n",
       "q9+rrk1fJkxN3v/X9apevfcKtre3LTiYx3BsCb6+UQX3/3+17a3YX2SWpQz9yTAytv2fYBRVgJn4\n",
       "t55ln8/Ydht+wvTn5N4394v31+eCUVRBK8ePrXpOKOKYWgVTWPVdeUYZcx6xXWjLYd6KLcTnvvUx\n",
       "0w1FzNQWZvuwFGb+FOrq6cDG+E4R810Ts62XZTD1qjTmR5Ya5g+o7cLrMpi3gDRmqaaEmWritr+U\n",
       "wXxRHrO4p4SZreC2N00ac6wvjwnnlDCnLXyg1KAx9UYCzA1LBfMCYbvQpzHXlhNgdqsKmLkeYdvY\n",
       "pTFPQALMTFsBU2tSto/TmEtJMFN7CpjZBmV70qQwc1eSYBpXFDDXypTtbpnCHNsjMKfM6Nwnw5w2\n",
       "KdtsvjHMTBOnXHjjXHAyjitgPkXaZkueYea+Eq2RbN39OP3wjFQyN4VhihXgZVIhvROYzZLISNc9\n",
       "//J1mGrJYE62ApiXy6HZFCoY10iF1H4AMyMysuZGQs2E7ND7n6GY7OdDTOOOKo8pVMjtkgrsJxjm\n",
       "xrrr+j5ow730IYrJJn/k9HuP0JiF66QCm/AoZt73onsIaW3QejKYEw1+bR46EoPpK6R6tMK/PKZx\n",
       "9K4WFOfn7mlHooW+I4VZD22hTx/iMaMKo5CHKPzDY66a8DisWdnyaDVPWdyqozCzW+GdfvYFDjOq\n",
       "kO7TCq/xmN8PUo2TAw94z2NWKI3BMfV2BHOWw4wqjPdphQ6HmXNW80SFM7LoGXO9+Uin80qn49qz\n",
       "ww/DbIad/jzndIGCtoMpsMGLHGZhf7C6Ni2nSDJuW7CCmDeD3GyGMA89ym8hgYKHiSlcjM5m7Y/5\n",
       "OefdYLwdcHqhAu8pOD0SkAQKQ6ejCrzT4SWn8Gh94m7ZVr4XOP3fBLgv8RYShfeoQnqPVghtoZVl\n",
       "+ALOvv2+E80sZmTajZv588eOtaUwG9hhKVQY69EKS4HU48SSmb//cAtKtj0onNNtP7zr9qhRRcTN\n",
       "GpZ6CBVYeMcVrgkSuafhrzNVrzm0Ec4HRkaEKU23IpPIcQqFfVLBuBrFLDqBIVWH/Kw4tfYSA3FK\n",
       "w6UecZi8QqQ+iCpwqYd3zl9yMq51OM023kQtrtDyU5pIpjLE/LszeC5FMHkF5lFUgWUnIaf/fvud\n",
       "D0J+5i035OlxvdNAShMpGCincwrwM6nAjn1RkZEdHgCx1WkgpQk8i/JFhqcQW2L7CtoOVQulkN6M\n",
       "l9IMVvtCOVAwJKuFJi1KgVU6aAF8nUrV3Zd5dbjqd1UK4HVK4YPqjbQTLkSUDrid4CnQ7QR4IHaE\n",
       "pTTdwR5bXHjWW07JMcebuALASbo5sxlb77GURq8FpnxCpdVV3McVACRaXXpc4PRTGoCr/G5I2Dg8\n",
       "TyikJBqHsVvdT2kAnuDXUkLMuK3uKegSbdi4pnYgpQFYsQzrwJvaIwWZpnbcuwZSGidsHb3JChS4\n",
       "Sa8I+rjCkyCBWaqA7LNpKWE6GSj2FPsymLlT0pg/ghrmiokWLusymHC3LKXyZeBYHTMrdxlIXK0G\n",
       "S3JQxIy7WmV0W3KY8LUcZe4bZcxS/LEO71g+5seYEclr/8ujkPCbYBRVwK79Ry9vlP8HPiB3QhnV\n",
       "g2cAAAAASUVORK5CYII=\n",
       "\" style=\"display:inline;vertical-align:middle;\" /></a></span><br>"
      ],
      "text/plain": [
       "bound_02: |- ceil(log_2(2 + (1 / (2 * eps)))) >= ceil(log_2(2 + (1 / 2)))"
      ]
     },
     "execution_count": 11,
     "metadata": {},
     "output_type": "execute_result"
    }
   ],
   "source": [
    "bound_02 = bound_01.rhs.deduce_bound(_eps_le_one)"
   ]
  },
  {
   "cell_type": "code",
   "execution_count": 12,
   "metadata": {},
   "outputs": [
    {
     "data": {
      "text/html": [
       "<strong id=\"bound_03\">bound_03:</strong> <span style=\"font-size:20px;\"> <a class=\"ProveItLink\" href=\"../../../__pv_it/_proof__e_value_in_e_domain/2c5e22d6aed6d4c8b8c05ec39b8fead45adfdafe0/proof.ipynb\" style=\"text-decoration: none\">&nbsp;&#x22A2;&nbsp;&nbsp;</a><a class=\"ProveItLink\" href=\"../../../__pv_it/_proof__e_value_in_e_domain/2beb4d2e2d70372c9712888c35a0a1c6ab1ff2490/expr.ipynb\"><img src=\"data:image/png;base64,iVBORw0KGgoAAAANSUhEUgAAAOMAAAAzBAMAAACXnqJQAAAAMFBMVEX////MzMxUVFRERES6uroi\n",
       "IiIQEBCYmJhmZmYyMjLu7u52dnaqqqqIiIjc3NwAAACW8nlqAAAAAXRSTlMAQObYZgAAAAlwSFlz\n",
       "AAAOxAAADsQBlSsOGwAABBBJREFUWMO9mF9IFEEcx3/3/269W68HIwg6CdRS0iuIIFKXiMAnr+gq\n",
       "0lLsD1GgV1FQLxphnEklRgUVtCBBKukh+CKIPqQgQh5FFBV4IEH0UAqCJHrb7Ozu7Y3u7KbtOg83\n",
       "y/xm/Di/+c13fjMAayo9PT08/EdZx/g6QeigGh1BqqlLBlUKQmSNyGN6xiK6yXZK+XKaibQntNvz\n",
       "xBmOWYK8qdnK7HgpInPyLUCyjRTDNF7HExYgXUld5DhvPvIG6CJ9LeYjL+sjnWnTkYFFfSR0mo50\n",
       "5Rsgp3izkaGgAbI/aTayEAyQjojZyAYjpCdtMtK2YIRkFlRkiqIma0IG0lTkSCrbDyIyMKrd05lc\n",
       "C9JRT7Nsb+qM4Y+9GeQkre8nbaTtidZ2cIexZ+KP6GfmiIJk0JHLnNHq4pPWoDu2YpY+LWQ/1rMZ\n",
       "yJmnIps5GelFf9GvqRweSRWZwSSJdGghQ7hTKcAFeVlilC4I6UaVVztwL8n1xyFj5BSOiCYeyqRg\n",
       "8ScpjkDICVGstM/zp8rH9SEKUo3qZryGBQBlQRoyN19GtgMcrNxDdHC+7xsuR/VApmXiAYlk7n/m\n",
       "wFlS9C3jnmllq9UBFRmWkeJUpkhbjmMX9KeIzKKqmEDmpaAcQrw7xmXCUT6BbctUpLtDRtaiqo20\n",
       "HXKF4Tfyz3gWcj+BrBFlvADsagw85MkDRQPpisjIc6iqwZH5OCoWhOL7OXzUhFTHlhKOtS0hNyUI\n",
       "ZJlc3xF/vNHo8fPRKKYLYpnFyHoVyazcS8jRO1F1OBM+98jw8c+LK1PNu2LQO1CcjfQooaU1y3rV\n",
       "sf5ZILN2xFtg1Nxz1SbBs2x5XYJy5RZozXbsJLApQ8ei0PR2+IMr0hj/Yg7ANaoUXASo5t6KDfN4\n",
       "1RXttiUgwBuGD9oJ9vw35BkyB4GOKyDuHy3BQ8jNQXgOVdt+AtySkdP493s83kqPWGVf5iHEPlKd\n",
       "ROUtGtU8NkRZL2xIse0DHPgE4TRqGsySAnRL+kPfl4r6uKjSz0b0D68D0DeWVC44UxzZUUX+aNst\n",
       "C15CRsrirVG8MV2kE4mJJwwz0tqFVnTOyDobhhGOlHWooCFnpOoV3q5HViEZ1OQbZVukEM2l/ef2\n",
       "FLjrs5RfRHbRkBUGWUHv8NfbMLNpC56mi3bTdS+CPZ0lwyKSpVxfAql/SUSaBEGaDC0RQQpln8tS\n",
       "C/MyPM+izp0M6x2cNTupXKIPkuKGXd641BmOWpM6w12qxRtWFtVkZDVHs1yVxcf0a5CLtjH9CfiF\n",
       "JdH0yx41ZLcCfFFXdCMu7uzJeDxizcVdcdwqhwvSG5ySipqJ9CV0R1Zb8Ahja9QdWWvFg9oHvYGW\n",
       "PKhRnw2lRNiSZ0N4oeP1Z+tGvtMz6jwBd2fCmYn9BVIVLNRmc0S9AAAAAElFTkSuQmCC\n",
       "\" style=\"display:inline;vertical-align:middle;\" /></a></span><br>"
      ],
      "text/plain": [
       "bound_03: |- (t - n) >= ceil(log_2(2 + (1 / 2)))"
      ]
     },
     "execution_count": 12,
     "metadata": {},
     "output_type": "execute_result"
    }
   ],
   "source": [
    "bound_03 = bound_01.apply_transitivity(bound_02)"
   ]
  },
  {
   "cell_type": "code",
   "execution_count": 13,
   "metadata": {},
   "outputs": [
    {
     "data": {
      "text/html": [
       "<span style=\"font-size:20px;\"> <a class=\"ProveItLink\" href=\"../../../../../../numbers/logarithms/_theory_nbs_/proofs/log_base_large_a_greater_one/thm_proof.ipynb\" style=\"text-decoration: none\">&nbsp;&#x22A2;&nbsp;&nbsp;</a><a class=\"ProveItLink\" href=\"../../../../../../numbers/logarithms/__pv_it/theorems/1d0f363079d69d5571d3f713042a549971d413cc0/expr.ipynb\"><img src=\"data:image/png;base64,iVBORw0KGgoAAAANSUhEUgAAAQcAAAAYBAMAAAAFciVuAAAAMFBMVEX///+IiIgiIiIQEBB2dnbu\n",
       "7u5ERETMzMzc3NwyMjK6urpmZmaYmJiqqqpUVFQAAAB6qHgnAAAAAXRSTlMAQObYZgAAAAlwSFlz\n",
       "AAAOxAAADsQBlSsOGwAAA7dJREFUSMfNlm1IFEEYgN/z9m7v9u70EIuiFBOlCIKSwjCIMzCMTBYz\n",
       "KQQ9Qa/Agkv70a/cPn+GUUaQ0EX9kQzPMPw4kS1QEAku+4AiyNKgHxIFSSaIvTOztzu37kXFFQ3M\n",
       "7rsz884+837MDEAai5Ki3cU9f1npD4stnqIjlz4lv2XnbazTRHiTFojnIF6dtmj3BaC2GN/rV/SI\n",
       "RYiuAgyTjxvpYHB0ALitII5gvYnVLZs66ofm8dkJcIZ4K5gOCA8uyWkFMYJ1Cas3usKBBGKS4Qnx\n",
       "dEDYIQXEVowH8jfYQe2imiDsMnixzZ2WkHiVDKEngw/dJOQTqYt6bY8/GcKNBMUFBdvTAtHPIBx9\n",
       "6yIgzc7l5ifcFMAfvctDa1exhuzyJAgBwQcAmlPNK/wORBeDaFWgEdpluxrR2slKGzodCwATWsvj\n",
       "hzyEFy11GVzTKWPN9P5p2cIgCgHaw+8hM2EIyEAbvJVhG8Az3XODHIQPY8YpCxE9b69rwtS+0Svc\n",
       "z50sBycsfq2rQCmFEDEPsgI8hB2nHwL4inC6VvcHA0L8jCB+Li5nSWNeKGIToCJghjiZrW0I3N7A\n",
       "VDgI3yJCBHvlDJWHKAQJ4e4YEM0GhISWgI5HxqQlWGNh7LXBmF+IPYgNcxAwxcJ+VN90iFiS7A5q\n",
       "iWjd7Bzw7lgCz3xCn7jjI+8OYrMDuGVBzaMKYoQveTLZRgnEqqjZEmwS8ZOiD0eRqLDeRhYTuwB6\n",
       "I685hzkxJb/BQZx2PBGYg0mBSbbK8xiXjk3iAmksskVraa/galQtIaQWJTGcikSF9VYxiLYwXIPu\n",
       "0xdxVGWOoqXgHLRoSZyUosKClsKQieb3REXiGafq7eihEJ6mIFhBSE1k3XQ4E4kK621F08zsVlz9\n",
       "VRFwLy9vgGqlnUCIaO76/cS+m2kYZeubVebMd/RaRkQPHhvJU3vYMz0RCoXiNptwn9snDIi2uD5c\n",
       "E1FF833YcMEJODzlj0Eb/diYiCCaMNWqKb/OJYQGxTmG68oCe/wUtYRNusudeQaEY288MZyJRIX1\n",
       "cueTFCSuLoU8+jXJnXApzjdmCaW9R66BDHkc9w0aE1AetYIAWK1qw5lIVLRyzMhcXLz7xQIcP0S1\n",
       "tcvTJetrl36ESyNPK9G+Yp8fXEdJHq8N1A2ZIS7cKiOvcZUNZyJR0UqtoVBTljMAO8XFMYoUNEPy\n",
       "xWm63zG71oRCEfPApK+XipWIazLd3+49yWEOOMvy0fo2uSb5U5JTHQtO+GfFC/8BROri+rvT/wBW\n",
       "T/9TcG8QSgAAAABJRU5ErkJggg==\n",
       "\" style=\"display:inline;vertical-align:middle;\" /></a></span>"
      ],
      "text/plain": [
       "|- forall_{a, b in RealPos | 1 < a < b} (log_a(b) > 1)"
      ]
     },
     "execution_count": 13,
     "metadata": {},
     "output_type": "execute_result"
    }
   ],
   "source": [
    "from proveit.numbers.logarithms import log_base_large_a_greater_one\n",
    "log_base_large_a_greater_one"
   ]
  },
  {
   "cell_type": "code",
   "execution_count": 14,
   "metadata": {},
   "outputs": [
    {
     "data": {
      "text/html": [
       "<strong id=\"log_base_2_of_stuff_greater_than_one\">log_base_2_of_stuff_greater_than_one:</strong> <span style=\"font-size:20px;\"> <a class=\"ProveItLink\" href=\"../../../__pv_it/_proof__e_value_in_e_domain/110db2f30670b2d4ad93311c60963ba393b37fc40/proof.ipynb\" style=\"text-decoration: none\">&nbsp;&#x22A2;&nbsp;&nbsp;</a><a class=\"ProveItLink\" href=\"../../../__pv_it/_proof__e_value_in_e_domain/cc6957e809031d0e30738bf0de6a7b13158bbd3f0/expr.ipynb\"><img src=\"data:image/png;base64,iVBORw0KGgoAAAANSUhEUgAAAJ4AAAAyBAMAAABfdX/dAAAAMFBMVEX///+YmJiqqqp2dnYiIiK6\n",
       "urqIiIhmZmbu7u7c3NxERERUVFQQEBAyMjLMzMwAAABfdDLwAAAAAXRSTlMAQObYZgAAAAlwSFlz\n",
       "AAAOxAAADsQBlSsOGwAAAuhJREFUSMetl01oE0EUx98m2XTztclBRLwkoEclgRYs5GCVUJUq8ayI\n",
       "OZRezaESqwgBCwWlJIggFsEePAiKRFRooJAKnrSo6EUUNDcPfsSvNFGocXdnv5LMm+RBB5JZdmZ+\n",
       "OzPvzf/NA0DLfbzpchHIJRTD29TDdN5DEWo3GSe94r6+crGtV94KlXezzH/vN3hwgMqbBCFvD9Ei\n",
       "0pqYF8nTeOGUmCf/ofHOFMU8eE/jTcEAXpK0geq/QbxSjnQ41gbxghMkc1QG8SSSQRqxQTzlB8m8\n",
       "ZazFa83rOYV3D93Y1c0H7Ok2v8NX7neeGf+Bwrs6+sn9iPbwHFNpGdUSeJsoL36crz13ee63YVRV\n",
       "gHX2Qu63TyPHtxWP5/lpVC+LUGOG8fQPLjFFWIzhPNuoEjsejwBqdYwXZS6qjOX6eAszZwFOprfb\n",
       "Ku63nTULKG/ZfJge7+GpRyCYU9vwRLadrN29kTxe2A4I285183wp7fyHJvTlmWXE4vkqKM/nHOC9\n",
       "c128RgLgVxcv9N18OG/QM5mjTzMZHR3t6IXxXJJxasXNS2qe9Fdu6zHmUnrFzZMsWeDNz8270zu/\n",
       "lnIhrVk+D7Pu9e6CQHmY9Va71hvOg9z0GO7ehFt159CrKfAXh7DHXI99X0AkJX+4oQ3dwXh+5n/X\n",
       "CoVZ3L6VPn/Rp/F5vQrXRx8DfOz81geNufw52+ls4v7HzocynevXHl2/E8rVSet64umVAZvnSE6J\n",
       "RdR5RHlPaL+dmqQY+6X2iq+tB47kNMQBaV777GsI5JlBW1g3R3KSCSFPGZ3ZV4elb5+MCR7DujmS\n",
       "g4cEd3fT+VexDo7k1CjxIy6I/ll3SBg2XuKbY0pOYGNr4rklObR4PoLeN5jkaM5Lum/IaFyzJCdK\n",
       "ug/BIazBkpw47cKLdbclZ2pr7ruW5FDvu1IbcT5TcoLUBOSNuPk0NYP7Ij6eB6n5jH9Z1ErPt7B8\n",
       "0Axo9PwyItA39S2dJ8qnF1Fr/Adn0+EVI7J0+gAAAABJRU5ErkJggg==\n",
       "\" style=\"display:inline;vertical-align:middle;\" /></a></span><br>"
      ],
      "text/plain": [
       "log_base_2_of_stuff_greater_than_one: |- log_2(2 + (1 / 2)) > 1"
      ]
     },
     "execution_count": 14,
     "metadata": {},
     "output_type": "execute_result"
    }
   ],
   "source": [
    "_a_sub, _b_sub = (\n",
    "    bound_03.rhs.operand.base,\n",
    "    bound_03.rhs.operand.antilog)\n",
    "log_base_2_of_stuff_greater_than_one = log_base_large_a_greater_one.instantiate(\n",
    "    {a: _a_sub, b: _b_sub})"
   ]
  },
  {
   "cell_type": "code",
   "execution_count": 15,
   "metadata": {},
   "outputs": [
    {
     "data": {
      "text/html": [
       "<strong id=\"bound_04\">bound_04:</strong> <span style=\"font-size:20px;\"> <a class=\"ProveItLink\" href=\"../../../__pv_it/_proof__e_value_in_e_domain/16c8bf404390ab7add32d1f2d71c5fd26f0d92980/proof.ipynb\" style=\"text-decoration: none\">&nbsp;&#x22A2;&nbsp;&nbsp;</a><a class=\"ProveItLink\" href=\"../../../__pv_it/_proof__e_value_in_e_domain/91d5ef14e15f403822c62e6258414a13ea3d48950/expr.ipynb\"><img src=\"data:image/png;base64,iVBORw0KGgoAAAANSUhEUgAAALIAAAAzBAMAAADBSE8mAAAAMFBMVEX///+YmJh2dnaIiIhmZmZE\n",
       "RERUVFQQEBDMzMzc3Nyqqqq6uroyMjIiIiLu7u4AAAAjTthJAAAAAXRSTlMAQObYZgAAAAlwSFlz\n",
       "AAAOxAAADsQBlSsOGwAAA0FJREFUWMOtmE1oE0EUx1/aZJPddJOc9CI0KPTaInrxYIsW9OBHQJAi\n",
       "qGmR9lQUkUpBNHhRwZI99OJFCz2JSNO7kCo1ggddalGhBJfixUsbbZVaIevuzH5n32ycOJcNmX2/\n",
       "nX3z5v/eW9jY2NCgg4Hbf9H1JdQsUUKnMpfo9bKuq+F3rLEWNMqYm7GXmuYgC3kGVFI7IO8L98OV\n",
       "92S5ffxkcRqZGCRkOcdNlgeYZOk2N3kvMMmwzE2+HkGuKpzk7mYEuafISZaLEWSpyUkulyLImS1O\n",
       "8gREkOEiJ3kqktyrcJFT3yPJmzkucvdvlNxPww2SRS5y4ho2M36nRg92Qo0gp96ExVeyQC6zp0bQ\n",
       "tXc1EDIxWnND3j82h4gqFaC/gpFjfzzkzEtXyoiRSU6EkctEjwQFkpZbFls3ecu75vUPjq4TI5S8\n",
       "MEd80gTB2sr5VqXe9nmje8WKGWoUIIvOr15yBAUVhB2MDL/8fo5ZaGpkkTPHD1UgPTZ6xLltULH1\n",
       "o4GSfwZ2UFr2GFnkGQXOQVlL5pzt6td8Dg8l3wrGRrqmOUYWecVUoEnzPexx1iZ/BJRcbyG/1hwj\n",
       "Sk7tAmTzPvJV6xoncX26Xr9Zr5OH6OagHvoU9EZNcY0oWTIiM1uoakbWzOwf17zkPYCvOUCOrWoe\n",
       "I8+ah76OGaVLHOKqxxtSHh616Q0n6qiR5ecbRlqrPDP/zVbEHY/s3AU42t4OuieFGlnkeyV4BS8e\n",
       "PDZeSaPkQRLP4urwsIqSp5DTTYxMRZqYUsRjfRXo0XXzuV2qe1Jk3akoQ8jb4YpEjbwqegG+PR+w\n",
       "a8GFoBDN+5SMLPNHm/qcNkIlVgCR1q/lXODORZ+StSoSg5z5bAjqHMzSYMgOYRWqI3/SrtfPdTJK\n",
       "oTll/cDBkyCO3D9DnIUV7K780YTWdrZKWgdMwLKVK39CgysPxpqMKrXhSWj/XhXs4mRL/p4M/O9K\n",
       "xpY/zkoGTqAzVP4AJjmrryqas235460YZSygbfmL8Va5aHDY8ifzVuZYN+HIH3c3Ab3hDbUjf+e5\n",
       "O6CePLOXTze5yalpJlme4++ODzPJHXTHaEdPgUsdkOEtY+5h1FeIpywy68vJO+dXLvSGv1CUUjZk\n",
       "TT9cAAAAAElFTkSuQmCC\n",
       "\" style=\"display:inline;vertical-align:middle;\" /></a></span><br>"
      ],
      "text/plain": [
       "bound_04: |- ceil(log_2(2 + (1 / 2))) >= 2"
      ]
     },
     "execution_count": 15,
     "metadata": {},
     "output_type": "execute_result"
    }
   ],
   "source": [
    "bound_04 = bound_03.rhs.deduce_bound(log_base_2_of_stuff_greater_than_one)"
   ]
  },
  {
   "cell_type": "code",
   "execution_count": 16,
   "metadata": {},
   "outputs": [
    {
     "data": {
      "text/html": [
       "<strong id=\"bound_05\">bound_05:</strong> <span style=\"font-size:20px;\"> <a class=\"ProveItLink\" href=\"../../../__pv_it/_proof__e_value_in_e_domain/1b934b25f3b6f1ddaccf09c1c1d32342415743440/proof.ipynb\" style=\"text-decoration: none\">&nbsp;&#x22A2;&nbsp;&nbsp;</a><a class=\"ProveItLink\" href=\"../../../__pv_it/_proof__e_value_in_e_domain/ae59de77dc5b720645ed666d3ae0cdafc9d58a9d0/expr.ipynb\"><img src=\"data:image/png;base64,iVBORw0KGgoAAAANSUhEUgAAAGEAAAAVBAMAAACkm51HAAAAMFBMVEX////MzMxUVFRERES6uroi\n",
       "IiIQEBCYmJhmZmYyMjLu7u52dnaqqqqIiIjc3NwAAACW8nlqAAAAAXRSTlMAQObYZgAAAAlwSFlz\n",
       "AAAOxAAADsQBlSsOGwAAAX9JREFUOMtjYGB4wIAd4BJn4D2AQ8IXl47TOI0qQBfh65gswMDANQGI\n",
       "47BqmQUmVyI0Pmbg/sLAwAEU4PmFVUcFmOTaegEmoMfAkMbAwAZkcQRg1cG2AEJf3QUVyF/AoP+A\n",
       "4SSQxboBqw5OmHtKoVpUGRj0BRi6GRic7I0uoIaS1uvLQBFuBZjAyT4YK56BYTqQOo9m+AajC1z/\n",
       "GBjYJ8BFPLUgNONfBoYYIN2JqoHFIZiB7yMwQBIQOqwgNCvQ2hQgHQ0Ok6mhIAAKcK4v4OBj/AB3\n",
       "lR6U0cwA1gFUgAp4PjAwAV3EArOjtAvKYAf5LAasYAGKDqBy/oIFDDwBaKELTB98DxhsgdExgUcA\n",
       "NSI2MJxfsIGB3QAtBhk3MPAuYNgENFJhLaqr3gsw3GQXYODYgJZKnnZ0tDIwiAITmDlamnNlYFhU\n",
       "AwwYBzT/xf///xMoLIAr7TI8xS7M3oBTRzsOcTtcGvjAHmdYCo6mQCSJxbh0MOPKtnwXcEjcwy4M\n",
       "ACg+Vxs0q8hqAAAAAElFTkSuQmCC\n",
       "\" style=\"display:inline;vertical-align:middle;\" /></a></span><br>"
      ],
      "text/plain": [
       "bound_05: |- (t - n) >= 2"
      ]
     },
     "execution_count": 16,
     "metadata": {},
     "output_type": "execute_result"
    }
   ],
   "source": [
    "bound_05 = bound_03.apply_transitivity(bound_04)"
   ]
  },
  {
   "cell_type": "code",
   "execution_count": 17,
   "metadata": {},
   "outputs": [
    {
     "data": {
      "text/html": [
       "<span style=\"font-size:20px;\"> <a class=\"ProveItLink\" href=\"../../../__pv_it/_proof__e_value_in_e_domain/1ee4a828064031f092da5622d35b536746bc8eda0/proof.ipynb\" style=\"text-decoration: none\">&nbsp;&#x22A2;&nbsp;&nbsp;</a><a class=\"ProveItLink\" href=\"../../../__pv_it/_proof__e_value_in_e_domain/508e94bb54d2e56935efdd431d1780efbc92a5200/expr.ipynb\"><img src=\"data:image/png;base64,iVBORw0KGgoAAAANSUhEUgAAAHAAAAAXBAMAAAAhP9aaAAAAMFBMVEX////MzMxUVFRERES6uroi\n",
       "IiIQEBCYmJhmZmYyMjLu7u52dnaqqqqIiIjc3NwAAACW8nlqAAAAAXRSTlMAQObYZgAAAAlwSFlz\n",
       "AAAOxAAADsQBlSsOGwAAAa5JREFUOMtjYCAHNDCQCQzA5AMcsg8IaOQ9gEPWF43PFW88i4E7PwWm\n",
       "8TQuY3kL0ASYDzgxMKyH2cg1AYjjsOqchcZniuMuYGBj4DA2TjY2Z+AAmsvzC6vGCnSNhxnmMbDC\n",
       "bGQDYo4ArBrZFkDoy6GhE8Aan194idB4EohZN2DVyAnxpOctmI0PFHk3wDV2MzA42RtdQA1PrdeX\n",
       "gSLcCiAOH9yrTA+YGUzgGqcD8Xk0qzYYXeD6x8DADnYg5wOERsaGpUthKScGiDtR9bE4BDPwfQSG\n",
       "WQJYIyJwHjDU8JjBeKD4jAbH79RQEBAAsri+gAOa8QNIXAwkagDVyLRADUkjUB0q4PnAwAR0JgvY\n",
       "xsXINnIpLIXxYsDqFqBG2AQG/oIFDDzgWGJF1sggywzj2QKjcQKPAGoEbmA4v2ADAzskLcNDnBmo\n",
       "ilcYxtsENElhLapT3wsw3GQXYOCARO8ceLweQA5IUWBMmaMlZ1cGhkU1QEc6gHmLTCAeYZyfDCRX\n",
       "whSxCuDMdU+htLcpJMmhAnbcxUA7/mLADpcEnwF+jYtxSTA/wK+R7wIOiXt4tQEA52hb6ef/4mkA\n",
       "AAAASUVORK5CYII=\n",
       "\" style=\"display:inline;vertical-align:middle;\" /></a></span>"
      ],
      "text/plain": [
       "|- (t - n) in NaturalPos"
      ]
     },
     "execution_count": 17,
     "metadata": {},
     "output_type": "execute_result"
    }
   ],
   "source": [
    "subtract(_t, _n).deduce_in_number_set(NaturalPos)"
   ]
  },
  {
   "cell_type": "code",
   "execution_count": 18,
   "metadata": {},
   "outputs": [
    {
     "data": {
      "text/html": [
       "<span style=\"font-size:20px;\"> <a class=\"ProveItLink\" href=\"../_e_value_ge_two/thm_proof.ipynb\" style=\"text-decoration: none\">&nbsp;&#x22A2;&nbsp;&nbsp;</a><a class=\"ProveItLink\" href=\"../../../__pv_it/theorems/396def8ba7d11f0cfc66829313d1ccd83d6529830/expr.ipynb\"><img src=\"data:image/png;base64,iVBORw0KGgoAAAANSUhEUgAAAIIAAAAaBAMAAACJGJngAAAAMFBMVEX///9UVFQiIiKIiIjMzMx2\n",
       "dnYQEBDc3NxEREQyMjLu7u5mZmaqqqq6urqYmJgAAAB66f/FAAAAAXRSTlMAQObYZgAAAAlwSFlz\n",
       "AAAOxAAADsQBlSsOGwAAAbxJREFUOMtjYIABzgIGcsFbCLWekLoNuCR4oDInCZlQgUtiJYQq1QyB\n",
       "Crx+YozVOj4DHCb0Qek5UJrrbR5DOlaVWtgNYE9gYKje2cLA8AsmsHgCnA0HLCDdhhiawRq5AxjY\n",
       "GxjiL/AmMLB0AEE7A6MBkI0KFu4Embl+AdiN8xC2gzQy8F9gYCxgYEtgFlgCFWdz4N7ggGYEM8gE\n",
       "zgdg9lJlmChYI4P/Aga2XwyM37kNoqDi9QxMPlhN4G6AclQXQO0CaWQwAhqlwMD4hWUfTNdFBuY4\n",
       "BmwmMMM8xwc1AqyRQRLMZvqAPy2ATeCFBzDPbFgCBmrsADP8DYgwgeULnM87EeoRoMaJYIYiAxEm\n",
       "sP9FmDADagJQozYDUhihAK5JSiDgADeBC24Cz0SoL0AawW54yECUG2C+4NOGugCsEWQCTwBDOTHh\n",
       "8B0tNiEaJYAMVwYGK+LjApGiIBrNgK7T3r1bAb8JrCDr+RLQUzVY4/0FDEz///+fgNcARrGfcsBg\n",
       "E0AThmhku0B0YQbNF+gAmDeJBesXYBVmSSDaBEiccykhkgkEyBBtgjr+cpIwwFlO8hAbEBWE6guC\n",
       "YBd2YQDe6nFJjXTFcgAAAABJRU5ErkJggg==\n",
       "\" style=\"display:inline;vertical-align:middle;\" /></a></span>"
      ],
      "text/plain": [
       "|- (2^{t - n} - 1) >= 2"
      ]
     },
     "execution_count": 18,
     "metadata": {},
     "output_type": "execute_result"
    }
   ],
   "source": [
    "_e_value_ge_two"
   ]
  },
  {
   "cell_type": "code",
   "execution_count": 19,
   "metadata": {},
   "outputs": [
    {
     "data": {
      "text/html": [
       "<span style=\"font-size:20px;\"> <a class=\"ProveItLink\" href=\"../../axioms.ipynb#_n_ge_two\" style=\"text-decoration: none\">&nbsp;&#x22A2;&nbsp;&nbsp;</a><a class=\"ProveItLink\" href=\"../../../__pv_it/axioms/44249447384a00e3c2eddd544381c73d683c1cbb0/expr.ipynb\"><img src=\"data:image/png;base64,iVBORw0KGgoAAAANSUhEUgAAADMAAAARBAMAAACC64kkAAAAMFBMVEX///9mZmYQEBCYmJgyMjKq\n",
       "qqrMzMwiIiJERER2dnbc3Nzu7u5UVFSIiIi6uroAAAA6K1lcAAAAAXRSTlMAQObYZgAAAAlwSFlz\n",
       "AAAOxAAADsQBlSsOGwAAAMJJREFUGNNjYMAGuAQ9EpD5WwzgzBUMnP+QpbinX4AxTzEwKKGac302\n",
       "lKG/geH8AlQ5c6jccQaG8wkMfHd2ze2Fy4VIwVj1DAycHGcZ9iM0PzkNodn+MjC8Y29gWI9w6ZNu\n",
       "CM1+gIFhw/4HDPEb4AaegjIkQEQ8A8MRuDOkoQzmAyASKP6ZG83xDJEMXED7NRlYf3OieZltAgPv\n",
       "Bgaubwy8DmZoAbVcUFCcgYGvgIH7cABa8Nb///+FgWKwvRwEyuB8AIEjNG+fGjGHAAAAAElFTkSu\n",
       "QmCC\n",
       "\" style=\"display:inline;vertical-align:middle;\" /></a></span>"
      ],
      "text/plain": [
       "|- n >= 2"
      ]
     },
     "execution_count": 19,
     "metadata": {},
     "output_type": "execute_result"
    }
   ],
   "source": [
    "_n_ge_two"
   ]
  },
  {
   "cell_type": "code",
   "execution_count": 20,
   "metadata": {},
   "outputs": [
    {
     "data": {
      "text/html": [
       "<strong id=\"bound_06\">bound_06:</strong> <span style=\"font-size:20px;\"> <a class=\"ProveItLink\" href=\"../../../__pv_it/_proof__e_value_in_e_domain/e0b62d474eb41d3c2e43265f4ee5876a1a1e5b210/proof.ipynb\" style=\"text-decoration: none\">&nbsp;&#x22A2;&nbsp;&nbsp;</a><a class=\"ProveItLink\" href=\"../../../__pv_it/_proof__e_value_in_e_domain/b42f7768d7bfab681565c2248be8396355be319e0/expr.ipynb\"><img src=\"data:image/png;base64,iVBORw0KGgoAAAANSUhEUgAAANMAAAAaBAMAAADfznSWAAAAMFBMVEX///9UVFQiIiKIiIjMzMx2\n",
       "dnYQEBDc3NxEREQyMjLu7u5mZmaqqqq6urqYmJgAAAB66f/FAAAAAXRSTlMAQObYZgAAAAlwSFlz\n",
       "AAAOxAAADsQBlSsOGwAAAr1JREFUSMelVk1oE0EU/jbZZOkmTaOC/9iqFdGATQUF9WDwB4QeEosn\n",
       "L91D8ZpFEMUe2oNgT2JF0YPUVfQggqn10rpQPOjBW069GlE8CELBQGkhrPO32SQ77g74IPPz8r73\n",
       "zbz3ZnaAtjzGf0ifLQavLu/+t9Vv3plrMd4WotC1wGpRYpVhbVa4yN6PobolU/roL76ihelS2MyY\n",
       "oe1rMRl/JExyK+fPyLzmihKlQN84ckUofkmp8J029/xofxSDt6uNtC3jOirR+eingWpchk04ZDcW\n",
       "+blPShhwhPb2qWDsi05pRiWBIeip5TvAZrdpl5wj3pJ5krAKzUKqhVXg0iwRG9vouEueL1NXtY4F\n",
       "ZHm9EjRJw0S934JOwXeJs55lmnueEY1JHAzUgR3ANYyafown4eo9XElK1dcI8lbgDglas5G2kvmX\n",
       "/j4XjN7on6W280CZ9FUHg/b7lFiOsYbhTzKqzEx7ekjYEnR6E9p6pnjVr9MLY46Magk4TrqtwGBp\n",
       "7If4pz+PEw0ZVdLyj+lBX0/Q2hC0pr7ih6TqeZBRnQR28elI9JliVP0i92+OtfUcnYg+/Yzqq4NZ\n",
       "XjZ/FKj0Jq+RjsLm6HIxnqpcwhxfV16BymixsdZBxdH7EU81XUeBzZYkFuaDA1RKbSqTU2EqCCBD\n",
       "B+UiBzOqWp2vKxezKbGrZqgsGPobVHYlAvgZhq2Qq/VQsVN0toKbCrmysZP6qCDpqFdgxxGm6IvA\n",
       "aaUKJPWO6667GB2DFN1Qzuq4mB6yjqCNgusORYInaMR+MjaMeN5GpLG2fWMfSX84owSd8Dwv8lO3\n",
       "pTpHboR3QLqu/lFvhFTq6Hl+sytKLZxPZTS92XVLmUoU9Qt2Yob5LaOKZsdprzLVYYlOFZ2wg9eB\n",
       "wsIi3haxwt4WWdVwy19Mamj+YvJfcrHyIeodGCMZUlF/ARxJtkNeSlmmAAAAAElFTkSuQmCC\n",
       "\" style=\"display:inline;vertical-align:middle;\" /></a></span><br>"
      ],
      "text/plain": [
       "bound_06: |- (2^{t - n} - 1) <= (2^{t - 2} - 1)"
      ]
     },
     "execution_count": 20,
     "metadata": {},
     "output_type": "execute_result"
    }
   ],
   "source": [
    "bound_06 = _e_value.deduce_bound(_n_ge_two)"
   ]
  },
  {
   "cell_type": "code",
   "execution_count": 21,
   "metadata": {},
   "outputs": [
    {
     "data": {
      "text/html": [
       "<strong id=\"bound_07\">bound_07:</strong> <span style=\"font-size:20px;\"> <a class=\"ProveItLink\" href=\"../../../__pv_it/_proof__e_value_in_e_domain/8b50bad14499193fb5e26c07f836415f5e5ace820/proof.ipynb\" style=\"text-decoration: none\">&nbsp;&#x22A2;&nbsp;&nbsp;</a><a class=\"ProveItLink\" href=\"../../../__pv_it/_proof__e_value_in_e_domain/0d28bc22958ed7e5aeb287ae094d21c90bde89630/expr.ipynb\"><img src=\"data:image/png;base64,iVBORw0KGgoAAAANSUhEUgAAANMAAAAaBAMAAADfznSWAAAAMFBMVEX///9UVFQiIiKIiIjMzMx2\n",
       "dnYQEBDc3NxEREQyMjLu7u5mZmaqqqq6urqYmJgAAAB66f/FAAAAAXRSTlMAQObYZgAAAAlwSFlz\n",
       "AAAOxAAADsQBlSsOGwAAAq1JREFUSMelVk1oE0EU/pLdJDR/DQr+gNiqFdGATQUF9RIoguAhQT15\n",
       "cQ/i1UUoFj20B8GeREXRg9RV9CCC8efSulBE9OAtp16NVAQPQsFAaSHE+Xmbjd3J7IAPMpl5733z\n",
       "zcx7b3aAnjzEf8iQS53sL43Xb/JZjZntjQ7dCMaTR1ReOdHmaYr8nRiqaZUyQH/taT6p3DKzvH1J\n",
       "g7MPqrJXXJo8qXIvVhRKQk8dPK+lwgpvbgen/ZE6r5dbaVflfkihC9CP9btC0mO7cdjPf1TFsEfa\n",
       "68fDfiA2p5lQHAxD31i8CWwMphJ2q8QCVudRSHWwDJyeY+JiK+//I08X+VSNvgXkZb4yNAvDxWbB\n",
       "gc3Bt6JUwo4sm2C4CWwHLmMiS7HCJfj2Jn+LUw21wriVJS1DJ1ykHav0fNCuhB2YB2oMc8XDiPs+\n",
       "RYvOrGLss4oqN9sb7idfhk5vILGWq1wYRCXswALAy2ALMFI984NshRKOtlRUlkOjF/sCPUMnRpFo\n",
       "20vBkUw9ObdpV9wOHAN2SsW4vqYEVYFi/+pwTy/RyZjq5/ZvHuZkhv0xoLLbMkfCxCZ0raJHc3ut\n",
       "iruSt2RAlenIE+mjkug9MfcMt880URaDBYVD9t5eLtUeVbZDhRIeoECH6aIGC3ujKddVjNkU7aod\n",
       "SQuB/h4DFvYZOsAvyLgGsVqLJDtH5+u4psNKe83FDj5HHZZnnoF9JczRp4ATOqy0swxk+Y6rvv9O\n",
       "fwYpvqGi07fU++KPoTNl3x/VQMn+U7BhvNtd1zIltq3vZuGNRpShk91uV/epI/tbdm80zT/qrYjK\n",
       "HD0vb3ZDaUTjaYzmN7vtGFNRUj8TFTMmbxlTtCinXcZUBxQ6U3TSDV8HBgvTvC1iZYUqzEymB9Sn\n",
       "icgXU/CSi5UPundgjORYRv0Fxam07c0yEtUAAAAASUVORK5CYII=\n",
       "\" style=\"display:inline;vertical-align:middle;\" /></a></span><br>"
      ],
      "text/plain": [
       "bound_07: |- (2^{t - n} - 1) <= (2^{t - 1} - 2)"
      ]
     },
     "execution_count": 21,
     "metadata": {},
     "output_type": "execute_result"
    }
   ],
   "source": [
    "bound_07 = bound_06.add_right(bound_06.rhs)"
   ]
  },
  {
   "cell_type": "code",
   "execution_count": null,
   "metadata": {},
   "outputs": [],
   "source": [
    "%qed"
   ]
  },
  {
   "cell_type": "code",
   "execution_count": null,
   "metadata": {},
   "outputs": [],
   "source": []
  }
 ],
 "metadata": {
  "kernelspec": {
   "display_name": "Python 3",
   "language": "python",
   "name": "python3"
  },
  "language_info": {
   "codemirror_mode": {
    "name": "ipython",
    "version": 3
   },
   "file_extension": ".py",
   "mimetype": "text/x-python",
   "name": "python",
   "nbconvert_exporter": "python",
   "pygments_lexer": "ipython3",
   "version": "3.7.3"
  }
 },
 "nbformat": 4,
 "nbformat_minor": 1
}
