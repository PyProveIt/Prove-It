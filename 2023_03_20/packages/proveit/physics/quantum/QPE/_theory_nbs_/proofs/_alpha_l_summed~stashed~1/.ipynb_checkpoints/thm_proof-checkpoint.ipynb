{
 "cells": [
  {
   "cell_type": "markdown",
   "metadata": {},
   "source": [
    "Proof of <a class=\"ProveItLink\" href=\"../../../../../../_theory_nbs_/theory.ipynb\">proveit</a>.<a class=\"ProveItLink\" href=\"../../../../../_theory_nbs_/theory.ipynb\">physics</a>.<a class=\"ProveItLink\" href=\"../../../../_theory_nbs_/theory.ipynb\">quantum</a>.<a class=\"ProveItLink\" href=\"../../theory.ipynb\">QPE</a>.<a class=\"ProveItLink\" href=\"../../theorems.ipynb#_alpha_l_summed\">_alpha_l_summed</a> theorem\n",
    "========"
   ]
  },
  {
   "cell_type": "code",
   "execution_count": 1,
   "metadata": {},
   "outputs": [],
   "source": [
    "import proveit\n",
    "theory = proveit.Theory() # the theorem's theory\n",
    "from proveit import a, b, c, k, l, n, q, r, x, defaults\n",
    "from proveit.logic import Equals, InSet, NotEquals\n",
    "from proveit.numbers import (\n",
    "        zero, one, two, e, i, pi, Add, Complex, deduce_in_number_set,\n",
    "        Exp, frac, Integer, Mult, Neg, Real, subtract)\n",
    "from proveit.numbers.number_sets.complex_numbers import exp_neg2pi_i_x\n",
    "from proveit.physics.quantum.QPE import (\n",
    "        _alpha_l_eval, _best_is_int, _b, _delta_diff_exp_not_one, _delta_is_real,\n",
    "        _delta_not_eq_scaledNonzeroInt, _full_domain, _mod_add_closure,\n",
    "        _mod_add_def, _phase_from_best, _phase_is_real, _t_in_natural_pos,\n",
    "        _two_pow_t, _two_pow_t_is_nat_pos, _two_pow_t_minus_one_is_nat_pos,\n",
    "        _two_pow_t_less_one_is_nat_pos)"
   ]
  },
  {
   "cell_type": "code",
   "execution_count": 2,
   "metadata": {},
   "outputs": [
    {
     "data": {
      "text/html": [
       "Under these <a href=\"presumptions.txt\">presumptions</a>, we begin our proof of<br><strong id=\"_alpha_l_summed\">_alpha_l_summed:</strong> <a class=\"ProveItLink\" href=\"../../../__pv_it/theorems/fe50f5b74793c5e8acc666be470ed870790308ff0/expr.ipynb\"><img src=\"data:image/png;base64,iVBORw0KGgoAAAANSUhEUgAAAhsAAABACAMAAACEL0WSAAAAOVBMVEX///82NjYbGxsSEhKIiIgi\n",
       "IiIQEBB2dnbu7u5ERETMzMzc3NwyMjK6urpmZmaYmJiqqqpUVFQAAAAnLjGdAAAAAXRSTlMAQObY\n",
       "ZgAAAAlwSFlzAAAOxAAADsQBlSsOGwAACONJREFUeNrtXYmWnSgQdWbYBATk/z92nrgBsil2fC2p\n",
       "cxKaYNEKF2qBqnTdX/ptxJwi99iplrZJgGf56wkou4jTAApaCCdOk19viQB/lr+eFLaLbSsQgXeV\n",
       "0a/YW0DvNfWtQmPQ7FH+eiLcLjaSoU0ivgdYLb0LskO9FSJIPsp/lSTdZZq0i221Q2GLGDULHCmi\n",
       "HQrrm5T3japJbAj+LH8KdhiPY2ydo30tI6fYuKAz82SYu0KHDsmoO69FeU8p1KLKQTV9lD8Ju+kP\n",
       "zGsb3C42LlfEiFXwcRnrwG6B3vYCRYPY4OOz/CnSw0ehzGNPYLvYuJTorMke4LLy8RjrwG5RnhKl\n",
       "dHtGbu03/+iYSWJhg0Ft6Lj+l5/Wf1i5mJDWuzG0GBvyKAPhcGzhnm3C27NVYP8sf5bwIlOIIEx2\n",
       "lr2wYwMqu3C49n8AVA+L6nDQN3R3bFHefqV+UHZ+q7ahbuanMKe15Z/wHyYfSHwKwAhetM0FG3Md\n",
       "zZO+FP6vMM+Aj7jgeHnliLrhtSBPw0CtaRyjvpWfjILr5Mznn3CI9dOzFBnh0Hd0nh9Tn7AxNxyw\n",
       "MXOtOJmeQXTTKoZpd6D9SmxXVAZnRxHe0AjdFjSIFnfzg+zMg3JsTJ5NxrYZ74axRKY4XLvU6BeZ\n",
       "Ao/qBgm0DNo1aPz620lWCtEA/53YYD2lVKxPC+Cs7B0bPbALj2uZftaxRXLIg4akOxBqQZ7SinhT\n",
       "2Oj17fx3YIOMyPgTkDFMNjB82Cw9YsfGYnuuJqjLtW4lABPHYLWlBRhCLcIzwURbZqzub+e/ARsE\n",
       "QSVRud+EQrvIWlZDYYvyhIhqSqgMGt/OfwM2xmmS2QmNFVK7yMgpWNrC9Jisv5uEHm7nvwEb8/rs\n",
       "y1fpckomSxRrIYtbEErXX01nrMlS/nPYIBzuRFc3w0wn9rSe2UVavS1v6b1P6XVDB24a3s9fv29Q\n",
       "rdhEJyaC9HZRgKKiFuA59oBu56SeVaqiQf47ZMr5K4YM2EXid7MTLcrz3ijdjmu09luD/DdgQ8yX\n",
       "JR63GKmHfarbOW8DGtzPj7NegOwTBCI5APj4BWXiyUxSK4N/lZmi7uYfR6T5mLIw8k9MPUPNwfMD\n",
       "5HvQpvpux6o3uzv6So95//Zja+hJv6kuNrOdv9lNyiudwPztTmT/A6c6HbPW8BsIVdrr6O32fu/5\n",
       "9kx9DVXArzZotX6W/+tp9BQqU5eLmvHuU9m/2LiCjQ4ZJy7CTWEDYzzSv9iwDTEZqAszRv2r5Slx\n",
       "55ZNR9QEsY4pz560aIzzN4MNNq5/hUjiuGl7CNBlNQiL9Uaxe7Ep7uAkCWw454rIOBR60QGyRXpl\n",
       "sPX2c0nsOfeW+jQF2Gipx3GigTHZAu38AF2qQteqiUyqMgW9uSE4lj3lvu/8DRgDnJnb5aqs4Oae\n",
       "v+KnsaEPtD/I4w99GxVgQ4FNE13GiYKxn6+jhgZuDbTzAnSNx4QcljcFIOl+LejNfQnb1rZb5q1v\n",
       "QtjQp+d2Ce3ByNydE/jOfeO3BgxGsPEBxrpm53ESgoYGf1sQa3jecc4tbOzzo5LYKOgtjg17Xkfj\n",
       "vJlu4HdHR5W9SMjy2XhWza3rcVF9o1VddHJtrE4OM052To8QNtZAuzlAl4mZhovYKOgtjg1rXgcD\n",
       "k/l63TFNgDO3KzbQjJRfbKew2x6NYYOtl1nNODm3RmK6whRo5wboXt03CnobYEzfMDMmTGDOf58/\n",
       "sqMGG1Am51aYLuRH7aBl6kYSGw+eNeTyOjG+PzCAC/6N6QdqLdDBGljKw04AE2jnBuga1QLt3tUT\n",
       "2Mj2xgEJYsOa12Wzm7GBDuOAXMULS/npUmBQpm74/K4q8hg0VPbV7QteQF7ChiO+JZ8j5D5tdE0X\n",
       "4sTNZW1Vs5BRbxZyATbylq+yT7H7kLqxbnazTDkeqMPoecga6ZVRMT3+j+zjPe260n3nR5w2+d/s\n",
       "aNDJNG/+QfPh4NmME7XRCMaIJ4LldtLifSPfG0MRmTLP6wTFf/9ZoBjRReNn7GukV+ZrXH5zMIk/\n",
       "ajTDkOM/eXx/TO+0pXAKrTqHVSTBz5L1ZZzsZRxaFaFAu2JsmFBvgk/1FtVFt3ndTpM7MNmwgZQk\n",
       "0RCENdIrp6o5Ty020YRZfvsZ5cn0TnsKp4Dj0uUl5ULzIETncWI9TWIjFGgXxwbDXGNgOdPYFixe\n",
       "2lsUG9u8WnDGGIhQuEDdzSWPfz6yH6e1df/h/bn0TlYKp2NPLux5Ygx8B07MoUPwtEEPddL0xusg\n",
       "cRt221SzW3FlWJvHb8LRPtigXrKCW+hceicrhVPAQeRsajgerMa8+6Gs4L7oAGvQ/6ewkQfwUBnE\n",
       "F+SH2ihk5GZ941x6JyuF09E34EYbJA4v/O8rGq8vuOdKXZF+HAiV1xisc45rOkCAn04+NAE6/ANH\n",
       "2OXpnawUTtk1hhL7IkjWIzPz9H0wRi/7Ar01XkMBfuNVp0IWbhtn8judSO9kpXByfHWBQzWqE7o2\n",
       "TdZfTbUZJY784oxGdS6/06n0TksKJ88FZXsINkER3ze4TtdfTbLSUDnwy7MKzIkcPifSO9kpnILv\n",
       "bcmGhKPJVz0bCl2alDtxK7/xVzP2E9g4l97JSuEU+qX2zQcZ3emoZ8ZR3VTGewTv5J+dx4DciY1r\n",
       "6Z2sFE6OoaGA8W7AkNUbeDearL+ccKWTyuFn0NwkOAW3HDYupneKQXkWN86ZSzzFU4/S9dcLFXAf\n",
       "/+J04Hdi42p6p8jrzvc57ZsP8RRPxPNmkKZSOk27MX+WP4eNq+mdojRpqPbNh3iKJz8/pmwtabWs\n",
       "tGJr+TP5na6nd4pZ3b5fKG5zc5iuv55Ipe5dy5/ZN66nd4roR8S7fBBHEvPsc9ZYWuJpIaFH+bMy\n",
       "5XJ6p+BW8NmCnNUfT/H0UbPT9SY2DvAkfw4bj6V38r+rdpx+JQH0JH8uv9Nj6Z18U1zArkGqHfgK\n",
       "/pL8Ts+kd2LeKS6rzNL7S+n3//ewP0DjmK63Qpg/y/+Npr13i1SiVv/X8R48y/91xBBN1luyVSB9\n",
       "lP/ryL9fzGXXLDH6LP+3rZUhXv8fFhx42Voz+k4AAAAASUVORK5CYII=\n",
       "\" style=\"display:inline;vertical-align:middle;\" /></a><br>(see <a class=\"ProveItLink\" href=\"../../../__pv_it/theorems/81498f554326595c8a000faca2b5b78dbcb0d2590/dependencies.ipynb\">dependencies</a>)<br>"
      ],
      "text/plain": [
       "_alpha_l_summed: forall_{l in {-2^{t - 1} + 1 .. 2^{t - 1}} | l != 0} (alpha_{l} = ((1 / 2^{t}) * ((1 - e^{2 * pi * i * ((2^{t} * delta) - l)}) / (1 - e^{2 * pi * i * (delta - (l / 2^{t}))}))))"
      ]
     },
     "execution_count": 2,
     "metadata": {},
     "output_type": "execute_result"
    }
   ],
   "source": [
    "%proving _alpha_l_summed"
   ]
  },
  {
   "cell_type": "code",
   "execution_count": 3,
   "metadata": {},
   "outputs": [
    {
     "data": {
      "text/html": [
       "<strong id=\"defaults.assumptions\">defaults.assumptions:</strong> <a class=\"ProveItLink\" href=\"../../../__pv_it/theorems/e291f82fba5781cb778dc66b129aea3d3d4197760/expr.ipynb\"><img src=\"data:image/png;base64,iVBORw0KGgoAAAANSUhEUgAAARoAAAAaCAMAAABfGmM8AAAAPFBMVEX///8NDQ0WFhYLCwsYGBhU\n",
       "VFQiIiKIiIjMzMx2dnYQEBDc3NxEREQyMjLu7u5mZmaqqqq6urqYmJgAAACZCzMOAAAAAXRSTlMA\n",
       "QObYZgAAAAlwSFlzAAAOxAAADsQBlSsOGwAAAyZJREFUWMPlWdmWpCAMdaaHfRP4/38dZbFBEFOW\n",
       "5Tk9k4duyxJuuN6EkJqmO02J5pZ2avqItVifgHL2nnm0b25RQvBHmGmx7oMy29VsbnJ37r21+TPU\n",
       "9LDughIy8w+WobYjeQmGFaPPUNPHylBiFm+GEYn/pQMOIMrqcfjPz6mmh7VBUSQ1MHb6z+FwW/Dw\n",
       "gWFPTyTs+9MIY5QMY7sPQKihGLiSMVYBJdHuu/76qKyeYcREvZEw3LAkIn/iFsPHgcn8EmqWJ7hs\n",
       "AkSNRkZ5DU8CBdYxVOtsd32S7oSosYhJfnXIp/xh1DVqUJiL80C1huQa20QwAVJzgjWkprc+WmrL\n",
       "hSEs6kgtPtLsFSa1txIvps6p4WEC5MVkyMQ0gJqZXKXmBGtIDSYd0ZTpOsZgShtmYSjXAqIKRauI\n",
       "hqom3EbLcGocbbcS5Rm5i5ohVgXVOCs6qcZWCcmHGob6kN/JokykOqEolAYHVHonfgLbdWrgWI2z\n",
       "vVRTFdQ6UxPC3S4eyZSjkRwX/ONkRD15jBoQFuF7wRXrMzjYn6/1L9pkxYrZ6SIylb7iJV6PBMEH\n",
       "9Q9G02PUgLCE39U9nJycwjZqWPxkJ2zSqyieoxwn26gWSNlcPONvS/FrJLDACoN4nB5dowaIpVFV\n",
       "FFbrS5nG7A5lLEYSiZ9sVk0lQN1Bp+a4wHSvaOZN1UCxmLLDAGuzRsw1c5Sb+A6oZecqvOsmXHnk\n",
       "1LzSLcQj1ECx9qV7tb4g3t+/cC3emHVdHLiqLKWnJS+zwlUCL/kmGgYS/QQ1YCyWVJKfrNcXRLOf\n",
       "xPFis1l3qKQ0bzU5ObwdHRSwWQ2/E1DM19uoaq5exUrObhPs1tftxOD1oMDpxpONL8wZVicx2Zyy\n",
       "D6jBPpi6Tg1C3CtU7H/YtFcvYmVncTq47tbXEc2yaMMIyhvLGme834OxTMIOChe6UGT6uG3Ozvo4\n",
       "Z416Hq44eb9eYF416x6k5mB1apyu4smbcmgni08/x3LprvsKdQxUIqAZ2Eby849hRufS/SB2z1pn\n",
       "sWsD7w0Lg34GOYKdOXrS0My94dOU9N+Z+D4N3PU71L9isZf+F8ZyJttyoUwDAAAAAElFTkSuQmCC\n",
       "\" style=\"display:inline;vertical-align:middle;\" /></a><br>"
      ],
      "text/plain": [
       "defaults.assumptions: (l in {-2^{t - 1} + 1 .. 2^{t - 1}}, l != 0)"
      ]
     },
     "execution_count": 3,
     "metadata": {},
     "output_type": "execute_result"
    }
   ],
   "source": [
    "defaults.assumptions = _alpha_l_summed.all_conditions()"
   ]
  },
  {
   "cell_type": "code",
   "execution_count": 4,
   "metadata": {},
   "outputs": [
    {
     "data": {
      "text/html": [
       "<span style=\"font-size:20px;\"> <a class=\"ProveItLink\" href=\"../../axioms.ipynb#_t_in_natural_pos\" style=\"text-decoration: none\">&nbsp;&#x22A2;&nbsp;&nbsp;</a><a class=\"ProveItLink\" href=\"../../../__pv_it/axioms/43c5ca85739dab0e5d869af8d9f6b96cb94286c70/expr.ipynb\"><img src=\"data:image/png;base64,iVBORw0KGgoAAAANSUhEUgAAADwAAAATBAMAAAA+KHOiAAAAMFBMVEX///8QEBCYmJjMzMwyMjKI\n",
       "iIhERERUVFS6urp2dnZmZmaqqqrc3NwiIiLu7u4AAAAqt126AAAAAXRSTlMAQObYZgAAAAlwSFlz\n",
       "AAAOxAAADsQBlSsOGwAAAOZJREFUKM9jYMANFjDgBQmkS/PdT/Nj4JSXwKWbbUM7A8N7uG6+O6jS\n",
       "7Hc4FRgYGbjS0sTSkhgYuP+hSW9j8GHghevmugARDrt71wEsfSjgCJI07wSwbEscTPeBYtYJcOn2\n",
       "/PQAIMXjBzf8ABtDBkL3frAgywGENPOCt2/hobYEIo1w2gEGbe5EOPcmmDS8CwQJUGn2B4XwUPoB\n",
       "pp4h6+YreAvjcX9geAByP7I0gykbjMflwG0ApFgD4IEK5LKawRUXPAXT3jABlg1w94I8nKQApp9n\n",
       "PADTzP5iQPIJRkx15kICFQUAALDXOQj7yj+HAAAAAElFTkSuQmCC\n",
       "\" style=\"display:inline;vertical-align:middle;\" /></a></span>"
      ],
      "text/plain": [
       "|- t in NaturalPos"
      ]
     },
     "execution_count": 4,
     "metadata": {},
     "output_type": "execute_result"
    }
   ],
   "source": [
    "_t_in_natural_pos"
   ]
  },
  {
   "cell_type": "code",
   "execution_count": 5,
   "metadata": {},
   "outputs": [
    {
     "data": {
      "text/html": [
       "<span style=\"font-size:20px;\"> <a class=\"ProveItLink\" href=\"../_two_pow_t_is_nat_pos/thm_proof.ipynb\" style=\"text-decoration: none\">&nbsp;&#x22A2;&nbsp;&nbsp;</a><a class=\"ProveItLink\" href=\"../../../__pv_it/theorems/a2ce7dd1709eee58d9638162058f196f35f493ea0/expr.ipynb\"><img src=\"data:image/png;base64,iVBORw0KGgoAAAANSUhEUgAAAEUAAAAUBAMAAAApce1IAAAAMFBMVEX///+qqqqYmJiIiIgiIiLu\n",
       "7u4QEBBUVFS6urp2dnbMzMxEREQyMjJmZmbc3NwAAADzFso2AAAAAXRSTlMAQObYZgAAAAlwSFlz\n",
       "AAAOxAAADsQBlSsOGwAAASBJREFUKM9jYACDcwwEAesHXDK8cBbjAVxquGEMviknFxBSw8AjgCoT\n",
       "8ntPAMO0bw1QNXx3Ty9g4A9A076RowDiSLCa1wycPxja0K0oeTCJgSGB4fbubbt3KzDUMTCkMZiz\n",
       "ormncAPPAwYHmDn5AQz1Dy5zQixj3uLiA2bUKfMdQKgpYWCoX7BWCyzDcRjmrjr2BZYINUDgD7Ph\n",
       "DdzpdQwbuBuQ1HB9hskgYqSOYS2rqwMinFkKYDIHkNQwCUgnIPxwG8bgSnFxcfGGqmEoZUeoYYIb\n",
       "w7oByRyGcFYHOFeSge8BlOmArIbLAK6FawIDM8w7xnA1u4DYCq7myd27VzCj9iDIS3Av+P///wfu\n",
       "oOpWCGPNN6AZrNgTFcdsaFygAACJZEjHST5yjwAAAABJRU5ErkJggg==\n",
       "\" style=\"display:inline;vertical-align:middle;\" /></a></span>"
      ],
      "text/plain": [
       "|- 2^{t} in NaturalPos"
      ]
     },
     "execution_count": 5,
     "metadata": {},
     "output_type": "execute_result"
    }
   ],
   "source": [
    "_two_pow_t_is_nat_pos"
   ]
  },
  {
   "cell_type": "code",
   "execution_count": 6,
   "metadata": {},
   "outputs": [
    {
     "data": {
      "text/html": [
       "<span style=\"font-size:20px;\"> <a class=\"ProveItLink\" href=\"../_two_pow_t_minus_one_is_nat_pos/thm_proof.ipynb\" style=\"text-decoration: none\">&nbsp;&#x22A2;&nbsp;&nbsp;</a><a class=\"ProveItLink\" href=\"../../../__pv_it/theorems/fdc5aaccce23f853b415834a94fd23eb3d98ce2b0/expr.ipynb\"><img src=\"data:image/png;base64,iVBORw0KGgoAAAANSUhEUgAAAFoAAAAUBAMAAAD/1DctAAAAMFBMVEX///+qqqqYmJiIiIgiIiLu\n",
       "7u4QEBBUVFS6urp2dnbMzMxEREQyMjJmZmbc3NwAAADzFso2AAAAAXRSTlMAQObYZgAAAAlwSFlz\n",
       "AAAOxAAADsQBlSsOGwAAAT9JREFUKM9jYACDcwxQEHSAgSBg/QBlcBk74FR0AcZghJvIiFv1BijN\n",
       "N+XkAuJVM/AI4DKb1X/3UQbO/Ayoar67pxcw8AfgdAm3QDsDQzzM7NcMnD8Y2hgYVu8GggeYqtn9\n",
       "OBUY2Bh4d+/O3r2JoY6BIY3BnBWnu9mlgcHLAjM7P4Ch/sFlzgB01cxbXHzAqh8ZvEGoLmFgqF+w\n",
       "VgsWOnN+GoAZHIeh+tkfVDFPYEEKE38swfUGZhn7A26GHUiquT5jUQ1PCuwPuC6EhCDikqUAi+oD\n",
       "CNUMiozbEBK3sSjmSnFxcfGGqmYPKINLMGEzmnUDktmsBSFwCUkGvgeYyh2QVDMs5obbOYGBOQBT\n",
       "tTE85oHxxrwaxnty9+4VLE6BpzMw4w5M2P///z/YHF7dCrH6fDaQjCGUnThmQ2IeBQAAYmtTOe5+\n",
       "TdwAAAAASUVORK5CYII=\n",
       "\" style=\"display:inline;vertical-align:middle;\" /></a></span>"
      ],
      "text/plain": [
       "|- 2^{t - 1} in NaturalPos"
      ]
     },
     "execution_count": 6,
     "metadata": {},
     "output_type": "execute_result"
    }
   ],
   "source": [
    "_two_pow_t_minus_one_is_nat_pos"
   ]
  },
  {
   "cell_type": "code",
   "execution_count": 7,
   "metadata": {},
   "outputs": [
    {
     "data": {
      "text/html": [
       "<span style=\"font-size:20px;\"><a class=\"ProveItLink\" href=\"../../../__pv_it/theorems/8bc9b38cf75c7371ab646fd064ad09fc02345f250/expr.ipynb\"><img src=\"data:image/png;base64,iVBORw0KGgoAAAANSUhEUgAAANYAAAAYBAMAAAB0Lx7ZAAAAMFBMVEX///+qqqq6urru7u4QEBBE\n",
       "RERUVFTc3NyIiIgyMjJmZmaYmJjMzMwiIiJ2dnYAAACPW0xlAAAAAXRSTlMAQObYZgAAAAlwSFlz\n",
       "AAAOxAAADsQBlSsOGwAAAeBJREFUSMdjYCAMOAugDOadDMQD8nTZwxgnemmuSxLOkqW6LiMFFG7d\n",
       "zTdk2IWmq7AAqyqOSQaoAhPJ8heqLp5UkKFv/6ApkkeyqmplDAPDZzx28VzGYg02XawJQIL7A5rK\n",
       "twgmewDDewUmBwaeUCAIx2KX2crPmFZh1cV3AUhwTcBtF1sBA4sDR4INhr+YNsACHItdWHWB7eJt\n",
       "gIi03r07Ad0uls8MbN+5Gh5j2MXYgMcurLrAdtUfAAtoNmPz1wUGtj88qw/A0tb8F8TYhVUX2K79\n",
       "kDCejC0MQd7+gC2R4bULqy6wXamoJQoDw0oUNecbyLELUxeHA5DwgNiFSEXeKGquMZBjF6Yu9o/A\n",
       "DPIdzDxyFwgCQGKZwFKDeS6IexcY4lwBmAZx3b17xffu3QTcdmHTZTYR4jcGBlO42KlgZBXbGMjx\n",
       "FzZdLxWA+RlcTPAiBMOQzXzAUE66Xdh0MQIV8m94ANbTgDUdnmNgaCbdLmy6+IDhx6/cgFZUIpdR\n",
       "t1atuoDXLj5IdDP/hBG4dIHSPPc6aNQFGWDaxfv///8J+OxiS/mZDWbcghM4dPEh264Xi1lG4QSM\n",
       "DQwkAj6s4UOMXfCyl0K7WhhoAbiwxkW9AC3sMsEaEuzLaGBZXSIDAwB4aaUFdo5x/QAAAABJRU5E\n",
       "rkJggg==\n",
       "\" style=\"display:inline;vertical-align:middle;\" /></a> <a class=\"ProveItLink\" href=\"../../../__pv_it/_proof__alpha_l_summed/987576baa155293b734c6727e6cececed04073390/proof.ipynb\" style=\"text-decoration: none\">&nbsp;&#x22A2;&nbsp;&nbsp;</a><a class=\"ProveItLink\" href=\"../../../__pv_it/theorems/7b8e14bfeec30fa2c83deb2740813fd8ea169a4c0/expr.ipynb\"><img src=\"data:image/png;base64,iVBORw0KGgoAAAANSUhEUgAAAC4AAAAQBAMAAACb51DZAAAAMFBMVEX///+qqqq6urru7u4QEBBE\n",
       "RERUVFTc3NyIiIgyMjJmZmaYmJjMzMwiIiJ2dnYAAACPW0xlAAAAAXRSTlMAQObYZgAAAAlwSFlz\n",
       "AAAOxAAADsQBlSsOGwAAANZJREFUGNNjYEADjFO+TL0bsoGB4e0fFHGOsAMMEziBDO4PKOJcCxg4\n",
       "NjwEMSagiLMVMJgyBwAZvA0Q/bF3b4JoZgaGNWwHgIx6EMHANMMApoMn4RSI2g/mVMKFGVgNgkFU\n",
       "KpgzHWGDHDfYZA8wB8lysCsZeL6DSd+7d+9ehThA4BEDgwEDhwPYFQFw5absQHY6A2sC2MYLcPEc\n",
       "oA+YPzDwb3gA4nXAXblAC+i5Cwz8ymDbOQXgrpzMwB4YwMC9DsxlTlWGiKtEuob6uz6AG8v0FBIO\n",
       "UAAAaDkwDDbpPcIAAAAASUVORK5CYII=\n",
       "\" style=\"display:inline;vertical-align:middle;\" /></a></span>"
      ],
      "text/plain": [
       "{l in {-2^{t - 1} + 1 .. 2^{t - 1}}} |- l in Integer"
      ]
     },
     "execution_count": 7,
     "metadata": {},
     "output_type": "execute_result"
    }
   ],
   "source": [
    "InSet(l, Integer).prove(assumptions=[InSet(l, _full_domain)])"
   ]
  },
  {
   "cell_type": "code",
   "execution_count": 8,
   "metadata": {},
   "outputs": [
    {
     "data": {
      "text/html": [
       "<span style=\"font-size:20px;\"> <a class=\"ProveItLink\" href=\"../_alpha_l_eval/thm_proof.ipynb\" style=\"text-decoration: none\">&nbsp;&#x22A2;&nbsp;&nbsp;</a><a class=\"ProveItLink\" href=\"../../../__pv_it/theorems/09ed3b1ae9e8d0e41248ed06313aeff763c3b19b0/expr.ipynb\"><img src=\"data:image/png;base64,iVBORw0KGgoAAAANSUhEUgAAAfIAAABLCAMAAAC8/fXrAAAANlBMVEX///+/v7+urq6IiIgiIiIQ\n",
       "EBB2dnbu7u5ERETMzMzc3NwyMjK6urpmZmaYmJiqqqpUVFQAAADjR+GvAAAAAXRSTlMAQObYZgAA\n",
       "AAlwSFlzAAAOxAAADsQBlSsOGwAACkhJREFUeNrtXYmagyYQtuWSG97/ZSteUUCFIanfp0u7bXZ2\n",
       "55+EYU7A7brWIdVdCO2SnzAEZgBKy9DuLoR2yc8Y1EEo8GEJuwmhXfJTBjEQCnSwZigoQsQn9HtV\n",
       "rrwAUKDDybsQIj6DXmzmrodQYIN7dRNCxIewti/O4LwFUIA5s7wLYeZjlDoXYjrO+X4jX6LzHkMo\n",
       "oAyq2cihCAtfiOB6+Cwso1yOEH6JyrlHAArI1PBdCAtf0LzwvLO6y2SB9i0q73oCoXxjbf1fCCuf\n",
       "YZPKhTbizSq3SaQuoQASRc9uQtjx0UPFvkflnZcQSnVl7PubEHZ8/LiZ+CKVu8HV1VNqh2l2FFCE\n",
       "LZ/oNxrn/TLEy1SuPAVQqlOGZr8ORdjwha6bEH9W3nkCodR619YJzSHwgj2fDZ/oOeea/al8MAMO\n",
       "oNR611Y3kSAwp2WB4W/4iA8j/2uCSk9f04dFiTpKKLUJQ2sfJoeAClTeLvmBgyf5eAmlbhDf+i5z\n",
       "CCUqb5f8yGCezFwJ5f5QXqLyJsmNuy96W1Uq3ikcR0chBwnot1v5TGbwZeL7Sig1wzZX5VmEApW3\n",
       "SD49SaMs0tkp4as/tJtteR5avEsObJEzU8t3rA9/vHufS3J10sksoVRNXnP2lkUoUHmD5POtNRI8\n",
       "yIXsTSe/H216ftuiMx2j3bIIlPmtzo3LJLU9gFIzZHMjJotQoHK4ZH5+dkqE31gsXpLhH72Ugqts\n",
       "IRBaCoJg3BJRPrr4sK3DzPq7vz6X19s0fyMASl3u1dq9yyIUqBwuWV66h15Nqu9URzu6LIRRjWO/\n",
       "xwvL+um1NZPVhx+Gl/OXoasL+Gk4T1YvS4rVEkpbgvgVhAKVR3zSHwyUJgFX2DosJjFmh4OXHtUW\n",
       "vgtaHancj+cxxtcm2NmQR6nhh9QY48LXADFlAy3VkClZ0mlW4hNTKKGUD+FbK6U8wrXKYz7ro8/B\n",
       "hEKO+NSH4Ssjp6xb1wlV3ZojrY4dUYHZ3N7laNKsUx8rH0iY2QIrX0/zZN3Y4fs0GH2mIW4z4yTg\n",
       "lVBq0u3WGi2PcK3yhM/5HJJJPh2/gg7+YkUamG2ici0Gg15gg5kphMK3wo4qF4P2KQqq4BeraznN\n",
       "Ux0MPxVFT5O3jwCU8oGaN1/zCPTy8G3Kh713VzV0970znuuiUjtfPGTsaKfS0+A0n+ap9owbkbEX\n",
       "c0klU0IpH7S5LM8huMEhS2cq+fhgnTkevV89/tuFE9rgq7UuH13ElTKX0zyTIvGUfCxwcgUyY1Pg\n",
       "c2Lf9J1AdFG/jYtX1xVRPkRbMyXOt5YhUIQMH9rM125i9wtDfFnlHav+wW7tzo6daSZMt7G+VeUq\n",
       "VAtOfDpBDg0VA5k/B9axLciuiPLpN8maKel9a4MJipDj6/11amGSbDE6UOG/PEo6aKF7w4K/mNo4\n",
       "UzcnqHx8EQIFnb7mNk/IHBYPomWsTtwVUbiLc5TCPkqryqEIOT42JOhXaO57h9q/cRtqOs3DJ5Pt\n",
       "O67nZpGYVD6+QFNiGP4/fi+81nzj22JfR7oyytKip1XpO27ut0IRsnxqsKqL90++1xD7wm2o3Wme\n",
       "wdqUyzh2Nxm6tZ9QrnAn1tKFR27MJ44tT1myjjojIM0qhyLk+ehQh59H0A8bcwS32GnDbahF9P40\n",
       "j0adIhmVGzf4YK7pJ5QP4WCN+jxa5OUq7wgOg9DKiY9WOqXU8SaENr6hqD5ftGvCzgi2BmTzy1Yb\n",
       "uCWxit6f5gmOdrM39snYrfSk35Tig4G7tTfHohLEJgo+pEzhoWeVE7+/64tV+EBiij2bogBvhjtD\n",
       "gErehnN6WtKuLRQ8fgvoF89bbQycFVSLPg0h0dqvULlwy38Gv7P/HUd6qod/M+L2E09G6b0OhwNi\n",
       "kKM3DFT5EV/SeI2Ld7sz9x4gfd5qy9+GKnrvtaJ7WxSqlnwmzXAOKMHAqZo9yTQ/yPXBoWARGs+5\n",
       "Mx77bEn7pWygH5BL1ZUFRBY57EM+fRrO1XIghM81FCyTCLOSvw1V8AnqRZ+e942KFJ7sUx1TLFqT\n",
       "tylVWEuBUC1YYbIK+3dr5FOBRwllK8i1yv/dfXdY1kap1p5vn8ufpAerlQ8vRBigjUAN2ohaPkGT\n",
       "6EuV/5Mo+IQi15gRQnKHtjrW+X7xztbYPNV0ImJVEss9cFPnmE+c9WM2jh1eYm232kDv/atnrCO0\n",
       "GisfSvK5OB/PAbFtT8aIfL94P/GLyskK8j3HXs6HiDhL35aFrCf3D2i/7rbaQE4CLPq0BlnVmSzz\n",
       "Q4pYSpYxCm/PbTHU0YK8edq0MkNI56Wh/NsZe4jW/DSgLjbBMDEK4TsuNXxVdLyvUpO+DZk534Ry\n",
       "I6fGcwCkwZd1jF1NPKXGDFmeDrdDykL5mcpPu/1HfPzCaxC9CTde3nSN5Yui48fs1Kl8zTMU223v\n",
       "Kzue3KUskyodKmwEKchpDhHOIwM+qssvZlL23bNGfK4LpnI/ZiefrgwdczeFc2HtcIZ9WYoTIwit\n",
       "Zc+7yyLvQLK8aqFq8jCVx49SsMkmSglFo/GEZ7/UaM45RHuZaU72x8XlBHJd4e4Rxo08OvgqQbGk\n",
       "vJhvoV7asPEPexpk7+IPiLt6yuIkaYjlp4pzzZunEYIb4zcZ9/ZstWSd7VnYfbh42JPh4gCXnhAr\n",
       "oVSkIc2nYiIEMhqhC0dXzs0xJ9lkyzOz13H/rGd+Jo/oTE+IlVAqAsm3z76NOw7j40wUqZWcL88s\n",
       "idfFs0K5TGxBAyjlwzSfcM0i4CGhRK5jvIYv+6xKlnw69qxr6cQmSQ4CUGrcSqvN5BDG57lplKsK\n",
       "j/ky5ZmwLrOvRp/0fE9E0lLGAig1rZ9f3FYZ2/Bcn97QSfikl9uB8XT+IJObEv5gI8/c1Suh1OSL\n",
       "zWeEUwTdA/j00QnTtGPzoMf4IpmZlx8/RgI3R8YEwbhfS5bmIRoXaYkikkBZQqkrq1unL0awocUi\n",
       "xC8lMyweoXGGbSbHkQBKlWdp7sVECFNrv+ApKy2ShXxECy53lOr3TwFTzVXaHkFgHQb+sWTxhAyO\n",
       "qazzswBKldjmlH2PMF/Fk/+H5EcOnGRmJZRKEaL5TYpv8JnskQNKEX2TxlmSmZVQ6gZtzt+gCDEf\n",
       "yfi5cJhP9S9SuU22HkootaG4dWMFihDxiZyfH7suXrxH5b8P5d2vnuhZz7e9Z/9ZBiFokRf9Ia10\n",
       "LksolUM3PwYMirDnW+7Z6/W6uJmfC4PNazTOE49ZQqn3r/QmhD3f7p79+ulGK3/Pn0hEic8uodT7\n",
       "EnIXwpZvf89+59j9exy7JBAKYGWpmxC2fOs9+61jf1v6xhN/WUIBjObYAEbY8O3v2a+LIhRp7/kD\n",
       "5+lfHyuhgApkdhPChm9/z37bitGv+QPnLDGdEgpMEr0JgflXtdauA50AUICi2E0IyLM/TX/SWQ2h\n",
       "wAamdyHgPzM/Wf8lFOCwzd4CimDf1E29inIGQAEP3d+FoPs/Zc+peA+hNDhmcxfCi9qpp0MlT8gp\n",
       "obQ0AZrBoAic/GVw49JXEErTIhN3Iai/aN7lTkVdUP4DuQqEjGTTF+AAAAAASUVORK5CYII=\n",
       "\" style=\"display:inline;vertical-align:middle;\" /></a></span>"
      ],
      "text/plain": [
       "|- forall_{l in Integer} (alpha_{l} = ((1 / 2^{t}) * (Sum_{k=0}^{2^{t} - 1} (e^{-((2 * pi * i * k * (b MOD_ADD l)) / 2^{t})} * e^{2 * pi * i * phase * k}))))"
      ]
     },
     "execution_count": 8,
     "metadata": {},
     "output_type": "execute_result"
    }
   ],
   "source": [
    "_alpha_l_eval"
   ]
  },
  {
   "cell_type": "code",
   "execution_count": 9,
   "metadata": {},
   "outputs": [],
   "source": [
    "# Don't combine exponents during auto-simplification for the following steps.\n",
    "Mult.change_simplification_directives(combine_exponents = False)"
   ]
  },
  {
   "cell_type": "code",
   "execution_count": 10,
   "metadata": {},
   "outputs": [
    {
     "data": {
      "text/html": [
       "<strong id=\"alpha_l_eq1\">alpha_l_eq1:</strong> <span style=\"font-size:20px;\"><a class=\"ProveItLink\" href=\"../../../__pv_it/theorems/8bc9b38cf75c7371ab646fd064ad09fc02345f250/expr.ipynb\"><img src=\"data:image/png;base64,iVBORw0KGgoAAAANSUhEUgAAANYAAAAYBAMAAAB0Lx7ZAAAAMFBMVEX///+qqqq6urru7u4QEBBE\n",
       "RERUVFTc3NyIiIgyMjJmZmaYmJjMzMwiIiJ2dnYAAACPW0xlAAAAAXRSTlMAQObYZgAAAAlwSFlz\n",
       "AAAOxAAADsQBlSsOGwAAAeBJREFUSMdjYCAMOAugDOadDMQD8nTZwxgnemmuSxLOkqW6LiMFFG7d\n",
       "zTdk2IWmq7AAqyqOSQaoAhPJ8heqLp5UkKFv/6ApkkeyqmplDAPDZzx28VzGYg02XawJQIL7A5rK\n",
       "twgmewDDewUmBwaeUCAIx2KX2crPmFZh1cV3AUhwTcBtF1sBA4sDR4INhr+YNsACHItdWHWB7eJt\n",
       "gIi03r07Ad0uls8MbN+5Gh5j2MXYgMcurLrAdtUfAAtoNmPz1wUGtj88qw/A0tb8F8TYhVUX2K79\n",
       "kDCejC0MQd7+gC2R4bULqy6wXamoJQoDw0oUNecbyLELUxeHA5DwgNiFSEXeKGquMZBjF6Yu9o/A\n",
       "DPIdzDxyFwgCQGKZwFKDeS6IexcY4lwBmAZx3b17xffu3QTcdmHTZTYR4jcGBlO42KlgZBXbGMjx\n",
       "FzZdLxWA+RlcTPAiBMOQzXzAUE66Xdh0MQIV8m94ANbTgDUdnmNgaCbdLmy6+IDhx6/cgFZUIpdR\n",
       "t1atuoDXLj5IdDP/hBG4dIHSPPc6aNQFGWDaxfv///8J+OxiS/mZDWbcghM4dPEh264Xi1lG4QSM\n",
       "DQwkAj6s4UOMXfCyl0K7WhhoAbiwxkW9AC3sMsEaEuzLaGBZXSIDAwB4aaUFdo5x/QAAAABJRU5E\n",
       "rkJggg==\n",
       "\" style=\"display:inline;vertical-align:middle;\" /></a> <a class=\"ProveItLink\" href=\"../../../__pv_it/_proof__alpha_l_summed/a9810ab9d05fe73d2cff7666ae629f12d28bd1f50/proof.ipynb\" style=\"text-decoration: none\">&nbsp;&#x22A2;&nbsp;&nbsp;</a><a class=\"ProveItLink\" href=\"../../../__pv_it/theorems/5bc3e616cbac63c4744b847593ad3f11882ba5490/expr.ipynb\"><img src=\"data:image/png;base64,iVBORw0KGgoAAAANSUhEUgAAAZwAAABLCAMAAABz08EoAAAANlBMVEX///+/v7+urq6YmJgyMjJm\n",
       "ZmZERESIiIiqqqoQEBDu7u66uroiIiLc3NzMzMxUVFR2dnYAAADkd/AHAAAAAXRSTlMAQObYZgAA\n",
       "AAlwSFlzAAAOxAAADsQBlSsOGwAACN9JREFUeNrtXYmyqygQZQaQffv/nx1wiwKKtiZTpZdXt17S\n",
       "SYNy6B0MQtcaUb/le1YzWjYp8Ebdb/me1rxrU6CNC/lTvuc1gdsUWJPAjjI+Q98LjgqmSYE1R27h\n",
       "w+zFouO6NgXSbFB38DFN+Yt9gsCbFJDHRS7xSe+dS7ZH1zQfJi9Bp9NtCsCqAwVn4kuWhsbrkBUY\n",
       "LGP6JeDYwJoUgADoa3wJIxMs4hRV/Ar+FnBQJ9qU64if5MNyAMdQbN4MDi9sDL9sdVyQ1/n8JgTv\n",
       "AQcF0qacjFVCd53PbicrXgSOi+qjRTnXMFD0lnymW2Bju6mZl4Gjgm9STpoxoFZb8KXMgDF/koOC\n",
       "aFPOaafK5Nl2SnXBZzprLZV/4MQFa5uUc9opFzzpKGlL04JPhNQ24mZPgn9NVocVk8ku6TVXi0BZ\n",
       "GxwX/go5leiCNClnmggIBI4If1hUjE4xcSHAiypVk3MAnDrfwXYxP0qXvr+KOl3pXLEbEodg3601\n",
       "SVL2Twp9Qi5oGF6Nctrg8ADPh+9WTxVntHo7dtYPfFE2sn3CaHKJOHN4yCD1bvyXy0sVt4kW2RZ6\n",
       "Ib9GqwarDQ6FG7r9NLVIUtkYe5HB6wY5GS/bIIykn+FS+LvoYFe6SV2TcryRagjaBoeAs0Z2v7Jt\n",
       "0jcmKSIi/qOTwz6PbQxjkzPYCwxh3g4aDqcixfzlb29w6Hhh/0WTcsYfsCBwBNh/J02R69QAElLI\n",
       "Iz9B1s93H+kGw2U3vOZ4FKX0aXo9/mH/katvmp18ockipJAB7jnVnYk2OBkfCRuNlcaqqTET7Kb3\n",
       "N6KKGvSWHsDpqTb0lb3+Ne6XbrTMKn7qMcYu/cU+BrN1wY3FhxZfYT5DsWgDeBmbOq5NcHI+HrJr\n",
       "kEYxF6PTQqZ1S3C8RDOiXqHZ6M5qjXmj5ZgssmzEwKmP5ESalrwtOXMFt6oaNq8Ta7aYhyxrpQt1\n",
       "r8EGgNc94iY4BZ8LtZ5wcWW21XOSwbmnyMwLcKiJMjJ1269cxVh6b3gPjok4eZYmze4vhKmCe9oU\n",
       "LLzJzueXz1CLcjzfUJV839rVU/LpEFwrJkF37UhZwK/Wqih6a2w1+3uqeazgntY2yyFFvkg9alGO\n",
       "Nl9z9FzUR8Thc3w2rvgaC13DHO72btmyfzXHOb3cNeZ9quAOU64HIzl1R+Z+cB9kfXbo4Q4Z5mek\n",
       "eBZiuCLogPqMDshZ4WOLO1tNwRpCczM4SAI+WayyUa1JKg1GizU+g6OSp+jMJwZ2LHqLYroPTbNV\n",
       "S4p1DHVLukBv4+tCO6WDC/8jK82Fm9uRID+FrTLJ4BC/DmFsAqd/kbSkH/7G+DYZuFkoKcmg0AU4\n",
       "0EQXAYJT45PROWv15u7bxHbH3t+hgmsHMeiQpWOYbAZw+hds8DTS//17Eyi1S4WR6Q9RaBRoFKqB\n",
       "1qrKp+JKbbiN4r6Y/Ya9v6sKbvQGlauoNTcID+cfk6M0Mh+/1a5VQyiUBTQKFUBw6nw+xjX7iv7D\n",
       "Jp3QV9b+hb2/09DrCi5lSIkKONhZF2XKf0xOVIYf62TX63EHHB/DKntukhkQHLYRpOzrrdlZk0Jz\n",
       "DJKjKW0NLlnMQ68ruKkAsEgzf7w1ToLoPh57so3ukz+Qa/+TF+CMFKNVGtoMOnLhzOlFc9kkYyA4\n",
       "uH7fYVcUP46n0/1bQMVlTFtLsPU6PfS+Al0v001wRP+1jqYqk3SHNF0AgrPFV6Rx8mCIr0SoA4w+\n",
       "pq3re38PXfvZoTt+TFOPdre0xH20M/l2vhfGY5N8UHHLtb7a5KO7ZkdNZUE7erowi5eUTH3v74Eb\n",
       "OD/0/laktYdqi0zyQBFD0O6FTx9Tfwycf9dvN+OEtfXO+NZpHNaWnPjCpAYqJFNQmne6gUtDN8H5\n",
       "pwCnp8hxUvwwAVodsTkBmDLd5jN7MddCrcEd4WXaGnTt9+7UWne3JTkTOGKQYnSrWjvMx4TZcwgm\n",
       "TU8H5QdI5qzS1iDBAw+974BOUJRJRzQlgHE0PfaoybnbW0tWxe4q/mmZSS2wYvr/2G5479BZ5nPL\n",
       "IYhRDsbRUaNph+Uxk7MLDjHn+WxDEgVdKNtA/qetoHcOnZ2L3QRnZf7UIYOnt8HZVYx6K85p3DPp\n",
       "0MNaVnY/BE44ZjSLMp2hlHQWtXzxjfIeaSVkqHgaONmpMV6kOUsKouzQRsMuc/f7WrCPkmq8Jt4e\n",
       "5hupTbnA4WlP/OhcdoO6uGWo++KyJL/r7YxIWBN+gm9U5bWZ52td+bQnFWT6vazfM3CxLa+hin5l\n",
       "u1Sv3F3jtdorrjrReI1G97AnsOTPUCnr9x685TPn7JOC/UlGJc7wbTrRXOQIPszkkHzVUtSiHG24\n",
       "KnM6+hfMIWlP8FWfJSKLK5MPO9YjeG6MGWpRjkulqLnurK89eXmcr+JEG+4qOWr/qKetMFG4sbxJ\n",
       "OR7fVqKZPv9m6d6G1IKPBLJsWg+VrIqnIuyDBaeyhxy+qxxVtjPR7jwf3dr9UsaqT3pQESufCnHn\n",
       "0TZd2ADsYHyHG8FPwcYU/qkpzIS5cATE5Wubp+jSmNN8x5vU5hnYSM1LW0yalBOCmblTw97v9mlK\n",
       "FuABiyHPSBNUKt33nnXPgDWapqbP8p1E5xE+gVQ1hcKblBMjrN2ucTc3Ocv316b5k03Kqe7MHXy4\n",
       "XrzynvkXYSML6y8vPfzGAy17zidq3lva8aW694DDi5QjD1c2ICsgd8ZnqlquDziDeQ0495ocBH9O\n",
       "yppvdaLog5isRdHPbeVcXnwKDQWmF9Z884kiOp+3weMBUI3fgo0ttJAN145VQB+mt+ZbnyiaL62X\n",
       "nBc90Ys3KWdlUVzny04UrdRaeI1aI6JNOY23usz3OVG0VGsvcwhsoYNsuBxIQPXigi87UTTjl1zp\n",
       "1/zCTvkMaHd9P4sHdrHgy04ULYNQ+pZf2JHFIpfB3dCr/ynfY90B06SAupU/5XtokEPbFEjT/rd8\n",
       "zxQc+Z21y4Hyx1+UmmnqeNykQNME3W/5HuiqfelXwXoFhX/L97SmipOw6r4fgrTAruzfb1EOi1S1\n",
       "KRegN7/le5jFUbuU/wAZZ2ubvec3YgAAAABJRU5ErkJggg==\n",
       "\" style=\"display:inline;vertical-align:middle;\" /></a></span><br>"
      ],
      "text/plain": [
       "alpha_l_eq1: {l in {-2^{t - 1} + 1 .. 2^{t - 1}}} |- alpha_{l} = ((1 / 2^{t}) * (Sum_{k=0}^{2^{t} - 1} (e^{-((2 * pi * i * k * (b MOD_ADD l)) / 2^{t})} * e^{2 * pi * i * phase * k})))"
      ]
     },
     "execution_count": 10,
     "metadata": {},
     "output_type": "execute_result"
    }
   ],
   "source": [
    "alpha_l_eq1 = _alpha_l_eval.instantiate()"
   ]
  },
  {
   "cell_type": "code",
   "execution_count": 11,
   "metadata": {},
   "outputs": [
    {
     "data": {
      "text/html": [
       "<strong id=\"alpha_l_summation\">alpha_l_summation:</strong> <a class=\"ProveItLink\" href=\"../../../__pv_it/theorems/b4ade67c6105d4d7b117be2515d919a355b74ffe0/expr.ipynb\"><img src=\"data:image/png;base64,iVBORw0KGgoAAAANSUhEUgAAAQAAAABABAMAAAAHc7SNAAAAMFBMVEX///8yMjKqqqqIiIgQEBBE\n",
       "RESYmJjMzMzc3Ny6uroiIiJmZmZUVFR2dnbu7u4AAACz9PdfAAAAAXRSTlMAQObYZgAAAAlwSFlz\n",
       "AAAOxAAADsQBlSsOGwAABOlJREFUaN7tWG1oHEUYfve+du5rr1rMz/a0UAWhPY0/QrWSWqixfuQQ\n",
       "mrY/1DVN68cfr1gR2h+3RNSzQXNaS0EKHioIFptDiq0K6UklfiB6QdBf6qpRpFiaJiFt2ibbmdnZ\n",
       "vdu92+3Gkhl/OAvzubPzzPvO+7zvDgBJQyA47RC8fvhIVjCCisC1lZ+/1ZVldvOvZbwBJCFZCVVV\n",
       "1pI7uQsjU0bn0cea1QxxBxDT0fmmZkjAcUhXBAPYq4sFgB6lxXNbcNJEABiCklAJoK3PjwoFEDGM\n",
       "ySY44/M5+D+Z6aOrMGieFofi71vCux7uXqQXWOG7QM3RfOPOsl2Xib8IVWlVhW5crBrDXL4N0/o1\n",
       "EIA7Pe5sdiuTLoDUfUQBYTRhTT2DX4G4ukgWrnmPyQ8525pMdvr6hg1444hIXyp14vxVCC3/CQ6B\n",
       "qqikt7ZIETzsPSTVXR3RMmhQruNuDS+lQWbwT5yvxpJ4EVTyxPBQfpEAJqgOVhqNNG0NrXWr5zig\n",
       "Cij1PC5QHleL35GOfpD0g/DjrrFdtSQ+JP7BxBMeB22tUTAP5St39c5YQx+6PZZO+CFdPgpMBev3\n",
       "/43zZ0GCr6kEconfWyRAgp2m5oPNY0+T76ELpJoybPaLjbDgUF5wAVhJXwrBGgvAiXQ/mQvxziwM\n",
       "gorK6S6Q663BjicBUqt6hNZHLrutG1IBtRmjn4kV1D/MBVuDHa+ZwzQfoHnRaJjPCTY1qEF10fzA\n",
       "GH3/5vbBzn58uEjI1UH6VNi9iZQ70XoCg0o8bFxozDGLohaUzZobettgRxl9KU0bBEBcQ1/tJo1T\n",
       "gxN4jQSlM3jsonviM1aFhQkZI1iabOE6pa5AF6YppY4BnIEwpPGD2xuzMlGaaTcTRtU18fNAnrwa\n",
       "INiRe7Bx7ANSdsAeLYxPbBiX6NJxKnwTcdyYcs18INAJvKrnNoMdlD9sqyAFObiJzM2/hYhZsUP6\n",
       "64xLffMk+2ez/xbX+TlM5YsjVrCTzL1pA4h9WdtHjDWV20sOhsx2LhkuDpsln9i82lsQ8VWfQMKX\n",
       "Zd8ZqLFgR9ITugUAbpzZTpldSxFiVGYZ3N55p+4IsFQFhj39ZQTOwm9+AL4BtBBAbxb3W3Rs+cIp\n",
       "kwuinnSAYA/cGvMBgLfW164/mm3VNVGT4XC/8TnKT4ZR915hOww92X7kLNanjCfPtxtMOIV6yaqM\n",
       "TLdIoHhLqeQdsiQLnkOEXeSpUum1AJZkAxiutKrA18p+Cft/eToYk9qv3eHgXkQOZxJrxZORJeOi\n",
       "/5eP6YACAJi1lO70WgoBprz31Lp//5NwetOBdwOQqcWARdcl0f1UzSPLryGs//RcAPTyHNvxRtfA\n",
       "DZx+PkKMKyQ35x7jfDexpcUd63wARM1APnm0IRPGJZwuDlnkNdCwtn6GrMoHwNuaywZD3cxldPMB\n",
       "MG6yoC1v5STbuTLHB8A9Thsc/N52iuNc1g9TQUvnrqPpg16jwa+RApfrGSr7k01R7awdN3C5M77N\n",
       "Z6yDxwVZj58z0ZYewGk/tkErlh5An+/oy0u+vlL+j9zHxRqBQ/qHuggE99m1HXBQwPqo8Ut7L2Q0\n",
       "ASrIv8AEj/9lIln+AFJda3qS5BqgT16AhMofQOR2KNhXUxEBl+XDn1mOB6sgI0AFO+MVzVSBoEN4\n",
       "Sq5Y1t8JhwWY4TYYK9hENMp79SuN2IK/PdGOnwAAAABJRU5ErkJggg==\n",
       "\" style=\"display:inline;vertical-align:middle;\" /></a><br>"
      ],
      "text/plain": [
       "alpha_l_summation: Sum_{k=0}^{2^{t} - 1} (e^{-((2 * pi * i * k * (b MOD_ADD l)) / 2^{t})} * e^{2 * pi * i * phase * k})"
      ]
     },
     "execution_count": 11,
     "metadata": {},
     "output_type": "execute_result"
    }
   ],
   "source": [
    "alpha_l_summation = alpha_l_eq1.rhs.operands[1]"
   ]
  },
  {
   "cell_type": "code",
   "execution_count": 12,
   "metadata": {},
   "outputs": [
    {
     "data": {
      "text/html": [
       "<strong id=\"k_domain\">k_domain:</strong> <a class=\"ProveItLink\" href=\"../../../__pv_it/common/0107914a254b4cba063b4849ea3d536e6979ec8c0/expr.ipynb\"><img src=\"data:image/png;base64,iVBORw0KGgoAAAANSUhEUgAAAHIAAAAYBAMAAADUnLRyAAAAMFBMVEX///9ERETMzMxUVFSYmJgQ\n",
       "EBDc3NxmZmYiIiJ2dnaqqqoyMjKIiIi6urru7u4AAAB85a56AAAAAXRSTlMAQObYZgAAAAlwSFlz\n",
       "AAAOxAAADsQBlSsOGwAAAWFJREFUOMtjYCAAuBMYyATvydXIsBqPHN9dPJKZ3ZOwiGZBvHD6Hj47\n",
       "d2ETZDJ8ACS5/gGJmcexBER6tRADwz8MXX1AgtEASHA2AANwAV8bhkY2AYb5F3gD0EQfV/+DagIT\n",
       "HgwMEzF0MicwsAbwGDxCE+ZB0SnMwLD+AbpO1n8MzN/YD8zDq/M7A4P+Agw7GxiYPzGVKODTyQfS\n",
       "6YAlDDk+YIohdLJvYGD7CdR5AItObIJgnTyggEt1gOicgEVnMwMOnWy/GBiS9wJTEVDnfSzGswvA\n",
       "WK87QKAJrpPh8S4GpsIH4BBavwBTpzMDLjsZZl+AJAdBBgZ/jFhh4JrAkIZDJxcsmFwZGKox1Wgy\n",
       "MJzDFbYBUJ0cC/iCILlxA9DXv6Gpr728vAFTJ+c35JTAV3kYEuEcBUCiHRqZ////34CZJk1/myDp\n",
       "JBlQqJMngAyd7BugyYFk8BScytOtSNaYCdQCACw2ZRDDxSPaAAAAAElFTkSuQmCC\n",
       "\" style=\"display:inline;vertical-align:middle;\" /></a><br>"
      ],
      "text/plain": [
       "k_domain: {0 .. 2^{t} - 1}"
      ]
     },
     "execution_count": 12,
     "metadata": {},
     "output_type": "execute_result"
    }
   ],
   "source": [
    "k_domain = alpha_l_summation.domain"
   ]
  },
  {
   "cell_type": "code",
   "execution_count": 13,
   "metadata": {},
   "outputs": [
    {
     "data": {
      "text/html": [
       "<strong id=\"k_in_k_domain\">k_in_k_domain:</strong> <a class=\"ProveItLink\" href=\"../../../__pv_it/theorems/df30aba3a535ce7eb8609d1347296ba1cd1680060/expr.ipynb\"><img src=\"data:image/png;base64,iVBORw0KGgoAAAANSUhEUgAAAJcAAAAYBAMAAAAFV3JHAAAAMFBMVEX///+IiIjMzMzc3NyYmJhU\n",
       "VFR2dna6urqqqqpmZmYyMjIiIiIQEBBERETu7u4AAAAsfX+gAAAAAXRSTlMAQObYZgAAAAlwSFlz\n",
       "AAAOxAAADsQBlSsOGwAAAd5JREFUOMtjYCAdLGagHuD7QEXDOBaQpv55AW455uxlClhEm3GpZ1z+\n",
       "AI9NXA3YRFXvgULgzgYMiX6gWWyJk7HYP3OtAgM/hk3aIJGrYIsmYOjJBuIVDK8NMCRsGdi+M9Sg\n",
       "R0jk+gdQTQz8DdgMY9nAwHYBQyKYgeEMgygfepjJww2rh7ma8fbuXXDDeAMYOP5hGHb+AUO8wUS2\n",
       "BzgNy4GKsC98gOQy/gkMTD8wDItmYIhX0HRiwGnYUoa2eSDa6gGyN98DDfuCLdb2YxGDG8b3haP5\n",
       "CFommcXAYJ/AwPQRiz6sgmDDZEDp+XMFE9gcRLpmPgIx7BsWfdwBuAyzB0Yk5xFI3DCd3r17916w\n",
       "WVHA9P8+gYEdmyPmwhivdoPAJoRhfFENDNwrJ0FSCyIhaN4DRwAHZgQwsGBzGMQwtuVAJzTUQ5yG\n",
       "lBGAiZn3AgMLZtJgaGNgNsBhGCjb+D943yAAEhFETbQHGDgxSwemBAbGBzgMAyWxKIb3Cglo+RcU\n",
       "yzsY3oBd/H4BjAAC65kzZ2PxZr4BVNMNBsaJYMv4YuuQDXuZGASJvgkwApTI/v//hWlW6PmlDtBE\n",
       "CwfsuUjZiXSQTaI4WYbJkGPYLBzi9g1kVDNHcBXzU0k2jTkVqAUAoEWJuwmnY2MAAAAASUVORK5C\n",
       "YII=\n",
       "\" style=\"display:inline;vertical-align:middle;\" /></a><br>"
      ],
      "text/plain": [
       "k_in_k_domain: k in {0 .. 2^{t} - 1}"
      ]
     },
     "execution_count": 13,
     "metadata": {},
     "output_type": "execute_result"
    }
   ],
   "source": [
    "k_in_k_domain = InSet(k, k_domain)"
   ]
  },
  {
   "cell_type": "code",
   "execution_count": 14,
   "metadata": {},
   "outputs": [
    {
     "data": {
      "text/html": [
       "<strong id=\"defaults.assumptions\">defaults.assumptions:</strong> <a class=\"ProveItLink\" href=\"../../../__pv_it/_proof__alpha_l_summed/bd2a1ece41ef7363e57766d84ac06c573f8daa5f0/expr.ipynb\"><img src=\"data:image/png;base64,iVBORw0KGgoAAAANSUhEUgAAAb0AAAAaCAMAAAAUnnKUAAAAPFBMVEX///8NDQ0WFhYLCwsYGBhU\n",
       "VFQiIiKIiIjMzMx2dnYQEBDc3NxEREQyMjLu7u5mZmaqqqq6urqYmJgAAACZCzMOAAAAAXRSTlMA\n",
       "QObYZgAAAAlwSFlzAAAOxAAADsQBlSsOGwAABD1JREFUaN7tWtl2ozAM9UzHO16A///XARPb2AhH\n",
       "QEKbc6qHltIY3avNsgghP0CMru/YwXy8qiugjsjQfyt4O9Z3BOfs01VdAfVcXLry7nvReyD4Pft0\n",
       "VddAPRPdRde/u3LYvpXbWjIjxS0mbavSXr+N5GFQO5/NEAe+/O6GVobayzbjpm8/xPjbEqKpStDO\n",
       "vo3kQVA7soLIwoVWy1+SjdsIEN36Lym5q+ITXFUaZ4RpaedMF9ZCH0B5TzCcxdCqOrpJqU5hkCSS\n",
       "gIlOgdplmiDycOFkzEVg8+xEFSOWVdiGZ1uuZPuFW45TuenVEidRNM57ljozoryHVwVhNZiuIC4E\n",
       "TYQChWWaINpwa4z12hkgUdd+CutkV5VWc857NFBUKgSRxex7/abCc5z38KogrKPHew820RlQu0wz\n",
       "RDPZQ6T7jG9Tbx1FS87WhbBcxTs2iUF4T4Xn0FETx4m0CO95ftJ7eFUA1n6rY58kbKIzoBDec1OQ\n",
       "pNOO3m5gfbENjKGEiDIWi1W94Rade+E2nZYLN4hNH2ZGyV/lPbwqAKus61qLJGiiE6BQ3uMTMmr2\n",
       "N7BiBmAjtGFv29PG4ivnI3MPHFRPew+vCsBqpgj2MrfeLZKwicgL+EPem6tCF4s0zdXasSD/vuaf\n",
       "NGWZXKAVRlyt2hn4tDbG6mHv9B5KFVfbOchAvNdqwJCETURewD8zzRDFlLcmekfx9vgtQZNF+V6t\n",
       "At20Ig6EHiV3eQ+lSm9qnh9174nIpmiRhE1EXsA/M80Q9dRvMhc9WQdV76oolEu+8iJ48iqh2ENy\n",
       "Pmpq+jjRYVlE3ndRQ72wSC3Pp6e8h1RlaXV0dqrclJokQRMdAgVZqWKaINrJezH3tkWjrhFLUfdF\n",
       "eK5XWchAwu3PL4YjmXct97CqpKnmXcw4JwiWJGSi66BKpgmiXlXOqdm1Raz//cPKWF92yKGw2HoV\n",
       "gduTbg+jnwNV6zu8h1W16fXt5Ii+aMabJCETXQZVMs0Q57oX245pdy6r9aa3GlTan9O/ilWcHzit\n",
       "ExEWcnuD99Cq4vHA5pbaBg9yHMmViV4Hquo51brnjLVv7G2BC3htxOYxkBJzREZ85Spw3Lo3KWNu\n",
       "FnalcsqxPNKY6uKwqgfW/ID5PGWn3JNIkslENaYLoEqm2ZxzqMRZwuCepN4EwElOAzIWh6blKku7\n",
       "7aR9x3tsDGLOe49SNRq66mhjA5YvjqpKToj8utlV3K0zpEkym2gD5TSokulq1jJXa9XvFuWGJXcS\n",
       "vpcdclJ2XDwn75aE1bcK2jtJHhgozHNO4kA/mXY9lmfUXZR+uM808rRNb4O4vGMQ0AuKoQ3fHkgD\n",
       "rsjHSOw37NE0v49kaoke5w0KbMNPXnseIadH/ynOs3EudLhG30YyQSSPt4jQ91rECxVqRz/Cf1pe\n",
       "wHkPyRXE+L2WZx3Kr/zEUMszn2/+PuevnNj+wtb2H7PNPLVKilGUAAAAAElFTkSuQmCC\n",
       "\" style=\"display:inline;vertical-align:middle;\" /></a><br>"
      ],
      "text/plain": [
       "defaults.assumptions: (l != 0, l in {-2^{t - 1} + 1 .. 2^{t - 1}}, k in {0 .. 2^{t} - 1})"
      ]
     },
     "execution_count": 14,
     "metadata": {},
     "output_type": "execute_result"
    }
   ],
   "source": [
    "defaults.assumptions = defaults.assumptions + (k_in_k_domain,)"
   ]
  },
  {
   "cell_type": "markdown",
   "metadata": {},
   "source": [
    "Rewriting the summand, step by step, to get\n",
    "\n",
    "$e^{\\frac{-(2 \\pi i k (b\\oplus\\ell)}{2^t}}e^{2\\pi i \\varphi k} = (e^{\\frac{-(2 \\pi i (b+\\ell)}{2^t}}e^{2\\pi i \\varphi})^k = (e^{2\\pi i (\\varphi - \\frac{b+\\ell}{2^t})})^k$\n",
    "\n",
    "so we can eventually evaluate as a geometric sum"
   ]
  },
  {
   "cell_type": "code",
   "execution_count": 15,
   "metadata": {},
   "outputs": [
    {
     "data": {
      "text/html": [
       "<strong id=\"the_expr_01\">the_expr_01:</strong> <a class=\"ProveItLink\" href=\"../../../__pv_it/theorems/69a189031bd767b3cc01e42d574900d04cc645ca0/expr.ipynb\"><img src=\"data:image/png;base64,iVBORw0KGgoAAAANSUhEUgAAAMMAAAAZBAMAAAB+9IfQAAAAMFBMVEX///8yMjK6urqIiIh2dnbM\n",
       "zMxERETc3NyYmJiqqqpmZmYiIiIQEBBUVFTu7u4AAAC+LTDVAAAAAXRSTlMAQObYZgAAAAlwSFlz\n",
       "AAAOxAAADsQBlSsOGwAAAqBJREFUSMelVUtoE0EY/vLYTJrHptBLPblSKogKCy0ELMgeFDxJi+ih\n",
       "LSQUfJxkD+KaFuwgqC16iBSxepAiFBGlBMSDItqiYKEoQREDPlixKGKligq+cP1nm4Y0zT5oZuD/\n",
       "5/39j29mANcSy9qqPXirPMDWYTsaKZu2KZW21EyiacJuckyTGitx4CBiDUFMy19qvOBCRsAIL6Tz\n",
       "eVqCIG8EQpeEtRtmZsh4JmIUMDpIHkFTy060g8tcjBYbciOiQIeiaYRGh+lI5d6THCdvjoKLGqWp\n",
       "bEMQk2AFyFqWFMtSM/NGDIwiYG7ErpHSSDFGyWp2PeKkO0LYVIVU7qEcqM6hDyT3IICnthdq/OMq\n",
       "L+Qdr82q7sPquTNqLcR6qyBohMvLEFfDoySTCHbkkQNnSjgNSauhBGIFJ5sTis/wRe2F0W7+bunI\n",
       "lSWlsB9OO4d9pyhty7aSTdfztQaYNsSQZVk66VYxxtEzK/Qp1ukTQq7umKtTSIGSp46F7Y6ACOrs\n",
       "RY/oPMst6CtdtvyVmvuJPlPWZKTpYsoaQcwjhDBV6j/IS+U1+w5Q0et7wCa8fGSHIT0iovVC6Fb0\n",
       "6yHiRog0+z3pK9eq14pBGDYDt1YClYSKi2JvdjPzAdF1zcuJ/XunBNHULRWI6PNir6B2Uu0TCfo8\n",
       "5xyJ4NgVxF158OoOEkvJCZhxcxkC5/4O2O+RnqTLLs+NP3Y8IYFFvHWDWLh9tugZ3WQBw6ZjDNCP\n",
       "S1EXiJdg/+o+p/lqonJEXD6AAQyedoH4CRyqNx6vtjpDPNecP9Zux6lFenAl2vzdkzCZC4bhGCjs\n",
       "DjlOxYkl0i/DOO4JkXKjfcD64777m5+bFXtCP9yav7AbJrzvlnz3RJe6ZohPs203fbhxv6WBn/j6\n",
       "V0/7/gMAH8p5h8O+FQAAAABJRU5ErkJggg==\n",
       "\" style=\"display:inline;vertical-align:middle;\" /></a><br>"
      ],
      "text/plain": [
       "the_expr_01: e^{-((2 * pi * i * k * (b MOD_ADD l)) / 2^{t})} * e^{2 * pi * i * phase * k}"
      ]
     },
     "execution_count": 15,
     "metadata": {},
     "output_type": "execute_result"
    }
   ],
   "source": [
    "the_expr_01 = alpha_l_summation.instance_expr"
   ]
  },
  {
   "cell_type": "code",
   "execution_count": 16,
   "metadata": {},
   "outputs": [
    {
     "data": {
      "text/html": [
       "<span style=\"font-size:20px;\"><a class=\"ProveItLink\" href=\"../../../__pv_it/theorems/8bc9b38cf75c7371ab646fd064ad09fc02345f250/expr.ipynb\"><img src=\"data:image/png;base64,iVBORw0KGgoAAAANSUhEUgAAANYAAAAYBAMAAAB0Lx7ZAAAAMFBMVEX///+qqqq6urru7u4QEBBE\n",
       "RERUVFTc3NyIiIgyMjJmZmaYmJjMzMwiIiJ2dnYAAACPW0xlAAAAAXRSTlMAQObYZgAAAAlwSFlz\n",
       "AAAOxAAADsQBlSsOGwAAAeBJREFUSMdjYCAMOAugDOadDMQD8nTZwxgnemmuSxLOkqW6LiMFFG7d\n",
       "zTdk2IWmq7AAqyqOSQaoAhPJ8heqLp5UkKFv/6ApkkeyqmplDAPDZzx28VzGYg02XawJQIL7A5rK\n",
       "twgmewDDewUmBwaeUCAIx2KX2crPmFZh1cV3AUhwTcBtF1sBA4sDR4INhr+YNsACHItdWHWB7eJt\n",
       "gIi03r07Ad0uls8MbN+5Gh5j2MXYgMcurLrAdtUfAAtoNmPz1wUGtj88qw/A0tb8F8TYhVUX2K79\n",
       "kDCejC0MQd7+gC2R4bULqy6wXamoJQoDw0oUNecbyLELUxeHA5DwgNiFSEXeKGquMZBjF6Yu9o/A\n",
       "DPIdzDxyFwgCQGKZwFKDeS6IexcY4lwBmAZx3b17xffu3QTcdmHTZTYR4jcGBlO42KlgZBXbGMjx\n",
       "FzZdLxWA+RlcTPAiBMOQzXzAUE66Xdh0MQIV8m94ANbTgDUdnmNgaCbdLmy6+IDhx6/cgFZUIpdR\n",
       "t1atuoDXLj5IdDP/hBG4dIHSPPc6aNQFGWDaxfv///8J+OxiS/mZDWbcghM4dPEh264Xi1lG4QSM\n",
       "DQwkAj6s4UOMXfCyl0K7WhhoAbiwxkW9AC3sMsEaEuzLaGBZXSIDAwB4aaUFdo5x/QAAAABJRU5E\n",
       "rkJggg==\n",
       "\" style=\"display:inline;vertical-align:middle;\" /></a> <a class=\"ProveItLink\" href=\"../../../__pv_it/_proof__alpha_l_summed/3d1609596d378bb099251a772730234edf3b52410/proof.ipynb\" style=\"text-decoration: none\">&nbsp;&#x22A2;&nbsp;&nbsp;</a><a class=\"ProveItLink\" href=\"../../../__pv_it/_proof__alpha_l_summed/6d1627cf39d270048a7d4ac3c4202c01c7e4b9860/expr.ipynb\"><img src=\"data:image/png;base64,iVBORw0KGgoAAAANSUhEUgAAAMQAAAAYBAMAAABXdE8MAAAAMFBMVEX////MzMxUVFRERES6uroi\n",
       "IiIQEBCYmJhmZmYyMjLu7u52dnaqqqqIiIjc3NwAAACW8nlqAAAAAXRSTlMAQObYZgAAAAlwSFlz\n",
       "AAAOxAAADsQBlSsOGwAAAtFJREFUSMe1lUFoE0EUht8m2WS7yW5yUQQRowVF6iGKehCUPXhRkQYh\n",
       "UKWHHISehOBJ8GDpJY2CBlGE0kNMtQg9ZBUKmhDMoZciYkDwUFRyEYSKbU+SWhPfm90k685ssMEO\n",
       "JLs7b3a+ef/88xbgf7WhBux0K+04AZb7xBr/2vvU6DPL6pUXgt7vbBqtJnzlEtejPSz0y2JW1CkN\n",
       "0ztvQT2VdEUWN0DLuIe/x9Hh6j3BRN9yxwA2uemv4p8/DqDm0QyTrmhoHWDG/coiW+ozXkE9AW+M\n",
       "QNrVW8wRNIyrV3C1UVsrbepgmd0oyL0pQISSEE5wCF8Dgmkt/sQtbAcRxOuoJbJUlowFtqVyHQO2\n",
       "8h9SqXwHgWlHOEEguAm+llIveyGWbQmw7QPJgCW6W4uhetZmnF9xZBGdBGmLzyIJvg0pG/NC3MXr\n",
       "g89Hqc8kRJgWf5uCcabzjFOoEiJ+ipwjr/N9XcRj3PFmoYSbqDUIoZoYGKYtz7vKQg6zw1X8FiH2\n",
       "1z0QGrpgHEjeIA7xASGA3HUdfxFmkaGebyYsxC8R4jJ4IHTU9RrzTxTX7q9UXo1UKugYqUWbz3Lf\n",
       "ncJGJtKPIL5kQkCUhdKxmfqIxqdiXQQUZwkhmzCKtlW6WVB2YBl9rjvNntNsuyNbAsQN8MoCXhsk\n",
       "FB6L+wUnwh/Hxwg78nLvleMYSECINy1ETPjhgSCPn0FETJ0gZWqECGA+0QzqFmLJa/W/jl6anUp3\n",
       "2wuw4uUo1OIl7nPGzypImRALeBO9gBMrpqu60ekZh3mms9qkL4RN08emp5M8ItyyTbsLx49krU1r\n",
       "SIZ+h/xKh0W2SnfxRMGBeF49YD2M0Qi7tMntdpvPzXeoedhCyI5DeevcUrX78NW+XjzZKyDbb4QI\n",
       "Oaqs+u5T75OQFVXagRBwVhzTuYr6cRAEc8ecOObnvgtrtQEQ81RM9bow9oXPa2r7jFWsr38AP6+7\n",
       "Gf5euW0AAAAASUVORK5CYII=\n",
       "\" style=\"display:inline;vertical-align:middle;\" /></a></span>"
      ],
      "text/plain": [
       "{l in {-2^{t - 1} + 1 .. 2^{t - 1}}} |- (b MOD_ADD l) in {0 .. 2^{t} - 1}"
      ]
     },
     "execution_count": 16,
     "metadata": {},
     "output_type": "execute_result"
    }
   ],
   "source": [
    "_mod_add_closure.instantiate({a: _b, b: l})"
   ]
  },
  {
   "cell_type": "markdown",
   "metadata": {},
   "source": [
    "Explicitly acknowledge some conditions proven or previously established\n",
    "that we need to rewrite the exponent as desired:"
   ]
  },
  {
   "cell_type": "code",
   "execution_count": 17,
   "metadata": {},
   "outputs": [
    {
     "data": {
      "text/html": [
       "<span style=\"font-size:20px;\"> <a class=\"ProveItLink\" href=\"../_best_is_int/thm_proof.ipynb\" style=\"text-decoration: none\">&nbsp;&#x22A2;&nbsp;&nbsp;</a><a class=\"ProveItLink\" href=\"../../../__pv_it/theorems/744c4f31e952eb145ce5d1e944507fb283c7f75e0/expr.ipynb\"><img src=\"data:image/png;base64,iVBORw0KGgoAAAANSUhEUgAAADAAAAAQBAMAAACigOGCAAAAMFBMVEX///+YmJjMzMzc3NyIiIhU\n",
       "VFR2dna6urqqqqpmZmYyMjIiIiIQEBBERETu7u4AAAD7tRWPAAAAAXRSTlMAQObYZgAAAAlwSFlz\n",
       "AAAOxAAADsQBlSsOGwAAAOpJREFUGNNjYEAHHGv+rN19R4CB784GVAmWqwoMC7iADK4JqBKcExhY\n",
       "BDKADP4GVAlWA4a3fBeAjPoHUCNu794FovkYGCaxKgAZ2RBx9iUPYHqYAjRB1FKXCBBlBRdn4H1w\n",
       "D6Tz14P3BkB6McKWNkYHkLP/MfCA6AUICbBjGTgXMPAnAM09vXv37r0QVzSkMzA8YOBOYKgHOhjs\n",
       "QAh4ywxkB4O8MR9kL8L/QUCf8H1g4FfgOwjiusAdO6ES6MsNDKwCvOAw4WqAO3YdA/ONCwx8YRPB\n",
       "fL7YOohEza2zd8+fTUA4kj0XEiRQAABokT0f5e0fIgAAAABJRU5ErkJggg==\n",
       "\" style=\"display:inline;vertical-align:middle;\" /></a></span>"
      ],
      "text/plain": [
       "|- b in Integer"
      ]
     },
     "execution_count": 17,
     "metadata": {},
     "output_type": "execute_result"
    }
   ],
   "source": [
    "_best_is_int"
   ]
  },
  {
   "cell_type": "code",
   "execution_count": 18,
   "metadata": {},
   "outputs": [
    {
     "data": {
      "text/html": [
       "<span style=\"font-size:20px;\"> <a class=\"ProveItLink\" href=\"../_two_pow_t_is_nat_pos/thm_proof.ipynb\" style=\"text-decoration: none\">&nbsp;&#x22A2;&nbsp;&nbsp;</a><a class=\"ProveItLink\" href=\"../../../__pv_it/theorems/a2ce7dd1709eee58d9638162058f196f35f493ea0/expr.ipynb\"><img src=\"data:image/png;base64,iVBORw0KGgoAAAANSUhEUgAAAEUAAAAUBAMAAAApce1IAAAAMFBMVEX///+qqqqYmJiIiIgiIiLu\n",
       "7u4QEBBUVFS6urp2dnbMzMxEREQyMjJmZmbc3NwAAADzFso2AAAAAXRSTlMAQObYZgAAAAlwSFlz\n",
       "AAAOxAAADsQBlSsOGwAAASBJREFUKM9jYACDcwwEAesHXDK8cBbjAVxquGEMviknFxBSw8AjgCoT\n",
       "8ntPAMO0bw1QNXx3Ty9g4A9A076RowDiSLCa1wycPxja0K0oeTCJgSGB4fbubbt3KzDUMTCkMZiz\n",
       "ormncAPPAwYHmDn5AQz1Dy5zQixj3uLiA2bUKfMdQKgpYWCoX7BWCyzDcRjmrjr2BZYINUDgD7Ph\n",
       "DdzpdQwbuBuQ1HB9hskgYqSOYS2rqwMinFkKYDIHkNQwCUgnIPxwG8bgSnFxcfGGqmEoZUeoYYIb\n",
       "w7oByRyGcFYHOFeSge8BlOmArIbLAK6FawIDM8w7xnA1u4DYCq7myd27VzCj9iDIS3Av+P///wfu\n",
       "oOpWCGPNN6AZrNgTFcdsaFygAACJZEjHST5yjwAAAABJRU5ErkJggg==\n",
       "\" style=\"display:inline;vertical-align:middle;\" /></a></span>"
      ],
      "text/plain": [
       "|- 2^{t} in NaturalPos"
      ]
     },
     "execution_count": 18,
     "metadata": {},
     "output_type": "execute_result"
    }
   ],
   "source": [
    "_two_pow_t_is_nat_pos"
   ]
  },
  {
   "cell_type": "code",
   "execution_count": 19,
   "metadata": {},
   "outputs": [
    {
     "data": {
      "text/html": [
       "<span style=\"font-size:20px;\"> <a class=\"ProveItLink\" href=\"../_phase_is_real/thm_proof.ipynb\" style=\"text-decoration: none\">&nbsp;&#x22A2;&nbsp;&nbsp;</a><a class=\"ProveItLink\" href=\"../../../__pv_it/theorems/6f97b342dd38550cb8024855d13745b7ac6dd4990/expr.ipynb\"><img src=\"data:image/png;base64,iVBORw0KGgoAAAANSUhEUgAAADUAAAAUBAMAAADfOGjQAAAAMFBMVEX////c3NwQEBAiIiKIiIiq\n",
       "qqp2dnZUVFSYmJhmZmbu7u5EREQyMjK6urrMzMwAAACjE6D8AAAAAXRSTlMAQObYZgAAAAlwSFlz\n",
       "AAAOxAAADsQBlSsOGwAAAOtJREFUKM9jYMAEPdr7D2s3MGAHG8QZrncvwCEnxsDNV4BTjlPgAIoQ\n",
       "y2ZjG4TcBmQp3iMLEPrYVwHN5HvAwHt+F0hEZgGSma9jBBgYOBkY3vSWgUQOIuwTOvzZC0jHMTAU\n",
       "MHCDRA4guaVjDYhOYOBYANLMwKdsbGxsDZXjXgHyuwMDCwPDEiCDawOSPr4JICdMYLjHwDALJGKA\n",
       "7L950kB6BlB2+QOQiAuy3GoWoKE8R8512oJFeALgcpIMHA17gYzm/2YQEa7qW/B42Miw+zxQKSc8\n",
       "NnizoWEGB0wPGHCC97ilGJzxyMnhlAEAyX09Ck76UOIAAAAASUVORK5CYII=\n",
       "\" style=\"display:inline;vertical-align:middle;\" /></a></span>"
      ],
      "text/plain": [
       "|- phase in Real"
      ]
     },
     "execution_count": 19,
     "metadata": {},
     "output_type": "execute_result"
    }
   ],
   "source": [
    "_phase_is_real"
   ]
  },
  {
   "cell_type": "markdown",
   "metadata": {},
   "source": [
    "Now we can begin to rewrite, first extracting the common exponent $k$:"
   ]
  },
  {
   "cell_type": "code",
   "execution_count": 20,
   "metadata": {},
   "outputs": [
    {
     "data": {
      "text/html": [
       "<strong id=\"the_expr_02\">the_expr_02:</strong> <span style=\"font-size:20px;\"><a class=\"ProveItLink\" href=\"../../../__pv_it/theorems/df30aba3a535ce7eb8609d1347296ba1cd1680060/expr.ipynb\"><img src=\"data:image/png;base64,iVBORw0KGgoAAAANSUhEUgAAAJcAAAAYBAMAAAAFV3JHAAAAMFBMVEX///+IiIjMzMzc3NyYmJhU\n",
       "VFR2dna6urqqqqpmZmYyMjIiIiIQEBBERETu7u4AAAAsfX+gAAAAAXRSTlMAQObYZgAAAAlwSFlz\n",
       "AAAOxAAADsQBlSsOGwAAAd5JREFUOMtjYCAdLGagHuD7QEXDOBaQpv55AW455uxlClhEm3GpZ1z+\n",
       "AI9NXA3YRFXvgULgzgYMiX6gWWyJk7HYP3OtAgM/hk3aIJGrYIsmYOjJBuIVDK8NMCRsGdi+M9Sg\n",
       "R0jk+gdQTQz8DdgMY9nAwHYBQyKYgeEMgygfepjJww2rh7ma8fbuXXDDeAMYOP5hGHb+AUO8wUS2\n",
       "BzgNy4GKsC98gOQy/gkMTD8wDItmYIhX0HRiwGnYUoa2eSDa6gGyN98DDfuCLdb2YxGDG8b3haP5\n",
       "CFommcXAYJ/AwPQRiz6sgmDDZEDp+XMFE9gcRLpmPgIx7BsWfdwBuAyzB0Yk5xFI3DCd3r17916w\n",
       "WVHA9P8+gYEdmyPmwhivdoPAJoRhfFENDNwrJ0FSCyIhaN4DRwAHZgQwsGBzGMQwtuVAJzTUQ5yG\n",
       "lBGAiZn3AgMLZtJgaGNgNsBhGCjb+D943yAAEhFETbQHGDgxSwemBAbGBzgMAyWxKIb3Cglo+RcU\n",
       "yzsY3oBd/H4BjAAC65kzZ2PxZr4BVNMNBsaJYMv4YuuQDXuZGASJvgkwApTI/v//hWlW6PmlDtBE\n",
       "CwfsuUjZiXSQTaI4WYbJkGPYLBzi9g1kVDNHcBXzU0k2jTkVqAUAoEWJuwmnY2MAAAAASUVORK5C\n",
       "YII=\n",
       "\" style=\"display:inline;vertical-align:middle;\" /></a>, <a class=\"ProveItLink\" href=\"../../../__pv_it/theorems/8bc9b38cf75c7371ab646fd064ad09fc02345f250/expr.ipynb\"><img src=\"data:image/png;base64,iVBORw0KGgoAAAANSUhEUgAAANYAAAAYBAMAAAB0Lx7ZAAAAMFBMVEX///+qqqq6urru7u4QEBBE\n",
       "RERUVFTc3NyIiIgyMjJmZmaYmJjMzMwiIiJ2dnYAAACPW0xlAAAAAXRSTlMAQObYZgAAAAlwSFlz\n",
       "AAAOxAAADsQBlSsOGwAAAeBJREFUSMdjYCAMOAugDOadDMQD8nTZwxgnemmuSxLOkqW6LiMFFG7d\n",
       "zTdk2IWmq7AAqyqOSQaoAhPJ8heqLp5UkKFv/6ApkkeyqmplDAPDZzx28VzGYg02XawJQIL7A5rK\n",
       "twgmewDDewUmBwaeUCAIx2KX2crPmFZh1cV3AUhwTcBtF1sBA4sDR4INhr+YNsACHItdWHWB7eJt\n",
       "gIi03r07Ad0uls8MbN+5Gh5j2MXYgMcurLrAdtUfAAtoNmPz1wUGtj88qw/A0tb8F8TYhVUX2K79\n",
       "kDCejC0MQd7+gC2R4bULqy6wXamoJQoDw0oUNecbyLELUxeHA5DwgNiFSEXeKGquMZBjF6Yu9o/A\n",
       "DPIdzDxyFwgCQGKZwFKDeS6IexcY4lwBmAZx3b17xffu3QTcdmHTZTYR4jcGBlO42KlgZBXbGMjx\n",
       "FzZdLxWA+RlcTPAiBMOQzXzAUE66Xdh0MQIV8m94ANbTgDUdnmNgaCbdLmy6+IDhx6/cgFZUIpdR\n",
       "t1atuoDXLj5IdDP/hBG4dIHSPPc6aNQFGWDaxfv///8J+OxiS/mZDWbcghM4dPEh264Xi1lG4QSM\n",
       "DQwkAj6s4UOMXfCyl0K7WhhoAbiwxkW9AC3sMsEaEuzLaGBZXSIDAwB4aaUFdo5x/QAAAABJRU5E\n",
       "rkJggg==\n",
       "\" style=\"display:inline;vertical-align:middle;\" /></a> <a class=\"ProveItLink\" href=\"../../../__pv_it/_proof__alpha_l_summed/a12a562f81b899f11846d6144c03466a2001cbcc0/proof.ipynb\" style=\"text-decoration: none\">&nbsp;&#x22A2;&nbsp;&nbsp;</a><a class=\"ProveItLink\" href=\"../../../__pv_it/_proof__alpha_l_summed/3e50a8b5caefb8575a90decda2f143b35385aa2d0/expr.ipynb\"><img src=\"data:image/png;base64,iVBORw0KGgoAAAANSUhEUgAAAb8AAAArBAMAAAAavZugAAAAMFBMVEX///+IiIi6urrc3NxEREQi\n",
       "IiJ2dnbu7u4QEBDMzMwyMjKYmJhUVFSqqqpmZmYAAAAHKSyHAAAAAXRSTlMAQObYZgAAAAlwSFlz\n",
       "AAAOxAAADsQBlSsOGwAABdhJREFUaN7dmH9oG2UYx5+7S3K5XHKJlE0Rpyk6UFR2sy1qdWtoRZGp\n",
       "ZIhUwdWoqOj+icJKmUqjc8qYQv5wMjdZMwRXKHPnnNLZ/hF1glL/yPCP4cQtiHPOqnQWV93s4vu8\n",
       "yeXX/XpTvfsjF3Lv3Xv33ue+7/M+z/O+B9DG20cxaO8tGG9zgX1trg8OCcvbW+Cna0ZULJWC/X0/\n",
       "0j2f5R+qVAj74dLWUOI+iwtObD67Mls57C1waUbc5vKNLxUkWv7a+MijP9ROduHuBD3cDZAhxdEZ\n",
       "DWAAlBY7c4fFuzmxd0OQ7CNXTAH4VCgy0qRBaoeLZ+iZnGsMPTDadPss3SdAIDdyqjaMSnmtNYFy\n",
       "3rzaiZ2AXrLvkMUUKr2eFTdNH55YKWC5s7FzBdiJfTk+/j4purHm3dUknwgpiOx9Gq4DTdSEBEC+\n",
       "RRPea1rrxCbU48uzfFaG5/E8zErz4cgPx3YE8OS95qv9BMQHAsjrJn+YP5YQIKKBonWDhj85hV1r\n",
       "Z6+soWrEdIw6sQl1VkjIgL+PyXvbqjpc5/OvoUo1jFWRhWa/z0IPwDB5WA+B9ID0T5rs5QKE0tfA\n",
       "xqmZqbxCEmiuKYo8+XWdgmCqXu16+lQzkzuyCXUfnwhMTU9NA3HPkB0UXjX3bX+qCfIUh/vH/OnK\n",
       "MOEeHyTBVoqRx39GLRjzv2iwoAJK0qpnX6ajb97kiiObUHPhONqPg8FCswVtoH1q9XCsaeyESn9i\n",
       "UYjoEEXdiCM6D/wlBVgDmhAPdIDU9GrRuPC3BUuYo8WdJpcc2YTauQKEggw3waMqvMUM9dXe7wij\n",
       "3x6seJf2bLnzmrwuTVk9pVKJ9F0IY6wM0jgtE6uRNmnyzCOM1MOySOfNRTsoTGCdBru246VM9a4L\n",
       "jAK5stE7Z2iC+NZwPUBGi3j6Nhq3qMCr4fZb0VPDHce24KAxSekXGKk85kHislk7KBXIq8LnmECF\n",
       "xWpOnGcNvWnLk0oqF1MidJAsOUwEkrwVgxSkMH+tAHwxvzFLs7DrQaINlIAmCJmDAFC5Q1Uzz+lH\n",
       "b95BNhVKjFuzp90FEjFUYg9JbmpII8cxoQAxUvb9TjteyRmzic6WED0A0Cq1DkrKCULmSJSggeoX\n",
       "/Z5wjsV6axnu6EJi4obqEM1zEMFheYhP4jjj5gxtnNlCkR1Kh2iYDJzv8eSqaspimpJ84Pgmd799\n",
       "Gs0Uu7YqcPod6Sc6p5eSGGQixoDnzJZj7FAqUP4qv4cG0JO6v0bp6QtbbbuKG7Kb9ItfDkGwVEIL\n",
       "hdI0hVGBkQOv0BX1AMwgTFo0NKRsbG25LfuNHVqOosf/6i9nIP2No/gu4tbvXreE3HhlHJJ28kc2\n",
       "TOadzS4aQyZlW7WmSwt/y1Dd5qP6aoBG73AS+izXWhlxTrR1li9AWGCYX5+l+1MP4PZwjW3Vmi4t\n",
       "NrcM9VUsF9UHNzUl6Uqf5fpHlTKRot3qiJhmnVn9YOPpOeNEpmDTmi4tTsitQv3petcj2yr0kzES\n",
       "gFPWa4+4MKuaO8J5dC7S+BxDoLpoqEG2Xet+WPuhSfVojgEaLdb34tg3XV3WnwPOWD9miEaPrq6b\n",
       "lyQQ2Tatlax5PU4ZHKGNAqN20TiQdvh+epZtJmT0Qcq2bl1eWiwRWpXUh96lkPWhanXrgVLS/lk/\n",
       "p0FgEGiMopRt2bqytFgiNKpHjVFUKj54cNnSP3Nv2t653vkuwZgHKZutdcvQ6tw+SMeq8sje//D9\n",
       "8dR5ht6R/jAmgiJz65ahY3F9ICQ8+gobMaYtN9kn9aCpZDwSGDB6spvsJ6pTmwWPBPqMMys32fdU\n",
       "c/WiRwKjxsmQm+xazL7PI4GrTPKQe2y+9rFg0iOBz5jUuccO1JYHo3FvBL5hNqt0jR0smGl1c+My\n",
       "9v38P2+X1R1v80Rg0PSbwDYvxssnngi83LTWLTZXPzRCmgf6hC3mE2qX2LfUh2zxfg8EbjL/auUS\n",
       "W9zQcNqbdl/gOot6d9hN31+ErOv6RKt84A77udrhv1sk6mPMJ2qjAAAAAElFTkSuQmCC\n",
       "\" style=\"display:inline;vertical-align:middle;\" /></a></span><br>"
      ],
      "text/plain": [
       "the_expr_02: {k in {0 .. 2^{t} - 1}, l in {-2^{t - 1} + 1 .. 2^{t - 1}}} |- (e^{-((2 * pi * i * k * (b MOD_ADD l)) / 2^{t})} * e^{2 * pi * i * phase * k}) = (e^{-((2 * pi * i * (b MOD_ADD l)) / 2^{t})} * e^{2 * pi * i * phase})^{k}"
      ]
     },
     "execution_count": 20,
     "metadata": {},
     "output_type": "execute_result"
    }
   ],
   "source": [
    "the_expr_02 = the_expr_01.inner_expr().common_power_extraction(exp_factor=k)"
   ]
  },
  {
   "cell_type": "markdown",
   "metadata": {},
   "source": [
    "Now we simplify that modular addition piece:"
   ]
  },
  {
   "cell_type": "code",
   "execution_count": 21,
   "metadata": {},
   "outputs": [
    {
     "data": {
      "text/html": [
       "<span style=\"font-size:20px;\"> <a class=\"ProveItLink\" href=\"../../axioms.ipynb#_mod_add_def\" style=\"text-decoration: none\">&nbsp;&#x22A2;&nbsp;&nbsp;</a><a class=\"ProveItLink\" href=\"../../../__pv_it/axioms/dca063a26f7d32fc4e98aed9b851b536a2d568920/expr.ipynb\"><img src=\"data:image/png;base64,iVBORw0KGgoAAAANSUhEUgAAAUUAAAAaBAMAAADS9VP4AAAAMFBMVEX///+IiIgiIiIQEBB2dnbu\n",
       "7u5ERETMzMzc3NwyMjK6urpmZmaYmJiqqqpUVFQAAAB6qHgnAAAAAXRSTlMAQObYZgAAAAlwSFlz\n",
       "AAAOxAAADsQBlSsOGwAABNlJREFUWMPNV11oHFUU/vZndiY7u9mtlipol7BtsVhsY9UqVnArG1Si\n",
       "cUvXgi/diLpaLDi2PihiM1HIk6b70AZBkZG8ScFNiS2aUreolSrUbS3+FMGNBLWgTdpaU4OhnjM/\n",
       "ydzdme3ug+iBO3Nn5n7nfufn3nsG+J/Km22O/wL/NqBBpBmgTHe1xfHxcpsTtA3wUFEChuiu9Lc2\n",
       "/jG+6D4fFT+A0gagcdB9ezXEktQ72hrHHdQCVZ+P0aQ3AMvbADRKB8+3ilowB9T4zQ9Nbeqmy2mv\n",
       "L1vX0+VGb0A80zrAlsAKw4RPjGhIEDWk+CUR/Oiqi0il2aSS56e32OKcF8CKd4sAR/aYHIcQnsMo\n",
       "9wo0UroE7L5qYiYIqVbc9h4512P15qnFyl4AHBbi68C9AQIQvwK3ISVpZA3D3rasClebcRygESHX\n",
       "s9wjG3lTW/QSX+/wAqBbWKV2DvoARI735jCtj4VJicq+O0hWEdeOpul7DbXvXc/PQzZwhnvhLliG\n",
       "NgLiJS+OPgCR40/AtPby5xwwNvRaauvT6dubcjxLbZwzYup6c6oMc2Qz0TGZogj0eQHMnBzeNChy\n",
       "FAAvbRxclnx3mQFp7AYml10yYNga1rnc/j7NdAh4qinHom36qB5hTEBnjhJzKOyTLgPHedCBNMva\n",
       "BQCnUvQuPJcTOLoAJGur8t9GrBs7dTwObKniEZujfN6+z3LmUGIOQ6ktpNqI3enc0Pukk9rvULuF\n",
       "Ftg9UDlUnWCO5kH1Yw63Al/XG8WAIPlrSwUHRD+KgCeAP5nHSpPIdmddE9gmpMzZiz2SCxsL6qeY\n",
       "aKpoBPXwZmeLWEPtboreDILsvEg22zuVzXI6fwj8QfrrOTIgRDo/Bk8PNZ1eQQlVawAU+UmelWmx\n",
       "JzIS+a5gEznoHNrMkV/Gk64lcye1CXJuDK+87nYLcQz1WzrURT+uRJT0j3r5kTlusCZx+VEEEMfz\n",
       "xDFOgxL98iLHmBNXhWO9h+igxEdi/ugDZiKkcgFrLyuXIca6kMRXEDnOQ6UMPVWfj3asyTOxGZGj\n",
       "C7DI0fRj2eXH01Cs6kC+zPnI/Yf3kVdXm8+BVYHyVsuWNzSH48/UKKcLVZyN03i5yhyjvKXOcsrh\n",
       "WL0fGRBJQppHZ+k7gaMIsDliIy1eAyNOPsoZBHLiusZr5Fq1LPNeFKnESvvNz5vDC1PyBtXHs8bX\n",
       "mNVcD3PMc+83PGvvS4IwIFxjw07Z0XA4ioARk+McdmnYSzQMTJshfHViwl5qMeb0ibmGNU4fPrsR\n",
       "0tTa8WKxWEWmB4/aqtiQneTqyfuHrzODrcuG8gH3tvWy0pvrOTJApi1g29IXJzWBowDYffGXby7W\n",
       "HryQUcb7yIHS+JIBM1fWXbnyl33wM6cjjtqCHvmMNCcQqr5gevnbCuwz2Uz/oObi8Ol7Zza5qpyu\n",
       "eo4MwE1e54wPwLdAq7hPpZA+sD+Xp2LtGO1FHCoV0S5XGSPUAdLJ5a7SRSg3FuueLz1rCm+Anzh1\n",
       "j63k8MmHsKsqjyWhPE3PJ84t3e7sAGamPuOraKjhjZXaeusAPznh3ohsscqffLFoCK9/5+rUV5EH\n",
       "ewZI/W0AfGQ1b2KirdGc//+M4lfhB3Sf/5nBNgDe4vU/E/P7R8u0+1PXLsA/KVr9L/wv/q9ZeH9T\n",
       "Kbb/AOl5WCB43t9kAAAAAElFTkSuQmCC\n",
       "\" style=\"display:inline;vertical-align:middle;\" /></a></span>"
      ],
      "text/plain": [
       "|- forall_{a, b in Integer} ((a MOD_ADD b) = ((a + b) mod 2^{t}))"
      ]
     },
     "execution_count": 21,
     "metadata": {},
     "output_type": "execute_result"
    }
   ],
   "source": [
    "_mod_add_def"
   ]
  },
  {
   "cell_type": "code",
   "execution_count": 22,
   "metadata": {},
   "outputs": [
    {
     "data": {
      "text/html": [
       "<strong id=\"mod_add_def_inst\">mod_add_def_inst:</strong> <span style=\"font-size:20px;\"><a class=\"ProveItLink\" href=\"../../../__pv_it/theorems/8bc9b38cf75c7371ab646fd064ad09fc02345f250/expr.ipynb\"><img src=\"data:image/png;base64,iVBORw0KGgoAAAANSUhEUgAAANYAAAAYBAMAAAB0Lx7ZAAAAMFBMVEX///+qqqq6urru7u4QEBBE\n",
       "RERUVFTc3NyIiIgyMjJmZmaYmJjMzMwiIiJ2dnYAAACPW0xlAAAAAXRSTlMAQObYZgAAAAlwSFlz\n",
       "AAAOxAAADsQBlSsOGwAAAeBJREFUSMdjYCAMOAugDOadDMQD8nTZwxgnemmuSxLOkqW6LiMFFG7d\n",
       "zTdk2IWmq7AAqyqOSQaoAhPJ8heqLp5UkKFv/6ApkkeyqmplDAPDZzx28VzGYg02XawJQIL7A5rK\n",
       "twgmewDDewUmBwaeUCAIx2KX2crPmFZh1cV3AUhwTcBtF1sBA4sDR4INhr+YNsACHItdWHWB7eJt\n",
       "gIi03r07Ad0uls8MbN+5Gh5j2MXYgMcurLrAdtUfAAtoNmPz1wUGtj88qw/A0tb8F8TYhVUX2K79\n",
       "kDCejC0MQd7+gC2R4bULqy6wXamoJQoDw0oUNecbyLELUxeHA5DwgNiFSEXeKGquMZBjF6Yu9o/A\n",
       "DPIdzDxyFwgCQGKZwFKDeS6IexcY4lwBmAZx3b17xffu3QTcdmHTZTYR4jcGBlO42KlgZBXbGMjx\n",
       "FzZdLxWA+RlcTPAiBMOQzXzAUE66Xdh0MQIV8m94ANbTgDUdnmNgaCbdLmy6+IDhx6/cgFZUIpdR\n",
       "t1atuoDXLj5IdDP/hBG4dIHSPPc6aNQFGWDaxfv///8J+OxiS/mZDWbcghM4dPEh264Xi1lG4QSM\n",
       "DQwkAj6s4UOMXfCyl0K7WhhoAbiwxkW9AC3sMsEaEuzLaGBZXSIDAwB4aaUFdo5x/QAAAABJRU5E\n",
       "rkJggg==\n",
       "\" style=\"display:inline;vertical-align:middle;\" /></a> <a class=\"ProveItLink\" href=\"../../../__pv_it/_proof__alpha_l_summed/d3e620a471b0df61448163c8dcc3e5c79790e3ea0/proof.ipynb\" style=\"text-decoration: none\">&nbsp;&#x22A2;&nbsp;&nbsp;</a><a class=\"ProveItLink\" href=\"../../../__pv_it/_proof__alpha_l_summed/adef6e0ea8d34857cd0e046979d4d286a48e06550/expr.ipynb\"><img src=\"data:image/png;base64,iVBORw0KGgoAAAANSUhEUgAAAOcAAAAaBAMAAAC+1lbUAAAAMFBMVEX////MzMxUVFRERES6uroi\n",
       "IiIQEBCYmJhmZmYyMjLu7u52dnaqqqqIiIjc3NwAAACW8nlqAAAAAXRSTlMAQObYZgAAAAlwSFlz\n",
       "AAAOxAAADsQBlSsOGwAAA3BJREFUSMe9ll1IFFEUx/+z3866HwQGEbFbPYU9bAX2VMxDT4EowoZR\n",
       "0T4Y+VAgESGEJEaoSST2EFQPG70UEk6CUC7SQr5EBCuiRFTsSxBE6dKqZKWdMzvjfN2FNqMDM/fO\n",
       "3N+9/3vOPffOAP/T6op/0eniJkXHgFCtfep7Nyn6EoimtJrYZdHbR7XhLvt8/AnQw7VIXgg0C94d\n",
       "rA132z26/Fm6vYLc1OponCgh0uXqEs1UwcOn4wJct7kOrfg0uA9Y5VknAXmYksq5VsFF4I6re0it\n",
       "guOKCDemWtbuKTxXfDxrmZRDNMWYHrJI367JyvA0dLere0yx4/AZ7g2KcMM0UU8RgUwkeZ+qt4EA\n",
       "FS1ZrVWalJRRhWv+AjVknb0TWRtO2VzQK6dEuE00sArPWqjAPl3VshgTldYdkBRMc20hTkF0rdIc\n",
       "bLgpGi2JcLunrfCUpH4aF/PAEBUj7/dyg8qi4WxljRBOOnvvgQ03RTkFDHxb55fZQvOsAvnGG4pa\n",
       "eGqmrHf3L1ZKChRFWP6eHaN9FimyqEzZgt080jAT19JsbRp9oLIgOm4R9aQMnKwtL60owQwaijgE\n",
       "+RzChmhCpxNxnKS+qwjQCw9YFJya53nEjNPTEbpM3CLKjxt4E/ANUgkneHjvsJ69PBu9XFDQoeVq\n",
       "jPzz5nJPG3M5mrW0xmm16BRtp8vEQ+n0sTPpNEc1UbTgFI8fJCr9pDRXxwqQddFQyjiANVG/ipa8\n",
       "dhTrnkZ41j6hpyZu8XTeipPoLxKtJ61YKmGKXjCGWdDCS/vuZtYq6k3SY32rc0318Oq4RXS/bOCm\n",
       "qOZpr+lpvYqv+pryYiMWl89yPPMs6iMnYl0UvmDK6Smnl4lbRFfCFlwXRSflqVKXMtZ0O/B2I3vH\n",
       "KYO6vNrBNsmio3z0HC1UDj27cRQtuClafmzBb2miZWyN4y6iHfCsaFu5fWBAj8UloIH2QGN/ZamL\n",
       "khK9zruFd6NfcYrySWTBTdFu1cS3LO98sZx8tqRGh8bp1cOpmSXONf/6+rq+qfroKW6OevnI9NTG\n",
       "w0fX0RJQ7Lh5DArxakZbPWj5ZMiv35knaL/wK2PFzQNfiFcx/srgcJUvkiuPIGVqwqtYkKP9QNzm\n",
       "FfyA7K0NF5ufyWhB2Pahyj9SDbjYemr9G1Q3/+v75+vwr/57ORspVX8DDukCYbP9cDgAAAAASUVO\n",
       "RK5CYII=\n",
       "\" style=\"display:inline;vertical-align:middle;\" /></a></span><br>"
      ],
      "text/plain": [
       "mod_add_def_inst: {l in {-2^{t - 1} + 1 .. 2^{t - 1}}} |- (b MOD_ADD l) = ((b + l) mod 2^{t})"
      ]
     },
     "execution_count": 22,
     "metadata": {},
     "output_type": "execute_result"
    }
   ],
   "source": [
    "mod_add_def_inst = _mod_add_def.instantiate({a: _b, b: l})"
   ]
  },
  {
   "cell_type": "code",
   "execution_count": 23,
   "metadata": {},
   "outputs": [
    {
     "data": {
      "text/html": [
       "<strong id=\"the_expr_03\">the_expr_03:</strong> <span style=\"font-size:20px;\"><a class=\"ProveItLink\" href=\"../../../__pv_it/theorems/df30aba3a535ce7eb8609d1347296ba1cd1680060/expr.ipynb\"><img src=\"data:image/png;base64,iVBORw0KGgoAAAANSUhEUgAAAJcAAAAYBAMAAAAFV3JHAAAAMFBMVEX///+IiIjMzMzc3NyYmJhU\n",
       "VFR2dna6urqqqqpmZmYyMjIiIiIQEBBERETu7u4AAAAsfX+gAAAAAXRSTlMAQObYZgAAAAlwSFlz\n",
       "AAAOxAAADsQBlSsOGwAAAd5JREFUOMtjYCAdLGagHuD7QEXDOBaQpv55AW455uxlClhEm3GpZ1z+\n",
       "AI9NXA3YRFXvgULgzgYMiX6gWWyJk7HYP3OtAgM/hk3aIJGrYIsmYOjJBuIVDK8NMCRsGdi+M9Sg\n",
       "R0jk+gdQTQz8DdgMY9nAwHYBQyKYgeEMgygfepjJww2rh7ma8fbuXXDDeAMYOP5hGHb+AUO8wUS2\n",
       "BzgNy4GKsC98gOQy/gkMTD8wDItmYIhX0HRiwGnYUoa2eSDa6gGyN98DDfuCLdb2YxGDG8b3haP5\n",
       "CFommcXAYJ/AwPQRiz6sgmDDZEDp+XMFE9gcRLpmPgIx7BsWfdwBuAyzB0Yk5xFI3DCd3r17916w\n",
       "WVHA9P8+gYEdmyPmwhivdoPAJoRhfFENDNwrJ0FSCyIhaN4DRwAHZgQwsGBzGMQwtuVAJzTUQ5yG\n",
       "lBGAiZn3AgMLZtJgaGNgNsBhGCjb+D943yAAEhFETbQHGDgxSwemBAbGBzgMAyWxKIb3Cglo+RcU\n",
       "yzsY3oBd/H4BjAAC65kzZ2PxZr4BVNMNBsaJYMv4YuuQDXuZGASJvgkwApTI/v//hWlW6PmlDtBE\n",
       "CwfsuUjZiXSQTaI4WYbJkGPYLBzi9g1kVDNHcBXzU0k2jTkVqAUAoEWJuwmnY2MAAAAASUVORK5C\n",
       "YII=\n",
       "\" style=\"display:inline;vertical-align:middle;\" /></a>, <a class=\"ProveItLink\" href=\"../../../__pv_it/theorems/8bc9b38cf75c7371ab646fd064ad09fc02345f250/expr.ipynb\"><img src=\"data:image/png;base64,iVBORw0KGgoAAAANSUhEUgAAANYAAAAYBAMAAAB0Lx7ZAAAAMFBMVEX///+qqqq6urru7u4QEBBE\n",
       "RERUVFTc3NyIiIgyMjJmZmaYmJjMzMwiIiJ2dnYAAACPW0xlAAAAAXRSTlMAQObYZgAAAAlwSFlz\n",
       "AAAOxAAADsQBlSsOGwAAAeBJREFUSMdjYCAMOAugDOadDMQD8nTZwxgnemmuSxLOkqW6LiMFFG7d\n",
       "zTdk2IWmq7AAqyqOSQaoAhPJ8heqLp5UkKFv/6ApkkeyqmplDAPDZzx28VzGYg02XawJQIL7A5rK\n",
       "twgmewDDewUmBwaeUCAIx2KX2crPmFZh1cV3AUhwTcBtF1sBA4sDR4INhr+YNsACHItdWHWB7eJt\n",
       "gIi03r07Ad0uls8MbN+5Gh5j2MXYgMcurLrAdtUfAAtoNmPz1wUGtj88qw/A0tb8F8TYhVUX2K79\n",
       "kDCejC0MQd7+gC2R4bULqy6wXamoJQoDw0oUNecbyLELUxeHA5DwgNiFSEXeKGquMZBjF6Yu9o/A\n",
       "DPIdzDxyFwgCQGKZwFKDeS6IexcY4lwBmAZx3b17xffu3QTcdmHTZTYR4jcGBlO42KlgZBXbGMjx\n",
       "FzZdLxWA+RlcTPAiBMOQzXzAUE66Xdh0MQIV8m94ANbTgDUdnmNgaCbdLmy6+IDhx6/cgFZUIpdR\n",
       "t1atuoDXLj5IdDP/hBG4dIHSPPc6aNQFGWDaxfv///8J+OxiS/mZDWbcghM4dPEh264Xi1lG4QSM\n",
       "DQwkAj6s4UOMXfCyl0K7WhhoAbiwxkW9AC3sMsEaEuzLaGBZXSIDAwB4aaUFdo5x/QAAAABJRU5E\n",
       "rkJggg==\n",
       "\" style=\"display:inline;vertical-align:middle;\" /></a> <a class=\"ProveItLink\" href=\"../../../__pv_it/_proof__alpha_l_summed/11962f4d680f51c657bb86d22b6030bbdc485ab50/proof.ipynb\" style=\"text-decoration: none\">&nbsp;&#x22A2;&nbsp;&nbsp;</a><a class=\"ProveItLink\" href=\"../../../__pv_it/_proof__alpha_l_summed/3ab98b126b42e1d8c3bce3c91f6a7eea087d778d0/expr.ipynb\"><img src=\"data:image/png;base64,iVBORw0KGgoAAAANSUhEUgAAAgcAAAA3BAMAAABqavSMAAAAMFBMVEX///+IiIi6urrc3NxEREQi\n",
       "IiJ2dnbu7u4QEBDMzMwyMjKYmJhUVFSqqqpmZmYAAAAHKSyHAAAAAXRSTlMAQObYZgAAAAlwSFlz\n",
       "AAAOxAAADsQBlSsOGwAAB6NJREFUaN7tW39sE1Uc//auvdv12q5mARMjWqIYoxKK24JOYRdQkfgj\n",
       "JYYMjI6qUVSIuURYCKKrAhJBY02EDDBbiQkjIUpBVJAl1F+I0T9K+IMIkUwUkUwJbMocv+p799pr\n",
       "7/crP+6WuO/S693rvfu+7+d9vj/eawfwP5dPozAiNbERDKB5BAKAHezoERC+nLw47v0oZlyxJ7G9\n",
       "9Pfy04snr+cF7zEIZR1uOED9KDEKPuqb18gEuIsnhgEd9zpZRh+9R/0FQE2GcII8XhrHeo6BmHG4\n",
       "YSkAk2bmlBj/EVyrt2Zl6SyAXrdQa15AiBhdw3kOwl26qDT+hvLMr8eHowAbAFL4NIle0yCif0Q3\n",
       "PjD7j8IS9B6UaTUHFD/0x0O7PAdhpu46xZ/SNiDWSsAqfMFUTwGTNQOhBtrhiAjA5an9YaXmMuLQ\n",
       "8TflyKTHpYsNTXmfXJ2tfLeFN6R0DXEBt9y2ahWyuAHzPwNsEsIbXyAgsBJADp0u7OsZPx/e25+G\n",
       "tYcVY1jogCmfINPoM8THmqs/NVeYWFpGHlFONyC0kZLrd2MO0QcgbTA2FK1JfYs/BnGIJZPIrAb0\n",
       "YiQIZyGSbSAgiElMDDTIjD/fxGcQCxLQQjpOJaOXqIc0IW4dmzCxtNKnHCVoQsc6kU9iNG6vNgDm\n",
       "TJtvNGBzAtgE8EkJGhEIjRDOgZhHnn4zvHSy9WQsgiIGHi6T86eXIIOnChniDhAhNBXoQQhWDqlD\n",
       "OxBMLKRl82ZMFzwB8OFEtNJCpDw0Os2kRXgFt4aqdf5HTFuf0DdwMl7VcbGWonJklBCFIHxFmBB4\n",
       "tciEXgQCj1lQYsI8UiJU4Q7hwYqLTfpPp2IachwUGQkDByUWk7KPlUTAf58h1trPe9rQtNjMH4Qh\n",
       "fcvWAs7fYThYmoEEDgLMNXkCAlcHAvagpXPG9T6fH7sthmJCqzKthX+U/j77lXFlJuBPWwBSJFYj\n",
       "QBsykzBSOC+jIyJlNyNxu3t29+C0FdR1alvwnZWri0oGiJj5QyjlOF/TALYXT8kkR2xv9+tSLv/c\n",
       "j5Xov1n52f0V+VIfmwixng7IxcnwPdOCnoxImQnFMA980JI3MKEXjlkO7A3FywbM4mLOEQRU/fiK\n",
       "hpGB/mR7+0L9jEIkYXXvnjJgXTqeFomVD5dAiMTnYzLmYOwYYPMi3AlPxWGt7oH90Jy2WteQzP+A\n",
       "yUddWUcQImikmhHaJ+dfdde1MXbI6t72svZvKOMIIeUukY+WqVmWzxUQ2LmFAp7xIH68CMJm5V2a\n",
       "iOdwp1lyoFjFzqsqCelXGqKsgNBYKBSwri24LQvrV+t4eI7y+YSUDK4TUCAxTvuz6PXay1mFswoI\n",
       "N8G9d+N0Fqo7uAxv4ZiUZA/S1FlVFWXGJg65A3/8HrJCwCAwcfZrpf7xq44iDNAqkG2VCS3QBrJv\n",
       "EgKhDYGAqokocuIkrirGAIYsYJK8lrtQmK+R+SQPdW1o0EkEQhuKaRwokHBqhS6WzoT7kKBYXKAU\n",
       "na4GGTri4BeQqR3xYFZYBlE2D1H03nxSoU3EuF7kL6qn72PtcagtXLbo1h7sdEBjAKkT8PsWNDgf\n",
       "TCb7DmK/mqUyNHBOcd7VYbG7NDA51R1yPghjF9jBJPBHvlNG9py+uttHZOT1uJd0h+oOIcTRn7Xq\n",
       "KbIUkm1ONzSs68Tu8guTUkHo+UD4XdnFExI4UISNUTp84RI2IKr7noCdse44pmH0VhUE8ftcZ1JL\n",
       "xFp8ze9rtQ+KrXYLzaUreuFd4h/dpIhVQAhvXR4j5c4P2B8Eo8XikNq/qu0j2iiJrKoh/hGUlbKH\n",
       "ZIdD/5LFFpxXQcDjXfzkTmtC4H2OhJ2uFYffpqAPb0xDvgHb/gbBC9wAPV5WVqlk+rvUomSub4Ed\n",
       "tHxWij/F2wWOUAKaZYo1E/HAY7OwkIUTN2jb31hgogXuEnoQrKzyl2i9Si3a8qRWeMjyWXEhFe61\n",
       "Ke0Ql/ymH7doL88Yq8FB2/5GB0cLXLx9RClWVgVKkM9StxaQ3woos5yxWZTE2D7z0o4/i2FEvZMU\n",
       "Y7po5JCSMGj7kwUu3j5yjgZ4XA5WIZldyQThQn39JOt7bXbmcTztOlBfL18OCJT9yzsnztIKjlbp\n",
       "QQDbfE32OWzcgTJpGWNC0R3ok948+i9XnKzSuEMzdsc/ZLD+CoLsc9hMz0oUN+hcVA/vQDX9yzsn\n",
       "lGJrlSYwtuN5WLR67MxLLs752dtHUUwma6wTfENV9K9eHK1SM3ONUqgcO3sZw4jM3Uhxl9BvVSzR\n",
       "9b8EcbJKjVJBCdyRsDFnh/vBS+HV3BFJuaSSM0YW4ZynIJQXUOKgSyr9OZqs6aaU12/8BZdU1ppU\n",
       "hY97CoKvvJ/0qEsqJ5ikwX2eghAq73DsdEnliyZte2QvQagp54T2mDsq3zFp68p7CUJzOYFyGXcc\n",
       "0CwL0W1rXS2p+PIF3nKHe2aT7lp+tthvKMsXrmi8znSryNNqqXKBFcy6oJBdZrnk9Uo0FRL/mAsa\n",
       "F5mHQC/TQ0ATkJpcGInF7p3x5zruibZwYdNXXSEfo6Cky/IwDBfZ5JlmZnDYgNDh2U/MA/lhA4JP\n",
       "8krzAhg+stcrb8gMIxCCHrFyvTyMQLiC//RRVbqq/J3xfw6qSVIWSU+LAAAAAElFTkSuQmCC\n",
       "\" style=\"display:inline;vertical-align:middle;\" /></a></span><br>"
      ],
      "text/plain": [
       "the_expr_03: {k in {0 .. 2^{t} - 1}, l in {-2^{t - 1} + 1 .. 2^{t - 1}}} |- (e^{-((2 * pi * i * k * (b MOD_ADD l)) / 2^{t})} * e^{2 * pi * i * phase * k}) = (e^{-((2 * pi * i * ((b + l) mod 2^{t})) / 2^{t})} * e^{2 * pi * i * phase})^{k}"
      ]
     },
     "execution_count": 23,
     "metadata": {},
     "output_type": "execute_result"
    }
   ],
   "source": [
    "the_expr_03 = the_expr_02.inner_expr().rhs.base.factors[0].exponent.operand.numerator.factors[3].substitute(mod_add_def_inst)"
   ]
  },
  {
   "cell_type": "code",
   "execution_count": 24,
   "metadata": {},
   "outputs": [
    {
     "data": {
      "text/html": [
       "<span style=\"font-size:20px;\"> <a class=\"ProveItLink\" href=\"../../../../../../numbers/number_sets/complex_numbers/_theory_nbs_/proofs/exp_neg2pi_i_x/thm_proof.ipynb\" style=\"text-decoration: none\">&nbsp;&#x22A2;&nbsp;&nbsp;</a><a class=\"ProveItLink\" href=\"../../../../../../numbers/number_sets/complex_numbers/__pv_it/theorems/32c089106da811a8da7d9143cdea53407bf97a620/expr.ipynb\"><img src=\"data:image/png;base64,iVBORw0KGgoAAAANSUhEUgAAAU0AAAAmBAMAAACymtTaAAAAMFBMVEX///+IiIgiIiIQEBB2dnbu\n",
       "7u5ERETMzMzc3NwyMjK6urpmZmaYmJiqqqpUVFQAAAB6qHgnAAAAAXRSTlMAQObYZgAAAAlwSFlz\n",
       "AAAOxAAADsQBlSsOGwAABDhJREFUWMPFWH+IDFEc/+7tzM7s7uzdCBEn56LURZtIRA3FH6LWj39Q\n",
       "bv3hru7QXichucud6ySs/EhJVor8FuXXoT2nxB2tkH+UQ12RP5ArynW+3zc742ZvZvZtVvPt7fTe\n",
       "vPc+7/O+v96bBeCScGZoK5QYPuKczayXsWzFF6PiJufsX4/G3+oYcMsDS2snhF7cNVtSkh5pm1lB\n",
       "c4VrrDgLTr88PmWFZPqhxhRumkrS0oyDH6qtIwLgyvMSK86C06Pi1+HvQ7T959w8Gy2qlzWQoZFQ\n",
       "Dh8+gc04VltBelROKhPrez6/SksTxoC0rItN6+7phFKg4iytAM1SFCvn58y5loXcuaAboJc2keHl\n",
       "ecTSitAm65BrSBAQH0Gb4S0oUlyj3vOwSU6uRl2WQAnj+ULbT/oKuC3wluikECelaQZkeqtApsOt\n",
       "z+KkGek3avs6OjpSCu4vnIDdAKsCIFfIcbkCnmGwqGzIFagVk2dx1e1Zuwcw6oKs2ImMiHdpOtxC\n",
       "LBC1uAEJI/Blcnh0OEuJZnV6JLTIR7UlpDFmpAbwBRIsli4SzxWoS0Offt3/XPXZACDEaJ9CiqKG\n",
       "Qaq1iq5PONjMx7MpJzP0QnDwO1UyEYNnKZR2LqV0JX7YUSXMD5WPQ/98yGJ8Hf62sOIs6LynBivI\n",
       "dPDa4Pll1GOQmIYCGh/Pvpz2U5uMkHJFyJeXnKaH9d4oH8/fOW2fjR3Gujp4goqbOEx/o/vwgB74\n",
       "LNxckvDP3Dc2J4TohiDm6Xfszi5UBcDOlePuWd5MwGWD/yK24FyT7gDsMtzWxcmT4LFM1M82wT3h\n",
       "+3u95vkuAUraMQWb1qa0IH6sKvbq/JBNqMgZlZUz8/Ck/L1yWlcetSr3etSCeNpAOmBUp+m4gg3u\n",
       "eAfJLT6A3J/ndB0lc1wYrleSTAd7SAeMMiR/AOThiopMPvFJHap1yqEb81CoLdDudpC1jp4XiAk5\n",
       "h0FDXx2omtBqtK9iv4Qp4keedaOF0bSFtMcow8MsouaEUfgWXQJUZflQfUoD7e178oRFgWnBDtIB\n",
       "g3hCshMfI26Px8Mwcr/zNpQD4+lba7H7tyIF+RD/5Ick/4RlR+nE7gsiG+VM+qTIkr6qtZWbcUTx\n",
       "fiOGF+PiCj8kyzgtqGsF1ktY3fYEEuyTBNSbi/9mBdrNinmnJxWZJz8kyzil7Caj3zXeI+VjNTWb\n",
       "0O5LzAThZ1ey67/UIvPkh2wyI12KMhPMhezVVFUvLDI/G+Oen5vGBa1FSIZhFch0M9qg+6dgxlE4\n",
       "6jXPhSaVcQtGQ2NGorTQhn4QOnRE7DCuSUq/1zw3W5u6R4qLa+qsSW3Aa57WD4qQ0x859R7TDFk/\n",
       "KBSncV0e8xQ4L+rVKW95+jPF3c//kpG8A2d7y3M+78AnntL0cZszmPaSZ0sz70hxqoc0xWn8Y/fG\n",
       "vOMZKMCYcsI7nmvo8QcKW1pvIJoL2QAAAABJRU5ErkJggg==\n",
       "\" style=\"display:inline;vertical-align:middle;\" /></a></span>"
      ],
      "text/plain": [
       "|- forall_{x, r in Real} (e^{(-(2 * pi * i * (x mod r))) / r} = e^{(-(2 * pi * i * x)) / r})"
      ]
     },
     "execution_count": 24,
     "metadata": {},
     "output_type": "execute_result"
    }
   ],
   "source": [
    "exp_neg2pi_i_x"
   ]
  },
  {
   "cell_type": "code",
   "execution_count": 25,
   "metadata": {},
   "outputs": [
    {
     "data": {
      "text/html": [
       "<strong id=\"exp_neg2pi_i_x_inst\">exp_neg2pi_i_x_inst:</strong> <span style=\"font-size:20px;\"><a class=\"ProveItLink\" href=\"../../../__pv_it/theorems/8bc9b38cf75c7371ab646fd064ad09fc02345f250/expr.ipynb\"><img src=\"data:image/png;base64,iVBORw0KGgoAAAANSUhEUgAAANYAAAAYBAMAAAB0Lx7ZAAAAMFBMVEX///+qqqq6urru7u4QEBBE\n",
       "RERUVFTc3NyIiIgyMjJmZmaYmJjMzMwiIiJ2dnYAAACPW0xlAAAAAXRSTlMAQObYZgAAAAlwSFlz\n",
       "AAAOxAAADsQBlSsOGwAAAeBJREFUSMdjYCAMOAugDOadDMQD8nTZwxgnemmuSxLOkqW6LiMFFG7d\n",
       "zTdk2IWmq7AAqyqOSQaoAhPJ8heqLp5UkKFv/6ApkkeyqmplDAPDZzx28VzGYg02XawJQIL7A5rK\n",
       "twgmewDDewUmBwaeUCAIx2KX2crPmFZh1cV3AUhwTcBtF1sBA4sDR4INhr+YNsACHItdWHWB7eJt\n",
       "gIi03r07Ad0uls8MbN+5Gh5j2MXYgMcurLrAdtUfAAtoNmPz1wUGtj88qw/A0tb8F8TYhVUX2K79\n",
       "kDCejC0MQd7+gC2R4bULqy6wXamoJQoDw0oUNecbyLELUxeHA5DwgNiFSEXeKGquMZBjF6Yu9o/A\n",
       "DPIdzDxyFwgCQGKZwFKDeS6IexcY4lwBmAZx3b17xffu3QTcdmHTZTYR4jcGBlO42KlgZBXbGMjx\n",
       "FzZdLxWA+RlcTPAiBMOQzXzAUE66Xdh0MQIV8m94ANbTgDUdnmNgaCbdLmy6+IDhx6/cgFZUIpdR\n",
       "t1atuoDXLj5IdDP/hBG4dIHSPPc6aNQFGWDaxfv///8J+OxiS/mZDWbcghM4dPEh264Xi1lG4QSM\n",
       "DQwkAj6s4UOMXfCyl0K7WhhoAbiwxkW9AC3sMsEaEuzLaGBZXSIDAwB4aaUFdo5x/QAAAABJRU5E\n",
       "rkJggg==\n",
       "\" style=\"display:inline;vertical-align:middle;\" /></a> <a class=\"ProveItLink\" href=\"../../../__pv_it/_proof__alpha_l_summed/1a76509bee6c87ba1a6de8eb8bc47c48bfa97df10/proof.ipynb\" style=\"text-decoration: none\">&nbsp;&#x22A2;&nbsp;&nbsp;</a><a class=\"ProveItLink\" href=\"../../../__pv_it/_proof__alpha_l_summed/1ef50f14b4a3d1ffcf0523a8f0a4192e5c3349730/expr.ipynb\"><img src=\"data:image/png;base64,iVBORw0KGgoAAAANSUhEUgAAARkAAAAeBAMAAADqTHcoAAAAMFBMVEX///8yMjK6urqIiIh2dnbM\n",
       "zMxERETc3NyYmJiqqqpmZmYiIiIQEBBUVFTu7u4AAAC+LTDVAAAAAXRSTlMAQObYZgAAAAlwSFlz\n",
       "AAAOxAAADsQBlSsOGwAAAvNJREFUWMO1V09o01AY//o/TdcssJMyRqEiyi4FBZGBFEUQkRJ1yA7C\n",
       "Sg/WY3tZwYKWKnhRiAzZ8FR2cbYeCrKDVeeOwnAEr3pIQQaiQ0UPiuD8vrwE20STPNZ8kL6X5Hu/\n",
       "93u/972vXwBGZYkWBG5Lvj2FHEQCJiNkfLvOPAIIWJ4dgLAyrZh3VTWi2xySW1YvhdeBUc4dXlz5\n",
       "e3OefvB+DsaoF8UrXnGufsoa2Mc2pI+QzRh8tj3pAhShSj3ReA+H/smGBj4QkLLKufwLa9YZ2Acn\n",
       "7McCLpPL5OR+bBbogQyJPNw7qjA2+ChNfturdw+fgYuLCswub1kDr93GfWvxST8HG9Tk8SobMwxb\n",
       "CYHD0SjhL1C3CMkGrCaKjM0t3CwDVo6rVUlGXbqwbg00XhT5pC/icoEF/waEG7a3ogJ1gPc4ZR3Z\n",
       "1CGpgaDCVLgYbXfaKxRFIWNSLa70ceZSTGY7RQPJYq5snNLnkxOnGRtasGbzLxgZ42RKN90RPZYD\n",
       "OZ1h2qyrpjYtZCORLpY2bKDHTjmkTzbExgJjI+QpQocstPuLGjVpsaEo1iB73IziUxWYNc792nTr\n",
       "nJq9mcG46Q0MhEjOlYxdekEN6QfhbLvXzoi4YNkr6MsATROJNe6LxxTgZg7pcyF4w0BTHxzaOA3T\n",
       "WYTNEGVbobi6b7u+dUqvhY+ojE30GMTyXmxEpDKY0SR394ecCa45KLjo7V8I6F+Nmak7E+W+t7/E\n",
       "Ay5xZ3/9P32y3b2b29Seg78wv0tX0CpBFQIxQi8HADzaAm+vaEJupLWcE21nk4MhFXhcJr3r8aBJ\n",
       "m8uv/ddiKd7lf3p6R+NAS3fhhr+KjQqCvi/PzjOyF9R9C4nfHGjjDYg3/MUcFgRU4HHZD4CrHGjz\n",
       "eM7zPqFLRoHHdbgR/TsH2vxSreazthYV/lTzs1a7zoE27v/MFvx+vQ3EzTc+NBHLbH9Z2CqpuOyx\n",
       "jhHiH0163pwZaUobto+vsk94/MWXE0F+rXa+cqz1Dw+sJbRAxyQ9AAAAAElFTkSuQmCC\n",
       "\" style=\"display:inline;vertical-align:middle;\" /></a></span><br>"
      ],
      "text/plain": [
       "exp_neg2pi_i_x_inst: {l in {-2^{t - 1} + 1 .. 2^{t - 1}}} |- e^{-((2 * pi * i * ((b + l) mod 2^{t})) / 2^{t})} = e^{-((2 * pi * i * (b + l)) / 2^{t})}"
      ]
     },
     "execution_count": 25,
     "metadata": {},
     "output_type": "execute_result"
    }
   ],
   "source": [
    "exp_neg2pi_i_x_inst = exp_neg2pi_i_x.instantiate({x: Add(_b, l), r: _two_pow_t})"
   ]
  },
  {
   "cell_type": "code",
   "execution_count": 34,
   "metadata": {},
   "outputs": [
    {
     "data": {
      "text/html": [
       "<strong id=\"defaults.preserved_exprs\">defaults.preserved_exprs:</strong> <a class=\"ProveItLink\" href=\"../../../__pv_it/_proof__alpha_l_summed/cc6e1a6cc888bf82c2b6503f4945eb1e1433ec390/expr.ipynb\"><img src=\"data:image/png;base64,iVBORw0KGgoAAAANSUhEUgAAANUAAAAnBAMAAABqNBCiAAAAMFBMVEX///+IiIi6urrc3NxEREQi\n",
       "IiJ2dnbu7u4QEBDMzMwyMjKYmJhUVFSqqqpmZmYAAAAHKSyHAAAAAXRSTlMAQObYZgAAAAlwSFlz\n",
       "AAAOxAAADsQBlSsOGwAAA3pJREFUWMO9l01oE0EUx19222w3mzQLRfFgNUU8ibg1KdUiJlhvfpDi\n",
       "IV7aRkU86GFRDKJigrWIqLgnqR+YimB7smsRrTaHCIqClxUPBQUbxYpakWrRQrXE9zYmNmk32QSy\n",
       "E/ImMzs7v3n/N29nA1C6fNAto6xW/nW0aTYZKiv12vwW8/L9/8ZVMm/1n9egDq1r+ShAjQSp8hDH\n",
       "s2v7mtddB9GCgZO6DUAb2gaBCxN0TXksPpSphf68bhb6yLvBwTtY+ajnVrOI3WF4vVRhFAFOUK+z\n",
       "TO0SmaqvUPstyGPsdsL68AvTYwEWXCpMsgEB6HMfZSyTVZOJ0+3C8CnQAhDB2VqQ1QL8HxmtoMEA\n",
       "E7CPJkYTgAF1FJ1ZUAp7uLNkXTMF3QdsZPfWyv80tO0LSai4CP1OD3llg5C2wK/IoWfzYx6eD+7I\n",
       "bYracP5djvRPqjRXllUvHSQBktDUCKwmwHrYI8HlAlYKJgy9PE3Gj+uFuMlUGdbtQ4ETM3Pnlx/g\n",
       "VwxuZKf0gJFLT0xG1ybp2Uf5hcIXTvxAZ7Hd6fQ0aaOSdsAP6nWgGTlCDH/+NruV5vvPLby8H7+n\n",
       "jqh6RHTWKti0kdLJ2TDWg8uYw5hPF9yTNlkWZmsEZFsrsiLIwowXIQxhyvxGIBW60Lep7OCtWNoN\n",
       "fNpc0mufDH0S1PAYyD7JofI9ILIaiFj7v+mCf0EP+83od7fUADbFUjx9TDKnYdIGLtrA95ggXVqJ\n",
       "qZA0sy+6tFJuXblB8XzHxHKsxHX+IzUe80EK4rgCbqq5513G06xd4YFgMc7J3hRcygRwAEI5lmvo\n",
       "jIca7fCCRIxr4KbuY50jxu7FuCmumNBc75sLJoSPquAndZ4CO2M4l8THXCnVmOUMgn/R58GOvJZb\n",
       "JNf0HNtW5BntYScl48uoTM2iSwnlDwvDOtSUx3T5ZTzZZ2P5ZikQeHe49P5yp3S/+Dmvt9VwkF0W\n",
       "Da/Rloq/8npl0yz4XmzQUDpYfBLR1CMOh/lJ6k8ynb+VvhrhMSiZYKkQpVUdPd/UUTGL2z28xIRr\n",
       "uOHr9JNoYlaEyh3rvmliVNwDjgBYU8ZlqI9ZxMLzTZixiLUdIztnEYvO/53WoBg6/0esYdnpqIh6\n",
       "LGHVaVlg9csy3Z6zhHVRt4+sQNky6jlUC1gbMk9nblf1UVxn9q+2XHVW7iWBVarOOkzmL3G4+zIc\n",
       "qUzNAAAAAElFTkSuQmCC\n",
       "\" style=\"display:inline;vertical-align:middle;\" /></a><br>"
      ],
      "text/plain": [
       "defaults.preserved_exprs: (e^{-((2 * pi * i * k * (b MOD_ADD l)) / 2^{t})} * e^{2 * pi * i * phase * k})"
      ]
     },
     "execution_count": 34,
     "metadata": {},
     "output_type": "execute_result"
    }
   ],
   "source": [
    "# Now we can combine exponents, but let's preserve the left side as an exception.\n",
    "Mult.change_simplification_directives(combine_exponents = True)\n",
    "defaults.preserved_exprs = set([the_expr_03.lhs])"
   ]
  },
  {
   "cell_type": "code",
   "execution_count": 35,
   "metadata": {},
   "outputs": [
    {
     "data": {
      "text/html": [
       "<strong id=\"the_expr_04\">the_expr_04:</strong> <span style=\"font-size:20px;\"><a class=\"ProveItLink\" href=\"../../../__pv_it/theorems/df30aba3a535ce7eb8609d1347296ba1cd1680060/expr.ipynb\"><img src=\"data:image/png;base64,iVBORw0KGgoAAAANSUhEUgAAAJcAAAAYBAMAAAAFV3JHAAAAMFBMVEX///+IiIjMzMzc3NyYmJhU\n",
       "VFR2dna6urqqqqpmZmYyMjIiIiIQEBBERETu7u4AAAAsfX+gAAAAAXRSTlMAQObYZgAAAAlwSFlz\n",
       "AAAOxAAADsQBlSsOGwAAAd5JREFUOMtjYCAdLGagHuD7QEXDOBaQpv55AW455uxlClhEm3GpZ1z+\n",
       "AI9NXA3YRFXvgULgzgYMiX6gWWyJk7HYP3OtAgM/hk3aIJGrYIsmYOjJBuIVDK8NMCRsGdi+M9Sg\n",
       "R0jk+gdQTQz8DdgMY9nAwHYBQyKYgeEMgygfepjJww2rh7ma8fbuXXDDeAMYOP5hGHb+AUO8wUS2\n",
       "BzgNy4GKsC98gOQy/gkMTD8wDItmYIhX0HRiwGnYUoa2eSDa6gGyN98DDfuCLdb2YxGDG8b3haP5\n",
       "CFommcXAYJ/AwPQRiz6sgmDDZEDp+XMFE9gcRLpmPgIx7BsWfdwBuAyzB0Yk5xFI3DCd3r17916w\n",
       "WVHA9P8+gYEdmyPmwhivdoPAJoRhfFENDNwrJ0FSCyIhaN4DRwAHZgQwsGBzGMQwtuVAJzTUQ5yG\n",
       "lBGAiZn3AgMLZtJgaGNgNsBhGCjb+D943yAAEhFETbQHGDgxSwemBAbGBzgMAyWxKIb3Cglo+RcU\n",
       "yzsY3oBd/H4BjAAC65kzZ2PxZr4BVNMNBsaJYMv4YuuQDXuZGASJvgkwApTI/v//hWlW6PmlDtBE\n",
       "CwfsuUjZiXSQTaI4WYbJkGPYLBzi9g1kVDNHcBXzU0k2jTkVqAUAoEWJuwmnY2MAAAAASUVORK5C\n",
       "YII=\n",
       "\" style=\"display:inline;vertical-align:middle;\" /></a>, <a class=\"ProveItLink\" href=\"../../../__pv_it/theorems/8bc9b38cf75c7371ab646fd064ad09fc02345f250/expr.ipynb\"><img src=\"data:image/png;base64,iVBORw0KGgoAAAANSUhEUgAAANYAAAAYBAMAAAB0Lx7ZAAAAMFBMVEX///+qqqq6urru7u4QEBBE\n",
       "RERUVFTc3NyIiIgyMjJmZmaYmJjMzMwiIiJ2dnYAAACPW0xlAAAAAXRSTlMAQObYZgAAAAlwSFlz\n",
       "AAAOxAAADsQBlSsOGwAAAeBJREFUSMdjYCAMOAugDOadDMQD8nTZwxgnemmuSxLOkqW6LiMFFG7d\n",
       "zTdk2IWmq7AAqyqOSQaoAhPJ8heqLp5UkKFv/6ApkkeyqmplDAPDZzx28VzGYg02XawJQIL7A5rK\n",
       "twgmewDDewUmBwaeUCAIx2KX2crPmFZh1cV3AUhwTcBtF1sBA4sDR4INhr+YNsACHItdWHWB7eJt\n",
       "gIi03r07Ad0uls8MbN+5Gh5j2MXYgMcurLrAdtUfAAtoNmPz1wUGtj88qw/A0tb8F8TYhVUX2K79\n",
       "kDCejC0MQd7+gC2R4bULqy6wXamoJQoDw0oUNecbyLELUxeHA5DwgNiFSEXeKGquMZBjF6Yu9o/A\n",
       "DPIdzDxyFwgCQGKZwFKDeS6IexcY4lwBmAZx3b17xffu3QTcdmHTZTYR4jcGBlO42KlgZBXbGMjx\n",
       "FzZdLxWA+RlcTPAiBMOQzXzAUE66Xdh0MQIV8m94ANbTgDUdnmNgaCbdLmy6+IDhx6/cgFZUIpdR\n",
       "t1atuoDXLj5IdDP/hBG4dIHSPPc6aNQFGWDaxfv///8J+OxiS/mZDWbcghM4dPEh264Xi1lG4QSM\n",
       "DQwkAj6s4UOMXfCyl0K7WhhoAbiwxkW9AC3sMsEaEuzLaGBZXSIDAwB4aaUFdo5x/QAAAABJRU5E\n",
       "rkJggg==\n",
       "\" style=\"display:inline;vertical-align:middle;\" /></a> <a class=\"ProveItLink\" href=\"../../../__pv_it/_proof__alpha_l_summed/81c807d6443428eb45deaf7c1931c4ccf538cb7c0/proof.ipynb\" style=\"text-decoration: none\">&nbsp;&#x22A2;&nbsp;&nbsp;</a><a class=\"ProveItLink\" href=\"../../../__pv_it/_proof__alpha_l_summed/dfe36162e352dfd233ff81961ae26d7fa8f8f0950/expr.ipynb\"><img src=\"data:image/png;base64,iVBORw0KGgoAAAANSUhEUgAAAbYAAAAnBAMAAACRanARAAAAMFBMVEX///+IiIi6urrc3NxEREQi\n",
       "IiJ2dnbu7u4QEBDMzMwyMjKYmJhUVFSqqqpmZmYAAAAHKSyHAAAAAXRSTlMAQObYZgAAAAlwSFlz\n",
       "AAAOxAAADsQBlSsOGwAABWVJREFUaN7FmX9oG2UYx5/cJblcLpdkBKd/OE1xCipitK3Toiba/jeV\n",
       "DJHqH+1OYYgw5HC1iL8a3MZwKkaYUlFs9o8tiC6WodN2EkWZ4D8ngsNNWLRsOCtlWrQwKfV93rtk\n",
       "l1zuvTeRXJ7R+/Hm3vu83+d9nvd9jgF4WjxHT0Lx2qLVMmQEdPDDrhcesa7ED+HyTt4QN+x3wve/\n",
       "1q/lEjmoVXr9DkTw5soFgGAGqu0hnuXxxU1XpRvJchkKeKORv2GId6Ltj4a7CEw1SS/TUw6GyDGl\n",
       "SBqKvLE9hDzK8VBButDYEAQRJVJHFkAoty9NKTXcijCNszc39xG5xnCM9m/CZg1ObS4KRQWegwGA\n",
       "WJuQRY5nMjLO0g0HD1Yt8m2gHn7C1Ib3lfa1TTfHy71EnxAOExh5YwYSd02QBrUMy2JOAfz3Cbq0\n",
       "PQsaPA+lCS6taTXyaRIzA6Y2RcPIadveb06/IgwCTJKAyIs5MQ8zJ4A0KAbMCrnwwuLCIpCEjLJD\n",
       "odjcIh3gGMl5ggRJy9XIxyGqb4UnV8ZX0nGSipfiS8248QIN7epaE+Fx+vtjId2KjM2DezBjklCK\n",
       "pXHWAjBqOOZtcvcJe85qdvAOZ1K3tLCexGMac5OS3yAu/Mqct9AL9nmbd+dV7dCQ1kiIbvyNJ0Ot\n",
       "aVsKH8eGCvRtAdFQ4FZ4NANvNY2rCmddx/wSHrIZT21HNvLoazhZ0xYDYZNhjjecAlmrjV2quPOu\n",
       "s0NnOLeqeXr8TJGSNvfU7S/IFl06inT1C2odrHJp+1zEreWaXKXdeVHdBv2aExSgjhdwfyPObX7x\n",
       "p5Ql7tzYWEUALtcKyHP0nLuF6FIKrVZGD2bKPJlu+amuLcTghQ36VhP6L68X7fMrOX/eRf5e3FOm\n",
       "46Csa+DOOzD9Y6mTe8kw1lu4y2vxlJx81DbE4JFKo68GlVeb3rfBac7deRL0wDbCmiQsssMnib81\n",
       "3Om3AM7yuHPoPzbcJbiQqG2rOw+EHASIUgpVarWAPEJs2MWBd3vO6oAO0xkIyiQ3pjPRsrwXkqIB\n",
       "SXLOrtAA/t05K9aifgjJGR5qfGRk38h2+NmdBzIRPwsmNFbiicePvR4QqyKObkCo1GOkEgAVg+6o\n",
       "kMefrnbWseUOqDhvhxg8rH6/sKARnkomMO6VGQNvv4f58ItQqLMW35XP4c2Xch6T4oxjXYt0QrXW\n",
       "EldegCzjEd2EJpArfTvOLs/zrDE8v78Kr5vZMAujdZZ6ZB9dw4fhO5Q14xjoKatvW1TURr5DXHnk\n",
       "N7yl0AQ2PzN2rMIqzyVW4Er7T7/KEVJTjgg8x+jrSkVtgubOm8DSxhKTRXd+A+IaqzxXq4zUiOUh\n",
       "23L/v79xGaR7fvwhahT+AaOvK5VO8xK48pZsXzY0VMget51VnovLjF2WzHywpfTGb7aEw9ljjL5s\n",
       "alh349FSRrXqhJvJjUz2jn9Y5blrOF5E75DeHAVVotqizmT0Pc9bRzh3e/nCpXmT1/v7t3mU560N\n",
       "l6CZH/r79U61ufZlUb1MKNhi8k/v8pwxaL5BOPNtjNXXi8oy1eqaxXD/TSdf1p1a/IB30WumZZPd\n",
       "w9233e8H60tvCj339Ct9Ozp+k/Tw/GUcU5d17G+7ufu2620rhSM0Dc5e/B+E+M7DHE/NpJtb3uTu\n",
       "26aFLFQ0B/7YGceaESp2CTVYc3rBJ227nGlR7RJquQZY80nbfc6m4e6QxFooSus+aWvxfT/RHVKw\n",
       "vvI+4I80YbWFg5NdQaXqV8f80RYugf82lfYFEzF6oM0nh14BvbCXfaG81hNtn/sBCZR6oi1a9gFy\n",
       "e6Yn2qQHfWCMQW9sqPv/MR8s90ibWOw64qle6PoPVvnEkdR9Y7YAAAAASUVORK5CYII=\n",
       "\" style=\"display:inline;vertical-align:middle;\" /></a></span><br>"
      ],
      "text/plain": [
       "the_expr_04: {k in {0 .. 2^{t} - 1}, l in {-2^{t - 1} + 1 .. 2^{t - 1}}} |- (e^{-((2 * pi * i * k * (b MOD_ADD l)) / 2^{t})} * e^{2 * pi * i * phase * k}) = (e^{-((2 * pi * i * (b + l)) / 2^{t}) + (2 * pi * i * phase)})^{k}"
      ]
     },
     "execution_count": 35,
     "metadata": {},
     "output_type": "execute_result"
    }
   ],
   "source": [
    "the_expr_04 = the_expr_03.inner_expr().rhs.base.factors[0].substitute(exp_neg2pi_i_x_inst)"
   ]
  },
  {
   "cell_type": "code",
   "execution_count": 36,
   "metadata": {},
   "outputs": [
    {
     "data": {
      "text/html": [
       "<strong id=\"the_expr_05\">the_expr_05:</strong> <span style=\"font-size:20px;\"><a class=\"ProveItLink\" href=\"../../../__pv_it/theorems/df30aba3a535ce7eb8609d1347296ba1cd1680060/expr.ipynb\"><img src=\"data:image/png;base64,iVBORw0KGgoAAAANSUhEUgAAAJcAAAAYBAMAAAAFV3JHAAAAMFBMVEX///+IiIjMzMzc3NyYmJhU\n",
       "VFR2dna6urqqqqpmZmYyMjIiIiIQEBBERETu7u4AAAAsfX+gAAAAAXRSTlMAQObYZgAAAAlwSFlz\n",
       "AAAOxAAADsQBlSsOGwAAAd5JREFUOMtjYCAdLGagHuD7QEXDOBaQpv55AW455uxlClhEm3GpZ1z+\n",
       "AI9NXA3YRFXvgULgzgYMiX6gWWyJk7HYP3OtAgM/hk3aIJGrYIsmYOjJBuIVDK8NMCRsGdi+M9Sg\n",
       "R0jk+gdQTQz8DdgMY9nAwHYBQyKYgeEMgygfepjJww2rh7ma8fbuXXDDeAMYOP5hGHb+AUO8wUS2\n",
       "BzgNy4GKsC98gOQy/gkMTD8wDItmYIhX0HRiwGnYUoa2eSDa6gGyN98DDfuCLdb2YxGDG8b3haP5\n",
       "CFommcXAYJ/AwPQRiz6sgmDDZEDp+XMFE9gcRLpmPgIx7BsWfdwBuAyzB0Yk5xFI3DCd3r17916w\n",
       "WVHA9P8+gYEdmyPmwhivdoPAJoRhfFENDNwrJ0FSCyIhaN4DRwAHZgQwsGBzGMQwtuVAJzTUQ5yG\n",
       "lBGAiZn3AgMLZtJgaGNgNsBhGCjb+D943yAAEhFETbQHGDgxSwemBAbGBzgMAyWxKIb3Cglo+RcU\n",
       "yzsY3oBd/H4BjAAC65kzZ2PxZr4BVNMNBsaJYMv4YuuQDXuZGASJvgkwApTI/v//hWlW6PmlDtBE\n",
       "CwfsuUjZiXSQTaI4WYbJkGPYLBzi9g1kVDNHcBXzU0k2jTkVqAUAoEWJuwmnY2MAAAAASUVORK5C\n",
       "YII=\n",
       "\" style=\"display:inline;vertical-align:middle;\" /></a>, <a class=\"ProveItLink\" href=\"../../../__pv_it/theorems/8bc9b38cf75c7371ab646fd064ad09fc02345f250/expr.ipynb\"><img src=\"data:image/png;base64,iVBORw0KGgoAAAANSUhEUgAAANYAAAAYBAMAAAB0Lx7ZAAAAMFBMVEX///+qqqq6urru7u4QEBBE\n",
       "RERUVFTc3NyIiIgyMjJmZmaYmJjMzMwiIiJ2dnYAAACPW0xlAAAAAXRSTlMAQObYZgAAAAlwSFlz\n",
       "AAAOxAAADsQBlSsOGwAAAeBJREFUSMdjYCAMOAugDOadDMQD8nTZwxgnemmuSxLOkqW6LiMFFG7d\n",
       "zTdk2IWmq7AAqyqOSQaoAhPJ8heqLp5UkKFv/6ApkkeyqmplDAPDZzx28VzGYg02XawJQIL7A5rK\n",
       "twgmewDDewUmBwaeUCAIx2KX2crPmFZh1cV3AUhwTcBtF1sBA4sDR4INhr+YNsACHItdWHWB7eJt\n",
       "gIi03r07Ad0uls8MbN+5Gh5j2MXYgMcurLrAdtUfAAtoNmPz1wUGtj88qw/A0tb8F8TYhVUX2K79\n",
       "kDCejC0MQd7+gC2R4bULqy6wXamoJQoDw0oUNecbyLELUxeHA5DwgNiFSEXeKGquMZBjF6Yu9o/A\n",
       "DPIdzDxyFwgCQGKZwFKDeS6IexcY4lwBmAZx3b17xffu3QTcdmHTZTYR4jcGBlO42KlgZBXbGMjx\n",
       "FzZdLxWA+RlcTPAiBMOQzXzAUE66Xdh0MQIV8m94ANbTgDUdnmNgaCbdLmy6+IDhx6/cgFZUIpdR\n",
       "t1atuoDXLj5IdDP/hBG4dIHSPPc6aNQFGWDaxfv///8J+OxiS/mZDWbcghM4dPEh264Xi1lG4QSM\n",
       "DQwkAj6s4UOMXfCyl0K7WhhoAbiwxkW9AC3sMsEaEuzLaGBZXSIDAwB4aaUFdo5x/QAAAABJRU5E\n",
       "rkJggg==\n",
       "\" style=\"display:inline;vertical-align:middle;\" /></a> <a class=\"ProveItLink\" href=\"../../../__pv_it/_proof__alpha_l_summed/3dd8d30de0019595c2e4adbfb18b51589aec49f30/proof.ipynb\" style=\"text-decoration: none\">&nbsp;&#x22A2;&nbsp;&nbsp;</a><a class=\"ProveItLink\" href=\"../../../__pv_it/_proof__alpha_l_summed/3d935920e3ab1d376b8351b3128d376dd9d3fa650/expr.ipynb\"><img src=\"data:image/png;base64,iVBORw0KGgoAAAANSUhEUgAAAakAAAAnBAMAAABHz6p0AAAAMFBMVEX///+IiIi6urrc3NxEREQi\n",
       "IiJ2dnbu7u4QEBDMzMwyMjKYmJhUVFSqqqpmZmYAAAAHKSyHAAAAAXRSTlMAQObYZgAAAAlwSFlz\n",
       "AAAOxAAADsQBlSsOGwAABbdJREFUaN7FWXFoG1UY/y6X5nK9JD0p2x9qJUMnA5VdbcuwujWsoshQ\n",
       "MkWqoFtUdKATArJQ5rDROodMMX9s0lVpI4ItFFysVetaJENFRf84GTKZOGKxm6Na2g1XnXbxfe9y\n",
       "aXLvXnJtuvOVvJd77977fr/3/d73vrYA1cuvtPak1qcKHe26EIf/v1RGFNLL3v1+aumhH6vT9Otb\n",
       "4Cd18NoJAK8GueUBkIZq58DgMhCBD2wR/V725Icey/gMrSPQTupGRYrhYjctE9Phmp3L4jIQQYgO\n",
       "WhEp6bJHEfpwZ4aH3ydNK/a826yS7hicWpvypBR4HnsDy8SkZGtlxeAyEBmsWER91m3cSlbw+Hy4\n",
       "UCv5wIWTERGCGZgRIwrgz8fE5csFdW/t58iCy0BksGIRvWc9ZiloA0iQt9rI7DaQ/42TWtFhyBPx\n",
       "TUxOTAIReH1lz6SYru5KEjxhef60+E3l4yogmp2enWIRBRcsS+4SsH68Ll7wtPBElwYgq5AOhNFT\n",
       "AnTpjK8Su78qPQOxUorbKaYKElTC0lPflbJ+ZYkKH5eByHilBNFHdCPqYuUm6vN/YqMHzdkh7RkM\n",
       "kllY1wSirsCt8JgGb1qA5WCaC/oleiwu8FntI8hCUfvIF+PiMhAZrEoQ+cNYDzqMTqOGNhRJNViU\n",
       "l/PQkeId8zna3MVfegoawuLf9mND1RCZ7jQRddD6C4dnVdDo3uF9RWRrpfAJZSXuzOfRJ/UZ1BXI\n",
       "w7SNNOOGj9vGNVqioMQpq7Z8Po9mRrA3A/0HAZ6thojeVwYiutyYuJbU/zgNQaU+ldjhJ8nnhecy\n",
       "VDGU1fVwx214aQQaT/biHursnCaDG77lIwqUzt5uQERWHk38vN9MAZwh8qCMjm/u1kC26j3vsFim\n",
       "yV2QgLiwibBKEFbkrlYhBjG8s5sAPVvHpiNB49B4IvSalmISNCYIvhhhlSBByYduuMExLiL0a8h7\n",
       "L+oy0cecCetOUjo5u7Klqidb49CngVcm2Pu0+ozcC6qog0rajlkq11CambO3QI6ER/FuIK9CZACw\n",
       "HSFrCLCZMINDcAiBaTbyZbepPg7i5XOoj7QT9X1Q9ebPiWi41ZMtKjArQBBVN+aJ4pAwx0yaKexn\n",
       "BLetBVeJ3FxUYIA4++dKClRUtitHTvF6crz8TlIZYYdezVVHBlDlv3iSRVaTb8tn8OG4HEWlBdkg\n",
       "lwQzWoj3HDmL/lQ3FFkp32QHyLyruCbX/MH2HYCAepjotgEtSl/v4AO+5bowRCsx2rc/B28YB20I\n",
       "uoqsgkdfpldHJ3yLEpQXmWOVLljuBD89FkRB9I41YuCpv7bS2bwEvs6mf4Rk7wGSmTQggO5Hx/ku\n",
       "S0pzUiWZSvt/es2BbCUm2IZiBcs38hUmRbgJ/F6b/t3mpYXa+hLEBS5qTU4Gcxk+q0AUOuIOEtp5\n",
       "Wk8/iOUR06PUckizm+7VaWLDTeBPK2z/sUI7qBt31jY+bG9YnNH4w8TbXlvSXeWPF63jdbppeZfd\n",
       "dCrGUX4Cv+VDtvfHQruRaF8m0f4iH/Y5vvgu4b6Q2TEHIecyI6OwaVlydNFafrGwK4MlvpIXW1o2\n",
       "cRf2xVXuGAaZwRMtLfGVsqpouUIxEnimbChV4HylBY7mK0ZAaFCdAWHOFSpwfmW/QBYSeKb8YEYL\n",
       "PBK/xc1EcwUldIBEFAfvMTHQq9ZomS1jhbYHd3rPwXXbV7yS9NDoGgfuEpn7ypet0TJbzpjiptnU\n",
       "9CV15UuFdr7j4C35PNMTrdUyU+43FRpx6W+SQfZGfHi1bYhmBAglXWLlY2POZ6ttI2Tem8qCS6y8\n",
       "bE7m1VbZRmvxrC+6xKqBzT+k1Vb/Uip8n0usNto4pnl1TQhLJsZdYvU0uFl6wu7Yed1VVr60K2aE\n",
       "pKus4FVXrPh1d1kdc8XK1e6SMv7IcKWL2OsyK+kBF4zscVmAAO0u/Ot6m9ukQExdeT2EXWX0H1FZ\n",
       "t+Sq1PlJAAAAAElFTkSuQmCC\n",
       "\" style=\"display:inline;vertical-align:middle;\" /></a></span><br>"
      ],
      "text/plain": [
       "the_expr_05: {k in {0 .. 2^{t} - 1}, l in {-2^{t - 1} + 1 .. 2^{t - 1}}} |- (e^{-((2 * pi * i * k * (b MOD_ADD l)) / 2^{t})} * e^{2 * pi * i * phase * k}) = (e^{(2 * pi * i * phase) - ((2 * pi * i * (b + l)) / 2^{t})})^{k}"
      ]
     },
     "execution_count": 36,
     "metadata": {},
     "output_type": "execute_result"
    }
   ],
   "source": [
    "the_expr_05 = the_expr_04.inner_expr().rhs.base.exponent.commute()"
   ]
  },
  {
   "cell_type": "code",
   "execution_count": 37,
   "metadata": {},
   "outputs": [
    {
     "data": {
      "text/html": [
       "<strong id=\"the_expr_06\">the_expr_06:</strong> <span style=\"font-size:20px;\"><a class=\"ProveItLink\" href=\"../../../__pv_it/theorems/df30aba3a535ce7eb8609d1347296ba1cd1680060/expr.ipynb\"><img src=\"data:image/png;base64,iVBORw0KGgoAAAANSUhEUgAAAJcAAAAYBAMAAAAFV3JHAAAAMFBMVEX///+IiIjMzMzc3NyYmJhU\n",
       "VFR2dna6urqqqqpmZmYyMjIiIiIQEBBERETu7u4AAAAsfX+gAAAAAXRSTlMAQObYZgAAAAlwSFlz\n",
       "AAAOxAAADsQBlSsOGwAAAd5JREFUOMtjYCAdLGagHuD7QEXDOBaQpv55AW455uxlClhEm3GpZ1z+\n",
       "AI9NXA3YRFXvgULgzgYMiX6gWWyJk7HYP3OtAgM/hk3aIJGrYIsmYOjJBuIVDK8NMCRsGdi+M9Sg\n",
       "R0jk+gdQTQz8DdgMY9nAwHYBQyKYgeEMgygfepjJww2rh7ma8fbuXXDDeAMYOP5hGHb+AUO8wUS2\n",
       "BzgNy4GKsC98gOQy/gkMTD8wDItmYIhX0HRiwGnYUoa2eSDa6gGyN98DDfuCLdb2YxGDG8b3haP5\n",
       "CFommcXAYJ/AwPQRiz6sgmDDZEDp+XMFE9gcRLpmPgIx7BsWfdwBuAyzB0Yk5xFI3DCd3r17916w\n",
       "WVHA9P8+gYEdmyPmwhivdoPAJoRhfFENDNwrJ0FSCyIhaN4DRwAHZgQwsGBzGMQwtuVAJzTUQ5yG\n",
       "lBGAiZn3AgMLZtJgaGNgNsBhGCjb+D943yAAEhFETbQHGDgxSwemBAbGBzgMAyWxKIb3Cglo+RcU\n",
       "yzsY3oBd/H4BjAAC65kzZ2PxZr4BVNMNBsaJYMv4YuuQDXuZGASJvgkwApTI/v//hWlW6PmlDtBE\n",
       "CwfsuUjZiXSQTaI4WYbJkGPYLBzi9g1kVDNHcBXzU0k2jTkVqAUAoEWJuwmnY2MAAAAASUVORK5C\n",
       "YII=\n",
       "\" style=\"display:inline;vertical-align:middle;\" /></a>, <a class=\"ProveItLink\" href=\"../../../__pv_it/theorems/8bc9b38cf75c7371ab646fd064ad09fc02345f250/expr.ipynb\"><img src=\"data:image/png;base64,iVBORw0KGgoAAAANSUhEUgAAANYAAAAYBAMAAAB0Lx7ZAAAAMFBMVEX///+qqqq6urru7u4QEBBE\n",
       "RERUVFTc3NyIiIgyMjJmZmaYmJjMzMwiIiJ2dnYAAACPW0xlAAAAAXRSTlMAQObYZgAAAAlwSFlz\n",
       "AAAOxAAADsQBlSsOGwAAAeBJREFUSMdjYCAMOAugDOadDMQD8nTZwxgnemmuSxLOkqW6LiMFFG7d\n",
       "zTdk2IWmq7AAqyqOSQaoAhPJ8heqLp5UkKFv/6ApkkeyqmplDAPDZzx28VzGYg02XawJQIL7A5rK\n",
       "twgmewDDewUmBwaeUCAIx2KX2crPmFZh1cV3AUhwTcBtF1sBA4sDR4INhr+YNsACHItdWHWB7eJt\n",
       "gIi03r07Ad0uls8MbN+5Gh5j2MXYgMcurLrAdtUfAAtoNmPz1wUGtj88qw/A0tb8F8TYhVUX2K79\n",
       "kDCejC0MQd7+gC2R4bULqy6wXamoJQoDw0oUNecbyLELUxeHA5DwgNiFSEXeKGquMZBjF6Yu9o/A\n",
       "DPIdzDxyFwgCQGKZwFKDeS6IexcY4lwBmAZx3b17xffu3QTcdmHTZTYR4jcGBlO42KlgZBXbGMjx\n",
       "FzZdLxWA+RlcTPAiBMOQzXzAUE66Xdh0MQIV8m94ANbTgDUdnmNgaCbdLmy6+IDhx6/cgFZUIpdR\n",
       "t1atuoDXLj5IdDP/hBG4dIHSPPc6aNQFGWDaxfv///8J+OxiS/mZDWbcghM4dPEh264Xi1lG4QSM\n",
       "DQwkAj6s4UOMXfCyl0K7WhhoAbiwxkW9AC3sMsEaEuzLaGBZXSIDAwB4aaUFdo5x/QAAAABJRU5E\n",
       "rkJggg==\n",
       "\" style=\"display:inline;vertical-align:middle;\" /></a> <a class=\"ProveItLink\" href=\"../../../__pv_it/_proof__alpha_l_summed/083a108df61423ae0c9a97447affe7bbedecb9b70/proof.ipynb\" style=\"text-decoration: none\">&nbsp;&#x22A2;&nbsp;&nbsp;</a><a class=\"ProveItLink\" href=\"../../../__pv_it/_proof__alpha_l_summed/f5372a501c826f71b0d3421af4f5c14d31b386620/expr.ipynb\"><img src=\"data:image/png;base64,iVBORw0KGgoAAAANSUhEUgAAAY0AAAAnBAMAAAABeQneAAAAMFBMVEX///+IiIi6urrc3NxEREQi\n",
       "IiJ2dnbu7u4QEBDMzMwyMjKYmJhUVFSqqqpmZmYAAAAHKSyHAAAAAXRSTlMAQObYZgAAAAlwSFlz\n",
       "AAAOxAAADsQBlSsOGwAABghJREFUWMPNWW9oHEUUf7t7d3ubvbtsCe0HtXLBVgoqvZiEYrTN2Ygi\n",
       "RbkqEgs2PRUtapUDbQhazWmtRap4H1pJozQpgi2I9qxV+yeU1D+o6IeVopWK5SzGWqIhbbGx1fR8\n",
       "b3Y3uZ29vVzuvMUJO3MzszPv/eb93pt3F4CZyy+sFjMLM+ZAmy6k4P9XInphT/z25HSnn6oT7OMb\n",
       "EMQ6fMUhAF8McrMTIe+qULeYrSeuMj9I7/JTWH639YLQy82PsjoObVg3qHKSAF0zS322VWZAQbf3\n",
       "01Ql8ekAaOTeVQdtXQn6CPnu3e9h00IjbzVpOJyE4/MyYkaFZ2g0NEuF1OGKcHxv70pM1ZwBSMja\n",
       "J/v4o1qOWMRAgCC14APnjsUlCGdhVIqrQH8fIbVmq9EdlcCQ7UcM4Z2PGDikOLYcV9/m3SUDrQDd\n",
       "qGkr4mgF5Z8U1qoOu8R44NDQoSFAB6orffoZx1BPKWId5foHQDNU4Y48km0xcKjErcN2jBPcJmsF\n",
       "qh/wp0xeCQ92okspGgyGomQNATp1hz26131R6GPJQlArmQoliKVG5Ye/KcT5EkRMX7WXutQCeGKs\n",
       "aywaidKsueRDBtqf5N7N/0mNHrZwRGKPkbcNQ+N8kHQVrof7Y/A6JyEHI65qvsCofc4dxwZUO5Kw\n",
       "Ryam1XEeB3xi2MP/LPVMawUJFAyUGUn2GhZXZc3ytcJyFtozLgulcdbc6r71SaiPShfsY4z8v3Iv\n",
       "inN0Q3agAduAaeJ2Vn9Wbghk8Vqk+wPJyCv9McMhrcnnz1knpYKym7XxJjrc/cUgGk0C1BTD0ZrP\n",
       "50nMOwCPg9FCFvq38LafCrRsg33SPKz/Ljd4FNpNdk4/hM9zT2YZHxiOq+CmGyjehBqObaRT051r\n",
       "5k9H0wDySj51YwBM/dnluxoPLiZ92m9fZTlCOA0ikePI0p4YKDxv82UWbpnSCd2QEpagkG7Egbel\n",
       "hgKTdGvOB7Ke35kChA2NxDi7KOWkDA3diCZJOBbgNuRZAgQgUEQ3JKuCz+U4+ryuoHHGLUVuwdLh\n",
       "YotlM1qrJQV9MfApqG1frC6rbARN0kHDtn2MkTAy6FjztAkHeS7dBvgqxHcAtYhjK23HcCzFZysp\n",
       "ZyUiknkiYpoiGEiXTpPVB8vh1PszvSDlJBLTIg5P8WpYgDBxaZ+YoClh3LFo1DzBOB1UM+0Sv5bn\n",
       "VQjt+hMXpjUTP1JRzaH/LUQ3CZaTMAhd+kzm2L6D/OdnMT2FY+hNhcWbI0qC+BO+4FiUBsvPpdu3\n",
       "nyKbaYssHHOovRkV/Wp4B3czzP3DxEN83AwhbRsSr55ekr/sclfxuiujkCiFYcOmHLxmOMwu6JzC\n",
       "Ed7zIgvsHfA1EUuZdLjHoCm5A4KM8MgSdvsSDsbwdXSH/LWcy8b91u2eZK/6YqEDiINE9qze726W\n",
       "tDwulyKfvOnHV8ogo+wIjKQHk3x1kU3jLEsuYNF0Nm66FfijJlSwwuHnIE24fwVQ0uFc1h1HKAHt\n",
       "qTJSwzOsHrmHyn2W1ZjkSMz5nYgN+dGQPp3Pxk+oxudWqg6aEwO6cYescFfUF5VGY+7TaFFfUZid\n",
       "9u55ft6vW5LXumQPKqUgKT4bX/ZBQZj4wRxejMZRMB6fd1f0tDulLtJJ4OpkGcHiEj+AeZEpWXa7\n",
       "dJ33QGQqk2C5OwwU2EOZbG5e4io/kNJc5yg8DBxtbk5ViqOkZICnHCNGNs5owjiyqJBXZ0rJ35Mv\n",
       "Ga2gXisvr3H4B/HqzAzXEr+3mY1TaWD1d5afE7V/S1kpWyU/U2wu8p2/SHHEK59WpWSWJJptLyFe\n",
       "v6VxZcU7yffunVuGSSTH/UF5d1WSC1P7IEtWRi5qlW8VWbOzjLeUs46RRLWSsdxlES7u0a9kYecN\n",
       "tar6XSXLdyNpj3AEnNHi8H/wG6J1c6kTHuHwOTMfX6zqXVumvHTSIxz1WZckqqoyfVHe6RGOxUUO\n",
       "v6naTYXpTfd7hOPRGu/fG/UGx6u1jiODnsAQah4XX/YER1CvtYSDnuC4rOYS6rIewJA21lyEfLcH\n",
       "ONbrtZfR5sE/LVd4YfNM7W1e6+D+L3lOo6775CvqAAAAAElFTkSuQmCC\n",
       "\" style=\"display:inline;vertical-align:middle;\" /></a></span><br>"
      ],
      "text/plain": [
       "the_expr_06: {k in {0 .. 2^{t} - 1}, l in {-2^{t - 1} + 1 .. 2^{t - 1}}} |- (e^{-((2 * pi * i * k * (b MOD_ADD l)) / 2^{t})} * e^{2 * pi * i * phase * k}) = (e^{(2 * pi * i) * (phase - ((b + l) / 2^{t}))})^{k}"
      ]
     },
     "execution_count": 37,
     "metadata": {},
     "output_type": "execute_result"
    }
   ],
   "source": [
    "the_expr_06 = the_expr_05.inner_expr().rhs.base.exponent.factor(Mult(two, pi, i),\n",
    "                                                                auto_simplify=False)"
   ]
  },
  {
   "cell_type": "code",
   "execution_count": 38,
   "metadata": {},
   "outputs": [
    {
     "data": {
      "text/html": [
       "<strong id=\"summation_equivalence\">summation_equivalence:</strong> <span style=\"font-size:20px;\"><a class=\"ProveItLink\" href=\"../../../__pv_it/theorems/8bc9b38cf75c7371ab646fd064ad09fc02345f250/expr.ipynb\"><img src=\"data:image/png;base64,iVBORw0KGgoAAAANSUhEUgAAANYAAAAYBAMAAAB0Lx7ZAAAAMFBMVEX///+qqqq6urru7u4QEBBE\n",
       "RERUVFTc3NyIiIgyMjJmZmaYmJjMzMwiIiJ2dnYAAACPW0xlAAAAAXRSTlMAQObYZgAAAAlwSFlz\n",
       "AAAOxAAADsQBlSsOGwAAAeBJREFUSMdjYCAMOAugDOadDMQD8nTZwxgnemmuSxLOkqW6LiMFFG7d\n",
       "zTdk2IWmq7AAqyqOSQaoAhPJ8heqLp5UkKFv/6ApkkeyqmplDAPDZzx28VzGYg02XawJQIL7A5rK\n",
       "twgmewDDewUmBwaeUCAIx2KX2crPmFZh1cV3AUhwTcBtF1sBA4sDR4INhr+YNsACHItdWHWB7eJt\n",
       "gIi03r07Ad0uls8MbN+5Gh5j2MXYgMcurLrAdtUfAAtoNmPz1wUGtj88qw/A0tb8F8TYhVUX2K79\n",
       "kDCejC0MQd7+gC2R4bULqy6wXamoJQoDw0oUNecbyLELUxeHA5DwgNiFSEXeKGquMZBjF6Yu9o/A\n",
       "DPIdzDxyFwgCQGKZwFKDeS6IexcY4lwBmAZx3b17xffu3QTcdmHTZTYR4jcGBlO42KlgZBXbGMjx\n",
       "FzZdLxWA+RlcTPAiBMOQzXzAUE66Xdh0MQIV8m94ANbTgDUdnmNgaCbdLmy6+IDhx6/cgFZUIpdR\n",
       "t1atuoDXLj5IdDP/hBG4dIHSPPc6aNQFGWDaxfv///8J+OxiS/mZDWbcghM4dPEh264Xi1lG4QSM\n",
       "DQwkAj6s4UOMXfCyl0K7WhhoAbiwxkW9AC3sMsEaEuzLaGBZXSIDAwB4aaUFdo5x/QAAAABJRU5E\n",
       "rkJggg==\n",
       "\" style=\"display:inline;vertical-align:middle;\" /></a> <a class=\"ProveItLink\" href=\"../../../__pv_it/_proof__alpha_l_summed/0b30ed091a122a030b68562821cda2dec18dcb820/proof.ipynb\" style=\"text-decoration: none\">&nbsp;&#x22A2;&nbsp;&nbsp;</a><a class=\"ProveItLink\" href=\"../../../__pv_it/_proof__alpha_l_summed/d092453d50c9e7e8b5794521fe015687747206720/expr.ipynb\"><img src=\"data:image/png;base64,iVBORw0KGgoAAAANSUhEUgAAAhwAAABLCAMAAAAMNK4oAAAANlBMVEX///+/v7+urq7c3Nx2dnZE\n",
       "RESIiIgiIiLMzMyYmJju7u4QEBCqqqpUVFRmZma6uroyMjIAAABMl2BWAAAAAXRSTlMAQObYZgAA\n",
       "AAlwSFlzAAAOxAAADsQBlSsOGwAAClhJREFUeNrtXYmWrCYQNUFWWeT/fzYii4C4gD1nJtjkzEuv\n",
       "6r1ciqqipIchtFkN3zYMALP2L//vOTxAL8VXGGsb24nogMMiej6xry5sm2jjF7vgsICeZa8B+V5x\n",
       "KA2avtcHhwX0Yk6fU/Ri0yFg29f64HCHnujUk0JY8hf7pLoFfC8c7tDPTvRsHIUwEycumU06v0Qd\n",
       "ELdEKr1wmKHnXvRmlpTLe6wAgSCEXyIOoutnhH44zNDP/ooNQKDJwOVQcNn5W8QxwKnecPTDYYJ+\n",
       "kwplFhiQFLxZHLza6+iJwwS90HF8Ph5e/nvEMeha16ArDiP0TMfBCzlOH79IHGIZ+lU5jq44jNDT\n",
       "2IoAGOEi0DfwMnEoPVZ9vi8OI/QwsogmqwfA13IMus4l7YzDgJ5pHGmeECLZVxxLb9fMK71xGNDT\n",
       "yIJO2rTyF8A46/E1WXVUNa/0xmFAL/S3kKMUmtbEK71xGNBP+iuF0rSrK9bfu+PQoY+ny/r2bG1J\n",
       "JguAigwK5zM9mJczoJ+tk2Bz4fhzhTF4xuFfbA491/BB756VPimOZIlgEgw2jyseiEk2ey+ZI0Ft\n",
       "8nmNAH+4MqKUl5AV6yuPOHzSzgtPDobacKNcxaGXlRF94oedzsuTGVLnlxAvPsD14p1DBAY6sHHw\n",
       "clH0Z0mmouBj3u/wJxw+8hsv7PYWjvvrW4eaupa9Qz/r5pmBnJfFAfMJL+J5Wv6TLtYLxgsAhIIj\n",
       "b4bgjEayTjBm0YrR8OGfLs6EfO+T3c90PODwSeMXkgTb2JWJXNDlWHPop8pEcczJ5XiBylkxtWh3\n",
       "dIpZ+3s1bRpw5p9wak2Jedc8dH90DGblR92Onc6Zvu9kPuAw6uoLa0+Xc6DUVbo6oh1qkTj8uJyv\n",
       "nDiHPvfKZ33Q0H6mvTqFNJcGVmdtmSOge2KucH2R6LUoxj6h3F60Wt4dKaXC/C2HsF7LkxIZeqfn\n",
       "9t6Tvt/j7RxGV6mGqFCopMAxc77k1fh3Qy0ShxtqA5XXkIhZXNZ5l2esMKCQmPTeyuIrwzGyTeqj\n",
       "GrzXF6YVNALM/HghyGpAqM1yLC9hxm9YjjNSLavlDsHh+sCurhbfnisecLh9Qvg+lGeRjxpLHsWR\n",
       "ZXdDTUqJlz8VhtryXXZERIye76IwoUuBGd1xRa4Mhxk/4UjmVLk4JFhsRDiqWF2l1ccCfBUHWKCM\n",
       "yHQaudDhJalHutmiKTjuLv9uuNLOYYRgvRJfKHTa4WHSuBSHHWqR5XBDbXmLHhIRoUf7TCDWWlwm\n",
       "JZprtM/t6jYTLNEK2vlTh0bwktSDIR+dctp18N0QpJHDxFRZLflCIfs+tnMRiPtzDPKSfopYswOl\n",
       "m23cUIsItENt8PcugRIREfpxH7GR5YJK05lMDa/+dHiJQIzL5znWQXLV7WekRqMk55HCAaDR88Pz\n",
       "+PRuiNTGYRKHRoGFLxRikgE6bAK1MLbUkIOljIsvAJkvTes+CRFi2piICL0oUIAiZpMjpvDBh8Ux\n",
       "sOo3ki46IHUTx45HgZZwaXI4sMy7/K4X3MRhGocqmCTkTIqHmeFicz3rvxaG+aB9EVtxIZfFODdz\n",
       "+bs8jWkTIjb0UBdMNtTX+WC6s0RZWYv+cLuT5cxI3VhdH0Q8ugSbGb3eKsk5F8ddJ6aFwywO5V5e\n",
       "tlCI2I6CA5GDf2rFQaB/17kJyLpo5v/3OsAN7cSFSYjY0M8lYGxxrK+mefG5GzA+cd9gkdSN1fVB\n",
       "zKN5DrSUJBrr+di/mwVr4TCLQwncqAiFQovnrsThtOLEIazoOa/iWE1xTJsSsaHHRbdLLQq7Ss1+\n",
       "Lmn5gfsGT0jdppWcx2WmVTh4ZTxzaOntLFgLh7nwsLvyuFBIotCJAUbIKPtphQoilrEw1nEcao7W\n",
       "mDYlYkM/lX3ycYnJz2f67XtMTPjJ2H9w36A/9RmpmzhyHgVaJqMwHZOsK++Lo4FDH4cG7uxMkBYK\n",
       "GZu/LQlaGDB0IUT+UHqCqpJjCuOjpkTE4kBHSYrzeSM442zCnDbZEb9s27zeHU59RmoUrWQ8GqJF\n",
       "yJ+yLLzgFeKo5tApdONO3Yub2RYXhZ00Tg3vAcdhhKxHSYnY0E8HEamZMsfTFIFXosDr04aSC7ds\n",
       "y5q9l+pTn/KYdXEmDomjJjJxVHPoBBsBkLeCv+hTxPc35PUcY5XEtKXEnjYuLT189yyrtBlhewDY\n",
       "kPVwy7bl+wbvtOpTn/KYdaS6bTkaOHQOQwxgvKHxOFE4+GqN032qyhwDnMW0JY/JADviS566HcoX\n",
       "ShEXIbVVNBgjX75v8MS0emNdf+pTHrPggtwuFGzg0IYaKYAbZ0s+QmUzx1usRPTR4F/Qa/3vsRN+\n",
       "sroQLMfyAJjWVMknm5a6vfv76NSX4vinQhzVHHpxPAIAQSPHW0VN4rnv0J+EW+AsixNNK+2BaLxs\n",
       "29SdH63yz46WWY4Tn6OBQz+tPALAYCPHkaqO7qMhF+JAEzhzSL1lktZwNiTTk2XbJsPTfOrT+CvQ\n",
       "c9vnqObQxaEPAQDUxHG8iEXhoTiOPW3jVZDTid9fGMMTVQj/xq06Hz11vvKmKkLZag5dHPqL3OUx\n",
       "bckhPQRGLlKkk4wsrp5/Cd8HT53v6fUBcRxzGOLQX+QujWlL4sCHMfrFJc9w6KvlVY+qIn1ezyEm\n",
       "fwI0wMOJOI7qnearOElOnYkj33CFVyy81XNI/8YmpYd1qCt6WM4SwEu7QHVnWx5DkQO8v2TfwCEE\n",
       "f8FwwOPuxaZQRRan8lLP89Qj7Wyn0nxuQBXFPg0csr8wLR8rdEVfLIajxQCMpmqAfe2AvdvWebx9\n",
       "y1sbh+D3t2JAx9ZrRV+ioByA5Vl42pfTMc67Lr+r/nYO/25b0dO98Szu7sx2XLG+9qSY+M6TuDu0\n",
       "2zn8wx6YQa92PnkhAANcFNYXx552u0bTPga561Q94PDPthX97m6t5eU5bhjbSpqC7z6Rjg1HxQ2w\n",
       "Tzj8s3ys6PMKenlU/b2PiDvaKB/toVRs7fOAwz8bu63o8QPXYaadaAPsQwtQsQUD7m5bNYdePJAz\n",
       "w6ALKhjmBUfivl0UmnYmDocePfGgwdxFmrRUaFiz1yTSvf3qmUOv9BPPAfTgkzJVtAa8dpx11Bz6\n",
       "mh1s3tRwxdpRfxx69DhztWmx9mQc0fgmbbCqzc974zCgH/XVRh6DveFDwReJg+ua27R64zCgVxkN\n",
       "oGQi13yXBu8Rh6hadO6Nww19tjfzfiMPf1PW9KKfE63csLozDjc4Ms0T+408ZNjtgbr9vzB9jTaI\n",
       "rrv5ty8OI/TZrxLtN/Lwm8NN7/mZalRZytQXhzH6aUqsn9zfI2VNon7PtDLXFl50xWGMHsVLA2Ej\n",
       "j9gkvs0hJdW3/vbEYYo+nmALG3kMdkMZJV5jOER99XRHHGY/gxo9K2zk4RI4kr1FG0zX92E/HGbo\n",
       "mX5V9vPGHAEaKB07RY80+0oi8i5lE6esU/T4azoed3MnHO7R8zelxi8niLZEVR8cltBL+FWFd9Zb\n",
       "qeiCwyL6F+XGz5uamn2HDjgsoyfT1ye1PdxeLNwBhwfo1dfrWOfcJ4Xk/3sOE/T/AfXuiMIUIhdW\n",
       "AAAAAElFTkSuQmCC\n",
       "\" style=\"display:inline;vertical-align:middle;\" /></a></span><br>"
      ],
      "text/plain": [
       "summation_equivalence: {l in {-2^{t - 1} + 1 .. 2^{t - 1}}} |- (Sum_{k=0}^{2^{t} - 1} (e^{-((2 * pi * i * k * (b MOD_ADD l)) / 2^{t})} * e^{2 * pi * i * phase * k})) = (Sum_{k=0}^{2^{t} - 1} (e^{(2 * pi * i) * (phase - ((b + l) / 2^{t}))})^{k})"
      ]
     },
     "execution_count": 38,
     "metadata": {},
     "output_type": "execute_result"
    }
   ],
   "source": [
    "summation_equivalence = alpha_l_summation.inner_expr().summand.substitution(\n",
    "    the_expr_06)"
   ]
  },
  {
   "cell_type": "code",
   "execution_count": 39,
   "metadata": {},
   "outputs": [
    {
     "data": {
      "text/html": [
       "<span style=\"font-size:20px;\"><a class=\"ProveItLink\" href=\"../../../__pv_it/theorems/8bc9b38cf75c7371ab646fd064ad09fc02345f250/expr.ipynb\"><img src=\"data:image/png;base64,iVBORw0KGgoAAAANSUhEUgAAANYAAAAYBAMAAAB0Lx7ZAAAAMFBMVEX///+qqqq6urru7u4QEBBE\n",
       "RERUVFTc3NyIiIgyMjJmZmaYmJjMzMwiIiJ2dnYAAACPW0xlAAAAAXRSTlMAQObYZgAAAAlwSFlz\n",
       "AAAOxAAADsQBlSsOGwAAAeBJREFUSMdjYCAMOAugDOadDMQD8nTZwxgnemmuSxLOkqW6LiMFFG7d\n",
       "zTdk2IWmq7AAqyqOSQaoAhPJ8heqLp5UkKFv/6ApkkeyqmplDAPDZzx28VzGYg02XawJQIL7A5rK\n",
       "twgmewDDewUmBwaeUCAIx2KX2crPmFZh1cV3AUhwTcBtF1sBA4sDR4INhr+YNsACHItdWHWB7eJt\n",
       "gIi03r07Ad0uls8MbN+5Gh5j2MXYgMcurLrAdtUfAAtoNmPz1wUGtj88qw/A0tb8F8TYhVUX2K79\n",
       "kDCejC0MQd7+gC2R4bULqy6wXamoJQoDw0oUNecbyLELUxeHA5DwgNiFSEXeKGquMZBjF6Yu9o/A\n",
       "DPIdzDxyFwgCQGKZwFKDeS6IexcY4lwBmAZx3b17xffu3QTcdmHTZTYR4jcGBlO42KlgZBXbGMjx\n",
       "FzZdLxWA+RlcTPAiBMOQzXzAUE66Xdh0MQIV8m94ANbTgDUdnmNgaCbdLmy6+IDhx6/cgFZUIpdR\n",
       "t1atuoDXLj5IdDP/hBG4dIHSPPc6aNQFGWDaxfv///8J+OxiS/mZDWbcghM4dPEh264Xi1lG4QSM\n",
       "DQwkAj6s4UOMXfCyl0K7WhhoAbiwxkW9AC3sMsEaEuzLaGBZXSIDAwB4aaUFdo5x/QAAAABJRU5E\n",
       "rkJggg==\n",
       "\" style=\"display:inline;vertical-align:middle;\" /></a> <a class=\"ProveItLink\" href=\"../../../__pv_it/_proof__alpha_l_summed/a9810ab9d05fe73d2cff7666ae629f12d28bd1f50/proof.ipynb\" style=\"text-decoration: none\">&nbsp;&#x22A2;&nbsp;&nbsp;</a><a class=\"ProveItLink\" href=\"../../../__pv_it/theorems/5bc3e616cbac63c4744b847593ad3f11882ba5490/expr.ipynb\"><img src=\"data:image/png;base64,iVBORw0KGgoAAAANSUhEUgAAAZwAAABLCAMAAABz08EoAAAANlBMVEX///+/v7+urq6YmJgyMjJm\n",
       "ZmZERESIiIiqqqoQEBDu7u66uroiIiLc3NzMzMxUVFR2dnYAAADkd/AHAAAAAXRSTlMAQObYZgAA\n",
       "AAlwSFlzAAAOxAAADsQBlSsOGwAACN9JREFUeNrtXYmyqygQZQaQffv/nx1wiwKKtiZTpZdXt17S\n",
       "SYNy6B0MQtcaUb/le1YzWjYp8Ebdb/me1rxrU6CNC/lTvuc1gdsUWJPAjjI+Q98LjgqmSYE1R27h\n",
       "w+zFouO6NgXSbFB38DFN+Yt9gsCbFJDHRS7xSe+dS7ZH1zQfJi9Bp9NtCsCqAwVn4kuWhsbrkBUY\n",
       "LGP6JeDYwJoUgADoa3wJIxMs4hRV/Ar+FnBQJ9qU64if5MNyAMdQbN4MDi9sDL9sdVyQ1/n8JgTv\n",
       "AQcF0qacjFVCd53PbicrXgSOi+qjRTnXMFD0lnymW2Bju6mZl4Gjgm9STpoxoFZb8KXMgDF/koOC\n",
       "aFPOaafK5Nl2SnXBZzprLZV/4MQFa5uUc9opFzzpKGlL04JPhNQ24mZPgn9NVocVk8ku6TVXi0BZ\n",
       "GxwX/go5leiCNClnmggIBI4If1hUjE4xcSHAiypVk3MAnDrfwXYxP0qXvr+KOl3pXLEbEodg3601\n",
       "SVL2Twp9Qi5oGF6Nctrg8ADPh+9WTxVntHo7dtYPfFE2sn3CaHKJOHN4yCD1bvyXy0sVt4kW2RZ6\n",
       "Ib9GqwarDQ6FG7r9NLVIUtkYe5HB6wY5GS/bIIykn+FS+LvoYFe6SV2TcryRagjaBoeAs0Z2v7Jt\n",
       "0jcmKSIi/qOTwz6PbQxjkzPYCwxh3g4aDqcixfzlb29w6Hhh/0WTcsYfsCBwBNh/J02R69QAElLI\n",
       "Iz9B1s93H+kGw2U3vOZ4FKX0aXo9/mH/katvmp18ockipJAB7jnVnYk2OBkfCRuNlcaqqTET7Kb3\n",
       "N6KKGvSWHsDpqTb0lb3+Ne6XbrTMKn7qMcYu/cU+BrN1wY3FhxZfYT5DsWgDeBmbOq5NcHI+HrJr\n",
       "kEYxF6PTQqZ1S3C8RDOiXqHZ6M5qjXmj5ZgssmzEwKmP5ESalrwtOXMFt6oaNq8Ta7aYhyxrpQt1\n",
       "r8EGgNc94iY4BZ8LtZ5wcWW21XOSwbmnyMwLcKiJMjJ1269cxVh6b3gPjok4eZYmze4vhKmCe9oU\n",
       "LLzJzueXz1CLcjzfUJV839rVU/LpEFwrJkF37UhZwK/Wqih6a2w1+3uqeazgntY2yyFFvkg9alGO\n",
       "Nl9z9FzUR8Thc3w2rvgaC13DHO72btmyfzXHOb3cNeZ9quAOU64HIzl1R+Z+cB9kfXbo4Q4Z5mek\n",
       "eBZiuCLogPqMDshZ4WOLO1tNwRpCczM4SAI+WayyUa1JKg1GizU+g6OSp+jMJwZ2LHqLYroPTbNV\n",
       "S4p1DHVLukBv4+tCO6WDC/8jK82Fm9uRID+FrTLJ4BC/DmFsAqd/kbSkH/7G+DYZuFkoKcmg0AU4\n",
       "0EQXAYJT45PROWv15u7bxHbH3t+hgmsHMeiQpWOYbAZw+hds8DTS//17Eyi1S4WR6Q9RaBRoFKqB\n",
       "1qrKp+JKbbiN4r6Y/Ya9v6sKbvQGlauoNTcID+cfk6M0Mh+/1a5VQyiUBTQKFUBw6nw+xjX7iv7D\n",
       "Jp3QV9b+hb2/09DrCi5lSIkKONhZF2XKf0xOVIYf62TX63EHHB/DKntukhkQHLYRpOzrrdlZk0Jz\n",
       "DJKjKW0NLlnMQ68ruKkAsEgzf7w1ToLoPh57so3ukz+Qa/+TF+CMFKNVGtoMOnLhzOlFc9kkYyA4\n",
       "uH7fYVcUP46n0/1bQMVlTFtLsPU6PfS+Al0v001wRP+1jqYqk3SHNF0AgrPFV6Rx8mCIr0SoA4w+\n",
       "pq3re38PXfvZoTt+TFOPdre0xH20M/l2vhfGY5N8UHHLtb7a5KO7ZkdNZUE7erowi5eUTH3v74Eb\n",
       "OD/0/laktYdqi0zyQBFD0O6FTx9Tfwycf9dvN+OEtfXO+NZpHNaWnPjCpAYqJFNQmne6gUtDN8H5\n",
       "pwCnp8hxUvwwAVodsTkBmDLd5jN7MddCrcEd4WXaGnTt9+7UWne3JTkTOGKQYnSrWjvMx4TZcwgm\n",
       "TU8H5QdI5qzS1iDBAw+974BOUJRJRzQlgHE0PfaoybnbW0tWxe4q/mmZSS2wYvr/2G5479BZ5nPL\n",
       "IYhRDsbRUaNph+Uxk7MLDjHn+WxDEgVdKNtA/qetoHcOnZ2L3QRnZf7UIYOnt8HZVYx6K85p3DPp\n",
       "0MNaVnY/BE44ZjSLMp2hlHQWtXzxjfIeaSVkqHgaONmpMV6kOUsKouzQRsMuc/f7WrCPkmq8Jt4e\n",
       "5hupTbnA4WlP/OhcdoO6uGWo++KyJL/r7YxIWBN+gm9U5bWZ52td+bQnFWT6vazfM3CxLa+hin5l\n",
       "u1Sv3F3jtdorrjrReI1G97AnsOTPUCnr9x685TPn7JOC/UlGJc7wbTrRXOQIPszkkHzVUtSiHG24\n",
       "KnM6+hfMIWlP8FWfJSKLK5MPO9YjeG6MGWpRjkulqLnurK89eXmcr+JEG+4qOWr/qKetMFG4sbxJ\n",
       "OR7fVqKZPv9m6d6G1IKPBLJsWg+VrIqnIuyDBaeyhxy+qxxVtjPR7jwf3dr9UsaqT3pQESufCnHn\n",
       "0TZd2ADsYHyHG8FPwcYU/qkpzIS5cATE5Wubp+jSmNN8x5vU5hnYSM1LW0yalBOCmblTw97v9mlK\n",
       "FuABiyHPSBNUKt33nnXPgDWapqbP8p1E5xE+gVQ1hcKblBMjrN2ucTc3Ocv316b5k03Kqe7MHXy4\n",
       "XrzynvkXYSML6y8vPfzGAy17zidq3lva8aW694DDi5QjD1c2ICsgd8ZnqlquDziDeQ0495ocBH9O\n",
       "yppvdaLog5isRdHPbeVcXnwKDQWmF9Z884kiOp+3weMBUI3fgo0ttJAN145VQB+mt+ZbnyiaL62X\n",
       "nBc90Ys3KWdlUVzny04UrdRaeI1aI6JNOY23usz3OVG0VGsvcwhsoYNsuBxIQPXigi87UTTjl1zp\n",
       "1/zCTvkMaHd9P4sHdrHgy04ULYNQ+pZf2JHFIpfB3dCr/ynfY90B06SAupU/5XtokEPbFEjT/rd8\n",
       "zxQc+Z21y4Hyx1+UmmnqeNykQNME3W/5HuiqfelXwXoFhX/L97SmipOw6r4fgrTAruzfb1EOi1S1\n",
       "KRegN7/le5jFUbuU/wAZZ2ubvec3YgAAAABJRU5ErkJggg==\n",
       "\" style=\"display:inline;vertical-align:middle;\" /></a></span>"
      ],
      "text/plain": [
       "{l in {-2^{t - 1} + 1 .. 2^{t - 1}}} |- alpha_{l} = ((1 / 2^{t}) * (Sum_{k=0}^{2^{t} - 1} (e^{-((2 * pi * i * k * (b MOD_ADD l)) / 2^{t})} * e^{2 * pi * i * phase * k})))"
      ]
     },
     "execution_count": 39,
     "metadata": {},
     "output_type": "execute_result"
    }
   ],
   "source": [
    "# Recall our \"starting place\" then perform the substitution:\n",
    "alpha_l_eq1"
   ]
  },
  {
   "cell_type": "code",
   "execution_count": 40,
   "metadata": {},
   "outputs": [
    {
     "data": {
      "text/html": [
       "<strong id=\"alpha_l_eq2\">alpha_l_eq2:</strong> <span style=\"font-size:20px;\"><a class=\"ProveItLink\" href=\"../../../__pv_it/theorems/8bc9b38cf75c7371ab646fd064ad09fc02345f250/expr.ipynb\"><img src=\"data:image/png;base64,iVBORw0KGgoAAAANSUhEUgAAANYAAAAYBAMAAAB0Lx7ZAAAAMFBMVEX///+qqqq6urru7u4QEBBE\n",
       "RERUVFTc3NyIiIgyMjJmZmaYmJjMzMwiIiJ2dnYAAACPW0xlAAAAAXRSTlMAQObYZgAAAAlwSFlz\n",
       "AAAOxAAADsQBlSsOGwAAAeBJREFUSMdjYCAMOAugDOadDMQD8nTZwxgnemmuSxLOkqW6LiMFFG7d\n",
       "zTdk2IWmq7AAqyqOSQaoAhPJ8heqLp5UkKFv/6ApkkeyqmplDAPDZzx28VzGYg02XawJQIL7A5rK\n",
       "twgmewDDewUmBwaeUCAIx2KX2crPmFZh1cV3AUhwTcBtF1sBA4sDR4INhr+YNsACHItdWHWB7eJt\n",
       "gIi03r07Ad0uls8MbN+5Gh5j2MXYgMcurLrAdtUfAAtoNmPz1wUGtj88qw/A0tb8F8TYhVUX2K79\n",
       "kDCejC0MQd7+gC2R4bULqy6wXamoJQoDw0oUNecbyLELUxeHA5DwgNiFSEXeKGquMZBjF6Yu9o/A\n",
       "DPIdzDxyFwgCQGKZwFKDeS6IexcY4lwBmAZx3b17xffu3QTcdmHTZTYR4jcGBlO42KlgZBXbGMjx\n",
       "FzZdLxWA+RlcTPAiBMOQzXzAUE66Xdh0MQIV8m94ANbTgDUdnmNgaCbdLmy6+IDhx6/cgFZUIpdR\n",
       "t1atuoDXLj5IdDP/hBG4dIHSPPc6aNQFGWDaxfv///8J+OxiS/mZDWbcghM4dPEh264Xi1lG4QSM\n",
       "DQwkAj6s4UOMXfCyl0K7WhhoAbiwxkW9AC3sMsEaEuzLaGBZXSIDAwB4aaUFdo5x/QAAAABJRU5E\n",
       "rkJggg==\n",
       "\" style=\"display:inline;vertical-align:middle;\" /></a> <a class=\"ProveItLink\" href=\"../../../__pv_it/_proof__alpha_l_summed/81e1780a57ed2ad92e405126e731dc69119d1da50/proof.ipynb\" style=\"text-decoration: none\">&nbsp;&#x22A2;&nbsp;&nbsp;</a><a class=\"ProveItLink\" href=\"../../../__pv_it/_proof__alpha_l_summed/0bc3d8147f93fe2e60dae850df611353e1cc59320/expr.ipynb\"><img src=\"data:image/png;base64,iVBORw0KGgoAAAANSUhEUgAAAVYAAABLCAMAAAAcTl9AAAAANlBMVEX///+/v7+urq6YmJgyMjJm\n",
       "ZmZERESIiIiqqqoQEBDu7u66uroiIiLc3NzMzMxUVFR2dnYAAADkd/AHAAAAAXRSTlMAQObYZgAA\n",
       "AAlwSFlzAAAOxAAADsQBlSsOGwAACDVJREFUeNrdXImSpCgQZZf7hv//2VXRauUQhOrqYomYmGh6\n",
       "nqOPJPNlkgrA2EDys7hvGVqJ6kz/wPazuO8ZztZnegfj4qO4bxoc1mf6hui8UITTeEZapdfVmb5h\n",
       "0VtwkE5prpbUZ3qG8fIdOKowmzJqeVad6YrmaAgnnLN29bEq5ycg+npeiarPdMSdTmM9cKtHxct9\n",
       "iAyBhlL19bQaT6szHUanxnAru9obwDDIRD72/bQCwusz42v1EAdFoFVjqOeklSW+lA17V+vFOM4V\n",
       "yZuBVuBRfeah9vRkHGfKCd8UtNpls9Vmng3Yae5nnCYnVg05hp6GVulddeahu+70ASfcml1pPbO1\n",
       "As/rM8/2cvrYpqGGc8JpYozBYmpaSbLnyZAXgLGxC4tRgwGfcNyvo5DBOOTdBDktTfY8HfICNpML\n",
       "0AZarZ+80BqrRVSdeTK4B120cg/+V8Mnz+x9f9Ez51pbaM3iZh4o2X1oYD+ynGptoJV58jePf1sJ\n",
       "lSoOMxqxKioUNpJcEw/UBXDOMTfQigdlXXdouRfZP6LouL0gnmWVIZjYCRywHJRLBhpoRf5PSqvs\n",
       "fjH1T5TBV6Jp7fjDJDrVDChXnlNnDbTywdxu46i2NeHyf1zMTFSCM0PUmQut+rA4JGrBwldnRgJg\n",
       "G60RDvnCuNl8cI0IrxJ4du3cyew2rio2t/z+4HGHwcO8Ia4+kanONAeA7IrUaY1xzEf3ILSkdskT\n",
       "yvtI2OPp8a2okC7nOguuSQC50Oowxmr5s6wbfkXz6IwYqmjFVeLWVLejY1mdVKc1wVmfuxK8ubPw\n",
       "wEcJ/J6r1x6v0brciLxYqxLHDaDI0rmMowUFtZn2nC13p656oJvilPe5rgVMSuIorMJRAg+/V8Fz\n",
       "6AsT7rUyeDfcddqgzCG8pC+lsNPq6HGx0FShf/Zbkja66kzrcBkRYZfNiyx8iDMLHTkM1nlxdAra\n",
       "RwlcYKEhOD1KoJXh689ALpfUVptb201caTiqfCktSICm7iIZbSIie9tbbCcyg6MnM7s8Tl4cSXKp\n",
       "l4nll8tfVIvwr7a/Ao3rvwyzKqwL3WXprS0lv2T8orQs1UxwfbYUlNhOb1WAePw2HPG3CW0kjtix\n",
       "LqEEbsITEmDChbefA62GHL/e3eFCq2bh72vJvKBGju10cdV83TvmQqJKaO1N0FEnrTmcWAI/vhU/\n",
       "F6exW+ulBL6oI2nLTmCn1QaDZfdxOu5ckvystLTH2ES7jSf7rzcfUJ1eOYuTi2WwhrzyHLKuJXBM\n",
       "X0//Qyt9xePdCUBr7GLVlTuPO5de5fRNaS2uVapLDIWJ1oTd+QDvpDWPc4tOLR4SoEOucoV/kvVr\n",
       "CXzdoKeTiUAreT08oce1PCeV8lLSuQTJ+aqWLj794oBvaHVLzmKe0UM7aaV531D08rtxCa4Y5DaS\n",
       "+bdZ5Y/meDWe3vXQSUY3SazyN7BfZV0rC801o0nEuQ+yT673rYNDP11QnYaN6IGdtGZxq3stsLWL\n",
       "I6s2xyau0utWKf38M3NQRdhtEUv4TPlAyYvSymQ4BVr5toYEAyqWvdbkF3wnrSVcksSCyC8GHAk6\n",
       "v6X6Ds+b/Sin3h1h6lU3gKRzSatIaWUiQ3YGh2mMNpfBUBs9jWmvuO7uIg6X3GuI4mbXPLtHaPmP\n",
       "Lxy36ZbV78adSz9CxPhCZTBO2cMMD07I8c0KsGuj9d/rj3nNtxoIvsFdk1h6RyvT6+g9JSItjgNn\n",
       "9osmidKKxj8JrduM2B/HBUNSssW3+s4iTRmnCxr6cAJjh9uioWC/WBW9W49C40LJWg9aedi04K1O\n",
       "oBlHed6gdnGEg4vo7s3X1WVZS78JcVRnlFZCYnYmFIvg4mJNq2t9txJY3XxB4O3iSCgOJVV/2ZBR\n",
       "cI+lkLWoVggXEYDXLpI213pLK9LPcaZoxS9xhJVHf9rmouQzWq/YpqigyrTeuhFV0q1lwpQBXzG0\n",
       "Av20etBkEUkBXGOMiAE1hVYonKMbAQS/5KWt0nkYSwor6QzAtKklg0RJ0aZDnJdAO4Wcacbts2RY\n",
       "HP2+sZbuESaBDnYXBm1UyrOh/rGuEmIPcLvXzDke9kQc/f4oLm56jkS7y9jxuQLftJtdy/y3x4S5\n",
       "8wiYlVaQPRBHvz9occuk50iuu60lRm6VkK1vXvInuKK0YhxMMnCyAbHvDQcwa+dqiYDUAmEe4LLv\n",
       "M4r+O/u8d0iiMOlOCWXuXGF74QrTuwpTgstIK82s997MQmvaVdbfZ5btatnqBgZD8wCHPDoPpULZ\n",
       "f6Iu2LSrbKDPLHMIjclzHC71YMFpaH1rO7ZKWo6h7cNNPnTiDvVAI6aN7WlrktD6MW72IZMgLAfe\n",
       "yaBRqDZb9kTFU9z0471vEEVLotf+RYxVx+JOPmwS9u1Aw3nUcry37KGnuPmHSuKTGniBaAHrd+Bg\n",
       "tjLtHHVzsCqS+CSGXnp1nbEnxvGMMli7JCSZglaWFDmYH/nKmOxERzid8wl8ldNez0Dre10r6H/L\n",
       "8opLunDB0bzCp/iIU8rC4NunuDNFu+KOLlz8ajiFwGy0qhkErkn2rPFjXxrs/czDFZd04W53tlnr\n",
       "DJ9yo8mOp6Pv83E+jku7cF9OwM/gBBCvzzxeKTmMe3Xhnp3APCHLJDvWjL/T2+tFTri0C3cjfhVY\n",
       "M3zgNf1mlfXDX1B1nZc44dIu3CMdwBN84FUkhiW8fcNV3UdxXxiwdHWm67Lio7ivE624PtOV4LvP\n",
       "4r7NWMXv2AvrtHk2R2Za82WwOtObapHP4r5KBvzSN5zBQIqppj97kcm7DvJ9n6c3nZcy038hP213\n",
       "VW88/ZT6s7iv8azyduY/depe8R+UmEoAAAAASUVORK5CYII=\n",
       "\" style=\"display:inline;vertical-align:middle;\" /></a></span><br>"
      ],
      "text/plain": [
       "alpha_l_eq2: {l in {-2^{t - 1} + 1 .. 2^{t - 1}}} |- alpha_{l} = ((1 / 2^{t}) * (Sum_{k=0}^{2^{t} - 1} (e^{(2 * pi * i) * (phase - ((b + l) / 2^{t}))})^{k}))"
      ]
     },
     "execution_count": 40,
     "metadata": {},
     "output_type": "execute_result"
    }
   ],
   "source": [
    "alpha_l_eq2 = summation_equivalence.sub_right_side_into(alpha_l_eq1)"
   ]
  },
  {
   "cell_type": "code",
   "execution_count": 41,
   "metadata": {},
   "outputs": [
    {
     "data": {
      "text/html": [
       "<span style=\"font-size:20px;\"> <a class=\"ProveItLink\" href=\"../_phase_from_best/thm_proof.ipynb\" style=\"text-decoration: none\">&nbsp;&#x22A2;&nbsp;&nbsp;</a><a class=\"ProveItLink\" href=\"../../../__pv_it/theorems/9509c1b21761796862688669cb8306f30f555fe20/expr.ipynb\"><img src=\"data:image/png;base64,iVBORw0KGgoAAAANSUhEUgAAAHwAAAAyBAMAAABsYqKRAAAAMFBMVEX////c3NwQEBAiIiKIiIiq\n",
       "qqp2dnZUVFSYmJhmZmbu7u5EREQyMjK6urrMzMwAAACjE6D8AAAAAXRSTlMAQObYZgAAAAlwSFlz\n",
       "AAAOxAAADsQBlSsOGwAAAq9JREFUSMeVVz9oE2EU/yWX5PLncomL4GJTBxV1CB5YBIWAnXRoBqGL\n",
       "mAOFgoMJiqXgYGkHEZQGXVIpNIPgZooOgoNmsIgO2k0nExCcCknBaj019S7fd1Ev997Zb8i78N7v\n",
       "vu/9+33vAHKl2mBW8hn4NcOrP9VZtWr2N3mcJ/TRPAu/LYRWpQymOHRoVMhMkbJQZhm4UhCyRboY\n",
       "PcTA56S8QJu8ZuD7pXw1fo0yaWVJdMSS6f1Zb1BWWoV2XaqiFsIFynmLhHdkySWayJhU4X0h4Vfc\n",
       "U5hokal7QsIPYJD2ZTJ1C1RU9C0X3k4eJPdoUIUT2XArfzZFVi3CVOhTOTc80zW/il467Jw7RXVN\n",
       "eIVtpxjeOwGJdSmvqnwzi2jGf1Fp9y+VD25ohNM6lfiSf67PuhHZFOI7ldE2C8cLcfpv0NtIvxui\n",
       "vYksC58sidD+QAJYvzPtVLfRX8Krcp2Dx5uq6JYjOA9UkPLaLbPwkWy0138wYCJed47w77ohxLa7\n",
       "nD/3DGOfYYzZT9ehC/hRFBABHhBwYvct6F0Jr+IjcN/rO3v4ZM/2Xh6+Zr/g4VCaymzke9CKMnTa\n",
       "y7e3Tg7ZTfz9Qi3rgV/E5IAV5rePBZRNw7t7bFzyl111Cb+eL60JuWfpOXBuuOpk7X61e9OvPjvi\n",
       "naEVlNd2n7jsbRmXk+yW6fjFKCMaVs0inMMqeU3ZnXPKl+ZFYsIW1A2QdO5Q2l5fPhBkpeah9tI5\n",
       "kjUotokPdlS6kcqjnVKavvmHdxKFS4TVSCHomsAY9Fp7p9cE7kqZ4Cj3Kqlpybq5yREufUUqIvFR\n",
       "E7tIm7gVpPoMnA6cAcjhJHR8cZEe35jhBAsOYSg2TzVJk6dMWDQzYGZF2mKU+mgQXCly2jNB8Kn/\n",
       "GImZszd5/SqvXucH8qDPgTfO729ChqoClor2dwAAAABJRU5ErkJggg==\n",
       "\" style=\"display:inline;vertical-align:middle;\" /></a></span>"
      ],
      "text/plain": [
       "|- phase = ((b / 2^{t}) + delta)"
      ]
     },
     "execution_count": 41,
     "metadata": {},
     "output_type": "execute_result"
    }
   ],
   "source": [
    "# Recall:\n",
    "_phase_from_best"
   ]
  },
  {
   "cell_type": "code",
   "execution_count": 42,
   "metadata": {},
   "outputs": [
    {
     "data": {
      "text/html": [
       "<strong id=\"alpha_l_eq3\">alpha_l_eq3:</strong> <span style=\"font-size:20px;\"><a class=\"ProveItLink\" href=\"../../../__pv_it/theorems/8bc9b38cf75c7371ab646fd064ad09fc02345f250/expr.ipynb\"><img src=\"data:image/png;base64,iVBORw0KGgoAAAANSUhEUgAAANYAAAAYBAMAAAB0Lx7ZAAAAMFBMVEX///+qqqq6urru7u4QEBBE\n",
       "RERUVFTc3NyIiIgyMjJmZmaYmJjMzMwiIiJ2dnYAAACPW0xlAAAAAXRSTlMAQObYZgAAAAlwSFlz\n",
       "AAAOxAAADsQBlSsOGwAAAeBJREFUSMdjYCAMOAugDOadDMQD8nTZwxgnemmuSxLOkqW6LiMFFG7d\n",
       "zTdk2IWmq7AAqyqOSQaoAhPJ8heqLp5UkKFv/6ApkkeyqmplDAPDZzx28VzGYg02XawJQIL7A5rK\n",
       "twgmewDDewUmBwaeUCAIx2KX2crPmFZh1cV3AUhwTcBtF1sBA4sDR4INhr+YNsACHItdWHWB7eJt\n",
       "gIi03r07Ad0uls8MbN+5Gh5j2MXYgMcurLrAdtUfAAtoNmPz1wUGtj88qw/A0tb8F8TYhVUX2K79\n",
       "kDCejC0MQd7+gC2R4bULqy6wXamoJQoDw0oUNecbyLELUxeHA5DwgNiFSEXeKGquMZBjF6Yu9o/A\n",
       "DPIdzDxyFwgCQGKZwFKDeS6IexcY4lwBmAZx3b17xffu3QTcdmHTZTYR4jcGBlO42KlgZBXbGMjx\n",
       "FzZdLxWA+RlcTPAiBMOQzXzAUE66Xdh0MQIV8m94ANbTgDUdnmNgaCbdLmy6+IDhx6/cgFZUIpdR\n",
       "t1atuoDXLj5IdDP/hBG4dIHSPPc6aNQFGWDaxfv///8J+OxiS/mZDWbcghM4dPEh264Xi1lG4QSM\n",
       "DQwkAj6s4UOMXfCyl0K7WhhoAbiwxkW9AC3sMsEaEuzLaGBZXSIDAwB4aaUFdo5x/QAAAABJRU5E\n",
       "rkJggg==\n",
       "\" style=\"display:inline;vertical-align:middle;\" /></a> <a class=\"ProveItLink\" href=\"../../../__pv_it/_proof__alpha_l_summed/b24c55b3d9a77450738aca8050be20478f5a62fb0/proof.ipynb\" style=\"text-decoration: none\">&nbsp;&#x22A2;&nbsp;&nbsp;</a><a class=\"ProveItLink\" href=\"../../../__pv_it/_proof__alpha_l_summed/25169d48c7fa8f2745b748c136974f0f4208855a0/expr.ipynb\"><img src=\"data:image/png;base64,iVBORw0KGgoAAAANSUhEUgAAAWYAAABLCAMAAAB0vd14AAAANlBMVEX///+/v7+urq6YmJgyMjJm\n",
       "ZmZERESIiIiqqqoQEBDu7u66uroiIiLc3NzMzMxUVFR2dnYAAADkd/AHAAAAAXRSTlMAQObYZgAA\n",
       "AAlwSFlzAAAOxAAADsQBlSsOGwAACDtJREFUeNrdXYuWnCoQNAHk/fr/n72o44zSIAiTuSrnJNll\n",
       "U46WTXUBrTsMfQ3L3+Ku2rQSxZ72RuxvcddtzpZ7Whvj4qe4KzeOyj1tTTQeKMJp8gSapdfFnrZm\n",
       "8VdwiD4inO1Y7mlpxstv4Kgi7BFZ0LNiT5NbwF044Zy1k0arlK4gfDueR1XuachjjcG84iZFJuE8\n",
       "RIJQQ6m6Hc3G02JPQ1CqPtzEtvZmYGRIZFJ2P5qHkZd7+u/dSRwSC82aIP0MmhnQYtatztaLfpzL\n",
       "knlHmgePyz0nva8f+3EmPyG9Jc02DM5Sz7mGGofDFqfHDctmXJu+Lc3Su2LPSblv1IwNbpr9af2k\n",
       "aB48L/ecG/uQBlOxJrXB6dEYQ8SjaB6BRoxdqoHiwSAswRUBvsFxP7XMjMph7244B6dAI2iXatjE\n",
       "3IRW0Gz9wxaaY7eKiz1nGvdDE83cD49uHnDgffuib0qaa2hO4p7UMBituGP8spRrrqCZ+fFnV9y+\n",
       "2CtVnLY0ZnWHJGBuTDrWNUhK2CtoJp028kw2YnnWitL2maauhmFmWBYZQyCOUEdk4dTkpIJm7H+1\n",
       "tMxcirXKcfDJWmR/CFraLjLAJ5sO58xTbrCCZt459yyE0ufg29VVfZTrGYU3nmHqzI5mvUYkFqXk\n",
       "44s9PQm1juYIh32m5QfnezMgdRM/EUxQkjV4Z4SERwvgldcXzWg9MiLFKzTFnupRlbxDZZpjHPPR\n",
       "OQgtqQ3zlvw4WzcDqtV1x1okBeGrVFYLISsDwBFCVPgTnAJ5u4VoTx6pKCIUkEXVLJQs6cvKNAOc\n",
       "9akjoYMzWzcDCh+EIWvbGfDGVCTOOYCt3N0QJdYTwpE6cxlnHzqUeurnlCm5c8UNc4hT3qeqRsiY\n",
       "s2brZsDyA7VojI4pIC7NGqBZ84QPkPQt2C+aHV3PYSly0Z/xCaa5rthT21zCpNgw2LFFJ3EmkJTC\n",
       "bAczSFLrZoAgQqPhcxEfmncxt2EtptnRwvY8kOJlK/jt7NA4aOp2ltUCE9tafmQbkQkc/QTj/nKS\n",
       "1my5NdNAF6E3/EO1cEtmfJG7fKuO5XClmYbTwYexBn7I+M7ZWaqZ4HobSRjEVuuqxujJ13CjP56A\n",
       "g43vZTPALNc2DmY+5PztRPPSvyrm3r8schQan/4K/5mbRV/2WwoZ97MOv52z49NAMTtSFaC5dYEB\n",
       "N9KcwolgLI6ORiJN2W0GBAchbUI04sQUFZCNq6Wdvj5ecogrzyTfOjvtCTHR6ORgvLbOT1Sjqidx\n",
       "MkQKq7NmQ7wZQOj7unc0A9HYF5CtoqH08dxlgJVn7+2G2dkFaZZqn6KB10XN8xPeSHMa54JPFiVr\n",
       "JixXZIg3A6ah+7FkH5rHiJyogGx8hyp1xyYUVJ6hcfthloZMsRPwA5pdmFmZc3TRRpppWkvyWeJl\n",
       "zQRXDPHqxPuuLZaMzlMLlTF0+VW6JHBjFeePmLTcIrOfcYHJgl/Mp5wuI4yf/X0jatNsRBdqpDmJ\n",
       "m+Q5NzxeEWrVrIS1K+RGfSRnUuAoj1ZkljQw0C53zi4xA8vQzOcIG8lARRiaVTriG2nO4cCke3NZ\n",
       "y71fgGP1x65rn3ryHkOmgOww9aWBWkXOLpFpkj1k6SZ4lhiG6+iqnKaLvRpkcSQrz4tnMC9TVZ0S\n",
       "Nks8k5VIF5CV7GcC+PE9xmdWQuMht/S8ZpuOz8mAuDqa/+6/TXvMKarIAW4/6aaHNDM9tfpttXFl\n",
       "h7Suj6WAmyUomY7mP4DmuUe8Ls8tgaZkjTb7xkWnPE7nPPwqGmdzrngREoKnLV0ngaOGzq4umlea\n",
       "+duwf1E0qnGUZwb1y5qRRVNOjHxNXyambRKWBFKdcHaA1GTPshiGgkSbWmn+ttOY0oQ5tmZCcSSp\n",
       "ulCFTEZecykwuGaEgskgU5VPnTQf0oz1eZzJj463NSPK4yvVISl5juY9tirJqDzNh7Kjcr6Zlq3Z\n",
       "xZpWQzvNvi5fgA0BTQgezVByhJmNBEzqrNmVGskEGgMLRbBnILSqRGaMDOzsc5yXg3YKO1ONe/WO\n",
       "ddbsUsGcO2cEEidqXgi10dKlnZng013D7ATuJbopoWLAml2qZe893Iejzcv68b4Ln72inbZBDpcd\n",
       "Uvs1KGnlEIut2aUazY4wuA/nmsuOYuS8sDM/ZyH5GVzWyjE+3LQRMGCJb80uKDkOlJ9314Q5gUs+\n",
       "byvaz+z/VxOQ5cfmAgKZ2neZH/gjdDhYKAe4hJXTzHrvzV1phlWC7XWDyaqjed3DEGRO4LDH26bU\n",
       "sjly4ypoWCXYUTeY2PQn43kcydXQodvS/NVyfQWKSJBtwz2saSCnuqPw1sbxNtesaH0a97QmQZKX\n",
       "Hc/40MgKmHl2R8VZ3OPad59Yi26RnupTSUU9rPT42TRbYCtsxwMKUQn6qzATn8U9rymQ71THA2sB\n",
       "rL+BQ8mFeueouyfLAuQ70fXQtmvMZTGOJ5zHVE8lx1vSzMCiDfM9b/2TjegIp1MaMtVpDl7fkebv\n",
       "SvPQ/lTwHgeqsIe1tojf8qVpkJXOp6dJ4xRyj1ursMm7wBgNZqZZ3dFgGzDGje97U2jra0/2OFCF\n",
       "PZ/ZHM13fNUiBQpBe5835bwfB6uw36Lh7ygamJd7Tt852Y17V2FvReO+KdCAEW76n1FvVZ0NDlZh\n",
       "zzdiMnR3fMEzfGec9d1vUHaNh9jgYBX2Oj0hN3zBswCBJ7z9wlHdT3E3SIC62NN0WPFT3OVNMyn3\n",
       "NC1QuN/irh7M4t/EE2scE+yeM+mSFqJiT+tUcPwt7tI24x+9833omBKrx+1VSfDsjPzer8MwjYcy\n",
       "j/uNHLDcWX1xd1nq3+Iuq8zysOc/rR9g5ViREckAAAAASUVORK5CYII=\n",
       "\" style=\"display:inline;vertical-align:middle;\" /></a></span><br>"
      ],
      "text/plain": [
       "alpha_l_eq3: {l in {-2^{t - 1} + 1 .. 2^{t - 1}}} |- alpha_{l} = ((1 / 2^{t}) * (Sum_{k=0}^{2^{t} - 1} (e^{2 * pi * i * ((b / 2^{t}) + delta - ((b + l) / 2^{t}))})^{k}))"
      ]
     },
     "execution_count": 42,
     "metadata": {},
     "output_type": "execute_result"
    }
   ],
   "source": [
    "alpha_l_eq3 = _phase_from_best.sub_right_side_into(alpha_l_eq2)"
   ]
  },
  {
   "cell_type": "code",
   "execution_count": 43,
   "metadata": {},
   "outputs": [
    {
     "data": {
      "text/html": [
       "<strong id=\"phase_01\">phase_01:</strong> <a class=\"ProveItLink\" href=\"../../../__pv_it/_proof__alpha_l_summed/dc85b277ffac7d32257ed6ac68a46a3d1c965da30/expr.ipynb\"><img src=\"data:image/png;base64,iVBORw0KGgoAAAANSUhEUgAAAHwAAAArBAMAAABIu/HCAAAAMFBMVEX///+YmJjMzMzc3NyIiIhU\n",
       "VFR2dna6urqqqqpmZmYyMjIiIiIQEBBERETu7u4AAAD7tRWPAAAAAXRSTlMAQObYZgAAAAlwSFlz\n",
       "AAAOxAAADsQBlSsOGwAAAi9JREFUSMellU1oE0EUx//ZzW42H25CwYMn9yR46oIgiIg5tDcpEUUE\n",
       "kQbxIgX14k1oLvXgpRZ62Yi0UBRLUXJQQVdIBW9VDIIHQXARvSlNt2JDDxs34yadWZrwxn2HNx87\n",
       "P2bm/+a9BWB+aYBivzZiE3rT6jW5eyQcq/GJw8wXazS8E7WZUtSpMz/rkehMEHWMctR5xvwMbXO9\n",
       "EcNVnzUPJy5S8Nz5yZqAp9o9b+56mzYB33xqbgu41mKjAIUyAZ/38FbA/1HZZRSrBDzU+U+42nVf\n",
       "b7huJZwYZ2fOVzFLCd0LZDrC7mf6YV/ySGHPBgL+yWS4Zb6hKO/jZ0nAt3QmYOkA6dWexWcx7jvf\n",
       "WeAuLOyzWK2/j0Xzx7WSiB8aIbiOW8MEMQhh1oarOUiZEZ/SFfyHDQ5mdhLh+OolwefmWwnw1LIW\n",
       "JMBP24Yvy3LZdBlKDzfX3J5ZQ5Fu38Tdt6C0xYXF7j425PCmH94+wd195GoJ8KuYk6BydgzXJ0bW\n",
       "r5VYFZXJplCaPVlP1D8CdwnZFNUB54kFYyCr2sKNm8dfXaFe8xT0HXXmUf8laDYK63hMVukc8I6L\n",
       "SiGAtg36+/7gYdouDrJRa0DzM+tk/BIwbd3mZ/LtdOWbRJSbmDS5LBgvZ8vX6bTyG4s6V0ueQ1mw\n",
       "6Hi+gqNjXJpKlpUH4vCgHJ0SS7BRxTEZ/A5U/vdzBJiSoJUq0pxu6kvHaUjgJx3nPq9jWHJk6kqz\n",
       "293dG/0FFKWpWaxxuogAAAAASUVORK5CYII=\n",
       "\" style=\"display:inline;vertical-align:middle;\" /></a><br>"
      ],
      "text/plain": [
       "phase_01: (b / 2^{t}) + delta - ((b + l) / 2^{t})"
      ]
     },
     "execution_count": 43,
     "metadata": {},
     "output_type": "execute_result"
    }
   ],
   "source": [
    "phase_01 = alpha_l_eq3.rhs.operands[1].summand.base.exponent.operands[3]"
   ]
  },
  {
   "cell_type": "code",
   "execution_count": 44,
   "metadata": {},
   "outputs": [
    {
     "data": {
      "text/html": [
       "<strong id=\"phase_02\">phase_02:</strong> <span style=\"font-size:20px;\"><a class=\"ProveItLink\" href=\"../../../__pv_it/theorems/8bc9b38cf75c7371ab646fd064ad09fc02345f250/expr.ipynb\"><img src=\"data:image/png;base64,iVBORw0KGgoAAAANSUhEUgAAANYAAAAYBAMAAAB0Lx7ZAAAAMFBMVEX///+qqqq6urru7u4QEBBE\n",
       "RERUVFTc3NyIiIgyMjJmZmaYmJjMzMwiIiJ2dnYAAACPW0xlAAAAAXRSTlMAQObYZgAAAAlwSFlz\n",
       "AAAOxAAADsQBlSsOGwAAAeBJREFUSMdjYCAMOAugDOadDMQD8nTZwxgnemmuSxLOkqW6LiMFFG7d\n",
       "zTdk2IWmq7AAqyqOSQaoAhPJ8heqLp5UkKFv/6ApkkeyqmplDAPDZzx28VzGYg02XawJQIL7A5rK\n",
       "twgmewDDewUmBwaeUCAIx2KX2crPmFZh1cV3AUhwTcBtF1sBA4sDR4INhr+YNsACHItdWHWB7eJt\n",
       "gIi03r07Ad0uls8MbN+5Gh5j2MXYgMcurLrAdtUfAAtoNmPz1wUGtj88qw/A0tb8F8TYhVUX2K79\n",
       "kDCejC0MQd7+gC2R4bULqy6wXamoJQoDw0oUNecbyLELUxeHA5DwgNiFSEXeKGquMZBjF6Yu9o/A\n",
       "DPIdzDxyFwgCQGKZwFKDeS6IexcY4lwBmAZx3b17xffu3QTcdmHTZTYR4jcGBlO42KlgZBXbGMjx\n",
       "FzZdLxWA+RlcTPAiBMOQzXzAUE66Xdh0MQIV8m94ANbTgDUdnmNgaCbdLmy6+IDhx6/cgFZUIpdR\n",
       "t1atuoDXLj5IdDP/hBG4dIHSPPc6aNQFGWDaxfv///8J+OxiS/mZDWbcghM4dPEh264Xi1lG4QSM\n",
       "DQwkAj6s4UOMXfCyl0K7WhhoAbiwxkW9AC3sMsEaEuzLaGBZXSIDAwB4aaUFdo5x/QAAAABJRU5E\n",
       "rkJggg==\n",
       "\" style=\"display:inline;vertical-align:middle;\" /></a>, <a class=\"ProveItLink\" href=\"../../../__pv_it/theorems/b38b045a9246dd5ac239f68f921874310f53aad00/expr.ipynb\"><img src=\"data:image/png;base64,iVBORw0KGgoAAAANSUhEUgAAAC0AAAAUCAMAAAAusUTNAAAAPFBMVEX///8NDQ0WFhYLCwsYGBiq\n",
       "qqq6urru7u4QEBBERERUVFTc3NyIiIgyMjJmZmaYmJjMzMwiIiJ2dnYAAABsuYCuAAAAAXRSTlMA\n",
       "QObYZgAAAAlwSFlzAAAOxAAADsQBlSsOGwAAAMhJREFUKM+VkusShCAIhd2Loal4e/93XZGp1bIa\n",
       "+cGEHT8PohBXgTBcTjGH82rQnSZZNPzp84ChW4KTQkBkOboBem0KHyufT4t2gDZtUbfKTJ2Yge2l\n",
       "RYuM9bgsL2y7Fg2b2pe8Nt1jrPH9UN74JidWk2Nl79F/daJkTq6xK4HVC7GtekBvXUrqslwP9L7f\n",
       "L3a/34vWPMSiK52mA/r4Qrzah5gX6NuUeLIWafKKxuLxCV2UmOwaRk9SJjERDibEfgodZ9Ai3P38\n",
       "AUNKCPHed8bwAAAAAElFTkSuQmCC\n",
       "\" style=\"display:inline;vertical-align:middle;\" /></a> <a class=\"ProveItLink\" href=\"../../../__pv_it/_proof__alpha_l_summed/cc6ad05d0bb0a1ff98ed9c320b3cb38775e2e7bd0/proof.ipynb\" style=\"text-decoration: none\">&nbsp;&#x22A2;&nbsp;&nbsp;</a><a class=\"ProveItLink\" href=\"../../../__pv_it/_proof__alpha_l_summed/982ff2da4287bdbea875868642441cc3d7d688190/expr.ipynb\"><img src=\"data:image/png;base64,iVBORw0KGgoAAAANSUhEUgAAAQsAAAAyBAMAAAC5eeOwAAAAMFBMVEX///+6urqqqqpmZmbu7u6I\n",
       "iIgiIiIQEBDc3NwyMjJ2dnaYmJhUVFTMzMxEREQAAAC0ii6rAAAAAXRSTlMAQObYZgAAAAlwSFlz\n",
       "AAAOxAAADsQBlSsOGwAABMBJREFUWMOtmV+IE0ccx3/Z2/y5ZDfxoVAKwuWppSJECLVchbovRYTa\n",
       "5KFSKIceVSO2V+5etKJiA4KWPtTDii1SSqDVt3KBPpRC5YJolRPMQh8KviRQqH2oNHeuEBvS6+zO\n",
       "7N7+mZn9LXf7kAm785n9zvx+8/v9MgEgV9GETV7vGOJnT7Dkg82qAP2o8JHWRpJay/5UH8/iJn4q\n",
       "dCM/TxbzZWH/FdGDm2On8cifaTO5CzfzL8M3lm0tHUHvwqJonMKAzoKRudO0LZVxMtZYm3JXe9r+\n",
       "+EjQ+1JTNM4EE8jITJ22UwZKRcpiXxTGwTH74xUBfUw4kPteRv7k2gq3GPnZkIzcWGLSwoJwoMtm\n",
       "wBnOsNvfHLyNkTF5d6YckEFtnBpye2dbwoGW3eV1yDRbZPW5UWsiZNSuqsOADK1PZ8HtfVhs6Yfu\n",
       "F4fMME9VLMjWETIqBpwMyGBUhfvCOfFAJ30jAvRMz3FLLYQMsi/+Jb0bjeOnGg17Cj26hjXeHPSx\n",
       "OG55VnTIe67jtmAKs2U/hNRaYDXeo02RF/00sYemvUcOeQ68sLHXQIWNCSsg42+VeirPR7Md4TjF\n",
       "jvs2m9RHrgxTPYvZKWPY1w7IGOWpi484nXvihFJquy5gk+mhl4KKqGj+AP4Ixo3Vt2h7jrdRxHuv\n",
       "9ILnTIQsuiZSV/ZwOuemz4dGevu7dlDGj2xWf3Lwx7S58NVf0cD2hveVkNm+PGbCdpHDKKGtscTp\n",
       "c542rdQd2UsIWZNbQhN7bSpk9+VtkS7qU9rekduZkL269BXpDrr04YykP6PtTCxZKUsXXF1Dy+Cs\n",
       "q8LoWjmOXDbldv/HwMooRReuwIJo0Yoj+VvKk7Gz0kfLiPZk0UC5/V8cuWTIZBQWNQsrI0urqd0N\n",
       "+6IpLW+xKrNrxJB7pTIuN5UxVkYmmlRo2M8NoWLGkF26LOvssksYX/Z8SHOkes2Zounv6b/oYNE0\n",
       "pg1YQeKk8f3OIB/btyJkVxqaRqAP0KshklFqQy+OlBpFHUsKfIFR/L5BjVIz3d8gYnJJulPGMFlO\n",
       "6KKBVDCkuRuuxJGH/c7zdVjGDdgpq46bMbVF2vHvfF3pSHlC+sOXOgjLyB+U1YW14O7fJQpfN96X\n",
       "84Ss0ISUq35rgrIoyp6R68I0+aH+anDQqGJlFcUTktVHX0B+NXfzuinInpEyhMS9bZ+f+CEutY1Q\n",
       "PCHZUt4H+CSBO2pNyC6EHI+XJJ+ieEJmqCE+NaDbLKHTWNYCbQhWbMF3AsUTkpXwvwJ0zRfRSV2b\n",
       "BW2cCsYrXiC8h+IJWfCmNA8zaoLTp8wg3TnAKfiCdZWB4Qmpr21USq/lDbyMXn2i/r3f657xOpUR\n",
       "vEO6dT35LfvbrQTHXXOg7/EvXtKfSxu8Q77Obr+Z7NBtoh81N6fXAoJ3yCkavwqdZDJ+iZRQvIiX\n",
       "WkXwDpmhgWMH5JoJVCgt+AzjjUcQvEPSraK3IJ3AP+ERwLuYkwzRVvHzcxuHTher1d0JVOSOVKtB\n",
       "X0h26OTnGekInl9ff55ARobUb4uhcwL+EZwVyzNysgVbcImOM69jSf30Vsj4QHD/9yaWPLQFKoSH\n",
       "1ek+ltS2wCovCZ+soMkrm1ahXxUXrGUsufm/dfZLYs4TBPk/us9+NrNm98UAAAAASUVORK5CYII=\n",
       "\" style=\"display:inline;vertical-align:middle;\" /></a></span><br>"
      ],
      "text/plain": [
       "phase_02: {l in {-2^{t - 1} + 1 .. 2^{t - 1}}, l != 0} |- ((b / 2^{t}) + delta - ((b + l) / 2^{t})) = (delta - (l / 2^{t}))"
      ]
     },
     "execution_count": 44,
     "metadata": {},
     "output_type": "execute_result"
    }
   ],
   "source": [
    "phase_02 = phase_01.inner_expr().operands[2].operand.distribution()"
   ]
  },
  {
   "cell_type": "code",
   "execution_count": 45,
   "metadata": {},
   "outputs": [
    {
     "data": {
      "text/html": [
       "<strong id=\"alpha_l_eq4\">alpha_l_eq4:</strong> <span style=\"font-size:20px;\"><a class=\"ProveItLink\" href=\"../../../__pv_it/theorems/8bc9b38cf75c7371ab646fd064ad09fc02345f250/expr.ipynb\"><img src=\"data:image/png;base64,iVBORw0KGgoAAAANSUhEUgAAANYAAAAYBAMAAAB0Lx7ZAAAAMFBMVEX///+qqqq6urru7u4QEBBE\n",
       "RERUVFTc3NyIiIgyMjJmZmaYmJjMzMwiIiJ2dnYAAACPW0xlAAAAAXRSTlMAQObYZgAAAAlwSFlz\n",
       "AAAOxAAADsQBlSsOGwAAAeBJREFUSMdjYCAMOAugDOadDMQD8nTZwxgnemmuSxLOkqW6LiMFFG7d\n",
       "zTdk2IWmq7AAqyqOSQaoAhPJ8heqLp5UkKFv/6ApkkeyqmplDAPDZzx28VzGYg02XawJQIL7A5rK\n",
       "twgmewDDewUmBwaeUCAIx2KX2crPmFZh1cV3AUhwTcBtF1sBA4sDR4INhr+YNsACHItdWHWB7eJt\n",
       "gIi03r07Ad0uls8MbN+5Gh5j2MXYgMcurLrAdtUfAAtoNmPz1wUGtj88qw/A0tb8F8TYhVUX2K79\n",
       "kDCejC0MQd7+gC2R4bULqy6wXamoJQoDw0oUNecbyLELUxeHA5DwgNiFSEXeKGquMZBjF6Yu9o/A\n",
       "DPIdzDxyFwgCQGKZwFKDeS6IexcY4lwBmAZx3b17xffu3QTcdmHTZTYR4jcGBlO42KlgZBXbGMjx\n",
       "FzZdLxWA+RlcTPAiBMOQzXzAUE66Xdh0MQIV8m94ANbTgDUdnmNgaCbdLmy6+IDhx6/cgFZUIpdR\n",
       "t1atuoDXLj5IdDP/hBG4dIHSPPc6aNQFGWDaxfv///8J+OxiS/mZDWbcghM4dPEh264Xi1lG4QSM\n",
       "DQwkAj6s4UOMXfCyl0K7WhhoAbiwxkW9AC3sMsEaEuzLaGBZXSIDAwB4aaUFdo5x/QAAAABJRU5E\n",
       "rkJggg==\n",
       "\" style=\"display:inline;vertical-align:middle;\" /></a>, <a class=\"ProveItLink\" href=\"../../../__pv_it/theorems/b38b045a9246dd5ac239f68f921874310f53aad00/expr.ipynb\"><img src=\"data:image/png;base64,iVBORw0KGgoAAAANSUhEUgAAAC0AAAAUCAMAAAAusUTNAAAAPFBMVEX///8NDQ0WFhYLCwsYGBiq\n",
       "qqq6urru7u4QEBBERERUVFTc3NyIiIgyMjJmZmaYmJjMzMwiIiJ2dnYAAABsuYCuAAAAAXRSTlMA\n",
       "QObYZgAAAAlwSFlzAAAOxAAADsQBlSsOGwAAAMhJREFUKM+VkusShCAIhd2Loal4e/93XZGp1bIa\n",
       "+cGEHT8PohBXgTBcTjGH82rQnSZZNPzp84ChW4KTQkBkOboBem0KHyufT4t2gDZtUbfKTJ2Yge2l\n",
       "RYuM9bgsL2y7Fg2b2pe8Nt1jrPH9UN74JidWk2Nl79F/daJkTq6xK4HVC7GtekBvXUrqslwP9L7f\n",
       "L3a/34vWPMSiK52mA/r4Qrzah5gX6NuUeLIWafKKxuLxCV2UmOwaRk9SJjERDibEfgodZ9Ai3P38\n",
       "AUNKCPHed8bwAAAAAElFTkSuQmCC\n",
       "\" style=\"display:inline;vertical-align:middle;\" /></a> <a class=\"ProveItLink\" href=\"../../../__pv_it/_proof__alpha_l_summed/276777102b04d9794aeda222377c5ca7f0e301220/proof.ipynb\" style=\"text-decoration: none\">&nbsp;&#x22A2;&nbsp;&nbsp;</a><a class=\"ProveItLink\" href=\"../../../__pv_it/_proof__alpha_l_summed/c042f88288db8461e12b3ccc4419d44ce31a16a00/expr.ipynb\"><img src=\"data:image/png;base64,iVBORw0KGgoAAAANSUhEUgAAAT4AAABLCAMAAADefhvEAAAANlBMVEX///+/v7+urq6YmJgyMjJm\n",
       "ZmZERESIiIiqqqoQEBDu7u66uroiIiLc3NzMzMxUVFR2dnYAAADkd/AHAAAAAXRSTlMAQObYZgAA\n",
       "AAlwSFlzAAAOxAAADsQBlSsOGwAAB6dJREFUeNrVXOmipKwO9F72Hd7/ZT/XbiUgCI7H5s+ZZrps\n",
       "LZNQCdFh6BtYPYt7ehgtizPtg7hncc8P78ozrYML+SjuL4ZA5Zm2IRsPFOEMeTN9KpjiTNtw+BYc\n",
       "Yq82P0fLMy3DBnUHjmnCX716BF6caVo9cRdOeu/cFAN1yr8Rfg1/VJdnGuJ/o/FtuCnikfE8ZIIo\n",
       "y5h+DX02sOJMgxHpPtzEogl24GRIrED8PfQNVJRn+u/JRRySC32GIPNu+jiIdbw7+rkg+3E+S9Kb\n",
       "6BsCLs9c1G6B9uNsPgF6FX1udJLSzLWBGs13jzN0x56l2zCvo08FX5y5GE4bfXeHm7INY37B+oYg\n",
       "yjPXfBBenq2oRexwhlprifwJ+ijwVdrlvSg2XukIrjDIHU6EaWSUvsfBvyiXY8BXWZf3uoRmZhX0\n",
       "ufAjhb5YbeHizJUhwtBEnwjDT44Ari2E9qJbKvTV0JfE/cLAwGtwhx/xlOqroI8H+tgVmzu/SkCO\n",
       "RTryXpIKnBX0kU65dCXaF3Spwd8vqCITCNx31GEJOCWaK+jD4anSHi/eJ7qzOVYqm1ug82yH8hMp\n",
       "1VNBn+jMdQom8j34pwrGs1Z4uHosS0E7FGd6FqI6+iIcDpmRd6ZPkTVFyNfiCNrKOirzbXPwPUSK\n",
       "Z26LM9WhNsl8mb4Yx0N0DtIo5kY9nfeLrchaMvPt69lVAR29O9r7Qzq6gxqEHd0ciHhSf5TpAzgX\n",
       "UkdCJ2e2FVkLP7T5rsomkuSoO3AU/YSKozYbSjP1OUxKcvviBh7E6RBSu86E5nTFVmRd/kMvvm5i\n",
       "CshmWkbk1kctD7do2fw2Xz8B6ZIvztQOn1i03eh02KGLODtefAqzdzoQ/LciqyTSoMEnLGj7l2fZ\n",
       "7UDPDjd72Zr6KBhEB8P8QXI5IMJa2w1cIzKBY1/jOTpwXoLMlR05zo5/mJF+WVFW0paPemGcjT+H\n",
       "62yEi4OCccxwKcz+zmNgC61ZLw3kNhwN54kc2Ihbiqx2uTY62PmQ88eJvmV+jVzCLn58LMUeF/mP\n",
       "GxwUjJhM3h7I0oC+1gQUN9KXwslxoT07Gol8+1BkHdWHcgnnXeiTEyU0n5ruu0OU2CsYEwixkZcI\n",
       "4Detulk3Rs0kTo0mwMsS5EPYvshK2Oe6D/StzqvNmJudyOzd0vkpz84KZgx9Sh+XLKDVULNuFo30\n",
       "pXF+1HmyJEGkE5oMcZF1crWvNPnSR9lqXsznxdShOwTR/UEcGyPs4Ovo86OSt9doYI30sbRP56Pw\n",
       "KkGk0ByJ6gXrvAdPcTarPg1/Z4VOMdIhe1T4QMSGRTyp6fRGOz+6ENG74SIaUCN9SdwU/nLmvFqU\n",
       "03NEqq1QWl1ISaaweFiUtDoomITiz9AnZougZGBydJEqfw6N9OVwIHnbXdZyTxcgrf5Zbc/Le3ak\n",
       "cN8dYnSkYBIROjlDlmmCZ1fnuI6GynRPHr0yiyPZ8LesoXZVGdUht1QCmNbjfXfId323IVOxik1/\n",
       "mVmzGi/mIEt8HX3/P36Mx9cKyAnumLyxU/q4mUb99gI9TSAjVbIvv6i09f0P0DfPyPW0/WIYWtXE\n",
       "vtBYbMjjTE6Dbs57da2SZ7Xg0VJYjuzMBnPO+jb6xEdo3ui81TgmMtayShCy+PaV/Qt2ot6jTGef\n",
       "/iKaoy85sxQ30BgCbW3ou3vlncKwPZcgUgukmH5g5zwTvnJLx6j6EBoXXTLt6teFvlP6sLmOs3lr\n",
       "/kgQogN+ou9Aq2v0HbFVwVnn6Tt1f53TfaxRgtw/jB7a6QtD1Q0GhVZDCKZ2KCmfTIEWkw4Jcrfv\n",
       "ZgyDgwIBnBlT8KqtcxoJsHnd90ENxmvsbTVunaUdEuRu48udCwLSADUXrFxUYnLzFYrpbmB+AbcG\n",
       "tVTA4HUS5O6RvVdwn4E1l0vjOrWYNZGbysanaWmqvo2SkgXxKgly92BZS4f7DL65zSBGzgn93O+r\n",
       "xBVcVrJwMbxsEOA4JLRGZZS0Wx3m3QVpL+CSzzfJ9jP7d14NVj3avFGpUnXq+YENwoaTAiXAJSSL\n",
       "4S6EYN9GH+zOae/XSXYZzHmxJchewOGA90PrpZj8wi5A2J3T0a+T2Fwk9DqO5Hpc0Ovou7W9VIPN\n",
       "Z+TacD8yDAhXpqNBzcX2Me9lG3MZ9ytDgUVPdfSGs2hptHM2weRV3M+Me59MiKg3mkxDN9zEHxkO\n",
       "LLOuo1E2aq1cG53wVdzvDA3WCd3xYMIINnfgULIA6j3z72JPgnVCdj3U5hvXgBgnEivx1Duh6Kvo\n",
       "4yBZ56HnbTiqER3hTMqXp76oIZg30Xdv6Bvan6464kAX4rD1EohXvZwEXm3n02WkMWU54rYuRPJp\n",
       "wENj7jy/neRNAtECX7Oh701WrY9TH3GgC3E+s9n63vRqIQY8lfU+3yNEPw52IX6cN7zJebEoz1y+\n",
       "I6ob9+lC3Dvv+5YOCzzN9j+b1+r9OxzsQpwJnoTLm17wB9+54kL3G/R84yF2ONiFuMlm8qIX/Elg\n",
       "KDK4G47qH8X94cJhijNNh5WP4v5M9JHyTFMC65/F/ZXxyX9z/3mjDfN3ZWSlWIOKM62pB30W9yfL\n",
       "7j969+bQkVrpn6nZK9Bzre577a9tPJT9mTcPw3Y/feNulzLP4h6PfOp05j9bLVsM234nawAAAABJ\n",
       "RU5ErkJggg==\n",
       "\" style=\"display:inline;vertical-align:middle;\" /></a></span><br>"
      ],
      "text/plain": [
       "alpha_l_eq4: {l in {-2^{t - 1} + 1 .. 2^{t - 1}}, l != 0} |- alpha_{l} = ((1 / 2^{t}) * (Sum_{k=0}^{2^{t} - 1} (e^{2 * pi * i * (delta - (l / 2^{t}))})^{k}))"
      ]
     },
     "execution_count": 45,
     "metadata": {},
     "output_type": "execute_result"
    }
   ],
   "source": [
    "alpha_l_eq4 = phase_02.sub_right_side_into(alpha_l_eq3)"
   ]
  },
  {
   "cell_type": "markdown",
   "metadata": {},
   "source": [
    "We want to evaluate the summation as a finite geometric sum, but we need to establish that our exponential base $e^{2\\pi i (\\delta - 1/{2^t})}$ is not equal to 1, which is proven elsewhere as a theorem called `_delta_diff_exp_not_one`:"
   ]
  },
  {
   "cell_type": "code",
   "execution_count": 46,
   "metadata": {},
   "outputs": [
    {
     "data": {
      "text/html": [
       "<span style=\"font-size:20px;\"> <a class=\"ProveItLink\" href=\"../_delta_diff_exp_not_one/thm_proof.ipynb\" style=\"text-decoration: none\">&nbsp;&#x22A2;&nbsp;&nbsp;</a><a class=\"ProveItLink\" href=\"../../../__pv_it/theorems/18ead2d10a69b60cc0afdf83650c8ca199a2f7520/expr.ipynb\"><img src=\"data:image/png;base64,iVBORw0KGgoAAAANSUhEUgAAAYQAAAAmCAMAAADzwBywAAAARVBMVEX///8NDQ0WFhYLCwsYGBg2\n",
       "NjYbGxsSEhKIiIgiIiIQEBB2dnbu7u5ERETMzMzc3NwyMjK6urpmZmaYmJiqqqpUVFQAAAA0WiBi\n",
       "AAAAAXRSTlMAQObYZgAAAAlwSFlzAAAOxAAADsQBlSsOGwAABP5JREFUaN7lW4uWoyoQdB93l/cb\n",
       "/v9TV0AUFASzs0lu5JyZSU4iItVd1V0603SjocxDh/F/8E0/iCDT7YayDx0GzqHjYvtcgkszM3g7\n",
       "FLR46DCDO1+gWfwDfW1J9mYYMPRQ2JEudCh/c5FhqLkXCAJfiFC2cdgS26bFSpwWR6prEKNbEZJx\n",
       "5eUSjK1t7QDC+zjXRDa+rUtwL+6quhUhwV0i+IhVsI/dwkaqWfgoWSbcNVXgjt8HA7ZLhMlJvwOs\n",
       "G6kLdrJZyEBS8BS+GNoU3wcES/csQjIQOHRh8EM4p1cc0cbMGPC/qcE0ug8IrsYSeKEjogjXE65x\n",
       "CjTLTjMnx7SnvqmKNPloPsOWPUZ/LgasRr2hVyLz3s9/ACd4EewFhPgeha0HtlpduWKkM1XPT5td\n",
       "GlS5rogPlgjtarUlCe1DuGw6MbW0EzyCED+IICAW1YHRNMq94lthKquZQDPxIVaJTKHUzF/MVuvd\n",
       "T5OEI1P7jeN8u3hpm3REPIT0hI70ZleYWsXFdmoNMhCAy3o8/MnNG7LHPGCMrUytQBHCGwg0bC/k\n",
       "Ez8RXAA3a1DTjrOxB8H46kAvJxQfjMHk8EYGyLPwhDIej5GY8fQGQqw4uQK4pqzSgEDn8FjTFl/b\n",
       "h0AOAvPKPCHoB/roenUtjgiCRqPxWp7Bjm3kqSr3l2CFtQ5qm4NAwtpUEA163cTgqip1D46vna1S\n",
       "B0ZxgOHt+MzwrJ/jXr9nRlFTApnnoKkQ3vDnD//bNkCYnGc8btOvqjOiR+QoRo35G3+8ORvDZZHd\n",
       "tMjISYVqipSg49V4z5Hzes2VTrGu9EAi7EDAKQmwjIS5K+VYpeBK1lcuR2sLX9ub0yZyZLbSCqB5\n",
       "tZetN14CxuBIrDJ1Wmyp6S9wLz2t3BXbZW9FEY4wliCEzw1YZTn6VQxYGisyU9m/1fqCFR/lGLAM\n",
       "gDNeHZmtXAWt+GtrLvt8krSZCfML7seFjCVnpfss16CHWKX/qoAwI5C4IGi72uCtgZCsryhHXMUh\n",
       "9yDQ89L5ymxtELJaxPLUVk2H9jijI3CZJ3n7EDEnVX5xpY0UNeH7t6gM55rgW4TULHhtz2/R1UBI\n",
       "1lcmR7VMGARhZLY2CFstIvG0Si4yB2FOc6vo9z/RHKjdaytB0ItFaFO5tEu/Fp176yuTo0Q8KOv4\n",
       "BkEYmU3CliZ4SVDBR/g9/+jFsYZ7OMmaAAQiLQEET8PA1IQdZ7m6Vm6WbSEnsytggjWq5z6pjoPQ\n",
       "n02AaoplKbKkbwQBHfYYqYwjnAAvTQRrkRNWr1S56yw8xWoRLSrjLY/llt7OuOpV8CE2EQ2x2Qdh\n",
       "oB8w+bbRiiSk9I105A4OjHiVMdZ9VuNw33WmWDKX5Tl52UZbxflXZcLAbBw16MivN0D+678F8row\n",
       "z1LwIhD6T1/g/e44X3DlgVkT5tL6ughCcOkJvjZbU5jdUiBuLiUAFavGW9mveapB9xsSul+tAjJs\n",
       "yykIpfXVBYFj4TDYuj++evjDszVBCOstPZe5WatAStxrPOIB7XS60cT63G42a6Od5hcSqzif2PSF\n",
       "lqqXgNB9kGBu5rvELuHD51fPA2EgUt72fjoeWPwzq7lmOAlzCoIZuAVPBu/TP32gEZ5kL7/hxnc5\n",
       "zf9ZxL1ggBs98ZJcpf9nInzO0O+YCkBM9xri/Z6r4ojfDAQC+dut6Gb/nuDj7t3+R4zq6X6Dv5c2\n",
       "k1Q1/wEzF0gT8wEByAAAAABJRU5ErkJggg==\n",
       "\" style=\"display:inline;vertical-align:middle;\" /></a></span>"
      ],
      "text/plain": [
       "|- forall_{l in {-2^{t - 1} + 1 .. 2^{t - 1}} | l != 0} (e^{2 * pi * i * (delta - (l / 2^{t}))} != 1)"
      ]
     },
     "execution_count": 46,
     "metadata": {},
     "output_type": "execute_result"
    }
   ],
   "source": [
    "_delta_diff_exp_not_one"
   ]
  },
  {
   "cell_type": "code",
   "execution_count": 47,
   "metadata": {},
   "outputs": [
    {
     "data": {
      "text/html": [
       "<span style=\"font-size:20px;\"><a class=\"ProveItLink\" href=\"../../../__pv_it/theorems/8bc9b38cf75c7371ab646fd064ad09fc02345f250/expr.ipynb\"><img src=\"data:image/png;base64,iVBORw0KGgoAAAANSUhEUgAAANYAAAAYBAMAAAB0Lx7ZAAAAMFBMVEX///+qqqq6urru7u4QEBBE\n",
       "RERUVFTc3NyIiIgyMjJmZmaYmJjMzMwiIiJ2dnYAAACPW0xlAAAAAXRSTlMAQObYZgAAAAlwSFlz\n",
       "AAAOxAAADsQBlSsOGwAAAeBJREFUSMdjYCAMOAugDOadDMQD8nTZwxgnemmuSxLOkqW6LiMFFG7d\n",
       "zTdk2IWmq7AAqyqOSQaoAhPJ8heqLp5UkKFv/6ApkkeyqmplDAPDZzx28VzGYg02XawJQIL7A5rK\n",
       "twgmewDDewUmBwaeUCAIx2KX2crPmFZh1cV3AUhwTcBtF1sBA4sDR4INhr+YNsACHItdWHWB7eJt\n",
       "gIi03r07Ad0uls8MbN+5Gh5j2MXYgMcurLrAdtUfAAtoNmPz1wUGtj88qw/A0tb8F8TYhVUX2K79\n",
       "kDCejC0MQd7+gC2R4bULqy6wXamoJQoDw0oUNecbyLELUxeHA5DwgNiFSEXeKGquMZBjF6Yu9o/A\n",
       "DPIdzDxyFwgCQGKZwFKDeS6IexcY4lwBmAZx3b17xffu3QTcdmHTZTYR4jcGBlO42KlgZBXbGMjx\n",
       "FzZdLxWA+RlcTPAiBMOQzXzAUE66Xdh0MQIV8m94ANbTgDUdnmNgaCbdLmy6+IDhx6/cgFZUIpdR\n",
       "t1atuoDXLj5IdDP/hBG4dIHSPPc6aNQFGWDaxfv///8J+OxiS/mZDWbcghM4dPEh264Xi1lG4QSM\n",
       "DQwkAj6s4UOMXfCyl0K7WhhoAbiwxkW9AC3sMsEaEuzLaGBZXSIDAwB4aaUFdo5x/QAAAABJRU5E\n",
       "rkJggg==\n",
       "\" style=\"display:inline;vertical-align:middle;\" /></a>, <a class=\"ProveItLink\" href=\"../../../__pv_it/theorems/b38b045a9246dd5ac239f68f921874310f53aad00/expr.ipynb\"><img src=\"data:image/png;base64,iVBORw0KGgoAAAANSUhEUgAAAC0AAAAUCAMAAAAusUTNAAAAPFBMVEX///8NDQ0WFhYLCwsYGBiq\n",
       "qqq6urru7u4QEBBERERUVFTc3NyIiIgyMjJmZmaYmJjMzMwiIiJ2dnYAAABsuYCuAAAAAXRSTlMA\n",
       "QObYZgAAAAlwSFlzAAAOxAAADsQBlSsOGwAAAMhJREFUKM+VkusShCAIhd2Loal4e/93XZGp1bIa\n",
       "+cGEHT8PohBXgTBcTjGH82rQnSZZNPzp84ChW4KTQkBkOboBem0KHyufT4t2gDZtUbfKTJ2Yge2l\n",
       "RYuM9bgsL2y7Fg2b2pe8Nt1jrPH9UN74JidWk2Nl79F/daJkTq6xK4HVC7GtekBvXUrqslwP9L7f\n",
       "L3a/34vWPMSiK52mA/r4Qrzah5gX6NuUeLIWafKKxuLxCV2UmOwaRk9SJjERDibEfgodZ9Ai3P38\n",
       "AUNKCPHed8bwAAAAAElFTkSuQmCC\n",
       "\" style=\"display:inline;vertical-align:middle;\" /></a> <a class=\"ProveItLink\" href=\"../../../__pv_it/_proof__alpha_l_summed/cd23acf9a2aedd69555365af028f905e5a68d9310/proof.ipynb\" style=\"text-decoration: none\">&nbsp;&#x22A2;&nbsp;&nbsp;</a><a class=\"ProveItLink\" href=\"../../../__pv_it/theorems/2cd54318b98124018e69cc6126a3d22285df188a0/expr.ipynb\"><img src=\"data:image/png;base64,iVBORw0KGgoAAAANSUhEUgAAAIwAAAAdCAMAAABPJHTqAAAAPFBMVEX///8NDQ0WFhYLCwsYGBgy\n",
       "MjK6urqIiIh2dnbMzMxERETc3NyYmJiqqqpmZmYiIiIQEBBUVFTu7u4AAABdz/weAAAAAXRSTlMA\n",
       "QObYZgAAAAlwSFlzAAAOxAAADsQBlSsOGwAAAg9JREFUSMfNV9uWpCAMdHeWa4Bw+f9/HRFsQRFs\n",
       "zzjbebClRahUKglO0x2DB2beNab7AMj2nLKHsWg+mCALPph6FIsnoxm2HBD/4wiUeN2a7Ks+ixbI\n",
       "6k1zy2POnTtzw/K938rTk9mqDqO9Q030wOBYMTlK5jRRDK2G5I5qwrwGBDHEnP2meOYx+ip+3N2R\n",
       "hS/AAIbF4ODeegdWnizEWUWaIjd1ynOYvPGgJt7iGnXeUQR6rRLYNsMjKYlIvZ8xzD8MPM/CzmDS\n",
       "2C4Q2Mw9OdabUFleNDS3kseddzkZ/xF2YVlOIiXlMo5g0oMExoqkHiFXq/UMW0LTJjOyEKd3hoQd\n",
       "mLgAwFYsqDsNk4/eyk6Y1NYGdCtDxU7VbAcGpBDiFUnDKpc2MHLZBmFuQZ3uheaVUUoOOkYJxjuL\n",
       "kVRbxDlV8SKOG5iUqWAYbymQaraUGTzWgmraPt0zGG9RK3u9FggctKUYwrJ/YSOaBNpgXFwcwvWa\n",
       "jaJ/fhEzIG2mlUoowRtc7N9XvLojmLC8Ja/X7FHni7oGo2DXV7vEZDAi1wR+vTLK7vHNiE4Lz4o5\n",
       "urOC0RDtjdbqZa+G+4mNkB+JeYXp/YMhnL9CZpJLkdRtKmnm75+knIZmTDpvPH9y7p791tRGqyhD\n",
       "9mtYdCsB+Ho+MBgI+6/EOGcDcWr6ddN8+hx74Gvh/mfGJxGDH0TM1Gts34D3GEnUBFdGAAAAAElF\n",
       "TkSuQmCC\n",
       "\" style=\"display:inline;vertical-align:middle;\" /></a></span>"
      ],
      "text/plain": [
       "{l in {-2^{t - 1} + 1 .. 2^{t - 1}}, l != 0} |- e^{2 * pi * i * (delta - (l / 2^{t}))} != 1"
      ]
     },
     "execution_count": 47,
     "metadata": {},
     "output_type": "execute_result"
    }
   ],
   "source": [
    "_delta_diff_exp_not_one.instantiate(assumptions=_delta_diff_exp_not_one.all_conditions())"
   ]
  },
  {
   "cell_type": "markdown",
   "metadata": {},
   "source": [
    "Now we're ready to evaluate the summation as a finite geometric sum:"
   ]
  },
  {
   "cell_type": "code",
   "execution_count": 48,
   "metadata": {},
   "outputs": [
    {
     "data": {
      "text/html": [
       "<span style=\"font-size:20px;\"><a class=\"ProveItLink\" href=\"../../../__pv_it/theorems/8bc9b38cf75c7371ab646fd064ad09fc02345f250/expr.ipynb\"><img src=\"data:image/png;base64,iVBORw0KGgoAAAANSUhEUgAAANYAAAAYBAMAAAB0Lx7ZAAAAMFBMVEX///+qqqq6urru7u4QEBBE\n",
       "RERUVFTc3NyIiIgyMjJmZmaYmJjMzMwiIiJ2dnYAAACPW0xlAAAAAXRSTlMAQObYZgAAAAlwSFlz\n",
       "AAAOxAAADsQBlSsOGwAAAeBJREFUSMdjYCAMOAugDOadDMQD8nTZwxgnemmuSxLOkqW6LiMFFG7d\n",
       "zTdk2IWmq7AAqyqOSQaoAhPJ8heqLp5UkKFv/6ApkkeyqmplDAPDZzx28VzGYg02XawJQIL7A5rK\n",
       "twgmewDDewUmBwaeUCAIx2KX2crPmFZh1cV3AUhwTcBtF1sBA4sDR4INhr+YNsACHItdWHWB7eJt\n",
       "gIi03r07Ad0uls8MbN+5Gh5j2MXYgMcurLrAdtUfAAtoNmPz1wUGtj88qw/A0tb8F8TYhVUX2K79\n",
       "kDCejC0MQd7+gC2R4bULqy6wXamoJQoDw0oUNecbyLELUxeHA5DwgNiFSEXeKGquMZBjF6Yu9o/A\n",
       "DPIdzDxyFwgCQGKZwFKDeS6IexcY4lwBmAZx3b17xffu3QTcdmHTZTYR4jcGBlO42KlgZBXbGMjx\n",
       "FzZdLxWA+RlcTPAiBMOQzXzAUE66Xdh0MQIV8m94ANbTgDUdnmNgaCbdLmy6+IDhx6/cgFZUIpdR\n",
       "t1atuoDXLj5IdDP/hBG4dIHSPPc6aNQFGWDaxfv///8J+OxiS/mZDWbcghM4dPEh264Xi1lG4QSM\n",
       "DQwkAj6s4UOMXfCyl0K7WhhoAbiwxkW9AC3sMsEaEuzLaGBZXSIDAwB4aaUFdo5x/QAAAABJRU5E\n",
       "rkJggg==\n",
       "\" style=\"display:inline;vertical-align:middle;\" /></a>, <a class=\"ProveItLink\" href=\"../../../__pv_it/theorems/b38b045a9246dd5ac239f68f921874310f53aad00/expr.ipynb\"><img src=\"data:image/png;base64,iVBORw0KGgoAAAANSUhEUgAAAC0AAAAUCAMAAAAusUTNAAAAPFBMVEX///8NDQ0WFhYLCwsYGBiq\n",
       "qqq6urru7u4QEBBERERUVFTc3NyIiIgyMjJmZmaYmJjMzMwiIiJ2dnYAAABsuYCuAAAAAXRSTlMA\n",
       "QObYZgAAAAlwSFlzAAAOxAAADsQBlSsOGwAAAMhJREFUKM+VkusShCAIhd2Loal4e/93XZGp1bIa\n",
       "+cGEHT8PohBXgTBcTjGH82rQnSZZNPzp84ChW4KTQkBkOboBem0KHyufT4t2gDZtUbfKTJ2Yge2l\n",
       "RYuM9bgsL2y7Fg2b2pe8Nt1jrPH9UN74JidWk2Nl79F/daJkTq6xK4HVC7GtekBvXUrqslwP9L7f\n",
       "L3a/34vWPMSiK52mA/r4Qrzah5gX6NuUeLIWafKKxuLxCV2UmOwaRk9SJjERDibEfgodZ9Ai3P38\n",
       "AUNKCPHed8bwAAAAAElFTkSuQmCC\n",
       "\" style=\"display:inline;vertical-align:middle;\" /></a> <a class=\"ProveItLink\" href=\"../../../__pv_it/_proof__alpha_l_summed/0a8433ecfe66b830759c10109cb8e53fc9fd6a7d0/proof.ipynb\" style=\"text-decoration: none\">&nbsp;&#x22A2;&nbsp;&nbsp;</a><a class=\"ProveItLink\" href=\"../../../__pv_it/_proof__alpha_l_summed/ec7dd5a39e23035bb530117fa52eb266339d94eb0/expr.ipynb\"><img src=\"data:image/png;base64,iVBORw0KGgoAAAANSUhEUgAAAY8AAABLCAMAAAC/SvvDAAAANlBMVEX///+/v7+urq7c3Nx2dnZE\n",
       "RESIiIgiIiLMzMyYmJju7u4QEBCqqqpUVFRmZma6uroyMjIAAABMl2BWAAAAAXRSTlMAQObYZgAA\n",
       "AAlwSFlzAAAOxAAADsQBlSsOGwAABxRJREFUeNrtXeuCsygMZRflDpr3f9n12oKAYosUneXP93Vm\n",
       "apGTnJyEYBF6jb5D9xiYCvT8YfRtptro58Oh5I2MTvKnwyE2t4hNzbPtAD8cD927rzmpe7rts+Fg\n",
       "4AZzQo2qOqRDTdPD2f+yX9xDNI3WYyChIU7jfTVL0NJ64CD7toH79++7NNpRq3uMUcMMtyoCK88I\n",
       "oRU5dDWEqpoj27G8giQpkX5d6BEXDAwpgwJvVBUZZSt/+emcvVljMV0VdRNnpn1ExtoC6m1sXMx4\n",
       "YMNx3XioqyPIi7qDS/z2CcOXlesif40d7cEjwtUWUBrsKzXRVa8JDwQXB7OVug9zoeXPo6Gau3wW\n",
       "zvNsASXARpDFqxFV4aGBXYv3Qt1HfrqYRRddNuNK154HvdBaWm67Pm6t67J2Hbg6PDposl/TtvGV\n",
       "uudfUJgG9hbVLLPAMpYSUeEw61zswSguoFqLrsawgvEd/ANB9ojuReSVuoURmKMmZOTL/xqyTeHe\n",
       "FyHOes5Jwyp8AwJKALW8gzFmxC3waM8QFkuoCXvCdXqTGH46/EOwaBaGWVCYX9MJQzIYfZ/mr0ra\n",
       "wjcgoLjl+HLyyogzNz00FZVRSDJhCW16OMTDy7lm6mZyWqgWsVkZTa9HPOZfyMkrJJuZa0Pw4IxV\n",
       "zG6F70ZAabjLxsc2JezPgHeIh+F+RvCi7kG0djrEVxMeYlzjdmcZreyikxvhu3VdCeieA0DkxENu\n",
       "vcOmbkNeC+niMfMVxQjvWYeVXbxIfxG+joDahI97jf6EYx/jsQpXoSU1HnWP7GLZ8RuPlsz2T5qd\n",
       "D7CzC9461/AElIKCteuslVBzooZ1jMciXIWkisv0Dcj9vcpOkSn9oN7nLO/0BZS5QMcnC8oNBucq\n",
       "ofyEJR3jsZi8HpcOpzMhowccOMYWWyrQzha+voDqy20lZK6EshMZyDEecyBAMH1sm74hTNm+l7Nh\n",
       "klZ2gelG+HoQXlt3yF8JtSIffISH6Ol7MEcoDRjPI50z+MHO9ii7rOzireIYJKmUHiIjSiCFK6H2\n",
       "1Fk+/1jxUHgcJ5o72t1QZ1jsFrugf+CtkSnY3KbAHdEDz0XJoVAllNOtRdB0qk3nq9MZr9iLYoPq\n",
       "IhHwwtUO5cldDSEFzOM3X6YSulqw48okHx6zcEVmtoIz/SuY7EhydzHtUhZvwxP18hgKEBJxpo3I\n",
       "0TKV0OEjkGc5yTTfHHYILcJVUMk7QgvUhUwTnmjr6xaAkL6wiOYHldDRnjBp3AQkMU/QA9/2mqcJ\n",
       "V0OhL1Gmo8FV0IF7IpZ9OwsUFa4FKqFIE6yExI4t5dwjpAyVHDgccVswoR/uFlF+UwmVo1My17dz\n",
       "lnp42ZZMwyMRJzANMcgpk36pIpVQDGajHQc/zrol1ZZsQsWRIEqDMbEbjFQdCdf3pUtUQofw0VFX\n",
       "93DIWpoWJZtQY+BLiIR5iDa8/6YSqskYcpsL8dgTrtkreTFflBENPyjnfl+oFa6EjgalOdukruhp\n",
       "Q0I4rowhJCKDflMJDeayLh7GqkvRm57ZgQgeft3Eqyz8uhI6RrnH+Uc8bptYCKmlEjpOQTwPj3+j\n",
       "9hyp6VZSCUXonzQ84EZjxz+G2EB3+erHlVDfP54RP6J4EBm250oqoRMef0ZfjdGS7QrXX1dC64vn\n",
       "Obo1oniwqONUUgmtDo8s3Ro0mn+Qz4TrBWZH0R3wyNOtEdtj683nwjU3XcXmrkD+GIP83RptOIFo\n",
       "28+Fa273iE6Fl2itLNytoYOFdRPc41ZJwjX3iINPoMAB7LLn1sJ7njyodLlKEa7Zo2TcF5sSra6l\n",
       "ujV27imsdNWvyTpgSwUC2bXdGgEO7v28PBCRRJGbP8lkpR4KcF23RsAX5LHSxUoDAKsNjy9aj9mZ\n",
       "Z5pd2a3hOwN4d9nbg9J5/6/CYyKfth6nnV+zhNGV3RpevNq09phY6bG+Z4B9UW4n6W+9uFvDT9Dv\n",
       "eXxwdO3PFUY6Hpd3a3gJyF0fftd9kX4c41GsW8ObmbkpHuSLk12HeJTr1shoZb8d+ouTXYd4lOvW\n",
       "2BrCbTd16Be754d4lOvW8G/LFVg8uMXUNKSpCw7xTXX36PxawW4Nv2JydO5lEQZdXQ/1VKDRZf5R\n",
       "sFvDDyB6IyNDBDherq6n3n4TPhL4qli3RiDNdV3BO/eyBjZZ1TNgv3rOxyEe5bo1/I92yw7ruRfz\n",
       "yvn54L7TM8xqylTYN3R1fH6tXLdGgLAcb/DPvaAFD1nTQ6vJF3SVcn6tWLdGwPOlQ03euZeVr6p6\n",
       "KHRf3XZMRlPrnPAxn3ux+aq+eM6geSweyKbiwLmXEbJR79bUgqnhwV/K0lg3Fzj3suSDpqIVEPDk\n",
       "72QRt3N+8uxvACF3835p0KMHbf63n5qGupX/C3j8F0iZO30D0NO/rmhirPuYXCf/wBcQsvvcJO3Q\n",
       "HxjdXSKIeDAc/wFv/G0/+Xa8rAAAAABJRU5ErkJggg==\n",
       "\" style=\"display:inline;vertical-align:middle;\" /></a></span>"
      ],
      "text/plain": [
       "{l in {-2^{t - 1} + 1 .. 2^{t - 1}}, l != 0} |- (Sum_{k=0}^{2^{t} - 1} (e^{2 * pi * i * (delta - (l / 2^{t}))})^{k}) = ((1 - (e^{2 * pi * i * (delta - (l / 2^{t}))})^{2^{t}}) / (1 - e^{2 * pi * i * (delta - (l / 2^{t}))}))"
      ]
     },
     "execution_count": 48,
     "metadata": {},
     "output_type": "execute_result"
    }
   ],
   "source": [
    "alpha_l_eq4.rhs.factors[1].geom_sum_reduction(assumptions=_delta_diff_exp_not_one.all_conditions())"
   ]
  },
  {
   "cell_type": "code",
   "execution_count": 49,
   "metadata": {},
   "outputs": [
    {
     "data": {
      "text/html": [
       "<strong id=\"alpha_l_eq5\">alpha_l_eq5:</strong> <span style=\"font-size:20px;\"><a class=\"ProveItLink\" href=\"../../../__pv_it/theorems/8bc9b38cf75c7371ab646fd064ad09fc02345f250/expr.ipynb\"><img src=\"data:image/png;base64,iVBORw0KGgoAAAANSUhEUgAAANYAAAAYBAMAAAB0Lx7ZAAAAMFBMVEX///+qqqq6urru7u4QEBBE\n",
       "RERUVFTc3NyIiIgyMjJmZmaYmJjMzMwiIiJ2dnYAAACPW0xlAAAAAXRSTlMAQObYZgAAAAlwSFlz\n",
       "AAAOxAAADsQBlSsOGwAAAeBJREFUSMdjYCAMOAugDOadDMQD8nTZwxgnemmuSxLOkqW6LiMFFG7d\n",
       "zTdk2IWmq7AAqyqOSQaoAhPJ8heqLp5UkKFv/6ApkkeyqmplDAPDZzx28VzGYg02XawJQIL7A5rK\n",
       "twgmewDDewUmBwaeUCAIx2KX2crPmFZh1cV3AUhwTcBtF1sBA4sDR4INhr+YNsACHItdWHWB7eJt\n",
       "gIi03r07Ad0uls8MbN+5Gh5j2MXYgMcurLrAdtUfAAtoNmPz1wUGtj88qw/A0tb8F8TYhVUX2K79\n",
       "kDCejC0MQd7+gC2R4bULqy6wXamoJQoDw0oUNecbyLELUxeHA5DwgNiFSEXeKGquMZBjF6Yu9o/A\n",
       "DPIdzDxyFwgCQGKZwFKDeS6IexcY4lwBmAZx3b17xffu3QTcdmHTZTYR4jcGBlO42KlgZBXbGMjx\n",
       "FzZdLxWA+RlcTPAiBMOQzXzAUE66Xdh0MQIV8m94ANbTgDUdnmNgaCbdLmy6+IDhx6/cgFZUIpdR\n",
       "t1atuoDXLj5IdDP/hBG4dIHSPPc6aNQFGWDaxfv///8J+OxiS/mZDWbcghM4dPEh264Xi1lG4QSM\n",
       "DQwkAj6s4UOMXfCyl0K7WhhoAbiwxkW9AC3sMsEaEuzLaGBZXSIDAwB4aaUFdo5x/QAAAABJRU5E\n",
       "rkJggg==\n",
       "\" style=\"display:inline;vertical-align:middle;\" /></a>, <a class=\"ProveItLink\" href=\"../../../__pv_it/theorems/b38b045a9246dd5ac239f68f921874310f53aad00/expr.ipynb\"><img src=\"data:image/png;base64,iVBORw0KGgoAAAANSUhEUgAAAC0AAAAUCAMAAAAusUTNAAAAPFBMVEX///8NDQ0WFhYLCwsYGBiq\n",
       "qqq6urru7u4QEBBERERUVFTc3NyIiIgyMjJmZmaYmJjMzMwiIiJ2dnYAAABsuYCuAAAAAXRSTlMA\n",
       "QObYZgAAAAlwSFlzAAAOxAAADsQBlSsOGwAAAMhJREFUKM+VkusShCAIhd2Loal4e/93XZGp1bIa\n",
       "+cGEHT8PohBXgTBcTjGH82rQnSZZNPzp84ChW4KTQkBkOboBem0KHyufT4t2gDZtUbfKTJ2Yge2l\n",
       "RYuM9bgsL2y7Fg2b2pe8Nt1jrPH9UN74JidWk2Nl79F/daJkTq6xK4HVC7GtekBvXUrqslwP9L7f\n",
       "L3a/34vWPMSiK52mA/r4Qrzah5gX6NuUeLIWafKKxuLxCV2UmOwaRk9SJjERDibEfgodZ9Ai3P38\n",
       "AUNKCPHed8bwAAAAAElFTkSuQmCC\n",
       "\" style=\"display:inline;vertical-align:middle;\" /></a> <a class=\"ProveItLink\" href=\"../../../__pv_it/_proof__alpha_l_summed/2b61f6a25dd54ef2591721c73cb01b5393d580150/proof.ipynb\" style=\"text-decoration: none\">&nbsp;&#x22A2;&nbsp;&nbsp;</a><a class=\"ProveItLink\" href=\"../../../__pv_it/_proof__alpha_l_summed/77c600eb24a1bc10d2ee4343c598444fb6721c880/expr.ipynb\"><img src=\"data:image/png;base64,iVBORw0KGgoAAAANSUhEUgAAASEAAABABAMAAACn7NxjAAAAMFBMVEX///+YmJgyMjJmZmZERESI\n",
       "iIiqqqoQEBDu7u66uroiIiLc3NzMzMxUVFR2dnYAAAB9mGmPAAAAAXRSTlMAQObYZgAAAAlwSFlz\n",
       "AAAOxAAADsQBlSsOGwAABadJREFUaN7FWV9oHEUY//b2/uzd3iXxHwoqTUBKESSXlNoSxJxoUUjB\n",
       "8w9SzEODIgUf9BSVasEsRSwW29xLzZP0MFpaafE0ESWB5qAPQigmxYcWIXgvpUFMctYmXk2bdWb2\n",
       "dm9ndjM7u7m7DNzO7bdz3/7m+z/fAbRgFN2IajBecrYBgCJDDJbt+BpnWSs7RJi92AgRvcUSBsj1\n",
       "BZb8sgCv+FoDACmdLCVHriHNJrY0uoTL3syOdmwOzENE85jJGzbNqRkySek6ScIqVD7w5tjrWx5L\n",
       "87adw8f4EsNv/Oyq7fU1WRyqk159HF8Pal78k7d9ewLIBZb2Gqbb3U3OG3OXMZ1YvAoJ8i2R9uIf\n",
       "mvOLqD2vOnbxJDbIMzZC4lNjXjSmNPTBEfIt6mm2bxfFsRjhRdIIokld14umFPBFfc+2tG3QmO82\n",
       "ItUtmC69LhHKI15v+dqHdF4xX4e0puz5vq2ul9Poc2027/zJQYCTaHoAIRp/0BBBycOMVs0vZ9gn\n",
       "LAGipufOaEpZgcETCFcZIULzhyhGzoVcPHsWPSDO/KdJiXkYUqpizMd7q/QDBwFqhoDU8xwkDwNk\n",
       "LgKeu+CXIkYUK8nl5DNoDEC7TgZmPYo+O6j9yRU+ohETcYQF4CBAT20ehykScb6ktDYCYUpr4+T6\n",
       "Jvrcgz4TltPH/+Yj2lYSR5SriWjfpT0kHY7WEe1F3lX8gVp9H7nei/WkoXitWh70Lh/R8yCMKIoy\n",
       "hXJlDGKGPkJaQrMQISdXdy1QPx8bMsNCqAMmLl20hNTP9+6b4ohkZLhHT9/vGr9m6NsvXsqDEUXP\n",
       "Ytecg2Fdr8cbbtqKr4sjQluF30GtuvFJ0C6dUypG7lUxLolOw9PcmCzfEkeUQGpAVvmUGx+Jduli\n",
       "MhdNd5gZOJqjHsZy3BxS9UCkPPotHlgEsTwkkU+vuzIaoG/DebUHm8sEiWy0v4er3BxVEJcRRrQ6\n",
       "NfWzK6NP6Nsn7EDjtFAiqzxE0xl/WlvZMOVR9WubZtxGiFtF6VIh+g83z6bFEYXRW3ZrQtV8t24H\n",
       "IWXo9HST99MD1tba2CrBSUA+cuydk9/4P1rQ+U75j7e43yxEU1duXKYTHkuAJN533w3/J5cEUxPo\n",
       "3JBd8sH5XMBKfJK5/45X2Hb7qNdIxgwyevy8dFjzwTlcDARIzbCKyXNW674OIZlAiBwb+WOoUYjg\n",
       "x0CIBsEN0dJiqQGIGjT6UbKbzCuH1Zqs+kiiOm/oYcsQvQ/wdEQ77qhwlX+3AtFylhTbvW2kCHRH\n",
       "pJuDlN54WbvejFExEcWQk1xfYKP5RjLyPgdvXkYjKPIvD9Wiud2Otsyy2xGi6/j80mRfE+z8IURy\n",
       "BqT+JGlg8BCFipsDJNj5I/Fo6a798jVyUmGzCHWabFHnrx6zzzqTmJmGx3v3gZsMG935YwqOSnaj\n",
       "agQlw+X8ha/+anrnzxCDZR27nDm33yClivjMsr35nT+nqTiqWuN8GatCag2qze38WYObKLYZ20gV\n",
       "IHU7nmtu589SJrfOPmWdeBOVyNznwoj8dv6ok/0dbvvI8o/ZrJxd8GHM/jp/1G5WuMcEqxw4D8ke\n",
       "9xpqRnOn8jt/tj7bLGOD3H61bB7K5I0qVuW3bjdEnp0/2xhleg3ctp9ktuAe5vijGyK/nT/XXoNr\n",
       "GqydwaNl8gZhRL47f7YxW+Ya6EfG9CvAflFEgTp/dn78U+sy4aiO7dxZEEUUqPNnG8/ynXia5LoE\n",
       "8opOUUSBOn82Ed/hIwp1ekYeFlGgzp9tmcefVdKaIKIjpBg+BwE7fzYZFDyS+LpfGQXr/NnsxOs/\n",
       "z92+tRao82fzJa/3jWT9IgrU+asrZcWzXPesQZaZTQbq/NXzVsFziRf3+eHHGM0H6fzVzSjvueTU\n",
       "Js9EPse8QKHT2UpA0iGBRXtbieinksCiY6UWIuoSWaS2EJFi2PX/VJwztAV0ETkAAAAASUVORK5C\n",
       "YII=\n",
       "\" style=\"display:inline;vertical-align:middle;\" /></a></span><br>"
      ],
      "text/plain": [
       "alpha_l_eq5: {l in {-2^{t - 1} + 1 .. 2^{t - 1}}, l != 0} |- alpha_{l} = ((1 / 2^{t}) * ((1 - (e^{2 * pi * i * (delta - (l / 2^{t}))})^{2^{t}}) / (1 - e^{2 * pi * i * (delta - (l / 2^{t}))})))"
      ]
     },
     "execution_count": 49,
     "metadata": {},
     "output_type": "execute_result"
    }
   ],
   "source": [
    "alpha_l_eq5 = alpha_l_eq4.inner_expr().rhs.factors[1].geom_sum_reduce(assumptions=_delta_diff_exp_not_one.all_conditions())"
   ]
  },
  {
   "cell_type": "code",
   "execution_count": 50,
   "metadata": {},
   "outputs": [
    {
     "data": {
      "text/html": [
       "<strong id=\"exp_to_process\">exp_to_process:</strong> <a class=\"ProveItLink\" href=\"../../../__pv_it/_proof__alpha_l_summed/9faf11cc64ef3eefdb620625dcbeb79958182e480/expr.ipynb\"><img src=\"data:image/png;base64,iVBORw0KGgoAAAANSUhEUgAAAIIAAAAdBAMAAACUHalYAAAAMFBMVEX////MzMxUVFRERES6uroi\n",
       "IiIQEBCYmJhmZmYyMjLu7u52dnaqqqqIiIjc3NwAAACW8nlqAAAAAXRSTlMAQObYZgAAAAlwSFlz\n",
       "AAAOxAAADsQBlSsOGwAAAkRJREFUOMudVT1IHEEUfuv+3nq7uRQ57LzaSkjayFV2ggFJcQQ8Em0s\n",
       "zIIpTIpwhWIRBTtBDCxJCsOJWYQ0QiBN/hDlGrEJsnAEkkA0RdLm8mZmd/btuifePZi/N/t9b96b\n",
       "b3cBLjP3ys5u9jWD3WK91ro6QTHIOMZ4f0JJG5cyvM466rwv+InH7HYgs8T6FWyH70nAUbFJ4h6v\n",
       "ymlzb4QwGEEU0nxF3GaU1VwC0ZPdBixfKMM6gBUSh1UV40YCIYn+gfNShsHCkFqNOPQdMe4lkM8m\n",
       "TkSUJ5zBne50/rFieVHnPiAMg6difCxADPL9KYATl+ottu1dj+fKGXTceTdcvVjnjwATEgJwELmV\n",
       "GjTBd34iQxMZ7ACMKjiVgtRERxjOhjGuJyBo9nr0QNuHcgiqgldVDgueMs8YjJIVKDfRxqiAxrFt\n",
       "CggrlxfvuSy3tlahWbwBNZWFENAHbIsSYsRHuD7EGNe0umRQW6CHP1IVEAJaYDg/hnzB9mK2AQ95\n",
       "hni4mmQYrIC7ti/R2uFSJKBn4okIgit79tP9PGkrk6mlgTkJAU0JepD6GpiEcz+P4k7mu1AGLiCX\n",
       "MZvxDcA9gGseqF4ew2JmfQuYgETxi/XYO4PXi7cc5DGoYVrlkezbPMXflOHo7Cw3C3s0tdx3yHdG\n",
       "q9Msun62ftFFofOXjw4/WVGW+Taebi5+vXowU54P31T77qPjVq8MlqzcDbaaft4rAehS7XoJ+rJv\n",
       "ST6N/hhWsv+AXs0lF/2yLwYqNrfVD8OpnP0HwbSXDZ0CeIwAAAAASUVORK5CYII=\n",
       "\" style=\"display:inline;vertical-align:middle;\" /></a><br>"
      ],
      "text/plain": [
       "exp_to_process: (e^{2 * pi * i * (delta - (l / 2^{t}))})^{2^{t}}"
      ]
     },
     "execution_count": 50,
     "metadata": {},
     "output_type": "execute_result"
    }
   ],
   "source": [
    "exp_to_process = alpha_l_eq5.rhs.factors[1].numerator.operands[1].operand"
   ]
  },
  {
   "cell_type": "code",
   "execution_count": 51,
   "metadata": {},
   "outputs": [
    {
     "data": {
      "text/html": [
       "<strong id=\"exp_to_process_02\">exp_to_process_02:</strong> <span style=\"font-size:20px;\"><a class=\"ProveItLink\" href=\"../../../__pv_it/theorems/8bc9b38cf75c7371ab646fd064ad09fc02345f250/expr.ipynb\"><img src=\"data:image/png;base64,iVBORw0KGgoAAAANSUhEUgAAANYAAAAYBAMAAAB0Lx7ZAAAAMFBMVEX///+qqqq6urru7u4QEBBE\n",
       "RERUVFTc3NyIiIgyMjJmZmaYmJjMzMwiIiJ2dnYAAACPW0xlAAAAAXRSTlMAQObYZgAAAAlwSFlz\n",
       "AAAOxAAADsQBlSsOGwAAAeBJREFUSMdjYCAMOAugDOadDMQD8nTZwxgnemmuSxLOkqW6LiMFFG7d\n",
       "zTdk2IWmq7AAqyqOSQaoAhPJ8heqLp5UkKFv/6ApkkeyqmplDAPDZzx28VzGYg02XawJQIL7A5rK\n",
       "twgmewDDewUmBwaeUCAIx2KX2crPmFZh1cV3AUhwTcBtF1sBA4sDR4INhr+YNsACHItdWHWB7eJt\n",
       "gIi03r07Ad0uls8MbN+5Gh5j2MXYgMcurLrAdtUfAAtoNmPz1wUGtj88qw/A0tb8F8TYhVUX2K79\n",
       "kDCejC0MQd7+gC2R4bULqy6wXamoJQoDw0oUNecbyLELUxeHA5DwgNiFSEXeKGquMZBjF6Yu9o/A\n",
       "DPIdzDxyFwgCQGKZwFKDeS6IexcY4lwBmAZx3b17xffu3QTcdmHTZTYR4jcGBlO42KlgZBXbGMjx\n",
       "FzZdLxWA+RlcTPAiBMOQzXzAUE66Xdh0MQIV8m94ANbTgDUdnmNgaCbdLmy6+IDhx6/cgFZUIpdR\n",
       "t1atuoDXLj5IdDP/hBG4dIHSPPc6aNQFGWDaxfv///8J+OxiS/mZDWbcghM4dPEh264Xi1lG4QSM\n",
       "DQwkAj6s4UOMXfCyl0K7WhhoAbiwxkW9AC3sMsEaEuzLaGBZXSIDAwB4aaUFdo5x/QAAAABJRU5E\n",
       "rkJggg==\n",
       "\" style=\"display:inline;vertical-align:middle;\" /></a>, <a class=\"ProveItLink\" href=\"../../../__pv_it/theorems/b38b045a9246dd5ac239f68f921874310f53aad00/expr.ipynb\"><img src=\"data:image/png;base64,iVBORw0KGgoAAAANSUhEUgAAAC0AAAAUCAMAAAAusUTNAAAAPFBMVEX///8NDQ0WFhYLCwsYGBiq\n",
       "qqq6urru7u4QEBBERERUVFTc3NyIiIgyMjJmZmaYmJjMzMwiIiJ2dnYAAABsuYCuAAAAAXRSTlMA\n",
       "QObYZgAAAAlwSFlzAAAOxAAADsQBlSsOGwAAAMhJREFUKM+VkusShCAIhd2Loal4e/93XZGp1bIa\n",
       "+cGEHT8PohBXgTBcTjGH82rQnSZZNPzp84ChW4KTQkBkOboBem0KHyufT4t2gDZtUbfKTJ2Yge2l\n",
       "RYuM9bgsL2y7Fg2b2pe8Nt1jrPH9UN74JidWk2Nl79F/daJkTq6xK4HVC7GtekBvXUrqslwP9L7f\n",
       "L3a/34vWPMSiK52mA/r4Qrzah5gX6NuUeLIWafKKxuLxCV2UmOwaRk9SJjERDibEfgodZ9Ai3P38\n",
       "AUNKCPHed8bwAAAAAElFTkSuQmCC\n",
       "\" style=\"display:inline;vertical-align:middle;\" /></a> <a class=\"ProveItLink\" href=\"../../../__pv_it/_proof__alpha_l_summed/e0d113772d6312acffecd21072d29c70b038ccfb0/proof.ipynb\" style=\"text-decoration: none\">&nbsp;&#x22A2;&nbsp;&nbsp;</a><a class=\"ProveItLink\" href=\"../../../__pv_it/_proof__alpha_l_summed/a0c1e1b3c3525a9ac9f593cfe5c76ae4a8a24a4c0/expr.ipynb\"><img src=\"data:image/png;base64,iVBORw0KGgoAAAANSUhEUgAAARoAAAAdBAMAAACH776FAAAAMFBMVEX////MzMxUVFRERES6uroi\n",
       "IiIQEBCYmJhmZmYyMjLu7u52dnaqqqqIiIjc3NwAAACW8nlqAAAAAXRSTlMAQObYZgAAAAlwSFlz\n",
       "AAAOxAAADsQBlSsOGwAAA7NJREFUWMO1VktoE0EYnrhJdrNptinS4i3Fo6eIPQmWINiTQoQqEsTG\n",
       "Ry8VNFIPtaJEqBSsld4CPnBRD0rFhoKXitCLL6QShaKglIWgpIJ9QL0a57GzOzOZadOFDGQm8+/8\n",
       "337zz/9/swBs1iyp1QHBmtP8K6TthzBfnkf9kWBkEvMCj/uoD1d8Q3FT/7ayYNDw9hIFxlRrms1H\n",
       "0dCL+6/eXK9s6v9MNETJcJcxXWuWjDklWvK4j9l0vnhb4aonUT+O4sOeVpUMI0z4T8xvTeQS6gwU\n",
       "0QVmtZUmr/LOJ+I/m57dwwahTMmPHrR981X3KTGZr3bbICt9P492nsZVf8KYdTcPhqgDcxRFcLMh\n",
       "bVBs77CWMTLESOIYwMg2xl+F9gF5sGVlZMhYog7vde/ZBlhNCv4GIn+ICQ3IkUDHu/HQnrHW24oF\n",
       "GRsJ2gQqoBxjiDwn4yx1qF33ZGAU+1sD9fo/unvc/UozAK/JWn0Ky4RuW+vWuFRFeLQSDYF1llkT\n",
       "XyLjFd+BkYGX8Pf0RaHsnUUEPol/3pBUft6ViXhWmbksGmZzEu0mlWlc+dZ38GUglAPTwE78hv7T\n",
       "kI1ZBlHo+gXco1510tDSNVcmOm0VGR8NApXgf3AObrw7RhWsnYBBIJBCS5ADKwNVG3Q5QAvBguty\n",
       "YoXQBczmNDzvnftgcxi5DOeJTFj7laHx0SBQCf2HbKJJoxxCYL2scvahJciBygB+j4VeWA13sydl\n",
       "roEeTofwAbVliUzUwIrqguPQ6EnNAI07KaKcbxiHKN1Mxy7EbjKc99ho8NWnLK6EiVzqaSwT1t6O\n",
       "W6rQcGiYzQG4PWeZu7iIcg4zDkgGHg0WwUWcEVD0cx4bVMi1715qhBfGXLnEpV8CUXLuYmtEK7mF\n",
       "bE3OeasOf8u4yolKnzrA/+bguzPSTMwKl9SMK5eRDJUJ2X2kQOsULilzzU3ZfsYKee/IglVpcRwV\n",
       "vkS6XLn86cmEJ5THcENZokKL8HLohPJEOS12zzC52gtAkyrqiDDvAVgu8W1KZaKhqdB04etFyxDl\n",
       "NNjFsPBSsPDLMmCN11kjyV6+KQUbJVovP73Bfxf4bD6trEhPykxz07kES7JPxUaF9pibxe2KhCQ6\n",
       "KeU31x92Eqv/JX+WfJmQ5I0SzeIePKyTfElw8YcyYAwF+fIeVtiDoQHvPjePX16sbNtxQlXhgdAY\n",
       "GTAGHmzfsV/1IBCaXAaablYWtKDpxWB+RqEVbEQZaLZVW0JGkIFWb2LLBAhUAAmnFVz+A6muJUyf\n",
       "TUDkAAAAAElFTkSuQmCC\n",
       "\" style=\"display:inline;vertical-align:middle;\" /></a></span><br>"
      ],
      "text/plain": [
       "exp_to_process_02: {l in {-2^{t - 1} + 1 .. 2^{t - 1}}, l != 0} |- (e^{2 * pi * i * (delta - (l / 2^{t}))})^{2^{t}} = e^{2 * pi * i * (delta - (l / 2^{t})) * 2^{t}}"
      ]
     },
     "execution_count": 51,
     "metadata": {},
     "output_type": "execute_result"
    }
   ],
   "source": [
    "exp_to_process_02 = exp_to_process.distribution()"
   ]
  },
  {
   "cell_type": "code",
   "execution_count": 52,
   "metadata": {},
   "outputs": [
    {
     "data": {
      "text/html": [
       "<strong id=\"exp_to_process_03\">exp_to_process_03:</strong> <span style=\"font-size:20px;\"><a class=\"ProveItLink\" href=\"../../../__pv_it/theorems/8bc9b38cf75c7371ab646fd064ad09fc02345f250/expr.ipynb\"><img src=\"data:image/png;base64,iVBORw0KGgoAAAANSUhEUgAAANYAAAAYBAMAAAB0Lx7ZAAAAMFBMVEX///+qqqq6urru7u4QEBBE\n",
       "RERUVFTc3NyIiIgyMjJmZmaYmJjMzMwiIiJ2dnYAAACPW0xlAAAAAXRSTlMAQObYZgAAAAlwSFlz\n",
       "AAAOxAAADsQBlSsOGwAAAeBJREFUSMdjYCAMOAugDOadDMQD8nTZwxgnemmuSxLOkqW6LiMFFG7d\n",
       "zTdk2IWmq7AAqyqOSQaoAhPJ8heqLp5UkKFv/6ApkkeyqmplDAPDZzx28VzGYg02XawJQIL7A5rK\n",
       "twgmewDDewUmBwaeUCAIx2KX2crPmFZh1cV3AUhwTcBtF1sBA4sDR4INhr+YNsACHItdWHWB7eJt\n",
       "gIi03r07Ad0uls8MbN+5Gh5j2MXYgMcurLrAdtUfAAtoNmPz1wUGtj88qw/A0tb8F8TYhVUX2K79\n",
       "kDCejC0MQd7+gC2R4bULqy6wXamoJQoDw0oUNecbyLELUxeHA5DwgNiFSEXeKGquMZBjF6Yu9o/A\n",
       "DPIdzDxyFwgCQGKZwFKDeS6IexcY4lwBmAZx3b17xffu3QTcdmHTZTYR4jcGBlO42KlgZBXbGMjx\n",
       "FzZdLxWA+RlcTPAiBMOQzXzAUE66Xdh0MQIV8m94ANbTgDUdnmNgaCbdLmy6+IDhx6/cgFZUIpdR\n",
       "t1atuoDXLj5IdDP/hBG4dIHSPPc6aNQFGWDaxfv///8J+OxiS/mZDWbcghM4dPEh264Xi1lG4QSM\n",
       "DQwkAj6s4UOMXfCyl0K7WhhoAbiwxkW9AC3sMsEaEuzLaGBZXSIDAwB4aaUFdo5x/QAAAABJRU5E\n",
       "rkJggg==\n",
       "\" style=\"display:inline;vertical-align:middle;\" /></a>, <a class=\"ProveItLink\" href=\"../../../__pv_it/theorems/b38b045a9246dd5ac239f68f921874310f53aad00/expr.ipynb\"><img src=\"data:image/png;base64,iVBORw0KGgoAAAANSUhEUgAAAC0AAAAUCAMAAAAusUTNAAAAPFBMVEX///8NDQ0WFhYLCwsYGBiq\n",
       "qqq6urru7u4QEBBERERUVFTc3NyIiIgyMjJmZmaYmJjMzMwiIiJ2dnYAAABsuYCuAAAAAXRSTlMA\n",
       "QObYZgAAAAlwSFlzAAAOxAAADsQBlSsOGwAAAMhJREFUKM+VkusShCAIhd2Loal4e/93XZGp1bIa\n",
       "+cGEHT8PohBXgTBcTjGH82rQnSZZNPzp84ChW4KTQkBkOboBem0KHyufT4t2gDZtUbfKTJ2Yge2l\n",
       "RYuM9bgsL2y7Fg2b2pe8Nt1jrPH9UN74JidWk2Nl79F/daJkTq6xK4HVC7GtekBvXUrqslwP9L7f\n",
       "L3a/34vWPMSiK52mA/r4Qrzah5gX6NuUeLIWafKKxuLxCV2UmOwaRk9SJjERDibEfgodZ9Ai3P38\n",
       "AUNKCPHed8bwAAAAAElFTkSuQmCC\n",
       "\" style=\"display:inline;vertical-align:middle;\" /></a> <a class=\"ProveItLink\" href=\"../../../__pv_it/_proof__alpha_l_summed/3331e2c5556daae11355776b56a8282f9a393df50/proof.ipynb\" style=\"text-decoration: none\">&nbsp;&#x22A2;&nbsp;&nbsp;</a><a class=\"ProveItLink\" href=\"../../../__pv_it/_proof__alpha_l_summed/680e83f367c579c62fb9557b3d4d0759e2bbea270/expr.ipynb\"><img src=\"data:image/png;base64,iVBORw0KGgoAAAANSUhEUgAAASoAAAAdBAMAAADvHDy9AAAAMFBMVEX////MzMxUVFRERES6uroi\n",
       "IiIQEBCYmJhmZmYyMjLu7u52dnaqqqqIiIjc3NwAAACW8nlqAAAAAXRSTlMAQObYZgAAAAlwSFlz\n",
       "AAAOxAAADsQBlSsOGwAAA+VJREFUWMO1V01oE0EUnpi/TdpsU6TFW4pHTxF7EixBsCeFCFUkiI0/\n",
       "vVTQSD3UihKhUrBWegv4g0E9WCo2FLxUCr34h1SiUBSUEghKK9gfqFfjzLyZzZvNjKaBPHizebP7\n",
       "vv125s03E0L+Zba2t0Qas5Ip167jpci+ueLVBdYeaYxUZAFcYXCftb5itSOLI621FlwdXv6pkQzq\n",
       "Wqmb1XvhivXw9rMTB4s40tqUuyMAl7uo61q9pMKT4KqleRvKy3jpNo5cFoyydoyNF57FMlyG0bSc\n",
       "WPg/oUussTLgZBFl2HF4XVZ2+JWITM/uwYNSkB8ychAxvyruQlf45e48SWp5qGjn5TgzDz5Bt4Ki\n",
       "RgZl0pQTccuSmzVlxcb7Du4ZhUsICssiVrJ2Tkxo74RbeBlaCbjmZNLboIy4bZH1qAvHYh9yCE9y\n",
       "Cga/pYtf2hL2Zms2o2OlQRsX7kuhTv8zuM7KpJXrIgLuIxzH7q9U/sjR4M2POAKZh2eDk1xUgnl7\n",
       "0x7TKpCKlpPDwdw+i55rWYbrlWoSRI6EvKD+9Hmm4MyRn95p+bilUYy0EJWWpLHCMRpndVL4fCxR\n",
       "+/TrahJEUkI8KTJN8pGfFGeasgoXSICmfyL3ZGYFjD26IUSlw7SGERoFytHf5BzhHukKSRVsA0AK\n",
       "RmLsMZbELVaVkHKedJaI10OXZWcplPFc4KxO01rYuY9aSUovK400iIq93zhUVTQKlGO/BatA1Cp4\n",
       "GGAPVuFe9hhLEpGVkVJvsxeXfV14BsMbpFvRMT5xrUkQlRWyZtpAFTQ8gzPEq8wgqPArlMSigPy4\n",
       "9l2M6YQv7bDyUgqnbGXpM+mljOJcVOy97bdMQ6WgcVYHwP2lVWVzBBUeQkksYhLyaCBLLvKKoZtJ\n",
       "ymHFBGDlq1M6vsVRLr1CMnIkADXhtlq0nFz81O2JOefJw18SQoWZZMgkFtE4PPDmjLZik65NcEbs\n",
       "jP6ElBjdfmdA6xCON8HwhijrPqW/j33HjiRZ1y6mo65zTydIL/nuSIwjuMe4sSoyofmj4PjA5UmD\n",
       "CtvK99OIFmBbhni1Cj3sirsJl16+a0uJqTETGlseaN+Fk1ECVNhSEmhEF2uMikZB9wKvqttWFG/0\n",
       "MQMrI1qPc5xy7IZ6FqlGjNWHtTXtDIbjSjgXwWR7TaxMaI+Fo/0mX8RnP0SfzaDxSPoLB6HKb/ix\n",
       "XJUYTV0Z0ewieNUeVqCeIsqcsIhKiDXYyD+EIUN/Y2guows8fPzyUnHbieMmZWgITSMjVv+D7Sf2\n",
       "mW40hKaRkUbMTpImmltC6jUr00xWbgmp18pNJeWSkGZ/TN0F0tCCiZSayekvZJo64Uc3XI0AAAAA\n",
       "SUVORK5CYII=\n",
       "\" style=\"display:inline;vertical-align:middle;\" /></a></span><br>"
      ],
      "text/plain": [
       "exp_to_process_03: {l in {-2^{t - 1} + 1 .. 2^{t - 1}}, l != 0} |- (e^{2 * pi * i * (delta - (l / 2^{t}))})^{2^{t}} = e^{2 * pi * i * ((delta - (l / 2^{t})) * 2^{t})}"
      ]
     },
     "execution_count": 52,
     "metadata": {},
     "output_type": "execute_result"
    }
   ],
   "source": [
    "exp_to_process_03 = exp_to_process_02.inner_expr().rhs.exponent.associate(3, 2)"
   ]
  },
  {
   "cell_type": "code",
   "execution_count": 53,
   "metadata": {},
   "outputs": [
    {
     "data": {
      "text/html": [
       "<strong id=\"exp_to_process_04\">exp_to_process_04:</strong> <span style=\"font-size:20px;\"><a class=\"ProveItLink\" href=\"../../../__pv_it/theorems/8bc9b38cf75c7371ab646fd064ad09fc02345f250/expr.ipynb\"><img src=\"data:image/png;base64,iVBORw0KGgoAAAANSUhEUgAAANYAAAAYBAMAAAB0Lx7ZAAAAMFBMVEX///+qqqq6urru7u4QEBBE\n",
       "RERUVFTc3NyIiIgyMjJmZmaYmJjMzMwiIiJ2dnYAAACPW0xlAAAAAXRSTlMAQObYZgAAAAlwSFlz\n",
       "AAAOxAAADsQBlSsOGwAAAeBJREFUSMdjYCAMOAugDOadDMQD8nTZwxgnemmuSxLOkqW6LiMFFG7d\n",
       "zTdk2IWmq7AAqyqOSQaoAhPJ8heqLp5UkKFv/6ApkkeyqmplDAPDZzx28VzGYg02XawJQIL7A5rK\n",
       "twgmewDDewUmBwaeUCAIx2KX2crPmFZh1cV3AUhwTcBtF1sBA4sDR4INhr+YNsACHItdWHWB7eJt\n",
       "gIi03r07Ad0uls8MbN+5Gh5j2MXYgMcurLrAdtUfAAtoNmPz1wUGtj88qw/A0tb8F8TYhVUX2K79\n",
       "kDCejC0MQd7+gC2R4bULqy6wXamoJQoDw0oUNecbyLELUxeHA5DwgNiFSEXeKGquMZBjF6Yu9o/A\n",
       "DPIdzDxyFwgCQGKZwFKDeS6IexcY4lwBmAZx3b17xffu3QTcdmHTZTYR4jcGBlO42KlgZBXbGMjx\n",
       "FzZdLxWA+RlcTPAiBMOQzXzAUE66Xdh0MQIV8m94ANbTgDUdnmNgaCbdLmy6+IDhx6/cgFZUIpdR\n",
       "t1atuoDXLj5IdDP/hBG4dIHSPPc6aNQFGWDaxfv///8J+OxiS/mZDWbcghM4dPEh264Xi1lG4QSM\n",
       "DQwkAj6s4UOMXfCyl0K7WhhoAbiwxkW9AC3sMsEaEuzLaGBZXSIDAwB4aaUFdo5x/QAAAABJRU5E\n",
       "rkJggg==\n",
       "\" style=\"display:inline;vertical-align:middle;\" /></a>, <a class=\"ProveItLink\" href=\"../../../__pv_it/theorems/b38b045a9246dd5ac239f68f921874310f53aad00/expr.ipynb\"><img src=\"data:image/png;base64,iVBORw0KGgoAAAANSUhEUgAAAC0AAAAUCAMAAAAusUTNAAAAPFBMVEX///8NDQ0WFhYLCwsYGBiq\n",
       "qqq6urru7u4QEBBERERUVFTc3NyIiIgyMjJmZmaYmJjMzMwiIiJ2dnYAAABsuYCuAAAAAXRSTlMA\n",
       "QObYZgAAAAlwSFlzAAAOxAAADsQBlSsOGwAAAMhJREFUKM+VkusShCAIhd2Loal4e/93XZGp1bIa\n",
       "+cGEHT8PohBXgTBcTjGH82rQnSZZNPzp84ChW4KTQkBkOboBem0KHyufT4t2gDZtUbfKTJ2Yge2l\n",
       "RYuM9bgsL2y7Fg2b2pe8Nt1jrPH9UN74JidWk2Nl79F/daJkTq6xK4HVC7GtekBvXUrqslwP9L7f\n",
       "L3a/34vWPMSiK52mA/r4Qrzah5gX6NuUeLIWafKKxuLxCV2UmOwaRk9SJjERDibEfgodZ9Ai3P38\n",
       "AUNKCPHed8bwAAAAAElFTkSuQmCC\n",
       "\" style=\"display:inline;vertical-align:middle;\" /></a> <a class=\"ProveItLink\" href=\"../../../__pv_it/_proof__alpha_l_summed/7d456d556894e87001adc848f9bd57099b3a22b30/proof.ipynb\" style=\"text-decoration: none\">&nbsp;&#x22A2;&nbsp;&nbsp;</a><a class=\"ProveItLink\" href=\"../../../__pv_it/_proof__alpha_l_summed/8cead8df612890ef3c8c7bdca9f6c928e4064a380/expr.ipynb\"><img src=\"data:image/png;base64,iVBORw0KGgoAAAANSUhEUgAAARwAAAAdBAMAAACK8c7CAAAAMFBMVEX////MzMxUVFRERES6uroi\n",
       "IiIQEBCYmJhmZmYyMjLu7u52dnaqqqqIiIjc3NwAAACW8nlqAAAAAXRSTlMAQObYZgAAAAlwSFlz\n",
       "AAAOxAAADsQBlSsOGwAAA8pJREFUWMO1Vl1IFFEUPtvu7I6rO+qD4ttKUA89bRQEQTL04JtgYRFi\n",
       "KJUEBrZRhPoQ+5AJmtCbEAWDViRGDoIvRtCL/RDGvkgvIQuLZEKrQRH9Tvdv7ty5cyfXhT1w7uy5\n",
       "d88335xz55sL8D8zyp4sxwrMw7B2BP4gJd/DYyxfGZvUC+oeXM6PtRNwnS1NtJHxvR+yXHvLnFsi\n",
       "78fyB0GblSf6yFhj+SHLs+Qd6p6t3vZj+QMf8QY8jiFfEcprZOhizg+5o13Bg56l7iFqEpYYzC0c\n",
       "EBbiNitG4oEwnWDNG/BSNHUlnu0VH/QSgWROEXHurIAFML0tBJCD0cDWQaXVxVdBN+l1ykuZVdLR\n",
       "Qe+U594wp4g493XCw6J34wF8ha0GGRQVI9YtTGhP6HXBSyGQAas3jS/y3ARziohzN254WPRuC1wK\n",
       "Rggdo9dx/uJNlWWDcV5ArF2j12GaNOJCBreeReisO45TcCswxZwijrhPP8yf1SQBl4JF5I+fZsn+\n",
       "IHQ0tPI8bQbv9hKgg6eorRY1Kzn+sdZrbg9zF3GRY1Gbp4ErBZFumAMrtYnozCE6SRviJqRaa7j2\n",
       "ONTQrzR6iCxNCbMmK2knYW0OkbIRHXS9AMQxIpriuWlxb6U9KSha0FyAaAS9bM2FmmxkENOJN+h2\n",
       "5BCyNlH12pHfpSlhX5ejgAAg0wL4OoWRGR2COOjltgPDnyABkQJyIwO3uRhrFZs1D1FTFlKAZeRD\n",
       "PEVlG1AiOnU80CyGyHOX3ZQuCwdxtziNLZjvZKyP04nmQSt8AllIAa5iCbHcFFVxDjaO45cl3+7R\n",
       "OUadIfLcq27Odh4HuGXT/Tm4THYF6kE3p1PbCsbkkveFW7nJVG+C/oOlyBK4/wzEHWebiL5mcToL\n",
       "1Bkiz51w8yZNHKAw2f/qnOoZI34pi6NCU9XrolzV9qjnunKpiblkXf4AMd/TCVvKqp+QzibNVEgN\n",
       "TDPh+xqOnsJ2Ev/cB8ZPFZjWQF1qa6c/QLurPgvRrAphSIoPA1E9svvr+kKq8x3giFIac9IHE9wP\n",
       "qxigdy+N1MRWIUT9L47Onq1IOrmtZhNBYL+UK238wCRYUQownXelkrJZyYwvXEoJh7BYSHUiv0ul\n",
       "TeXKDHPFgc4LcLNCj1CfxaDG+UYPmaRmdZ0he+dPqDTmqfsOrAUpQFKgDwSO1DtbIhOycMuq/HBP\n",
       "pCB5+trqro/juh2y8PBix9nK6WAp0Hvv7zpPM8NWRn/kK6cTlILybB2qYolcZXlj1aETlIKyzMhU\n",
       "ic5MRVnRQpXoGBVtvLXqkPkHOggjMnFieswAAAAASUVORK5CYII=\n",
       "\" style=\"display:inline;vertical-align:middle;\" /></a></span><br>"
      ],
      "text/plain": [
       "exp_to_process_04: {l in {-2^{t - 1} + 1 .. 2^{t - 1}}, l != 0} |- (e^{2 * pi * i * (delta - (l / 2^{t}))})^{2^{t}} = e^{2 * pi * i * ((delta * 2^{t}) - l)}"
      ]
     },
     "execution_count": 53,
     "metadata": {},
     "output_type": "execute_result"
    }
   ],
   "source": [
    "exp_to_process_04 = exp_to_process_03.inner_expr().rhs.exponent.factors[3].distribute(idx=0)"
   ]
  },
  {
   "cell_type": "code",
   "execution_count": 54,
   "metadata": {},
   "outputs": [
    {
     "data": {
      "text/html": [
       "<strong id=\"alpha_l_eq6\">alpha_l_eq6:</strong> <span style=\"font-size:20px;\"><a class=\"ProveItLink\" href=\"../../../__pv_it/theorems/8bc9b38cf75c7371ab646fd064ad09fc02345f250/expr.ipynb\"><img src=\"data:image/png;base64,iVBORw0KGgoAAAANSUhEUgAAANYAAAAYBAMAAAB0Lx7ZAAAAMFBMVEX///+qqqq6urru7u4QEBBE\n",
       "RERUVFTc3NyIiIgyMjJmZmaYmJjMzMwiIiJ2dnYAAACPW0xlAAAAAXRSTlMAQObYZgAAAAlwSFlz\n",
       "AAAOxAAADsQBlSsOGwAAAeBJREFUSMdjYCAMOAugDOadDMQD8nTZwxgnemmuSxLOkqW6LiMFFG7d\n",
       "zTdk2IWmq7AAqyqOSQaoAhPJ8heqLp5UkKFv/6ApkkeyqmplDAPDZzx28VzGYg02XawJQIL7A5rK\n",
       "twgmewDDewUmBwaeUCAIx2KX2crPmFZh1cV3AUhwTcBtF1sBA4sDR4INhr+YNsACHItdWHWB7eJt\n",
       "gIi03r07Ad0uls8MbN+5Gh5j2MXYgMcurLrAdtUfAAtoNmPz1wUGtj88qw/A0tb8F8TYhVUX2K79\n",
       "kDCejC0MQd7+gC2R4bULqy6wXamoJQoDw0oUNecbyLELUxeHA5DwgNiFSEXeKGquMZBjF6Yu9o/A\n",
       "DPIdzDxyFwgCQGKZwFKDeS6IexcY4lwBmAZx3b17xffu3QTcdmHTZTYR4jcGBlO42KlgZBXbGMjx\n",
       "FzZdLxWA+RlcTPAiBMOQzXzAUE66Xdh0MQIV8m94ANbTgDUdnmNgaCbdLmy6+IDhx6/cgFZUIpdR\n",
       "t1atuoDXLj5IdDP/hBG4dIHSPPc6aNQFGWDaxfv///8J+OxiS/mZDWbcghM4dPEh264Xi1lG4QSM\n",
       "DQwkAj6s4UOMXfCyl0K7WhhoAbiwxkW9AC3sMsEaEuzLaGBZXSIDAwB4aaUFdo5x/QAAAABJRU5E\n",
       "rkJggg==\n",
       "\" style=\"display:inline;vertical-align:middle;\" /></a>, <a class=\"ProveItLink\" href=\"../../../__pv_it/theorems/b38b045a9246dd5ac239f68f921874310f53aad00/expr.ipynb\"><img src=\"data:image/png;base64,iVBORw0KGgoAAAANSUhEUgAAAC0AAAAUCAMAAAAusUTNAAAAPFBMVEX///8NDQ0WFhYLCwsYGBiq\n",
       "qqq6urru7u4QEBBERERUVFTc3NyIiIgyMjJmZmaYmJjMzMwiIiJ2dnYAAABsuYCuAAAAAXRSTlMA\n",
       "QObYZgAAAAlwSFlzAAAOxAAADsQBlSsOGwAAAMhJREFUKM+VkusShCAIhd2Loal4e/93XZGp1bIa\n",
       "+cGEHT8PohBXgTBcTjGH82rQnSZZNPzp84ChW4KTQkBkOboBem0KHyufT4t2gDZtUbfKTJ2Yge2l\n",
       "RYuM9bgsL2y7Fg2b2pe8Nt1jrPH9UN74JidWk2Nl79F/daJkTq6xK4HVC7GtekBvXUrqslwP9L7f\n",
       "L3a/34vWPMSiK52mA/r4Qrzah5gX6NuUeLIWafKKxuLxCV2UmOwaRk9SJjERDibEfgodZ9Ai3P38\n",
       "AUNKCPHed8bwAAAAAElFTkSuQmCC\n",
       "\" style=\"display:inline;vertical-align:middle;\" /></a> <a class=\"ProveItLink\" href=\"../../../__pv_it/_proof__alpha_l_summed/10e1a0749c32046e107bef6303fd4f93e5e523f20/proof.ipynb\" style=\"text-decoration: none\">&nbsp;&#x22A2;&nbsp;&nbsp;</a><a class=\"ProveItLink\" href=\"../../../__pv_it/_proof__alpha_l_summed/ae97ea0d924393ec6f6689da7176bc09ea1a1a730/expr.ipynb\"><img src=\"data:image/png;base64,iVBORw0KGgoAAAANSUhEUgAAARkAAABABAMAAADcyB6vAAAAMFBMVEX///+YmJgyMjJmZmZERESI\n",
       "iIiqqqoQEBDu7u66uroiIiLc3NzMzMxUVFR2dnYAAAB9mGmPAAAAAXRSTlMAQObYZgAAAAlwSFlz\n",
       "AAAOxAAADsQBlSsOGwAABixJREFUaN7NWG1oHEUYnru9y+3dnnfnFyoWaqSKIDUXY7QEaSIqCgo9\n",
       "Uaq2SGNFCgrtVfyILZoliqLS3P2p9Y94UKxJCWQ1kZZEuIMIhVBIwB+WSsgilJZCkjNpatO0XWdm\n",
       "d2Zvd+dm53L22oHs7jv3ZuaZ93teAK7zUOCf5prTqhI+o71eNFsBCHe75g56CPkhkbXC99UJpkkH\n",
       "YLdDVmm4aqpyC0y8IrLYD1qdaPrguR0nCmTgwyEJTIR0/7XkvWvHESihZysAEjr820Rb2x6Hj9sr\n",
       "GTEhf+i/olSTovrnTlVQEXzaLPxA0L46ZTHE8G8qOe4sIXapvutPlWpBkwYdHrOBx9mJjqURhj70\n",
       "EaSGs5MQsbTv+htr0s0KKLrRS1BAm+E7OkAY3grAj8Q0YdhMiKZVX4dYrQnN3RiNMmwYq+T86NGM\n",
       "POl9wjByL1IctYBBSmzwWz7WVaPlnod/n32T0qk2YtB4j8D3mak8ZUDHzBK7KVNij59VTBFHmHSb\n",
       "2CTT5uIDoB+o4eMQTT9EI+sgAkF8DGPKdFCHFGIwGcsVdmURET/DmbUO8EeLc3PPhDVGVXBCA6E4\n",
       "XPeEFkzF9xM0kZKkQwox4BHNgt+fgUNDdhU1ZSOVfaLNEvna4d58BwuNklaQ64xGp92ayoFQ3maA\n",
       "IikQW/iOEtF/fOLXldrQjJ6cQNPt5mExmhCMvM/CTbVfKhjgysQgk2GbeI+PJlQWR3NgXxr0GoYZ\n",
       "6QcoGuS9c1Ao7efQlMVgOr758bpNdPKzULJLGI28781PmHYNtTDJcNY8g9iT4qdMXRjNLQVQZBr2\n",
       "ENzN67pjLKI4zUXTmRdGk0yBEPNoMCUGvK7byiIiWS4a242roOk7isYQikyGYTBrghA0hhc8ztfF\n",
       "IkKXuGguA2HZTL07Ps7UlAz3+pwF0UuEL3Ir2gviaJKZaqv8Chdy/7idSTQtcXPmkjgaqae2cpvp\n",
       "fxe4NfEy/Vxw7+SekH+6Z1umTjTyZW7hR/U407vR6TCeCSANP1D3ZcfghuIroLFjmFeMBlcbjKaF\n",
       "Z3mRSw1GsyXPS1PlBqOZ7b7p0MzPlW4ONJ3QT8fy8n7FkpGEE89RM5nmbgSaDwB4Oqwe8G6dyzYY\n",
       "zUIGF8ePJnDxzkaTNKyB8OYwm/F/D4omApPs2XN2bciXjcD9tC7Z5GB6Wei2ykGH3dwIK0a1wFl0\n",
       "x7iuPqVVa8K50EhdINAZx40ELpqH6wHj7rUpD+IbVMYbb+ZvfU06gxsJ7sxQiUauS1C73RNmcfpS\n",
       "tVg86M2fMStPKW0bSiyfq6Fy8fyz6SBB56ZbaBQuZ6pWFKMgsaKcf6S0JiDrsHM4em12Ze66TQxT\n",
       "62r35k9pxXz/BcBHINgtKof5mcoTf4p1Tntt5E5txZMex7/2ck3Puqb3qmBWS6qCaCQgFdxzdq+N\n",
       "MFlnb3aw/cttClwz36ehfZUOiaommVc8NaPdayMm+YX5nnM4Grcujl61NQrekAXtJqBiNGMw3mvk\n",
       "9HavzRoJ69pyW5X9WBawSO8Wy6A9IaoqkICakjf9nLB1Udlrc4xdjnMs86tmKthpMLGOwcDut02q\n",
       "si6D7f0Qkw7R9NNeG9GlnYSnHBbHvxXQhspjbNmx+23K8wA11bomAHo3o94b6bWh5pp1KR/BT4c1\n",
       "BvkBdr11ZwpUa2UwO1wjYBxHlO8dmrJ6bXTciZ/vOOy/wEVTTJO4rmjCaJQXT25CYs8cstHYvTYa\n",
       "PQ7j+HWHo7Ogc9FETLBxHYRVITTyn4dBxLSIoBpTKRq714bHty/nQYG6vr0a32sTZqIaa2vrENPU\n",
       "l0fuYirV1WvLymUrcw1WTj/Hd1XFdLlhw1gUQ3MaKMwboavXpsWzTWlkk0qlpchXfSLH/T6/u9HA\n",
       "VPIUMyK66tdQXmnVSDalTH7X/vWaCBrab4vDKHKNyejqtT0JSHVQ6eAFHzQ5vSbZxC+Ojx9nMjp7\n",
       "bQk1wwBZTPnl42xtmqoa2p29thbDFEPYIfoF31pluTY0T6ieylu8Plz2ZXnV5wLksquv9x78ca1o\n",
       "pIIvS4zby/P22zoW19z8K+Z9WaKNa2/NCPD83SgwgR4BplCmQWiOiZSW8lCD0DQLcf3WGDCyacP/\n",
       "AYDSIlpdtHOGAAAAAElFTkSuQmCC\n",
       "\" style=\"display:inline;vertical-align:middle;\" /></a></span><br>"
      ],
      "text/plain": [
       "alpha_l_eq6: {l in {-2^{t - 1} + 1 .. 2^{t - 1}}, l != 0} |- alpha_{l} = ((1 / 2^{t}) * ((1 - e^{2 * pi * i * ((delta * 2^{t}) - l)}) / (1 - e^{2 * pi * i * (delta - (l / 2^{t}))})))"
      ]
     },
     "execution_count": 54,
     "metadata": {},
     "output_type": "execute_result"
    }
   ],
   "source": [
    "alpha_l_eq6 = alpha_l_eq5.inner_expr().rhs.factors[1].numerator.operands[1].operand.substitute(exp_to_process_04)"
   ]
  },
  {
   "cell_type": "markdown",
   "metadata": {},
   "source": [
    "One final tweak, commuting the factors in the $(\\delta \\cdot 2^t)$ expression in the exponential in the numerator:"
   ]
  },
  {
   "cell_type": "code",
   "execution_count": 55,
   "metadata": {},
   "outputs": [
    {
     "data": {
      "text/html": [
       "<span style=\"font-size:20px;\"><a class=\"ProveItLink\" href=\"../../../__pv_it/theorems/8bc9b38cf75c7371ab646fd064ad09fc02345f250/expr.ipynb\"><img src=\"data:image/png;base64,iVBORw0KGgoAAAANSUhEUgAAANYAAAAYBAMAAAB0Lx7ZAAAAMFBMVEX///+qqqq6urru7u4QEBBE\n",
       "RERUVFTc3NyIiIgyMjJmZmaYmJjMzMwiIiJ2dnYAAACPW0xlAAAAAXRSTlMAQObYZgAAAAlwSFlz\n",
       "AAAOxAAADsQBlSsOGwAAAeBJREFUSMdjYCAMOAugDOadDMQD8nTZwxgnemmuSxLOkqW6LiMFFG7d\n",
       "zTdk2IWmq7AAqyqOSQaoAhPJ8heqLp5UkKFv/6ApkkeyqmplDAPDZzx28VzGYg02XawJQIL7A5rK\n",
       "twgmewDDewUmBwaeUCAIx2KX2crPmFZh1cV3AUhwTcBtF1sBA4sDR4INhr+YNsACHItdWHWB7eJt\n",
       "gIi03r07Ad0uls8MbN+5Gh5j2MXYgMcurLrAdtUfAAtoNmPz1wUGtj88qw/A0tb8F8TYhVUX2K79\n",
       "kDCejC0MQd7+gC2R4bULqy6wXamoJQoDw0oUNecbyLELUxeHA5DwgNiFSEXeKGquMZBjF6Yu9o/A\n",
       "DPIdzDxyFwgCQGKZwFKDeS6IexcY4lwBmAZx3b17xffu3QTcdmHTZTYR4jcGBlO42KlgZBXbGMjx\n",
       "FzZdLxWA+RlcTPAiBMOQzXzAUE66Xdh0MQIV8m94ANbTgDUdnmNgaCbdLmy6+IDhx6/cgFZUIpdR\n",
       "t1atuoDXLj5IdDP/hBG4dIHSPPc6aNQFGWDaxfv///8J+OxiS/mZDWbcghM4dPEh264Xi1lG4QSM\n",
       "DQwkAj6s4UOMXfCyl0K7WhhoAbiwxkW9AC3sMsEaEuzLaGBZXSIDAwB4aaUFdo5x/QAAAABJRU5E\n",
       "rkJggg==\n",
       "\" style=\"display:inline;vertical-align:middle;\" /></a>, <a class=\"ProveItLink\" href=\"../../../__pv_it/theorems/b38b045a9246dd5ac239f68f921874310f53aad00/expr.ipynb\"><img src=\"data:image/png;base64,iVBORw0KGgoAAAANSUhEUgAAAC0AAAAUCAMAAAAusUTNAAAAPFBMVEX///8NDQ0WFhYLCwsYGBiq\n",
       "qqq6urru7u4QEBBERERUVFTc3NyIiIgyMjJmZmaYmJjMzMwiIiJ2dnYAAABsuYCuAAAAAXRSTlMA\n",
       "QObYZgAAAAlwSFlzAAAOxAAADsQBlSsOGwAAAMhJREFUKM+VkusShCAIhd2Loal4e/93XZGp1bIa\n",
       "+cGEHT8PohBXgTBcTjGH82rQnSZZNPzp84ChW4KTQkBkOboBem0KHyufT4t2gDZtUbfKTJ2Yge2l\n",
       "RYuM9bgsL2y7Fg2b2pe8Nt1jrPH9UN74JidWk2Nl79F/daJkTq6xK4HVC7GtekBvXUrqslwP9L7f\n",
       "L3a/34vWPMSiK52mA/r4Qrzah5gX6NuUeLIWafKKxuLxCV2UmOwaRk9SJjERDibEfgodZ9Ai3P38\n",
       "AUNKCPHed8bwAAAAAElFTkSuQmCC\n",
       "\" style=\"display:inline;vertical-align:middle;\" /></a> <a class=\"ProveItLink\" href=\"../../../__pv_it/_proof__alpha_l_summed/10ded5cdda85ad8de08040c4bf6f872bdf8b22610/proof.ipynb\" style=\"text-decoration: none\">&nbsp;&#x22A2;&nbsp;&nbsp;</a><a class=\"ProveItLink\" href=\"../../../__pv_it/theorems/60e62f60c438978939d202e99b7e42238bf223f40/expr.ipynb\"><img src=\"data:image/png;base64,iVBORw0KGgoAAAANSUhEUgAAARkAAABABAMAAADcyB6vAAAAMFBMVEX///+YmJgyMjJmZmZERESI\n",
       "iIiqqqoQEBDu7u66uroiIiLc3NzMzMxUVFR2dnYAAAB9mGmPAAAAAXRSTlMAQObYZgAAAAlwSFlz\n",
       "AAAOxAAADsQBlSsOGwAABlNJREFUaN7NWX9oW0Uc/yYvaV7yYlJ/4YTBrEwRZGtrLY4qa0SHE4VF\n",
       "FH/N2TqQgcKWiT/qqvYxRVFZk3/mRBgGirPbCn3aykYrJFBhUAYt+IcyKQ3C2Bi0je0617Xb8+7d\n",
       "ey/vx+XepXHZDvLje7ncfe6+P+/zAK5zk9BLcfQpZQWP1lotmhcBgp2OvoMuQXyAZ67gPVWCqSsA\n",
       "7CZfh0qz1luX0IQXeCb7XqkSzX60b31Hd5Z6bSehCYGC91zi3tXj8OXxezOAQE4i2EcUVod0d7t1\n",
       "oCaI73vPKFSkqN6ZPy1SSNttCn1Ba81OyZAl/WsOyxCSje1Ogy7skj3nn8hXgqYJ2lxmg7azE+0K\n",
       "hKyhsEfRy28azk5DiDR5zr+hIt0sQc6JXkAHtBkgnpFW6poIhO/QIcQmjQGbDaFu2dMhlitCs0ZD\n",
       "Iw2q6rKxf/zWgGxIllakZuIRJxJINi3gqCms95o+kqjQci+g16df12sWo6GJIMs9gqWYbjUQe20J\n",
       "bTNl2E3RFPZ4WcWEEbbGnSY2TrW5aD/0ghw8idD0IjRiAUIZgA9Lf0A9O2AjGli02JUuhLwMZ1rf\n",
       "wO+N9sVdHXobluGUAoEomveU4q+PdptopK0Ebjd8hE0lnILfnkRNwXYVJmcjFD2izYLxrcO5eAcN\n",
       "jdQkYdMYDk+6NDUEo6ZqnkZHYugt8q0phP/xiF8rlaEZPj2Gu1vJZjU0gSTAFoTz2dOb9EHHJaQc\n",
       "n2GQ8WBJeIeNJlDkR3NgXxP0qCqJ9P0mGuy9M8gmVNWYa+h1mTg+Uc8rJaGdnYXiCW404r43Pqba\n",
       "NdLCOMVZMxRhTz07ZRa40dyShRzVsAfQam7XHaEJuUkmmvYMN5p4PQSoW0Mp0ed23WaaEEox0ZTc\n",
       "uAya/cdwG8CRSVVVak0QQMbwjMv5EjQhcJmJ5gpwn83E26OjVE2JaK3PaBDdQvASs6K9yI8mniw3\n",
       "yy9oIueP26lC3QIzZy7woxG6Kiu3qf53kVkTL5pf55wrOTvEH+9+NVklGvEKs/Az9TjVs8HuMK4O\n",
       "EAbvq/qyozJD8QrUtg2yilH/co3RNLIsL3S5xmi2ZVhpqlhjNNOdNx2a2Zn8zYGmHfnpSEbslvQz\n",
       "ErTEc4wk0/SNQPMewBNB+YB76XSqxmjmklpx/FBMK97paOKq3jDetDZM/b+biSaEkuy586XakH02\n",
       "HPfTqs4mjdLLXKdeDtrs5kZYMa4FzqGDuL4+pZQj4RxohAT42qOYK2CjebAaME6uTbpfu0El3fFm\n",
       "9taXhbP4AujKDFY0YlUHtdvZQYrT58rF4qPu/BnR85TUsj5P87kKKhfXn4mD+O2LbjOjcDFZtqIY\n",
       "htiSdGFjflVA1mrOgYuhNztdlbnjNjFoWlerO38KS+TzL4APwN/Jew6YVCu1TzSd45W/tNBwPj2e\n",
       "dNn+2sM0Pf2a3iPDtBKXOdFgUs3Zh11EsLqVoO+9wTbsXyYpcI18nkH2lT/EqxpMqjn7sIuE+60m\n",
       "+Tn5nLE5GrMuDl8taRR2iJx2g0k1fJ1F8V4xdo/fpHctg2L6teW2MuvRLGDevFssQmuMV1UaqSZu\n",
       "+ilW0gVmcM5OUCq7XbZ9LLKrZvNgJ2FsLWUAnW8bl8WCCNt7NWKtAXo1dis46TcyYbyUhCdsFse+\n",
       "FZiEysP0s6PzbdJWTKhBYkwj1how94bQhPJCIYrJNf1STh462KzRzw6w6/Q7k68clUFluAipJiUO\n",
       "2zSVhoBNU+Shw1s2+88y0eSajLguKdxodFJNSB4qodmClK38bIsefVr8usPGLBSYaEIEbLQAQZkL\n",
       "jfhHn0Gq+eWIbKJBjiy1njeHffN8Rn/oYMuOHWyvjZFENdLS0sanqS+O3EVVqoNrS4lFPXMdtXY/\n",
       "xXZVibjcoKrO86E5AxL1Rujg2pRoijx0kKyWIl71iBz3evzuRINSyePUiOioXwMZ8tBBsFILPq9r\n",
       "/zqFB43Jt0VRFLlGHejg2h4DozqwOnjWA026UNHZRC+Njp6kDrRzbTE5SQGZq/fKx6nKNFU2tNu5\n",
       "tkaVHEPQdvRznrXKYmVoHpFdlTd/fbjoOeQljwuQw66+2nvwh9WiEbKeQyJMLs/Nt7XNr5r8y2U8\n",
       "h4RrR29NcYz5u1ZgfF0cgwLJGqE5wVNaigM1QtPANerX2oARiQ3/B4WMHm2NiyyuAAAAAElFTkSu\n",
       "QmCC\n",
       "\" style=\"display:inline;vertical-align:middle;\" /></a></span>"
      ],
      "text/plain": [
       "{l in {-2^{t - 1} + 1 .. 2^{t - 1}}, l != 0} |- alpha_{l} = ((1 / 2^{t}) * ((1 - e^{2 * pi * i * ((2^{t} * delta) - l)}) / (1 - e^{2 * pi * i * (delta - (l / 2^{t}))})))"
      ]
     },
     "execution_count": 55,
     "metadata": {},
     "output_type": "execute_result"
    }
   ],
   "source": [
    "alpha_l_eq6.inner_expr().rhs.factors[1].numerator.operands[1].operand.exponent.operands[3].operands[0].commute(0, 1)"
   ]
  },
  {
   "cell_type": "code",
   "execution_count": 56,
   "metadata": {},
   "outputs": [
    {
     "ename": "KeyboardInterrupt",
     "evalue": "",
     "output_type": "error",
     "traceback": [
      "\u001b[0;31m---------------------------------------------------------------------------\u001b[0m",
      "\u001b[0;31mKeyboardInterrupt\u001b[0m                         Traceback (most recent call last)",
      "\u001b[0;32m<ipython-input-56-b046f9677097>\u001b[0m in \u001b[0;36m<module>\u001b[0;34m\u001b[0m\n\u001b[0;32m----> 1\u001b[0;31m \u001b[0mget_ipython\u001b[0m\u001b[0;34m(\u001b[0m\u001b[0;34m)\u001b[0m\u001b[0;34m.\u001b[0m\u001b[0mrun_line_magic\u001b[0m\u001b[0;34m(\u001b[0m\u001b[0;34m'qed'\u001b[0m\u001b[0;34m,\u001b[0m \u001b[0;34m''\u001b[0m\u001b[0;34m)\u001b[0m\u001b[0;34m\u001b[0m\u001b[0;34m\u001b[0m\u001b[0m\n\u001b[0m",
      "\u001b[0;32m~/.local/lib/python3.7/site-packages/IPython/core/interactiveshell.py\u001b[0m in \u001b[0;36mrun_line_magic\u001b[0;34m(self, magic_name, line, _stack_depth)\u001b[0m\n\u001b[1;32m   2305\u001b[0m                 \u001b[0mkwargs\u001b[0m\u001b[0;34m[\u001b[0m\u001b[0;34m'local_ns'\u001b[0m\u001b[0;34m]\u001b[0m \u001b[0;34m=\u001b[0m \u001b[0msys\u001b[0m\u001b[0;34m.\u001b[0m\u001b[0m_getframe\u001b[0m\u001b[0;34m(\u001b[0m\u001b[0mstack_depth\u001b[0m\u001b[0;34m)\u001b[0m\u001b[0;34m.\u001b[0m\u001b[0mf_locals\u001b[0m\u001b[0;34m\u001b[0m\u001b[0;34m\u001b[0m\u001b[0m\n\u001b[1;32m   2306\u001b[0m             \u001b[0;32mwith\u001b[0m \u001b[0mself\u001b[0m\u001b[0;34m.\u001b[0m\u001b[0mbuiltin_trap\u001b[0m\u001b[0;34m:\u001b[0m\u001b[0;34m\u001b[0m\u001b[0;34m\u001b[0m\u001b[0m\n\u001b[0;32m-> 2307\u001b[0;31m                 \u001b[0mresult\u001b[0m \u001b[0;34m=\u001b[0m \u001b[0mfn\u001b[0m\u001b[0;34m(\u001b[0m\u001b[0;34m*\u001b[0m\u001b[0margs\u001b[0m\u001b[0;34m,\u001b[0m \u001b[0;34m**\u001b[0m\u001b[0mkwargs\u001b[0m\u001b[0;34m)\u001b[0m\u001b[0;34m\u001b[0m\u001b[0;34m\u001b[0m\u001b[0m\n\u001b[0m\u001b[1;32m   2308\u001b[0m             \u001b[0;32mreturn\u001b[0m \u001b[0mresult\u001b[0m\u001b[0;34m\u001b[0m\u001b[0;34m\u001b[0m\u001b[0m\n\u001b[1;32m   2309\u001b[0m \u001b[0;34m\u001b[0m\u001b[0m\n",
      "\u001b[0;32m<decorator-gen-143>\u001b[0m in \u001b[0;36mqed\u001b[0;34m(self, line)\u001b[0m\n",
      "\u001b[0;32m~/.local/lib/python3.7/site-packages/IPython/core/magic.py\u001b[0m in \u001b[0;36m<lambda>\u001b[0;34m(f, *a, **k)\u001b[0m\n\u001b[1;32m    185\u001b[0m     \u001b[0;31m# but it's overkill for just that one bit of state.\u001b[0m\u001b[0;34m\u001b[0m\u001b[0;34m\u001b[0m\u001b[0;34m\u001b[0m\u001b[0m\n\u001b[1;32m    186\u001b[0m     \u001b[0;32mdef\u001b[0m \u001b[0mmagic_deco\u001b[0m\u001b[0;34m(\u001b[0m\u001b[0marg\u001b[0m\u001b[0;34m)\u001b[0m\u001b[0;34m:\u001b[0m\u001b[0;34m\u001b[0m\u001b[0;34m\u001b[0m\u001b[0m\n\u001b[0;32m--> 187\u001b[0;31m         \u001b[0mcall\u001b[0m \u001b[0;34m=\u001b[0m \u001b[0;32mlambda\u001b[0m \u001b[0mf\u001b[0m\u001b[0;34m,\u001b[0m \u001b[0;34m*\u001b[0m\u001b[0ma\u001b[0m\u001b[0;34m,\u001b[0m \u001b[0;34m**\u001b[0m\u001b[0mk\u001b[0m\u001b[0;34m:\u001b[0m \u001b[0mf\u001b[0m\u001b[0;34m(\u001b[0m\u001b[0;34m*\u001b[0m\u001b[0ma\u001b[0m\u001b[0;34m,\u001b[0m \u001b[0;34m**\u001b[0m\u001b[0mk\u001b[0m\u001b[0;34m)\u001b[0m\u001b[0;34m\u001b[0m\u001b[0;34m\u001b[0m\u001b[0m\n\u001b[0m\u001b[1;32m    188\u001b[0m \u001b[0;34m\u001b[0m\u001b[0m\n\u001b[1;32m    189\u001b[0m         \u001b[0;32mif\u001b[0m \u001b[0mcallable\u001b[0m\u001b[0;34m(\u001b[0m\u001b[0marg\u001b[0m\u001b[0;34m)\u001b[0m\u001b[0;34m:\u001b[0m\u001b[0;34m\u001b[0m\u001b[0;34m\u001b[0m\u001b[0m\n",
      "\u001b[0;32m/home/wwitzel/Prove-It/packages/proveit/magics.py\u001b[0m in \u001b[0;36mqed\u001b[0;34m(self, line)\u001b[0m\n\u001b[1;32m    978\u001b[0m     \u001b[0;34m@\u001b[0m\u001b[0mline_magic\u001b[0m\u001b[0;34m\u001b[0m\u001b[0;34m\u001b[0m\u001b[0m\n\u001b[1;32m    979\u001b[0m     \u001b[0;32mdef\u001b[0m \u001b[0mqed\u001b[0m\u001b[0;34m(\u001b[0m\u001b[0mself\u001b[0m\u001b[0;34m,\u001b[0m \u001b[0mline\u001b[0m\u001b[0;34m)\u001b[0m\u001b[0;34m:\u001b[0m\u001b[0;34m\u001b[0m\u001b[0;34m\u001b[0m\u001b[0m\n\u001b[0;32m--> 980\u001b[0;31m         \u001b[0;32mreturn\u001b[0m \u001b[0mProveItMagicCommands\u001b[0m\u001b[0;34m.\u001b[0m\u001b[0mqed\u001b[0m\u001b[0;34m(\u001b[0m\u001b[0mself\u001b[0m\u001b[0;34m)\u001b[0m\u001b[0;34m\u001b[0m\u001b[0;34m\u001b[0m\u001b[0m\n\u001b[0m\u001b[1;32m    981\u001b[0m \u001b[0;34m\u001b[0m\u001b[0m\n\u001b[1;32m    982\u001b[0m     \u001b[0;34m@\u001b[0m\u001b[0mline_magic\u001b[0m\u001b[0;34m\u001b[0m\u001b[0;34m\u001b[0m\u001b[0m\n",
      "\u001b[0;32m/home/wwitzel/Prove-It/packages/proveit/magics.py\u001b[0m in \u001b[0;36mqed\u001b[0;34m(self)\u001b[0m\n\u001b[1;32m    650\u001b[0m     \u001b[0;32mdef\u001b[0m \u001b[0mqed\u001b[0m\u001b[0;34m(\u001b[0m\u001b[0mself\u001b[0m\u001b[0;34m)\u001b[0m\u001b[0;34m:\u001b[0m\u001b[0;34m\u001b[0m\u001b[0;34m\u001b[0m\u001b[0m\n\u001b[1;32m    651\u001b[0m         \u001b[0;32mimport\u001b[0m \u001b[0mproveit\u001b[0m\u001b[0;34m\u001b[0m\u001b[0;34m\u001b[0m\u001b[0m\n\u001b[0;32m--> 652\u001b[0;31m         \u001b[0mproof\u001b[0m \u001b[0;34m=\u001b[0m \u001b[0mJudgment\u001b[0m\u001b[0;34m.\u001b[0m\u001b[0mtheorem_being_proven\u001b[0m\u001b[0;34m.\u001b[0m\u001b[0mproven_truth\u001b[0m\u001b[0;34m.\u001b[0m\u001b[0m_qed\u001b[0m\u001b[0;34m(\u001b[0m\u001b[0;34m)\u001b[0m\u001b[0;34m\u001b[0m\u001b[0;34m\u001b[0m\u001b[0m\n\u001b[0m\u001b[1;32m    653\u001b[0m         \u001b[0mproof\u001b[0m\u001b[0;34m.\u001b[0m\u001b[0m_repr_html_\u001b[0m\u001b[0;34m(\u001b[0m\u001b[0;34m)\u001b[0m  \u001b[0;31m# generate expressions that should be referenced\u001b[0m\u001b[0;34m\u001b[0m\u001b[0;34m\u001b[0m\u001b[0m\n\u001b[1;32m    654\u001b[0m         \u001b[0;31m# clean unreferenced expressions, but only when \"display latex\"\u001b[0m\u001b[0;34m\u001b[0m\u001b[0;34m\u001b[0m\u001b[0;34m\u001b[0m\u001b[0m\n",
      "\u001b[0;32m/home/wwitzel/Prove-It/packages/proveit/_core_/judgment.py\u001b[0m in \u001b[0;36m_qed\u001b[0;34m(self)\u001b[0m\n\u001b[1;32m    339\u001b[0m             \u001b[0;32mif\u001b[0m \u001b[0;32mnot\u001b[0m \u001b[0mproof\u001b[0m\u001b[0;34m.\u001b[0m\u001b[0mis_usable\u001b[0m\u001b[0;34m(\u001b[0m\u001b[0;34m)\u001b[0m\u001b[0;34m:\u001b[0m\u001b[0;34m\u001b[0m\u001b[0;34m\u001b[0m\u001b[0m\n\u001b[1;32m    340\u001b[0m                 \u001b[0mproof\u001b[0m\u001b[0;34m.\u001b[0m\u001b[0mproven_truth\u001b[0m\u001b[0;34m.\u001b[0m\u001b[0mraise_unusable_proof\u001b[0m\u001b[0;34m(\u001b[0m\u001b[0;34m)\u001b[0m\u001b[0;34m\u001b[0m\u001b[0;34m\u001b[0m\u001b[0m\n\u001b[0;32m--> 341\u001b[0;31m             \u001b[0mJudgment\u001b[0m\u001b[0;34m.\u001b[0m\u001b[0mtheorem_being_proven\u001b[0m\u001b[0;34m.\u001b[0m\u001b[0m_recordProof\u001b[0m\u001b[0;34m(\u001b[0m\u001b[0mproof\u001b[0m\u001b[0;34m)\u001b[0m\u001b[0;34m\u001b[0m\u001b[0;34m\u001b[0m\u001b[0m\n\u001b[0m\u001b[1;32m    342\u001b[0m         \u001b[0;32mfinally\u001b[0m\u001b[0;34m:\u001b[0m\u001b[0;34m\u001b[0m\u001b[0;34m\u001b[0m\u001b[0m\n\u001b[1;32m    343\u001b[0m             \u001b[0mJudgment\u001b[0m\u001b[0;34m.\u001b[0m\u001b[0mqed_in_progress\u001b[0m \u001b[0;34m=\u001b[0m \u001b[0;32mFalse\u001b[0m\u001b[0;34m\u001b[0m\u001b[0;34m\u001b[0m\u001b[0m\n",
      "\u001b[0;32m/home/wwitzel/Prove-It/packages/proveit/_core_/proof.py\u001b[0m in \u001b[0;36m_recordProof\u001b[0;34m(self, proof)\u001b[0m\n\u001b[1;32m    808\u001b[0m         for theorems that depend upon the one being proven) appropriately.\n\u001b[1;32m    809\u001b[0m         '''\n\u001b[0;32m--> 810\u001b[0;31m         \u001b[0mself\u001b[0m\u001b[0;34m.\u001b[0m\u001b[0m_stored_theorem\u001b[0m\u001b[0;34m(\u001b[0m\u001b[0;34m)\u001b[0m\u001b[0;34m.\u001b[0m\u001b[0m_recordProof\u001b[0m\u001b[0;34m(\u001b[0m\u001b[0mproof\u001b[0m\u001b[0;34m)\u001b[0m\u001b[0;34m\u001b[0m\u001b[0;34m\u001b[0m\u001b[0m\n\u001b[0m\u001b[1;32m    811\u001b[0m \u001b[0;34m\u001b[0m\u001b[0m\n\u001b[1;32m    812\u001b[0m     \u001b[0;32mdef\u001b[0m \u001b[0mremove_proof\u001b[0m\u001b[0;34m(\u001b[0m\u001b[0mself\u001b[0m\u001b[0;34m)\u001b[0m\u001b[0;34m:\u001b[0m\u001b[0;34m\u001b[0m\u001b[0;34m\u001b[0m\u001b[0m\n",
      "\u001b[0;32m/home/wwitzel/Prove-It/packages/proveit/_core_/_theory_storage.py\u001b[0m in \u001b[0;36m_recordProof\u001b[0;34m(self, proof)\u001b[0m\n\u001b[1;32m   2676\u001b[0m         \u001b[0;32mif\u001b[0m \u001b[0mself\u001b[0m\u001b[0;34m.\u001b[0m\u001b[0mhas_proof\u001b[0m\u001b[0;34m(\u001b[0m\u001b[0;34m)\u001b[0m\u001b[0;34m:\u001b[0m\u001b[0;34m\u001b[0m\u001b[0;34m\u001b[0m\u001b[0m\n\u001b[1;32m   2677\u001b[0m             \u001b[0;31m# remove the old proof if one already exists\u001b[0m\u001b[0;34m\u001b[0m\u001b[0;34m\u001b[0m\u001b[0;34m\u001b[0m\u001b[0m\n\u001b[0;32m-> 2678\u001b[0;31m             \u001b[0mself\u001b[0m\u001b[0;34m.\u001b[0m\u001b[0mremove_proof\u001b[0m\u001b[0;34m(\u001b[0m\u001b[0;34m)\u001b[0m\u001b[0;34m\u001b[0m\u001b[0;34m\u001b[0m\u001b[0m\n\u001b[0m\u001b[1;32m   2679\u001b[0m         \u001b[0;31m# record the proof id\u001b[0m\u001b[0;34m\u001b[0m\u001b[0;34m\u001b[0m\u001b[0;34m\u001b[0m\u001b[0m\n\u001b[1;32m   2680\u001b[0m         \u001b[0;32mif\u001b[0m \u001b[0;32mnot\u001b[0m \u001b[0misinstance\u001b[0m\u001b[0;34m(\u001b[0m\u001b[0mproof\u001b[0m\u001b[0;34m,\u001b[0m \u001b[0mProof\u001b[0m\u001b[0;34m)\u001b[0m\u001b[0;34m:\u001b[0m\u001b[0;34m\u001b[0m\u001b[0;34m\u001b[0m\u001b[0m\n",
      "\u001b[0;32m/home/wwitzel/Prove-It/packages/proveit/_core_/_theory_storage.py\u001b[0m in \u001b[0;36mremove_proof\u001b[0;34m(self)\u001b[0m\n\u001b[1;32m   2834\u001b[0m             \u001b[0;32mtry\u001b[0m\u001b[0;34m:\u001b[0m\u001b[0;34m\u001b[0m\u001b[0;34m\u001b[0m\u001b[0m\n\u001b[1;32m   2835\u001b[0m                 Theory.get_stored_theorem(\n\u001b[0;32m-> 2836\u001b[0;31m                     used_theorem)._removeUsedByEntry(str(self))\n\u001b[0m\u001b[1;32m   2837\u001b[0m             \u001b[0;32mexcept\u001b[0m \u001b[0;34m(\u001b[0m\u001b[0mKeyError\u001b[0m\u001b[0;34m,\u001b[0m \u001b[0mTheoryException\u001b[0m\u001b[0;34m)\u001b[0m\u001b[0;34m:\u001b[0m\u001b[0;34m\u001b[0m\u001b[0;34m\u001b[0m\u001b[0m\n\u001b[1;32m   2838\u001b[0m                 \u001b[0;32mpass\u001b[0m  \u001b[0;31m# If it doesn't exist, never mind.\u001b[0m\u001b[0;34m\u001b[0m\u001b[0;34m\u001b[0m\u001b[0m\n",
      "\u001b[0;32m/home/wwitzel/Prove-It/packages/proveit/_core_/theory.py\u001b[0m in \u001b[0;36mget_stored_theorem\u001b[0;34m(fullname)\u001b[0m\n\u001b[1;32m    514\u001b[0m     \u001b[0;34m@\u001b[0m\u001b[0mstaticmethod\u001b[0m\u001b[0;34m\u001b[0m\u001b[0;34m\u001b[0m\u001b[0m\n\u001b[1;32m    515\u001b[0m     \u001b[0;32mdef\u001b[0m \u001b[0mget_stored_theorem\u001b[0m\u001b[0;34m(\u001b[0m\u001b[0mfullname\u001b[0m\u001b[0;34m)\u001b[0m\u001b[0;34m:\u001b[0m\u001b[0;34m\u001b[0m\u001b[0;34m\u001b[0m\u001b[0m\n\u001b[0;32m--> 516\u001b[0;31m         \u001b[0;32mreturn\u001b[0m \u001b[0mTheory\u001b[0m\u001b[0;34m.\u001b[0m\u001b[0mget_stored_stmt\u001b[0m\u001b[0;34m(\u001b[0m\u001b[0mfullname\u001b[0m\u001b[0;34m,\u001b[0m \u001b[0;34m'theorem'\u001b[0m\u001b[0;34m)\u001b[0m\u001b[0;34m\u001b[0m\u001b[0;34m\u001b[0m\u001b[0m\n\u001b[0m\u001b[1;32m    517\u001b[0m \u001b[0;34m\u001b[0m\u001b[0m\n\u001b[1;32m    518\u001b[0m     \u001b[0;34m@\u001b[0m\u001b[0mstaticmethod\u001b[0m\u001b[0;34m\u001b[0m\u001b[0;34m\u001b[0m\u001b[0m\n",
      "\u001b[0;32m/home/wwitzel/Prove-It/packages/proveit/_core_/theory.py\u001b[0m in \u001b[0;36mget_stored_stmt\u001b[0;34m(fullname, kind)\u001b[0m\n\u001b[1;32m    526\u001b[0m             \u001b[0;32mreturn\u001b[0m \u001b[0mStoredAxiom\u001b[0m\u001b[0;34m(\u001b[0m\u001b[0mtheory\u001b[0m\u001b[0;34m,\u001b[0m \u001b[0mstmt_name\u001b[0m\u001b[0;34m)\u001b[0m\u001b[0;34m\u001b[0m\u001b[0;34m\u001b[0m\u001b[0m\n\u001b[1;32m    527\u001b[0m         \u001b[0;32melif\u001b[0m \u001b[0mkind\u001b[0m \u001b[0;34m==\u001b[0m \u001b[0;34m'theorem'\u001b[0m\u001b[0;34m:\u001b[0m\u001b[0;34m\u001b[0m\u001b[0;34m\u001b[0m\u001b[0m\n\u001b[0;32m--> 528\u001b[0;31m             \u001b[0;32mreturn\u001b[0m \u001b[0mStoredTheorem\u001b[0m\u001b[0;34m(\u001b[0m\u001b[0mtheory\u001b[0m\u001b[0;34m,\u001b[0m \u001b[0mstmt_name\u001b[0m\u001b[0;34m)\u001b[0m\u001b[0;34m\u001b[0m\u001b[0;34m\u001b[0m\u001b[0m\n\u001b[0m\u001b[1;32m    529\u001b[0m         \u001b[0;32melse\u001b[0m\u001b[0;34m:\u001b[0m\u001b[0;34m\u001b[0m\u001b[0;34m\u001b[0m\u001b[0m\n\u001b[1;32m    530\u001b[0m             raise TheoryException(\n",
      "\u001b[0;32m/home/wwitzel/Prove-It/packages/proveit/_core_/_theory_storage.py\u001b[0m in \u001b[0;36m__init__\u001b[0;34m(self, theory, name)\u001b[0m\n\u001b[1;32m   2467\u001b[0m         \u001b[0m__pv_it\u001b[0m \u001b[0mdatabase\u001b[0m \u001b[0mentries\u001b[0m\u001b[0;34m.\u001b[0m\u001b[0;34m\u001b[0m\u001b[0;34m\u001b[0m\u001b[0m\n\u001b[1;32m   2468\u001b[0m         '''\n\u001b[0;32m-> 2469\u001b[0;31m         \u001b[0mStoredSpecialStmt\u001b[0m\u001b[0;34m.\u001b[0m\u001b[0m__init__\u001b[0m\u001b[0;34m(\u001b[0m\u001b[0mself\u001b[0m\u001b[0;34m,\u001b[0m \u001b[0mtheory\u001b[0m\u001b[0;34m,\u001b[0m \u001b[0mname\u001b[0m\u001b[0;34m,\u001b[0m \u001b[0;34m'theorem'\u001b[0m\u001b[0;34m)\u001b[0m\u001b[0;34m\u001b[0m\u001b[0;34m\u001b[0m\u001b[0m\n\u001b[0m\u001b[1;32m   2470\u001b[0m \u001b[0;34m\u001b[0m\u001b[0m\n\u001b[1;32m   2471\u001b[0m     \u001b[0;32mdef\u001b[0m \u001b[0mget_proof_link\u001b[0m\u001b[0;34m(\u001b[0m\u001b[0mself\u001b[0m\u001b[0;34m)\u001b[0m\u001b[0;34m:\u001b[0m\u001b[0;34m\u001b[0m\u001b[0;34m\u001b[0m\u001b[0m\n",
      "\u001b[0;32m/home/wwitzel/Prove-It/packages/proveit/_core_/_theory_storage.py\u001b[0m in \u001b[0;36m__init__\u001b[0;34m(self, theory, name, kind)\u001b[0m\n\u001b[1;32m   2294\u001b[0m             \u001b[0mself\u001b[0m\u001b[0;34m.\u001b[0m\u001b[0mtheory_folder_storage\u001b[0m \u001b[0;34m=\u001b[0m\u001b[0;31m \u001b[0m\u001b[0;31m\\\u001b[0m\u001b[0;34m\u001b[0m\u001b[0;34m\u001b[0m\u001b[0m\n\u001b[1;32m   2295\u001b[0m                 \u001b[0mself\u001b[0m\u001b[0;34m.\u001b[0m\u001b[0mtheory\u001b[0m\u001b[0;34m.\u001b[0m\u001b[0m_theory_folder_storage\u001b[0m\u001b[0;34m(\u001b[0m\u001b[0;34m'theorems'\u001b[0m\u001b[0;34m)\u001b[0m\u001b[0;34m\u001b[0m\u001b[0;34m\u001b[0m\u001b[0m\n\u001b[0;32m-> 2296\u001b[0;31m             \u001b[0mhash_dir\u001b[0m \u001b[0;34m=\u001b[0m \u001b[0mself\u001b[0m\u001b[0;34m.\u001b[0m\u001b[0mtheory\u001b[0m\u001b[0;34m.\u001b[0m\u001b[0m_storage\u001b[0m\u001b[0;34m.\u001b[0m\u001b[0mget_theorem_hash\u001b[0m\u001b[0;34m(\u001b[0m\u001b[0mname\u001b[0m\u001b[0;34m)\u001b[0m\u001b[0;34m\u001b[0m\u001b[0;34m\u001b[0m\u001b[0m\n\u001b[0m\u001b[1;32m   2297\u001b[0m         \u001b[0;32melse\u001b[0m\u001b[0;34m:\u001b[0m\u001b[0;34m\u001b[0m\u001b[0;34m\u001b[0m\u001b[0m\n\u001b[1;32m   2298\u001b[0m             \u001b[0;32mraise\u001b[0m \u001b[0mValueError\u001b[0m\u001b[0;34m(\u001b[0m\u001b[0;34m\"kind must be 'axiom' or 'theorem'\"\u001b[0m\u001b[0;34m)\u001b[0m\u001b[0;34m\u001b[0m\u001b[0;34m\u001b[0m\u001b[0m\n",
      "\u001b[0;32m/home/wwitzel/Prove-It/packages/proveit/_core_/_theory_storage.py\u001b[0m in \u001b[0;36mget_theorem_hash\u001b[0;34m(self, name)\u001b[0m\n\u001b[1;32m    576\u001b[0m         folder).\n\u001b[1;32m    577\u001b[0m         '''\n\u001b[0;32m--> 578\u001b[0;31m         \u001b[0mlist\u001b[0m\u001b[0;34m(\u001b[0m\u001b[0mself\u001b[0m\u001b[0;34m.\u001b[0m\u001b[0m_load_special_names\u001b[0m\u001b[0;34m(\u001b[0m\u001b[0;34m'theorem'\u001b[0m\u001b[0;34m)\u001b[0m\u001b[0;34m)\u001b[0m\u001b[0;34m\u001b[0m\u001b[0;34m\u001b[0m\u001b[0m\n\u001b[0m\u001b[1;32m    579\u001b[0m         \u001b[0;32mtry\u001b[0m\u001b[0;34m:\u001b[0m\u001b[0;34m\u001b[0m\u001b[0;34m\u001b[0m\u001b[0m\n\u001b[1;32m    580\u001b[0m             \u001b[0;32mreturn\u001b[0m \u001b[0mself\u001b[0m\u001b[0;34m.\u001b[0m\u001b[0m_special_hash_ids\u001b[0m\u001b[0;34m[\u001b[0m\u001b[0;34m'theorem'\u001b[0m\u001b[0;34m]\u001b[0m\u001b[0;34m[\u001b[0m\u001b[0mname\u001b[0m\u001b[0;34m]\u001b[0m\u001b[0;34m\u001b[0m\u001b[0;34m\u001b[0m\u001b[0m\n",
      "\u001b[0;32m/home/wwitzel/Prove-It/packages/proveit/_core_/_theory_storage.py\u001b[0m in \u001b[0;36m_load_special_names\u001b[0;34m(self, kind)\u001b[0m\n\u001b[1;32m    543\u001b[0m                                 \u001b[0m_theory_folder_storage\u001b[0m\u001b[0;34m.\u001b[0m\u001b[0mpath\u001b[0m\u001b[0;34m,\u001b[0m \u001b[0mhash_folder\u001b[0m\u001b[0;34m,\u001b[0m\u001b[0;34m\u001b[0m\u001b[0;34m\u001b[0m\u001b[0m\n\u001b[1;32m    544\u001b[0m                                 'unique_rep.pv_it')\n\u001b[0;32m--> 545\u001b[0;31m                             \u001b[0;32mwith\u001b[0m \u001b[0mopen\u001b[0m\u001b[0;34m(\u001b[0m\u001b[0munique_rep_filename\u001b[0m\u001b[0;34m,\u001b[0m \u001b[0;34m'r'\u001b[0m\u001b[0;34m)\u001b[0m \u001b[0;32mas\u001b[0m \u001b[0mf\u001b[0m\u001b[0;34m:\u001b[0m\u001b[0;34m\u001b[0m\u001b[0;34m\u001b[0m\u001b[0m\n\u001b[0m\u001b[1;32m    546\u001b[0m                                 \u001b[0mrep\u001b[0m \u001b[0;34m=\u001b[0m \u001b[0mf\u001b[0m\u001b[0;34m.\u001b[0m\u001b[0mread\u001b[0m\u001b[0;34m(\u001b[0m\u001b[0;34m)\u001b[0m\u001b[0;34m\u001b[0m\u001b[0;34m\u001b[0m\u001b[0m\n\u001b[1;32m    547\u001b[0m                             \u001b[0mstorage_ids\u001b[0m \u001b[0;34m=\u001b[0m\u001b[0;31m \u001b[0m\u001b[0;31m\\\u001b[0m\u001b[0;34m\u001b[0m\u001b[0;34m\u001b[0m\u001b[0m\n",
      "\u001b[0;32m/projects/percept/linux_rhel6/anaconda3/lib/python3.7/_bootlocale.py\u001b[0m in \u001b[0;36mgetpreferredencoding\u001b[0;34m(do_setlocale)\u001b[0m\n\u001b[1;32m     31\u001b[0m                 \u001b[0;32mreturn\u001b[0m \u001b[0mlocale\u001b[0m\u001b[0;34m.\u001b[0m\u001b[0mgetpreferredencoding\u001b[0m\u001b[0;34m(\u001b[0m\u001b[0mdo_setlocale\u001b[0m\u001b[0;34m)\u001b[0m\u001b[0;34m\u001b[0m\u001b[0;34m\u001b[0m\u001b[0m\n\u001b[1;32m     32\u001b[0m     \u001b[0;32melse\u001b[0m\u001b[0;34m:\u001b[0m\u001b[0;34m\u001b[0m\u001b[0;34m\u001b[0m\u001b[0m\n\u001b[0;32m---> 33\u001b[0;31m         \u001b[0;32mdef\u001b[0m \u001b[0mgetpreferredencoding\u001b[0m\u001b[0;34m(\u001b[0m\u001b[0mdo_setlocale\u001b[0m\u001b[0;34m=\u001b[0m\u001b[0;32mTrue\u001b[0m\u001b[0;34m)\u001b[0m\u001b[0;34m:\u001b[0m\u001b[0;34m\u001b[0m\u001b[0;34m\u001b[0m\u001b[0m\n\u001b[0m\u001b[1;32m     34\u001b[0m             \u001b[0;32massert\u001b[0m \u001b[0;32mnot\u001b[0m \u001b[0mdo_setlocale\u001b[0m\u001b[0;34m\u001b[0m\u001b[0;34m\u001b[0m\u001b[0m\n\u001b[1;32m     35\u001b[0m             \u001b[0;32mif\u001b[0m \u001b[0msys\u001b[0m\u001b[0;34m.\u001b[0m\u001b[0mflags\u001b[0m\u001b[0;34m.\u001b[0m\u001b[0mutf8_mode\u001b[0m\u001b[0;34m:\u001b[0m\u001b[0;34m\u001b[0m\u001b[0;34m\u001b[0m\u001b[0m\n",
      "\u001b[0;31mKeyboardInterrupt\u001b[0m: "
     ]
    }
   ],
   "source": [
    "%qed"
   ]
  },
  {
   "cell_type": "code",
   "execution_count": null,
   "metadata": {},
   "outputs": [],
   "source": []
  }
 ],
 "metadata": {
  "kernelspec": {
   "display_name": "Python 3",
   "language": "python",
   "name": "python3"
  },
  "language_info": {
   "codemirror_mode": {
    "name": "ipython",
    "version": 3
   },
   "file_extension": ".py",
   "mimetype": "text/x-python",
   "name": "python",
   "nbconvert_exporter": "python",
   "pygments_lexer": "ipython3",
   "version": "3.7.3"
  }
 },
 "nbformat": 4,
 "nbformat_minor": 1
}
