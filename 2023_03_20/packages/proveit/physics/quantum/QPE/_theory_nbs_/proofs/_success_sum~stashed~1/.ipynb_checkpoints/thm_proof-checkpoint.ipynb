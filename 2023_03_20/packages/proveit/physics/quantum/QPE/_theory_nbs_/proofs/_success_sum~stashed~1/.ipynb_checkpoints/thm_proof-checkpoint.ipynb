{
 "cells": [
  {
   "cell_type": "markdown",
   "metadata": {},
   "source": [
    "Proof of <a class=\"ProveItLink\" href=\"../../../../../../_theory_nbs_/theory.ipynb\">proveit</a>.<a class=\"ProveItLink\" href=\"../../../../../_theory_nbs_/theory.ipynb\">physics</a>.<a class=\"ProveItLink\" href=\"../../../../_theory_nbs_/theory.ipynb\">quantum</a>.<a class=\"ProveItLink\" href=\"../../theory.ipynb\">QPE</a>.<a class=\"ProveItLink\" href=\"../../theorems.ipynb#_success_sum\">_success_sum</a> theorem\n",
    "========"
   ]
  },
  {
   "cell_type": "code",
   "execution_count": 1,
   "metadata": {},
   "outputs": [],
   "source": [
    "import proveit\n",
    "theory = proveit.Theory() # the theorem's theory\n",
    "from proveit import a, b, c, e, l, n, q, x, y, P, Q, S, defaults, Function\n",
    "from proveit.logic import InSet\n",
    "from proveit.numbers import one, two\n",
    "from proveit.numbers import Add, LessEq, ModAbs, Mult, NaturalPos, subtract\n",
    "from proveit.numbers.absolute_value import abs_ineq\n",
    "from proveit.numbers.modular import mod_abs_subtract_cancel\n",
    "from proveit.physics.quantum.QPE import (\n",
    "    _b, _best_is_int, _m, _mod_add_def, _success_def,\n",
    "    _two_pow_t, _two_pow_t_is_nat_pos)\n",
    "from proveit.physics.quantum.QPE import ModAdd\n",
    "from proveit.statistics import prob_lower_bound"
   ]
  },
  {
   "cell_type": "code",
   "execution_count": 2,
   "metadata": {},
   "outputs": [
    {
     "data": {
      "text/html": [
       "Under these <a href=\"presumptions.txt\">presumptions</a>, we begin our proof of<br><strong id=\"_success_sum\">_success_sum:</strong> <a class=\"ProveItLink\" href=\"../../../__pv_it/theorems/a6fbdc03d2d996e1bfea2924055fdd5da76e13260/expr.ipynb\"><img src=\"data:image/png;base64,iVBORw0KGgoAAAANSUhEUgAAAckAAAA/BAMAAAB5rS7yAAAAMFBMVEX///8QEBCIiIhmZma6urrM\n",
       "zMxUVFQiIiJERETc3Nzu7u6qqqp2dnaYmJgyMjIAAAAcRTyBAAAAAXRSTlMAQObYZgAACJxJREFU\n",
       "aN69Wn2ME0UUf/R793ZbYiRRAqFWI8QgNBhDFOEqajTGhOIfJkYT6qlEET0Eo6IocDHmiMGrH/ED\n",
       "NV0kKEFMSwx+RXObu1Mj1lhBQaPIGSNEEahwh9wJrDOzH93ZdncWM3u/5O61293f29/MmzdvZhfA\n",
       "H3YBN3CkckUkS1t/aFvG7QY4Unmgy2F94bk8N/8cqTywMUdbX1jOz7+NalsmHVjInk9bP5AGubm3\n",
       "UYl/ioXAOnOew/pAKcfNu40qdv++4EK2XKGtD3Tz826jGpcLcGBK42nrIy2O8MuwNqpUEZTAVIrH\n",
       "aMtGcg0353aqRCXAcQnfKLRlYlGNm287lTgrE2DIlmq0ZaKTn+9OGCskB2nLDPET/EbLiTFTGRqh\n",
       "LQvyEDfXHKmYDXqKtiwk6txcc6Ri4leHZSDFL8VypGIn2TxtGVigcvPMkYrtK01bVqPwq1FMqqNa\n",
       "A8cCUlleQ1sGjvKrUEyqXk0PI/HFPVP+DkhlfDxtGfiHn2eTKqxZa2l5dSUYlbER2npDOMnNcYNq\n",
       "dWPiDA8GozJ0mraMAvs4v1rdolqkNQqvy4NRKZ+iLaNN9PQw43fmmb88RMwb+rePXKmwa60RR7I7\n",
       "o4dToXV9irzKB0mOixjhgi0JF8/VbPhfYgbQ3x7t6cW/eeSiAZJRjJwWK7pRYfQ0jXa58+TiB65s\n",
       "QdgaW0Bc69womzpMvEpEpXDGaA5kv8If/vQcxUMNh+iCxESGyqShTiQNKK5QmqgwNmpNm4gpdMFa\n",
       "xa/KP5AnJ4VcJ151lWAmb2RfwWo9Z5TkiOUwikK87RhD5W7zW58+Fg8UnVQkjrR/m1ZlqGToTftU\n",
       "KSOFKSM7y1f9po/t8Bri1VA5xTgV2SRqPMkzl48btRyGUF+ETjFUrrS6y9BzIO+g0guEv52hPxPd\n",
       "3EzVp8o4arsFOkP0XlBl0q3j0sSrqdJwgKy8c+vWl71rz7rlEBfbsSFvlYI1WJJGoRPtztFU+q+a\n",
       "cwbpwevPnE+V+J6/0D/eDKDCJrJizhOvhsrVRhBhe7K7e5VflXjklLLeKkP4922ZK1CTmmcKD1Sa\n",
       "VYpTnEGBBr1wHOYvmZ+xEUY+fzXTEe27y+nqQvR3IDMHf8xilQIO9f1AvLZQeTfAuub7VVuqRCOn\n",
       "zatJSH+jDB9ZCa+j4WJ1ljC72KQSVXl0v+FB/4EK6rOVtTZCKdEF5YtgO/4mHSEgjbcetdMZpYx4\n",
       "5SK5XXzH9wDxaqg8aowUbK8xkiGNbEuVM5dWZykMlXHUbxsr4uX2JyLyiua+RFUena1DJ6r9l0C0\n",
       "8jBcZyO8LT4IJZX0EoXHEf8opFAPhvVOuRaZc4B4NVT2GCqxjUPINr9GVwzABQVKZXm8paCHUbfj\n",
       "c/Au6x27LkVnRk1NoVUKRWVWeXTIJkhqEsUhilAp56BXIb1E4VxSGpaRvFi1Wv2rWkW5NYpTOPJq\n",
       "qjRiBVupFjevfKd/LnwoKWHFTaU5k4t5cYOXSr3qMFVuW+6gMnfZ6Ek9pX9tq9OEvQCz9V5yqkTT\n",
       "5YKK1Zeo4gqNd1UpDN5ixtUzGxT4NJ2VoP+yFZdZs0vZitgoKUMzP6e31OVzQKpeAdX+4qbp6dCl\n",
       "ffhoI2L1Torot/3CE+CgMvAtXRwtylrFuzz35gtDF+cJ4TyAVRAZERvjsmBEbKoG7Yql8nsUDQWF\n",
       "eG2hEtbdBfrjp2vwoR07npfcxiWeLiGiCmmhDl2wFJbG1Jh6GO67CZ7HRxvZB2WokJl9XjrURGXM\n",
       "o8PN0yWOBXTH8tW1cUtCBUI4CVAMhwdfc/Qlyj6pnDgZ81SISlwl1FS37APvLTMeP5Gb2iG9e7ub\n",
       "yiQeOcLxjxWxDh0C+lJSIDoK75fmbMVHdZV4/pgBIppJwjjtiU+Bi8pFlZYrbDznbZiKJODLB0AY\n",
       "wjGcVJ1bKf1oQNYS5DaXYJUyYkvdmCZeW6nEeQo/fhLJJTtA7XdRGT56Ak9KN2g5rDKCDi9ATXd6\n",
       "3/RIzxA+qqvEcRqai+v/ZN5l6tXHtmOozdM6iL0e/+uAhST0BzAdmoHb5jpL/+vx3vzX5OMmBan8\n",
       "hFR6uldzvjT8EysresqIPtrd3YVUvhGnVdoqPJJTim3LkMouASW0UpGkmFvhA3zUWeG97VYs6rWP\n",
       "1yP/CTANSlFWhWdiVlG9pWbz2qIq0BsZP34q6H0ZQRUT2LohTqtsy8IaGBUnwZ3wZiwrpteD/B4k\n",
       "yNGW1Tp1azaVXk8L0bjvgB8kVrVunT69kStbV+vGXIUfP32GP30H8LNjp3iYVtk3vQi7d7XXpFlp\n",
       "6M+A1Kd+kvmSHNXPSdArr4OPYOTtVKSOeayxg9AkIVJAC6uXdnquvNa5bKk3Vl6acUizfsOPnxKo\n",
       "QSJP5iDmuopmgVpFJzxX0bZp5CcGodsquvXuvbWKFo3ZXXSs16d1d7nvEk1l74jMoHZEfnTfcKKm\n",
       "kYjHTuLUs94RQV5D+o5I1NhKi/ranWvz+TjlrKhK1kAS27MQCMytNH+7c1F+T+MsKpS8DLzWqQX0\n",
       "AtDZ7VTCGX6eTarkGb1Ye1DTtH+CEQnhYdoysJqfZ5OqfQyekyTrtGWgnV9ItY/J62nUGseyDPTy\n",
       "e3mCIxUTxhrHsgyUC9w8c6RiYmaFtgzE+b3rGV82dio7HZYBid+rWxypmDjPYRkQ+GVBneqtsXiH\n",
       "InKatkwc5Of7oG2rJFjERmnLxH5++Z9QSdkxUJnK0pZ9gcrPt2psDQUOs2t8d5E0kV/6maiv2SkE\n",
       "8mb3EYdlYxI/55hqIcS6EdabpXsQb3abS7vIsP/eV/gFEqKa5sgTQbzZbW4rJf3ngCS/gYmprLX6\n",
       "DbhLlUDe7N6u0NbPupDfZI6pJuRjeNl12MxIQbzZPdlh/WAvP/eIqk4nmyDe7I4VaOvvIn4zHKK6\n",
       "ig7RIN7s3vu/uucQvxs4BMFDOJ+2PrGZ3x1sHguVRcr+BzgM1uI3izP9AAAAAElFTkSuQmCC\n",
       "\" style=\"display:inline;vertical-align:middle;\" /></a><br>(see <a class=\"ProveItLink\" href=\"../../../__pv_it/theorems/83f255391f7f9299a141b67c3b0dfabfc8c1f3e60/dependencies.ipynb\">dependencies</a>)<br>"
      ],
      "text/plain": [
       "_success_sum: forall_{e in NaturalPos} ([Psuccess](e) >= (Sum_{l=-e}^{e} Pr_{m}[m = (b MOD_ADD l)]))"
      ]
     },
     "execution_count": 2,
     "metadata": {},
     "output_type": "execute_result"
    }
   ],
   "source": [
    "%proving _success_sum"
   ]
  },
  {
   "cell_type": "code",
   "execution_count": 3,
   "metadata": {},
   "outputs": [
    {
     "data": {
      "text/html": [
       "<strong id=\"l_domain\">l_domain:</strong> <a class=\"ProveItLink\" href=\"../../../__pv_it/theorems/ebac66f86cc59d4f2623c79c7f7a3b21db0697730/expr.ipynb\"><img src=\"data:image/png;base64,iVBORw0KGgoAAAANSUhEUgAAAFcAAAAVBAMAAADBdm84AAAAMFBMVEX///+IiIi6urrc3NxERETM\n",
       "zMwQEBCqqqpUVFQiIiJ2dnYyMjLu7u5mZmaYmJgAAABN0h6tAAAAAXRSTlMAQObYZgAAANxJREFU\n",
       "KM9jYGDgu8dAGLBePACieHYxEAOYUkEk3weiFDPcBhFcE4hTvHKwKj4leBlTGc9CWQMGhmUgJscG\n",
       "pPCZzGCFqVjTgHkBA8N7ELMsACF8rIDnKqbB6QxngWq4LzAwhEwG8k/vBoGtDG0P5Q5gKObIE3wD\n",
       "ojsFGBjUkEz+gc1n/A1gihtEcTggxH9hVbwATL1HD41ZDAyMGIo5gYoFoKGBrFiagQcSdOeBQcTz\n",
       "GyLIuIHhrAGWcGa89w5qGsiBM6Cisu8ekBeDCSQoJik9MxCZU5LAFDvReRAA9qk95zlKMjYAAAAA\n",
       "SUVORK5CYII=\n",
       "\" style=\"display:inline;vertical-align:middle;\" /></a><br>"
      ],
      "text/plain": [
       "l_domain: {-e .. e}"
      ]
     },
     "execution_count": 3,
     "metadata": {},
     "output_type": "execute_result"
    }
   ],
   "source": [
    "l_domain = _success_sum.instance_expr.rhs.domain"
   ]
  },
  {
   "cell_type": "code",
   "execution_count": 4,
   "metadata": {},
   "outputs": [
    {
     "data": {
      "text/html": [
       "<strong id=\"l_in_domain\">l_in_domain:</strong> <a class=\"ProveItLink\" href=\"../../../__pv_it/theorems/2c8b3d334b927f3c2c870019c8bf2836b7953a9e0/expr.ipynb\"><img src=\"data:image/png;base64,iVBORw0KGgoAAAANSUhEUgAAAHgAAAAVBAMAAAB/IDdlAAAAMFBMVEX///+qqqoyMjK6urp2dnbu\n",
       "7u5UVFTc3NwQEBBERERmZmaYmJjMzMwiIiKIiIgAAABu1cpWAAAAAXRSTlMAQObYZgAAAT5JREFU\n",
       "OMtjYMAEuzYwEAannmIVDnJgIAZYHAASb/+gie4nSi8DlwKQ4P6AJupLnGaWCyATJlCgmeMBhLPz\n",
       "7l0FkjXXHwCzTz4lx2ZI+LCqYnU2q9+rAkx9Ie+WAzU3AFmZYD4bQk0SkjLbAnbMiGO+zlACDeg+\n",
       "sAAnXIqxB8niRoaoAxiaIwRY1wApLQYGnu9ggRNKQAAKMJ65QDewKoHBAbbud1sxXZ2x73UAyLH3\n",
       "GPgawAKVCEch2cyfgC2ovkEoNaB7E0CmMHAg5DKRNGNNqV/AJMjP/BvACrgeYAttXqDcAwzNVxgY\n",
       "+CChzW8Kkb2ITTOfAkMUOBpYPwGJeEgiYnjEwLocEs/cSyAiYZMDsMTzq93Q7HkN5A5oCPCt3g1L\n",
       "JDBgMpeM5IkBPCjRTEp+xgBMRJYkBliFpYgtwwBU9k7yTM/YGQAAAABJRU5ErkJggg==\n",
       "\" style=\"display:inline;vertical-align:middle;\" /></a><br>"
      ],
      "text/plain": [
       "l_in_domain: l in {-e .. e}"
      ]
     },
     "execution_count": 4,
     "metadata": {},
     "output_type": "execute_result"
    }
   ],
   "source": [
    "l_in_domain = InSet(l, l_domain)"
   ]
  },
  {
   "cell_type": "code",
   "execution_count": 5,
   "metadata": {},
   "outputs": [
    {
     "data": {
      "text/html": [
       "<strong id=\"defaults.assumptions\">defaults.assumptions:</strong> <a class=\"ProveItLink\" href=\"../../../__pv_it/_proof__success_sum/a38303ca44a8f06c0f88332141323b23ff0200900/expr.ipynb\"><img src=\"data:image/png;base64,iVBORw0KGgoAAAANSUhEUgAAAM8AAAAbBAMAAAApAMZVAAAAMFBMVEX///8iIiJERESYmJiqqqoQ\n",
       "EBB2dnbc3NyIiIhmZmbu7u4yMjJUVFS6urrMzMwAAADZVrDbAAAAAXRSTlMAQObYZgAAAoNJREFU\n",
       "SMdjYKAfeItPkocaNnCASb4D+NQwUcMiXrAV3AvItcjSgLAdfDNAxieDmDMYyLRodQJRvokDEoxA\n",
       "29h/YTPjk/YChtSvF5AtavyHpsieuHCbDYqkCQwMbBOwySoDY47rA8Pp3Vt374YGEPMHNDWJxFkE\n",
       "UsYO1MvqgE324IMOBoYAlKDjVCDfIgYRBoZ65LTArCgoDWac1eJ5wCCAYhFrA6oSkiyaxMBgipxE\n",
       "NGC2Hn/DtQvNovoHqEpIsqgVElcMyzqmg9MA3JDjLA1v0CyCxD1CCYpFXBmdBRhWQARTQcz7CxiU\n",
       "QElQnKEMbDxczXGGXOYGVIsOMaAqYTiNZObFAnbMxA4RBDvw/QOGPUBqqQPXPBBXAckingXnQBax\n",
       "w4UiGFCVsMQhuT2EYeUDDA9BBLlBybr+AoMkkDpq0QwKEb7o3UAAtYjrAHcAShb/zoCihE8RGCxc\n",
       "u8HgAU9whxVmMQkVPAhMResvMOwEMv9AZNiRfcTwjA/FIo4ANCW8SD7ix1ZeQgW5D0B8pAOkvkGl\n",
       "ApAtYnZAyThMBxagKoFGGsRMbKURVBASRwVg5WLQkhxR7J0D4nQUi/gNEtBKRqRUxwiUa0C3CCoI\n",
       "S3XAFM7QzcAFTt6M8FJiC6go2ADjrQey+G81oCpBtohjA8PKAphKrt8ogmBlpmC7GDgmG0PSyaFb\n",
       "EDUPvwJ9wwW3iFEKGJLTUJWg5qNOY0iJyAiKEBkUQVjJwHoBuUxPgpUvqMALmxJSSoYdwAAiplbB\n",
       "qiaVeIu4gHURaiLGDrgasImSUB8xg0L0CGG1zFhFuYmrYWNBUQcqNlaT3ebwJLrNYAYusybQvEEH\n",
       "LU98aW4R5wI6NlMBjjel6loCXwAAAAAASUVORK5CYII=\n",
       "\" style=\"display:inline;vertical-align:middle;\" /></a><br>"
      ],
      "text/plain": [
       "defaults.assumptions: (e in NaturalPos, l in {-e .. e})"
      ]
     },
     "execution_count": 5,
     "metadata": {},
     "output_type": "execute_result"
    }
   ],
   "source": [
    "defaults.assumptions = _success_sum.all_conditions() + [l_in_domain]"
   ]
  },
  {
   "cell_type": "code",
   "execution_count": 6,
   "metadata": {},
   "outputs": [
    {
     "data": {
      "text/html": [
       "<span style=\"font-size:20px;\"> <a class=\"ProveItLink\" href=\"../../axioms.ipynb#_success_def\" style=\"text-decoration: none\">&nbsp;&#x22A2;&nbsp;&nbsp;</a><a class=\"ProveItLink\" href=\"../../../__pv_it/axioms/7717142884bf008b87ddd0c16b94b2fa538b9be40/expr.ipynb\"><img src=\"data:image/png;base64,iVBORw0KGgoAAAANSUhEUgAAAaIAAAAXBAMAAAC7VVYuAAAAMFBMVEX///8QEBCIiIhmZma6urrM\n",
       "zMxUVFQiIiJERETc3Nzu7u6qqqp2dnaYmJgyMjIAAAAcRTyBAAAAAXRSTlMAQObYZgAABWxJREFU\n",
       "WMPll11sFFUUx//d7k53Zme3jdGYiCTjNrTEFNyUGEO0uGJMfSBSeTBqSFxRTEAwNTUqgZAKxhQJ\n",
       "MPIAhEh2sA8SFLtJU/GbSbfGiH1Yi1EwlNSgMVI/NqVBKcV67r2z3Z2Pziy88OBNNjtz7zlnzu/e\n",
       "c869F7jB7cnrHrz+Jhew+JdAqXMv8b9D4u3j6kyT3SG/8aFrcpRciOnAGHse9RM8Iix/P/PGc+eN\n",
       "gK8r3eJF0l3jXvpDczt95NZrJmLi64Bv2OMFP7nfLMv/AtHbAogSFoky5hbw0PchwvkqiZo7Ks19\n",
       "ABxgcdXtoxFPCcuRaSA2EUB0qvQ26Br30vcjulIVkfKVZjOnakhQIKg5H506XVgOTdJvOoBoU+nt\n",
       "sGvcS9+HKDxVDZF8T8FuTmlA/OTRo/v9lPZblqNFSo9JfyK5s/SWSDvHvfR9iNTOKojkF3JOF34G\n",
       "/unp2eKWNWefGi3RekqNbMqfKMTG308uJYdckpb+8vXLk3aiFev2NmmrmxxTkFjTmAsiiuyeVVIG\n",
       "G3UungfWAjvcwmWHdlnePmUitiWg0kYpBsKb8DZlHysN6p+8CVuWvrk795qdyOzRlIl0rMFuru+C\n",
       "cjmIqKdcFNp12eTi54AHPQtTmWiz5e1dG4ZbjQCiOgqCwznlbqoBnc5xoR/JvYyHbESR3FbI04gX\n",
       "7eInDEwEETXfObtE89DbwcWPkxcIVWRXpGsId2QqiW62vN1jBG4GqKEoeHpkEUlGis5xoa8ok448\n",
       "Yj2xKUis3ipiUdnUL4My7SRSDjps/nDSepDmJ3+0QolCo1BXEngv34aPVKPWyC/pWpJzEP1dMtvh\n",
       "MmwjuiRmxkVk6ceKzspAPbWdqNGc21H4ipMoxCp6fruBfaWeL5ZaSZopuUBE8thjpZ1n50EDn2sp\n",
       "1SvqIhfZS/KsdqQYvwnq8FIM5/XeFi20aJD1lqNOFOhwZzmP+NeEPlBLIR5vW9UYauqwiKinzsRK\n",
       "3R4DV1E75Yq6cbKpS2MYme15ZK0gMktE7fTb8SwvUBplFLWBgb2qV2Vg2wnCpqzJRWzDBmyQTMn8\n",
       "A8+vwF7WW64MlP0hqzI4tyPWaujb8QcKNetDGYuIevrSWCbbN8VJHC64iHay7TFyWe0q58njr/NN\n",
       "k6xqpcqAfppO5YKSEUe8AfXYahtRXhAl2I4nX/zEUIpYI9NLltJ8Ch9m7z3KegURq9mLoVAo1JoO\n",
       "Z7g+tSwtzcFm1KeZBCfKpnEC+F21y2/EdngSpeVJVJadfSzrQmPoFdX7PrZiNMHSxlEonGIAZt5G\n",
       "1M6Jav+6xAL94Zk0IwpTMqykub462hLeM8l6xddZrIXa2Lk30WH3xdIX5rAGj/II5UTtfM/rP2NX\n",
       "6G2hdRiSf1rVdOx0GqEk1YCWkXGeiVMexblxtCBcYLeEuCFSOvJqT882IjrEKkWH6xTEk0GPdRLR\n",
       "NvkyTbbO0/8JHGe9zlPQu7518RYsRDbif64TiZHNJbrJ+k4ySIs6jzukxVKFucqtUlq+eh0GMmKN\n",
       "wqs8T6p8elLoxpRyO57BO1JK0XYh3o8o7w08qVYeXmiZcVqthqjPkMxIA01dVOszMC7SQG7V5yJS\n",
       "SyUzmqM8+pI9fQectcvtqCAabNFxauT+gtqqIZ+EOmh+lvya9wqZqM9touIUmqEryr6TVRFB0iIN\n",
       "8QZIqZW81vEZtj7y6yusOW8T1mBrkmHRx7amIXne+Kq4bpVvfFG92itaVUR8jbJijVZUnDnc5hwH\n",
       "uoWUR5638ubgW/li2638THWXTrK7wG98AbKMqEh59JYhafJ8SuXxT9+c24V4dTN5A5uyJ/Pt5gMX\n",
       "+Y6O4ZEXc6iZmSni/9X+A5nB4UaC2ajOAAAAAElFTkSuQmCC\n",
       "\" style=\"display:inline;vertical-align:middle;\" /></a></span>"
      ],
      "text/plain": [
       "|- forall_{e in NaturalPos} ([Psuccess](e) = Pr_{m}[|m - b|_{mod 2^{t}} <= e])"
      ]
     },
     "execution_count": 6,
     "metadata": {},
     "output_type": "execute_result"
    }
   ],
   "source": [
    "_success_def"
   ]
  },
  {
   "cell_type": "code",
   "execution_count": 7,
   "metadata": {},
   "outputs": [
    {
     "data": {
      "text/html": [
       "<span style=\"font-size:20px;\"> <a class=\"ProveItLink\" href=\"../../../../../../numbers/modular/_theory_nbs_/proofs/mod_abs_subtract_cancel/thm_proof.ipynb\" style=\"text-decoration: none\">&nbsp;&#x22A2;&nbsp;&nbsp;</a><a class=\"ProveItLink\" href=\"../../../../../../numbers/modular/__pv_it/theorems/302c04052797fee74dd8acc10ac80c18fed72fbd0/expr.ipynb\"><img src=\"data:image/png;base64,iVBORw0KGgoAAAANSUhEUgAAAaYAAAAXCAMAAAB3ThtVAAAAOVBMVEX///8oKCgUFBQNDQ0QEBCI\n",
       "iIhmZma6urrMzMxUVFQiIiJERETc3Nzu7u6qqqp2dnaYmJgyMjIAAAArQGDrAAAAAXRSTlMAQObY\n",
       "ZgAABX5JREFUaN7tWYmS4ygM9e5YmPv6/49dEEfAxmfSm5mqoaqbQNzqBw9JT3iafo9G1fRHtk/i\n",
       "3tj6rTZF2vDLLO2o6S83Le//a0UX9Z6pivsDbWMLJxIYVyet/QpLSrQQ0yj3Ssz8uiF2nyft/PLE\n",
       "1AvYz9OUwBhdJt13XMzJFqKTXe/IDb7dA08e03RuqgB7lybg9IwmBCNFQSy+wpIlLcQ8qr3XGweA\n",
       "/dMI9//9mKZzUwXYWzQpw+HcmxKY4kRGf4UmLltEeVT6xasbNKn5YzSdmarA3qBJEm6vBL0ExhoV\n",
       "m+RfYUl2Mb6M6uwW1AFNk1s+RdOZqQrsMU2SOX0tN2UwXsTGzVdogi7Gl1HpHQMg+pAmSQyBOZ1t\n",
       "02cy6mZCARhMC4BIcd4AlDNqwme6oilMAR2Y2rBYgD2kiYrBOci2XisqxhEMQ1xiK24Wdy8pHyDG\n",
       "bQQDm7MgbAuxjHKvfIjIyssDmpY5fOt8zmhrvFxAlAkQjNsYOSgG0zgZIgnuckeT5GFOuKGpfjkV\n",
       "2DOahKC7Sq9ZUTGOYBayp22OjpTmIBhx7abtaxBCMbqGv2LrjexScRnlXmMG8LBPk5ojoUQUTOvt\n",
       "wBTj49c0bmoKGdTTwkav9PBrpoem+sVXYM9oAg5qh6Z2RcV4AhN/wahociNVobQhJDwNU1iUUXCB\n",
       "JonkcIywK3jz0tJURrknDk9udkHjYuMzdplugvaKXqJ+TRNygQZk4IZmfRYmslXV0kQacNWUck0r\n",
       "PvACdkKTkjtVjuVGDWlqV1SMJzDGJqq2+XVQ5VmhpYqWkCar7AWahMJVxUXO+gZNWJwsvSjvvWkW\n",
       "1fKQJoSE7hhp0pmU4F40+WhH09wsYGNqWzUhsBOawOv90prIAU3tinqapJtoPp2KAKtnJiwFmGqz\n",
       "a46QCUGiyezQlB5P+SOHmohqpUGPg563qzO+pin5hC5buvBjmqo3kfCXG5qq2w5N9ee3AjsLeu6g\n",
       "zFkco2uauhUV4xmMkCyrHx7XomoEVVVzxZBF5/ZuCWkihIxpSo8zFJG/wo/NdjnckBBxD1Os3qUp\n",
       "7gJz+eJrk/dXNE0zSQcm2HVik5t8+k/6XEK8gJ3RJPSx4BPLmqZmRZ2ECMBIPjtx02k9R1ERFbiY\n",
       "02jwtoYmwhhfxhIiP54e1NPLm2YYq5SEqI5Sz8JGCHJUNyFEzqbkB8Ts04S6gc4Rk8NcNadM0Jgj\n",
       "DOMJHZrq7/wqsPdoiml7dVnUrqgYL2AK2Jg5gLV5g7DXN6ho0T+ireBNEuwOTU0KqpepGG/X5eTS\n",
       "lbdllPsQgo09LG9VqF+oZJBzWS9zKfOeUS38HFbtfNRxoSYxJEcOYmyom+ZGexpjbTbv6KEyqMAi\n",
       "bunmWJ4pa5NvhHCP+iA8AzXoNUng8Oq1XVEtbzMYq/JOyhhwVI56MUqV/S5qgnVBT9NWr4iN+GBB\n",
       "Hf37T9RIdkfpHV8WjTLvwWXR5y5SLptC3DJGqhhFUTlHB4p/jz5Q9i/njCc35FswobIKgdvGe9iw\n",
       "nSE1WZE/Y9Ec3NzQLjeZHQlRHi9ivFwtbOqmk6vXwQaqj169vmsqeUA8fMxMyESSZQJwskiINgnc\n",
       "pmkDZmGgIRZFNJ4CykwkAT9LAhZLshJsNTchxitC3Iim+ngS45knM6qXRfcio1yGiPsvj568yHjb\n",
       "VKYpRg5INOF1x8TI4hul19chyvFXu/YiYze47HyeIOemwYaPzJxeFR68Frx5AyM/RtN1U1uaijfJ\n",
       "1pu8vGprO3EEpn3PfPWd82hnLxxLfJ0OtB1ND16y28+xdMMU4paVJp/jjZwVTshcTrySwJmtzcQh\n",
       "GLvz+SZN9jsvsf7fpoRnIdZxLYUnKBgNXjAE4Qg8hbtXEvh+I9Pf9kPtP8jNRLFD0iK+AAAAAElF\n",
       "TkSuQmCC\n",
       "\" style=\"display:inline;vertical-align:middle;\" /></a></span>"
      ],
      "text/plain": [
       "|- forall_{a, b, c in Real | c != 0} (|((b + a) mod c) - b|_{mod c} <= |a|)"
      ]
     },
     "execution_count": 7,
     "metadata": {},
     "output_type": "execute_result"
    }
   ],
   "source": [
    "mod_abs_subtract_cancel"
   ]
  },
  {
   "cell_type": "code",
   "execution_count": 8,
   "metadata": {},
   "outputs": [
    {
     "data": {
      "text/html": [
       "<span style=\"font-size:20px;\"> <a class=\"ProveItLink\" href=\"../_best_is_int/thm_proof.ipynb\" style=\"text-decoration: none\">&nbsp;&#x22A2;&nbsp;&nbsp;</a><a class=\"ProveItLink\" href=\"../../../__pv_it/theorems/9455ba7977d13bb1c67fb13af66778a41c438a470/expr.ipynb\"><img src=\"data:image/png;base64,iVBORw0KGgoAAAANSUhEUgAAADAAAAAPBAMAAABQAFHMAAAAMFBMVEX////MzMyYmJjc3NyIiIhU\n",
       "VFR2dna6urqqqqpmZmYyMjIiIiIQEBBERETu7u4AAACIO4EmAAAAAXRSTlMAQObYZgAAAN1JREFU\n",
       "GNNj4LuzgQEFsO/5s+r0GgUGBq4JqBIsNwUYFvACGfwNqBKcCQxsDelARv0DiADT7d27wBIPGEwZ\n",
       "QaZkQ8QZrzyAa7rHC2IvdZkB4rxCiDM5KAFJvl8P3hsA6WCELW/5LgBJjn8M/A5A+gJCIpAVpJJz\n",
       "AcP7BKAVp1YBAcQjE8pAFNAb9UAHMyN0cIF05zHwKzDMB9l7AC6RwVYA4vIX8B0CcafAxJkDTIEW\n",
       "HGBgVeAFhwk3LAB4H9xj4Au6wMA3JQnM54utg0jU3Dp79/xZpABkz4UECRQAAOtdPTTXl4KaAAAA\n",
       "AElFTkSuQmCC\n",
       "\" style=\"display:inline;vertical-align:middle;\" /></a></span>"
      ],
      "text/plain": [
       "|- b in Integer"
      ]
     },
     "execution_count": 8,
     "metadata": {},
     "output_type": "execute_result"
    }
   ],
   "source": [
    "_best_is_int"
   ]
  },
  {
   "cell_type": "code",
   "execution_count": 9,
   "metadata": {},
   "outputs": [
    {
     "data": {
      "text/html": [
       "<span style=\"font-size:20px;\"> <a class=\"ProveItLink\" href=\"../_two_pow_t_is_nat_pos/thm_proof.ipynb\" style=\"text-decoration: none\">&nbsp;&#x22A2;&nbsp;&nbsp;</a><a class=\"ProveItLink\" href=\"../../../__pv_it/theorems/2324c27110a1e5a87eaf2c8b41c0582ab70a05700/expr.ipynb\"><img src=\"data:image/png;base64,iVBORw0KGgoAAAANSUhEUgAAAEUAAAAUBAMAAAApce1IAAAAMFBMVEX///+YmJiqqqqIiIgyMjLc\n",
       "3NwiIiIQEBC6urp2dnZUVFTMzMxERERmZmbu7u4AAADrYmUNAAAAAXRSTlMAQObYZgAAARtJREFU\n",
       "KM9jYAADbwaCgO8DLhkuOIspAZcaHhiD9ZrvBkJqGFgU8JrDd/fMBgb+AFSZJ3+OPGCY/r0BquYV\n",
       "A+cPhu3o2g9yLwB5ZImLu4uLAMM9BoZyBis+NIOWbTBmYCiA2VXGwLA+4DInRIrxWFoKmLHiHNcG\n",
       "hgSYGv8HDOs37LIGy3AffgA1Z+kuPj+EGiDIh8k8gTEYljIZ7EJWw/ETLsOAYM1gNEBSw7YAJnMA\n",
       "SQ3Xg9UgNawQ/l2YBHeJCxBA1fAtYCmAa2G+AI8SZHMYdnIj1OgysMICpwBZDaMCXAv3BAZmmJrL\n",
       "cDWrgXgqXE3YzLnLYGw2eNQ6ATGvA4zn////N3hSW9MHYWz7DjSDzwFrSuCYA40LFAAANZNK4kH5\n",
       "y2YAAAAASUVORK5CYII=\n",
       "\" style=\"display:inline;vertical-align:middle;\" /></a></span>"
      ],
      "text/plain": [
       "|- 2^{t} in NaturalPos"
      ]
     },
     "execution_count": 9,
     "metadata": {},
     "output_type": "execute_result"
    }
   ],
   "source": [
    "_two_pow_t_is_nat_pos"
   ]
  },
  {
   "cell_type": "code",
   "execution_count": 10,
   "metadata": {},
   "outputs": [
    {
     "data": {
      "text/html": [
       "<strong id=\"mod_abs_diff_upper_1\">mod_abs_diff_upper_1:</strong> <span style=\"font-size:20px;\"><a class=\"ProveItLink\" href=\"../../../__pv_it/axioms/8aae196bd8afdc836dd0118c77726bb2371abf720/expr.ipynb\"><img src=\"data:image/png;base64,iVBORw0KGgoAAAANSUhEUgAAAD4AAAAUBAMAAAAn2JMnAAAAMFBMVEX///9EREQyMjKYmJhUVFTM\n",
       "zMyqqqoQEBAiIiK6urrc3NxmZmaIiIh2dnbu7u4AAADbMoQcAAAAAXRSTlMAQObYZgAAANhJREFU\n",
       "KM9jYKAAOBCQF6CFPJ++oB4Db30lTv2MBiEMDO8ZWJSUipSUsciztPIcYGDHNN+wo0MBLD/xgSsD\n",
       "B4Z84DmY/qUOjx4g5PnunF4AovTg5i/IYXVAyM9YwHUBLIqQ551gA5fnK2N4HQByNcJ9Cxj8WCJA\n",
       "LJAWluIzdiB2uBIQKEDlnzCow1TzQyNhIbJ+1gvhcPkLEJodWZ7BDG4dB1D+AJDmPgCXBzqHF24c\n",
       "jwLDa7DT22AiTAlAYhPcuNPGBmD6ieQDMM3aXwgkH2GG+1wJSPiiAACuyy6iWGhMiAAAAABJRU5E\n",
       "rkJggg==\n",
       "\" style=\"display:inline;vertical-align:middle;\" /></a>, <a class=\"ProveItLink\" href=\"../../../__pv_it/theorems/2c8b3d334b927f3c2c870019c8bf2836b7953a9e0/expr.ipynb\"><img src=\"data:image/png;base64,iVBORw0KGgoAAAANSUhEUgAAAHgAAAAVBAMAAAB/IDdlAAAAMFBMVEX///+qqqoyMjK6urp2dnbu\n",
       "7u5UVFTc3NwQEBBERERmZmaYmJjMzMwiIiKIiIgAAABu1cpWAAAAAXRSTlMAQObYZgAAAT5JREFU\n",
       "OMtjYMAEuzYwEAannmIVDnJgIAZYHAASb/+gie4nSi8DlwKQ4P6AJupLnGaWCyATJlCgmeMBhLPz\n",
       "7l0FkjXXHwCzTz4lx2ZI+LCqYnU2q9+rAkx9Ie+WAzU3AFmZYD4bQk0SkjLbAnbMiGO+zlACDeg+\n",
       "sAAnXIqxB8niRoaoAxiaIwRY1wApLQYGnu9ggRNKQAAKMJ65QDewKoHBAbbud1sxXZ2x73UAyLH3\n",
       "GPgawAKVCEch2cyfgC2ovkEoNaB7E0CmMHAg5DKRNGNNqV/AJMjP/BvACrgeYAttXqDcAwzNVxgY\n",
       "+CChzW8Kkb2ITTOfAkMUOBpYPwGJeEgiYnjEwLocEs/cSyAiYZMDsMTzq93Q7HkN5A5oCPCt3g1L\n",
       "JDBgMpeM5IkBPCjRTEp+xgBMRJYkBliFpYgtwwBU9k7yTM/YGQAAAABJRU5ErkJggg==\n",
       "\" style=\"display:inline;vertical-align:middle;\" /></a> <a class=\"ProveItLink\" href=\"../../../__pv_it/_proof__success_sum/37a6351a67a7706c8b7996a68d6bba063922349e0/proof.ipynb\" style=\"text-decoration: none\">&nbsp;&#x22A2;&nbsp;&nbsp;</a><a class=\"ProveItLink\" href=\"../../../__pv_it/_proof__success_sum/c2410151c70f3bb344890a38c82a370b7d71267d0/expr.ipynb\"><img src=\"data:image/png;base64,iVBORw0KGgoAAAANSUhEUgAAASMAAAAcCAMAAAAdpSnTAAAANlBMVEX///8iIiJERESYmJiqqqp2\n",
       "dnbc3NyIiIju7u4yMjJUVFS6uroGBgYMDAxmZmYQEBDMzMwAAACK3eCBAAAAAXRSTlMAQObYZgAA\n",
       "BENJREFUWMPtmdl2mzAQhtE6WlIt7/+y1YqEwMgYJ845rS6cQGOY+eafRerill+05HVrfsJ+271O\n",
       "fxiR8PETXrX/Bxg59WkZURQ/tfq9jKT4LCFukDQxdRj5MCMnthfrO0zVOL9iIuUvpJTTx+GQNP9E\n",
       "4rOMmN5e1HdwXwwTOH9aNHkSIB+irq5DotL3RghjME6l15dngZlRbtZ9H6PsX8+IVbtkMVTODF1I\n",
       "LLFCvpBVPSMRyw+Ld1yL17wDmjczAuRGHSX/eka26JzUl3s6hn9sOCYpjsF1g3pGJunXBjtALSIH\n",
       "CNHpE+g7GQmGYJ9rxb+V0ZpqqMhIezFjZNMNYe8xylmjQp6Fish6+ierWfcGRqFZkKN6lP1rjEhl\n",
       "VfOc7crRyIj7rE6pbzGSyV0VHuYUFL3DzPNm3W1GXEl6WI+Kf42RkUO5lArA0DNGxA+VrPRKaY0D\n",
       "ULBoAKyzlAFKbAQLvzu/w4o2st2LeCxHq3U3GTl8EOJsa/GvMcJF3ZjUkTeMS8LzE0aqfIWMVRth\n",
       "iFEAXeTpUv7GmyExaa3QQ+6wjeXeTQby1bp7jEpDPWRU/AsXf2pglk21pCmSHk4YWein4/7FyW6P\n",
       "k7PBD8RWv7Hc9bX8WvW48R1ND826Pze7GYhHjIp/4eKrGFkSxuou90SJLpNxIZt+qDXWvP4yMkog\n",
       "0ndjTrvSg8KN8kAxIjBm1Mn6B0J2qwa9s+7rZjkiiIlDRtW/lmtyYJSu9ab/Dzpa6+qeURJpinJk\n",
       "RIvDQVguC3NktJsZZzrqrLvf16g0/IBR9a+rR0Ou+ViXzKZ0DozCN/K/anTOaNWRCXCOGNHoMeeb\n",
       "enQ+vXfWTRgJ/sS+Rkvldoyqf42RGmp29EJYctLXgp3suGYPjBZrst/hkRLvZeLSY4Bf6GuddRNG\n",
       "UFOBGZymVa6O2xvWA6PqX2O0KqvIXgUDsDmbj7wW+YZhjxmlQu1sjJJM9Snlsul7AUeMMaM2YiQT\n",
       "zzvrZrlWhh8WQqBiMAk8GpOGvUj1rzGqkauJIwyMRxQDI1LZDIeHTnmvHMXeqlDsfWxq3AQKZT4y\n",
       "jIT5yKpuhkwL7Xc5JxnUrJsxwnTdPsQMZsjMjzUSo+pfv1/T273IQW07joBAy9uXfH4P+CwjXVL8\n",
       "GWsfnY1UVZCH231xXCNe2dNOz2zFJUZc2jjZC0JyVYEw1scnBLFBt9GIU9VTxxSPGK0HE/jagdAr\n",
       "ZyPTmeXCaa3NTYDmfpDm2SidqO4UdtsYxb196KGkNx615aaMFkX7M7bnp3n+fkbIXWSUhKdYjnSe\n",
       "1zBkNTYdpXbEDfCXddQEcemslnwDIsKWy4xikCEzyk1RGe3789+TIrIfGNz2wm5HuV+w+CUh7xlV\n",
       "HfGNjnQAr1/8z7gODNW/gpERl+3nKyNf6hG3It3gZQ52klKKxfLPLoG9CimGKMc+MotDKU8/CaBc\n",
       "tG0awpb/65vWX83uKOXCJdkdAAAAAElFTkSuQmCC\n",
       "\" style=\"display:inline;vertical-align:middle;\" /></a></span><br>"
      ],
      "text/plain": [
       "mod_abs_diff_upper_1: {e in NaturalPos, l in {-e .. e}} |- |((b + l) mod 2^{t}) - b|_{mod 2^{t}} <= |l|"
      ]
     },
     "execution_count": 10,
     "metadata": {},
     "output_type": "execute_result"
    }
   ],
   "source": [
    "mod_abs_diff_upper_1 = mod_abs_subtract_cancel.instantiate({a: l, b: _b, c: _two_pow_t})"
   ]
  },
  {
   "cell_type": "code",
   "execution_count": 11,
   "metadata": {},
   "outputs": [
    {
     "data": {
      "text/html": [
       "<strong id=\"l_lower_bound\">l_lower_bound:</strong> <span style=\"font-size:20px;\"><a class=\"ProveItLink\" href=\"../../../__pv_it/axioms/8aae196bd8afdc836dd0118c77726bb2371abf720/expr.ipynb\"><img src=\"data:image/png;base64,iVBORw0KGgoAAAANSUhEUgAAAD4AAAAUBAMAAAAn2JMnAAAAMFBMVEX///9EREQyMjKYmJhUVFTM\n",
       "zMyqqqoQEBAiIiK6urrc3NxmZmaIiIh2dnbu7u4AAADbMoQcAAAAAXRSTlMAQObYZgAAANhJREFU\n",
       "KM9jYKAAOBCQF6CFPJ++oB4Db30lTv2MBiEMDO8ZWJSUipSUsciztPIcYGDHNN+wo0MBLD/xgSsD\n",
       "B4Z84DmY/qUOjx4g5PnunF4AovTg5i/IYXVAyM9YwHUBLIqQ551gA5fnK2N4HQByNcJ9Cxj8WCJA\n",
       "LJAWluIzdiB2uBIQKEDlnzCow1TzQyNhIbJ+1gvhcPkLEJodWZ7BDG4dB1D+AJDmPgCXBzqHF24c\n",
       "jwLDa7DT22AiTAlAYhPcuNPGBmD6ieQDMM3aXwgkH2GG+1wJSPiiAACuyy6iWGhMiAAAAABJRU5E\n",
       "rkJggg==\n",
       "\" style=\"display:inline;vertical-align:middle;\" /></a>, <a class=\"ProveItLink\" href=\"../../../__pv_it/theorems/2c8b3d334b927f3c2c870019c8bf2836b7953a9e0/expr.ipynb\"><img src=\"data:image/png;base64,iVBORw0KGgoAAAANSUhEUgAAAHgAAAAVBAMAAAB/IDdlAAAAMFBMVEX///+qqqoyMjK6urp2dnbu\n",
       "7u5UVFTc3NwQEBBERERmZmaYmJjMzMwiIiKIiIgAAABu1cpWAAAAAXRSTlMAQObYZgAAAT5JREFU\n",
       "OMtjYMAEuzYwEAannmIVDnJgIAZYHAASb/+gie4nSi8DlwKQ4P6AJupLnGaWCyATJlCgmeMBhLPz\n",
       "7l0FkjXXHwCzTz4lx2ZI+LCqYnU2q9+rAkx9Ie+WAzU3AFmZYD4bQk0SkjLbAnbMiGO+zlACDeg+\n",
       "sAAnXIqxB8niRoaoAxiaIwRY1wApLQYGnu9ggRNKQAAKMJ65QDewKoHBAbbud1sxXZ2x73UAyLH3\n",
       "GPgawAKVCEch2cyfgC2ovkEoNaB7E0CmMHAg5DKRNGNNqV/AJMjP/BvACrgeYAttXqDcAwzNVxgY\n",
       "+CChzW8Kkb2ITTOfAkMUOBpYPwGJeEgiYnjEwLocEs/cSyAiYZMDsMTzq93Q7HkN5A5oCPCt3g1L\n",
       "JDBgMpeM5IkBPCjRTEp+xgBMRJYkBliFpYgtwwBU9k7yTM/YGQAAAABJRU5ErkJggg==\n",
       "\" style=\"display:inline;vertical-align:middle;\" /></a> <a class=\"ProveItLink\" href=\"../../../__pv_it/_proof__success_sum/cf043e23cae88b2d544a3f921671e55d242988f40/proof.ipynb\" style=\"text-decoration: none\">&nbsp;&#x22A2;&nbsp;&nbsp;</a><a class=\"ProveItLink\" href=\"../../../__pv_it/_proof__success_sum/7416933bcc6836bd6980dfe7ebe0b7a6c22ad8330/expr.ipynb\"><img src=\"data:image/png;base64,iVBORw0KGgoAAAANSUhEUgAAAEkAAAAUBAMAAAAzTQ3GAAAAMFBMVEX///9UVFTMzMx2dna6uroQ\n",
       "EBCqqqqIiIgiIiJmZmYyMjJERETu7u6YmJjc3NwAAAC+aOQFAAAAAXRSTlMAQObYZgAAARRJREFU\n",
       "KM9jYOC7wIAM2B4wYAOn0fhy6ArY+xUYGNahCZ5Ckm8CU/cZGHgnoKliLoCxDrdD6NkMDBzo7uAJ\n",
       "gDJe9kIZ4QwMLzAcugRCPVwG5fN9YmCoRDbGvBJosiWYrb0EJsr7gYFhL5Iqjwd8BgwMt0BM7k1w\n",
       "UcYNDAxtSEaFMZwEejoD7L32AzBhVqB3QoCyq8BAgTG2/A5QVB9iTzNMmf4DsCoY4BeAiEIjYSXU\n",
       "96UMKDbyG0BcB+WyLFQA0xt5UFzPAVRVAHU9CDDtdgBRf5lh/oZEyAKGk0BbJsMF+IRA5JfjCPNB\n",
       "oPIuKH0sQgvlmwbYYqgBS8LBE9vIYB/WlHOqAwSacKbCfVjTKlqK5sWWogHMB0Nu9OXbnwAAAABJ\n",
       "RU5ErkJggg==\n",
       "\" style=\"display:inline;vertical-align:middle;\" /></a></span><br>"
      ],
      "text/plain": [
       "l_lower_bound: {e in NaturalPos, l in {-e .. e}} |- (-e) <= l"
      ]
     },
     "execution_count": 11,
     "metadata": {},
     "output_type": "execute_result"
    }
   ],
   "source": [
    "l_lower_bound = l_in_domain.derive_element_lower_bound()"
   ]
  },
  {
   "cell_type": "code",
   "execution_count": 12,
   "metadata": {},
   "outputs": [
    {
     "data": {
      "text/html": [
       "<strong id=\"l_upper_bound\">l_upper_bound:</strong> <span style=\"font-size:20px;\"><a class=\"ProveItLink\" href=\"../../../__pv_it/axioms/8aae196bd8afdc836dd0118c77726bb2371abf720/expr.ipynb\"><img src=\"data:image/png;base64,iVBORw0KGgoAAAANSUhEUgAAAD4AAAAUBAMAAAAn2JMnAAAAMFBMVEX///9EREQyMjKYmJhUVFTM\n",
       "zMyqqqoQEBAiIiK6urrc3NxmZmaIiIh2dnbu7u4AAADbMoQcAAAAAXRSTlMAQObYZgAAANhJREFU\n",
       "KM9jYKAAOBCQF6CFPJ++oB4Db30lTv2MBiEMDO8ZWJSUipSUsciztPIcYGDHNN+wo0MBLD/xgSsD\n",
       "B4Z84DmY/qUOjx4g5PnunF4AovTg5i/IYXVAyM9YwHUBLIqQ551gA5fnK2N4HQByNcJ9Cxj8WCJA\n",
       "LJAWluIzdiB2uBIQKEDlnzCow1TzQyNhIbJ+1gvhcPkLEJodWZ7BDG4dB1D+AJDmPgCXBzqHF24c\n",
       "jwLDa7DT22AiTAlAYhPcuNPGBmD6ieQDMM3aXwgkH2GG+1wJSPiiAACuyy6iWGhMiAAAAABJRU5E\n",
       "rkJggg==\n",
       "\" style=\"display:inline;vertical-align:middle;\" /></a>, <a class=\"ProveItLink\" href=\"../../../__pv_it/theorems/2c8b3d334b927f3c2c870019c8bf2836b7953a9e0/expr.ipynb\"><img src=\"data:image/png;base64,iVBORw0KGgoAAAANSUhEUgAAAHgAAAAVBAMAAAB/IDdlAAAAMFBMVEX///+qqqoyMjK6urp2dnbu\n",
       "7u5UVFTc3NwQEBBERERmZmaYmJjMzMwiIiKIiIgAAABu1cpWAAAAAXRSTlMAQObYZgAAAT5JREFU\n",
       "OMtjYMAEuzYwEAannmIVDnJgIAZYHAASb/+gie4nSi8DlwKQ4P6AJupLnGaWCyATJlCgmeMBhLPz\n",
       "7l0FkjXXHwCzTz4lx2ZI+LCqYnU2q9+rAkx9Ie+WAzU3AFmZYD4bQk0SkjLbAnbMiGO+zlACDeg+\n",
       "sAAnXIqxB8niRoaoAxiaIwRY1wApLQYGnu9ggRNKQAAKMJ65QDewKoHBAbbud1sxXZ2x73UAyLH3\n",
       "GPgawAKVCEch2cyfgC2ovkEoNaB7E0CmMHAg5DKRNGNNqV/AJMjP/BvACrgeYAttXqDcAwzNVxgY\n",
       "+CChzW8Kkb2ITTOfAkMUOBpYPwGJeEgiYnjEwLocEs/cSyAiYZMDsMTzq93Q7HkN5A5oCPCt3g1L\n",
       "JDBgMpeM5IkBPCjRTEp+xgBMRJYkBliFpYgtwwBU9k7yTM/YGQAAAABJRU5ErkJggg==\n",
       "\" style=\"display:inline;vertical-align:middle;\" /></a> <a class=\"ProveItLink\" href=\"../../../__pv_it/_proof__success_sum/c7bbad1057f106569e3222a9a451165bcdfc929a0/proof.ipynb\" style=\"text-decoration: none\">&nbsp;&#x22A2;&nbsp;&nbsp;</a><a class=\"ProveItLink\" href=\"../../../__pv_it/_proof__success_sum/e55420042302b32d1a23235bddf7febbe53153ca0/expr.ipynb\"><img src=\"data:image/png;base64,iVBORw0KGgoAAAANSUhEUgAAACsAAAARBAMAAAC2kkg4AAAAMFBMVEX///+qqqoyMjK6urp2dnbu\n",
       "7u5UVFTc3NwQEBBERERmZmaYmJjMzMwiIiKIiIgAAABu1cpWAAAAAXRSTlMAQObYZgAAAKdJREFU\n",
       "GNNjYHj7hwEb4P4AZ749gBDmmgBlsPo+QFLNAeWwr92AbEg9RCd7kgCK2fvBJM8kA5gAq9+rAgaG\n",
       "TDB7JsI22wJ2BwaGPogjnsIVNzJEHWDg+Q7h7XWFCrN1v9vKwMDXAOUKLYfQ/AkgkjMhACpulAMR\n",
       "dgCTGxxgpp6cDCJ5gfwHDPymCL+VgZzDp8AQVcDAvQQ9kF7t3sBAFmDVvQsCcK8CAJTcKwgkCWeY\n",
       "AAAAAElFTkSuQmCC\n",
       "\" style=\"display:inline;vertical-align:middle;\" /></a></span><br>"
      ],
      "text/plain": [
       "l_upper_bound: {e in NaturalPos, l in {-e .. e}} |- l <= e"
      ]
     },
     "execution_count": 12,
     "metadata": {},
     "output_type": "execute_result"
    }
   ],
   "source": [
    "l_upper_bound = l_in_domain.derive_element_upper_bound()"
   ]
  },
  {
   "cell_type": "code",
   "execution_count": 13,
   "metadata": {},
   "outputs": [
    {
     "data": {
      "text/html": [
       "<span style=\"font-size:20px;\"> <a class=\"ProveItLink\" href=\"../../../../../../numbers/absolute_value/_theory_nbs_/proofs/abs_ineq/thm_proof.ipynb\" style=\"text-decoration: none\">&nbsp;&#x22A2;&nbsp;&nbsp;</a><a class=\"ProveItLink\" href=\"../../../../../../numbers/absolute_value/__pv_it/theorems/570c3b6a68f03845e67756aad1a61fc41330d9a30/expr.ipynb\"><img src=\"data:image/png;base64,iVBORw0KGgoAAAANSUhEUgAAAb4AAAAXBAMAAACGxzdIAAAAMFBMVEX///8QEBCIiIhmZma6urrM\n",
       "zMxUVFQiIiJERETc3Nzu7u6qqqp2dnaYmJgyMjIAAAAcRTyBAAAAAXRSTlMAQObYZgAABTxJREFU\n",
       "WMPdWF1oHFUUPrs7k9m5O5NUwRefxl1MQ1EbLK2KbRxTsPhgs32RxZcuIUECJcRgaJW0lNCGjWJd\n",
       "idRSKY5BItYYF0RFH2RJFXUtuKhQhCoDtgrxhyAWbETw/s7cuTMT2/XJHvh2Zs/e8+18d849c+4A\n",
       "/HfTPX7yGNxgdobCcvnXjxMHfbBBKINkhXryP8X9Z9IviwwW8Inju87koaMU/6Kvq54eShGxsZT/\n",
       "GksgSLWxEF+Q76ud6euuUyTp21wOr8RPD6WI2DIkkgR+UyKIWHYqOpjjFIk52pm+rxni+tCnjjRs\n",
       "JT2UImKWk0wi/N39IYFsS5PKYI5uXBysRmf6nmKI6TPvacvDXuVHfB/1ajSUIpp3m5JJhL/ydEgg\n",
       "2fxhdTCH3Tp79qXO5JkTDKo+czw6X93s9yy53uPRUALFLiWTCP9IMSCQ7OTP8cEcf9Zq053py/Yz\n",
       "YH0LvS/e4XB9+gmhF5UceMEDi6VUha4MLxKa7Q/pFu4G81aAcwoJ5+Z+5BsBASqODbLcr1xKIOEY\n",
       "BZjbQIQWU7XS5Gf5NoPloqY9afhcXy2oCpa2CbYC2LTA6DcdxPbEaiQ0L+Vg80HIrgF8r5Bwbu63\n",
       "GmwxkcAluOAcoV+OJ5Fw7E4qcIXJ2QG2oPOhUlaiL8J73GE0GCzX8qx1rc71bd4iIl7O+VDDZDSX\n",
       "etmdqzTkUCNMQrMxAHlc6N5XSDg39xtg+oKgBV96D9Mpn/QSSDgMtjAke/PcLnCa1oKiD+ZHyeeT\n",
       "0MPZMi4Dvn+UVKy/Cy0e4GUc+B3fOTyh8LqoLIfkUILl34hdRnAz9OA53a+QcG7u/4omHAv0yORR\n",
       "s6c9MTgk4bDaRlSe/expD+uz31L1wTzOA3QFMg1VH1DSoH5+dB8/GfL0K1yfeYC5FpuqviA/1mF/\n",
       "OdAXkjBu7sfV81FBAGTyeL79UI+RcJg+CVjZ3ovdWi8Y3m4yDutbkvQNVgkzLB0D/SoYbTU/gZKG\n",
       "z7+9o+w4AFlcpTWan/YRep+mICU/ASfzbfiwRyVh3Mxf6OdPdhpIJk9Mzo9llURgbgRnsDdukDvR\n",
       "4+1jHZvTzG2T9DXXdfr8WVrV18Fw1PpS8LZiCql/qRyjh1nIV0V9YU/k5XpqfcFDZ0HUkZCEczM/\n",
       "0UY00sAPcSUJlqlecxUSgXfw9OrwK/n19B7oQ7RkOzsed0N95msTWboI7mrj+5fh+kjdp3CHGs+T\n",
       "flfqz07S6dwBQ/g6cqzgdhHC+5VQ6fmQq2p/48NOhYRzM3+F5ygJ1P7Kr5nh/JijCokAS++rdNBO\n",
       "GNYP1Woz4Hx+p6QPX2IXHoX6GmT99fBFQ/JOo8/3xeLCrnZCf71YfID0mOWgDxWdoAjVpMc0Gi6R\n",
       "i7gc46DczD9CPoqMAA1vKcU2BhKJgE1qj76ms+J4C1RZfr7bkvQZbqYM6DM3Uj9T+zPJBkjp5OdY\n",
       "KvI26s/w4gE0kbJXoX76TzokNXYqiQC1VyzfglMeTGlr8AnTZ8n1xSgPAbqXspeC5196fy12Rj76\n",
       "49r763F425X767S+O7m/jpEIsCT4ZqUF+xrwUJ8PeVyaCtO/oG1+qE8bPgE6S7Ps+WDN5OsUUX3o\n",
       "J9KnHCSDjXbeSdkf8VAKbodhJtgHSSQJ+yZBEPxGB09FSZbjQQ1UJ3WprzYj8dDPN+C5Dva3WnG7\n",
       "ciUb7W8HS0ROWq84d23725BkLhZUqHc198Ymmn4e0Pz0lwxZMc23J/7lt9fzfsJOeT9hX8/7CTJY\n",
       "QHaDdrGZrO+R81h+DdszN9orpNz/+/L/AUhis9YMQZhNAAAAAElFTkSuQmCC\n",
       "\" style=\"display:inline;vertical-align:middle;\" /></a></span>"
      ],
      "text/plain": [
       "|- forall_{x, y in Real | y >= 0} ((|x| <= y) <=> (((-y) <= x) and (x <= y)))"
      ]
     },
     "execution_count": 13,
     "metadata": {},
     "output_type": "execute_result"
    }
   ],
   "source": [
    "abs_ineq"
   ]
  },
  {
   "cell_type": "code",
   "execution_count": 14,
   "metadata": {},
   "outputs": [
    {
     "data": {
      "text/html": [
       "<strong id=\"abs_l_upper\">abs_l_upper:</strong> <span style=\"font-size:20px;\"><a class=\"ProveItLink\" href=\"../../../__pv_it/axioms/8aae196bd8afdc836dd0118c77726bb2371abf720/expr.ipynb\"><img src=\"data:image/png;base64,iVBORw0KGgoAAAANSUhEUgAAAD4AAAAUBAMAAAAn2JMnAAAAMFBMVEX///9EREQyMjKYmJhUVFTM\n",
       "zMyqqqoQEBAiIiK6urrc3NxmZmaIiIh2dnbu7u4AAADbMoQcAAAAAXRSTlMAQObYZgAAANhJREFU\n",
       "KM9jYKAAOBCQF6CFPJ++oB4Db30lTv2MBiEMDO8ZWJSUipSUsciztPIcYGDHNN+wo0MBLD/xgSsD\n",
       "B4Z84DmY/qUOjx4g5PnunF4AovTg5i/IYXVAyM9YwHUBLIqQ551gA5fnK2N4HQByNcJ9Cxj8WCJA\n",
       "LJAWluIzdiB2uBIQKEDlnzCow1TzQyNhIbJ+1gvhcPkLEJodWZ7BDG4dB1D+AJDmPgCXBzqHF24c\n",
       "jwLDa7DT22AiTAlAYhPcuNPGBmD6ieQDMM3aXwgkH2GG+1wJSPiiAACuyy6iWGhMiAAAAABJRU5E\n",
       "rkJggg==\n",
       "\" style=\"display:inline;vertical-align:middle;\" /></a>, <a class=\"ProveItLink\" href=\"../../../__pv_it/theorems/2c8b3d334b927f3c2c870019c8bf2836b7953a9e0/expr.ipynb\"><img src=\"data:image/png;base64,iVBORw0KGgoAAAANSUhEUgAAAHgAAAAVBAMAAAB/IDdlAAAAMFBMVEX///+qqqoyMjK6urp2dnbu\n",
       "7u5UVFTc3NwQEBBERERmZmaYmJjMzMwiIiKIiIgAAABu1cpWAAAAAXRSTlMAQObYZgAAAT5JREFU\n",
       "OMtjYMAEuzYwEAannmIVDnJgIAZYHAASb/+gie4nSi8DlwKQ4P6AJupLnGaWCyATJlCgmeMBhLPz\n",
       "7l0FkjXXHwCzTz4lx2ZI+LCqYnU2q9+rAkx9Ie+WAzU3AFmZYD4bQk0SkjLbAnbMiGO+zlACDeg+\n",
       "sAAnXIqxB8niRoaoAxiaIwRY1wApLQYGnu9ggRNKQAAKMJ65QDewKoHBAbbud1sxXZ2x73UAyLH3\n",
       "GPgawAKVCEch2cyfgC2ovkEoNaB7E0CmMHAg5DKRNGNNqV/AJMjP/BvACrgeYAttXqDcAwzNVxgY\n",
       "+CChzW8Kkb2ITTOfAkMUOBpYPwGJeEgiYnjEwLocEs/cSyAiYZMDsMTzq93Q7HkN5A5oCPCt3g1L\n",
       "JDBgMpeM5IkBPCjRTEp+xgBMRJYkBliFpYgtwwBU9k7yTM/YGQAAAABJRU5ErkJggg==\n",
       "\" style=\"display:inline;vertical-align:middle;\" /></a> <a class=\"ProveItLink\" href=\"../../../__pv_it/_proof__success_sum/f7c09a51dcd6049480ab7ca08965f20e77d8aae00/proof.ipynb\" style=\"text-decoration: none\">&nbsp;&#x22A2;&nbsp;&nbsp;</a><a class=\"ProveItLink\" href=\"../../../__pv_it/_proof__success_sum/159eae077e49f0d0ab07ea8bc54adaa90fce6b1c0/expr.ipynb\"><img src=\"data:image/png;base64,iVBORw0KGgoAAAANSUhEUgAAADUAAAAVBAMAAAAUZLt1AAAAMFBMVEX///+qqqoyMjJUVFTc3NwQ\n",
       "EBBERERmZmaYmJgiIiKIiIi6urp2dnbu7u7MzMwAAAD/+I0eAAAAAXRSTlMAQObYZgAAAMFJREFU\n",
       "KM9jeMsAAhASHZxGIrHIrfyHW47jA7LcygfIcuwJCDnekwtQ9LEugMuxVDagmun/ACbHYiSAZl8/\n",
       "zJ18SRvgZp9a7gASNYPJpSGcsdOB5QBINAomt3ItXFsgw3WQTXxf4H7vPAuVY45Y1QsS5QpAhItQ\n",
       "CYTmN4C4hc3gAsJ/m+wgcgcgcvwNB5DC5Vk2iOQEyoF8zb93AXKYOYMcy6XAcB3kB44aLPGwvKOB\n",
       "YBwRI8erORMEHhClbx0SiQYAXURKzU2QozwAAAAASUVORK5CYII=\n",
       "\" style=\"display:inline;vertical-align:middle;\" /></a></span><br>"
      ],
      "text/plain": [
       "abs_l_upper: {e in NaturalPos, l in {-e .. e}} |- |l| <= e"
      ]
     },
     "execution_count": 14,
     "metadata": {},
     "output_type": "execute_result"
    }
   ],
   "source": [
    "abs_l_upper = abs_ineq.instantiate({x: l, y: e}, auto_simplify=False).derive_left()"
   ]
  },
  {
   "cell_type": "code",
   "execution_count": 15,
   "metadata": {},
   "outputs": [
    {
     "data": {
      "text/html": [
       "<strong id=\"mod_abs_diff_upper_2\">mod_abs_diff_upper_2:</strong> <span style=\"font-size:20px;\"><a class=\"ProveItLink\" href=\"../../../__pv_it/axioms/8aae196bd8afdc836dd0118c77726bb2371abf720/expr.ipynb\"><img src=\"data:image/png;base64,iVBORw0KGgoAAAANSUhEUgAAAD4AAAAUBAMAAAAn2JMnAAAAMFBMVEX///9EREQyMjKYmJhUVFTM\n",
       "zMyqqqoQEBAiIiK6urrc3NxmZmaIiIh2dnbu7u4AAADbMoQcAAAAAXRSTlMAQObYZgAAANhJREFU\n",
       "KM9jYKAAOBCQF6CFPJ++oB4Db30lTv2MBiEMDO8ZWJSUipSUsciztPIcYGDHNN+wo0MBLD/xgSsD\n",
       "B4Z84DmY/qUOjx4g5PnunF4AovTg5i/IYXVAyM9YwHUBLIqQ551gA5fnK2N4HQByNcJ9Cxj8WCJA\n",
       "LJAWluIzdiB2uBIQKEDlnzCow1TzQyNhIbJ+1gvhcPkLEJodWZ7BDG4dB1D+AJDmPgCXBzqHF24c\n",
       "jwLDa7DT22AiTAlAYhPcuNPGBmD6ieQDMM3aXwgkH2GG+1wJSPiiAACuyy6iWGhMiAAAAABJRU5E\n",
       "rkJggg==\n",
       "\" style=\"display:inline;vertical-align:middle;\" /></a>, <a class=\"ProveItLink\" href=\"../../../__pv_it/theorems/2c8b3d334b927f3c2c870019c8bf2836b7953a9e0/expr.ipynb\"><img src=\"data:image/png;base64,iVBORw0KGgoAAAANSUhEUgAAAHgAAAAVBAMAAAB/IDdlAAAAMFBMVEX///+qqqoyMjK6urp2dnbu\n",
       "7u5UVFTc3NwQEBBERERmZmaYmJjMzMwiIiKIiIgAAABu1cpWAAAAAXRSTlMAQObYZgAAAT5JREFU\n",
       "OMtjYMAEuzYwEAannmIVDnJgIAZYHAASb/+gie4nSi8DlwKQ4P6AJupLnGaWCyATJlCgmeMBhLPz\n",
       "7l0FkjXXHwCzTz4lx2ZI+LCqYnU2q9+rAkx9Ie+WAzU3AFmZYD4bQk0SkjLbAnbMiGO+zlACDeg+\n",
       "sAAnXIqxB8niRoaoAxiaIwRY1wApLQYGnu9ggRNKQAAKMJ65QDewKoHBAbbud1sxXZ2x73UAyLH3\n",
       "GPgawAKVCEch2cyfgC2ovkEoNaB7E0CmMHAg5DKRNGNNqV/AJMjP/BvACrgeYAttXqDcAwzNVxgY\n",
       "+CChzW8Kkb2ITTOfAkMUOBpYPwGJeEgiYnjEwLocEs/cSyAiYZMDsMTzq93Q7HkN5A5oCPCt3g1L\n",
       "JDBgMpeM5IkBPCjRTEp+xgBMRJYkBliFpYgtwwBU9k7yTM/YGQAAAABJRU5ErkJggg==\n",
       "\" style=\"display:inline;vertical-align:middle;\" /></a> <a class=\"ProveItLink\" href=\"../../../__pv_it/_proof__success_sum/7ba89fa99e259294f32c64c9e4bab195ecd1cc350/proof.ipynb\" style=\"text-decoration: none\">&nbsp;&#x22A2;&nbsp;&nbsp;</a><a class=\"ProveItLink\" href=\"../../../__pv_it/_proof__success_sum/640c4f7dadba840cad2f855d7ad0696c243b1f050/expr.ipynb\"><img src=\"data:image/png;base64,iVBORw0KGgoAAAANSUhEUgAAARsAAAAcCAMAAABmgesfAAAANlBMVEX///8iIiJERESYmJiqqqp2\n",
       "dnbc3NyIiIju7u4yMjJUVFS6uroGBgYMDAxmZmYQEBDMzMwAAACK3eCBAAAAAXRSTlMAQObYZgAA\n",
       "BCNJREFUWMPtWdly4yAQFOdwJBz//7MLA0IIWVKInY2rdnmIFZWFmp6engEvYXmjoefR/CR+373G\n",
       "/jI1KuIHfBP/D3ITzG/LhhP8sObtuNHqd5mRjmiHKSLYm3HjmpQlm4m1nE+dYB+HQfN6QdRbcSPj\n",
       "ikdR/OPJzZNAYo6ymSaH69g7m3KOUtRLXKcCd8Puhu5vcCMaHF0Qanf3KEPrVHo+e3puVHYXke8E\n",
       "v33htqK5V3MDJJxx41c9s/rWyMdwj/XD0cIqTOPouXGoV59wgFlUVQ7hdzPwl3KjBIFT3WwpRQo8\n",
       "G9UdN77cUP4pbkp2mJRPyfHEnvbTsaF7BTepCrCLnGLNd2oii4PdjNzIWEWo7TPcaFymSZMFA6us\n",
       "4WbJG7rnuZFG80u/cXqwQW0AHL/ihsWDVWGbpL0LAAYWC0BtUSyAsFW86TrEA5tkL9Ojage7aeie\n",
       "5SbQB6HNgJ1c56ariCmrLWpqd1SUF9yY9RE2uDGhkFUFtsoxYJrmmyn/+Oq8Q46IPeIYrhvohu5J\n",
       "bmqFHNBkwFIsn2sglp0LcgxchAtuPOzb2e19iDdSXGN6CxFtuVQf6lR5q7moZA+6gA3d57PVCQ4K\n",
       "xQCq1IZ+VHCtJtotx1SNptB5EI8fpoVWtquBGyQAn82eFGpNSTfqhGpcuXMHYbRvKN2NsIzoPp61\n",
       "G0bEwI7xDICppkk9cIP/210dH3Sz2eWBG0w2jGrmhtd1JiGFIsSRm2Ord6ObDt0L6hTXbte/RrP3\n",
       "YjrkVMy243aOOHCTnlBrel5y03TjEimPuOF5pVLu/eay2+7Q3XGj5Bf2H1abznaa9/nBWKsXZ/TK\n",
       "s4s6lfCJx148cLN4V5abptT0qIqA04CcqFMdujtuYNW+cBTbTGkelyvaMBV/XGCdG4a9g0kvpu6q\n",
       "v4lW1RtOnHKDBhx8DopG/8GUdb3HSyKEcGavPXa95A7dbU7V5kUk7k0OIoOzNqc1V+hmWw1vgaoJ\n",
       "ohyMJwUDN6xRsj+tCyZGEziN3iQTjzkI0qXV1/7GCZb6G2+63g8HebQdOU2UDd0tN5S3dj9nqiDu\n",
       "9pgBHGOs30/Z/Z7hgWWdEK7I8vKhv7xH+zI3tubyBNp17qYCdrb/VicW8I295v3hqJrBL7XPnbhi\n",
       "rJgGpDYcJ0jqgm5DkNuimWODlZvtgIDOHch844zivucwc/hlNtzs89iGZqWgmDHefuMm77VTUWQ9\n",
       "eLKN0zOKxfD+bGui65av54aEOW5QZ0aUCJd2K21Rivo23WCZkQ7kdL5u8Z86E2U/QA0Tyyw3ObhQ\n",
       "uCk1zrhUX3YHrczN4vD7FuwdhqTLM9w03cidbmwi3M79mtURwu17cOPULH7ZuInVb6RX5Y6sDWzQ\n",
       "nHOqln9tKJq2QMwTLmnMXOVmElNdpDpFihl77KKW/+M14w9LoCYGl/YY3QAAAABJRU5ErkJggg==\n",
       "\" style=\"display:inline;vertical-align:middle;\" /></a></span><br>"
      ],
      "text/plain": [
       "mod_abs_diff_upper_2: {e in NaturalPos, l in {-e .. e}} |- |((b + l) mod 2^{t}) - b|_{mod 2^{t}} <= e"
      ]
     },
     "execution_count": 15,
     "metadata": {},
     "output_type": "execute_result"
    }
   ],
   "source": [
    "mod_abs_diff_upper_2 = mod_abs_diff_upper_1.apply_transitivity(abs_l_upper)"
   ]
  },
  {
   "cell_type": "code",
   "execution_count": 16,
   "metadata": {},
   "outputs": [
    {
     "data": {
      "text/html": [
       "<span style=\"font-size:20px;\"> <a class=\"ProveItLink\" href=\"../../axioms.ipynb#_mod_add_def\" style=\"text-decoration: none\">&nbsp;&#x22A2;&nbsp;&nbsp;</a><a class=\"ProveItLink\" href=\"../../../__pv_it/axioms/f7f8593197aebdb8145c2575637dd2d9c8aa4a5a0/expr.ipynb\"><img src=\"data:image/png;base64,iVBORw0KGgoAAAANSUhEUgAAAUUAAAAbBAMAAAAZqYBdAAAAMFBMVEX///8QEBCIiIhmZma6urrM\n",
       "zMxUVFQiIiJERETc3Nzu7u6qqqp2dnaYmJgyMjIAAAAcRTyBAAAAAXRSTlMAQObYZgAABOdJREFU\n",
       "WMPVV12IG1UU/jbJbHZm87NS0Soo2dYuPuxD2EWUstr4gz6J2VK2+FATFqvWql2UitaCawuSRZQR\n",
       "wRZl6bQLpexDE2xFC4UOzZM11qhYi6gEo63Wkl3DLrW7lfWcOzPJTDITE1DQQ+7MnTv3u/Odc885\n",
       "9wT4j8rPHc7fhH8b0CTKPBCju6/N+VK6ww90DGiW3gngQboH2lwqonX4gY4BTSLfWU4iVKTeZ+0B\n",
       "hhhU9FJYdQdgugOAub+b6rpFcnTZRS1IYyUe+b6lTkt0OeL25siNdNnmDlAm2wdY7OcSgupwJoko\n",
       "a7KWHTIOfMrDl1pxDNEs/Or6qkztqDsgorYPsOSA4HgYoQWMimdWmIJnP98nW3HsIrOH47aB8Ej5\n",
       "DqO3zIxibgB85bCQNccdYElUcFwPXIcBhXQM8kKvGP4dyrXieIBmBG1WkbZBNzgHxKb2uQHwshtH\n",
       "D4CTI/nDDnUoRD0/2+4uMsqZ2dl9LUPmC2r2GRsBHTNiUyf4+pMbQJ5w4+gBcHKc07AjObaOfZG1\n",
       "6af2RyazuyXHe0zvlUeGbubnOHOU+auR8bW0A3k3ALs63sn3aw6ODsBjqzYOxO67PQHl9CCRUwpr\n",
       "UglzhVe1utkfof5WYMpaPVBx4Zih9ia1e9XIPHujyhz5h+wl5SrwA086W2Ep1wA9lKsCN2HOaUcb\n",
       "gOSlmFxNhPuwWcUe4GAOn5scA9dMr1qkSyoJ3A+lVONj2aR7dX6vFSYXDMdVbjH8ww9B8AG6ndJQ\n",
       "BT5qVIoB7O4Hi+xMdo5OwGu0iZCuYrcg8pYV1wQ2Dxd5wQz2IHz1/Pwb+/TJ4WJQDR2yEuoL1K4n\n",
       "bksI8qe6C4XC5ULhtNhUhTRONXJkQBetvEHD8+yElcrFWyuVdBOAWF2DvChRsEd1fpE1OQ5bSZ05\n",
       "8mCoGKwvTzuB8ydm0Yst0/acRhy7JpFN1u04Ld4Ell04lk2Oq6EsOu3oBJBPVIljLzGJTkrVGkef\n",
       "tYM1O8qlMerNDHAxJFUHtIAxI65bn3zd2OusjlOoc/yabn+ycfFQ3R8v1AC012SZ3nknRxugzlHY\n",
       "Ma7UOR6DbKQ6iU2W4v7U42TVnRLHkG+XLx4x8vT7SYvjU0bMZHN4js/aQE5wZE0W2OVqIQA7gGJG\n",
       "WUZ36YSDoxNgcsQqIpLAL5Y/Sjp8qjOucYySlj8ucerqiYVLIvPhUKj2yX4jlujdi2LwaeYY5rT/\n",
       "LPbSdaSRY795Hu7BN2ndwdEJEBwpdkeTuAy8ncAGMW1fIf+keaD1mdkW0RgfX7608CJ/enMmk4lB\n",
       "P4P3zKVYEdoeZXzdu7fx84xGHE+K3mDRrWJmQIBUPrzm0fGEg6MDMLay9ePf02ev6PJInvPjyJep\n",
       "G0QOX1m5YsywzhliS0tm1Z5v6RbVunLdwsofFvGJdfwmnGchhlR9rJ4KlImm8zrhdRZ6ADzrUIb9\n",
       "WFtWTT2M/VpQO4+QCF6/sIShjd5QU8iDw7YDvrlEYICzplDsRa93TdEoWYIpS7UDZvyDuzGak56h\n",
       "5d+g53NPFC5aVbrEXjHluVBzqSUAPWr7AC85x7vc8GfBsI6P/dEu271qXCEu7Ld71bheAA/ZyUks\n",
       "2VYVf7TVf4Ww6mGp6Q4AHjPZZ75rGPOq4eOd/qnrFOAuf19+2+R4p6sf/0c4ruf40/C/kL8Ak11x\n",
       "pY/WtwkAAAAASUVORK5CYII=\n",
       "\" style=\"display:inline;vertical-align:middle;\" /></a></span>"
      ],
      "text/plain": [
       "|- forall_{a, b in Integer} ((a MOD_ADD b) = ((a + b) mod 2^{t}))"
      ]
     },
     "execution_count": 16,
     "metadata": {},
     "output_type": "execute_result"
    }
   ],
   "source": [
    "_mod_add_def"
   ]
  },
  {
   "cell_type": "code",
   "execution_count": 17,
   "metadata": {},
   "outputs": [
    {
     "data": {
      "text/html": [
       "<strong id=\"mod_add_def_inst\">mod_add_def_inst:</strong> <span style=\"font-size:20px;\"><a class=\"ProveItLink\" href=\"../../../__pv_it/axioms/8aae196bd8afdc836dd0118c77726bb2371abf720/expr.ipynb\"><img src=\"data:image/png;base64,iVBORw0KGgoAAAANSUhEUgAAAD4AAAAUBAMAAAAn2JMnAAAAMFBMVEX///9EREQyMjKYmJhUVFTM\n",
       "zMyqqqoQEBAiIiK6urrc3NxmZmaIiIh2dnbu7u4AAADbMoQcAAAAAXRSTlMAQObYZgAAANhJREFU\n",
       "KM9jYKAAOBCQF6CFPJ++oB4Db30lTv2MBiEMDO8ZWJSUipSUsciztPIcYGDHNN+wo0MBLD/xgSsD\n",
       "B4Z84DmY/qUOjx4g5PnunF4AovTg5i/IYXVAyM9YwHUBLIqQ551gA5fnK2N4HQByNcJ9Cxj8WCJA\n",
       "LJAWluIzdiB2uBIQKEDlnzCow1TzQyNhIbJ+1gvhcPkLEJodWZ7BDG4dB1D+AJDmPgCXBzqHF24c\n",
       "jwLDa7DT22AiTAlAYhPcuNPGBmD6ieQDMM3aXwgkH2GG+1wJSPiiAACuyy6iWGhMiAAAAABJRU5E\n",
       "rkJggg==\n",
       "\" style=\"display:inline;vertical-align:middle;\" /></a>, <a class=\"ProveItLink\" href=\"../../../__pv_it/theorems/2c8b3d334b927f3c2c870019c8bf2836b7953a9e0/expr.ipynb\"><img src=\"data:image/png;base64,iVBORw0KGgoAAAANSUhEUgAAAHgAAAAVBAMAAAB/IDdlAAAAMFBMVEX///+qqqoyMjK6urp2dnbu\n",
       "7u5UVFTc3NwQEBBERERmZmaYmJjMzMwiIiKIiIgAAABu1cpWAAAAAXRSTlMAQObYZgAAAT5JREFU\n",
       "OMtjYMAEuzYwEAannmIVDnJgIAZYHAASb/+gie4nSi8DlwKQ4P6AJupLnGaWCyATJlCgmeMBhLPz\n",
       "7l0FkjXXHwCzTz4lx2ZI+LCqYnU2q9+rAkx9Ie+WAzU3AFmZYD4bQk0SkjLbAnbMiGO+zlACDeg+\n",
       "sAAnXIqxB8niRoaoAxiaIwRY1wApLQYGnu9ggRNKQAAKMJ65QDewKoHBAbbud1sxXZ2x73UAyLH3\n",
       "GPgawAKVCEch2cyfgC2ovkEoNaB7E0CmMHAg5DKRNGNNqV/AJMjP/BvACrgeYAttXqDcAwzNVxgY\n",
       "+CChzW8Kkb2ITTOfAkMUOBpYPwGJeEgiYnjEwLocEs/cSyAiYZMDsMTzq93Q7HkN5A5oCPCt3g1L\n",
       "JDBgMpeM5IkBPCjRTEp+xgBMRJYkBliFpYgtwwBU9k7yTM/YGQAAAABJRU5ErkJggg==\n",
       "\" style=\"display:inline;vertical-align:middle;\" /></a> <a class=\"ProveItLink\" href=\"../../../__pv_it/_proof__success_sum/b3191e50887cd11d83e324b8d8374dfc294a6c060/proof.ipynb\" style=\"text-decoration: none\">&nbsp;&#x22A2;&nbsp;&nbsp;</a><a class=\"ProveItLink\" href=\"../../../__pv_it/_proof__success_sum/85750e6f8d476d38e38cc1e18e7ff8bab332f7d70/expr.ipynb\"><img src=\"data:image/png;base64,iVBORw0KGgoAAAANSUhEUgAAAOcAAAAbBAMAAAB1ioVxAAAAMFBMVEX////MzMxUVFR2dna6uroQ\n",
       "EBCqqqqIiIgiIiJmZmYyMjJERETu7u6YmJjc3NwAAACgK8IjAAAAAXRSTlMAQObYZgAAA25JREFU\n",
       "SMfFlk1oE0EUx/+bNGk+NptQlYqXxoseKrKQQ2yhuAdBD4XmUJQKQkAPoiCppWgRJFgQ1IOpBYv2\n",
       "YGlBbQ4SC0VQlIiIVsFUxIMXzVEPaoOtFY2Nb2a/kw00BvTR7cxm/zO/nffevFngX1og8heDNjYJ\n",
       "LQCtjY4Rok1CjwItjc4RyDfH/HRxDOhhPWnRUXDC4beJxuSqPe41+zfp8rE3fwlxPl0lPF2Cq1gz\n",
       "XCrXkbdejjjINTu2zJuFybvAGhNn6N8dclumShhagjhVM9xdT44PTnL9VTlUjGK3IiTY/RLNTzOE\n",
       "kxprfHaMd/w5IF4z3JO0y+FNaZ1JJ7luHOrPw5Nojb6i7nlyMfmlT00QYSfkEF+Fh2Z7WjP6a94m\n",
       "t0APOMltUE8arjV/Slbf8CM1u9Sn7YCMBT49beKAUj36LWxyEyqVnOQ2aKAMV0nYzorDMDBCzfSp\n",
       "q+xBhkGlFI+RFkGbXYdNbkIpBQz5loH2k6m9ZxSI8SF6jyfxwWVtuK+stuSohxTkn/kCeS1UZFD2\n",
       "h042E0+N7iyzWa5+QJcpt0BdOV1OdiklrSqhBDYXcQ/ifrh1aJ+sth0RFlZvGWEa7gcn7lFjBG/1\n",
       "xsC0mgWa3AJlKWDI54FfENYwyqYPTmnZS3ZOTw0F/USbQoForlgsNhOLURoKbD8JS9XQC3SZcnc2\n",
       "e/tgNsuqWkfRIr8PfKMoC98pzWUSihrUr4erwKG07/qSxko/0/5NOEJnVagmt6x02CqnIKwS1Eus\n",
       "cK4jZUBHYK6U/BVexI28AX0NBKN025I2YzrN1XOqezW5BTon6nITyleaKRhQbwZftJgWWWaEFfEQ\n",
       "3bQkOZTt/kXZkhmGdaqJpMkt0N9ui1yDYoCmVwI5PaYbgLNG9nZRMBeD3N87GDRE6HAvyyu5Gsq8\n",
       "aJGb0OVnFjmHCiVsimAGUj/8q3wrj8aupI3tvo/2wESPWpPzBD3My6HjKc8qkUVuQt/JprytsvX4\n",
       "SrT7hyyNd9E+XegZXGG5FqhUKmmjZvosx8NEUW4zTq7ntbVXscvNMugor2e31ApuHAhD15LGTW0F\n",
       "Zx60yiFaDvX4epkiK0yP6jyrPav4ybR+eR0LRfmp7GhBh1N5W2NyZ/NF6n9/vHf47UVjcmd70+CH\n",
       "lTfT/KevlGt0xJHmof48/o/9AUDGBSLCc6k0AAAAAElFTkSuQmCC\n",
       "\" style=\"display:inline;vertical-align:middle;\" /></a></span><br>"
      ],
      "text/plain": [
       "mod_add_def_inst: {e in NaturalPos, l in {-e .. e}} |- (b MOD_ADD l) = ((b + l) mod 2^{t})"
      ]
     },
     "execution_count": 17,
     "metadata": {},
     "output_type": "execute_result"
    }
   ],
   "source": [
    "mod_add_def_inst = _mod_add_def.instantiate({a: _b, b: l})"
   ]
  },
  {
   "cell_type": "code",
   "execution_count": 18,
   "metadata": {},
   "outputs": [
    {
     "data": {
      "text/html": [
       "<strong id=\"mod_abs_diff_upper_3\">mod_abs_diff_upper_3:</strong> <span style=\"font-size:20px;\"><a class=\"ProveItLink\" href=\"../../../__pv_it/axioms/8aae196bd8afdc836dd0118c77726bb2371abf720/expr.ipynb\"><img src=\"data:image/png;base64,iVBORw0KGgoAAAANSUhEUgAAAD4AAAAUBAMAAAAn2JMnAAAAMFBMVEX///9EREQyMjKYmJhUVFTM\n",
       "zMyqqqoQEBAiIiK6urrc3NxmZmaIiIh2dnbu7u4AAADbMoQcAAAAAXRSTlMAQObYZgAAANhJREFU\n",
       "KM9jYKAAOBCQF6CFPJ++oB4Db30lTv2MBiEMDO8ZWJSUipSUsciztPIcYGDHNN+wo0MBLD/xgSsD\n",
       "B4Z84DmY/qUOjx4g5PnunF4AovTg5i/IYXVAyM9YwHUBLIqQ551gA5fnK2N4HQByNcJ9Cxj8WCJA\n",
       "LJAWluIzdiB2uBIQKEDlnzCow1TzQyNhIbJ+1gvhcPkLEJodWZ7BDG4dB1D+AJDmPgCXBzqHF24c\n",
       "jwLDa7DT22AiTAlAYhPcuNPGBmD6ieQDMM3aXwgkH2GG+1wJSPiiAACuyy6iWGhMiAAAAABJRU5E\n",
       "rkJggg==\n",
       "\" style=\"display:inline;vertical-align:middle;\" /></a>, <a class=\"ProveItLink\" href=\"../../../__pv_it/theorems/2c8b3d334b927f3c2c870019c8bf2836b7953a9e0/expr.ipynb\"><img src=\"data:image/png;base64,iVBORw0KGgoAAAANSUhEUgAAAHgAAAAVBAMAAAB/IDdlAAAAMFBMVEX///+qqqoyMjK6urp2dnbu\n",
       "7u5UVFTc3NwQEBBERERmZmaYmJjMzMwiIiKIiIgAAABu1cpWAAAAAXRSTlMAQObYZgAAAT5JREFU\n",
       "OMtjYMAEuzYwEAannmIVDnJgIAZYHAASb/+gie4nSi8DlwKQ4P6AJupLnGaWCyATJlCgmeMBhLPz\n",
       "7l0FkjXXHwCzTz4lx2ZI+LCqYnU2q9+rAkx9Ie+WAzU3AFmZYD4bQk0SkjLbAnbMiGO+zlACDeg+\n",
       "sAAnXIqxB8niRoaoAxiaIwRY1wApLQYGnu9ggRNKQAAKMJ65QDewKoHBAbbud1sxXZ2x73UAyLH3\n",
       "GPgawAKVCEch2cyfgC2ovkEoNaB7E0CmMHAg5DKRNGNNqV/AJMjP/BvACrgeYAttXqDcAwzNVxgY\n",
       "+CChzW8Kkb2ITTOfAkMUOBpYPwGJeEgiYnjEwLocEs/cSyAiYZMDsMTzq93Q7HkN5A5oCPCt3g1L\n",
       "JDBgMpeM5IkBPCjRTEp+xgBMRJYkBliFpYgtwwBU9k7yTM/YGQAAAABJRU5ErkJggg==\n",
       "\" style=\"display:inline;vertical-align:middle;\" /></a> <a class=\"ProveItLink\" href=\"../../../__pv_it/_proof__success_sum/aec4c3af09be179fb97226c45d8365a7501de4370/proof.ipynb\" style=\"text-decoration: none\">&nbsp;&#x22A2;&nbsp;&nbsp;</a><a class=\"ProveItLink\" href=\"../../../__pv_it/_proof__success_sum/a90667d8f95976ce6272778d1de272f3734ac12a0/expr.ipynb\"><img src=\"data:image/png;base64,iVBORw0KGgoAAAANSUhEUgAAALwAAAAXBAMAAABDvDi1AAAAMFBMVEX///9UVFQQEBCqqqoiIiJm\n",
       "ZmYyMjJERESYmJjc3NyIiIi6urp2dnbu7u7MzMwAAAADGpxCAAAAAXRSTlMAQObYZgAAArtJREFU\n",
       "SMfFlU9o01Acx79ZtzXpmnR4EQ9KwYvoJeBJ8CBOQccYBRFckdlZJogehkOmB7V4UXvQThQ9KK2g\n",
       "ImVID9780xxWkBkhDKcehNaTMBAqojD8M3+/1zQ2aWpbEXw0eXnv/fLp73/wEd0NzepK/AVdSsr3\n",
       "aJvfZrjQNf4N1BM7PPt3f0LKuLeE0F/gjwL9Mc++XIWa8OyxUCf40GgjXqa3IrpNPTg5Lh76poAF\n",
       "z2ss1AH+3bBL+15yQrEWMW0dDFkY0pMDFj3vsVB7/PU9budco2m+tloGDCzxU7ZCzvCg5jsJ7WzS\n",
       "4/t7NE3k9/EqxniFFMcVRnkCwkLt8B+O/XZSfozxpygpvlplcpGcYTz/sJYD4Y6tEGqDD551Hgf2\n",
       "4hbjh4DAD0RI5z4I9mOaNtMVcGerEGqDDw07Zbeoq+OM30LcBMrElUzTPG6alDHaCge6yjofEaNi\n",
       "C3nx6m1PQo/U+WvSDywbTxld1B3tb5IW0TrelfZF3YsPfaZb6aSF2bqNk3Y1frJDS86JpHDIcvCX\n",
       "yYeDtBxwO0cINTmHEiWckRJIOz6fqIj5u42n0EYK6iY+0QWeyyxlNIVWCDXhp7lwtJXwbqdxaTNC\n",
       "ZoRMY3yJnJ4KiiRcz3iZ/iTylCNtuEBCyBdfUL6hwVJlA9/vQxWJ+YgCFH8uDpYswm8XzYGdXXFH\n",
       "kYXCBeXw8p23FwoI5V8Cc+lkLamaGhRCBy46TaE+4hnjvWPlK/+GnNX7pyhnp+mc7NvIu725QCzV\n",
       "omPKDcWpzO3XncWCP75sSYYWpbQK5soWhPYlKPFMq4Z82r9Emu218ZByWlSOQooVReY0KPh6F49R\n",
       "z+fEv8Azf8IL7bM17Z/gWYsqftj6Y3jJt+oryDK+Sr6/akk5hRJaS249g3811HOD54dufEHYHAPM\n",
       "9E4dPaurVfyP8Qvrq9a1wS0LVgAAAABJRU5ErkJggg==\n",
       "\" style=\"display:inline;vertical-align:middle;\" /></a></span><br>"
      ],
      "text/plain": [
       "mod_abs_diff_upper_3: {e in NaturalPos, l in {-e .. e}} |- |(b MOD_ADD l) - b|_{mod 2^{t}} <= e"
      ]
     },
     "execution_count": 18,
     "metadata": {},
     "output_type": "execute_result"
    }
   ],
   "source": [
    "mod_abs_diff_upper_3 = mod_add_def_inst.sub_left_side_into(mod_abs_diff_upper_2)"
   ]
  },
  {
   "cell_type": "code",
   "execution_count": 19,
   "metadata": {},
   "outputs": [
    {
     "data": {
      "text/html": [
       "<span style=\"font-size:20px;\"><a class=\"ProveItLink\" href=\"../../../__pv_it/axioms/8aae196bd8afdc836dd0118c77726bb2371abf720/expr.ipynb\"><img src=\"data:image/png;base64,iVBORw0KGgoAAAANSUhEUgAAAD4AAAAUBAMAAAAn2JMnAAAAMFBMVEX///9EREQyMjKYmJhUVFTM\n",
       "zMyqqqoQEBAiIiK6urrc3NxmZmaIiIh2dnbu7u4AAADbMoQcAAAAAXRSTlMAQObYZgAAANhJREFU\n",
       "KM9jYKAAOBCQF6CFPJ++oB4Db30lTv2MBiEMDO8ZWJSUipSUsciztPIcYGDHNN+wo0MBLD/xgSsD\n",
       "B4Z84DmY/qUOjx4g5PnunF4AovTg5i/IYXVAyM9YwHUBLIqQ551gA5fnK2N4HQByNcJ9Cxj8WCJA\n",
       "LJAWluIzdiB2uBIQKEDlnzCow1TzQyNhIbJ+1gvhcPkLEJodWZ7BDG4dB1D+AJDmPgCXBzqHF24c\n",
       "jwLDa7DT22AiTAlAYhPcuNPGBmD6ieQDMM3aXwgkH2GG+1wJSPiiAACuyy6iWGhMiAAAAABJRU5E\n",
       "rkJggg==\n",
       "\" style=\"display:inline;vertical-align:middle;\" /></a> <a class=\"ProveItLink\" href=\"../../../__pv_it/_proof__success_sum/2de6c3dab7d17bbc7d09bc78a81668f41cb4b3550/proof.ipynb\" style=\"text-decoration: none\">&nbsp;&#x22A2;&nbsp;&nbsp;</a><a class=\"ProveItLink\" href=\"../../../__pv_it/_proof__success_sum/5c57ee69762bb50fdfca9f1ea9053748823ccc560/expr.ipynb\"><img src=\"data:image/png;base64,iVBORw0KGgoAAAANSUhEUgAAAToAAAAXBAMAAABpKZ4zAAAAMFBMVEX///8QEBCIiIhmZma6urrM\n",
       "zMxUVFQiIiJERETc3Nzu7u6qqqp2dnaYmJgyMjIAAAAcRTyBAAAAAXRSTlMAQObYZgAABBZJREFU\n",
       "SMe9lmFoFEcUx/+3uVxuJ3dJKIqoCOcFEUo+HJHSClIObNEPoqdQKyJEbC0otb3SD6VQMGgpF4vt\n",
       "0g9WBHXtQZFQ9MAPRZT2SAKC3oczpbQU0h6kpSUpJZS0NElF33t7u7e72dzd5oPD3b5h9s1/fvtm\n",
       "5s0Aqy+dZsgOh/HUymUksmKCSrcR1DoRagDWqHFlKjycGhY6MtfX+V5pp3M44WsTp3B0rPGA7Ux4\n",
       "uh5D6Mhg2v/uF+CGv226TbqtOadKGhfJ6MPh6b6D0JHBktWS3DH9nFV7gd6lfP5LbdGpe65+pNFD\n",
       "SztRCk/3vkVHJrpo7ZETKCczUn2GhunzuotTSzr9+aobtQ/J+6Ojn4eH0/NCJyYvLQeAMory7h96\n",
       "/Or1F6dWdPpb3jCRxn+Fwgfh6bSM0LHpOdbPohmm03liknP0GPctU3ZqQdf5SdYJ21i/IRrHgRGo\n",
       "t+32I9Um/Q843xavCh2bmzNqgZAMpuMfYryMf/b2FKcWdIXGhthl6GXR2AlFWWWXHdwNTQXetCtd\n",
       "JaFj862Jv4EOCNpLZCIcwK+9HcWpBd3WZ53QbUQxJxpd0KoSRHV3WxXdtaYC39iVSFbo2LwI9T8F\n",
       "rFKp/FmpjNG7IU7FQzzIX1I4JOLko1OXfOo/3K9XYpvSP1kaiWoXVc4DP94exWrophFdcmLHR8dm\n",
       "1Ok86Y6cfHQaZ5nxsyYuOPLbLdt7FHUNvXaQKguISjZw0X2V9uQsNZZ20blm9hE6Fh2678l8pNBY\n",
       "KvUiTv6ZnSUNI1bDpNOy97hFV7ZWH/1HXqft0oceeOnUjDrqlrphfumic+2KeVyjZ7QkdPyJjxLL\n",
       "d4U4+ek+pq80OhcS7zZ24qEP5dtJKWVp3KJUpA1bqQqxsu0XO+U9fd+YIo1r9umesDIKm1M4yy0n\n",
       "mS7Jm3r+C3rs8IKIUxBdVp9H3tV2gVepVkPRsDR6iTKewquFQiHVyQPtplrBjGS9UmskJdmpMWpl\n",
       "YzbFAfn0okl0d+WQ4y/8zdtbnCZwZW365BSFJz1gYmByVmZrUS1f6/0cCtFI0lkWeQUxX+x6DXju\n",
       "bwtQrti5TjK7DBrlg84UqXzgDUpfwh+UKOIlle8oY6PMYqo7E5xjHY1eDYmcd92RAq87/RwumtY0\n",
       "uNed+xZgp8qBbSX3CR5EpxYpZe7nzXjmpgmJ3Tj0wcDbYEOjY0JWgWdXDKZlLtdjv3Qu8hZu0MWt\n",
       "G1Q8WHj5DapON4djRPcQeG2f7FnULw484O/vcckFa2i07trOd67bZ2AZaUrHsbtqxW4PXl5psOUa\n",
       "bdNR3tVyK97ck4Eh3QKd6YZo1egbYil9E03N7J1zK4wVoKHWt3fOrrJc/ze57vanGVTGDVQm3ykh\n",
       "8vjxXIj+nzW7oxwp4amWJz2TN757PUfsAAAAAElFTkSuQmCC\n",
       "\" style=\"display:inline;vertical-align:middle;\" /></a></span>"
      ],
      "text/plain": [
       "{e in NaturalPos} |- forall_{l in {-e .. e}} (|(b MOD_ADD l) - b|_{mod 2^{t}} <= e)"
      ]
     },
     "execution_count": 19,
     "metadata": {},
     "output_type": "execute_result"
    }
   ],
   "source": [
    "mod_abs_diff_upper_3.generalize(l, domain = l_domain)"
   ]
  },
  {
   "cell_type": "code",
   "execution_count": 20,
   "metadata": {},
   "outputs": [
    {
     "data": {
      "text/html": [
       "<span style=\"font-size:20px;\"> <a class=\"ProveItLink\" href=\"../../../../../../statistics/_theory_nbs_/proofs/prob_lower_bound/thm_proof.ipynb\" style=\"text-decoration: none\">&nbsp;&#x22A2;&nbsp;&nbsp;</a><a class=\"ProveItLink\" href=\"../../../../../../statistics/__pv_it/theorems/eb9a671359cf70216a636b8d6d28ef780d345f620/expr.ipynb\"><img src=\"data:image/png;base64,iVBORw0KGgoAAAANSUhEUgAAAngAAABMBAMAAAAMzdebAAAAMFBMVEX///8QEBCIiIhmZma6urrM\n",
       "zMxUVFQiIiJERETc3Nzu7u6qqqp2dnaYmJgyMjIAAAAcRTyBAAAAAXRSTlMAQObYZgAAC8lJREFU\n",
       "eNrVnH9sG2cZx5+cf1/8o0NMYm1QLLe0UzcR06kMqlIbkDb2z+L+syFAiqlY1aGqSUUr6NYtGaAp\n",
       "5VdcDW0VBcXtUFsVWCzxxzQEs9VGmigZ8RjamAaKC9uqbaJ226Rt0q7H+7736/VzZ/ecu9cqj3Tx\n",
       "4/i973P3uXt/Pe/ZAB3aRhBq7uSHFOWyiKMKKYpCXiJ57b3hdGZSTSg7l/JDG1J3iTisWCo1TF93\n",
       "6v/YubzDKwiF51Je4NGV6Z8jWe2d4XRk+8XW2v1wS8OLrdRvxZXLkIiOCGXnVl40PHhPf/veMiQm\n",
       "q0LhuZUXDm8wp701nA7sKbG11q28cHhxvUOLd96zBT4Sys61vHB4/mvaW8NxbuEVQuG5lhcOD87p\n",
       "78913iZVxDZ5lVse3pw+RpnreLCSETvKcy0vHt7UGCDHsd0Q21+4lhcPL7wIyHFqvReFsnMvLx6e\n",
       "cYwdH2xwUSg89/Li4cEVwI5DS4jtbN3LdwFevYAdpwJpofDcy3cB3kASO057w5LYzrb0fwBvqIYd\n",
       "hzZaFArPvXwX4CUa2HFm8gWh7DyQ7wK8+AJ2nJn/qlB4Hsh3AZ7vI+w4s+h1ofA8kO8CPOkydhzO\n",
       "268JheeBfBfg+a9gx5n1LAiF54F8F+DJCnYcDmKXxI6Rl7yBV1dMu+g5PFCK2HFkkw2h8DyQZ/DK\n",
       "ipoil3/+Rv8F7+H1Z7HjyAbFzs48kGfwfIqxjBQbLXkOr17FjiObqwmF54G82uaNmv2gr+Y5vOEK\n",
       "dhzZ7JhQeB7Iq/CGFPOe2Og5vEweO87mnmrpT7/rpPCvbPyX1C12LttG3mLS+ZxFqoWKCi+mmLmt\n",
       "WKvju8lZRKooUNlyjYnD7ut/OYI3oZ7ddLt9YsNXt+/aRFprGkJePfMF0HxqwYK6RbNt5OEN5ent\n",
       "/+F6Mlq6SRZaqmhDlQmbIRhWnW5xkkc3n6bcTgAKZMKrmc5f6OsHjuDV01rYdvskiPZTRYjT03gl\n",
       "B0FytnF99CXX1M0eXl3PSN0gA+aVzfCaZIFXOb7JCu+IYpPcQqot4EX3Auwgr+8DCmTAGxgxnUP0\n",
       "HnXW2tQrWth2+wyRQuUkvE7cFyirPmC+aqfUrQU8rQEOXG9OcrPSnKyupKm8/KgFnl+xTlawqj08\n",
       "+TxlX4FYGgcy4M2NmE6c3MpRZx36qA6v3T4DJNJABfYR9yytJcPAfNWOqBsHL1zA8iDNk+06gsfJ\n",
       "6kq6yoOPWGYYsxcsA1isag8vTu/NYANCBRzIhLfCdGJnTp58zlmHMZrUwrbbZ4ICy0bI5YmytMNs\n",
       "IWI+vRPPso2DFxjD8hAmg+XgPIJnyhpKhspXf4jhxRXLEAWr2sObpe1ddBGeAxzIgFducM7V8XGH\n",
       "D3b1V/WwbfYhTUvkEkjktp9kZ5rJUl9OPfolWgHSbOOr7etYnjVvk2n/2l+nkiY8UxZ++bej2WaV\n",
       "Zz9E8OT+63ZtMa9KziLy6vo1qI9lPY1vHlbT3i4JB4tGIHt45KY/QJqJiZ2f+za7vTefVm/5b8z8\n",
       "KdcKnroPZ0Zh2rS8WIEwKTrLjnIiR/3fwpvJJ0mnWWObetr3fpfaaBrDI81b736Ihj/Unr6gpTlZ\n",
       "/x20KTBUmD2zDyUGykrW2hY3qZKz+GIhSEFEzzOjxxFljWJ4AX5KfP8KGDADGfAGG5zzZdajwGuk\n",
       "c6Ts34EA65P8abO8PhMu6WG1fcw8plFYujxzej1AiBQdZTgV5p+B2eIDpMUeYVtTh/FyqVkeBnbO\n",
       "bCjC10N5f86Ax8keqcIurPJmGsHzKfjpQ6w6DfInIYhqd4gldhINeBzgMJmdjJuBTHhLnBMCiV7y\n",
       "7UA5w0ES/rNMpwhhFH+HHlbfh9WQP95T5QqHVemerJZ16L3M/CI9DnIDNdjWBE8+m22Shwl25xen\n",
       "slybx8lmAPqQyrozmvMbo58YxfUWq06DrwE9FbvETjkPHydFe5Jw0Qx0WC9zaIxzotUQdZ8Adn5P\n",
       "qDch0SlAb8s7T9uH2j9eOskXTowYZ7mbXYMl5gNcbAXv2T+jO+8Kmg/R0pzsJyAy36Qiv5LUiz5s\n",
       "dJKT+BlTrDoNPWMwiSp3iFXp0SKFB4PFwIIZ6EWj/i9xTqT2ED2CRZAeI9WD7j3Aepk+JixvWGOM\n",
       "SRSjzVP3ObVxbc6f5gpTRbUC0fr1TVZbksyHAKsQ/hG2qae9RW1r3kfygUvq2y16dFralJUvQqzB\n",
       "qUDk3qpNMvQ1lBa1qE7DVBLmwGzz6PwmSE9fItf5cVaU0vDjatsEDw58i57W9bvpvCGe1wKA/JkL\n",
       "dJ/jOfOAzA6D7SMVd4WyceAKa+MxWntJ0aHi0U/RY6b+H6QGrEcdhjZKw/2RpI0n+vTotLQpK1+D\n",
       "MK8S2VWyyST7F2yGeU2qBF4JfoZH0ktyKkcvFOkw4GkI52/WYcDv6R0eVZvOREULQOsT/f89sNU6\n",
       "zlP3CcB/AZ4HrjCdJqitDh2TSMlqdK7CfP+1cINOtX0VtnHw5A+wfFy9spEFPTotzcn+G+Z4lRNZ\n",
       "uzT8EB7CW1TJUD8ZswxoUjF4lf7zNNCmf7BqBmoBL0EPOqzWC9JIQozeu3IOZPrhKlhrB4/tA4uk\n",
       "lRkfH0/qhclNq2wDvX7C13auOwA56svb1q+miYR4jm0cvGAOyfvql5OGAotOSvOyx1LlLFbB8OSP\n",
       "oQ+sqqS33XbXvGUSd+zU9woBgPuBBqLPC+qBWsCL0auaUC9VMP+70kFatrcEgTxrCr9vndtq+wQa\n",
       "AQiCWZi3fRqaWIGfnh1XN+60I9a5LdcRs+g8JCY1Z1GxzDDaPfWiqrKzsEv8PwJvgTY928IFKlsS\n",
       "3mbmm4U9VJRvT779DnV8Y3CiGPkR3BEwW4+JdNPEZjJai0KU3jmscPMhqBOHcPor4DgxMGE9Yxbd\n",
       "Mh/Z1VJFhzfedqbEVOlZBO3yzD/wkyFILE0+lOdtEwMrsCPVP0/+bi3B8z/ZDgXi+J6Z2QSBVXDf\n",
       "3Y1W8I79/RQZX/2YwqOF0VSyoI5VF/jJf/uUlA08Fp0vzaT6eJUX2DxlbxO86GPGDr02gZgqPYse\n",
       "u0R6hq0fHYBQNZy8WUqqyWjdfYi27CUjdMy8OsN5mym1RNo8u7rBhpKB3SU+GUpPPdwyGTpsk0mO\n",
       "IdRU6q9X0q1UNHjcOOVt24xtTR2t1r9j8+HDq1g/BP7URuAO1zYZylsvDTp5tqg6ahLaZ16djAph\n",
       "3bLT8G+pm9QiDW+TIaTRpSetafgWKio8bpzit12Ro6rrnKXhjUBly2Gi42UJ//AeM/NPFDJmkAGx\n",
       "C0B28pl3O5JQ4U0a4xQ5Y9tzdKiKVs/S2HG2f00oPA/kGTy5T397eFjJeXZ0RtNcwY6zQxO76D3k\n",
       "0aJ3/IY639qtKMoV8BxevYQdRzYl9nGLKY8et8iIfValP4cdR5YQ+00CD+S78pRUETnOLDQvFJ4H\n",
       "8l2AF1Cw48yCYr8w6oF8F+DFbmDHmUmXhMLzQL4L8KKXsOPMAmK/t+eBfBfgGQ//dvoUsCIUngfy\n",
       "GJ51BdA1vNASdhxaXezXbd3LI3g2K4Cu4U2twI5DmxX72xbu5U14aFHPO3jlPHYc2mBeKDz38iY8\n",
       "tKjnHbzhEnYcWo/YKYZ7eQrPv5bccXhRzzt4/YAdh+YT+0UM9/IUXjRR3Ap4Uc8zeBH9eedIpz+X\n",
       "5hf7/Sn38hTeL+6HOy2Lep7Bk/QBitTx95VuEztWuc0LeLAZtuFFPe/gxfU+Nt5xDmggKxSea3kG\n",
       "bw/c3nJRzzU846dfOv8NmITY7ta1PIO3199ouajnGl5GF8x0rBwV++0z1/IM3n131lou6rmFJ+vd\n",
       "hNz5z2vKYnsM1/IUnlygD8e0WNRzC0/Sc47SMpKPA0Wh9NzKU3jByoPiEgM9+qJPzzJ+iaOnIhSe\n",
       "W3k2SP5nRRy8Of3qzi3jMveKbfTcyotOScn6moi8rMWRHWJHejtubXjGwy22T7nc1EJif5fGpbxo\n",
       "eIO6/uCyAgVWCoXnUl7wL3ST8bdme5an84DYeutO/mgqtUbEUcVSqRRt6fR6oTn/A77Ob4YNYjPt\n",
       "AAAAAElFTkSuQmCC\n",
       "\" style=\"display:inline;vertical-align:middle;\" /></a></span>"
      ],
      "text/plain": [
       "|- forall_{P, Q, S, q} ([forall_{x in S} P(Q(x))] => (Pr_{q}[P(q)] >= [Sum_{y in S} Pr_{q}[q = Q(y)]]))"
      ]
     },
     "execution_count": 20,
     "metadata": {},
     "output_type": "execute_result"
    }
   ],
   "source": [
    "# from the proveit.statistics pkg\n",
    "# this needs fixed, we need to say that …\n",
    "# |{Q(x)}_{x\\in S}| = n = |S| \n",
    "prob_lower_bound"
   ]
  },
  {
   "cell_type": "code",
   "execution_count": 21,
   "metadata": {},
   "outputs": [
    {
     "data": {
      "text/html": [
       "<strong id=\"prob_lower_bound_inst\">prob_lower_bound_inst:</strong> <span style=\"font-size:20px;\"> <a class=\"ProveItLink\" href=\"../../../__pv_it/_proof__success_sum/92d9c236f21bf2621572663aaa2ce6994b9325220/proof.ipynb\" style=\"text-decoration: none\">&nbsp;&#x22A2;&nbsp;&nbsp;</a><a class=\"ProveItLink\" href=\"../../../__pv_it/_proof__success_sum/07b7fce870a3f894fcab50eff9884fbfff3ff1640/expr.ipynb\"><img src=\"data:image/png;base64,iVBORw0KGgoAAAANSUhEUgAAA1UAAAA/BAMAAAD6Vv9UAAAAMFBMVEX///8QEBCIiIhmZma6urrM\n",
       "zMxERETu7u6qqqp2dnaYmJgyMjLc3NwiIiJUVFQAAAA3EAoQAAAAAXRSTlMAQObYZgAADLBJREFU\n",
       "eNrVXAtsFMcZ/n2vvd1b31lVKAGR+nq0jSgYTqQJCQThpupLlcuBVJqoamxI6qAkqs+hBVG39UWR\n",
       "qlQl8hWQqKGUA1oa0VAckQa3BFhIRdJHuAu0KrRx7ZISBLTBlId5GK4zs6+Zub3z2nC72V/C/7G3\n",
       "N/+/8838r5lZAO+SFHdR+BYHZASSLPcwveCi7HDBCSlLOO5Zkse5KPxAygkp7Y0s9yzVumkCjzgi\n",
       "JTCJ5Z6lDS7KFnvMzysT1Rs0czjuVRN40UXhedMoCbuFgarJ6cyw3KMUanFReKv5MXpmexXnbx3L\n",
       "PUpdiotR4LD5uaaafl/4H8s9Sq+6KDtCzemYAunqSdqUZrknKXjNReHNOcoWZ6roryCfY7knKTro\n",
       "ovBztJmamajmDO5huSepc8A92cJNx0T5hlnuSdrpYiovOZcuCFdZ7klqczNdcND+vsxxL9JlF2XH\n",
       "HEztNqVY7kEKuGkT5mcdlBVnuQdJdLPCtMlBX9nZwnIPUmTIReH7tcR0f9GkahUWautY7kGKFVwU\n",
       "fkPjXUXViQi//3X9+WrlkcMm/2+f8oEGpanP0jnkXTQJsh7X+IvGiJH6M1VKsK6ZvPBBn0GyZdLb\n",
       "5eIWhPAF/VO/mRT7q1RYkK6a/JawCo62ovjV24XVjPiY9QreahnUZ/im5mLOuHpvlQLemya/Baz+\n",
       "CGIjYZaDz9K0rh3dAFbKYjWvvMnx7UmJlQI1cVRRnLS35Hb/FePLoln6kcq3MfU35UdizvLyKkOw\n",
       "fF278TrGikzeMayXCS3ksRFbfhffXf0p+A93jdw0OqxIG9ZYnVN7UDp3+f2zs0qwKAeHsLgwWqws\n",
       "bo+a+ULbjRJsLTSq8NTLVZ0YargEUcUQrAct5zFWP8Gfdo8hbFZIc4jBLv67nQAd/LVdNrFqMDP0\n",
       "jrJY7dembQyNtMVpu1hBJGkPK99fWayEo5SMiDmZ2oslftNCowpP/ZqqEwv3IAg9hp712tV6jNUh\n",
       "3CFjCKu2qs0hBrpR2LrhHrWj70Pf8R7lii2shI3U73Ab1ljVa73RjKLErrhtrGIZW1itPMLPq/A+\n",
       "06bXmLldoHiF/62FRuWfWkqqOjGd50dgrDaxShtPXIAI+o84hojzHbU5xAKa8o8qIoEO4EOo07nk\n",
       "jdw0IlbyXNqA4zZorJ42PhX1GANpMCNrG6v5aTtYvf73UhsY2GdM9xhVut10no9ULDQq/9S1iqoT\n",
       "03k1COl2Q3C/NkgQL4C0bsWKt8YQn6mmnzDV4gbjIIKAZ7R8Cf15hbP7BRtYyWfZQfMKi9WiEqza\n",
       "TN9lB6uNdmKLw71W/irY2miBVaTIx+oWGpV/6rc0nejOgzwaFZFGS6zgcmvr8TFErqrpxyxyYjLu\n",
       "Yj+6AHBQtbgAazhXgW8aAavgU8ZDCqsnK6QNGispyWOFoiP5AgSmf8vcpEewCvzsz4kTwdX/5gTs\n",
       "S9w/IlaLzEG2MvGgebsxjmishHq+iKxq9NCphxIUVmXUgcmaTnTnYWcPYlIXvF+bz4gjrE7SxsU2\n",
       "hXKkWzDr3C1gd/sSESfiSAm7v1+x95ObRsCq1QwrmhQ5S9pQsfL3EbrAYRVEPfVCFsRQb6iOwUoM\n",
       "LYHOj8GznDO8nu5URsAq9A3TbL8Df6CglecqJVhBV5FtTtMo+1RmMYUVrY64hxAZdk9qOtGdB+/h\n",
       "UdmjC27T+qSNYPUZHHYIxh6CR3IVnmShYaNqVTeNWVcacHqYJLICjarF5Y8GkJtGwKrhbqNX74Rl\n",
       "KdIGE1uENfMkaJGs72b3GvSbh2sHAikGq4dreyCfJUOU/vkQxOIjYOU7Ynig9oxwL4WVdFQbdbQn\n",
       "9hfHsz8nGgUz/4TPUlhZqwNwTNOJ7jzs7PHZBh0rTT7iCKta8CF4mvTRM77io5w2oqFG0i2YzVGX\n",
       "mE93d2/o7u5GgpvxAGwmUTcZQzgXJDdxWAlvcK3vWKfnMBMTv1TbYOPAjjsYrEJqVJPubOT8Fb6C\n",
       "Rsd7rA7+HujM8lh9l4sOpOP6hX9t+WTaxMqnX2ewgn7WCKoaCcJFxl/R6tB0h6YT3XlBbKOCg9ZY\n",
       "ibla1b0IP7wnB+HKha0fWWC1CwJXjHmFM/GPgo4VnV6hmzisfPhnax5Lw2Gj+Qc1n6AixGMln1bN\n",
       "kKDZQL3c3lUSW6Arc9UhyqZX8zM8VjOwgbhvlikovEtz5zfp2MKM4zuZJfw8m8pqGoUH2djCUh2C\n",
       "FdGJ7jxfXQWs5J5HVdO5bdUKsI0VZQOvgX/IwEpCxuibApgTVSNyE28DkUkTlWgPdfLsSyfVR1aj\n",
       "3ibDX6lGfo/C+qtmLdjAe/O3/iKRTJzUsUJXjkNgWGA7Mgfz0jxWEfQEP4Wz1NE7PT6/SmFFxfGM\n",
       "v4LNbDFN0wiXcqXZCyf7pqcIVpQ6mr8a0Gwg0YnuvNAA+m+gYB1bwNM4PhnWjs9RWHEnIITVCQor\n",
       "Kra4CO3Yx32BiPNjXMTS2ILcxGO1FKcYwWHxqOkjFz1ORgLCKk7FFlon9nCxxQyt3yegfz+fCB9J\n",
       "T9exmgDIDPl73mSxahQmlsSBoQxOEpuVjbPNAEGNz1F07NNup+N4BqvApdL0ClsdpL/06VzNKd8A\n",
       "wcpSHTJBiE5058VyWTq24LB6Dv0J1kEEWKz4ExAd6e9TWIlqzI7ZGXiM+Jg0FvcixuUZ9OcBVi1y\n",
       "kxVWjfJFpoJ8GCvn64FlCmmDxqojzWGlrdDifE5+poDGwwMaVqhNZIYiWTYpjeZCSUus/gL5xlra\n",
       "1pLZPRUELWYXHocyWDVzVQRNI5wjvdGAgPBn8VNbq0McD9GJ7rzY59EgRT/T8ysNq34VKxyH+Fpg\n",
       "mfo8Rnv8CYj3t6PR365P+YCaC2O2bAqZFsIsJC6Mf74V/+GKy+SmtfCncYlT29GTJ6akYcqWXjU6\n",
       "E0rt7mQsDLdBY3WSqzHNKZ4wdIFoHI23Y3p+VcCZX3g2a6CEmevx9/LLC6d/ZxvKDRPrwLd+akYN\n",
       "UztKQ8LZ261SZ6rGBALngnSNiAM4AQuIj1gL1uqQ24hOdOdJeJBHUta5MEjowUNx+Hpra2s8iKfI\n",
       "59Cn1jR/AoKEYMHjpTUmI36dJgbPGE9RsFwTka/AqygUD2WEAho7dxJ7Fw8nrfME3AaNlfmo/aWL\n",
       "UDUpX4s8mKpYt9AcUD4TaUFR8VL4HpqINQSrI/CcZLPOXjvEFoPL0jj4BOSDI9WYrDoPKWZZu9We\n",
       "9CsQ5eYVfwJiGARqXtG1W50OrrmfqbtaYCUMobB/AQ7wlnSmoVc1BPJMxbqfytZu20q3y+XRzJJa\n",
       "snaw6kxHs8E6FGuF7h4isQU25a9Ps4lViHJRrZUKZoNoZm0TR6rdWnUeVbstmlZfxyqGvGiK9Vf6\n",
       "CYhDafkJ1bnQ/gpC6ppIyLqbS9dENKwGiWnYDPDufBIHUvoKe0lxws6aiMVa45chosin07awIgZT\n",
       "qoPopwZVrMwR10F04NdEaM3MtUYQ/2bm2SWCAgPwGhxeV7EKWqZgZK6JCNoKGeY6Vv61xNMzsYV2\n",
       "AmKBEiRni5fhsNDEylxrtK+FgRWeV3l1Xn2RyvAt2iizhp+rhIU9rPC8mqbOq0A2kLK91ui7ZhWw\n",
       "v1heYsW1RutCl6ILDmobcTCnvYoP+Svb+RVevPeloNwavmQ53T6uGoZmNGfl8dG4jKLVYO/zT5Sz\n",
       "EEpZrLrKb331/SPlq7ShGH2JzSVCaikcSJ+AAwj2rz3/gzK7MHyla/jhqxYBe6DC/r2GUa/hv2QI\n",
       "1jfiYF4SAdjHaky0/KZ016q2JHSvUaB7y9sZqCkWK27lt8aqeeAWdBDaBjYfO3QBxG4Ukq9vQAFO\n",
       "fbFo/+dBY/dS3rDEwrwqbayi95z18fsDhUn26oEOUVOfJSoxN8+OXde7aoJ+5c1zxSqdDfBfYjlL\n",
       "ByvV2R/JwAeCat081tivB+zX1XLR28Vi8UaVZEUGWe5Bsh5mDtE8bQ7Nc2A/u16djhU8i1XYzaPd\n",
       "XTnnZOnV6WbvvuvMwSO7peTkWeUZGZZ7kfrcdJYO2qNzHPcibVLcky06eCj+wxz3IuXj7smWnXvj\n",
       "TuAayz1JETfjor3YYzpilaJDLPckSW4G7Ttx0N7khKRYkuXeJDcP4pPdIGscGxUU9yb92MU3f4l4\n",
       "X96TTkjaw3FvUk3WReG4EMgHg9V4l6peyA9c8jRWkpvedmcabyaK4q0O+vSqyrtU9S0CEY+/of23\n",
       "bkahWbyZiI3YqvEu1WfTLPcqNbuYDQeH8WYijax3Et0WmshxzxpBNzOsHWQzEV4Q+Z0eG1bhXarR\n",
       "AZZ7l951UXY0GfOxV6rxLtUdHPdw6SLjovBeP3/m5fa/S1WexHIPk+BmfvhtB2TICsP/D3EYFSkR\n",
       "6rXgAAAAAElFTkSuQmCC\n",
       "\" style=\"display:inline;vertical-align:middle;\" /></a></span><br>"
      ],
      "text/plain": [
       "prob_lower_bound_inst: |- [forall_{l in {-e .. e}} (|(b MOD_ADD l) - b|_{mod 2^{t}} <= e)] => (Pr_{m}[|m - b|_{mod 2^{t}} <= e] >= (Sum_{l=-e}^{e} Pr_{m}[m = (b MOD_ADD l)]))"
      ]
     },
     "execution_count": 21,
     "metadata": {},
     "output_type": "execute_result"
    }
   ],
   "source": [
    "prob_lower_bound_inst = prob_lower_bound.instantiate(\n",
    "        {Function(P, x): LessEq(ModAbs(subtract(x, _b), _two_pow_t), e),\n",
    "         Function(Q, x): ModAdd(_b, x),\n",
    "         S: l_domain,\n",
    "         q: _m,\n",
    "         x: l,\n",
    "         y: l}, auto_simplify = False)"
   ]
  },
  {
   "cell_type": "code",
   "execution_count": 22,
   "metadata": {},
   "outputs": [
    {
     "data": {
      "text/html": [
       "<span style=\"font-size:20px;\"> <a class=\"ProveItLink\" href=\"../../../../../../statistics/_theory_nbs_/proofs/prob_lower_bound_new/thm_proof.ipynb\" style=\"text-decoration: none\">&nbsp;&#x22A2;&nbsp;&nbsp;</a><a class=\"ProveItLink\" href=\"../../../../../../statistics/__pv_it/theorems/55227ee320ddb1501e1c32d00390b8471bb22fe20/expr.ipynb\"><img src=\"data:image/png;base64,iVBORw0KGgoAAAANSUhEUgAAA30AAABMBAMAAAArasMfAAAAMFBMVEX///8QEBCIiIhmZma6urrM\n",
       "zMxUVFQiIiJERETc3Nzu7u6qqqp2dnaYmJgyMjIAAAAcRTyBAAAAAXRSTlMAQObYZgAADuRJREFU\n",
       "eNrVnXuMVNUdx387c+d157EbxT9ADeOuAkXqTqGtj/AYMEUbWxn4Q5OWdEdSaTV0GQu2tRUZbdVB\n",
       "q4yaUGqjO0BbFLQ7SYvWtsoEtjXVxV2Dj7YqLFExamQHWBd2edye532cuXtdyNzJuSe5zO/OPfOd\n",
       "3/19zvueWQCcUoemDYM0yZ+RWd6tWIU0TUMvG/j5BuGCo08zWy+Vh99lUsu7Fat4a+tK9BKssHPd\n",
       "YBccfSrKQw8CI1LLuxirnehQJ7AT3WAXPMMvVJFa3mV+8HqJnemGx/i9LLe82/wSWXamG97iFzkl\n",
       "t7zb/JTP2ZlueItfuEVuebf5wSF+esiT/Dr65ZZ3nd+iMjvVDU/xu1tyedf5JXK8A8x5kF/kpOTy\n",
       "rvOLD/GJ35AH+flHJJd3nZ96nM8Aj3uQX/OA5PKu84P1/Bt0w0P8diYll3efn+6jYXiH38qi5PLu\n",
       "82vm4xbd8BC/w7LLu88vwfto3fAOv+hR2eXd5+c7AoLhHX7+E7LLu88vcBoEwzv8QqOyy7vPD/TH\n",
       "tZrn+HW3yC7fAH6DGcHwDr9FednlG8BvXr9geIdfX0V2+Qbwa88Khnf4rS/LLt8AfotyguEdfpMz\n",
       "sss3gF93VTC8w08ryS6PY5XQTClZd37No4LhGX4RTXp5HKuoxvY2PP3tm7SWuvNrGhIMz/BTDksv\n",
       "T2I175h+/vaJuvNLnBIMz/CLn5ZensQqpGX1N+bWnV/wpGB4hl/suPTyJFYBzdjGVr/t/hyTf1gw\n",
       "PMOPO3zZh+PJ/YSN/QI94h+lHeRrkvn7InTSHEUx2bd6rFjt14yQjbkj6gvuwuQydXenWMy4gS4M\n",
       "4Nf3HPg5ZmhUCrMA9yRIc2cfmbe0+5a/jwaSKl5MUdt65wCzSZNTpEcs7SAfX3l8eedVpgs9Jtmn\n",
       "2Hu3sPdt+YW1XG3rbKdqk+xcjln4nRYMdOFV/PqJAz/HDI1KCfZ8pyeGJ9qJMUb76K7Ck9BlHMmX\n",
       "MxDMM5sEZ4Aetvy4PNlGcXdJiDST/Zi99yf+vrqqVMNPnWzzJMpWtTbZuWzh5zsmGOjCRtwy5B34\n",
       "OWZoGD/WYfcQTzbaZwqgTNEjAHtxkDGuC6hN0y562PPjA4OOinUrRY8hG0/xwp/kBKIHizV9zSKt\n",
       "dinHTrU22bps4Rc/Jhg7aVmOlZ3mpE4ZGpVCnB9pCV61z+RDsyIfyngHsg/g4r6S2jRtooeJX7go\n",
       "ykM7utpesUaayYb0atGiE1AOZkR+MW1SjWN2qrXJ1mUrv8OCgS7EX9m27TdO4xfHDA3jd4Tf+bvb\n",
       "tj2dG6OTrKI+Ywgi6HKMDAP7ihEjayJNDhO/QF6Uh/U4hGlrpJmsEYMPDAKBQloc6w3WzkXsVGvH\n",
       "wLYuW/hFNcHAF44XCnc6jj+dMjQqNZ3id95cKNxfsc+Eu5muFPhQQ9dFgjAvjW219ZYFuCVKkcPc\n",
       "fu4V5XFXFzkKypTftyb1SDPZNtyP7Jl+McBuE4FIZ1ngt0mr2PTLSHXBrQtadX5UyZzMLm+eCZFJ\n",
       "hruO/G4GWOfIzynDFyxLkX8zdeUXzJjaPVIFel99U+9moqikhdHotI+Ef30G28/A28m7UDsyQA7K\n",
       "7/Kf4rQ2Jcjjru75CsTCn7Kfs/QYsg8hc34xiCrjPnMNilxetPKLakM2/TJSrTxcvlvnR5XgtUM4\n",
       "vU9qnsnlynzwVQ13OT9FEwx84WoyzjG+bFUPXJQ186MZlPUrrriV9DKzd9Oh1NLeF01oSFgU/DYe\n",
       "3Lf14vEyLYh/AVhS238q4htphiJtW7VO8DtXUmQAaKSrIcpW49tX9M5EroXQl60lnmnEfgX6St9E\n",
       "cc2RwzJ+ealslfcN9+6eDvDdUFbJ6PyY7C9QTb4QgigUz5v5xVeJc+V5h4XhMVUNlH8C3+B3wZTM\n",
       "yeRypDwXwnnDXYNfyWrgCyHw6dOp7bvnwF9jJT93YHvJyPA6/Ylj5AMIkB4aBdI8/Sd9SRhIvYcn\n",
       "07C4ROYveHKMXlbUdlbiG3mGwnaoG7xXL7k5+LLZXfg58I+sp243pdnzhOgwsUtQIAWzSg4LP/VA\n",
       "2iIfpuv6pe60qadishPQnVShCZXJDhM/352WWJHOVGxAqaqqDhn9H1MyJ5PLKpwDzUnD3d/xul4Q\n",
       "DHwh1h/Sy9KDj5fgxWQqxt+4sWhkWI5KInp5BL31deJmycKA84uiYhWZiO41C0tZkFBtfmlc/AiK\n",
       "vHP9gz2QM7sLIwCsFrFBNWZ2G/FwlNgAR8bit+HfVvlm8blojyGL+DXloStt4ffMj8ESKxLcY6Lz\n",
       "VJU3E/jTTMmczC4ro9CRMdx9nreNvP5xA1+IDNyAQjFnSRsu/yjt2PFozNL/kQwAa4CU4zW0KiKv\n",
       "ihAdg18I1dd4C+44Sfp4vPwICnt+ev8HTwZQeYi1LbmZugsH9LEgmznjNvMm0p4miQ0B8lBHyZGD\n",
       "8ptL+p1DHwvyHSlj6VmdeXEZfx+XRe1ndxL2I+sand9ja2zWGuMTxVEEVfXjBnNL63X400yJ9X8H\n",
       "sWl2GWW9CAx3d47Fj1xY9330nfP7m4p0qWxH7NmlVp9wBlBHwIfqhw/36+1kcHsBiQS5TYEf/m7U\n",
       "/6KA7fralAxu7xz47X2zNcUECArOjxapmvELhDeg750eHFhN3YUtkycY0z+ijEpPR2nzJTjw2P4b\n",
       "cmW6MH6h6XpRvp1dRLNo2JpBd99jyKLxS3cZHgbT+GXDp3ZrxYsyNtM//CWowVRvx3/moocrWSib\n",
       "XA5n4T4Y5/gF/ozi/PhUaC6pJI47oLLb6hPOAMrJGXjaTH48T56MqF85nOa3KfA7SEobmsj4Sp2h\n",
       "NDxnzy9YQOkheONCmMgECIo8/BBf6KdFqmb+B9HL8Zg20Q8qqyyRH7DZEnsojScKvmR/bH+F2MqJ\n",
       "cBUvPfsr5DDxUz8R5QdpsY7gCjsLFpPv47IoKIlkHE/0Z/P1s1/ZrfUHap77MdUuxNWfCpDZP1Oy\n",
       "jHIMl1Hno+ASxd115od7SlgG8yHws0LhHsTviZDVJ5IhRkt7c4UVT1z8cvw2TfyCKMNJUtqUPATg\n",
       "M2ReiyZFxbHqX2RzDka5AEbB6x8pUjb8aG+GWm/q7h9QtaDN0+AwnbPhhhK+s2LqOjRzQba6bHob\n",
       "Xn5PZMhh4hfMCPJztWWGwvkwhYw0uCxqNdVll+LK+KHD+jW61aRwgateg6NS9mXJ+JMqWZLhMrrc\n",
       "NgKGu8784jhK58HsAGRp/VOWWH0iGcK0tDclSdeGviIDapXfpsEv8Ev0cg7pIxUsh934HiqUd47Z\n",
       "fgaTSgsVoCj0/g8XqZr1T3T8j3iG7pS4+3eAGwTpOxideNG8GLWVHiZ+kdr1T9PQdATusXAi62dx\n",
       "dMtqzpHf+07z2O5imK2exqs2o2zDZdJZbhXWz/RtAsphYZwVqcLqHfBPbL4B8K7N879mOsgLZp8t\n",
       "P4I1o2XAAwl6m0L9W66+E5lAlqcC1QDAQrH+LZlxKW4/cdf9GTRl/JUMEaAo8tCJL/TTIsVpH7Ws\n",
       "PEWqr6HJJXH3ClAfEMJAl1XCqWthvOvXYZuHBhPxsMfEiaxf40mbsX5txy/suNTfVMTjyh6mVOMG\n",
       "d7kTyAxm1zjWPxnQLMzohzBipNyVhqANP2JuLKnnJd/5ABv+PDxVijxAb1Po/zYtib+UxuW0KzYQ\n",
       "I8XB0v9FKnCLUf+6IHRdZmMJCVAUeUuRsuen/uhbM0rEXbiSLyeAsC7tJ3uJwuN6fmTHb+GMqpXT\n",
       "OjYGMZ4ffURWcTKWWL1seGOz6K8s62OfbrJZBNRdXkMqxbieH1nStMI9tm0C+sTglejfxWXY8uvl\n",
       "UESG/7HeqyBwPr1NgZ96xb+yETyd++Mbu14B+KqJ395ZKYgmIW3wWwi+PVg4z1DkLUWKtyzDdiu/\n",
       "orscFZEI3FY2PwzFIMNjPb8N2j1/xwNW8/c9hT48uIpyHLP+mSYPcduHNvvop4lSzQMw7vKCtgyY\n",
       "3HV6fuuYavZPYP0b8GiO+RaltynwQ55knwDgf45vgPJ7dNdbECOF9eEv1cz/jHmfbfvjZxsGpp71\n",
       "/on/0sNnv3/Cbv8LHrBOrd0/gbuoy8bcP2GaPMy39W32F9+FyWWfZf+E7qb/+Nnxw3s/oOtAiRpA\n",
       "tmj4Kzb8Iqcn6Yii/ZRf+doYbKaR2JcR+CE9R34+d/cv2crP+/CMNOhahzF52GL7k1D/6bNYztf3\n",
       "nx0VjDPlFyeQVjMDyBYddpucn0obkPvxKhAtsFuArX+2oqnELNR+/hYCFYFfHJz5Rd3dPxit1/7B\n",
       "TbxXizynfV439zim8EnBqOP+MzK98ONm0thc9AL5dzrAUtzcVu6NwzP4jffAlyFZawVMr9aewd39\n",
       "u4F67d8dpOtyH03WNC1Xd36JE4LR0P2Dc2ZcQrvjPb09Z/pZ1d3982qd9s/73f39Q9PngtH4/Z94\n",
       "/Hk2SXN3J2od5Bvx+6NRwfDO74/WpmWXbwC/jqpgeIffyn7Z5RvAb/+AYHiHX3tKdvkG8OtLCYZ3\n",
       "+HUMyC7fAH76r7y54R1+zVXZ5cVYWbd31YXf2pJgeIdfYkR2eSFWwvauevBT+SxVN7zDL3ZKdnkj\n",
       "Vuo/ZvWL27vqwS/KV9l1wzv8lGHZ5Y1Y/eeFbTXbu+rBL8iXX3TDQ38/crLs8jhWyhRU7xQyOGTb\n",
       "u+rJr4l30rrhIX7zMpLL41jFmkuLIUEbUbq9q578urIgGB7it6giuTyO1ePXwDTyvAWnDbk682vn\n",
       "0wfd8BC/phbJ5UmsZsMyuLFQKCT59q568jvAzw+A9/j5hiSXJ7FaDefR3UNse1c9+en/RYXxf1V4\n",
       "6f9fGZZcnsTqdqVK94iQ7V315efnTx90w1P8+kpyy5NYLZw2APAgjvFjvVfVefzZzeuzbniKX3dF\n",
       "bnkcK7WIf73gQ/1fXX2jmNo5DN3wFD/fqNzyOFbByvVu+EYxnctPzwUv8uO/upBVnszf3624xi/O\n",
       "C1h81Jv8dpaklnf7+VE3b5O7k97kh/82kcTybvPr5Ged4E1++BewEsu7zE/hT7iUkTPgp2nD8vBb\n",
       "XJJZ3q1YhTQN724Mpfl52nrBKW1ubb1YHn5KUWZ5t2IVb23Ff/ZnOz/fbrnwf2Vh2uVJfLe5AAAA\n",
       "AElFTkSuQmCC\n",
       "\" style=\"display:inline;vertical-align:middle;\" /></a></span>"
      ],
      "text/plain": [
       "|- forall_{n in Natural} [forall_{P, Q, S, q | |{Q(x)}_{x in S}| = n, |S| = n} ([forall_{x in S} P(Q(x))] => (Pr_{q}[P(q)] >= [Sum_{y in S} Pr_{q}[q = Q(y)]]))]"
      ]
     },
     "execution_count": 22,
     "metadata": {},
     "output_type": "execute_result"
    }
   ],
   "source": [
    "from proveit.statistics import prob_lower_bound_new\n",
    "prob_lower_bound_new"
   ]
  },
  {
   "cell_type": "code",
   "execution_count": 23,
   "metadata": {},
   "outputs": [
    {
     "data": {
      "text/html": [
       "<span style=\"font-size:20px;\"><a class=\"ProveItLink\" href=\"../../../__pv_it/axioms/8aae196bd8afdc836dd0118c77726bb2371abf720/expr.ipynb\"><img src=\"data:image/png;base64,iVBORw0KGgoAAAANSUhEUgAAAD4AAAAUBAMAAAAn2JMnAAAAMFBMVEX///9EREQyMjKYmJhUVFTM\n",
       "zMyqqqoQEBAiIiK6urrc3NxmZmaIiIh2dnbu7u4AAADbMoQcAAAAAXRSTlMAQObYZgAAANhJREFU\n",
       "KM9jYKAAOBCQF6CFPJ++oB4Db30lTv2MBiEMDO8ZWJSUipSUsciztPIcYGDHNN+wo0MBLD/xgSsD\n",
       "B4Z84DmY/qUOjx4g5PnunF4AovTg5i/IYXVAyM9YwHUBLIqQ551gA5fnK2N4HQByNcJ9Cxj8WCJA\n",
       "LJAWluIzdiB2uBIQKEDlnzCow1TzQyNhIbJ+1gvhcPkLEJodWZ7BDG4dB1D+AJDmPgCXBzqHF24c\n",
       "jwLDa7DT22AiTAlAYhPcuNPGBmD6ieQDMM3aXwgkH2GG+1wJSPiiAACuyy6iWGhMiAAAAABJRU5E\n",
       "rkJggg==\n",
       "\" style=\"display:inline;vertical-align:middle;\" /></a>, <a class=\"ProveItLink\" href=\"../../../__pv_it/theorems/2c8b3d334b927f3c2c870019c8bf2836b7953a9e0/expr.ipynb\"><img src=\"data:image/png;base64,iVBORw0KGgoAAAANSUhEUgAAAHgAAAAVBAMAAAB/IDdlAAAAMFBMVEX///+qqqoyMjK6urp2dnbu\n",
       "7u5UVFTc3NwQEBBERERmZmaYmJjMzMwiIiKIiIgAAABu1cpWAAAAAXRSTlMAQObYZgAAAT5JREFU\n",
       "OMtjYMAEuzYwEAannmIVDnJgIAZYHAASb/+gie4nSi8DlwKQ4P6AJupLnGaWCyATJlCgmeMBhLPz\n",
       "7l0FkjXXHwCzTz4lx2ZI+LCqYnU2q9+rAkx9Ie+WAzU3AFmZYD4bQk0SkjLbAnbMiGO+zlACDeg+\n",
       "sAAnXIqxB8niRoaoAxiaIwRY1wApLQYGnu9ggRNKQAAKMJ65QDewKoHBAbbud1sxXZ2x73UAyLH3\n",
       "GPgawAKVCEch2cyfgC2ovkEoNaB7E0CmMHAg5DKRNGNNqV/AJMjP/BvACrgeYAttXqDcAwzNVxgY\n",
       "+CChzW8Kkb2ITTOfAkMUOBpYPwGJeEgiYnjEwLocEs/cSyAiYZMDsMTzq93Q7HkN5A5oCPCt3g1L\n",
       "JDBgMpeM5IkBPCjRTEp+xgBMRJYkBliFpYgtwwBU9k7yTM/YGQAAAABJRU5ErkJggg==\n",
       "\" style=\"display:inline;vertical-align:middle;\" /></a> <a class=\"ProveItLink\" href=\"../../../__pv_it/_proof__success_sum/1e04e5ba685d1093c942e1109664122a2ec038060/proof.ipynb\" style=\"text-decoration: none\">&nbsp;&#x22A2;&nbsp;&nbsp;</a><a class=\"ProveItLink\" href=\"../../../__pv_it/_proof__success_sum/120dc1968cfdb4e3cf6da04447e3f11e543cb8590/expr.ipynb\"><img src=\"data:image/png;base64,iVBORw0KGgoAAAANSUhEUgAAAOMAAAAVBAMAAABGa0R7AAAAMFBMVEX////c3NxEREQQEBCqqqpU\n",
       "VFQiIiIyMjJmZmaYmJiIiIi6urp2dnbu7u7MzMwAAAA2xJTeAAAAAXRSTlMAQObYZgAAAjdJREFU\n",
       "SMdjeMsABDMmMBAGL9YCCb4LDBSD00B8/QBRSjc/YGDg2YAuyjgBgtEBiwA2MxyhVs4nznUcBdis\n",
       "vATBN5r00CQCsZnBKgCx8hhxVvIkYLOyEIx5AxjOo0ldx/C3LQMDbwHlVnI2gDHHBQZmAzTlC6A2\n",
       "QemrR/8CyVOUW8kmAMbMCQysH1FleA1QrWTgBFl5mXIrxSCY/S8D6z80qWpsVrJvwLCS99QKLEnt\n",
       "zqpGoHUGWKxcAcVAv/5FM+QENit5GsBWhiMZsU2AETPLcCcyyAC1fIBayVMOBg0gKU0oZmDYfwDN\n",
       "kOnYrOQsAFnJYofkSROGGw8wrLzswNsHpCqw+DIFihkYUsH6kQxxw2YlSwLQSj41YCDwQhz+gNVy\n",
       "1VzMcA2etRJU6rBmYVppDcUMHGBP3y8AqYMY8h4SIGXm5eUBcCv5PoB8yY3kS/4AbAnnK4QqZcBj\n",
       "JTRCAxCGvMfmS4iVDEFIVmIt+/5AtKDFZQBywLI0MAiiGbINm5XcCegplg2oegGGlTkMDFw4Uiws\n",
       "+bxhYFiIZgie5INsJVcBww0BWKTwfoeKLmfgbcSRL09AMGPOmdYENEN60KzkAlnJcQAjX66YOQER\n",
       "KakwxZ0zcRUF2yCY/f///wlohtShWskR/L0TqPABtQo8LIA3Ac2XYHANUuAdprxYx6YcahUvSq1+\n",
       "igr1pSIUY4DrWL0OrbzYiWwVbMBTRWMCrO5gAsbBOhDDg+i2D9cDYhsinFgjeCIDAwDmEsWzA3Ku\n",
       "hAAAAABJRU5ErkJggg==\n",
       "\" style=\"display:inline;vertical-align:middle;\" /></a></span>"
      ],
      "text/plain": [
       "{e in NaturalPos, l in {-e .. e}} |- |{-e .. e}| = ((2 * e) + 1)"
      ]
     },
     "execution_count": 23,
     "metadata": {},
     "output_type": "execute_result"
    }
   ],
   "source": [
    "l_domain.deduce_cardinality()"
   ]
  },
  {
   "cell_type": "code",
   "execution_count": 24,
   "metadata": {},
   "outputs": [
    {
     "ename": "InstantiationFailure",
     "evalue": "Proof step failed assuming {e in NaturalPos, l in {-e .. e}}:\nAttempting to instantiate |- forall_{n in Natural} [forall_{P, Q, S, q | |{Q(x)}_{x in S}| = n, |S| = n} ([forall_{x in S} P(Q(x))] => (Pr_{q}[P(q)] >= [Sum_{y in S} Pr_{q}[q = Q(y)]]))] with {n: (2 * e) + 1, P: x -> (|x - b|_{mod 2^{t}} <= e), Q: x -> (b MOD_ADD x), S: {-e .. e}, q: m, x: l, y: l}:\nUnsatisfied condition: |{b MOD_ADD l}_{l in {-e .. e}}| = ((2 * e) + 1)",
     "output_type": "error",
     "traceback": [
      "\u001b[0;31m---------------------------------------------------------------------------\u001b[0m",
      "\u001b[0;31mProofFailure\u001b[0m                              Traceback (most recent call last)",
      "\u001b[0;32m/home/wwitzel/Prove-It/packages/proveit/_core_/expression/expr.py\u001b[0m in \u001b[0;36mprove\u001b[0;34m(self, **defaults_config)\u001b[0m\n\u001b[1;32m    808\u001b[0m                     concluded_truth = self.conclude_via_implication(\n\u001b[0;32m--> 809\u001b[0;31m                             assumptions=assumptions)\n\u001b[0m\u001b[1;32m    810\u001b[0m                 \u001b[0;32mexcept\u001b[0m \u001b[0mProofFailure\u001b[0m\u001b[0;34m:\u001b[0m\u001b[0;34m\u001b[0m\u001b[0;34m\u001b[0m\u001b[0m\n",
      "\u001b[0;32m/home/wwitzel/Prove-It/packages/proveit/decorators.py\u001b[0m in \u001b[0;36mdecorated_prover\u001b[0;34m(*args, **kwargs)\u001b[0m\n\u001b[1;32m    136\u001b[0m                 \u001b[0mkwargs\u001b[0m\u001b[0;34m.\u001b[0m\u001b[0mupdate\u001b[0m\u001b[0;34m(\u001b[0m\u001b[0mpublic_attributes_dict\u001b[0m\u001b[0;34m(\u001b[0m\u001b[0mdefaults\u001b[0m\u001b[0;34m)\u001b[0m\u001b[0;34m)\u001b[0m\u001b[0;34m\u001b[0m\u001b[0;34m\u001b[0m\u001b[0m\n\u001b[0;32m--> 137\u001b[0;31m                 \u001b[0mproven_truth\u001b[0m \u001b[0;34m=\u001b[0m \u001b[0mchecked_truth\u001b[0m\u001b[0;34m(\u001b[0m\u001b[0mfunc\u001b[0m\u001b[0;34m(\u001b[0m\u001b[0;34m*\u001b[0m\u001b[0margs\u001b[0m\u001b[0;34m,\u001b[0m \u001b[0;34m**\u001b[0m\u001b[0mkwargs\u001b[0m\u001b[0;34m)\u001b[0m\u001b[0;34m)\u001b[0m\u001b[0;34m\u001b[0m\u001b[0;34m\u001b[0m\u001b[0m\n\u001b[0m\u001b[1;32m    138\u001b[0m         \u001b[0;32melse\u001b[0m\u001b[0;34m:\u001b[0m\u001b[0;34m\u001b[0m\u001b[0;34m\u001b[0m\u001b[0m\n",
      "\u001b[0;32m/home/wwitzel/Prove-It/packages/proveit/_core_/expression/expr.py\u001b[0m in \u001b[0;36mconclude_via_implication\u001b[0;34m(self, **defaults_config)\u001b[0m\n\u001b[1;32m    903\u001b[0m         \u001b[0;32mfrom\u001b[0m \u001b[0mproveit\u001b[0m\u001b[0;34m.\u001b[0m\u001b[0mlogic\u001b[0m \u001b[0;32mimport\u001b[0m \u001b[0mconclude_via_implication\u001b[0m\u001b[0;34m\u001b[0m\u001b[0;34m\u001b[0m\u001b[0m\n\u001b[0;32m--> 904\u001b[0;31m         \u001b[0;32mreturn\u001b[0m \u001b[0mconclude_via_implication\u001b[0m\u001b[0;34m(\u001b[0m\u001b[0mself\u001b[0m\u001b[0;34m)\u001b[0m\u001b[0;34m\u001b[0m\u001b[0;34m\u001b[0m\u001b[0m\n\u001b[0m\u001b[1;32m    905\u001b[0m \u001b[0;34m\u001b[0m\u001b[0m\n",
      "\u001b[0;32m/home/wwitzel/Prove-It/packages/proveit/decorators.py\u001b[0m in \u001b[0;36mdecorated_prover\u001b[0;34m(*args, **kwargs)\u001b[0m\n\u001b[1;32m    140\u001b[0m             \u001b[0mkwargs\u001b[0m\u001b[0;34m.\u001b[0m\u001b[0mupdate\u001b[0m\u001b[0;34m(\u001b[0m\u001b[0mpublic_attributes_dict\u001b[0m\u001b[0;34m(\u001b[0m\u001b[0mdefaults\u001b[0m\u001b[0;34m)\u001b[0m\u001b[0;34m)\u001b[0m\u001b[0;34m\u001b[0m\u001b[0;34m\u001b[0m\u001b[0m\n\u001b[0;32m--> 141\u001b[0;31m             \u001b[0mproven_truth\u001b[0m \u001b[0;34m=\u001b[0m \u001b[0mchecked_truth\u001b[0m\u001b[0;34m(\u001b[0m\u001b[0mfunc\u001b[0m\u001b[0;34m(\u001b[0m\u001b[0;34m*\u001b[0m\u001b[0margs\u001b[0m\u001b[0;34m,\u001b[0m \u001b[0;34m**\u001b[0m\u001b[0mkwargs\u001b[0m\u001b[0;34m)\u001b[0m\u001b[0;34m)\u001b[0m\u001b[0;34m\u001b[0m\u001b[0;34m\u001b[0m\u001b[0m\n\u001b[0m\u001b[1;32m    142\u001b[0m \u001b[0;34m\u001b[0m\u001b[0m\n",
      "\u001b[0;32m/home/wwitzel/Prove-It/packages/proveit/logic/booleans/implication/implies.py\u001b[0m in \u001b[0;36mconclude_via_implication\u001b[0;34m(consequent, **defaults_config)\u001b[0m\n\u001b[1;32m    433\u001b[0m         \u001b[0mdefaults\u001b[0m\u001b[0;34m.\u001b[0m\u001b[0massumptions\u001b[0m\u001b[0;34m,\u001b[0m\u001b[0;34m\u001b[0m\u001b[0;34m\u001b[0m\u001b[0m\n\u001b[0;32m--> 434\u001b[0;31m         'Unable to conclude via implications')\n\u001b[0m\u001b[1;32m    435\u001b[0m \u001b[0;34m\u001b[0m\u001b[0m\n",
      "\u001b[0;31mProofFailure\u001b[0m: Unable to prove |{b MOD_ADD l}_{l in {-e .. e}}| = ((2 * e) + 1) assuming {e in NaturalPos, l in {-e .. e}}:\nUnable to conclude via implications",
      "\nDuring handling of the above exception, another exception occurred:\n",
      "\u001b[0;31mProofFailure\u001b[0m                              Traceback (most recent call last)",
      "\u001b[0;32m/home/wwitzel/Prove-It/packages/proveit/_core_/proof.py\u001b[0m in \u001b[0;36m_instantiated_expr\u001b[0;34m(original_judgment, relabel_params, relabel_param_replacements, num_forall_eliminations, repl_map, equiv_alt_expansions, assumptions, requirements, equality_repl_requirements)\u001b[0m\n\u001b[1;32m   1565\u001b[0m                             requirements.append(subbed_cond.prove(\n\u001b[0;32m-> 1566\u001b[0;31m                                     assumptions=assumptions))\n\u001b[0m\u001b[1;32m   1567\u001b[0m                         \u001b[0;32mexcept\u001b[0m \u001b[0mProofFailure\u001b[0m\u001b[0;34m:\u001b[0m\u001b[0;34m\u001b[0m\u001b[0;34m\u001b[0m\u001b[0m\n",
      "\u001b[0;32m/home/wwitzel/Prove-It/packages/proveit/decorators.py\u001b[0m in \u001b[0;36mdecorated_prover\u001b[0;34m(*args, **kwargs)\u001b[0m\n\u001b[1;32m    136\u001b[0m                 \u001b[0mkwargs\u001b[0m\u001b[0;34m.\u001b[0m\u001b[0mupdate\u001b[0m\u001b[0;34m(\u001b[0m\u001b[0mpublic_attributes_dict\u001b[0m\u001b[0;34m(\u001b[0m\u001b[0mdefaults\u001b[0m\u001b[0;34m)\u001b[0m\u001b[0;34m)\u001b[0m\u001b[0;34m\u001b[0m\u001b[0;34m\u001b[0m\u001b[0m\n\u001b[0;32m--> 137\u001b[0;31m                 \u001b[0mproven_truth\u001b[0m \u001b[0;34m=\u001b[0m \u001b[0mchecked_truth\u001b[0m\u001b[0;34m(\u001b[0m\u001b[0mfunc\u001b[0m\u001b[0;34m(\u001b[0m\u001b[0;34m*\u001b[0m\u001b[0margs\u001b[0m\u001b[0;34m,\u001b[0m \u001b[0;34m**\u001b[0m\u001b[0mkwargs\u001b[0m\u001b[0;34m)\u001b[0m\u001b[0;34m)\u001b[0m\u001b[0;34m\u001b[0m\u001b[0;34m\u001b[0m\u001b[0m\n\u001b[0m\u001b[1;32m    138\u001b[0m         \u001b[0;32melse\u001b[0m\u001b[0;34m:\u001b[0m\u001b[0;34m\u001b[0m\u001b[0;34m\u001b[0m\u001b[0m\n",
      "\u001b[0;32m/home/wwitzel/Prove-It/packages/proveit/_core_/expression/expr.py\u001b[0m in \u001b[0;36mprove\u001b[0;34m(self, **defaults_config)\u001b[0m\n\u001b[1;32m    812\u001b[0m                     \u001b[0;31m# class\u001b[0m\u001b[0;34m\u001b[0m\u001b[0;34m\u001b[0m\u001b[0;34m\u001b[0m\u001b[0m\n\u001b[0;32m--> 813\u001b[0;31m                     \u001b[0mconcluded_truth\u001b[0m \u001b[0;34m=\u001b[0m \u001b[0mself\u001b[0m\u001b[0;34m.\u001b[0m\u001b[0mconclude\u001b[0m\u001b[0;34m(\u001b[0m\u001b[0massumptions\u001b[0m\u001b[0;34m=\u001b[0m\u001b[0massumptions\u001b[0m\u001b[0;34m)\u001b[0m\u001b[0;34m\u001b[0m\u001b[0;34m\u001b[0m\u001b[0m\n\u001b[0m\u001b[1;32m    814\u001b[0m             \u001b[0;32mif\u001b[0m \u001b[0mconcluded_truth\u001b[0m \u001b[0;32mis\u001b[0m \u001b[0;32mNone\u001b[0m\u001b[0;34m:\u001b[0m\u001b[0;34m\u001b[0m\u001b[0;34m\u001b[0m\u001b[0m\n",
      "\u001b[0;32m/home/wwitzel/Prove-It/packages/proveit/decorators.py\u001b[0m in \u001b[0;36mdecorated_prover\u001b[0;34m(*args, **kwargs)\u001b[0m\n\u001b[1;32m    136\u001b[0m                 \u001b[0mkwargs\u001b[0m\u001b[0;34m.\u001b[0m\u001b[0mupdate\u001b[0m\u001b[0;34m(\u001b[0m\u001b[0mpublic_attributes_dict\u001b[0m\u001b[0;34m(\u001b[0m\u001b[0mdefaults\u001b[0m\u001b[0;34m)\u001b[0m\u001b[0;34m)\u001b[0m\u001b[0;34m\u001b[0m\u001b[0;34m\u001b[0m\u001b[0m\n\u001b[0;32m--> 137\u001b[0;31m                 \u001b[0mproven_truth\u001b[0m \u001b[0;34m=\u001b[0m \u001b[0mchecked_truth\u001b[0m\u001b[0;34m(\u001b[0m\u001b[0mfunc\u001b[0m\u001b[0;34m(\u001b[0m\u001b[0;34m*\u001b[0m\u001b[0margs\u001b[0m\u001b[0;34m,\u001b[0m \u001b[0;34m**\u001b[0m\u001b[0mkwargs\u001b[0m\u001b[0;34m)\u001b[0m\u001b[0;34m)\u001b[0m\u001b[0;34m\u001b[0m\u001b[0;34m\u001b[0m\u001b[0m\n\u001b[0m\u001b[1;32m    138\u001b[0m         \u001b[0;32melse\u001b[0m\u001b[0;34m:\u001b[0m\u001b[0;34m\u001b[0m\u001b[0;34m\u001b[0m\u001b[0m\n",
      "\u001b[0;32m/home/wwitzel/Prove-It/packages/proveit/logic/equality/equals.py\u001b[0m in \u001b[0;36mconclude\u001b[0;34m(self, **defaults_config)\u001b[0m\n\u001b[1;32m    205\u001b[0m         raise ProofFailure(self, defaults.assumptions,\n\u001b[0;32m--> 206\u001b[0;31m                            \u001b[0;34m\"Unable to automatically conclude by \"\u001b[0m\u001b[0;34m\u001b[0m\u001b[0;34m\u001b[0m\u001b[0m\n\u001b[0m\u001b[1;32m    207\u001b[0m                            \u001b[0;34m\"standard means.  To try to prove this via \"\u001b[0m\u001b[0;34m\u001b[0m\u001b[0;34m\u001b[0m\u001b[0m\n",
      "\u001b[0;31mProofFailure\u001b[0m: Unable to prove |{b MOD_ADD l}_{l in {-e .. e}}| = ((2 * e) + 1) assuming {e in NaturalPos, l in {-e .. e}}:\nUnable to automatically conclude by standard means.  To try to prove this via transitive relations, try 'conclude_via_transitivity'.",
      "\nDuring handling of the above exception, another exception occurred:\n",
      "\u001b[0;31mInstantiationFailure\u001b[0m                      Traceback (most recent call last)",
      "\u001b[0;32m<ipython-input-24-faab9682bd5f>\u001b[0m in \u001b[0;36m<module>\u001b[0;34m\u001b[0m\n\u001b[1;32m      6\u001b[0m          \u001b[0mq\u001b[0m\u001b[0;34m:\u001b[0m \u001b[0m_m\u001b[0m\u001b[0;34m,\u001b[0m\u001b[0;34m\u001b[0m\u001b[0;34m\u001b[0m\u001b[0m\n\u001b[1;32m      7\u001b[0m          \u001b[0mx\u001b[0m\u001b[0;34m:\u001b[0m \u001b[0ml\u001b[0m\u001b[0;34m,\u001b[0m\u001b[0;34m\u001b[0m\u001b[0;34m\u001b[0m\u001b[0m\n\u001b[0;32m----> 8\u001b[0;31m          y: l}, auto_simplify = False)\n\u001b[0m\u001b[1;32m      9\u001b[0m \u001b[0mproveit\u001b[0m\u001b[0;34m.\u001b[0m\u001b[0mmagics\u001b[0m\u001b[0;34m.\u001b[0m\u001b[0mAssignments\u001b[0m\u001b[0;34m(\u001b[0m\u001b[0;34m[\u001b[0m\u001b[0;34m'prob_lower_bound_new_inst'\u001b[0m\u001b[0;34m]\u001b[0m\u001b[0;34m,\u001b[0m \u001b[0;34m[\u001b[0m\u001b[0mprob_lower_bound_new_inst\u001b[0m\u001b[0;34m]\u001b[0m\u001b[0;34m)\u001b[0m\u001b[0;34m\u001b[0m\u001b[0;34m\u001b[0m\u001b[0m\n",
      "\u001b[0;32m/home/wwitzel/Prove-It/packages/proveit/decorators.py\u001b[0m in \u001b[0;36mdecorated_prover\u001b[0;34m(*args, **kwargs)\u001b[0m\n\u001b[1;32m    135\u001b[0m                         \u001b[0msetattr\u001b[0m\u001b[0;34m(\u001b[0m\u001b[0mtemp_defaults\u001b[0m\u001b[0;34m,\u001b[0m \u001b[0mkey\u001b[0m\u001b[0;34m,\u001b[0m \u001b[0mkwargs\u001b[0m\u001b[0;34m[\u001b[0m\u001b[0mkey\u001b[0m\u001b[0;34m]\u001b[0m\u001b[0;34m)\u001b[0m\u001b[0;34m\u001b[0m\u001b[0;34m\u001b[0m\u001b[0m\n\u001b[1;32m    136\u001b[0m                 \u001b[0mkwargs\u001b[0m\u001b[0;34m.\u001b[0m\u001b[0mupdate\u001b[0m\u001b[0;34m(\u001b[0m\u001b[0mpublic_attributes_dict\u001b[0m\u001b[0;34m(\u001b[0m\u001b[0mdefaults\u001b[0m\u001b[0;34m)\u001b[0m\u001b[0;34m)\u001b[0m\u001b[0;34m\u001b[0m\u001b[0;34m\u001b[0m\u001b[0m\n\u001b[0;32m--> 137\u001b[0;31m                 \u001b[0mproven_truth\u001b[0m \u001b[0;34m=\u001b[0m \u001b[0mchecked_truth\u001b[0m\u001b[0;34m(\u001b[0m\u001b[0mfunc\u001b[0m\u001b[0;34m(\u001b[0m\u001b[0;34m*\u001b[0m\u001b[0margs\u001b[0m\u001b[0;34m,\u001b[0m \u001b[0;34m**\u001b[0m\u001b[0mkwargs\u001b[0m\u001b[0;34m)\u001b[0m\u001b[0;34m)\u001b[0m\u001b[0;34m\u001b[0m\u001b[0;34m\u001b[0m\u001b[0m\n\u001b[0m\u001b[1;32m    138\u001b[0m         \u001b[0;32melse\u001b[0m\u001b[0;34m:\u001b[0m\u001b[0;34m\u001b[0m\u001b[0;34m\u001b[0m\u001b[0m\n\u001b[1;32m    139\u001b[0m             \u001b[0;31m# No defaults reconfiguration.\u001b[0m\u001b[0;34m\u001b[0m\u001b[0;34m\u001b[0m\u001b[0;34m\u001b[0m\u001b[0m\n",
      "\u001b[0;32m/home/wwitzel/Prove-It/packages/proveit/_core_/judgment.py\u001b[0m in \u001b[0;36minstantiate\u001b[0;34m(self, repl_map, num_forall_eliminations, **defaults_config)\u001b[0m\n\u001b[1;32m    979\u001b[0m                               \u001b[0mrepl_map\u001b[0m\u001b[0;34m=\u001b[0m\u001b[0mprocessed_repl_map\u001b[0m\u001b[0;34m,\u001b[0m\u001b[0;34m\u001b[0m\u001b[0;34m\u001b[0m\u001b[0m\n\u001b[1;32m    980\u001b[0m                               \u001b[0mequiv_alt_expansions\u001b[0m\u001b[0;34m=\u001b[0m\u001b[0mequiv_alt_expansions\u001b[0m\u001b[0;34m,\u001b[0m\u001b[0;34m\u001b[0m\u001b[0;34m\u001b[0m\u001b[0m\n\u001b[0;32m--> 981\u001b[0;31m                               assumptions=defaults.assumptions))\n\u001b[0m\u001b[1;32m    982\u001b[0m         \u001b[0;32mfinally\u001b[0m\u001b[0;34m:\u001b[0m\u001b[0;34m\u001b[0m\u001b[0;34m\u001b[0m\u001b[0m\n\u001b[1;32m    983\u001b[0m             \u001b[0;31m# Revert the preserved_exprs set back to what it was.\u001b[0m\u001b[0;34m\u001b[0m\u001b[0;34m\u001b[0m\u001b[0;34m\u001b[0m\u001b[0m\n",
      "\u001b[0;32m/home/wwitzel/Prove-It/packages/proveit/_core_/proof.py\u001b[0m in \u001b[0;36m__init__\u001b[0;34m(self, orig_judgment, num_forall_eliminations, repl_map, equiv_alt_expansions, assumptions)\u001b[0m\n\u001b[1;32m   1169\u001b[0m                     \u001b[0mnum_forall_eliminations\u001b[0m\u001b[0;34m,\u001b[0m \u001b[0mrepl_map\u001b[0m\u001b[0;34m,\u001b[0m\u001b[0;34m\u001b[0m\u001b[0;34m\u001b[0m\u001b[0m\n\u001b[1;32m   1170\u001b[0m                     \u001b[0mequiv_alt_expansions\u001b[0m\u001b[0;34m,\u001b[0m \u001b[0massumptions\u001b[0m\u001b[0;34m,\u001b[0m \u001b[0mrequirements\u001b[0m\u001b[0;34m,\u001b[0m\u001b[0;34m\u001b[0m\u001b[0;34m\u001b[0m\u001b[0m\n\u001b[0;32m-> 1171\u001b[0;31m                     equality_repl_requirements)\n\u001b[0m\u001b[1;32m   1172\u001b[0m \u001b[0;34m\u001b[0m\u001b[0m\n\u001b[1;32m   1173\u001b[0m             \u001b[0;31m# Remove duplicates in the requirements.\u001b[0m\u001b[0;34m\u001b[0m\u001b[0;34m\u001b[0m\u001b[0;34m\u001b[0m\u001b[0m\n",
      "\u001b[0;32m/home/wwitzel/Prove-It/packages/proveit/_core_/proof.py\u001b[0m in \u001b[0;36m_instantiated_expr\u001b[0;34m(original_judgment, relabel_params, relabel_param_replacements, num_forall_eliminations, repl_map, equiv_alt_expansions, assumptions, requirements, equality_repl_requirements)\u001b[0m\n\u001b[1;32m   1567\u001b[0m                         \u001b[0;32mexcept\u001b[0m \u001b[0mProofFailure\u001b[0m\u001b[0;34m:\u001b[0m\u001b[0;34m\u001b[0m\u001b[0;34m\u001b[0m\u001b[0m\n\u001b[1;32m   1568\u001b[0m                             raise_failure('Unsatisfied condition: %s'\n\u001b[0;32m-> 1569\u001b[0;31m                                           % str(subbed_cond))\n\u001b[0m\u001b[1;32m   1570\u001b[0m \u001b[0;34m\u001b[0m\u001b[0m\n\u001b[1;32m   1571\u001b[0m         \u001b[0;31m# Make final instantiations in the inner instance expression.\u001b[0m\u001b[0;34m\u001b[0m\u001b[0;34m\u001b[0m\u001b[0;34m\u001b[0m\u001b[0m\n",
      "\u001b[0;32m/home/wwitzel/Prove-It/packages/proveit/_core_/proof.py\u001b[0m in \u001b[0;36mraise_failure\u001b[0;34m(msg)\u001b[0m\n\u001b[1;32m   1383\u001b[0m         \u001b[0;32mdef\u001b[0m \u001b[0mraise_failure\u001b[0m\u001b[0;34m(\u001b[0m\u001b[0mmsg\u001b[0m\u001b[0;34m)\u001b[0m\u001b[0;34m:\u001b[0m\u001b[0;34m\u001b[0m\u001b[0;34m\u001b[0m\u001b[0m\n\u001b[1;32m   1384\u001b[0m             raise InstantiationFailure(original_judgment, repl_map,\n\u001b[0;32m-> 1385\u001b[0;31m                                        assumptions, msg)\n\u001b[0m\u001b[1;32m   1386\u001b[0m \u001b[0;34m\u001b[0m\u001b[0m\n\u001b[1;32m   1387\u001b[0m         \u001b[0;32mdef\u001b[0m \u001b[0minstantiate\u001b[0m\u001b[0;34m(\u001b[0m\u001b[0mexpr\u001b[0m\u001b[0;34m)\u001b[0m\u001b[0;34m:\u001b[0m\u001b[0;34m\u001b[0m\u001b[0;34m\u001b[0m\u001b[0m\n",
      "\u001b[0;31mInstantiationFailure\u001b[0m: Proof step failed assuming {e in NaturalPos, l in {-e .. e}}:\nAttempting to instantiate |- forall_{n in Natural} [forall_{P, Q, S, q | |{Q(x)}_{x in S}| = n, |S| = n} ([forall_{x in S} P(Q(x))] => (Pr_{q}[P(q)] >= [Sum_{y in S} Pr_{q}[q = Q(y)]]))] with {n: (2 * e) + 1, P: x -> (|x - b|_{mod 2^{t}} <= e), Q: x -> (b MOD_ADD x), S: {-e .. e}, q: m, x: l, y: l}:\nUnsatisfied condition: |{b MOD_ADD l}_{l in {-e .. e}}| = ((2 * e) + 1)"
     ]
    }
   ],
   "source": [
    "# Unsatisfied condition: |{b MOD_ADD l}_{l in {-e .. e}}| = ((2 * e) + 1)\n",
    "# prob_lower_bound_new_inst = prob_lower_bound_new.instantiate(\n",
    "#         {n: Add(Mult(two, e), one),\n",
    "#          Function(P, x): LessEq(ModAbs(subtract(x, _b), _two_pow_t), e),\n",
    "#          Function(Q, x): ModAdd(_b, x),\n",
    "#          S: l_domain,\n",
    "#          q: _m,\n",
    "#          x: l,\n",
    "#          y: l}, auto_simplify = False)"
   ]
  },
  {
   "cell_type": "code",
   "execution_count": null,
   "metadata": {},
   "outputs": [],
   "source": [
    "# prob_lower_bound_conclusion = prob_lower_bound_inst.derive_consequent()"
   ]
  },
  {
   "cell_type": "code",
   "execution_count": null,
   "metadata": {},
   "outputs": [],
   "source": [
    "# success_def_inst = _success_def.instantiate()"
   ]
  },
  {
   "cell_type": "code",
   "execution_count": null,
   "metadata": {},
   "outputs": [],
   "source": [
    "# success_sum_instance_expr = success_def_inst.sub_left_side_into(prob_lower_bound_conclusion)"
   ]
  },
  {
   "cell_type": "code",
   "execution_count": null,
   "metadata": {},
   "outputs": [],
   "source": [
    "# success_sum_instance_expr.generalize(e, domain=NaturalPos)"
   ]
  },
  {
   "cell_type": "code",
   "execution_count": null,
   "metadata": {},
   "outputs": [],
   "source": [
    "# %qed"
   ]
  },
  {
   "cell_type": "code",
   "execution_count": null,
   "metadata": {},
   "outputs": [],
   "source": []
  }
 ],
 "metadata": {
  "kernelspec": {
   "display_name": "Python 3",
   "language": "python",
   "name": "python3"
  },
  "language_info": {
   "codemirror_mode": {
    "name": "ipython",
    "version": 3
   },
   "file_extension": ".py",
   "mimetype": "text/x-python",
   "name": "python",
   "nbconvert_exporter": "python",
   "pygments_lexer": "ipython3",
   "version": "3.7.3"
  }
 },
 "nbformat": 4,
 "nbformat_minor": 1
}
