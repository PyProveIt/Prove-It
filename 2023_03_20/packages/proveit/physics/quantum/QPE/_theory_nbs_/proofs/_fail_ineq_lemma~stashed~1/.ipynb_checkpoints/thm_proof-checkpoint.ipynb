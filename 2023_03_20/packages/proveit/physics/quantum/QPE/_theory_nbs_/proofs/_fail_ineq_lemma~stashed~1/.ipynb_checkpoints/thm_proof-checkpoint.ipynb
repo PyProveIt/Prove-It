{
 "cells": [
  {
   "cell_type": "markdown",
   "metadata": {},
   "source": [
    "Proof of <a class=\"ProveItLink\" href=\"../../../../../../_theory_nbs_/theory.ipynb\">proveit</a>.<a class=\"ProveItLink\" href=\"../../../../../_theory_nbs_/theory.ipynb\">physics</a>.<a class=\"ProveItLink\" href=\"../../../../_theory_nbs_/theory.ipynb\">quantum</a>.<a class=\"ProveItLink\" href=\"../../theory.ipynb\">QPE</a>.<a class=\"ProveItLink\" href=\"../../theorems.ipynb#_fail_ineq_lemma\">_fail_ineq_lemma</a> theorem\n",
    "========"
   ]
  },
  {
   "cell_type": "code",
   "execution_count": 1,
   "metadata": {},
   "outputs": [],
   "source": [
    "import proveit\n",
    "theory = proveit.Theory() # the theorem's theory\n",
    "from proveit import l, defaults\n",
    "from proveit.logic import InSet\n",
    "from proveit.numbers import frac, one, four, NaturalPos, IntegerNeg\n",
    "# import common expressions\n",
    "from proveit.physics.quantum.QPE import _neg_domain, _pos_domain\n",
    "# import theorems\n",
    "from proveit.physics.quantum.QPE import (\n",
    "    _alpha_l_sqrd_ineq, _all_alpha_l_is_complex,\n",
    "    _fail_sum, _neg_domain_in_full_domain_sans_zero, _neg_domain_within_negint,\n",
    "    _pos_domain_in_full_domain_sans_zero, _pos_domain_within_natpos, \n",
    "    _scaled_delta_in_interval, _scaled_delta_not_eq_nonzeroInt)"
   ]
  },
  {
   "cell_type": "code",
   "execution_count": 2,
   "metadata": {},
   "outputs": [
    {
     "data": {
      "text/html": [
       "Under these <a href=\"presumptions.txt\">presumptions</a>, we begin our proof of<br><strong id=\"_fail_ineq_lemma\">_fail_ineq_lemma:</strong> <a class=\"ProveItLink\" href=\"../../../__pv_it/theorems/4ef3074bf6a43498547d1b62b30b5aa61e6523af0/expr.ipynb\"><img src=\"data:image/png;base64,iVBORw0KGgoAAAANSUhEUgAAA18AAABMBAMAAABgwhDyAAAAMFBMVEX///+IiIgiIiIQEBB2dnbu\n",
       "7u5ERETMzMzc3NwyMjK6urpmZmaYmJiqqqpUVFQAAAB6qHgnAAAAAXRSTlMAQObYZgAAAAlwSFlz\n",
       "AAAOxAAADsQBlSsOGwAAEBtJREFUeNrFXXtsHMUZnzvf3vvh8JAQDdi4QZEAYbcQhAqqLxGt1CqQ\n",
       "K0SoNCg2oLopgvpSUFGVgo+AAmra2oVCoY/YFCr1jwqbCMLDaX20StsoILvQSkWt8LVA1KptbMd2\n",
       "/Ijt7c4+vpmdnV3v3X17HWmd7767b+c389uZ75vXhhDclBgKwprpf0QalfYXAiuma4pfKgoMhiee\n",
       "2tOvA7EGfarSMMIilcCK6Z5ucggAIxJI0TNbgrBm+ncLDSOMXB9UMT1SU1kUGIzrg8jwlnIQ1qBX\n",
       "rm8cX2S4FFAxPVJyURQYDA88tad/BWIN+uyA47u/CJ9DaGXJdvsBetDyOl9GyfSkQwAYHnhqTrHl\n",
       "IKyZvs/h69M2ze0aoSNoEcCqH6Bvmv8+eClKpv0TogAw3PHUEeUNBGHN9M86vtsN4QityA2thLyA\n",
       "Vpo7fQANXW5VLA5h0VZRYDDuxCdscigIa9BnnE3wDSip/gOtlAm0uKSv2RuocsOpAoF6xSEsNiMK\n",
       "DIYrntrTE4FYgz7R6vhO0yjbN/KERSawShPt8AaUIqlWZYDER0dH38AijNzlEACGK576Hw9Ua8mz\n",
       "xvyM1jndXMzyhGXQnFhm1RtQbii+kBkpo7YwMjkhCgAjg+7EsvNBWDP9lKO3S2qR06n4dp6wJF4w\n",
       "teQNKF2IL8SPmsH23qtxWnZuQBQYjCVswrq6g7AGvXKG036jR0uljDb8v+7tAjnSc1dPT1knLIZH\n",
       "2FRxHaCRVnSvkl0QBQbDBU/taXwiCGvQp51dAmVn0R504HWJZDi/DtCv40+8JOdEgcFwwVN76i0E\n",
       "YQ36qKTP1Bi6l0R4wkJ4sVSuwxsQ0mDZnmYdAsDIIUcdyukgrJm+S9IB7SFk18bzTcLin5trJlG8\n",
       "GZzogjegg+RxfMJ6i6IAMOR4ak/pORRroZ9hdx2X9Agv2MZhNN3qN8P1+7PQnCfQ+FceeKXaSHj9\n",
       "WLIlLwoAIzSHS1h2GcFa+fdgweWuU5KBdarEzXTo6TWfDVrMR1a9S57FbFLV6erKuPv19ePovgFR\n",
       "ABgx5DCxaRrFuqXgctdOmdlnxOff92RLy/oeVy0gFzO0PmG5eVFgMFTcIKerFcVaqEjQy52css7n\n",
       "uggbHEIupg/CEsuiwGAMDqESNtmNYi1UJOgzZ3A7BB+EjTUjF9MHYakZUWAwxnBnE8fyKNZCRYI+\n",
       "Nddwwsa7kYvpg7D0GVFgMMa7UWtgcALFWqhI0CdWG05YXwdyMX0QFpsVBQajD3cg1llEsRYqEvRN\n",
       "Cw0nrGsauZg+CFNUUWAwuqZRa6C+GAashYoEfU5S2EGVpRl8wnILnsVMcLmrzUiEEbUoCgAjh/rM\n",
       "xlUca3tFMn2/5PGaNAulfPvizll8wsKrnsXMqGYFfvG5D9QOLMLaJ0QBYIRRvULmNI61vSKZflIS\n",
       "TmdVUKbbJ9AJS8x4F3OKyb9ZxSJssFkUAEZiBpOw0BKOtb0iOb1sy0f7GouHu9EJy855FzOsVkA+\n",
       "gkXYVF4UAEYWNVCOGGFoqE3ilM/ZbHQnxqeSu7WWdpRc9DJC+tQyqXJSSp6PfEy05gVUC+TUFfbb\n",
       "kp86WvQxvqmIAsCQ4ak9ZY27RaSj8c/rfy8yPjznbk3Iqc5DZZmeTFVkj6zKqiBdFVwhH3n9LnkA\n",
       "1Vupymgq+6iiD5b+s/6DNCAKAIMKei38DYOw6FkgLNR75tRXX3EQljHbeKjsau2h75WuTPaeJsGl\n",
       "yOl1gEbVVvRMd7SKAsCggr5P7BmMjBKMMH1Dwl0FkbDbrE9PcT78GZu1212pD5YSdos6EhxhoVkv\n",
       "QDQ67TyLnmlLhygADCo8RF0LyoxHeI4RRvc3TTaLhB21Pp1g3djlBZu1211pfCGdEkqqq8ERlmYh\n",
       "/C+dgGgaViewMx2fFgWAQQW67xJnK18TR1hLkVuAA8JgqNJkNb7QpoLd2u2udIYhL+9BZguNIOyP\n",
       "RAo0om5pMGFpzZ8kUDJqmmGE9RJuidsiLANxecJ0YjsvEa3d7koJk88lJNSBwAjLyAizAx1E33s2\n",
       "OS0KAEMXPtnWdjUOYSuMsDPivlBKWIo2kZ0bXoHDabuucFi73ZUSJg/DlM65xhK2IvjQfIMJe5UQ\n",
       "nM0/OUaYRlZ824RIGG1Xyc3kfq1Z641i90+d1m53pVNrLnHzpFoMirCkhDABKExPoaXhaVEAGLrw\n",
       "PRK3DXDS26W3iVvB2AGby7ifBe+5VRbWr92wfYi88JI+Z0NunTYIC2sU9pfJhVopdW+WtRHmEjsw\n",
       "vZt7T6lBnYfUBsYFJ2EC0DFsH9o3LwoAQxeiBftQ9z7zWAaXdt70EUmbHiT2ToFXs8O4JH0MCIvq\n",
       "z8b8Y/TvXhI3CWvSvundcB5tgcazc5DrEk1ros9806+7Bmx6Qt5yq5h21xm2nFpzMrrbt4z7HG5r\n",
       "u6qt7UoBkDU91Yyb6e1WTwKCBcMQMs0Qc+w9eTch7xnHMngII+QwOedXFsACr6Y/t4AuA2H6vnDF\n",
       "CgoVjjBjmiDZ4Qg6cuKWq/CIoFeHXGjpb21oCxOAxrFH7uu1MDJgHSJMvUr/vmccy+BvsUz6i2Hi\n",
       "IIyqecJYl9hHHfG+ufKjJ4aUXiCMdolGY8i0OsL62rtEcm7p/9klhq5tNGE30nmHnW+WyUZiEkaP\n",
       "ZfC3OKYxc5vWg42Ojg5xhB1zJaxlyGhYH5JrST8QFtX6jk0aW1oG3Y6Bc+2EJbG9PvMIMVnQIQAd\n",
       "xgl5dP9i8DQtCgDDEB7RYg5lM6koRi0e12td6GW2kb+mHS2MqsnPZGH9oNkTPk7uIV1AGA3mjxPl\n",
       "NTPAN6OsH9YZ1pM+7LkG5hGS64f1MaSJFt2/+IoSSVZ7RLKVR8tJvUJiegUK25hjl5KDfzDFc2/k\n",
       "1SRxvpOwI+odBmGhrZdwhMW0aghtpx1weMiDmGrHYZ/A7giZR/BB2C1IO890/+KPMB3F0T+T9NM9\n",
       "PfeSh2jLFI9lHBD4o2ez9hjqzPfBuXEDZ7OFXUHuKDDCyGbrp/slc4asHvbJ9e1ywhLok7/MI8gI\n",
       "C9sJ+zFSpseqIyyn+e2Y0U9dTBzHMuIj8ZJ0aKapH2E1NyMSpsyTS5o5wmDO96ik3llsfqVcPyh/\n",
       "lnsCCDYsj5CZdU7+2pfpo91omW6zJgI6RAFgMDzRCZI3Jzzeg2MZSp7sNBrYA/tkYyBdzYKO6Jyd\n",
       "sN1nSx9765vnT43sOmsSZp0EMlcHbm6jabPNmoZdNsKYvlc6B5Ri50Ey0gG/h+4Zp9r4yvIIadl6\n",
       "mG0m7DCrmImaMi2ZFzvYMt4qCgCD4VFeerNADhRNwsxjGbFryX36vTpV6YYoXc0Iy561E0bEqSli\n",
       "hjXSI1xZWFj61iG5fkra9/2W3ett2fcXuesUfhvWwSf3JLUmTC/mEWTbVLL8CliaxfTpiaozjb9+\n",
       "TYmuvj9nczuwdwUEgCHgUT7bczfPgK/Efm5uOIhI93R8Sv/nYePTBbKWAivv+UNy/VjFO6bPyDaa\n",
       "ZfIk0l506OKjTxe51QOaa/IjfVyzkfcIkTNeQO0x/bvVZxohLxbo6ju9mNuBvSsgAAwZHi5Or5Kw\n",
       "SF2HFcA6VDok1cs34cAbfogyJmuBdJF73Kk7QCLL8W0/4CqVxlp0bVC72EG91FkPoMT2NqFdZ6vP\n",
       "NEsb1VPGxdwOlAMEgCHDQxJVxakxNoGbrmtlCKy/Qw5J9WR8wCum/+6UdNKehjevO3X/JOQqkuAH\n",
       "cDTWSo/oFzuoF53xAMrH9PH3+Ul7v5mGKmYkdoJ3O73NogAwotJZ0werqefHuN5pth7CwDpvJ4zd\n",
       "dVjS5SWWntVTm1Ze6ZwetbnEqesskKlSjo+kumhFbjEvuP2qB1AauBq5P/FxVeV34/jNVKG3p6vv\n",
       "TTwSOGzhPAaCex4EZ6t2umQnzHur9hg31S0beVOPEV9w6v5BX3rxvC34oxN3PzEvGJ4ueBYzxc+0\n",
       "l2vIlL6PgK4SJvghJhy2cB4DQT4PopYQrLW45JD8rrnF6m9K58DS004dHYeTixXWiWb+S13TTYRf\n",
       "L5Kfv1i/mL4zfZ+eDaQTdrbXwzoPyEpO0aKk9iEE6xdPnZr9UHrXcA1n3umjK74Y0nicYzPkpQjr\n",
       "iY7r70U6bs2lWo26o5Zi+s00PUBfgkRX39Oce47PigKD0Y97PmyqjGP9abk+u1L9TemKTlOzU6f9\n",
       "rZB9v2e1tEgmi0Zo/i4ftQ/UUky/mfaXMgvGaIQfkSSXRIHBGMbdb9QygmN9Rq4P1bBnk66Z9tEu\n",
       "THlCn1Ypmjru7IJC60VrEH3ad33EuCDvfC3F9JGpvpx+ksQWjNX3GNeBSt7K4Xx1B06qj3+wPqL+\n",
       "XapPLtVG2LkSHUkzr3E5dQ5lnajnzQsa00QtxfSRqb6cvqITRVffk1wLy66KAoMxhbuSVN+BTjdr\n",
       "0CtqbV3i1xRJ7/QnYpvP7irqvusd8wJ3VailmD4zVRZ036W/0IwbE4TnRYHBaMfd7xNeDMKa6dvd\n",
       "wjOXHV3EWOReiTh1sTwJ8b/NFQmdAfideVlVOusOSJmSDOOPV5Xpgj6KpqvvaS5E6eoQBYChzKLy\n",
       "RSIrQVgz/Y6ypKJcdnSZdUfj5eUvCDfUdPtHRw/bdM30zYvkZfOyYv01D0DCnCt9ZvaeU1WmW8n7\n",
       "ZsDPrcCTyYooAIzMGi5hybUgrJl+uCKtKMeOLq7u6CL3CcFTU127qto94tbz6N/LzMvhRSSAXrZr\n",
       "9TbyTlWZRjbQH9HVd34F3umwJF4NKXUGYg164yVPQkVJdnRxdccWubm02XW2pdW47Bm6AAJi6f6l\n",
       "OjLdT+wr8J0u5Sb1vsxLksaKQViDPrVA7C2AJsmOLr7uTkhueMJ1iqJsXFbqq7gDUqbJEbpTokz3\n",
       "L9WT6VFiW4GPrYkCg+GCp47IPB+ENej1l6pCRcH3jh1dfN3J1kpdX4F5wLxg/DPhDgjWtej+pToy\n",
       "pavv/Pm80KooMBgt2PvDmjqCsGb6q/iKgkfSsaOLrzulWxLMdbsg2GNeVnrSAxDECXT/Uqqn55qe\n",
       "e2rKlBLJk5noEAUG40lkvkhoOQhrpqf7U6Gi+K1bfLdmrztrkduWHnbJqGRc8CjMeQAK/9xs6bmS\n",
       "GHRUlekFxL4C35cXBYARwz9XtRaINehzFa6iYAzm2NFlq7s6kutr+CmgnPXfKOn7l/AyhXfzgwAw\n",
       "svPohO0oBGEN+sg8V1GW33Hu6MKqu66KB9DUhVZfR/cvGZk+Ori13jyVNVFgMLoq6IR15YOwBr0y\n",
       "x1WUFfw6d3Qh1R1pKVUBtBvJqyyKAoPhiqeO7OaDsGb6Fl8tGKnuyHXVAEXaf9w0IgoMxnUEP20K\n",
       "xBr0YV8teCTwp28TCSq1OF5CCDBC8wHkN1kKwhr0mUXSuNRVDqiYXi5sRRQYDA88tadq36jmz5rp\n",
       "jzSQsJNBFdMrMO0WBcn/iomargjEGvThcsP4Sm4JrJju6fmCKACMZDBH7+8rBGEN+tiWhhEmOcOG\n",
       "VUz3dJlDABieeOp4LktBWDP9LxpG2JeCK6a7CxsSBQbDFP4HaRhzyj8W6DMAAAAASUVORK5CYII=\n",
       "\" style=\"display:inline;vertical-align:middle;\" /></a><br>(see <a class=\"ProveItLink\" href=\"../../../__pv_it/theorems/8741afc9713366338c1139a0db5e65fc6f5170cf0/dependencies.ipynb\">dependencies</a>)<br>"
      ],
      "text/plain": [
       "_fail_ineq_lemma: forall_{e in {2 .. 2^{t - 1} - 2}} ([Pfail](e) <= ((1 / 4) * ((Sum_{l=-2^{t - 1} + 1}^{-(e + 1)} (1 / (l - (2^{t} * delta))^{2})) + (Sum_{l=e + 1}^{2^{t - 1}} (1 / (l - (2^{t} * delta))^{2})))))"
      ]
     },
     "execution_count": 2,
     "metadata": {},
     "output_type": "execute_result"
    }
   ],
   "source": [
    "%proving _fail_ineq_lemma"
   ]
  },
  {
   "cell_type": "code",
   "execution_count": 3,
   "metadata": {},
   "outputs": [
    {
     "data": {
      "text/html": [
       "<strong id=\"defaults.assumptions\">defaults.assumptions:</strong> <a class=\"ProveItLink\" href=\"../../../__pv_it/_proof__fail_ineq_lemma/9f7771dfd6c172a24c648f00ce083eeb58a70f0d0/expr.ipynb\"><img src=\"data:image/png;base64,iVBORw0KGgoAAAANSUhEUgAAALoAAAAaBAMAAADyPFssAAAAMFBMVEX///9UVFQiIiKIiIjMzMx2\n",
       "dnYQEBDc3NxEREQyMjLu7u5mZmaqqqq6urqYmJgAAAB66f/FAAAAAXRSTlMAQObYZgAAAAlwSFlz\n",
       "AAAOxAAADsQBlSsOGwAAAnJJREFUSMe1Vk1oE1EQ/tLdZM3mFy9GCDTuRWsOiRYF9RIQzw3Ugwri\n",
       "4sGrUYhW6qFIwZ4k6kEPiiuIIB5aPFUXpAgevBWPBbEePShCC8VgXN+8t7uu3bcb26VzeHlk5vsy\n",
       "mflmdoHtWLbjXvSvw0K/bZ193rucPBwdtEBHfmHr7B/827vooCk6Xkhd+qcY8u7Y6Xj2m1S5YpMd\n",
       "d6T+YytxuT8akrtasdh5ENBMmTvfZx77YSvsmX49C/Sj2QVqV5ldDwG5tow9XaO6pQchhzaDC8sF\n",
       "E+ocs9sSdoEiPOYtlJaj2PcAl0KOVAcZUyk/i8xdoDh7dhUTVsCl3DLGfPbLFkY7m8GZPlIbuea5\n",
       "SHaB4uy5GQQFW7hvBXLfDYyGCp+qIbWuvvW+7z6Z3BQgUJxdMbGX5Dd5gtPesIKVYdaQVW3kx5Bp\n",
       "aLj4Qh9z7ONjS+W9feAH5HpcWGsy8EQznpxQCilRXcddpoPfUHhve37EtVWeZVmG3jckdUJpv0hf\n",
       "A9SZONfGz/MfvWgYxgG6XXnM4xZlYNar8GTfM8haf1FP2cDpA8q95Kao+zh1kTpQlKb+ZUjqAnWW\n",
       "FUPjlSl5haz5IXzW3kPrhKe4jeux7BxFsw51AxVWKNbSJXKM/zNNrNOKFQKfAo7H9pSj0qbQzFH2\n",
       "X3p4yZPMLgXZr9r2K7HNWbf1n+4mqNt2LY5doLgiiyY+s/SOfBe10SsrAfaG4wjKEXoC1F1BOI7T\n",
       "ixU7R4lZLSMT3DOFM4FNkMS8PRO9IxOzsx2pSve7YiZj57NO2q3KvHzWEthzmvX9kc/V6WoS8m7V\n",
       "e67m29gZm9ru+8x/2RvgD1YzjoEfKmH3AAAAAElFTkSuQmCC\n",
       "\" style=\"display:inline;vertical-align:middle;\" /></a><br>"
      ],
      "text/plain": [
       "defaults.assumptions: (e in {2 .. 2^{t - 1} - 2})"
      ]
     },
     "execution_count": 3,
     "metadata": {},
     "output_type": "execute_result"
    }
   ],
   "source": [
    "defaults.assumptions = _fail_ineq_lemma.conditions"
   ]
  },
  {
   "cell_type": "markdown",
   "metadata": {},
   "source": [
    "## Instantiate some needed theorems of this package"
   ]
  },
  {
   "cell_type": "code",
   "execution_count": 4,
   "metadata": {},
   "outputs": [
    {
     "data": {
      "text/html": [
       "<span style=\"font-size:20px;\"><a class=\"ProveItLink\" href=\"../../../__pv_it/theorems/f67ffeb951aaff9cc5f02f3801926b572b231a930/expr.ipynb\"><img src=\"data:image/png;base64,iVBORw0KGgoAAAANSUhEUgAAAKwAAAAYBAMAAACVRAuIAAAAMFBMVEX///8QEBAyMjKqqqpUVFRE\n",
       "RESYmJjc3NzMzMwiIiK6urpmZmaIiIh2dnbu7u4AAAAMEBwRAAAAAXRSTlMAQObYZgAAAAlwSFlz\n",
       "AAAOxAAADsQBlSsOGwAAAe1JREFUSMdjYCAZMBVAGXxJDFQE72GMnpPUNNYIzrIkTSPfKjyStZNu\n",
       "4De2uACHzkPr8FmqTMC1HK4PsIoz/2NgYN+t2oApU70pgoHhH25jIbpYHbAayzuBgaGUgfcXhgR7\n",
       "AMP9BVwCDByhQBCOxViILpB+HMa6MzAIYkiwFDAwCvA4vMDpWoguVGN5ImdOghsr/4DBHyPoGf8x\n",
       "sHznPnAPp7EQXSjGcuk8QHKtJwODP0bgskxgYPnBsQ0mXqt/B00BRBfYWL47p8HmFT1ADgQgmI8t\n",
       "gDg/EEic86H6VzZwXADx1eEy3ArgdPIHm67+A/hNBeniEQDG7jcGngUgAQW4VGEC2F1Yk8kUAo4F\n",
       "6WL/DExkf87cAlsjOXPmzKkgVokWWMFWbLq4A7DkSc2ZINCA0PVEmYEf6ig+uAaOraBQZsPq2BQC\n",
       "joXourSAgR8WWIhUAc4ltgzsmHmb+QJDOV5jwbpAuZQTGF8GIJEzKNkBGI08mFm7l4HhHN4IA+vi\n",
       "BUYZmwLDa7CzmAyQja3cvXsnpHQFRiXfJ2jmnb179wR8xkJ0gRPY2TRIMPC5rkMydv7//xCzODcA\n",
       "idnQaP7//78C3kQL1oWaebmuImVeSgCeooYGxoJyCSWAG3tAgXIJJeBhAnbxamdKTK0F6gYAv0eE\n",
       "w3ELTC0AAAAASUVORK5CYII=\n",
       "\" style=\"display:inline;vertical-align:middle;\" /></a> <a class=\"ProveItLink\" href=\"../../../__pv_it/_proof__fail_ineq_lemma/f188be1a29ea2847b71b3fee51a5ffa4aa971ac80/proof.ipynb\" style=\"text-decoration: none\">&nbsp;&#x22A2;&nbsp;&nbsp;</a><a class=\"ProveItLink\" href=\"../../../__pv_it/theorems/9ca4d01e9b42535d4227fcdaf40ac9662dd6640b0/expr.ipynb\"><img src=\"data:image/png;base64,iVBORw0KGgoAAAANSUhEUgAAAaQAAAAaBAMAAAAK1TW3AAAAMFBMVEX///9ERETMzMxUVFSYmJgQ\n",
       "EBDc3NxmZmYiIiJ2dnaqqqoyMjKIiIi6urru7u4AAAB85a56AAAAAXRSTlMAQObYZgAAAAlwSFlz\n",
       "AAAOxAAADsQBlSsOGwAAA8pJREFUWMPFmE1oE0EUx1836eajyTZaEE8aEamCYLCgYpEGPdZDDhG8\n",
       "SFPEr1NbLE1LREJFuypo/SgELLYntXiwIoiKpYEiKFbtxaMSRLEiklKl0I8kzu7OJju7s+t+pPVB\n",
       "N8O8yfzyn4/3XhfAsj2VG1/HLX2vLoEbXOsa0KwYN4cbzHRab4x7htKZlxs7X1eXprROO5L85dXy\n",
       "60Lu0zofllsPqktTWru0EJ+sKGIzz8MKCHuPtrTi7/hFbtWZqzetSzJDwxzJ584Kz7efrV2JUWLd\n",
       "tm7SDqmJokdgIkf2vrCzS/+mlTmS75owtEida3uOsmbJx2Goz5FHoUE77oTweKSY4FRqPUDRQJID\n",
       "msDxDffIvin056OdUW7vZI52UH0F+AiwZR2yBIZk5NXayPO8dEr6lP3CjwvByEwwBozwvQ1aSTZo\n",
       "FcuIB2A2gX35nFpSMIobHyiQPQBHYIoLE+uGIczLRHlcQQV3JaA2Foh80eySbRopyZ0GXwj76qJq\n",
       "Sf6sAaQtBy2Jc74cDTJbUcQUVfDaIrgWPNm7Gkm2aaSkmoh4fUSfJ2RJ0j6AlnDjQfk43VnMViAH\n",
       "FBdWDXelwTXPdMvrfWZy2CmNlFTfCcwS9gViWNKP6fMmIMiuU88yMkVud41r19M7R806dmlkTx5J\n",
       "+oN9QbRdHvQDgv2wwxSEWdF0vZIcEUUMDwnPFDFqV9aGJF2a0hCnY1AcKvqYeRRx0X3qiMI7UxBv\n",
       "RNPVIWYOVuGoE9psnBh1AWxI0qUpQ31ckrSIfWwBjk+gz83Tb4QU7OH5i0d5PqIP6aLE+2aRoriR\n",
       "XlRosc1oQu4Zz0uR3RPSftEB7ac4bz9gTn4QgivYxxWA6UKz/Ta5bm7tsoFvQvzoVu1SI5HnD4GN\n",
       "XTKgVUzgoPDgX8I+dl6MgLBiEjIGbIKWvQUdM6QkIs/7B+GkdUkGNIU1iJfXXcQ+ZkGKeJfR7CYg\n",
       "zCAENN1D+EQ0lUtFV0gdm1DseW9ZkhFNlWpjYpAbkiOeIKkVuB4VZERaIG5ZKDJwhD6dTPbqhtXg\n",
       "DbkgElIDWRANJJNpQ0mWaWTPFfgWxj43zkuB24dVkKa2J1KxMoDvu5gmSqVlE5CgunrwlkqlcSNJ\n",
       "TmhCz/fh3bLPE9GtHkybFgLHdPr1d8kBLUO2tDVeuZB0IqnPrKRq0FSShEpcOvn2DVcJvXIKQraN\n",
       "nuerYSmDeiIlpwt2ydnblbi2zzVKy/NVeZcT168nJN8l8V/O/Q4Y7K1RnXcP7Nnqa6LRZI7kc2dh\n",
       "dWwM/pe1r9bE1Pd4a2Lof6S/9/BjdAFl14gAAAAASUVORK5CYII=\n",
       "\" style=\"display:inline;vertical-align:middle;\" /></a></span>"
      ],
      "text/plain": [
       "{e in {2 .. 2^{t - 1} - 2}} |- {e + 1 .. 2^{t - 1}} subset_eq ({-2^{t - 1} + 1 .. 2^{t - 1}} - {0})"
      ]
     },
     "execution_count": 4,
     "metadata": {},
     "output_type": "execute_result"
    }
   ],
   "source": [
    "_pos_domain_in_full_domain_sans_zero.instantiate()"
   ]
  },
  {
   "cell_type": "code",
   "execution_count": 5,
   "metadata": {},
   "outputs": [
    {
     "data": {
      "text/html": [
       "<span style=\"font-size:20px;\"><a class=\"ProveItLink\" href=\"../../../__pv_it/theorems/f67ffeb951aaff9cc5f02f3801926b572b231a930/expr.ipynb\"><img src=\"data:image/png;base64,iVBORw0KGgoAAAANSUhEUgAAAKwAAAAYBAMAAACVRAuIAAAAMFBMVEX///8QEBAyMjKqqqpUVFRE\n",
       "RESYmJjc3NzMzMwiIiK6urpmZmaIiIh2dnbu7u4AAAAMEBwRAAAAAXRSTlMAQObYZgAAAAlwSFlz\n",
       "AAAOxAAADsQBlSsOGwAAAe1JREFUSMdjYCAZMBVAGXxJDFQE72GMnpPUNNYIzrIkTSPfKjyStZNu\n",
       "4De2uACHzkPr8FmqTMC1HK4PsIoz/2NgYN+t2oApU70pgoHhH25jIbpYHbAayzuBgaGUgfcXhgR7\n",
       "AMP9BVwCDByhQBCOxViILpB+HMa6MzAIYkiwFDAwCvA4vMDpWoguVGN5ImdOghsr/4DBHyPoGf8x\n",
       "sHznPnAPp7EQXSjGcuk8QHKtJwODP0bgskxgYPnBsQ0mXqt/B00BRBfYWL47p8HmFT1ADgQgmI8t\n",
       "gDg/EEic86H6VzZwXADx1eEy3ArgdPIHm67+A/hNBeniEQDG7jcGngUgAQW4VGEC2F1Yk8kUAo4F\n",
       "6WL/DExkf87cAlsjOXPmzKkgVokWWMFWbLq4A7DkSc2ZINCA0PVEmYEf6ig+uAaOraBQZsPq2BQC\n",
       "joXourSAgR8WWIhUAc4ltgzsmHmb+QJDOV5jwbpAuZQTGF8GIJEzKNkBGI08mFm7l4HhHN4IA+vi\n",
       "BUYZmwLDa7CzmAyQja3cvXsnpHQFRiXfJ2jmnb179wR8xkJ0gRPY2TRIMPC5rkMydv7//xCzODcA\n",
       "idnQaP7//78C3kQL1oWaebmuImVeSgCeooYGxoJyCSWAG3tAgXIJJeBhAnbxamdKTK0F6gYAv0eE\n",
       "w3ELTC0AAAAASUVORK5CYII=\n",
       "\" style=\"display:inline;vertical-align:middle;\" /></a> <a class=\"ProveItLink\" href=\"../../../__pv_it/_proof__fail_ineq_lemma/06c5ef32439ea6e2cacf1934fb00dea161ed82670/proof.ipynb\" style=\"text-decoration: none\">&nbsp;&#x22A2;&nbsp;&nbsp;</a><a class=\"ProveItLink\" href=\"../../../__pv_it/theorems/7246fc145057abf8ffff12e5b0f23d411914dbb00/expr.ipynb\"><img src=\"data:image/png;base64,iVBORw0KGgoAAAANSUhEUgAAAgIAAAAaBAMAAAA3cSkgAAAAMFBMVEX///9ERETMzMxUVFSYmJgQ\n",
       "EBDc3NxmZmYiIiJ2dnaqqqoyMjKIiIi6urru7u4AAAB85a56AAAAAXRSTlMAQObYZgAAAAlwSFlz\n",
       "AAAOxAAADsQBlSsOGwAAA/NJREFUWMPNWUtoE1EUvZ2kSfObRARxIRIR0WWw/lCkQQW3WdilNEXE\n",
       "7tpCsS0VCQoydGEjpVCwYlZKsdCIIihWA6WKWDCLCi5URlRacBEppdBPWt97M5P53cnHPNo+yHRm\n",
       "zrtzzpy57743UwB7e6Ht/MrC9rX/U8FFu/hX3RFmU1tzs+48LxW1RnWhZ/0l9/xb5MBjbipqjWpX\n",
       "fPtmOukZfRmty4FkmfOeR9iDy/JSYYnC2DQeBXPn6Pbjd3OfQKauHAhmHICvdHNwvx1oiHNTYYlC\n",
       "2Eo8CnaXdt0weNj7NAphuQz3EbmSiHHspECYgvRGYbcdvMpFBRplY2M8vrHrGjZND1PGYeErwmeA\n",
       "A7tIS9q5xZNvKzkgYjX45wAlfkN3R7VU2StJkpKy/VxUoFGj1l6M5xUsJFWsIJu5TwC0wrRoH4Fz\n",
       "2s6nSg5448YjLS5IHbho0CS81stFEXioQKNQB9wp8EVULBA3c7fJ0JK84ZNt3BNVO9BoOpowOtAo\n",
       "65oWdAOEDeChAo1CHWiIscHAMG/EzH0KoCV6+Jw2su6v5Gp24ImzA9RvTdNZQ+lMAQ8VaBTqQLgL\n",
       "hFUVCybM3KQNofdVvQN0UItj72XEAV9M12SoFq4scFJhj0IdKBAHllQsRIR5TaVLWK/Tgefk9yUq\n",
       "pBEH3JRpRqGJGSbDCPBRgUTN2MoU4elMs64MExbJXGQqXU2xOh0YJBm4BME84oCfZBx0shnbY6AJ\n",
       "0H0eKpCoTuvihPJQB1ZUzFOEK1Pk7x+Jtltkrxu5cp8ktUrS7TLcejxcJg91ffaBJY45INBFu3iG\n",
       "iTIkfRNZnHNRgUQpbPqFGU8hDaF1FROLIHQbr+bGza8hB4gD4RheCUM0B3xT7ESPOQd4qMCiVDZ9\n",
       "oFAeUgn9qyrmWWRzg3FB50nWPQrCOdwBNkFNKhcI5M2jgIMKLGrS2pHykMLj3lAxYdlchUkBC8r1\n",
       "ObCPpDUpgxmsEtKSN6KmZ3PpPcAVAR4q0KgRdEWUYAVxRJsLjNwdvb195fPvoWJzIattrG2Y1fz5\n",
       "pDnOt0zrcNowP4XuaaviYAJ4qECj8FXxIPyOqpjbsh4Y2txcK8vd3PYsrlUvZWN7aSG/DxcsaxjX\n",
       "8bVjpH8e08QeAwcVaBTuwPzYUQ3zxmxrkQo1qGJrijrGdaCaWPHkraK8AwbM+l7g2Oaq/+LV5RjX\n",
       "4+BAP3BXUbUD9N2QDUOObY/jBxxa8WCgNLuX3o4PAX8Vahuwfb9JmLHzVNgqX9IfTkADLV/iJTvg\n",
       "yvBXoc44NjadR8Hu0M2101xZPTkH4B0FhzMOH1U4q1CkIGwaj4K5c7Aj2vi2MbfvDAPQ/xdsTbsJ\n",
       "8A/5op9ES9t2dgAAAABJRU5ErkJggg==\n",
       "\" style=\"display:inline;vertical-align:middle;\" /></a></span>"
      ],
      "text/plain": [
       "{e in {2 .. 2^{t - 1} - 2}} |- {-2^{t - 1} + 1 .. -(e + 1)} subset_eq ({-2^{t - 1} + 1 .. 2^{t - 1}} - {0})"
      ]
     },
     "execution_count": 5,
     "metadata": {},
     "output_type": "execute_result"
    }
   ],
   "source": [
    "_neg_domain_in_full_domain_sans_zero.instantiate()"
   ]
  },
  {
   "cell_type": "code",
   "execution_count": 6,
   "metadata": {},
   "outputs": [
    {
     "data": {
      "text/html": [
       "<span style=\"font-size:20px;\"><a class=\"ProveItLink\" href=\"../../../__pv_it/theorems/f67ffeb951aaff9cc5f02f3801926b572b231a930/expr.ipynb\"><img src=\"data:image/png;base64,iVBORw0KGgoAAAANSUhEUgAAAKwAAAAYBAMAAACVRAuIAAAAMFBMVEX///8QEBAyMjKqqqpUVFRE\n",
       "RESYmJjc3NzMzMwiIiK6urpmZmaIiIh2dnbu7u4AAAAMEBwRAAAAAXRSTlMAQObYZgAAAAlwSFlz\n",
       "AAAOxAAADsQBlSsOGwAAAe1JREFUSMdjYCAZMBVAGXxJDFQE72GMnpPUNNYIzrIkTSPfKjyStZNu\n",
       "4De2uACHzkPr8FmqTMC1HK4PsIoz/2NgYN+t2oApU70pgoHhH25jIbpYHbAayzuBgaGUgfcXhgR7\n",
       "AMP9BVwCDByhQBCOxViILpB+HMa6MzAIYkiwFDAwCvA4vMDpWoguVGN5ImdOghsr/4DBHyPoGf8x\n",
       "sHznPnAPp7EQXSjGcuk8QHKtJwODP0bgskxgYPnBsQ0mXqt/B00BRBfYWL47p8HmFT1ADgQgmI8t\n",
       "gDg/EEic86H6VzZwXADx1eEy3ArgdPIHm67+A/hNBeniEQDG7jcGngUgAQW4VGEC2F1Yk8kUAo4F\n",
       "6WL/DExkf87cAlsjOXPmzKkgVokWWMFWbLq4A7DkSc2ZINCA0PVEmYEf6ig+uAaOraBQZsPq2BQC\n",
       "joXourSAgR8WWIhUAc4ltgzsmHmb+QJDOV5jwbpAuZQTGF8GIJEzKNkBGI08mFm7l4HhHN4IA+vi\n",
       "BUYZmwLDa7CzmAyQja3cvXsnpHQFRiXfJ2jmnb179wR8xkJ0gRPY2TRIMPC5rkMydv7//xCzODcA\n",
       "idnQaP7//78C3kQL1oWaebmuImVeSgCeooYGxoJyCSWAG3tAgXIJJeBhAnbxamdKTK0F6gYAv0eE\n",
       "w3ELTC0AAAAASUVORK5CYII=\n",
       "\" style=\"display:inline;vertical-align:middle;\" /></a> <a class=\"ProveItLink\" href=\"../../../__pv_it/_proof__fail_ineq_lemma/6468b673f2a0badb2868dd1c6ae0ffee5c44ace70/proof.ipynb\" style=\"text-decoration: none\">&nbsp;&#x22A2;&nbsp;&nbsp;</a><a class=\"ProveItLink\" href=\"../../../__pv_it/theorems/e9bbe1eab32204cdb8447333ec1bd7025fc6886b0/expr.ipynb\"><img src=\"data:image/png;base64,iVBORw0KGgoAAAANSUhEUgAAAL8AAAAYBAMAAABZ3TFjAAAAMFBMVEX///9ERETMzMxUVFSYmJgQ\n",
       "EBDc3NxmZmYiIiJ2dnaqqqoyMjKIiIi6urru7u4AAAB85a56AAAAAXRSTlMAQObYZgAAAAlwSFlz\n",
       "AAAOxAAADsQBlSsOGwAAAhpJREFUSMdjYCAZbIMxnmxgoAXg+wBlMJ1pIKCUnSwLuODu5iJkASPU\n",
       "SXdJMZ9txk4FJAvYlhG24PQ9knzAvQDFB8py6ApefJR+wDD16wWYBVz/sJqj8QCL68s3KjDwP0AN\n",
       "ImEMZVK8BpCYgljAiS0k+cz3Y7EgkYHzL8NVBgZFQSBIgFowAyrJI9HR0QEOPYuEKQwMAQyFgqKC\n",
       "gg7oFlyBMc5jscCMgSGU4TCfAooPoBYw7UmAKbMS4E5gaMDhgzX4LIh/wGCfUMP5AJsFLxIQ7vBh\n",
       "20CeBRYMDPYK6k6wGJn98wDCAlskjzIrnES34OWZOiIsAIJ+DBGoBRuQQ1KA8QLCAnagFG8TgyZR\n",
       "FjD9wRA6CpEwQLZAna+vAZ6TU4ERne/AcJYoCzgMMITywfmCDcUClgULA2C85L1AQv7MSWC+YKjo\n",
       "6Ajt6GjGY0EhlhRtDbahASWx2THDLWAqBJr0mbhIZmDB9AAD514wVYJiwWM+hIWMQE1/iLRgJQNb\n",
       "ArrYeohC7gvIFjAdEEC4AGhXJzBRE2EB0wQGHgzhqdCQMoYXaUJAfAjVAm8GvjI0C+ZDnPp+A4wA\n",
       "gozy8gpcyZSBdyKsqNgFTZtIFvBM8UELIuP4zQ7gZFMAI0CZ4P//3zgtgAPtr0DX86FagCUnEw1m\n",
       "EFKAo7CjngU8AZTV0dUQCpiHYHGAXov8oqwNEEJQSboVBeazTV6AXwEATIaaSQo+9M4AAAAASUVO\n",
       "RK5CYII=\n",
       "\" style=\"display:inline;vertical-align:middle;\" /></a></span>"
      ],
      "text/plain": [
       "{e in {2 .. 2^{t - 1} - 2}} |- {e + 1 .. 2^{t - 1}} subset_eq NaturalPos"
      ]
     },
     "execution_count": 6,
     "metadata": {},
     "output_type": "execute_result"
    }
   ],
   "source": [
    "_pos_domain_within_natpos.instantiate()"
   ]
  },
  {
   "cell_type": "code",
   "execution_count": 7,
   "metadata": {},
   "outputs": [
    {
     "data": {
      "text/html": [
       "<span style=\"font-size:20px;\"><a class=\"ProveItLink\" href=\"../../../__pv_it/theorems/f67ffeb951aaff9cc5f02f3801926b572b231a930/expr.ipynb\"><img src=\"data:image/png;base64,iVBORw0KGgoAAAANSUhEUgAAAKwAAAAYBAMAAACVRAuIAAAAMFBMVEX///8QEBAyMjKqqqpUVFRE\n",
       "RESYmJjc3NzMzMwiIiK6urpmZmaIiIh2dnbu7u4AAAAMEBwRAAAAAXRSTlMAQObYZgAAAAlwSFlz\n",
       "AAAOxAAADsQBlSsOGwAAAe1JREFUSMdjYCAZMBVAGXxJDFQE72GMnpPUNNYIzrIkTSPfKjyStZNu\n",
       "4De2uACHzkPr8FmqTMC1HK4PsIoz/2NgYN+t2oApU70pgoHhH25jIbpYHbAayzuBgaGUgfcXhgR7\n",
       "AMP9BVwCDByhQBCOxViILpB+HMa6MzAIYkiwFDAwCvA4vMDpWoguVGN5ImdOghsr/4DBHyPoGf8x\n",
       "sHznPnAPp7EQXSjGcuk8QHKtJwODP0bgskxgYPnBsQ0mXqt/B00BRBfYWL47p8HmFT1ADgQgmI8t\n",
       "gDg/EEic86H6VzZwXADx1eEy3ArgdPIHm67+A/hNBeniEQDG7jcGngUgAQW4VGEC2F1Yk8kUAo4F\n",
       "6WL/DExkf87cAlsjOXPmzKkgVokWWMFWbLq4A7DkSc2ZINCA0PVEmYEf6ig+uAaOraBQZsPq2BQC\n",
       "joXourSAgR8WWIhUAc4ltgzsmHmb+QJDOV5jwbpAuZQTGF8GIJEzKNkBGI08mFm7l4HhHN4IA+vi\n",
       "BUYZmwLDa7CzmAyQja3cvXsnpHQFRiXfJ2jmnb179wR8xkJ0gRPY2TRIMPC5rkMydv7//xCzODcA\n",
       "idnQaP7//78C3kQL1oWaebmuImVeSgCeooYGxoJyCSWAG3tAgXIJJeBhAnbxamdKTK0F6gYAv0eE\n",
       "w3ELTC0AAAAASUVORK5CYII=\n",
       "\" style=\"display:inline;vertical-align:middle;\" /></a>, <a class=\"ProveItLink\" href=\"../../../__pv_it/theorems/f01e5817c994f42806cb80f31cb3ebf09f18f49a0/expr.ipynb\"><img src=\"data:image/png;base64,iVBORw0KGgoAAAANSUhEUgAAAKgAAAAYBAMAAACcr6vyAAAAMFBMVEX///+qqqq6urru7u4QEBBE\n",
       "RERUVFTc3NyIiIgyMjJmZmaYmJjMzMwiIiJ2dnYAAACPW0xlAAAAAXRSTlMAQObYZgAAAAlwSFlz\n",
       "AAAOxAAADsQBlSsOGwAAAdtJREFUOMtjYKAYcBZAGcw7GagG7GGME73UM1QSzpLFo8pIgRQz626+\n",
       "QTa0sACrKo5JBiS5dCKKS3lSQbrf/kFTJI/VTJ7LWASrVsYwMHxG9T5rApDg/oCm8i02M81WfsYU\n",
       "ZA9geK/A5MDAEwoE4VBD+S4ACa4JeA3VhgUKFkPZChhYHDgSbFBcCjaUtwGiKfbuTWyGSuAxlOUz\n",
       "A9t3robHmIbWHwAxmWYYYHcpPkPZLjCw/eFZfQCWDua/gBm6HyxQaYDifeYXXQaEDQX5Ez1GIIam\n",
       "gpnTEaIrgVj3AM8Dogw934CRIh2AhAeYiYgtdm8g/s3AoUCUodcwk8RHYPr7Dk6Fvnfv3r0KFssE\n",
       "msb6o+MRiLP27l2Xu3ev4TaUKwBL6psIcS0DM0LyVDADA38CURHFwLANi9hLBWAGAMfIBYRgGNDQ\n",
       "BuIMZXzAUI4hBlTIvwEcIx0oiZ8XKCZAhKHnGBiaMWIf6HV+ZbCrOAWQDeWewGBVgGoo33do6QmM\n",
       "Uuaf0Di5tWrVBWxJinsdpNROVUZOp327G1C9z5byMxuSMBcAiVvQRPr///8JWNMpFDA9xZ9NiQZ8\n",
       "F7CJYi9QKDS0hbLaBaPUA4N6AYoMNdmATZR9GSWm1iUyMAAAMyWCGgj5uJ8AAAAASUVORK5CYII=\n",
       "\" style=\"display:inline;vertical-align:middle;\" /></a> <a class=\"ProveItLink\" href=\"../../../__pv_it/_proof__fail_ineq_lemma/3b6205a5cae9bd4a3d0bb1001cd224e4d45ac0d50/proof.ipynb\" style=\"text-decoration: none\">&nbsp;&#x22A2;&nbsp;&nbsp;</a><a class=\"ProveItLink\" href=\"../../../__pv_it/_proof__fail_ineq_lemma/285acdeb9b2324b44bf3127ac96e1dc853ded61a0/expr.ipynb\"><img src=\"data:image/png;base64,iVBORw0KGgoAAAANSUhEUgAAADsAAAATBAMAAADc9GjbAAAAMFBMVEX///+qqqq6urru7u4QEBBE\n",
       "RERUVFTc3NyIiIgyMjJmZmaYmJjMzMwiIiJ2dnYAAACPW0xlAAAAAXRSTlMAQObYZgAAAAlwSFlz\n",
       "AAAOxAAADsQBlSsOGwAAAOFJREFUKM9jYMAJuBjwAlYypG2/RhowPPmiAJN++wdVPpApgYH5A1w3\n",
       "9wdU6dyC1wwMDgxLQ0NCQzcAHTgBVToxgLOA4QJcN28DRLj17l2wwvQd7BOQpOsPgCnNZqjudLYD\n",
       "fUjS+8Ek+2SY4ekMAawKCOlUMAm0Dy59ivnyBXioeUCkGRDS3AKiDjAez3cwdeQuEARApBmS2eDS\n",
       "HBCWKZJuBjPmC/CQTTAAew9ZmqchAMbj3/AAbEgDTCAGiHsQ0soQiYkwARADEZLc6yC0WRDYEoaT\n",
       "X4A6mSdgxKRe7F1MQQCnSTg7ZOxhjgAAAABJRU5ErkJggg==\n",
       "\" style=\"display:inline;vertical-align:middle;\" /></a></span>"
      ],
      "text/plain": [
       "{e in {2 .. 2^{t - 1} - 2}, l in {e + 1 .. 2^{t - 1}}} |- l in NaturalPos"
      ]
     },
     "execution_count": 7,
     "metadata": {},
     "output_type": "execute_result"
    }
   ],
   "source": [
    "InSet(l, NaturalPos).prove(assumptions=(InSet(l, _pos_domain),)+defaults.assumptions)"
   ]
  },
  {
   "cell_type": "code",
   "execution_count": 8,
   "metadata": {},
   "outputs": [
    {
     "data": {
      "text/html": [
       "<span style=\"font-size:20px;\"><a class=\"ProveItLink\" href=\"../../../__pv_it/theorems/f67ffeb951aaff9cc5f02f3801926b572b231a930/expr.ipynb\"><img src=\"data:image/png;base64,iVBORw0KGgoAAAANSUhEUgAAAKwAAAAYBAMAAACVRAuIAAAAMFBMVEX///8QEBAyMjKqqqpUVFRE\n",
       "RESYmJjc3NzMzMwiIiK6urpmZmaIiIh2dnbu7u4AAAAMEBwRAAAAAXRSTlMAQObYZgAAAAlwSFlz\n",
       "AAAOxAAADsQBlSsOGwAAAe1JREFUSMdjYCAZMBVAGXxJDFQE72GMnpPUNNYIzrIkTSPfKjyStZNu\n",
       "4De2uACHzkPr8FmqTMC1HK4PsIoz/2NgYN+t2oApU70pgoHhH25jIbpYHbAayzuBgaGUgfcXhgR7\n",
       "AMP9BVwCDByhQBCOxViILpB+HMa6MzAIYkiwFDAwCvA4vMDpWoguVGN5ImdOghsr/4DBHyPoGf8x\n",
       "sHznPnAPp7EQXSjGcuk8QHKtJwODP0bgskxgYPnBsQ0mXqt/B00BRBfYWL47p8HmFT1ADgQgmI8t\n",
       "gDg/EEic86H6VzZwXADx1eEy3ArgdPIHm67+A/hNBeniEQDG7jcGngUgAQW4VGEC2F1Yk8kUAo4F\n",
       "6WL/DExkf87cAlsjOXPmzKkgVokWWMFWbLq4A7DkSc2ZINCA0PVEmYEf6ig+uAaOraBQZsPq2BQC\n",
       "joXourSAgR8WWIhUAc4ltgzsmHmb+QJDOV5jwbpAuZQTGF8GIJEzKNkBGI08mFm7l4HhHN4IA+vi\n",
       "BUYZmwLDa7CzmAyQja3cvXsnpHQFRiXfJ2jmnb179wR8xkJ0gRPY2TRIMPC5rkMydv7//xCzODcA\n",
       "idnQaP7//78C3kQL1oWaebmuImVeSgCeooYGxoJyCSWAG3tAgXIJJeBhAnbxamdKTK0F6gYAv0eE\n",
       "w3ELTC0AAAAASUVORK5CYII=\n",
       "\" style=\"display:inline;vertical-align:middle;\" /></a> <a class=\"ProveItLink\" href=\"../../../__pv_it/_proof__fail_ineq_lemma/8de71402d6777ad1e95c1b7c07a23f6ac1f09a070/proof.ipynb\" style=\"text-decoration: none\">&nbsp;&#x22A2;&nbsp;&nbsp;</a><a class=\"ProveItLink\" href=\"../../../__pv_it/theorems/630af6a13d4e643dbcacb72f1405a8c741fcc2980/expr.ipynb\"><img src=\"data:image/png;base64,iVBORw0KGgoAAAANSUhEUgAAARsAAAAYBAMAAAA44EQIAAAAMFBMVEX///9ERETMzMxUVFSYmJgQ\n",
       "EBDc3NxmZmYiIiJ2dnaqqqoyMjKIiIi6urru7u4AAAB85a56AAAAAXRSTlMAQObYZgAAAAlwSFlz\n",
       "AAAOxAAADsQBlSsOGwAAAr9JREFUSMdjYMAE22CMJxsYBh7wfYAymM40DALncMHDhGsgnMN3F4XL\n",
       "NmOnAiXOYcMlkQDEWQkE9Z++h8rnXkBR6JzCJXEHFP+GD9CFV8dHSzSGIOLmH5LPyjcqMPA/wO0c\n",
       "pj6CUT0BmyhIH48DkMFogC510IiBmwGRZziR7Exk4PzLcJWBQVEQCBIwnfO4+h8h57zGJgjRtw/Z\n",
       "toMdHR1NIEY5A8MRzgUwK1GcY8bAEMpwmA8z7VyB0jwEnVOCzOF1QNbnjuQc7WMIO/kEHjJgDZ34\n",
       "Bwz2CTWcDzCcs4Zo5wSgxNwBZH2sD+C28bXB1TxgYFcwwu4cCwYGewV1J1hKmv3zAKnO4dqA2znc\n",
       "DnDbmC8gqVJmKsDuHCDox2oL0c5hB6Xkl2fqsDmH0wBuGzeyHjlGpOzGjuIfpj+UOQcUArxNDJrY\n",
       "nMMCtIkHEpnKKHnRB4mX6oBsHIcBZc7hABZa+Q4MZ7E5hwvoFLZfYH4ysg+QsjlD8l5Q7uzogOa7\n",
       "QixWVHR0hHZ0NONxDkI/KzBRyJ85CUoa7B0drREdHQZwfUygyvDxLrCrkctNzgsMfPDYKUQuJ1mw\n",
       "Bw7xoQNyzmccSZkXFFGzwYmYHRElfAKJwKQNrzxQysmVDGwJFEfWHxzOAZUbsDpgL1wNswKwtHuP\n",
       "NWcxTWDgeUCRcxiBDugE2oo1KQsAbYOWS49tYfao8xaASxgszskoL6/AG1mc3yD0e2Dq4/uNRSEo\n",
       "M3sz8JWhOQesD1QIwG27KQGtJOS4HzAkLsTqnP7//3/jcw6z6W8TSJyACq52bHUl0DSeKT5okQXR\n",
       "x3EBo5QDJqjArYKiXyVxFYP4kzJh0IS1VIaEPTG2EeWcK0Q7xx1rFQqvXQnaxhNA1bYlI872HpsA\n",
       "og5ghxdUGKp+UbepK4DXoU8dCBmQbkVV9+TgkgC1cDIJ2AUAbS3Jgc4pB54AAAAASUVORK5CYII=\n",
       "\" style=\"display:inline;vertical-align:middle;\" /></a></span>"
      ],
      "text/plain": [
       "{e in {2 .. 2^{t - 1} - 2}} |- {-2^{t - 1} + 1 .. -(e + 1)} subset_eq IntegerNeg"
      ]
     },
     "execution_count": 8,
     "metadata": {},
     "output_type": "execute_result"
    }
   ],
   "source": [
    "_neg_domain_within_negint.instantiate()"
   ]
  },
  {
   "cell_type": "code",
   "execution_count": 9,
   "metadata": {},
   "outputs": [
    {
     "data": {
      "text/html": [
       "<span style=\"font-size:20px;\"><a class=\"ProveItLink\" href=\"../../../__pv_it/theorems/f67ffeb951aaff9cc5f02f3801926b572b231a930/expr.ipynb\"><img src=\"data:image/png;base64,iVBORw0KGgoAAAANSUhEUgAAAKwAAAAYBAMAAACVRAuIAAAAMFBMVEX///8QEBAyMjKqqqpUVFRE\n",
       "RESYmJjc3NzMzMwiIiK6urpmZmaIiIh2dnbu7u4AAAAMEBwRAAAAAXRSTlMAQObYZgAAAAlwSFlz\n",
       "AAAOxAAADsQBlSsOGwAAAe1JREFUSMdjYCAZMBVAGXxJDFQE72GMnpPUNNYIzrIkTSPfKjyStZNu\n",
       "4De2uACHzkPr8FmqTMC1HK4PsIoz/2NgYN+t2oApU70pgoHhH25jIbpYHbAayzuBgaGUgfcXhgR7\n",
       "AMP9BVwCDByhQBCOxViILpB+HMa6MzAIYkiwFDAwCvA4vMDpWoguVGN5ImdOghsr/4DBHyPoGf8x\n",
       "sHznPnAPp7EQXSjGcuk8QHKtJwODP0bgskxgYPnBsQ0mXqt/B00BRBfYWL47p8HmFT1ADgQgmI8t\n",
       "gDg/EEic86H6VzZwXADx1eEy3ArgdPIHm67+A/hNBeniEQDG7jcGngUgAQW4VGEC2F1Yk8kUAo4F\n",
       "6WL/DExkf87cAlsjOXPmzKkgVokWWMFWbLq4A7DkSc2ZINCA0PVEmYEf6ig+uAaOraBQZsPq2BQC\n",
       "joXourSAgR8WWIhUAc4ltgzsmHmb+QJDOV5jwbpAuZQTGF8GIJEzKNkBGI08mFm7l4HhHN4IA+vi\n",
       "BUYZmwLDa7CzmAyQja3cvXsnpHQFRiXfJ2jmnb179wR8xkJ0gRPY2TRIMPC5rkMydv7//xCzODcA\n",
       "idnQaP7//78C3kQL1oWaebmuImVeSgCeooYGxoJyCSWAG3tAgXIJJeBhAnbxamdKTK0F6gYAv0eE\n",
       "w3ELTC0AAAAASUVORK5CYII=\n",
       "\" style=\"display:inline;vertical-align:middle;\" /></a>, <a class=\"ProveItLink\" href=\"../../../__pv_it/theorems/bb8428576c5e9aef5059458d15ab082fff89783c0/expr.ipynb\"><img src=\"data:image/png;base64,iVBORw0KGgoAAAANSUhEUgAAAQYAAAAYBAMAAADqsE5QAAAAMFBMVEX///+qqqq6urru7u4QEBBE\n",
       "RERUVFTc3NyIiIgyMjJmZmaYmJjMzMwiIiJ2dnYAAACPW0xlAAAAAXRSTlMAQObYZgAAAAlwSFlz\n",
       "AAAOxAAADsQBlSsOGwAAApVJREFUSMdjYCAMOAugDOadDAMF7GGME70D5gZJOEuWbnYaKaBw626+\n",
       "ocgN7PjECwuwynFMMkAVmEhZODTiEGdqABI8qSDL3v5Bk5NHckLVyhgGhs943MBzmZATGB9gEz0L\n",
       "tKQbxGBNABLcH9Ck3yIFVwDDewUmBwaeUCAIx+IGs5WfCbnBEosYc9Z8oBs4QZ7luwAkuCbgdgNb\n",
       "AQOLA0eCDUY4MG2ARRxBN6xG5mjDGP1A+7kXwNzA2wARbb17dwK6G1g+M7B952p4jOEGxgai3eCA\n",
       "zJFAdgODM8wN9QfAgprN2MLhAgPbH57VB2A5ZP4Lkt3AOAG3G2bD3LAfEvOTscUFKJg+YDWZaDdw\n",
       "gZKkXcdibG54BnNDKmp5zMCwEsWM8w2UuYETmHKY7jCcw+YGUNHPAYorD4hSRF7wRjHjGgNlbuAV\n",
       "AEb3BoYmbG4QAVn3EZjBv4PFjtwFggCQWCawlGSeC+LeBaYDrgAswXv37hXfu3cTcLsBoZ+BBWhc\n",
       "fEcfqOhde/euy9271xBuOA/O3hMhYcHAYArXfyoY2bRtDBSGA8gN33CkSRUQ66UCsJwCF4u8CF1h\n",
       "qIVcOeVx8QOHG0BZnRFoAP8GcFnK0YA1XwCTUjNlbmAFqrwH1IDNDVtB+QIYD/zKDWgVE3JZfWvV\n",
       "qgt43cAHSU7MP2EEOuBLAKV/5uVobngPyofroHmTex205A8ywHQD7////yfgcwNbys9sMOMWnECv\n",
       "1IB2cLzegRYXaf7TgHn2Eqx8gAG9WMyyGnfp10B01X0HazkJDuUL6G7AUU7iqPs3EO2GXVjrLHAe\n",
       "34DTDS3UbZWxFuCSKWXAVm2DQb0AVd3AHIBLJhxEmGANUfZl1HVEBQ5xDlAA1SUyMAAAyNK7OkwI\n",
       "2cMAAAAASUVORK5CYII=\n",
       "\" style=\"display:inline;vertical-align:middle;\" /></a> <a class=\"ProveItLink\" href=\"../../../__pv_it/_proof__fail_ineq_lemma/56c8f81e118bab2d0a0d30986317e335213b50cc0/proof.ipynb\" style=\"text-decoration: none\">&nbsp;&#x22A2;&nbsp;&nbsp;</a><a class=\"ProveItLink\" href=\"../../../__pv_it/_proof__fail_ineq_lemma/58ebf72641748463d752caa97a4615f9065386050/expr.ipynb\"><img src=\"data:image/png;base64,iVBORw0KGgoAAAANSUhEUgAAADoAAAAQBAMAAAC1onFLAAAAMFBMVEX///+qqqq6urru7u4QEBBE\n",
       "RERUVFTc3NyIiIgyMjJmZmaYmJjMzMwiIiJ2dnYAAACPW0xlAAAAAXRSTlMAQObYZgAAAAlwSFlz\n",
       "AAAOxAAADsQBlSsOGwAAANtJREFUGNNjYEADjFO+TL0bsgHGffsHRZYj7ADDBE44l/sDiizXAgaO\n",
       "DQ8ZeEKBIBzInYAiy1bAYMocAOfyNkBMjL17E0QzMzCsYTsAl60HM5lmGMAEeBJOIYzaDyYr4ZIM\n",
       "rAbBCNlUMDkdISDH3YDgeIBJJKch+YeB5zuY9L179+5ViPMEHjEwwOzhcAC7FOEHU3YgOx3mhgSw\n",
       "ugtw2Rygj5lhIcS/4QGI6oDbtEALGCQwxfzKYBdyCsD9M5mBPRBmEfc6MMWcqgzhq0S6hvq7PkCL\n",
       "OaankJBEAQDCUDHDUy/6VQAAAABJRU5ErkJggg==\n",
       "\" style=\"display:inline;vertical-align:middle;\" /></a></span>"
      ],
      "text/plain": [
       "{e in {2 .. 2^{t - 1} - 2}, l in {-2^{t - 1} + 1 .. -(e + 1)}} |- l in IntegerNeg"
      ]
     },
     "execution_count": 9,
     "metadata": {},
     "output_type": "execute_result"
    }
   ],
   "source": [
    "InSet(l, IntegerNeg).prove(assumptions=(InSet(l, _neg_domain),)+defaults.assumptions)"
   ]
  },
  {
   "cell_type": "code",
   "execution_count": 10,
   "metadata": {},
   "outputs": [
    {
     "data": {
      "text/html": [
       "<span style=\"font-size:20px;\"> <a class=\"ProveItLink\" href=\"../_scaled_delta_not_eq_nonzeroInt/thm_proof.ipynb\" style=\"text-decoration: none\">&nbsp;&#x22A2;&nbsp;&nbsp;</a><a class=\"ProveItLink\" href=\"../../../__pv_it/theorems/1afc0d5829dd9c694dfbc6e1d0e87ca773d012780/expr.ipynb\"><img src=\"data:image/png;base64,iVBORw0KGgoAAAANSUhEUgAAAM8AAAAaCAMAAAAnrPjxAAAARVBMVEX///8NDQ0WFhYLCwsYGBg2\n",
       "NjYbGxsSEhKIiIgiIiIQEBB2dnbu7u5ERETMzMzc3NwyMjK6urpmZmaYmJiqqqpUVFQAAAA0WiBi\n",
       "AAAAAXRSTlMAQObYZgAAAAlwSFlzAAAOxAAADsQBlSsOGwAAAzFJREFUWMPVWAeW2yAQJZ3e4f5H\n",
       "DSBAVFnajZMXnteetT/StD8zCIB/uqQA/+Myapbiov56n35wD/33zLF6lo5/5fVGwe7f5An2c4vK\n",
       "WUoaECQJvw4sfJAE8C/Zw8wsZfrYnbO1xCxyC9FNdi2+T1h3Bt+8xxyBB0loLVmKi99oCwgAysUf\n",
       "oVv+ztvkIsinqyWsVu+uNZr0Ukp04sN9Fd7tcbRWjKXJrEtT408sd+/mk1e95JLfME4OpWv+nGGR\n",
       "q6zhfdS0bLAyO4DY95jDq4ezhNOH8wJoCMg646gv2uiVm1mfSgg2WJMdIN8UHogGyaUPF3Kea7Mr\n",
       "b6x4AS5yUvXhEZ63WIziwuRN9jg5S9GnV63UOutzXNSCQAPTTbnUgdXJOkY/14W32xmbpZh7F93C\n",
       "yBg/moFnCHXyPPr+Lb6fMXKsXjRihStvgLreaw4zosOr0a6xoAWTRHVC4BRm6WYphMddFPhALWCz\n",
       "HcKrV0MfhnWjKqE59CkDCIeOsfANCjsJhXRpTzutHO6IHVqN/EV6llYsp162/i5xoZM9So8FR9RL\n",
       "JKyFtRocHULrHONQKrgVbcVky8ZSanDc5sXr+JhVdKq53iQtB7Jvw3NWjIKVdfZB0UBoOsJ07mjt\n",
       "QdVz6miUKeWxfWmPjXCxa980aWXk6P3Mn69fDhbVyzJXyFuwxOYmlOZ32upshOUbexJYs7h+hT+T\n",
       "+wsaGmBla5V4sh5uK0iyp4x2U32T474QTtJjBXYNI1SjEIWgJzhb0ScH9LAHw106ZEkgHRfa1gMC\n",
       "Y8UuDsW7s8c5dVA4YB1vGGFk8jmzaS6MDZzSlT2VPiWgR775Id9OB2cJ+bQu+jeBZ5nU7kV4gKmK\n",
       "jNjACFrS4dDA8uh6srQngWO+/fzBUr6t6wHAapYenMj79LXkPjboAmDXWkkqBgot8+0At8MhhNMs\n",
       "spivn50FB/pIeh8bbghVmrRLuXbOQcLaPshGcDdZhH46H7Q4nqX7h87ePYbcxzaGkphAy+SY+6B9\n",
       "ecx1dpbuLiTmI+hN7L2z85y0H35+8IFnAvxPPz+Y7LE3OH6S2D5j0Puf73zsTL57/vZymqdPsb8B\n",
       "KwYtTTjfnd4AAAAASUVORK5CYII=\n",
       "\" style=\"display:inline;vertical-align:middle;\" /></a></span>"
      ],
      "text/plain": [
       "|- forall_{l in Integer | l != 0} ((2^{t} * delta) != l)"
      ]
     },
     "execution_count": 10,
     "metadata": {},
     "output_type": "execute_result"
    }
   ],
   "source": [
    "_scaled_delta_not_eq_nonzeroInt"
   ]
  },
  {
   "cell_type": "code",
   "execution_count": 11,
   "metadata": {},
   "outputs": [
    {
     "data": {
      "text/html": [
       "<span style=\"font-size:20px;\"><a class=\"ProveItLink\" href=\"../../../__pv_it/theorems/f67ffeb951aaff9cc5f02f3801926b572b231a930/expr.ipynb\"><img src=\"data:image/png;base64,iVBORw0KGgoAAAANSUhEUgAAAKwAAAAYBAMAAACVRAuIAAAAMFBMVEX///8QEBAyMjKqqqpUVFRE\n",
       "RESYmJjc3NzMzMwiIiK6urpmZmaIiIh2dnbu7u4AAAAMEBwRAAAAAXRSTlMAQObYZgAAAAlwSFlz\n",
       "AAAOxAAADsQBlSsOGwAAAe1JREFUSMdjYCAZMBVAGXxJDFQE72GMnpPUNNYIzrIkTSPfKjyStZNu\n",
       "4De2uACHzkPr8FmqTMC1HK4PsIoz/2NgYN+t2oApU70pgoHhH25jIbpYHbAayzuBgaGUgfcXhgR7\n",
       "AMP9BVwCDByhQBCOxViILpB+HMa6MzAIYkiwFDAwCvA4vMDpWoguVGN5ImdOghsr/4DBHyPoGf8x\n",
       "sHznPnAPp7EQXSjGcuk8QHKtJwODP0bgskxgYPnBsQ0mXqt/B00BRBfYWL47p8HmFT1ADgQgmI8t\n",
       "gDg/EEic86H6VzZwXADx1eEy3ArgdPIHm67+A/hNBeniEQDG7jcGngUgAQW4VGEC2F1Yk8kUAo4F\n",
       "6WL/DExkf87cAlsjOXPmzKkgVokWWMFWbLq4A7DkSc2ZINCA0PVEmYEf6ig+uAaOraBQZsPq2BQC\n",
       "joXourSAgR8WWIhUAc4ltgzsmHmb+QJDOV5jwbpAuZQTGF8GIJEzKNkBGI08mFm7l4HhHN4IA+vi\n",
       "BUYZmwLDa7CzmAyQja3cvXsnpHQFRiXfJ2jmnb179wR8xkJ0gRPY2TRIMPC5rkMydv7//xCzODcA\n",
       "idnQaP7//78C3kQL1oWaebmuImVeSgCeooYGxoJyCSWAG3tAgXIJJeBhAnbxamdKTK0F6gYAv0eE\n",
       "w3ELTC0AAAAASUVORK5CYII=\n",
       "\" style=\"display:inline;vertical-align:middle;\" /></a>, <a class=\"ProveItLink\" href=\"../../../__pv_it/theorems/f01e5817c994f42806cb80f31cb3ebf09f18f49a0/expr.ipynb\"><img src=\"data:image/png;base64,iVBORw0KGgoAAAANSUhEUgAAAKgAAAAYBAMAAACcr6vyAAAAMFBMVEX///+qqqq6urru7u4QEBBE\n",
       "RERUVFTc3NyIiIgyMjJmZmaYmJjMzMwiIiJ2dnYAAACPW0xlAAAAAXRSTlMAQObYZgAAAAlwSFlz\n",
       "AAAOxAAADsQBlSsOGwAAAdtJREFUOMtjYKAYcBZAGcw7GagG7GGME73UM1QSzpLFo8pIgRQz626+\n",
       "QTa0sACrKo5JBiS5dCKKS3lSQbrf/kFTJI/VTJ7LWASrVsYwMHxG9T5rApDg/oCm8i02M81WfsYU\n",
       "ZA9geK/A5MDAEwoE4VBD+S4ACa4JeA3VhgUKFkPZChhYHDgSbFBcCjaUtwGiKfbuTWyGSuAxlOUz\n",
       "A9t3robHmIbWHwAxmWYYYHcpPkPZLjCw/eFZfQCWDua/gBm6HyxQaYDifeYXXQaEDQX5Ez1GIIam\n",
       "gpnTEaIrgVj3AM8Dogw934CRIh2AhAeYiYgtdm8g/s3AoUCUodcwk8RHYPr7Dk6Fvnfv3r0KFssE\n",
       "msb6o+MRiLP27l2Xu3ev4TaUKwBL6psIcS0DM0LyVDADA38CURHFwLANi9hLBWAGAMfIBYRgGNDQ\n",
       "BuIMZXzAUI4hBlTIvwEcIx0oiZ8XKCZAhKHnGBiaMWIf6HV+ZbCrOAWQDeWewGBVgGoo33do6QmM\n",
       "Uuaf0Di5tWrVBWxJinsdpNROVUZOp327G1C9z5byMxuSMBcAiVvQRPr///8JWNMpFDA9xZ9NiQZ8\n",
       "F7CJYi9QKDS0hbLaBaPUA4N6AYoMNdmATZR9GSWm1iUyMAAAMyWCGgj5uJ8AAAAASUVORK5CYII=\n",
       "\" style=\"display:inline;vertical-align:middle;\" /></a> <a class=\"ProveItLink\" href=\"../../../__pv_it/_proof__fail_ineq_lemma/e1594b28753488fb9cf32346ef06e503f1172f360/proof.ipynb\" style=\"text-decoration: none\">&nbsp;&#x22A2;&nbsp;&nbsp;</a><a class=\"ProveItLink\" href=\"../../../__pv_it/theorems/01170b902d36c29d947fa99d44490c44d750bd310/expr.ipynb\"><img src=\"data:image/png;base64,iVBORw0KGgoAAAANSUhEUgAAAFwAAAAaCAMAAAANMMsbAAAAPFBMVEX///8NDQ0WFhYLCwsYGBhU\n",
       "VFQiIiKIiIjMzMx2dnYQEBDc3NxEREQyMjLu7u5mZmaqqqq6urqYmJgAAACZCzMOAAAAAXRSTlMA\n",
       "QObYZgAAAAlwSFlzAAAOxAAADsQBlSsOGwAAAaxJREFUSMetVtmShCAMZA/uG/7/XxeiIiAwUrV5\n",
       "0BoNbadzDUJP0xL9owVf/zJx7W23sF3r7vTaXaoNbNOASU40Z+tA6XtwFTrJ3Yyy1ULlfBAzEezx\n",
       "XIrzpNUKGMfJUcQR8ji/pHj4ntV6cRITmuVFSB5TZr2YhYhNSfnw+6pRM+S6iFAqGMpPCKBlxprf\n",
       "hHUYEW/jsSmV7GAh4IajRJYiPhbGxCsbdlQwqm0PktJOyREy3HDSidkwKxZ1yUEH0vmWuMyS47oQ\n",
       "yap/HHbxZOwHond9DZKrKkIWFxUcdI7MnI53cJaA/f7k680eZ1xdRUPwoi9TOpA7QWX0nwaSyDzJ\n",
       "3fuDNJmoayYXY/MA993EYZlLxTyMeJdvxwBHqmwtiR8pL+AuN5OcTVsDcEHXvCrNv78O5Qs/lbrl\n",
       "DDf7Q6PSWesjAL/GzqNadH8uBcpLyUpis5FpQjnNxXgpKJZDG/re0EKCRLDFKOeU8iIF/kAchWNk\n",
       "Cb+/urrZ4vh0a/Ft7H4q6mmmmNjfua0qYUEPu11w0s0/83aHviHeTaDlxnV7qm9t//5/yyez5q3n\n",
       "H7yxEStezkC9AAAAAElFTkSuQmCC\n",
       "\" style=\"display:inline;vertical-align:middle;\" /></a></span>"
      ],
      "text/plain": [
       "{e in {2 .. 2^{t - 1} - 2}, l in {e + 1 .. 2^{t - 1}}} |- (2^{t} * delta) != l"
      ]
     },
     "execution_count": 11,
     "metadata": {},
     "output_type": "execute_result"
    }
   ],
   "source": [
    "_scaled_delta_not_eq_nonzeroInt.instantiate(assumptions=(InSet(l, _pos_domain),)+defaults.assumptions)"
   ]
  },
  {
   "cell_type": "code",
   "execution_count": 12,
   "metadata": {},
   "outputs": [
    {
     "data": {
      "text/html": [
       "<span style=\"font-size:20px;\"><a class=\"ProveItLink\" href=\"../../../__pv_it/theorems/f67ffeb951aaff9cc5f02f3801926b572b231a930/expr.ipynb\"><img src=\"data:image/png;base64,iVBORw0KGgoAAAANSUhEUgAAAKwAAAAYBAMAAACVRAuIAAAAMFBMVEX///8QEBAyMjKqqqpUVFRE\n",
       "RESYmJjc3NzMzMwiIiK6urpmZmaIiIh2dnbu7u4AAAAMEBwRAAAAAXRSTlMAQObYZgAAAAlwSFlz\n",
       "AAAOxAAADsQBlSsOGwAAAe1JREFUSMdjYCAZMBVAGXxJDFQE72GMnpPUNNYIzrIkTSPfKjyStZNu\n",
       "4De2uACHzkPr8FmqTMC1HK4PsIoz/2NgYN+t2oApU70pgoHhH25jIbpYHbAayzuBgaGUgfcXhgR7\n",
       "AMP9BVwCDByhQBCOxViILpB+HMa6MzAIYkiwFDAwCvA4vMDpWoguVGN5ImdOghsr/4DBHyPoGf8x\n",
       "sHznPnAPp7EQXSjGcuk8QHKtJwODP0bgskxgYPnBsQ0mXqt/B00BRBfYWL47p8HmFT1ADgQgmI8t\n",
       "gDg/EEic86H6VzZwXADx1eEy3ArgdPIHm67+A/hNBeniEQDG7jcGngUgAQW4VGEC2F1Yk8kUAo4F\n",
       "6WL/DExkf87cAlsjOXPmzKkgVokWWMFWbLq4A7DkSc2ZINCA0PVEmYEf6ig+uAaOraBQZsPq2BQC\n",
       "joXourSAgR8WWIhUAc4ltgzsmHmb+QJDOV5jwbpAuZQTGF8GIJEzKNkBGI08mFm7l4HhHN4IA+vi\n",
       "BUYZmwLDa7CzmAyQja3cvXsnpHQFRiXfJ2jmnb179wR8xkJ0gRPY2TRIMPC5rkMydv7//xCzODcA\n",
       "idnQaP7//78C3kQL1oWaebmuImVeSgCeooYGxoJyCSWAG3tAgXIJJeBhAnbxamdKTK0F6gYAv0eE\n",
       "w3ELTC0AAAAASUVORK5CYII=\n",
       "\" style=\"display:inline;vertical-align:middle;\" /></a>, <a class=\"ProveItLink\" href=\"../../../__pv_it/theorems/bb8428576c5e9aef5059458d15ab082fff89783c0/expr.ipynb\"><img src=\"data:image/png;base64,iVBORw0KGgoAAAANSUhEUgAAAQYAAAAYBAMAAADqsE5QAAAAMFBMVEX///+qqqq6urru7u4QEBBE\n",
       "RERUVFTc3NyIiIgyMjJmZmaYmJjMzMwiIiJ2dnYAAACPW0xlAAAAAXRSTlMAQObYZgAAAAlwSFlz\n",
       "AAAOxAAADsQBlSsOGwAAApVJREFUSMdjYCAMOAugDOadDAMF7GGME70D5gZJOEuWbnYaKaBw626+\n",
       "ocgN7PjECwuwynFMMkAVmEhZODTiEGdqABI8qSDL3v5Bk5NHckLVyhgGhs943MBzmZATGB9gEz0L\n",
       "tKQbxGBNABLcH9Ck3yIFVwDDewUmBwaeUCAIx+IGs5WfCbnBEosYc9Z8oBs4QZ7luwAkuCbgdgNb\n",
       "AQOLA0eCDUY4MG2ARRxBN6xG5mjDGP1A+7kXwNzA2wARbb17dwK6G1g+M7B952p4jOEGxgai3eCA\n",
       "zJFAdgODM8wN9QfAgprN2MLhAgPbH57VB2A5ZP4Lkt3AOAG3G2bD3LAfEvOTscUFKJg+YDWZaDdw\n",
       "gZKkXcdibG54BnNDKmp5zMCwEsWM8w2UuYETmHKY7jCcw+YGUNHPAYorD4hSRF7wRjHjGgNlbuAV\n",
       "AEb3BoYmbG4QAVn3EZjBv4PFjtwFggCQWCawlGSeC+LeBaYDrgAswXv37hXfu3cTcLsBoZ+BBWhc\n",
       "fEcfqOhde/euy9271xBuOA/O3hMhYcHAYArXfyoY2bRtDBSGA8gN33CkSRUQ66UCsJwCF4u8CF1h\n",
       "qIVcOeVx8QOHG0BZnRFoAP8GcFnK0YA1XwCTUjNlbmAFqrwH1IDNDVtB+QIYD/zKDWgVE3JZfWvV\n",
       "qgt43cAHSU7MP2EEOuBLAKV/5uVobngPyofroHmTex205A8ywHQD7////yfgcwNbys9sMOMWnECv\n",
       "1IB2cLzegRYXaf7TgHn2Eqx8gAG9WMyyGnfp10B01X0HazkJDuUL6G7AUU7iqPs3EO2GXVjrLHAe\n",
       "34DTDS3UbZWxFuCSKWXAVm2DQb0AVd3AHIBLJhxEmGANUfZl1HVEBQ5xDlAA1SUyMAAAyNK7OkwI\n",
       "2cMAAAAASUVORK5CYII=\n",
       "\" style=\"display:inline;vertical-align:middle;\" /></a> <a class=\"ProveItLink\" href=\"../../../__pv_it/_proof__fail_ineq_lemma/e3da9e393bd6ffec769cab8ba9098e5b85e6f1450/proof.ipynb\" style=\"text-decoration: none\">&nbsp;&#x22A2;&nbsp;&nbsp;</a><a class=\"ProveItLink\" href=\"../../../__pv_it/theorems/01170b902d36c29d947fa99d44490c44d750bd310/expr.ipynb\"><img src=\"data:image/png;base64,iVBORw0KGgoAAAANSUhEUgAAAFwAAAAaCAMAAAANMMsbAAAAPFBMVEX///8NDQ0WFhYLCwsYGBhU\n",
       "VFQiIiKIiIjMzMx2dnYQEBDc3NxEREQyMjLu7u5mZmaqqqq6urqYmJgAAACZCzMOAAAAAXRSTlMA\n",
       "QObYZgAAAAlwSFlzAAAOxAAADsQBlSsOGwAAAaxJREFUSMetVtmShCAMZA/uG/7/XxeiIiAwUrV5\n",
       "0BoNbadzDUJP0xL9owVf/zJx7W23sF3r7vTaXaoNbNOASU40Z+tA6XtwFTrJ3Yyy1ULlfBAzEezx\n",
       "XIrzpNUKGMfJUcQR8ji/pHj4ntV6cRITmuVFSB5TZr2YhYhNSfnw+6pRM+S6iFAqGMpPCKBlxprf\n",
       "hHUYEW/jsSmV7GAh4IajRJYiPhbGxCsbdlQwqm0PktJOyREy3HDSidkwKxZ1yUEH0vmWuMyS47oQ\n",
       "yap/HHbxZOwHond9DZKrKkIWFxUcdI7MnI53cJaA/f7k680eZ1xdRUPwoi9TOpA7QWX0nwaSyDzJ\n",
       "3fuDNJmoayYXY/MA993EYZlLxTyMeJdvxwBHqmwtiR8pL+AuN5OcTVsDcEHXvCrNv78O5Qs/lbrl\n",
       "DDf7Q6PSWesjAL/GzqNadH8uBcpLyUpis5FpQjnNxXgpKJZDG/re0EKCRLDFKOeU8iIF/kAchWNk\n",
       "Cb+/urrZ4vh0a/Ft7H4q6mmmmNjfua0qYUEPu11w0s0/83aHviHeTaDlxnV7qm9t//5/yyez5q3n\n",
       "H7yxEStezkC9AAAAAElFTkSuQmCC\n",
       "\" style=\"display:inline;vertical-align:middle;\" /></a></span>"
      ],
      "text/plain": [
       "{e in {2 .. 2^{t - 1} - 2}, l in {-2^{t - 1} + 1 .. -(e + 1)}} |- (2^{t} * delta) != l"
      ]
     },
     "execution_count": 12,
     "metadata": {},
     "output_type": "execute_result"
    }
   ],
   "source": [
    "_scaled_delta_not_eq_nonzeroInt.instantiate(assumptions=(InSet(l, _neg_domain),)+defaults.assumptions)"
   ]
  },
  {
   "cell_type": "code",
   "execution_count": 13,
   "metadata": {},
   "outputs": [
    {
     "data": {
      "text/html": [
       "<span style=\"font-size:20px;\"> <a class=\"ProveItLink\" href=\"../_all_alpha_l_is_complex/thm_proof.ipynb\" style=\"text-decoration: none\">&nbsp;&#x22A2;&nbsp;&nbsp;</a><a class=\"ProveItLink\" href=\"../../../__pv_it/theorems/35f789298544c445041dc56cdacbb75809d1e28e0/expr.ipynb\"><img src=\"data:image/png;base64,iVBORw0KGgoAAAANSUhEUgAAAHsAAAAVBAMAAACUF4xmAAAAMFBMVEX///+IiIgiIiIQEBB2dnbu\n",
       "7u5ERETMzMzc3NwyMjK6urpmZmaYmJiqqqpUVFQAAAB6qHgnAAAAAXRSTlMAQObYZgAAAAlwSFlz\n",
       "AAAOxAAADsQBlSsOGwAAAh9JREFUOMuFVE1oE0EU/tLsbjabNO7BShEsZS+FnoqUnHOwJxWmWAVB\n",
       "JLR2pe0l0FwrqR61JZeCHoQI9SCIrFC0/kDToxSk9FIEDwEPHoQ29l7oe7MzSauz6TvMz/vem3nf\n",
       "e28GSBYXvaXWG76SiExNvxis4hWtWrz9abLpLyV5p3417a0FpJrAZ94/NxndTbz8/TqQXwDWgEdM\n",
       "smwy+prknYlmafwD7ABZAVi7Jqux/zSXgqBOU0HwdfeAtECeCGSN1Ov/at4MxLPjRvEiS75Xg2Dc\n",
       "5J7jzFnXfnfruKYWqxmVVIvy/hGYNbnz0e4obtVWtELXueo140WeAlyF24J9GCsKxesPVGR9lJC0\n",
       "DycaUGCH4lPPV/woPY6wGsAPSuhQ2OirWZMixtKk3SIO9RKDJIsBSVlyV8Fn2nSEz8duAF8qFA6W\n",
       "nqHrXiR+44JBkjv6dkeoQntcnPo2DaOyh0giFTsHb/8l92MGpUK7e7LuHt08TPNNyqjdVofnVyr6\n",
       "DiLI7mMMylb1O133joZPZMxRPGnJIr+VyKSlbbgqH6iz2hXdAS87PT+3ae9FqraFilx8C8NwF6UJ\n",
       "3FZ5ocisG9tiw8+pTN2fF/rFzRxtMp2GJvoaVUlrv4kJpRtBF4xlfTo404qP9eJCivLJEefgDSvd\n",
       "zinQLJ1HlbsM9yHN3w8uzrV07mpd0PwbnXmoU2HYOL23y+d8Vk7v32r5HPdB4ATNIXEjYwBgOwAA\n",
       "AABJRU5ErkJggg==\n",
       "\" style=\"display:inline;vertical-align:middle;\" /></a></span>"
      ],
      "text/plain": [
       "|- forall_{l in Integer} (alpha_{l} in Complex)"
      ]
     },
     "execution_count": 13,
     "metadata": {},
     "output_type": "execute_result"
    }
   ],
   "source": [
    "_all_alpha_l_is_complex"
   ]
  },
  {
   "cell_type": "code",
   "execution_count": 14,
   "metadata": {},
   "outputs": [
    {
     "data": {
      "text/html": [
       "<span style=\"font-size:20px;\"><a class=\"ProveItLink\" href=\"../../../__pv_it/theorems/f67ffeb951aaff9cc5f02f3801926b572b231a930/expr.ipynb\"><img src=\"data:image/png;base64,iVBORw0KGgoAAAANSUhEUgAAAKwAAAAYBAMAAACVRAuIAAAAMFBMVEX///8QEBAyMjKqqqpUVFRE\n",
       "RESYmJjc3NzMzMwiIiK6urpmZmaIiIh2dnbu7u4AAAAMEBwRAAAAAXRSTlMAQObYZgAAAAlwSFlz\n",
       "AAAOxAAADsQBlSsOGwAAAe1JREFUSMdjYCAZMBVAGXxJDFQE72GMnpPUNNYIzrIkTSPfKjyStZNu\n",
       "4De2uACHzkPr8FmqTMC1HK4PsIoz/2NgYN+t2oApU70pgoHhH25jIbpYHbAayzuBgaGUgfcXhgR7\n",
       "AMP9BVwCDByhQBCOxViILpB+HMa6MzAIYkiwFDAwCvA4vMDpWoguVGN5ImdOghsr/4DBHyPoGf8x\n",
       "sHznPnAPp7EQXSjGcuk8QHKtJwODP0bgskxgYPnBsQ0mXqt/B00BRBfYWL47p8HmFT1ADgQgmI8t\n",
       "gDg/EEic86H6VzZwXADx1eEy3ArgdPIHm67+A/hNBeniEQDG7jcGngUgAQW4VGEC2F1Yk8kUAo4F\n",
       "6WL/DExkf87cAlsjOXPmzKkgVokWWMFWbLq4A7DkSc2ZINCA0PVEmYEf6ig+uAaOraBQZsPq2BQC\n",
       "joXourSAgR8WWIhUAc4ltgzsmHmb+QJDOV5jwbpAuZQTGF8GIJEzKNkBGI08mFm7l4HhHN4IA+vi\n",
       "BUYZmwLDa7CzmAyQja3cvXsnpHQFRiXfJ2jmnb179wR8xkJ0gRPY2TRIMPC5rkMydv7//xCzODcA\n",
       "idnQaP7//78C3kQL1oWaebmuImVeSgCeooYGxoJyCSWAG3tAgXIJJeBhAnbxamdKTK0F6gYAv0eE\n",
       "w3ELTC0AAAAASUVORK5CYII=\n",
       "\" style=\"display:inline;vertical-align:middle;\" /></a>, <a class=\"ProveItLink\" href=\"../../../__pv_it/theorems/f01e5817c994f42806cb80f31cb3ebf09f18f49a0/expr.ipynb\"><img src=\"data:image/png;base64,iVBORw0KGgoAAAANSUhEUgAAAKgAAAAYBAMAAACcr6vyAAAAMFBMVEX///+qqqq6urru7u4QEBBE\n",
       "RERUVFTc3NyIiIgyMjJmZmaYmJjMzMwiIiJ2dnYAAACPW0xlAAAAAXRSTlMAQObYZgAAAAlwSFlz\n",
       "AAAOxAAADsQBlSsOGwAAAdtJREFUOMtjYKAYcBZAGcw7GagG7GGME73UM1QSzpLFo8pIgRQz626+\n",
       "QTa0sACrKo5JBiS5dCKKS3lSQbrf/kFTJI/VTJ7LWASrVsYwMHxG9T5rApDg/oCm8i02M81WfsYU\n",
       "ZA9geK/A5MDAEwoE4VBD+S4ACa4JeA3VhgUKFkPZChhYHDgSbFBcCjaUtwGiKfbuTWyGSuAxlOUz\n",
       "A9t3robHmIbWHwAxmWYYYHcpPkPZLjCw/eFZfQCWDua/gBm6HyxQaYDifeYXXQaEDQX5Ez1GIIam\n",
       "gpnTEaIrgVj3AM8Dogw934CRIh2AhAeYiYgtdm8g/s3AoUCUodcwk8RHYPr7Dk6Fvnfv3r0KFssE\n",
       "msb6o+MRiLP27l2Xu3ev4TaUKwBL6psIcS0DM0LyVDADA38CURHFwLANi9hLBWAGAMfIBYRgGNDQ\n",
       "BuIMZXzAUI4hBlTIvwEcIx0oiZ8XKCZAhKHnGBiaMWIf6HV+ZbCrOAWQDeWewGBVgGoo33do6QmM\n",
       "Uuaf0Di5tWrVBWxJinsdpNROVUZOp327G1C9z5byMxuSMBcAiVvQRPr///8JWNMpFDA9xZ9NiQZ8\n",
       "F7CJYi9QKDS0hbLaBaPUA4N6AYoMNdmATZR9GSWm1iUyMAAAMyWCGgj5uJ8AAAAASUVORK5CYII=\n",
       "\" style=\"display:inline;vertical-align:middle;\" /></a> <a class=\"ProveItLink\" href=\"../../../__pv_it/_proof__fail_ineq_lemma/0d332f3d66fa0295f8747596f8426034876bfca50/proof.ipynb\" style=\"text-decoration: none\">&nbsp;&#x22A2;&nbsp;&nbsp;</a><a class=\"ProveItLink\" href=\"../../../__pv_it/theorems/0d759977af41403593a50489d35ed5ac7ed3b0d90/expr.ipynb\"><img src=\"data:image/png;base64,iVBORw0KGgoAAAANSUhEUgAAADwAAAASBAMAAAD1dKAHAAAAMFBMVEX///+YmJgyMjJmZmZERESI\n",
       "iIiqqqoQEBDu7u66uroiIiLc3NzMzMxUVFR2dnYAAAB9mGmPAAAAAXRSTlMAQObYZgAAAAlwSFlz\n",
       "AAAOxAAADsQBlSsOGwAAAPBJREFUKM9jYMABOJ4sUt3zAJcsQ2whQ/MXA1yyzJFAnSI4pQ+zNDAw\n",
       "8GJIh6xapQCib7CA7BdAk50UAWU4bIYJvXt7AMbk1oAxLpyDsnZN4KjmToCwmTZABXkeTISyShkY\n",
       "nFkbej+ApeHGGEyF+gAobsTHwAZ20PFVQOAAtnsfRJodyHv+goEZHEAtcDd6sEDo/gAGhvcJDFwT\n",
       "QBwuuPRkkL8ZJjDwA6WfA1WBBVkDEKF2AUgoMDA7MDDa8zAkQUTVEOGjvKFtMcjbghHMTxnsIIK9\n",
       "ng3wGKtfvAGueCVUeJ4XJFDRwIcABnzAdAJWYQC2KDplSIQKVwAAAABJRU5ErkJggg==\n",
       "\" style=\"display:inline;vertical-align:middle;\" /></a></span>"
      ],
      "text/plain": [
       "{e in {2 .. 2^{t - 1} - 2}, l in {e + 1 .. 2^{t - 1}}} |- alpha_{l} in Complex"
      ]
     },
     "execution_count": 14,
     "metadata": {},
     "output_type": "execute_result"
    }
   ],
   "source": [
    "_all_alpha_l_is_complex.instantiate(assumptions=(InSet(l, _pos_domain),)+defaults.assumptions)"
   ]
  },
  {
   "cell_type": "code",
   "execution_count": 15,
   "metadata": {},
   "outputs": [
    {
     "data": {
      "text/html": [
       "<span style=\"font-size:20px;\"><a class=\"ProveItLink\" href=\"../../../__pv_it/theorems/f67ffeb951aaff9cc5f02f3801926b572b231a930/expr.ipynb\"><img src=\"data:image/png;base64,iVBORw0KGgoAAAANSUhEUgAAAKwAAAAYBAMAAACVRAuIAAAAMFBMVEX///8QEBAyMjKqqqpUVFRE\n",
       "RESYmJjc3NzMzMwiIiK6urpmZmaIiIh2dnbu7u4AAAAMEBwRAAAAAXRSTlMAQObYZgAAAAlwSFlz\n",
       "AAAOxAAADsQBlSsOGwAAAe1JREFUSMdjYCAZMBVAGXxJDFQE72GMnpPUNNYIzrIkTSPfKjyStZNu\n",
       "4De2uACHzkPr8FmqTMC1HK4PsIoz/2NgYN+t2oApU70pgoHhH25jIbpYHbAayzuBgaGUgfcXhgR7\n",
       "AMP9BVwCDByhQBCOxViILpB+HMa6MzAIYkiwFDAwCvA4vMDpWoguVGN5ImdOghsr/4DBHyPoGf8x\n",
       "sHznPnAPp7EQXSjGcuk8QHKtJwODP0bgskxgYPnBsQ0mXqt/B00BRBfYWL47p8HmFT1ADgQgmI8t\n",
       "gDg/EEic86H6VzZwXADx1eEy3ArgdPIHm67+A/hNBeniEQDG7jcGngUgAQW4VGEC2F1Yk8kUAo4F\n",
       "6WL/DExkf87cAlsjOXPmzKkgVokWWMFWbLq4A7DkSc2ZINCA0PVEmYEf6ig+uAaOraBQZsPq2BQC\n",
       "joXourSAgR8WWIhUAc4ltgzsmHmb+QJDOV5jwbpAuZQTGF8GIJEzKNkBGI08mFm7l4HhHN4IA+vi\n",
       "BUYZmwLDa7CzmAyQja3cvXsnpHQFRiXfJ2jmnb179wR8xkJ0gRPY2TRIMPC5rkMydv7//xCzODcA\n",
       "idnQaP7//78C3kQL1oWaebmuImVeSgCeooYGxoJyCSWAG3tAgXIJJeBhAnbxamdKTK0F6gYAv0eE\n",
       "w3ELTC0AAAAASUVORK5CYII=\n",
       "\" style=\"display:inline;vertical-align:middle;\" /></a>, <a class=\"ProveItLink\" href=\"../../../__pv_it/theorems/bb8428576c5e9aef5059458d15ab082fff89783c0/expr.ipynb\"><img src=\"data:image/png;base64,iVBORw0KGgoAAAANSUhEUgAAAQYAAAAYBAMAAADqsE5QAAAAMFBMVEX///+qqqq6urru7u4QEBBE\n",
       "RERUVFTc3NyIiIgyMjJmZmaYmJjMzMwiIiJ2dnYAAACPW0xlAAAAAXRSTlMAQObYZgAAAAlwSFlz\n",
       "AAAOxAAADsQBlSsOGwAAApVJREFUSMdjYCAMOAugDOadDAMF7GGME70D5gZJOEuWbnYaKaBw626+\n",
       "ocgN7PjECwuwynFMMkAVmEhZODTiEGdqABI8qSDL3v5Bk5NHckLVyhgGhs943MBzmZATGB9gEz0L\n",
       "tKQbxGBNABLcH9Ck3yIFVwDDewUmBwaeUCAIx+IGs5WfCbnBEosYc9Z8oBs4QZ7luwAkuCbgdgNb\n",
       "AQOLA0eCDUY4MG2ARRxBN6xG5mjDGP1A+7kXwNzA2wARbb17dwK6G1g+M7B952p4jOEGxgai3eCA\n",
       "zJFAdgODM8wN9QfAgprN2MLhAgPbH57VB2A5ZP4Lkt3AOAG3G2bD3LAfEvOTscUFKJg+YDWZaDdw\n",
       "gZKkXcdibG54BnNDKmp5zMCwEsWM8w2UuYETmHKY7jCcw+YGUNHPAYorD4hSRF7wRjHjGgNlbuAV\n",
       "AEb3BoYmbG4QAVn3EZjBv4PFjtwFggCQWCawlGSeC+LeBaYDrgAswXv37hXfu3cTcLsBoZ+BBWhc\n",
       "fEcfqOhde/euy9271xBuOA/O3hMhYcHAYArXfyoY2bRtDBSGA8gN33CkSRUQ66UCsJwCF4u8CF1h\n",
       "qIVcOeVx8QOHG0BZnRFoAP8GcFnK0YA1XwCTUjNlbmAFqrwH1IDNDVtB+QIYD/zKDWgVE3JZfWvV\n",
       "qgt43cAHSU7MP2EEOuBLAKV/5uVobngPyofroHmTex205A8ywHQD7////yfgcwNbys9sMOMWnECv\n",
       "1IB2cLzegRYXaf7TgHn2Eqx8gAG9WMyyGnfp10B01X0HazkJDuUL6G7AUU7iqPs3EO2GXVjrLHAe\n",
       "34DTDS3UbZWxFuCSKWXAVm2DQb0AVd3AHIBLJhxEmGANUfZl1HVEBQ5xDlAA1SUyMAAAyNK7OkwI\n",
       "2cMAAAAASUVORK5CYII=\n",
       "\" style=\"display:inline;vertical-align:middle;\" /></a> <a class=\"ProveItLink\" href=\"../../../__pv_it/_proof__fail_ineq_lemma/57218fafd2982cf5a6853e30cd32d98baca755580/proof.ipynb\" style=\"text-decoration: none\">&nbsp;&#x22A2;&nbsp;&nbsp;</a><a class=\"ProveItLink\" href=\"../../../__pv_it/theorems/0d759977af41403593a50489d35ed5ac7ed3b0d90/expr.ipynb\"><img src=\"data:image/png;base64,iVBORw0KGgoAAAANSUhEUgAAADwAAAASBAMAAAD1dKAHAAAAMFBMVEX///+YmJgyMjJmZmZERESI\n",
       "iIiqqqoQEBDu7u66uroiIiLc3NzMzMxUVFR2dnYAAAB9mGmPAAAAAXRSTlMAQObYZgAAAAlwSFlz\n",
       "AAAOxAAADsQBlSsOGwAAAPBJREFUKM9jYMABOJ4sUt3zAJcsQ2whQ/MXA1yyzJFAnSI4pQ+zNDAw\n",
       "8GJIh6xapQCib7CA7BdAk50UAWU4bIYJvXt7AMbk1oAxLpyDsnZN4KjmToCwmTZABXkeTISyShkY\n",
       "nFkbej+ApeHGGEyF+gAobsTHwAZ20PFVQOAAtnsfRJodyHv+goEZHEAtcDd6sEDo/gAGhvcJDFwT\n",
       "QBwuuPRkkL8ZJjDwA6WfA1WBBVkDEKF2AUgoMDA7MDDa8zAkQUTVEOGjvKFtMcjbghHMTxnsIIK9\n",
       "ng3wGKtfvAGueCVUeJ4XJFDRwIcABnzAdAJWYQC2KDplSIQKVwAAAABJRU5ErkJggg==\n",
       "\" style=\"display:inline;vertical-align:middle;\" /></a></span>"
      ],
      "text/plain": [
       "{e in {2 .. 2^{t - 1} - 2}, l in {-2^{t - 1} + 1 .. -(e + 1)}} |- alpha_{l} in Complex"
      ]
     },
     "execution_count": 15,
     "metadata": {},
     "output_type": "execute_result"
    }
   ],
   "source": [
    "_all_alpha_l_is_complex.instantiate(assumptions=(InSet(l, _neg_domain),)+defaults.assumptions)"
   ]
  },
  {
   "cell_type": "code",
   "execution_count": 16,
   "metadata": {},
   "outputs": [
    {
     "data": {
      "text/html": [
       "<strong id=\"fail_sum_inst\">fail_sum_inst:</strong> <span style=\"font-size:20px;\"><a class=\"ProveItLink\" href=\"../../../__pv_it/theorems/f67ffeb951aaff9cc5f02f3801926b572b231a930/expr.ipynb\"><img src=\"data:image/png;base64,iVBORw0KGgoAAAANSUhEUgAAAKwAAAAYBAMAAACVRAuIAAAAMFBMVEX///8QEBAyMjKqqqpUVFRE\n",
       "RESYmJjc3NzMzMwiIiK6urpmZmaIiIh2dnbu7u4AAAAMEBwRAAAAAXRSTlMAQObYZgAAAAlwSFlz\n",
       "AAAOxAAADsQBlSsOGwAAAe1JREFUSMdjYCAZMBVAGXxJDFQE72GMnpPUNNYIzrIkTSPfKjyStZNu\n",
       "4De2uACHzkPr8FmqTMC1HK4PsIoz/2NgYN+t2oApU70pgoHhH25jIbpYHbAayzuBgaGUgfcXhgR7\n",
       "AMP9BVwCDByhQBCOxViILpB+HMa6MzAIYkiwFDAwCvA4vMDpWoguVGN5ImdOghsr/4DBHyPoGf8x\n",
       "sHznPnAPp7EQXSjGcuk8QHKtJwODP0bgskxgYPnBsQ0mXqt/B00BRBfYWL47p8HmFT1ADgQgmI8t\n",
       "gDg/EEic86H6VzZwXADx1eEy3ArgdPIHm67+A/hNBeniEQDG7jcGngUgAQW4VGEC2F1Yk8kUAo4F\n",
       "6WL/DExkf87cAlsjOXPmzKkgVokWWMFWbLq4A7DkSc2ZINCA0PVEmYEf6ig+uAaOraBQZsPq2BQC\n",
       "joXourSAgR8WWIhUAc4ltgzsmHmb+QJDOV5jwbpAuZQTGF8GIJEzKNkBGI08mFm7l4HhHN4IA+vi\n",
       "BUYZmwLDa7CzmAyQja3cvXsnpHQFRiXfJ2jmnb179wR8xkJ0gRPY2TRIMPC5rkMydv7//xCzODcA\n",
       "idnQaP7//78C3kQL1oWaebmuImVeSgCeooYGxoJyCSWAG3tAgXIJJeBhAnbxamdKTK0F6gYAv0eE\n",
       "w3ELTC0AAAAASUVORK5CYII=\n",
       "\" style=\"display:inline;vertical-align:middle;\" /></a> <a class=\"ProveItLink\" href=\"../../../__pv_it/_proof__fail_ineq_lemma/a368524fdefc50c2d517d49d484ae3318d8274910/proof.ipynb\" style=\"text-decoration: none\">&nbsp;&#x22A2;&nbsp;&nbsp;</a><a class=\"ProveItLink\" href=\"../../../__pv_it/theorems/b2b787b2356a8557e13fb4834fb8446c3c8e4dc90/expr.ipynb\"><img src=\"data:image/png;base64,iVBORw0KGgoAAAANSUhEUgAAAcUAAABLCAMAAAA20myqAAAANlBMVEX///+/v7+urq6YmJjc3Nyq\n",
       "qqoQEBDu7u5mZmYyMjJUVFRERES6urp2dnbMzMwiIiKIiIgAAAC1GzWLAAAAAXRSTlMAQObYZgAA\n",
       "AAlwSFlzAAAOxAAADsQBlSsOGwAACcVJREFUeNrVndkWnCAMQKdFBFG2///Zuo8akLAoUx7a04zV\n",
       "G4IhhMXPp07phrDk/dJoVk6hZ8EyUIsVLsKSGkWKYgo9DSarVxhtWVBSp7SkkELPgyWiFisMALDa\n",
       "SFsZbFNEodnp8augZwXB0lDLFdGFJc4WH8A2Jdj6IgpNhVx4FM3pyyBYEmqxouwQlDhrxXsRI0s1\n",
       "8gJxhKUFFJrblObXW+VYEYKloBaMT7uwxGUqGBFttWiMXpyMzKfrdaZCTEohJnPBG2XFlRAsAbVc\n",
       "aANaLkW9ihxc9PUodNWnYwU8hclTaGpbfORh3dI5LmXItiIEi0ct+CrqsMRV9NrSiSFeK8oCPqZv\n",
       "8xSabNpY9aH8Q0q+iw6waNSCvWJak2rmps20Grt1rxUpL+EraJZChC1WbDg5R2PKtFmtDILRaj2j\n",
       "sCwocYbas82E+DTS/y4OJcI222UqNPqER3osCBaJWm6saPugZG+8/VbGRk3nN7DlhE6VxidpO/1B\n",
       "jlZUfZF2prIUGjGeSY9BsDjUcoUAJ0BwbmEx0Gmk+4xHHYfTMkuhrNF9HFgcarnSA//TW5zOs6H6\n",
       "qcqk14qmSNBm2yyFppxN80heBYLZKvENszoo8VXXVDGMG2LYxYqN7Kw0+zUFWprKUKjplVKcPfMK\n",
       "qAzUkg5VBiU+fyL948WtSsvkpEyEn4L4rZ3KI7UHwUwVlyrAAF9Y7Mwcbzy5G/8VqYOhLkOhR0dp\n",
       "XQZqudLasMRbZMBNkVIVai1LV+jJAsEiUH+hW5wvzvo5IhuDfsGi8J8A6+z7ayQoGFxRW3V+xeO7\n",
       "0QnKl/EhGK+QS+WgM+aVRjyBkKVPVuhlMFLhLejAELmrOknmjSLaZIVeBlMVRowtGN60lXJI595t\n",
       "mxLcezubrNCTXA4wZu3r1ZUeY3XWU0p0C9uU4IFKpSpUkhVwOcDs669BAxpOg21K1F5wWTMYMY6w\n",
       "SziUbUpwLxrpKN34xVgBlwNMv94lURCXU3SkLqzrUlJEiW1K8PA2mUSFirICLgfYLDFao97I63WN\n",
       "9x93NwGZBoPPPWhrXQtpOSZGa8K/nKYEBTL09OGjWZs4LgfYLJHoQePpSnNqVQPS4UsQFkt8oKxG\n",
       "P+Va9olJu/m13H45TwlyKxIVimT1grm5HGCzZL3a9Nb2QvSdPxl/fCC9tAiDWxQsAIOw+IXqZqwa\n",
       "l8VIAStepgQl0kV48bGsIStepyoh2CzZb7P+3HvXqh8eyOBaRFSk2VselNz+99R8V8iK1ylBiXyQ\n",
       "Hx/JGrAimKqEYLNkf3PXbpN6+/XDAzlo/gRljA4o3cVYkY1hHn/CimBK0LjCyYEgFIpkvbcinKqE\n",
       "YLNku41ZQyH/hNXhgQ4VUdtNNLi5jspgDaOfog9YEUwJEtcIghqEQpGs91aEU5UQbJZst+nt9rcK\n",
       "PpA6Oo0O0zO2jinVqDykHMdcrLwVYfeFtOIdPoo1GN0EwU5WXIOtm7Wh3/tyuWeIjFlfeNR2uhbc\n",
       "vY3MZ3Q2aVp0Y5dSCoWoLYq2oslj9YJ5rAjB6MGKi/UaqSmi2Wzv3TANIdViUrIDc30o4qI0AdUQ\n",
       "t+Vt6m5kqhUbPUx3aD4NLWZFksfqBUuyorFibA7zZPkgufmmG6bFLPZy39XUzayCWcQUk12Cgygb\n",
       "aUWY3YqwYrussOIfwz5M2JvaGpBWvMdHsHrBPFaEYMPBiv33R8ua/dFqfkOv+rbb/zHGfGNclBVp\n",
       "UBIqPKVrnCn5gsi7eSnk2rm7a0uds9yLe2lb4F4C+GFWL5jHigqk32fJevXXgzPwUjGPFU8j3gH3\n",
       "Lv4NSjCZOJNkxXbp+mU7r99ZO3d3bf1xzVU438W/eaxeMI8VIdifrxXV7sAVt5JMeyGmvVqLM2Ue\n",
       "j3oCpBrRL5Z4F0fXoJM8Klt55fJIPeDfxRsr0jxWL1jKu2i+a3Bmm4nRqGNnuzhTYMV+eapeLL/o\n",
       "QfqXPOrHtE2SFbdWJ9uDg/Fb8VPCikFWL5jfii7JcnVnz/5zyvpM+1iY04rrqGIOS9ma4OWYyDE/\n",
       "Rp1684RZ0aX76Zcsk/2o75g3L7oJ4IdZvWDx0Q2fUuHm1AsaabTxWVFtuyIk2U8g0MM7VlRJyZuF\n",
       "XU68bGxw5tvqnrQigtULlhSjXmIZTSa/yTxW/MApyQa3HRgoraPHi0krNGCd6IEVsKK+Hy+adLAC\n",
       "VmRTF6qN8VkR5r45yhiemeqY3E2pbLhdz1Xxjfqx2XCTx+oF8476W5fkevU46Bx7OsMJUZ2Z/jH2\n",
       "fEty/njldW9Sg5vr7UEuo4/LxPSJiy9hnXAz3OZRdaJCkaxeMG8eVbskaXP9181JyB1nAkzWiKip\n",
       "Ju7co0tTKuv+F4OeJeZ5rLHZcM+aF4led9Me79ucPIlBxv6e9QbYQpxxO0FY0ai4X7ALSfz4SFYv\n",
       "mOeHrDUvhUoegztup0+sjeZIF+HFf4oVgnHLX7YiAf6A4CeanAdmsWeU6JFBlw//MVYI1r++3WYA\n",
       "EdaAXmnriNsbKuwzS6Ox2y88+M+x/sJGl4y14SNtdyxaL8sZntk/iN1+4cF/jvUnNrrA5X0Wecon\n",
       "9+19IM9wslSFnmX9ic3EGux81fYHzguHr1ibrNDLYE2FnW8CNEdhye9ZcUDHXC/jQ7ChwvEMBkRp\n",
       "5vVAGYUpkxV6GazGUSm/0ZYQbxgt/tY+BCYq7MX+jb2wiN6OJSv0MpiucFLK+NAmKEF08iVPx3eZ\n",
       "pk1SaFtXF7w/6UqBsSoHwUkQDRwkoVrYt7njTsdPriwakdw9KURvHwiOOS8AFoNasmMUN5L7Wti3\n",
       "ud+fjp9fWTF9zUmh+2Ur8AjJ/7Nb/ASOEAss3tm3ud+ejp9fWVGngh0vhstW7o85L1p5bxYOEkYH\n",
       "SWDxzrbN/f50/OzKUlFe6oA/L4rg+wHLJHjMeTaYsnW+NnV33u6yNORUDbAf0p/A6fjZlWWivNRB\n",
       "IdghBI45zwYztc58aluvhIajkXmb+/3p+NmV1bWJCsEOIXDMeTZYV+tTDAZkHneJo1s8HQAfHFEU\n",
       "qSwVmQ35KjQvXzu5ksAx57lgqt4hetCVb5JlEd+NR0WdyJ1bWSJ2HL0rZMH3ygLHnOeCCVvte4cS\n",
       "PHqT2MBX23AncmdWFosOGHaFtnV1h5vdH3OeCcZsvS9pMuAGNgmshWtYjTmRO7OyTHQuiSH9WuYq\n",
       "Jwhman6B0YCX0ZT0DJmV1fICCt3mboqBtVWng7QMSzJGpIWbWJJC/13bjy8UeAJa+eusB+9Iiij0\n",
       "AhirPb8OT7XjP3J6eOJXYp/H/7UP2s4uiIQlVTJLqd/6fhofgg31v6quAIL6iU+966GYQk+D6R9Y\n",
       "dTY0YUmFXnEoqNCzYCfJP2AjjdKRNZ2mAAAAAElFTkSuQmCC\n",
       "\" style=\"display:inline;vertical-align:middle;\" /></a></span><br>"
      ],
      "text/plain": [
       "fail_sum_inst: {e in {2 .. 2^{t - 1} - 2}} |- [Pfail](e) = ((Sum_{l=-2^{t - 1} + 1}^{-(e + 1)} |alpha_{l}|^{2}) + (Sum_{l=e + 1}^{2^{t - 1}} |alpha_{l}|^{2}))"
      ]
     },
     "execution_count": 16,
     "metadata": {},
     "output_type": "execute_result"
    }
   ],
   "source": [
    "fail_sum_inst = _fail_sum.instantiate()"
   ]
  },
  {
   "cell_type": "code",
   "execution_count": 17,
   "metadata": {},
   "outputs": [
    {
     "data": {
      "text/html": [
       "<span style=\"font-size:20px;\"> <a class=\"ProveItLink\" href=\"../_alpha_l_sqrd_ineq/thm_proof.ipynb\" style=\"text-decoration: none\">&nbsp;&#x22A2;&nbsp;&nbsp;</a><a class=\"ProveItLink\" href=\"../../../__pv_it/theorems/e7a8455bab964a130fe671376f42c15667a951bb0/expr.ipynb\"><img src=\"data:image/png;base64,iVBORw0KGgoAAAANSUhEUgAAAc8AAAA/BAMAAAB0s161AAAAMFBMVEX///+IiIgiIiIQEBB2dnbu\n",
       "7u5ERETMzMzc3NwyMjK6urpmZmaYmJiqqqpUVFQAAAB6qHgnAAAAAXRSTlMAQObYZgAAAAlwSFlz\n",
       "AAAOxAAADsQBlSsOGwAABptJREFUaN7FmmuIVFUcwP/zuHPv7J3XGlvRBx0EkVxst7CyqHbWB2HU\n",
       "7nwQI4h2RBqFPuykkkToDm5oILTrB3uA2iTYp7BV1FhH2DESkiIH6stCuPNFIYLdsVzHfE3nnPs6\n",
       "596723Wde86BMzP3P2fumd895/+8F0BEO8lxLukQCGuBUZ6zPSoO9Lsiz9kiGVGc0kt8p3tZFKg6\n",
       "yne+37KCQIcKfOcLjgkCPcp5vvgtMZz85/1MDGgw16ozbfeofFMFMSpabZE1/esrj6AhMUo607Iz\n",
       "LfEIqtaFeNE73EHb7ooAjTW4g8ILIkAjdf6gE0UBoMkcf9CpioiIPsMfdKQmAHSi5CLc2HfVT9BQ\n",
       "twBQV+c3Bqf8BI3MCgD92014G0YKPoIG7vHnVG66SS/6Cxq/wx9Un5O29wp+WbOAc/V79RryTf6g\n",
       "gevk7TVKFEbmSV724Kea7jnq0W1ISF+I4f2DY3nhnivoPn+rAE2Ac/j9C46BUcMNVBlTrG042fo4\n",
       "pisLe7CS5PiBRm+5ge7b9ZG5pD+c8cGnFSGKJghX+YGGZt1Ae5pN42jReh9mHSxBDOlzlGeoW3fV\n",
       "UdNsrEn5kgOjpXxm6dJVYkDX9RXsoNIpf8JvDPo9wLtCQPeWpNVKlQGV/vRJiSbQ9fsUFDq2/5G5\n",
       "pAcMnz7/taCH7aRsSex18kaLBkzQpwHeC2TfqdMr6idoJIsmkoxCjmzG+dK66Sxc0A92W/78bbbO\n",
       "7hzWZ325Ay1Xb4YRDXTroLiQMx6G+CgNqlhbN9lsSdOuaz/S/HgK26JJxLg4X8LzGp4d1HSg07jC\n",
       "yzQRGtWeZgMAx7BJ60v08QJ8w4hM0BDyaWvXg5rhYYwwKIzi9TgNUMamwQJNlpQGmFAENEKCVRbU\n",
       "OYwFfR6SRVfQATR3fxWCJQbUJ/dCQN/Ad0pXQIBsGgs0llUa0igo5XL53DygzmEMqDILoSotMo1R\n",
       "Es29FoGDDbSFAYOVzmMdhWFki6Q6bNL+N6WB4XR8rPJ/K+ocdsz66hLIsxCs0CITVM1BbELG18AG\n",
       "CpOtKqxb6TwBTRTIQn5LJB9Sk2zPKuf1sPP9VdU5Qe3Doh1mdvQ5Bg2lKBHlXtb90qH2Yp0Jl3xy\n",
       "ZVY6P2MYEWQSLuXz+aqMTCh8gD7liw6Xcja/JZ+vOEAdnid+EGR8hm2w5yreuskqFpkhoC0yWpH1\n",
       "D/SiEzR4HHZq6WKNco6f2DMPtxV1DBu2Pi7WjRElCtpi3XrKP1ArnR80NmoygPwpa4yUrbvOzAO6\n",
       "EaSM+zDW6rbDCUZkT9NO0lZXWkqaq44W55ZFi04xEZnpfJcxQn0C/WMWNGQ4WxZU2XCDeLodRXm1\n",
       "+zAWNNx7hhGpt+cN6ueuTFTnlg3QmjT+XPFr9I67lc73MMY4zwQMbkmzp+0y6fxIiQLaDZ/H6P87\n",
       "l5WVqdt9v6N9aL9rg2QHxrcyp4cwnMhiT4m7lc7/4zh3W3q+MsiDgh5zimI3vGtY0DIYyFVDzLZ1\n",
       "sPvOQX/p4ydftYQJvIiHtG6m84pLjfXgw+q/fIQqJ6Qcorb73k+1yAJVK86nWZAsUcRV+CP09sC/\n",
       "+VnrZjrvNqn8sPnDfvpgt0Mk/ev9kl2yQEN4gW1hcIjUKxK3gK7DS7j4Fspq3dxG1/mXO6HL88hw\n",
       "tMbog73GjWSJNCQabcydlUEEGK1o3Vz7hgBQ7/cqH6dAUQAFl23fn9YUuR6ovWkJr0yhrChc07qp\n",
       "QiLu7V/2WixRKhToYdSv2QYcJq9DKTVlJTyx0cSsFrHTUXsyLQB0xOsjImGgQFcCKUkwbSV5fQrk\n",
       "89aeHinG0TaNd2vdaEMZAaAhr1f3Jw1Us14vIttEKsJvkdhpuS4DnATRVu4ayAhUrmvdaEtEPGgU\n",
       "9nivUknpK9qpQwXsd3MJ6K/mIRl3lwBi80SbqC0COEHxaOrbpqdnXslQ2zRSyzq3bjzD5BRSg+gm\n",
       "jsep5EO6LwIUvvS+yy0d3YwsSsWmaZtxgRGgg5Y1IIoCgVhO64aFaggBvezZv1APsPSho+O2gAHJ\n",
       "lM5ymdH5XriipdekG94lLQR0wKsJVAfvm2jb0bqctpc2kBNtNptMYBhux2cPlrRumOKKEFB1IY+I\n",
       "BAveZFrbq3ejBiiEE6SFBJ6xMW8yrZ3X+0NM2Ir2yEJ+tM2jjBj2HHPPV00LAg0upBi/yaOMFAiK\n",
       "WjdUtCQItG0hz5orKW8ykg3oXW/TIKpt4Dpb7FlhoJEUz9mGC8JApeU8ZzsM4tp+nldVM0X/AS/I\n",
       "D6XKeJgWAAAAAElFTkSuQmCC\n",
       "\" style=\"display:inline;vertical-align:middle;\" /></a></span>"
      ],
      "text/plain": [
       "|- forall_{l in {-2^{t - 1} + 1 .. 2^{t - 1}} - {0}} (|alpha_{l}|^{2} <= (1 / (4 * (l - (2^{t} * delta))^{2})))"
      ]
     },
     "execution_count": 17,
     "metadata": {},
     "output_type": "execute_result"
    }
   ],
   "source": [
    "_alpha_l_sqrd_ineq"
   ]
  },
  {
   "cell_type": "markdown",
   "metadata": {},
   "source": [
    "## Upper bound each of the summations in `fail_sum_inst` via `alpha_l_sqrd_ineq`"
   ]
  },
  {
   "cell_type": "code",
   "execution_count": 18,
   "metadata": {},
   "outputs": [
    {
     "data": {
      "text/html": [
       "<strong id=\"first_sum\">first_sum:</strong> <a class=\"ProveItLink\" href=\"../../../__pv_it/theorems/932cbc0bf22f171022fd4654ae8dc7de559377f80/expr.ipynb\"><img src=\"data:image/png;base64,iVBORw0KGgoAAAANSUhEUgAAAIAAAABCBAMAAABtMMNHAAAAMFBMVEX///8QEBCIiIh2dnYyMjIi\n",
       "IiJmZmZUVFTu7u66urqYmJiqqqrc3NxERETMzMwAAAAkjA9VAAAAAXRSTlMAQObYZgAAAAlwSFlz\n",
       "AAAOxAAADsQBlSsOGwAAAtNJREFUWMPtl01oE0EYhr8mzbpuJklBEA+WRqFQe9BgFTVeclCviTdz\n",
       "C4QGRUPrqZ7sltYKohDsxVuDqAh6iNDqxUNA6EWL8SbalSDozRJ/WtBKx5k0yc7+zOxOevDSF7rM\n",
       "THeezM/7fbMDYNNLWz0ActJKbO1WCiAnB7jZLijkL3owAzAnB7jULkToI0wAvboUgPRQk8MsIFiR\n",
       "6Y/IpG/Ud7GAsNQi7K4BTKAkC6BNfvTNIKqGxwH2PtGhaLwzjHITEK3JjIC+/de6iHJToIv4EYIs\n",
       "IBCXAqwAzA4PtQDo2M84RKpSgDmLD6juyBlJqTJObOqKZDCcFAaHD6ke9R3Z1mdkwh7rvZiRpwUV\n",
       "UDK2pjDe3CrcvnsV93kBYiW0aW+bXOsUH254JlDdCQjh8U656L0KwYwjnvEfp63NhMVW6H+/OBPm\n",
       "EWx2Kzt+kPX1KQJ87xxUBGcEI7YBluCNc28H1n0D0KfVi86X5nHFL6AH44bLS3if7ym4K/1rm4Ap\n",
       "nBABgiPXPQAdO7sCUBamqq+FABj7rvMBPSRP54bUSREgxI1DAhgjDk0lYEEEQGuCKfST5x4d8iJA\n",
       "YD8foP4gTxKmWRFgvi4YAQX0gdoQAKIbIh+QGH/UqIdTIh/ERYBg8r6ejysJAeCcj2AK3eMDIjUf\n",
       "gFiADxg1XVThApRDXIBm7qFW6SaYmD185nQIu8GH3V1o7uHsejenVWcP0Qt+UIqUPtPU2fPkaMt0\n",
       "0V9hz8byzufD/xRqf18v+7it0PzKavrENdBabooudgDqAy5hwVrNwSgMXm6Hvb7VBPB5kAvIW6u/\n",
       "4W09BBZAM0EscgFZa/UxAcyQk79QKJR8AUh+LdLbjunb4/BckxgBza/WpHwBlp62igdOewOU9lEc\n",
       "peNYcWydYhj9xgcBgORXyxRQDtk/zsQjiNmu58urX3UpAM2vrAYwBhfAq/TR7p1d225oCG+e/wDg\n",
       "9t/vaXWwEAAAAABJRU5ErkJggg==\n",
       "\" style=\"display:inline;vertical-align:middle;\" /></a><br>"
      ],
      "text/plain": [
       "first_sum: Sum_{l=-2^{t - 1} + 1}^{-(e + 1)} |alpha_{l}|^{2}"
      ]
     },
     "execution_count": 18,
     "metadata": {},
     "output_type": "execute_result"
    }
   ],
   "source": [
    "first_sum = fail_sum_inst.rhs.terms[0]"
   ]
  },
  {
   "cell_type": "code",
   "execution_count": 19,
   "metadata": {},
   "outputs": [
    {
     "data": {
      "text/html": [
       "<strong id=\"second_sum\">second_sum:</strong> <a class=\"ProveItLink\" href=\"../../../__pv_it/theorems/c702c060ef4bb7e9413d2e570d5e3e5739c4463e0/expr.ipynb\"><img src=\"data:image/png;base64,iVBORw0KGgoAAAANSUhEUgAAAFoAAABCBAMAAAAlA9zHAAAAMFBMVEX///8yMjKqqqqIiIgQEBBE\n",
       "RESYmJjMzMzc3Ny6uroiIiJmZmZUVFR2dnbu7u4AAACz9PdfAAAAAXRSTlMAQObYZgAAAAlwSFlz\n",
       "AAAOxAAADsQBlSsOGwAAAkRJREFUSMdjYIACjg1QRusDBsKAzQBCs2sRo9pqE5TBRUj12zvnGLgY\n",
       "iFW9gWEXw0MGhu7du3dPIKz6J0N/gTYbsWbnAVV3Z0B9aXKJoB9vMZAA2NeRopqoGEHEI0cDCUaX\n",
       "V5NguP///wyjgCIg/x8BPuNQw3f3DDRS9P8XQEQ6bfy/4FDNzcC9AMLi+b8Anj/XK2BXzT+B4zuU\n",
       "uf4PwowAHNn8AVx1/f8EuPAOWFpDVgtKdbwwBzD//4EwBErzTkBSfROIq+BJL/4XhtXoqjni4Lwn\n",
       "/zcQUt3N0AHjcf7/REA1R3j5Pjj3/pcH+FWz/P//Ac5l/C9AwCUoEev/F4vqu3cKsKqGxz6y6q4J\n",
       "fB4cCthUc//3w1DtzMAQzfzgzQdM1QzrP6Or5gYq28jLwCSARXX/AnTVLMAkc+UeA/cFLKpNGtBV\n",
       "vwfWF/cVGLgmYKrm/I4RJvxA1VcYGN5j8WW9AoZqYOJl28/OoIglvJ2xxPzdNDvuywx7MVUz4k5V\n",
       "Kx9gqA7FnWI/GKCr5kaU90zoqjdjhEkKIviSCKYqpOBjcoDlPuR0Y44Sj/Dg49u/gVBZhQi+pvPo\n",
       "SRETMH4UBINVwFriF8FycD9SOfhttFogDfCdxyL4TACXckX0CgPYADFegEv1XlQuKzhl4VS9Eu6m\n",
       "a2YEVfN9YOAOBYIwhlcFPARVM8E9dIbjGkHVoIIIAryTHjBsDQ0JDU3ArZprHswlP4jwJT8zjBXE\n",
       "wEvYJZYw1mszO6hqjot/DYiLW1aSUgI3PkkAIAHHCVsSD7YAAAAASUVORK5CYII=\n",
       "\" style=\"display:inline;vertical-align:middle;\" /></a><br>"
      ],
      "text/plain": [
       "second_sum: Sum_{l=e + 1}^{2^{t - 1}} |alpha_{l}|^{2}"
      ]
     },
     "execution_count": 19,
     "metadata": {},
     "output_type": "execute_result"
    }
   ],
   "source": [
    "second_sum = fail_sum_inst.rhs.terms[1]"
   ]
  },
  {
   "cell_type": "code",
   "execution_count": 20,
   "metadata": {},
   "outputs": [
    {
     "data": {
      "text/html": [
       "<strong id=\"first_sum_bound\">first_sum_bound:</strong> <span style=\"font-size:20px;\"><a class=\"ProveItLink\" href=\"../../../__pv_it/theorems/f67ffeb951aaff9cc5f02f3801926b572b231a930/expr.ipynb\"><img src=\"data:image/png;base64,iVBORw0KGgoAAAANSUhEUgAAAKwAAAAYBAMAAACVRAuIAAAAMFBMVEX///8QEBAyMjKqqqpUVFRE\n",
       "RESYmJjc3NzMzMwiIiK6urpmZmaIiIh2dnbu7u4AAAAMEBwRAAAAAXRSTlMAQObYZgAAAAlwSFlz\n",
       "AAAOxAAADsQBlSsOGwAAAe1JREFUSMdjYCAZMBVAGXxJDFQE72GMnpPUNNYIzrIkTSPfKjyStZNu\n",
       "4De2uACHzkPr8FmqTMC1HK4PsIoz/2NgYN+t2oApU70pgoHhH25jIbpYHbAayzuBgaGUgfcXhgR7\n",
       "AMP9BVwCDByhQBCOxViILpB+HMa6MzAIYkiwFDAwCvA4vMDpWoguVGN5ImdOghsr/4DBHyPoGf8x\n",
       "sHznPnAPp7EQXSjGcuk8QHKtJwODP0bgskxgYPnBsQ0mXqt/B00BRBfYWL47p8HmFT1ADgQgmI8t\n",
       "gDg/EEic86H6VzZwXADx1eEy3ArgdPIHm67+A/hNBeniEQDG7jcGngUgAQW4VGEC2F1Yk8kUAo4F\n",
       "6WL/DExkf87cAlsjOXPmzKkgVokWWMFWbLq4A7DkSc2ZINCA0PVEmYEf6ig+uAaOraBQZsPq2BQC\n",
       "joXourSAgR8WWIhUAc4ltgzsmHmb+QJDOV5jwbpAuZQTGF8GIJEzKNkBGI08mFm7l4HhHN4IA+vi\n",
       "BUYZmwLDa7CzmAyQja3cvXsnpHQFRiXfJ2jmnb179wR8xkJ0gRPY2TRIMPC5rkMydv7//xCzODcA\n",
       "idnQaP7//78C3kQL1oWaebmuImVeSgCeooYGxoJyCSWAG3tAgXIJJeBhAnbxamdKTK0F6gYAv0eE\n",
       "w3ELTC0AAAAASUVORK5CYII=\n",
       "\" style=\"display:inline;vertical-align:middle;\" /></a> <a class=\"ProveItLink\" href=\"../../../__pv_it/_proof__fail_ineq_lemma/cb25c5c7d29d93c68cc757891788ab37d4ae2fc60/proof.ipynb\" style=\"text-decoration: none\">&nbsp;&#x22A2;&nbsp;&nbsp;</a><a class=\"ProveItLink\" href=\"../../../__pv_it/_proof__fail_ineq_lemma/608077bfbf90f4ebefc73d1d16fc4119299eaa0e0/expr.ipynb\"><img src=\"data:image/png;base64,iVBORw0KGgoAAAANSUhEUgAAAcYAAABLCAMAAADd5depAAAANlBMVEX///+/v7+urq7c3Nx2dnZE\n",
       "RESIiIgiIiLMzMyYmJju7u4QEBCqqqpUVFRmZma6uroyMjIAAABMl2BWAAAAAXRSTlMAQObYZgAA\n",
       "AAlwSFlzAAAOxAAADsQBlSsOGwAACOtJREFUeNrlXduyqygQdQbkfpH//9kTUYwXUJoQQtXmYawz\n",
       "GxPWWtLdNC0Zhq1Ndvh5Q1SU39wDgJ9TZXQPg8Plo+gDwI+pUlJ0MTjJC2/sBcBPqRLF9FVu1qGi\n",
       "+7oB8FOq9JT1xD9QTCoMTo9lt3UDoF27UMVcTnjAk50EX1g0FVy3UwV3dQSgYZRzpmrKeZbFxacG\n",
       "0IwQusxz/PngRloSpXYEoF07UaWynmVz6fSe1Gr9wOnzOIM5uGnrCkC7dqJqypoASyeBOeFJFrCq\n",
       "8IxJ+GTsCkDD6SjBzz/ydktQ9vKtSRZUBeeiwN6xMwDt2oEq7XIsifWYtR4QTj/MdqwwODcBb+gN\n",
       "QLu2o0q41NDZGNorUFf+EZaGq5kzM/9fOf+H71lgNVjQjsHWjL0BaLjmeFPF84zYAvCw5PySTbIO\n",
       "Fi92B6BlCmCjanR50ZkHOs6M4SQLpMoC2sGCnP4ANLSqcjNJmQu12TANwhBOxIkFhCeHydbn8wAM\n",
       "ZFU7BJC2CLTygmajiueasOvS+OJHRB3PQkBWtUMAqfSDmVxlGTeqtMvdpzMokQRJ9yhd1kJi1Q4B\n",
       "3LBeWcaNKumy78EPY+C1Nm4dBG2PAJrJGKjK9iy+80d/BmRlXD6fXQJoJ+NKlXIdrpQMIK/aJYB2\n",
       "Mq5UGddhUp8DpOkSQDsZV6om12EymAFWjl0CaCfjSpUEZr6+EoljrLU4+Lv8sKUHAD+UcaUqNyic\n",
       "XKJVSHvMcb+hx/grW5seAPxQxoUqlPvcK3eiViBLtHROVhiJnQey/3SabSm7APBLGT1VKjtc1y7W\n",
       "ldMKromLs4xT9hzpAsAvZfRUkfyECXUuVuFqcoJK9PgXTI+U42ximgCo1LCrnibyVOH80J69rFKs\n",
       "GDQngYXtw19OOWPjdDYxTQDUYfxlwydduaDWU6WdBlgEF32Y+OcyolGcxJmyH8YmAPptnqrRAfZJ\n",
       "R+do4Xfdy4heg0DoMLbkF6kJHcfUBEDPMtLZQQJYEK+4znxBRjQyxow4zJtE/MipEScP3wRAz0tR\n",
       "Obt9SCrLvqySqi+j9Ou3g1rxZQShlz2KRgD6bZ4qCctI4tcyS1SXMTG2S66HklgSpwmA7mWEJTEm\n",
       "By4/3IuFMdYsQ0Z1kVEYGo1EGgHot6lFRliYNnsXXCojonb+BDQgBZRR6ClhCxsB6FxGB2ThmtMC\n",
       "yCiXqiUzEPESxt3IaM+zMSljIwD9NrvICPX4psS7eLHMIo2ZfIGhmm5kZJeEN0oY1UYA+m2eKuf+\n",
       "h95HCzYFvFhyybdg6cNNg29k/C+ybxEPcRoBGFxX7UxVQfyNCpbQs1hiJQ8vX0ktaDamFhyNAHQ/\n",
       "G8EsEImKZByCjH5lL9xwL2Pm8r8RgD7aZX89UAUN9GaXWhAgLL7RG1X+cpFsc425Ic4uRJnYJ5Fq\n",
       "IYA+2nV/faUKzAIryoIsYmHM58J7M9fZr64RLuOHC45CAH206/76ShUFL7uKah6uYlErqsjYCEAn\n",
       "GRuRkHGCJkFqpcbdenpJavmfW1rRCEA/DdMIVSMspTEW7pRfxTLkLlLlp2BS0F07PI2NADxGv4Ud\n",
       "J5TTedfp8k6Wp0qDNm5M9L0uVSLj/V8IYNu4CYCn4FeVdRQJ34HMJEc02NXS2M3inPfXV6oMYPN8\n",
       "4NFInWdAIAz2l/zSjEYAwlyIPzNqTWXQpyB46YiMmUY2vFNZV/wv6eaVRTgzJFwv++srVYBSlkSk\n",
       "rr5RIGiy51hbADT6zIhpM3AP8dW0zCg/bjsgTCccFX5bHIZzepbrdX99pYrnb9tEjwET5ivb6WN2\n",
       "4NIUAInLaEKwbB7GsnTUfjrJ+elJJfxJ+B5u9tfr/vpKlc0OCSOROlL6S9sF+S9mtATA+BSVcRsB\n",
       "fXj45LrUFd6pv9RMla2KDX/I4iez+Z6q7KLrV/dp3yhdHo3v5CfzX8xoCQAPURk3B4ceRr121HSJ\n",
       "zdhgZdocBWvKj9cEVS6zANakku1fqQ4EvG7cDgBBcRlDQurRNRp8yFt42ymi7lpvb22GQ4yT5z4v\n",
       "VFHX4RHdCPBiRTMA6KV3VMZtojydBbufUf6ANEOi77HPp4KGk7fWE0K3a4Iq7TostrWAeplmAOap\n",
       "FJWRbn7swTVSdYp5meEspsx8ptZqoEMcnYqnV6pIj4WbkBNVWgHg6CCjeD9p0oYJht4ri1jWSb7t\n",
       "xvXFkfcH+knNVhmZGw7XBFW2x0IxDdiFaAQA+Zm2m43UnNUhT57gLSOPzOrtA715CbKFKCgVDa1U\n",
       "QV7sbdYo4P2xRgCsnpuTGidt5agfjvLYjKpP5iCUAsR2vnA7zI7eU0UL3tVCZzt2TfV90gTo1dGW\n",
       "AGTMN45km0X3viB0ZL4bSX2jlzEkBvh4vKaowu8QIRQdJukNNQT85MuZiqWcBS80dwqSJ90DeELw\n",
       "MYBo5i+sBZwV9zHO2hFRM7fkenXeVVf6tEgx+J4qu+NM3fMeaggINWfftWPhcg77V13jEcADgg8B\n",
       "mNE5fVWK0ZAwewjM1o50Wa+mR4oJ2T5prTzbrkmqdod1PYxjqyG4yrNj4Xq6JTyHU9z9HsGXANDc\n",
       "lBMFJy4RPV7T2M07hUTvV9KhhmBN1Jul2doyMgf7uakdgAcEXwLAc5c8HLw2Cll3w5+oep+Qu2xi\n",
       "mu1k59itcw2BMpcXdGvKSIBFT7sjfj2C9gCyT2GFHteKxuP1jiop81zjYt7nB9rw43AYke9fPvhY\n",
       "xgm6g7kByEDwFQDZx7BCz2sNsqfk31NFQlYy4lgOh64/xuWJc9ihNhWDp69NusY2ABCp3XEBho7X\n",
       "e6qCgV2KDm9sUqSGIPIEfTgbNfzsmM1DeAS/BtAy2yUOK6/lX+7hJ9NiNQTVWRAO/nuaAcATgiYA\n",
       "2rUTVWKdm6HoMB3ZX2sI0iy8z2EHWkhUgCcsku8RNAHQrp2pqnoG1oeVoNIUAeoHQLt2oYpWfI/a\n",
       "fPiEFQnSD4CWk/FMlXKdvCsmCjeBuwHwW6pMJ5ZEl47DjH9NxihVtItaDlv+Vj79Y79RHaeKdXGs\n",
       "AS0vj2J/7BfjE1TZDpyL+KTIzf4p73ig6h8upX4iKbcY1AAAAABJRU5ErkJggg==\n",
       "\" style=\"display:inline;vertical-align:middle;\" /></a></span><br>"
      ],
      "text/plain": [
       "first_sum_bound: {e in {2 .. 2^{t - 1} - 2}} |- (Sum_{l=-2^{t - 1} + 1}^{-(e + 1)} |alpha_{l}|^{2}) <= (Sum_{l=-2^{t - 1} + 1}^{-(e + 1)} (1 / (4 * (l - (2^{t} * delta))^{2})))"
      ]
     },
     "execution_count": 20,
     "metadata": {},
     "output_type": "execute_result"
    }
   ],
   "source": [
    "first_sum_bound = first_sum.deduce_bound(_alpha_l_sqrd_ineq)"
   ]
  },
  {
   "cell_type": "code",
   "execution_count": 21,
   "metadata": {},
   "outputs": [
    {
     "data": {
      "text/html": [
       "<strong id=\"second_sum_bound\">second_sum_bound:</strong> <span style=\"font-size:20px;\"><a class=\"ProveItLink\" href=\"../../../__pv_it/theorems/f67ffeb951aaff9cc5f02f3801926b572b231a930/expr.ipynb\"><img src=\"data:image/png;base64,iVBORw0KGgoAAAANSUhEUgAAAKwAAAAYBAMAAACVRAuIAAAAMFBMVEX///8QEBAyMjKqqqpUVFRE\n",
       "RESYmJjc3NzMzMwiIiK6urpmZmaIiIh2dnbu7u4AAAAMEBwRAAAAAXRSTlMAQObYZgAAAAlwSFlz\n",
       "AAAOxAAADsQBlSsOGwAAAe1JREFUSMdjYCAZMBVAGXxJDFQE72GMnpPUNNYIzrIkTSPfKjyStZNu\n",
       "4De2uACHzkPr8FmqTMC1HK4PsIoz/2NgYN+t2oApU70pgoHhH25jIbpYHbAayzuBgaGUgfcXhgR7\n",
       "AMP9BVwCDByhQBCOxViILpB+HMa6MzAIYkiwFDAwCvA4vMDpWoguVGN5ImdOghsr/4DBHyPoGf8x\n",
       "sHznPnAPp7EQXSjGcuk8QHKtJwODP0bgskxgYPnBsQ0mXqt/B00BRBfYWL47p8HmFT1ADgQgmI8t\n",
       "gDg/EEic86H6VzZwXADx1eEy3ArgdPIHm67+A/hNBeniEQDG7jcGngUgAQW4VGEC2F1Yk8kUAo4F\n",
       "6WL/DExkf87cAlsjOXPmzKkgVokWWMFWbLq4A7DkSc2ZINCA0PVEmYEf6ig+uAaOraBQZsPq2BQC\n",
       "joXourSAgR8WWIhUAc4ltgzsmHmb+QJDOV5jwbpAuZQTGF8GIJEzKNkBGI08mFm7l4HhHN4IA+vi\n",
       "BUYZmwLDa7CzmAyQja3cvXsnpHQFRiXfJ2jmnb179wR8xkJ0gRPY2TRIMPC5rkMydv7//xCzODcA\n",
       "idnQaP7//78C3kQL1oWaebmuImVeSgCeooYGxoJyCSWAG3tAgXIJJeBhAnbxamdKTK0F6gYAv0eE\n",
       "w3ELTC0AAAAASUVORK5CYII=\n",
       "\" style=\"display:inline;vertical-align:middle;\" /></a> <a class=\"ProveItLink\" href=\"../../../__pv_it/_proof__fail_ineq_lemma/80563e90e6652479a7a70ba2b07cc73516f47c590/proof.ipynb\" style=\"text-decoration: none\">&nbsp;&#x22A2;&nbsp;&nbsp;</a><a class=\"ProveItLink\" href=\"../../../__pv_it/_proof__fail_ineq_lemma/6086175f3be226e74302a4c9a129d43e523ff8980/expr.ipynb\"><img src=\"data:image/png;base64,iVBORw0KGgoAAAANSUhEUgAAAXkAAABLCAMAAACiGAcdAAAANlBMVEX///+/v7+urq7c3Nx2dnZE\n",
       "RESIiIgiIiLMzMyYmJju7u4QEBCqqqpUVFRmZma6uroyMjIAAABMl2BWAAAAAXRSTlMAQObYZgAA\n",
       "AAlwSFlzAAAOxAAADsQBlSsOGwAACI5JREFUeNrdne26o6wOht0b5EtAOP+TfRXFqgQBFVY7/PGa\n",
       "VWofbkMIAZyu24oZu3oFUXH/y1WVNSwRCFpV/VV8//aVlTUsIAQ5iLq/OvCbX6yurGEBIAgIDNLn\n",
       "P/T3IYwW3foeqOxdae0KAEEZoB4nx38z+cRbq/7e1yBlL0trVwIIzAKDGKFanv70pHnIyhvfApW9\n",
       "La3hIHuGYPaGJTBWam4HDb74qHk9vRPXHEy+lrR25QRBHgxrdqF6qiDM4lGXMj5uHrOkfHg9mnwt\n",
       "ae3KCYI5PIi5sciyTuqOv2pY/VBu8kcTqSatodEP8efAxdI8pPlxJGZkwPLBj8piT3/uJtWktSsH\n",
       "CMoG9oJpjV+1pjQUCJVVktau7CAIG8R7rE7fVZO5FsXyobJa0hoGlh8IPHACtaYlo8VF9UNlPzJj\n",
       "yoTQn7v0PEFEqEpPKxtjA2UVpTV0N8PWpenZrBhjuopp9UXuJlBWU1p0kH/du20Q+NkFDHYuVZpB\n",
       "itxNoKymNPjZK22sqAVB2Xbpb1YU3bRUdsFJ1IIwNLShzpa0o6myduQ9hNCZ1iymwIzbKmtIfoUg\n",
       "bd+wHbogd9NWWUPyKwRdGGM/K7yAZltlDcmvEIxtme9gBRF9W2UNya8QhsIZfVlU5vPpH9+dP2pW\n",
       "VfaX5FcIULRhbKSUJth9Pn0/rmfjBOOg16T9IfkFAoKMUNoTIIFGoqZpTGmC3efTP4VmuxBQ2XvS\n",
       "/pK8gyDB0E1Z6M+clnpen0/f22yuccLKXpP2l+QdBALPKqm10K4cHUQm8eyV/+SYT1fZAUtEWb60\n",
       "dwq27yfoHAQMh3ls6tTQPhd9loGjM6P1k1PGSVuV3eS+eyTtFUaTIzOKv3xXB0FFSJCpfVBTeCH5\n",
       "cz4dZ2duYsqypX1vcRB6q+FPe5s1eU+QD/LpOH5XadBRQERZrrRvJk9nZx9pn5jiBf2UfJhPJ7Eg\n",
       "hNNT3j2qLFfa9xYHgUZHvHHq1PIh+TCfzuGpFKFYBCNpdCzOk/a9xUEY4u3DU5AsHnob+EeDmS4l\n",
       "0BQWd4+kfT15chF2podDzxdjrFgGeRmQF5pyOHlAukfSvrfIhXw8JJj9Kc4ij+g4V0cdkoXkhTIy\n",
       "lra5CFZypH05eXvVvmCqHiM/OPPsdUfExNJekB/PNh8lf6ksR9r3lnEhLy9D/pQ/dXz1QlObDrvo\n",
       "8II8s+EeE9jbJAZR/cOu3kGw9v/XuZ1EnsXxHZbZJh5cgKLxBfn/ARlIeIRNKEtL6+xXlTOEhGWh\n",
       "1Jxl5itWBHi5Fx2LbD4WVaYCR/S70ymWQZ4MKMPPe/JukiRsd00+cyaVIp+U9h0lWBzyEC4jiGko\n",
       "SI1ii5933oZP7p5tbj53hN1nD1h2bJMj7TtKuDi0QrhsH0vPFBe+GHM+hTUak83Nl5MviSpzpH1H\n",
       "CReHVgj0Mp5Pr2KEfOkoXiFPr+N58hvggcWhFcLVGpG5lTGzHbmcSeUu212uXpmfypidD1s4CH18\n",
       "KtjnrPKEfDUZL/M2RxWC7srBMi6U5UlLFXSvnkFZtXe1gu3IDoKK5ls1uH1ZPsyYkYKVkahd50lL\n",
       "FCJv1RMxb4m0GXrUjWtPHbceGx62cBCiq3McDNr4WS6JRhjwJzh7k1l83TBTmrc4+AFKvPiBVIi0\n",
       "1ENam551nxk60LKJ9hw+knV48lfgsIWDECMBB23y8d4Knb2mEX1GhdIo+ACF8R0/EY4vJ297J2js\n",
       "EKYGw89qC9qN2F+hwxYOAod7P3hUXujnS0F99q6PiLJSaQQmr1eL1Annt9RTzmaH+eHGEnwd8b/D\n",
       "9f4KHbZwEEYw1gCCNiTVG+nB/M2SsLJSaYwbkLy/N00YwrDOLYQbeaYHEN1+I7aW+UxeNKPnIMA7\n",
       "uYw1+0Lp8uReyJTkb5aElZVKwx1I3ntrlJCz1lN0GfNZNw4X3dm7GX68RiBAOyh0LN/2fGNFwaER\n",
       "cG9HoTSCYPJ+op1y8xof5nbOpwjwYUm17ff3r26KvsdqgUCbHkZCBfsfX1CGpucBkvfmmHrpzt5s\n",
       "3asANOkwZDvcfE6sc9MdrhEIyrbcITQWLJ++oGy2WJA8XX1yKglB5SlIYpozECaap6bsEGbFwq0V\n",
       "Amm6daXkWOZzZe61FB/y4vPYh3Xr4cehCQNNpodPtws3bu7u5/oOW8kz2x2uEQhj00V8VZBifKwM\n",
       "OYPe2TzVJ6Ik5fs+5DnQdT73c93Tk/ajcGw0XiGIlid7J9+dv3b6WNmo5mIHhWNepJ/Gyzxv46ay\n",
       "0XP/wlm79+uSHq8xCHTX41ReWwW/aY2i6IDBTtkDaQPk53viTfXa+631OuaqkehjcuT9JIv3x2sM\n",
       "At4NZPKSqO9bjJCbgb20JW/93Cu7Lw1MQqwBnx1FYoF/qYeoe21XvNXzkpBUp1BU42sI446GvrSA\n",
       "TxPkTfKqaCVpr+yuNN1bq0K6jK4T/MSAv9ajy5zh4uFjQrZbrVsAtmsUwu6Qe1hXYO6Tbi+QLzxP\n",
       "v6/+sjSaOZWm5fkSRI/XeKv0NoN2uWfd+8LnhYvpM/UWeWbLXjH8Ufa6NJ4ZsfLyyHZLxvEUhM9L\n",
       "hkJfqlSH8Gs2TwqXrXevP3pdWo/erfcx+f54vYIwDFFfOmguhbe2YbW22+RNaXp/U/a+NNG/Wy94\n",
       "VLFHtodA7DYkiFOXPiStnto8K97+uymrIA2Rd+t9cnSH6zUE73n8toFdi+Sa/XiDvCo/Wrr5xMrS\n",
       "Ws7ixSFwXv7ltw3s+pomfJs/+OYhbCwu3+8ibPkr/L2yytLalRMEkecGHm61IDfO9GYq6/ruR8oZ\n",
       "Qt4R84epw0HfUprloX5m41MAgeIGT/vWQQP6u4dysiBIW3tLtLi5zlFfWVMvH0LQtT2luvsDuv93\n",
       "yIMQaN1FwfH+oSbK/xXwMARW97wXvb+azf6Z/9YoAmGs6U/Fk20E4z/i6Q8Q/gPCEXZQ+XU49AAA\n",
       "AABJRU5ErkJggg==\n",
       "\" style=\"display:inline;vertical-align:middle;\" /></a></span><br>"
      ],
      "text/plain": [
       "second_sum_bound: {e in {2 .. 2^{t - 1} - 2}} |- (Sum_{l=e + 1}^{2^{t - 1}} |alpha_{l}|^{2}) <= (Sum_{l=e + 1}^{2^{t - 1}} (1 / (4 * (l - (2^{t} * delta))^{2})))"
      ]
     },
     "execution_count": 21,
     "metadata": {},
     "output_type": "execute_result"
    }
   ],
   "source": [
    "second_sum_bound = second_sum.deduce_bound(_alpha_l_sqrd_ineq)"
   ]
  },
  {
   "cell_type": "markdown",
   "metadata": {},
   "source": [
    "## Bound the sum of summations by the bound of the sum and simplify"
   ]
  },
  {
   "cell_type": "code",
   "execution_count": 22,
   "metadata": {},
   "outputs": [
    {
     "data": {
      "text/html": [
       "<strong id=\"bound_rhs\">bound_rhs:</strong> <span style=\"font-size:20px;\"><a class=\"ProveItLink\" href=\"../../../__pv_it/theorems/f67ffeb951aaff9cc5f02f3801926b572b231a930/expr.ipynb\"><img src=\"data:image/png;base64,iVBORw0KGgoAAAANSUhEUgAAAKwAAAAYBAMAAACVRAuIAAAAMFBMVEX///8QEBAyMjKqqqpUVFRE\n",
       "RESYmJjc3NzMzMwiIiK6urpmZmaIiIh2dnbu7u4AAAAMEBwRAAAAAXRSTlMAQObYZgAAAAlwSFlz\n",
       "AAAOxAAADsQBlSsOGwAAAe1JREFUSMdjYCAZMBVAGXxJDFQE72GMnpPUNNYIzrIkTSPfKjyStZNu\n",
       "4De2uACHzkPr8FmqTMC1HK4PsIoz/2NgYN+t2oApU70pgoHhH25jIbpYHbAayzuBgaGUgfcXhgR7\n",
       "AMP9BVwCDByhQBCOxViILpB+HMa6MzAIYkiwFDAwCvA4vMDpWoguVGN5ImdOghsr/4DBHyPoGf8x\n",
       "sHznPnAPp7EQXSjGcuk8QHKtJwODP0bgskxgYPnBsQ0mXqt/B00BRBfYWL47p8HmFT1ADgQgmI8t\n",
       "gDg/EEic86H6VzZwXADx1eEy3ArgdPIHm67+A/hNBeniEQDG7jcGngUgAQW4VGEC2F1Yk8kUAo4F\n",
       "6WL/DExkf87cAlsjOXPmzKkgVokWWMFWbLq4A7DkSc2ZINCA0PVEmYEf6ig+uAaOraBQZsPq2BQC\n",
       "joXourSAgR8WWIhUAc4ltgzsmHmb+QJDOV5jwbpAuZQTGF8GIJEzKNkBGI08mFm7l4HhHN4IA+vi\n",
       "BUYZmwLDa7CzmAyQja3cvXsnpHQFRiXfJ2jmnb179wR8xkJ0gRPY2TRIMPC5rkMydv7//xCzODcA\n",
       "idnQaP7//78C3kQL1oWaebmuImVeSgCeooYGxoJyCSWAG3tAgXIJJeBhAnbxamdKTK0F6gYAv0eE\n",
       "w3ELTC0AAAAASUVORK5CYII=\n",
       "\" style=\"display:inline;vertical-align:middle;\" /></a> <a class=\"ProveItLink\" href=\"../../../__pv_it/_proof__fail_ineq_lemma/b30a3022ac71aa2b6165a7401b1e880120fac6bd0/proof.ipynb\" style=\"text-decoration: none\">&nbsp;&#x22A2;&nbsp;&nbsp;</a><a class=\"ProveItLink\" href=\"../../../__pv_it/_proof__fail_ineq_lemma/3b4e617e6675770934dd622de88ea68ac4669ad70/expr.ipynb\"><img src=\"data:image/png;base64,iVBORw0KGgoAAAANSUhEUgAAA6oAAABMBAMAAACWp1cvAAAAMFBMVEX////c3Nx2dnZERESIiIgi\n",
       "IiLMzMyYmJju7u4QEBCqqqpUVFRmZma6uroyMjIAAADVePneAAAAAXRSTlMAQObYZgAAAAlwSFlz\n",
       "AAAOxAAADsQBlSsOGwAAEhJJREFUeNq9XXuMXUUZn3v3vu/dvVcKMTHE3hAqxmbtNhUU/aOL4Skx\n",
       "uzEu8mjdjTyMhmQvsQhRpFdQCeGxK2goAbMrgUSCoav4AGvYtaUp0aVdkQQIf+yqIYoo3S5lu31s\n",
       "jzPnnJkzM+c7M3PmnLtfMu2vc26/8zvfd+abb+bMmYMQkf8hXxiwlczVqqM9c7GUndWWASzp0bcT\n",
       "Nb01IMWszpu/NiUDe9moOviXeLqyUzIAJU36VqKktyakNgLmf7otA3spt6KPVXbFVPZICECSJn07\n",
       "ecSEXSeFWT0wf+kRGSSQ7iPRx+5txVQ235ABIKnStxMFvbUhxawemL+6IINAfi79O6c9wXPRh14M\n",
       "4Nm0I/iMSle1TwbQjxT0K4249K1EQY8jZXbNdvJcCIzOyYBJUai5BzOc0elfPxl1pLAa4B3+399U\n",
       "ZleZEzIAREEffS82fbts5YSenek12wmzOgPvIRkwuY/1+cQrFw8i9KpOf9dgZAYc3La5bfTk6is8\n",
       "PwTCoqBfmopN307O17MzvmYrYVanoEKbUGU19ONX2P9yf4D/R4+u8y8cjTqy27ttS+fsaSPmevUV\n",
       "jvbLIBxkFfRrc7Hp20kkPZ9UnGu2EmZ1Cnro2XrCrQzXlM67jDdLdlJ3ggujDrxN201tsLSAMrOz\n",
       "s6/orrBrXAbhCKCgn7egb9dUxtXs4lyznVwoAUV7yOCY+cORKm+WirZn2j2pvp3qc5nlykzL6L6t\n",
       "nJBBrOb8UQv6VhJJzycV55rthFndB9M0KE2HolM3zu32ZM7jzdLdp9NfX4jIBlf8DKydWc4c8JPT\n",
       "Gx5SN57TISCLgj76mwV9OzmtZhfrmq2EWd0DpfdpavE+96Prt2BpVHC28fh32mjflgu3bGm5Zilo\n",
       "zVJdhuvH2P/MDhqTnR6RgZwQgfQLhP5m9IwFfTuJoBeQinHNdoOrZQEUafAohqMIscERMd3Qh7Du\n",
       "Jbh+J7tDbzRPWeabMpDHXgr66HoL+pbzEE01uzjXbDcPsSSArhXa468gKFv6LMryZsn1a09wHK7e\n",
       "2rYYhdfHZSDnKSr6eRv6dgFwXM2uEzMPEVZ3wRgNDWNAjNiM0P2XXe6bJfPJpX7U1dDq3wpGo9IH\n",
       "wRzLh8yTy2UZyHFdRR+TjU/fLgleVrOLc812wqzugp00duwEgsirwniVyN16/QNgNCrSEJG54KaX\n",
       "jbnmlmQgx3UV/e6mBX2hC7o6Lk+YXaxrFsQ4cjOru2CajtSngYeftQY3OePKnwyG5GASXKWTBGXH\n",
       "WTQ362kZyGmKij5jG4c+P7V2cCUuT5hdrGvmA9wfD5t6lVndBRO0egL67cflFmfw3LsOmqJsdVnI\n",
       "actAFDX9bDs+faEJrsTmCbOzlgFTrzKrE8C6u6DfE24Wzb/B+ZRVZRcTTw7PyQDurWH6qB2fvp1X\n",
       "QXoRpDriVWZ1Aip0RFV5P61+uwbOBO+2Gyke6peBOKmTPn07r4L0UiBl7FVmdQJqtJuvLaVliiJ4\n",
       "LYeaVsp29slAvJb06dt5FaSXAiljrzKrE9BDx8k9J9IyRQEcsB6etFI2Oi4DMe6kT9/OqyC9FEgZ\n",
       "e5VZnYAyHWiVl9MyRckBE4cRK2VjizIQc7D06dt5FaSXAiljrzKrEyCkTqF7zeFEOyvjPkR088ER\n",
       "ZZJopPWujc97tKhh6svazC8Z/WReBekFpKypGHs1sDoG6+k9th642SqOz/X7r73gjGv7a1Tz8txh\n",
       "INhmnHhaZ9B+9+88DWJ5MJqlSD+ZV0F6ASlrKuZeZVbHYDcdcOyGRh7TQWp+q7aPIA8RvS4UuBkr\n",
       "H8TTuorWu/deD03teuDMOj36ybwK0uNI2VIx9yqzOgYDdEpiAJoRyjvBGuV92iys7Xt1Gkh3c6fj\n",
       "ab3d92qVppFVMJ9MkX4yr4L0OFK2VMy9yqyOwSaakW+CUvOCcywIsKGJ8Qz/D3LUf4h4CFiunn1f\n",
       "o7UhK97gHT9Jf3gSupQk9A0ke8R4kH5Sxc6eyibj3zKrYzBN8TT45sCAE2gNrdHO8vMpvYhNRW8C\n",
       "2k31pEZrr6TYn1jP0jaeBWdak9A3aIAvnP69qf9Pq9hZU9kz8a7pj5nVMdg642MGBOlyFBN9slfp\n",
       "Q8RN0EOxUxqtslfXeXdIlvZHWXD2LQn9VAWkx5PqOBVmdQwO0xMfBs1Smjhl7lX6EHEASPJ6Tmm0\n",
       "Sl7NzGTceztHB9c5YW7j2YbE2oJ+uiNbaOqFJ9VxKszqGAzTPna4Cf523pk09Sp7iLiTJfTdLHzk\n",
       "lzRaJa+uu+lmt7EW6YioyM9t3PqyzNqCfqrC0Xs9GGw015AKszoGE/TEE7BZss4uU6+yh4iBVyts\n",
       "jFNe0miVvDrhOCjSq5ewB4RJ6HfKq08iBJHqNBXBq9TuExEzHodPG0dgNkyDvHpUo7UXVlxxZIBK\n",
       "GwKqSeinKhXQq/1rSIVZHYMJGiMnInKte52myqvZc35n5tVjGq29nC6lV0v7OaZJ6K+BV1trSIX3\n",
       "qkNP7LSi6C4rvJrZju5tfETy6jzg1foxjdZeThfn1W5HAqUX+e4pCf1UpRvyqkiqw1SY1TFgXXhk\n",
       "X37oeDvaq+V+1DVzeWla8OroCuDVExqtvZwuzqsF+lSAAdGrCeinKoXg6cWTYXZrQYVZHYPb6Ilu\n",
       "izpjPvIZAzb+IYRqC030rODVe7xbtDY0dM1Ph4a8kXjxdo3WXk4X59XSbTLI8BE4CX3kpCMCvf1D\n",
       "Q48ODV0HkgpRqadDYJG3ugscakAnaqFW5gNFBH4Y//lQG+3Vt9VVjdZeTpeyrQrZUhL6a9BW59aQ\n",
       "Ct9W9SEs9+Nor5ZwZpvFsXV77Agc0trL6VJ7lR/ZJKG/5hG4s1TieXV+RNFWiSfGUWlR9Oqi3qsh\n",
       "rb2cLsGrMhBmIZLQT0HYQgGeXqRXO0GFri7grD5qMLIpnFCNV/chdMfiSGVBmwNLI5uw1l5OlyoH\n",
       "9mcMRwxHNoUTnWwfbKEAnAOLpDpCha4uEHNg/YCvX+XV7Hk72nv7a824Xg1r7eV06b1qPl7t76RX\n",
       "2UIBE692hApdXSB6dZieeDjCLP9F+rml/Btar+aPabT2crrMvZqEfhrzhG2lV0VSHaFyO+hVfl0E\n",
       "JF19Bl6t58S5JfbMJpjdF1eAAFp7OV383NJxGYgTggnopyL0bWOO3uthdp2kskG2OgZb6SzWVng6\n",
       "a3+QeU5GerX2RcGrO6Hnq0sarb2cLs6rxQ8kUBpyZURibUE/NAZS1P09XO0dou+sFcHnq814VBrR\n",
       "dT2NcLVbxV7bY1bHYHrGxwyIISZIxovRXpVmDKE1RNVTGq0Rs/tsvVMOXguRgL4sX4iuK/ErGM9+\n",
       "Z3M3boSkBG8bg/R4UgZUcpPRdWP8PXXw4cZr+G9S6OoCcQkXv9pFPS54OnxGPlO/NIDQGiJhXQ+k\n",
       "9VJYMVvvlIXf80hAn8jNAaw0UXZYGnvguszsP0dQhb9Pm93PI7LdDynsbWOQHk8qgkqBc/wTOJzK\n",
       "U8W47uyDFyAy4xbYBL3VzuG+jRS6ukBcwqVezsVt5Xa/+aP8Q0C74a86jtbaKRkIkpT+dQF8kAQv\n",
       "6TCuW4eyq5kN/+DcTQaIZDcuXIK3jUF6HKkoKvnA8SV86xSlZc1kkybspLkzvvoxLu6R5vlvr9DV\n",
       "BZzVMdhJ78KdC6pxQeaZGA8ctgKZS/G0ndauozIQJCH9HOfVA7gclI7jul8h9Cjq4WPjleRyZtwS\n",
       "vG0M0uNIRVG5JPBqrUUmwqWbuoWqDVQeR//hWZP/c4dX6OoCzuoYzNPMaR5aUX74PVfevsZxYiym\n",
       "gl6U6j5up1XzelRC+l9/N8BEwZel47huoo2mG/U2VzlGLm+XX5CKHkcqgkrhzsCrZdJ0pQaB68or\n",
       "qHoE8QuTS+Rc5bZXwlbHQPlKQ41/MmC+3BF6UYp7IyOWVs3rUQnpNwOvkq4zI52D1P2WbKb0phA+\n",
       "iIX/5RekoheQiqKS7Qm8SrrO9ZLpcF11EFWXu4WblmyH09PyStjqGNTpOua68YJmrYBv0zt2u6co\n",
       "X49CCennGoFXyZyW3KvVvJHJMLqyFFi78geSImxE4m70ID09qYs4r+4FOva9Xue7mJv6UVD5DHnD\n",
       "m2wLL2wNz++1kKdPyPKraTk1A84XDM9ZKVs/LgNBktH/MAq8Su57efdmry0UjqKXuA0m7nS3sbsT\n",
       "eQWp6GlJZVqcV0nTl/fM9sLBaH+tP9iho7hANg8sLnglZHUCqnQmr3osLa92wyPLlpWy+QUZiMPg\n",
       "RPSbnFfzuFsqS71aftJPU2/+dmC9I2j3iDc6eRriCbKLnJlCnFevxeUn0g+u9TP1woEgWKxvVHC4\n",
       "r4x7JWR1AnI0zc6ltggZ3ntoYMZKmbiNUPhcSegXG55Xx4hHyjiWjLq9xIPu5NVVfh33slOJGA63\n",
       "51Fs4VHkFaSipyV1i+dVVzH6GQ4LR0QCpA53BH08AdyeC9irhUWvhKxOgODidKR6Qtno4sn0pAzg\n",
       "uGBD/0zkeTU/43vwCjlVI14tBq1pG+krW6433/QLUtHTkcr0+211m+/BnBzHXa9+VyCAjrneJPkT\n",
       "n0MxqxMgvHiejuTBvGbMbr+l4bYMxFF6Evpv7dlz/Nd8tP1cCYjAT6AMn+iNjbj96VN+QSp6OlLd\n",
       "e/ZMP9bkom3XVDscgStNYbu80rLbn7p7bQ4CVnfBMKU8HJWkZmjsXNc2MtYYnNe4weU+wLf3KFpx\n",
       "6bgMZK9r6Su/TfFYMF7BfeqxrDQFgusKTZTjr7s+4s4IfMsvanouKbJqMnRdNNMqB5HgUyQQSIEc\n",
       "16GvIXQ5X7fsTooU+7wSsroLNtEsxgUyA7KAoujnEIWn2kae2A1OyWaP0REgP3RA/lcOoqRyUgby\n",
       "pJySvrsCBfg2BaMfzGOSUcLqDyTOuO6s2dn9Ql0/2TXZHXLsBXhC7J4VK0kjueESepMEjsEDpfob\n",
       "Ur6G6zLbZmcFC51L9j12R121JmB1F8zTf3kgxGA/uuTPtLm1jTwR0QOe5EaArDG4Fhk06KOrEctD\n",
       "1PTJChTp2xQC/X3Ob9gsD666Q2oppG7YccTe8dzPkz+3+0VNzyO1V6x0/ehH79rWk8yPN+LGJ/2U\n",
       "1OUdxxHaQvZiQjM/5xU4AWH7C3pAUksWUOSR4FWtJyYU1YyH9JWDyKmlRRmofyDRd1egiN+miDzl\n",
       "Vciszovmg15BanpeNfP+XTtakleFPmrErM6Ts/wSsroLanSqywPbxf9LFlA8iLum2dnZOUOvFiJi\n",
       "5SFCcAzVyObpn5a/chAlo1MykGcFlfTJChTp2xSRp7wDmdV5Z2t5BanpuaRKi2gfuehW6So0pfBq\n",
       "ccaszpMDfpGt7gFxa2/GgP18A/plMVZbzUXFyiYfIaWvHEQOVydlIAd2mb5/17BwNSh9myLylNCG\n",
       "0JGbRK/zC1LTc0mxXKI6dYaqrZI9to3q3GDR55WQ1X3wKD3waDibcRdQnH2LD6/4hIlXeyK2EyqP\n",
       "8xFS+spBlLwTArKo6aMb29K3KSLpl/rM6pixN0M8AXYslygf+AW56R4mNx3k1bsN6+j9xt9zzOo+\n",
       "GKBdHQGMgf+VidBoRu+J0WZEGyaTotvbfls6YpQtFZZkEG7NIH3/Ix+h0YyK/pmGdeRaGl5BOnqE\n",
       "VP4NP/7VG6FsSZ6UMKojcpFfQlb3QZ12CQQwBmysmpGDkM4T01GjWhLwFylJ6SsHUSnwigxCItMX\n",
       "I3B4v3tt0LeaTltRsKvTL0l2TaKmyqtJRP6sT5YyIqAufcsyWEBhapbSyagjm7Cml2jLkr5yEDWh\n",
       "MSWD8DhYRR/Y774jXo2kR0iRVZOeaV7a0fa9esbhc1MlwKxOQYlGDwIYA5omO6FJL40ncpHPFMfC\n",
       "oblLQ3agIYPw9ajoA/vd624kK4mkVwJCcyfWBTOrM8A2VTPbXU3jiXJkLg5sH1fTnOvxEAAsmip9\n",
       "O3lcz06cW0pbmNUZyDdloBSNJxS2/VLsO3Al+oYIBuqp0rdrKSt6dp2V8K1dOSKDJAFe8aB4d9xF\n",
       "LmMtGQCSKn3LbrWlZ9dRYVbnzL8vBBJkg4peoxa3Rwl/rRuSNOnbyXMm7Dop0Afg8y0Z2Mubqs7t\n",
       "K/F0de+SARzkUqRvJUp6a0KKWZ0zf2GXDOxlu+rgN9qxdLFHAXnlSrY06VuJkt6akNoOmf+vIWAd\n",
       "4JX2747XsT4QArCkR99OHjBj18FudU4E/wdtwvFGIJl2fQAAAABJRU5ErkJggg==\n",
       "\" style=\"display:inline;vertical-align:middle;\" /></a></span><br>"
      ],
      "text/plain": [
       "bound_rhs: {e in {2 .. 2^{t - 1} - 2}} |- ((Sum_{l=-2^{t - 1} + 1}^{-(e + 1)} |alpha_{l}|^{2}) + (Sum_{l=e + 1}^{2^{t - 1}} |alpha_{l}|^{2})) <= ((Sum_{l=-2^{t - 1} + 1}^{-(e + 1)} (1 / (4 * (l - (2^{t} * delta))^{2}))) + (Sum_{l=e + 1}^{2^{t - 1}} (1 / (4 * (l - (2^{t} * delta))^{2}))))"
      ]
     },
     "execution_count": 22,
     "metadata": {},
     "output_type": "execute_result"
    }
   ],
   "source": [
    "bound_rhs = fail_sum_inst.rhs.deduce_bound([first_sum_bound, second_sum_bound])"
   ]
  },
  {
   "cell_type": "code",
   "execution_count": 23,
   "metadata": {},
   "outputs": [
    {
     "data": {
      "text/html": [
       "<strong id=\"not_yet_factored\">not_yet_factored:</strong> <span style=\"font-size:20px;\"><a class=\"ProveItLink\" href=\"../../../__pv_it/theorems/f67ffeb951aaff9cc5f02f3801926b572b231a930/expr.ipynb\"><img src=\"data:image/png;base64,iVBORw0KGgoAAAANSUhEUgAAAKwAAAAYBAMAAACVRAuIAAAAMFBMVEX///8QEBAyMjKqqqpUVFRE\n",
       "RESYmJjc3NzMzMwiIiK6urpmZmaIiIh2dnbu7u4AAAAMEBwRAAAAAXRSTlMAQObYZgAAAAlwSFlz\n",
       "AAAOxAAADsQBlSsOGwAAAe1JREFUSMdjYCAZMBVAGXxJDFQE72GMnpPUNNYIzrIkTSPfKjyStZNu\n",
       "4De2uACHzkPr8FmqTMC1HK4PsIoz/2NgYN+t2oApU70pgoHhH25jIbpYHbAayzuBgaGUgfcXhgR7\n",
       "AMP9BVwCDByhQBCOxViILpB+HMa6MzAIYkiwFDAwCvA4vMDpWoguVGN5ImdOghsr/4DBHyPoGf8x\n",
       "sHznPnAPp7EQXSjGcuk8QHKtJwODP0bgskxgYPnBsQ0mXqt/B00BRBfYWL47p8HmFT1ADgQgmI8t\n",
       "gDg/EEic86H6VzZwXADx1eEy3ArgdPIHm67+A/hNBeniEQDG7jcGngUgAQW4VGEC2F1Yk8kUAo4F\n",
       "6WL/DExkf87cAlsjOXPmzKkgVokWWMFWbLq4A7DkSc2ZINCA0PVEmYEf6ig+uAaOraBQZsPq2BQC\n",
       "joXourSAgR8WWIhUAc4ltgzsmHmb+QJDOV5jwbpAuZQTGF8GIJEzKNkBGI08mFm7l4HhHN4IA+vi\n",
       "BUYZmwLDa7CzmAyQja3cvXsnpHQFRiXfJ2jmnb179wR8xkJ0gRPY2TRIMPC5rkMydv7//xCzODcA\n",
       "idnQaP7//78C3kQL1oWaebmuImVeSgCeooYGxoJyCSWAG3tAgXIJJeBhAnbxamdKTK0F6gYAv0eE\n",
       "w3ELTC0AAAAASUVORK5CYII=\n",
       "\" style=\"display:inline;vertical-align:middle;\" /></a> <a class=\"ProveItLink\" href=\"../../../__pv_it/_proof__fail_ineq_lemma/d8784f3eb5641251c88ac92517cde09f3685be660/proof.ipynb\" style=\"text-decoration: none\">&nbsp;&#x22A2;&nbsp;&nbsp;</a><a class=\"ProveItLink\" href=\"../../../__pv_it/_proof__fail_ineq_lemma/f44fbbf6b8fdb83ddfb7eb3a918dfad6bee9874c0/expr.ipynb\"><img src=\"data:image/png;base64,iVBORw0KGgoAAAANSUhEUgAAApoAAABMBAMAAAA/2grXAAAAMFBMVEX///+YmJjc3NyqqqoQEBDu\n",
       "7u5mZmYyMjJUVFRERES6urp2dnbMzMwiIiKIiIgAAAAs9KwDAAAAAXRSTlMAQObYZgAAAAlwSFlz\n",
       "AAAOxAAADsQBlSsOGwAADV9JREFUeNrNXGtsHFcVvju7s+9XQU2gKvHCj6AoCvaPIiJVYBclVQsS\n",
       "3lZR2xBg15HqkEapDfQFqHiBlrqqwEsoUiMVbFAqFSHVmx+FqCXxIlCkiqZe1DZUaYy3LZFKo8Tv\n",
       "R+xNhnvnde+cuTM7O+uZcKRxvr2zmT33m3PPOfeJUBvyAxPwV3bkbW5GxrxXQHgbAvcSLkHgsyTs\n",
       "fvfbfmhwwgRcyy15CPyW26xvBXf7oUAoC4FbEW+DwHcZz1ne2pP1Q4H4PARuJToIAWMZoJppbyoT\n",
       "LVveeorCrZpz+/XGa/C0CbiUyTEIqNzEfrgLs130JgosWN1JrlG8Rf33b29vvAadXRC4lEdNgDoB\n",
       "PT6Ril2uIfRHb4zzN5YRnbaX9Fmtoh6wGatB4E6CaxAw0V6z1pj8BfxDEW8C1WTd4ka3ooH46nAe\n",
       "6fX0gM3kNQjcSaQGAZUUrsfx91g2E12esBnrsbjxuNY2wjVxEAn9/f0PeMImetYE2jMLjn18FqFv\n",
       "VqMsm0FvHGdwwd5kMmNCI1jMemebqLsLAlcykoeAyh8QGhaOs2zGy944zhWLYL+k/BvICw2hT00w\n",
       "3viqBw0kMwiBq2zzCgSyTRzFcgTtROj2j+fRwaPPHj2aldlMesTmSJVbXNB/LlFDnkq0AYEbCSxA\n",
       "wMhrCM0bo5BHLR2NV7jFHboVnvG4nxZfh8CV/1+CwBiFfoUSLJvpujeVyfDD0Gjew4zdKIsm4EIK\n",
       "NQhYqnPonvcuqGwKf16vkxJvgjq3fYlXaT/oMx6zOVqFwIV0VCBgzb/C5ptE9raYxjkNv2lu+wpo\n",
       "pcLzr9/vrn6OPcRMBQI37n8MAlb2M30hQ4Ezue/AklPauUE9qnUoQpI06yrG/mzIKZuTgxC4kF4T\n",
       "YCUBdAmMtfb0tFM2kcSrdWi27QY845TNzBIELl7eVZOLMgjQRUResTk0ZufUfWAzsgaBi07IFQg2\n",
       "VJyzOcBLFrrL/rEZvgZB6xJeh+A6sdnBI26g4h+bgSsQuBjzWIDgOrE5yUs4h7r8YzO5CEHrEmpA\n",
       "cJ3YLPACTm/VPzZFCQIXfRC7SBaRGKl7y2amYRvoXavimE0kVSFoWTpnIWBDlKRW8e6XnpB6vGUz\n",
       "xfE0gtS+Ks7ZnO6CoGXprkFgSO1p2vSpBW/ZjHAiafBq+6o4Z3OoDkHrbmUQAoPBSCUdH/SWzSgn\n",
       "p0ivtK+KczZHKhRcOs/RZkrxAILykTdgMVGGwBDnpDmaS7kZ70g4np4Or3L+95X2VZlw/N2BEgWv\n",
       "cCujdDA+UD69xHshJQiMb1aiyrhYJhB9YuXHTnnndNSjq22rMtz7mNMvTwxSQNj8r/Tc04/kTWwG\n",
       "VRNOc547WoTAIDHJ4yFvqiqnZxtb9lOViRoFsm3i9xvbbWLzXu3jw/TOF9QXPaSROMRlU+xd9onN\n",
       "NCdnjiz7qcpMDwWETTLDF7xmYrNP+7iJhkVttHC6AoFRxqUuf9gM0Gzod3rkWfdTlY5ZCgib6QYY\n",
       "dlXY1NOzkOYFLr2s9zYqEIAGKO32nc0v6fqu+6kKZDM2C6YEZDaDeu4TURyneJImVL11CGAWtuIP\n",
       "m0Eem9f8VKV7lgLCZqYM1hjIbIaJ1e27fL+26lQ8zESj3iwEQPZIlevH5pyfqkA2MZPb3zRlSMQi\n",
       "4+fRP3BrIlYqPsW6HykLgVXv0mOJc9jMzPmpyvgsBYTNmWdevQnF/0SsM1ATR1U2U5i9ziz6CKsj\n",
       "e1Ajm10QmJLaRV9WHCfpCAdlc8FPVSaXKCBsjsoq3E06QMk66lTZDOE/o5cv4r9JmX2Bbek35CEw\n",
       "9y4tu63SxojizG9Qnnl4amrX1NQ7SmS6sYkqmY1RQDHKuzRaMHgFqYt59mg/VWDYVDoV8R5TFJLG\n",
       "IDAN5FxF18021/xUBdhmkiQUyYHjwvEH0N5ZnU3S0pXgGKyZMqTmLT39ZfT/0tK9VQWwmV5TTDJa\n",
       "CeUEymYMW+K7mErccsqm7L05m+NVD2sgr3JV2URN2fRClX0nntRInKUAsxmZVdgUcrGsSNkkedFm\n",
       "JO5XcyW1Z1l1mCElF7y0B7LK1TqmgwzJE1WK6DA3podHr9QVd3nxUp1hM0kWYx0nS/BTZt/YPN+s\n",
       "e8kmWeXqmE1PVFlDnVV+hqQGn1Q2doFhE+kjnzvMD5vOQgDkEW/7k3k7NlNz3qtyYzM2C/nUZZZN\n",
       "fbCjj9NxrEMABsXKyFvRVrkGF82jHsbZDa9UOal1gXoo0NgUR/an+27+0X3L4kBRZVNbJSjI6ohT\n",
       "sqgvZFRzpaP8XtthmoY2HcERbMq+ay5Wbmlr2AK88c31FlXJWZdFcuZiuUhfxtdRo8Bm7F1UXypv\n",
       "7eVIEQJjS6Q5SaApmx9Yl4nsjOjWh47EcUsgF13lmuaNvS+3pkq6y7qswL7LA3fmyESEPBmxTXtJ\n",
       "7BTZSd680FtK2Pmc8vF9Xr+xBIFVTnILtwKnmW50BSWmQQ6Dy4T+71eZcSwslfiTiGybIZe+yjXB\n",
       "Wa9imCuyUCXJWMGtuNnCrjwu23rgeZzEsEaGXsyTiQhyCUVBNTL7KTJHYv8IZsfePfyR73coJEP8\n",
       "HeA2LtuGEmvCyR8yNJMEj+ziwhdd5RrmPJ9l2EqVFLUCEb+yAFgWQDYZldHE2PZ//YWxeWKODyvX\n",
       "ttdPq8Y5oL2XgaLrIdJBCLg5ibCTP36TZtgkMe4AuI/LfoLQLhRh2+CHpLEW5Yuuco1x5tMDK81V\n",
       "uUTZDGNTC4Nq4LJoDoV60PdYrUtqbMZXr6QlE6N1CFofhuqBwBDxH5Xl8bckiT/H9dfHKCYP+De4\n",
       "j8t682gkl2HHVAqE2t3qpcdvTmoeX2yqSnIzZTNETBUwgctCSyg6j9iJfZH8FpmICLFq6UvI3K8l\n",
       "s105E2YHWrj5aIWySVyjAAyYlP2cbAY6ZgjVpGbfUS+92hzbZ1bOWKmSiFA2iWvsBI4bl0VrKNqI\n",
       "G4yFbPUgw74RtlL6EjL3a8ky8xC0IukcZZN0W6HXUruy0+hDkWoY/ClxhyeQ8dgH7vpoKddMg/cZ\n",
       "Ng9xHPchxbnOpkvfoIU7ySpb0uE2HIGhD7tIrkdRU2sQtCKfRpRN8p7hrn3l3SevoQeZBfSb5T2I\n",
       "m5Fy6Y2E52mmx5qluFmGTWLqcLO+Yv6T9XD9ZeqOB8mGQzIREWC8rLAIQesSnYOgFakwbJKBvxDw\n",
       "WqkuNeyevplqPY+6q0qWw2Y647woONJsnUYCMWySSZyvgS+8qWYeyT7aODpzwYYyERFkXmF8BQIX\n",
       "bXUZglZ62TmFzQJhggxKT8ot8165s3VeLWMWYYlET2y/k7hmk0i5NOHu0plplqt8TGFTfjD6Cm4G\n",
       "80YFSBl2OGVWAWy/yYYyEZFkPJM+dZ52v2a9rTeCewUym6miytx/wBdkNgPUes4SB5mVWTymXroZ\n",
       "8gLpeJOtO0Jdtc2zKnNp6C9kNj9hUADNySySuMTGpugCBC6Ga9tZn/zi8PDiM2yrfk7ktPRbkcAG\n",
       "k0JV9pdfVC/dRfJcf6HJfqH48PDIHRWmVcdKeXNLxx0ydluh2JD9pbwHl8m1UksQuJDpHAQmsTvr\n",
       "5Q6a92CfOZcAwxa4LFlBabaKmaqcSX9SvbQqcl1/al4ZyOFYgRbBQtTyf0sMHzgMXEbmvi+wZQ25\n",
       "M0EmIgJM1Cz0QOCma5llAVRcnmngnPVyl9YEad+PZBtr3wJBApft6O8/bCirB0tq6nKIyUxXuUFm\n",
       "Tk8kGSF+5Y1L2suhhOCEK/MCiIO4TDjb32/oepwi++7l7I2ZjEDdJQjcdIZKBgAUJzMN4KwX/fgZ\n",
       "OcBIv9B7JbhoE7AMUjYtSUaXfOoi+XtOvWydVXyVSRp1kflTvUR4dFXn7ww2NvBVUpbC+b7B/yYu\n",
       "EzXJRAQ7GaE77pE2Fo/pWxkVALSRZxqMZ73oW9WhcAaxuGWK16gpl0kNoyibP3XW923JAjYNfqHq\n",
       "rEyRHcg4GWG/4dShhBsGcA7kQHmhAc56sWRzE3JWRkcomGxykt+8BqrK4OhBcjJGVjyPSjZsBorO\n",
       "yuggDTMZkVyFwFWKZDiBASseJor/kjaLGjjrxZJN3mC05eEA29RLzyz5zUs+oEIfHI2WttvZJjri\n",
       "sExuHGVtMkLNMhcgcCW7WBA0JXhn8uCsF0s2xbKzMr2SbEUfsvBDPYiJFaG+z5OXfSd52Tw29zos\n",
       "094z+64jPRC4kpkxBtAg9xox0ZwpK2KOn+El847K5OES5dLbmUX/Q15wkXpBbemZnCkKwWTeUZk8\n",
       "XIKMkxGTFQjcjSKVGIAVN7Z083kalrbZjkStMmbixDLayYqxLlSxY7MdsTsWqgVJLDEgA46E5Jyn\n",
       "4QmbBascbwLXLfyR5jce3JJX2dw+dGpDFRBXIXD5nHUG6Iprnsp8noZ+/MxGyoxVtCpw2p0X8+rp\n",
       "eQjc1iQPga3EPKgLut2ylhwXUPRAgVARApeSqkBgn6B6YRnWAw3vIl+kRZOyluA8BL5LwXpUuDvn\n",
       "hwLiHASu5aAJ+C02hwWHy34ooE/BRNv+uVQWAp8lbret6p9+aHAsD4FrSe6GwGfhrCul8nc/toSc\n",
       "MwH38nsT8Fe+bmu4PjhOccwI/gfmliLt6G9/pAAAAABJRU5ErkJggg==\n",
       "\" style=\"display:inline;vertical-align:middle;\" /></a></span><br>"
      ],
      "text/plain": [
       "not_yet_factored: {e in {2 .. 2^{t - 1} - 2}} |- [Pfail](e) <= ((Sum_{l=-2^{t - 1} + 1}^{-(e + 1)} (1 / (4 * (l - (2^{t} * delta))^{2}))) + (Sum_{l=e + 1}^{2^{t - 1}} (1 / (4 * (l - (2^{t} * delta))^{2}))))"
      ]
     },
     "execution_count": 23,
     "metadata": {},
     "output_type": "execute_result"
    }
   ],
   "source": [
    "not_yet_factored = fail_sum_inst.apply_transitivity(bound_rhs)"
   ]
  },
  {
   "cell_type": "code",
   "execution_count": 24,
   "metadata": {},
   "outputs": [
    {
     "data": {
      "text/html": [
       "<span style=\"font-size:20px;\"><a class=\"ProveItLink\" href=\"../../../__pv_it/theorems/f67ffeb951aaff9cc5f02f3801926b572b231a930/expr.ipynb\"><img src=\"data:image/png;base64,iVBORw0KGgoAAAANSUhEUgAAAKwAAAAYBAMAAACVRAuIAAAAMFBMVEX///8QEBAyMjKqqqpUVFRE\n",
       "RESYmJjc3NzMzMwiIiK6urpmZmaIiIh2dnbu7u4AAAAMEBwRAAAAAXRSTlMAQObYZgAAAAlwSFlz\n",
       "AAAOxAAADsQBlSsOGwAAAe1JREFUSMdjYCAZMBVAGXxJDFQE72GMnpPUNNYIzrIkTSPfKjyStZNu\n",
       "4De2uACHzkPr8FmqTMC1HK4PsIoz/2NgYN+t2oApU70pgoHhH25jIbpYHbAayzuBgaGUgfcXhgR7\n",
       "AMP9BVwCDByhQBCOxViILpB+HMa6MzAIYkiwFDAwCvA4vMDpWoguVGN5ImdOghsr/4DBHyPoGf8x\n",
       "sHznPnAPp7EQXSjGcuk8QHKtJwODP0bgskxgYPnBsQ0mXqt/B00BRBfYWL47p8HmFT1ADgQgmI8t\n",
       "gDg/EEic86H6VzZwXADx1eEy3ArgdPIHm67+A/hNBeniEQDG7jcGngUgAQW4VGEC2F1Yk8kUAo4F\n",
       "6WL/DExkf87cAlsjOXPmzKkgVokWWMFWbLq4A7DkSc2ZINCA0PVEmYEf6ig+uAaOraBQZsPq2BQC\n",
       "joXourSAgR8WWIhUAc4ltgzsmHmb+QJDOV5jwbpAuZQTGF8GIJEzKNkBGI08mFm7l4HhHN4IA+vi\n",
       "BUYZmwLDa7CzmAyQja3cvXsnpHQFRiXfJ2jmnb179wR8xkJ0gRPY2TRIMPC5rkMydv7//xCzODcA\n",
       "idnQaP7//78C3kQL1oWaebmuImVeSgCeooYGxoJyCSWAG3tAgXIJJeBhAnbxamdKTK0F6gYAv0eE\n",
       "w3ELTC0AAAAASUVORK5CYII=\n",
       "\" style=\"display:inline;vertical-align:middle;\" /></a> <a class=\"ProveItLink\" href=\"../../../__pv_it/_proof__fail_ineq_lemma/f0794593f0febd892beb42461d4bd5fa0e8b7e910/proof.ipynb\" style=\"text-decoration: none\">&nbsp;&#x22A2;&nbsp;&nbsp;</a><a class=\"ProveItLink\" href=\"../../../__pv_it/theorems/e8f7ca299865b4193bccc6b40eaa2c39a9d2c56a0/expr.ipynb\"><img src=\"data:image/png;base64,iVBORw0KGgoAAAANSUhEUgAAAqoAAABMBAMAAABXKYjvAAAAMFBMVEX///+YmJjc3NyqqqoQEBDu\n",
       "7u5mZmYyMjJUVFRERES6urp2dnbMzMwiIiKIiIgAAAAs9KwDAAAAAXRSTlMAQObYZgAAAAlwSFlz\n",
       "AAAOxAAADsQBlSsOGwAADZ1JREFUeNrFXG1sHEcZntu7ve+vUkJRVeITSEUhCvYPoJUq5KvUVrSI\n",
       "+ooq2lKQ7Uh1SKvEV6BUgEoOBGoihM4tRcJSwRYKEv1DHKFC1JLaEqhS1aY+RBtQEivXQKRClfgc\n",
       "27FjX7zs7O7Nzr4zs7t3O2teyenr3XqfZ56dj3fmnR2EAtj3BNcT09AJ3ZR33e6GxGNPBaK70/Bl\n",
       "8ZrgxjcYJ3w74XYzJB6ZGoN+IvBDP1PhX4/eDZ1tsFhRfC80Hncy6G40fJl6p+DGg0XobIOlr4jv\n",
       "hcbjWAmiu9HwZcmq4MazjGPXmhK40JRWwiPiWxSPWzsd4C9kYCYnGPQjAR85LxgCshvQse1mR2W/\n",
       "Se+bpanaPyC6Q/PYaf33L+/KwFSWGXQxDX/2tGjArULH1pF07yP6z9uX9BYzI0vVVAN5EUIof7pT\n",
       "aCmqol8x6GIaviy6IbgxOA0dO2ogV4ym83n95ylZqma3kDsh9dXDFUTKLEfV+SZEF9PwZQnRS3mG\n",
       "cYjl9J9HdxZpVf8grQt4AbkTiqN4Q60iZWxs7HFZqqbKDPoLcl6TqM5w3ton9RpzDtVoVT8nTdXB\n",
       "AXdChWmlHR0pSq2r0WUGfTBQx1oXRKvJVejY9pJ+tbbbUVdfkqZqoepOKFJR2sqoFYS8/cUBKaBr\n",
       "DLqIhr9o9ZrgxvAEdHB9mdTteXS7HiaPfhbFJyfvnXzOVPUNaaom2x6EUKaBZFt9DqKLaPiyyLLg\n",
       "Rt8AdGzTJSyUnKOVvB4gvelBCJ2qyJ8HzEB0EQ1//fSq4MZUBTqO0So1gGZoVS/LK+GKByE5kT/o\n",
       "dsoM+kqAxw0LWpN6HTr0qygh9eDOiqXq7kOvIfS8vBJOzbkS0udVH5euaqrNoPNp+LM+q+pnwWAa\n",
       "2YQO3UhnHPEqLvOE33DUe9Be5M4oCA/lxbce6zYG9gTNbzLoiwEmNnUztH54H+gJkhvQoW0vPbcy\n",
       "gsiSPzgGhxfrcUdfwiOmaa3uyugDNLvGoM8HCAKGOi8LAMda0KEtU3FbGHCtFN6qFrj/S6zVeyF9\n",
       "gGoViF5Y7RmP9FYQmPS3/I634vF7kAImNroZACSBHpqG6ImN3icV1wTAgxPQkWM+ChjnTsGD8PAB\n",
       "Ot6E6PHeVwLimwLg8RnobJuqEe7EJAgPH6B9ExA9cq33tZVlAfChAehsm6pZbqQYhIcP0PkyRM/2\n",
       "HrDG2gLgoTnobJuqqsYdVudCBR1uQXQ+DX9zilUBMBkTNc5AdEizbUt6AZE25zZI94DuJ/BoM+ha\n",
       "z++xv8UHVjToOEYOC1D91PtDK/JVPc9p7BSP7tF9gOaWGfTzPfc5gw0+cPQ6dBwRuUbCnEiX2H5U\n",
       "PdTkBCvXA6D7Cee2GHQeDX+2WOUD59eg46xN63YUMSFd1TpnuKd5dI3uAzS5yaDrzqVznIctmE1F\n",
       "MX/lTSpnO6wyzgR45hp0nCOmVmRnr74s4yPRPl7j/N21AOg+QOPrDLruvMJ9mjlh+Jf52+951cJ6\n",
       "RPLHaz90vLp16Djfl2bzjHQjKsTh2ixnBk7z6BbdD2hmjUHXHazqf7RfHvlOhVE1alXpPGfrx9SI\n",
       "YGXsKnTA311H4dlsw4VQSOiZ6wy67hh1Vdc7dTej6kOdX6ns8m1Wd3BIoGriKnSc9qA2Ep6qi2UX\n",
       "QiGh51cYdN3BquIsZHSLUXW08+tHyI2PdVYozwvmgblN6DgtrS2Hp2ofWZ5KFxGPRwjoEY1B1x2s\n",
       "ar5NL78SVcmbj3V6h0svkxmLQNXYJnRgK12pbIOq0Sbi8pCPLlY11aJTBR1Vo6TvT5hvXj1pB2JD\n",
       "gpgstgUd2CK1amiqDvJU3QoXPaox6IOmqoUJsGnCUDWOq+Ojlx/r7H5VD1Cj1pBg82JsCTpwsj60\n",
       "ub2qLoWLLlZVV3T335nICtfQ9Dn0pl7L8QtWn6WnI5pA1cISdESz1hDsGEdVwEM6elpj0I+Zqi7+\n",
       "9NWbUfqPmEmkoU5ZquZ0FfuL6L86R6OHdaoqmPEVlqHDhM1aaDuw51c5qi6Hi54lqzcEXXewqlMG\n",
       "/JfxW8w2Ub+lakz/Z+ryB/q/WeMtKHQPcIP5rIKxAIRrshUMR3Yg4LCzVuF6kdazmdXkAZNgfGHh\n",
       "nS8tLNS4PBj0gKDqDZ0HPVC0nVeQtVnoQbJiSKlqTkzSZWa00qYBudNW1egkbQrC7E1/Y1vr6ka4\n",
       "6MK6msU9eHb8uHL8cfRIi6iKewDzxUYbTGTVew+A/l36P/YA0tGFquY3zCqanImVFFvVlM7srE5Q\n",
       "b0UTzCygd1XTbclaPnriJ53itDxVlYVOQLNktCLo88ZolWiZqiqlVFG1VcXx1E1I3WvFWNaMdS5g\n",
       "ZIXmBySrOoIOuMQAgIcsdAIqigHiU9eaZnf6waUmpWpWb/f54/jzhNw089Te49X7Zbf7DdQ/51dV\n",
       "aegEVBxZWYNUrpi6SKmKyMrrHs5ATlTNOhYsckvQgXMr6esbO1xVdfKQhr7Dt6rDldxlWlWyqDLK\n",
       "PtXOIuRqDtpb0AE2GcIodbIT4pfZ1RUnj0npoFGyZkXQB8tEVbW+Nz96yw8evqqOj1iqpqzhUjEG\n",
       "K3XBMKtaTJGu9pJD1dQmdMAcwN5lF+XdL7lc+yZ72bhFdu718dZXN73RXUATJQ/QCFlfJeh9Dbdc\n",
       "QGcXZIqDWu80pexNDlWTV6HjtA/bz7qRt1o5IL6mUtvQlH33lnCKwkhT7OrENou8XMBVT3Q30GHk\n",
       "AWrnxQi67pzk5a3eMYenT5u/XuAUnyRpMgmHqiSNE1/3CKuiZc79O/SW1WavKWPfnaPW0HRU9LsK\n",
       "TlHgH2VEscSa5aT4aB4CdAHorfte1GMe5AFq58UI+mzPO7vIX15wquqRDbS/R8QdDRsg6MJFWuy1\n",
       "XSizoZz8vr0wksQ15SnzZ9dbr1v1hvdImgcfXQCq93uz07v/8WfkDhonbYE8crznIbHPqjhK0alq\n",
       "ZA06/MDmE3Xe4lFcrwXxKnvtRwjdhRJUQ83XrNFU/xnSOsPwFGfRl+IhQBeAJksoVkbfQh6gKTIa\n",
       "EnQeDZ+LbuVOq3Cqml6BjiNCWHvasAWdFC8xF8MxRZO9NlRB9VKBWsZX8YwJpyhi9No+b6MaxUOA\n",
       "LgCNraLkFURvCOCCkm18MvbtdXYEfQio6r4jaJxa8eHFs7gX659jr/0Mf9h0lL6KP0zBC8AJejbC\n",
       "26hG8RCgC0CTDZRsp8teoGQbn4x9ewUzs640gapIK0GnC3sC9y2ca3jagd5Xbba3472+eEqdodF5\n",
       "G+a8eYhBc6187WvIHdTer+66b8+f5cwFtvThw/UvOBKD56eh04U9idhjC540A7gtdND+qCBSxZ9R\n",
       "4hRFhOoQFe6WNE8eYtD5Zrz5MnIH7S9DdKX3/atJ0oRizrpaL0KnC8Npnvs514wZ3Ou32EUpRdtm\n",
       "dERHSGnu1i5PHmLQf6Ls6JwH6LEqROfT8GV5ElAUnNHZ4gh0urD79EppdC3qM2Qid59xZz+ZWFeN\n",
       "qpVtmymKLBUS5bnTOU8eBPQhA/Mc6oCSHW5mooMPSr6uIuj53hOO5IXEp9Yd4yd5d8eqPamaL7PX\n",
       "9DZHGkQOi7RkFAwPJfRwkuQu6XryEIJ+lPxqJDr4oPUBiJ7sfSeHcJs22dE93OqpB0jVKpzGeAdS\n",
       "qEFHbRtdG05RRKmpf27VlVC3oNEZxxeaAtDzFYie6/17K3ReMLTmrkCHMfE5Pb/WO5TiDHMNZWdQ\n",
       "ni5325gS4BRFhOp/hstiQg9ztH2g6gr6JkIXkReousKg82n4nLIKBoHMksMBpTHOPuGc02MV8IRe\n",
       "wN+CgByfZrZnbOwAfe01fNKAkaKg0hRosCYmFHX2A/hoouzlhhuocnpsrOEJGl1n0Pk0fE6uBH+b\n",
       "Xnc4TGniDXBOD13AU3o9eAI88BRuGJrmGFgzl3G5cIqCTlPUB8SE4s7KmDK4uYLm9LlC1RPU7kQJ\n",
       "ej1AEkf4eeiQwwGlwWefgHN66ALmOLOSnHCmsgc50xRDLoSIEOrx92SC2jIMedDwZXFRsnJ8jnZA\n",
       "yguffQLO6aELGOFEQRFhZDSKHGmK7LoLoWF8LMnk5HPo63NJmaDzNYguouEvtBJFZeTMDMMhpSHt\n",
       "qAHO6aELyD2DQXQuA05RKNRglV92IUTWSQ8rx2WCLg5A9HygLbJ3ibqGMu3cBm+fqoBzehwFfITz\n",
       "wEcEQDhFQacpEmUXQqTjvOfGCto/+cLkZFEK6LcZ9EQ5iKqLgvl1foN2SGnewFW2xERToIAKZ2lS\n",
       "ESxXXkDONMX8jAuhMxWrzVxhRqsgoNlNBn0+0FfRBVEAsU47pDQkVoVnnzgKGMREB2wZPFodlX6O\n",
       "MhJB7TO7CHo90G7ujGgKMVuhnJbznXPOPpFVQFU4SmAeBzst6yvvXbRAlT9tNoOCDtcguroerBSi\n",
       "4Wp4hnIOOvsJztknsgqYF87lhtk2mUJybLEE0fMBj7VdFFT1vOhzbEH/L6mAMWEwxOEh69jXexj0\n",
       "2EiwJ+ZE3fJZxnENfGVVG3F/dhaFZPb7IuiLAT+SiYrq+mAJOttg6pL4Xmg8hosQ3Y2GP9svqn0T\n",
       "0NkGS7pghcbjCIOeDAyVE+Uu/sY44dtRt5YXEo/03Qz60cBfyWVFn4P8tQKd8O2M282QeNiLHGd8\n",
       "0fBnvxG9wxJ0wu9Wp10rVTg8vsqgW87/AOD5oIRPfuM5AAAAAElFTkSuQmCC\n",
       "\" style=\"display:inline;vertical-align:middle;\" /></a></span>"
      ],
      "text/plain": [
       "{e in {2 .. 2^{t - 1} - 2}} |- [Pfail](e) <= ((1 / 4) * ((Sum_{l=-2^{t - 1} + 1}^{-(e + 1)} (1 / (l - (2^{t} * delta))^{2})) + (Sum_{l=e + 1}^{2^{t - 1}} (1 / (l - (2^{t} * delta))^{2}))))"
      ]
     },
     "execution_count": 24,
     "metadata": {},
     "output_type": "execute_result"
    }
   ],
   "source": [
    "not_yet_factored.inner_expr().rhs.factor(frac(one, four), auto_simplify=False)"
   ]
  },
  {
   "cell_type": "code",
   "execution_count": 25,
   "metadata": {},
   "outputs": [
    {
     "ename": "KeyboardInterrupt",
     "evalue": "",
     "output_type": "error",
     "traceback": [
      "\u001b[0;31m---------------------------------------------------------------------------\u001b[0m",
      "\u001b[0;31mKeyboardInterrupt\u001b[0m                         Traceback (most recent call last)",
      "\u001b[0;32m<ipython-input-25-b046f9677097>\u001b[0m in \u001b[0;36m<module>\u001b[0;34m\u001b[0m\n\u001b[0;32m----> 1\u001b[0;31m \u001b[0mget_ipython\u001b[0m\u001b[0;34m(\u001b[0m\u001b[0;34m)\u001b[0m\u001b[0;34m.\u001b[0m\u001b[0mrun_line_magic\u001b[0m\u001b[0;34m(\u001b[0m\u001b[0;34m'qed'\u001b[0m\u001b[0;34m,\u001b[0m \u001b[0;34m''\u001b[0m\u001b[0;34m)\u001b[0m\u001b[0;34m\u001b[0m\u001b[0;34m\u001b[0m\u001b[0m\n\u001b[0m",
      "\u001b[0;32m~/.local/lib/python3.7/site-packages/IPython/core/displayhook.py\u001b[0m in \u001b[0;36m__call__\u001b[0;34m(self, result)\u001b[0m\n\u001b[1;32m    255\u001b[0m             \u001b[0mself\u001b[0m\u001b[0;34m.\u001b[0m\u001b[0mstart_displayhook\u001b[0m\u001b[0;34m(\u001b[0m\u001b[0;34m)\u001b[0m\u001b[0;34m\u001b[0m\u001b[0;34m\u001b[0m\u001b[0m\n\u001b[1;32m    256\u001b[0m             \u001b[0mself\u001b[0m\u001b[0;34m.\u001b[0m\u001b[0mwrite_output_prompt\u001b[0m\u001b[0;34m(\u001b[0m\u001b[0;34m)\u001b[0m\u001b[0;34m\u001b[0m\u001b[0;34m\u001b[0m\u001b[0m\n\u001b[0;32m--> 257\u001b[0;31m             \u001b[0mformat_dict\u001b[0m\u001b[0;34m,\u001b[0m \u001b[0mmd_dict\u001b[0m \u001b[0;34m=\u001b[0m \u001b[0mself\u001b[0m\u001b[0;34m.\u001b[0m\u001b[0mcompute_format_data\u001b[0m\u001b[0;34m(\u001b[0m\u001b[0mresult\u001b[0m\u001b[0;34m)\u001b[0m\u001b[0;34m\u001b[0m\u001b[0;34m\u001b[0m\u001b[0m\n\u001b[0m\u001b[1;32m    258\u001b[0m             \u001b[0mself\u001b[0m\u001b[0;34m.\u001b[0m\u001b[0mupdate_user_ns\u001b[0m\u001b[0;34m(\u001b[0m\u001b[0mresult\u001b[0m\u001b[0;34m)\u001b[0m\u001b[0;34m\u001b[0m\u001b[0;34m\u001b[0m\u001b[0m\n\u001b[1;32m    259\u001b[0m             \u001b[0mself\u001b[0m\u001b[0;34m.\u001b[0m\u001b[0mfill_exec_result\u001b[0m\u001b[0;34m(\u001b[0m\u001b[0mresult\u001b[0m\u001b[0;34m)\u001b[0m\u001b[0;34m\u001b[0m\u001b[0;34m\u001b[0m\u001b[0m\n",
      "\u001b[0;32m~/.local/lib/python3.7/site-packages/IPython/core/displayhook.py\u001b[0m in \u001b[0;36mcompute_format_data\u001b[0;34m(self, result)\u001b[0m\n\u001b[1;32m    149\u001b[0m \u001b[0;34m\u001b[0m\u001b[0m\n\u001b[1;32m    150\u001b[0m         \"\"\"\n\u001b[0;32m--> 151\u001b[0;31m         \u001b[0;32mreturn\u001b[0m \u001b[0mself\u001b[0m\u001b[0;34m.\u001b[0m\u001b[0mshell\u001b[0m\u001b[0;34m.\u001b[0m\u001b[0mdisplay_formatter\u001b[0m\u001b[0;34m.\u001b[0m\u001b[0mformat\u001b[0m\u001b[0;34m(\u001b[0m\u001b[0mresult\u001b[0m\u001b[0;34m)\u001b[0m\u001b[0;34m\u001b[0m\u001b[0;34m\u001b[0m\u001b[0m\n\u001b[0m\u001b[1;32m    152\u001b[0m \u001b[0;34m\u001b[0m\u001b[0m\n\u001b[1;32m    153\u001b[0m     \u001b[0;31m# This can be set to True by the write_output_prompt method in a subclass\u001b[0m\u001b[0;34m\u001b[0m\u001b[0;34m\u001b[0m\u001b[0;34m\u001b[0m\u001b[0m\n",
      "\u001b[0;32m~/.local/lib/python3.7/site-packages/IPython/core/formatters.py\u001b[0m in \u001b[0;36mformat\u001b[0;34m(self, obj, include, exclude)\u001b[0m\n\u001b[1;32m    178\u001b[0m             \u001b[0mmd\u001b[0m \u001b[0;34m=\u001b[0m \u001b[0;32mNone\u001b[0m\u001b[0;34m\u001b[0m\u001b[0;34m\u001b[0m\u001b[0m\n\u001b[1;32m    179\u001b[0m             \u001b[0;32mtry\u001b[0m\u001b[0;34m:\u001b[0m\u001b[0;34m\u001b[0m\u001b[0;34m\u001b[0m\u001b[0m\n\u001b[0;32m--> 180\u001b[0;31m                 \u001b[0mdata\u001b[0m \u001b[0;34m=\u001b[0m \u001b[0mformatter\u001b[0m\u001b[0;34m(\u001b[0m\u001b[0mobj\u001b[0m\u001b[0;34m)\u001b[0m\u001b[0;34m\u001b[0m\u001b[0;34m\u001b[0m\u001b[0m\n\u001b[0m\u001b[1;32m    181\u001b[0m             \u001b[0;32mexcept\u001b[0m\u001b[0;34m:\u001b[0m\u001b[0;34m\u001b[0m\u001b[0;34m\u001b[0m\u001b[0m\n\u001b[1;32m    182\u001b[0m                 \u001b[0;31m# FIXME: log the exception\u001b[0m\u001b[0;34m\u001b[0m\u001b[0;34m\u001b[0m\u001b[0;34m\u001b[0m\u001b[0m\n",
      "\u001b[0;32m<decorator-gen-9>\u001b[0m in \u001b[0;36m__call__\u001b[0;34m(self, obj)\u001b[0m\n",
      "\u001b[0;32m~/.local/lib/python3.7/site-packages/IPython/core/formatters.py\u001b[0m in \u001b[0;36mcatch_format_error\u001b[0;34m(method, self, *args, **kwargs)\u001b[0m\n\u001b[1;32m    222\u001b[0m     \u001b[0;34m\"\"\"show traceback on failed format call\"\"\"\u001b[0m\u001b[0;34m\u001b[0m\u001b[0;34m\u001b[0m\u001b[0m\n\u001b[1;32m    223\u001b[0m     \u001b[0;32mtry\u001b[0m\u001b[0;34m:\u001b[0m\u001b[0;34m\u001b[0m\u001b[0;34m\u001b[0m\u001b[0m\n\u001b[0;32m--> 224\u001b[0;31m         \u001b[0mr\u001b[0m \u001b[0;34m=\u001b[0m \u001b[0mmethod\u001b[0m\u001b[0;34m(\u001b[0m\u001b[0mself\u001b[0m\u001b[0;34m,\u001b[0m \u001b[0;34m*\u001b[0m\u001b[0margs\u001b[0m\u001b[0;34m,\u001b[0m \u001b[0;34m**\u001b[0m\u001b[0mkwargs\u001b[0m\u001b[0;34m)\u001b[0m\u001b[0;34m\u001b[0m\u001b[0;34m\u001b[0m\u001b[0m\n\u001b[0m\u001b[1;32m    225\u001b[0m     \u001b[0;32mexcept\u001b[0m \u001b[0mNotImplementedError\u001b[0m\u001b[0;34m:\u001b[0m\u001b[0;34m\u001b[0m\u001b[0;34m\u001b[0m\u001b[0m\n\u001b[1;32m    226\u001b[0m         \u001b[0;31m# don't warn on NotImplementedErrors\u001b[0m\u001b[0;34m\u001b[0m\u001b[0;34m\u001b[0m\u001b[0;34m\u001b[0m\u001b[0m\n",
      "\u001b[0;32m~/.local/lib/python3.7/site-packages/IPython/core/formatters.py\u001b[0m in \u001b[0;36m__call__\u001b[0;34m(self, obj)\u001b[0m\n\u001b[1;32m    343\u001b[0m             \u001b[0mmethod\u001b[0m \u001b[0;34m=\u001b[0m \u001b[0mget_real_method\u001b[0m\u001b[0;34m(\u001b[0m\u001b[0mobj\u001b[0m\u001b[0;34m,\u001b[0m \u001b[0mself\u001b[0m\u001b[0;34m.\u001b[0m\u001b[0mprint_method\u001b[0m\u001b[0;34m)\u001b[0m\u001b[0;34m\u001b[0m\u001b[0;34m\u001b[0m\u001b[0m\n\u001b[1;32m    344\u001b[0m             \u001b[0;32mif\u001b[0m \u001b[0mmethod\u001b[0m \u001b[0;32mis\u001b[0m \u001b[0;32mnot\u001b[0m \u001b[0;32mNone\u001b[0m\u001b[0;34m:\u001b[0m\u001b[0;34m\u001b[0m\u001b[0;34m\u001b[0m\u001b[0m\n\u001b[0;32m--> 345\u001b[0;31m                 \u001b[0;32mreturn\u001b[0m \u001b[0mmethod\u001b[0m\u001b[0;34m(\u001b[0m\u001b[0;34m)\u001b[0m\u001b[0;34m\u001b[0m\u001b[0;34m\u001b[0m\u001b[0m\n\u001b[0m\u001b[1;32m    346\u001b[0m             \u001b[0;32mreturn\u001b[0m \u001b[0;32mNone\u001b[0m\u001b[0;34m\u001b[0m\u001b[0;34m\u001b[0m\u001b[0m\n\u001b[1;32m    347\u001b[0m         \u001b[0;32melse\u001b[0m\u001b[0;34m:\u001b[0m\u001b[0;34m\u001b[0m\u001b[0;34m\u001b[0m\u001b[0m\n",
      "\u001b[0;32m/home/wwitzel/Prove-It/packages/proveit/_core_/proof.py\u001b[0m in \u001b[0;36m_repr_html_\u001b[0;34m(self)\u001b[0m\n\u001b[1;32m    529\u001b[0m             html += '<td>%s</td><td>%s</td>' % (\n\u001b[1;32m    530\u001b[0m                 proof.step_type(), required_proof_nums)\n\u001b[0;32m--> 531\u001b[0;31m             \u001b[0mhtml\u001b[0m \u001b[0;34m+=\u001b[0m \u001b[0;34m'<td>%s</td>'\u001b[0m \u001b[0;34m%\u001b[0m \u001b[0mproof\u001b[0m\u001b[0;34m.\u001b[0m\u001b[0mproven_truth\u001b[0m\u001b[0;34m.\u001b[0m\u001b[0m_repr_html_\u001b[0m\u001b[0;34m(\u001b[0m\u001b[0;34m)\u001b[0m\u001b[0;34m\u001b[0m\u001b[0;34m\u001b[0m\u001b[0m\n\u001b[0m\u001b[1;32m    532\u001b[0m             \u001b[0mhtml\u001b[0m \u001b[0;34m+=\u001b[0m \u001b[0;34m'</tr>\\n'\u001b[0m\u001b[0;34m\u001b[0m\u001b[0;34m\u001b[0m\u001b[0m\n\u001b[1;32m    533\u001b[0m             \u001b[0;32mif\u001b[0m \u001b[0mproof\u001b[0m\u001b[0;34m.\u001b[0m\u001b[0mstep_type\u001b[0m\u001b[0;34m(\u001b[0m\u001b[0;34m)\u001b[0m \u001b[0;34m==\u001b[0m \u001b[0;34m'instantiation'\u001b[0m\u001b[0;34m:\u001b[0m\u001b[0;34m\u001b[0m\u001b[0;34m\u001b[0m\u001b[0m\n",
      "\u001b[0;32m/home/wwitzel/Prove-It/packages/proveit/_core_/judgment.py\u001b[0m in \u001b[0;36m_repr_html_\u001b[0;34m(self)\u001b[0m\n\u001b[1;32m   1212\u001b[0m             html += ('<a class=\"ProveItLink\" '\n\u001b[1;32m   1213\u001b[0m                      \u001b[0;34m'href=\"%s\" style=\"text-decoration: none\">'\u001b[0m\u001b[0;34m\u001b[0m\u001b[0;34m\u001b[0m\u001b[0m\n\u001b[0;32m-> 1214\u001b[0;31m                      % proof.get_link())\n\u001b[0m\u001b[1;32m   1215\u001b[0m         \u001b[0mhtml\u001b[0m \u001b[0;34m+=\u001b[0m \u001b[0;34m'&nbsp;&#x22A2;&nbsp;&nbsp;'\u001b[0m  \u001b[0;31m# turnstile symbol\u001b[0m\u001b[0;34m\u001b[0m\u001b[0;34m\u001b[0m\u001b[0m\n\u001b[1;32m   1216\u001b[0m         \u001b[0;32mif\u001b[0m \u001b[0mproof\u001b[0m \u001b[0;32mis\u001b[0m \u001b[0;32mnot\u001b[0m \u001b[0;32mNone\u001b[0m\u001b[0;34m:\u001b[0m\u001b[0;34m\u001b[0m\u001b[0;34m\u001b[0m\u001b[0m\n",
      "\u001b[0;32m/home/wwitzel/Prove-It/packages/proveit/_core_/proof.py\u001b[0m in \u001b[0;36mget_link\u001b[0;34m(self)\u001b[0m\n\u001b[1;32m    753\u001b[0m         \u001b[0mReturn\u001b[0m \u001b[0mthe\u001b[0m \u001b[0mHTML\u001b[0m \u001b[0mlink\u001b[0m \u001b[0mto\u001b[0m \u001b[0mthe\u001b[0m \u001b[0mtheorem\u001b[0m \u001b[0mproof\u001b[0m \u001b[0mfile\u001b[0m\u001b[0;34m.\u001b[0m\u001b[0;34m\u001b[0m\u001b[0;34m\u001b[0m\u001b[0m\n\u001b[1;32m    754\u001b[0m         '''\n\u001b[0;32m--> 755\u001b[0;31m         \u001b[0;32mreturn\u001b[0m \u001b[0mself\u001b[0m\u001b[0;34m.\u001b[0m\u001b[0m_stored_theorem\u001b[0m\u001b[0;34m(\u001b[0m\u001b[0;34m)\u001b[0m\u001b[0;34m.\u001b[0m\u001b[0mget_proof_link\u001b[0m\u001b[0;34m(\u001b[0m\u001b[0;34m)\u001b[0m\u001b[0;34m\u001b[0m\u001b[0;34m\u001b[0m\u001b[0m\n\u001b[0m\u001b[1;32m    756\u001b[0m \u001b[0;34m\u001b[0m\u001b[0m\n\u001b[1;32m    757\u001b[0m     \"\"\"\n",
      "\u001b[0;32m/home/wwitzel/Prove-It/packages/proveit/_core_/proof.py\u001b[0m in \u001b[0;36m_stored_theorem\u001b[0;34m(self)\u001b[0m\n\u001b[1;32m    747\u001b[0m     \u001b[0;32mdef\u001b[0m \u001b[0m_stored_theorem\u001b[0m\u001b[0;34m(\u001b[0m\u001b[0mself\u001b[0m\u001b[0;34m)\u001b[0m\u001b[0;34m:\u001b[0m\u001b[0;34m\u001b[0m\u001b[0;34m\u001b[0m\u001b[0m\n\u001b[1;32m    748\u001b[0m         \u001b[0;32mfrom\u001b[0m \u001b[0;34m.\u001b[0m\u001b[0m_theory_storage\u001b[0m \u001b[0;32mimport\u001b[0m \u001b[0mStoredTheorem\u001b[0m\u001b[0;34m\u001b[0m\u001b[0;34m\u001b[0m\u001b[0m\n\u001b[0;32m--> 749\u001b[0;31m         \u001b[0;32mreturn\u001b[0m \u001b[0mStoredTheorem\u001b[0m\u001b[0;34m(\u001b[0m\u001b[0mself\u001b[0m\u001b[0;34m.\u001b[0m\u001b[0mtheory\u001b[0m\u001b[0;34m,\u001b[0m \u001b[0mself\u001b[0m\u001b[0;34m.\u001b[0m\u001b[0mname\u001b[0m\u001b[0;34m)\u001b[0m\u001b[0;34m\u001b[0m\u001b[0;34m\u001b[0m\u001b[0m\n\u001b[0m\u001b[1;32m    750\u001b[0m \u001b[0;34m\u001b[0m\u001b[0m\n\u001b[1;32m    751\u001b[0m     \u001b[0;32mdef\u001b[0m \u001b[0mget_link\u001b[0m\u001b[0;34m(\u001b[0m\u001b[0mself\u001b[0m\u001b[0;34m)\u001b[0m\u001b[0;34m:\u001b[0m\u001b[0;34m\u001b[0m\u001b[0;34m\u001b[0m\u001b[0m\n",
      "\u001b[0;32m/home/wwitzel/Prove-It/packages/proveit/_core_/_theory_storage.py\u001b[0m in \u001b[0;36m__init__\u001b[0;34m(self, theory, name)\u001b[0m\n\u001b[1;32m   2467\u001b[0m         \u001b[0m__pv_it\u001b[0m \u001b[0mdatabase\u001b[0m \u001b[0mentries\u001b[0m\u001b[0;34m.\u001b[0m\u001b[0;34m\u001b[0m\u001b[0;34m\u001b[0m\u001b[0m\n\u001b[1;32m   2468\u001b[0m         '''\n\u001b[0;32m-> 2469\u001b[0;31m         \u001b[0mStoredSpecialStmt\u001b[0m\u001b[0;34m.\u001b[0m\u001b[0m__init__\u001b[0m\u001b[0;34m(\u001b[0m\u001b[0mself\u001b[0m\u001b[0;34m,\u001b[0m \u001b[0mtheory\u001b[0m\u001b[0;34m,\u001b[0m \u001b[0mname\u001b[0m\u001b[0;34m,\u001b[0m \u001b[0;34m'theorem'\u001b[0m\u001b[0;34m)\u001b[0m\u001b[0;34m\u001b[0m\u001b[0;34m\u001b[0m\u001b[0m\n\u001b[0m\u001b[1;32m   2470\u001b[0m \u001b[0;34m\u001b[0m\u001b[0m\n\u001b[1;32m   2471\u001b[0m     \u001b[0;32mdef\u001b[0m \u001b[0mget_proof_link\u001b[0m\u001b[0;34m(\u001b[0m\u001b[0mself\u001b[0m\u001b[0;34m)\u001b[0m\u001b[0;34m:\u001b[0m\u001b[0;34m\u001b[0m\u001b[0;34m\u001b[0m\u001b[0m\n",
      "\u001b[0;32m/home/wwitzel/Prove-It/packages/proveit/_core_/_theory_storage.py\u001b[0m in \u001b[0;36m__init__\u001b[0;34m(self, theory, name, kind)\u001b[0m\n\u001b[1;32m   2294\u001b[0m             \u001b[0mself\u001b[0m\u001b[0;34m.\u001b[0m\u001b[0mtheory_folder_storage\u001b[0m \u001b[0;34m=\u001b[0m\u001b[0;31m \u001b[0m\u001b[0;31m\\\u001b[0m\u001b[0;34m\u001b[0m\u001b[0;34m\u001b[0m\u001b[0m\n\u001b[1;32m   2295\u001b[0m                 \u001b[0mself\u001b[0m\u001b[0;34m.\u001b[0m\u001b[0mtheory\u001b[0m\u001b[0;34m.\u001b[0m\u001b[0m_theory_folder_storage\u001b[0m\u001b[0;34m(\u001b[0m\u001b[0;34m'theorems'\u001b[0m\u001b[0;34m)\u001b[0m\u001b[0;34m\u001b[0m\u001b[0;34m\u001b[0m\u001b[0m\n\u001b[0;32m-> 2296\u001b[0;31m             \u001b[0mhash_dir\u001b[0m \u001b[0;34m=\u001b[0m \u001b[0mself\u001b[0m\u001b[0;34m.\u001b[0m\u001b[0mtheory\u001b[0m\u001b[0;34m.\u001b[0m\u001b[0m_storage\u001b[0m\u001b[0;34m.\u001b[0m\u001b[0mget_theorem_hash\u001b[0m\u001b[0;34m(\u001b[0m\u001b[0mname\u001b[0m\u001b[0;34m)\u001b[0m\u001b[0;34m\u001b[0m\u001b[0;34m\u001b[0m\u001b[0m\n\u001b[0m\u001b[1;32m   2297\u001b[0m         \u001b[0;32melse\u001b[0m\u001b[0;34m:\u001b[0m\u001b[0;34m\u001b[0m\u001b[0;34m\u001b[0m\u001b[0m\n\u001b[1;32m   2298\u001b[0m             \u001b[0;32mraise\u001b[0m \u001b[0mValueError\u001b[0m\u001b[0;34m(\u001b[0m\u001b[0;34m\"kind must be 'axiom' or 'theorem'\"\u001b[0m\u001b[0;34m)\u001b[0m\u001b[0;34m\u001b[0m\u001b[0;34m\u001b[0m\u001b[0m\n",
      "\u001b[0;32m/home/wwitzel/Prove-It/packages/proveit/_core_/_theory_storage.py\u001b[0m in \u001b[0;36mget_theorem_hash\u001b[0;34m(self, name)\u001b[0m\n\u001b[1;32m    576\u001b[0m         folder).\n\u001b[1;32m    577\u001b[0m         '''\n\u001b[0;32m--> 578\u001b[0;31m         \u001b[0mlist\u001b[0m\u001b[0;34m(\u001b[0m\u001b[0mself\u001b[0m\u001b[0;34m.\u001b[0m\u001b[0m_load_special_names\u001b[0m\u001b[0;34m(\u001b[0m\u001b[0;34m'theorem'\u001b[0m\u001b[0;34m)\u001b[0m\u001b[0;34m)\u001b[0m\u001b[0;34m\u001b[0m\u001b[0;34m\u001b[0m\u001b[0m\n\u001b[0m\u001b[1;32m    579\u001b[0m         \u001b[0;32mtry\u001b[0m\u001b[0;34m:\u001b[0m\u001b[0;34m\u001b[0m\u001b[0;34m\u001b[0m\u001b[0m\n\u001b[1;32m    580\u001b[0m             \u001b[0;32mreturn\u001b[0m \u001b[0mself\u001b[0m\u001b[0;34m.\u001b[0m\u001b[0m_special_hash_ids\u001b[0m\u001b[0;34m[\u001b[0m\u001b[0;34m'theorem'\u001b[0m\u001b[0;34m]\u001b[0m\u001b[0;34m[\u001b[0m\u001b[0mname\u001b[0m\u001b[0;34m]\u001b[0m\u001b[0;34m\u001b[0m\u001b[0;34m\u001b[0m\u001b[0m\n",
      "\u001b[0;32m/home/wwitzel/Prove-It/packages/proveit/_core_/_theory_storage.py\u001b[0m in \u001b[0;36m_load_special_names\u001b[0;34m(self, kind)\u001b[0m\n\u001b[1;32m    543\u001b[0m                                 \u001b[0m_theory_folder_storage\u001b[0m\u001b[0;34m.\u001b[0m\u001b[0mpath\u001b[0m\u001b[0;34m,\u001b[0m \u001b[0mhash_folder\u001b[0m\u001b[0;34m,\u001b[0m\u001b[0;34m\u001b[0m\u001b[0;34m\u001b[0m\u001b[0m\n\u001b[1;32m    544\u001b[0m                                 'unique_rep.pv_it')\n\u001b[0;32m--> 545\u001b[0;31m                             \u001b[0;32mwith\u001b[0m \u001b[0mopen\u001b[0m\u001b[0;34m(\u001b[0m\u001b[0munique_rep_filename\u001b[0m\u001b[0;34m,\u001b[0m \u001b[0;34m'r'\u001b[0m\u001b[0;34m)\u001b[0m \u001b[0;32mas\u001b[0m \u001b[0mf\u001b[0m\u001b[0;34m:\u001b[0m\u001b[0;34m\u001b[0m\u001b[0;34m\u001b[0m\u001b[0m\n\u001b[0m\u001b[1;32m    546\u001b[0m                                 \u001b[0mrep\u001b[0m \u001b[0;34m=\u001b[0m \u001b[0mf\u001b[0m\u001b[0;34m.\u001b[0m\u001b[0mread\u001b[0m\u001b[0;34m(\u001b[0m\u001b[0;34m)\u001b[0m\u001b[0;34m\u001b[0m\u001b[0;34m\u001b[0m\u001b[0m\n\u001b[1;32m    547\u001b[0m                             \u001b[0mstorage_ids\u001b[0m \u001b[0;34m=\u001b[0m\u001b[0;31m \u001b[0m\u001b[0;31m\\\u001b[0m\u001b[0;34m\u001b[0m\u001b[0;34m\u001b[0m\u001b[0m\n",
      "\u001b[0;32m/projects/percept/linux_rhel6/anaconda3/lib/python3.7/_bootlocale.py\u001b[0m in \u001b[0;36mgetpreferredencoding\u001b[0;34m(do_setlocale)\u001b[0m\n\u001b[1;32m     31\u001b[0m                 \u001b[0;32mreturn\u001b[0m \u001b[0mlocale\u001b[0m\u001b[0;34m.\u001b[0m\u001b[0mgetpreferredencoding\u001b[0m\u001b[0;34m(\u001b[0m\u001b[0mdo_setlocale\u001b[0m\u001b[0;34m)\u001b[0m\u001b[0;34m\u001b[0m\u001b[0;34m\u001b[0m\u001b[0m\n\u001b[1;32m     32\u001b[0m     \u001b[0;32melse\u001b[0m\u001b[0;34m:\u001b[0m\u001b[0;34m\u001b[0m\u001b[0;34m\u001b[0m\u001b[0m\n\u001b[0;32m---> 33\u001b[0;31m         \u001b[0;32mdef\u001b[0m \u001b[0mgetpreferredencoding\u001b[0m\u001b[0;34m(\u001b[0m\u001b[0mdo_setlocale\u001b[0m\u001b[0;34m=\u001b[0m\u001b[0;32mTrue\u001b[0m\u001b[0;34m)\u001b[0m\u001b[0;34m:\u001b[0m\u001b[0;34m\u001b[0m\u001b[0;34m\u001b[0m\u001b[0m\n\u001b[0m\u001b[1;32m     34\u001b[0m             \u001b[0;32massert\u001b[0m \u001b[0;32mnot\u001b[0m \u001b[0mdo_setlocale\u001b[0m\u001b[0;34m\u001b[0m\u001b[0;34m\u001b[0m\u001b[0m\n\u001b[1;32m     35\u001b[0m             \u001b[0;32mif\u001b[0m \u001b[0msys\u001b[0m\u001b[0;34m.\u001b[0m\u001b[0mflags\u001b[0m\u001b[0;34m.\u001b[0m\u001b[0mutf8_mode\u001b[0m\u001b[0;34m:\u001b[0m\u001b[0;34m\u001b[0m\u001b[0;34m\u001b[0m\u001b[0m\n",
      "\u001b[0;31mKeyboardInterrupt\u001b[0m: "
     ]
    }
   ],
   "source": [
    "%qed"
   ]
  },
  {
   "cell_type": "code",
   "execution_count": null,
   "metadata": {},
   "outputs": [],
   "source": []
  }
 ],
 "metadata": {
  "kernelspec": {
   "display_name": "Python 3",
   "language": "python",
   "name": "python3"
  },
  "language_info": {
   "codemirror_mode": {
    "name": "ipython",
    "version": 3
   },
   "file_extension": ".py",
   "mimetype": "text/x-python",
   "name": "python",
   "nbconvert_exporter": "python",
   "pygments_lexer": "ipython3",
   "version": "3.7.3"
  }
 },
 "nbformat": 4,
 "nbformat_minor": 1
}
