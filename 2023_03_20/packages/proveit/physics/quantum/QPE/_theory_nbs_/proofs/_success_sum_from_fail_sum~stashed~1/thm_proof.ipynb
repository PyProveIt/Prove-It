{
 "cells": [
  {
   "cell_type": "markdown",
   "metadata": {},
   "source": [
    "Proof of <a class=\"ProveItLink\" href=\"../../../../../../_theory_nbs_/theory.ipynb\">proveit</a>.<a class=\"ProveItLink\" href=\"../../../../../_theory_nbs_/theory.ipynb\">physics</a>.<a class=\"ProveItLink\" href=\"../../../../_theory_nbs_/theory.ipynb\">quantum</a>.<a class=\"ProveItLink\" href=\"../../theory.ipynb\">QPE</a>.<a class=\"ProveItLink\" href=\"../../theorems.ipynb#_success_sum_from_fail_sum\">_success_sum_from_fail_sum</a> theorem\n",
    "========"
   ]
  },
  {
   "cell_type": "code",
   "execution_count": 1,
   "metadata": {},
   "outputs": [],
   "source": [
    "import proveit\n",
    "theory = proveit.Theory() # the theorem's theory"
   ]
  },
  {
   "cell_type": "code",
   "execution_count": 2,
   "metadata": {},
   "outputs": [
    {
     "data": {
      "text/html": [
       "Under these <a href=\"presumptions.txt\">presumptions</a>, we begin our proof of<br><strong id=\"_success_sum_from_fail_sum\">_success_sum_from_fail_sum:</strong> <a class=\"ProveItLink\" href=\"../../../__pv_it/theorems/469336735981f62da182fa61d3335e55594e840b0/expr.ipynb\"><img src=\"data:image/png;base64,iVBORw0KGgoAAAANSUhEUgAAAVYAAAAVBAMAAADvOtvGAAAAMFBMVEX///+IiIgiIiIQEBB2dnbu\n",
       "7u5ERETMzMzc3NwyMjK6urpmZmaYmJiqqqpUVFQAAAB6qHgnAAAAAXRSTlMAQObYZgAAAAlwSFlz\n",
       "AAAOxAAADsQBlSsOGwAABA5JREFUSMeVl1loE0EYx79td5NtkrarqC8e1fpQPAoqCiKCqRSReq0g\n",
       "ERG1QS1VqomCDyLYFWv1SfuiCF5Bi6+m4AEekGoR1D7Ei+KBRhERBE2hh7ZinWuTnexktn7wpZ3Z\n",
       "b//z25lvvtkF8DYLJtZ4xSjVcRaLTRfLuE0k7JbSi0m6701Dg3eUmmCx2AKGUMZtDeOSsj2DO97L\n",
       "KF5RySlj+79eMD1YX7HWNKEMHDTdrEps6MeeW3Ip5ndx+7wEVetgj/8bwLdEzopjiZWZAhnt+xUB\n",
       "K1Sim3aaUinmR3EuNEpYgykq6e8HKO+Xs+JYYqGkSAaqRKytaHU/GlIp5hhZTUtYS5mkMox8QM5a\n",
       "mmsuEcmIWavQVqoKy6WohxB/mSxd3zBJXxb5sJz1Ta55USQjZo1hj8ulmC+qrl4sY71pp1UjXS4Z\n",
       "K47V6qYiovUiGTHrEM0vqRTzOwC73UOHucdiadVW61GzcOzVuB/d/ITkaDWxTG6iRayIU1+Z9pBi\n",
       "fhr0jHvo/N6otdPqS/1Tr/qKYvU/oKB/XxZery3GqvytX5uAzi7cfAiRrFCKuc+k9YyaPq8BHmWc\n",
       "rMscaeXFimJ9/RPIKhReX5Zn3UJmu4ax4n0AMHgS/x4APSuUYl5u5LbWga974YNqBk0R6+/xsVbS\n",
       "RbomYeXnFZdX0BbYZTgrlLK9o9sugXfwEWYkVVhzb969BJ8DflKupvekIlllISh132DSDEvtNpT3\n",
       "a3FvbuEq6fZ7UZivRXOgFW+NIwOptmcJLZZn5aVsX3cW/WzqTtGDse/tMZXL1yhLqxF8OId1A61S\n",
       "FNbATTUZDF+C+51wDPfSAVBsCRoa7ZTHhfMaLcZalaDT+QWWwpk8Ky9l+3H03FoNZDRyevWp2zo5\n",
       "1vVUsgynlX/0Nc6oT9ovOLHD0jdn4XrrAxP30gFQbKgDtlqsRDmNFLENlpv1Clv6U9ACO/KsvJTt\n",
       "FagOV2TaUgFyqvVBcgrHepBIBmNDeEWujyUwawAp3kBiy3ufBmIjuJcOgGMn9eLAuYWs+NKPFZdT\n",
       "hay3x6KUVamb5WTlpeY6JEvvv4bQuaamfYh1UxlXX0vi+Vc3vxnqwDmgDwKcMcGPhA/BE9xLByix\n",
       "jx99ZiFrSRwk74QIcT5ETQcrJ2U7sUo01/4wndfAc04OvzfYkuVJaIRBbTHsgo2+sGa0wMZ34CO9\n",
       "ZIDcK0swVUjlfpvhWbVBmGU4WDkp24n50mgmyfGF6v0MXq/ZwdrVY0FP7+e0WmdA/QRAf95NW016\n",
       "aZFuZoHtbqxmGev2UWtq7+HJP5NbR0Eg1e6U1Lq6TWhH0+6fY0EFrxeB8X8XRIqDReD/vgucUs0u\n",
       "SW1V017BraggrfT+3pqdYLGkZQll3CYSdksx/wdg4Fi2MU2rmgAAAABJRU5ErkJggg==\n",
       "\" style=\"display:inline;vertical-align:middle;\" /></a><br>(see <a class=\"ProveItLink\" href=\"../../../__pv_it/theorems/115ff0496cca516f755840a81cc1effef9924b7c0/dependencies.ipynb\">dependencies</a>)<br>"
      ],
      "text/plain": [
       "_success_sum_from_fail_sum: forall_{e in NaturalPos} ([Psuccess](e) = (1 - [Pfail](e)))"
      ]
     },
     "execution_count": 2,
     "metadata": {},
     "output_type": "execute_result"
    }
   ],
   "source": [
    "%proving _success_sum_from_fail_sum"
   ]
  },
  {
   "cell_type": "code",
   "execution_count": null,
   "metadata": {},
   "outputs": [],
   "source": []
  }
 ],
 "metadata": {
  "kernelspec": {
   "display_name": "Python 3",
   "language": "python",
   "name": "python3"
  },
  "language_info": {
   "codemirror_mode": {
    "name": "ipython",
    "version": 3
   },
   "file_extension": ".py",
   "mimetype": "text/x-python",
   "name": "python",
   "nbconvert_exporter": "python",
   "pygments_lexer": "ipython3",
   "version": "3.7.3"
  }
 },
 "nbformat": 4,
 "nbformat_minor": 1
}