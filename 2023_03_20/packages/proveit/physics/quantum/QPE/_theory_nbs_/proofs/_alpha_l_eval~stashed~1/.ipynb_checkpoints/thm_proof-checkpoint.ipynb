{
 "cells": [
  {
   "cell_type": "markdown",
   "metadata": {},
   "source": [
    "Proof of <a class=\"ProveItLink\" href=\"../../../../../../_theory_nbs_/theory.ipynb\">proveit</a>.<a class=\"ProveItLink\" href=\"../../../../../_theory_nbs_/theory.ipynb\">physics</a>.<a class=\"ProveItLink\" href=\"../../../../_theory_nbs_/theory.ipynb\">quantum</a>.<a class=\"ProveItLink\" href=\"../../theory.ipynb\">QPE</a>.<a class=\"ProveItLink\" href=\"../../theorems.ipynb#_alpha_l_eval\">_alpha_l_eval</a> theorem\n",
    "========"
   ]
  },
  {
   "cell_type": "code",
   "execution_count": 1,
   "metadata": {},
   "outputs": [],
   "source": [
    "import proveit\n",
    "from proveit import defaults\n",
    "from proveit import k, l, n, t\n",
    "from proveit.logic import InSet\n",
    "from proveit.numbers import Complex, Integer\n",
    "from proveit.numbers import zero, one, two, Interval, subtract, Exp\n",
    "from proveit.physics.quantum import NumKet\n",
    "from proveit.physics.quantum.QPE import _t, _b, ModAdd, _t_in_natural_pos, _mod_add_closure\n",
    "from proveit.physics.quantum.QPE import (\n",
    "    _alpha_def, _psi_t_var_formula, _Psi_def, _best_is_int, _phase_is_real)\n",
    "from proveit.physics.quantum.QFT import invFT_on_matrix_elem\n",
    "theory = proveit.Theory() # the theorem's theory"
   ]
  },
  {
   "cell_type": "code",
   "execution_count": 2,
   "metadata": {},
   "outputs": [
    {
     "data": {
      "text/html": [
       "Under these <a href=\"presumptions.txt\">presumptions</a>, we begin our proof of<br><strong id=\"_alpha_l_eval\">_alpha_l_eval:</strong> <a class=\"ProveItLink\" href=\"../../../__pv_it/theorems/09ed3b1ae9e8d0e41248ed06313aeff763c3b19b0/expr.ipynb\"><img src=\"data:image/png;base64,iVBORw0KGgoAAAANSUhEUgAAAfIAAABLCAMAAAC8/fXrAAAANlBMVEX///+/v7+urq6IiIgiIiIQ\n",
       "EBB2dnbu7u5ERETMzMzc3NwyMjK6urpmZmaYmJiqqqpUVFQAAADjR+GvAAAAAXRSTlMAQObYZgAA\n",
       "AAlwSFlzAAAOxAAADsQBlSsOGwAACkhJREFUeNrtXYmagyYQtuWSG97/ZSteUUCFIanfp0u7bXZ2\n",
       "55+EYU7A7brWIdVdCO2SnzAEZgBKy9DuLoR2yc8Y1EEo8GEJuwmhXfJTBjEQCnSwZigoQsQn9HtV\n",
       "rrwAUKDDybsQIj6DXmzmrodQYIN7dRNCxIewti/O4LwFUIA5s7wLYeZjlDoXYjrO+X4jX6LzHkMo\n",
       "oAyq2cihCAtfiOB6+Cwso1yOEH6JyrlHAArI1PBdCAtf0LzwvLO6y2SB9i0q73oCoXxjbf1fCCuf\n",
       "YZPKhTbizSq3SaQuoQASRc9uQtjx0UPFvkflnZcQSnVl7PubEHZ8/LiZ+CKVu8HV1VNqh2l2FFCE\n",
       "LZ/oNxrn/TLEy1SuPAVQqlOGZr8ORdjwha6bEH9W3nkCodR619YJzSHwgj2fDZ/oOeea/al8MAMO\n",
       "oNR611Y3kSAwp2WB4W/4iA8j/2uCSk9f04dFiTpKKLUJQ2sfJoeAClTeLvmBgyf5eAmlbhDf+i5z\n",
       "CCUqb5f8yGCezFwJ5f5QXqLyJsmNuy96W1Uq3ikcR0chBwnot1v5TGbwZeL7Sig1wzZX5VmEApW3\n",
       "SD49SaMs0tkp4as/tJtteR5avEsObJEzU8t3rA9/vHufS3J10sksoVRNXnP2lkUoUHmD5POtNRI8\n",
       "yIXsTSe/H216ftuiMx2j3bIIlPmtzo3LJLU9gFIzZHMjJotQoHK4ZH5+dkqE31gsXpLhH72Ugqts\n",
       "IRBaCoJg3BJRPrr4sK3DzPq7vz6X19s0fyMASl3u1dq9yyIUqBwuWV66h15Nqu9URzu6LIRRjWO/\n",
       "xwvL+um1NZPVhx+Gl/OXoasL+Gk4T1YvS4rVEkpbgvgVhAKVR3zSHwyUJgFX2DosJjFmh4OXHtUW\n",
       "vgtaHancj+cxxtcm2NmQR6nhh9QY48LXADFlAy3VkClZ0mlW4hNTKKGUD+FbK6U8wrXKYz7ro8/B\n",
       "hEKO+NSH4Ssjp6xb1wlV3ZojrY4dUYHZ3N7laNKsUx8rH0iY2QIrX0/zZN3Y4fs0GH2mIW4z4yTg\n",
       "lVBq0u3WGi2PcK3yhM/5HJJJPh2/gg7+YkUamG2ici0Gg15gg5kphMK3wo4qF4P2KQqq4BeraznN\n",
       "Ux0MPxVFT5O3jwCU8oGaN1/zCPTy8G3Kh713VzV0970znuuiUjtfPGTsaKfS0+A0n+ap9owbkbEX\n",
       "c0klU0IpH7S5LM8huMEhS2cq+fhgnTkevV89/tuFE9rgq7UuH13ElTKX0zyTIvGUfCxwcgUyY1Pg\n",
       "c2Lf9J1AdFG/jYtX1xVRPkRbMyXOt5YhUIQMH9rM125i9wtDfFnlHav+wW7tzo6daSZMt7G+VeUq\n",
       "VAtOfDpBDg0VA5k/B9axLciuiPLpN8maKel9a4MJipDj6/11amGSbDE6UOG/PEo6aKF7w4K/mNo4\n",
       "UzcnqHx8EQIFnb7mNk/IHBYPomWsTtwVUbiLc5TCPkqryqEIOT42JOhXaO57h9q/cRtqOs3DJ5Pt\n",
       "O67nZpGYVD6+QFNiGP4/fi+81nzj22JfR7oyytKip1XpO27ut0IRsnxqsKqL90++1xD7wm2o3Wme\n",
       "wdqUyzh2Nxm6tZ9QrnAn1tKFR27MJ44tT1myjjojIM0qhyLk+ehQh59H0A8bcwS32GnDbahF9P40\n",
       "j0adIhmVGzf4YK7pJ5QP4WCN+jxa5OUq7wgOg9DKiY9WOqXU8SaENr6hqD5ftGvCzgi2BmTzy1Yb\n",
       "uCWxit6f5gmOdrM39snYrfSk35Tig4G7tTfHohLEJgo+pEzhoWeVE7+/64tV+EBiij2bogBvhjtD\n",
       "gErehnN6WtKuLRQ8fgvoF89bbQycFVSLPg0h0dqvULlwy38Gv7P/HUd6qod/M+L2E09G6b0OhwNi\n",
       "kKM3DFT5EV/SeI2Ld7sz9x4gfd5qy9+GKnrvtaJ7WxSqlnwmzXAOKMHAqZo9yTQ/yPXBoWARGs+5\n",
       "Mx77bEn7pWygH5BL1ZUFRBY57EM+fRrO1XIghM81FCyTCLOSvw1V8AnqRZ+e942KFJ7sUx1TLFqT\n",
       "tylVWEuBUC1YYbIK+3dr5FOBRwllK8i1yv/dfXdY1kap1p5vn8ufpAerlQ8vRBigjUAN2ohaPkGT\n",
       "6EuV/5Mo+IQi15gRQnKHtjrW+X7xztbYPNV0ImJVEss9cFPnmE+c9WM2jh1eYm232kDv/atnrCO0\n",
       "GisfSvK5OB/PAbFtT8aIfL94P/GLyskK8j3HXs6HiDhL35aFrCf3D2i/7rbaQE4CLPq0BlnVmSzz\n",
       "Q4pYSpYxCm/PbTHU0YK8edq0MkNI56Wh/NsZe4jW/DSgLjbBMDEK4TsuNXxVdLyvUpO+DZk534Ry\n",
       "I6fGcwCkwZd1jF1NPKXGDFmeDrdDykL5mcpPu/1HfPzCaxC9CTde3nSN5Yui48fs1Kl8zTMU223v\n",
       "Kzue3KUskyodKmwEKchpDhHOIwM+qssvZlL23bNGfK4LpnI/ZiefrgwdczeFc2HtcIZ9WYoTIwit\n",
       "Zc+7yyLvQLK8aqFq8jCVx49SsMkmSglFo/GEZ7/UaM45RHuZaU72x8XlBHJd4e4Rxo08OvgqQbGk\n",
       "vJhvoV7asPEPexpk7+IPiLt6yuIkaYjlp4pzzZunEYIb4zcZ9/ZstWSd7VnYfbh42JPh4gCXnhAr\n",
       "oVSkIc2nYiIEMhqhC0dXzs0xJ9lkyzOz13H/rGd+Jo/oTE+IlVAqAsm3z76NOw7j40wUqZWcL88s\n",
       "idfFs0K5TGxBAyjlwzSfcM0i4CGhRK5jvIYv+6xKlnw69qxr6cQmSQ4CUGrcSqvN5BDG57lplKsK\n",
       "j/ky5ZmwLrOvRp/0fE9E0lLGAig1rZ9f3FYZ2/Bcn97QSfikl9uB8XT+IJObEv5gI8/c1Suh1OSL\n",
       "zWeEUwTdA/j00QnTtGPzoMf4IpmZlx8/RgI3R8YEwbhfS5bmIRoXaYkikkBZQqkrq1unL0awocUi\n",
       "xC8lMyweoXGGbSbHkQBKlWdp7sVECFNrv+ApKy2ShXxECy53lOr3TwFTzVXaHkFgHQb+sWTxhAyO\n",
       "qazzswBKldjmlH2PMF/Fk/+H5EcOnGRmJZRKEaL5TYpv8JnskQNKEX2TxlmSmZVQ6gZtzt+gCDEf\n",
       "yfi5cJhP9S9SuU22HkootaG4dWMFihDxiZyfH7suXrxH5b8P5d2vnuhZz7e9Z/9ZBiFokRf9Ia10\n",
       "LksolUM3PwYMirDnW+7Z6/W6uJmfC4PNazTOE49ZQqn3r/QmhD3f7p79+ulGK3/Pn0hEic8uodT7\n",
       "EnIXwpZvf89+59j9exy7JBAKYGWpmxC2fOs9+61jf1v6xhN/WUIBjObYAEbY8O3v2a+LIhRp7/kD\n",
       "5+lfHyuhgApkdhPChm9/z37bitGv+QPnLDGdEgpMEr0JgflXtdauA50AUICi2E0IyLM/TX/SWQ2h\n",
       "wAamdyHgPzM/Wf8lFOCwzd4CimDf1E29inIGQAEP3d+FoPs/Zc+peA+hNDhmcxfCi9qpp0MlT8gp\n",
       "obQ0AZrBoAic/GVw49JXEErTIhN3Iai/aN7lTkVdUP4DuQqEjGTTF+AAAAAASUVORK5CYII=\n",
       "\" style=\"display:inline;vertical-align:middle;\" /></a><br>(see <a class=\"ProveItLink\" href=\"../../../__pv_it/theorems/72a1d38f108ecf522ec78fe669d996ff38a42f690/dependencies.ipynb\">dependencies</a>)<br>"
      ],
      "text/plain": [
       "_alpha_l_eval: forall_{l in Integer} (alpha_{l} = ((1 / 2^{t}) * (Sum_{k=0}^{2^{t} - 1} (e^{-((2 * pi * i * k * (b MOD_ADD l)) / 2^{t})} * e^{2 * pi * i * phase * k}))))"
      ]
     },
     "execution_count": 2,
     "metadata": {},
     "output_type": "execute_result"
    }
   ],
   "source": [
    "%proving _alpha_l_eval"
   ]
  },
  {
   "cell_type": "code",
   "execution_count": 3,
   "metadata": {},
   "outputs": [
    {
     "data": {
      "text/html": [
       "<strong id=\"defaults.assumptions\">defaults.assumptions:</strong> <a class=\"ProveItLink\" href=\"../../../__pv_it/_proof__alpha_l_eval/5eb624a5b710d6619706ab3334bc29c46f8af8bb0/expr.ipynb\"><img src=\"data:image/png;base64,iVBORw0KGgoAAAANSUhEUgAAADoAAAAVBAMAAADlb+D4AAAAMFBMVEX////MzMxUVFRERES6uroi\n",
       "IiIQEBCYmJhmZmYyMjLu7u52dnaqqqqIiIjc3NwAAACW8nlqAAAAAXRSTlMAQObYZgAAAAlwSFlz\n",
       "AAAOxAAADsQBlSsOGwAAAUZJREFUKM9jYGB4wIAd8IEI3gPowjzTvk0ONStguQBkn2Zg2PoRRZbX\n",
       "SIBhAicDw3UGBq4JDAzsH1BkORoYeAv2MDBwLmDgKAByJ6DIMj1gWMxlANTUwMAG5LJegJhoGhoJ\n",
       "orkYGBqZBICMLIaTQPI9iMnAMncBTDejggSIms7QDSTrwUIv4ZIMzAusQNQmoDwDgzJYaB7C5tPs\n",
       "YLsqGWKAZC5YCMlpIP8AwTGGFKAt/8B2pYaGhgZDnHdgCwMD0B55kCxvAtilBnCti/mAbD0GBjeQ\n",
       "ycwKYPcEwGUVgT7mAobQUQZbBgb+gg0gsbtw/zR4AIMEqLgY6GoGfi+wCzkPwP0zi4HPBmh4N4Mo\n",
       "MMS6wYJcyl4QWTfLZOP8ZKB5IQysAnDrWDZDQhIewQGgoMYFQBFkh1P2MchzOGVB+vgu4JDkfcAA\n",
       "AKPvQYVQFXJsAAAAAElFTkSuQmCC\n",
       "\" style=\"display:inline;vertical-align:middle;\" /></a><br>"
      ],
      "text/plain": [
       "defaults.assumptions: (l in Integer)"
      ]
     },
     "execution_count": 3,
     "metadata": {},
     "output_type": "execute_result"
    }
   ],
   "source": [
    "defaults.assumptions = _alpha_l_eval.conditions"
   ]
  },
  {
   "cell_type": "code",
   "execution_count": 4,
   "metadata": {},
   "outputs": [
    {
     "data": {
      "text/html": [
       "<span style=\"font-size:20px;\"> <a class=\"ProveItLink\" href=\"../../axioms.ipynb#_alpha_def\" style=\"text-decoration: none\">&nbsp;&#x22A2;&nbsp;&nbsp;</a><a class=\"ProveItLink\" href=\"../../../__pv_it/axioms/ee20ff03cf9127174ba5adece509fe4a0c6d20430/expr.ipynb\"><img src=\"data:image/png;base64,iVBORw0KGgoAAAANSUhEUgAAAN4AAAAVBAMAAADbZk3zAAAAMFBMVEX///+IiIgiIiIQEBB2dnbu\n",
       "7u5ERETMzMzc3NwyMjK6urpmZmaYmJiqqqpUVFQAAAB6qHgnAAAAAXRSTlMAQObYZgAAAAlwSFlz\n",
       "AAAOxAAADsQBlSsOGwAAA35JREFUSMeNVl1IFFEUPjvO7I+7644PUvQDw75UQrCF+RARi6wKljVQ\n",
       "FD2EhWYiBFP0JP1sJPsS1UIUQWZS+WjOg1iE5PoShQ9KP5QUtpHYkz89mEUFnXPvnZl1ndm6cGbu\n",
       "3nPnfOeen+8ugPcIltClxdvw1qbtnwFhrJRBHBu9Vb5J4dIxV3WT/WDDj16Vq1zytPDR7aNo0hvv\n",
       "jXjLk0qrVqSrW3bwpltr59CSidMNXJ6S6rabzSPecEpWTCSAkFmkjCwWnK8sQU9yKaQzueAZlRFv\n",
       "vHBOTD4AxERo18/P6FyZtfCijSBp0J2DZnLDZEKw8qSb0YQ3Xpk1OQkwyFHO6l0Kz5ik2ue7QXhx\n",
       "HTL0eweTCLoack1f1htvqiCudbwEVeiCaB9Nrxs23n5D0pRfCEC12sNlezxe4xozKhc59dVNN2SV\n",
       "KTrbWzlHGwHxoJ4WJ5z6nJiUtMA3UXr7uDwGOOFmM4S2gtVwIH1V4MfZYPXc45SL8lNvQe/XMryD\n",
       "tDjr4H3KSVr5b1EwL7lcg2AelAVu4Evb8B7LFia1TAW/WWUpnbEVeIweoetLtIvaCvHCpNzm4LWY\n",
       "kuZbBt4Fr7n4dbmPZeT0bCdshvoqqyZwdZSqLWmnyx47UVq4GazGGEarLZV6lko1UCZ/OHj+hKRJ\n",
       "VAfUBRe5RNUQy0gYAwu5wPtcAV4tJqZGt9O1Am+K96+UhEGMhGmfz5dw8JQ7klanC354ICQ7ho9q\n",
       "1v/4RRiceCqYavkPKYvyh/Hs3tLIKAHbb1QvxPPndafffQu7VYtQXglpvomOLCq851+8s0kPNxJe\n",
       "ApXF5zuOcpf2pCFmKLtwdp7hDeAslksW8Iuk2TT7XMjlPDVbOYujotqkKePyMMD4orG6E6m0lzjF\n",
       "VuT8RGiyjngKfRzrVwvwYglOs6KJSCoMarbIrfb2UyDLuqKLSwQ9k/eO6UNqeBVxn0GuF8SozHDe\n",
       "e4J4V+jTyFDB/TB97/sc7xuelWorWf0BZnTgHHnKxyY7k/3FeJIBvvxhyoXD0k0DD1WP+4hoFoIa\n",
       "FzZiPt70SRPuW5vGwVEWXwEmhFUik4yzdrTyrdf9Bx2C422eD6+DDIY1Mv+5odcumLSjLB4dEBgx\n",
       "xCXz7/uWXV+Zle6B0tDeufKSO+ZN2Iesg6r/g0c0y87YUfL/xKUSf20snLyreo39YKOCMNNM/gIq\n",
       "odUnUrDALAAAAABJRU5ErkJggg==\n",
       "\" style=\"display:inline;vertical-align:middle;\" /></a></span>"
      ],
      "text/plain": [
       "|- forall_{l in Integer} (alpha_{l} = ({t}_〈b MOD_ADD l| . |Psi〉))"
      ]
     },
     "execution_count": 4,
     "metadata": {},
     "output_type": "execute_result"
    }
   ],
   "source": [
    "_alpha_def"
   ]
  },
  {
   "cell_type": "code",
   "execution_count": 5,
   "metadata": {},
   "outputs": [
    {
     "data": {
      "text/html": [
       "<strong id=\"alpha_l_eq1\">alpha_l_eq1:</strong> <span style=\"font-size:20px;\"><a class=\"ProveItLink\" href=\"../../../__pv_it/axioms/7b8e14bfeec30fa2c83deb2740813fd8ea169a4c0/expr.ipynb\"><img src=\"data:image/png;base64,iVBORw0KGgoAAAANSUhEUgAAAC4AAAAQBAMAAACb51DZAAAAMFBMVEX///+qqqq6urru7u4QEBBE\n",
       "RERUVFTc3NyIiIgyMjJmZmaYmJjMzMwiIiJ2dnYAAACPW0xlAAAAAXRSTlMAQObYZgAAAAlwSFlz\n",
       "AAAOxAAADsQBlSsOGwAAANZJREFUGNNjYEADjFO+TL0bsoGB4e0fFHGOsAMMEziBDO4PKOJcCxg4\n",
       "NjwEMSagiLMVMJgyBwAZvA0Q/bF3b4JoZgaGNWwHgIx6EMHANMMApoMn4RSI2g/mVMKFGVgNgkFU\n",
       "KpgzHWGDHDfYZA8wB8lysCsZeL6DSd+7d+9ehThA4BEDgwEDhwPYFQFw5absQHY6A2sC2MYLcPEc\n",
       "oA+YPzDwb3gA4nXAXblAC+i5Cwz8ymDbOQXgrpzMwB4YwMC9DsxlTlWGiKtEuob6uz6AG8v0FBIO\n",
       "UAAAaDkwDDbpPcIAAAAASUVORK5CYII=\n",
       "\" style=\"display:inline;vertical-align:middle;\" /></a> <a class=\"ProveItLink\" href=\"../../../__pv_it/_proof__alpha_l_eval/4beb84fe45e7bcf69a6f377065d0ac874409bcd90/proof.ipynb\" style=\"text-decoration: none\">&nbsp;&#x22A2;&nbsp;&nbsp;</a><a class=\"ProveItLink\" href=\"../../../__pv_it/axioms/f14c57bbee9b9009684c6cdce0149e28407f2cb90/expr.ipynb\"><img src=\"data:image/png;base64,iVBORw0KGgoAAAANSUhEUgAAAJ0AAAAVBAMAAACu6/FQAAAAMFBMVEX///+YmJgyMjJmZmZERESI\n",
       "iIiqqqoQEBDu7u66uroiIiLc3NzMzMxUVFR2dnYAAAB9mGmPAAAAAXRSTlMAQObYZgAAAAlwSFlz\n",
       "AAAOxAAADsQBlSsOGwAAApZJREFUOMuNlE1oE1EQx//bbbabj66V4tmKIAUvacGTqIEiHmolRURB\n",
       "i6VePNVcpKiXEKperMnFHjUUlJqDBvTUg+xJqAcbxR6Vih9twMYUIY0Y1Jn3nm/TTTY48Hbm7dv9\n",
       "vZl5Mw8IlqJUseDVqDd1vR8CJDQp9fP2y2UaTk5PT9K415E3rfRXzF73LTlPXc2z3s2M0c6X2IO+\n",
       "Djh7QBl5YL9/cW+zfzP8iPBjsAPPVJtZcaCm3p1+/yEtjGHNm3ZRQPQjHM5Ofwdej9LdLsJ1ab5O\n",
       "L9tlYT3UvK4U8SKLiCb4n3Qwb0rpDP2WlwedxDIsDjHa0DynQbwsxXCQ5l0cU2XTbcc7qvQ4fbY6\n",
       "wdE4IB42yDKqmmfUiLeSlMfnlIClnH0jqkrDLAgpsb3PO47soP2LrPOCd5es3oTmWVvEe9AnD8Sg\n",
       "M7wKjITSc1W/f4/Y/yLCBL+S5q9QEjyT85TUPPsH8S5ShCbXTgomgYYdWAN+3jUaWfkZneZvmp2q\n",
       "VI5UKp/JWil69XKCeAucXdouVkUPub6+AXOtHW9K1ugThLli4tq/s039kYkXnEWuKyKEU8iS698n\n",
       "Ecn580fxvlj4Jsq6BrO+gzdmN9XzxPYqZG5g5bGLeOsiMp8cp3GAxijQwG0uhJeCN0/WltPcHwXd\n",
       "5kYCZgLGsZiuNk82adRlG7/BiOjaNPFsTszPm828bdXmEFmr7D5nftHV5skrkQ5RB3OfZO8dJt4z\n",
       "boH+NY9nvf3D9wHXlcoay+OWTom4CJXuQDamFKM8fz8ZcF9xm2NJT6tJP8+Iw0xSM4jGVHLrzOWg\n",
       "+6+bL9MhPT2Uawl4FLEhN/gS8vEy2Ll1q8wqvee/eOP/fAyUqEpBb/vlC3whezdJSTb4X1saw0OO\n",
       "jRd2AAAAAElFTkSuQmCC\n",
       "\" style=\"display:inline;vertical-align:middle;\" /></a></span><br>"
      ],
      "text/plain": [
       "alpha_l_eq1: {l in Integer} |- alpha_{l} = ({t}_〈b MOD_ADD l| . |Psi〉)"
      ]
     },
     "execution_count": 5,
     "metadata": {},
     "output_type": "execute_result"
    }
   ],
   "source": [
    "alpha_l_eq1 = _alpha_def.instantiate()"
   ]
  },
  {
   "cell_type": "code",
   "execution_count": 6,
   "metadata": {},
   "outputs": [
    {
     "data": {
      "text/html": [
       "<span style=\"font-size:20px;\"> <a class=\"ProveItLink\" href=\"../../axioms.ipynb#_Psi_def\" style=\"text-decoration: none\">&nbsp;&#x22A2;&nbsp;&nbsp;</a><a class=\"ProveItLink\" href=\"../../../__pv_it/axioms/151a93fc60a3a028bf0ec63c5a945b9ae3b68d030/expr.ipynb\"><img src=\"data:image/png;base64,iVBORw0KGgoAAAANSUhEUgAAAJgAAAAmBAMAAADKLE8XAAAAMFBMVEX///9mZmbu7u4yMjKYmJgi\n",
       "IiIQEBBERERUVFSqqqrMzMyIiIi6urp2dnbc3NwAAACW/NeYAAAAAXRSTlMAQObYZgAAAAlwSFlz\n",
       "AAAOxAAADsQBlSsOGwAAAyBJREFUSMeNlktoE0EYgP9sskmTzW56qFJUZMEHYg+JHnwcaheEHkR0\n",
       "oVRvJSeNFmrEByooAQ9aL64IxYu6HpQIQkNVED00p14blCIWwaBCT6UPCtJWi/Pa3WknZWYOQ2by\n",
       "z7f/ewZAMmIeqAztoIpUJ6iNl7ZcJlFQhCUqcplXtiIMbspFuoWdtnpryb3Sz6YXlWExqZ16Q9gy\n",
       "NtHAWpPBRoWTqcNbN0mW2wDNcJFpIXBP3DIJ3+K3fDL3AnyPvumLJ5dgE5+ZvOdukXnOI7An188P\n",
       "I2e3Cwcz2A/VM6X7187Z8b4b/UeunIW4x8FqZH5E/dtONUsW8eyKmTiP58kywISf82DcgZH1MBof\n",
       "nYazgGDpadBdmHXgm2gSyf85FPSEtw8wLAUpzkyNamYSvjGPNTuEYf02zAiwZCWAabXfBGbaPCxN\n",
       "3WyVyWIFw374uqstAMSbG2G5BoP9hNobAks02/wIZjK5Y8TByxh22tPdzCpCCxmacxjsFFmO42Ws\n",
       "yWBdHQj2nvzxlNi8hGHPHd3NLgURiPWTUWHRJjBrIILRCkCwxgjshnE7isAqhuXbdddYQasdQgFQ\n",
       "WOnuWgRjqVvPeFuQwkliY4wY/Q/DUkXd1XHcqhthk3Vm5k4RpsEgyowYaCh9MsSOBQzTDujulB2Y\n",
       "3kKzCjyLYPHAZ6ijNKAL0oXA2wQGxsNSLQwK77MQBhEszzRDSWp5MGZNdfvsA6u0AnQ3Shd+zDki\n",
       "7HEIKyfsbJ1UxAwrZALLFaNE5keeKDxa5mCzfdMMlh0y4SQ6ixxEasdapoXe82c4DPC6CsC1X+0p\n",
       "PcCLbOel0jaAo4FmUP36CZk3EeRU5i/Xgljx8yNeFlvQYgiD1/jXB82n/QYFhIPdEft6UdjKFiPY\n",
       "GP61HZUrDbDLwTTxikyI94lR2R/CSEK8OAG7aHOtcDDDES/9ZVHZ2ucQVmN774JC/hg1rxZ3wGWx\n",
       "+XaQrmHwPZ6mzmRTcjv1gvr4IhPI19VhF2QCZkGZZRSlIheVYUn5Q+64MuytXCTuKLKsIYXn5YAi\n",
       "bI/Kc/WX4mvvqpL6vtoDGefQfzcl4ksDDacXAAAAAElFTkSuQmCC\n",
       "\" style=\"display:inline;vertical-align:middle;\" /></a></span>"
      ],
      "text/plain": [
       "|- |Psi〉 = (FT^{dag}_{t} . |psi_{t}〉)"
      ]
     },
     "execution_count": 6,
     "metadata": {},
     "output_type": "execute_result"
    }
   ],
   "source": [
    "_Psi_def"
   ]
  },
  {
   "cell_type": "code",
   "execution_count": 7,
   "metadata": {},
   "outputs": [
    {
     "data": {
      "text/html": [
       "<strong id=\"alpha_l_eq2\">alpha_l_eq2:</strong> <span style=\"font-size:20px;\"><a class=\"ProveItLink\" href=\"../../../__pv_it/axioms/7b8e14bfeec30fa2c83deb2740813fd8ea169a4c0/expr.ipynb\"><img src=\"data:image/png;base64,iVBORw0KGgoAAAANSUhEUgAAAC4AAAAQBAMAAACb51DZAAAAMFBMVEX///+qqqq6urru7u4QEBBE\n",
       "RERUVFTc3NyIiIgyMjJmZmaYmJjMzMwiIiJ2dnYAAACPW0xlAAAAAXRSTlMAQObYZgAAAAlwSFlz\n",
       "AAAOxAAADsQBlSsOGwAAANZJREFUGNNjYEADjFO+TL0bsoGB4e0fFHGOsAMMEziBDO4PKOJcCxg4\n",
       "NjwEMSagiLMVMJgyBwAZvA0Q/bF3b4JoZgaGNWwHgIx6EMHANMMApoMn4RSI2g/mVMKFGVgNgkFU\n",
       "KpgzHWGDHDfYZA8wB8lysCsZeL6DSd+7d+9ehThA4BEDgwEDhwPYFQFw5absQHY6A2sC2MYLcPEc\n",
       "oA+YPzDwb3gA4nXAXblAC+i5Cwz8ymDbOQXgrpzMwB4YwMC9DsxlTlWGiKtEuob6uz6AG8v0FBIO\n",
       "UAAAaDkwDDbpPcIAAAAASUVORK5CYII=\n",
       "\" style=\"display:inline;vertical-align:middle;\" /></a> <a class=\"ProveItLink\" href=\"../../../__pv_it/_proof__alpha_l_eval/2e5d416e07cb4b4a76ea52ef13c5e9071a5ddd460/proof.ipynb\" style=\"text-decoration: none\">&nbsp;&#x22A2;&nbsp;&nbsp;</a><a class=\"ProveItLink\" href=\"../../../__pv_it/_proof__alpha_l_eval/b16e1e40441bf61c340386a6d9ec9ffb778ce6a50/expr.ipynb\"><img src=\"data:image/png;base64,iVBORw0KGgoAAAANSUhEUgAAAO4AAAAmBAMAAAAxe7rIAAAAMFBMVEX///+YmJgyMjJmZmZERESI\n",
       "iIiqqqoQEBDu7u66uroiIiLc3NzMzMxUVFR2dnYAAAB9mGmPAAAAAXRSTlMAQObYZgAAAAlwSFlz\n",
       "AAAOxAAADsQBlSsOGwAABIpJREFUWMONWF9oW1UY/5Kbm5703mbZZFYQceCQMmHWoowh1UjRlzGJ\n",
       "DpkwZWG++CAuL5tj28Nl2A3FmoAw8cWVif9Bg4rCHjRPkwq6qB3CoCOoc41o1uJsM+yK5/u+e8+9\n",
       "yb09PQeae9r88vud7/d953wnBdAMqwxmwxB4wsNXMbIebtxQ1hTofkCP7zw9LLXFUNYYeAfDm3rU\n",
       "t54hnTEww/l4TI/abmpzHDhUSwSKI/Q4pV1ntmsomwBcQ9cvBEtr9GDLUDcBaK8R0Td1fHX+09Fd\n",
       "MM1aHJjZuiN5Z2V4iY/r6GbD+k8G1GNANfJeFBBypCr0GNbpLqrZF8mAdgzYl992NNIGObzEdmvO\n",
       "GTdMwh/w8tH+gD5tBLQIdC+9NDf7/hHYtvXS2dltRUiXQ12bi2+UHu9wRYxqDoMFNZ0GuKv/7TtV\n",
       "OATMXZc/x2EJ7EXIVnp084pEjjEuaM1BM6Tew6Uu+fM9c5e9gKAdATo35cutoom6UIRMxOfJwDQc\n",
       "+9mChbV1B5qR1OT8LfqDNyOY7V2lS0DSnXQKpDvfo/tCtEgOUpqzK2vrblC78oT0il1ySzADWeR0\n",
       "VpQuAaWu49lujXRvh6FGqOvzpKm6L1ACXLSv83cjUbcQzJ6QH7r4bJlTNYPhcFLbEaDUTRGxTdVt\n",
       "1VlX7ClAy6ZFZ0m/SqxCgs7VxDHHr2vrIxrN3lqXH6uOCCzvfaT7Oia1qHQJKHXPRXT5vGpDPlsR\n",
       "BbsbFtaGEs3/BTgEMGF7U7FMsyPSnZxcxkEPcdAkXQuTWlK6BHSW5+6N6AYb/Lw1LW2okMk7I9lb\n",
       "BUsKjuUhG6vsM1QaVSlTo+pdxfOt0xnvdH5HsbrSJaCM10rQ9QZKMjejSAPfky7v3H9gQBp2dR6s\n",
       "VnK8BySTTMknkMNSGFXx7oW+eG9CNqKb9vMrjcqDKCENvNijW5WGXSvDYK0/v0T39dm/QGzB7Wt1\n",
       "e3R3i5iu34kWfZtYdwy+lMlGGrinJ784uRoAe1oWVd7d8mcXwAqcwl/Pk+5pPJPzYV0V4roHAt37\n",
       "4TZ4i2icYmSXLIJVhNTDrg+MjiqtrMsG/QgTfpuZAYEpuTGpdAnoXo/qUnwEeLPeStWIJl8Odwm2\n",
       "h87Gp60r8FD8vMJM5LBvDQJM/cbrfFDqfo575JZWeF5JoPvT8hydAm/8svxzg20igHv50X1MM8hJ\n",
       "oXy6NwKVD2O9O42+2M3XgpVyD2iffrvU1wcJ2De6CuCWfZrn+Jz0em9GC6XYXRxDtUrzQWZ4nHzq\n",
       "+f7+a1VisrmKAtAJgjS76E9/couaDpAPxC5iKVyTex+6N6Lt+6n4tY5sYgB1QUkj+IDYzZ1Gc7ET\n",
       "S2q6WasbASqv0CY/3mAphcjdJDz7E8ZE2IqTAc/EgOquQjYpQMiR40vMmbpGd9j02m4MlK6z27/q\n",
       "MNWaIZkxUO453hqHDdZmHITJ2Mu5rmhBx03ZjIF+oAP6r8ubTNmMgTY786QelS4Y0hkDv+KvR8f0\n",
       "KPGxIZ0pULxHj1fX+6/EZ6bfzAyBGfblkfVwTsNQ1xD4CkeN2+5/bHBf2mS9TW0AAAAASUVORK5C\n",
       "YII=\n",
       "\" style=\"display:inline;vertical-align:middle;\" /></a></span><br>"
      ],
      "text/plain": [
       "alpha_l_eq2: {l in Integer} |- alpha_{l} = ({t}_〈b MOD_ADD l| . (FT^{dag}_{t} . |psi_{t}〉))"
      ]
     },
     "execution_count": 7,
     "metadata": {},
     "output_type": "execute_result"
    }
   ],
   "source": [
    "alpha_l_eq2 = _Psi_def.sub_right_side_into(alpha_l_eq1)"
   ]
  },
  {
   "cell_type": "code",
   "execution_count": 8,
   "metadata": {},
   "outputs": [
    {
     "data": {
      "text/html": [
       "<span style=\"font-size:20px;\"> <a class=\"ProveItLink\" href=\"../_psi_t_var_formula/thm_proof.ipynb\" style=\"text-decoration: none\">&nbsp;&#x22A2;&nbsp;&nbsp;</a><a class=\"ProveItLink\" href=\"../../../__pv_it/theorems/f1bc79b7efadf04278d2016e9ddf684ff1d2f1cb0/expr.ipynb\"><img src=\"data:image/png;base64,iVBORw0KGgoAAAANSUhEUgAAAcMAAABLCAMAAAA7zBztAAAANlBMVEX///+/v7+urq6IiIgiIiIQ\n",
       "EBB2dnbu7u5ERETMzMzc3NwyMjK6urpmZmaYmJiqqqpUVFQAAADjR+GvAAAAAXRSTlMAQObYZgAA\n",
       "AAlwSFlzAAAOxAAADsQBlSsOGwAACj9JREFUeNrdXYu2qygMdYaXgAj8/8+OiloxQaxwWjqsNXPv\n",
       "2ecmjQnkBdiuqzr00DXEsLo0nxiKiiyCQbWGcS0xrC7NZwZ3eQSD6gzLREMMq0vzqcHGPIJBNYao\n",
       "zbeI4ZlYmV+x4eBVFsGgGsPplhieiUfyMwvR9XkEg8qH9ENDDM/EhBr7M2mNt1kEgyqkkLolhhux\n",
       "4Ny5OTBSzN+Oukkj9jSPYFBx/lF7GRYx3InnKGimpxWItSQhtEkbSk+yCAYVrxraEsOdeLal8rKz\n",
       "pkMSJNumDbue5REMqj11vsnwRTyKYENlRvU7NrQg2EEEgwpzKS8aYhgT86SlWrVh53UewaCiUs5X\n",
       "TnWLGMbEMt2YataGbnIdOQSDSsZYe10XMYyIVX8woey3oZq24eB5FsGgoiBc25UWMTwSz/0ZpX5t\n",
       "HXae5REMKnFelZWRYChv9euPxKqXUhrxczbsgZ+ECAaVOC9e9xEwhsIZfWt1HomZn0eiH8K15422\n",
       "4AhQAEQwqCQEVy7wEwzJLRtWl+YrZb7OIhj0fDBf+RESDO/ZsLo0XwmI4FEhgkGth8N7NqwuzVeG\n",
       "Bs4EIhj0vK1QuTpMMbxlw+rSfGUY0KeCCAY9/zxe+wH4cxtWl+YrYwQzESIY9Hzd29qOxD63ofb2\n",
       "f2BDCYo/iGDQ8wxE1n2AFMNbNqwuzVeGABURRDCoXg71Rwxv2fBMrH1iFMSS8e+niQdTESIY9Gwo\n",
       "XzmZTzK8Y0NAbP3pSYUaiJuK/2s/tJ8AQNd6MuSOtFKaQUFIgAgGPc0iKyfzSYZ3bAiJncf4jfD5\n",
       "x2Omvp0AeDsOPEv3DQzrJItg0LNBonZB+sycfMbwMPiNE3kIMfUeO1NrTkmdjfS4nQB424ck8Iwy\n",
       "VA9mHs8iGPRs8CjD5cl52MtHDF8CTw5Qu/F9Yjl5U4zMRIo9HbnZTgAEDdMQQjcCvbOb/yL16zDr\n",
       "2HeKIIo9qwUo43x40oB5B5EAvVD7+ECui3hHwpL0PL/NsEiabW16dAVHj9xDBWwnAIQRauwOltlt\n",
       "OExslVNyt78jygqmEjYUPaMpZZz2ZDjwJxAJkNk1rh8fHO69SdkwnpD0EcMiaXYwG7MVTHGWrS4x\n",
       "PcP0B1GCr7nOasPlL2R9SL7+3DFi0aixqUWblDKIO5mHAoPRDoOkS/njdyrylA1F7B+4fcKwSJpN\n",
       "kCkNzfA0wAGGEwAyLKq+k4HB8vNsw+Uv0wMqG2y5/Ky8MWjI2NSyJ1JAGSJO2AjImyGyQlq8p180\n",
       "C+YJG1p5HbdvMSySZhvD5E2vnxC0j6MTAJPog0N8qQtL0dpXOBwoltetahl2Q0Fl6DHuo3nQWfMd\n",
       "Co0rYcFOFEva8KzNm/6aldgwQcynelBc9rbW3wrHqOnOJwAM6QaGqHt0kyeTrzXsyOSBu3ROw1la\n",
       "GXGe/IYNO0bnwYq0Rs7CCmLGYMPoKLXlDxgWSRO1a67m6SanYNSOzJ1PAMzu6pB0vJaM1Z71r2k7\n",
       "n7VyYzoeajdrYZkaQBmEnVoToPL1HQ4F992LEq2NZ2F5Z9l8n+Fclh8MauhhuAuGRdLEIfFiCm33\n",
       "pBxdirz76rh5oWrNSyfhrFWhFKHA34uHNlRu+19WjGRn72xDaZcWx3K0mh39hrnVxPAlNkwSg55b\n",
       "nLmujixQ9/cF6O0bNrReDXaqJ9VBGbtPlZF4A7AYRHZoXoJ75hv5aEXN/IvFtWDtoF1r9iSsmHPs\n",
       "1ehmmX6bmO6eGd5JsETsI9PE5iokare3A+ZxP7RcHbU7iBY0bNjBzwZl7LqZVv8QNyYEaFWIDocs\n",
       "2TOajZ8krp+dvHUdn/7NGtnTNvwXmXAi2HApL6x+KyDGDFPbDi8tmjTxueeWdHwrE+mtmkeljZiX\n",
       "aEEtVB9Kj6CMXTeT9o82/AdYDCIvSO8+feW3f46dfmF2J3p/HU7/Vm+Fk+gUp5rL8zq/iIe+pBt/\n",
       "QawuCv11HXb+jw4rhlRvkm3YPeasjINuTt3Zt9bhVBqGInHjR15Jl7SDIrMNuTGGTv8Nd23Yh47j\n",
       "sPyk7VsF4rUNMzfrL4gJU1kbmuBu1Z/YcJw0PtuRHJSh7csgKjYPNFiXghTblsHCT/THGp0LO2TW\n",
       "IZKXTsWUmk2/7ub49xoJ13lpJhFMEw9XuxDb/XZB2TgQSv7EhnPyKyYp+EEZr7UV56Vv5TQT6+3Z\n",
       "FibDGPVZTEf69204BWzeExIm1l4d32yYXtowd7M+SSwvV/erODPUa/I3vnTJYYkh4qWMQ+dgZN1z\n",
       "G+7IwmTU4WaQDTYUfMt4TDJVGLE+jbSHbq6Yp8ndjQt6uQ7pM2LBLg0z+L99nQ3YkluVsemmO78U\n",
       "6aENAz/J437nYMl1fahhn6YL2cyrUTWnt11/M8pc7k4L/YxYZyYQGz5rw1UZm25Av9SCDjdEEGjl\n",
       "9+rZhHBGMkVdj/dLX6A0S1Uk7vZk+6vyDL9ZnyXuc+mU4R+14aaMVTcd2LcYQRINEQRa+altj1nS\n",
       "UAtkbOjwvSewHMjd5oc77RMpY/S+743frE8Tb0EOc5XHACnZR20IlTHGaoZnSpBTJslTK1MInOPh\n",
       "bd8SnxEgyeTPPWMYknB+92qBwQ4BjGhVMUZJjvvTo8VntUAhaSwiPFOCnDLhtQ5689oXHE4M3fJw\n",
       "jD2XBq8qLHsr0P7xgOdpTJdDMOjhp1d+QcOZIVsChVsqYNBouyMN+l4sAZ7ffvOeBmh/9CA3gwgG\n",
       "PRuDrxxKTgyX7aDbb4GA0iBVhbIO2cUYv3j3FNw3h9dGkIsk1e6WfOacNw3YVOlcb2BBYu31cVAa\n",
       "tncbv6YIr40gF0nq3S3xtV+miTDcXv3Ejrs1t4hNauNjbNqGH74ITGtfgEcYblsbKlsF0P/BdfzZ\n",
       "nbAsgkFPh6s9pSHD43mhTNXjGl9gd3MCnUUw6HHt4yu/aBkwPNa/Rn5Ymq+MT7/cZKhdXJwZLln/\n",
       "etaTi458VpqvDAcyTohg0NMhaiemJ4ahCx966DqbUFaX5iuDgmwFIhhU8IGq9hMcGKr5AIG5fxfw\n",
       "LA1+rZNz0vC7FwSscmH+ImoW5rx2GhExXO+N6cfSYNtKc2traPclKBZ0fSGCQSXxq/L3nhQxPBOj\n",
       "1zrZnBn9zZdE/GI47D73sq9HxNi1znCSmzX7FhT4/IhG6mrd1H6fSBHDE/F2rdPsL6Ad1ysytNVK\n",
       "UgI/BBEMKvN9lfODIoYnYuxaZ7Aha/XLZwjwkhDBoLK1X3sXvIhhRIxe6wy+tNk3SmmWRzCocOIM\n",
       "DTGMiPdrnUdf2nZOI4EXgggGFY7amWkZwyMxfq2TzLVFq9+QCL8YAvmqiOpfRzEVZaIhhkfixLXO\n",
       "qcY3jX5DogDzFyIYVP65vCGG4qfff0mAj4cIBlX4YNEQQ+LF79qQmTyCQeWD8pYYUv7Dy1DkZ+Tf\n",
       "TFJbe3EXMbTt9tGycWDMIhhUp7fSt8TQ/Opbvb/3VbKL/xpbYkh/80jGAN4ZABEMqlWa1uZcxFD+\n",
       "5per0yGPYFC1OaRaYjj8YkQUQx6Jof8AiYd8AfYqn2cAAAAASUVORK5CYII=\n",
       "\" style=\"display:inline;vertical-align:middle;\" /></a></span>"
      ],
      "text/plain": [
       "|- forall_{t in NaturalPos} (|psi_{t}〉 = ((1 / 2^{t / 2}) * (Sum_{k=0}^{2^{t} - 1} (e^{2 * pi * i * phase * k} * |k〉_{t}))))"
      ]
     },
     "execution_count": 8,
     "metadata": {},
     "output_type": "execute_result"
    }
   ],
   "source": [
    "_psi_t_var_formula"
   ]
  },
  {
   "cell_type": "code",
   "execution_count": 9,
   "metadata": {},
   "outputs": [
    {
     "data": {
      "text/html": [
       "<strong id=\"psi_formula\">psi_formula:</strong> <span style=\"font-size:20px;\"> <a class=\"ProveItLink\" href=\"../../../__pv_it/_proof__alpha_l_eval/07dcee39e2470c657cbab83e2fef99fcd19a01f40/proof.ipynb\" style=\"text-decoration: none\">&nbsp;&#x22A2;&nbsp;&nbsp;</a><a class=\"ProveItLink\" href=\"../../../__pv_it/_proof__alpha_l_eval/bda58a58fd24cf9985c12d60aa8b26eda96cb2800/expr.ipynb\"><img src=\"data:image/png;base64,iVBORw0KGgoAAAANSUhEUgAAAV4AAABLCAMAAAAPmR+0AAAANlBMVEX///+/v7+urq5UVFREREQy\n",
       "MjIQEBAiIiKYmJhmZmaqqqru7u7MzMyIiIi6urp2dnbc3NwAAAATlYGCAAAAAXRSTlMAQObYZgAA\n",
       "AAlwSFlzAAAOxAAADsQBlSsOGwAACDlJREFUeNrdXdeWtKwS9T9Izu//ssccKBC6oUf96mama9a2\n",
       "dQOVKJyuayjY3Ie+SRyVWU0j4eg+9G1iUV7TRASRt6FvFMLymgYiq64aoB1/Db3Gu6ymgSDcEM30\n",
       "e6Yv6vOaalHetENrysV7vJsXWU191IAboKW1CI02mMbsB8PP5LeneU2tX6uavCt6tLh8uDUZIVJp\n",
       "TZ9Jr/I6q6mdvLQFemTZedUJ3kX8pHgovV1P8prGA/gVmsmZXseZexG9Atha0db6Ii9boW2SxMfS\n",
       "23mc19RErb5vhVbpnPK59KJhxeU0FcKq1sIR7foDu6pfxT2bXuNtVlNj26tswwE9ZmvOvW72dp7k\n",
       "NRWrO/7gqqh4dEC7XinF5fvo7YEt6NtZBxZbCRJxXDSpD2jiR0kkRxZ7+9RcWQMGdDvrgBI5hS6i\n",
       "F/k3FnrD0BJnNV8L8V0FvSn0q8SDR/W+UYU1ZXrL6E2iXyUYLEHcalGKVNRbRK/w/T9ALwdpK29V\n",
       "d+ApK15EL28ZId4mDEwS1mra4FRSUUQv9uIfoFeBOFe1inxJKsQrope0TB9vEwniSekbueykjyyi\n",
       "N0Bjn5AKS8b+YAA9mCW+zbxxyWEqoTdECx/clnRGoyHfyCy1baMjtkCS1p3RVokKBTaOtrF6IhlZ\n",
       "ldAL0MjHrsciN8uOkc+60fGpYfsueuIRF6JjmvSecenU1sn8xBbsSEM09T7WiMFDRyxOz7hudHy6\n",
       "8lJ/uCbDwd1hEABNGpscvr7wXm0iAkHDksaIfYxWg3mIofj5kYP9uHWjY356OtvrBYG3y42/KLz3\n",
       "VLC+czpmOkJaQjIYDHNRTHO6jk7PjquaQU3XTwStd2LOj3R+YDgE60aH5NKxbmdto9cMl3XIqW1k\n",
       "kHZCEpeiV/aEJsgIi4EWrMJJc6L3PI6Flqz3NS01MXTv84myg65uqn/K4RmGH9pJO3u8hd7pF708\n",
       "o10+d0SLuBVcacE8QYZGIZm0i2iO9MrzjLdlng9X0RtDyyFQyF2TgyU9b3SoeS72nZquMH0c6Z1+\n",
       "GX2NmGmePjvPedwErrRsDjUkQwZuW4PQZtIc6RUqY78TIUlNVhtFm8E8ZMYWFExOGx3DrRsEjQOa\n",
       "J7AQu+k1NOrdF1rMRiIgA7MgB/YgK/ZnesMHxUWtaKSK3jjaDnGuvE5Clz9LRCjvwo0OrjtDIBMM\n",
       "KTRMa7ub3sGidBeuzZIkGUEkc0Wv1JzN9J46YYQtI0hX0avjNuO6HL3epyRUMILCjQ4sj85nn2gC\n",
       "e9LvE2rcIkXswvZiNLIwjVpIhiZhOgQi+pVe2wkyNnGFmcCBa04Pgs4EsSp6o+jR/F4N7tpRiegU\n",
       "vRZXrktbL5fIYbg5IdwcyNHQgMlCepWYEp6pM4YcFwIvyWl8Fb0pNEiOg+BiWZozui++g158Qq/w\n",
       "zoghUHYHMlZu1Pn2DKDXrPTKMUJZTC+fBm21cKiIoI9ya3le9Uk0vzS/GG0pyCjF1v9q7/p4ZzO9\n",
       "nBwsx0zGxo07O1cFCluTZh0mOdM7xWYCf2J8vf/f+WNc9ifkF+hzcpxeyctFlBdulDbbWoc7m2mh\n",
       "+BC4zWRs3Mgzvf8Bev/b6eV4jQhl5yzFVoXeMm17fVVlKI12V7nFMns7/6Ot+dnjD/dmNhswknHg\n",
       "JihwXM7eMcoYs3YzfcLik8A3Q2/mmEQarYnL08tnA+J+Qi8b+Bkp1gcyVm4G9lxAJqydrKvADI9i\n",
       "txLfOg5laVsmcsj46iTaXJa/1uMLkhJmNNU/oXcMT+RwG/ZAxjZHg8jhwrVNdtv2Ws/jsQXkZUWH\n",
       "a3pzxyRSaHW9Jvaok1OP9W+MwxRmaK7lTsaerDDSldM7RWd7tUKq8pIZvZ699Cu0JNeUGf/bY3Cg\n",
       "TruQsXIDjjnm6NXb/Q4ZpZVLTlNUlLliQuKv0Dg3tMT8Lb0LGSs3oOYgQElHnEo6ewym+BTtycIm\n",
       "qf4y6owfk8ih+6xT5fZP6V3JWLiBFTMG4hx2KkiCSaQLUyEUFg8d53ir7sePSVygZ3saW/onY6zI\n",
       "n9ILyGAoLD/iLqLRSf9cugcRboNMEYwt7bDikb0OFg3J2NnXoZ92n4S0gJukLqzx9V1O891AB5dB\n",
       "0xcT8h06GZIJ8plR/61E9tp4VvPdNwXLgkxWCU1RN8iIs+jEkVEJb1bc2JsGE64euOi+TUZpAp85\n",
       "1QiLj8aE6FhI5gSK1c/YfW3X8IACbJVr1DwX79Khs9IIfV3VBGjs8VEonQvlT+8Chq1yrZrnYtvm\n",
       "60FLcijhFaF5quLGnk3v79rTaSRKWItqLhtC0X/gaMW4CElW86UgOLOO+3y9+RT9QjHAQ5tWZ1c0\n",
       "cOrHmJurT9FvlB+evALjNIVMS8/BkKHrD8f9jYJAmIBadd2HfdjK7iUinPX5zbq4bxUK/BhtVtOj\n",
       "J+fvKB+FfodOdTRbqx98xEUCPybbHSq2J++0NH/i79CJUuOYhJrnntASoHIifLO3xZmqSwXoeEcz\n",
       "GR3kL94P9njT29WeWz2jox3Ncx8OeewRLUhAy6O8vCr/O6O3jma+vSyDLR179KkRsgLLV/mGb5Ks\n",
       "e/fGGR3taJ7pJc9934DIaqoWB2mFjnc0z8bhsec3Mclr6obPNELvHc1H4/Bs16bA4lWND0rXmZoD\n",
       "OtHRrMfA7Klv+IWvGUON+wRs1fUO6FRH85BW8Ie+4VeCuSU9av0V9jb0/Y7NZTX13yFvQ98d9PK8\n",
       "pr7wYO9D3zx55R9MFlG1IMRzE96sYWNZTZPUrb8PfWfY8Bfv9u6qc1b6zj0hAw6AmB/9DwNVdV31\n",
       "zv+sQE1e02ok3X3ouyyvudT8H7RKZFqZO0ngAAAAAElFTkSuQmCC\n",
       "\" style=\"display:inline;vertical-align:middle;\" /></a></span><br>"
      ],
      "text/plain": [
       "psi_formula: |- |psi_{t}〉 = ((1 / 2^{t / 2}) * (Sum_{k=0}^{2^{t} - 1} (e^{2 * pi * i * phase * k} * |k〉_{t})))"
      ]
     },
     "execution_count": 9,
     "metadata": {},
     "output_type": "execute_result"
    }
   ],
   "source": [
    "psi_formula = _psi_t_var_formula.instantiate({t:_t})"
   ]
  },
  {
   "cell_type": "code",
   "execution_count": 10,
   "metadata": {},
   "outputs": [
    {
     "data": {
      "text/html": [
       "<strong id=\"alpha_l_eq3\">alpha_l_eq3:</strong> <span style=\"font-size:20px;\"><a class=\"ProveItLink\" href=\"../../../__pv_it/axioms/7b8e14bfeec30fa2c83deb2740813fd8ea169a4c0/expr.ipynb\"><img src=\"data:image/png;base64,iVBORw0KGgoAAAANSUhEUgAAAC4AAAAQBAMAAACb51DZAAAAMFBMVEX///+qqqq6urru7u4QEBBE\n",
       "RERUVFTc3NyIiIgyMjJmZmaYmJjMzMwiIiJ2dnYAAACPW0xlAAAAAXRSTlMAQObYZgAAAAlwSFlz\n",
       "AAAOxAAADsQBlSsOGwAAANZJREFUGNNjYEADjFO+TL0bsoGB4e0fFHGOsAMMEziBDO4PKOJcCxg4\n",
       "NjwEMSagiLMVMJgyBwAZvA0Q/bF3b4JoZgaGNWwHgIx6EMHANMMApoMn4RSI2g/mVMKFGVgNgkFU\n",
       "KpgzHWGDHDfYZA8wB8lysCsZeL6DSd+7d+9ehThA4BEDgwEDhwPYFQFw5absQHY6A2sC2MYLcPEc\n",
       "oA+YPzDwb3gA4nXAXblAC+i5Cwz8ymDbOQXgrpzMwB4YwMC9DsxlTlWGiKtEuob6uz6AG8v0FBIO\n",
       "UAAAaDkwDDbpPcIAAAAASUVORK5CYII=\n",
       "\" style=\"display:inline;vertical-align:middle;\" /></a> <a class=\"ProveItLink\" href=\"../../../__pv_it/_proof__alpha_l_eval/093889f7096dc68a46754922f5ab0fc5e706ae360/proof.ipynb\" style=\"text-decoration: none\">&nbsp;&#x22A2;&nbsp;&nbsp;</a><a class=\"ProveItLink\" href=\"../../../__pv_it/_proof__alpha_l_eval/ecd09c57275a9a211ba2d3b9b26005bbb5d2f7fb0/expr.ipynb\"><img src=\"data:image/png;base64,iVBORw0KGgoAAAANSUhEUgAAAeMAAABLCAMAAAB0kR89AAAANlBMVEX///+/v7+urq6YmJgyMjJm\n",
       "ZmZERESIiIiqqqoQEBDu7u66uroiIiLc3NzMzMxUVFR2dnYAAADkd/AHAAAAAXRSTlMAQObYZgAA\n",
       "AAlwSFlzAAAOxAAADsQBlSsOGwAACxhJREFUeNrdXYmWrCgMdUaQffv/nx13xUQBrSrs4Zx3uvv2\n",
       "SwW4kISwdNM8K0TVk35cKqu/V4yWSQSDbhfq6klXrny14l0awaCbhQtZTbpy5SsW0aYRDLpV5KMP\n",
       "kp+qxmfUG/pXOFbBJBEMulUcqSf98cq37M9MZNelEQy6UWxQ1aQ/XnmmKf8zYVfgSQSD7oSlpJ70\n",
       "xyovvXducMwas+cteSXJnU4jGFQeszyaiLzuNF7VD16Y9r0hETYtY/qVHNvAkggGlc8EXU/6c5Uf\n",
       "uDbBNpw2SAjI38lx04k0gkGPx9LvpD84EVo5cWxoa/4Oxxw4W4hgUGlwF2Q16eeRaaTenzL5Vo6b\n",
       "QNIIBpUtL0NXTfr52jhSb88Tf6/l2PWmJ4VgUFFpHxmCNlRdqETqTbej2HZLMa/mWAWfRDCozOs/\n",
       "MrZdXVO9Vz/kt4z5a/O4CSKNYFCRtUNbb/P2O06kf2eq9W4WW2up/HMcd8AOQwSDiqwdNAPSUZI3\n",
       "P9uHRuSxqd7UizAU/P8ZT4J/aYqTgS6ECAYV+XyFa5YPpH8XsPzFjePj6o8kEQwqKCI0Dzg+kf5V\n",
       "qaz+Qw4ZdDVEMOipO87k+EXu+O8WAowRRDCoIM/SPeCY110dV1b/oUJBphAiGFSgwD/gmNYNuSqr\n",
       "/1jg2CURDCowFPwBx6RuBqSy+o8FXSKJYFBB1GIfcCwe5tiKYmhVVf03o4qQRDDoQVBXwnH4YZYL\n",
       "4fionoST8mBp3H5/GAUwVCGCQZnFnA2PLI5N+OHahcmkeh4OPSGNYk6EhJ1bT5CgpurU5bf6Q1kV\n",
       "DVwORDAoOzLVDzjmv1u7dKSjgqfUu4DVqIX90+6NwnKCpNjP3VvOUBhWsCSCQbmT4yx/4nNOfJ5K\n",
       "F5mVzKOlXmao1yFgZ87pISjlUT8vJ0iKbWBee44fbDowMn0SwaDM4vGQ3PUGjrj2pjRsxfWn5E0H\n",
       "6I8R9ba31li1adTxhyNfywmSqe56cuGLAFk/bvjGku0wd9s1hvl0e7ojycfDwRSMS4hgUG4gE55c\n",
       "tTiT9r1plJ1ImT+vx46d+8Q6LYRzruu/yOGcFumc1sR1RI9UEp6jnu3oifo16vUWqctMP5WmbXbM\n",
       "rRyr/mONM3YdH44ZLoU54XhrPwfG+bCn54E9gggG5bq58ORSwZn01DiS/Og2RONezfNSiZ760YWy\n",
       "cVJygXOMqu9CMkgwMAQbt1JlT23/hRnp51hs5nj8Zph8fvo3/V4wjnqlpT1r+0F9mDvQpwGhuklD\n",
       "2VmEJxyfSM8D9xjoMNrP0sirUhJxbJZ52fJGumbluBmp71SWetmH0Yk2UQ+dy1AtO03KrrHTB4w/\n",
       "DxyP3/QcGz5xPf5sAqX2yves7fccLHZlbHsEsEaiSUPZYfuTbOCJ9OSAVNwQ27NrVT8FdlRNiw/I\n",
       "sWSNaXccjwMDcoyrV721vl5mgPR+dIKkDyaUQ2y1m6Yy55s7VhoLGOf2bO2H4QlpY3MWgIELTRrK\n",
       "TnM94RiXniOa+IykHfrHDq3nagtMLcKxGczl9F8XjsfDtM5mVt7362F5mTucfyud0LQ5niChrHcW\n",
       "CB2ts66f4X5zx72Fb85jLr99CDGXcX4Zx75fzdsyltgjjjFpNvUKcYy5dUKNfTERt5rryR0fOd6f\n",
       "jma7IJma3MqTcBmfLFcmpNC8Fe54goTIKCjaphwnQeyMyXAW0LXn/pj0n8z9OHQ4OOkhDqkbkHgI\n",
       "DQ4ZrYaam8lv7EaN3hV36Kb2EcftacQlQ99Zcolxmdk4lkuL5wt5McdGn3AM81xnlR9c8oV5Wu45\n",
       "Oj3qzM/GZl6InOPqvnKcm2mppYE/kTc5FmMdOjp0h3RZ5js84vggPZmk2ZnxsRmCrc5s5XhN9My/\n",
       "3HHcr51IOOG4oPIgpxmHC7OhnOO5/A7oeAHHPBjF+/X02BqqYptto+opwChEZoiGJVj1o2XJY6kk\n",
       "CyoPNjCWlrN+tYuZl/nU+aFQN37ploYazFbTAo7PKk+vXDJxa7pkKPkBydVR1V3XTO2hYmfHrdt1\n",
       "0NhSFSduJEjlyAaDxGz6xOjwqM/j+N/4R7ysraQX0vOomt2x9uPg4/scbTyPF6d04JifcAwCl2Pl\n",
       "DznNU8M6N8IGbobyoZ2zrWum9miyW1pNDnmbdjLi+B/AKEQmSM6t8lO/apXjj8OjXfa9tPGaeLuF\n",
       "1eOv6FJVjOPONRJfO2Ecy1BihMxFxmCex823LuON7ZF93dRqkYfxuXZQc8yOF8zjhWNx0iXltjr1\n",
       "skYsvSSipssnQyu2lzos3zhWfPWHPp9jxPdcVJ4Jk+SYTubcfIXjdpx1fFxSLwvkLVNno3yrBd4X\n",
       "IjM0Lbra3i3bXHeciKtTgWQsvQy9yTANOxrdNkZG/zFyvIbVQck4B2LBHsPK8X4SZFReXe0iLe9r\n",
       "SC1axTT7CsdD8C77Wvhdomubm3FcXRBz9avjtu1DajrcCMhzx9ccJ1/WiKS3xIGeEgye7j97CKUG\n",
       "js2abGjnOq57EmSIqzdyFHWiR2avBtPV55W3l9ZpW5xSHQj7jq0eY3BGpwWfPnRQ04rmJsdRCKCy\n",
       "Ygl9OY91iTTr3avF87NTu7xSXCE3UvL2FpF1rD5dH18Sp758QAm0Z87fbx10eDTuLsehyRqgl6cL\n",
       "JCmRpmzJYJ1sH0vOGJfNPY6VyK98asNLqN9yPAUouw465Ks52G6ACAZRltWQ7mp5iL+scSZt6bog\n",
       "JPJRn6AGdpsEqcp3qRMK1P+U42WqbB102HdqwSIAIhiUWdxxH85QSpaDC/jLGlfSZUm/Eo53kyCh\n",
       "nqKpir37sOKnHDMwUVp3iCwJiDWBCWW3zwgcT5CMZtbn3q05PX9SdLiE5eyi7KzEtfoWXTW1UYjg\n",
       "vnr0/tgeWEkdVxGeWUJOMfnbFyWOkm7ULsQ96R8XTD2+auKiLND4boHnuWiTQjAoV93BAojRU7hx\n",
       "iX5MZKalf91XUD367qAE/cNr3pMCIWkHYkeIYFBmUYdobdxvy35GRgVRk2OoHlk1Ge6QXai24t10\n",
       "8J4FvLaFXOS6f7cLv+mgJ1BxRlW59O8mBFBPAtkXraft/5dfU4bXtpCLXA/udmEnVZe360Qy7R2C\n",
       "qdk5R/X0bN+sfTXH335IQCMx9LI3ZZLLDF33PQ79P3gOZDwakUQwqGCBDMb4/kBZp0qlf1ncyydo\n",
       "blhBkggG5S/mQEi+X6BTWyr901JZ/cda8eXHm8D4GJcV82FjLxNZb1V38VRZ/cesEU8iGJRdjvfT\n",
       "7Thcpi0xkoxIZd3AurL6j0UVMolgUImGfWxqNB2KviddoXti9fi1b+/Zi9+GkXCVD+Mr+SgT4aO4\n",
       "Zb6YSe5J/7wA9di24ZA6VO995ImDrDtEMKjIp9WT/oBDPmypYLZ7uAXZ1LU3Vd1x8/Q9wnc9pohd\n",
       "+55uQojXvvIEexDp04fdTB89gETrPp90UL9c+6brA+XtfIVNv3UlbYElhAgGFdo7X036A8Y6Uo9d\n",
       "+7bRpZwXro55EsGgQmMh6kk/t3QiMsvIte/JVr/2RT4i0ggGlY4kVU36A9NARe54uva9t9Xvjrks\n",
       "sIMQwaDS8szY142sI/X4tW/GmuhlgJdF1TKJfOLvK/lHH+Hr/tWQvfqTa9/eM/rSv5AswQyBCAbd\n",
       "UOSrSVeufP2IyyQRDLqjSVaTrlz52otjmkYw6EbRvp505co37xqfyIj90CDmj6wBrxu08vfmKZN+\n",
       "pk0iGHSv0K6edOXK1wyqf/en6keD19aTrlz5akWBN0sggkG31+KPPsqKqnFPZfW3h6ZKIxh0f1CZ\n",
       "etKVK1/LG6s0EkP/AZL7iVyTqnmwAAAAAElFTkSuQmCC\n",
       "\" style=\"display:inline;vertical-align:middle;\" /></a></span><br>"
      ],
      "text/plain": [
       "alpha_l_eq3: {l in Integer} |- alpha_{l} = ((1 / 2^{t / 2}) * ({t}_〈b MOD_ADD l| . FT^{dag}_{t} . (Sum_{k=0}^{2^{t} - 1} (e^{2 * pi * i * phase * k} * |k〉_{t}))))"
      ]
     },
     "execution_count": 10,
     "metadata": {},
     "output_type": "execute_result"
    }
   ],
   "source": [
    "# Notice that auto_simplification here pulls the coefficient\n",
    "# out to the front, making further processing easier now\n",
    "alpha_l_eq3 = psi_formula.sub_right_side_into(alpha_l_eq2)"
   ]
  },
  {
   "cell_type": "code",
   "execution_count": 11,
   "metadata": {},
   "outputs": [],
   "source": [
    "# need this to later use scalar_mult_absorb() below\n",
    "# NumKet(k, _t).deduce_in_vec_space(\n",
    "#     field=Complex,\n",
    "#     assumptions=[InSet(k, Interval(zero, subtract(Exp(two, _t), one)))])"
   ]
  },
  {
   "cell_type": "code",
   "execution_count": 12,
   "metadata": {},
   "outputs": [
    {
     "data": {
      "text/html": [
       "<strong id=\"alpha_l_eq4\">alpha_l_eq4:</strong> <span style=\"font-size:20px;\"><a class=\"ProveItLink\" href=\"../../../__pv_it/axioms/7b8e14bfeec30fa2c83deb2740813fd8ea169a4c0/expr.ipynb\"><img src=\"data:image/png;base64,iVBORw0KGgoAAAANSUhEUgAAAC4AAAAQBAMAAACb51DZAAAAMFBMVEX///+qqqq6urru7u4QEBBE\n",
       "RERUVFTc3NyIiIgyMjJmZmaYmJjMzMwiIiJ2dnYAAACPW0xlAAAAAXRSTlMAQObYZgAAAAlwSFlz\n",
       "AAAOxAAADsQBlSsOGwAAANZJREFUGNNjYEADjFO+TL0bsoGB4e0fFHGOsAMMEziBDO4PKOJcCxg4\n",
       "NjwEMSagiLMVMJgyBwAZvA0Q/bF3b4JoZgaGNWwHgIx6EMHANMMApoMn4RSI2g/mVMKFGVgNgkFU\n",
       "KpgzHWGDHDfYZA8wB8lysCsZeL6DSd+7d+9ehThA4BEDgwEDhwPYFQFw5absQHY6A2sC2MYLcPEc\n",
       "oA+YPzDwb3gA4nXAXblAC+i5Cwz8ymDbOQXgrpzMwB4YwMC9DsxlTlWGiKtEuob6uz6AG8v0FBIO\n",
       "UAAAaDkwDDbpPcIAAAAASUVORK5CYII=\n",
       "\" style=\"display:inline;vertical-align:middle;\" /></a> <a class=\"ProveItLink\" href=\"../../../__pv_it/_proof__alpha_l_eval/82422fc077d0ce2ec5fda654d2b9958a4d9be6a10/proof.ipynb\" style=\"text-decoration: none\">&nbsp;&#x22A2;&nbsp;&nbsp;</a><a class=\"ProveItLink\" href=\"../../../__pv_it/_proof__alpha_l_eval/eb97febbeb21bd4f59a774c78cab2376174189a70/expr.ipynb\"><img src=\"data:image/png;base64,iVBORw0KGgoAAAANSUhEUgAAAdoAAABLCAMAAADgd7bPAAAANlBMVEX///+/v7+urq6YmJgyMjJm\n",
       "ZmZERESIiIiqqqoQEBDu7u66uroiIiLc3NzMzMxUVFR2dnYAAADkd/AHAAAAAXRSTlMAQObYZgAA\n",
       "AAlwSFlzAAAOxAAADsQBlSsOGwAACtdJREFUeNrtXYmSrKgS9T1B9u3/f3ZUXFASAbGqa2LMiBuX\n",
       "zu4saA65snTXNRISfyX8nycleZbTQNj8lfBLnTV5zm2ijP+R8EsjsT7PuUm85ZNOwgq/UNWScCrL\n",
       "uUkGPSfckxeq+jkc8pxbpJ14TJhITF+oqiMpR7OcewEuahfm1hoz+VwJGu0evfhd0SDznDthUIvS\n",
       "rsKTh8XjaDiEoSZEvvBd2z6S5dzRO/mA8ISwcrqjuINCMvpCm1Fbluc8sGDuCPfcQ6twr15o71g/\n",
       "muXUR2eOPyRs0/i90ObIoTynNi11w0PC+qI89kKbVxKd5VRS36L3obAaQmT1sJJ6oS0rW9gsp9Z/\n",
       "t9jjQHiqQin1au19i8zynEqTCk66Ltp7CITVoLXG/IW2QU10llNpUmOt5wajIl0OhJmbKPFzyiJn\n",
       "3wLkNZEICdJmkQ1cryBF0Br3btQ+WLVAWU4VMdfdh5a5F5EHnW00564lDkq42jJoU8JF9I1dhJ/a\n",
       "qeCIg+2NUGQDUVsJeLgPLW1Iib9xMuPHTn+EoSkUpuKoLIhbCoU44amLoMX33fw3doJ+brepN3B7\n",
       "C0qHLKeCUKJgUQQtul3t0F84c6N/71zPQOH2GjWxLKcqitL3oWW38y5kPz+P3+hjTBJqvCEPVhuP\n",
       "Vh6PkkfuGuLUVAxWBO1ZGLkEkchJVyhUf2/9UMd/DtqD948jARepirtftFCpZVECbSRM3WkoXAli\n",
       "mIvMijwr1HZGA7INSe3r5UWUIb+itB3hdfOtwPYy5MjByfsFfppKX0qgjYWNgz6vPw9QRx++ntGo\n",
       "dSfiogDwDaUd0IBZzewPFm4vVo9kOeVrLlXvsAWHJQFh6RyUcOBjoBef1lvPaNTanAtDCcWWVR2U\n",
       "nRa1PC0AdNczuL1ohs1yisnC0bUZrSgyfb2wHk0yJIYPv3b8I+sZDT9F0nvoRQZtPz01NNqPPfdD\n",
       "p0jid4eGoapSCVvkRQNfGwkMGliNFGwvyaTpcpzyIMA1ZPWQMNkhOWJ3wB9UiPWMBsdc9d2O2Aat\n",
       "GMWUUXqzFYYoypmC7THAtuNU8oHlDL+V8yJbkNJGMmaMGcb/+HQWDA1GSmQGJKeVgugJ2qADCpy2\n",
       "lxhue11BXY5Tbvpdw1l/UHhw2epj75K1Gj4iOv5HFLc+ulqgnRuT27H+n/82IzRlZME+/MBQ9lf2\n",
       "wpsSisU6CTb2NWsamW0CZRC0YQfATGAEtz2QsstxKioWDdCCwnwMiDOfCd5V8Gc0tNfBodO4W7+c\n",
       "oJ0bI7SKeojnr5XDWFf0sSjRyQwSPKqk5fH0b9Cq1Tr1tOOm26DtJsSH2CDvHVgKmDW47b9mXY5T\n",
       "TLJlRxAWFqNJvo4ZGeAEDmc0Rp8oTGyQjVdcSndXK2Qi2oH68K5PHEJnPYKqxWgFQj/pc6oYWk46\n",
       "1QfQTgsihjboAHDuNAgW6Slw7KNUtL9fs2At0CaE7ZjHXiYegRg3bHY4xzMamIzGL4a2N9qM6mx3\n",
       "Vzta8c7m+tj6QgeX7pGdQNQTJFQE4Y0GoFWTo/A/u0I7Hcs1+gytDRQNxVFzsO71SQcuoLVj4q8r\n",
       "0SEt0JKEob52/nvwypmk/aRgxzMa047XvjOyR8gUORZoyXSgziRqVUCATDwLGULMOqXzAvBw7TZ5\n",
       "8dMnaMPj1WT/+CD2XwTQ+NPU+nVKoxXGg5Hx0yhpBO3CUVJMk6W8QwpdhwzInNDpW6DtE5VSd2UM\n",
       "gpjfyPnr4uJC8S1A6DKUXKZzXDh8iZ+J2qHl9pQSH6FVEoY2qEYtEfL4PUrVkqLFUVCoDyfdSELL\n",
       "5p8b8NQbN2U22rVAmxSOCo4pk7REI8VjGEoLP6GpW4zi4r19adnPVedZer+11O0TGUI7Jj/IwdBG\n",
       "iTB1StAx/fY/jsXZMIer/qQBIoLWc7Bbozs7265CdGqqZPxoaNPC+Mrdiu3ogF52D4r9/dUxy8Pg\n",
       "9j5GfhdOso9+ly4HOxE283/DKSU+GWRcCC1moY/QJhzD3DWG234+eAdw2GJG2Ow0sC2E9v+Hr2BK\n",
       "5NhH4XPBkeQ1amypiZ6p9oaDC7R2XeSLq513DcTybQxpLWEdBC2FoUVnXytRmJJ5Zxsq2gW0/4ug\n",
       "nTl8mUvrRy1Fka91LVcHLoTVRaodGuRPHWDd+lBWIquDAHn+Bl6mEIR2MB2Hkx8A2lAfZwE+diB2\n",
       "dzQhv48h42tTWrtCy8493jfImWcpLoQJUxchzh5eerOtHoc26GMrF/kbKtOsb69vaLpDK+geANhi\n",
       "aEN9nAX6Wc1oR8LENihZHWL3k13Xka/1HL+70o8uVxe72kyEnAlI08LiahOH72uVS9YLIp/X3aCP\n",
       "TRG8bZw2PYZtyc7Oa4Z2D5Cd4MeShY62QVZoj/o4C0xlMD7++jYsRwXKeLU/kAqjxqy278fgGE/H\n",
       "9Atd7TW0uWcpksL62swzHDoLhz5hlbc+gtqH9EUSi4NhT8HRBK3a77T0y+Rt2wNoipD3tSqwYSPH\n",
       "O9RQH2eBOYgneMmJ5HkMh6c/zm+IJKE9hBSiLDSRl1or7wlzdg0WGrqP09YHGT2nTlZ0RyCtEFRA\n",
       "t1aKNvUO14tFomodjOFwrud8xqcIWteVqcLlLj5H94RzWyuYfR7arQ9MtjoTvF3LKSGUd/egDfUR\n",
       "EBjUeQyHOuf5qjmNNgNizvhhZaexhqucMvEsRU54yCll/4WzLVsfGu9pJqrqtwTaUB9jgVU3wjEM\n",
       "QUg2mPOgZZfjFJM5ZVYKY7SdDUg8S5EUXr0nNIH0EON8/r4G2Efda2Ul0Ib6GAsQQDMuAmTgRBK5\n",
       "vxV/OqAxmyxbetEEPN3Rg2lPf5jo4Qtv/YF9VB0pIQU7LaE+xgIGyh0U2F5qEmeDZ+9fHziJmrkv\n",
       "xm4JX6Q9lJ3g/zy03+jjzoQjuL3oCs5yKlwSOqYzfDa0Kqg6FgtDmZo3jucB8i9cy+W/efU3PNka\n",
       "nXIdorh0uF+vE8cIbN5kK375REThG5D2KGrifSCLvqsfP0OEwe015aBZTkVBzkH5qkeOEizqhJFD\n",
       "IUnpt9jjMI/pLyiI/pcpLXCHijW8ZgEcLV0fcGPZUvRZGKe2juJzx//FO5ijoiK4vc3nk9fiZeyS\n",
       "1s2hqQTHaoWLq0X95yfyG33U2cgge1BxJqEiB6daLmGaSKPCSxyDqBQuj3Kk+vhMfqOPuvFQsL3H\n",
       "LijLqTER5+g6vK2NdaVwzQpGny9JfaOPmlS7h9v7dD76utB5Xcw7X8uBYMszleimRaW+EOWoX4qk\n",
       "uIDbgRGkWU5V+neIlPS8SvyOFHK5Ox5Nl7ZfikMXnuXUfV7gkJTEE8lbwsmrzNYS+wJXoGUsy6nL\n",
       "7MNQaLn9iG4Jd4mrzFNRXgwvdDmiUUmeuqbXkUSL+EkYvso8lw6cerHLJiuPutqu8TG+ozB4ldlf\n",
       "DmDvX4ipB6L1nUTc8jLrUXi7yoy3d6775VEJ2b/YXZOOzKd2ja/VibbcKRQGrzLr8CbGSxdFAprl\n",
       "VBsC9pAwfJXZG2T3GuQMIZbn1C8X8YzwfpU5NMhvGFVoj22WU09NJj0QTlxlJqQLL7m/lIiPeZZz\n",
       "J7XljwinrjJbS/D7F25z9QqT5dz6WPtHwi/tjk1lOfc+l/+R8EtrOIrznFvU9FSlfNX2A8r1lMbQ\n",
       "FuWnb/Tb7hL7LOcu4eGvhF/qPvj3xGer2v+V8EudiB7+EA8+rt/0UP8PvvL/ryIp8pyWlaP+Svj1\n",
       "tOKS8w+AI3/Pk4jfcAAAAABJRU5ErkJggg==\n",
       "\" style=\"display:inline;vertical-align:middle;\" /></a></span><br>"
      ],
      "text/plain": [
       "alpha_l_eq4: {l in Integer} |- alpha_{l} = ((1 / 2^{t / 2}) * (Sum_{k=0}^{2^{t} - 1} (e^{2 * pi * i * phase * k} * ({t}_〈b MOD_ADD l| . FT^{dag}_{t} . |k〉_{t}))))"
      ]
     },
     "execution_count": 12,
     "metadata": {},
     "output_type": "execute_result"
    }
   ],
   "source": [
    "alpha_l_eq4 = alpha_l_eq3.inner_expr().rhs.operands[1].distribute(2)"
   ]
  },
  {
   "cell_type": "code",
   "execution_count": 13,
   "metadata": {},
   "outputs": [
    {
     "data": {
      "text/html": [
       "<strong id=\"k_domain\">k_domain:</strong> <a class=\"ProveItLink\" href=\"../../../__pv_it/common/0107914a254b4cba063b4849ea3d536e6979ec8c0/expr.ipynb\"><img src=\"data:image/png;base64,iVBORw0KGgoAAAANSUhEUgAAAHIAAAAYBAMAAADUnLRyAAAAMFBMVEX///9ERETMzMxUVFSYmJgQ\n",
       "EBDc3NxmZmYiIiJ2dnaqqqoyMjKIiIi6urru7u4AAAB85a56AAAAAXRSTlMAQObYZgAAAAlwSFlz\n",
       "AAAOxAAADsQBlSsOGwAAAWFJREFUOMtjYCAAuBMYyATvydXIsBqPHN9dPJKZ3ZOwiGZBvHD6Hj47\n",
       "d2ETZDJ8ACS5/gGJmcexBER6tRADwz8MXX1AgtEASHA2AANwAV8bhkY2AYb5F3gD0EQfV/+DagIT\n",
       "HgwMEzF0MicwsAbwGDxCE+ZB0SnMwLD+AbpO1n8MzN/YD8zDq/M7A4P+Agw7GxiYPzGVKODTyQfS\n",
       "6YAlDDk+YIohdLJvYGD7CdR5AItObIJgnTyggEt1gOicgEVnMwMOnWy/GBiS9wJTEVDnfSzGswvA\n",
       "WK87QKAJrpPh8S4GpsIH4BBavwBTpzMDLjsZZl+AJAdBBgZ/jFhh4JrAkIZDJxcsmFwZGKox1Wgy\n",
       "MJzDFbYBUJ0cC/iCILlxA9DXv6Gpr728vAFTJ+c35JTAV3kYEuEcBUCiHRqZ////34CZJk1/myDp\n",
       "JBlQqJMngAyd7BugyYFk8BScytOtSNaYCdQCACw2ZRDDxSPaAAAAAElFTkSuQmCC\n",
       "\" style=\"display:inline;vertical-align:middle;\" /></a><br>"
      ],
      "text/plain": [
       "k_domain: {0 .. 2^{t} - 1}"
      ]
     },
     "execution_count": 13,
     "metadata": {},
     "output_type": "execute_result"
    }
   ],
   "source": [
    "k_domain = psi_formula.rhs.operands[1].domain"
   ]
  },
  {
   "cell_type": "code",
   "execution_count": 14,
   "metadata": {},
   "outputs": [
    {
     "data": {
      "text/html": [
       "<strong id=\"b_modadd_l\">b_modadd_l:</strong> <a class=\"ProveItLink\" href=\"../../../__pv_it/axioms/40499c1d812234f6f708a1a1dbaca7d695ae978c0/expr.ipynb\"><img src=\"data:image/png;base64,iVBORw0KGgoAAAANSUhEUgAAACkAAAAQBAMAAAB5O0ugAAAAMFBMVEX///+YmJjMzMzc3NyIiIhU\n",
       "VFR2dna6urqqqqpmZmYyMjIiIiIQEBBERETu7u4AAAD7tRWPAAAAAXRSTlMAQObYZgAAAAlwSFlz\n",
       "AAAOxAAADsQBlSsOGwAAANhJREFUGNNj4LuzgQEVsO1XYGDgmoAmyiAPxPwNEDbL1NA8CGsWENc/\n",
       "ADOZ8pgKnhWAmVuAOBuiQIWBqYChHcRi/gQklrpEgNgJIFE2kD7GDwwMfL8evDcAmmoAEuVLAIqy\n",
       "XmBg4PjHwOMAZDKARBlA7gFxORcw8ANV8KalZYalpQGVMegDtXInMNQD3caJUOsDce78ByiiV/mA\n",
       "ogp8B0HObQCJsoN89JENaI0AL9jLeSDRZyDW9ydAl4VNBPuC04CpgHkeiCWZgBQmYuXtKQwYgK/F\n",
       "4wGMDQC0ZzEcGuHYrwAAAABJRU5ErkJggg==\n",
       "\" style=\"display:inline;vertical-align:middle;\" /></a><br>"
      ],
      "text/plain": [
       "b_modadd_l: b MOD_ADD l"
      ]
     },
     "execution_count": 14,
     "metadata": {},
     "output_type": "execute_result"
    }
   ],
   "source": [
    "b_modadd_l = ModAdd(_b, l)"
   ]
  },
  {
   "cell_type": "code",
   "execution_count": 15,
   "metadata": {},
   "outputs": [
    {
     "data": {
      "text/html": [
       "<span style=\"font-size:20px;\"><a class=\"ProveItLink\" href=\"../../../__pv_it/axioms/7b8e14bfeec30fa2c83deb2740813fd8ea169a4c0/expr.ipynb\"><img src=\"data:image/png;base64,iVBORw0KGgoAAAANSUhEUgAAAC4AAAAQBAMAAACb51DZAAAAMFBMVEX///+qqqq6urru7u4QEBBE\n",
       "RERUVFTc3NyIiIgyMjJmZmaYmJjMzMwiIiJ2dnYAAACPW0xlAAAAAXRSTlMAQObYZgAAAAlwSFlz\n",
       "AAAOxAAADsQBlSsOGwAAANZJREFUGNNjYEADjFO+TL0bsoGB4e0fFHGOsAMMEziBDO4PKOJcCxg4\n",
       "NjwEMSagiLMVMJgyBwAZvA0Q/bF3b4JoZgaGNWwHgIx6EMHANMMApoMn4RSI2g/mVMKFGVgNgkFU\n",
       "KpgzHWGDHDfYZA8wB8lysCsZeL6DSd+7d+9ehThA4BEDgwEDhwPYFQFw5absQHY6A2sC2MYLcPEc\n",
       "oA+YPzDwb3gA4nXAXblAC+i5Cwz8ymDbOQXgrpzMwB4YwMC9DsxlTlWGiKtEuob6uz6AG8v0FBIO\n",
       "UAAAaDkwDDbpPcIAAAAASUVORK5CYII=\n",
       "\" style=\"display:inline;vertical-align:middle;\" /></a> <a class=\"ProveItLink\" href=\"../../../__pv_it/_proof__alpha_l_eval/2e5dadc09af13f54967134ff47c71ccacbcaa0a30/proof.ipynb\" style=\"text-decoration: none\">&nbsp;&#x22A2;&nbsp;&nbsp;</a><a class=\"ProveItLink\" href=\"../../../__pv_it/_proof__alpha_l_eval/8e787d86f730cdd880e3d8156640be2d5416c9c80/expr.ipynb\"><img src=\"data:image/png;base64,iVBORw0KGgoAAAANSUhEUgAAAMQAAAAYBAMAAABXdE8MAAAAMFBMVEX////MzMxUVFRERES6uroi\n",
       "IiIQEBCYmJhmZmYyMjLu7u52dnaqqqqIiIjc3NwAAACW8nlqAAAAAXRSTlMAQObYZgAAAAlwSFlz\n",
       "AAAOxAAADsQBlSsOGwAAAtFJREFUSMe1lUFoE0EUht8m2WS7yW5yUQQRowVF6iGKehCUPXhRkQYh\n",
       "UKWHHISehOBJ8GDpJY2CBlGE0kNMtQg9ZBUKmhDMoZciYkDwUFRyEYSKbU+SWhPfm90k685ssMEO\n",
       "JLs7b3a+ef/88xbgf7WhBux0K+04AZb7xBr/2vvU6DPL6pUXgt7vbBqtJnzlEtejPSz0y2JW1CkN\n",
       "0ztvQT2VdEUWN0DLuIe/x9Hh6j3BRN9yxwA2uemv4p8/DqDm0QyTrmhoHWDG/coiW+ozXkE9AW+M\n",
       "QNrVW8wRNIyrV3C1UVsrbepgmd0oyL0pQISSEE5wCF8Dgmkt/sQtbAcRxOuoJbJUlowFtqVyHQO2\n",
       "8h9SqXwHgWlHOEEguAm+llIveyGWbQmw7QPJgCW6W4uhetZmnF9xZBGdBGmLzyIJvg0pG/NC3MXr\n",
       "g89Hqc8kRJgWf5uCcabzjFOoEiJ+ipwjr/N9XcRj3PFmoYSbqDUIoZoYGKYtz7vKQg6zw1X8FiH2\n",
       "1z0QGrpgHEjeIA7xASGA3HUdfxFmkaGebyYsxC8R4jJ4IHTU9RrzTxTX7q9UXo1UKugYqUWbz3Lf\n",
       "ncJGJtKPIL5kQkCUhdKxmfqIxqdiXQQUZwkhmzCKtlW6WVB2YBl9rjvNntNsuyNbAsQN8MoCXhsk\n",
       "FB6L+wUnwh/Hxwg78nLvleMYSECINy1ETPjhgSCPn0FETJ0gZWqECGA+0QzqFmLJa/W/jl6anUp3\n",
       "2wuw4uUo1OIl7nPGzypImRALeBO9gBMrpqu60ekZh3mms9qkL4RN08emp5M8ItyyTbsLx49krU1r\n",
       "SIZ+h/xKh0W2SnfxRMGBeF49YD2M0Qi7tMntdpvPzXeoedhCyI5DeevcUrX78NW+XjzZKyDbb4QI\n",
       "Oaqs+u5T75OQFVXagRBwVhzTuYr6cRAEc8ecOObnvgtrtQEQ81RM9bow9oXPa2r7jFWsr38AP6+7\n",
       "Gf5euW0AAAAASUVORK5CYII=\n",
       "\" style=\"display:inline;vertical-align:middle;\" /></a></span>"
      ],
      "text/plain": [
       "{l in Integer} |- (b MOD_ADD l) in {0 .. 2^{t} - 1}"
      ]
     },
     "execution_count": 15,
     "metadata": {},
     "output_type": "execute_result"
    }
   ],
   "source": [
    "b_modadd_l.deduce_in_interval()"
   ]
  },
  {
   "cell_type": "code",
   "execution_count": 16,
   "metadata": {},
   "outputs": [
    {
     "data": {
      "text/html": [
       "<span style=\"font-size:20px;\"> <a class=\"ProveItLink\" href=\"../../../../QFT/_theory_nbs_/proofs/invFT_on_matrix_elem/thm_proof.ipynb\" style=\"text-decoration: none\">&nbsp;&#x22A2;&nbsp;&nbsp;</a><a class=\"ProveItLink\" href=\"../../../../QFT/__pv_it/theorems/93755fac1e3bce96cd040f096bb42ec154dee51c0/expr.ipynb\"><img src=\"data:image/png;base64,iVBORw0KGgoAAAANSUhEUgAAAkwAAAAzBAMAAACXoUrNAAAAMFBMVEX///+IiIgiIiIQEBB2dnbu\n",
       "7u5ERETMzMzc3NwyMjK6urpmZmaYmJiqqqpUVFQAAAB6qHgnAAAAAXRSTlMAQObYZgAAAAlwSFlz\n",
       "AAAOxAAADsQBlSsOGwAACbhJREFUaN7lmw2MHFUdwP+7O7Mz+70NtEpKYFtCsBRkRaCYUF0Sa+QK\n",
       "dkp7JCTAbUQWLV9LSzSXqF1oaIqN9gBLSEjpKkJiBHpSFWEJbsVcoQ3eVWsuKNqlNSWKOba2d1fb\n",
       "u57vc/bNztvd2Z1dRsNLbmZu5s2beb/3f/+veQvgoPT398PHuDjt/mVzp7v63GC+d326swtt3GSQ\n",
       "nXoH/fe+uSlHt13c5a78q3eU4uUuNKJdSPfrDXZixAtM8UzvMP29K638ge5iKS8xvdU7StEhfmRK\n",
       "QidFqdD9VzzEpF/dO0ybCnSvfrDTDSa4hO78Ze8w+ZO9w7TIPDrfFaY/0rtjV3qH6Y0ezrl0lzCF\n",
       "hun+Ke8wXcH2kbGOm1C3y88HMo4whSUOya+IPtgB82mNk/TsroJXmHyT7OB1F400UNACm2aYvg3h\n",
       "A6/W/h3Em7+Qw69DhJ57mklVxStM/kq9UepkdlWkpz8NjjBlIQADdedeI9s0hKnWPsSU06RXmDYy\n",
       "id/gSnncI3ULpx1h0jOgwwY8tR5/HCufzfjkkw8iy6JnAegADFA7ox7zCtMRtv+hq1bWyCjE044w\n",
       "xbDArEOowoqC0CBMOsDJP2V1iGawqJF4inmWX/UK0+dBFOfm5Z8Nr0Rksy5QaYVpa6lUKkaR7Yjk\n",
       "4SGAtUFAu83oTztjoG2kCEB1QZTp8NGCN5i0GaaiMq4w6Sdl87nsSJo0NKFW+PBRn99gk8735QsR\n",
       "EP+tXJpU9poDZW8w+Vj/NjpRTfMbX/qazNAVnKnwCoTm/o0PxmIcU6RwPZIx5ZOgZSxCTwX0o8cU\n",
       "ZPrjqDi8RD7sdb9x13Ky573Pt3BSbxeOVxUav8O+Ju/HHAKmlJiO+ugxBahQw4xwjpgapWivvILu\n",
       "+iS5pG0S5/Sq2uHEF55unFLxNUE4zjGzILhKMRGherclJifVHJUBGgZoom65AZTL8hiTdvizE0cv\n",
       "uBIee+LwkqOPZbluQphuutx0AZluG7b75o6Th0brS6N01KKnKCbijT7ZEpOTas7cJuqQRKvCOSTY\n",
       "o1SawlPobxnMgm8GYmnYUZMm7OD4xclh9061Y60enphzUKrie9I2R+C7QL2qFpicVHNUDtHJEhd6\n",
       "GUOC8QrFpJ9Bm7fVCsaEbI6AaRbPAGGi+ap2f2i2A3f+1bczzaSeSugIhAzr4xtgclLNURnN21wc\n",
       "nBpfJGBarZcJphXIB+SYwpN14xSbtnd5us13eWFhMbYAUnLBYy94hmKKIk0Xaq3CnVRzVJjRTghj\n",
       "eDMCMG1i0g2fViSY3hQwKem6Wa/NNvQ15EmFI0tt59JqFd7X5bFlgg3JFLN0ly9efIUDS+egmqOy\n",
       "iurIhGCHziWqimOKEo4+YgnfNzGFKrGVBhwUuj1ja1pp5tivufQNm+Ne0NKQ8u2TKvQAo/c5hull\n",
       "gDsk1TJ1mOTVfld25HmvrL3JbwybPUdSH8+amB4SMP3axDRQ/uumskWHU3390mJcaGYg0gzTYdDt\n",
       "l4NFtRK7Xp7IYHNxMcP0A9Bl8dFwHSZa7bdE/9/G1ScaDVCutehA9YsT1tG5ZaiWgkflQ2bwapjC\n",
       "6GIgyTAdn9gpYJpvYjr0vbHBAom5eDlhj3yrTTCh9u62nXy5Sb6HucEXMExBw+LY6Uv7AItnPSZa\n",
       "LUCqxlDPtfNyRXKwB56zerGRlGg+tHkpeoMV067aM3HfNxZMaYoImMDEtHsvaUwY0NONMFmsOzFa\n",
       "+HXRsQ2sYiQdY4ola6r5/qPr4G+KETHsmGi1bbRjCEIpz3gtg4To1CaK+rTFfMSsmNikE6TJhybu\n",
       "WWBiikkxLaHPyzTD1GjSYU9Um92y5eH6CzvnUo0x1U06GNpjPgcL4bvJYQVWlpaWitZghVQb0c/G\n",
       "TRRJ30j30YwPiI5C1EBWSzQfdZhYrEUw7d87D/VARRfvVQWHQIJJnQ1jax8qsHukuklpZumOtWlq\n",
       "6lU43LAdde61+xcSk4OCmj8/qEh0E6kG731/DermAAoeeKJWmzS/ZnFRTlnMB8YUro3a+dRv2obu\n",
       "UfddA1eTBDTMKM0xRSfVWR8O/vg91qCQ3WPxm/Y/f1D8d7chC66bYKoImQKMaRM6ccsz5UBBJa7C\n",
       "uHLrT2SYcDX4zBiO5t8BeJ5cGMxjTAHrDF9vWMwH+cL8qFHnXuIkqr56CPA8Qd05tZpi0qZETFxy\n",
       "+pDTrk4rOPjj94A+28K9PJAV7SLceM2PFrWDKTEszG2MKY5e/OFzIGHQbPk4DC+QYcLV9NPENvwC\n",
       "4K1cLjemIaOGJl3C4p3r3G/4JqqSK1BM75gkD9G5HMDtx5PhNA3V9mcIJu0fxycIxp8dOf5B3pSc\n",
       "PgiOwcL51HWg94B2yh6sWE7F849Yrr70n7Y+ow5QNaiesCRS3oNnIPpELncPwrQ2JPGb6Hhlf4wl\n",
       "92IDHqBjXrGpcNgKW6wvj/qmp+szjCEsuYF8ZDjPgyB7IsWUnD4h+GP3yJLEmmUe+uHcZ92H6Dz0\n",
       "ZWUZlDSauBuH8IFG+aZ4cr2iZqCaRP4B9wzmwYv4cC2o5Hb9zm/90oZJUOFMmCNpYjf938nzUE2S\n",
       "b+KSwzEFC+Y9WAPaCjN+W1/Bianb4GDZBSYWotNwmmPSq3DROHWz9wGc1whTsBDfqy2HnxcRDY5J\n",
       "uZZg2VDQyAQJ8EwEb/m6E0kRk5+l5LEwvAg+osO2N8DEJaevFvyZ9wQlPvES+sQsrCp2K/akceJI\n",
       "zRM+uwyb0TtpSwoQb5q9jJHt2hxzL50UoR77SKSKGnhPA0xccvpqwV9NKiWiQr9txQsQSNPUUrVz\n",
       "TB+KLqs1yat+KbeudZJXmPHhVNuYokyn3CVOLjJu9g/7XHI+Yab6a2WXJFE7SjRBYBLiJ11L01Vi\n",
       "TrqTXLg4jI86e+bgmC0B4nZdynUytUseE09BHLkGlmUCbReduaPbkt34ZKA5ytTpoqCwLzsDLtXH\n",
       "8iYuIfjRVLEvE2grq+nx50zYzXz1IVet+NKSk5G0YM3pMoFOSzzF8y8eYeK5gWWuWgnIxDjM/Usa\n",
       "461z0X4iKYaCXizcYf69u4Wq50jPsjxuhOjdiJvV59QacIPjASZu6kJunL8Gy1xZ535PtnSZQIeF\n",
       "rZRii7E8XFSofspFGzfKTQddVBjL4HiJLRPorHi/qJAPOTziYh3Y3c0k9YGmazQcFe7j3wueYQpl\n",
       "JG5Ce0Vt5E3gtWX60lIp5fIdd9EhDE96h0nr4fL5DWiS+FGUMuSynUuZahrzDhMs6B0mX7Yrzfwv\n",
       "/Bjj/+CnPT9linyoLUyXdPlnhzt6hynUjXUOGludP0g1VH+/M/n/uP3s8Gb2s0NG6765qf8CIt/p\n",
       "LOw67fYAAAAASUVORK5CYII=\n",
       "\" style=\"display:inline;vertical-align:middle;\" /></a></span>"
      ],
      "text/plain": [
       "|- forall_{n in NaturalPos} [forall_{k, l in {0 .. 2^{n} - 1}} (({n}_〈l| . FT^{dag}_{n} . |k〉_{n}) = ((1 / 2^{n / 2}) * e^{(-(2 * pi * i * k * l)) / 2^{n}}))]"
      ]
     },
     "execution_count": 16,
     "metadata": {},
     "output_type": "execute_result"
    }
   ],
   "source": [
    "invFT_on_matrix_elem"
   ]
  },
  {
   "cell_type": "code",
   "execution_count": 17,
   "metadata": {},
   "outputs": [
    {
     "data": {
      "text/html": [
       "<strong id=\"matrix_elem\">matrix_elem:</strong> <span style=\"font-size:20px;\"><a class=\"ProveItLink\" href=\"../../../__pv_it/theorems/df30aba3a535ce7eb8609d1347296ba1cd1680060/expr.ipynb\"><img src=\"data:image/png;base64,iVBORw0KGgoAAAANSUhEUgAAAJcAAAAYBAMAAAAFV3JHAAAAMFBMVEX///+IiIjMzMzc3NyYmJhU\n",
       "VFR2dna6urqqqqpmZmYyMjIiIiIQEBBERETu7u4AAAAsfX+gAAAAAXRSTlMAQObYZgAAAAlwSFlz\n",
       "AAAOxAAADsQBlSsOGwAAAd5JREFUOMtjYCAdLGagHuD7QEXDOBaQpv55AW455uxlClhEm3GpZ1z+\n",
       "AI9NXA3YRFXvgULgzgYMiX6gWWyJk7HYP3OtAgM/hk3aIJGrYIsmYOjJBuIVDK8NMCRsGdi+M9Sg\n",
       "R0jk+gdQTQz8DdgMY9nAwHYBQyKYgeEMgygfepjJww2rh7ma8fbuXXDDeAMYOP5hGHb+AUO8wUS2\n",
       "BzgNy4GKsC98gOQy/gkMTD8wDItmYIhX0HRiwGnYUoa2eSDa6gGyN98DDfuCLdb2YxGDG8b3haP5\n",
       "CFommcXAYJ/AwPQRiz6sgmDDZEDp+XMFE9gcRLpmPgIx7BsWfdwBuAyzB0Yk5xFI3DCd3r17916w\n",
       "WVHA9P8+gYEdmyPmwhivdoPAJoRhfFENDNwrJ0FSCyIhaN4DRwAHZgQwsGBzGMQwtuVAJzTUQ5yG\n",
       "lBGAiZn3AgMLZtJgaGNgNsBhGCjb+D943yAAEhFETbQHGDgxSwemBAbGBzgMAyWxKIb3Cglo+RcU\n",
       "yzsY3oBd/H4BjAAC65kzZ2PxZr4BVNMNBsaJYMv4YuuQDXuZGASJvgkwApTI/v//hWlW6PmlDtBE\n",
       "CwfsuUjZiXSQTaI4WYbJkGPYLBzi9g1kVDNHcBXzU0k2jTkVqAUAoEWJuwmnY2MAAAAASUVORK5C\n",
       "YII=\n",
       "\" style=\"display:inline;vertical-align:middle;\" /></a>, <a class=\"ProveItLink\" href=\"../../../__pv_it/axioms/7b8e14bfeec30fa2c83deb2740813fd8ea169a4c0/expr.ipynb\"><img src=\"data:image/png;base64,iVBORw0KGgoAAAANSUhEUgAAAC4AAAAQBAMAAACb51DZAAAAMFBMVEX///+qqqq6urru7u4QEBBE\n",
       "RERUVFTc3NyIiIgyMjJmZmaYmJjMzMwiIiJ2dnYAAACPW0xlAAAAAXRSTlMAQObYZgAAAAlwSFlz\n",
       "AAAOxAAADsQBlSsOGwAAANZJREFUGNNjYEADjFO+TL0bsoGB4e0fFHGOsAMMEziBDO4PKOJcCxg4\n",
       "NjwEMSagiLMVMJgyBwAZvA0Q/bF3b4JoZgaGNWwHgIx6EMHANMMApoMn4RSI2g/mVMKFGVgNgkFU\n",
       "KpgzHWGDHDfYZA8wB8lysCsZeL6DSd+7d+9ehThA4BEDgwEDhwPYFQFw5absQHY6A2sC2MYLcPEc\n",
       "oA+YPzDwb3gA4nXAXblAC+i5Cwz8ymDbOQXgrpzMwB4YwMC9DsxlTlWGiKtEuob6uz6AG8v0FBIO\n",
       "UAAAaDkwDDbpPcIAAAAASUVORK5CYII=\n",
       "\" style=\"display:inline;vertical-align:middle;\" /></a> <a class=\"ProveItLink\" href=\"../../../__pv_it/_proof__alpha_l_eval/0a41634a28453c62a11a1d48058704f98d660bb70/proof.ipynb\" style=\"text-decoration: none\">&nbsp;&#x22A2;&nbsp;&nbsp;</a><a class=\"ProveItLink\" href=\"../../../__pv_it/_proof__alpha_l_eval/3e2267ac11f09ee8e5d8720d8857eb1c385314c80/expr.ipynb\"><img src=\"data:image/png;base64,iVBORw0KGgoAAAANSUhEUgAAAW4AAAAyBAMAAACOtyyEAAAAMFBMVEX///+IiIi6urrc3NxEREQi\n",
       "IiJ2dnbu7u4QEBDMzMwyMjKYmJhUVFSqqqpmZmYAAAAHKSyHAAAAAXRSTlMAQObYZgAAAAlwSFlz\n",
       "AAAOxAAADsQBlSsOGwAABr5JREFUaN69Wm1sFEUYfnf3ent7u3fXRCMYvg4TExOjrLRVwg968SPG\n",
       "SEiJQQiRemBoY1Q4jBJEkjtjFEFMzh8Sgok04fOPUjQhQKs9E2oabfTgByYk0mo0VkqwUGwp5cB5\n",
       "Z7a72+7s9tpObprO7c3szjzzzvN+zR5ABUooL3Aw9VmoVPlJ6GifZSoE20hbF9pqEcPFGiqE+4z1\n",
       "uePysJDxXq8MbOX9sStJDO6q1orgrqoWjDu2k33Gi0KG2+6jL6dgerj/pLWcf3DMGi0tSmyKr9j3\n",
       "K2Lk6qd1H5aFWz73h/NlP1aX6OXnEEERz20j5tSEXtq2yMRabxFEiHZuqwtsEO4IZCe09NM6BUtJ\n",
       "fY+upnEBD9O2aAHrfaLsYYjLt6pCWbgV2IdSP3YMSVCLLQcfI4qhpOHifXk5r8O72GowgtNxjkzD\n",
       "Iie5nmwnr/VAvkx+P0mwy+EwLqGW/MPgrykFYq3Qr6R0wL+TRDRsoms2eBG4+YrSBeXhjuehDmAr\n",
       "QVZHcNeBdjtDar0IR+VUuK29rR2IAkTZvc/gPqanjlviU6ve5DTuKRN3s4T1hqqMxRPpldVkOK0a\n",
       "WowkSluC1UVL3tBBeg5Mnd6hQ31cKoc4ItBGy8MdvfsffhRjY7jj5ms4SQEWzgOlqMNiWG/CXnZz\n",
       "lnies84U/BE5Qgxn3B02gfUcZ2sGXY8NTn1rv6b1aV2l3qvXMj5E1x151PKf3ODH77GO52ybUOLs\n",
       "gbMWo+vW1CNDiUpHRvtNdNESUagBNEcGb8BbH0wU7Mt5hKd1ftR9ds1OOHyoc+3ZwymIFi3c9IFL\n",
       "9u2NHLucmqF1ddNYHYM1APqA3dpge1CndDCxyjfI/y4ogTQKsZyDmz5QZd992TtttncSL/s0KU8B\n",
       "3C2zMEJeB8P2ljEyg7XR0pXuZhsJwlNuk+pbtYC4iQsL2TzBB8K2ki7gmO/qGch6md9ir1GK29mU\n",
       "zBRea9aSW5mJXunCvUVppbibHdz0AcWmQo83IeuZSdB2wi9XuwMJ23ZtJ5JjqcSnoCXhPNW0ERu3\n",
       "kpFIK+L+Boy8hTtMte6gLVwvyI6A3FLtagzWyUa/Rd+GhB2EzyFG9Pu5eGcacVNbh+y3cOtUsSVq\n",
       "fuKmhTtaiG3KwAWbzN6IfoHpj2vbulMF385H5ifBNyO7AfVFl1pmj6qD1PQQ3CpuhJGycde5cDN/\n",
       "uQGB/rak1VHMBCVzfBUtDNLmALfWCYq/J8qpA6pvpLrb2tqoCTKZpycD79Ggi+CmNj5SbeG+2X3c\n",
       "hds27D2Li/tNiCctriS8DvPfANxkrOd9O00tF+v1y8hWwSKqYiT2xcmJ9RgiCtrUtOmHpibUtgOm\n",
       "Le84D3ffaarHBVCpOU14jd4v7GOiKcsSUWrkeiggmkgq/X4kW2PJ+yJBRNb2IsjEsMUdec8GG3fM\n",
       "hTs6xu+1V1HtYmmItQTj9kTl5E6tVFPzhD/ufwI01sL9+NpXAclUgvjwONzLVZcddHBnLXmrJXmE\n",
       "LkPZeCTP53cQT64FGZNwJsDyr4J6SqEvyT9xWiOwjXzViohbxgWNhrm4L1q49WG1JNHAhnnQhJeP\n",
       "m01/T9KXwfzApxy/G3C+sxuydFWo1hfwQGwFDYUR91a8ur6F4dZuuHHj9lDcRos6EsbABhJUrPVe\n",
       "e7sg7+9J3v544crpOaQ9EEE6yDkWZuzY1MrMs5ZU/sar79IUt/bjzW46/6NdN3/Os+3BDpJRzp9F\n",
       "LehDzO8kJ/E7EzzJX7emGQXcgSiaDanwjjvMgJMPnF8fFMcOj+vAwGauivh6vGTuGb8UMWd76hDE\n",
       "UdTx6mZ3mAHquXmZANxyblxHiFD4d+peN3LiqnGUV8WceZC4SkfZaf0oraPl5g10e5wOEtjAF9SQ\n",
       "L/c+Pd40+nuSqZ20lYgpmyz68uKm2+N0zHE7QI+htiS87DKmRf6eZGpJEIlGVjh5FP+m+73bRLfH\n",
       "7rBjI5mTPxqMU4SEm5PCjkqNAfex44xLmMNenemwYUIkBwni2QcETITJX1acGCKccFljPIwMgzEo\n",
       "bKL6ar6Qpllmg++5j9EAxoiwifDcB3YJG+4TXmOfraEDLBkQUDqxOiMKtsTduUVJV4acU0XQmwVk\n",
       "UVGvS5aYfhErLS+xZEDAREzX1RfEwFbXBUxCjH6KJQMCZrKO1JeKObgP+eyb9Z6kfdJkoOzC3pOA\n",
       "IuY19Jt+yk/FQnKimkmSgbLLcqhEidJkeS/ArEmSgXKLPFwR3Bq+d1Uar14V9X66qlgR3HAvzkU8\n",
       "vCgHV6H33M7vCsQUuaVCuK20TlTZX6nfcQj+3QxNb/4HZiP5t8B/ovAAAAAASUVORK5CYII=\n",
       "\" style=\"display:inline;vertical-align:middle;\" /></a></span><br>"
      ],
      "text/plain": [
       "matrix_elem: {k in {0 .. 2^{t} - 1}, l in Integer} |- ({t}_〈b MOD_ADD l| . FT^{dag}_{t} . |k〉_{t}) = ((1 / 2^{t / 2}) * e^{-((2 * pi * i * k * (b MOD_ADD l)) / 2^{t})})"
      ]
     },
     "execution_count": 17,
     "metadata": {},
     "output_type": "execute_result"
    }
   ],
   "source": [
    "matrix_elem = invFT_on_matrix_elem.instantiate(\n",
    "    {n:_t, l:b_modadd_l}, assumptions=[InSet(k, k_domain), InSet(l, Integer)])"
   ]
  },
  {
   "cell_type": "code",
   "execution_count": 18,
   "metadata": {},
   "outputs": [
    {
     "data": {
      "text/html": [
       "<strong id=\"alpha_l_eq5\">alpha_l_eq5:</strong> <span style=\"font-size:20px;\"><a class=\"ProveItLink\" href=\"../../../__pv_it/axioms/7b8e14bfeec30fa2c83deb2740813fd8ea169a4c0/expr.ipynb\"><img src=\"data:image/png;base64,iVBORw0KGgoAAAANSUhEUgAAAC4AAAAQBAMAAACb51DZAAAAMFBMVEX///+qqqq6urru7u4QEBBE\n",
       "RERUVFTc3NyIiIgyMjJmZmaYmJjMzMwiIiJ2dnYAAACPW0xlAAAAAXRSTlMAQObYZgAAAAlwSFlz\n",
       "AAAOxAAADsQBlSsOGwAAANZJREFUGNNjYEADjFO+TL0bsoGB4e0fFHGOsAMMEziBDO4PKOJcCxg4\n",
       "NjwEMSagiLMVMJgyBwAZvA0Q/bF3b4JoZgaGNWwHgIx6EMHANMMApoMn4RSI2g/mVMKFGVgNgkFU\n",
       "KpgzHWGDHDfYZA8wB8lysCsZeL6DSd+7d+9ehThA4BEDgwEDhwPYFQFw5absQHY6A2sC2MYLcPEc\n",
       "oA+YPzDwb3gA4nXAXblAC+i5Cwz8ymDbOQXgrpzMwB4YwMC9DsxlTlWGiKtEuob6uz6AG8v0FBIO\n",
       "UAAAaDkwDDbpPcIAAAAASUVORK5CYII=\n",
       "\" style=\"display:inline;vertical-align:middle;\" /></a> <a class=\"ProveItLink\" href=\"../../../__pv_it/_proof__alpha_l_eval/779014880083b57b01225b311be4ca208f6da0930/proof.ipynb\" style=\"text-decoration: none\">&nbsp;&#x22A2;&nbsp;&nbsp;</a><a class=\"ProveItLink\" href=\"../../../__pv_it/_proof__alpha_l_eval/bbd2e12abcb3a2316e3335623879a54d1a626fb30/expr.ipynb\"><img src=\"data:image/png;base64,iVBORw0KGgoAAAANSUhEUgAAAdQAAABLCAMAAAD+voZ8AAAANlBMVEX///+/v7+urq6YmJgyMjJm\n",
       "ZmZERESIiIiqqqoQEBDu7u66uroiIiLc3NzMzMxUVFR2dnYAAADkd/AHAAAAAXRSTlMAQObYZgAA\n",
       "AAlwSFlzAAAOxAAADsQBlSsOGwAACcNJREFUeNrtXYm6o6gSdgaQfXv/l72i0aiAbIacubH6O905\n",
       "lS4D/NYKZYahkSD/lvAPkxQsyWkgpL8l/NNkdJpTTYSyLwn/OFGQ5lQSa7nSWViiB6ts4lYmOZWk\n",
       "4Y3CAD9YFazemOZUkbL8PmEsEHmwyo+VLEly6oJXeIMwM0Zr51xFyEQD+OAXplGkOTWBTouibsLO\n",
       "k6JpOCwAn8JYPPDFLB1Ocmp0Tdwh7MCVVg0EDYGoizygRlWVpjk33CpVwoAtoEoE5ANqka0jSU55\n",
       "/GXZXcImCt0DapwsTHNK00w73iWs4jWuB9QrxVBJTiGBFl0/CMtxh6kaV5JRUEf1Y/CxkQULECbJ\n",
       "KfXTLdZ3L+wqSVIWaKoGP6eUYVtmaZpTaEBF/qdfCctRKYVYPqjafHUlvxQVBS2WZ23HNvsLAprO\n",
       "NIJZ+rsXptZRpGxioDWnGLtTOSJ7Lp0otAuDPQxwm/3V4coDzloIXV+2kFT2Wkf8l0AdBAjkhTDJ\n",
       "KSJqGxYiIpw1t35l/78Famij0nojtC1jjrjUvIWICecYbjr8P4CK9hkdVwMXZ18o4ZQf4P0AoL81\n",
       "CT2LB9tKt2P9QpD6FJeavw8qJxgFl1ZttpHsAFLOrq73KsEaLHZ2TunQIV/xHA/yinqopcyHIh45\n",
       "ayFQtTvvahFrP4w6W5RYgZ2DHGe9fH2kHMDAzLDCzPeOFGo/4ByTnAKCkdJD1kLA6rqF6HmqqRbU\n",
       "SaHUqnkc0ukPWrO3bQWkxHiN8J2CQmzUbIjdrgYD2//VBwPHvLiIJjlFcZKqXwham00pq/4DoDrt\n",
       "4wu4Ax/MYFaoZ6BmG2olYePymoBFc92b7uXrB5hNjd+hCPaCE5vkFFAsyspaiLMwtBE6T0IX3oZA\n",
       "fQdU5D5XztHgZEtnYNxvDreZq+x8LGB+DZzVgmzg05sGAKDdz3SJxSsfMhR/F9x6d7mtv+9l7IbI\n",
       "WQhPmNjTUJjkWFPrmRIasL7byYmisApkpEbVoBo2bFc3fNgKU5v5xUYK9gp7FF6w0/ytqRNLMHLW\n",
       "1MlhnkMl4TkyUV+SJ7GkJGchfGFtQ9cD5wEqG6j6ricnSv0H/xiozvBsA5pmQDxQkZyUcp2bu1E5\n",
       "xu5XSWZQ5TQ2gx2AyhxtK/A+Cic5BZYpUrkwGQcVA8LCWp1K55xg4OLryYlSU5OhcLZL8Qrwg7+Y\n",
       "ol98uGOvLJX28ghdXyg04chZTzYTJjdRAsJqurlDYuiwrMHjGuvJiQUrsTjjlxjcrgnmNPF90hiM\n",
       "g8SX08+byy0B2W6SfMtTZzU/3aueU0WeLiBbnSBo25BbhITxG4kjZIcbNZaDrScnGGISDG+sNlC5\n",
       "iz21fGf/Gk/xZ78ycqLClvuGsR4DJjn5IbttOE4fFB5tsnbIYh8675G5lJ25237J3ee/HajzC2fQ\n",
       "zPLzSu2dD7spPzrt69ub6RAp8TOEYkhxCmKBBlCDwmwKdlEqSw3HAMvJCbXo3Tio+TLzrw7U+QVe\n",
       "ghD37/y7tAh9//hEcaOJtwLYSxBwffVBtOzbhYX5dFOSRNRMYkuznZyYAkyuffOrF2Ul5O1SuRi+\n",
       "bX2LG008WwW81BLUVx9oC6gRYTPlpZc5BDjEuExTgYbzyQmEB059UIFWelJh83apk80eGjcH1hFU\n",
       "B0jljSbnaOQCVDPl76oQF9wCKo7ld/A6FZJ7cy0IcCH+8eQEZMM72d9FvwRaOr4dkvN+uq3e9B5B\n",
       "Ma3bOOXe75w3EA/UF0cK7kYoF6+zj47FjvQJF9ACKoiskr00AGZfDNBizjbZx0xdOogvHMFuAZZt\n",
       "HFYep1KYCSqdpzsityXLdJ5Fti2gRoW9cuE5Bdst4HKNMXsY4+0tdaUj2EUByzZOuNHkOhwRXiAy\n",
       "hDhoYSM4LHtAmbiUrBE7mtW4MLp0q/sbTr3i/Wy3eHkykOUnd9t/LR7B8R5zdbBgo8n1LKhXtGEh\n",
       "ziujN9S4t5HJBPXfw2+JDOsYTxyFz+VCnAkqkY5u2jN/DzB7Lk0jqM2nzqD+44E6c9ZNOrOoj+BZ\n",
       "PtW2HM+/EJZXqfPR/H6977xhBPttnCbzG9PUFVS6GJdmXNJJ9YUwvqrcHQrsaLHTH08143OpH8Fh\n",
       "G6cpUFKeT104y04ImFyrynapieg3EWnGhfnlbgvev8sEBRx//sBofC69RnBYOp0XKE1ZKgBT4Ivc\n",
       "UfhMl3oNaiqpjgqra6N+LD5M3sHCj6/o5Vy6jOBo5FAmqAebzfP8vrjUVFEnzOj1CjU9jqA6hBr+\n",
       "ELFzrJ0Fqs104Jf766mkOiYMkwX9/u1u7E89SMQr6BOvfO9zBoTzlGG8Ss9SSXVEeBxLjU8HqigQ\n",
       "fHI0Z/8EvIAL1G+96dP6SoTg1gqcSqp1EBwULA8cJiG6qE3RXPqSd57HPxmE6zfJT4cm5hNVJtfl\n",
       "BU9cgGAyAw6g6h6NNGVz6UvaP/kwJjn52fNRVM+AUFolfJHMEHoyLR2aLsrm0pe88zzIM3qo3keB\n",
       "o5LTebX1bBwCpzCuhZdKUiBxYOcBKtvhQXdlc+lK0oswxwxONvFjjDXvQmU/G4R7AVogmZFE+3s2\n",
       "tEMrTdlcupJ/mNvvSqrvUwqf0BcLL9rJFxeGFu5JiGXn2wvkUDejmDuXvi5V+GZFJTkFpQ3/QOea\n",
       "RKU7+c7CKLY1Ajwd77TC+XPpWk/C/kre2Uou/OVdN3L2nXzZwrkf2ylTzZ9LV+vrPTnfc2SypZVR\n",
       "e1q0b5EYeaFw/bw+QgVz6Uh+cy73Qk7e8iQP7B1W3H1iagsY14fdXR4PUDKXfhR4PMDNz9w53xHE\n",
       "Xet1+ja5BdxwO/VQ1aK59KNRB0weSXIK6NSxvLTcLQ8TSW8Bt7Q7w4+ratlcOioqCwQnLMkpi5R2\n",
       "xkAK5EhUCQ+xFmBjAn1p6tNdTaVz6eZRSUA5aJJTRGYf7LwaCGGV8OwqA9GIO3PA/YIiHj+8eIVz\n",
       "6UShx9gRr4hOrG6zBvo+4WALMHUhSqC/UZvh94jDYBZxq0sdmh5F5wmHWoCXs+80MEj4e191oiDL\n",
       "goA2VkpQS3X0JLy2AKOt0xMMagZVhDLa33uIcxBT5RlLZRuL47wtIzoIh1qAF1Dp87VSF+k+SXKK\n",
       "TSi9SzjYAryYX/t8q1Q8u6NpTvmNwm8S3lqA9+Y3Gig9tJoyk+SUU5MB3wuHW4Ddw/v48w2rUfK/\n",
       "QkbfUG4zLdfYC0dagI3B6PmG1Wjw5OkUs/qOy5ovCT8UelIYvsVXNT199289zPy/RxSlOVUkzLeE\n",
       "H0X1dOIuLSEtCk+eyLbFe4Ekp5bQ+C3hXw99P/Xt1bMNBd8S/mni3qMxOL0vRFEt11L0iZUq1YGn\n",
       "OS33jPyW8C97VH7J+R8uanjbqMO8OgAAAABJRU5ErkJggg==\n",
       "\" style=\"display:inline;vertical-align:middle;\" /></a></span><br>"
      ],
      "text/plain": [
       "alpha_l_eq5: {l in Integer} |- alpha_{l} = ((1 / 2^{t / 2}) * (Sum_{k=0}^{2^{t} - 1} (e^{2 * pi * i * phase * k} * (1 / 2^{t / 2}) * e^{-((2 * pi * i * k * (b MOD_ADD l)) / 2^{t})})))"
      ]
     },
     "execution_count": 18,
     "metadata": {},
     "output_type": "execute_result"
    }
   ],
   "source": [
    "alpha_l_eq5 = (alpha_l_eq4.inner_expr().rhs.operands[1]\n",
    "               .instance_expr.operands[1].substitute(matrix_elem))"
   ]
  },
  {
   "cell_type": "code",
   "execution_count": 22,
   "metadata": {},
   "outputs": [
    {
     "data": {
      "text/html": [
       "<strong id=\"const_factor\">const_factor:</strong> <a class=\"ProveItLink\" href=\"../../../__pv_it/_proof__alpha_l_eval/ccd7d4513d46801d00c037e7baf45aec8b2653590/expr.ipynb\"><img src=\"data:image/png;base64,iVBORw0KGgoAAAANSUhEUgAAABgAAAAtBAMAAABG7rbVAAAAMFBMVEX///+qqqq6urpERESYmJgQ\n",
       "EBDc3Nx2dnaIiIgyMjJmZmZUVFTu7u4iIiLMzMwAAAAz/ewvAAAAAXRSTlMAQObYZgAAAAlwSFlz\n",
       "AAAOxAAADsQBlSsOGwAAAKhJREFUKM9jYAABvjsMcHB65R8Eh4FjwDns3xBs7q0/tzDQE/xHAoRV\n",
       "sy1A4rA0IHF6FyJxeJH1nETmSLGAqayVdiDSDWymAUO9Atz/CQysATAO6x8G7m8M/ECXfQDKXGDg\n",
       "/odsB1BMsQuq8T3QKQE8HyCc20CcwAcxhcsARDJDlHmDyXVgkrGAIQ0Y9AfAfnjOwNDDwDD//wWQ\n",
       "c26tWnUBbgnQ7glQNgCBZz+0nMmZcwAAAABJRU5ErkJggg==\n",
       "\" style=\"display:inline;vertical-align:middle;\" /></a><br>"
      ],
      "text/plain": [
       "const_factor: 1 / 2^{t / 2}"
      ]
     },
     "execution_count": 22,
     "metadata": {},
     "output_type": "execute_result"
    }
   ],
   "source": [
    "const_factor = alpha_l_eq5.rhs.operands[0]"
   ]
  },
  {
   "cell_type": "code",
   "execution_count": 23,
   "metadata": {},
   "outputs": [
    {
     "data": {
      "text/html": [
       "<strong id=\"alpha_l_eq6\">alpha_l_eq6:</strong> <span style=\"font-size:20px;\"><a class=\"ProveItLink\" href=\"../../../__pv_it/axioms/7b8e14bfeec30fa2c83deb2740813fd8ea169a4c0/expr.ipynb\"><img src=\"data:image/png;base64,iVBORw0KGgoAAAANSUhEUgAAAC4AAAAQBAMAAACb51DZAAAAMFBMVEX///+qqqq6urru7u4QEBBE\n",
       "RERUVFTc3NyIiIgyMjJmZmaYmJjMzMwiIiJ2dnYAAACPW0xlAAAAAXRSTlMAQObYZgAAAAlwSFlz\n",
       "AAAOxAAADsQBlSsOGwAAANZJREFUGNNjYEADjFO+TL0bsoGB4e0fFHGOsAMMEziBDO4PKOJcCxg4\n",
       "NjwEMSagiLMVMJgyBwAZvA0Q/bF3b4JoZgaGNWwHgIx6EMHANMMApoMn4RSI2g/mVMKFGVgNgkFU\n",
       "KpgzHWGDHDfYZA8wB8lysCsZeL6DSd+7d+9ehThA4BEDgwEDhwPYFQFw5absQHY6A2sC2MYLcPEc\n",
       "oA+YPzDwb3gA4nXAXblAC+i5Cwz8ymDbOQXgrpzMwB4YwMC9DsxlTlWGiKtEuob6uz6AG8v0FBIO\n",
       "UAAAaDkwDDbpPcIAAAAASUVORK5CYII=\n",
       "\" style=\"display:inline;vertical-align:middle;\" /></a> <a class=\"ProveItLink\" href=\"../../../__pv_it/_proof__alpha_l_eval/f0d84c8c9104f1e9af7b1b4869282762117a9c450/proof.ipynb\" style=\"text-decoration: none\">&nbsp;&#x22A2;&nbsp;&nbsp;</a><a class=\"ProveItLink\" href=\"../../../__pv_it/_proof__alpha_l_eval/71fb9eb686169c392f909cd11cfbc765079ee2d90/expr.ipynb\"><img src=\"data:image/png;base64,iVBORw0KGgoAAAANSUhEUgAAAc4AAABLCAMAAADOMpddAAAANlBMVEX///+/v7+urq6YmJgyMjJm\n",
       "ZmZERESIiIiqqqoQEBDu7u66uroiIiLc3NzMzMxUVFR2dnYAAADkd/AHAAAAAXRSTlMAQObYZgAA\n",
       "AAlwSFlzAAAOxAAADsQBlSsOGwAACX9JREFUeNrtXYmWqygQZQaQffv/nx2RaBRQQA3dE5t3+ryk\n",
       "QizlUisFAeBiQwL0ad0Y/eqmJC9SLjRsOj1HN0a/vFlTppxulPE+T9GN0a9vDJYpJxu/7UptjBR+\n",
       "LpzCqSLlZDOo0zNEjCB5sHiaoUw51bTr5J5EjIjE9MHekKNFyjlns5dwvhhxa43xNlTm9DFED8Fz\n",
       "kGXKGfekl3DOjLzFxOOd8wxwmhD5EDi1I0XKGZnpNX4zI4+qchpQDDIuGH0KnGBgZcoNk+TTsxHy\n",
       "AKfCUD0ZTprYSnrdehrXKRTcMLK7oD0HTuBQmdIaCrqhz71vGOn9lNaD4DSjiipRGht0nYKFNSM1\n",
       "rNDUw9zUw+AUzhYprfa4l65dMfLZIKX+pBM4VqY0qsDs6On6/H5l1xUjNWitMf+Dc5ziukhpVIGp\n",
       "dHODUaXM1nddMWLOt51ciUXOPib3R5LRJ9e0rcnnEEi9Cq7satzfQmcmdkNFSlNjDvSBc4fRw5tL\n",
       "Bs9d8WV2TOf9cO4xqmq/M1OP1xGe0EDI2OwpNN44eQ0PR5lxQonOQle0GN2JOm+Hk14Ib3+igkFQ\n",
       "grPjqhdlSFertdpnK2enlBIDQ/ZyCr3wgc+Ik5QcvpKkwzuW93Y48XkT/yNLLMwrlMIjrRLOwySL\n",
       "rwFRAAJuwQywmPtBk3EQhyKloaGdJMLtcKLT2Qr9I/UoyjOeJRWx8R+eo6zlkZQiZPbHvVAiYvWk\n",
       "dv3KAodL3wXFgaa+ECtSmjwh3QdOdjqeQhb8TBtEgBUIYIGdQZ4gmlIgTlE+hNcUBmn1H/qXrz9o\n",
       "F9EN5jOZmTwJ2Li74DPu+VG3wxkxQm6nkdToNggn1Pehif211OTAjZpzgsS/84hNVO2mJfjpNfRi\n",
       "N7o6YvzQQgiN/xsvEawvOvACXDLN3flEgtqbCnfDGTOiLrprrgQxzKWaRkbCuZQyZHXAriRD2ehh\n",
       "WA6Wb1gBFjdmUbbEKslfmUpNAmpGvKVzJElON9I5DkOc2pSJEZLnk+h0L3y4G86EkXE51jB5Fh1f\n",
       "fS5laDYrbf6/Vx8Ll/GeaAInVqMgznfrpU4Q4t8qOsGpRn6WePT0ao4NNuFDipSGJNOO12jriwSr\n",
       "uqaMpHOmFMyBTHXbXMrQrIc+ameh2Gj80bMlmwm4fMaSZJktUuo1St4rNqPaQ6aq9raya8pIj9M/\n",
       "9zW8nRxJn7mUIYAkg8Wdv4OW3nAKEd9lvXAAinzQqSKr2xZL3DmJtt7MKhoHcAaUKNXNuE4ReoYR\n",
       "WcGwwWsLeq7LXMrAMVcQrEBa4BTeBzXqHfMbMvqhTH3uCXndBxLH8xyBEqXeF3ed6tBzjAZXTvzB\n",
       "nI6c0is+TudeKkLAHuJ2D+f0wqs6G/5eAb23awcqOlpDdze3t+yhGDwJSpQGg98JzhwjPjqyJfa5\n",
       "+vxQyqCDqA1A41e2QQU4pxckuCT+/+m9chjrjzxZ48YM4uL3DJQo1U26TjF6lpEYp23BKWcmO35L\n",
       "KcPoZwqTUbYmCCilb9MpJPiErm3cmEEjLw4moSI8n0dgveDMM7JjnHkc5by/xg2b7M62lAETIFgG\n",
       "Tmi0GeXWvk3nqKJB5h7my552gRo3ZuhoAh/AaccIWzeOMukFJ9mJ7o7t/uLYciYp9LK6LWXwi06r\n",
       "hYq3Z0uRY8M7evAW0WRyRstlm9u85NJo6HjkqtMEzhdFSeFvTwWjsfZ85aqZaJRhLzizjLz5tIfR\n",
       "4hKny+ktv1kJNl/2/URhyYW3uqHRvN6Fk039BuzXS7mp07+uF5x7jJJk355qCt8f6m93qNKBzZd9\n",
       "z7Sw5JLfmFFlPmb/IfUopuhzdoTDYk3lKNMmRYHOdt1lhA/Np5iX5vXL4a839Uf1hcvdtV92M2N8\n",
       "giq7MeNoyHGcTeEgQ2Eh7WKZ9R9jWwnnv5t3haBp5TSU+kb+xZZRlOwjZekcXyjfblr6nO/u0mXP\n",
       "RT4RnP8kcE4U/hoUGwZAiirb6XqVwO8zUkdR80rZfsZnu3DZ9ZLLeY570jnDyYI2uTrKjRFyqes+\n",
       "I3KUeVOLycVBJd8dOZ6/7GbJpQVOGIOXTOHJdk7KFo4mVFebzoJn2xAhl7ruMhKHiyN8mctcMiiI\n",
       "vFtGP3TZGl/92BUao04IR6cW+xryStN5DGdDhFzsusdIF7Q9wyub4dAHhv1Dl903H6IOzo2pF3XG\n",
       "XR5KZ4MukecYcVYYSTSA72pxrUwVnK7SSh+ufDdEyMWuO4xQyTpj9mVwxtuUaZJwTykAk7pSiuEo\n",
       "4mqIkItd84yGouxB92WnhA0mfkAJSpTqZqIoSGGMBr28OYyQ132LwbTJLYXhbKhPt77Ql508FBud\n",
       "tOqGnF++jgoZprImW7dJoqVvvmICZkMUuMVv+K5z3pKD2tKqG3u+DD76qpl4sSp71dI3e4/5EIWy\n",
       "GPPvMp0omee4SKkPF7eCzSZLZaYZlGT4ktCjvm/CCOycWMaTZ+HftS2U0cSpIEVKg+xvJv+0XFR5\n",
       "ekZL34RRNkRR1GTWV+w3nelGWOry0yKlIUfhcjFiQGBvS9yZvgkj5NC6SRmWpTNeHdNfLJyZvTvs\n",
       "wukImdrI+XCuii1xDX0jRnhvRSaNd77oyEWCMuNy5/ZrmZqmedFlvSVu9+vVfeV5G4jgl6CpUlde\n",
       "JTkDdWVDoEnEYb2rYChA0NDXnK974FJ9BZpc0oxPgYqUFvGPPcn1DuHS+mxLX3Kholehr0gN5UpY\n",
       "bj6JJp4L1F/rVcVaWp9t6Xtt0qlv8Ia4yCotWqS08Nh6nGHvWjhro7Q+29L34qbi720y8XvkpSy1\n",
       "XHucSmLfqlLALX0TRnvbZ60l9klo8sTv4dcO5bNrF+W1vQ7VwVPfN2EE8ttnfU2DGB4EJ01S2fTa\n",
       "nj7Ra0tgxCi7fXbKGDj1HDhvNp2g4+FqW0a57bOhGp096Mc40sG/Cgd2ndzGLaN5+yxe9lXC1zkI\n",
       "Ej4GTZ2oRn1VWYpem8i2jHLbZwOc7Dk/fUQSzUouL9ezXiuKa0bZ7bNB2brnKFvEypT2KSJ6zUWx\n",
       "Np1h++xa2T7NFdKJYtQ3qMpevu2aUX77rD/iTjznBz7Tnzy540dQbK9quRWjne2z1hL8mB/45Ikc\n",
       "8Tski/dyhrox+r84QqpIOXdd3usB/n5bd+Ua4jLlVJO9pEb+iefB3L5rttNe3iR9UgavZHlgkXK2\n",
       "4V55bzz8AflyYj/1W8mTFuyVWXtQCu+wieRECHHjIendDlz/mZPdf1+Toky5Mlt6GTXxZz1BrtJk\n",
       "Q/kPHS11nvL/0eEAAAAASUVORK5CYII=\n",
       "\" style=\"display:inline;vertical-align:middle;\" /></a></span><br>"
      ],
      "text/plain": [
       "alpha_l_eq6: {l in Integer} |- alpha_{l} = ((1 / 2^{t / 2}) * (1 / 2^{t / 2}) * (Sum_{k=0}^{2^{t} - 1} (e^{2 * pi * i * phase * k} * e^{-((2 * pi * i * k * (b MOD_ADD l)) / 2^{t})})))"
      ]
     },
     "execution_count": 23,
     "metadata": {},
     "output_type": "execute_result"
    }
   ],
   "source": [
    "alpha_l_eq6 = alpha_l_eq5.inner_expr().rhs.operands[1].factor(const_factor)"
   ]
  },
  {
   "cell_type": "code",
   "execution_count": 24,
   "metadata": {},
   "outputs": [
    {
     "data": {
      "text/html": [
       "<strong id=\"alpha_l_eq7\">alpha_l_eq7:</strong> <span style=\"font-size:20px;\"><a class=\"ProveItLink\" href=\"../../../__pv_it/axioms/7b8e14bfeec30fa2c83deb2740813fd8ea169a4c0/expr.ipynb\"><img src=\"data:image/png;base64,iVBORw0KGgoAAAANSUhEUgAAAC4AAAAQBAMAAACb51DZAAAAMFBMVEX///+qqqq6urru7u4QEBBE\n",
       "RERUVFTc3NyIiIgyMjJmZmaYmJjMzMwiIiJ2dnYAAACPW0xlAAAAAXRSTlMAQObYZgAAAAlwSFlz\n",
       "AAAOxAAADsQBlSsOGwAAANZJREFUGNNjYEADjFO+TL0bsoGB4e0fFHGOsAMMEziBDO4PKOJcCxg4\n",
       "NjwEMSagiLMVMJgyBwAZvA0Q/bF3b4JoZgaGNWwHgIx6EMHANMMApoMn4RSI2g/mVMKFGVgNgkFU\n",
       "KpgzHWGDHDfYZA8wB8lysCsZeL6DSd+7d+9ehThA4BEDgwEDhwPYFQFw5absQHY6A2sC2MYLcPEc\n",
       "oA+YPzDwb3gA4nXAXblAC+i5Cwz8ymDbOQXgrpzMwB4YwMC9DsxlTlWGiKtEuob6uz6AG8v0FBIO\n",
       "UAAAaDkwDDbpPcIAAAAASUVORK5CYII=\n",
       "\" style=\"display:inline;vertical-align:middle;\" /></a> <a class=\"ProveItLink\" href=\"../../../__pv_it/_proof__alpha_l_eval/a744972669d2c0ab1bd3d93e3287f11caa52ce900/proof.ipynb\" style=\"text-decoration: none\">&nbsp;&#x22A2;&nbsp;&nbsp;</a><a class=\"ProveItLink\" href=\"../../../__pv_it/_proof__alpha_l_eval/7fdfd476c839d7545264b16e1f7a397be03d6d8f0/expr.ipynb\"><img src=\"data:image/png;base64,iVBORw0KGgoAAAANSUhEUgAAAewAAABLCAMAAACFmkSwAAAANlBMVEX///+/v7+urq6YmJgyMjJm\n",
       "ZmZERESIiIiqqqoQEBDu7u66uroiIiLc3NzMzMxUVFR2dnYAAADkd/AHAAAAAXRSTlMAQObYZgAA\n",
       "AAlwSFlzAAAOxAAADsQBlSsOGwAACpdJREFUeNrtXYmSqyoQ5T1A9u3/f/a6RKPQsqipWHG4NXUz\n",
       "DCEth17pJgida0ShW7S70PHdZrQs9hxv1N3jKe9Cx7ebd+Weo40LeYtnvAsd328Cl3uONXnVRNfS\n",
       "YehzwVbBFHuONUfu8YQRHZg9mLVdV+450my4h1UU0cE05Q+20QIv9hyygG/C2C86pPfODbpbQ5Ie\n",
       "k4eg3elyzwGr6CaMPdMxaGraP5cEYLWM6YeAbQMr9hxgqJss30zHgLkJFnGKALuRPwVs1Ilyz/kd\n",
       "9OWdjOUEtqHYPBlsnuhoflpru3AP33ZDh9+F9Dlgo0DKPY2+behu8WQbOux+cPBBYLtevJV62hqG\n",
       "RUNnL0Oxk610mPVbbDc38zCwVfDFnkYzAJTi7sKQmq2K4a/oGCJnxvxxNgqi3NMmPaHFc/4QYDtD\n",
       "a/BZ0WE6ay2Vf2D3DGCLPW1SHBAMUeBCOkoqrTh4aMWJzYoOEYYGDzOeBP+YKCpLwGGn5LgDIipG\n",
       "mPRjZT2F6VCNj9Dx+GYT69uesscFwEKaoYvBLh9divCHLaC0k7UMJxxlSGVjga4GGxF6xHSobPc8\n",
       "L6Frl1b1qlbpWN8a0lPOXsslSbpuJJF35IQE5ICXLfz1YJcOY/kJb/8b2S2KMwquul3ELF/tbzuq\n",
       "sZmJOHN40mujN0n3jWCaRDfpiXgnTRU+CNZZsBFxrXRUm5jfOAYTgzAqLO3KTukmPn4tkEEYSb/A\n",
       "r+aB2KVma1fsqW8kDalohz4ANs9PQA5Hfe1XMpnM8MEzlxPR/6Oz37g8kjGMzT7EuASEeTtJdDyc\n",
       "1S6DlwXveGKPiWJPi31mk9nsJ8CWefEjDvuPxKPvtE5NoCOFPPLzFhjxG1VWMFx202uOX6w+/HV4\n",
       "/frB/s334yLFG1cmLqgMxy3Z1LhzAn0C7MLJe0QHCTuNNUqMSAba67Cmw1xmfKheJE9yWk9gj702\n",
       "jAkY42s8cmxvgKn+rx5j7Iaffo5J7ZN98yMkTBAOs4VJ94lwnwEb50y0mA4eomeSRjEnQirDdMTY\n",
       "S5oLKD92pQDWjXaPl2h5h1dosa0WMc680fL1yJa9MHXqzdl9n5Z8w9n9OkSLpBP1pg8rPJ54PDbg\n",
       "z4AtA26gwwXIF8PJk9r4w+Y0l2Z91ubRDKJn+ZSeJp6ATU3PwzO1IwMpxobfDR/BNv0HejZga1db\n",
       "sPPx5zBU6qkHhiQ9IAP6+jzWvaHCtdChQ3Al5xUBGZdzmkuziPuofsdqq0x6a5xt9udejMMlXoo7\n",
       "7Lf4xJAHM19cL0FJ3UHY/tCc0k7psD3rQLPQ7U5KxsxpLhOEetL083vIMhqPLvE7TR13yLAPmnps\n",
       "TbZa/OxRLtjNpuORS+oSJ/VoWMEl7xQfS2XwoYWOntkDKCLwdktAQ+Y0F0mlwWgF4QK2GuxmZ94R\n",
       "EMd621mYz6EtK/+iabRoJFnGo3GFLtBYs36sCgNnAn0d8LFdKIdQMbSBxkjUELSQA0dN0YspiDGA\n",
       "Pb4YZKiffl7RjUGd5oT/NoUiXNxWjEsiaHUC9tHAMokX+YPZh7mpCQC27I3v0s6DSlmmNBc7sWmH\n",
       "LH3FXswE9viCTXbS8P/4uwmU2o88dWsJEwvRryIZcDSqomNtz8PHDhVyQkNDVofqt3yBGsDo26S5\n",
       "9LaxcoAYdxNzc/5W2UqjT0jx1hImvjUuceIb48NRFREvMg72U2CjjGUhQBPT93513uN7v006Maq7\n",
       "bZoLZUgJAGzsrOt53r9Vdi/8EUTDPO9Rw6y1hMlu93cGbO+9s21gsyrP6xqwu3o6Fm82b40sxrgU\n",
       "muOBz7dpLsOp4eos6W2NcxJE97YhBkXsoPjaMm9rm4/FdLP8w1F0KWH9MDkaaqDOTOpopfP1qrlo\n",
       "kXHMTJ87VhAkAzbo1w1q22e94yVqocdf64mvFK/N8y5PNB2LyWbTebvtd8EW47CODsfh0lVJ9sSX\n",
       "pR8EW+t6Ot5PltMrb5k3vb+rz4nt6qRr87zLPpyOxeASpjrN9LJbUktmxGm23f0op+rA5rHD2yRy\n",
       "mvatFrtv3bXEaFZtq9mbsy8Xpj4sksuWfRPXPu96Pw3BPLCEKQsJjWJLMok2ySUc4oUf/kx9Hdj/\n",
       "Z8AueoUr06XsQW7AjoIHCR0rOz3jsS2c3b8wQ7tILC3EnZn3oC+3Bfu/BOyxZz4w9tMCaFWjsxOO\n",
       "+poY57tqWVeJ8Q+FB47Puz4WO/6Je5w9gy0mSVQ3c7zI2QOPhgABNDRjoO2DzUT2ZHRWiHQS9pe7\n",
       "Eofn3RyLNYEdxYNDssFHnT2KcdyrblurslMrmOXsoYYAATRUuFZrfNDKNms0zB8jtcCK6cv5+1Pz\n",
       "VjgYWQOt97Ix7g1xOlRM1KnsdJFzQZWGAAE4NBNB2wPbFkJogq6UVSCfwORT8+5qJlUF9kY/qird\n",
       "q+NFzl650SCWNMSGvp6O2c8uLDO5R7nxhS1Ks6oCO9RZB0nag83kkzQECMDrULIHIXAErWQkUPFr\n",
       "YEe3EPDk2CPtQZRVpdl0CbdlZG1DgAAamjtj6UCu74p8i8Ov3YjYuegBdfLIR484XYKtJlujmpKl\n",
       "LL8QIFiPhYbmwu4O2mMUDHzwrWr4tZvSIskK5Y0dTV5Ic1w2mcRj9pyvqy4qjs0F56BcGww6XXiL\n",
       "bvdjN17GZVJpvpY/XBLigfKSFTu58ZNFlWIsjs0lPAFPADtdXMQ74sdUNom5gKJST7U7DBQA87VH\n",
       "JEeWXGfi7HtP+bEmF4xK6QDvbpQ0TaP6rbJuwWNjhqFST73UELnQx3jAV3lFT2lstkggoQNwugx3\n",
       "wBmY/6nbLZlI3BRe7KmP14SyN6OnMbtVqnVjnW6hgwSyblpPSQmAJSrsDzM2UAN3vCoOBeBaawX7\n",
       "xxVVqrmxeekT0UH3DtFS3++XLq5l6S13V169oFOdF6dczQdl6yrV3el2xxY8Yn1c9xL8K1ind9mY\n",
       "RM2aEyW7LuWVCJZ1wU1XQCQzVrtWOmqb1OY3sJaap7YMKfY0CA7AkN/UOq5vAygdx2fGlq7ZYCeK\n",
       "Ewz5jTAakPx07d1Y0EZZszYfpn6lYZeO43NjO9dORz3aP2GjSQUJPF7safgEyHF+X2YwVZNO9/mU\n",
       "juNzY1XJqjhzocAPN52smz5zGqAB+WpnQ8FoOrSqyHt2rOaNdMDF8d4z/ySsZWKNyVOXl3rIMmLd\n",
       "jMDYSN2u2R9bcZ1lTAdUHD+kv6juQWDz5MiAhzP3gCnw3e5SBlKkmQ6wOH6MnwTzHLCvVdlo7x5J\n",
       "cuHRoa2ylrd0QMXxU2GGeNDXP6XYnLz1k8Lhtwsvl6/zjLZ0zMXxdCmLxq/7UzR+DNY2kbo2nLvN\n",
       "8ezl9JfJ+g0dUHH8BLZ4ztf4sURms7PJGuImR8JrOsDi+EmMh+eIcSLKPc37R91kH6u1yp6K49di\n",
       "/GkGmk1krj0vhcNNvrN6RQdcHD9cBaqe8wXb6XdwXfCtXP4mKZorOnaK471n9DFfsC0TJpQXsKW8\n",
       "iYl2FzpuY56ZYs+haeVNHk/+Yfw2WGm550jTN2Ep/cfamZ1/ES/wm5i4/Emx0JJOw8Weg43e5HiB\n",
       "dn8wvwzvrtxzWIDeJAj5oGBotqnkJhl13ddjfOebNu5Lx9c3vSr3nNhKN9GW6k9rIyhFadPzD4tA\n",
       "gGQwbYIAAAAAAElFTkSuQmCC\n",
       "\" style=\"display:inline;vertical-align:middle;\" /></a></span><br>"
      ],
      "text/plain": [
       "alpha_l_eq7: {l in Integer} |- alpha_{l} = (((1 / 2^{t / 2}) * (1 / 2^{t / 2})) * (Sum_{k=0}^{2^{t} - 1} (e^{2 * pi * i * phase * k} * e^{-((2 * pi * i * k * (b MOD_ADD l)) / 2^{t})})))"
      ]
     },
     "execution_count": 24,
     "metadata": {},
     "output_type": "execute_result"
    }
   ],
   "source": [
    "alpha_l_eq7 = alpha_l_eq6.inner_expr().rhs.associate(0, 2)"
   ]
  },
  {
   "cell_type": "code",
   "execution_count": 26,
   "metadata": {},
   "outputs": [
    {
     "data": {
      "text/html": [
       "<strong id=\"alpha_l_eq8\">alpha_l_eq8:</strong> <span style=\"font-size:20px;\"><a class=\"ProveItLink\" href=\"../../../__pv_it/axioms/7b8e14bfeec30fa2c83deb2740813fd8ea169a4c0/expr.ipynb\"><img src=\"data:image/png;base64,iVBORw0KGgoAAAANSUhEUgAAAC4AAAAQBAMAAACb51DZAAAAMFBMVEX///+qqqq6urru7u4QEBBE\n",
       "RERUVFTc3NyIiIgyMjJmZmaYmJjMzMwiIiJ2dnYAAACPW0xlAAAAAXRSTlMAQObYZgAAAAlwSFlz\n",
       "AAAOxAAADsQBlSsOGwAAANZJREFUGNNjYEADjFO+TL0bsoGB4e0fFHGOsAMMEziBDO4PKOJcCxg4\n",
       "NjwEMSagiLMVMJgyBwAZvA0Q/bF3b4JoZgaGNWwHgIx6EMHANMMApoMn4RSI2g/mVMKFGVgNgkFU\n",
       "KpgzHWGDHDfYZA8wB8lysCsZeL6DSd+7d+9ehThA4BEDgwEDhwPYFQFw5absQHY6A2sC2MYLcPEc\n",
       "oA+YPzDwb3gA4nXAXblAC+i5Cwz8ymDbOQXgrpzMwB4YwMC9DsxlTlWGiKtEuob6uz6AG8v0FBIO\n",
       "UAAAaDkwDDbpPcIAAAAASUVORK5CYII=\n",
       "\" style=\"display:inline;vertical-align:middle;\" /></a> <a class=\"ProveItLink\" href=\"../../../__pv_it/_proof__alpha_l_eval/1452ac17970a1d91ac2c2191b9cd75afa95c43150/proof.ipynb\" style=\"text-decoration: none\">&nbsp;&#x22A2;&nbsp;&nbsp;</a><a class=\"ProveItLink\" href=\"../../../__pv_it/_proof__alpha_l_eval/9766377870ece7f96cb9aea31a2e49f6d9e9ac4b0/expr.ipynb\"><img src=\"data:image/png;base64,iVBORw0KGgoAAAANSUhEUgAAAcgAAABLCAMAAADDLOcaAAAANlBMVEX///+/v7+urq6YmJgyMjJm\n",
       "ZmZERESIiIiqqqoQEBDu7u66uroiIiLc3NzMzMxUVFR2dnYAAADkd/AHAAAAAXRSTlMAQObYZgAA\n",
       "AAlwSFlzAAAOxAAADsQBlSsOGwAACXJJREFUeNrtXYmapCYQJkHkvt7/ZSPecshh62bbJt9spqsZ\n",
       "S/mpGxCAa63j4Pb2BI//f5OCZSntDen7n+AJHn9DMzpPaW2Estvv/wkef0ejME9pa+xTFyrnIdF7\n",
       "geRWZiltTXf3373HA+IXi6Tu85SWpuz9XojHAwtEXuzvWJKlNHmTDwjkzIMZo7WzlSKqfmH3DiR7\n",
       "kac0eCEPCOTCw1lGNNwziyGmMBbvAFJZnKU0CMsDo7fwcHhKqwBBIOZfkZcACXqap1yfHTfOQMgm\n",
       "ICWC8s1AksAmkstWUtv747sDD5NG6zVAAtvlKZXxne1vv+sDD3WSkHoPkHpQSzlKXYP2/jhgz0P2\n",
       "exxVvzT5LiC5NVlKpdl9QLPueLiMjpQ/iQSW5il1Wq947FRrkn7HQ/ZKKcR+QA6TW2UpdVqvTKCZ\n",
       "Rl2r7O54UOtaKuFhOmvekrrDwcDjS7pVl2cDcCuQ2v4KkZGIrMtSahq14HYgK3i8qNlgOO0Fd6XC\n",
       "RDYDWcMjaP/P3Do6hGxcAS58+ya74c7xPGKsC4euC/RUd0FzkYooshVIciFS/SOrCjjBKDakalV9\n",
       "ZF9NVS7ZuHicBGs4JR/HgAqlHUUUZNTQhRwbqjCwrUCidiP+Z6oh1GmR80faJ4r7Uf7mMZIAAmbA\n",
       "Ai1fOkIduoB9llLeuop0QCuQXXPKQf2Z1SHScV6ks6PDf2iOndZHkhLj1dd2gthho0Yl64oBDK6d\n",
       "V/x6Evg2NEup8UPU7UDS5vioM+APtZ5PgAIODDAzuiM2YzLDSsKWDwROIuq+db/OP9Cs4jqZSX9S\n",
       "siAMY7bdK6xxlFqB9Hl0NtFwYFwrGEL1QRyRu5gcfbRBT/bzBwfVSFR2LI5PH6ATtcGZ4cO3BkKo\n",
       "3c9wicnKdmlzb4MJbpunvKyZA41ABjyI9W6YSY41tYFiEb5ArusLYnKflF4oan0Iw8D6J4aDxVFZ\n",
       "VSs2UrAlz6jwhJfmm0QOJMHIQSKHcfAykyIwOaLZCJGayKARyJCHtjG20H8MFfBb1hfU6vZKr96p\n",
       "jJXLcE/EBxLJQfbWm3WSxjF2nyUZgZQDQ4Mdbmo3vXrjs8EgRynHpsItNG1r9iI8hLU6G51FVpYt\n",
       "6wtqVcK99hTyg4IfvFZ8mHrrd9SfzwbkKOXYFDu8elB+nYYf4aGGKR+7EjrMlLDLsr5gwkdMlnX+\n",
       "m27tDceQb1tGC3sg8Z1uE97dNl/jyFGc1WFCES8s00Gg1ho2a3t/wB3jgTcAjkgd0I4qgGV9AUNM\n",
       "QrDhswLJnX+p5Ra9azz4mFTe+Iis7AuBvBneBXO+NW7u7f0LvqM8epu1zjCqEccUiYu4mZOEKfQe\n",
       "/3VAjr84vWamnzkyd+brTB971W374bYJXOfBJgIgW5OZ3QNARnmwwUnNsI4uf5/WF6hJvnqgEFg+\n",
       "OiDHX/Dkc7j/j5+lRUjd8mS12x6w9T7SoENrRkDY+0PuOA8+TNVzX5vq+NCt6wsGJ5LrULXqSSgJ\n",
       "2UwkF+AOzVq77YEc/TQYxH6wOSNAHwAywcMMceNpOLP7M6bpaF+O6wsQBpyGQEKt9CCqZjORgz4G\n",
       "sXtYLtvq49Rue1DHqXsCpBkCZlU3yPgBIHEqWjs17ZvTyqgg0AnocX2BKw1tRYXNayWdpf0WEjjD\n",
       "p2N5n/WytW2pjtQaNHb0w0kA5EyRgru7k5OJ2Dm1Yte0N8jwASDjPJyZNGfR3xZxi/Ez+7DKq73s\n",
       "9kRTdYRVu5jHKZ0Eko7deuTKmUwXaVv7AJBJHkGqLqWHpgv0xbfal2m82stuc2yqjiS2PZRZi8lN\n",
       "CB2HMZpcfNyprlI2yDcU4NlRZaZ5oDMzyddyuZrd+GJzfrbab7u56sse5orLMcW3PZwNN/LSIixI\n",
       "lAwUOiVQDDXua2TKgPz3+PEj8dLRg/B4eKk6nJfI4Tfp2mdqk+vNXblsYzxzBPKfAMiRwuYxMdMA\n",
       "CF5iI+0Dy8xPeMiTAHivWu/xyNovu6+OtHNMSeQCJJ00yNVBLg94M91OeOCTxJncTCuaFPCnQ8Hm\n",
       "yx6qI1VAQg+2YPKONnJUrXAwlarURGa81kLvL9MtzYOfFTLYNn2ZoJBj8Wm5vOmyRY74mbMzRJEQ\n",
       "Dg4rcou1y0zkOZCFAW+uW5KHOtfrFO0jKNvdMOA3XTZtLXgRkAeTzotsuDiVyEL1Idp4MHo+hl0P\n",
       "vqx5S1eKgLRl1vi0JF0Y8Oa6pXh0KGfCvg1Ib4cvCVLkIQUgXLS8oT+LogoD3ly3BI8+J3DQfttJ\n",
       "Wb32HlAEj9xaxtJ+LUki1PVLCT4Z8O57ZeNiHa1XoWjUTg7ezredxOPZmHANDG4uLPtrC8blRSa3\n",
       "BaGsV4rHNPeigQc8QNd/2Sln/jll4RoY07zU3P9LPbKiGetU1uvs7uKBB6Ee2F9mIjt/hiOQo5Q2\n",
       "6MkyHe2SHqdOkHmr7JXiARIHdjH/MdiXbaukxHceMMhRyqX9OOvHyk72fImyXike0cBDEh3WQsxX\n",
       "HWiGaeDOkyylPNdgo5HfhEBid1lVrxiPznb7JsRUMA5dNqq+WCAje2Lad8mA2KrE5Ziq891lZb1i\n",
       "PFCqfBKuY/0ikcThCUmf3LIsInZoqZDsd5eBxl4pHoWtg9+CowzcdBmYHHlhW50OxWC/cH+39MWr\n",
       "F6d6lfEobUzI78CRCRL6Dl2WUiHwgcO731p7rJ/u68XpXiU8KiZy9x3pnciCks+ezxJMAuKuNS8d\n",
       "TddPy3p9YKIB+RX+DuMxRUWylAoOnks5bQObDqNI10/LeqV4/NrsOrAspepyeyskBXItk7ot65Xi\n",
       "kdp4agw2L8KRheH1pcPozMETmXeqdTlgSnqleCQ2nrp1Brx/D5AkSEGTS1vj+AMb6zwe8Y2nY/Bv\n",
       "5WuA/KyJBM+cL3bkEd14Oq34pu95h0Q47heRQPZ+v/DIY914itZ9iXA+MEDAt+CoAk2oLupG/sCG\n",
       "rCOP6MbTCUj6mvfz4ECP4quFdPpA2W/PI77xdFKt9jWqtaN5SvXc4A/MP743kfPG071qfZmzowI9\n",
       "qK5rxgf81j2PxMZTd7Ybf80bJsN3dHzgrR3mgeVqOx6pjafGYPSWN0yyQHjYB8SJPeDuPMHjr3J1\n",
       "ZJbSdFn2wK3/3ue6c/5QntLSxAPiIn4ieTKrPzTPyQPeInlR+i1rZ2CW0tjQA9lq1P8gnB3Um97M\n",
       "Oyq+B3Jj78m/nTceHJzAP3fk9xOnh6vf++unCc3zlAvT5AELxn9WEsSWfRwo/wFhJHRbHvavwgAA\n",
       "AABJRU5ErkJggg==\n",
       "\" style=\"display:inline;vertical-align:middle;\" /></a></span><br>"
      ],
      "text/plain": [
       "alpha_l_eq8: {l in Integer} |- alpha_{l} = ((1 / (2^{t / 2} * 2^{t / 2})) * (Sum_{k=0}^{2^{t} - 1} (e^{2 * pi * i * phase * k} * e^{-((2 * pi * i * k * (b MOD_ADD l)) / 2^{t})})))"
      ]
     },
     "execution_count": 26,
     "metadata": {},
     "output_type": "execute_result"
    }
   ],
   "source": [
    "alpha_l_eq8 = alpha_l_eq7.inner_expr().rhs.operands[0].distribute()"
   ]
  },
  {
   "cell_type": "code",
   "execution_count": 27,
   "metadata": {},
   "outputs": [
    {
     "data": {
      "text/html": [
       "<strong id=\"alpha_l_eq9\">alpha_l_eq9:</strong> <span style=\"font-size:20px;\"><a class=\"ProveItLink\" href=\"../../../__pv_it/axioms/7b8e14bfeec30fa2c83deb2740813fd8ea169a4c0/expr.ipynb\"><img src=\"data:image/png;base64,iVBORw0KGgoAAAANSUhEUgAAAC4AAAAQBAMAAACb51DZAAAAMFBMVEX///+qqqq6urru7u4QEBBE\n",
       "RERUVFTc3NyIiIgyMjJmZmaYmJjMzMwiIiJ2dnYAAACPW0xlAAAAAXRSTlMAQObYZgAAAAlwSFlz\n",
       "AAAOxAAADsQBlSsOGwAAANZJREFUGNNjYEADjFO+TL0bsoGB4e0fFHGOsAMMEziBDO4PKOJcCxg4\n",
       "NjwEMSagiLMVMJgyBwAZvA0Q/bF3b4JoZgaGNWwHgIx6EMHANMMApoMn4RSI2g/mVMKFGVgNgkFU\n",
       "KpgzHWGDHDfYZA8wB8lysCsZeL6DSd+7d+9ehThA4BEDgwEDhwPYFQFw5absQHY6A2sC2MYLcPEc\n",
       "oA+YPzDwb3gA4nXAXblAC+i5Cwz8ymDbOQXgrpzMwB4YwMC9DsxlTlWGiKtEuob6uz6AG8v0FBIO\n",
       "UAAAaDkwDDbpPcIAAAAASUVORK5CYII=\n",
       "\" style=\"display:inline;vertical-align:middle;\" /></a> <a class=\"ProveItLink\" href=\"../../../__pv_it/_proof__alpha_l_eval/81d2e683c090308b01aa0b645ee04af7afde86500/proof.ipynb\" style=\"text-decoration: none\">&nbsp;&#x22A2;&nbsp;&nbsp;</a><a class=\"ProveItLink\" href=\"../../../__pv_it/_proof__alpha_l_eval/a473b13cc29000279537966c45263331f8d04d400/expr.ipynb\"><img src=\"data:image/png;base64,iVBORw0KGgoAAAANSUhEUgAAAZwAAABLCAMAAABz08EoAAAANlBMVEX///+/v7+urq6YmJgyMjJm\n",
       "ZmZERESIiIiqqqoQEBDu7u66uroiIiLc3NzMzMxUVFR2dnYAAADkd/AHAAAAAXRSTlMAQObYZgAA\n",
       "AAlwSFlzAAAOxAAADsQBlSsOGwAACNhJREFUeNrtXYmyoyAWZQaQffv/nx3AJQoogiY9pY+uV53c\n",
       "5BDD4a6AAeBaQ+K3uGc1JXlV0t+w+S3uac2auqS3UcZ/inteY7Au6Wu8s6MEp/B7yRFOVSV9zaBb\n",
       "cJC8WHXMUJf0NO3EHTgiMX1xTOBoVdIVcaFLOG6tMcH3yJLlg+gl7AyyLunw6p2KM+OCp8H+OniB\n",
       "Bk2IfAk52pGqpEMB5DVc4Eg5DSgGhbiCvoUcMLC65DrjjTjIR3IUhurN5NDMx9DLXsc4fh1ndyl4\n",
       "DznAobqkMVdxw3Wc3i9WvIgc481HTdLWYKfqrXFqWHGjh7mpl5EjnK1KGt1Yp1Vb4UJlQKk/zQGO\n",
       "1SVt1qkweLpeUl3h1KC1xvyPHD9hdVXSZp1SxeMGo7o2rXDMhbaTN1vk7GuqOiQbTHLJrplSBkrq\n",
       "5Bj3t5BTyC5QVdLSmANd5DD3x0XB6WQD51z/okrR5Zwgp4w72f4/66N4nVII7yqETP2FQv7KyTQ2\n",
       "HOWDhDJ7gi5YGFrMcurkUNdfD/8Xq6eCElwcJb2YHbpajdKxDjVHWpQYOBamYnaA98MmnFVb8IX6\n",
       "Gi46rDo5uN/R/ZMyNQvKXvlKq8LgMOrJNBoKQMDtQpeY3whNHiYNVcn5hoopaJ0c1F010v9kZVuF\n",
       "D561CDH/D895wPKVlCJkjjGjwiBi9WjhYFj7WN68cDLQzP+zqqQlHtBd5LDu+B1Z8G/aIEaSgAAW\n",
       "2JmyON4xgXaK8mF8TOGkSuHV8Hj6g/ajV9HtpBONZykFd/2RUzmYqJOT4JDbaSR3Vg2KA/V93ODQ\n",
       "l4phjDdRo92SIzlRql1cMIyPYdQI7/CFf9VCCE34832Mbgvtu0+XTVrXPY1VmdcqOSmOuuQauBLE\n",
       "+Ow002mZKM6yjFrUz10tg7LRz1oOFoQVYPHli1kjVkk+1aA0mTgw4qM5XiY53WiOH4ekaiUzcy+7\n",
       "HQAtR8RVcjKccaWeYHZlOu15XkZttsdtEWpQ7eVT/DXRjBysvI7MVxsVQhASnisayVH+Ay0JXOjV\n",
       "lBls+jkE1CTn6w3F0MnWdvXkOOmcqSUPoLAjZV5GbVb5r/onKLbG1UdrZDOfltdYOkktqElOK3sp\n",
       "0DPeHiED23DaT80SBG9pzt4zL6OOQy5HTzVj0PJuGFOSzzY5OABFvhhakPVliyXPiXqnN5OEJimG\n",
       "yZKO3rTOdCILOLIa1M3obyksvWVeRuWYKwhWQ76QI0JcZdQnYzTEx1ZMfY8dfvIViZNZi7J53JvX\n",
       "DQ7fhhtcvaQDS9YoZtohyeNhxo7Z3pj0BXLig2BT7Pg3ZYPBHRwZw+2Sn7u5rRQDJVTIjJzeQhfq\n",
       "JKeE4z44q/VW2lo6LqPqUQ0GoPGUq6qRnPiAjH45/B+fK4ex/orGtG4pJi55yrI39GahstNbFXHC\n",
       "T6lK2MhMcTSWZVQfOwlTMGtmVB5KPy5HSPANq9a6pZhugxmY5SawOwtlneSUcdbnNccx+AfGDYvm\n",
       "eruMigkQrEAONNp4nbIfl+ONIShdw9xvbyDQuqVYb+fjATnWZ3S6bZBJJzlkJ5s49n5LsMaZpDDo\n",
       "0XYZNVThV7XeT7RGkWPDJ74NjsSU6gdLv61tLlu3Ogi+jT9pRs4kUVKEq1OjeV75LLlqJhlk2ElO\n",
       "ERfcjj3MTpYsT8an/G5z09zv8o3GsjVvDq2203SXHBbfNuCwHMTNKUvnOsnZw2VlnD0bMOKH858+\n",
       "nLM2zf0u82YsW5e3FJ+z1JPfzT1xzHbm2M5GO3BukOlZ7UWncPjQ7Yh5WVBPIel5j3e0H+hzce39\n",
       "rvkPxYriluLDIcRJLs6z7NxL2Ji0W2bDy9ieI+e/26e7Af3Wyya4bRmH1DXHP1Ch3bS0s1zclX47\n",
       "Y/MtOf/JyIkSPg2KHQdAijM+x3WWTPdx6ijnWpm1L22X6u93Xbbu/8Q9zZnJYaOmg1vN2mkcOaqp\n",
       "qMVV4dH43Z6pdPe7KVs3DUVSn3J50RHMBWDoXY8+63LujtaCV9GHnmueZlwyKIi8XX++1e+JAPQw\n",
       "IPBZDoQ+UMNhh+U5l3NIDlLtOF3RRIZXxtahb4zht/rdtdTiFDkbFylO+US5T86hYZR7eU5lWNAA\n",
       "HtaSZfdT5Lhz3i1bplMYo0GDWiy+s7yHaoUTzJ5GTnJqjGZlzlwCMDm1jDskGUFctLVeU5WVyOrT\n",
       "uEla1QvonnbHj8EkX1BmX7l3ycAkRX4T/QwLXCPagJusfWnk6dZWPu1OBYl9z9fvSfdiW7qGyuLM\n",
       "NmG98nCOl9ZeYTGIhls2hofdgSW9h0q+fm+7t3ymyFg3jCcZBWvB7QbRlKUMPszloHTWYlCTnG2w\n",
       "qHPSxxfEAK4bcMV7ifDsyvjDjvUwmjpjAmqS81rJSqE7ictelp/HFYJoRU2hRm0fdbcVwrIwllYl\n",
       "5/PbQjYT628aH+2FzXDIoXWTclxEK0QqTD9YcQp7yPt3lYPCdiY8tOPw3jaVPFd90o2KSH5XiDuP\n",
       "tsnMB0DThzvdEHwKNyqLT1XmJtSFIyAmnds0ZJdKNePONy7VM7jhkua+GFUlDYqZhFPjJm3CW3FN\n",
       "Ew49o0xQWAy/96x7QqySODTZimtk5xExARclg0KrkoZP2IZd00Zy1Ir7a/P48aqkqTt1B27nMJO1\n",
       "xL6IG555f37p5je207OnuOJhprDZTAzvIYdmJUfqrpzrF53oBFc+zBQTTqdeQ869Lgf03ydliyse\n",
       "Zhp3XrL33M84H8uLd6HBneWFLW45zISXczFwOgAq4Vu40ZkV0u7a3Up6b6a3xRUPM43ksBfd0YtW\n",
       "Ja26yK7jyoeZRrPmXmPWEKtLmvkWl3Gfw0xrs/aygEBnNki7y4lEr11c4XYOM4V7yYjX/MJOfg9o\n",
       "c30/i+3sYoXbO8zkk1D8ll/Y4dkk587c0Kv9Ke6x4YCqSrq65T/FPTTJwXVJT5P2t7hnKg7/ztyl\n",
       "nfpHX1Saqdp4WJX0lgmG3+IeGKp96VfBooGCv8U9rYnsJKy473aZvXfe1H+/RTlOUlGXXKBe/Rb3\n",
       "MI8jDiX/A0pca5vhZTDJAAAAAElFTkSuQmCC\n",
       "\" style=\"display:inline;vertical-align:middle;\" /></a></span><br>"
      ],
      "text/plain": [
       "alpha_l_eq9: {l in Integer} |- alpha_{l} = ((1 / 2^{t}) * (Sum_{k=0}^{2^{t} - 1} (e^{2 * pi * i * phase * k} * e^{-((2 * pi * i * k * (b MOD_ADD l)) / 2^{t})})))"
      ]
     },
     "execution_count": 27,
     "metadata": {},
     "output_type": "execute_result"
    }
   ],
   "source": [
    "alpha_l_eq9 = alpha_l_eq8.inner_expr().rhs.operands[0].denominator.combine_exponents()"
   ]
  },
  {
   "cell_type": "code",
   "execution_count": 28,
   "metadata": {},
   "outputs": [
    {
     "data": {
      "text/html": [
       "<strong id=\"alpha_l_eq10\">alpha_l_eq10:</strong> <span style=\"font-size:20px;\"><a class=\"ProveItLink\" href=\"../../../__pv_it/axioms/7b8e14bfeec30fa2c83deb2740813fd8ea169a4c0/expr.ipynb\"><img src=\"data:image/png;base64,iVBORw0KGgoAAAANSUhEUgAAAC4AAAAQBAMAAACb51DZAAAAMFBMVEX///+qqqq6urru7u4QEBBE\n",
       "RERUVFTc3NyIiIgyMjJmZmaYmJjMzMwiIiJ2dnYAAACPW0xlAAAAAXRSTlMAQObYZgAAAAlwSFlz\n",
       "AAAOxAAADsQBlSsOGwAAANZJREFUGNNjYEADjFO+TL0bsoGB4e0fFHGOsAMMEziBDO4PKOJcCxg4\n",
       "NjwEMSagiLMVMJgyBwAZvA0Q/bF3b4JoZgaGNWwHgIx6EMHANMMApoMn4RSI2g/mVMKFGVgNgkFU\n",
       "KpgzHWGDHDfYZA8wB8lysCsZeL6DSd+7d+9ehThA4BEDgwEDhwPYFQFw5absQHY6A2sC2MYLcPEc\n",
       "oA+YPzDwb3gA4nXAXblAC+i5Cwz8ymDbOQXgrpzMwB4YwMC9DsxlTlWGiKtEuob6uz6AG8v0FBIO\n",
       "UAAAaDkwDDbpPcIAAAAASUVORK5CYII=\n",
       "\" style=\"display:inline;vertical-align:middle;\" /></a> <a class=\"ProveItLink\" href=\"../../../__pv_it/_proof__alpha_l_eval/9726b7a8ba8e97b746d3df20354f7d8adaa17ef20/proof.ipynb\" style=\"text-decoration: none\">&nbsp;&#x22A2;&nbsp;&nbsp;</a><a class=\"ProveItLink\" href=\"../../../__pv_it/theorems/5bc3e616cbac63c4744b847593ad3f11882ba5490/expr.ipynb\"><img src=\"data:image/png;base64,iVBORw0KGgoAAAANSUhEUgAAAZwAAABLCAMAAABz08EoAAAANlBMVEX///+/v7+urq6YmJgyMjJm\n",
       "ZmZERESIiIiqqqoQEBDu7u66uroiIiLc3NzMzMxUVFR2dnYAAADkd/AHAAAAAXRSTlMAQObYZgAA\n",
       "AAlwSFlzAAAOxAAADsQBlSsOGwAACN9JREFUeNrtXYmyqygQZQaQffv/nx1wiwKKtiZTpZdXt17S\n",
       "SYNy6B0MQtcaUb/le1YzWjYp8Ebdb/me1rxrU6CNC/lTvuc1gdsUWJPAjjI+Q98LjgqmSYE1R27h\n",
       "w+zFouO6NgXSbFB38DFN+Yt9gsCbFJDHRS7xSe+dS7ZH1zQfJi9Bp9NtCsCqAwVn4kuWhsbrkBUY\n",
       "LGP6JeDYwJoUgADoa3wJIxMs4hRV/Ar+FnBQJ9qU64if5MNyAMdQbN4MDi9sDL9sdVyQ1/n8JgTv\n",
       "AQcF0qacjFVCd53PbicrXgSOi+qjRTnXMFD0lnymW2Bju6mZl4Gjgm9STpoxoFZb8KXMgDF/koOC\n",
       "aFPOaafK5Nl2SnXBZzprLZV/4MQFa5uUc9opFzzpKGlL04JPhNQ24mZPgn9NVocVk8ku6TVXi0BZ\n",
       "GxwX/go5leiCNClnmggIBI4If1hUjE4xcSHAiypVk3MAnDrfwXYxP0qXvr+KOl3pXLEbEodg3601\n",
       "SVL2Twp9Qi5oGF6Nctrg8ADPh+9WTxVntHo7dtYPfFE2sn3CaHKJOHN4yCD1bvyXy0sVt4kW2RZ6\n",
       "Ib9GqwarDQ6FG7r9NLVIUtkYe5HB6wY5GS/bIIykn+FS+LvoYFe6SV2TcryRagjaBoeAs0Z2v7Jt\n",
       "0jcmKSIi/qOTwz6PbQxjkzPYCwxh3g4aDqcixfzlb29w6Hhh/0WTcsYfsCBwBNh/J02R69QAElLI\n",
       "Iz9B1s93H+kGw2U3vOZ4FKX0aXo9/mH/katvmp18ockipJAB7jnVnYk2OBkfCRuNlcaqqTET7Kb3\n",
       "N6KKGvSWHsDpqTb0lb3+Ne6XbrTMKn7qMcYu/cU+BrN1wY3FhxZfYT5DsWgDeBmbOq5NcHI+HrJr\n",
       "kEYxF6PTQqZ1S3C8RDOiXqHZ6M5qjXmj5ZgssmzEwKmP5ESalrwtOXMFt6oaNq8Ta7aYhyxrpQt1\n",
       "r8EGgNc94iY4BZ8LtZ5wcWW21XOSwbmnyMwLcKiJMjJ1269cxVh6b3gPjok4eZYmze4vhKmCe9oU\n",
       "LLzJzueXz1CLcjzfUJV839rVU/LpEFwrJkF37UhZwK/Wqih6a2w1+3uqeazgntY2yyFFvkg9alGO\n",
       "Nl9z9FzUR8Thc3w2rvgaC13DHO72btmyfzXHOb3cNeZ9quAOU64HIzl1R+Z+cB9kfXbo4Q4Z5mek\n",
       "eBZiuCLogPqMDshZ4WOLO1tNwRpCczM4SAI+WayyUa1JKg1GizU+g6OSp+jMJwZ2LHqLYroPTbNV\n",
       "S4p1DHVLukBv4+tCO6WDC/8jK82Fm9uRID+FrTLJ4BC/DmFsAqd/kbSkH/7G+DYZuFkoKcmg0AU4\n",
       "0EQXAYJT45PROWv15u7bxHbH3t+hgmsHMeiQpWOYbAZw+hds8DTS//17Eyi1S4WR6Q9RaBRoFKqB\n",
       "1qrKp+JKbbiN4r6Y/Ya9v6sKbvQGlauoNTcID+cfk6M0Mh+/1a5VQyiUBTQKFUBw6nw+xjX7iv7D\n",
       "Jp3QV9b+hb2/09DrCi5lSIkKONhZF2XKf0xOVIYf62TX63EHHB/DKntukhkQHLYRpOzrrdlZk0Jz\n",
       "DJKjKW0NLlnMQ68ruKkAsEgzf7w1ToLoPh57so3ukz+Qa/+TF+CMFKNVGtoMOnLhzOlFc9kkYyA4\n",
       "uH7fYVcUP46n0/1bQMVlTFtLsPU6PfS+Al0v001wRP+1jqYqk3SHNF0AgrPFV6Rx8mCIr0SoA4w+\n",
       "pq3re38PXfvZoTt+TFOPdre0xH20M/l2vhfGY5N8UHHLtb7a5KO7ZkdNZUE7erowi5eUTH3v74Eb\n",
       "OD/0/laktYdqi0zyQBFD0O6FTx9Tfwycf9dvN+OEtfXO+NZpHNaWnPjCpAYqJFNQmne6gUtDN8H5\n",
       "pwCnp8hxUvwwAVodsTkBmDLd5jN7MddCrcEd4WXaGnTt9+7UWne3JTkTOGKQYnSrWjvMx4TZcwgm\n",
       "TU8H5QdI5qzS1iDBAw+974BOUJRJRzQlgHE0PfaoybnbW0tWxe4q/mmZSS2wYvr/2G5479BZ5nPL\n",
       "IYhRDsbRUaNph+Uxk7MLDjHn+WxDEgVdKNtA/qetoHcOnZ2L3QRnZf7UIYOnt8HZVYx6K85p3DPp\n",
       "0MNaVnY/BE44ZjSLMp2hlHQWtXzxjfIeaSVkqHgaONmpMV6kOUsKouzQRsMuc/f7WrCPkmq8Jt4e\n",
       "5hupTbnA4WlP/OhcdoO6uGWo++KyJL/r7YxIWBN+gm9U5bWZ52td+bQnFWT6vazfM3CxLa+hin5l\n",
       "u1Sv3F3jtdorrjrReI1G97AnsOTPUCnr9x685TPn7JOC/UlGJc7wbTrRXOQIPszkkHzVUtSiHG24\n",
       "KnM6+hfMIWlP8FWfJSKLK5MPO9YjeG6MGWpRjkulqLnurK89eXmcr+JEG+4qOWr/qKetMFG4sbxJ\n",
       "OR7fVqKZPv9m6d6G1IKPBLJsWg+VrIqnIuyDBaeyhxy+qxxVtjPR7jwf3dr9UsaqT3pQESufCnHn\n",
       "0TZd2ADsYHyHG8FPwcYU/qkpzIS5cATE5Wubp+jSmNN8x5vU5hnYSM1LW0yalBOCmblTw97v9mlK\n",
       "FuABiyHPSBNUKt33nnXPgDWapqbP8p1E5xE+gVQ1hcKblBMjrN2ucTc3Ocv316b5k03Kqe7MHXy4\n",
       "XrzynvkXYSML6y8vPfzGAy17zidq3lva8aW694DDi5QjD1c2ICsgd8ZnqlquDziDeQ0495ocBH9O\n",
       "yppvdaLog5isRdHPbeVcXnwKDQWmF9Z884kiOp+3weMBUI3fgo0ttJAN145VQB+mt+ZbnyiaL62X\n",
       "nBc90Ys3KWdlUVzny04UrdRaeI1aI6JNOY23usz3OVG0VGsvcwhsoYNsuBxIQPXigi87UTTjl1zp\n",
       "1/zCTvkMaHd9P4sHdrHgy04ULYNQ+pZf2JHFIpfB3dCr/ynfY90B06SAupU/5XtokEPbFEjT/rd8\n",
       "zxQc+Z21y4Hyx1+UmmnqeNykQNME3W/5HuiqfelXwXoFhX/L97SmipOw6r4fgrTAruzfb1EOi1S1\n",
       "KRegN7/le5jFUbuU/wAZZ2ubvec3YgAAAABJRU5ErkJggg==\n",
       "\" style=\"display:inline;vertical-align:middle;\" /></a></span><br>"
      ],
      "text/plain": [
       "alpha_l_eq10: {l in Integer} |- alpha_{l} = ((1 / 2^{t}) * (Sum_{k=0}^{2^{t} - 1} (e^{-((2 * pi * i * k * (b MOD_ADD l)) / 2^{t})} * e^{2 * pi * i * phase * k})))"
      ]
     },
     "execution_count": 28,
     "metadata": {},
     "output_type": "execute_result"
    }
   ],
   "source": [
    "alpha_l_eq10 = alpha_l_eq9.inner_expr().rhs.operands[1].instance_expr.commute()"
   ]
  },
  {
   "cell_type": "code",
   "execution_count": 29,
   "metadata": {},
   "outputs": [
    {
     "ename": "KeyboardInterrupt",
     "evalue": "",
     "output_type": "error",
     "traceback": [
      "\u001b[0;31m---------------------------------------------------------------------------\u001b[0m",
      "\u001b[0;31mKeyboardInterrupt\u001b[0m                         Traceback (most recent call last)",
      "\u001b[0;32m<ipython-input-29-b046f9677097>\u001b[0m in \u001b[0;36m<module>\u001b[0;34m\u001b[0m\n\u001b[0;32m----> 1\u001b[0;31m \u001b[0mget_ipython\u001b[0m\u001b[0;34m(\u001b[0m\u001b[0;34m)\u001b[0m\u001b[0;34m.\u001b[0m\u001b[0mrun_line_magic\u001b[0m\u001b[0;34m(\u001b[0m\u001b[0;34m'qed'\u001b[0m\u001b[0;34m,\u001b[0m \u001b[0;34m''\u001b[0m\u001b[0;34m)\u001b[0m\u001b[0;34m\u001b[0m\u001b[0;34m\u001b[0m\u001b[0m\n\u001b[0m",
      "\u001b[0;32m~/.local/lib/python3.7/site-packages/IPython/core/interactiveshell.py\u001b[0m in \u001b[0;36mrun_line_magic\u001b[0;34m(self, magic_name, line, _stack_depth)\u001b[0m\n\u001b[1;32m   2305\u001b[0m                 \u001b[0mkwargs\u001b[0m\u001b[0;34m[\u001b[0m\u001b[0;34m'local_ns'\u001b[0m\u001b[0;34m]\u001b[0m \u001b[0;34m=\u001b[0m \u001b[0msys\u001b[0m\u001b[0;34m.\u001b[0m\u001b[0m_getframe\u001b[0m\u001b[0;34m(\u001b[0m\u001b[0mstack_depth\u001b[0m\u001b[0;34m)\u001b[0m\u001b[0;34m.\u001b[0m\u001b[0mf_locals\u001b[0m\u001b[0;34m\u001b[0m\u001b[0;34m\u001b[0m\u001b[0m\n\u001b[1;32m   2306\u001b[0m             \u001b[0;32mwith\u001b[0m \u001b[0mself\u001b[0m\u001b[0;34m.\u001b[0m\u001b[0mbuiltin_trap\u001b[0m\u001b[0;34m:\u001b[0m\u001b[0;34m\u001b[0m\u001b[0;34m\u001b[0m\u001b[0m\n\u001b[0;32m-> 2307\u001b[0;31m                 \u001b[0mresult\u001b[0m \u001b[0;34m=\u001b[0m \u001b[0mfn\u001b[0m\u001b[0;34m(\u001b[0m\u001b[0;34m*\u001b[0m\u001b[0margs\u001b[0m\u001b[0;34m,\u001b[0m \u001b[0;34m**\u001b[0m\u001b[0mkwargs\u001b[0m\u001b[0;34m)\u001b[0m\u001b[0;34m\u001b[0m\u001b[0;34m\u001b[0m\u001b[0m\n\u001b[0m\u001b[1;32m   2308\u001b[0m             \u001b[0;32mreturn\u001b[0m \u001b[0mresult\u001b[0m\u001b[0;34m\u001b[0m\u001b[0;34m\u001b[0m\u001b[0m\n\u001b[1;32m   2309\u001b[0m \u001b[0;34m\u001b[0m\u001b[0m\n",
      "\u001b[0;32m<decorator-gen-143>\u001b[0m in \u001b[0;36mqed\u001b[0;34m(self, line)\u001b[0m\n",
      "\u001b[0;32m~/.local/lib/python3.7/site-packages/IPython/core/magic.py\u001b[0m in \u001b[0;36m<lambda>\u001b[0;34m(f, *a, **k)\u001b[0m\n\u001b[1;32m    185\u001b[0m     \u001b[0;31m# but it's overkill for just that one bit of state.\u001b[0m\u001b[0;34m\u001b[0m\u001b[0;34m\u001b[0m\u001b[0;34m\u001b[0m\u001b[0m\n\u001b[1;32m    186\u001b[0m     \u001b[0;32mdef\u001b[0m \u001b[0mmagic_deco\u001b[0m\u001b[0;34m(\u001b[0m\u001b[0marg\u001b[0m\u001b[0;34m)\u001b[0m\u001b[0;34m:\u001b[0m\u001b[0;34m\u001b[0m\u001b[0;34m\u001b[0m\u001b[0m\n\u001b[0;32m--> 187\u001b[0;31m         \u001b[0mcall\u001b[0m \u001b[0;34m=\u001b[0m \u001b[0;32mlambda\u001b[0m \u001b[0mf\u001b[0m\u001b[0;34m,\u001b[0m \u001b[0;34m*\u001b[0m\u001b[0ma\u001b[0m\u001b[0;34m,\u001b[0m \u001b[0;34m**\u001b[0m\u001b[0mk\u001b[0m\u001b[0;34m:\u001b[0m \u001b[0mf\u001b[0m\u001b[0;34m(\u001b[0m\u001b[0;34m*\u001b[0m\u001b[0ma\u001b[0m\u001b[0;34m,\u001b[0m \u001b[0;34m**\u001b[0m\u001b[0mk\u001b[0m\u001b[0;34m)\u001b[0m\u001b[0;34m\u001b[0m\u001b[0;34m\u001b[0m\u001b[0m\n\u001b[0m\u001b[1;32m    188\u001b[0m \u001b[0;34m\u001b[0m\u001b[0m\n\u001b[1;32m    189\u001b[0m         \u001b[0;32mif\u001b[0m \u001b[0mcallable\u001b[0m\u001b[0;34m(\u001b[0m\u001b[0marg\u001b[0m\u001b[0;34m)\u001b[0m\u001b[0;34m:\u001b[0m\u001b[0;34m\u001b[0m\u001b[0;34m\u001b[0m\u001b[0m\n",
      "\u001b[0;32m/home/wwitzel/Prove-It/packages/proveit/magics.py\u001b[0m in \u001b[0;36mqed\u001b[0;34m(self, line)\u001b[0m\n\u001b[1;32m    978\u001b[0m     \u001b[0;34m@\u001b[0m\u001b[0mline_magic\u001b[0m\u001b[0;34m\u001b[0m\u001b[0;34m\u001b[0m\u001b[0m\n\u001b[1;32m    979\u001b[0m     \u001b[0;32mdef\u001b[0m \u001b[0mqed\u001b[0m\u001b[0;34m(\u001b[0m\u001b[0mself\u001b[0m\u001b[0;34m,\u001b[0m \u001b[0mline\u001b[0m\u001b[0;34m)\u001b[0m\u001b[0;34m:\u001b[0m\u001b[0;34m\u001b[0m\u001b[0;34m\u001b[0m\u001b[0m\n\u001b[0;32m--> 980\u001b[0;31m         \u001b[0;32mreturn\u001b[0m \u001b[0mProveItMagicCommands\u001b[0m\u001b[0;34m.\u001b[0m\u001b[0mqed\u001b[0m\u001b[0;34m(\u001b[0m\u001b[0mself\u001b[0m\u001b[0;34m)\u001b[0m\u001b[0;34m\u001b[0m\u001b[0;34m\u001b[0m\u001b[0m\n\u001b[0m\u001b[1;32m    981\u001b[0m \u001b[0;34m\u001b[0m\u001b[0m\n\u001b[1;32m    982\u001b[0m     \u001b[0;34m@\u001b[0m\u001b[0mline_magic\u001b[0m\u001b[0;34m\u001b[0m\u001b[0;34m\u001b[0m\u001b[0m\n",
      "\u001b[0;32m/home/wwitzel/Prove-It/packages/proveit/magics.py\u001b[0m in \u001b[0;36mqed\u001b[0;34m(self)\u001b[0m\n\u001b[1;32m    651\u001b[0m         \u001b[0;32mimport\u001b[0m \u001b[0mproveit\u001b[0m\u001b[0;34m\u001b[0m\u001b[0;34m\u001b[0m\u001b[0m\n\u001b[1;32m    652\u001b[0m         \u001b[0mproof\u001b[0m \u001b[0;34m=\u001b[0m \u001b[0mJudgment\u001b[0m\u001b[0;34m.\u001b[0m\u001b[0mtheorem_being_proven\u001b[0m\u001b[0;34m.\u001b[0m\u001b[0mproven_truth\u001b[0m\u001b[0;34m.\u001b[0m\u001b[0m_qed\u001b[0m\u001b[0;34m(\u001b[0m\u001b[0;34m)\u001b[0m\u001b[0;34m\u001b[0m\u001b[0;34m\u001b[0m\u001b[0m\n\u001b[0;32m--> 653\u001b[0;31m         \u001b[0mproof\u001b[0m\u001b[0;34m.\u001b[0m\u001b[0m_repr_html_\u001b[0m\u001b[0;34m(\u001b[0m\u001b[0;34m)\u001b[0m  \u001b[0;31m# generate expressions that should be referenced\u001b[0m\u001b[0;34m\u001b[0m\u001b[0;34m\u001b[0m\u001b[0m\n\u001b[0m\u001b[1;32m    654\u001b[0m         \u001b[0;31m# clean unreferenced expressions, but only when \"display latex\"\u001b[0m\u001b[0;34m\u001b[0m\u001b[0;34m\u001b[0m\u001b[0;34m\u001b[0m\u001b[0m\n\u001b[1;32m    655\u001b[0m         \u001b[0;31m# is enabled (otherwise, references won't be complete).\u001b[0m\u001b[0;34m\u001b[0m\u001b[0;34m\u001b[0m\u001b[0;34m\u001b[0m\u001b[0m\n",
      "\u001b[0;32m/home/wwitzel/Prove-It/packages/proveit/_core_/proof.py\u001b[0m in \u001b[0;36m_repr_html_\u001b[0;34m(self)\u001b[0m\n\u001b[1;32m    533\u001b[0m             \u001b[0;32mif\u001b[0m \u001b[0mproof\u001b[0m\u001b[0;34m.\u001b[0m\u001b[0mstep_type\u001b[0m\u001b[0;34m(\u001b[0m\u001b[0;34m)\u001b[0m \u001b[0;34m==\u001b[0m \u001b[0;34m'instantiation'\u001b[0m\u001b[0;34m:\u001b[0m\u001b[0;34m\u001b[0m\u001b[0;34m\u001b[0m\u001b[0m\n\u001b[1;32m    534\u001b[0m                 \u001b[0mhtml\u001b[0m \u001b[0;34m+=\u001b[0m \u001b[0;34m'<tr><td>&nbsp;</td><td colspan=4 style=\"text-align:left\">'\u001b[0m \u001b[0;34m+\u001b[0m\u001b[0;31m \u001b[0m\u001b[0;31m\\\u001b[0m\u001b[0;34m\u001b[0m\u001b[0;34m\u001b[0m\u001b[0m\n\u001b[0;32m--> 535\u001b[0;31m                     \u001b[0mproof\u001b[0m\u001b[0;34m.\u001b[0m\u001b[0m_mapping\u001b[0m\u001b[0;34m(\u001b[0m\u001b[0;34m'HTML'\u001b[0m\u001b[0;34m)\u001b[0m \u001b[0;34m+\u001b[0m \u001b[0;34m'</td></tr>'\u001b[0m\u001b[0;34m\u001b[0m\u001b[0;34m\u001b[0m\u001b[0m\n\u001b[0m\u001b[1;32m    536\u001b[0m             \u001b[0;32mif\u001b[0m \u001b[0mproof\u001b[0m\u001b[0;34m.\u001b[0m\u001b[0mstep_type\u001b[0m\u001b[0;34m(\u001b[0m\u001b[0;34m)\u001b[0m \u001b[0;32min\u001b[0m \u001b[0;34m{\u001b[0m\u001b[0;34m'axiom'\u001b[0m\u001b[0;34m,\u001b[0m \u001b[0;34m'theorem'\u001b[0m\u001b[0;34m,\u001b[0m \u001b[0;34m'conjecture'\u001b[0m\u001b[0;34m}\u001b[0m\u001b[0;34m:\u001b[0m\u001b[0;34m\u001b[0m\u001b[0;34m\u001b[0m\u001b[0m\n\u001b[1;32m    537\u001b[0m                 \u001b[0mhtml\u001b[0m \u001b[0;34m+=\u001b[0m \u001b[0;34m'<tr><td>&nbsp;</td><td colspan=4 style-\"text-align:left\">'\u001b[0m\u001b[0;34m\u001b[0m\u001b[0;34m\u001b[0m\u001b[0m\n",
      "\u001b[0;32m/home/wwitzel/Prove-It/packages/proveit/_core_/proof.py\u001b[0m in \u001b[0;36m_mapping\u001b[0;34m(self, format_type)\u001b[0m\n\u001b[1;32m   1330\u001b[0m         out += ', '.join(self._single_mapping(key,\n\u001b[1;32m   1331\u001b[0m                                               \u001b[0mself\u001b[0m\u001b[0;34m.\u001b[0m\u001b[0mmapping\u001b[0m\u001b[0;34m[\u001b[0m\u001b[0mkey\u001b[0m\u001b[0;34m]\u001b[0m\u001b[0;34m,\u001b[0m\u001b[0;34m\u001b[0m\u001b[0;34m\u001b[0m\u001b[0m\n\u001b[0;32m-> 1332\u001b[0;31m                                               format_type) for key in self.mapping_key_order)\n\u001b[0m\u001b[1;32m   1333\u001b[0m         \u001b[0;32mif\u001b[0m \u001b[0mformat_type\u001b[0m \u001b[0;34m==\u001b[0m \u001b[0;34m'HTML'\u001b[0m\u001b[0;34m:\u001b[0m\u001b[0;34m\u001b[0m\u001b[0;34m\u001b[0m\u001b[0m\n\u001b[1;32m   1334\u001b[0m             \u001b[0mout\u001b[0m \u001b[0;34m+=\u001b[0m \u001b[0;34m'</span>'\u001b[0m\u001b[0;34m\u001b[0m\u001b[0;34m\u001b[0m\u001b[0m\n",
      "\u001b[0;32m/home/wwitzel/Prove-It/packages/proveit/_core_/proof.py\u001b[0m in \u001b[0;36m<genexpr>\u001b[0;34m(.0)\u001b[0m\n\u001b[1;32m   1330\u001b[0m         out += ', '.join(self._single_mapping(key,\n\u001b[1;32m   1331\u001b[0m                                               \u001b[0mself\u001b[0m\u001b[0;34m.\u001b[0m\u001b[0mmapping\u001b[0m\u001b[0;34m[\u001b[0m\u001b[0mkey\u001b[0m\u001b[0;34m]\u001b[0m\u001b[0;34m,\u001b[0m\u001b[0;34m\u001b[0m\u001b[0;34m\u001b[0m\u001b[0m\n\u001b[0;32m-> 1332\u001b[0;31m                                               format_type) for key in self.mapping_key_order)\n\u001b[0m\u001b[1;32m   1333\u001b[0m         \u001b[0;32mif\u001b[0m \u001b[0mformat_type\u001b[0m \u001b[0;34m==\u001b[0m \u001b[0;34m'HTML'\u001b[0m\u001b[0;34m:\u001b[0m\u001b[0;34m\u001b[0m\u001b[0;34m\u001b[0m\u001b[0m\n\u001b[1;32m   1334\u001b[0m             \u001b[0mout\u001b[0m \u001b[0;34m+=\u001b[0m \u001b[0;34m'</span>'\u001b[0m\u001b[0;34m\u001b[0m\u001b[0;34m\u001b[0m\u001b[0m\n",
      "\u001b[0;32m/home/wwitzel/Prove-It/packages/proveit/_core_/proof.py\u001b[0m in \u001b[0;36m_single_mapping\u001b[0;34m(self, key, replacement, format_type)\u001b[0m\n\u001b[1;32m   1321\u001b[0m         def formatted(expr): return expr._repr_html_(\n\u001b[1;32m   1322\u001b[0m         ) if format_type == 'HTML' else str(expr)\n\u001b[0;32m-> 1323\u001b[0;31m         \u001b[0;32mreturn\u001b[0m \u001b[0mformatted\u001b[0m\u001b[0;34m(\u001b[0m\u001b[0mkey\u001b[0m\u001b[0;34m)\u001b[0m \u001b[0;34m+\u001b[0m \u001b[0;34m' : '\u001b[0m \u001b[0;34m+\u001b[0m \u001b[0mformatted\u001b[0m\u001b[0;34m(\u001b[0m\u001b[0mreplacement\u001b[0m\u001b[0;34m)\u001b[0m\u001b[0;34m\u001b[0m\u001b[0;34m\u001b[0m\u001b[0m\n\u001b[0m\u001b[1;32m   1324\u001b[0m \u001b[0;34m\u001b[0m\u001b[0m\n\u001b[1;32m   1325\u001b[0m     \u001b[0;32mdef\u001b[0m \u001b[0m_mapping\u001b[0m\u001b[0;34m(\u001b[0m\u001b[0mself\u001b[0m\u001b[0;34m,\u001b[0m \u001b[0mformat_type\u001b[0m\u001b[0;34m=\u001b[0m\u001b[0;34m'HTML'\u001b[0m\u001b[0;34m)\u001b[0m\u001b[0;34m:\u001b[0m\u001b[0;34m\u001b[0m\u001b[0;34m\u001b[0m\u001b[0m\n",
      "\u001b[0;32m/home/wwitzel/Prove-It/packages/proveit/_core_/proof.py\u001b[0m in \u001b[0;36mformatted\u001b[0;34m(expr)\u001b[0m\n\u001b[1;32m   1320\u001b[0m     \u001b[0;32mdef\u001b[0m \u001b[0m_single_mapping\u001b[0m\u001b[0;34m(\u001b[0m\u001b[0mself\u001b[0m\u001b[0;34m,\u001b[0m \u001b[0mkey\u001b[0m\u001b[0;34m,\u001b[0m \u001b[0mreplacement\u001b[0m\u001b[0;34m,\u001b[0m \u001b[0mformat_type\u001b[0m\u001b[0;34m)\u001b[0m\u001b[0;34m:\u001b[0m\u001b[0;34m\u001b[0m\u001b[0;34m\u001b[0m\u001b[0m\n\u001b[1;32m   1321\u001b[0m         def formatted(expr): return expr._repr_html_(\n\u001b[0;32m-> 1322\u001b[0;31m         ) if format_type == 'HTML' else str(expr)\n\u001b[0m\u001b[1;32m   1323\u001b[0m         \u001b[0;32mreturn\u001b[0m \u001b[0mformatted\u001b[0m\u001b[0;34m(\u001b[0m\u001b[0mkey\u001b[0m\u001b[0;34m)\u001b[0m \u001b[0;34m+\u001b[0m \u001b[0;34m' : '\u001b[0m \u001b[0;34m+\u001b[0m \u001b[0mformatted\u001b[0m\u001b[0;34m(\u001b[0m\u001b[0mreplacement\u001b[0m\u001b[0;34m)\u001b[0m\u001b[0;34m\u001b[0m\u001b[0;34m\u001b[0m\u001b[0m\n\u001b[1;32m   1324\u001b[0m \u001b[0;34m\u001b[0m\u001b[0m\n",
      "\u001b[0;32m/home/wwitzel/Prove-It/packages/proveit/_core_/expression/expr.py\u001b[0m in \u001b[0;36m_repr_html_\u001b[0;34m(self, unofficial_name_kind_theory)\u001b[0m\n\u001b[1;32m   1524\u001b[0m         \u001b[0;32mif\u001b[0m \u001b[0;32mnot\u001b[0m \u001b[0mhasattr\u001b[0m\u001b[0;34m(\u001b[0m\u001b[0mself\u001b[0m\u001b[0;34m.\u001b[0m\u001b[0m_style_data\u001b[0m\u001b[0;34m,\u001b[0m \u001b[0;34m'png'\u001b[0m\u001b[0;34m)\u001b[0m\u001b[0;34m:\u001b[0m\u001b[0;34m\u001b[0m\u001b[0;34m\u001b[0m\u001b[0m\n\u001b[1;32m   1525\u001b[0m             self._style_data.png, png_url = Theory._stored_png(\n\u001b[0;32m-> 1526\u001b[0;31m                 self, self.latex(), self._config_latex_tool)\n\u001b[0m\u001b[1;32m   1527\u001b[0m             \u001b[0mself\u001b[0m\u001b[0;34m.\u001b[0m\u001b[0m_style_data\u001b[0m\u001b[0;34m.\u001b[0m\u001b[0mpng_url\u001b[0m \u001b[0;34m=\u001b[0m \u001b[0mpng_url\u001b[0m\u001b[0;34m\u001b[0m\u001b[0;34m\u001b[0m\u001b[0m\n\u001b[1;32m   1528\u001b[0m         \u001b[0;32mif\u001b[0m \u001b[0mself\u001b[0m\u001b[0;34m.\u001b[0m\u001b[0m_style_data\u001b[0m\u001b[0;34m.\u001b[0m\u001b[0mpng_url\u001b[0m \u001b[0;32mis\u001b[0m \u001b[0;32mnot\u001b[0m \u001b[0;32mNone\u001b[0m\u001b[0;34m:\u001b[0m\u001b[0;34m\u001b[0m\u001b[0;34m\u001b[0m\u001b[0m\n",
      "\u001b[0;32m/home/wwitzel/Prove-It/packages/proveit/_core_/theory.py\u001b[0m in \u001b[0;36m_stored_png\u001b[0;34m(expr, latex, config_latex_tool_fn)\u001b[0m\n\u001b[1;32m    572\u001b[0m         '''\n\u001b[1;32m    573\u001b[0m         return TheoryFolderStorage.retrieve_png(\n\u001b[0;32m--> 574\u001b[0;31m             expr, latex, config_latex_tool_fn)\n\u001b[0m\u001b[1;32m    575\u001b[0m \u001b[0;34m\u001b[0m\u001b[0m\n\u001b[1;32m    576\u001b[0m     \u001b[0;32mdef\u001b[0m \u001b[0m_theory_folder_storage\u001b[0m\u001b[0;34m(\u001b[0m\u001b[0mself\u001b[0m\u001b[0;34m,\u001b[0m \u001b[0mfolder\u001b[0m\u001b[0;34m=\u001b[0m\u001b[0;32mNone\u001b[0m\u001b[0;34m)\u001b[0m\u001b[0;34m:\u001b[0m\u001b[0;34m\u001b[0m\u001b[0;34m\u001b[0m\u001b[0m\n",
      "\u001b[0;32m/home/wwitzel/Prove-It/packages/proveit/_core_/_theory_storage.py\u001b[0m in \u001b[0;36mretrieve_png\u001b[0;34m(expr, latex, config_latex_tool_fn)\u001b[0m\n\u001b[1;32m   1003\u001b[0m                             \"expressions\")\n\u001b[1;32m   1004\u001b[0m         return theory_folder_storage._retrieve_png(\n\u001b[0;32m-> 1005\u001b[0;31m             expr, latex, config_latex_tool_fn)\n\u001b[0m\u001b[1;32m   1006\u001b[0m \u001b[0;34m\u001b[0m\u001b[0m\n\u001b[1;32m   1007\u001b[0m     \u001b[0;32mdef\u001b[0m \u001b[0m_retrieve_png\u001b[0m\u001b[0;34m(\u001b[0m\u001b[0mself\u001b[0m\u001b[0;34m,\u001b[0m \u001b[0mexpr\u001b[0m\u001b[0;34m,\u001b[0m \u001b[0mlatex\u001b[0m\u001b[0;34m,\u001b[0m \u001b[0mconfig_latex_tool_fn\u001b[0m\u001b[0;34m)\u001b[0m\u001b[0;34m:\u001b[0m\u001b[0;34m\u001b[0m\u001b[0;34m\u001b[0m\u001b[0m\n",
      "\u001b[0;32m/home/wwitzel/Prove-It/packages/proveit/_core_/_theory_storage.py\u001b[0m in \u001b[0;36m_retrieve_png\u001b[0;34m(self, expr, latex, config_latex_tool_fn)\u001b[0m\n\u001b[1;32m   1033\u001b[0m             \u001b[0mlatex_file\u001b[0m\u001b[0;34m.\u001b[0m\u001b[0mwrite\u001b[0m\u001b[0;34m(\u001b[0m\u001b[0mlatex\u001b[0m\u001b[0;34m.\u001b[0m\u001b[0mencode\u001b[0m\u001b[0;34m(\u001b[0m\u001b[0;34m'ascii'\u001b[0m\u001b[0;34m)\u001b[0m\u001b[0;34m)\u001b[0m\u001b[0;34m\u001b[0m\u001b[0;34m\u001b[0m\u001b[0m\n\u001b[1;32m   1034\u001b[0m         \u001b[0;31m# generate, store and return the png file\u001b[0m\u001b[0;34m\u001b[0m\u001b[0;34m\u001b[0m\u001b[0;34m\u001b[0m\u001b[0m\n\u001b[0;32m-> 1035\u001b[0;31m         \u001b[0mpng\u001b[0m \u001b[0;34m=\u001b[0m \u001b[0mself\u001b[0m\u001b[0;34m.\u001b[0m\u001b[0m_generate_png\u001b[0m\u001b[0;34m(\u001b[0m\u001b[0mlatex\u001b[0m\u001b[0;34m,\u001b[0m \u001b[0mconfig_latex_tool_fn\u001b[0m\u001b[0;34m)\u001b[0m\u001b[0;34m\u001b[0m\u001b[0;34m\u001b[0m\u001b[0m\n\u001b[0m\u001b[1;32m   1036\u001b[0m         \u001b[0;32mwith\u001b[0m \u001b[0mopen\u001b[0m\u001b[0;34m(\u001b[0m\u001b[0mpng_path\u001b[0m\u001b[0;34m,\u001b[0m \u001b[0;34m'wb'\u001b[0m\u001b[0;34m)\u001b[0m \u001b[0;32mas\u001b[0m \u001b[0mpng_file\u001b[0m\u001b[0;34m:\u001b[0m\u001b[0;34m\u001b[0m\u001b[0;34m\u001b[0m\u001b[0m\n\u001b[1;32m   1037\u001b[0m             \u001b[0mpng_file\u001b[0m\u001b[0;34m.\u001b[0m\u001b[0mwrite\u001b[0m\u001b[0;34m(\u001b[0m\u001b[0mpng\u001b[0m\u001b[0;34m)\u001b[0m\u001b[0;34m\u001b[0m\u001b[0;34m\u001b[0m\u001b[0m\n",
      "\u001b[0;32m/home/wwitzel/Prove-It/packages/proveit/_core_/_theory_storage.py\u001b[0m in \u001b[0;36m_generate_png\u001b[0;34m(self, latex, config_latex_tool_fn)\u001b[0m\n\u001b[1;32m   1050\u001b[0m         \u001b[0;31m# the 'matplotlib' backend can do some BAD rendering in my\u001b[0m\u001b[0;34m\u001b[0m\u001b[0;34m\u001b[0m\u001b[0;34m\u001b[0m\u001b[0m\n\u001b[1;32m   1051\u001b[0m         \u001b[0;31m# experience (like \\lnot rendering as lnot in some theories)\u001b[0m\u001b[0;34m\u001b[0m\u001b[0;34m\u001b[0m\u001b[0;34m\u001b[0m\u001b[0m\n\u001b[0;32m-> 1052\u001b[0;31m         \u001b[0mpng\u001b[0m \u001b[0;34m=\u001b[0m \u001b[0mlatex_to_png\u001b[0m\u001b[0;34m(\u001b[0m\u001b[0mlatex\u001b[0m\u001b[0;34m,\u001b[0m \u001b[0mbackend\u001b[0m\u001b[0;34m=\u001b[0m\u001b[0;34m'dvipng'\u001b[0m\u001b[0;34m,\u001b[0m \u001b[0mwrap\u001b[0m\u001b[0;34m=\u001b[0m\u001b[0;32mTrue\u001b[0m\u001b[0;34m)\u001b[0m\u001b[0;34m\u001b[0m\u001b[0;34m\u001b[0m\u001b[0m\n\u001b[0m\u001b[1;32m   1053\u001b[0m         \u001b[0;32mif\u001b[0m \u001b[0mpng\u001b[0m \u001b[0;32mis\u001b[0m \u001b[0;32mNone\u001b[0m\u001b[0;34m:\u001b[0m\u001b[0;34m\u001b[0m\u001b[0;34m\u001b[0m\u001b[0m\n\u001b[1;32m   1054\u001b[0m             raise Exception(\n",
      "\u001b[0;32m~/.local/lib/python3.7/site-packages/IPython/lib/latextools.py\u001b[0m in \u001b[0;36mlatex_to_png\u001b[0;34m(s, encode, backend, wrap)\u001b[0m\n\u001b[1;32m     85\u001b[0m     \u001b[0;32melse\u001b[0m\u001b[0;34m:\u001b[0m\u001b[0;34m\u001b[0m\u001b[0;34m\u001b[0m\u001b[0m\n\u001b[1;32m     86\u001b[0m         \u001b[0;32mraise\u001b[0m \u001b[0mValueError\u001b[0m\u001b[0;34m(\u001b[0m\u001b[0;34m'No such backend {0}'\u001b[0m\u001b[0;34m.\u001b[0m\u001b[0mformat\u001b[0m\u001b[0;34m(\u001b[0m\u001b[0mbackend\u001b[0m\u001b[0;34m)\u001b[0m\u001b[0;34m)\u001b[0m\u001b[0;34m\u001b[0m\u001b[0;34m\u001b[0m\u001b[0m\n\u001b[0;32m---> 87\u001b[0;31m     \u001b[0mbin_data\u001b[0m \u001b[0;34m=\u001b[0m \u001b[0mf\u001b[0m\u001b[0;34m(\u001b[0m\u001b[0ms\u001b[0m\u001b[0;34m,\u001b[0m \u001b[0mwrap\u001b[0m\u001b[0;34m)\u001b[0m\u001b[0;34m\u001b[0m\u001b[0;34m\u001b[0m\u001b[0m\n\u001b[0m\u001b[1;32m     88\u001b[0m     \u001b[0;32mif\u001b[0m \u001b[0mencode\u001b[0m \u001b[0;32mand\u001b[0m \u001b[0mbin_data\u001b[0m\u001b[0;34m:\u001b[0m\u001b[0;34m\u001b[0m\u001b[0;34m\u001b[0m\u001b[0m\n\u001b[1;32m     89\u001b[0m         \u001b[0mbin_data\u001b[0m \u001b[0;34m=\u001b[0m \u001b[0mencodebytes\u001b[0m\u001b[0;34m(\u001b[0m\u001b[0mbin_data\u001b[0m\u001b[0;34m)\u001b[0m\u001b[0;34m\u001b[0m\u001b[0;34m\u001b[0m\u001b[0m\n",
      "\u001b[0;32m~/.local/lib/python3.7/site-packages/IPython/lib/latextools.py\u001b[0m in \u001b[0;36mlatex_to_png_dvipng\u001b[0;34m(s, wrap)\u001b[0m\n\u001b[1;32m    135\u001b[0m                 [\"dvipng\", \"-T\", \"tight\", \"-x\", \"1500\", \"-z\", \"9\",\n\u001b[1;32m    136\u001b[0m                  \"-bg\", \"transparent\", \"-o\", outfile, dvifile], cwd=workdir,\n\u001b[0;32m--> 137\u001b[0;31m                 stdout=devnull, stderr=devnull)\n\u001b[0m\u001b[1;32m    138\u001b[0m \u001b[0;34m\u001b[0m\u001b[0m\n\u001b[1;32m    139\u001b[0m         \u001b[0;32mwith\u001b[0m \u001b[0mopen\u001b[0m\u001b[0;34m(\u001b[0m\u001b[0moutfile\u001b[0m\u001b[0;34m,\u001b[0m \u001b[0;34m\"rb\"\u001b[0m\u001b[0;34m)\u001b[0m \u001b[0;32mas\u001b[0m \u001b[0mf\u001b[0m\u001b[0;34m:\u001b[0m\u001b[0;34m\u001b[0m\u001b[0;34m\u001b[0m\u001b[0m\n",
      "\u001b[0;32m/projects/percept/linux_rhel6/anaconda3/lib/python3.7/subprocess.py\u001b[0m in \u001b[0;36mcheck_call\u001b[0;34m(*popenargs, **kwargs)\u001b[0m\n\u001b[1;32m    340\u001b[0m     \u001b[0mcheck_call\u001b[0m\u001b[0;34m(\u001b[0m\u001b[0;34m[\u001b[0m\u001b[0;34m\"ls\"\u001b[0m\u001b[0;34m,\u001b[0m \u001b[0;34m\"-l\"\u001b[0m\u001b[0;34m]\u001b[0m\u001b[0;34m)\u001b[0m\u001b[0;34m\u001b[0m\u001b[0;34m\u001b[0m\u001b[0m\n\u001b[1;32m    341\u001b[0m     \"\"\"\n\u001b[0;32m--> 342\u001b[0;31m     \u001b[0mretcode\u001b[0m \u001b[0;34m=\u001b[0m \u001b[0mcall\u001b[0m\u001b[0;34m(\u001b[0m\u001b[0;34m*\u001b[0m\u001b[0mpopenargs\u001b[0m\u001b[0;34m,\u001b[0m \u001b[0;34m**\u001b[0m\u001b[0mkwargs\u001b[0m\u001b[0;34m)\u001b[0m\u001b[0;34m\u001b[0m\u001b[0;34m\u001b[0m\u001b[0m\n\u001b[0m\u001b[1;32m    343\u001b[0m     \u001b[0;32mif\u001b[0m \u001b[0mretcode\u001b[0m\u001b[0;34m:\u001b[0m\u001b[0;34m\u001b[0m\u001b[0;34m\u001b[0m\u001b[0m\n\u001b[1;32m    344\u001b[0m         \u001b[0mcmd\u001b[0m \u001b[0;34m=\u001b[0m \u001b[0mkwargs\u001b[0m\u001b[0;34m.\u001b[0m\u001b[0mget\u001b[0m\u001b[0;34m(\u001b[0m\u001b[0;34m\"args\"\u001b[0m\u001b[0;34m)\u001b[0m\u001b[0;34m\u001b[0m\u001b[0;34m\u001b[0m\u001b[0m\n",
      "\u001b[0;32m/projects/percept/linux_rhel6/anaconda3/lib/python3.7/subprocess.py\u001b[0m in \u001b[0;36mcall\u001b[0;34m(timeout, *popenargs, **kwargs)\u001b[0m\n\u001b[1;32m    323\u001b[0m     \u001b[0;32mwith\u001b[0m \u001b[0mPopen\u001b[0m\u001b[0;34m(\u001b[0m\u001b[0;34m*\u001b[0m\u001b[0mpopenargs\u001b[0m\u001b[0;34m,\u001b[0m \u001b[0;34m**\u001b[0m\u001b[0mkwargs\u001b[0m\u001b[0;34m)\u001b[0m \u001b[0;32mas\u001b[0m \u001b[0mp\u001b[0m\u001b[0;34m:\u001b[0m\u001b[0;34m\u001b[0m\u001b[0;34m\u001b[0m\u001b[0m\n\u001b[1;32m    324\u001b[0m         \u001b[0;32mtry\u001b[0m\u001b[0;34m:\u001b[0m\u001b[0;34m\u001b[0m\u001b[0;34m\u001b[0m\u001b[0m\n\u001b[0;32m--> 325\u001b[0;31m             \u001b[0;32mreturn\u001b[0m \u001b[0mp\u001b[0m\u001b[0;34m.\u001b[0m\u001b[0mwait\u001b[0m\u001b[0;34m(\u001b[0m\u001b[0mtimeout\u001b[0m\u001b[0;34m=\u001b[0m\u001b[0mtimeout\u001b[0m\u001b[0;34m)\u001b[0m\u001b[0;34m\u001b[0m\u001b[0;34m\u001b[0m\u001b[0m\n\u001b[0m\u001b[1;32m    326\u001b[0m         \u001b[0;32mexcept\u001b[0m\u001b[0;34m:\u001b[0m  \u001b[0;31m# Including KeyboardInterrupt, wait handled that.\u001b[0m\u001b[0;34m\u001b[0m\u001b[0;34m\u001b[0m\u001b[0m\n\u001b[1;32m    327\u001b[0m             \u001b[0mp\u001b[0m\u001b[0;34m.\u001b[0m\u001b[0mkill\u001b[0m\u001b[0;34m(\u001b[0m\u001b[0;34m)\u001b[0m\u001b[0;34m\u001b[0m\u001b[0;34m\u001b[0m\u001b[0m\n",
      "\u001b[0;32m/projects/percept/linux_rhel6/anaconda3/lib/python3.7/subprocess.py\u001b[0m in \u001b[0;36mwait\u001b[0;34m(self, timeout)\u001b[0m\n\u001b[1;32m    988\u001b[0m             \u001b[0mendtime\u001b[0m \u001b[0;34m=\u001b[0m \u001b[0m_time\u001b[0m\u001b[0;34m(\u001b[0m\u001b[0;34m)\u001b[0m \u001b[0;34m+\u001b[0m \u001b[0mtimeout\u001b[0m\u001b[0;34m\u001b[0m\u001b[0;34m\u001b[0m\u001b[0m\n\u001b[1;32m    989\u001b[0m         \u001b[0;32mtry\u001b[0m\u001b[0;34m:\u001b[0m\u001b[0;34m\u001b[0m\u001b[0;34m\u001b[0m\u001b[0m\n\u001b[0;32m--> 990\u001b[0;31m             \u001b[0;32mreturn\u001b[0m \u001b[0mself\u001b[0m\u001b[0;34m.\u001b[0m\u001b[0m_wait\u001b[0m\u001b[0;34m(\u001b[0m\u001b[0mtimeout\u001b[0m\u001b[0;34m=\u001b[0m\u001b[0mtimeout\u001b[0m\u001b[0;34m)\u001b[0m\u001b[0;34m\u001b[0m\u001b[0;34m\u001b[0m\u001b[0m\n\u001b[0m\u001b[1;32m    991\u001b[0m         \u001b[0;32mexcept\u001b[0m \u001b[0mKeyboardInterrupt\u001b[0m\u001b[0;34m:\u001b[0m\u001b[0;34m\u001b[0m\u001b[0;34m\u001b[0m\u001b[0m\n\u001b[1;32m    992\u001b[0m             \u001b[0;31m# https://bugs.python.org/issue25942\u001b[0m\u001b[0;34m\u001b[0m\u001b[0;34m\u001b[0m\u001b[0;34m\u001b[0m\u001b[0m\n",
      "\u001b[0;32m/projects/percept/linux_rhel6/anaconda3/lib/python3.7/subprocess.py\u001b[0m in \u001b[0;36m_wait\u001b[0;34m(self, timeout)\u001b[0m\n\u001b[1;32m   1622\u001b[0m                         \u001b[0;32mif\u001b[0m \u001b[0mself\u001b[0m\u001b[0;34m.\u001b[0m\u001b[0mreturncode\u001b[0m \u001b[0;32mis\u001b[0m \u001b[0;32mnot\u001b[0m \u001b[0;32mNone\u001b[0m\u001b[0;34m:\u001b[0m\u001b[0;34m\u001b[0m\u001b[0;34m\u001b[0m\u001b[0m\n\u001b[1;32m   1623\u001b[0m                             \u001b[0;32mbreak\u001b[0m  \u001b[0;31m# Another thread waited.\u001b[0m\u001b[0;34m\u001b[0m\u001b[0;34m\u001b[0m\u001b[0m\n\u001b[0;32m-> 1624\u001b[0;31m                         \u001b[0;34m(\u001b[0m\u001b[0mpid\u001b[0m\u001b[0;34m,\u001b[0m \u001b[0msts\u001b[0m\u001b[0;34m)\u001b[0m \u001b[0;34m=\u001b[0m \u001b[0mself\u001b[0m\u001b[0;34m.\u001b[0m\u001b[0m_try_wait\u001b[0m\u001b[0;34m(\u001b[0m\u001b[0;36m0\u001b[0m\u001b[0;34m)\u001b[0m\u001b[0;34m\u001b[0m\u001b[0;34m\u001b[0m\u001b[0m\n\u001b[0m\u001b[1;32m   1625\u001b[0m                         \u001b[0;31m# Check the pid and loop as waitpid has been known to\u001b[0m\u001b[0;34m\u001b[0m\u001b[0;34m\u001b[0m\u001b[0;34m\u001b[0m\u001b[0m\n\u001b[1;32m   1626\u001b[0m                         \u001b[0;31m# return 0 even without WNOHANG in odd situations.\u001b[0m\u001b[0;34m\u001b[0m\u001b[0;34m\u001b[0m\u001b[0;34m\u001b[0m\u001b[0m\n",
      "\u001b[0;32m/projects/percept/linux_rhel6/anaconda3/lib/python3.7/subprocess.py\u001b[0m in \u001b[0;36m_try_wait\u001b[0;34m(self, wait_flags)\u001b[0m\n\u001b[1;32m   1580\u001b[0m             \u001b[0;34m\"\"\"All callers to this function MUST hold self._waitpid_lock.\"\"\"\u001b[0m\u001b[0;34m\u001b[0m\u001b[0;34m\u001b[0m\u001b[0m\n\u001b[1;32m   1581\u001b[0m             \u001b[0;32mtry\u001b[0m\u001b[0;34m:\u001b[0m\u001b[0;34m\u001b[0m\u001b[0;34m\u001b[0m\u001b[0m\n\u001b[0;32m-> 1582\u001b[0;31m                 \u001b[0;34m(\u001b[0m\u001b[0mpid\u001b[0m\u001b[0;34m,\u001b[0m \u001b[0msts\u001b[0m\u001b[0;34m)\u001b[0m \u001b[0;34m=\u001b[0m \u001b[0mos\u001b[0m\u001b[0;34m.\u001b[0m\u001b[0mwaitpid\u001b[0m\u001b[0;34m(\u001b[0m\u001b[0mself\u001b[0m\u001b[0;34m.\u001b[0m\u001b[0mpid\u001b[0m\u001b[0;34m,\u001b[0m \u001b[0mwait_flags\u001b[0m\u001b[0;34m)\u001b[0m\u001b[0;34m\u001b[0m\u001b[0;34m\u001b[0m\u001b[0m\n\u001b[0m\u001b[1;32m   1583\u001b[0m             \u001b[0;32mexcept\u001b[0m \u001b[0mChildProcessError\u001b[0m\u001b[0;34m:\u001b[0m\u001b[0;34m\u001b[0m\u001b[0;34m\u001b[0m\u001b[0m\n\u001b[1;32m   1584\u001b[0m                 \u001b[0;31m# This happens if SIGCLD is set to be ignored or waiting\u001b[0m\u001b[0;34m\u001b[0m\u001b[0;34m\u001b[0m\u001b[0;34m\u001b[0m\u001b[0m\n",
      "\u001b[0;31mKeyboardInterrupt\u001b[0m: "
     ]
    }
   ],
   "source": [
    "%qed"
   ]
  },
  {
   "cell_type": "code",
   "execution_count": null,
   "metadata": {},
   "outputs": [],
   "source": []
  }
 ],
 "metadata": {
  "kernelspec": {
   "display_name": "Python 3",
   "language": "python",
   "name": "python3"
  },
  "language_info": {
   "codemirror_mode": {
    "name": "ipython",
    "version": 3
   },
   "file_extension": ".py",
   "mimetype": "text/x-python",
   "name": "python",
   "nbconvert_exporter": "python",
   "pygments_lexer": "ipython3",
   "version": "3.7.3"
  }
 },
 "nbformat": 4,
 "nbformat_minor": 1
}
