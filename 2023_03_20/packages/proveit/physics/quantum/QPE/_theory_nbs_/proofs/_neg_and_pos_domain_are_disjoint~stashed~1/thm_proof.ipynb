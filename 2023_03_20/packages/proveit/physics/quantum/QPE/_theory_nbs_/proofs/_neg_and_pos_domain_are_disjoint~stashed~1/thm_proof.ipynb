{
 "cells": [
  {
   "cell_type": "markdown",
   "metadata": {},
   "source": [
    "Proof of <a class=\"ProveItLink\" href=\"../../../../../../_theory_nbs_/theory.ipynb\">proveit</a>.<a class=\"ProveItLink\" href=\"../../../../../_theory_nbs_/theory.ipynb\">physics</a>.<a class=\"ProveItLink\" href=\"../../../../_theory_nbs_/theory.ipynb\">quantum</a>.<a class=\"ProveItLink\" href=\"../../theory.ipynb\">QPE</a>.<a class=\"ProveItLink\" href=\"../../theorems.ipynb#_neg_and_pos_domain_are_disjoint\">_neg_and_pos_domain_are_disjoint</a> theorem\n",
    "========"
   ]
  },
  {
   "cell_type": "code",
   "execution_count": 1,
   "metadata": {},
   "outputs": [],
   "source": [
    "import proveit\n",
    "theory = proveit.Theory() # the theorem's theory"
   ]
  },
  {
   "cell_type": "code",
   "execution_count": 2,
   "metadata": {},
   "outputs": [
    {
     "data": {
      "text/html": [
       "Under these <a href=\"presumptions.txt\">presumptions</a>, we begin our proof of<br><strong id=\"_neg_and_pos_domain_are_disjoint\">_neg_and_pos_domain_are_disjoint:</strong> <a class=\"ProveItLink\" href=\"../../../__pv_it/theorems/a194ff82762b45cea5dee2d68c7e6d097ecdb69a0/expr.ipynb\"><img src=\"data:image/png;base64,iVBORw0KGgoAAAANSUhEUgAAAl4AAAAaBAMAAACUWU/mAAAAMFBMVEX///+IiIgiIiIQEBB2dnbu\n",
       "7u5ERETMzMzc3NwyMjK6urpmZmaYmJiqqqpUVFQAAAB6qHgnAAAAAXRSTlMAQObYZgAAAAlwSFlz\n",
       "AAAOxAAADsQBlSsOGwAABj5JREFUWMPVmX2IVFUUwM/Mzpv35vutGkaZLWOiJSxLFoV9OCtWWOoO\n",
       "tBRmtEK4ivQxaiQi7Y60LcVSOwVZROmg/Rm0SWG6W+z+UaRFTCsGUuBArGH5mR+rqzWdc++7b+a9\n",
       "uW8+nPHrwjzeve++c879vXPPPfcOwDUvvqS4ezYF108xzVL2Xjsj9knaOsSN2th0HfEyzVo7SdwN\n",
       "XG0bQqTxmbS18WD+8eXw0kq1v53MN9j1lil5s0aFoN6rzWsZ/lwfxS1tPXc+VhOv2xza/Tq57GFT\n",
       "mV1vmVJg1qgQFESRWWr5vR4wJs0D7UF+u4CbJqpmeQF/hwrM7tu9CuCTEv6lzizrsjFZ6zpUMo1u\n",
       "vFnRdEiOa52k2WbWqCkIrdlDlQ/rwUubAP9FfnuCTwNRBeCD0lqIZcEbK6AtDWedeT23+2wlLmsv\n",
       "yt/bkIKPSHhMkQvAsad9IDazGC8maDpAF+9QjzIBYChXjBZhi8YjZSBmtTuchIYWP0J8tRNLMs/L\n",
       "PywmUVleQ5Y5KN67nWbPQAlen0FBT1sRZqlk1epCXh1x9hU8mXrxciguziuSttrdcBbC513Zp4v8\n",
       "K6RXzKvFMjn1Qgr3luD1SwledrPyvHzDEMRP4oMrzKub8+qO2/yrCcLjAf2RGniFUs68Pr5MXnaz\n",
       "8rwCOBHvjkbvqQMsT+vUCXjrYVCnNaY8MzKwvHEPVTc+sHm6HjrRfIytCMV2u0+qQwkxaxed0avl\n",
       "xaZ4e+NXMl5Li3gprbfGy/OymdWzrVUIcqE37wJYWTsu5SHwoH9thacAmqAjo84Gr45VaM6o58HN\n",
       "/esIXXZbPU+Xek3FvHCGgH8WvCLjtdcYIS+kd3tCjVXEq9gsJsiP5rwDWrbwQXCxfPUTyW2vRYH6\n",
       "BK96U7Q+wkuwIw46RDLuGKjjWIXnAS4JXp3FOUYz1MbLjaG3fxhukfHaT+r+FfajXu0SuNIV8So2\n",
       "iwnCIYE37rEkvuvRWRYet0hpXzrGcjUGaNR8xLp5OOwOHRTGy33uZgzsmW4cxxnihYxOCV7obtoR\n",
       "VKa8F6WS4AGhaIpFozMwSGSdeeXfhwYU93LjlLTtPUahm6UkPI9ier2nGh+nys5odG402uzMS2YW\n",
       "CSKXCOlmuF97eA3bBwQgYMmEBmAnTPpGfFFTAetmBNxuwUtZkBtAXofQvHN2XnPwt8ky+X+GGv2L\n",
       "eP3nEO930N0iwxlIbyRbUbyXm0WCaIiQGhHj32XsmyJpbdy68PUn3FDEi3UzeJn+9QYExw3/uljA\n",
       "y2P4F3WxJOdv1j4fTznwonUtZApAvRG9Ml4ys5gghmXJ+zTlRob5BoJ4BeNWXt8hL8yj+wYHB9MF\n",
       "vFg3g5dvhRG/0JCjyKthAPwTJi9fAa/C9RHD9E218cJFBe7AF2S8vqdlrUVkz6gXgypkKuAlM4sE\n",
       "AS5dAK+jlyqzIKvwSbsXLMuwWIx/Cxb5F+vm5z21eRC+RHT2x2E18lLvA1+MYG0hXp4U43XYxkub\n",
       "MzjYVJKX5zwPWBfEpWgYWbJY+dr2XhttyL40BtKRMvQGU7A8aePVxhuoj1AgNYsRofURwhg3w9me\n",
       "Yb6ZUD+Q7EJx29v3g3E7eYl1s/ou77q8deo/2a65Y59S8I1koG/hX4DVrtN//no6C8dZ8jfZxsud\n",
       "y+VSpXiF/7hw1Ix8/GLfkOMwXItHbO8dn78VB3OXMUz3TKF3yk+6bT7ynsAj7JwSZjFeQZGdNAwd\n",
       "gOCWzs4XoWuMCNsysl6b0xr7PdbtoCSDisg3WJ/Hnfa9Tv5VvsxyfE9rEsM8UCK/rzgfZ/m9WDAi\n",
       "6JVGKjedDjSs8U4b0JIyGdRNa5HsFvsTjotZRbzMfXP58qPje4FhMcxYif12Vbx8Qr43g0JXiniv\n",
       "rdpAGwwlBu3cvTZskq26rFuoeEJ5Ww6W2LxMru8RpDfp9ISdhgYoLulQu14SROcTRgb4xUgcehMG\n",
       "r4Zc7iTFhvthPbNmfi4ndRfqJuGltY7Jdarki/2ZuvJSHM+iVtPlSfQIF6vWqJcE2fIy5dHONYXn\n",
       "1pUdyVfznw7turVv6wtss9MZEn3qnmP5r1iTXi5otuTJ9ivIaxnc0CUoW4Z8elUyNlbz1eSH7TdM\n",
       "kf8/9FpVh/aJqjTuu6F54SL4P3AuxbWgtaGIAAAAAElFTkSuQmCC\n",
       "\" style=\"display:inline;vertical-align:middle;\" /></a><br>(see <a class=\"ProveItLink\" href=\"../../../__pv_it/theorems/18e5820f717890c54f67c30d1f58fd27210673490/dependencies.ipynb\">dependencies</a>)<br>"
      ],
      "text/plain": [
       "_neg_and_pos_domain_are_disjoint: forall_{e in {2 .. 2^{t - 1} - 2}} disjoint({-2^{t - 1} + 1 .. -(e + 1)}, {e + 1 .. 2^{t - 1}})"
      ]
     },
     "execution_count": 2,
     "metadata": {},
     "output_type": "execute_result"
    }
   ],
   "source": [
    "%proving _neg_and_pos_domain_are_disjoint"
   ]
  },
  {
   "cell_type": "code",
   "execution_count": null,
   "metadata": {},
   "outputs": [],
   "source": []
  }
 ],
 "metadata": {
  "kernelspec": {
   "display_name": "Python 3",
   "language": "python",
   "name": "python3"
  },
  "language_info": {
   "codemirror_mode": {
    "name": "ipython",
    "version": 3
   },
   "file_extension": ".py",
   "mimetype": "text/x-python",
   "name": "python",
   "nbconvert_exporter": "python",
   "pygments_lexer": "ipython3",
   "version": "3.7.3"
  }
 },
 "nbformat": 4,
 "nbformat_minor": 1
}
