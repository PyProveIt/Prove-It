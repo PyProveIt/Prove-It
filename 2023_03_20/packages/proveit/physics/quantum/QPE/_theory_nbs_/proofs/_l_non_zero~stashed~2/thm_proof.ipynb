{
 "cells": [
  {
   "cell_type": "markdown",
   "metadata": {},
   "source": [
    "Proof of <a class=\"ProveItLink\" href=\"../../../../../../_theory_nbs_/theory.ipynb\">proveit</a>.<a class=\"ProveItLink\" href=\"../../../../../_theory_nbs_/theory.ipynb\">physics</a>.<a class=\"ProveItLink\" href=\"../../../../_theory_nbs_/theory.ipynb\">quantum</a>.<a class=\"ProveItLink\" href=\"../../theory.ipynb\">QPE</a>.<a class=\"ProveItLink\" href=\"../../theorems.ipynb#_l_non_zero\">_l_non_zero</a> theorem\n",
    "========"
   ]
  },
  {
   "cell_type": "code",
   "execution_count": 1,
   "metadata": {},
   "outputs": [],
   "source": [
    "import proveit\n",
    "theory = proveit.Theory() # the theorem's theory"
   ]
  },
  {
   "cell_type": "code",
   "execution_count": 2,
   "metadata": {},
   "outputs": [
    {
     "data": {
      "text/html": [
       "Under these <a href=\"presumptions.txt\">presumptions</a>, we begin our proof of<br><strong id=\"_l_non_zero\">_l_non_zero:</strong> <a class=\"ProveItLink\" href=\"../../../__pv_it/theorems/1413faf30c022a4f2fa3bad350ee29d73ef118180/expr.ipynb\"><img src=\"data:image/png;base64,iVBORw0KGgoAAAANSUhEUgAAAS8AAAAcCAMAAAAHmcldAAAAOVBMVEX///82NjYbGxsSEhKIiIgi\n",
       "IiIQEBB2dnbu7u5ERETMzMzc3NwyMjK6urpmZmaYmJiqqqpUVFQAAAAnLjGdAAAAAXRSTlMAQObY\n",
       "ZgAAAAlwSFlzAAAOxAAADsQBlSsOGwAAA45JREFUaN7tWQmS4yAM9O5y3/D/xy6njQlgJuM9yjNU\n",
       "4nISWSUaqWmRbfsew0G+IfjIwDJeMcBfatpavvcct/FpsG2S+hv1ReAy707U8nBFzF+cv+X0a3CQ\n",
       "ePNBGauQu0BiyORMe/6geiUHBXJIUAgp8uaKhvHLv/XGIl4wOoHh1h4P6QfCxVGibujYxApQG34W\n",
       "8ZW/SmgkvFBMLRCwUjsbCv5AvFTe27SbWqkMETaljDNbpXp08WsS7llJsGfymcvpoMQltXuIEkqh\n",
       "Hn/+oLEeD74PGRVyTmRVtkP7pJHKKXAPaAoQ+iFOwlSxzZai3bNoA0FP5E8qwKkzbYknpheApaxq\n",
       "+pICvEp3DxHbpQc9fvd6VeVPIJIhClBD9EgRa0WHvrjoNToeoh0l05cOMmarYg2iy3tPqwQ5/UTH\n",
       "da+3AkImZVuTc3djM7gSWGJU3azofm4HzQQeq4xWwDEDPzHDoTeGFbmOrW8l8rRQ7byLRq0lzKCD\n",
       "4mn3COuYektim22XoY5ixthaErhBtVtEFy+iZ9S44g13FzPHtvfDPSuocmLw+jmYR5V0wBQIZrEm\n",
       "vEK1iiJ0o0dgKZXH50ashHfgUfgaHjmbJWcAzqTPgjcj+qL81A93rXJ+gXrZSUc4+e+ynrITFVp2\n",
       "DbEXQ5R3SrFtEmkAOTyZOjOu0pAtXkdUBl4IpCtvM7wOfTTBi9o6bzrheCGRgCJuqk54ll5lx4By\n",
       "7wSGkWqSZugbfz3Jr0W8VrxN8Kr64Z5V5nnnlXtVey+7nxcSMtWDncUqs5rjyJYCbdJ1RD0YhlzQ\n",
       "59xlAFWidxGvFW+y6yDGVvXDPatciE6SE+GbVy0RM4ZTM+tyNDrScV8yWW86ot+lsoWNcB2va29d\n",
       "fRljq/vhjlXOCK1O6pJYKmtTiahAvv1BDtGZDFW2051qEY8zqAmS1+YtnZbBV5RRPBBBuQG7xGtB\n",
       "ZxkB2ihybHU/nKzOA8nB4Rat+6HFIV4Yw8POaoSBHShLzu/KrwVvHHV7HXvm+66VurFtIa5dWLeB\n",
       "s9LvcSinjDFF3sSL4HJZ9zbbH49+uGvF0H146ZfkUUDGGUwjRS6MZf7iWDgMqgnwfFn3NsPr6If7\n",
       "Vva+YxfIR5I7cIQcx7DWut23sFO8LqzIbecuK+f3Er7tXv1pvNrYBmtrbmKwtfNU8R/8KcKEWYht\n",
       "ZPX2/4/t+q+dJbB/fuzK2UpsnP2VYH4DLc8nWXkCjKcAAAAASUVORK5CYII=\n",
       "\" style=\"display:inline;vertical-align:middle;\" /></a><br>(see <a class=\"ProveItLink\" href=\"../../../__pv_it/theorems/893604b814119f721a20d833629950f916799f4d0/dependencies.ipynb\">dependencies</a>)<br>"
      ],
      "text/plain": [
       "_l_non_zero: forall_{l in {-2^{t - 1} + 1 .. 2^{t - 1}} - {0}} (l in IntegerNonZero)"
      ]
     },
     "execution_count": 2,
     "metadata": {},
     "output_type": "execute_result"
    }
   ],
   "source": [
    "%proving _l_non_zero"
   ]
  },
  {
   "cell_type": "code",
   "execution_count": null,
   "metadata": {},
   "outputs": [],
   "source": []
  }
 ],
 "metadata": {
  "kernelspec": {
   "display_name": "Python 3",
   "language": "python",
   "name": "python3"
  },
  "language_info": {
   "codemirror_mode": {
    "name": "ipython",
    "version": 3
   },
   "file_extension": ".py",
   "mimetype": "text/x-python",
   "name": "python",
   "nbconvert_exporter": "python",
   "pygments_lexer": "ipython3",
   "version": "3.7.3"
  }
 },
 "nbformat": 4,
 "nbformat_minor": 1
}
