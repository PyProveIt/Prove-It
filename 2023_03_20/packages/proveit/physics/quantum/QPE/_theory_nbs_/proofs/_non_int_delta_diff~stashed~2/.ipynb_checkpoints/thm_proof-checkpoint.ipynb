{
 "cells": [
  {
   "cell_type": "markdown",
   "metadata": {},
   "source": [
    "Proof of <a class=\"ProveItLink\" href=\"../../../../../../_theory_nbs_/theory.ipynb\">proveit</a>.<a class=\"ProveItLink\" href=\"../../../../../_theory_nbs_/theory.ipynb\">physics</a>.<a class=\"ProveItLink\" href=\"../../../../_theory_nbs_/theory.ipynb\">quantum</a>.<a class=\"ProveItLink\" href=\"../../theory.ipynb\">QPE</a>.<a class=\"ProveItLink\" href=\"../../theorems.ipynb#_non_int_delta_diff\">_non_int_delta_diff</a> theorem\n",
    "========"
   ]
  },
  {
   "cell_type": "code",
   "execution_count": 1,
   "metadata": {},
   "outputs": [],
   "source": [
    "import proveit\n",
    "theory = proveit.Theory() # the theorem's theory\n",
    "from proveit import a, defaults, l, n, x\n",
    "from proveit.logic import Equals, Implies, InSet, NotEquals\n",
    "from proveit.numbers import zero, one, two, Add, IntervalOO, Less, Neg\n",
    "from proveit.numbers.number_sets.real_numbers import not_int_if_between_successive_int\n",
    "from proveit.numbers.ordering import not_equals_is_less_than_or_greater_than\n",
    "from proveit.physics.quantum.QPE import (\n",
    "        _delta_not_eq_scaledNonzeroInt, _delta_diff_in_interval,\n",
    "        _two_pow_t_minus_one_is_nat_pos)"
   ]
  },
  {
   "cell_type": "code",
   "execution_count": 2,
   "metadata": {},
   "outputs": [
    {
     "data": {
      "text/html": [
       "Under these <a href=\"presumptions.txt\">presumptions</a>, we begin our proof of<br><strong id=\"_non_int_delta_diff\">_non_int_delta_diff:</strong> <a class=\"ProveItLink\" href=\"../../../__pv_it/theorems/cf9134486bebb3088c5f505e9b645d1b7ab23f630/expr.ipynb\"><img src=\"data:image/png;base64,iVBORw0KGgoAAAANSUhEUgAAAX0AAAAyCAMAAACH3vtuAAAATlBMVEX///8/Pz9vb28YGBgJCQkd\n",
       "HR0NDQ0WFhY2NjYbGxsSEhKIiIgiIiIQEBB2dnbu7u5ERETMzMzc3NwyMjK6urpmZmaYmJiqqqpU\n",
       "VFQAAACt2ZLfAAAAAXRSTlMAQObYZgAAAAlwSFlzAAAOxAAADsQBlSsOGwAABbdJREFUeNrtXIea\n",
       "4yYQVpJLOzqI9v4vGgEqFAkjtHFiaefb831j72A85Z8C3mF4GFFWY08RoeSNYncgo2rsSWKQvFHs\n",
       "BsrHNbaBMLRRtGjYtYtOsU8nJWps2xI2MYbp2ken2GcTR7zCtpFMLQb7oAuq52kfghrbtYZGXRje\n",
       "KfbRuINqbGP42KxIErJrL51iH0wI19ge2J9otLxnL51in0vAkgrbWjTRwov7Mqh4WOKFpsa2xk+R\n",
       "K7TtQ377KORnKWIzy7oWKQCD2J7k3Sv2sY0WqrGt6LUjRft6J/qolguZGtuqMjOQMhF3JVD1pLzL\n",
       "rKqwrTRJ4RJDupbqFPvUiodX2GbtjwS8iqqtNzgVjLcmiioslwLRFnMoidsRXKwgpQWySFAIKVKJ\n",
       "2GYAfetIQLTCTiodTXcFiO0+1m2qBdS4Ckv4n1hMjqup7pwFiJUV1lyqvZUd957eNDtI/25gSho6\n",
       "FVstxOm9ky6osMB84dprOxdZ1zk2oe4nE1vQKTbL/UhbXWGJ1V8XVx5pIPzzjw1lvIolGwzLxdQM\n",
       "9+LOyp/CnFXYgV7q+20aOqMA02qGFWmAyVIMQUddE7+bFJzaaHsFd1Nh7tGE5N5MyZAdp3sxyeYX\n",
       "70w4de6EdQeM5orzo0TToXpRWS7QuHjKi3GzPOyGLD4uRHmOd/yKDQ9XY1gmyx4eTFTeXKbajVnu\n",
       "4kDbC1dLYFLwi6zYX58Vu2LuQ2JfHhGTl65sZ6xEMDa+RsuNyfTeXQlSP7xuWS09hY7iPNlw+AwY\n",
       "gx0QzT5YzPqR/TbyJAJutJrEFhSrESUac4K//5haqxjq9KLiXEyD1S46/M+AoXSMnhhy35OT3QCU\n",
       "eakQaX/xUAZAdZrXslq6i/hTRa+E8HU2HOkZ7ft5C7MXYC3RfqgqswpyenKu6A3PxcTqd6GRlpIN\n",
       "u597GXbM55ulViPtbxqoX19pWe1Y+1HnHz4XclsvhzjHyEO816srJV+KPDAr9v3e2Lw9YgsxrBeU\n",
       "gmPoyYaa9hUJ+gppnctAY6f2W1Y71j5cG8oRBxB3MkiXWZcfsV774krBn2Zd4KIvzU1TqTk/Y2Ah\n",
       "xpdxm7dM0pAd+QSeVtFyUNd9v2W1ER7hvtuwpI5+Tv/UhCBOprwuA9KsGrMYuJrzjLbzmUw2rZws\n",
       "mRX7U2b1/s2ppqXY8svex8Zo60zslwL+KiKXKt0GA2jDuxPaf72a7192tL8FxRywQfvl6Wut28IA\n",
       "nGp2SJ4jsl6XGPpbgnMjogJNzoEsovhQLKCoEt6XqHb92Tx/YnQh3lBZemd0b0dVi/Yb6lQtwK72\n",
       "V9hfAjYgTzk40OkkTO8PxuoFsRThxnOOxsTmxvv1FzrVPeKVETMxOBJXXr+aP7nKnL+aiDb7fsNq\n",
       "HB0gj9+wM/bff83GPsi6l4+2fMmCJ6NxDAVm9SmbaGl7CjE7gKzt3cu6nDLGJOnTPsHLw4nVDrNu\n",
       "2HA8S/c5b8dlsjC3Z++SzRUV2snQOg+1tnFxISbBGPRR1T7Ku42q9jkWFoOoGeHzw4nVDrUfNpw4\n",
       "zNRt7dkywwF4tsJEHtKMi6p8KFGcUraNi48ONwl2YXzYbbXRVx4XHFec8+uv78ZcvVASSkUzZesR\n",
       "1Tu5+LywuuLrBm/svnUi36j9BhdRqceqvqkatD4VkgT3UZ+jtYiJ/8GVK5YibbFr3VDAsBRlWdd5\n",
       "ik+UEgw4Nh3vu5XWJsb+8zMvnvUcfefPX3Gbyt/9ZFJlvcP3barXSIhqbNsS9DgjnCbzqJuEY9pg\n",
       "jef7LbUfLp3XYZ91i3aAssY2pH7XpJRtYWf+Vs+6QX616gkjAEB2c0FnCnkSXfrmEId+8g1LQPv+\n",
       "5tC/7/wwnCcWnQXt82H6vG/sClxjO3M5eaPYRxNLvx7N0PXoh/qdYp9NgNbYDvr+SwGnWpyrfyUj\n",
       "AxDxTrEbQL+usWeRTJA3it2BvvKvI/VpMRL7B5jFZljCUJnGAAAAAElFTkSuQmCC\n",
       "\" style=\"display:inline;vertical-align:middle;\" /></a><br>(see <a class=\"ProveItLink\" href=\"../../../__pv_it/theorems/ff1a7eeb32d28a4073e39e4028ad50d7e8cb124d0/dependencies.ipynb\">dependencies</a>)<br>"
      ],
      "text/plain": [
       "_non_int_delta_diff: forall_{l in {-2^{t - 1} + 1 .. 2^{t - 1}} | l != 0} ((delta - (l / 2^{t})) not-in Integer)"
      ]
     },
     "execution_count": 2,
     "metadata": {},
     "output_type": "execute_result"
    }
   ],
   "source": [
    "%proving _non_int_delta_diff"
   ]
  },
  {
   "cell_type": "code",
   "execution_count": 3,
   "metadata": {},
   "outputs": [
    {
     "data": {
      "text/html": [
       "<strong id=\"defaults.assumptions\">defaults.assumptions:</strong> <a class=\"ProveItLink\" href=\"../../../__pv_it/theorems/e291f82fba5781cb778dc66b129aea3d3d4197760/expr.ipynb\"><img src=\"data:image/png;base64,iVBORw0KGgoAAAANSUhEUgAAARoAAAAaCAMAAABfGmM8AAAAPFBMVEX///8NDQ0WFhYLCwsYGBhU\n",
       "VFQiIiKIiIjMzMx2dnYQEBDc3NxEREQyMjLu7u5mZmaqqqq6urqYmJgAAACZCzMOAAAAAXRSTlMA\n",
       "QObYZgAAAAlwSFlzAAAOxAAADsQBlSsOGwAAAyZJREFUWMPlWdmWpCAMdaaHfRP4/38dZbFBEFOW\n",
       "5Tk9k4duyxJuuN6EkJqmO02J5pZ2avqItVifgHL2nnm0b25RQvBHmGmx7oMy29VsbnJ37r21+TPU\n",
       "9LDughIy8w+WobYjeQmGFaPPUNPHylBiFm+GEYn/pQMOIMrqcfjPz6mmh7VBUSQ1MHb6z+FwW/Dw\n",
       "gWFPTyTs+9MIY5QMY7sPQKihGLiSMVYBJdHuu/76qKyeYcREvZEw3LAkIn/iFsPHgcn8EmqWJ7hs\n",
       "AkSNRkZ5DU8CBdYxVOtsd32S7oSosYhJfnXIp/xh1DVqUJiL80C1huQa20QwAVJzgjWkprc+WmrL\n",
       "hSEs6kgtPtLsFSa1txIvps6p4WEC5MVkyMQ0gJqZXKXmBGtIDSYd0ZTpOsZgShtmYSjXAqIKRauI\n",
       "hqom3EbLcGocbbcS5Rm5i5ohVgXVOCs6qcZWCcmHGob6kN/JokykOqEolAYHVHonfgLbdWrgWI2z\n",
       "vVRTFdQ6UxPC3S4eyZSjkRwX/ONkRD15jBoQFuF7wRXrMzjYn6/1L9pkxYrZ6SIylb7iJV6PBMEH\n",
       "9Q9G02PUgLCE39U9nJycwjZqWPxkJ2zSqyieoxwn26gWSNlcPONvS/FrJLDACoN4nB5dowaIpVFV\n",
       "FFbrS5nG7A5lLEYSiZ9sVk0lQN1Bp+a4wHSvaOZN1UCxmLLDAGuzRsw1c5Sb+A6oZecqvOsmXHnk\n",
       "1LzSLcQj1ECx9qV7tb4g3t+/cC3emHVdHLiqLKWnJS+zwlUCL/kmGgYS/QQ1YCyWVJKfrNcXRLOf\n",
       "xPFis1l3qKQ0bzU5ObwdHRSwWQ2/E1DM19uoaq5exUrObhPs1tftxOD1oMDpxpONL8wZVicx2Zyy\n",
       "D6jBPpi6Tg1C3CtU7H/YtFcvYmVncTq47tbXEc2yaMMIyhvLGme834OxTMIOChe6UGT6uG3Ozvo4\n",
       "Z416Hq44eb9eYF416x6k5mB1apyu4smbcmgni08/x3LprvsKdQxUIqAZ2Eby849hRufS/SB2z1pn\n",
       "sWsD7w0Lg34GOYKdOXrS0My94dOU9N+Z+D4N3PU71L9isZf+F8ZyJttyoUwDAAAAAElFTkSuQmCC\n",
       "\" style=\"display:inline;vertical-align:middle;\" /></a><br>"
      ],
      "text/plain": [
       "defaults.assumptions: (l in {-2^{t - 1} + 1 .. 2^{t - 1}}, l != 0)"
      ]
     },
     "execution_count": 3,
     "metadata": {},
     "output_type": "execute_result"
    }
   ],
   "source": [
    "defaults.assumptions = _non_int_delta_diff.all_conditions()"
   ]
  },
  {
   "cell_type": "code",
   "execution_count": 4,
   "metadata": {},
   "outputs": [
    {
     "data": {
      "text/html": [
       "<strong id=\"delta_diff\">delta_diff:</strong> <a class=\"ProveItLink\" href=\"../../../__pv_it/theorems/06bbe35799c2b2823a5ebb9fb381c3e03c118f630/expr.ipynb\"><img src=\"data:image/png;base64,iVBORw0KGgoAAAANSUhEUgAAADgAAAArBAMAAADf6lYYAAAAMFBMVEX///8iIiLMzMyYmJiqqqqI\n",
       "iIju7u5UVFS6urp2dnZEREQQEBAyMjJmZmbc3NwAAADj68T8AAAAAXRSTlMAQObYZgAAAAlwSFlz\n",
       "AAAOxAAADsQBlSsOGwAAAQRJREFUOMtjYMAKOOUVGHADezxyDHfwSYrikeP7hEeS+QMeSfYFeCS5\n",
       "A/BI6j/AIxmNzyfL2fBIfubEI/kjFcp4e3odhqTtBChjAkcZbiPK8LksHJ9kvgMeSa5vuOVYSn7h\n",
       "lrRhqE/AGa3/GPwV8MScPlCS7aAgCKAp4zdg0EdT/x8GGPIVgLbiAvwKDEdwSnIGsBTg9srUSOzi\n",
       "PPhSSj4O8bd3FjEw+OAIlwUM8xteykzCHi4PGLg34PID9zcG9n8MOOKKXYCB/RPHBpxOZfzAWpCE\n",
       "MzsE8AZMwyUpzsB0GVdE8uLLgeZ45FgmMLzDKanJwBCGM1nJ3r0rgNOTwBRyAMQAABXPPjH6agOv\n",
       "AAAAAElFTkSuQmCC\n",
       "\" style=\"display:inline;vertical-align:middle;\" /></a><br>"
      ],
      "text/plain": [
       "delta_diff: delta - (l / 2^{t})"
      ]
     },
     "execution_count": 4,
     "metadata": {},
     "output_type": "execute_result"
    }
   ],
   "source": [
    "# define the element\n",
    "delta_diff = _non_int_delta_diff.instance_expr.element"
   ]
  },
  {
   "cell_type": "code",
   "execution_count": 5,
   "metadata": {},
   "outputs": [
    {
     "data": {
      "text/html": [
       "<span style=\"font-size:20px;\"> <a class=\"ProveItLink\" href=\"../_two_pow_t_minus_one_is_nat_pos/thm_proof.ipynb\" style=\"text-decoration: none\">&nbsp;&#x22A2;&nbsp;&nbsp;</a><a class=\"ProveItLink\" href=\"../../../__pv_it/theorems/fdc5aaccce23f853b415834a94fd23eb3d98ce2b0/expr.ipynb\"><img src=\"data:image/png;base64,iVBORw0KGgoAAAANSUhEUgAAAFoAAAAUBAMAAAD/1DctAAAAMFBMVEX///+qqqqYmJiIiIgiIiLu\n",
       "7u4QEBBUVFS6urp2dnbMzMxEREQyMjJmZmbc3NwAAADzFso2AAAAAXRSTlMAQObYZgAAAAlwSFlz\n",
       "AAAOxAAADsQBlSsOGwAAAT9JREFUKM9jYACDcwxQEHSAgSBg/QBlcBk74FR0AcZghJvIiFv1BijN\n",
       "N+XkAuJVM/AI4DKb1X/3UQbO/Ayoar67pxcw8AfgdAm3QDsDQzzM7NcMnD8Y2hgYVu8GggeYqtn9\n",
       "OBUY2Bh4d+/O3r2JoY6BIY3BnBWnu9mlgcHLAjM7P4Ch/sFlzgB01cxbXHzAqh8ZvEGoLmFgqF+w\n",
       "VgsWOnN+GoAZHIeh+tkfVDFPYEEKE38swfUGZhn7A26GHUiquT5jUQ1PCuwPuC6EhCDikqUAi+oD\n",
       "CNUMiozbEBK3sSjmSnFxcfGGqmYPKINLMGEzmnUDktmsBSFwCUkGvgeYyh2QVDMs5obbOYGBOQBT\n",
       "tTE85oHxxrwaxnty9+4VLE6BpzMw4w5M2P///z/YHF7dCrH6fDaQjCGUnThmQ2IeBQAAYmtTOe5+\n",
       "TdwAAAAASUVORK5CYII=\n",
       "\" style=\"display:inline;vertical-align:middle;\" /></a></span>"
      ],
      "text/plain": [
       "|- 2^{t - 1} in NaturalPos"
      ]
     },
     "execution_count": 5,
     "metadata": {},
     "output_type": "execute_result"
    }
   ],
   "source": [
    "# previously proven; needed for establishing that\n",
    "# the interval consists of integers\n",
    "_two_pow_t_minus_one_is_nat_pos"
   ]
  },
  {
   "cell_type": "code",
   "execution_count": 6,
   "metadata": {},
   "outputs": [
    {
     "data": {
      "text/html": [
       "<strong id=\"ell_in_interval\">ell_in_interval:</strong> <a class=\"ProveItLink\" href=\"../../../__pv_it/theorems/8bc9b38cf75c7371ab646fd064ad09fc02345f250/expr.ipynb\"><img src=\"data:image/png;base64,iVBORw0KGgoAAAANSUhEUgAAANYAAAAYBAMAAAB0Lx7ZAAAAMFBMVEX///+qqqq6urru7u4QEBBE\n",
       "RERUVFTc3NyIiIgyMjJmZmaYmJjMzMwiIiJ2dnYAAACPW0xlAAAAAXRSTlMAQObYZgAAAAlwSFlz\n",
       "AAAOxAAADsQBlSsOGwAAAeBJREFUSMdjYCAMOAugDOadDMQD8nTZwxgnemmuSxLOkqW6LiMFFG7d\n",
       "zTdk2IWmq7AAqyqOSQaoAhPJ8heqLp5UkKFv/6ApkkeyqmplDAPDZzx28VzGYg02XawJQIL7A5rK\n",
       "twgmewDDewUmBwaeUCAIx2KX2crPmFZh1cV3AUhwTcBtF1sBA4sDR4INhr+YNsACHItdWHWB7eJt\n",
       "gIi03r07Ad0uls8MbN+5Gh5j2MXYgMcurLrAdtUfAAtoNmPz1wUGtj88qw/A0tb8F8TYhVUX2K79\n",
       "kDCejC0MQd7+gC2R4bULqy6wXamoJQoDw0oUNecbyLELUxeHA5DwgNiFSEXeKGquMZBjF6Yu9o/A\n",
       "DPIdzDxyFwgCQGKZwFKDeS6IexcY4lwBmAZx3b17xffu3QTcdmHTZTYR4jcGBlO42KlgZBXbGMjx\n",
       "FzZdLxWA+RlcTPAiBMOQzXzAUE66Xdh0MQIV8m94ANbTgDUdnmNgaCbdLmy6+IDhx6/cgFZUIpdR\n",
       "t1atuoDXLj5IdDP/hBG4dIHSPPc6aNQFGWDaxfv///8J+OxiS/mZDWbcghM4dPEh264Xi1lG4QSM\n",
       "DQwkAj6s4UOMXfCyl0K7WhhoAbiwxkW9AC3sMsEaEuzLaGBZXSIDAwB4aaUFdo5x/QAAAABJRU5E\n",
       "rkJggg==\n",
       "\" style=\"display:inline;vertical-align:middle;\" /></a><br>"
      ],
      "text/plain": [
       "ell_in_interval: l in {-2^{t - 1} + 1 .. 2^{t - 1}}"
      ]
     },
     "execution_count": 6,
     "metadata": {},
     "output_type": "execute_result"
    }
   ],
   "source": [
    "ell_in_interval = _non_int_delta_diff.all_conditions()[0]"
   ]
  },
  {
   "cell_type": "code",
   "execution_count": 7,
   "metadata": {},
   "outputs": [
    {
     "data": {
      "text/html": [
       "<span style=\"font-size:20px;\"><a class=\"ProveItLink\" href=\"../../../__pv_it/theorems/8bc9b38cf75c7371ab646fd064ad09fc02345f250/expr.ipynb\"><img src=\"data:image/png;base64,iVBORw0KGgoAAAANSUhEUgAAANYAAAAYBAMAAAB0Lx7ZAAAAMFBMVEX///+qqqq6urru7u4QEBBE\n",
       "RERUVFTc3NyIiIgyMjJmZmaYmJjMzMwiIiJ2dnYAAACPW0xlAAAAAXRSTlMAQObYZgAAAAlwSFlz\n",
       "AAAOxAAADsQBlSsOGwAAAeBJREFUSMdjYCAMOAugDOadDMQD8nTZwxgnemmuSxLOkqW6LiMFFG7d\n",
       "zTdk2IWmq7AAqyqOSQaoAhPJ8heqLp5UkKFv/6ApkkeyqmplDAPDZzx28VzGYg02XawJQIL7A5rK\n",
       "twgmewDDewUmBwaeUCAIx2KX2crPmFZh1cV3AUhwTcBtF1sBA4sDR4INhr+YNsACHItdWHWB7eJt\n",
       "gIi03r07Ad0uls8MbN+5Gh5j2MXYgMcurLrAdtUfAAtoNmPz1wUGtj88qw/A0tb8F8TYhVUX2K79\n",
       "kDCejC0MQd7+gC2R4bULqy6wXamoJQoDw0oUNecbyLELUxeHA5DwgNiFSEXeKGquMZBjF6Yu9o/A\n",
       "DPIdzDxyFwgCQGKZwFKDeS6IexcY4lwBmAZx3b17xffu3QTcdmHTZTYR4jcGBlO42KlgZBXbGMjx\n",
       "FzZdLxWA+RlcTPAiBMOQzXzAUE66Xdh0MQIV8m94ANbTgDUdnmNgaCbdLmy6+IDhx6/cgFZUIpdR\n",
       "t1atuoDXLj5IdDP/hBG4dIHSPPc6aNQFGWDaxfv///8J+OxiS/mZDWbcghM4dPEh264Xi1lG4QSM\n",
       "DQwkAj6s4UOMXfCyl0K7WhhoAbiwxkW9AC3sMsEaEuzLaGBZXSIDAwB4aaUFdo5x/QAAAABJRU5E\n",
       "rkJggg==\n",
       "\" style=\"display:inline;vertical-align:middle;\" /></a> <a class=\"ProveItLink\" href=\"../../../__pv_it/_proof__non_int_delta_diff/987576baa155293b734c6727e6cececed04073390/proof.ipynb\" style=\"text-decoration: none\">&nbsp;&#x22A2;&nbsp;&nbsp;</a><a class=\"ProveItLink\" href=\"../../../__pv_it/theorems/7b8e14bfeec30fa2c83deb2740813fd8ea169a4c0/expr.ipynb\"><img src=\"data:image/png;base64,iVBORw0KGgoAAAANSUhEUgAAAC4AAAAQBAMAAACb51DZAAAAMFBMVEX///+qqqq6urru7u4QEBBE\n",
       "RERUVFTc3NyIiIgyMjJmZmaYmJjMzMwiIiJ2dnYAAACPW0xlAAAAAXRSTlMAQObYZgAAAAlwSFlz\n",
       "AAAOxAAADsQBlSsOGwAAANZJREFUGNNjYEADjFO+TL0bsoGB4e0fFHGOsAMMEziBDO4PKOJcCxg4\n",
       "NjwEMSagiLMVMJgyBwAZvA0Q/bF3b4JoZgaGNWwHgIx6EMHANMMApoMn4RSI2g/mVMKFGVgNgkFU\n",
       "KpgzHWGDHDfYZA8wB8lysCsZeL6DSd+7d+9ehThA4BEDgwEDhwPYFQFw5absQHY6A2sC2MYLcPEc\n",
       "oA+YPzDwb3gA4nXAXblAC+i5Cwz8ymDbOQXgrpzMwB4YwMC9DsxlTlWGiKtEuob6uz6AG8v0FBIO\n",
       "UAAAaDkwDDbpPcIAAAAASUVORK5CYII=\n",
       "\" style=\"display:inline;vertical-align:middle;\" /></a></span>"
      ],
      "text/plain": [
       "{l in {-2^{t - 1} + 1 .. 2^{t - 1}}} |- l in Integer"
      ]
     },
     "execution_count": 7,
     "metadata": {},
     "output_type": "execute_result"
    }
   ],
   "source": [
    "ell_in_interval.derive_element_in_integer()"
   ]
  },
  {
   "cell_type": "code",
   "execution_count": 8,
   "metadata": {},
   "outputs": [
    {
     "data": {
      "text/html": [
       "<span style=\"font-size:20px;\"> <a class=\"ProveItLink\" href=\"../_delta_diff_in_interval/thm_proof.ipynb\" style=\"text-decoration: none\">&nbsp;&#x22A2;&nbsp;&nbsp;</a><a class=\"ProveItLink\" href=\"../../../__pv_it/theorems/8e2d879d457a9b74c3474bbb0dfb967d5afc3a3f0/expr.ipynb\"><img src=\"data:image/png;base64,iVBORw0KGgoAAAANSUhEUgAAAZMAAAAzBAMAAACgWfgIAAAAMFBMVEX///+IiIgiIiIQEBB2dnbu\n",
       "7u5ERETMzMzc3NwyMjK6urpmZmaYmJiqqqpUVFQAAAB6qHgnAAAAAXRSTlMAQObYZgAAAAlwSFlz\n",
       "AAAOxAAADsQBlSsOGwAABjVJREFUaN7NWl1oHFUUPrs7k5lkf2OpDz6060oUjTZFY6gvzVpE8KHN\n",
       "CG0hICS0dPtW17ZYStEsBqISMBtppSCti9IHQUysttKuxRUtWgQTqj4UpQmtFkFpIzRujYnr3bnn\n",
       "zs7vndmps/Q+9J5Mz7l7v3v+7wzAnTzEbduUO2g7u+nUlufueZft43CtNu1Bantr8CYqdP6Dz7bX\n",
       "djfhkicpqaslUH5BRFmH/xd6VHXF0x6g6PGqNJO62AoksSKdLzhyzNBpiysU8fd3FDONUsJ8C6CM\n",
       "FtRJ3uDIcQZ3XXHXylrFTDOph1sA5V7cU8qNI/64HyhM6vvgHT+2ns5fOnLIVSTe9gOFSbVPBw4l\n",
       "gt7e6wx2AYmpgh8oKNVxK3Ao+IOhRedgPYxE+7wfKEzqeOBQ1uGWnCNMhHlRfNEPFCY1F7SzSOgI\n",
       "I86pfoTZlfinHyhMaigVdKpHr7/qzLJKo3b4gcKk2tJBez0a1kZnlj2ilisLfqCgVCxovx+hGUxa\n",
       "dmZZFhg1VPEDBaXE5aADGD2yEOfIlp41q9AZykDBSntQ/P8ydqIhU5eRz/RZbehbrc60MXcjlOv9\n",
       "xysWmkkRn1FB/RwQlD48OZo7BPiQFzKFhaaLfJ3UAMDZ+nw0oCbwH7RnWlYk+LE/tuQHCpOaKcHL\n",
       "dc0PB5RWMOiP0KAfmvfE3RwU3W+0k6MSZoOBEl/BVEzXF1c86RBCOzIPeoai03yMeE97UHUxJvsZ\n",
       "TPbP8y3sXzp1TCpNaIVJJYnKH81kegOCwoIwxuTLc3xD/otOryvNGBiTSpK1PwXYFRAUAWu9AYX2\n",
       "xolFLvsTdDralK8wqQjpvN8AWe+OXxly7jhrkLhoZdb4jJE97z+lPY/i1j9XoUwU4lXupjJ0KjYH\n",
       "BaXCJL+0KUIJxBssIKzX/Omp6wp8gX+81Lieea5oWGnrll8hhmWpdFExXDgkMObTxa/RQll8M1Mf\n",
       "dfdJ1nBQvvvoIsTiM/c3oAyq7A8A6DjBIgVhsvF4qu71l8gaa3IliGsbjUI0Hepmsa2LPiJcncak\n",
       "PA0n4a5z7BQVupQtlGWQFrjnSzclDjenFR0UKNaP/hOAcv2gGlCSJdJ2a9tWobTZ3FgtwUQ+DPZQ\n",
       "DAYmVrWbJL6ppH0bGGw+Qv55CEKqkzSgxBS5KhZBLpfLZzlQzhMog8SpCFvJDEW4pS/9qtA+68WB\n",
       "O/lQRGe3h1Hi9eICbDdcwak7ScenK25aAdgEP8X0Wnm3EYzRzdeqeeVJuGwPgYUsLG51gO2gDJlU\n",
       "u1FXISfyqjI+UJ8c1LWuexX5MyxlX+iddYIidcH4N0iu2lzfymr7FCl0Zu3zNfMgzNvitRM8KGHT\n",
       "BTFKJVkUjWbhQi6Xm5VI1IIXCZUrWALw6dzOXK5igTJmTuHxSY3CUm/OyeTl8lt5zabFm/i042n7\n",
       "wmX8jPpW4Ecd3ZAaYucUPgH7zSXfOLxm+mU7rcjTsqkJGW0obNnQTFrHGAhL8qbDeU/lJCl6B+p/\n",
       "Z3W0pWQl6gmR/GJ0e3n3gVMcKFtBVM9h7MAhk1ouOSvfPH4DeEzzjfgKH0qiABESccVUg7aWrMTA\n",
       "7iFbN0KJaPnIAEV+5qaKf19BUq+0+2s1cITC7MQpCPcrcKOQVMCpbTZAiSxCgrCEdLS1zsO8nTOk\n",
       "SJvR5qny0kG5arxDsowrJH3m3zMlVEetpCFRtdDGNKwfHbz7pGizUGbogcc4ZWQPrBHz+raZ13qF\n",
       "Fyw0k+qzLj15263jMd3lETVgaYXXBH4kUMATKVcoIykLjVKyzd2mdLsd5atNXemF5+HQ116v9NgV\n",
       "tJ5u1ZVeFJ3kY0eO0wbHcYESHbbSVzTnCXZ0YI6ccsqRMV2r5H79/Z0NjVLJoK+/oRu35JRYfgAt\n",
       "wcZcX0rEs42kzWgmNRP4GzyXECZlIaQ0vMYFCqlHVptpJrUuaCRuL/BeKZdPMtr1BZ7cXS6nzXTr\n",
       "XuC56L+nVvub0XvABUqY9MBFM41SbfOBQ4HD2INkXSPEIri6vbPUVAu+ctlHDUDa4MYYnvUDhUk9\n",
       "EjwSCGH4v9uN0f3DEI5USz4Mcf1ch1lK0Q8UJvV+K5Bo3cgxPttB+4+ozvM/bUMp6UhLoHj8tM1+\n",
       "M26ftqHUoIroP0PK1/jfPwkTAAAAAElFTkSuQmCC\n",
       "\" style=\"display:inline;vertical-align:middle;\" /></a></span>"
      ],
      "text/plain": [
       "|- forall_{l in {-2^{t - 1} + 1 .. 2^{t - 1}}} ((delta - (l / 2^{t})) in [-(1 / 2),1 / 2))"
      ]
     },
     "execution_count": 8,
     "metadata": {},
     "output_type": "execute_result"
    }
   ],
   "source": [
    "# previously proven:\n",
    "_delta_diff_in_interval"
   ]
  },
  {
   "cell_type": "code",
   "execution_count": 9,
   "metadata": {},
   "outputs": [
    {
     "data": {
      "text/html": [
       "<strong id=\"delta_diff_in_interval_inst\">delta_diff_in_interval_inst:</strong> <span style=\"font-size:20px;\"><a class=\"ProveItLink\" href=\"../../../__pv_it/theorems/8bc9b38cf75c7371ab646fd064ad09fc02345f250/expr.ipynb\"><img src=\"data:image/png;base64,iVBORw0KGgoAAAANSUhEUgAAANYAAAAYBAMAAAB0Lx7ZAAAAMFBMVEX///+qqqq6urru7u4QEBBE\n",
       "RERUVFTc3NyIiIgyMjJmZmaYmJjMzMwiIiJ2dnYAAACPW0xlAAAAAXRSTlMAQObYZgAAAAlwSFlz\n",
       "AAAOxAAADsQBlSsOGwAAAeBJREFUSMdjYCAMOAugDOadDMQD8nTZwxgnemmuSxLOkqW6LiMFFG7d\n",
       "zTdk2IWmq7AAqyqOSQaoAhPJ8heqLp5UkKFv/6ApkkeyqmplDAPDZzx28VzGYg02XawJQIL7A5rK\n",
       "twgmewDDewUmBwaeUCAIx2KX2crPmFZh1cV3AUhwTcBtF1sBA4sDR4INhr+YNsACHItdWHWB7eJt\n",
       "gIi03r07Ad0uls8MbN+5Gh5j2MXYgMcurLrAdtUfAAtoNmPz1wUGtj88qw/A0tb8F8TYhVUX2K79\n",
       "kDCejC0MQd7+gC2R4bULqy6wXamoJQoDw0oUNecbyLELUxeHA5DwgNiFSEXeKGquMZBjF6Yu9o/A\n",
       "DPIdzDxyFwgCQGKZwFKDeS6IexcY4lwBmAZx3b17xffu3QTcdmHTZTYR4jcGBlO42KlgZBXbGMjx\n",
       "FzZdLxWA+RlcTPAiBMOQzXzAUE66Xdh0MQIV8m94ANbTgDUdnmNgaCbdLmy6+IDhx6/cgFZUIpdR\n",
       "t1atuoDXLj5IdDP/hBG4dIHSPPc6aNQFGWDaxfv///8J+OxiS/mZDWbcghM4dPEh264Xi1lG4QSM\n",
       "DQwkAj6s4UOMXfCyl0K7WhhoAbiwxkW9AC3sMsEaEuzLaGBZXSIDAwB4aaUFdo5x/QAAAABJRU5E\n",
       "rkJggg==\n",
       "\" style=\"display:inline;vertical-align:middle;\" /></a> <a class=\"ProveItLink\" href=\"../../../__pv_it/_proof__non_int_delta_diff/9290b24b36c7e09015a5e516642ee7f7bb2f535f0/proof.ipynb\" style=\"text-decoration: none\">&nbsp;&#x22A2;&nbsp;&nbsp;</a><a class=\"ProveItLink\" href=\"../../../__pv_it/theorems/4b2316f54dd09816e91d090fb1c72486ac0d72c40/expr.ipynb\"><img src=\"data:image/png;base64,iVBORw0KGgoAAAANSUhEUgAAALwAAAAzBAMAAADfgX+VAAAAMFBMVEX///+6urqqqqpmZmbu7u6I\n",
       "iIgiIiIQEBDc3NwyMjJ2dnaYmJhUVFTMzMxEREQAAAC0ii6rAAAAAXRSTlMAQObYZgAAAAlwSFlz\n",
       "AAAOxAAADsQBlSsOGwAAA4lJREFUWMOdmE1oE0EUgF/WzSbN7rY9FLwI7VkKFYJKPdQ91IMgtAd7\n",
       "ExtQUgS1PfhTS7EBQfRig3+IiOZiT2JzEERQEhCsoLQBQdBLc5CeFNM2hdYa42Z+9qfdmdmdXHab\n",
       "fd+X6duZ92YXQPajDg5a4SLbK1zPj8CvtWbzQDjqE//XvwaOUusMSRkFRsRcAx2UjFhvnt1pdqg3\n",
       "rAHoNXx8IdSf6K+7aXn/zPJQyUmWfk+emIrC0cfrnj9GLQ+lDbP09IpySUZPqNfMuzNLZ9Q9GT2h\n",
       "ppj6Ej3pzsnoEeW74P8s0pO2soweUVqZqb9MT5S6jB5Ry8wla246c21DRo+oBebg4xPO6YqMHlHT\n",
       "7FJUdqpBKSejtylzm6nvKDrVYqgoo7ep+CZb3+UsuERZoE95NfM5h2rHCU72X9/1/+tH3Dxl+Hpj\n",
       "Ycstu59nnhQplajiX4d9vOaQqkUuyJgawj3B4HcefVVGb1PLOL/xMjfQ3JDR21RfD14Ca/zGuk5n\n",
       "yEr2XGi9TZXIov3Nz85ffIg9sCKM3qZG8YTp7atyA//hw20rSnJsah4Bet6ocwOv4cOjSLm3qaNI\n",
       "P5tTGtzALD7ko+mzsEQqu9nSH8+2PhfQkm2SD57xY3gqXLEvX3T06kMUXyHBxOmjsH4bzBp3HFiv\n",
       "VqONfgwnR23Y2Q+TnEzU5ODy04C2njC3doSvt3ZRo2jeP4feYC2dKqQreAYRoFe3dnwxTZZVaiR4\n",
       "I6jSO0JWrbrYxRt9dsfw16GPlcJk+mkFFHJH1D/k29jLwKKAgu3mjfQ3+n851HKRob8DqdXk3ONK\n",
       "qJLWCkZlvfVTVZjvpFQHa5P+EeCqk2tlja9HwQDHUG3PQWKCUhprQs5YsJTrIMkMaJk+PQoGQMU9\n",
       "UQdjk1LGBEP/AWCpspc2O0G3QsE0NgNGg1I6p5SNwykVQ4mqsJ2Me6/VKGWu8ZrNwRTOzuywSO+7\n",
       "+aQFtij2NsrefX55F3Ib5d+qnnepw0z9gC+3Av2A96mm6lLdrHWle8Yj3MJ6g+Gth9JYE38/JGlK\n",
       "dOEG3BMMSgFuORRr6pgFiFtBiQ3Se4PhO8BJl2I8/NxMpw+FfvjxBifPpNMZlyoFb0HGm02nvv4U\n",
       "Pbp5gzW7F+Zdqq0gajqxusRDP6XMSZFe65HRU+q0SC9+6OdRhiA7sbyM3qXu8gO/Bb9wecV/XeRS\n",
       "gtdF96VeFyHqPw5BH6gnV8YRAAAAAElFTkSuQmCC\n",
       "\" style=\"display:inline;vertical-align:middle;\" /></a></span><br>"
      ],
      "text/plain": [
       "delta_diff_in_interval_inst: {l in {-2^{t - 1} + 1 .. 2^{t - 1}}} |- (delta - (l / 2^{t})) in [-(1 / 2),1 / 2)"
      ]
     },
     "execution_count": 9,
     "metadata": {},
     "output_type": "execute_result"
    }
   ],
   "source": [
    "delta_diff_in_interval_inst = _delta_diff_in_interval.instantiate({l: l})"
   ]
  },
  {
   "cell_type": "code",
   "execution_count": 10,
   "metadata": {},
   "outputs": [
    {
     "data": {
      "text/html": [
       "<span style=\"font-size:20px;\"><a class=\"ProveItLink\" href=\"../../../__pv_it/theorems/8bc9b38cf75c7371ab646fd064ad09fc02345f250/expr.ipynb\"><img src=\"data:image/png;base64,iVBORw0KGgoAAAANSUhEUgAAANYAAAAYBAMAAAB0Lx7ZAAAAMFBMVEX///+qqqq6urru7u4QEBBE\n",
       "RERUVFTc3NyIiIgyMjJmZmaYmJjMzMwiIiJ2dnYAAACPW0xlAAAAAXRSTlMAQObYZgAAAAlwSFlz\n",
       "AAAOxAAADsQBlSsOGwAAAeBJREFUSMdjYCAMOAugDOadDMQD8nTZwxgnemmuSxLOkqW6LiMFFG7d\n",
       "zTdk2IWmq7AAqyqOSQaoAhPJ8heqLp5UkKFv/6ApkkeyqmplDAPDZzx28VzGYg02XawJQIL7A5rK\n",
       "twgmewDDewUmBwaeUCAIx2KX2crPmFZh1cV3AUhwTcBtF1sBA4sDR4INhr+YNsACHItdWHWB7eJt\n",
       "gIi03r07Ad0uls8MbN+5Gh5j2MXYgMcurLrAdtUfAAtoNmPz1wUGtj88qw/A0tb8F8TYhVUX2K79\n",
       "kDCejC0MQd7+gC2R4bULqy6wXamoJQoDw0oUNecbyLELUxeHA5DwgNiFSEXeKGquMZBjF6Yu9o/A\n",
       "DPIdzDxyFwgCQGKZwFKDeS6IexcY4lwBmAZx3b17xffu3QTcdmHTZTYR4jcGBlO42KlgZBXbGMjx\n",
       "FzZdLxWA+RlcTPAiBMOQzXzAUE66Xdh0MQIV8m94ANbTgDUdnmNgaCbdLmy6+IDhx6/cgFZUIpdR\n",
       "t1atuoDXLj5IdDP/hBG4dIHSPPc6aNQFGWDaxfv///8J+OxiS/mZDWbcghM4dPEh264Xi1lG4QSM\n",
       "DQwkAj6s4UOMXfCyl0K7WhhoAbiwxkW9AC3sMsEaEuzLaGBZXSIDAwB4aaUFdo5x/QAAAABJRU5E\n",
       "rkJggg==\n",
       "\" style=\"display:inline;vertical-align:middle;\" /></a> <a class=\"ProveItLink\" href=\"../../../__pv_it/_proof__non_int_delta_diff/18d055ff22d1649e9547745736684c30a75bae750/proof.ipynb\" style=\"text-decoration: none\">&nbsp;&#x22A2;&nbsp;&nbsp;</a><a class=\"ProveItLink\" href=\"../../../__pv_it/_proof__non_int_delta_diff/03825279a1db9df499c4dc9d8ef3cc2be7bd20020/expr.ipynb\"><img src=\"data:image/png;base64,iVBORw0KGgoAAAANSUhEUgAAAH0AAAAyBAMAAACDoMmvAAAAMFBMVEX///+6urqqqqpmZmbu7u6I\n",
       "iIgiIiIQEBDc3NwyMjJ2dnaYmJhUVFTMzMxEREQAAAC0ii6rAAAAAXRSTlMAQObYZgAAAAlwSFlz\n",
       "AAAOxAAADsQBlSsOGwAAAsJJREFUSMedV0Fo02AUfqtJlqZLsptMhPWk6KWDouJB7UEPQ2l7EAQZ\n",
       "q4j2otDdHENqYaAgMsIYVUS0F70u4EFEtCJDBQ8NePBmMpCxg6iTTSZDa9L8/7/Y7r1M3yV/8+VL\n",
       "3v/e9977C+Cb4QBl+RzQ9o6G9Qs0PtBAAK0SOraH5j9FkSZ7z0uKrk6i0GF2vUTxlSIKXWTXvVQE\n",
       "n+Ce/WKL5AjBn0KR1De26FvH6fIqnhiPr+4R28eD2y8ik8ED4OLic2t8VcBj/AZ37YxYGefQh67i\n",
       "/M+SiCQaQH0D529ofCWhT8lEalZOxHtpTITX6dvLPdjjzcJa6q6Z6td61Q5yxHLc6FugRD7ffcO7\n",
       "Bbtf+FktMGku0DXaHOzm3wRD96XjssyO0Xy32MvfUbN8ZaWZQtIkn7sJ4+WyJfj+3ptMfsYqyTeZ\n",
       "yodOb35/4Lh/sxRqNPHqN80Pw6zORfz/uM/nzudYD2uRXbbfChuBqAjvRv1H4MuxDk1dhwzZxJWw\n",
       "AJKR+D0bDa4tXulBHUr1cmDBm8w2s7CHKKHMPgSwF/KNk7bgmza45P4ZPx/5vj7ySfhfcIguHvFf\n",
       "ieb/yEwgzE5ETAdmYRvxk4sRfl72N1DqhE0rJrZuY3c4n8HiK940pOxFoZ+HZ7ekS7wDm0x/pxZz\n",
       "vP6W4cuDNGQGseafve9AwuL65aW8a6ls/VUYNsKfAW1FfXTXQeoHuhzrsbcAVyDJqyqDlZdiIcC1\n",
       "HLRqJhd1qYbNmAkEeO1ry9nJf7XQGUfUbQXGJLb/Ktq/v+PnljU4oIUbUNf+Y374k/H987j5AYdQ\n",
       "5GgkSvj8GsYElIoo2sTnp4IJYD+oImlNvDlhCdAbIAvW5X8/v1zPZg/CNs4vmG+VdvunGJLUATDZ\n",
       "gDgbpnqzPhnLP0+i43F0+vyKn5+5DcXgszHn97kYfsz/h1Eien8A617Cu8kjXcwAAAAASUVORK5C\n",
       "YII=\n",
       "\" style=\"display:inline;vertical-align:middle;\" /></a></span>"
      ],
      "text/plain": [
       "{l in {-2^{t - 1} + 1 .. 2^{t - 1}}} |- (delta - (l / 2^{t})) in Real"
      ]
     },
     "execution_count": 10,
     "metadata": {},
     "output_type": "execute_result"
    }
   ],
   "source": [
    "# explicitly prove that delta_diff is Real\n",
    "_delta_diff_in_interval.instance_expr.derive_element_in_real()"
   ]
  },
  {
   "cell_type": "code",
   "execution_count": 11,
   "metadata": {},
   "outputs": [
    {
     "data": {
      "text/html": [
       "<strong id=\"delta_diff_upper_bound\">delta_diff_upper_bound:</strong> <span style=\"font-size:20px;\"><a class=\"ProveItLink\" href=\"../../../__pv_it/theorems/8bc9b38cf75c7371ab646fd064ad09fc02345f250/expr.ipynb\"><img src=\"data:image/png;base64,iVBORw0KGgoAAAANSUhEUgAAANYAAAAYBAMAAAB0Lx7ZAAAAMFBMVEX///+qqqq6urru7u4QEBBE\n",
       "RERUVFTc3NyIiIgyMjJmZmaYmJjMzMwiIiJ2dnYAAACPW0xlAAAAAXRSTlMAQObYZgAAAAlwSFlz\n",
       "AAAOxAAADsQBlSsOGwAAAeBJREFUSMdjYCAMOAugDOadDMQD8nTZwxgnemmuSxLOkqW6LiMFFG7d\n",
       "zTdk2IWmq7AAqyqOSQaoAhPJ8heqLp5UkKFv/6ApkkeyqmplDAPDZzx28VzGYg02XawJQIL7A5rK\n",
       "twgmewDDewUmBwaeUCAIx2KX2crPmFZh1cV3AUhwTcBtF1sBA4sDR4INhr+YNsACHItdWHWB7eJt\n",
       "gIi03r07Ad0uls8MbN+5Gh5j2MXYgMcurLrAdtUfAAtoNmPz1wUGtj88qw/A0tb8F8TYhVUX2K79\n",
       "kDCejC0MQd7+gC2R4bULqy6wXamoJQoDw0oUNecbyLELUxeHA5DwgNiFSEXeKGquMZBjF6Yu9o/A\n",
       "DPIdzDxyFwgCQGKZwFKDeS6IexcY4lwBmAZx3b17xffu3QTcdmHTZTYR4jcGBlO42KlgZBXbGMjx\n",
       "FzZdLxWA+RlcTPAiBMOQzXzAUE66Xdh0MQIV8m94ANbTgDUdnmNgaCbdLmy6+IDhx6/cgFZUIpdR\n",
       "t1atuoDXLj5IdDP/hBG4dIHSPPc6aNQFGWDaxfv///8J+OxiS/mZDWbcghM4dPEh264Xi1lG4QSM\n",
       "DQwkAj6s4UOMXfCyl0K7WhhoAbiwxkW9AC3sMsEaEuzLaGBZXSIDAwB4aaUFdo5x/QAAAABJRU5E\n",
       "rkJggg==\n",
       "\" style=\"display:inline;vertical-align:middle;\" /></a> <a class=\"ProveItLink\" href=\"../../../__pv_it/_proof__non_int_delta_diff/797879381ae3484980246d7fb1bf18b865a30c260/proof.ipynb\" style=\"text-decoration: none\">&nbsp;&#x22A2;&nbsp;&nbsp;</a><a class=\"ProveItLink\" href=\"../../../__pv_it/_proof__non_int_delta_diff/099baeea0135db4e035b1f62e0e2705173438a8b0/expr.ipynb\"><img src=\"data:image/png;base64,iVBORw0KGgoAAAANSUhEUgAAAH4AAAAyBAMAAABol3KsAAAAMFBMVEX///+6urqqqqpmZmbu7u6I\n",
       "iIgiIiIQEBDc3NwyMjJ2dnaYmJhUVFTMzMxEREQAAAC0ii6rAAAAAXRSTlMAQObYZgAAAAlwSFlz\n",
       "AAAOxAAADsQBlSsOGwAAApdJREFUSMedlz9oE1Ecx38el0tyl0vdXIRmVQopRCtZahY3oR20LmId\n",
       "tI7pIFhFNJOjLSoiDpJBOxUaECodJJmsItiAIDglgzgJJjEBa4zx7t6766V9399B3pD3C7/f5+W9\n",
       "37/3QuSMdJ2YoX+jiPGRV38p8PpUGSjMorcx7apabV8T8zZcuSqmDaXyfL7rzYkVyOfFZFSU2pjg\n",
       "jXnIXxeTdpPj30A8MZDCY46/A3mrJYXJEublKsrANKWQrGHeqEE+7ntG62K+gZOv4W9b72F+ByfW\n",
       "pUD6jvm7mP+hB4lUQrzdx3zf9KW5CuJjvzHfPhd4UuVk00XTyyJV8vcOb/F1UFhpRQmldvacwo2L\n",
       "GJt0nKtSs4U0c9NiMb7GrTaMsciRWI3l7R7SZDMiQzosr/8KfTkR9lRVpt9P/gB/98WtU2HFolhs\n",
       "Kttk+X+BtPByRLHp/a61luqy/G3/IOsHus1Zj18taQOWX5IdZeZgIu56n5/Idnn96ZI7XJdMDOUQ\n",
       "kb8hrD9kAlAYSL5Pdov9/cN8eP/6wPHAePvf9Pw/oGRmPP8tevF/RVNq7pmcgy6hL1wYvWI83ryo\n",
       "vsN03yuh/NsaSYDsUdT8cy/qpEmv6H9Cmu3SvgE1KoB/SGY7sf68DuvHNXDCOA3490S3Aq9qHWBA\n",
       "Borb/QLtliZkVam6nGdAqWXAv3Nys37M71UtYEAWUzdFuqyL88ebwIDsDtd0TpviAKvzsCvh+8O5\n",
       "GT+/Ze4PcXWegfzsyFmRwSRKICvUUnvYwEAJcJIS/q7VThYGKAB2mWKF8EGRAXi/PMjlZoh7v/gG\n",
       "VXXnLg6He8FFzhkky1Hv2yNsb7ZXoniD701XoviNMd/P/vbXItZ/xKu/Rrzfo/4/PGGU/wHZ4sPG\n",
       "U24HegAAAABJRU5ErkJggg==\n",
       "\" style=\"display:inline;vertical-align:middle;\" /></a></span><br>"
      ],
      "text/plain": [
       "delta_diff_upper_bound: {l in {-2^{t - 1} + 1 .. 2^{t - 1}}} |- (delta - (l / 2^{t})) < (1 / 2)"
      ]
     },
     "execution_count": 11,
     "metadata": {},
     "output_type": "execute_result"
    }
   ],
   "source": [
    "delta_diff_upper_bound = delta_diff_in_interval_inst.derive_element_upper_bound()"
   ]
  },
  {
   "cell_type": "code",
   "execution_count": 12,
   "metadata": {},
   "outputs": [
    {
     "data": {
      "text/html": [
       "<strong id=\"delta_diff_lower_bound\">delta_diff_lower_bound:</strong> <span style=\"font-size:20px;\"><a class=\"ProveItLink\" href=\"../../../__pv_it/theorems/8bc9b38cf75c7371ab646fd064ad09fc02345f250/expr.ipynb\"><img src=\"data:image/png;base64,iVBORw0KGgoAAAANSUhEUgAAANYAAAAYBAMAAAB0Lx7ZAAAAMFBMVEX///+qqqq6urru7u4QEBBE\n",
       "RERUVFTc3NyIiIgyMjJmZmaYmJjMzMwiIiJ2dnYAAACPW0xlAAAAAXRSTlMAQObYZgAAAAlwSFlz\n",
       "AAAOxAAADsQBlSsOGwAAAeBJREFUSMdjYCAMOAugDOadDMQD8nTZwxgnemmuSxLOkqW6LiMFFG7d\n",
       "zTdk2IWmq7AAqyqOSQaoAhPJ8heqLp5UkKFv/6ApkkeyqmplDAPDZzx28VzGYg02XawJQIL7A5rK\n",
       "twgmewDDewUmBwaeUCAIx2KX2crPmFZh1cV3AUhwTcBtF1sBA4sDR4INhr+YNsACHItdWHWB7eJt\n",
       "gIi03r07Ad0uls8MbN+5Gh5j2MXYgMcurLrAdtUfAAtoNmPz1wUGtj88qw/A0tb8F8TYhVUX2K79\n",
       "kDCejC0MQd7+gC2R4bULqy6wXamoJQoDw0oUNecbyLELUxeHA5DwgNiFSEXeKGquMZBjF6Yu9o/A\n",
       "DPIdzDxyFwgCQGKZwFKDeS6IexcY4lwBmAZx3b17xffu3QTcdmHTZTYR4jcGBlO42KlgZBXbGMjx\n",
       "FzZdLxWA+RlcTPAiBMOQzXzAUE66Xdh0MQIV8m94ANbTgDUdnmNgaCbdLmy6+IDhx6/cgFZUIpdR\n",
       "t1atuoDXLj5IdDP/hBG4dIHSPPc6aNQFGWDaxfv///8J+OxiS/mZDWbcghM4dPEh264Xi1lG4QSM\n",
       "DQwkAj6s4UOMXfCyl0K7WhhoAbiwxkW9AC3sMsEaEuzLaGBZXSIDAwB4aaUFdo5x/QAAAABJRU5E\n",
       "rkJggg==\n",
       "\" style=\"display:inline;vertical-align:middle;\" /></a> <a class=\"ProveItLink\" href=\"../../../__pv_it/_proof__non_int_delta_diff/6103b2f993441eb59e4421282f41caa7d88c113b0/proof.ipynb\" style=\"text-decoration: none\">&nbsp;&#x22A2;&nbsp;&nbsp;</a><a class=\"ProveItLink\" href=\"../../../__pv_it/_proof__non_int_delta_diff/476c984ab1dde3b45130fdbe6c413a462cf5c6d90/expr.ipynb\"><img src=\"data:image/png;base64,iVBORw0KGgoAAAANSUhEUgAAAKoAAAAyBAMAAAA+bV2fAAAAMFBMVEX///+6urqqqqpmZmbu7u6I\n",
       "iIgiIiIQEBDc3NwyMjJ2dnaYmJhUVFTMzMxEREQAAAC0ii6rAAAAAXRSTlMAQObYZgAAAAlwSFlz\n",
       "AAAOxAAADsQBlSsOGwAAA8VJREFUWMOdWE1oE0EUftkkm5/dTXrwIgjtSVEKKQSUKmhAECrV7EGv\n",
       "NlhtqVaag2KVUhcKKh6sVA8iKjmop0p6E0FoTlYs2JwUvSQH0Yti2qbQGmPc7Mzs77wNdSA7k0ze\n",
       "N2/ez/deAqCPRBmc42QG0PET/Eboq7lcdu8p51AxecEXFT4yheSCB3A3KvUe23jRNCYhR9+/tu0N\n",
       "9tfbU7yEyEr3MFSpRuZ5MkUn7ZthAxUuIrK3NAw1SM8TiYlElYO6B/HXedQ0DEa4bEyvgIMa6+Nf\n",
       "M4+izrJAum88r/NQA5tc0UgBRV1ki27NgnGhwmOu6BAeyB/YItb2tFjioqa48uN4oF5hC6GNUClz\n",
       "UbMqR1JpoqCKabLQhv5YAi5qIsdLLNxZYWvrm/6a4qNKPHdFSihqomSabFEDpcFHDTU4ohWcBJIL\n",
       "ZnhkFyDs0inO3k/xQkDDUXeothslnKaSl7aWLeu4x3ea4/3THnjpoGWMHESqyOFFzmfT9D6wy4eA\n",
       "IV6DbB+WK13WWnhIbL1OL5TxpVhpFSoqsmfbkIYJjLJBPVryRdW/lupB9qxLhC9Q3YQ1Gh9r/lVm\n",
       "HRbLmFOZQsdN9pNYav3yN8EfPFiS1I1HLQJnUdibqvqi/oUidmyEcPvgnM25dVpl5Lov6jU4gqGK\n",
       "hAhkG2qQgM1qQtMXdQRWjHlgpD0uQbLVHgSVpseMZQG5RpnU4C4mo48WG+R7oxSVp2ve4y2K2gCl\n",
       "5qvraEcL2COLWCDU9Knf1AJFzd9b9iygzNOEWE8Hbw1h8WrnUuEJUZo46Tn0ciVimkl3eBZ4CYJm\n",
       "Qfw0v9Jm2WIdUl2OnWj6KT0m6xUVVrE7z/TrreJelrG/3fR+F+KrHnYxaaOBgEarUOy6M/bSZBfX\n",
       "Rd8BXKWlm3jkmBWV7ash7acGkTywfNFJSHQGyY0MrGhoNRnDPFsHeRPqFl24ivFbgBViWF56LGG6\n",
       "5kBuBvJWskgeophwVBNnfcAZUKyFSyeo5lVQ1rxMbjhgg1cf8OivqEH1Ge0OVW+Fpn3XdruMcVAO\n",
       "lc0uAw64tg+bpuL002hHFKw6fAPdzjSQqDpJXpUMoGnwxrZu2050Buw+iGq4Y4YRUKEAt0296uxh\n",
       "+aoA4QzeqWJB8AXglNMxjg7+Zjq9f/sdfHQ4nc45Onjn+ROt1hZpHPltCb8MinpxMXP0B6FF3vnd\n",
       "yFUfQacRIAcrk5y9s4jMJ60Tqkgz5QynrcPCPVzthDrP+3VMxs7t/zpmBjDtO+eh5weoVIdCCJ9N\n",
       "h3j+dRj4/38dDH3+AdcLDrkk23XqAAAAAElFTkSuQmCC\n",
       "\" style=\"display:inline;vertical-align:middle;\" /></a></span><br>"
      ],
      "text/plain": [
       "delta_diff_lower_bound: {l in {-2^{t - 1} + 1 .. 2^{t - 1}}} |- (-(1 / 2)) <= (delta - (l / 2^{t}))"
      ]
     },
     "execution_count": 12,
     "metadata": {},
     "output_type": "execute_result"
    }
   ],
   "source": [
    "delta_diff_lower_bound = delta_diff_in_interval_inst.derive_element_lower_bound()"
   ]
  },
  {
   "cell_type": "code",
   "execution_count": 13,
   "metadata": {},
   "outputs": [
    {
     "data": {
      "text/html": [
       "<strong id=\"one_less_than_two\">one_less_than_two:</strong> <span style=\"font-size:20px;\"> <a class=\"ProveItLink\" href=\"../../../../../../numbers/numerals/decimals/_theory_nbs_/proofs/less_1_2/thm_proof.ipynb\" style=\"text-decoration: none\">&nbsp;&#x22A2;&nbsp;&nbsp;</a><a class=\"ProveItLink\" href=\"../../../../../../numbers/numerals/decimals/__pv_it/theorems/87469a9c68ae71903426a57864d5192167a8a75c0/expr.ipynb\"><img src=\"data:image/png;base64,iVBORw0KGgoAAAANSUhEUgAAADAAAAAQBAMAAACigOGCAAAAMFBMVEX///+6urpERESqqqqYmJgQ\n",
       "EBDc3Nx2dnaIiIgyMjJmZmZUVFTu7u4iIiLMzMwAAAA9XO4HAAAAAXRSTlMAQObYZgAAAAlwSFlz\n",
       "AAAOxAAADsQBlSsOGwAAAJdJREFUGNNjYOC7w4AOslbqMTCcXvkHXZxNgaFegIGBA0OCO4GBNQBN\n",
       "wjIBSLD+YeD+hirhuwas4wID9z8Uid4aGIv3A5IET20DXMn7BoQE21oHhJm3GRASOw0Q4lwKOCS8\n",
       "GRiwGsVcwJCG1fLnDAw9DAzs32AKeXp7IHpvrVoF9MrWn1sQHgR7hPf///8T0ILJM4GBEAAA65ov\n",
       "K89YlvsAAAAASUVORK5CYII=\n",
       "\" style=\"display:inline;vertical-align:middle;\" /></a></span><br>"
      ],
      "text/plain": [
       "one_less_than_two: |- 1 < 2"
      ]
     },
     "execution_count": 13,
     "metadata": {},
     "output_type": "execute_result"
    }
   ],
   "source": [
    "one_less_than_two = Less(one, two).prove()"
   ]
  },
  {
   "cell_type": "code",
   "execution_count": 14,
   "metadata": {},
   "outputs": [
    {
     "data": {
      "text/html": [
       "<strong id=\"half_less_than_one\">half_less_than_one:</strong> <span style=\"font-size:20px;\"> <a class=\"ProveItLink\" href=\"../../../__pv_it/_proof__non_int_delta_diff/cce5ba48cc9e5a2440ba499b340a313f8381b6880/proof.ipynb\" style=\"text-decoration: none\">&nbsp;&#x22A2;&nbsp;&nbsp;</a><a class=\"ProveItLink\" href=\"../../../__pv_it/_proof__non_int_delta_diff/ae122906d9971838c5fec5f6b43adc753e887a630/expr.ipynb\"><img src=\"data:image/png;base64,iVBORw0KGgoAAAANSUhEUgAAADIAAAAqBAMAAAADlBV0AAAAMFBMVEX///+qqqq6urpERESYmJgQ\n",
       "EBDc3Nx2dnaIiIgyMjJmZmZUVFTu7u4iIiLMzMwAAAAz/ewvAAAAAXRSTlMAQObYZgAAAAlwSFlz\n",
       "AAAOxAAADsQBlSsOGwAAAMJJREFUOMtjYGB4e4ABK+DZNR+HDAND/6gMQ30CDond8bMdGIgHfHdw\n",
       "SJxe+QeXHg5MGcZpOGRYbh3ALsNx/QB2047fwGFP1hUUF/wHgQ8gHvdEXG7DLYNuGlEuYGA4cQPq\n",
       "avZvGD6FeIh7688tQNNX2iFLTYMz2QwY6hWwhip3AgNrAFYZ1j8M3N+w67nAwP0PVzTxfsAl874B\n",
       "l8xtXBJcBrhkvHFJMBYwpGGXec7A0INVgu3WqlUXsHsGGNkTsEkAAFwoTW9g18MQAAAAAElFTkSu\n",
       "QmCC\n",
       "\" style=\"display:inline;vertical-align:middle;\" /></a></span><br>"
      ],
      "text/plain": [
       "half_less_than_one: |- (1 / 2) < 1"
      ]
     },
     "execution_count": 14,
     "metadata": {},
     "output_type": "execute_result"
    }
   ],
   "source": [
    "half_less_than_one = one_less_than_two.divide_both_sides(two)"
   ]
  },
  {
   "cell_type": "code",
   "execution_count": 15,
   "metadata": {},
   "outputs": [
    {
     "data": {
      "text/html": [
       "<span style=\"font-size:20px;\"> <a class=\"ProveItLink\" href=\"../../../__pv_it/_proof__non_int_delta_diff/51c4c828cad189120a5edfc3f1f68999d9f3d3ec0/proof.ipynb\" style=\"text-decoration: none\">&nbsp;&#x22A2;&nbsp;&nbsp;</a><a class=\"ProveItLink\" href=\"../../../__pv_it/_proof__non_int_delta_diff/089b0d278aeea79b0d51b9e2dfeb554ae96ea8f80/expr.ipynb\"><img src=\"data:image/png;base64,iVBORw0KGgoAAAANSUhEUgAAAE8AAAAVBAMAAAD1D64kAAAAMFBMVEX////MzMxUVFRERES6uroi\n",
       "IiIQEBCYmJhmZmYyMjLu7u52dnaqqqqIiIjc3NwAAACW8nlqAAAAAXRSTlMAQObYZgAAAAlwSFlz\n",
       "AAAOxAAADsQBlSsOGwAAASNJREFUKM9jYGB4wIAM+BhwAd4DKFyWC7gUnkZiiy5gYLiOqWT3DaCt\n",
       "XBPgfC6N+UCFnAvQ1XEe4IpjYOAoQBK6D1TE3oCusJSBYTMDAxsDmkKGLASfZx6INGJgOL+A4SSG\n",
       "wulwLnsE2Bk/GBjkDzB0YyjcBA+PaLA6LpDCAiT9MIWVUM7qWGjI/gYqvMAQg6HwGIT9IpwBSeEG\n",
       "hhSg2VNDQUAAqlAeLM00Bx5qQIX+F0AK0Ux0Q1MI8sz5A1isPopmNYMxA0P9AgZbDIXFaJ5hKGNg\n",
       "6EQKDBDYD0pJ8ABbGwuJTdYDXInAdICkTil/EjBCQxABDg3I7ktAj7IKoMUsXwCCzT4PiY2eBlBS\n",
       "CTKwQ+M/xpVwFxPQiHATatrnfYBdGQCH309Qvw6GFwAAAABJRU5ErkJggg==\n",
       "\" style=\"display:inline;vertical-align:middle;\" /></a></span>"
      ],
      "text/plain": [
       "|- (-1) < 0"
      ]
     },
     "execution_count": 15,
     "metadata": {},
     "output_type": "execute_result"
    }
   ],
   "source": [
    "# Need to explicitly do this for the following step\n",
    "# in which we get (-1) < (-1/2) from 1/2 < 1\n",
    "Less(Neg(one), zero).prove()"
   ]
  },
  {
   "cell_type": "code",
   "execution_count": 16,
   "metadata": {},
   "outputs": [
    {
     "data": {
      "text/html": [
       "<span style=\"font-size:20px;\"> <a class=\"ProveItLink\" href=\"../../../__pv_it/_proof__non_int_delta_diff/96c4ea9720c680daafb94ab9735ac45faaf11d6e0/proof.ipynb\" style=\"text-decoration: none\">&nbsp;&#x22A2;&nbsp;&nbsp;</a><a class=\"ProveItLink\" href=\"../../../__pv_it/_proof__non_int_delta_diff/74cb58344277fdccfb3a923e38c1b4f1c9a29d880/expr.ipynb\"><img src=\"data:image/png;base64,iVBORw0KGgoAAAANSUhEUgAAAH0AAAAyBAMAAACDoMmvAAAAMFBMVEX///+6urqqqqpmZmbu7u6I\n",
       "iIgiIiIQEBDc3NwyMjJ2dnaYmJhUVFTMzMxEREQAAAC0ii6rAAAAAXRSTlMAQObYZgAAAAlwSFlz\n",
       "AAAOxAAADsQBlSsOGwAAAmxJREFUSMedl81rE0EUwF9jsvnqJrn04MmeFL1UiGiLoDkJgdIGD6Un\n",
       "G0S8aGluFhHNxR4llB5F9iC9ZqGgeEoOYgUPyX9gDqXntrTQ0kOc3Zkk+2be4NsOhN15mV/mzfuY\n",
       "9wIgRqEPeCxVIM74owvcF3Hwac9Ab8bhf0TeFxdOg0euy8czm9FZKuThFZ93agR/i2/B70Dw2bts\n",
       "/i3FT51zcQXo08/s43dJfo5rgL99kl+uMfl9+jiFOpN/R/N5pgHdS5pPXjLNr+2TO6f1kqGKp83g\n",
       "nA2cS/sXKhsPCf4pns6IT3pgUaxtihIeztOUL/xkC9ROyRBV9TzdEe63+Zn44qFu5z0RZ7MWXilW\n",
       "9Seihs6nK9DpW/iijOvk7liPREvnsz6sNW38yLArX9XLNU/nxTXVtuVJerzbt3vymfV1Pt+Cxzbe\n",
       "mSTA7XkpmdX5RAN60kovg7EOxWEw5OqIta7/DDUqTRZK3j1SPLV/lD8Y8Xj/qQZP/982/evQbv7f\n",
       "fvPqSqgZ9hvAms3/6a7uP1RUwjwVHrXHj4y/5Mp4V7eu56lTgjmcJpnyF/WDyzJankScvq7vsSXS\n",
       "xEeST5A7tubPHpFQRZy/wtJv1AVuJlZBs3VGhLjTQqIPFejJVURiJAfm703j++sXQE8agAqsj3i6\n",
       "GrjwVF+0IR/vmff3iS44k2c7u1r9GNVDbv2AB9r8kQoQbv26gQMor4K0yK2fDg6AO5AJHdfh1m/s\n",
       "ANeDVEi+vlr/slUu34/Xv2BNN4bDizC0+A1g1qOsyu/f3E1C+DxG//rMFMXpX3H/rC7cWP37tnGk\n",
       "nVi88f+hyrbePyjDn0g+UCSBAAAAAElFTkSuQmCC\n",
       "\" style=\"display:inline;vertical-align:middle;\" /></a></span>"
      ],
      "text/plain": [
       "|- (-(1 / 2)) > (-1)"
      ]
     },
     "execution_count": 16,
     "metadata": {},
     "output_type": "execute_result"
    }
   ],
   "source": [
    "half_less_than_one.left_mult_both_sides(Neg(one))"
   ]
  },
  {
   "cell_type": "code",
   "execution_count": 17,
   "metadata": {},
   "outputs": [
    {
     "data": {
      "text/html": [
       "<strong id=\"delta_diff_ess_than_1\">delta_diff_ess_than_1:</strong> <span style=\"font-size:20px;\"><a class=\"ProveItLink\" href=\"../../../__pv_it/theorems/8bc9b38cf75c7371ab646fd064ad09fc02345f250/expr.ipynb\"><img src=\"data:image/png;base64,iVBORw0KGgoAAAANSUhEUgAAANYAAAAYBAMAAAB0Lx7ZAAAAMFBMVEX///+qqqq6urru7u4QEBBE\n",
       "RERUVFTc3NyIiIgyMjJmZmaYmJjMzMwiIiJ2dnYAAACPW0xlAAAAAXRSTlMAQObYZgAAAAlwSFlz\n",
       "AAAOxAAADsQBlSsOGwAAAeBJREFUSMdjYCAMOAugDOadDMQD8nTZwxgnemmuSxLOkqW6LiMFFG7d\n",
       "zTdk2IWmq7AAqyqOSQaoAhPJ8heqLp5UkKFv/6ApkkeyqmplDAPDZzx28VzGYg02XawJQIL7A5rK\n",
       "twgmewDDewUmBwaeUCAIx2KX2crPmFZh1cV3AUhwTcBtF1sBA4sDR4INhr+YNsACHItdWHWB7eJt\n",
       "gIi03r07Ad0uls8MbN+5Gh5j2MXYgMcurLrAdtUfAAtoNmPz1wUGtj88qw/A0tb8F8TYhVUX2K79\n",
       "kDCejC0MQd7+gC2R4bULqy6wXamoJQoDw0oUNecbyLELUxeHA5DwgNiFSEXeKGquMZBjF6Yu9o/A\n",
       "DPIdzDxyFwgCQGKZwFKDeS6IexcY4lwBmAZx3b17xffu3QTcdmHTZTYR4jcGBlO42KlgZBXbGMjx\n",
       "FzZdLxWA+RlcTPAiBMOQzXzAUE66Xdh0MQIV8m94ANbTgDUdnmNgaCbdLmy6+IDhx6/cgFZUIpdR\n",
       "t1atuoDXLj5IdDP/hBG4dIHSPPc6aNQFGWDaxfv///8J+OxiS/mZDWbcghM4dPEh264Xi1lG4QSM\n",
       "DQwkAj6s4UOMXfCyl0K7WhhoAbiwxkW9AC3sMsEaEuzLaGBZXSIDAwB4aaUFdo5x/QAAAABJRU5E\n",
       "rkJggg==\n",
       "\" style=\"display:inline;vertical-align:middle;\" /></a> <a class=\"ProveItLink\" href=\"../../../__pv_it/_proof__non_int_delta_diff/eafcd1d7902d821a19479ad14f265bc24a6eb6760/proof.ipynb\" style=\"text-decoration: none\">&nbsp;&#x22A2;&nbsp;&nbsp;</a><a class=\"ProveItLink\" href=\"../../../__pv_it/_proof__non_int_delta_diff/0c3f7f6d5aa1f090cd7f67af34bd73fa70e5ca9d0/expr.ipynb\"><img src=\"data:image/png;base64,iVBORw0KGgoAAAANSUhEUgAAAHoAAAAyBAMAAABhfNLWAAAAMFBMVEX///+6urqqqqpmZmbu7u6I\n",
       "iIgiIiIQEBDc3NwyMjJ2dnaYmJhUVFTMzMxEREQAAAC0ii6rAAAAAXRSTlMAQObYZgAAAAlwSFlz\n",
       "AAAOxAAADsQBlSsOGwAAAnBJREFUSMedVj9oE2EUf0mTy7/LJatTO7U4ndBBgoNZOli0ySAIUkyw\n",
       "RqgVzFhEJJClOJUgtoNDBjtKCg4iCClS6NAhmV0uU3FQqBLhpLSa5vtzZ7zfO+q33OPe97t73+/9\n",
       "3vse0WhZfeLWUpF1H7Jeyj7gvGYbONJPRFCzHPoD9HTlV/YwOLkOXQX5XMNoowxdNfmcw7y9x1Gd\n",
       "SiN1Be55Cj2ZY2lEXLQlPsTJGCjrNTw2JjShGbHRwR0sNKehrBJi9gBn4462rCrY8gyjv8Y0f4C2\n",
       "7AlGn6SVFQO74i5Gf18Ii9Cqi2dz68s/vnde+RyBrMictiP7XCV1ggu3JEW4z9d4Nz/55mZhJDNH\n",
       "ZnKZRzvlQJHaM1IPMyy65KuT6LZGd6XUrCGLznl6zqwUNboi1Bj9dMajdcHEHxW9yDtF2Z16bOdM\n",
       "bEpjseY/9/UxKOmSzbZlQwq9ufYXaz1Vyee1Fnv18HyNv/NbLYEWojJbFIDO7ZLDnhugReSlPtOX\n",
       "mcg7Y85zfWrRf7BWGR8yXY4GN6iUbC8J7V6oyeSkXa2WnbtAYyrfntYyIuHmwa9DsvMo2GbhG9Fl\n",
       "9RXfXZfZ9uS/i66CAXXyL1bfwiqZCGmimTcoUddc2sFFZGwilodkuqRqp9II/kUd/btK5mlEeXvg\n",
       "rmIq0ziO790S5nPQkX9wDWWq/EZQ+PPit8Fjyl7rs7cBXYXgqYGfhOA1DeXy0ZdXdAsaKOHRNm3o\n",
       "howaDyT9M9Ftj4ELTh7Jlfn5aujkgaIyRk1J6dDC80WqTWFrGvfb7Hoo+j7juxcG5iZNPOWqdYn1\n",
       "tkIm7JesO2S6vwE5+wOy1aVkVUkGmgAAAABJRU5ErkJggg==\n",
       "\" style=\"display:inline;vertical-align:middle;\" /></a></span><br>"
      ],
      "text/plain": [
       "delta_diff_ess_than_1: {l in {-2^{t - 1} + 1 .. 2^{t - 1}}} |- (delta - (l / 2^{t})) < 1"
      ]
     },
     "execution_count": 17,
     "metadata": {},
     "output_type": "execute_result"
    }
   ],
   "source": [
    "delta_diff_ess_than_1 = Less(delta_diff, one).prove()"
   ]
  },
  {
   "cell_type": "code",
   "execution_count": 18,
   "metadata": {},
   "outputs": [
    {
     "data": {
      "text/html": [
       "<strong id=\"delta_diff_ess_than_1\">delta_diff_ess_than_1:</strong> <span style=\"font-size:20px;\"><a class=\"ProveItLink\" href=\"../../../__pv_it/theorems/8bc9b38cf75c7371ab646fd064ad09fc02345f250/expr.ipynb\"><img src=\"data:image/png;base64,iVBORw0KGgoAAAANSUhEUgAAANYAAAAYBAMAAAB0Lx7ZAAAAMFBMVEX///+qqqq6urru7u4QEBBE\n",
       "RERUVFTc3NyIiIgyMjJmZmaYmJjMzMwiIiJ2dnYAAACPW0xlAAAAAXRSTlMAQObYZgAAAAlwSFlz\n",
       "AAAOxAAADsQBlSsOGwAAAeBJREFUSMdjYCAMOAugDOadDMQD8nTZwxgnemmuSxLOkqW6LiMFFG7d\n",
       "zTdk2IWmq7AAqyqOSQaoAhPJ8heqLp5UkKFv/6ApkkeyqmplDAPDZzx28VzGYg02XawJQIL7A5rK\n",
       "twgmewDDewUmBwaeUCAIx2KX2crPmFZh1cV3AUhwTcBtF1sBA4sDR4INhr+YNsACHItdWHWB7eJt\n",
       "gIi03r07Ad0uls8MbN+5Gh5j2MXYgMcurLrAdtUfAAtoNmPz1wUGtj88qw/A0tb8F8TYhVUX2K79\n",
       "kDCejC0MQd7+gC2R4bULqy6wXamoJQoDw0oUNecbyLELUxeHA5DwgNiFSEXeKGquMZBjF6Yu9o/A\n",
       "DPIdzDxyFwgCQGKZwFKDeS6IexcY4lwBmAZx3b17xffu3QTcdmHTZTYR4jcGBlO42KlgZBXbGMjx\n",
       "FzZdLxWA+RlcTPAiBMOQzXzAUE66Xdh0MQIV8m94ANbTgDUdnmNgaCbdLmy6+IDhx6/cgFZUIpdR\n",
       "t1atuoDXLj5IdDP/hBG4dIHSPPc6aNQFGWDaxfv///8J+OxiS/mZDWbcghM4dPEh264Xi1lG4QSM\n",
       "DQwkAj6s4UOMXfCyl0K7WhhoAbiwxkW9AC3sMsEaEuzLaGBZXSIDAwB4aaUFdo5x/QAAAABJRU5E\n",
       "rkJggg==\n",
       "\" style=\"display:inline;vertical-align:middle;\" /></a> <a class=\"ProveItLink\" href=\"../../../__pv_it/_proof__non_int_delta_diff/f41c8e9c56d31f45b78a4bd607d692773612e4880/proof.ipynb\" style=\"text-decoration: none\">&nbsp;&#x22A2;&nbsp;&nbsp;</a><a class=\"ProveItLink\" href=\"../../../__pv_it/_proof__non_int_delta_diff/ba73e78331a8c4ba4166256c3e8175c1ab3aac7f0/expr.ipynb\"><img src=\"data:image/png;base64,iVBORw0KGgoAAAANSUhEUgAAAJkAAAAyBAMAAAC9qWSkAAAAMFBMVEX////MzMxUVFRERES6uroi\n",
       "IiIQEBCYmJhmZmYyMjLu7u52dnaqqqqIiIjc3NwAAACW8nlqAAAAAXRSTlMAQObYZgAAAAlwSFlz\n",
       "AAAOxAAADsQBlSsOGwAAAvVJREFUSMelV01oE0EUfpu/3fzsZi/14iHBg0gVGgt6a+lJ8GQoiqlt\n",
       "MagnLwa92FNys8VLKaigxR96EimJPQrSXFoQDwkeFPRgQJCCIAkWUoKNbjIz+5PdtztDB5KZ3Tf5\n",
       "MjPf+957A8DbzvpaN16CSAuVfM3SNSG008j75HV92O+IgMmrmKVMUbMCaD9bmGWF9lcF0BYDLbv8\n",
       "PMhFzKJ16CBe4UaL1dD/adNBpM+N9h3dRijHRmvcaLP4qpts1OA9OKmDmjIm2dUmrxBQEuCzOQrn\n",
       "eUnAXXMyYfLBS0MGF2k3yUaJ7uDb6eWaJ6WoEmB/0xzeMD5q3WGNeJ3ledLtPZ52me5bnnjO+Hy0\n",
       "mcYMkr94oN0kXS0y7nce28ZureCQOPXCQIu73SZxQPpx/9Mtz4BSGnF52a036ZD0nwK4akLMJaDb\n",
       "1nPqOen+Uv+s+6JVK/DBhfbEUnSB7FqmUgj3fNHSWXjoQttiT+o8PUKV+GXqzB9/tJxtJQxtiT68\n",
       "MSNkkqxpCSZ8hR1bhQUX2i51Lis0K0M0rQ8N3Q8tmodbhgM8ujJoOkXLEKGv20TfppEso9tnA/xj\n",
       "jaAVB2gja7uAoKVL9I/QtRU9drqD7LSqm0eK7nTKhXbPzcKQ07QO6xDAwpZDaYNYYfrM5iLzkKG/\n",
       "JZsp7zAXb5lRcMz2+sSdNUNnly3vnXd47/tviAaYv1UgOkq6ZgvIMlXWPra5vRWjdGJyqtbcIlfc\n",
       "cVbqYqk5B9szv+bemqqH0QD4w+NXB1j2aUGsaHLTMILCxsiMaY9fzWEs9iDUh54t3mvO0K16pYCT\n",
       "2NryEOpEWHqc4MxZZVzt0baafeWI98EZsO4TcJXmO0LJ4dGz8yxID3Sx7KyglYOSsx8iX4ug7nvX\n",
       "Fnp5qxooIO9TNfjNQRUnqccBvgbXeJyVqlZYXs6LV6qyd+6LGkGc1QphgQvDs8AZlwRuWsdaQTMW\n",
       "BG4fai5ggtDNCL21sXZR6A4Y969opKdCaAG33ddDDv4DekzBu3VJP6sAAAAASUVORK5CYII=\n",
       "\" style=\"display:inline;vertical-align:middle;\" /></a></span><br>"
      ],
      "text/plain": [
       "delta_diff_ess_than_1: {l in {-2^{t - 1} + 1 .. 2^{t - 1}}} |- (-1) < (delta - (l / 2^{t}))"
      ]
     },
     "execution_count": 18,
     "metadata": {},
     "output_type": "execute_result"
    }
   ],
   "source": [
    "delta_diff_ess_than_1 = Less(Neg(one), delta_diff).prove()"
   ]
  },
  {
   "cell_type": "code",
   "execution_count": 19,
   "metadata": {},
   "outputs": [
    {
     "data": {
      "text/html": [
       "<span style=\"font-size:20px;\"><a class=\"ProveItLink\" href=\"../../../__pv_it/theorems/8bc9b38cf75c7371ab646fd064ad09fc02345f250/expr.ipynb\"><img src=\"data:image/png;base64,iVBORw0KGgoAAAANSUhEUgAAANYAAAAYBAMAAAB0Lx7ZAAAAMFBMVEX///+qqqq6urru7u4QEBBE\n",
       "RERUVFTc3NyIiIgyMjJmZmaYmJjMzMwiIiJ2dnYAAACPW0xlAAAAAXRSTlMAQObYZgAAAAlwSFlz\n",
       "AAAOxAAADsQBlSsOGwAAAeBJREFUSMdjYCAMOAugDOadDMQD8nTZwxgnemmuSxLOkqW6LiMFFG7d\n",
       "zTdk2IWmq7AAqyqOSQaoAhPJ8heqLp5UkKFv/6ApkkeyqmplDAPDZzx28VzGYg02XawJQIL7A5rK\n",
       "twgmewDDewUmBwaeUCAIx2KX2crPmFZh1cV3AUhwTcBtF1sBA4sDR4INhr+YNsACHItdWHWB7eJt\n",
       "gIi03r07Ad0uls8MbN+5Gh5j2MXYgMcurLrAdtUfAAtoNmPz1wUGtj88qw/A0tb8F8TYhVUX2K79\n",
       "kDCejC0MQd7+gC2R4bULqy6wXamoJQoDw0oUNecbyLELUxeHA5DwgNiFSEXeKGquMZBjF6Yu9o/A\n",
       "DPIdzDxyFwgCQGKZwFKDeS6IexcY4lwBmAZx3b17xffu3QTcdmHTZTYR4jcGBlO42KlgZBXbGMjx\n",
       "FzZdLxWA+RlcTPAiBMOQzXzAUE66Xdh0MQIV8m94ANbTgDUdnmNgaCbdLmy6+IDhx6/cgFZUIpdR\n",
       "t1atuoDXLj5IdDP/hBG4dIHSPPc6aNQFGWDaxfv///8J+OxiS/mZDWbcghM4dPEh264Xi1lG4QSM\n",
       "DQwkAj6s4UOMXfCyl0K7WhhoAbiwxkW9AC3sMsEaEuzLaGBZXSIDAwB4aaUFdo5x/QAAAABJRU5E\n",
       "rkJggg==\n",
       "\" style=\"display:inline;vertical-align:middle;\" /></a>, <a class=\"ProveItLink\" href=\"../../../__pv_it/_proof__non_int_delta_diff/a7e69a2c9e42546aa1563f11f9cf0b0f878790be0/expr.ipynb\"><img src=\"data:image/png;base64,iVBORw0KGgoAAAANSUhEUgAAAHsAAAAyBAMAAACOvrnoAAAAMFBMVEX///8QEBC6urrMzMxUVFRE\n",
       "RESYmJgiIiLu7u6qqqoyMjLc3NxmZmaIiIh2dnYAAABcDckaAAAAAXRSTlMAQObYZgAAAAlwSFlz\n",
       "AAAOxAAADsQBlSsOGwAAApxJREFUSMedV89rE1EQnmR3s9n83IOeCpKzl+YvMBFB6qkLCh68VPAk\n",
       "QvYgaqWpFRFBrKmnQi+JIGjwkrtF68VDLRhBwZNd8OIltFgsCaHqZve93aabb5b6IOzLzvvezn7z\n",
       "zcxbIjS0MnHj4RJrpvO8WbnDmlUHGAr3fLdWWfh1aKmJbaoMOjsFTZvieouB611oqovrM4a8q9iv\n",
       "PTHJbGD4KWhJ7YpJcgjX5Ps4JJacvcCvjmlNBKw04ctXsOQqHTlrQHrPYlY+h7K20ZoTGH4pHZCI\n",
       "uFP2MXy/IGdptCqPY0K/lmN91Ez/uv78SsR2I8ylyyPp9z5GgyNi6yRnuLTacX9tetQ5er8h9DjD\n",
       "53ytRCmbClYktiKiX3i4u0yrkhEq1Hjt62lFeLHCwl0nixukDIJILvg6rAnRaX0WXqyOdgiinF8U\n",
       "Kt722TAu/ObhFr1zSDnw/z2tB5QuiYI1y9bTRMuD//GDHFafTx4qO6QmW611mxoOJb2nq+3w/qzM\n",
       "7FHmpV/eHg1vo79y+HBzRJ0xmAwvzlGFfXcXrlmU6k92vlFmyrVwPmVSrhWhzmO+WKY2xVBH83Rf\n",
       "8rNcl4Hz7hS6xuSalREqT7jmJ71zYRVdHJNN7ztQm4z70VKdEqItIX/XNy8SrcltQB+szKEeYdFO\n",
       "6e3dH+OZFVEjaiBqhxJmQGgTZJTeQlz3SR2STKTtDniIiZ5uk7qXNMfUNaGPMYmq7+arD/zpSVSo\n",
       "B1yJyXV/+jwe/EebuEnKhzLfJug9ROesw0SAMQ11c+1QeGGL1FHgDYfeBHUaliJI/RmibyELxz2c\n",
       "ZBe2tuz4wwlyTHfrlFSkxhzsMg7FjWmmCitTsfB5zvg1Ds0eSvGRWI7TvLkdcyB/xdtjPgcee8T9\n",
       "A8CArfyCKJwVAAAAAElFTkSuQmCC\n",
       "\" style=\"display:inline;vertical-align:middle;\" /></a> <a class=\"ProveItLink\" href=\"../../../__pv_it/_proof__non_int_delta_diff/a0e2f89418e56119740a1dde6436b9e8e7d068620/proof.ipynb\" style=\"text-decoration: none\">&nbsp;&#x22A2;&nbsp;&nbsp;</a><a class=\"ProveItLink\" href=\"../../../__pv_it/_proof__non_int_delta_diff/c5a4363492a4e73c1bedbe0a0c26261e7dd8b7350/expr.ipynb\"><img src=\"data:image/png;base64,iVBORw0KGgoAAAANSUhEUgAAAJkAAAAyBAMAAAC9qWSkAAAAMFBMVEX///+6urqqqqpmZmbu7u6I\n",
       "iIgiIiIQEBDc3NwyMjJ2dnaYmJhUVFTMzMxEREQAAAC0ii6rAAAAAXRSTlMAQObYZgAAAAlwSFlz\n",
       "AAAOxAAADsQBlSsOGwAAA0xJREFUSMelV01oE0EUftls/nazSQ8VL0JztRRSKP60ggZEvYjtpeBB\n",
       "bBCpeLEpWK0imlPBiwm1SlGQXNJTsQEP4kHSkxXEJiAIntyDFg+CaYzQWmOcndmZbLuZySwOhJnM\n",
       "W77d973vvXkDgEasCoKhfgFP453Y/DHlBSxa4BiWmnhS0l7QXvEMeo3Myx7AwrM8iz9P5mBJHi04\n",
       "1s2iXJdHe8m15GisH8qj3eZaynTRl5UFCzS4pnW6iKxK08Z/coYulIYs2mduIhhbLB1+yaKt8TnI\n",
       "sOWGLNodriW2ylKqLBkGY4dripdYyo1K6jewxUfrZboOdQhVtsP/GCEnPHzX5Yw+0nbanfiBxJ6N\n",
       "fdZbTbzU4ICo7mg111Y/2i0epXxdRvCIjdFBUpXENUzfdNVQVBHm4TRx6OywJcgFJDfCTUCsdsMl\n",
       "OH8J9DRopiOhXgAkiftqXYim/qRsbUxeJXGxFMSSBKOFUlC2U+GH2NU/ZPI9oo8dRDEfBKPuQIuU\n",
       "YIJ4PpA0hWh/yXSfvXMEU07VitG0VVjBdj0fFSf2LTItso2nqPwVGJ8YTc/DCYyWyypNIdokmfJs\n",
       "4xJB++1AUzJQsSuZYaGpjyetYVEZb9mDKO0KCe0NZL2Gl9PI0wL4nN9m1Gy0HWspGgRNbZM7jaOg\n",
       "OKPgyxBP1abltISnaaenMRN0p0LQubuCY9qESEImCuNs4ytiPWOdkal2FEyYwHorwkBnlMXdVbD9\n",
       "zmX8fWeq6jbOY6sS+Qu2erXxzt2DStm0c0Fd76XNCfqdLL5HHKCPi65to14m2APJHl4LMPSsCorN\n",
       "pmorAXzP7cwK0uNEYYKeQ1nPq6oPQNsMLz2pcrJeH6TFim0dw2HuPN4C3GQ8Ke6i8M2eTzFnkHyC\n",
       "PGXcS0ElG09x6/05e2bVPobUEc1w0N4AVKr7aYvn1nZ4bzN03vJfkO1TcEElvIVMyROwLiq4hzTi\n",
       "am7sv09n1KF8eO3tdIYjXMvxXSTKjT6efHXHwSPd1QR5guuHMPVPl+64eE8aBQikuvd4kp3q3NDQ\n",
       "Ye+dKpQ7n31TrdY2XX+X76IjhW5P+BryaMZs10AlPFxmLnZ7wMvNiH9ro47mPd0o58XmT55ulN1u\n",
       "uwvSQP8AiYPY653/TccAAAAASUVORK5CYII=\n",
       "\" style=\"display:inline;vertical-align:middle;\" /></a></span>"
      ],
      "text/plain": [
       "{l in {-2^{t - 1} + 1 .. 2^{t - 1}}, 0 < (delta - (l / 2^{t}))} |- (delta - (l / 2^{t})) in (0,1)"
      ]
     },
     "execution_count": 19,
     "metadata": {},
     "output_type": "execute_result"
    }
   ],
   "source": [
    "InSet(delta_diff, IntervalOO(zero, one)).conclude(assumptions=defaults.assumptions + (Less(zero, delta_diff),))"
   ]
  },
  {
   "cell_type": "code",
   "execution_count": 20,
   "metadata": {},
   "outputs": [
    {
     "data": {
      "text/html": [
       "<span style=\"font-size:20px;\"><a class=\"ProveItLink\" href=\"../../../__pv_it/theorems/8bc9b38cf75c7371ab646fd064ad09fc02345f250/expr.ipynb\"><img src=\"data:image/png;base64,iVBORw0KGgoAAAANSUhEUgAAANYAAAAYBAMAAAB0Lx7ZAAAAMFBMVEX///+qqqq6urru7u4QEBBE\n",
       "RERUVFTc3NyIiIgyMjJmZmaYmJjMzMwiIiJ2dnYAAACPW0xlAAAAAXRSTlMAQObYZgAAAAlwSFlz\n",
       "AAAOxAAADsQBlSsOGwAAAeBJREFUSMdjYCAMOAugDOadDMQD8nTZwxgnemmuSxLOkqW6LiMFFG7d\n",
       "zTdk2IWmq7AAqyqOSQaoAhPJ8heqLp5UkKFv/6ApkkeyqmplDAPDZzx28VzGYg02XawJQIL7A5rK\n",
       "twgmewDDewUmBwaeUCAIx2KX2crPmFZh1cV3AUhwTcBtF1sBA4sDR4INhr+YNsACHItdWHWB7eJt\n",
       "gIi03r07Ad0uls8MbN+5Gh5j2MXYgMcurLrAdtUfAAtoNmPz1wUGtj88qw/A0tb8F8TYhVUX2K79\n",
       "kDCejC0MQd7+gC2R4bULqy6wXamoJQoDw0oUNecbyLELUxeHA5DwgNiFSEXeKGquMZBjF6Yu9o/A\n",
       "DPIdzDxyFwgCQGKZwFKDeS6IexcY4lwBmAZx3b17xffu3QTcdmHTZTYR4jcGBlO42KlgZBXbGMjx\n",
       "FzZdLxWA+RlcTPAiBMOQzXzAUE66Xdh0MQIV8m94ANbTgDUdnmNgaCbdLmy6+IDhx6/cgFZUIpdR\n",
       "t1atuoDXLj5IdDP/hBG4dIHSPPc6aNQFGWDaxfv///8J+OxiS/mZDWbcghM4dPEh264Xi1lG4QSM\n",
       "DQwkAj6s4UOMXfCyl0K7WhhoAbiwxkW9AC3sMsEaEuzLaGBZXSIDAwB4aaUFdo5x/QAAAABJRU5E\n",
       "rkJggg==\n",
       "\" style=\"display:inline;vertical-align:middle;\" /></a>, <a class=\"ProveItLink\" href=\"../../../__pv_it/_proof__non_int_delta_diff/8cae36ab206315ed63e4af3ff6d494d754ff5bf30/expr.ipynb\"><img src=\"data:image/png;base64,iVBORw0KGgoAAAANSUhEUgAAAHsAAAAyBAMAAACOvrnoAAAAMFBMVEX///+6urqqqqpmZmbu7u6I\n",
       "iIgiIiIQEBDc3NwyMjJ2dnaYmJhUVFTMzMxEREQAAAC0ii6rAAAAAXRSTlMAQObYZgAAAAlwSFlz\n",
       "AAAOxAAADsQBlSsOGwAAApxJREFUSMedVzuIE1EUvclOJv9JWqtMpVhF2EJWC9Ns4YImoCDIYoLr\n",
       "ij8w5SK6BNKI1RIW3cIihTaCJiAogpBFFiwsktomqcRCZdUIwWXVN2/emww7e+6wvmYuuXNm7px7\n",
       "7nkvRGJZA+LW2RKbpg98OnuFTWfaIJG67ZZ1mIW/gZmeeswmg06swNScut5k4GYFppbV9QhD3mtc\n",
       "164Kkscw/A7MpLdVEJnAe2Jj3JKRjh7jT8e0xj1WivDjh1hyw4aOypDe95iVC15k1dA9dzH8i+GR\n",
       "iLjL7mD4TkpHBrorhntC3+dDa7Tq7rX56HMg93I6S59Qc1Rv25Etbqw6wZ+enRONKSs9bvEz38vv\n",
       "/SVpG9dEb1VHF3n4MND4V0QvhJ5sJQybhZd9QxPdkF2VWuwp0VljFp6bSju9JBX8U5RkU9UVZvTd\n",
       "Hx7uTU/shkQbDrxLnZIyrD7rp/E1FSwoC0n8loSckqjEhIqsW5tK9E3tWxLepr6ebGfyjIdXnSUf\n",
       "9FcvF+6qK9PyZCzghYqC57o0ZL89AHeoE11ziy8PGLvet3j6JrRUoo5kPjegFh2IOsdhhY9X5Yem\n",
       "KtH9PSupDCfupeeX3RaZtnGPtGyeXgRq032fqi6tGn9iUUCLeVRvc+4r0VH9GN8+mN7wzUIX7REj\n",
       "6uQfXH+ORiZQ1R6Tb1C87hFaBBNlriGux5SZkB6kagO8pI7eXqPMbkRn+2gfYwbV3I5tnnHDVWTU\n",
       "PziLmak8cXn89R/bxC3Knhzw2wQdh+iZkZ8IsApQN2997YVbpIkaH23Tfc+noRVB6j8SnZ+ycNDD\n",
       "SWJpdrYWfjhBhZnCp7QiLeZgl2xT2CowLpxdCYVf5pKXwtDsoRQfifU6xKdbIQfydT4f8nfgNCbu\n",
       "H0yEq789m2pHAAAAAElFTkSuQmCC\n",
       "\" style=\"display:inline;vertical-align:middle;\" /></a> <a class=\"ProveItLink\" href=\"../../../__pv_it/_proof__non_int_delta_diff/c5fd50b7ece60981013a3a1b75d9da27843ad5d90/proof.ipynb\" style=\"text-decoration: none\">&nbsp;&#x22A2;&nbsp;&nbsp;</a><a class=\"ProveItLink\" href=\"../../../__pv_it/_proof__non_int_delta_diff/bd7c9c52118d16741aa973aebf5570a83b4e07760/expr.ipynb\"><img src=\"data:image/png;base64,iVBORw0KGgoAAAANSUhEUgAAAKkAAAAyBAMAAADVWuacAAAAMFBMVEX///+6urqqqqpmZmbu7u6I\n",
       "iIgiIiIQEBDc3NwyMjJ2dnaYmJhUVFTMzMxEREQAAAC0ii6rAAAAAXRSTlMAQObYZgAAAAlwSFlz\n",
       "AAAOxAAADsQBlSsOGwAAA1hJREFUWMOtWE1oE0EUftluNj+bTXuoeBGSq6XQQFFpBd2LBy+2IAUP\n",
       "xRYPUQ9qCv5UUZtTwYsJWqWoaC72INIGBMWDJCCooLQBQfDUHLR4KNrWCK01xtmd3UmT3TfpLM5l\n",
       "JvNmv5393vvevAkAadEScJr8BTy193zzJ90LaCSHGGaqZieNekF9iRnUFdo/9QAaHMcsbVnaK3lx\n",
       "VGWwlUU6L476ArVk7Ni4LY56BbUU7EEsLQrqr6CmeXsQKgrTij9xwR5IFVHURVRY2jqT1y9R1Lc4\n",
       "Nyk2XBJFvYpaokUm1YKgu7RN1NSeZ1IeENSBfx1H7WT6CLi4FNu+MR+l5AX7rjtWqf11MpwJxh9H\n",
       "UHcYuyibwzDs4uW78IpjqsstVz45mgY/YWsgQbMhP4eqq45cnq0PXz+yng7F5VMAUyRcKXd+vno0\n",
       "R8C2bfXfiIX6HGAW4BlAD6VHXuOiyj9tNpeSp6n/wAV1meDpENChYEnrB5+CP7Tz3bGX7XZDJe9e\n",
       "jEMoDyPU9d09ZS7qX9rdYO/ud0E1vmgxD+EizJkTajbCTyCXaTfNJu67oAZ/m35Ss3DQnMikpSoX\n",
       "NUm7uuNPYKg5kFKwYGVSzUA9nDTaGVNYNavRSD1JQ+EiMZ81h2Pkg++ay0t1BghqbBC0FQt10xjy\n",
       "GkWV6+SPId4iMeVLUQbkqkHGNhgY5TIA30l20436Yc6MgSqRxXa8NcQmvjaj6vRg7SOuL8OIGa+P\n",
       "odsdbboxC9ff3VB5kK3JG8ZpFZevEdnlLBWEh9yrItlm29KWPN9pJ5Qtqz5MPMhDkmxW7h8mcEoH\n",
       "9HRgJU3vwxJIFtuGd6m4Zi3FKs3HncQEMmlqwb3dhPBqcOZeCckuaqI5WbLRfhKXCQT1HcAlxqPk\n",
       "TD7fmn4fYh9Jwk/BImpCh4V0u46eQ0eafrPTKEqiKpJCUN8ALJR22iWuUyNBrOg7ZvDDySrnYFim\n",
       "vAbKgif3Gu8A2BOmFGQG/1uVQSqwj6+8VRmwD7UcaCBZrMUwGahbDkjh6k3BArYLgvZ3q8KVJvaE\n",
       "lgO/3rrGFazgJ3t793qv4I086xqstdqGPV4Wv22Ecq1W+CriqNp4S4fGPVwOj7da4OXGid+ObQKy\n",
       "nm7yt/jmz55u8q3+dZgSBvwHtFvY7b+Egb0AAAAASUVORK5CYII=\n",
       "\" style=\"display:inline;vertical-align:middle;\" /></a></span>"
      ],
      "text/plain": [
       "{l in {-2^{t - 1} + 1 .. 2^{t - 1}}, (delta - (l / 2^{t})) < 0} |- (delta - (l / 2^{t})) in (-1,0)"
      ]
     },
     "execution_count": 20,
     "metadata": {},
     "output_type": "execute_result"
    }
   ],
   "source": [
    "InSet(delta_diff, IntervalOO(Neg(one), zero)).prove(assumptions=defaults.assumptions + (Less(delta_diff, zero),))"
   ]
  },
  {
   "cell_type": "code",
   "execution_count": 21,
   "metadata": {},
   "outputs": [
    {
     "data": {
      "text/html": [
       "<span style=\"font-size:20px;\"> <a class=\"ProveItLink\" href=\"../../../../../../numbers/number_sets/real_numbers/_theory_nbs_/proofs/not_int_if_between_successive_int/thm_proof.ipynb\" style=\"text-decoration: none\">&nbsp;&#x22A2;&nbsp;&nbsp;</a><a class=\"ProveItLink\" href=\"../../../../../../numbers/number_sets/real_numbers/__pv_it/theorems/a33745e5fbf513df4067c987420667b91c789d4b0/expr.ipynb\"><img src=\"data:image/png;base64,iVBORw0KGgoAAAANSUhEUgAAAO4AAAAZCAMAAAABp+KxAAAARVBMVEX///8/Pz9vb28YGBgJCQkd\n",
       "HR0NDQ0WFhaIiIgiIiIQEBB2dnbu7u5ERETMzMzc3NwyMjK6urpmZmaYmJiqqqpUVFQAAAB3hJw9\n",
       "AAAAAXRSTlMAQObYZgAAAAlwSFlzAAAOxAAADsQBlSsOGwAAA2dJREFUWMPVWAeu3CAQJX3opvn+\n",
       "R81QjMHdRPnSImu1Lg/mMR1ChkeglGryMQNQXP8P+Il82nDuo+jqobf6Q+nCtS1OYvnnJzazSVIq\n",
       "GRI00NAN9XPvBuiOw18Pzy9fq1UUkEFlAZOM4Fa61lTx9QDdcfjbIW6saZWEWFtYct/pHenWTdFy\n",
       "xJjH4W+HvbEe2uSMuPNCxivTtKvvLtS5H/LdYfjbwS6cGt30z+9V+0kkq0gy6YQVle4SrqaxUDUM\n",
       "f+u5pwuYCZBNpba6srJVVLfKymgcjA9G5lH4W1suCwiAIBRfjUkn+9p5thTxKoOHla5V5fUY3Xu4\n",
       "fxvE4Gi1YkWoMQhALO1DpINdGG8eucYSdVh+TopFJrnF64TuHZw48zz6FrnsQSTK6nRIzs2CBHcc\n",
       "Qpqnjb49axwvaobvZVIQpMTHsTDmAsRZmXEMX9BEhHtDrRjISjN712B5hWhKtjVclZzp10+sKfqK\n",
       "JIuUpVZzQ9fDUaSxtjg/fqO8dqdV1SG8ott8eDZWQT0lh8qqdNPf1nBzstnkBXxYEmPKScS02kVh\n",
       "i50763CHbVeK5O23F0VkhRPEarw6NN1MfHC7p7tPa2s3Y2ZcQIhufrrxP1V4irmdttDlPu+mcCYW\n",
       "mUyTmqGLw3h1QXeBE9AkSDL5Fq2nfmKyvz2g63fbKyGrzWAsiWuudosvTP85ZqDyJBSesqWrWfYv\n",
       "LSAKh5GAmEa5Agi/ahEWeDR7lEp1aCP7icn+9oCu2dVoOZf4WQmLdE2jfdzeTdLFaJIUoKWXbRZb\n",
       "aoT6eYBi6G6Safi0k1y05rPriJrV5pwWVrQP/cSbdWz8jMUf19JVO7oqvREWlemta21dBPmjk80w\n",
       "OcUpsS2SmSc1xw0gU6nAVkSt+jRexc+4eNAAKpb6ywZdBK8Tk4PbJ8ZMqDoNdd+/YRVJz+s6TY/7\n",
       "XT2neaOnNiVJilOG3va7mhE+5bTSVB20n1jwfp1jurCvNJx90OledxdbuiZaHvBUfMglD4UQgMsp\n",
       "3Lf3FgwHEC0auehuYsV8t05LV/Np5lBB22B1elxx04zV91enGYJHjzKDpxkrelcy+Iu82yXTJw+f\n",
       "NGN1n77k8Mb2WjHitKo6gyxagpMq96YC1197VtUHuQdLvqiyv/Ak8vE589tmS/wProBdqvsL2DAz\n",
       "BRzGbx8AAAAASUVORK5CYII=\n",
       "\" style=\"display:inline;vertical-align:middle;\" /></a></span>"
      ],
      "text/plain": [
       "|- forall_{n in Integer} [forall_{x in (n,n + 1)} (x not-in Integer)]"
      ]
     },
     "execution_count": 21,
     "metadata": {},
     "output_type": "execute_result"
    }
   ],
   "source": [
    "not_int_if_between_successive_int"
   ]
  },
  {
   "cell_type": "code",
   "execution_count": 22,
   "metadata": {},
   "outputs": [
    {
     "data": {
      "text/html": [
       "<strong id=\"zero_plus_one_is_one\">zero_plus_one_is_one:</strong> <span style=\"font-size:20px;\"> <a class=\"ProveItLink\" href=\"../../../__pv_it/_proof__non_int_delta_diff/01a951206484f541ebf606266edd6dd5e8acfd8f0/proof.ipynb\" style=\"text-decoration: none\">&nbsp;&#x22A2;&nbsp;&nbsp;</a><a class=\"ProveItLink\" href=\"../../../__pv_it/_proof__non_int_delta_diff/eb4e7c539afca3e597451efd3d242d45f27c4f880/expr.ipynb\"><img src=\"data:image/png;base64,iVBORw0KGgoAAAANSUhEUgAAAGAAAAAVBAMAAABLWfZ5AAAAMFBMVEX////MzMxUVFRERES6uroi\n",
       "IiIQEBCYmJhmZmYyMjLu7u52dnaqqqqIiIjc3NwAAACW8nlqAAAAAXRSTlMAQObYZgAAAAlwSFlz\n",
       "AAAOxAAADsQBlSsOGwAAAS1JREFUOMtjYGB4wIAd4BLnPYBDwheH+GkGBu69fWiCjFFAkwow1IKE\n",
       "uSYwMMxhWIpq/6LOX0ByFrp6sDBHAQN7AAO3AUTIHeZOkIYKTOcDhdkYGJgVGHh+QUTOImtgW4BN\n",
       "w0kGBv4GBsY/WDRwFmDT0M3AsB6o4TsWDdwK2DRMZ2B4v4GB8S8WDewTQEyOUDBQgAnHQDT8xqKB\n",
       "JwGbDSlAJ21gYAHZ0BoamhYaGgTXwPgBhwagp3mweZoFqw1AJzEbMLBjC1aeAGx+sAV6LoGBYwI2\n",
       "Txtgs2ETA8iWZQKoGrj/gczegK4BJCwKpFfsVWRA0cCk9lOdgYHVAU09WJhVAFnoLDLnKdbUzd6A\n",
       "zHNH5rRjzw92OPIJA58BdvHFuDQw48ijfBdwaLiHVRQAGpFa+7QueD8AAAAASUVORK5CYII=\n",
       "\" style=\"display:inline;vertical-align:middle;\" /></a></span><br>"
      ],
      "text/plain": [
       "zero_plus_one_is_one: |- (0 + 1) = 1"
      ]
     },
     "execution_count": 22,
     "metadata": {},
     "output_type": "execute_result"
    }
   ],
   "source": [
    "zero_plus_one_is_one = Equals(Add(zero, one), one).prove()"
   ]
  },
  {
   "cell_type": "code",
   "execution_count": 23,
   "metadata": {},
   "outputs": [
    {
     "data": {
      "text/html": [
       "<strong id=\"neg_one_plus_one_is_zero\">neg_one_plus_one_is_zero:</strong> <span style=\"font-size:20px;\"> <a class=\"ProveItLink\" href=\"../../../__pv_it/_proof__non_int_delta_diff/704390d2c704112fb5fe5f64cea3f94b459e223d0/proof.ipynb\" style=\"text-decoration: none\">&nbsp;&#x22A2;&nbsp;&nbsp;</a><a class=\"ProveItLink\" href=\"../../../__pv_it/_proof__non_int_delta_diff/af376a1b8c152f05d6f34f5543860525478d3c050/expr.ipynb\"><img src=\"data:image/png;base64,iVBORw0KGgoAAAANSUhEUgAAAHMAAAAVBAMAAACHwMySAAAAMFBMVEX////MzMxUVFRERES6uroi\n",
       "IiIQEBCYmJhmZmYyMjLu7u52dnaqqqqIiIjc3NwAAACW8nlqAAAAAXRSTlMAQObYZgAAAAlwSFlz\n",
       "AAAOxAAADsQBlSsOGwAAATpJREFUOMtjYGB4wIAf8OGU4T1AQCvLBVwyp5HYjFHosqILGBiuY2ra\n",
       "fQPoVq4JCIFFnb9QVXBpzAdq5VyArpPzAFccAwNHAbLjYVpZYKL3gdrYG9C1ljIwbGZgYGPAppXn\n",
       "ApJWhix0rUYMDOcXMJwkQut0dK0/GBjkDzB0E6F1E5pOLpDWAlQTcWitBDNbQ0EgCBTTv4FaLzDE\n",
       "EKH1GHoiAWndwJACZK4EmxcI08oRGhqWGhqqANcqj+5goFb/C2CthGx1wxJM5w8Q5eCjaH5lMGZg\n",
       "qF/AYEuE1mJ0W8sYGDrRAp77H7rW/aB81Y2ulfUAVyIwfSOJMKn9VEfVqpQ/CZgkQ9C1cnVfEgAa\n",
       "IIAtO/EgZzS+AOx5DjNtoyR/cGQV4MivdgyEwGNcEosJasVpON8FAjp5cRReAINFZHkB2X6VAAAA\n",
       "AElFTkSuQmCC\n",
       "\" style=\"display:inline;vertical-align:middle;\" /></a></span><br>"
      ],
      "text/plain": [
       "neg_one_plus_one_is_zero: |- (-1 + 1) = 0"
      ]
     },
     "execution_count": 23,
     "metadata": {},
     "output_type": "execute_result"
    }
   ],
   "source": [
    "neg_one_plus_one_is_zero = Equals(Add(Neg(one), one), zero).prove()"
   ]
  },
  {
   "cell_type": "code",
   "execution_count": 24,
   "metadata": {},
   "outputs": [
    {
     "data": {
      "text/html": [
       "<strong id=\"not_in_ints_eq_01\">not_in_ints_eq_01:</strong> <span style=\"font-size:20px;\"> <a class=\"ProveItLink\" href=\"../../../__pv_it/_proof__non_int_delta_diff/78277b96d1eab9f84e17d7e990917431d0689bac0/proof.ipynb\" style=\"text-decoration: none\">&nbsp;&#x22A2;&nbsp;&nbsp;</a><a class=\"ProveItLink\" href=\"../../../__pv_it/_proof__non_int_delta_diff/c9e918fac35fe78a94b0359c9ad18622d11ac6aa0/expr.ipynb\"><img src=\"data:image/png;base64,iVBORw0KGgoAAAANSUhEUgAAAI8AAAAXCAMAAAAFiOyPAAAAP1BMVEX///9jY2MJCQkdHR0NDQ0W\n",
       "FhaIiIgiIiIQEBB2dnbu7u5ERETMzMzc3NwyMjK6urpmZmaYmJiqqqpUVFQAAABqwkwZAAAAAXRS\n",
       "TlMAQObYZgAAAAlwSFlzAAAOxAAADsQBlSsOGwAAAn1JREFUSMe9Voly4yAMZduuuG///7cWAeby\n",
       "kWzHXcaTSQSRHk9Psgj5haV/tKvJLy0It9tG7N+CYRszklLJPCEW0BbbueCfgRP47bbqEUFGhQDz\n",
       "k34iAGcb7mcIE+Z+vwckzlUYPDTmGlwtn6HHvaCZ9q8RGRASn7y8G9LJwzN42J2yJP37RRuBObJT\n",
       "JGct/zdZfL2PeUg9136sAdFjdzkp1ySDWBjFxfhD6ap+BEAUig+sa8zEQV1S4FMXj4WwYr++85XS\n",
       "4aSaK93pzhCBuC6XXC8eDsU4mDyi1XH/uFg+VwTn0CkU3uxRV7kWQnwK7reUnq5uMzefZhwYC2yn\n",
       "httDn4AoJVpFhoq3sLLtQbm3PWSZFUfIuZtyo1AXnx/pQ06ts0QuMNWWUcGJmp1TU8Ng+HNriQt0\n",
       "bbYznvx1yk0u6qWIk622mVz6xLJK2p5DAKfTU3vl0DD0hoFZWPEcugRtBovohZj80PlwKrYCRGyj\n",
       "Vx7qNUGTKIkJrUPlsihM4gnqVzxhVZCEcnFLIl52yCcAsfPpVOjVEos7X8JqVtXss7+UGdvpKaIp\n",
       "eHoGdjx27eq5ZEnYlHAJjx3pM2FpPkm4mQgtg5yaxXCuSMQbmVdyF2LP13bIl1rxqLwhXGIjOD9l\n",
       "U8QPO8rNMmlYCpJe8rIAoceqYnkQUZ3nGvFCz4d8EaquG8cfnoYLetnB9SIvzQg3palIsbwAAes9\n",
       "USX4hAcOLdG7NyafN1/FDiwHKClt15SFlNQPHc4DWGOam43DsDmp4nIAfDFB3O4LjvqxJz0vrE1l\n",
       "/eeV21cThHxzAHPTuUmS7syFhnM/8cWY+/Y8yEcI/vBm+/9L/KP95+sbFv4bSIIR9koAAAAASUVO\n",
       "RK5CYII=\n",
       "\" style=\"display:inline;vertical-align:middle;\" /></a></span><br>"
      ],
      "text/plain": [
       "not_in_ints_eq_01: |- forall_{x in (0,1)} (x not-in Integer)"
      ]
     },
     "execution_count": 24,
     "metadata": {},
     "output_type": "execute_result"
    }
   ],
   "source": [
    "not_in_ints_eq_01 = not_int_if_between_successive_int.instantiate({n: zero})"
   ]
  },
  {
   "cell_type": "code",
   "execution_count": 25,
   "metadata": {},
   "outputs": [
    {
     "data": {
      "text/html": [
       "<strong id=\"not_in_ints_eq_02\">not_in_ints_eq_02:</strong> <span style=\"font-size:20px;\"> <a class=\"ProveItLink\" href=\"../../../__pv_it/_proof__non_int_delta_diff/3f851f8459b3a9649d02f17a06269891eb5013c00/proof.ipynb\" style=\"text-decoration: none\">&nbsp;&#x22A2;&nbsp;&nbsp;</a><a class=\"ProveItLink\" href=\"../../../__pv_it/_proof__non_int_delta_diff/b507677e2f150d9bd739d5992267e63c59347ebe0/expr.ipynb\"><img src=\"data:image/png;base64,iVBORw0KGgoAAAANSUhEUgAAAJwAAAAXCAMAAADJEdZkAAAARVBMVEX///8/Pz9vb28YGBgJCQkd\n",
       "HR0NDQ0WFhaIiIgiIiIQEBB2dnbu7u5ERETMzMzc3NwyMjK6urpmZmaYmJiqqqpUVFQAAAB3hJw9\n",
       "AAAAAXRSTlMAQObYZgAAAAlwSFlzAAAOxAAADsQBlSsOGwAAAn1JREFUSMe9VomynSAMpXtkX/3/\n",
       "Ty0JCCjqtZ3ajPPGF3LD4SQ5wtjbZv5q1bD/YRBvl63c3qLlK7dqWRQPjDlAX2pxMbyALYrbZd23\n",
       "B5U0oqUn/4tovGuHeIFKae/X++7M+4pJxMZpw27UC8T5D9VY+mtCbqTChyz4oeoivgCO3zRjbq9f\n",
       "PzuzBMNrRsWl32ZPqIezb3TcZVJnIe/dgPQW1L61GQLjCxoXb1S1JpUASWrRi2OoXlNHKolPNZEK\n",
       "lcV/TcCTUYEzoahVyWxAAuaX/fAFmEZ7cAWEbtL258KCm4YwDGcWAkRFMPV7oSpkKGGVLLXxsAeR\n",
       "a94hb+QbaWICoCEphV6Z5iXoY4ZndThhbm4MXrJiafxYQk2t9ON7Vty9XhcYBbNeCSKcjIP3etai\n",
       "fqoOjmPcak6IaODodSxhkYuDPmRnlTNSFeZ4pXMrNYA3+akCPWnRCTizIiQeT8VoaR6H8KXc5Twk\n",
       "zqNbUMl13EPEemgwLClmY1NCGqxbcJrALXiWOHWdgkKJYwlp6HUH7IV9eNaQ6kkleSgYDK9tFShf\n",
       "rpPrxDn1ABwVbY4kNWBx1dJncG5gNhNwELnc+USRUVHtdGiIW8uQW0WW00XaQKvNzFlZ10gx0+RQ\n",
       "mPSZqOjDWHWZ1LddizquLM/p89VEFVTLPKOc7lK6V0DfMzcMxFxWtuhLgfr6JX+/luvvkjm0pOFM\n",
       "2CJYgyZfD4QUW/ukrZGOEukf3OQe3hk8OAFQKt/OrKbvgxF2FYA0xyLCXp4HnvseXYJu16XABnPn\n",
       "4toZnMTrmOZqj0+XIPXwdukv45z8GGbg/Kfpw5f68c1XXLVHuP0C/yeT/yjmD+03YxcgI/9OOpMA\n",
       "AAAASUVORK5CYII=\n",
       "\" style=\"display:inline;vertical-align:middle;\" /></a></span><br>"
      ],
      "text/plain": [
       "not_in_ints_eq_02: |- forall_{x in (-1,0)} (x not-in Integer)"
      ]
     },
     "execution_count": 25,
     "metadata": {},
     "output_type": "execute_result"
    }
   ],
   "source": [
    "not_in_ints_eq_02 = not_int_if_between_successive_int.instantiate({n: Neg(one)})"
   ]
  },
  {
   "cell_type": "code",
   "execution_count": 26,
   "metadata": {},
   "outputs": [
    {
     "data": {
      "text/html": [
       "<strong id=\"not_in_ints_assuming_positive\">not_in_ints_assuming_positive:</strong> <span style=\"font-size:20px;\"><a class=\"ProveItLink\" href=\"../../../__pv_it/theorems/8bc9b38cf75c7371ab646fd064ad09fc02345f250/expr.ipynb\"><img src=\"data:image/png;base64,iVBORw0KGgoAAAANSUhEUgAAANYAAAAYBAMAAAB0Lx7ZAAAAMFBMVEX///+qqqq6urru7u4QEBBE\n",
       "RERUVFTc3NyIiIgyMjJmZmaYmJjMzMwiIiJ2dnYAAACPW0xlAAAAAXRSTlMAQObYZgAAAAlwSFlz\n",
       "AAAOxAAADsQBlSsOGwAAAeBJREFUSMdjYCAMOAugDOadDMQD8nTZwxgnemmuSxLOkqW6LiMFFG7d\n",
       "zTdk2IWmq7AAqyqOSQaoAhPJ8heqLp5UkKFv/6ApkkeyqmplDAPDZzx28VzGYg02XawJQIL7A5rK\n",
       "twgmewDDewUmBwaeUCAIx2KX2crPmFZh1cV3AUhwTcBtF1sBA4sDR4INhr+YNsACHItdWHWB7eJt\n",
       "gIi03r07Ad0uls8MbN+5Gh5j2MXYgMcurLrAdtUfAAtoNmPz1wUGtj88qw/A0tb8F8TYhVUX2K79\n",
       "kDCejC0MQd7+gC2R4bULqy6wXamoJQoDw0oUNecbyLELUxeHA5DwgNiFSEXeKGquMZBjF6Yu9o/A\n",
       "DPIdzDxyFwgCQGKZwFKDeS6IexcY4lwBmAZx3b17xffu3QTcdmHTZTYR4jcGBlO42KlgZBXbGMjx\n",
       "FzZdLxWA+RlcTPAiBMOQzXzAUE66Xdh0MQIV8m94ANbTgDUdnmNgaCbdLmy6+IDhx6/cgFZUIpdR\n",
       "t1atuoDXLj5IdDP/hBG4dIHSPPc6aNQFGWDaxfv///8J+OxiS/mZDWbcghM4dPEh264Xi1lG4QSM\n",
       "DQwkAj6s4UOMXfCyl0K7WhhoAbiwxkW9AC3sMsEaEuzLaGBZXSIDAwB4aaUFdo5x/QAAAABJRU5E\n",
       "rkJggg==\n",
       "\" style=\"display:inline;vertical-align:middle;\" /></a>, <a class=\"ProveItLink\" href=\"../../../__pv_it/_proof__non_int_delta_diff/a7e69a2c9e42546aa1563f11f9cf0b0f878790be0/expr.ipynb\"><img src=\"data:image/png;base64,iVBORw0KGgoAAAANSUhEUgAAAHsAAAAyBAMAAACOvrnoAAAAMFBMVEX///8QEBC6urrMzMxUVFRE\n",
       "RESYmJgiIiLu7u6qqqoyMjLc3NxmZmaIiIh2dnYAAABcDckaAAAAAXRSTlMAQObYZgAAAAlwSFlz\n",
       "AAAOxAAADsQBlSsOGwAAApxJREFUSMedV89rE1EQnmR3s9n83IOeCpKzl+YvMBFB6qkLCh68VPAk\n",
       "QvYgaqWpFRFBrKmnQi+JIGjwkrtF68VDLRhBwZNd8OIltFgsCaHqZve93aabb5b6IOzLzvvezn7z\n",
       "zcxbIjS0MnHj4RJrpvO8WbnDmlUHGAr3fLdWWfh1aKmJbaoMOjsFTZvieouB611oqovrM4a8q9iv\n",
       "PTHJbGD4KWhJ7YpJcgjX5Ps4JJacvcCvjmlNBKw04ctXsOQqHTlrQHrPYlY+h7K20ZoTGH4pHZCI\n",
       "uFP2MXy/IGdptCqPY0K/lmN91Ez/uv78SsR2I8ylyyPp9z5GgyNi6yRnuLTacX9tetQ5er8h9DjD\n",
       "53ytRCmbClYktiKiX3i4u0yrkhEq1Hjt62lFeLHCwl0nixukDIJILvg6rAnRaX0WXqyOdgiinF8U\n",
       "Kt722TAu/ObhFr1zSDnw/z2tB5QuiYI1y9bTRMuD//GDHFafTx4qO6QmW611mxoOJb2nq+3w/qzM\n",
       "7FHmpV/eHg1vo79y+HBzRJ0xmAwvzlGFfXcXrlmU6k92vlFmyrVwPmVSrhWhzmO+WKY2xVBH83Rf\n",
       "8rNcl4Hz7hS6xuSalREqT7jmJ71zYRVdHJNN7ztQm4z70VKdEqItIX/XNy8SrcltQB+szKEeYdFO\n",
       "6e3dH+OZFVEjaiBqhxJmQGgTZJTeQlz3SR2STKTtDniIiZ5uk7qXNMfUNaGPMYmq7+arD/zpSVSo\n",
       "B1yJyXV/+jwe/EebuEnKhzLfJug9ROesw0SAMQ11c+1QeGGL1FHgDYfeBHUaliJI/RmibyELxz2c\n",
       "ZBe2tuz4wwlyTHfrlFSkxhzsMg7FjWmmCitTsfB5zvg1Ds0eSvGRWI7TvLkdcyB/xdtjPgcee8T9\n",
       "A8CArfyCKJwVAAAAAElFTkSuQmCC\n",
       "\" style=\"display:inline;vertical-align:middle;\" /></a> <a class=\"ProveItLink\" href=\"../../../__pv_it/_proof__non_int_delta_diff/b75005e4b810607192dccd010be7bf462dfe623b0/proof.ipynb\" style=\"text-decoration: none\">&nbsp;&#x22A2;&nbsp;&nbsp;</a><a class=\"ProveItLink\" href=\"../../../__pv_it/theorems/a66c269a4d605ffeaf8fb47ca185543aea1e807b0/expr.ipynb\"><img src=\"data:image/png;base64,iVBORw0KGgoAAAANSUhEUgAAAHwAAAAyCAMAAACpkk+QAAAAP1BMVEX///9jY2MJCQkdHR0NDQ0W\n",
       "Fha6urqqqqpmZmbu7u6IiIgiIiIQEBDc3NwyMjJ2dnaYmJhUVFTMzMxEREQAAACk4BqVAAAAAXRS\n",
       "TlMAQObYZgAAAAlwSFlzAAAOxAAADsQBlSsOGwAAAshJREFUWMOtWFeyIyEMZN/bJSPi/c+6gMMM\n",
       "GAckUy5/jAs3tLoVhrHbyomhl8qKUVYMlN3JUNCj39zgTTlTJQweO8D+ljIeJmKxnXXbe+R0XoON\n",
       "m9H0PcLiwh4sgqwyuwMkCtx6Rg15Xbw4BLYuCMJifngEGM0ZzCb7KBOBuEQqiNyWFhyrsq/baDGh\n",
       "Wm3K+5nGYljPkamFCN02gZjsUDf5Be9hW+sYhxSu9MckPgfIQ/ScBJs/OE2Q/vOgwxEhAbZYyMZk\n",
       "21iyg2HrX/KILo++LAN74kPn2LwF/VPjNGTFSOoKQuGrEnR6KDuarooRXW9D7HSkgKel08+xiK43\n",
       "Pu3T05IYBSsI4BONnWbz7685qm8nVibWya9MjfktFwrxZSSOg1ZXnFEDSS6cJqIomQI+bHZN5uqh\n",
       "Sard5rXh9Oebtm4qUq5uByRo9wqzDIS/P5MnLNdYEIXQQ5vB6DCZ/P70dsRYphp9FDkF5lj3E5WH\n",
       "dQY/Z6xk677fn/p1DoYWzPOr9s7gPTWnQoj5AN7t5MU8XzCXb6470a76nRFd9DPazWTyDpkuXq9o\n",
       "TXCH2js4UIw+Ck5rxifjV49dH0XTrHboy+tmth0wcC/LGojZ5NVjXYEuizwlGa+138tos8/Hi6r4\n",
       "wwexc5tr1cy5lrbsm7P4dssuJVxmWgHzYaazhz++lk8DX2tkulh9PbPzBnx6WVjgTcIqu4PGRazW\n",
       "LsQ5VambqV64Y9datpszNpfMmXhuyfw752x3ztFcMmOq8pl/mgT41jkBV0hM6Z2HGmJudytiQrUP\n",
       "XVpSM6+GyXV7ZLHo+S7JkGhDA5OIcUnm52rYWnw/zYQ1WQXzgmPX6aLlMee+It3dTannUK2+Mudv\n",
       "vhZxRrZlvvNaZPPq5tI8wWJqRi3wjLw4tutN1pHBDboD0pmK7QlDXiQSzyltJ61vZAloL9xJL/tx\n",
       "2P8BWNgiw2LnJPcAAAAASUVORK5CYII=\n",
       "\" style=\"display:inline;vertical-align:middle;\" /></a></span><br>"
      ],
      "text/plain": [
       "not_in_ints_assuming_positive: {l in {-2^{t - 1} + 1 .. 2^{t - 1}}, 0 < (delta - (l / 2^{t}))} |- (delta - (l / 2^{t})) not-in Integer"
      ]
     },
     "execution_count": 26,
     "metadata": {},
     "output_type": "execute_result"
    }
   ],
   "source": [
    "not_in_ints_assuming_positive = not_in_ints_eq_01.instantiate(\n",
    "    {x: delta_diff}, assumptions=defaults.assumptions + (Less(zero, delta_diff),))"
   ]
  },
  {
   "cell_type": "code",
   "execution_count": 27,
   "metadata": {},
   "outputs": [
    {
     "data": {
      "text/html": [
       "<strong id=\"not_in_ints_assuming_negative\">not_in_ints_assuming_negative:</strong> <span style=\"font-size:20px;\"><a class=\"ProveItLink\" href=\"../../../__pv_it/theorems/8bc9b38cf75c7371ab646fd064ad09fc02345f250/expr.ipynb\"><img src=\"data:image/png;base64,iVBORw0KGgoAAAANSUhEUgAAANYAAAAYBAMAAAB0Lx7ZAAAAMFBMVEX///+qqqq6urru7u4QEBBE\n",
       "RERUVFTc3NyIiIgyMjJmZmaYmJjMzMwiIiJ2dnYAAACPW0xlAAAAAXRSTlMAQObYZgAAAAlwSFlz\n",
       "AAAOxAAADsQBlSsOGwAAAeBJREFUSMdjYCAMOAugDOadDMQD8nTZwxgnemmuSxLOkqW6LiMFFG7d\n",
       "zTdk2IWmq7AAqyqOSQaoAhPJ8heqLp5UkKFv/6ApkkeyqmplDAPDZzx28VzGYg02XawJQIL7A5rK\n",
       "twgmewDDewUmBwaeUCAIx2KX2crPmFZh1cV3AUhwTcBtF1sBA4sDR4INhr+YNsACHItdWHWB7eJt\n",
       "gIi03r07Ad0uls8MbN+5Gh5j2MXYgMcurLrAdtUfAAtoNmPz1wUGtj88qw/A0tb8F8TYhVUX2K79\n",
       "kDCejC0MQd7+gC2R4bULqy6wXamoJQoDw0oUNecbyLELUxeHA5DwgNiFSEXeKGquMZBjF6Yu9o/A\n",
       "DPIdzDxyFwgCQGKZwFKDeS6IexcY4lwBmAZx3b17xffu3QTcdmHTZTYR4jcGBlO42KlgZBXbGMjx\n",
       "FzZdLxWA+RlcTPAiBMOQzXzAUE66Xdh0MQIV8m94ANbTgDUdnmNgaCbdLmy6+IDhx6/cgFZUIpdR\n",
       "t1atuoDXLj5IdDP/hBG4dIHSPPc6aNQFGWDaxfv///8J+OxiS/mZDWbcghM4dPEh264Xi1lG4QSM\n",
       "DQwkAj6s4UOMXfCyl0K7WhhoAbiwxkW9AC3sMsEaEuzLaGBZXSIDAwB4aaUFdo5x/QAAAABJRU5E\n",
       "rkJggg==\n",
       "\" style=\"display:inline;vertical-align:middle;\" /></a>, <a class=\"ProveItLink\" href=\"../../../__pv_it/_proof__non_int_delta_diff/8cae36ab206315ed63e4af3ff6d494d754ff5bf30/expr.ipynb\"><img src=\"data:image/png;base64,iVBORw0KGgoAAAANSUhEUgAAAHsAAAAyBAMAAACOvrnoAAAAMFBMVEX///+6urqqqqpmZmbu7u6I\n",
       "iIgiIiIQEBDc3NwyMjJ2dnaYmJhUVFTMzMxEREQAAAC0ii6rAAAAAXRSTlMAQObYZgAAAAlwSFlz\n",
       "AAAOxAAADsQBlSsOGwAAApxJREFUSMedVzuIE1EUvclOJv9JWqtMpVhF2EJWC9Ns4YImoCDIYoLr\n",
       "ij8w5SK6BNKI1RIW3cIihTaCJiAogpBFFiwsktomqcRCZdUIwWXVN2/emww7e+6wvmYuuXNm7px7\n",
       "7nkvRGJZA+LW2RKbpg98OnuFTWfaIJG67ZZ1mIW/gZmeeswmg06swNScut5k4GYFppbV9QhD3mtc\n",
       "164Kkscw/A7MpLdVEJnAe2Jj3JKRjh7jT8e0xj1WivDjh1hyw4aOypDe95iVC15k1dA9dzH8i+GR\n",
       "iLjL7mD4TkpHBrorhntC3+dDa7Tq7rX56HMg93I6S59Qc1Rv25Etbqw6wZ+enRONKSs9bvEz38vv\n",
       "/SVpG9dEb1VHF3n4MND4V0QvhJ5sJQybhZd9QxPdkF2VWuwp0VljFp6bSju9JBX8U5RkU9UVZvTd\n",
       "Hx7uTU/shkQbDrxLnZIyrD7rp/E1FSwoC0n8loSckqjEhIqsW5tK9E3tWxLepr6ebGfyjIdXnSUf\n",
       "9FcvF+6qK9PyZCzghYqC57o0ZL89AHeoE11ziy8PGLvet3j6JrRUoo5kPjegFh2IOsdhhY9X5Yem\n",
       "KtH9PSupDCfupeeX3RaZtnGPtGyeXgRq032fqi6tGn9iUUCLeVRvc+4r0VH9GN8+mN7wzUIX7REj\n",
       "6uQfXH+ORiZQ1R6Tb1C87hFaBBNlriGux5SZkB6kagO8pI7eXqPMbkRn+2gfYwbV3I5tnnHDVWTU\n",
       "PziLmak8cXn89R/bxC3Knhzw2wQdh+iZkZ8IsApQN2997YVbpIkaH23Tfc+noRVB6j8SnZ+ycNDD\n",
       "SWJpdrYWfjhBhZnCp7QiLeZgl2xT2CowLpxdCYVf5pKXwtDsoRQfifU6xKdbIQfydT4f8nfgNCbu\n",
       "H0yEq789m2pHAAAAAElFTkSuQmCC\n",
       "\" style=\"display:inline;vertical-align:middle;\" /></a> <a class=\"ProveItLink\" href=\"../../../__pv_it/_proof__non_int_delta_diff/1b256ddbb92345734678976da4ad21fea1d118730/proof.ipynb\" style=\"text-decoration: none\">&nbsp;&#x22A2;&nbsp;&nbsp;</a><a class=\"ProveItLink\" href=\"../../../__pv_it/theorems/a66c269a4d605ffeaf8fb47ca185543aea1e807b0/expr.ipynb\"><img src=\"data:image/png;base64,iVBORw0KGgoAAAANSUhEUgAAAHwAAAAyCAMAAACpkk+QAAAAP1BMVEX///9jY2MJCQkdHR0NDQ0W\n",
       "Fha6urqqqqpmZmbu7u6IiIgiIiIQEBDc3NwyMjJ2dnaYmJhUVFTMzMxEREQAAACk4BqVAAAAAXRS\n",
       "TlMAQObYZgAAAAlwSFlzAAAOxAAADsQBlSsOGwAAAshJREFUWMOtWFeyIyEMZN/bJSPi/c+6gMMM\n",
       "GAckUy5/jAs3tLoVhrHbyomhl8qKUVYMlN3JUNCj39zgTTlTJQweO8D+ljIeJmKxnXXbe+R0XoON\n",
       "m9H0PcLiwh4sgqwyuwMkCtx6Rg15Xbw4BLYuCMJifngEGM0ZzCb7KBOBuEQqiNyWFhyrsq/baDGh\n",
       "Wm3K+5nGYljPkamFCN02gZjsUDf5Be9hW+sYhxSu9MckPgfIQ/ScBJs/OE2Q/vOgwxEhAbZYyMZk\n",
       "21iyg2HrX/KILo++LAN74kPn2LwF/VPjNGTFSOoKQuGrEnR6KDuarooRXW9D7HSkgKel08+xiK43\n",
       "Pu3T05IYBSsI4BONnWbz7685qm8nVibWya9MjfktFwrxZSSOg1ZXnFEDSS6cJqIomQI+bHZN5uqh\n",
       "Sard5rXh9Oebtm4qUq5uByRo9wqzDIS/P5MnLNdYEIXQQ5vB6DCZ/P70dsRYphp9FDkF5lj3E5WH\n",
       "dQY/Z6xk677fn/p1DoYWzPOr9s7gPTWnQoj5AN7t5MU8XzCXb6470a76nRFd9DPazWTyDpkuXq9o\n",
       "TXCH2js4UIw+Ck5rxifjV49dH0XTrHboy+tmth0wcC/LGojZ5NVjXYEuizwlGa+138tos8/Hi6r4\n",
       "wwexc5tr1cy5lrbsm7P4dssuJVxmWgHzYaazhz++lk8DX2tkulh9PbPzBnx6WVjgTcIqu4PGRazW\n",
       "LsQ5VambqV64Y9datpszNpfMmXhuyfw752x3ztFcMmOq8pl/mgT41jkBV0hM6Z2HGmJudytiQrUP\n",
       "XVpSM6+GyXV7ZLHo+S7JkGhDA5OIcUnm52rYWnw/zYQ1WQXzgmPX6aLlMee+It3dTannUK2+Mudv\n",
       "vhZxRrZlvvNaZPPq5tI8wWJqRi3wjLw4tutN1pHBDboD0pmK7QlDXiQSzyltJ61vZAloL9xJL/tx\n",
       "2P8BWNgiw2LnJPcAAAAASUVORK5CYII=\n",
       "\" style=\"display:inline;vertical-align:middle;\" /></a></span><br>"
      ],
      "text/plain": [
       "not_in_ints_assuming_negative: {l in {-2^{t - 1} + 1 .. 2^{t - 1}}, (delta - (l / 2^{t})) < 0} |- (delta - (l / 2^{t})) not-in Integer"
      ]
     },
     "execution_count": 27,
     "metadata": {},
     "output_type": "execute_result"
    }
   ],
   "source": [
    "not_in_ints_assuming_negative = not_in_ints_eq_02.instantiate(\n",
    "    {x: delta_diff}, assumptions=defaults.assumptions + (Less(delta_diff, zero),))"
   ]
  },
  {
   "cell_type": "code",
   "execution_count": 28,
   "metadata": {},
   "outputs": [
    {
     "data": {
      "text/html": [
       "<span style=\"font-size:20px;\"> <a class=\"ProveItLink\" href=\"../_delta_not_eq_scaledNonzeroInt/thm_proof.ipynb\" style=\"text-decoration: none\">&nbsp;&#x22A2;&nbsp;&nbsp;</a><a class=\"ProveItLink\" href=\"../../../__pv_it/theorems/baf9bbb674657ae523bf17762221938dc74763510/expr.ipynb\"><img src=\"data:image/png;base64,iVBORw0KGgoAAAANSUhEUgAAALUAAAAyCAMAAAAtOGr7AAAARVBMVEX///8NDQ0WFhYLCwsYGBg2\n",
       "NjYbGxsSEhKIiIgiIiIQEBB2dnbu7u5ERETMzMzc3NwyMjK6urpmZmaYmJiqqqpUVFQAAAA0WiBi\n",
       "AAAAAXRSTlMAQObYZgAAAAlwSFlzAAAOxAAADsQBlSsOGwAAA59JREFUaN7FWody4yAQ5Tq9w/9/\n",
       "6gGSbJoUg2XCJM6MhxWP3bdVAWDdYvwtccooWL+cefMBHK2H7ci4DEE+t49Fq0EbOSXly1u4taAF\n",
       "FjNiurorMktRI3iLmMUrqW3wnIV8HXakXogaE3ADrcNSXiwDDf2cYR1rvpLrHBJNHoVbb7B+FbO5\n",
       "55NyLR2oh4tQOzxJrJ4cW5Vq8CRBmAO046FiEUEmc0OQIx2KmEURZFI7XlF4n+VGDV3SU2iJWXsP\n",
       "3SGDJifEfgK3n9I8LqNuQKJcA5GzlwvBkHq0esTvD7Gc+jILO/pey2C8AvxQtmAfc8aSnLDHS+7G\n",
       "nif3qxP7IdTW20r3nZOYGLOd2eksP+WMps6MrE3KaiQu+LgZo7gmq7LxwGed9Q0Zh3wqieukis81\n",
       "wKRQbezE3OMbnTSGfv+Kn6/qG0daCHd8vNISnbLtXCRHLaLibc2ZsfCF0KFmkgIgdb4qexjR4Sfj\n",
       "ZIYz37zJEwJbohXPTBVzXQOqRhe+WTnqlLUsfPii3f5y6BgLOFDQAaGQdlEfm8HDVCY8SLFL1KmI\n",
       "4P4dVe+oA2Szh9QthWq96yIcwa3Ic2aOKcu3Lp2Lo1hTdOQMoUnLzylD4vXPHxu73RBDQqg+gjaK\n",
       "hoamIHJhvhw1eqRVRTbOxqdg23hjdo+EWpZb5GAgwHIfVrhDFfEjR2aE5Seo02bN4voXfk0wPO2N\n",
       "LGDOYgJj7Cuz0Fdtd02gA63jGVNVdmyoFEv3Yj1a78bZUDe9XpllCKwd9itV07pRr+qajalGJv0x\n",
       "m+ozEp5JaQ/1g9aHcTaGNPnaenWZ8PvpTWgtt4rKyvoWlQRS4Vz+/FJZHtVIuqjT5siQv39YYsiJ\n",
       "N37RyvRVnWo5Eu4rCJKEX1VjwANYpEmSXFGhLkO2zXm5BmG3ovBXxDV9Ve9BCbe+21RjQEOV7nkE\n",
       "PuccJCwfnLB6c1ELhCzTaUnQVWF2MpPGiW0uGq6utc4aOkqiybtsbItw++V84nKwcNIMOLQlKA4U\n",
       "vspaL/aALS9fKFVnKzPkUxNB+UVDN4Xaqheaj8mGI/mdhnk0iJFqfPg01VvOzgJSjufa8O+Y4gA9\n",
       "NzHT7JzxC5byakLK9C20bDoJ0MSEP+VMIe5z7YmGd/ioLUND2uX6ojXcSwuk40It2da94RhXNtr6\n",
       "riYZsKVvHCW5ya+XvpTm+BbLIguWLnjHGHH1G+m5t/81PyRYvuS71uXyO/5B5N3/anmC/g+kbjA4\n",
       "fgB6XQAAAABJRU5ErkJggg==\n",
       "\" style=\"display:inline;vertical-align:middle;\" /></a></span>"
      ],
      "text/plain": [
       "|- forall_{l in Integer | l != 0} (delta != (l / 2^{t}))"
      ]
     },
     "execution_count": 28,
     "metadata": {},
     "output_type": "execute_result"
    }
   ],
   "source": [
    "# previously proven:\n",
    "_delta_not_eq_scaledNonzeroInt"
   ]
  },
  {
   "cell_type": "code",
   "execution_count": 29,
   "metadata": {},
   "outputs": [
    {
     "data": {
      "text/html": [
       "<strong id=\"delta_not_eq_scaledNonzeroInt_inst\">delta_not_eq_scaledNonzeroInt_inst:</strong> <span style=\"font-size:20px;\"><a class=\"ProveItLink\" href=\"../../../__pv_it/theorems/8bc9b38cf75c7371ab646fd064ad09fc02345f250/expr.ipynb\"><img src=\"data:image/png;base64,iVBORw0KGgoAAAANSUhEUgAAANYAAAAYBAMAAAB0Lx7ZAAAAMFBMVEX///+qqqq6urru7u4QEBBE\n",
       "RERUVFTc3NyIiIgyMjJmZmaYmJjMzMwiIiJ2dnYAAACPW0xlAAAAAXRSTlMAQObYZgAAAAlwSFlz\n",
       "AAAOxAAADsQBlSsOGwAAAeBJREFUSMdjYCAMOAugDOadDMQD8nTZwxgnemmuSxLOkqW6LiMFFG7d\n",
       "zTdk2IWmq7AAqyqOSQaoAhPJ8heqLp5UkKFv/6ApkkeyqmplDAPDZzx28VzGYg02XawJQIL7A5rK\n",
       "twgmewDDewUmBwaeUCAIx2KX2crPmFZh1cV3AUhwTcBtF1sBA4sDR4INhr+YNsACHItdWHWB7eJt\n",
       "gIi03r07Ad0uls8MbN+5Gh5j2MXYgMcurLrAdtUfAAtoNmPz1wUGtj88qw/A0tb8F8TYhVUX2K79\n",
       "kDCejC0MQd7+gC2R4bULqy6wXamoJQoDw0oUNecbyLELUxeHA5DwgNiFSEXeKGquMZBjF6Yu9o/A\n",
       "DPIdzDxyFwgCQGKZwFKDeS6IexcY4lwBmAZx3b17xffu3QTcdmHTZTYR4jcGBlO42KlgZBXbGMjx\n",
       "FzZdLxWA+RlcTPAiBMOQzXzAUE66Xdh0MQIV8m94ANbTgDUdnmNgaCbdLmy6+IDhx6/cgFZUIpdR\n",
       "t1atuoDXLj5IdDP/hBG4dIHSPPc6aNQFGWDaxfv///8J+OxiS/mZDWbcghM4dPEh264Xi1lG4QSM\n",
       "DQwkAj6s4UOMXfCyl0K7WhhoAbiwxkW9AC3sMsEaEuzLaGBZXSIDAwB4aaUFdo5x/QAAAABJRU5E\n",
       "rkJggg==\n",
       "\" style=\"display:inline;vertical-align:middle;\" /></a>, <a class=\"ProveItLink\" href=\"../../../__pv_it/theorems/b38b045a9246dd5ac239f68f921874310f53aad00/expr.ipynb\"><img src=\"data:image/png;base64,iVBORw0KGgoAAAANSUhEUgAAAC0AAAAUCAMAAAAusUTNAAAAPFBMVEX///8NDQ0WFhYLCwsYGBiq\n",
       "qqq6urru7u4QEBBERERUVFTc3NyIiIgyMjJmZmaYmJjMzMwiIiJ2dnYAAABsuYCuAAAAAXRSTlMA\n",
       "QObYZgAAAAlwSFlzAAAOxAAADsQBlSsOGwAAAMhJREFUKM+VkusShCAIhd2Loal4e/93XZGp1bIa\n",
       "+cGEHT8PohBXgTBcTjGH82rQnSZZNPzp84ChW4KTQkBkOboBem0KHyufT4t2gDZtUbfKTJ2Yge2l\n",
       "RYuM9bgsL2y7Fg2b2pe8Nt1jrPH9UN74JidWk2Nl79F/daJkTq6xK4HVC7GtekBvXUrqslwP9L7f\n",
       "L3a/34vWPMSiK52mA/r4Qrzah5gX6NuUeLIWafKKxuLxCV2UmOwaRk9SJjERDibEfgodZ9Ai3P38\n",
       "AUNKCPHed8bwAAAAAElFTkSuQmCC\n",
       "\" style=\"display:inline;vertical-align:middle;\" /></a> <a class=\"ProveItLink\" href=\"../../../__pv_it/_proof__non_int_delta_diff/d38fdce9933aa8450eb7f2ab75dfe7feb27fa1a10/proof.ipynb\" style=\"text-decoration: none\">&nbsp;&#x22A2;&nbsp;&nbsp;</a><a class=\"ProveItLink\" href=\"../../../__pv_it/theorems/a18b214ce0152a899e42592b64dfd1289740c2190/expr.ipynb\"><img src=\"data:image/png;base64,iVBORw0KGgoAAAANSUhEUgAAADoAAAArCAMAAAAe72skAAAAPFBMVEX///8NDQ0WFhYLCwsYGBgi\n",
       "IiLMzMyYmJiqqqqIiIju7u5UVFS6urp2dnZEREQQEBAyMjJmZmbc3NwAAAAACQg3AAAAAXRSTlMA\n",
       "QObYZgAAAAlwSFlzAAAOxAAADsQBlSsOGwAAATRJREFUSMfFVctuxCAMZNvlFQPB+P//teCt2k0g\n",
       "CviyPkSKlMlgZsZWaq2iJqOEZUmKVJjFUO2lyPKRViGJobu4VUNFCvW7+LwJ1CaEklVRCg3b8Z4K\n",
       "5j31/WN/Nosn0voaoPvOzEgIw9bTjOU8jCSEmeY3cgPSOfETdUcOU6QOHHVXkmdIbc09/NGi5np+\n",
       "tyfchbf+350TPEXKCTQnaMBJWzboHSl1VYUxv/2+9fr1eHV80ytD81HYPJes6Js8R7VwMkjR+1Mc\n",
       "bkkv79/FW+Ne/nNMWhDzK03uannYMWlp+kcKqkSd4ziQekwK3N++93q8BfVieLPNodmWFqciaH5W\n",
       "GwTZMNbEQ2Vb33eGqoHQq7g+yNnVBu06KYpXpAUpkg1aJFvSsMu8YNMVja20SFGuf+f/AAsoDS1/\n",
       "+gAzAAAAAElFTkSuQmCC\n",
       "\" style=\"display:inline;vertical-align:middle;\" /></a></span><br>"
      ],
      "text/plain": [
       "delta_not_eq_scaledNonzeroInt_inst: {l in {-2^{t - 1} + 1 .. 2^{t - 1}}, l != 0} |- delta != (l / 2^{t})"
      ]
     },
     "execution_count": 29,
     "metadata": {},
     "output_type": "execute_result"
    }
   ],
   "source": [
    "delta_not_eq_scaledNonzeroInt_inst = _delta_not_eq_scaledNonzeroInt.instantiate({l:l})"
   ]
  },
  {
   "cell_type": "code",
   "execution_count": 30,
   "metadata": {},
   "outputs": [
    {
     "data": {
      "text/html": [
       "<span style=\"font-size:20px;\"><a class=\"ProveItLink\" href=\"../../../__pv_it/theorems/8bc9b38cf75c7371ab646fd064ad09fc02345f250/expr.ipynb\"><img src=\"data:image/png;base64,iVBORw0KGgoAAAANSUhEUgAAANYAAAAYBAMAAAB0Lx7ZAAAAMFBMVEX///+qqqq6urru7u4QEBBE\n",
       "RERUVFTc3NyIiIgyMjJmZmaYmJjMzMwiIiJ2dnYAAACPW0xlAAAAAXRSTlMAQObYZgAAAAlwSFlz\n",
       "AAAOxAAADsQBlSsOGwAAAeBJREFUSMdjYCAMOAugDOadDMQD8nTZwxgnemmuSxLOkqW6LiMFFG7d\n",
       "zTdk2IWmq7AAqyqOSQaoAhPJ8heqLp5UkKFv/6ApkkeyqmplDAPDZzx28VzGYg02XawJQIL7A5rK\n",
       "twgmewDDewUmBwaeUCAIx2KX2crPmFZh1cV3AUhwTcBtF1sBA4sDR4INhr+YNsACHItdWHWB7eJt\n",
       "gIi03r07Ad0uls8MbN+5Gh5j2MXYgMcurLrAdtUfAAtoNmPz1wUGtj88qw/A0tb8F8TYhVUX2K79\n",
       "kDCejC0MQd7+gC2R4bULqy6wXamoJQoDw0oUNecbyLELUxeHA5DwgNiFSEXeKGquMZBjF6Yu9o/A\n",
       "DPIdzDxyFwgCQGKZwFKDeS6IexcY4lwBmAZx3b17xffu3QTcdmHTZTYR4jcGBlO42KlgZBXbGMjx\n",
       "FzZdLxWA+RlcTPAiBMOQzXzAUE66Xdh0MQIV8m94ANbTgDUdnmNgaCbdLmy6+IDhx6/cgFZUIpdR\n",
       "t1atuoDXLj5IdDP/hBG4dIHSPPc6aNQFGWDaxfv///8J+OxiS/mZDWbcghM4dPEh264Xi1lG4QSM\n",
       "DQwkAj6s4UOMXfCyl0K7WhhoAbiwxkW9AC3sMsEaEuzLaGBZXSIDAwB4aaUFdo5x/QAAAABJRU5E\n",
       "rkJggg==\n",
       "\" style=\"display:inline;vertical-align:middle;\" /></a>, <a class=\"ProveItLink\" href=\"../../../__pv_it/theorems/b38b045a9246dd5ac239f68f921874310f53aad00/expr.ipynb\"><img src=\"data:image/png;base64,iVBORw0KGgoAAAANSUhEUgAAAC0AAAAUCAMAAAAusUTNAAAAPFBMVEX///8NDQ0WFhYLCwsYGBiq\n",
       "qqq6urru7u4QEBBERERUVFTc3NyIiIgyMjJmZmaYmJjMzMwiIiJ2dnYAAABsuYCuAAAAAXRSTlMA\n",
       "QObYZgAAAAlwSFlzAAAOxAAADsQBlSsOGwAAAMhJREFUKM+VkusShCAIhd2Loal4e/93XZGp1bIa\n",
       "+cGEHT8PohBXgTBcTjGH82rQnSZZNPzp84ChW4KTQkBkOboBem0KHyufT4t2gDZtUbfKTJ2Yge2l\n",
       "RYuM9bgsL2y7Fg2b2pe8Nt1jrPH9UN74JidWk2Nl79F/daJkTq6xK4HVC7GtekBvXUrqslwP9L7f\n",
       "L3a/34vWPMSiK52mA/r4Qrzah5gX6NuUeLIWafKKxuLxCV2UmOwaRk9SJjERDibEfgodZ9Ai3P38\n",
       "AUNKCPHed8bwAAAAAElFTkSuQmCC\n",
       "\" style=\"display:inline;vertical-align:middle;\" /></a> <a class=\"ProveItLink\" href=\"../../../__pv_it/_proof__non_int_delta_diff/ae6094f492b516ed034c1ea58e8d02c78c4ecc470/proof.ipynb\" style=\"text-decoration: none\">&nbsp;&#x22A2;&nbsp;&nbsp;</a><a class=\"ProveItLink\" href=\"../../../__pv_it/_proof__non_int_delta_diff/672442428686d44075d5c7d282440e5e2c11f8420/expr.ipynb\"><img src=\"data:image/png;base64,iVBORw0KGgoAAAANSUhEUgAAAHsAAAAyCAMAAABLTlTpAAAAPFBMVEX///8NDQ0WFhYLCwsYGBi6\n",
       "urqqqqpmZmbu7u6IiIgiIiIQEBDc3NwyMjJ2dnaYmJhUVFTMzMxEREQAAABXaOJgAAAAAXRSTlMA\n",
       "QObYZgAAAAlwSFlzAAAOxAAADsQBlSsOGwAAApRJREFUWMOtWNm2IyEIdBZ3pV3+/19H7ZOktb3J\n",
       "AOEhDzmHIFAURYR4WMmCbqYYhnc6BMeyowdPgPUAV6+VUo4a+ogEnzq/JdFCBx/wTnp5r6N1zdkv\n",
       "OClPafnhKbWq62BETfgZD4Ld7may4jtnK6VYqdy+ini4ORJC/R0jCp1ErhRGy5sCm4rFbKIgTdid\n",
       "V8ESjCeVvCRhNvgLyOKROKF5waboBxLlgRRbGsuuYZkbF3T05T9ec2jANFxvJ8DPc9p+USbyPoT6\n",
       "Q2OnIABWh9GimQkTRwQ0sMl9ca9jHFUL60KH2tw2mzix837C8/VHj9EXKJ2L1AJVxdFOdbtPJgCV\n",
       "9ODAY2W1UjlVr7uyyenL83m55biMmEqqFk7snXMM99J0WoEpza6dEidxfxUz2g37+6d/pufehwcy\n",
       "9DVS6EVQlaGWnfuQ9is2tCzXnfzcaya6l73eU292jX1fMVIvcIRTaNg59qDjXBn93sSOC0ue/e7z\n",
       "da25GRlT9PK+5qPfv3+dhXtivZSThUzD2uVZI3bkDLi/PTyarTLtCttekQW2Txkm1lrQ2yJTd7Jx\n",
       "nVN9Fgu3gLWA4zGxa+a7tJuTBpvy6LnES3Ot47kdVBQ7EF/Shu/KllDGtpQigIuQ3+6S+JanKvqa\n",
       "SKPH3m9wuW6m430HHXqk/BjL1Adkpd9VgH24yvESOY0ZTg2kcvVNC/byJ6lBWx2uDqFh8hsB9llq\n",
       "kLhkoEpbAWbaE8jDhHYbDI7M+sic20Boyk2ky89IQJgksMuxrxX6FhQOPeGDrUL4AmzRLnkwhjXf\n",
       "OOSR/3kEp7u5b/zngU3cnUopbs5igkUQfJM0kso+8GM7ot6xhR0ayIdc4lZdMhQmSyG2rkXOFcf7\n",
       "754S+h/5YR60z3kHkQAAAABJRU5ErkJggg==\n",
       "\" style=\"display:inline;vertical-align:middle;\" /></a></span>"
      ],
      "text/plain": [
       "{l in {-2^{t - 1} + 1 .. 2^{t - 1}}, l != 0} |- (delta - (l / 2^{t})) != 0"
      ]
     },
     "execution_count": 30,
     "metadata": {},
     "output_type": "execute_result"
    }
   ],
   "source": [
    "NotEquals(delta_diff, zero).prove()"
   ]
  },
  {
   "cell_type": "code",
   "execution_count": 31,
   "metadata": {},
   "outputs": [
    {
     "data": {
      "text/html": [
       "<span style=\"font-size:20px;\"> <a class=\"ProveItLink\" href=\"../../../../../../numbers/ordering/_theory_nbs_/proofs/not_equals_is_less_than_or_greater_than/thm_proof.ipynb\" style=\"text-decoration: none\">&nbsp;&#x22A2;&nbsp;&nbsp;</a><a class=\"ProveItLink\" href=\"../../../../../../numbers/ordering/__pv_it/theorems/984518f004c1091a17b97575c50f7cec6ff14dce0/expr.ipynb\"><img src=\"data:image/png;base64,iVBORw0KGgoAAAANSUhEUgAAASAAAAAXCAMAAACcVWITAAAAOVBMVEX///82NjYbGxsSEhKIiIgi\n",
       "IiIQEBB2dnbu7u5ERETMzMzc3NwyMjK6urpmZmaYmJiqqqpUVFQAAAAnLjGdAAAAAXRSTlMAQObY\n",
       "ZgAAAAlwSFlzAAAOxAAADsQBlSsOGwAAA3RJREFUWMPtWImS5CYMJVlhhLn9/x8bwObGx7inOlWp\n",
       "sDX7enrMExJ6EpiQf2+IDt/N/vSZ317X7w2wLf5wKHhs4SXzji5/b81X42NZiz8PsHlo4TVzRK3S\n",
       "1/KrKYWyxRdDYv7o8scVegsfMAdcUwoJ/tUE0qbFF8Po8jGHha+9hQ+YI6ZoMfvVAC0dXknlLLeX\n",
       "kkI0bbMcLIy5ex+5xBzQHI/L71Yg2eLFblKNZ0oonqbt1ba3MIkQo3cFPjFHXGgYC/uuwliLBAEc\n",
       "rqzPY6CsDY9wDMThHysdJmUOHSxMiQfaE+aIOqqW41tXL0vxoy06aMAB0fR6q9Xi5ca3nddUSeKi\n",
       "FwCDhRnxLDGnzBGFS/89UAZlUjtZL/uqtjN19hdqWzR+dcavzhXVCE2HYoFL7LyHs7YqM3uzodhb\n",
       "mBBnDWpxx7xjSJ5zV1L3dJz7Z4D4zGWCPQrQRdQX1WLYf91UDScnXUNv0ffD/LrVOem9tXqwMBJX\n",
       "SSPL8WDOvKOF2xKt9dE9wf8jBuFRgJx4HKD4GW4DtARruKmkiu5YWLe7inmBswCVwjJnPlDmcwQy\n",
       "AyxbAdACQh6WQ2sMEKCeByhP2NnZjHQusfD45p9BvJIYbmGdZsuCbyjJyicWRuIssWoDT5gPZPY4\n",
       "DCEVPqvSNBDEceI3EovhIDHB61N+tag8QfMw/vgf05OmWdAgevm6sFvssh/jZmNuERvpDG8vCE4N\n",
       "FubEe5EW98wHisUlJXnZ5bw10YrXljJVgDRnzbqqX/KE5kbTkpJJH/U7ta2o/TOqkxUCBey8tlQf\n",
       "rVO34aRytHBCPLb5OXNCtxbdQl1Z9403MmYEt7vEWGOtrUElU3LaDaSx+tEGUfsGbbWxs4Ni5Qs6\n",
       "YKtwsK+Xtp1F29HCjDhEfTyQTJk7Cxjc46bINWy8/2plpK5BStXhbwJ0TAgS+/svHiU2kB6m1xav\n",
       "ztInVw1BL6edMSO9vWok5sHCEqqFMujVH4RHmNwPgqXY721+XqSrCdUluJCe3wc/u+/e32V/7Sat\n",
       "fC4CMyETfE5qUAxiCRDpjqwkSObztjpZVBlUJtQxzaSd6EWLP3/xd/f64WPmSwu2u98FvUwPk3MS\n",
       "e/u+L9UofPua5db/j5mvLKjHV7P5Kh68G0gXQwGvvADx2MJL5ksLz182TQNkFfl/pG36b7v3Dy0q\n",
       "JvXyoaiTAAAAAElFTkSuQmCC\n",
       "\" style=\"display:inline;vertical-align:middle;\" /></a></span>"
      ],
      "text/plain": [
       "|- forall_{a, x in Real | x != a} ((x < a) or (x > a))"
      ]
     },
     "execution_count": 31,
     "metadata": {},
     "output_type": "execute_result"
    }
   ],
   "source": [
    "not_equals_is_less_than_or_greater_than"
   ]
  },
  {
   "cell_type": "code",
   "execution_count": 32,
   "metadata": {},
   "outputs": [
    {
     "data": {
      "text/html": [
       "<strong id=\"delta_diff_is_positive_or_negative\">delta_diff_is_positive_or_negative:</strong> <span style=\"font-size:20px;\"><a class=\"ProveItLink\" href=\"../../../__pv_it/theorems/8bc9b38cf75c7371ab646fd064ad09fc02345f250/expr.ipynb\"><img src=\"data:image/png;base64,iVBORw0KGgoAAAANSUhEUgAAANYAAAAYBAMAAAB0Lx7ZAAAAMFBMVEX///+qqqq6urru7u4QEBBE\n",
       "RERUVFTc3NyIiIgyMjJmZmaYmJjMzMwiIiJ2dnYAAACPW0xlAAAAAXRSTlMAQObYZgAAAAlwSFlz\n",
       "AAAOxAAADsQBlSsOGwAAAeBJREFUSMdjYCAMOAugDOadDMQD8nTZwxgnemmuSxLOkqW6LiMFFG7d\n",
       "zTdk2IWmq7AAqyqOSQaoAhPJ8heqLp5UkKFv/6ApkkeyqmplDAPDZzx28VzGYg02XawJQIL7A5rK\n",
       "twgmewDDewUmBwaeUCAIx2KX2crPmFZh1cV3AUhwTcBtF1sBA4sDR4INhr+YNsACHItdWHWB7eJt\n",
       "gIi03r07Ad0uls8MbN+5Gh5j2MXYgMcurLrAdtUfAAtoNmPz1wUGtj88qw/A0tb8F8TYhVUX2K79\n",
       "kDCejC0MQd7+gC2R4bULqy6wXamoJQoDw0oUNecbyLELUxeHA5DwgNiFSEXeKGquMZBjF6Yu9o/A\n",
       "DPIdzDxyFwgCQGKZwFKDeS6IexcY4lwBmAZx3b17xffu3QTcdmHTZTYR4jcGBlO42KlgZBXbGMjx\n",
       "FzZdLxWA+RlcTPAiBMOQzXzAUE66Xdh0MQIV8m94ANbTgDUdnmNgaCbdLmy6+IDhx6/cgFZUIpdR\n",
       "t1atuoDXLj5IdDP/hBG4dIHSPPc6aNQFGWDaxfv///8J+OxiS/mZDWbcghM4dPEh264Xi1lG4QSM\n",
       "DQwkAj6s4UOMXfCyl0K7WhhoAbiwxkW9AC3sMsEaEuzLaGBZXSIDAwB4aaUFdo5x/QAAAABJRU5E\n",
       "rkJggg==\n",
       "\" style=\"display:inline;vertical-align:middle;\" /></a>, <a class=\"ProveItLink\" href=\"../../../__pv_it/theorems/b38b045a9246dd5ac239f68f921874310f53aad00/expr.ipynb\"><img src=\"data:image/png;base64,iVBORw0KGgoAAAANSUhEUgAAAC0AAAAUCAMAAAAusUTNAAAAPFBMVEX///8NDQ0WFhYLCwsYGBiq\n",
       "qqq6urru7u4QEBBERERUVFTc3NyIiIgyMjJmZmaYmJjMzMwiIiJ2dnYAAABsuYCuAAAAAXRSTlMA\n",
       "QObYZgAAAAlwSFlzAAAOxAAADsQBlSsOGwAAAMhJREFUKM+VkusShCAIhd2Loal4e/93XZGp1bIa\n",
       "+cGEHT8PohBXgTBcTjGH82rQnSZZNPzp84ChW4KTQkBkOboBem0KHyufT4t2gDZtUbfKTJ2Yge2l\n",
       "RYuM9bgsL2y7Fg2b2pe8Nt1jrPH9UN74JidWk2Nl79F/daJkTq6xK4HVC7GtekBvXUrqslwP9L7f\n",
       "L3a/34vWPMSiK52mA/r4Qrzah5gX6NuUeLIWafKKxuLxCV2UmOwaRk9SJjERDibEfgodZ9Ai3P38\n",
       "AUNKCPHed8bwAAAAAElFTkSuQmCC\n",
       "\" style=\"display:inline;vertical-align:middle;\" /></a> <a class=\"ProveItLink\" href=\"../../../__pv_it/_proof__non_int_delta_diff/cc2299e45c51ddaec92d59b3c610ae21c9cdf9520/proof.ipynb\" style=\"text-decoration: none\">&nbsp;&#x22A2;&nbsp;&nbsp;</a><a class=\"ProveItLink\" href=\"../../../__pv_it/_proof__non_int_delta_diff/1fdec79076506db9bd497f16ebde1f132baedaf60/expr.ipynb\"><img src=\"data:image/png;base64,iVBORw0KGgoAAAANSUhEUgAAAUkAAAAyBAMAAAAjNjQtAAAAMFBMVEX///+6urqqqqpmZmbu7u6I\n",
       "iIgiIiIQEBDc3NwyMjJ2dnaYmJhUVFTMzMxEREQAAAC0ii6rAAAAAXRSTlMAQObYZgAAAAlwSFlz\n",
       "AAAOxAAADsQBlSsOGwAABZFJREFUaN61mVFoHEUYx79cdjeX29tcHgQRhAQExVJI6GlrFXRBVCpo\n",
       "8lD7JE1otBKtNA+KtZS4IKj1wZS2D1JDOaTJk5I+tRQquSerFs2BoNiX3EPRF4uX5ITYeMa9nW/2\n",
       "dmf2m5swdCD8N7Ozv5ud+b5vvpkFCMtADaJyB1TFuk3eetknbnAyVxPyTSbFy8pewi9UX8B7jbhx\n",
       "U1ADcrHC9Aeq6WIrktwk+TMPZ1dzMlcT8jUm7hmqpdtg+hXJKlQzq68JakDOn2D6cUC17MX+O7RJ\n",
       "vJVVyclcTcjOONPXyYa8Re4dsskjvuI5ribkqzj4M2TDOe6h58gm/aMZlVcFNSGfZP/1VciGy/xi\n",
       "iDSKns2MypOCGpDtJvtvgowG8FP8XlWyzbxcxclcTcgO3j9Gh7N3+UWO/r0R+SU52amak1eZaXgt\n",
       "spkXz6b1N9loTPYQJMdqQr6BgZd2Hrtz63ey0YAcmG8IakI+hc5DT8tANZ7NZdLIXdl9TglqQPa2\n",
       "cFrouFq6HLv/GNnK2pKmcyutJmQbx2AioFn3xTanGHFpxDjZ3jQnD6Bp/IGL2f5ZqbvukyrrIw2L\n",
       "k1GNyH11djmLizs86CtSrEJDrlp4ItIl8QYnoxqRx9gCZG2gq/vKRNBdk6rOwvPRGC0Pxs970Twi\n",
       "masReZVZhofxyq4qWZ4U1txJKESDxUDueJyZI5mrEXlkmMX+dXSodfWuYiPxz6NBFExw3cAha5vX\n",
       "abZmDENS9cjWF4kw1SEvs4XB5UvPX+qJ+bdzeeWxyE1HwYt+v8TG6svwbw+LgLjkcNUjvxgnkEky\n",
       "RiAeLnaP1JWs/+KrQ5e41bGAWGIPnsbx7MQ2VF2y/aYPEnmJ1RWauKsoNpWs9/kELaLVzVXQpPpY\n",
       "2l2sgc1uIRlVmwzulC+Rn2FVvQwxF+RaStZRDKt7+VLRZt2NMh82gl4VHIZEMqouue0j5wKRvIIR\n",
       "qIH5XpQbHTjaLm+3a7Z5Ye3eYPL9cLyyVaAnemMHg/jn8BC7QDKqTC5xciNJjhLfeV8gp3u5BV5D\n",
       "+cZSL0MbZ/GB93JX2M+MXuqSo15e9AVyasatlmK/mz3jA3Vwm4kZB8ergzzj2uT2jM8HInmJeWCB\n",
       "+XgL+od35j3hpo5tV9F7wL4+iF4TJFWbHHpPIJEnWDSzmWkvwO7sjVwgZj7WoYPs4gi8UEsmNdY0\n",
       "tkAyKkXm9hGT40iUJKejeuGV7J3kGL9IrD1XWMB8duFHbqCs7AHIiOoU2Wqkyc91jgUS5BE2P7k1\n",
       "aiY+3H8nXAw5827yfCWViY2JvUByrPLRR/liDXJnUmQr45AkJGOOTibU+TDwD346/TWVE3T2YuL2\n",
       "jGf/5C7gMyis5Rcv1DTIfKI2iCbFAPpmwiQKUklJ1oZUdA5OLo0ST3wH8F7sU2qygyM+TTTpa0Jx\n",
       "E5rQdXcgbUk42aEi0Ac+rAQlX4fMd7jUdrQ4CcVWD9+RFunIvCI9OdNlD/1t+FDtfi2yi8O0TOdV\n",
       "TsOuvpTeJWSUWSmLbaY1qxyHV62aBtlDe1gdVlhv7/glzC3IM768ZP2c7K2rEvTHC74OufupwTHw\n",
       "nqrdk1MDpwo/f6NF3oensuQJTG89ZUq0/Ypln6ByeVqbPMSCbg8Z1q8nrumgVpJnDMmxyqNU1SY7\n",
       "GM6miEa5CnwiOkTWeWnGyeBoWqWyC/KBJrmbk98COCieSGYaL+zUyb0K2L4uWX1inZ8qlyfvzYn1\n",
       "R+XyXm0yDiLxxk6Y8seLx5+KMz6FFRDTdHx7+x9tcj8O4gXoVnpo4xnK6ggn91fMyR5+M/o16MZy\n",
       "6Mh/JNPwTqTViHwY1/t6N9aOv/AdFtSE3PVrKZ8Wenv1ABGQK2k1ImP22GX7BL+RCYl3nrhxVlAT\n",
       "suZX/PPkrQPUr2h+xe9G/h+K0/rPbqTStwAAAABJRU5ErkJggg==\n",
       "\" style=\"display:inline;vertical-align:middle;\" /></a></span><br>"
      ],
      "text/plain": [
       "delta_diff_is_positive_or_negative: {l in {-2^{t - 1} + 1 .. 2^{t - 1}}, l != 0} |- ((delta - (l / 2^{t})) < 0) or ((delta - (l / 2^{t})) > 0)"
      ]
     },
     "execution_count": 32,
     "metadata": {},
     "output_type": "execute_result"
    }
   ],
   "source": [
    "delta_diff_is_positive_or_negative = not_equals_is_less_than_or_greater_than.instantiate({a: zero, x: delta_diff})"
   ]
  },
  {
   "cell_type": "code",
   "execution_count": 33,
   "metadata": {},
   "outputs": [
    {
     "data": {
      "text/html": [
       "<span style=\"font-size:20px;\"><a class=\"ProveItLink\" href=\"../../../__pv_it/theorems/8bc9b38cf75c7371ab646fd064ad09fc02345f250/expr.ipynb\"><img src=\"data:image/png;base64,iVBORw0KGgoAAAANSUhEUgAAANYAAAAYBAMAAAB0Lx7ZAAAAMFBMVEX///+qqqq6urru7u4QEBBE\n",
       "RERUVFTc3NyIiIgyMjJmZmaYmJjMzMwiIiJ2dnYAAACPW0xlAAAAAXRSTlMAQObYZgAAAAlwSFlz\n",
       "AAAOxAAADsQBlSsOGwAAAeBJREFUSMdjYCAMOAugDOadDMQD8nTZwxgnemmuSxLOkqW6LiMFFG7d\n",
       "zTdk2IWmq7AAqyqOSQaoAhPJ8heqLp5UkKFv/6ApkkeyqmplDAPDZzx28VzGYg02XawJQIL7A5rK\n",
       "twgmewDDewUmBwaeUCAIx2KX2crPmFZh1cV3AUhwTcBtF1sBA4sDR4INhr+YNsACHItdWHWB7eJt\n",
       "gIi03r07Ad0uls8MbN+5Gh5j2MXYgMcurLrAdtUfAAtoNmPz1wUGtj88qw/A0tb8F8TYhVUX2K79\n",
       "kDCejC0MQd7+gC2R4bULqy6wXamoJQoDw0oUNecbyLELUxeHA5DwgNiFSEXeKGquMZBjF6Yu9o/A\n",
       "DPIdzDxyFwgCQGKZwFKDeS6IexcY4lwBmAZx3b17xffu3QTcdmHTZTYR4jcGBlO42KlgZBXbGMjx\n",
       "FzZdLxWA+RlcTPAiBMOQzXzAUE66Xdh0MQIV8m94ANbTgDUdnmNgaCbdLmy6+IDhx6/cgFZUIpdR\n",
       "t1atuoDXLj5IdDP/hBG4dIHSPPc6aNQFGWDaxfv///8J+OxiS/mZDWbcghM4dPEh264Xi1lG4QSM\n",
       "DQwkAj6s4UOMXfCyl0K7WhhoAbiwxkW9AC3sMsEaEuzLaGBZXSIDAwB4aaUFdo5x/QAAAABJRU5E\n",
       "rkJggg==\n",
       "\" style=\"display:inline;vertical-align:middle;\" /></a> <a class=\"ProveItLink\" href=\"../../../__pv_it/_proof__non_int_delta_diff/acfbf2b026452a826cc3a576ea4121f2309dc1060/proof.ipynb\" style=\"text-decoration: none\">&nbsp;&#x22A2;&nbsp;&nbsp;</a><a class=\"ProveItLink\" href=\"../../../__pv_it/_proof__non_int_delta_diff/b26461479dadf4c4d0de05af5409f36446446c2e0/expr.ipynb\"><img src=\"data:image/png;base64,iVBORw0KGgoAAAANSUhEUgAAAMAAAAAyBAMAAAD4qMkmAAAAMFBMVEX///+6urqqqqpmZmbu7u6I\n",
       "iIgiIiIQEBDc3NwyMjJ2dnaYmJhUVFTMzMxEREQAAAC0ii6rAAAAAXRSTlMAQObYZgAAAAlwSFlz\n",
       "AAAOxAAADsQBlSsOGwAAA99JREFUWMOlWEtoE0EY/hM3abKb10GQFqG5qChCAtX6OGhAUITS9FB7\n",
       "EGlLlRRRaA4+qkibkyCCCbWoiEgOtieh8VLxIIkXn2gCguKpEaQgiLY1hT6MNdmZ3ezs7D9p43f5\n",
       "Nu3OfDP/N//MPwtQga8AYGRrSN/Qf3VGQIh3JkbwCe3Ge0bY0JNmmcNkWSV7P9rFdqHAMxNzUOYI\n",
       "P0a7kHOC/l3DLPPYlCLszKCdnBMIOLtYxt+wX0A72SGw+amJeSS11XUbfcUdxgWumphHVntoTWCv\n",
       "2JbQ1o4Syxb4oI8T9/IBbkGOZQtc1B7s+CBCqAkzBZYt0kifvrSICkTRJfLKxBZBjOuPs+hLPjQL\n",
       "r5nYom1On34WdVnBXPausmwBf0bfQ6JoqklYe8cSy1YCm/X4NuErAYuAL86w68AIFwXl4Doizdnj\n",
       "GPy+fOlFZUxFOjbCMmwV7e3yHP+nif0qT3FDt3Xd6AhAlOY4ZY/46FDmuT+NwVF1ztkAJ5CRE0WY\n",
       "ofGl7MgJBbxcIij9IBcNHTACSjAHoSDNRMLSglBA+m34sTOhrmGa31oooDcWS+kCKcjSBNb4lzhG\n",
       "f2qP03vUJRYGrzooP517c3dtBp6baeiji4by7lBRKPBXf+p5pHlHUshPGrrGayHq7nlbMZ+OmLCS\n",
       "8pSEAle0WE3SkCfT1Jgmcuy5EzWBs6OnI3CYChBOJuxloUCMHq/tWkpXBVbU3ZikiNtosuPJOOTp\n",
       "zzzd+b1VAelOrIqqLf41CpIBg+TtN0F980iDTZ2Bk2Tq52rDIhWAYotJYBW8c8IZcAIVk+0LBoFO\n",
       "4wyg6GNDJJUrLmwsRL4iKCVDiJysgBumqCmEy+AObsxkJU6rGmqyo4sR2AZ9dP0TnoDd1h3fM++Z\n",
       "Ug9d7wNwrGDcaMdqAmn5ZNiUaPIJ6/JR0pwxZPI0SYQjE+81M1R0fCVBd9z9qe6mIbpHhQJY4df2\n",
       "sAB26oy0Yiw5mY09qg2tZTZm9HEmwzKHWyDPuybvF5DNrtYRcuprM/NjpdlrgMu69XZ8Lwwhq8OZ\n",
       "YpnDaATyCX+k7sHah9QDnjjLHF5WkrCwRXsbT8M8dkaVWLbCEJySCsaD1Qoj2Bm1wLL1MbZXJjFK\n",
       "ovWba7HxwqtStX583nDhBftMzOMQYwh20UMLmtYAy/zYDHUAngZ+/H4UZpnDLnAloO5KyKJneb1l\n",
       "5E2DIwJ17xDnG75CXW9ra/+vK5Q+OWSSQ2try9rzD0GJjwu40yzjsOEWtArKKe8wy4IbNX7aDYja\n",
       "9ZoYRYOfEup/DNEihNcDzeKWYyZG8AX/nDMubrnOD1J4L8dxi/8Bwx8fwbDtLUAAAAAASUVORK5C\n",
       "YII=\n",
       "\" style=\"display:inline;vertical-align:middle;\" /></a></span>"
      ],
      "text/plain": [
       "{l in {-2^{t - 1} + 1 .. 2^{t - 1}}} |- ((delta - (l / 2^{t})) < 0) in BOOLEAN"
      ]
     },
     "execution_count": 33,
     "metadata": {},
     "output_type": "execute_result"
    }
   ],
   "source": [
    "delta_diff_is_positive_or_negative.operands[0].deduce_in_bool()"
   ]
  },
  {
   "cell_type": "code",
   "execution_count": 34,
   "metadata": {},
   "outputs": [
    {
     "data": {
      "text/html": [
       "<span style=\"font-size:20px;\"><a class=\"ProveItLink\" href=\"../../../__pv_it/theorems/8bc9b38cf75c7371ab646fd064ad09fc02345f250/expr.ipynb\"><img src=\"data:image/png;base64,iVBORw0KGgoAAAANSUhEUgAAANYAAAAYBAMAAAB0Lx7ZAAAAMFBMVEX///+qqqq6urru7u4QEBBE\n",
       "RERUVFTc3NyIiIgyMjJmZmaYmJjMzMwiIiJ2dnYAAACPW0xlAAAAAXRSTlMAQObYZgAAAAlwSFlz\n",
       "AAAOxAAADsQBlSsOGwAAAeBJREFUSMdjYCAMOAugDOadDMQD8nTZwxgnemmuSxLOkqW6LiMFFG7d\n",
       "zTdk2IWmq7AAqyqOSQaoAhPJ8heqLp5UkKFv/6ApkkeyqmplDAPDZzx28VzGYg02XawJQIL7A5rK\n",
       "twgmewDDewUmBwaeUCAIx2KX2crPmFZh1cV3AUhwTcBtF1sBA4sDR4INhr+YNsACHItdWHWB7eJt\n",
       "gIi03r07Ad0uls8MbN+5Gh5j2MXYgMcurLrAdtUfAAtoNmPz1wUGtj88qw/A0tb8F8TYhVUX2K79\n",
       "kDCejC0MQd7+gC2R4bULqy6wXamoJQoDw0oUNecbyLELUxeHA5DwgNiFSEXeKGquMZBjF6Yu9o/A\n",
       "DPIdzDxyFwgCQGKZwFKDeS6IexcY4lwBmAZx3b17xffu3QTcdmHTZTYR4jcGBlO42KlgZBXbGMjx\n",
       "FzZdLxWA+RlcTPAiBMOQzXzAUE66Xdh0MQIV8m94ANbTgDUdnmNgaCbdLmy6+IDhx6/cgFZUIpdR\n",
       "t1atuoDXLj5IdDP/hBG4dIHSPPc6aNQFGWDaxfv///8J+OxiS/mZDWbcghM4dPEh264Xi1lG4QSM\n",
       "DQwkAj6s4UOMXfCyl0K7WhhoAbiwxkW9AC3sMsEaEuzLaGBZXSIDAwB4aaUFdo5x/QAAAABJRU5E\n",
       "rkJggg==\n",
       "\" style=\"display:inline;vertical-align:middle;\" /></a> <a class=\"ProveItLink\" href=\"../../../__pv_it/_proof__non_int_delta_diff/29425aed6dd1c887f3d9a0cd04c622fd5e3975dc0/proof.ipynb\" style=\"text-decoration: none\">&nbsp;&#x22A2;&nbsp;&nbsp;</a><a class=\"ProveItLink\" href=\"../../../__pv_it/_proof__non_int_delta_diff/82e6cdcba8e416ade3cc67d0f23ebc0e54e701af0/expr.ipynb\"><img src=\"data:image/png;base64,iVBORw0KGgoAAAANSUhEUgAAAMAAAAAyBAMAAAD4qMkmAAAAMFBMVEX///+6urqqqqpmZmbu7u6I\n",
       "iIgiIiIQEBDc3NwyMjJ2dnaYmJhUVFTMzMxEREQAAAC0ii6rAAAAAXRSTlMAQObYZgAAAAlwSFlz\n",
       "AAAOxAAADsQBlSsOGwAAA99JREFUWMOlWEtoE0EY/hM3abKb10GQFqG9qCCFBIrPgwZERSlND9WD\n",
       "SFt8pPiA5uCjirQ5CSLY0BYVLSWX9iQ0nsSDJF5UFE1AUDx1BSkIom1NoQ9jTXZmNzs7+09C/C7f\n",
       "Np2Zb+b/5p/5dwHKCBQAzGwP6Rv6r64oCPHOwgg+ocP4zwk7+tIsc5gpaeTsR4fYLhR4bmEOygLh\n",
       "J+gQck4wvmeIZR6bUoTdGXSQSwIBdzfLeAvnFXSQHQKbn1mYx6i+u8bRJt4ILnDTwjyy+kNrEmvi\n",
       "WEF7u4os2+CDMU/cy0ncghzLNriqPzjxSYRRE+YKLNukkbF8aRkViKFb5LWFbYKYMB7n0UYBNAtv\n",
       "Wdimb85YfhZ1WcFc9q+zbINgxjhDYmiqSVh/1wrLdgKbjfg24TsBi0AgwbBn3zAXBWV/HZHm7HEN\n",
       "fF+99rI8J5XOjbAMW0Vnu7zA/zS9V+NZbuqO7judIYjRHKfsE18dyiL30xgc0dacDXECGTmpwhyN\n",
       "L2VXTijg5xJB6QdZNQ3ACChtOQi30UwkLC0JBaTfhB6b9jDNbz0U0BuPpwyBFGRpAuv8SxyjP4SO\n",
       "nze2WAT82qSCdO3NPdUV+O6moY9uGsrtYVUo8FffIxejhnckhYKko2eiGqKek2/L5tOGhJWUrygU\n",
       "uGHE/izpOJqmxjSRa8+brApcGCk3OkgFCI8mnSWhQNx4co4ndYE17TQmKeI1m+x6OgF5+meenvz+\n",
       "ioB0P15BxZbgBgXJgAHTHTNZmVMsDQ5tBW6SqZ8rHVUqAGqLRWAd/AvCFZgFpqLEZOeSSaDLvAJQ\n",
       "A2yIpFLZhXpDNKmFKKCCUjSFyM0KeGGWmkK4BN62ek0mHZUErWqoya5uRmAb9NH9T3ga2u0Hfmg5\n",
       "M41tCmfgaMF80I5VBdLyqYgl0eQT9uWjpDtDMhkOG4kGh6bf6xmnofMrkXY9+KmdpmF6RoVDWOHX\n",
       "MVUAJ3VGWiNkU8jF9Km1zMfNPs5lWOZwD+RFz8yjAnLYVQdCbn19ZUGsNHsDcN2w3omfhWFkd7hT\n",
       "LHMYiUI+GYzWvFj7kHrAl2CZw6tyEha26K3xNMxjd1SRZTsMwmmpYL5Y7TCM3VFLLNtfY7tkenai\n",
       "9ZtnufHCq1y1fnzRcOEFeyzM4wBjCPaihxY0rSGW+bmZ6gA8DYL4+1GEZQ47wZOEmjshi97ltbaR\n",
       "Pw2uKNR8h7jc8CvU7Y6O3f/1CmUsDlnk4MbGqv78Q1Di4wLeNMs4HLgFrYJyyj/EsuCNGr/tzoj6\n",
       "9VoYRYOfEmp/DNEjhNcDzeKeYxZG8AX/nDMh7lnnByl8lGO4xf8AZT0docpTzPEAAAAASUVORK5C\n",
       "YII=\n",
       "\" style=\"display:inline;vertical-align:middle;\" /></a></span>"
      ],
      "text/plain": [
       "{l in {-2^{t - 1} + 1 .. 2^{t - 1}}} |- ((delta - (l / 2^{t})) > 0) in BOOLEAN"
      ]
     },
     "execution_count": 34,
     "metadata": {},
     "output_type": "execute_result"
    }
   ],
   "source": [
    "delta_diff_is_positive_or_negative.operands[1].deduce_in_bool()"
   ]
  },
  {
   "cell_type": "code",
   "execution_count": 35,
   "metadata": {},
   "outputs": [
    {
     "data": {
      "text/html": [
       "<span style=\"font-size:20px;\"><a class=\"ProveItLink\" href=\"../../../__pv_it/theorems/8bc9b38cf75c7371ab646fd064ad09fc02345f250/expr.ipynb\"><img src=\"data:image/png;base64,iVBORw0KGgoAAAANSUhEUgAAANYAAAAYBAMAAAB0Lx7ZAAAAMFBMVEX///+qqqq6urru7u4QEBBE\n",
       "RERUVFTc3NyIiIgyMjJmZmaYmJjMzMwiIiJ2dnYAAACPW0xlAAAAAXRSTlMAQObYZgAAAAlwSFlz\n",
       "AAAOxAAADsQBlSsOGwAAAeBJREFUSMdjYCAMOAugDOadDMQD8nTZwxgnemmuSxLOkqW6LiMFFG7d\n",
       "zTdk2IWmq7AAqyqOSQaoAhPJ8heqLp5UkKFv/6ApkkeyqmplDAPDZzx28VzGYg02XawJQIL7A5rK\n",
       "twgmewDDewUmBwaeUCAIx2KX2crPmFZh1cV3AUhwTcBtF1sBA4sDR4INhr+YNsACHItdWHWB7eJt\n",
       "gIi03r07Ad0uls8MbN+5Gh5j2MXYgMcurLrAdtUfAAtoNmPz1wUGtj88qw/A0tb8F8TYhVUX2K79\n",
       "kDCejC0MQd7+gC2R4bULqy6wXamoJQoDw0oUNecbyLELUxeHA5DwgNiFSEXeKGquMZBjF6Yu9o/A\n",
       "DPIdzDxyFwgCQGKZwFKDeS6IexcY4lwBmAZx3b17xffu3QTcdmHTZTYR4jcGBlO42KlgZBXbGMjx\n",
       "FzZdLxWA+RlcTPAiBMOQzXzAUE66Xdh0MQIV8m94ANbTgDUdnmNgaCbdLmy6+IDhx6/cgFZUIpdR\n",
       "t1atuoDXLj5IdDP/hBG4dIHSPPc6aNQFGWDaxfv///8J+OxiS/mZDWbcghM4dPEh264Xi1lG4QSM\n",
       "DQwkAj6s4UOMXfCyl0K7WhhoAbiwxkW9AC3sMsEaEuzLaGBZXSIDAwB4aaUFdo5x/QAAAABJRU5E\n",
       "rkJggg==\n",
       "\" style=\"display:inline;vertical-align:middle;\" /></a>, <a class=\"ProveItLink\" href=\"../../../__pv_it/_proof__non_int_delta_diff/8cae36ab206315ed63e4af3ff6d494d754ff5bf30/expr.ipynb\"><img src=\"data:image/png;base64,iVBORw0KGgoAAAANSUhEUgAAAHsAAAAyBAMAAACOvrnoAAAAMFBMVEX///+6urqqqqpmZmbu7u6I\n",
       "iIgiIiIQEBDc3NwyMjJ2dnaYmJhUVFTMzMxEREQAAAC0ii6rAAAAAXRSTlMAQObYZgAAAAlwSFlz\n",
       "AAAOxAAADsQBlSsOGwAAApxJREFUSMedVzuIE1EUvclOJv9JWqtMpVhF2EJWC9Ns4YImoCDIYoLr\n",
       "ij8w5SK6BNKI1RIW3cIihTaCJiAogpBFFiwsktomqcRCZdUIwWXVN2/emww7e+6wvmYuuXNm7px7\n",
       "7nkvRGJZA+LW2RKbpg98OnuFTWfaIJG67ZZ1mIW/gZmeeswmg06swNScut5k4GYFppbV9QhD3mtc\n",
       "164Kkscw/A7MpLdVEJnAe2Jj3JKRjh7jT8e0xj1WivDjh1hyw4aOypDe95iVC15k1dA9dzH8i+GR\n",
       "iLjL7mD4TkpHBrorhntC3+dDa7Tq7rX56HMg93I6S59Qc1Rv25Etbqw6wZ+enRONKSs9bvEz38vv\n",
       "/SVpG9dEb1VHF3n4MND4V0QvhJ5sJQybhZd9QxPdkF2VWuwp0VljFp6bSju9JBX8U5RkU9UVZvTd\n",
       "Hx7uTU/shkQbDrxLnZIyrD7rp/E1FSwoC0n8loSckqjEhIqsW5tK9E3tWxLepr6ebGfyjIdXnSUf\n",
       "9FcvF+6qK9PyZCzghYqC57o0ZL89AHeoE11ziy8PGLvet3j6JrRUoo5kPjegFh2IOsdhhY9X5Yem\n",
       "KtH9PSupDCfupeeX3RaZtnGPtGyeXgRq032fqi6tGn9iUUCLeVRvc+4r0VH9GN8+mN7wzUIX7REj\n",
       "6uQfXH+ORiZQ1R6Tb1C87hFaBBNlriGux5SZkB6kagO8pI7eXqPMbkRn+2gfYwbV3I5tnnHDVWTU\n",
       "PziLmak8cXn89R/bxC3Knhzw2wQdh+iZkZ8IsApQN2997YVbpIkaH23Tfc+noRVB6j8SnZ+ycNDD\n",
       "SWJpdrYWfjhBhZnCp7QiLeZgl2xT2CowLpxdCYVf5pKXwtDsoRQfifU6xKdbIQfydT4f8nfgNCbu\n",
       "H0yEq789m2pHAAAAAElFTkSuQmCC\n",
       "\" style=\"display:inline;vertical-align:middle;\" /></a> <a class=\"ProveItLink\" href=\"../../../__pv_it/_proof__non_int_delta_diff/732799e09d0286737efbc0cb92c276f67b6b8eef0/proof.ipynb\" style=\"text-decoration: none\">&nbsp;&#x22A2;&nbsp;&nbsp;</a><a class=\"ProveItLink\" href=\"../../../__pv_it/_proof__non_int_delta_diff/d9dc045ae9ab82fb634612417cc19788335372f00/expr.ipynb\"><img src=\"data:image/png;base64,iVBORw0KGgoAAAANSUhEUgAAAMEAAAAyCAMAAADSmk8ZAAAAP1BMVEX///9jY2MJCQkdHR0NDQ0W\n",
       "Fha6urqqqqpmZmbu7u6IiIgiIiIQEBDc3NwyMjJ2dnaYmJhUVFTMzMxEREQAAACk4BqVAAAAAXRS\n",
       "TlMAQObYZgAAAAlwSFlzAAAOxAAADsQBlSsOGwAAA/dJREFUaN7FWomSIyEIdS/vW///W1fNThJs\n",
       "Yys91UtNzQypeh0QeIAJIV+SInmXTt0TkcRtqKcEP1N3JSpxG+rLYjdTF8Sp/B41pjBW4FBNvJ2p\n",
       "a4/I0KOAsQOHKmK0mahrwjuvFSoPFTJ7lZypqGcQpjFJjUMRr2fqYhhzT16WY2zBobSbqagyKEIz\n",
       "IhdxKJnFRF0ls3Q8TlRZYlAqzNTVOB5rh6GOAoGKMINjxnTjOAi+yBhGQKCCnqmrmThCJVSD2kfp\n",
       "MFNX3zYQMahug+IEsxt/P1FXpaDcICE8Ko38LhOZibrsARXyNLzP3rGVFOfx1xPVcKvTikueu/WU\n",
       "ts+EY1ZnbZNSSfv1QpBKJ5utVoE2jyGRQ7WYRQN+5HV5mLevM5YpVOaz7WeOgkdDqCTGiuqCyBwm\n",
       "IVDDpZ2jFCUdzYCvF3l7N1mKiJ2heg9KzJwp/5TKlbCQgSrDJQ/ikNvfkiSYtpvVnzPUwAPPSKgt\n",
       "kMGOyGBI2BUPuoi2tFF/fqtnyrQQ80hCPEMVsQMPbA1ZhHHv1uV8KY8yjCG1UkBrH2UR+SlqFINg\n",
       "vDshUxZYTpc8AGhTSUj0+1/Z77sVf4AaVLKQqi3DDh4yUOuyGS4FQQNzbT0d329C7vDSAHX0QBUi\n",
       "VrwYx6GF76qp8WD5yrWLAtRuYTN4vmjPUcMskp6WpwVIvu9qG/lfo6qw6iVPt/JBgC3v/THqAvz1\n",
       "s/x6yxLJiKPPov6EapJ6D+ofN/OgzScxX6kDYEujTMe6Wy5i0otYP6HGMajdIE2ySLTTx1y8fMoH\n",
       "BZtBszv+M13kGeqzB7aUroGV/FKbB/ZSQ4A1KSWhkDcLjf57JagJ6rMHTBb6jJBNX6qTlU+3dlwz\n",
       "HzMt65pBodFW2SaxNEGNPHDVQMfnHc1JuXVtIQ4103VXEX7S96SlZcbUKaUyoCY3QSUK7yIq6Dmb\n",
       "MjhGsfOp6jDtc24fN93MHlzqTsD/cAnOB8OD6M+NzlCXV7RGJa44bpyyLs4nO7vSHuPmrt+FLO/e\n",
       "mT2oROtRwnZz4hdxnt637LFHFxy1y5668W+oHHYYQPqV1S2ZtrvoXr1sedBgKAxAD9CuXZI1Ygub\n",
       "TdTDk/O4SU7ltg6JOFlZl6O6iYow6yJqp2nFxyVxwH2DurTbR33HjVe7a43cx/9x40W4nqlrj0iT\n",
       "EiGowtoRCpsY3e9p/kPYUEmEQSk+Uxf4u7ZQY844Ascsd7BRbDOAFOPiwJXUNn1d+RTKKF5FDbLz\n",
       "tk+hrgVBPXbLYytP2Gt8jFg3U3FCUVVAkVcjEX4EHrW57oFi96Hatd5MxcjN30r4hm+G9Nlg70ON\n",
       "l9FrCz6JVtyGepHAd35DCmUKDvUXP9U4Qlq2M58AAAAASUVORK5CYII=\n",
       "\" style=\"display:inline;vertical-align:middle;\" /></a></span>"
      ],
      "text/plain": [
       "{l in {-2^{t - 1} + 1 .. 2^{t - 1}}, (delta - (l / 2^{t})) < 0} |- ((delta - (l / 2^{t})) not-in Integer) in BOOLEAN"
      ]
     },
     "execution_count": 35,
     "metadata": {},
     "output_type": "execute_result"
    }
   ],
   "source": [
    "not_in_ints_assuming_negative.deduce_in_bool()"
   ]
  },
  {
   "cell_type": "code",
   "execution_count": 36,
   "metadata": {},
   "outputs": [
    {
     "data": {
      "text/html": [
       "<strong id=\"left_or\">left_or:</strong> <a class=\"ProveItLink\" href=\"../../../__pv_it/_proof__non_int_delta_diff/8cae36ab206315ed63e4af3ff6d494d754ff5bf30/expr.ipynb\"><img src=\"data:image/png;base64,iVBORw0KGgoAAAANSUhEUgAAAHsAAAAyBAMAAACOvrnoAAAAMFBMVEX///+6urqqqqpmZmbu7u6I\n",
       "iIgiIiIQEBDc3NwyMjJ2dnaYmJhUVFTMzMxEREQAAAC0ii6rAAAAAXRSTlMAQObYZgAAAAlwSFlz\n",
       "AAAOxAAADsQBlSsOGwAAApxJREFUSMedVzuIE1EUvclOJv9JWqtMpVhF2EJWC9Ns4YImoCDIYoLr\n",
       "ij8w5SK6BNKI1RIW3cIihTaCJiAogpBFFiwsktomqcRCZdUIwWXVN2/emww7e+6wvmYuuXNm7px7\n",
       "7nkvRGJZA+LW2RKbpg98OnuFTWfaIJG67ZZ1mIW/gZmeeswmg06swNScut5k4GYFppbV9QhD3mtc\n",
       "164Kkscw/A7MpLdVEJnAe2Jj3JKRjh7jT8e0xj1WivDjh1hyw4aOypDe95iVC15k1dA9dzH8i+GR\n",
       "iLjL7mD4TkpHBrorhntC3+dDa7Tq7rX56HMg93I6S59Qc1Rv25Etbqw6wZ+enRONKSs9bvEz38vv\n",
       "/SVpG9dEb1VHF3n4MND4V0QvhJ5sJQybhZd9QxPdkF2VWuwp0VljFp6bSju9JBX8U5RkU9UVZvTd\n",
       "Hx7uTU/shkQbDrxLnZIyrD7rp/E1FSwoC0n8loSckqjEhIqsW5tK9E3tWxLepr6ebGfyjIdXnSUf\n",
       "9FcvF+6qK9PyZCzghYqC57o0ZL89AHeoE11ziy8PGLvet3j6JrRUoo5kPjegFh2IOsdhhY9X5Yem\n",
       "KtH9PSupDCfupeeX3RaZtnGPtGyeXgRq032fqi6tGn9iUUCLeVRvc+4r0VH9GN8+mN7wzUIX7REj\n",
       "6uQfXH+ORiZQ1R6Tb1C87hFaBBNlriGux5SZkB6kagO8pI7eXqPMbkRn+2gfYwbV3I5tnnHDVWTU\n",
       "PziLmak8cXn89R/bxC3Knhzw2wQdh+iZkZ8IsApQN2997YVbpIkaH23Tfc+noRVB6j8SnZ+ycNDD\n",
       "SWJpdrYWfjhBhZnCp7QiLeZgl2xT2CowLpxdCYVf5pKXwtDsoRQfifU6xKdbIQfydT4f8nfgNCbu\n",
       "H0yEq789m2pHAAAAAElFTkSuQmCC\n",
       "\" style=\"display:inline;vertical-align:middle;\" /></a><br>\n",
       "<strong id=\"right_or\">right_or:</strong> <a class=\"ProveItLink\" href=\"../../../__pv_it/_proof__non_int_delta_diff/94a80d907e4c090d91ef48c15dd3603871201ada0/expr.ipynb\"><img src=\"data:image/png;base64,iVBORw0KGgoAAAANSUhEUgAAAHsAAAAyBAMAAACOvrnoAAAAMFBMVEX///+6urqqqqpmZmbu7u6I\n",
       "iIgiIiIQEBDc3NwyMjJ2dnaYmJhUVFTMzMxEREQAAAC0ii6rAAAAAXRSTlMAQObYZgAAAAlwSFlz\n",
       "AAAOxAAADsQBlSsOGwAAAp5JREFUSMedVz1oU1EUPklfXn7M3+qUTIpThAq2OphFoYMmoFSQYoJ/\n",
       "KApmLFIl0EU6lSK6OLxBHQTNA0ERhAQpKDgks0syiDioVI0QLFVv3v15bdLvPO1d3iXnffed+53v\n",
       "fPeGSIx0h7hxosiG6R0fTl1gw0kHBBLXZVp7WPhLGGmqZVoMOjYPQ9PqeZWB22UYuqieexnyXuC8\n",
       "NtQkvh/Db8DIrjU1CQ3gO5E+LklPz+7jrWNao4aVAtx8F0uuW9ezEqT3DWbltJmlq+idBQz/bBkS\n",
       "EXepdQxfT+iZhd6K4JrQt6OBOaZr8rl479NY7JnfSx9RcVRtndAq11aN8Z8enxSFKSk9rvI938yO\n",
       "/hLPW5dFbVVF53h4d6zwz4meCj3llTDyLFwlOeP6VfW02FSiS/dZeEZK23pksvghUspTRQoz/Po3\n",
       "D9fdM/tAKWEId6lRVIbVZv00umz2fEB6wS+PkCMeKjagAuvWti/6fVMG7lBbd/aw86y7l4bDW+iP\n",
       "HhJe85faPSyyJeC5soJnXOqye98C/6CoE1WTyZc6jF2PJv/We3wVWipSw2M+06EV+kfqpozDCh+v\n",
       "eBtNlMPbe1ZcGU60NVI4svPWTdKyeXgGqE3XXarOmjWysQ7NCWghi/JdnP4iNqqXkb17zB3tBRed\n",
       "ET1qZJeuPEEtsyWrbUy+TtGaIbQAOspeRlz3KTkg3UiVOvhIDX29SsmNkI620TnGNKq9Fmkdl9Nb\n",
       "yKi/cxYzUZZljv3cwTFxjVKHO/wxQQcheqK3mQgwclA3rzaVFx6RNip82KHbxqehFUHq3xOd8ln4\n",
       "38tJ7PzkZDX4coISs4VPaUWmmYtd3KGgkWNcODUfCD/HBc8GodlLKb4SG2vlwysBF/I7fDzg78AM\n",
       "Ju4vBYKtmw566voAAAAASUVORK5CYII=\n",
       "\" style=\"display:inline;vertical-align:middle;\" /></a><br>"
      ],
      "text/plain": [
       "left_or: (delta - (l / 2^{t})) < 0\n",
       "right_or: (delta - (l / 2^{t})) > 0"
      ]
     },
     "execution_count": 36,
     "metadata": {},
     "output_type": "execute_result"
    }
   ],
   "source": [
    "left_or, right_or = delta_diff_is_positive_or_negative.operands"
   ]
  },
  {
   "cell_type": "code",
   "execution_count": 37,
   "metadata": {},
   "outputs": [
    {
     "data": {
      "text/html": [
       "<strong id=\"desired_conclusion\">desired_conclusion:</strong> <a class=\"ProveItLink\" href=\"../../../__pv_it/theorems/a66c269a4d605ffeaf8fb47ca185543aea1e807b0/expr.ipynb\"><img src=\"data:image/png;base64,iVBORw0KGgoAAAANSUhEUgAAAHwAAAAyCAMAAACpkk+QAAAAP1BMVEX///9jY2MJCQkdHR0NDQ0W\n",
       "Fha6urqqqqpmZmbu7u6IiIgiIiIQEBDc3NwyMjJ2dnaYmJhUVFTMzMxEREQAAACk4BqVAAAAAXRS\n",
       "TlMAQObYZgAAAAlwSFlzAAAOxAAADsQBlSsOGwAAAshJREFUWMOtWFeyIyEMZN/bJSPi/c+6gMMM\n",
       "GAckUy5/jAs3tLoVhrHbyomhl8qKUVYMlN3JUNCj39zgTTlTJQweO8D+ljIeJmKxnXXbe+R0XoON\n",
       "m9H0PcLiwh4sgqwyuwMkCtx6Rg15Xbw4BLYuCMJifngEGM0ZzCb7KBOBuEQqiNyWFhyrsq/baDGh\n",
       "Wm3K+5nGYljPkamFCN02gZjsUDf5Be9hW+sYhxSu9MckPgfIQ/ScBJs/OE2Q/vOgwxEhAbZYyMZk\n",
       "21iyg2HrX/KILo++LAN74kPn2LwF/VPjNGTFSOoKQuGrEnR6KDuarooRXW9D7HSkgKel08+xiK43\n",
       "Pu3T05IYBSsI4BONnWbz7685qm8nVibWya9MjfktFwrxZSSOg1ZXnFEDSS6cJqIomQI+bHZN5uqh\n",
       "Sard5rXh9Oebtm4qUq5uByRo9wqzDIS/P5MnLNdYEIXQQ5vB6DCZ/P70dsRYphp9FDkF5lj3E5WH\n",
       "dQY/Z6xk677fn/p1DoYWzPOr9s7gPTWnQoj5AN7t5MU8XzCXb6470a76nRFd9DPazWTyDpkuXq9o\n",
       "TXCH2js4UIw+Ck5rxifjV49dH0XTrHboy+tmth0wcC/LGojZ5NVjXYEuizwlGa+138tos8/Hi6r4\n",
       "wwexc5tr1cy5lrbsm7P4dssuJVxmWgHzYaazhz++lk8DX2tkulh9PbPzBnx6WVjgTcIqu4PGRazW\n",
       "LsQ5VambqV64Y9datpszNpfMmXhuyfw752x3ztFcMmOq8pl/mgT41jkBV0hM6Z2HGmJudytiQrUP\n",
       "XVpSM6+GyXV7ZLHo+S7JkGhDA5OIcUnm52rYWnw/zYQ1WQXzgmPX6aLlMee+It3dTannUK2+Mudv\n",
       "vhZxRrZlvvNaZPPq5tI8wWJqRi3wjLw4tutN1pHBDboD0pmK7QlDXiQSzyltJ61vZAloL9xJL/tx\n",
       "2P8BWNgiw2LnJPcAAAAASUVORK5CYII=\n",
       "\" style=\"display:inline;vertical-align:middle;\" /></a><br>"
      ],
      "text/plain": [
       "desired_conclusion: (delta - (l / 2^{t})) not-in Integer"
      ]
     },
     "execution_count": 37,
     "metadata": {},
     "output_type": "execute_result"
    }
   ],
   "source": [
    "desired_conclusion = not_in_ints_assuming_negative.expr"
   ]
  },
  {
   "cell_type": "code",
   "execution_count": 38,
   "metadata": {},
   "outputs": [
    {
     "data": {
      "text/html": [
       "<strong id=\"left_impl_conclusion\">left_impl_conclusion:</strong> <span style=\"font-size:20px;\"><a class=\"ProveItLink\" href=\"../../../__pv_it/theorems/8bc9b38cf75c7371ab646fd064ad09fc02345f250/expr.ipynb\"><img src=\"data:image/png;base64,iVBORw0KGgoAAAANSUhEUgAAANYAAAAYBAMAAAB0Lx7ZAAAAMFBMVEX///+qqqq6urru7u4QEBBE\n",
       "RERUVFTc3NyIiIgyMjJmZmaYmJjMzMwiIiJ2dnYAAACPW0xlAAAAAXRSTlMAQObYZgAAAAlwSFlz\n",
       "AAAOxAAADsQBlSsOGwAAAeBJREFUSMdjYCAMOAugDOadDMQD8nTZwxgnemmuSxLOkqW6LiMFFG7d\n",
       "zTdk2IWmq7AAqyqOSQaoAhPJ8heqLp5UkKFv/6ApkkeyqmplDAPDZzx28VzGYg02XawJQIL7A5rK\n",
       "twgmewDDewUmBwaeUCAIx2KX2crPmFZh1cV3AUhwTcBtF1sBA4sDR4INhr+YNsACHItdWHWB7eJt\n",
       "gIi03r07Ad0uls8MbN+5Gh5j2MXYgMcurLrAdtUfAAtoNmPz1wUGtj88qw/A0tb8F8TYhVUX2K79\n",
       "kDCejC0MQd7+gC2R4bULqy6wXamoJQoDw0oUNecbyLELUxeHA5DwgNiFSEXeKGquMZBjF6Yu9o/A\n",
       "DPIdzDxyFwgCQGKZwFKDeS6IexcY4lwBmAZx3b17xffu3QTcdmHTZTYR4jcGBlO42KlgZBXbGMjx\n",
       "FzZdLxWA+RlcTPAiBMOQzXzAUE66Xdh0MQIV8m94ANbTgDUdnmNgaCbdLmy6+IDhx6/cgFZUIpdR\n",
       "t1atuoDXLj5IdDP/hBG4dIHSPPc6aNQFGWDaxfv///8J+OxiS/mZDWbcghM4dPEh264Xi1lG4QSM\n",
       "DQwkAj6s4UOMXfCyl0K7WhhoAbiwxkW9AC3sMsEaEuzLaGBZXSIDAwB4aaUFdo5x/QAAAABJRU5E\n",
       "rkJggg==\n",
       "\" style=\"display:inline;vertical-align:middle;\" /></a> <a class=\"ProveItLink\" href=\"../../../__pv_it/_proof__non_int_delta_diff/e71d33cd13df5a9010b923dce420fb26089f9a4d0/proof.ipynb\" style=\"text-decoration: none\">&nbsp;&#x22A2;&nbsp;&nbsp;</a><a class=\"ProveItLink\" href=\"../../../__pv_it/_proof__non_int_delta_diff/341cdc17207df4672e1e0001b5ff41c55eb41a4b0/expr.ipynb\"><img src=\"data:image/png;base64,iVBORw0KGgoAAAANSUhEUgAAAVQAAAAyCAMAAAA0ltN0AAAAP1BMVEX///9jY2MJCQkdHR0NDQ0W\n",
       "Fha6urqqqqpmZmbu7u6IiIgiIiIQEBDc3NwyMjJ2dnaYmJhUVFTMzMxEREQAAACk4BqVAAAAAXRS\n",
       "TlMAQObYZgAAAAlwSFlzAAAOxAAADsQBlSsOGwAABYZJREFUeNrVnImS2ygQhtlkV9wgjvd/1pVk\n",
       "x6YbJIvGlifUVKpw5pc+QV+APIz9aSmysqFuV5NJXiTao72cvi0L81G3s0UtLxK1ab9A35IFf9Q9\n",
       "0bzOhXVwTaAiiVq03fQQngqCZbM76p5qcwaYgUBFEtW0BHoITwWBMmvsQfdcE/BRNMUDSSJMS6FH\n",
       "8DQQJNMK/p+iXBCKuCEEJpII01LosYYEAmWzgb5gKPaSUcJ1gnAVggjTUugreBo9kBkY2I0nXA5F\n",
       "JcamTIghBBGmpdBX8DT6UqYysHXUPZuBUzVrlGjfLcK0JPoankZfyDTUa9LlTBXJOOXxukWYlkRf\n",
       "w9Pon7IIA0rMlNVIrN1FZkLG6BVhWhJ9A55G/5QFGNkDJU0x1VAlSg3dKcK0JPoWPI3+ITPQYQzJ\n",
       "+1Ngsg7/hGDfKcK0JPoWPI3+jyzmGboCqe5dVL52hZniP3OX485snL4FT6P/I1NwRhRtgvIk1Usz\n",
       "Itnei9xv2Th9E34PxJ7hTzCgwK4VzqQznLPw3wiqCJ5I34TfA3HPSMGdycYlrZOZoczAGg12l5tN\n",
       "gbwj5/Op3/JK2F5Rk/YK+ljYr0phrTXc9lPKZBYwJIBuGNg4XoP2dKJc5stdte0TtWmvoBfFh2K7\n",
       "m1oiMoeyCOsx1FVhBCueqPXmzcl86hLt/e4F9GVMCKspyLT+QBnPHK4IOJx6PoCFDakIRrYoZ+D6\n",
       "ZVfE6vMKRPtpepX0f//qp6tvPCKyEJFshksQ1GUpj7hQDm3jFM+L3shj8fh5z75iqj00ssvoJ6ck\n",
       "HL97jI0Cyw4rKh54TiNYDbHSXlbmUNaX+3ecfVdF9V56u6Z96RrugzxokXk4maC7nkuEkck2mEF6\n",
       "tB1ss8fxC4qELhp2SAT/UfotYs04zHJffbbIBLxt2bXrvPM8cNqrYalnRXVM8RhUvydCwZjv0X6a\n",
       "3qEi9fGpq2UBVmNld9tlfG77SFfYzIM1V628PqjFg+ONbLCN5lRYqj7aE5HOTG3aY/o2fAd9NIvw\n",
       "96/lnzIoKM789MhZD9nBoG5xLuaBqPR6UO+JqkzbR4Nqnbfs3KC+mX4rmzx6gOVDm57V1UO27/5y\n",
       "m2XKaXWH+7OUbmlb7ohATNXOspPu/3Z6jYrUbSjjfTRlBjIPE2jZ3bDcSKn3OlHdz+nKI2KzOxBT\n",
       "qlaSll1FrxSbUJ5caqn7R0EDmYKhvOx6tZYlPRjIkFobPVJpBcxLr8tUE09sU1lXb1JFdhm947hI\n",
       "XWqpLXPZxBOQHRX/Xqmuo0mZmwGzLv5BpSq8ArT7K6rYVfy/m16GXxMwh8kkZ1JKJpvkgYzDbQPe\n",
       "sZ3xiJTC3Z6Xu2ZqbwyrswfPtjcUtQbTfpZ+/senNa6/mhs/vvG/pT+/PI312vnYu6FC2oXZo/0s\n",
       "vZOn+ZGR595XM27pz5hGWuCUDY0uEab9JL1N5/mROeveIsRsZUxY8y5eE5ION7pEmPaT9J6f5x89\n",
       "ob5VE2FJEROWBkrp3SUaPqHuoA8d/DOcoZm2BaHzticsQVQylD2iLhGm/Tr9XRZh6Iikjd0tOgvF\n",
       "ylqJWUqe6hNh2m/TP2TveJlie4MpihnVvH/JyxTvo3/IBAwmgvDijEj78YoU5M7f2bCfRP+QTbBi\n",
       "nvoL6LltHiT/6RRh2i/TP2UaFne6t9bj68rD2ldJhJR5XruuYD+HvpAN5v+4reaUbEYqUngbmYWv\n",
       "0peyodfTrRZr07Vj/g2vp7+VHsiGTFXfjiHqY0biS43sUlN9Kz2UOTi7zrPhNlFiEkmEab9Gj2QR\n",
       "fp8rGjuMpflVIkz7NXosU7BUU2mU6sqvUWLaL9HXsuEv/CI/cFeJWrRfoW/J0G7i0IkZi05eJGrT\n",
       "foG+LXvnH1GgUEn3U/6IAg2kkP0PH3xg5eP8B1cAAAAASUVORK5CYII=\n",
       "\" style=\"display:inline;vertical-align:middle;\" /></a></span><br>"
      ],
      "text/plain": [
       "left_impl_conclusion: {l in {-2^{t - 1} + 1 .. 2^{t - 1}}} |- ((delta - (l / 2^{t})) < 0) => ((delta - (l / 2^{t})) not-in Integer)"
      ]
     },
     "execution_count": 38,
     "metadata": {},
     "output_type": "execute_result"
    }
   ],
   "source": [
    "left_impl_conclusion = Implies(left_or, desired_conclusion).prove(\n",
    "        assumptions=defaults.assumptions + (left_or,))"
   ]
  },
  {
   "cell_type": "code",
   "execution_count": 39,
   "metadata": {},
   "outputs": [
    {
     "data": {
      "text/html": [
       "<strong id=\"right_impl_conclusion\">right_impl_conclusion:</strong> <span style=\"font-size:20px;\"><a class=\"ProveItLink\" href=\"../../../__pv_it/theorems/8bc9b38cf75c7371ab646fd064ad09fc02345f250/expr.ipynb\"><img src=\"data:image/png;base64,iVBORw0KGgoAAAANSUhEUgAAANYAAAAYBAMAAAB0Lx7ZAAAAMFBMVEX///+qqqq6urru7u4QEBBE\n",
       "RERUVFTc3NyIiIgyMjJmZmaYmJjMzMwiIiJ2dnYAAACPW0xlAAAAAXRSTlMAQObYZgAAAAlwSFlz\n",
       "AAAOxAAADsQBlSsOGwAAAeBJREFUSMdjYCAMOAugDOadDMQD8nTZwxgnemmuSxLOkqW6LiMFFG7d\n",
       "zTdk2IWmq7AAqyqOSQaoAhPJ8heqLp5UkKFv/6ApkkeyqmplDAPDZzx28VzGYg02XawJQIL7A5rK\n",
       "twgmewDDewUmBwaeUCAIx2KX2crPmFZh1cV3AUhwTcBtF1sBA4sDR4INhr+YNsACHItdWHWB7eJt\n",
       "gIi03r07Ad0uls8MbN+5Gh5j2MXYgMcurLrAdtUfAAtoNmPz1wUGtj88qw/A0tb8F8TYhVUX2K79\n",
       "kDCejC0MQd7+gC2R4bULqy6wXamoJQoDw0oUNecbyLELUxeHA5DwgNiFSEXeKGquMZBjF6Yu9o/A\n",
       "DPIdzDxyFwgCQGKZwFKDeS6IexcY4lwBmAZx3b17xffu3QTcdmHTZTYR4jcGBlO42KlgZBXbGMjx\n",
       "FzZdLxWA+RlcTPAiBMOQzXzAUE66Xdh0MQIV8m94ANbTgDUdnmNgaCbdLmy6+IDhx6/cgFZUIpdR\n",
       "t1atuoDXLj5IdDP/hBG4dIHSPPc6aNQFGWDaxfv///8J+OxiS/mZDWbcghM4dPEh264Xi1lG4QSM\n",
       "DQwkAj6s4UOMXfCyl0K7WhhoAbiwxkW9AC3sMsEaEuzLaGBZXSIDAwB4aaUFdo5x/QAAAABJRU5E\n",
       "rkJggg==\n",
       "\" style=\"display:inline;vertical-align:middle;\" /></a> <a class=\"ProveItLink\" href=\"../../../__pv_it/_proof__non_int_delta_diff/b285e96ff6b5bdf9192e7d0ad61fabbf6656e8b00/proof.ipynb\" style=\"text-decoration: none\">&nbsp;&#x22A2;&nbsp;&nbsp;</a><a class=\"ProveItLink\" href=\"../../../__pv_it/_proof__non_int_delta_diff/5a664cf35af81b1f01a5cbfc8ec9c06bc695b6f10/expr.ipynb\"><img src=\"data:image/png;base64,iVBORw0KGgoAAAANSUhEUgAAAVQAAAAyCAMAAAA0ltN0AAAAP1BMVEX///9jY2MJCQkdHR0NDQ0W\n",
       "Fha6urqqqqpmZmbu7u6IiIgiIiIQEBDc3NwyMjJ2dnaYmJhUVFTMzMxEREQAAACk4BqVAAAAAXRS\n",
       "TlMAQObYZgAAAAlwSFlzAAAOxAAADsQBlSsOGwAABZBJREFUeNrVnItypCoQhtnds3IHBd7/WY86\n",
       "iUM36Egzo1kqlSrM/Pop9IXGCWPfLQaWN9RtajLKi0R7tJfT12XTeNRtbEHLi0R12hvoa7LJH3VP\n",
       "NK9TNju4JlCRRDXaZnoITwXBstEddU+1MQHMiUBFEpW0BHoITwWBMmvsQfdcE/BWNMUCSSJMS6FH\n",
       "8DQQJNMK/k1RTghF3BAcE0mEaSn0WEMCgbLRQFswlPmSUMB1gnAWggjTUugLeBo9kBno2I0nnA55\n",
       "JcaGRPAhBBGmpdAX8DT6XKYSmOuoezYCx2LUKN6+WYRpSfQlPI0+k2mo16TTmcKTccrtNYswLYm+\n",
       "hKfRP2UBOpSQKKuRUJqLTISI0SrCtCT6CjyN/imboGefKGGKqYoqUnLoRhGmJdHX4Gn0m8xAgzEk\n",
       "648Tk6X7Jzj7RhGmJdHX4Gn037KQRmgKpLx3VvnSFEaK/YxNhjuyfvoaPI3+W6bgiCjaAKVBqpfT\n",
       "iDT3XsR+y/rpq/B7IPYMf4QOBXatcCae4RyFv8OpIngifRV+D8Q9PQV3JhkXtY5mhDIDczTYnS82\n",
       "TOSKnE+nPuWVsK2iKu0V9CGbvypOS67h1p9cJpOALgF0p47C8eK0hxPpMp+vqm2bqE57Bb3IDor1\n",
       "amr2yBzKAszHUFdNPVjhRK43rkbmY5No77MX0Oc+YVqmgozLD5TxxOGKgMOh5x1YcOJIN9bTGbh+\n",
       "wbMv+6gs1y+cXUT/MHf99z/9NPWVRwQ2BSQb4RIEdVlMPSaUwFSRvlKVe5CH7PbT3vwKsbTQwK6i\n",
       "Z4NTEj6/Lx8bBJYdZlR84in2YGGx0l7WpkOeX+5fcfRNGdV76e0S9qWrmA+yoFnm4WCC7rIvMfUM\n",
       "tnEVHyryE9rksf+CIqGzhg0SwX+U3i3jNWJT4744NssEvGzetcu489Sx26trqR53WQa1PVR/LNq0\n",
       "fI/20/QOJanbUVfKJpiN5d21yvgs+0iXzZmNNRUtP3+9vDG4LdmRj6c5ZDNVH9VEpDNDnfaYvg7f\n",
       "QB/MLPzze/6VOwXFmR+2mLXJDh7q6udC6vBKuw/16YYeFp2H7aOHap237NxDfTP9mjZ5lE3MB218\n",
       "ZlebbN/85TrKlN3qV+afEbAYH2Fb7oiAT9XOspPm/3Z6jZLU9VGGr6cpE5B5GEDz7orlelK9eqAC\n",
       "F3zs0+VbxGb3QQyxWEladhW9UmxAcXLOpb4OTRrIFHTlederJS1pwUATqSz0FCnVPLDLMtWEE2Uq\n",
       "68oiVWCX0TuOk9TZia2Ry0Yegewo+fdKNW1NylTN7Lc/q9qWvBReAdr9FVVoSv7fTM/k9HsAM2Iw\n",
       "0ZkYo0kmeiDjsGzAG8oZW4FNuMf9cocx87uS5177gKLjSiam/SD9MmS/fFz8+mv+7sL/Gv78fDfW\n",
       "a+dDa0GFVIXZo/0svZOn+dEkT62vZjzCnzGVsMApBY0mEab9JL2N5/nRdNatSYhZ05hpibt4TUja\n",
       "3GgSYdpP0nt+nr93h/qRTUxziBiwdKKk3k2i7h3qBvqpgX+EIzTSShA6rTVhCbySodSImkSY9nb6\n",
       "L1mAriOQCrurdxaKeViBIsSpNhGmvZt+k73jZYr1DaYgRpTz/iMvU7yPfpMJ6EwE4cUZEff9FcnJ\n",
       "nb+yYT+JfpMNMGMe2hPosT49SPbTKMK0N9M/ZRomd7o11+PLysPaV0GEFHlem65gP4c+k3XG/7Cu\n",
       "5pSseiqSe+sZhVvpc1nX6+lWi6Xp0jD/hdfT30oPZF1TVT+2IcptRuJLjezSqfpWeihzcHSdZ91t\n",
       "oPgkkgjT3kaPZAF+nysY242l+VUiTHsbPZYpmKqp2Et15dcoMe1N9KWs+wu/yA7cVaIa7S30NRmq\n",
       "JnbtmLHg5EWiOu0N9HXZO/+JAoVKup/yTxRoIJnsf9OgYOZjJyTNAAAAAElFTkSuQmCC\n",
       "\" style=\"display:inline;vertical-align:middle;\" /></a></span><br>"
      ],
      "text/plain": [
       "right_impl_conclusion: {l in {-2^{t - 1} + 1 .. 2^{t - 1}}} |- ((delta - (l / 2^{t})) > 0) => ((delta - (l / 2^{t})) not-in Integer)"
      ]
     },
     "execution_count": 39,
     "metadata": {},
     "output_type": "execute_result"
    }
   ],
   "source": [
    "right_impl_conclusion = Implies(right_or, desired_conclusion).prove(\n",
    "        assumptions=defaults.assumptions + (right_or,))"
   ]
  },
  {
   "cell_type": "code",
   "execution_count": 40,
   "metadata": {},
   "outputs": [
    {
     "data": {
      "text/html": [
       "<strong id=\"not_in_ints\">not_in_ints:</strong> <span style=\"font-size:20px;\"><a class=\"ProveItLink\" href=\"../../../__pv_it/theorems/8bc9b38cf75c7371ab646fd064ad09fc02345f250/expr.ipynb\"><img src=\"data:image/png;base64,iVBORw0KGgoAAAANSUhEUgAAANYAAAAYBAMAAAB0Lx7ZAAAAMFBMVEX///+qqqq6urru7u4QEBBE\n",
       "RERUVFTc3NyIiIgyMjJmZmaYmJjMzMwiIiJ2dnYAAACPW0xlAAAAAXRSTlMAQObYZgAAAAlwSFlz\n",
       "AAAOxAAADsQBlSsOGwAAAeBJREFUSMdjYCAMOAugDOadDMQD8nTZwxgnemmuSxLOkqW6LiMFFG7d\n",
       "zTdk2IWmq7AAqyqOSQaoAhPJ8heqLp5UkKFv/6ApkkeyqmplDAPDZzx28VzGYg02XawJQIL7A5rK\n",
       "twgmewDDewUmBwaeUCAIx2KX2crPmFZh1cV3AUhwTcBtF1sBA4sDR4INhr+YNsACHItdWHWB7eJt\n",
       "gIi03r07Ad0uls8MbN+5Gh5j2MXYgMcurLrAdtUfAAtoNmPz1wUGtj88qw/A0tb8F8TYhVUX2K79\n",
       "kDCejC0MQd7+gC2R4bULqy6wXamoJQoDw0oUNecbyLELUxeHA5DwgNiFSEXeKGquMZBjF6Yu9o/A\n",
       "DPIdzDxyFwgCQGKZwFKDeS6IexcY4lwBmAZx3b17xffu3QTcdmHTZTYR4jcGBlO42KlgZBXbGMjx\n",
       "FzZdLxWA+RlcTPAiBMOQzXzAUE66Xdh0MQIV8m94ANbTgDUdnmNgaCbdLmy6+IDhx6/cgFZUIpdR\n",
       "t1atuoDXLj5IdDP/hBG4dIHSPPc6aNQFGWDaxfv///8J+OxiS/mZDWbcghM4dPEh264Xi1lG4QSM\n",
       "DQwkAj6s4UOMXfCyl0K7WhhoAbiwxkW9AC3sMsEaEuzLaGBZXSIDAwB4aaUFdo5x/QAAAABJRU5E\n",
       "rkJggg==\n",
       "\" style=\"display:inline;vertical-align:middle;\" /></a>, <a class=\"ProveItLink\" href=\"../../../__pv_it/theorems/b38b045a9246dd5ac239f68f921874310f53aad00/expr.ipynb\"><img src=\"data:image/png;base64,iVBORw0KGgoAAAANSUhEUgAAAC0AAAAUCAMAAAAusUTNAAAAPFBMVEX///8NDQ0WFhYLCwsYGBiq\n",
       "qqq6urru7u4QEBBERERUVFTc3NyIiIgyMjJmZmaYmJjMzMwiIiJ2dnYAAABsuYCuAAAAAXRSTlMA\n",
       "QObYZgAAAAlwSFlzAAAOxAAADsQBlSsOGwAAAMhJREFUKM+VkusShCAIhd2Loal4e/93XZGp1bIa\n",
       "+cGEHT8PohBXgTBcTjGH82rQnSZZNPzp84ChW4KTQkBkOboBem0KHyufT4t2gDZtUbfKTJ2Yge2l\n",
       "RYuM9bgsL2y7Fg2b2pe8Nt1jrPH9UN74JidWk2Nl79F/daJkTq6xK4HVC7GtekBvXUrqslwP9L7f\n",
       "L3a/34vWPMSiK52mA/r4Qrzah5gX6NuUeLIWafKKxuLxCV2UmOwaRk9SJjERDibEfgodZ9Ai3P38\n",
       "AUNKCPHed8bwAAAAAElFTkSuQmCC\n",
       "\" style=\"display:inline;vertical-align:middle;\" /></a> <a class=\"ProveItLink\" href=\"../../../__pv_it/_proof__non_int_delta_diff/780c183db5c8eee8278945bab30175b6f968da7f0/proof.ipynb\" style=\"text-decoration: none\">&nbsp;&#x22A2;&nbsp;&nbsp;</a><a class=\"ProveItLink\" href=\"../../../__pv_it/theorems/a66c269a4d605ffeaf8fb47ca185543aea1e807b0/expr.ipynb\"><img src=\"data:image/png;base64,iVBORw0KGgoAAAANSUhEUgAAAHwAAAAyCAMAAACpkk+QAAAAP1BMVEX///9jY2MJCQkdHR0NDQ0W\n",
       "Fha6urqqqqpmZmbu7u6IiIgiIiIQEBDc3NwyMjJ2dnaYmJhUVFTMzMxEREQAAACk4BqVAAAAAXRS\n",
       "TlMAQObYZgAAAAlwSFlzAAAOxAAADsQBlSsOGwAAAshJREFUWMOtWFeyIyEMZN/bJSPi/c+6gMMM\n",
       "GAckUy5/jAs3tLoVhrHbyomhl8qKUVYMlN3JUNCj39zgTTlTJQweO8D+ljIeJmKxnXXbe+R0XoON\n",
       "m9H0PcLiwh4sgqwyuwMkCtx6Rg15Xbw4BLYuCMJifngEGM0ZzCb7KBOBuEQqiNyWFhyrsq/baDGh\n",
       "Wm3K+5nGYljPkamFCN02gZjsUDf5Be9hW+sYhxSu9MckPgfIQ/ScBJs/OE2Q/vOgwxEhAbZYyMZk\n",
       "21iyg2HrX/KILo++LAN74kPn2LwF/VPjNGTFSOoKQuGrEnR6KDuarooRXW9D7HSkgKel08+xiK43\n",
       "Pu3T05IYBSsI4BONnWbz7685qm8nVibWya9MjfktFwrxZSSOg1ZXnFEDSS6cJqIomQI+bHZN5uqh\n",
       "Sard5rXh9Oebtm4qUq5uByRo9wqzDIS/P5MnLNdYEIXQQ5vB6DCZ/P70dsRYphp9FDkF5lj3E5WH\n",
       "dQY/Z6xk677fn/p1DoYWzPOr9s7gPTWnQoj5AN7t5MU8XzCXb6470a76nRFd9DPazWTyDpkuXq9o\n",
       "TXCH2js4UIw+Ck5rxifjV49dH0XTrHboy+tmth0wcC/LGojZ5NVjXYEuizwlGa+138tos8/Hi6r4\n",
       "wwexc5tr1cy5lrbsm7P4dssuJVxmWgHzYaazhz++lk8DX2tkulh9PbPzBnx6WVjgTcIqu4PGRazW\n",
       "LsQ5VambqV64Y9datpszNpfMmXhuyfw752x3ztFcMmOq8pl/mgT41jkBV0hM6Z2HGmJudytiQrUP\n",
       "XVpSM6+GyXV7ZLHo+S7JkGhDA5OIcUnm52rYWnw/zYQ1WQXzgmPX6aLlMee+It3dTannUK2+Mudv\n",
       "vhZxRrZlvvNaZPPq5tI8wWJqRi3wjLw4tutN1pHBDboD0pmK7QlDXiQSzyltJ61vZAloL9xJL/tx\n",
       "2P8BWNgiw2LnJPcAAAAASUVORK5CYII=\n",
       "\" style=\"display:inline;vertical-align:middle;\" /></a></span><br>"
      ],
      "text/plain": [
       "not_in_ints: {l in {-2^{t - 1} + 1 .. 2^{t - 1}}, l != 0} |- (delta - (l / 2^{t})) not-in Integer"
      ]
     },
     "execution_count": 40,
     "metadata": {},
     "output_type": "execute_result"
    }
   ],
   "source": [
    "not_in_ints = delta_diff_is_positive_or_negative.derive_via_dilemma(\n",
    "    not_in_ints_assuming_negative, assumptions=defaults.assumptions)"
   ]
  },
  {
   "cell_type": "code",
   "execution_count": null,
   "metadata": {},
   "outputs": [],
   "source": [
    "%qed"
   ]
  },
  {
   "cell_type": "code",
   "execution_count": null,
   "metadata": {},
   "outputs": [],
   "source": []
  }
 ],
 "metadata": {
  "kernelspec": {
   "display_name": "Python 3",
   "language": "python",
   "name": "python3"
  },
  "language_info": {
   "codemirror_mode": {
    "name": "ipython",
    "version": 3
   },
   "file_extension": ".py",
   "mimetype": "text/x-python",
   "name": "python",
   "nbconvert_exporter": "python",
   "pygments_lexer": "ipython3",
   "version": "3.7.3"
  }
 },
 "nbformat": 4,
 "nbformat_minor": 1
}
