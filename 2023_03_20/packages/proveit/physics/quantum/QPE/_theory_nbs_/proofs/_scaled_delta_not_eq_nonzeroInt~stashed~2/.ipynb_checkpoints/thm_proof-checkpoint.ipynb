{
 "cells": [
  {
   "cell_type": "markdown",
   "metadata": {},
   "source": [
    "Proof of <a class=\"ProveItLink\" href=\"../../../../../../_theory_nbs_/theory.ipynb\">proveit</a>.<a class=\"ProveItLink\" href=\"../../../../../_theory_nbs_/theory.ipynb\">physics</a>.<a class=\"ProveItLink\" href=\"../../../../_theory_nbs_/theory.ipynb\">quantum</a>.<a class=\"ProveItLink\" href=\"../../theory.ipynb\">QPE</a>.<a class=\"ProveItLink\" href=\"../../theorems.ipynb#_scaled_delta_not_eq_nonzeroInt\">_scaled_delta_not_eq_nonzeroInt</a> theorem\n",
    "========"
   ]
  },
  {
   "cell_type": "code",
   "execution_count": 1,
   "metadata": {},
   "outputs": [],
   "source": [
    "import proveit\n",
    "theory = proveit.Theory() # the theorem's theory\n",
    "from proveit import defaults, l, n, x, y\n",
    "from proveit.logic import Equals\n",
    "from proveit.numbers import zero, one, IntervalOO, Mult\n",
    "from proveit.numbers.number_sets.real_numbers import not_int_if_between_successive_int\n",
    "from proveit.physics.quantum.QPE import _delta, _scaled_delta_in_interval, _two_pow_t"
   ]
  },
  {
   "cell_type": "code",
   "execution_count": 2,
   "metadata": {},
   "outputs": [
    {
     "data": {
      "text/html": [
       "Under these <a href=\"presumptions.txt\">presumptions</a>, we begin our proof of<br><strong id=\"_scaled_delta_not_eq_nonzeroInt\">_scaled_delta_not_eq_nonzeroInt:</strong> <a class=\"ProveItLink\" href=\"../../../__pv_it/theorems/824b0fb514d06ba300413815de54bce9c4c6a3db0/expr.ipynb\"><img src=\"data:image/png;base64,iVBORw0KGgoAAAANSUhEUgAAAM8AAAAaCAMAAAAnrPjxAAAARVBMVEX///8NDQ0WFhYLCwsYGBg2\n",
       "NjYbGxsSEhKIiIgiIiIQEBB2dnbu7u5ERETMzMzc3NwyMjK6urpmZmaYmJiqqqpUVFQAAAA0WiBi\n",
       "AAAAAXRSTlMAQObYZgAAAAlwSFlzAAAOxAAADsQBlSsOGwAAAzFJREFUWMPVWAeW2yAQJZ3e4f5H\n",
       "DSBAVFnajZMXnteetT/StD8zCIB/uqQA/+Myapbiov56n35wD/33zLF6lo5/5fVGwe7f5An2c4vK\n",
       "WUoaECQJvw4sfJAE8C/Zw8wsZfrYnbO1xCxyC9FNdi2+T1h3Bt+8xxyBB0loLVmKi99oCwgAysUf\n",
       "oVv+ztvkIsinqyWsVu+uNZr0Ukp04sN9Fd7tcbRWjKXJrEtT408sd+/mk1e95JLfME4OpWv+nGGR\n",
       "q6zhfdS0bLAyO4DY95jDq4ezhNOH8wJoCMg646gv2uiVm1mfSgg2WJMdIN8UHogGyaUPF3Kea7Mr\n",
       "b6x4AS5yUvXhEZ63WIziwuRN9jg5S9GnV63UOutzXNSCQAPTTbnUgdXJOkY/14W32xmbpZh7F93C\n",
       "yBg/moFnCHXyPPr+Lb6fMXKsXjRihStvgLreaw4zosOr0a6xoAWTRHVC4BRm6WYphMddFPhALWCz\n",
       "HcKrV0MfhnWjKqE59CkDCIeOsfANCjsJhXRpTzutHO6IHVqN/EV6llYsp162/i5xoZM9So8FR9RL\n",
       "JKyFtRocHULrHONQKrgVbcVky8ZSanDc5sXr+JhVdKq53iQtB7Jvw3NWjIKVdfZB0UBoOsJ07mjt\n",
       "QdVz6miUKeWxfWmPjXCxa980aWXk6P3Mn69fDhbVyzJXyFuwxOYmlOZ32upshOUbexJYs7h+hT+T\n",
       "+wsaGmBla5V4sh5uK0iyp4x2U32T474QTtJjBXYNI1SjEIWgJzhb0ScH9LAHw106ZEkgHRfa1gMC\n",
       "Y8UuDsW7s8c5dVA4YB1vGGFk8jmzaS6MDZzSlT2VPiWgR775Id9OB2cJ+bQu+jeBZ5nU7kV4gKmK\n",
       "jNjACFrS4dDA8uh6srQngWO+/fzBUr6t6wHAapYenMj79LXkPjboAmDXWkkqBgot8+0At8MhhNMs\n",
       "spivn50FB/pIeh8bbghVmrRLuXbOQcLaPshGcDdZhH46H7Q4nqX7h87ePYbcxzaGkphAy+SY+6B9\n",
       "ecx1dpbuLiTmI+hN7L2z85y0H35+8IFnAvxPPz+Y7LE3OH6S2D5j0Puf73zsTL57/vZymqdPsb8B\n",
       "KwYtTTjfnd4AAAAASUVORK5CYII=\n",
       "\" style=\"display:inline;vertical-align:middle;\" /></a><br>(see <a class=\"ProveItLink\" href=\"../../../__pv_it/theorems/52101eaba33f72605608e0bbb4b69e9b50dbf0dd0/dependencies.ipynb\">dependencies</a>)<br>"
      ],
      "text/plain": [
       "_scaled_delta_not_eq_nonzeroInt: forall_{l in Integer | l != 0} ((2^{t} * delta) != l)"
      ]
     },
     "execution_count": 2,
     "metadata": {},
     "output_type": "execute_result"
    }
   ],
   "source": [
    "%proving _scaled_delta_not_eq_nonzeroInt"
   ]
  },
  {
   "cell_type": "code",
   "execution_count": 3,
   "metadata": {},
   "outputs": [
    {
     "data": {
      "text/html": [
       "<strong id=\"defaults.assumptions\">defaults.assumptions:</strong> <a class=\"ProveItLink\" href=\"../../../__pv_it/theorems/37f54214e96112c024b43e63c97cfc6c1a88e3490/expr.ipynb\"><img src=\"data:image/png;base64,iVBORw0KGgoAAAANSUhEUgAAAG8AAAAVCAMAAAB/okD1AAAAPFBMVEX///8NDQ0WFhYLCwsYGBjM\n",
       "zMxUVFRERES6uroiIiIQEBCYmJhmZmYyMjLu7u52dnaqqqqIiIjc3NwAAAB1ELWhAAAAAXRSTlMA\n",
       "QObYZgAAAAlwSFlzAAAOxAAADsQBlSsOGwAAAe1JREFUSMe9VouOrCAM5T6wtLxE/v9fLxRQEEb3\n",
       "JpttjJMop+1pT+sIkewQP2FnlLC/H94tRbKACKTfTxu3eKhCdeXz3WOUDx4CbPm15auzJUzCcMQH\n",
       "w9wCZ+qqAx0fMzYV4W/FWMGgT8EmgEMOaDNtU+tj7FO8LQMc5OuWyAyTW58PMkeG6Zw01RcYxvph\n",
       "sssXN8RIsd2rN8IKvV5/wMH3yA7IJSFU9fR9UDYsOp7yluYuurl9qqcnIiNk5DZYLYyf+3DYlb4E\n",
       "uHy9ts/29FyLx13zWw5ZGgQfENdIeKGn4nUwg2x//+T7dvL3JR4jtRVY9Uadq7Vy7OoFhUd6Vzz+\n",
       "2UmQKr2J1zFJWK0XY9oKXp3SaUfjvRRq7LArgVThJ2OLF6g7Awt26eEB12i0JOiZXtPLXvSiqNUz\n",
       "yfbKG1cDKGsgF0e1u6F/v3+VypwahTJ5ZR52FFAakPTjr6znmUqDUCu1YVfTAXaukEHA1G0FDVmi\n",
       "DFQujDtomgV2dcAOmWNVzghLBMyUaS6gozKlafhkKZ42fZ5uAzUkqggsAUD6SEA+iOgWsAW95Mv4\n",
       "0LYSJrHg8rOgPAz7bBpG92FEH7+A2Jbof9va8XovXRtBT+v1i+bC6ql+oQefx+3FluEEPtNrxI7w\n",
       "Tf9Q5HOOOdw/1c8Usp3H/iIAAAAASUVORK5CYII=\n",
       "\" style=\"display:inline;vertical-align:middle;\" /></a><br>"
      ],
      "text/plain": [
       "defaults.assumptions: (l in Integer, l != 0)"
      ]
     },
     "execution_count": 3,
     "metadata": {},
     "output_type": "execute_result"
    }
   ],
   "source": [
    "defaults.assumptions = _scaled_delta_not_eq_nonzeroInt.conditions"
   ]
  },
  {
   "cell_type": "code",
   "execution_count": 4,
   "metadata": {},
   "outputs": [
    {
     "data": {
      "text/html": [
       "<strong id=\"_scaled_delta\">_scaled_delta:</strong> <a class=\"ProveItLink\" href=\"../../../__pv_it/common/de61a41c2821d7fdb1c272bcbdcc8bf13f2450a80/expr.ipynb\"><img src=\"data:image/png;base64,iVBORw0KGgoAAAANSUhEUgAAACoAAAATBAMAAAAUmIINAAAAMFBMVEX///+qqqqYmJiIiIgiIiLu\n",
       "7u4QEBBUVFS6urp2dnbMzMxEREQyMjJmZmbc3NwAAADzFso2AAAAAXRSTlMAQObYZgAAAAlwSFlz\n",
       "AAAOxAAADsQBlSsOGwAAAMVJREFUGNNjYACDcwxYAOsHbKKMB7AI8k05uQCLMI8AEuftsX0MfHdP\n",
       "L2DgD0ASncBRyvCagfMHQxuyxlIgrmNgSGMwZ0Uy1xyI8wMY6h9c5kQyIh5oSQkDQ/2CtVpIJnB/\n",
       "BVP+qG4v/A2iuD6jiOow1IOMYylA8dE/BnmQ1bfhofEHSLBvYFgPFGVCKPUFYn4FhvVASpKB7wGS\n",
       "CfELgCYzcE1gYEb2L/8ChoMMDE/u3r2CbBunASPQSP////+guGyyJQMDAJtzLxL3qxHNAAAAAElF\n",
       "TkSuQmCC\n",
       "\" style=\"display:inline;vertical-align:middle;\" /></a><br>"
      ],
      "text/plain": [
       "_scaled_delta: 2^{t} * delta"
      ]
     },
     "execution_count": 4,
     "metadata": {},
     "output_type": "execute_result"
    }
   ],
   "source": [
    "_scaled_delta = Mult(_two_pow_t, _delta)"
   ]
  },
  {
   "cell_type": "code",
   "execution_count": 5,
   "metadata": {},
   "outputs": [
    {
     "data": {
      "text/html": [
       "<span style=\"font-size:20px;\"> <a class=\"ProveItLink\" href=\"../_scaled_delta_in_interval/thm_proof.ipynb\" style=\"text-decoration: none\">&nbsp;&#x22A2;&nbsp;&nbsp;</a><a class=\"ProveItLink\" href=\"../../../__pv_it/theorems/b5503536cf38c7d80ef7292b3940c1719d13cdbd0/expr.ipynb\"><img src=\"data:image/png;base64,iVBORw0KGgoAAAANSUhEUgAAAH4AAAAaBAMAAACDaPX3AAAAMFBMVEX///9UVFQiIiKIiIjMzMx2\n",
       "dnYQEBDc3NxEREQyMjLu7u5mZmaqqqq6urqYmJgAAAB66f/FAAAAAXRSTlMAQObYZgAAAAlwSFlz\n",
       "AAAOxAAADsQBlSsOGwAAAkpJREFUOMudlD1oFEEUx//J7rrJ3t7eKYKKQsIhCH6QD0HEQg8LG4us\n",
       "uVq8SsQmi1W6HDbaqJdCFAm6KohicYciflxjBG2NhQErI1hoIQieSCRfb3Zmd2b2buH0wc3cm3m/\n",
       "fW/evHlAIjfwf/KDT85PfbnZI+4KQ7eur0/3yD/ikz15vayte6Npy/HdqQWbDVeFMvha2Xh5LsDe\n",
       "NH86vZAnF3aVfq2bZRRCuWHhQ4ixLrxVeR5rx8n+KJDz2VGtVSwqln3sW42wk5/DvYBne+cd2h4M\n",
       "UVgAtgFnMebI8xtFdqClDt4bhlUT2jHivSYmaJoKMRQ8taQ/Z4WGXGx5uFSqc36gCPevwuM8xmnc\n",
       "AgyVT35VXF2jTaPK/386kvgvNGGuqPxt7ODaiBbp/Hvyneee7Fsy/gbxayp/CpcjxfylXX29j1iz\n",
       "ze81kPyMLy0j/jtmI6W/qPIzgUusvcp56PxvlX+HfZHyIrZpsExtj3w7nD9RIqmJ+H3kNf8T3L+X\n",
       "uO9nr2ENJj0mm8f/UPFP+XO1/C1y/i3sQIbvtCkDdP4//IsKP1CDp93fG4qVLH0YarG1o8cg8m+M\n",
       "KvVTRa6OUPLfcIjGC63WEzV/FcyzQ4n7n1Pqdz8elJ3lSDvDIn6Gz/SZkfX1ZZW3Dvqs/kRS7l4J\n",
       "E/5xZStQYvrmqVmq7wPYtJDVGJL6/3gxrl/RaZKz2sPR++su3d6feN2x5JZgVrP4L1n9477W43Zl\n",
       "8XuyeNnYLsn+1yGd/W8y3f8MdgVuRgKm/7H/p+VVT/AG0TSPmdA7ZhwAAAAASUVORK5CYII=\n",
       "\" style=\"display:inline;vertical-align:middle;\" /></a></span>"
      ],
      "text/plain": [
       "|- (2^{t} * delta) in [0,1)"
      ]
     },
     "execution_count": 5,
     "metadata": {},
     "output_type": "execute_result"
    }
   ],
   "source": [
    "# This will include automatic side effects about the lower and upper bounds\n",
    "_scaled_delta_in_interval"
   ]
  },
  {
   "cell_type": "code",
   "execution_count": 6,
   "metadata": {},
   "outputs": [
    {
     "data": {
      "text/html": [
       "<strong id=\"contradictory_assumption\">contradictory_assumption:</strong> <a class=\"ProveItLink\" href=\"../../../__pv_it/_proof__scaled_delta_not_eq_nonzeroInt/81d1f85b48c7db26ed78f003601445002ab559ca0/expr.ipynb\"><img src=\"data:image/png;base64,iVBORw0KGgoAAAANSUhEUgAAAFwAAAAaBAMAAADIwCYaAAAAMFBMVEX///9UVFQiIiKIiIjMzMx2\n",
       "dnYQEBDc3NxEREQyMjLu7u5mZmaqqqq6urqYmJgAAAB66f/FAAAAAXRSTlMAQObYZgAAAAlwSFlz\n",
       "AAAOxAAADsQBlSsOGwAAAY9JREFUOMuNlKFPw0AUxr9u3cq6bquEBDEwBGYKJAjUDHoNoDA0wSBr\n",
       "CEsQTCBQUDyiAoMaBjGWECZRDIth+wMIE02WLMC4a0t2vV4Xnrnmu1+/e+/l3QF/kbPxr/gIliYn\n",
       "34lpLdSfOb0uxm+D5Wh5N6oXDSF+Ea7XjKa0Dm2siGjFAk5aZ8CIETN4dbEaY7c95E0oDex3Cxaj\n",
       "Sy6t3eXx4gClLiQbWSut30z0tE472+PxvIOai+wI0jBv7E109YtuNng8ZWCNHF2G5MmPVWbjkiSS\n",
       "tnj8tIq54L9BRO+8EOfCiMc/gXP/oxZpctGRCCp7fr6LftBiMAtc+cBC9FBbI6jyzbsfABVEqmo6\n",
       "vgt1VnlcHobu/UnxdIJ+IJNaFI/Dae0U10wcM7LqkewDs0juM7pL08cWsMnaeMg9CTpT6pnYIKdW\n",
       "2u0yq++gQ/vD9730ZuDdRWo8Hjusnlk3aRo6PzL3QLabdMviM0M9zCQ8PpG0mVYS3heq80n40rS7\n",
       "GouEu6olJF+f/s7w8SASfwG0GliX13G+5gAAAABJRU5ErkJggg==\n",
       "\" style=\"display:inline;vertical-align:middle;\" /></a><br>"
      ],
      "text/plain": [
       "contradictory_assumption: (2^{t} * delta) = l"
      ]
     },
     "execution_count": 6,
     "metadata": {},
     "output_type": "execute_result"
    }
   ],
   "source": [
    "# Assume to the contrary that scaled_delta = ell\n",
    "contradictory_assumption = Equals(_scaled_delta, l)"
   ]
  },
  {
   "cell_type": "code",
   "execution_count": 7,
   "metadata": {},
   "outputs": [
    {
     "data": {
      "text/html": [
       "<span style=\"font-size:20px;\"> <a class=\"ProveItLink\" href=\"../../../__pv_it/_proof__scaled_delta_not_eq_nonzeroInt/7a49fbee1f1d532dac544be3722ec0166614c41b0/proof.ipynb\" style=\"text-decoration: none\">&nbsp;&#x22A2;&nbsp;&nbsp;</a><a class=\"ProveItLink\" href=\"../../../__pv_it/_proof__scaled_delta_not_eq_nonzeroInt/88d1b976e7084bba93b655c55ea5a777ad59f8c50/expr.ipynb\"><img src=\"data:image/png;base64,iVBORw0KGgoAAAANSUhEUgAAAJYAAAAaBAMAAACnXbhyAAAAMFBMVEX///9UVFQiIiKIiIjMzMx2\n",
       "dnYQEBDc3NxEREQyMjLu7u5mZmaqqqq6urqYmJgAAAB66f/FAAAAAXRSTlMAQObYZgAAAAlwSFlz\n",
       "AAAOxAAADsQBlSsOGwAAAnBJREFUOMtjYEABnAUMFIG3QMx3AcJejyrFjVUDN06jeDYAidNQzklU\n",
       "OfYGbDqwi4LASiDmmgBhl2qGoEo+xqrlMS6z+oCY4wGUMwdJonpaOwPTAmxa0EWZ1Tp/JskCHZwA\n",
       "5JSBtO5sYWD4haQigFeKgVkA3RxWfQdMUQ5eg8qFFxi4A4DsreBAiL/Am4CkQArk+V8YjnqPRZSD\n",
       "9wFrQQMDPygG/zIwMBYwsCUwCyxBKDAEEfMwzNqJRRRoFt8BAQZ/oN9ZgPaw/WJg/M5tEIVQsP4A\n",
       "kNiBYZYykqiFktIEuFkTGIxAYacAdJcCA+MXln0OSJaBfGKGkSC+IERvWiHcxVgXwCAJZDJCkgTT\n",
       "B5R0J/MDSN5Hj0i+D3BR9lkIP1oZiTIwdICYkMTnb4Cs6SWDPFCHP9ih3EpgAIo+RpBaiCgiw3Hw\n",
       "auZrL2CYCBKExLEiil++M5wH6qi/gOYuNpCFEFFO5LBnfjuLQRvkuQ1gy2FZg+snxH6Q7evRzfIH\n",
       "OQYi6gZyawPULIaGq0jueghXDzKf/wGDP8gFDmhmgYMdIroC2V0MDRwIs3gCGMqR9Kx3AIYY1BnI\n",
       "4dXIBRdlQjWLk0ECFp6uDAxWSGbxO4AzJ0Y8/mOFizIboJh1GOxmZmDWYdfevVsBOd8Z8ICc8Qw9\n",
       "ff1djBCdgzArgNV0A9gKXmCqZPr///8EZE3BpiByI7pZrwMQogt7Ia5mntYBLifYQFGSi7OknIdX\n",
       "9GqTErL9sHICO8BSTuAUBeZrUDHjhsssPgHiRYFABhSRB3BIMhUQL4pW3hNZsuMs73lAAXYUuxyp\n",
       "9RBK/YheEy4gXpSBAQDkf5xPVOLeKAAAAABJRU5ErkJggg==\n",
       "\" style=\"display:inline;vertical-align:middle;\" /></a></span>"
      ],
      "text/plain": [
       "|- ((2^{t} * delta) = l) in BOOLEAN"
      ]
     },
     "execution_count": 7,
     "metadata": {},
     "output_type": "execute_result"
    }
   ],
   "source": [
    "# We apparently need this to be explicitly included! This affects how\n",
    "# the last step (.derive_via_contradiction) performs\n",
    "contradictory_assumption.deduce_in_bool()"
   ]
  },
  {
   "cell_type": "code",
   "execution_count": 8,
   "metadata": {},
   "outputs": [
    {
     "data": {
      "text/html": [
       "<strong id=\"l_lower_bound_loose\">l_lower_bound_loose:</strong> <span style=\"font-size:20px;\"><a class=\"ProveItLink\" href=\"../../../__pv_it/_proof__scaled_delta_not_eq_nonzeroInt/81d1f85b48c7db26ed78f003601445002ab559ca0/expr.ipynb\"><img src=\"data:image/png;base64,iVBORw0KGgoAAAANSUhEUgAAAFwAAAAaBAMAAADIwCYaAAAAMFBMVEX///9UVFQiIiKIiIjMzMx2\n",
       "dnYQEBDc3NxEREQyMjLu7u5mZmaqqqq6urqYmJgAAAB66f/FAAAAAXRSTlMAQObYZgAAAAlwSFlz\n",
       "AAAOxAAADsQBlSsOGwAAAY9JREFUOMuNlKFPw0AUxr9u3cq6bquEBDEwBGYKJAjUDHoNoDA0wSBr\n",
       "CEsQTCBQUDyiAoMaBjGWECZRDIth+wMIE02WLMC4a0t2vV4Xnrnmu1+/e+/l3QF/kbPxr/gIliYn\n",
       "34lpLdSfOb0uxm+D5Wh5N6oXDSF+Ea7XjKa0Dm2siGjFAk5aZ8CIETN4dbEaY7c95E0oDex3Cxaj\n",
       "Sy6t3eXx4gClLiQbWSut30z0tE472+PxvIOai+wI0jBv7E109YtuNng8ZWCNHF2G5MmPVWbjkiSS\n",
       "tnj8tIq54L9BRO+8EOfCiMc/gXP/oxZpctGRCCp7fr6LftBiMAtc+cBC9FBbI6jyzbsfABVEqmo6\n",
       "vgt1VnlcHobu/UnxdIJ+IJNaFI/Dae0U10wcM7LqkewDs0juM7pL08cWsMnaeMg9CTpT6pnYIKdW\n",
       "2u0yq++gQ/vD9730ZuDdRWo8Hjusnlk3aRo6PzL3QLabdMviM0M9zCQ8PpG0mVYS3heq80n40rS7\n",
       "GouEu6olJF+f/s7w8SASfwG0GliX13G+5gAAAABJRU5ErkJggg==\n",
       "\" style=\"display:inline;vertical-align:middle;\" /></a> <a class=\"ProveItLink\" href=\"../../../__pv_it/_proof__scaled_delta_not_eq_nonzeroInt/2d3413cfb5b37637e213a61dcfeb090378e1c1d90/proof.ipynb\" style=\"text-decoration: none\">&nbsp;&#x22A2;&nbsp;&nbsp;</a><a class=\"ProveItLink\" href=\"../../../__pv_it/_proof__scaled_delta_not_eq_nonzeroInt/3d97c54bfb1244d4c3a1f9ea308acb896031a7d20/expr.ipynb\"><img src=\"data:image/png;base64,iVBORw0KGgoAAAANSUhEUgAAACwAAAARBAMAAABUTlNBAAAAMFBMVEX///8QEBC6urrMzMxUVFRE\n",
       "RESYmJgiIiLu7u6qqqoyMjLc3NxmZmaIiIh2dnYAAABcDckaAAAAAXRSTlMAQObYZgAAAAlwSFlz\n",
       "AAAOxAAADsQBlSsOGwAAALpJREFUGNNjYOB7e5oBDTz/zMCwkqF9A1yAczWIZPvAwFbAwBcAE2Wr\n",
       "aQBRPAsYWB0YOH9ARXnrwKIM7BcY+A8wMP+EiPbVQqX3GzD0A4W/gTk9ZTCz8oEyDxiY/4LYLSvh\n",
       "FrtChP+B2CwIYVkGhv4HDExg1Qx7YIYw/2YAWcmJZiWvAAMDawADG5oDWR0aGNgEQK5H8Q5/wgMG\n",
       "hkqGRgOE5xeDhDUuAJ371hktpNjOMZAL2stBoBjCAQB54TJVOOrpNgAAAABJRU5ErkJggg==\n",
       "\" style=\"display:inline;vertical-align:middle;\" /></a></span><br>"
      ],
      "text/plain": [
       "l_lower_bound_loose: {(2^{t} * delta) = l} |- 0 <= l"
      ]
     },
     "execution_count": 8,
     "metadata": {},
     "output_type": "execute_result"
    }
   ],
   "source": [
    "l_lower_bound_loose = (\n",
    "    contradictory_assumption.sub_right_side_into(\n",
    "        _scaled_delta_in_interval.domain.deduce_member_lower_bound(_scaled_delta),\n",
    "        assumptions=[contradictory_assumption]))"
   ]
  },
  {
   "cell_type": "code",
   "execution_count": 9,
   "metadata": {},
   "outputs": [
    {
     "data": {
      "text/html": [
       "<strong id=\"l_upper_bound\">l_upper_bound:</strong> <span style=\"font-size:20px;\"><a class=\"ProveItLink\" href=\"../../../__pv_it/_proof__scaled_delta_not_eq_nonzeroInt/81d1f85b48c7db26ed78f003601445002ab559ca0/expr.ipynb\"><img src=\"data:image/png;base64,iVBORw0KGgoAAAANSUhEUgAAAFwAAAAaBAMAAADIwCYaAAAAMFBMVEX///9UVFQiIiKIiIjMzMx2\n",
       "dnYQEBDc3NxEREQyMjLu7u5mZmaqqqq6urqYmJgAAAB66f/FAAAAAXRSTlMAQObYZgAAAAlwSFlz\n",
       "AAAOxAAADsQBlSsOGwAAAY9JREFUOMuNlKFPw0AUxr9u3cq6bquEBDEwBGYKJAjUDHoNoDA0wSBr\n",
       "CEsQTCBQUDyiAoMaBjGWECZRDIth+wMIE02WLMC4a0t2vV4Xnrnmu1+/e+/l3QF/kbPxr/gIliYn\n",
       "34lpLdSfOb0uxm+D5Wh5N6oXDSF+Ea7XjKa0Dm2siGjFAk5aZ8CIETN4dbEaY7c95E0oDex3Cxaj\n",
       "Sy6t3eXx4gClLiQbWSut30z0tE472+PxvIOai+wI0jBv7E109YtuNng8ZWCNHF2G5MmPVWbjkiSS\n",
       "tnj8tIq54L9BRO+8EOfCiMc/gXP/oxZpctGRCCp7fr6LftBiMAtc+cBC9FBbI6jyzbsfABVEqmo6\n",
       "vgt1VnlcHobu/UnxdIJ+IJNaFI/Dae0U10wcM7LqkewDs0juM7pL08cWsMnaeMg9CTpT6pnYIKdW\n",
       "2u0yq++gQ/vD9730ZuDdRWo8Hjusnlk3aRo6PzL3QLabdMviM0M9zCQ8PpG0mVYS3heq80n40rS7\n",
       "GouEu6olJF+f/s7w8SASfwG0GliX13G+5gAAAABJRU5ErkJggg==\n",
       "\" style=\"display:inline;vertical-align:middle;\" /></a> <a class=\"ProveItLink\" href=\"../../../__pv_it/_proof__scaled_delta_not_eq_nonzeroInt/e32b6ac67497b28e89d881112cf05c64b896bfee0/proof.ipynb\" style=\"text-decoration: none\">&nbsp;&#x22A2;&nbsp;&nbsp;</a><a class=\"ProveItLink\" href=\"../../../__pv_it/_proof__scaled_delta_not_eq_nonzeroInt/d44c3417bec40866b6ef42362c348824ce01f1ae0/expr.ipynb\"><img src=\"data:image/png;base64,iVBORw0KGgoAAAANSUhEUgAAACwAAAAQBAMAAACfEoDkAAAAMFBMVEX///+qqqq6urru7u4QEBBE\n",
       "RERUVFTc3NyIiIgyMjJmZmaYmJjMzMwiIiJ2dnYAAACPW0xlAAAAAXRSTlMAQObYZgAAAAlwSFlz\n",
       "AAAOxAAADsQBlSsOGwAAAH9JREFUGNNjYHj7hwEN8FwGEtwf0ETNVn4GklwT0FVzgIR5G+B8xukI\n",
       "4foDMFHuWwYI4f1wvfcMkAxJhYra3UAx2wPCrrqNYiXPdzCTbSKqSzgcsAqzJhhgM4R/wwNsVvIr\n",
       "w7xjcQPqQD6gddzr4Jq5IQ5nS/mZjRIY3NMZ8AMAa/wmtdWpGCMAAAAASUVORK5CYII=\n",
       "\" style=\"display:inline;vertical-align:middle;\" /></a></span><br>"
      ],
      "text/plain": [
       "l_upper_bound: {(2^{t} * delta) = l} |- l < 1"
      ]
     },
     "execution_count": 9,
     "metadata": {},
     "output_type": "execute_result"
    }
   ],
   "source": [
    "l_upper_bound = (\n",
    "    contradictory_assumption.sub_right_side_into(\n",
    "        _scaled_delta_in_interval.domain.deduce_member_upper_bound(_scaled_delta),\n",
    "        assumptions=[contradictory_assumption]))"
   ]
  },
  {
   "cell_type": "code",
   "execution_count": 10,
   "metadata": {},
   "outputs": [
    {
     "data": {
      "text/html": [
       "<strong id=\"temp_01\">temp_01:</strong> <span style=\"font-size:20px;\"> <a class=\"ProveItLink\" href=\"../../../__pv_it/_proof__scaled_delta_not_eq_nonzeroInt/41182ebaa0bba627699ff690e2c6335a2551a2690/proof.ipynb\" style=\"text-decoration: none\">&nbsp;&#x22A2;&nbsp;&nbsp;</a><a class=\"ProveItLink\" href=\"../../../__pv_it/_proof__scaled_delta_not_eq_nonzeroInt/20355b74eb8c8fd379841e589cdcf390955f4c6a0/expr.ipynb\"><img src=\"data:image/png;base64,iVBORw0KGgoAAAANSUhEUgAAAPUAAAAVBAMAAABs27XUAAAAMFBMVEX////MzMxUVFRERES6uroi\n",
       "IiIQEBCYmJhmZmYyMjLu7u52dnaqqqqIiIjc3NwAAACW8nlqAAAAAXRSTlMAQObYZgAAAAlwSFlz\n",
       "AAAOxAAADsQBlSsOGwAAAuNJREFUSMeNlU1oE0EUx98mTTbd7Ca5eG7Ek7elni05C2IUioqNRuhV\n",
       "CEKlN3spRVOkt4KUEBBFkeJS6UUt5GjpoYugeBDJRbAHsQWhYq345s3H7s5+NA/+me3Mb/5vvgsA\n",
       "Q0iOpPqK0Gh8ljO1OYMU4mJC3RehkfhMZ6J3AMpbj/TmzQNwOrFOtsf19rM+pfKtWoxH53SSyVoB\n",
       "WIOnAbFNn+Y+wONY7hdc4wPrpt50X/C5Pv4YPnDnDBJV6oDZhLIrW+YeUlHCjvOx3EtccwCv9aYH\n",
       "gjdZ2nwNyDmLRBWRrIP9RzR8fMPLAloU+3q3NtckwK5qs3tUtCTfRO2xD3SOkiIEidoGqC6A8Zeq\n",
       "rU1fAD9x5OP6BtorXL8BJuQ5Mq+Rd+VA8u9Qy7R5ECXlVREkqgvwCnMfUurFTmhToFzXcpc8ksUc\n",
       "Benc4NNi54Pze2LuzDlMypAkahXn6IFxzFKfDYZ4hlEr7GtxmsUV9imGWzlCR75AL1uCz7mSz9XA\n",
       "oUZ0VmTIRJKoGZ77iFWHct9hS9zW5l0YkMjRYxXfr8qmoi95ow4FWosZCJFBSBI1i2vuwdgxbYVa\n",
       "c+Mf+9nXchcbJAsdL7HZ5NZU08RQ8T14TyU6KzIUkkTN0lmztbPmsCmMtZNzsxO0O4jm/hTwO9CT\n",
       "uRUZCkmicGXyLpjaHcvXcdnsprbfYs3hHJ7FfnTNJy3JQ8HgjwU6KzJkIknUedz1Nj0l4bel2sFd\n",
       "Ml1t3nmf6x49EJGzdlhWvHO3QSU6h0gVkkRt0Aif1YI3lX1WL/j8SkWfYn41cO7WbVG13uJ37Ne6\n",
       "4q3rvGkDIqQMSaJO4Z/Pt05rgNllHRtardHksrof1FhNfsHnvYBf5gVzDpMiJIkq1CAtvsVqLgtF\n",
       "htlL4U9wRpkLqcRSrEb8DxiNP8GZaUrVWHQYp+VwK26sT37IlRgxfgoySKKfpBEJSSyXazQ+05no\n",
       "ip9CfE2o+yE0Ep/pjPoP3gLxnlLU9o4AAAAASUVORK5CYII=\n",
       "\" style=\"display:inline;vertical-align:middle;\" /></a></span><br>"
      ],
      "text/plain": [
       "temp_01: |- (0 <= l) = ((0 < l) or (0 = l))"
      ]
     },
     "execution_count": 10,
     "metadata": {},
     "output_type": "execute_result"
    }
   ],
   "source": [
    "temp_01 = l_lower_bound_loose.unfold(assumptions=defaults.assumptions, auto_simplify=False)"
   ]
  },
  {
   "cell_type": "code",
   "execution_count": 11,
   "metadata": {},
   "outputs": [
    {
     "data": {
      "text/html": [
       "<strong id=\"temp_02\">temp_02:</strong> <span style=\"font-size:20px;\"><a class=\"ProveItLink\" href=\"../../../__pv_it/_proof__scaled_delta_not_eq_nonzeroInt/81d1f85b48c7db26ed78f003601445002ab559ca0/expr.ipynb\"><img src=\"data:image/png;base64,iVBORw0KGgoAAAANSUhEUgAAAFwAAAAaBAMAAADIwCYaAAAAMFBMVEX///9UVFQiIiKIiIjMzMx2\n",
       "dnYQEBDc3NxEREQyMjLu7u5mZmaqqqq6urqYmJgAAAB66f/FAAAAAXRSTlMAQObYZgAAAAlwSFlz\n",
       "AAAOxAAADsQBlSsOGwAAAY9JREFUOMuNlKFPw0AUxr9u3cq6bquEBDEwBGYKJAjUDHoNoDA0wSBr\n",
       "CEsQTCBQUDyiAoMaBjGWECZRDIth+wMIE02WLMC4a0t2vV4Xnrnmu1+/e+/l3QF/kbPxr/gIliYn\n",
       "34lpLdSfOb0uxm+D5Wh5N6oXDSF+Ea7XjKa0Dm2siGjFAk5aZ8CIETN4dbEaY7c95E0oDex3Cxaj\n",
       "Sy6t3eXx4gClLiQbWSut30z0tE472+PxvIOai+wI0jBv7E109YtuNng8ZWCNHF2G5MmPVWbjkiSS\n",
       "tnj8tIq54L9BRO+8EOfCiMc/gXP/oxZpctGRCCp7fr6LftBiMAtc+cBC9FBbI6jyzbsfABVEqmo6\n",
       "vgt1VnlcHobu/UnxdIJ+IJNaFI/Dae0U10wcM7LqkewDs0juM7pL08cWsMnaeMg9CTpT6pnYIKdW\n",
       "2u0yq++gQ/vD9730ZuDdRWo8Hjusnlk3aRo6PzL3QLabdMviM0M9zCQ8PpG0mVYS3heq80n40rS7\n",
       "GouEu6olJF+f/s7w8SASfwG0GliX13G+5gAAAABJRU5ErkJggg==\n",
       "\" style=\"display:inline;vertical-align:middle;\" /></a> <a class=\"ProveItLink\" href=\"../../../__pv_it/_proof__scaled_delta_not_eq_nonzeroInt/7681cbeed3fb9622f52ff52a3aa87e4c46f79d010/proof.ipynb\" style=\"text-decoration: none\">&nbsp;&#x22A2;&nbsp;&nbsp;</a><a class=\"ProveItLink\" href=\"../../../__pv_it/_proof__scaled_delta_not_eq_nonzeroInt/9e7fb90818f230783b5fd9dbb397b6ebdaea156c0/expr.ipynb\"><img src=\"data:image/png;base64,iVBORw0KGgoAAAANSUhEUgAAAI0AAAAVBAMAAACJRXC4AAAAMFBMVEX////MzMxUVFRERES6uroi\n",
       "IiIQEBCYmJhmZmYyMjLu7u52dnaqqqqIiIjc3NwAAACW8nlqAAAAAXRSTlMAQObYZgAAAAlwSFlz\n",
       "AAAOxAAADsQBlSsOGwAAAd9JREFUOMuNlM9LAkEUx7/rrzVXbS+dM/oHpHvROQi8REVJHrwG0slb\n",
       "3iKM8BaEiBBFEJIE3Qo6Fl08dQwvQZ1SCASz6M2b3XUd3aUH4zze9zNv3r6ZEUAbk639j4grnnjw\n",
       "UFfVgD/5DBj3x6pk7JiJghKbTN52IchYBajifKzkfeBUzIE6/WgteJJ6h8loAXoGRlrNcwgUGRMp\n",
       "giY8yWiFyQhRKcT7Tjxe4ylLkigFGRofwhkjpYVbTD4B0yVoA6fMDV6d7AJT3KA7GkfCUUnLPk0m\n",
       "y8A1qT37TLbqzlcbKVi1iJpU0tVIQZ5Qxia0Hxm8ylpqgNqgV9gzkRA9cpPRNTbeZx5Mbkv1m1e/\n",
       "r9u7RGhpPCc8LYUw1zhCDm0XTOap2iZCXE+g6qizdLxah90aHnl2k0PTfsFknrsXHyh5XmiEctb1\n",
       "q9l5HNJ1yXOSpGqDaeh95bsWYlRtRh6sJq+Mi3T1J5iqM7lIXcrxZRrpc8+guFyf2FvmeZS0bbrQ\n",
       "ZPKGd7owrXAjK8/9q0G7NtmNbUpJIe08Ky0mZ8i/vJ8bPhd5gYqUIyzrkLcQY6TFl8Fk2FSFmu29\n",
       "KQ/AhJcRqZc81QNlA39yyUtMqi/bnzzzUoPqP40/mWx5qK9j2/qQfz6bi6b7/CTMAAAAAElFTkSu\n",
       "QmCC\n",
       "\" style=\"display:inline;vertical-align:middle;\" /></a></span><br>"
      ],
      "text/plain": [
       "temp_02: {(2^{t} * delta) = l} |- (0 < l) or (0 = l)"
      ]
     },
     "execution_count": 11,
     "metadata": {},
     "output_type": "execute_result"
    }
   ],
   "source": [
    "temp_02 = temp_01.sub_right_side_into(l_lower_bound_loose, assumptions=[contradictory_assumption])"
   ]
  },
  {
   "cell_type": "code",
   "execution_count": 12,
   "metadata": {},
   "outputs": [
    {
     "data": {
      "text/html": [
       "<strong id=\"l_lower_bound_tight\">l_lower_bound_tight:</strong> <span style=\"font-size:20px;\"><a class=\"ProveItLink\" href=\"../../../__pv_it/_proof__scaled_delta_not_eq_nonzeroInt/81d1f85b48c7db26ed78f003601445002ab559ca0/expr.ipynb\"><img src=\"data:image/png;base64,iVBORw0KGgoAAAANSUhEUgAAAFwAAAAaBAMAAADIwCYaAAAAMFBMVEX///9UVFQiIiKIiIjMzMx2\n",
       "dnYQEBDc3NxEREQyMjLu7u5mZmaqqqq6urqYmJgAAAB66f/FAAAAAXRSTlMAQObYZgAAAAlwSFlz\n",
       "AAAOxAAADsQBlSsOGwAAAY9JREFUOMuNlKFPw0AUxr9u3cq6bquEBDEwBGYKJAjUDHoNoDA0wSBr\n",
       "CEsQTCBQUDyiAoMaBjGWECZRDIth+wMIE02WLMC4a0t2vV4Xnrnmu1+/e+/l3QF/kbPxr/gIliYn\n",
       "34lpLdSfOb0uxm+D5Wh5N6oXDSF+Ea7XjKa0Dm2siGjFAk5aZ8CIETN4dbEaY7c95E0oDex3Cxaj\n",
       "Sy6t3eXx4gClLiQbWSut30z0tE472+PxvIOai+wI0jBv7E109YtuNng8ZWCNHF2G5MmPVWbjkiSS\n",
       "tnj8tIq54L9BRO+8EOfCiMc/gXP/oxZpctGRCCp7fr6LftBiMAtc+cBC9FBbI6jyzbsfABVEqmo6\n",
       "vgt1VnlcHobu/UnxdIJ+IJNaFI/Dae0U10wcM7LqkewDs0juM7pL08cWsMnaeMg9CTpT6pnYIKdW\n",
       "2u0yq++gQ/vD9730ZuDdRWo8Hjusnlk3aRo6PzL3QLabdMviM0M9zCQ8PpG0mVYS3heq80n40rS7\n",
       "GouEu6olJF+f/s7w8SASfwG0GliX13G+5gAAAABJRU5ErkJggg==\n",
       "\" style=\"display:inline;vertical-align:middle;\" /></a>, <a class=\"ProveItLink\" href=\"../../../__pv_it/theorems/b38b045a9246dd5ac239f68f921874310f53aad00/expr.ipynb\"><img src=\"data:image/png;base64,iVBORw0KGgoAAAANSUhEUgAAAC0AAAAUCAMAAAAusUTNAAAAPFBMVEX///8NDQ0WFhYLCwsYGBiq\n",
       "qqq6urru7u4QEBBERERUVFTc3NyIiIgyMjJmZmaYmJjMzMwiIiJ2dnYAAABsuYCuAAAAAXRSTlMA\n",
       "QObYZgAAAAlwSFlzAAAOxAAADsQBlSsOGwAAAMhJREFUKM+VkusShCAIhd2Loal4e/93XZGp1bIa\n",
       "+cGEHT8PohBXgTBcTjGH82rQnSZZNPzp84ChW4KTQkBkOboBem0KHyufT4t2gDZtUbfKTJ2Yge2l\n",
       "RYuM9bgsL2y7Fg2b2pe8Nt1jrPH9UN74JidWk2Nl79F/daJkTq6xK4HVC7GtekBvXUrqslwP9L7f\n",
       "L3a/34vWPMSiK52mA/r4Qrzah5gX6NuUeLIWafKKxuLxCV2UmOwaRk9SJjERDibEfgodZ9Ai3P38\n",
       "AUNKCPHed8bwAAAAAElFTkSuQmCC\n",
       "\" style=\"display:inline;vertical-align:middle;\" /></a> <a class=\"ProveItLink\" href=\"../../../__pv_it/_proof__scaled_delta_not_eq_nonzeroInt/8bc5cf277bcf855ca4cec2618966a2b6078b91100/proof.ipynb\" style=\"text-decoration: none\">&nbsp;&#x22A2;&nbsp;&nbsp;</a><a class=\"ProveItLink\" href=\"../../../__pv_it/_proof__scaled_delta_not_eq_nonzeroInt/47364b2b0f5ad7008908abaef1ea9c07a3e1efdb0/expr.ipynb\"><img src=\"data:image/png;base64,iVBORw0KGgoAAAANSUhEUgAAACwAAAAQBAMAAACfEoDkAAAAMFBMVEX///8QEBC6urrMzMxUVFRE\n",
       "RESYmJgiIiLu7u6qqqoyMjLc3NxmZmaIiIh2dnYAAABcDckaAAAAAXRSTlMAQObYZgAAAAlwSFlz\n",
       "AAAOxAAADsQBlSsOGwAAALdJREFUGNNjYOB7e5oBDTz/zMCwkqF9A5ow2wcGtgIGvgA0YZ4FDKwO\n",
       "DJw/4AKcq0Ek+wUG/gMMzD/humsaQNR+A4Z+oPA3qChvHViUIR8o84CB+S9EtK8WKu0KEf4H5uwp\n",
       "g5kly8DQ/4CBCayaZSVMlPk3A8hKzp+owrwCDAysAQxsP1ANYXVoYGATALkexUr+hAcMDJUMjQZQ\n",
       "Zb21YAfya1xgYOh564wIDLDD2c6hhx3bagZ8AAD+Dy8+COV1oQAAAABJRU5ErkJggg==\n",
       "\" style=\"display:inline;vertical-align:middle;\" /></a></span><br>"
      ],
      "text/plain": [
       "l_lower_bound_tight: {(2^{t} * delta) = l, l != 0} |- 0 < l"
      ]
     },
     "execution_count": 12,
     "metadata": {},
     "output_type": "execute_result"
    }
   ],
   "source": [
    "l_lower_bound_tight = temp_02.derive_left_if_not_right()"
   ]
  },
  {
   "cell_type": "code",
   "execution_count": 13,
   "metadata": {},
   "outputs": [
    {
     "data": {
      "text/html": [
       "<strong id=\"ell_in_o0_o1\">ell_in_o0_o1:</strong> <span style=\"font-size:20px;\"><a class=\"ProveItLink\" href=\"../../../__pv_it/theorems/7b8e14bfeec30fa2c83deb2740813fd8ea169a4c0/expr.ipynb\"><img src=\"data:image/png;base64,iVBORw0KGgoAAAANSUhEUgAAAC4AAAAQBAMAAACb51DZAAAAMFBMVEX///+qqqq6urru7u4QEBBE\n",
       "RERUVFTc3NyIiIgyMjJmZmaYmJjMzMwiIiJ2dnYAAACPW0xlAAAAAXRSTlMAQObYZgAAAAlwSFlz\n",
       "AAAOxAAADsQBlSsOGwAAANZJREFUGNNjYEADjFO+TL0bsoGB4e0fFHGOsAMMEziBDO4PKOJcCxg4\n",
       "NjwEMSagiLMVMJgyBwAZvA0Q/bF3b4JoZgaGNWwHgIx6EMHANMMApoMn4RSI2g/mVMKFGVgNgkFU\n",
       "KpgzHWGDHDfYZA8wB8lysCsZeL6DSd+7d+9ehThA4BEDgwEDhwPYFQFw5absQHY6A2sC2MYLcPEc\n",
       "oA+YPzDwb3gA4nXAXblAC+i5Cwz8ymDbOQXgrpzMwB4YwMC9DsxlTlWGiKtEuob6uz6AG8v0FBIO\n",
       "UAAAaDkwDDbpPcIAAAAASUVORK5CYII=\n",
       "\" style=\"display:inline;vertical-align:middle;\" /></a>, <a class=\"ProveItLink\" href=\"../../../__pv_it/_proof__scaled_delta_not_eq_nonzeroInt/81d1f85b48c7db26ed78f003601445002ab559ca0/expr.ipynb\"><img src=\"data:image/png;base64,iVBORw0KGgoAAAANSUhEUgAAAFwAAAAaBAMAAADIwCYaAAAAMFBMVEX///9UVFQiIiKIiIjMzMx2\n",
       "dnYQEBDc3NxEREQyMjLu7u5mZmaqqqq6urqYmJgAAAB66f/FAAAAAXRSTlMAQObYZgAAAAlwSFlz\n",
       "AAAOxAAADsQBlSsOGwAAAY9JREFUOMuNlKFPw0AUxr9u3cq6bquEBDEwBGYKJAjUDHoNoDA0wSBr\n",
       "CEsQTCBQUDyiAoMaBjGWECZRDIth+wMIE02WLMC4a0t2vV4Xnrnmu1+/e+/l3QF/kbPxr/gIliYn\n",
       "34lpLdSfOb0uxm+D5Wh5N6oXDSF+Ea7XjKa0Dm2siGjFAk5aZ8CIETN4dbEaY7c95E0oDex3Cxaj\n",
       "Sy6t3eXx4gClLiQbWSut30z0tE472+PxvIOai+wI0jBv7E109YtuNng8ZWCNHF2G5MmPVWbjkiSS\n",
       "tnj8tIq54L9BRO+8EOfCiMc/gXP/oxZpctGRCCp7fr6LftBiMAtc+cBC9FBbI6jyzbsfABVEqmo6\n",
       "vgt1VnlcHobu/UnxdIJ+IJNaFI/Dae0U10wcM7LqkewDs0juM7pL08cWsMnaeMg9CTpT6pnYIKdW\n",
       "2u0yq++gQ/vD9730ZuDdRWo8Hjusnlk3aRo6PzL3QLabdMviM0M9zCQ8PpG0mVYS3heq80n40rS7\n",
       "GouEu6olJF+f/s7w8SASfwG0GliX13G+5gAAAABJRU5ErkJggg==\n",
       "\" style=\"display:inline;vertical-align:middle;\" /></a>, <a class=\"ProveItLink\" href=\"../../../__pv_it/theorems/b38b045a9246dd5ac239f68f921874310f53aad00/expr.ipynb\"><img src=\"data:image/png;base64,iVBORw0KGgoAAAANSUhEUgAAAC0AAAAUCAMAAAAusUTNAAAAPFBMVEX///8NDQ0WFhYLCwsYGBiq\n",
       "qqq6urru7u4QEBBERERUVFTc3NyIiIgyMjJmZmaYmJjMzMwiIiJ2dnYAAABsuYCuAAAAAXRSTlMA\n",
       "QObYZgAAAAlwSFlzAAAOxAAADsQBlSsOGwAAAMhJREFUKM+VkusShCAIhd2Loal4e/93XZGp1bIa\n",
       "+cGEHT8PohBXgTBcTjGH82rQnSZZNPzp84ChW4KTQkBkOboBem0KHyufT4t2gDZtUbfKTJ2Yge2l\n",
       "RYuM9bgsL2y7Fg2b2pe8Nt1jrPH9UN74JidWk2Nl79F/daJkTq6xK4HVC7GtekBvXUrqslwP9L7f\n",
       "L3a/34vWPMSiK52mA/r4Qrzah5gX6NuUeLIWafKKxuLxCV2UmOwaRk9SJjERDibEfgodZ9Ai3P38\n",
       "AUNKCPHed8bwAAAAAElFTkSuQmCC\n",
       "\" style=\"display:inline;vertical-align:middle;\" /></a> <a class=\"ProveItLink\" href=\"../../../__pv_it/_proof__scaled_delta_not_eq_nonzeroInt/f7c9825edc13edc67ed11361e01ee85a4978119d0/proof.ipynb\" style=\"text-decoration: none\">&nbsp;&#x22A2;&nbsp;&nbsp;</a><a class=\"ProveItLink\" href=\"../../../__pv_it/_proof__scaled_delta_not_eq_nonzeroInt/02aafe3e49239c80e2e2740e7c8fee0aedc81ada0/expr.ipynb\"><img src=\"data:image/png;base64,iVBORw0KGgoAAAANSUhEUgAAAEsAAAAVBAMAAAD85A5eAAAAMFBMVEX///+qqqq6urru7u4QEBBE\n",
       "RERUVFTc3NyIiIgyMjJmZmaYmJjMzMwiIiJ2dnYAAACPW0xlAAAAAXRSTlMAQObYZgAAAAlwSFlz\n",
       "AAAOxAAADsQBlSsOGwAAAWtJREFUKM9jYMAEBQT4EMAhgCagASLe/kETlWNg4HuxHMrhuQzUtwHI\n",
       "4P6Aqop5AgPDRAZbiE1mKz8DyclAzDUBVRnXBgbuCwx8AVAXgJTtAmLeBgg/9u5NMIOFgYE1gYHx\n",
       "M5IyFgMGhvoDIC7TDAOoaZIMDPwLGHg+IinjBDpuP5hbCVPFsI6BwR6o7DeSMr4EBoZUMHc63G2z\n",
       "gRY8YOD5gaSMG+h8DzAX4Y+LEGX/kJQxOjDwfAcHj+/du3evgiWcgJY+YGBCNo3nAwOHAziwAuCm\n",
       "OYG9wIjsBSYHoOfBjr+AbClrAAM3coAwXmDg3/AAxO2AK4sAOtkBFOgGCC8EMPArg4OXEx7fz8Am\n",
       "mhxg/gni8YGczvWAgXsdJCZTlaHKzgKx1YscBoa7QOPYUn5mAyNKAW4X01NoZPEegIowwkO8Fkty\n",
       "414AZfDBhVZjS5bhUNoCJsAegE2ZKZRugAmwYk3l7A1oAu0MDAAntFd+av+8FgAAAABJRU5ErkJg\n",
       "gg==\n",
       "\" style=\"display:inline;vertical-align:middle;\" /></a></span><br>"
      ],
      "text/plain": [
       "ell_in_o0_o1: {l in Integer, (2^{t} * delta) = l, l != 0} |- l in (0,1)"
      ]
     },
     "execution_count": 13,
     "metadata": {},
     "output_type": "execute_result"
    }
   ],
   "source": [
    "ell_in_o0_o1 = IntervalOO(zero, one).deduce_elem_in_set(l, assumptions=[contradictory_assumption, *defaults.assumptions])"
   ]
  },
  {
   "cell_type": "code",
   "execution_count": 14,
   "metadata": {},
   "outputs": [
    {
     "data": {
      "text/html": [
       "<span style=\"font-size:20px;\"> <a class=\"ProveItLink\" href=\"../../../../../../numbers/number_sets/real_numbers/_theory_nbs_/proofs/not_int_if_between_successive_int/thm_proof.ipynb\" style=\"text-decoration: none\">&nbsp;&#x22A2;&nbsp;&nbsp;</a><a class=\"ProveItLink\" href=\"../../../../../../numbers/number_sets/real_numbers/__pv_it/theorems/a33745e5fbf513df4067c987420667b91c789d4b0/expr.ipynb\"><img src=\"data:image/png;base64,iVBORw0KGgoAAAANSUhEUgAAAO4AAAAZCAMAAAABp+KxAAAARVBMVEX///8/Pz9vb28YGBgJCQkd\n",
       "HR0NDQ0WFhaIiIgiIiIQEBB2dnbu7u5ERETMzMzc3NwyMjK6urpmZmaYmJiqqqpUVFQAAAB3hJw9\n",
       "AAAAAXRSTlMAQObYZgAAAAlwSFlzAAAOxAAADsQBlSsOGwAAA2dJREFUWMPVWAeu3CAQJX3opvn+\n",
       "R81QjMHdRPnSImu1Lg/mMR1ChkeglGryMQNQXP8P+Il82nDuo+jqobf6Q+nCtS1OYvnnJzazSVIq\n",
       "GRI00NAN9XPvBuiOw18Pzy9fq1UUkEFlAZOM4Fa61lTx9QDdcfjbIW6saZWEWFtYct/pHenWTdFy\n",
       "xJjH4W+HvbEe2uSMuPNCxivTtKvvLtS5H/LdYfjbwS6cGt30z+9V+0kkq0gy6YQVle4SrqaxUDUM\n",
       "f+u5pwuYCZBNpba6srJVVLfKymgcjA9G5lH4W1suCwiAIBRfjUkn+9p5thTxKoOHla5V5fUY3Xu4\n",
       "fxvE4Gi1YkWoMQhALO1DpINdGG8eucYSdVh+TopFJrnF64TuHZw48zz6FrnsQSTK6nRIzs2CBHcc\n",
       "Qpqnjb49axwvaobvZVIQpMTHsTDmAsRZmXEMX9BEhHtDrRjISjN712B5hWhKtjVclZzp10+sKfqK\n",
       "JIuUpVZzQ9fDUaSxtjg/fqO8dqdV1SG8ott8eDZWQT0lh8qqdNPf1nBzstnkBXxYEmPKScS02kVh\n",
       "i50763CHbVeK5O23F0VkhRPEarw6NN1MfHC7p7tPa2s3Y2ZcQIhufrrxP1V4irmdttDlPu+mcCYW\n",
       "mUyTmqGLw3h1QXeBE9AkSDL5Fq2nfmKyvz2g63fbKyGrzWAsiWuudosvTP85ZqDyJBSesqWrWfYv\n",
       "LSAKh5GAmEa5Agi/ahEWeDR7lEp1aCP7icn+9oCu2dVoOZf4WQmLdE2jfdzeTdLFaJIUoKWXbRZb\n",
       "aoT6eYBi6G6Safi0k1y05rPriJrV5pwWVrQP/cSbdWz8jMUf19JVO7oqvREWlemta21dBPmjk80w\n",
       "OcUpsS2SmSc1xw0gU6nAVkSt+jRexc+4eNAAKpb6ywZdBK8Tk4PbJ8ZMqDoNdd+/YRVJz+s6TY/7\n",
       "XT2neaOnNiVJilOG3va7mhE+5bTSVB20n1jwfp1jurCvNJx90OledxdbuiZaHvBUfMglD4UQgMsp\n",
       "3Lf3FgwHEC0auehuYsV8t05LV/Np5lBB22B1elxx04zV91enGYJHjzKDpxkrelcy+Iu82yXTJw+f\n",
       "NGN1n77k8Mb2WjHitKo6gyxagpMq96YC1197VtUHuQdLvqiyv/Ak8vE589tmS/wProBdqvsL2DAz\n",
       "BRzGbx8AAAAASUVORK5CYII=\n",
       "\" style=\"display:inline;vertical-align:middle;\" /></a></span>"
      ],
      "text/plain": [
       "|- forall_{n in Integer} [forall_{x in (n,n + 1)} (x not-in Integer)]"
      ]
     },
     "execution_count": 14,
     "metadata": {},
     "output_type": "execute_result"
    }
   ],
   "source": [
    "not_int_if_between_successive_int"
   ]
  },
  {
   "cell_type": "code",
   "execution_count": 15,
   "metadata": {},
   "outputs": [
    {
     "data": {
      "text/html": [
       "<strong id=\"ell_not_int\">ell_not_int:</strong> <span style=\"font-size:20px;\"><a class=\"ProveItLink\" href=\"../../../__pv_it/theorems/7b8e14bfeec30fa2c83deb2740813fd8ea169a4c0/expr.ipynb\"><img src=\"data:image/png;base64,iVBORw0KGgoAAAANSUhEUgAAAC4AAAAQBAMAAACb51DZAAAAMFBMVEX///+qqqq6urru7u4QEBBE\n",
       "RERUVFTc3NyIiIgyMjJmZmaYmJjMzMwiIiJ2dnYAAACPW0xlAAAAAXRSTlMAQObYZgAAAAlwSFlz\n",
       "AAAOxAAADsQBlSsOGwAAANZJREFUGNNjYEADjFO+TL0bsoGB4e0fFHGOsAMMEziBDO4PKOJcCxg4\n",
       "NjwEMSagiLMVMJgyBwAZvA0Q/bF3b4JoZgaGNWwHgIx6EMHANMMApoMn4RSI2g/mVMKFGVgNgkFU\n",
       "KpgzHWGDHDfYZA8wB8lysCsZeL6DSd+7d+9ehThA4BEDgwEDhwPYFQFw5absQHY6A2sC2MYLcPEc\n",
       "oA+YPzDwb3gA4nXAXblAC+i5Cwz8ymDbOQXgrpzMwB4YwMC9DsxlTlWGiKtEuob6uz6AG8v0FBIO\n",
       "UAAAaDkwDDbpPcIAAAAASUVORK5CYII=\n",
       "\" style=\"display:inline;vertical-align:middle;\" /></a>, <a class=\"ProveItLink\" href=\"../../../__pv_it/_proof__scaled_delta_not_eq_nonzeroInt/81d1f85b48c7db26ed78f003601445002ab559ca0/expr.ipynb\"><img src=\"data:image/png;base64,iVBORw0KGgoAAAANSUhEUgAAAFwAAAAaBAMAAADIwCYaAAAAMFBMVEX///9UVFQiIiKIiIjMzMx2\n",
       "dnYQEBDc3NxEREQyMjLu7u5mZmaqqqq6urqYmJgAAAB66f/FAAAAAXRSTlMAQObYZgAAAAlwSFlz\n",
       "AAAOxAAADsQBlSsOGwAAAY9JREFUOMuNlKFPw0AUxr9u3cq6bquEBDEwBGYKJAjUDHoNoDA0wSBr\n",
       "CEsQTCBQUDyiAoMaBjGWECZRDIth+wMIE02WLMC4a0t2vV4Xnrnmu1+/e+/l3QF/kbPxr/gIliYn\n",
       "34lpLdSfOb0uxm+D5Wh5N6oXDSF+Ea7XjKa0Dm2siGjFAk5aZ8CIETN4dbEaY7c95E0oDex3Cxaj\n",
       "Sy6t3eXx4gClLiQbWSut30z0tE472+PxvIOai+wI0jBv7E109YtuNng8ZWCNHF2G5MmPVWbjkiSS\n",
       "tnj8tIq54L9BRO+8EOfCiMc/gXP/oxZpctGRCCp7fr6LftBiMAtc+cBC9FBbI6jyzbsfABVEqmo6\n",
       "vgt1VnlcHobu/UnxdIJ+IJNaFI/Dae0U10wcM7LqkewDs0juM7pL08cWsMnaeMg9CTpT6pnYIKdW\n",
       "2u0yq++gQ/vD9730ZuDdRWo8Hjusnlk3aRo6PzL3QLabdMviM0M9zCQ8PpG0mVYS3heq80n40rS7\n",
       "GouEu6olJF+f/s7w8SASfwG0GliX13G+5gAAAABJRU5ErkJggg==\n",
       "\" style=\"display:inline;vertical-align:middle;\" /></a>, <a class=\"ProveItLink\" href=\"../../../__pv_it/theorems/b38b045a9246dd5ac239f68f921874310f53aad00/expr.ipynb\"><img src=\"data:image/png;base64,iVBORw0KGgoAAAANSUhEUgAAAC0AAAAUCAMAAAAusUTNAAAAPFBMVEX///8NDQ0WFhYLCwsYGBiq\n",
       "qqq6urru7u4QEBBERERUVFTc3NyIiIgyMjJmZmaYmJjMzMwiIiJ2dnYAAABsuYCuAAAAAXRSTlMA\n",
       "QObYZgAAAAlwSFlzAAAOxAAADsQBlSsOGwAAAMhJREFUKM+VkusShCAIhd2Loal4e/93XZGp1bIa\n",
       "+cGEHT8PohBXgTBcTjGH82rQnSZZNPzp84ChW4KTQkBkOboBem0KHyufT4t2gDZtUbfKTJ2Yge2l\n",
       "RYuM9bgsL2y7Fg2b2pe8Nt1jrPH9UN74JidWk2Nl79F/daJkTq6xK4HVC7GtekBvXUrqslwP9L7f\n",
       "L3a/34vWPMSiK52mA/r4Qrzah5gX6NuUeLIWafKKxuLxCV2UmOwaRk9SJjERDibEfgodZ9Ai3P38\n",
       "AUNKCPHed8bwAAAAAElFTkSuQmCC\n",
       "\" style=\"display:inline;vertical-align:middle;\" /></a> <a class=\"ProveItLink\" href=\"../../../__pv_it/_proof__scaled_delta_not_eq_nonzeroInt/144294613f1a827f1d017a5ec69d4a8bb0e1e6950/proof.ipynb\" style=\"text-decoration: none\">&nbsp;&#x22A2;&nbsp;&nbsp;</a><a class=\"ProveItLink\" href=\"../../../__pv_it/_proof__scaled_delta_not_eq_nonzeroInt/598e60f496383fe9231c0fe24c53a8acfcbceefc0/expr.ipynb\"><img src=\"data:image/png;base64,iVBORw0KGgoAAAANSUhEUgAAAC4AAAAVCAMAAAAO2ixrAAAAP1BMVEX///9jY2MJCQkdHR0NDQ0W\n",
       "Fhaqqqq6urru7u4QEBBERERUVFTc3NyIiIgyMjJmZmaYmJjMzMwiIiJ2dnYAAACfMXhbAAAAAXRS\n",
       "TlMAQObYZgAAAAlwSFlzAAAOxAAADsQBlSsOGwAAAPhJREFUKM+Vk4tyxCAIRelu6wPf6P9/a8VJ\n",
       "lDU77YZxMgSIXo4E4K15uGXRTFdF22xEIrSZ3yu1slUXt/yAjtNxLLbc9s2TFn4aH2Wo6gjEvZyE\n",
       "77gPg7yOZJClAennm9YOo4tUwB2KvZSuYzAzI3spCa7SPSMxF3FoeB3iUABkoTls1aqKmBXZuEGf\n",
       "0XlgaesKiyWi56M/UDavoOqz62BXYsA6+Yqgx8kUHZgX4LRJ6ZwGezDMpPX7WucG0GmDmM6Q442a\n",
       "NrJXtUPvBEfvHhVLyqlKoe6hX8Boi9EiYh9LrNfRzV+1DyvF+5P+gXm89Rvt0P8x93f6F+M7Ckbz\n",
       "GGt1AAAAAElFTkSuQmCC\n",
       "\" style=\"display:inline;vertical-align:middle;\" /></a></span><br>"
      ],
      "text/plain": [
       "ell_not_int: {l in Integer, (2^{t} * delta) = l, l != 0} |- l not-in Integer"
      ]
     },
     "execution_count": 15,
     "metadata": {},
     "output_type": "execute_result"
    }
   ],
   "source": [
    "ell_not_int = not_int_if_between_successive_int.instantiate(\n",
    "    {n: zero, x: l}, assumptions=[contradictory_assumption, *defaults.assumptions])"
   ]
  },
  {
   "cell_type": "code",
   "execution_count": 16,
   "metadata": {},
   "outputs": [
    {
     "data": {
      "text/html": [
       "<strong id=\"contradictory_assumption_implies_false\">contradictory_assumption_implies_false:</strong> <span style=\"font-size:20px;\"><a class=\"ProveItLink\" href=\"../../../__pv_it/theorems/7b8e14bfeec30fa2c83deb2740813fd8ea169a4c0/expr.ipynb\"><img src=\"data:image/png;base64,iVBORw0KGgoAAAANSUhEUgAAAC4AAAAQBAMAAACb51DZAAAAMFBMVEX///+qqqq6urru7u4QEBBE\n",
       "RERUVFTc3NyIiIgyMjJmZmaYmJjMzMwiIiJ2dnYAAACPW0xlAAAAAXRSTlMAQObYZgAAAAlwSFlz\n",
       "AAAOxAAADsQBlSsOGwAAANZJREFUGNNjYEADjFO+TL0bsoGB4e0fFHGOsAMMEziBDO4PKOJcCxg4\n",
       "NjwEMSagiLMVMJgyBwAZvA0Q/bF3b4JoZgaGNWwHgIx6EMHANMMApoMn4RSI2g/mVMKFGVgNgkFU\n",
       "KpgzHWGDHDfYZA8wB8lysCsZeL6DSd+7d+9ehThA4BEDgwEDhwPYFQFw5absQHY6A2sC2MYLcPEc\n",
       "oA+YPzDwb3gA4nXAXblAC+i5Cwz8ymDbOQXgrpzMwB4YwMC9DsxlTlWGiKtEuob6uz6AG8v0FBIO\n",
       "UAAAaDkwDDbpPcIAAAAASUVORK5CYII=\n",
       "\" style=\"display:inline;vertical-align:middle;\" /></a>, <a class=\"ProveItLink\" href=\"../../../__pv_it/theorems/b38b045a9246dd5ac239f68f921874310f53aad00/expr.ipynb\"><img src=\"data:image/png;base64,iVBORw0KGgoAAAANSUhEUgAAAC0AAAAUCAMAAAAusUTNAAAAPFBMVEX///8NDQ0WFhYLCwsYGBiq\n",
       "qqq6urru7u4QEBBERERUVFTc3NyIiIgyMjJmZmaYmJjMzMwiIiJ2dnYAAABsuYCuAAAAAXRSTlMA\n",
       "QObYZgAAAAlwSFlzAAAOxAAADsQBlSsOGwAAAMhJREFUKM+VkusShCAIhd2Loal4e/93XZGp1bIa\n",
       "+cGEHT8PohBXgTBcTjGH82rQnSZZNPzp84ChW4KTQkBkOboBem0KHyufT4t2gDZtUbfKTJ2Yge2l\n",
       "RYuM9bgsL2y7Fg2b2pe8Nt1jrPH9UN74JidWk2Nl79F/daJkTq6xK4HVC7GtekBvXUrqslwP9L7f\n",
       "L3a/34vWPMSiK52mA/r4Qrzah5gX6NuUeLIWafKKxuLxCV2UmOwaRk9SJjERDibEfgodZ9Ai3P38\n",
       "AUNKCPHed8bwAAAAAElFTkSuQmCC\n",
       "\" style=\"display:inline;vertical-align:middle;\" /></a> <a class=\"ProveItLink\" href=\"../../../__pv_it/_proof__scaled_delta_not_eq_nonzeroInt/0a8426d3c47250fd3288ac996b3e20b0948bff520/proof.ipynb\" style=\"text-decoration: none\">&nbsp;&#x22A2;&nbsp;&nbsp;</a><a class=\"ProveItLink\" href=\"../../../__pv_it/_proof__scaled_delta_not_eq_nonzeroInt/4b701b49d08c3d045cda49b18fc9c1c9f937cbd50/expr.ipynb\"><img src=\"data:image/png;base64,iVBORw0KGgoAAAANSUhEUgAAAJ8AAAAaBAMAAABbSJO4AAAAMFBMVEX///9UVFQiIiKIiIjMzMx2\n",
       "dnYQEBDc3NxEREQyMjLu7u5mZmaqqqq6urqYmJgAAAB66f/FAAAAAXRSTlMAQObYZgAAAAlwSFlz\n",
       "AAAOxAAADsQBlSsOGwAAAltJREFUSMelVT1M20AUfk5MTJzEyVikDmmGImChIDEwsbRiSwSdujSC\n",
       "hQXJCwXEAAMD6gDp0A0hBhamtEMlfiQEQwfUoenapUGV2BAMllADNLx3NvDufLYqetJZvnv3vvvu\n",
       "e+/uAUgt7cL/tzPsTsP/ryu2TzqHTDxelpy+BYNjxTin87CWYgG3sds1/3+m57VsdPp1Lr9jAVex\n",
       "dzaDwTonsjvlQq/OJbEZg2dV8fMO+8LuMkCLWTrgxya8CDmMeZAsaKFyglamgp8vQpi3jVyV2Q3i\n",
       "UQ+RcS7AbumjIfTJU3xv0N2FVDVZ2HqwCx7pZijGqPdGDGAZKZi4Y6oFxmWm/82D3b4m91BEE+i2\n",
       "w8bvFcAB4lJEhkUwPPNghC1dw72SVRVwEZcMsfGoAthFavlZk7iQPI++I7tcSK5z7L+Ysk5FBlyh\n",
       "rPHPVZaSzqkZCGZ6QreSaCK4T2jlCJu9kgE/kPJ+GjyTj+ZmEcy6URlOkq3BY7EuAfbRWcWVvdff\n",
       "/uMzIXa2CmheUjI1pLs2rWd4cr+CNoG/YKKmlqcAiigt8thZH10tYLYCs2yZ7aGKASGuYWcBA1J2\n",
       "2WyPKx2ZNDbosC8BhjkVD9KHmijnmxU5yrklOShDwTGsvv39IvcchyOKtZqH+Z/odsom5pU8pM2I\n",
       "RqLdbte4Z8cgJVhGfQccvPfwmU0sBzeyVHo+QaqkKGDTkY9R+C5T43dZLRp3r01Eq+uevojXJsgr\n",
       "EulVpPlEN+kU4l7spxTmwyhrt/bFdv+1poS5PKKmZEnErxHGx1Q9qS6rbU9bl+Nq1C2UGoc+mM0S\n",
       "igAAAABJRU5ErkJggg==\n",
       "\" style=\"display:inline;vertical-align:middle;\" /></a></span><br>"
      ],
      "text/plain": [
       "contradictory_assumption_implies_false: {l in Integer, l != 0} |- ((2^{t} * delta) = l) => FALSE"
      ]
     },
     "execution_count": 16,
     "metadata": {},
     "output_type": "execute_result"
    }
   ],
   "source": [
    "contradictory_assumption_implies_false = (\n",
    "    ell_not_int.unfold().derive_contradiction().as_implication(\n",
    "        hypothesis=contradictory_assumption))"
   ]
  },
  {
   "cell_type": "code",
   "execution_count": 17,
   "metadata": {},
   "outputs": [
    {
     "data": {
      "text/html": [
       "<span style=\"font-size:20px;\"><a class=\"ProveItLink\" href=\"../../../__pv_it/theorems/7b8e14bfeec30fa2c83deb2740813fd8ea169a4c0/expr.ipynb\"><img src=\"data:image/png;base64,iVBORw0KGgoAAAANSUhEUgAAAC4AAAAQBAMAAACb51DZAAAAMFBMVEX///+qqqq6urru7u4QEBBE\n",
       "RERUVFTc3NyIiIgyMjJmZmaYmJjMzMwiIiJ2dnYAAACPW0xlAAAAAXRSTlMAQObYZgAAAAlwSFlz\n",
       "AAAOxAAADsQBlSsOGwAAANZJREFUGNNjYEADjFO+TL0bsoGB4e0fFHGOsAMMEziBDO4PKOJcCxg4\n",
       "NjwEMSagiLMVMJgyBwAZvA0Q/bF3b4JoZgaGNWwHgIx6EMHANMMApoMn4RSI2g/mVMKFGVgNgkFU\n",
       "KpgzHWGDHDfYZA8wB8lysCsZeL6DSd+7d+9ehThA4BEDgwEDhwPYFQFw5absQHY6A2sC2MYLcPEc\n",
       "oA+YPzDwb3gA4nXAXblAC+i5Cwz8ymDbOQXgrpzMwB4YwMC9DsxlTlWGiKtEuob6uz6AG8v0FBIO\n",
       "UAAAaDkwDDbpPcIAAAAASUVORK5CYII=\n",
       "\" style=\"display:inline;vertical-align:middle;\" /></a>, <a class=\"ProveItLink\" href=\"../../../__pv_it/theorems/b38b045a9246dd5ac239f68f921874310f53aad00/expr.ipynb\"><img src=\"data:image/png;base64,iVBORw0KGgoAAAANSUhEUgAAAC0AAAAUCAMAAAAusUTNAAAAPFBMVEX///8NDQ0WFhYLCwsYGBiq\n",
       "qqq6urru7u4QEBBERERUVFTc3NyIiIgyMjJmZmaYmJjMzMwiIiJ2dnYAAABsuYCuAAAAAXRSTlMA\n",
       "QObYZgAAAAlwSFlzAAAOxAAADsQBlSsOGwAAAMhJREFUKM+VkusShCAIhd2Loal4e/93XZGp1bIa\n",
       "+cGEHT8PohBXgTBcTjGH82rQnSZZNPzp84ChW4KTQkBkOboBem0KHyufT4t2gDZtUbfKTJ2Yge2l\n",
       "RYuM9bgsL2y7Fg2b2pe8Nt1jrPH9UN74JidWk2Nl79F/daJkTq6xK4HVC7GtekBvXUrqslwP9L7f\n",
       "L3a/34vWPMSiK52mA/r4Qrzah5gX6NuUeLIWafKKxuLxCV2UmOwaRk9SJjERDibEfgodZ9Ai3P38\n",
       "AUNKCPHed8bwAAAAAElFTkSuQmCC\n",
       "\" style=\"display:inline;vertical-align:middle;\" /></a> <a class=\"ProveItLink\" href=\"../../../__pv_it/_proof__scaled_delta_not_eq_nonzeroInt/bcf10e891837e397893abede94d6afd9b934a3460/proof.ipynb\" style=\"text-decoration: none\">&nbsp;&#x22A2;&nbsp;&nbsp;</a><a class=\"ProveItLink\" href=\"../../../__pv_it/_proof__scaled_delta_not_eq_nonzeroInt/f70b0292c0ebd7150c6701fb43b93b528e9586830/expr.ipynb\"><img src=\"data:image/png;base64,iVBORw0KGgoAAAANSUhEUgAAAIAAAAAaBAMAAACN7UndAAAAMFBMVEX///+IiIjMzMx2dnYQEBBE\n",
       "REQyMjLu7u6qqqq6urqYmJhUVFTc3NwiIiJmZmYAAAA5EezSAAAAAXRSTlMAQObYZgAAAAlwSFlz\n",
       "AAAOxAAADsQBlSsOGwAAAhZJREFUOMuVVc0vQ0EQnyr64bWVcBPJOzhr/QGSHlycuLjgIEEiONTF\n",
       "9Unc6cFdiUhEgouPA2kPnMTXyQEtERykDRKkImFm30s7u29fwia7fbM785vZ38xsATzGJPx/hNO4\n",
       "rNnfgRf5LKq1uJXFOZxBZy84JJ8ZvTqAI0kKkM20o985bMq6S9qYG7lUl8Gl3xHqZ9jJ6cggRFI6\n",
       "hEsuHJLnJM7SqAkxrp8I7YJvSzX2F0xo4Rv3xFWCLuYvwwI/2aULfrrcbwJY3E8ZZwwTsQ/QBS0B\n",
       "xoHwM+4CeMSbZqpiDbmII2JPCrK5Oz/DtoiQBxfABUbMkuM7x6UV5wFA1mxf5vQSdrNqb7yhUbIq\n",
       "N1AWd+zvgqQZ3HvHdVFNQxhrLcSYqaNo+uzbvEqaq5BF47ggpXhD40p4RIOaN3snT5mnPE0Ii4iU\n",
       "MuMb5tH4LK1EUItVZJTt72OyoiLOC7HClzVkeyLvlgoQz2FyGUA1gnAlAAEay0Acf86U2hasEpFu\n",
       "gFkwckzRMpEF26HEwUAAOfh2it3hBLaJwgT4OOMxE8Z0Wfjyy1kQKaWwTkqlolTzjUEKbkWtg/IU\n",
       "3pbVgQAjN4Wfnw9Js6OJ1mcVYAP7Jsrz1U2pSXu+V+O6Td4LlW7UD003gtKNbURg0vPB3NLtrnOh\n",
       "gXpuzwsgktPtXnu9ie7xhzcRCwg7z4OEv7zK0v+COqLaN/UJ4BcU9osBnYrhuAAAAABJRU5ErkJg\n",
       "gg==\n",
       "\" style=\"display:inline;vertical-align:middle;\" /></a></span>"
      ],
      "text/plain": [
       "{l in Integer, l != 0} |- [not]((2^{t} * delta) = l)"
      ]
     },
     "execution_count": 17,
     "metadata": {},
     "output_type": "execute_result"
    }
   ],
   "source": [
    "contradictory_assumption_implies_false.derive_via_contradiction()"
   ]
  },
  {
   "cell_type": "code",
   "execution_count": 18,
   "metadata": {},
   "outputs": [
    {
     "ename": "KeyboardInterrupt",
     "evalue": "",
     "output_type": "error",
     "traceback": [
      "\u001b[0;31m---------------------------------------------------------------------------\u001b[0m",
      "\u001b[0;31mKeyboardInterrupt\u001b[0m                         Traceback (most recent call last)",
      "\u001b[0;32m<ipython-input-18-b046f9677097>\u001b[0m in \u001b[0;36m<module>\u001b[0;34m\u001b[0m\n\u001b[0;32m----> 1\u001b[0;31m \u001b[0mget_ipython\u001b[0m\u001b[0;34m(\u001b[0m\u001b[0;34m)\u001b[0m\u001b[0;34m.\u001b[0m\u001b[0mrun_line_magic\u001b[0m\u001b[0;34m(\u001b[0m\u001b[0;34m'qed'\u001b[0m\u001b[0;34m,\u001b[0m \u001b[0;34m''\u001b[0m\u001b[0;34m)\u001b[0m\u001b[0;34m\u001b[0m\u001b[0;34m\u001b[0m\u001b[0m\n\u001b[0m",
      "\u001b[0;32m~/.local/lib/python3.7/site-packages/IPython/core/interactiveshell.py\u001b[0m in \u001b[0;36mrun_line_magic\u001b[0;34m(self, magic_name, line, _stack_depth)\u001b[0m\n\u001b[1;32m   2305\u001b[0m                 \u001b[0mkwargs\u001b[0m\u001b[0;34m[\u001b[0m\u001b[0;34m'local_ns'\u001b[0m\u001b[0;34m]\u001b[0m \u001b[0;34m=\u001b[0m \u001b[0msys\u001b[0m\u001b[0;34m.\u001b[0m\u001b[0m_getframe\u001b[0m\u001b[0;34m(\u001b[0m\u001b[0mstack_depth\u001b[0m\u001b[0;34m)\u001b[0m\u001b[0;34m.\u001b[0m\u001b[0mf_locals\u001b[0m\u001b[0;34m\u001b[0m\u001b[0;34m\u001b[0m\u001b[0m\n\u001b[1;32m   2306\u001b[0m             \u001b[0;32mwith\u001b[0m \u001b[0mself\u001b[0m\u001b[0;34m.\u001b[0m\u001b[0mbuiltin_trap\u001b[0m\u001b[0;34m:\u001b[0m\u001b[0;34m\u001b[0m\u001b[0;34m\u001b[0m\u001b[0m\n\u001b[0;32m-> 2307\u001b[0;31m                 \u001b[0mresult\u001b[0m \u001b[0;34m=\u001b[0m \u001b[0mfn\u001b[0m\u001b[0;34m(\u001b[0m\u001b[0;34m*\u001b[0m\u001b[0margs\u001b[0m\u001b[0;34m,\u001b[0m \u001b[0;34m**\u001b[0m\u001b[0mkwargs\u001b[0m\u001b[0;34m)\u001b[0m\u001b[0;34m\u001b[0m\u001b[0;34m\u001b[0m\u001b[0m\n\u001b[0m\u001b[1;32m   2308\u001b[0m             \u001b[0;32mreturn\u001b[0m \u001b[0mresult\u001b[0m\u001b[0;34m\u001b[0m\u001b[0;34m\u001b[0m\u001b[0m\n\u001b[1;32m   2309\u001b[0m \u001b[0;34m\u001b[0m\u001b[0m\n",
      "\u001b[0;32m<decorator-gen-143>\u001b[0m in \u001b[0;36mqed\u001b[0;34m(self, line)\u001b[0m\n",
      "\u001b[0;32m~/.local/lib/python3.7/site-packages/IPython/core/magic.py\u001b[0m in \u001b[0;36m<lambda>\u001b[0;34m(f, *a, **k)\u001b[0m\n\u001b[1;32m    185\u001b[0m     \u001b[0;31m# but it's overkill for just that one bit of state.\u001b[0m\u001b[0;34m\u001b[0m\u001b[0;34m\u001b[0m\u001b[0;34m\u001b[0m\u001b[0m\n\u001b[1;32m    186\u001b[0m     \u001b[0;32mdef\u001b[0m \u001b[0mmagic_deco\u001b[0m\u001b[0;34m(\u001b[0m\u001b[0marg\u001b[0m\u001b[0;34m)\u001b[0m\u001b[0;34m:\u001b[0m\u001b[0;34m\u001b[0m\u001b[0;34m\u001b[0m\u001b[0m\n\u001b[0;32m--> 187\u001b[0;31m         \u001b[0mcall\u001b[0m \u001b[0;34m=\u001b[0m \u001b[0;32mlambda\u001b[0m \u001b[0mf\u001b[0m\u001b[0;34m,\u001b[0m \u001b[0;34m*\u001b[0m\u001b[0ma\u001b[0m\u001b[0;34m,\u001b[0m \u001b[0;34m**\u001b[0m\u001b[0mk\u001b[0m\u001b[0;34m:\u001b[0m \u001b[0mf\u001b[0m\u001b[0;34m(\u001b[0m\u001b[0;34m*\u001b[0m\u001b[0ma\u001b[0m\u001b[0;34m,\u001b[0m \u001b[0;34m**\u001b[0m\u001b[0mk\u001b[0m\u001b[0;34m)\u001b[0m\u001b[0;34m\u001b[0m\u001b[0;34m\u001b[0m\u001b[0m\n\u001b[0m\u001b[1;32m    188\u001b[0m \u001b[0;34m\u001b[0m\u001b[0m\n\u001b[1;32m    189\u001b[0m         \u001b[0;32mif\u001b[0m \u001b[0mcallable\u001b[0m\u001b[0;34m(\u001b[0m\u001b[0marg\u001b[0m\u001b[0;34m)\u001b[0m\u001b[0;34m:\u001b[0m\u001b[0;34m\u001b[0m\u001b[0;34m\u001b[0m\u001b[0m\n",
      "\u001b[0;32m/home/wwitzel/Prove-It/packages/proveit/magics.py\u001b[0m in \u001b[0;36mqed\u001b[0;34m(self, line)\u001b[0m\n\u001b[1;32m    978\u001b[0m     \u001b[0;34m@\u001b[0m\u001b[0mline_magic\u001b[0m\u001b[0;34m\u001b[0m\u001b[0;34m\u001b[0m\u001b[0m\n\u001b[1;32m    979\u001b[0m     \u001b[0;32mdef\u001b[0m \u001b[0mqed\u001b[0m\u001b[0;34m(\u001b[0m\u001b[0mself\u001b[0m\u001b[0;34m,\u001b[0m \u001b[0mline\u001b[0m\u001b[0;34m)\u001b[0m\u001b[0;34m:\u001b[0m\u001b[0;34m\u001b[0m\u001b[0;34m\u001b[0m\u001b[0m\n\u001b[0;32m--> 980\u001b[0;31m         \u001b[0;32mreturn\u001b[0m \u001b[0mProveItMagicCommands\u001b[0m\u001b[0;34m.\u001b[0m\u001b[0mqed\u001b[0m\u001b[0;34m(\u001b[0m\u001b[0mself\u001b[0m\u001b[0;34m)\u001b[0m\u001b[0;34m\u001b[0m\u001b[0;34m\u001b[0m\u001b[0m\n\u001b[0m\u001b[1;32m    981\u001b[0m \u001b[0;34m\u001b[0m\u001b[0m\n\u001b[1;32m    982\u001b[0m     \u001b[0;34m@\u001b[0m\u001b[0mline_magic\u001b[0m\u001b[0;34m\u001b[0m\u001b[0;34m\u001b[0m\u001b[0m\n",
      "\u001b[0;32m/home/wwitzel/Prove-It/packages/proveit/magics.py\u001b[0m in \u001b[0;36mqed\u001b[0;34m(self)\u001b[0m\n\u001b[1;32m    651\u001b[0m         \u001b[0;32mimport\u001b[0m \u001b[0mproveit\u001b[0m\u001b[0;34m\u001b[0m\u001b[0;34m\u001b[0m\u001b[0m\n\u001b[1;32m    652\u001b[0m         \u001b[0mproof\u001b[0m \u001b[0;34m=\u001b[0m \u001b[0mJudgment\u001b[0m\u001b[0;34m.\u001b[0m\u001b[0mtheorem_being_proven\u001b[0m\u001b[0;34m.\u001b[0m\u001b[0mproven_truth\u001b[0m\u001b[0;34m.\u001b[0m\u001b[0m_qed\u001b[0m\u001b[0;34m(\u001b[0m\u001b[0;34m)\u001b[0m\u001b[0;34m\u001b[0m\u001b[0;34m\u001b[0m\u001b[0m\n\u001b[0;32m--> 653\u001b[0;31m         \u001b[0mproof\u001b[0m\u001b[0;34m.\u001b[0m\u001b[0m_repr_html_\u001b[0m\u001b[0;34m(\u001b[0m\u001b[0;34m)\u001b[0m  \u001b[0;31m# generate expressions that should be referenced\u001b[0m\u001b[0;34m\u001b[0m\u001b[0;34m\u001b[0m\u001b[0m\n\u001b[0m\u001b[1;32m    654\u001b[0m         \u001b[0;31m# clean unreferenced expressions, but only when \"display latex\"\u001b[0m\u001b[0;34m\u001b[0m\u001b[0;34m\u001b[0m\u001b[0;34m\u001b[0m\u001b[0m\n\u001b[1;32m    655\u001b[0m         \u001b[0;31m# is enabled (otherwise, references won't be complete).\u001b[0m\u001b[0;34m\u001b[0m\u001b[0;34m\u001b[0m\u001b[0;34m\u001b[0m\u001b[0m\n",
      "\u001b[0;32m/home/wwitzel/Prove-It/packages/proveit/_core_/proof.py\u001b[0m in \u001b[0;36m_repr_html_\u001b[0;34m(self)\u001b[0m\n\u001b[1;32m    680\u001b[0m             html += '<td>%s</td><td>%s</td>' % (\n\u001b[1;32m    681\u001b[0m                 proof.step_type(), required_proof_nums)\n\u001b[0;32m--> 682\u001b[0;31m             \u001b[0mhtml\u001b[0m \u001b[0;34m+=\u001b[0m \u001b[0;34m'<td>%s</td>'\u001b[0m \u001b[0;34m%\u001b[0m \u001b[0mproof\u001b[0m\u001b[0;34m.\u001b[0m\u001b[0mproven_truth\u001b[0m\u001b[0;34m.\u001b[0m\u001b[0m_repr_html_\u001b[0m\u001b[0;34m(\u001b[0m\u001b[0;34m)\u001b[0m\u001b[0;34m\u001b[0m\u001b[0;34m\u001b[0m\u001b[0m\n\u001b[0m\u001b[1;32m    683\u001b[0m             \u001b[0mhtml\u001b[0m \u001b[0;34m+=\u001b[0m \u001b[0;34m'</tr>\\n'\u001b[0m\u001b[0;34m\u001b[0m\u001b[0;34m\u001b[0m\u001b[0m\n\u001b[1;32m    684\u001b[0m             \u001b[0;32mif\u001b[0m \u001b[0mproof\u001b[0m\u001b[0;34m.\u001b[0m\u001b[0mstep_type\u001b[0m\u001b[0;34m(\u001b[0m\u001b[0;34m)\u001b[0m \u001b[0;34m==\u001b[0m \u001b[0;34m'instantiation'\u001b[0m\u001b[0;34m:\u001b[0m\u001b[0;34m\u001b[0m\u001b[0;34m\u001b[0m\u001b[0m\n",
      "\u001b[0;32m/home/wwitzel/Prove-It/packages/proveit/_core_/judgment.py\u001b[0m in \u001b[0;36m_repr_html_\u001b[0;34m(self)\u001b[0m\n\u001b[1;32m   1366\u001b[0m         \u001b[0;32mif\u001b[0m \u001b[0mproof\u001b[0m \u001b[0;32mis\u001b[0m \u001b[0;32mnot\u001b[0m \u001b[0;32mNone\u001b[0m\u001b[0;34m:\u001b[0m\u001b[0;34m\u001b[0m\u001b[0;34m\u001b[0m\u001b[0m\n\u001b[1;32m   1367\u001b[0m             \u001b[0mhtml\u001b[0m \u001b[0;34m+=\u001b[0m \u001b[0;34m'</a>'\u001b[0m\u001b[0;34m\u001b[0m\u001b[0;34m\u001b[0m\u001b[0m\n\u001b[0;32m-> 1368\u001b[0;31m         \u001b[0mhtml\u001b[0m \u001b[0;34m+=\u001b[0m \u001b[0mself\u001b[0m\u001b[0;34m.\u001b[0m\u001b[0mexpr\u001b[0m\u001b[0;34m.\u001b[0m\u001b[0m_repr_html_\u001b[0m\u001b[0;34m(\u001b[0m\u001b[0;34m)\u001b[0m\u001b[0;34m\u001b[0m\u001b[0;34m\u001b[0m\u001b[0m\n\u001b[0m\u001b[1;32m   1369\u001b[0m         \u001b[0mhtml\u001b[0m \u001b[0;34m+=\u001b[0m \u001b[0;34m'</span>'\u001b[0m\u001b[0;34m\u001b[0m\u001b[0;34m\u001b[0m\u001b[0m\n\u001b[1;32m   1370\u001b[0m         \u001b[0;32mreturn\u001b[0m \u001b[0mhtml\u001b[0m\u001b[0;34m\u001b[0m\u001b[0;34m\u001b[0m\u001b[0m\n",
      "\u001b[0;32m/home/wwitzel/Prove-It/packages/proveit/_core_/expression/expr.py\u001b[0m in \u001b[0;36m_repr_html_\u001b[0;34m(self, unofficial_name_kind_theory)\u001b[0m\n\u001b[1;32m   1550\u001b[0m         \u001b[0;32mif\u001b[0m \u001b[0;32mnot\u001b[0m \u001b[0mhasattr\u001b[0m\u001b[0;34m(\u001b[0m\u001b[0mself\u001b[0m\u001b[0;34m.\u001b[0m\u001b[0m_style_data\u001b[0m\u001b[0;34m,\u001b[0m \u001b[0;34m'png'\u001b[0m\u001b[0;34m)\u001b[0m\u001b[0;34m:\u001b[0m\u001b[0;34m\u001b[0m\u001b[0;34m\u001b[0m\u001b[0m\n\u001b[1;32m   1551\u001b[0m             self._style_data.png, png_url = Theory._stored_png(\n\u001b[0;32m-> 1552\u001b[0;31m                 self, self.latex(), self._config_latex_tool)\n\u001b[0m\u001b[1;32m   1553\u001b[0m             \u001b[0mself\u001b[0m\u001b[0;34m.\u001b[0m\u001b[0m_style_data\u001b[0m\u001b[0;34m.\u001b[0m\u001b[0mpng_url\u001b[0m \u001b[0;34m=\u001b[0m \u001b[0mpng_url\u001b[0m\u001b[0;34m\u001b[0m\u001b[0;34m\u001b[0m\u001b[0m\n\u001b[1;32m   1554\u001b[0m         \u001b[0;32mif\u001b[0m \u001b[0mself\u001b[0m\u001b[0;34m.\u001b[0m\u001b[0m_style_data\u001b[0m\u001b[0;34m.\u001b[0m\u001b[0mpng_url\u001b[0m \u001b[0;32mis\u001b[0m \u001b[0;32mnot\u001b[0m \u001b[0;32mNone\u001b[0m\u001b[0;34m:\u001b[0m\u001b[0;34m\u001b[0m\u001b[0;34m\u001b[0m\u001b[0m\n",
      "\u001b[0;32m/home/wwitzel/Prove-It/packages/proveit/_core_/theory.py\u001b[0m in \u001b[0;36m_stored_png\u001b[0;34m(expr, latex, config_latex_tool_fn)\u001b[0m\n\u001b[1;32m    572\u001b[0m         '''\n\u001b[1;32m    573\u001b[0m         return TheoryFolderStorage.retrieve_png(\n\u001b[0;32m--> 574\u001b[0;31m             expr, latex, config_latex_tool_fn)\n\u001b[0m\u001b[1;32m    575\u001b[0m \u001b[0;34m\u001b[0m\u001b[0m\n\u001b[1;32m    576\u001b[0m     \u001b[0;32mdef\u001b[0m \u001b[0m_theory_folder_storage\u001b[0m\u001b[0;34m(\u001b[0m\u001b[0mself\u001b[0m\u001b[0;34m,\u001b[0m \u001b[0mfolder\u001b[0m\u001b[0;34m=\u001b[0m\u001b[0;32mNone\u001b[0m\u001b[0;34m)\u001b[0m\u001b[0;34m:\u001b[0m\u001b[0;34m\u001b[0m\u001b[0;34m\u001b[0m\u001b[0m\n",
      "\u001b[0;32m/home/wwitzel/Prove-It/packages/proveit/_core_/_theory_storage.py\u001b[0m in \u001b[0;36mretrieve_png\u001b[0;34m(expr, latex, config_latex_tool_fn)\u001b[0m\n\u001b[1;32m   1003\u001b[0m                             \"expressions\")\n\u001b[1;32m   1004\u001b[0m         return theory_folder_storage._retrieve_png(\n\u001b[0;32m-> 1005\u001b[0;31m             expr, latex, config_latex_tool_fn)\n\u001b[0m\u001b[1;32m   1006\u001b[0m \u001b[0;34m\u001b[0m\u001b[0m\n\u001b[1;32m   1007\u001b[0m     \u001b[0;32mdef\u001b[0m \u001b[0m_retrieve_png\u001b[0m\u001b[0;34m(\u001b[0m\u001b[0mself\u001b[0m\u001b[0;34m,\u001b[0m \u001b[0mexpr\u001b[0m\u001b[0;34m,\u001b[0m \u001b[0mlatex\u001b[0m\u001b[0;34m,\u001b[0m \u001b[0mconfig_latex_tool_fn\u001b[0m\u001b[0;34m)\u001b[0m\u001b[0;34m:\u001b[0m\u001b[0;34m\u001b[0m\u001b[0;34m\u001b[0m\u001b[0m\n",
      "\u001b[0;32m/home/wwitzel/Prove-It/packages/proveit/_core_/_theory_storage.py\u001b[0m in \u001b[0;36m_retrieve_png\u001b[0;34m(self, expr, latex, config_latex_tool_fn)\u001b[0m\n\u001b[1;32m   1033\u001b[0m             \u001b[0mlatex_file\u001b[0m\u001b[0;34m.\u001b[0m\u001b[0mwrite\u001b[0m\u001b[0;34m(\u001b[0m\u001b[0mlatex\u001b[0m\u001b[0;34m.\u001b[0m\u001b[0mencode\u001b[0m\u001b[0;34m(\u001b[0m\u001b[0;34m'ascii'\u001b[0m\u001b[0;34m)\u001b[0m\u001b[0;34m)\u001b[0m\u001b[0;34m\u001b[0m\u001b[0;34m\u001b[0m\u001b[0m\n\u001b[1;32m   1034\u001b[0m         \u001b[0;31m# generate, store and return the png file\u001b[0m\u001b[0;34m\u001b[0m\u001b[0;34m\u001b[0m\u001b[0;34m\u001b[0m\u001b[0m\n\u001b[0;32m-> 1035\u001b[0;31m         \u001b[0mpng\u001b[0m \u001b[0;34m=\u001b[0m \u001b[0mself\u001b[0m\u001b[0;34m.\u001b[0m\u001b[0m_generate_png\u001b[0m\u001b[0;34m(\u001b[0m\u001b[0mlatex\u001b[0m\u001b[0;34m,\u001b[0m \u001b[0mconfig_latex_tool_fn\u001b[0m\u001b[0;34m)\u001b[0m\u001b[0;34m\u001b[0m\u001b[0;34m\u001b[0m\u001b[0m\n\u001b[0m\u001b[1;32m   1036\u001b[0m         \u001b[0;32mwith\u001b[0m \u001b[0mopen\u001b[0m\u001b[0;34m(\u001b[0m\u001b[0mpng_path\u001b[0m\u001b[0;34m,\u001b[0m \u001b[0;34m'wb'\u001b[0m\u001b[0;34m)\u001b[0m \u001b[0;32mas\u001b[0m \u001b[0mpng_file\u001b[0m\u001b[0;34m:\u001b[0m\u001b[0;34m\u001b[0m\u001b[0;34m\u001b[0m\u001b[0m\n\u001b[1;32m   1037\u001b[0m             \u001b[0mpng_file\u001b[0m\u001b[0;34m.\u001b[0m\u001b[0mwrite\u001b[0m\u001b[0;34m(\u001b[0m\u001b[0mpng\u001b[0m\u001b[0;34m)\u001b[0m\u001b[0;34m\u001b[0m\u001b[0;34m\u001b[0m\u001b[0m\n",
      "\u001b[0;32m/home/wwitzel/Prove-It/packages/proveit/_core_/_theory_storage.py\u001b[0m in \u001b[0;36m_generate_png\u001b[0;34m(self, latex, config_latex_tool_fn)\u001b[0m\n\u001b[1;32m   1050\u001b[0m         \u001b[0;31m# the 'matplotlib' backend can do some BAD rendering in my\u001b[0m\u001b[0;34m\u001b[0m\u001b[0;34m\u001b[0m\u001b[0;34m\u001b[0m\u001b[0m\n\u001b[1;32m   1051\u001b[0m         \u001b[0;31m# experience (like \\lnot rendering as lnot in some theories)\u001b[0m\u001b[0;34m\u001b[0m\u001b[0;34m\u001b[0m\u001b[0;34m\u001b[0m\u001b[0m\n\u001b[0;32m-> 1052\u001b[0;31m         \u001b[0mpng\u001b[0m \u001b[0;34m=\u001b[0m \u001b[0mlatex_to_png\u001b[0m\u001b[0;34m(\u001b[0m\u001b[0mlatex\u001b[0m\u001b[0;34m,\u001b[0m \u001b[0mbackend\u001b[0m\u001b[0;34m=\u001b[0m\u001b[0;34m'dvipng'\u001b[0m\u001b[0;34m,\u001b[0m \u001b[0mwrap\u001b[0m\u001b[0;34m=\u001b[0m\u001b[0;32mTrue\u001b[0m\u001b[0;34m)\u001b[0m\u001b[0;34m\u001b[0m\u001b[0;34m\u001b[0m\u001b[0m\n\u001b[0m\u001b[1;32m   1053\u001b[0m         \u001b[0;32mif\u001b[0m \u001b[0mpng\u001b[0m \u001b[0;32mis\u001b[0m \u001b[0;32mNone\u001b[0m\u001b[0;34m:\u001b[0m\u001b[0;34m\u001b[0m\u001b[0;34m\u001b[0m\u001b[0m\n\u001b[1;32m   1054\u001b[0m             raise Exception(\n",
      "\u001b[0;32m~/.local/lib/python3.7/site-packages/IPython/lib/latextools.py\u001b[0m in \u001b[0;36mlatex_to_png\u001b[0;34m(s, encode, backend, wrap)\u001b[0m\n\u001b[1;32m     85\u001b[0m     \u001b[0;32melse\u001b[0m\u001b[0;34m:\u001b[0m\u001b[0;34m\u001b[0m\u001b[0;34m\u001b[0m\u001b[0m\n\u001b[1;32m     86\u001b[0m         \u001b[0;32mraise\u001b[0m \u001b[0mValueError\u001b[0m\u001b[0;34m(\u001b[0m\u001b[0;34m'No such backend {0}'\u001b[0m\u001b[0;34m.\u001b[0m\u001b[0mformat\u001b[0m\u001b[0;34m(\u001b[0m\u001b[0mbackend\u001b[0m\u001b[0;34m)\u001b[0m\u001b[0;34m)\u001b[0m\u001b[0;34m\u001b[0m\u001b[0;34m\u001b[0m\u001b[0m\n\u001b[0;32m---> 87\u001b[0;31m     \u001b[0mbin_data\u001b[0m \u001b[0;34m=\u001b[0m \u001b[0mf\u001b[0m\u001b[0;34m(\u001b[0m\u001b[0ms\u001b[0m\u001b[0;34m,\u001b[0m \u001b[0mwrap\u001b[0m\u001b[0;34m)\u001b[0m\u001b[0;34m\u001b[0m\u001b[0;34m\u001b[0m\u001b[0m\n\u001b[0m\u001b[1;32m     88\u001b[0m     \u001b[0;32mif\u001b[0m \u001b[0mencode\u001b[0m \u001b[0;32mand\u001b[0m \u001b[0mbin_data\u001b[0m\u001b[0;34m:\u001b[0m\u001b[0;34m\u001b[0m\u001b[0;34m\u001b[0m\u001b[0m\n\u001b[1;32m     89\u001b[0m         \u001b[0mbin_data\u001b[0m \u001b[0;34m=\u001b[0m \u001b[0mencodebytes\u001b[0m\u001b[0;34m(\u001b[0m\u001b[0mbin_data\u001b[0m\u001b[0;34m)\u001b[0m\u001b[0;34m\u001b[0m\u001b[0;34m\u001b[0m\u001b[0m\n",
      "\u001b[0;32m~/.local/lib/python3.7/site-packages/IPython/lib/latextools.py\u001b[0m in \u001b[0;36mlatex_to_png_dvipng\u001b[0;34m(s, wrap)\u001b[0m\n\u001b[1;32m    130\u001b[0m             subprocess.check_call(\n\u001b[1;32m    131\u001b[0m                 \u001b[0;34m[\u001b[0m\u001b[0;34m\"latex\"\u001b[0m\u001b[0;34m,\u001b[0m \u001b[0;34m\"-halt-on-error\"\u001b[0m\u001b[0;34m,\u001b[0m \u001b[0;34m\"-interaction\"\u001b[0m\u001b[0;34m,\u001b[0m \u001b[0;34m\"batchmode\"\u001b[0m\u001b[0;34m,\u001b[0m \u001b[0mtmpfile\u001b[0m\u001b[0;34m]\u001b[0m\u001b[0;34m,\u001b[0m\u001b[0;34m\u001b[0m\u001b[0;34m\u001b[0m\u001b[0m\n\u001b[0;32m--> 132\u001b[0;31m                 cwd=workdir, stdout=devnull, stderr=devnull)\n\u001b[0m\u001b[1;32m    133\u001b[0m \u001b[0;34m\u001b[0m\u001b[0m\n\u001b[1;32m    134\u001b[0m             subprocess.check_call(\n",
      "\u001b[0;32m/projects/percept/linux_rhel6/anaconda3/lib/python3.7/subprocess.py\u001b[0m in \u001b[0;36mcheck_call\u001b[0;34m(*popenargs, **kwargs)\u001b[0m\n\u001b[1;32m    340\u001b[0m     \u001b[0mcheck_call\u001b[0m\u001b[0;34m(\u001b[0m\u001b[0;34m[\u001b[0m\u001b[0;34m\"ls\"\u001b[0m\u001b[0;34m,\u001b[0m \u001b[0;34m\"-l\"\u001b[0m\u001b[0;34m]\u001b[0m\u001b[0;34m)\u001b[0m\u001b[0;34m\u001b[0m\u001b[0;34m\u001b[0m\u001b[0m\n\u001b[1;32m    341\u001b[0m     \"\"\"\n\u001b[0;32m--> 342\u001b[0;31m     \u001b[0mretcode\u001b[0m \u001b[0;34m=\u001b[0m \u001b[0mcall\u001b[0m\u001b[0;34m(\u001b[0m\u001b[0;34m*\u001b[0m\u001b[0mpopenargs\u001b[0m\u001b[0;34m,\u001b[0m \u001b[0;34m**\u001b[0m\u001b[0mkwargs\u001b[0m\u001b[0;34m)\u001b[0m\u001b[0;34m\u001b[0m\u001b[0;34m\u001b[0m\u001b[0m\n\u001b[0m\u001b[1;32m    343\u001b[0m     \u001b[0;32mif\u001b[0m \u001b[0mretcode\u001b[0m\u001b[0;34m:\u001b[0m\u001b[0;34m\u001b[0m\u001b[0;34m\u001b[0m\u001b[0m\n\u001b[1;32m    344\u001b[0m         \u001b[0mcmd\u001b[0m \u001b[0;34m=\u001b[0m \u001b[0mkwargs\u001b[0m\u001b[0;34m.\u001b[0m\u001b[0mget\u001b[0m\u001b[0;34m(\u001b[0m\u001b[0;34m\"args\"\u001b[0m\u001b[0;34m)\u001b[0m\u001b[0;34m\u001b[0m\u001b[0;34m\u001b[0m\u001b[0m\n",
      "\u001b[0;32m/projects/percept/linux_rhel6/anaconda3/lib/python3.7/subprocess.py\u001b[0m in \u001b[0;36mcall\u001b[0;34m(timeout, *popenargs, **kwargs)\u001b[0m\n\u001b[1;32m    323\u001b[0m     \u001b[0;32mwith\u001b[0m \u001b[0mPopen\u001b[0m\u001b[0;34m(\u001b[0m\u001b[0;34m*\u001b[0m\u001b[0mpopenargs\u001b[0m\u001b[0;34m,\u001b[0m \u001b[0;34m**\u001b[0m\u001b[0mkwargs\u001b[0m\u001b[0;34m)\u001b[0m \u001b[0;32mas\u001b[0m \u001b[0mp\u001b[0m\u001b[0;34m:\u001b[0m\u001b[0;34m\u001b[0m\u001b[0;34m\u001b[0m\u001b[0m\n\u001b[1;32m    324\u001b[0m         \u001b[0;32mtry\u001b[0m\u001b[0;34m:\u001b[0m\u001b[0;34m\u001b[0m\u001b[0;34m\u001b[0m\u001b[0m\n\u001b[0;32m--> 325\u001b[0;31m             \u001b[0;32mreturn\u001b[0m \u001b[0mp\u001b[0m\u001b[0;34m.\u001b[0m\u001b[0mwait\u001b[0m\u001b[0;34m(\u001b[0m\u001b[0mtimeout\u001b[0m\u001b[0;34m=\u001b[0m\u001b[0mtimeout\u001b[0m\u001b[0;34m)\u001b[0m\u001b[0;34m\u001b[0m\u001b[0;34m\u001b[0m\u001b[0m\n\u001b[0m\u001b[1;32m    326\u001b[0m         \u001b[0;32mexcept\u001b[0m\u001b[0;34m:\u001b[0m  \u001b[0;31m# Including KeyboardInterrupt, wait handled that.\u001b[0m\u001b[0;34m\u001b[0m\u001b[0;34m\u001b[0m\u001b[0m\n\u001b[1;32m    327\u001b[0m             \u001b[0mp\u001b[0m\u001b[0;34m.\u001b[0m\u001b[0mkill\u001b[0m\u001b[0;34m(\u001b[0m\u001b[0;34m)\u001b[0m\u001b[0;34m\u001b[0m\u001b[0;34m\u001b[0m\u001b[0m\n",
      "\u001b[0;32m/projects/percept/linux_rhel6/anaconda3/lib/python3.7/subprocess.py\u001b[0m in \u001b[0;36mwait\u001b[0;34m(self, timeout)\u001b[0m\n\u001b[1;32m    988\u001b[0m             \u001b[0mendtime\u001b[0m \u001b[0;34m=\u001b[0m \u001b[0m_time\u001b[0m\u001b[0;34m(\u001b[0m\u001b[0;34m)\u001b[0m \u001b[0;34m+\u001b[0m \u001b[0mtimeout\u001b[0m\u001b[0;34m\u001b[0m\u001b[0;34m\u001b[0m\u001b[0m\n\u001b[1;32m    989\u001b[0m         \u001b[0;32mtry\u001b[0m\u001b[0;34m:\u001b[0m\u001b[0;34m\u001b[0m\u001b[0;34m\u001b[0m\u001b[0m\n\u001b[0;32m--> 990\u001b[0;31m             \u001b[0;32mreturn\u001b[0m \u001b[0mself\u001b[0m\u001b[0;34m.\u001b[0m\u001b[0m_wait\u001b[0m\u001b[0;34m(\u001b[0m\u001b[0mtimeout\u001b[0m\u001b[0;34m=\u001b[0m\u001b[0mtimeout\u001b[0m\u001b[0;34m)\u001b[0m\u001b[0;34m\u001b[0m\u001b[0;34m\u001b[0m\u001b[0m\n\u001b[0m\u001b[1;32m    991\u001b[0m         \u001b[0;32mexcept\u001b[0m \u001b[0mKeyboardInterrupt\u001b[0m\u001b[0;34m:\u001b[0m\u001b[0;34m\u001b[0m\u001b[0;34m\u001b[0m\u001b[0m\n\u001b[1;32m    992\u001b[0m             \u001b[0;31m# https://bugs.python.org/issue25942\u001b[0m\u001b[0;34m\u001b[0m\u001b[0;34m\u001b[0m\u001b[0;34m\u001b[0m\u001b[0m\n",
      "\u001b[0;32m/projects/percept/linux_rhel6/anaconda3/lib/python3.7/subprocess.py\u001b[0m in \u001b[0;36m_wait\u001b[0;34m(self, timeout)\u001b[0m\n\u001b[1;32m   1622\u001b[0m                         \u001b[0;32mif\u001b[0m \u001b[0mself\u001b[0m\u001b[0;34m.\u001b[0m\u001b[0mreturncode\u001b[0m \u001b[0;32mis\u001b[0m \u001b[0;32mnot\u001b[0m \u001b[0;32mNone\u001b[0m\u001b[0;34m:\u001b[0m\u001b[0;34m\u001b[0m\u001b[0;34m\u001b[0m\u001b[0m\n\u001b[1;32m   1623\u001b[0m                             \u001b[0;32mbreak\u001b[0m  \u001b[0;31m# Another thread waited.\u001b[0m\u001b[0;34m\u001b[0m\u001b[0;34m\u001b[0m\u001b[0m\n\u001b[0;32m-> 1624\u001b[0;31m                         \u001b[0;34m(\u001b[0m\u001b[0mpid\u001b[0m\u001b[0;34m,\u001b[0m \u001b[0msts\u001b[0m\u001b[0;34m)\u001b[0m \u001b[0;34m=\u001b[0m \u001b[0mself\u001b[0m\u001b[0;34m.\u001b[0m\u001b[0m_try_wait\u001b[0m\u001b[0;34m(\u001b[0m\u001b[0;36m0\u001b[0m\u001b[0;34m)\u001b[0m\u001b[0;34m\u001b[0m\u001b[0;34m\u001b[0m\u001b[0m\n\u001b[0m\u001b[1;32m   1625\u001b[0m                         \u001b[0;31m# Check the pid and loop as waitpid has been known to\u001b[0m\u001b[0;34m\u001b[0m\u001b[0;34m\u001b[0m\u001b[0;34m\u001b[0m\u001b[0m\n\u001b[1;32m   1626\u001b[0m                         \u001b[0;31m# return 0 even without WNOHANG in odd situations.\u001b[0m\u001b[0;34m\u001b[0m\u001b[0;34m\u001b[0m\u001b[0;34m\u001b[0m\u001b[0m\n",
      "\u001b[0;32m/projects/percept/linux_rhel6/anaconda3/lib/python3.7/subprocess.py\u001b[0m in \u001b[0;36m_try_wait\u001b[0;34m(self, wait_flags)\u001b[0m\n\u001b[1;32m   1580\u001b[0m             \u001b[0;34m\"\"\"All callers to this function MUST hold self._waitpid_lock.\"\"\"\u001b[0m\u001b[0;34m\u001b[0m\u001b[0;34m\u001b[0m\u001b[0m\n\u001b[1;32m   1581\u001b[0m             \u001b[0;32mtry\u001b[0m\u001b[0;34m:\u001b[0m\u001b[0;34m\u001b[0m\u001b[0;34m\u001b[0m\u001b[0m\n\u001b[0;32m-> 1582\u001b[0;31m                 \u001b[0;34m(\u001b[0m\u001b[0mpid\u001b[0m\u001b[0;34m,\u001b[0m \u001b[0msts\u001b[0m\u001b[0;34m)\u001b[0m \u001b[0;34m=\u001b[0m \u001b[0mos\u001b[0m\u001b[0;34m.\u001b[0m\u001b[0mwaitpid\u001b[0m\u001b[0;34m(\u001b[0m\u001b[0mself\u001b[0m\u001b[0;34m.\u001b[0m\u001b[0mpid\u001b[0m\u001b[0;34m,\u001b[0m \u001b[0mwait_flags\u001b[0m\u001b[0;34m)\u001b[0m\u001b[0;34m\u001b[0m\u001b[0;34m\u001b[0m\u001b[0m\n\u001b[0m\u001b[1;32m   1583\u001b[0m             \u001b[0;32mexcept\u001b[0m \u001b[0mChildProcessError\u001b[0m\u001b[0;34m:\u001b[0m\u001b[0;34m\u001b[0m\u001b[0;34m\u001b[0m\u001b[0m\n\u001b[1;32m   1584\u001b[0m                 \u001b[0;31m# This happens if SIGCLD is set to be ignored or waiting\u001b[0m\u001b[0;34m\u001b[0m\u001b[0;34m\u001b[0m\u001b[0;34m\u001b[0m\u001b[0m\n",
      "\u001b[0;31mKeyboardInterrupt\u001b[0m: "
     ]
    }
   ],
   "source": [
    "%qed"
   ]
  },
  {
   "cell_type": "code",
   "execution_count": null,
   "metadata": {},
   "outputs": [],
   "source": []
  }
 ],
 "metadata": {
  "kernelspec": {
   "display_name": "Python 3",
   "language": "python",
   "name": "python3"
  },
  "language_info": {
   "codemirror_mode": {
    "name": "ipython",
    "version": 3
   },
   "file_extension": ".py",
   "mimetype": "text/x-python",
   "name": "python",
   "nbconvert_exporter": "python",
   "pygments_lexer": "ipython3",
   "version": "3.7.3"
  }
 },
 "nbformat": 4,
 "nbformat_minor": 1
}
