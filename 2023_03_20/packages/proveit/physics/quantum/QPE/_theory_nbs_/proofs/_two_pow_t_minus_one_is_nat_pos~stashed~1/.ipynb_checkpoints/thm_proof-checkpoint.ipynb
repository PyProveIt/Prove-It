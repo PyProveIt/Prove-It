{
 "cells": [
  {
   "cell_type": "markdown",
   "metadata": {},
   "source": [
    "Proof of <a class=\"ProveItLink\" href=\"../../../../../../_theory_nbs_/theory.ipynb\">proveit</a>.<a class=\"ProveItLink\" href=\"../../../../../_theory_nbs_/theory.ipynb\">physics</a>.<a class=\"ProveItLink\" href=\"../../../../_theory_nbs_/theory.ipynb\">quantum</a>.<a class=\"ProveItLink\" href=\"../../theory.ipynb\">QPE</a>.<a class=\"ProveItLink\" href=\"../../theorems.ipynb#_two_pow_t_minus_one_is_nat_pos\">_two_pow_t_minus_one_is_nat_pos</a> theorem\n",
    "========"
   ]
  },
  {
   "cell_type": "code",
   "execution_count": 1,
   "metadata": {},
   "outputs": [],
   "source": [
    "import proveit\n",
    "from proveit.numbers import one, subtract\n",
    "from proveit.physics.quantum.QPE import _t\n",
    "from proveit.physics.quantum.QPE import _t_in_natural_pos\n",
    "theory = proveit.Theory() # the theorem's theory"
   ]
  },
  {
   "cell_type": "code",
   "execution_count": 2,
   "metadata": {},
   "outputs": [
    {
     "data": {
      "text/html": [
       "Under these <a href=\"presumptions.txt\">presumptions</a>, we begin our proof of<br><strong id=\"_two_pow_t_minus_one_is_nat_pos\">_two_pow_t_minus_one_is_nat_pos:</strong> <a class=\"ProveItLink\" href=\"../../../__pv_it/theorems/fdc5aaccce23f853b415834a94fd23eb3d98ce2b0/expr.ipynb\"><img src=\"data:image/png;base64,iVBORw0KGgoAAAANSUhEUgAAAFoAAAAUBAMAAAD/1DctAAAAMFBMVEX///+qqqqYmJiIiIgiIiLu\n",
       "7u4QEBBUVFS6urp2dnbMzMxEREQyMjJmZmbc3NwAAADzFso2AAAAAXRSTlMAQObYZgAAAAlwSFlz\n",
       "AAAOxAAADsQBlSsOGwAAAT9JREFUKM9jYACDcwxQEHSAgSBg/QBlcBk74FR0AcZghJvIiFv1BijN\n",
       "N+XkAuJVM/AI4DKb1X/3UQbO/Ayoar67pxcw8AfgdAm3QDsDQzzM7NcMnD8Y2hgYVu8GggeYqtn9\n",
       "OBUY2Bh4d+/O3r2JoY6BIY3BnBWnu9mlgcHLAjM7P4Ch/sFlzgB01cxbXHzAqh8ZvEGoLmFgqF+w\n",
       "VgsWOnN+GoAZHIeh+tkfVDFPYEEKE38swfUGZhn7A26GHUiquT5jUQ1PCuwPuC6EhCDikqUAi+oD\n",
       "CNUMiozbEBK3sSjmSnFxcfGGqmYPKINLMGEzmnUDktmsBSFwCUkGvgeYyh2QVDMs5obbOYGBOQBT\n",
       "tTE85oHxxrwaxnty9+4VLE6BpzMw4w5M2P///z/YHF7dCrH6fDaQjCGUnThmQ2IeBQAAYmtTOe5+\n",
       "TdwAAAAASUVORK5CYII=\n",
       "\" style=\"display:inline;vertical-align:middle;\" /></a><br>(see <a class=\"ProveItLink\" href=\"../../../__pv_it/theorems/2ce5873ca249ee269a4dc170b72835640434f1e50/dependencies.ipynb\">dependencies</a>)<br>"
      ],
      "text/plain": [
       "_two_pow_t_minus_one_is_nat_pos: 2^{t - 1} in NaturalPos"
      ]
     },
     "execution_count": 2,
     "metadata": {},
     "output_type": "execute_result"
    }
   ],
   "source": [
    "%proving _two_pow_t_minus_one_is_nat_pos"
   ]
  },
  {
   "cell_type": "code",
   "execution_count": 5,
   "metadata": {},
   "outputs": [
    {
     "data": {
      "text/html": [
       "<table><tr><th>&nbsp;</th><th>step type</th><th>requirements</th><th>statement</th></tr>\n",
       "<tr><td><a name=\"-0x275a18f22dbb0ea_step0\">0</a></td><td>instantiation</td><td><a href=\"#-0x275a18f22dbb0ea_step1\">1</a>, <a href=\"#-0x275a18f22dbb0ea_step2\">2</a>, <a href=\"#-0x275a18f22dbb0ea_step3\">3</a></td><td><span style=\"font-size:20px;\"> <a class=\"ProveItLink\" href=\"../../../__pv_it/_proof__two_pow_t_minus_one_is_nat_pos/46194b2595892e38f5521784d832b5ef760fd8fd0/proof.ipynb\" style=\"text-decoration: none\">&nbsp;&#x22A2;&nbsp;&nbsp;</a><a class=\"ProveItLink\" href=\"../../../__pv_it/theorems/fdc5aaccce23f853b415834a94fd23eb3d98ce2b0/expr.ipynb\"><img src=\"data:image/png;base64,iVBORw0KGgoAAAANSUhEUgAAAFoAAAAUBAMAAAD/1DctAAAAMFBMVEX///+qqqqYmJiIiIgiIiLu\n",
       "7u4QEBBUVFS6urp2dnbMzMxEREQyMjJmZmbc3NwAAADzFso2AAAAAXRSTlMAQObYZgAAAAlwSFlz\n",
       "AAAOxAAADsQBlSsOGwAAAT9JREFUKM9jYACDcwxQEHSAgSBg/QBlcBk74FR0AcZghJvIiFv1BijN\n",
       "N+XkAuJVM/AI4DKb1X/3UQbO/Ayoar67pxcw8AfgdAm3QDsDQzzM7NcMnD8Y2hgYVu8GggeYqtn9\n",
       "OBUY2Bh4d+/O3r2JoY6BIY3BnBWnu9mlgcHLAjM7P4Ch/sFlzgB01cxbXHzAqh8ZvEGoLmFgqF+w\n",
       "VgsWOnN+GoAZHIeh+tkfVDFPYEEKE38swfUGZhn7A26GHUiquT5jUQ1PCuwPuC6EhCDikqUAi+oD\n",
       "CNUMiozbEBK3sSjmSnFxcfGGqmYPKINLMGEzmnUDktmsBSFwCUkGvgeYyh2QVDMs5obbOYGBOQBT\n",
       "tTE85oHxxrwaxnty9+4VLE6BpzMw4w5M2P///z/YHF7dCrH6fDaQjCGUnThmQ2IeBQAAYmtTOe5+\n",
       "TdwAAAAASUVORK5CYII=\n",
       "\" style=\"display:inline;vertical-align:middle;\" /></a></span></td></tr>\n",
       "<tr><td>&nbsp;</td><td colspan=4 style=\"text-align:left\"><span style=\"font-size:20px;\"><a class=\"ProveItLink\" href=\"../../../../../../__pv_it/common/c06c606ec12678c58933ac85412ecadc2ae28be60/expr.ipynb\"><img src=\"data:image/png;base64,iVBORw0KGgoAAAANSUhEUgAAAAsAAAAJBAMAAAAWSsseAAAAMFBMVEX////MzMwyMjKqqqoiIiJm\n",
       "ZmaYmJju7u5EREQQEBC6urqIiIh2dnZUVFTc3NwAAAAqL9KcAAAAAXRSTlMAQObYZgAAAAlwSFlz\n",
       "AAAOxAAADsQBlSsOGwAAAEdJREFUCNdjYOC7s28DAwPDygcc3xkY2KcxsDowMLB+YGA5wMDA2cBQ\n",
       "v4CBoX4DQz5QRb0BwyXmBwwcG5hdWYEqbx98u5EBABisEWzRR9jxAAAAAElFTkSuQmCC\n",
       "\" style=\"display:inline;vertical-align:middle;\" /></a> : <a class=\"ProveItLink\" href=\"../../../../../../numbers/numerals/__pv_it/common/af4aab8a07465db063742696e006d04670f30cf10/expr.ipynb\"><img src=\"data:image/png;base64,iVBORw0KGgoAAAANSUhEUgAAAAkAAAAOBAMAAAAPuiubAAAAMFBMVEX///+qqqqYmJiIiIgiIiLu\n",
       "7u4QEBBUVFS6urp2dnbMzMxEREQyMjJmZmbc3NwAAADzFso2AAAAAXRSTlMAQObYZgAAAAlwSFlz\n",
       "AAAOxAAADsQBlSsOGwAAAE9JREFUCNdj4Lt7egEDw2sGzh8MDHUMDGkMDPkBDPUPGEoYGOqBEgwM\n",
       "/iCC6zOIZCkAkbdBBBOYKcnA94CBawIDcwDDk7t3rwAV////hwEAK9UUlDYDfx8AAAAASUVORK5C\n",
       "YII=\n",
       "\" style=\"display:inline;vertical-align:middle;\" /></a>, <a class=\"ProveItLink\" href=\"../../../../../../__pv_it/common/195236b98c6c564a75b5dbada74b173bc52d5c3e0/expr.ipynb\"><img src=\"data:image/png;base64,iVBORw0KGgoAAAANSUhEUgAAAAkAAAAOBAMAAAAPuiubAAAAMFBMVEX///+YmJjMzMzc3NyIiIhU\n",
       "VFR2dna6urqqqqpmZmYyMjIiIiIQEBBERETu7u4AAAD7tRWPAAAAAXRSTlMAQObYZgAAAAlwSFlz\n",
       "AAAOxAAADsQBlSsOGwAAAFBJREFUCNdj4LuzgQEIuCaASP4GEFn/AERmgwiGpS4RDAx8vx68N2Dg\n",
       "+MfA48DAuYCBP4GBO4GhvgGkfP4DBn4FvoMMDKwCvEAj+MImMjAAAMxHEV3T4g9SAAAAAElFTkSu\n",
       "QmCC\n",
       "\" style=\"display:inline;vertical-align:middle;\" /></a> : <a class=\"ProveItLink\" href=\"../../../__pv_it/common/0ca28d9ff996a3862a4b8b87f5586f9edc717e8d0/expr.ipynb\"><img src=\"data:image/png;base64,iVBORw0KGgoAAAANSUhEUgAAACoAAAAOBAMAAACr0JNIAAAAMFBMVEX///8QEBCYmJjMzMwyMjKI\n",
       "iIhERERUVFS6urp2dnZmZmaqqqrc3NwiIiLu7u4AAAAqt126AAAAAXRSTlMAQObYZgAAAAlwSFlz\n",
       "AAAOxAAADsQBlSsOGwAAAGNJREFUGNNjYMAAzPeABN8dVMHnS/4BSe5/aGpZQQJcF7CJ8k7AItqe\n",
       "nx6ARe1+BmwmLMEqehPE4vO9CwIGMFG+H9jUcn9geIApyuXAbYApyl7wFM0Ezj8MDDxJCqiC7IVf\n",
       "igAz0yHr9+hrugAAAABJRU5ErkJggg==\n",
       "\" style=\"display:inline;vertical-align:middle;\" /></a></span></td></tr><tr><td><a name=\"-0x275a18f22dbb0ea_step1\">1</a></td><td>conjecture</td><td></td><td><span style=\"font-size:20px;\"> <a class=\"ProveItLink\" href=\"../../../../../../numbers/exponentiation/_theory_nbs_/proofs/exp_natpos_closure/thm_proof.ipynb\" style=\"text-decoration: none\">&nbsp;&#x22A2;&nbsp;&nbsp;</a><a class=\"ProveItLink\" href=\"../../../../../../numbers/exponentiation/__pv_it/theorems/c6b2906656deb094c57a1a1d1d504dc08d415e850/expr.ipynb\"><img src=\"data:image/png;base64,iVBORw0KGgoAAAANSUhEUgAAAJsAAAAaBAMAAABSozPCAAAAMFBMVEX///+IiIgiIiIQEBB2dnbu\n",
       "7u5ERETMzMzc3NwyMjK6urpmZmaYmJiqqqpUVFQAAAB6qHgnAAAAAXRSTlMAQObYZgAAAAlwSFlz\n",
       "AAAOxAAADsQBlSsOGwAAAqNJREFUSMetlU2I00AUx1/aTb+S1KgL3pZSXFG8FBH1JBVZ8bBC0CJ4\n",
       "WatiRFAM6kERbdSTF60HZQ+r5CJ4WLGKrqCiLaKgp+pBRDxU0aUeFnZZFBEE30tmJkmlaQ4OTOYl\n",
       "M/nNm/fmPwMQv6Svw38pb1j7te8IhdU4RWswY2PfISmsmWo83B6+2IURIwIHrXi4I6yVRqVGqGPn\n",
       "z8MGbF10GC6Bk3XI+BRFy5S4C021Hu46muuAPM+9k5D1mIzJKJxSZkbSUjrhri/2OEAJZswDptkE\n",
       "+QfAuYFBXOJwA5LtcNdcNWtDgXsHUwBZXPBQOwpX4/FPGK9YEPcX17hGt5WpB3AzAGoTkZGZWCa2\n",
       "8T3dbXNX+QTdvDUcwC3Huq5YXB+J+06Py1vOiw+XxHbpQjXl+Li72PEI4GAkziSHNsExAfET14Uz\n",
       "8mhBKKJm4byQ6fyjygsPHHUzs29i3dWE+wJSD+DU9vuSeL1CO9AYcsQHUmV6xHS0zhg8ZN/WYn0O\n",
       "sFLMieEprmI4+Jb3cXsRpOmBTJAqn6DLWkuBcsC7DSD/5mPkasA7mJALvncW+U5aq7S2M1VKTVL9\n",
       "2dt6ACcvgDov/ioEcWndp9dsfOy4huNXp38xVe52DxFr7CPHzWL3H8jXP/C/lor/D2Fd4eMos3AR\n",
       "M6E00iWmymkPp0h8GO2mffCuIeSfFbv+BiXVz8wLeuRxxUmH9Ouq8rVpmm3Nksv1wJwTw6c+WyJ4\n",
       "s7c84/QiTin7uGciJ3bqpeGp8qTnHdzRufKd3p2Y28ZE1lOmuJG0a9NGxVVligKgOu5xEz5RBhU6\n",
       "Udh8T9+Ow4k2qTJD8T0+yU5CSncpJk7tOb68EFdMM7y8uZi4hB0OiRF9VwwqPXeF2u8mixe8uDeZ\n",
       "uGeji4KL+wsFpJ/L/EHTVwAAAABJRU5ErkJggg==\n",
       "\" style=\"display:inline;vertical-align:middle;\" /></a></span></td></tr>\n",
       "<tr><td>&nbsp;</td><td colspan=4 style-\"text-align:left\"><a class=\"ProveItLink\" href=\"../../../../../../numbers/exponentiation/_theory_nbs_/proofs/exp_natpos_closure/thm_proof.ipynb\">proveit.numbers.exponentiation.exp_natpos_closure</a></td></tr><tr><td><a name=\"-0x275a18f22dbb0ea_step2\">2</a></td><td>theorem</td><td></td><td><span style=\"font-size:20px;\"> <a class=\"ProveItLink\" href=\"../../../../../../numbers/numerals/decimals/_theory_nbs_/proofs/nat2/thm_proof.ipynb\" style=\"text-decoration: none\">&nbsp;&#x22A2;&nbsp;&nbsp;</a><a class=\"ProveItLink\" href=\"../../../../../../numbers/numerals/decimals/__pv_it/theorems/c5da86d5508e181a625c8aa785bd1ba0345b9e710/expr.ipynb\"><img src=\"data:image/png;base64,iVBORw0KGgoAAAANSUhEUgAAADIAAAAQBAMAAACmdTG/AAAAMFBMVEX///+qqqqYmJiIiIgiIiLu\n",
       "7u4QEBBUVFS6urp2dnbMzMxEREQyMjJmZmbc3NwAAADzFso2AAAAAXRSTlMAQObYZgAAAAlwSFlz\n",
       "AAAOxAAADsQBlSsOGwAAAOlJREFUGNNjYEAHrP67jzJw5mcw8N09vQBVilugnYEhnoHhNQPnD1QZ\n",
       "dj9OBQY2BoY6BoY0NBlphnMMLAwM+QEM9Q/AItYuLgfAMo8M3oBkShgY6sEW9ZjC9DyoYp7AAmb6\n",
       "gwi+o3DTHnAz7ADLcH0GkTwPEDJcF0JCQCyWArAMwgUPGBQZt4FYt8H8ZS5AsAEqwx5QBmQwgbUw\n",
       "RCPrYS0AmSbJwAeyggVZhmExN9D+CQzMAUA+swE8dICeYF7NwPDk7t0rYIGDMBkeASBxB+iZ////\n",
       "gAXCdwSAaa7z2UAyBjm8OrdAQgcKAG3YN+ojYy50AAAAAElFTkSuQmCC\n",
       "\" style=\"display:inline;vertical-align:middle;\" /></a></span></td></tr>\n",
       "<tr><td>&nbsp;</td><td colspan=4 style-\"text-align:left\"><a class=\"ProveItLink\" href=\"../../../../../../numbers/numerals/decimals/_theory_nbs_/proofs/nat2/thm_proof.ipynb\">proveit.numbers.numerals.decimals.nat2</a></td></tr><tr><td><a name=\"-0x275a18f22dbb0ea_step3\">3</a></td><td>instantiation</td><td><a href=\"#-0x275a18f22dbb0ea_step4\">4</a>, <a href=\"#-0x275a18f22dbb0ea_step5\">5</a></td><td><span style=\"font-size:20px;\"> <a class=\"ProveItLink\" href=\"../../../__pv_it/_proof__two_pow_t_minus_one_is_nat_pos/ea582c1c06b9e3fb910224e7f24a5d72e022898b0/proof.ipynb\" style=\"text-decoration: none\">&nbsp;&#x22A2;&nbsp;&nbsp;</a><a class=\"ProveItLink\" href=\"../../../__pv_it/_proof__two_pow_t_minus_one_is_nat_pos/a42453e57a6823e7425222514835e762243377ed0/expr.ipynb\"><img src=\"data:image/png;base64,iVBORw0KGgoAAAANSUhEUgAAAGIAAAAVBAMAAABPrCZEAAAAMFBMVEX////MzMxUVFRERES6uroi\n",
       "IiIQEBCYmJhmZmYyMjLu7u52dnaqqqqIiIjc3NwAAACW8nlqAAAAAXRSTlMAQObYZgAAAAlwSFlz\n",
       "AAAOxAAADsQBlSsOGwAAAXlJREFUOMtjYGB4wIAV4BAGAt4D2MV90fhc8cazGLjzUxgYTmNRzRgF\n",
       "NKkATZD5gBMDw3qg1glAHIcqt6jzF5CchaaDKY67gIGNgYEDaBTPL3SXggQq0HUcZpjHwMoA0sTA\n",
       "EYBNB9sCCOdyaOgEsI7nF16CdJwEslk3YNPBCfGI5y2YHQ8UeTcAdXQzMDjZG13AooNbAcTkg3uH\n",
       "6QEzgwlQx3Qg+zwDNjvYwW7hfIDQwdiwdCkDQwyQ3YlVB08CWAfC5w8YanjMGBiAMcIQDY6hqaEg\n",
       "IADXwfgBxBQDCRpAdTAtUAPr4PqC1Q4WsB2Lke3gUoC4iucDwwJsrgKHOSuyDgZZZgYGW2B0TOAR\n",
       "wOZzsFt44cHIDFTEK8zAsAmoWWEtmqu4/4HiFRJLc2CCnAcggSQKDHJztETHpPZTHegeB0giM4E4\n",
       "mXF+MpBcCRQXwJUNnkJpb1NIKoEB9gZcOtpxSdjhEOczwKVjMQ5xZpzZlu8CdvF7ONQDAAP6VHyx\n",
       "zU0kAAAAAElFTkSuQmCC\n",
       "\" style=\"display:inline;vertical-align:middle;\" /></a></span></td></tr>\n",
       "<tr><td>&nbsp;</td><td colspan=4 style=\"text-align:left\"><span style=\"font-size:20px;\"><a class=\"ProveItLink\" href=\"../../../../../../__pv_it/common/c06c606ec12678c58933ac85412ecadc2ae28be60/expr.ipynb\"><img src=\"data:image/png;base64,iVBORw0KGgoAAAANSUhEUgAAAAsAAAAJBAMAAAAWSsseAAAAMFBMVEX////MzMwyMjKqqqoiIiJm\n",
       "ZmaYmJju7u5EREQQEBC6urqIiIh2dnZUVFTc3NwAAAAqL9KcAAAAAXRSTlMAQObYZgAAAAlwSFlz\n",
       "AAAOxAAADsQBlSsOGwAAAEdJREFUCNdjYOC7s28DAwPDygcc3xkY2KcxsDowMLB+YGA5wMDA2cBQ\n",
       "v4CBoX4DQz5QRb0BwyXmBwwcG5hdWYEqbx98u5EBABisEWzRR9jxAAAAAElFTkSuQmCC\n",
       "\" style=\"display:inline;vertical-align:middle;\" /></a> : <a class=\"ProveItLink\" href=\"../../../__pv_it/common/977cc67717328e22c93f8ab84e6a45e8cadce7790/expr.ipynb\"><img src=\"data:image/png;base64,iVBORw0KGgoAAAANSUhEUgAAAAcAAAANBAMAAACX52mGAAAALVBMVEX///+YmJjMzMwyMjKIiIhE\n",
       "RERUVFS6urp2dnZmZmaqqqrc3NwiIiLu7u4AAACZlRv6AAAAAXRSTlMAQObYZgAAAAlwSFlzAAAO\n",
       "xAAADsQBlSsOGwAAAEBJREFUCNdjYOA9zcDAwPUWSHAeABI8DQwMZXFhDgwM64A8hskg4gQQ8z4H\n",
       "KXvAcIGB04BLgYEt4QoDA3egAAMAb+YLT6V5LAwAAAAASUVORK5CYII=\n",
       "\" style=\"display:inline;vertical-align:middle;\" /></a></span></td></tr><tr><td><a name=\"-0x275a18f22dbb0ea_step4\">4</a></td><td>conjecture</td><td></td><td><span style=\"font-size:20px;\"> <a class=\"ProveItLink\" href=\"../../../../../../numbers/addition/subtraction/_theory_nbs_/proofs/sub_one_is_nat/thm_proof.ipynb\" style=\"text-decoration: none\">&nbsp;&#x22A2;&nbsp;&nbsp;</a><a class=\"ProveItLink\" href=\"../../../../../../numbers/addition/subtraction/__pv_it/theorems/f9723099a5cd5fe5f6c2f5b68731116a04087ac40/expr.ipynb\"><img src=\"data:image/png;base64,iVBORw0KGgoAAAANSUhEUgAAALcAAAAVBAMAAAD2lGJJAAAAMFBMVEX///+IiIgiIiIQEBB2dnbu\n",
       "7u5ERETMzMzc3NwyMjK6urpmZmaYmJiqqqpUVFQAAAB6qHgnAAAAAXRSTlMAQObYZgAAAAlwSFlz\n",
       "AAAOxAAADsQBlSsOGwAAAqBJREFUOMuNlU1oE1EQx2eT/Uiyu2EFoT2IhoDfCEH0IqIBqXqodZFS\n",
       "8GJWwVUPQgheRLSLguClxIPQQ9WVInioUKQiND00B4XiwfUDQfEQRSUiSqAoHp2372WT3bxdOvCH\n",
       "yWz29+bNzHsLsAZzmHiWSXppDSZ4VFzLGZHAib8XTDi06j5Av0UCnxLh75gGrWYCbIgGL+ZaIHVA\n",
       "WAZYJL+nk9hSnWrwwc/7CM+akfAXZxSgBHAH4Bqpm5UEV5epOLYJwdp8JPjLyjpQAHhJFxa9JHia\n",
       "KQYOe1lnzhS3+067makTeNoEDXPKJpb8A1McfIY29na3PO18dT2BZ5G8u1jckwhfYMp8HTZ48DHf\n",
       "vRWUvg2W7CJcxFl5BnB2kCj23BmmWUf+w4OvQHgm2nBF2oxwDYdgCjItThd77i4qaT+oBR78re/W\n",
       "++Ca9x6nRUfJpuj2/f/6gqsdCMH3UakdSJXRPVkktrUHnySegtUtbmFw+JZHsNLBBYygn8pG29Vb\n",
       "I/CUB09bUHF5mc/6M2/1ZQ6nJNxjrkQ21OyGG1Vcq6lCWWw8aSxGylIx4BV3Wt74bqEfrhi4lk5C\n",
       "x/AowXjzqH9gQb/6yCiHMj9NVfHgh+5w4C98d10QPIcaQrhGNnMD+yltU/7BBHmkV0c+huFjVLKh\n",
       "71QjmR932JjiVAcH8S6ZB+yvSjqUx2Ko80oJ5ihcFawQvEYlfT4yNRRm/z54Dze7g1403x/S4OVV\n",
       "i95FqW6H0q7QghXbtj29KpXroTlPVaniLnRW7dxhdvyDues6FUd+bl6imcPj8EEkN9PA7RS+17i2\n",
       "FFxOzuScKZP2aC4IkUN1nolvN+N2FAxnbun1KGRIn2vT7APSswkmvsUtK0cma9y2XV4OBhX/Gxj3\n",
       "rRwG+A8yWZugIBFnFwAAAABJRU5ErkJggg==\n",
       "\" style=\"display:inline;vertical-align:middle;\" /></a></span></td></tr>\n",
       "<tr><td>&nbsp;</td><td colspan=4 style-\"text-align:left\"><a class=\"ProveItLink\" href=\"../../../../../../numbers/addition/subtraction/_theory_nbs_/proofs/sub_one_is_nat/thm_proof.ipynb\">proveit.numbers.addition.subtraction.sub_one_is_nat</a></td></tr><tr><td><a name=\"-0x275a18f22dbb0ea_step5\">5</a></td><td>axiom</td><td></td><td><span style=\"font-size:20px;\"> <a class=\"ProveItLink\" href=\"../../axioms.ipynb#_t_in_natural_pos\" style=\"text-decoration: none\">&nbsp;&#x22A2;&nbsp;&nbsp;</a><a class=\"ProveItLink\" href=\"../../../__pv_it/axioms/43c5ca85739dab0e5d869af8d9f6b96cb94286c70/expr.ipynb\"><img src=\"data:image/png;base64,iVBORw0KGgoAAAANSUhEUgAAADwAAAATBAMAAAA+KHOiAAAAMFBMVEX///8QEBCYmJjMzMwyMjKI\n",
       "iIhERERUVFS6urp2dnZmZmaqqqrc3NwiIiLu7u4AAAAqt126AAAAAXRSTlMAQObYZgAAAAlwSFlz\n",
       "AAAOxAAADsQBlSsOGwAAAOZJREFUKM9jYMANFjDgBQmkS/PdT/Nj4JSXwKWbbUM7A8N7uG6+O6jS\n",
       "7Hc4FRgYGbjS0sTSkhgYuP+hSW9j8GHghevmugARDrt71wEsfSjgCJI07wSwbEscTPeBYtYJcOn2\n",
       "/PQAIMXjBzf8ABtDBkL3frAgywGENPOCt2/hobYEIo1w2gEGbe5EOPcmmDS8CwQJUGn2B4XwUPoB\n",
       "pp4h6+YreAvjcX9geAByP7I0gykbjMflwG0ApFgD4IEK5LKawRUXPAXT3jABlg1w94I8nKQApp9n\n",
       "PADTzP5iQPIJRkx15kICFQUAALDXOQj7yj+HAAAAAElFTkSuQmCC\n",
       "\" style=\"display:inline;vertical-align:middle;\" /></a></span></td></tr>\n",
       "<tr><td>&nbsp;</td><td colspan=4 style-\"text-align:left\"><a class=\"ProveItLink\" href=\"../../axioms.ipynb#_t_in_natural_pos\">proveit.physics.quantum.QPE._t_in_natural_pos</a></td></tr></table>"
      ],
      "text/plain": [
       "\tstep type\trequirements\tstatement\n",
       "0\tinstantiation\t1, 2, 3\t|- 2^{t - 1} in NaturalPos\n",
       "\ta : 2, b : t - 1\n",
       "1\tconjecture\t\t|- forall_{a, b in Natural} (a^{b} in NaturalPos)\n",
       "\tproveit.numbers.exponentiation.exp_natpos_closure\n",
       "2\ttheorem\t\t|- 2 in Natural\n",
       "\tproveit.numbers.numerals.decimals.nat2\n",
       "3\tinstantiation\t4, 5\t|- (t - 1) in Natural\n",
       "\ta : t\n",
       "4\tconjecture\t\t|- forall_{a in NaturalPos} ((a - 1) in Natural)\n",
       "\tproveit.numbers.addition.subtraction.sub_one_is_nat\n",
       "5\taxiom\t\t|- t in NaturalPos\n",
       "\tproveit.physics.quantum.QPE._t_in_natural_pos"
      ]
     },
     "execution_count": 5,
     "metadata": {},
     "output_type": "execute_result"
    }
   ],
   "source": [
    "%qed"
   ]
  },
  {
   "cell_type": "code",
   "execution_count": null,
   "metadata": {},
   "outputs": [],
   "source": []
  }
 ],
 "metadata": {
  "kernelspec": {
   "display_name": "Python 3",
   "language": "python",
   "name": "python3"
  },
  "language_info": {
   "codemirror_mode": {
    "name": "ipython",
    "version": 3
   },
   "file_extension": ".py",
   "mimetype": "text/x-python",
   "name": "python",
   "nbconvert_exporter": "python",
   "pygments_lexer": "ipython3",
   "version": "3.7.3"
  }
 },
 "nbformat": 4,
 "nbformat_minor": 1
}
