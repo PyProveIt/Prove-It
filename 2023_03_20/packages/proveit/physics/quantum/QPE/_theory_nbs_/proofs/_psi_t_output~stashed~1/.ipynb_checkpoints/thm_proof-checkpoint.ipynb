{
 "cells": [
  {
   "cell_type": "markdown",
   "metadata": {},
   "source": [
    "Proof of <a class=\"ProveItLink\" href=\"../../../../../../_theory_nbs_/theory.ipynb\">proveit</a>.<a class=\"ProveItLink\" href=\"../../../../../_theory_nbs_/theory.ipynb\">physics</a>.<a class=\"ProveItLink\" href=\"../../../../_theory_nbs_/theory.ipynb\">quantum</a>.<a class=\"ProveItLink\" href=\"../../theory.ipynb\">QPE</a>.<a class=\"ProveItLink\" href=\"../../theorems.ipynb#_psi_t_output\">_psi_t_output</a> theorem\n",
    "========"
   ]
  },
  {
   "cell_type": "code",
   "execution_count": 1,
   "metadata": {},
   "outputs": [],
   "source": [
    "import proveit\n",
    "from proveit import defaults, ExprTuple, ExprRange\n",
    "from proveit import k, m, s, t, U\n",
    "from proveit.numbers import (\n",
    "    Mult, Exp, zero, one, two, subtract, exp2pi_i)\n",
    "from proveit.linear_algebra import MatrixExp\n",
    "from proveit.physics.quantum import var_ket_u, varphi\n",
    "from proveit.physics.quantum.circuits import (\n",
    "    QcircuitEquiv, phase_kickbacks_on_register)\n",
    "from proveit.physics.quantum.QPE import (\n",
    "    _s, _t, _ket_u, _U, _phase,\n",
    "    _s_in_nat_pos, _u_ket_register, _unitary_U, _phase_in_interval, _eigen_uu,\n",
    "    QPE1_def, _psi_t_def)\n",
    "theory = proveit.Theory() # the theorem's theory"
   ]
  },
  {
   "cell_type": "code",
   "execution_count": 2,
   "metadata": {},
   "outputs": [
    {
     "data": {
      "text/html": [
       "Under these <a href=\"presumptions.txt\">presumptions</a>, we begin our proof of<br><strong id=\"_psi_t_output\">_psi_t_output:</strong> <a class=\"ProveItLink\" href=\"../../../__pv_it/theorems/b431fb15b12072ae5961adb54b379f7f82f5b1e70/expr.ipynb\"><img src=\"data:image/png;base64,iVBORw0KGgoAAAANSUhEUgAAAiQAAAESCAMAAAD65j5vAAAAQlBMVEX///+/v79aWlp6enpRUVGf\n",
       "n5+Tk5OIiIgiIiIQEBB2dnbu7u5ERETMzMzc3NwyMjK6urpmZmaYmJiqqqpUVFQAAAAOGgxnAAAA\n",
       "AXRSTlMAQObYZgAAAAlwSFlzAAAOxAAADsQBlSsOGwAAD4FJREFUeNrtnYu2o6gShp3pPgcELyDw\n",
       "/q86XqOJmgiUxuhfa810791gKPgsqgoISUIqpdqnLCRQCi4PrbdBtN2nLCRYhD223kcxqdylLCRC\n",
       "0urYeh9EejxX7tSG64k0cfWVKw6t90FsuU/Z1+ly6Zf5VRmpXBY7LNmx9d5K7tQuZWez5VLVjIAS\n",
       "91VZ8dxctG9QOHNovffRSrlP2U2QGE0AyTctxvKHM0fwOmf82HrvPFEP42AiDMkyJAm/IiTKOQL3\n",
       "Pnfs0HrvjAPfp+w7SNTo/QpzQUi4ExTPztJj65FgF4foBBIzPqfIrgcJjSFpDLc5tN66L+yhj43S\n",
       "fRmSpCwuB4l1JdHDy2PrrUXzHh6WjPPGViAx4nKQcKep3uD80Hqr4bzZpex2SOJd19NB4qg8RxXo\n",
       "2ygan+jh43jMIFncTLsGiVaAZPXp6bH1VmYQvkvZVUg0byRN2z+6fFNux86lzGcdBMmiVGTvcH5o\n",
       "vZUZROxS1seSRDslJ7QkVJCwwD5nlPON9ciOWad2gSQ6vLkwJHlgnJJTxjep26esByTxiZILQ5KE\n",
       "ZlyIMjVHuyRrkMSnXK8MSRlovktHtn/QeGQ+TOya1QokPLkgJH+oHq8DAyVNt36jPfwbHesLLUNC\n",
       "sAx8Qkj+pYssskPrLRols0vZT5BMFviyApC89UDTQ+st+qL5LmU/QTLxdMrkipCQTTcyMAsk6bJH\n",
       "Pj5wtL+8CAmrLgkJ3UZgF/huOqp0WuGBWxGNJltqtU0AyVvhgbM8p9ouYDyiWuN4clK58nRTu4Ls\n",
       "0Hrzd9sjL8eI9yhcGxI6S2IDg0pLlZgXHnGScBkg+QIkodvuCbbrD7TZXcoCEjpIRKAFF1SWP/PY\n",
       "QZVR7bYCJJ6DzQ+tt+Dc6F3KAhI6SFhgVoxRZdN8dv5z2h1xiG42ShWYeqiosmmpx8CngOQrluQE\n",
       "kLBdygISOkhM4GAbOkiqXcoCkgtB4qOMAyRfgUQFDraig+T/u5QFJHSQ/BO4sPoP1QZG5/63S1lA\n",
       "8udKkJhdygISOkuSBw52DkgACSABJIAEkAASQAJIAAkgASTRH/73bw5IAAksCSABJIAEkAASQEIJ\n",
       "if5b7FIWkNBBIv/+PbQeLMlhkNAt8N1sutntKhNMN9eBZL+rTADJtSG55FUmgIQWkkteZQJIKCC5\n",
       "+FUmgIQCkotfZYLohhiSK15lAktCDckFrzIBJNSQXPIqE0BCDMkVrzK5FCRHHs76fJUJIJnLzc7d\n",
       "fL7K5Dr33SC6IYYEV5kAkk+Q4CoTQPIRElxlAkg+QnLJq0wACSkk17zKBJDEQ3L5q0wQ3cRDMspF\n",
       "rzKBJaGEBFeZAJInHnCVCSA51TgBEkACSA6DBIezzg8JDmddFBJ89QQggU8CSAAJIAEkgASQABJA\n",
       "AkiuAgkW+AAJLAkgASSABJAAEkBCDAluzjo7JLgUCdENphtYEkACSAAJIAEkgASQABJAAkgQ3QAS\n",
       "WBJAAkgACSABJIAEkAASQPIQHM46PyQ4nHVRSHA4C5DAJwEk1JCsTtM5IAEkvYi1r0XfdLUcILkf\n",
       "JE9fha0BCSBZgOTp3hYOSO4MyZ8VSOTUkmz6nmNAcjtLYp7ckC3fmH5jSLi+JyQvt4RtuHvhvpBI\n",
       "V94MEsl01UHCJp7IhqvlbmxJZHIzSERi0lrt+vdsOnj8FyDB4axjIMlNomsgqmZ6SScTzeer5XA4\n",
       "6zbRTT1eKetdEt3Ot/37bn/AkgCSoxxX04yZGKJgU251SgDJjSDRNRZF04VMJoXgpci3hTeIbu4E\n",
       "SVa7JPWwqfan0mxNlCBPciNIVFo0s03Vear9AG5IuWK6uREktY8qMsa66UWlWyNgQHKf6KYbt0cP\n",
       "MpvIfNsyMCC5kyVpXdZeNEuE3Ha1HCC5FyRjuJvrKt94tRwguZkleSm26Wo5QHILSNjaLkWb/AYk\n",
       "WLvZH5I4wdrNLaKbOMF0A0tyY0j8ToQWp4Gk8C8BSALLMj+jo9hJINnQ7llbTw3J6BqbigSSwnLn\n",
       "rLVZVkVCsmFTXvuBQuhMbY4Ft0PCrNaWLSiVW56m9U+2TNNqpd1NDW4bXW3qyjm+r209DSQ5l7N6\n",
       "456msiCyJLlrySvSMgqSIUck+duGySYnbbqnlpIOkpy3jDKeLyilup8SmYnVdgvXdy17LtPr89LW\n",
       "c0AirS7dHJLHnqYt+/K3QVL0PVg5EQOJ7nvIvNeONQ/s9wxUmgySwrHh+flcqeGnuldX210Oz9PP\n",
       "7e/1eWnraSwJW4DkQbQw1JDkjsdAkg59/H6NU6XNC9tvLEklFSTl8PEJ53OlHpAkerXdbnjrXjga\n",
       "9Hlu62m+emIRkmoAP6GGRC1tCdoMybAzL+EbXBPTv3Pl+OrZwtdCuqcHirHX2Eyp7qdm449Za7ca\n",
       "TJF8af+gT1n9jiVJUt5IKsghEfWvVZkyIybuzmZIdNsgZTOX2U9hi+J9b4rxrS06Z6L/wxcSOzYz\n",
       "n2DRKTX8xNRqu5uC/QdX01ITfYT9IUh0q0wmiSGRrPP8U22KibKbISkfLslH/Zm1w4BMbFeLhwcj\n",
       "T+NUOjWqk86Uqn9XxzZOvWk3T5cnpIc+VflNSDSfiP0ISWGH/30SsRUSLoQYkgXNlC4Dphvel9Nb\n",
       "5sE+umlPLk0p8WFkHRI+U6pFpsjUervlw2t5dUkGfZ7aenZL0hqRYR36OQ4uuG7+oUrtipPW6/38\n",
       "ZXmFm7oBpX1X9o3fquYuiSwn+D8Nf9qpkj9HKHyVEbcky9ONatV5Vmr0SWa5077dg5eUFGzZJXlp\n",
       "62KDvvHFei+QDPUMe7itj8M+zGbNe2Jsu/WpD+L0VkvyBIkOc1z7zpbuw+G0vJstu8eqdCMknx1X\n",
       "PfZatQKJrLulaP5RTqaOvt0Pl0Q8UzTqozZYkj+nsSQ1IRV7cs21zocsLGvQEEkEJCIMkt5st1O4\n",
       "fOsQyRESw4mmmyRrhlCZh3OxBEnrWeTNKzU5vd23W7jl2WbU56mtZ/dJmhRJlywZDvuMKWOTG1Xb\n",
       "y3qchdaa1/+poyDJ2GMKN+9GupsK++mmyogc11oJkRgl2ZhMW4ake6smA963e0gBDpG4nLgknT5V\n",
       "9ks+SVKkD5WbEZRj62t1hDTKz5LkT/kRHjjd9BGitS9f6/MqbZ5n8AC0IAqB64olY81G9H76eFYq\n",
       "HyAR6SskQ2TbTrPFEHY9jpGN+mhxSkiEK5brDap0h31UNYWkRoNlHpAUdWjorHjkBepg0YRAkvM+\n",
       "F1Z96ClV27chzuCjoRt0KsowSOp3KrOsTY/mL0rl/XKfzdLevkwgyYe/iszqEW/er5uN+nB1Qkhs\n",
       "sxxpq3f1Ol+qKrNWTAeJFINbu9GS+ORU3jkl/jnpgsf042JCplmN+5yznfoXK+028m1bf2c/SXfY\n",
       "JxdPlqR235hXnoQIkoDVOl2RQ2LLvOJekKy0W7xv6+9sXxwO+zx+3aWUmaUaeK+yme/ehYiF7FVI\n",
       "jHOOeUGy3O5Xx+q1rb9jSbrDPrUC+TC/dsm170Aifcc8K+ghSXS6IRn9BMliu9mHtv7e9kUpGp9E\n",
       "7TDwXmULv/2ILHKTa/D2xUKUTjCvds/aij2ugWUPFuyW3xcSHM46OyQ4nHVZSHA4C5DAJwEkgASQ\n",
       "ABJAAkgACSABJIAEkNwCEtwLDEhgSY6B5E7fCA1IwuRW3y0PSEIpwXTzK5BsPnDlWRY+yRcOZxHV\n",
       "g+N6GCRY4AMk8EkACSBBdANIfsOSIE8CSDDdABJAgugGkMCSABJAAkgACSABJAdDgsNZZ4cEh7MQ\n",
       "3WC6gSUBJIAEkAASQAJIAAkgASSABJAAkl+GBIezAAksCSABJIAEkAASQEIMCQ5nnR8SHM66LCRY\n",
       "4AMk8EkACSABJIAEkAASQAJIAAmiG0ACSwJIAAkgASSABJAAkgVlcDjr7JDgcBaiG0w3sCSAxFMW\n",
       "txrkgASQTEQs3Vec5YAEkHyAxOhLQgKfhBKShF8Skn8BSTQkajTHwgASQLIEiWGjO5vBJwEkHyBJ\n",
       "ygKQAJIPkBgBSADJB0jiXVdAcn1ItAIkJ4bk2MNZLSSaN5Km7R+2U8eOnRsmX4VkUXA4i9iSRDsl\n",
       "sCTXn26iw5sTQsIACSkk8YmS00HCnQYkpJDEp1xPB4klvBgMkJBEwOeDRFENECDp/6qvB0k93zBA\n",
       "EgvJZIEvKy4IiXKpBCSRkEzC+TK5ICSJcBaQkEHCqktCUvuuGpAECFvaqWiTa0KSMCJbgt3y+47T\n",
       "dz+8MFeBBIezzv7hOJwFSDDdABJAAkgACSABJIAEkAASQAJIAAkgASSABJAAEkACSAAJIAEkgGQy\n",
       "8GqXsoAElgSQABJAcjJIDq03k9TjOGJKeHQRkGwXFTjYCpAAksMg4R4DzwHJPSEpPc4QlYSHoAHJ\n",
       "djEuPbTeTDIndikLSOikcvzQejPxORxiCU/KA5LtwgIPnzOqQ+va42yIJjuTBkh8RLjs0HpRDyL7\n",
       "UEDi+SLrQ+stzFvlLmUBCZ1kgQFDRhVoKA8PWFF5y4DEMwI1h9abSeERSxcEcffsWybyu0ASrnnq\n",
       "wjoptN6Chq7YpeyaX/O6kJzlN4EkXPPQdTq6L1viHuv/PH6vwKyrjL4rJFs1LwJn+YLOO7AeuXYb\n",
       "n5eff0MJvyskWzVXgfGCooszmEecxOJjqnlXCXNXSDZqzgIT3YwuQe7DGwGb864qsrtCslFzGxik\n",
       "WLrtP9IjZJHx4c3CF2LF33bzo5Bs1JwH+p+c7ktC62cVu5R901WS6da5sa0WRtwHkgDNZaD/KSmz\n",
       "WsLDGxXRnmvbVSIxjQKVI3NdfwWSAM1N4IqZoVxpUx4PU9Ef3HRVbhLddI/tPRyt7gJJiOYncEmS\n",
       "JjG3T9nVrqpNbdqsKqT90kL8bTdnvO/mtWnvNafv8pS0T7RH9lbHZno79001PlUxPIvAKfkZx9Vb\n",
       "8zzQeOe0+zqURzytYmPvrqtam8scXXjzM5B4a84CZw1GfP4lTfcpu95VWUN5liWVJEqU/Awk3pqX\n",
       "gR1eEq/YM48lGRa5fNO/T3VX5alIWrNEkXL9HUviqXkeaLpz8v3IPtNX5FTXdZW0gpnCdt8izpMb\n",
       "QeKruQ3MiFnCTNqQ/pC7lF3tqqd4Xt8JEk/NZeA7Kem3I0sP2yTj7Ni8qwhuu/lRSLItbmtY7zBX\n",
       "kKvJPMwDizIls66SZXJTSLZongaa2XSPwy9c7FP2c1cxkqOj7quym+ahLyQj90ja6dHDPJkYUza7\n",
       "8ea0R3nIrbW/5jJwqUzudGhbZ/uUhUSIzY6t93kSqfYpCwkWFXjVo0rlTi3KPZ6c79YKyPRdVMfW\n",
       "28JfsU9ZSGhiQhHU+w/dhewgWcavfwAAAABJRU5ErkJggg==\n",
       "\" style=\"display:inline;vertical-align:middle;\" /></a><br>(see <a class=\"ProveItLink\" href=\"../../../__pv_it/theorems/2bed0e1f063995cf0b4f9552a767db1b35f043250/dependencies.ipynb\">dependencies</a>)<br>"
      ],
      "text/plain": [
       "_psi_t_output: forall_{t in NaturalPos} (Pr(QCIRCUIT(([INPUT]{state:|+〉}, [INPUT]{state:|+〉}, ..(t - 3) ×.., [INPUT]{state:|+〉},[MULTI_QUBIT_ELEM]{element:[INPUT]{state:|u>, part:1}, targets:{t + 1 .. t + s}}, [MULTI_QUBIT_ELEM]{element:[INPUT]{state:|u>, part:2}, targets:{t + 1 .. t + s}}, ..., [MULTI_QUBIT_ELEM]{element:[INPUT]{state:|u>, part:s}, targets:{t + 1 .. t + s}}), ([MULTI_QUBIT_ELEM]{element:[GATE]{operation:QPE1(U, t), part:1}, targets:{1 .. t + s}}, [MULTI_QUBIT_ELEM]{element:[GATE]{operation:QPE1(U, t), part:2}, targets:{1 .. t + s}}, ..., [MULTI_QUBIT_ELEM]{element:[GATE]{operation:QPE1(U, t), part:t}, targets:{1 .. t + s}},[MULTI_QUBIT_ELEM]{element:[GATE]{operation:QPE1(U, t), part:(t + 1)}, targets:{1 .. t + s}}, [MULTI_QUBIT_ELEM]{element:[GATE]{operation:QPE1(U, t), part:(t + 2)}, targets:{1 .. t + s}}, ..., [MULTI_QUBIT_ELEM]{element:[GATE]{operation:QPE1(U, t), part:(t + s)}, targets:{1 .. t + s}}), ([MULTI_QUBIT_ELEM]{element:[OUTPUT]{state:|psi_{t}〉, part:1}, targets:{1 .. t}}, [MULTI_QUBIT_ELEM]{element:[OUTPUT]{state:|psi_{t}〉, part:2}, targets:{1 .. t}}, ..., [MULTI_QUBIT_ELEM]{element:[OUTPUT]{state:|psi_{t}〉, part:t}, targets:{1 .. t}},[MULTI_QUBIT_ELEM]{element:[OUTPUT]{state:|u>, part:1}, targets:{t + 1 .. t + s}}, [MULTI_QUBIT_ELEM]{element:[OUTPUT]{state:|u>, part:2}, targets:{t + 1 .. t + s}}, ..., [MULTI_QUBIT_ELEM]{element:[OUTPUT]{state:|u>, part:s}, targets:{t + 1 .. t + s}}))) = 1)"
      ]
     },
     "execution_count": 2,
     "metadata": {},
     "output_type": "execute_result"
    }
   ],
   "source": [
    "%proving _psi_t_output"
   ]
  },
  {
   "cell_type": "code",
   "execution_count": 3,
   "metadata": {},
   "outputs": [
    {
     "data": {
      "text/html": [
       "<a class=\"ProveItLink\" href=\"../../../__pv_it/theorems/b431fb15b12072ae5961adb54b379f7f82f5b1e70/expr.ipynb\"><img src=\"data:image/png;base64,iVBORw0KGgoAAAANSUhEUgAAAiQAAAESCAMAAAD65j5vAAAAQlBMVEX///+/v79aWlp6enpRUVGf\n",
       "n5+Tk5OIiIgiIiIQEBB2dnbu7u5ERETMzMzc3NwyMjK6urpmZmaYmJiqqqpUVFQAAAAOGgxnAAAA\n",
       "AXRSTlMAQObYZgAAAAlwSFlzAAAOxAAADsQBlSsOGwAAD4FJREFUeNrtnYu2o6gShp3pPgcELyDw\n",
       "/q86XqOJmgiUxuhfa810791gKPgsqgoISUIqpdqnLCRQCi4PrbdBtN2nLCRYhD223kcxqdylLCRC\n",
       "0urYeh9EejxX7tSG64k0cfWVKw6t90FsuU/Z1+ly6Zf5VRmpXBY7LNmx9d5K7tQuZWez5VLVjIAS\n",
       "91VZ8dxctG9QOHNovffRSrlP2U2QGE0AyTctxvKHM0fwOmf82HrvPFEP42AiDMkyJAm/IiTKOQL3\n",
       "Pnfs0HrvjAPfp+w7SNTo/QpzQUi4ExTPztJj65FgF4foBBIzPqfIrgcJjSFpDLc5tN66L+yhj43S\n",
       "fRmSpCwuB4l1JdHDy2PrrUXzHh6WjPPGViAx4nKQcKep3uD80Hqr4bzZpex2SOJd19NB4qg8RxXo\n",
       "2ygan+jh43jMIFncTLsGiVaAZPXp6bH1VmYQvkvZVUg0byRN2z+6fFNux86lzGcdBMmiVGTvcH5o\n",
       "vZUZROxS1seSRDslJ7QkVJCwwD5nlPON9ciOWad2gSQ6vLkwJHlgnJJTxjep26esByTxiZILQ5KE\n",
       "ZlyIMjVHuyRrkMSnXK8MSRlovktHtn/QeGQ+TOya1QokPLkgJH+oHq8DAyVNt36jPfwbHesLLUNC\n",
       "sAx8Qkj+pYssskPrLRols0vZT5BMFviyApC89UDTQ+st+qL5LmU/QTLxdMrkipCQTTcyMAsk6bJH\n",
       "Pj5wtL+8CAmrLgkJ3UZgF/huOqp0WuGBWxGNJltqtU0AyVvhgbM8p9ouYDyiWuN4clK58nRTu4Ls\n",
       "0Hrzd9sjL8eI9yhcGxI6S2IDg0pLlZgXHnGScBkg+QIkodvuCbbrD7TZXcoCEjpIRKAFF1SWP/PY\n",
       "QZVR7bYCJJ6DzQ+tt+Dc6F3KAhI6SFhgVoxRZdN8dv5z2h1xiG42ShWYeqiosmmpx8CngOQrluQE\n",
       "kLBdygISOkhM4GAbOkiqXcoCkgtB4qOMAyRfgUQFDraig+T/u5QFJHSQ/BO4sPoP1QZG5/63S1lA\n",
       "8udKkJhdygISOkuSBw52DkgACSABJIAEkAASQAJIAAkgASTRH/73bw5IAAksCSABJIAEkAASQEIJ\n",
       "if5b7FIWkNBBIv/+PbQeLMlhkNAt8N1sutntKhNMN9eBZL+rTADJtSG55FUmgIQWkkteZQJIKCC5\n",
       "+FUmgIQCkotfZYLohhiSK15lAktCDckFrzIBJNSQXPIqE0BCDMkVrzK5FCRHHs76fJUJIJnLzc7d\n",
       "fL7K5Dr33SC6IYYEV5kAkk+Q4CoTQPIRElxlAkg+QnLJq0wACSkk17zKBJDEQ3L5q0wQ3cRDMspF\n",
       "rzKBJaGEBFeZAJInHnCVCSA51TgBEkACSA6DBIezzg8JDmddFBJ89QQggU8CSAAJIAEkgASQABJA\n",
       "AkiuAgkW+AAJLAkgASSABJAAEkBCDAluzjo7JLgUCdENphtYEkACSAAJIAEkgASQABJAAkgQ3QAS\n",
       "WBJAAkgACSABJIAEkAASQPIQHM46PyQ4nHVRSHA4C5DAJwEk1JCsTtM5IAEkvYi1r0XfdLUcILkf\n",
       "JE9fha0BCSBZgOTp3hYOSO4MyZ8VSOTUkmz6nmNAcjtLYp7ckC3fmH5jSLi+JyQvt4RtuHvhvpBI\n",
       "V94MEsl01UHCJp7IhqvlbmxJZHIzSERi0lrt+vdsOnj8FyDB4axjIMlNomsgqmZ6SScTzeer5XA4\n",
       "6zbRTT1eKetdEt3Ot/37bn/AkgCSoxxX04yZGKJgU251SgDJjSDRNRZF04VMJoXgpci3hTeIbu4E\n",
       "SVa7JPWwqfan0mxNlCBPciNIVFo0s03Vear9AG5IuWK6uREktY8qMsa66UWlWyNgQHKf6KYbt0cP\n",
       "MpvIfNsyMCC5kyVpXdZeNEuE3Ha1HCC5FyRjuJvrKt94tRwguZkleSm26Wo5QHILSNjaLkWb/AYk\n",
       "WLvZH5I4wdrNLaKbOMF0A0tyY0j8ToQWp4Gk8C8BSALLMj+jo9hJINnQ7llbTw3J6BqbigSSwnLn\n",
       "rLVZVkVCsmFTXvuBQuhMbY4Ft0PCrNaWLSiVW56m9U+2TNNqpd1NDW4bXW3qyjm+r209DSQ5l7N6\n",
       "456msiCyJLlrySvSMgqSIUck+duGySYnbbqnlpIOkpy3jDKeLyilup8SmYnVdgvXdy17LtPr89LW\n",
       "c0AirS7dHJLHnqYt+/K3QVL0PVg5EQOJ7nvIvNeONQ/s9wxUmgySwrHh+flcqeGnuldX210Oz9PP\n",
       "7e/1eWnraSwJW4DkQbQw1JDkjsdAkg59/H6NU6XNC9tvLEklFSTl8PEJ53OlHpAkerXdbnjrXjga\n",
       "9Hlu62m+emIRkmoAP6GGRC1tCdoMybAzL+EbXBPTv3Pl+OrZwtdCuqcHirHX2Eyp7qdm449Za7ca\n",
       "TJF8af+gT1n9jiVJUt5IKsghEfWvVZkyIybuzmZIdNsgZTOX2U9hi+J9b4rxrS06Z6L/wxcSOzYz\n",
       "n2DRKTX8xNRqu5uC/QdX01ITfYT9IUh0q0wmiSGRrPP8U22KibKbISkfLslH/Zm1w4BMbFeLhwcj\n",
       "T+NUOjWqk86Uqn9XxzZOvWk3T5cnpIc+VflNSDSfiP0ISWGH/30SsRUSLoQYkgXNlC4Dphvel9Nb\n",
       "5sE+umlPLk0p8WFkHRI+U6pFpsjUervlw2t5dUkGfZ7aenZL0hqRYR36OQ4uuG7+oUrtipPW6/38\n",
       "ZXmFm7oBpX1X9o3fquYuiSwn+D8Nf9qpkj9HKHyVEbcky9ONatV5Vmr0SWa5077dg5eUFGzZJXlp\n",
       "62KDvvHFei+QDPUMe7itj8M+zGbNe2Jsu/WpD+L0VkvyBIkOc1z7zpbuw+G0vJstu8eqdCMknx1X\n",
       "PfZatQKJrLulaP5RTqaOvt0Pl0Q8UzTqozZYkj+nsSQ1IRV7cs21zocsLGvQEEkEJCIMkt5st1O4\n",
       "fOsQyRESw4mmmyRrhlCZh3OxBEnrWeTNKzU5vd23W7jl2WbU56mtZ/dJmhRJlywZDvuMKWOTG1Xb\n",
       "y3qchdaa1/+poyDJ2GMKN+9GupsK++mmyogc11oJkRgl2ZhMW4ake6smA963e0gBDpG4nLgknT5V\n",
       "9ks+SVKkD5WbEZRj62t1hDTKz5LkT/kRHjjd9BGitS9f6/MqbZ5n8AC0IAqB64olY81G9H76eFYq\n",
       "HyAR6SskQ2TbTrPFEHY9jpGN+mhxSkiEK5brDap0h31UNYWkRoNlHpAUdWjorHjkBepg0YRAkvM+\n",
       "F1Z96ClV27chzuCjoRt0KsowSOp3KrOsTY/mL0rl/XKfzdLevkwgyYe/iszqEW/er5uN+nB1Qkhs\n",
       "sxxpq3f1Ol+qKrNWTAeJFINbu9GS+ORU3jkl/jnpgsf042JCplmN+5yznfoXK+028m1bf2c/SXfY\n",
       "JxdPlqR235hXnoQIkoDVOl2RQ2LLvOJekKy0W7xv6+9sXxwO+zx+3aWUmaUaeK+yme/ehYiF7FVI\n",
       "jHOOeUGy3O5Xx+q1rb9jSbrDPrUC+TC/dsm170Aifcc8K+ghSXS6IRn9BMliu9mHtv7e9kUpGp9E\n",
       "7TDwXmULv/2ILHKTa/D2xUKUTjCvds/aij2ugWUPFuyW3xcSHM46OyQ4nHVZSHA4C5DAJwEkgASQ\n",
       "ABJAAkgACSABJIAEkNwCEtwLDEhgSY6B5E7fCA1IwuRW3y0PSEIpwXTzK5BsPnDlWRY+yRcOZxHV\n",
       "g+N6GCRY4AMk8EkACSBBdANIfsOSIE8CSDDdABJAgugGkMCSABJAAkgACSABJAdDgsNZZ4cEh7MQ\n",
       "3WC6gSUBJIAEkAASQAJIAAkgASSABJAAkl+GBIezAAksCSABJIAEkAASQEIMCQ5nnR8SHM66LCRY\n",
       "4AMk8EkACSABJIAEkAASQAJIAAmiG0ACSwJIAAkgASSABJAAkgVlcDjr7JDgcBaiG0w3sCSAxFMW\n",
       "txrkgASQTEQs3Vec5YAEkHyAxOhLQgKfhBKShF8Skn8BSTQkajTHwgASQLIEiWGjO5vBJwEkHyBJ\n",
       "ygKQAJIPkBgBSADJB0jiXVdAcn1ItAIkJ4bk2MNZLSSaN5Km7R+2U8eOnRsmX4VkUXA4i9iSRDsl\n",
       "sCTXn26iw5sTQsIACSkk8YmS00HCnQYkpJDEp1xPB4klvBgMkJBEwOeDRFENECDp/6qvB0k93zBA\n",
       "EgvJZIEvKy4IiXKpBCSRkEzC+TK5ICSJcBaQkEHCqktCUvuuGpAECFvaqWiTa0KSMCJbgt3y+47T\n",
       "dz+8MFeBBIezzv7hOJwFSDDdABJAAkgACSABJIAEkAASQAJIAAkgASSABJAAEkACSAAJIAEkgGQy\n",
       "8GqXsoAElgSQABJAcjJIDq03k9TjOGJKeHQRkGwXFTjYCpAAksMg4R4DzwHJPSEpPc4QlYSHoAHJ\n",
       "djEuPbTeTDIndikLSOikcvzQejPxORxiCU/KA5LtwgIPnzOqQ+va42yIJjuTBkh8RLjs0HpRDyL7\n",
       "UEDi+SLrQ+stzFvlLmUBCZ1kgQFDRhVoKA8PWFF5y4DEMwI1h9abSeERSxcEcffsWybyu0ASrnnq\n",
       "wjoptN6Chq7YpeyaX/O6kJzlN4EkXPPQdTq6L1viHuv/PH6vwKyrjL4rJFs1LwJn+YLOO7AeuXYb\n",
       "n5eff0MJvyskWzVXgfGCooszmEecxOJjqnlXCXNXSDZqzgIT3YwuQe7DGwGb864qsrtCslFzGxik\n",
       "WLrtP9IjZJHx4c3CF2LF33bzo5Bs1JwH+p+c7ktC62cVu5R901WS6da5sa0WRtwHkgDNZaD/KSmz\n",
       "WsLDGxXRnmvbVSIxjQKVI3NdfwWSAM1N4IqZoVxpUx4PU9Ef3HRVbhLddI/tPRyt7gJJiOYncEmS\n",
       "JjG3T9nVrqpNbdqsKqT90kL8bTdnvO/mtWnvNafv8pS0T7RH9lbHZno79001PlUxPIvAKfkZx9Vb\n",
       "8zzQeOe0+zqURzytYmPvrqtam8scXXjzM5B4a84CZw1GfP4lTfcpu95VWUN5liWVJEqU/Awk3pqX\n",
       "gR1eEq/YM48lGRa5fNO/T3VX5alIWrNEkXL9HUviqXkeaLpz8v3IPtNX5FTXdZW0gpnCdt8izpMb\n",
       "QeKruQ3MiFnCTNqQ/pC7lF3tqqd4Xt8JEk/NZeA7Kem3I0sP2yTj7Ni8qwhuu/lRSLItbmtY7zBX\n",
       "kKvJPMwDizIls66SZXJTSLZongaa2XSPwy9c7FP2c1cxkqOj7quym+ahLyQj90ja6dHDPJkYUza7\n",
       "8ea0R3nIrbW/5jJwqUzudGhbZ/uUhUSIzY6t93kSqfYpCwkWFXjVo0rlTi3KPZ6c79YKyPRdVMfW\n",
       "28JfsU9ZSGhiQhHU+w/dhewgWcavfwAAAABJRU5ErkJggg==\n",
       "\" style=\"display:inline;vertical-align:middle;\" /></a>"
      ],
      "text/plain": [
       "forall_{t in NaturalPos} (Pr(QCIRCUIT(([INPUT]{state:|+〉}, [INPUT]{state:|+〉}, ..(t - 3) ×.., [INPUT]{state:|+〉},[MULTI_QUBIT_ELEM]{element:[INPUT]{state:|u>, part:1}, targets:{t + 1 .. t + s}}, [MULTI_QUBIT_ELEM]{element:[INPUT]{state:|u>, part:2}, targets:{t + 1 .. t + s}}, ..., [MULTI_QUBIT_ELEM]{element:[INPUT]{state:|u>, part:s}, targets:{t + 1 .. t + s}}), ([MULTI_QUBIT_ELEM]{element:[GATE]{operation:QPE1(U, t), part:1}, targets:{1 .. t + s}}, [MULTI_QUBIT_ELEM]{element:[GATE]{operation:QPE1(U, t), part:2}, targets:{1 .. t + s}}, ..., [MULTI_QUBIT_ELEM]{element:[GATE]{operation:QPE1(U, t), part:t}, targets:{1 .. t + s}},[MULTI_QUBIT_ELEM]{element:[GATE]{operation:QPE1(U, t), part:(t + 1)}, targets:{1 .. t + s}}, [MULTI_QUBIT_ELEM]{element:[GATE]{operation:QPE1(U, t), part:(t + 2)}, targets:{1 .. t + s}}, ..., [MULTI_QUBIT_ELEM]{element:[GATE]{operation:QPE1(U, t), part:(t + s)}, targets:{1 .. t + s}}), ([MULTI_QUBIT_ELEM]{element:[OUTPUT]{state:|psi_{t}〉, part:1}, targets:{1 .. t}}, [MULTI_QUBIT_ELEM]{element:[OUTPUT]{state:|psi_{t}〉, part:2}, targets:{1 .. t}}, ..., [MULTI_QUBIT_ELEM]{element:[OUTPUT]{state:|psi_{t}〉, part:t}, targets:{1 .. t}},[MULTI_QUBIT_ELEM]{element:[OUTPUT]{state:|u>, part:1}, targets:{t + 1 .. t + s}}, [MULTI_QUBIT_ELEM]{element:[OUTPUT]{state:|u>, part:2}, targets:{t + 1 .. t + s}}, ..., [MULTI_QUBIT_ELEM]{element:[OUTPUT]{state:|u>, part:s}, targets:{t + 1 .. t + s}}))) = 1)"
      ]
     },
     "execution_count": 3,
     "metadata": {},
     "output_type": "execute_result"
    }
   ],
   "source": [
    "_psi_t_output"
   ]
  },
  {
   "cell_type": "code",
   "execution_count": 4,
   "metadata": {},
   "outputs": [
    {
     "data": {
      "text/html": [
       "<strong id=\"defaults.assumptions\">defaults.assumptions:</strong> <a class=\"ProveItLink\" href=\"../../../__pv_it/_proof__psi_t_output/91f8d0c1258e5a7df0c333218f4192146caf1d2f0/expr.ipynb\"><img src=\"data:image/png;base64,iVBORw0KGgoAAAANSUhEUgAAAEwAAAAZBAMAAABp+tVcAAAAMFBMVEX///9UVFQiIiKIiIjMzMx2\n",
       "dnYQEBDc3NxEREQyMjLu7u5mZmaqqqq6urqYmJgAAAB66f/FAAAAAXRSTlMAQObYZgAAAAlwSFlz\n",
       "AAAOxAAADsQBlSsOGwAAAXtJREFUKM9jYGB4y4AbcIOIDSCCZwMeZRwgogJErGQgpIzPAEj0YUou\n",
       "+tG5gCHs2wWoMgYtBgb2BCyG9PAKMHB9gJnGYAh0ZABIewGqMqGCOAaGBIYdHW0dHQ8YGNYvYOAH\n",
       "Gs1wfgGqMpkGzgIGBbhpnA8Y/EEqNkFkmZuUNMEM8cfsE5CUcTcwGIFoVTCPdzLMUHFGB1MkZcwJ\n",
       "DJJAaYkfwiBeJdxqcYYGjgsIZby/GDpAIfwBzJvOgFDmzaWlAIsFBpYvDBNBnAlg3gQkZXwHTiBC\n",
       "iv0vgzaQYgoA60lSUlLSgCpjkGJEKOP6CzZt/QUwpwHJNIaFXAoI0yCWnmfgAvEUkJWxGCB0sXxn\n",
       "kABSOxmOgHjGcPEWIDZBKAP61AxICXIZgAP7AEx8DsJf4CSSwHAfGFgV7yAulbgFEfb8BjSJC6GM\n",
       "W4CB7QIiKnkjoJGFBoBxCk4hBAAwhbAkEFb2EJRoCCtTJ5QXGOB5gYeg48A5C28+BYNdDAwAV3tO\n",
       "AERfPnQAAAAASUVORK5CYII=\n",
       "\" style=\"display:inline;vertical-align:middle;\" /></a><br>"
      ],
      "text/plain": [
       "defaults.assumptions: (t in NaturalPos)"
      ]
     },
     "execution_count": 4,
     "metadata": {},
     "output_type": "execute_result"
    }
   ],
   "source": [
    "defaults.assumptions = _psi_t_output.conditions"
   ]
  },
  {
   "cell_type": "code",
   "execution_count": null,
   "metadata": {},
   "outputs": [],
   "source": []
  },
  {
   "cell_type": "markdown",
   "metadata": {},
   "source": [
    "### We should automate the following so it isn't necessary."
   ]
  },
  {
   "cell_type": "code",
   "execution_count": 5,
   "metadata": {},
   "outputs": [
    {
     "data": {
      "text/html": [
       "<span style=\"font-size:20px;\"> <a class=\"ProveItLink\" href=\"../../axioms.ipynb#_s_in_nat_pos\" style=\"text-decoration: none\">&nbsp;&#x22A2;&nbsp;&nbsp;</a><a class=\"ProveItLink\" href=\"../../../__pv_it/axioms/89b9f03344b95013be5c8b0bea35b6e272ad9bde0/expr.ipynb\"><img src=\"data:image/png;base64,iVBORw0KGgoAAAANSUhEUgAAAD0AAAATBAMAAADR6hicAAAAMFBMVEX///9UVFQQEBCqqqoyMjIi\n",
       "IiKYmJjc3Ny6urrMzMxERETu7u5mZmaIiIh2dnYAAACoFeiBAAAAAXRSTlMAQObYZgAAAAlwSFlz\n",
       "AAAOxAAADsQBlSsOGwAAAOVJREFUKM9jYMANeBjwAy6y5Lf+WrKB4dGnBpz6F3MIMHB/wG2+aMEz\n",
       "BgYFhlOrFq1alYBFXngBSwFDAIZ+3qWhIWCGeC67A6Y8h+8GKEucccI9JHm+u6dBVAlMmkGcYQFX\n",
       "A0J+JUMPiHJnQMjP4Y4OgIUf+weGZSDaAUmezcBKAcZj/5UOojhVQ0NDo6DyDNKMcHmG9/8fAEnu\n",
       "BUj6GTZyByBc3vUbRAYgy3NegCt/ysAAlr8Ll18JxDfh8r4MzAdANIsBTMQZ5HS4c+fmXgPT3FLd\n",
       "EIEpn4B6uR0wgp3jFTR8UQAAHg81+NvMdkwAAAAASUVORK5CYII=\n",
       "\" style=\"display:inline;vertical-align:middle;\" /></a></span>"
      ],
      "text/plain": [
       "|- s in NaturalPos"
      ]
     },
     "execution_count": 5,
     "metadata": {},
     "output_type": "execute_result"
    }
   ],
   "source": [
    "_s_in_nat_pos"
   ]
  },
  {
   "cell_type": "code",
   "execution_count": 6,
   "metadata": {},
   "outputs": [],
   "source": [
    "from proveit.logic import InSet\n",
    "from proveit.numbers import Natural, greater, greater_eq, zero, Neg"
   ]
  },
  {
   "cell_type": "code",
   "execution_count": 7,
   "metadata": {},
   "outputs": [],
   "source": [
    "# greater_eq(_s, one).prove().derive_shifted(Neg(one))"
   ]
  },
  {
   "cell_type": "code",
   "execution_count": 8,
   "metadata": {},
   "outputs": [],
   "source": [
    "# InSet(subtract(_s, one), Natural).prove()"
   ]
  },
  {
   "cell_type": "code",
   "execution_count": 9,
   "metadata": {},
   "outputs": [],
   "source": [
    "# greater_eq(t, one).prove().derive_shifted(Neg(one))"
   ]
  },
  {
   "cell_type": "code",
   "execution_count": 10,
   "metadata": {},
   "outputs": [
    {
     "data": {
      "text/html": [
       "<strong id=\"tm1_in_N\">tm1_in_N:</strong> <span style=\"font-size:20px;\"><a class=\"ProveItLink\" href=\"../../../../circuits/__pv_it/theorems/71c1fc00120f763c694cd99d32f7a5e7315b9ca50/expr.ipynb\"><img src=\"data:image/png;base64,iVBORw0KGgoAAAANSUhEUgAAADwAAAATBAMAAAA+KHOiAAAAMFBMVEX///8QEBCYmJjMzMwyMjKI\n",
       "iIhERERUVFS6urp2dnZmZmaqqqrc3NwiIiLu7u4AAAAqt126AAAAAXRSTlMAQObYZgAAAAlwSFlz\n",
       "AAAOxAAADsQBlSsOGwAAAOZJREFUKM9jYMANFjDgBQmkS/PdT/Nj4JSXwKWbbUM7A8N7uG6+O6jS\n",
       "7Hc4FRgYGbjS0sTSkhgYuP+hSW9j8GHghevmugARDrt71wEsfSjgCJI07wSwbEscTPeBYtYJcOn2\n",
       "/PQAIMXjBzf8ABtDBkL3frAgywGENPOCt2/hobYEIo1w2gEGbe5EOPcmmDS8CwQJUGn2B4XwUPoB\n",
       "pp4h6+YreAvjcX9geAByP7I0gykbjMflwG0ApFgD4IEK5LKawRUXPAXT3jABlg1w94I8nKQApp9n\n",
       "PADTzP5iQPIJRkx15kICFQUAALDXOQj7yj+HAAAAAElFTkSuQmCC\n",
       "\" style=\"display:inline;vertical-align:middle;\" /></a> <a class=\"ProveItLink\" href=\"../../../__pv_it/_proof__psi_t_output/f4abae7fb665151b8b236e2933e14b7db444c4740/proof.ipynb\" style=\"text-decoration: none\">&nbsp;&#x22A2;&nbsp;&nbsp;</a><a class=\"ProveItLink\" href=\"../../../__pv_it/_proof__psi_t_output/146cdca76f15bcb515ee1c25c6f16c846ee2a46b0/expr.ipynb\"><img src=\"data:image/png;base64,iVBORw0KGgoAAAANSUhEUgAAAGIAAAAVBAMAAABPrCZEAAAAMFBMVEX////MzMxUVFRERES6uroi\n",
       "IiIQEBCYmJhmZmYyMjLu7u52dnaqqqqIiIjc3NwAAACW8nlqAAAAAXRSTlMAQObYZgAAAAlwSFlz\n",
       "AAAOxAAADsQBlSsOGwAAAXlJREFUOMtjYGB4wIAV4BAGAt4D2MV90fhc8cazGLjzUxgYTmNRzRgF\n",
       "NKkATZD5gBMDw3qg1glAHIcqt6jzF5CchaaDKY67gIGNgYEDaBTPL3SXggQq0HUcZpjHwMoA0sTA\n",
       "EYBNB9sCCOdyaOgEsI7nF16CdJwEslk3YNPBCfGI5y2YHQ8UeTcAdXQzMDjZG13AooNbAcTkg3uH\n",
       "6QEzgwlQx3Qg+zwDNjvYwW7hfIDQwdiwdCkDQwyQ3YlVB08CWAfC5w8YanjMGBiAMcIQDY6hqaEg\n",
       "IADXwfgBxBQDCRpAdTAtUAPr4PqC1Q4WsB2Lke3gUoC4iucDwwJsrgKHOSuyDgZZZgYGW2B0TOAR\n",
       "wOZzsFt44cHIDFTEK8zAsAmoWWEtmqu4/4HiFRJLc2CCnAcggSQKDHJztETHpPZTHegeB0giM4E4\n",
       "mXF+MpBcCRQXwJUNnkJpb1NIKoEB9gZcOtpxSdjhEOczwKVjMQ5xZpzZlu8CdvF7ONQDAAP6VHyx\n",
       "zU0kAAAAAElFTkSuQmCC\n",
       "\" style=\"display:inline;vertical-align:middle;\" /></a></span><br>"
      ],
      "text/plain": [
       "tm1_in_N: {t in NaturalPos} |- (t - 1) in Natural"
      ]
     },
     "execution_count": 10,
     "metadata": {},
     "output_type": "execute_result"
    }
   ],
   "source": [
    "tm1_in_N = InSet(subtract(t, one), Natural).prove()"
   ]
  },
  {
   "cell_type": "code",
   "execution_count": 11,
   "metadata": {},
   "outputs": [
    {
     "data": {
      "text/html": [
       "<span style=\"font-size:20px;\"><a class=\"ProveItLink\" href=\"../../../../circuits/__pv_it/theorems/71c1fc00120f763c694cd99d32f7a5e7315b9ca50/expr.ipynb\"><img src=\"data:image/png;base64,iVBORw0KGgoAAAANSUhEUgAAADwAAAATBAMAAAA+KHOiAAAAMFBMVEX///8QEBCYmJjMzMwyMjKI\n",
       "iIhERERUVFS6urp2dnZmZmaqqqrc3NwiIiLu7u4AAAAqt126AAAAAXRSTlMAQObYZgAAAAlwSFlz\n",
       "AAAOxAAADsQBlSsOGwAAAOZJREFUKM9jYMANFjDgBQmkS/PdT/Nj4JSXwKWbbUM7A8N7uG6+O6jS\n",
       "7Hc4FRgYGbjS0sTSkhgYuP+hSW9j8GHghevmugARDrt71wEsfSjgCJI07wSwbEscTPeBYtYJcOn2\n",
       "/PQAIMXjBzf8ABtDBkL3frAgywGENPOCt2/hobYEIo1w2gEGbe5EOPcmmDS8CwQJUGn2B4XwUPoB\n",
       "pp4h6+YreAvjcX9geAByP7I0gykbjMflwG0ApFgD4IEK5LKawRUXPAXT3jABlg1w94I8nKQApp9n\n",
       "PADTzP5iQPIJRkx15kICFQUAALDXOQj7yj+HAAAAAElFTkSuQmCC\n",
       "\" style=\"display:inline;vertical-align:middle;\" /></a> <a class=\"ProveItLink\" href=\"../../../__pv_it/_proof__psi_t_output/f4abae7fb665151b8b236e2933e14b7db444c4740/proof.ipynb\" style=\"text-decoration: none\">&nbsp;&#x22A2;&nbsp;&nbsp;</a><a class=\"ProveItLink\" href=\"../../../__pv_it/_proof__psi_t_output/146cdca76f15bcb515ee1c25c6f16c846ee2a46b0/expr.ipynb\"><img src=\"data:image/png;base64,iVBORw0KGgoAAAANSUhEUgAAAGIAAAAVBAMAAABPrCZEAAAAMFBMVEX////MzMxUVFRERES6uroi\n",
       "IiIQEBCYmJhmZmYyMjLu7u52dnaqqqqIiIjc3NwAAACW8nlqAAAAAXRSTlMAQObYZgAAAAlwSFlz\n",
       "AAAOxAAADsQBlSsOGwAAAXlJREFUOMtjYGB4wIAV4BAGAt4D2MV90fhc8cazGLjzUxgYTmNRzRgF\n",
       "NKkATZD5gBMDw3qg1glAHIcqt6jzF5CchaaDKY67gIGNgYEDaBTPL3SXggQq0HUcZpjHwMoA0sTA\n",
       "EYBNB9sCCOdyaOgEsI7nF16CdJwEslk3YNPBCfGI5y2YHQ8UeTcAdXQzMDjZG13AooNbAcTkg3uH\n",
       "6QEzgwlQx3Qg+zwDNjvYwW7hfIDQwdiwdCkDQwyQ3YlVB08CWAfC5w8YanjMGBiAMcIQDY6hqaEg\n",
       "IADXwfgBxBQDCRpAdTAtUAPr4PqC1Q4WsB2Lke3gUoC4iucDwwJsrgKHOSuyDgZZZgYGW2B0TOAR\n",
       "wOZzsFt44cHIDFTEK8zAsAmoWWEtmqu4/4HiFRJLc2CCnAcggSQKDHJztETHpPZTHegeB0giM4E4\n",
       "mXF+MpBcCRQXwJUNnkJpb1NIKoEB9gZcOtpxSdjhEOczwKVjMQ5xZpzZlu8CdvF7ONQDAAP6VHyx\n",
       "zU0kAAAAAElFTkSuQmCC\n",
       "\" style=\"display:inline;vertical-align:middle;\" /></a></span>"
      ],
      "text/plain": [
       "{t in NaturalPos} |- (t - 1) in Natural"
      ]
     },
     "execution_count": 11,
     "metadata": {},
     "output_type": "execute_result"
    }
   ],
   "source": [
    "tm1_in_N.inner_expr().element.commute()"
   ]
  },
  {
   "cell_type": "code",
   "execution_count": null,
   "metadata": {},
   "outputs": [],
   "source": []
  },
  {
   "cell_type": "code",
   "execution_count": 12,
   "metadata": {},
   "outputs": [
    {
     "data": {
      "text/html": [
       "<span style=\"font-size:20px;\"> <a class=\"ProveItLink\" href=\"../../axioms.ipynb#_psi_t_def\" style=\"text-decoration: none\">&nbsp;&#x22A2;&nbsp;&nbsp;</a><a class=\"ProveItLink\" href=\"../../../__pv_it/axioms/7edbcd9ff02ef8603d25ac7f0d4b4ed9995a6a7a0/expr.ipynb\"><img src=\"data:image/png;base64,iVBORw0KGgoAAAANSUhEUgAABKsAAAAyBAMAAABhdkUjAAAAMFBMVEX///+IiIgiIiIQEBB2dnbu\n",
       "7u5ERETMzMzc3NwyMjK6urpmZmaYmJiqqqpUVFQAAAB6qHgnAAAAAXRSTlMAQObYZgAAAAlwSFlz\n",
       "AAAOxAAADsQBlSsOGwAADjNJREFUeNrVnXuMHLUZwL99zM7s8xYoj0aEXI9GAl2BKy2QqAUWFF5p\n",
       "4SYhoqUU7tQWqKC0S0OhCJHbFhpAUbmtICgSAVZq/2glqizQiibH4xCqePzB7UEqyqPNqhToS5C0\n",
       "XBNCwtUztmfsGY/H++jdjBH2Zu3x/uzP8/nzZ88cgELIVKGTYldDlIJ2ZVBOXDh7k8oCYdP0ElP5\n",
       "0n91VKw0HSlxwfcDGhoXzh6lslDYJNWXq15YqnRU7K/RkhYUB8Xfx4WzN6ksGDZNX1a98IWOihXq\n",
       "9Av1gfv/DRcJv40LZ7hUFpn/Ij5Nt9UuM1Z0VOy2Gvniiu1z0RBXUjjbxYUzVCqLzU+xafoZxcvK\n",
       "HRX7lPNNIiLiKp4i+jYunOFSWWR+ik3TV9RsxGehk2KFkciJC+4XzYEx4VSQymLz38+n2abSVZ+H\n",
       "ToqlKiHNfVJezZP9aOilphujsK3mLxIXTgWpCPnzLenlIdkq2NpmDzZJc/tU6lC8F2ixZWZIc+UW\n",
       "Xb7dD3FhI9YxZbOCSuPCqSAVIf9T8uuf6h3bcS1QbJo+qDSJq7WVFjsxpLkv9GPVaVA9uzFgHn+J\n",
       "idGsLwBZUM7c7I5uORWkIuJ317khy2Ap/tKjZNiFNo9N010qxtWEmjOXFNP3ypury81SXc1qLRB7\n",
       "VX85oAWZlhsjdb3H/0MLypmCsS45VaQi4l8vF+16JbM6a2Zl2HAdj03TMZU13ltq7STFSiPy5mYr\n",
       "8oYIswvekX0otWySAd2jneLGKHzDV2BhOQ1Y3yWnilRE/PfKLxdnP+f598WQMiXYcLHJY5M0M6jQ\n",
       "gDPU2kmKpUKUc4iCpNnrLnpbbF7jrCSEDCtiO1ALYsZnCy8wJ1zTJaeKVAT8IdOpk83zs4szbdV7\n",
       "5o8hWZVhUwOTYpO0oGCz6wfUrDhSbGJaLq5Py6uh2U14NKiIlXUpwKapqalG8LCarLkxUsvTvklk\n",
       "YTnz1S45VaQi4E/Kla2THcyfh/wg0lY1Gbaxj8cmqaYwZBJKy0Wn2LKatLm6/C5ysvfDZJAgrKw3\n",
       "CmHaKlNxY143LQrnOYkuOVWkIuCfkCtbJzuYf6Bh7M1CVooN3+KxaaowwWVGsHHAdmpgMYBvMt+l\n",
       "/SOyNI6iWmA1drYVfm831zhpft6qI2vdBQXQ75kmWZueJ1UcdqF7MVct9nZSn6d/tl9Yzuz8v7vk\n",
       "lEolmP8dkPK/A0L+rdZX03DzFy0k09hrLH1eik19shSbpgomYsruwXSDbVM1qBjAqUzfv/Wh7+zG\n",
       "gNXhqwOrGXAngbPR/5d9ddq+K2xx/RLuvqPuZAkCV61x0I0R/m5v4bhwSqUSzH8ApPzMLMXyW8Mq\n",
       "VzP+djOGGQzDhskWh03TUQBbb70Z3ICxJjOs8Mqx2AwqBtpHIeviGgZMn/U7UTUTNcbjtg7MxE9Q\n",
       "c9chcWkV9NsVqKA0cMN+NfbQkWqHmRgK+71LmZhwyqUSPEnvAxm/vg/8/Ah5K/qcgDT6bx34zn+J\n",
       "sJNNDpumMw2w/XRbJB1cZoYVMQEGg4qBHuJ5mSGAD8DamqCaGefTRhPW1yCjI+71tey0vgLKRgvK\n",
       "KA10ga4G7Z8PmZRuOxP7seLCKZdKsL9st5S/sFvAj5C3os8J+CkaWug748pw7Hydw6YpottgqbRx\n",
       "yVK65Q4rjTTmwqBiUDwo746/Y8DCIKTH3Woe5rJtJds0LIWwMdd2Jpd2AootN0usBawtGVztMiZ2\n",
       "lNMnVp1lxoEzsWrV4aJLHf5d8i29Ul3KX6qL+a1JsITU7Z+sf2yCO0OxE7s5bJoiXZpFJdMSyJmq\n",
       "O6yKZJbeGFQMCnsV3C2rIdO2XCdONbM+b8zGm26x+u+R3Igjrpc26L9hsoLFhavdVXVjgI/t+HoT\n",
       "tCUx4NTRmFrT8F/p8s/Itz7wkiyQ311w8vzWsCq8277FmpSMq2/6bSh2cS+L7aQDbSigrshKCPFK\n",
       "HA+rNPUx1wKKhbojPsCAA0jnHnSrmeWyrzi5CWfOz1sfN8NyR1zFh061IUhWsLhwtRMtNwb4ry2t\n",
       "b6PokkbkOeFGlKP5HagM/zK533SgIuXH2X5+eyX42n/sX07Nz+8OxdYPsthOOoBmv5OHhmRHX0ZN\n",
       "MqzWPIGG1aF4CqkEFIN0yGYpWaEgLakfcKuZZbO1k98U+z2eCbE3aLtxtdg1Rx11K21LIF0DrXlO\n",
       "5DmheT5anaV9uo7hH5X7pfBKNZDfzg7iL5TVsanjcyVwaQpNso8D+B8lcsfN03RYVV6Br9PjJLbZ\n",
       "lh+yQ5spBnm5uPC6dDVMVmzzbtDTXDu7NAiTwk67TlFcuNqBshsDDFnRUXA+XGYvcqLNmaila1pT\n",
       "8927DP/T8mGFF/6B/HZ2EH+mpY4NexhsN02iIneD0RbsPNDwPtZCDb31KDwPKbxq9B/zeJ8Yg3LH\n",
       "i86I6wO3mlk2G91KGeEexnJVce1wFf0Akc2xVtSG9A+byCaNOiciPG8Tcf2wgeF/P2Sh2JLy29lB\n",
       "/ElTHRtbAwTbTZPIUsuYluFE5l9jeDU82xYNKw0+i3RYHjRLIBtChtXAPBus78bsxUduP1HOFcjt\n",
       "IdU8OjT0uaGhE53sCXRFBToKY3Wu3Xa1A003Ju2t2FukaSmn9uHic6bxJm5FMIVQftLdHP68+xPb\n",
       "GlJ+O1udH/eJCBs+ChxWxbJlsVvnga5/5xr4c9rMm+ywciZBtKSowBooWtw7fT8dNglixxnVAgjK\n",
       "WuLvFGmBiT/eeWeHD2Liyp127/SLawirYGNVFd0Z0klwePE5EeHt57EycKYQhz9wEsQ/QbVVAL+d\n",
       "3QH/cBA2HVaCSRDqlo35GmrN45a/vdxMw5emhqfo+naUrgTzdaMFhxtn31sl7lPOtsLFRNtToskl\n",
       "Mw6FOdcLy08uZeguOO3e4rdZVmKx3A5LsFgizZkHo5JoiIaVwz9aU5oEA/jxJFjuHZvaVgKTHS7c\n",
       "jO6O48+Do61vXn39R2nOtlpG/Vb58YKZa0C2JXSf4mKQkPuDDLLCKoxYDlqnmlk2O3+Ks63ZXbtx\n",
       "tXgxRDfv7DXPrXoFEo1fR55Tb90AsCTnM50Z/mVyv9XktJTfzu6UX4RNNxfP4P15tl/sNit6ADS7\n",
       "+Kvpy3/BDSvHHZpbkYYXUX1i96nYHao7NguZpfcQwBPg4qpbzSybrR374qHlbsVl3cW42kkmJso6\n",
       "YbVsaSXynLAEMSZ2EkvJtmzsiOH3uENv8PDjY7+B/HZ2p/wibLpFTndYSWrPkCULcQ5y9vh7FZpH\n",
       "cMNqV4O6Qzecewiq9efW3CnYvMGTZpHfK/Vtnn+BAF521rtMNbNcdv6kn3U7ubx35oPTpNqJhhuD\n",
       "hlcsljvxCjP6nBnLHfo2tZSGHfPG5d/F++C9775JNaX8OLtDfhG2vp/FdtIxuhTIjUDhvquuug4N\n",
       "q3VZzm+Fj1HaXvZbrU/HaFV4QzCbY6XoOUt6o7fYfXTcW+ENn7jugx4CXy0+FkwOB5M90MKRcH0c\n",
       "OOGZqn60yFPp8E9wrgHda5Rkx6X82fE+YZPDy4KtZhwS7a/oFaytcrO8w9Y9GGPvfj6SNu27xuvX\n",
       "bfLqEId/eIs9xgI61TzMZfcqLlzt2Uzs7CxffsgfIA6c2uxS4SLN4R/g7PlSw+uPH5Hy50f6hE2O\n",
       "ZFFsmjob4fnyOdjXjqynY/gVa90ZVva4u+U50AQPmSXJd8dzlm8dNm3nFPSM6QIKqpkxexcXqfa7\n",
       "TCzYAowLZ5AfgWO6Czz8hTmQ8Rfm+oSdaXPYvpPn+hNV2IgMDP34GnbjunfCiDOsHNUmcM7SB6S4\n",
       "x7/yDbRsGGVvpbGWCyioZqzVu7gS7BrlQJDzPy6cAaHE6Zsd4OHXDoKMXzvYJ2yyHqTYNOX2ALRz\n",
       "rxI8doRHdoK1aUsQVMxzH18KpRqk2B7IWMr7yMBqMs0exMVVi18EQF8HkBqX6psIcwYETt8gBeLl\n",
       "vxak/Nf2B5u+dYFi0/TU8Np0tZFNi02w9/GTkJqDEqvYC/JZvTACfQrpuhuj5XBZ7DCMPqeKVPIt\n",
       "H3/IW36e7Q82XMBjk9RQOePa/eOn2qC1TV5iXUSa/LC2tr9f4kq13Djs8dMoc6pIZS34+Mca0qtD\n",
       "slWx4XQeu4PHT1VXPY/5Fxlpe+ZNcvbCBfJaLuiXuA5jYoC/+PLjwqkilS+Djz9dV1E2vWInRnhs\n",
       "kpYGFWrYpjaySbEcuY9fd7ym/Gn+VMhp2X69FPp09m4Cv1aOC2dIdxetZFDAf5r88tP6gk2V7B4e\n",
       "X2m3MalmntJi+EmfhLXpeIj98UTeKunHC3LCQ6LuxuIFdVw45d19GLoyURbw9+U9SiHY8EkeW7hs\n",
       "U1p0hBfDdf5gtErPkHoWN1vl1Wztj7jw+2bpW2dFr+iKC6e0u/V1e6my9fBnp6WXh2SrYdO34lJs\n",
       "wSvOJKGrlzyOtcmh6Jc8xdbKrdK1tX5ISzvBjUH6ksfIc8q7W/uYnp338GvHyX/4uN6xYW2Lx+7o\n",
       "JY+qLmVSjGit/D58erVY8TxuZmyW1hKSrRgy024Mjg9bpF0jzxnS3U/X8CFnH/9dcqndZfaMDd/x\n",
       "YJM0o6ZzQ94g5i2G38hlfIRPEd5AthLdcIe8mjv6Ia6vMTG6fYTTeFw45d092cRPwvj4Dfmiwqj2\n",
       "jK01eGyablMbsfqKjoqtx6rwe6Z1PxvDU1ODsMghKdxqiQunvLszc9bzw4vKT7FpeoLidUd0VCyB\n",
       "bcdtS621SnJ+fr6+2OIS/9GPuHDKuzu3xz6ospj8Xf5xku7+lFJ2ZQ2iEXIB/R0XTnl337MlItg0\n",
       "/ZXylQ90VCxrK8PixxGRFtwcMNfHhVPe3bvaEcEmqa6+lunqz1RuiYi0tMB2xoVT2t3ZWjSwaYr/\n",
       "wsT/ALJ3+9MsJVnBAAAAAElFTkSuQmCC\n",
       "\" style=\"display:inline;vertical-align:middle;\" /></a></span>"
      ],
      "text/plain": [
       "|- forall_{t in NaturalPos} (|psi_{t}〉 = (((1 / sqrt(2)) * (|0〉 + (e^{2 * pi * i * phase * 2^{t - 1}} * |1〉))) otimes  ((1 / sqrt(2)) * (|0〉 + (e^{2 * pi * i * phase * 2^{t - 2}} * |1〉))) otimes  ... otimes  ((1 / sqrt(2)) * (|0〉 + (e^{2 * pi * i * phase * 2^{0}} * |1〉)))))"
      ]
     },
     "execution_count": 12,
     "metadata": {},
     "output_type": "execute_result"
    }
   ],
   "source": [
    "_psi_t_def"
   ]
  },
  {
   "cell_type": "code",
   "execution_count": 13,
   "metadata": {},
   "outputs": [
    {
     "data": {
      "text/html": [
       "<strong id=\"_psi_t\">_psi_t:</strong> <span style=\"font-size:20px;\"><a class=\"ProveItLink\" href=\"../../../../circuits/__pv_it/theorems/71c1fc00120f763c694cd99d32f7a5e7315b9ca50/expr.ipynb\"><img src=\"data:image/png;base64,iVBORw0KGgoAAAANSUhEUgAAADwAAAATBAMAAAA+KHOiAAAAMFBMVEX///8QEBCYmJjMzMwyMjKI\n",
       "iIhERERUVFS6urp2dnZmZmaqqqrc3NwiIiLu7u4AAAAqt126AAAAAXRSTlMAQObYZgAAAAlwSFlz\n",
       "AAAOxAAADsQBlSsOGwAAAOZJREFUKM9jYMANFjDgBQmkS/PdT/Nj4JSXwKWbbUM7A8N7uG6+O6jS\n",
       "7Hc4FRgYGbjS0sTSkhgYuP+hSW9j8GHghevmugARDrt71wEsfSjgCJI07wSwbEscTPeBYtYJcOn2\n",
       "/PQAIMXjBzf8ABtDBkL3frAgywGENPOCt2/hobYEIo1w2gEGbe5EOPcmmDS8CwQJUGn2B4XwUPoB\n",
       "pp4h6+YreAvjcX9geAByP7I0gykbjMflwG0ApFgD4IEK5LKawRUXPAXT3jABlg1w94I8nKQApp9n\n",
       "PADTzP5iQPIJRkx15kICFQUAALDXOQj7yj+HAAAAAElFTkSuQmCC\n",
       "\" style=\"display:inline;vertical-align:middle;\" /></a> <a class=\"ProveItLink\" href=\"../../../__pv_it/_proof__psi_t_output/662e44187811b702e57d52fbd39998d1aeb0aa3b0/proof.ipynb\" style=\"text-decoration: none\">&nbsp;&#x22A2;&nbsp;&nbsp;</a><a class=\"ProveItLink\" href=\"../../../__pv_it/axioms/6c6b22261ae63efb8e3a13e4bea9d030e7e831b20/expr.ipynb\"><img src=\"data:image/png;base64,iVBORw0KGgoAAAANSUhEUgAABE4AAAAyBAMAAACwvYMWAAAAMFBMVEX///9UVFREREQyMjIQEBAi\n",
       "IiKYmJhmZmaqqqru7u7MzMyIiIi6urp2dnbc3NwAAACKehgKAAAAAXRSTlMAQObYZgAAAAlwSFlz\n",
       "AAAOxAAADsQBlSsOGwAADR1JREFUeNrVnX9sHEcVx59/3I/d856vIikqotRBUKWlBTdCpRYidZsG\n",
       "UiQaR41JQgVx1PBHVESOJsGpoGAJ2giMyaZJFEQJvpagllbFB21pSENyiAoh8SNXKqT8ONdHRAlN\n",
       "lR8lIr/jY3fezN7M7s7e7vpyt/f+8No7dzuf++7bN2/e7J4BfFh7Drc3Q5RMuUnW0iqc0eZ/Qg+K\n",
       "fy1u2oYipT/8XHff3yqcMosIv7oiIH5bEbfXR0t+SA64728VTplFhf+xgPgP4ibeG/oKuUr2uuve\n",
       "VuGUWZWfXdFNMi0TCD99H27/VWYD7nvvjIb+MdcA3SqcMrP4t6y70FzuzwfCj+Vx+0B11/5o6J+8\n",
       "121vq3DKrMqfarKffFcPgr+ahsP+yOkPn3AL2y3CKR12+iPjJx3ZIPifw01nsYb+G70Ps7Ee5FtJ\n",
       "x0of/fNA2fmSVuGUGcfv7idXkR+BLeyu6QD4DJbX3E3/RMbzMDWag83VWH7a4XLQVuGUGcfs6idX\n",
       "lR+BrfT/tgD4MfqiJeCt/4O+Jk21cmYa6eCoZMRYhbGZMiVdhGwoZ9foN8NyymwJePtJXfjfGXUP\n",
       "EQjMsGGz7h9/IodXyEVv/VXvZEf1lwvFac6sPibxk/YRsplL4+QlZ0cN5eyE8ZCcUoCL3n5SH/4+\n",
       "6HVvmMtjw3jeP/4s3LT1e+vfUfROiVyb4znbjpfZ6BqT+ImCOmyjzR92vKCxnGnYFZJTZjy/m5/U\n",
       "hV/pB4k/ITDDbh/wj38XvXIy3vpv9p5asGZl8hrdPeeEna9fBzGo4SfwNWEUXusInw3mhFtCckrT\n",
       "2Iy3n/jkNyHl/OkB+IJXesOw49O+8dWzdPgZ8tb/i96HYc0JSMjKwFnYAFsBjg0PDxfkfnKKIKfp\n",
       "Bxh3lIAazJnIheSUDvND3n7ik9+ElPMb8eQ+SeI1zWMrZ33jp+hb9pc99Ve9Ux2rubuQvih5zWU4\n",
       "ldsUrxVP2vHSuNUlejSD81AqJKd0ulP29BO//CakB3+vLD+hwLc6BhNeVtXt89Lx8kP8zilHHGrr\n",
       "IaM1mpOQNJNIphP936pUKsYxOkw/jYP6cXO7xuA/9lVK8tLB6pvLPB0tQ60WB9CqNZazo/K/kJwy\n",
       "4/m1aXfAsvR0WfxriJ+kV1Yq5jEc/O88XlVGVGM1j80SEwO/xPuEiwt20p7v5vZds/g2eyDqNndo\n",
       "BfzDef9Ed/X1miGZ8si/NWD8f4N/Hkfv/oe7dCWeLn0ewzrOJ7TT9he3CqfMOP62WWeudQUsSU8X\n",
       "x29C7vjpULEmv6gGAlNsmAKGj31i9ExmndzjuE85V2NYLdMeJ18pwyb3ZlbKUYoK7NtpJFQGv1KE\n",
       "PBShaGyly6MlLP1QumU4LuEf8cv2eUaLcEoron74jY60I99yO11VfgNyJ+ipt4s1+U01zF2bOGCK\n",
       "DWsLDB/9RMPdLtFxAqfQao0p9FraY8eI8iVuNiA0Y5S7CVQjh+p5BmBXuWPI+D2fHoG8uU9WWyvR\n",
       "lV+kW4d5Zq87VqtwShMMP/zGObsDtpddTleV34DcVYZ2NVuT31CDrEzHOGCKzZ199JMncfdBl4kW\n",
       "RqDkeW/+99Aevwzwd9Bo1II/Cs3EjsFJ8yz0/N6Kh5kUJEdIjTNdll6nZkaKdPsxAJ4WLr/U5ORv\n",
       "Z8DZNdRoTpv9bvKI7p+/BPEB0Hqqp8upM4U82pWpyW/GEzNjRjUQmGJzown6yfepE7o4MA6C8Ys+\n",
       "qixGj3PMKXyaZVOjtiKMAXnzc4+Y/pp/zeJf9ZT6KOn8uWd0T/2RbjMBSlKed9HfDfGfLITnTOYb\n",
       "zSna8zooe/3rXIL2jFlMt06XU2cK+Y2u/pr8zE9QDQRm2N0Zho9+QuswHWXZPC017c1/hfZoXDcT\n",
       "IzDfzk+alVnLoLNSMV21QycTX8KfvPNuIt3iSgU89Ue6CeL2Kr3u/kt+Pm20KLeE57T8pGGc4mDz\n",
       "UePHEwXf/CXozppHtk6XqPOWhVkG2QcroBY/8xNUA4EZdncPwzcG1VeGoJgiY13SWfWdQt/TaiwF\n",
       "ncUezfg6MQRjdn7SvG35atcywkM1xmymP9JhzYdVgBZg6ehNI7fX9NCclp80jFMsgmplULKHfOtc\n",
       "MscD9Wz1dAk6KwsfvwsC8Ft+MlYFZtidvQy/BFqyXxmiJR3iLYlBYqjVt/FTJbz5cRaoFdJXSO4T\n",
       "s/Fj82xIux5lrk/9ka4bzynN9wbJRVjWykrWTOVDcjI/aRynYPvgTdhhTEv88pfgVJFkvANuOrcN\n",
       "wCk9AL/lJzEOmGLHBhh+CZ5NDMTL0E+imHOV/AY6l/cuAKi8/kVIFER+bDZ89Ea3N6/wqz+h6y5W\n",
       "IyzAUgIHcPiYkaiF5mR+0jhOwTKg/TJrtvrkRz+5Uj1dgs7dQ9A+FIDf8hNU4wqPHetn+CXQO/Oa\n",
       "WfU3V8ifquEn3RXezH3KGTJhuEzjuXH8A3lQTSk2DA7eMzi4xGpWjXdcgUCGB7f0J3TdmIKf4/TX\n",
       "cOWqGI7TCJ9LF2L4bBynYEWybKh56jzeW+U3xp0idF2iHdl1njDeUQyAbfkJUYMCn3P6iZH4a6Dk\n",
       "4TtsiBKs5rizjL9OzeMbM2k2cAp+rp4/efLtYPrjwS39x5z6k3ieADhx2HT1sJxCPGkIp2BZSE/m\n",
       "zFYPfqx8sXhiHNycQY+5xZOJH548qQfAtvwE1RD9hBt3YB38B1L6ifsP05RXyE/oEok27SuewweN\n",
       "mbRuJeLiuHMJwpml/3znuL8A9U8XUwWifzhOcdxpBKfNT07AXvQTX/zGvLgH4hfAMa/EcScfDNvy\n",
       "E1RDyE/4PBYehjXwF7PEB1ZBgZsXY/0k5T2vT9N5hLmAtK5ahxkVmtfr1ppTKP2Rji5hnOUKBurI\n",
       "CwB7u0ZCc1p5bMM4BXtWLUKq8CffOpfMVcZELzjqVKQ5cS9AOYyfHOWA2Xwnw/CND/dauRg3XmuV\n",
       "5HzU2VRr3KQj3SXaY2xE+Wy1rjsqNG//9J8fCKu/GdY0bomKLrPR+LjXiJipMTfOKQJai5P5ScM4\n",
       "SWZgphzkl9RfjR+7i751NjpaDtty1dMl6Kws/crL+YB+QsLYwSoww6aDJ5B6rHr9R/YZOVA/uCx4\n",
       "wGacEiTFhSzHUuVnaI/Ko7/KOedr2AwbzuRD6k9WfpFuggCpyKNgwtlu1q+uC89p1U8axrmMpRwk\n",
       "RTDrbFt03/xGRzuOvI87XaLOiZWfDDju4Mr0QBWYYpv5MsUvkXhoOnXmxy4LqOz+KnZbG7Wn7S+b\n",
       "xzyTfNisnX8ezMDYrQ9Ih3f20VvA2bLZQzn1NzPgtPykYZyixffA8wF0Fjuaqc6iGgjM7rAX1wFT\n",
       "OlnKOET82mbVyMPb++0vW8/32F62r0+tr4f+SIc3T2gYCtiymTK6W58Bp7UO2DhO0X706vfAP7/Y\n",
       "0Ux1FtVAYIrNrQKXgM7c1a/nFJeb4WJ03/1COtULx9YJd/ms1bketzqzHH3m+lO6OfihMpJlJztn\n",
       "enheLoqcMvOjs9jRTPlFNRCYYnOreySe0HekXMp47DmBWcKCRMFItacK3J7xEa5HZ2gdH5m5/il+\n",
       "AkFnE87ypY3TSOK1y1HklJkfnUvS0xWGX1QDgdl9cdUq6x7eJ9yGzgsunroV2srQ2c8nXObwlMqx\n",
       "OrTd2rMz0H8PT0efeaWPvHb2eF5RxiXyAYB7osgpMz8675GerjD8ohoIzJ4opndh+sBnK8wTvKdu\n",
       "hM4L0MbHUv5bAty8rR/qZBoG2zfwr1OOiYmNExbrcEM5gpwya7bOb/DY6Uv+8V2e81IGzEXJNn6q\n",
       "r3jfAKpcrpf+najjInr1OQpKNk6YbQTPXAQ5pe9rss6LeOwAz3mxFDrBeapGRq/Yaacf1nDTOthL\n",
       "GCspzWxHu5MTVkaRU2ZN1hmBGXbbgH/8A5jmdFFP/QGw+s6EEIw6c96XSa5O+i/ir1aXpRgnp3hr\n",
       "clQ4ZdZknRGYYbOlIj/47BZ9fM4gZS5ovUp+XSKOjL3eA2dvfeRP4XFeFJNs3hycsUwkOWXWXJ1f\n",
       "5LFZUu0LX5zw/GIqx+56s+XAt3sf5vb66I9fcse+WjCWkU0YqpzwcDQ5vSc8TdIZgRk2c1F/+OL3\n",
       "bo1n6Jd/rLK9bLt3rrO9XA/5leV4MBoXPb53y+KMZ6LJKY38zdQZgRl2oO/dsgWfxDQ+I54skgdc\n",
       "OFfs8/bUvnroT2/oY7clzpHHP8YJYyA+rhIVzhrxuzk63yhgs6qsP3z21SufQo5zeBfVCwC2J5aO\n",
       "ex/meD30/wlerQXq767jpshp3tqhR5JTZk3UGYEZNhzQg+CrdLTahZflx3TTY9PLhocHoMkWG3Hb\n",
       "K3DCW8PDG6LJKbPo6Lw8GP6vaQqPCdWB3eYEKFapVHqbrb/7F2oLnLCyUjkTTU7pVCkqOgf83nLb\n",
       "/0HoWFCGaFiXRMBW4ZRZVPj/EBT/DpqokPiTfDci8sPPJIvorcIpTQijwa/2BcUX/0/T/IjIr0gz\n",
       "+1bhjDb/Vp3D/z9GnyZz0opwyAAAAABJRU5ErkJggg==\n",
       "\" style=\"display:inline;vertical-align:middle;\" /></a></span><br>"
      ],
      "text/plain": [
       "_psi_t: {t in NaturalPos} |- |psi_{t}〉 = (((1 / sqrt(2)) * (|0〉 + (e^{2 * pi * i * phase * 2^{t - 1}} * |1〉))) otimes  ((1 / sqrt(2)) * (|0〉 + (e^{2 * pi * i * phase * 2^{t - 2}} * |1〉))) otimes  ... otimes  ((1 / sqrt(2)) * (|0〉 + (e^{2 * pi * i * phase * 2^{0}} * |1〉))))"
      ]
     },
     "execution_count": 13,
     "metadata": {},
     "output_type": "execute_result"
    }
   ],
   "source": [
    "_psi_t = _psi_t_def.instantiate()"
   ]
  },
  {
   "cell_type": "code",
   "execution_count": 14,
   "metadata": {},
   "outputs": [],
   "source": [
    "from proveit.logic import CartExp\n",
    "from proveit.numbers import Complex"
   ]
  },
  {
   "cell_type": "code",
   "execution_count": 15,
   "metadata": {},
   "outputs": [],
   "source": [
    "#InSet(_psi_t.rhs, CartExp(Complex, Exp(two, t))).prove()"
   ]
  },
  {
   "cell_type": "code",
   "execution_count": 16,
   "metadata": {},
   "outputs": [
    {
     "data": {
      "text/html": [
       "<span style=\"font-size:20px;\"><a class=\"ProveItLink\" href=\"../../../__pv_it/_proof__psi_t_output/56c124db25fa4edae1427e578badd12738dccc4b0/expr.ipynb\"><img src=\"data:image/png;base64,iVBORw0KGgoAAAANSUhEUgAAAD4AAAATBAMAAAA63aOfAAAAMFBMVEX///9UVFSqqqqIiIi6urru\n",
       "7u4iIiIyMjIQEBCYmJhmZmbc3NxERER2dnbMzMwAAAAssMphAAAAAXRSTlMAQObYZgAAAAlwSFlz\n",
       "AAAOxAAADsQBlSsOGwAAANxJREFUKM9jYMADFjDgBwfIkWfNP1PKwNvfglM/j4IjA0M8bvMZs3kn\n",
       "MHAwcJ0503PmJDZ5HYZqBjZM/TZpaQVg+Z0G27HIu5vC9G+QY74Al+e7w712ApDmLoWbv4GH4Qhc\n",
       "npdnLW8DkGbfgJDnWxAWBgu/newJXBdA8gj3bWCYxHQCxnvKPwFMv0gDggNQecYACbhy/wAwFYOs\n",
       "n1UgDM5dBqHYkOUZHvPAubkQitkAHr4PgLw3MB73FyijCCbCrgAklsN4LAlQRuARiEP46nuAZDhm\n",
       "uPseg4QvCgAAhkw2IJ2+xDsAAAAASUVORK5CYII=\n",
       "\" style=\"display:inline;vertical-align:middle;\" /></a> <a class=\"ProveItLink\" href=\"../../../__pv_it/_proof__psi_t_output/0f4e8ffa6c2c70c8a8c1689587bd51519efccea80/proof.ipynb\" style=\"text-decoration: none\">&nbsp;&#x22A2;&nbsp;&nbsp;</a><a class=\"ProveItLink\" href=\"../../../__pv_it/_proof__psi_t_output/0b48052119c7660062ff71076d8896d862ec60660/expr.ipynb\"><img src=\"data:image/png;base64,iVBORw0KGgoAAAANSUhEUgAAAWAAAAAyBAMAAACQfhw3AAAAMFBMVEX///+6urqqqqpmZmbu7u6I\n",
       "iIgiIiIQEBDc3NwyMjJ2dnaYmJhUVFTMzMxEREQAAAC0ii6rAAAAAXRSTlMAQObYZgAAAAlwSFlz\n",
       "AAAOxAAADsQBlSsOGwAABl1JREFUaN7NWm1oW1UYftvcJDdJbxKQIVOhRVGxf5qRsTEZ7qrQ0TKW\n",
       "iMKUjba0GicKK0NU7OrCJrNVXMOsOJxI2A/BCVtA5ih+ND/EDtR1ULBMkGRu7Idu4mqLbeeM95z3\n",
       "3JtzP3JumlSaM2g+3vc89znveb/OyQC0Eb4IDTN2qlUofd84fEF51l2nJbsS7f97POCuMqG/2bFl\n",
       "fu0JB/NuGvJrxltvAxCGF90UfMnGIvygW9idAzFhT5twuou4iiGN05cuRjQQc9F/3YXwVvH0rfXb\n",
       "9CeVj/imRbE2T9KJcCgjnO4irmqEMM6+Yh8/cnHhvJjwrNilZtVVcNtf6d8wc64OMWThopjwh+Jn\n",
       "OYu/dvz28y/POoNspxSll/FTIil84hQICTeLE4culk79oDrHBSe6P3uoQuDm+XAI91WKTop0QEzY\n",
       "lxU7FBN7wFPpMUQkx+PxDZV7FhnjbCyNLr0oQALllphwwcWhmDgSlW9XUCmL/BVhfkPT4uqlWyIk\n",
       "L7+coH1tF4gB2HsHA13QA12lrI6USiViphPkuxxcGiqLSOnnjWrCxFoQGsTvDlTKJgQpPMh1QVNL\n",
       "tsaNrDYYxfc37BhlYwQ1l5A2vhOkHwjhprR8/pIhsrUMJswxmiDkOfzumt17T7/w/rtZiuQviru9\n",
       "RQZ+6sk03Ocs1rO/lJXg6W4NPasR7gYvBLV/3UZhsBMmpQIxfVjdBlB2xqa9Zwge/zdGkRLiQhj6\n",
       "E8EDbdJe8DmLcYuvgqJ1UcUZIK8nYDbthUMa6dk0ETkSps0hYnqw/GxB2WTUGm1PaNb9JkaRCuKk\n",
       "15JB8C8ATkNQbxuacryYjsMwQmgX7zFcogWScG9Z5GBhEuOI6cWF97JItnKaCWt71BKjSB3i3sWf\n",
       "R/DrpADJuvs0J3kxNfCNXzYSUyTvNAiHfszPZMuiCoQRsxnDsgND0Nj1nlSKWuTbMPHjHEWaFJ/n\n",
       "IlkE/0tbdxsctxKmYmlqAPylEjFSQPWpOmF46O/LdFEoqkAYMRUMtwJaL8LMsP4pplw8DAZSb1pM\n",
       "OEfBJUI4B+02wkS8vf+c4ykhJPI2g3A7l3oT6GoR3El5XN++/M/liWfEhYHmm2BUXqae5bMSpuLv\n",
       "QHas3+G2aggj5gIyRVw/RkZAt6WSvbs8cZtLJeMIZ8ETtRCmYs06vzuWbbUawoi5XPYwbSLm7YCR\n",
       "gWLryhOn8aVkGnR76DJbo+gSGmBrEhSy9Z5U6vlXUqm8Lla0CcsraSYTGZ4wxSQxQghjtPmwmM2m\n",
       "tEG9o/i2jbCDfWKchQmglk+asw4WVuZGRt5cCWGKbBBGTCfCO40ZV8MrdQn4Q0vnquFVZpdYqOk0\n",
       "rxNGTJMPM5co16k7SB4G9Mcz4iwxhlmCdCdaGTpqCzoi3qwarUwNhI9yPUkkxwedN1mudHmjGvaa\n",
       "83DB8GGu+9fAfW3SMMBJK2Eq7hxa91xNhGlzeJJre7AHMsrRMUO75730Y6zRsBQOa0PmZ/4mPbxH\n",
       "U+yzVTrqdJuWkrUQxuaQYio30VxR3pVhx2XV6NYODjBX6DA1Goq1dwsUuVawOWYlHCjWfCNlwmQn\n",
       "LXb8TOinnLuupWyH8kLO1OvY+qRBDjyctjY/nsF6CSMm65g/qdD8mGqvqb0cBTn+Me8koXkOvMte\n",
       "fefrJYyYYfTa62zXRSXSZ7L5Bi1ogzf5Vn+OA99tPwnM1Ut4N58e2PlF2N+08JsqZeA8wKu8/ArJ\n",
       "L8zmDi3OlVoJmzFb0/wl1bTwSDFvvtg7qMJ02vmq0OUmsZ7xKVqd7fYbwkMbv6mdpPWCad6JE1Fx\n",
       "XxBdFcL7MUmi78ri0smfqT+jf/eZfE182RfMrAZfL/rlLhBfpODYzPIhMRUmcfMCh8XPGl4Nwsy0\n",
       "+1lY9QmVW3FTd2X04u0zx9aE+FkTq0H4GbQz261I0r3ZA6X7tt4ePWKpdTnhdBdxVYP9yvIWC/ZJ\n",
       "cQPJ0oT0D8BZ7na5nOr2Cqe7iKsandQjpH728SUXdXY1ui0N9M6+HWRz3h4VL3i0/httPGCF2V65\n",
       "/WSg78BYjPb+Sha8Zgqy+CJArvt3Xwmj6FH97Jp30Q9gbxSeDxCiR+LxTbCmo9VtyxR0+aYFei+3\n",
       "r1RaWlvC/a4aPfjywXFohOH+063+43hHviEIr69C55j5omVNhzJehVIj/QePLpeQ+w/7k7xhe6kQ\n",
       "nAAAAABJRU5ErkJggg==\n",
       "\" style=\"display:inline;vertical-align:middle;\" /></a></span>"
      ],
      "text/plain": [
       "{r in NaturalPos} |- ((1 / sqrt(2)) * (|0〉 + (e^{2 * pi * i * phase * 2^{-r}} * |1〉))) in Complex^{2}"
      ]
     },
     "execution_count": 16,
     "metadata": {},
     "output_type": "execute_result"
    }
   ],
   "source": [
    "from proveit import r\n",
    "from proveit.numbers import NaturalPos\n",
    "InSet(_psi_t.rhs.operands[0].body, CartExp(Complex, two)).prove(assumptions=[InSet(r, NaturalPos)])"
   ]
  },
  {
   "cell_type": "code",
   "execution_count": 17,
   "metadata": {},
   "outputs": [
    {
     "data": {
      "text/html": [
       "<span style=\"font-size:20px;\"><a class=\"ProveItLink\" href=\"../../../__pv_it/_proof__psi_t_output/56c124db25fa4edae1427e578badd12738dccc4b0/expr.ipynb\"><img src=\"data:image/png;base64,iVBORw0KGgoAAAANSUhEUgAAAD4AAAATBAMAAAA63aOfAAAAMFBMVEX///9UVFSqqqqIiIi6urru\n",
       "7u4iIiIyMjIQEBCYmJhmZmbc3NxERER2dnbMzMwAAAAssMphAAAAAXRSTlMAQObYZgAAAAlwSFlz\n",
       "AAAOxAAADsQBlSsOGwAAANxJREFUKM9jYMADFjDgBwfIkWfNP1PKwNvfglM/j4IjA0M8bvMZs3kn\n",
       "MHAwcJ0503PmJDZ5HYZqBjZM/TZpaQVg+Z0G27HIu5vC9G+QY74Al+e7w712ApDmLoWbv4GH4Qhc\n",
       "npdnLW8DkGbfgJDnWxAWBgu/newJXBdA8gj3bWCYxHQCxnvKPwFMv0gDggNQecYACbhy/wAwFYOs\n",
       "n1UgDM5dBqHYkOUZHvPAubkQitkAHr4PgLw3MB73FyijCCbCrgAklsN4LAlQRuARiEP46nuAZDhm\n",
       "uPseg4QvCgAAhkw2IJ2+xDsAAAAASUVORK5CYII=\n",
       "\" style=\"display:inline;vertical-align:middle;\" /></a> <a class=\"ProveItLink\" href=\"../../../__pv_it/_proof__psi_t_output/8070302483eeac0c5dd4066ea7e64e7e103d02fd0/proof.ipynb\" style=\"text-decoration: none\">&nbsp;&#x22A2;&nbsp;&nbsp;</a><a class=\"ProveItLink\" href=\"../../../__pv_it/_proof__psi_t_output/c313afb7ffd7efa6c3842e0f693b59ce031f06a40/expr.ipynb\"><img src=\"data:image/png;base64,iVBORw0KGgoAAAANSUhEUgAAAWYAAAAyBAMAAACdYGxwAAAAMFBMVEX///+6urqqqqpmZmbu7u6I\n",
       "iIgiIiIQEBDc3NwyMjJ2dnaYmJhUVFTMzMxEREQAAAC0ii6rAAAAAXRSTlMAQObYZgAAAAlwSFlz\n",
       "AAAOxAAADsQBlSsOGwAABntJREFUaN7NWm9oW1UUP21ekpekLwnIkKnQojixX5rRsTEZLip0tJQ1\n",
       "ojBloy2txonCyhAVu9qwyWwV2zArDjc09IPghC0g2yj+aUCxg811ULBMkGZu7INu4mqLbeeM995z\n",
       "38t9yct9b0mhuYMm751zf/m9c8+/e98AyAhegqoZO6PO9M5XD2XQXnCkVpfSv/0cXXvSGxxpTfBP\n",
       "5fvPqoCzP+NASX3T+NpVBZzhFQc6nlh1cX7EAYmzIOfsapBOtxE7GMoY+2jlP+6L2E95y4bzNvn0\n",
       "bZVbFkNfzxg1S7YT3AtyzoGkdLqN2NEIYNh9wy+PS5VHCEdPRs55Vu5es6sRAr+xv0HuZU0ySG0D\n",
       "kc5dknP+RP5z1uJvLe9+9fVpa5Ad7HeV1/CqIyZNGUR3CqScaxeklHWxcuJC1DpGBNHDqYMl4jgj\n",
       "hkawu1SwUiTK+YCcsyclT5Rc7AJXqV+iIrW5uXlj6b5GxbAbTaB7L0mQKGfttpzznNxfdXEorN4p\n",
       "oZIXeUvC/I4GRgMot2VIhLNbfKhTiSK9i9QM/LuFmS7qoR9lxA7ncjmKcYzeS8Pl/ryIjHbRtCZM\n",
       "rBGBPrx3oFR+IUjarnEI9uXvXRg8ni7Uo8/sD+P3m8UweZP4iW8om973swvKuSahnrtsiIraChPm\n",
       "KEsZ6jzeu17sySdf/uiDlI7kzcpbwyWOf+KZBDxkLdYLg5JS4Lk28gMpwrkN3OAn/9pKtIsUk1YR\n",
       "xPRg7evly12kvacfnvovoiN1yCtl4C/E9zUoe8FjLca1vgYaabayM0A/j8Fswg0HCe/ZBBVZcm7f\n",
       "SpIOYrqwMm1F2WS4MPieJjb+LqIjzcXkvXUS8c8AnAS/3lrUpEUxG4dgiDLPPmD4Rh3E4MG8yMLO\n",
       "tAQjphufvQusOc0EiX3rIjpSk7zF8WYQ/wYtT6ruR7UxUczMfPPXTdQgsXsNzoGfMjOpvKgEZ8Ss\n",
       "xShtwog01r4zHmdG+SFIfTqtI03K94KhFOL/TZ6+AY4WcmZiZaoXvLkcNZUv6onqnOHRf66w50JR\n",
       "Cc6IqWH0zaEBQ9wS65/lytlDICJ1JeSc0wxfoZzT0FjEmYp39Jy13FsEZG5ncG4UUnIH+lwI11Md\n",
       "0xcx84tp7il5zWBJyB9WV5iXeQo5M/GPoFoW+GCDE86IuYhkEdeLUeLTzaml7jfN3W5T5wTOKXCF\n",
       "CzgzMbHRH6W6GXvOiLmSdzUyEfO5z8hJkXWmudP4kTMNtk7sYevD6BsEsz4GGvUBVzz+0uvxeEYX\n",
       "a2TCyt10nh1JkTPDpPFCOWPwebDOzcbJYG6Sfc+Ks4WVIoKdKSbJMLUpCztr80ND79wNZ4ZscEZM\n",
       "K847jRnXgmX4BvxJMkzU8DCzbyyWdSSgc0ZMkz9z38iXsHtofoawpC0yxSDmDdrEkCI1UhSDVLwl\n",
       "anQ8ZXAeEfqWUFqMQXcsXwczRq2kuc6cn+cMfxb2DATf06AMAIwXcmbilv51L5bF2U+7lXGhO8JW\n",
       "yahURwztzg8TT/YaVwU1pbB183LfUx7bQxS7i+ogc8DNy7FyONdNLZ/nmNottFhYdGtovxI1+rrB\n",
       "3rxDNJn6Ea2wy/Nlhb6xNlLI2Zct+4jLhMm3aHz32qHvje67Hrfa1s+ZOua6oo6qT8APJgp7JFdf\n",
       "pZwRk3fYn4OTvs1YBxzDoDZ/KnpLYEHAby0uzwuVckbMIHrwDb72NkdTHpPxN5Iw9t8SNwjzAv7u\n",
       "4v3DfKWcd4sJg+96bHogqBNXV0nCOYA3RPlVmnS45S06oavlcjZj1ifEU69pu3OnBfN54WAUphPW\n",
       "J5A2B5SVjC/Q9nzN37bR1sTVbaFNGkyLDt0RlvcO4VXhvB8zJ/qxaltYxY35l+zvPpPfyc8Q/cnV\n",
       "oOxGB90F8jMZY2zheZIaDPO7+TEH5NMHVoMzN/B+HmLddvr1uLq7knqB95hDbUI+fWI1OD+P1uZr\n",
       "FrKtqthzam139Ebq8YJKmJZOtxE7GvyNzrs89idtj4d54lD+BTgtHGDn899e6XQbsaPRwlxD6eGX\n",
       "r9rP4Oeu2xPAXg40gmpO6cPyxx6u/NAcd2ZBvmIO3k3oSzEaYTsGLQVuMwtVfpqgVvziWcGIekLf\n",
       "+mbsp/iwiwou+CjXw83Nm2FNR72DhdMwAmoW2XHfvlxueW059zhR6sSPj49CNQxH7471d/RNmarg\n",
       "vN6Z2hHzsc2aDm3MmV41/Z+TVvsI/B/bbL07rN64wQAAAABJRU5ErkJggg==\n",
       "\" style=\"display:inline;vertical-align:middle;\" /></a></span>"
      ],
      "text/plain": [
       "{r in NaturalPos} |- ((1 / sqrt(2)) * (|0〉 + (e^{2 * pi * i * phase * 2^{-r}} * |1〉))) in Complex^{2^{1}}"
      ]
     },
     "execution_count": 17,
     "metadata": {},
     "output_type": "execute_result"
    }
   ],
   "source": [
    "InSet(_psi_t.rhs.operands[0].body, CartExp(Complex, Exp(two, one))).prove(assumptions=[InSet(r, NaturalPos)])"
   ]
  },
  {
   "cell_type": "code",
   "execution_count": 18,
   "metadata": {},
   "outputs": [],
   "source": [
    "# InSet(_psi_t.rhs.operands[0].body.scaled, CartExp(Complex, two)).prove(assumptions=[InSet(r, NaturalPos)])"
   ]
  },
  {
   "cell_type": "code",
   "execution_count": 19,
   "metadata": {},
   "outputs": [],
   "source": [
    "# from proveit.linear_algebra import TensorProd\n",
    "# InSet(TensorProd(_psi_t.rhs.operands[0].body, _psi_t.rhs.operands[0].body), CartExp(Complex, Exp(two, two))).prove()"
   ]
  },
  {
   "cell_type": "code",
   "execution_count": null,
   "metadata": {},
   "outputs": [],
   "source": []
  },
  {
   "cell_type": "code",
   "execution_count": 20,
   "metadata": {},
   "outputs": [
    {
     "data": {
      "text/html": [
       "<strong id=\"consolidation\">consolidation:</strong> <span style=\"font-size:20px;\"><a class=\"ProveItLink\" href=\"../../../__pv_it/_proof__psi_t_output/eef8105c3f71fab31c5cb1b5be2d1c4733e153ef0/expr.ipynb\"><img src=\"data:image/png;base64,iVBORw0KGgoAAAANSUhEUgAABEcAAAAyBAMAAABMqKjcAAAAMFBMVEX///+6urqqqqpmZmbu7u6I\n",
       "iIgiIiIQEBDc3NwyMjJ2dnaYmJhUVFTMzMxEREQAAAC0ii6rAAAAAXRSTlMAQObYZgAAAAlwSFlz\n",
       "AAAOxAAADsQBlSsOGwAAC8JJREFUeNrVnX+MFFcdwL+7O7s3+2P2Nv5IjP2DNRVj6B8soK2oSdcS\n",
       "qRDiHcQWrbZseni1Bu2lEgTFMgk2AhFuUyAl1rSLKU1BCtfEppIQWSOR2Na6sVaUtL1rbWqjbeSn\n",
       "uXpc1zfz3puf772ZuZnl3n2Te++Yt/d9n/nmO9/3fT92AEBS7oAp74JMorzJa5krnFLzU+yw+M/j\n",
       "qjQmlfHhr3X29bnCyRNJ+Cl2OPxSC9fPyWV7SDfY1+cKJ0+ekws7HP4JXBWb9IK2Xo7bOMq8anNG\n",
       "foavKSdPpLHz0Qj46mZc/0QnF1YtvSyHk+SYcdniVH73WF1iTp5IY2eKHQY/N4jrb1pXspI4SXoj\n",
       "66rNCevqEnPyRBo7U+ww+M+SKDginZPAXla0HpHOSZic3NFGHjvvDY//A1z1tQLgF4vVLE4Ce0Xd\n",
       "LpHM0/0fcXCyneTacSr7BJw8iWnnTDV57GB8SuowOBM+0xbDt5MwPk7lrIQuz1DqdAyWk1xDTitx\n",
       "zkdQGtPOn+8BdjB+jnxiA4jhT4SaIgUlyTXyyx7OQHHSUaLRkgGyAcROkihnav4iEWexzefkSTw7\n",
       "O6Z2Inlwvh4BW4y/Hf2M4+VWbVoMr4mzGy1c7lYkSbL2CY6TlKt2iQLjFX9H02InSZazDwZEnPAG\n",
       "l5MLEM/OZ8NlYfugGQFbjP8M+jmDfy2NiOHzLSEVu7nY8Vy4nQ64Oc7NKhvtEslbvg84OVlOkiyn\n",
       "CmdFnHBrncfJk5h2/hmE4VdGYGMUbBF+dgg51lbyzLTF8AvFLkybVx49zUkyzaYcBDgJGXPpyHvK\n",
       "FzWdnCwnSZgTXhdy0gTiVOjMNZ6drYFBzK824DtRsHn4ypEX6tBA4W0K/3t8TAz/bfG90+Ya3Mj7\n",
       "iNG0Ag1xS5YsqfCdZFS3S4AB3zqPk5PlJAlzZjpCTnWSx8mTeHbOtULxo0iyOQo2Dz8DmYaCBq4s\n",
       "+fw6XQiviVMzq/kCjPLMajRdXwyKJOWWXXriho+T4SRJcz6eFXLCv3ic3MlNLDuP18PxNzk5CQeb\n",
       "h99fUafTtTEokzHyn462wqR/KJ1ABbk/DdjNhvzKhFfv63YNHXnDQ4ugPTxGmrb/mqhY+wv7j11q\n",
       "8VoTXXEqN7w9OTnhuN5jznz3v0JOuhLp5+RJPDu/COH4H7xBj4LNwy/W1Wn1czr0EbM94AA9897z\n",
       "Pp8yuj9IVPp9uN+OV0+gn2VfGjM91oT/CPx0d9NqYohLrXrRLpEZz3s/7OCEF7b9fGx2OWG0yuHk\n",
       "STw7T0F0/hDYfnzl2L37dyPdBdN9BvCKgHIpYCjVcXeFQ5+BdI3dTNdrVkI9+2PUwUoEr7RgEFrQ\n",
       "QjV30/MgXt8haoccJRQveOEl48zV2Jw8icevTUJ0/hDYfvxv/BCWvV+j627jeEVAC5jpnyLdPQTL\n",
       "dWiwm+kq2Vkdyhrq4KyeH9M2w6BahUFUcxfQDpL9XKx2qaP0Y8nGmWmGwkqIv3h+BvwhsH1UmdXI\n",
       "2X5TAxUfW1uIA0/6ohj+D7i7YgMKE2DlE9e5mvFSpWo8C3tSbSsMtrOQrtpN7CfUSEGx2nWO0nrw\n",
       "skeOfEVKzux5NqdH7jhyqJ4Af6k5A/4Q2L749lIZ/UGpBtthh+m6eOArTovht+Luym1jqr6HXp3v\n",
       "ajYd/NWXDGt8OjViwZ98Rfuso4lvfKx2YccuAa5iT0eW/2JFRs70NJvTLS/XQVmdgJ3tWUgE/mBs\n",
       "u86+NXyvUZ8uG64zpr776qccU7LspBj+f7i7/hpoFyGve41vNq/aVINt3S5eFl5vwacfe8C0G2ni\n",
       "Gx+rHa/aJcD7ZvkaalFel5FTu8jmdI8xb6Piy5X4/P2tGfAHY1t1aj9xr4nt2Cm7XTPkHMeXCwFb\n",
       "VFO4O5TmalOQbnmNbzQrm27Yyl38Fwm9C6wWL+zQ5Z0teH3oSZTJF+oScipTbE73CF/QQak9Ht/O\n",
       "5twnKn8wtlXvJOhq+5xLxc34ekYMj2dOB2G0ZSY5DQ+82VxqwCgzTr8R0vhYbf+gXQIMm4+fXtCV\n",
       "mpG4S8cJV9icLvkqPAnL0CQkNr85c43KH4ht1wdo6Gtd51LxJ5ISiSf6mgMeRcRFHnizGbl5mbm8\n",
       "uz6s8RfZIbWfWPoeEw7gKRT/2hJy4vHBz+mSNhT+VjNa4/KbY0VU/kBsu25aafGHBU7S33WKcU15\n",
       "zxysLpAw2IIUcsJXjH/dODz8/eHhDVbzOPqLFkSSgabrLky1/TW7JPQFvCXVmjVOrJzFCZfYnC5p\n",
       "mRtrBYedXfhd2xQB/PMqkfhDYlu1tml4ePi7Zk6yK9pwM+T0cNSFMYlbwHpCxz+5Y0c9mvHxmo51\n",
       "Fwv8TjKM95lg11PGztVscWLlLE5qbS+nS2qgHukYrQJ+bIoAfjOSROAPh23VCt20gDfLwNj+KEyG\n",
       "CoPlCShetscudxgfhJmJdRcH/DnJFmx8tZWtmMaXjZMO7l5Oj5PsgtXYSeLx4+FmMGFsu7ZW7z5o\n",
       "rJOANZlfhxcksuL5u0qy7uKIsVinTngTQqM5s9HaTJrZXWC1eHuFbrKYebxWRcn26lRVQk66m+Ll\n",
       "dMmftRZkKx+Ib+fRsRnwB2Lb9W32imvbWpblLqZp1lhPRrcrpLu74dYOFKoeeLNZuefp2wdnanwj\n",
       "oGG1o46ShkVjkTi7QEZOuhPp4TQzDKMw04LsR1GxpsXgPxeNf2BwBvzB2Fadt/z7rr36LUOWioU4\n",
       "pqTdWzy+Dcjvke6WHfoj2Oe25ruaM/ftn2kYN/dzsdrxil2CgrPwsrFIdVpGTu0Ck9PMMMzCtLSx\n",
       "mLaqzuD3vV9AzN9XmwF/MLZdv/gh6q3Htg3Z4YqclNKmXIpf8/b0KPVJQ673Gf9RiCFutfj8HjnF\n",
       "R3eenuloX5eSk5wn9HG6pXgnvMyyszYRjT8/0Rtsa4MvdQwvy3uETiPcWzy/9X7sJmd3b3s3nnBz\n",
       "XONjtU84Sms/TJm/pi4lJz5vweB0yy23fRwY/KVKNP7MSG+wg7YdcyQ7cTmQ2oTtS12h8FTd7k7x\n",
       "H407VY9vfKL2HUfJ2OqQjLPc5nDyxMW/E6LxFy/3BjsInx7xP+PabKigVPi4080HqnZ3Wf9630A1\n",
       "vvGzzrx7ircQLBknmSyUQp9Mc/Evgmj8ysXeYAfhU+d0PWMroKRDnzO2lY1R6U6i0q+lXIthfJfa\n",
       "1KRdokxtQhgLZp2Tfo22L3Sy4ORHD3dE/n/0BjsIn24ajzufscXQdxlKzhhUFI+GxRFISApNu0QT\n",
       "Nt9cTy5OOMzj5ImTP1ONyv9sb7AD8RlfzlIaxlZjyTmlV8SHOJULSRm/r2qXQV/Omn1OuJ/Hyf07\n",
       "B/9yiMo/UOkJdiD+Tf7EuWCOWDnXQHVYrOVwUsZf6ygBfu9rl4szO8Lj5ImT/5cQlb/Q7Al2IP48\n",
       "7Jwp4sIfA7qIM+6KQX0dsYd2EjL+/U5PB/+xYbk4acQL/4Vxwp82rN6Izv+jnmAH4pPT9eSsfdbY\n",
       "6sFL+Bvco7nYh4vNZGyfbdole8onEyd8LfrUFPOvNb48ORid/0QvsIPx3dObvxzvEA/PeDLeR8Rq\n",
       "HknG+Pitc/Tdc7k2b3ogByd9JyGLUzi90VZO00AYjT8/1gPsEPju12ENtMnLOU56PrZcnNws15Ow\n",
       "vXK3XYLwdVgycMLyKp+TO+CZ/MpVeiY1Gr/yrR5gh8AnM3cSUTKT+Mvc6Rb+yoUl6j6hloDmkILP\n",
       "5Vmn897hRz4ZOOHfAs6AyH2zjo8bRuXfWU8eOwQ+fW0Kfj+KegmfYDoH4Pma0W6xmt1JGP8LjhIl\n",
       "ecyxUh5OpSLi5AnmH63h0+tR+dVO4thh8DUyQp3FQec/dcOV1aElSxowy5Krsq7OFU6eYP7y5Xx9\n",
       "lvkpdij8u0jmizOoeWvMsxDdbrc528Znv896rnByZxgmf+qKuXU/m/xRXhvu+Q8I8lt0kENSHOvN\n",
       "FU6eYP6HD0iCHRL/IZKcmGEnfVUS28PfOTnaXOHkJoEm/8K2JNgh8d3/KdIBSWyvcNP8ucIp5M/r\n",
       "cmCHwP8/mgPCsAp2EpgAAAAASUVORK5CYII=\n",
       "\" style=\"display:inline;vertical-align:middle;\" /></a>, <a class=\"ProveItLink\" href=\"../../../../circuits/__pv_it/theorems/71c1fc00120f763c694cd99d32f7a5e7315b9ca50/expr.ipynb\"><img src=\"data:image/png;base64,iVBORw0KGgoAAAANSUhEUgAAADwAAAATBAMAAAA+KHOiAAAAMFBMVEX///8QEBCYmJjMzMwyMjKI\n",
       "iIhERERUVFS6urp2dnZmZmaqqqrc3NwiIiLu7u4AAAAqt126AAAAAXRSTlMAQObYZgAAAAlwSFlz\n",
       "AAAOxAAADsQBlSsOGwAAAOZJREFUKM9jYMANFjDgBQmkS/PdT/Nj4JSXwKWbbUM7A8N7uG6+O6jS\n",
       "7Hc4FRgYGbjS0sTSkhgYuP+hSW9j8GHghevmugARDrt71wEsfSjgCJI07wSwbEscTPeBYtYJcOn2\n",
       "/PQAIMXjBzf8ABtDBkL3frAgywGENPOCt2/hobYEIo1w2gEGbe5EOPcmmDS8CwQJUGn2B4XwUPoB\n",
       "pp4h6+YreAvjcX9geAByP7I0gykbjMflwG0ApFgD4IEK5LKawRUXPAXT3jABlg1w94I8nKQApp9n\n",
       "PADTzP5iQPIJRkx15kICFQUAALDXOQj7yj+HAAAAAElFTkSuQmCC\n",
       "\" style=\"display:inline;vertical-align:middle;\" /></a> <a class=\"ProveItLink\" href=\"../../../__pv_it/_proof__psi_t_output/ffada8c50c52b5f951145d02264a3281a650ba8d0/proof.ipynb\" style=\"text-decoration: none\">&nbsp;&#x22A2;&nbsp;&nbsp;</a><a class=\"ProveItLink\" href=\"../../../__pv_it/_proof__psi_t_output/a4e5815897d43ea4999b972f4edc4630db80a25d0/expr.ipynb\"><img src=\"data:image/png;base64,iVBORw0KGgoAAAANSUhEUgAAA0gAAAETCAMAAAA779b0AAAAS1BMVEX///+/v7/f399aWlp6enpR\n",
       "UVGTk5POzs49PT1GRkbc3Nx2dnZERESIiIgiIiLMzMyYmJju7u4QEBCqqqpUVFRmZma6uroyMjIA\n",
       "AABlkOmKAAAAAXRSTlMAQObYZgAAAAlwSFlzAAAOxAAADsQBlSsOGwAAFEZJREFUeNrtnWu7qygS\n",
       "RpnpPjM9KngD5f//0om3aBJNQFChfP3Qp/d+ckHXXlZRYsnYc2sbhu3oLRHl/jeDUAwslcShOWFL\n",
       "9x9mEIqBZV2VODJnbFWx840gFAPLcjdfbHZbo5Nd7wOhKFjKdnemuPbLnO7BK2vHD5DZvrftJnQ3\n",
       "RM6EHFjmevc8Nl17Z+YDk7502xhUoTPH3Ur0HtAOhKgiOoyQA8u29UupVj4oXXla2/hypd1n/JnY\n",
       "8SYHQkQRHUhoN8va9+mOCZoicR9nu1xz+0qDAyGiiA4ktJtlK7xQaubpcFpTFKnR2kflLKvsA5LL\n",
       "nz1NREcS2slyzylyjVI9f0ySURRJ6NTHZ9fWsyQnQkQRHUloJ0vpYvE6JdYm9ETydrrTthMeJ0JE\n",
       "ER1KaBfL0imt3KBUp/REkrr18+FS25XM3AgRRXQooV0sC137p+RhLhucSEIrPx/eWCYgboSIIjqU\n",
       "0C6W2RF5A1MNOZG000zl5ZPsyg1uhIgiOpbQDpalFs6UlOi2qur/Ger4uYRIX8ywye0cCRFFFIpI\n",
       "T5aFW6Fj63S3yMA9X7o+B9Pq5mu5G7c65o6EDBDpCBEdS2gHS6mbIyi514QCjEi+MOVWk2JHQkQR\n",
       "HUtoB8tKH0HJw1UKwiIxqzKtIyGiiEIRaWLpJQH/pOThujllkVqLIONKiCiiYEQaWdaOi5M2KAlG\n",
       "UaS/fX28spgVuxIiiigYkUaW6pCZrI+1xQGK9Jevj7dZ6+9KiCiiYEQaWbZuF/s2VkRmCUT6PkM1\n",
       "v5LkSogoooNzBmuWlc59UVqk9S2DSN/nPeZ750qIKKKDCVmzdF3mt0qJFzRF8ne+0+Z2OC/EpIko\n",
       "mIg0sExcL6rxtT8IyWiK5C8DF8b5mjMhooiCmSMNLGstWKAbaZFa47JdwIQg0sySn7/wPFqR/vzx\n",
       "13pHGpfiAiYEkWaW6bn3uCMijZt5j46ACUGkmaXUEpQuwJQax5mACQUnks+cwZJldv6tUBCpP/im\n",
       "M5+ACSEizSxbiHQJJm58RbaFSIGL1LM8ve0KROq3wrioHTAhiDSzrCCSBaa/LxCpgkhxiMRB6QJM\n",
       "tYVIHCIFLVI9iFSAUuAiFRDpgpzBkqWGSJeI1BiLpCFS4BGpGUSqQekCTLnxUtSACUGkmeX//vkv\n",
       "KF2A6d///GP4yoAJQaSZJSLSNRk4IhKxiASRkNpBJIgEkSDSQTkDRIJIiEgQCSJBJIgEkSASRAKl\n",
       "MzNwiASREJEgEkSCSBCJskio2kEkiISIBJEg0u1F+g8oXYDpXxYi/QciBS3SvxCREJEgElK707/c\n",
       "Z7MniASRXrfVh4PkJEWKNSLRRERNpNVHHWQ5RApHJJqIwmkQeaBIPp4GB5EOFSl6RLeISD6eTwqR\n",
       "DhUpekSERVo8V9HDE7Mh0gEiEUJEWKTFk36TjKRIf8cuEiFE9xCJtQlFkQpCIsWO6CYi1SlEClyk\n",
       "yBFRW7S6QcnDXBYiHStS5IhuEpGYaiBS4CLFjSgwkdSfxAMlJbqtqvp/hgfM5XKxe/u2S0Va3fxh\n",
       "Kv/8MXylMyEDRDpCREcTsmR5WERyz8BRtTs4IsWN6C6pnXtNCKndwSLFjegmInm4SgGRjhUpckQ3\n",
       "qdp5uG4OkY4VKXJEN4lIgkGkwEWKHNE9RPKxthgiHSpS7IjusWg1S0iKFH3VjhCiW9xGUbaMpEiE\n",
       "bqOIHtEtROIFRApcpOgRUava8bWbeyWDSOGIRBMRughBJIYuQgRFQoPIKzChQSQdkdAg8sIMHBEJ\n",
       "qR0iEkSCSBAJIlEWCY91gUgQCREJIkEkiARKEAkiQSSIBJEgUlQi4bEuEAkiISJBJIgEkYDo7JwB\n",
       "IkEkRCSIBJEgUpQiubcfhEh7tjMbREKkYzc/DSJvJRIWrUIkpHZI7SASRIJIQHRuzgCRIBIiEkSC\n",
       "SBAJIkEkiASRQOnMDBwiQSREJIgEkSASRKIsEqp2EAkiISJBJIh0e5HQIPIKTGgQSUckNIi8MANH\n",
       "REJqh4gEkSASRIJIlEVC1S42kbZvEsohEiISKJliWn16V79lOUSCSKC0RyS+fJnRU44hEkSCSB8i\n",
       "pS+vExAJIoHS9pe/NHtailS+RCSW1hAJIoGSfUSqX2dFSQaRIJLLJtQ9RUrfXtgmwYpEBxHhBpGl\n",
       "bm8mUslVMYjElxOjOg1VJEKIKEekkt1MpJTV1WO3H7/mL16IUEUihAgNIumIlNdMPZwpukNYLXM6\n",
       "1fz8g0aDSDIioUGkNaa/X0V6nN4rPk6RVJ84TecoiWIDUjtQMi821J0OKRsr4HVrPEmCSBAJIs0i\n",
       "qYc6SXcEecmSVLTpUDX6XbaDSIfnDPGKdL+qHVPZY4r0MKLpf2rHY2lwIQlVO0Sk7e1+15GaKuky\n",
       "u2IoLkxuGCxtwHUkiITUbhaJ5TLNOB8yuaaa/lpZsCJhjgSRwsrAnysb8ucB5JKV3RzJZPk3RIJI\n",
       "iEgvIvGnEIqztPshSyASRAIlS5HmSneuii4glS2DSAHkDBApsoj0/jJeQCREJFAyxMQ31xlLBpHu\n",
       "KBIaRF6BCQ0i6YiEBpEXZuCISEjtEJEgEkRyEsluPX8SDKXE/gWxihQposT+Fb9zhh2tBxPjV7qI\n",
       "xO1OjQ0PhNLvcX8ONVKRIkVkMOyPof4mtKP14MdbTJoU2opkcAN1L3WaqqwfDy+8UuJSKTkczkQK\n",
       "raWUWdZ9RS5FVT1+km1VFRvj7t4hZLevstLt75L16SKVshITCr5XpIsRORGyRWQpklnrwQ+RjFep\n",
       "mGOarjOW4mscLrtvrodPbUt/lHLRH20u8nHwfZU5qfpRNcNPrMzSzXGnejxI/OU14+68D/V0kQTP\n",
       "CzGOTO4U6VpEzoTsEFmKZNZ68DOICe8iqXGM9fechHcfOK7WL5Q3Sonm0+fnw88DmEKni58e5/XN\n",
       "cbfT56mX8Y+78z7Us6t2/fm2bPvh52qnSJcicidkh8hOpO3Wgzx9bNM6r0+RTFfym2Oaljar7442\n",
       "VTeW8baXqvQlUls9TxFiiSnXYomJqc1x6+kmoVeS0+5Utuc7vyKNg5JtzprXeGIh0qWI3AnZIbIT\n",
       "aav1YD4oVPJmQyTTe8uMMT1voxYGeXg97lA775dMjAe2cqRqnc7nU74A0/R/D8NP3d119da4m+mE\n",
       "Wb4F+fHHtrhUpPS5d7pqdhYbHBHZE1oeJXdClojsRNpoPZhPC4zLYc64Up8wvNvZGJPqh9LITGfy\n",
       "V62nEeP+pPOpJRlS5/EfW5HkPMx8AaZLq+vnT7zZHHf3wvGLi8WrFruTykCqduXuqp0jIntCy6Pk\n",
       "TsgS0e8GkQatBxVLk3Ha2C/cX76FydKsgGMnUvvMv39+LpdyOiKLhdA9oJ2UHtlzM+fi1RNMyYci\n",
       "0ON3Ui5eszJuUa2mFs/dKdpARGK7RXJFZE1oeZTcCVkiMoxIX1sPdndkdiZ15Zc+DC7e8pjcGZYb\n",
       "7ESaarPK5CaBsSQ0DGjBaS+lV0xDzi26OeLUJKGDlmTN9rjLZ47+ln8/G/9Ul4qkxGLbWbVzRmRL\n",
       "aFOkPYRsEZmJ9L31YP9FaZ6o6VsXb3nMVxev/MnSuP3glLkv8u+yXcB/Pf7V8GeSv1bexBYlvbqt\n",
       "p3ZNPyVNdPZSMZoy8I9r0+O4pykBS/hq/v021I0R+RPpiAaR7oi2Cf1E5EzIFtFvQr9bD475nXxO\n",
       "oxZvGf7DDJoU2jWIHHe31D/8zHsS2fCxTWUmkkGxQc1T2WIDU/k4BEnRxfH2Y9zP/Dt94TjvTvM7\n",
       "Ivls0X5EaueOyJLQa7HBgtALokkkS0SmxYZvrQf7ISfp0ERNPd/SdG9JpuH8nCTtSu36hLX8yr2c\n",
       "KdXCU2rHsu4gNvUzk17D1OfR+WMCsJxWjuNO9WraMO9OLaKfIzkjckntbAi9IppSO0tEpiJ9az2o\n",
       "eo/GIsgsUp/ZcW1atrMTKePPhLX+dqwrucgbisxTseEB4jEFbB4nleflvnVM7fsRH8c9XaMca7zl\n",
       "Iv8edqfIop8juSJyKjbYEVoiGodti+j3JfPfrQcf06F8WI7RDOeA4S1ZN9Ys699mcDXATqSx9ijl\n",
       "+0Xit60oFumuSj2Vvx9vbDnvlj6NiUD+0ukwnzCl1btIU8207c8+Y63q2Sdx3h2VRh+RHBG5lb/t\n",
       "CC0RPavadohMI9LX1oO8GT+TDwnc6N5jRHmVDlOo30sb7ETKxWhy8eOvqVFKTdUZMWfrU7k1afeJ\n",
       "9NjXTPI+6OaPo91qLZ+T0HGBpMyq4Sy4FCmf/j/NpHr+fQlRvu2OaKIXyRGRPaGPRavGhJaInoTs\n",
       "EBlfkP3aevB5QXa4aDS8pZQprxM5dBMwfESPRQZuP9NOhMvf2urVkG75zM9Y+5JMr4+7Lr8PNcrb\n",
       "KIJAZEToBdHGsH8gsljZ8K31YMH7OVvx9pZ5FMq3SDuWN6rCu0iyzQthJdL6uNMfQ43yVvMgEBkR\n",
       "ekG0MewfiCxE+tp6sKw5fzr7KVKW+BbJqO/h6ykkY95FqrXW3Eqk1XG/TyI+hhrnjX0hIDIi9Ipo\n",
       "ddi/EFmIZN568EMkkyaFtiKVtgc9S/yLxFQl7Sitjpv/GmqcIgWByITQK6LVYf9CZFq1YzatBz9E\n",
       "Mrnz0fpW88TuxmTu2BFg733MSdrqlFuNmxt2BAj+VvNIERkMm9uf6na0Hvx4i2QHiHTyhi5C9iLd\n",
       "CBEaREIkhgaRlERCg0hrTGgQCZGQ2iG1g0gQCSIB0bk5A0SCSIhIEAkiQSSIBJEgEkQCpTMzcIgE\n",
       "kRCRIBJEgkgQibJINKp2QkGkwEWig4hwRCp1C5HCFokQIsqpXckgUuARiQ6iwEQybz+IOVLoDSIx\n",
       "R7pGJLsGkRAp+AaREAlVO6R2EAkiQSSIRC9nuFAkVO2CFwlVuygiEq4jBR+RcB0JqR1EAiKIREMk\n",
       "LFqFSBAJEQkiQSSIBETn5gwQCSIhIkEkiASRIhUJDSKvwIQGkXREQoPICzNwRCSkdohIEAkiQSSI\n",
       "RFkkVO0gEkRCRIJIEAkigRJEgkgQKc4MHCJBJEQkiASRIBJEoiwSqnYQCSIhIkEkiHR7kbDW7gpM\n",
       "WGtHRySstbswA0dEQmqHiASRIBJEgkgQCSJBJCD68t1EGkRCJIiEiARKEAkiQSSIBJEgUiQi4bEu\n",
       "EAkiISJBJIgEkYDIjBAWrUIkiISIBJEg0s1FwsOYr8GEhzHTEQkPY74wA0dEQmqHiASRIJJ3kVbz\n",
       "jhwiBSQSTUTUqnZps/LLLKcpUpypHU1E1CLSKqVa0RTpLzoiRY/oFiIxAZECFyl6RIRFaua9SGuI\n",
       "FKJIhBARFqnm8/w2Q7EhRJEIIbqHSKxNIFLYIsWOiHDVbkmpTiFS4CJFjugmEcnDXBYiHStS5Iio\n",
       "NYjcoqQaiPRlO7NBJE1E1BpE9pSU6Laq6v+Rg6ZysXv7tktFWt0ijkhfEekIER1NKJTUzj0DDzAi\n",
       "cVKpXdyI7jJHcq8JBSeS0IqUSHEjuknVzsNViuBEkrqlJFLkiG4SkTxcNw9OpMb4jz8KkSJHdBOR\n",
       "BKMn0iO344REihzRPUTysbY4PJEaXZVkRIod0T0WrWYJRZFYqmXcIhFCdIvbKMqWkRSJSV+Fu8tv\n",
       "o4ge0S1E4gVRkRj3FJMuFyl6RNQe68LXhi4ZVZFYUkcnEk1E6CIUt0gRzpFoIkKDSIjE0CCSkkho\n",
       "EImIBJGQ2kEkiASRIBJEOkQkPNYFIkEkRCSIBJEgEihBJIgEkSASRIJIEAkiQSSIBJFCEwlVO4gE\n",
       "kRCRIBJEgkigBJEgkrtIDSgFLlIDkRCRIBIiEkSCSEcefAaR/It0UdWOseoShyFSYyxSwIQQkWaW\n",
       "EAkiQSQPLAVEClwkAZFiEKn1+IQFiGS+1boyfGXAhCDSzDLTKShd8OWFNu0YHDAhiDSzlB4fVQKR\n",
       "zDdu/GSLgAlBpJml8taEFyLZbKk2fahKwITQIHJmaQ4UIvnclHGcCZgQItLMsvD48CyIZL5lxiWE\n",
       "gAlBpJllY1w92tw++hfmtxFp/663xusVPBAiiSgckXqWifuTqT96tGf5XUTav+uVNn2lB0IkEYUj\n",
       "0sBS68Q3pVrdViTjXbd4iqY7IZKIwllrN7AUzqv0P58aIm4rkumuJxb5mjshkojWRfrr/IGMLKVz\n",
       "NPyklNa3Fclw1xuLCoI7IZKIgkntRpbc+XrfJ6Uku61IhrvOLZYruBMiiSgYkUaWjXN1deWBcG1y\n",
       "V5EMd11a3GTkTogkomBEGlmWzkWhnlLJVb8Psp9D1+mNRNqz68K81uCBEElEwYg0sRSuRaGeUsrq\n",
       "bspVaH9z2VhE2rHrpdW1IeGnsEoMUSgiPVmmrl/eUcprpjoycsxCVHMbkfbsem21fi71Ug+ihigU\n",
       "kZ4sG9dFkR2lR3CrujUv1bjwJZe3EWnPrkurPgzOhEgiCkWkmWWl3Sl1tMuupD5eMZ8zcL1/u1Qk\n",
       "o5F93/XtzfKQV16mscQQrQ/ofJFmOErnHij1aQPXHmtC0VTtrHc9twwxroRIIlqPSKffTbxg2Tje\n",
       "gjlQyrrPyzJWdCUML1cpohHJete5ZYctV0IkEenVsszpN0EuWVaVB0rqQSmvUtYj93LdPJ6IZLvr\n",
       "re0BdyREEpFena+cfsvJkiV3W8w1UCplyutE8j4JEexOItnuem4dYBwJkUSkV0O3xfU5T5ndkqVb\n",
       "VejzsrmftcVRrmww2XVpT9uxbkcR0ep3i7MnSa8sUyePPyllyW1FMtj1cocVboRIItLrs8nq1JD0\n",
       "xrJ0msx+UCpbdleRTHad71io4EaIJCK9ccY5tVXMO0vucsL7oMSL24pksuuV2kXMa9JAAJHeyrXO\n",
       "LNx9sBQOJzz+fpHD0zlBX7kdt+s7lXAhdCtE/MSY9Mmy1gnDdk5WvS8YgJDpltRXslQZCJxT5tl7\n",
       "oEEoDpaiwIE5YWv2V5VAKAqWeVXi0By/if1XVkEoDpYNcvATsmqXFQogFC7L/wOKVTvmJpP6ugAA\n",
       "AABJRU5ErkJggg==\n",
       "\" style=\"display:inline;vertical-align:middle;\" /></a></span><br>"
      ],
      "text/plain": [
       "consolidation: {(((1 / sqrt(2)) * (|0〉 + (e^{2 * pi * i * phase * 2^{t - 1}} * |1〉))) otimes  ((1 / sqrt(2)) * (|0〉 + (e^{2 * pi * i * phase * 2^{t - 2}} * |1〉))) otimes  ... otimes  ((1 / sqrt(2)) * (|0〉 + (e^{2 * pi * i * phase * 2^{0}} * |1〉)))) in Complex^{2^{t}}, t in NaturalPos} |- QCIRCUIT(([INPUT]{state:|+〉}, [INPUT]{state:|+〉}, ..(t - 3) ×.., [INPUT]{state:|+〉},[MULTI_QUBIT_ELEM]{element:[INPUT]{state:|u>, part:1}, targets:{t + 1 .. t + s}}, [MULTI_QUBIT_ELEM]{element:[INPUT]{state:|u>, part:2}, targets:{t + 1 .. t + s}}, ..., [MULTI_QUBIT_ELEM]{element:[INPUT]{state:|u>, part:s}, targets:{t + 1 .. t + s}}), ([MULTI_QUBIT_ELEM]{element:[GATE]{operation:QPE1(U, t), part:1}, targets:{1 .. t + s}}, [MULTI_QUBIT_ELEM]{element:[GATE]{operation:QPE1(U, t), part:2}, targets:{1 .. t + s}}, ..., [MULTI_QUBIT_ELEM]{element:[GATE]{operation:QPE1(U, t), part:t}, targets:{1 .. t + s}},[MULTI_QUBIT_ELEM]{element:[GATE]{operation:QPE1(U, t), part:(t + 1)}, targets:{1 .. t + s}}, [MULTI_QUBIT_ELEM]{element:[GATE]{operation:QPE1(U, t), part:(t + 2)}, targets:{1 .. t + s}}, ..., [MULTI_QUBIT_ELEM]{element:[GATE]{operation:QPE1(U, t), part:(t + s)}, targets:{1 .. t + s}}), ([MULTI_QUBIT_ELEM]{element:[OUTPUT]{state:|psi_{t}〉, part:1}, targets:{1 .. t}}, [MULTI_QUBIT_ELEM]{element:[OUTPUT]{state:|psi_{t}〉, part:2}, targets:{1 .. t}}, ..., [MULTI_QUBIT_ELEM]{element:[OUTPUT]{state:|psi_{t}〉, part:t}, targets:{1 .. t}},[MULTI_QUBIT_ELEM]{element:[OUTPUT]{state:|u>, part:1}, targets:{t + 1 .. t + s}}, [MULTI_QUBIT_ELEM]{element:[OUTPUT]{state:|u>, part:2}, targets:{t + 1 .. t + s}}, ..., [MULTI_QUBIT_ELEM]{element:[OUTPUT]{state:|u>, part:s}, targets:{t + 1 .. t + s}})) equiv QCIRCUIT(([INPUT]{state:|+〉}, [INPUT]{state:|+〉}, ..(t - 3) ×.., [INPUT]{state:|+〉},[MULTI_QUBIT_ELEM]{element:[INPUT]{state:|u>, part:1}, targets:{t + 1 .. t + s}}, [MULTI_QUBIT_ELEM]{element:[INPUT]{state:|u>, part:2}, targets:{t + 1 .. t + s}}, ..., [MULTI_QUBIT_ELEM]{element:[INPUT]{state:|u>, part:s}, targets:{t + 1 .. t + s}}), ([MULTI_QUBIT_ELEM]{element:[GATE]{operation:QPE1(U, t), part:1}, targets:{1 .. t + s}}, [MULTI_QUBIT_ELEM]{element:[GATE]{operation:QPE1(U, t), part:2}, targets:{1 .. t + s}}, ..., [MULTI_QUBIT_ELEM]{element:[GATE]{operation:QPE1(U, t), part:t}, targets:{1 .. t + s}},[MULTI_QUBIT_ELEM]{element:[GATE]{operation:QPE1(U, t), part:(t + 1)}, targets:{1 .. t + s}}, [MULTI_QUBIT_ELEM]{element:[GATE]{operation:QPE1(U, t), part:(t + 2)}, targets:{1 .. t + s}}, ..., [MULTI_QUBIT_ELEM]{element:[GATE]{operation:QPE1(U, t), part:(t + s)}, targets:{1 .. t + s}}), ([MULTI_QUBIT_ELEM]{element:[OUTPUT]{state:(|psi_{t}〉 otimes |u>), part:1}, targets:{1 .. t + s}}, [MULTI_QUBIT_ELEM]{element:[OUTPUT]{state:(|psi_{t}〉 otimes |u>), part:2}, targets:{1 .. t + s}}, ..., [MULTI_QUBIT_ELEM]{element:[OUTPUT]{state:(|psi_{t}〉 otimes |u>), part:t}, targets:{1 .. t + s}},[MULTI_QUBIT_ELEM]{element:[OUTPUT]{state:(|psi_{t}〉 otimes |u>), part:(t + 1)}, targets:{1 .. t + s}}, [MULTI_QUBIT_ELEM]{element:[OUTPUT]{state:(|psi_{t}〉 otimes |u>), part:(t + 2)}, targets:{1 .. t + s}}, ..., [MULTI_QUBIT_ELEM]{element:[OUTPUT]{state:(|psi_{t}〉 otimes |u>), part:(t + s)}, targets:{1 .. t + s}}))"
      ]
     },
     "execution_count": 20,
     "metadata": {},
     "output_type": "execute_result"
    }
   ],
   "source": [
    "consolidation = _psi_t_output.instance_expr.lhs.operand.output_consolidation(\n",
    "    assumptions=defaults.assumptions + (InSet(_psi_t.rhs, CartExp(Complex, Exp(two, t))),))"
   ]
  },
  {
   "cell_type": "code",
   "execution_count": null,
   "metadata": {},
   "outputs": [],
   "source": []
  },
  {
   "cell_type": "code",
   "execution_count": 21,
   "metadata": {},
   "outputs": [
    {
     "data": {
      "text/html": [
       "<strong id=\"target_circuit\">target_circuit:</strong> <a class=\"ProveItLink\" href=\"../../../__pv_it/theorems/6d5c1fc96db5679775e48f3755dd58e7001872280/expr.ipynb\"><img src=\"data:image/png;base64,iVBORw0KGgoAAAANSUhEUgAAAS8AAAELCAMAAAC/PfDKAAAAOVBMVEX///9RUVFaWlp6enru7u4y\n",
       "MjJERERUVFQQEBAiIiJmZmaqqqqYmJjMzMyIiIi6urp2dnbc3NwAAACfuzCRAAAAAXRSTlMAQObY\n",
       "ZgAAAAlwSFlzAAAOxAAADsQBlSsOGwAACLRJREFUeNrtneu6oyoMhpkZlIOCyP1f7PaA9dxKwV3F\n",
       "jz9rtY/U5DUkAYkSgtY1WgT+QL31pUoVV2nzwF8w1caXeQRg9qdtWyZpGTmDVyEj8PqlHW2fXAdb\n",
       "1w4vIlLkVVlLY/KqyvHbIkFewhoSk1ehxyiQp8crinnt8CJZnRwvZjNyGq/CJMdLWHker3CPfzle\n",
       "1uoTeckKvHZ5SdE2zrs/fUqnWGji+VNem6080b6CHdgF7etMXsEB8lm8whOwZ/EKT/CfxUuQBHn9\n",
       "O41XhAWKC/L6G5fXZL6d1+D1kdfYaEYwHj146TJJXjH8vd5aemYEvK4gcgLj8Um8YF/gBV7gBV6I\n",
       "j+AF+wIv8AIv8EJ8BC/YF3iBF3iBF3iB1zcn//NHgRfsC7zAC7zAC7xOmW+fVs+X/n65sUWp53sQ\n",
       "ryTr+U7klWQ9X3ReidfznbnfN8V6vjP3+6ZYz3fqfvIE6/nOrYcR4OXFK8V6vmi83tbzgdcR+xod\n",
       "WDr1jyfGR9Tz+fFCPZ8fL9Tz+fFKsp7vPF5p1vOdN99Os57vtPq0ROv5Tlv/Qj3fbkM930UaeIEX\n",
       "eIHX7smxnwn2BV7gBV7gBV5nzbdhX+AFXuAFXuCF+Aj7Ai/wAi/wAi/ER/CCfYEXeIEXeIEXeL0/\n",
       "Oe7Xwr7+P167GygVeG3xMnv1PrkCr0+8ZoUtErw+8ZoVLwrw2phvT3nR2YvoItRiJ25fxcxlHS8F\n",
       "EvKZvBa1xEdLzWiUF5beiRfVsux56YnXOlyLTZ82Hg0peKN22b6am/7Y49+AlyqIbNiU7fjjk5EY\n",
       "XIudaHxsTIpr575k55Bcis/Aa9vfF+0wNENKUWSeDuxxvGRDqG7zLU1JbURmlEeAfF58JLLJtcrG\n",
       "xKruU1b4JWDPy78qXrfDsewdvIuRv0nw75GvKmZyrfvxV/FfTiDvMn9UL2vSjFD1swWKu8yH9CtR\n",
       "lZoYGqUWO2VeY+6gZKni1GInbV+Lw3QJXhu89N6yMyPgtcHrcg37mZ5mX/WJR5/Jq/Y/IgYv7Zfm\n",
       "V/oivA7IvZI1Aq+DixS1MTKvIgTWpciaScl6vWomrGWM5XnZTUkE580nlnFe7sjd9hCsBce4zdZX\n",
       "cilrOK8hDaPirXnTdjJQ2O6SZjQeLyW6y6VFH8aV7cJ2zTupqv4TobnZldtYlzDp+TFOn4Ws4byk\n",
       "O7iwbynoFpVb2CllNF611cPvq/5zT6i0ZvKJULYrdzb8npzL7/RZyBrOiw+nez/7rnh7Gd1CGKex\n",
       "eGXD6YkQU17KiikvInfltvl2PjnoM5c1eD/TsNRKxAE3VrgrkY0XhLlRfPxmpp39oBkNWE8IVd2V\n",
       "6T+1a3bFntzVYKB0If+gT1ZGtS/Z/WzFcpuzT4GvEu6HzXgt697xuD++vJh9gVATQq1XKl6fdLUr\n",
       "d3ugO3E5PWqij2FReWUv9/XpSKUZG2SbTNU7Uh64ZiJntho9GX8RoroPiM13TXS01Ru5Bd8esS99\n",
       "yiwqL+EusDyyWuHiY3czcwrMB9c+r95jCWPMkFl19Oq82pebvjzc0n0N+sxkDefFq5X7opkY2xwE\n",
       "74OOmsc4sYvr0/N9J+Ox6hx3bfNZ9Bz81ypTd3IPHpXUett9LWTdfr6vPy9qP9y6VR2SvNev4gd5\n",
       "ffb3cvT35Q4v2lyjumxvz2cruV/uy8yBjvpUB+zrn/d47Ib7uyzBdpbleBUi0ngkeatNVbwc0Rav\n",
       "zgupxn9O9344uY3dHo6jPjNZw8djrl/DvXinNGeT8Vjmkfx9Q8SQoqJ6zFe3eWVL1Z3cQ5bt0ho6\n",
       "dV+9PmUelZcLt4wtNtMtW1lOvIU0kfKJpmOmdXvrxY0vNbs1rAZehi95DWlCJrtZpHKjcOg96iNN\n",
       "VF5KuHSz/NCpklIOkUqMzm5IMersO16N42oSpS4ZV43eWTPffnlqN/tmOe+tbspLDf+bnEk9ThIo\n",
       "WegjqrjzIeG/TboOunG5mei1k+OPM4SZK9qWu6DvZQ3n9cXkWZbRebFMlcKL17bc5oOsEdajvW9D\n",
       "Bj4C325nwtZqL16bcq988FLWCOuF1Ff9wPu82xMvyT/fr5rz2pJbf5I1xnp07bfArAMX8L9dj65N\n",
       "Zo32k3slK+6nhZ8cvMDrXF64Xwv7Ai/wAi/wAi/wCjs5nj/xa/t6Un1HhPao+qEowDAe4b/AC/Nt\n",
       "2BfiI3gh/8J4BC/ER9gXeIEXeIEXeCE+wr7AC7zAC7zAC7wuzAv3a2Ff4AVe4AVe4IX5NuwLvMAL\n",
       "vMALvBAfYV/gBV7gBV7ghfh4H/vafGqCAq+9tvle0hjvJH0Srxiv/EjUf22/91YkyetvXF7VaK8R\n",
       "XlmUPq9ifFBN4LOZnuG/JrwOv5MUvNz/Brx8eIV7/IfxCn4nacq8ZPdMZM67P+7J9Gw8z3ftp7xC\n",
       "n4fsbV/BDuxh4zGr0+Olz+MVnoBdjpew8jxe4Qn+5XixKOXDO7wESY5XZS09i1eEBYrL8WoGpI7K\n",
       "azLfjvBO0uvxqiynMXmNLcY7Sa/HixjLzuEV452kF+TVuPxgP7P5XlJG0uRFtGXkou2SvEhdgNfV\n",
       "Tg5e4AVe4AVe4AVe4AVe4AVe4AVe4AVe4AVe4AVe4AVe4AVe4AVe4AVe4AVep7TV1iX1FF7fab7a\n",
       "oZOrh/D6TvNVr0I+ldchzdc7wMRTeR3SfN3LFE/ldUTzda8I1Y835XVE840dmeHVjzfldUTzrhfV\n",
       "stuzyrodxOHVj/fh5a1518uQgjd/ShvN49+Fl7fmbS9VENkeydxG8uDqx9vw8te87dXYIm+LH7ir\n",
       "gAivfrxi/eNStPeav/d6VVtcU1uX4EZwYLfx976a9706o9Q2XoC8DS9fzfteeWuHeU5KGikBuw0v\n",
       "X80d5aaX4oaYWAn+fezLU/O+F2VGFzXry2MEeRAvX83XWW6UBYpb5vdHNF/3ilD9eFNeRzRf9aIZ\n",
       "eSivQ5qveukoz5G0P23f8Tqk+aoC8rIlgrHbvub/AeTav6TsUNQPAAAAAElFTkSuQmCC\n",
       "\" style=\"display:inline;vertical-align:middle;\" /></a><br>"
      ],
      "text/plain": [
       "target_circuit: QCIRCUIT(([INPUT]{state:|+〉}, [INPUT]{state:|+〉}, ..(t - 3) ×.., [INPUT]{state:|+〉},[MULTI_QUBIT_ELEM]{element:[INPUT]{state:|u>, part:1}, targets:{t + 1 .. t + s}}, [MULTI_QUBIT_ELEM]{element:[INPUT]{state:|u>, part:2}, targets:{t + 1 .. t + s}}, ..., [MULTI_QUBIT_ELEM]{element:[INPUT]{state:|u>, part:s}, targets:{t + 1 .. t + s}}), ([MULTI_QUBIT_ELEM]{element:[GATE]{operation:QPE1(U, t), part:1}, targets:{1 .. t + s}}, [MULTI_QUBIT_ELEM]{element:[GATE]{operation:QPE1(U, t), part:2}, targets:{1 .. t + s}}, ..., [MULTI_QUBIT_ELEM]{element:[GATE]{operation:QPE1(U, t), part:t}, targets:{1 .. t + s}},[MULTI_QUBIT_ELEM]{element:[GATE]{operation:QPE1(U, t), part:(t + 1)}, targets:{1 .. t + s}}, [MULTI_QUBIT_ELEM]{element:[GATE]{operation:QPE1(U, t), part:(t + 2)}, targets:{1 .. t + s}}, ..., [MULTI_QUBIT_ELEM]{element:[GATE]{operation:QPE1(U, t), part:(t + s)}, targets:{1 .. t + s}}), ([MULTI_QUBIT_ELEM]{element:[OUTPUT]{state:|psi_{t}〉, part:1}, targets:{1 .. t}}, [MULTI_QUBIT_ELEM]{element:[OUTPUT]{state:|psi_{t}〉, part:2}, targets:{1 .. t}}, ..., [MULTI_QUBIT_ELEM]{element:[OUTPUT]{state:|psi_{t}〉, part:t}, targets:{1 .. t}},[MULTI_QUBIT_ELEM]{element:[OUTPUT]{state:|u>, part:1}, targets:{t + 1 .. t + s}}, [MULTI_QUBIT_ELEM]{element:[OUTPUT]{state:|u>, part:2}, targets:{t + 1 .. t + s}}, ..., [MULTI_QUBIT_ELEM]{element:[OUTPUT]{state:|u>, part:s}, targets:{t + 1 .. t + s}}))"
      ]
     },
     "execution_count": 21,
     "metadata": {},
     "output_type": "execute_result"
    }
   ],
   "source": [
    "target_circuit = _psi_t_output.instance_expr.lhs.operand"
   ]
  },
  {
   "cell_type": "code",
   "execution_count": 22,
   "metadata": {},
   "outputs": [
    {
     "data": {
      "text/html": [
       "<span style=\"font-size:20px;\"> <a class=\"ProveItLink\" href=\"../../axioms.ipynb#QPE1_def\" style=\"text-decoration: none\">&nbsp;&#x22A2;&nbsp;&nbsp;</a><a class=\"ProveItLink\" href=\"../../../__pv_it/axioms/43775abba7cdf652d1b8d84f91b1583f993afb250/expr.ipynb\"><img src=\"data:image/png;base64,iVBORw0KGgoAAAANSUhEUgAAA00AAADJCAMAAADIFClNAAAAQlBMVEX///+Dg4NRUVGfn5+Tk5PO\n",
       "zs6/v7+IiIgiIiIQEBB2dnbu7u5ERETMzMzc3NwyMjK6urpmZmaYmJiqqqpUVFQAAAAKc+tyAAAA\n",
       "AXRSTlMAQObYZgAAAAlwSFlzAAAOxAAADsQBlSsOGwAAEmtJREFUeNrtnYmWrCYQhs3NwiYoCu//\n",
       "qnFvFVS0sVvtn3OSzBCnxLI+qigQkgQF5YrFhpSH60C2T2k+fuMshwE+Sg822kVvFUXFZk1CT2Jb\n",
       "Wl5U5eOvVBuA9Cw9XISmhJvtmtrkC3MGTeobqi+ZAEnP0sNVaEpYsV3TIPUUmoT/+X6uPEkPl6Ep\n",
       "d0w69xr5Y2gyGUh6mh4uQ1Ni0u2aB9EkLVIQj9PDdWhSttyseRBNGVzT8/RwHZqSlG7XPIamEq4p\n",
       "mh40ZakCTXOjJps1j6EpoyApkh7aiRMJmmauiG3XPIQmXz/xm6Omt/XA21lIeiWahM2WfvgYTaUz\n",
       "TnJrHkKTsZhr8uvB3roM/lIv/pCcfe/hPtl2zSNoEjYFSZH0kHXGdIXu6UqRXtVTyc2aR9BU+LKV\n",
       "P1hi6OGKkd4laMot36x5BE0pAr14ekAWYulGbLPmCTQJi4xeRD1oy9JLwHQxmlKni3FqnkBT4Xjc\n",
       "Xw30+OeM+PdoIo56nZon0GQwdRtVD6Bpwa6zrZon0MQsSIqpB9C0cCfP/IN4Gk0YNkXWA2jyl8zx\n",
       "/fOaB9BUYrYprh5Ak79oZ6XJvOYBNGkkIeLqATT5S+F0V/OaB9CUYe42rh6uQ9O1Ni2SzvzSvOYB\n",
       "NLFrTDVeIAkhH0bTxZomHHLnNQ+gyWIlRFw9gKZFDcv1mvvTpCwS5HH1AJoWCnVi6VnN/WkqkSCP\n",
       "rAfQtDgyJes196eJWGwJEVcPoGmhGCdrOqu5P00c002R9QCaFop2tgOf1dyfJmOxY3JcPYCmxQ4r\n",
       "W6+5P02p1UApqh5A0yJNdL3m/jRloCmyHkDT4tCUrdfcnyaKhUWR9QCaFkrhTELMau5PEwNNkfUA\n",
       "mn6ZJuylF1cPoGmhlA5N5fNowlEzcfUAmn6XJguaIusBNC2U3KEpP52m/+y/n7Wif4BSVD3gi4xF\n",
       "y54vLJ7V/PUAmv4GSlH1gK8FL0TTxyM9fCwYVw+gadGy5zTNagrQBJpAE2gCTaAJNIEm0ASaQBNo\n",
       "Ak2gCTR9m6ZjZ+mCJtAEmpxy8BQb0ASaQNO8HD1hDTSBpkvR9Ihzb9dPkf7QubegCTRdwjcdPUs3\n",
       "7BTpZ/smrNP7Ek2XXaf3lEgPK4vgm5CFwLgJND2IpkRTe+AsXdAEmkBTLKGgCTSBJtAEmkATaAJN\n",
       "oAk0gSbQBJpAE2gCTaAJNIGmm9F0sV1WQBNoui9NX3VEoAk0gSbQBJpAE2jyFlF89Ix0/UcBpah6\n",
       "AE1Llv3nz3qNKk4gGL4Jvgm+CTSBJtAEmlBAE2gCTaAJNIEm0ASaQBNoAk2gCTSBJtAEmkATaAJN\n",
       "oAk0gSbQBJpAE2hqS6a+o4czvnZ4T2akLzKiPRh2p7xdEfZLerAneAL7lnuJ9LXge42YWPbv7k65\n",
       "vYHbFfbYnpRacWW7w7ZIRSQ9gKZYNP1wpGeKKC/rtGZ7gzyhOM140w1IKkATaLoGTYYnt6NJmpqo\n",
       "/nFKCppA0yVoKrLkfjTpvP4fw+vhBjSBpgvQpJi6IU21M8rZ6PcCNIGm79NESXI/msr6TCJiEtGn\n",
       "T0omQBNo+jZNBUtuSJOpKdIk4cMLyjRoAk3fponxG9IkmqGe1MUrs5/vUCVoAk2n0ETCzoS8GE2F\n",
       "JzrNDGgCTd+liZrkhjRlni6gDD8rFjSBpjNokp4zIb+8524S1iCnRcIS0ASavkmTYRFf1sd8E/fC\n",
       "kFLQ9NM0fX13SmbuSJMfmyK4a3p7d0rQtGnZP7g7pbTFDWnK/clwEfow8E2I9M6giYTe/1I0mYUV\n",
       "76GOFjSBpjNoSllyQ5qWxkfBAyfQdA2aXr1fWUSkKbLYYCti6cdpUvuvmN28WMrdcQuabkVTs3S5\n",
       "KZmKSFNksaFWJKz+NE1k245zsn7zbClzU9h88nSG0f5u5ByahM2i0/SS+UWajjViL02y9yIqTSLS\n",
       "FFlsKE0yeIpmrlJitDbtHytDrTXGpGnRPAllrPrNZIx53GzJu7+gpm6KYTZzm0CKtZsvq2j2OJTI\n",
       "gnbrpsxJvonq+L5pkPlN33SoEbvHTX3HyMuYNEUWG0pTGWxVU5XK1kgJld1TNMaqWNOf5e1viUjd\n",
       "FYAi62OyzouQ6TWCKo/3md58WUVTV9swKdr1RlL/TKQ38irXz0IUXb+ZJVFpiis2lKbCyiOvWvU+\n",
       "gLR/rzp+CstHv1WRliNG94/Zy9Nihnfze6FX3udK4s4a9zqTySSnKoCmt3aqOGX3i0N/TfXK+z+n\n",
       "EcdzeozWJWzl9Y6cXlSxoTQFJ8inBp0NmUBKxzRJS8c0Je5r7f/Qpn40dJeVm36sFNw72nEQyIeH\n",
       "tCxHFuKSvinRTXecisg0RRUbShMPXihqJw6Ev3AkI37yJshof8srA3ZMtttjqLqwc25i1nv0w5ys\n",
       "OPQ+md+1C+T0rkqTMv2/dhW+QdNBsY2Nug6GhNGkD9FkXlLkiJ8aznL4jeQeKZr3FHcRZjG+Kjep\n",
       "TdvUxnSbh+D3SemxXgU0fYumxn9wn61Mk9uK6vqqopug9wezo90pX2KltvWWXCqlUwQJIVzyqj9n\n",
       "tP7kVLN2TUBtkYJzY8Zt1QtWNN2V0dgjLyt7JaKVZQM/grRJvKrOmMx6NdS5HMr8zSz720w3fgmn\n",
       "iU2ixlExq3oATdFpCt2dsiT+ZEG/8agkJk3rOMc031l342y94ZvGYjujyvOJvCYW1LVZpGNAm7G+\n",
       "7sccsmjzGTkP6ZMj0NSOlCjnvJ9JathSqY+mbvpHDCOr+bCp12vJ3qcJvukOvqmyee9sfDco0LqL\n",
       "YsrqKj2EeJs0jcR2RkWm8thgfx1NreR2K6y8tmKZvG7oneKMHunlzbhfTUb/r3GTs6qhywaU/fJU\n",
       "RfzDpkov94j0Ljx768uUX232trHicjBVXhR9j9xtPPqaeSxlmVfmUhkI11rT6p98laaX2M6o2jmd\n",
       "QV7WhHJqTlNjQPWHHQ1NeQ8fL4OyEEdyeuVrWoc0XPhoEqJbdC9GUVtH0zBs4mpmAL2G8mO+iWUf\n",
       "punKs7eeTPnlZm9rcxnWKleWO6xiaDceFS+7KmUV6ZV5sG8axPZGRabyFLW0BXJMkxoMiFdcGVUN\n",
       "X9q76wArIsfmm5q1snk5hFY+mhqFyTpOJXQe6Q3r6Yxn2NRofLp3azhNJnTchEjvKpHe64uANBt9\n",
       "7ddcmxdjmiqGSBpK0yC2HzbJqbxmBNWklsc05b0hN3txl0W/ajZPA2g6PHvLkzKvsB1mb/00taCP\n",
       "yEg70ju1mu7hxWjYVLaZlfTQ+wxddgiaLkTT6wJmh41S2+CkyNKmlK1dCN5nFgJomo3FyUyeGAYU\n",
       "Jn3RVHamq2ZTVTKEptKbedvWssoIqd1fF7nJSYgue5o4m9PUJ76bve9U33sMMboxvWfV/Mj7FJaD\n",
       "ptvSpEQVfvUD6XbjUcknvqmKh7r/z3fQ1Nhca1cjeWYYJnWxEx9Royr7VGNZQZGeDP9adfY7SQ1p\n",
       "k4gVFZm1w8EAslsDa1LWeawRTbL/kadGk1HyQHQ9Qr/AiuZH3mfwIl7QdEGa6nfOZTej3208+nIR\n",
       "7cwkMev39NCU1zbXrxJ4yWv8SDu/24w/iHxlIVQqpZyseSMkxIre+yKjXv22veZ9PAai/siynCle\n",
       "0UPvM3gR7y/RNM7tXZqmapDSpPQkK4eNR1V/sJik7Wzufpqq6I0PqbxBXqJzXpVWQ/VPXX1aS2DO\n",
       "4sNUhVgRzd55WSaTBd1FU+Gnd+64dbF5c9/jhX+X/0u+aZTbu8mX7KOXI3g9zslD77n5/rfk+edp\n",
       "RRpkReatL9nLimCyiyY/5GImZP4Fk+/mzWzCa4KifZqPf3uLrwVPoCk/ulg1xr4QWoVWulZUhE7f\n",
       "+h9dh+xrMqHJS/mcyDlynps3ExOTCYpkz3f5+FrwlEbEoenwXg5RdlnhLhFFHmZFMnikcbRximeW\n",
       "j3BR286MqO2bNxNvkwmK0WdXiPTumIV4v8TZnVIE1LQ2+JDdKbvcy3iCIsHulJei6Rd3p6xitVvS\n",
       "1OT/JxMU9bAJOyf/tm/6Ok154PztxWhqJn77CYrhMuzqD5q+StPaLgLXpandrKWfoNibUQFNoOkk\n",
       "moo7nobm/SKGfuM0NHsGTRY03ZSmW57U6ft466MndSZnnHD1lsyDuyKd9mC/eoq045zueRpaapIP\n",
       "0nRqL2Ov2zTQtGFFGb/6q5nf3PclZG4FaAJNX6dJMnUzmnyZcFomoAk0fZ2m4YPGu9DkOwyNmwQ0\n",
       "gaYL0JQYfiuaPIeh5VkCmkDTJWhqt7S4DU1uoCczAZpA02h3ys/QtLArYyrvQ5M72SR2wvT+7pSg\n",
       "aduyw3anfKBvutW4KRNf1ANoQqT3JJpinBcHmkDTV2n6ahm3JMZ5caAJNF3Jir5XTAKaQBNouk4B\n",
       "TaAJNIEm0ASaQNPpQm2sReSgCTSBpou5K9AEmkATaAJNoAk0gSbQBJpAE2gCTdejKc7ulMHl7V0Z\n",
       "H1Li6QE0LVn2L+5OCd8EmhDpgSbQdCZNmrJUgSbQBJreF0ybuV4JmkDTT9M0HLzk/hAumLcrJyho\n",
       "Ak1H9WBvXQa3ohd/SD7xxQxoAk2I9MYl6ygR71g2aAJNoAmRHmgCTchCgCbQdEWaEk1tKhPQBJpA\n",
       "UwzB9l3LBk2gCTTdl6ar7E75czT9A5rOfTLsTgnfBJoQ6YEm0ASaQBNoAk2gCTRdjqbYWxaBJtD0\n",
       "szRFlwKaQBNoAk2gCTSBJtAEmkATaAJNoAk0gSbQBJpAE2gCTaAJNIEm0OS3ohwoRdUDaIJvAk3w\n",
       "TaAJNIGm+9C0XnN/mpgtgFJUPYCmhZI7NOWgCTSBJtDkLxQ07dXDCRs3niLzOA6n3PwXaMosAUr7\n",
       "9HBGD/8Zr2FPecDQy0vL1mvuT1NqOVDapwfQdOzywtnbclZzf5qM1UBpnx5A07HLyessAX/N/WnS\n",
       "1gClfXoATccu5zZdr7k/Te4j/mbZoQfQdOxy7bj/Wc39aSoc9/ubZYce7kLT4YTcSTSlTqJnVnN/\n",
       "mnIn0fKbZYceNt+5mvfBKhXv0jSXmZdE5xEIPUKTIiVRq5d7TThzlpvMau5Pk7IWKO3Tw+aFxawP\n",
       "liV9m6a5TFafEPglmrLqabLVy+srEl4UE1iYc8LGrOb+NFXxgAJLu/Sw9c4J1fNO+G2aHJlVYyX7\n",
       "Dk2ivi8TK5fLOqOjZfvfkYaFo3PxMJooPsnYqYeldy44N6Y2D/fIsMM0rchM0k9Hel1jVN0WKlcu\n",
       "b2LQNCvE1PszJx5gycNoMlhatFMPS++8HtnoytJE1g502pK/RdOKTC2TD9PUNab1TWrl8gZ9ySxT\n",
       "k5Fp5oxVs6fRRDB9u1MPS++8dm6qGgmUOili+aZlmVwk5MM09Y2pGVgbN5W1JlXtxMhEwdxROX8a\n",
       "TTlS5Dv1sPTO68CmNjali+krlITx8pjlL8rMJofQfoamoTGkLNZyeqb2mrRCj8uJ8y+dcKB8Gk0C\n",
       "Sb2deuiuU4Zaamp7MMxmXS/M6TEYT5R5nCZfazyNmYtoo9KinKX0qJOEmNc8gKbqmZDU26WH4Z3z\n",
       "PnFB+ohFUvGm5Z8h87hvclrja8xcREH8vRXbqnkCTRxpiH16sK9oqx+edyY2maU9ZvknyBR9DOv+\n",
       "sEXTvDXexsxFZN4Gl85CSKfmCTTlWPe6qIf1xTjD0r7uD+v1Cmrz7X1eJtWLPyTrq41mrfE3JmzB\n",
       "0vaw6RE0JQwDp116sAN+XUgjeNdxSym1CP3zj8k8HunNWrPQmJkIXgZq16l5BE3aWfHxmyVUD3YI\n",
       "Dbvri7yzjqDPuu2nZR6nadaahcbMauiCWZvNmkfQlOPz21166N857QfR+ybs7KdlHqcprDVTEbn/\n",
       "WuIEem7NI2hKGJaR79GD7YfyZjrEiWD5Z8g8TlNga6YijN/BZ2y75hk0ESzV26OH7p2XfQ5QkWiW\n",
       "f4bM4zQFtsYGBXp8s+YhNCXI6u3Rg50NKriKZvlnyDxOU2Brprt4+cEzztStW/MUmrgVQClYD4Pl\n",
       "HwrKNmiKL/MdmoJaMxHhn2wSTj8lPD3XQ2gSyEPs0MMQlbWGY1Q8yz9D5juRXlBrxiJUuhBDq82a\n",
       "x9BUPRucU7Ae+neeNUulzd7pBftpmYdpCmzNWMTSZJPernkOTQmFcwrWw2s6JjV6/0659uMyD9MU\n",
       "1pqxCBPYSXm7rcfQVGLpa7AeHrVnUYTGbF4unBWQwrsm8jE0JRrb6oXq4b776Z0jbfNyk27XPIum\n",
       "hGIleaAeQNO+y3MmNmvOo6kpH58BkgyJiDA9gKZ9l9M8oGbX2TXhRRRN+fzqhBwjpzA9gKZdl4t8\n",
       "uyZpjR7h0e+V+56GdtIDRrz1/+WUiw4/QOuKAAAAAElFTkSuQmCC\n",
       "\" style=\"display:inline;vertical-align:middle;\" /></a></span>"
      ],
      "text/plain": [
       "|- forall_{s, t in NaturalPos} [forall_{U in SU(2^{s})} (QCIRCUIT(([MULTI_QUBIT_ELEM]{element:[GATE]{operation:QPE1(U, t), part:1}, targets:{1 .. t + s}}, [MULTI_QUBIT_ELEM]{element:[GATE]{operation:QPE1(U, t), part:2}, targets:{1 .. t + s}}, ..., [MULTI_QUBIT_ELEM]{element:[GATE]{operation:QPE1(U, t), part:t}, targets:{1 .. t + s}},[MULTI_QUBIT_ELEM]{element:[GATE]{operation:QPE1(U, t), part:(t + 1)}, targets:{1 .. t + s}}, [MULTI_QUBIT_ELEM]{element:[GATE]{operation:QPE1(U, t), part:(t + 2)}, targets:{1 .. t + s}}, ..., [MULTI_QUBIT_ELEM]{element:[GATE]{operation:QPE1(U, t), part:(t + s)}, targets:{1 .. t + s}})) equiv QCIRCUIT(([MULTI_QUBIT_ELEM]{element:CONTROL, targets:{t + 1}}, [GATE]{operation:I}, ..., [GATE]{operation:I},[MULTI_QUBIT_ELEM]{element:[GATE]{operation:U^{2^{t - 1}}, part:1}, targets:{t + 1 .. t + s}}, [MULTI_QUBIT_ELEM]{element:[GATE]{operation:U^{2^{t - 1}}, part:2}, targets:{t + 1 .. t + s}}, ..., [MULTI_QUBIT_ELEM]{element:[GATE]{operation:U^{2^{t - 1}}, part:s}, targets:{t + 1 .. t + s}}), ([GATE]{operation:I}, [MULTI_QUBIT_ELEM]{element:CONTROL, targets:{t + 1}}, ..., [GATE]{operation:I},[MULTI_QUBIT_ELEM]{element:[GATE]{operation:U^{2^{t - 2}}, part:1}, targets:{t + 1 .. t + s}}, [MULTI_QUBIT_ELEM]{element:[GATE]{operation:U^{2^{t - 2}}, part:2}, targets:{t + 1 .. t + s}}, ..., [MULTI_QUBIT_ELEM]{element:[GATE]{operation:U^{2^{t - 2}}, part:s}, targets:{t + 1 .. t + s}}), ..., ([GATE]{operation:I}, [GATE]{operation:I}, ..., [MULTI_QUBIT_ELEM]{element:CONTROL, targets:{t + 1}},[MULTI_QUBIT_ELEM]{element:[GATE]{operation:U^{2^{0}}, part:1}, targets:{t + 1 .. t + s}}, [MULTI_QUBIT_ELEM]{element:[GATE]{operation:U^{2^{0}}, part:2}, targets:{t + 1 .. t + s}}, ..., [MULTI_QUBIT_ELEM]{element:[GATE]{operation:U^{2^{0}}, part:s}, targets:{t + 1 .. t + s}})))]"
      ]
     },
     "execution_count": 22,
     "metadata": {},
     "output_type": "execute_result"
    }
   ],
   "source": [
    "QPE1_def"
   ]
  },
  {
   "cell_type": "code",
   "execution_count": 23,
   "metadata": {},
   "outputs": [
    {
     "data": {
      "text/html": [
       "<strong id=\"QPE1_inst\">QPE1_inst:</strong> <span style=\"font-size:20px;\"><a class=\"ProveItLink\" href=\"../../../../circuits/__pv_it/theorems/71c1fc00120f763c694cd99d32f7a5e7315b9ca50/expr.ipynb\"><img src=\"data:image/png;base64,iVBORw0KGgoAAAANSUhEUgAAADwAAAATBAMAAAA+KHOiAAAAMFBMVEX///8QEBCYmJjMzMwyMjKI\n",
       "iIhERERUVFS6urp2dnZmZmaqqqrc3NwiIiLu7u4AAAAqt126AAAAAXRSTlMAQObYZgAAAAlwSFlz\n",
       "AAAOxAAADsQBlSsOGwAAAOZJREFUKM9jYMANFjDgBQmkS/PdT/Nj4JSXwKWbbUM7A8N7uG6+O6jS\n",
       "7Hc4FRgYGbjS0sTSkhgYuP+hSW9j8GHghevmugARDrt71wEsfSjgCJI07wSwbEscTPeBYtYJcOn2\n",
       "/PQAIMXjBzf8ABtDBkL3frAgywGENPOCt2/hobYEIo1w2gEGbe5EOPcmmDS8CwQJUGn2B4XwUPoB\n",
       "pp4h6+YreAvjcX9geAByP7I0gykbjMflwG0ApFgD4IEK5LKawRUXPAXT3jABlg1w94I8nKQApp9n\n",
       "PADTzP5iQPIJRkx15kICFQUAALDXOQj7yj+HAAAAAElFTkSuQmCC\n",
       "\" style=\"display:inline;vertical-align:middle;\" /></a> <a class=\"ProveItLink\" href=\"../../../__pv_it/_proof__psi_t_output/9d7e7eb01d99a487e27a0a001a36ec97d009dca00/proof.ipynb\" style=\"text-decoration: none\">&nbsp;&#x22A2;&nbsp;&nbsp;</a><a class=\"ProveItLink\" href=\"../../../__pv_it/_proof__psi_t_output/dd00c2941cb1221179ca38b20d00b6ce2a1b79860/expr.ipynb\"><img src=\"data:image/png;base64,iVBORw0KGgoAAAANSUhEUgAAAl8AAADJCAMAAAAqwadYAAAAPFBMVEX///+/v79RUVGfn5+Tk5O6\n",
       "urqqqqpmZmbu7u6IiIgiIiIQEBDc3NwyMjJ2dnaYmJhUVFTMzMxEREQAAACrKpG6AAAAAXRSTlMA\n",
       "QObYZgAAAAlwSFlzAAAOxAAADsQBlSsOGwAADSRJREFUeNrtnemaoyoQhp05owKyyv3f64lbWiMm\n",
       "qGBj+OpPJ/2YEvGlqii2ooB8i1gfQTVdLKL8FryCXXROOCOg6im1LsBXWJEaWE1SNQR8hZZGAaxB\n",
       "yBdVRTp8lZYDrV60KMBXhGptgVYnxpbgK0aIbyvA1fUdv8h8pcRX0TLA9QjuA5ivmjUtB18rx0CB\n",
       "VyHOtzLWJy0N+Ho1YA3wCtDI5JAUZynxRazY+nAdXxUisELbVe7L3lmeNrXe/FDEvvdPTYrc8SL2\n",
       "fC9ajNVLErJfSfjHR+M1mfOlApjwFP1jGnyVVmbOVxvC6iC+37xT5hE+CWN1ambbNDxBYny1mTtI\n",
       "FcqApzKlKjG+aOYOUocaGwJfTjGZ9yAbW4CvqOWxOc8zJME6feDLLeKbJg/slsq24Cuq1FmPQdbB\n",
       "wk/wtdWBynkWmAg2QJYMX4mtHzJZZ8CaYOmZhJd8/WrRSNaL4cL1bsDXZhXnm2Hl4RoX+NoQlvEc\n",
       "nSrcmDT42gxx8+1A0nDZZfC1ITrjESIZrvMMvjaktvku5Nbhnh18bbbhfEcgW1uDr+h85btKTYCv\n",
       "C2LcfBOsLFzsCb42RGWcYG3AF/iKyhcFX5GlypovBb7AV7yaB1/Rpcyar3/fxldq83OKPxnPkLb2\n",
       "v6/jK7XC5s1XBb4iiwFf4At8gS/wBb7AF/gCX+ALfB3d0xV8gS8vObjnE/gCXz5ydM868JU+X9+w\n",
       "/+r7/X2v2n8VfKVqv47u6eq3vy/s10V8JTv++DX+EeNDiO9hv7LMTxzZ0xV8ga+YOsEX+AJf4At8\n",
       "gS/wBb7AF/gCX+ALfIEvv0dKbH0H+Poqvn7ZWoEv8AW+wBf4+gap/3LwFVnI37+54gX7BfsFvsAX\n",
       "+AJf4At8gS/wBb7AF/gCX+ALfIEv8AW+wBf4Al/gK6YI/kt8xZj7ckpnqPk5wR7sG/gi9uib/Bfc\n",
       "NtgI9sae+fGxi4I92HJ97ccVdynsrbCQznJVw84KpCWX2y/wtcd+aRWk/NHiJZdrJFwyIft2YRgB\n",
       "XwnzpWVxN75Md4KjmDCpGPhKly8litvxVZfd/58tRGrwlSpfvOH346szWOXshEGmwFeifDFa3I6v\n",
       "qtvTiuqCTP2SqiHgK0m+VFPcjy/dcVXTQj6pEjX4SpKvRt6PL9JHjKZWP2mV0nLwlSBf1C/NmhZf\n",
       "yuHShQZfCfLFdHE/voSjTVT+4xHg6zK+zHorxl9fWl54lWjlM/0PPQZfl/Glm4Dlv8p+SSceLQNf\n",
       "yfHV6Bvy5QZJeUf459fXgq9PMqyvNb4nUafEV+lORRDvU7Vhv66yX9S3zafEl96Y7OFri8HXZXy1\n",
       "TXE/vrbiLO8ADHxdxVfTXs4X33/B8uZqq58oLfhKiy9i66v5oh9fbUnf31xs5bmULRfxmG7YdDMa\n",
       "h6/52VGh+DqmMzBf5x+s58t454xe7kJ1Xevht1wza7XWbduF10azpnl806JpXOF2JcefMF316REr\n",
       "VkWg6t3Nebv9SAtVjBrFxsEvHcl+hTw76pTO0Pbr9IP1fFXeFb24ixleG2VmVNW/Pt70zJfDt4K0\n",
       "joFNIiZXNpoauriIMO6yUIuby80iL61xTykZRo1MnY1/nFme3/ePyvsgpfld+GQn6PBzPhKlrJx9\n",
       "e/gnR+ZpNE1i0lcvUBrHeFT95hHfdBKtXl+nhSlKxn34OrUkIMYyg0M/ZvWbuDNOITb58k5PLF6x\n",
       "eHY6GZvzZfpj5Z58FY4HnX5pWyct9dgDfJnM5R23z13nZBiptU2J+P5X7Jf0HhO2cyPz9Gm0t2QT\n",
       "UWVvmodv5eOVrl/iuODnceVoAcnSh07hklCHHrFxuwaC/uMv8VUf4Uv/vB0zI6oLqqrnN1q6tNRy\n",
       "Cr9Gv6xml5W6te3QaXiZTu/7iMwzAQa+LuJL2wPlFz9pAG6bJ1GEDh3Gx/8evUfr5GuyS6xxutBq\n",
       "usvLihNvvpqFr53Ja/8R62tjP9ifMHwNEReTUk6JrZ423jr5GvNR5BmivYRfE1ZVc54v2K/7+8ey\n",
       "j6j5Iq7+ib/Wmfgx0K6mkWhOneHXo3D38I8J51ddeYrL86vySP+x+kkz0R4UF1/kAS7vM1BzXzfy\n",
       "9Qy/JF9WyWT0ymP2qxFX26+E86uOPMXl+VV6KP/VD4qX1dMhufjqo6iHckMpW/nH50ChXodfvUF9\n",
       "WY/tzZf2jb/gHy/xj0fzq7KoSkJ/8qtuvgZrMmelpSNIg1vWfJE/6MKvqteo2mP5r/pq+wW+3vJV\n",
       "ubt5n+7LBaXdGtfR3ZmFqzcTX7JZ8TXlHfrFinycx/X09Vo/OqGLPMa+RyRWgq+k+DL+Uz6XX2mr\n",
       "aZ9sNw9MhLXPHVLMONqt22a0anO+zPRZtrqmP2H5YMF4q6b8RXnkEb1H68HXRXwVp+bndKN6n+eP\n",
       "LWIp5vTH1UsvlrNDj+g9Wp8TX/N+5PV8MXGi/FoYxfbxpZw8v7q1Wn28uavf6z/ZOyf7NetHXs+X\n",
       "PjM/urLWwyMt+4KtAwHyomQ1w8tx834Kj1RqDoq+fP4q5hd+4Ev5Jlidd6l9VlQs+SIOh/rK6IrB\n",
       "9c377eVqM/x9pifaq/nC/MIPfBnvkOVgpXEprJwDxD9aPMo/37zfXq4ViiwSI/RyvhDfv+frnutr\n",
       "xyVEprHzrfGwvjYlvsbza+s77g8wbC/HyaOjOTNZGvsDpGe/Ss8Ma1p89ZnZLkkmZ/kO7G+SIF/v\n",
       "pmsny9ewSkRVi+6jwv5MKfKlbri/nHOFLfuV/eVsBL7sN/F1x/0xXStsL94fM7Xzh4pkzx9aGbB7\n",
       "7i/X6uJCvqK2uy87P03Im9kv1wrb0hLwlSZf5m7nK7jyEGwPMeDrSr4K2t6KL9f2clefDwO+dvB1\n",
       "s/OtHNvLlaIAX+ny9XMQ2R34WrtHIwj4Spkvj/NFk+FrnfwiYvf5ov/AV2T5s+985HT4EuePdYb9\n",
       "utp+3Ycv3hbg6wv5SuUAblmBry/kKxnRBfgCX2kL+AJf4At8ga9k+LKB5k+AL/B1+DfgC3yBL/AF\n",
       "vsAX+AJf4At8faOcX18Lvj7JuL4W9gt8wX6Br4v5qlnTcvAFvuLwxfpsrAFf4OvlN8+Nu9Yf/BXL\n",
       "IdvPwFdQvuyd5Wl66s0PxRXzp8AX/OMnESM2BPYLfEXgC/4RfCG+B193zk/Y9hRe4At8RX0w8AW+\n",
       "wFcsvv6Br8gP9gf2C3zBfoEv8AW+wBf4+m6+itDrh8AX+IqpBnyBL/AFvsAX+AJf4At8gS/wBb7A\n",
       "F/gCX+ALfN2ZrxJ8gS/YL/AFvsDXFl+54lU0VoGvyIUowRf4Al9RhPnzFWHlaRFjOetxQqLcO2++\n",
       "hKUXNWMbwzTY37hs79WVbbLlq7USfEXmS51bnntr0bYGX5H5olZky1dtNfiKzJe0bbZ87Xh28HXw\n",
       "6trfR3ydKH/bfRe+TvRm4/DV+vehvk5K/77Nx/rkr82Ut+QsX686y4rW5Qe+otHOaUX526u5u49e\n",
       "ZcsX98/NfLzw9bhmU7HTfL3qbLpdCH+Lr+68YPH26v5EYanUAqjm3PY79xZreSC+KKtf2+lpvlY6\n",
       "H4U1zS/xRbobN+TN1abrLNVm+DurYpIvX8x7gs5W7RMpte5qcJ3lOczXG51Fe7l/HEvDu8Iw8+bq\n",
       "3nW3QpGli8g3vdolwNRJvroIqX5UPRFDwDRIeYqvNzprU1zN11iawX7xN1f3rcE0tuGLEFdkzBf1\n",
       "7jxv1X5nAPkjxKjqQoWyX9s6JSno1XxNpek4eRd/VV1V8s7Q0UUNy4z58m9dW7XfeYOu9nmtlqGc\n",
       "oc3sCHobRKdYboZ6DV/P0tBKves/6s60sgeM0iw8RJUxX8S7AzldxzWzTHd1phsrhpYq2bk3elBn\n",
       "HL5chXGUZqVicOaqeuk+spzD++7x+V77Jac+AR0tv2HkrMU4pDOW/VoVxlUa+ymXMjXgnMP7ri7V\n",
       "Xr7E9LEeKn2RRz3I1yGdb/naf36H3SqMszQrFcJZ4sp/hPdLAzDH878fUnmOWQ6/7HLs/KMRtBF0\n",
       "FoHP79gojLs0nsNOeYdfXY977+hvOY2nETm0bWNMTc7Zr2M6I/nHl8JslOZVhaxOVe/XSu05fDGL\n",
       "TsYfqHKoQK/JwjaCzkh8vRRmozTWlfxaicncPXatVe7ji00B665pJzaCzkh8+RXmRUXpvpjm7h4f\n",
       "zbPZ9S7Js0XqYHwd1BmHL8/CWEfyay2iyR2vRxMr97ySaupwchqMr4M64/DlWRjr5x5l9nwVfiHC\n",
       "KjqRPBhfB3XG4cuzMEsV7uTXo/dIwJe0ZBdfwVzZWZ2x+PIqzFKFO/lFso/uh1qQO15JNdKoeTi+\n",
       "DuqM5R+9CrNQwduN0IMDr64a9iTgRT9NQJsiHF8HdUbqP/oVZqFiK/lVA64+OJV7Xolsdb17yYKN\n",
       "oDPa+KNPYRYq9PF2m4NUHnb8NuvTklk/RMJtHnN3qdvv4esibZ+v1i3AenpIBb4C81U28I5PMR8r\n",
       "A3ztvJqVwGrW2jj4Cno1AV776vO++8vFecI9qv8HeDSbIqQGiXgAAAAASUVORK5CYII=\n",
       "\" style=\"display:inline;vertical-align:middle;\" /></a></span><br>"
      ],
      "text/plain": [
       "QPE1_inst: {t in NaturalPos} |- QCIRCUIT(([MULTI_QUBIT_ELEM]{element:[GATE]{operation:QPE1(U, t), part:1}, targets:{1 .. t + s}}, [MULTI_QUBIT_ELEM]{element:[GATE]{operation:QPE1(U, t), part:2}, targets:{1 .. t + s}}, ..., [MULTI_QUBIT_ELEM]{element:[GATE]{operation:QPE1(U, t), part:t}, targets:{1 .. t + s}},[MULTI_QUBIT_ELEM]{element:[GATE]{operation:QPE1(U, t), part:(t + 1)}, targets:{1 .. t + s}}, [MULTI_QUBIT_ELEM]{element:[GATE]{operation:QPE1(U, t), part:(t + 2)}, targets:{1 .. t + s}}, ..., [MULTI_QUBIT_ELEM]{element:[GATE]{operation:QPE1(U, t), part:(t + s)}, targets:{1 .. t + s}})) equiv QCIRCUIT(([MULTI_QUBIT_ELEM]{element:CONTROL, targets:{t + 1}}, [GATE]{operation:I}, ..., [GATE]{operation:I},[MULTI_QUBIT_ELEM]{element:[GATE]{operation:U^{2^{t - 1}}, part:1}, targets:{t + 1 .. t + s}}, [MULTI_QUBIT_ELEM]{element:[GATE]{operation:U^{2^{t - 1}}, part:2}, targets:{t + 1 .. t + s}}, ..., [MULTI_QUBIT_ELEM]{element:[GATE]{operation:U^{2^{t - 1}}, part:s}, targets:{t + 1 .. t + s}}), ([GATE]{operation:I}, [MULTI_QUBIT_ELEM]{element:CONTROL, targets:{t + 1}}, ..., [GATE]{operation:I},[MULTI_QUBIT_ELEM]{element:[GATE]{operation:U^{2^{t - 2}}, part:1}, targets:{t + 1 .. t + s}}, [MULTI_QUBIT_ELEM]{element:[GATE]{operation:U^{2^{t - 2}}, part:2}, targets:{t + 1 .. t + s}}, ..., [MULTI_QUBIT_ELEM]{element:[GATE]{operation:U^{2^{t - 2}}, part:s}, targets:{t + 1 .. t + s}}), ..., ([GATE]{operation:I}, [GATE]{operation:I}, ..., [MULTI_QUBIT_ELEM]{element:CONTROL, targets:{t + 1}},[MULTI_QUBIT_ELEM]{element:[GATE]{operation:U^{2^{0}}, part:1}, targets:{t + 1 .. t + s}}, [MULTI_QUBIT_ELEM]{element:[GATE]{operation:U^{2^{0}}, part:2}, targets:{t + 1 .. t + s}}, ..., [MULTI_QUBIT_ELEM]{element:[GATE]{operation:U^{2^{0}}, part:s}, targets:{t + 1 .. t + s}}))"
      ]
     },
     "execution_count": 23,
     "metadata": {},
     "output_type": "execute_result"
    }
   ],
   "source": [
    "QPE1_inst = QPE1_def.instantiate({s:_s, U:_U})"
   ]
  },
  {
   "cell_type": "code",
   "execution_count": 24,
   "metadata": {},
   "outputs": [
    {
     "data": {
      "text/html": [
       "<span style=\"font-size:20px;\"> <a class=\"ProveItLink\" href=\"../../../../circuits/_theory_nbs_/proofs/phase_kickbacks_on_register/thm_proof.ipynb\" style=\"text-decoration: none\">&nbsp;&#x22A2;&nbsp;&nbsp;</a><a class=\"ProveItLink\" href=\"../../../../circuits/__pv_it/theorems/98799574aa76bf0c47b81cbed756f022b9c672720/expr.ipynb\"><img src=\"data:image/png;base64,iVBORw0KGgoAAAANSUhEUgAABLYAAAFJCAMAAACxRFTMAAAATlBMVEX///+Dg4O+vr5RUVGTk5M9\n",
       "PT1GRkbOzs6/v79aWlrf39+IiIgiIiIQEBB2dnbu7u5ERETMzMzc3NwyMjK6urpmZmaYmJiqqqpU\n",
       "VFQAAADDS7InAAAAAXRSTlMAQObYZgAAAAlwSFlzAAAOxAAADsQBlSsOGwAAIABJREFUeNrtnYmi\n",
       "rCqSru17um5XFwKCIvD+L9qK84DiQKbm+qPqrDRzCwQCn0EwJQnkOWL6K13iaUAgnxVhnRiofygR\n",
       "VXRXuUQlgvxJSZt2EfAtQpNkZSXFa7H1AfVXEhEdw2SG6gv5m1I3itLYgG8RmuSrrYWPqL+WSM6b\n",
       "T6ZRfSF/mV029Buw9X1sla1LK0fFhQBbwNY7sJXQtBbKUHEhwBaw9RJsKVH/zfiHMywfHNsyXvlu\n",
       "/THaAmz9GLak6f58Uoh+bmwjKcj086X6L9SHAFvvxpYztNiHR2A1e25sU6CU08+X6k8wKQ/Y+i1s\n",
       "afJxhzzPo8VWaKJWGSzOpdmNtOb8I/rfrX6nd84TCLD1Q9iqmFV+oBOhxtfdy1/LoPv7b6t6qrEp\n",
       "QSsM2Kv6jb6VavoZWf/T6u/oX6pdk09u5yg8P6M4TlPYn1qsqgpsvQxbTH/iXZxN2dJUh7pKC2VN\n",
       "Wc93TZnv/upOvVadp7E5qXIouh+KnFb/a4P082l5FZXOsi39hvSq2Pn0c66/R/2T+p9Wf09/ulPE\n",
       "7SRkf47C8zOaz3yawhupKWAL2KpbBP2EQ35UEXX7quVNurqpFEWxUXG7r8XSDaTnL+6saNp/UiQs\n",
       "YR0NXLuvf61apCgTqeuf+F56lS1aTj8X+q+rf17/YPWnpsyO/vm2d6stio0cBeeHm5MUliootYIB\n",
       "W8BWJUZ8FluqrXhto1P5WodjVnGVTDxOGjWrxm5Gh0xdm2BNNPW3uqG4X0nT9ItE6JTvppcwM/1c\n",
       "6L+u/mn9g9WfmTI7+rPtV1NXFP4cheenOEfhiatiK7U4fQNg623YGorHeR1oGfbzkSgmFbF786ft\n",
       "R1OZ2fL+gtSNzYxfxctFSG1s3NC8bvGMD+2NFUlPpv79zgQvE+FSm2NrJb2kzKefC/3X1T+q/wn1\n",
       "x6bMrv7ltjMp3c1RcH7ScXYOUJikSgelFmcdGrD1VmwV9WvQyLm71PPzkSim2Eqbeiebm7gtPNYW\n",
       "J4nlXdNsw+uqAqusk3KILWdJUbWD3Fqb9v2v6v+Ldl+1jzRrEpthay29RNPp51x/j/pH9T+jfmvK\n",
       "BOmv6VaxtUWxlaPQ/DRxtNk59hIJS635A2wBW12DaF+x7lU++H1GP3tHhlajUB5s0SaKIpu4tsQ0\n",
       "1fp1zHVVlUl7WzkOlMxjK2h4b7fvLzWtiLON9KqHNv2c6z9Sf/J0jul/Sv12hUOQ/mKz5bVaLXI0\n",
       "KsPQ/LgfuuwcoXA7D2QzN03kGbAFbE2Y45wM1efY7zP6eXdkaHTvbFrFElvazF1b41Td/YY0/9X/\n",
       "1vRZhAdbxNZLK8NmzaZTbAkq/ek1LXD0Odd/pP7k6RzT/5T6rSkTpH+xaW21RbHI0agMQ/Pj4jiS\n",
       "nY7ClRFV7uXGpSaALWBrWoHqSqL1tAM1+nnqTtmOYuKrWOskttVPuXrL5922rGvSVIiRV9bXydLH\n",
       "p2MKQtnUm7KSXqLT6edc/5H6k6dzTP8T6k9NmT39dbr5KLL1HI3KMDQ/Lo4j2ekUk6qUScDTQycR\n",
       "2JqWnBEmEe3IlgOIs9gnPzfuFPf72p/xvanPt9W5ZpobnA+Es2QVWzIprGtAvA1PFtMNOz8V2Zz9\n",
       "uSue9JIyG322PZix/hP1R86mg/pfVX9P/0H9tT8Tl/w4R2lyOD9pxNJwqRECbAFbYwM/t7RreA4g\n",
       "gurZz407xf3uzPnxn+m9sxUwI2x1g/FZ+wo1rF8zN8OWVkQb4npRxSRMsoiNG0oNv9hQlukNsx1Y\n",
       "/zym+o/VVyI5qf9V9ff0H9RfLbZWrXmORmUYnB/3S6TScHFnEtgCtiblM7zIWoDo6c/9yNDaIPT0\n",
       "3tZXsYIt0b7DVyYOzrC1CM6Xfg2R3vJwfNM1Ow9N+6m39B+Pmz1M/5H6a8XWZmWeo1EZBufnlumg\n",
       "G6nxONuHA1vvxVamZ36fgk9+7t0pxcqbdHbvxFcxrYhpa5Qo6fc2TStnt/WKWslBKu5v9v1WLzKd\n",
       "fDZ59Og/cTY9S/+J+mvF1io2029UhuH5UTJWblzMSgJbwJbH2OkKbP3nZG3qqe/eZUXsF/YyHlhx\n",
       "2w7H6hkhpbq/2fcdnG6dc/tZvlT/ifqrRdlmxZuj8PxsPZVLuXGpxTomBth6L7Yiilz4P5zZH3Z/\n",
       "d9/67bc4O1bT6+cXzQ42epv+Iecy8e0cHchPwuPkht8TN7AFbJ2Te/0TPN5haR1RZmR5m/4ZtmUG\n",
       "toCt629T8tzYRkLk9POl+hNQC9gCtiAQYAtNEtiCQIAtYOtcIvmBcZq8QGWHfNi5kPJI4YCt92JL\n",
       "HdjnVBm0IsinhZlI4YCt12JL0/B32ZF7IZC7hJZxwgFbb8UWP1AlOMXRe5AvSHGypeyFA7beii1z\n",
       "YLsRk6MFPUB4+ZRyKMWHEjJZlHDA1kuxJWxxICr4459QbQgJWYh9YUHMOChnzHi3daDXV1Crlaul\n",
       "SHtuL/mdcMDWS7GVH3hx5zC2niE6AFtuX735qvXA6NUMK+qO/So8ugxLkDYXI2UnVdgOB2y9E1v6\n",
       "gAGlYWy9B1vNpllsdg5YELeme6bVhS7tDZ1Bny7DBklb56QLS05WfwJs/Ry28gMvsTwFMOp2HCTf\n",
       "xpbb+rlDBWPE7fwStrNxNhl3KfkIWzJtctdVqeH82P3z6TpsiWY21aDLMLtqa55VRk+aW/Rx2PrP\n",
       "//7nzQ3gI+pvJnLkHXb2fbfWQzjUZ3katm67KSK2JB2hIteVCZXWRRDy4pHLds7acFxxWY6PUuyx\n",
       "FXA+ndOFG5XbBk69LsQsr9Zs/XPerc1w/+9/Q7/B2nqQtWVs+DysI/fu9RCO9FmArRPYandldo+9\n",
       "dHez2nO0PCS1KD1Bx1WotoLqfeZ5vUC73XDefdTYcheeY+vWqgBp61GvC+8rFt+qYvakZ3UrHDqJ\n",
       "b8QWt+HjykfuDcRWnNNYgK2k8Uh1jz0zjdXB17zemniCjsyvrDlhwNWjLBFNqbnvNbbchefYui1s\n",
       "DboMXc283HptnnvLbYUDtt6IrfKA4V3aK8eZr2IreaWz7A3YEp1FUz92q5qf6vLL5R62uqDc0NQF\n",
       "rA97lbJHWFKYlU6i59i6LWwNuqgeYGrj1VjYc7MttsIBW2/EVnag35dd6SOOsTXqljD9wlL7OrYk\n",
       "yy3b9jN2E7vqx847bNXPXbM9bLVBOU11SU0NKiGE6rd7JpMzY3tsLY+t28dWrwvpYyRb/nN70im/\n",
       "EQ7YeiG2uA03d47cu42tUUOR2QtL7QHW1n7HKB8eu2ysjXZEJd3DVhvU1DfKijB0MjCa8wmVhk7d\n",
       "4ti6fWz1uhT9L8XWuzE72UvcCAdsvRBb5QGzu7SXJkSvY2vZZ7kuKqVxdyN+A7aybAVb7kMVO9hq\n",
       "gzrbbDYXYruCLI6t28VWp4vouSK2yEROVsGNcMDWC7FlDswfNdfmmnqwpdnd2W0mFsUconwotvh4\n",
       "xCw3404iawwZ99yFGfheC6Xuw8yCinb6WXj5LI6tm2u1xFani+zrltyqZeLkWOJGOGDrhdiiBwqG\n",
       "XitED7Zud8qzprXF9PV/DVs781rT0bhsdz1yybfzl+YvioW1lXYOfFlLuD/TM1V00GqJrU4X3sOK\n",
       "b74c7Un3qj8csPU+bH3QteXFlrp5vVDeNuaI24LZuSGxvPh6J3FsbbXdvrJ5JvNu+QJbbVB7+wEd\n",
       "S2x1ugxrh7ZXEeUnLX5/OGDrfdjSB2ZiaZtdr7Mr3ZKhz2JfIwtDYnmRxEhv1mnf+ucJtko3kqYc\n",
       "UheDID5sqWZDSBkRW70uQxXdbhHqJEv94YCt92FLHfBcqGseea+1dbdz65c7iZM2te0rN9n4saf1\n",
       "4h7q7JjFlJPlSGITlKe0LEh6o83VVQHWVchel8CRxAok596d/nDfwda/7f+8GVsfUd+fSH5gAmlu\n",
       "9S11dt5Qbh9K/CMu+Z32281/ah47V4yY5pEseL6ct9XNclKpze/sKTa6GENtbsqJLiVdXq2/gc/N\n",
       "3PKH+y8b+g3W1lOsLXqgddOLJPBgK8LEraq1xV3r+ARsEb29f18xniU/hpTaxVYRyy/o12U4V2X7\n",
       "hBV+cmMNfzh0Et+HrSOO66tObg+2okyTj4yMJ2Crpv3m/n20WEXFckbbcik1jbSrml+XsDWJrhae\n",
       "eyF5wwFbr8OWPPDuklc3kPJgK/0aV16NrdrY2t6/b7wDxMjsCJn4pFgcpb26BO4A4TwA515z3nDA\n",
       "1uuwpQ84rvVVJ/c6tuJsAfHz2OLNjAa+gS1B11BBQia9CxpHa68upVlerUt+cijRGw7Yeh22yIFJ\n",
       "x8Tmt9XZUbckziqc38WWLGcPk3nfJsbZF2RKtbBTUk2cBe5eXVK5vPJodnI82xsO2HodttiB4WR2\n",
       "cdrW+sY1PP8eV96IrYK5ThTvy0L4dzG+8Gz5Z086CdtLvum/2nPHU3vDAVuvw5Y5UAfMyfqyjS1S\n",
       "fo8r7+wk5rXVoIZDbzZcQRdmxGn2wUYQeHJP+/Y8R1RvOGDrddjKbLhn6ci9IT2EI32W52PLfkyH\n",
       "eovS3tia7N+30iTvOScxtvRbeY2u/Pg552L1hgO2Xoet/ACKcvui/ZNjY+ubB/ekrDe2pvv3/Qkh\n",
       "J+ebesMBW6/DVnrAv5la9p7Han84QU37VZw0/sFmT5PyZH694YCt12GLHkARBbYekmBKX13lgS1g\n",
       "6yq2wifB0Pv3MQG2zplbJvm7ok9iSz8LW7x8ddf+I+p7E6E2fCDvyL3AFuQt2JJl6DdYWw+xtuwB\n",
       "FFlgC9j6vhQnsVWgk/hD2AqfDW3ti44GA7Z+VcTJFf3ecMDW67D1//8VvtvXkXuBLUgk+c+//nVv\n",
       "OGAL1hawBYG1BWwBW8AWBNgCtoAtYAvYAraALWAL2AK2gC1gC9iCAFvAFrAFbAFbwBawBWwBW8AW\n",
       "sAVsAVuQv4AtHO96IRFgC9j669jC8a6wtoAtCKwtYAvYArYgwBawNUHRfx/A1n+/57ECW78q/z6J\n",
       "rX8DW7C2gC1gC9YWsAVsAVsQYAvYAraALWAL2AK2gC1gC9gCtoAtYAsCbAFbwBawBWwBW8AWsAVs\n",
       "AVvAFrAFbEGALWAL2AK2gK3XYAvHu15IBNgCtv46tnC8K6wtYOtjr7v8IY+6FLC2gC1gC9gKKFFC\n",
       "0hCkFOdpNArKGTPGBwvKLudGrVwBW8CWLxH1T3jqR+4FtqKLDsCWrikwK7VA20irGVZUeoPSHl1k\n",
       "liyuvGbmP/+cM0994YAtWFvA1oOwxV0/kk0triyIW3zSBbVVFNLe0Bn06VKSZHEFawvYegK2VnUQ\n",
       "r6SIDZJvYysrR6hgjCg5N6N2gvatl4+wJdMmd11x5v2t9YXIabmPLZHyqUmX8uUVsAVsPQBbbM3R\n",
       "ksXhVmxsfV+HfWxJOnrseVV4PK2rQUhnrw06Kb02HFdclsnIn9Vjq6hil0aKfKcKcKPyFiG9LsQs\n",
       "r4AtYOup2Ap7+QNbJ7Cl2PDYS3c3qz1HbFGMRekJOq5CtRXEq5+rDyJ58+/uo8aWu6i7d6z5r9BE\n",
       "FRtVgLQI6XXhPVP4DpWALWDr+9hK0u9x5cexZYvhsWfOhtF1y116vTXxBB2ZX1nd5gV19ShLRPOy\n",
       "cd9rbLmLKhapG3zRGj8B2Bp0GbqaeQlsAVuPxNbo/c7017jy29gSnUVTP3armp/qh53LPWx1Qbmh\n",
       "qQsoq79S9ghLCrPSSTSNwaW1c2MKGoCtQRfVA0xlwBaw9UhsjRrK/pA3sLUUyXLLtgfduold9WPn\n",
       "HbZqxGi2h602KKepLqmpy0gIobpWr0hS0BVslUaYyg5rY89COomDLqSPkVBgC9h6OraWL39g6xYx\n",
       "+fDYpWVNPSBr/fIFttqgpr5RVq2dTgZGcz4Z7xs6dTq3tKOVEkkItnpdiv6XYhtLON71CfKHjnf1\n",
       "YEuzb3FlISqlmbwt+i9jK8tWsOU+5t7yBbbaoM42m82F2JRh0hXjCQnCVqeL6KeFie0JYjjeFdbW\n",
       "E7AVxSl/qro1E5LEXdF/HlvcjiYf5GbcSWSNIeOeuzADp2uh1H2YWVDRTj8Lf61kXQ3Jq2DpilZL\n",
       "bHW6yH4UQNoCnURg6/HYUsX9OT5T3VjTStO7oo9R5Xfmtaaj6STd9cglr5sinNu3C2sr7Rz4spZw\n",
       "Snimig5aLbHV6cJ7WHFgC9jaw9YHj3d1dXbl/S7MM7CVtxDg4dH3hsTy4uudxLG11Xb7yiZvc2/i\n",
       "AlttUEvu1mmJrU6XYe3QzioiHO8KbD3C2hpe/vY1sjAklhdJjPQmYjb/eYKt0g3PKYfUxditD1uK\n",
       "uoYuI2Kr12WoojstAtYWsPUIbMUYSvzVTuKkTW37yk02fuxpvbiHOjtmMVNuOZLYBOUpLQuS3mhz\n",
       "dVWAdRWy1+WvjSQCWy/HVpSJW3/BJb/z3Lr5T81j54oR02RtweXlvK1u6pRKbX5nT7HRxRhqc1NO\n",
       "dCnp8grYArYei60o0+TPToCwYUu7n4Atorf37yvGs+THkFK72CpspJ3C/boos7wCtoCtx2IryqJE\n",
       "GzfcE7BVG1ub+/fRYhUVy5lpy6XUtIijs18XrEkEtt6ErThbQPw+tmpja3v/vvEOEIPwkD3oFYuj\n",
       "tFcX7AABbD0fW6P3exYl/z+PLd7MaOAb2BJ0DRUkZNK7oB/B1qBLaZZXwBaw9SxsHXz5A1uDtGdg\n",
       "DQ+TeXvZxhUYmVItbJKcibMBt1eXVC6vgC1g66nYInFOovtZbBXMtT7eDyMK/y7GF14J/LPHmf29\n",
       "veRxvOuFRD6KLbLWmTFxcvzDncS89jup4dCbjfpzYZW6Zh9sBEdO7sHxrrC2cHLPSWx98QiMeovS\n",
       "3tia7N+3Ykncc05ibOm38hpdoZMIbAFbkcN9cgFiynpja7p/358QYAvYwvGuL8SWpv3icxr/YLOn\n",
       "CY53BbZgbb0QW0lKX13lYW0BW8DW38OWNsnfFWAL2AK23oitPy3AFrAFbAFbwBawBWwBWxBgC9gC\n",
       "toAtCLAFbAFbwBawBWwBW8AWBNgKFxzveiERYAvY+uvYwvGusLaALQisLWAL2AK2IMAWsDVB0QeP\n",
       "dwW2INcFx7sCW7C2gC1YW8AWsAVsQYAtYAvYArYgwBawBWwBW8AWsAVsAVsQYAvYAraALQiwBWwB\n",
       "W8AWsAVsAVvAFrAFbAFbwBawBfl9bOF41wuJAFvA1l/HFo53hbUFbEFgbQFbwBawBQG2gK2R4HhX\n",
       "YOtlguNdgS1YW8AWrC1gC9gCtiDAFrAFbAFbEGAL2AK2gC1gC9gCtoAtCLAFbAFbwBYE2AK2gC1g\n",
       "C9gCtoAtYAvYArZOCI53vZAIsAVs/XVs4XhXWFvAFgTWFrAFbAFbEGAL2JqgCMe7AluvEhzvCmx9\n",
       "zdpKFbAFeYW1Zfpvury9ScaJ/GNEiav+47DFbQ5sQV6BLVV033J5e5OME/nHsBVX/edZW7G3dAW2\n",
       "gK2bsCU6k0Jm9zfJOJF/DFtx1YdLHtgCts76tvI2HNMRmmSUyD+GrbjqA1vAFrB1Fltl67bJYzTJ\n",
       "KJF/DltR1Qe2gC1g6/RIIk1roSxKk4wR+eewFVV9YAvYArZOY0uJ+m920h/LtpvktchvEu11qJMk\n",
       "ovql0mWpCs3EO7AVaSTRrkiUgDZIYmgKbH0eW9J0f87I+lSffr3dKHKhrClr93Y6RZ3v99Vsbt9L\n",
       "CGGCJZzRlFWPQ1FTE6OsBwQ5Y8bwC+rPbt2a4lRoUg9CapJV9lqRaLadyGOsrTjztuxZK8geDGdP\n",
       "anM6QUg0bAWsSayNCVb4456O/stU1TeX1Gw038GSGEWum+SKeVK+31cNp7V7BTFZVrS2kar1ykbK\n",
       "cdNdqnRhAhUsWP3paGK5gguSKUMkSWhtudQhRMIrA0bpP91JBLaArQjWVmUVbDqduZ3CQZvEmTI8\n",
       "CFujyFW+3jHz/b5q3K3cq1TbC6Pu7whbjknN7Ctb/ZVWLEygnIeqP5sEkc2hyTNThdIZS6oPUetS\n",
       "UbJOJk1KYAvYArbuxVbVLssNZuh8Cgdd3awcEphSKq3+K7aa5BB527Fb2De+31f7Mct7SQ+F3PUC\n",
       "5QxbaZNX3mBrbgKtzm1YVX+GLSVn0GTc3Vi6RB3HKiVI9VlZYAex9VNrEoGt35evrElkurU5SlUK\n",
       "QkxFgqxzI0uW5nWHaoCDFrqoekIsCbK2hsi5LVatKt/v65bf4l6ejfqvNm0YOsKWHAxJli5NIK0C\n",
       "1XfYKohp7blEqik0eSka3eqgSoS8aWBtAVuwtk5jS7Z+Kl4WtGqF9TcyuOhzPYWDFpVhoYtQbHWR\n",
       "926pukXL0eDc6PfWl73v2hIDN4py6uWyZIqtYujNpXxpAhVZoPo1tip7qnrMgg7W1/BctBwGLKtO\n",
       "NAG2gC1gKya2EtMYB5KT2jSpu1Jq6Ia5iEdw0PU/JyQLxFYX+dgtJXTK19xVdPCk7bu22s5bmWdO\n",
       "dLumTtQRmKzHlh5W6Ky6sbJA9WtMSa7TpMu6W149PJeSl138ubU2BbaALWArKraGNko6b3LfGgo6\n",
       "g0ONLc46RzULbpJuiC9pHEDJGFvD750v24+t4V6SNu4pMWjQACp1/9gr13GpNs7kUqu9TuIgWfeA\n",
       "TJMFl/DwXIQoxMEiA7aALWDrBmxR0RgT0iZdG6y6i1yM4VBjq+7OHW2SRY0S3sbTYMt9m/zufNnt\n",
       "1+mfxb2dPTMYUc7x1cyyctglYrhPZkIItXxGhBzCFi3qh+TidT750XNpXfLB+ygEYUua1FpjTJaV\n",
       "wBaw9XpsiZTfjy1pW4OizOren+ODIm6+wwAHN3tz7PwKbZLasN6B3WgvqJ793vqy3T8IKkd/5vfy\n",
       "vO/8dYRVBauk+df6qvk9c6pQz5znTB7DlkwK6/jUerWG5yKZAxkjd2Krvq0ZAaA5sAVsvRpb3Kjc\n",
       "RsBWUbeQenapNIR38FClGMNBpPlsD70jTTKZYKvC0PTnwZe90hr1vHfXso6zupvmdeUXWzMreJYc\n",
       "wpZWRJvape/8+hNoVnpUPUYlknuxJRtsVYXFrmLr2KZhEtgCtu62tkgMbG2RYgcOh7AlCG3mSxVT\n",
       "pQdfdrHMzewnqcrAhqXk0X/zY2v59dBzuYAtserlP4ItcswwK8g9VRrYArY+i62Cn85GGFLKA/9w\n",
       "fl9k5s1GWYSrn93cqA9iq1hd6HwAWzpsHwvJmGooTO7ZiRrYArY+i63T9XaYDPAI4Qf/YVX9KbbM\n",
       "5Qx6n9E6tlj1a5FTotl4jWg4tjpfIE833yi8HlnVTaz5LYUIbAFbh7Ely9Bv92bj907ukWEkjGNt\n",
       "cUJdYVGlpS3PYEu1ofR2BSN1hO0WNuUtO0IAW38PWyodifm0tQVsfSORObZSxljnl0rTKTHDsUX7\n",
       "GrXtF6ineCRth5TeYW4BW7C2gK3fx5b6R06wNe6d5mbr3g3RnWcsYFezyiJrTLO8t+tMm8yJw0CA\n",
       "rd8X/s8/YTfOsOUNB2y93tqaYEtt3bvVR3S0KkxmM7M3mlCkLa5YD0mZitEHsAWBtQVshWOLncRW\n",
       "3ru2dvUipluHWQ6Dlw5YZ6jVN/3Rns/2ZMAPYSs0we8ZNzZ/WoOBbwvYioCtbpGpCqnw7UhiokcL\n",
       "RCtknaLW0PSHPZ/tyYCfsrYCE/yexNk+G9YWsHUXtsTkzZqe7STSdobayLXF89ErcQokaofdNAZu\n",
       "eal19NAJe/K0isD7t4yRWxP8vLy9k8imlR7Y+k1sSZNbazrUFMZSo69gq9tn0a9Vc1ZRE21Bw7D1\n",
       "NN/WhjEC39YXsWUMtbkpga3ft7Z2mvbBTqJzbfHNCPmALZ3e2Un8HLaudhKBrVjWVmg4YAvYcvYT\n",
       "6V1begs+zWaubSexHG94fdUlD2wBW8AWsHXo3nYugzHdRo0eKctkmLc17HGLCRCQ38eW9+jSd8hH\n",
       "1P/s8a6i2y2x3FnRVSilug0t0t4R1k2JkMdH3oEtYOtwuIDjXWFt/QFrKzlhJ8n0jnx+b97W2ogi\n",
       "5m3B2gK23oOtE+ui1S1L7b84b2tlRBHztoAtYCsOtqIc75odzdOJ9YfoJP5N+crxrsDWH7C2PPtP\n",
       "38k5YOuvCqwtYCvWgWPy2Ias5KZnAGwBW8AWsHX23i8JsAVsAVvAFrAFbAFbwBaw9dvYGs8XALaA\n",
       "LWAL2HqDtTWaLwBsAVvAFrAVTB9sE3ibYLopsAVsfcjawjaBtwmmmwJbwNavdxKPYgudxL+JrYcd\n",
       "7/pI9QOPdwW2gK2/hy0c7wprC9gCtmBtAVvAFrAFAbaArZEEH9l68F5gC9iK5fAIPd41NBywBWsr\n",
       "VOKMT50+gOZowMtn37zoqBxYW8AWsNW8+mLPBrIfDgdjCdgCtn7e2oo9fApsAVvAFrD1Cpc8sAVs\n",
       "AVvAFrAFbAFbwBawBWxBgC1gC9gCtoAtYAvYio4tjCRC/ja2cLzrhUR+bN4WsAVsHQ6H411hbaGT\n",
       "CIG1BWwBW8AWBNgCtiYoinK8K7AFiSU43hXYgrUFbMHaAraALWALAmwBW8AWsAUBtoAtYAvYAraA\n",
       "LWAL2IIAW8AWsAVsQYAtYAvYAraALWAL2AK2gC1gC9gCtoAtyO9jC8e7XkgE2AK2/jq2cLwrrC1g\n",
       "CwJrC9gCtoAtCLAFbI3kx453BbZ+X3C8K7AFawvYgrUFbAFbwBYE2AK2gC1gCwJsAVvAFrAFbAFb\n",
       "wBawBQG2gC1gC9iCAFvAFrAFbAFbwBawBWwBW8DWCcHxrhcSAbaArb+OLRzvCmsL2ILA2gK2gC1g\n",
       "CwJsAVsTFOF4V2DrVYLjXYEtWFvAFqwtYAvYArYgwBawBWwBWxBgC9gCtoAtYAvYAraALQiwBWwB\n",
       "W8DWK6QUwBawBWwBWyHCyzwAKcV5Go2DcsaM8dCCsst5UStXwBawBWz9GrYEIenuTVqdjn8atP6i\n",
       "0miZkdnyCtgCtoCt3+sk6l2M8MYem5V9UJ+OT005W5le0l7vDfpUKcny6rexheNdLyQCbJ0LZ0Pk\n",
       "69jKmsNJ2bSnmIXQJ5uea1rXnx5bMm3y1zIo72+tL0RON45/x69XAAAKvUlEQVRE9aqS8uXVh7CF\n",
       "411hbR141R549z8PWw8wwHaxJemEFYwRJQN7jl3QCXLa9LjiVWseHFo9tooqdmmkyPexJRo4DaoQ\n",
       "s7xCJxHYegC22Jp/OIvDLWArSRQbP/e8Kj2e1vUgwEellm52Rxpe/V59EMndDe5vjS13UXfvWPvf\n",
       "VhXgRuUtQnpVeM8UvkMlYAvY+ujxrqvYuuA1BrZ20i9Gz710d7Pa480Wr5+i9AQd2V9Z3egFdXUg\n",
       "S4QrNve1xpa7qLAldYsvqTarAGkRMqgydDXz7Y4ZjncFtr5vbSVxxqeArarQ+ei5Z67vpevflqN1\n",
       "mniCDtSqMCRlj7CkMMtOommIpetq4vGsz7E1qKJWrmBtAVuPwtbo9c6iOPqBraSfIOGeu23MI1eG\n",
       "udzBVh+UG5oqhxchhOqavSJJQZfYKo0wlRnm+oup0iHYGlQhfYSEAlvA1iOxNWon+zN1gK0VkSy3\n",
       "bHOygMlHz5132KoZo9kOtrqgnKa6pJUVRSdDozkfD/gNnTqdW5oVWzb0Alu9KkUPlWIbS8AWsPUA\n",
       "bC3f/cDWLZJlo+cuLWsqAlmDyhxbXVBT3yjDMdF3DXkeiK1eFdHPChPb88OALWDrCdjSLEKO34It\n",
       "ldIsUgXIzRq23IcqtrHVBXW22XwO1xYpuxqiVVKGYatTRfajANIWwBaw9XRsRXHKvwRbzcTNI3NA\n",
       "tme2cjuYOamadBJZ0wFzD16YAZu1UOo+zCyoaGMPfq/0PUepSrmm0xJbnSq8hxUHtoCtF2BLFa/F\n",
       "Vt8klxchcbEGCzdyO1Xr1lbrktdNGc4NXI+1JayWtfDbdFpiq1NlWDok0UkEtp6GrZXX+/Dut6+R\n",
       "RZNcXiQx0vOYXrudxNZdVTZNd+5O9HYSyc0VcYmtTpWhiu60CBzv+gT5Q8e7+qytGM6td3QS85Y6\n",
       "J82ZctPpZMYu+aR00wqUMwUXg7eLkcT2BkWdZve9WBfY6lX53kgijneFtXUGWzGGEt+BrYudxO2p\n",
       "I/38p+a5p/XiHur6X4upcot5W21QntKyIOl9NldXBVhXIXtVyn62Vol5W8DW87EVZeLWz7rkx3DZ\n",
       "Lo9iMks+4YoR06S0wOQcW4PBo1Kb39hTbFQxhtrclBNVlFleAVvAlgdFHzze1YOtKNPkXzMBwtLT\n",
       "i8mz7V1HE1osnnvz8NUetvqgd4tfleA1iTjeFdh6grUVZVHia6abnm8XtbG1uevodAeIEe4WlWGx\n",
       "lFqxOBXRqwp2gAC2XoWtOFtA/D62eN233tx1VNBVVvCAPegF/Qi2BlVKs7wCtoCtZ2Fr9HqPM0n8\n",
       "h7ElR3uWTnYdXYjRa6wgIZPeTZydbL2qpHJ5BWwBW8/C1rF3P7A17tAx1/x4P5DBvL3s9tmSKdZM\n",
       "kC0Xp1h8qvy9veSBrVdji8TZrfuXO4l57XhS/crjjc3XL8yI0+yDjQAn9wBbj8UWWevMmDg5/mVs\n",
       "1Xv99cZWs+uoT+46JzGy9Dt5ja6ALWALB47djK3bju45o2jKemNrsuvonxBgC9gCtm4K99EENe2W\n",
       "cU53HQW2gC1gC9h6aoIpbcuTfuJARmArguB41wuJAFuvxJY2yZ8VHO8KawvYeiW2/rKgkwhsAVvA\n",
       "FrAFbL0MWx893hXYArauC453BbZgbQFbsLaALWAL2AK2gC1gC9gCtiDAFrAFbAFbwBawBWwBW8AW\n",
       "sAVsAVvAFgTYAraALWAL2AK2gC1gC9gCtoAtYAvYggBbwBawBWwBW8AWsAVsAVvAFrAFbAFbEGAL\n",
       "2ArDVviO4UfuBbaALWAL2IK1BWxBgC1gC9gCtt6JrXvDAVuvwxa14bvOHrkX2AK2IklxElsFsAVs\n",
       "AVvAFrAFbH0nkfQAilJgC9gCtoCt72MrtyQ4kiP3AlvAViTRlt4bDth6HbYyy4IjOXLvpyF19ojo\n",
       "u86WDsfPXen9WSltem84YOt12DJWBUdy5N4H2lb2xnAxbwO2toXY/N5wwNbrsKVs+EGhR+4FtoCt\n",
       "SMJsdm84YOt12DpSB87WF2AL2LpR1Emj3xsO2HodtsoDFnd50jr/RWzZs04xYOuqZCdHhrzhgK3X\n",
       "Yas4MCxTnBzCGclCC/FWbCXRUnwGtmKV1HXJTy7W8IYDtl6HLXlg4EpeH+Ri88XY2T2tAdi6W2KV\n",
       "1HWhVtwbDth6Hbaq3k548vayqovGoO8ZnGwrlzSpTU39UjXU5iQcIlsB42DLn+JDsaWfMox8ciW1\n",
       "Pxyw9T5spQd2o0kv71yzaAxJek9V7hPoVCTsmO3jDxjL2vKl+FBs3VRS13uvJ10V/nDA1vuwZQ6s\n",
       "2DGXV/csGwO7ZVcJOzgw2gvFj0HEHzAWtnwpPhVb7Bn7fxQnB4b84YCt92GLHBhOJpfnmy4bg7xl\n",
       "UkVfufo5GuYgRPwBY2HLl+JTsSWfMf2FnFyr4Q8HbL0PW0deXsXlGRDLxpDkd2Tf9hq2XiLOjkFk\n",
       "I2AkbHlTfCq27impy2JODiT6wwFb78MWPzA8yC8PJbrGwIlynU3jOkf6joWOnV6sGy0qi2MQ2QgY\n",
       "CVveFB+ErQgldVnSkx55fzhg633YqopTHih6eUNjYImmoxpxh6u3q1xp53ZVByGyETAStrwpPghb\n",
       "EUrqqvCTHvmNcMDWC7HFDvjZ2VWffN0YhE5U3QBM2+NUNxysYbu62fmJ3Ccv80CITANyxozhQdji\n",
       "Xb95eXEkxXEP7DnYilFSV0WfXBi7EQ7YeiG2igP1oLi6mLpuDBUPaO3Woa1vR/Rx2vPS1c0Wq7KO\n",
       "WxAytg+21t9MA9b2j0q3teqNJuW9OJBiRbHkhqdwhwSV1C+5toCtN2IroQdKhtrr2Krpx+t5NK1v\n",
       "5w6XiZ35i1iTXZ0GWlvTgPWEql69SJ3Emao6f2InMUJJXZWzNXAjHLD1RmypA4sllBU3NAZnyZCu\n",
       "QtwxQNVja9LxOoKtccCSfwJboxQlS3MmHoit+0vqckU2t4cDtt6IreLARJji4ganTWPI6iqUZQ4P\n",
       "90wH6juJjUfKyIPYmgesNE2DfFunsTVLMdePtLbuL6mLQk72EbfCAVtvxFZCD4zNUHpDY1BVYxCU\n",
       "JQ6Bt0y+7u2B2q8kTWe4BGNrHjARaZhL/jS2ZimORucfZW3dXlIXJaf3hwO2XoktcmCpIbm2LLFp\n",
       "DNwwoqUhrsneMqo+zIbKjBrWJYdjaxZQZjsYuWNN4ijFgh6M+kPYur+krtZjdn84YOuV2EqO+Auu\n",
       "jSUu517fs7GAp3IdwNZEZKWUlJGxNXkbmIQ/0bd1f0ldE3NyrulmOGDrndhiByoDO1lxfI0huyX3\n",
       "92JLZkKIfoHzJ7BVmV2MPxxb2febGT/50twOB2y9E1v8gOnNLznlF42B37PP82rlkiy3jJyACJ3M\n",
       "zPoEtoQqxRM7ifeX1CUhJ9vKdjhg653YqoqVH6gC/MbGQO456Bq7m0bHFnnAkeRUxQgHbL0UW0l6\n",
       "wIRKL5hbZD7t66Z518DW7YZNpJK6ZmzxGOG+hS0njz3D7wnq7yWiD7BTP/A18cyTe96MrQcKP7ki\n",
       "diNcOimnrW/356Z0Ury1MD6h/m4i6sBUQvW84xIfcE7ibZoCWx4x2e3hmmZRBnyDPFLSMs69wBaw\n",
       "dY8UlH80HOQNfdUDhSseVxGArT/wYi0+Gw7yipeZjHPvZ7B11tN09nDpmJqiLq76OYrPhuvl/wBM\n",
       "vzJEYTDsBQAAAABJRU5ErkJggg==\n",
       "\" style=\"display:inline;vertical-align:middle;\" /></a></span>"
      ],
      "text/plain": [
       "|- forall_{m, t in NaturalPos} [forall_{U_{1}, U_{2}, ..., U_{t} in SU(2^{m})} [forall_{|u> in Complex^{2^{m}}} [forall_{varphi_{1}, varphi_{2}, ..., varphi_{t} | ((U_{1} . |u>) = (e^{2 * pi * i * varphi_{1}} * |u>)), ((U_{2} . |u>) = (e^{2 * pi * i * varphi_{2}} * |u>)), ..., ((U_{t} . |u>) = (e^{2 * pi * i * varphi_{t}} * |u>))} (Pr(QCIRCUIT(([INPUT]{state:|+〉}, [INPUT]{state:|+〉}, ..(t - 3) ×.., [INPUT]{state:|+〉},[MULTI_QUBIT_ELEM]{element:[INPUT]{state:|u>, part:1}, targets:{t + 1 .. t + m}}, [MULTI_QUBIT_ELEM]{element:[INPUT]{state:|u>, part:2}, targets:{t + 1 .. t + m}}, ..., [MULTI_QUBIT_ELEM]{element:[INPUT]{state:|u>, part:m}, targets:{t + 1 .. t + m}}),([MULTI_QUBIT_ELEM]{element:CONTROL, targets:{t + 1}}, [GATE]{operation:I}, ..., [GATE]{operation:I},[MULTI_QUBIT_ELEM]{element:[GATE]{operation:U_{1}, part:1}, targets:{t + 1 .. t + m}}, [MULTI_QUBIT_ELEM]{element:[GATE]{operation:U_{1}, part:2}, targets:{t + 1 .. t + m}}, ..., [MULTI_QUBIT_ELEM]{element:[GATE]{operation:U_{1}, part:m}, targets:{t + 1 .. t + m}}), ([GATE]{operation:I}, [MULTI_QUBIT_ELEM]{element:CONTROL, targets:{t + 1}}, ..., [GATE]{operation:I},[MULTI_QUBIT_ELEM]{element:[GATE]{operation:U_{2}, part:1}, targets:{t + 1 .. t + m}}, [MULTI_QUBIT_ELEM]{element:[GATE]{operation:U_{2}, part:2}, targets:{t + 1 .. t + m}}, ..., [MULTI_QUBIT_ELEM]{element:[GATE]{operation:U_{2}, part:m}, targets:{t + 1 .. t + m}}), ..., ([GATE]{operation:I}, [GATE]{operation:I}, ..., [MULTI_QUBIT_ELEM]{element:CONTROL, targets:{t + 1}},[MULTI_QUBIT_ELEM]{element:[GATE]{operation:U_{t}, part:1}, targets:{t + 1 .. t + m}}, [MULTI_QUBIT_ELEM]{element:[GATE]{operation:U_{t}, part:2}, targets:{t + 1 .. t + m}}, ..., [MULTI_QUBIT_ELEM]{element:[GATE]{operation:U_{t}, part:m}, targets:{t + 1 .. t + m}}), ([OUTPUT]{state:((1 / sqrt(2)) * (|0〉 + (e^{2 * pi * i * varphi_{1}} * |1〉)))}, [OUTPUT]{state:((1 / sqrt(2)) * (|0〉 + (e^{2 * pi * i * varphi_{2}} * |1〉)))}, ..., [OUTPUT]{state:((1 / sqrt(2)) * (|0〉 + (e^{2 * pi * i * varphi_{t}} * |1〉)))},[MULTI_QUBIT_ELEM]{element:[OUTPUT]{state:|u>, part:1}, targets:{t + 1 .. t + m}}, [MULTI_QUBIT_ELEM]{element:[OUTPUT]{state:|u>, part:2}, targets:{t + 1 .. t + m}}, ..., [MULTI_QUBIT_ELEM]{element:[OUTPUT]{state:|u>, part:m}, targets:{t + 1 .. t + m}}))) = 1)]]]"
      ]
     },
     "execution_count": 24,
     "metadata": {},
     "output_type": "execute_result"
    }
   ],
   "source": [
    "phase_kickbacks_on_register"
   ]
  },
  {
   "cell_type": "code",
   "execution_count": 25,
   "metadata": {},
   "outputs": [
    {
     "data": {
      "text/html": [
       "<strong id=\"Uexponentials\">Uexponentials:</strong> <a class=\"ProveItLink\" href=\"../../../__pv_it/_proof__psi_t_output/ebf5205426a012e4be012db75cd50c54d48078270/expr.ipynb\"><img src=\"data:image/png;base64,iVBORw0KGgoAAAANSUhEUgAAANEAAAAmBAMAAACog2N9AAAAMFBMVEX///+IiIi6urrc3NxEREQi\n",
       "IiJ2dnbu7u4QEBDMzMwyMjKYmJhUVFSqqqpmZmYAAAAHKSyHAAAAAXRSTlMAQObYZgAAAAlwSFlz\n",
       "AAAOxAAADsQBlSsOGwAAAuJJREFUSMe9VktrE1EUPukkM2neK3Gl+QPSBLsQKaa7IhQJiFRBY8DH\n",
       "SvDqwoWbBASLC2lcCO1CEze6s9GNIi4KKiqoxJULF4mCFB+EWpWSaonnzKPJzNx7J1lMDsyZk/nu\n",
       "vd+c5wQAINEAf+UyM40fPhPB+Jxxj9bszw+Yd2WGt8tC9+xKD8SSfZ8BeGrYi8yOPTDvt+Z4Oy20\n",
       "rK0NxHQP0JGgkZ+7dihQsNLGY9pGM+PlQYi0Msyjnic7vtH3/OwbBnkQMNnRoHf0Lp17qeThmFUK\n",
       "oWIPSkAir9VAabfbn91MdvSrt0Mt+II+XUErh8mCal+akmmlE2/VBT7ZUJWlPJnWIVepUZ4gSO48\n",
       "74OiTOko3zPGjxtXHX1mQ5e7eU+mR8iU/UgbopTUvzZQle5X80N20hmrY7awq36hMXXyeANebWI8\n",
       "bjL3cjnqFuXFn7cQW7jTa1mAAvqlt8V5LKRAUdStcpTj+jqqHXhNbr/ZN4CYPiGWqbQYTYC9nJ1y\n",
       "1C0RevtVfLOWYmYVdgOEV8j4jVcMoYNLq5ydctQtyWlUeO7k0m3LqWYFklR/Yz+pz5C22+XMGDnK\n",
       "kQlMqYbnLnS71qNqA5LUH2oH1UNh2KUoL68VzL99hJTqkKOmCZX1jhaIHOXIUX2g2AOaIreQccUI\n",
       "LF/kKGeq/jPyamMqwgR52cQQKsLpIkfdEqdhkHUwtQyfKLBqRhZ2MSrI6ykBk9vdfiYpymFac0cb\n",
       "85Sj2mti2T/j7mKeqCNH5hcv5ogBlniJEhBpwVSFm9xNT7RUM1Xv131QXjuWYomH9fI9/U6Q8SPM\n",
       "Cw3RAboqkEEzVZ395FxZTUNkWl5HbEj0g6B+GSTkfzzUYdGi8EMV3ZCedWFIVBPEeRahLelZqSHR\n",
       "gGAlNfMhGIGM0Zf98SiYVL0V0iNgCjcsOr9lp66vjYDpuq6f+E8UMOIWqfvOtM+Yt9phv4m0E6ax\n",
       "n/nMFLSiplR8ZrpI6j+TIs7XSSo0xgAAAABJRU5ErkJggg==\n",
       "\" style=\"display:inline;vertical-align:middle;\" /></a><br>"
      ],
      "text/plain": [
       "Uexponentials: (U^{2^{t - 1}}, U^{2^{t - 2}}, ..., U^{2^{0}})"
      ]
     },
     "execution_count": 25,
     "metadata": {},
     "output_type": "execute_result"
    }
   ],
   "source": [
    "Uexponentials = ExprTuple(ExprRange(k, MatrixExp(_U, Exp(two, k)), \n",
    "                                    subtract(t, one), zero, order='decreasing'))"
   ]
  },
  {
   "cell_type": "code",
   "execution_count": null,
   "metadata": {},
   "outputs": [],
   "source": []
  },
  {
   "cell_type": "markdown",
   "metadata": {},
   "source": [
    "### We should automate the following so it isn't necessary."
   ]
  },
  {
   "cell_type": "code",
   "execution_count": 26,
   "metadata": {},
   "outputs": [
    {
     "data": {
      "text/html": [
       "<span style=\"font-size:20px;\"><a class=\"ProveItLink\" href=\"../../../../circuits/__pv_it/theorems/71c1fc00120f763c694cd99d32f7a5e7315b9ca50/expr.ipynb\"><img src=\"data:image/png;base64,iVBORw0KGgoAAAANSUhEUgAAADwAAAATBAMAAAA+KHOiAAAAMFBMVEX///8QEBCYmJjMzMwyMjKI\n",
       "iIhERERUVFS6urp2dnZmZmaqqqrc3NwiIiLu7u4AAAAqt126AAAAAXRSTlMAQObYZgAAAAlwSFlz\n",
       "AAAOxAAADsQBlSsOGwAAAOZJREFUKM9jYMANFjDgBQmkS/PdT/Nj4JSXwKWbbUM7A8N7uG6+O6jS\n",
       "7Hc4FRgYGbjS0sTSkhgYuP+hSW9j8GHghevmugARDrt71wEsfSjgCJI07wSwbEscTPeBYtYJcOn2\n",
       "/PQAIMXjBzf8ABtDBkL3frAgywGENPOCt2/hobYEIo1w2gEGbe5EOPcmmDS8CwQJUGn2B4XwUPoB\n",
       "pp4h6+YreAvjcX9geAByP7I0gykbjMflwG0ApFgD4IEK5LKawRUXPAXT3jABlg1w94I8nKQApp9n\n",
       "PADTzP5iQPIJRkx15kICFQUAALDXOQj7yj+HAAAAAElFTkSuQmCC\n",
       "\" style=\"display:inline;vertical-align:middle;\" /></a> <a class=\"ProveItLink\" href=\"../../../__pv_it/_proof__psi_t_output/89871ba0d5f000965a1d4b11eb9d110c4d91890d0/proof.ipynb\" style=\"text-decoration: none\">&nbsp;&#x22A2;&nbsp;&nbsp;</a><a class=\"ProveItLink\" href=\"../../../__pv_it/_proof__psi_t_output/8afb10f6aa8f77dcebf7979419c993d5259c0f1e0/expr.ipynb\"><img src=\"data:image/png;base64,iVBORw0KGgoAAAANSUhEUgAAAMEAAAAVBAMAAAANw5eWAAAAMFBMVEX////MzMxUVFRERES6uroi\n",
       "IiIQEBCYmJhmZmYyMjLu7u52dnaqqqqIiIjc3NwAAACW8nlqAAAAAXRSTlMAQObYZgAAAAlwSFlz\n",
       "AAAOxAAADsQBlSsOGwAAAiNJREFUSMeFlT1LA0EQhtePmPOMIU1qQwS1EYKNlVEstBIS8RoVSREs\n",
       "bAxYqJ2NiNgEQQQbg8EihRj8A2qhIEFynY3ogaQUBG1MIc7uJefs3CQObDhm99n35uMmQghHIAsL\n",
       "1pTbYTYc0dbUdv8Ndj3zJ7tt+Jnz+3XYbwqpYE+ozByLFoR4ktflfFuVNrd3LLqImcfeEqxzPXJz\n",
       "5BQUemGJE3oJhs0Vfe9sv+4ihvZie7CqBXLPKziCO/CwRRUwHKo3HmabGay7SI+GZGDtCkZBrMHq\n",
       "odoYNlKNh0esAMiDVgYZ9RKrcAyrlxYCw4EypwDIgRZ1WXQPfo5yClew+mJkB8HTk2M2owDIMSbk\n",
       "S4Y+2Bi2YQVliIalTIlhuCq4GABZxncFoL2NPKtwL5OYITsY3mcVAMlCnx2pt4pAXaaa+SwpV/pP\n",
       "YUB2OA0Pw275di1r1bLmPQVAslpvgMLlFBvDjPyyM34F73P4YmMAxJelqjA5hTsZcorUAcFQvgKX\n",
       "pZSYwHd12TKft5zChixbguwg2MiHIlylE6oLPZPtGDdtcs+102hMg04tBHfGLkiW+n5cJKoNK0jD\n",
       "2ya5Jr5+CE28IJNIS4Tg8HhOV+gc+h5WSCCCkXSrQRmWJahRrw6TGJTVGiPNs61WCmrG7VGvDpPJ\n",
       "543SpFbqVv9ZbzKOhM+dbP8H5CJFbeAnWhxN8vLFfxQUEtZa550/2S9PvjDvaLdXAOQXhaOUHpnb\n",
       "y3IAAAAASUVORK5CYII=\n",
       "\" style=\"display:inline;vertical-align:middle;\" /></a></span>"
      ],
      "text/plain": [
       "{t in NaturalPos} |- (-(t - 1)) = (-t + 1)"
      ]
     },
     "execution_count": 26,
     "metadata": {},
     "output_type": "execute_result"
    }
   ],
   "source": [
    "Neg(subtract(t, one)).simplification()"
   ]
  },
  {
   "cell_type": "code",
   "execution_count": 27,
   "metadata": {},
   "outputs": [
    {
     "data": {
      "text/html": [
       "<strong id=\"t_gt_0\">t_gt_0:</strong> <span style=\"font-size:20px;\"><a class=\"ProveItLink\" href=\"../../../../circuits/__pv_it/theorems/71c1fc00120f763c694cd99d32f7a5e7315b9ca50/expr.ipynb\"><img src=\"data:image/png;base64,iVBORw0KGgoAAAANSUhEUgAAADwAAAATBAMAAAA+KHOiAAAAMFBMVEX///8QEBCYmJjMzMwyMjKI\n",
       "iIhERERUVFS6urp2dnZmZmaqqqrc3NwiIiLu7u4AAAAqt126AAAAAXRSTlMAQObYZgAAAAlwSFlz\n",
       "AAAOxAAADsQBlSsOGwAAAOZJREFUKM9jYMANFjDgBQmkS/PdT/Nj4JSXwKWbbUM7A8N7uG6+O6jS\n",
       "7Hc4FRgYGbjS0sTSkhgYuP+hSW9j8GHghevmugARDrt71wEsfSjgCJI07wSwbEscTPeBYtYJcOn2\n",
       "/PQAIMXjBzf8ABtDBkL3frAgywGENPOCt2/hobYEIo1w2gEGbe5EOPcmmDS8CwQJUGn2B4XwUPoB\n",
       "pp4h6+YreAvjcX9geAByP7I0gykbjMflwG0ApFgD4IEK5LKawRUXPAXT3jABlg1w94I8nKQApp9n\n",
       "PADTzP5iQPIJRkx15kICFQUAALDXOQj7yj+HAAAAAElFTkSuQmCC\n",
       "\" style=\"display:inline;vertical-align:middle;\" /></a> <a class=\"ProveItLink\" href=\"../../../__pv_it/_proof__psi_t_output/b82759e943b4c362af8f7683a620900743fc21f30/proof.ipynb\" style=\"text-decoration: none\">&nbsp;&#x22A2;&nbsp;&nbsp;</a><a class=\"ProveItLink\" href=\"../../../__pv_it/_proof__psi_t_output/c758c70c1e2a33ae6d0e7265bfb5f15bc1b519680/expr.ipynb\"><img src=\"data:image/png;base64,iVBORw0KGgoAAAANSUhEUgAAAC0AAAAQBAMAAABw0OvaAAAAMFBMVEX///8QEBCYmJjMzMwyMjKI\n",
       "iIhERERUVFS6urp2dnZmZmaqqqrc3NwiIiLu7u4AAAAqt126AAAAAXRSTlMAQObYZgAAAAlwSFlz\n",
       "AAAOxAAADsQBlSsOGwAAALZJREFUGNNjYMAEM6MOAEm+O2jCLBvAQtz/0MR1GRimASmuCyDOEwW4\n",
       "eDoDw/4HDAy8E0AcvrkBMPFfDAz2Gxja89MhIrHzIMJ8IHGg7v1wc9eBKZ6fQHGg0iVwg7esgYsD\n",
       "zb6JcElLHcgcoHh/AAPfDyTxPKi9+zcwcH9geAAzpwZMpTEw6D9g4HLgNoDauwZCK4LtZC94yoDi\n",
       "TgbeDXzCQOuTwD7li4X7i29luAHcyrcKDEQBAIOqLhDyBraQAAAAAElFTkSuQmCC\n",
       "\" style=\"display:inline;vertical-align:middle;\" /></a></span><br>"
      ],
      "text/plain": [
       "t_gt_0: {t in NaturalPos} |- t > 0"
      ]
     },
     "execution_count": 27,
     "metadata": {},
     "output_type": "execute_result"
    }
   ],
   "source": [
    "t_gt_0 = greater(t, zero).prove()"
   ]
  },
  {
   "cell_type": "code",
   "execution_count": 28,
   "metadata": {},
   "outputs": [
    {
     "data": {
      "text/html": [
       "<span style=\"font-size:20px;\"> <a class=\"ProveItLink\" href=\"../../../__pv_it/_proof__psi_t_output/a6e9fb4f7c9922037618f99ca857747adb4af3da0/proof.ipynb\" style=\"text-decoration: none\">&nbsp;&#x22A2;&nbsp;&nbsp;</a><a class=\"ProveItLink\" href=\"../../../__pv_it/_proof__psi_t_output/c07f0539fc7765fb6bdf129a63fe92be05bcd2d00/expr.ipynb\"><img src=\"data:image/png;base64,iVBORw0KGgoAAAANSUhEUgAAAE8AAAAVBAMAAAD1D64kAAAAMFBMVEX////MzMxUVFRERES6uroi\n",
       "IiIQEBCYmJhmZmYyMjLu7u52dnaqqqqIiIjc3NwAAACW8nlqAAAAAXRSTlMAQObYZgAAAAlwSFlz\n",
       "AAAOxAAADsQBlSsOGwAAASNJREFUKM9jYGB4wIAM+BhwAd4DKFyWC7gUnkZiiy5gYLiOqWT3DaCt\n",
       "XBPgfC6N+UCFnAvQ1XEe4IpjYOAoQBK6D1TE3oCusJSBYTMDAxsDmkKGLASfZx6INGJgOL+A4SSG\n",
       "wulwLnsE2Bk/GBjkDzB0YyjcBA+PaLA6LpDCAiT9MIWVUM7qWGjI/gYqvMAQg6HwGIT9IpwBSeEG\n",
       "hhSg2VNDQUAAqlAeLM00Bx5qQIX+F0AK0Ux0Q1MI8sz5A1isPopmNYMxA0P9AgZbDIXFaJ5hKGNg\n",
       "6EQKDBDYD0pJ8ABbGwuJTdYDXInAdICkTil/EjBCQxABDg3I7ktAj7IKoMUsXwCCzT4PiY2eBlBS\n",
       "CTKwQ+M/xpVwFxPQiHATatrnfYBdGQCH309Qvw6GFwAAAABJRU5ErkJggg==\n",
       "\" style=\"display:inline;vertical-align:middle;\" /></a></span>"
      ],
      "text/plain": [
       "|- (-1) < 0"
      ]
     },
     "execution_count": 28,
     "metadata": {},
     "output_type": "execute_result"
    }
   ],
   "source": [
    "from proveit.numbers import Less\n",
    "Less(Neg(one), zero).prove()"
   ]
  },
  {
   "cell_type": "code",
   "execution_count": 29,
   "metadata": {},
   "outputs": [
    {
     "data": {
      "text/html": [
       "<strong id=\"nt_lt_0\">nt_lt_0:</strong> <span style=\"font-size:20px;\"><a class=\"ProveItLink\" href=\"../../../../circuits/__pv_it/theorems/71c1fc00120f763c694cd99d32f7a5e7315b9ca50/expr.ipynb\"><img src=\"data:image/png;base64,iVBORw0KGgoAAAANSUhEUgAAADwAAAATBAMAAAA+KHOiAAAAMFBMVEX///8QEBCYmJjMzMwyMjKI\n",
       "iIhERERUVFS6urp2dnZmZmaqqqrc3NwiIiLu7u4AAAAqt126AAAAAXRSTlMAQObYZgAAAAlwSFlz\n",
       "AAAOxAAADsQBlSsOGwAAAOZJREFUKM9jYMANFjDgBQmkS/PdT/Nj4JSXwKWbbUM7A8N7uG6+O6jS\n",
       "7Hc4FRgYGbjS0sTSkhgYuP+hSW9j8GHghevmugARDrt71wEsfSjgCJI07wSwbEscTPeBYtYJcOn2\n",
       "/PQAIMXjBzf8ABtDBkL3frAgywGENPOCt2/hobYEIo1w2gEGbe5EOPcmmDS8CwQJUGn2B4XwUPoB\n",
       "pp4h6+YreAvjcX9geAByP7I0gykbjMflwG0ApFgD4IEK5LKawRUXPAXT3jABlg1w94I8nKQApp9n\n",
       "PADTzP5iQPIJRkx15kICFQUAALDXOQj7yj+HAAAAAElFTkSuQmCC\n",
       "\" style=\"display:inline;vertical-align:middle;\" /></a> <a class=\"ProveItLink\" href=\"../../../__pv_it/_proof__psi_t_output/695f2b26e7fe3ab98d7f752780c0d3625f12bd470/proof.ipynb\" style=\"text-decoration: none\">&nbsp;&#x22A2;&nbsp;&nbsp;</a><a class=\"ProveItLink\" href=\"../../../__pv_it/_proof__psi_t_output/6578b3206841860d2acbb48b32b2a766a40297b70/expr.ipynb\"><img src=\"data:image/png;base64,iVBORw0KGgoAAAANSUhEUgAAAEsAAAAVBAMAAAD85A5eAAAAMFBMVEX////MzMxUVFRERES6uroi\n",
       "IiIQEBCYmJhmZmYyMjLu7u52dnaqqqqIiIjc3NwAAACW8nlqAAAAAXRSTlMAQObYZgAAAAlwSFlz\n",
       "AAAOxAAADsQBlSsOGwAAATxJREFUKM9jYGB4wIAEUDjIgPcAMs8Xl7LTqJoKMBTsvgG0gmsCQoAr\n",
       "joFhFroqzgMgYQ4k7Ty/GBgq0JWVMjBsZmBgQxLhCADyFyB0zQORRgwM5xcwnERSxroBaAfcdPYI\n",
       "sI4fDAzyBxi6Eaqc7I0uMHArwDwTDVbFBVJWwDAdybTzIDOgXlodC6H5fgOVXWCIQVLWCXJQApj5\n",
       "IpwBSdkGhhSguVNDQUCAIRoozPgBJMk0Bx5IQGX+F0DK4CJfgARLAqoykBfOH0C2lOcDwwIGngBU\n",
       "SxmMGRjqFzDYIgXbBB4BBnYDVC8wlIHdvAmhjElhLVDtBihvbSwkoFkPcCUyMIgilPGZA4OW1QEe\n",
       "vNCA674kABQWQI3Cpwgm+zwkdgOqsnYc6c0OhcdngEPZYhQeM65UzncBmXcPuyIAxsNFo5SewiIA\n",
       "AAAASUVORK5CYII=\n",
       "\" style=\"display:inline;vertical-align:middle;\" /></a></span><br>"
      ],
      "text/plain": [
       "nt_lt_0: {t in NaturalPos} |- (-t) < 0"
      ]
     },
     "execution_count": 29,
     "metadata": {},
     "output_type": "execute_result"
    }
   ],
   "source": [
    "nt_lt_0 = t_gt_0.left_mult_both_sides(Neg(one))"
   ]
  },
  {
   "cell_type": "code",
   "execution_count": 30,
   "metadata": {},
   "outputs": [
    {
     "data": {
      "text/html": [
       "<span style=\"font-size:20px;\"><a class=\"ProveItLink\" href=\"../../../../circuits/__pv_it/theorems/71c1fc00120f763c694cd99d32f7a5e7315b9ca50/expr.ipynb\"><img src=\"data:image/png;base64,iVBORw0KGgoAAAANSUhEUgAAADwAAAATBAMAAAA+KHOiAAAAMFBMVEX///8QEBCYmJjMzMwyMjKI\n",
       "iIhERERUVFS6urp2dnZmZmaqqqrc3NwiIiLu7u4AAAAqt126AAAAAXRSTlMAQObYZgAAAAlwSFlz\n",
       "AAAOxAAADsQBlSsOGwAAAOZJREFUKM9jYMANFjDgBQmkS/PdT/Nj4JSXwKWbbUM7A8N7uG6+O6jS\n",
       "7Hc4FRgYGbjS0sTSkhgYuP+hSW9j8GHghevmugARDrt71wEsfSjgCJI07wSwbEscTPeBYtYJcOn2\n",
       "/PQAIMXjBzf8ABtDBkL3frAgywGENPOCt2/hobYEIo1w2gEGbe5EOPcmmDS8CwQJUGn2B4XwUPoB\n",
       "pp4h6+YreAvjcX9geAByP7I0gykbjMflwG0ApFgD4IEK5LKawRUXPAXT3jABlg1w94I8nKQApp9n\n",
       "PADTzP5iQPIJRkx15kICFQUAALDXOQj7yj+HAAAAAElFTkSuQmCC\n",
       "\" style=\"display:inline;vertical-align:middle;\" /></a> <a class=\"ProveItLink\" href=\"../../../__pv_it/_proof__psi_t_output/97993cc6fa511ae2b549fdacffff5cb97cfb779d0/proof.ipynb\" style=\"text-decoration: none\">&nbsp;&#x22A2;&nbsp;&nbsp;</a><a class=\"ProveItLink\" href=\"../../../__pv_it/_proof__psi_t_output/fde3c25e8f38e41eebcbe5af29a5a0a62b79c07e0/expr.ipynb\"><img src=\"data:image/png;base64,iVBORw0KGgoAAAANSUhEUgAAAG4AAAAVBAMAAABVkMbKAAAAMFBMVEX////MzMxUVFRERES6uroi\n",
       "IiIQEBCYmJhmZmYyMjLu7u52dnaqqqqIiIjc3NwAAACW8nlqAAAAAXRSTlMAQObYZgAAAAlwSFlz\n",
       "AAAOxAAADsQBlSsOGwAAATdJREFUOMtjYGB4wIAX4JLmPYBfny8O8dN49DBGAc0twCrMNQHB54pD\n",
       "lV/U+QtIzkLXBhbmQDKO5xeEZoGJ8YIEKjC9BhRmQ+JzBED1X0DWx7YAYfA8uPBJJH2sG7Dp44S7\n",
       "iD1iAVy4G6HNyd7oAhZ93AowXvQChPB0JPvOM2Czjx0acqtjkf0Xg6SvE6s+ngQw+0U4SrikAIN/\n",
       "aigICDBEgwMnNDQsNTRUAa6P8QOIyTSHAV0fPPq+YLWPJQGbPiR38nxgWIDNnQHY3GmLFH0TeASw\n",
       "hYsBtnDZhNDHpLAWzZ3c/0DGQWOVYW3sAoSwKEIfn3kBqj4mtZ/qwNTgAI93SASChVkFMLMB3D4w\n",
       "eIpgss9DMBsw9bGgZJ127HnMDn+2ZeAzwC6+mIA+ZhwFBd8F/PruYRUFAPlSWRx8IbY9AAAAAElF\n",
       "TkSuQmCC\n",
       "\" style=\"display:inline;vertical-align:middle;\" /></a></span>"
      ],
      "text/plain": [
       "{t in NaturalPos} |- (-t + 1) < 1"
      ]
     },
     "execution_count": 30,
     "metadata": {},
     "output_type": "execute_result"
    }
   ],
   "source": [
    "nt_lt_0.derive_shifted(one)"
   ]
  },
  {
   "cell_type": "code",
   "execution_count": 31,
   "metadata": {},
   "outputs": [
    {
     "data": {
      "text/html": [
       "<strong id=\"t_geq_1\">t_geq_1:</strong> <span style=\"font-size:20px;\"><a class=\"ProveItLink\" href=\"../../../../circuits/__pv_it/theorems/71c1fc00120f763c694cd99d32f7a5e7315b9ca50/expr.ipynb\"><img src=\"data:image/png;base64,iVBORw0KGgoAAAANSUhEUgAAADwAAAATBAMAAAA+KHOiAAAAMFBMVEX///8QEBCYmJjMzMwyMjKI\n",
       "iIhERERUVFS6urp2dnZmZmaqqqrc3NwiIiLu7u4AAAAqt126AAAAAXRSTlMAQObYZgAAAAlwSFlz\n",
       "AAAOxAAADsQBlSsOGwAAAOZJREFUKM9jYMANFjDgBQmkS/PdT/Nj4JSXwKWbbUM7A8N7uG6+O6jS\n",
       "7Hc4FRgYGbjS0sTSkhgYuP+hSW9j8GHghevmugARDrt71wEsfSjgCJI07wSwbEscTPeBYtYJcOn2\n",
       "/PQAIMXjBzf8ABtDBkL3frAgywGENPOCt2/hobYEIo1w2gEGbe5EOPcmmDS8CwQJUGn2B4XwUPoB\n",
       "pp4h6+YreAvjcX9geAByP7I0gykbjMflwG0ApFgD4IEK5LKawRUXPAXT3jABlg1w94I8nKQApp9n\n",
       "PADTzP5iQPIJRkx15kICFQUAALDXOQj7yj+HAAAAAElFTkSuQmCC\n",
       "\" style=\"display:inline;vertical-align:middle;\" /></a> <a class=\"ProveItLink\" href=\"../../../__pv_it/_proof__psi_t_output/a0d3b65c37a9a224c33b2f0fed496d55294b2e640/proof.ipynb\" style=\"text-decoration: none\">&nbsp;&#x22A2;&nbsp;&nbsp;</a><a class=\"ProveItLink\" href=\"../../../__pv_it/_proof__psi_t_output/4afa2e4aa17fc0b8fe0445bda336dac5f4a4da320/expr.ipynb\"><img src=\"data:image/png;base64,iVBORw0KGgoAAAANSUhEUgAAACwAAAARBAMAAABUTlNBAAAAMFBMVEX///8QEBCYmJjMzMwyMjKI\n",
       "iIhERERUVFS6urp2dnZmZmaqqqrc3NwiIiLu7u4AAAAqt126AAAAAXRSTlMAQObYZgAAAAlwSFlz\n",
       "AAAOxAAADsQBlSsOGwAAAIlJREFUGNNjYMAEzPeABN8dEPOJAlz0+ZJ/QJIbRDDwzQ2Ai7OCRLgu\n",
       "QDix81CEeSdAebrzkITb89Nh2resQVK9H+GEljqE8BIk4TyE8E246JYahCF8P2CiuuuQrOT+wPAA\n",
       "iwO5HLgNsHiHveApmucZOP8wMPAkKaCFFHvhlyIGssDbuyBwGcYFALekLz75OovtAAAAAElFTkSu\n",
       "QmCC\n",
       "\" style=\"display:inline;vertical-align:middle;\" /></a></span><br>"
      ],
      "text/plain": [
       "t_geq_1: {t in NaturalPos} |- t >= 1"
      ]
     },
     "execution_count": 31,
     "metadata": {},
     "output_type": "execute_result"
    }
   ],
   "source": [
    "t_geq_1 = greater_eq(t, one).prove()"
   ]
  },
  {
   "cell_type": "code",
   "execution_count": 32,
   "metadata": {},
   "outputs": [
    {
     "data": {
      "text/html": [
       "<strong id=\"nt_leq_1\">nt_leq_1:</strong> <span style=\"font-size:20px;\"><a class=\"ProveItLink\" href=\"../../../../circuits/__pv_it/theorems/71c1fc00120f763c694cd99d32f7a5e7315b9ca50/expr.ipynb\"><img src=\"data:image/png;base64,iVBORw0KGgoAAAANSUhEUgAAADwAAAATBAMAAAA+KHOiAAAAMFBMVEX///8QEBCYmJjMzMwyMjKI\n",
       "iIhERERUVFS6urp2dnZmZmaqqqrc3NwiIiLu7u4AAAAqt126AAAAAXRSTlMAQObYZgAAAAlwSFlz\n",
       "AAAOxAAADsQBlSsOGwAAAOZJREFUKM9jYMANFjDgBQmkS/PdT/Nj4JSXwKWbbUM7A8N7uG6+O6jS\n",
       "7Hc4FRgYGbjS0sTSkhgYuP+hSW9j8GHghevmugARDrt71wEsfSjgCJI07wSwbEscTPeBYtYJcOn2\n",
       "/PQAIMXjBzf8ABtDBkL3frAgywGENPOCt2/hobYEIo1w2gEGbe5EOPcmmDS8CwQJUGn2B4XwUPoB\n",
       "pp4h6+YreAvjcX9geAByP7I0gykbjMflwG0ApFgD4IEK5LKawRUXPAXT3jABlg1w94I8nKQApp9n\n",
       "PADTzP5iQPIJRkx15kICFQUAALDXOQj7yj+HAAAAAElFTkSuQmCC\n",
       "\" style=\"display:inline;vertical-align:middle;\" /></a> <a class=\"ProveItLink\" href=\"../../../__pv_it/_proof__psi_t_output/4444958c92640966ac384f72188528179f125b370/proof.ipynb\" style=\"text-decoration: none\">&nbsp;&#x22A2;&nbsp;&nbsp;</a><a class=\"ProveItLink\" href=\"../../../__pv_it/_proof__psi_t_output/2435e42a7aa8def4745f958e4c0f360b0743cb960/expr.ipynb\"><img src=\"data:image/png;base64,iVBORw0KGgoAAAANSUhEUgAAAGkAAAAVBAMAAAC3TN2zAAAAMFBMVEX////MzMxUVFRERES6uroi\n",
       "IiIQEBCYmJhmZmYyMjLu7u52dnaqqqqIiIjc3NwAAACW8nlqAAAAAXRSTlMAQObYZgAAAAlwSFlz\n",
       "AAAOxAAADsQBlSsOGwAAAXxJREFUOMtjYGB4wIAEUDhQwIfKBSvhPYAs5ItF1x1ULljJaRQh3gIM\n",
       "TTwbEGzGKIgSrgkIMa44BoZZSMrngamVCJFFnb8YwEo4kAznAYpVwHnsEQvAdDuyU0C6gErYkMQ4\n",
       "AoD8BTAF0VBWArouoJKTSGKsQB9wQu1eHQtzwAR0XUAl3QghJ3ujCwzcCmD2inC4Azag6wIqmY4k\n",
       "dh7kG7DRi+bABTkL0HUBlcQgiXWCHAT2BhNCF+sBdF1AJSnAAJ8aCgICDNGgGPkAln4BdyGbAzDw\n",
       "wQoCobqASlKQousLkGBJQAsNkC5Uu4BKkFzI84FhAQNPAFrIY3FhAIMtUnRN4BFgYDdAi2XmCxih\n",
       "YcCwCSHEpLAWJaB5JjJAwhkBuP9B4kIUKUeYAwOZ1QEt8TIGIJmr9lMdrIRVAFXRU4w0H4guAFTC\n",
       "3oAq1I6hqwJdAKTEDjXfQgJjKSyCQMGBlr/BShajCDFjFgFcBgyYSviQQ5bhHpYS4C0qF6gEAInj\n",
       "WPv2O3lLAAAAAElFTkSuQmCC\n",
       "\" style=\"display:inline;vertical-align:middle;\" /></a></span><br>"
      ],
      "text/plain": [
       "nt_leq_1: {t in NaturalPos} |- (-t) <= (-1)"
      ]
     },
     "execution_count": 32,
     "metadata": {},
     "output_type": "execute_result"
    }
   ],
   "source": [
    "nt_leq_1 = t_geq_1.left_mult_both_sides(Neg(one))"
   ]
  },
  {
   "cell_type": "code",
   "execution_count": 33,
   "metadata": {},
   "outputs": [
    {
     "data": {
      "text/html": [
       "<span style=\"font-size:20px;\"><a class=\"ProveItLink\" href=\"../../../../circuits/__pv_it/theorems/71c1fc00120f763c694cd99d32f7a5e7315b9ca50/expr.ipynb\"><img src=\"data:image/png;base64,iVBORw0KGgoAAAANSUhEUgAAADwAAAATBAMAAAA+KHOiAAAAMFBMVEX///8QEBCYmJjMzMwyMjKI\n",
       "iIhERERUVFS6urp2dnZmZmaqqqrc3NwiIiLu7u4AAAAqt126AAAAAXRSTlMAQObYZgAAAAlwSFlz\n",
       "AAAOxAAADsQBlSsOGwAAAOZJREFUKM9jYMANFjDgBQmkS/PdT/Nj4JSXwKWbbUM7A8N7uG6+O6jS\n",
       "7Hc4FRgYGbjS0sTSkhgYuP+hSW9j8GHghevmugARDrt71wEsfSjgCJI07wSwbEscTPeBYtYJcOn2\n",
       "/PQAIMXjBzf8ABtDBkL3frAgywGENPOCt2/hobYEIo1w2gEGbe5EOPcmmDS8CwQJUGn2B4XwUPoB\n",
       "pp4h6+YreAvjcX9geAByP7I0gykbjMflwG0ApFgD4IEK5LKawRUXPAXT3jABlg1w94I8nKQApp9n\n",
       "PADTzP5iQPIJRkx15kICFQUAALDXOQj7yj+HAAAAAElFTkSuQmCC\n",
       "\" style=\"display:inline;vertical-align:middle;\" /></a> <a class=\"ProveItLink\" href=\"../../../__pv_it/_proof__psi_t_output/f90e5a3f93fe3bead4baa18c73c7b7210aa332060/proof.ipynb\" style=\"text-decoration: none\">&nbsp;&#x22A2;&nbsp;&nbsp;</a><a class=\"ProveItLink\" href=\"../../../__pv_it/_proof__psi_t_output/1d797afc880524ed79c5311b5b745ae315bacbb90/expr.ipynb\"><img src=\"data:image/png;base64,iVBORw0KGgoAAAANSUhEUgAAAG4AAAAVBAMAAABVkMbKAAAAMFBMVEX////MzMxUVFRERES6uroi\n",
       "IiIQEBCYmJhmZmYyMjLu7u52dnaqqqqIiIjc3NwAAACW8nlqAAAAAXRSTlMAQObYZgAAAAlwSFlz\n",
       "AAAOxAAADsQBlSsOGwAAAYFJREFUOMtjYGB4wIAX4JLmPYBfny8O8dO4tfB1TBZg4C3AEGeMYmDg\n",
       "moDgc8Whyj9m4P7CwDALIcAzD0Qu6vzFwMCBZBzPLwjNAhXTY2BIY2CogMuzRyyAeA2ojg3JfI4A\n",
       "qP4LEDp/AYP+Awa2BbCQiIayQPpOIulj3YCqT5WBQV+AgRNq++pYeFAC9XUjtDnZG11A0QcE8QwM\n",
       "3Apg1opwBmR905HsO8/AgKaP8S/QV+CQWzSHAUVfDJK+Tgx9rEC7eBJALCY0fSnA4J8aCgICDNHg\n",
       "wAkNDUsNDYU4rhlk5wcw80U4uj549H1Bt48dpJslAVu4ILmT5wPDAlR9pxn4HjDwBGCLB1uk6JvA\n",
       "I4Cij3EDA+8CBnYDbPG+CaGPSWEtqjufdnS0Ao3bgHDRRDDF/Y+BQRQpGZsXoOqL////JzBMHdCS\n",
       "NZPaT3UGVgHMfIAU7yBbseYV9gZMMRaUrNOOPZPZ4c+2DHyQYFkKjuNAhPhiAvqYcRQUfBfw67uH\n",
       "VRQAzu5dm73Uj8kAAAAASUVORK5CYII=\n",
       "\" style=\"display:inline;vertical-align:middle;\" /></a></span>"
      ],
      "text/plain": [
       "{t in NaturalPos} |- (-t + 2) <= 1"
      ]
     },
     "execution_count": 33,
     "metadata": {},
     "output_type": "execute_result"
    }
   ],
   "source": [
    "nt_leq_1.derive_shifted(two)"
   ]
  },
  {
   "cell_type": "code",
   "execution_count": 34,
   "metadata": {},
   "outputs": [
    {
     "data": {
      "text/html": [
       "<span style=\"font-size:20px;\"><a class=\"ProveItLink\" href=\"../../../../circuits/__pv_it/theorems/71c1fc00120f763c694cd99d32f7a5e7315b9ca50/expr.ipynb\"><img src=\"data:image/png;base64,iVBORw0KGgoAAAANSUhEUgAAADwAAAATBAMAAAA+KHOiAAAAMFBMVEX///8QEBCYmJjMzMwyMjKI\n",
       "iIhERERUVFS6urp2dnZmZmaqqqrc3NwiIiLu7u4AAAAqt126AAAAAXRSTlMAQObYZgAAAAlwSFlz\n",
       "AAAOxAAADsQBlSsOGwAAAOZJREFUKM9jYMANFjDgBQmkS/PdT/Nj4JSXwKWbbUM7A8N7uG6+O6jS\n",
       "7Hc4FRgYGbjS0sTSkhgYuP+hSW9j8GHghevmugARDrt71wEsfSjgCJI07wSwbEscTPeBYtYJcOn2\n",
       "/PQAIMXjBzf8ABtDBkL3frAgywGENPOCt2/hobYEIo1w2gEGbe5EOPcmmDS8CwQJUGn2B4XwUPoB\n",
       "pp4h6+YreAvjcX9geAByP7I0gykbjMflwG0ApFgD4IEK5LKawRUXPAXT3jABlg1w94I8nKQApp9n\n",
       "PADTzP5iQPIJRkx15kICFQUAALDXOQj7yj+HAAAAAElFTkSuQmCC\n",
       "\" style=\"display:inline;vertical-align:middle;\" /></a> <a class=\"ProveItLink\" href=\"../../../__pv_it/_proof__psi_t_output/97993cc6fa511ae2b549fdacffff5cb97cfb779d0/proof.ipynb\" style=\"text-decoration: none\">&nbsp;&#x22A2;&nbsp;&nbsp;</a><a class=\"ProveItLink\" href=\"../../../__pv_it/_proof__psi_t_output/fde3c25e8f38e41eebcbe5af29a5a0a62b79c07e0/expr.ipynb\"><img src=\"data:image/png;base64,iVBORw0KGgoAAAANSUhEUgAAAG4AAAAVBAMAAABVkMbKAAAAMFBMVEX////MzMxUVFRERES6uroi\n",
       "IiIQEBCYmJhmZmYyMjLu7u52dnaqqqqIiIjc3NwAAACW8nlqAAAAAXRSTlMAQObYZgAAAAlwSFlz\n",
       "AAAOxAAADsQBlSsOGwAAATdJREFUOMtjYGB4wIAX4JLmPYBfny8O8dN49DBGAc0twCrMNQHB54pD\n",
       "lV/U+QtIzkLXBhbmQDKO5xeEZoGJ8YIEKjC9BhRmQ+JzBED1X0DWx7YAYfA8uPBJJH2sG7Dp44S7\n",
       "iD1iAVy4G6HNyd7oAhZ93AowXvQChPB0JPvOM2Czjx0acqtjkf0Xg6SvE6s+ngQw+0U4SrikAIN/\n",
       "aigICDBEgwMnNDQsNTRUAa6P8QOIyTSHAV0fPPq+YLWPJQGbPiR38nxgWIDNnQHY3GmLFH0TeASw\n",
       "hYsBtnDZhNDHpLAWzZ3c/0DGQWOVYW3sAoSwKEIfn3kBqj4mtZ/qwNTgAI93SASChVkFMLMB3D4w\n",
       "eIpgss9DMBsw9bGgZJ127HnMDn+2ZeAzwC6+mIA+ZhwFBd8F/PruYRUFAPlSWRx8IbY9AAAAAElF\n",
       "TkSuQmCC\n",
       "\" style=\"display:inline;vertical-align:middle;\" /></a></span>"
      ],
      "text/plain": [
       "{t in NaturalPos} |- (-t + 1) < 1"
      ]
     },
     "execution_count": 34,
     "metadata": {},
     "output_type": "execute_result"
    }
   ],
   "source": [
    "nt_lt_0.derive_shifted(one)"
   ]
  },
  {
   "cell_type": "code",
   "execution_count": 35,
   "metadata": {},
   "outputs": [
    {
     "data": {
      "text/html": [
       "<span style=\"font-size:20px;\"><a class=\"ProveItLink\" href=\"../../../../circuits/__pv_it/theorems/71c1fc00120f763c694cd99d32f7a5e7315b9ca50/expr.ipynb\"><img src=\"data:image/png;base64,iVBORw0KGgoAAAANSUhEUgAAADwAAAATBAMAAAA+KHOiAAAAMFBMVEX///8QEBCYmJjMzMwyMjKI\n",
       "iIhERERUVFS6urp2dnZmZmaqqqrc3NwiIiLu7u4AAAAqt126AAAAAXRSTlMAQObYZgAAAAlwSFlz\n",
       "AAAOxAAADsQBlSsOGwAAAOZJREFUKM9jYMANFjDgBQmkS/PdT/Nj4JSXwKWbbUM7A8N7uG6+O6jS\n",
       "7Hc4FRgYGbjS0sTSkhgYuP+hSW9j8GHghevmugARDrt71wEsfSjgCJI07wSwbEscTPeBYtYJcOn2\n",
       "/PQAIMXjBzf8ABtDBkL3frAgywGENPOCt2/hobYEIo1w2gEGbe5EOPcmmDS8CwQJUGn2B4XwUPoB\n",
       "pp4h6+YreAvjcX9geAByP7I0gykbjMflwG0ApFgD4IEK5LKawRUXPAXT3jABlg1w94I8nKQApp9n\n",
       "PADTzP5iQPIJRkx15kICFQUAALDXOQj7yj+HAAAAAElFTkSuQmCC\n",
       "\" style=\"display:inline;vertical-align:middle;\" /></a> <a class=\"ProveItLink\" href=\"../../../__pv_it/_proof__psi_t_output/854ab7e4d8eeeb8a06da2e8ed955b9251d04a25d0/proof.ipynb\" style=\"text-decoration: none\">&nbsp;&#x22A2;&nbsp;&nbsp;</a><a class=\"ProveItLink\" href=\"../../../__pv_it/_proof__psi_t_output/c0c24e0a6e9c8a90b0132771e807314e157004980/expr.ipynb\"><img src=\"data:image/png;base64,iVBORw0KGgoAAAANSUhEUgAAAI4AAAAVBAMAAABicsu7AAAAMFBMVEX////MzMxUVFRERES6uroi\n",
       "IiIQEBCYmJhmZmYyMjLu7u52dnaqqqqIiIjc3NwAAACW8nlqAAAAAXRSTlMAQObYZgAAAAlwSFlz\n",
       "AAAOxAAADsQBlSsOGwAAAbxJREFUOMuNlD1LA0EQhicxMcnlEtKkNkRQGyHYWEWDhamEIJ6FBkkR\n",
       "LWwMWKidTZBgE2wEGw/FUgz+AbVQEAm5zk4Pgn1AG1OIM5sP73bnwIVbltl3nntn7nYBwAZ22P8O\n",
       "Qpym2D3PWWJiHtqAhdMLs+Fbw5yKGue0SRPgFUCr4/rK7fei1sX5TEkhrbbhDk2dIydiQphe2zJ7\n",
       "0fzAP3H2FQ5p9W6/loHdd8wNHcIorav9WNPJGTVlDmnDhd5atxwc2IZnWq9znIjSINIGGxznFI7R\n",
       "4vjnNMOJpmQOahfmZyyGc4skjHU4P6G66IkhhmCStgWcnwMokrbOcfSS7Ie0NZbzBOVhzVXD2DKM\n",
       "5SHH15E55UEr0eTqZt+k4IyJvZsc5ydQYjjaF+tnUXhtgcbVVZD7UxStNBnOI2RFzQ9cnzOynyy1\n",
       "Uk8wnF38YgBpzXJzoj/kpCFzUOtPXUt13dnij0ji3N5z98c/8T2J3c8pRxKviNmKm5PeOcHICgQT\n",
       "DmHTmfWhnC+nduhHXEAFOmJ/I+/MOlI4Tm2gIh3gOf4ag3hGjXlp2/hceuyNMHeol5b4cYvfe+M8\n",
       "8tqYDb+U6oLKe8Rj4QAAAABJRU5ErkJggg==\n",
       "\" style=\"display:inline;vertical-align:middle;\" /></a></span>"
      ],
      "text/plain": [
       "{t in NaturalPos} |- (t + 1) = (t + 1)"
      ]
     },
     "execution_count": 35,
     "metadata": {},
     "output_type": "execute_result"
    }
   ],
   "source": [
    "from proveit.numbers import Add\n",
    "Add(t, one).commutation()"
   ]
  },
  {
   "cell_type": "code",
   "execution_count": 36,
   "metadata": {},
   "outputs": [
    {
     "data": {
      "text/html": [
       "<span style=\"font-size:20px;\"><a class=\"ProveItLink\" href=\"../../../../circuits/__pv_it/theorems/71c1fc00120f763c694cd99d32f7a5e7315b9ca50/expr.ipynb\"><img src=\"data:image/png;base64,iVBORw0KGgoAAAANSUhEUgAAADwAAAATBAMAAAA+KHOiAAAAMFBMVEX///8QEBCYmJjMzMwyMjKI\n",
       "iIhERERUVFS6urp2dnZmZmaqqqrc3NwiIiLu7u4AAAAqt126AAAAAXRSTlMAQObYZgAAAAlwSFlz\n",
       "AAAOxAAADsQBlSsOGwAAAOZJREFUKM9jYMANFjDgBQmkS/PdT/Nj4JSXwKWbbUM7A8N7uG6+O6jS\n",
       "7Hc4FRgYGbjS0sTSkhgYuP+hSW9j8GHghevmugARDrt71wEsfSjgCJI07wSwbEscTPeBYtYJcOn2\n",
       "/PQAIMXjBzf8ABtDBkL3frAgywGENPOCt2/hobYEIo1w2gEGbe5EOPcmmDS8CwQJUGn2B4XwUPoB\n",
       "pp4h6+YreAvjcX9geAByP7I0gykbjMflwG0ApFgD4IEK5LKawRUXPAXT3jABlg1w94I8nKQApp9n\n",
       "PADTzP5iQPIJRkx15kICFQUAALDXOQj7yj+HAAAAAElFTkSuQmCC\n",
       "\" style=\"display:inline;vertical-align:middle;\" /></a> <a class=\"ProveItLink\" href=\"../../../__pv_it/_proof__psi_t_output/0728802cbfd0fb298292584e6636ac00450cf6860/proof.ipynb\" style=\"text-decoration: none\">&nbsp;&#x22A2;&nbsp;&nbsp;</a><a class=\"ProveItLink\" href=\"../../../__pv_it/_proof__psi_t_output/e05a99b1d7aebabae968555272b1b0696d1cf29e0/expr.ipynb\"><img src=\"data:image/png;base64,iVBORw0KGgoAAAANSUhEUgAAAI4AAAAVBAMAAABicsu7AAAAMFBMVEX////MzMxUVFRERES6uroi\n",
       "IiIQEBCYmJhmZmYyMjLu7u52dnaqqqqIiIjc3NwAAACW8nlqAAAAAXRSTlMAQObYZgAAAAlwSFlz\n",
       "AAAOxAAADsQBlSsOGwAAAgpJREFUOMuNlL1LHEEYxh839+Xe3nKNVYpIxDLxYpPKeFhoJSziBsHD\n",
       "u+K0SJMjKZJ0gSBZsTlIEbBaEMvg4T+gFgmIyG0nWMjCIVjJhdjkwGzed/eS25mdAwd2dmfeZ377\n",
       "zDsfAHwoi3/vTphcFY7UnEVF3xBtyqPqVMF3vhRRaCQDCu311jPgHNCb1NgT/XaQvwV2EmNYq6+J\n",
       "vyzhsIxRFzn+bduNehei11NgA3if4LDW6PXnEtnVfGRqyH5EhlubfeFZ9HrtYorirsxhbc6Kvg0v\n",
       "6upB+wO8wgm3VkXOJDBVxGgiQaxNtwSOZkH7CXzFNlmc+PVE4FCpAvlxmUPaudlpL85hchc4IBL1\n",
       "dSFxRu6AbDPMiR2WkMnaNiBxHtHXB1RY25Q5aRpn1GQ/rN1KcJbo+YH6/zlv2vaGbS+FsU/sqStz\n",
       "6v9SSSZfrvdN5krsKYztlyU/WVakagqOfiv7ecPVfOi1DV3knML0YVhyfiphKl2BY7RwA3zHTDjn\n",
       "Y4Ez0kLBRbYk+5nhVBpFgfMQuADe0ooBj3VP4Fw5Du3MXEvmkFYb/ybMy1xxHIt3xBifp3difqpB\n",
       "8JuyX5Y5pDWfNwROOggCWu1lpIsx4Vl81FXifMW1g3VnVxYfsUFZiI/6nODEtamGdIBfqK8xvhES\n",
       "ZZi2Q8/ukNgDxR06TMt801PHLlUe1dqCj79ibYLsh2WUsgAAAABJRU5ErkJggg==\n",
       "\" style=\"display:inline;vertical-align:middle;\" /></a></span>"
      ],
      "text/plain": [
       "{t in NaturalPos} |- (t + 2) = (t + 2)"
      ]
     },
     "execution_count": 36,
     "metadata": {},
     "output_type": "execute_result"
    }
   ],
   "source": [
    "Add(t, two).commutation()"
   ]
  },
  {
   "cell_type": "code",
   "execution_count": 37,
   "metadata": {},
   "outputs": [
    {
     "data": {
      "text/html": [
       "<strong id=\"k_gt_ntp1\">k_gt_ntp1:</strong> <span style=\"font-size:20px;\"><a class=\"ProveItLink\" href=\"../../../../circuits/__pv_it/theorems/71c1fc00120f763c694cd99d32f7a5e7315b9ca50/expr.ipynb\"><img src=\"data:image/png;base64,iVBORw0KGgoAAAANSUhEUgAAADwAAAATBAMAAAA+KHOiAAAAMFBMVEX///8QEBCYmJjMzMwyMjKI\n",
       "iIhERERUVFS6urp2dnZmZmaqqqrc3NwiIiLu7u4AAAAqt126AAAAAXRSTlMAQObYZgAAAAlwSFlz\n",
       "AAAOxAAADsQBlSsOGwAAAOZJREFUKM9jYMANFjDgBQmkS/PdT/Nj4JSXwKWbbUM7A8N7uG6+O6jS\n",
       "7Hc4FRgYGbjS0sTSkhgYuP+hSW9j8GHghevmugARDrt71wEsfSjgCJI07wSwbEscTPeBYtYJcOn2\n",
       "/PQAIMXjBzf8ABtDBkL3frAgywGENPOCt2/hobYEIo1w2gEGbe5EOPcmmDS8CwQJUGn2B4XwUPoB\n",
       "pp4h6+YreAvjcX9geAByP7I0gykbjMflwG0ApFgD4IEK5LKawRUXPAXT3jABlg1w94I8nKQApp9n\n",
       "PADTzP5iQPIJRkx15kICFQUAALDXOQj7yj+HAAAAAElFTkSuQmCC\n",
       "\" style=\"display:inline;vertical-align:middle;\" /></a>, <a class=\"ProveItLink\" href=\"../../../__pv_it/_proof__psi_t_output/45d7b55536c74331e9a3c1ae773d4623fd0107610/expr.ipynb\"><img src=\"data:image/png;base64,iVBORw0KGgoAAAANSUhEUgAAAJ0AAAAVBAMAAACu6/FQAAAAMFBMVEX///+IiIjMzMzc3NyYmJhU\n",
       "VFR2dna6urqqqqpmZmYyMjIiIiIQEBBERETu7u4AAAAsfX+gAAAAAXRSTlMAQObYZgAAAAlwSFlz\n",
       "AAAOxAAADsQBlSsOGwAAAbZJREFUOMtjYMAGnhcwkA6Ym3HJMC5/QIZ5DKr3gATfnQ0YEv34jGPa\n",
       "h0WQLXEykLwKYnJNwJDNRmLzbUaVezrrHxbzVjC8NoDq42/Aax4HVDu7AywwsJjHsoGB7QJUXz3M\n",
       "c4y3d+/CNI8TGhwcAnjM4w0A2wvWlwMVY1/4AJv7uBOIMI9/AgPTD6i+pQxt80C01QNs/i29f1WA\n",
       "sHnvgeZ9gejj+8LRfAQkthghPQs5rhmIcJ99AgPTRwYGGZC6zxVMYKMWIBLmEQZMswma9w1IAaOW\n",
       "84gCJFmd3r17916wcVHA3MG3ejcIKDBsA0fK7t17gPIBOP2bwMAOdB9fVAMD98pJkHR2AS6reQ8p\n",
       "+X1nIC4+OIDxwbYcaHRDPcSBSNnkKlLy+8DwgIj0coGB5R8kX/k/eN8AViqINT1zLuBQIGweywGg\n",
       "QkjSi2J4rwBOYlwN2MxjDXiI5l+2z5CA+AUjQGAHwxsFiL4bDIwTwT7ii63DYh7zFQdU81hjfoWA\n",
       "GTvhBBC8TAxCywfADJKLLb8xoMcHHpBNgji8PCDDPBkG8sAsHOL2DWQZx3cEV00wlRwDmVOBugC/\n",
       "BIKYzEwfBQAAAABJRU5ErkJggg==\n",
       "\" style=\"display:inline;vertical-align:middle;\" /></a> <a class=\"ProveItLink\" href=\"../../../__pv_it/_proof__psi_t_output/a54d2798e68a37261d80202921d41fb3117384e90/proof.ipynb\" style=\"text-decoration: none\">&nbsp;&#x22A2;&nbsp;&nbsp;</a><a class=\"ProveItLink\" href=\"../../../__pv_it/_proof__psi_t_output/3776b27af5f42d3c8f229e028b3f5f39722b8ac20/expr.ipynb\"><img src=\"data:image/png;base64,iVBORw0KGgoAAAANSUhEUgAAAHAAAAAVBAMAAABs93eRAAAAMFBMVEX///+IiIjMzMzc3NyYmJhU\n",
       "VFR2dna6urqqqqpmZmYyMjIiIiIQEBBERETu7u4AAAAsfX+gAAAAAXRSTlMAQObYZgAAAAlwSFlz\n",
       "AAAOxAAADsQBlSsOGwAAAXJJREFUOMtjYMAKmBnwAtzSEvg1sgswMPDd2YApwZGAR5f2AwYGESDN\n",
       "NQHCf+WAkHuFpO61AYo2vsj1QI1cQMzfABXJFoDLTkFS2f8AQpfABOSBAixA2+ofwESk82CsA0ga\n",
       "Z0PpRmSNDOcYGHIQaryhOjkWIGnchlXjEgaGpQxt82BiXZPBFCcibNhj/wZi05jKwPeFo/kIXF1V\n",
       "HIjkQgonjg9YbfRi4PhcwbQYofEeiORuQGjkXIBVYw8D5xEFhKquYDDFUwCMkd0gsImBG+zs2bt3\n",
       "n9m9eytCoz4D98pJiMCBehakEQbeF2C1sYbhfUO9Anp0IDu1n4EPm8ZuBv8H7xsE0BIALyIpMMxi\n",
       "aMKm0ZchiuG9QgJakmMLQGgM5RNA05gPSoPTGG4wME58gJaMmZDSva0Lmh9Dzy8FWrEdewbYhEWs\n",
       "ESVDbsCu0ROLWAkyhxMpibyGRhw4dAzwZ2QGWxzifBcIaLyMS8IQvz5GAwYAAmpkSYEiS3kAAAAA\n",
       "SUVORK5CYII=\n",
       "\" style=\"display:inline;vertical-align:middle;\" /></a></span><br>"
      ],
      "text/plain": [
       "k_gt_ntp1: {t in NaturalPos, k in {-t + 1 .. 0}} |- k >= (-t + 1)"
      ]
     },
     "execution_count": 37,
     "metadata": {},
     "output_type": "execute_result"
    }
   ],
   "source": [
    "from proveit.numbers import Interval\n",
    "tmp_assumptions = defaults.assumptions+(InSet(k, Interval(Add(Neg(t), one), zero)),)\n",
    "k_gt_ntp1 = greater_eq(k, Add(Neg(t), one)).prove(\n",
    "    assumptions=tmp_assumptions)"
   ]
  },
  {
   "cell_type": "code",
   "execution_count": 38,
   "metadata": {},
   "outputs": [
    {
     "data": {
      "text/html": [
       "<span style=\"font-size:20px;\"><a class=\"ProveItLink\" href=\"../../../../circuits/__pv_it/theorems/71c1fc00120f763c694cd99d32f7a5e7315b9ca50/expr.ipynb\"><img src=\"data:image/png;base64,iVBORw0KGgoAAAANSUhEUgAAADwAAAATBAMAAAA+KHOiAAAAMFBMVEX///8QEBCYmJjMzMwyMjKI\n",
       "iIhERERUVFS6urp2dnZmZmaqqqrc3NwiIiLu7u4AAAAqt126AAAAAXRSTlMAQObYZgAAAAlwSFlz\n",
       "AAAOxAAADsQBlSsOGwAAAOZJREFUKM9jYMANFjDgBQmkS/PdT/Nj4JSXwKWbbUM7A8N7uG6+O6jS\n",
       "7Hc4FRgYGbjS0sTSkhgYuP+hSW9j8GHghevmugARDrt71wEsfSjgCJI07wSwbEscTPeBYtYJcOn2\n",
       "/PQAIMXjBzf8ABtDBkL3frAgywGENPOCt2/hobYEIo1w2gEGbe5EOPcmmDS8CwQJUGn2B4XwUPoB\n",
       "pp4h6+YreAvjcX9geAByP7I0gykbjMflwG0ApFgD4IEK5LKawRUXPAXT3jABlg1w94I8nKQApp9n\n",
       "PADTzP5iQPIJRkx15kICFQUAALDXOQj7yj+HAAAAAElFTkSuQmCC\n",
       "\" style=\"display:inline;vertical-align:middle;\" /></a>, <a class=\"ProveItLink\" href=\"../../../__pv_it/_proof__psi_t_output/45d7b55536c74331e9a3c1ae773d4623fd0107610/expr.ipynb\"><img src=\"data:image/png;base64,iVBORw0KGgoAAAANSUhEUgAAAJ0AAAAVBAMAAACu6/FQAAAAMFBMVEX///+IiIjMzMzc3NyYmJhU\n",
       "VFR2dna6urqqqqpmZmYyMjIiIiIQEBBERETu7u4AAAAsfX+gAAAAAXRSTlMAQObYZgAAAAlwSFlz\n",
       "AAAOxAAADsQBlSsOGwAAAbZJREFUOMtjYMAGnhcwkA6Ym3HJMC5/QIZ5DKr3gATfnQ0YEv34jGPa\n",
       "h0WQLXEykLwKYnJNwJDNRmLzbUaVezrrHxbzVjC8NoDq42/Aax4HVDu7AywwsJjHsoGB7QJUXz3M\n",
       "c4y3d+/CNI8TGhwcAnjM4w0A2wvWlwMVY1/4AJv7uBOIMI9/AgPTD6i+pQxt80C01QNs/i29f1WA\n",
       "sHnvgeZ9gejj+8LRfAQkthghPQs5rhmIcJ99AgPTRwYGGZC6zxVMYKMWIBLmEQZMswma9w1IAaOW\n",
       "84gCJFmd3r17916wcVHA3MG3ejcIKDBsA0fK7t17gPIBOP2bwMAOdB9fVAMD98pJkHR2AS6reQ8p\n",
       "+X1nIC4+OIDxwbYcaHRDPcSBSNnkKlLy+8DwgIj0coGB5R8kX/k/eN8AViqINT1zLuBQIGweywGg\n",
       "QkjSi2J4rwBOYlwN2MxjDXiI5l+2z5CA+AUjQGAHwxsFiL4bDIwTwT7ii63DYh7zFQdU81hjfoWA\n",
       "GTvhBBC8TAxCywfADJKLLb8xoMcHHpBNgji8PCDDPBkG8sAsHOL2DWQZx3cEV00wlRwDmVOBugC/\n",
       "BIKYzEwfBQAAAABJRU5ErkJggg==\n",
       "\" style=\"display:inline;vertical-align:middle;\" /></a> <a class=\"ProveItLink\" href=\"../../../__pv_it/_proof__psi_t_output/e08bb4817e29dac4b1d983d8309ab2e2137c32910/proof.ipynb\" style=\"text-decoration: none\">&nbsp;&#x22A2;&nbsp;&nbsp;</a><a class=\"ProveItLink\" href=\"../../../__pv_it/_proof__psi_t_output/18742624aa913c848c5174e6d70250a6c7ffb49c0/expr.ipynb\"><img src=\"data:image/png;base64,iVBORw0KGgoAAAANSUhEUgAAAGAAAAAVBAMAAABLWfZ5AAAAMFBMVEX////MzMxUVFRERES6uroi\n",
       "IiIQEBCYmJhmZmYyMjLu7u52dnaqqqqIiIjc3NwAAACW8nlqAAAAAXRSTlMAQObYZgAAAAlwSFlz\n",
       "AAAOxAAADsQBlSsOGwAAAWdJREFUOMtjYGB4wIAV8DHgALwHsIuzXMCh4TQDA5dZABaJ65hCjFFA\n",
       "xROADM4GdKmlDxg4F4BZKwvggos6fzEwcID4/HBnuUPp8wsY2CGmcG1FuI0XqIENxPBfABM6C6Vb\n",
       "gTgLyr66C1nDSRBjGwO6hmggng4TLN2FpKEbxJjEcLoLWQOL8mddBoZNcGNO9iE0gIzh+s5zLh3F\n",
       "Bp4PQKISEQaeWnANMSDpfz6M81A0cIDC7hiSBiu4hhSQdLoAxKehoWmhoUFAFusGICGPcJIeA4oG\n",
       "1hmNaJ5e7wAk3OCe7kLyNMhJ6w/4C6BqOM/AxcBwFGuw2gLp+gXrD1xA0dDJcJCBoRhrxIHCTpNh\n",
       "vcAGFA1KXBegIY6cNBi4/zEwiAJpGwbe3gUoGh6XA4kQ9ATGpPZTnYFVAEXsLFKGCMCautlRE6o7\n",
       "gslRgD0/2OHKWY+hCT0UBAIR4otxacBlEh+OrMiLPa8DAOd7YWiVczHfAAAAAElFTkSuQmCC\n",
       "\" style=\"display:inline;vertical-align:middle;\" /></a></span>"
      ],
      "text/plain": [
       "{t in NaturalPos, k in {-t + 1 .. 0}} |- (k + t) >= 1"
      ]
     },
     "execution_count": 38,
     "metadata": {},
     "output_type": "execute_result"
    }
   ],
   "source": [
    "from proveit.numbers import Integer\n",
    "Add(k, t).deduce_bound(k_gt_ntp1, assumptions=tmp_assumptions)"
   ]
  },
  {
   "cell_type": "code",
   "execution_count": 39,
   "metadata": {},
   "outputs": [
    {
     "data": {
      "text/html": [
       "<span style=\"font-size:20px;\"><a class=\"ProveItLink\" href=\"../../../../circuits/__pv_it/theorems/71c1fc00120f763c694cd99d32f7a5e7315b9ca50/expr.ipynb\"><img src=\"data:image/png;base64,iVBORw0KGgoAAAANSUhEUgAAADwAAAATBAMAAAA+KHOiAAAAMFBMVEX///8QEBCYmJjMzMwyMjKI\n",
       "iIhERERUVFS6urp2dnZmZmaqqqrc3NwiIiLu7u4AAAAqt126AAAAAXRSTlMAQObYZgAAAAlwSFlz\n",
       "AAAOxAAADsQBlSsOGwAAAOZJREFUKM9jYMANFjDgBQmkS/PdT/Nj4JSXwKWbbUM7A8N7uG6+O6jS\n",
       "7Hc4FRgYGbjS0sTSkhgYuP+hSW9j8GHghevmugARDrt71wEsfSjgCJI07wSwbEscTPeBYtYJcOn2\n",
       "/PQAIMXjBzf8ABtDBkL3frAgywGENPOCt2/hobYEIo1w2gEGbe5EOPcmmDS8CwQJUGn2B4XwUPoB\n",
       "pp4h6+YreAvjcX9geAByP7I0gykbjMflwG0ApFgD4IEK5LKawRUXPAXT3jABlg1w94I8nKQApp9n\n",
       "PADTzP5iQPIJRkx15kICFQUAALDXOQj7yj+HAAAAAElFTkSuQmCC\n",
       "\" style=\"display:inline;vertical-align:middle;\" /></a>, <a class=\"ProveItLink\" href=\"../../../__pv_it/_proof__psi_t_output/45d7b55536c74331e9a3c1ae773d4623fd0107610/expr.ipynb\"><img src=\"data:image/png;base64,iVBORw0KGgoAAAANSUhEUgAAAJ0AAAAVBAMAAACu6/FQAAAAMFBMVEX///+IiIjMzMzc3NyYmJhU\n",
       "VFR2dna6urqqqqpmZmYyMjIiIiIQEBBERETu7u4AAAAsfX+gAAAAAXRSTlMAQObYZgAAAAlwSFlz\n",
       "AAAOxAAADsQBlSsOGwAAAbZJREFUOMtjYMAGnhcwkA6Ym3HJMC5/QIZ5DKr3gATfnQ0YEv34jGPa\n",
       "h0WQLXEykLwKYnJNwJDNRmLzbUaVezrrHxbzVjC8NoDq42/Aax4HVDu7AywwsJjHsoGB7QJUXz3M\n",
       "c4y3d+/CNI8TGhwcAnjM4w0A2wvWlwMVY1/4AJv7uBOIMI9/AgPTD6i+pQxt80C01QNs/i29f1WA\n",
       "sHnvgeZ9gejj+8LRfAQkthghPQs5rhmIcJ99AgPTRwYGGZC6zxVMYKMWIBLmEQZMswma9w1IAaOW\n",
       "84gCJFmd3r17916wcVHA3MG3ejcIKDBsA0fK7t17gPIBOP2bwMAOdB9fVAMD98pJkHR2AS6reQ8p\n",
       "+X1nIC4+OIDxwbYcaHRDPcSBSNnkKlLy+8DwgIj0coGB5R8kX/k/eN8AViqINT1zLuBQIGweywGg\n",
       "QkjSi2J4rwBOYlwN2MxjDXiI5l+2z5CA+AUjQGAHwxsFiL4bDIwTwT7ii63DYh7zFQdU81hjfoWA\n",
       "GTvhBBC8TAxCywfADJKLLb8xoMcHHpBNgji8PCDDPBkG8sAsHOL2DWQZx3cEV00wlRwDmVOBugC/\n",
       "BIKYzEwfBQAAAABJRU5ErkJggg==\n",
       "\" style=\"display:inline;vertical-align:middle;\" /></a> <a class=\"ProveItLink\" href=\"../../../__pv_it/_proof__psi_t_output/fd37b4de16c19bd1b81e6df1b058fe89cdd3deb40/proof.ipynb\" style=\"text-decoration: none\">&nbsp;&#x22A2;&nbsp;&nbsp;</a><a class=\"ProveItLink\" href=\"../../../__pv_it/_proof__psi_t_output/c00c7ec30b89561a2caede940e63408524d826fe0/expr.ipynb\"><img src=\"data:image/png;base64,iVBORw0KGgoAAAANSUhEUgAAAGEAAAAVBAMAAACkm51HAAAAMFBMVEX////MzMxUVFRERES6uroi\n",
       "IiIQEBCYmJhmZmYyMjLu7u52dnaqqqqIiIjc3NwAAACW8nlqAAAAAXRSTlMAQObYZgAAAAlwSFlz\n",
       "AAAOxAAADsQBlSsOGwAAAY9JREFUOMtjYGB4wIAV8DHgArwHsIuzXMCl4zQDA5dZABaJ65hCu28A\n",
       "HcQ1AcjibECXW/qAgXMBuiDnAa44BgaOAiCTH+4ydyh9fgEDO4YxpQwMmxkY2EBMf7hxZ6F0KxBn\n",
       "gVkrC+A6jMAmnQQxtzGg64gG4ulgFtdWeBD8YGCQP8DQDWJOYjjdhayDRfmzLgPDJqjCq7sgNBdI\n",
       "RwHYIK7vPOfSUezg+QAkKuHuhxjH9xuo4wJDDEj+nw/jPBQdHKAQPAZ368k+uI4NDCkg+XQBiHdD\n",
       "Q9NCQ4OALNYNQEIeEUqeWiCnAHX4XwDrYJ3RiObz9Q5Awg1JhxXU5+cPgF21/oC/AKqO8wxcDAxH\n",
       "Ea7SA1PGDAz1CxhsGUDU+gMXUHR0MhxkYCiG+7wPQpeBJMBBqMmwXmADig4lLqAJ3Wihy8B6gCuR\n",
       "gUEUyLJh4O1dgKLjcTmQCIHEwlV4DHJ1XwK6nlUAJemcRcogkAS9tAAtdaGlN3cEk6MAR/6ww5Vx\n",
       "HuOSWMxAqlF8OHInL478DwD3ZmbqCWri1wAAAABJRU5ErkJggg==\n",
       "\" style=\"display:inline;vertical-align:middle;\" /></a></span>"
      ],
      "text/plain": [
       "{t in NaturalPos, k in {-t + 1 .. 0}} |- (k + t) > 0"
      ]
     },
     "execution_count": 39,
     "metadata": {},
     "output_type": "execute_result"
    }
   ],
   "source": [
    "greater(Add(k, t), zero).prove(assumptions=tmp_assumptions)"
   ]
  },
  {
   "cell_type": "code",
   "execution_count": 40,
   "metadata": {},
   "outputs": [
    {
     "data": {
      "text/html": [
       "<span style=\"font-size:20px;\"><a class=\"ProveItLink\" href=\"../../../../circuits/__pv_it/theorems/71c1fc00120f763c694cd99d32f7a5e7315b9ca50/expr.ipynb\"><img src=\"data:image/png;base64,iVBORw0KGgoAAAANSUhEUgAAADwAAAATBAMAAAA+KHOiAAAAMFBMVEX///8QEBCYmJjMzMwyMjKI\n",
       "iIhERERUVFS6urp2dnZmZmaqqqrc3NwiIiLu7u4AAAAqt126AAAAAXRSTlMAQObYZgAAAAlwSFlz\n",
       "AAAOxAAADsQBlSsOGwAAAOZJREFUKM9jYMANFjDgBQmkS/PdT/Nj4JSXwKWbbUM7A8N7uG6+O6jS\n",
       "7Hc4FRgYGbjS0sTSkhgYuP+hSW9j8GHghevmugARDrt71wEsfSjgCJI07wSwbEscTPeBYtYJcOn2\n",
       "/PQAIMXjBzf8ABtDBkL3frAgywGENPOCt2/hobYEIo1w2gEGbe5EOPcmmDS8CwQJUGn2B4XwUPoB\n",
       "pp4h6+YreAvjcX9geAByP7I0gykbjMflwG0ApFgD4IEK5LKawRUXPAXT3jABlg1w94I8nKQApp9n\n",
       "PADTzP5iQPIJRkx15kICFQUAALDXOQj7yj+HAAAAAElFTkSuQmCC\n",
       "\" style=\"display:inline;vertical-align:middle;\" /></a>, <a class=\"ProveItLink\" href=\"../../../__pv_it/_proof__psi_t_output/45d7b55536c74331e9a3c1ae773d4623fd0107610/expr.ipynb\"><img src=\"data:image/png;base64,iVBORw0KGgoAAAANSUhEUgAAAJ0AAAAVBAMAAACu6/FQAAAAMFBMVEX///+IiIjMzMzc3NyYmJhU\n",
       "VFR2dna6urqqqqpmZmYyMjIiIiIQEBBERETu7u4AAAAsfX+gAAAAAXRSTlMAQObYZgAAAAlwSFlz\n",
       "AAAOxAAADsQBlSsOGwAAAbZJREFUOMtjYMAGnhcwkA6Ym3HJMC5/QIZ5DKr3gATfnQ0YEv34jGPa\n",
       "h0WQLXEykLwKYnJNwJDNRmLzbUaVezrrHxbzVjC8NoDq42/Aax4HVDu7AywwsJjHsoGB7QJUXz3M\n",
       "c4y3d+/CNI8TGhwcAnjM4w0A2wvWlwMVY1/4AJv7uBOIMI9/AgPTD6i+pQxt80C01QNs/i29f1WA\n",
       "sHnvgeZ9gejj+8LRfAQkthghPQs5rhmIcJ99AgPTRwYGGZC6zxVMYKMWIBLmEQZMswma9w1IAaOW\n",
       "84gCJFmd3r17916wcVHA3MG3ejcIKDBsA0fK7t17gPIBOP2bwMAOdB9fVAMD98pJkHR2AS6reQ8p\n",
       "+X1nIC4+OIDxwbYcaHRDPcSBSNnkKlLy+8DwgIj0coGB5R8kX/k/eN8AViqINT1zLuBQIGweywGg\n",
       "QkjSi2J4rwBOYlwN2MxjDXiI5l+2z5CA+AUjQGAHwxsFiL4bDIwTwT7ii63DYh7zFQdU81hjfoWA\n",
       "GTvhBBC8TAxCywfADJKLLb8xoMcHHpBNgji8PCDDPBkG8sAsHOL2DWQZx3cEV00wlRwDmVOBugC/\n",
       "BIKYzEwfBQAAAABJRU5ErkJggg==\n",
       "\" style=\"display:inline;vertical-align:middle;\" /></a> <a class=\"ProveItLink\" href=\"../../../__pv_it/_proof__psi_t_output/b7c9253bfd511de9b1c7068861b3efa33e4be2f50/proof.ipynb\" style=\"text-decoration: none\">&nbsp;&#x22A2;&nbsp;&nbsp;</a><a class=\"ProveItLink\" href=\"../../../__pv_it/_proof__psi_t_output/91bc5e82309893fa2eb1c21a90b4fa6a8bf910280/expr.ipynb\"><img src=\"data:image/png;base64,iVBORw0KGgoAAAANSUhEUgAAAGIAAAAVBAMAAABPrCZEAAAAMFBMVEX////MzMxUVFRERES6uroi\n",
       "IiIQEBCYmJhmZmYyMjLu7u52dnaqqqqIiIjc3NwAAACW8nlqAAAAAXRSTlMAQObYZgAAAAlwSFlz\n",
       "AAAOxAAADsQBlSsOGwAAAa9JREFUOMtjYGB4wIAV8DHgArwHsIuzXEAT4Jn2bXKoWQEDw2kGhsWp\n",
       "2LRcRzfaSIBhAicDA9cEIGcGhvKlDxg4F6AKcTQw8BbsAdJAaxj+wJ1SAGWcX8DA3oCqg+kBw2Iu\n",
       "AwYGNpC6X3C3whzfCsRZUNeYhkaCaC4GhkYmAQaGk0A2dwKGjmggng6xdi7cdYwKEkCyG4g5FXh2\n",
       "LEDWwaL8WZeBYROY/RLhHeYFVlCD1heceVaAYgfPByBRCWbOQ/jkNDtIOgbkzScHJB+g6OAAheAx\n",
       "MHMCQgcobBkYUoC4rRCiLDQ0LDU0VAHIZN0AJOTBbgeKhAZD43oLA8MCsI7IDgE0n693ABJu4BAy\n",
       "gFuxmA/I1gO5iusPy0c0HedBYXkUzAyA61AExgjXBwZbBgb2X1x/eFF1dDIcZGAoBjPvwsO2wQMY\n",
       "jQGgIGSawPWRG1WHEtcFSMADg/4APGxnMfDZGDCIApkHGG7cQtXxuBxIhICZXMpeEDE3y2Tj/OQN\n",
       "DKwCKCkaKYnzQX3AshmSSmAANb3BUyIDNI1iA3a4stpjXBKLGUg1iu8CjtyMI/8DALnqZfb1nAC0\n",
       "AAAAAElFTkSuQmCC\n",
       "\" style=\"display:inline;vertical-align:middle;\" /></a></span>"
      ],
      "text/plain": [
       "{t in NaturalPos, k in {-t + 1 .. 0}} |- (k + t) in Integer"
      ]
     },
     "execution_count": 40,
     "metadata": {},
     "output_type": "execute_result"
    }
   ],
   "source": [
    "InSet(Add(k, t), Integer).prove(assumptions=tmp_assumptions)"
   ]
  },
  {
   "cell_type": "code",
   "execution_count": 41,
   "metadata": {},
   "outputs": [
    {
     "data": {
      "text/html": [
       "<span style=\"font-size:20px;\"><a class=\"ProveItLink\" href=\"../../../../circuits/__pv_it/theorems/71c1fc00120f763c694cd99d32f7a5e7315b9ca50/expr.ipynb\"><img src=\"data:image/png;base64,iVBORw0KGgoAAAANSUhEUgAAADwAAAATBAMAAAA+KHOiAAAAMFBMVEX///8QEBCYmJjMzMwyMjKI\n",
       "iIhERERUVFS6urp2dnZmZmaqqqrc3NwiIiLu7u4AAAAqt126AAAAAXRSTlMAQObYZgAAAAlwSFlz\n",
       "AAAOxAAADsQBlSsOGwAAAOZJREFUKM9jYMANFjDgBQmkS/PdT/Nj4JSXwKWbbUM7A8N7uG6+O6jS\n",
       "7Hc4FRgYGbjS0sTSkhgYuP+hSW9j8GHghevmugARDrt71wEsfSjgCJI07wSwbEscTPeBYtYJcOn2\n",
       "/PQAIMXjBzf8ABtDBkL3frAgywGENPOCt2/hobYEIo1w2gEGbe5EOPcmmDS8CwQJUGn2B4XwUPoB\n",
       "pp4h6+YreAvjcX9geAByP7I0gykbjMflwG0ApFgD4IEK5LKawRUXPAXT3jABlg1w94I8nKQApp9n\n",
       "PADTzP5iQPIJRkx15kICFQUAALDXOQj7yj+HAAAAAElFTkSuQmCC\n",
       "\" style=\"display:inline;vertical-align:middle;\" /></a> <a class=\"ProveItLink\" href=\"../../../__pv_it/_proof__psi_t_output/c48b40694234e372f2492a2ee68f8f81c854296f0/proof.ipynb\" style=\"text-decoration: none\">&nbsp;&#x22A2;&nbsp;&nbsp;</a><a class=\"ProveItLink\" href=\"../../../__pv_it/_proof__psi_t_output/c7876fecc2827887954083eb45ce68e2fd43fe4e0/expr.ipynb\"><img src=\"data:image/png;base64,iVBORw0KGgoAAAANSUhEUgAAAPcAAAAXBAMAAAAl5sTiAAAAMFBMVEX///+IiIgiIiIQEBB2dnbu\n",
       "7u5ERETMzMzc3NwyMjK6urpmZmaYmJiqqqpUVFQAAAB6qHgnAAAAAXRSTlMAQObYZgAAAAlwSFlz\n",
       "AAAOxAAADsQBlSsOGwAAA3FJREFUSMetlmtIFFEUx8+uOzuzz4awB/QghiKKCu1FhMGGRh96MJgU\n",
       "fXG3otEiYdIIJMipxG/l+kEQem2PL4GhRSGVHzKiEIPWkh4QqEFhHxJBEqGCzpm7MzszzJiwXrh3\n",
       "7565c3/3nPO/9w7AXBQNq+D+SJjpnbkoviw2y9yfhUWHoXLqhAzlk5lb2B8hw5fC4ENYYwngjq1w\n",
       "ebjUaagLjwA3Ab7nAE/pf0dBbC6NzWGsoW7no0oNQrLD9lXbC1AC0A5wnvKSKggeQR+gF+u8rGHq\n",
       "zP0OyxB1ruhnKqQBxmgA9IUFsgXBi6hBV6DLdHIw9/sQ65Zcf6EkUYhgrE9IE7wIF4bLDhWW8s+U\n",
       "cpq3HJzwlVivse69BTnbWFwtJngIyRslaXNh8EcU+gQ2N2DosRUe/j41CrCfbbl2Y/gYpIIZhAdQ\n",
       "6z0Ax21zvXw+GyK/x4wxuUZucH9in8psnscmsOnXuyEtDz/HrUJ4FIN1BQRcwgtzO/IlJsB8geu3\n",
       "kyuK2cJZWY/Vj7KJTd/nO2zwCCXjPZsL8vBo9gNCYliDciCD2c8Qd7mSYdljJUkNifX0fBs7KoZT\n",
       "lnHbgb0fKVOZyiRpkyRtoCVRMpp0Y4OEJcXg8C2OYB7DEhNpUa1kfqYa0skrCfQX3tnlrcK0C9x/\n",
       "tcchuCS5dEfvHrR4DtUchj1MIU73YfNKKNbPHCu8ec1ud3irDDss44ywJ7Ndqh0+DJzxrt8K50Wc\n",
       "NUbn4T7S4ejlAxpbXDTv+XUPz5tkWAdh8yw9gjWImnkrJ7OiDf4EPqJf7Pw3RVWDdRHOGqWZL5Fy\n",
       "SrN87lhqVE3IL294KUCbIXfaSyS/H5BUEzb4OCeynWh4YnRIifrujCNN+I3p6lcUJcuP45xnsado\n",
       "mJSIomxVTrmE/S8qwvClnrSKcagD3wPZBm95g81a1q8+yZ41TqbYdeDPGPpN3RbgDIuPuYV8I4dm\n",
       "EJxgbkk/xWq1bcSg5UI30nP3qJS2jrlodOJifQA3nV1wEXGXHc4loIrlD2/F/Dj96hiwwTsd145b\n",
       "6TU6QS3+GoQaO5zvVXPw5ps7dcM2aNDPnYolsnVL1uozeDBaPOzOq7RKsR8yYArOpVjG0TbhvMbV\n",
       "ethdVxt2fI50/x8ukPQueHxieUVksau1bXZ3WWNhHwFe99WsZhXUwkn/AJ6o1+R54ImuAAAAAElF\n",
       "TkSuQmCC\n",
       "\" style=\"display:inline;vertical-align:middle;\" /></a></span>"
      ],
      "text/plain": [
       "{t in NaturalPos} |- forall_{k in {-t + 1 .. 0}} ((k + t) in Natural)"
      ]
     },
     "execution_count": 41,
     "metadata": {},
     "output_type": "execute_result"
    }
   ],
   "source": [
    "InSet(Add(k, t), Natural).prove(assumptions=tmp_assumptions).generalize(\n",
    "    k, conditions=[InSet(k, Interval(Add(Neg(t), one), zero))])"
   ]
  },
  {
   "cell_type": "code",
   "execution_count": 42,
   "metadata": {},
   "outputs": [
    {
     "data": {
      "text/html": [
       "<span style=\"font-size:20px;\"><a class=\"ProveItLink\" href=\"../../../../circuits/__pv_it/theorems/71c1fc00120f763c694cd99d32f7a5e7315b9ca50/expr.ipynb\"><img src=\"data:image/png;base64,iVBORw0KGgoAAAANSUhEUgAAADwAAAATBAMAAAA+KHOiAAAAMFBMVEX///8QEBCYmJjMzMwyMjKI\n",
       "iIhERERUVFS6urp2dnZmZmaqqqrc3NwiIiLu7u4AAAAqt126AAAAAXRSTlMAQObYZgAAAAlwSFlz\n",
       "AAAOxAAADsQBlSsOGwAAAOZJREFUKM9jYMANFjDgBQmkS/PdT/Nj4JSXwKWbbUM7A8N7uG6+O6jS\n",
       "7Hc4FRgYGbjS0sTSkhgYuP+hSW9j8GHghevmugARDrt71wEsfSjgCJI07wSwbEscTPeBYtYJcOn2\n",
       "/PQAIMXjBzf8ABtDBkL3frAgywGENPOCt2/hobYEIo1w2gEGbe5EOPcmmDS8CwQJUGn2B4XwUPoB\n",
       "pp4h6+YreAvjcX9geAByP7I0gykbjMflwG0ApFgD4IEK5LKawRUXPAXT3jABlg1w94I8nKQApp9n\n",
       "PADTzP5iQPIJRkx15kICFQUAALDXOQj7yj+HAAAAAElFTkSuQmCC\n",
       "\" style=\"display:inline;vertical-align:middle;\" /></a> <a class=\"ProveItLink\" href=\"../../../__pv_it/_proof__psi_t_output/1f8c02f706626e436f5a1ad49752fcbd1138b70d0/proof.ipynb\" style=\"text-decoration: none\">&nbsp;&#x22A2;&nbsp;&nbsp;</a><a class=\"ProveItLink\" href=\"../../../__pv_it/_proof__psi_t_output/9fc9e963a61479fba0967544f6a336701a4322b60/expr.ipynb\"><img src=\"data:image/png;base64,iVBORw0KGgoAAAANSUhEUgAAANIAAAAVBAMAAADBWq19AAAAMFBMVEX////MzMxUVFRERES6uroi\n",
       "IiIQEBCYmJhmZmYyMjLu7u52dnaqqqqIiIjc3NwAAACW8nlqAAAAAXRSTlMAQObYZgAAAAlwSFlz\n",
       "AAAOxAAADsQBlSsOGwAAAjtJREFUSMeNVb9LI0EU/qIm0WSzbGNtEDyvOuUaK39goZUg4jZnOC3E\n",
       "4hoDNmd3cMgl2IgiwjW3mFoI+Qe0UZAgprvubkHsLWwU/PFmNpudmX3GfbCZt/O+733zJjNvAfjg\n",
       "jJ/VwnZynoQWzrgQPxvZAj19rcQ8CW3Sk/pihppvi9iVAweFMnl/40GON+hJaG4POK4+GkEx2/G/\n",
       "6rEb5O+B3+QNeGB4Bj738Y8nof1icQVTSc62zQqD88HwCdgAvpOX/QGGZ5nJ/nsSmgGnlFHZi23n\n",
       "Khg2PYz5yIh6voHhdfCqEkEvWaVLxU/XdaURYMzBgKj6CAyvg9eUjrDLKu1G7uz055amRLYK5Is0\n",
       "NhDnRXhNqREsK6akLvYaMJRST7Tx4sxsy911pRVD3jW4mrZRYpVKil+NKaUpq7VGzgUYXpVVusB6\n",
       "pJQ7lItzyF1X3lYkfMd1N1x3Sfo/RV139DNkJhXZVoxcgdKQqmQwwvtwb9aUFRvVJ2qaY5QivFbT\n",
       "3Pu7Z93B05WasH1Y4iyfm/9TScVrSueYZJUmleu0ZzmaUqqOgofsOLlbiPMivKa0FRzU/LPBUI5v\n",
       "T/FE373bSmWHEtb1y9DhRfjQTn0JHRTJPjyMGk1RaagTZV1p9eXlgc7fDLnLsWaq4ts2vLlfFtC0\n",
       "w/VrdvZKfbkVi1hMxEMAjXdJsL0z6rCB/TL6cBde2Hqn2MhU9w8h7HH5/UjME9AaG6m9o9Tr82nf\n",
       "4gmo3WLX3Oqu9E/cDT8xj6Cvx0ehzzVSTH4AAAAASUVORK5CYII=\n",
       "\" style=\"display:inline;vertical-align:middle;\" /></a></span>"
      ],
      "text/plain": [
       "{t in NaturalPos} |- (1 - (-t + 2)) = (t - 1)"
      ]
     },
     "execution_count": 42,
     "metadata": {},
     "output_type": "execute_result"
    }
   ],
   "source": [
    "subtract(one, Add(Neg(t), two)).simplification()"
   ]
  },
  {
   "cell_type": "code",
   "execution_count": null,
   "metadata": {},
   "outputs": [],
   "source": []
  },
  {
   "cell_type": "code",
   "execution_count": 43,
   "metadata": {},
   "outputs": [
    {
     "data": {
      "text/html": [
       "<span style=\"font-size:20px;\"><a class=\"ProveItLink\" href=\"../../../../circuits/__pv_it/theorems/71c1fc00120f763c694cd99d32f7a5e7315b9ca50/expr.ipynb\"><img src=\"data:image/png;base64,iVBORw0KGgoAAAANSUhEUgAAADwAAAATBAMAAAA+KHOiAAAAMFBMVEX///8QEBCYmJjMzMwyMjKI\n",
       "iIhERERUVFS6urp2dnZmZmaqqqrc3NwiIiLu7u4AAAAqt126AAAAAXRSTlMAQObYZgAAAAlwSFlz\n",
       "AAAOxAAADsQBlSsOGwAAAOZJREFUKM9jYMANFjDgBQmkS/PdT/Nj4JSXwKWbbUM7A8N7uG6+O6jS\n",
       "7Hc4FRgYGbjS0sTSkhgYuP+hSW9j8GHghevmugARDrt71wEsfSjgCJI07wSwbEscTPeBYtYJcOn2\n",
       "/PQAIMXjBzf8ABtDBkL3frAgywGENPOCt2/hobYEIo1w2gEGbe5EOPcmmDS8CwQJUGn2B4XwUPoB\n",
       "pp4h6+YreAvjcX9geAByP7I0gykbjMflwG0ApFgD4IEK5LKawRUXPAXT3jABlg1w94I8nKQApp9n\n",
       "PADTzP5iQPIJRkx15kICFQUAALDXOQj7yj+HAAAAAElFTkSuQmCC\n",
       "\" style=\"display:inline;vertical-align:middle;\" /></a> <a class=\"ProveItLink\" href=\"../../../__pv_it/_proof__psi_t_output/f97aa34d6a1ac91ce4857861f7ad19c91d5f32620/proof.ipynb\" style=\"text-decoration: none\">&nbsp;&#x22A2;&nbsp;&nbsp;</a><a class=\"ProveItLink\" href=\"../../../__pv_it/_proof__psi_t_output/bca009db40163ed76ba777eacb8c4f4c665959aa0/expr.ipynb\"><img src=\"data:image/png;base64,iVBORw0KGgoAAAANSUhEUgAAAjsAAAAmBAMAAADQL0cEAAAAMFBMVEX///+IiIi6urrc3NxEREQi\n",
       "IiJ2dnbu7u4QEBDMzMwyMjKYmJhUVFSqqqpmZmYAAAAHKSyHAAAAAXRSTlMAQObYZgAAAAlwSFlz\n",
       "AAAOxAAADsQBlSsOGwAABhNJREFUaN61mX9oHEUUx9/d3u3e3q/UvxSK9v7Tf8QrpqihmIiIRkTO\n",
       "aiwNbXJIFdRKFzH+0T+8w6JRqOYEKy1EE2mxQpCeIlTapA22UpXQxj8MYsEcYqK25mgTNSahrDOz\n",
       "u3dzszO93DLzSO525/a+n9mZ9968nQMASE+DHNtn8VoVy4tsQRbtL0ndB3M7r1WxvMDSk5JoiVFZ\n",
       "/YdxTptieZGdlEU7xPjs/e679nDLihFOHInk77wtI0NeNPeDjeebf8gGpH3CNH/uvn+4veXhMQb9\n",
       "bSL5onFVhrzA4vnG82MwGoyWWm5sDfV5c9T68HDyjFA+axYlyItsttFnjSIMBqNFqXE2npuyIAfB\n",
       "h6fT58Ji+UhGgrzInqaOX91zXsvBjmC0EWqc05DOGaOgVavVXwMNTyTPtojl/5QhL0o9tM9WYA55\n",
       "z/5gtHNUQ1tGW0lVyuv2HmoyNWeZ8gWMUF63NkiQF1iyizpZhM7SaPPco3Fpa/QibGkr2hW3V++9\n",
       "2WyhCLkX6KemIUxuVrvOXiOUP27nJMgLrK1MnZxAw7P5UtO4vNV9f3GCoplL6GBr/85p+HYVNeo3\n",
       "6vNr1YU0DH96IA+P/FNB5zNomb7cjcLERDXYRnJJH+vlauVFNpJtwD67Dloqj6L+aAnSpWGKliDL\n",
       "616UJkM41A7eoHA3dkCqF6GR4xr4NnEa6cJfffQEXkrJNy+71+ruzCuWZ+0l9/0M0Fheuc3SYB9A\n",
       "O+iLEBmzKFqSxORxnDitJqWgXiHFaCcu1/F/ugzJLMSKcOg/NFkJPAWwyb12wA11xfLsPfe6B98D\n",
       "jW23mtPgCsBZgLfAHNpP0WLks7/xnZCS9m5ODniop9crtSKUYgz9LUNySbO24FglhcVsyfnOxq+d\n",
       "d8XyrNS4WywcAAqrVbRsUxqgPDxkwcXsPdoTFK0N+3z4Gi4PkFD34d99zPDH7uBH8LBSij8jeA6S\n",
       "K9GMjns9RoLe9frc+26OVCvPFlmmu2L9CxS2/fBHVlNaCvnjNwAXS9vgeYpGcry+gl6+QLNl2/5K\n",
       "v8PTTtnPkGrJU5x3unQ1cWkCH+zBLwVnyUjl49n6EqJOnrEZOEKtlx52yLab09JOSdUPE6emKVon\n",
       "PokWSfXEtyO1o032aoZSHHMWiQ30M3KbcxbPphw5xfI+rV+gXgDwsEJanAy8eY2hEXct1CKQY/Us\n",
       "aIwPrVGKu0jjTu/Tn2rBBDDsFZWK5ZkqYhKixDtMMjw8rJAWJWEbnWRod+FkNouGThMUseYbPT09\n",
       "T3knQ5Ti6+RBoVafjhBFZ7a+A7iJHCiWZ2rlEoQIJrwIfKyYFiNJ/TeWRqZ3L8p9uqCsNGodTDi3\n",
       "W+ii+1/forqj3n9UssBA3XvUyTP7n14N43gPByumkeFJTLI0p//uwsu1+iM2/kYJYqhzZtn1flRr\n",
       "emv1j/XkgKs2Z4tZsby/KFyghoeDFdJIcM2AVwJ4tM6yuztyVtT/mhtHcSpDQ4wWhCQO8QfQ/wcA\n",
       "N7sff1l/2Ini9EjCXLG8/947SGpeAwFWSIuggTfzELIaaQU8H/EKbC0JN968eYp+BgZeTuYsZ47Q\n",
       "4qf1VavehMzXVipnR7CbpEel8gU0RsYquC8JzIpgkEEWIB5WSNNRXG2pVucYWoxE8+4L4t0F49zt\n",
       "buYLz0/hCA1fmCLUgwhi27Y3jdtIMJEMd5488ZOqWal8tOI9puIX4gUmIb0LAqyQZqJp6LftVYYW\n",
       "72r6+Bve3dPLrVEbpkbLcTYxVcuL7GjLtMbdxBot3fqOby35N5RcaZIW2K0DxfIi+6N13GkuLbEc\n",
       "/JegB+mTdvL6GHuPauVFdsZqmRbJ8mjG9eD9f8V/M2tsrKuVF1mh9R+ujS4u7fHg/adL0hAZ/PAS\n",
       "e41ieZErVFrHbebSvgKJpvuqEcXyorxVlEUrZCT2P+ZzasXyokhZlEVb94ysx24JPuHB5EX2gjTa\n",
       "2xL7/46/SbG8aOZLsmgn5XU/xHEVxfKi5DMqixYvS+v/vZxdC8XyIhuTRTOelNV9YxevUa28yAay\n",
       "smgdlqT+R7iOolheVDQdk0XTSpL6/zK/o2rlRXafDNr/19+IhwwJKCsAAAAASUVORK5CYII=\n",
       "\" style=\"display:inline;vertical-align:middle;\" /></a></span>"
      ],
      "text/plain": [
       "{t in NaturalPos} |- (U^{2^{t - 1}} in SU(2^{s})) and  (U^{2^{t - 2}} in SU(2^{s})) and  ... and  (U^{2^{0}} in SU(2^{s}))"
      ]
     },
     "execution_count": 43,
     "metadata": {},
     "output_type": "execute_result"
    }
   ],
   "source": [
    "from proveit.logic import And, InSet\n",
    "And(ExprRange(k, InSet(MatrixExp(_U, Exp(two, k)), _unitary_U.domain), \n",
    "                                    subtract(t, one), zero, order='decreasing')).conclude_over_expr_range()"
   ]
  },
  {
   "cell_type": "code",
   "execution_count": 44,
   "metadata": {},
   "outputs": [
    {
     "data": {
      "text/html": [
       "<strong id=\"phases\">phases:</strong> <a class=\"ProveItLink\" href=\"../../../__pv_it/_proof__psi_t_output/7e280c72665e1bc073955f4e079dfb9a7ed4ae3d0/expr.ipynb\"><img src=\"data:image/png;base64,iVBORw0KGgoAAAANSUhEUgAAATwAAAAaBAMAAADYqf2qAAAAMFBMVEX///9UVFQiIiKIiIjMzMx2\n",
       "dnYQEBDc3NxEREQyMjLu7u5mZmaqqqq6urqYmJgAAAB66f/FAAAAAXRSTlMAQObYZgAAAAlwSFlz\n",
       "AAAOxAAADsQBlSsOGwAAA+9JREFUWMOdl01oE0EUx1+S/Wg3SRNFUUFoFaRokaYKgp4WraIIJli9\n",
       "eDGH4k0MYrXQQ3soWDxIRUUFaSP14im1ItQGQhF7EC8piOjJ+IGgUigaqA2U9c3s7Fd2Z7Y6kGSy\n",
       "u7//ezvvvfkA8LTWAuto32F97Z4FnN1QhP9rcl9OcHcJP21Vs1+yLh7Z53su7vnHCG3ZvhvvaCam\n",
       "Q/xiGl/gfaAtiifI9xt2+bX9wEufmDri/seIxDj7n6qq9WZiMMQ9ptEPqUKQLYo/IWPAjAzsPsN3\n",
       "D9/SaYxQT9/V2UgU/e61ZYTeWRoNUOaDbFH8Jn5aauzqQ8HoQdSVXBbR6gjLvuDCHqF7TENqQLQW\n",
       "aAtxNY+/V/Ez9GIUoCFyL5Z2+kio5fs6pByXD/tLo0foHtNA95RMoC3E46RqntNon68m8yCNYbse\n",
       "6J7mOE+IQZDX4B3AcUIUQL3hJ0rCYmYaGNzUfKAtxFOketYAIgVQ8rH0Y8HowYTTRWILwAXo0Vju\n",
       "wRBc8wGtNZF7lkZAaZi2EM8WafRBaUBkJZ45J3Jv1u4R4lIR2gvPZDZA6mjvnH8uGhF4Z2vsh8Vg\n",
       "W4iT+S2GSR3pgEhdqlhjMTDZ50cOOKmBxEaAdv3kV3ZFMYxlf7bmBe7ZGnLfXLAtxLfhT8Ss8Ogy\n",
       "R6gX4MMfHKWPdioxops3MDokJzEXkw2Be8EabluIj5EKN2OQ5U1T0yBNLGIJZXV7TqCE9JsD4KR/\n",
       "YmkzPlAXzSuBGm5biN8iKWjOGDs4OgkdIgAoNly1c54S0TSHeAWQhhZMyDWBe4EaHluId5FHpnl5\n",
       "XCIBkAF+0BWwZLtnErPAIXK4iJAh1ETuNWtoq822EHdG7xNPIgaQAQ0jP6x73rwtzSMyhJnC16+H\n",
       "jZ5bo6vZluoKbiIXMHGxTErqEMdUzRY80gugFnjJ+hYAy1FaCXOvWcNjC/GtpIZIWI8CHOK4V4uD\n",
       "tglY5dLqJYSUgxhnVaigg490q3L9D/E1PLYQZ/MLqF3lcgfnPR8cPDVD0u6blSGUuFwuz/AG5vad\n",
       "n3tJ6PIWQVLS2+FouG0hzryEqGEY47xtY/cvup99Sr52krclRLdhrPIC99nYRccibRE0Je0yFGi4\n",
       "bSGuEFcvhuwbK641N0GDEULEa641N+GLrkij4llzrR2LsPW7diyytdsQNUV37Vhk/+lCoNHv2bFI\n",
       "JD2OiY1J5mpnTgJTtB9CZM0fc66a8t0WaLhtEXw7KaJ5obGYWTNROgWYK18IwQ5SneAQ7ibQcNvq\n",
       "bDprcJqq884avHblH84aXFsUT+To7BjevCe19RBhJ7UFsa1B3zlXWI3FgDOqsM2t75zLs4X4XwAw\n",
       "L7ALPv//AAAAAElFTkSuQmCC\n",
       "\" style=\"display:inline;vertical-align:middle;\" /></a><br>"
      ],
      "text/plain": [
       "phases: ((2^{t - 1} * phase), (2^{t - 2} * phase), ..., (2^{0} * phase))"
      ]
     },
     "execution_count": 44,
     "metadata": {},
     "output_type": "execute_result"
    }
   ],
   "source": [
    "phases = ExprTuple(ExprRange(k, Mult(Exp(two, k), _phase), \n",
    "                             subtract(t, one), zero, order='decreasing'))"
   ]
  },
  {
   "cell_type": "code",
   "execution_count": null,
   "metadata": {},
   "outputs": [],
   "source": []
  },
  {
   "cell_type": "code",
   "execution_count": 45,
   "metadata": {
    "scrolled": true
   },
   "outputs": [
    {
     "data": {
      "text/html": [
       "<strong id=\"kickbacks\">kickbacks:</strong> <span style=\"font-size:20px;\"><a class=\"ProveItLink\" href=\"../../../../circuits/__pv_it/theorems/71c1fc00120f763c694cd99d32f7a5e7315b9ca50/expr.ipynb\"><img src=\"data:image/png;base64,iVBORw0KGgoAAAANSUhEUgAAADwAAAATBAMAAAA+KHOiAAAAMFBMVEX///8QEBCYmJjMzMwyMjKI\n",
       "iIhERERUVFS6urp2dnZmZmaqqqrc3NwiIiLu7u4AAAAqt126AAAAAXRSTlMAQObYZgAAAAlwSFlz\n",
       "AAAOxAAADsQBlSsOGwAAAOZJREFUKM9jYMANFjDgBQmkS/PdT/Nj4JSXwKWbbUM7A8N7uG6+O6jS\n",
       "7Hc4FRgYGbjS0sTSkhgYuP+hSW9j8GHghevmugARDrt71wEsfSjgCJI07wSwbEscTPeBYtYJcOn2\n",
       "/PQAIMXjBzf8ABtDBkL3frAgywGENPOCt2/hobYEIo1w2gEGbe5EOPcmmDS8CwQJUGn2B4XwUPoB\n",
       "pp4h6+YreAvjcX9geAByP7I0gykbjMflwG0ApFgD4IEK5LKawRUXPAXT3jABlg1w94I8nKQApp9n\n",
       "PADTzP5iQPIJRkx15kICFQUAALDXOQj7yj+HAAAAAElFTkSuQmCC\n",
       "\" style=\"display:inline;vertical-align:middle;\" /></a> <a class=\"ProveItLink\" href=\"../../../__pv_it/_proof__psi_t_output/238c42d84ac43cdd8eb234e48876444334e185270/proof.ipynb\" style=\"text-decoration: none\">&nbsp;&#x22A2;&nbsp;&nbsp;</a><a class=\"ProveItLink\" href=\"../../../__pv_it/_proof__psi_t_output/ef0f3ee04bef69698a9680e9ff8c791250293d6e0/expr.ipynb\"><img src=\"data:image/png;base64,iVBORw0KGgoAAAANSUhEUgAAA1IAAAFHCAMAAACcfI00AAAARVBMVEX///+/v7/f399RUVGTk5PO\n",
       "zs49PT1GRkZmZmaIiIju7u6qqqq6urp2dnYyMjIQEBDMzMyYmJhEREQiIiJUVFTc3NwAAADuc2F6\n",
       "AAAAAXRSTlMAQObYZgAAAAlwSFlzAAAOxAAADsQBlSsOGwAAHZVJREFUeNrtnYu6s6iShu3pPXs4\n",
       "CIgC93+pEw+JqGgwQtSVr56ne2l+IaVVrwXFIUURK7IsIJAfEtuwrPUTg2cM+S0RWX2eK4ZHDPkx\n",
       "UTpf3Sxn5RDINaV0NlvdRuL5Qn5PTJ2r5sohN/FzQvgJpW3+Mkyy4HGwasczPV2JIPV7RJkTSlPP\n",
       "gy2Z+3cd9v+S7gwQXiavepPVq5s8T5cjSP2caHlCaS78OmakVHzN/enOjr424eNg+4xmebyygYv9\n",
       "mFSHMrwflmY+iLRZtB1XI4rc+XU1Dx+HLlV5elIUPvZjIsW3SutqbC1Oos3yPb6KlCY72fWQZ9v4\n",
       "8yy9KeMwJvVjwg+ZfF6aCWHMWoVqxE/5F/chy5Jeyk2kir1R0e/qven2uQx5BOZq+NjfERbTz2kO\n",
       "Bal56TaGkPedBy79izkpdGyUKuTO3pT1Bpzs9uCTcVX6jmq2ROKPiIuRr3WSKH3v3NWhILUo3Wa3\n",
       "7HvPJMK/2BJtZ5orseaJu6cO1SJ8vJTSieRGqI+1+4KvgOqnkEp0TapG3XukXiOc9hOzLcZHNfOQ\n",
       "sk3/DrGLANMfTS7eetO3+shhVk848m5or1X4OGSa5AkK5o7l+0QoAV9XQOrCSDkdNl6c2VyoFSaG\n",
       "b2WEWV2IUJut4fOLt4LHgxdrbNWzxFWE6/na+2O4b8Zz6+QtP30w8AWR4gRIXRep6hVCBuMJQYmN\n",
       "NVsV6pt0Q6rs4UmPP9QyMaQtBqT6c1X6F2+85Nur2yS0GP5rv3PL9Yb6Jto3JHy8FJq85WcOjvMG\n",
       "kSoaIHVdpLSbGk8+3uKssZFm04F76Sc+VKqDrS6q3oe78xap/h+eSK3Nknjh2V79QMryAa1HzFqP\n",
       "UswQOXRdfO2JDB+HXhGpc37qoLU9pMqxRSA4kLosUuMk6c54uisg6qDZSr1eeiTqgZC1L7yK0mw0\n",
       "/CYXr+vY08T5xj09XY8OSPnaUxc+DqaX0g4iHe1K+Uhx6r22gNRlkVJmYry6O+0Gm5Zm43S99Gjs\n",
       "qqrI0y8JnQSVEamaLi9ej4WmMo9oN7TJdB2DlK8993pIfLu3JBPPx+NHR6XCSBXSAqmrIjV2Hjrj\n",
       "OdK3f3jIbEukxtLMqK6boibDBO3sIa+zNCLVZ8JV5JgCl07VT98iIgYpX/vKy0lU2/kJknj2EDna\n",
       "OVtBiou8jkMaVVsgtWyDCenEGxcZU3at8dgTKR0yWwCpZ2mmGq5V/IhRta895E+rbcoopDztmZeX\n",
       "ZE5vdw7TNqnk0YHeFaQyJyj6wY8KSH1C3Why0Y27ih4pGjLbAqmxtGm60/iOSLPLXt58V9sUUUj5\n",
       "2vuhZzsMVYlHptRRv1xDiuRcMCL64cTmSkixV+bodTR+dCWkqhWkRMhsC6TG0v27v46fK7Rv9qvX\n",
       "eCQ6EilPe7/1td0SY4nnthxOd3T3RZpWlOr+9E2Byoxf8cfl6QMvj3kdvQ5yf3ex/a/MTxSXY3e8\n",
       "b/iJ/lM6NVvAppPS1fAdO1r4HzbV/bSDfydLpEbthx7i8jjIQMrmjj1M6FqUytqZkoM5LzGF/g4N\n",
       "P3+0cxalBocbVjnMzbYepR4HtpUdNmCfdVomJHp3skTK034HUk3SWa78cONpDamsKb8rNvwuhJTZ\n",
       "nK07R6qu+046C5ltq+G3P1FmP8mtUfvG9UakPO3j+1KPF3TKlB89PHS8glTmgSmkJ7b6LPpNy2SS\n",
       "8RumlfZTDBZmC6QnnqVJv4rpvLzrAilfez/Lt53xe7yBUraoxOEE4gpSuadPkMZdZW7u5ZB6Y1I2\n",
       "vpR747XTGpiqgmZbIDWWZo3SJW3o6UiJ56xDEZ4r+24fJOJSbjtrDte2glRzCU/+SaTabYi2F9qS\n",
       "qfEYEdRUYbMFZk8Q/70mT9xkodfeGOWk0TPt/X303u2pJ5LO8qsdyYLUF6aiA6mNILW50FbWAeOt\n",
       "mG2JlLzMXLMt7f3F/O+2BRBJO+UyJVLeFMsvzGwAUutBanuhLVFrTrk023LaLFFXRcrX3l+S9W55\n",
       "Fk061tsc7pkFF3cwWQCpc5TtE9Wba2f16609M16U2fRldv/Z0r424ePwHaU0j8qDFNVA6tvKWj2z\n",
       "x+rLmb266zPjRZmNXWavki3tdyT8kiN1tHtJQ69CUwCpLytbii56jKOpG2tnaxI2XpzZ6qss2d7Q\n",
       "3v9Njre/z8ETI3XbX8G5DlIX2SGp27CSPN1sa+2sPtR30Or6ziFk+PgLSDkg9WdUaxNbryC1uXaW\n",
       "HVp0x26whb7i4eNwgE+MFAdSf0W1RryC1Ju1s+JQ+khc/odeqAofh6VKOln0//77v0Dqr6jG1Wsm\n",
       "9ru1s+rQzBN19T3ldgWp4n/++19EKSAVDlMqdjjwlN/C+V6QkuHjr0QpIPWXVOPxmVZ5qA8tL90D\n",
       "t96bxUa8ZYAUkEog/b5955TOfms8eAykgFTeV7lkp5XOK/7S/ahl/EAKSKVhqjqvdNYgVYaPgRSQ\n",
       "gnxJgBSQggApIAUBUkAKSAEpIAXVIEAKSEH+GFL/AVJA6rflH0QpIAVBww9IQYAUkAJSQApIQTUI\n",
       "kAJSECAFvwVSQApIQTUIkAJSECAFvwVSQApIASkgBaSAFARIASnIDyBF/rVACkj9trB//01pfEQp\n",
       "IIUohYYfkIIAKSAFAVJACkgBKSAF1SBACkhBgBT89v5IEX5e6ZzCvO3aWdTW7UAKSCUhypxR2n6h\n",
       "jP+73xu/AQ6kgFRSOec326jnbXb2w/QlpyT4qwAl3audCR8DKSCVsfug2AmlufAdf0aKan9YOwzi\n",
       "3h+Iq3n4GEgBqWwixbdK68rr2ficNLPumG1RXfm+nR7PPOTZe/yxNSaQOiz8kA/NSzMhjFmrUI34\n",
       "Ee1f3ASiy8rPQWlyoKv3vtuHrTGB1OYbOqaf0xwKUvPSrcOT5n055V/chyxLeulYIqs/A7e3oWmd\n",
       "DR6j4XcPpFyMfK2TROl7564OudCitCtbx337s4hc+hdzUsy6SIIVa4mI3T+3XYvw8S2QCr4Cqp9C\n",
       "6lrK8vdImTpsvDizvUq/2mXMQ8o2/TvELmggwr/YEj39dvko5KneFquk6ksLE+F6vvZahY9vgZQI\n",
       "tX/rCkhdGCmnw8aLM5sLhQwxfCsjzOpChALMeCTeq1g+eLHGVn0rNtyY3dDeen5t3/n4LZDiBEhd\n",
       "F6nqFUIG4wlBiY01WxXqm3RDquxB0uMPtUwMaYsBpP684f7FG73B9uq2CSiG/x6KqS3XG+qbaN+Q\n",
       "8PFtkSoaIHVdpLSbGk8+fIA1NtJsOnAvtm59slIdbHVR9T7cnbdI9f+gSv/iDQ9vr34gZfmAVuv0\n",
       "q67HDJEDEb72RIaPb4ZUObYIBAdSl0XKyInxdFdA1EGzlXq99EjUAyFrX3gVpQk1/AakJhev69jT\n",
       "xHuFys0oRQcifO2pCx/fDClOvdcWkLosUspMjFd3p91g09JsnK6XHo1dVRV5eiWhEwJGpPqG3/Ti\n",
       "9VhoKvOIdmLrnuZI+dpzLwPJ32Qj74FUIS2QuipSTkyM50jvVzxktiVSY2lmVNdNUZNhgnaqg9dZ\n",
       "GpGqu6pU5JgCl069hn51HYOUr33lOXb1xslvghQXN0SKNKq290bKCunEm3mmY8quNR57IqVDZgsg\n",
       "9SzNVMO1ip+SLvbNXvfnABIRhZSnPfPykszpv4BU/gRFei/tR1SqWyMVQ91oc9GNu4rer2jIbAuk\n",
       "xtKm6U6jvbHa5xL+fNemjELK197R8PGNkSLl3ZAS/Rhl86EizMlidjR+dCWkqhWkRMhsC6TG0v27\n",
       "v46f2NDselt5jUfbFHFIedo7UQSPsyN1fGvM7r5I04pS3Z8+vldmxPaPy9MHXsMfr6PXQe7vLrb/\n",
       "dWS7TZ+5ctrwE/2ndGq2gE0npavhO+Jb+PrT0UriN+LkBlKj9kMPcXkckKttjbkWpbJ3ppK/+OXg\n",
       "IyyDImdHKX+0cxalBofj/adzs61HqceBbWXH46o/e39P8pDenSyR8rTfgdRdGn7ZU35Xa/hdCCmz\n",
       "OVt3jlTdeazu3Wputq2G397VtgX7bGhljcQlUp72f68vlX9gCumJ1QaWfpOemGT8hmml/RSDhdkC\n",
       "6YlnadIvudjz6rT0g9uhtohEytfez/L9jYxf/ukTOZLoTn0w4fdySL15m7Hxpd0brx2DZaoKmm2B\n",
       "1FiaNUqXtKHFWfJ0PfGcdSjCc2Xt3xiXyj/Jz12lzqshRd+ZVJGp8RgR1FRhswVmT4wdE9I4eR5R\n",
       "g/bGKCeNnmlfjTmYyfF9kfrCVHQgtRGkNteuyzpgvBWzLZGSdXER2dLeX8z/bluAe0ybrS2QOgmp\n",
       "Lkhtrl0nas0pl2ZbTpsl6qpI+dr7S7LeLc+6xeIOJgsgdQ5SfVZtc+26fnnQzHhRZtMp/S+l6020\n",
       "r034+LZI7d55DUgdFqs9e0zWri/zEzxsvCizsctsV7Kl/Y6E3+WQoiG7mQJIfRmpUnR+4Q39rLd3\n",
       "ahI2XpzZanIRpDa0L72lx+W7LZKwQ9LlkLrIDkndhpXjxl0by9H1oe6QVtd3DiHDx19BCltjpq/z\n",
       "nOlHbWJrDFJby9GZOzKn+Vjp74ji4eOgYGtMILUijRiD1PZydHEofSTk1X2DqvAxGn5Aal+YUq+Z\n",
       "2O+Wo6tDu8Kp6uK+sStIASkgtR6m1DMuvVuOfs5v4XwtSMnwMZACUnvDVHymVR4a5pD6yp5hlQ0e\n",
       "AykglVH6ffvOKZ391njwGEgBqbyvcslOK51X/KX7Ucv4gRSQSsNUdV7prEGqDB8DKSAF+ZIAKSAF\n",
       "AVJACgKkgBSQAlJACkhBzkbq+NaYQApI3VyutjUmkAJSiFJACkhBgBSQggApIAUBUkAKSAEpIAWk\n",
       "IEAKSEGAFJACUkAKSAEpCJACUhAgBaSAFJB6IYWtMYHUjwu2xgRSEDT8gBQESAEpIAWkgBSQggAp\n",
       "IAUBUkAKSAEpIAWkIEAKSEGAFJACUkAKSAEpIAWkgBQESAEpyC8gha0xgdTPC7bGBFIQNPyAFARI\n",
       "ASkgBaSAFJCC/C2kGgKkgBSQSlcZcxJIASkglVA3VgApIAWk0JcCUkAKSAEpCJACUhAgdUmSlnJy\n",
       "pS5GzrozyPeRSrg15lcyfi5DTDhWp0tzTY4bg8TIPz8+LgWkIGj4ASkgBaSAFJACUkAKSEG+gJQ1\n",
       "jXPGmLrWQApIQY4gVTVsKGA6tpQEUkAK8ilSzBA5XGd7pArtBJACUpDPoxSdIVW5BkgBKUg6pMrQ\n",
       "QCyQAlJA6lOkxIOeUirKhbRACkhBDiLFqOpSfopw6/SHSO3aoMwCKSB1S6RI44kJItUIIeiATtNM\n",
       "VgruQoruimglBVJA6o9Gqdr7VJrJRXu2xuQiKjgJQeqyU0ADKSB1A4neGnMFKfJpeoIN2Q3WbFHI\n",
       "2vp5X6tkQApI/f0oJT5FigxBh29+P20rHFZ5aAKkgNSf7EulQUq9vnCzB6XaRt+Qr1cMSAGpvxel\n",
       "qsl4VPNpw48/a2ned6n4kFOUY2/KDK1FWwMpIHVTpIRrvdga6Zx5UlAapwz/CCki+gpqV5s3ubyy\n",
       "GVASY9S0TeX9AVJA6nZIGaOcNG9zbvFIyVdX6p2C1JiBG+3Fxw6m40S9/GxclZ8Oqc/qTIxUyhs7\n",
       "S767SerXolScO0Qj1QwXkoiHNWT8Cq6KCVMJiBr97NWEdSfXmTpKJbyx0+SrW3nfFaku7TDtSjHp\n",
       "ZUYmsKhex2riFLZZJcrtkEOFs9QZ8W4+68a+Ln+6L5UHKebKbfU6auq+2lJFIvVH+lLr72b0pYDU\n",
       "WsOv60qxrQrZiBRvMjb8kJ6A3Bupmr66UnwDDGW8hp+u86UngBTkokjFbo05JMSNKdhWDl3rYhyX\n",
       "ImJKFJLoQOqCctbWmFXfiLO13s7Ml4QM02YfjcWx3/XMq1sJpIAUGn49H7vji20y3P8NxqUCmT+M\n",
       "SwGpQJNu91AD0RmRuvK41DLzh3EpIBVKUOxcp3t4Oh8afpC/jRTbiUhtgRSQAlKbYWfX0neaZ/MJ\n",
       "IAX5O0hdQoAUBEj9KlJe3gtIASkglSBKjXkvIAWkLo8U1ktdWDAudcsohfVSF5afHpf6z12RQnoC\n",
       "kkb+QZQCUhA0/IAUkAJSQApIASkgBaQgQApIASkgtSbfSJ3m2JXn2FY/iXYO+iv7DQGphEh9d4DP\n",
       "XbdOoACkUjFVACkgBaTu+iCAFARIASkIkAJSQApIASkgBTkNqT0/f/1WkPEDUneU6J+/PiFKfXVK\n",
       "P5CCoOEHpCBACkgBKSAFpIAUBEgBKQiQAlJACkgBKSAFAVJACgKkgBQESAEpIAWkgBSQglwPqf8A\n",
       "KSD12/IPohSQgqDhB6QgQApIASkgBaSAFARIASkIkAJSQApIASkgBQFSQAoCpIAUkAJSQApIASkg\n",
       "BaQgQApIQX4AqaRbYwIpIHVHufLWmEAKSKHhB6SAFJACUkAKAqSAFARIASkgBaSAFJCCACkgBQFS\n",
       "QApIASkgBaQgQApIQYAUkLoZUoSfVzqhMMlWTr6OFLbG/G2kiDmjtE1yyRSMhq2cvBNsjQmkEoqW\n",
       "Z5SmntdZymkIn5LuVcasnaDhB6S+141Q7ITSXHgnbRstSCbVO6ut+doJkAJS3xIpvlVaV15Px+8D\n",
       "qcf/wmjKnY7O/GpYPO5ACkglE37IlxalmRDGrNSoRvyI9i62zeO4qYIUkiM9u/huHpACUnHv7IiO\n",
       "TnMoSC1KtwiQ5m055V/cR6lwLmJvu9I6u3ICpG6FlIuR7/eSKG3e+9KhntSitCtbT67eBTc5ubg9\n",
       "W4Ff7u5NibWTOyEVfBVUP4XUReMWf4uUqVesGGW/sfSrpcY8pGzTv0zsHA8iJhdbyvX49e1VlVT9\n",
       "xcJEeJyvq1ZrJ3dCSpSht0UFpG6AlNMrVoyynwvGEDF8KyPM6kIEIo4Xe8RcxfLBizW26sNWuOm6\n",
       "oav13dnG+vYtkOIESF0fqWrsbQxWFIISG2m/KthX6cZY2YOkxx9qmegTEQNI/WnDJxePuY3H/9qx\n",
       "KDH891BDbXncUHqia7N6cnekigZIXR8p7WZWlA9nYI2Ns58O3ZOtW+es+nRDXVSdU3enLVL956qc\n",
       "XPxy7PYfH0hZPqDV+vqqxzFD5ACCryuRayf3RKr0IjoHUpdHysipFXVXQNRB+5V6vfRI1AMha1/E\n",
       "FKUJNPyeSE0uflba08T7ry83oxQdQPB1pf6Dpu72SHHqva2A1OWRUmZqxbo770ablvbjdL30aPWq\n",
       "qsjTPQn1mRiRGhp+04ufoc9U5hHbxNYdzJHydeV+vpG76gSkjm+NGUaqkBZIXR0pJ6ZWdH0zrXvL\n",
       "Luy3QMorzYzq+i1qMl7QTn4YO0sjUnVfkwoOLnDpVP10KV3HIOXrWvkhooqMF1fbGnMFKS6A1GcV\n",
       "k0bVCd5HVkgntmeeeim71orsiZQO2W+J1Ks0Uw3XKnqygti8UnvfQ0QUUp6uzE9DMhc3rnWPht8X\n",
       "EhR/FKl+NOcbA3t+kll0466idzAast8cKa+0abrzWLesNl3Dn+7alFFI+bo6X01H/xRSpPwxpJiT\n",
       "xexo/Ci6YtGPj34hYzppF02QEiH7zZHySvfBoI6e6tBsvTC8vLptijikPF2dCLdNb4cUaVpRqvvT\n",
       "x/XKjN/xx+XpDK9hkNfR6+BbOqx9UzGnvc2nuXLW8BP9x3Rqv4BxJ6Wr4Tuim/qx02HJpBEn15Ea\n",
       "dR36g6GT+0ep7J2pv9nwk4N/skxPzRv+nEepwQN5//HcfutR6nFkW4lXOa6vOM06joovkfJ0/ctI\n",
       "ZU/5/U2kTmz4FXXnw7r3r7n9thp+e9ffsvoIeEukPF3/cF8q/8AU0hPvxWzNhLezjN8wz7Sfc7Cw\n",
       "3zI9Mc6D7Rdh7HiH2ghfp7aIRMrXdZLk+1sZv/zTJ/5sEt2pVLOO9aZLMe8l3luxHYRlqgrab46U\n",
       "V5o1Spe0ocV35Olx4jnJ0NP1o3mzN0Eqf8vlzw71pruxNy0FRWZWZERQU4Xtt5w94XVUSOPkt4ga\n",
       "dDVGOWn0TNfKS7lMT26P1BemogOpt00nvr12XdYhK67Yb4GUrItzZEvXydr92G0A7jFttrZA6nSk\n",
       "Wp/fWrtO1KqbLu23mDZL1EWQ8nWdLMASkU2lq22NGVzcwWQBpM5Gqtssb2vtuh49aWbFGPvpbIn+\n",
       "fR430bU2aycb8s8d1kvt3oINSCW/sT5TPVm7vshP8BUrxtiPnbVtyZaunyT8LtfwoyFzmQJInYaU\n",
       "1TPPW20A1WTFilH2q8k5SG3oWvorjcvYLZKwQ9LlkEq8Q9LBGytF5yDjcOr6/uD6UHdIq8v5hJBr\n",
       "J0DqTkilruawEt0msOT5Lp8uR5+13Y7MbT5WOosovnYCpIDUAWmTx68gFVqOvv9FnqF0jiahWjsB\n",
       "UkDqkDTiFaSCy9G9N/mheRqqupZLfBakgBSQeh+m1Gu5g9ruyZ3zWzi5gpRcOwFSQOpomFKxQ+3y\n",
       "0HCH1BdyCOvftFUWSAGpdErw6FGMftu+jzMUjb2MP7CGr5wAKSD11Xe7ZKeVTiqThfr1nvAJpIBU\n",
       "Wqaq80qnDFLl2gmQAlIF5Ktyta0xgRSQurlcbWtMIAWkEKWAFJCCACkgBQFSQApIASkgBaSAFJAC\n",
       "UhAgBaSAFJACUkAKSAEpIAUBUkAKTg6kgBSQAlJACkhB8iBVAikgBaQQpYAUBEgBKSB1WaQS1qac\n",
       "BlJA6relBFJACnJdpJrrIuVy/LvL+51ACkhJRy+L1FHJUWlSKPJ8OWSvcJfyBxNqJ/5qw85lqNSd\n",
       "cRmCV2bRLuUvSxtHgBSQ+m2hLuVG1MQZIAWkfluEqy9bG5ACUjcUkrSppp0EUkfr/DhXAqQuIXXS\n",
       "HF2ZINmx2Fyz+hJSdv5ymfzg32dePK+z5JSUxzH9qKClnNo7IZXJE3KLTDqFyCZIzS5+U76uvoOU\n",
       "nr1cKt4cRmpep2p/QPMkpNot/OWdkMrkCblFuaRqOmeTP0hOvoIUbcj87XIYqUWdj6dTqXOQYu33\n",
       "KnZnpDi5A1JJZ8220yfK5A+yaL6CVOBrjkepgOr1SQ0/2+rSVHdGqmhuQJRNOtLbDkzp9A9S8JxI\n",
       "MSGMebDDZN/56aU8hNRGnaQqvozUoEwfpeytkRI3WOhQJk7R0eMJxOWDtHVOpFqFSdO1KnSqKLVe\n",
       "p2AF/TJST2VaS9+7L5XGEzILTTyDKAGiywdZSJsRqbapah89Skv09Gsqqry34i4vXq1TOudNV/kO\n",
       "Ui9lKNf23kgl8YTMYhKvGWTHU37dg2SUdK9308UJLtIhZU3jGtPetVFOPiKGZr3HHfDiHHV+XnCu\n",
       "TViZuyCV3hMyS+NY6gptigcpCt42/bVL1i0dXUg8Uyj0ZR/RHPPiLHV+XnCpzVKZuyCV3hPyCkuc\n",
       "nWitqRM8yIp3rf/CDM1IUiZESj4PyfN1UjXsoBfnqPPzggttAsrcBKkMnpBXePJpruXhGtsH+XAA\n",
       "1fbi1dCVr16VJlib9JqHaF6d3ohQvV1p+jrZq1f6Oho/2nmHIWXchSXKE36kK9Xeu0uAVIum3wNI\n",
       "0IR2I/SDddhQaTtpyNro8qEPc9TZvHKnr6PXgdt1h0FlbpOeSO4JeUWlf7Dk6HSM/kF20Z66dIke\n",
       "r9szKKjL4RVeVRVhh9w/R51HOnYTbcLK3Aap5J6QVaoMy5vKo2n5/kHWrWZ13aWrkgxHvFyoeXYf\n",
       "yfO1ErVqfDuiZKjz84IzbcLK3Aap5J6QVWiObfeUSvEgiWlnw4mi4zPFoLl79UzMrNuzN72x/DBH\n",
       "nZ8XjNPmPlEqtSdkFamycFomeJDMCMqtoV0TJkXm1L0yMkNK0tJk7p+jzs8LxmlzG6SSe0Ledl+W\n",
       "vt7B1uRyzDzJBORFt0fYZO6fo84EHbtNbW45e+LyU9FN6nHep0lZ2gdZ26RIfdRGe4NU+jqPIBWj\n",
       "zS2Rqi+enGCZ9l5hx4Lf4kGyJDN7x2ZRD7yx6dw/R51HGn4x2twRKSYvrjF1NlfFLOWDpDolUoVs\n",
       "Gw/WVEVC989R5+cFo7S5I1L06tuDq2wN0+ZImKJzV0gTS70ZcLUh9ED50Ic56vy8YIw2N0Aqkyfk\n",
       "DFIsV9XcXa/Nix2SbofU3YTl/EUAUgOpr7s1kDpZTFavbzSQAlK/JaViOauv8lYPpIDU5aTJvO6k\n",
       "tEAKSP1UT6r8tTsGUkAKkpip2/5kW6Y7hEtcQf4fZaUaWjdNdqkAAAAASUVORK5CYII=\n",
       "\" style=\"display:inline;vertical-align:middle;\" /></a></span><br>"
      ],
      "text/plain": [
       "kickbacks: {t in NaturalPos} |- Pr(QCIRCUIT(([INPUT]{state:|+〉}, [INPUT]{state:|+〉}, ..(t - 3) ×.., [INPUT]{state:|+〉},[MULTI_QUBIT_ELEM]{element:[INPUT]{state:|u>, part:1}, targets:{t + 1 .. t + s}}, [MULTI_QUBIT_ELEM]{element:[INPUT]{state:|u>, part:2}, targets:{t + 1 .. t + s}}, ..., [MULTI_QUBIT_ELEM]{element:[INPUT]{state:|u>, part:s}, targets:{t + 1 .. t + s}}),([MULTI_QUBIT_ELEM]{element:CONTROL, targets:{t + 1}}, [GATE]{operation:I}, ..., [GATE]{operation:I},[MULTI_QUBIT_ELEM]{element:[GATE]{operation:U^{2^{t - 1}}, part:1}, targets:{t + 1 .. t + s}}, [MULTI_QUBIT_ELEM]{element:[GATE]{operation:U^{2^{t - 1}}, part:2}, targets:{t + 1 .. t + s}}, ..., [MULTI_QUBIT_ELEM]{element:[GATE]{operation:U^{2^{t - 1}}, part:s}, targets:{t + 1 .. t + s}}), ([GATE]{operation:I}, [MULTI_QUBIT_ELEM]{element:CONTROL, targets:{t + 1}}, ..., [GATE]{operation:I},[MULTI_QUBIT_ELEM]{element:[GATE]{operation:U^{2^{t - 2}}, part:1}, targets:{t + 1 .. t + s}}, [MULTI_QUBIT_ELEM]{element:[GATE]{operation:U^{2^{t - 2}}, part:2}, targets:{t + 1 .. t + s}}, ..., [MULTI_QUBIT_ELEM]{element:[GATE]{operation:U^{2^{t - 2}}, part:s}, targets:{t + 1 .. t + s}}), ..., ([GATE]{operation:I}, [GATE]{operation:I}, ..., [MULTI_QUBIT_ELEM]{element:CONTROL, targets:{t + 1}},[MULTI_QUBIT_ELEM]{element:[GATE]{operation:U^{2^{0}}, part:1}, targets:{t + 1 .. t + s}}, [MULTI_QUBIT_ELEM]{element:[GATE]{operation:U^{2^{0}}, part:2}, targets:{t + 1 .. t + s}}, ..., [MULTI_QUBIT_ELEM]{element:[GATE]{operation:U^{2^{0}}, part:s}, targets:{t + 1 .. t + s}}), ([OUTPUT]{state:((1 / sqrt(2)) * (|0〉 + (e^{2 * pi * i * (2^{t - 1} * phase)} * |1〉)))}, [OUTPUT]{state:((1 / sqrt(2)) * (|0〉 + (e^{2 * pi * i * (2^{t - 2} * phase)} * |1〉)))}, ..., [OUTPUT]{state:((1 / sqrt(2)) * (|0〉 + (e^{2 * pi * i * (2^{0} * phase)} * |1〉)))},[MULTI_QUBIT_ELEM]{element:[OUTPUT]{state:|u>, part:1}, targets:{t + 1 .. t + s}}, [MULTI_QUBIT_ELEM]{element:[OUTPUT]{state:|u>, part:2}, targets:{t + 1 .. t + s}}, ..., [MULTI_QUBIT_ELEM]{element:[OUTPUT]{state:|u>, part:s}, targets:{t + 1 .. t + s}}))) = 1"
      ]
     },
     "execution_count": 45,
     "metadata": {},
     "output_type": "execute_result"
    }
   ],
   "source": [
    "kickbacks = phase_kickbacks_on_register.instantiate(\n",
    "    {m:_s, U:Uexponentials, var_ket_u:_ket_u, varphi:phases})"
   ]
  },
  {
   "cell_type": "code",
   "execution_count": 46,
   "metadata": {},
   "outputs": [],
   "source": [
    "# from proveit import InnerExpr\n",
    "# inner_expr = kickbacks.inner_expr().lhs.operand\n",
    "# expr_hierarchy = inner_expr.expr_hierarchy\n",
    "# for _k, _expr in enumerate(reversed(expr_hierarchy)):\n",
    "#     circuit_or_lambda_map = None\n",
    "#     if isinstance(_expr, Prob) and isinstance(_expr.operand,\n",
    "#                                               Qcircuit):\n",
    "#         if _k == 2:\n",
    "#             # Just a quantum circuit in a probability\n",
    "#             circuit_or_lambda_map = _expr.operand\n",
    "#         else:\n",
    "#             # A portion of a quantum circuit.\n",
    "#             circuit_or_lambda_map= InnerExpr(\n",
    "#                 _expr.operand, inner_expr.inner_expr_path[-_k+2:])\n",
    "#         prob_relation_lambda = InnerExpr(\n",
    "#             expr_hierarchy[0],\n",
    "#             inner_expr.inner_expr_path[:-_k]).repl_lambda()\n",
    "#         break"
   ]
  },
  {
   "cell_type": "code",
   "execution_count": 47,
   "metadata": {},
   "outputs": [
    {
     "data": {
      "text/html": [
       "<strong id=\"kickbacks_with_QPE1\">kickbacks_with_QPE1:</strong> <span style=\"font-size:20px;\"><a class=\"ProveItLink\" href=\"../../../../circuits/__pv_it/theorems/71c1fc00120f763c694cd99d32f7a5e7315b9ca50/expr.ipynb\"><img src=\"data:image/png;base64,iVBORw0KGgoAAAANSUhEUgAAADwAAAATBAMAAAA+KHOiAAAAMFBMVEX///8QEBCYmJjMzMwyMjKI\n",
       "iIhERERUVFS6urp2dnZmZmaqqqrc3NwiIiLu7u4AAAAqt126AAAAAXRSTlMAQObYZgAAAAlwSFlz\n",
       "AAAOxAAADsQBlSsOGwAAAOZJREFUKM9jYMANFjDgBQmkS/PdT/Nj4JSXwKWbbUM7A8N7uG6+O6jS\n",
       "7Hc4FRgYGbjS0sTSkhgYuP+hSW9j8GHghevmugARDrt71wEsfSjgCJI07wSwbEscTPeBYtYJcOn2\n",
       "/PQAIMXjBzf8ABtDBkL3frAgywGENPOCt2/hobYEIo1w2gEGbe5EOPcmmDS8CwQJUGn2B4XwUPoB\n",
       "pp4h6+YreAvjcX9geAByP7I0gykbjMflwG0ApFgD4IEK5LKawRUXPAXT3jABlg1w94I8nKQApp9n\n",
       "PADTzP5iQPIJRkx15kICFQUAALDXOQj7yj+HAAAAAElFTkSuQmCC\n",
       "\" style=\"display:inline;vertical-align:middle;\" /></a> <a class=\"ProveItLink\" href=\"../../../__pv_it/_proof__psi_t_output/28f4569c6d7bde69669a0a16aaedfd864db890c00/proof.ipynb\" style=\"text-decoration: none\">&nbsp;&#x22A2;&nbsp;&nbsp;</a><a class=\"ProveItLink\" href=\"../../../__pv_it/_proof__psi_t_output/17102a8f69313489a755f15c3c8a924d2206a4120/expr.ipynb\"><img src=\"data:image/png;base64,iVBORw0KGgoAAAANSUhEUgAAAsAAAAFFCAMAAADVZKsrAAAARVBMVEX///+/v7/f399RUVGTk5PO\n",
       "zs49PT1GRkZmZmaIiIju7u6qqqq6urp2dnYyMjIQEBDMzMyYmJhEREQiIiJUVFTc3NwAAADuc2F6\n",
       "AAAAAXRSTlMAQObYZgAAAAlwSFlzAAAOxAAADsQBlSsOGwAAG4hJREFUeNrtnYm2rKiShq2u27cZ\n",
       "ZBLw/R+1nTIFxSnVVHP/sVbV0XNEIoPPMAgGs2y1yDyDQM4Sb9m5FRAHI0NOFHEuYFwx2Bhypihz\n",
       "4s3ZqXeHQLIsL/15N3cSBoacLK447da6RA/u3B4Gv6C0P78Mk2ziJHXvkp9lXwkHfOMe8oelaYiL\n",
       "J0OaiiRtOd3o+sLkgl7INBT2rB4cHPCpYuQFpbmIbjIAU/MJ2OjGzpBxUyepFz09x8DSArITRe/K\n",
       "8HxYmkXYUzsKQ6a8pdxYXcGnThLXqpMiYArKThQpvlXa6D7uiD3p2EVNAWzIxiclfMDY/NPGz4mC\n",
       "XYkc8InCd5l3VJoJ4dzEHVUPu4oubv2xJ63kcwBnWz1+FKIvxOvlGZ0tVhag7FPbrQhQ7S4HPCpd\n",
       "O0iyGPNxGV3MSWZWeuBMboyCfZjf9fPJXlfqE7oY52U3fj66pXQRJb3LAY9L1x1uv8gBEdHFnhg/\n",
       "0FyJiWbfPOZbiKmTcZKjFMe3QrEvgkg+cUc8Z+WVaK6tnC8C3Kfv/Qc2Gif/DQsA9rZsxA+dZ3cU\n",
       "XTzjw2p1ZDcam36pzChv1NRJwq7Hd+NYuS8HIVIpuOIAgstL5TCASzNhqVU2KpPvc9HVygjzJhOJ\n",
       "t7/lo4tn/GJFp3det+RytaKZQ+WjAYqF0Yri+BjC7PTqSYA5+Z4TvLcH1n1Q2FlKCEr8ShvpZEjZ\n",
       "DBiwqtmqP6hnou2udQC3pyqPLp52X/XVdRJKdP/Vdc41c3e7SHk7eTISenwM4XaOYiQBziwAfvmH\n",
       "gaVk5aGY9etsZFJ6tINoWjVsF5luiGlOa4Dbv38DPDHi9sa7vroC2PMO5MofT3tg5ojsAs5QeSKn\n",
       "ThJP5OF5CLUTlADgvH/fCQ6AW/8gY0uZpoAoUjbKzUzpnt8KWO/ffGa5mwkhoosndWzZ5XzmJ72a\n",
       "mXYAh8rTMps4SQWGB+ds94bAIcCcBl4CALf+wcWWKprzJrs7shGnM6V7y2qtyYsCQkOP2QNc0MTF\n",
       "k37eaVc58u7lboo1AIfK8zCw5fNRrjx62gLfmwVOA5xJD4CbG4nYUmX7wm+6OkMbjQEOSjOnmvBS\n",
       "RX3MeuC3D3J7gLtcmFrXIeWyVEUeZ+AWAA6V12HHTc/34sjRw75kb1Q9ATAXfwBgL2Qp6No0Qm0p\n",
       "9gLYJGyUAPhdminLjVqdotXb3qvhXB+brwI4UJ6FuRJWmvmo/uBhM7l3GGMC4P3duEd44EXEA/OK\n",
       "ZlRBtADThI1GAAelnW3OVweQdlO6KpiE4222CuBQ+cirzrtYfXQmWO1NzE0BTHIAHL9QI4BFwkYj\n",
       "gIPSrV8rVg/zbpuTE6TaiFkJcKB89Baff6Wz8uB23d0rbH4ZsbUo1fzRvue066s4dSzhHIBnFZrX\n",
       "lwWpojzos7QhhGj/mkY2StgvLq27OtYHZsVnnZCoZxn8kjHAfQN3gX3qJGXZQ4cy/G5Opjzw7iD4\n",
       "uR44yOUPPXDXvN28woGNZjxwdeRrWe9t2GexZsx9/0vGAAfKbwHYHjv1hu/Nok0CvDsN8RSA3dwr\n",
       "YwRwUbRdGZaw0WwIsbnz7j/p7lO/0Mw9wIHyG2LgqtN1aBqC7h4ZmQB4fyL4IQAbM/+Gi7MQ3WSX\n",
       "drhqaKNEJ+5dmrTTdP1VBhkBHCofJR7msxDV837oYLLYndWYAHj/UNxDAJ63Hwv8TWupeoyMKZ2y\n",
       "0QjgoDSzyuTU0qsBFq/ZGYHyW2bzZKQ8dIset/t2EwDb7G8AXK/9nV0kQQaWYkRQp5M2SozEBfEk\n",
       "saW8bu1Xq7xzqpTODJSPdmVY2qJBHDsboijJKQAfMB3tGQDXDnhukYQsUpZK22gMsLzNYpk55aNl\n",
       "T0srqER56BJieSTAwWSUwv8NgJvNF+YWSRA1ycDIRuPJPETdFeBQ+WjG8dL0Y3rsSIbdHVInp1My\n",
       "mf0JgNtc1dy6B9M7pIGl1tjI3Ga97ZzyhZs6Sf6kQxtWnQMwNT8OsDeDHz/leFjfpxlYao2N2G3W\n",
       "K84pvyUJcTzAe/sFNOV5XPbbAOeicY39YMH0uoeCTFhqlY0KchOAZ5SPtp1c3IOSHw3wbfdVvXcI\n",
       "0ew3Ql6tOrPuwewK+YzKbi9CTp18AeASAH9Wed3ZfjvguXUPbNcMbvaAbesUnzpJvryOBpgD4I8q\n",
       "t+LtgOfXPYhdHVpx+41DqZo6SYo+dlHR//33fwHwR5Vz9Z6OtbDuQe2afqX0zQHe5oCz//nvf+GB\n",
       "b1G5VStz3Zfsrvo9ByynTr7igQHwx5Xz1akWuaufIW/9+RIfPsZ+xTMNgJ9XebsNxDWlTxYWbAEU\n",
       "nwDg3wE485JdVvpcidY4rVrwBICfWLnX15U+1QHnUycA+KcAhgBgAAyAATAABsAAGAKAATAABsAA\n",
       "GABXAP8HAAPgL8o/8MAAGB4YAANgAAyAIQAYAANgAAyAATAABsAAGABDADAABsAAGAADYAAMAcAA\n",
       "GAKAATAAnhLyrwfAAPiLwv7999CGggcGwAghADAEAANgAAyAATAABsAAGAADYAgA/p3KCb+u9JnC\n",
       "wm3b2Ko93ADwAysn7orS/gtloo/bTH/pBgA/uvJrdrimYcv6wdeOck5Jai++fOtHq4ybOgHAv1K5\n",
       "VuyC0jz6AKAZgKnq78cksd+6nXbBp04A8I9ULsW3ShsdBKQRlnYQR/v6yUjXtxEvFj5gbPlpw8Ym\n",
       "T6uc72qwUWkmhHMTd1Q97MREFye+I1qkt/M1Wz+tGIXoy/E6Nja5U+VsRYBqdzngUemaL7L8wXcV\n",
       "Xdz6Y09aacglU7tmbw1ZfPhtTr/0oU6EEHeqXFO6iJLe1V7j0vWXD6e+LB44bhldzEk2iG0Fyyb6\n",
       "a5s/KlOIqZNHAJx84vTfALgCZRFgV0xYapWN+tLvVzwLAPa2+UTdy+317BERXeyJiWuXVaFe9bqY\n",
       "lqr7gLlb0cyh8tHncBe/jXs7gJNfqy80AH7dyUxYapWN0l8CFl2tjDBvMpFwnoEbFYsq5hWd3nnd\n",
       "eu10VDSjvA8Z8ktAPQNgTgDwq738wFJCUOJX2kgnQ8pmwIBV3FZ/UM9E213rsG1P+w9ezY8uNFfX\n",
       "sYTo/qs/QTrXzN3tIuXt5MljAc4sAO5eqeXAUpK/Pv22wkYmpYcvagJ0+1HBItMNMc1pDXD79yqP\n",
       "Lp7Gqb66AtjzDuSasMlmZo7IDr9QeSKnTh4GcB68tzgAboNYGVvKNAVEkbJRbmZK9/xWwHr/5jPL\n",
       "XSKEeAEcXTypY8sub/XJZz0w7fALlaehtWj5XIA5DbwEAG5JcrGliua8ye6ObMTpTOneslpr8mKA\n",
       "0BC4HuAuhIgvnvTzTrvKkYu5nzQEOFSeh0kRvpAheQjAmfQAuLmRiC1Vti/8xuxDG40BDkozp5rw\n",
       "UjVph7eZKxj6ILcHuGhvFV88/Stkqd7jGqZYA3CovA4h0gtEPQVgLv4AwF7IUtC1aYTaUuwFsEnY\n",
       "KAHwuzRTlhu1el6a2DaDLZwqQcQqgAPlWZgrYaX5CYD3d+N+Yig5zCqJZlRBtK1IEzYaARyUdrY5\n",
       "X9v2epv5w0k4Nl8FcKh8GSpe0t8AmOQAOH6hRgCLhI1GAAelW79WrB4ls5sy8UGqzdtsHcCB8qVI\n",
       "hz1fAHj/xibNLyO2FqWaP9q3l3b9Q/KZXArwrELz+rKyzx3kZT4IIUT71zSyUcJ+cWnd1bE6MDOf\n",
       "ZuJJFA7IaYD7Bu4C+9TJWG63scmUB94dBD/XAwe5/KEH7pqXt389sNGMB66OfC3rnVfxmWeKUyP9\n",
       "LxkDHCi/BeDHhBC70xBPAdjNvTJGABcNIKZtxIGNZkOIrUsl2GeJzCnuxwAHyv9iDLw/EfwQgI2Z\n",
       "78TFWYhusks7XDW0UaIT18/OaWc5bvAKnn7wu6nPVgIcKh8lHn4kC7F/KO4hAM8/qCzwR62l6iEG\n",
       "pnTKRiOAg9LMKpNTS68yyKuZxWt2RqD8ptk8TwHYZn8DYLpgP0UGlmJEUKeTNkqMxAXxJLGlvIzf\n",
       "TnnnVCmdGSivg55qfPJcgA+YjvYMgGsHPLfKRxYpS6VtNAZYFtlNZE75aNnT0gqqh0zmKfzfALhx\n",
       "wHOrfIiaZGBko/FkHqLuCnCofDTjeGn68TOmUzKZ/QmA267+3Cof0zfXwFJrbGQObewDmzlSvnBT\n",
       "J48FePPuAk8D2Jvgx0erfEb9MD5hqTU2YrdZsjin/JYkxP0ApqmGc9lvA5yLphWCXOvkm7MgE5Za\n",
       "ZaOC3ATgGeXzcNlIvrQsGauS71F5s99IvzR9euGO2RXGGpXdXoScOvkKwNjY5KPK685274BnFu6w\n",
       "cs+spn2lvyOKT52kBBub3KRyK3oHPLtwR+zq0Ap5d36pmjpBCHHnyrl6T8daWLijdu0xoPTNAd7m\n",
       "gAHwbSq36uVzFxbuXLO76tccsJw6AcD3rpyvTrXIXUlFae7Mr1d+4gQA/0zl7TYQ15Q+WZjlEycA\n",
       "+Ic+MeAlu6z0uRKtcVq14AkAP7Fyr68rfaoDzqdOADA+s/WbAoABMAAGwAAYAANgCAAGwAB4l+zf\n",
       "2AQAQ7bI7TY2AcAQhBAAGAADYAAMgAEwAAbAABgCgAEwAAbAABgAA2AIAAbAEAAMgAEwAAbAPwcw\n",
       "NjYBwN8UbGwCgOGBATAABsAAGAKAATAABsAAGAADYAAMgAEwBAADYAAMgAEwAAbAEAAMgCEAGAAD\n",
       "4EnBxiYA+LuCjU0AMDwwAAbAABgAQwAwAAbANwLYEgAMeS7ArJQAGPJgD8wyAAxBDAyAATAABsAA\n",
       "GABDADAAhpwK8IEbmyALAVmUf5AHBsDwwAghADAABsAQAAyAAfCceGfL0jlXFAYAA+AnAawt6wq4\n",
       "hmQlATAAfgrAzBHZXedbgDNTir8KsN9+AQC+3APTAcC6tH8UYLr4E3MKgG8PcJ4cZXgQwNQR4mgi\n",
       "stfOKlWdOalUItLnoithXf1bnSrliFdqAPDdARYVqrlUlAvpHwiwtk0ERK1ORPZ59xtZMQ6TWPfc\n",
       "ijLvDBNdw2xjDckA8K0BZrR1TopwX5oPAd62At8fCbAv6etn6XFk/zqrYv/RbUj3a+XrfiSyH2/N\n",
       "ZAgAvgZgYgNxSYCtEOIVB1obTzvfAjDd5qzHgeUOgKV6HVk7juzfAGfjsexXwbLoDmLGSdczUAwA\n",
       "39UDFyEIAxe1YWMTLtY5XiFIkScDy88B5n0KhTa+OI7s27O8qnX0jPEugshfLpzFP8N2p9IA4K/I\n",
       "6o1NJgAmn3biXrFkFzROXkYa3ngqsPwcYNerqQNk28j+dUbzxF2IeIXAbfCcmeCq3BVl0XYMhQPA\n",
       "j/DA4lOAX7Ekn6+f1jfs5lUachTAssz7aFiNIvvq75wLrglLdmpblQwy+KsWIwHwXWPgYwBWg6Bx\n",
       "KvJVNUZdyk6xMwC2o8i+wdkXKYBtewl7R8mDEPjFLVcA+J4eWEf5X/tpCPGKJd9B4+zFXaIjCCxd\n",
       "F3j4YmcIkTcPZPxY9jHwKPeh8kijzNNkCFyZCQDfC2BR1m3pqzdr6cQ75qvetfwjgNtYMgga57yw\n",
       "7WgJAkvfJnC7P7Z34kj/YJoJgFllGF/9IwvDgQ7gdwgsIsLZ27Pn8MC3AtjVA05uOQ2wGmBpBkHj\n",
       "tIbUOT0OLBt0N/AbM1TUfOX8HcymAG5q1FX91I5CCFEmI4jm1zT25PaxAB+7kus2HnglJWsB7kDo\n",
       "g8b5EIKPA8sK3i38DgcyRMZzRvuBjDTAcghjQaOuZxfJsCAE5s0NTfFcD3zoSq5fBbh7FYchMJNB\n",
       "/zEmU7VKxoGlt5P8limJrvCSVihy0ukRR/b6BbBQQ4BfUUyTP/Tdq+Hts5zLGA1CpHmF7ia/HQOf\n",
       "AzBL5qpC/RpEiva2cWA5A/CiB66D3yr4blIgehDZ625qjytU65dDgPXrWBSOvIN3202W9oV5pdly\n",
       "xMB/IYTog8bJG7Ie4Ciw3BVCvNWoQoDFPEZUbbpKPvgN3mYA+KcB7mLJPmic8tQuCCHCwHJfJ+7d\n",
       "OZXa2E0Ap0dThrlAYgDwQwFeubFJF0v2QeOENK/kV9Y1CCz3pdGC7mFZ0k0AZ0Vi6Hv4G0bZaQB8\n",
       "lly1sUkXS/ZB45TkhJDXmFgQWL4ya17uAjgjymXbAGaJkGP4DIwgB8C/FkJkmzpg6cByo2oflvNC\n",
       "liIk1C+6bOqzBwOMPPAq+WBmDjFXAHyMXZ7k1JAHXteN27rEYv20BwCMEOJ8gNlWHgsPgCH3AXhF\n",
       "LLkQWAJgCPZGA8AAGAADYAAMgCEAGAAfIMgDA+Bne+C/nQf+DwBGCPFF+QceGAAjBgbAABgAA2AI\n",
       "AAbAABgAA2AAfIjgS52QJwOMbyVDnu2BWQaAIYiBATAABsAAGAADYAgABsCQEwHe8JGXFX04ZCEg\n",
       "i5Cs/cjLFR4YeWAIQggADIABMAAGwAAYAoABMAQAA2AADIABMAAGwBAADIABMAAGwAAYAAPgnwAY\n",
       "G5sA4G8KNjYBwPDAABgAA2AADAHAABgAA2AADIABMAAGwAAYAoABMAAGwAAYAANgCAAGwBAADIAB\n",
       "8KQcurEJAIYsyq03NgHAEIQQABgAA2AADIABMAQAA2AIAAbAABgAA2AADIAhABgAA2AADIABMAC+\n",
       "onLCryt9oDDJksdXAIyNTb5YOXFXlPaHXBJjaFnyeFmwscmDKzfyitK0b2JPOU2ymtOtyrj0MUKI\n",
       "HwZYK3ZBaS764/ptn34MqNl424KnjwHw7wIsxbdKGx2EqEHoqqr/TTwHciNWLLgP2/BsAeDHVs53\n",
       "tdywNBPCuakbqh52YvqLva2OrU4zv/Ubf2FEviE6B8B3rJytiU/tLgc8LF3zRuxyORVc3HrgiQ7b\n",
       "1gjFlz55DICfB7Cm1K5ouV0R8LB0mdfc6EXHLcOL65OpR01ujoJF+vhhACcfPf23AK44WQbYFWmL\n",
       "rbPVu/T7lc8CgL0tG/EjGIkIL/aUm6D6+iotVXuxcCuaN1TWqPTxwwAWeerh1AB4dEuTttg6W5Up\n",
       "/yi6Whlh3mQi5U37IzFSMa/o9M7r1ieno6AZZX3Ajl/N0TMA5gQAjxrOxxYTghK/1lY6FWQ2Iwis\n",
       "4rb6g3omus5dh217bnl4cdAFrP5X535F91+lh5pr3q54pGz4bffV33l/BsCZBcDDV34ZW0xWhmfW\n",
       "r7SVSSjki5oE3XbKiky3CDXnNcDtP6g8vLjHqP7HCmDPO5BrsiablzkiO+xCZYlMHz8W4Lx/zQkO\n",
       "gAdBrIwsZpoCokjaKjfTpXt+K2C9f8Oc5S4VQnQARxe/b9qyy9v681kPTDvsQmVpmT5+LMCcBt4B\n",
       "AA+yVC6yWNGcNsndsa04nS7dW1hrTV4sEBoB2APchhDxxW+37rSrHLeY+wlDgENleZAE4aW+BOD9\n",
       "G5ukAc6kB8DxHUVksZK0rclTthoD3JdmTjXxpmrSDm9zV1AEQW4PcNHcKr44yLGVqni1nynWABwq\n",
       "qwPvp9d6wtttbDIBMBd/CGAvZCno2jRCbTH2AtikbJUA+FWaKcuNWj/wJWYvNUFFRKwCOFCWBakR\n",
       "Vq5MIz8khDigG/dbQ8lBnkk0owqibU2astUI4L60s83pagb0bDuEs3BsvgrgUNmSpo9/AmCSA+Co\n",
       "3dIAi5StRgD3pVtHV6wfNbNzsWkQdXibrQM4ULYUWfL4eQATW4tSzR/tS0u7vo7P5FKAV2k2/6+s\n",
       "DFIHeZnHIYRo/5bGtkoYMiqtuzrWB2hrJ+mQMByQMwD3ynaB/Pj4Jzzw7iD4+R44TO4PPHDX3rz9\n",
       "26Gtpj1wdeBr2cBAsao7HaVCAsXHAAfK/jTAu9MQPx1CZEUDjGkbc2iruRBi69KJjBV7MB8DHCj7\n",
       "yzHw/kTw0wB2s7GPj7MQ3eyXdvxqZKtEJ+5VmrSzHrd4B78CLeqzlQCHyoaZh1/LQuwfinsYwGa+\n",
       "AVnvoVqL1SMMTOmkrUYA96WZVSanln7LEK/mFa/JGCI9g2f1bJ6nAGyzPwbw0htHkdhijAjqdNpW\n",
       "iZG4PsIktpRf47dT1jlVSmcGyuq+Yxod/wLAB0xHexbA9dLf2VU+skhYbMJWY4BlcZEh5pQNVzmt\n",
       "Xi/1kMk8hf9jANeAza7yIWqKibGtxpN5iLoJwKGy4QxjsfaVe7uNTZLTKZnM/hbAzd4Ls6t8zLvd\n",
       "BhZbZStzaKt/3ryRsoVLH8/KP4+YD7x5l4GHA9ymqqJVPuNeHE9bbJWt2FVrF+eU/SQJcb8QgqYa\n",
       "zGV/BGBvBs08/SotSNpi62xVkGsMMaNsHqwSyVcvS8aq5DtVnoumNfqxgpl9wsyuMNao2zWQkOlj\n",
       "APykEKLZL4e83NRg4c4gCtgzvWlf6VNE8fQxAH4SwHX66O2Akwt3PvBSx5c+I7hQ6WMA/KxOnBVv\n",
       "B5xeuBO4qV2bDSh9r/b5zAED4LtVztV7fqFamAV6ze6qZzlgmT4GwA8DOLNq9aCN3JVdlOZGreOD\n",
       "X+2VB8DPBZivzxm2+0B83I+z/jaNwyxPHgPg5wG8yW9JdlnpQyVc01RsejMA4EdX7vV1pY90wHn6\n",
       "GAD/OsCQ221sAoAhm5z33TY2AcAQhBAAGAADYAAMgAEwAAbAABgCgAEwAAbAABgAA2AIAAbAEAAM\n",
       "gAEwAAbAABgAQ+4EcA6AATA8MACGAGAA/DcAPvJ2qjQAGAB/UXIADIAB8FssAAbATwZYlhQAA+Av\n",
       "Ci8P3aawKAUABsBfFFPaI2/nSgKAAfAXhZaHbpFFSgeAAfAXRZTFjW8HgCGLLvPQd74pJQAGwF+U\n",
       "4ti0QX5An3C0NYoGwF+Qk8x+tshjx379AVm50XeKCg2AvxBMnmP2s0WVx6pZlv5wS3ICgC8AmJMn\n",
       "AFwe/MU7u38+5fhLcRYAXwBwZh/Ary8P/tyS2z+WPLak4AD4AoAFv7/W+dFZA7o/qzG2pC8A8AUA\n",
       "++L+WtOjh34PeCISH5uVHgB/H+BDzH6yuKMnoLP9aYjGkoySJhZxTYjOBQD+CsDHm/1ksYd/tdzu\n",
       "TkM0lhQZr6NzUx7WnwDAl5j9XGHl4Z/MFbt7cbUlNc9IbT3XBSQkB8BfAPgEs58r/Pi5N/nuW9aW\n",
       "rN4Lqh4iVN044fvjf1n5sVwK8H1lndn/Sghc//jyAIDrB4HVWb5umOWAaAwe+BKznyvqBMOSvWN7\n",
       "rSWbVxktj+sPA+BLzH6q6DNm7+Z7M3OtJYtataLITN3LPCIjCYAvMfupQk/ZxUGpQ1xBZUmtRNY8\n",
       "DUeMCQHgS8x+qkh1zmORH2BJ5gTl3lF9VDoHAF9i9nMjiHNi9J2ByXhI6JB5UQD4ErOfm4M452PP\n",
       "Yt99x5YsPAC+AODi5l04dtYCTLbPs48syWQGgL8PMJM315iW/rQ7syMtSQ0AvgBgam6usTovxLF7\n",
       "XDAd5pGPeVHcYrjrzv7sHLOf6YDZaffmpc8gkHMj4DPfEKSAhSHnpiDORcwamBhyouSKnXp/ffL9\n",
       "IX9c7NkzPXNEwZATI+DP+P1/2LRN2GVI+aUAAAAASUVORK5CYII=\n",
       "\" style=\"display:inline;vertical-align:middle;\" /></a></span><br>"
      ],
      "text/plain": [
       "kickbacks_with_QPE1: {t in NaturalPos} |- Pr(QCIRCUIT(([INPUT]{state:|+〉}, [INPUT]{state:|+〉}, ..(t - 3) ×.., [INPUT]{state:|+〉},[MULTI_QUBIT_ELEM]{element:[INPUT]{state:|u>, part:1}, targets:{t + 1 .. t + s}}, [MULTI_QUBIT_ELEM]{element:[INPUT]{state:|u>, part:2}, targets:{t + 1 .. t + s}}, ..., [MULTI_QUBIT_ELEM]{element:[INPUT]{state:|u>, part:s}, targets:{t + 1 .. t + s}}), ([MULTI_QUBIT_ELEM]{element:[GATE]{operation:QPE1(U, t), part:1}, targets:{1 .. t + s}}, [MULTI_QUBIT_ELEM]{element:[GATE]{operation:QPE1(U, t), part:2}, targets:{1 .. t + s}}, ..., [MULTI_QUBIT_ELEM]{element:[GATE]{operation:QPE1(U, t), part:t}, targets:{1 .. t + s}},[MULTI_QUBIT_ELEM]{element:[GATE]{operation:QPE1(U, t), part:(t + 1)}, targets:{1 .. t + s}}, [MULTI_QUBIT_ELEM]{element:[GATE]{operation:QPE1(U, t), part:(t + 2)}, targets:{1 .. t + s}}, ..., [MULTI_QUBIT_ELEM]{element:[GATE]{operation:QPE1(U, t), part:(t + s)}, targets:{1 .. t + s}}), ([OUTPUT]{state:((1 / sqrt(2)) * (|0〉 + (e^{2 * pi * i * (2^{t - 1} * phase)} * |1〉)))}, [OUTPUT]{state:((1 / sqrt(2)) * (|0〉 + (e^{2 * pi * i * (2^{t - 2} * phase)} * |1〉)))}, ..., [OUTPUT]{state:((1 / sqrt(2)) * (|0〉 + (e^{2 * pi * i * (2^{0} * phase)} * |1〉)))},[MULTI_QUBIT_ELEM]{element:[OUTPUT]{state:|u>, part:1}, targets:{t + 1 .. t + s}}, [MULTI_QUBIT_ELEM]{element:[OUTPUT]{state:|u>, part:2}, targets:{t + 1 .. t + s}}, ..., [MULTI_QUBIT_ELEM]{element:[OUTPUT]{state:|u>, part:s}, targets:{t + 1 .. t + s}}))) = 1"
      ]
     },
     "execution_count": 47,
     "metadata": {},
     "output_type": "execute_result"
    }
   ],
   "source": [
    "kickbacks_with_QPE1 = QPE1_inst.sub_left_side_into(\n",
    "    kickbacks.inner_expr().lhs.operand)"
   ]
  },
  {
   "cell_type": "code",
   "execution_count": 48,
   "metadata": {},
   "outputs": [],
   "source": [
    "# kickbacks_with_QPE1.lhs.operand.output_consolidation()"
   ]
  },
  {
   "cell_type": "code",
   "execution_count": null,
   "metadata": {},
   "outputs": [],
   "source": []
  },
  {
   "cell_type": "code",
   "execution_count": null,
   "metadata": {},
   "outputs": [],
   "source": []
  },
  {
   "cell_type": "code",
   "execution_count": null,
   "metadata": {},
   "outputs": [],
   "source": []
  }
 ],
 "metadata": {
  "kernelspec": {
   "display_name": "Python 3",
   "language": "python",
   "name": "python3"
  },
  "language_info": {
   "codemirror_mode": {
    "name": "ipython",
    "version": 3
   },
   "file_extension": ".py",
   "mimetype": "text/x-python",
   "name": "python",
   "nbconvert_exporter": "python",
   "pygments_lexer": "ipython3",
   "version": "3.7.3"
  }
 },
 "nbformat": 4,
 "nbformat_minor": 1
}
