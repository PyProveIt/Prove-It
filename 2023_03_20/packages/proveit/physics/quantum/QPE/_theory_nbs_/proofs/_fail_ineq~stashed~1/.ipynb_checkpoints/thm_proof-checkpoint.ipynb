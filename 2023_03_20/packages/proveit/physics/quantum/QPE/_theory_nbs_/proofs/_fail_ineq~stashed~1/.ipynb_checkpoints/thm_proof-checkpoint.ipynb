{
 "cells": [
  {
   "cell_type": "markdown",
   "metadata": {},
   "source": [
    "Proof of <a class=\"ProveItLink\" href=\"../../../../../../_theory_nbs_/theory.ipynb\">proveit</a>.<a class=\"ProveItLink\" href=\"../../../../../_theory_nbs_/theory.ipynb\">physics</a>.<a class=\"ProveItLink\" href=\"../../../../_theory_nbs_/theory.ipynb\">quantum</a>.<a class=\"ProveItLink\" href=\"../../theory.ipynb\">QPE</a>.<a class=\"ProveItLink\" href=\"../../theorems.ipynb#_fail_ineq\">_fail_ineq</a> theorem\n",
    "========"
   ]
  },
  {
   "cell_type": "code",
   "execution_count": 1,
   "metadata": {},
   "outputs": [],
   "source": [
    "import proveit\n",
    "theory = proveit.Theory() # the theorem's theory\n",
    "from proveit import a, b, e, f, i, l, x, defaults, Lambda\n",
    "from proveit.logic import Equals, InSet, NotEquals\n",
    "from proveit.numbers import (zero, one, two, four, Add, Exp, frac, greater,\n",
    "                             greater_eq,Less, Mult, NaturalPos, Neg, Real, subtract)\n",
    "from proveit.numbers.functions import MonDecFuncs\n",
    "# import common expressions\n",
    "from proveit.physics.quantum.QPE import (_alpha_l, _alpha_l_sqrd, _t, _delta,\n",
    "    _two_pow_t, _full_domain, _neg_domain, _pos_domain,\n",
    "    _diff_l_scaled_delta)\n",
    "# import axioms\n",
    "from proveit.physics.quantum.QPE import _t_in_natural_pos, _mod_add_def\n",
    "# import theorems\n",
    "from proveit.physics.quantum.QPE import (\n",
    "    _pos_domain_in_full_domain_sans_zero, _neg_domain_in_full_domain_sans_zero,\n",
    "    _pos_domain_within_integer, _neg_domain_within_integer,\n",
    "    _two_pow_t_minus_one_is_nat_pos, _phase_is_real, _all_alpha_l_is_complex, \n",
    "    _delta_is_real, _scaled_delta_in_interval,\n",
    "    _scaled_delta_not_eq_nonzeroInt, _alpha_l_sqrd_ineq, _fail_ineq_lemma)\n",
    "from proveit.physics.quantum.QPE.phase_est_ops import Psuccess, Pfail, ModAdd"
   ]
  },
  {
   "cell_type": "code",
   "execution_count": 2,
   "metadata": {},
   "outputs": [
    {
     "data": {
      "text/html": [
       "Under these <a href=\"presumptions.txt\">presumptions</a>, we begin our proof of<br><strong id=\"_fail_ineq\">_fail_ineq:</strong> <a class=\"ProveItLink\" href=\"../../../__pv_it/theorems/2988b6731174711d50870cbd7dba60ef6dabef330/expr.ipynb\"><img src=\"data:image/png;base64,iVBORw0KGgoAAAANSUhEUgAAAXEAAAAyBAMAAABYEvbhAAAAMFBMVEX///+IiIgiIiIQEBB2dnbu\n",
       "7u5ERETMzMzc3NwyMjK6urpmZmaYmJiqqqpUVFQAAAB6qHgnAAAAAXRSTlMAQObYZgAAAAlwSFlz\n",
       "AAAOxAAADsQBlSsOGwAABZlJREFUaN69ml1oHEUcwP97d3t7l9xXagti1UtCS5C2GlRK8UGvpfgg\n",
       "aVzkCJRAkraY1qLk2hSKFJuzKakQMBFM9cGPs/jik2mxrXoRLkLB0kJDrQ+ikMO24oM0DXht82HP\n",
       "mZ3Zmf206e3cDmTvZmfvv7+d+X/NfwMgtu2F+rcutQ5CEyUfyJX1dRB6wxfCq+LBY+MChfV8V3EZ\n",
       "CZWFkw/nRUqT3Mhho3DyFvCH/GfRNhpr94k8OimYPJjxibzhnmDytOoTOXwmmPxp8It8VuwcKXd9\n",
       "I+9NiQ2g7b6Rh5vFGmjZN/KYWBMdKvlGLi+LdS1aBJVac/ahVW3aR4T0VhhpQ/8zsS8KJd9D7ldw\n",
       "GntFOz5BOl+szGyuL/ztOrgbQNPN34WQb2bk0sCdW2+ctZHHaaSSvKvVqwDf48+PRYDLS3zOkyhp\n",
       "3KNayXfqvQk+EK/t3lcKcBSrX58Qdz7PyYeQv51NWcmn9N4l7iQ21BZT0A2i6JehGRHk8X85eRpZ\n",
       "aTpjJWf+PqjjSutqDIa9kxBDOhcVkyne5eQD+C9nIY+zfUeUKnq25rQ4iezz2dbW58W433uc/A5T\n",
       "HgN5I16EbNNZtqnprn2HkEQKfh7gdSHkoQojR9SRbTNWcjzTDW1wSN/19XzqIV4jCe9DxBS1Yx2O\n",
       "l0b0ZH7EpJmHuO9r5OTS/e0dBfjyNO7/CF23CXkAPctYCR5DeqNpfMIDeQAlLmHVHDsGkX/bfsuE\n",
       "l+28CTHqKZSrqvE0dPLIcZuRh7WvlRP4eAAilDyIRgaaVuM1IZeOMm1JVlfeCDl69niKGeiBP/cD\n",
       "/IpmDxpNudgknIFVP+hPqxpP48vt5Nidg6y7EtlAfp/sadq9Wigmh/FpfbnP4yNCSRYiplR7EcZy\n",
       "AbCR49MGcoO2DGFbPPJP6filgjzAyLG2ELONN3v1ilhbYAeOaNnpEjwOlDymmskvIEQU/0aLxWLB\n",
       "QH7BTB7iviVdIFN9A7bAGCMPI4Vbh7DRDfq8RiJsoTCMDFRug7JMxF3Ubm/J3LfBbzHbnOPTcIp7\n",
       "Re7PP6dK8h68Cb2MHPvCiyB/S/0jjV8fOYG5ZZN5014ggSJGony81KCFB0WTdFC11slGf6JfH9lh\n",
       "Kp9F19gj0bnqLkIubW0xkCtoOqQOrJuBwgNCg1tQZ1lmUnd1walfIHayv/8tOHoTu0CLhx+xPEg/\n",
       "avvI6fgHbPYWzVkuAt4Iu1RODm36pcfsTrd40hByr7mVGVmW2auvWhItg0I6T2J3hdbZ5MsjeUcX\n",
       "j04Pc8nLVnK5Ai0pAzlLtKZsskYgtMizznHXMuMEz7jojnQGMjSUIpOL7D2MA4ycgSwRe/iIkx1p\n",
       "p7mFwpKZvGcpv/by22vmJruXKHmYPj/NTV9rxY0sxF8Az3EvVXLd3OkPP6vrk3x6WoWRHCUPVqvY\n",
       "NytbYFC710vU/VuadtpA/tSD9kTUB7AnMMpSYY6bn/u2VM8y0yYR8sv9+00oK2mGy68Tcsd96Ava\n",
       "x7uk96j9gj8A5nIOMq3kepY553DBqZrJr3grPD3Dvn2Dp3HrWtWBXC+db3aqkz5U+UgxZE1DnjYo\n",
       "hqz4EzyBOSXjQE7fLUTmnUS88zD3OyGsUhTgv96E0JZBKjiQkyxTdKWo0VN17pxmagv4iIwiPN9E\n",
       "Nt3c/2jkNMtMiK3ONSx62QuSKd9AyZNlZwulWWZSbEWU3LbGdg14tNvkiEa0pVmEM7AXQWqXh8xR\n",
       "Yr9GWU8AmeeMk4WSkCC4Uu/lbcuxYvEM63RqPqQ771BmJFmm8LctsUrtzrxaXWCdg+hv9eWUU5mR\n",
       "ZJnhsmBy+FCMmEDOfW2049fC3/wP5sWsnftLwyndhAU3qU+MnH1uAyTLrMPbc1H/sdDlNkCyzK/E\n",
       "g0NUSG0VIm6BRssylYk6kPvynzk7Nfv8D8s4oTxAUA80AAAAAElFTkSuQmCC\n",
       "\" style=\"display:inline;vertical-align:middle;\" /></a><br>(see <a class=\"ProveItLink\" href=\"../../../__pv_it/theorems/88ba92c59cd6b9fc0b6b497dfd96ac030ad9e1b90/dependencies.ipynb\">dependencies</a>)<br>"
      ],
      "text/plain": [
       "_fail_ineq: forall_{e in {2 .. 2^{t - 1} - 2}} ([Pfail](e) <= (1 / (2 * (e - 1))))"
      ]
     },
     "execution_count": 2,
     "metadata": {},
     "output_type": "execute_result"
    }
   ],
   "source": [
    "%proving _fail_ineq"
   ]
  },
  {
   "cell_type": "code",
   "execution_count": 3,
   "metadata": {},
   "outputs": [
    {
     "data": {
      "text/html": [
       "<strong id=\"defaults.assumptions\">defaults.assumptions:</strong> <a class=\"ProveItLink\" href=\"../../../__pv_it/_proof__fail_ineq/9f7771dfd6c172a24c648f00ce083eeb58a70f0d0/expr.ipynb\"><img src=\"data:image/png;base64,iVBORw0KGgoAAAANSUhEUgAAALoAAAAaBAMAAADyPFssAAAAMFBMVEX///9UVFQiIiKIiIjMzMx2\n",
       "dnYQEBDc3NxEREQyMjLu7u5mZmaqqqq6urqYmJgAAAB66f/FAAAAAXRSTlMAQObYZgAAAAlwSFlz\n",
       "AAAOxAAADsQBlSsOGwAAAnJJREFUSMe1Vk1oE1EQ/tLdZM3mFy9GCDTuRWsOiRYF9RIQzw3Ugwri\n",
       "4sGrUYhW6qFIwZ4k6kEPiiuIIB5aPFUXpAgevBWPBbEePShCC8VgXN+8t7uu3bcb26VzeHlk5vsy\n",
       "mflmdoHtWLbjXvSvw0K/bZ193rucPBwdtEBHfmHr7B/827vooCk6Xkhd+qcY8u7Y6Xj2m1S5YpMd\n",
       "d6T+YytxuT8akrtasdh5ENBMmTvfZx77YSvsmX49C/Sj2QVqV5ldDwG5tow9XaO6pQchhzaDC8sF\n",
       "E+ocs9sSdoEiPOYtlJaj2PcAl0KOVAcZUyk/i8xdoDh7dhUTVsCl3DLGfPbLFkY7m8GZPlIbuea5\n",
       "SHaB4uy5GQQFW7hvBXLfDYyGCp+qIbWuvvW+7z6Z3BQgUJxdMbGX5Dd5gtPesIKVYdaQVW3kx5Bp\n",
       "aLj4Qh9z7ONjS+W9feAH5HpcWGsy8EQznpxQCilRXcddpoPfUHhve37EtVWeZVmG3jckdUJpv0hf\n",
       "A9SZONfGz/MfvWgYxgG6XXnM4xZlYNar8GTfM8haf1FP2cDpA8q95Kao+zh1kTpQlKb+ZUjqAnWW\n",
       "FUPjlSl5haz5IXzW3kPrhKe4jeux7BxFsw51AxVWKNbSJXKM/zNNrNOKFQKfAo7H9pSj0qbQzFH2\n",
       "X3p4yZPMLgXZr9r2K7HNWbf1n+4mqNt2LY5doLgiiyY+s/SOfBe10SsrAfaG4wjKEXoC1F1BOI7T\n",
       "ixU7R4lZLSMT3DOFM4FNkMS8PRO9IxOzsx2pSve7YiZj57NO2q3KvHzWEthzmvX9kc/V6WoS8m7V\n",
       "e67m29gZm9ru+8x/2RvgD1YzjoEfKmH3AAAAAElFTkSuQmCC\n",
       "\" style=\"display:inline;vertical-align:middle;\" /></a><br>"
      ],
      "text/plain": [
       "defaults.assumptions: (e in {2 .. 2^{t - 1} - 2})"
      ]
     },
     "execution_count": 3,
     "metadata": {},
     "output_type": "execute_result"
    }
   ],
   "source": [
    "defaults.assumptions = _fail_ineq.conditions"
   ]
  },
  {
   "cell_type": "code",
   "execution_count": 4,
   "metadata": {},
   "outputs": [
    {
     "data": {
      "text/html": [
       "<strong id=\"_scaled_delta\">_scaled_delta:</strong> <a class=\"ProveItLink\" href=\"../../../__pv_it/common/de61a41c2821d7fdb1c272bcbdcc8bf13f2450a80/expr.ipynb\"><img src=\"data:image/png;base64,iVBORw0KGgoAAAANSUhEUgAAACoAAAATBAMAAAAUmIINAAAAMFBMVEX///+qqqqYmJiIiIgiIiLu\n",
       "7u4QEBBUVFS6urp2dnbMzMxEREQyMjJmZmbc3NwAAADzFso2AAAAAXRSTlMAQObYZgAAAAlwSFlz\n",
       "AAAOxAAADsQBlSsOGwAAAMVJREFUGNNjYACDcwxYAOsHbKKMB7AI8k05uQCLMI8AEuftsX0MfHdP\n",
       "L2DgD0ASncBRyvCagfMHQxuyxlIgrmNgSGMwZ0Uy1xyI8wMY6h9c5kQyIh5oSQkDQ/2CtVpIJnB/\n",
       "BVP+qG4v/A2iuD6jiOow1IOMYylA8dE/BnmQ1bfhofEHSLBvYFgPFGVCKPUFYn4FhvVASpKB7wGS\n",
       "CfELgCYzcE1gYEb2L/8ChoMMDE/u3r2CbBunASPQSP////+guGyyJQMDAJtzLxL3qxHNAAAAAElF\n",
       "TkSuQmCC\n",
       "\" style=\"display:inline;vertical-align:middle;\" /></a><br>"
      ],
      "text/plain": [
       "_scaled_delta: 2^{t} * delta"
      ]
     },
     "execution_count": 4,
     "metadata": {},
     "output_type": "execute_result"
    }
   ],
   "source": [
    "# useful to name this sub-expression\n",
    "_scaled_delta = Mult(_two_pow_t, _delta)"
   ]
  },
  {
   "cell_type": "code",
   "execution_count": 5,
   "metadata": {},
   "outputs": [
    {
     "data": {
      "text/html": [
       "<span style=\"font-size:20px;\"> <a class=\"ProveItLink\" href=\"../_fail_ineq_lemma/thm_proof.ipynb\" style=\"text-decoration: none\">&nbsp;&#x22A2;&nbsp;&nbsp;</a><a class=\"ProveItLink\" href=\"../../../__pv_it/theorems/4ef3074bf6a43498547d1b62b30b5aa61e6523af0/expr.ipynb\"><img src=\"data:image/png;base64,iVBORw0KGgoAAAANSUhEUgAAA18AAABMBAMAAABgwhDyAAAAMFBMVEX///+IiIgiIiIQEBB2dnbu\n",
       "7u5ERETMzMzc3NwyMjK6urpmZmaYmJiqqqpUVFQAAAB6qHgnAAAAAXRSTlMAQObYZgAAAAlwSFlz\n",
       "AAAOxAAADsQBlSsOGwAAEBtJREFUeNrFXXtsHMUZnzvf3vvh8JAQDdi4QZEAYbcQhAqqLxGt1CqQ\n",
       "K0SoNCg2oLopgvpSUFGVgo+AAmra2oVCoY/YFCr1jwqbCMLDaX20StsoILvQSkWt8LVA1KptbMd2\n",
       "/Ijt7c4+vpmdnV3v3X17HWmd7767b+c389uZ75vXhhDclBgKwprpf0QalfYXAiuma4pfKgoMhiee\n",
       "2tOvA7EGfarSMMIilcCK6Z5ucggAIxJI0TNbgrBm+ncLDSOMXB9UMT1SU1kUGIzrg8jwlnIQ1qBX\n",
       "rm8cX2S4FFAxPVJyURQYDA88tad/BWIN+uyA47u/CJ9DaGXJdvsBetDyOl9GyfSkQwAYHnhqTrHl\n",
       "IKyZvs/h69M2ze0aoSNoEcCqH6Bvmv8+eClKpv0TogAw3PHUEeUNBGHN9M86vtsN4QityA2thLyA\n",
       "Vpo7fQANXW5VLA5h0VZRYDDuxCdscigIa9BnnE3wDSip/gOtlAm0uKSv2RuocsOpAoF6xSEsNiMK\n",
       "DIYrntrTE4FYgz7R6vhO0yjbN/KERSawShPt8AaUIqlWZYDER0dH38AijNzlEACGK576Hw9Ua8mz\n",
       "xvyM1jndXMzyhGXQnFhm1RtQbii+kBkpo7YwMjkhCgAjg+7EsvNBWDP9lKO3S2qR06n4dp6wJF4w\n",
       "teQNKF2IL8SPmsH23qtxWnZuQBQYjCVswrq6g7AGvXKG036jR0uljDb8v+7tAjnSc1dPT1knLIZH\n",
       "2FRxHaCRVnSvkl0QBQbDBU/taXwiCGvQp51dAmVn0R504HWJZDi/DtCv40+8JOdEgcFwwVN76i0E\n",
       "YQ36qKTP1Bi6l0R4wkJ4sVSuwxsQ0mDZnmYdAsDIIUcdyukgrJm+S9IB7SFk18bzTcLin5trJlG8\n",
       "GZzogjegg+RxfMJ6i6IAMOR4ak/pORRroZ9hdx2X9Agv2MZhNN3qN8P1+7PQnCfQ+FceeKXaSHj9\n",
       "WLIlLwoAIzSHS1h2GcFa+fdgweWuU5KBdarEzXTo6TWfDVrMR1a9S57FbFLV6erKuPv19ePovgFR\n",
       "ABgx5DCxaRrFuqXgctdOmdlnxOff92RLy/oeVy0gFzO0PmG5eVFgMFTcIKerFcVaqEjQy52css7n\n",
       "uggbHEIupg/CEsuiwGAMDqESNtmNYi1UJOgzZ3A7BB+EjTUjF9MHYakZUWAwxnBnE8fyKNZCRYI+\n",
       "Nddwwsa7kYvpg7D0GVFgMMa7UWtgcALFWqhI0CdWG05YXwdyMX0QFpsVBQajD3cg1llEsRYqEvRN\n",
       "Cw0nrGsauZg+CFNUUWAwuqZRa6C+GAashYoEfU5S2EGVpRl8wnILnsVMcLmrzUiEEbUoCgAjh/rM\n",
       "xlUca3tFMn2/5PGaNAulfPvizll8wsKrnsXMqGYFfvG5D9QOLMLaJ0QBYIRRvULmNI61vSKZflIS\n",
       "TmdVUKbbJ9AJS8x4F3OKyb9ZxSJssFkUAEZiBpOw0BKOtb0iOb1sy0f7GouHu9EJy855FzOsVkA+\n",
       "gkXYVF4UAEYWNVCOGGFoqE3ilM/ZbHQnxqeSu7WWdpRc9DJC+tQyqXJSSp6PfEy05gVUC+TUFfbb\n",
       "kp86WvQxvqmIAsCQ4ak9ZY27RaSj8c/rfy8yPjznbk3Iqc5DZZmeTFVkj6zKqiBdFVwhH3n9LnkA\n",
       "1Vupymgq+6iiD5b+s/6DNCAKAIMKei38DYOw6FkgLNR75tRXX3EQljHbeKjsau2h75WuTPaeJsGl\n",
       "yOl1gEbVVvRMd7SKAsCggr5P7BmMjBKMMH1Dwl0FkbDbrE9PcT78GZu1212pD5YSdos6EhxhoVkv\n",
       "QDQ67TyLnmlLhygADCo8RF0LyoxHeI4RRvc3TTaLhB21Pp1g3djlBZu1211pfCGdEkqqq8ERlmYh\n",
       "/C+dgGgaViewMx2fFgWAQQW67xJnK18TR1hLkVuAA8JgqNJkNb7QpoLd2u2udIYhL+9BZguNIOyP\n",
       "RAo0om5pMGFpzZ8kUDJqmmGE9RJuidsiLANxecJ0YjsvEa3d7koJk88lJNSBwAjLyAizAx1E33s2\n",
       "OS0KAEMXPtnWdjUOYSuMsDPivlBKWIo2kZ0bXoHDabuucFi73ZUSJg/DlM65xhK2IvjQfIMJe5UQ\n",
       "nM0/OUaYRlZ824RIGG1Xyc3kfq1Z641i90+d1m53pVNrLnHzpFoMirCkhDABKExPoaXhaVEAGLrw\n",
       "PRK3DXDS26W3iVvB2AGby7ifBe+5VRbWr92wfYi88JI+Z0NunTYIC2sU9pfJhVopdW+WtRHmEjsw\n",
       "vZt7T6lBnYfUBsYFJ2EC0DFsH9o3LwoAQxeiBftQ9z7zWAaXdt70EUmbHiT2ToFXs8O4JH0MCIvq\n",
       "z8b8Y/TvXhI3CWvSvundcB5tgcazc5DrEk1ros9806+7Bmx6Qt5yq5h21xm2nFpzMrrbt4z7HG5r\n",
       "u6qt7UoBkDU91Yyb6e1WTwKCBcMQMs0Qc+w9eTch7xnHMngII+QwOedXFsACr6Y/t4AuA2H6vnDF\n",
       "CgoVjjBjmiDZ4Qg6cuKWq/CIoFeHXGjpb21oCxOAxrFH7uu1MDJgHSJMvUr/vmccy+BvsUz6i2Hi\n",
       "IIyqecJYl9hHHfG+ufKjJ4aUXiCMdolGY8i0OsL62rtEcm7p/9klhq5tNGE30nmHnW+WyUZiEkaP\n",
       "ZfC3OKYxc5vWg42Ojg5xhB1zJaxlyGhYH5JrST8QFtX6jk0aW1oG3Y6Bc+2EJbG9PvMIMVnQIQAd\n",
       "xgl5dP9i8DQtCgDDEB7RYg5lM6koRi0e12td6GW2kb+mHS2MqsnPZGH9oNkTPk7uIV1AGA3mjxPl\n",
       "NTPAN6OsH9YZ1pM+7LkG5hGS64f1MaSJFt2/+IoSSVZ7RLKVR8tJvUJiegUK25hjl5KDfzDFc2/k\n",
       "1SRxvpOwI+odBmGhrZdwhMW0aghtpx1weMiDmGrHYZ/A7giZR/BB2C1IO890/+KPMB3F0T+T9NM9\n",
       "PfeSh2jLFI9lHBD4o2ez9hjqzPfBuXEDZ7OFXUHuKDDCyGbrp/slc4asHvbJ9e1ywhLok7/MI8gI\n",
       "C9sJ+zFSpseqIyyn+e2Y0U9dTBzHMuIj8ZJ0aKapH2E1NyMSpsyTS5o5wmDO96ik3llsfqVcPyh/\n",
       "lnsCCDYsj5CZdU7+2pfpo91omW6zJgI6RAFgMDzRCZI3Jzzeg2MZSp7sNBrYA/tkYyBdzYKO6Jyd\n",
       "sN1nSx9765vnT43sOmsSZp0EMlcHbm6jabPNmoZdNsKYvlc6B5Ri50Ey0gG/h+4Zp9r4yvIIadl6\n",
       "mG0m7DCrmImaMi2ZFzvYMt4qCgCD4VFeerNADhRNwsxjGbFryX36vTpV6YYoXc0Iy561E0bEqSli\n",
       "hjXSI1xZWFj61iG5fkra9/2W3ett2fcXuesUfhvWwSf3JLUmTC/mEWTbVLL8CliaxfTpiaozjb9+\n",
       "TYmuvj9nczuwdwUEgCHgUT7bczfPgK/Efm5uOIhI93R8Sv/nYePTBbKWAivv+UNy/VjFO6bPyDaa\n",
       "ZfIk0l506OKjTxe51QOaa/IjfVyzkfcIkTNeQO0x/bvVZxohLxbo6ju9mNuBvSsgAAwZHi5Or5Kw\n",
       "SF2HFcA6VDok1cs34cAbfogyJmuBdJF73Kk7QCLL8W0/4CqVxlp0bVC72EG91FkPoMT2NqFdZ6vP\n",
       "NEsb1VPGxdwOlAMEgCHDQxJVxakxNoGbrmtlCKy/Qw5J9WR8wCum/+6UdNKehjevO3X/JOQqkuAH\n",
       "cDTWSo/oFzuoF53xAMrH9PH3+Ul7v5mGKmYkdoJ3O73NogAwotJZ0werqefHuN5pth7CwDpvJ4zd\n",
       "dVjS5SWWntVTm1Ze6ZwetbnEqesskKlSjo+kumhFbjEvuP2qB1AauBq5P/FxVeV34/jNVKG3p6vv\n",
       "TTwSOGzhPAaCex4EZ6t2umQnzHur9hg31S0beVOPEV9w6v5BX3rxvC34oxN3PzEvGJ4ueBYzxc+0\n",
       "l2vIlL6PgK4SJvghJhy2cB4DQT4PopYQrLW45JD8rrnF6m9K58DS004dHYeTixXWiWb+S13TTYRf\n",
       "L5Kfv1i/mL4zfZ+eDaQTdrbXwzoPyEpO0aKk9iEE6xdPnZr9UHrXcA1n3umjK74Y0nicYzPkpQjr\n",
       "iY7r70U6bs2lWo26o5Zi+s00PUBfgkRX39Oce47PigKD0Y97PmyqjGP9abk+u1L9TemKTlOzU6f9\n",
       "rZB9v2e1tEgmi0Zo/i4ftQ/UUky/mfaXMgvGaIQfkSSXRIHBGMbdb9QygmN9Rq4P1bBnk66Z9tEu\n",
       "THlCn1Ypmjru7IJC60VrEH3ad33EuCDvfC3F9JGpvpx+ksQWjNX3GNeBSt7K4Xx1B06qj3+wPqL+\n",
       "XapPLtVG2LkSHUkzr3E5dQ5lnajnzQsa00QtxfSRqb6cvqITRVffk1wLy66KAoMxhbuSVN+BTjdr\n",
       "0CtqbV3i1xRJ7/QnYpvP7irqvusd8wJ3VailmD4zVRZ036W/0IwbE4TnRYHBaMfd7xNeDMKa6dvd\n",
       "wjOXHV3EWOReiTh1sTwJ8b/NFQmdAfideVlVOusOSJmSDOOPV5Xpgj6KpqvvaS5E6eoQBYChzKLy\n",
       "RSIrQVgz/Y6ypKJcdnSZdUfj5eUvCDfUdPtHRw/bdM30zYvkZfOyYv01D0DCnCt9ZvaeU1WmW8n7\n",
       "ZsDPrcCTyYooAIzMGi5hybUgrJl+uCKtKMeOLq7u6CL3CcFTU127qto94tbz6N/LzMvhRSSAXrZr\n",
       "9TbyTlWZRjbQH9HVd34F3umwJF4NKXUGYg164yVPQkVJdnRxdccWubm02XW2pdW47Bm6AAJi6f6l\n",
       "OjLdT+wr8J0u5Sb1vsxLksaKQViDPrVA7C2AJsmOLr7uTkhueMJ1iqJsXFbqq7gDUqbJEbpTokz3\n",
       "L9WT6VFiW4GPrYkCg+GCp47IPB+ENej1l6pCRcH3jh1dfN3J1kpdX4F5wLxg/DPhDgjWtej+pToy\n",
       "pavv/Pm80KooMBgt2PvDmjqCsGb6q/iKgkfSsaOLrzulWxLMdbsg2GNeVnrSAxDECXT/Uqqn55qe\n",
       "e2rKlBLJk5noEAUG40lkvkhoOQhrpqf7U6Gi+K1bfLdmrztrkduWHnbJqGRc8CjMeQAK/9xs6bmS\n",
       "GHRUlekFxL4C35cXBYARwz9XtRaINehzFa6iYAzm2NFlq7s6kutr+CmgnPXfKOn7l/AyhXfzgwAw\n",
       "svPohO0oBGEN+sg8V1GW33Hu6MKqu66KB9DUhVZfR/cvGZk+Ori13jyVNVFgMLoq6IR15YOwBr0y\n",
       "x1WUFfw6d3Qh1R1pKVUBtBvJqyyKAoPhiqeO7OaDsGb6Fl8tGKnuyHXVAEXaf9w0IgoMxnUEP20K\n",
       "xBr0YV8teCTwp28TCSq1OF5CCDBC8wHkN1kKwhr0mUXSuNRVDqiYXi5sRRQYDA88tadq36jmz5rp\n",
       "jzSQsJNBFdMrMO0WBcn/iomargjEGvThcsP4Sm4JrJju6fmCKACMZDBH7+8rBGEN+tiWhhEmOcOG\n",
       "VUz3dJlDABieeOp4LktBWDP9LxpG2JeCK6a7CxsSBQbDFP4HaRhzyj8W6DMAAAAASUVORK5CYII=\n",
       "\" style=\"display:inline;vertical-align:middle;\" /></a></span>"
      ],
      "text/plain": [
       "|- forall_{e in {2 .. 2^{t - 1} - 2}} ([Pfail](e) <= ((1 / 4) * ((Sum_{l=-2^{t - 1} + 1}^{-(e + 1)} (1 / (l - (2^{t} * delta))^{2})) + (Sum_{l=e + 1}^{2^{t - 1}} (1 / (l - (2^{t} * delta))^{2})))))"
      ]
     },
     "execution_count": 5,
     "metadata": {},
     "output_type": "execute_result"
    }
   ],
   "source": [
    "_fail_ineq_lemma"
   ]
  },
  {
   "cell_type": "code",
   "execution_count": 6,
   "metadata": {},
   "outputs": [
    {
     "data": {
      "text/html": [
       "<strong id=\"fail_ineq_lemma_inst\">fail_ineq_lemma_inst:</strong> <span style=\"font-size:20px;\"><a class=\"ProveItLink\" href=\"../../../__pv_it/theorems/f67ffeb951aaff9cc5f02f3801926b572b231a930/expr.ipynb\"><img src=\"data:image/png;base64,iVBORw0KGgoAAAANSUhEUgAAAKwAAAAYBAMAAACVRAuIAAAAMFBMVEX///8QEBAyMjKqqqpUVFRE\n",
       "RESYmJjc3NzMzMwiIiK6urpmZmaIiIh2dnbu7u4AAAAMEBwRAAAAAXRSTlMAQObYZgAAAAlwSFlz\n",
       "AAAOxAAADsQBlSsOGwAAAe1JREFUSMdjYCAZMBVAGXxJDFQE72GMnpPUNNYIzrIkTSPfKjyStZNu\n",
       "4De2uACHzkPr8FmqTMC1HK4PsIoz/2NgYN+t2oApU70pgoHhH25jIbpYHbAayzuBgaGUgfcXhgR7\n",
       "AMP9BVwCDByhQBCOxViILpB+HMa6MzAIYkiwFDAwCvA4vMDpWoguVGN5ImdOghsr/4DBHyPoGf8x\n",
       "sHznPnAPp7EQXSjGcuk8QHKtJwODP0bgskxgYPnBsQ0mXqt/B00BRBfYWL47p8HmFT1ADgQgmI8t\n",
       "gDg/EEic86H6VzZwXADx1eEy3ArgdPIHm67+A/hNBeniEQDG7jcGngUgAQW4VGEC2F1Yk8kUAo4F\n",
       "6WL/DExkf87cAlsjOXPmzKkgVokWWMFWbLq4A7DkSc2ZINCA0PVEmYEf6ig+uAaOraBQZsPq2BQC\n",
       "joXourSAgR8WWIhUAc4ltgzsmHmb+QJDOV5jwbpAuZQTGF8GIJEzKNkBGI08mFm7l4HhHN4IA+vi\n",
       "BUYZmwLDa7CzmAyQja3cvXsnpHQFRiXfJ2jmnb179wR8xkJ0gRPY2TRIMPC5rkMydv7//xCzODcA\n",
       "idnQaP7//78C3kQL1oWaebmuImVeSgCeooYGxoJyCSWAG3tAgXIJJeBhAnbxamdKTK0F6gYAv0eE\n",
       "w3ELTC0AAAAASUVORK5CYII=\n",
       "\" style=\"display:inline;vertical-align:middle;\" /></a> <a class=\"ProveItLink\" href=\"../../../__pv_it/_proof__fail_ineq/16d92521aaa719b89c08032bb4c3cfb8926874660/proof.ipynb\" style=\"text-decoration: none\">&nbsp;&#x22A2;&nbsp;&nbsp;</a><a class=\"ProveItLink\" href=\"../../../__pv_it/theorems/e8f7ca299865b4193bccc6b40eaa2c39a9d2c56a0/expr.ipynb\"><img src=\"data:image/png;base64,iVBORw0KGgoAAAANSUhEUgAAAqoAAABMBAMAAABXKYjvAAAAMFBMVEX///+YmJjc3NyqqqoQEBDu\n",
       "7u5mZmYyMjJUVFRERES6urp2dnbMzMwiIiKIiIgAAAAs9KwDAAAAAXRSTlMAQObYZgAAAAlwSFlz\n",
       "AAAOxAAADsQBlSsOGwAADZ1JREFUeNrFXG1sHEcZntu7ve+vUkJRVeITSEUhCvYPoJUq5KvUVrSI\n",
       "+ooq2lKQ7Uh1SKvEV6BUgEoOBGoihM4tRcJSwRYKEv1DHKFC1JLaEqhS1aY+RBtQEivXQKRClfgc\n",
       "27FjX7zs7O7Nzr4zs7t3O2teyenr3XqfZ56dj3fmnR2EAtj3BNcT09AJ3ZR33e6GxGNPBaK70/Bl\n",
       "8ZrgxjcYJ3w74XYzJB6ZGoN+IvBDP1PhX4/eDZ1tsFhRfC80Hncy6G40fJl6p+DGg0XobIOlr4jv\n",
       "hcbjWAmiu9HwZcmq4MazjGPXmhK40JRWwiPiWxSPWzsd4C9kYCYnGPQjAR85LxgCshvQse1mR2W/\n",
       "Se+bpanaPyC6Q/PYaf33L+/KwFSWGXQxDX/2tGjArULH1pF07yP6z9uX9BYzI0vVVAN5EUIof7pT\n",
       "aCmqol8x6GIaviy6IbgxOA0dO2ogV4ym83n95ylZqma3kDsh9dXDFUTKLEfV+SZEF9PwZQnRS3mG\n",
       "cYjl9J9HdxZpVf8grQt4AbkTiqN4Q60iZWxs7HFZqqbKDPoLcl6TqM5w3ton9RpzDtVoVT8nTdXB\n",
       "AXdChWmlHR0pSq2r0WUGfTBQx1oXRKvJVejY9pJ+tbbbUVdfkqZqoepOKFJR2sqoFYS8/cUBKaBr\n",
       "DLqIhr9o9ZrgxvAEdHB9mdTteXS7HiaPfhbFJyfvnXzOVPUNaaom2x6EUKaBZFt9DqKLaPiyyLLg\n",
       "Rt8AdGzTJSyUnKOVvB4gvelBCJ2qyJ8HzEB0EQ1//fSq4MZUBTqO0So1gGZoVS/LK+GKByE5kT/o\n",
       "dsoM+kqAxw0LWpN6HTr0qygh9eDOiqXq7kOvIfS8vBJOzbkS0udVH5euaqrNoPNp+LM+q+pnwWAa\n",
       "2YQO3UhnHPEqLvOE33DUe9Be5M4oCA/lxbce6zYG9gTNbzLoiwEmNnUztH54H+gJkhvQoW0vPbcy\n",
       "gsiSPzgGhxfrcUdfwiOmaa3uyugDNLvGoM8HCAKGOi8LAMda0KEtU3FbGHCtFN6qFrj/S6zVeyF9\n",
       "gGoViF5Y7RmP9FYQmPS3/I634vF7kAImNroZACSBHpqG6ImN3icV1wTAgxPQkWM+ChjnTsGD8PAB\n",
       "Ot6E6PHeVwLimwLg8RnobJuqEe7EJAgPH6B9ExA9cq33tZVlAfChAehsm6pZbqQYhIcP0PkyRM/2\n",
       "HrDG2gLgoTnobJuqqsYdVudCBR1uQXQ+DX9zilUBMBkTNc5AdEizbUt6AZE25zZI94DuJ/BoM+ha\n",
       "z++xv8UHVjToOEYOC1D91PtDK/JVPc9p7BSP7tF9gOaWGfTzPfc5gw0+cPQ6dBwRuUbCnEiX2H5U\n",
       "PdTkBCvXA6D7Cee2GHQeDX+2WOUD59eg46xN63YUMSFd1TpnuKd5dI3uAzS5yaDrzqVznIctmE1F\n",
       "MX/lTSpnO6wyzgR45hp0nCOmVmRnr74s4yPRPl7j/N21AOg+QOPrDLruvMJ9mjlh+Jf52+951cJ6\n",
       "RPLHaz90vLp16Djfl2bzjHQjKsTh2ixnBk7z6BbdD2hmjUHXHazqf7RfHvlOhVE1alXpPGfrx9SI\n",
       "YGXsKnTA311H4dlsw4VQSOiZ6wy67hh1Vdc7dTej6kOdX6ns8m1Wd3BIoGriKnSc9qA2Ep6qi2UX\n",
       "QiGh51cYdN3BquIsZHSLUXW08+tHyI2PdVYozwvmgblN6DgtrS2Hp2ofWZ5KFxGPRwjoEY1B1x2s\n",
       "ar5NL78SVcmbj3V6h0svkxmLQNXYJnRgK12pbIOq0Sbi8pCPLlY11aJTBR1Vo6TvT5hvXj1pB2JD\n",
       "gpgstgUd2CK1amiqDvJU3QoXPaox6IOmqoUJsGnCUDWOq+Ojlx/r7H5VD1Cj1pBg82JsCTpwsj60\n",
       "ub2qLoWLLlZVV3T335nICtfQ9Dn0pl7L8QtWn6WnI5pA1cISdESz1hDsGEdVwEM6elpj0I+Zqi7+\n",
       "9NWbUfqPmEmkoU5ZquZ0FfuL6L86R6OHdaoqmPEVlqHDhM1aaDuw51c5qi6Hi54lqzcEXXewqlMG\n",
       "/JfxW8w2Ub+lakz/Z+ryB/q/WeMtKHQPcIP5rIKxAIRrshUMR3Yg4LCzVuF6kdazmdXkAZNgfGHh\n",
       "nS8tLNS4PBj0gKDqDZ0HPVC0nVeQtVnoQbJiSKlqTkzSZWa00qYBudNW1egkbQrC7E1/Y1vr6ka4\n",
       "6MK6msU9eHb8uHL8cfRIi6iKewDzxUYbTGTVew+A/l36P/YA0tGFquY3zCqanImVFFvVlM7srE5Q\n",
       "b0UTzCygd1XTbclaPnriJ53itDxVlYVOQLNktCLo88ZolWiZqiqlVFG1VcXx1E1I3WvFWNaMdS5g\n",
       "ZIXmBySrOoIOuMQAgIcsdAIqigHiU9eaZnf6waUmpWpWb/f54/jzhNw089Te49X7Zbf7DdQ/51dV\n",
       "aegEVBxZWYNUrpi6SKmKyMrrHs5ATlTNOhYsckvQgXMr6esbO1xVdfKQhr7Dt6rDldxlWlWyqDLK\n",
       "PtXOIuRqDtpb0AE2GcIodbIT4pfZ1RUnj0npoFGyZkXQB8tEVbW+Nz96yw8evqqOj1iqpqzhUjEG\n",
       "K3XBMKtaTJGu9pJD1dQmdMAcwN5lF+XdL7lc+yZ72bhFdu718dZXN73RXUATJQ/QCFlfJeh9Dbdc\n",
       "QGcXZIqDWu80pexNDlWTV6HjtA/bz7qRt1o5IL6mUtvQlH33lnCKwkhT7OrENou8XMBVT3Q30GHk\n",
       "AWrnxQi67pzk5a3eMYenT5u/XuAUnyRpMgmHqiSNE1/3CKuiZc79O/SW1WavKWPfnaPW0HRU9LsK\n",
       "TlHgH2VEscSa5aT4aB4CdAHorfte1GMe5AFq58UI+mzPO7vIX15wquqRDbS/R8QdDRsg6MJFWuy1\n",
       "XSizoZz8vr0wksQ15SnzZ9dbr1v1hvdImgcfXQCq93uz07v/8WfkDhonbYE8crznIbHPqjhK0alq\n",
       "ZA06/MDmE3Xe4lFcrwXxKnvtRwjdhRJUQ83XrNFU/xnSOsPwFGfRl+IhQBeAJksoVkbfQh6gKTIa\n",
       "EnQeDZ+LbuVOq3Cqml6BjiNCWHvasAWdFC8xF8MxRZO9NlRB9VKBWsZX8YwJpyhi9No+b6MaxUOA\n",
       "LgCNraLkFURvCOCCkm18MvbtdXYEfQio6r4jaJxa8eHFs7gX659jr/0Mf9h0lL6KP0zBC8AJejbC\n",
       "26hG8RCgC0CTDZRsp8teoGQbn4x9ewUzs640gapIK0GnC3sC9y2ca3jagd5Xbba3472+eEqdodF5\n",
       "G+a8eYhBc6187WvIHdTer+66b8+f5cwFtvThw/UvOBKD56eh04U9idhjC540A7gtdND+qCBSxZ9R\n",
       "4hRFhOoQFe6WNE8eYtD5Zrz5MnIH7S9DdKX3/atJ0oRizrpaL0KnC8Npnvs514wZ3Ou32EUpRdtm\n",
       "dERHSGnu1i5PHmLQf6Ls6JwH6LEqROfT8GV5ElAUnNHZ4gh0urD79EppdC3qM2Qid59xZz+ZWFeN\n",
       "qpVtmymKLBUS5bnTOU8eBPQhA/Mc6oCSHW5mooMPSr6uIuj53hOO5IXEp9Yd4yd5d8eqPamaL7PX\n",
       "9DZHGkQOi7RkFAwPJfRwkuQu6XryEIJ+lPxqJDr4oPUBiJ7sfSeHcJs22dE93OqpB0jVKpzGeAdS\n",
       "qEFHbRtdG05RRKmpf27VlVC3oNEZxxeaAtDzFYie6/17K3ReMLTmrkCHMfE5Pb/WO5TiDHMNZWdQ\n",
       "ni5325gS4BRFhOp/hstiQg9ztH2g6gr6JkIXkReousKg82n4nLIKBoHMksMBpTHOPuGc02MV8IRe\n",
       "wN+CgByfZrZnbOwAfe01fNKAkaKg0hRosCYmFHX2A/hoouzlhhuocnpsrOEJGl1n0Pk0fE6uBH+b\n",
       "Xnc4TGniDXBOD13AU3o9eAI88BRuGJrmGFgzl3G5cIqCTlPUB8SE4s7KmDK4uYLm9LlC1RPU7kQJ\n",
       "ej1AEkf4eeiQwwGlwWefgHN66ALmOLOSnHCmsgc50xRDLoSIEOrx92SC2jIMedDwZXFRsnJ8jnZA\n",
       "yguffQLO6aELGOFEQRFhZDSKHGmK7LoLoWF8LMnk5HPo63NJmaDzNYguouEvtBJFZeTMDMMhpSHt\n",
       "qAHO6aELyD2DQXQuA05RKNRglV92IUTWSQ8rx2WCLg5A9HygLbJ3ibqGMu3cBm+fqoBzehwFfITz\n",
       "wEcEQDhFQacpEmUXQqTjvOfGCto/+cLkZFEK6LcZ9EQ5iKqLgvl1foN2SGnewFW2xERToIAKZ2lS\n",
       "ESxXXkDONMX8jAuhMxWrzVxhRqsgoNlNBn0+0FfRBVEAsU47pDQkVoVnnzgKGMREB2wZPFodlX6O\n",
       "MhJB7TO7CHo90G7ujGgKMVuhnJbznXPOPpFVQFU4SmAeBzst6yvvXbRAlT9tNoOCDtcguroerBSi\n",
       "4Wp4hnIOOvsJztknsgqYF87lhtk2mUJybLEE0fMBj7VdFFT1vOhzbEH/L6mAMWEwxOEh69jXexj0\n",
       "2EiwJ+ZE3fJZxnENfGVVG3F/dhaFZPb7IuiLAT+SiYrq+mAJOttg6pL4Xmg8hosQ3Y2GP9svqn0T\n",
       "0NkGS7pghcbjCIOeDAyVE+Uu/sY44dtRt5YXEo/03Qz60cBfyWVFn4P8tQKd8O2M282QeNiLHGd8\n",
       "0fBnvxG9wxJ0wu9Wp10rVTg8vsqgW87/AOD5oIRPfuM5AAAAAElFTkSuQmCC\n",
       "\" style=\"display:inline;vertical-align:middle;\" /></a></span><br>"
      ],
      "text/plain": [
       "fail_ineq_lemma_inst: {e in {2 .. 2^{t - 1} - 2}} |- [Pfail](e) <= ((1 / 4) * ((Sum_{l=-2^{t - 1} + 1}^{-(e + 1)} (1 / (l - (2^{t} * delta))^{2})) + (Sum_{l=e + 1}^{2^{t - 1}} (1 / (l - (2^{t} * delta))^{2}))))"
      ]
     },
     "execution_count": 6,
     "metadata": {},
     "output_type": "execute_result"
    }
   ],
   "source": [
    "fail_ineq_lemma_inst = _fail_ineq_lemma.instantiate()"
   ]
  },
  {
   "cell_type": "markdown",
   "metadata": {},
   "source": [
    "### Upper bound each of the summations in `fail_ineq_lemma_inst` via …"
   ]
  },
  {
   "cell_type": "code",
   "execution_count": 7,
   "metadata": {},
   "outputs": [
    {
     "data": {
      "text/html": [
       "<strong id=\"first_sum\">first_sum:</strong> <a class=\"ProveItLink\" href=\"../../../__pv_it/theorems/f2dce67f1906e6d14a2401f4f66c64d391c32e1c0/expr.ipynb\"><img src=\"data:image/png;base64,iVBORw0KGgoAAAANSUhEUgAAANAAAABCBAMAAADUJEUPAAAAMFBMVEX///8QEBCIiIh2dnYyMjIi\n",
       "IiJmZmZUVFTu7u66urqYmJiqqqrc3NxERETMzMwAAAAkjA9VAAAAAXRSTlMAQObYZgAAAAlwSFlz\n",
       "AAAOxAAADsQBlSsOGwAAA/pJREFUWMPtWE1ME0EUflAo23bbqicupkVDiHqwwRBMOIBRo/EnEBMS\n",
       "uNAGpFGU0ItCoklXMfEIxosXk0oI0fiHUYgHExqIJEYJvWkM1cZEbvyKURBdZ7rb7ezuLLC1sydf\n",
       "8k1n3+7s1/fmvbczA6CRV5prP7ARZz9xwQ0C2BkR3cx0QghfygEcATZE5zOdBG5GEI6zIWoA6B2I\n",
       "kUQ1THj4OuBaIEISjTIhciSgJDKhsuhuninmkkjirggUdLwEezK5M/lRIppjYpEnAd64OhhGWQWD\n",
       "exgCJNEuNkQzwLUOCDLRRH0l1mxRvgpmiG6r8ghXh8TWBnKX600R2eNEZVApNpX9pojgoOb6ATAi\n",
       "4jTXAiui3OU/kTVE9WJWllkSjYkpKfbeVPiWWBKViA3K6iE4zHKOgj+yRSJhjqg2bubpBTGm9C+a\n",
       "4un2HYuZeLxQXM8uvZgG6efvFmXDNTFkDZFD/GWRSbVLFpWSIrHOGiLO980i32XKEHOxi6UWmRQ0\n",
       "rNteMWehvW66wSKLyuIWpeyffMfxgW5qai4M5zu6wE6bDG5Hvl3k7edpTirKe1F1ClSi5Cabzw10\n",
       "p/Rq6ZaN4jp7k9J10Yj2Geu4RUI3eWjG4UeR5Tfa0dzLxvZDyjtdAbAFUzodHz6dAhdZjQOOHtiL\n",
       "fjH4DxvGtmsbhegGwlO9bgpsq3zVYeIf9ODpFiRMwjt9VVBim+uiRUUHwlm97irAdigi86ICR0Eo\n",
       "Df7T/Dnj2H4bpRZxbOUZvc4nQDTuJWeiD7OWplEgiou62F45kpZGnyjSVil4GrSxinWXAKKpW6TW\n",
       "/RM1J2TopYuot2u0JEcbdueiXodrPlRwWR+4rvxGbbWMHL7zaI1YktDrADzL0GrL+m4QogJuJZiX\n",
       "YuT5Ar9eh9oIzD7J5uo6jCHznoEE81LQj4ouzjTuaCOWlKwD6FSiAGcTsnoB3VsACbkRlVF04Iwo\n",
       "BuKs8MbSBLdk5Oa69xzFdc+BJz+Xfan03IzIMCycmVSd0tYoN5qfNZte5wlAIfmsNwUn0c9jGekU\n",
       "jaqH9Vb3gFOebs+IMpiTgseGPLR6XT0C616Hw+0qnd+FfdkmIy0v1MNC0A7lFzJeETKnNfgcF1Oj\n",
       "ej+kOc7FuqAorqiUlbtx2ywjLW3qYaswnSoGFZFyooakheLpFsMpaJAgSbP65n1EhMrxZDgc7qcQ\n",
       "DVHeN2S4WIhJyHytOvEpZ3ZbWAWjTkOL3JSlmNtoeTYlQymJapc3weQjuVtWoyWiHd8ZHunNAHGu\n",
       "aM9MrQfbNaMLafIcF8s45YXjBvvhuATZO3fUruNDvNYTpEX/sOgq1Ph1flZgQmTfo7726Rf+yjku\n",
       "a0mARZKXpetfADxzk/UqtWoAAAAASUVORK5CYII=\n",
       "\" style=\"display:inline;vertical-align:middle;\" /></a><br>"
      ],
      "text/plain": [
       "first_sum: Sum_{l=-2^{t - 1} + 1}^{-(e + 1)} (1 / (l - (2^{t} * delta))^{2})"
      ]
     },
     "execution_count": 7,
     "metadata": {},
     "output_type": "execute_result"
    }
   ],
   "source": [
    "first_sum = fail_ineq_lemma_inst.rhs.operands[1].operands[0]"
   ]
  },
  {
   "cell_type": "code",
   "execution_count": 8,
   "metadata": {},
   "outputs": [
    {
     "data": {
      "text/html": [
       "<strong id=\"second_sum\">second_sum:</strong> <a class=\"ProveItLink\" href=\"../../../__pv_it/theorems/27baa34035eba941509ef337b444cc56259f56850/expr.ipynb\"><img src=\"data:image/png;base64,iVBORw0KGgoAAAANSUhEUgAAAKoAAABCBAMAAAA1T1BeAAAAMFBMVEX///8yMjKqqqqIiIgQEBBE\n",
       "RESYmJjMzMzc3Ny6uroiIiJmZmZUVFR2dnbu7u4AAACz9PdfAAAAAXRSTlMAQObYZgAAAAlwSFlz\n",
       "AAAOxAAADsQBlSsOGwAAA4NJREFUWMPtWE1oE0EUfk2bZJs0GxUVqUoq9FT/ghTBUqkHBU9NL9Ee\n",
       "RCJFFAu64KFgDw2UghiKBXvWgkLRg42W9tBQDeJBtDTB3krFiB4EKa1Vq63g+GZ3sjuZbEhaZi/i\n",
       "g292eNn98ubNe2/eLgATJckmAzmQJ56wcfU2yWRtecomPlmsiwuz4APZrEmYgg8AiVQqNSSPdQ1u\n",
       "a/s9sm29iqyJy2y3mt9K26t5cEC8j51glRr5Vl4pcQdM7endqLE3yj8QIWRjnOqbkBM+g7b/rP8W\n",
       "axXhJCyL1UV+GpPPd16SE9I8kFk3p1dWpLH6SNqcT0hj9ZJVc+6vqNC8r+SuNmLdFavg/pnIngpu\n",
       "c5MRB8JPjfx2IqrvkQYHWAOk3QljQ1+dYP1Esg6wmlkrV55/d6K4+cRqFSSbFq4pWHfCA9WnHckD\n",
       "TU6Wvpvh9se7Isc4P/i5kvIpLIc1OKRwIbpb1rtQjmN1d8grKZYHpiwXc8VLsWtL2XVXsVoR2kWP\n",
       "FVYejvWIDSvTqcucLrG9sxb3hQKU83Zh1cjVhiwExoSAQ52S2qGBawunzNbOwlG8UiTgZt58K6y+\n",
       "cIcCvoPBNcFU1A1AYE2Z38v93SxtVXI6lLM9z8SwUg7wpWsS8URgRd0rgJNQxZ8drdRzSR01hOR9\n",
       "E9qqS/0DrAxcDNM25r7AirpIDjLxIF/hluhftDOY+cDXG+tEpq5ThKpLda+x2dGGC47oPzjsZCiX\n",
       "fHg6eJaLdShj0KpafnW9+IHjAkO5VhHNruso1mHR+AbjAcsFFyCTo6OBcnUcvVUTLtbhmIbeS1YC\n",
       "/ILDmhGSjeVZa4YA+minpNY/oqIxHdfhLdGoxfX04W99YKAC1mYbHXjMDtJHv9YEYzrbMEMFHjin\n",
       "2njgIBS8oS5puj+bGPR8ztjUc8PpbvTpakBo81DnzUI1H61BDbbh5SKDLvvEryUA11uMkoYLXfso\n",
       "lDnU3Uqlpgp0YRd1yTSDLtOFj+mRZCzEi2nWLXQ0VDdGSGH7NHecjg8ZAPjJYleskBVGbZw9WvJz\n",
       "wIiBfJ2ciKLE1FFIC6zdNg93l8zEmAEzsXWpSw+Ktrptmn93qReCAQY+sTESJw+BPxo9FT1jsqo2\n",
       "h5la6oDrZDAC8C7zQDAu7hZAv83T/SVan7gBFmzV+aU1QFZk3XyvcSy/tPGuHGMdDM1Jbrc6wAlJ\n",
       "yiD5Cz0YRdJjVVRZAAAAAElFTkSuQmCC\n",
       "\" style=\"display:inline;vertical-align:middle;\" /></a><br>"
      ],
      "text/plain": [
       "second_sum: Sum_{l=e + 1}^{2^{t - 1}} (1 / (l - (2^{t} * delta))^{2})"
      ]
     },
     "execution_count": 8,
     "metadata": {},
     "output_type": "execute_result"
    }
   ],
   "source": [
    "second_sum = fail_ineq_lemma_inst.rhs.operands[1].operands[1]"
   ]
  },
  {
   "cell_type": "code",
   "execution_count": 9,
   "metadata": {},
   "outputs": [
    {
     "data": {
      "text/html": [
       "<strong id=\"the_summand\">the_summand:</strong> <a class=\"ProveItLink\" href=\"../../../__pv_it/theorems/830236c0f3b810c61362012256b01b92ec4c07070/expr.ipynb\"><img src=\"data:image/png;base64,iVBORw0KGgoAAAANSUhEUgAAAHUAAAAzBAMAAABbK1r+AAAAMFBMVEX///9ERES6urqqqqqYmJgQ\n",
       "EBDc3Nx2dnaIiIgyMjJmZmZUVFTu7u4iIiLMzMwAAAD4QZJGAAAAAXRSTlMAQObYZgAAAAlwSFlz\n",
       "AAAOxAAADsQBlSsOGwAAAg9JREFUSMftlj9IG1Ecx78m5oxez2QKTsWlW4cuIh2KdhQFQ6cOQpPF\n",
       "gkszCrb2BqFDHQR1zyCEBISIugVMJpFCE8yk/UO2QqGNdggIYvp77/dyvXteHE4cpPnC5x33vfu+\n",
       "e//yXoAbNPwVQfUpfxk4i2gv28veQXagFThq7l/soaf/V+3AOrtnPT1cKgXOZrEdOPsHbxpBszO3\n",
       "yALv+JLyeaS8Qe8zQ+EckdEnPjuV8qoub2EzEbIBAZAuS2+cGnClZclbyD8Enrq8TKiEFboKjKwh\n",
       "WvRgDejX1hd5RhzvR1+fLP8zxYwOlpn075/iw0OTxJo3S56ZQiSJdZf5kejPMq/abWFFCMv2ZsmL\n",
       "XMJswb1BV8UYzClYokv6ZJFn1mBehZIus09UtKFg5YhZbahysrTOosXPjhfePadyScEStexoWa65\n",
       "aQ/Zbx1vCgdlUTKsOvFSy9Zl+QXDW05njBYm6GYMDOsFLRJ57hx9E/quPBrseGfGLsQBE0eTsk0w\n",
       "Tjaa1L4rs9PO7SkRm5SZRwqnfX3F8vU2hzOYd89QQ/bzmYI1IurMeLPk4Qew6rJiDblQnitYNOKx\n",
       "x9raIM84LRRq7rPYDhfV7OUc8xetspzWX/Is2kU9K3XxgyiPFSzLZwOwum0KRo1REktbl5/X+ZFI\n",
       "Okr4vJPokk0rOqr4vFPpkk1o9Rq2T79s/z9NKYb1F2p1xZk48r/pAAAAAElFTkSuQmCC\n",
       "\" style=\"display:inline;vertical-align:middle;\" /></a><br>"
      ],
      "text/plain": [
       "the_summand: 1 / (l - (2^{t} * delta))^{2}"
      ]
     },
     "execution_count": 9,
     "metadata": {},
     "output_type": "execute_result"
    }
   ],
   "source": [
    "the_summand = first_sum.summand"
   ]
  },
  {
   "cell_type": "code",
   "execution_count": 10,
   "metadata": {},
   "outputs": [
    {
     "data": {
      "text/html": [
       "<strong id=\"first_sum_conditions\">first_sum_conditions:</strong> <a class=\"ProveItLink\" href=\"../../../__pv_it/theorems/bb8428576c5e9aef5059458d15ab082fff89783c0/expr.ipynb\"><img src=\"data:image/png;base64,iVBORw0KGgoAAAANSUhEUgAAAQYAAAAYBAMAAADqsE5QAAAAMFBMVEX///+qqqq6urru7u4QEBBE\n",
       "RERUVFTc3NyIiIgyMjJmZmaYmJjMzMwiIiJ2dnYAAACPW0xlAAAAAXRSTlMAQObYZgAAAAlwSFlz\n",
       "AAAOxAAADsQBlSsOGwAAApVJREFUSMdjYCAMOAugDOadDAMF7GGME70D5gZJOEuWbnYaKaBw626+\n",
       "ocgN7PjECwuwynFMMkAVmEhZODTiEGdqABI8qSDL3v5Bk5NHckLVyhgGhs943MBzmZATGB9gEz0L\n",
       "tKQbxGBNABLcH9Ck3yIFVwDDewUmBwaeUCAIx+IGs5WfCbnBEosYc9Z8oBs4QZ7luwAkuCbgdgNb\n",
       "AQOLA0eCDUY4MG2ARRxBN6xG5mjDGP1A+7kXwNzA2wARbb17dwK6G1g+M7B952p4jOEGxgai3eCA\n",
       "zJFAdgODM8wN9QfAgprN2MLhAgPbH57VB2A5ZP4Lkt3AOAG3G2bD3LAfEvOTscUFKJg+YDWZaDdw\n",
       "gZKkXcdibG54BnNDKmp5zMCwEsWM8w2UuYETmHKY7jCcw+YGUNHPAYorD4hSRF7wRjHjGgNlbuAV\n",
       "AEb3BoYmbG4QAVn3EZjBv4PFjtwFggCQWCawlGSeC+LeBaYDrgAswXv37hXfu3cTcLsBoZ+BBWhc\n",
       "fEcfqOhde/euy9271xBuOA/O3hMhYcHAYArXfyoY2bRtDBSGA8gN33CkSRUQ66UCsJwCF4u8CF1h\n",
       "qIVcOeVx8QOHG0BZnRFoAP8GcFnK0YA1XwCTUjNlbmAFqrwH1IDNDVtB+QIYD/zKDWgVE3JZfWvV\n",
       "qgt43cAHSU7MP2EEOuBLAKV/5uVobngPyofroHmTex205A8ywHQD7////yfgcwNbys9sMOMWnECv\n",
       "1IB2cLzegRYXaf7TgHn2Eqx8gAG9WMyyGnfp10B01X0HazkJDuUL6G7AUU7iqPs3EO2GXVjrLHAe\n",
       "34DTDS3UbZWxFuCSKWXAVm2DQb0AVd3AHIBLJhxEmGANUfZl1HVEBQ5xDlAA1SUyMAAAyNK7OkwI\n",
       "2cMAAAAASUVORK5CYII=\n",
       "\" style=\"display:inline;vertical-align:middle;\" /></a><br>"
      ],
      "text/plain": [
       "first_sum_conditions: l in {-2^{t - 1} + 1 .. -(e + 1)}"
      ]
     },
     "execution_count": 10,
     "metadata": {},
     "output_type": "execute_result"
    }
   ],
   "source": [
    "first_sum_conditions = first_sum.conditions[0]"
   ]
  },
  {
   "cell_type": "code",
   "execution_count": 11,
   "metadata": {},
   "outputs": [
    {
     "data": {
      "text/html": [
       "<strong id=\"second_sum_conditions\">second_sum_conditions:</strong> <a class=\"ProveItLink\" href=\"../../../__pv_it/theorems/f01e5817c994f42806cb80f31cb3ebf09f18f49a0/expr.ipynb\"><img src=\"data:image/png;base64,iVBORw0KGgoAAAANSUhEUgAAAKgAAAAYBAMAAACcr6vyAAAAMFBMVEX///+qqqq6urru7u4QEBBE\n",
       "RERUVFTc3NyIiIgyMjJmZmaYmJjMzMwiIiJ2dnYAAACPW0xlAAAAAXRSTlMAQObYZgAAAAlwSFlz\n",
       "AAAOxAAADsQBlSsOGwAAAdtJREFUOMtjYKAYcBZAGcw7GagG7GGME73UM1QSzpLFo8pIgRQz626+\n",
       "QTa0sACrKo5JBiS5dCKKS3lSQbrf/kFTJI/VTJ7LWASrVsYwMHxG9T5rApDg/oCm8i02M81WfsYU\n",
       "ZA9geK/A5MDAEwoE4VBD+S4ACa4JeA3VhgUKFkPZChhYHDgSbFBcCjaUtwGiKfbuTWyGSuAxlOUz\n",
       "A9t3robHmIbWHwAxmWYYYHcpPkPZLjCw/eFZfQCWDua/gBm6HyxQaYDifeYXXQaEDQX5Ez1GIIam\n",
       "gpnTEaIrgVj3AM8Dogw934CRIh2AhAeYiYgtdm8g/s3AoUCUodcwk8RHYPr7Dk6Fvnfv3r0KFssE\n",
       "msb6o+MRiLP27l2Xu3ev4TaUKwBL6psIcS0DM0LyVDADA38CURHFwLANi9hLBWAGAMfIBYRgGNDQ\n",
       "BuIMZXzAUI4hBlTIvwEcIx0oiZ8XKCZAhKHnGBiaMWIf6HV+ZbCrOAWQDeWewGBVgGoo33do6QmM\n",
       "Uuaf0Di5tWrVBWxJinsdpNROVUZOp327G1C9z5byMxuSMBcAiVvQRPr///8JWNMpFDA9xZ9NiQZ8\n",
       "F7CJYi9QKDS0hbLaBaPUA4N6AYoMNdmATZR9GSWm1iUyMAAAMyWCGgj5uJ8AAAAASUVORK5CYII=\n",
       "\" style=\"display:inline;vertical-align:middle;\" /></a><br>"
      ],
      "text/plain": [
       "second_sum_conditions: l in {e + 1 .. 2^{t - 1}}"
      ]
     },
     "execution_count": 11,
     "metadata": {},
     "output_type": "execute_result"
    }
   ],
   "source": [
    "second_sum_conditions = second_sum.conditions[0]"
   ]
  },
  {
   "cell_type": "code",
   "execution_count": 12,
   "metadata": {},
   "outputs": [
    {
     "data": {
      "text/html": [
       "<strong id=\"e_conditions\">e_conditions:</strong> <a class=\"ProveItLink\" href=\"../../../__pv_it/theorems/f67ffeb951aaff9cc5f02f3801926b572b231a930/expr.ipynb\"><img src=\"data:image/png;base64,iVBORw0KGgoAAAANSUhEUgAAAKwAAAAYBAMAAACVRAuIAAAAMFBMVEX///8QEBAyMjKqqqpUVFRE\n",
       "RESYmJjc3NzMzMwiIiK6urpmZmaIiIh2dnbu7u4AAAAMEBwRAAAAAXRSTlMAQObYZgAAAAlwSFlz\n",
       "AAAOxAAADsQBlSsOGwAAAe1JREFUSMdjYCAZMBVAGXxJDFQE72GMnpPUNNYIzrIkTSPfKjyStZNu\n",
       "4De2uACHzkPr8FmqTMC1HK4PsIoz/2NgYN+t2oApU70pgoHhH25jIbpYHbAayzuBgaGUgfcXhgR7\n",
       "AMP9BVwCDByhQBCOxViILpB+HMa6MzAIYkiwFDAwCvA4vMDpWoguVGN5ImdOghsr/4DBHyPoGf8x\n",
       "sHznPnAPp7EQXSjGcuk8QHKtJwODP0bgskxgYPnBsQ0mXqt/B00BRBfYWL47p8HmFT1ADgQgmI8t\n",
       "gDg/EEic86H6VzZwXADx1eEy3ArgdPIHm67+A/hNBeniEQDG7jcGngUgAQW4VGEC2F1Yk8kUAo4F\n",
       "6WL/DExkf87cAlsjOXPmzKkgVokWWMFWbLq4A7DkSc2ZINCA0PVEmYEf6ig+uAaOraBQZsPq2BQC\n",
       "joXourSAgR8WWIhUAc4ltgzsmHmb+QJDOV5jwbpAuZQTGF8GIJEzKNkBGI08mFm7l4HhHN4IA+vi\n",
       "BUYZmwLDa7CzmAyQja3cvXsnpHQFRiXfJ2jmnb179wR8xkJ0gRPY2TRIMPC5rkMydv7//xCzODcA\n",
       "idnQaP7//78C3kQL1oWaebmuImVeSgCeooYGxoJyCSWAG3tAgXIJJeBhAnbxamdKTK0F6gYAv0eE\n",
       "w3ELTC0AAAAASUVORK5CYII=\n",
       "\" style=\"display:inline;vertical-align:middle;\" /></a><br>"
      ],
      "text/plain": [
       "e_conditions: e in {2 .. 2^{t - 1} - 2}"
      ]
     },
     "execution_count": 12,
     "metadata": {},
     "output_type": "execute_result"
    }
   ],
   "source": [
    "e_conditions = _fail_ineq.conditions[0]"
   ]
  },
  {
   "cell_type": "code",
   "execution_count": 13,
   "metadata": {},
   "outputs": [
    {
     "data": {
      "text/html": [
       "<span style=\"font-size:20px;\"> <a class=\"ProveItLink\" href=\"../_scaled_delta_in_interval/thm_proof.ipynb\" style=\"text-decoration: none\">&nbsp;&#x22A2;&nbsp;&nbsp;</a><a class=\"ProveItLink\" href=\"../../../__pv_it/theorems/606435bff720c2e5a200cdcc6604d8d77afc504e0/expr.ipynb\"><img src=\"data:image/png;base64,iVBORw0KGgoAAAANSUhEUgAAAH4AAAAaBAMAAACDaPX3AAAAMFBMVEX///9UVFQiIiKIiIjMzMx2\n",
       "dnYQEBDc3NxEREQyMjLu7u5mZmaqqqq6urqYmJgAAAB66f/FAAAAAXRSTlMAQObYZgAAAAlwSFlz\n",
       "AAAOxAAADsQBlSsOGwAAAkpJREFUOMudlD1oFEEUx//J7rrJ3t7eKYKKQsIhCH6QD0HEQg8LG4us\n",
       "uVq8SsQmi1W6HDbaqJdCFAm6KohicYciflxjBG2NhQErI1hoIQieSCRfb3Zmd2b2buH0wc3cm3m/\n",
       "fW/evHlAIjfwf/KDT85PfbnZI+4KQ7eur0/3yD/ikz15vayte6Npy/HdqQWbDVeFMvha2Xh5LsDe\n",
       "NH86vZAnF3aVfq2bZRRCuWHhQ4ixLrxVeR5rx8n+KJDz2VGtVSwqln3sW42wk5/DvYBne+cd2h4M\n",
       "UVgAtgFnMebI8xtFdqClDt4bhlUT2jHivSYmaJoKMRQ8taQ/Z4WGXGx5uFSqc36gCPevwuM8xmnc\n",
       "AgyVT35VXF2jTaPK/386kvgvNGGuqPxt7ODaiBbp/Hvyneee7Fsy/gbxayp/CpcjxfylXX29j1iz\n",
       "ze81kPyMLy0j/jtmI6W/qPIzgUusvcp56PxvlX+HfZHyIrZpsExtj3w7nD9RIqmJ+H3kNf8T3L+X\n",
       "uO9nr2ENJj0mm8f/UPFP+XO1/C1y/i3sQIbvtCkDdP4//IsKP1CDp93fG4qVLH0YarG1o8cg8m+M\n",
       "KvVTRa6OUPLfcIjGC63WEzV/FcyzQ4n7n1Pqdz8elJ3lSDvDIn6Gz/SZkfX1ZZW3Dvqs/kRS7l4J\n",
       "E/5xZStQYvrmqVmq7wPYtJDVGJL6/3gxrl/RaZKz2sPR++su3d6feN2x5JZgVrP4L1n9477W43Zl\n",
       "8XuyeNnYLsn+1yGd/W8y3f8MdgVuRgKm/7H/p+VVT/AG0TSPmdA7ZhwAAAAASUVORK5CYII=\n",
       "\" style=\"display:inline;vertical-align:middle;\" /></a></span>"
      ],
      "text/plain": [
       "|- (2^{t} * delta) in [0,1)"
      ]
     },
     "execution_count": 13,
     "metadata": {},
     "output_type": "execute_result"
    }
   ],
   "source": [
    "_scaled_delta_in_interval"
   ]
  },
  {
   "cell_type": "code",
   "execution_count": 14,
   "metadata": {},
   "outputs": [
    {
     "data": {
      "text/html": [
       "<strong id=\"scaled_delta_lower_bound\">scaled_delta_lower_bound:</strong> <span style=\"font-size:20px;\"> <a class=\"ProveItLink\" href=\"../../../__pv_it/_proof__fail_ineq/3db8a858b432d89a4fdeb6fb209a6ca2d3cc263a0/proof.ipynb\" style=\"text-decoration: none\">&nbsp;&#x22A2;&nbsp;&nbsp;</a><a class=\"ProveItLink\" href=\"../../../__pv_it/_proof__fail_ineq/0c183cc29d4bb6134e13faa723a568b458c1117b0/expr.ipynb\"><img src=\"data:image/png;base64,iVBORw0KGgoAAAANSUhEUgAAAGEAAAAaBAMAAABVzS+SAAAAMFBMVEX///8QEBC6urrMzMxUVFRE\n",
       "RESYmJgiIiLu7u6qqqoyMjLc3NxmZmaIiIh2dnYAAABcDckaAAAAAXRSTlMAQObYZgAAAAlwSFlz\n",
       "AAAOxAAADsQBlSsOGwAAAdNJREFUOMuNVDtLA0EQ/sj78rhE/4DxF3j2QgIWvorY20QsBEFIJ4KQ\n",
       "WNkISR3ER6EggpyF2AixUCIYQwTBTtJpExBBiRGNs7sxt3dxgwO3s3x73+58szML9LUj/Nd8ce4C\n",
       "L3Y4rGZsCaft2uHQrIoQEH+Gno4N+8KyiuFNCx8sSOD53hz8OZrojZsexgntX9k3EM1JYN01iUiS\n",
       "JofYMLtoUUyrwCn0VwzL20yycJuUlQz0rp7Fa+FfgRlgAPcBScc9Gw4o5CS0Zgd7eBbeTcBQDinz\n",
       "VpfCyjNRV0D0Au4PkaCnWmctkgEmgJQxtiCng218R0xivHNCOf275hHJzdqyoU290TiSQ6kO9xcj\n",
       "TFuZ9HJhHLZsCSkKMWFwxjdDJEaQ5RD+pO26P7FDaSjFka/DxTcLWVH5LyBEdiqgxSKdZfsjH2fK\n",
       "NadyfobPOmKNvmgaCXIlg8Xsc2aXM7YRMqWo8gYpIR0mfDGEdx03SBHAXUdErpGoQdXBc4VVrFsX\n",
       "W+TTSAw4q1TKsnK9prGT5+nbbIw7C9FFYWbb7ZYNbDyy8VJR7YPKVjtQ4FVlqzWl+Qo3IWlU2f9J\n",
       "xYKnoFjwm/37vNeUfU7X96ep35Lf98ppYbq/Hy5rc/oL5o+kAAAAAElFTkSuQmCC\n",
       "\" style=\"display:inline;vertical-align:middle;\" /></a></span><br>"
      ],
      "text/plain": [
       "scaled_delta_lower_bound: |- 0 <= (2^{t} * delta)"
      ]
     },
     "execution_count": 14,
     "metadata": {},
     "output_type": "execute_result"
    }
   ],
   "source": [
    "scaled_delta_lower_bound = _scaled_delta_in_interval.derive_element_lower_bound()"
   ]
  },
  {
   "cell_type": "code",
   "execution_count": 15,
   "metadata": {},
   "outputs": [
    {
     "data": {
      "text/html": [
       "<strong id=\"scaled_delta_upper_bound\">scaled_delta_upper_bound:</strong> <span style=\"font-size:20px;\"> <a class=\"ProveItLink\" href=\"../../../__pv_it/_proof__fail_ineq/90d01d36e7afa6609ee854a74afaa7f2cd3796810/proof.ipynb\" style=\"text-decoration: none\">&nbsp;&#x22A2;&nbsp;&nbsp;</a><a class=\"ProveItLink\" href=\"../../../__pv_it/_proof__fail_ineq/8f6d29620a8cb47dd459b0868057446f0f726fc20/expr.ipynb\"><img src=\"data:image/png;base64,iVBORw0KGgoAAAANSUhEUgAAAF8AAAAaBAMAAAAj950ZAAAAMFBMVEX///9UVFQiIiKIiIjMzMx2\n",
       "dnYQEBDc3NxEREQyMjLu7u5mZmaqqqq6urqYmJgAAAB66f/FAAAAAXRSTlMAQObYZgAAAAlwSFlz\n",
       "AAAOxAAADsQBlSsOGwAAAZ9JREFUOMtjYIABzgIGIsFbCLUeTXgDLvU8UJmTaOIVuDSshFClmiGo\n",
       "4nwGODT0Qek5SGLsOzMKGLSwq2dPYGCo3tnCwPALSZCV4eICBkNMxU4LGBi4AxjYGxjiL/AmIEkw\n",
       "LgCFwgI05VzS84FC/BcYGAsY2BKYBZYgpJgFQOH8AMMGe6AG/wUMbL8YGL9zG0QhmfUHSHA3IARO\n",
       "FsA1GAEdoMDA+IVlnwOSUf1AGWaEIx/tQtggCWYxfUCx+uB5oOm88GAwikJyUgeY5Y8S6HwTGIGK\n",
       "Wb5A3RdkgOyHiWCWIooF9QU8QMXsfyHhvukBiqe1GVD8t34CkJAAm84F0SB5ADWUwDY8hAsxgVLW\n",
       "PwYWoJ/Yv+DUwBPAUI4cQV+AvgD64TtWJ0kAaVcGBitkP3xh4DyACCU0T5sBzdDevVsBWUMww0FQ\n",
       "WMHigcsIZlw8MP7uL2Bg+v///wRkDazGAaCQEEBEHCQiBPMnPmBgu4AroyCnpZeI/MsdgEsDRmqF\n",
       "AJYEXBoe4hCXwaVBHX+exgA48zQPDk9UECqX0MEu7MIAtk5mgn+yH7UAAAAASUVORK5CYII=\n",
       "\" style=\"display:inline;vertical-align:middle;\" /></a></span><br>"
      ],
      "text/plain": [
       "scaled_delta_upper_bound: |- (2^{t} * delta) < 1"
      ]
     },
     "execution_count": 15,
     "metadata": {},
     "output_type": "execute_result"
    }
   ],
   "source": [
    "scaled_delta_upper_bound = _scaled_delta_in_interval.derive_element_upper_bound()"
   ]
  },
  {
   "cell_type": "code",
   "execution_count": 16,
   "metadata": {},
   "outputs": [
    {
     "data": {
      "text/html": [
       "<span style=\"font-size:20px;\"> <a class=\"ProveItLink\" href=\"../../../__pv_it/_proof__fail_ineq/51c4c828cad189120a5edfc3f1f68999d9f3d3ec0/proof.ipynb\" style=\"text-decoration: none\">&nbsp;&#x22A2;&nbsp;&nbsp;</a><a class=\"ProveItLink\" href=\"../../../__pv_it/_proof__fail_ineq/089b0d278aeea79b0d51b9e2dfeb554ae96ea8f80/expr.ipynb\"><img src=\"data:image/png;base64,iVBORw0KGgoAAAANSUhEUgAAAE8AAAAVBAMAAAD1D64kAAAAMFBMVEX////MzMxUVFRERES6uroi\n",
       "IiIQEBCYmJhmZmYyMjLu7u52dnaqqqqIiIjc3NwAAACW8nlqAAAAAXRSTlMAQObYZgAAAAlwSFlz\n",
       "AAAOxAAADsQBlSsOGwAAASNJREFUKM9jYGB4wIAM+BhwAd4DKFyWC7gUnkZiiy5gYLiOqWT3DaCt\n",
       "XBPgfC6N+UCFnAvQ1XEe4IpjYOAoQBK6D1TE3oCusJSBYTMDAxsDmkKGLASfZx6INGJgOL+A4SSG\n",
       "wulwLnsE2Bk/GBjkDzB0YyjcBA+PaLA6LpDCAiT9MIWVUM7qWGjI/gYqvMAQg6HwGIT9IpwBSeEG\n",
       "hhSg2VNDQUAAqlAeLM00Bx5qQIX+F0AK0Ux0Q1MI8sz5A1isPopmNYMxA0P9AgZbDIXFaJ5hKGNg\n",
       "6EQKDBDYD0pJ8ABbGwuJTdYDXInAdICkTil/EjBCQxABDg3I7ktAj7IKoMUsXwCCzT4PiY2eBlBS\n",
       "CTKwQ+M/xpVwFxPQiHATatrnfYBdGQCH309Qvw6GFwAAAABJRU5ErkJggg==\n",
       "\" style=\"display:inline;vertical-align:middle;\" /></a></span>"
      ],
      "text/plain": [
       "|- (-1) < 0"
      ]
     },
     "execution_count": 16,
     "metadata": {},
     "output_type": "execute_result"
    }
   ],
   "source": [
    "# Need to know -1 < 0 in the next step below.\n",
    "# Can likely be easily, usefully automated; check on this.\n",
    "Less(Neg(one), zero).prove()"
   ]
  },
  {
   "cell_type": "code",
   "execution_count": 17,
   "metadata": {},
   "outputs": [
    {
     "data": {
      "text/html": [
       "<strong id=\"neg_scaled_delta_lower_bound\">neg_scaled_delta_lower_bound:</strong> <span style=\"font-size:20px;\"> <a class=\"ProveItLink\" href=\"../../../__pv_it/_proof__fail_ineq/4ca0798bbbc4a553c0a7fe9bf33325834697b8d90/proof.ipynb\" style=\"text-decoration: none\">&nbsp;&#x22A2;&nbsp;&nbsp;</a><a class=\"ProveItLink\" href=\"../../../__pv_it/_proof__fail_ineq/01fdec9d6bd35dae7c6bb31947ad911f8589634a0/expr.ipynb\"><img src=\"data:image/png;base64,iVBORw0KGgoAAAANSUhEUgAAAKUAAAAaBAMAAAAkmYFJAAAAMFBMVEX///9UVFQiIiKIiIjMzMx2\n",
       "dnYQEBDc3NxEREQyMjLu7u5mZmaqqqq6urqYmJgAAAB66f/FAAAAAXRSTlMAQObYZgAAAAlwSFlz\n",
       "AAAOxAAADsQBlSsOGwAAApRJREFUSMelVT2IE0EUfpvdTS67uVwq/xCJciB6zRpBQSxstL1DrWxM\n",
       "aSMExR+wuBQWYuHFVkSi2FjlLOSMB0eusAgWrlhddfEEm0O4IhAueMb3dja782Z3JOLA7s68ffO9\n",
       "v2/eAGhGvgb/MX6yVdEX35aitYyPOylkYZktP4XfrqJ2H59cfULMN2zlNMT3zomrXK3o4et7yv4c\n",
       "XwYpe8JEU71w8lze1r5Rg5M4yTSTmOf58ivpV5noLj4P2g8BhpLQhi9NOIUTs5RM3UI8t9CuiU65\n",
       "C0zlXZC16/60bMog91r4coZ/S93LNv1+BjDjM5U9RKhBtmqWXsfCwL08ZeVFAnNNmpuEuQ0wz1Jk\n",
       "oTQ7BGPgetekwv0iIlHR3wvfevG/qoqZbUKFWTXL6GcZjL61dkESL6Fhk3afETYue1E6GyomxnOQ\n",
       "YRpCJbPDpOuf0cdp2rAZRlUZR8HKEWDaJXjEqSRYPe8xajYMVLb69GPs/daH8Aj3VMxiA57yUy7I\n",
       "cpQJF2sFxMvt0TSqaHdFRNRRMQtVmKOcH6MxSyrBQXXHZ9DZpfeBwEeHMFsxSzYO0TvrS9sDTGsn\n",
       "1c9v0Zoswm/SgxzFvhhXbuPxGJP7icxOwcSjcU9uAX3KEVgDymfUAbv7dbGXMTBWd4r6IsA5WdiH\n",
       "fEepO2ythEX1EjWqh4yLpEjC3NzqalkWXoF10iV+/gCFS7bcAeyBYNcmO0fkTGY0GslMBvs0kdCl\n",
       "3W9FNiqRd5Zk3di3ewS3+zzJADe1fVY6768kUs6qerfS+pJmaPrSdkpTsXj/vKTFJIIVk/1zSrkL\n",
       "g/vlMC98R4d5nJiTvEydeoqN9PsoMbT30W2+PKs2fxwfNZj/dG9q7nd1UB9ymxMB/gH4xKHbMoQG\n",
       "EAAAAABJRU5ErkJggg==\n",
       "\" style=\"display:inline;vertical-align:middle;\" /></a></span><br>"
      ],
      "text/plain": [
       "neg_scaled_delta_lower_bound: |- (-(2^{t} * delta)) > (-1)"
      ]
     },
     "execution_count": 17,
     "metadata": {},
     "output_type": "execute_result"
    }
   ],
   "source": [
    "# This step needs to already know that -1 < 0; see step above.\n",
    "neg_scaled_delta_lower_bound = scaled_delta_upper_bound.left_mult_both_sides(Neg(one))"
   ]
  },
  {
   "cell_type": "code",
   "execution_count": 18,
   "metadata": {},
   "outputs": [
    {
     "data": {
      "text/html": [
       "<strong id=\"neg_scaled_delta_upper_bound\">neg_scaled_delta_upper_bound:</strong> <span style=\"font-size:20px;\"> <a class=\"ProveItLink\" href=\"../../../__pv_it/_proof__fail_ineq/e78c5ee3c248c9aee5a7473b5d39619d1e6bc5b70/proof.ipynb\" style=\"text-decoration: none\">&nbsp;&#x22A2;&nbsp;&nbsp;</a><a class=\"ProveItLink\" href=\"../../../__pv_it/_proof__fail_ineq/c1f532b30cc6e015a638ed352f916bcbef1a23ac0/expr.ipynb\"><img src=\"data:image/png;base64,iVBORw0KGgoAAAANSUhEUgAAAIcAAAAaBAMAAABvMVKkAAAAMFBMVEX///8QEBC6urrMzMxUVFRE\n",
       "RESYmJgiIiLu7u6qqqoyMjLc3NxmZmaIiIh2dnYAAABcDckaAAAAAXRSTlMAQObYZgAAAAlwSFlz\n",
       "AAAOxAAADsQBlSsOGwAAAltJREFUOMuVVc9rE0EUftndbLLZbFwE73vwbvwHdKH00J4E0as/8CoE\n",
       "FKptKlt6KJTS9NBTKZpDFAQP68GTYnJQkVokgqAXYcFLL6HSQEktbfre7G6yb5MpZGBm9r15fPPe\n",
       "N9/MAkzQCv4k0aA7zLwfTrVUVAt7UQ6yzSyjFc5bqah32M0bMox8nZmr4fRx/m8q3zYOD2Ug2bvM\n",
       "vB3NrxM+c+eSD0/wI+fhUOp8GwF5yyzTBviwcxOgl3CW4LIHP/HDcgX8CpGef5WI+M5AigFVvu8o\n",
       "dsKpUQI1HPIIrVegJLhZXxxGHDCQCw5oPmRsy10eOkUCBSobd8+6YIRpWs+8KEDtMZDrHmR6oB0X\n",
       "23sJ7o8oR9r+M27TAvUoIjtGsSoM5BcmXwGtq34pJ7x3MNiiAn9gWQhyGOvhTShJjZ/wrBhz/5hz\n",
       "8wVmoVDKVzxoBqCexCtKQ+SS5QK6FRbVZhKpawigdmmhLEBOByAvBUjBZSANMT5mvqZvIIBJJ9B0\n",
       "oBaAEmdiNMJycijz1Tlqj8isQsyhYPQ/jdMiizyB1Bwi1oiJrUbEjsvkwcAUmIegIkcmldMsU/16\n",
       "+ojHgBgBvE9eri6ygpwcEyc+6DYU6ymxaZzYaezXAH4nfV0obAxPB57CUjkle8tmICgEs7q7y8TT\n",
       "gU0igALvYV/rTKXvn8IVi1vl+v0+E0/pT0BsU92fJE/BRWZlHOl7Gd2dsW3kFktafIsHfAtdzIW3\n",
       "4yoLVW0ZCJ277koWtQ1mzshAFkiZ/kRv7Og/4dw3Fp7z115CyvmvveS/k25fiXXk9gxZbJgUH62S\n",
       "3QAAAABJRU5ErkJggg==\n",
       "\" style=\"display:inline;vertical-align:middle;\" /></a></span><br>"
      ],
      "text/plain": [
       "neg_scaled_delta_upper_bound: |- 0 >= (-(2^{t} * delta))"
      ]
     },
     "execution_count": 18,
     "metadata": {},
     "output_type": "execute_result"
    }
   ],
   "source": [
    "neg_scaled_delta_upper_bound = scaled_delta_lower_bound.left_mult_both_sides(Neg(one))"
   ]
  },
  {
   "cell_type": "code",
   "execution_count": 19,
   "metadata": {},
   "outputs": [
    {
     "data": {
      "text/html": [
       "<span style=\"font-size:20px;\"><a class=\"ProveItLink\" href=\"../../../__pv_it/theorems/f67ffeb951aaff9cc5f02f3801926b572b231a930/expr.ipynb\"><img src=\"data:image/png;base64,iVBORw0KGgoAAAANSUhEUgAAAKwAAAAYBAMAAACVRAuIAAAAMFBMVEX///8QEBAyMjKqqqpUVFRE\n",
       "RESYmJjc3NzMzMwiIiK6urpmZmaIiIh2dnbu7u4AAAAMEBwRAAAAAXRSTlMAQObYZgAAAAlwSFlz\n",
       "AAAOxAAADsQBlSsOGwAAAe1JREFUSMdjYCAZMBVAGXxJDFQE72GMnpPUNNYIzrIkTSPfKjyStZNu\n",
       "4De2uACHzkPr8FmqTMC1HK4PsIoz/2NgYN+t2oApU70pgoHhH25jIbpYHbAayzuBgaGUgfcXhgR7\n",
       "AMP9BVwCDByhQBCOxViILpB+HMa6MzAIYkiwFDAwCvA4vMDpWoguVGN5ImdOghsr/4DBHyPoGf8x\n",
       "sHznPnAPp7EQXSjGcuk8QHKtJwODP0bgskxgYPnBsQ0mXqt/B00BRBfYWL47p8HmFT1ADgQgmI8t\n",
       "gDg/EEic86H6VzZwXADx1eEy3ArgdPIHm67+A/hNBeniEQDG7jcGngUgAQW4VGEC2F1Yk8kUAo4F\n",
       "6WL/DExkf87cAlsjOXPmzKkgVokWWMFWbLq4A7DkSc2ZINCA0PVEmYEf6ig+uAaOraBQZsPq2BQC\n",
       "joXourSAgR8WWIhUAc4ltgzsmHmb+QJDOV5jwbpAuZQTGF8GIJEzKNkBGI08mFm7l4HhHN4IA+vi\n",
       "BUYZmwLDa7CzmAyQja3cvXsnpHQFRiXfJ2jmnb179wR8xkJ0gRPY2TRIMPC5rkMydv7//xCzODcA\n",
       "idnQaP7//78C3kQL1oWaebmuImVeSgCeooYGxoJyCSWAG3tAgXIJJeBhAnbxamdKTK0F6gYAv0eE\n",
       "w3ELTC0AAAAASUVORK5CYII=\n",
       "\" style=\"display:inline;vertical-align:middle;\" /></a>, <a class=\"ProveItLink\" href=\"../../../__pv_it/theorems/bb8428576c5e9aef5059458d15ab082fff89783c0/expr.ipynb\"><img src=\"data:image/png;base64,iVBORw0KGgoAAAANSUhEUgAAAQYAAAAYBAMAAADqsE5QAAAAMFBMVEX///+qqqq6urru7u4QEBBE\n",
       "RERUVFTc3NyIiIgyMjJmZmaYmJjMzMwiIiJ2dnYAAACPW0xlAAAAAXRSTlMAQObYZgAAAAlwSFlz\n",
       "AAAOxAAADsQBlSsOGwAAApVJREFUSMdjYCAMOAugDOadDAMF7GGME70D5gZJOEuWbnYaKaBw626+\n",
       "ocgN7PjECwuwynFMMkAVmEhZODTiEGdqABI8qSDL3v5Bk5NHckLVyhgGhs943MBzmZATGB9gEz0L\n",
       "tKQbxGBNABLcH9Ck3yIFVwDDewUmBwaeUCAIx+IGs5WfCbnBEosYc9Z8oBs4QZ7luwAkuCbgdgNb\n",
       "AQOLA0eCDUY4MG2ARRxBN6xG5mjDGP1A+7kXwNzA2wARbb17dwK6G1g+M7B952p4jOEGxgai3eCA\n",
       "zJFAdgODM8wN9QfAgprN2MLhAgPbH57VB2A5ZP4Lkt3AOAG3G2bD3LAfEvOTscUFKJg+YDWZaDdw\n",
       "gZKkXcdibG54BnNDKmp5zMCwEsWM8w2UuYETmHKY7jCcw+YGUNHPAYorD4hSRF7wRjHjGgNlbuAV\n",
       "AEb3BoYmbG4QAVn3EZjBv4PFjtwFggCQWCawlGSeC+LeBaYDrgAswXv37hXfu3cTcLsBoZ+BBWhc\n",
       "fEcfqOhde/euy9271xBuOA/O3hMhYcHAYArXfyoY2bRtDBSGA8gN33CkSRUQ66UCsJwCF4u8CF1h\n",
       "qIVcOeVx8QOHG0BZnRFoAP8GcFnK0YA1XwCTUjNlbmAFqrwH1IDNDVtB+QIYD/zKDWgVE3JZfWvV\n",
       "qgt43cAHSU7MP2EEOuBLAKV/5uVobngPyofroHmTex205A8ywHQD7////yfgcwNbys9sMOMWnECv\n",
       "1IB2cLzegRYXaf7TgHn2Eqx8gAG9WMyyGnfp10B01X0HazkJDuUL6G7AUU7iqPs3EO2GXVjrLHAe\n",
       "34DTDS3UbZWxFuCSKWXAVm2DQb0AVd3AHIBLJhxEmGANUfZl1HVEBQ5xDlAA1SUyMAAAyNK7OkwI\n",
       "2cMAAAAASUVORK5CYII=\n",
       "\" style=\"display:inline;vertical-align:middle;\" /></a> <a class=\"ProveItLink\" href=\"../../../__pv_it/_proof__fail_ineq/18e97e4a573d9964a27c6d50ff5f38986f24d31b0/proof.ipynb\" style=\"text-decoration: none\">&nbsp;&#x22A2;&nbsp;&nbsp;</a><a class=\"ProveItLink\" href=\"../../../__pv_it/_proof__fail_ineq/10b89254eab8d1f3762501619370375206218d3f0/expr.ipynb\"><img src=\"data:image/png;base64,iVBORw0KGgoAAAANSUhEUgAAAMIAAAAaBAMAAAAXop5AAAAAMFBMVEX///9UVFQiIiKIiIjMzMx2\n",
       "dnYQEBDc3NxEREQyMjLu7u5mZmaqqqq6urqYmJgAAAB66f/FAAAAAXRSTlMAQObYZgAAAAlwSFlz\n",
       "AAAOxAAADsQBlSsOGwAAAttJREFUSMetVj2IE0EUfptNsmaTrLFTvCL+IRp/osIVFhoOrJNTK5tb\n",
       "sBFB3EYULE5RuKs0sRKUM3AKWiUWB8YDuRMUrIyNhY0ngigiXhE4CN7F92az2dnZt5GAAzvsfvPm\n",
       "fW/e3yzA0JFy4D+MX0PAhgI38UmPSpBpDgHfKfg1fIwbIzI8GwJe2Xc2iFtFnL5yO3h3GjTd4VY8\n",
       "8KEs3brgwH58idXDG/QlliGLFhk2QOJwSaFG8HrrNkBXAhPwoQ5HSFsurOoNwOmOgk2gJScwbhV8\n",
       "/62sIYjenmpnbQnUyPQGTmY3RGBW0YOrQWj7I5RN1WFzG79aygYENQeStp57LDmCTE+t4DQXYkgj\n",
       "nK4q4ElksJpQJst2KWsIJrugraWL5ySj/pAqSqQX7rdElKTwFBkGuAhHye2qBxHU8qB14q/kAN3F\n",
       "HTr5bdz9fuIbRlk9XeIY5mAbhDwIAkSjgvDye7Q/SzH43E8mfY+XVQtMMF2GSZilGKo1NOv6KnBs\n",
       "q6qh9jgdt+xZaxX6FOSwrSzDD6iRF1UP1sS8I4BNOxnUbqzTa3tQ+w/cSjuAz3mW4S0UyCYSM+/t\n",
       "pCHMK4AXVLc7VYWJZL9JDI22X1I1cYpLeLo10QyEkt0+Q1mYOw7cGb4MPmPUpTYgvtpPCimm2fse\n",
       "g26zZ/golN00GYZMBa7KBdTBSPQtLQ+aUKY28NKmXJ1jeC3is5FQ1gg8BXBcxjqQWlJyCSPd57qF\n",
       "VbpS4Ri+Cw+tzytrCBqFxcW8jJ2BZdJJvvgGarZOIsMnNV+mHJHHZM9PlR3BWK/XC7SBxDGSSlPr\n",
       "eO4i837FTSD3gqJky+Ua9pKDkGwzTZcF3WvV70vmIR+OlSLkjbzbWyHcWyNGRG+1mhHy2BLjNoOz\n",
       "IHgpbDH3w0yEPF27Y9zCWBTDXnIJc2M+jZCf+cc9HfZG1D1tFFl53XEri/nXqEQfeuR/jaH/S+p4\n",
       "ScGrj6T+L5MqsWvckfBqAAAAAElFTkSuQmCC\n",
       "\" style=\"display:inline;vertical-align:middle;\" /></a></span>"
      ],
      "text/plain": [
       "{e in {2 .. 2^{t - 1} - 2}, l in {-2^{t - 1} + 1 .. -(e + 1)}} |- (l - (2^{t} * delta)) > (l - 1)"
      ]
     },
     "execution_count": 19,
     "metadata": {},
     "output_type": "execute_result"
    }
   ],
   "source": [
    "_diff_l_scaled_delta.deduce_bound(neg_scaled_delta_lower_bound,\n",
    "        assumptions=defaults.assumptions + (first_sum_conditions,))"
   ]
  },
  {
   "cell_type": "code",
   "execution_count": 20,
   "metadata": {},
   "outputs": [
    {
     "data": {
      "text/html": [
       "<strong id=\"_diff_l_scaled_delta_upper_bound\">_diff_l_scaled_delta_upper_bound:</strong> <span style=\"font-size:20px;\"><a class=\"ProveItLink\" href=\"../../../__pv_it/theorems/f67ffeb951aaff9cc5f02f3801926b572b231a930/expr.ipynb\"><img src=\"data:image/png;base64,iVBORw0KGgoAAAANSUhEUgAAAKwAAAAYBAMAAACVRAuIAAAAMFBMVEX///8QEBAyMjKqqqpUVFRE\n",
       "RESYmJjc3NzMzMwiIiK6urpmZmaIiIh2dnbu7u4AAAAMEBwRAAAAAXRSTlMAQObYZgAAAAlwSFlz\n",
       "AAAOxAAADsQBlSsOGwAAAe1JREFUSMdjYCAZMBVAGXxJDFQE72GMnpPUNNYIzrIkTSPfKjyStZNu\n",
       "4De2uACHzkPr8FmqTMC1HK4PsIoz/2NgYN+t2oApU70pgoHhH25jIbpYHbAayzuBgaGUgfcXhgR7\n",
       "AMP9BVwCDByhQBCOxViILpB+HMa6MzAIYkiwFDAwCvA4vMDpWoguVGN5ImdOghsr/4DBHyPoGf8x\n",
       "sHznPnAPp7EQXSjGcuk8QHKtJwODP0bgskxgYPnBsQ0mXqt/B00BRBfYWL47p8HmFT1ADgQgmI8t\n",
       "gDg/EEic86H6VzZwXADx1eEy3ArgdPIHm67+A/hNBeniEQDG7jcGngUgAQW4VGEC2F1Yk8kUAo4F\n",
       "6WL/DExkf87cAlsjOXPmzKkgVokWWMFWbLq4A7DkSc2ZINCA0PVEmYEf6ig+uAaOraBQZsPq2BQC\n",
       "joXourSAgR8WWIhUAc4ltgzsmHmb+QJDOV5jwbpAuZQTGF8GIJEzKNkBGI08mFm7l4HhHN4IA+vi\n",
       "BUYZmwLDa7CzmAyQja3cvXsnpHQFRiXfJ2jmnb179wR8xkJ0gRPY2TRIMPC5rkMydv7//xCzODcA\n",
       "idnQaP7//78C3kQL1oWaebmuImVeSgCeooYGxoJyCSWAG3tAgXIJJeBhAnbxamdKTK0F6gYAv0eE\n",
       "w3ELTC0AAAAASUVORK5CYII=\n",
       "\" style=\"display:inline;vertical-align:middle;\" /></a>, <a class=\"ProveItLink\" href=\"../../../__pv_it/theorems/bb8428576c5e9aef5059458d15ab082fff89783c0/expr.ipynb\"><img src=\"data:image/png;base64,iVBORw0KGgoAAAANSUhEUgAAAQYAAAAYBAMAAADqsE5QAAAAMFBMVEX///+qqqq6urru7u4QEBBE\n",
       "RERUVFTc3NyIiIgyMjJmZmaYmJjMzMwiIiJ2dnYAAACPW0xlAAAAAXRSTlMAQObYZgAAAAlwSFlz\n",
       "AAAOxAAADsQBlSsOGwAAApVJREFUSMdjYCAMOAugDOadDAMF7GGME70D5gZJOEuWbnYaKaBw626+\n",
       "ocgN7PjECwuwynFMMkAVmEhZODTiEGdqABI8qSDL3v5Bk5NHckLVyhgGhs943MBzmZATGB9gEz0L\n",
       "tKQbxGBNABLcH9Ck3yIFVwDDewUmBwaeUCAIx+IGs5WfCbnBEosYc9Z8oBs4QZ7luwAkuCbgdgNb\n",
       "AQOLA0eCDUY4MG2ARRxBN6xG5mjDGP1A+7kXwNzA2wARbb17dwK6G1g+M7B952p4jOEGxgai3eCA\n",
       "zJFAdgODM8wN9QfAgprN2MLhAgPbH57VB2A5ZP4Lkt3AOAG3G2bD3LAfEvOTscUFKJg+YDWZaDdw\n",
       "gZKkXcdibG54BnNDKmp5zMCwEsWM8w2UuYETmHKY7jCcw+YGUNHPAYorD4hSRF7wRjHjGgNlbuAV\n",
       "AEb3BoYmbG4QAVn3EZjBv4PFjtwFggCQWCawlGSeC+LeBaYDrgAswXv37hXfu3cTcLsBoZ+BBWhc\n",
       "fEcfqOhde/euy9271xBuOA/O3hMhYcHAYArXfyoY2bRtDBSGA8gN33CkSRUQ66UCsJwCF4u8CF1h\n",
       "qIVcOeVx8QOHG0BZnRFoAP8GcFnK0YA1XwCTUjNlbmAFqrwH1IDNDVtB+QIYD/zKDWgVE3JZfWvV\n",
       "qgt43cAHSU7MP2EEOuBLAKV/5uVobngPyofroHmTex205A8ywHQD7////yfgcwNbys9sMOMWnECv\n",
       "1IB2cLzegRYXaf7TgHn2Eqx8gAG9WMyyGnfp10B01X0HazkJDuUL6G7AUU7iqPs3EO2GXVjrLHAe\n",
       "34DTDS3UbZWxFuCSKWXAVm2DQb0AVd3AHIBLJhxEmGANUfZl1HVEBQ5xDlAA1SUyMAAAyNK7OkwI\n",
       "2cMAAAAASUVORK5CYII=\n",
       "\" style=\"display:inline;vertical-align:middle;\" /></a> <a class=\"ProveItLink\" href=\"../../../__pv_it/_proof__fail_ineq/59e3008e29ac02f072881df0333019d2585ec54f0/proof.ipynb\" style=\"text-decoration: none\">&nbsp;&#x22A2;&nbsp;&nbsp;</a><a class=\"ProveItLink\" href=\"../../../__pv_it/_proof__fail_ineq/4e45e68820e1fe505e9bf263163e58963a9fa1450/expr.ipynb\"><img src=\"data:image/png;base64,iVBORw0KGgoAAAANSUhEUgAAAJAAAAAaBAMAAACqQ8g1AAAAMFBMVEX///9UVFQiIiKIiIjMzMx2\n",
       "dnYQEBDc3NxEREQyMjLu7u5mZmaqqqq6urqYmJgAAAB66f/FAAAAAXRSTlMAQObYZgAAAAlwSFlz\n",
       "AAAOxAAADsQBlSsOGwAAAkVJREFUOMuVlTFM20AUhp8TJybnkGQkEgPQoaIZ6oLEwJSFGQuYWIjE\n",
       "0tFLRSWGgNSBqQ2dqypSWZgCSEgEJAQjE2FlIYDEghAMlpBQIbznS+zz5XDTJ+V8+Wz/7917784A\n",
       "kZZyoHe7i4A1CW/hz3xDJ70VAU8k/hV/xopaaDMCfhmdC/OMhcO1Wuh7FPwlMKP+2YEPOIlVVa8Y\n",
       "JYDEx2I3XK5/A3gSYALOqvAJJ/Fcl8qMC6aN13uJI8RMLDT6SwLUKJAaDkyUP/HqmnmAbAOvdUkI\n",
       "oeZAshTPbQTQCyTVxOF3AK/2uecKTJOfd5IQwuQTaI+mNR9A9pfeoJLt+WysfT9mwRilxJWEEGpD\n",
       "oLn6oZi8H+gzToud6EjPWO1ZuQh5vsKw5bmbMD4+xWj6KT8XvGxsp9m5h0leozTKLbbGF2iFWqii\n",
       "oYhOwU97cbL8kX9zAGAdL0lLElr3xuEQKztpFDGeadrgcQdCiwAF8kAlZD9HyDxnBejkle+4iueU\n",
       "omEkVONChr80/ZE7nwBVRJf+3xjtvBfQH9p1KRelZFMJ6J1VphBK27AkIOZilrhvvgKx/H25KqUJ\n",
       "XhKSEMEpgEmRuZA6ClctaMhs0/aW9fxHEkJoFA4OhkQ2C8dUO+qjG3GL0DKz55anfmtLQghjrVar\n",
       "IrLEOD1l0j7ZlnOa2cXSNxRHghLys1faa6GN3iPknSDvft/0Uq8QOj2R4ecRGwkaj2xQ9fzgW0Lv\n",
       "qa2c/z6zuyzqzE7bvcJ/fEUiv2uyUfuZyrP/Ffm9kE/ZUfn5AAAAAElFTkSuQmCC\n",
       "\" style=\"display:inline;vertical-align:middle;\" /></a></span><br>"
      ],
      "text/plain": [
       "_diff_l_scaled_delta_upper_bound: {e in {2 .. 2^{t - 1} - 2}, l in {-2^{t - 1} + 1 .. -(e + 1)}} |- (l - (2^{t} * delta)) <= l"
      ]
     },
     "execution_count": 20,
     "metadata": {},
     "output_type": "execute_result"
    }
   ],
   "source": [
    "# For the 1st Summation\n",
    "_diff_l_scaled_delta_upper_bound = _diff_l_scaled_delta.deduce_bound(\n",
    "        neg_scaled_delta_upper_bound.reversed(),\n",
    "        assumptions=defaults.assumptions + (first_sum_conditions,))"
   ]
  },
  {
   "cell_type": "code",
   "execution_count": 21,
   "metadata": {},
   "outputs": [
    {
     "data": {
      "text/html": [
       "<strong id=\"_diff_l_scaled_delta_upper_bound_2\">_diff_l_scaled_delta_upper_bound_2:</strong> <span style=\"font-size:20px;\"><a class=\"ProveItLink\" href=\"../../../__pv_it/theorems/f67ffeb951aaff9cc5f02f3801926b572b231a930/expr.ipynb\"><img src=\"data:image/png;base64,iVBORw0KGgoAAAANSUhEUgAAAKwAAAAYBAMAAACVRAuIAAAAMFBMVEX///8QEBAyMjKqqqpUVFRE\n",
       "RESYmJjc3NzMzMwiIiK6urpmZmaIiIh2dnbu7u4AAAAMEBwRAAAAAXRSTlMAQObYZgAAAAlwSFlz\n",
       "AAAOxAAADsQBlSsOGwAAAe1JREFUSMdjYCAZMBVAGXxJDFQE72GMnpPUNNYIzrIkTSPfKjyStZNu\n",
       "4De2uACHzkPr8FmqTMC1HK4PsIoz/2NgYN+t2oApU70pgoHhH25jIbpYHbAayzuBgaGUgfcXhgR7\n",
       "AMP9BVwCDByhQBCOxViILpB+HMa6MzAIYkiwFDAwCvA4vMDpWoguVGN5ImdOghsr/4DBHyPoGf8x\n",
       "sHznPnAPp7EQXSjGcuk8QHKtJwODP0bgskxgYPnBsQ0mXqt/B00BRBfYWL47p8HmFT1ADgQgmI8t\n",
       "gDg/EEic86H6VzZwXADx1eEy3ArgdPIHm67+A/hNBeniEQDG7jcGngUgAQW4VGEC2F1Yk8kUAo4F\n",
       "6WL/DExkf87cAlsjOXPmzKkgVokWWMFWbLq4A7DkSc2ZINCA0PVEmYEf6ig+uAaOraBQZsPq2BQC\n",
       "joXourSAgR8WWIhUAc4ltgzsmHmb+QJDOV5jwbpAuZQTGF8GIJEzKNkBGI08mFm7l4HhHN4IA+vi\n",
       "BUYZmwLDa7CzmAyQja3cvXsnpHQFRiXfJ2jmnb179wR8xkJ0gRPY2TRIMPC5rkMydv7//xCzODcA\n",
       "idnQaP7//78C3kQL1oWaebmuImVeSgCeooYGxoJyCSWAG3tAgXIJJeBhAnbxamdKTK0F6gYAv0eE\n",
       "w3ELTC0AAAAASUVORK5CYII=\n",
       "\" style=\"display:inline;vertical-align:middle;\" /></a>, <a class=\"ProveItLink\" href=\"../../../__pv_it/theorems/f01e5817c994f42806cb80f31cb3ebf09f18f49a0/expr.ipynb\"><img src=\"data:image/png;base64,iVBORw0KGgoAAAANSUhEUgAAAKgAAAAYBAMAAACcr6vyAAAAMFBMVEX///+qqqq6urru7u4QEBBE\n",
       "RERUVFTc3NyIiIgyMjJmZmaYmJjMzMwiIiJ2dnYAAACPW0xlAAAAAXRSTlMAQObYZgAAAAlwSFlz\n",
       "AAAOxAAADsQBlSsOGwAAAdtJREFUOMtjYKAYcBZAGcw7GagG7GGME73UM1QSzpLFo8pIgRQz626+\n",
       "QTa0sACrKo5JBiS5dCKKS3lSQbrf/kFTJI/VTJ7LWASrVsYwMHxG9T5rApDg/oCm8i02M81WfsYU\n",
       "ZA9geK/A5MDAEwoE4VBD+S4ACa4JeA3VhgUKFkPZChhYHDgSbFBcCjaUtwGiKfbuTWyGSuAxlOUz\n",
       "A9t3robHmIbWHwAxmWYYYHcpPkPZLjCw/eFZfQCWDua/gBm6HyxQaYDifeYXXQaEDQX5Ez1GIIam\n",
       "gpnTEaIrgVj3AM8Dogw934CRIh2AhAeYiYgtdm8g/s3AoUCUodcwk8RHYPr7Dk6Fvnfv3r0KFssE\n",
       "msb6o+MRiLP27l2Xu3ev4TaUKwBL6psIcS0DM0LyVDADA38CURHFwLANi9hLBWAGAMfIBYRgGNDQ\n",
       "BuIMZXzAUI4hBlTIvwEcIx0oiZ8XKCZAhKHnGBiaMWIf6HV+ZbCrOAWQDeWewGBVgGoo33do6QmM\n",
       "Uuaf0Di5tWrVBWxJinsdpNROVUZOp327G1C9z5byMxuSMBcAiVvQRPr///8JWNMpFDA9xZ9NiQZ8\n",
       "F7CJYi9QKDS0hbLaBaPUA4N6AYoMNdmATZR9GSWm1iUyMAAAMyWCGgj5uJ8AAAAASUVORK5CYII=\n",
       "\" style=\"display:inline;vertical-align:middle;\" /></a> <a class=\"ProveItLink\" href=\"../../../__pv_it/_proof__fail_ineq/03984487feca46cc21bd2172b14bb64adf88e41b0/proof.ipynb\" style=\"text-decoration: none\">&nbsp;&#x22A2;&nbsp;&nbsp;</a><a class=\"ProveItLink\" href=\"../../../__pv_it/_proof__fail_ineq/10b89254eab8d1f3762501619370375206218d3f0/expr.ipynb\"><img src=\"data:image/png;base64,iVBORw0KGgoAAAANSUhEUgAAAMIAAAAaBAMAAAAXop5AAAAAMFBMVEX///9UVFQiIiKIiIjMzMx2\n",
       "dnYQEBDc3NxEREQyMjLu7u5mZmaqqqq6urqYmJgAAAB66f/FAAAAAXRSTlMAQObYZgAAAAlwSFlz\n",
       "AAAOxAAADsQBlSsOGwAAAttJREFUSMetVj2IE0EUfptNsmaTrLFTvCL+IRp/osIVFhoOrJNTK5tb\n",
       "sBFB3EYULE5RuKs0sRKUM3AKWiUWB8YDuRMUrIyNhY0ngigiXhE4CN7F92az2dnZt5GAAzvsfvPm\n",
       "fW/e3yzA0JFy4D+MX0PAhgI38UmPSpBpDgHfKfg1fIwbIzI8GwJe2Xc2iFtFnL5yO3h3GjTd4VY8\n",
       "8KEs3brgwH58idXDG/QlliGLFhk2QOJwSaFG8HrrNkBXAhPwoQ5HSFsurOoNwOmOgk2gJScwbhV8\n",
       "/62sIYjenmpnbQnUyPQGTmY3RGBW0YOrQWj7I5RN1WFzG79aygYENQeStp57LDmCTE+t4DQXYkgj\n",
       "nK4q4ElksJpQJst2KWsIJrugraWL5ySj/pAqSqQX7rdElKTwFBkGuAhHye2qBxHU8qB14q/kAN3F\n",
       "HTr5bdz9fuIbRlk9XeIY5mAbhDwIAkSjgvDye7Q/SzH43E8mfY+XVQtMMF2GSZilGKo1NOv6KnBs\n",
       "q6qh9jgdt+xZaxX6FOSwrSzDD6iRF1UP1sS8I4BNOxnUbqzTa3tQ+w/cSjuAz3mW4S0UyCYSM+/t\n",
       "pCHMK4AXVLc7VYWJZL9JDI22X1I1cYpLeLo10QyEkt0+Q1mYOw7cGb4MPmPUpTYgvtpPCimm2fse\n",
       "g26zZ/golN00GYZMBa7KBdTBSPQtLQ+aUKY28NKmXJ1jeC3is5FQ1gg8BXBcxjqQWlJyCSPd57qF\n",
       "VbpS4Ri+Cw+tzytrCBqFxcW8jJ2BZdJJvvgGarZOIsMnNV+mHJHHZM9PlR3BWK/XC7SBxDGSSlPr\n",
       "eO4i837FTSD3gqJky+Ua9pKDkGwzTZcF3WvV70vmIR+OlSLkjbzbWyHcWyNGRG+1mhHy2BLjNoOz\n",
       "IHgpbDH3w0yEPF27Y9zCWBTDXnIJc2M+jZCf+cc9HfZG1D1tFFl53XEri/nXqEQfeuR/jaH/S+p4\n",
       "ScGrj6T+L5MqsWvckfBqAAAAAElFTkSuQmCC\n",
       "\" style=\"display:inline;vertical-align:middle;\" /></a></span><br>"
      ],
      "text/plain": [
       "_diff_l_scaled_delta_upper_bound_2: {e in {2 .. 2^{t - 1} - 2}, l in {e + 1 .. 2^{t - 1}}} |- (l - (2^{t} * delta)) > (l - 1)"
      ]
     },
     "execution_count": 21,
     "metadata": {},
     "output_type": "execute_result"
    }
   ],
   "source": [
    "# For the 2nd Summation\n",
    "_diff_l_scaled_delta_upper_bound_2 = _diff_l_scaled_delta.deduce_bound(\n",
    "        neg_scaled_delta_lower_bound,\n",
    "        assumptions=defaults.assumptions + (second_sum_conditions,))"
   ]
  },
  {
   "cell_type": "markdown",
   "metadata": {},
   "source": [
    "Also need to demonstrate that we have:\n",
    "\n",
    "(1) For the 1st Summation: $\\ell < 0$ and $\\ell^2 \\in \\mathbb{R}^{+}$\n",
    "\n",
    "(2) For the 2nd Summation: $\\ell - 1 > 0$ and $\\ell^2 \\in \\mathbb{R}^{+}$"
   ]
  },
  {
   "cell_type": "code",
   "execution_count": 22,
   "metadata": {},
   "outputs": [
    {
     "data": {
      "text/html": [
       "<strong id=\"e_greater_eq_one\">e_greater_eq_one:</strong> <span style=\"font-size:20px;\"><a class=\"ProveItLink\" href=\"../../../__pv_it/theorems/f67ffeb951aaff9cc5f02f3801926b572b231a930/expr.ipynb\"><img src=\"data:image/png;base64,iVBORw0KGgoAAAANSUhEUgAAAKwAAAAYBAMAAACVRAuIAAAAMFBMVEX///8QEBAyMjKqqqpUVFRE\n",
       "RESYmJjc3NzMzMwiIiK6urpmZmaIiIh2dnbu7u4AAAAMEBwRAAAAAXRSTlMAQObYZgAAAAlwSFlz\n",
       "AAAOxAAADsQBlSsOGwAAAe1JREFUSMdjYCAZMBVAGXxJDFQE72GMnpPUNNYIzrIkTSPfKjyStZNu\n",
       "4De2uACHzkPr8FmqTMC1HK4PsIoz/2NgYN+t2oApU70pgoHhH25jIbpYHbAayzuBgaGUgfcXhgR7\n",
       "AMP9BVwCDByhQBCOxViILpB+HMa6MzAIYkiwFDAwCvA4vMDpWoguVGN5ImdOghsr/4DBHyPoGf8x\n",
       "sHznPnAPp7EQXSjGcuk8QHKtJwODP0bgskxgYPnBsQ0mXqt/B00BRBfYWL47p8HmFT1ADgQgmI8t\n",
       "gDg/EEic86H6VzZwXADx1eEy3ArgdPIHm67+A/hNBeniEQDG7jcGngUgAQW4VGEC2F1Yk8kUAo4F\n",
       "6WL/DExkf87cAlsjOXPmzKkgVokWWMFWbLq4A7DkSc2ZINCA0PVEmYEf6ig+uAaOraBQZsPq2BQC\n",
       "joXourSAgR8WWIhUAc4ltgzsmHmb+QJDOV5jwbpAuZQTGF8GIJEzKNkBGI08mFm7l4HhHN4IA+vi\n",
       "BUYZmwLDa7CzmAyQja3cvXsnpHQFRiXfJ2jmnb179wR8xkJ0gRPY2TRIMPC5rkMydv7//xCzODcA\n",
       "idnQaP7//78C3kQL1oWaebmuImVeSgCeooYGxoJyCSWAG3tAgXIJJeBhAnbxamdKTK0F6gYAv0eE\n",
       "w3ELTC0AAAAASUVORK5CYII=\n",
       "\" style=\"display:inline;vertical-align:middle;\" /></a> <a class=\"ProveItLink\" href=\"../../../__pv_it/_proof__fail_ineq/324cefcb3297c4ebd033657ab8534a43b8a856ad0/proof.ipynb\" style=\"text-decoration: none\">&nbsp;&#x22A2;&nbsp;&nbsp;</a><a class=\"ProveItLink\" href=\"../../../__pv_it/_proof__fail_ineq/c0a6f74b25992685041de600e5936dfbf7adfacf0/expr.ipynb\"><img src=\"data:image/png;base64,iVBORw0KGgoAAAANSUhEUgAAAC4AAAARBAMAAABQu4N8AAAAMFBMVEX///8QEBAyMjKqqqpUVFRE\n",
       "RESYmJjc3NzMzMwiIiK6urpmZmaIiIh2dnbu7u4AAAAMEBwRAAAAAXRSTlMAQObYZgAAAAlwSFlz\n",
       "AAAOxAAADsQBlSsOGwAAAIdJREFUGNNjYMACOOYh2I8S4Mwnm/4hxPluHoCzef4h6z55D7s4Q+Y9\n",
       "ZHG+O6cfQPlG25HEVzZwXIDpWOQHF2f/xsCzAC4eBxdn/XPmFkzYyB1hDr8Dwt59SPbyH8DuTk6g\n",
       "pQZY/MWmwPC6ADUcGHi/A4mzaQfQgo3F8ZMbA7ng5UwQmAHjAgBvSjH/wNk9MgAAAABJRU5ErkJg\n",
       "gg==\n",
       "\" style=\"display:inline;vertical-align:middle;\" /></a></span><br>"
      ],
      "text/plain": [
       "e_greater_eq_one: {e in {2 .. 2^{t - 1} - 2}} |- e >= 1"
      ]
     },
     "execution_count": 22,
     "metadata": {},
     "output_type": "execute_result"
    }
   ],
   "source": [
    "e_greater_eq_one = greater_eq(e, one).prove()"
   ]
  },
  {
   "cell_type": "code",
   "execution_count": 23,
   "metadata": {},
   "outputs": [
    {
     "data": {
      "text/html": [
       "<strong id=\"e_plus_one_greater_eq_two\">e_plus_one_greater_eq_two:</strong> <span style=\"font-size:20px;\"><a class=\"ProveItLink\" href=\"../../../__pv_it/theorems/f67ffeb951aaff9cc5f02f3801926b572b231a930/expr.ipynb\"><img src=\"data:image/png;base64,iVBORw0KGgoAAAANSUhEUgAAAKwAAAAYBAMAAACVRAuIAAAAMFBMVEX///8QEBAyMjKqqqpUVFRE\n",
       "RESYmJjc3NzMzMwiIiK6urpmZmaIiIh2dnbu7u4AAAAMEBwRAAAAAXRSTlMAQObYZgAAAAlwSFlz\n",
       "AAAOxAAADsQBlSsOGwAAAe1JREFUSMdjYCAZMBVAGXxJDFQE72GMnpPUNNYIzrIkTSPfKjyStZNu\n",
       "4De2uACHzkPr8FmqTMC1HK4PsIoz/2NgYN+t2oApU70pgoHhH25jIbpYHbAayzuBgaGUgfcXhgR7\n",
       "AMP9BVwCDByhQBCOxViILpB+HMa6MzAIYkiwFDAwCvA4vMDpWoguVGN5ImdOghsr/4DBHyPoGf8x\n",
       "sHznPnAPp7EQXSjGcuk8QHKtJwODP0bgskxgYPnBsQ0mXqt/B00BRBfYWL47p8HmFT1ADgQgmI8t\n",
       "gDg/EEic86H6VzZwXADx1eEy3ArgdPIHm67+A/hNBeniEQDG7jcGngUgAQW4VGEC2F1Yk8kUAo4F\n",
       "6WL/DExkf87cAlsjOXPmzKkgVokWWMFWbLq4A7DkSc2ZINCA0PVEmYEf6ig+uAaOraBQZsPq2BQC\n",
       "joXourSAgR8WWIhUAc4ltgzsmHmb+QJDOV5jwbpAuZQTGF8GIJEzKNkBGI08mFm7l4HhHN4IA+vi\n",
       "BUYZmwLDa7CzmAyQja3cvXsnpHQFRiXfJ2jmnb179wR8xkJ0gRPY2TRIMPC5rkMydv7//xCzODcA\n",
       "idnQaP7//78C3kQL1oWaebmuImVeSgCeooYGxoJyCSWAG3tAgXIJJeBhAnbxamdKTK0F6gYAv0eE\n",
       "w3ELTC0AAAAASUVORK5CYII=\n",
       "\" style=\"display:inline;vertical-align:middle;\" /></a> <a class=\"ProveItLink\" href=\"../../../__pv_it/_proof__fail_ineq/a8168217a43ed236cd6d3ac33ac6db0b393d91740/proof.ipynb\" style=\"text-decoration: none\">&nbsp;&#x22A2;&nbsp;&nbsp;</a><a class=\"ProveItLink\" href=\"../../../__pv_it/_proof__fail_ineq/d2d5a90cb2b7e254c200cb65bd6b3a6b1bcbda130/expr.ipynb\"><img src=\"data:image/png;base64,iVBORw0KGgoAAAANSUhEUgAAAGEAAAAVBAMAAACkm51HAAAAMFBMVEX////MzMxUVFRERES6uroi\n",
       "IiIQEBCYmJhmZmYyMjLu7u52dnaqqqqIiIjc3NwAAACW8nlqAAAAAXRSTlMAQObYZgAAAAlwSFlz\n",
       "AAAOxAAADsQBlSsOGwAAAWRJREFUOMtjYGB4wIAd4BJn4D2AQ8IXl47T2AQZo4BGFaCL8nVMFmBg\n",
       "4JqARcOizl9AchaYvRKh8TED9xcGBg5kk1hgHF6Qjgowk2vrBZi0HgNDGgMDG7LZPBeQdbAtgHCu\n",
       "7oKK5i9g0H/AcBK3Dk6YjaVQLaoMDPoCDN0gi/feWIBFB7cCzKSTfTBWPAPDdCDlKsC4AYsOdkSg\n",
       "eGpBw/AvA0MMMNC+M/A6YNHBk4DQYQWhWYHWpjAwMP+9uwXI4wgNDUsNDVWA62D8AHeVHpTRzADW\n",
       "wa+A3ecsMDtKu6AMdpBKoKv4L2DXwROAFrrA9MH3gMEW6Digtw9g87kBWgwCw4d3AcMmcJiseICq\n",
       "g/sfyGMb0FLJ046OVgYGUSDrdvkFVFcxqf1UB9rtgJbc4v///wkUFsAW5xAjsSd29gZsKREM2nHk\n",
       "DztcGYcP7HGGpaEgEIgksRiXDmZc2ZbvAg6Je9iFAW1WYQ0YQ1WDAAAAAElFTkSuQmCC\n",
       "\" style=\"display:inline;vertical-align:middle;\" /></a></span><br>"
      ],
      "text/plain": [
       "e_plus_one_greater_eq_two: {e in {2 .. 2^{t - 1} - 2}} |- (e + 1) >= 2"
      ]
     },
     "execution_count": 23,
     "metadata": {},
     "output_type": "execute_result"
    }
   ],
   "source": [
    "e_plus_one_greater_eq_two = e_greater_eq_one.right_add_both_sides(one)"
   ]
  },
  {
   "cell_type": "code",
   "execution_count": 24,
   "metadata": {},
   "outputs": [
    {
     "data": {
      "text/html": [
       "<strong id=\"neg_e_plus_one_less_eq_neg_two\">neg_e_plus_one_less_eq_neg_two:</strong> <span style=\"font-size:20px;\"><a class=\"ProveItLink\" href=\"../../../__pv_it/theorems/f67ffeb951aaff9cc5f02f3801926b572b231a930/expr.ipynb\"><img src=\"data:image/png;base64,iVBORw0KGgoAAAANSUhEUgAAAKwAAAAYBAMAAACVRAuIAAAAMFBMVEX///8QEBAyMjKqqqpUVFRE\n",
       "RESYmJjc3NzMzMwiIiK6urpmZmaIiIh2dnbu7u4AAAAMEBwRAAAAAXRSTlMAQObYZgAAAAlwSFlz\n",
       "AAAOxAAADsQBlSsOGwAAAe1JREFUSMdjYCAZMBVAGXxJDFQE72GMnpPUNNYIzrIkTSPfKjyStZNu\n",
       "4De2uACHzkPr8FmqTMC1HK4PsIoz/2NgYN+t2oApU70pgoHhH25jIbpYHbAayzuBgaGUgfcXhgR7\n",
       "AMP9BVwCDByhQBCOxViILpB+HMa6MzAIYkiwFDAwCvA4vMDpWoguVGN5ImdOghsr/4DBHyPoGf8x\n",
       "sHznPnAPp7EQXSjGcuk8QHKtJwODP0bgskxgYPnBsQ0mXqt/B00BRBfYWL47p8HmFT1ADgQgmI8t\n",
       "gDg/EEic86H6VzZwXADx1eEy3ArgdPIHm67+A/hNBeniEQDG7jcGngUgAQW4VGEC2F1Yk8kUAo4F\n",
       "6WL/DExkf87cAlsjOXPmzKkgVokWWMFWbLq4A7DkSc2ZINCA0PVEmYEf6ig+uAaOraBQZsPq2BQC\n",
       "joXourSAgR8WWIhUAc4ltgzsmHmb+QJDOV5jwbpAuZQTGF8GIJEzKNkBGI08mFm7l4HhHN4IA+vi\n",
       "BUYZmwLDa7CzmAyQja3cvXsnpHQFRiXfJ2jmnb179wR8xkJ0gRPY2TRIMPC5rkMydv7//xCzODcA\n",
       "idnQaP7//78C3kQL1oWaebmuImVeSgCeooYGxoJyCSWAG3tAgXIJJeBhAnbxamdKTK0F6gYAv0eE\n",
       "w3ELTC0AAAAASUVORK5CYII=\n",
       "\" style=\"display:inline;vertical-align:middle;\" /></a> <a class=\"ProveItLink\" href=\"../../../__pv_it/_proof__fail_ineq/4048538cd7e371a3b8fac5e1024b721d5e329f100/proof.ipynb\" style=\"text-decoration: none\">&nbsp;&#x22A2;&nbsp;&nbsp;</a><a class=\"ProveItLink\" href=\"../../../__pv_it/_proof__fail_ineq/5a9a8058e776c22b15923b752334d975689460a70/expr.ipynb\"><img src=\"data:image/png;base64,iVBORw0KGgoAAAANSUhEUgAAAKMAAAAVBAMAAADY0UPbAAAAMFBMVEX////MzMxUVFRERES6uroi\n",
       "IiIQEBCYmJhmZmYyMjLu7u52dnaqqqqIiIjc3NwAAACW8nlqAAAAAXRSTlMAQObYZgAAAAlwSFlz\n",
       "AAAOxAAADsQBlSsOGwAAAgxJREFUOMt1VU1LG1EUvTFfNZmMs+l+Nm13NX9AyaZLQRfTln7QLGy3\n",
       "dVeXgogRN4oUoRQZFEHpJki3BbeSTZaFahkoBTdCF4Viwdr73n2ZeWfm5cBJcm7OO/Pe3JsJESVk\n",
       "AxXWXd/5RRu1Tu0SKgtzhnmcF200gNLAFVd6xtdaEubg9bP99nYCbWls2Q5UBvsbf/n1g+Eoa0+/\n",
       "HWeVH9T8rS134MqgKiPRUpHLhoL601i/r2f2h0RvtKUGGwLlDe3IWiyUynPzqZvZ38Y0nSjLGUSe\n",
       "jY+cXBIqfHo5slg36h7RdKAsmxCpVOPL19gR2QyFjKMn6Y3qw/JX2rILNaUeBaW+I7K+JeR2fUz9\n",
       "k9CJ0o22vIBIVv4fanUckV5XSDSRRVZhjKuhtizySd9HCgEXWZVvLj6rI0XR49dRFKaRpV9CxmV6\n",
       "8Bpf/FivXmC1KrZF2CWrqdDdnkpXCO2pdazF9VBshYNPDd2R3rwQhggOPiA/UZYZiGRV5d6cutrT\n",
       "FsKol4dWc/rUipXlBCJPdMuOEoxs/jPzYs2Mt02UTpXGz15vTVvuQqRS394N8eAT968f8O47Qnyg\n",
       "zFtDeXt7rS3VAMYgcP16ZBOGiIV8gS31FbsAqgJzvI4PCYPlfEFZZqEyO+YJTH5byDhMB5H7kxRt\n",
       "dAClg3GRam25+E/RaBdt5MMdQ2Xhu2EeVwXbfzsbj+4h3/5MAAAAAElFTkSuQmCC\n",
       "\" style=\"display:inline;vertical-align:middle;\" /></a></span><br>"
      ],
      "text/plain": [
       "neg_e_plus_one_less_eq_neg_two: {e in {2 .. 2^{t - 1} - 2}} |- (-(e + 1)) <= (-2)"
      ]
     },
     "execution_count": 24,
     "metadata": {},
     "output_type": "execute_result"
    }
   ],
   "source": [
    "neg_e_plus_one_less_eq_neg_two = Neg(Add(e, one)).bound_via_operand_bound(e_plus_one_greater_eq_two)"
   ]
  },
  {
   "cell_type": "code",
   "execution_count": 25,
   "metadata": {},
   "outputs": [
    {
     "data": {
      "text/html": [
       "<strong id=\"ell_upper_bound\">ell_upper_bound:</strong> <span style=\"font-size:20px;\"><a class=\"ProveItLink\" href=\"../../../__pv_it/theorems/f67ffeb951aaff9cc5f02f3801926b572b231a930/expr.ipynb\"><img src=\"data:image/png;base64,iVBORw0KGgoAAAANSUhEUgAAAKwAAAAYBAMAAACVRAuIAAAAMFBMVEX///8QEBAyMjKqqqpUVFRE\n",
       "RESYmJjc3NzMzMwiIiK6urpmZmaIiIh2dnbu7u4AAAAMEBwRAAAAAXRSTlMAQObYZgAAAAlwSFlz\n",
       "AAAOxAAADsQBlSsOGwAAAe1JREFUSMdjYCAZMBVAGXxJDFQE72GMnpPUNNYIzrIkTSPfKjyStZNu\n",
       "4De2uACHzkPr8FmqTMC1HK4PsIoz/2NgYN+t2oApU70pgoHhH25jIbpYHbAayzuBgaGUgfcXhgR7\n",
       "AMP9BVwCDByhQBCOxViILpB+HMa6MzAIYkiwFDAwCvA4vMDpWoguVGN5ImdOghsr/4DBHyPoGf8x\n",
       "sHznPnAPp7EQXSjGcuk8QHKtJwODP0bgskxgYPnBsQ0mXqt/B00BRBfYWL47p8HmFT1ADgQgmI8t\n",
       "gDg/EEic86H6VzZwXADx1eEy3ArgdPIHm67+A/hNBeniEQDG7jcGngUgAQW4VGEC2F1Yk8kUAo4F\n",
       "6WL/DExkf87cAlsjOXPmzKkgVokWWMFWbLq4A7DkSc2ZINCA0PVEmYEf6ig+uAaOraBQZsPq2BQC\n",
       "joXourSAgR8WWIhUAc4ltgzsmHmb+QJDOV5jwbpAuZQTGF8GIJEzKNkBGI08mFm7l4HhHN4IA+vi\n",
       "BUYZmwLDa7CzmAyQja3cvXsnpHQFRiXfJ2jmnb179wR8xkJ0gRPY2TRIMPC5rkMydv7//xCzODcA\n",
       "idnQaP7//78C3kQL1oWaebmuImVeSgCeooYGxoJyCSWAG3tAgXIJJeBhAnbxamdKTK0F6gYAv0eE\n",
       "w3ELTC0AAAAASUVORK5CYII=\n",
       "\" style=\"display:inline;vertical-align:middle;\" /></a>, <a class=\"ProveItLink\" href=\"../../../__pv_it/theorems/bb8428576c5e9aef5059458d15ab082fff89783c0/expr.ipynb\"><img src=\"data:image/png;base64,iVBORw0KGgoAAAANSUhEUgAAAQYAAAAYBAMAAADqsE5QAAAAMFBMVEX///+qqqq6urru7u4QEBBE\n",
       "RERUVFTc3NyIiIgyMjJmZmaYmJjMzMwiIiJ2dnYAAACPW0xlAAAAAXRSTlMAQObYZgAAAAlwSFlz\n",
       "AAAOxAAADsQBlSsOGwAAApVJREFUSMdjYCAMOAugDOadDAMF7GGME70D5gZJOEuWbnYaKaBw626+\n",
       "ocgN7PjECwuwynFMMkAVmEhZODTiEGdqABI8qSDL3v5Bk5NHckLVyhgGhs943MBzmZATGB9gEz0L\n",
       "tKQbxGBNABLcH9Ck3yIFVwDDewUmBwaeUCAIx+IGs5WfCbnBEosYc9Z8oBs4QZ7luwAkuCbgdgNb\n",
       "AQOLA0eCDUY4MG2ARRxBN6xG5mjDGP1A+7kXwNzA2wARbb17dwK6G1g+M7B952p4jOEGxgai3eCA\n",
       "zJFAdgODM8wN9QfAgprN2MLhAgPbH57VB2A5ZP4Lkt3AOAG3G2bD3LAfEvOTscUFKJg+YDWZaDdw\n",
       "gZKkXcdibG54BnNDKmp5zMCwEsWM8w2UuYETmHKY7jCcw+YGUNHPAYorD4hSRF7wRjHjGgNlbuAV\n",
       "AEb3BoYmbG4QAVn3EZjBv4PFjtwFggCQWCawlGSeC+LeBaYDrgAswXv37hXfu3cTcLsBoZ+BBWhc\n",
       "fEcfqOhde/euy9271xBuOA/O3hMhYcHAYArXfyoY2bRtDBSGA8gN33CkSRUQ66UCsJwCF4u8CF1h\n",
       "qIVcOeVx8QOHG0BZnRFoAP8GcFnK0YA1XwCTUjNlbmAFqrwH1IDNDVtB+QIYD/zKDWgVE3JZfWvV\n",
       "qgt43cAHSU7MP2EEOuBLAKV/5uVobngPyofroHmTex205A8ywHQD7////yfgcwNbys9sMOMWnECv\n",
       "1IB2cLzegRYXaf7TgHn2Eqx8gAG9WMyyGnfp10B01X0HazkJDuUL6G7AUU7iqPs3EO2GXVjrLHAe\n",
       "34DTDS3UbZWxFuCSKWXAVm2DQb0AVd3AHIBLJhxEmGANUfZl1HVEBQ5xDlAA1SUyMAAAyNK7OkwI\n",
       "2cMAAAAASUVORK5CYII=\n",
       "\" style=\"display:inline;vertical-align:middle;\" /></a> <a class=\"ProveItLink\" href=\"../../../__pv_it/_proof__fail_ineq/f2505fce59e7ad62527c2a3fc7a1856ea84767c40/proof.ipynb\" style=\"text-decoration: none\">&nbsp;&#x22A2;&nbsp;&nbsp;</a><a class=\"ProveItLink\" href=\"../../../__pv_it/_proof__fail_ineq/00b40a66b98546cce6225d23810b2d8b64e09b730/expr.ipynb\"><img src=\"data:image/png;base64,iVBORw0KGgoAAAANSUhEUgAAAIEAAAAVBAMAAACTeZA2AAAAMFBMVEX///+qqqq6urru7u4QEBBE\n",
       "RERUVFTc3NyIiIgyMjJmZmaYmJjMzMwiIiJ2dnYAAACPW0xlAAAAAXRSTlMAQObYZgAAAAlwSFlz\n",
       "AAAOxAAADsQBlSsOGwAAAYpJREFUOMtjYMACCvDwUMVxyHEI4OYhAQ0oZnj7B11KDg8PCnguA43e\n",
       "AMEM3B/g4pJgRzFPQFaLyoMCs5WfgeRkKOaCK9m7GExxbUBWjMJjgnE4QCbsgmLeBqho72MIzYJi\n",
       "HQqPsQHZBBYDCK4/AHHtW5isJIoJkrhN4NwAwfshBqyFu3YdigkgHvOLLgMsJvAlQHAq2IBMRJzN\n",
       "RjEBxNM9wPMAiwncEyDYAyyEZMJFFBOAPPbfDBwKWExgdABjnu9gIXaEL5yATpp7FwQOQHisPzoe\n",
       "gWLl7t0rvnfvJsBN4PkAxhwODGgh6YTiBiCPPwF7SDI5gDFrggFabGL4gr8BuwmMF8CYf8MDtBQV\n",
       "gWICkMcLVCGALSQDwJhfuQER9+Ck8QzFhGfg8LYqQDWBDxR6XA/AmHsdeqI/i8Hr292A6gu2lJ/Z\n",
       "QLcpQDAG4D2Ak8fYgCxVC8UYgHsBTh4TSqZbDcWQuLwLTwAMDOEoBobjKGAY2AMgGAswxcNDAqwF\n",
       "EIzN8AbcPCTQDsEAraF2APgsxGYAAAAASUVORK5CYII=\n",
       "\" style=\"display:inline;vertical-align:middle;\" /></a></span><br>"
      ],
      "text/plain": [
       "ell_upper_bound: {e in {2 .. 2^{t - 1} - 2}, l in {-2^{t - 1} + 1 .. -(e + 1)}} |- l <= (-(e + 1))"
      ]
     },
     "execution_count": 25,
     "metadata": {},
     "output_type": "execute_result"
    }
   ],
   "source": [
    "ell_upper_bound = first_sum_conditions.derive_element_upper_bound(assumptions=defaults.assumptions + (first_sum_conditions,))"
   ]
  },
  {
   "cell_type": "code",
   "execution_count": 26,
   "metadata": {},
   "outputs": [
    {
     "data": {
      "text/html": [
       "<strong id=\"ell_lower_bound_02\">ell_lower_bound_02:</strong> <span style=\"font-size:20px;\"><a class=\"ProveItLink\" href=\"../../../__pv_it/theorems/f67ffeb951aaff9cc5f02f3801926b572b231a930/expr.ipynb\"><img src=\"data:image/png;base64,iVBORw0KGgoAAAANSUhEUgAAAKwAAAAYBAMAAACVRAuIAAAAMFBMVEX///8QEBAyMjKqqqpUVFRE\n",
       "RESYmJjc3NzMzMwiIiK6urpmZmaIiIh2dnbu7u4AAAAMEBwRAAAAAXRSTlMAQObYZgAAAAlwSFlz\n",
       "AAAOxAAADsQBlSsOGwAAAe1JREFUSMdjYCAZMBVAGXxJDFQE72GMnpPUNNYIzrIkTSPfKjyStZNu\n",
       "4De2uACHzkPr8FmqTMC1HK4PsIoz/2NgYN+t2oApU70pgoHhH25jIbpYHbAayzuBgaGUgfcXhgR7\n",
       "AMP9BVwCDByhQBCOxViILpB+HMa6MzAIYkiwFDAwCvA4vMDpWoguVGN5ImdOghsr/4DBHyPoGf8x\n",
       "sHznPnAPp7EQXSjGcuk8QHKtJwODP0bgskxgYPnBsQ0mXqt/B00BRBfYWL47p8HmFT1ADgQgmI8t\n",
       "gDg/EEic86H6VzZwXADx1eEy3ArgdPIHm67+A/hNBeniEQDG7jcGngUgAQW4VGEC2F1Yk8kUAo4F\n",
       "6WL/DExkf87cAlsjOXPmzKkgVokWWMFWbLq4A7DkSc2ZINCA0PVEmYEf6ig+uAaOraBQZsPq2BQC\n",
       "joXourSAgR8WWIhUAc4ltgzsmHmb+QJDOV5jwbpAuZQTGF8GIJEzKNkBGI08mFm7l4HhHN4IA+vi\n",
       "BUYZmwLDa7CzmAyQja3cvXsnpHQFRiXfJ2jmnb179wR8xkJ0gRPY2TRIMPC5rkMydv7//xCzODcA\n",
       "idnQaP7//78C3kQL1oWaebmuImVeSgCeooYGxoJyCSWAG3tAgXIJJeBhAnbxamdKTK0F6gYAv0eE\n",
       "w3ELTC0AAAAASUVORK5CYII=\n",
       "\" style=\"display:inline;vertical-align:middle;\" /></a>, <a class=\"ProveItLink\" href=\"../../../__pv_it/theorems/f01e5817c994f42806cb80f31cb3ebf09f18f49a0/expr.ipynb\"><img src=\"data:image/png;base64,iVBORw0KGgoAAAANSUhEUgAAAKgAAAAYBAMAAACcr6vyAAAAMFBMVEX///+qqqq6urru7u4QEBBE\n",
       "RERUVFTc3NyIiIgyMjJmZmaYmJjMzMwiIiJ2dnYAAACPW0xlAAAAAXRSTlMAQObYZgAAAAlwSFlz\n",
       "AAAOxAAADsQBlSsOGwAAAdtJREFUOMtjYKAYcBZAGcw7GagG7GGME73UM1QSzpLFo8pIgRQz626+\n",
       "QTa0sACrKo5JBiS5dCKKS3lSQbrf/kFTJI/VTJ7LWASrVsYwMHxG9T5rApDg/oCm8i02M81WfsYU\n",
       "ZA9geK/A5MDAEwoE4VBD+S4ACa4JeA3VhgUKFkPZChhYHDgSbFBcCjaUtwGiKfbuTWyGSuAxlOUz\n",
       "A9t3robHmIbWHwAxmWYYYHcpPkPZLjCw/eFZfQCWDua/gBm6HyxQaYDifeYXXQaEDQX5Ez1GIIam\n",
       "gpnTEaIrgVj3AM8Dogw934CRIh2AhAeYiYgtdm8g/s3AoUCUodcwk8RHYPr7Dk6Fvnfv3r0KFssE\n",
       "msb6o+MRiLP27l2Xu3ev4TaUKwBL6psIcS0DM0LyVDADA38CURHFwLANi9hLBWAGAMfIBYRgGNDQ\n",
       "BuIMZXzAUI4hBlTIvwEcIx0oiZ8XKCZAhKHnGBiaMWIf6HV+ZbCrOAWQDeWewGBVgGoo33do6QmM\n",
       "Uuaf0Di5tWrVBWxJinsdpNROVUZOp327G1C9z5byMxuSMBcAiVvQRPr///8JWNMpFDA9xZ9NiQZ8\n",
       "F7CJYi9QKDS0hbLaBaPUA4N6AYoMNdmATZR9GSWm1iUyMAAAMyWCGgj5uJ8AAAAASUVORK5CYII=\n",
       "\" style=\"display:inline;vertical-align:middle;\" /></a> <a class=\"ProveItLink\" href=\"../../../__pv_it/_proof__fail_ineq/62a900d7fd1eaec36cf92a7711f6cba9435df3bf0/proof.ipynb\" style=\"text-decoration: none\">&nbsp;&#x22A2;&nbsp;&nbsp;</a><a class=\"ProveItLink\" href=\"../../../__pv_it/_proof__fail_ineq/f0c2092a2ee576e7f433cef4e612c988e19ccde60/expr.ipynb\"><img src=\"data:image/png;base64,iVBORw0KGgoAAAANSUhEUgAAAF0AAAAVBAMAAADWVP/xAAAAMFBMVEX////MzMxUVFRERES6uroi\n",
       "IiIQEBCYmJhmZmYyMjLu7u52dnaqqqqIiIjc3NwAAACW8nlqAAAAAXRSTlMAQObYZgAAAAlwSFlz\n",
       "AAAOxAAADsQBlSsOGwAAAVBJREFUKM9jYGB4wIAd4BDnPYBDvS924dPYBBmjgAYVoItyxwswcE3A\n",
       "onxR5y8gOQshwDMPTNUzMHAgm8IC4/CC1FfAxdkjFoDpTgYGNmRzeS4gq2dbAONFQ1mxDAwncavn\n",
       "hNq2OhYqyveRgaEbSHPtvbEAi3puBTB7RTjcWR8YGKYDaVcBxg1Y1LODg2LRHLj1TAYMDDFAa74z\n",
       "8DpgUc+TAFaEUM8GlE5hYGD+e3cLkMcRGhqWGhqqAFfP+AGs6gXcPfIPwOr5FbD7lyUBzb/XGMDu\n",
       "4b+AXT1PAFp4GnExMNgyMLACPXsAm38N0OLrOzcDwyZwOKx4gKqe+x/IQxsQETMRRH5Zy8AgCqRv\n",
       "l19AdQ+T2k91oL0OaMmqAmgAqwC2+AWDp9hSLnsDtvQGBu1Y078djuzCwAfx7tJQEAiECy/GpZ4Z\n",
       "e4bku4BD/T1sggCaBVghRyIeGwAAAABJRU5ErkJggg==\n",
       "\" style=\"display:inline;vertical-align:middle;\" /></a></span><br>"
      ],
      "text/plain": [
       "ell_lower_bound_02: {e in {2 .. 2^{t - 1} - 2}, l in {e + 1 .. 2^{t - 1}}} |- (e + 1) <= l"
      ]
     },
     "execution_count": 26,
     "metadata": {},
     "output_type": "execute_result"
    }
   ],
   "source": [
    "# For 2nd Summation\n",
    "ell_lower_bound_02 = second_sum_conditions.derive_element_lower_bound(\n",
    "        assumptions = defaults.assumptions + (second_sum_conditions, ))"
   ]
  },
  {
   "cell_type": "code",
   "execution_count": 27,
   "metadata": {},
   "outputs": [
    {
     "data": {
      "text/html": [
       "<strong id=\"ell_upper_bound_neg_two\">ell_upper_bound_neg_two:</strong> <span style=\"font-size:20px;\"><a class=\"ProveItLink\" href=\"../../../__pv_it/theorems/f67ffeb951aaff9cc5f02f3801926b572b231a930/expr.ipynb\"><img src=\"data:image/png;base64,iVBORw0KGgoAAAANSUhEUgAAAKwAAAAYBAMAAACVRAuIAAAAMFBMVEX///8QEBAyMjKqqqpUVFRE\n",
       "RESYmJjc3NzMzMwiIiK6urpmZmaIiIh2dnbu7u4AAAAMEBwRAAAAAXRSTlMAQObYZgAAAAlwSFlz\n",
       "AAAOxAAADsQBlSsOGwAAAe1JREFUSMdjYCAZMBVAGXxJDFQE72GMnpPUNNYIzrIkTSPfKjyStZNu\n",
       "4De2uACHzkPr8FmqTMC1HK4PsIoz/2NgYN+t2oApU70pgoHhH25jIbpYHbAayzuBgaGUgfcXhgR7\n",
       "AMP9BVwCDByhQBCOxViILpB+HMa6MzAIYkiwFDAwCvA4vMDpWoguVGN5ImdOghsr/4DBHyPoGf8x\n",
       "sHznPnAPp7EQXSjGcuk8QHKtJwODP0bgskxgYPnBsQ0mXqt/B00BRBfYWL47p8HmFT1ADgQgmI8t\n",
       "gDg/EEic86H6VzZwXADx1eEy3ArgdPIHm67+A/hNBeniEQDG7jcGngUgAQW4VGEC2F1Yk8kUAo4F\n",
       "6WL/DExkf87cAlsjOXPmzKkgVokWWMFWbLq4A7DkSc2ZINCA0PVEmYEf6ig+uAaOraBQZsPq2BQC\n",
       "joXourSAgR8WWIhUAc4ltgzsmHmb+QJDOV5jwbpAuZQTGF8GIJEzKNkBGI08mFm7l4HhHN4IA+vi\n",
       "BUYZmwLDa7CzmAyQja3cvXsnpHQFRiXfJ2jmnb179wR8xkJ0gRPY2TRIMPC5rkMydv7//xCzODcA\n",
       "idnQaP7//78C3kQL1oWaebmuImVeSgCeooYGxoJyCSWAG3tAgXIJJeBhAnbxamdKTK0F6gYAv0eE\n",
       "w3ELTC0AAAAASUVORK5CYII=\n",
       "\" style=\"display:inline;vertical-align:middle;\" /></a>, <a class=\"ProveItLink\" href=\"../../../__pv_it/theorems/bb8428576c5e9aef5059458d15ab082fff89783c0/expr.ipynb\"><img src=\"data:image/png;base64,iVBORw0KGgoAAAANSUhEUgAAAQYAAAAYBAMAAADqsE5QAAAAMFBMVEX///+qqqq6urru7u4QEBBE\n",
       "RERUVFTc3NyIiIgyMjJmZmaYmJjMzMwiIiJ2dnYAAACPW0xlAAAAAXRSTlMAQObYZgAAAAlwSFlz\n",
       "AAAOxAAADsQBlSsOGwAAApVJREFUSMdjYCAMOAugDOadDAMF7GGME70D5gZJOEuWbnYaKaBw626+\n",
       "ocgN7PjECwuwynFMMkAVmEhZODTiEGdqABI8qSDL3v5Bk5NHckLVyhgGhs943MBzmZATGB9gEz0L\n",
       "tKQbxGBNABLcH9Ck3yIFVwDDewUmBwaeUCAIx+IGs5WfCbnBEosYc9Z8oBs4QZ7luwAkuCbgdgNb\n",
       "AQOLA0eCDUY4MG2ARRxBN6xG5mjDGP1A+7kXwNzA2wARbb17dwK6G1g+M7B952p4jOEGxgai3eCA\n",
       "zJFAdgODM8wN9QfAgprN2MLhAgPbH57VB2A5ZP4Lkt3AOAG3G2bD3LAfEvOTscUFKJg+YDWZaDdw\n",
       "gZKkXcdibG54BnNDKmp5zMCwEsWM8w2UuYETmHKY7jCcw+YGUNHPAYorD4hSRF7wRjHjGgNlbuAV\n",
       "AEb3BoYmbG4QAVn3EZjBv4PFjtwFggCQWCawlGSeC+LeBaYDrgAswXv37hXfu3cTcLsBoZ+BBWhc\n",
       "fEcfqOhde/euy9271xBuOA/O3hMhYcHAYArXfyoY2bRtDBSGA8gN33CkSRUQ66UCsJwCF4u8CF1h\n",
       "qIVcOeVx8QOHG0BZnRFoAP8GcFnK0YA1XwCTUjNlbmAFqrwH1IDNDVtB+QIYD/zKDWgVE3JZfWvV\n",
       "qgt43cAHSU7MP2EEOuBLAKV/5uVobngPyofroHmTex205A8ywHQD7////yfgcwNbys9sMOMWnECv\n",
       "1IB2cLzegRYXaf7TgHn2Eqx8gAG9WMyyGnfp10B01X0HazkJDuUL6G7AUU7iqPs3EO2GXVjrLHAe\n",
       "34DTDS3UbZWxFuCSKWXAVm2DQb0AVd3AHIBLJhxEmGANUfZl1HVEBQ5xDlAA1SUyMAAAyNK7OkwI\n",
       "2cMAAAAASUVORK5CYII=\n",
       "\" style=\"display:inline;vertical-align:middle;\" /></a> <a class=\"ProveItLink\" href=\"../../../__pv_it/_proof__fail_ineq/3d37df14c131551712f938c448145a27c4817b180/proof.ipynb\" style=\"text-decoration: none\">&nbsp;&#x22A2;&nbsp;&nbsp;</a><a class=\"ProveItLink\" href=\"../../../__pv_it/_proof__fail_ineq/310cd4d3bc5a419162a16d449cb8d8505af1f7e30/expr.ipynb\"><img src=\"data:image/png;base64,iVBORw0KGgoAAAANSUhEUgAAAEsAAAAVBAMAAAD85A5eAAAAMFBMVEX///+qqqq6urru7u4QEBBE\n",
       "RERUVFTc3NyIiIgyMjJmZmaYmJjMzMwiIiJ2dnYAAACPW0xlAAAAAXRSTlMAQObYZgAAAAlwSFlz\n",
       "AAAOxAAADsQBlSsOGwAAAUBJREFUKM9jYMAC2FG5BQzYQSMqVwNEvP2DrorxAcLcVVMPMHBsALK4\n",
       "PyDkp4MpS4SOUga+TwwMk4EsrgkwMe5bBmB6NUJZOgODCwPDLiCLtwEqxHEPoorBAaHM34Ahv4CB\n",
       "BShRfwAiYncDZvUEhLJcBob8AwycQMfthwhY3YZJcT1A8dB9Bga+BAaGVDDHbCJcHKQXAXh+AB0N\n",
       "NN8DzGNDKOMVQFbGCzSJ0YGB5zuEWwW3lEUBGCZ3QeAOkLcUZOIHBg6Yv+BeACmDA26gYQxMDgys\n",
       "CQZoAYJiqRwDewED4wUG/g0P0IKXtQHJAw8YOAwYuAMY+JURooxzQCTI+zBQu2rVWnAQca9Dj3me\n",
       "C0iB9v//T6AzFLClozvoArVYk9sudAFEWrCFBxTQD2jJlT0Aq2nMaMKsOFJ5BSq3nYEBAKl8STXR\n",
       "CqdpAAAAAElFTkSuQmCC\n",
       "\" style=\"display:inline;vertical-align:middle;\" /></a></span><br>"
      ],
      "text/plain": [
       "ell_upper_bound_neg_two: {e in {2 .. 2^{t - 1} - 2}, l in {-2^{t - 1} + 1 .. -(e + 1)}} |- l <= (-2)"
      ]
     },
     "execution_count": 27,
     "metadata": {},
     "output_type": "execute_result"
    }
   ],
   "source": [
    "# For 1st Summation\n",
    "ell_upper_bound_neg_two = ell_upper_bound.apply_transitivity(neg_e_plus_one_less_eq_neg_two)"
   ]
  },
  {
   "cell_type": "code",
   "execution_count": 28,
   "metadata": {},
   "outputs": [
    {
     "data": {
      "text/html": [
       "<strong id=\"ell_lower_bound_two_2\">ell_lower_bound_two_2:</strong> <span style=\"font-size:20px;\"><a class=\"ProveItLink\" href=\"../../../__pv_it/theorems/f67ffeb951aaff9cc5f02f3801926b572b231a930/expr.ipynb\"><img src=\"data:image/png;base64,iVBORw0KGgoAAAANSUhEUgAAAKwAAAAYBAMAAACVRAuIAAAAMFBMVEX///8QEBAyMjKqqqpUVFRE\n",
       "RESYmJjc3NzMzMwiIiK6urpmZmaIiIh2dnbu7u4AAAAMEBwRAAAAAXRSTlMAQObYZgAAAAlwSFlz\n",
       "AAAOxAAADsQBlSsOGwAAAe1JREFUSMdjYCAZMBVAGXxJDFQE72GMnpPUNNYIzrIkTSPfKjyStZNu\n",
       "4De2uACHzkPr8FmqTMC1HK4PsIoz/2NgYN+t2oApU70pgoHhH25jIbpYHbAayzuBgaGUgfcXhgR7\n",
       "AMP9BVwCDByhQBCOxViILpB+HMa6MzAIYkiwFDAwCvA4vMDpWoguVGN5ImdOghsr/4DBHyPoGf8x\n",
       "sHznPnAPp7EQXSjGcuk8QHKtJwODP0bgskxgYPnBsQ0mXqt/B00BRBfYWL47p8HmFT1ADgQgmI8t\n",
       "gDg/EEic86H6VzZwXADx1eEy3ArgdPIHm67+A/hNBeniEQDG7jcGngUgAQW4VGEC2F1Yk8kUAo4F\n",
       "6WL/DExkf87cAlsjOXPmzKkgVokWWMFWbLq4A7DkSc2ZINCA0PVEmYEf6ig+uAaOraBQZsPq2BQC\n",
       "joXourSAgR8WWIhUAc4ltgzsmHmb+QJDOV5jwbpAuZQTGF8GIJEzKNkBGI08mFm7l4HhHN4IA+vi\n",
       "BUYZmwLDa7CzmAyQja3cvXsnpHQFRiXfJ2jmnb179wR8xkJ0gRPY2TRIMPC5rkMydv7//xCzODcA\n",
       "idnQaP7//78C3kQL1oWaebmuImVeSgCeooYGxoJyCSWAG3tAgXIJJeBhAnbxamdKTK0F6gYAv0eE\n",
       "w3ELTC0AAAAASUVORK5CYII=\n",
       "\" style=\"display:inline;vertical-align:middle;\" /></a>, <a class=\"ProveItLink\" href=\"../../../__pv_it/theorems/f01e5817c994f42806cb80f31cb3ebf09f18f49a0/expr.ipynb\"><img src=\"data:image/png;base64,iVBORw0KGgoAAAANSUhEUgAAAKgAAAAYBAMAAACcr6vyAAAAMFBMVEX///+qqqq6urru7u4QEBBE\n",
       "RERUVFTc3NyIiIgyMjJmZmaYmJjMzMwiIiJ2dnYAAACPW0xlAAAAAXRSTlMAQObYZgAAAAlwSFlz\n",
       "AAAOxAAADsQBlSsOGwAAAdtJREFUOMtjYKAYcBZAGcw7GagG7GGME73UM1QSzpLFo8pIgRQz626+\n",
       "QTa0sACrKo5JBiS5dCKKS3lSQbrf/kFTJI/VTJ7LWASrVsYwMHxG9T5rApDg/oCm8i02M81WfsYU\n",
       "ZA9geK/A5MDAEwoE4VBD+S4ACa4JeA3VhgUKFkPZChhYHDgSbFBcCjaUtwGiKfbuTWyGSuAxlOUz\n",
       "A9t3robHmIbWHwAxmWYYYHcpPkPZLjCw/eFZfQCWDua/gBm6HyxQaYDifeYXXQaEDQX5Ez1GIIam\n",
       "gpnTEaIrgVj3AM8Dogw934CRIh2AhAeYiYgtdm8g/s3AoUCUodcwk8RHYPr7Dk6Fvnfv3r0KFssE\n",
       "msb6o+MRiLP27l2Xu3ev4TaUKwBL6psIcS0DM0LyVDADA38CURHFwLANi9hLBWAGAMfIBYRgGNDQ\n",
       "BuIMZXzAUI4hBlTIvwEcIx0oiZ8XKCZAhKHnGBiaMWIf6HV+ZbCrOAWQDeWewGBVgGoo33do6QmM\n",
       "Uuaf0Di5tWrVBWxJinsdpNROVUZOp327G1C9z5byMxuSMBcAiVvQRPr///8JWNMpFDA9xZ9NiQZ8\n",
       "F7CJYi9QKDS0hbLaBaPUA4N6AYoMNdmATZR9GSWm1iUyMAAAMyWCGgj5uJ8AAAAASUVORK5CYII=\n",
       "\" style=\"display:inline;vertical-align:middle;\" /></a> <a class=\"ProveItLink\" href=\"../../../__pv_it/_proof__fail_ineq/6a84d46a27dd7e5c002e94a81ddaac689097dfd30/proof.ipynb\" style=\"text-decoration: none\">&nbsp;&#x22A2;&nbsp;&nbsp;</a><a class=\"ProveItLink\" href=\"../../../__pv_it/_proof__fail_ineq/8289302b32190865efad74fdeb60a385847599110/expr.ipynb\"><img src=\"data:image/png;base64,iVBORw0KGgoAAAANSUhEUgAAACsAAAARBAMAAAC2kkg4AAAAMFBMVEX///+qqqqYmJiIiIgiIiLu\n",
       "7u4QEBBUVFS6urp2dnbMzMxEREQyMjJmZmbc3NwAAADzFso2AAAAAXRSTlMAQObYZgAAAAlwSFlz\n",
       "AAAOxAAADsQBlSsOGwAAAK1JREFUGNNj4Lt7egEDKuD0X8DwmoHzB0JE5gGI1GdgqGNgSIOLqlwF\n",
       "U3cYGPIDGOofQEVNpkJoZwaGEgaGeojhrFMMIKJ8v8CUP0T0igJUE9MHEMn1GSxaIwCzgX0DiGQp\n",
       "AHMQwmxgw25DTYQbsh7kBKYCKA9upRmIkGTgQ3PgdlaghRMYmANQvfOJk4Hhyd27V5A8D/LCj2Cg\n",
       "o////4MWVLoTGMgErC5gAA17ACuVK2iZZAB2AAAAAElFTkSuQmCC\n",
       "\" style=\"display:inline;vertical-align:middle;\" /></a></span><br>"
      ],
      "text/plain": [
       "ell_lower_bound_two_2: {e in {2 .. 2^{t - 1} - 2}, l in {e + 1 .. 2^{t - 1}}} |- 2 <= l"
      ]
     },
     "execution_count": 28,
     "metadata": {},
     "output_type": "execute_result"
    }
   ],
   "source": [
    "# For Second Summation\n",
    "ell_lower_bound_two_2 = ell_lower_bound_02.apply_transitivity(e_plus_one_greater_eq_two)"
   ]
  },
  {
   "cell_type": "code",
   "execution_count": 29,
   "metadata": {},
   "outputs": [
    {
     "data": {
      "text/html": [
       "<strong id=\"neg_two_less_zero\">neg_two_less_zero:</strong> <span style=\"font-size:20px;\"> <a class=\"ProveItLink\" href=\"../../../__pv_it/_proof__fail_ineq/e0c84282b8a526f6533917349db0e1c1b41017a20/proof.ipynb\" style=\"text-decoration: none\">&nbsp;&#x22A2;&nbsp;&nbsp;</a><a class=\"ProveItLink\" href=\"../../../__pv_it/_proof__fail_ineq/3683f71024d39fb37954978a1019335239eac3900/expr.ipynb\"><img src=\"data:image/png;base64,iVBORw0KGgoAAAANSUhEUgAAAE8AAAAVBAMAAAD1D64kAAAAMFBMVEX////MzMxUVFRERES6uroi\n",
       "IiIQEBCYmJhmZmYyMjLu7u52dnaqqqqIiIjc3NwAAACW8nlqAAAAAXRSTlMAQObYZgAAAAlwSFlz\n",
       "AAAOxAAADsQBlSsOGwAAAU1JREFUKM+FkjFLA0EQRh+Hl5gjCWmsLPIXotaKla2HKAY0omBlFRQF\n",
       "Ky0T0tiIjYQDSxGClha5RkEsEmwUq4CNlWgnCp67yXm7t3o4sMvs8HZn5tsBeuiWJ8lyfuw41E0C\n",
       "b5X7XB+D+9/I5YPI6hyorCXa02Q8k8v4zgoMV6OA1SO1SnrfBLfhAlIqkPrA+oINFck25T4OHY8b\n",
       "FbZcrDc4igLpcr+Mdyj6NGJZ7Fc4j/RY6nOOBKvafWlFIc5u6J9Wwh4/+/HlGDgn1nWo1SIa2GJd\n",
       "vH24IK0gJCjJVwcFH/9cdgQ425Wgsk25zRigbKbjx1JnW7zAlZGaCdjzmNTAUXiELaMZdqCuiSGq\n",
       "LtdqLkqws8rgN23fWYMRTcQgCMTPzyvBQyEbd6JRu2D8bN5Vfrqp+eYMaFMStynj/JQ0uCf/XFQ1\n",
       "xWc/1/sb+wYXw01FT2lc9QAAAABJRU5ErkJggg==\n",
       "\" style=\"display:inline;vertical-align:middle;\" /></a></span><br>"
      ],
      "text/plain": [
       "neg_two_less_zero: |- (-2) < 0"
      ]
     },
     "execution_count": 29,
     "metadata": {},
     "output_type": "execute_result"
    }
   ],
   "source": [
    "neg_two_less_zero = Less(Neg(two), zero).prove()"
   ]
  },
  {
   "cell_type": "code",
   "execution_count": 30,
   "metadata": {},
   "outputs": [
    {
     "data": {
      "text/html": [
       "<strong id=\"ell_less_zero\">ell_less_zero:</strong> <span style=\"font-size:20px;\"><a class=\"ProveItLink\" href=\"../../../__pv_it/theorems/f67ffeb951aaff9cc5f02f3801926b572b231a930/expr.ipynb\"><img src=\"data:image/png;base64,iVBORw0KGgoAAAANSUhEUgAAAKwAAAAYBAMAAACVRAuIAAAAMFBMVEX///8QEBAyMjKqqqpUVFRE\n",
       "RESYmJjc3NzMzMwiIiK6urpmZmaIiIh2dnbu7u4AAAAMEBwRAAAAAXRSTlMAQObYZgAAAAlwSFlz\n",
       "AAAOxAAADsQBlSsOGwAAAe1JREFUSMdjYCAZMBVAGXxJDFQE72GMnpPUNNYIzrIkTSPfKjyStZNu\n",
       "4De2uACHzkPr8FmqTMC1HK4PsIoz/2NgYN+t2oApU70pgoHhH25jIbpYHbAayzuBgaGUgfcXhgR7\n",
       "AMP9BVwCDByhQBCOxViILpB+HMa6MzAIYkiwFDAwCvA4vMDpWoguVGN5ImdOghsr/4DBHyPoGf8x\n",
       "sHznPnAPp7EQXSjGcuk8QHKtJwODP0bgskxgYPnBsQ0mXqt/B00BRBfYWL47p8HmFT1ADgQgmI8t\n",
       "gDg/EEic86H6VzZwXADx1eEy3ArgdPIHm67+A/hNBeniEQDG7jcGngUgAQW4VGEC2F1Yk8kUAo4F\n",
       "6WL/DExkf87cAlsjOXPmzKkgVokWWMFWbLq4A7DkSc2ZINCA0PVEmYEf6ig+uAaOraBQZsPq2BQC\n",
       "joXourSAgR8WWIhUAc4ltgzsmHmb+QJDOV5jwbpAuZQTGF8GIJEzKNkBGI08mFm7l4HhHN4IA+vi\n",
       "BUYZmwLDa7CzmAyQja3cvXsnpHQFRiXfJ2jmnb179wR8xkJ0gRPY2TRIMPC5rkMydv7//xCzODcA\n",
       "idnQaP7//78C3kQL1oWaebmuImVeSgCeooYGxoJyCSWAG3tAgXIJJeBhAnbxamdKTK0F6gYAv0eE\n",
       "w3ELTC0AAAAASUVORK5CYII=\n",
       "\" style=\"display:inline;vertical-align:middle;\" /></a>, <a class=\"ProveItLink\" href=\"../../../__pv_it/theorems/bb8428576c5e9aef5059458d15ab082fff89783c0/expr.ipynb\"><img src=\"data:image/png;base64,iVBORw0KGgoAAAANSUhEUgAAAQYAAAAYBAMAAADqsE5QAAAAMFBMVEX///+qqqq6urru7u4QEBBE\n",
       "RERUVFTc3NyIiIgyMjJmZmaYmJjMzMwiIiJ2dnYAAACPW0xlAAAAAXRSTlMAQObYZgAAAAlwSFlz\n",
       "AAAOxAAADsQBlSsOGwAAApVJREFUSMdjYCAMOAugDOadDAMF7GGME70D5gZJOEuWbnYaKaBw626+\n",
       "ocgN7PjECwuwynFMMkAVmEhZODTiEGdqABI8qSDL3v5Bk5NHckLVyhgGhs943MBzmZATGB9gEz0L\n",
       "tKQbxGBNABLcH9Ck3yIFVwDDewUmBwaeUCAIx+IGs5WfCbnBEosYc9Z8oBs4QZ7luwAkuCbgdgNb\n",
       "AQOLA0eCDUY4MG2ARRxBN6xG5mjDGP1A+7kXwNzA2wARbb17dwK6G1g+M7B952p4jOEGxgai3eCA\n",
       "zJFAdgODM8wN9QfAgprN2MLhAgPbH57VB2A5ZP4Lkt3AOAG3G2bD3LAfEvOTscUFKJg+YDWZaDdw\n",
       "gZKkXcdibG54BnNDKmp5zMCwEsWM8w2UuYETmHKY7jCcw+YGUNHPAYorD4hSRF7wRjHjGgNlbuAV\n",
       "AEb3BoYmbG4QAVn3EZjBv4PFjtwFggCQWCawlGSeC+LeBaYDrgAswXv37hXfu3cTcLsBoZ+BBWhc\n",
       "fEcfqOhde/euy9271xBuOA/O3hMhYcHAYArXfyoY2bRtDBSGA8gN33CkSRUQ66UCsJwCF4u8CF1h\n",
       "qIVcOeVx8QOHG0BZnRFoAP8GcFnK0YA1XwCTUjNlbmAFqrwH1IDNDVtB+QIYD/zKDWgVE3JZfWvV\n",
       "qgt43cAHSU7MP2EEOuBLAKV/5uVobngPyofroHmTex205A8ywHQD7////yfgcwNbys9sMOMWnECv\n",
       "1IB2cLzegRYXaf7TgHn2Eqx8gAG9WMyyGnfp10B01X0HazkJDuUL6G7AUU7iqPs3EO2GXVjrLHAe\n",
       "34DTDS3UbZWxFuCSKWXAVm2DQb0AVd3AHIBLJhxEmGANUfZl1HVEBQ5xDlAA1SUyMAAAyNK7OkwI\n",
       "2cMAAAAASUVORK5CYII=\n",
       "\" style=\"display:inline;vertical-align:middle;\" /></a> <a class=\"ProveItLink\" href=\"../../../__pv_it/_proof__fail_ineq/53852e3e909f40c7d056dafdc89de2d01d173d6d0/proof.ipynb\" style=\"text-decoration: none\">&nbsp;&#x22A2;&nbsp;&nbsp;</a><a class=\"ProveItLink\" href=\"../../../__pv_it/_proof__fail_ineq/e9547b48d0f12dd66ff135f821a3228cd7dae3f40/expr.ipynb\"><img src=\"data:image/png;base64,iVBORw0KGgoAAAANSUhEUgAAAC0AAAAQBAMAAABw0OvaAAAAMFBMVEX///+qqqq6urru7u4QEBBE\n",
       "RERUVFTc3NyIiIgyMjJmZmaYmJjMzMwiIiJ2dnYAAACPW0xlAAAAAXRSTlMAQObYZgAAAAlwSFlz\n",
       "AAAOxAAADsQBlSsOGwAAALlJREFUGNNjYHj7hwENvOsqAJLcH9CEOQWYrwMprglo4nsZGJ4CKd4G\n",
       "uAjjdBAZxsAgb8DAUH8AJsx9ywBE/WJgOC/AwLAfJsxxDyzMDBLfwMCQChW2uwGh2f8BxYFme0C4\n",
       "VbcZkMQfMPB8B/PYJsKMYwaK6zcwcDigiYPslRdgYE0wQDWHIRToFgMG/g0PUO1l2MLAsJKBgV8Z\n",
       "5i+LGxCdvALMPkDPrIMbzA31wLq2A6ghwz2dgRAAAAr0Lb9yk05JAAAAAElFTkSuQmCC\n",
       "\" style=\"display:inline;vertical-align:middle;\" /></a></span><br>"
      ],
      "text/plain": [
       "ell_less_zero: {e in {2 .. 2^{t - 1} - 2}, l in {-2^{t - 1} + 1 .. -(e + 1)}} |- l < 0"
      ]
     },
     "execution_count": 30,
     "metadata": {},
     "output_type": "execute_result"
    }
   ],
   "source": [
    "# For 1st Summation\n",
    "ell_less_zero = ell_upper_bound_neg_two.apply_transitivity(neg_two_less_zero)"
   ]
  },
  {
   "cell_type": "code",
   "execution_count": 31,
   "metadata": {},
   "outputs": [
    {
     "data": {
      "text/html": [
       "<strong id=\"ell_minus_one_greater_one_in_sum_02\">ell_minus_one_greater_one_in_sum_02:</strong> <span style=\"font-size:20px;\"><a class=\"ProveItLink\" href=\"../../../__pv_it/theorems/f67ffeb951aaff9cc5f02f3801926b572b231a930/expr.ipynb\"><img src=\"data:image/png;base64,iVBORw0KGgoAAAANSUhEUgAAAKwAAAAYBAMAAACVRAuIAAAAMFBMVEX///8QEBAyMjKqqqpUVFRE\n",
       "RESYmJjc3NzMzMwiIiK6urpmZmaIiIh2dnbu7u4AAAAMEBwRAAAAAXRSTlMAQObYZgAAAAlwSFlz\n",
       "AAAOxAAADsQBlSsOGwAAAe1JREFUSMdjYCAZMBVAGXxJDFQE72GMnpPUNNYIzrIkTSPfKjyStZNu\n",
       "4De2uACHzkPr8FmqTMC1HK4PsIoz/2NgYN+t2oApU70pgoHhH25jIbpYHbAayzuBgaGUgfcXhgR7\n",
       "AMP9BVwCDByhQBCOxViILpB+HMa6MzAIYkiwFDAwCvA4vMDpWoguVGN5ImdOghsr/4DBHyPoGf8x\n",
       "sHznPnAPp7EQXSjGcuk8QHKtJwODP0bgskxgYPnBsQ0mXqt/B00BRBfYWL47p8HmFT1ADgQgmI8t\n",
       "gDg/EEic86H6VzZwXADx1eEy3ArgdPIHm67+A/hNBeniEQDG7jcGngUgAQW4VGEC2F1Yk8kUAo4F\n",
       "6WL/DExkf87cAlsjOXPmzKkgVokWWMFWbLq4A7DkSc2ZINCA0PVEmYEf6ig+uAaOraBQZsPq2BQC\n",
       "joXourSAgR8WWIhUAc4ltgzsmHmb+QJDOV5jwbpAuZQTGF8GIJEzKNkBGI08mFm7l4HhHN4IA+vi\n",
       "BUYZmwLDa7CzmAyQja3cvXsnpHQFRiXfJ2jmnb179wR8xkJ0gRPY2TRIMPC5rkMydv7//xCzODcA\n",
       "idnQaP7//78C3kQL1oWaebmuImVeSgCeooYGxoJyCSWAG3tAgXIJJeBhAnbxamdKTK0F6gYAv0eE\n",
       "w3ELTC0AAAAASUVORK5CYII=\n",
       "\" style=\"display:inline;vertical-align:middle;\" /></a>, <a class=\"ProveItLink\" href=\"../../../__pv_it/theorems/f01e5817c994f42806cb80f31cb3ebf09f18f49a0/expr.ipynb\"><img src=\"data:image/png;base64,iVBORw0KGgoAAAANSUhEUgAAAKgAAAAYBAMAAACcr6vyAAAAMFBMVEX///+qqqq6urru7u4QEBBE\n",
       "RERUVFTc3NyIiIgyMjJmZmaYmJjMzMwiIiJ2dnYAAACPW0xlAAAAAXRSTlMAQObYZgAAAAlwSFlz\n",
       "AAAOxAAADsQBlSsOGwAAAdtJREFUOMtjYKAYcBZAGcw7GagG7GGME73UM1QSzpLFo8pIgRQz626+\n",
       "QTa0sACrKo5JBiS5dCKKS3lSQbrf/kFTJI/VTJ7LWASrVsYwMHxG9T5rApDg/oCm8i02M81WfsYU\n",
       "ZA9geK/A5MDAEwoE4VBD+S4ACa4JeA3VhgUKFkPZChhYHDgSbFBcCjaUtwGiKfbuTWyGSuAxlOUz\n",
       "A9t3robHmIbWHwAxmWYYYHcpPkPZLjCw/eFZfQCWDua/gBm6HyxQaYDifeYXXQaEDQX5Ez1GIIam\n",
       "gpnTEaIrgVj3AM8Dogw934CRIh2AhAeYiYgtdm8g/s3AoUCUodcwk8RHYPr7Dk6Fvnfv3r0KFssE\n",
       "msb6o+MRiLP27l2Xu3ev4TaUKwBL6psIcS0DM0LyVDADA38CURHFwLANi9hLBWAGAMfIBYRgGNDQ\n",
       "BuIMZXzAUI4hBlTIvwEcIx0oiZ8XKCZAhKHnGBiaMWIf6HV+ZbCrOAWQDeWewGBVgGoo33do6QmM\n",
       "Uuaf0Di5tWrVBWxJinsdpNROVUZOp327G1C9z5byMxuSMBcAiVvQRPr///8JWNMpFDA9xZ9NiQZ8\n",
       "F7CJYi9QKDS0hbLaBaPUA4N6AYoMNdmATZR9GSWm1iUyMAAAMyWCGgj5uJ8AAAAASUVORK5CYII=\n",
       "\" style=\"display:inline;vertical-align:middle;\" /></a> <a class=\"ProveItLink\" href=\"../../../__pv_it/_proof__fail_ineq/69cfcf324117d5c14f36a92081b2d84252aef8b30/proof.ipynb\" style=\"text-decoration: none\">&nbsp;&#x22A2;&nbsp;&nbsp;</a><a class=\"ProveItLink\" href=\"../../../__pv_it/_proof__fail_ineq/847e3565cc94276d912789daf60803591b55833c0/expr.ipynb\"><img src=\"data:image/png;base64,iVBORw0KGgoAAAANSUhEUgAAAF4AAAAVBAMAAAA9Y0TyAAAAMFBMVEX///9ERES6urqqqqqYmJgQ\n",
       "EBDc3Nx2dnaIiIgyMjJmZmZUVFTu7u4iIiLMzMwAAAD4QZJGAAAAAXRSTlMAQObYZgAAAAlwSFlz\n",
       "AAAOxAAADsQBlSsOGwAAASxJREFUKM9jYMAG2BhIEWZgaMYuzNQAJPjuYIgzFzAw1P5DE3x7gIGh\n",
       "hYHh9Mo/SIKWCSDyJBCzfEBRzbNrPlA9JxBzIKn3XQOmlgAx1wQ08/uBalkWoKjvrYHQAUDM24BF\n",
       "PUMMknqeWqgSZpDR+Q+wqZ+CUM+z1gEqwwX0LoM/Azb11XD1PDsNYDKcII0bsar3RJiPUM8LYkVg\n",
       "VW+KUM8Gdw+rAjBWvoED9i4I3EOof4/NvyD1HAFYzVfFFp4g9zBuOIBNvS22+GIE2sPvUIBNvSMD\n",
       "A/s35PQACnX2DUD1OujxVQ9KKssZuLf+3IImw3cBGPPL0QR3x88GhsclrOn2Hq50znYBq7AXLvVc\n",
       "DogECw7qu+BUw5iAQ30idmEeARzqxXCIZ2AX5khgAABVGVne7cJUcAAAAABJRU5ErkJggg==\n",
       "\" style=\"display:inline;vertical-align:middle;\" /></a></span><br>"
      ],
      "text/plain": [
       "ell_minus_one_greater_one_in_sum_02: {e in {2 .. 2^{t - 1} - 2}, l in {e + 1 .. 2^{t - 1}}} |- 1 <= (l - 1)"
      ]
     },
     "execution_count": 31,
     "metadata": {},
     "output_type": "execute_result"
    }
   ],
   "source": [
    "# For 2nd Summation\n",
    "ell_minus_one_greater_one_in_sum_02 = ell_lower_bound_two_2.right_add_both_sides(Neg(one))"
   ]
  },
  {
   "cell_type": "code",
   "execution_count": 32,
   "metadata": {},
   "outputs": [
    {
     "data": {
      "text/html": [
       "<strong id=\"one_greater_zero\">one_greater_zero:</strong> <span style=\"font-size:20px;\"> <a class=\"ProveItLink\" href=\"../../../../../../numbers/numerals/decimals/_theory_nbs_/proofs/less_0_1/thm_proof.ipynb\" style=\"text-decoration: none\">&nbsp;&#x22A2;&nbsp;&nbsp;</a><a class=\"ProveItLink\" href=\"../../../__pv_it/_proof__fail_ineq/acc0fbd6c0abb998c8a888a87467e145bca850b00/expr.ipynb\"><img src=\"data:image/png;base64,iVBORw0KGgoAAAANSUhEUgAAADAAAAAQBAMAAACigOGCAAAAMFBMVEX///9ERES6urqqqqqYmJgQ\n",
       "EBDc3Nx2dnaIiIgyMjJmZmZUVFTu7u4iIiLMzMwAAAD4QZJGAAAAAXRSTlMAQObYZgAAAAlwSFlz\n",
       "AAAOxAAADsQBlSsOGwAAAKZJREFUGNNjYOC7w4AO2CuWMTCcXvkHQ2Iyw9kEBgYODAmWCwzsAnAJ\n",
       "nilwCcYNDMx/EDqO34BJ8C9g4PuMZBTH9QMQxnmgxBdkO1huQWTyCxj4fqBYzjwrASbxHdVVTLNB\n",
       "es4XMDD9QJOYeABiOfNnVKNmg41iFGBg+YNqeQKEDmDgmgAMmG/ozmW4zHD0AQP31p9bwLwTcA8y\n",
       "nKrYh7CX5woDcQAAKm44MGgG1xYAAAAASUVORK5CYII=\n",
       "\" style=\"display:inline;vertical-align:middle;\" /></a></span><br>"
      ],
      "text/plain": [
       "one_greater_zero: |- 1 > 0"
      ]
     },
     "execution_count": 32,
     "metadata": {},
     "output_type": "execute_result"
    }
   ],
   "source": [
    "# For 2nd Summation\n",
    "one_greater_zero = greater(one, zero).prove()"
   ]
  },
  {
   "cell_type": "code",
   "execution_count": 33,
   "metadata": {},
   "outputs": [
    {
     "data": {
      "text/html": [
       "<span style=\"font-size:20px;\"><a class=\"ProveItLink\" href=\"../../../__pv_it/theorems/f67ffeb951aaff9cc5f02f3801926b572b231a930/expr.ipynb\"><img src=\"data:image/png;base64,iVBORw0KGgoAAAANSUhEUgAAAKwAAAAYBAMAAACVRAuIAAAAMFBMVEX///8QEBAyMjKqqqpUVFRE\n",
       "RESYmJjc3NzMzMwiIiK6urpmZmaIiIh2dnbu7u4AAAAMEBwRAAAAAXRSTlMAQObYZgAAAAlwSFlz\n",
       "AAAOxAAADsQBlSsOGwAAAe1JREFUSMdjYCAZMBVAGXxJDFQE72GMnpPUNNYIzrIkTSPfKjyStZNu\n",
       "4De2uACHzkPr8FmqTMC1HK4PsIoz/2NgYN+t2oApU70pgoHhH25jIbpYHbAayzuBgaGUgfcXhgR7\n",
       "AMP9BVwCDByhQBCOxViILpB+HMa6MzAIYkiwFDAwCvA4vMDpWoguVGN5ImdOghsr/4DBHyPoGf8x\n",
       "sHznPnAPp7EQXSjGcuk8QHKtJwODP0bgskxgYPnBsQ0mXqt/B00BRBfYWL47p8HmFT1ADgQgmI8t\n",
       "gDg/EEic86H6VzZwXADx1eEy3ArgdPIHm67+A/hNBeniEQDG7jcGngUgAQW4VGEC2F1Yk8kUAo4F\n",
       "6WL/DExkf87cAlsjOXPmzKkgVokWWMFWbLq4A7DkSc2ZINCA0PVEmYEf6ig+uAaOraBQZsPq2BQC\n",
       "joXourSAgR8WWIhUAc4ltgzsmHmb+QJDOV5jwbpAuZQTGF8GIJEzKNkBGI08mFm7l4HhHN4IA+vi\n",
       "BUYZmwLDa7CzmAyQja3cvXsnpHQFRiXfJ2jmnb179wR8xkJ0gRPY2TRIMPC5rkMydv7//xCzODcA\n",
       "idnQaP7//78C3kQL1oWaebmuImVeSgCeooYGxoJyCSWAG3tAgXIJJeBhAnbxamdKTK0F6gYAv0eE\n",
       "w3ELTC0AAAAASUVORK5CYII=\n",
       "\" style=\"display:inline;vertical-align:middle;\" /></a>, <a class=\"ProveItLink\" href=\"../../../__pv_it/theorems/f01e5817c994f42806cb80f31cb3ebf09f18f49a0/expr.ipynb\"><img src=\"data:image/png;base64,iVBORw0KGgoAAAANSUhEUgAAAKgAAAAYBAMAAACcr6vyAAAAMFBMVEX///+qqqq6urru7u4QEBBE\n",
       "RERUVFTc3NyIiIgyMjJmZmaYmJjMzMwiIiJ2dnYAAACPW0xlAAAAAXRSTlMAQObYZgAAAAlwSFlz\n",
       "AAAOxAAADsQBlSsOGwAAAdtJREFUOMtjYKAYcBZAGcw7GagG7GGME73UM1QSzpLFo8pIgRQz626+\n",
       "QTa0sACrKo5JBiS5dCKKS3lSQbrf/kFTJI/VTJ7LWASrVsYwMHxG9T5rApDg/oCm8i02M81WfsYU\n",
       "ZA9geK/A5MDAEwoE4VBD+S4ACa4JeA3VhgUKFkPZChhYHDgSbFBcCjaUtwGiKfbuTWyGSuAxlOUz\n",
       "A9t3robHmIbWHwAxmWYYYHcpPkPZLjCw/eFZfQCWDua/gBm6HyxQaYDifeYXXQaEDQX5Ez1GIIam\n",
       "gpnTEaIrgVj3AM8Dogw934CRIh2AhAeYiYgtdm8g/s3AoUCUodcwk8RHYPr7Dk6Fvnfv3r0KFssE\n",
       "msb6o+MRiLP27l2Xu3ev4TaUKwBL6psIcS0DM0LyVDADA38CURHFwLANi9hLBWAGAMfIBYRgGNDQ\n",
       "BuIMZXzAUI4hBlTIvwEcIx0oiZ8XKCZAhKHnGBiaMWIf6HV+ZbCrOAWQDeWewGBVgGoo33do6QmM\n",
       "Uuaf0Di5tWrVBWxJinsdpNROVUZOp327G1C9z5byMxuSMBcAiVvQRPr///8JWNMpFDA9xZ9NiQZ8\n",
       "F7CJYi9QKDS0hbLaBaPUA4N6AYoMNdmATZR9GSWm1iUyMAAAMyWCGgj5uJ8AAAAASUVORK5CYII=\n",
       "\" style=\"display:inline;vertical-align:middle;\" /></a> <a class=\"ProveItLink\" href=\"../../../__pv_it/_proof__fail_ineq/8c306781c2b1feb4ee9826ccba65a6111a44ab160/proof.ipynb\" style=\"text-decoration: none\">&nbsp;&#x22A2;&nbsp;&nbsp;</a><a class=\"ProveItLink\" href=\"../../../__pv_it/_proof__fail_ineq/f6d715151344e82576a6ade92b9dad192425c87b0/expr.ipynb\"><img src=\"data:image/png;base64,iVBORw0KGgoAAAANSUhEUgAAAF8AAAAVBAMAAADSoS/MAAAAMFBMVEX///8QEBC6urrMzMxUVFRE\n",
       "RESYmJgiIiLu7u6qqqoyMjLc3NxmZmaIiIh2dnYAAABcDckaAAAAAXRSTlMAQObYZgAAAAlwSFlz\n",
       "AAAOxAAADsQBlSsOGwAAAVVJREFUOMtjYMAKNpAkzMDAOwG7uC6I4Ht7GkNiHlC43gBVjLkCaFAC\n",
       "kLGSoR3dJo4FQCIfVazl1A8guYKBga2AgS8ATQMPyKBT6M4EachhYGB1YOD8ARflXA0iGUFELTYN\n",
       "jA0M/AcYmH/CBNlqGkDULCDm/oxNA1cCQz9QwzeYWB1YPcM5kN4P2DTwOTDsf8DA/Bci1AdzxTIg\n",
       "ZgnApoFtAVjDP7DInjKYXCXItRewaeAUYOh/wMAEtoFlJVxOCIjtQWHNsbwcBAzgGpg/gDzN+ROL\n",
       "hosM2GxgEmBgDWBg+4HFSSEcWJ1UwMAmwMCzAM3TsUD8jQ+rpwNAxjXCUk1vLSRYnwDxp140DXy/\n",
       "QWngAQNDz1tnuCAbJCLMQYngAap6FsdfbgwM7ApoxrCBkwa7Aa50vx27MNsBXBqO4RCPxiHOHYBD\n",
       "ohWHOCuuPMp9Abv4bQYGAK8YV0T+XjkDAAAAAElFTkSuQmCC\n",
       "\" style=\"display:inline;vertical-align:middle;\" /></a></span>"
      ],
      "text/plain": [
       "{e in {2 .. 2^{t - 1} - 2}, l in {e + 1 .. 2^{t - 1}}} |- 0 < (l - 1)"
      ]
     },
     "execution_count": 33,
     "metadata": {},
     "output_type": "execute_result"
    }
   ],
   "source": [
    "# For 2nd Summation\n",
    "ell_minus_one_greater_one_in_sum_02.apply_transitivity(one_greater_zero)"
   ]
  },
  {
   "cell_type": "code",
   "execution_count": 34,
   "metadata": {},
   "outputs": [
    {
     "data": {
      "text/html": [
       "<span style=\"font-size:20px;\"><a class=\"ProveItLink\" href=\"../../../__pv_it/theorems/f67ffeb951aaff9cc5f02f3801926b572b231a930/expr.ipynb\"><img src=\"data:image/png;base64,iVBORw0KGgoAAAANSUhEUgAAAKwAAAAYBAMAAACVRAuIAAAAMFBMVEX///8QEBAyMjKqqqpUVFRE\n",
       "RESYmJjc3NzMzMwiIiK6urpmZmaIiIh2dnbu7u4AAAAMEBwRAAAAAXRSTlMAQObYZgAAAAlwSFlz\n",
       "AAAOxAAADsQBlSsOGwAAAe1JREFUSMdjYCAZMBVAGXxJDFQE72GMnpPUNNYIzrIkTSPfKjyStZNu\n",
       "4De2uACHzkPr8FmqTMC1HK4PsIoz/2NgYN+t2oApU70pgoHhH25jIbpYHbAayzuBgaGUgfcXhgR7\n",
       "AMP9BVwCDByhQBCOxViILpB+HMa6MzAIYkiwFDAwCvA4vMDpWoguVGN5ImdOghsr/4DBHyPoGf8x\n",
       "sHznPnAPp7EQXSjGcuk8QHKtJwODP0bgskxgYPnBsQ0mXqt/B00BRBfYWL47p8HmFT1ADgQgmI8t\n",
       "gDg/EEic86H6VzZwXADx1eEy3ArgdPIHm67+A/hNBeniEQDG7jcGngUgAQW4VGEC2F1Yk8kUAo4F\n",
       "6WL/DExkf87cAlsjOXPmzKkgVokWWMFWbLq4A7DkSc2ZINCA0PVEmYEf6ig+uAaOraBQZsPq2BQC\n",
       "joXourSAgR8WWIhUAc4ltgzsmHmb+QJDOV5jwbpAuZQTGF8GIJEzKNkBGI08mFm7l4HhHN4IA+vi\n",
       "BUYZmwLDa7CzmAyQja3cvXsnpHQFRiXfJ2jmnb179wR8xkJ0gRPY2TRIMPC5rkMydv7//xCzODcA\n",
       "idnQaP7//78C3kQL1oWaebmuImVeSgCeooYGxoJyCSWAG3tAgXIJJeBhAnbxamdKTK0F6gYAv0eE\n",
       "w3ELTC0AAAAASUVORK5CYII=\n",
       "\" style=\"display:inline;vertical-align:middle;\" /></a>, <a class=\"ProveItLink\" href=\"../../../__pv_it/theorems/f01e5817c994f42806cb80f31cb3ebf09f18f49a0/expr.ipynb\"><img src=\"data:image/png;base64,iVBORw0KGgoAAAANSUhEUgAAAKgAAAAYBAMAAACcr6vyAAAAMFBMVEX///+qqqq6urru7u4QEBBE\n",
       "RERUVFTc3NyIiIgyMjJmZmaYmJjMzMwiIiJ2dnYAAACPW0xlAAAAAXRSTlMAQObYZgAAAAlwSFlz\n",
       "AAAOxAAADsQBlSsOGwAAAdtJREFUOMtjYKAYcBZAGcw7GagG7GGME73UM1QSzpLFo8pIgRQz626+\n",
       "QTa0sACrKo5JBiS5dCKKS3lSQbrf/kFTJI/VTJ7LWASrVsYwMHxG9T5rApDg/oCm8i02M81WfsYU\n",
       "ZA9geK/A5MDAEwoE4VBD+S4ACa4JeA3VhgUKFkPZChhYHDgSbFBcCjaUtwGiKfbuTWyGSuAxlOUz\n",
       "A9t3robHmIbWHwAxmWYYYHcpPkPZLjCw/eFZfQCWDua/gBm6HyxQaYDifeYXXQaEDQX5Ez1GIIam\n",
       "gpnTEaIrgVj3AM8Dogw934CRIh2AhAeYiYgtdm8g/s3AoUCUodcwk8RHYPr7Dk6Fvnfv3r0KFssE\n",
       "msb6o+MRiLP27l2Xu3ev4TaUKwBL6psIcS0DM0LyVDADA38CURHFwLANi9hLBWAGAMfIBYRgGNDQ\n",
       "BuIMZXzAUI4hBlTIvwEcIx0oiZ8XKCZAhKHnGBiaMWIf6HV+ZbCrOAWQDeWewGBVgGoo33do6QmM\n",
       "Uuaf0Di5tWrVBWxJinsdpNROVUZOp327G1C9z5byMxuSMBcAiVvQRPr///8JWNMpFDA9xZ9NiQZ8\n",
       "F7CJYi9QKDS0hbLaBaPUA4N6AYoMNdmATZR9GSWm1iUyMAAAMyWCGgj5uJ8AAAAASUVORK5CYII=\n",
       "\" style=\"display:inline;vertical-align:middle;\" /></a> <a class=\"ProveItLink\" href=\"../../../__pv_it/_proof__fail_ineq/d7654452f2741401971d444e92ab946d1f96caa00/proof.ipynb\" style=\"text-decoration: none\">&nbsp;&#x22A2;&nbsp;&nbsp;</a><a class=\"ProveItLink\" href=\"../../../__pv_it/_proof__fail_ineq/9f77151a2cc30a9328fb88ea53918b94339f775f0/expr.ipynb\"><img src=\"data:image/png;base64,iVBORw0KGgoAAAANSUhEUgAAAHYAAAAaBAMAAACQv7UDAAAAMFBMVEX////MzMxUVFRERES6uroi\n",
       "IiIQEBCYmJhmZmYyMjLu7u52dnaqqqqIiIjc3NwAAACW8nlqAAAAAXRSTlMAQObYZgAAAAlwSFlz\n",
       "AAAOxAAADsQBlSsOGwAAAadJREFUOMtjYMADuHYrLWAgE3AwcASQq5ffge8juXrZF+DW20BQNzdO\n",
       "NxuAyQdY5fjApOgCvHp5D2CVY7kAMsAKzRPTjH+GmSP0nmZg2IruK5B114H0C4Z3qBLMfAos6lYw\n",
       "vVwTgMZ9QI1WjflAvZwLGPgMBbvQ9W5gMBBi4DA2TjY2Z+AoAMbjBDR77wP1sjcwsP3//wFTbx8n\n",
       "zF42IGa9gEUvQxaSwOXQ0AlwvcwwvSeB+L0ANr3TEXzPW0j2ai2C6e0G4noGbHo3IeJrFpKbGW3m\n",
       "wfSCTFfGqrcSzuV8gNCbGR+7AJauYoA4F6veYwi9SGG1vQoRsCkMDIz/QIyVoSAQiNArD1cjBpIx\n",
       "gLrZqhxZL28CVnvd4NzFyHEkwQxPp0A3MysswKb3KJzLiqyXQ84AxrMFZtOCDdj0FsO5vBeQ9HIZ\n",
       "XIfxgDHB74WeNvY/gMYeFMxB6G1gKGd2gCV7YOrrRtOqlD8JmFJDEAKLTBbA8tHnB8yWf2B+EcCR\n",
       "QfmQs723aegELOUKrsIDlEkIATsc4o+JKNAWk2gmir8uYBXmfUBQJwC6J2sRRSV+DAAAAABJRU5E\n",
       "rkJggg==\n",
       "\" style=\"display:inline;vertical-align:middle;\" /></a></span>"
      ],
      "text/plain": [
       "{e in {2 .. 2^{t - 1} - 2}, l in {e + 1 .. 2^{t - 1}}} |- (l - 1)^{2} in RealPos"
      ]
     },
     "execution_count": 34,
     "metadata": {},
     "output_type": "execute_result"
    }
   ],
   "source": [
    "# For 2nd Summation (actually needed this explicitly for later)\n",
    "from proveit.numbers import RealPos\n",
    "InSet(Exp(subtract(l, one), two), RealPos).prove(assumptions=defaults.assumptions + (second_sum_conditions,))"
   ]
  },
  {
   "cell_type": "code",
   "execution_count": 35,
   "metadata": {},
   "outputs": [
    {
     "data": {
      "text/html": [
       "<strong id=\"temp_bound_03\">temp_bound_03:</strong> <span style=\"font-size:20px;\"><a class=\"ProveItLink\" href=\"../../../__pv_it/theorems/f67ffeb951aaff9cc5f02f3801926b572b231a930/expr.ipynb\"><img src=\"data:image/png;base64,iVBORw0KGgoAAAANSUhEUgAAAKwAAAAYBAMAAACVRAuIAAAAMFBMVEX///8QEBAyMjKqqqpUVFRE\n",
       "RESYmJjc3NzMzMwiIiK6urpmZmaIiIh2dnbu7u4AAAAMEBwRAAAAAXRSTlMAQObYZgAAAAlwSFlz\n",
       "AAAOxAAADsQBlSsOGwAAAe1JREFUSMdjYCAZMBVAGXxJDFQE72GMnpPUNNYIzrIkTSPfKjyStZNu\n",
       "4De2uACHzkPr8FmqTMC1HK4PsIoz/2NgYN+t2oApU70pgoHhH25jIbpYHbAayzuBgaGUgfcXhgR7\n",
       "AMP9BVwCDByhQBCOxViILpB+HMa6MzAIYkiwFDAwCvA4vMDpWoguVGN5ImdOghsr/4DBHyPoGf8x\n",
       "sHznPnAPp7EQXSjGcuk8QHKtJwODP0bgskxgYPnBsQ0mXqt/B00BRBfYWL47p8HmFT1ADgQgmI8t\n",
       "gDg/EEic86H6VzZwXADx1eEy3ArgdPIHm67+A/hNBeniEQDG7jcGngUgAQW4VGEC2F1Yk8kUAo4F\n",
       "6WL/DExkf87cAlsjOXPmzKkgVokWWMFWbLq4A7DkSc2ZINCA0PVEmYEf6ig+uAaOraBQZsPq2BQC\n",
       "joXourSAgR8WWIhUAc4ltgzsmHmb+QJDOV5jwbpAuZQTGF8GIJEzKNkBGI08mFm7l4HhHN4IA+vi\n",
       "BUYZmwLDa7CzmAyQja3cvXsnpHQFRiXfJ2jmnb179wR8xkJ0gRPY2TRIMPC5rkMydv7//xCzODcA\n",
       "idnQaP7//78C3kQL1oWaebmuImVeSgCeooYGxoJyCSWAG3tAgXIJJeBhAnbxamdKTK0F6gYAv0eE\n",
       "w3ELTC0AAAAASUVORK5CYII=\n",
       "\" style=\"display:inline;vertical-align:middle;\" /></a>, <a class=\"ProveItLink\" href=\"../../../__pv_it/theorems/bb8428576c5e9aef5059458d15ab082fff89783c0/expr.ipynb\"><img src=\"data:image/png;base64,iVBORw0KGgoAAAANSUhEUgAAAQYAAAAYBAMAAADqsE5QAAAAMFBMVEX///+qqqq6urru7u4QEBBE\n",
       "RERUVFTc3NyIiIgyMjJmZmaYmJjMzMwiIiJ2dnYAAACPW0xlAAAAAXRSTlMAQObYZgAAAAlwSFlz\n",
       "AAAOxAAADsQBlSsOGwAAApVJREFUSMdjYCAMOAugDOadDAMF7GGME70D5gZJOEuWbnYaKaBw626+\n",
       "ocgN7PjECwuwynFMMkAVmEhZODTiEGdqABI8qSDL3v5Bk5NHckLVyhgGhs943MBzmZATGB9gEz0L\n",
       "tKQbxGBNABLcH9Ck3yIFVwDDewUmBwaeUCAIx+IGs5WfCbnBEosYc9Z8oBs4QZ7luwAkuCbgdgNb\n",
       "AQOLA0eCDUY4MG2ARRxBN6xG5mjDGP1A+7kXwNzA2wARbb17dwK6G1g+M7B952p4jOEGxgai3eCA\n",
       "zJFAdgODM8wN9QfAgprN2MLhAgPbH57VB2A5ZP4Lkt3AOAG3G2bD3LAfEvOTscUFKJg+YDWZaDdw\n",
       "gZKkXcdibG54BnNDKmp5zMCwEsWM8w2UuYETmHKY7jCcw+YGUNHPAYorD4hSRF7wRjHjGgNlbuAV\n",
       "AEb3BoYmbG4QAVn3EZjBv4PFjtwFggCQWCawlGSeC+LeBaYDrgAswXv37hXfu3cTcLsBoZ+BBWhc\n",
       "fEcfqOhde/euy9271xBuOA/O3hMhYcHAYArXfyoY2bRtDBSGA8gN33CkSRUQ66UCsJwCF4u8CF1h\n",
       "qIVcOeVx8QOHG0BZnRFoAP8GcFnK0YA1XwCTUjNlbmAFqrwH1IDNDVtB+QIYD/zKDWgVE3JZfWvV\n",
       "qgt43cAHSU7MP2EEOuBLAKV/5uVobngPyofroHmTex205A8ywHQD7////yfgcwNbys9sMOMWnECv\n",
       "1IB2cLzegRYXaf7TgHn2Eqx8gAG9WMyyGnfp10B01X0HazkJDuUL6G7AUU7iqPs3EO2GXVjrLHAe\n",
       "34DTDS3UbZWxFuCSKWXAVm2DQb0AVd3AHIBLJhxEmGANUfZl1HVEBQ5xDlAA1SUyMAAAyNK7OkwI\n",
       "2cMAAAAASUVORK5CYII=\n",
       "\" style=\"display:inline;vertical-align:middle;\" /></a> <a class=\"ProveItLink\" href=\"../../../__pv_it/_proof__fail_ineq/fae8979c870e3ad88f97cb5b6f301a95d37b61000/proof.ipynb\" style=\"text-decoration: none\">&nbsp;&#x22A2;&nbsp;&nbsp;</a><a class=\"ProveItLink\" href=\"../../../__pv_it/_proof__fail_ineq/b4b08326b5ea4682208f6a914f5ec6ea6309d1410/expr.ipynb\"><img src=\"data:image/png;base64,iVBORw0KGgoAAAANSUhEUgAAASIAAAAaBAMAAADhzkzxAAAAMFBMVEX///9UVFQiIiKIiIjMzMx2\n",
       "dnYQEBDc3NxEREQyMjLu7u5mZmaqqqq6urqYmJgAAAB66f/FAAAAAXRSTlMAQObYZgAAAAlwSFlz\n",
       "AAAOxAAADsQBlSsOGwAAA+FJREFUSMe1l01oE0EUx1++um2SJsGLbSm0RkW0YGvFHjzlohcPCa0n\n",
       "LxaE4kUMglrooT0I9lQb8esgZRU9FA+pimANSEvoQXpovXjw0FoqggdRMKAt1vjezGwyMzu7LagL\n",
       "ebN5u//fzpt5b2YXwPdoysP/OO76X/5i8CWWeVvU/DP4i+2A4ujN2Og31R1z0NzEZwzSRdG+0fzD\n",
       "+LPGDAKNsmgOXrjjk6qbEYcdPkwblFEhuXzwtBZkD5p1g2LaqDdjrf7bGfXCuoNmZsIgbfwgTu7L\n",
       "kcyez8MhPAnabsWEWW/GNs1JzpE71zmR0GSsQYD+iia9QnfOXgPYlJwReGvDETwJpVzPIopJ78Ja\n",
       "pXsZSMoh5ZrbOJHQZGI5HCst0+AFm9uzy83ygwLEKaKJSv2M87IhikHvxg5DZAveyc42EMSi4CdR\n",
       "FtOnfQufn4eGwVDqUd3JAmmigZ+q51UXDze5bNTzfyuSezfAEByJSnnEhmbKQaPJIjLYo3YojF1u\n",
       "2ITAj1jPGSkvf9FgUFm8rHVyvxj/rG3U879lyX3Rho7884h0e3FOEBkaTS82o1rqhzoxxk4IVMKv\n",
       "5Ss3kBOiuPuE4/Fe51KvWa/2iNy7ADoypz7K6b4piAyNphWbr9qkBfgsBtX0ml/CIJpJv8pDfHK4\n",
       "dq3VT19W3d3qQtb+UxAZGs04Ni16lfI1MKtMZmIygJIwxZ1lI/dAWhrG/fRlxR3+rtz7GTpsTmRo\n",
       "NAVszum7GS/vPYpzNB9HibVFpyyPA1KPCn76suIOKmuH9QOWMpzI0Gi6sF8sA6M303RQ+EG2JcSc\n",
       "3SK6AWwgKYgoyYq8skbqs9ZFyzbT79P0z9LpoXSadY67a2XBsIExNj5EZGg0BZFS7hjXlOfBbwhj\n",
       "XlgVqRLqmV3w0ytjlEgp2CRWuyAytMVmrTFlG3oUz8FVeU+qYCaJ8czm9eov+OmVHi2AJb/hFDOY\n",
       "SZzI0GhaqJ85rdZovE8AHJedFbYdybUmrZAtfvqy5A7nICTHn8ywvVOuNVwJku+1FZKm0eoqlTpl\n",
       "5wDMUxdohj9JxXuLNX1++rLkvlQqPZNvjfTEU4LI0Giwd4kXWh5Rb4PValXZXCJHaSRjpH/q2mlX\n",
       "bR99WXJ3V6sbinLgGAgiQ6NpML3tXfB+zVX3NefQKKq+vD1W3te0Xbu2SXsc+t7vvJfmfPQr22KV\n",
       "vT88aLjjpGeP1uoF/LC2/oBO8dB7YhlxzeG3G+4IzHlpD9BKZ/hAad+J3hPLiAccvt97tjuYf/Ge\n",
       "7T7U9+y4KZEWPKTe3yK5neg93Nq3iO/3mn68oiy2//Z7zVUXtkCT+QNlmyshPuSkOwAAAABJRU5E\n",
       "rkJggg==\n",
       "\" style=\"display:inline;vertical-align:middle;\" /></a></span><br>"
      ],
      "text/plain": [
       "temp_bound_03: {e in {2 .. 2^{t - 1} - 2}, l in {-2^{t - 1} + 1 .. -(e + 1)}} |- (l - (2^{t} * delta)) <= (-(2 + (2^{t} * delta)))"
      ]
     },
     "execution_count": 35,
     "metadata": {},
     "output_type": "execute_result"
    }
   ],
   "source": [
    "temp_bound_03 = ell_upper_bound_neg_two.right_add_both_sides(neg_scaled_delta_lower_bound.lhs)"
   ]
  },
  {
   "cell_type": "code",
   "execution_count": 36,
   "metadata": {},
   "outputs": [
    {
     "data": {
      "text/html": [
       "<span style=\"font-size:20px;\"><a class=\"ProveItLink\" href=\"../../../__pv_it/theorems/f67ffeb951aaff9cc5f02f3801926b572b231a930/expr.ipynb\"><img src=\"data:image/png;base64,iVBORw0KGgoAAAANSUhEUgAAAKwAAAAYBAMAAACVRAuIAAAAMFBMVEX///8QEBAyMjKqqqpUVFRE\n",
       "RESYmJjc3NzMzMwiIiK6urpmZmaIiIh2dnbu7u4AAAAMEBwRAAAAAXRSTlMAQObYZgAAAAlwSFlz\n",
       "AAAOxAAADsQBlSsOGwAAAe1JREFUSMdjYCAZMBVAGXxJDFQE72GMnpPUNNYIzrIkTSPfKjyStZNu\n",
       "4De2uACHzkPr8FmqTMC1HK4PsIoz/2NgYN+t2oApU70pgoHhH25jIbpYHbAayzuBgaGUgfcXhgR7\n",
       "AMP9BVwCDByhQBCOxViILpB+HMa6MzAIYkiwFDAwCvA4vMDpWoguVGN5ImdOghsr/4DBHyPoGf8x\n",
       "sHznPnAPp7EQXSjGcuk8QHKtJwODP0bgskxgYPnBsQ0mXqt/B00BRBfYWL47p8HmFT1ADgQgmI8t\n",
       "gDg/EEic86H6VzZwXADx1eEy3ArgdPIHm67+A/hNBeniEQDG7jcGngUgAQW4VGEC2F1Yk8kUAo4F\n",
       "6WL/DExkf87cAlsjOXPmzKkgVokWWMFWbLq4A7DkSc2ZINCA0PVEmYEf6ig+uAaOraBQZsPq2BQC\n",
       "joXourSAgR8WWIhUAc4ltgzsmHmb+QJDOV5jwbpAuZQTGF8GIJEzKNkBGI08mFm7l4HhHN4IA+vi\n",
       "BUYZmwLDa7CzmAyQja3cvXsnpHQFRiXfJ2jmnb179wR8xkJ0gRPY2TRIMPC5rkMydv7//xCzODcA\n",
       "idnQaP7//78C3kQL1oWaebmuImVeSgCeooYGxoJyCSWAG3tAgXIJJeBhAnbxamdKTK0F6gYAv0eE\n",
       "w3ELTC0AAAAASUVORK5CYII=\n",
       "\" style=\"display:inline;vertical-align:middle;\" /></a>, <a class=\"ProveItLink\" href=\"../../../__pv_it/theorems/f01e5817c994f42806cb80f31cb3ebf09f18f49a0/expr.ipynb\"><img src=\"data:image/png;base64,iVBORw0KGgoAAAANSUhEUgAAAKgAAAAYBAMAAACcr6vyAAAAMFBMVEX///+qqqq6urru7u4QEBBE\n",
       "RERUVFTc3NyIiIgyMjJmZmaYmJjMzMwiIiJ2dnYAAACPW0xlAAAAAXRSTlMAQObYZgAAAAlwSFlz\n",
       "AAAOxAAADsQBlSsOGwAAAdtJREFUOMtjYKAYcBZAGcw7GagG7GGME73UM1QSzpLFo8pIgRQz626+\n",
       "QTa0sACrKo5JBiS5dCKKS3lSQbrf/kFTJI/VTJ7LWASrVsYwMHxG9T5rApDg/oCm8i02M81WfsYU\n",
       "ZA9geK/A5MDAEwoE4VBD+S4ACa4JeA3VhgUKFkPZChhYHDgSbFBcCjaUtwGiKfbuTWyGSuAxlOUz\n",
       "A9t3robHmIbWHwAxmWYYYHcpPkPZLjCw/eFZfQCWDua/gBm6HyxQaYDifeYXXQaEDQX5Ez1GIIam\n",
       "gpnTEaIrgVj3AM8Dogw934CRIh2AhAeYiYgtdm8g/s3AoUCUodcwk8RHYPr7Dk6Fvnfv3r0KFssE\n",
       "msb6o+MRiLP27l2Xu3ev4TaUKwBL6psIcS0DM0LyVDADA38CURHFwLANi9hLBWAGAMfIBYRgGNDQ\n",
       "BuIMZXzAUI4hBlTIvwEcIx0oiZ8XKCZAhKHnGBiaMWIf6HV+ZbCrOAWQDeWewGBVgGoo33do6QmM\n",
       "Uuaf0Di5tWrVBWxJinsdpNROVUZOp327G1C9z5byMxuSMBcAiVvQRPr///8JWNMpFDA9xZ9NiQZ8\n",
       "F7CJYi9QKDS0hbLaBaPUA4N6AYoMNdmATZR9GSWm1iUyMAAAMyWCGgj5uJ8AAAAASUVORK5CYII=\n",
       "\" style=\"display:inline;vertical-align:middle;\" /></a> <a class=\"ProveItLink\" href=\"../../../__pv_it/_proof__fail_ineq/b7ab18c556d16c381760ce7fa8448ef5223db8ed0/proof.ipynb\" style=\"text-decoration: none\">&nbsp;&#x22A2;&nbsp;&nbsp;</a><a class=\"ProveItLink\" href=\"../../../__pv_it/_proof__fail_ineq/31c483eb9d266f06790fda2f360513a4349cea9d0/expr.ipynb\"><img src=\"data:image/png;base64,iVBORw0KGgoAAAANSUhEUgAAAPwAAAAaBAMAAABhmCzLAAAAMFBMVEX///9UVFQiIiKIiIjMzMx2\n",
       "dnYQEBDc3NxEREQyMjLu7u5mZmaqqqq6urqYmJgAAAB66f/FAAAAAXRSTlMAQObYZgAAAAlwSFlz\n",
       "AAAOxAAADsQBlSsOGwAAAtBJREFUSMetlr9rE2EYx5/LryN3aSwutlBorYNoh8QKDk5ZnHOoUxcz\n",
       "iZuHIAoOqeDgpKmTg0hAF6fETsaApINDJ+NfYFVwETFgoLTYxud537vee2/ee5O3+MJ9Ez7H93vv\n",
       "c++PewEmtLwP/6FpUn5pcUvCbbzc6XM0KVwKbWVYiLclfh8ve11jmDqFyxt18QG+e+56nBfLKN+T\n",
       "DQYpTJ6oHx/iFwKzO7d8OI9/Us1kw/QpJHYNr+7ziuQj/KDzCGBfgFn43IQL+Cc9O/YgMmRLFZMU\n",
       "EtejQcgeSGmIcYRv9GdqArSo6BaKI8Zt+4EB4LdRCsmJPsApgJuSEbHlQ66Wnn0dQVZ0fgflZQS/\n",
       "vQ8NAB2zFJQqduN2ExalhYk4tw/Wrltei6Dzlyqiaf/uiK2uHRkAzoBRCsoq/pwEWJRGDbG1BNYw\n",
       "80G88RSfkaYXeSmMulqODGAPwSgFZZ6jkmTkODWIwa1P2OcZGvcvfOo7mzuioTgwS0F5zFDmj2Tk\n",
       "uFqOLdaGhaYMlVhl1TjzvZjBWjdLQdngHZRXEsenY6zuF9Bk0yKp93l1vZghVzZLQVlhjE0l59ky\n",
       "NVYYw25YjbNHOsf67JCxxR9vRy+fDFVfmwKtRjwFhXWwOLaNMPwVxHA4hMwgmF/1ijz1NoQJmZSS\n",
       "asdT7ODlfwTbHzcWPLgnIGeI44YDthvWGVt4ZHjogFEKyhz9eJCWdnHCVwAui2wI+V585gvbDhkO\n",
       "s2CUgkIv7E63uykZEdsr3e6SyK7BFg0Urdgf4qZbCQxw8MosBYXqKI1Ge5IRcWo0GjVElr1I+7pL\n",
       "8+Tt2CeHcn56Zikoub7ye5uAFXu+zjAhBcX1lLcTsOqLpzHoU0gyNeXtBByso2ChOsvRElca9ClM\n",
       "FtT3F5KMZ2kB+1MatClM9Ge9sXass546hUlBPT4JWHPS9QxTuEw458uNNhm3aXrOV6WQ/AP/LQFs\n",
       "g8o0KwAAAABJRU5ErkJggg==\n",
       "\" style=\"display:inline;vertical-align:middle;\" /></a></span>"
      ],
      "text/plain": [
       "{e in {2 .. 2^{t - 1} - 2}, l in {e + 1 .. 2^{t - 1}}} |- (2 - (2^{t} * delta)) <= (l - (2^{t} * delta))"
      ]
     },
     "execution_count": 36,
     "metadata": {},
     "output_type": "execute_result"
    }
   ],
   "source": [
    "ell_lower_bound_two_2.right_add_both_sides(neg_scaled_delta_lower_bound.lhs)"
   ]
  },
  {
   "cell_type": "code",
   "execution_count": 37,
   "metadata": {},
   "outputs": [
    {
     "data": {
      "text/html": [
       "<span style=\"font-size:20px;\"> <a class=\"ProveItLink\" href=\"../../../__pv_it/_proof__fail_ineq/3db8a858b432d89a4fdeb6fb209a6ca2d3cc263a0/proof.ipynb\" style=\"text-decoration: none\">&nbsp;&#x22A2;&nbsp;&nbsp;</a><a class=\"ProveItLink\" href=\"../../../__pv_it/_proof__fail_ineq/0c183cc29d4bb6134e13faa723a568b458c1117b0/expr.ipynb\"><img src=\"data:image/png;base64,iVBORw0KGgoAAAANSUhEUgAAAGEAAAAaBAMAAABVzS+SAAAAMFBMVEX///8QEBC6urrMzMxUVFRE\n",
       "RESYmJgiIiLu7u6qqqoyMjLc3NxmZmaIiIh2dnYAAABcDckaAAAAAXRSTlMAQObYZgAAAAlwSFlz\n",
       "AAAOxAAADsQBlSsOGwAAAdNJREFUOMuNVDtLA0EQ/sj78rhE/4DxF3j2QgIWvorY20QsBEFIJ4KQ\n",
       "WNkISR3ER6EggpyF2AixUCIYQwTBTtJpExBBiRGNs7sxt3dxgwO3s3x73+58szML9LUj/Nd8ce4C\n",
       "L3Y4rGZsCaft2uHQrIoQEH+Gno4N+8KyiuFNCx8sSOD53hz8OZrojZsexgntX9k3EM1JYN01iUiS\n",
       "JofYMLtoUUyrwCn0VwzL20yycJuUlQz0rp7Fa+FfgRlgAPcBScc9Gw4o5CS0Zgd7eBbeTcBQDinz\n",
       "VpfCyjNRV0D0Au4PkaCnWmctkgEmgJQxtiCng218R0xivHNCOf275hHJzdqyoU290TiSQ6kO9xcj\n",
       "TFuZ9HJhHLZsCSkKMWFwxjdDJEaQ5RD+pO26P7FDaSjFka/DxTcLWVH5LyBEdiqgxSKdZfsjH2fK\n",
       "NadyfobPOmKNvmgaCXIlg8Xsc2aXM7YRMqWo8gYpIR0mfDGEdx03SBHAXUdErpGoQdXBc4VVrFsX\n",
       "W+TTSAw4q1TKsnK9prGT5+nbbIw7C9FFYWbb7ZYNbDyy8VJR7YPKVjtQ4FVlqzWl+Qo3IWlU2f9J\n",
       "xYKnoFjwm/37vNeUfU7X96ep35Lf98ppYbq/Hy5rc/oL5o+kAAAAAElFTkSuQmCC\n",
       "\" style=\"display:inline;vertical-align:middle;\" /></a></span>"
      ],
      "text/plain": [
       "|- 0 <= (2^{t} * delta)"
      ]
     },
     "metadata": {},
     "output_type": "display_data"
    },
    {
     "data": {
      "text/html": [
       "<span style=\"font-size:20px;\"> <a class=\"ProveItLink\" href=\"../../../__pv_it/_proof__fail_ineq/90d01d36e7afa6609ee854a74afaa7f2cd3796810/proof.ipynb\" style=\"text-decoration: none\">&nbsp;&#x22A2;&nbsp;&nbsp;</a><a class=\"ProveItLink\" href=\"../../../__pv_it/_proof__fail_ineq/8f6d29620a8cb47dd459b0868057446f0f726fc20/expr.ipynb\"><img src=\"data:image/png;base64,iVBORw0KGgoAAAANSUhEUgAAAF8AAAAaBAMAAAAj950ZAAAAMFBMVEX///9UVFQiIiKIiIjMzMx2\n",
       "dnYQEBDc3NxEREQyMjLu7u5mZmaqqqq6urqYmJgAAAB66f/FAAAAAXRSTlMAQObYZgAAAAlwSFlz\n",
       "AAAOxAAADsQBlSsOGwAAAZ9JREFUOMtjYIABzgIGIsFbCLUeTXgDLvU8UJmTaOIVuDSshFClmiGo\n",
       "4nwGODT0Qek5SGLsOzMKGLSwq2dPYGCo3tnCwPALSZCV4eICBkNMxU4LGBi4AxjYGxjiL/AmIEkw\n",
       "LgCFwgI05VzS84FC/BcYGAsY2BKYBZYgpJgFQOH8AMMGe6AG/wUMbL8YGL9zG0QhmfUHSHA3IARO\n",
       "FsA1GAEdoMDA+IVlnwOSUf1AGWaEIx/tQtggCWYxfUCx+uB5oOm88GAwikJyUgeY5Y8S6HwTGIGK\n",
       "Wb5A3RdkgOyHiWCWIooF9QU8QMXsfyHhvukBiqe1GVD8t34CkJAAm84F0SB5ADWUwDY8hAsxgVLW\n",
       "PwYWoJ/Yv+DUwBPAUI4cQV+AvgD64TtWJ0kAaVcGBitkP3xh4DyACCU0T5sBzdDevVsBWUMww0FQ\n",
       "WMHigcsIZlw8MP7uL2Bg+v///wRkDazGAaCQEEBEHCQiBPMnPmBgu4AroyCnpZeI/MsdgEsDRmqF\n",
       "AJYEXBoe4hCXwaVBHX+exgA48zQPDk9UECqX0MEu7MIAtk5mgn+yH7UAAAAASUVORK5CYII=\n",
       "\" style=\"display:inline;vertical-align:middle;\" /></a></span>"
      ],
      "text/plain": [
       "|- (2^{t} * delta) < 1"
      ]
     },
     "metadata": {},
     "output_type": "display_data"
    }
   ],
   "source": [
    "display(scaled_delta_lower_bound)\n",
    "display(scaled_delta_upper_bound)"
   ]
  },
  {
   "cell_type": "code",
   "execution_count": 38,
   "metadata": {},
   "outputs": [
    {
     "data": {
      "text/html": [
       "<strong id=\"scaled_delta_plus_2_lower_bound\">scaled_delta_plus_2_lower_bound:</strong> <span style=\"font-size:20px;\"> <a class=\"ProveItLink\" href=\"../../../__pv_it/_proof__fail_ineq/aef26c09a1ca06603ae4e2cc6c3f48d13ab181930/proof.ipynb\" style=\"text-decoration: none\">&nbsp;&#x22A2;&nbsp;&nbsp;</a><a class=\"ProveItLink\" href=\"../../../__pv_it/_proof__fail_ineq/b5f6f620a6867cd6c50d2b1435942fe9c3cf8f2f0/expr.ipynb\"><img src=\"data:image/png;base64,iVBORw0KGgoAAAANSUhEUgAAAJcAAAAaBAMAAABIn9NMAAAAMFBMVEX///+qqqqYmJiIiIgiIiLu\n",
       "7u4QEBBUVFS6urp2dnbMzMxEREQyMjJmZmbc3NwAAADzFso2AAAAAXRSTlMAQObYZgAAAAlwSFlz\n",
       "AAAOxAAADsQBlSsOGwAAAmJJREFUOMudlT9o1FAcx3/pJZe7cIndilBQUNQxYNW1Q9TFamYR7gZx\n",
       "cTCCW4u9zdGA7dJFV6eWjjp4uji4FKk42EAGFxE9/1CQQxp/v/cu75+5lOsP8pJ83nvf/N7v93sv\n",
       "AEewTj7V8HO1uGvgHbz8iVrWTi2eN/hXvIKtSWK3avGXaxs6nwmxOTVJbLsev1ZYsHc3h8v4YMf4\n",
       "kr17Zk4KepWc8Le9FwD7CmzDoxgu4UMjofW2/8iueZYnPzU5jDFG5mm/1VOgG1NGsHHwEw8B7oie\n",
       "0x/Y7Vhf5a2T417Ebg7NXiO5KcXIIejQkDcA92JYLctmYZ3fN2OVWyEI3NwH98AP16WY85N8plR+\n",
       "AngAsMqD46yVsxZA5ZaC3UVwR957NZqv8MsNWvhF9nqDa+2Wy4EVULgU49j+oQVy7gR61aKUPKbo\n",
       "eb+Z1sqsGPCStZwrYhxvhlqJDVwU8kbUQf7aCf+uFHvLXUgMMY6vao4NcwuFAkr8sM8Dx6pILnOJ\n",
       "tYz7UXTldhQlAvti23QH2CwzrxwS66LYTFLmZU1zQXDds7PCKZt26i/wMIYBLXOIyzwOgVkabJbg\n",
       "mpiVwndllc4Io4YxO6CY5eCl0IiNol2m8AsuxAg/B7igxmwEnVmZzc9ZtqtsJ1ZBVDGSCzHEwVKW\n",
       "LapiT2COQkJ1dgaLqSj+mhudKkZyIYbYLopioA5tn08pKxTfj9VHTbOvHYlhJdbO8fHerDI6NaSJ\n",
       "ja5j1cpTQ+QlYsZi5vUqp0zA43oRpWTa/akwwHUqu/xI/4D/rP4fYKXT4EP+Tof8N02jUvcxB/8A\n",
       "gC+oPCayU/gAAAAASUVORK5CYII=\n",
       "\" style=\"display:inline;vertical-align:middle;\" /></a></span><br>"
      ],
      "text/plain": [
       "scaled_delta_plus_2_lower_bound: |- 2 <= (2 + (2^{t} * delta))"
      ]
     },
     "execution_count": 38,
     "metadata": {},
     "output_type": "execute_result"
    }
   ],
   "source": [
    "scaled_delta_plus_2_lower_bound = scaled_delta_lower_bound.left_add_both_sides(two)"
   ]
  },
  {
   "cell_type": "code",
   "execution_count": 39,
   "metadata": {},
   "outputs": [
    {
     "data": {
      "text/html": [
       "<strong id=\"temp_bound_06\">temp_bound_06:</strong> <span style=\"font-size:20px;\"> <a class=\"ProveItLink\" href=\"../../../__pv_it/_proof__fail_ineq/1d27cc627de1b209285c2b11ca96a2b3db72fd1b0/proof.ipynb\" style=\"text-decoration: none\">&nbsp;&#x22A2;&nbsp;&nbsp;</a><a class=\"ProveItLink\" href=\"../../../__pv_it/_proof__fail_ineq/f7f6ec5a65657afa2dee09b60601756861fa649b0/expr.ipynb\"><img src=\"data:image/png;base64,iVBORw0KGgoAAAANSUhEUgAAANwAAAAaBAMAAAAuxS8bAAAAMFBMVEX///9UVFQiIiKIiIjMzMx2\n",
       "dnYQEBDc3NxEREQyMjLu7u5mZmaqqqq6urqYmJgAAAB66f/FAAAAAXRSTlMAQObYZgAAAAlwSFlz\n",
       "AAAOxAAADsQBlSsOGwAAAzdJREFUSMelVj1oU1EUPkle8+xr2gQXbQkkZhGs0rSgg4MEQReHpHVz\n",
       "MVMHoRgctOBgQaFOEgV/BikZdUqtFGqzBKVCcbBTxxp/EDsIBQvVQonn3Ptucs7zNjR4hpP3Tr73\n",
       "ffeee869F6A7ewr/az/F28BaJ5C3JcN95OZb7gAWk8APHUGxsoy7M+imwbgD2Evx5pU7gdyJxzn5\n",
       "x1dKSNa4oJXk2Mg9EKFDDaucAfXWWfD2k1kIV/DhBBgnLVIXr/04IrcoQjeJ5s29wHcEcmvPchCv\n",
       "sGihfwgiCXwYBeOkrbChEec5XOyCQCyq9bgaqBcCTUPPHqzz6BAlfxddtWKcb6ulwMJozt4KxCXz\n",
       "HkCoBFF/yht+lEBHACZh1GNrp+YzRyluGKfty7IeZDuiOQfmIc/TAw4ONroLoR39+s4PE+h6BVKl\n",
       "1z0MXqWlWSLeGeOUjV3Rv9E21Oe8BmNycdM4kjSEtqUcgQ4DpHKXvvGyokSeoa+KxlEKJ0yNrrah\n",
       "PuccDAq5kE53eEvK+aAR2YvJ3+g/4XT7SVc5VFtosDpgRpzjcF/2gc5IPivlNMj5JbCbkEKpPC6m\n",
       "Q8lQDrzBdvHPCThxbsJDEetNqJ9jIOU0KJwQzbEDH1HqDlaRuwe+w0S05U4KauJ8D8M4okcZMqq5\n",
       "sNqs9KovZDKTmYxSHlYfLLVqhFIemlEzq6KcR0qelnPbyZzi1Iozb53dZ7DNbqA1OTWoeAO/xtkh\n",
       "lUt5dLeDpTLFmRXnuk0uVoBbFrkVcPkeWM3hUuCAMeZQ3zg7wUbgydScb+GorEya8gWAs1KOQE4B\n",
       "IrxH4zl4bqlM1uZ3GVpz/lB9w/qONsfhWi0t5Qh0o1Zb4NCebIxS8Z3SXDTOdJzae8ZZXWnORTU6\n",
       "tmnjEMPNZrMs5Qg00mz+EUO7fJr8KyqthHHCzrOm05ynICr3TLG8Lbno2r7HpW3PNBq54MGStpwI\n",
       "zDbYiWA3+4ng30OCFwrcsx153l20kgZAnDJhilx3j5dp9TDAbABMF4ykLM26lTW5n1yYeuM4GCft\n",
       "ReB9tsu7yr/W8a7iylikpBtwnwNfdqnVur+JdXXPDFof1Ydq6uUDaf0F/w7chkMa3rYAAAAASUVO\n",
       "RK5CYII=\n",
       "\" style=\"display:inline;vertical-align:middle;\" /></a></span><br>"
      ],
      "text/plain": [
       "temp_bound_06: |- (-(2 + (2^{t} * delta))) <= (-2)"
      ]
     },
     "execution_count": 39,
     "metadata": {},
     "output_type": "execute_result"
    }
   ],
   "source": [
    "temp_bound_06 = scaled_delta_plus_2_lower_bound.left_mult_both_sides(Neg(one)).with_styles(direction='normal')"
   ]
  },
  {
   "cell_type": "code",
   "execution_count": 40,
   "metadata": {},
   "outputs": [
    {
     "data": {
      "text/html": [
       "<strong id=\"temp_bound_07\">temp_bound_07:</strong> <span style=\"font-size:20px;\"><a class=\"ProveItLink\" href=\"../../../__pv_it/theorems/f67ffeb951aaff9cc5f02f3801926b572b231a930/expr.ipynb\"><img src=\"data:image/png;base64,iVBORw0KGgoAAAANSUhEUgAAAKwAAAAYBAMAAACVRAuIAAAAMFBMVEX///8QEBAyMjKqqqpUVFRE\n",
       "RESYmJjc3NzMzMwiIiK6urpmZmaIiIh2dnbu7u4AAAAMEBwRAAAAAXRSTlMAQObYZgAAAAlwSFlz\n",
       "AAAOxAAADsQBlSsOGwAAAe1JREFUSMdjYCAZMBVAGXxJDFQE72GMnpPUNNYIzrIkTSPfKjyStZNu\n",
       "4De2uACHzkPr8FmqTMC1HK4PsIoz/2NgYN+t2oApU70pgoHhH25jIbpYHbAayzuBgaGUgfcXhgR7\n",
       "AMP9BVwCDByhQBCOxViILpB+HMa6MzAIYkiwFDAwCvA4vMDpWoguVGN5ImdOghsr/4DBHyPoGf8x\n",
       "sHznPnAPp7EQXSjGcuk8QHKtJwODP0bgskxgYPnBsQ0mXqt/B00BRBfYWL47p8HmFT1ADgQgmI8t\n",
       "gDg/EEic86H6VzZwXADx1eEy3ArgdPIHm67+A/hNBeniEQDG7jcGngUgAQW4VGEC2F1Yk8kUAo4F\n",
       "6WL/DExkf87cAlsjOXPmzKkgVokWWMFWbLq4A7DkSc2ZINCA0PVEmYEf6ig+uAaOraBQZsPq2BQC\n",
       "joXourSAgR8WWIhUAc4ltgzsmHmb+QJDOV5jwbpAuZQTGF8GIJEzKNkBGI08mFm7l4HhHN4IA+vi\n",
       "BUYZmwLDa7CzmAyQja3cvXsnpHQFRiXfJ2jmnb179wR8xkJ0gRPY2TRIMPC5rkMydv7//xCzODcA\n",
       "idnQaP7//78C3kQL1oWaebmuImVeSgCeooYGxoJyCSWAG3tAgXIJJeBhAnbxamdKTK0F6gYAv0eE\n",
       "w3ELTC0AAAAASUVORK5CYII=\n",
       "\" style=\"display:inline;vertical-align:middle;\" /></a>, <a class=\"ProveItLink\" href=\"../../../__pv_it/theorems/bb8428576c5e9aef5059458d15ab082fff89783c0/expr.ipynb\"><img src=\"data:image/png;base64,iVBORw0KGgoAAAANSUhEUgAAAQYAAAAYBAMAAADqsE5QAAAAMFBMVEX///+qqqq6urru7u4QEBBE\n",
       "RERUVFTc3NyIiIgyMjJmZmaYmJjMzMwiIiJ2dnYAAACPW0xlAAAAAXRSTlMAQObYZgAAAAlwSFlz\n",
       "AAAOxAAADsQBlSsOGwAAApVJREFUSMdjYCAMOAugDOadDAMF7GGME70D5gZJOEuWbnYaKaBw626+\n",
       "ocgN7PjECwuwynFMMkAVmEhZODTiEGdqABI8qSDL3v5Bk5NHckLVyhgGhs943MBzmZATGB9gEz0L\n",
       "tKQbxGBNABLcH9Ck3yIFVwDDewUmBwaeUCAIx+IGs5WfCbnBEosYc9Z8oBs4QZ7luwAkuCbgdgNb\n",
       "AQOLA0eCDUY4MG2ARRxBN6xG5mjDGP1A+7kXwNzA2wARbb17dwK6G1g+M7B952p4jOEGxgai3eCA\n",
       "zJFAdgODM8wN9QfAgprN2MLhAgPbH57VB2A5ZP4Lkt3AOAG3G2bD3LAfEvOTscUFKJg+YDWZaDdw\n",
       "gZKkXcdibG54BnNDKmp5zMCwEsWM8w2UuYETmHKY7jCcw+YGUNHPAYorD4hSRF7wRjHjGgNlbuAV\n",
       "AEb3BoYmbG4QAVn3EZjBv4PFjtwFggCQWCawlGSeC+LeBaYDrgAswXv37hXfu3cTcLsBoZ+BBWhc\n",
       "fEcfqOhde/euy9271xBuOA/O3hMhYcHAYArXfyoY2bRtDBSGA8gN33CkSRUQ66UCsJwCF4u8CF1h\n",
       "qIVcOeVx8QOHG0BZnRFoAP8GcFnK0YA1XwCTUjNlbmAFqrwH1IDNDVtB+QIYD/zKDWgVE3JZfWvV\n",
       "qgt43cAHSU7MP2EEOuBLAKV/5uVobngPyofroHmTex205A8ywHQD7////yfgcwNbys9sMOMWnECv\n",
       "1IB2cLzegRYXaf7TgHn2Eqx8gAG9WMyyGnfp10B01X0HazkJDuUL6G7AUU7iqPs3EO2GXVjrLHAe\n",
       "34DTDS3UbZWxFuCSKWXAVm2DQb0AVd3AHIBLJhxEmGANUfZl1HVEBQ5xDlAA1SUyMAAAyNK7OkwI\n",
       "2cMAAAAASUVORK5CYII=\n",
       "\" style=\"display:inline;vertical-align:middle;\" /></a> <a class=\"ProveItLink\" href=\"../../../__pv_it/_proof__fail_ineq/8e0c73bbfef36523f39b8732a6f0c404623cbca40/proof.ipynb\" style=\"text-decoration: none\">&nbsp;&#x22A2;&nbsp;&nbsp;</a><a class=\"ProveItLink\" href=\"../../../__pv_it/_proof__fail_ineq/764baf2d06d234d01156470029e0ef027fe34eae0/expr.ipynb\"><img src=\"data:image/png;base64,iVBORw0KGgoAAAANSUhEUgAAALIAAAAaBAMAAADh6xvYAAAAMFBMVEX///9UVFQiIiKIiIjMzMx2\n",
       "dnYQEBDc3NxEREQyMjLu7u5mZmaqqqq6urqYmJgAAAB66f/FAAAAAXRSTlMAQObYZgAAAAlwSFlz\n",
       "AAAOxAAADsQBlSsOGwAAArNJREFUSMelVk1oU0EQnpe/R15+7NFAD7EeRKP4rNCDBymC56TqyYs5\n",
       "ilB4F1HwUEWhPdXUs5SAHvSUKBSMBWkFhZ6MF69GBVFE7CFQLNY4M5tkf97mGXEhy9uv8307Mzs7\n",
       "W4DIkQ7gP8b3CLBhwE38ZcYVzjYjwC0Dv44/9+aYyo8jwKuHL+h43sfpk42hp82ladlmNwDvq9at\n",
       "ywEcwY9YPUyIb2jLHHrgVgGSx2d1OwJvtO4A7CpgEt7W4QSpTISVX8lPJp7G86jg4odhhyBm81I7\n",
       "V1VAh1xt4OSp+21xGrya9IqIkK7DvjauWoYygk4AqWp84qESMLma7uC0KsGPz4UrHekAESHfhDJ5\n",
       "ctBQRjC1C85Oxr8oQe8XSVBhPBti0/2/p6QZEwGuwDQF0DWUEXSK4HQTL9QDuItOxCk/M4O9zvkQ\n",
       "qk4mUlwFqqVtQ7nAc0yHN9+gvznK8XtRHN7TYQ7WNEsizsESbWPW/pLIia+Vcs1B1QSFV+ZIvIKs\n",
       "tFU9mUj8CiuUGt9QXuH5gIYtBFlUdffosy0ik8pHNVMivoYS7UGV492bosHulGBwWOzcT5r3s78e\n",
       "KTeEsiuzMa/ymVhm92bA5vOH4ZI3+g2J7f5hL8yaJzivspn4jkVueRblbAWuKZDXxUxjnncGMWpV\n",
       "p2ZDEF9ikOhO0lAm8CzAKRXrQnpDrw3lptxWDAXxC2di74GhjKBbWl8vqth52KQKoXr+rN5uzsyc\n",
       "0nMEcY33/1YxlBGM9Xq9moolT5JVhq74k1BDOqMUsyAeg1Tb0kStoHi+OqHqZTmjWYJbFL0Owr1u\n",
       "xAj1uv41Mh8mbFGJqoVvBYcVlRf92ZuSFwAWLc/apE1gcpTyIQrd8qA/MtaLf3kHw1GPegddvUHE\n",
       "A1HYlrd7RKL/6e2O/H/DHHQvMvWxZP8A6OytFIyO0wUAAAAASUVORK5CYII=\n",
       "\" style=\"display:inline;vertical-align:middle;\" /></a></span><br>"
      ],
      "text/plain": [
       "temp_bound_07: {e in {2 .. 2^{t - 1} - 2}, l in {-2^{t - 1} + 1 .. -(e + 1)}} |- (l - (2^{t} * delta)) <= (-2)"
      ]
     },
     "execution_count": 40,
     "metadata": {},
     "output_type": "execute_result"
    }
   ],
   "source": [
    "temp_bound_07 = temp_bound_03.apply_transitivity(temp_bound_06)"
   ]
  },
  {
   "cell_type": "code",
   "execution_count": 41,
   "metadata": {},
   "outputs": [
    {
     "data": {
      "text/html": [
       "<strong id=\"neg_scaled_delta_upper_bound\">neg_scaled_delta_upper_bound:</strong> <span style=\"font-size:20px;\"> <a class=\"ProveItLink\" href=\"../../../__pv_it/_proof__fail_ineq/4ca0798bbbc4a553c0a7fe9bf33325834697b8d90/proof.ipynb\" style=\"text-decoration: none\">&nbsp;&#x22A2;&nbsp;&nbsp;</a><a class=\"ProveItLink\" href=\"../../../__pv_it/_proof__fail_ineq/01fdec9d6bd35dae7c6bb31947ad911f8589634a0/expr.ipynb\"><img src=\"data:image/png;base64,iVBORw0KGgoAAAANSUhEUgAAAKUAAAAaBAMAAAAkmYFJAAAAMFBMVEX///9UVFQiIiKIiIjMzMx2\n",
       "dnYQEBDc3NxEREQyMjLu7u5mZmaqqqq6urqYmJgAAAB66f/FAAAAAXRSTlMAQObYZgAAAAlwSFlz\n",
       "AAAOxAAADsQBlSsOGwAAApRJREFUSMelVT2IE0EUfpvdTS67uVwq/xCJciB6zRpBQSxstL1DrWxM\n",
       "aSMExR+wuBQWYuHFVkSi2FjlLOSMB0eusAgWrlhddfEEm0O4IhAueMb3dja782Z3JOLA7s68ffO9\n",
       "v2/eAGhGvgb/MX6yVdEX35aitYyPOylkYZktP4XfrqJ2H59cfULMN2zlNMT3zomrXK3o4et7yv4c\n",
       "XwYpe8JEU71w8lze1r5Rg5M4yTSTmOf58ivpV5noLj4P2g8BhpLQhi9NOIUTs5RM3UI8t9CuiU65\n",
       "C0zlXZC16/60bMog91r4coZ/S93LNv1+BjDjM5U9RKhBtmqWXsfCwL08ZeVFAnNNmpuEuQ0wz1Jk\n",
       "oTQ7BGPgetekwv0iIlHR3wvfevG/qoqZbUKFWTXL6GcZjL61dkESL6Fhk3afETYue1E6GyomxnOQ\n",
       "YRpCJbPDpOuf0cdp2rAZRlUZR8HKEWDaJXjEqSRYPe8xajYMVLb69GPs/daH8Aj3VMxiA57yUy7I\n",
       "cpQJF2sFxMvt0TSqaHdFRNRRMQtVmKOcH6MxSyrBQXXHZ9DZpfeBwEeHMFsxSzYO0TvrS9sDTGsn\n",
       "1c9v0Zoswm/SgxzFvhhXbuPxGJP7icxOwcSjcU9uAX3KEVgDymfUAbv7dbGXMTBWd4r6IsA5WdiH\n",
       "fEepO2ythEX1EjWqh4yLpEjC3NzqalkWXoF10iV+/gCFS7bcAeyBYNcmO0fkTGY0GslMBvs0kdCl\n",
       "3W9FNiqRd5Zk3di3ewS3+zzJADe1fVY6768kUs6qerfS+pJmaPrSdkpTsXj/vKTFJIIVk/1zSrkL\n",
       "g/vlMC98R4d5nJiTvEydeoqN9PsoMbT30W2+PKs2fxwfNZj/dG9q7nd1UB9ymxMB/gH4xKHbMoQG\n",
       "EAAAAABJRU5ErkJggg==\n",
       "\" style=\"display:inline;vertical-align:middle;\" /></a></span><br>"
      ],
      "text/plain": [
       "neg_scaled_delta_upper_bound: |- (-(2^{t} * delta)) > (-1)"
      ]
     },
     "execution_count": 41,
     "metadata": {},
     "output_type": "execute_result"
    }
   ],
   "source": [
    "# For 2nd summation\n",
    "neg_scaled_delta_upper_bound = scaled_delta_upper_bound.left_mult_both_sides(Neg(one))"
   ]
  },
  {
   "cell_type": "code",
   "execution_count": 42,
   "metadata": {},
   "outputs": [
    {
     "data": {
      "text/html": [
       "<strong id=\"two_minus_scaled_delta_upper_bound\">two_minus_scaled_delta_upper_bound:</strong> <span style=\"font-size:20px;\"> <a class=\"ProveItLink\" href=\"../../../__pv_it/_proof__fail_ineq/259303fee8d585f59e32dfff265e4140bc3f0c930/proof.ipynb\" style=\"text-decoration: none\">&nbsp;&#x22A2;&nbsp;&nbsp;</a><a class=\"ProveItLink\" href=\"../../../__pv_it/_proof__fail_ineq/445a1c9ad37ce59d55f4d664d6659673d4c0ab920/expr.ipynb\"><img src=\"data:image/png;base64,iVBORw0KGgoAAAANSUhEUgAAAJcAAAAaBAMAAABIn9NMAAAAMFBMVEX///9UVFQiIiKIiIjMzMx2\n",
       "dnYQEBDc3NxEREQyMjLu7u5mZmaqqqq6urqYmJgAAAB66f/FAAAAAXRSTlMAQObYZgAAAAlwSFlz\n",
       "AAAOxAAADsQBlSsOGwAAAk1JREFUOMudlUFrE0EUx99mN1my2aSpFysKrRaRNtBGBQ+9KILnLtST\n",
       "l+Yk3joIRcFDeuihJ016KrS0C+rBU1pP1gWxBw+ejJ+gFcGbIBgoBnV9b6duZt9mN6QPZjL7m+x/\n",
       "3rz3ZgdggOUFDGPfU3GL4V1shUQtezcVf2T8MTZzJUnsVSpenrob5aUqdl+TxJ6m4y2FmfsPBEzj\n",
       "IOP2f8msYfM2bvXBT/ZXAboKzMJnF67iQC/HhW7jAgWH4pD9w6YQY2QW28WaAjVyqIWd1eVS1vkd\n",
       "5CNtgLMA99kkYk1ArqaXX/Rg4FD+CLvtuGc3UWwe25IL46ycEOe6oB0XqveU5X+Tz5TKN/J5m4ld\n",
       "w98zAOMsaIi1CdA6xjt14hm+oNPGb8jnl5NRsXNyOMucljjzIwIPPqFXRYrX4Uk69cuuKrYWjIyf\n",
       "TEzi+WqkxBoaChkdmvjvb6niKmJN6QLPtcQXI6wubBQyKfH1dnhSNkVPrBKMgoBa65fIgkUDXAiP\n",
       "TauB3VjglUVirVAMik036lkpVoQB/hI+Zuik/gUDY2jSNuu9tBQ3mNgHMEVczHbgkVqXHYwaxuyY\n",
       "Yhb+3W4q2xyj8Dugs9NG+A7AnMo6kH/PsokJEEoCqGIeet5rtk3EZsXzJlS2AAf0OtXZN4iVxqKQ\n",
       "a8z6/i8mhjjj+35DZdnrDmWF4rsnyfNe0Y4uNY8g1+77MUnA0bNpzcQ/D/0sASd+NaQZtWHwSb2U\n",
       "ygmTF4bCAFeo7MSp7oCYpd8BtjMMHnA7Dbg3ub2l7CTcJ/8AJvSVap8gA6MAAAAASUVORK5CYII=\n",
       "\" style=\"display:inline;vertical-align:middle;\" /></a></span><br>"
      ],
      "text/plain": [
       "two_minus_scaled_delta_upper_bound: |- (2 - (2^{t} * delta)) > 1"
      ]
     },
     "execution_count": 42,
     "metadata": {},
     "output_type": "execute_result"
    }
   ],
   "source": [
    "# For 2nd summation\n",
    "two_minus_scaled_delta_upper_bound = neg_scaled_delta_upper_bound.left_add_both_sides(two)"
   ]
  },
  {
   "cell_type": "code",
   "execution_count": 43,
   "metadata": {},
   "outputs": [
    {
     "data": {
      "text/html": [
       "<span style=\"font-size:20px;\"> <a class=\"ProveItLink\" href=\"../../../__pv_it/_proof__fail_ineq/ac14c60572b0a3de3005747cc50ded48ec4daf500/proof.ipynb\" style=\"text-decoration: none\">&nbsp;&#x22A2;&nbsp;&nbsp;</a><a class=\"ProveItLink\" href=\"../../../__pv_it/_proof__fail_ineq/04331dbf26552bccf4b24e2e1453562ae58fec600/expr.ipynb\"><img src=\"data:image/png;base64,iVBORw0KGgoAAAANSUhEUgAAAJgAAAAaBAMAAAC5lIjBAAAAMFBMVEX///9UVFQiIiKIiIjMzMx2\n",
       "dnYQEBDc3NxEREQyMjLu7u5mZmaqqqq6urqYmJgAAAB66f/FAAAAAXRSTlMAQObYZgAAAAlwSFlz\n",
       "AAAOxAAADsQBlSsOGwAAAmtJREFUOMudlc+L00AUx79p0mabprGIoIKwVRHRilsVPHjai+cN1JMX\n",
       "cxJvBkEUPLQHD3vS1tOCixR/gXhI9aJrQNyDB0/Wv0BF8CYIVhZL3fhmJpsmk6alPsgw85nkO2/e\n",
       "e5MBZljRxTz2Yyr2JNyjp5SpZfam4g8Sv0mP3soSezYVXz92IcmtOjXfssTuTMfrMaZvXHFxnDq5\n",
       "7uSPdIcef215Ar61cRsYxmAen7o4RR21ktLJN15RMG0Wh/xfaY4wReZSv+zEoMIc8qgxhimxdTx0\n",
       "sasP7AUuS3OEFRcFR608HkPuUPELNQ9kLauKfAsrtNDVLhalciJcGELZKtUvjqExYj6zVL4W47Hm\n",
       "QgXmEKeptxtYlIJGWKlCGWhv4xN3aWWVbfysGD85HO2kB22E/WKwJLktcO5nAm5+JK/KLF6fw3Sq\n",
       "R8KOR2LbWOV97ZckJvBKPRGXtkJC2oBN7Phr1YRa02YaHeGCnGuBDyZY0zVJSGeJb/ajk3Lf3RH7\n",
       "jRpHPKDGvUPM+KIcl6Jj47Wp2ce9MpiYF4mh3OEFY6McemalipDjr9Ewx07qNjSKoc622RynpbzW\n",
       "FQkwR+Kr99DdtJhp40YMGQOKGsVsi8Uset3s8O5CC9aQfKd5G6p02hg+D5yLswGK76RsUgKErOWg\n",
       "1OYVc833X0rbJKzXfL8aZw1sis+A75BKAyfwdJmvsRQEfyQxwrkgCNqJs3zGZllh8X0hyKOoaPG8\n",
       "sQco9Cf+TDJw8mwaJ9O/h0mWgbP/GqL2nXlwWC/pUgrtwFwYOMrKzv2vOyBl0+8A054Hz7idZtyb\n",
       "sr1h2cm4T/4BBtmcbfh49XYAAAAASUVORK5CYII=\n",
       "\" style=\"display:inline;vertical-align:middle;\" /></a></span>"
      ],
      "text/plain": [
       "|- (2 - (2^{t} * delta)) > 0"
      ]
     },
     "execution_count": 43,
     "metadata": {},
     "output_type": "execute_result"
    }
   ],
   "source": [
    "greater(two_minus_scaled_delta_upper_bound.lhs, zero).prove()"
   ]
  },
  {
   "cell_type": "markdown",
   "metadata": {},
   "source": [
    "#### Bound on the First Summand and First Sum\n",
    "For the summand in the first sum, then, we can find both a constant upper bound and an $\\ell$-dependent upper bound. The $\\ell$-dependent upper bound is the one we want, but the constant upper bound is also interesting."
   ]
  },
  {
   "cell_type": "code",
   "execution_count": 44,
   "metadata": {},
   "outputs": [
    {
     "data": {
      "text/html": [
       "<a class=\"ProveItLink\" href=\"../../../__pv_it/theorems/830236c0f3b810c61362012256b01b92ec4c07070/expr.ipynb\"><img src=\"data:image/png;base64,iVBORw0KGgoAAAANSUhEUgAAAHUAAAAzBAMAAABbK1r+AAAAMFBMVEX///9ERES6urqqqqqYmJgQ\n",
       "EBDc3Nx2dnaIiIgyMjJmZmZUVFTu7u4iIiLMzMwAAAD4QZJGAAAAAXRSTlMAQObYZgAAAAlwSFlz\n",
       "AAAOxAAADsQBlSsOGwAAAg9JREFUSMftlj9IG1Ecx78m5oxez2QKTsWlW4cuIh2KdhQFQ6cOQpPF\n",
       "gkszCrb2BqFDHQR1zyCEBISIugVMJpFCE8yk/UO2QqGNdggIYvp77/dyvXteHE4cpPnC5x33vfu+\n",
       "e//yXoAbNPwVQfUpfxk4i2gv28veQXagFThq7l/soaf/V+3AOrtnPT1cKgXOZrEdOPsHbxpBszO3\n",
       "yALv+JLyeaS8Qe8zQ+EckdEnPjuV8qoub2EzEbIBAZAuS2+cGnClZclbyD8Enrq8TKiEFboKjKwh\n",
       "WvRgDejX1hd5RhzvR1+fLP8zxYwOlpn075/iw0OTxJo3S56ZQiSJdZf5kejPMq/abWFFCMv2ZsmL\n",
       "XMJswb1BV8UYzClYokv6ZJFn1mBehZIus09UtKFg5YhZbahysrTOosXPjhfePadyScEStexoWa65\n",
       "aQ/Zbx1vCgdlUTKsOvFSy9Zl+QXDW05njBYm6GYMDOsFLRJ57hx9E/quPBrseGfGLsQBE0eTsk0w\n",
       "Tjaa1L4rs9PO7SkRm5SZRwqnfX3F8vU2hzOYd89QQ/bzmYI1IurMeLPk4Qew6rJiDblQnitYNOKx\n",
       "x9raIM84LRRq7rPYDhfV7OUc8xetspzWX/Is2kU9K3XxgyiPFSzLZwOwum0KRo1REktbl5/X+ZFI\n",
       "Okr4vJPokk0rOqr4vFPpkk1o9Rq2T79s/z9NKYb1F2p1xZk48r/pAAAAAElFTkSuQmCC\n",
       "\" style=\"display:inline;vertical-align:middle;\" /></a>"
      ],
      "text/plain": [
       "1 / (l - (2^{t} * delta))^{2}"
      ]
     },
     "execution_count": 44,
     "metadata": {},
     "output_type": "execute_result"
    }
   ],
   "source": [
    "# A (temporary) reminder of the_summand\n",
    "the_summand"
   ]
  },
  {
   "cell_type": "code",
   "execution_count": 45,
   "metadata": {},
   "outputs": [
    {
     "data": {
      "text/html": [
       "<strong id=\"first_summand_bound_01\">first_summand_bound_01:</strong> <span style=\"font-size:20px;\"><a class=\"ProveItLink\" href=\"../../../__pv_it/theorems/f67ffeb951aaff9cc5f02f3801926b572b231a930/expr.ipynb\"><img src=\"data:image/png;base64,iVBORw0KGgoAAAANSUhEUgAAAKwAAAAYBAMAAACVRAuIAAAAMFBMVEX///8QEBAyMjKqqqpUVFRE\n",
       "RESYmJjc3NzMzMwiIiK6urpmZmaIiIh2dnbu7u4AAAAMEBwRAAAAAXRSTlMAQObYZgAAAAlwSFlz\n",
       "AAAOxAAADsQBlSsOGwAAAe1JREFUSMdjYCAZMBVAGXxJDFQE72GMnpPUNNYIzrIkTSPfKjyStZNu\n",
       "4De2uACHzkPr8FmqTMC1HK4PsIoz/2NgYN+t2oApU70pgoHhH25jIbpYHbAayzuBgaGUgfcXhgR7\n",
       "AMP9BVwCDByhQBCOxViILpB+HMa6MzAIYkiwFDAwCvA4vMDpWoguVGN5ImdOghsr/4DBHyPoGf8x\n",
       "sHznPnAPp7EQXSjGcuk8QHKtJwODP0bgskxgYPnBsQ0mXqt/B00BRBfYWL47p8HmFT1ADgQgmI8t\n",
       "gDg/EEic86H6VzZwXADx1eEy3ArgdPIHm67+A/hNBeniEQDG7jcGngUgAQW4VGEC2F1Yk8kUAo4F\n",
       "6WL/DExkf87cAlsjOXPmzKkgVokWWMFWbLq4A7DkSc2ZINCA0PVEmYEf6ig+uAaOraBQZsPq2BQC\n",
       "joXourSAgR8WWIhUAc4ltgzsmHmb+QJDOV5jwbpAuZQTGF8GIJEzKNkBGI08mFm7l4HhHN4IA+vi\n",
       "BUYZmwLDa7CzmAyQja3cvXsnpHQFRiXfJ2jmnb179wR8xkJ0gRPY2TRIMPC5rkMydv7//xCzODcA\n",
       "idnQaP7//78C3kQL1oWaebmuImVeSgCeooYGxoJyCSWAG3tAgXIJJeBhAnbxamdKTK0F6gYAv0eE\n",
       "w3ELTC0AAAAASUVORK5CYII=\n",
       "\" style=\"display:inline;vertical-align:middle;\" /></a>, <a class=\"ProveItLink\" href=\"../../../__pv_it/theorems/bb8428576c5e9aef5059458d15ab082fff89783c0/expr.ipynb\"><img src=\"data:image/png;base64,iVBORw0KGgoAAAANSUhEUgAAAQYAAAAYBAMAAADqsE5QAAAAMFBMVEX///+qqqq6urru7u4QEBBE\n",
       "RERUVFTc3NyIiIgyMjJmZmaYmJjMzMwiIiJ2dnYAAACPW0xlAAAAAXRSTlMAQObYZgAAAAlwSFlz\n",
       "AAAOxAAADsQBlSsOGwAAApVJREFUSMdjYCAMOAugDOadDAMF7GGME70D5gZJOEuWbnYaKaBw626+\n",
       "ocgN7PjECwuwynFMMkAVmEhZODTiEGdqABI8qSDL3v5Bk5NHckLVyhgGhs943MBzmZATGB9gEz0L\n",
       "tKQbxGBNABLcH9Ck3yIFVwDDewUmBwaeUCAIx+IGs5WfCbnBEosYc9Z8oBs4QZ7luwAkuCbgdgNb\n",
       "AQOLA0eCDUY4MG2ARRxBN6xG5mjDGP1A+7kXwNzA2wARbb17dwK6G1g+M7B952p4jOEGxgai3eCA\n",
       "zJFAdgODM8wN9QfAgprN2MLhAgPbH57VB2A5ZP4Lkt3AOAG3G2bD3LAfEvOTscUFKJg+YDWZaDdw\n",
       "gZKkXcdibG54BnNDKmp5zMCwEsWM8w2UuYETmHKY7jCcw+YGUNHPAYorD4hSRF7wRjHjGgNlbuAV\n",
       "AEb3BoYmbG4QAVn3EZjBv4PFjtwFggCQWCawlGSeC+LeBaYDrgAswXv37hXfu3cTcLsBoZ+BBWhc\n",
       "fEcfqOhde/euy9271xBuOA/O3hMhYcHAYArXfyoY2bRtDBSGA8gN33CkSRUQ66UCsJwCF4u8CF1h\n",
       "qIVcOeVx8QOHG0BZnRFoAP8GcFnK0YA1XwCTUjNlbmAFqrwH1IDNDVtB+QIYD/zKDWgVE3JZfWvV\n",
       "qgt43cAHSU7MP2EEOuBLAKV/5uVobngPyofroHmTex205A8ywHQD7////yfgcwNbys9sMOMWnECv\n",
       "1IB2cLzegRYXaf7TgHn2Eqx8gAG9WMyyGnfp10B01X0HazkJDuUL6G7AUU7iqPs3EO2GXVjrLHAe\n",
       "34DTDS3UbZWxFuCSKWXAVm2DQb0AVd3AHIBLJhxEmGANUfZl1HVEBQ5xDlAA1SUyMAAAyNK7OkwI\n",
       "2cMAAAAASUVORK5CYII=\n",
       "\" style=\"display:inline;vertical-align:middle;\" /></a> <a class=\"ProveItLink\" href=\"../../../__pv_it/_proof__fail_ineq/096cef98a9451e046391d579c058a048e014cb3d0/proof.ipynb\" style=\"text-decoration: none\">&nbsp;&#x22A2;&nbsp;&nbsp;</a><a class=\"ProveItLink\" href=\"../../../__pv_it/_proof__fail_ineq/bbf338e9474355342f6c69f1ac6b3ad04f37dcda0/expr.ipynb\"><img src=\"data:image/png;base64,iVBORw0KGgoAAAANSUhEUgAAAKAAAAAzBAMAAADiEx7zAAAAMFBMVEX///9ERES6urqqqqqYmJgQ\n",
       "EBDc3Nx2dnaIiIgyMjJmZmZUVFTu7u4iIiLMzMwAAAD4QZJGAAAAAXRSTlMAQObYZgAAAAlwSFlz\n",
       "AAAOxAAADsQBlSsOGwAAAodJREFUWMPtVk1oE0EUfs02m0222e5JPNkeBT14E+nBnASrYOxJ8OD2\n",
       "olCQ5ijUnz2JB4WAxZNIDoWQghBBTxWMp6JFLVRQ4w+9CYIaVArFEH3z3trM7k432XYRkX7wzSbf\n",
       "m/3mzc6bnQWIgPUOYqFX/6VaO5Zf7/5GPMPe/XcMdwz/S8PMWjzDXv3NB+v34/jF7f8Xod1K1m+w\n",
       "2UjUz3iVrN/i62Tn+/Rlsn5LNxNeYDNk+GvLaNH9UxtTHib131uUhMpmceZhsoVdgbvy1ruzbcNv\n",
       "ML2a6HM7rja0Klu3vKQS83W6OIqQp2WdsOzIH1rP3gt88MI3yNA4oCgFT3shaXrtpLMXr4IwqVpY\n",
       "6ygZHsT8O4EQalO1PQCH5BMD9jWMAg6G1Cu6Yl6ZrDAcKmMltfwR1HQbroyee3NZ2rYiqdvMyS+f\n",
       "FCleJcMcDpgr+yOomQ6kiyBvfUP0HmeeUW1avUCGabE6rj+EWroN5hrIB+3QdxFpMJWnKJCheEzB\n",
       "okLNXAazkyrK6ggaZQtMFY6wYRV5IhCqclW1jPrzrjh22MYs6kwFdJcNZ5H3ArFZar+6Ofdi9xVQ\n",
       "NtuiZSqQWlh4dLoEsIK/TwViK9S+BWuu+yymHQ2LSysy1UiLDCewIOmb5Em36Cdoqe0/q7EONAsL\n",
       "Da0WU41hm282gkOS4bGNv03R/CAjsUypzTLMjfx0aXoD9UZ4yloJzspF06Fnpy0zI7AbMy2UQhp8\n",
       "BLguax3I4gYftJkRmEHD/W5I05vz875MLsCYmFWJGYHPOGQ1rOXxSPSVR+aa8MmPMiOQX+1PY5z3\n",
       "GPUxVulPY8x5jMKuPjXaXjYzEo/71AQGHGYkdLc/jV6hHjfHb1fq/jHghCzRAAAAAElFTkSuQmCC\n",
       "\" style=\"display:inline;vertical-align:middle;\" /></a></span><br>"
      ],
      "text/plain": [
       "first_summand_bound_01: {e in {2 .. 2^{t - 1} - 2}, l in {-2^{t - 1} + 1 .. -(e + 1)}} |- (1 / (l - (2^{t} * delta))^{2}) <= (1 / 4)"
      ]
     },
     "execution_count": 45,
     "metadata": {},
     "output_type": "execute_result"
    }
   ],
   "source": [
    "# this seems to be needed/used for doing the more general case a couple cells below\n",
    "first_summand_bound_01 = the_summand.deduce_bound(temp_bound_07,\n",
    "        assumptions=defaults.assumptions + (first_sum_conditions,))"
   ]
  },
  {
   "cell_type": "code",
   "execution_count": 46,
   "metadata": {},
   "outputs": [],
   "source": [
    "# given such a result, with a literal int on one side\n",
    "# a side effect should prove that lhs is in RealNeg\n",
    "#\n",
    "# temp_bound_07"
   ]
  },
  {
   "cell_type": "code",
   "execution_count": 47,
   "metadata": {},
   "outputs": [
    {
     "data": {
      "text/html": [
       "<span style=\"font-size:20px;\"><a class=\"ProveItLink\" href=\"../../../__pv_it/theorems/f67ffeb951aaff9cc5f02f3801926b572b231a930/expr.ipynb\"><img src=\"data:image/png;base64,iVBORw0KGgoAAAANSUhEUgAAAKwAAAAYBAMAAACVRAuIAAAAMFBMVEX///8QEBAyMjKqqqpUVFRE\n",
       "RESYmJjc3NzMzMwiIiK6urpmZmaIiIh2dnbu7u4AAAAMEBwRAAAAAXRSTlMAQObYZgAAAAlwSFlz\n",
       "AAAOxAAADsQBlSsOGwAAAe1JREFUSMdjYCAZMBVAGXxJDFQE72GMnpPUNNYIzrIkTSPfKjyStZNu\n",
       "4De2uACHzkPr8FmqTMC1HK4PsIoz/2NgYN+t2oApU70pgoHhH25jIbpYHbAayzuBgaGUgfcXhgR7\n",
       "AMP9BVwCDByhQBCOxViILpB+HMa6MzAIYkiwFDAwCvA4vMDpWoguVGN5ImdOghsr/4DBHyPoGf8x\n",
       "sHznPnAPp7EQXSjGcuk8QHKtJwODP0bgskxgYPnBsQ0mXqt/B00BRBfYWL47p8HmFT1ADgQgmI8t\n",
       "gDg/EEic86H6VzZwXADx1eEy3ArgdPIHm67+A/hNBeniEQDG7jcGngUgAQW4VGEC2F1Yk8kUAo4F\n",
       "6WL/DExkf87cAlsjOXPmzKkgVokWWMFWbLq4A7DkSc2ZINCA0PVEmYEf6ig+uAaOraBQZsPq2BQC\n",
       "joXourSAgR8WWIhUAc4ltgzsmHmb+QJDOV5jwbpAuZQTGF8GIJEzKNkBGI08mFm7l4HhHN4IA+vi\n",
       "BUYZmwLDa7CzmAyQja3cvXsnpHQFRiXfJ2jmnb179wR8xkJ0gRPY2TRIMPC5rkMydv7//xCzODcA\n",
       "idnQaP7//78C3kQL1oWaebmuImVeSgCeooYGxoJyCSWAG3tAgXIJJeBhAnbxamdKTK0F6gYAv0eE\n",
       "w3ELTC0AAAAASUVORK5CYII=\n",
       "\" style=\"display:inline;vertical-align:middle;\" /></a>, <a class=\"ProveItLink\" href=\"../../../__pv_it/theorems/bb8428576c5e9aef5059458d15ab082fff89783c0/expr.ipynb\"><img src=\"data:image/png;base64,iVBORw0KGgoAAAANSUhEUgAAAQYAAAAYBAMAAADqsE5QAAAAMFBMVEX///+qqqq6urru7u4QEBBE\n",
       "RERUVFTc3NyIiIgyMjJmZmaYmJjMzMwiIiJ2dnYAAACPW0xlAAAAAXRSTlMAQObYZgAAAAlwSFlz\n",
       "AAAOxAAADsQBlSsOGwAAApVJREFUSMdjYCAMOAugDOadDAMF7GGME70D5gZJOEuWbnYaKaBw626+\n",
       "ocgN7PjECwuwynFMMkAVmEhZODTiEGdqABI8qSDL3v5Bk5NHckLVyhgGhs943MBzmZATGB9gEz0L\n",
       "tKQbxGBNABLcH9Ck3yIFVwDDewUmBwaeUCAIx+IGs5WfCbnBEosYc9Z8oBs4QZ7luwAkuCbgdgNb\n",
       "AQOLA0eCDUY4MG2ARRxBN6xG5mjDGP1A+7kXwNzA2wARbb17dwK6G1g+M7B952p4jOEGxgai3eCA\n",
       "zJFAdgODM8wN9QfAgprN2MLhAgPbH57VB2A5ZP4Lkt3AOAG3G2bD3LAfEvOTscUFKJg+YDWZaDdw\n",
       "gZKkXcdibG54BnNDKmp5zMCwEsWM8w2UuYETmHKY7jCcw+YGUNHPAYorD4hSRF7wRjHjGgNlbuAV\n",
       "AEb3BoYmbG4QAVn3EZjBv4PFjtwFggCQWCawlGSeC+LeBaYDrgAswXv37hXfu3cTcLsBoZ+BBWhc\n",
       "fEcfqOhde/euy9271xBuOA/O3hMhYcHAYArXfyoY2bRtDBSGA8gN33CkSRUQ66UCsJwCF4u8CF1h\n",
       "qIVcOeVx8QOHG0BZnRFoAP8GcFnK0YA1XwCTUjNlbmAFqrwH1IDNDVtB+QIYD/zKDWgVE3JZfWvV\n",
       "qgt43cAHSU7MP2EEOuBLAKV/5uVobngPyofroHmTex205A8ywHQD7////yfgcwNbys9sMOMWnECv\n",
       "1IB2cLzegRYXaf7TgHn2Eqx8gAG9WMyyGnfp10B01X0HazkJDuUL6G7AUU7iqPs3EO2GXVjrLHAe\n",
       "34DTDS3UbZWxFuCSKWXAVm2DQb0AVd3AHIBLJhxEmGANUfZl1HVEBQ5xDlAA1SUyMAAAyNK7OkwI\n",
       "2cMAAAAASUVORK5CYII=\n",
       "\" style=\"display:inline;vertical-align:middle;\" /></a> <a class=\"ProveItLink\" href=\"../../../__pv_it/_proof__fail_ineq/4bd6f3c22cd3ee21cc677670b23c6e104d33d9d50/proof.ipynb\" style=\"text-decoration: none\">&nbsp;&#x22A2;&nbsp;&nbsp;</a><a class=\"ProveItLink\" href=\"../../../__pv_it/_proof__fail_ineq/97ba452499ee7f0ac57000ea7de66ef5a057d9b90/expr.ipynb\"><img src=\"data:image/png;base64,iVBORw0KGgoAAAANSUhEUgAAAJQAAAAaBAMAAACjqGhPAAAAMFBMVEX///9UVFQiIiKIiIjMzMx2\n",
       "dnYQEBDc3NxEREQyMjLu7u5mZmaqqqq6urqYmJgAAAB66f/FAAAAAXRSTlMAQObYZgAAAAlwSFlz\n",
       "AAAOxAAADsQBlSsOGwAAAklJREFUOMuVlbFv00AUxj8ndtw6TsjAQCSGAAOiQaINEgNTF2YswsSC\n",
       "R0YvCCSGGomhE6TMHapSVUIMiVhQWgm1YyfCXwBlQwhRiaBKUdrwnn127PNh0je8XH5nf/feu3dn\n",
       "INfmPZzFfubAroR7sVOZ3cuBBxJ/GjuVvc2Bj6/dT/PqYuRU9jIPrieY2X/kYYFHC2ol0wWMG8tZ\n",
       "+Kz/AhgloIHPG1ji0VJGxWh/AMoOjX5JMwRNHw8HFTcBtQ3eh9ilbB2bHs4NaNSXZghqHkpusbY1\n",
       "hcUad8fXyKVK2IDh4y6vcEWaIlgaQTsuLz6YQmvM8fqRE3bAnTdXgz1Ci0szlKQIag1oQ/1jsoiv\n",
       "aNUip1yc5v1tJ8iiB32MOsd3JEnVA19I4/1PFEyFN6IS70YrjLpLUqdY5YL6ktRqmGaqf6odjRR0\n",
       "TkAXWVj3xBMrDvTfWKNRSe65tcBfSrEVzyYF8wTC0c/7qPws9QdNXp5LZ72+zBYUp4lUcbsdcheC\n",
       "YCxWsUKp+l78gINKGNUtqKI6jP8W+ESeQj8SOyS2aSpFZbfHwVvPLYWU7eBJAllDqhaV6RjCJROc\n",
       "81EdUdy0oCFJMbwD3E6yIeb3pB2My151Ue4EyZ28kaQIms3d3UaStbEfviRcoNUSq13H9jK+UN/9\n",
       "cCQpgoXJZNJJndib/FS5FjnRomFjvWufp0YYKK4LJQxvaPkMfveSl0DWlDDcdvXNEJjuzgoRd8jh\n",
       "PyYvzgzZrsbujHd7xvLvdtuZFf73i5P7HZRtJ3ZZ+wulqZgQKymhjwAAAABJRU5ErkJggg==\n",
       "\" style=\"display:inline;vertical-align:middle;\" /></a></span>"
      ],
      "text/plain": [
       "{e in {2 .. 2^{t - 1} - 2}, l in {-2^{t - 1} + 1 .. -(e + 1)}} |- (l - (2^{t} * delta)) < 0"
      ]
     },
     "execution_count": 47,
     "metadata": {},
     "output_type": "execute_result"
    }
   ],
   "source": [
    "Less(the_summand.denominator.base, zero).conclude_via_transitivity(assumptions=defaults.assumptions + (first_sum_conditions,))"
   ]
  },
  {
   "cell_type": "code",
   "execution_count": 48,
   "metadata": {},
   "outputs": [],
   "source": [
    "# Less(the_summand.denominator.base, zero).prove(assumptions=defaults.assumptions + (first_sum_conditions,))"
   ]
  },
  {
   "cell_type": "code",
   "execution_count": 49,
   "metadata": {},
   "outputs": [
    {
     "data": {
      "text/html": [
       "<span style=\"font-size:20px;\"><a class=\"ProveItLink\" href=\"../../../__pv_it/theorems/f67ffeb951aaff9cc5f02f3801926b572b231a930/expr.ipynb\"><img src=\"data:image/png;base64,iVBORw0KGgoAAAANSUhEUgAAAKwAAAAYBAMAAACVRAuIAAAAMFBMVEX///8QEBAyMjKqqqpUVFRE\n",
       "RESYmJjc3NzMzMwiIiK6urpmZmaIiIh2dnbu7u4AAAAMEBwRAAAAAXRSTlMAQObYZgAAAAlwSFlz\n",
       "AAAOxAAADsQBlSsOGwAAAe1JREFUSMdjYCAZMBVAGXxJDFQE72GMnpPUNNYIzrIkTSPfKjyStZNu\n",
       "4De2uACHzkPr8FmqTMC1HK4PsIoz/2NgYN+t2oApU70pgoHhH25jIbpYHbAayzuBgaGUgfcXhgR7\n",
       "AMP9BVwCDByhQBCOxViILpB+HMa6MzAIYkiwFDAwCvA4vMDpWoguVGN5ImdOghsr/4DBHyPoGf8x\n",
       "sHznPnAPp7EQXSjGcuk8QHKtJwODP0bgskxgYPnBsQ0mXqt/B00BRBfYWL47p8HmFT1ADgQgmI8t\n",
       "gDg/EEic86H6VzZwXADx1eEy3ArgdPIHm67+A/hNBeniEQDG7jcGngUgAQW4VGEC2F1Yk8kUAo4F\n",
       "6WL/DExkf87cAlsjOXPmzKkgVokWWMFWbLq4A7DkSc2ZINCA0PVEmYEf6ig+uAaOraBQZsPq2BQC\n",
       "joXourSAgR8WWIhUAc4ltgzsmHmb+QJDOV5jwbpAuZQTGF8GIJEzKNkBGI08mFm7l4HhHN4IA+vi\n",
       "BUYZmwLDa7CzmAyQja3cvXsnpHQFRiXfJ2jmnb179wR8xkJ0gRPY2TRIMPC5rkMydv7//xCzODcA\n",
       "idnQaP7//78C3kQL1oWaebmuImVeSgCeooYGxoJyCSWAG3tAgXIJJeBhAnbxamdKTK0F6gYAv0eE\n",
       "w3ELTC0AAAAASUVORK5CYII=\n",
       "\" style=\"display:inline;vertical-align:middle;\" /></a>, <a class=\"ProveItLink\" href=\"../../../__pv_it/theorems/bb8428576c5e9aef5059458d15ab082fff89783c0/expr.ipynb\"><img src=\"data:image/png;base64,iVBORw0KGgoAAAANSUhEUgAAAQYAAAAYBAMAAADqsE5QAAAAMFBMVEX///+qqqq6urru7u4QEBBE\n",
       "RERUVFTc3NyIiIgyMjJmZmaYmJjMzMwiIiJ2dnYAAACPW0xlAAAAAXRSTlMAQObYZgAAAAlwSFlz\n",
       "AAAOxAAADsQBlSsOGwAAApVJREFUSMdjYCAMOAugDOadDAMF7GGME70D5gZJOEuWbnYaKaBw626+\n",
       "ocgN7PjECwuwynFMMkAVmEhZODTiEGdqABI8qSDL3v5Bk5NHckLVyhgGhs943MBzmZATGB9gEz0L\n",
       "tKQbxGBNABLcH9Ck3yIFVwDDewUmBwaeUCAIx+IGs5WfCbnBEosYc9Z8oBs4QZ7luwAkuCbgdgNb\n",
       "AQOLA0eCDUY4MG2ARRxBN6xG5mjDGP1A+7kXwNzA2wARbb17dwK6G1g+M7B952p4jOEGxgai3eCA\n",
       "zJFAdgODM8wN9QfAgprN2MLhAgPbH57VB2A5ZP4Lkt3AOAG3G2bD3LAfEvOTscUFKJg+YDWZaDdw\n",
       "gZKkXcdibG54BnNDKmp5zMCwEsWM8w2UuYETmHKY7jCcw+YGUNHPAYorD4hSRF7wRjHjGgNlbuAV\n",
       "AEb3BoYmbG4QAVn3EZjBv4PFjtwFggCQWCawlGSeC+LeBaYDrgAswXv37hXfu3cTcLsBoZ+BBWhc\n",
       "fEcfqOhde/euy9271xBuOA/O3hMhYcHAYArXfyoY2bRtDBSGA8gN33CkSRUQ66UCsJwCF4u8CF1h\n",
       "qIVcOeVx8QOHG0BZnRFoAP8GcFnK0YA1XwCTUjNlbmAFqrwH1IDNDVtB+QIYD/zKDWgVE3JZfWvV\n",
       "qgt43cAHSU7MP2EEOuBLAKV/5uVobngPyofroHmTex205A8ywHQD7////yfgcwNbys9sMOMWnECv\n",
       "1IB2cLzegRYXaf7TgHn2Eqx8gAG9WMyyGnfp10B01X0HazkJDuUL6G7AUU7iqPs3EO2GXVjrLHAe\n",
       "34DTDS3UbZWxFuCSKWXAVm2DQb0AVd3AHIBLJhxEmGANUfZl1HVEBQ5xDlAA1SUyMAAAyNK7OkwI\n",
       "2cMAAAAASUVORK5CYII=\n",
       "\" style=\"display:inline;vertical-align:middle;\" /></a> <a class=\"ProveItLink\" href=\"../../../__pv_it/_proof__fail_ineq/a0949c64ac4c2db6782db025bc45d1daa34b51600/proof.ipynb\" style=\"text-decoration: none\">&nbsp;&#x22A2;&nbsp;&nbsp;</a><a class=\"ProveItLink\" href=\"../../../__pv_it/_proof__fail_ineq/626bdb8e38f5130df0c1f56d30655ba508bf1e8b0/expr.ipynb\"><img src=\"data:image/png;base64,iVBORw0KGgoAAAANSUhEUgAAAJwAAAAeCAMAAADuHoesAAAAPFBMVEX///8NDQ0WFhYLCwsYGBhU\n",
       "VFQiIiKIiIjMzMx2dnYQEBDc3NxEREQyMjLu7u5mZmaqqqq6urqYmJgAAACZCzMOAAAAAXRSTlMA\n",
       "QObYZgAAAAlwSFlzAAAOxAAADsQBlSsOGwAAAolJREFUWMPNWIly3CAMpU05xH38/78Ws4BtDAZ7\n",
       "2kyYSVbxykh6epIgCH3r0gAYa/Qzl9l+yA91LjiERGA/0zmvv885JV68BM/S6t07RR2mBGslhBh5\n",
       "VBDWvFS06lZdyKsUxUe+afVOUQBRcEsfTy+SiPGJB2SQ/q2isgPIjOJy82DPYJaEZIyZHnbdh0jw\n",
       "TNNZEWXFaNoomXTDIEOAkEutluLyKEs8bKvzCpOnDYCaBK+BjHyYNVDY+QNbw3J8oFlngA5XaZAV\n",
       "1mREE5H7YrI9o15WxCkkzhMauov2DpjyV6m3GD5SNfUaiCCwEhKh974VRZ4+cRDIUARdPHQoZDQ1\n",
       "W0beAnesEZk8tdEOzS1x2reLIk6fOKoz4wfvyBIxrZmn/GZvh08pMh8wLMJqkXL4lHZyo26xDRkn\n",
       "V6nm7kh3mjS6OOeRzNtgOWsk8pTjMQm82oDVWY/VNzooG5LWn6/td0FPBCgmVH7G6WyOHqEneNxx\n",
       "IhsjYVj+w9XHbnFEV+cAEZMDE/sgIPvawyWH2XVltw4l6ykFBSddXdJj55xptoIPDypyt3xtkfMd\n",
       "3KrvwSfn2jK7Kbj2bPPhnI0FkW3G8tWrztktstGA1MkJr1CTkENqGs79/vVJEj6z20fa5kKI8cKk\n",
       "WksqWVKko1iSc2XqrlSrar/wvAyFnM/g9KQiSuIFMdsanhiBbs3kZOcszQ9sZBtfnNWIvJkAV0Mn\n",
       "aXaH8bADSuteBl+lGXDRMQMUJ4ry1WPwsuLR8nS2Wlg4bCxc6+CxbwunEnVbh4wvWlpWRJ2e4wdZ\n",
       "9bMytIumlhV3Zour1Gjo/3OHWADueoe4pGN6qVolk33Guu7t6zk13L9WbO4s5t3/bv4CaLMc5nts\n",
       "7MYAAAAASUVORK5CYII=\n",
       "\" style=\"display:inline;vertical-align:middle;\" /></a></span>"
      ],
      "text/plain": [
       "{e in {2 .. 2^{t - 1} - 2}, l in {-2^{t - 1} + 1 .. -(e + 1)}} |- (l - (2^{t} * delta))^{2} != 0"
      ]
     },
     "execution_count": 49,
     "metadata": {},
     "output_type": "execute_result"
    }
   ],
   "source": [
    "NotEquals(the_summand.denominator, zero).prove(assumptions=defaults.assumptions + (first_sum_conditions,))"
   ]
  },
  {
   "cell_type": "code",
   "execution_count": 50,
   "metadata": {},
   "outputs": [
    {
     "data": {
      "text/html": [
       "<span style=\"font-size:20px;\"><a class=\"ProveItLink\" href=\"../../../__pv_it/theorems/f67ffeb951aaff9cc5f02f3801926b572b231a930/expr.ipynb\"><img src=\"data:image/png;base64,iVBORw0KGgoAAAANSUhEUgAAAKwAAAAYBAMAAACVRAuIAAAAMFBMVEX///8QEBAyMjKqqqpUVFRE\n",
       "RESYmJjc3NzMzMwiIiK6urpmZmaIiIh2dnbu7u4AAAAMEBwRAAAAAXRSTlMAQObYZgAAAAlwSFlz\n",
       "AAAOxAAADsQBlSsOGwAAAe1JREFUSMdjYCAZMBVAGXxJDFQE72GMnpPUNNYIzrIkTSPfKjyStZNu\n",
       "4De2uACHzkPr8FmqTMC1HK4PsIoz/2NgYN+t2oApU70pgoHhH25jIbpYHbAayzuBgaGUgfcXhgR7\n",
       "AMP9BVwCDByhQBCOxViILpB+HMa6MzAIYkiwFDAwCvA4vMDpWoguVGN5ImdOghsr/4DBHyPoGf8x\n",
       "sHznPnAPp7EQXSjGcuk8QHKtJwODP0bgskxgYPnBsQ0mXqt/B00BRBfYWL47p8HmFT1ADgQgmI8t\n",
       "gDg/EEic86H6VzZwXADx1eEy3ArgdPIHm67+A/hNBeniEQDG7jcGngUgAQW4VGEC2F1Yk8kUAo4F\n",
       "6WL/DExkf87cAlsjOXPmzKkgVokWWMFWbLq4A7DkSc2ZINCA0PVEmYEf6ig+uAaOraBQZsPq2BQC\n",
       "joXourSAgR8WWIhUAc4ltgzsmHmb+QJDOV5jwbpAuZQTGF8GIJEzKNkBGI08mFm7l4HhHN4IA+vi\n",
       "BUYZmwLDa7CzmAyQja3cvXsnpHQFRiXfJ2jmnb179wR8xkJ0gRPY2TRIMPC5rkMydv7//xCzODcA\n",
       "idnQaP7//78C3kQL1oWaebmuImVeSgCeooYGxoJyCSWAG3tAgXIJJeBhAnbxamdKTK0F6gYAv0eE\n",
       "w3ELTC0AAAAASUVORK5CYII=\n",
       "\" style=\"display:inline;vertical-align:middle;\" /></a>, <a class=\"ProveItLink\" href=\"../../../__pv_it/theorems/bb8428576c5e9aef5059458d15ab082fff89783c0/expr.ipynb\"><img src=\"data:image/png;base64,iVBORw0KGgoAAAANSUhEUgAAAQYAAAAYBAMAAADqsE5QAAAAMFBMVEX///+qqqq6urru7u4QEBBE\n",
       "RERUVFTc3NyIiIgyMjJmZmaYmJjMzMwiIiJ2dnYAAACPW0xlAAAAAXRSTlMAQObYZgAAAAlwSFlz\n",
       "AAAOxAAADsQBlSsOGwAAApVJREFUSMdjYCAMOAugDOadDAMF7GGME70D5gZJOEuWbnYaKaBw626+\n",
       "ocgN7PjECwuwynFMMkAVmEhZODTiEGdqABI8qSDL3v5Bk5NHckLVyhgGhs943MBzmZATGB9gEz0L\n",
       "tKQbxGBNABLcH9Ck3yIFVwDDewUmBwaeUCAIx+IGs5WfCbnBEosYc9Z8oBs4QZ7luwAkuCbgdgNb\n",
       "AQOLA0eCDUY4MG2ARRxBN6xG5mjDGP1A+7kXwNzA2wARbb17dwK6G1g+M7B952p4jOEGxgai3eCA\n",
       "zJFAdgODM8wN9QfAgprN2MLhAgPbH57VB2A5ZP4Lkt3AOAG3G2bD3LAfEvOTscUFKJg+YDWZaDdw\n",
       "gZKkXcdibG54BnNDKmp5zMCwEsWM8w2UuYETmHKY7jCcw+YGUNHPAYorD4hSRF7wRjHjGgNlbuAV\n",
       "AEb3BoYmbG4QAVn3EZjBv4PFjtwFggCQWCawlGSeC+LeBaYDrgAswXv37hXfu3cTcLsBoZ+BBWhc\n",
       "fEcfqOhde/euy9271xBuOA/O3hMhYcHAYArXfyoY2bRtDBSGA8gN33CkSRUQ66UCsJwCF4u8CF1h\n",
       "qIVcOeVx8QOHG0BZnRFoAP8GcFnK0YA1XwCTUjNlbmAFqrwH1IDNDVtB+QIYD/zKDWgVE3JZfWvV\n",
       "qgt43cAHSU7MP2EEOuBLAKV/5uVobngPyofroHmTex205A8ywHQD7////yfgcwNbys9sMOMWnECv\n",
       "1IB2cLzegRYXaf7TgHn2Eqx8gAG9WMyyGnfp10B01X0HazkJDuUL6G7AUU7iqPs3EO2GXVjrLHAe\n",
       "34DTDS3UbZWxFuCSKWXAVm2DQb0AVd3AHIBLJhxEmGANUfZl1HVEBQ5xDlAA1SUyMAAAyNK7OkwI\n",
       "2cMAAAAASUVORK5CYII=\n",
       "\" style=\"display:inline;vertical-align:middle;\" /></a> <a class=\"ProveItLink\" href=\"../../../__pv_it/_proof__fail_ineq/38e62aa0a5305965b0b9df92d6eb18447b5547470/proof.ipynb\" style=\"text-decoration: none\">&nbsp;&#x22A2;&nbsp;&nbsp;</a><a class=\"ProveItLink\" href=\"../../../__pv_it/_proof__fail_ineq/838684d96efd235d6d8a2ad508eec2b809cfdc800/expr.ipynb\"><img src=\"data:image/png;base64,iVBORw0KGgoAAAANSUhEUgAAAJwAAAAeBAMAAAAr7mqtAAAAMFBMVEX///9UVFQiIiKIiIjMzMx2\n",
       "dnYQEBDc3NxEREQyMjLu7u5mZmaqqqq6urqYmJgAAAB66f/FAAAAAXRSTlMAQObYZgAAAAlwSFlz\n",
       "AAAOxAAADsQBlSsOGwAAApxJREFUSMetVTuIE1EUPfnsJiYzkyksdFkw/gqNSBS0sEqhNhYZjZWN\n",
       "A9biNOqCRVIsaCWbRgQXCf5ALCYKQWVBtrEQC1PbGBEEBVFwJRpW470zeZOZlzdbLLnFmZfzZk7u\n",
       "O/feGWBz8fD0HKYYbTybptxf1CtTlPu6KbktTuzWmRj+m4Izuv7VjdL5AJDer1bT2gry7ej6Jkpn\n",
       "GgKw0FLLPVZwuSX/ennf2ejGJwGZdkbtw00Fl+2NFssh8tqt60hyTgwLx08p08vY5OqaRF7hp18u\n",
       "AoMQaelzSJm0YLg0HMpKM7XnZKxFxv+QdjqeQ+e7uh0ieQxyAwGTsYx7DgpUw/zSRJMi4WDWTpkP\n",
       "xuQhhrsBTDRDETMNVMmCZDm6k6a/nx0g0c+Xz41Zd5XgBQT4NRsrZ01oAxymldzgqSJlV0RiLf0q\n",
       "tJPlMx6FgNGrYLdYFdpIr2M7rb5LeSf8wycjlmrzvwk/tASIv947+uGS3D/coNU2uU+8RkU14sEX\n",
       "7KAHq5xuNXwao+Tr1S2kf6JJqwvypJreZWekofp4Ryp1nr56N5L2HUfI/UKJnO9707GLY493Sm/u\n",
       "8g3h9x82oOEl5bKSG5GD3uT8XAu6l13KVmb3MfhdYqd7qIqqSaXTb7f8UmjrLJc1Wwo5zcLVEOdW\n",
       "yD2yzREwPmzTGRluDLgMhZ4lVZaPeQI4FuIKFW+AJypLpfDFDZvHgXqo8F5qYz59prSyUgxPZFnj\n",
       "nD9DgNwoOIBHFf4noyN5p1PDJofDYWT2akcYnwbgx/2gjfGktpWGqauYv4uxr3RpZnMHpf28pXio\n",
       "E6e20RvFH3dbQZ6Mu9swBcTFvIJLrMbcnHQExMVG34qJCL4VsaGpzHutvjf0JYuNjb6zct1aAmLi\n",
       "P2SQoa5riVhxAAAAAElFTkSuQmCC\n",
       "\" style=\"display:inline;vertical-align:middle;\" /></a></span>"
      ],
      "text/plain": [
       "{e in {2 .. 2^{t - 1} - 2}, l in {-2^{t - 1} + 1 .. -(e + 1)}} |- (l - (2^{t} * delta))^{2} > 0"
      ]
     },
     "execution_count": 50,
     "metadata": {},
     "output_type": "execute_result"
    }
   ],
   "source": [
    "greater(the_summand.denominator, zero).prove(\n",
    "    assumptions=defaults.assumptions + (first_sum_conditions,))"
   ]
  },
  {
   "cell_type": "code",
   "execution_count": 51,
   "metadata": {},
   "outputs": [
    {
     "data": {
      "text/html": [
       "<strong id=\"first_summand_bound_02\">first_summand_bound_02:</strong> <span style=\"font-size:20px;\"><a class=\"ProveItLink\" href=\"../../../__pv_it/theorems/f67ffeb951aaff9cc5f02f3801926b572b231a930/expr.ipynb\"><img src=\"data:image/png;base64,iVBORw0KGgoAAAANSUhEUgAAAKwAAAAYBAMAAACVRAuIAAAAMFBMVEX///8QEBAyMjKqqqpUVFRE\n",
       "RESYmJjc3NzMzMwiIiK6urpmZmaIiIh2dnbu7u4AAAAMEBwRAAAAAXRSTlMAQObYZgAAAAlwSFlz\n",
       "AAAOxAAADsQBlSsOGwAAAe1JREFUSMdjYCAZMBVAGXxJDFQE72GMnpPUNNYIzrIkTSPfKjyStZNu\n",
       "4De2uACHzkPr8FmqTMC1HK4PsIoz/2NgYN+t2oApU70pgoHhH25jIbpYHbAayzuBgaGUgfcXhgR7\n",
       "AMP9BVwCDByhQBCOxViILpB+HMa6MzAIYkiwFDAwCvA4vMDpWoguVGN5ImdOghsr/4DBHyPoGf8x\n",
       "sHznPnAPp7EQXSjGcuk8QHKtJwODP0bgskxgYPnBsQ0mXqt/B00BRBfYWL47p8HmFT1ADgQgmI8t\n",
       "gDg/EEic86H6VzZwXADx1eEy3ArgdPIHm67+A/hNBeniEQDG7jcGngUgAQW4VGEC2F1Yk8kUAo4F\n",
       "6WL/DExkf87cAlsjOXPmzKkgVokWWMFWbLq4A7DkSc2ZINCA0PVEmYEf6ig+uAaOraBQZsPq2BQC\n",
       "joXourSAgR8WWIhUAc4ltgzsmHmb+QJDOV5jwbpAuZQTGF8GIJEzKNkBGI08mFm7l4HhHN4IA+vi\n",
       "BUYZmwLDa7CzmAyQja3cvXsnpHQFRiXfJ2jmnb179wR8xkJ0gRPY2TRIMPC5rkMydv7//xCzODcA\n",
       "idnQaP7//78C3kQL1oWaebmuImVeSgCeooYGxoJyCSWAG3tAgXIJJeBhAnbxamdKTK0F6gYAv0eE\n",
       "w3ELTC0AAAAASUVORK5CYII=\n",
       "\" style=\"display:inline;vertical-align:middle;\" /></a>, <a class=\"ProveItLink\" href=\"../../../__pv_it/theorems/bb8428576c5e9aef5059458d15ab082fff89783c0/expr.ipynb\"><img src=\"data:image/png;base64,iVBORw0KGgoAAAANSUhEUgAAAQYAAAAYBAMAAADqsE5QAAAAMFBMVEX///+qqqq6urru7u4QEBBE\n",
       "RERUVFTc3NyIiIgyMjJmZmaYmJjMzMwiIiJ2dnYAAACPW0xlAAAAAXRSTlMAQObYZgAAAAlwSFlz\n",
       "AAAOxAAADsQBlSsOGwAAApVJREFUSMdjYCAMOAugDOadDAMF7GGME70D5gZJOEuWbnYaKaBw626+\n",
       "ocgN7PjECwuwynFMMkAVmEhZODTiEGdqABI8qSDL3v5Bk5NHckLVyhgGhs943MBzmZATGB9gEz0L\n",
       "tKQbxGBNABLcH9Ck3yIFVwDDewUmBwaeUCAIx+IGs5WfCbnBEosYc9Z8oBs4QZ7luwAkuCbgdgNb\n",
       "AQOLA0eCDUY4MG2ARRxBN6xG5mjDGP1A+7kXwNzA2wARbb17dwK6G1g+M7B952p4jOEGxgai3eCA\n",
       "zJFAdgODM8wN9QfAgprN2MLhAgPbH57VB2A5ZP4Lkt3AOAG3G2bD3LAfEvOTscUFKJg+YDWZaDdw\n",
       "gZKkXcdibG54BnNDKmp5zMCwEsWM8w2UuYETmHKY7jCcw+YGUNHPAYorD4hSRF7wRjHjGgNlbuAV\n",
       "AEb3BoYmbG4QAVn3EZjBv4PFjtwFggCQWCawlGSeC+LeBaYDrgAswXv37hXfu3cTcLsBoZ+BBWhc\n",
       "fEcfqOhde/euy9271xBuOA/O3hMhYcHAYArXfyoY2bRtDBSGA8gN33CkSRUQ66UCsJwCF4u8CF1h\n",
       "qIVcOeVx8QOHG0BZnRFoAP8GcFnK0YA1XwCTUjNlbmAFqrwH1IDNDVtB+QIYD/zKDWgVE3JZfWvV\n",
       "qgt43cAHSU7MP2EEOuBLAKV/5uVobngPyofroHmTex205A8ywHQD7////yfgcwNbys9sMOMWnECv\n",
       "1IB2cLzegRYXaf7TgHn2Eqx8gAG9WMyyGnfp10B01X0HazkJDuUL6G7AUU7iqPs3EO2GXVjrLHAe\n",
       "34DTDS3UbZWxFuCSKWXAVm2DQb0AVd3AHIBLJhxEmGANUfZl1HVEBQ5xDlAA1SUyMAAAyNK7OkwI\n",
       "2cMAAAAASUVORK5CYII=\n",
       "\" style=\"display:inline;vertical-align:middle;\" /></a> <a class=\"ProveItLink\" href=\"../../../__pv_it/_proof__fail_ineq/b8c39e75c123c9add7ee176e4adf7d7949093f6e0/proof.ipynb\" style=\"text-decoration: none\">&nbsp;&#x22A2;&nbsp;&nbsp;</a><a class=\"ProveItLink\" href=\"../../../__pv_it/_proof__fail_ineq/851395508daad900a4b123403e090876b338a6940/expr.ipynb\"><img src=\"data:image/png;base64,iVBORw0KGgoAAAANSUhEUgAAAKUAAAAzBAMAAAAEOtW3AAAAMFBMVEX///9ERES6urqqqqqYmJgQ\n",
       "EBDc3Nx2dnaIiIgyMjJmZmZUVFTu7u4iIiLMzMwAAAD4QZJGAAAAAXRSTlMAQObYZgAAAAlwSFlz\n",
       "AAAOxAAADsQBlSsOGwAAArBJREFUWMPtV01oE0EUfu0mm002m+5JBKXmKOjBm0gP5lwFoydv3V4U\n",
       "AtLcFKp2L4oHwYDFi385FEKKQgS9WA/rqWLRBipY619ugmANKgUhJL6Z2Wxmd8fdJOyhh3zwbSbf\n",
       "br6ZN+/N7AQgAJlPMCB+WCEPrFVbgzmmnz8M8wSlNeg4b408R54jTw8SO4N6LhghD6jP/j4dzHJl\n",
       "5m4Odi+kO5FbxrasqC2V95Fbrm5GHvjrd5Fbrt2OPuWqyLMzNJr09wUn9gmXvttyFF0trc6/iLzm\n",
       "y/CYX5sPnFPDxZWh/X/BXEOkpyBVH9bzpMgz8bUxkZXbw0d/RaCdgphle4r2ZltLGn7Z4I98bz4T\n",
       "fGFfqmSwNHbliKA+bG2d0+TqaeMgfhLCrCgVm85p8SgG4p0E1ArVSYBj/HTBIUvBVwOhXJb90ZGw\n",
       "5f00/SWsMM96Qk3WYSF7/sNVbmmTEdxjnN3+7h8ocSnAOZJ+7DZV8pREDlQD4nngdwilhpdpxplO\n",
       "R7Cf6CBPbj/CVhypme67qMVboO4A/4JP/yZ3LEYR4ibE2RZCpsxbbKipdVDb43lePYBeyRyjCD+d\n",
       "Ka7QwnKjQq9aU6m97YlTx3VMVI1RhGtOaxH5xHN3kfVrpszLvQyU1Ba5MoqwL91tbSDPeu5u0OtH\n",
       "yCz1JmXOkLBWpDyjCH8S3dYZXBT0XJS+T9dEg2mYfL37yHqJxpJBz0yTUbixvOI8FW/H1POE81Ur\n",
       "k1FQL5K18f+Mc7rIxTlWs/yxS0Vavk4ltek8SnXGYOzFt1Ou6NPgG8BNXmtDEjeBmM4YjHn0PGz6\n",
       "NHlredk1nkswRSa5yBjytxM7rvg1Dd+qrppJ3CBWWpYxGFqjP43hgs2Qk165P41hyWYI9vSp0S1S\n",
       "ZwzDyz41gjGDMQyy2Z9GcN1mIP4BlvwOhFaHR+QAAAAASUVORK5CYII=\n",
       "\" style=\"display:inline;vertical-align:middle;\" /></a></span><br>"
      ],
      "text/plain": [
       "first_summand_bound_02: {e in {2 .. 2^{t - 1} - 2}, l in {-2^{t - 1} + 1 .. -(e + 1)}} |- (1 / (l - (2^{t} * delta))^{2}) <= (1 / l^{2})"
      ]
     },
     "execution_count": 51,
     "metadata": {},
     "output_type": "execute_result"
    }
   ],
   "source": [
    "# without the first_summand_bound_01 above, this one will not go through!\n",
    "first_summand_bound_02 = the_summand.deduce_bound(_diff_l_scaled_delta_upper_bound,\n",
    "        assumptions=defaults.assumptions + (first_sum_conditions,))"
   ]
  },
  {
   "cell_type": "code",
   "execution_count": 52,
   "metadata": {},
   "outputs": [
    {
     "data": {
      "text/html": [
       "<span style=\"font-size:20px;\"> <a class=\"ProveItLink\" href=\"../../../__pv_it/_proof__fail_ineq/3db8a858b432d89a4fdeb6fb209a6ca2d3cc263a0/proof.ipynb\" style=\"text-decoration: none\">&nbsp;&#x22A2;&nbsp;&nbsp;</a><a class=\"ProveItLink\" href=\"../../../__pv_it/_proof__fail_ineq/0c183cc29d4bb6134e13faa723a568b458c1117b0/expr.ipynb\"><img src=\"data:image/png;base64,iVBORw0KGgoAAAANSUhEUgAAAGEAAAAaBAMAAABVzS+SAAAAMFBMVEX///8QEBC6urrMzMxUVFRE\n",
       "RESYmJgiIiLu7u6qqqoyMjLc3NxmZmaIiIh2dnYAAABcDckaAAAAAXRSTlMAQObYZgAAAAlwSFlz\n",
       "AAAOxAAADsQBlSsOGwAAAdNJREFUOMuNVDtLA0EQ/sj78rhE/4DxF3j2QgIWvorY20QsBEFIJ4KQ\n",
       "WNkISR3ER6EggpyF2AixUCIYQwTBTtJpExBBiRGNs7sxt3dxgwO3s3x73+58szML9LUj/Nd8ce4C\n",
       "L3Y4rGZsCaft2uHQrIoQEH+Gno4N+8KyiuFNCx8sSOD53hz8OZrojZsexgntX9k3EM1JYN01iUiS\n",
       "JofYMLtoUUyrwCn0VwzL20yycJuUlQz0rp7Fa+FfgRlgAPcBScc9Gw4o5CS0Zgd7eBbeTcBQDinz\n",
       "VpfCyjNRV0D0Au4PkaCnWmctkgEmgJQxtiCng218R0xivHNCOf275hHJzdqyoU290TiSQ6kO9xcj\n",
       "TFuZ9HJhHLZsCSkKMWFwxjdDJEaQ5RD+pO26P7FDaSjFka/DxTcLWVH5LyBEdiqgxSKdZfsjH2fK\n",
       "NadyfobPOmKNvmgaCXIlg8Xsc2aXM7YRMqWo8gYpIR0mfDGEdx03SBHAXUdErpGoQdXBc4VVrFsX\n",
       "W+TTSAw4q1TKsnK9prGT5+nbbIw7C9FFYWbb7ZYNbDyy8VJR7YPKVjtQ4FVlqzWl+Qo3IWlU2f9J\n",
       "xYKnoFjwm/37vNeUfU7X96ep35Lf98ppYbq/Hy5rc/oL5o+kAAAAAElFTkSuQmCC\n",
       "\" style=\"display:inline;vertical-align:middle;\" /></a></span>"
      ],
      "text/plain": [
       "|- 0 <= (2^{t} * delta)"
      ]
     },
     "execution_count": 52,
     "metadata": {},
     "output_type": "execute_result"
    }
   ],
   "source": [
    "scaled_delta_lower_bound"
   ]
  },
  {
   "cell_type": "code",
   "execution_count": 53,
   "metadata": {},
   "outputs": [
    {
     "data": {
      "text/html": [
       "<strong id=\"first_summand_bound_02\">first_summand_bound_02:</strong> <span style=\"font-size:20px;\"><a class=\"ProveItLink\" href=\"../../../__pv_it/theorems/f67ffeb951aaff9cc5f02f3801926b572b231a930/expr.ipynb\"><img src=\"data:image/png;base64,iVBORw0KGgoAAAANSUhEUgAAAKwAAAAYBAMAAACVRAuIAAAAMFBMVEX///8QEBAyMjKqqqpUVFRE\n",
       "RESYmJjc3NzMzMwiIiK6urpmZmaIiIh2dnbu7u4AAAAMEBwRAAAAAXRSTlMAQObYZgAAAAlwSFlz\n",
       "AAAOxAAADsQBlSsOGwAAAe1JREFUSMdjYCAZMBVAGXxJDFQE72GMnpPUNNYIzrIkTSPfKjyStZNu\n",
       "4De2uACHzkPr8FmqTMC1HK4PsIoz/2NgYN+t2oApU70pgoHhH25jIbpYHbAayzuBgaGUgfcXhgR7\n",
       "AMP9BVwCDByhQBCOxViILpB+HMa6MzAIYkiwFDAwCvA4vMDpWoguVGN5ImdOghsr/4DBHyPoGf8x\n",
       "sHznPnAPp7EQXSjGcuk8QHKtJwODP0bgskxgYPnBsQ0mXqt/B00BRBfYWL47p8HmFT1ADgQgmI8t\n",
       "gDg/EEic86H6VzZwXADx1eEy3ArgdPIHm67+A/hNBeniEQDG7jcGngUgAQW4VGEC2F1Yk8kUAo4F\n",
       "6WL/DExkf87cAlsjOXPmzKkgVokWWMFWbLq4A7DkSc2ZINCA0PVEmYEf6ig+uAaOraBQZsPq2BQC\n",
       "joXourSAgR8WWIhUAc4ltgzsmHmb+QJDOV5jwbpAuZQTGF8GIJEzKNkBGI08mFm7l4HhHN4IA+vi\n",
       "BUYZmwLDa7CzmAyQja3cvXsnpHQFRiXfJ2jmnb179wR8xkJ0gRPY2TRIMPC5rkMydv7//xCzODcA\n",
       "idnQaP7//78C3kQL1oWaebmuImVeSgCeooYGxoJyCSWAG3tAgXIJJeBhAnbxamdKTK0F6gYAv0eE\n",
       "w3ELTC0AAAAASUVORK5CYII=\n",
       "\" style=\"display:inline;vertical-align:middle;\" /></a>, <a class=\"ProveItLink\" href=\"../../../__pv_it/theorems/bb8428576c5e9aef5059458d15ab082fff89783c0/expr.ipynb\"><img src=\"data:image/png;base64,iVBORw0KGgoAAAANSUhEUgAAAQYAAAAYBAMAAADqsE5QAAAAMFBMVEX///+qqqq6urru7u4QEBBE\n",
       "RERUVFTc3NyIiIgyMjJmZmaYmJjMzMwiIiJ2dnYAAACPW0xlAAAAAXRSTlMAQObYZgAAAAlwSFlz\n",
       "AAAOxAAADsQBlSsOGwAAApVJREFUSMdjYCAMOAugDOadDAMF7GGME70D5gZJOEuWbnYaKaBw626+\n",
       "ocgN7PjECwuwynFMMkAVmEhZODTiEGdqABI8qSDL3v5Bk5NHckLVyhgGhs943MBzmZATGB9gEz0L\n",
       "tKQbxGBNABLcH9Ck3yIFVwDDewUmBwaeUCAIx+IGs5WfCbnBEosYc9Z8oBs4QZ7luwAkuCbgdgNb\n",
       "AQOLA0eCDUY4MG2ARRxBN6xG5mjDGP1A+7kXwNzA2wARbb17dwK6G1g+M7B952p4jOEGxgai3eCA\n",
       "zJFAdgODM8wN9QfAgprN2MLhAgPbH57VB2A5ZP4Lkt3AOAG3G2bD3LAfEvOTscUFKJg+YDWZaDdw\n",
       "gZKkXcdibG54BnNDKmp5zMCwEsWM8w2UuYETmHKY7jCcw+YGUNHPAYorD4hSRF7wRjHjGgNlbuAV\n",
       "AEb3BoYmbG4QAVn3EZjBv4PFjtwFggCQWCawlGSeC+LeBaYDrgAswXv37hXfu3cTcLsBoZ+BBWhc\n",
       "fEcfqOhde/euy9271xBuOA/O3hMhYcHAYArXfyoY2bRtDBSGA8gN33CkSRUQ66UCsJwCF4u8CF1h\n",
       "qIVcOeVx8QOHG0BZnRFoAP8GcFnK0YA1XwCTUjNlbmAFqrwH1IDNDVtB+QIYD/zKDWgVE3JZfWvV\n",
       "qgt43cAHSU7MP2EEOuBLAKV/5uVobngPyofroHmTex205A8ywHQD7////yfgcwNbys9sMOMWnECv\n",
       "1IB2cLzegRYXaf7TgHn2Eqx8gAG9WMyyGnfp10B01X0HazkJDuUL6G7AUU7iqPs3EO2GXVjrLHAe\n",
       "34DTDS3UbZWxFuCSKWXAVm2DQb0AVd3AHIBLJhxEmGANUfZl1HVEBQ5xDlAA1SUyMAAAyNK7OkwI\n",
       "2cMAAAAASUVORK5CYII=\n",
       "\" style=\"display:inline;vertical-align:middle;\" /></a> <a class=\"ProveItLink\" href=\"../../../__pv_it/_proof__fail_ineq/b8c39e75c123c9add7ee176e4adf7d7949093f6e0/proof.ipynb\" style=\"text-decoration: none\">&nbsp;&#x22A2;&nbsp;&nbsp;</a><a class=\"ProveItLink\" href=\"../../../__pv_it/_proof__fail_ineq/851395508daad900a4b123403e090876b338a6940/expr.ipynb\"><img src=\"data:image/png;base64,iVBORw0KGgoAAAANSUhEUgAAAKUAAAAzBAMAAAAEOtW3AAAAMFBMVEX///9ERES6urqqqqqYmJgQ\n",
       "EBDc3Nx2dnaIiIgyMjJmZmZUVFTu7u4iIiLMzMwAAAD4QZJGAAAAAXRSTlMAQObYZgAAAAlwSFlz\n",
       "AAAOxAAADsQBlSsOGwAAArBJREFUWMPtV01oE0EUfu0mm002m+5JBKXmKOjBm0gP5lwFoydv3V4U\n",
       "AtLcFKp2L4oHwYDFi385FEKKQgS9WA/rqWLRBipY619ugmANKgUhJL6Z2Wxmd8fdJOyhh3zwbSbf\n",
       "br6ZN+/N7AQgAJlPMCB+WCEPrFVbgzmmnz8M8wSlNeg4b408R54jTw8SO4N6LhghD6jP/j4dzHJl\n",
       "5m4Odi+kO5FbxrasqC2V95Fbrm5GHvjrd5Fbrt2OPuWqyLMzNJr09wUn9gmXvttyFF0trc6/iLzm\n",
       "y/CYX5sPnFPDxZWh/X/BXEOkpyBVH9bzpMgz8bUxkZXbw0d/RaCdgphle4r2ZltLGn7Z4I98bz4T\n",
       "fGFfqmSwNHbliKA+bG2d0+TqaeMgfhLCrCgVm85p8SgG4p0E1ArVSYBj/HTBIUvBVwOhXJb90ZGw\n",
       "5f00/SWsMM96Qk3WYSF7/sNVbmmTEdxjnN3+7h8ocSnAOZJ+7DZV8pREDlQD4nngdwilhpdpxplO\n",
       "R7Cf6CBPbj/CVhypme67qMVboO4A/4JP/yZ3LEYR4ibE2RZCpsxbbKipdVDb43lePYBeyRyjCD+d\n",
       "Ka7QwnKjQq9aU6m97YlTx3VMVI1RhGtOaxH5xHN3kfVrpszLvQyU1Ba5MoqwL91tbSDPeu5u0OtH\n",
       "yCz1JmXOkLBWpDyjCH8S3dYZXBT0XJS+T9dEg2mYfL37yHqJxpJBz0yTUbixvOI8FW/H1POE81Ur\n",
       "k1FQL5K18f+Mc7rIxTlWs/yxS0Vavk4ltek8SnXGYOzFt1Ou6NPgG8BNXmtDEjeBmM4YjHn0PGz6\n",
       "NHlredk1nkswRSa5yBjytxM7rvg1Dd+qrppJ3CBWWpYxGFqjP43hgs2Qk165P41hyWYI9vSp0S1S\n",
       "ZwzDyz41gjGDMQyy2Z9GcN1mIP4BlvwOhFaHR+QAAAAASUVORK5CYII=\n",
       "\" style=\"display:inline;vertical-align:middle;\" /></a></span><br>"
      ],
      "text/plain": [
       "first_summand_bound_02: {e in {2 .. 2^{t - 1} - 2}, l in {-2^{t - 1} + 1 .. -(e + 1)}} |- (1 / (l - (2^{t} * delta))^{2}) <= (1 / l^{2})"
      ]
     },
     "execution_count": 53,
     "metadata": {},
     "output_type": "execute_result"
    }
   ],
   "source": [
    "# see if this can happen on its own without all the step-by-step stuff\n",
    "# above (i.e. let it cascade on its own)\n",
    "# Without the constant bound first_summand_bound_01 above, this gives error:\n",
    "# Prerequisites not met: We must know the sign of the numerator and denominator\n",
    "# of 1 / (l - (2^{t} * delta))^{2} before we can use 'bound_via_denominator_bound'\n",
    "first_summand_bound_02 = the_summand.deduce_bound(scaled_delta_lower_bound.reversed(),\n",
    "        assumptions=defaults.assumptions + (first_sum_conditions,))"
   ]
  },
  {
   "cell_type": "code",
   "execution_count": 54,
   "metadata": {},
   "outputs": [
    {
     "data": {
      "text/html": [
       "<strong id=\"first_summand_bound_generalized\">first_summand_bound_generalized:</strong> <span style=\"font-size:20px;\"><a class=\"ProveItLink\" href=\"../../../__pv_it/theorems/f67ffeb951aaff9cc5f02f3801926b572b231a930/expr.ipynb\"><img src=\"data:image/png;base64,iVBORw0KGgoAAAANSUhEUgAAAKwAAAAYBAMAAACVRAuIAAAAMFBMVEX///8QEBAyMjKqqqpUVFRE\n",
       "RESYmJjc3NzMzMwiIiK6urpmZmaIiIh2dnbu7u4AAAAMEBwRAAAAAXRSTlMAQObYZgAAAAlwSFlz\n",
       "AAAOxAAADsQBlSsOGwAAAe1JREFUSMdjYCAZMBVAGXxJDFQE72GMnpPUNNYIzrIkTSPfKjyStZNu\n",
       "4De2uACHzkPr8FmqTMC1HK4PsIoz/2NgYN+t2oApU70pgoHhH25jIbpYHbAayzuBgaGUgfcXhgR7\n",
       "AMP9BVwCDByhQBCOxViILpB+HMa6MzAIYkiwFDAwCvA4vMDpWoguVGN5ImdOghsr/4DBHyPoGf8x\n",
       "sHznPnAPp7EQXSjGcuk8QHKtJwODP0bgskxgYPnBsQ0mXqt/B00BRBfYWL47p8HmFT1ADgQgmI8t\n",
       "gDg/EEic86H6VzZwXADx1eEy3ArgdPIHm67+A/hNBeniEQDG7jcGngUgAQW4VGEC2F1Yk8kUAo4F\n",
       "6WL/DExkf87cAlsjOXPmzKkgVokWWMFWbLq4A7DkSc2ZINCA0PVEmYEf6ig+uAaOraBQZsPq2BQC\n",
       "joXourSAgR8WWIhUAc4ltgzsmHmb+QJDOV5jwbpAuZQTGF8GIJEzKNkBGI08mFm7l4HhHN4IA+vi\n",
       "BUYZmwLDa7CzmAyQja3cvXsnpHQFRiXfJ2jmnb179wR8xkJ0gRPY2TRIMPC5rkMydv7//xCzODcA\n",
       "idnQaP7//78C3kQL1oWaebmuImVeSgCeooYGxoJyCSWAG3tAgXIJJeBhAnbxamdKTK0F6gYAv0eE\n",
       "w3ELTC0AAAAASUVORK5CYII=\n",
       "\" style=\"display:inline;vertical-align:middle;\" /></a> <a class=\"ProveItLink\" href=\"../../../__pv_it/_proof__fail_ineq/1c4b412255f0b8e333f1d792155fba62a766ea920/proof.ipynb\" style=\"text-decoration: none\">&nbsp;&#x22A2;&nbsp;&nbsp;</a><a class=\"ProveItLink\" href=\"../../../__pv_it/_proof__fail_ineq/d2682142935f761d13a4043bc730d99fe4c9fe780/expr.ipynb\"><img src=\"data:image/png;base64,iVBORw0KGgoAAAANSUhEUgAAAZEAAAA/BAMAAADTbuhOAAAAMFBMVEX///+IiIgiIiIQEBB2dnbu\n",
       "7u5ERETMzMzc3NwyMjK6urpmZmaYmJiqqqpUVFQAAAB6qHgnAAAAAXRSTlMAQObYZgAAAAlwSFlz\n",
       "AAAOxAAADsQBlSsOGwAABiZJREFUaN7VmX1oG2Ucx39Jc71LLkmjWEEpayxU0TJfxga+IItFEWG2\n",
       "YZaKKKYyzPqPGOvYENEGKlMZ2A5R/KO6oM6/hIXZuXUZNIoKE3TF+U9BXEAmiNp2c2266Vaft7t7\n",
       "7vok13Z5HtgDT9N77rnn7nPP9/dyzwOgsJgJGaNq74HycpOcYW9UDhJZkjNuc0o1yRNlOeNqD6om\n",
       "mZQ18Om0WhC9KmvkYFEtSbgia+TYklqSM3lpQ7+vluRWvw5Da5W73mm9pJxSM7ns44H+PLBGkmcn\n",
       "F9h/TUoNJT7v16N9rXMSsEjMeZUkmaI8ksh/KklO5eSRwH0qSV4EiSRTeYUkizJJzpTVgUQuyCQZ\n",
       "ragjMS/JJGm6W2GusiCTpHlBHUlLUiZJ4LI6ktEBmSSxfxXmj/4JRe9aXWnIzoH1RXUk7b6rEbNb\n",
       "P1qbL43/dvEvK2k7D0Dc1y/ySaampQ6/DHAc/36gIMQ3LvGeEajwrjS8jn6MAfkkBxqWT3x9RDx8\n",
       "GDmM0LR8kq2NWjW4/hHhlBcgiqwsrMDilxszjNYt9hxzaDI2dXRsvmZItMM13BsmOQrw/LVCov1R\n",
       "yw6mEOE7YPCJ5Dcu6H3s1/CFjXksOoDqLsc2tcbMSV2S5nSoANqcFSztpFJ7eDYNX7GD1zrta54Z\n",
       "Ew71PX+A++CY3uOQ/MOmZt2FfKobjrqsdpYfIPOJJbDBzyCIDdkCxOznNMFMBrqsd9BJm1Cv64Sp\n",
       "oFaxL2N9PqWjekhkWTwmgTH84icASjh2OSQtBaMK9lMTkmYiIyGJWbDya6sPdu+NJ6nlhQnJ43gn\n",
       "5Q4IkHlzSKJpo6qNgVEqlY77kwTRw25r4/vgIDXTGIsnQq8fGbGdwAgShjYP/fT5OSsIJWPF8irn\n",
       "5G2A7bk43yeGDOXjxpBgofPZip349PWc5UniOTIVn5OWV7j0aChtnGAe6aXN0/VJPkO5rLGN7xNB\n",
       "KVC4tSEkROiiUoTDXDyh1Ck4mc1mp3U8jbvRf9n8Cs/7ZXZHNlv2kui48yD8CvDAD2m+j45IYvud\n",
       "bOUqSLDQV7Z2V+ESjOY8JMGDsIuGgQoXS97yXFtnTnYDLLn7YHWNuJLVqyghwU2j8/CtTWKn2i0B\n",
       "FFfcFm/s3HOkDkkfaCm3xb8AIb5PIOGyeCerFyXFrC3sPmewai/jax2k0KFM/Kjd1ouyrjRvRk/u\n",
       "JmliwchDYjx2gXj0l/P6vfypPDzd1sr3QS08yZTlpgOCMG21Zfj04t3BCLoTruIUI5jg9h1c4u3L\n",
       "uiKjoDTXWZhLefv0uyIjtFte8GeicHdBbfsmd7r6QypyFrBbbxMKHa9xoKnZa2l2ZbiKJOt6w9rl\n",
       "mLfPMTfJKYaKQhRWuDtejOGPvd7CG7c/6jRi/4qjK6oCoeMR0VwVDaoq4/zK8/vXa5Mei44iNekf\n",
       "OseHmCsxy0zh/BsqQzyP1xG5/rABD1IkVSB0VH5HU7LnVXrbyJWV5/X1fj96SDRU3+SOM+zpm5jC\n",
       "+YLamhYgvgT8SmIGP8gWVkXlHmQdVgIZPadulSjI3uoMU7hriQGF5yTEqxF+dZcskI6zKig6v+Fr\n",
       "VtWRmOzGE1ThrjLBWAOVJ53vnb8X2WdBT40FSB47rHB7Lso20Mapwl2FvvXhhJlw8tyTMJfGf2kV\n",
       "OdIKp+dVrDo3rBhs5XYjVbirbCR/7wT9hC07Y4lsTZ8GWkXJWJmLzMMpdSSwif7cbyn8KRKub2Nt\n",
       "SH7Wopt2Eae1AzCMSIaBVhHJQc5vtKvckO9NWyQB77YNIfnRPuwib5wQfMKqSK4T3MEOhSAwmrCU\n",
       "5FK4pa5YyhXHMzliHz+x6vcpdkUlSZgGlOc8CmdtOBVv5bWTI2HyO1b93ElVJUmUuuEej8JZm9FV\n",
       "KvH+J5SIVZh/nljFW0qqJNHo5u+QR+GsLbi8vOzKYR66AcjyAq1+yi2rJIEvaPwTeJlgLc9jJGn1\n",
       "9SZKQSBDNBUV7NJFa+3ckXTT/31r59SSMOc7KDg1WOOSvaz6ZUJJtSRwi/0F5i39Na4YrEPJm0lB\n",
       "Mckh8lVkCJZDDfESaSBPq1+ZVQwCoTFJ/n2LahISASWUkZxyku1ybjmuHAQMKSQatff/AeZnzMGv\n",
       "G5qTAAAAAElFTkSuQmCC\n",
       "\" style=\"display:inline;vertical-align:middle;\" /></a></span><br>"
      ],
      "text/plain": [
       "first_summand_bound_generalized: {e in {2 .. 2^{t - 1} - 2}} |- forall_{l in {-2^{t - 1} + 1 .. -(e + 1)}} ((1 / (l - (2^{t} * delta))^{2}) <= (1 / l^{2}))"
      ]
     },
     "execution_count": 54,
     "metadata": {},
     "output_type": "execute_result"
    }
   ],
   "source": [
    "first_summand_bound_generalized = first_summand_bound_02.generalize((l), conditions=[first_sum_conditions])"
   ]
  },
  {
   "cell_type": "code",
   "execution_count": 55,
   "metadata": {},
   "outputs": [
    {
     "data": {
      "text/html": [
       "<strong id=\"first_sum_bound\">first_sum_bound:</strong> <span style=\"font-size:20px;\"><a class=\"ProveItLink\" href=\"../../../__pv_it/theorems/f67ffeb951aaff9cc5f02f3801926b572b231a930/expr.ipynb\"><img src=\"data:image/png;base64,iVBORw0KGgoAAAANSUhEUgAAAKwAAAAYBAMAAACVRAuIAAAAMFBMVEX///8QEBAyMjKqqqpUVFRE\n",
       "RESYmJjc3NzMzMwiIiK6urpmZmaIiIh2dnbu7u4AAAAMEBwRAAAAAXRSTlMAQObYZgAAAAlwSFlz\n",
       "AAAOxAAADsQBlSsOGwAAAe1JREFUSMdjYCAZMBVAGXxJDFQE72GMnpPUNNYIzrIkTSPfKjyStZNu\n",
       "4De2uACHzkPr8FmqTMC1HK4PsIoz/2NgYN+t2oApU70pgoHhH25jIbpYHbAayzuBgaGUgfcXhgR7\n",
       "AMP9BVwCDByhQBCOxViILpB+HMa6MzAIYkiwFDAwCvA4vMDpWoguVGN5ImdOghsr/4DBHyPoGf8x\n",
       "sHznPnAPp7EQXSjGcuk8QHKtJwODP0bgskxgYPnBsQ0mXqt/B00BRBfYWL47p8HmFT1ADgQgmI8t\n",
       "gDg/EEic86H6VzZwXADx1eEy3ArgdPIHm67+A/hNBeniEQDG7jcGngUgAQW4VGEC2F1Yk8kUAo4F\n",
       "6WL/DExkf87cAlsjOXPmzKkgVokWWMFWbLq4A7DkSc2ZINCA0PVEmYEf6ig+uAaOraBQZsPq2BQC\n",
       "joXourSAgR8WWIhUAc4ltgzsmHmb+QJDOV5jwbpAuZQTGF8GIJEzKNkBGI08mFm7l4HhHN4IA+vi\n",
       "BUYZmwLDa7CzmAyQja3cvXsnpHQFRiXfJ2jmnb179wR8xkJ0gRPY2TRIMPC5rkMydv7//xCzODcA\n",
       "idnQaP7//78C3kQL1oWaebmuImVeSgCeooYGxoJyCSWAG3tAgXIJJeBhAnbxamdKTK0F6gYAv0eE\n",
       "w3ELTC0AAAAASUVORK5CYII=\n",
       "\" style=\"display:inline;vertical-align:middle;\" /></a> <a class=\"ProveItLink\" href=\"../../../__pv_it/_proof__fail_ineq/75d237f1cfdc15193e1b2ca5ad3b0e11e532af9c0/proof.ipynb\" style=\"text-decoration: none\">&nbsp;&#x22A2;&nbsp;&nbsp;</a><a class=\"ProveItLink\" href=\"../../../__pv_it/_proof__fail_ineq/49b12b70b90bbfd1b02af42feb79591502b655f30/expr.ipynb\"><img src=\"data:image/png;base64,iVBORw0KGgoAAAANSUhEUgAAAZoAAABLCAMAAAB+zbFvAAAANlBMVEX///+/v7+urq7c3Nx2dnZE\n",
       "RESIiIgiIiLMzMyYmJju7u4QEBCqqqpUVFRmZma6uroyMjIAAABMl2BWAAAAAXRSTlMAQObYZgAA\n",
       "AAlwSFlzAAAOxAAADsQBlSsOGwAACENJREFUeNrlXeuioygMdhfkJiC8/8uu4uWoQE3QUtvlxzgz\n",
       "B0+/fEkgCZc2zdpc3/xeI1xdeLs2JRm01jS/2OgFsepTkkSrO/WTqmk6WfrmJyhJoFXlEjy89Z6U\n",
       "vfgRShJojQPZ0YmU7Im6MW3he+4GRtCURGiFh0x4MttJyUkO+8RIwOuS10CU5BkppSRC6yAWoqI5\n",
       "avlYwRif/JE+UDctL4rOXAkj1yk5oNUgp7FRpz/n0/MvdA8MJoQvGGhBlMSMXKfkgNaB7GrqpKhk\n",
       "MouD6ie6TVfgNBzMyM2U7NDCzIoED1dcDHNVFod+4myj8bMNiJKJkbsp2aE1HuJzffhUYxpC8ybS\n",
       "tw9UTeMd9g0QJbOwd1OyQat87mXRLm2IEXUwjM5KPaK24/924x9yi0M8UjXGC2ROk6MkwcjtlGzQ\n",
       "Spi/Tx+xS4m+ZEAbEjlkmASjZCb9bko2aFsPiyHCR7UjZprFwR6ZdTYeGQgAKZmEvp2SFa3ywLh/\n",
       "9OFGWSaZOuAg1HnK1j73hr78hni8xY1oUEomaa9RkpBvRSuh3h4nT9Eoqm6eapSxzt+gGoYb0aCU\n",
       "JNJJHCVp+Va0xkNXJSzJpL75HneweoNqBC5GA1MSy4umJCHfirbzYMhUFZeUPquaxqN+C5ySM0bO\n",
       "KUnJN6MFTzWh86Uff1A1ziOsBkOJuvjzpHwzWu0fmYrcrBqLqaNVpSQl34zWevo/UI3EsF2VkpR8\n",
       "M1rn9f9ANQKT2VSlJCXfjLbDFjG+UjXKw4OdupSk5JvRQmMX5zONfYNqBjEFom9FSpLyBbQEak7a\n",
       "H6RTpGem8777CtVw+CBVl5KkfAGtBgeKxqe6Sv7mgfkm1Ti4KdelJClfQMvgeTL3PrWDzb430qT+\n",
       "lgqDgUdddSlJyhfQUnhUKQb/laBqxX3NDOODMzdsCLPewMmqR0lGvoDWwCEP5uSTJvwNuwsp3BUe\n",
       "QElA23rESk/rPW++s9E8cu3IQcqPUxLQOgwONUQf9jtVw3Jhk+RWHefgj1MS0HJUUaIf/Fd/pWpk\n",
       "OiJmPK4dP4CSgLbD1YvoELSrX1GNopwliwEfp2RWDS6bHzJg942q0ZFqlOUyU6f5OCV6Ug0umBjH\n",
       "VvoDqlHG5YahB1AS0Hokjrg68R2tP3pNXjUPoKSfVIOdw+xXTjciqlmS3ID2AEoCWu//xb7HS6rN\n",
       "/hNt8/n/JMrJmTCgEiUvwE5oCyI/8o15p0hX+lPB8wMoEYWqYR15thoUpcaoSFhoyvkASkRJhDZO\n",
       "UU+PAsbs3PKTMGBbqBGXIrQ3UNIXqUY8vxwwbhUiB7Z6+Ap0ZUpSPh7QcnQQz56umUaqS6qpTEnW\n",
       "xx029f2S8iblx9wDvCpcjRLKR/tJ+XhA2+IS2fbakiYp6+cIqPemV7T/Xh5iKMU3bc9LPUqkz/h4\n",
       "QGtQJW2bPFEBHmmZLuqncmMRsa5rSdPPVt6v1k7aI06GWUqrRYl1GR8PaBELs4MykzGihKpG0z83\n",
       "Pu9HrHWtmEKo3IgwqGOcQZfzx8uTDNySPVTEqnI9SpaMN/LxgBYBORMjauggrtzGjU/7kTZA7BtC\n",
       "uaNpZa6BzXI2f3qSVghxyFYs3BWqUbIMY7GPB7QS7ujJG0UUXGYrD278sp8J1tiNQmYLkWwxb2m3\n",
       "zy4qfIwTCHhur0bJbKMJHw9oe3DkkogRiTaIomt3cOPX/bpQWDHjpojsTjS1MrNUF7NVRsQ+5mqU\n",
       "TFcFpXw8oAVvVRy6u23jfDJOcPVomTHICfC5n+HTlCyaPs/UehzWyf0zkUcKuCtUomRSbMrHJ7Qe\n",
       "uAXP5sq70PzMUthUY+ku/QvDlkryqs16Ema5fi97aSDmWFolSkT+Yya03Fe6YHIx6LP7ybaGH+4j\n",
       "sSx9Lm+81Wq5FUO6ZveMPQGxD7kSJazL+203DRmVdvhxvXXj837h76MTCCtFEv944cU8Ti0xUS42\n",
       "6jHL95UoaU3uOOGMltXaWdb1RzdWLpWRd38mm9g7rFaOg/eJWTXCN7tnZKGYDL8SJYMB0Jdo+1o7\n",
       "ZGbKWQfrN45OqYmD2z/J/lSxhAq5kMFgisOVKPG9Yi/Ros5r3TCg5d34OKCFogAh2cBZbOaW9UIY\n",
       "nps+EGv3lSiRljav0fKCUxLk6PFxQhsPrezEjff9GhG6sezvDapZslHZ7p8R2agDWgWUlDCSN41u\n",
       "qUv8TXrKvLSXddVHHjxR6FSRT+3ipTmuzbvxvh/hdmz5FGG8AUabQ8SdMUTtUbdpbyh5JyPZzG5B\n",
       "229h65evLqs+jNvj0L0BEt0MutTwTtx4349PKcILPJSx9Vfxfv+8MtXsKXkjI/kIcS1y+Ey+l5i4\n",
       "5mQ+/oANkPjeqbkLMB/n+IV2wvfPuBaADFl8FUZOP91uahj8ZbK1rPrMtWE7tR4IRAJDUokPXdfK\n",
       "qczk3chvB9hQ8k5GmjO0m1vrwqKVXS8xTAk6rvpoGx27ggCBXpaGvlSNtPtnnCcg91X8UfJeRk7R\n",
       "dh1sYJ1mgtFOrNyzJ1j3d2duFgj0tjT0rWqLLnM6degD9Csl72XkFC1ba0bxwLq7B/Q0JMzcDLpa\n",
       "N3DNhOD2TTCyf8YjBHoj/0rJmxk5RbsObrxXL903seqTsGHcpPf+ZgquHlgoqc/IHi1d/uVff3NE\n",
       "atXn+apRvuArghZKqjNyQKsWH7Ksfx3Vxas+eSB/N4N+trGSSyEWSqozckR7020jRxt5RutsmULV\n",
       "RxiJ0PIbT7w9bH9nKcc3UmKvoNX+4QczLsw0hetiH6Ekhda2P6oaUyzYJyhJouW/+T12/YVDlvUp\n",
       "SaMVv/ntj/zCDoz6lGTQ9r8426hLe2NqU7JD+x90nnisvA3iwQAAAABJRU5ErkJggg==\n",
       "\" style=\"display:inline;vertical-align:middle;\" /></a></span><br>"
      ],
      "text/plain": [
       "first_sum_bound: {e in {2 .. 2^{t - 1} - 2}} |- (Sum_{l=-2^{t - 1} + 1}^{-(e + 1)} (1 / (l - (2^{t} * delta))^{2})) <= (Sum_{l=-2^{t - 1} + 1}^{-(e + 1)} (1 / l^{2}))"
      ]
     },
     "execution_count": 55,
     "metadata": {},
     "output_type": "execute_result"
    }
   ],
   "source": [
    "first_sum_bound = first_sum.deduce_bound(first_summand_bound_generalized)"
   ]
  },
  {
   "cell_type": "markdown",
   "metadata": {},
   "source": [
    "#### Bound on the Second Summand and Second Sum"
   ]
  },
  {
   "cell_type": "code",
   "execution_count": 56,
   "metadata": {},
   "outputs": [
    {
     "data": {
      "text/html": [
       "<strong id=\"second_summand_bound_02\">second_summand_bound_02:</strong> <span style=\"font-size:20px;\"><a class=\"ProveItLink\" href=\"../../../__pv_it/theorems/f67ffeb951aaff9cc5f02f3801926b572b231a930/expr.ipynb\"><img src=\"data:image/png;base64,iVBORw0KGgoAAAANSUhEUgAAAKwAAAAYBAMAAACVRAuIAAAAMFBMVEX///8QEBAyMjKqqqpUVFRE\n",
       "RESYmJjc3NzMzMwiIiK6urpmZmaIiIh2dnbu7u4AAAAMEBwRAAAAAXRSTlMAQObYZgAAAAlwSFlz\n",
       "AAAOxAAADsQBlSsOGwAAAe1JREFUSMdjYCAZMBVAGXxJDFQE72GMnpPUNNYIzrIkTSPfKjyStZNu\n",
       "4De2uACHzkPr8FmqTMC1HK4PsIoz/2NgYN+t2oApU70pgoHhH25jIbpYHbAayzuBgaGUgfcXhgR7\n",
       "AMP9BVwCDByhQBCOxViILpB+HMa6MzAIYkiwFDAwCvA4vMDpWoguVGN5ImdOghsr/4DBHyPoGf8x\n",
       "sHznPnAPp7EQXSjGcuk8QHKtJwODP0bgskxgYPnBsQ0mXqt/B00BRBfYWL47p8HmFT1ADgQgmI8t\n",
       "gDg/EEic86H6VzZwXADx1eEy3ArgdPIHm67+A/hNBeniEQDG7jcGngUgAQW4VGEC2F1Yk8kUAo4F\n",
       "6WL/DExkf87cAlsjOXPmzKkgVokWWMFWbLq4A7DkSc2ZINCA0PVEmYEf6ig+uAaOraBQZsPq2BQC\n",
       "joXourSAgR8WWIhUAc4ltgzsmHmb+QJDOV5jwbpAuZQTGF8GIJEzKNkBGI08mFm7l4HhHN4IA+vi\n",
       "BUYZmwLDa7CzmAyQja3cvXsnpHQFRiXfJ2jmnb179wR8xkJ0gRPY2TRIMPC5rkMydv7//xCzODcA\n",
       "idnQaP7//78C3kQL1oWaebmuImVeSgCeooYGxoJyCSWAG3tAgXIJJeBhAnbxamdKTK0F6gYAv0eE\n",
       "w3ELTC0AAAAASUVORK5CYII=\n",
       "\" style=\"display:inline;vertical-align:middle;\" /></a>, <a class=\"ProveItLink\" href=\"../../../__pv_it/theorems/f01e5817c994f42806cb80f31cb3ebf09f18f49a0/expr.ipynb\"><img src=\"data:image/png;base64,iVBORw0KGgoAAAANSUhEUgAAAKgAAAAYBAMAAACcr6vyAAAAMFBMVEX///+qqqq6urru7u4QEBBE\n",
       "RERUVFTc3NyIiIgyMjJmZmaYmJjMzMwiIiJ2dnYAAACPW0xlAAAAAXRSTlMAQObYZgAAAAlwSFlz\n",
       "AAAOxAAADsQBlSsOGwAAAdtJREFUOMtjYKAYcBZAGcw7GagG7GGME73UM1QSzpLFo8pIgRQz626+\n",
       "QTa0sACrKo5JBiS5dCKKS3lSQbrf/kFTJI/VTJ7LWASrVsYwMHxG9T5rApDg/oCm8i02M81WfsYU\n",
       "ZA9geK/A5MDAEwoE4VBD+S4ACa4JeA3VhgUKFkPZChhYHDgSbFBcCjaUtwGiKfbuTWyGSuAxlOUz\n",
       "A9t3robHmIbWHwAxmWYYYHcpPkPZLjCw/eFZfQCWDua/gBm6HyxQaYDifeYXXQaEDQX5Ez1GIIam\n",
       "gpnTEaIrgVj3AM8Dogw934CRIh2AhAeYiYgtdm8g/s3AoUCUodcwk8RHYPr7Dk6Fvnfv3r0KFssE\n",
       "msb6o+MRiLP27l2Xu3ev4TaUKwBL6psIcS0DM0LyVDADA38CURHFwLANi9hLBWAGAMfIBYRgGNDQ\n",
       "BuIMZXzAUI4hBlTIvwEcIx0oiZ8XKCZAhKHnGBiaMWIf6HV+ZbCrOAWQDeWewGBVgGoo33do6QmM\n",
       "Uuaf0Di5tWrVBWxJinsdpNROVUZOp327G1C9z5byMxuSMBcAiVvQRPr///8JWNMpFDA9xZ9NiQZ8\n",
       "F7CJYi9QKDS0hbLaBaPUA4N6AYoMNdmATZR9GSWm1iUyMAAAMyWCGgj5uJ8AAAAASUVORK5CYII=\n",
       "\" style=\"display:inline;vertical-align:middle;\" /></a> <a class=\"ProveItLink\" href=\"../../../__pv_it/_proof__fail_ineq/25af8a52df19cb11ad7b79554f97c076e9b3a5140/proof.ipynb\" style=\"text-decoration: none\">&nbsp;&#x22A2;&nbsp;&nbsp;</a><a class=\"ProveItLink\" href=\"../../../__pv_it/_proof__fail_ineq/8e443d4de340c732ec6cf8c54c138dd6c44ef9690/expr.ipynb\"><img src=\"data:image/png;base64,iVBORw0KGgoAAAANSUhEUgAAANkAAAAzBAMAAADoT7ChAAAAMFBMVEX///9ERES6urqqqqqYmJgQ\n",
       "EBDc3Nx2dnaIiIgyMjJmZmZUVFTu7u4iIiLMzMwAAAD4QZJGAAAAAXRSTlMAQObYZgAAAAlwSFlz\n",
       "AAAOxAAADsQBlSsOGwAAAzZJREFUWMPtWE1oE0EUfmmSzSabpDkVQak5CnrwJtKDOUfB6Mlbt5cq\n",
       "AUluClUbEMWDYMDiRcUcAiVFIYJerIftyRbBBioYq9bcBKE11FIQQuKbmTWz2byN+YHQQx58m/B2\n",
       "vvlm3rz5W4AOFv4Kg9i20Uvp94XaAFrBN896UgO1NlDfHozURmojtZEaM9/+QGrzei+ltdd/Xg0g\n",
       "tjz9OAYjO8DmfjREMc+mMTwx9dMQxd6VhxjG5MdeSjf6tipfAR42axrvjjGIWdQOXiT7TI25tz1m\n",
       "SfDact+pm4MXzf+r5W6qCUCg1K/aLqQqcnZ3M+HGo0q9X7VzVjXwdLFyeYz+1QBu9szwiUhSW6zp\n",
       "8+vtbt35+qPQOrrlyqOeJNY+07durapwQT+GvwwwQw7VbVqNM5Qj/P8pDIs9pOhLFiYBTlsjAccN\n",
       "Ffd+BiWnEBFxp8H3vdJ+B2QMSMIsmwhZHELbmoI+JQLz0cufb1mWDdadJwIzOz+Jzq0hzlN3QGQo\n",
       "kzvP2URA4UDWNjlioOngTYB1XVKL+IgLTDcaRMTyiAJ1SkSGVyyTXkQo01oEfd4aaPtgPVAGf7M3\n",
       "hgBpCUSZUpMMNjQpW7DRp5VAq48lrN6jyPHHBMgDA0aobVJxNclYbA8292GPq2rxg3ROnYlgqhQF\n",
       "yMUp3Z4BQk0yFhAvbUUW+PNXJpC5IReDrFZjTwHKWA+0CKUmGRuIS7YiG/z5BcJ5GeKU7sYouRMC\n",
       "lIVwknozlJpkXMQ5wc/7waffmFWEDwPTbOZ6lvc/jGrhqgBl3ijGg0/DNV7TVlNNMrBm1d5YrnZW\n",
       "NjqHjz3OYXkzlnBWu0PekyQDo+YqGu2RxIVh1pr/dR59d0nAKZKHg2Qkm4xDuPfE0q1F0Ac/AO5b\n",
       "fXXwY22eiABlLhyzPR+ZJU3GHKqdsI0t+pTNpaWWPlyHKTPLA2mHLQXzfHeVugNKxjZKL9q/h2FY\n",
       "8ETWkum+e4wSigqQH+GwdfE0dQeUjFCFGIGK05Z41QRpW51Y5qzNEdt6zomXN0FavBPLtAni9YQD\n",
       "DfchDoc00Z1Z/2yFeL/SoT6X4+U9GPl/K5QM0ZoMzbtrwsGuOLO4/QXl5kst84qqbgAAAABJRU5E\n",
       "rkJggg==\n",
       "\" style=\"display:inline;vertical-align:middle;\" /></a></span><br>"
      ],
      "text/plain": [
       "second_summand_bound_02: {e in {2 .. 2^{t - 1} - 2}, l in {e + 1 .. 2^{t - 1}}} |- (1 / (l - (2^{t} * delta))^{2}) < (1 / (l - 1)^{2})"
      ]
     },
     "execution_count": 56,
     "metadata": {},
     "output_type": "execute_result"
    }
   ],
   "source": [
    "second_summand_bound_02 = the_summand.deduce_bound(_diff_l_scaled_delta_upper_bound_2,\n",
    "        assumptions=defaults.assumptions + (second_sum_conditions,))"
   ]
  },
  {
   "cell_type": "code",
   "execution_count": 57,
   "metadata": {},
   "outputs": [
    {
     "data": {
      "text/html": [
       "<strong id=\"second_summand_bound_02_relaxed\">second_summand_bound_02_relaxed:</strong> <span style=\"font-size:20px;\"><a class=\"ProveItLink\" href=\"../../../__pv_it/theorems/f67ffeb951aaff9cc5f02f3801926b572b231a930/expr.ipynb\"><img src=\"data:image/png;base64,iVBORw0KGgoAAAANSUhEUgAAAKwAAAAYBAMAAACVRAuIAAAAMFBMVEX///8QEBAyMjKqqqpUVFRE\n",
       "RESYmJjc3NzMzMwiIiK6urpmZmaIiIh2dnbu7u4AAAAMEBwRAAAAAXRSTlMAQObYZgAAAAlwSFlz\n",
       "AAAOxAAADsQBlSsOGwAAAe1JREFUSMdjYCAZMBVAGXxJDFQE72GMnpPUNNYIzrIkTSPfKjyStZNu\n",
       "4De2uACHzkPr8FmqTMC1HK4PsIoz/2NgYN+t2oApU70pgoHhH25jIbpYHbAayzuBgaGUgfcXhgR7\n",
       "AMP9BVwCDByhQBCOxViILpB+HMa6MzAIYkiwFDAwCvA4vMDpWoguVGN5ImdOghsr/4DBHyPoGf8x\n",
       "sHznPnAPp7EQXSjGcuk8QHKtJwODP0bgskxgYPnBsQ0mXqt/B00BRBfYWL47p8HmFT1ADgQgmI8t\n",
       "gDg/EEic86H6VzZwXADx1eEy3ArgdPIHm67+A/hNBeniEQDG7jcGngUgAQW4VGEC2F1Yk8kUAo4F\n",
       "6WL/DExkf87cAlsjOXPmzKkgVokWWMFWbLq4A7DkSc2ZINCA0PVEmYEf6ig+uAaOraBQZsPq2BQC\n",
       "joXourSAgR8WWIhUAc4ltgzsmHmb+QJDOV5jwbpAuZQTGF8GIJEzKNkBGI08mFm7l4HhHN4IA+vi\n",
       "BUYZmwLDa7CzmAyQja3cvXsnpHQFRiXfJ2jmnb179wR8xkJ0gRPY2TRIMPC5rkMydv7//xCzODcA\n",
       "idnQaP7//78C3kQL1oWaebmuImVeSgCeooYGxoJyCSWAG3tAgXIJJeBhAnbxamdKTK0F6gYAv0eE\n",
       "w3ELTC0AAAAASUVORK5CYII=\n",
       "\" style=\"display:inline;vertical-align:middle;\" /></a>, <a class=\"ProveItLink\" href=\"../../../__pv_it/theorems/f01e5817c994f42806cb80f31cb3ebf09f18f49a0/expr.ipynb\"><img src=\"data:image/png;base64,iVBORw0KGgoAAAANSUhEUgAAAKgAAAAYBAMAAACcr6vyAAAAMFBMVEX///+qqqq6urru7u4QEBBE\n",
       "RERUVFTc3NyIiIgyMjJmZmaYmJjMzMwiIiJ2dnYAAACPW0xlAAAAAXRSTlMAQObYZgAAAAlwSFlz\n",
       "AAAOxAAADsQBlSsOGwAAAdtJREFUOMtjYKAYcBZAGcw7GagG7GGME73UM1QSzpLFo8pIgRQz626+\n",
       "QTa0sACrKo5JBiS5dCKKS3lSQbrf/kFTJI/VTJ7LWASrVsYwMHxG9T5rApDg/oCm8i02M81WfsYU\n",
       "ZA9geK/A5MDAEwoE4VBD+S4ACa4JeA3VhgUKFkPZChhYHDgSbFBcCjaUtwGiKfbuTWyGSuAxlOUz\n",
       "A9t3robHmIbWHwAxmWYYYHcpPkPZLjCw/eFZfQCWDua/gBm6HyxQaYDifeYXXQaEDQX5Ez1GIIam\n",
       "gpnTEaIrgVj3AM8Dogw934CRIh2AhAeYiYgtdm8g/s3AoUCUodcwk8RHYPr7Dk6Fvnfv3r0KFssE\n",
       "msb6o+MRiLP27l2Xu3ev4TaUKwBL6psIcS0DM0LyVDADA38CURHFwLANi9hLBWAGAMfIBYRgGNDQ\n",
       "BuIMZXzAUI4hBlTIvwEcIx0oiZ8XKCZAhKHnGBiaMWIf6HV+ZbCrOAWQDeWewGBVgGoo33do6QmM\n",
       "Uuaf0Di5tWrVBWxJinsdpNROVUZOp327G1C9z5byMxuSMBcAiVvQRPr///8JWNMpFDA9xZ9NiQZ8\n",
       "F7CJYi9QKDS0hbLaBaPUA4N6AYoMNdmATZR9GSWm1iUyMAAAMyWCGgj5uJ8AAAAASUVORK5CYII=\n",
       "\" style=\"display:inline;vertical-align:middle;\" /></a> <a class=\"ProveItLink\" href=\"../../../__pv_it/_proof__fail_ineq/274e10f2158dfd887d36ecb59ed0fc7c5e62aed70/proof.ipynb\" style=\"text-decoration: none\">&nbsp;&#x22A2;&nbsp;&nbsp;</a><a class=\"ProveItLink\" href=\"../../../__pv_it/_proof__fail_ineq/7f43162589bdb4e93917e15247b3f7468116b3840/expr.ipynb\"><img src=\"data:image/png;base64,iVBORw0KGgoAAAANSUhEUgAAANkAAAAzBAMAAADoT7ChAAAAMFBMVEX///9ERES6urqqqqqYmJgQ\n",
       "EBDc3Nx2dnaIiIgyMjJmZmZUVFTu7u4iIiLMzMwAAAD4QZJGAAAAAXRSTlMAQObYZgAAAAlwSFlz\n",
       "AAAOxAAADsQBlSsOGwAAAzZJREFUWMPtWE1oE0EUfmmSzSabpDkVQak5CnrwJtKDOUfB6Mlbt5cq\n",
       "AWluClUbEMWDYMDixb8cAiVFIYJerIf0VGvRBipYq9bcBKE11FIQQuqbmTWz2bxN3QQWCnnwTcvb\n",
       "+fabefve/ASgg0W/Qi+2UXbSe6lY70Er/PqpIzVQ6z3N7V5fra/WV+urMQvs9KQ2pTvprb3687IH\n",
       "sbnRhwnY9+Z94KKYb63snpj6yUWxhVUXw/juo4tiS/fdTEfNmdpu11bj/HQzkoP/ydg/WeJGBSxM\n",
       "vnFY3eErc10PKg/PzSvXk70ZIQhVulXbgomqM8ZgXGl0q3bGsZqv3L0awHXHjICIJLXFGr6g3u7W\n",
       "zdef99+YrRuPFVpHN1151ONEVhu+ZZNPKZ7Tj+BfBhgjE+wmrcYZyiH+/wkMizWk6EsXhwFOmiMB\n",
       "R8sq7v0MSl4hIuLNQOB7tf0OyBiQhnFWCDn8hJY1BX1KDKbiFz/fMC2JbDqPBMY2fxKTW0Scpe6A\n",
       "yFCGN5+xQkDhUM5SHAnQdPCnwLzmqiVskgKju7tExAqIInVKRIZfLJN+RCTb2gV9/jpoO2A+UIZ/\n",
       "sydlAdJSiFVKTTLYp7EWD/q0CmiNgZTZexg5wYQAeRjCCLUVFVeTjJn2YHMfzrimlj5I58ipGKZK\n",
       "SYBcnDLtGSDUJGMa8cLSZZq3v7Kh7DW5GOS0OmsFKGMz0GKUmmSsIC5Yuqzw9gtECzLEE7oXo+RN\n",
       "CVAWwSL1Zyk1yTiPNcHP++HHfF2oCh8GpjnM5RyffxTVojUByvxxjAcvw0W5wnA1ycA3q9bBcrXT\n",
       "ctB5bLY5h+XNQMpe7RZ5T5IMjJqnVG6PJC4M4+b8b/DoeysCdpE8GCYj2WQcwL0nkWntgj74AXDX\n",
       "7GtAEN/miwlQ5sFvth0gs6TJmES1Y5Zviz5lbXa2ZQ5XYcTI8lDGZkvBPN96S90BJWMDpWesv4dh\n",
       "WPBE1pLpgTuMEokLkD/C4eiSGeoOKBkRYhOO2G7Mlw2Qtt6JZVRtntjW83a8ggHSkp1Yhg0Rj4ds\n",
       "aLgPcdikiW7P+mfzxPP5Du/z2F7ew7G9R6FkidFkad5tAzZ2yZ7F7S9K0FGSBM7PLwAAAABJRU5E\n",
       "rkJggg==\n",
       "\" style=\"display:inline;vertical-align:middle;\" /></a></span><br>"
      ],
      "text/plain": [
       "second_summand_bound_02_relaxed: {e in {2 .. 2^{t - 1} - 2}, l in {e + 1 .. 2^{t - 1}}} |- (1 / (l - (2^{t} * delta))^{2}) <= (1 / (l - 1)^{2})"
      ]
     },
     "execution_count": 57,
     "metadata": {},
     "output_type": "execute_result"
    }
   ],
   "source": [
    "second_summand_bound_02_relaxed = second_summand_bound_02.derive_relaxed()"
   ]
  },
  {
   "cell_type": "code",
   "execution_count": 58,
   "metadata": {},
   "outputs": [
    {
     "data": {
      "text/html": [
       "<strong id=\"second_summand_bound_generalized\">second_summand_bound_generalized:</strong> <span style=\"font-size:20px;\"><a class=\"ProveItLink\" href=\"../../../__pv_it/theorems/f67ffeb951aaff9cc5f02f3801926b572b231a930/expr.ipynb\"><img src=\"data:image/png;base64,iVBORw0KGgoAAAANSUhEUgAAAKwAAAAYBAMAAACVRAuIAAAAMFBMVEX///8QEBAyMjKqqqpUVFRE\n",
       "RESYmJjc3NzMzMwiIiK6urpmZmaIiIh2dnbu7u4AAAAMEBwRAAAAAXRSTlMAQObYZgAAAAlwSFlz\n",
       "AAAOxAAADsQBlSsOGwAAAe1JREFUSMdjYCAZMBVAGXxJDFQE72GMnpPUNNYIzrIkTSPfKjyStZNu\n",
       "4De2uACHzkPr8FmqTMC1HK4PsIoz/2NgYN+t2oApU70pgoHhH25jIbpYHbAayzuBgaGUgfcXhgR7\n",
       "AMP9BVwCDByhQBCOxViILpB+HMa6MzAIYkiwFDAwCvA4vMDpWoguVGN5ImdOghsr/4DBHyPoGf8x\n",
       "sHznPnAPp7EQXSjGcuk8QHKtJwODP0bgskxgYPnBsQ0mXqt/B00BRBfYWL47p8HmFT1ADgQgmI8t\n",
       "gDg/EEic86H6VzZwXADx1eEy3ArgdPIHm67+A/hNBeniEQDG7jcGngUgAQW4VGEC2F1Yk8kUAo4F\n",
       "6WL/DExkf87cAlsjOXPmzKkgVokWWMFWbLq4A7DkSc2ZINCA0PVEmYEf6ig+uAaOraBQZsPq2BQC\n",
       "joXourSAgR8WWIhUAc4ltgzsmHmb+QJDOV5jwbpAuZQTGF8GIJEzKNkBGI08mFm7l4HhHN4IA+vi\n",
       "BUYZmwLDa7CzmAyQja3cvXsnpHQFRiXfJ2jmnb179wR8xkJ0gRPY2TRIMPC5rkMydv7//xCzODcA\n",
       "idnQaP7//78C3kQL1oWaebmuImVeSgCeooYGxoJyCSWAG3tAgXIJJeBhAnbxamdKTK0F6gYAv0eE\n",
       "w3ELTC0AAAAASUVORK5CYII=\n",
       "\" style=\"display:inline;vertical-align:middle;\" /></a> <a class=\"ProveItLink\" href=\"../../../__pv_it/_proof__fail_ineq/ec3d2d5faf209ce0116915dc5143fec966baccb20/proof.ipynb\" style=\"text-decoration: none\">&nbsp;&#x22A2;&nbsp;&nbsp;</a><a class=\"ProveItLink\" href=\"../../../__pv_it/_proof__fail_ineq/151b22835a8912c5fc440997c9415dead270429c0/expr.ipynb\"><img src=\"data:image/png;base64,iVBORw0KGgoAAAANSUhEUgAAAYkAAAA/BAMAAADnFylSAAAAMFBMVEX///+IiIgiIiIQEBB2dnbu\n",
       "7u5ERETMzMzc3NwyMjK6urpmZmaYmJiqqqpUVFQAAAB6qHgnAAAAAXRSTlMAQObYZgAAAAlwSFlz\n",
       "AAAOxAAADsQBlSsOGwAABj9JREFUaN7Nmn1oHEUUwN997N3e7d7lTI2oxPYM1KKlRosFPxDPQBGh\n",
       "Tc4aIkExKcVr/tEeWhARzGkkCgEvVSr+UfFU+p/QUGMlXiRpsWII2tL6T1BIQCoUNElr89HYNs7M\n",
       "zt7O7s162dzcbh/Mfczem8xv5r03b2YCIFSUBLgq0uFatHoHuCy31aDN6LLbFKGU+DafHXebQnpc\n",
       "fJsj4LqcT4tuMbzkPoV/SHSLkRn3KWLCXXE65z4FfCy6wXsqmtzmqgyWqz2dFewW1yv84MWRhSqa\n",
       "t9EOCHaM+HylX/iqobDRVubFUnQNeUERvSaW4kzWCwp4RCzFAfCEYkxsZFz0hmJaaNoTveINRV7o\n",
       "WquseEMReEBo/rHgDUVoQSRFXdIbCt91kRT5bm8oYv8KzQUrpwLBqhJQG+3wokiKTRVPDuJ/XP2r\n",
       "igTHRlu6DEDC1O8iKMbOgjeyCvAdfv9EyNKd9YiiOQ1voTe5W0Rjn+U8okB/OIJ230EhtvCEuH38\n",
       "lKMBOVAAFWUhEVHmKUhOfePo53NoErY3NT10c1HU7wTHFN8CvHQzUUgtTs96x5A5fQAymxT+UCnP\n",
       "lfXFrR/5wUFj7iUxFPJxx4k2pgilgwWQ5vSF0JwgvjBo+treegFUOlThc9ibWw2Kf+iUrFvIBvqi\n",
       "EWnq1qYBbahHsQR27inUrY2ZAsRK3VZwT28xZ3hDcBzqv6df/GlNz0JRpVx0Hi8xBQyeRC/DAEW8\n",
       "ahkUIZJpmSlWIJ/1Q00p1mFRhGI3vsm4D3xEG1NIuxptKE4jik6AgWKxWLBSVOfd2Fadebehgf0C\n",
       "+pBzS/PQQWpURLEnG7ehAGiB31R2Lr4QRIFtVceob3CmQSjiWTIFX5GaN9CXWXmXHUV4Mwz8RD9u\n",
       "2I03eA1iKLCtGqveTkcac7orKSmYyGQyZ8OzaIAf+zkNJzL7MpnxMop+a5YRO2RkINVQnGYpYCLn\n",
       "RKNE4T8KB7X9FDKvZVvvlodkS/t9ptSyGmlZt0Ypma7zoXVD9+6XIWihaAcpRabi9TctXZ3iZea8\n",
       "kaR1EfMzmRa7A3GZ3/+cSaNZb1O5E+T9OsXzjQ2UQn76CgkYr+XCDxOjWbUaP0MxVtD3x5yQr9d1\n",
       "MXUDH/VEUfPRBNdWidzFp/jcpGEy5faMadULrS2HZnaseqD/FU229W4M1Q2M7Df9HlLRC4BjeiPX\n",
       "VsmYpiDYnC0LMGRVMDTKF6pokl27HVGcSdFIiQZCtRzHozq0FWsrvHvvU0Yljvd4e4NLua1i6cTN\n",
       "mqu0W4zDjIZ8uVzxkCMHC39qfD5Gk0oFDZRizr9wXTyHT/GY38NGvD4NaaXcVrGMQvm9LTnPmWQ0\n",
       "ojc4/XKUx7zHfO6iPQ/gmGdZf1FdYAHiy8AeKXXhP7WDFq7g1PRuHkWAmTj1ksjtr3/eMLJ8tszw\n",
       "4kmIL0XZlJkcTR6hhXtehsZFXuJRRJhkSxF6P63QQ6/hcmMmdZjTN/Oc0ce/F2lq32rXYqrcwzSK\n",
       "ILMligi9ElPp1RQe2T8tz7TR7k0oCSO5mIC5NH7VCk/wiMe7eRQq43drOB92klPT89JtqDxoebaN\n",
       "vN4P4dGSqcnL5JL3PGiFa6PIcQIJHkWMsczelNBzoe3a26MoRBDj6mzCsoXWIQPRh1W6CmSQexFF\n",
       "L2iFJwG0jvbiRUH6kDSVLVGEGSvaJPY0ry2tU/isFyOE4pfS163YEMZJ77+kxY5iA/Dmgo0S+8Se\n",
       "0eUTuvWEZtLlFoUW4vfZOJsl/nCOFjuLekXiWpThC9INsRQRzeX24nG22Cqqw0kzu/2py5Il8Eda\n",
       "eBJCw3ItyPVuw+dVwf8IpGqhFsXNuqMWn0R18tZikY0mwURshsbgYZsGcTxdecZauUxjsD52SbEU\n",
       "knbJ+irisfYL1flXV1dNecmTtwLZ8GuFm9+gDk5aZlW7xfAXDDseF0sBX2vWzIkZfrs4Iie1wpct\n",
       "dg/eYWKKYAjoInakcm7GVLvbMpI62o7mpN2DUcMALommoAG2h/Oox0alnxYb97bZfzMXLkpSNAXN\n",
       "Pzs4TzpsNHr+hxANdHdFunxBOMUx0rrMORaT+UdlvpxW7ORtfvXtxsdZ4RAQHASXRd1Rg0b3uk3R\n",
       "V4sr0T1u37MeqUWjsssUkubb/wGBn/dPMr0XRgAAAABJRU5ErkJggg==\n",
       "\" style=\"display:inline;vertical-align:middle;\" /></a></span><br>"
      ],
      "text/plain": [
       "second_summand_bound_generalized: {e in {2 .. 2^{t - 1} - 2}} |- forall_{l in {e + 1 .. 2^{t - 1}}} ((1 / (l - (2^{t} * delta))^{2}) < (1 / (l - 1)^{2}))"
      ]
     },
     "execution_count": 58,
     "metadata": {},
     "output_type": "execute_result"
    }
   ],
   "source": [
    "second_summand_bound_generalized = second_summand_bound_02.generalize([l], conditions=[second_sum_conditions])"
   ]
  },
  {
   "cell_type": "code",
   "execution_count": 59,
   "metadata": {},
   "outputs": [
    {
     "data": {
      "text/html": [
       "<strong id=\"second_summand_bound_relaxed_generalized\">second_summand_bound_relaxed_generalized:</strong> <span style=\"font-size:20px;\"><a class=\"ProveItLink\" href=\"../../../__pv_it/theorems/f67ffeb951aaff9cc5f02f3801926b572b231a930/expr.ipynb\"><img src=\"data:image/png;base64,iVBORw0KGgoAAAANSUhEUgAAAKwAAAAYBAMAAACVRAuIAAAAMFBMVEX///8QEBAyMjKqqqpUVFRE\n",
       "RESYmJjc3NzMzMwiIiK6urpmZmaIiIh2dnbu7u4AAAAMEBwRAAAAAXRSTlMAQObYZgAAAAlwSFlz\n",
       "AAAOxAAADsQBlSsOGwAAAe1JREFUSMdjYCAZMBVAGXxJDFQE72GMnpPUNNYIzrIkTSPfKjyStZNu\n",
       "4De2uACHzkPr8FmqTMC1HK4PsIoz/2NgYN+t2oApU70pgoHhH25jIbpYHbAayzuBgaGUgfcXhgR7\n",
       "AMP9BVwCDByhQBCOxViILpB+HMa6MzAIYkiwFDAwCvA4vMDpWoguVGN5ImdOghsr/4DBHyPoGf8x\n",
       "sHznPnAPp7EQXSjGcuk8QHKtJwODP0bgskxgYPnBsQ0mXqt/B00BRBfYWL47p8HmFT1ADgQgmI8t\n",
       "gDg/EEic86H6VzZwXADx1eEy3ArgdPIHm67+A/hNBeniEQDG7jcGngUgAQW4VGEC2F1Yk8kUAo4F\n",
       "6WL/DExkf87cAlsjOXPmzKkgVokWWMFWbLq4A7DkSc2ZINCA0PVEmYEf6ig+uAaOraBQZsPq2BQC\n",
       "joXourSAgR8WWIhUAc4ltgzsmHmb+QJDOV5jwbpAuZQTGF8GIJEzKNkBGI08mFm7l4HhHN4IA+vi\n",
       "BUYZmwLDa7CzmAyQja3cvXsnpHQFRiXfJ2jmnb179wR8xkJ0gRPY2TRIMPC5rkMydv7//xCzODcA\n",
       "idnQaP7//78C3kQL1oWaebmuImVeSgCeooYGxoJyCSWAG3tAgXIJJeBhAnbxamdKTK0F6gYAv0eE\n",
       "w3ELTC0AAAAASUVORK5CYII=\n",
       "\" style=\"display:inline;vertical-align:middle;\" /></a> <a class=\"ProveItLink\" href=\"../../../__pv_it/_proof__fail_ineq/4c91ac82dfbf7cecaa5ac8d5612033b5415514810/proof.ipynb\" style=\"text-decoration: none\">&nbsp;&#x22A2;&nbsp;&nbsp;</a><a class=\"ProveItLink\" href=\"../../../__pv_it/_proof__fail_ineq/7bfbad2fb9413a04c6920a6536149017cafaedc60/expr.ipynb\"><img src=\"data:image/png;base64,iVBORw0KGgoAAAANSUhEUgAAAYkAAAA/BAMAAADnFylSAAAAMFBMVEX///+IiIgiIiIQEBB2dnbu\n",
       "7u5ERETMzMzc3NwyMjK6urpmZmaYmJiqqqpUVFQAAAB6qHgnAAAAAXRSTlMAQObYZgAAAAlwSFlz\n",
       "AAAOxAAADsQBlSsOGwAABjtJREFUaN7Nmm1oHEUYgN/72Lu9273L2RpRie0ZqEVLTS0W/EA8AyJC\n",
       "m5w1RIJiUorX/FEXLYgIJhqJQsCkSsUfFU+l/4SGGivxIolixBK0pfVPUEhAKgjapLX5aGwbZ2Zn\n",
       "b2f3Zrxsbm6vL0zubvZmbp6Z92tmAiBVtBT4KsrhavR6C/gsN1Whz/iy3xSRjPw+n5zwm0J5SH6f\n",
       "o+C7nM3K7jG65D9FcFh2j7FZ/ykS0k1xptd/CvhAdod3lFW5LRUpLLf1jCHZLK6W+cKzowsVdC9o\n",
       "HZJsGMn5ct8IVEIhaK3Ny6XoHK4FRfyKXIpTRi0o4H65FC9CTSjG5XrGxdpQzEhNe+KXakMxKDXW\n",
       "aiu1oQjtkJp/LNSGIrIgk6IuXRuKwFWZFINdtaFI/Cs1FyyfCoQrSkAFraOLMik2lz05SP5++a8K\n",
       "EhxBa+UiAHFTv8mgGD8NtZFVgK/x64dSQre8FHnaUzhuysLr6EXtkvHTH0vLBL770usPx9DuOyxF\n",
       "Fx6WtY/f8KhHJciDjrKQmCz1lCFKs9fzxTm0CDsbG++9jiiU456TO0zxFcBz1w+F8qd37R5H3O+C\n",
       "yiaF35ebCtUKbv3IDg7adqjIWYt1UkSy4Twoc1YgdCaIzww5Pra1nAOdqm30DLbmFpviH7ok6xay\n",
       "gVZtjapbWwtoRSNKpLBxT6NhbcrlIVEctoZHeoMzwxuG47DhG/ohmDXbuSj8t25MAUPfoj8jAAUc\n",
       "tWyKCMm0nBQrMGgEoboU3j0todiDbzLuggBZSUyh7G4QUEwiig6AgUKhkHdTVGbdWFe9RT27BbYL\n",
       "6EPGrcxDO6nREcVeIymgAGiGX3V2LT6VRIF1lclADC8tCEXSIEvwOal5FX04r+4WUUS3wMCP9O3G\n",
       "PXiDVy+HAuvqelvMWW5Ny8DJXC53OnoeTfCDP2XhRG5/LjdRQtHvzjISh+wMpBKKSc8Uk6UUwaNw\n",
       "0NxPIfVaFlq3Oqy6Ur4+R2pZiTSvu0Uxma4LoLhhWffzEHZRtIGSIUvxymuuoU7zMnNeckvrYs5n\n",
       "Ki3FA3GlkYjBPBd1VjxCb7L61G4F9YBF8XRDPaVQH79EnPfLvdH7iNKsupWfoRjPW/tjTvi16jqZ\n",
       "uoH3u+Oo+3iKq6tEbuNTfOJo4VDltpwj6kXWtp9hdqxW0P0FLbb7bgzVDYwecHwfMvFzgH16A1dX\n",
       "yZxmINxklDgYEhXsFqWBKp5mY7cnilMZGv7QROiu43hUh7Zirfm37nzMrsT+Hm9vcCnVVSwduFtn\n",
       "lXmLcZhpoV4sbXjIk4FFP7LfH6NJpYYmShtynRtOQLIXn+Ix34dNOD4Nm6VUV7GMQem9LTnPmWJa\n",
       "xK9xxuUpp3ybed9JRx7CPs+VC6G60AIkl4E9UurEP7WLFq7g1PR2HkWIWTj9gsyjiOC8rWRu54/q\n",
       "kmlILsV3uI8mj9DCPS9D86Iu8ShizP5Bk3o/rdFDr5FSZSZ1mDMw+5Q9xr8XaWrfIuoxU2phJkWY\n",
       "2RLFpF6J6fRqCs/sH65n5mz3pLSUna+ehLks/msWnuAZT3bxKHTG7tZwPuxBVHpeuh2Ve1zPtpO/\n",
       "d0N0rKhq6jK55D0LZuHqKDKcUIpHkWA0sycj9Yxup/nyAHIRRLk6SBjeSuuQgljTqlwGMsk9iKIH\n",
       "zMKTEIqjPTgoKO/ZEZ1QRBkt2iz3wrs1a1EE3BcjhOLn4sdtWBEmyOg/o0VEsRF4a8F6if1yz0sH\n",
       "U5b2RGazpRqFAvE7rJ81iD2coUWkUS8oXI2ybUG5JpciZprcPjzPLl1FdThprmeq6gwSAn+ghScR\n",
       "NC1Xwlzrtm1el/yPQLrpapHfrDvqsklUp24rFFhvEk4lZqkPHhF0iP3pyhPuymXqg625S8ulUMxL\n",
       "1pcQj3tcqC64urrqyEseuRHIht8s3PwGDXDKtarmLUYwb+vxhFwK+MLUZo7PCIr8iJo2C1+2ih68\n",
       "yfgUyRDQSfRI59yM6aLbMpI6CmdzSvRgzFaAC7IpqIPt5jzqFjTpp0Vg3r2CFbSNW0vLpqD5Zzvn\n",
       "SbugRff/EKKJ7ipLN5iXTnGM9K5yjihV/rFloNcsInmDX32z/fa8dAgID4HPou+qQqf7/KboM6rQ\n",
       "6V7DZ4oj1ehU9ZlCMW37P7pI+S01+d7nAAAAAElFTkSuQmCC\n",
       "\" style=\"display:inline;vertical-align:middle;\" /></a></span><br>"
      ],
      "text/plain": [
       "second_summand_bound_relaxed_generalized: {e in {2 .. 2^{t - 1} - 2}} |- forall_{l in {e + 1 .. 2^{t - 1}}} ((1 / (l - (2^{t} * delta))^{2}) <= (1 / (l - 1)^{2}))"
      ]
     },
     "execution_count": 59,
     "metadata": {},
     "output_type": "execute_result"
    }
   ],
   "source": [
    "second_summand_bound_relaxed_generalized = second_summand_bound_02_relaxed.generalize([l], conditions=[second_sum_conditions])"
   ]
  },
  {
   "cell_type": "code",
   "execution_count": 60,
   "metadata": {},
   "outputs": [
    {
     "data": {
      "text/html": [
       "<strong id=\"second_sum_bound\">second_sum_bound:</strong> <span style=\"font-size:20px;\"><a class=\"ProveItLink\" href=\"../../../__pv_it/theorems/f67ffeb951aaff9cc5f02f3801926b572b231a930/expr.ipynb\"><img src=\"data:image/png;base64,iVBORw0KGgoAAAANSUhEUgAAAKwAAAAYBAMAAACVRAuIAAAAMFBMVEX///8QEBAyMjKqqqpUVFRE\n",
       "RESYmJjc3NzMzMwiIiK6urpmZmaIiIh2dnbu7u4AAAAMEBwRAAAAAXRSTlMAQObYZgAAAAlwSFlz\n",
       "AAAOxAAADsQBlSsOGwAAAe1JREFUSMdjYCAZMBVAGXxJDFQE72GMnpPUNNYIzrIkTSPfKjyStZNu\n",
       "4De2uACHzkPr8FmqTMC1HK4PsIoz/2NgYN+t2oApU70pgoHhH25jIbpYHbAayzuBgaGUgfcXhgR7\n",
       "AMP9BVwCDByhQBCOxViILpB+HMa6MzAIYkiwFDAwCvA4vMDpWoguVGN5ImdOghsr/4DBHyPoGf8x\n",
       "sHznPnAPp7EQXSjGcuk8QHKtJwODP0bgskxgYPnBsQ0mXqt/B00BRBfYWL47p8HmFT1ADgQgmI8t\n",
       "gDg/EEic86H6VzZwXADx1eEy3ArgdPIHm67+A/hNBeniEQDG7jcGngUgAQW4VGEC2F1Yk8kUAo4F\n",
       "6WL/DExkf87cAlsjOXPmzKkgVokWWMFWbLq4A7DkSc2ZINCA0PVEmYEf6ig+uAaOraBQZsPq2BQC\n",
       "joXourSAgR8WWIhUAc4ltgzsmHmb+QJDOV5jwbpAuZQTGF8GIJEzKNkBGI08mFm7l4HhHN4IA+vi\n",
       "BUYZmwLDa7CzmAyQja3cvXsnpHQFRiXfJ2jmnb179wR8xkJ0gRPY2TRIMPC5rkMydv7//xCzODcA\n",
       "idnQaP7//78C3kQL1oWaebmuImVeSgCeooYGxoJyCSWAG3tAgXIJJeBhAnbxamdKTK0F6gYAv0eE\n",
       "w3ELTC0AAAAASUVORK5CYII=\n",
       "\" style=\"display:inline;vertical-align:middle;\" /></a> <a class=\"ProveItLink\" href=\"../../../__pv_it/_proof__fail_ineq/678578c4d08f894c1b8404b5bbc2c89266c7852e0/proof.ipynb\" style=\"text-decoration: none\">&nbsp;&#x22A2;&nbsp;&nbsp;</a><a class=\"ProveItLink\" href=\"../../../__pv_it/_proof__fail_ineq/c225fc945e5c5c98495b47ca42990d5d2ac749260/expr.ipynb\"><img src=\"data:image/png;base64,iVBORw0KGgoAAAANSUhEUgAAAYAAAABLCAMAAABOQaBOAAAANlBMVEX///+/v7+urq7c3Nx2dnZE\n",
       "RESIiIgiIiLMzMyYmJju7u4QEBCqqqpUVFRmZma6uroyMjIAAABMl2BWAAAAAXRSTlMAQObYZgAA\n",
       "AAlwSFlzAAAOxAAADsQBlSsOGwAAB6xJREFUeNrVndmarCoMRj0HZBIQ3v9lt1pqo4YhWpbIjV93\n",
       "Y9W/DISEwW6atbi+eVEhXF24+1HWiHRrmlcVekHvw6ygdN2pdxmg6eTZOx9nBaQrEIfY/S/aeszU\n",
       "e3LuxudZAenGQRUl2/4sNK+on5j25H3Psx6kCw+NSoxbvftVTQYgXp+5rQbWg3S3aRSKUmPGb+eH\n",
       "O2syQNPyUxFQDaw76XrbKEZvaIcayn2c46f01RlAeHZiBK6CdSfdbe0xSiReNNo2suYe0LTdiQ5Q\n",
       "B+tG+r4lSfURRazcjtaCdVRXZACNHwVqYd1IN/5oa8qbFxTv0PFHLayBdOWP8Zzgr8jLzNB2cTlA\n",
       "NayBdHnsyDUlXOmMhuJuqIc1kN4eeuWYFRLyBgt45DBcEesqXXl+aBNCCHt3u/hKz29xPuhuVgzT\n",
       "Kl0eunHnx3Lr01fGOv8FbIbzQbeyIplW6cY/MznOvmEAgYuD7mbFMK3SO9+81wCNR33K3awopln6\n",
       "0S2+ygAO06ZvZ0UxzdK1b99sAIuZD7qdFcU0S7fYULouA0jMM72dFcU0S3dev9kAApMJ3M6KYpql\n",
       "d9hsvi4DKEwMeTsrimmWDoYRzkcKq80Ag36BqKvuRcUxTdIJ2IK033Ep0jMzJC1ddQbg5W4FZP0q\n",
       "Ko5pkq7hyMx46PeSf9GJfskArrypwqzfRMUxTdJZJJXk3kPbh+z34jjqvzIFZsojmwjrF1FxTJN0\n",
       "GgnjxNAzoe0z9ksTh2bo5c7I6x9kvSl/PO2tqFimSbqJ6WeDLEiBbOoqtHw2KMb6FOokvfU28ufW\n",
       "+zcsS9K4Su3IjshWhTpJd1EDqCESsPUbgMXCFcn30/xR1odQJ+k8Pob1Q8/U1RtAwpkY41QdR1ta\n",
       "FeokvUsEEXQIhtUbDaAoZ2AiTKtCnQ3AUoEqft/Hr4s+GEBZLiMzEawqVP0xQGKsH30jfZkBlHE6\n",
       "OhUkq0KdpPuUAY55en2l3/eAuAGSrA+g9h8D6HSuUPswIA4zbCTmgtKsv0edpHv/f7ISz00L+idK\n",
       "8P3/AVOckUE4w5pFbe6Qngu/SO3ZmICX5aEwNMP6c1RRYgDWVbRDbj1NsaUoTcQyrLeiRqUno6Bx\n",
       "nKhpDF5OUyQH4XAqQhRHQXejRqWnRYm6UuHlNEWhATBh6N2oUek8nQewmp7/epripAF4Mg9gz0hP\n",
       "Lii5Cifj9qcpdPnaYYr1F6ig9DaR/7Xla0LkXD1HimoHtQ77j+UudlE8KNsWl2BFoDaooTor3cTn\n",
       "YS241xr0lKzQf+7qqZj3INZ1LWn6ucX2a8s9nqZgmAUZex21mLVQenxFT4JRmYS+XtNPD8vFEZ96\n",
       "xFrXik+YEuusg/IxaGOz016uwGkKWr41LsqKQC1mXdp7TnpUPxyVacjhKrd0qUws/DmL207f3TeE\n",
       "ckdhjDVidiq8QqcpbPlSSowVgVrIGh4VyEiXkR4MvgdAwbR2NrLNOINPPTM1g27Ei06bsaWpShte\n",
       "odMUbfm2lAgrBrWY9W+HSkZ6DwcRQFRGtIlMGC6fwDOPopujcTX548EO0V00an0my/xYdJ4Msd8T\n",
       "ZkWhFrMGW4TS0uGdccPfXFg4/1gQnC1ZPDnJuMW5nuGfAVE0fTyAXA/TObm9AtlVcQILs2JQi1lD\n",
       "A2SkgzsybGwuD9w/Q8uGAEs3SdHkaBTIoc26k395u1T0BVmYIzIQKwq1mDU0QEY6v3xsarFw7v09\n",
       "YUuY3hhgWUOhpyfd34l26ZrN9diqEXs4f8caGiAj3fir+4/47IRzyTwPnDUfW4WwUoDCyJglik0s\n",
       "oruYX0cs5f6ONTRARjq7vCOm6+dGTf5iNSgb7f6aH7DvUq1PcmpdYjaA8M3meuRErOT+jjU0QEZ6\n",
       "f3k3wCyKdWX1xk4JeUW+PJypmS6ql4E6NmAbzCTm71hDA2Skq8vHlOdu2Q5DapkLmpLJ6OsB1NT2\n",
       "F8ep+fZ6dOv4Myk/YN24oIx0HnQnUyhQhQNLy5aGm/YGc71GTNVYlGAywJKjyXZ7PTxS1DmKE6wb\n",
       "1GLWzSCckU6DkUmnu+jiJARjgVXnMMv3Kj0yzfUIn94KFl9/pWwMRHdxn4WBtUe9g7WcFUYtZg2P\n",
       "CuSk9wGDzbThv7t5OO00p9w0Nz01t8KpJPApY+tH8X57vTIEYFhh1GLW8KhAVnpwfh+oq6hcJvRi\n",
       "qnhhLsrxi66Eb6/HZBI5iKZYC1BPMOSl2zWt/szP23YpclzfGP5o0qpkYXAn8UHgOvcFB/DCI98C\n",
       "vWNFo55gyEv/e3cT4BaNaQjNNYu2cJGoxe77IO32ehzpkCvpKdYiVDRDifSui7vFzkqtlrbSzW1l\n",
       "r0oVroko7Lm3hTZG7dBnSROsRahohhLpzK8jndr3y830VbRZkMI5eYLbesDI9nrsxugNzVvWE6hI\n",
       "hjLpizvyzeHD27Gj0KyqZ4o5cdQ4zvpT1K10Ov9k2TEysEyuOdOiilDn6fNbhpQ/8Y8Y4qy/RN1J\n",
       "V4VduW2qKuzMUe9C1va30guP2Fe2T6uz59jV86gH6bz2k0innySQD9IKpWtP3vb81dnVledZIem2\n",
       "fZsBzGnFj7OC0rl81/PvLxzoepgVli5e9n+s+IX19YdZI9L7V40C6tL+hkdZN9L/AR1gedR6IR6l\n",
       "AAAAAElFTkSuQmCC\n",
       "\" style=\"display:inline;vertical-align:middle;\" /></a></span><br>"
      ],
      "text/plain": [
       "second_sum_bound: {e in {2 .. 2^{t - 1} - 2}} |- (Sum_{l=e + 1}^{2^{t - 1}} (1 / (l - (2^{t} * delta))^{2})) <= (Sum_{l=e + 1}^{2^{t - 1}} (1 / (l - 1)^{2}))"
      ]
     },
     "execution_count": 60,
     "metadata": {},
     "output_type": "execute_result"
    }
   ],
   "source": [
    "second_sum_bound = second_sum.deduce_bound(second_summand_bound_relaxed_generalized)"
   ]
  },
  {
   "cell_type": "markdown",
   "metadata": {},
   "source": [
    "For some of the bounding work below, we need to establish that the factor of $\\frac{1}{4}$ is positive, so a couple seemingly-tangential steps:"
   ]
  },
  {
   "cell_type": "code",
   "execution_count": 61,
   "metadata": {},
   "outputs": [
    {
     "data": {
      "text/html": [
       "<span style=\"font-size:20px;\"> <a class=\"ProveItLink\" href=\"../../../../../../numbers/numerals/decimals/_theory_nbs_/proofs/less_0_1/thm_proof.ipynb\" style=\"text-decoration: none\">&nbsp;&#x22A2;&nbsp;&nbsp;</a><a class=\"ProveItLink\" href=\"../../../__pv_it/_proof__fail_ineq/acc0fbd6c0abb998c8a888a87467e145bca850b00/expr.ipynb\"><img src=\"data:image/png;base64,iVBORw0KGgoAAAANSUhEUgAAADAAAAAQBAMAAACigOGCAAAAMFBMVEX///9ERES6urqqqqqYmJgQ\n",
       "EBDc3Nx2dnaIiIgyMjJmZmZUVFTu7u4iIiLMzMwAAAD4QZJGAAAAAXRSTlMAQObYZgAAAAlwSFlz\n",
       "AAAOxAAADsQBlSsOGwAAAKZJREFUGNNjYOC7w4AO2CuWMTCcXvkHQ2Iyw9kEBgYODAmWCwzsAnAJ\n",
       "nilwCcYNDMx/EDqO34BJ8C9g4PuMZBTH9QMQxnmgxBdkO1huQWTyCxj4fqBYzjwrASbxHdVVTLNB\n",
       "es4XMDD9QJOYeABiOfNnVKNmg41iFGBg+YNqeQKEDmDgmgAMmG/ozmW4zHD0AQP31p9bwLwTcA8y\n",
       "nKrYh7CX5woDcQAAKm44MGgG1xYAAAAASUVORK5CYII=\n",
       "\" style=\"display:inline;vertical-align:middle;\" /></a></span>"
      ],
      "text/plain": [
       "|- 1 > 0"
      ]
     },
     "execution_count": 61,
     "metadata": {},
     "output_type": "execute_result"
    }
   ],
   "source": [
    "# recall from earlier, we have:\n",
    "one_greater_zero"
   ]
  },
  {
   "cell_type": "code",
   "execution_count": 62,
   "metadata": {},
   "outputs": [
    {
     "data": {
      "text/html": [
       "<strong id=\"one_fourth_greater_zero_fourths\">one_fourth_greater_zero_fourths:</strong> <span style=\"font-size:20px;\"> <a class=\"ProveItLink\" href=\"../../../__pv_it/_proof__fail_ineq/571eb10800196bbed9f7245d3fa09b2998c1268e0/proof.ipynb\" style=\"text-decoration: none\">&nbsp;&#x22A2;&nbsp;&nbsp;</a><a class=\"ProveItLink\" href=\"../../../__pv_it/_proof__fail_ineq/a1fc12969484fb421265a7eaea986da609ea6b190/expr.ipynb\"><img src=\"data:image/png;base64,iVBORw0KGgoAAAANSUhEUgAAADMAAAAqBAMAAADsVn5KAAAAMFBMVEX///+qqqpERES6urqYmJgQ\n",
       "EBDc3Nx2dnaIiIgyMjJmZmZUVFTu7u4iIiLMzMwAAACFobtaAAAAAXRSTlMAQObYZgAAAAlwSFlz\n",
       "AAAOxAAADsQBlSsOGwAAAOFJREFUOMtjYGB4e4ABO+DZNR+XFAND/6gUEqhPwCWzO362AwMJoLwL\n",
       "l1GcAjzXcEj5MjAUIfNPIqzUZmCQR3Y3T20DjPmLgeG9AIo5vTVQRSApNGf7rgFTbN+BUg1o9ksu\n",
       "g0sVMPwHgQ9wOcs9IAOBUvbouhgsdaDOkBdAN3AbmFJiYPBHC3TfZRDalYFhJQNWxzPwCvDEoaTj\n",
       "XrjNPMu7H4AZryD8s1ji5jbOuOHALfVkNk6pApxSHAk4pVIYcEoV4JRiScAplcGAU8p69+6v23G6\n",
       "Php3Uv2EU2bR/x1YxQHtk0rU71RSaAAAAABJRU5ErkJggg==\n",
       "\" style=\"display:inline;vertical-align:middle;\" /></a></span><br>"
      ],
      "text/plain": [
       "one_fourth_greater_zero_fourths: |- (1 / 4) > 0"
      ]
     },
     "execution_count": 62,
     "metadata": {},
     "output_type": "execute_result"
    }
   ],
   "source": [
    "one_fourth_greater_zero_fourths = one_greater_zero.divide_both_sides(four)"
   ]
  },
  {
   "cell_type": "markdown",
   "metadata": {},
   "source": [
    "Now we're ready to invoke our `deduce_bound()` method utilizing the bound on the first summation and utilizing the bound on the second summation. The following three steps correspond to the transition from (5.30) to (5.31) in Nielsen & Chuang (pg 224):"
   ]
  },
  {
   "cell_type": "code",
   "execution_count": 63,
   "metadata": {},
   "outputs": [
    {
     "data": {
      "text/html": [
       "<strong id=\"fail_ineq_lemma_inst_bound_01\">fail_ineq_lemma_inst_bound_01:</strong> <span style=\"font-size:20px;\"><a class=\"ProveItLink\" href=\"../../../__pv_it/theorems/f67ffeb951aaff9cc5f02f3801926b572b231a930/expr.ipynb\"><img src=\"data:image/png;base64,iVBORw0KGgoAAAANSUhEUgAAAKwAAAAYBAMAAACVRAuIAAAAMFBMVEX///8QEBAyMjKqqqpUVFRE\n",
       "RESYmJjc3NzMzMwiIiK6urpmZmaIiIh2dnbu7u4AAAAMEBwRAAAAAXRSTlMAQObYZgAAAAlwSFlz\n",
       "AAAOxAAADsQBlSsOGwAAAe1JREFUSMdjYCAZMBVAGXxJDFQE72GMnpPUNNYIzrIkTSPfKjyStZNu\n",
       "4De2uACHzkPr8FmqTMC1HK4PsIoz/2NgYN+t2oApU70pgoHhH25jIbpYHbAayzuBgaGUgfcXhgR7\n",
       "AMP9BVwCDByhQBCOxViILpB+HMa6MzAIYkiwFDAwCvA4vMDpWoguVGN5ImdOghsr/4DBHyPoGf8x\n",
       "sHznPnAPp7EQXSjGcuk8QHKtJwODP0bgskxgYPnBsQ0mXqt/B00BRBfYWL47p8HmFT1ADgQgmI8t\n",
       "gDg/EEic86H6VzZwXADx1eEy3ArgdPIHm67+A/hNBeniEQDG7jcGngUgAQW4VGEC2F1Yk8kUAo4F\n",
       "6WL/DExkf87cAlsjOXPmzKkgVokWWMFWbLq4A7DkSc2ZINCA0PVEmYEf6ig+uAaOraBQZsPq2BQC\n",
       "joXourSAgR8WWIhUAc4ltgzsmHmb+QJDOV5jwbpAuZQTGF8GIJEzKNkBGI08mFm7l4HhHN4IA+vi\n",
       "BUYZmwLDa7CzmAyQja3cvXsnpHQFRiXfJ2jmnb179wR8xkJ0gRPY2TRIMPC5rkMydv7//xCzODcA\n",
       "idnQaP7//78C3kQL1oWaebmuImVeSgCeooYGxoJyCSWAG3tAgXIJJeBhAnbxamdKTK0F6gYAv0eE\n",
       "w3ELTC0AAAAASUVORK5CYII=\n",
       "\" style=\"display:inline;vertical-align:middle;\" /></a> <a class=\"ProveItLink\" href=\"../../../__pv_it/_proof__fail_ineq/6be880b5d37f992f85203665c2a76b7b8483d4630/proof.ipynb\" style=\"text-decoration: none\">&nbsp;&#x22A2;&nbsp;&nbsp;</a><a class=\"ProveItLink\" href=\"../../../__pv_it/_proof__fail_ineq/1394ab140e1b0ce7a74868aaa357b795c199495f0/expr.ipynb\"><img src=\"data:image/png;base64,iVBORw0KGgoAAAANSUhEUgAABDoAAABMBAMAAAB+N8pFAAAAMFBMVEX////c3Nx2dnZERESIiIgi\n",
       "IiLMzMyYmJju7u4QEBCqqqpUVFRmZma6uroyMjIAAADVePneAAAAAXRSTlMAQObYZgAAAAlwSFlz\n",
       "AAAOxAAADsQBlSsOGwAAEkdJREFUeNrVXXtsZFUZPzOdx51HOwMLMTGrOzEgBBK3pMpD/tjBsIGV\n",
       "mG2MXRcB2wiL0ZC0RHQRcXfEByEgrYJhCZg2RBIJZFtdjeAaWveRNVp3i5AA4Y9WDRFE6GN32253\n",
       "2+s993HuOd/9vnvvzNwZpl9yd3/95s65v98333neF2Pc3me4ve8BDbfYTr9PG8TjwgoJquPRMQXB\n",
       "+pQv08iP4d8SfmqHRtjlPp81ikd8jATV8fibB6xP+TKN54iKIvzPVZqXHZkB+rOG8XiCBtXwyO6D\n",
       "YL3Kd2loRCSEX3uiecnB2ufJjxrHY7pIgmp4PDQAwXqV79LIzeDfEX5khywIXiI6qgfITyQesQkb\n",
       "bIikPuU6SeDPQ7WXPYAMGCu3tHyXRj8xghJ+ZIfvy388aNCeiCw7No1Qn0g80nZwU89GEp7YCgn8\n",
       "eSiWWoWACJi2xxhEtLR8l8YHxHc+YOQOmhivcorXdzP2j8iyo62bBRFibOtfbZCMpi/+DA18eagz\n",
       "lhkIvAEzq9EdW422u9TS8h0a2VViiLXKyB3yThq3mTsYJXVENmJKnWL+hB64/EWWZNGGp79MAjow\n",
       "0EanIPAGjJlt97PG9k5Ly3dodBDJKvzIDgY77ZIb5OyIj0TWeFzD/AlNsKPsUcY2Tk5OTkUVnrYh\n",
       "EtCBgfa2B8gBYw/cMyBnx2UtLd+hQVUSv1r0ccZ+3JeTsyMb3cBjdMSf0Crb1PdCOtrKk10hAR0Y\n",
       "qtYj1d8ImLaDjcnZ8UJLy3dojBMHEH5kh1cZOxi7RM6O9s7IsqMw40/oXiM8G++2f4htl0Vz0DUa\n",
       "kIGBI/9lCJSA5cbOV9qOV1tbvkVDO0nMrk9CYNLpMuwK9jxjT99XYYe7runqGjCzIxVdduQW/Qkx\n",
       "dnH0U/7xPhLQPFQb7IRACVjm2K9Zvqvrsa6rrOy4vbXlWzTSRAsq/NgOhrJ5dVQaYc/SvuBPiKV2\n",
       "NmBBqEQCkgewvSMQKAErFNVR6QutLd+i0bZMDFSWIVAHWZ9lcTk7EuXoqJ7xJxTREhBoz4dIQPIA\n",
       "tqUCgRKwthFWkrPj+taWb9EYJEbgwo/t0FZkj9xwo50dsU8tlLknMtvS50soNhErRh6etkUSUDxg\n",
       "038aAjVg2pF7KnZ2nD97EWNXtLZ8i8ZeuynZBTLS8btAbv1K8noHtx+GXs4Ibhe3o2264LHhzruq\n",
       "rT27Ar+QWCABwQMKSS9AgAWMOWMSrZOKS2vIt2iMm+s02p9mQQnjUxDI9mdnlQc6guzh48vBazPo\n",
       "qF3wGNb16oLjFYck7RoJcB4eIblVCLCAiVMO+SIVl9aQb9EYdlIFlDDsAbLFwd7p0Fe7JIKzo4Du\n",
       "MlxHw7k9uLbpFRLgPKCQzBwEfgFTT7woxbWIfE5DdJKgBN9e1DBwPI1FmB0dq37deoPCMztFApwH\n",
       "FOI7UPMEzPO3W1yLyOc0sifxEoQ/ezLa8U+I7Mhjpxrq4hEiPCfKJMB5QCGjnRDUGJcWkc9p5Bfw\n",
       "EoQ/v9D07EhjkaiLR4jw7O0kAc4DCjlRgqDGuLSIfE6jYwUvQfg7VpqeHSlsxl8XjxDh6R8iAc4D\n",
       "CpkdgaDGuLSIfE4js4iXIPyZxaZnh4YNyuviESI8g3MkwHlAIcN9ENQYlxaRz2mIATIoQfixEXSH\n",
       "Llk58uxgep/vRGZWOvqpqMJTWCQBzgMK8Z3rBFOWimsN+ZzGpjm8BOHfhNSgrG4X8YPXXtKHos+O\n",
       "XqRtlniM2uHTPnbT8JmowpNcIQHOAwiJ6RAoQ9ZAylJxrSGf0xjtxksQ/lFsfjbuzq++vRJ9dswi\n",
       "7ZHEI6cLnO4diSg8HadIgPMAQrKnIVCWygIpS8W1hnxOY/sMXoLrn8EyTXdvvDkcfXaMI6N+mUfv\n",
       "WXcs3xlReHILJMB5ACGJNQjU5jCIslRca8jnNDY7xW9WV3ZdP3b8lL7kEqzunFB8PnifE8hNXzKP\n",
       "ft29XyTUEv7mYI75syTAeQAh8ZMQqHOCIMpSca0hn9MYt5kcHH5PuUPH8btAzUbdPWBVd/bkXlr7\n",
       "Q7AapL2SeSR0N5TpEAeF4tBfZ40EKA8oJHcWArVpCKAsF9ca8jmNLRP43sKP79Cmd7PG2eZuH0Lm\n",
       "H6cjP2b8NAloHnJEzkEAvnd6ncnnNGYJscKP76ANn2tgdmwf8iHE7SF9IupjJs6QwLT9Rb94GKO5\n",
       "cxCoVgXl1pDPafSWiEllCQLVpvWRxmXHXjF9e91LiFu7vhL1MdM6Ccyp2V/848GSCxCoVgVlV377\n",
       "wIcnn9MYJsQKP7FDXN/XjOz4lZeQ1eqdqTQ1O7ZeyvzjwTILEMD+IjRlV362/OHJN7OjTGRHGQLY\n",
       "1K01LjtGsexQeHToMxEfM6uTgGkXlwkeUnacggB2PaEpj2LZ0XT5nMYwMZoVfmqHh/RSc7NjQB33\n",
       "LDQvO7SjA4zgIWXHEgSeodpCPdnRdPmchk6IFX5qB7Ga3gCbRrID8BjFTkbUY+06BbSXR7DAACss\n",
       "QeD50cNSnkayo/nyOQ1qcCn85OjzROR9n7vcs4xkh8ojH/W4J+WcPPMCNTuIeBRWIPAsOIWl7MqX\n",
       "sqPp8jmN3RY2T/jxlNXs4cRuZ5/dVA4k6bOzes1m1ZoHrYpytKfnyZ6eW3AevaB7L9R+UKuF2O20\n",
       "2h4Qk3sWm0fB+aYTsPS9DADvPJA8o1rA5Od7em7+RU/PWCj59cbcq5rT0OHFk7faB3P8OnU9cew0\n",
       "a2rbAXhs6m5a26GMSqmAFZyrQQvUAxxCU0bbjqbL5zRq71kSP2tudgAe24rNyw55Rlt7zxKacoie\n",
       "pQny68uO6YjHReZjS2xec4HZ0R7NmFj7xEERFUYBZTWs9uwITbl/LjA7miCf06h5RpuKfLmOP7aE\n",
       "nrMAHv0jkRwzz/LdQXMWy/b31TmjDaLsVo7pwBltM+RzGrWvd5Sjzg7+2JKw2aE9Hs0xC1OxxXDZ\n",
       "Uf96x+PVVw5yvaMJ8jmNXnHUu9Qx8QAEwP4X+WjjXt/sUHl0TERzzHSl2uxweaQUDsklCID5Uo73\n",
       "9mGVw82O5svnNNyr1G5Rvif8s3gb0dbJojfnsSWj4iTl615CpnVFdsy483A959ykF+CBYUnlypeA\n",
       "Cw6DKO+VKocr3z0L13z5nMaWkjMFUbND+AVQ7ag7nke7wCLt6yh63aZL3Ia+F7vAQeaRd+9/z0pz\n",
       "bGzebf//T6/b+si5Pz3tTNA9QOsxrQ/y2KpkR9sCBKCLRykLOy5VjhrlVxHzMPI5jXGnjfr6e8r3\n",
       "hX8cbcTS7nQ2jWVHYoT2Dco0jz9WfM34n2/uY0uwa1kVHt91xd7nej+PELF9mnxl/cZ3r2g3qiLf\n",
       "WOxqh90aCXAeqT1KduTOQaAaTlnYl6TKUaP8sDEPKZ/TENcwltTsEP4TYwHT2eewz58xasKi17fx\n",
       "+JXG6F9u2NhblYTRfPLNfWwJdi2rzEOaz2XdK2WyJd59q98yfLHJf/exrBzwUvuLjD9Ok28b2Xk2\n",
       "E891ofgFooJHvEOJTMDlqDhlt5YsSpWjNvmhYx5SPqfhMEkU1ezwv+pYek70I1hV0YwfIz3n8cWM\n",
       "402d/9VPSjWOR+Qda3MfW3ICaa9kHu7TojVp10fN7ls1w7eBxVdjF/9LShs+c+RP3zW22JV32gsZ\n",
       "eUeHF+A8rlOzIyCpcMpuAzwnVY7a5IeOeUj5nMZeu1J9hKnZ4fhdgE5nY8+jp2rzRlOQn/H4ckWW\n",
       "GWL/lVs+HuH7rc19bMkWZCQs8XDncx8dl85VHrO7b9kM328Ye5J1yK3uTfznmDC3jHNug7U5g0kv\n",
       "QHnEBtTsSK9BgE9BFcpuLemUKkdt8kPHPKR8TmPabppKIDscvwuUgfsHpr19s66jlx9n+JC+7PFl\n",
       "lllunsn3gWi8EcpUrM0tHulBJR4da9bhe4x8kk72DFndt2KGb7jCxosFufhBXvw+exOFrpAA5RFn\n",
       "ana0n4FAmdHglN3glKXKUZv80DEPKZ/TsO/ASxdBdvjeKZmXT/Fh6yG8m9vU5/HlullusV1JN/58\n",
       "vo4Ba3NXnJDaJfE4IR3dXVzgQ4sYaMi47/f8IZxvKtMLHqv/2JsI5CIJUB53g+zwv1MSpyytfRbr\n",
       "lR8+5iHlcxoF69aICxjIjsI8BNXYIWQIcMhaJJhLjP3EdT7PH4XCXzilvGoLu085kEe+5O1389Y8\n",
       "sJfdpLlxy/6RjwwuZ+prtry3leNPaLJ5xMogO5i4w0ev4QTZNlav/NAxDyuf00ha55vfOnjwzG+V\n",
       "pb9VCKoxnpUHEB9/2ne+fKnbWc/wp0anZ6xNVEOsbQ7kwVsf+M4dq0VKnWJHpOd27TEfKr2HWZuo\n",
       "nEMkwHi0Hzw4/pSyFNQ7BUEVdq1Wr/zQMQ8rn9PIibbpKXWYtARBNfYVY3sc8fEV2dQxtxpvKmYX\n",
       "rWmZPDVrx8Z1gTySI2b37fGZi5p3fccN/jwb7bMm4vJkfHqGBASPjNp2jA9AUIUtxeuVHzbmoeVz\n",
       "GgkxgVEnYsKfqOW2pl8aFdZsCh81lxl32D7prmDrkqoDLGVkR2rO2sSxsdXGQB6ZKaf7dg+aMaux\n",
       "uA/cPKjRvvQb4eln1ibWfkokIHgU1IZq+wQEVdjqj+qVHzbmoeVzGiJRD+u/U4bga36ZHIJpYsjr\n",
       "Y+x74k/zkqolMyv4mEkeN+WwyUIgD54J2xAfS48pBy0MmGF5095E1R8hAc4jv+Ws0lIFtDn+dn+p\n",
       "XvlhYx5aPqehEY9GFX5NryE7jBatbazibeWyJWdtzip70RxvmE/hlybGyWU/Qn49y7Ua0rM8w5RH\n",
       "Rw/2mR3us/Ymhg0VEoTjEfBEqfBWm/ywMQ8t36TRS4ywhb+XHIJvdLqyq+Enn+Y5WvL42NcYu1H2\n",
       "LZrLVOlOaxMChkhC2jjyyYNmZW0rq92340uVWEIOWqHPXBv6lr050T9DAiow8Eedh6CKgClpRstn\n",
       "D89R8sPGPKx8i8ZmYgwl/BYAtMxLzu6x//jmTsjUmCsV3gAjRMMXu3VyUlk8u4i/uMScd+YlXaNj\n",
       "NKH9YMrK7LcWWnNiuft2fBdOTh5VfOXsmD3ZOyStjJwlARUYYPElBYQMmLbHU5Cf/OwMJT9szMPK\n",
       "t2hME6/PFn4LeGjluxO3Ol3UTsh0l9EYHAIF7uI3OejqLX7x63lSJKesjfl2+BYPUKp4A4hx7G61\n",
       "+3Z8vbqu9tkXfY7/e5u9wc7eC6jAwJHBWQUEB0y8XhKYn/x8iZIfOuYh5Vs0MkQvCR77DWiZl5yJ\n",
       "lNwJmSaR1T7MZ9mF9iYW6XwICUXgrYWG7UC+tIM6Zqzb2gi5YQIDTX2yfHDA3Fe1EOUghxWVyCu/\n",
       "qpgHy7dVEFc3C78FkuoSD7/kjJ8AnJyc/DuSHWlkUpcmJ3rH7M2p8GdpQtocf3tWV9dV8K2FzDqZ\n",
       "55kLkCurA9YmlrLHSEAFxrNa3ieD4IAR2eEnnw3S8quKebB8iwbxoinXbwFBS3QK3dmJAartQF9N\n",
       "Q72uJtZpbWJqv0ITcttr8NZCxtAXCJEvFdpgb2K+P0ICKjCetr8kg+CAEdnhJ98ddnnlVxXzYPk2\n",
       "jSeJAp5UwH748a5K7Jgd+jt+PgKZYi/zoV7ww39B+VfsGKIJue01eGsh874Ph/KJsMmhe5cGZGBg\n",
       "2z8kg+CAEdnhJ98ddnnlVxXzYPk2je3EaQHhN4GgdTuvEUXPpAwwjZWRNqKMH+g6exOtXIkmlHzD\n",
       "qZLznmEZP5XosQvwshJFaxPN+QIJ6MDAMldlEBQw+fWSivnJZ7dVaPlVxDxYvkOjQPSvwm8CQUtM\n",
       "3c9j5PShPqPe98p5FBLOX+CthXWa912yOfK5qlTA2FkZBAeMaDv85LO5cpPkOzTiRBiE3wRzahK6\n",
       "l5xFnh0asc5g8sh/wfkLvLWwThscIwEdGM+SREUCwQHDs8NXPjsy1ST5Dg2NaEKF3wRH1ObUveRM\n",
       "yY4omCaopUaMaBuLxrYXSRCKhxXakgSCA+a+XrIF5Qsa1HOShT/Eg5QjZJohZ74Ij3xEB32aBqF4\n",
       "WBGlXr9AWGcLyxc0ksQwSPipHRrDlM7FcDxqaq+Wq/mBSR5f9ABfm2hd+S6NLNGWCX92njXPNPoy\n",
       "l8bxGBwgQTU8RosQrFf5Eg3qLQmHg3ZohOV8btBtGI8DNKiGh7jOJt+5zuVLNJJEPRH+5EDzsuNN\n",
       "n0FOo3i07yNBdTy+7AHrU75MI0WEQvhT+5qXHbf5fNYoHuKciBdUx+MbFQjWp3yFxivE114J2qEB\n",
       "ww7fn6VBPH5Kg+p4tBchWJ/ybRr/B0Y+jA/QfzlXAAAAAElFTkSuQmCC\n",
       "\" style=\"display:inline;vertical-align:middle;\" /></a></span><br>"
      ],
      "text/plain": [
       "fail_ineq_lemma_inst_bound_01: {e in {2 .. 2^{t - 1} - 2}} |- ((1 / 4) * ((Sum_{l=-2^{t - 1} + 1}^{-(e + 1)} (1 / (l - (2^{t} * delta))^{2})) + (Sum_{l=e + 1}^{2^{t - 1}} (1 / (l - (2^{t} * delta))^{2})))) <= ((1 / 4) * ((Sum_{l=-2^{t - 1} + 1}^{-(e + 1)} (1 / l^{2})) + (Sum_{l=e + 1}^{2^{t - 1}} (1 / (l - (2^{t} * delta))^{2}))))"
      ]
     },
     "execution_count": 63,
     "metadata": {},
     "output_type": "execute_result"
    }
   ],
   "source": [
    "fail_ineq_lemma_inst_bound_01 = fail_ineq_lemma_inst.rhs.deduce_bound(first_sum_bound)"
   ]
  },
  {
   "cell_type": "code",
   "execution_count": 64,
   "metadata": {},
   "outputs": [
    {
     "data": {
      "text/html": [
       "<strong id=\"fail_ineq_lemma_inst_bound_02\">fail_ineq_lemma_inst_bound_02:</strong> <span style=\"font-size:20px;\"><a class=\"ProveItLink\" href=\"../../../__pv_it/theorems/f67ffeb951aaff9cc5f02f3801926b572b231a930/expr.ipynb\"><img src=\"data:image/png;base64,iVBORw0KGgoAAAANSUhEUgAAAKwAAAAYBAMAAACVRAuIAAAAMFBMVEX///8QEBAyMjKqqqpUVFRE\n",
       "RESYmJjc3NzMzMwiIiK6urpmZmaIiIh2dnbu7u4AAAAMEBwRAAAAAXRSTlMAQObYZgAAAAlwSFlz\n",
       "AAAOxAAADsQBlSsOGwAAAe1JREFUSMdjYCAZMBVAGXxJDFQE72GMnpPUNNYIzrIkTSPfKjyStZNu\n",
       "4De2uACHzkPr8FmqTMC1HK4PsIoz/2NgYN+t2oApU70pgoHhH25jIbpYHbAayzuBgaGUgfcXhgR7\n",
       "AMP9BVwCDByhQBCOxViILpB+HMa6MzAIYkiwFDAwCvA4vMDpWoguVGN5ImdOghsr/4DBHyPoGf8x\n",
       "sHznPnAPp7EQXSjGcuk8QHKtJwODP0bgskxgYPnBsQ0mXqt/B00BRBfYWL47p8HmFT1ADgQgmI8t\n",
       "gDg/EEic86H6VzZwXADx1eEy3ArgdPIHm67+A/hNBeniEQDG7jcGngUgAQW4VGEC2F1Yk8kUAo4F\n",
       "6WL/DExkf87cAlsjOXPmzKkgVokWWMFWbLq4A7DkSc2ZINCA0PVEmYEf6ig+uAaOraBQZsPq2BQC\n",
       "joXourSAgR8WWIhUAc4ltgzsmHmb+QJDOV5jwbpAuZQTGF8GIJEzKNkBGI08mFm7l4HhHN4IA+vi\n",
       "BUYZmwLDa7CzmAyQja3cvXsnpHQFRiXfJ2jmnb179wR8xkJ0gRPY2TRIMPC5rkMydv7//xCzODcA\n",
       "idnQaP7//78C3kQL1oWaebmuImVeSgCeooYGxoJyCSWAG3tAgXIJJeBhAnbxamdKTK0F6gYAv0eE\n",
       "w3ELTC0AAAAASUVORK5CYII=\n",
       "\" style=\"display:inline;vertical-align:middle;\" /></a> <a class=\"ProveItLink\" href=\"../../../__pv_it/_proof__fail_ineq/7aed8c68900fd566b61521e0dd8d519a3819ff960/proof.ipynb\" style=\"text-decoration: none\">&nbsp;&#x22A2;&nbsp;&nbsp;</a><a class=\"ProveItLink\" href=\"../../../__pv_it/_proof__fail_ineq/020cd2e0654d3124b43719fe6bed348a90b7b2ad0/expr.ipynb\"><img src=\"data:image/png;base64,iVBORw0KGgoAAAANSUhEUgAAA6UAAABMBAMAAABnrAyiAAAAMFBMVEX////c3Nx2dnZERESIiIgi\n",
       "IiLMzMyYmJju7u4QEBCqqqpUVFRmZma6uroyMjIAAADVePneAAAAAXRSTlMAQObYZgAAAAlwSFlz\n",
       "AAAOxAAADsQBlSsOGwAAESFJREFUeNq9nXuMHXUVx3/37n3MvXsfK4WYmGpvjA2GJnabDQL6Ry+G\n",
       "BpGYbozFGmh2Ex5GQ7KXiBYJtlfUEMJjVyWhBJLdGEgkEHa1GsEadqU0Nbqyi5AA8Y9dNUQQobvb\n",
       "dp/dHe+8zu91zszcmbn9JdOePXfme87nnpnf/GbuPBiz2ocMbx9qRpvtsqbfp1FVwwbVjfbyAH9l\n",
       "NlomqYOdw+faKGZpAl8M/NQMgS3tt2Bk1bBBdaOtPLj/r1FT2dVB/F3MD/NZYjUG/7PNqIEf9/ks\n",
       "umrYoI+HSSMYv3gsaiaFRufwuTaCaRDE4Dcejxx4rof8KIZq2KC60UYe3P9gI2om5cXO4XNtBLN7\n",
       "Hl8I/MgMReVLyhCBu3vJnATV1JRrbEtk04WguuGfB+F/ORCf1Qnx4x3EP07zsiFiBAB+ZIYfin88\n",
       "0EpvitiTr5MpCap59yvJPZNITSGobvjngftzm/74xpHWzpEQ3zHWOXzQRjA/Ipb5iJ7BgNGTlcp1\n",
       "/Yz9nRC5kkxJUN33F9fIJrOLvZI2fPPA/ZV5Et9elW/b1+oIa7hIV3/n8Lm2hlncxBcBPzJDyVvJ\n",
       "uuwZWuIVIp0hqlfyVO/f9SLLsmRrCkF1g8Yk/eOzJD6zO7tnWtN7uEruXOfwubaGWSFWJfAjM7Sy\n",
       "MC6/XqxpmuhkukaYv/wUO8UeZWz79PT0bFI1haC6QWOS/ncxfHb/3Q2xplcQ8td0EP8akpdahf3W\n",
       "8U8x9tPBbrGmRWKHWlwP2JY22Y7B5/PJbqcQVDdCdyTgRza1Fr5xE5sQa/o8IT8+1jl80NYwJwkh\n",
       "8CMzvMHYidTlYk3L1Mhyi/nL39OC2n6X+/XdcEUyRzNbtEFiUv7uVQy/e+ISaTt9g5CvzncOn2sr\n",
       "mMZZ4vjprGrYYftabQ97jrGn7m2yk33X9PU17JrmqJpODvrLM7Yz+SNUCKobdB6Ef7gXwy+c/hUr\n",
       "9fX9ou8qp6a3Uocsy53D59oKZp7olcCPzdAiWJTHSFTfy+Zq/vIsd7ADZx1qpEHmQfmPjmH41R55\n",
       "jET1veWlzuFzbQWza5UYZ6yqhjxI+AJLizXNUAPL6oi/fELnGYigukHmQfn3NjH8rjFWE2t6HZXK\n",
       "Wgfx1wjeYWLcB35shq4e9vD1X3ZrmvrcUt3yEF/Osr98airVk3hNIahuUHlQfuM8im+8enfTrekl\n",
       "Zz7D2B4qlb2DncMHbQXzqLvZ3q6sL56fG+JWXxOPT632Y/XgyetSMnjnA6rb7riz3TX19sAFIKhu\n",
       "EHmoXSDkl1/ywWfevtboJfDZ/loS+DgyaCuYk/bxs/HHM8pSk7OqIbY/CeeRJIfbHnrN61xy+IgT\n",
       "VEdNs72K6qkih+NbpIHnwfNV8+ve9MGHU6KlHgKfDc3Hx6eQQVvBHPVqriw1qhliSytz59XCZwDK\n",
       "RNMZjdGz7g9esyGobuB5ZFaJ/AoLIfDlE8CSXHU1CXwcubqK8sLuQlkK/Nj+pNWUGAYjoc5g2zmh\n",
       "mlhNIahu4HkoNeX54TvcZsDfXK6ymQQ+jsy1JcziWXwp8BfPRvreOdQMNiKOqBq6phBUN/A8lJry\n",
       "/MZ74+GXziWBjyNzbQmztIQvBf7SUsyaHsW+lIiqoWsKQXUDz0OpKc9vphYPP382CXwcmWtLmJV1\n",
       "fCnwV9Zj1nQIOzKMqBq6phBUN/A8lJry/M6MxcPPrSWBjyNzbQmzsIwvBf7CcsyaDmODjIiqoWsK\n",
       "QXUDz0OpKc9vdDAevmEmgY8jc20JE4ZOylLgx8ZtFVNo9QCo6rLviI2dEbTOJVVTCKobeB5KTat+\n",
       "w/a28Jk5mAA+gQzaEuaOBXwp8O9A1u+i6Ur86M2XzJEAqCzWzwiq425ixidvHF1LqqYQVDfwPJSa\n",
       "gj9lxsRnA2MJ4BPIoC1hjvfjS4F/HBvLT/Kx+PfWA6Aq2NonqHabYOcHxhKqKQTVDTwPpabgL56P\n",
       "ic/O1BPAJ5BBW8LcP48vxf3YeZCsyS8PPhkA1Y2N8UTVgQ0+HuxNqKYQVDfwPJSacv9WTHw2WUsA\n",
       "n0AGbQlztyezWz67xf1YnJy5whNBz0Gn4erT0gbysag6ZDYYcYoRb7uDz3pDUN3A80gvEv6zMfHZ\n",
       "zEQC+AQyaEuYk673xOgH0pXJnp8b8npj8iDYFc3dL2393sPD1nRRNWPyLyAfoqRqquh3ukUaaB5C\n",
       "vnJ+3Rsx8dnu+fj4FDJoS5h7p3AV8OMzdJn9YYfh6fN+8vYfcU4UBgTVDToPzN91ISY+293fOXzQ\n",
       "ljDPEFDgx2cwRi+EPlRb85O32oPmVNI1haC6YbcXevzoBH/lQkx8tn+kc/igLWEOEKe+wE/MMGeG\n",
       "Pb+S50cDb+nyViub60nXFILqhj1a/bM/Hfdnl2Lis6MLncMHbQlzlIACPzFD2jzWfk2f1uWdLmSt\n",
       "eVFruu+zzJ+O+wtLMfGFmiaPT9S0TkDVVUPtPrZCxi2iNa3LJ2bmE64pBNUNZuysE3kg+IVzMfHZ\n",
       "+ELn8EFbwhwlhpDgp2Z40KzFqWlD3j0tXbyaGqcajMgD8RdWYuLjNU0IH6+pSUCBn5oBTpAFtTJW\n",
       "U0V1HDspGqdBUM0wXh7DMCn86kpMfDa30Dl80JYwqX09+MnBwEzIvUCOnwV/Wpd3j5TNY8nWFILq\n",
       "hlzTIPzqekx8NrTaOXzQljAPO7b9s4BVdMPdTxz2Mj5MpZ4lfpLw1Ez36injsOM8deDAEwcO3Iyr\n",
       "Dii7raoZuUlBESMl9r1uHlVvSQ0/f09MfPZAoxP4C6K2gmmql+nc4ubl+U3qmSOp8yzGdqqo7ui/\n",
       "aNupNEYKxK9uxsTHt9OE8PHtNHrfm/kZS6zvZTf0XLyaiscy0fvesPhh+t7I+EnXdG4w7NfLAqHK\n",
       "y4lU0vj0iaYSVDekcw7RaxoWnw0tJI3PMUFbwox8LJMLOPlh3QBNj3sV1aGxRGpaYqX+oHGve25w\n",
       "MOaxTGh8dNwbD59j4uPe6Mendf/A1g3QYWtqPJZMj1udTS2Hq2n849Ow+CFq2i4+x8RrOgDqd8oj\n",
       "sYZqKO1/flF3Lts3QNM1lVUrUwmdEWy2W1OeR24K9WdXYuKjNY2HzzHxmvIrK26Wz33VVUNuXb5X\n",
       "JOQX7BugnaNz/oPIW7q83foSGxul3U4JguoGjsmyE6gfv+SlDXw2PpI8vocJ2hLmXu8UV0auKfj3\n",
       "4ufATvFRJLIzKFknMN0boPPo76eiaonfU1YUDhawAwj3/3/qbucj7/4vCKoZxgG7Dap57JtA8+ta\n",
       "ionPjvYnht9qPRImaEuYk952/60PpGXBP4l2DHk+ks8jUNk6v10PvaJHUv0BH8nfy71fQRZzfYZ4\n",
       "LeP29/eUW+GsiaWuZkpQ3cDzyB2ZQP3dF2Lioxd0RcRvtTeZiKlfNmUZcEVLTa4p+GcmAkbyzyIf\n",
       "W/2OdwM0ekWPqCqM5Iv89+NijaUHlOOFli81/e9BVhS/plr5RWY91seatrOPKUF1A88jXZlA/fhl\n",
       "TG3goxd0RcO3VpNMQ8TUL5uyDM+b6ZFr6n+NmfCst4exFfmocAN0CZtBVOXPbzNm+Pr7qCMjtZZv\n",
       "G0tvpnb+S6C1jhmsJ261ptTn73APPCGobuB5XCvX1P8as3bw2cxUQvjOTa3vMQETFpAwj7qr/MeZ\n",
       "XFPPzw10JJ96Dv194rhwA3QXNsoQVPlI/hOTwu8Tp1vTa8pSLd+vGXuCVcT+7karA5yyp4J3HpQH\n",
       "1Q00j1RDrinkl9+Kic/21pPCty8wvY8JmKAtYc65m3tNqann54Y0LPzIbu9+0zTRq60eE26ARu/3\n",
       "EVQrW47YgdYSwnDKmuHrylIt32iTTfZUm4Jz2CrwMXcC0XXSQPNIM7mmkF95LSY+ehNVNHy7pgWR\n",
       "HbQlTPcq/3yPUlPfeytK4i8EyPFrTrxYFr3fR1CdEbT4waC1y0wpS1q+31nPAHpHOqywSP/jTlrQ\n",
       "gHu5vDzuUmrqe29FW/joTVSR8J2aVhqYtoRZdeJfypSaVhdVo42WEbdt9Ob3QNVSzT7M03zWATu7\n",
       "0eDfU/EP1h5vF5MfVK7fwoXfg+/mkaorNeX5mT3x8NGHDkTCd2oqPQcetCXMrPNb0j9OnFj7jTQc\n",
       "31SNNlrXhMCxA+u8A1Wt1VF9krKziubOsVeF5ykcsR/zdoQ5kxZUN7A8yidOTD5ZQ/MbmI2Hn1pL\n",
       "Ct+paX4e05Ywu2F7f1JaHvzdKxHOuzaE72cOG2QFqmZbe4pCXffZJ3zu/D7HWmTjg84RhXhUAUF1\n",
       "g8ijMIH7Jxvx8MtbSeE7NRWOdwRtCTMDY3F50A7+zIUINX1bSAd9QFCgaqG1eQxZ3Z7xLpz3Kdib\n",
       "DNx0NGxxtFbmodZnQ8yZtKC6QeRR7cX9+6fi4aMPZoqE79Q0t4BpS5hQ6pPmb0VR8Je32q9p/hXx\n",
       "nAky7gtWtaBuQHwsD9tTdsreJuxavuNOWlDdwPMo7d2oM98tICJ+93pS+E5NyyOYtoRpEI9cAr9h\n",
       "snhtoOkn79f5fNFA+t5fMulhbsOD9n70GXfSgupGqDyQu+ojtuxqUvhu39uPacuYA8S4DvwD5MBv\n",
       "u7dPu9onO2ONljcmkfmdoU5Xa6tZSStjD+s0ao1lxOpUB9l/W/99153UoLpBYVL+7GIsfDY80ha+\n",
       "/cIIHN8dI/Ui2grmbmIMAH7HeEheXe3LJ+52//jOQSUj6aByw0f+BdlpdabWGwPcIfvmT+SPLd9l\n",
       "09OnJF+9aHXGr7iTGlQ3KEzKn16Jhc/GJ0LjwwsjcHznptZSDdFWMOeIV0yB3zGK80r4Un/mFq8T\n",
       "P6hkxIL2J57qK7ITnpzaUmoJ3acMayzfgGnK+6LPfMn695A7qUF1g8Kk/OWNWPjEfhzFhwfn4vjO\n",
       "Ta3ZWURbwSwQ+wvwO0ZJDmBfPgEAB5WMUB3MDWVQ3hjQajchC91EdXCpfmcikg+DSfpHY+ETTxZU\n",
       "8JUXRvihXoZpq8UirlkDv2Nk5UNv6/IJY56lpqen/+YPNTRByxsL7KT1NPKG+sYA51y11u4jT7s0\n",
       "nEkLqhsUJumfGYyDn9vwxS9Z+FepL4zwQz2NaSuYxMO9ud8xhr3w0Ln3F6caIVbU/WO0PPRo6hsD\n",
       "GEMf8kw++HmbO2lBdYPCJP3248gj42fWQ+CrL4zwQU31Ytoq5hPE9/SEZLygfnx7M3XajXvbz8do\n",
       "qPd95KFHU98YwPSnHFM+u+1h8pOu36cNEpPyF0bi4FdGQuCrL4zwQRVrzbVVzP3ECU3w2wbszm+1\n",
       "1tcebQAvZyT0D9RteJZq9m2371XfGGC1S5GFLsW1Mj3OpAXVDRqT8mc2Y+CzoZovvrv1LzJtUydQ\n",
       "r8W0NcwqsacBv20casqdD1w+gY3axMHaKqPlq97rGNU3BsRsEFQ3aEzSvxEDn3x9jYSvvjAiZNNf\n",
       "geMZaQIX/LaxIJ9Q5pdPBEANU2/jtVRLX/U6VeWNATEbBNUNGpP0725Gxzc2wuCrL4wI17i2hmkQ\n",
       "3RL4beNVuYvil09IUHpG+6lhDRa2lyXTIKhuhMpD9g/XouNnFtsI29UeJddGeInuAfwhngVHZvQU\n",
       "/cXrqlMJ1fQp2giVh+zPrEbHL0y1EbbUHiXX1jGzxG4c/NQMITLy+T7CqUZpmVXSaCMP7v9aZHyf\n",
       "zSE+vr7Sccwi0T+Av7gYOe4w/YtyDNWwQXWjjTy4fzzyzbHGSufwuTaGeZJY6mTQDMHtuM9nJztV\n",
       "0+O00U4e4C9F3s/7vcc8Lj7XxjCzxFoM/mzUF9+X/Z49EVk1bFDdaCsP7v9G1FTeaXYOH7RRzByB\n",
       "DP5c1KeiZP0u0Mod60xNIahutJUH93+7GTGVQx3EP8R8MV8nFns9aIag9ojvp693pqaP0EZ7eYC/\n",
       "HHGHasx2Dp9rq5j/B5vkyAvRP8EZAAAAAElFTkSuQmCC\n",
       "\" style=\"display:inline;vertical-align:middle;\" /></a></span><br>"
      ],
      "text/plain": [
       "fail_ineq_lemma_inst_bound_02: {e in {2 .. 2^{t - 1} - 2}} |- ((1 / 4) * ((Sum_{l=-2^{t - 1} + 1}^{-(e + 1)} (1 / l^{2})) + (Sum_{l=e + 1}^{2^{t - 1}} (1 / (l - (2^{t} * delta))^{2})))) <= ((1 / 4) * ((Sum_{l=-2^{t - 1} + 1}^{-(e + 1)} (1 / l^{2})) + (Sum_{l=e + 1}^{2^{t - 1}} (1 / (l - 1)^{2}))))"
      ]
     },
     "execution_count": 64,
     "metadata": {},
     "output_type": "execute_result"
    }
   ],
   "source": [
    "fail_ineq_lemma_inst_bound_02 = fail_ineq_lemma_inst_bound_01.rhs.deduce_bound(second_sum_bound)"
   ]
  },
  {
   "cell_type": "code",
   "execution_count": 65,
   "metadata": {},
   "outputs": [
    {
     "data": {
      "text/html": [
       "<strong id=\"fail_ineq_lemma_inst_bound_03\">fail_ineq_lemma_inst_bound_03:</strong> <span style=\"font-size:20px;\"><a class=\"ProveItLink\" href=\"../../../__pv_it/theorems/f67ffeb951aaff9cc5f02f3801926b572b231a930/expr.ipynb\"><img src=\"data:image/png;base64,iVBORw0KGgoAAAANSUhEUgAAAKwAAAAYBAMAAACVRAuIAAAAMFBMVEX///8QEBAyMjKqqqpUVFRE\n",
       "RESYmJjc3NzMzMwiIiK6urpmZmaIiIh2dnbu7u4AAAAMEBwRAAAAAXRSTlMAQObYZgAAAAlwSFlz\n",
       "AAAOxAAADsQBlSsOGwAAAe1JREFUSMdjYCAZMBVAGXxJDFQE72GMnpPUNNYIzrIkTSPfKjyStZNu\n",
       "4De2uACHzkPr8FmqTMC1HK4PsIoz/2NgYN+t2oApU70pgoHhH25jIbpYHbAayzuBgaGUgfcXhgR7\n",
       "AMP9BVwCDByhQBCOxViILpB+HMa6MzAIYkiwFDAwCvA4vMDpWoguVGN5ImdOghsr/4DBHyPoGf8x\n",
       "sHznPnAPp7EQXSjGcuk8QHKtJwODP0bgskxgYPnBsQ0mXqt/B00BRBfYWL47p8HmFT1ADgQgmI8t\n",
       "gDg/EEic86H6VzZwXADx1eEy3ArgdPIHm67+A/hNBeniEQDG7jcGngUgAQW4VGEC2F1Yk8kUAo4F\n",
       "6WL/DExkf87cAlsjOXPmzKkgVokWWMFWbLq4A7DkSc2ZINCA0PVEmYEf6ig+uAaOraBQZsPq2BQC\n",
       "joXourSAgR8WWIhUAc4ltgzsmHmb+QJDOV5jwbpAuZQTGF8GIJEzKNkBGI08mFm7l4HhHN4IA+vi\n",
       "BUYZmwLDa7CzmAyQja3cvXsnpHQFRiXfJ2jmnb179wR8xkJ0gRPY2TRIMPC5rkMydv7//xCzODcA\n",
       "idnQaP7//78C3kQL1oWaebmuImVeSgCeooYGxoJyCSWAG3tAgXIJJeBhAnbxamdKTK0F6gYAv0eE\n",
       "w3ELTC0AAAAASUVORK5CYII=\n",
       "\" style=\"display:inline;vertical-align:middle;\" /></a> <a class=\"ProveItLink\" href=\"../../../__pv_it/_proof__fail_ineq/446258b47261f842ae2a78ac599bb7fe8cc6e1230/proof.ipynb\" style=\"text-decoration: none\">&nbsp;&#x22A2;&nbsp;&nbsp;</a><a class=\"ProveItLink\" href=\"../../../__pv_it/_proof__fail_ineq/04d564554147b413373a3c9698e23a0c9404bacc0/expr.ipynb\"><img src=\"data:image/png;base64,iVBORw0KGgoAAAANSUhEUgAABAkAAABMBAMAAAD98/N+AAAAMFBMVEX////c3Nx2dnZERESIiIgi\n",
       "IiLMzMyYmJju7u4QEBCqqqpUVFRmZma6uroyMjIAAADVePneAAAAAXRSTlMAQObYZgAAAAlwSFlz\n",
       "AAAOxAAADsQBlSsOGwAAElVJREFUeNrNXWtsHNUVvrvex+zDuwsBVarSZlVBQSA1Rm55lB9ZKiJI\n",
       "URWrqtNQoLYKoWqFZKPShlKabOkDISh2SyqCoLKFilQEit2mVaGpsJuHUrVuYgoSIH7YbYUKpeBH\n",
       "EsexY0/neefeM+fMzO7eXftKk3w+OzP3+86c+5yZO4yZ6QOGpw98oOkptjPo1ybxuLhKgtp4FCYh\n",
       "WE/yg2XmR/GjuJ3aoRnpyoDfmsUjPkqC2nj8zQfWk/xgmc8Tgc/tz1dbFwWZfvq3pvF4kga18Mju\n",
       "h2B9yQ+SqRGKuV17snVBwNrnyJ+ax2OqRIJaeDzSD8H6kh8kMzeNH8PtyA5Z4KSEuitykPxF4BEb\n",
       "d8AGJdVDroMEwTzk9IoPkA5jlTWQHySzj+jJcDuyw/fFPx426I0ri4JNw9QvAo+048TUc0qiILZE\n",
       "gmAeUkqtQEA4TNtjNPJrID9I5ofEMR/SO2i832hSubGLsX8oi4K2LhZGiLGtf3VAUk1X4TM0COQh\n",
       "jxCmIfA7zCoud201qv7yGsinZWZXiK7OCr1D3g3LNmsHg3hBWcctdZoFE3roypdYkqmNgr4KCWjH\n",
       "wDQyCYHfYcyqgp8ztnfXQD4ts0AEH7cjOxgstMtuEqMgPqysMriOBRMaZ8fY44xtnJiYmFQVBW2D\n",
       "JKAdA9M7PiA6jD10X78YBVesgXxaJhX0QaXi44z9uDcnRkFWXcdgZDiY0Arb1PtiWm1dkF0iAe0Y\n",
       "qhQjxdlwmLaDjYpR8OIayKdljhEn4nZkh9cYOxS7TIyC9g5lUVCcDiZ0v+GGjfc6Dt92hZpMV2lA\n",
       "Ogb2wBchkByWG71QqgteWwv5lEztFDE6PQWBlW2nka5iLzD2zANVdqTzus7OfisKUuqiILcQTIix\n",
       "S9XPGIz1koDmIaeBDggkh2WO/5rlOzuf6LzGjoI710I+JTNN1Hzcju1gKJiTe4cKW4T2+WBCLLWz\n",
       "CfNGZRKQPEDaOwyB5LBiSe4dvrgW8imZbYtER2IRArmz81kWF6MgUVF3Rc4FE1I0UwTq4UESkDxA\n",
       "2lKFQHJY2zAri1Fw41rIp2QOED1ebsd2aCuxx2662YmC2KfmK6ZFWdrSG0goNh4rKY+CtgUSUDxg\n",
       "lX0GAtlh2tH7qk4UXDhzCWNXrYV8SuZep2rYBSLMtXtArLXK4nyBmX4YeTogvD7bjtbFnMeGu++p\n",
       "tTTsCj0gMU8CggcUkp6HAHMYc/sMWgflFzXyccmUzDFrPkP70ww4amwSAjH9WZg7lAxh6dETi+Fz\n",
       "G2gvmfMY0vXaYsAvDgnOVRLgPHxCcisQYA7jU+35EuUXFfIpyZTMITcCwVFDPiCmONg7HfmpikR4\n",
       "FBTRXYYaqO+3h5cevUoCnAcUkpmFIMhh8o0F6XRq5BOScZm8EQNHBbZyRgJ5aExhFBRWgprdJkXB\n",
       "zCQJcB5QSGBHyucw39/e6dTIJyTjMrOn8KO4PXtKbTcsQhTksan0hnhEiIKTFRLgPKCQkQ4I6vSL\n",
       "GvmEZFxmfh4/itvz8y2PgjSmuCEeEaJgbwcJcB5QyMkyBHX6RY18QjIus7CEH8XthaWWR0EKGzE3\n",
       "xCNCFPQNkgDnAYXMDENQp1/UyCck4zIzC/hR3J5ZaHkUaFgnuCEeEaJgYJYEOA8oZKgXgjr9okY+\n",
       "IRmXyTuk4Chux3qsBV1IFeVRwPTewIHDjJD7aVVRUFwgAc4DCgkcW4RTFk6nRD4hGZe5aRY/its3\n",
       "ISUiqzun+MHrL+uD6qOgB6lTBR4jjpu0j90ydE5VFCSXSIDzAEJiOgRS1zGUsnA6JfIJybjMkS78\n",
       "KG4fwcY9Y9645dtL6qNgBqlfBB45neN0z7CiKCicJgHOAwjJnoFAmlIKpSycTol8QjIuc/s0fpRn\n",
       "x2aykrr3OsMR9VEwhvSyRR49y17fuUNRFOTmSYDzAEISqxDI1VsYZeF0SuQTknGZm93TbJZnND07\n",
       "lk9KP+sRqe3eRnwufJ+TyEs4Io8+3XveP9LU9eZwjvllEuA8gJD4KQjkvnkYZeF0SuQTknGZY06O\n",
       "h4bel96kcO0ekCNN9zKp6Q2M3Murfwi/aEj9I/JI6J7L0hEyheLQq7BKApQHFJJbhkAu6iGUxdOp\n",
       "kE9JxmVuGcfPwu34Dm16F2te2twVQMj644zyPONnSEDzED1yHgJw3Jl1IR+XOUOI4nZ8B23ofBOj\n",
       "YPtgACEzPaKPq84zcY4EVjpQCvKH0ck6D4GcaqDcTPm4zJ4yMVgrQyCnKX24eVGwlw+L3vATMlO7\n",
       "vqQ6z7ROAmso9Jdgf7DkPARyqoGyJ7+9X7V8XOYQIYrbiR3i+v5WRMGv/ITsSvNctaVRsPVyFuwP\n",
       "lpmHANbzkSl78rMV1fKJKCCm/rid2mFmtXlRMIJFgcSjoE8rzjOrk4Bpl1YIHkIUnIYANhmRKY9g\n",
       "UaBIPi5ziOg8czu1wyN6ubVR0C/3S+ZbFwXasX5G8BCi4CwEvq7UfCNRoEg+LlMnRHE7tQOfRW5C\n",
       "mkKiAPAYwSbbG0ntOgW0V4Yxx4BUPAuB7+JGpTyFRIEq+bhMqpPH7WQv8KTyptmbFllEokDmkVfd\n",
       "L0m5N4H8QI4Cwh/FJQh8EzZRKXvyhShQJB+XudvG1g0qMwQ1p7nf7V7i3dS1TtJ3E/W6k10KHrYD\n",
       "/1h391Pd3bfhPHpA81usP1O7xO92a1sfiIktgsOj6B7pOix9PwPAP+4i7wAWMfn57u5bf9HdPRpJ\n",
       "PmtIpg4frrvdOalr16nnSmNnWEvrAsBjU1fL6gKpd0g5rOg+LVikXmyPTBmtCxTJx2XW3yIkftba\n",
       "KAA8tpVaFwXiSLH+FiEy5QgtQt3yVUfBlOLumbU8g+OG2dAoaFfTN9U+cYg7g1FAmjWqPwoiU+6b\n",
       "DY2CGuWHyax7pJhSPntnLs9AjxEAj75hJXnmWb4rbIxgpwO9DY4Uwyh7hWAqdKRYq/wwmfXPF1RU\n",
       "R4G5PEPUKND2qcmzOBlbiBYFjc8X7Ku9EJDzBfvUyuzhZ79H7oP2QwDS/5T3Bu4PjAKZR2FcTZ7p\n",
       "aq1R4PFISRySZyGAc4dBlOM9vVgh8KKgMflhMr2nm26TjuP2GbzMt3Uw9cldnmGE31R7w0/ISp3K\n",
       "8ow7VWXWvcfmB7hjWFJ68iLkQbUwynuFQuDJ9+4mNSo/WOaWstvll6OA2zmQ0zGv/4w2USXaVij5\n",
       "zZaJv7a7F7vBLvLIe+8LZ4WxKzaedf7/p99s/+S+25t2B74+oHVbqRfy2CpFQds8BKBpRinzdEIo\n",
       "BHXKZ/iwIYrMMbdu+fr70rHcPoZWPmlvmJjGoiAxTNsGRIonnii9bvxvbt7yDNizjhKP73qCH/Cs\n",
       "n0eIODZNfJJ643tXtRtFy9xY7FqX3SoJcB6pPVIU5M5DICecMk9fEgpBnfITeI8xikz+jFtZjgJu\n",
       "PzkaMkx8Hvv9WSOyF/y2jSeuNnrbYkXF3q4mjGrP3LzlGbBnHUUewjgp6z2RkS2bzat8lGGLTfy7\n",
       "l2VFx5bbX2LmMn3mtpFd4DDxPTeIP0DIecQLkmdCHlfEKXulYUEoBPXJR31uVgERZLo5JkpyFAQ/\n",
       "fSqsD/sYFvqa4fT0rM8W62CbJy/86ieFEmQqf9fevOUZTiL1j8jDWyVWE3Z93Gpe5WTYNrD4SuzS\n",
       "fwnhYY7IzFU6jS129d3OREDe1eEHOI8b5CgICR6cslehzgqFoD75iM/tVQwiyNzrFJKPMDkKXLsH\n",
       "0GFi7AX01mLeKNr5aZ8tV2KZQfZfsZUwPfmgvXnLM2xBeqQCD2+c9NEx4d7acad5FZNh+w1jT7GC\n",
       "WFveYrp93Noy7tw9a3M7dX6A8oj1y1GQXoUAH9pJlL3S0CEUgvrkYz63nkePIHPKqVLKIApcuwek\n",
       "jvKHVnrnVl1HH0PNmF3ois+WWWS5OSY+x6+ZlUqmam/e6ZEWTuBRWLWz7zbiRriZMWg3r1IybENV\n",
       "NlYqiqcfME+/39n4SZdIgPKIMzkK2s9BII0gcMqecypCIahPPuZz+62EcJnOm0/pEoiCwDfU8uKt\n",
       "Kmw+wWz6N/X6bLkulltol8LKXA+s0G9v3swMUloEHieF3L3Budn0x0DFZNp+b67p95bUnTfj8D/O\n",
       "xp24QAKUx70gCoLfUMMpC3OBpUbloz63oyBcZtF+tP0iBqKgOAdBLekw0kQftgfZs4nRn3jGF8wl\n",
       "H8zvtkifqMHe9wzlkS/7+yJ5e3zVw27RPP9k/2i23Fcy+fM0/tdz8ZVlHB6xCogCxt/Q0Ou40bON\n",
       "NSof9bkdBeEyk/Z90LcPHTr3W2kqbAWCWpIZfQcRm7mab75yudeYTpurxaan7Y0XK6xODeVh1ibw\n",
       "2xZ2DZM6zY4K6wrtsRaT3cPsjRe2QRJgPNoPHRp7WppK6ZmEoIZ0vdaofNTndhSEy8zxOuVpubty\n",
       "FoJa0leMbR9iM2coU8e9YrmplF2whzvikKcd61+F8kgOW82rz2ZN8t3zHc/Jc2yk1x7gioPcqWkS\n",
       "EDwycl0w1g9BDelsvFH5qM/tKAiXmeDDIXmAw+2Jel4/+aVRAK0q7HFr2m2HYxPerrQf0TnIUkYU\n",
       "pGbtjeeNzb6F8shMus2rl2nGKpb8fVorU6O+6DOioI/ZG/dXmQQEj6Jc8Wwfh6CGtPKjRuWjPrej\n",
       "IFwmD7wj+u+kLu9qUGRGYJQY9NsY+x7/03pE56x19c3+othnzGGd81Ae5hXfhthYelTKtNhvueUt\n",
       "Z+NFeZgEOI/8lmWp5gmpQ4LTg+VG5aM+t6MgXKZGLKHI7ZpeRxQYtVPbaNVfY2XL7hyWfe4Fqz9g\n",
       "raYtDDiTi0GEglqE6zWkRXiWSUvGDvRaDeVzzsab9SoJovEIWQkneqpPPupzOwoiyOwherTc3kN2\n",
       "eTe6Le218JdPm0Wu7LOxrzF2s2hbsKZz0h32xv05SBLSxpBfHrYKX1tFbl5dW6rMEqJzir3WvNW3\n",
       "nM318jkSUI6BF28OghocJoUTLZ89OkvJR31uR0EEmZuJvgy32wBkbz3CdJ/zxzd3QkbG2KT4Juip\n",
       "GbbY7RMT0iTTJeaHA6zxXF7gPzJKEzoAhoLM+XqXPdYUm1fXdvHExDHJVsmOOgOrw8LMwjIJKMeA\n",
       "FD8rgYgO0/b4ThQkPztNyUd9bq9iEEHmFPHZVm63gS/7fFfidrdp2QkZ7TIK92Fwwl3mw+u6/GpV\n",
       "/Ebz4icn7Y0FNsg2D3BWvjK/kXeX3Ly6th5dl9vUSz5n/nuHs8HG2A8ox8CWe1kC4Q7jn1MDKUh+\n",
       "vkzJR31ur2IQQWaGaMXAsr4ge+sRJl6sd0JGSWT2C7PZ6WJn43NnAYS4IvD1LiPtQA7aQeUZ67I3\n",
       "Qm4Ux8Akrxwd7jDvUwnEeZBseWHxyyf9G0VmnnialdttkJSnQsxHmMybhBMTE39HoiCNDJbS5ADq\n",
       "uLO5BXiZJqTNml+d6ey8Bn69i9k3pXx9b3Kmsd/e+BTuKAkox/hmiXtFEO4wIgqC5LMBWj7p3ygy\n",
       "iQ+0eHYb8Ox5Zd6VHe+n6gL0ExDUZyFiHfbGh8ZLNCGvngVf72IM/VAH+fGODc7Gu1HDJKAc46uz\n",
       "yyIIdxgRBUHyvW6RXz7p30gynyIOfkoCB+DPu6qx446L7/r5MGSEfTSD+pCGeaXEq1UYpAl59Sz4\n",
       "ehfzf3eCsnGXiW57jwakY2CdPSiCcIcRURAk3+sW+eWT/o0kczsx7c3tFuDZ32lGeMk32AGMYhWk\n",
       "zFfwjG5wNl5rlWlCyTfdIjbn6x6Zt8R86SL8XImSvfFqeJ4EtGPgOVdEEOYw8XNqUgqSz+6o0vIJ\n",
       "/0aTWSTaP263AM+eD30vYGR3vbFEfa/Q5FHkH3cHX+9qMPm/hZgj12WkHMaWRRDuMKIuCJLPZisN\n",
       "yadlxgm53G6BWTnQvEeYlEeBRozTLR75L7h/ga93NZgGRklAO8Y3pK8KINxheBQEymdHJxuST8vU\n",
       "iKqP2y1wVK4GvUeYpChQcUES1NQbRrSNqUnbSySIxMP2aFkA4Q7zPqfWMvkBMqnlYbk9wvqxCi9I\n",
       "hhxRIjzyijJ9hgaReNgXkFounUgdLZcfIDNJdEe4ndqhOReEjrloPOqqfxZruZAkjy/6QGAab7X8\n",
       "IJlZog7i9uwca13S6McpmsdjoJ8EtfAYKUGwvuQHyqRWNT8StkMzUi7gBcim8ThIg1p48Gdo8h3r\n",
       "Un6gzCQR99ye7G9dFLwV0AlpFo/2/SSojceXfWA9yQ+WmSIkc3tqf+ui4I6A35rFg8/5+0FtPL5R\n",
       "hWA9yQ+R+Spx2KthOzShWxDo/ibx+CkNauPRXoJgPcknZf4f4sg/pbwGumEAAAAASUVORK5CYII=\n",
       "\" style=\"display:inline;vertical-align:middle;\" /></a></span><br>"
      ],
      "text/plain": [
       "fail_ineq_lemma_inst_bound_03: {e in {2 .. 2^{t - 1} - 2}} |- ((1 / 4) * ((Sum_{l=-2^{t - 1} + 1}^{-(e + 1)} (1 / (l - (2^{t} * delta))^{2})) + (Sum_{l=e + 1}^{2^{t - 1}} (1 / (l - (2^{t} * delta))^{2})))) <= ((1 / 4) * ((Sum_{l=-2^{t - 1} + 1}^{-(e + 1)} (1 / l^{2})) + (Sum_{l=e + 1}^{2^{t - 1}} (1 / (l - 1)^{2}))))"
      ]
     },
     "execution_count": 65,
     "metadata": {},
     "output_type": "execute_result"
    }
   ],
   "source": [
    "fail_ineq_lemma_inst_bound_03 = fail_ineq_lemma_inst_bound_01.apply_transitivity(fail_ineq_lemma_inst_bound_02)"
   ]
  },
  {
   "cell_type": "markdown",
   "metadata": {},
   "source": [
    "Next, shift the index of the second summation to create identical summands in each of the summations:"
   ]
  },
  {
   "cell_type": "code",
   "execution_count": 66,
   "metadata": {},
   "outputs": [
    {
     "data": {
      "text/html": [
       "<strong id=\"fail_ineq_lemma_inst_bound_04\">fail_ineq_lemma_inst_bound_04:</strong> <span style=\"font-size:20px;\"><a class=\"ProveItLink\" href=\"../../../__pv_it/theorems/f67ffeb951aaff9cc5f02f3801926b572b231a930/expr.ipynb\"><img src=\"data:image/png;base64,iVBORw0KGgoAAAANSUhEUgAAAKwAAAAYBAMAAACVRAuIAAAAMFBMVEX///8QEBAyMjKqqqpUVFRE\n",
       "RESYmJjc3NzMzMwiIiK6urpmZmaIiIh2dnbu7u4AAAAMEBwRAAAAAXRSTlMAQObYZgAAAAlwSFlz\n",
       "AAAOxAAADsQBlSsOGwAAAe1JREFUSMdjYCAZMBVAGXxJDFQE72GMnpPUNNYIzrIkTSPfKjyStZNu\n",
       "4De2uACHzkPr8FmqTMC1HK4PsIoz/2NgYN+t2oApU70pgoHhH25jIbpYHbAayzuBgaGUgfcXhgR7\n",
       "AMP9BVwCDByhQBCOxViILpB+HMa6MzAIYkiwFDAwCvA4vMDpWoguVGN5ImdOghsr/4DBHyPoGf8x\n",
       "sHznPnAPp7EQXSjGcuk8QHKtJwODP0bgskxgYPnBsQ0mXqt/B00BRBfYWL47p8HmFT1ADgQgmI8t\n",
       "gDg/EEic86H6VzZwXADx1eEy3ArgdPIHm67+A/hNBeniEQDG7jcGngUgAQW4VGEC2F1Yk8kUAo4F\n",
       "6WL/DExkf87cAlsjOXPmzKkgVokWWMFWbLq4A7DkSc2ZINCA0PVEmYEf6ig+uAaOraBQZsPq2BQC\n",
       "joXourSAgR8WWIhUAc4ltgzsmHmb+QJDOV5jwbpAuZQTGF8GIJEzKNkBGI08mFm7l4HhHN4IA+vi\n",
       "BUYZmwLDa7CzmAyQja3cvXsnpHQFRiXfJ2jmnb179wR8xkJ0gRPY2TRIMPC5rkMydv7//xCzODcA\n",
       "idnQaP7//78C3kQL1oWaebmuImVeSgCeooYGxoJyCSWAG3tAgXIJJeBhAnbxamdKTK0F6gYAv0eE\n",
       "w3ELTC0AAAAASUVORK5CYII=\n",
       "\" style=\"display:inline;vertical-align:middle;\" /></a> <a class=\"ProveItLink\" href=\"../../../__pv_it/_proof__fail_ineq/3dc05a302f98d11a9f7729f433e006a0e9f863330/proof.ipynb\" style=\"text-decoration: none\">&nbsp;&#x22A2;&nbsp;&nbsp;</a><a class=\"ProveItLink\" href=\"../../../__pv_it/_proof__fail_ineq/f513a41693e863e802df25d2cfd0f325d67776780/expr.ipynb\"><img src=\"data:image/png;base64,iVBORw0KGgoAAAANSUhEUgAAA90AAABMBAMAAACCMsnOAAAAMFBMVEX////c3Nx2dnZERESIiIgi\n",
       "IiLMzMyYmJju7u4QEBCqqqpUVFRmZma6uroyMjIAAADVePneAAAAAXRSTlMAQObYZgAAAAlwSFlz\n",
       "AAAOxAAADsQBlSsOGwAAEoNJREFUeNrFXWlsXFcVvjOe5Xlm7BmaVkgokBFqAbUScWWWFn5kilpB\n",
       "qVAshEOgLbaAFIEqZSoKKQWaoSxVBTSGBjURRbYqLFG1ig0BsQRhk0VBYBKXVoKqP2xAiLX1ksRJ\n",
       "nNqPt97lvHPufTPzxr7SSz6feXPv951z97cMY256meHp5QjoeErt1n3aIR7XNEjQHI/eWQg2R75e\n",
       "UGkS/xa3Uyd0It2g+axTPNKTJGiOxx8iYHPk6wU9TVRmbn+6sXHx7q7Tn3WMxxM0aIZH4RAEmyVf\n",
       "J8gitHG79cTGhZv1LJEfdY7HXIUEzfB4tA7BZsnXCSrO49/hduSEAnBHJjnfHyU/kXikpgOwJZEm\n",
       "X+wjgZ6Hmn4TAaTDWK1l+XG06wTtJeYW3I6c8GX5j0ccItOJxXvbGPWJxCMfuCs3nki8U6sk0PNQ\n",
       "Um4NAsJh1kPOYNyy/DjadYJeIb7zCn2CxWdybrm3DjD2p8Ti3TXATIQYu+33AcgmM6S/nQZaHurs\n",
       "fB6CqMO8hvHJ25yOu9qq/FjaaUGFNWLysUafUApreJd3gkOxN7GpVO480xN6+IZfsCxLNt57aySg\n",
       "HQPTxCwEUYcxr1sdd45/tSKf0O52GHEF9RIVituRE5wirTe/V453eiyxBn4z0xOaZqfYY4xtnZmZ\n",
       "mU0q3l0jJKAdA9M/IkB2GHv4/roc7+tbkU9odzuMuIKoiqyr6W9g7OvDRTneheQG8IkxPaE1tm34\n",
       "2Xyy7buwSgLaMVTLRJqo4zBrF5uU4/1sK/Ip7ePxBU0RHuN25ITnGTuWerMc756+xOJdntcTesDR\n",
       "vPW+wLW3X59Moes0IB0D58SXIFAcVpy8Smnfz7cin9I+HluQdY5Y7Z2DwCuj30k3smcYe/LBBjvR\n",
       "f3N/f92Ldy65eBdX9IQYuy75FfjUMAloHmo60AeB4rDu0z9ipf7+x/vf6YfnE63Jx7WPxxaUJ/ot\n",
       "bsdOcLguqfO1BPvznmU9IZbb3YEdlyoJSB4g7R+DQHFYuaLO155tST6hfTy2oK5LxAzmEgTq9ONd\n",
       "LC3HO1NLzveX9YQS2mMBvegICUgeIO1oQKA4rGuMVeV439qSfKA96D6QeFOCDhCzTW7HTuiqsG+9\n",
       "931BvFNvXa65lsTSjmEtodR0qpJ4vLtWSEDxgB3uBQhUh1kn728E8b5q4VrGbmxFPqV9PLag/UFz\n",
       "3wMqZWgXQO5zqvL6201fjb28NnfGO9GelPPYcs+9zTbwPcYvZJZJQPCAQvLLEGAOY+HYbvVRftHJ\n",
       "p7SPR5RSgqa8nQDr1wsgn6lZCOT0W2l/TTGY0jfPXDJvfqAzVM5j1Labi3ZUHFIN10mA84gIKa5B\n",
       "gDmMbzyXKpRfdPIJ7V6HoSqlBI2GtQq4ZDQC5JQGZ+djX9/PmONdRk8ZbaO33mnuEOwGCXAeUEj3\n",
       "IgQ6h6kb6kp2bckXSnFBfLABLtGORk4C9C2WYLx713TDY4fivTBLApwHFKKd8EQcFvlbZNeWfKEU\n",
       "F1Q4h7uE2wvnkp0YxYh3CdtCbotHjHifrZEA5wGFTPRB0KJf2pIvlOKCSsu4S7i9tLzh8c5j2tri\n",
       "ESPe+/tIgPOAQs5WIWjRL23JF0pxQb2ruEu4vXd1w+Odw1agbfGIEe+9IyTAeUAhC2MQtOiXtuQL\n",
       "pbig7hXcJdzevbLh8bawOWhbPGLE+8AiCXAeUMjoMAQt+qUt+UIpLohPBoFLuB2bLfbaUqolHm9m\n",
       "D2sn7QtS6eeTind5hQQ4DyhEO683U5ayM8jX5iaU4oK2LeIu4fZtSC0v2EEWX3nhl/ZI8vEeQnpE\n",
       "icdE4BDr9XeMXk4q3tlVEuA8gJCUDYEymTNSlrIzyNfmJpTigiYGcJdw+wS2upgSq4PPrSYf7wWk\n",
       "z5B4FG2O80NjCcW79zwJcB5ASOECBMpmjJGylJ1BvjY3oRQXtHMed4mwY7s9WVvcvn4i+XhPITNc\n",
       "mcfQFTFv7Uso3sVlEuA8gJDMOgRql2WiLGVnkq/LTSjFBW0PT9+u7u8JO8YuZ18UBTZ38SK9ZD7n\n",
       "LPIghcxjry3u7461kbvdzLF0hQQ4DyAkfQ4CdfpvoixlZ5Kvy00oxQVNBXkfG/2vco98aBdArUa2\n",
       "8GBT99YXf7n+c3N4kD5F5pGxhXPyMQqF4lB/r5MA5QGFFK9AoDZfA2U5O5N8TW6SUlzQjmlcPrfj\n",
       "J3TZA6xzafuAhpD3x4XEy0xfIAHNQ/bIqxCA711ITn6s3HBBCwR9bsdPsEZf7WC8d45oCLnpUXs6\n",
       "6TIzl0ngpSMVnT+cydCrEKipCcpG+bFywwUNEZt/3E6cMGePdS7e+/ni489RQm7qsVeTLjNvk8Bb\n",
       "hvxO7w+WXYZATU1QFvJ76gwvNkZuuKBRgj63Eyek7UMbEe8fRgn5Xd7lxobG+7a3ML0/WPcyBLCX\n",
       "jk1ZyC/UqGLNuRHxJrbHuJ06YWG9c/GewOJdU3f45hMus2CTgFnX1QgeUrzPQwA7/NiUJ7B415rN\n",
       "DRc0SkxcuZ064VG7urHxrqvzh+WNi7d1qs4IHlK8L0IQmfIstxPverO54YJsgj63UyfwPdUOpDkk\n",
       "3oDHBLbJ3E7qsSlg/WYMcwxI5YsQRMIYl/IcEu9IscbccEHUtIvbyXnZ2cSHULGdcAmJt8qjlPT8\n",
       "IRde5ogCNd6EP8qrEER2dOJSFvKleI81mxsuaJ+PvUstbrWygmF5XxjMfVRUs/SVMbvl5NfsR/zK\n",
       "fGpw8PDg4J04jyEwTJZbL9RvxfvCnjICUnJ/HvAoh98MHZZ/gAEQXfOQF/PKmPzS4OBHvjc4OEmE\n",
       "IZqbmgsuyIY3ad0VhCy029SdiKkLbEPbN+CxbWDD2rcyX6McVg7vOitTjwvHpoy279lmc8MFtd6f\n",
       "Z76zsfEGPG6vbFy85fVY6/15bMqx+nNjbknHey7hCZP3LHsgeNEY755kZovWG49xZzAKKPstrcc7\n",
       "NuW9izHibcwNF9TyeiyX+A6X+yw7PT8HPPYms71XYqUB0/zcT0eG21yPmSiL6j4XYz1G5SYqMC6o\n",
       "9fV3Lel4u8+yx423dTCZMsuzqZV48W5//X2w+equWX8fbK0CD/F87lVnf3UIQPpf4qP2A9p4qzx6\n",
       "p5MpM99oNt6CR07hkL0IAdxf01FODw1j1V3EG4YBzc3JxVSBxb0zdypf5fYFvB139bHkU/gs+wS/\n",
       "QPTnKCEv9SdWZjpoDoXwKlIU4I5hWeWStOE2KBPl/VJ1F/LF9RIYhn4iF1GBcUE7quF0W403t3Og\n",
       "plNi7ooOJBXa1luJmj0Tf0RyP3YBWOZREs9mFqQVIrZqDP7/a9TsfxQ+UJkPl5cRYA16aRjyuE2J\n",
       "d9cyBKCjRSnzdEaq7kb5ZG5npAqMC5oK+4VP/VfJkNun0G4oLxZjeSzemTHadkD2+5nHKy84/7uH\n",
       "eJYdu2dO4fEFUWUeFNb3I0QCmyXf3rn13zf2OM3FPVjqppDdOglwHrmHlHgXX4VATThlnj4kVXej\n",
       "fDK3D0kVGBfE75WqqvHm9rOThsXY09jnTzm1dSVq23rmHc5MV+5N2UuNjNNpuYd4lh27Z07mIa1F\n",
       "CuLegELVHcDUbzm21Mzfh1lBdmG15xfMfZmYe2xlrwmYRO4/w29E4zzSvYpnDLe94ZRFvV+RqrtJ\n",
       "PpmbmwuvwLigMO9MRY23/n5F6W2T38Kqs+W4N78YsaX62PbZqz72JqlVuBr/5R/iWfazSJ8i8xDv\n",
       "nLSkUx/zBjA1ObYtLL2Wuu5vUkVw1z3u+wGdI/WOe4KFdSnUEQU4j1vUeBuqCU5ZdJKLUnU3ySdz\n",
       "c13OKzAuaH9Q8V/L1HiHdgHQxVjqGfQyWclprqX5iK1YYd0j7D9yH+/67Ev+IZ5l34HMESUeYi3y\n",
       "uinpKtHpYACTk2P7MWOHWa88vtzhumbaO7rD3WbWFU6zogDlkaqr8c6vQ4AvnxTKot73SdXdIJ/O\n",
       "zclFVGBc0FzQHVRBvEO7AMok9RUv/eMjto3euNjtTl9rEVv3JVZcYvJ925bbUXQ3/ENkj4z+Eo/e\n",
       "db/4QaeGSJv4I8EAJifHNtpgU5WynP0BN/tDwcEzXSUByiPN1Hj3XIZAmb3jlIVzalJ1N8inc3Ny\n",
       "ERUYFxQ8p5KvgHhrnycqyVeXsPW5O0RvG47YigOsuNKjVCD3XUa9df8QexpIC5B4nJVKF4tdd4hO\n",
       "gc7Gtf3MffPYi8pU2q1x/wwO7qsVEqA87gPx1j9PhFOWdssq8eXTuSm54ILK/o3MVzMQ7/ISBM2k\n",
       "48hQetxftC5mJr8hjM+4D8e7v7Wg/IAE9sSdkUepGp0zlPxVzBC7wxI+LPzKHWFvYOqPR0QfkMTf\n",
       "qxHwSNVAvBm/I99u4UrO7axd+ZFccEFZ/+rdS8eOXf6Jsl20BkEzyW04RxGb+xbQUu0tYtCbd989\n",
       "mZ/3D95UsB7RyMPtIeBb6v1eI3eenZTen/KQ92rKh5h/8AY0QgKMR8+xY1PfV9bEQ7MQNJHebbUr\n",
       "H+ZCCCry/uD76gTiIgTNpI86x0HE5u7i5U6LpratUljxlxTysqIHm/EYeWTHvAEsYvM2wu79vHDn\n",
       "EpsY9peR8lJybp4EBI9utX1P1SFoIl1Mtysf5kIIyvBFh7qM4PZMKw8W/MBpVF4H9Ji3NbUrsElP\n",
       "t/m3hRxlOSfeuUX/4GVjO1RGHt2z4QAmCu32mhp/otEr1OkD9jrx3sv8I0z8rWdRQPAogyf1piFo\n",
       "Iq19rV35MBdCEK9MJ+yfKtPNdV1tixHvzEjUxtgX+Z/ebSEXvTi7Mzh5FlfEJsZGHm5sb0dsLD+p\n",
       "FFque3F+MTh48xwjAc6jtOOK0psY+gV9+lK1XfkwF0KQRby7jtstu4V4O31312Qj2p8XquFugJ/3\n",
       "ijdue+/blZZ12Us6Qrr+/N0W0p8/xZR3UB4Y9sbtcaa+hXKoQYJ4PAzvAYmfWpMfSYSgIWI2ye1D\n",
       "5HRzazgi3gQ/eZvbjKoRG/s4Y++TbSveRki+zz+450ZIQtYU8skjXoPqqoEBLLDlqiwjR6487O34\n",
       "fDY4Qn9eJgHlGBimJQiacJhScUaMxX7TXKUoQduJ2QW3+wCU4N1GcX/wx2d2A9e7C53yX8DcybGl\n",
       "7pqZUbZnrnVfDO6tmkpS7ZiYpAkdAQsuFvxejr+iUwawwHbNzMwpxVYrTAbLw+PSSv0KCSjHgJS+\n",
       "qICYDov+8ohWvrSvYEiUoDniRwq53QegBPc2isxd4cCwG7ie7XEa7HGQ4R73FmZbfQwmfasb5uys\n",
       "fzDtwOnzALny93E7ZQ+AASywDdm2OvZd+x7337uDAw6aUUA5Bo6wVxRgdhj/qSKQdPLVfQVdogR1\n",
       "E10DeB0oKMG7jYI31d3A9SyL7BBhNj9dExx8f0lDiIcI/F6Ok3YhX9pFlZka8A9CbhzHwKS+cdbs\n",
       "MPEqdCIfuljeOnwvxIifCCRxnyO3+yCrbiK4t1G4F7xmZmb+iMQ7jyxJ8uQy5XRwhI3yCk3IWnR/\n",
       "E6K//53w93KYf9klMmMld+Pq/sG3IidJQDkmsmc6LAOzw4h46+TzIV71ApYoQcTPJwi7D3gJvCse\n",
       "KEzXqfaNvsydesF7qs8/+FJzlSYkeknwezmMoa/cJ1/DvyU4+Gp1jASUYyI9blUGZocR8dbJD9MR\n",
       "1QtYIgUdJr5wWAFH4Md7GqnTgTM/+d0xGG/s9ffUK/HdmMhx6R2hCYleEvxeDou+QZ6y8conV8B/\n",
       "04B0DOxBR2RgdhgRb538MB2XvYAnUtBOYruX2z3AS/iEW2srkSWF6nr3ckK0Hdfwgm4JDt4TVWlC\n",
       "2b+EzWaJRTqVq5EvXY3nlan4B+9El0lAOwbmuSYDk8PknypSO+Kqudi7G4oXkEQLKhPjFLd7gJfA\n",
       "l5KvYeRUub1E/b6Xy6PMf4gY/F5Omyn622FF8j1xlMPYFRmYHUa0b538MC3WFC80JShNCON2Dyyq\n",
       "jVPcRpF4vC1i3evxKH0g/Av8Xk6b6cAkCWjHRJbIDQmYHYbHWys/TCdnFS80JcgiOi5u98BJtRMT\n",
       "t1Eo8U7C9Rmqj8KIdrFk0s4KCWLx8D1alYDZYeKnilqW35Ig6mWT3B7jbZQJur6bXLchPEoJFfok\n",
       "DWLx8ENFvTqZSH1ty29JUJaYIHB7thqnhKRcT8uKx6OlPuVSMyEjeXwwArRpunPydYIKRA/C7YUl\n",
       "tnHJoi/sd47HgToJmuExUYFgs+RrBVFvOD5hOqETqah5MK1jPI7SoBke/G6OUt8my9cKyhJ1mduz\n",
       "9Y2L94uaUapTPHoOkaA5Hh+OgM2RrxeUI8Rxe+7QxsX7bs1nneLB97qjoDken25AsDnyDYKeI772\n",
       "nOmEDgzfWkd3iMe3adAcj54KBJsjnxT0f/p8/6KQyY7IAAAAAElFTkSuQmCC\n",
       "\" style=\"display:inline;vertical-align:middle;\" /></a></span><br>"
      ],
      "text/plain": [
       "fail_ineq_lemma_inst_bound_04: {e in {2 .. 2^{t - 1} - 2}} |- ((1 / 4) * ((Sum_{l=-2^{t - 1} + 1}^{-(e + 1)} (1 / (l - (2^{t} * delta))^{2})) + (Sum_{l=e + 1}^{2^{t - 1}} (1 / (l - (2^{t} * delta))^{2})))) <= ((1 / 4) * ((Sum_{l=-2^{t - 1} + 1}^{-(e + 1)} (1 / l^{2})) + (Sum_{l=e}^{2^{t - 1} - 1} (1 / l^{2}))))"
      ]
     },
     "execution_count": 66,
     "metadata": {},
     "output_type": "execute_result"
    }
   ],
   "source": [
    "fail_ineq_lemma_inst_bound_04 = fail_ineq_lemma_inst_bound_03.inner_expr().rhs.operands[1].operands[1].shift(Neg(one))"
   ]
  },
  {
   "cell_type": "markdown",
   "metadata": {},
   "source": [
    "Then negate and flip the order of indices on the first summation (possible because the summand is an even function)."
   ]
  },
  {
   "cell_type": "code",
   "execution_count": 67,
   "metadata": {},
   "outputs": [
    {
     "data": {
      "text/html": [
       "<span style=\"font-size:20px;\"> <a class=\"ProveItLink\" href=\"../../../../../../numbers/summation/_theory_nbs_/proofs/even_fxn_sum/thm_proof.ipynb\" style=\"text-decoration: none\">&nbsp;&#x22A2;&nbsp;&nbsp;</a><a class=\"ProveItLink\" href=\"../../../../../../numbers/summation/__pv_it/theorems/32a58022b9531ecd66501132d2fcf890d4aaab720/expr.ipynb\"><img src=\"data:image/png;base64,iVBORw0KGgoAAAANSUhEUgAAAa4AAAA/BAMAAABKljH7AAAAMFBMVEX///+IiIgiIiIQEBB2dnbu\n",
       "7u5ERETMzMzc3NwyMjK6urpmZmaYmJiqqqpUVFQAAAB6qHgnAAAAAXRSTlMAQObYZgAAAAlwSFlz\n",
       "AAAOxAAADsQBlSsOGwAACLlJREFUaN6lW2toXEUUPpvdu6+7u9lYFaXaxkhVEMxWLfG1JhQtVvtY\n",
       "2vpD/ZGImh+lmpWKIoq7KlQQbBahxYK2Uaw/opJtBV8tzZZS8Uki/lBRTKQ+/ohNamNijVnv+86Z\n",
       "O3fu3J0D4WTn7nyZb+bMOWfO3AB4ZazZ7AQxOURpIVH2cB6qeQgr95QwbqrZ/I/1vbHR0bIYYqSG\n",
       "NTw5INLtQs6zi0PTgsgAxk2MjrJ5CSOOVbGGXJ9It7j/t9IL4XnBgx7cohQv5RasAaJCC60UfR9t\n",
       "bbTAa+skjSvHS61hDVDp+FWk4zclvycf4Y/bjt8hAJddQ+PK8aqUsQY4r7RcpGNb3edBYh4v7FUJ\n",
       "Ibu8msaV47Wf0gA74DORjlm/0aamsUHUEwURvKkqhSvFy0YhRtkDx4S67g0YIDw+qEk1OhKZFoFL\n",
       "DVC4UrzaBrDWZAaKQl2nfPzLFfhjfzV+siQyw/MUrhSvyiTWmqzKCAUwiLI3WIKKO9Fq5R0RXnAz\n",
       "hSvF6zSlNXmqQ9CTzjCbc1Rz+ujXG4TwxilcGV7Kv1iHkfQis7m/Dq3JWAPjyvDKzGMdSm5ktk6U\n",
       "W+QVrWFcGV7xGaxDyXiV1TrUIi1QFzCuDK/2AaxDyRQzX/q7VV7ZRYwrw2usD+tQMsyKS+mzrfJK\n",
       "LmFcGV7jI1iH2xCsPEI91yovuA7jyvA6UCL1gaYrs/6dtm0yE+P4HCttsBsFwQi8IWswFq4MrzNI\n",
       "TzVNX6a8uKL3L/9OdThsngVZJ792+5guCEbgrbRyAwtXglfyb6Rzbu0g0z3p2+scDBtDzrKC3rDt\n",
       "gQTBCLwpK/JZuBK87JHZunvJ3Sf+HvKkNY4Ey/VNOWFZDIzAq1jfsnAleEVmsa40Xdf9IV5ZS5uh\n",
       "Za1pYWcYkCudmo0/mA9ev7XAFq4EL/U/rCNN97iSQd+81NKvGxO6yvzQZHlYx+T8wXzw2u3koGnx\n",
       "Mvz9jzSvnGFh3FpDfB5rGPIsgXqb7qWydnyL6Hi7LMfVzcjTh9w0aoi1nhy8NtuVmrhF+FhXr9C8\n",
       "VD0mparcs9wC1rC1SWetm3bqC3CP83mPZkP1pIl6gAFOtHnB+HjOKEyMIjyjG+wAzSuhL+MufmSd\n",
       "wxrSnmpk8S198o46n7/QMJ94ypzgIUY073XXMM0qbXLw4nZIN3GLkNKaY5Oe/aWXTjfy08MZrAE2\n",
       "/4VtK20ydjOLaAl6m9bGOs1w3+Seo8EC8HL2NJi4RchoRpry+o0vtZ9aSF6pJu4RM3xU1m1MERs2\n",
       "iBcNFoDn4QXXdnVd7+UV7eq6vC8kL6UX5a2ZU9foe0TVYJSOXx/TVj9GJLvjDT4vCiwIT11EuBqv\n",
       "DwAe8vJSyxDnVxb6Z7Am0h+bed6eVBVW5LV8J1Pz8Drcpcs1JhXk+ymwADwvr92Q1GkrRxokL61t\n",
       "t9PJuU049eD7dzm8Cljr4M01KC0yBtamGcanMFH6QzMhIonf7L03UVAqSIEF4MVmEa7GK16K6S4k\n",
       "/nkZxeWH4E7XeHWLfPS37XAV3H4Bhxd0o+R7ytzcGnrZrE8nZkLwosAC8Ly8snnDbbSXcL7xNeE2\n",
       "9NsEVbNXaCS+a/B4DXeS41jrjANgteHQwqwXBRaA5+UFteO6lzm1EfNKZbQvKBvO18OcfptwiWkc\n",
       "KsdvACxDwfYRsO1Gv/65W/sjndz9ReVWy+jIzcPz7i/YaFzzfULlh7HvtQXcUq3o4OeVlivmFvv0\n",
       "Wx6vNK5MrTbzrDwo23MF0GyZLJoG+UMaLACPwet5w1seoXglbzUad+q/74DP0sbXlXwfj1cFxaSk\n",
       "mQJozjg7f18hPWm6aNH4RYEF4XnjF+TK5tipfP537ecmWKH/2gPHMnsHBx+GWKyk2PswOoO1xno1\n",
       "PqCZDxKdoBzK//CVbkIjfF695GZb7Tnw8fAYvEzpYZxTlAXYoZmxfpuQMKbm3achZvOyM2gnk4YU\n",
       "TlVVK2pe6bQ8x87dXQ9IRMyUJ+/l4rmnijLipcyxzl83JM6dVPqM2wQjdvfV4Q3fcwoMomH8lJp0\n",
       "slNLjpIcqtxzCgUWiNe2gHAdXuT9mcvr7a/ObySKxm3CLu1vZv78ed1+uijmFMfUVa7JaD9X2OeJ\n",
       "uM0AHRt6OZU7L1ggnrMbevF5OVP3PS+buMq6we24DrCINZxwV0A3/uP2+V0ZoAekC6vMtNL1kRRY\n",
       "IF57AeHavOI/lX15HWTnh5mzWBN+OYuLns9a+iLSubHOwxN9DCef9VRQWXh2EE/i+kasw7++4VMN\n",
       "SC9hPew4OGU8+LonvcQqrDj5eTgwoquFK1G3Uf5B2vXLL51uBl/3ZFhl3P6ax8kLgelLnUe4MvXe\n",
       "bqRT/+wzpEs7wZ4RqGaxLs3a7M0fEkx3OWWEK3XvUCX1OFFSXwzunGJdmrm3WOHA9HINxpXhNdHA\n",
       "OpS0d7KMcxFalTMYV4bXcB3rUFJhFRmS/7ZKK3EW48rwinZiHUpWMr3Bta3yisxjXBlesTmsQ8kD\n",
       "zNbNpRZ5xQsYV4ZXchbrMKIssU073yKv/mmMK/Veyj5KhxCfdyNStRZ52S9I2LhSvCaqWIeQFHtP\n",
       "ZpjvuSX2BuK9TOFK8ervwzqEDLNjg8J+IeCXwC2xSOFK8VILhI4sf9ZJuM1qD082+7S/x2ztCXRh\n",
       "MxSuFC9lltAX5QZeU/WXBnfY1R6Bnl4TyKMZsuxwdkWAn+zPU7hy74suI3QjnrdDklXt4a20X8iL\n",
       "FNAMWY2rIgGh/zCNK8erLU/odmeNrGoPb3uN+D25DM2QFZwaGb6fTJ6jceV42S+7G3onVM1Ztqs9\n",
       "HPnT/xxVJWfIehu2rE5z4XLTNK4cL1jv6GRhPdSJag8/eq3x9wA1YobsXBai3Hc44ESJxpXkFc87\n",
       "+tCbHSWi2sPt9jznqHg/OUOWmZc+4ZthjweXzUv4/26UK7EWlFc5z7aUiRmy/OEhfnrlXFtauH7/\n",
       "d3Ov8P/dwAuUFpuNEd7kh39l9F4KNzE6evB/EHw4St1tfv8AAAAASUVORK5CYII=\n",
       "\" style=\"display:inline;vertical-align:middle;\" /></a></span>"
      ],
      "text/plain": [
       "|- forall_{f} [forall_{a, b in Integer} ((Sum_{x=a}^{b} f(x)^{2}) = (Sum_{x=-b}^{-a} f(x)^{2}))]"
      ]
     },
     "execution_count": 67,
     "metadata": {},
     "output_type": "execute_result"
    }
   ],
   "source": [
    "# ACTUALLY, this theorem is FALSE, so this is quite annoying\n",
    "# This works for something like x^2 or even 1/x^2 (as we have),\n",
    "# but not more generally for something like (x-1)^2.\n",
    "# In other words, we need f(x) \\in EvenFuncs.\n",
    "from proveit.numbers.summation import even_fxn_sum\n",
    "even_fxn_sum"
   ]
  },
  {
   "cell_type": "code",
   "execution_count": 68,
   "metadata": {},
   "outputs": [
    {
     "data": {
      "text/html": [
       "<strong id=\"_a_sub\">_a_sub:</strong> <a class=\"ProveItLink\" href=\"../../../__pv_it/common/784dee04278eb5ffb26c65868b9ae69e9c68b9da0/expr.ipynb\"><img src=\"data:image/png;base64,iVBORw0KGgoAAAANSUhEUgAAAFkAAAAVBAMAAADfv1+LAAAAMFBMVEX///+qqqqYmJiIiIgQEBBU\n",
       "VFS6urp2dnZERERmZmbc3NzMzMwiIiIyMjLu7u4AAAA/HxW5AAAAAXRSTlMAQObYZgAAAAlwSFlz\n",
       "AAAOxAAADsQBlSsOGwAAANRJREFUKM9jYEABt2CMRxcYCAK+D1AGt/EBwqoZ4SYyElbNVXN9A/Gq\n",
       "GXgFiDSba+aNDQz8D/Co3vMAwV7BwP6NIYWBYUcHECzAVM0XeR9JdRQDgwuDKR+mu5NgDHsk1f4P\n",
       "GOIXTGZ/gKFaGJvqGAaG+A07tWG+qP1ugE81EJzH6n0cqrk/k6KaJ4Cw6rdnQOA0kDcDi9I5Z864\n",
       "nDlzFNNsJuxG43CJOAPXAqJVcxcwMD8gWvWamTPn4HdJPZLV5////4tXdaj/VQXCqViYgRSQhMQG\n",
       "AJR9R+BH+sOgAAAAAElFTkSuQmCC\n",
       "\" style=\"display:inline;vertical-align:middle;\" /></a><br>\n",
       "<strong id=\"_b_sub\">_b_sub:</strong> <a class=\"ProveItLink\" href=\"../../../__pv_it/common/fc88928b08a114ef2e12ee095c5cd52f956d6baa0/expr.ipynb\"><img src=\"data:image/png;base64,iVBORw0KGgoAAAANSUhEUgAAAE4AAAAVBAMAAAAazcUaAAAAMFBMVEX///9UVFRERES6uroQEBCY\n",
       "mJhmZmZ2dnaqqqqIiIjc3NzMzMwiIiIyMjLu7u4AAADL0AOwAAAAAXRSTlMAQObYZgAAAAlwSFlz\n",
       "AAAOxAAADsQBlSsOGwAAAPdJREFUKM9jYEACXAzYAbr4DBzqmCegcDkKsCna84CBYSqKyFssqvjE\n",
       "7gPV8T5AFktF5pjCGPOBalgTkKUckDmdyOoY/JCddwG3uqtIMmwgbzyfmYdNXSGSOt4AYAicZtiO\n",
       "TV0skjqeBgaG9QEMk7Gpa2F4ewYETgPZLAYMDPozpwNJhpwzZ1zOnDmIULcfyTyQuo84/GGCZu9P\n",
       "HOp6kNQxAWPxODB4sKkLQlLHLgDyF18Wmrr6BUAiHUkd9wEGBs7SSDR7Bf0vAsPrMHIUnMYaH+AE\n",
       "eACZF4Y1HYCjKgCZx7QARzplWISa1hRwqdNC5a7EoYxzAQMATkJFH5Q/zUQAAAAASUVORK5CYII=\n",
       "\" style=\"display:inline;vertical-align:middle;\" /></a><br>\n",
       "<strong id=\"_x_sub\">_x_sub:</strong> <a class=\"ProveItLink\" href=\"../../../../../../__pv_it/common/27cc275d44b4f4499fb9ccfb3fab1a98165d2fa60/expr.ipynb\"><img src=\"data:image/png;base64,iVBORw0KGgoAAAANSUhEUgAAAAYAAAAOBAMAAAD+sXAWAAAALVBMVEX///+6urru7u4QEBBERERU\n",
       "VFTc3NyIiIgyMjJmZmaYmJjMzMwiIiJ2dnYAAADXf7CVAAAAAXRSTlMAQObYZgAAAAlwSFlzAAAO\n",
       "xAAADsQBlSsOGwAAAD9JREFUCNdjYLjzmoGB6wEDA2cDAwNPAQND3gYGhnUMDAwhQGzOwMD9jIGB\n",
       "3YCBgSVAgYFvwQUGPqECBq65DAA54ApfLr4OSQAAAABJRU5ErkJggg==\n",
       "\" style=\"display:inline;vertical-align:middle;\" /></a><br>\n",
       "<strong id=\"_f_sub\">_f_sub:</strong> <a class=\"ProveItLink\" href=\"../../../__pv_it/_proof__fail_ineq/08b46910c6aca75108cdda05f6fd780cb098866c0/expr.ipynb\"><img src=\"data:image/png;base64,iVBORw0KGgoAAAANSUhEUgAAADQAAAAqCAMAAADLeogyAAAANlBMVEX///8WFhYNDQ2qqqq6urru\n",
       "7u4QEBBERERUVFTc3NyIiIgyMjJmZmaYmJjMzMwiIiJ2dnYAAACq094dAAAAAXRSTlMAQObYZgAA\n",
       "AAlwSFlzAAAOxAAADsQBlSsOGwAAALxJREFUSMftlMkOwyAMRGnDvvv/f7aRWgUsYYQ5RKqUuYZn\n",
       "GNsTITjKRQmelI0BuNAp/0APhFTBcRFrNQSbvniBzL80AZ8RMWxAxY9bNTPtmiXU0COuWSr4BbNO\n",
       "GuLYYWhIe6q2N9QC5G7K71dBApDXN2g6y2nShQySuMnY1jQM5UCuJyRRx1CgBwVSXZ2Qq3NKsRI5\n",
       "2FjjYZ3/DMRU7jZL1mxAesNS5v/2cCCW1QdiWX0g1qEuEOtj+gXiAx+7CFplX7JYAAAAAElFTkSu\n",
       "QmCC\n",
       "\" style=\"display:inline;vertical-align:middle;\" /></a><br>"
      ],
      "text/plain": [
       "_a_sub: -2^{t - 1} + 1\n",
       "_b_sub: -(e + 1)\n",
       "_x_sub: l\n",
       "_f_sub: l -> (1 / l)"
      ]
     },
     "execution_count": 68,
     "metadata": {},
     "output_type": "execute_result"
    }
   ],
   "source": [
    "_a_sub, _b_sub, _x_sub, _f_sub = (\n",
    "    first_sum_conditions.domain.lower_bound,\n",
    "    first_sum_conditions.domain.upper_bound,\n",
    "    l,\n",
    "    Lambda(l, frac(one, l)))"
   ]
  },
  {
   "cell_type": "code",
   "execution_count": 69,
   "metadata": {},
   "outputs": [
    {
     "data": {
      "text/html": [
       "<strong id=\"even_fxn_sum_inst\">even_fxn_sum_inst:</strong> <span style=\"font-size:20px;\"><a class=\"ProveItLink\" href=\"../../../__pv_it/theorems/f67ffeb951aaff9cc5f02f3801926b572b231a930/expr.ipynb\"><img src=\"data:image/png;base64,iVBORw0KGgoAAAANSUhEUgAAAKwAAAAYBAMAAACVRAuIAAAAMFBMVEX///8QEBAyMjKqqqpUVFRE\n",
       "RESYmJjc3NzMzMwiIiK6urpmZmaIiIh2dnbu7u4AAAAMEBwRAAAAAXRSTlMAQObYZgAAAAlwSFlz\n",
       "AAAOxAAADsQBlSsOGwAAAe1JREFUSMdjYCAZMBVAGXxJDFQE72GMnpPUNNYIzrIkTSPfKjyStZNu\n",
       "4De2uACHzkPr8FmqTMC1HK4PsIoz/2NgYN+t2oApU70pgoHhH25jIbpYHbAayzuBgaGUgfcXhgR7\n",
       "AMP9BVwCDByhQBCOxViILpB+HMa6MzAIYkiwFDAwCvA4vMDpWoguVGN5ImdOghsr/4DBHyPoGf8x\n",
       "sHznPnAPp7EQXSjGcuk8QHKtJwODP0bgskxgYPnBsQ0mXqt/B00BRBfYWL47p8HmFT1ADgQgmI8t\n",
       "gDg/EEic86H6VzZwXADx1eEy3ArgdPIHm67+A/hNBeniEQDG7jcGngUgAQW4VGEC2F1Yk8kUAo4F\n",
       "6WL/DExkf87cAlsjOXPmzKkgVokWWMFWbLq4A7DkSc2ZINCA0PVEmYEf6ig+uAaOraBQZsPq2BQC\n",
       "joXourSAgR8WWIhUAc4ltgzsmHmb+QJDOV5jwbpAuZQTGF8GIJEzKNkBGI08mFm7l4HhHN4IA+vi\n",
       "BUYZmwLDa7CzmAyQja3cvXsnpHQFRiXfJ2jmnb179wR8xkJ0gRPY2TRIMPC5rkMydv7//xCzODcA\n",
       "idnQaP7//78C3kQL1oWaebmuImVeSgCeooYGxoJyCSWAG3tAgXIJJeBhAnbxamdKTK0F6gYAv0eE\n",
       "w3ELTC0AAAAASUVORK5CYII=\n",
       "\" style=\"display:inline;vertical-align:middle;\" /></a> <a class=\"ProveItLink\" href=\"../../../__pv_it/_proof__fail_ineq/a458394d27d51f33be10e9f5ee69ad72eb7a4f9e0/proof.ipynb\" style=\"text-decoration: none\">&nbsp;&#x22A2;&nbsp;&nbsp;</a><a class=\"ProveItLink\" href=\"../../../__pv_it/_proof__fail_ineq/9a9d346e71221d7bd3f8a70830b566111c052f6c0/expr.ipynb\"><img src=\"data:image/png;base64,iVBORw0KGgoAAAANSUhEUgAAAVsAAABLCAMAAADpsNTwAAAANlBMVEX///+/v7+urq7c3Nx2dnZE\n",
       "RESIiIgiIiLMzMyYmJju7u4QEBCqqqpUVFRmZma6uroyMjIAAABMl2BWAAAAAXRSTlMAQObYZgAA\n",
       "AAlwSFlzAAAOxAAADsQBlSsOGwAAB+9JREFUeNrNne2WqyoMhj1bBUFAuP+bPTrUFlAgCfSDH7PW\n",
       "nrHt88YkEKTZw/Acdht+bIxcNrz6G3oyxEYPPzemBqbv6LklVqv8PdsOq6C+8lt6boglXcU7x+ZG\n",
       "2gsTPaNJg3eWHyPWFuILNaGsO6qeia+L9YiEbFH8XW59IV4cIPGL/DVSeC2m++TgFOVliR7GTfo2\n",
       "b7PthdgC3FZe0/RpyoUx7iNi6o06c9IaweuR06T1YcTrm9za9nSRnsQK4rbmes3L/dXjDW0Pd3ia\n",
       "5M8DCYnm1HPce7OTSeuTrh9bzrZPF2kBTokt5C35+T6CiaxtJ9XBtqdJ/GesBLd9vPgw8eiWQZlB\n",
       "gHKC4u3AMTHIN8ZHmPFlz9dZ26oeGfc0ycMH0bfrqUdI/0ajEWPioeutFxBtGwHHxNoBInnzhtR6\n",
       "GKe8325zB9ueJnmAo3NgpGfCmIto2xg4JJYuY5BlPsd+15V31tUIdZCb49fr8UOEUEsP28Ym0S9o\n",
       "YPYL9SyoBQHRtsk9DIgFKOoeVouWxqScMF9MJa8L+cAkm0MuPkI9tRohcp+MbbHAIfHsQLfWf+x8\n",
       "cE9Z27Jq5tY3BeDFuSKTOORsFug56rFxbPNbPPCLWDpYIPg7Kw0TTCa2HSfrJva6qGTa6Q4w0RSb\n",
       "ZMYlhUDPOC/LYmSTbQnAL2IBjLmbumC+BkstXu2zEjE2iJdo/ygxCcMlhUDP6o4BL6meLtIG/CLW\n",
       "DrjRacZcXVa4JKFfgwtYmIt4EHmJSRbcSgGsB2RuCvCLeAXf2KkWXaKmiodeEaGW9gSdw8z1cD2Q\n",
       "SYYEfBJD0+3ftY1/F9GsFKEONr/CsBhPxOip5xca8Ems3Dx8aqxTHrWwVWswewpd9RCBT2Ljpk+Z\n",
       "NmZL/2l1fnZCmKunHirwSWyd+pRtuS6Rq2xWXTAr3J56qMAn8YotKcljST4pQZXZyJeIdVRPPWTg\n",
       "kxg6CVuXGeBcqNdixBW2wR3CXjk9BH46sCceoT6hXKJQjhvT+8oOHK+rLqOK7OTA4XGe1UPgpwN7\n",
       "YgVesmh3d6kA616cKKNKJ7IxAw6OvB40fwOwJ2bwooc7dzczGuAkztK7PKW/WHXWLOC5v6AHy98A\n",
       "7Ikn+Ppm2aNKgGrh+72eOPj0Ho823mPK5i/jwIdkCnqw/A3AnljDsfcb6W4zDOzYyDrX7ZL9Azi4\n",
       "SnqQ/A3Annh2iCdcs6MXlLL+QSJX207wjy3qQfG3AHtii7Gt3KdV6sNGwAPP7CUMvhgp6kHxtwB7\n",
       "Yo4qEbc9qohlD+B5bdZTBLx4KOvB8LcAe+IVV35P+3qQdrxDANb/uVyJsG1FD4K/Bfi0Le7cyl7e\n",
       "0M71MMCRxNwcrzC2ZZ34W4A98epwh0OPlEXaaJoAtfVqYbY1PBg6sa3oxN8C7Ikd0rbX2hE4DACV\n",
       "82yahG8niE78LcCeGD83GVrK1QDz8DW76pdg26pO/C3Anti5f1grcUc5WxijBvtQANT/MLb914m/\n",
       "BdgTE9ZUI6mAaAmx1G8L+RagB8jflBMWom3ZSvkSwgSYdnNTw4LJt6oTfwuwJ8auE440TdrYZ4CX\n",
       "5faVNswaTHTibwH2xGjbLsTCDLQUN++3LZi/BdgTc/T6lvhlHMC5f5lbeW6Ymld04m8B9sQWW5fR\n",
       "92pS0RNPPCO79aEwezWsE38LsCeecVXWTD9YcY0f4YC7IwKzxzj14m8A9sQatWlobk9hwxIYv8yp\n",
       "xgIreIbZGze9+BuAPTHicclxPOp22x5mW32Ja86AlRDiwVNRD46/AdgTI7AzqxcFzIUiXYuP6dtl\n",
       "H6IYeHCV9CD5G4A9sYCH2+33PyVY92Xxk2avMTszzPAJt6AHy98A7Ik38BR8s3oZlUbsiqUL7fRb\n",
       "xfmjFIgzXnk9eH46sCcGn6vZL7fh4NyfloZP4SZRnWrVPF8QLPDgct346cAPYgdsUWBy56kE3KW2\n",
       "OOSSD85HGObgeE4PgZ8O/CDm7mN9XbiJt0wqU0fgi4gzoj31UIFPYu0+1vEjhpl1fIaf67z/IB7R\n",
       "9dRDBT6JmTOfsm18xH23wRThjPkdKUTt2FUPEfgk3pwdvuK4bpMs9oq8KyK23rrqIQKfxKhD2a3D\n",
       "BjdemNgLZCGFIp7P9dVDA34Sc3wvI3LboiW75c9VwVqoL/QmeqSG2fq+nwoJ+EU8vZJ/hePZOgTW\n",
       "tuiOlmWqxFKXNeVQbdSmZDJTxRxxabnTAfhFvAXodY6jdUi5bVGZVt9OS5sdqskLnnBj2aa86fjS\n",
       "fl8JEIAD4uBLmmWOZ+uQYtuiCq29MdRSbCGE/RJpcj3frvFXarnTDhwQmFdFyYvr7rN1SLltUY32\n",
       "ptVDkXRxyM6KJqqQ5aHTPFtQiGrLnWbgkPjVpuLKcc0zfKi0LQLQogbDPvyMG4Vc01yl5U5f4nUF\n",
       "pdu/W3IYsdy2qDetRTexWtdiuq203OlLzM4S/MqR9HOprLXeQbvgj02ycEuBbzKJxUrLnc7EZ364\n",
       "clzXtdX2L51ptcMf7AsztLt04Ky03OlMfB41deVOoLD2L31ppSP0CA6PzhqWzs+Vljudic8zDFeO\n",
       "ZGkBaf/Sl5ZROuBKeB7p3zwiJWauX8vSvrSroemD6um/CXgh5v0aOpi+TkC76fxjDTfqxIrafPq9\n",
       "Q1I3ur+m547YzL9oW02m+paeW2L+g83ct4Zm99/Rc0+8/OB/QsAbHit+R0+GePu5jCubnth+Q09E\n",
       "/D+hPnV3sSTKPwAAAABJRU5ErkJggg==\n",
       "\" style=\"display:inline;vertical-align:middle;\" /></a></span><br>"
      ],
      "text/plain": [
       "even_fxn_sum_inst: {e in {2 .. 2^{t - 1} - 2}} |- (Sum_{l=-2^{t - 1} + 1}^{-(e + 1)} (1 / l)^{2}) = (Sum_{l=e + 1}^{2^{t - 1} - 1} (1 / l)^{2})"
      ]
     },
     "execution_count": 69,
     "metadata": {},
     "output_type": "execute_result"
    }
   ],
   "source": [
    "even_fxn_sum_inst = even_fxn_sum.instantiate({a: _a_sub, b: _b_sub, x: _x_sub, f: _f_sub})"
   ]
  },
  {
   "cell_type": "code",
   "execution_count": 70,
   "metadata": {},
   "outputs": [
    {
     "data": {
      "text/html": [
       "<strong id=\"first_sum_conditions_reversed\">first_sum_conditions_reversed:</strong> <a class=\"ProveItLink\" href=\"../../../__pv_it/_proof__fail_ineq/470501f70769bf6f1f127008e68b9ba9ad84aeb50/expr.ipynb\"><img src=\"data:image/png;base64,iVBORw0KGgoAAAANSUhEUgAAAMsAAAAYBAMAAACmfxSBAAAAMFBMVEX///+qqqq6urru7u4QEBBE\n",
       "RERUVFTc3NyIiIgyMjJmZmaYmJjMzMwiIiJ2dnYAAACPW0xlAAAAAXRSTlMAQObYZgAAAAlwSFlz\n",
       "AAAOxAAADsQBlSsOGwAAAfFJREFUSMdjYKAYcBZAGcw7GWgI7GGME720tEYSzpIlSZ+RAimq626+\n",
       "wWsNuzh2fRyTDEhy1UQCvjkWDCLf/kETlsduy1kswlUrYxgYPuOxBqwpDMTi/oAm9RabJcxZ8zGt\n",
       "YQ9geK/A5MDAEwoE4ZjWQDWBDeSagNcabRijH9MatgIGFgeOBBvcvumHW8PbABFpvXt3AhZrJPBY\n",
       "w/KZge07V8NjYqypPwAW0GzG7ht81rBdYGD7w7P6ACzNzX+B25r9kGCejBJozC+6DAhbAwqLD3hT\n",
       "IcKaVNQSg4FhJRDrHuB5QJQ15xsIW9MCYnlArEEkH28g/s3AoUCUNdcYCFtTL8DAwPMdzD9yFwgC\n",
       "QLZkAs1n/dHxCCS69u5dl7t3r+G2hisAS9qfCzLr7gG4JuZMAQYOB7CcKVzVKWCm5U8gKgkwMGxj\n",
       "IMI3fJOADk8Aa+dFSAEzLX8DcdYwPmAoJ2wNqFjh3wCOa44G5JTGCxQTIMKacwwMzYSteQLE/MoN\n",
       "aAUg0BruCQxWBWjWvIcI2APzMPNPaGq5tWrVBbzWgDWBEjT3OoiAWZABUr7p292AFmhp/tM2gEN3\n",
       "AZC4Bc00////n4DPFogmlPyuF4u/sCEfvCVCVJtW1rRQuxZfiVW0XoC6tjB7YxVmX0ZVe9ifAY0D\n",
       "AD1zkSNH/+6LAAAAAElFTkSuQmCC\n",
       "\" style=\"display:inline;vertical-align:middle;\" /></a><br>"
      ],
      "text/plain": [
       "first_sum_conditions_reversed: l in {e + 1 .. 2^{t - 1} - 1}"
      ]
     },
     "execution_count": 70,
     "metadata": {},
     "output_type": "execute_result"
    }
   ],
   "source": [
    "first_sum_conditions_reversed = even_fxn_sum_inst.rhs.conditions[0]"
   ]
  },
  {
   "cell_type": "code",
   "execution_count": 71,
   "metadata": {},
   "outputs": [
    {
     "data": {
      "text/html": [
       "<strong id=\"fxn_sqrd_eq_one_over_sqr_01\">fxn_sqrd_eq_one_over_sqr_01:</strong> <span style=\"font-size:20px;\"><a class=\"ProveItLink\" href=\"../../../__pv_it/theorems/f67ffeb951aaff9cc5f02f3801926b572b231a930/expr.ipynb\"><img src=\"data:image/png;base64,iVBORw0KGgoAAAANSUhEUgAAAKwAAAAYBAMAAACVRAuIAAAAMFBMVEX///8QEBAyMjKqqqpUVFRE\n",
       "RESYmJjc3NzMzMwiIiK6urpmZmaIiIh2dnbu7u4AAAAMEBwRAAAAAXRSTlMAQObYZgAAAAlwSFlz\n",
       "AAAOxAAADsQBlSsOGwAAAe1JREFUSMdjYCAZMBVAGXxJDFQE72GMnpPUNNYIzrIkTSPfKjyStZNu\n",
       "4De2uACHzkPr8FmqTMC1HK4PsIoz/2NgYN+t2oApU70pgoHhH25jIbpYHbAayzuBgaGUgfcXhgR7\n",
       "AMP9BVwCDByhQBCOxViILpB+HMa6MzAIYkiwFDAwCvA4vMDpWoguVGN5ImdOghsr/4DBHyPoGf8x\n",
       "sHznPnAPp7EQXSjGcuk8QHKtJwODP0bgskxgYPnBsQ0mXqt/B00BRBfYWL47p8HmFT1ADgQgmI8t\n",
       "gDg/EEic86H6VzZwXADx1eEy3ArgdPIHm67+A/hNBeniEQDG7jcGngUgAQW4VGEC2F1Yk8kUAo4F\n",
       "6WL/DExkf87cAlsjOXPmzKkgVokWWMFWbLq4A7DkSc2ZINCA0PVEmYEf6ig+uAaOraBQZsPq2BQC\n",
       "joXourSAgR8WWIhUAc4ltgzsmHmb+QJDOV5jwbpAuZQTGF8GIJEzKNkBGI08mFm7l4HhHN4IA+vi\n",
       "BUYZmwLDa7CzmAyQja3cvXsnpHQFRiXfJ2jmnb179wR8xkJ0gRPY2TRIMPC5rkMydv7//xCzODcA\n",
       "idnQaP7//78C3kQL1oWaebmuImVeSgCeooYGxoJyCSWAG3tAgXIJJeBhAnbxamdKTK0F6gYAv0eE\n",
       "w3ELTC0AAAAASUVORK5CYII=\n",
       "\" style=\"display:inline;vertical-align:middle;\" /></a>, <a class=\"ProveItLink\" href=\"../../../__pv_it/theorems/bb8428576c5e9aef5059458d15ab082fff89783c0/expr.ipynb\"><img src=\"data:image/png;base64,iVBORw0KGgoAAAANSUhEUgAAAQYAAAAYBAMAAADqsE5QAAAAMFBMVEX///+qqqq6urru7u4QEBBE\n",
       "RERUVFTc3NyIiIgyMjJmZmaYmJjMzMwiIiJ2dnYAAACPW0xlAAAAAXRSTlMAQObYZgAAAAlwSFlz\n",
       "AAAOxAAADsQBlSsOGwAAApVJREFUSMdjYCAMOAugDOadDAMF7GGME70D5gZJOEuWbnYaKaBw626+\n",
       "ocgN7PjECwuwynFMMkAVmEhZODTiEGdqABI8qSDL3v5Bk5NHckLVyhgGhs943MBzmZATGB9gEz0L\n",
       "tKQbxGBNABLcH9Ck3yIFVwDDewUmBwaeUCAIx+IGs5WfCbnBEosYc9Z8oBs4QZ7luwAkuCbgdgNb\n",
       "AQOLA0eCDUY4MG2ARRxBN6xG5mjDGP1A+7kXwNzA2wARbb17dwK6G1g+M7B952p4jOEGxgai3eCA\n",
       "zJFAdgODM8wN9QfAgprN2MLhAgPbH57VB2A5ZP4Lkt3AOAG3G2bD3LAfEvOTscUFKJg+YDWZaDdw\n",
       "gZKkXcdibG54BnNDKmp5zMCwEsWM8w2UuYETmHKY7jCcw+YGUNHPAYorD4hSRF7wRjHjGgNlbuAV\n",
       "AEb3BoYmbG4QAVn3EZjBv4PFjtwFggCQWCawlGSeC+LeBaYDrgAswXv37hXfu3cTcLsBoZ+BBWhc\n",
       "fEcfqOhde/euy9271xBuOA/O3hMhYcHAYArXfyoY2bRtDBSGA8gN33CkSRUQ66UCsJwCF4u8CF1h\n",
       "qIVcOeVx8QOHG0BZnRFoAP8GcFnK0YA1XwCTUjNlbmAFqrwH1IDNDVtB+QIYD/zKDWgVE3JZfWvV\n",
       "qgt43cAHSU7MP2EEOuBLAKV/5uVobngPyofroHmTex205A8ywHQD7////yfgcwNbys9sMOMWnECv\n",
       "1IB2cLzegRYXaf7TgHn2Eqx8gAG9WMyyGnfp10B01X0HazkJDuUL6G7AUU7iqPs3EO2GXVjrLHAe\n",
       "34DTDS3UbZWxFuCSKWXAVm2DQb0AVd3AHIBLJhxEmGANUfZl1HVEBQ5xDlAA1SUyMAAAyNK7OkwI\n",
       "2cMAAAAASUVORK5CYII=\n",
       "\" style=\"display:inline;vertical-align:middle;\" /></a> <a class=\"ProveItLink\" href=\"../../../__pv_it/_proof__fail_ineq/68b7e3c1e3a937e061042ca6bfcbd7a63e5201c20/proof.ipynb\" style=\"text-decoration: none\">&nbsp;&#x22A2;&nbsp;&nbsp;</a><a class=\"ProveItLink\" href=\"../../../__pv_it/_proof__fail_ineq/36deac0b086493ce62d8d640916c3fabe4c03c9d0/expr.ipynb\"><img src=\"data:image/png;base64,iVBORw0KGgoAAAANSUhEUgAAAGEAAAA3BAMAAADu/zl6AAAAMFBMVEX///+6urqqqqpmZmbu7u6I\n",
       "iIgiIiIQEBDc3NwyMjJ2dnaYmJhUVFTMzMxEREQAAAC0ii6rAAAAAXRSTlMAQObYZgAAAAlwSFlz\n",
       "AAAOxAAADsQBlSsOGwAAAipJREFUSMeVVjFMwkAUPQO0QEtldcJJRxiMxkkWBxdhYxNi1EUSGIkx\n",
       "SuLiaIwjicwumDAYJ0gcHCSByc2UwThpgkYTEmKq7f27tkevV/7S++1/vfv33/13CHlZ+KaXRTNZ\n",
       "CIVKsyHmk9Hf2RBKdlYEQnH/VWkDGGzTfJ/9M38ig8QeDKKvvgC1Sf+6BK/O0LlHIJ343qzAw7Xp\n",
       "xrt4io+Xleki4RDzc816FC330BrLhjHymKMICCnvcJf9MiaIO6cbywRAHDndubEYEfl2uQ0xQuq6\n",
       "3HRWiNAHLjeXFyIe3a5WEiKO3a4yFiESEzciPBEhIuSfrTpyzelhOESrYq932ri1Bm9cAITIQ/ZH\n",
       "osOWY2nRSQoQel70grX0omhS1joDtvN0BYhinUUMBYgWyzz5wh6vHphWdgdssAhJ1D/7+GGYZp1t\n",
       "qerdWA0DYvrsJw4i4Ko882jVfTL33l22HjK/HliIpiuYEQhRGogXrwA01+ToQ2WAhUi/JXQRMbED\n",
       "QkQXsc6jJnIEmEIkka3Z5xENOQJMPVChYFT4+hyAGWAJkQJNVCHt/4SnpiMQosQXCBWQPPrDU7Ih\n",
       "ESLoNjJsEbfD/QeAEK3BpkLCKo/sOt2RFC5hgZScV46CzVVckPcw1ImnBiSAbtYkjt0yj1QkgKra\n",
       "5ybyVzUIsNfRxgTUuFxv2wyNOcmaCnITS9Qczm6gm9GO4xB0AyFUe1kLAa9fl3SBVwER9Ea2FSDv\n",
       "P7cmo+s183YcAAAAAElFTkSuQmCC\n",
       "\" style=\"display:inline;vertical-align:middle;\" /></a></span><br>"
      ],
      "text/plain": [
       "fxn_sqrd_eq_one_over_sqr_01: {e in {2 .. 2^{t - 1} - 2}, l in {-2^{t - 1} + 1 .. -(e + 1)}} |- (1 / l)^{2} = (1 / l^{2})"
      ]
     },
     "execution_count": 71,
     "metadata": {},
     "output_type": "execute_result"
    }
   ],
   "source": [
    "fxn_sqrd_eq_one_over_sqr_01 = Exp(frac(one, l), two).distribution(assumptions=defaults.assumptions+(first_sum_conditions,))"
   ]
  },
  {
   "cell_type": "code",
   "execution_count": 72,
   "metadata": {},
   "outputs": [
    {
     "data": {
      "text/html": [
       "<span style=\"font-size:20px;\"><a class=\"ProveItLink\" href=\"../../../__pv_it/theorems/f67ffeb951aaff9cc5f02f3801926b572b231a930/expr.ipynb\"><img src=\"data:image/png;base64,iVBORw0KGgoAAAANSUhEUgAAAKwAAAAYBAMAAACVRAuIAAAAMFBMVEX///8QEBAyMjKqqqpUVFRE\n",
       "RESYmJjc3NzMzMwiIiK6urpmZmaIiIh2dnbu7u4AAAAMEBwRAAAAAXRSTlMAQObYZgAAAAlwSFlz\n",
       "AAAOxAAADsQBlSsOGwAAAe1JREFUSMdjYCAZMBVAGXxJDFQE72GMnpPUNNYIzrIkTSPfKjyStZNu\n",
       "4De2uACHzkPr8FmqTMC1HK4PsIoz/2NgYN+t2oApU70pgoHhH25jIbpYHbAayzuBgaGUgfcXhgR7\n",
       "AMP9BVwCDByhQBCOxViILpB+HMa6MzAIYkiwFDAwCvA4vMDpWoguVGN5ImdOghsr/4DBHyPoGf8x\n",
       "sHznPnAPp7EQXSjGcuk8QHKtJwODP0bgskxgYPnBsQ0mXqt/B00BRBfYWL47p8HmFT1ADgQgmI8t\n",
       "gDg/EEic86H6VzZwXADx1eEy3ArgdPIHm67+A/hNBeniEQDG7jcGngUgAQW4VGEC2F1Yk8kUAo4F\n",
       "6WL/DExkf87cAlsjOXPmzKkgVokWWMFWbLq4A7DkSc2ZINCA0PVEmYEf6ig+uAaOraBQZsPq2BQC\n",
       "joXourSAgR8WWIhUAc4ltgzsmHmb+QJDOV5jwbpAuZQTGF8GIJEzKNkBGI08mFm7l4HhHN4IA+vi\n",
       "BUYZmwLDa7CzmAyQja3cvXsnpHQFRiXfJ2jmnb179wR8xkJ0gRPY2TRIMPC5rkMydv7//xCzODcA\n",
       "idnQaP7//78C3kQL1oWaebmuImVeSgCeooYGxoJyCSWAG3tAgXIJJeBhAnbxamdKTK0F6gYAv0eE\n",
       "w3ELTC0AAAAASUVORK5CYII=\n",
       "\" style=\"display:inline;vertical-align:middle;\" /></a>, <a class=\"ProveItLink\" href=\"../../../__pv_it/_proof__fail_ineq/470501f70769bf6f1f127008e68b9ba9ad84aeb50/expr.ipynb\"><img src=\"data:image/png;base64,iVBORw0KGgoAAAANSUhEUgAAAMsAAAAYBAMAAACmfxSBAAAAMFBMVEX///+qqqq6urru7u4QEBBE\n",
       "RERUVFTc3NyIiIgyMjJmZmaYmJjMzMwiIiJ2dnYAAACPW0xlAAAAAXRSTlMAQObYZgAAAAlwSFlz\n",
       "AAAOxAAADsQBlSsOGwAAAfFJREFUSMdjYKAYcBZAGcw7GWgI7GGME720tEYSzpIlSZ+RAimq626+\n",
       "wWsNuzh2fRyTDEhy1UQCvjkWDCLf/kETlsduy1kswlUrYxgYPuOxBqwpDMTi/oAm9RabJcxZ8zGt\n",
       "YQ9geK/A5MDAEwoE4ZjWQDWBDeSagNcabRijH9MatgIGFgeOBBvcvumHW8PbABFpvXt3AhZrJPBY\n",
       "w/KZge07V8NjYqypPwAW0GzG7ht81rBdYGD7w7P6ACzNzX+B25r9kGCejBJozC+6DAhbAwqLD3hT\n",
       "IcKaVNQSg4FhJRDrHuB5QJQ15xsIW9MCYnlArEEkH28g/s3AoUCUNdcYCFtTL8DAwPMdzD9yFwgC\n",
       "QLZkAs1n/dHxCCS69u5dl7t3r+G2hisAS9qfCzLr7gG4JuZMAQYOB7CcKVzVKWCm5U8gKgkwMGxj\n",
       "IMI3fJOADk8Aa+dFSAEzLX8DcdYwPmAoJ2wNqFjh3wCOa44G5JTGCxQTIMKacwwMzYSteQLE/MoN\n",
       "aAUg0BruCQxWBWjWvIcI2APzMPNPaGq5tWrVBbzWgDWBEjT3OoiAWZABUr7p292AFmhp/tM2gEN3\n",
       "AZC4Bc00////n4DPFogmlPyuF4u/sCEfvCVCVJtW1rRQuxZfiVW0XoC6tjB7YxVmX0ZVe9ifAY0D\n",
       "AD1zkSNH/+6LAAAAAElFTkSuQmCC\n",
       "\" style=\"display:inline;vertical-align:middle;\" /></a> <a class=\"ProveItLink\" href=\"../../../__pv_it/_proof__fail_ineq/83dc866854c02f24151b598838a26bb974237b960/proof.ipynb\" style=\"text-decoration: none\">&nbsp;&#x22A2;&nbsp;&nbsp;</a><a class=\"ProveItLink\" href=\"../../../__pv_it/_proof__fail_ineq/585c87c33931f075e16122fdd15ea8febb3d215f0/expr.ipynb\"><img src=\"data:image/png;base64,iVBORw0KGgoAAAANSUhEUgAAAC8AAAAQBAMAAAB0JTvnAAAAMFBMVEX///+qqqq6urru7u4QEBBE\n",
       "RERUVFTc3NyIiIgyMjJmZmaYmJjMzMwiIiJ2dnYAAACPW0xlAAAAAXRSTlMAQObYZgAAAAlwSFlz\n",
       "AAAOxAAADsQBlSsOGwAAAMRJREFUGNNjYEADO13j57puALHe/kGVCShjUNtqAGRwf0CTqGNg5UkA\n",
       "MrgmYEhwFYDEeBsgAq13706ASwQAGfUHwOKazQgdbMYgo/aDueyTkYw6KlkAZKSCuZwFcImSuX/B\n",
       "uj0gEkiW77YE0Tzfwdwjd4EgACLBag3yIIcDWMIUSQfPgmAgzZoA8iUDL7I/1pQCaf4ND0BcjgYk\n",
       "CVMOoFn8yhChiXCJKgbuDUHAoFoH4ZsFGcBCN5whdL4AIoz0Yu8ihxoA5yg2JHzPAFIAAAAASUVO\n",
       "RK5CYII=\n",
       "\" style=\"display:inline;vertical-align:middle;\" /></a></span>"
      ],
      "text/plain": [
       "{e in {2 .. 2^{t - 1} - 2}, l in {e + 1 .. 2^{t - 1} - 1}} |- l in Real"
      ]
     },
     "execution_count": 72,
     "metadata": {},
     "output_type": "execute_result"
    }
   ],
   "source": [
    "# under the reversed index conditions, need to know that ell is still real?\n",
    "InSet(l, Real).prove(assumptions=defaults.assumptions+(first_sum_conditions_reversed,))"
   ]
  },
  {
   "cell_type": "code",
   "execution_count": 73,
   "metadata": {},
   "outputs": [
    {
     "data": {
      "text/html": [
       "<strong id=\"fxn_sqrd_eq_one_over_sqr_02\">fxn_sqrd_eq_one_over_sqr_02:</strong> <span style=\"font-size:20px;\"><a class=\"ProveItLink\" href=\"../../../__pv_it/theorems/f67ffeb951aaff9cc5f02f3801926b572b231a930/expr.ipynb\"><img src=\"data:image/png;base64,iVBORw0KGgoAAAANSUhEUgAAAKwAAAAYBAMAAACVRAuIAAAAMFBMVEX///8QEBAyMjKqqqpUVFRE\n",
       "RESYmJjc3NzMzMwiIiK6urpmZmaIiIh2dnbu7u4AAAAMEBwRAAAAAXRSTlMAQObYZgAAAAlwSFlz\n",
       "AAAOxAAADsQBlSsOGwAAAe1JREFUSMdjYCAZMBVAGXxJDFQE72GMnpPUNNYIzrIkTSPfKjyStZNu\n",
       "4De2uACHzkPr8FmqTMC1HK4PsIoz/2NgYN+t2oApU70pgoHhH25jIbpYHbAayzuBgaGUgfcXhgR7\n",
       "AMP9BVwCDByhQBCOxViILpB+HMa6MzAIYkiwFDAwCvA4vMDpWoguVGN5ImdOghsr/4DBHyPoGf8x\n",
       "sHznPnAPp7EQXSjGcuk8QHKtJwODP0bgskxgYPnBsQ0mXqt/B00BRBfYWL47p8HmFT1ADgQgmI8t\n",
       "gDg/EEic86H6VzZwXADx1eEy3ArgdPIHm67+A/hNBeniEQDG7jcGngUgAQW4VGEC2F1Yk8kUAo4F\n",
       "6WL/DExkf87cAlsjOXPmzKkgVokWWMFWbLq4A7DkSc2ZINCA0PVEmYEf6ig+uAaOraBQZsPq2BQC\n",
       "joXourSAgR8WWIhUAc4ltgzsmHmb+QJDOV5jwbpAuZQTGF8GIJEzKNkBGI08mFm7l4HhHN4IA+vi\n",
       "BUYZmwLDa7CzmAyQja3cvXsnpHQFRiXfJ2jmnb179wR8xkJ0gRPY2TRIMPC5rkMydv7//xCzODcA\n",
       "idnQaP7//78C3kQL1oWaebmuImVeSgCeooYGxoJyCSWAG3tAgXIJJeBhAnbxamdKTK0F6gYAv0eE\n",
       "w3ELTC0AAAAASUVORK5CYII=\n",
       "\" style=\"display:inline;vertical-align:middle;\" /></a>, <a class=\"ProveItLink\" href=\"../../../__pv_it/_proof__fail_ineq/470501f70769bf6f1f127008e68b9ba9ad84aeb50/expr.ipynb\"><img src=\"data:image/png;base64,iVBORw0KGgoAAAANSUhEUgAAAMsAAAAYBAMAAACmfxSBAAAAMFBMVEX///+qqqq6urru7u4QEBBE\n",
       "RERUVFTc3NyIiIgyMjJmZmaYmJjMzMwiIiJ2dnYAAACPW0xlAAAAAXRSTlMAQObYZgAAAAlwSFlz\n",
       "AAAOxAAADsQBlSsOGwAAAfFJREFUSMdjYKAYcBZAGcw7GWgI7GGME720tEYSzpIlSZ+RAimq626+\n",
       "wWsNuzh2fRyTDEhy1UQCvjkWDCLf/kETlsduy1kswlUrYxgYPuOxBqwpDMTi/oAm9RabJcxZ8zGt\n",
       "YQ9geK/A5MDAEwoE4ZjWQDWBDeSagNcabRijH9MatgIGFgeOBBvcvumHW8PbABFpvXt3AhZrJPBY\n",
       "w/KZge07V8NjYqypPwAW0GzG7ht81rBdYGD7w7P6ACzNzX+B25r9kGCejBJozC+6DAhbAwqLD3hT\n",
       "IcKaVNQSg4FhJRDrHuB5QJQ15xsIW9MCYnlArEEkH28g/s3AoUCUNdcYCFtTL8DAwPMdzD9yFwgC\n",
       "QLZkAs1n/dHxCCS69u5dl7t3r+G2hisAS9qfCzLr7gG4JuZMAQYOB7CcKVzVKWCm5U8gKgkwMGxj\n",
       "IMI3fJOADk8Aa+dFSAEzLX8DcdYwPmAoJ2wNqFjh3wCOa44G5JTGCxQTIMKacwwMzYSteQLE/MoN\n",
       "aAUg0BruCQxWBWjWvIcI2APzMPNPaGq5tWrVBbzWgDWBEjT3OoiAWZABUr7p292AFmhp/tM2gEN3\n",
       "AZC4Bc00////n4DPFogmlPyuF4u/sCEfvCVCVJtW1rRQuxZfiVW0XoC6tjB7YxVmX0ZVe9ifAY0D\n",
       "AD1zkSNH/+6LAAAAAElFTkSuQmCC\n",
       "\" style=\"display:inline;vertical-align:middle;\" /></a> <a class=\"ProveItLink\" href=\"../../../__pv_it/_proof__fail_ineq/10a4446cfc71d5a0098e0c53f06cc3d5579d4d780/proof.ipynb\" style=\"text-decoration: none\">&nbsp;&#x22A2;&nbsp;&nbsp;</a><a class=\"ProveItLink\" href=\"../../../__pv_it/_proof__fail_ineq/36deac0b086493ce62d8d640916c3fabe4c03c9d0/expr.ipynb\"><img src=\"data:image/png;base64,iVBORw0KGgoAAAANSUhEUgAAAGEAAAA3BAMAAADu/zl6AAAAMFBMVEX///+6urqqqqpmZmbu7u6I\n",
       "iIgiIiIQEBDc3NwyMjJ2dnaYmJhUVFTMzMxEREQAAAC0ii6rAAAAAXRSTlMAQObYZgAAAAlwSFlz\n",
       "AAAOxAAADsQBlSsOGwAAAipJREFUSMeVVjFMwkAUPQO0QEtldcJJRxiMxkkWBxdhYxNi1EUSGIkx\n",
       "SuLiaIwjicwumDAYJ0gcHCSByc2UwThpgkYTEmKq7f27tkevV/7S++1/vfv33/13CHlZ+KaXRTNZ\n",
       "CIVKsyHmk9Hf2RBKdlYEQnH/VWkDGGzTfJ/9M38ig8QeDKKvvgC1Sf+6BK/O0LlHIJ343qzAw7Xp\n",
       "xrt4io+Xleki4RDzc816FC330BrLhjHymKMICCnvcJf9MiaIO6cbywRAHDndubEYEfl2uQ0xQuq6\n",
       "3HRWiNAHLjeXFyIe3a5WEiKO3a4yFiESEzciPBEhIuSfrTpyzelhOESrYq932ri1Bm9cAITIQ/ZH\n",
       "osOWY2nRSQoQel70grX0omhS1joDtvN0BYhinUUMBYgWyzz5wh6vHphWdgdssAhJ1D/7+GGYZp1t\n",
       "qerdWA0DYvrsJw4i4Ko882jVfTL33l22HjK/HliIpiuYEQhRGogXrwA01+ToQ2WAhUi/JXQRMbED\n",
       "QkQXsc6jJnIEmEIkka3Z5xENOQJMPVChYFT4+hyAGWAJkQJNVCHt/4SnpiMQosQXCBWQPPrDU7Ih\n",
       "ESLoNjJsEbfD/QeAEK3BpkLCKo/sOt2RFC5hgZScV46CzVVckPcw1ImnBiSAbtYkjt0yj1QkgKra\n",
       "5ybyVzUIsNfRxgTUuFxv2wyNOcmaCnITS9Qczm6gm9GO4xB0AyFUe1kLAa9fl3SBVwER9Ea2FSDv\n",
       "P7cmo+s183YcAAAAAElFTkSuQmCC\n",
       "\" style=\"display:inline;vertical-align:middle;\" /></a></span><br>"
      ],
      "text/plain": [
       "fxn_sqrd_eq_one_over_sqr_02: {e in {2 .. 2^{t - 1} - 2}, l in {e + 1 .. 2^{t - 1} - 1}} |- (1 / l)^{2} = (1 / l^{2})"
      ]
     },
     "execution_count": 73,
     "metadata": {},
     "output_type": "execute_result"
    }
   ],
   "source": [
    "# and under the reversed index conditions, need to know the substitution works\n",
    "fxn_sqrd_eq_one_over_sqr_02 = Exp(frac(one, l), two).distribution(assumptions=defaults.assumptions+(first_sum_conditions_reversed,))"
   ]
  },
  {
   "cell_type": "code",
   "execution_count": 74,
   "metadata": {},
   "outputs": [
    {
     "data": {
      "text/html": [
       "<strong id=\"even_fxn_sum_inst_sub_lhs\">even_fxn_sum_inst_sub_lhs:</strong> <span style=\"font-size:20px;\"><a class=\"ProveItLink\" href=\"../../../__pv_it/theorems/f67ffeb951aaff9cc5f02f3801926b572b231a930/expr.ipynb\"><img src=\"data:image/png;base64,iVBORw0KGgoAAAANSUhEUgAAAKwAAAAYBAMAAACVRAuIAAAAMFBMVEX///8QEBAyMjKqqqpUVFRE\n",
       "RESYmJjc3NzMzMwiIiK6urpmZmaIiIh2dnbu7u4AAAAMEBwRAAAAAXRSTlMAQObYZgAAAAlwSFlz\n",
       "AAAOxAAADsQBlSsOGwAAAe1JREFUSMdjYCAZMBVAGXxJDFQE72GMnpPUNNYIzrIkTSPfKjyStZNu\n",
       "4De2uACHzkPr8FmqTMC1HK4PsIoz/2NgYN+t2oApU70pgoHhH25jIbpYHbAayzuBgaGUgfcXhgR7\n",
       "AMP9BVwCDByhQBCOxViILpB+HMa6MzAIYkiwFDAwCvA4vMDpWoguVGN5ImdOghsr/4DBHyPoGf8x\n",
       "sHznPnAPp7EQXSjGcuk8QHKtJwODP0bgskxgYPnBsQ0mXqt/B00BRBfYWL47p8HmFT1ADgQgmI8t\n",
       "gDg/EEic86H6VzZwXADx1eEy3ArgdPIHm67+A/hNBeniEQDG7jcGngUgAQW4VGEC2F1Yk8kUAo4F\n",
       "6WL/DExkf87cAlsjOXPmzKkgVokWWMFWbLq4A7DkSc2ZINCA0PVEmYEf6ig+uAaOraBQZsPq2BQC\n",
       "joXourSAgR8WWIhUAc4ltgzsmHmb+QJDOV5jwbpAuZQTGF8GIJEzKNkBGI08mFm7l4HhHN4IA+vi\n",
       "BUYZmwLDa7CzmAyQja3cvXsnpHQFRiXfJ2jmnb179wR8xkJ0gRPY2TRIMPC5rkMydv7//xCzODcA\n",
       "idnQaP7//78C3kQL1oWaebmuImVeSgCeooYGxoJyCSWAG3tAgXIJJeBhAnbxamdKTK0F6gYAv0eE\n",
       "w3ELTC0AAAAASUVORK5CYII=\n",
       "\" style=\"display:inline;vertical-align:middle;\" /></a> <a class=\"ProveItLink\" href=\"../../../__pv_it/_proof__fail_ineq/6e3461f6d88fe7656951c9df7ef64665e451bcd00/proof.ipynb\" style=\"text-decoration: none\">&nbsp;&#x22A2;&nbsp;&nbsp;</a><a class=\"ProveItLink\" href=\"../../../__pv_it/_proof__fail_ineq/cb82f22b7ee53d593c065eaa5b7868a0b21437f70/expr.ipynb\"><img src=\"data:image/png;base64,iVBORw0KGgoAAAANSUhEUgAAATgAAABLCAMAAADTYGuDAAAANlBMVEX///+/v7+urq7c3Nx2dnZE\n",
       "RESIiIgiIiLMzMyYmJju7u4QEBCqqqpUVFRmZma6uroyMjIAAABMl2BWAAAAAXRSTlMAQObYZgAA\n",
       "AAlwSFlzAAAOxAAADsQBlSsOGwAAB79JREFUeNrFnOvWnCoMhqdb5CgI93+z2/MoEEiUz/FH12rr\n",
       "6MObEEIEPp/j8uPn1asT+sGv36aFgZ19G4Q9eOP7tBDwYPTrIEbd/eUvaPPA+n4j7l9j6O79MKLt\n",
       "XNypev0WsPUYO9fayYkgtr/XgIhWRe+Vg/gjh0yAZUDEWgXfo9XaFEcMt2G4gx/RcuHix/yVcAmw\n",
       "RzicTkPjrpPkXKy+zGggvbg1oq60mjFrZ4XSh+SE24376IqAB4zDufSer+MO2wO9JvoOp8PvtLPZ\n",
       "3PRe7ddAt14jINxhXHpE3Q2UAnvMI8X+GMUVKBwj9r3e3HC47V2zfl2Qn8F9FKarDjeF2w2UAqPs\n",
       "3m39Q8gpRoLCDY7qPQM9wm20Sq/CdU51kXOZnAHvCrcbKAW2AdHBxlUlaz8dgz1upI6TgRx4LrSM\n",
       "IMZd4XYDJcA6AK2V/X5NFh1WNzNODTO4m//ZzH+oM5TsyTJIYsQ500rK8HlXuKuBTsAK1V02SS4p\n",
       "4POuOuWUxIH4TFtJdC+Gh4TrE8Pp9KknA52A+4Ay2/rafsZmoHCcPEoG4vBwop1nDF33zONsZsaU\n",
       "+PHFQAewDjgXXs2mHVdcR8J1zAfGvzfBPpB2rZ7WV0+0XS+ldPqRcJbl2KI7rwY6gBWys2SS2z71\n",
       "8mIG7Xzq3JzWV0+0JswXOuk/jHt+ms+zXeogkYEOYBuQpS3XQTOHwi2xSmn4oI2raFqUmKYD2MSp\n",
       "B0cGOoAN2mis1i1UrVEZ4T4hUGYbeFpM2OYQW6lutQFjQ9xy78P/zwrnKT5Eoa13ewOzeTg92ICH\n",
       "0H9eu3LCOcp8tSmtYTBboVa4ATtqItVaOEXRoiVtBBP91Vt4fOpXxxt+K5ykZHItaYUtsQ1g6N2A\n",
       "DXXO01o4HQjxviGtjB4VsWkwgmzA2EHNB+DiD4WbCPBiQLQ36Kwps8FF1gW4w9p7CFEDdTdyO+U4\n",
       "5qlwAt/9QNobdMaW2RQ4PCzAA3p8tyF3qxKUqJMVzuOdFqYl08mgymw6KLDz8fl2dOIuQsiNNI4w\n",
       "KLKcFS1+pCzQUul4jJKwGQsaic23o9stp+6gUFMx6IVT3/FpOcIFixe+b0UXFe0zbGCQW4Atnnoy\n",
       "Usj2+4ffshne6Uu0RDrT17lKwH0glB770HLG8+UQeADXiE7X262gueAC7CnC6WmYcs2F4/iBuUhL\n",
       "okN8oAJvWYAFaQ4zTt2h+URD4TPgMi2FDvF5DXTKBdjQJn9syoz074Sr0BLoFCLrhgLqJhztK8GU\n",
       "ovvGwg0U4XgjOo5YKQUN4cMqHG1MnAMJ+1vhnDhdNhJONaJjiJmm8QXgQBQundw8vka8x1Vp0XQO\n",
       "IZwQBWB6sHetw5zEF8/rtFg6izCWMAXgEP4j17HCjTVGcdXi9F//KML914juKlweDBLu3yocOb3o\n",
       "GmfBsccVYhyCFkn3pKvKm8Jx07UW7tOsq2LpGGJUhQYHeWdUnUNj45LxSElHVCM6jrgPKo+Mt4ST\n",
       "j6YO59WNfyEcmg6VALuCcIKcx/En3nVZ3UgXTlTzOCwdYvWuhlLCBdhTZw63J/lMTEa+rG482kCY\n",
       "5PNGdEkBeOVDTfIX4J42D+gffA9WIV7duP87oazEWtGl/VAFZB1gAbakOpHLr0pG/tjvpo3jNKGQ\n",
       "6VrRCQ/xVaezCzChbj0vtsiWWJHCbUtckjVyhOp9kZZGZw3AV59cLMAEamCoH5ARauuh6fJTh3f6\n",
       "Ei2RTsUZcBxB4OL6Aqzw/SS7gUijm72GkMzy0x4/PhVoqXRJ4hKHuA7EWoBH9JCWGeq7weJrJcsG\n",
       "stzyU8J6EJiWThent/EGN/iD9AKM/pI/3e7PlxDrSkX0kLi0LLf8lLAeBKal0zmT4TsLKeA0XC7T\n",
       "P9zM00GrM5AJtATfQ1mSCdHeoBuvKXDCBweQFViEd3a3cwN6EWH1SUta4Up8CjTnBmzDO3ujewus\n",
       "dB0pHzFa0l6lifmEhV3Vr9mce0W4qcUMSCcJc5emtJelrBFfYSnrBjw2/2oFCDdqDjgRodzSlPbi\n",
       "chFfbwteP6w1gPCKcMoxKGwRvmC0pfUM4hsLUDuwoJ/F0PLYBU3bzBXRaosTMr+vXILVYjHUgdk3\n",
       "3lYwjiok8tgF1C74IZDOXmHR6DAUX5EcGhCHK2BWVTpL5gAeT+R1jLkKWTl2oUb7IMRdaZeXletM\n",
       "35blUWz256NHAZ92+ZQxjipk+diFKm2UhhOHwuv9Ykz7RenQgCTMZcwmi0cyfAHcd8ojiunlXoWs\n",
       "HLtAEk4G4ilJ7jJB03Mr3LGhV1UPDUidMt3oW9TtBPzd85tipL1ffGrHLpCE49RvP9ct1WlsqRwa\n",
       "8HwGdAI2BhXiFr1nhSrHLpBoPfn8DGOKIa5yaMDzFMacRRwhjGhbey3tINNK+tInfp6uilFHfaRy\n",
       "aMDT6wq8d9sUI83f6pvgKbQ20BPAc1QMyUFYlUMDnl5X4H2xWCifx4XcBE+g1eHGAXrnpW2Ox8NZ\n",
       "5dCAh1cEvH96TTGigRi1CZ5Ay++cIKfx3bv5VtwYmIeGK94ItMbdo8fSNi/8JMCi4fJU9wcK/B3t\n",
       "Q5MNoXsfQ9+tSv6EFgB2/fsc9vY7f0ELAYvXTxcdHywlFj84CxUAlq+fECsefHeRvzjPFgAeX44b\n",
       "+tH3qvH9KHcB/h+SA2tTD7v6DwAAAABJRU5ErkJggg==\n",
       "\" style=\"display:inline;vertical-align:middle;\" /></a></span><br>"
      ],
      "text/plain": [
       "even_fxn_sum_inst_sub_lhs: {e in {2 .. 2^{t - 1} - 2}} |- (Sum_{l=-2^{t - 1} + 1}^{-(e + 1)} (1 / l^{2})) = (Sum_{l=e + 1}^{2^{t - 1} - 1} (1 / l)^{2})"
      ]
     },
     "execution_count": 74,
     "metadata": {},
     "output_type": "execute_result"
    }
   ],
   "source": [
    "even_fxn_sum_inst_sub_lhs = even_fxn_sum_inst.inner_expr().lhs.summand.substitute(\n",
    "    fxn_sqrd_eq_one_over_sqr_01,\n",
    "    assumptions=defaults.assumptions+(first_sum_conditions,))"
   ]
  },
  {
   "cell_type": "code",
   "execution_count": 75,
   "metadata": {},
   "outputs": [
    {
     "data": {
      "text/html": [
       "<strong id=\"even_fxn_sum_inst_sub_lhs_rhs\">even_fxn_sum_inst_sub_lhs_rhs:</strong> <span style=\"font-size:20px;\"><a class=\"ProveItLink\" href=\"../../../__pv_it/theorems/f67ffeb951aaff9cc5f02f3801926b572b231a930/expr.ipynb\"><img src=\"data:image/png;base64,iVBORw0KGgoAAAANSUhEUgAAAKwAAAAYBAMAAACVRAuIAAAAMFBMVEX///8QEBAyMjKqqqpUVFRE\n",
       "RESYmJjc3NzMzMwiIiK6urpmZmaIiIh2dnbu7u4AAAAMEBwRAAAAAXRSTlMAQObYZgAAAAlwSFlz\n",
       "AAAOxAAADsQBlSsOGwAAAe1JREFUSMdjYCAZMBVAGXxJDFQE72GMnpPUNNYIzrIkTSPfKjyStZNu\n",
       "4De2uACHzkPr8FmqTMC1HK4PsIoz/2NgYN+t2oApU70pgoHhH25jIbpYHbAayzuBgaGUgfcXhgR7\n",
       "AMP9BVwCDByhQBCOxViILpB+HMa6MzAIYkiwFDAwCvA4vMDpWoguVGN5ImdOghsr/4DBHyPoGf8x\n",
       "sHznPnAPp7EQXSjGcuk8QHKtJwODP0bgskxgYPnBsQ0mXqt/B00BRBfYWL47p8HmFT1ADgQgmI8t\n",
       "gDg/EEic86H6VzZwXADx1eEy3ArgdPIHm67+A/hNBeniEQDG7jcGngUgAQW4VGEC2F1Yk8kUAo4F\n",
       "6WL/DExkf87cAlsjOXPmzKkgVokWWMFWbLq4A7DkSc2ZINCA0PVEmYEf6ig+uAaOraBQZsPq2BQC\n",
       "joXourSAgR8WWIhUAc4ltgzsmHmb+QJDOV5jwbpAuZQTGF8GIJEzKNkBGI08mFm7l4HhHN4IA+vi\n",
       "BUYZmwLDa7CzmAyQja3cvXsnpHQFRiXfJ2jmnb179wR8xkJ0gRPY2TRIMPC5rkMydv7//xCzODcA\n",
       "idnQaP7//78C3kQL1oWaebmuImVeSgCeooYGxoJyCSWAG3tAgXIJJeBhAnbxamdKTK0F6gYAv0eE\n",
       "w3ELTC0AAAAASUVORK5CYII=\n",
       "\" style=\"display:inline;vertical-align:middle;\" /></a> <a class=\"ProveItLink\" href=\"../../../__pv_it/_proof__fail_ineq/e80ce1f17c60b390c4a0531d5b8bdc52bc54bcfd0/proof.ipynb\" style=\"text-decoration: none\">&nbsp;&#x22A2;&nbsp;&nbsp;</a><a class=\"ProveItLink\" href=\"../../../__pv_it/_proof__fail_ineq/7f03adcf2456ae11f5a2942c501ec344a202a09a0/expr.ipynb\"><img src=\"data:image/png;base64,iVBORw0KGgoAAAANSUhEUgAAARYAAABLCAMAAACC9FjgAAAANlBMVEX///+/v7+urq7c3Nx2dnZE\n",
       "RESIiIgiIiLMzMyYmJju7u4QEBCqqqpUVFRmZma6uroyMjIAAABMl2BWAAAAAXRSTlMAQObYZgAA\n",
       "AAlwSFlzAAAOxAAADsQBlSsOGwAABnZJREFUeNrFnOmWpCAMhZ0R2RSU93/ZcS8LWXIRa/jR53S3\n",
       "VXxeQhKQ2DRnm8bmp60V+sGnq9NGcKxpftzYgx5foA3iDL3+tSxNr0o/+QptAEeXI5a30bVlH/Ro\n",
       "W+tPiE7XwTETaZAyt8FBENOVyeLRKq9fOZS5rRuOdBQPpqIXabWBWtDNuaEE36PlwvpfUybLDWei\n",
       "GIu++aRDBcm52OyQYSCdKIpCG61mzJjl/u9fEpTlGDsyzkAyFnu76GN0w/6FkwbHneOqHLTLoNi5\n",
       "Xz1tDmZrY0yWc+zIOBNp0MQ+RoqrqCwMnBVdX2Ase1+LOq2TzWAbRZpEg4BwaGPWroOihZx9U1SW\n",
       "waIjP+CeZadVepOltar17KIPDk9eli8c4yimP64iGNO0LG4tIxpb3ITK8kXLEOeUl+WKo13sXmR3\n",
       "tHk4htVGequGBcsuf+2XH+rao+zgm5RgznKllVDIIchywVE0Q97u+CvleT6J5hwKDF5X2lza9jWs\n",
       "JFkuOJ2jSb5+abdAsagsHI4sDnS6F9olu23bqtbywdGOOD9XybXlimtPlpZNjvHzmsTw3Y2+w2bR\n",
       "hbbtpJRWP5HlznPiKKoZ33O1myPRXTIdtNPdMDk2iy60vVsaPYc9xy7Fc+IYR926sG0ky41fcetU\n",
       "3+MtFIvotJR25zlxerrgTJcumuKyNM4h0QSgLZLlwCG7lvXiR/8OyzIh4w/RFsmy4wyua37WQrJY\n",
       "ZF1UmTbAs+NYNHGoLYtC7rQybYBnx5nK9jzqySKRzKUybTAE9JsPk/9XFg0E2dq0AZ4dhxoIJhdp\n",
       "/KEsMwH9VmO0hXThyCiXlTlxrAbn4et25GZOqfqnsgj6xIjSFtKFeFacgRzxjAtdqgQy24OyTHSD\n",
       "i9OW0YUTBr78g5xkCudCT5gsEEhY6BGIoUeXBG0RXYhnxWH08ChnQ1WUNUHU3marnoy6B11Dl7Wr\n",
       "SBfmWXEMnWkeKxd84PXwyRujG2yKthbditM5YOOoc3Vz74ND0AHs63QrzoTIomfXbqvLwunBLElb\n",
       "iW7FEVA2Pc6GWj0pVvR8Lk1bh27F6bFFBpszAf3/ZMnQVqHbZcF2X+d0cqosy4DIwl+nGzZZME+9\n",
       "TGD2rixWXJrxZFGv0604DpTlnmY/biPdWrK0FejGTRbUSdna7kXSty3ztM/pVhzn/qKfE67gnIG/\n",
       "sr386w8iy986dDmcgpDWVs7pfGtJ+BYC7WM6WSgL79vasjTVJtFzOlkSiRaXVHk7b0QCtHqdbiyS\n",
       "RT5KJM+DXS/JAtJFcQSct/AnQ3Ec7CqURWTzFl4HZ0Kz3OLFGBOzfR8Hu75zDWCpyGvRpXE6LCvs\n",
       "Hjy9Uu5zsOv778DGAqtGl8Qx0FrcBk8fEaeznY5x8lfywDaUrUaXxAF2DGchg8FPEWUR2wS4nSkB\n",
       "9k2TtCBdEgdgigS/gegZdmO9H+yydINN0YJ0aRxFt+DgUXRNvim1xpvAwa6O7vUTtChdGmckh4FA\n",
       "8GsHQ1+xroUGoYNdwHPlOC1Ml8YhP1WcL5+uTYjtkBY5jKzcoYNdwHPlOC1Ml8FxxKIeG3vKS0wH\n",
       "ZbQf5DhUjBamy+EI95saRR73fcBT7Gq0ORzjflN31pnIGbIR2X6tRpvD4S88+QnapmrCGSp0ArUa\n",
       "bQ5nrL6TH+EYNY8YALDorUabw4EOIz1oyrKYuwD2XqvRZnFEQX1ppVrS7UahQ/8erTY0mfIFeT4O\n",
       "+3ixXCfnrg2tlpTEMjio0pt5PneYcvspK1++IM/HGS9c6U7OXZt0LSnGYrD9tNFT0aZ3Gj53RpTl\n",
       "g3M5L57u5LNrk6wlxVjQ0+re9WK8m3SqmJL+9faTfIt0snTs2qRrSSEW6cC3JdivpYJe7sKe1VQq\n",
       "W0xJx/lUXK2dfPcS2OxrMrWkEAtHd8y/y9Xusz5TTAng9D3NtZy7NulaUohlgit++z7pWjLFlAAO\n",
       "PxYaAdfilftlAjHMIvEDBvy6LBKj9sw7U0yJ4BwTau0kNYlI1YEIi3F4vnP1Ru72uotMMSWCw/bf\n",
       "XOadGrTqQIBFu4LX07ALu+XjbUMuWUyJ4Ojddu6d+NGLUh0IsPCSN7ho+sTr0PnZer9XPLECsPRF\n",
       "62E6Lfj1NxxR8eCXfeH+3qNN4gyubX7edOme0ju0IRzb/V4WU9znK7RBHPHzd2aNDw65vUAbxpE/\n",
       "f8OaeLBb/QJtBGf8sXfRj/bwq9N+4fwDh/1hLx3JDNIAAAAASUVORK5CYII=\n",
       "\" style=\"display:inline;vertical-align:middle;\" /></a></span><br>"
      ],
      "text/plain": [
       "even_fxn_sum_inst_sub_lhs_rhs: {e in {2 .. 2^{t - 1} - 2}} |- (Sum_{l=-2^{t - 1} + 1}^{-(e + 1)} (1 / l^{2})) = (Sum_{l=e + 1}^{2^{t - 1} - 1} (1 / l^{2}))"
      ]
     },
     "execution_count": 75,
     "metadata": {},
     "output_type": "execute_result"
    }
   ],
   "source": [
    "even_fxn_sum_inst_sub_lhs_rhs = even_fxn_sum_inst_sub_lhs.inner_expr().rhs.summand.substitute(\n",
    "    fxn_sqrd_eq_one_over_sqr_02,\n",
    "    assumptions=defaults.assumptions+(first_sum_conditions_reversed,))"
   ]
  },
  {
   "cell_type": "code",
   "execution_count": 76,
   "metadata": {},
   "outputs": [
    {
     "data": {
      "text/html": [
       "<strong id=\"fail_ineq_lemma_inst_bound_05\">fail_ineq_lemma_inst_bound_05:</strong> <span style=\"font-size:20px;\"><a class=\"ProveItLink\" href=\"../../../__pv_it/theorems/f67ffeb951aaff9cc5f02f3801926b572b231a930/expr.ipynb\"><img src=\"data:image/png;base64,iVBORw0KGgoAAAANSUhEUgAAAKwAAAAYBAMAAACVRAuIAAAAMFBMVEX///8QEBAyMjKqqqpUVFRE\n",
       "RESYmJjc3NzMzMwiIiK6urpmZmaIiIh2dnbu7u4AAAAMEBwRAAAAAXRSTlMAQObYZgAAAAlwSFlz\n",
       "AAAOxAAADsQBlSsOGwAAAe1JREFUSMdjYCAZMBVAGXxJDFQE72GMnpPUNNYIzrIkTSPfKjyStZNu\n",
       "4De2uACHzkPr8FmqTMC1HK4PsIoz/2NgYN+t2oApU70pgoHhH25jIbpYHbAayzuBgaGUgfcXhgR7\n",
       "AMP9BVwCDByhQBCOxViILpB+HMa6MzAIYkiwFDAwCvA4vMDpWoguVGN5ImdOghsr/4DBHyPoGf8x\n",
       "sHznPnAPp7EQXSjGcuk8QHKtJwODP0bgskxgYPnBsQ0mXqt/B00BRBfYWL47p8HmFT1ADgQgmI8t\n",
       "gDg/EEic86H6VzZwXADx1eEy3ArgdPIHm67+A/hNBeniEQDG7jcGngUgAQW4VGEC2F1Yk8kUAo4F\n",
       "6WL/DExkf87cAlsjOXPmzKkgVokWWMFWbLq4A7DkSc2ZINCA0PVEmYEf6ig+uAaOraBQZsPq2BQC\n",
       "joXourSAgR8WWIhUAc4ltgzsmHmb+QJDOV5jwbpAuZQTGF8GIJEzKNkBGI08mFm7l4HhHN4IA+vi\n",
       "BUYZmwLDa7CzmAyQja3cvXsnpHQFRiXfJ2jmnb179wR8xkJ0gRPY2TRIMPC5rkMydv7//xCzODcA\n",
       "idnQaP7//78C3kQL1oWaebmuImVeSgCeooYGxoJyCSWAG3tAgXIJJeBhAnbxamdKTK0F6gYAv0eE\n",
       "w3ELTC0AAAAASUVORK5CYII=\n",
       "\" style=\"display:inline;vertical-align:middle;\" /></a> <a class=\"ProveItLink\" href=\"../../../__pv_it/_proof__fail_ineq/a102f93319580eb3fdd8ea4d5455d17fb60490250/proof.ipynb\" style=\"text-decoration: none\">&nbsp;&#x22A2;&nbsp;&nbsp;</a><a class=\"ProveItLink\" href=\"../../../__pv_it/_proof__fail_ineq/f89b15fc2576858d806b7db9c510f7f5999468f60/expr.ipynb\"><img src=\"data:image/png;base64,iVBORw0KGgoAAAANSUhEUgAAA74AAABMBAMAAAC44na9AAAAMFBMVEX////c3Nx2dnZERESIiIgi\n",
       "IiLMzMyYmJju7u4QEBCqqqpUVFRmZma6uroyMjIAAADVePneAAAAAXRSTlMAQObYZgAAAAlwSFlz\n",
       "AAAOxAAADsQBlSsOGwAAEqBJREFUeNrFXWtsHFcVvrvex3h37V1oKyQUyAoRWhGJOApvfmRBVG2p\n",
       "UCxESqANtoCAQJW8iEcLlGZ5VhVQG6hEKopsIfqjKooNBdEShE3aqAhCYh5SW/EjBoSgPBrbSZzY\n",
       "rj3M88y9Z865c8c7a640yeezs3O++5373pk7Qrjpv4JO/42BnqfcId2nPeJxTYcF6XgMzmNg7Lqr\n",
       "/IJqceCk2gz9LbBzJ/Qi7dZ81ise+RkWpOPx2xgwdt1dfnfzQIiHmTIE9oc72xff/jb/Wc94fIcH\n",
       "aXhUjmGQwnVX+QXV4kBYjAuwW9/ZvvCKgSX2o97xONdgQRoe97YxSOG6q/yCanEgqgv0d8BOnFBB\n",
       "rArZaf0o+4nEIzcXgKsyqdLVIRboeajplwiYsNQ4Cv3sCDP9RgPV4mCMGQuAnTjh8/If9zg85jKL\n",
       "784p7hOJR7nl/196KJP45tZYoOehpNIGAiYsNY5CP58M/v7YIQPV4uB55ivPC/YEC0ZeLvu3Dwvx\n",
       "h8zi2zcskggJcf1vAlDMpkt+HQ+0PNTR8wICRixfl+SncFsYqUMGqsVAZYMZLGwI9oRaWIL7vBOc\n",
       "Kw1mNvQpXRR6Ql/c/ZgoimzjO9ZiAS8MTtPzEuBY3rPAuab8WK840RFQ4A/xVwHVYmCQqS9gJ05w\n",
       "iFvX3iDHNz+VWQV+k9ATmhOnxH1Or3T69On5rOLbN8ECXhic/i4DhqXX2NGuKT81URu2FkTOucrv\n",
       "pPjGrxKphgFXfnQl+eVCfGW0Kse3kl0HPD2lJ7Qhdo7+sJxt/a2ssYAXRluFOJaVYc415ac+n1up\n",
       "zLVj9Td2lUg1DGYZhcBOnPBHIU7krpXjOzCUWXzrC3pCdzrK7fh4IOVNr87G6SYPWGHwcPeKDDiW\n",
       "8chsavyUO7mV3FPBZOVD35rirwKqIWBdYCZfFzDwmO5z0l7xiBAPfrYjntj3pn372p6zUnbxra7o\n",
       "CQmxK/sZ8OwoC3geahofUgHNMh4ZxlHgJz9sdhVQDYEy0zyAnTrhg0IsqeOrDNvngWU9IVE61IMV\n",
       "jiYLWB4oHZ1SAMMyHhnGUeDnSMfsKqAaAn1XmBHHFQzU8dWbRV6Ob6GVndarekIZrWmg5m2CBSwP\n",
       "lPZ3FIBZftBt+hpUyzqh8YPXNNirRKqpYJwZDYKdOqGvIb5+w41BfHOvWW65lszS/lEtodxcrpF5\n",
       "fPtWWMDxwO3pJQVwLOORYRz5fnaIF5ldJVJNBUeD1gG3A6E9AnJj0JTnv276kvH0NrlxPUA2WMDj\n",
       "qg/fnrYCH0n8QmGZBQwPnJHysgI4lhAZ4MQ48vzkXv/hX2uvErEA1VQw603KrV+cR2xm5zGQ06+k\n",
       "9SvFkJS+duZK8mIDOYAGHpO2nS668cwRxW6TBTSPWEaqGwpgWHqNncqJceT56bftRc1VZBagmgom\n",
       "w2AjCSZjQE55dHbZ9PdsUUiOb508ZbKL1vdAcoW3OyygeeCM9C9iYMqJdjSZUk5QTQHQayAJUG8S\n",
       "S4iSJTKM7+CGrnvrUXzPz7OA5oEzoh2waDmRjgzzG7EA1RRQuUBLAPbKhWwHMgbxrVEr0F3xMIjv\n",
       "2RYLaB44I9NDGJhyIh0Z5jdiAaopoLZMSwD22vK2x7dMZa0rHgbxPTrEApoHzsjZJgamnEhHhvmN\n",
       "WIBqChhcoyUA++Datse3RE2Au+JhEN+xCRbQPHBGzk9hYMqJdGSY34gFqKaA/hVaArD3r2x7fC1q\n",
       "5NkVD4P4ji+ygOaBMzI5ioEpJ9KRYX4jFqCaAmCwhSSIj8bksmVLqZV5fIU9qh1Un5e8X8wqvvUV\n",
       "FtA8cEbIcbeGasSJdCTrrtFbYgGqyWDnIi0B2HcShatiB4y+8KfH7Yns4ztCtHASj+kgA9bLbp5c\n",
       "zSq+xTUW0DxQRnI2BglUI06kI1l3jd4SC1BNBtPDtARgn6ZG+7PR4P1Ta9nH9zzRJkg8qjbg8shU\n",
       "RvEdvMgCmgfKSOUSBglUI06kI0V3Xm+JBagmgwMLtASRnVpMKtrRnddPZB/fWWIEKvMYWY+GmUMZ\n",
       "xbe6zAKaB8pIYRODBKoRJ9KRojuvt8QCVJPBntDpHnU1PLJTApbsyxHtdIv9+aXkc84S9+3LPMbs\n",
       "6P5io4XRPckca+ssoHmgjOQvYJBANeJEOlJ05/WWWIBqMpgN8InJfyv3ZIf2CKily468tNOEt/r4\n",
       "5s+Sw0G0GTKPgh3lqmzgFGeOLHebLCB54IxU1zHQU5U4kY5U3Tm9ZRagmgz2z9HZBTt9Qp89LHqX\n",
       "9gxrCHl/XMrcZ/4SC3gesiIvYGBMlXSk+jHRG1STwXmGLtjpE6zJF3oY3wMTGkJuuteey9pnYZUF\n",
       "Xjre0OnhDJJewMCYamFVJOTXSG9QTQYjzGIa2JkTztlTvYvvUZgbPB0n5KYBey1rn2WbBd6w9dd6\n",
       "PURxGQNjqpIjJr9GeoNqMphk6IKdOSFvH9uO+P4gTshveVY72xrf668Tej1E/zIGxlQlR1x+TfSm\n",
       "48ssP4GdO+H8Zu/iO03Ft6WuoC1k7LNis0BYu1oMDym+FzEwploh49tKqzeoJoNJZmAJdu6Ee+3m\n",
       "9sa3rfZHy9sXX+tUWzA8pPhexsCYKh3fdlq9yfjaDF2wcyfAmlkP0jkivojHNLVG3U0asDlg/XKK\n",
       "Egal+mUMjKkOUPHFfpL1BtVkwHXbYGf79bOZd4HRosAVIr8qj1rW/X8p/FkgDtT4MnrU1zAwplqK\n",
       "fpH4Ae8nUW9QTQZ3+F/yfplww24Fzfwd4cXu4K5a5H85srec/JJ3j192Tx08+MDBg7fSPEZQN1ff\n",
       "ulO/lt4RtqcxkJPb54BHPfxmKFj5ToEAS1VSSHGkzS+lt3KVUDUV2Pjen9uCr4Z2m7tzLndJbGv9\n",
       "RTx2Dm9b/VXGV5xg9fCup3rs7rEkqnT9nU+rN1l/t94+F74p/o/ts7ipsX3xledH6dvnRKpm7XOi\n",
       "3hnH91zGAxzvieiA12JifgeyGd15z08HIgsOKOsb6eObSLVEjq+m0uoNqslgy/OjUuYrSO4T0fz4\n",
       "GfEYy2b5zH1+Omn87Kfjo1ucH3FUo6I1YDI/4vSOagU5ft76/LeVdXzdJ6JN42vdn41P9/lps/hu\n",
       "ff57v3HR0s5/W8a1QgYjcJnb1TFfGwOU/pN5r3unNr4qj8G5jFYlO2njG/EoKRyKlzHQUt21QhQt\n",
       "Pr+M3rtWqFohg+hWmFvV5bAWBmrqGxLZp/CJ6Gn4/ejpOCEv7cvMZ/j8dCX8EScOaGFEUfmFlr2t\n",
       "h6ZaXoyKluSIyy+jd3lRqhWgmgz2h6teBTW+YN9PL4udisaWZPfS4G2DjbjZM8GzcEep339lHjVp\n",
       "JwppBkHN4oL//xI3+x+Fj/GVw+lHDFgHvTSKeVyvxLdvGQMdVVFbiIpWmfz9t2mgt3sVqBWgmgxm\n",
       "w9bjI/9Wrgf2WbJ5KUeD9TIV38IUbxuXdT7z7cafnP/dI3oimrrnS+HxmaiIfDayvoMgEtgs+S7Q\n",
       "Hc/tHXBqh3tEz0/H758q0PdvhDxKdyvxrb6AgY6qKLaiokU6UnVn9HavArUifsucA+BenaYa3/jN\n",
       "PNxg/WHq8+97fUPMtuPM652RqNw6ij93Ck5P4x7RE9HUPV8yD2nGUYluBag0RX4ETSIcW+7030ZF\n",
       "RS4xzYHHhLu5k3vA89Px+6fy5BNAwCM/qCjD3LZFUxVuowpFi3Sk6s7o7TbNUCvit8w5IMSFhhpf\n",
       "/f110qZ6X6duLLAWvL4B23KOv/kXv/9VUql3yf3TP6Inos8SbYbMI9rC0JJOvc9tkdC3HNtVIr+R\n",
       "2/VXKfDuhMLdj805ouena2E+4oDm8VY1vkyxoKl6RKFokY4U3Tm9j8q1Aq4vg6NBwX6JUOMb2iNA\n",
       "DtZzj5A/a9TaQd+g2qoN0T8h/iW32a5Gd/lH9ET0fmJMJ/GIZhwvnZV+m3nKOc6gbzm2HwnxgBiU\n",
       "+4ub3VZuzjui56f7wmFRHJA8cm01vuVNDDRU3d0/o6JFOlJ05/R+VK4VoJoMzgWNRhPFN7RHQBlE\n",
       "Pu+lv7/Xtskbv/qDvgHZ+q+I6pKQ7xu23ILZ3/GP6PJE7y3xGNz03R90SoQ0NHFPeDf6lmOb7IjZ\n",
       "Rl2+/Lh7+WPBARddYwHJIy/U+A6sYqChKsT9UtEiHSm6c3rfL9eK+ANuDggegyg3UHy1z6fU5F9f\n",
       "qPnx8aBvQLbqsKiuDCgFxt1rZrDtH9HcnliKk3iclbxHk023i82hxsS1/dTdYepZZajrlrB/BAcU\n",
       "vxUWkDw+juJLP59CU3UGRUuUaya/rN7KVYgH3BxQ90+5WqD41pcwSJNOEl3hSX/Et1iY+WpkfMR9\n",
       "GNrdo17Zp57asCCRR60Z7/Nr/iRjRNxsRUWm8nO3h9wt1HcB0NsbsDxyLRRfAXco2wa/fBQmKNep\n",
       "8ouvQu8wUfR/zfrziROrP1aWYzYwSJP+IeL7dPuVZaxVa10XdVoL7l5+5QX/gKpALSwk8nBbALxZ\n",
       "tt8qlC6KJ6UNQ+72dv67W/gH1JcJFlA8Bk6cmP2uMkUdmcdAk/pmOoTrVPnFVwHVFFCFVuO7ylfB\n",
       "Xr28hfi+z+8bYjZ3laz0VFSVdjYqK/7EQZ48DFDzwUQeRafX6W/Fbd5C0+2fjnRYEtOj/jRDnmqc\n",
       "W2ABw6Nfrb+zbQx0697tJuE6VX7xVUA1BRRguK1OwsBe2MqN7N8L+4b7vKWfWwKb9IyVf9vDo6Lk\n",
       "xLe06B/gm7ohLZFHv1Ntxhqq036vKsETWZ5Tp46POfEdE/4RJmb7KA2POnpebA4DXWSeaRGuU+UX\n",
       "X4XewQuC/YT9E2U4uKmrTAbxLUzEbUJ8Dv70bnu47MXVHXHJo64qNZ5M5OHG8ibCJsozitN624vr\n",
       "s8EB1W+KBTSP2v51pbVIqPdo/e8k5TpVfvFVQDUFWMxeYfGn/VO2z0rfELbPlaay3Z614vW73v6k\n",
       "0rC/eEVHSNc+v8Ui2ufvC2WnwPFRr999KDig++ywwIxHwr4OmkQ6Sq07qKaCEWa0B/YRdjjIv9fj\n",
       "tahvCGziA0LcKNtWvIWH8pB/gFITLCFrlvjkHq/C9Dm16XIeDUDc9dmmKMgC1ke9FZZPBEco5yoL\n",
       "OGGwvksIfG2Ro4oiuZroh8w2Ll8TJNjDjAbA7gNE1rv5gHivR8B/N+obAlvuttOnleWQV7o7SXuz\n",
       "mJpUGqZneELH0QRIwGb17gxr48vqx67tmtOnTym2VmUmmK5JzVtlnQWcMCjlLyNQWeCookn6erKf\n",
       "48nxBdVUcI55BxrYfRAjWxtG7/WQ+R9BfUNgKzrTc+U6+be7YS3O+4e2Pwp4oKvC/sSOb+ffu1Cb\n",
       "4dpGbFvtyl75Nvffw8Gh7b20wuAOcx2BWpOjikbKa8l+TibHlxlAcLslou0UEVnv5gP1vR4y/yKx\n",
       "AEXZ/HRNcMBCjIYQhAS938NJtxBfuoXzmRv2Dya7JsLghHfshCIbp2pyQcWMsm3iPgA15u4+sPug\n",
       "qE7a3ZsP0Hs9ZP5lYopQZqcNTwVHWOnWeULWoqi5O1y/Ab/fQ/g/U+B0F7va1faPMI3NsIATBqez\n",
       "oyoY56kqiXEk+8HZJhKohgCzGz7e5h3IQtM6jN7rofDfS1xxL1eVhvwDJnJrPKGom0Dv9xCC3GKc\n",
       "3Xb8quCAOegUCzhhYg1qUwXHearqxHkq0Q/ONjVfXmPAAwzdBxQQ6+CPdNB7PRT+1Hbf3Bbgbgzk\n",
       "OAxO8ISibgK938Mt5MQv1RZ3m9heVOCe4wErDG5QJ1RwkqeqpOeS/ajZppdnJxhwgFkuBbsHgGzw\n",
       "AgA8J0L8cy2inrZoR28NDmivmjyh4jNhO7IUH7RcTXzpaqa0N/wDWrdlFvDC4GtuqOBwh6cqCNca\n",
       "PzjbRALVMKgz/QzYPQBkYe6L3wvAtj9pE/d+IZdHHV5Uit7v0WVS312kAF4YnNZVsNgyoso6kvzg\n",
       "bOtUwyDPXB/sHlhUKx/xXoCspLaYeafHo/bO8C/0fo8u0/gMC3hhYjPWjgKenDeiyjqS/OBsa1SL\n",
       "AYtpH8DugSfVRol4L0BWUhe4Jogi2ieySQcaLDDi4UeqiYEJVdaRtbwV1eKA27wP7Aa7+2UodT87\n",
       "jyJ41DJy+iAPjHj4inJby2qpPpjaj1a1OCgy4xmwcyf0Rmo+V2Y8ttRmXDEKURKPd8VACtfd5Tde\n",
       "GQFUmAYR7JUlsX3J4n/X7h2P8TYL0vCYbmCQwnVX+QXV4oDfAfaJpBN6kXQvvu8ZD83b69PwgLsX\n",
       "akPpXXeVX1AtDpx2gClCYC+2ty++z2o6nV7xGDjGgnQ83hMDxq67yy+oFgfODJvxAfbSse2L72HN\n",
       "Z73iAYvrcZCOx0c7GBi77i6/h3ngpN8z3/p90gk96H61wvaIxzd4kI7HQAMDY9dd5RdUw+B/0xf8\n",
       "zxuxda8AAAAASUVORK5CYII=\n",
       "\" style=\"display:inline;vertical-align:middle;\" /></a></span><br>"
      ],
      "text/plain": [
       "fail_ineq_lemma_inst_bound_05: {e in {2 .. 2^{t - 1} - 2}} |- ((1 / 4) * ((Sum_{l=-2^{t - 1} + 1}^{-(e + 1)} (1 / (l - (2^{t} * delta))^{2})) + (Sum_{l=e + 1}^{2^{t - 1}} (1 / (l - (2^{t} * delta))^{2})))) <= ((1 / 4) * ((Sum_{l=e + 1}^{2^{t - 1} - 1} (1 / l^{2})) + (Sum_{l=e}^{2^{t - 1} - 1} (1 / l^{2}))))"
      ]
     },
     "execution_count": 76,
     "metadata": {},
     "output_type": "execute_result"
    }
   ],
   "source": [
    "fail_ineq_lemma_inst_bound_05 = (\n",
    "    fail_ineq_lemma_inst_bound_04.inner_expr().rhs.operands[1].\n",
    "    operands[0].substitute(even_fxn_sum_inst_sub_lhs_rhs))"
   ]
  },
  {
   "cell_type": "code",
   "execution_count": 77,
   "metadata": {},
   "outputs": [],
   "source": [
    "# # clean up the upper bound on the first summation\n",
    "# bound_06 = fail_ineq_lemma_inst_bound_05.inner_expr().rhs.operands[1].operands[0].condition.domain.upper_bound.distribute()"
   ]
  },
  {
   "cell_type": "markdown",
   "metadata": {},
   "source": [
    "To split the first term off the 2nd summation on the rhs, we need to first explicitly establish that $e < 2^{t-1} - 1$."
   ]
  },
  {
   "cell_type": "code",
   "execution_count": 78,
   "metadata": {},
   "outputs": [
    {
     "data": {
      "text/html": [
       "<strong id=\"e_upper_bound\">e_upper_bound:</strong> <span style=\"font-size:20px;\"><a class=\"ProveItLink\" href=\"../../../__pv_it/theorems/f67ffeb951aaff9cc5f02f3801926b572b231a930/expr.ipynb\"><img src=\"data:image/png;base64,iVBORw0KGgoAAAANSUhEUgAAAKwAAAAYBAMAAACVRAuIAAAAMFBMVEX///8QEBAyMjKqqqpUVFRE\n",
       "RESYmJjc3NzMzMwiIiK6urpmZmaIiIh2dnbu7u4AAAAMEBwRAAAAAXRSTlMAQObYZgAAAAlwSFlz\n",
       "AAAOxAAADsQBlSsOGwAAAe1JREFUSMdjYCAZMBVAGXxJDFQE72GMnpPUNNYIzrIkTSPfKjyStZNu\n",
       "4De2uACHzkPr8FmqTMC1HK4PsIoz/2NgYN+t2oApU70pgoHhH25jIbpYHbAayzuBgaGUgfcXhgR7\n",
       "AMP9BVwCDByhQBCOxViILpB+HMa6MzAIYkiwFDAwCvA4vMDpWoguVGN5ImdOghsr/4DBHyPoGf8x\n",
       "sHznPnAPp7EQXSjGcuk8QHKtJwODP0bgskxgYPnBsQ0mXqt/B00BRBfYWL47p8HmFT1ADgQgmI8t\n",
       "gDg/EEic86H6VzZwXADx1eEy3ArgdPIHm67+A/hNBeniEQDG7jcGngUgAQW4VGEC2F1Yk8kUAo4F\n",
       "6WL/DExkf87cAlsjOXPmzKkgVokWWMFWbLq4A7DkSc2ZINCA0PVEmYEf6ig+uAaOraBQZsPq2BQC\n",
       "joXourSAgR8WWIhUAc4ltgzsmHmb+QJDOV5jwbpAuZQTGF8GIJEzKNkBGI08mFm7l4HhHN4IA+vi\n",
       "BUYZmwLDa7CzmAyQja3cvXsnpHQFRiXfJ2jmnb179wR8xkJ0gRPY2TRIMPC5rkMydv7//xCzODcA\n",
       "idnQaP7//78C3kQL1oWaebmuImVeSgCeooYGxoJyCSWAG3tAgXIJJeBhAnbxamdKTK0F6gYAv0eE\n",
       "w3ELTC0AAAAASUVORK5CYII=\n",
       "\" style=\"display:inline;vertical-align:middle;\" /></a> <a class=\"ProveItLink\" href=\"../../../__pv_it/_proof__fail_ineq/3df54ccdf2a16c5f79d8c5b90a023bcfce8f21cf0/proof.ipynb\" style=\"text-decoration: none\">&nbsp;&#x22A2;&nbsp;&nbsp;</a><a class=\"ProveItLink\" href=\"../../../__pv_it/_proof__fail_ineq/92c4047f37de3a05d422fce2a3b515a7f6bd67360/expr.ipynb\"><img src=\"data:image/png;base64,iVBORw0KGgoAAAANSUhEUgAAAIAAAAAaBAMAAACN7UndAAAAMFBMVEX///8QEBAyMjKqqqpUVFRE\n",
       "RESYmJjc3NzMzMwiIiK6urpmZmaIiIh2dnbu7u4AAAAMEBwRAAAAAXRSTlMAQObYZgAAAAlwSFlz\n",
       "AAAOxAAADsQBlSsOGwAAAbdJREFUOMtjYMAL1GGMZwoMJAG2BWCK7wOUz3FmAjZlG3AaYA2hmOH2\n",
       "MmM1oBSXfj6IRvabug14DWA7gMMA1gQIzWSA3wUM83AYUAi0fbdqAwP/A5wGgOUZjqDrNCoAU3tB\n",
       "3uP9xbCQgaE1FAgKMA0AyzO8f4AqmrkPQgOl3BkYBBmO8OEMA7A8A1MCiuDJe9BI+8fAIP+Awb9g\n",
       "D+8DXAaA5Rm4A5CD/iYsTHmAqj0ZGPwbujNgPr70Fy3AwfIMPAJAfXdOg63h2wl3DgskFucTSG1A\n",
       "eS6gW1c2cFwA6XcyQMQi2GEcf/DrB8lz/GBg/8bAA063SAYwOYBITgf8BoDk2X8xsP45cwviTYQX\n",
       "OMFpfCsWTY9mgsAMBpg83y8GfgfMQAS7gI2AA8Dy7D8Y+A9gRiPYAFsG9gJ8BoDlOb4zcAJD0AAt\n",
       "IbEAAxEYsjwP8AUhWB4YC2wKDK8RNhmBUx4odit3796JzwEQeTagyrNpGHkSFLvz////hDcRgOW5\n",
       "cQSUFLElF1pegIO9xBqAlBv5wDE8E5L7Gok1IAWHOIsBkQZMx18mEi68D+BOJUSBUkL1AiEATHcA\n",
       "XNl5kqaKFeEAAAAASUVORK5CYII=\n",
       "\" style=\"display:inline;vertical-align:middle;\" /></a></span><br>"
      ],
      "text/plain": [
       "e_upper_bound: {e in {2 .. 2^{t - 1} - 2}} |- e <= (2^{t - 1} - 2)"
      ]
     },
     "execution_count": 78,
     "metadata": {},
     "output_type": "execute_result"
    }
   ],
   "source": [
    "e_upper_bound = e_conditions.derive_element_upper_bound()"
   ]
  },
  {
   "cell_type": "code",
   "execution_count": 79,
   "metadata": {},
   "outputs": [
    {
     "data": {
      "text/html": [
       "<strong id=\"e_upper_bound_plus_one\">e_upper_bound_plus_one:</strong> <span style=\"font-size:20px;\"> <a class=\"ProveItLink\" href=\"../../../__pv_it/_proof__fail_ineq/01dcf5faa16132dfc370fabf8e0e85c771c0e5ea0/proof.ipynb\" style=\"text-decoration: none\">&nbsp;&#x22A2;&nbsp;&nbsp;</a><a class=\"ProveItLink\" href=\"../../../__pv_it/_proof__fail_ineq/173c4f0fc7589da4ee38e905731c7dff80d327f60/expr.ipynb\"><img src=\"data:image/png;base64,iVBORw0KGgoAAAANSUhEUgAAAQgAAAAaBAMAAAC5sd/oAAAAMFBMVEX///9UVFQiIiKIiIjMzMx2\n",
       "dnYQEBDc3NxEREQyMjLu7u5mZmaqqqq6urqYmJgAAAB66f/FAAAAAXRSTlMAQObYZgAAAAlwSFlz\n",
       "AAAOxAAADsQBlSsOGwAAAuVJREFUSMedlz9oE1Ecx3+XXHJtckmDg1oQG4Mo2qHXCA5OBVEEh4bq\n",
       "oovBwU0MQmvAJYNgJ4mC6CB4gksWLRXBNiBBcCgumVyNxaVDoWAkNBDi7957v0t7f1/uQX65983v\n",
       "Pnzf73737gJAY7IiDlI7EG28ooMP9bHP3eVfH2l+ueiZtuYlZtsU0PyeENULeWmAkHXx45Ytf/NM\n",
       "rnqJP+yAIHv9el4aIOQGP14+dzPYRNZwa6k6BQBt6eVCoAkvAMnPxORNSCXgvFua6FCwmqoVXAkv\n",
       "gJC1MsDjjScAfX8TWvM1LnLeff6KCCxhyvQ14QdQLV8op0ug1eBOO1MGdRXHUw8TVUgMsHNNF+Sz\n",
       "CCzhJ8A1i1Bxm/ABvNuwVo7yVBuUCiTL8dx730ocA7iH5e64TAxEYAnzKd+ecAAydBC3TKC8aEKy\n",
       "D0ovbdz2NfHAhJkKpGsjZYttKmpfBJbwKWH6mXAAdOOgCZRxU1DyoHTVr7SO5bc3HIwjADMLEC/b\n",
       "wvYmZ+RFYAnX/1AH3PpnBAIOm0B5ms1ieyE72hwW0W7doiiaUqfAEqQBh02gvMpmi0YwQv2Ln67Y\n",
       "HJYoeaJGgSXIAhwmUH7OZqdC1hHLYZUHvNjrdoNO5iiwBEmA0wTKs8B7w70bvihYg3fKF0vgjOnW\n",
       "iLxGgSU4R4MBTjsA6ULhzN1CIWebQJlV4ndIIbLWKVrXaWJUiWxOHuCqBL8cegkeBTK+g1YBted/\n",
       "OViCJMDVEz04jl9XAC4FdlUJ4qbd3KPGVGoi8ARZgPvuuIhrm20280EmHjab61hSus1TRWGZ3fhW\n",
       "4AnSANtEwqoNyr9MiA2Hw8B3obnhcB87anTdt/lGkRELEQnSADKhHN0/yeRkW/YN7OCzY4d3wH07\n",
       "jAXQDYeMT1HJEfAUHROQ6ThktSzL8LiPr9ohIoDkE7KMs25JaVGICCC5IYkIe8eMBCBZl2yKqvcm\n",
       "RCEigORdOcZm2P+OSAAm/wcQqOPzZCV2MgAAAABJRU5ErkJggg==\n",
       "\" style=\"display:inline;vertical-align:middle;\" /></a></span><br>"
      ],
      "text/plain": [
       "e_upper_bound_plus_one: |- (2^{t - 1} - 2) < ((2^{t - 1} - 2) + 1)"
      ]
     },
     "execution_count": 79,
     "metadata": {},
     "output_type": "execute_result"
    }
   ],
   "source": [
    "e_upper_bound_plus_one = Less(e_upper_bound.rhs, Add(e_upper_bound.rhs, one)).prove()"
   ]
  },
  {
   "cell_type": "code",
   "execution_count": 80,
   "metadata": {},
   "outputs": [
    {
     "data": {
      "text/html": [
       "<strong id=\"e_new_upper_bound\">e_new_upper_bound:</strong> <span style=\"font-size:20px;\"><a class=\"ProveItLink\" href=\"../../../__pv_it/theorems/f67ffeb951aaff9cc5f02f3801926b572b231a930/expr.ipynb\"><img src=\"data:image/png;base64,iVBORw0KGgoAAAANSUhEUgAAAKwAAAAYBAMAAACVRAuIAAAAMFBMVEX///8QEBAyMjKqqqpUVFRE\n",
       "RESYmJjc3NzMzMwiIiK6urpmZmaIiIh2dnbu7u4AAAAMEBwRAAAAAXRSTlMAQObYZgAAAAlwSFlz\n",
       "AAAOxAAADsQBlSsOGwAAAe1JREFUSMdjYCAZMBVAGXxJDFQE72GMnpPUNNYIzrIkTSPfKjyStZNu\n",
       "4De2uACHzkPr8FmqTMC1HK4PsIoz/2NgYN+t2oApU70pgoHhH25jIbpYHbAayzuBgaGUgfcXhgR7\n",
       "AMP9BVwCDByhQBCOxViILpB+HMa6MzAIYkiwFDAwCvA4vMDpWoguVGN5ImdOghsr/4DBHyPoGf8x\n",
       "sHznPnAPp7EQXSjGcuk8QHKtJwODP0bgskxgYPnBsQ0mXqt/B00BRBfYWL47p8HmFT1ADgQgmI8t\n",
       "gDg/EEic86H6VzZwXADx1eEy3ArgdPIHm67+A/hNBeniEQDG7jcGngUgAQW4VGEC2F1Yk8kUAo4F\n",
       "6WL/DExkf87cAlsjOXPmzKkgVokWWMFWbLq4A7DkSc2ZINCA0PVEmYEf6ig+uAaOraBQZsPq2BQC\n",
       "joXourSAgR8WWIhUAc4ltgzsmHmb+QJDOV5jwbpAuZQTGF8GIJEzKNkBGI08mFm7l4HhHN4IA+vi\n",
       "BUYZmwLDa7CzmAyQja3cvXsnpHQFRiXfJ2jmnb179wR8xkJ0gRPY2TRIMPC5rkMydv7//xCzODcA\n",
       "idnQaP7//78C3kQL1oWaebmuImVeSgCeooYGxoJyCSWAG3tAgXIJJeBhAnbxamdKTK0F6gYAv0eE\n",
       "w3ELTC0AAAAASUVORK5CYII=\n",
       "\" style=\"display:inline;vertical-align:middle;\" /></a> <a class=\"ProveItLink\" href=\"../../../__pv_it/_proof__fail_ineq/91ba0b67fd1a5692b869c225d83f2fbe8cdaf69e0/proof.ipynb\" style=\"text-decoration: none\">&nbsp;&#x22A2;&nbsp;&nbsp;</a><a class=\"ProveItLink\" href=\"../../../__pv_it/_proof__fail_ineq/ec5fe5a6d33b808b3d66bc85ab48841ae1c3f3f80/expr.ipynb\"><img src=\"data:image/png;base64,iVBORw0KGgoAAAANSUhEUgAAALcAAAAaBAMAAAAHwtCcAAAAMFBMVEX///8QEBAyMjKqqqpUVFRE\n",
       "RESYmJjc3NzMzMwiIiK6urpmZmaIiIh2dnbu7u4AAAAMEBwRAAAAAXRSTlMAQObYZgAAAAlwSFlz\n",
       "AAAOxAAADsQBlSsOGwAAAiNJREFUSMetVr9LG1Ec/6RJk5wXLulfoKBEOindCh1CaycXF3+MtZQO\n",
       "4nBbBxGzFloiRQpHLNwkOFmkCuKio6g1oxSpRyehFTtVB0l8v+PdvbvLQT/DJ3efz8vnHt/3fe8O\n",
       "SMQDW1xYr/FfMKcIuJLihwPdUFOfYEZmZ79KInii5Ke6sYUJpJAJfikCFj+dxoZjHmlkYEoRwWD8\n",
       "zGF4aWQUKoIWNmeAdnQ480u1UMB7TyvzxWhxInU7d/sqKE4STIfDmQ+rHZCt8RESHpIFyi6nnI1M\n",
       "pVS7iJo584GqvF+TFye0JNVglwyzn4bHKdNG7trc+xkVznxgS94/84Vv+Qfnm3wRDgTllpG7KW7X\n",
       "hb04chaYOfWBfX04la2zQ7GupS/i4rkiGH/jdxv1NzxtOJXX68UWUy5XpTepCI29+HDqN+racCIX\n",
       "/qHksrb6rP4xpAgrCecE9ZdcbTiRH94e/WD16+4VNBWZmk1sPXYo6sq/YuE7jvPIcVa64UQui16/\n",
       "H96d+ZuEiTN/SV8WIpdlUXVlybbwLi6b+w1bX3MbBlnN0cCCvpT0EfgeF8796G7JD+C3ePKfVTFq\n",
       "X1Chubu7HJMt/NlQn5/TRCofv1XdlheNviEebHQ6nYG4Juf+t2D4WP/Qq3uyTOfbP+NK6gnV0Mz9\n",
       "sv5U7A3d429NL/tRrEjqBflaGhl4oagHGHYa2f8OTUTad2i2JSkZqd/+vu+WBJhepHwH6Haz8E5u\n",
       "GiEAAAAASUVORK5CYII=\n",
       "\" style=\"display:inline;vertical-align:middle;\" /></a></span><br>"
      ],
      "text/plain": [
       "e_new_upper_bound: {e in {2 .. 2^{t - 1} - 2}} |- e < ((2^{t - 1} - 2) + 1)"
      ]
     },
     "execution_count": 80,
     "metadata": {},
     "output_type": "execute_result"
    }
   ],
   "source": [
    "e_new_upper_bound = e_upper_bound.apply_transitivity(e_upper_bound_plus_one)"
   ]
  },
  {
   "cell_type": "code",
   "execution_count": 81,
   "metadata": {},
   "outputs": [
    {
     "data": {
      "text/html": [
       "<strong id=\"e_new_upper_bound_simp\">e_new_upper_bound_simp:</strong> <span style=\"font-size:20px;\"><a class=\"ProveItLink\" href=\"../../../__pv_it/theorems/f67ffeb951aaff9cc5f02f3801926b572b231a930/expr.ipynb\"><img src=\"data:image/png;base64,iVBORw0KGgoAAAANSUhEUgAAAKwAAAAYBAMAAACVRAuIAAAAMFBMVEX///8QEBAyMjKqqqpUVFRE\n",
       "RESYmJjc3NzMzMwiIiK6urpmZmaIiIh2dnbu7u4AAAAMEBwRAAAAAXRSTlMAQObYZgAAAAlwSFlz\n",
       "AAAOxAAADsQBlSsOGwAAAe1JREFUSMdjYCAZMBVAGXxJDFQE72GMnpPUNNYIzrIkTSPfKjyStZNu\n",
       "4De2uACHzkPr8FmqTMC1HK4PsIoz/2NgYN+t2oApU70pgoHhH25jIbpYHbAayzuBgaGUgfcXhgR7\n",
       "AMP9BVwCDByhQBCOxViILpB+HMa6MzAIYkiwFDAwCvA4vMDpWoguVGN5ImdOghsr/4DBHyPoGf8x\n",
       "sHznPnAPp7EQXSjGcuk8QHKtJwODP0bgskxgYPnBsQ0mXqt/B00BRBfYWL47p8HmFT1ADgQgmI8t\n",
       "gDg/EEic86H6VzZwXADx1eEy3ArgdPIHm67+A/hNBeniEQDG7jcGngUgAQW4VGEC2F1Yk8kUAo4F\n",
       "6WL/DExkf87cAlsjOXPmzKkgVokWWMFWbLq4A7DkSc2ZINCA0PVEmYEf6ig+uAaOraBQZsPq2BQC\n",
       "joXourSAgR8WWIhUAc4ltgzsmHmb+QJDOV5jwbpAuZQTGF8GIJEzKNkBGI08mFm7l4HhHN4IA+vi\n",
       "BUYZmwLDa7CzmAyQja3cvXsnpHQFRiXfJ2jmnb179wR8xkJ0gRPY2TRIMPC5rkMydv7//xCzODcA\n",
       "idnQaP7//78C3kQL1oWaebmuImVeSgCeooYGxoJyCSWAG3tAgXIJJeBhAnbxamdKTK0F6gYAv0eE\n",
       "w3ELTC0AAAAASUVORK5CYII=\n",
       "\" style=\"display:inline;vertical-align:middle;\" /></a> <a class=\"ProveItLink\" href=\"../../../__pv_it/_proof__fail_ineq/edbaa6a6dcf8ece693f918caa10f6cd027aee7640/proof.ipynb\" style=\"text-decoration: none\">&nbsp;&#x22A2;&nbsp;&nbsp;</a><a class=\"ProveItLink\" href=\"../../../__pv_it/_proof__fail_ineq/e08c09f03e2f8414429c74d7c72695f0ea70838d0/expr.ipynb\"><img src=\"data:image/png;base64,iVBORw0KGgoAAAANSUhEUgAAAIAAAAAaBAMAAACN7UndAAAAMFBMVEX///8QEBAyMjKqqqpUVFRE\n",
       "RESYmJjc3NzMzMwiIiK6urpmZmaIiIh2dnbu7u4AAAAMEBwRAAAAAXRSTlMAQObYZgAAAAlwSFlz\n",
       "AAAOxAAADsQBlSsOGwAAAaxJREFUOMtjYMAL1GGMZwoMJAG2BWCK7wOUz3FmAjZlG3AaYA2hmOH2\n",
       "MmM1oBSXfj6IRvabug14DWA7gMMA1gQIzWSA3wUM83AYUAi0fbdqAwP/A9wGcIA0H8FhwF6Q93h/\n",
       "MSxkYGgNBYICTAOebPoHJN8/wG7ALwYGdwYGQYYjfLjDgAdkAFMCmqhRAdh1QDn5Bwz+BXt4H+A3\n",
       "gDsAVTBzH0QOqNqTgcG/oTsDKsF+6e8BbAbwCACj7M5pmDUn70FoFkgszseb1sAGcAGJlQ0cFyCR\n",
       "fxNmCSvYYRx/CBvA8YOB/RsDDzjdsu+EBwiTA4jkdCBsAPsvBtY/Z26BBZzgiYaBE5zGt2LR9Wgm\n",
       "CMyAG8D3i4EfZg+SAWAXsOF3ANQFPxj4YR5H94ItA3sB4TD4zsAJDEEDtEBkAQYiMGR5HhATC2wK\n",
       "DK+hNvGdPAeVA8Zu5e7dO/F6gfc7yJ9AlWfTEEkkE5IQQLE7////T/j0szh+cgOmRPSASoI4RorY\n",
       "kgsjLyByI3EAV25sJNaAFFweNCDSgOn4y0TChTeuMhGYiogCpYTqBUIAWHwAAHzpdA+R9vbbAAAA\n",
       "AElFTkSuQmCC\n",
       "\" style=\"display:inline;vertical-align:middle;\" /></a></span><br>"
      ],
      "text/plain": [
       "e_new_upper_bound_simp: {e in {2 .. 2^{t - 1} - 2}} |- e < (2^{t - 1} - 1)"
      ]
     },
     "execution_count": 81,
     "metadata": {},
     "output_type": "execute_result"
    }
   ],
   "source": [
    "e_new_upper_bound_simp = e_new_upper_bound.inner_expr().rhs.simplify()"
   ]
  },
  {
   "cell_type": "markdown",
   "metadata": {},
   "source": [
    "Now we're ready to use a partioning of one of the summations:"
   ]
  },
  {
   "cell_type": "code",
   "execution_count": 82,
   "metadata": {},
   "outputs": [
    {
     "data": {
      "text/html": [
       "<strong id=\"temp_split_01\">temp_split_01:</strong> <span style=\"font-size:20px;\"><a class=\"ProveItLink\" href=\"../../../__pv_it/theorems/f67ffeb951aaff9cc5f02f3801926b572b231a930/expr.ipynb\"><img src=\"data:image/png;base64,iVBORw0KGgoAAAANSUhEUgAAAKwAAAAYBAMAAACVRAuIAAAAMFBMVEX///8QEBAyMjKqqqpUVFRE\n",
       "RESYmJjc3NzMzMwiIiK6urpmZmaIiIh2dnbu7u4AAAAMEBwRAAAAAXRSTlMAQObYZgAAAAlwSFlz\n",
       "AAAOxAAADsQBlSsOGwAAAe1JREFUSMdjYCAZMBVAGXxJDFQE72GMnpPUNNYIzrIkTSPfKjyStZNu\n",
       "4De2uACHzkPr8FmqTMC1HK4PsIoz/2NgYN+t2oApU70pgoHhH25jIbpYHbAayzuBgaGUgfcXhgR7\n",
       "AMP9BVwCDByhQBCOxViILpB+HMa6MzAIYkiwFDAwCvA4vMDpWoguVGN5ImdOghsr/4DBHyPoGf8x\n",
       "sHznPnAPp7EQXSjGcuk8QHKtJwODP0bgskxgYPnBsQ0mXqt/B00BRBfYWL47p8HmFT1ADgQgmI8t\n",
       "gDg/EEic86H6VzZwXADx1eEy3ArgdPIHm67+A/hNBeniEQDG7jcGngUgAQW4VGEC2F1Yk8kUAo4F\n",
       "6WL/DExkf87cAlsjOXPmzKkgVokWWMFWbLq4A7DkSc2ZINCA0PVEmYEf6ig+uAaOraBQZsPq2BQC\n",
       "joXourSAgR8WWIhUAc4ltgzsmHmb+QJDOV5jwbpAuZQTGF8GIJEzKNkBGI08mFm7l4HhHN4IA+vi\n",
       "BUYZmwLDa7CzmAyQja3cvXsnpHQFRiXfJ2jmnb179wR8xkJ0gRPY2TRIMPC5rkMydv7//xCzODcA\n",
       "idnQaP7//78C3kQL1oWaebmuImVeSgCeooYGxoJyCSWAG3tAgXIJJeBhAnbxamdKTK0F6gYAv0eE\n",
       "w3ELTC0AAAAASUVORK5CYII=\n",
       "\" style=\"display:inline;vertical-align:middle;\" /></a> <a class=\"ProveItLink\" href=\"../../../__pv_it/_proof__fail_ineq/18e0ff5d6800903833716a9a4a79dcc116a06dec0/proof.ipynb\" style=\"text-decoration: none\">&nbsp;&#x22A2;&nbsp;&nbsp;</a><a class=\"ProveItLink\" href=\"../../../__pv_it/_proof__fail_ineq/d81d1632587518dd6be465cbff066f08556183250/expr.ipynb\"><img src=\"data:image/png;base64,iVBORw0KGgoAAAANSUhEUgAAAU0AAABLCAMAAADDACVfAAAANlBMVEX///+/v7+urq7c3Nx2dnZE\n",
       "RESIiIgiIiLMzMyYmJju7u4QEBCqqqpUVFRmZma6uroyMjIAAABMl2BWAAAAAXRSTlMAQObYZgAA\n",
       "AAlwSFlzAAAOxAAADsQBlSsOGwAAB2dJREFUeNq9nG3DsyoIgHtOpqlp+f//7Oll290LqAhb38Y2\n",
       "5CJUNKzrPtcyd7JXbxzj3wLm/IIIgYyhk74UQ6WAOb8hAiEn78Tb7rxt/aeAOb8iAkTuKuvjPaCH\n",
       "FtPm1LcZ7drvw8+JAFFYLh+tvn49Tm1jYBjaXHEzR0DFF4keojFdBmxt4nT7RVvbfZpa/nYzR0DF\n",
       "N4keouW4kU6pELZGzEML1LazxRAaTNNkzA/NNqIKJIDoJppeN3IbW+L6lVuOoea4ZqTtUWtTDhHd\n",
       "MH/wQ7ONqAYJILqJlpeKzYQ+jd0UO1tzJ6dy5A2+Ia4MPzQbiSqQAKKL6ONb6462+2j72z3zamry\n",
       "5kQfOZviGVFBJapAAoguopBOt0kRAqPCm10ij4EXcxon9FaiGiSA6CRy6TTFj5SprsabYY0MWqKY\n",
       "Bq4z24lqkACik8ie4rSQ047D++prvTknRXOFbcuqMBWlLJ2OBBCdRMNft9hWDH0vGptdIs5DA7+j\n",
       "txPVDV4eF7lk/u7jOI7RMZoGutVA6+onc1p7K4OoCgkg+ojsX5T6tF3VywK1JHWefl2IyzOwNK2r\n",
       "28fPYbV1KmhElUgA0UcUkuA2oH5ij7RZHTRHk7wpSgS0DRB9RD59tel1TCG5AjRH81VIIiVUBI5T\n",
       "ot5cKKECm0PypiwR1DZA9BJN/PSugB0paxvYHJI3ZYmgtgGilyhS80GyNy2FDjaH5E1ZIqhtgOgl\n",
       "WvjJcgF7pGScsDkkb8oSwROrR0SeuvIje9MRUhTEHJI3ZYmgtgGilwibcZeEXJrqzbWJejzYHJI3\n",
       "0RxCDgkg2kU9FjhTuv3F9bMOazbsyd409V0PMYfiTZRIEAkg2kUTmk6EBH1l864BsZf6SR0xh+JN\n",
       "nEgOCSDaRRpfqZiUoCfvMTdDK+iZb6ifZBFzFOFRcoZIDAkg2kUKT1/GtWNAj7UjShbWbrME+0xZ\n",
       "qqsuQHMQtRQVwkgA0S4KGVK9tg01Q60cUPUr9ZDY5S5ZFUJIANEuGlLE/zQkkUWaqteSNUdChQwS\n",
       "QLSLllzbbp3vIr9tXZ++L7T2ZktVIYMEEO0ik50h5rVj8BcWtj59N7RV4aTJKkSQAKJd5PNtqzUZ\n",
       "cz/0pud7s6RCAgn3pi50vcQuY5ko3tR8b+ru20gA0XR4Mz+dbeOMEm47mtMVbq6wfG8WVAggYd5M\n",
       "pbYfyzH6NdfHZuJ7s6yCjwQQzYc3S0NyZI8zY/2zjOoZ4ohv75/xXaGCjQQQ7aKU/ivPsxWD2X1b\n",
       "5vzdP4o3/8sofTx+hGOzSMRGAoj+Hd4s3smem+/e72Rm3CRmL7A3yyq4SHhsFtvWvmd7s5Pu6Txv\n",
       "cpEAorFmTt+GV+5W9kzJkL4/pwsgYbNQse2RFi2f0mhhb0J6W73JR8K8aYr5Jq009V0a3ehN1BxI\n",
       "L7ayLOabbCTMm6V98aV6i0CZrf+8S6Ov+R1h1wMxB9KL7XqU1kJ8JIBoFw35ZcFAeBRut/v1Lo2+\n",
       "fkHYkUPMgfQSVQgiAUS7KGT3pyJ8eAD58fK5pffNKsJuccyFCluFEBJAtIuyTxksmEhYpGnz6mGP\n",
       "gkdVX+yRM6eyiDP/3EQGCSDaRTlSOJGYPJYRH79+lkbH+v3ZjDm1ByOz904ICSDaRRbvheCxPoe6\n",
       "xh7THFAaPdRvsz3McUrrvTa4uuQ6QySGBBDtohmdb4FEop8Cvv1yHN6ESqMJhUF3c2aztjYqSsk1\n",
       "TiSHBBDtIrwyYknL+TLmqHpG5+fDUqg0mlAYdDOn33NHPVNKrnEiOSSA6BAl5MF/xIp2LLbA6PHF\n",
       "d/3219WctftorYh11xiRIBJaXGyEisS1x4OFUHF4Nafp6boUEY4EEL1EIVmRpofQOWwgIzyGuZrT\n",
       "dOJSighHAoheIi3xxHwDtx2yBiEdcbmaY1Qut65S8Q0k/IjLzH8m+VpIO43FCsEbV3P2s/cu0jYj\n",
       "pYhwJIDoJSJV/ubSvKjQcYx0oOJijlbWUnu7FBGOBBC9RQabuVwQscrRDlqa1HNbvKmo5qh4swZG\n",
       "9BEpdNCeRHrMRJuYFX8OuasocLxH2Zo3a2BEH9GM0kaRkyKBttM982sO7yoKHH/L+sm0Ev2J0IN0\n",
       "5pm3OWU1MXao5/QEzvXdVBQ4yN4ELPwTRWTh5/ZfxM9p+LV1ty2babEzUmMt8g+oXFWUOKjeBIhO\n",
       "IuztBsBwE0LXK1psamp938w/inZVUeKgehMgOou8rx02fbQTseRkIb/Cx3t+V/d1HHvA+lfA1noT\n",
       "IDqLNLywNbO79xB69jLSI03z19kXFSUOYmwCRFcRPLSl7rklugU0yT0tr+Phz+oXFSUOojcBoqtI\n",
       "gchRP2LERW017RUbDZ5R/PeknFWUON7efLyGopboJnKyZ5AvXa5hZSNgDkXFwCW6i3Ry3/Gmj233\n",
       "wPFvY7WKyCV6iIz6Umi2uUXAnN8RPUUTf68B7G+Na24Bc35GBEHG4Qtth2alAub8igiENFa86ZlR\n",
       "XC5gzm+IYMhR/oXehpGFC5jzGyIEcpYeZxxrSSNgzi+ILqL/AQMKeXn4Jo+AAAAAAElFTkSuQmCC\n",
       "\" style=\"display:inline;vertical-align:middle;\" /></a></span><br>"
      ],
      "text/plain": [
       "temp_split_01: {e in {2 .. 2^{t - 1} - 2}} |- (Sum_{l=e}^{2^{t - 1} - 1} (1 / l^{2})) = ((1 / e^{2}) + (Sum_{l=e + 1}^{2^{t - 1} - 1} (1 / l^{2})))"
      ]
     },
     "execution_count": 82,
     "metadata": {},
     "output_type": "execute_result"
    }
   ],
   "source": [
    "temp_split_01 = fail_ineq_lemma_inst_bound_05.rhs.operands[1].operands[1].partition_first(\n",
    "    assumptions=defaults.assumptions+(second_sum_conditions,))"
   ]
  },
  {
   "cell_type": "code",
   "execution_count": 83,
   "metadata": {},
   "outputs": [
    {
     "data": {
      "text/html": [
       "<strong id=\"temp_split_02\">temp_split_02:</strong> <span style=\"font-size:20px;\"> <a class=\"ProveItLink\" href=\"../../../__pv_it/_proof__fail_ineq/80ef31da66151fecc63f5c2ea2d884a6a5b248570/proof.ipynb\" style=\"text-decoration: none\">&nbsp;&#x22A2;&nbsp;&nbsp;</a><a class=\"ProveItLink\" href=\"../../../__pv_it/_proof__fail_ineq/643afbd761bd31b942097768379506a69cd9bd4a0/expr.ipynb\"><img src=\"data:image/png;base64,iVBORw0KGgoAAAANSUhEUgAAAaIAAABLCAMAAAAF6XOjAAAANlBMVEX///+/v7+urq7c3Nx2dnZE\n",
       "RESIiIgiIiLMzMyYmJju7u4QEBCqqqpUVFRmZma6uroyMjIAAABMl2BWAAAAAXRSTlMAQObYZgAA\n",
       "AAlwSFlzAAAOxAAADsQBlSsOGwAAB45JREFUeNrVneFioyoQRt0rgqCgvP/LXmOaVB1APhnW1Z80\n",
       "Pc4pCAMB2zTfa56aw0VLCq9WmZsZz5CMIJw9Lym+hL2X8RTJIGIczGkJwzXoOxnPkQwgDCk7lLTu\n",
       "+DB2V+Qm3xaHf5nxIMkAws4nJVruf9yP17pc25W30quMJ0kSRO+ndIlUbjx84lr0rR/LB+RrjEdJ\n",
       "EsRM2tdPiRHC2leYikCC0Rs9n9y7U+WP0TUGl+S5I4fkATGS9vUpeXXObvmwmd999fuaYtH3UqrT\n",
       "tiyLw7/E4JLMcOSQPCBmcs9PyUui9X0zukZn9QHjafjdwPAYXWDwSZ47ckjuELTOvyXavKNvnW4P\n",
       "bWkQ46XwR4bR6AKDUTKjihgkdwjrj21lVyKQjjUjfD+XP0Y4g1Eyw5FDcoMw/pjg7Up6KKvJCN8u\n",
       "DbY4J0UZnJI5VcQguUFo8lBuS85mb333udrM8CcvGKavIKNIEnfkkNwgOtIFbEpeE+62Ze4EGBIG\n",
       "lMEpmePIIflFGK9IF6B+m1ff966oE6B9SAd2AqFeCGSwSuY4ogEmHTV5JDclg39d+XNiMXuxzZyM\n",
       "dTNpvxLpBIIEkMEqmecIBXjmaMmUjpaUXJLcvAfTHRkIH2RUlgxECAaYdBxI+xl8U7WKGu9Nafgg\n",
       "o7JkKEIswJRjspeuFP6MteBg+BCjtmQoQkwy5TiSCQMt4Q7fYUtYwfAhRm3JUISYZMrRkWHNMcxb\n",
       "0jfX2N8nGD7EqC0ZihCTTDnOZE43MyyinQ2lQ3EVQYzakuHBfmByHEj+PjAs0KRvbrwvriKIUVsy\n",
       "FCEmmXKkiUc0FZl95JJ4ttOXhg8x8iX5HDHJhGNL6rqN1v7oD3c17STtMvEb0JsrqJsJhw8wAEk+\n",
       "R0wy4TiS5HOMp6PWh36m07GEE9LibAdhIJJsjphkwlGSSbBMTIuV96FNeC6Vu4jAliUL5VMiuOkJ\n",
       "YECSXI6YZMJRkNRQJJLFfukGQvv4XHSZ2C6dxGw1SXnzd2yGCRADkuRyRAJMOlrCsSmyXOIPhQru\n",
       "vxQMX0oCDEySyZFDckV0/rgDk5bsf8qxciIYIAADlORx5JBcETOJdU5WkVmSG8cwjxj+JgOU5HHk\n",
       "kFwRioxpKj3KTUs3UDwx1758nRlgoJIsjhySK2IgsQ4niYhY5gjmWVUES3I4MlaRJNHLs26jeBwc\n",
       "GapoRKoIlWRw5JAc31WkSfQnqcurqxb/XhU5tbnsidKZJIMjWxXROYA/qyK6SAJfE0MVAYwLkuWO\n",
       "HJLTu4pGEv3pSOlKu+p+v4pp5s0D0F9jpKsIlyx25JBcEd7/R6L/LyNFylh/Oq4Vb370J+fPG1hu\n",
       "blBGTClDMsuxsuSfdxVdeIqatnBW1oMbTHIYibHokmSpI4dkf72K5NCW3rphqKKmYkdX7Mgh2V/M\n",
       "6F6j2P0jKcK4IlnsyJYuXIm+h6be32OKBdEXMi5IYo61JFeEIrGq83kRtMXqc0yxJPpCBi4JOtaS\n",
       "XBH0q8HTLwvn7CVGoZbe4nNMcT/rwFYYCxm4ZL5jVckV0ZFJdHcyre6A7WHa/x5T3Jdj2VIhA5ZE\n",
       "HGtKrghLlt1teiHehU/oRj48f1raIVu6sAJWwEAlIceakiuCfnub/j5XB1NRHQlfvbsTcnhG4Nt1\n",
       "SxigJOZYU3JFYHsXIqnoOMRmf+un6TFFB39lVsTAJDHHqpIrQpOnUSeez+CbU0w0Fr2mNIFjil3m\n",
       "/iUjpFyPzxUwGlASdKwquSImknZM8UQkkIq2o42vCa/vGgodU8zcUT29lht7UcQIK8UlUceqkisC\n",
       "2Y26/Ma8vZR6H0GMZi6rbeiYYt6O6nadvMiphBFRikuijlUl3wi6IcnHXqfmYvuddWyG3kYXzXIW\n",
       "GJfHXEoxFTFiSjFJ1LGu5BuhyGEyxXUKVMZH2KxJXTK1bJGJ4UMlfxCWtA/rNU/0nW1MZGzImjEk\n",
       "h9sJmXU8VPIHIUmqIjk2ka131014Dp954F2JxJQROtX/UMkfBK3sieM9Su9FJyMjjTor11lfzWci\n",
       "e6ktshT9UMkfBD1MZjzTeXftRGxoyBvppdBaNmWM5sGSH4QiKYmKJinGcogZhu3CIAOQ5HHkkPwi\n",
       "BBk4RXwoHTm6h9Hbv81AJFkcOSS/iImwpjjdcRyFtwwbpkEGIsniyCH5i0BevqImusKkJZi/crzb\n",
       "BWUAktTxJslfhCMLFS62dGFev+S+L9BbojavFSbske4Z+jmYkS+5Ov4LkhsEfQFh9JWEtJu2tmkF\n",
       "1sAkQz8HM/IlA0PRPZJbxEByj2HI7aYHp0dwQ9/M8FJHnJEtGRiK7pHcIiRZr5KRFSw1mUMfgP8H\n",
       "i57h7TsXGNmSq+M/ILlH0H4z0pP65jjJ6l4PIxSOLd8rfImRK0kd75HcIwQBivAtnDw2POOklkg4\n",
       "hiFZuMTIlaSOt0geEIY8lob3hWe77qW9h/EwySNCBl4xa+pEP7i7GM+SJAhF2pMSldqXuY3xJEmK\n",
       "GMmTOTJ0SKHeRt/HeJBkCEHfQuS6CtHf+X/aniQZRCh9XlJ8TQz/ALKE8RTJMKInpT3/P9RU072M\n",
       "p0hGEFN7XlLaw053M54huUP8D+aEkoP9bIQoAAAAAElFTkSuQmCC\n",
       "\" style=\"display:inline;vertical-align:middle;\" /></a></span><br>"
      ],
      "text/plain": [
       "temp_split_02: |- ((Sum_{l=e}^{2^{t - 1} - 1} (1 / l^{2})) - (1 / e^{2})) = ((Sum_{l=e}^{2^{t - 1} - 1} (1 / l^{2})) - (1 / e^{2}))"
      ]
     },
     "execution_count": 83,
     "metadata": {},
     "output_type": "execute_result"
    }
   ],
   "source": [
    "temp_split_02 = Equals(subtract(temp_split_01.lhs, temp_split_01.rhs.operands[0]),\n",
    "                      subtract(temp_split_01.lhs, temp_split_01.rhs.operands[0])).prove()"
   ]
  },
  {
   "cell_type": "code",
   "execution_count": 84,
   "metadata": {},
   "outputs": [
    {
     "data": {
      "text/html": [
       "<strong id=\"temp_split_03\">temp_split_03:</strong> <span style=\"font-size:20px;\"><a class=\"ProveItLink\" href=\"../../../__pv_it/theorems/f67ffeb951aaff9cc5f02f3801926b572b231a930/expr.ipynb\"><img src=\"data:image/png;base64,iVBORw0KGgoAAAANSUhEUgAAAKwAAAAYBAMAAACVRAuIAAAAMFBMVEX///8QEBAyMjKqqqpUVFRE\n",
       "RESYmJjc3NzMzMwiIiK6urpmZmaIiIh2dnbu7u4AAAAMEBwRAAAAAXRSTlMAQObYZgAAAAlwSFlz\n",
       "AAAOxAAADsQBlSsOGwAAAe1JREFUSMdjYCAZMBVAGXxJDFQE72GMnpPUNNYIzrIkTSPfKjyStZNu\n",
       "4De2uACHzkPr8FmqTMC1HK4PsIoz/2NgYN+t2oApU70pgoHhH25jIbpYHbAayzuBgaGUgfcXhgR7\n",
       "AMP9BVwCDByhQBCOxViILpB+HMa6MzAIYkiwFDAwCvA4vMDpWoguVGN5ImdOghsr/4DBHyPoGf8x\n",
       "sHznPnAPp7EQXSjGcuk8QHKtJwODP0bgskxgYPnBsQ0mXqt/B00BRBfYWL47p8HmFT1ADgQgmI8t\n",
       "gDg/EEic86H6VzZwXADx1eEy3ArgdPIHm67+A/hNBeniEQDG7jcGngUgAQW4VGEC2F1Yk8kUAo4F\n",
       "6WL/DExkf87cAlsjOXPmzKkgVokWWMFWbLq4A7DkSc2ZINCA0PVEmYEf6ig+uAaOraBQZsPq2BQC\n",
       "joXourSAgR8WWIhUAc4ltgzsmHmb+QJDOV5jwbpAuZQTGF8GIJEzKNkBGI08mFm7l4HhHN4IA+vi\n",
       "BUYZmwLDa7CzmAyQja3cvXsnpHQFRiXfJ2jmnb179wR8xkJ0gRPY2TRIMPC5rkMydv7//xCzODcA\n",
       "idnQaP7//78C3kQL1oWaebmuImVeSgCeooYGxoJyCSWAG3tAgXIJJeBhAnbxamdKTK0F6gYAv0eE\n",
       "w3ELTC0AAAAASUVORK5CYII=\n",
       "\" style=\"display:inline;vertical-align:middle;\" /></a> <a class=\"ProveItLink\" href=\"../../../__pv_it/_proof__fail_ineq/201e723093218e1cc21af34e80c13b88b346e87d0/proof.ipynb\" style=\"text-decoration: none\">&nbsp;&#x22A2;&nbsp;&nbsp;</a><a class=\"ProveItLink\" href=\"../../../__pv_it/_proof__fail_ineq/6a95c97db65bda8ab6ce1138828376b54eabba2e0/expr.ipynb\"><img src=\"data:image/png;base64,iVBORw0KGgoAAAANSUhEUgAAAU0AAABLCAMAAADDACVfAAAANlBMVEX///+/v7+urq7c3Nx2dnZE\n",
       "RESIiIgiIiLMzMyYmJju7u4QEBCqqqpUVFRmZma6uroyMjIAAABMl2BWAAAAAXRSTlMAQObYZgAA\n",
       "AAlwSFlzAAAOxAAADsQBlSsOGwAABvxJREFUeNrNnNGCqyoMRb1HBEFB+f+fvVptRw0JBOgMvJW2\n",
       "m2WEJCDYdZ+yLl3d0itT8G+I0xggqeFsV7uIAkmI0xggqTFPpjpsN+ncf0KcxgBJDXOv692zQw85\n",
       "17L4Po/QAMTGAGkNu94+ann/epzzXIwd8ggfOO0Bkhqjv3l4qdz8+EUebO/nnL89cNoDpDXW484b\n",
       "IazdqRT4SwjW6DXW0qCy4vmK1DABEwjzAEmN+bzzuzNy21dmPXzTURYEdpRSxXuZzAhBoGvmAaYQ\n",
       "ZgHSGuvZ5s7c+7GbXadTbv0cv7HDlNE1FVbDBUwgzAEkNT621eaA7Z3uHzd5EnOWNWe+Y4LdJRsw\n",
       "gXCu4DlvGtZf7qtgOJIEa3Z+5bLdcMoAUwj5gKSG8ZcQP3JiY4o17daVeLmmH6gaFmAKIRuQ1tCX\n",
       "fhpJgsfhXfpUay5e8Mg0GHoMwAxCNiCtMfyMo32K0fdV+2bnmW5+AAM9HzDNF1WIQx8N49XPjR/H\n",
       "0ZkC1sA4HHgj6YJTDggJywGDruajoX966eT3kjwHEKsX1/BrrFtBx+okbyRp8PNsQEBYDhhWuGhY\n",
       "X3HdUMKmRl7QhDiNAcqQNT8ak+++Ctt5z4nCEKcxwKA13xrQT9WGXTl9i3SbLQAi1jw1Zj98GdZx\n",
       "psIQpzFAxJqnhquQbtFNaY45IE5jgIg1T421wjyVbmrkJHQQpzFAxJqnxlRhYkU3ZRg5TQCnMUDE\n",
       "mqcGFtBWjxTJbsoz7AFxGgNErHlo9Nh9mf2jDdMv0m7p88RuSqWPVYjTGCBqzZfGjOYf1oe+0nTL\n",
       "wabW9JgJcRoDRK350pD4REB5H3ry7qgAKEKPVG16VIY4jQEiCqeGwLODcRtKoaf3Dl3DsdtAW62G\n",
       "WY9NRx2iNX8KiCicGpYQkhttCIy7QUKkT4QhTmOAtMbgHf6LwVeZ1Yl0FYjTGCCtsVKwZouQrkaO\n",
       "l5wdQ5zGAGkNRTrgZRtK5TMRnZ4dQ5zGAGmNiQ5nYkvfzC/CQpzGAGPWlJGhV+6hZ441ZbTmTwFp\n",
       "jcnTAXD3TKIyrFOXYh+208Cavw+YreEjsHACxy9LOizEaQyQ1og7cVfsmcb0RwUQ5w8AzXoZOyNH\n",
       "w/t/8TibMI19LuRcv/uPY81/0Zo8QIowCTCwWgUuMiHB6Etz22ffJPxmTt+sD5itkQArp764oe6L\n",
       "I/1XAWmNWMjc3Wvp2vfCyZC4Mf2XAWmNKOzIm2t89lL/mjV/F5DWUNF0jreT+b2XOhMW4jQGSGvE\n",
       "lp3X5EUFofYR995Lfc8IGaseMlqTC3gQFgIevhzTGOiJxMB40qz3G/zeS33/grEiJ6I12YAvwkLA\n",
       "4/eYhiVXtFz48ADy4/XTB56LVYzVYhetyQb8EBYAXjp6QINcxNfB1EMjsOockmCDo0jfSwFxKgK+\n",
       "CUsAP7EvqEEJhVOPecJy6OPXcC+1S1/RZT0XYgK+CYsA31JhDY138uCpOYO2rI+4GNhLPaQ/YIU4\n",
       "9QBPwgJAI6R87WzGNBY0nAVSj362+ILNcXgztJeasZMI4tQDPAgLAJd9CWQUhAa6lWL7er0WpY5t\n",
       "0mj4O64ttJeasZOIsdeDDXgQ5gP2r8xXLpSGR45oO2ybj8amJD0++U5fU4A4tQAJwjTAbSxLKRZS\n",
       "Q1XaVS4n/J4ycmOIUwsQJ0wEJLcwnBrW6yqsg+0M5gsZ2RzEqQWIEyYCkqHq1JA1HkjvbekOmbSw\n",
       "jrhAnFqAOGEioBLE1ODUWGqc2nzNXY3EuhtjkQfi1ALECRMBX28OMMgmp1PD+DoHSLQTqCtkLGxD\n",
       "nFqAOGEqoBRay8hFqnuoMzYNPuE1FG9rsBZoFIi8CovFqah1AWkN8fDy8xpb2nulGwmvoXgvVbHe\n",
       "4SRA0BFoGJqr+AAmIK2xPMQcvQL2I5BoTctbG1/AtS3o1boqZ19shZ1MPxqPk3dqgdNTLXW2NbkH\n",
       "+xhHAyHqjbX7DiCt4W7zKrPXu8+Z+Y3M7NNTm2vNkTuOHJjmOWTi90IlWLvvANIa95cHQF9kbdeL\n",
       "7L4pueMIvssAe7tBwG3eWLvvAEY0pon0RZPTs3l3gunsBMnWXNkBc5riNZjbfLMyylrh1QlXDXmd\n",
       "CavFPEbPLUHh9s2Rv4FNgom5DE/VX6gEa/clwIjG1XP47pmgDnsvFpnWtBl7UqAjC7s2iHpn7b4F\n",
       "SGuIyycnn/3AOKmleVgTvIYCy2ozXLwAFyjCp5glTD+urGlpd3kMemiY9N4+cEdtn0MnojW1iqzw\n",
       "Bs6nhkzu7sz1nMnl4ZloTaUyuS9oKPGlO59nBIjTGCCtMVfo8KEhm7nQC3EaA4xouOELsPnvsYU4\n",
       "jQFGNJSuzroUbEeHOI0B0hpj/TeAq4LHYxCnMcCIxlLbMZkiVojTGGBA438vgHh7lTsjwAAAAABJ\n",
       "RU5ErkJggg==\n",
       "\" style=\"display:inline;vertical-align:middle;\" /></a></span><br>"
      ],
      "text/plain": [
       "temp_split_03: {e in {2 .. 2^{t - 1} - 2}} |- (Sum_{l=e + 1}^{2^{t - 1} - 1} (1 / l^{2})) = ((Sum_{l=e}^{2^{t - 1} - 1} (1 / l^{2})) - (1 / e^{2}))"
      ]
     },
     "execution_count": 84,
     "metadata": {},
     "output_type": "execute_result"
    }
   ],
   "source": [
    "temp_split_03 = temp_split_02.inner_expr().rhs.operands[0].substitute(temp_split_01).derive_reversed()"
   ]
  },
  {
   "cell_type": "markdown",
   "metadata": {},
   "source": [
    "And use that to substitute into the larger inequality:"
   ]
  },
  {
   "cell_type": "code",
   "execution_count": 85,
   "metadata": {},
   "outputs": [
    {
     "data": {
      "text/html": [
       "<span style=\"font-size:20px;\"><a class=\"ProveItLink\" href=\"../../../__pv_it/theorems/f67ffeb951aaff9cc5f02f3801926b572b231a930/expr.ipynb\"><img src=\"data:image/png;base64,iVBORw0KGgoAAAANSUhEUgAAAKwAAAAYBAMAAACVRAuIAAAAMFBMVEX///8QEBAyMjKqqqpUVFRE\n",
       "RESYmJjc3NzMzMwiIiK6urpmZmaIiIh2dnbu7u4AAAAMEBwRAAAAAXRSTlMAQObYZgAAAAlwSFlz\n",
       "AAAOxAAADsQBlSsOGwAAAe1JREFUSMdjYCAZMBVAGXxJDFQE72GMnpPUNNYIzrIkTSPfKjyStZNu\n",
       "4De2uACHzkPr8FmqTMC1HK4PsIoz/2NgYN+t2oApU70pgoHhH25jIbpYHbAayzuBgaGUgfcXhgR7\n",
       "AMP9BVwCDByhQBCOxViILpB+HMa6MzAIYkiwFDAwCvA4vMDpWoguVGN5ImdOghsr/4DBHyPoGf8x\n",
       "sHznPnAPp7EQXSjGcuk8QHKtJwODP0bgskxgYPnBsQ0mXqt/B00BRBfYWL47p8HmFT1ADgQgmI8t\n",
       "gDg/EEic86H6VzZwXADx1eEy3ArgdPIHm67+A/hNBeniEQDG7jcGngUgAQW4VGEC2F1Yk8kUAo4F\n",
       "6WL/DExkf87cAlsjOXPmzKkgVokWWMFWbLq4A7DkSc2ZINCA0PVEmYEf6ig+uAaOraBQZsPq2BQC\n",
       "joXourSAgR8WWIhUAc4ltgzsmHmb+QJDOV5jwbpAuZQTGF8GIJEzKNkBGI08mFm7l4HhHN4IA+vi\n",
       "BUYZmwLDa7CzmAyQja3cvXsnpHQFRiXfJ2jmnb179wR8xkJ0gRPY2TRIMPC5rkMydv7//xCzODcA\n",
       "idnQaP7//78C3kQL1oWaebmuImVeSgCeooYGxoJyCSWAG3tAgXIJJeBhAnbxamdKTK0F6gYAv0eE\n",
       "w3ELTC0AAAAASUVORK5CYII=\n",
       "\" style=\"display:inline;vertical-align:middle;\" /></a> <a class=\"ProveItLink\" href=\"../../../__pv_it/_proof__fail_ineq/a102f93319580eb3fdd8ea4d5455d17fb60490250/proof.ipynb\" style=\"text-decoration: none\">&nbsp;&#x22A2;&nbsp;&nbsp;</a><a class=\"ProveItLink\" href=\"../../../__pv_it/_proof__fail_ineq/f89b15fc2576858d806b7db9c510f7f5999468f60/expr.ipynb\"><img src=\"data:image/png;base64,iVBORw0KGgoAAAANSUhEUgAAA74AAABMBAMAAAC44na9AAAAMFBMVEX////c3Nx2dnZERESIiIgi\n",
       "IiLMzMyYmJju7u4QEBCqqqpUVFRmZma6uroyMjIAAADVePneAAAAAXRSTlMAQObYZgAAAAlwSFlz\n",
       "AAAOxAAADsQBlSsOGwAAEqBJREFUeNrFXWtsHFcVvrvex3h37V1oKyQUyAoRWhGJOApvfmRBVG2p\n",
       "UCxESqANtoCAQJW8iEcLlGZ5VhVQG6hEKopsIfqjKooNBdEShE3aqAhCYh5SW/EjBoSgPBrbSZzY\n",
       "rj3M88y9Z865c8c7a640yeezs3O++5373pk7Qrjpv4JO/42BnqfcId2nPeJxTYcF6XgMzmNg7Lqr\n",
       "/IJqceCk2gz9LbBzJ/Qi7dZ81ise+RkWpOPx2xgwdt1dfnfzQIiHmTIE9oc72xff/jb/Wc94fIcH\n",
       "aXhUjmGQwnVX+QXV4kBYjAuwW9/ZvvCKgSX2o97xONdgQRoe97YxSOG6q/yCanEgqgv0d8BOnFBB\n",
       "rArZaf0o+4nEIzcXgKsyqdLVIRboeajplwiYsNQ4Cv3sCDP9RgPV4mCMGQuAnTjh8/If9zg85jKL\n",
       "784p7hOJR7nl/196KJP45tZYoOehpNIGAiYsNY5CP58M/v7YIQPV4uB55ivPC/YEC0ZeLvu3Dwvx\n",
       "h8zi2zcskggJcf1vAlDMpkt+HQ+0PNTR8wICRixfl+SncFsYqUMGqsVAZYMZLGwI9oRaWIL7vBOc\n",
       "Kw1mNvQpXRR6Ql/c/ZgoimzjO9ZiAS8MTtPzEuBY3rPAuab8WK840RFQ4A/xVwHVYmCQqS9gJ05w\n",
       "iFvX3iDHNz+VWQV+k9ATmhOnxH1Or3T69On5rOLbN8ECXhic/i4DhqXX2NGuKT81URu2FkTOucrv\n",
       "pPjGrxKphgFXfnQl+eVCfGW0Kse3kl0HPD2lJ7Qhdo7+sJxt/a2ssYAXRluFOJaVYc415ac+n1up\n",
       "zLVj9Td2lUg1DGYZhcBOnPBHIU7krpXjOzCUWXzrC3pCdzrK7fh4IOVNr87G6SYPWGHwcPeKDDiW\n",
       "8chsavyUO7mV3FPBZOVD35rirwKqIWBdYCZfFzDwmO5z0l7xiBAPfrYjntj3pn372p6zUnbxra7o\n",
       "CQmxK/sZ8OwoC3geahofUgHNMh4ZxlHgJz9sdhVQDYEy0zyAnTrhg0IsqeOrDNvngWU9IVE61IMV\n",
       "jiYLWB4oHZ1SAMMyHhnGUeDnSMfsKqAaAn1XmBHHFQzU8dWbRV6Ob6GVndarekIZrWmg5m2CBSwP\n",
       "lPZ3FIBZftBt+hpUyzqh8YPXNNirRKqpYJwZDYKdOqGvIb5+w41BfHOvWW65lszS/lEtodxcrpF5\n",
       "fPtWWMDxwO3pJQVwLOORYRz5fnaIF5ldJVJNBUeD1gG3A6E9AnJj0JTnv276kvH0NrlxPUA2WMDj\n",
       "qg/fnrYCH0n8QmGZBQwPnJHysgI4lhAZ4MQ48vzkXv/hX2uvErEA1VQw603KrV+cR2xm5zGQ06+k\n",
       "9SvFkJS+duZK8mIDOYAGHpO2nS668cwRxW6TBTSPWEaqGwpgWHqNncqJceT56bftRc1VZBagmgom\n",
       "w2AjCSZjQE55dHbZ9PdsUUiOb508ZbKL1vdAcoW3OyygeeCM9C9iYMqJdjSZUk5QTQHQayAJUG8S\n",
       "S4iSJTKM7+CGrnvrUXzPz7OA5oEzoh2waDmRjgzzG7EA1RRQuUBLAPbKhWwHMgbxrVEr0F3xMIjv\n",
       "2RYLaB44I9NDGJhyIh0Z5jdiAaopoLZMSwD22vK2x7dMZa0rHgbxPTrEApoHzsjZJgamnEhHhvmN\n",
       "WIBqChhcoyUA++Datse3RE2Au+JhEN+xCRbQPHBGzk9hYMqJdGSY34gFqKaA/hVaArD3r2x7fC1q\n",
       "5NkVD4P4ji+ygOaBMzI5ioEpJ9KRYX4jFqCaAmCwhSSIj8bksmVLqZV5fIU9qh1Un5e8X8wqvvUV\n",
       "FtA8cEbIcbeGasSJdCTrrtFbYgGqyWDnIi0B2HcShatiB4y+8KfH7Yns4ztCtHASj+kgA9bLbp5c\n",
       "zSq+xTUW0DxQRnI2BglUI06kI1l3jd4SC1BNBtPDtARgn6ZG+7PR4P1Ta9nH9zzRJkg8qjbg8shU\n",
       "RvEdvMgCmgfKSOUSBglUI06kI0V3Xm+JBagmgwMLtASRnVpMKtrRnddPZB/fWWIEKvMYWY+GmUMZ\n",
       "xbe6zAKaB8pIYRODBKoRJ9KRojuvt8QCVJPBntDpHnU1PLJTApbsyxHtdIv9+aXkc84S9+3LPMbs\n",
       "6P5io4XRPckca+ssoHmgjOQvYJBANeJEOlJ05/WWWIBqMpgN8InJfyv3ZIf2CKily468tNOEt/r4\n",
       "5s+Sw0G0GTKPgh3lqmzgFGeOLHebLCB54IxU1zHQU5U4kY5U3Tm9ZRagmgz2z9HZBTt9Qp89LHqX\n",
       "9gxrCHl/XMrcZ/4SC3gesiIvYGBMlXSk+jHRG1STwXmGLtjpE6zJF3oY3wMTGkJuuteey9pnYZUF\n",
       "Xjre0OnhDJJewMCYamFVJOTXSG9QTQYjzGIa2JkTztlTvYvvUZgbPB0n5KYBey1rn2WbBd6w9dd6\n",
       "PURxGQNjqpIjJr9GeoNqMphk6IKdOSFvH9uO+P4gTshveVY72xrf668Tej1E/zIGxlQlR1x+TfSm\n",
       "48ssP4GdO+H8Zu/iO03Ft6WuoC1k7LNis0BYu1oMDym+FzEwploh49tKqzeoJoNJZmAJdu6Ee+3m\n",
       "9sa3rfZHy9sXX+tUWzA8pPhexsCYKh3fdlq9yfjaDF2wcyfAmlkP0jkivojHNLVG3U0asDlg/XKK\n",
       "Egal+mUMjKkOUPHFfpL1BtVkwHXbYGf79bOZd4HRosAVIr8qj1rW/X8p/FkgDtT4MnrU1zAwplqK\n",
       "fpH4Ae8nUW9QTQZ3+F/yfplww24Fzfwd4cXu4K5a5H85srec/JJ3j192Tx08+MDBg7fSPEZQN1ff\n",
       "ulO/lt4RtqcxkJPb54BHPfxmKFj5ToEAS1VSSHGkzS+lt3KVUDUV2Pjen9uCr4Z2m7tzLndJbGv9\n",
       "RTx2Dm9b/VXGV5xg9fCup3rs7rEkqnT9nU+rN1l/t94+F74p/o/ts7ipsX3xledH6dvnRKpm7XOi\n",
       "3hnH91zGAxzvieiA12JifgeyGd15z08HIgsOKOsb6eObSLVEjq+m0uoNqslgy/OjUuYrSO4T0fz4\n",
       "GfEYy2b5zH1+Omn87Kfjo1ucH3FUo6I1YDI/4vSOagU5ft76/LeVdXzdJ6JN42vdn41P9/lps/hu\n",
       "ff57v3HR0s5/W8a1QgYjcJnb1TFfGwOU/pN5r3unNr4qj8G5jFYlO2njG/EoKRyKlzHQUt21QhQt\n",
       "Pr+M3rtWqFohg+hWmFvV5bAWBmrqGxLZp/CJ6Gn4/ejpOCEv7cvMZ/j8dCX8EScOaGFEUfmFlr2t\n",
       "h6ZaXoyKluSIyy+jd3lRqhWgmgz2h6teBTW+YN9PL4udisaWZPfS4G2DjbjZM8GzcEep339lHjVp\n",
       "JwppBkHN4oL//xI3+x+Fj/GVw+lHDFgHvTSKeVyvxLdvGQMdVVFbiIpWmfz9t2mgt3sVqBWgmgxm\n",
       "w9bjI/9Wrgf2WbJ5KUeD9TIV38IUbxuXdT7z7cafnP/dI3oimrrnS+HxmaiIfDayvoMgEtgs+S7Q\n",
       "Hc/tHXBqh3tEz0/H758q0PdvhDxKdyvxrb6AgY6qKLaiokU6UnVn9HavArUifsucA+BenaYa3/jN\n",
       "PNxg/WHq8+97fUPMtuPM652RqNw6ij93Ck5P4x7RE9HUPV8yD2nGUYluBag0RX4ETSIcW+7030ZF\n",
       "RS4xzYHHhLu5k3vA89Px+6fy5BNAwCM/qCjD3LZFUxVuowpFi3Sk6s7o7TbNUCvit8w5IMSFhhpf\n",
       "/f110qZ6X6duLLAWvL4B23KOv/kXv/9VUql3yf3TP6Inos8SbYbMI9rC0JJOvc9tkdC3HNtVIr+R\n",
       "2/VXKfDuhMLdj805ouena2E+4oDm8VY1vkyxoKl6RKFokY4U3Tm9j8q1Aq4vg6NBwX6JUOMb2iNA\n",
       "DtZzj5A/a9TaQd+g2qoN0T8h/iW32a5Gd/lH9ET0fmJMJ/GIZhwvnZV+m3nKOc6gbzm2HwnxgBiU\n",
       "+4ub3VZuzjui56f7wmFRHJA8cm01vuVNDDRU3d0/o6JFOlJ05/R+VK4VoJoMzgWNRhPFN7RHQBlE\n",
       "Pu+lv7/Xtskbv/qDvgHZ+q+I6pKQ7xu23ILZ3/GP6PJE7y3xGNz03R90SoQ0NHFPeDf6lmOb7IjZ\n",
       "Rl2+/Lh7+WPBARddYwHJIy/U+A6sYqChKsT9UtEiHSm6c3rfL9eK+ANuDggegyg3UHy1z6fU5F9f\n",
       "qPnx8aBvQLbqsKiuDCgFxt1rZrDtH9HcnliKk3iclbxHk023i82hxsS1/dTdYepZZajrlrB/BAcU\n",
       "vxUWkDw+juJLP59CU3UGRUuUaya/rN7KVYgH3BxQ90+5WqD41pcwSJNOEl3hSX/Et1iY+WpkfMR9\n",
       "GNrdo17Zp57asCCRR60Z7/Nr/iRjRNxsRUWm8nO3h9wt1HcB0NsbsDxyLRRfAXco2wa/fBQmKNep\n",
       "8ouvQu8wUfR/zfrziROrP1aWYzYwSJP+IeL7dPuVZaxVa10XdVoL7l5+5QX/gKpALSwk8nBbALxZ\n",
       "tt8qlC6KJ6UNQ+72dv67W/gH1JcJFlA8Bk6cmP2uMkUdmcdAk/pmOoTrVPnFVwHVFFCFVuO7ylfB\n",
       "Xr28hfi+z+8bYjZ3laz0VFSVdjYqK/7EQZ48DFDzwUQeRafX6W/Fbd5C0+2fjnRYEtOj/jRDnmqc\n",
       "W2ABw6Nfrb+zbQx0697tJuE6VX7xVUA1BRRguK1OwsBe2MqN7N8L+4b7vKWfWwKb9IyVf9vDo6Lk\n",
       "xLe06B/gm7ohLZFHv1Ntxhqq036vKsETWZ5Tp46POfEdE/4RJmb7KA2POnpebA4DXWSeaRGuU+UX\n",
       "X4XewQuC/YT9E2U4uKmrTAbxLUzEbUJ8Dv70bnu47MXVHXHJo64qNZ5M5OHG8ibCJsozitN624vr\n",
       "s8EB1W+KBTSP2v51pbVIqPdo/e8k5TpVfvFVQDUFWMxeYfGn/VO2z0rfELbPlaay3Z614vW73v6k\n",
       "0rC/eEVHSNc+v8Ui2ufvC2WnwPFRr999KDig++ywwIxHwr4OmkQ6Sq07qKaCEWa0B/YRdjjIv9fj\n",
       "tahvCGziA0LcKNtWvIWH8pB/gFITLCFrlvjkHq/C9Dm16XIeDUDc9dmmKMgC1ke9FZZPBEco5yoL\n",
       "OGGwvksIfG2Ro4oiuZroh8w2Ll8TJNjDjAbA7gNE1rv5gHivR8B/N+obAlvuttOnleWQV7o7SXuz\n",
       "mJpUGqZneELH0QRIwGb17gxr48vqx67tmtOnTym2VmUmmK5JzVtlnQWcMCjlLyNQWeCookn6erKf\n",
       "48nxBdVUcI55BxrYfRAjWxtG7/WQ+R9BfUNgKzrTc+U6+be7YS3O+4e2Pwp4oKvC/sSOb+ffu1Cb\n",
       "4dpGbFvtyl75Nvffw8Gh7b20wuAOcx2BWpOjikbKa8l+TibHlxlAcLslou0UEVnv5gP1vR4y/yKx\n",
       "AEXZ/HRNcMBCjIYQhAS938NJtxBfuoXzmRv2Dya7JsLghHfshCIbp2pyQcWMsm3iPgA15u4+sPug\n",
       "qE7a3ZsP0Hs9ZP5lYopQZqcNTwVHWOnWeULWoqi5O1y/Ab/fQ/g/U+B0F7va1faPMI3NsIATBqez\n",
       "oyoY56kqiXEk+8HZJhKohgCzGz7e5h3IQtM6jN7rofDfS1xxL1eVhvwDJnJrPKGom0Dv9xCC3GKc\n",
       "3Xb8quCAOegUCzhhYg1qUwXHearqxHkq0Q/ONjVfXmPAAwzdBxQQ6+CPdNB7PRT+1Hbf3Bbgbgzk\n",
       "OAxO8ISibgK938Mt5MQv1RZ3m9heVOCe4wErDG5QJ1RwkqeqpOeS/ajZppdnJxhwgFkuBbsHgGzw\n",
       "AgA8J0L8cy2inrZoR28NDmivmjyh4jNhO7IUH7RcTXzpaqa0N/wDWrdlFvDC4GtuqOBwh6cqCNca\n",
       "PzjbRALVMKgz/QzYPQBkYe6L3wvAtj9pE/d+IZdHHV5Uit7v0WVS312kAF4YnNZVsNgyoso6kvzg\n",
       "bOtUwyDPXB/sHlhUKx/xXoCspLaYeafHo/bO8C/0fo8u0/gMC3hhYjPWjgKenDeiyjqS/OBsa1SL\n",
       "AYtpH8DugSfVRol4L0BWUhe4Jogi2ieySQcaLDDi4UeqiYEJVdaRtbwV1eKA27wP7Aa7+2UodT87\n",
       "jyJ41DJy+iAPjHj4inJby2qpPpjaj1a1OCgy4xmwcyf0Rmo+V2Y8ttRmXDEKURKPd8VACtfd5Tde\n",
       "GQFUmAYR7JUlsX3J4n/X7h2P8TYL0vCYbmCQwnVX+QXV4oDfAfaJpBN6kXQvvu8ZD83b69PwgLsX\n",
       "akPpXXeVX1AtDpx2gClCYC+2ty++z2o6nV7xGDjGgnQ83hMDxq67yy+oFgfODJvxAfbSse2L72HN\n",
       "Z73iAYvrcZCOx0c7GBi77i6/h3ngpN8z3/p90gk96H61wvaIxzd4kI7HQAMDY9dd5RdUw+B/0xf8\n",
       "zxuxda8AAAAASUVORK5CYII=\n",
       "\" style=\"display:inline;vertical-align:middle;\" /></a></span>"
      ],
      "text/plain": [
       "{e in {2 .. 2^{t - 1} - 2}} |- ((1 / 4) * ((Sum_{l=-2^{t - 1} + 1}^{-(e + 1)} (1 / (l - (2^{t} * delta))^{2})) + (Sum_{l=e + 1}^{2^{t - 1}} (1 / (l - (2^{t} * delta))^{2})))) <= ((1 / 4) * ((Sum_{l=e + 1}^{2^{t - 1} - 1} (1 / l^{2})) + (Sum_{l=e}^{2^{t - 1} - 1} (1 / l^{2}))))"
      ]
     },
     "execution_count": 85,
     "metadata": {},
     "output_type": "execute_result"
    }
   ],
   "source": [
    "# recall\n",
    "fail_ineq_lemma_inst_bound_05"
   ]
  },
  {
   "cell_type": "code",
   "execution_count": 86,
   "metadata": {},
   "outputs": [
    {
     "data": {
      "text/html": [
       "<strong id=\"bound_07\">bound_07:</strong> <span style=\"font-size:20px;\"><a class=\"ProveItLink\" href=\"../../../__pv_it/theorems/f67ffeb951aaff9cc5f02f3801926b572b231a930/expr.ipynb\"><img src=\"data:image/png;base64,iVBORw0KGgoAAAANSUhEUgAAAKwAAAAYBAMAAACVRAuIAAAAMFBMVEX///8QEBAyMjKqqqpUVFRE\n",
       "RESYmJjc3NzMzMwiIiK6urpmZmaIiIh2dnbu7u4AAAAMEBwRAAAAAXRSTlMAQObYZgAAAAlwSFlz\n",
       "AAAOxAAADsQBlSsOGwAAAe1JREFUSMdjYCAZMBVAGXxJDFQE72GMnpPUNNYIzrIkTSPfKjyStZNu\n",
       "4De2uACHzkPr8FmqTMC1HK4PsIoz/2NgYN+t2oApU70pgoHhH25jIbpYHbAayzuBgaGUgfcXhgR7\n",
       "AMP9BVwCDByhQBCOxViILpB+HMa6MzAIYkiwFDAwCvA4vMDpWoguVGN5ImdOghsr/4DBHyPoGf8x\n",
       "sHznPnAPp7EQXSjGcuk8QHKtJwODP0bgskxgYPnBsQ0mXqt/B00BRBfYWL47p8HmFT1ADgQgmI8t\n",
       "gDg/EEic86H6VzZwXADx1eEy3ArgdPIHm67+A/hNBeniEQDG7jcGngUgAQW4VGEC2F1Yk8kUAo4F\n",
       "6WL/DExkf87cAlsjOXPmzKkgVokWWMFWbLq4A7DkSc2ZINCA0PVEmYEf6ig+uAaOraBQZsPq2BQC\n",
       "joXourSAgR8WWIhUAc4ltgzsmHmb+QJDOV5jwbpAuZQTGF8GIJEzKNkBGI08mFm7l4HhHN4IA+vi\n",
       "BUYZmwLDa7CzmAyQja3cvXsnpHQFRiXfJ2jmnb179wR8xkJ0gRPY2TRIMPC5rkMydv7//xCzODcA\n",
       "idnQaP7//78C3kQL1oWaebmuImVeSgCeooYGxoJyCSWAG3tAgXIJJeBhAnbxamdKTK0F6gYAv0eE\n",
       "w3ELTC0AAAAASUVORK5CYII=\n",
       "\" style=\"display:inline;vertical-align:middle;\" /></a> <a class=\"ProveItLink\" href=\"../../../__pv_it/_proof__fail_ineq/b5add19905325421c6aafa75c5cdb04ad49b20ca0/proof.ipynb\" style=\"text-decoration: none\">&nbsp;&#x22A2;&nbsp;&nbsp;</a><a class=\"ProveItLink\" href=\"../../../__pv_it/_proof__fail_ineq/d8b6dda6843ad887540677c977c55329480423d20/expr.ipynb\"><img src=\"data:image/png;base64,iVBORw0KGgoAAAANSUhEUgAAA6AAAABMBAMAAACBhcfmAAAAMFBMVEX////c3Nx2dnZERESIiIgi\n",
       "IiLMzMyYmJju7u4QEBCqqqpUVFRmZma6uroyMjIAAADVePneAAAAAXRSTlMAQObYZgAAAAlwSFlz\n",
       "AAAOxAAADsQBlSsOGwAAEjJJREFUeNrFXX2MXFUVvzM7H29nZncGCjEx1U4MCJFot6miyB8dCA1U\n",
       "NN0Yi1XA3QjFaEi6xI8iYjt+EgJ2VyWhDZDdEPsHwXRXqxGsYdeWpkbXdlEMEP7oqiGKCPvRdne7\n",
       "293nu+/jvnvPO+feN7Nv1pO89rdn7p33O+fc73ffHca4vM1weTsCWi6pnbpPW8Tj8joJGuPROQFB\n",
       "c/Tj8pD8JTuuNIInFnoqQSvkGs1nreKRHiFBYzz+FAHN0Y/JQ/GX5LhniGIg9M/U1y6g7X30Zy3j\n",
       "8TgNGuFROABBs/Tj8VD8FTrOIjIJvfX42sWTdcyQH7WOx5kKCRrh8XAfBM3Sj8VD9VfouOIknlTo\n",
       "kQQFcJ9Mcs49Qn4i8UiN+WBdIpW22EUCPQ9VXogALFsc7rF4AH8JsHsCTyn0SIJvy3885DAdSyyg\n",
       "G4aoTyQe+Zr3f+5QIgFNLZJAz0OR3DIEaLY43GPxAP4S4B0i5TuMTGCJ4RIndlM3Y39JLKBt3cxE\n",
       "iLGtf/RBNplu9SM00PJQx7iTEKDZYnGPwwP4KwCFZaKHX2ZkglJQRtvcBM43dSY2XsmdY3pC373m\n",
       "OZZlyQZ0d40EtGOgDE9AEMlGcLf2mgkZ/RWATqJGCD2SwOFkXXWzHND0UGJV9DqmJzTGTrD9jK0f\n",
       "Hx+fSCqgbQMkoB0D5Y0IiGQjuN+91UzI7K/r9EVAV0bey9gPeotyQAvJdaLDQ3pCy2xD78/zydbQ\n",
       "wiIJaMeYqgqSjeJ+yEzI7C8fjBIuEXokwV8ZO5q6Sg5oR1diAS1P6gnd7zhl/X2+77Z9IJmbrtCA\n",
       "dAwcmS5AEM1GcT8Ug5DRXx6wzhKTrbMQuCQ2O7KJPcvYkw/U2fHN123e3OcGNJdcQItzekKMXZn8\n",
       "THS0lwQ0D1X6uyDAsuHcD8UgZPSXB/JElRZ6LMFdjM2og6IEm9yOWT0hltvZgqWFKglIHkD2DUGA\n",
       "ZCO4H4pByOgvD7QtEMOEBQjUQdHHWVoOaKaWnHMv6AkltJgA2q0BEpA8gGypQ4BkA9z9Fg8JqJEH\n",
       "4i8X9BNjNqHHErRV2KM33+IHNPWh2RrXJCZberWEUmOpSuIBbZsjAcUDtqnnIUCyUdwPxSBk9pcL\n",
       "9vk1ehcoVoE+BHItr8rzUC7fiz3NNLeX29FGRvBYd8+9jVbRXcYMmVkSEDygIflZCJBsFPdDEaZG\n",
       "HqFNwl8uGHUnwdbvpsCNRicgkOX30kqRojDJI6cWzLN8dJgreAzadmPhjBqHlLMVEuA8IoYUlyFA\n",
       "shHcL526AjI18JBtEv5ywWAQXWDzYATIkgap8xNxvZsxB7SMJhlcRYO63Vyl7ToJcB7QkPZpCJqh\n",
       "HzI18QhTCn9xIBp8YLOhR2DgJhZLMKCdy7ouqkUBnZogAc4DGqIddMSmHzI18JBSCn9xUDiL2yz0\n",
       "hbPJjj5iBLSErbSsikeMgJ6ukQDnAQ0Z7oKgGfohUwMPKaXwFwelWdxmoS/NrnlA85jxq+IRI6D7\n",
       "ukiA84CGnK5C0Az9kKmBh5RS+IuDzkXcZqHvXFzzgOawieiqeMQI6O4BEuA8oCFTQxA0Qz9kauAh\n",
       "pRT+4qB9DrdZ6Nvn1jygFjYSXBWPGAHtnyYBzgMaMtgLQTP0Q6YGHlJK4S8OxAgJ2KyMnCLFzZak\n",
       "lnhAmd2rHfpOSXc/l1RAy3MkwHlAQ/SjUsWNGgOksaueh2yT8JcDNkzjNgv9BqR8FGz/Ht95+Xl7\n",
       "IPmA9iCNlsRj2DfAes+tgxeSCmh2kQQ4D2BIyoaAoq81IGRq4CHbJPzlgOFu3GahH8YG4aPhIPzr\n",
       "i8kHdAqp9RKPoi1wHot9UwHtPEcCnAcwpHAeAoq+1gBpMqLnIdsk/OWA7ZO4zaEeW7bJ2uEG4OPJ\n",
       "B3QUGSfKPHqWwtFjV0IBLc6SAOcBDMmsQEDS1xkQMjXwkG0S/nLAxuD7NqqLxqEe81jOng8ZNbZS\n",
       "np4xpzmN7BeXeey2w32vsdYcN5o5lpZIgPMAhqTPQkDS1xkQMjXwkG0S/nLAqI+PDr6lbA4O9CFQ\n",
       "i4cdfl1fI/EsPr/yG7P/kVZB5pGxQ2fmY9wUGocWtBUSoDygIcUlCEj6GgMkpgYesk3CXw7YMobb\n",
       "J/R4gja7m7VONnZrCLl/nE/8nunzJKB5yB65qILU+D976WwxDDDwQP3lgCmCn9DjCazBiy0M6PYB\n",
       "DSEuD9tjSd8zc4EErhyu6PzhDF0uqmAdSy9T9GMZQPDQ+ssBPVVi5lCFQJUz9lDrArpPjPFfiRLi\n",
       "0mEvJn3PvE0CdzD/B70/WHZWBb9g7CDmz9gG4Dz0/nLAIMFP6IkEafvAWgT0Z1FCXttyob6mAd16\n",
       "NdP7g7XPqmCwzkYrjFHZzAY0G1BioUfoqQRTK60L6DAW0Jq6VjWZ8D0LNgmYdWWN4CEF9JwKfq3u\n",
       "14PZzAYgPIz+csAgMfwTeirBw3Z1bQPap/bhs2sXUOtEHyN4SAGdh4D1MDqb2YAmA2oT/ISeSiCW\n",
       "/1ogZ5CAAh7D2HrvaqTDpoD1whDmGCDleQiUDfSRbEYDooTM/nIANbYRenLwczrxbiycdy8gAVV5\n",
       "lJLuw3PBmnoUqAEl/FFehCA7ostmNCDKw+wvB+zxErsL/zzOlt817gm+ZA/1bVn6OYvdtHhF7SGv\n",
       "OJ/YsePgjh234zx6wApnufmbevVwT9AYRkBKbnJ9HuUgZ+Cw/P0MAHdNNOJP0oDQhGmcx/4dXG5T\n",
       "HKz4ywU23LByhx+TQG9T279S59ma1lDAY0P3mtVQZVBEOawczDoDkB9B/RnbgCZraPNNbubH7P/Y\n",
       "5LJtlbULqDxtid3kPs3kPdXRbCYD1jygZxIelbgvw/q8po0B7UhmSGa976hwG6OAsrAQN6C5KsvU\n",
       "NQE1GoDzwAM6HYKmpy25xNdq+Muw9CgX8NidzEJViZW6TaNcf+mvt7Fpy+Xj4yc00xbKgLCEGUe5\n",
       "YVJ5lNv8PLSWdED5y7BxA2o9lsw9yxOpuXgBbXQe2mPbK7p56GONlzAyqRzQHnGje9UxWB8EQP6b\n",
       "eM95vzagKo/OsYQW/OqNBjTkkVM4ZOchILJpDEj39OpKGFkY5YCGuz1uV1f2ahCo0tbFkpfgZdhh\n",
       "8bTllSghVzYnds90cHZI8EwjCnDHqPNM044R6EbcgH1SCTPwkAuj8JcDtgQLeBk1oEK/BV/hOxF2\n",
       "+GhnUKF1nZWo2lWJ97n2Yc9DZR6l8M2vgjSRwiZX/v9/j6q9j4KXuPLBLCwCLHf+t6MX8tiqBLRt\n",
       "FgKaPmUAOyWVsCghsjAKfzlgNKj6X3pLSSv0o2jjlg/nLHksoJkhWtcvO/bUTysvO//zK3wZFtvH\n",
       "pPD4ZlgmHgi1n0CI+DpL3nS3/s1NHU6F4RdLfSxgt0ICnEdurxLQ4kUIaPqUAewzUgkz8JALo7wB\n",
       "TGxHqaoBlbep6Ocsz2CfP+20n3NR3fpT1zrjRbmMsdfrGad74Vf4Miy2j0nmIQ35C+Gz8EKVd0Jq\n",
       "Lkfnbh0oyEWk2vEc42fy8Gs9u8RnEtkThG8OEjzSnYpnDFuAVDfiBjDehIoSZuAhF0Z5A1iAMxU1\n",
       "oPpNYtKBZY9iBdJy/JefjuhSzv0mLv3C+6VyzcvYv70rfBn2NNIqyDzC0+MsKel+txNSZb+3dSB1\n",
       "5T+kSPPpLj8oy7lS197jTzBLgR1RgPO4QQ1oQ5vEcANcl4kSpuVhXfHJephUfIcD9vlF911MDWig\n",
       "DwE6Z0k9iz50KTkVrjQZ0RUrrH2A/UduhrlTHvSu8GXYLchATOIRDvnfPSo9szjpd0KynPS3DnTK\n",
       "XcCt3Hdj7tUeLIeytmAsEwUoj1SfGtD8CgQUfdIAflJjWMK0PP7Wm6uGSYW/HHDGr/FVENBAHwJl\n",
       "zPaOK298zrbR3WLtfBBYi+jaF1hxhsn7WS1e1dvr3hV+PdIDSzw6V7zb73CKgDRgGPA7IVkG/K0D\n",
       "Zfnr+/nXH/Av8aWLJEB5pJka0I4LEFD0SQNYe00qYToeqXmWmQiTyu9J+Vv08xUQUO2rECX5WQU2\n",
       "T+Xd5IbeiK7YzYpzHUoJ4SeGdPZ5VzgLR1YVJR6npbuHkz7eTaZAc8F17taB15QBKS9S//Iv4cw5\n",
       "EqA87gMBbeRVCNwAxnZXtIQkC87d9EHMXw4oextEL2MgoOUZCBqRY0h3dsybvE1nRn4YKp/lb8fy\n",
       "c7iVs7ix1Wgjj1I12m+XvMlCD7vVCstI4be8l7uGqcehR9/Owk8G8HmkaiCgTOxUtiusCfpctjEt\n",
       "IekzcOt6CLLew57Xjx698Etl4WMZgkaEF/0jiI6feFeqXR12PJP8GLX8pHeJwo41WkYevI7D44K9\n",
       "ep87x16UDoXY657Stpd5l6hCAyTAeHQcPTr6hDK37JmAoCH6XK63tISkgCrdmfAXB0VR5Z9Qsgh9\n",
       "cb6JgH7euR5DdHw9KncyrCwbKoU5b+Quj947sGGFkUd2yO2EIjp3Sefeb4Tmz7DhXm+2Jc+4zkyS\n",
       "gODRrlaT0T4IGqLPZT6tJSTZVZXXc4S/OMiIMbE62hb6TDM7qp9yqoXbxkhP2Z9y28CgCnlP8o+w\n",
       "nBPQ3LR3iXtjay1GHu0TQScU3rTdrSzidSr3pk4t3u0EdDfzrkDUw34UQPAog9eMxiBoiD6X5e9r\n",
       "CUlD6kn2aCXqLw5EdI/bv1IGbSu66hIjoJmBqI6xb4k/3Sf5824g+TBJHioVseGlkQcP3jZEF2wd\n",
       "CG5a7nMD+Zp/iQo2RAKcR2nLktIe6Gt2LDc+WNUSkuTGPTXEXxxY1MM2G4IGm9y2kXq0yS1Ug7mw\n",
       "991zbt/pHv4ozX6yCzpCuib3egtpctWtA6y/1+07DzH1QLaeOgni8dC/Qt+4Gw08GOIvF/QQOyGE\n",
       "vofcKrEeLkEJ+TCvCNWIjn2RsVtk3Zw74893eZdwzQBJyBpFPnnIrRJtNdAJ+TqwdYCVe92lja/6\n",
       "V+DwCySgHAPdOgMBne2RaWM8jTwQf7lgI/G8U+g9ACi4T8u/5v/xlZ3At3w+UH4VDFAcXeqO8XFl\n",
       "HeIKfvKuO7koSeEfHqEJHQbzEub/iIE38VE6IV8Htg6wdK0w4s+ijkkz1iUSUI4Bkp6HgM5WmDQG\n",
       "1MgD8ZcLzhA/xiT0HgAU+NPyzB1B474T+JbtcqrcMfCFu/jOT1t9AyB9E49jdsK7mLbz8niAbxXH\n",
       "uzr37gadkK8DWwecUnQj//dO/8L6Ibon1zisYwkCOlupagyokQfV27YTtR8cXQcouE/LRWXbCXzL\n",
       "sshSD6bz5HL/EgsfGkIiBuBHDBy5Dcl0G3XPVLd3EebGcQwU/emISjZRfD0rYvhfJ+qNS8TuM6H3\n",
       "QFadLfOn5fzxyfj4+J+RgOaRkTumC1fVT0rVaokmZE2zEj8z+KPwRwyYt8YfGTeS60p93iVW3UZI\n",
       "QDkGyuleCMhs/aoVmBh5RP3lAeJAcHjwtaAgWsvuwlgfVUPZJuQbN1GVpcu7xLRqkSYUtvzgRwwY\n",
       "Q89gJs9lXudfYtY3RALKMZFGtQoBme2wagUmRh5Rf/ngIJHuoAIOw4931VMnfW/d/ZMhGFDsPGTq\n",
       "jGTudNnxnQM0obDlBz9iwGsv8uTWorY+bQIl7E0akI6BjeQABGS2Y7IVuJh5RPzlg+3Euw5C7wJB\n",
       "4S5eUSuRqYrqW752Ha2JNfxGN/iXaGyqNKHsq0FLMcMizcJlSKbLiFJd8S7RbM2SgHYM/M5lCMhs\n",
       "d9YVK7B21Mwj4i8flIk2WuhdICiIOegljBxwrk6o30XhPMriZxDBjxisUqK/uVIkz1OiHMaWIoDK\n",
       "Nl1TrIhFyOwvH6SJHELvgmm1eoVPyxMPqEXNuziP0qeCv8CPGKxS+kdIQDsmMtWsQ0Ble3FCsSIW\n",
       "IaO/AmARdVroXfCi2s6ET8uVgCbh2wzVDGFE21gysr1Cglg8PN9XIYiVLSYho78EoM5NE/oYB6sl\n",
       "6Nt2cnqD8CgldNMnaRCLh+dR6qDORtzYAA/gLwGyxCBE6LPVOBSS8i1tdzweTbUKC/FiYuDx6Qho\n",
       "ln4sHlS9KxBtnNAXZtjaiUU/CW4dj/4+EjTCY7gCQbP0Y/FQ/SU5jjpP87gpQStE96PTLeNxhAaN\n",
       "8BCP7/EzQo+vhpDRX5LjskQpEPps39oF9DVNT9MqHh0HSNAYj89GQHP0Y/JQ/CU5LkfkEvrcgbUL\n",
       "6J2az1rFQyxUR0FjPL5ch6A5+jF5KP6SHfcSkfglU4IWdKFaC1rE40c0aIxHRwWC5ujH5SH5ywf/\n",
       "A6x+eM8t0WUGAAAAAElFTkSuQmCC\n",
       "\" style=\"display:inline;vertical-align:middle;\" /></a></span><br>"
      ],
      "text/plain": [
       "bound_07: {e in {2 .. 2^{t - 1} - 2}} |- ((1 / 4) * ((Sum_{l=-2^{t - 1} + 1}^{-(e + 1)} (1 / (l - (2^{t} * delta))^{2})) + (Sum_{l=e + 1}^{2^{t - 1}} (1 / (l - (2^{t} * delta))^{2})))) <= ((1 / 4) * ((2 * (Sum_{l=e}^{2^{t - 1} - 1} (1 / l^{2}))) - (1 / e^{2})))"
      ]
     },
     "execution_count": 86,
     "metadata": {},
     "output_type": "execute_result"
    }
   ],
   "source": [
    "bound_07 = fail_ineq_lemma_inst_bound_05.inner_expr().rhs.operands[1].operands[0].substitute(temp_split_03)"
   ]
  },
  {
   "cell_type": "code",
   "execution_count": 87,
   "metadata": {},
   "outputs": [
    {
     "data": {
      "text/html": [
       "<strong id=\"e_greater_zero\">e_greater_zero:</strong> <span style=\"font-size:20px;\"><a class=\"ProveItLink\" href=\"../../../__pv_it/theorems/f67ffeb951aaff9cc5f02f3801926b572b231a930/expr.ipynb\"><img src=\"data:image/png;base64,iVBORw0KGgoAAAANSUhEUgAAAKwAAAAYBAMAAACVRAuIAAAAMFBMVEX///8QEBAyMjKqqqpUVFRE\n",
       "RESYmJjc3NzMzMwiIiK6urpmZmaIiIh2dnbu7u4AAAAMEBwRAAAAAXRSTlMAQObYZgAAAAlwSFlz\n",
       "AAAOxAAADsQBlSsOGwAAAe1JREFUSMdjYCAZMBVAGXxJDFQE72GMnpPUNNYIzrIkTSPfKjyStZNu\n",
       "4De2uACHzkPr8FmqTMC1HK4PsIoz/2NgYN+t2oApU70pgoHhH25jIbpYHbAayzuBgaGUgfcXhgR7\n",
       "AMP9BVwCDByhQBCOxViILpB+HMa6MzAIYkiwFDAwCvA4vMDpWoguVGN5ImdOghsr/4DBHyPoGf8x\n",
       "sHznPnAPp7EQXSjGcuk8QHKtJwODP0bgskxgYPnBsQ0mXqt/B00BRBfYWL47p8HmFT1ADgQgmI8t\n",
       "gDg/EEic86H6VzZwXADx1eEy3ArgdPIHm67+A/hNBeniEQDG7jcGngUgAQW4VGEC2F1Yk8kUAo4F\n",
       "6WL/DExkf87cAlsjOXPmzKkgVokWWMFWbLq4A7DkSc2ZINCA0PVEmYEf6ig+uAaOraBQZsPq2BQC\n",
       "joXourSAgR8WWIhUAc4ltgzsmHmb+QJDOV5jwbpAuZQTGF8GIJEzKNkBGI08mFm7l4HhHN4IA+vi\n",
       "BUYZmwLDa7CzmAyQja3cvXsnpHQFRiXfJ2jmnb179wR8xkJ0gRPY2TRIMPC5rkMydv7//xCzODcA\n",
       "idnQaP7//78C3kQL1oWaebmuImVeSgCeooYGxoJyCSWAG3tAgXIJJeBhAnbxamdKTK0F6gYAv0eE\n",
       "w3ELTC0AAAAASUVORK5CYII=\n",
       "\" style=\"display:inline;vertical-align:middle;\" /></a> <a class=\"ProveItLink\" href=\"../../../__pv_it/_proof__fail_ineq/f1cac306469e4622ae06565f726b279665eacc100/proof.ipynb\" style=\"text-decoration: none\">&nbsp;&#x22A2;&nbsp;&nbsp;</a><a class=\"ProveItLink\" href=\"../../../__pv_it/_proof__fail_ineq/a60113b53fb7d0bb03d906bda99d25b9477b31820/expr.ipynb\"><img src=\"data:image/png;base64,iVBORw0KGgoAAAANSUhEUgAAAC8AAAAQBAMAAAB0JTvnAAAAMFBMVEX///8QEBAyMjKqqqpUVFRE\n",
       "RESYmJjc3NzMzMwiIiK6urpmZmaIiIh2dnbu7u4AAAAMEBwRAAAAAXRSTlMAQObYZgAAAAlwSFlz\n",
       "AAAOxAAADsQBlSsOGwAAALhJREFUGNNjYMAC7p4uwCbMwGTANx2rRCYDw1UE71ECnBnCwGD/AM7j\n",
       "u3kAxvzNwNBvABS5cxoiffIeVAlIAqh/ZQPHBajZ+8AU+1+gxAEG9m8MPAugZhhth0tcYGD9c+YW\n",
       "3KJFfiCjgBLrDzDwOyA5dFEc1HJ7Awb+AwhxI3cwFcrAkP+AgRNoswHU8u0QOpGBYRMDA5sCw+sC\n",
       "FOcycBrwSQCps2lgw/hOws3k23ukAWH+ywQG4gAAUEw0Q7c/TmEAAAAASUVORK5CYII=\n",
       "\" style=\"display:inline;vertical-align:middle;\" /></a></span><br>"
      ],
      "text/plain": [
       "e_greater_zero: {e in {2 .. 2^{t - 1} - 2}} |- e > 0"
      ]
     },
     "execution_count": 87,
     "metadata": {},
     "output_type": "execute_result"
    }
   ],
   "source": [
    "e_greater_zero = greater(e, zero).prove()"
   ]
  },
  {
   "cell_type": "code",
   "execution_count": 88,
   "metadata": {},
   "outputs": [
    {
     "data": {
      "text/html": [
       "<strong id=\"one_over_e_sqrd_greater_zero\">one_over_e_sqrd_greater_zero:</strong> <span style=\"font-size:20px;\"><a class=\"ProveItLink\" href=\"../../../__pv_it/theorems/f67ffeb951aaff9cc5f02f3801926b572b231a930/expr.ipynb\"><img src=\"data:image/png;base64,iVBORw0KGgoAAAANSUhEUgAAAKwAAAAYBAMAAACVRAuIAAAAMFBMVEX///8QEBAyMjKqqqpUVFRE\n",
       "RESYmJjc3NzMzMwiIiK6urpmZmaIiIh2dnbu7u4AAAAMEBwRAAAAAXRSTlMAQObYZgAAAAlwSFlz\n",
       "AAAOxAAADsQBlSsOGwAAAe1JREFUSMdjYCAZMBVAGXxJDFQE72GMnpPUNNYIzrIkTSPfKjyStZNu\n",
       "4De2uACHzkPr8FmqTMC1HK4PsIoz/2NgYN+t2oApU70pgoHhH25jIbpYHbAayzuBgaGUgfcXhgR7\n",
       "AMP9BVwCDByhQBCOxViILpB+HMa6MzAIYkiwFDAwCvA4vMDpWoguVGN5ImdOghsr/4DBHyPoGf8x\n",
       "sHznPnAPp7EQXSjGcuk8QHKtJwODP0bgskxgYPnBsQ0mXqt/B00BRBfYWL47p8HmFT1ADgQgmI8t\n",
       "gDg/EEic86H6VzZwXADx1eEy3ArgdPIHm67+A/hNBeniEQDG7jcGngUgAQW4VGEC2F1Yk8kUAo4F\n",
       "6WL/DExkf87cAlsjOXPmzKkgVokWWMFWbLq4A7DkSc2ZINCA0PVEmYEf6ig+uAaOraBQZsPq2BQC\n",
       "joXourSAgR8WWIhUAc4ltgzsmHmb+QJDOV5jwbpAuZQTGF8GIJEzKNkBGI08mFm7l4HhHN4IA+vi\n",
       "BUYZmwLDa7CzmAyQja3cvXsnpHQFRiXfJ2jmnb179wR8xkJ0gRPY2TRIMPC5rkMydv7//xCzODcA\n",
       "idnQaP7//78C3kQL1oWaebmuImVeSgCeooYGxoJyCSWAG3tAgXIJJeBhAnbxamdKTK0F6gYAv0eE\n",
       "w3ELTC0AAAAASUVORK5CYII=\n",
       "\" style=\"display:inline;vertical-align:middle;\" /></a> <a class=\"ProveItLink\" href=\"../../../__pv_it/_proof__fail_ineq/94099a15b23e59f4ed283be9d500848753a8bb550/proof.ipynb\" style=\"text-decoration: none\">&nbsp;&#x22A2;&nbsp;&nbsp;</a><a class=\"ProveItLink\" href=\"../../../__pv_it/_proof__fail_ineq/8ae3066f66b27bb923f6d141db725d670454b88f0/expr.ipynb\"><img src=\"data:image/png;base64,iVBORw0KGgoAAAANSUhEUgAAADsAAAAqBAMAAAD/gT6+AAAAMFBMVEX///+qqqpERES6urqYmJgQ\n",
       "EBDc3Nx2dnaIiIgyMjJmZmZUVFTu7u4iIiLMzMwAAACFobtaAAAAAXRSTlMAQObYZgAAAAlwSFlz\n",
       "AAAOxAAADsQBlSsOGwAAAQtJREFUOMtjYACCtwcYcAOeXfPxSTMw9I9KkyFdn4BPdnf8bAcGkkF5\n",
       "Fz5DOQV4ruGR9mVgKEIXO4lwhDYDgzy6j3hqG2DMXwwM7wUwzOytgSoESWPxkO8aMMX2HSjdgMVN\n",
       "ksvg0gUM/2HgA1zecg/IcKC0PTbdDJY6UKfJC2AzfBuYUmJg8McSVb7LILQrA8NKmHfLdx9A8xgD\n",
       "rwBPHJTJxcB1AaKuF+4anuXdD6BMfgO2f2DGWawxy3IAKo0LsF/AK403DzOw6eDM3hVdBxiyGNJw\n",
       "SNs+4Ctg03u3BoexXxg4DFiRYwQFMP3oKMbjKP4NeH3E34BXmreAgUEAtzTLBIZT+HJDuwse4wEx\n",
       "DFc0BByGOQAAAABJRU5ErkJggg==\n",
       "\" style=\"display:inline;vertical-align:middle;\" /></a></span><br>"
      ],
      "text/plain": [
       "one_over_e_sqrd_greater_zero: {e in {2 .. 2^{t - 1} - 2}} |- (1 / e^{2}) > 0"
      ]
     },
     "execution_count": 88,
     "metadata": {},
     "output_type": "execute_result"
    }
   ],
   "source": [
    "InSet(frac(one, Exp(e, two)), RealPos).prove()\n",
    "one_over_e_sqrd_greater_zero = greater(frac(one, Exp(e, two)), zero).prove()"
   ]
  },
  {
   "cell_type": "code",
   "execution_count": 89,
   "metadata": {},
   "outputs": [
    {
     "data": {
      "text/html": [
       "<strong id=\"bound_08\">bound_08:</strong> <span style=\"font-size:20px;\"><a class=\"ProveItLink\" href=\"../../../__pv_it/theorems/f67ffeb951aaff9cc5f02f3801926b572b231a930/expr.ipynb\"><img src=\"data:image/png;base64,iVBORw0KGgoAAAANSUhEUgAAAKwAAAAYBAMAAACVRAuIAAAAMFBMVEX///8QEBAyMjKqqqpUVFRE\n",
       "RESYmJjc3NzMzMwiIiK6urpmZmaIiIh2dnbu7u4AAAAMEBwRAAAAAXRSTlMAQObYZgAAAAlwSFlz\n",
       "AAAOxAAADsQBlSsOGwAAAe1JREFUSMdjYCAZMBVAGXxJDFQE72GMnpPUNNYIzrIkTSPfKjyStZNu\n",
       "4De2uACHzkPr8FmqTMC1HK4PsIoz/2NgYN+t2oApU70pgoHhH25jIbpYHbAayzuBgaGUgfcXhgR7\n",
       "AMP9BVwCDByhQBCOxViILpB+HMa6MzAIYkiwFDAwCvA4vMDpWoguVGN5ImdOghsr/4DBHyPoGf8x\n",
       "sHznPnAPp7EQXSjGcuk8QHKtJwODP0bgskxgYPnBsQ0mXqt/B00BRBfYWL47p8HmFT1ADgQgmI8t\n",
       "gDg/EEic86H6VzZwXADx1eEy3ArgdPIHm67+A/hNBeniEQDG7jcGngUgAQW4VGEC2F1Yk8kUAo4F\n",
       "6WL/DExkf87cAlsjOXPmzKkgVokWWMFWbLq4A7DkSc2ZINCA0PVEmYEf6ig+uAaOraBQZsPq2BQC\n",
       "joXourSAgR8WWIhUAc4ltgzsmHmb+QJDOV5jwbpAuZQTGF8GIJEzKNkBGI08mFm7l4HhHN4IA+vi\n",
       "BUYZmwLDa7CzmAyQja3cvXsnpHQFRiXfJ2jmnb179wR8xkJ0gRPY2TRIMPC5rkMydv7//xCzODcA\n",
       "idnQaP7//78C3kQL1oWaebmuImVeSgCeooYGxoJyCSWAG3tAgXIJJeBhAnbxamdKTK0F6gYAv0eE\n",
       "w3ELTC0AAAAASUVORK5CYII=\n",
       "\" style=\"display:inline;vertical-align:middle;\" /></a> <a class=\"ProveItLink\" href=\"../../../__pv_it/_proof__fail_ineq/cca311d574d951e628ef18e9755b314a1802d6e70/proof.ipynb\" style=\"text-decoration: none\">&nbsp;&#x22A2;&nbsp;&nbsp;</a><a class=\"ProveItLink\" href=\"../../../__pv_it/_proof__fail_ineq/212f47dc884b5aa7fef33e0b00f1e3ac5bcde27d0/expr.ipynb\"><img src=\"data:image/png;base64,iVBORw0KGgoAAAANSUhEUgAAAioAAABLCAMAAABp2VxXAAAANlBMVEX///+/v7+urq7c3Nx2dnZE\n",
       "RESIiIgiIiLMzMyYmJju7u4QEBCqqqpUVFRmZma6uroyMjIAAABMl2BWAAAAAXRSTlMAQObYZgAA\n",
       "AAlwSFlzAAAOxAAADsQBlSsOGwAAClRJREFUeNrVneuiqygMhT1HBUFBef+XndpO964GCEuCnfEn\n",
       "JUvylUtAwa77uba1wy5qgEjAt+OuXls25fuqYm6L8yt31TtQmRogEvDt+GtwfMq3VcXcbsCv1NVl\n",
       "BtsKNUAk4NuVXLPhU76rKuZ2E35lrlrUfWqASJzy9v7c841XSKyhZ1O+qmolqm5M6E6AbgNVqQEi\n",
       "ccpr1PHnabkWD7iRT/mmKky5VOhGgFMAgyRqgEic8irtl1OOa572YWFTvqgKUy4VuhPghlZ3aoBI\n",
       "/JvXDoNzu0ua5Ih5ag17i1HzKfglpbpJdSpvoS8AXNDqTg0QiXfefYD1j5LY7TXevq414emklOab\n",
       "m2JTrjRiEdVFqlP5EfoCwA1tJNQAkXjn3T3uw9QtvjMl/efC32Oc+ZQL3YqI6qalOpW30P0A4TZS\n",
       "18x+8hr78rT3pj/V/3lYLnm6kMF2EYhWRFQl+reT0P0AXQBjIGqASBzyDkBTK/C0Cxufgl8SqjDl\n",
       "MqFbAdoAzv2oASJxyDshkXqJp+7RyLiUK/9OtSpMuUzoXoAG7UypASLxmZdZKZrG99WXerqGgU25\n",
       "sjZVrWoEBkIqdDPAEe0ZqQEi8ZF3X2Tse9FG0YWZT7kwAlWrjlLjz6fQzQBtOAlwfRoxiKQUWffj\n",
       "NE3eVngaKepIOtARGyui7lerliNi8H8K3Q3QHHoc6/zG1H9DuigD9MYfeeewX6WG/bCFQbFFVaQs\n",
       "Cihdyv061XJEPP5PobsBuvPKkGKqCjGIpCDWFVekqBMJ4SdsthJ1v1q13G0Gvyg/EOAcsLJSg0gK\n",
       "Yi3raRdIWoDChLj7tarlbjP4RflhAOkgypRVLFRp5OlGmt0GNcS4+5WqgNt5/LL8MIALme8zVYUa\n",
       "LMCSwSK1vJAsqieroh5aJ427X6kKuJ3HL8sPA+gjUUy2qlADD0R4XmCVI19UQ2AaCG/c/UpVwO08\n",
       "fll+GMCNLA0xVYUabMDq0ia1EpUs6kQWBiZoDSTufqUq4HYevyw/DOBMptFsXDWxKYi1tKeWTB9t\n",
       "CNVVpVIVcDuPX5YfBpDGu0xVqZsLpPJuIXEpGGsgNAPCN+F+nSqAKI8/KdQeYE/bRr6s1KAHmlcy\n",
       "7xJOBbT9qtwc8r18tKia9NEa6bUT7lepIoiy+NNC7QEudPLFheCaTUGsf5eWYj+Z/P8RLepGGtKG\n",
       "TFYS7lepIoiy+DNCzQEquug4ZPcuUAMFrFtm8uoQYhuUfG6eES2qI5MEh0wbEu5XqSKIsvhzQq0B\n",
       "DueZkXt0WpszGfGRTekA648wO4TYbX2SXKKonhDzoXgvXtL9KtVyRAz+nFBrgC6AOxqpwTGl934b\n",
       "p3LrzxYTog0K3WY1kJY3CLwJV6WKIALp3wdwDB7ToQaHlH58Kq/F1ocfRVatB6IyCOhWqSKIQPr3\n",
       "AdzQqkINDinuWa3nudj6M2Z/xOu+3lNFgn4l8HZTlSqCCKR/H0CNLhRTg0PK/AypXSo0y99uffSg\n",
       "9YuRhkwoTQj3qi5bfxkRSP8+gDNaVajBIcXp15A6lVqfOrpQv8X/61XF6PObaQgikP59AGd0dwo1\n",
       "iEjoUGx97mDrI9CFeLoIVJViVaUH21UgAunfB3AOBi2sYVPSu6O42+2j7fA/rip20KrI7YsbyNi/\n",
       "qyHAgFYVakBTtCu3poWqfSC2Ek9XgapSotp7bQrd1tdOXeL/rnYA+TDIHns0akBSPtYHT8YFt/PV\n",
       "o+1EHqmdUuymf69JSnU/9WRJ/sPliED69wEM4e+xKD/XbwPwxxx/CYdjivlsMEfjiHUkyC/om8+P\n",
       "Tz9/+0M8/VPyYDfyUBZUzVWVMkSRe3P07wMIT67YXmXZh8rUPqaC2/W1y0gF7b+RamYAKkcE0r8P\n",
       "oHhVmZ5BlbKXXVVzX+0pm9JKNRHWIoiqq0orgNIzoF4/j4PRVyP4RwRV+5rX98LaZ2VRWtmuAlHd\n",
       "DKghQOmqol9D33bV1Qnr5X6OuBKtKpWqhqysIIgqq0o7gBqtKtQAkdDsugq23PA+4kq2qlSrGrKw\n",
       "L3QKqebXVZoBjL7KNWWeOdW9Y8bl3Yqfdg1672jfR1wdVxZmstaAPZsTV4Vew8vhZ4UaAhxja3u5\n",
       "9SFqMALLg0zeEdhaY/aq/z7i6viDJlmxwEBcdYRWUDP4OaGWAF3kqbXKVRVq4IAH3/m8Pn7YXSLz\n",
       "9tM8TsWveqWza6GKIMriZ4SaAoy89TeZzeUWAyteHMznNdFZnkl4+p6VkiNC6l7p7FqoIoiy+PNC\n",
       "bQFG/B26XFVp9m5tYpa3zKmFplduesSVJy3Pwy/8CKtCiHL4s0KNARra2fTZqkINDNC9Z/JGTyO3\n",
       "yf/DvKL0yBFXIwn9xsKo0g5KPV81EVXFEOXx54RaA1zP0W7/mI3lqgoxiKQg1plZXr+49GPS13cC\n",
       "YkdcXd5Uve7PDvelVFFVDBGDPyPUHCDZrrZH2Lmq0mh34aM02+el9ev0quQs4wUmdsTV1U3V/XPN\n",
       "Qq2yqiAiBn9GqD3A036A57HKuarS0Q0EAXhNNJXXp7bcmtSiZJ++xbVN1Y9eVqlhFVbFELH4k0I3\n",
       "ANSHXQb9s6plq4om2xI0sFFBCx1lpuZ0w5vZlDghl+0XLqpCbvP4pfhdAegO1W51+xVmN2Sm9oZN\n",
       "6QDra9foOpsazjc2JV5VVDbauKgKuc3jl+J3BaCKRMhzrn1RAwXMRZXERpX9fzXdkLrDxXND9ZBZ\n",
       "sKo8jRRye3bt+V0BGGsc2VWAuva1BpnvJ4XVqlS7W9iUeJywPSeXvazqBbfzaydC35+6AJCe0ePH\n",
       "EFy6M647v8gGmcM0jR+So7llUxLNaTBGiauibufxS/G7BFCj29yoASKRzGudCARLgjIrsA21WlUL\n",
       "fJuVEWoPcEADJWqASKTzLiJd60ImMktw31cdpMLRjFBzgCtKkhogEum8XuSYzcqgopXqGoQ+t54R\n",
       "ag8QPoq70cnpmq4Y2MEoc2fh2qmKHXieFqIAL/DLuurR93apASKRymvDK6h7Xw8X7f5QBmuNE2l0\n",
       "k0B7FlD1UqeIJoWeAGv55V2FP5hV982tVN7ISOtc1w9Yq1CRE5vrxx8B1VXqGOukEAV4gR/jKnwq\n",
       "DDVAJBJ5IyPt7M0C7pbZZj4FvyRU51mmqiSFKMAL/BhXFfpcgRogEom8erXnDhSfYE6kyU0CrVlE\n",
       "VYk9vUkIPQFW8mNdhUdzaoBIxPOGjqw7jXvPB/0ndZ/1basqNQdKCVGAOD/W1QF1nBogEvG8XtEA\n",
       "3isD7de0hKIV+IOEVAepD10mhChAmB/vqkW7U2qASFjZD5Uc+uaeTfmaqpjb7fgVuKrQCq/QjzjU\n",
       "3a444vN8yvdUxdxuxq/EVY3WU2qASOihUZuwDaDKqYq53YhfkasL2qNSA0RikXp4duqYDZvyVVUx\n",
       "t9vwK3TVo5uqqAEi4ccGnrqRT/muqpjbTfiVuqrRlkINEAltxB1dyRFoa/0ZrsKqYm434Ffs6oQC\n",
       "oAaIxDSLR2b0aZle/2uqYm434Ffu6ooOf9QAkVilR1u78infVxVzW5wf5+o/uT7F4cnlSYwAAAAA\n",
       "SUVORK5CYII=\n",
       "\" style=\"display:inline;vertical-align:middle;\" /></a></span><br>"
      ],
      "text/plain": [
       "bound_08: {e in {2 .. 2^{t - 1} - 2}} |- ((1 / 4) * ((2 * (Sum_{l=e}^{2^{t - 1} - 1} (1 / l^{2}))) - (1 / e^{2}))) < (2 * (1 / 4) * (Sum_{l=e}^{2^{t - 1} - 1} (1 / l^{2})))"
      ]
     },
     "execution_count": 89,
     "metadata": {},
     "output_type": "execute_result"
    }
   ],
   "source": [
    "bound_08 = bound_07.rhs.deduce_bound(one_over_e_sqrd_greater_zero)"
   ]
  },
  {
   "cell_type": "code",
   "execution_count": 90,
   "metadata": {},
   "outputs": [
    {
     "data": {
      "text/html": [
       "<strong id=\"bound_09\">bound_09:</strong> <span style=\"font-size:20px;\"><a class=\"ProveItLink\" href=\"../../../__pv_it/theorems/f67ffeb951aaff9cc5f02f3801926b572b231a930/expr.ipynb\"><img src=\"data:image/png;base64,iVBORw0KGgoAAAANSUhEUgAAAKwAAAAYBAMAAACVRAuIAAAAMFBMVEX///8QEBAyMjKqqqpUVFRE\n",
       "RESYmJjc3NzMzMwiIiK6urpmZmaIiIh2dnbu7u4AAAAMEBwRAAAAAXRSTlMAQObYZgAAAAlwSFlz\n",
       "AAAOxAAADsQBlSsOGwAAAe1JREFUSMdjYCAZMBVAGXxJDFQE72GMnpPUNNYIzrIkTSPfKjyStZNu\n",
       "4De2uACHzkPr8FmqTMC1HK4PsIoz/2NgYN+t2oApU70pgoHhH25jIbpYHbAayzuBgaGUgfcXhgR7\n",
       "AMP9BVwCDByhQBCOxViILpB+HMa6MzAIYkiwFDAwCvA4vMDpWoguVGN5ImdOghsr/4DBHyPoGf8x\n",
       "sHznPnAPp7EQXSjGcuk8QHKtJwODP0bgskxgYPnBsQ0mXqt/B00BRBfYWL47p8HmFT1ADgQgmI8t\n",
       "gDg/EEic86H6VzZwXADx1eEy3ArgdPIHm67+A/hNBeniEQDG7jcGngUgAQW4VGEC2F1Yk8kUAo4F\n",
       "6WL/DExkf87cAlsjOXPmzKkgVokWWMFWbLq4A7DkSc2ZINCA0PVEmYEf6ig+uAaOraBQZsPq2BQC\n",
       "joXourSAgR8WWIhUAc4ltgzsmHmb+QJDOV5jwbpAuZQTGF8GIJEzKNkBGI08mFm7l4HhHN4IA+vi\n",
       "BUYZmwLDa7CzmAyQja3cvXsnpHQFRiXfJ2jmnb179wR8xkJ0gRPY2TRIMPC5rkMydv7//xCzODcA\n",
       "idnQaP7//78C3kQL1oWaebmuImVeSgCeooYGxoJyCSWAG3tAgXIJJeBhAnbxamdKTK0F6gYAv0eE\n",
       "w3ELTC0AAAAASUVORK5CYII=\n",
       "\" style=\"display:inline;vertical-align:middle;\" /></a> <a class=\"ProveItLink\" href=\"../../../__pv_it/_proof__fail_ineq/8bff88621120f64eb85c99bed52522e73e79324e0/proof.ipynb\" style=\"text-decoration: none\">&nbsp;&#x22A2;&nbsp;&nbsp;</a><a class=\"ProveItLink\" href=\"../../../__pv_it/_proof__fail_ineq/faa1b267a80d8058c8bb37e27e63f2695c60616e0/expr.ipynb\"><img src=\"data:image/png;base64,iVBORw0KGgoAAAANSUhEUgAAAyYAAABMBAMAAABqnr6gAAAAMFBMVEX////c3Nx2dnZERESIiIgi\n",
       "IiLMzMyYmJju7u4QEBCqqqpUVFRmZma6uroyMjIAAADVePneAAAAAXRSTlMAQObYZgAAAAlwSFlz\n",
       "AAAOxAAADsQBlSsOGwAAEA5JREFUeNrFXWtsHFcVvrvex3h3bS9NKyQU8Aq1tCIScRQolP7Ighq1\n",
       "oULxD1IF0mCLNkVClbyIR0opyfKsqpbaQKUmapGtqvkRFcWGgGgJwiZplAqZxIVKbdUfNiAEpbR+\n",
       "JHEch3iYO49zH3POndn17PZKY38+e/bOd8657ztzzRhPbzM8vR0CLU+p3aZPW8TjujoJ1sHj7UZN\n",
       "lm0vTeDKIKcUWpE2GT5rFY/0BAma5xGf7CbE9qNEoQD50Xr7YtJZoz9rGY8nadA0j/hkwWRhu0Xc\n",
       "H+TWk+0LCetaJD9qHY/ZMgma5dEAWTBZ2F6cw1VBjigUNMqZ5PxznPxE4pGa8sGGRKpOsY8EZh7R\n",
       "ShsDxp+IYTKAoRlcE+SIwnfkPx52bj+VWEx6x6hPJB75qvc7dySRmKRWSWDmEa30df/vr+yOYTKA\n",
       "dwjNdxipYEHvz/1yWz9jf0ksJh39LIoQY9v/5INsMl3Mx2hg5BGplLk7cPPuGCYHoHAVVwQ5olAK\n",
       "SkqHq+Dk1J1Y95u7wMyEvrfpeZZlycZkqEoC2jGmxJWsD56oMyhhIibWAcrkAHQT5RLkiILjEuvG\n",
       "2+WYpMcSqyi3MDOhKXaaPe401NPT0zNJxaRjhAS0Y0yJK5VYqd+aYymH6J/lmNy7nTT5FnOBMJWY\n",
       "DzD2w8GiHJNCch3K+JiZ0FXWO/iLfLL1pLBKAtoxURWvZya1XJiqhduuI6TJPpgkrAI5ovBXxk6k\n",
       "bpRj0tWXWEx65syEHnBisvGrfmXf8eFkbrpGA9IxpsSV8vXUcuqMP0K996djdEzAZA9Y54nx9Xkd\n",
       "uD7Y6qQt7DnGnn6wzk5tvWXr1pobk1xyMSkumwkxdkPyM5TJQRLQPAyzE08pjTdzR0iTPZAn6ijI\n",
       "MYV7GFtU+/gE266uJTMhltvdglljhQQkD0PylfbV48UETPZAxwrR663oQO3jP8nSckwy1eT8c9lM\n",
       "KKF5otZ6jJCA5GEaM6xg80S/lQnHRJjsgmFiFAFyTKGjzB67/Q4/JqmPLFW5JLG0bdBIKDWVKice\n",
       "k45lElA8TMlT2sjeE6+eCJNdcNCvono1C+QCyHWtIs9PePp+7OlHdMOzE201gMeG++5vtKLsi/xC\n",
       "ZokEFA/TDVyl1M33vWSOCXwNTHbBpDv9s34/r+U6OaMDOf1Rmscrgqj06Nnoqj+EDryAx6htNxaR\n",
       "sHFIUVkjAcXDdANXqdO2F7Acrpm/Xv8amOyC0SBAWq6jISCntKadn4nroEx0THpQldF1tEw7oyuW\n",
       "XSdBDB6k92LyApM5sC7iuYIcgJo0DhZLMCbd2OIFwSOxmMzPkCAGD8p7cXmByRwUzuO5grxwniWa\n",
       "YsSkhK14rYtHjJicq5IgBg/Ke3F5gckclJbwXEFeWmp7TPKYReviESMmB/tIEIMH5b24vMBkDrpX\n",
       "8VxB3r3a9pjksAnKunjEiMnQCAli8KC8F5cXmMxB5zKeK8g7l9seEwsbV62LR4yYDC+QIAYPyntx\n",
       "eYHJHECHr+WqDARCZcWWUjXxmDB70DgYm5fufiGpmPQskyDGoJDyXgRd8TUw2QG9C3iuIO9FSkvB\n",
       "9ul+95UX7JHkYzIwFpZJPMZ9A6z33zl6OamYZFdJQPGgb6AoGeiKr4HJDhjvx3MF+Ti2lDApxnrf\n",
       "WE0+JvNI3ZN4FG3AeSx8TcWk+wIJKB70DRQlA13xNTDZATvn8FyFHJtUZ23xQNmp5GMyiSxfyDwG\n",
       "rogRTl9CMSkukYDkQd5AVaLpiq+ByQ7YHChtVtf1hBwzOmdfErdpbEEwvRitcw55hFDmMWTXWEOL\n",
       "OpujOZaukIDkQd5AVaLpiq+ByQ6Y9PGJ0beUBxADuQBqgG1BotZISIovrP022oVIWZR5ZGwR2HyM\n",
       "m+rGoWVljQQkD/IGqhJJV/oamOyAbVM4RZDjCh12P2td2txvIOT+cTHxe6YvkgDjsfHszYbMNKfF\n",
       "oAsmO2CeiAnIcQVr9H8tjMnOEQMhnh6xp5K+Z+YyCRAeqT622bDsqjktBl0w2QEDFWI4WtGBmmbt\n",
       "sdbF5CAMJV8NE+Kpy15N+p55mwSIY4pl1mmYBGhOi0EXTHbAKBETkBMKaftQO2LybJiQV8Mv19sc\n",
       "k2NlmUfnCisaBiu606LpKjEhpuEgpxTm11oXk3EsJlV1JWEu4XsWbBK407CXFB7FfurxGtRp0XTB\n",
       "ZAeMEgMSkFMKj9iV9sakpvZnS22NyfabQjyyC4aY1PTud6mBmNiEy0FOKcD6SgvSLBITjcc4tia2\n",
       "ntRlk4BZN1TDPEyPQ4acFkkXTHYA1VWDnOzLzyXepItJ1goSE5VHKen+LBds9YZB6nQNccweQ2Yh\n",
       "p0XSBZMdsN+7r7toyUNl+d3E/sDh+ynPZ+kVYbvp5JWWhz0fnN616/CuXXtwHgPaalRP8zf16sL+\n",
       "oFKEwB9kDwc8vFWS4Tmz90i6grBisgtsfZR9t+/WQG5Tw/DURdbWeqLx6O1vWz1RYhLw+LZXMKfM\n",
       "3otNV64nzbddmZ+wd7HtYjvK72rbVagQz9MRTouim0xMZhPuZN13fXxeC5Ex6UpmhOG+tuNHgFFA\n",
       "7eM9Hl9i7I4GYhJJF0weWsdYOJf4TJq/60OPuzQeQ8ksI/DXdqLHXczafofKI3X39HR//LEwRVcU\n",
       "CXnc1fz8pJp0TPi7PnFjYj2RzD35azsxYuLMGW9SeGSdznmugfnJE1FFQo7JAHz7fnWcUNOBlv6b\n",
       "eC/ygDEmKo/uqWTuyV/biRUTdqBs9AfhPRPd9MCgKBJyTMQ2qzrelvcisdTRx5JPwbs+47C892qY\n",
       "kJu2JnbP4LWdQrAKHAa4Y9S0x6iE0z0oFQkw2QHbghWSjJoryLfhSyinxQgcbSrLtKy7HBa7Injk\n",
       "/iC2fyLzKImH8wvS6Bwbsfu//xYWex8Fj7bng6F9GNA8xCB0j0kJp8vOSkUCTHbAZFCrvvyWkg3I\n",
       "J9FWIi8GwnksJpkxWjYs++bsz8qvOL/5Jd71wfa8FR7fEmF9UEg/gxDxZZa8OLXxzS1dTkHml3ht\n",
       "J7NGApoHJMp7Jrrsc1KRkJ9/gH3gipqrvD9sHggfxT5/xmmIlsMyd3fumNxysDfqGafx5Zd41wfb\n",
       "85Z5SCPLgtjFcKYMThOtrcpVWGr6H4OsIEe50vU84y+S8wte20kHT4eGAclDyvItgxJOl/FmC4qE\n",
       "/PxDgDNlNVfzMxLSyRePYRuOluOC/EJI5u7OXfPFDwlhkReTf3uXeNfnHFIWZR7i+A9LUn3cbaLV\n",
       "5Mg2sPTV1A1/l4LFp0H8jAXnEq/tlAI7woDkIZoAynsGuq6DoEjABw446Beg9zI110AuADoQTj2H\n",
       "Lg+XnGJfmgvJvN25/8jG8AL1kHeJd322If2oxEOMLN83Ka23nvGbaDk5sl8ydph1y23pndwhU+4l\n",
       "XtvpCBakwoDiIRLpPQNdfsyOKBJgsgNm/cpU0XIN5AIo44p33PTPzzvDdGzq1MmH8NWQzNudkx/w\n",
       "sniF66x7l8ge6Y0kHt1r3u13OVGU+uERv4mWkyMbrbPJco+c/TDP/pB/QaarJKB4SE0X5T0DXdZZ\n",
       "lYoEmOwA/ynKfFnL1fhsakleVcXG67zL6B0MydzduS7FqG28Dal5l5hyIcs2Eo9z0t3Fc2a8y0hp\n",
       "lZbLfsNfdX9dGcfzUvEv/wIPLZOA4iFaIdJ7NF1nbl/GTHZAj7erfC3Tcu1Z1EEj6STStJ/0FlIX\n",
       "MhM/EsLnxvu8g/6Uw/6wt9YieZQq4T6s5I1JB9idlghz4Xe8897E1HMOww+t409rYzxo75nSDoaZ\n",
       "7ICs99LWGydOXP6VrJO9qoNGEi+AxxEZ350rVW8SBWyuuMJ/eheMILDJWiQPXtP0k9C82pe7wF6U\n",
       "XsA84B68cYB5FxTtERJE8qC9Z0q3WojJHBShNj2lfAHkxUtNxOQLzvUEIuPz3dwZUWR7y4Vlb4Ao\n",
       "DxK7sIlBJI/smNtEh2TOzwl2/zeF+YtsfNAbwsvD+Nk5EsTh8VRjZHm6lEZM5iADAz51NA7yTDMP\n",
       "1/3cKZxu9X18F093+TLpGWZvR+44yzkxyS14F9wbe6AgkkfnTNBEi5t2untL8JS5e1OnLg05MRli\n",
       "3hUk9Q11BcThcb4xsu6a6w8QkzmAAJ2yf63Mc9ZMhTZGTDIjYVmwO8eTuyN3yY0F7/Xlnr+IDXgi\n",
       "eXD/70BkLD+h3LSn5sbidf+CqfcYCWLwoLxnSg9VEJM5sIj3/5WXuZppuzom6uG2S9uds5bdfsQ9\n",
       "Q0caUmdXTIRMbdetFtJ2PcOUs0CGB91+5AhTz9gYqJOgMR5NOQ1MdsEAsSkJ8gFy15I+EvSjvDhW\n",
       "QrLQ7tyyO5nL93kXeG2EJGRNIp887Db8HVW1iQ5kuQrLyN7tGXRnrV/zr8CLl0lAOcaUFKVHFyL1\n",
       "wWQXbCb2R0DuAS1fd4MMORLUcw8fZPa8pvW3m5Dduev5SWDuiLUkRXB8giZ0TBvsMv+MUG80LTfR\n",
       "gey66enTiqxamPCH5ielmcwVElCOMSVFqTAXqQ8mu2CWOMIb5B7Q8uUbZNqRoJJ72D6n4J/UMtyH\n",
       "7M6lb+OhyM54FzM25B4PLVc4q8q5d7/aRAeyAdtWW/frP81/7vUvrEGnezWDw2ilUiVSX+3EOomK\n",
       "BXIPaPm6G2TqkaCSe1gWmYhjMi9d518wpzUQAjdqZ4Q66S7kS3dR90z1exdhbhzHGAccshKUN48z\n",
       "ltTTbUrEExUg90BWfWKJb5BpR4LK7skjC7uYTCwenpEK9xWakLXASvxgso/rZ4T6S5mhsQ056695\n",
       "Fyx0TJCAcoxxUUFWGlY5IwlM9gBx0p9+HB7kC81Ov3YkqOwetgXJcQtVZPu8C8bqqzQh0YRqZ4Qy\n",
       "hh7rRh71tsG/YHoyRgLKMaakKB1TOWOTnlUVHCayPayAY/rH++rakaBKTLAj1qhj17jfZN91j9CE\n",
       "RBOqnRHK6xCys2FRjw1s0QrJmzQgHWNKh0MrfT5nfF1oRAU7iYdPQe4CyPceXl3KofGv6h6WqiL1\n",
       "oYrf6FP+Bc1IhSaUfS2or4ssVDmvZejyIFowy94FjccSCWjHmJKstLeucEYSmOyDHqLdBLkLIF+Y\n",
       "m+iPZiruWU+izu/lPHrgH0hoZ4SuMxVXSEA7xpRkpYWqwtlksg/SxM1B7oIFtZAjRx0m5R6LmBe4\n",
       "PEqfDf7SzghdZxqeIAHtGFOSlV6cUTgbTA6ARVRSkLvgRbXCIkcdJuWeDFXDMaIdLJm0s0yCWDya\n",
       "UwqZDIA6+ALkMU7GSNA9neSYGeFRSuimT9MgFo8mlXSTAWSJPhXk2UqcjJNyD21MPB5N1c0VEjTL\n",
       "oxGy4dJfIBoLkBcWWfuSRW8HtY7HcI0EzfJogCyYLNlOnSx0KkqhFcn0j6xaxuM4DZrmcapxkyXb\n",
       "s0SZAHm21r6YvG5oh1vFo+sQCZrnEZ8smCzZniMIgDx3qH0x2Wv4rFU8YDEvDJrnEZ/sXsz2lwnl\n",
       "l6MUWtCdGJ3RIh4/psE6eLzcqMk++D/TNiIK/1R+EQAAAABJRU5ErkJggg==\n",
       "\" style=\"display:inline;vertical-align:middle;\" /></a></span><br>"
      ],
      "text/plain": [
       "bound_09: {e in {2 .. 2^{t - 1} - 2}} |- ((1 / 4) * ((Sum_{l=-2^{t - 1} + 1}^{-(e + 1)} (1 / (l - (2^{t} * delta))^{2})) + (Sum_{l=e + 1}^{2^{t - 1}} (1 / (l - (2^{t} * delta))^{2})))) < (2 * (1 / 4) * (Sum_{l=e}^{2^{t - 1} - 1} (1 / l^{2})))"
      ]
     },
     "execution_count": 90,
     "metadata": {},
     "output_type": "execute_result"
    }
   ],
   "source": [
    "bound_09 = bound_07.apply_transitivity(bound_08)"
   ]
  },
  {
   "cell_type": "code",
   "execution_count": 91,
   "metadata": {},
   "outputs": [
    {
     "data": {
      "text/html": [
       "<strong id=\"four_eq_two_times_two\">four_eq_two_times_two:</strong> <span style=\"font-size:20px;\"> <a class=\"ProveItLink\" href=\"../../../__pv_it/_proof__fail_ineq/700776b4d2a5b5d7c2d29d85c5a18396d78765940/proof.ipynb\" style=\"text-decoration: none\">&nbsp;&#x22A2;&nbsp;&nbsp;</a><a class=\"ProveItLink\" href=\"../../../__pv_it/_proof__fail_ineq/e2bf2d935ca01550d552ce8b55af1240189937440/expr.ipynb\"><img src=\"data:image/png;base64,iVBORw0KGgoAAAANSUhEUgAAAFcAAAAVBAMAAADBdm84AAAAMFBMVEX////u7u6qqqpEREQQEBC6\n",
       "urrc3Nx2dnYyMjKYmJiIiIhUVFQiIiJmZmbMzMwAAADCG2+HAAAAAXRSTlMAQObYZgAAAAlwSFlz\n",
       "AAAOxAAADsQBlSsOGwAAAV9JREFUKM9jYMAKEogSggAuBUyxKAj1FkNCnYEh94YdnMt2t/kBA9cE\n",
       "MPs0ulrGBgY2A4b6ABg/mYH9KwNDI9hODMW8Exi4ExhYHGD8bQwMLgwMc0HMl93oilmA6CMD9zcY\n",
       "31+AYT9QswCQWYChWIOBgfsAA/c/GH8PA8P+BwwcQEdzJWAovg4meT4gCZ1nYGDfwMCQyQBWzHsG\n",
       "DDaA2J1g+fcLEGr5fjEwcDYAXcGAYfIhjEDiARrC5MDAmYCp2BVslQGIlG8Ai1wGmf6BIYsBh+LZ\n",
       "ECMvgEhOkOtYHRiid+/+sh3NzSBnMBUwpCHFKFsCA9MBENMb3WQrIH7OwLAQ7r0CBi4BBk6wuz6j\n",
       "K64GJoezd+8egPFz7t69A7S7AOT4/7vQFL8BuvX///8N8ED+//8HUCgAawrleYBNNAd7cua8gE30\n",
       "Jo7Eb4ZFjM0Ah2JhLGLMuPIV2wJMsWUMDAAP/Vp2xwvHFQAAAABJRU5ErkJggg==\n",
       "\" style=\"display:inline;vertical-align:middle;\" /></a></span><br>"
      ],
      "text/plain": [
       "four_eq_two_times_two: |- 4 = (2 * 2)"
      ]
     },
     "execution_count": 91,
     "metadata": {},
     "output_type": "execute_result"
    }
   ],
   "source": [
    "four_eq_two_times_two = Mult(two, two).simplification().derive_reversed()"
   ]
  },
  {
   "cell_type": "code",
   "execution_count": 92,
   "metadata": {},
   "outputs": [
    {
     "data": {
      "text/html": [
       "<strong id=\"bound10\">bound10:</strong> <span style=\"font-size:20px;\"><a class=\"ProveItLink\" href=\"../../../__pv_it/theorems/f67ffeb951aaff9cc5f02f3801926b572b231a930/expr.ipynb\"><img src=\"data:image/png;base64,iVBORw0KGgoAAAANSUhEUgAAAKwAAAAYBAMAAACVRAuIAAAAMFBMVEX///8QEBAyMjKqqqpUVFRE\n",
       "RESYmJjc3NzMzMwiIiK6urpmZmaIiIh2dnbu7u4AAAAMEBwRAAAAAXRSTlMAQObYZgAAAAlwSFlz\n",
       "AAAOxAAADsQBlSsOGwAAAe1JREFUSMdjYCAZMBVAGXxJDFQE72GMnpPUNNYIzrIkTSPfKjyStZNu\n",
       "4De2uACHzkPr8FmqTMC1HK4PsIoz/2NgYN+t2oApU70pgoHhH25jIbpYHbAayzuBgaGUgfcXhgR7\n",
       "AMP9BVwCDByhQBCOxViILpB+HMa6MzAIYkiwFDAwCvA4vMDpWoguVGN5ImdOghsr/4DBHyPoGf8x\n",
       "sHznPnAPp7EQXSjGcuk8QHKtJwODP0bgskxgYPnBsQ0mXqt/B00BRBfYWL47p8HmFT1ADgQgmI8t\n",
       "gDg/EEic86H6VzZwXADx1eEy3ArgdPIHm67+A/hNBeniEQDG7jcGngUgAQW4VGEC2F1Yk8kUAo4F\n",
       "6WL/DExkf87cAlsjOXPmzKkgVokWWMFWbLq4A7DkSc2ZINCA0PVEmYEf6ig+uAaOraBQZsPq2BQC\n",
       "joXourSAgR8WWIhUAc4ltgzsmHmb+QJDOV5jwbpAuZQTGF8GIJEzKNkBGI08mFm7l4HhHN4IA+vi\n",
       "BUYZmwLDa7CzmAyQja3cvXsnpHQFRiXfJ2jmnb179wR8xkJ0gRPY2TRIMPC5rkMydv7//xCzODcA\n",
       "idnQaP7//78C3kQL1oWaebmuImVeSgCeooYGxoJyCSWAG3tAgXIJJeBhAnbxamdKTK0F6gYAv0eE\n",
       "w3ELTC0AAAAASUVORK5CYII=\n",
       "\" style=\"display:inline;vertical-align:middle;\" /></a> <a class=\"ProveItLink\" href=\"../../../__pv_it/_proof__fail_ineq/e54d90169b97606ffb433c3c1ecb85da764712e70/proof.ipynb\" style=\"text-decoration: none\">&nbsp;&#x22A2;&nbsp;&nbsp;</a><a class=\"ProveItLink\" href=\"../../../__pv_it/_proof__fail_ineq/9d5c0e24530747cc3c7c72eb090c47423540f85d0/expr.ipynb\"><img src=\"data:image/png;base64,iVBORw0KGgoAAAANSUhEUgAAA0AAAABMBAMAAAC2Z8qXAAAAMFBMVEX////c3Nx2dnZERESIiIgi\n",
       "IiLMzMyYmJju7u4QEBCqqqpUVFRmZma6uroyMjIAAADVePneAAAAAXRSTlMAQObYZgAAAAlwSFlz\n",
       "AAAOxAAADsQBlSsOGwAAEKNJREFUeNrFXX2MXUUVn/d938fue1KIian2xVAhkthtqij6R58GAkhM\n",
       "N8bWKuBuxGI0JPuMaBGQPvGDEJBdlYQ2YnZDJJFguqvVCNawK6Up0bUtSgKEP3bVEESE7m7b3e22\n",
       "u9c79+Pcmbnn3Dd3d94yyXR/77x73/2dc2bOnJl775QxXt5ieHkrAjpeUrvjvu0Qj0taJDDEo/tk\n",
       "Uv1FQ1TG8INBTh3QiXJFzHed4pEeI4EhHn9Nrr9giCeI5gLyJ1rr56Bik/6uYzweoYERHqX9yfUP\n",
       "DWERZEBuPbJ+/mFds+RXneMxVSOBER73N5PrHxqiPI0fCnLkgJLCP2vOWIfIbwQeqQkfbDDSqco9\n",
       "JIjnoVme8f9uDOh/TEN/AAPEAAZy5IDvih/ucwhPGHPQphHqG4FHoeH9zT9uxEGpJRLE89Ar+WUf\n",
       "3O7//fpuDf0BvE0c+TYjD7AgfeCXv7qXsb8bc1Cml7UjxNg1f/FBzsyw9BEaxPLQzOH8Lpe9KbD5\n",
       "bg39A1BaJga2ZUYeUAnaUMY9wPmlbmPjd/4Miyd07xVPsRwz66CBBglow2iXUcdc1vsPtxi0vd1S\n",
       "+MH1D0A30WJBjhzg2Me67FrRQekRY13oKhZPaIIdZQ858XxycvKkKQdlhkhAG0a7vObGmkqvNc1S\n",
       "Duu/CQ5yww+h/1XxTSWuLb2PsR/2l0UHlcwNQqMj8YSW2ab+XxfM9qDSEglowySKCdWTqfnSRDPS\n",
       "g0q9pP4+GCdUBDlywD8YO5y6THRQV48xB1Wn4wnd4Tho4zd83a//oJmLrtCANIx2jrjI05pWaj51\n",
       "zE9+v/LTEdpBoL8HrNNEsn9aBa5BtjllK3uSsUfvbLEj267atq3pXiNvzkHl+XhCjG02PxMa7ycB\n",
       "zUOzDHq2SaOhMeog0N8DBaIrgxw74BbGZuUkwWCI65qLJ8TyuzswVa2TgOShW/Z53WVPS89BoL8H\n",
       "MovEsLmoAjlJ+DhLiw7KNswZ61w8IUOTUyWuDJGA5KFbtrewyektPBjVEAeF+rtgkMhJQI4dkKmx\n",
       "B6+9zndQ6kNzDS4xVrb3xxJKTaRqxh2UmScBxUO3WGf9VYR36fWgUH8X7PN7stoBA3kIxF5YF+dB\n",
       "vHxfO6VpH592oMEFeGy49bakXWhP2xOycySgeOjqVnB/KHXlrc/HOig8GfR3wbg757T+dErRYfyk\n",
       "CsTyZ2ElQRK0Kw8cbx8hBtA0DngM23bCJhxRDrHtCgkoHrq6ld2JbdG2Z7BFJh5+lJNBfxcMB95S\n",
       "dBiOALGklaML2stT2fYOqqKHDK8hgO1o3+XsFgm0eeC6FWcSGgb058APkBEdQA5ALgp5ixl0UPcy\n",
       "Hck75qBTJ0mgzQPXTXPQCk8G/TkoncZ1AHnpNDNaNBxUwVbj1sRDw0EnGiTQ5oHrNtqT0DCgPweV\n",
       "OVwHkFfm1t1BBcwGa+Kh4aB9PSTQ5oHrdqKe0DCgPwfdS7gOIO9eWncH5bGJ0Jp4aDhoYIgE2jxw\n",
       "3U6NJDQM6M9BcR7XAeTF+XV3kIVlaWvioeGgwRkSaPPAdRvuT2gY0J8DyBgUHaRMItKKbKE0jDuI\n",
       "2f2xqd0p4epnTDmoOk8CjRQzTjcxG4yxnHAy6O+ATTO4DiDfhLSjku1z/96LT9tD5h3UhwQFgceo\n",
       "r4D13huGz5lyUG6JBBQPPd1Stp7lhJNBfweM9uI6gHwUSxLHw1zzW0vmHXQK6ZUCj7INuNA3YshB\n",
       "3WdIQPHQ0610Vs9ywsmgvwN2TOM6hHJsWp+zw0f3jph30DiS94g8+s6HSVWPIQeV50hA8tDSLbui\n",
       "ZznhZNDfAVsCBbfIC5ChHLNA3l4ITZRs5TI92/6YE8iTmyKPAbvJEq0xbWnPsXKeBCQPLd3Sp/Us\n",
       "J5wM+jtg3MeHh9+UHq4L5CGQ25Ed/ngziX/KT6/8ob09kVYq8sjaoTIFjYuqyqHGXSEByUNLt/J5\n",
       "LcuJJ4P+Dtg+gV8M5PgBGTvxkxMJypbeGELuh7PGr5k+SwKMx8bjV2r+cOZCYsuB/g44RTgI5PgB\n",
       "1vCFDjpox1AMIV7utydMXzN7jgQIj1QP26K5Ptx9IbHlQH8H9BHrECAnDpiyRzrnoH2Qyr4UJcRL\n",
       "l71k+poFmwSIYco1VtScX+TmElsO9HfAMOEgkBMHpO396+GgX0YJeX3/XGudHXSwJvIoLrLyrN4P\n",
       "F+cSW05yELEQAHLqgFMrnXPQKOaghryWMW34miWbBO6k5XmJR7mXevgo6qAziS0H+jtgmEhvQE4d\n",
       "cL9dX18HNeVIPreuDrrm8giP3IymgxYSW050kE3YH+TUAbBo0YEyhThI4TGKrdetpXTZJGDW5kaU\n",
       "h+4DptWFxJYD/R1AjVggJ4e0E8aHgXAiuog4SOZRMT0G5oM1zShIHW0ihrlR84erS4ktB/o7YK93\n",
       "rLu6yv1m+QFyb/Abe6kfy9Hr2Paqi9d07vMMcnTnzgM7d96I8+hTQnt19Rf1esneoLtEwDNi2wh4\n",
       "eGtMg9O4vuF3rHCHhuUkKoH+LrDVbP4m/4xAblPpfuosW9cepPDY1LtuPUhyUMDjLs/WMfMx/7vq\n",
       "cmLLiT1o9SEu+xP2DoY4dn3tHQ1xpTr+HKJOiGtrOTMOmjI8SrsvZvm8Zto6qMtMiuK+VuW7g1FA\n",
       "ThI8Hl9m7LrVOqit5UD/gTWk2Xnjc3n+YhadxSk8BswsZPDXqtpnccy65jqZR+qmyUnNGBtJsynL\n",
       "hQ1UzOJWPw9qmHYQfzFL10HWw2auyV+r0nCQM1G9XOKRcwb06VU6iLIc0kAd0Ad63yYnSU0VKOV/\n",
       "xkeeO2IdJPPonjC0wNPSdBC7pxZjD2ltW1nozi3oWG7zPNZAHRDeXZbzevGuK1YyPcx8CV7MGoV1\n",
       "yJeihNyyzdg1g9eqSsHadRTghhHTMnFtW13oVu+c45YrzAgNFPR3wPZg2SErOwjk2/F1iaPhtAQd\n",
       "DWq0rLsWFbsieL5/H3Y/SORREd7xFOyETQb8v/+Mir2vghcfCkHuGwU0D79Ia9vqQndmTsdylWmh\n",
       "gYL+DhgPYsVX35R+BuTjaDAphJliAXNQdoSWDYqGOv6z2ovOX17DF7Ow+/4Sj++EPr4zlH4aIeLL\n",
       "LHHhbOMbW7ucfsBr+FoVPDoQBTSPYJgR17bVhe7yBR3L5RpCAxUfCIHb33XZQeJt8fgc+wns+8fc\n",
       "qBqRueH5oBhg2KutrBPVeQ1fzMLu+4s8hBy7FDZWZ2qS7lMyWEeWmvx3PyuJLq93PcX4HgK8wmtV\n",
       "8OhAFJA8wAfi2ra60K082kBYjkc3aKDiAyEBztZkB8U/NCJslPIgdoPQmnajqipzw/NFX/qAoBrn\n",
       "9B+vhi9mnUBaqcgj3C3GEg59iMcE5SxHtoGll1Ob/yV4jmezfOMNp4avVVUCPaKA5CGmAjPUB9nP\n",
       "lOX2iQ0UlHLAPr9pvZvJDgrkIUAzxdST6NJspelHVVnmhef/imGPt8e7vRq+mLUdGYgFHmGO/Z5x\n",
       "YVH7mFOPK2c5st8wdoB1iyH3Bh5eJtwavlaVCcbyKKB4SPOyBvWhsKJjuUNiAwX9HTDlh4i64qBA\n",
       "HgIplXnbLa99wZkOYPO1oh9VFZkXnsWHxyzeoIotr4Y/j4xgAo/uFe/yOx2XCgM5P+BzylmObLjF\n",
       "xmtV8ecH+c/v9yv86BIJKB5iuZH80HVOx3IPiw0U9HeA/yRroaY4KPbR34q4cIvNCw76UVWRueG5\n",
       "S9KQvwHd3fRqOClF1kIEHieEq4eTDD7MpJTuzGW/51sevCIluryJvO5XaD/zJKB4iBYR1raVhyml\n",
       "R38py+Wl++egvwOq3jcXM8VB1VkVJCnPIsPBs354zo79KBQ+yd9u4vtPSntQYi8ftuVRqUfHvYqX\n",
       "E/exG6zQ56U/8lHhCiZvvxl9WwB/TB7nIa1t36Usa2os62alViu+hZnzFsNfPXz43G+lQW9ZBUnK\n",
       "6yy6Md/rfniuNC4P4/M03yalMO1VaHPYDLEtD94H1W34vH6ZP8OeE16qvcfdzOUe5lXoGUMkaM9D\n",
       "WttWF7r7NJ7Pyoy1EP05KEOM+LmcOS6oIEn5ohdVIzIenvPHwsa8qVaa91JlIV1mXdgEpC2PnBO4\n",
       "i42ozPl3jN327VD9WTba7+W4Yp47NU2C9jyktW11oXtc49HbarOO6M9BFnI9OesHeXY1Tyj+Ioiq\n",
       "D+3kZZcvE8Kzd+f2EMs7DsrPeBWujT0Q0pZH0WmoAzX5okW38cJD6u5FnV424DhogHk1KPLmBBJo\n",
       "y0Na244sdO/QWDesvtxA9OcAvHXE/p2Ue6zENWcNB2WHojIxPLt3bhdcx/C0QUwdylj61JYHd8b1\n",
       "iIwVxqSLVpuuY17xK7TzERK05SGtbUcWuqc0lr0LzzJEfw4sYlMI6TW81YQ4KaoGIU4Jz9a8O/a4\n",
       "mzEJjS63GEcoLsR9wkJC3GNM2jpmsN8dex73K4wULRIk4xEpgzMJTwD9XdBH5Bgg7yOTEHoP2w8r\n",
       "UdWXRcLzvDuDLPR4FTQaIglZ48g397lNNOMEiYW0MvbyFa46y4qmrva7U+Vv+jWw+zkSUIbRtreY\n",
       "96EKqB4dEsEWYggDuQcekJuBe6sY2cPWsxXPX6Wo6ssi4flSvvOcmwxXBHeOjtGEDip5NINdJXmi\n",
       "vvwD+Wsuu2Ry8qgka5TG/KxfiCul8ySgDKNb0gvqFLFNAf1dMEW87wJyD5SmFcNUepU9bAVbsT1K\n",
       "VPVlkfCcvpr7JXfSqyw2+Hs8lF+F7dCcazv/3q30Wi7rs2152Lj0U/zfm/2KxX16JIwxGFm6zken\n",
       "g7FFHgWpnWRA7oGKrLp7q1jew1awFcshSwGYzCuX+BUm0jGEwKbKprZO2YWctIu6ZqrXq4S6OobR\n",
       "LpI+oMC9tzfbHe+CCvF4DMg9kJNnW/xWsbKHrWirApJZFshs85hfg2Z/niZkzbAK3wjvo+qmtv6a\n",
       "q1ruJtcdml6F9c0xElCG0S4nhKbpKHCEK9C0djHiAqC/B4gNKNWNGQcDw0B06lX2sBVtxbYiv7iV\n",
       "asw9XoVpwBJNKIy0yqa2jKF7CpL7DG7wK0xWRkhAGUa7iJtrggLlsYuIHgT6++AA8bMHJBAZ2/a0\n",
       "lD1sJQdh+/tRe/5xI4qG7B6iCYWRVtnUljdO5E6NRT06sVVpMW/QgDSMbhHvgIMCxWO/otashmSw\n",
       "g1gqArkLYGzzt9pUU2vZVizVQHpKA7/QJ/0K0aZOE8q9HPTkWRbpthcjJ11MtNKaVyGszJGANoxu\n",
       "yQrLd44CXoirktk66O+DKhEKQe6Cm1tyiIvuwCnZai2F2pea86jCf7OibGq7xlJeJAFtGO0iDKqg\n",
       "QGaE1dvo74M0wQTkLpiRmz+yA6cpW1nnGU2o8pngk7Kp7RrL4BgJaMNoly1hkwMFrOdub8XrHwCL\n",
       "6Msgd8Fzcr9GduA0ZassdeMHI5phZsqOGgm0eLRxf301+gOg9kkBucZGKgZtVSTTcYRHxdBFH6WB\n",
       "Fo82Nl9cjf4AcoR/QZ7TagCmbEWrn6uzDhWwYBQY4fHZ1egPoETEFJCXZtn6FYu+Mdc5HoNNEhjh\n",
       "MVpLrr9gCGq/qiPtDuhEifvP4zrG4xANjPCo9CTXXzBEjmgtIM81189Br8QE+E7x6NpPAkM8Pp9c\n",
       "f8EQeYINyPP7189BN8d81ykesNAYBYZ4fK2VWH/REC8QB7/Q7oAODEGxlukQjx/TwBCPrlpS/X3w\n",
       "f4FeSiHRxY5ZAAAAAElFTkSuQmCC\n",
       "\" style=\"display:inline;vertical-align:middle;\" /></a></span><br>"
      ],
      "text/plain": [
       "bound10: {e in {2 .. 2^{t - 1} - 2}} |- ((1 / 4) * ((Sum_{l=-2^{t - 1} + 1}^{-(e + 1)} (1 / (l - (2^{t} * delta))^{2})) + (Sum_{l=e + 1}^{2^{t - 1}} (1 / (l - (2^{t} * delta))^{2})))) < (2 * (1 / (2 * 2)) * (Sum_{l=e}^{2^{t - 1} - 1} (1 / l^{2})))"
      ]
     },
     "execution_count": 92,
     "metadata": {},
     "output_type": "execute_result"
    }
   ],
   "source": [
    "bound10 = bound_09.inner_expr().rhs.operands[1].denominator.substitute(four_eq_two_times_two)"
   ]
  },
  {
   "cell_type": "code",
   "execution_count": 93,
   "metadata": {},
   "outputs": [
    {
     "data": {
      "text/html": [
       "<strong id=\"bound11\">bound11:</strong> <span style=\"font-size:20px;\"><a class=\"ProveItLink\" href=\"../../../__pv_it/theorems/f67ffeb951aaff9cc5f02f3801926b572b231a930/expr.ipynb\"><img src=\"data:image/png;base64,iVBORw0KGgoAAAANSUhEUgAAAKwAAAAYBAMAAACVRAuIAAAAMFBMVEX///8QEBAyMjKqqqpUVFRE\n",
       "RESYmJjc3NzMzMwiIiK6urpmZmaIiIh2dnbu7u4AAAAMEBwRAAAAAXRSTlMAQObYZgAAAAlwSFlz\n",
       "AAAOxAAADsQBlSsOGwAAAe1JREFUSMdjYCAZMBVAGXxJDFQE72GMnpPUNNYIzrIkTSPfKjyStZNu\n",
       "4De2uACHzkPr8FmqTMC1HK4PsIoz/2NgYN+t2oApU70pgoHhH25jIbpYHbAayzuBgaGUgfcXhgR7\n",
       "AMP9BVwCDByhQBCOxViILpB+HMa6MzAIYkiwFDAwCvA4vMDpWoguVGN5ImdOghsr/4DBHyPoGf8x\n",
       "sHznPnAPp7EQXSjGcuk8QHKtJwODP0bgskxgYPnBsQ0mXqt/B00BRBfYWL47p8HmFT1ADgQgmI8t\n",
       "gDg/EEic86H6VzZwXADx1eEy3ArgdPIHm67+A/hNBeniEQDG7jcGngUgAQW4VGEC2F1Yk8kUAo4F\n",
       "6WL/DExkf87cAlsjOXPmzKkgVokWWMFWbLq4A7DkSc2ZINCA0PVEmYEf6ig+uAaOraBQZsPq2BQC\n",
       "joXourSAgR8WWIhUAc4ltgzsmHmb+QJDOV5jwbpAuZQTGF8GIJEzKNkBGI08mFm7l4HhHN4IA+vi\n",
       "BUYZmwLDa7CzmAyQja3cvXsnpHQFRiXfJ2jmnb179wR8xkJ0gRPY2TRIMPC5rkMydv7//xCzODcA\n",
       "idnQaP7//78C3kQL1oWaebmuImVeSgCeooYGxoJyCSWAG3tAgXIJJeBhAnbxamdKTK0F6gYAv0eE\n",
       "w3ELTC0AAAAASUVORK5CYII=\n",
       "\" style=\"display:inline;vertical-align:middle;\" /></a> <a class=\"ProveItLink\" href=\"../../../__pv_it/_proof__fail_ineq/4c30f49595db5e7ccd080421e2209ef0c84d5a390/proof.ipynb\" style=\"text-decoration: none\">&nbsp;&#x22A2;&nbsp;&nbsp;</a><a class=\"ProveItLink\" href=\"../../../__pv_it/_proof__fail_ineq/cbdfac29b1b7a97af3667a0faa45728822d820010/expr.ipynb\"><img src=\"data:image/png;base64,iVBORw0KGgoAAAANSUhEUgAAAw0AAABMBAMAAADdI0aHAAAAMFBMVEX////c3Nx2dnZERESIiIgi\n",
       "IiLMzMyYmJju7u4QEBCqqqpUVFRmZma6uroyMjIAAADVePneAAAAAXRSTlMAQObYZgAAAAlwSFlz\n",
       "AAAOxAAADsQBlSsOGwAAD8pJREFUeNrNXX1sHEcVnzvfx96H765NKyRkyAk1tKIScRQoLfyRAzVq\n",
       "S4ViIRICTbBFmyJQJR+ikFJKcpSPqmqJDVRqIopsVVgiKooNBdESVJsmURCY2IVKtOofNqCqlNL6\n",
       "I4ntOLWXnf2YnXn73n749g5Gmub57dy+38xv5s2b2d0pYzy9yfD0pkdoeUrs9bvaIhxXN0ghGo7S\n",
       "9IYtGqk4hhcWeqpAK9L1PtdahSM5RgrRcPxp4xaNdJwgX+iPN9rHQ65OX2sZjsdpIQqO/NEmLDKN\n",
       "sCn02uPto4F1LpCXWodjpkIKUXA8XG/CIivM4kWFHimQBzBT8bXJ0+QVCUdiwhY2xTJECt2k4I9D\n",
       "Tc+FB4cY6icmF6FHCnxT/uMhA9dEbDxsHqauSDiyNevfzEgsPCRWScEfh5Iya+HBIYbeIoq+RRfQ\n",
       "xAzOzd3cw9hfYuOho4cFAWJs5x9tIR3PlPFBWvDFoUZLsxHAeQzl14hJZ40uUHR6RIdZwGi5UmxT\n",
       "aOYC8wf04PXPsDSLl4f+GinQDQPT6DQJTjsUaLFE9D+hRwoYlrRrb5F5SA7HNiBuYv6AJtgZdoSx\n",
       "rsnJyem4eOgYJAW6YWB6lQZ3185AixTxfj3j3Yx9t68g85CPb4IYHfYHtMY29/08G+94yK+SAt0w\n",
       "2ECmwI0EWhwnaiL0SIG/MnYyca3MQ2d3bDyUZ/0B3WdUtevLdt1ve188RtdpgWwYGAKt+IAbCbKo\n",
       "nSeC5PNQMG+93Ujb2FOMPXF/g53aftP27XWTh0x8PBSW/AExtiX+FcR4HynQONQ00O0DbiTIYpYY\n",
       "f0KPFbiTsQV1no7RL3Uu+gNimb0tWMlVSYHEAdLhYR9wI0EWO1aImWsFCuo8/WGWlHlI1eJrk0v+\n",
       "gGJauwFnOEgKJA6QdjQQcLYDQXgAhgaI2V/osQIdFfboLbfaPCTev1jjmtjSjj5fQImJRCV2HjqW\n",
       "SIHCAf3VRT9wI0EWD9vD4wDoZI7eFWTXUZXXDzx9O/TyINip7EI9gsCx6e57og6IA4E/SC2SAoED\n",
       "ViS76AduxAMFGBo3l2Ta7+bAz8enoSCn30vraUURlB45txK8qEIDJoFjSNejseCtHNI91kkBx+Gp\n",
       "SGHNB9yVc9dAKMDQkNMJAdQhjyCnJCidDfsAhKWCeSijRYaa8Dq7ggeQ3iAFHAesSG4+IhTFkOXV\n",
       "vFCFXghqAhg1FiMPpTXS/baOh7lpUsBxwIoM9ESEohjKn8ehCn3+fLwTYggeitgOU1M4QvAwVSMF\n",
       "HAesyGh3RCiKoeIiDlXoi4tt5yGLNXlTOELwcLibFHAcsCJT1YhQFEOlVRyq0JdW285DBltANIUj\n",
       "BA/9g6SA44AVmRuOCEUxlFvCoQp9bqntPGhYyNEUjhA8DMyTAo4DVmSoLyIUxZCITQBUoceCl5Iu\n",
       "pVrsPDC9zzeImpOsX4iLh/ISKeA4YEXk8MoHoQtFMbR5Hocq9JuRXpHX7Vt868Vn9cH4eehFhriE\n",
       "Y9TmSXvX7UOX4uIhvUoKOA5QkYQ8iH0QulAUQ6M9OFShH8XCsXE3iPzqavw8zCFjTMJR0IWc7R2O\n",
       "iYfSBVLAcYCK5OW42gehC0UxtGsWh+rqscVtWndffzoVPw/jSOgh4+i97IYv3THxUFgkBRwHqEhK\n",
       "WX7TCF0oiqGtTqmt6vaUq8cqmtGXXTvRNt2SC8FlppD35WQc/XqdRdpQ2RqMsXiZFHAcoCJJJdim\n",
       "EbpQFEPjdpVPDr2hvATl6F1BZVV3a1aPQkPh2fXfBDcbMgZlHCndbYNsCKOwcmj/WCcFFAesSEFh\n",
       "jUQoQVEM7ZjAYQk9XqBD72GtS1t7fACZf1yM3WbyIinQOOQWeVstdjGaxTnitkKPF9CG3m4hD7sG\n",
       "fQDx9LA+EbfN1CVSoHHI87zaICEQKoZ6idW40BMFZvTh1vFwWMSof/MC4qlTX43bZlYnBbxhYOii\n",
       "zuohECqGhojbCj1RIKkfbQcPP/UCsjzXpUabeThR8W0PlgPRVTBClQdiOSz0VIG59dbxMIrxUFNX\n",
       "9LMx28zrpGAuk/4Q0B65C3DPYTaKxSEikBB6qsDDerW9PNTV+WmxrTzsvI4FtEduGc6gi1Es6sRt\n",
       "hZ4qIPY2WpBmEB4AjlG9L16bnTopMG1LjcLh7jstw84UhFAxRE23Qk/Ox1Oxu2h3FbSC8KDiKMY9\n",
       "P2WcfTqvkDhTZxQOlwc4LwciVAwdtGRzZ5D3Qs12+wedRj5ItXaa3mnVN5ysgfCQVe8zu3cf2737\n",
       "DhxHL/DH5Y0btfr8Qafze4Tn5Ka3cZSdXzoNlr3PE1ldIBvGa0iHD2H32b9w9Dr1BkDiImvreAA4\n",
       "Nve0bTwoPFANVvY8VA9CqBjauF9K/YD9D/0Su63yf+6XAhHGxMNMzBOl+QmHzcN8IA+d8UQJ2ntO\n",
       "isZglKDO02F5CESoGNpw3JqJfUXLP+Gg4yWAoz+e5XyRFXuC4yWm7bw1atxKIXSZVwxtfP1Qi5sH\n",
       "/glHWB60x+KxWZ5OLIXgwVjHXRd1/fBYJOZ7xW3vUSf7OhRA+k/ss8J9vjyoOEox7fNlGyF5YIcq\n",
       "Ko7E5D8Vx5wGPOAItywRzLuPIO9Qty1qUFBTRzeLPzmfcIwOevf5VBzbY7OZtHtn3tn99Apow2xi\n",
       "SSVCgk9RcYTZeZd5xdAOZ3cipfIg9Dvw7YszbjiP+sEKrStVvGpTJd6gPow9f5BxFN13rfNSJI1F\n",
       "1/a/f/eqrUvO+9dZJwz3CiiOXzB2TOmY6jYGjpAVZ13mFUPjzvD5whvKfYR+HB1fWTdozWI8pIZp\n",
       "3YDcHud+VHnR+PdFs4s53GLPxBUcX3epvN/VfhwBYus0+a2Trte3dRq9mmeWuNFBt04KKI6hBhuX\n",
       "O1RBff6AI2Tpmsu8Ykg8Cq6qPAj91FhA0Hocu/4kd4VeXde5Gxg7IXsF9kojZXhcnt1POLBn4jIO\n",
       "KSTMu4+M8lWW7AXBtKEzHXleZrba+QzjHx3z3MWusJE4z5e9Aorj1+ALOvVpNo6Q8RlQMK8Ycqqc\n",
       "qqg8+L8nIJ168Cj2YE6b5a7Qo0t0s63TV37uvVIv4n3jX1Z2P+GYQsagjMM9+kGTih7hHg386ojl\n",
       "yBNb/iG1GV+m8O/ujZy44W57Q7vo1MMrUDh6lXlGYQ1HaOITzCuGDtsd5R1M5cHRuwIatCaeQrdd\n",
       "i3XLFQJdocJyg+zfsq/ivesBK7ufcOxAYgMJhxsSvnNc2tQ8a+Rz4FdnbUdekv3k7dybTpg552xp\n",
       "sQ5nnvUKBA714IPsOhq0Kgj5IS4u84qhGXvUVAEPjt4VlKDhLTO9+hldR18YyNmuEOhyK6ywwOT3\n",
       "fjQ+sHINK7u3R2YXCUdp3TK/22BOmkt5gU+BXw3ajrws336A3/6oncVNV0mBwJFWPHanHF0RCBl7\n",
       "TGJeMWS/JpitAB5836ssyruV2PrihOUKoa7QwwpLnQqx/CPLUt3K7poN2TKRcExJ1t2onU8BCTA4\n",
       "uc505C8roQ3vCa/ZWXSTJVIgcKgv0CnvVeIIjSG0QFksW1euYoCH8gIUoqTnEVf9vNWJ5lNj33OV\n",
       "T/GvN/jZaMpBbNgXUYE4ilXvnFSs2o78ds2lNv9b7sqvZ+oZdN4Xq/HPwwSOLAhg9BAbj6lBymLa\n",
       "Woy8cvLkpV8qy8M1KERJrzHveVZW5+uvFWvXuU51lh+GkJ21suha2AIqEAcfUfD0KmuUGY78tPRB\n",
       "3yHzZIZDzMqinw+SAo7jSaZ+odsb4hPBjrEGYbEghs2PlV8IfWF5Azx81nSFXh1ftWfOul1zcyW/\n",
       "ZEV2cnTXiQXugTjShtfP1bw605Hf8zWX5QU22meF23LIPTNLCiiOTJWllGE7HuK9xnK9SlhMieBM\n",
       "jZaFPrWRF8Z+4rjCI7t52mPrpJdurcdYT7OMwUNm3srCNvaEPRBHzuiP/RXVaG5aceSmUWPM9Bs8\n",
       "9DMrO0l8tO0VUBxXT06eUS7sCrHlVX6pRlgUfe+U/itl+l/365wheEgNenWMfUP8aT7GWjbbn8/c\n",
       "8uxdwAKVQBy8zW9DdLIj32f2SbP9X7az6M7DpIDi6NV1FRE+fMA2xPOURY34JlzoNX1jfklxhY5f\n",
       "Mpa3V8hGlsx5wTwnRQp/0yt+gPz80kc0xC8BRz7QZ84LI0w9bKG3QQrhcAzMR2wk1VAvMc0LfS8Z\n",
       "B3Q5HvdGeOUDwBXaOvZ5xm6VdUvmAivbbWVRo0ESkDaOXHnI7IkdxpBfToJ5seZ15OU+cyX5FTs7\n",
       "zXuJFKiGgf1ADugeCSYFGNpKTC9CbwngxuZTpXvtP760FzQJDwgVV2jrEvsmJ5Vl3zX8JCczuixK\n",
       "rI2O0YBOgMCU2ec0WpHv2nfApvaY15Ena/kxO4yWvET+MilQDQM30JfBwiUgAUMzxBnJQm8J4Mb8\n",
       "qVJqn+Pg9oImYQeAK7R1aWNZo9wneTNv/vS0lZmvY7ZwgLuKc4cM28Z/HwBjkOs8jvyaj/H/7rcz\n",
       "nJO8AtUwcOK47F24+CVgiDoWQugtAdzYfKokuvZe0CQsjSyIMZ0dethZLKd9AImmA+c0GmkP8qM9\n",
       "lM1Ej5WJ6oZpGJhk2G63evDeergGJl4rEHpLSKurFP5UiW+gTk5O/hnhIYvEcFkyrjtrZ6cTX6YB\n",
       "afOsyE+W+hA8p9HeLoTpAXL1Xbeyk/rHSIFqGM+OuNTRBowAlOOsa3sYcR9giDiFzdVbwoBTf+FS\n",
       "evITdWo8sG3IHbdRXbPbyiJCX6UBue4RnNPIGHoUF3k81yY7i2B+mBSohvE4rKq6wWY5nbErifEA\n",
       "DR0jbntMEU7AywcaibN2Je/64TDkATsWizoqi7eV3F6lQRqQ6x7BOY18rCBPSjTqMfo20DFepwWy\n",
       "YaCjGYSbaVx59mdEcWhoF7EvIvSmIG58Jx8WFU+sqjYJS9SQfl/DDX3UzmLAVmlA6ZeccbnAPIPw\n",
       "KuRHVxEbbhUrC1+4SAp0w8B7Sjtg+xu2XypTA9JjqEz4L6E3hf0N1S91KQsyT5M0k6jzUTmOsjhY\n",
       "H5zT2GQqrJAC3TAwSfPavNPnOoZZNZzFJGFQ6E1hXu3M7lOl2HnQiLjdxFH8hPMXOKexyTQwRgp0\n",
       "w3hWFm4HOu2MGe30vY1wFjViAAq9KZxWB6P7VEnhIY4mSVEPGjCgHSyetKtCCqFwWC1abc4i4QeE\n",
       "PsSpCDE2SY6MbxEcxZiMPkELoXBYPWilKYtpgkahT4fiOa4moVlPV1mLUmqFFKLg+GQzFlmecARC\n",
       "n19g7Usa/byndTgG6qQQBcdopQmL9Ikxp4IKtCL5/Y95WobjaVqIgqPY3YRFY5wR3At9ut4+Hl72\n",
       "mYxahaPzKClEw/HpjVvkKwnCqNBnjraPh/0+11qFQ2yeeYVoOL7Y2LBFnl4gSr8QVKAF04NvA7QI\n",
       "x/dpIRqOzsoGLf4Xr78MDQf/x1YAAAAASUVORK5CYII=\n",
       "\" style=\"display:inline;vertical-align:middle;\" /></a></span><br>"
      ],
      "text/plain": [
       "bound11: {e in {2 .. 2^{t - 1} - 2}} |- ((1 / 4) * ((Sum_{l=-2^{t - 1} + 1}^{-(e + 1)} (1 / (l - (2^{t} * delta))^{2})) + (Sum_{l=e + 1}^{2^{t - 1}} (1 / (l - (2^{t} * delta))^{2})))) < ((1 / 2) * (Sum_{l=e}^{2^{t - 1} - 1} (1 / l^{2})))"
      ]
     },
     "execution_count": 93,
     "metadata": {},
     "output_type": "execute_result"
    }
   ],
   "source": [
    "bound11 = bound10.inner_expr().rhs.cancel(two, auto_simplify=False)"
   ]
  },
  {
   "cell_type": "code",
   "execution_count": 94,
   "metadata": {},
   "outputs": [
    {
     "data": {
      "text/html": [
       "<span style=\"font-size:20px;\"> <a class=\"ProveItLink\" href=\"../../../../../../numbers/summation/_theory_nbs_/proofs/sum_integrate_ineq_NC/thm_proof.ipynb\" style=\"text-decoration: none\">&nbsp;&#x22A2;&nbsp;&nbsp;</a><a class=\"ProveItLink\" href=\"../../../../../../numbers/summation/__pv_it/theorems/0786cfc7c9b500901ee8751ffd60ba2facfc8f5d0/expr.ipynb\"><img src=\"data:image/png;base64,iVBORw0KGgoAAAANSUhEUgAAAzQAAAA/BAMAAADEc5AaAAAAMFBMVEX///+IiIgiIiIQEBB2dnbu\n",
       "7u5ERETMzMzc3NwyMjK6urpmZmaYmJiqqqpUVFQAAAB6qHgnAAAAAXRSTlMAQObYZgAAAAlwSFlz\n",
       "AAAOxAAADsQBlSsOGwAADfBJREFUeNrlXQuQHEUZ7r3d2dn3zfEUwcsZBBQKc4ZHQEE2mEACASZw\n",
       "RCHKXTA5IxWTLcOjKApvMQJFlXIHCiUK5pAI5QneEt4mkg1IShTIBiwoDIZN8S6s5EI4ciS5rP2c\n",
       "6X+mZ3b3trJUOV2V+3LdM909/XX/r/l3DyFXGa5UOlCzS6JS+ah5oyUNiFXLJaZP48ONTEW7A2K8\n",
       "UhkXP93UDA3lmk/N7qEHmjfaYQ7U76xyQ6jHp22gobkcAlEfGhoXP93UoM+gJEaaOdgYRITernbL\n",
       "Qu+m4XxDk4lmISJ0uvQzaNRcVISI0LSqt5Q8JdJpjU1GOx1isKl5yoFI39Fu+t+SPslTbwF5dm1P\n",
       "3bN5xYQYZGr0XRCxujgqVKhy03FeDX1AMWeydU+npQAxyNTEyxCxnC+mqunyN700yu/Ab+H6Laj0\n",
       "GMQgUyNW2V7tcC5ZrsZnj//CijPU9k7d87nTgQGm5mgHItSKwqVqe3uXhziSKMtMRweYh9e/VXIQ\n",
       "g0uNPg6RrK+5oept3/BQNRKnW4eLS9DzdU8oXIAYXGoyIxAJSw9XDwusU1dvlzgfXT44DT1df2xi\n",
       "BGJwqekuQKyxDBeVXskeiXMs20aUS1rl2fdCDC41G3MQaxU7ShsuJamgVnz0jkrV79igUyEGl5pl\n",
       "DqxV7IwpwyzSvIcx19e1TWBG6/IAg0vNJw6s1f3Yq6pt7amqjWow0YoAA0tN4mOItZbYPqUGkrz/\n",
       "r0x0Sv1lgIGlJrkbYs3lBKUsGlRaBHVaz50AA0tNfFTGeEUq/hb0MlUEdKVZReLVUqKjAANLTWuH\n",
       "jOkKN7G+c+9blU7fGyepAgbSq9nkrolOKTQOMLDU9PcA3G4v7jPj/spa4QfFJFuiZcKPkN4DMLDU\n",
       "iBXm2FIpW02P+97Y1+O9qNSF7ZjolPRPAAaWmkkGQL1iq4hkHlzJf4v5LH1oh8R52ce8g106Qwof\n",
       "AQwsNetKECdV7PUCsZgQvyDBuWxVTDEpycALfKyIL3C8V91cASiooVS/4aAmQw9rscnUuKeyX4IB\n",
       "OYhRd2rXozPJz3+JX4/gumRUYVtJqn/loMpUn0FMuLTwfkLWmuq/lFTXFFNGQc1fCPzaQU2SjBLP\n",
       "N5ka91T2R1mZh6id4fRHIu+RxdGsmFmcLVxcjtS8nnfVVVTG9fnLydm7xPr9DttSLHnNSVDzEyIJ\n",
       "exzU6GQD39Rsgeaeyv4oZ5gQ0XDFYRWH/72I7Hdrg6fY/o5KPuozj/FL7ZOk71SNdvr9ZJi11u//\n",
       "tJdZYnLZoIyCGrIlIiWnriHkntdsatxT2R+l4kAUqTiyZdiihe0K1p6x9coBM5FL/6RUMbkEo852\n",
       "mMIWIWdKl20vySioSeHNEXeZAS/gfwPNpsY9laZQg1Z+Cq9gi/a6XXE3pEY701L4EjUZVUwuwvxa\n",
       "eynj1ln8bVVq0NTJk090UROePPnIbNMtNNdUmkPNRRXwqC9N/ZDaAvjf3PZvz8CrdT7T6NzK1lbb\n",
       "9pFETYvCYU299VUiDJO4f63tnSuxHIowCzv29qHjoopYi7xHhhY1TyC0yEVNMoeiZoNrkOa6jW+x\n",
       "QnVqXFMBxauDv6ktySsfU/sQFYhysIaXHdZRKYS2JvG+f16mRvtAkrndNjWtqvc5rYY4KknUbqzG\n",
       "ZLEDdF8+OiqqvKm5FcUIk6va1udsanDVreT/87kCixClueJL1pBdJ8x42tpqXVNnnP8197T+wXtN\n",
       "sl+5fqfjRHp7e/Mvz376NkgNnwrTqiL1J3PyuQsLUge8vJrnV+iKyBdtonv9rN7exbj36UccKqjZ\n",
       "CZGuyE55G8YYUcfjdcynRjN4tV5ha8DdS0CNPXifyjPrp2vagu/4O9po/hdvA3qDdhpJ+uRVkkvE\n",
       "0KImakawXZA2UJ/sci5C5xBY8gB+zvbeQXQWvmmDdO634b1kPc9ShP7s3p5l3msiK1FDa7QrqI0f\n",
       "QbOygBo2FV5IhjgZuiUfmWu6qHnVEDnkaZVOfJsri3msv01IH/GhpgXEnNPs0q/j4XnWbB+gJiYJ\n",
       "NImaSap5vMl0P55FjqXxsnkkR1BLVlR5U5M24sweycjUbGJWADEw1hDmz8Fz2GAAauysuqXkvLqc\n",
       "rUHR6x0SNbQmSkVdKISeMwA1bCq8TONDp9D1P0dOajYUkcghV1IzjVOzGAkLqexDTewjt+om1ODp\n",
       "0gneB6iRzQCJmu0qgXumRQ1CVLAk6A3hHtQ9KKq8qUED64lQLFpxHkpNPEWu2nJiiTuw2WNRep6B\n",
       "Qutnapdf306p0UfRnDYUmv4+puaahLYMHWjMO2ZTmdSE3piDWqxez5NWltb8DHFqDi7AQA2dStf6\n",
       "WYhliHPfuVCQOqCth5SQlUNOqNHmHAT8Y9qEqYnxU7lXil65zQAUOgV4+GUh0MgHNDQ8xsvADPAw\n",
       "nqeoVN5SJAQa+cTIxXi2lPduA220qrx1DTqP7OpQZQmIoUVeJ49N0kPm0crsISgVNdAV6ELUX4qX\n",
       "CDXaeLyULJ6LTZmlRIH3o6gRG0f3IFyzCt2AbrF63SytLK35D/tvJLagCKkhU9G+rBOFSjLE2dCp\n",
       "X+TsDmgr9bBFDjlRrBfm+wA1tOn3eCFEnOyToo+FRvMtJI+TbeEFRBy+hSLkjDqpsVxOiZqKKkGH\n",
       "HQu8cNoVmU6UZSuKqSmhD9I38iofalbQXfK9dWWZmtg36Wzwsz/IqOnOXxM1sKSMGv0mHopSg/XI\n",
       "ojF0I7r83GmEmowRG0ULNFzT91cT3W/1er8sj0gN6zKUXNjjCG+SqSQLVLGTDHF23dyIZEfQ1vRC\n",
       "E1k55NfiJVmDlsPQFmmKH4wS/JG1zft8qNGh2dvP9BO2It686hH0ELejgcuJpWXOQY1eUQWcWQAB\n",
       "W8zpXfM7EyVmRxOu0sclRZW3X4MyZBTTjv2yyPN77BGxtsfWVAllkwUjaqQ6UaZAOKACbezZF14Y\n",
       "GqHH9jVOzQjaSvpJLNuNtli9Xi1RQ2su4wIt8pCDGjKV8GCIbBKSIc6HnsmOfQ8T26Q1QbhhOeT6\n",
       "NpPohXYYaiFN6duoKUKYkcPpZzgQ+zWGQnWjH2P7tC29lizWsW5qxEAWNelPVf4Da9Y7kPawsflF\n",
       "Itso79rWs289VFT5UENXpmRHr4blR8T+ATs1+liJnpq4IaiJ9GDLJTYqJCoVaJgaUnMVdgWutnqV\n",
       "BBqrYdGYUCixynS/FOjOR58zWYY4HTrxWhHNtDrgrfqHeZFDjqnCB3XJxcCdIE0rrGDTQ3JAEEZ5\n",
       "nX45LjwztsUSULEOV5TZsu2sGFpEFQwQltIxVs1Pa4iGQ2pwH5m8m5puE3HXs4DuIp82vAetMAkH\n",
       "hJqXzWhRMxaiuYyaVvOiLKZmAcI1m1GUmAG81zZJHrGaR3PMeJ5ZcFMTzvc9aHbRDHE6dCSJEh32\n",
       "qSGtZLm2meSKLmYGnKLvfo7aCEijAoOmlxMLLXk2X+z3PV8KoCiwytPle0BQ0w50toz5vRSIKhJ0\n",
       "tsRLzqDmWiU1U/IyOqi57tFZyE0NkeCxH5D2k3ObtG/9CkXantS2F579DXY51+BFmNGGItONrhOI\n",
       "D5Sa89Lxl+1JnTqIazYfMYtYyLzXxRI1rCaBPcH8Hw/Lzn/KTU1i7aY5WNGTDHE69EvbDvph2T52\n",
       "pJVuZZpDjg0CQs2fXjyILt/yvE6NLZpeToNgq4jL+cSaGbaVINKTrDSl1ba/iVeyZZEwxheL2puA\n",
       "8NIm08KItTOmwoq3OUeLlwFRMbxHYB0K2ZreclK2u3p7BycSFRPupNaD3M68MlAjFbbdwNDKDkpq\n",
       "v8YRn5TLpCLElG05p/CoqcPFMs5DkKNWRdghZFltqtfT65+ESyBxBMtOgLVQ86P3GomhiXnxN+51\n",
       "UZNQBPBUHeDrEh31UbMxC1GynF+B5hW3DkJ8OfsVA6UsDTNc9nu8Gzh+TtkqXN5Y7bkB041GqImY\n",
       "diwNrmyml8TQ/KhJIT9qrrbuJ9fdph5eJzrj3V4aQwOPVwYYs+2u+f7pl6rFT1hG+cZiA2H3fQCb\n",
       "kLZhAsjXJdAUxasDXf327WaPy7sHAFqWc2xLxT/Hb6Nio2qWybwuP/GFSu0AGNiMGpHJx3HlXbTc\n",
       "fmSl2lfzrFO5+1PEf45sYEoi75NjcNPRx2RMyjnP/jJppZIvcVj2NTCl+AjAwFKT2gux5qL85imh\n",
       "YnTY23frensP07CDS01sD8Rai678PE4/d0xDwB/V2zrq6bovCzC4n0qb6sAaS0hpJIQ5BxnIRbou\n",
       "aiblAAaXmgtMiDWWqPIjHhEeBAhnxYumCVDzfYjBpabfgFhj6Vb6lDFu9w6b4kVT/dRo+yAGl5r4\n",
       "AMQai8dn2e8iP2bTF/IFO4OkLmrEB9wFBpea1BjEGsvtHowR67lXP4m/SuKBirqoiXdADC412scQ\n",
       "azTsPGztbmJVzW/PW6+S6j81/UWIAf5mp0dkbHvSCjVLalyh7z0mmLSEmHiVVDc1FzgwwNR0GzaG\n",
       "8u/GS48TKVSU1bj3Ta4zaH0uzXqVhI/Y7I9rtzFED1ZPAaYm1GljCi3Qxf4v6D4fgV7t1XBgo9NJ\n",
       "dkAM9NeiflFG66TwfBEPVeP5BRAtRoOz4Rk8FgaaGvHNzAT1zhhiAk1W466S8WQtMdbgbLY5MNDU\n",
       "RAYsXBEZSCrUuKs86x06mN2gLX8SxGBTQzIzOSY/P/1gtxp3yzOf7+iONibRVuQg+lLz///nHi7M\n",
       "QazuFRZ9LKxjGprL3RB9/9zDpZ/Fn3vQhpr55x5iOYhVy6V+jTc39OCDEPWhoT+wn/8Dh2bEWo6D\n",
       "N5sAAAAASUVORK5CYII=\n",
       "\" style=\"display:inline;vertical-align:middle;\" /></a></span>"
      ],
      "text/plain": [
       "|- forall_{S} [forall_{f in MonDecFuncs(S) | S subset_eq Real} [forall_{a, b in Integer | a <= b, {a .. b} subset_eq S} ((Sum_{x=a}^{b} f(x)) <= (Integrate_{a - 1}^{b} f(x)\\,dx))]]"
      ]
     },
     "execution_count": 94,
     "metadata": {},
     "output_type": "execute_result"
    }
   ],
   "source": [
    "# summation-to-integral bounding theorem in line with Nielsen & Chuang:\n",
    "from proveit.numbers.summation import sum_integrate_ineq_NC\n",
    "sum_integrate_ineq_NC"
   ]
  },
  {
   "cell_type": "code",
   "execution_count": 95,
   "metadata": {},
   "outputs": [
    {
     "data": {
      "text/html": [
       "<span style=\"font-size:20px;\"> <a class=\"ProveItLink\" href=\"../../../../../../numbers/functions/_theory_nbs_/proofs/one_over_x_sqrd_in_mon_dec_fxns/thm_proof.ipynb\" style=\"text-decoration: none\">&nbsp;&#x22A2;&nbsp;&nbsp;</a><a class=\"ProveItLink\" href=\"../../../../../../numbers/functions/__pv_it/theorems/f00f005e38c25b9d2f61273269f4a9eb1ac9a1930/expr.ipynb\"><img src=\"data:image/png;base64,iVBORw0KGgoAAAANSUhEUgAAASAAAAAzCAMAAAAAaCUzAAAANlBMVEX///8WFhYNDQ1EREQQEBAy\n",
       "MjLc3Nyqqqp2dnbMzMxUVFSIiIiYmJi6urpmZmYiIiLu7u4AAABuiFsiAAAAAXRSTlMAQObYZgAA\n",
       "AAlwSFlzAAAOxAAADsQBlSsOGwAABIpJREFUaN7tm+mW4ygMhZkRYPbl/V+2ERgbJ+A4aZ+eSg/8\n",
       "yFKlEPFZXEm4ioQ8yC3jzrl+zPAxDXfPXIBzwd8GyN47n5mA2iF9mIDGkqMcixPQ6dAT0AQ0AU1A\n",
       "E9AENAFNQBPQ1wEyg5W74/P/FtAy6tDrAjjcAEhE/qWAAiMvABGjfxeQUjQyZb4SEKDbhlGAyDwF\n",
       "0wFEcif+p487uPKRbu9o9IqPDaNSinkxOkpQntJkAenp3WM6TisNrgixykB4BqQV+S/OgzjEer2M\n",
       "ivzkLCWqopZ+ZGTX4zlL5ZtuOrEBEvlJ4nc5SIPiQ/YwoML+eUBB+7r/tYsnl56vgMjQarMwy5tu\n",
       "RnsA5DhhzxFEmLkISPPfAKTBp8EaQHqNG2mvAQr1xdhCv8dH1u/dAUEHkIMxoHApJb4GZJkOjxEU\n",
       "1kNwTa4BIjDYicWCB5zqvfLEkwMgFYLqANJ0A5QuqwpSiC1U/bGc/BQQZ+F5ixFVJNJUQMFp7ZIj\n",
       "klHHkyf6AZCI6Bd3WrhiLoqnxcLw/EmVs5J+nKUaS220rnGs2AGQhIXxDiCb3FsBOdTsdEV9H8kC\n",
       "HwJivKNB6YtxeUtYAcmswoAL8grXUgJmB6QjroKmn+ISOV1WXc4WvGi4h7wZS+2yz1KNA7SrAtgB\n",
       "Ueajb8LctTtRroDwIpjk7F7U+EchCZ8B6on0uhpd5bckcvSGQI6tkuZaQMlrnz1PaBlOuiAuHlOa\n",
       "ZwVnWXMB1MxSjW2uBOpOZKqJIGNGVSNPWl4AYZZ0B6t///GHEeMuVrE7eoAkrZ+HAyCUaW5XQDKW\n",
       "jY1h0i7zGEGyUGMiRHHUIPcMaHu9G/sIe67xrt1iEIzpC/EGKBdt+kR1LLOfRFCAfgSh37om8GVl\n",
       "j0VNH5BKwbVEZ3BIGfUR0HICaDcOwu93SA8RRKQj/Q3Cty2WBYnjzeM+IMnCZxrk+4BwExjyGEFu\n",
       "ACggumpFwn4jmDf5fxRBqzGmuqQisgeIOMmhXw3wAiiALZlFDFbG+IcirXUfkI0qbCUgdeUK2QGg\n",
       "0hLT8s4WWUmB0wHEHwFtxkv+RdVYBQdAKdC16VbqaxZbogwuAbJ7QWqv1kFBCKXCsA5iTzWuzYui\n",
       "UPYOz0ols7rgQwOothrCy6Jn6JNI4kVNeZEs4FjaGJovcTNLNV6ySAPfC5wKCNeWNAg6GmJqHYR1\n",
       "SKIwLNjFSavjcrc0BBQU2HDoxGjECl5bLCzwNACzUapVFNZBKqUluUB63JpVSLK8ftSlQohnd5O/\n",
       "PFkzzGLVt/RDEyiFwyybsRVaa2Gb0Ni6eaQGwOLz6p26oRfDjcGjHLcaVsCh1fgRg15a9uVe7FR0\n",
       "wgtAP3I4ceVQ7bZuXvhvOzCT9Mq1v+s8qP0jmG85UVQXDkhyD3MDIN5WWd9/Jk3uOJNum3/Mk5x/\n",
       "GyCyiJfXnXwOqGn+OUgpXfg6QMP7Ytsaw+eA2uafNp0qmXdWV1V+av4noOdSS09AZ+Oh+Z+Ajqc8\n",
       "T83/BHTIkM/N/wR0iKCT5n8CelUBTEAT0AQ0Ab0DyNz7D3X6rwM0/6HudPwCa2o9oooOCYkAAAAA\n",
       "SUVORK5CYII=\n",
       "\" style=\"display:inline;vertical-align:middle;\" /></a></span>"
      ],
      "text/plain": [
       "|- [x -> (1 / x^{2})] in MonDecFuncs(RealPos)"
      ]
     },
     "execution_count": 95,
     "metadata": {},
     "output_type": "execute_result"
    }
   ],
   "source": [
    "from proveit.numbers.functions import one_over_x_sqrd_in_mon_dec_fxns\n",
    "one_over_x_sqrd_in_mon_dec_fxns"
   ]
  },
  {
   "cell_type": "code",
   "execution_count": 96,
   "metadata": {},
   "outputs": [
    {
     "data": {
      "text/html": [
       "<strong id=\"summand_in_mon_dec_funcs\">summand_in_mon_dec_funcs:</strong> <span style=\"font-size:20px;\"> <a class=\"ProveItLink\" href=\"../../../../../../numbers/functions/_theory_nbs_/proofs/one_over_x_sqrd_in_mon_dec_fxns/thm_proof.ipynb\" style=\"text-decoration: none\">&nbsp;&#x22A2;&nbsp;&nbsp;</a><a class=\"ProveItLink\" href=\"../../../__pv_it/_proof__fail_ineq/0ce616b2eab33e01a6c5671e5f12cac98e60318a0/expr.ipynb\"><img src=\"data:image/png;base64,iVBORw0KGgoAAAANSUhEUgAAARYAAAAzCAMAAABlhddMAAAANlBMVEX///8WFhYNDQ2qqqoQEBBE\n",
       "RERUVFTc3NyIiIgyMjLMzMx2dnaYmJi6urpmZmYiIiLu7u4AAACsTsYvAAAAAXRSTlMAQObYZgAA\n",
       "AAlwSFlzAAAOxAAADsQBlSsOGwAABIFJREFUaN7tm+m22iAQgGnDMOzL+79sWUIgCl6jvedcW+aH\n",
       "Rh0JfBlmixKfhbwh74/wA8WFKPadESCNAP8aFvM3RtELSxLp/MJy60yYFWFhGQhfWBaWhWVhWVgW\n",
       "loVlYVlYvln0eL325uA/w7JNquJj/ghvYFEBPxKLF+QLLETzV7EwRoNg+gOxQJy0FhQgCEdBj7CQ\n",
       "XAVXLMoF+X2NBWQu0OMVDY7hXDEwxoRTs+KdOUqjBsSnq80vpDsDZIQYpsEPsHDWW4sO5PuwpD0b\n",
       "6sXRLOCDnkVgxfe5mZLZm16GXr2QVlUsKj/JdCoLUWh6KBP0yW8eWKz4Viyeu3oCbsODy4w7FjLV\n",
       "OjT0dnGawfRYLBIxsBYidIfF8XHMwZewcHBRRI+F7zYizXNYfD2Ya/BrVOR+3oYFRlgsNCzYXIt/\n",
       "JqI9xGIE93fW4veWMSfPYSEw2WtFA30a6lpa4UiPhXnPRlg4bVg61+LO+d51LCj8YBMRVhyerli8\n",
       "5dzG00tBLXLO+A0WFdImQcuVLepKqe3Q0Ji/yXJo4bejVGXJNefVaJnosUjYBI6wmDi9ioXBBMQG\n",
       "l7EIHPmWeLq0qM3vWGT2qZCW4VhaQTGOhoWHNHka300LQ7rtXjZrYPHIDvJ2K7lGG6Uqe+gXBHBg\n",
       "ocIF15m0Pe01eWChfGYfHPxVLEOXu6+BV2daQnCaA4FsRyVU9VjiZF2ecAQq0qhbgoQhBmhRIJaV\n",
       "FizdKFXZ5BhelyZYsxatp6kdRs+8Y5HdPv79y50khJbyhRsZYZG0fhPOWJLTRbNjkaHEkWQS/eLO\n",
       "1iILK6F8UGffYu+xHMdN2QVoQcPZbhOB13oSNBsWTqfexAhzzVo8TKwlzZbX0LvtsFMSMsbCoiFt\n",
       "weokUgZ+xrI9wNKUfUxTj7uDvbUQaclkG2DbRMBaADpjkcJf9S1ugiWZuSa31mInWHwCVrWIb7c+\n",
       "sYvcM2vZlVO4itFEDrAQKxEmcRwrlmirarwqgZddLucTLCYwfyRq1Ba3byZYSjlKyytT3EU0kgEW\n",
       "vMVyKG/5g1q+MeixRKPmepxFH5EomJYbmSfyFq8UY36Wt4j79NPkpVAouwOzC5LZa6SHDktN/pWT\n",
       "xVGl6ajolKguB1EDzqmIpvmSdqNU5S27XEBy8hQRS1pV9C0w8g+65S3aTkozJadtG+tmWDwD488V\n",
       "Uay540y5SaVYqr9TRIm5BUt5C4uhRW4QH49SEaKT3b9qY+KCORWJeQ5GbZEiUZ1WfFN7SuE0yqFs\n",
       "FOdcmc4MagWdUAGIMKgfLHuhsVBK7WT6XWJ8l/wbBefk/0cIfWqxp5ro+bIwRWXtH2P5mTLbEjfx\n",
       "2b+C5Si1lfu0NpSkz1x29lJ3rpba/Y85PqU7x55oReSq4jKWunWwT4Y+vpdL3u3l7qV2CnGIn4aF\n",
       "bF95l1c7/yUnQpBSWv9xWGb3iZrn9K9hKaU27QvFdVfxVGqThaXv6C0sd9KX2gtL60N1pfbC0rCY\n",
       "0W2I/x7LuNRev295og21sCwsC8vC4vTf+JsV/+ewrL9ZDeQPxg88MfXTA9oAAAAASUVORK5CYII=\n",
       "\" style=\"display:inline;vertical-align:middle;\" /></a></span><br>"
      ],
      "text/plain": [
       "summand_in_mon_dec_funcs: |- [l -> (1 / l^{2})] in MonDecFuncs(RealPos)"
      ]
     },
     "execution_count": 96,
     "metadata": {},
     "output_type": "execute_result"
    }
   ],
   "source": [
    "summand_in_mon_dec_funcs = one_over_x_sqrd_in_mon_dec_fxns.instantiate({x:l})"
   ]
  },
  {
   "cell_type": "code",
   "execution_count": 97,
   "metadata": {},
   "outputs": [
    {
     "data": {
      "text/html": [
       "<strong id=\"sum_integrate_ineq_NC_inst\">sum_integrate_ineq_NC_inst:</strong> <span style=\"font-size:20px;\"><a class=\"ProveItLink\" href=\"../../../__pv_it/theorems/f67ffeb951aaff9cc5f02f3801926b572b231a930/expr.ipynb\"><img src=\"data:image/png;base64,iVBORw0KGgoAAAANSUhEUgAAAKwAAAAYBAMAAACVRAuIAAAAMFBMVEX///8QEBAyMjKqqqpUVFRE\n",
       "RESYmJjc3NzMzMwiIiK6urpmZmaIiIh2dnbu7u4AAAAMEBwRAAAAAXRSTlMAQObYZgAAAAlwSFlz\n",
       "AAAOxAAADsQBlSsOGwAAAe1JREFUSMdjYCAZMBVAGXxJDFQE72GMnpPUNNYIzrIkTSPfKjyStZNu\n",
       "4De2uACHzkPr8FmqTMC1HK4PsIoz/2NgYN+t2oApU70pgoHhH25jIbpYHbAayzuBgaGUgfcXhgR7\n",
       "AMP9BVwCDByhQBCOxViILpB+HMa6MzAIYkiwFDAwCvA4vMDpWoguVGN5ImdOghsr/4DBHyPoGf8x\n",
       "sHznPnAPp7EQXSjGcuk8QHKtJwODP0bgskxgYPnBsQ0mXqt/B00BRBfYWL47p8HmFT1ADgQgmI8t\n",
       "gDg/EEic86H6VzZwXADx1eEy3ArgdPIHm67+A/hNBeniEQDG7jcGngUgAQW4VGEC2F1Yk8kUAo4F\n",
       "6WL/DExkf87cAlsjOXPmzKkgVokWWMFWbLq4A7DkSc2ZINCA0PVEmYEf6ig+uAaOraBQZsPq2BQC\n",
       "joXourSAgR8WWIhUAc4ltgzsmHmb+QJDOV5jwbpAuZQTGF8GIJEzKNkBGI08mFm7l4HhHN4IA+vi\n",
       "BUYZmwLDa7CzmAyQja3cvXsnpHQFRiXfJ2jmnb179wR8xkJ0gRPY2TRIMPC5rkMydv7//xCzODcA\n",
       "idnQaP7//78C3kQL1oWaebmuImVeSgCeooYGxoJyCSWAG3tAgXIJJeBhAnbxamdKTK0F6gYAv0eE\n",
       "w3ELTC0AAAAASUVORK5CYII=\n",
       "\" style=\"display:inline;vertical-align:middle;\" /></a> <a class=\"ProveItLink\" href=\"../../../__pv_it/_proof__fail_ineq/204d1f54623aa84acf8c99016c94f8a3a507d5d80/proof.ipynb\" style=\"text-decoration: none\">&nbsp;&#x22A2;&nbsp;&nbsp;</a><a class=\"ProveItLink\" href=\"../../../__pv_it/_proof__fail_ineq/8da83641245ea1c771d7ddb935130e990b9116010/expr.ipynb\"><img src=\"data:image/png;base64,iVBORw0KGgoAAAANSUhEUgAAAR8AAABLCAMAAAB+4XMqAAAANlBMVEX///+/v7+urq7c3Nx2dnZE\n",
       "RESIiIgiIiLMzMyYmJju7u4QEBCqqqpUVFRmZma6uroyMjIAAABMl2BWAAAAAXRSTlMAQObYZgAA\n",
       "AAlwSFlzAAAOxAAADsQBlSsOGwAABv1JREFUeNrdXImypCoM9T2QHST//7Pj0vZ1SRAUuquaqqmp\n",
       "mVYJh+RkIdp17xGHru5g0nS/M4Kv/kjufwceZxtsttW/Ao/ZL4WFo630d+AbgP0IPj7u/qnF/mfl\n",
       "7nGJ738DHgU7chYyuMMV9/Bh4H4Cn7ioj+Hc+wkIeboCxcfoePHgXt70FuIK+ToMgHJNPD7JvdRn\n",
       "mjPI6YpFhGUMFD5KCHmpmOKOiOIK92oMgM5+ZIX4WuYEEwPVudDpLPtyl+rR2ya8Xo0BcKE5vsna\n",
       "LPiwoNlBUyx3t/BxNxjI0HFBfQbABdgJ7WHzaF7CGNf4dFAuYKBvqc8A19GggY29qSI1zcDHj/pY\n",
       "6kzpOxowADrkhv71xgSuvIDq18EyZx+AlzrTRFrSgAEIWvh7fP9nXpPXZKyq/nRg74uGp3WVGQDf\n",
       "pP7PvOSf9iilgnkwO2KefaGBSTzm9lxUYoCsB7i31PrPACxMIz865hH4Jg4xPkQ4zS3KDEzhDs+L\n",
       "AXQFBsBlxHLr8CbQioUfcZ5blXkwDzhqRtmhDgOILHwCvJWma4pPB1BgEAZCKtF9zgC5+LzUdUs/\n",
       "jfCJJQqqcbZaI9iHDFCAT2fji4j6xviEkhysB3wzVVsZUQNjy1+8MT66ZAfwa0NrDkA9mF603zWe\n",
       "WxVEQEQ0KePn8WHgF4tWjec2BYQRUK4iSLstPp21Ke8SgRiieG7I3wI8Nnmp+ofxmfMKRm2ug8Oy\n",
       "DBuEH/2HLZ5b5psw7kxDcx3Hr3MTDJIM1LCfdHqx6Nwx24ExnJ5lTXrOxsdNVi3o6FYCYJl0SHkj\n",
       "jiWXPttFOpRo6oZouIxozN5PF/f074DafSAf70f7i16fzcNnb61AUat4EEvISG2LT8wtRoAwLHTx\n",
       "huW654AaL79X5C8bKk4ZKZcbqpuouU+5zh6qaDann+Iiu66FRBi6D4x5bzRsCcaMcyfwMaO7qhB5\n",
       "CMrnaXlINSOqr0UJ7u0xzLNsa9+TNDLJncNoYc/Da43HEELy47othoQC+wn1WcqSUmy1eRgl4mnT\n",
       "gOeNHRg+hkuBaQp6+0dO8WPoltr2xu+6ER9xEdDC49zHnZZtgkRJHsXHV82g0bDLc6FO9PPCJ+2N\n",
       "JgrilfExPhJGi+IjWzc5DJatpxS7hpMwYgNXqc0pz7jDfIdlU/jgmSw07iJajmsXYrbihM/V5oTH\n",
       "FKRODojh9mUwJlYAbdVnKS5JPs/FDnEXwP9X90vIic+Oaf7mp/8QB43yM4qPgFrFH0JE289TTzGW\n",
       "sN0Jn0vjZk+DRIUHMGf/juLjqxZ/MKUVb2LufWeK8RGWPcYnMz7ELpSgG+PjZkrsHOvGqfief+zl\n",
       "7M9r4wPNIC6qK3ygavEHy6LEdAwUpt4QGIwoxEeVedd3g04ePtf+vT49H0U0XnDFvBi3QQd+iH/k\n",
       "ZfxTljuvDTr38EHOKh3EyvhgIuKlkBGfq9pezCfHuTawNujsl5ibQMkzkfOa0TMpIlG+UOOf5PR9\n",
       "Seoz+YC1QWf///vdMnIz1EV9o69a3KBEJHaLXXjPgLaCUIS01gaODTqioD42dDkp/X3bIkQkrT1Z\n",
       "+9SoZ9cUPq+I79Rfw7MTcHFiw8q1Z0pE3FvYtOy4Z3eWjCPny88NOiE7wtMnax9q1p5pEcm4WNO6\n",
       "j74cYOjFLiEo0qDTZ9ePz2joqtEhKSIpzED6FsSzM+cT2fxcG8AadPKP+M1pt0LV5J0UEQdTJM5P\n",
       "x1XF7ZBy6b2h+WDGE2vQKTjiP50Eyqq1VVJE3FmoRHUlUOfvmgy0GRkVZ7ugk7qk6Ke4OV4VKWNc\n",
       "6h614gtB87YtIAh9WBFNP+XN8aJIGRdL8bUIcF8b2PFc/jazA/uL5I6XNjeTIuLKxhcJKpVX9rWB\n",
       "3RoLMgS7X7KXa06phX6MDykiLrYq3d305LvawCHNy8+Q9lxl+SsjGWX1z/GhRESVzb5caqX6wb42\n",
       "kE46UwYmdqa53Op9x/hz/SFFREMN/5eF4Vf4KsiZsuPPuKozjzMuixoF7Sakyl+PeRBKqlWjKYJ2\n",
       "VSyvsDtFr9vV951aD06ILWyJz/pOZSLDCVUqL76wALmyuQnCr7D00yP4J/Fhf1pDvmAgz5ER7kcu\n",
       "qwRFJQiLZX1CiyOLoc3x1SppcIijsZ2cf32bvCb9SDqM8KV89YFuqBIhqDf8EPoh/Eg6jCg9PRf2\n",
       "+/js6tPW5tLP6kdKeK58tfLrCsR2SZfAUzA5mKN9lRcb1I3y+vc/a+J9RpIM3WkfCT+S9F43ysc8\n",
       "fhcefWjI4Ogighiy/EhWFFqYSH7VwphVRMxRfYh7pmKk+iI+UZ+X0ahD1N4sDrAv4mMQNpa8kfr8\n",
       "yCfaXBOXYeBnPkAWWvTQ/srntWYLq7/Vg/2hDyCq+ouRQ/dDY6jNQOYH4PkHrWVWdXU8/L8AAAAA\n",
       "SUVORK5CYII=\n",
       "\" style=\"display:inline;vertical-align:middle;\" /></a></span><br>"
      ],
      "text/plain": [
       "sum_integrate_ineq_NC_inst: {e in {2 .. 2^{t - 1} - 2}} |- (Sum_{l=e}^{2^{t - 1} - 1} (1 / l^{2})) <= (Integrate_{e - 1}^{2^{t - 1} - 1} (1 / l^{2})\\,dl)"
      ]
     },
     "execution_count": 97,
     "metadata": {},
     "output_type": "execute_result"
    }
   ],
   "source": [
    "# instantiate our summation-integral bounding theorem\n",
    "from proveit import S\n",
    "_S_sub, _f_sub, _a_sub, _b_sub, _x_sub = (\n",
    "    RealPos, summand_in_mon_dec_funcs.element,\n",
    "    bound11.rhs.operands[1].domain.lower_bound,\n",
    "    bound11.rhs.operands[1].domain.upper_bound,\n",
    "    l)\n",
    "sum_integrate_ineq_NC_inst = sum_integrate_ineq_NC.instantiate(\n",
    "    {S: _S_sub, f: _f_sub, a: _a_sub, b: _b_sub, x: _x_sub})"
   ]
  },
  {
   "cell_type": "code",
   "execution_count": 98,
   "metadata": {},
   "outputs": [
    {
     "data": {
      "text/html": [
       "<span style=\"font-size:20px;\"> <a class=\"ProveItLink\" href=\"../../../__pv_it/_proof__fail_ineq/57e8d6bc82aec5ff6d7805d84a80ec5125a4dc400/proof.ipynb\" style=\"text-decoration: none\">&nbsp;&#x22A2;&nbsp;&nbsp;</a><a class=\"ProveItLink\" href=\"../../../__pv_it/_proof__fail_ineq/9c0a0014b992f8fa1d65c1e94b8475265e2120160/expr.ipynb\"><img src=\"data:image/png;base64,iVBORw0KGgoAAAANSUhEUgAAADMAAAAqBAMAAADsVn5KAAAAMFBMVEX///+qqqq6urpERESYmJgQ\n",
       "EBDc3Nx2dnaIiIgyMjJmZmZUVFTu7u4iIiLMzMwAAAAz/ewvAAAAAXRSTlMAQObYZgAAAAlwSFlz\n",
       "AAAOxAAADsQBlSsOGwAAAPdJREFUOMtjYGB4e4ABO+DZNR+XFAND/6gUEqhPwCWzO362AwMJoLwL\n",
       "l1GcAjzXcEj5MjAUI/NPIqy0ZmCQR3Y3T20DjPmLgeG9AIo5vTVQRSApNGf7rgFTbN+BUg1o9ksu\n",
       "g0sVMPwHgQ9wOc09IAOBUvrouhg0baDOkBdAN3AbmDJmYPBHC3TfZRDalYFhJQNWxzPwCvDEoaTj\n",
       "XrjNPMu7HwCprJV2EP5Z9LhhM2CoV8AeyNwJDKwB2KVY/zBwf8Oh6wID9z+csc37AacURiAjwG2c\n",
       "MlwGOKW8ccowFjCk4ZB6zsDQg12G7daqVRdweAoY/xOwygAAAOBNEgg5l/kAAAAASUVORK5CYII=\n",
       "\" style=\"display:inline;vertical-align:middle;\" /></a></span>"
      ],
      "text/plain": [
       "|- (1 / 2) > 0"
      ]
     },
     "execution_count": 98,
     "metadata": {},
     "output_type": "execute_result"
    }
   ],
   "source": [
    "# Needed later for the deduce_bound on the rhs of bound 11\n",
    "one_greater_zero.divide_both_sides(two)"
   ]
  },
  {
   "cell_type": "code",
   "execution_count": 99,
   "metadata": {},
   "outputs": [
    {
     "data": {
      "text/html": [
       "<span style=\"font-size:20px;\"><a class=\"ProveItLink\" href=\"../../../__pv_it/theorems/f67ffeb951aaff9cc5f02f3801926b572b231a930/expr.ipynb\"><img src=\"data:image/png;base64,iVBORw0KGgoAAAANSUhEUgAAAKwAAAAYBAMAAACVRAuIAAAAMFBMVEX///8QEBAyMjKqqqpUVFRE\n",
       "RESYmJjc3NzMzMwiIiK6urpmZmaIiIh2dnbu7u4AAAAMEBwRAAAAAXRSTlMAQObYZgAAAAlwSFlz\n",
       "AAAOxAAADsQBlSsOGwAAAe1JREFUSMdjYCAZMBVAGXxJDFQE72GMnpPUNNYIzrIkTSPfKjyStZNu\n",
       "4De2uACHzkPr8FmqTMC1HK4PsIoz/2NgYN+t2oApU70pgoHhH25jIbpYHbAayzuBgaGUgfcXhgR7\n",
       "AMP9BVwCDByhQBCOxViILpB+HMa6MzAIYkiwFDAwCvA4vMDpWoguVGN5ImdOghsr/4DBHyPoGf8x\n",
       "sHznPnAPp7EQXSjGcuk8QHKtJwODP0bgskxgYPnBsQ0mXqt/B00BRBfYWL47p8HmFT1ADgQgmI8t\n",
       "gDg/EEic86H6VzZwXADx1eEy3ArgdPIHm67+A/hNBeniEQDG7jcGngUgAQW4VGEC2F1Yk8kUAo4F\n",
       "6WL/DExkf87cAlsjOXPmzKkgVokWWMFWbLq4A7DkSc2ZINCA0PVEmYEf6ig+uAaOraBQZsPq2BQC\n",
       "joXourSAgR8WWIhUAc4ltgzsmHmb+QJDOV5jwbpAuZQTGF8GIJEzKNkBGI08mFm7l4HhHN4IA+vi\n",
       "BUYZmwLDa7CzmAyQja3cvXsnpHQFRiXfJ2jmnb179wR8xkJ0gRPY2TRIMPC5rkMydv7//xCzODcA\n",
       "idnQaP7//78C3kQL1oWaebmuImVeSgCeooYGxoJyCSWAG3tAgXIJJeBhAnbxamdKTK0F6gYAv0eE\n",
       "w3ELTC0AAAAASUVORK5CYII=\n",
       "\" style=\"display:inline;vertical-align:middle;\" /></a>, <a class=\"ProveItLink\" href=\"../../../__pv_it/_proof__fail_ineq/bfee5e14175444a0b07799b9ca09b69057065ed10/expr.ipynb\"><img src=\"data:image/png;base64,iVBORw0KGgoAAAANSUhEUgAAAK8AAAAaBAMAAAAzuxGAAAAAMFBMVEX///+qqqq6urru7u4QEBBE\n",
       "RERUVFTc3NyIiIgyMjJmZmaYmJjMzMwiIiJ2dnYAAACPW0xlAAAAAXRSTlMAQObYZgAAAAlwSFlz\n",
       "AAAOxAAADsQBlSsOGwAAAa1JREFUSMdjYCALcBZAGcw7ideUe7eAoBp7GONELzbp3rsCWEQnEGG5\n",
       "JJwli1WeewN5BtfdfEMbgxkmEuHit3+IMvisAZRRtTKGgeEzHoNBKkEGc38gwmDmrPlQg9kDGN4r\n",
       "MDkw8IQCQTimwRCVIIO5JhDl4n6owWwFDCwOHAk2uF3cDzWYtwHCb717dwIRBrN8ZmD7ztXwmLDB\n",
       "9QfAXM1mIl18gYHtD8/qA7D0Mf8FLoP3Q4JuMkpQ2HUsxmEwEPB+wJtiYAanouZRsMFMdxjO4Tb4\n",
       "fANRBntADEaJvPoNDE24Db7GQIzBPN/BvCN3gSAAZnB8R58CkGUJErx7B81grgBMw9BVAg3mcADz\n",
       "TFFc/A135DEwbGMgysWsCWAdvCgG/8BjMOMDhnJiDObf8ADE42hANvgeUD8W5WCzgbHaTJTByg1o\n",
       "xQrQ4J0MzMvRlL8vYGD+CUqXt1atuoDXYKBKkMHc6yBcsyADhMEcr3egqU7zn7aB4S5QCe/////x\n",
       "ln9glcjFpl4s3iwNDl4DYmshEstjPgYaGWxBK4MbaGUwwyA1eC4R7QoCoPfKBgBXxZXa0Av/aAAA\n",
       "AABJRU5ErkJggg==\n",
       "\" style=\"display:inline;vertical-align:middle;\" /></a> <a class=\"ProveItLink\" href=\"../../../__pv_it/_proof__fail_ineq/8580cf2a62efbfe8465b6ba31ce0d8dbcaea92c60/proof.ipynb\" style=\"text-decoration: none\">&nbsp;&#x22A2;&nbsp;&nbsp;</a><a class=\"ProveItLink\" href=\"../../../__pv_it/_proof__fail_ineq/bda3b278a53a950d4339a5ea556f8fb19dc3d0540/expr.ipynb\"><img src=\"data:image/png;base64,iVBORw0KGgoAAAANSUhEUgAAADgAAAAUBAMAAAAqxuNgAAAAMFBMVEX///+qqqq6urru7u4QEBBE\n",
       "RERUVFTc3NyIiIgyMjJmZmaYmJjMzMwiIiJ2dnYAAACPW0xlAAAAAXRSTlMAQObYZgAAAAlwSFlz\n",
       "AAAOxAAADsQBlSsOGwAAAPRJREFUKM9jYGBgYH6XZsCAC3AxcF3AKcmvwP4HpyS3AR5JBgY+VGO5\n",
       "p4T+vBINYr0F6jqL5iBW9gSm7GCQsg8M7MEM6JIPGAKOgdw6gaGKoRxTcjknkMHbwB5zZjFEsPXu\n",
       "3QlwSVYgo/4Ay///H8Byms1IOpPNgIz9cMPYJyMZyxM4HchIhUtyFiAkPe/fAPnAAyGJ5KDXm0GW\n",
       "83yHCx25CwQBUGODdwNpDge4pCmyV06xAo1lTYCHDi+yJNdxoBn8Gx7AhDgakCSZA7qBkspwIYaJ\n",
       "CMkFDLtZFRi41yFCzSzIABYrXwtYIz+ihqleLCT4oAAAsYJD2btS+eAAAAAASUVORK5CYII=\n",
       "\" style=\"display:inline;vertical-align:middle;\" /></a></span>"
      ],
      "text/plain": [
       "{e in {2 .. 2^{t - 1} - 2}, l in [e - 1,2^{t - 1} - 1]} |- l^{2} in Real"
      ]
     },
     "execution_count": 99,
     "metadata": {},
     "output_type": "execute_result"
    }
   ],
   "source": [
    "InSet(Exp(l, two), Real).prove(assumptions=defaults.assumptions + (InSet(l, sum_integrate_ineq_NC_inst.rhs.domain),))"
   ]
  },
  {
   "cell_type": "code",
   "execution_count": 100,
   "metadata": {},
   "outputs": [
    {
     "data": {
      "text/html": [
       "<span style=\"font-size:20px;\"><a class=\"ProveItLink\" href=\"../../../__pv_it/theorems/f67ffeb951aaff9cc5f02f3801926b572b231a930/expr.ipynb\"><img src=\"data:image/png;base64,iVBORw0KGgoAAAANSUhEUgAAAKwAAAAYBAMAAACVRAuIAAAAMFBMVEX///8QEBAyMjKqqqpUVFRE\n",
       "RESYmJjc3NzMzMwiIiK6urpmZmaIiIh2dnbu7u4AAAAMEBwRAAAAAXRSTlMAQObYZgAAAAlwSFlz\n",
       "AAAOxAAADsQBlSsOGwAAAe1JREFUSMdjYCAZMBVAGXxJDFQE72GMnpPUNNYIzrIkTSPfKjyStZNu\n",
       "4De2uACHzkPr8FmqTMC1HK4PsIoz/2NgYN+t2oApU70pgoHhH25jIbpYHbAayzuBgaGUgfcXhgR7\n",
       "AMP9BVwCDByhQBCOxViILpB+HMa6MzAIYkiwFDAwCvA4vMDpWoguVGN5ImdOghsr/4DBHyPoGf8x\n",
       "sHznPnAPp7EQXSjGcuk8QHKtJwODP0bgskxgYPnBsQ0mXqt/B00BRBfYWL47p8HmFT1ADgQgmI8t\n",
       "gDg/EEic86H6VzZwXADx1eEy3ArgdPIHm67+A/hNBeniEQDG7jcGngUgAQW4VGEC2F1Yk8kUAo4F\n",
       "6WL/DExkf87cAlsjOXPmzKkgVokWWMFWbLq4A7DkSc2ZINCA0PVEmYEf6ig+uAaOraBQZsPq2BQC\n",
       "joXourSAgR8WWIhUAc4ltgzsmHmb+QJDOV5jwbpAuZQTGF8GIJEzKNkBGI08mFm7l4HhHN4IA+vi\n",
       "BUYZmwLDa7CzmAyQja3cvXsnpHQFRiXfJ2jmnb179wR8xkJ0gRPY2TRIMPC5rkMydv7//xCzODcA\n",
       "idnQaP7//78C3kQL1oWaebmuImVeSgCeooYGxoJyCSWAG3tAgXIJJeBhAnbxamdKTK0F6gYAv0eE\n",
       "w3ELTC0AAAAASUVORK5CYII=\n",
       "\" style=\"display:inline;vertical-align:middle;\" /></a>, <a class=\"ProveItLink\" href=\"../../../__pv_it/_proof__fail_ineq/bfee5e14175444a0b07799b9ca09b69057065ed10/expr.ipynb\"><img src=\"data:image/png;base64,iVBORw0KGgoAAAANSUhEUgAAAK8AAAAaBAMAAAAzuxGAAAAAMFBMVEX///+qqqq6urru7u4QEBBE\n",
       "RERUVFTc3NyIiIgyMjJmZmaYmJjMzMwiIiJ2dnYAAACPW0xlAAAAAXRSTlMAQObYZgAAAAlwSFlz\n",
       "AAAOxAAADsQBlSsOGwAAAa1JREFUSMdjYCALcBZAGcw7ideUe7eAoBp7GONELzbp3rsCWEQnEGG5\n",
       "JJwli1WeewN5BtfdfEMbgxkmEuHit3+IMvisAZRRtTKGgeEzHoNBKkEGc38gwmDmrPlQg9kDGN4r\n",
       "MDkw8IQCQTimwRCVIIO5JhDl4n6owWwFDCwOHAk2uF3cDzWYtwHCb717dwIRBrN8ZmD7ztXwmLDB\n",
       "9QfAXM1mIl18gYHtD8/qA7D0Mf8FLoP3Q4JuMkpQ2HUsxmEwEPB+wJtiYAanouZRsMFMdxjO4Tb4\n",
       "fANRBntADEaJvPoNDE24Db7GQIzBPN/BvCN3gSAAZnB8R58CkGUJErx7B81grgBMw9BVAg3mcADz\n",
       "TFFc/A135DEwbGMgysWsCWAdvCgG/8BjMOMDhnJiDObf8ADE42hANvgeUD8W5WCzgbHaTJTByg1o\n",
       "xQrQ4J0MzMvRlL8vYGD+CUqXt1atuoDXYKBKkMHc6yBcsyADhMEcr3egqU7zn7aB4S5QCe/////x\n",
       "ln9glcjFpl4s3iwNDl4DYmshEstjPgYaGWxBK4MbaGUwwyA1eC4R7QoCoPfKBgBXxZXa0Av/aAAA\n",
       "AABJRU5ErkJggg==\n",
       "\" style=\"display:inline;vertical-align:middle;\" /></a> <a class=\"ProveItLink\" href=\"../../../__pv_it/_proof__fail_ineq/a9b1ab4ed8c9d8baee0846334636fbc74d8d24fa0/proof.ipynb\" style=\"text-decoration: none\">&nbsp;&#x22A2;&nbsp;&nbsp;</a><a class=\"ProveItLink\" href=\"../../../__pv_it/_proof__fail_ineq/a3ac090695125bf1c46f7ecfccd0021eb433d00c0/expr.ipynb\"><img src=\"data:image/png;base64,iVBORw0KGgoAAAANSUhEUgAAAF0AAAAVBAMAAADWVP/xAAAAMFBMVEX////MzMxUVFRERES6uroi\n",
       "IiIQEBCYmJhmZmYyMjLu7u52dnaqqqqIiIjc3NwAAACW8nlqAAAAAXRSTlMAQObYZgAAAAlwSFlz\n",
       "AAAOxAAADsQBlSsOGwAAAUFJREFUKM9jYGB4wIAd4BDnPYBDvS924dPYBBmjgAYVoItyxwswcE3A\n",
       "onxR5y8gOQshwDMPTNUzMHAUYHUkSH0FnMsesQBMdzIwsDHgVM+2AMaLhrJiGRhO4lbPCbV6dSxU\n",
       "lO8jA0M3kObae2MBFvXcCmD2inC4sz4wMEwH0q4CjBuwqGcHB8WiOXBRJgMGhhigNd8ZeB2wqOdJ\n",
       "ACtCqGe7wMCQwsDA/PfuFpCrpoaCgABcPeMHsKoXcPfIPwCr51fA7l+WBDT/XmMAu4f/Anb1PAFo\n",
       "4WnExcBgy8DACvTsAWz+NUCLr+/cDAybwOGwAi0xcv8DEhyIQOOZCCK/rGVgEAXSt8vRXMSk9lMd\n",
       "aC9aoDFUAA1gFWDABZ5iE2RvwKm+HauoHS7lfBDvLgXHSiBceDEu9czYMyTfBRzq72ETBAAmWE3m\n",
       "hhOjIgAAAABJRU5ErkJggg==\n",
       "\" style=\"display:inline;vertical-align:middle;\" /></a></span>"
      ],
      "text/plain": [
       "{e in {2 .. 2^{t - 1} - 2}, l in [e - 1,2^{t - 1} - 1]} |- (e - 1) <= l"
      ]
     },
     "execution_count": 100,
     "metadata": {},
     "output_type": "execute_result"
    }
   ],
   "source": [
    "InSet(l, sum_integrate_ineq_NC_inst.rhs.domain).derive_element_lower_bound(\n",
    "    assumptions=defaults.assumptions + (InSet(l, sum_integrate_ineq_NC_inst.rhs.domain),))"
   ]
  },
  {
   "cell_type": "code",
   "execution_count": 101,
   "metadata": {},
   "outputs": [
    {
     "data": {
      "text/html": [
       "<strong id=\"e_greater_eq_two\">e_greater_eq_two:</strong> <span style=\"font-size:20px;\"><a class=\"ProveItLink\" href=\"../../../__pv_it/theorems/f67ffeb951aaff9cc5f02f3801926b572b231a930/expr.ipynb\"><img src=\"data:image/png;base64,iVBORw0KGgoAAAANSUhEUgAAAKwAAAAYBAMAAACVRAuIAAAAMFBMVEX///8QEBAyMjKqqqpUVFRE\n",
       "RESYmJjc3NzMzMwiIiK6urpmZmaIiIh2dnbu7u4AAAAMEBwRAAAAAXRSTlMAQObYZgAAAAlwSFlz\n",
       "AAAOxAAADsQBlSsOGwAAAe1JREFUSMdjYCAZMBVAGXxJDFQE72GMnpPUNNYIzrIkTSPfKjyStZNu\n",
       "4De2uACHzkPr8FmqTMC1HK4PsIoz/2NgYN+t2oApU70pgoHhH25jIbpYHbAayzuBgaGUgfcXhgR7\n",
       "AMP9BVwCDByhQBCOxViILpB+HMa6MzAIYkiwFDAwCvA4vMDpWoguVGN5ImdOghsr/4DBHyPoGf8x\n",
       "sHznPnAPp7EQXSjGcuk8QHKtJwODP0bgskxgYPnBsQ0mXqt/B00BRBfYWL47p8HmFT1ADgQgmI8t\n",
       "gDg/EEic86H6VzZwXADx1eEy3ArgdPIHm67+A/hNBeniEQDG7jcGngUgAQW4VGEC2F1Yk8kUAo4F\n",
       "6WL/DExkf87cAlsjOXPmzKkgVokWWMFWbLq4A7DkSc2ZINCA0PVEmYEf6ig+uAaOraBQZsPq2BQC\n",
       "joXourSAgR8WWIhUAc4ltgzsmHmb+QJDOV5jwbpAuZQTGF8GIJEzKNkBGI08mFm7l4HhHN4IA+vi\n",
       "BUYZmwLDa7CzmAyQja3cvXsnpHQFRiXfJ2jmnb179wR8xkJ0gRPY2TRIMPC5rkMydv7//xCzODcA\n",
       "idnQaP7//78C3kQL1oWaebmuImVeSgCeooYGxoJyCSWAG3tAgXIJJeBhAnbxamdKTK0F6gYAv0eE\n",
       "w3ELTC0AAAAASUVORK5CYII=\n",
       "\" style=\"display:inline;vertical-align:middle;\" /></a> <a class=\"ProveItLink\" href=\"../../../__pv_it/_proof__fail_ineq/ac80d24be5eca9efffc74b104d8c1719cbafa22a0/proof.ipynb\" style=\"text-decoration: none\">&nbsp;&#x22A2;&nbsp;&nbsp;</a><a class=\"ProveItLink\" href=\"../../../__pv_it/_proof__fail_ineq/0d1fab809e81439b3a179eefcb3e1add24fd905b0/expr.ipynb\"><img src=\"data:image/png;base64,iVBORw0KGgoAAAANSUhEUgAAAC4AAAARBAMAAABQu4N8AAAAMFBMVEX///+qqqqYmJiIiIgiIiLu\n",
       "7u4QEBBUVFS6urp2dnbMzMxEREQyMjJmZmbc3NwAAADzFso2AAAAAXRSTlMAQObYZgAAAAlwSFlz\n",
       "AAAOxAAADsQBlSsOGwAAAKlJREFUGNNj4Lt7egEDFvCagfMHnMN4Ds6sY2BIg7GZfAPg4vkBDPUP\n",
       "IExmT4QwQwkDQz3EgkhnNCv8wWSsE1wg0vgqkOT6DGKHH4QLc3gxrARSLAUgDjtC/L0CgwWQug3h\n",
       "vYWbs9/YsgHouAKYqTB7v4NJSQY+NHeC7eOawMAcgOovT6DHGZ7cvXsFEQ6nQKQOA+s9Bv////+g\n",
       "+Yd5kjID2SDEBQS8YFwAT/UoxS5bNZIAAAAASUVORK5CYII=\n",
       "\" style=\"display:inline;vertical-align:middle;\" /></a></span><br>"
      ],
      "text/plain": [
       "e_greater_eq_two: {e in {2 .. 2^{t - 1} - 2}} |- 2 <= e"
      ]
     },
     "execution_count": 101,
     "metadata": {},
     "output_type": "execute_result"
    }
   ],
   "source": [
    "e_greater_eq_two = e_conditions.derive_element_lower_bound()"
   ]
  },
  {
   "cell_type": "code",
   "execution_count": 102,
   "metadata": {},
   "outputs": [
    {
     "data": {
      "text/html": [
       "<span style=\"font-size:20px;\"><a class=\"ProveItLink\" href=\"../../../__pv_it/theorems/f67ffeb951aaff9cc5f02f3801926b572b231a930/expr.ipynb\"><img src=\"data:image/png;base64,iVBORw0KGgoAAAANSUhEUgAAAKwAAAAYBAMAAACVRAuIAAAAMFBMVEX///8QEBAyMjKqqqpUVFRE\n",
       "RESYmJjc3NzMzMwiIiK6urpmZmaIiIh2dnbu7u4AAAAMEBwRAAAAAXRSTlMAQObYZgAAAAlwSFlz\n",
       "AAAOxAAADsQBlSsOGwAAAe1JREFUSMdjYCAZMBVAGXxJDFQE72GMnpPUNNYIzrIkTSPfKjyStZNu\n",
       "4De2uACHzkPr8FmqTMC1HK4PsIoz/2NgYN+t2oApU70pgoHhH25jIbpYHbAayzuBgaGUgfcXhgR7\n",
       "AMP9BVwCDByhQBCOxViILpB+HMa6MzAIYkiwFDAwCvA4vMDpWoguVGN5ImdOghsr/4DBHyPoGf8x\n",
       "sHznPnAPp7EQXSjGcuk8QHKtJwODP0bgskxgYPnBsQ0mXqt/B00BRBfYWL47p8HmFT1ADgQgmI8t\n",
       "gDg/EEic86H6VzZwXADx1eEy3ArgdPIHm67+A/hNBeniEQDG7jcGngUgAQW4VGEC2F1Yk8kUAo4F\n",
       "6WL/DExkf87cAlsjOXPmzKkgVokWWMFWbLq4A7DkSc2ZINCA0PVEmYEf6ig+uAaOraBQZsPq2BQC\n",
       "joXourSAgR8WWIhUAc4ltgzsmHmb+QJDOV5jwbpAuZQTGF8GIJEzKNkBGI08mFm7l4HhHN4IA+vi\n",
       "BUYZmwLDa7CzmAyQja3cvXsnpHQFRiXfJ2jmnb179wR8xkJ0gRPY2TRIMPC5rkMydv7//xCzODcA\n",
       "idnQaP7//78C3kQL1oWaebmuImVeSgCeooYGxoJyCSWAG3tAgXIJJeBhAnbxamdKTK0F6gYAv0eE\n",
       "w3ELTC0AAAAASUVORK5CYII=\n",
       "\" style=\"display:inline;vertical-align:middle;\" /></a> <a class=\"ProveItLink\" href=\"../../../__pv_it/_proof__fail_ineq/a120376ab5b4b9386f27ecbf2ec94b98e31669580/proof.ipynb\" style=\"text-decoration: none\">&nbsp;&#x22A2;&nbsp;&nbsp;</a><a class=\"ProveItLink\" href=\"../../../__pv_it/_proof__fail_ineq/2bd49dee018301fb3f966b488f27611b3c239c200/expr.ipynb\"><img src=\"data:image/png;base64,iVBORw0KGgoAAAANSUhEUgAAAGAAAAAVBAMAAABLWfZ5AAAAMFBMVEX///9ERES6urqqqqqYmJgQ\n",
       "EBDc3Nx2dnaIiIgyMjJmZmZUVFTu7u4iIiLMzMwAAAD4QZJGAAAAAXRSTlMAQObYZgAAAAlwSFlz\n",
       "AAAOxAAADsQBlSsOGwAAASNJREFUOMtjYMAG2BgYSBJnaMYhztQAJPjuYIgzF2BT/fYAA0MLA8Pp\n",
       "lX+QVE4DUyexKOfZNR+ogROIORAaWG4dANNLsLqnHyjJsgBZA8d1iHqGAJwaGGKQNBy/AXPYBNwa\n",
       "piA0nLoCk+EC+fl4xxpsGqrhGk5PhstwOgAD8B7Dc2waPOEauBEaeA0YGPIdGJqwaTBFOCkL7iRW\n",
       "BQYG+Y52BVAA3wWBewgN77F5GqThNw5Pq2ILVpCTfuDQYIst4hiBKeY6MHSxaXBkYGD/hpQ05oFI\n",
       "9g2g0OBZhqahPgFILGfg3vpzC5oM3wWgvSUeaKK742cDg/sS1ji9hyvZM7BdwCrshVMDlwOceRYp\n",
       "xBkTcGlIxC7MI4BLgxgO8Qwc4hwJDACAiV2Wr2DD+QAAAABJRU5ErkJggg==\n",
       "\" style=\"display:inline;vertical-align:middle;\" /></a></span>"
      ],
      "text/plain": [
       "{e in {2 .. 2^{t - 1} - 2}} |- 1 <= (e - 1)"
      ]
     },
     "execution_count": 102,
     "metadata": {},
     "output_type": "execute_result"
    }
   ],
   "source": [
    "e_greater_eq_two.right_add_both_sides(Neg(one))"
   ]
  },
  {
   "cell_type": "code",
   "execution_count": 103,
   "metadata": {},
   "outputs": [
    {
     "data": {
      "text/html": [
       "<span style=\"font-size:20px;\"><a class=\"ProveItLink\" href=\"../../../__pv_it/theorems/f67ffeb951aaff9cc5f02f3801926b572b231a930/expr.ipynb\"><img src=\"data:image/png;base64,iVBORw0KGgoAAAANSUhEUgAAAKwAAAAYBAMAAACVRAuIAAAAMFBMVEX///8QEBAyMjKqqqpUVFRE\n",
       "RESYmJjc3NzMzMwiIiK6urpmZmaIiIh2dnbu7u4AAAAMEBwRAAAAAXRSTlMAQObYZgAAAAlwSFlz\n",
       "AAAOxAAADsQBlSsOGwAAAe1JREFUSMdjYCAZMBVAGXxJDFQE72GMnpPUNNYIzrIkTSPfKjyStZNu\n",
       "4De2uACHzkPr8FmqTMC1HK4PsIoz/2NgYN+t2oApU70pgoHhH25jIbpYHbAayzuBgaGUgfcXhgR7\n",
       "AMP9BVwCDByhQBCOxViILpB+HMa6MzAIYkiwFDAwCvA4vMDpWoguVGN5ImdOghsr/4DBHyPoGf8x\n",
       "sHznPnAPp7EQXSjGcuk8QHKtJwODP0bgskxgYPnBsQ0mXqt/B00BRBfYWL47p8HmFT1ADgQgmI8t\n",
       "gDg/EEic86H6VzZwXADx1eEy3ArgdPIHm67+A/hNBeniEQDG7jcGngUgAQW4VGEC2F1Yk8kUAo4F\n",
       "6WL/DExkf87cAlsjOXPmzKkgVokWWMFWbLq4A7DkSc2ZINCA0PVEmYEf6ig+uAaOraBQZsPq2BQC\n",
       "joXourSAgR8WWIhUAc4ltgzsmHmb+QJDOV5jwbpAuZQTGF8GIJEzKNkBGI08mFm7l4HhHN4IA+vi\n",
       "BUYZmwLDa7CzmAyQja3cvXsnpHQFRiXfJ2jmnb179wR8xkJ0gRPY2TRIMPC5rkMydv7//xCzODcA\n",
       "idnQaP7//78C3kQL1oWaebmuImVeSgCeooYGxoJyCSWAG3tAgXIJJeBhAnbxamdKTK0F6gYAv0eE\n",
       "w3ELTC0AAAAASUVORK5CYII=\n",
       "\" style=\"display:inline;vertical-align:middle;\" /></a>, <a class=\"ProveItLink\" href=\"../../../__pv_it/_proof__fail_ineq/bfee5e14175444a0b07799b9ca09b69057065ed10/expr.ipynb\"><img src=\"data:image/png;base64,iVBORw0KGgoAAAANSUhEUgAAAK8AAAAaBAMAAAAzuxGAAAAAMFBMVEX///+qqqq6urru7u4QEBBE\n",
       "RERUVFTc3NyIiIgyMjJmZmaYmJjMzMwiIiJ2dnYAAACPW0xlAAAAAXRSTlMAQObYZgAAAAlwSFlz\n",
       "AAAOxAAADsQBlSsOGwAAAa1JREFUSMdjYCALcBZAGcw7ideUe7eAoBp7GONELzbp3rsCWEQnEGG5\n",
       "JJwli1WeewN5BtfdfEMbgxkmEuHit3+IMvisAZRRtTKGgeEzHoNBKkEGc38gwmDmrPlQg9kDGN4r\n",
       "MDkw8IQCQTimwRCVIIO5JhDl4n6owWwFDCwOHAk2uF3cDzWYtwHCb717dwIRBrN8ZmD7ztXwmLDB\n",
       "9QfAXM1mIl18gYHtD8/qA7D0Mf8FLoP3Q4JuMkpQ2HUsxmEwEPB+wJtiYAanouZRsMFMdxjO4Tb4\n",
       "fANRBntADEaJvPoNDE24Db7GQIzBPN/BvCN3gSAAZnB8R58CkGUJErx7B81grgBMw9BVAg3mcADz\n",
       "TFFc/A135DEwbGMgysWsCWAdvCgG/8BjMOMDhnJiDObf8ADE42hANvgeUD8W5WCzgbHaTJTByg1o\n",
       "xQrQ4J0MzMvRlL8vYGD+CUqXt1atuoDXYKBKkMHc6yBcsyADhMEcr3egqU7zn7aB4S5QCe/////x\n",
       "ln9glcjFpl4s3iwNDl4DYmshEstjPgYaGWxBK4MbaGUwwyA1eC4R7QoCoPfKBgBXxZXa0Av/aAAA\n",
       "AABJRU5ErkJggg==\n",
       "\" style=\"display:inline;vertical-align:middle;\" /></a> <a class=\"ProveItLink\" href=\"../../../__pv_it/_proof__fail_ineq/56e4df68b12848ae73836e8e4f0c5c8e98d607cf0/proof.ipynb\" style=\"text-decoration: none\">&nbsp;&#x22A2;&nbsp;&nbsp;</a><a class=\"ProveItLink\" href=\"../../../__pv_it/_proof__fail_ineq/298b80384381df3c358bdae8e7cca0b2e0d698470/expr.ipynb\"><img src=\"data:image/png;base64,iVBORw0KGgoAAAANSUhEUgAAAC0AAAAQBAMAAABw0OvaAAAAMFBMVEX///+qqqq6urru7u4QEBBE\n",
       "RERUVFTc3NyIiIgyMjJmZmaYmJjMzMwiIiJ2dnYAAACPW0xlAAAAAXRSTlMAQObYZgAAAAlwSFlz\n",
       "AAAOxAAADsQBlSsOGwAAALhJREFUGNNjYHj7hwENvOsqAJLcH9CEOQWYrwMprglo4nsZGJ4CKd4G\n",
       "EMdyA1w8jIFB3oCBof4AiMP8tgEm/ouB4bwAA8N+KLf3MYRmBokDdafCzV0Mptj/AcWBmj3gBksu\n",
       "h4s/YOD5jnCJZjLIHKC4fgMDhwOSeDDUXnkBBtYEA7g56WAqFOgWAwb+DQ9g9i6H0FsYGFYyMPAr\n",
       "N6C6k4FXgNkHGDzrIK7uhfuLeV3bAbiVthsYiAIAqnQuP/gtgggAAAAASUVORK5CYII=\n",
       "\" style=\"display:inline;vertical-align:middle;\" /></a></span>"
      ],
      "text/plain": [
       "{e in {2 .. 2^{t - 1} - 2}, l in [e - 1,2^{t - 1} - 1]} |- l > 0"
      ]
     },
     "execution_count": 103,
     "metadata": {},
     "output_type": "execute_result"
    }
   ],
   "source": [
    "# for the deduce_in_number_set for the integral in the next cell,\n",
    "# we need to explicitly establish that ell ≠ 0\n",
    "greater(l, zero).prove(assumptions=defaults.assumptions + (InSet(l, sum_integrate_ineq_NC_inst.rhs.domain),))"
   ]
  },
  {
   "cell_type": "code",
   "execution_count": 104,
   "metadata": {},
   "outputs": [
    {
     "data": {
      "text/html": [
       "<span style=\"font-size:20px;\"><a class=\"ProveItLink\" href=\"../../../__pv_it/theorems/f67ffeb951aaff9cc5f02f3801926b572b231a930/expr.ipynb\"><img src=\"data:image/png;base64,iVBORw0KGgoAAAANSUhEUgAAAKwAAAAYBAMAAACVRAuIAAAAMFBMVEX///8QEBAyMjKqqqpUVFRE\n",
       "RESYmJjc3NzMzMwiIiK6urpmZmaIiIh2dnbu7u4AAAAMEBwRAAAAAXRSTlMAQObYZgAAAAlwSFlz\n",
       "AAAOxAAADsQBlSsOGwAAAe1JREFUSMdjYCAZMBVAGXxJDFQE72GMnpPUNNYIzrIkTSPfKjyStZNu\n",
       "4De2uACHzkPr8FmqTMC1HK4PsIoz/2NgYN+t2oApU70pgoHhH25jIbpYHbAayzuBgaGUgfcXhgR7\n",
       "AMP9BVwCDByhQBCOxViILpB+HMa6MzAIYkiwFDAwCvA4vMDpWoguVGN5ImdOghsr/4DBHyPoGf8x\n",
       "sHznPnAPp7EQXSjGcuk8QHKtJwODP0bgskxgYPnBsQ0mXqt/B00BRBfYWL47p8HmFT1ADgQgmI8t\n",
       "gDg/EEic86H6VzZwXADx1eEy3ArgdPIHm67+A/hNBeniEQDG7jcGngUgAQW4VGEC2F1Yk8kUAo4F\n",
       "6WL/DExkf87cAlsjOXPmzKkgVokWWMFWbLq4A7DkSc2ZINCA0PVEmYEf6ig+uAaOraBQZsPq2BQC\n",
       "joXourSAgR8WWIhUAc4ltgzsmHmb+QJDOV5jwbpAuZQTGF8GIJEzKNkBGI08mFm7l4HhHN4IA+vi\n",
       "BUYZmwLDa7CzmAyQja3cvXsnpHQFRiXfJ2jmnb179wR8xkJ0gRPY2TRIMPC5rkMydv7//xCzODcA\n",
       "idnQaP7//78C3kQL1oWaebmuImVeSgCeooYGxoJyCSWAG3tAgXIJJeBhAnbxamdKTK0F6gYAv0eE\n",
       "w3ELTC0AAAAASUVORK5CYII=\n",
       "\" style=\"display:inline;vertical-align:middle;\" /></a> <a class=\"ProveItLink\" href=\"../../../__pv_it/_proof__fail_ineq/71ff4ed653195d17f89b057432423accace9b94a0/proof.ipynb\" style=\"text-decoration: none\">&nbsp;&#x22A2;&nbsp;&nbsp;</a><a class=\"ProveItLink\" href=\"../../../__pv_it/_proof__fail_ineq/2348269c82072ce80fd4cbd5785747592c0a9f3f0/expr.ipynb\"><img src=\"data:image/png;base64,iVBORw0KGgoAAAANSUhEUgAAAL8AAAA/BAMAAABDdATtAAAAMFBMVEX///92dnZEREQiIiKqqqpU\n",
       "VFTMzMyYmJgQEBDu7u7c3Ny6uroyMjKIiIhmZmYAAABumYecAAAAAXRSTlMAQObYZgAAAAlwSFlz\n",
       "AAAOxAAADsQBlSsOGwAABG1JREFUWMOll11oE1kUx08myWRmmi/RfWsxVhRUFisFUdi1hT4pokHo\n",
       "gw9qUJAiug2+uIqa0ofddWE1CqJitWlBER9qfPBBEBqoPghCoyJ0H5aOKC4L2lbtWpuq8U4ymbk3\n",
       "M/djmvvQzMft/Z17zj3/cwbAGO+AHJpuXgxngT8GuJMihboHoWL1V+4SAUQSvBmjuboHz1+bF34R\n",
       "AKzgvFd/x+/O/7Ab/OAEXCpQF7jcyQZEiX/V4RUMAIxMTU3lMYD8Txt1gcAZNqA3hd8twJ3UjpBz\n",
       "BwE6ALawAY+Iu+MIMHLCNHtimRBgZ461fqBU92Cp+zQGIMw8R37sbbAFmb2ZAzjgOFqBT8wQYGdg\n",
       "z2jakVz7W9HIWQB177jz7J5lAfbZl/J8T17TtRx7B5NOwDQrC75hHkLeGj74S9YzAG2cOkKY/2JI\n",
       "Is6Vy27TtOb3RTpAoWchSDOYISkRZXABREv06bGEmCuZgMAcQ+ni9vVPiwVo/9OnT+dd4+0NAH/Q\n",
       "p2OnmrVRDmA9Xdc/YqH6tGjAJFWxtQ+YaMwsGrBTp0od5vfBNiHAcpdM76XKXeQrZkZSZP3uc4+c\n",
       "eeuw7WT/+rF+Y150FjOtCB7H4bOwtBK4mMO7iRtw7yhypoQFdjzvFQCzEKos7Z93AIZAkpFLwliS\n",
       "l7Ne12+aNyt6uOQCiObQO8VGy589b8DXBv6KX6WF2qNn7e0FC5AgnBf64BkQ1lEFrwh9LZQP/rZ3\n",
       "ELySJADB9x6Xv9GCqmEGcID2GHPR/u05AuCf9RiAPw2F2FUVAVNlwlaOJG6NfTR2M2gDYiVvgMtp\n",
       "eAvwFwnAgnxsoJIhfXY2CihFrFwdM9XqsQHkqlU+M1972tFIVAHSpTQJmCx420E/qAsQ6SMAF7Ad\n",
       "yPoaErBP97S++tVIMimZxQF+PA/eDJM53pH2BpiFYGFbLB3HYxApYoALkTQBKKcEV17SXbH6R+jS\n",
       "9dj9Ig6AhxZgBELpdThALguaHoVoRTsvPj20JxV6SeQBXFyXranpWmgd7wTFAgS+CIlDRyqW1xyl\n",
       "zwLA3ZXtxGGxZdAnlsgZCGWdAIlabe03tl4xx9uqxtW36NQkjVrLKvNCgJ9dG3iFmqSROW8V2fCO\n",
       "tsaZ4X3U3tfy/KhQRTYK2Ajcrn98h2pdk9X0ZYTyDHX42uqD/zkaUKp1qnU4p3MiAKUISlXryLNF\n",
       "7xc6ahebhGLc627GNF0FLMOJBlk9SZk+QelwGYljul4mOt8jzynTV6m8DtcRf1OkI2SqdFGmz/nc\n",
       "nsoMFVDMAxZEv+dPpXmAhWuu2cToy31mAitxUDdCkgc4HXcVnD5Gapq1aDQLweQQdwfuY5CVpE+M\n",
       "P83QjTbx71aQje/6tV4BGVatyhjntFU+gwQlxw+y+xhjbs/w6vUXaHGpE+KLAmjMj7uoFSD13ama\n",
       "Dg+Nt3jpgWc47UejY5D95TLRMOAV+7W/2OD6GqfYNpUaBAR5paq5QcCvvE8vqTEfab9xe8GNDQHC\n",
       "/Fp7syHAVdbL7/xLSylf975EAAAAAElFTkSuQmCC\n",
       "\" style=\"display:inline;vertical-align:middle;\" /></a></span>"
      ],
      "text/plain": [
       "{e in {2 .. 2^{t - 1} - 2}} |- (Integrate_{e - 1}^{2^{t - 1} - 1} (1 / l^{2})\\,dl) in Real"
      ]
     },
     "execution_count": 104,
     "metadata": {},
     "output_type": "execute_result"
    }
   ],
   "source": [
    "sum_integrate_ineq_NC_inst.rhs.deduce_in_number_set(\n",
    "    Real, assumptions=defaults.assumptions + (InSet(l, sum_integrate_ineq_NC_inst.rhs.domain),))"
   ]
  },
  {
   "cell_type": "code",
   "execution_count": 105,
   "metadata": {},
   "outputs": [
    {
     "data": {
      "text/html": [
       "<strong id=\"bound12\">bound12:</strong> <span style=\"font-size:20px;\"><a class=\"ProveItLink\" href=\"../../../__pv_it/theorems/f67ffeb951aaff9cc5f02f3801926b572b231a930/expr.ipynb\"><img src=\"data:image/png;base64,iVBORw0KGgoAAAANSUhEUgAAAKwAAAAYBAMAAACVRAuIAAAAMFBMVEX///8QEBAyMjKqqqpUVFRE\n",
       "RESYmJjc3NzMzMwiIiK6urpmZmaIiIh2dnbu7u4AAAAMEBwRAAAAAXRSTlMAQObYZgAAAAlwSFlz\n",
       "AAAOxAAADsQBlSsOGwAAAe1JREFUSMdjYCAZMBVAGXxJDFQE72GMnpPUNNYIzrIkTSPfKjyStZNu\n",
       "4De2uACHzkPr8FmqTMC1HK4PsIoz/2NgYN+t2oApU70pgoHhH25jIbpYHbAayzuBgaGUgfcXhgR7\n",
       "AMP9BVwCDByhQBCOxViILpB+HMa6MzAIYkiwFDAwCvA4vMDpWoguVGN5ImdOghsr/4DBHyPoGf8x\n",
       "sHznPnAPp7EQXSjGcuk8QHKtJwODP0bgskxgYPnBsQ0mXqt/B00BRBfYWL47p8HmFT1ADgQgmI8t\n",
       "gDg/EEic86H6VzZwXADx1eEy3ArgdPIHm67+A/hNBeniEQDG7jcGngUgAQW4VGEC2F1Yk8kUAo4F\n",
       "6WL/DExkf87cAlsjOXPmzKkgVokWWMFWbLq4A7DkSc2ZINCA0PVEmYEf6ig+uAaOraBQZsPq2BQC\n",
       "joXourSAgR8WWIhUAc4ltgzsmHmb+QJDOV5jwbpAuZQTGF8GIJEzKNkBGI08mFm7l4HhHN4IA+vi\n",
       "BUYZmwLDa7CzmAyQja3cvXsnpHQFRiXfJ2jmnb179wR8xkJ0gRPY2TRIMPC5rkMydv7//xCzODcA\n",
       "idnQaP7//78C3kQL1oWaebmuImVeSgCeooYGxoJyCSWAG3tAgXIJJeBhAnbxamdKTK0F6gYAv0eE\n",
       "w3ELTC0AAAAASUVORK5CYII=\n",
       "\" style=\"display:inline;vertical-align:middle;\" /></a> <a class=\"ProveItLink\" href=\"../../../__pv_it/_proof__fail_ineq/4de3ea9f47a05827601990104ac8ec6dbe5ec4890/proof.ipynb\" style=\"text-decoration: none\">&nbsp;&#x22A2;&nbsp;&nbsp;</a><a class=\"ProveItLink\" href=\"../../../__pv_it/_proof__fail_ineq/b698ed5ed7e4df5745b3ee0dbd38bcab9077a0030/expr.ipynb\"><img src=\"data:image/png;base64,iVBORw0KGgoAAAANSUhEUgAAAaEAAABLCAMAAADu3sigAAAANlBMVEX///+/v7+urq7c3Nx2dnZE\n",
       "RESIiIgiIiLMzMyYmJju7u4QEBCqqqpUVFRmZma6uroyMjIAAABMl2BWAAAAAXRSTlMAQObYZgAA\n",
       "AAlwSFlzAAAOxAAADsQBlSsOGwAACbFJREFUeNrtXdmW4ygMdTeYHQz//7PjJZWKQQIU48zMqeJN\n",
       "1G2DEFqB9DQ9W1wmUqPi241J0+z5wS34e/E9jft2z49tzppb8X3N6nbPD22GuBI5noXcPs3vSHBJ\n",
       "rNnzQ5uP1/BanGnl3vMgfm73/Mim0nIJL2RwGeQ9CbHkmj0/ssX4Ht5w7v0mCllAIAkZ3Rxnlu2e\n",
       "zlBGjEUPMuSgz4imSq9un6hCT/w26SC3Tx48HG1BJKSEkG3tFM2eribiYPQoQw4OP9fpKRK36RO/\n",
       "SYolNbkw6R4r59oDzbbd81bMcRE9zJDDXPMqTd2l33htDgmxoFmmLpa7tyTkCr/j3vBEtNi0hh5v\n",
       "yOEZuBrtE20znPGcoIAdEppSbPe03UochR5vyLvyyxNtEi2gPeMVRdd7JORXnWz1tLVcjULfYMjB\n",
       "JgNOa6IVOeEbAY2avxrrnf6SeLOn6Sj9MPQNhhyx7gylZ6KRe8VvIShjQ3VoSrbdQ+P2Knq0IYf3\n",
       "yYzRJmXfbNitVzyblVLBXJg+MNhcGJ2ZaObkTOAnQ78YVy7GGPK+f+8yJr9pfbIhxodY16lXvE1b\n",
       "6y4Y8Ji4aA4mCqMmaGZOvZjhNj8KMfJeLElfN+TtCTwXMyC0z9NVUf+gTyMPhoDBVBG7KVo05xON\n",
       "H0RwRtlliCEXfRIKCaFton3QpuleCU2p6EsUV2lSIPCTo5+Cm0cZ8l4JPVS2oAs31ORI3i2hWGhp\n",
       "pOitzgx6nR+N+LivrPyiISdIaLIRpF2RDdU/6NJ8t4RCUeMIlKrHnCj8zAnZ0OpWHmEzxyA6AH7Z\n",
       "VD/D75aQLjaBpmyLHFvnB/lySNPHJeQyM/egYxHK1D8Yx57XQIOpIv9RhIyoyG+r/GDZsIyflxBL\n",
       "HqJtoc71D9qB6o8MZgq7b/o9wbr7KbFpgD0cFj/cKqHJWoguw6SGVcD+GhPSBHn2qdgFqX9fFNlH\n",
       "lR8kV8kNzmcklFd3dpqVu7P6QYbuZpeyZTRsEX4NhSx59rKwpLLfttJiUyQyDSMtRbeERMblTrty\n",
       "itUPOjzY9gn6m64vLjhYLPQudgdzjBSbMiRQkCOTvm4Jucy27rQo03VeqySKSnovU4KqxKEWh4GD\n",
       "+cJ9++4I0hUepMaPg/3N2KSP9xZyVbZfdprnm8ivhil6jY82VwZIoPkO6ASRwUIh6ZB894YVBH4E\n",
       "rJsujbvr2ljQ2sbYaU+cSxUvVhFB0tDkTRebPXhwRskGEDR/7/YKqam4lUa5fPV4uZPf6JkYVtbx\n",
       "cxpiHnjxFY5/10V2noIisaPgCG+Z7m/77tDp5CdM5jfMOheahOp4s4ZuAxIJUcR/AosItcyqmpF0\n",
       "eoegU/rAm4tlH+R0RyKfzkZLYhGngV9WO3e95qCLkF7DQb6Q3BQZNWVxYbRK9gMqdJzcSnFS6SVT\n",
       "8WWdIk1CLTxf8x/zGQkZLgW0/UmGJsHjf+KyeAzTcQXi1cu7zOu7dcUFUUKiZTfS5ZKWKxau7DFB\n",
       "6v41p0nIj60OA2mY50KVbgiRkCZKqIHfXBG/XULGR0dZc5qE5M23+RfLvko856cdIVvdjU5ECbXx\n",
       "RfXnHR+aWj2YhAxJQgg63fto6bjieoQIVrQl5FpMxPPkm9srXHZFqoilyh4GWznTcvInfmC0SulW\n",
       "FTrOniTfh2K1PGyjU/p7FsCzPVU+nAF/O+K9DueWV8Bf//ankMcfIP4FI4VszRv8wBISadDhEMKj\n",
       "nfeht7BN2KktIUcctI1nV9PWHh1Com1DCpRhtB95OAQNKp4hwuwn8y9ISFh2WUK9hqfIWAdECjLp\n",
       "eyXkdkc6OTatI/GGHxoey424hNERKbxWfdRgCaWxx8hlqUlsl7bC9qwiLUZ8XEKKppXP9znvSmh4\n",
       "tD0+UMh4NF5wxbxY94EOvJUPUTVatvMhWgr89T5nlIRoFy4htEtxsIQgHic4VS4lVBxeshDirCol\n",
       "g1ZNodvLHoX3r/c55zWyxarZ7i1kCPxIIADhAysKOI+w/ctAGz1n02HzPscF/0Z9+jOhorWHM1/v\n",
       "c85/kAU0O9uSL01VmGzwA50+zCOPHlAekQ3DCjqPLP0OsRbXw6qOBPhdGgKOz53WSkgE4QRvIfAD\n",
       "XcayI48eUB67jO5G58fLx/Q8WvaoH0drMM7WiIQk9j6nPGrn3dVmcXaUDX5E6VbH3lGQpDdIuS3f\n",
       "6Jx1Lw9NwVSyulRwnO0sltiqhyEyxTYIzR7crHACP7o02svAOwoVHntS/Z3WoPnALyPpirkBf+DF\n",
       "oIv7KLwD73PmIhyZuw9JwAVG+QHQemS+ivPYM5udXqAgqfIDCwseVAFxNnMer3QfhXfofU55N7z/\n",
       "trgBthDOD4AOIwvbOI+wPEVJg3dIpa/oScID8fjapDye3qBm/RAo9D6nvBtOuC0O6EuFnxItR56A\n",
       "4zzCTl4BNHAWUr2CiJ6dBOzetsZqDwwf48IjvFIHavyU6IobIv/giKLpY0wQLYt4U/v6Fh2ULQiL\n",
       "66lt9tRMhSbwU6AV7oboPzgiaPqYm5v0CHOyGbktusHdmh/lSLPC+8nXxWZPLSAKBH5y9Bp/V7Y9\n",
       "9ccScB5hjeMQLbIpqqPX4PnGoMOTrPB+GuLSc30rKfzYbNGP8HwyXAt9WUI4jzDfCqKz7cnk/stC\n",
       "shIRjjqAPBfeK/VDqKdWC3v1WU1+eObhLD+qSuvi+OsSQnkENc6CdHaZQh7ePVai2UG1+azwfpqD\n",
       "afZUzZwg8MPOEe5xEXTyfmL8ug7hPIIr62FaEuN/HG/8EOGVR9O0o23ib4J+o3ncRbNrUtBuE9Ub\n",
       "vxx1IbtVMM2Jrr+Cd0MMYPk0hPhYRJP23Dd6nif1uKWEfOFWCeW/lPmkqXWoCj4MOVi56IY2leNv\n",
       "oU0Q/iGZeRuQf1RCLNv5LzT1Z2BwvCxSJTgkon6fOsNgr6JXYeki/gN/cGRY4wmlqa9qUbxJewL/\n",
       "1TQaEjWyAt/saaqFuA19V8tn8UpTfwIRxZduCAmJGlmBa/aMzeWF/Q9IKE8ITrQlzhDDl27oKyQi\n",
       "OUzb7mkHnOI+9E1eaKnQglhqw/ByMZmVe6OQrwoNVW/c7Bj+c9t3N++rNNXOI/g0FQdvcEhUj+RM\n",
       "s6fH78b70HfkQtlbhJzmxDVA8EEsPSERKbGGevpKKOI+9HgbZ1WVJiYQdDzJgrJmT98cpboNPT5Z\n",
       "1XWa8Lsmb+IJUUho93TuS3UfenSkvdTp3ckTlULyu1TIfGwz/L+aI5oSd0/0Y4qan0m//xHew8vP\n",
       "9+I7A7nf/2StYrf0vfiuvKR4/7rYXxv3zAuJa6FuWLuy8iqXX8l8b1d2L54e0sBBzQ9r/wBnsoW2\n",
       "CzKNhwAAAABJRU5ErkJggg==\n",
       "\" style=\"display:inline;vertical-align:middle;\" /></a></span><br>"
      ],
      "text/plain": [
       "bound12: {e in {2 .. 2^{t - 1} - 2}} |- ((1 / 2) * (Sum_{l=e}^{2^{t - 1} - 1} (1 / l^{2}))) <= ((1 / 2) * (Integrate_{e - 1}^{2^{t - 1} - 1} (1 / l^{2})\\,dl))"
      ]
     },
     "execution_count": 105,
     "metadata": {},
     "output_type": "execute_result"
    }
   ],
   "source": [
    "bound12 = bound11.rhs.deduce_bound(sum_integrate_ineq_NC_inst,\n",
    "            assumptions=defaults.assumptions + (InSet(l, sum_integrate_ineq_NC_inst.rhs.domain),))"
   ]
  },
  {
   "cell_type": "code",
   "execution_count": 106,
   "metadata": {},
   "outputs": [
    {
     "data": {
      "text/html": [
       "<strong id=\"bound13\">bound13:</strong> <span style=\"font-size:20px;\"><a class=\"ProveItLink\" href=\"../../../__pv_it/theorems/f67ffeb951aaff9cc5f02f3801926b572b231a930/expr.ipynb\"><img src=\"data:image/png;base64,iVBORw0KGgoAAAANSUhEUgAAAKwAAAAYBAMAAACVRAuIAAAAMFBMVEX///8QEBAyMjKqqqpUVFRE\n",
       "RESYmJjc3NzMzMwiIiK6urpmZmaIiIh2dnbu7u4AAAAMEBwRAAAAAXRSTlMAQObYZgAAAAlwSFlz\n",
       "AAAOxAAADsQBlSsOGwAAAe1JREFUSMdjYCAZMBVAGXxJDFQE72GMnpPUNNYIzrIkTSPfKjyStZNu\n",
       "4De2uACHzkPr8FmqTMC1HK4PsIoz/2NgYN+t2oApU70pgoHhH25jIbpYHbAayzuBgaGUgfcXhgR7\n",
       "AMP9BVwCDByhQBCOxViILpB+HMa6MzAIYkiwFDAwCvA4vMDpWoguVGN5ImdOghsr/4DBHyPoGf8x\n",
       "sHznPnAPp7EQXSjGcuk8QHKtJwODP0bgskxgYPnBsQ0mXqt/B00BRBfYWL47p8HmFT1ADgQgmI8t\n",
       "gDg/EEic86H6VzZwXADx1eEy3ArgdPIHm67+A/hNBeniEQDG7jcGngUgAQW4VGEC2F1Yk8kUAo4F\n",
       "6WL/DExkf87cAlsjOXPmzKkgVokWWMFWbLq4A7DkSc2ZINCA0PVEmYEf6ig+uAaOraBQZsPq2BQC\n",
       "joXourSAgR8WWIhUAc4ltgzsmHmb+QJDOV5jwbpAuZQTGF8GIJEzKNkBGI08mFm7l4HhHN4IA+vi\n",
       "BUYZmwLDa7CzmAyQja3cvXsnpHQFRiXfJ2jmnb179wR8xkJ0gRPY2TRIMPC5rkMydv7//xCzODcA\n",
       "idnQaP7//78C3kQL1oWaebmuImVeSgCeooYGxoJyCSWAG3tAgXIJJeBhAnbxamdKTK0F6gYAv0eE\n",
       "w3ELTC0AAAAASUVORK5CYII=\n",
       "\" style=\"display:inline;vertical-align:middle;\" /></a> <a class=\"ProveItLink\" href=\"../../../__pv_it/_proof__fail_ineq/21e8366c677b26c1569b01a51206a4aa26b2200e0/proof.ipynb\" style=\"text-decoration: none\">&nbsp;&#x22A2;&nbsp;&nbsp;</a><a class=\"ProveItLink\" href=\"../../../__pv_it/_proof__fail_ineq/67724de6d4b22c9ac0fbc7f57daeec16ecec159a0/expr.ipynb\"><img src=\"data:image/png;base64,iVBORw0KGgoAAAANSUhEUgAAAzIAAABMBAMAAABE258yAAAAMFBMVEX////c3Nx2dnZERESIiIgi\n",
       "IiLMzMyYmJju7u4QEBCqqqpUVFRmZma6uroyMjIAAADVePneAAAAAXRSTlMAQObYZgAAAAlwSFlz\n",
       "AAAOxAAADsQBlSsOGwAAEWZJREFUeNrFXWtsHFcVvut9zT7sXZoWBAS8QklbEal2SCmU/vACDW2I\n",
       "wJZoqj7S2qJNEaiSjXikLSFeHqWK2sYGCk2gYAuRH1FRbJoiWoJq0zRKQSZ2oVIb9YcNVdWWPvxI\n",
       "4jhO42Ee9z3nzMzuju0jTXx8PLtz7vnuPefcM/feEGLTOwSmdzzMslPsJr+/LpMel1RQZnUpPxwg\n",
       "x25YDtpQg6L1UsMwyqwuHawEyA+uYA/K9FSvaN30KM6sJhmPBsiNlVSzcbZqReunySLKrCblpgLk\n",
       "wA1ZTfFEdOocDqNobJQyayIZRrlWlFlN6p4IkAM3fF/+5QHLYqORqdM8GELRdNn9mToQCTKxRZRZ\n",
       "TXo3SO69weC5gW2dazsI+Vdk6sQ7Qii6+R+USUYTej6JM6tH2QsBcuCGPOu9cecGy5ZNkQXn1OkA\n",
       "RX+44SmSJNEi011GGYCeQ1JH/SNr2QD8dJhw/wZl9rImNSF9lMuBGyzDGJddJyPTMBhZV7ma+Cs0\n",
       "So6RvVazx8bGJqJCJt6PMl5KIIH5y7rg2/TnN24Ko8Pn2de3BnQOv97zUULu78rJyGSjCzRDg/4K\n",
       "XSDNXX9IRztmsoso45PJBWSVie2sJaGQiZco8wn6cwRpG5cDN/ybkCOxy2RkGqPLZQpT/grdYyGz\n",
       "9pvU9W35eDQPXcKZsMn7HnkmZnzsSIVwZyOQMXbj7uxX7ItcQI1TyH2ndMaxxCaLNpLHCXnsvgo5\n",
       "uunqTZt6HGRS0SGTm/dXiJD10UfbkS6U8YQTpOecUG4i+Q5jisQsl/tPGZk7NwdPpLP73PwTGbVc\n",
       "Dt1wByGzagYQoTdrnPNXiKRuih6ZyRLKeLwqDFlK6VCFidh8drTH680O4DokmQ23u7ZdQLzegs6o\n",
       "GcBnSIOMTKIcnZXO+SsU0exSc6H9KKPTW0iCopTa0pXYfOw4DUh3/mwwDDJZFqiGnM/1IakZl0M3\n",
       "xIvkoeuup8jErpgr25LIqK3LV6HYaCz60kl8HmUw++mJi6ZUA2xYH2TIqwxkJzT00kG7Q+uITC4Y\n",
       "2eGU5PmMTT8KPV0JdkXtoB/heqy56+5qB82OwA8k5lBG9xetcDu+IkXKdfgzD/gYYoh2yazTKUac\n",
       "SaPx12nti0YmdEamv0k1AEUQRA+eWAie9oEhlusxYJrV4eJtHNBhllBG124QbEdKCsdPTvZ4Zpc0\n",
       "d+LIQIbIsEDzmNNO1lE15Qc8jDJUtbvTE2HNlAhGpgDeMlCHr2oPHmRmBWW0HgK3IzcjQFj4+oQ1\n",
       "/3+f/5gBDJFn3zFu96czsPJczhmVNK0NEiEyTVC9CNEjMmSmJ1BG1eM9uB19Ijm169Sxq+56vmpk\n",
       "Gs+yvNBK6rKnYOW5PHsq2lAbApk8VDmrS48QyIyXUUb1DvNwO3pF2lKwPpgxzRno4xdNr/MxxG+Z\n",
       "W7P8eX4OVp7L83MrjkwaAqEuPUIg09uKMmoSNwO3o02aG3XVaohxmt/lrfyvaRFWnsubFlccmRQ0\n",
       "oalLjxDIdPejjBoEW+F2SL1pvGZDDNGpadZya5l5WHkuz8yvODIGlHvVpUcIZPpmUAYsFmjtkAsX\n",
       "t9dsiGY6W42dl/IgTXkuhxKlJlOicuTIELPLN2Gblp5+OipkCvMoozqcCbAd+QueHKEGQ2TYMN1v\n",
       "oTQDK8/lzUDPyZpU6R+8+LTZHz0ynYNAdxJ6DFHkjI9sHTgXFTLJRZRRc7gK2I4m8Wv2bM2G4BWo\n",
       "tgoZ6oCV5/IhqMgwIlLY7yxGj8w0MA4lPXIm59MQiDUh03QaZRQ6A7ejINTLz9dsiASP+oOkfQpW\n",
       "XsihCXnSFOW7o9EjMwKUZ2Q9Os8LM7RGhExuDmVkip2C29Es9EjO1GyILHOEQ6OkhX1ji1qQE3Ko\n",
       "6SlTjNh8deXFhtnge8aBFZKyHt1mD6mqLNQSrGP+PMqAttPaMSQmmn0dNRsixXDvbiUj1AhHBt5S\n",
       "FkcyuWDUTmiKtvZUA0zu6aU/BxsSGKeyHglTtCod4qF640BDLaGM0tNPw+1oFw54aLhmQ/BCh4Vu\n",
       "2yj8QS6Hb4ibHWT5qKXDRyHnlzORP7PhDMooQwsJq+Mi3rWUq3126s3Rhk4nq2HzhcIMmUaQ4XL4\n",
       "BmPgvWVEpr3fRyGb9pijUT8zcQ5llC6JhHfpndL0RNUPLwySXjeC0oCYXCCdJSRxLemMNuEyB5cP\n",
       "mV4eQ1/yKuTM68zIl1CmTZRRUjgkTE4L725Wqn74ZIWuImBfYz1mAEGGy5EbGsx9K4HM770KuR7j\n",
       "XGWFkTnk2iyDpJYDFd/aUgCtJ+QGd+jR8Ra/QAYQp8jl2A3TS8uHzBCETFmtQkxF/MysiTLOtO15\n",
       "HgDgsoWAuIai+Nsk5nrJEeqJcotkAElauBy7YY9ZWllketQ4N7eiyGy+nIRFJletZrEnvrBI0jM6\n",
       "MiZieC7HbuAVmmWgSQAZTY8hqLZWDzWaKEOM9XzABiOTrDYEnizGF9iukHHayvxZggVyLkcj/Xjk\n",
       "rl7MJBcAZFQ98lHHuRQL3F4mdkz0CrgALZfHC7PVPdh41F5bmCnryOx0n+7Ube2HGjR87GRm34nZ\n",
       "P4lXmc2ayW33A65+x7Zt279t262wHp1aVatQ+0NdA+1klvIwz0idoq9fepojcAKeIcJ+d5jijPTo\n",
       "/AxJlkh3UZkLNZwmpp58b6cfZXITy85jZ8iKjhlNj+aOFRszADJSBx3VkGmvMjfJtJK+CbKFeJCp\n",
       "2ZslfkpW0ZuRLcXV8WbwSw8JmZEqJ8F9ZXuWeY0RHTLh3nZXQfaOJd0hoMg0RpN/OEv2KQ4EY6rL\n",
       "ADp7qkRmkDyTLZ5t0ONMzVlzKvJZuL1jCc/NND26oylB2Ev2g3MzYmy+PjQyYZNG1ini5ez2PLnw\n",
       "48iQ2VOOGhl7x1JYZIxHonmmvWQ/BDLWTPPykMikzCo7hfHkpR/+AtlV0uczYuzdraY+PQGD8+3I\n",
       "o8s9vsioejSNRvNMe8l+KGTIblqdoarFxl5VxgZfQZoNVxtZPy86hUQSMuLF7q1q8aWsMyrFl2O/\n",
       "PNuxNMTD7EtehRzaFNkz2ZL9LIvhXkZJxWhysoY0KCtJWZGYNIQrAaRnRKeQiJWs4/OkjdVYEioy\n",
       "XN4GF2GOiekF6PGLuKyp6BU7Ir46vhd6PyPrkRfr6LNSHg/l9vTnf7xi909syX6aTQK8jNIjqTX/\n",
       "6Kxv8ZrUrkWG8mVT4D6OTmqb5KzI8b6mbtjhcjgJTIuUOQ0hkxjEZX2yhU78vPii9fNFpx9WfKYE\n",
       "ih73CnDvE9IvAopQmSGHh7Vvbmy0RqB9iSX7iSWUUSxKDT9QISNyD2OLndBitD72yuA+DuYULafJ\n",
       "X7mXVGS4fHw4IGU+CP39d7Yn9crWnriKkEOyLyGvVBJWBLEvsWMJWnsg6yGlzFkxv8iWCH0zSGSZ\n",
       "ExGyMtalxqeIvWXevviS/QZWIvYySveiCyD+pG3kbGdhMOQqACukQqcEMAda6OdGSBRVZPxXaEhn\n",
       "fzwEvdw0pgirnsqyWCtpmbjo9kuFMGd3mzfcS+xYGgfGqayHOADFkG7da/tB7VN73YgQW/9fyYz2\n",
       "tMk+WcK6xJL9PGuHl1GchQgjnbKc77uaDHf+Vi+B9nHwukpzB+mlnekD2vZDJhcMmDLHHgdLzvke\n",
       "7xZgS5Yr2qsQ/yd3Qbsdu9xL7FhqA7IOSQ+RMn9oRJo9HCfa/mJX5kSEJtm7brUtPOpcYsl+nNXh\n",
       "vIwyw+ULatSzPjggveEmmofBfRz8262vm6TeoKQhw+SCUTK3dx167WbTBJdqZKgn1WSWD87NEtkR\n",
       "G/bgy1TcS3w9EKUkPZqW3Mdvs7CUorR9ww3ap/ppRChU1Fk3Ifvoxb90EWWUkc+DT1IZHH2s44yH\n",
       "qxo9Au7jSDO0e8tsUWq6qCHju3o2L1dqoT5yyPWkuizXQXLzjQrUbbZX6XEvEQeBabSkx7j0dLHu\n",
       "zQ4leh5qy5yIcFLJr+y+8Tq9eMeZRxk1e2KMugKSL/+7OVyVDn5VwJd3jnextwkX65up+VuGal83\n",
       "OPQs4PKfpS1IDP9ECB8fanWPRlSOR4TWOATqkS95Y1u+RK251RBgZ/9ih/YNRD0Z0rvEHt6UyMZE\n",
       "Wo0neaaeunzwgSmkHAwXRpuY/tOWpdws8JUjR849ofSBCzpTDb1OvCfIuR20u5wvXy5G71Ruwf7X\n",
       "vXgcBKd4QXrYo04/L84diVZEeE7aWLrbOSdlN3EvPib7UUaNdz0s01T2vqfp4E0py82dA8bAifpw\n",
       "BSwWsdstJ53j3/Rr5R4uz52tAZlbHE/qldmVhtRx0X2bi/YGazvzlbJf0ghNJAL1SFrRI1P2ypyI\n",
       "cPd3Be6zzu7ug1rCPzmFMqpXdZPBVIkkZOPG2PZNdWhnEWQKPeAEvptKU1YGmOCpoZq9c3miliV/\n",
       "v2GedO82m26kMmmBuBtJDztngqRm3Is/GypwBOqRseZ67ptB8dDMhBIRnIda48o+n6SbuBefkJRQ\n",
       "Rn2Ma+tLxsaOKfJf0A7UwQ4Y80fmZbDo1U47bWJe6p9HzSeV/G3JrwOHQMbjSR1kvsd/dd6dnnUQ\n",
       "sXMCOS/IQUlRoB42ClsAmRwRtjvd1UHkJL30WiLAqHU2N/p0mqaqUIs7gjIldsCYLzLpZ0ExO9rN\n",
       "PlzNQIrWXG6YtXkzjye9xZ2Sy7MrY96JL86JQh3eqiGskJ83u8YAvJkWEfq6nPhygKgnjfCSpJdR\n",
       "J4PILrdmdxBMVtgBY77IIEZn6UPfsFRDw2pr6A1+hxFeCXhSS0a+Ssj1smzemQKmW92L264fVcgY\n",
       "Af7iJkBxyzT0zaAItGVvRCh0OXPdb9GLGeUcymiEHDvaZCtxBTlC3APG7rCPzChWiQzb0e5uYW9B\n",
       "5qxc7jIPqvmo80IOOIyQZokbAE9qyWLbx8YUVdfZJ6U5uW1ewhHe5uDqcUhLi0UCZOfd9M2gcD3D\n",
       "3ojQUM4O0yRecinZ8yijJ2dwT03bcXVTyp68zgZnAAi67O7X/Oo8XO4y2SnNIvkO7TBCyUhkB+BJ\n",
       "d9gLoUx11WvDtTYgyQn3Ir4O3tVD+9a4aH7K+neXNk5tmScirPuc/e9t9NJjm5fRqK8EeyI7bXlo\n",
       "qw2be8BYDcg009EQO0vrzXBAnVGYvKqP80JOPYxQMhJJApN4SObSJfTSS+GQQtyY2gmrFt0IfOhG\n",
       "7JmxDvdCmutjmDyyZfjvosh7HXPZzgFj4amFddgZpSCAFQpcJqku97JfyGmHEcpGSgPFYkgmSpHH\n",
       "pY5+HlfImCF524N/Sj9hlRZGddqFVgx63IvPJIZRRh8cSArQVw0G/t/sfhVyNqKQu0wfswh3RB3a\n",
       "YYSykchG4Bs3Yt231b34zGURV0g4Ve2EVULAw+/QA/HW0IvPJAZRRqctVRVcqiC2jIetIdqP3Ldf\n",
       "YQ7pf95R0Q4jVJCBDqLDDqezrSdbsKkfV0g4Ve2EVbvLAW+SDGy5wkatq7yJMx63jAyOG+pFppn6\n",
       "pRgtRLUjy2O53GF45KXpoJ4pq0YiMUD7GNKiz9JLL1FACiVfZmN3lngG6sXAhy5GOnjRvbgHnUMZ\n",
       "7+BFaqt1//cbR1juQf1oAfGnXO4wt1VUb+Z9IRevPheBCTtA2tajwP/TDu2E1Topt4AyXroCFjdM\n",
       "1adDmr0uureilBuwMgRlZtQOD7yQi8pIBjKPcPTIf0lNgOLVJ0Bw+B5GGcD9Io+7sj4dPkiT19gv\n",
       "5UQcS9A585zq84AXclEZKYG9iIEUjZNoqL2IMoAiSC5+f1ddOrD3eOIlInb0B5eHOBskQiNl0Owa\n",
       "0CMf0UMfwxmA3o8kmXUhY7C+/7DINZCIy+XYDctjJLwfhNOjpnG6gDKrSdjR0FyenV1BbYyzVSta\n",
       "P/X1oMyq0tEg+dEVVMbvPxhbNj0O48yqUrInQJ5cwQ50slK9ovVS4z6UWV1K7QuQp1ZQz9tqULTu\n",
       "rjmBMqtMLwTJX1i5MDNRi6J10sM4s2r0fz9gtXvpwrfaAAAAAElFTkSuQmCC\n",
       "\" style=\"display:inline;vertical-align:middle;\" /></a></span><br>"
      ],
      "text/plain": [
       "bound13: {e in {2 .. 2^{t - 1} - 2}} |- ((1 / 4) * ((Sum_{l=-2^{t - 1} + 1}^{-(e + 1)} (1 / (l - (2^{t} * delta))^{2})) + (Sum_{l=e + 1}^{2^{t - 1}} (1 / (l - (2^{t} * delta))^{2})))) < ((1 / 2) * (Integrate_{e - 1}^{2^{t - 1} - 1} (1 / l^{2})\\,dl))"
      ]
     },
     "execution_count": 106,
     "metadata": {},
     "output_type": "execute_result"
    }
   ],
   "source": [
    "bound13 = bound11.apply_transitivity(bound12)"
   ]
  },
  {
   "cell_type": "code",
   "execution_count": 107,
   "metadata": {},
   "outputs": [
    {
     "data": {
      "text/html": [
       "<span style=\"font-size:20px;\"> <a class=\"ProveItLink\" href=\"../../../../../../numbers/integration/_theory_nbs_/proofs/boundedInvSqrdIntegral/thm_proof.ipynb\" style=\"text-decoration: none\">&nbsp;&#x22A2;&nbsp;&nbsp;</a><a class=\"ProveItLink\" href=\"../../../../../../numbers/integration/__pv_it/theorems/ee730de5cf003ff24e502158228c94877e00ce120/expr.ipynb\"><img src=\"data:image/png;base64,iVBORw0KGgoAAAANSUhEUgAAATEAAAA/BAMAAAB6NuKfAAAAMFBMVEX///+IiIgiIiIQEBB2dnbu\n",
       "7u5ERETMzMzc3NwyMjK6urpmZmaYmJiqqqpUVFQAAAB6qHgnAAAAAXRSTlMAQObYZgAAAAlwSFlz\n",
       "AAAOxAAADsQBlSsOGwAABiJJREFUaN6tWFtoHFUY/mevSXb2Uo2CCMkaW6ooJBVr6yV0Www0UOlS\n",
       "oy+BZoO69iGSYAQtQrPSB4VCEx+sCtrugxXESralom0k2T5E6IMYK4gPQlKwfRGS3bTbTXP1zJmd\n",
       "zfwz55zJmd0Pki/Z78zZb87t/88PUBdctLAY/s/cq5JQxjA74eEaVDmMZzA7IZBwr0rB/xJmHcdT\n",
       "/Ac6hd111s1ZaAyzjojg1f9MivoTqzIYGcKswzvEf8KTE/UnVmVw1sIVn9tucZ8IL4n6E6sSMDqy\n",
       "dPhA8lH+M2eEPZ6pkzNPCjNdZPthAK5X/nnXvm5m2VNdaTk7VKdlNoNZw83x/B6Y1Lfaf+fszrys\n",
       "pVRt6a3TQluwMEGwNJwtgLH7W+3OQgVmV5WWHFX6NFvBTCeTTOwONcV31rQqcsZRZaGWMWuIxgA+\n",
       "3AZ8Z/C8yBlHlUWggJmGqSHW95kxlRE5m8rUw1k0hZn2DE7OZvMiZ2xVOpwnMGt40tHZ6JzIGVuV\n",
       "xVQWs2UzcJx5O0TO2KosjNPKdGqFVx2dBUoiZ2xVFosW1s6jsqMzZU3kjK1KouEeZhqnCo7Owisi\n",
       "Z2xVNp6v2Dvri6MmhxlnQPAeqzOjJVuVvQMUMdNNj7bW/L6z9kPAv8joq9pSU2kf/9SS0K5hpq8e\n",
       "47U+/iIc0BfhhrBXol7V+ItaQkAZM92mWW7zNVD1RdhuWnxhmwGintAWb6oGZ41LmOkbcxP5ppJx\n",
       "Wzi3ufjUp2ztidpIPvTN1ODMW8Ksrd873Na+OHj0qR6sjquy3f4iRFXJkmusKWwWMGtjwN9ZjTkY\n",
       "1aP9gjEcPY+xcj6iPtPW9mydnUXuctqe3k/y3t8BOet9GjjOfgJ4q87OPJwTvGkvDCbhdiXM6ufD\n",
       "0a/ZwZiop6GBG9h9xskgcNZXwKyZ5NzKXs3DFYBdyFmE7yyQ9FXXYtC4Tt3onvzU5CiAT/1j5spA\n",
       "Xwdm7apiDk4bFehZ23YILuEz71R1NqNGu4oajpk2wL+avZZ0VvHBwQTHWbgfVQYYzlo5JaHnwL8M\n",
       "SoflNGbuAKqOXdv8YA/5mSB7R1FgOsZ2pg7gygDD2QL7UuYvaqdsYC5piROsU4Oqr2iVtJ5rB7Xh\n",
       "KrYkFW3+ibOHcr6JSxNXTc78h5ozoLxjqQwwdkA7O1f2r0Fk7O9oPmFeZ5yTlqonyQbwP0GnX9mh\n",
       "5F6nr+Fr6M9bx+xIZiQT7LRWBhjONixXbP/L8/Sr++FGLhc9H7M6g/DnTGcR0k8oF9QmI5BXxy5Q\n",
       "Z6E3U7YdMAHDAH91aX9uVgYYzoLWYB2CEE2LjjZ/cHNIvYzPM87t2lC9WWWOLp/Q3PV0Oj2jKL4f\n",
       "bM5egBby+9suuh4nq9GpgJmMwH30JQfK0WxDmf/dYmd9mcA0GfAoeGfeo2OmNH2T3DzPqDP/Egy8\n",
       "RvjEzwCblQHwlDCTp3AIUAtqkuFsUFhVqarezMiFZA94kr+S842uM+gybTB9zPYGl6dpjLllqgww\n",
       "sqDAsq0i6YvbvrtdzzWOtGnYyVFJ3Pjlj0MwPBO8GIOGt8n/3z2S6L1idfb9b836qs2YKgMQWsaM\n",
       "sg46mDFmnWqfMOZZVH1ue9Jpa+IXEGXbq5httwCSWzQwIvMdoTOsNnHzPZEz9S5mclnHcZjkFqfg\n",
       "E9uVa5GZi3zEVFVwdhYkOzd9DL3POmZiBR+0t8kCef9HW96xzstFeCr7Tikqn93HbCvk7ALvxoat\n",
       "VKcWmbnIJb4qj3YLw+P4YslOiUJlRuqj5SJc1UXFJWMZKjwTCrt40ljg5CJcVR7GsjI4iMstRm5h\n",
       "TYXjnFyEp7rAaA6zgqfPyC0sGElwchGe6uZaF8cciRtJle7sPPPC3soITjQX4ary8JUwexNGUqVv\n",
       "s8vMp95gfEZzEa7qokxVxDyeNJIq0Vmz7l7dOr40czfMV5MqUeQou1clNmfGxOng7mpSJaqGxN2r\n",
       "W0dfwsS9LZlKUiXe0Hn3qkQFrQNzJakS4nAN6tbhL2KWeMSNKoMHLbyFYY67V2VQqYhVeQtxI+te\n",
       "lUHTEmZnzNegSqHbwk5Qd7tX5RCIYXbCySH3quTu3InZCV/VoEriYws7vEh2C+r/5CHegxPj8RYA\n",
       "AAAASUVORK5CYII=\n",
       "\" style=\"display:inline;vertical-align:middle;\" /></a></span>"
      ],
      "text/plain": [
       "|- forall_{a, b in RealPos | a <= b} ((Integrate_{a}^{b} (1 / l^{2})\\,dl) <= (1 / a))"
      ]
     },
     "execution_count": 107,
     "metadata": {},
     "output_type": "execute_result"
    }
   ],
   "source": [
    "from proveit.numbers.integration import boundedInvSqrdIntegral\n",
    "boundedInvSqrdIntegral"
   ]
  },
  {
   "cell_type": "markdown",
   "metadata": {},
   "source": [
    "Need to establish that $2^{t-1}-1$ is in RealPos."
   ]
  },
  {
   "cell_type": "code",
   "execution_count": 108,
   "metadata": {},
   "outputs": [
    {
     "data": {
      "text/html": [
       "<span style=\"font-size:20px;\"><a class=\"ProveItLink\" href=\"../../../__pv_it/theorems/f67ffeb951aaff9cc5f02f3801926b572b231a930/expr.ipynb\"><img src=\"data:image/png;base64,iVBORw0KGgoAAAANSUhEUgAAAKwAAAAYBAMAAACVRAuIAAAAMFBMVEX///8QEBAyMjKqqqpUVFRE\n",
       "RESYmJjc3NzMzMwiIiK6urpmZmaIiIh2dnbu7u4AAAAMEBwRAAAAAXRSTlMAQObYZgAAAAlwSFlz\n",
       "AAAOxAAADsQBlSsOGwAAAe1JREFUSMdjYCAZMBVAGXxJDFQE72GMnpPUNNYIzrIkTSPfKjyStZNu\n",
       "4De2uACHzkPr8FmqTMC1HK4PsIoz/2NgYN+t2oApU70pgoHhH25jIbpYHbAayzuBgaGUgfcXhgR7\n",
       "AMP9BVwCDByhQBCOxViILpB+HMa6MzAIYkiwFDAwCvA4vMDpWoguVGN5ImdOghsr/4DBHyPoGf8x\n",
       "sHznPnAPp7EQXSjGcuk8QHKtJwODP0bgskxgYPnBsQ0mXqt/B00BRBfYWL47p8HmFT1ADgQgmI8t\n",
       "gDg/EEic86H6VzZwXADx1eEy3ArgdPIHm67+A/hNBeniEQDG7jcGngUgAQW4VGEC2F1Yk8kUAo4F\n",
       "6WL/DExkf87cAlsjOXPmzKkgVokWWMFWbLq4A7DkSc2ZINCA0PVEmYEf6ig+uAaOraBQZsPq2BQC\n",
       "joXourSAgR8WWIhUAc4ltgzsmHmb+QJDOV5jwbpAuZQTGF8GIJEzKNkBGI08mFm7l4HhHN4IA+vi\n",
       "BUYZmwLDa7CzmAyQja3cvXsnpHQFRiXfJ2jmnb179wR8xkJ0gRPY2TRIMPC5rkMydv7//xCzODcA\n",
       "idnQaP7//78C3kQL1oWaebmuImVeSgCeooYGxoJyCSWAG3tAgXIJJeBhAnbxamdKTK0F6gYAv0eE\n",
       "w3ELTC0AAAAASUVORK5CYII=\n",
       "\" style=\"display:inline;vertical-align:middle;\" /></a> <a class=\"ProveItLink\" href=\"../../../__pv_it/_proof__fail_ineq/edbaa6a6dcf8ece693f918caa10f6cd027aee7640/proof.ipynb\" style=\"text-decoration: none\">&nbsp;&#x22A2;&nbsp;&nbsp;</a><a class=\"ProveItLink\" href=\"../../../__pv_it/_proof__fail_ineq/e08c09f03e2f8414429c74d7c72695f0ea70838d0/expr.ipynb\"><img src=\"data:image/png;base64,iVBORw0KGgoAAAANSUhEUgAAAIAAAAAaBAMAAACN7UndAAAAMFBMVEX///8QEBAyMjKqqqpUVFRE\n",
       "RESYmJjc3NzMzMwiIiK6urpmZmaIiIh2dnbu7u4AAAAMEBwRAAAAAXRSTlMAQObYZgAAAAlwSFlz\n",
       "AAAOxAAADsQBlSsOGwAAAaxJREFUOMtjYMAL1GGMZwoMJAG2BWCK7wOUz3FmAjZlG3AaYA2hmOH2\n",
       "MmM1oBSXfj6IRvabug14DWA7gMMA1gQIzWSA3wUM83AYUAi0fbdqAwP/A9wGcIA0H8FhwF6Q93h/\n",
       "MSxkYGgNBYICTAOebPoHJN8/wG7ALwYGdwYGQYYjfLjDgAdkAFMCmqhRAdh1QDn5Bwz+BXt4H+A3\n",
       "gDsAVTBzH0QOqNqTgcG/oTsDKsF+6e8BbAbwCACj7M5pmDUn70FoFkgszseb1sAGcAGJlQ0cFyCR\n",
       "fxNmCSvYYRx/CBvA8YOB/RsDDzjdsu+EBwiTA4jkdCBsAPsvBtY/Z26BBZzgiYaBE5zGt2LR9Wgm\n",
       "CMyAG8D3i4EfZg+SAWAXsOF3ANQFPxj4YR5H94ItA3sB4TD4zsAJDEEDtEBkAQYiMGR5HhATC2wK\n",
       "DK+hNvGdPAeVA8Zu5e7dO/F6gfc7yJ9AlWfTEEkkE5IQQLE7////T/j0szh+cgOmRPSASoI4RorY\n",
       "kgsjLyByI3EAV25sJNaAFFweNCDSgOn4y0TChTeuMhGYiogCpYTqBUIAWHwAAHzpdA+R9vbbAAAA\n",
       "AElFTkSuQmCC\n",
       "\" style=\"display:inline;vertical-align:middle;\" /></a></span>"
      ],
      "text/plain": [
       "{e in {2 .. 2^{t - 1} - 2}} |- e < (2^{t - 1} - 1)"
      ]
     },
     "execution_count": 108,
     "metadata": {},
     "output_type": "execute_result"
    }
   ],
   "source": [
    "# recall from earlier in the notebook:\n",
    "e_new_upper_bound_simp"
   ]
  },
  {
   "cell_type": "code",
   "execution_count": 109,
   "metadata": {},
   "outputs": [
    {
     "data": {
      "text/html": [
       "<span style=\"font-size:20px;\"><a class=\"ProveItLink\" href=\"../../../__pv_it/theorems/f67ffeb951aaff9cc5f02f3801926b572b231a930/expr.ipynb\"><img src=\"data:image/png;base64,iVBORw0KGgoAAAANSUhEUgAAAKwAAAAYBAMAAACVRAuIAAAAMFBMVEX///8QEBAyMjKqqqpUVFRE\n",
       "RESYmJjc3NzMzMwiIiK6urpmZmaIiIh2dnbu7u4AAAAMEBwRAAAAAXRSTlMAQObYZgAAAAlwSFlz\n",
       "AAAOxAAADsQBlSsOGwAAAe1JREFUSMdjYCAZMBVAGXxJDFQE72GMnpPUNNYIzrIkTSPfKjyStZNu\n",
       "4De2uACHzkPr8FmqTMC1HK4PsIoz/2NgYN+t2oApU70pgoHhH25jIbpYHbAayzuBgaGUgfcXhgR7\n",
       "AMP9BVwCDByhQBCOxViILpB+HMa6MzAIYkiwFDAwCvA4vMDpWoguVGN5ImdOghsr/4DBHyPoGf8x\n",
       "sHznPnAPp7EQXSjGcuk8QHKtJwODP0bgskxgYPnBsQ0mXqt/B00BRBfYWL47p8HmFT1ADgQgmI8t\n",
       "gDg/EEic86H6VzZwXADx1eEy3ArgdPIHm67+A/hNBeniEQDG7jcGngUgAQW4VGEC2F1Yk8kUAo4F\n",
       "6WL/DExkf87cAlsjOXPmzKkgVokWWMFWbLq4A7DkSc2ZINCA0PVEmYEf6ig+uAaOraBQZsPq2BQC\n",
       "joXourSAgR8WWIhUAc4ltgzsmHmb+QJDOV5jwbpAuZQTGF8GIJEzKNkBGI08mFm7l4HhHN4IA+vi\n",
       "BUYZmwLDa7CzmAyQja3cvXsnpHQFRiXfJ2jmnb179wR8xkJ0gRPY2TRIMPC5rkMydv7//xCzODcA\n",
       "idnQaP7//78C3kQL1oWaebmuImVeSgCeooYGxoJyCSWAG3tAgXIJJeBhAnbxamdKTK0F6gYAv0eE\n",
       "w3ELTC0AAAAASUVORK5CYII=\n",
       "\" style=\"display:inline;vertical-align:middle;\" /></a> <a class=\"ProveItLink\" href=\"../../../__pv_it/_proof__fail_ineq/a553947ac45795494feb32941b1bcfc1658807df0/proof.ipynb\" style=\"text-decoration: none\">&nbsp;&#x22A2;&nbsp;&nbsp;</a><a class=\"ProveItLink\" href=\"../../../__pv_it/_proof__fail_ineq/a34833fa261c2e060be958491c80d6867d2515ee0/expr.ipynb\"><img src=\"data:image/png;base64,iVBORw0KGgoAAAANSUhEUgAAAIAAAAAaBAMAAACN7UndAAAAMFBMVEX///9UVFQiIiKIiIjMzMx2\n",
       "dnYQEBDc3NxEREQyMjLu7u5mZmaqqqq6urqYmJgAAAB66f/FAAAAAXRSTlMAQObYZgAAAAlwSFlz\n",
       "AAAOxAAADsQBlSsOGwAAAclJREFUOMuVlTtLw1AYht806S1JL4OIgkhVRLQi1cHBqSDOLdTJxfyE\n",
       "LsWCgx0EO0nrJFg0XkEc2k1qwcHNrf9AHR0EwUoxVGtycpG2ufkt5ztvznn4znsuAfQIZrWEfcX/\n",
       "4k1tqnp/dcl0WM1qPq99eTSUB9NxeSvAtdrkZtftAeGEBWBfaysOFWDOXPYLwHZ9F5BsAIwyeXFA\n",
       "9mZuAS4NfwGbzZAApijHngngtK7Qq2K/XsFZFpEmqCx8Ah29sK6AVgDB535XYvAWkBLhk0C1ucSG\n",
       "A4ArkFNybKiBKHgJ8qZTMVAt5j6p6bmTjCmAFkh+OaWrkRqYDkZJ7nm3PWsEENJspqc1M6oy4AdF\n",
       "kqcSzgCmpa89rhJ20mA+UCb5BJwB/m/j8B5ldcAn4jD86Q32YFKJpAFgDQBCZaWGahohrYIXuKmg\n",
       "9Qc4FFUT+Q4B8GlsufCgbSyhTJYQKCAsYUTO1oAV97sgm6g+HWEBXAnLcm3xRiNmC/C21fG924h5\n",
       "XCXxJMLT7XZLdvOp4a9x2eko6ZwbBwk3mSHA13T7cql3gV3ok+Xb6DIGb6N61QW3AKu9HnMLmLF/\n",
       "Ex3D8k3kXZqQd/ovOMWdufwLYC5wqWVC6cUAAAAASUVORK5CYII=\n",
       "\" style=\"display:inline;vertical-align:middle;\" /></a></span>"
      ],
      "text/plain": [
       "{e in {2 .. 2^{t - 1} - 2}} |- (2^{t - 1} - 1) > 0"
      ]
     },
     "execution_count": 109,
     "metadata": {},
     "output_type": "execute_result"
    }
   ],
   "source": [
    "# Need this for the integral-bounding instantiation step two cells down\n",
    "greater(e_new_upper_bound_simp.rhs, zero).prove()"
   ]
  },
  {
   "cell_type": "code",
   "execution_count": 110,
   "metadata": {},
   "outputs": [
    {
     "data": {
      "text/html": [
       "<span style=\"font-size:20px;\"><a class=\"ProveItLink\" href=\"../../../__pv_it/theorems/f67ffeb951aaff9cc5f02f3801926b572b231a930/expr.ipynb\"><img src=\"data:image/png;base64,iVBORw0KGgoAAAANSUhEUgAAAKwAAAAYBAMAAACVRAuIAAAAMFBMVEX///8QEBAyMjKqqqpUVFRE\n",
       "RESYmJjc3NzMzMwiIiK6urpmZmaIiIh2dnbu7u4AAAAMEBwRAAAAAXRSTlMAQObYZgAAAAlwSFlz\n",
       "AAAOxAAADsQBlSsOGwAAAe1JREFUSMdjYCAZMBVAGXxJDFQE72GMnpPUNNYIzrIkTSPfKjyStZNu\n",
       "4De2uACHzkPr8FmqTMC1HK4PsIoz/2NgYN+t2oApU70pgoHhH25jIbpYHbAayzuBgaGUgfcXhgR7\n",
       "AMP9BVwCDByhQBCOxViILpB+HMa6MzAIYkiwFDAwCvA4vMDpWoguVGN5ImdOghsr/4DBHyPoGf8x\n",
       "sHznPnAPp7EQXSjGcuk8QHKtJwODP0bgskxgYPnBsQ0mXqt/B00BRBfYWL47p8HmFT1ADgQgmI8t\n",
       "gDg/EEic86H6VzZwXADx1eEy3ArgdPIHm67+A/hNBeniEQDG7jcGngUgAQW4VGEC2F1Yk8kUAo4F\n",
       "6WL/DExkf87cAlsjOXPmzKkgVokWWMFWbLq4A7DkSc2ZINCA0PVEmYEf6ig+uAaOraBQZsPq2BQC\n",
       "joXourSAgR8WWIhUAc4ltgzsmHmb+QJDOV5jwbpAuZQTGF8GIJEzKNkBGI08mFm7l4HhHN4IA+vi\n",
       "BUYZmwLDa7CzmAyQja3cvXsnpHQFRiXfJ2jmnb179wR8xkJ0gRPY2TRIMPC5rkMydv7//xCzODcA\n",
       "idnQaP7//78C3kQL1oWaebmuImVeSgCeooYGxoJyCSWAG3tAgXIJJeBhAnbxamdKTK0F6gYAv0eE\n",
       "w3ELTC0AAAAASUVORK5CYII=\n",
       "\" style=\"display:inline;vertical-align:middle;\" /></a> <a class=\"ProveItLink\" href=\"../../../__pv_it/_proof__fail_ineq/34a225820b6b6b0e81a22c731c7192a51c2dcf400/proof.ipynb\" style=\"text-decoration: none\">&nbsp;&#x22A2;&nbsp;&nbsp;</a><a class=\"ProveItLink\" href=\"../../../__pv_it/_proof__fail_ineq/3f10ea14f48c9f26f72326c48fbebd168b7e781c0/expr.ipynb\"><img src=\"data:image/png;base64,iVBORw0KGgoAAAANSUhEUgAAALIAAAAaBAMAAADh6xvYAAAAMFBMVEX////MzMxUVFRERES6uroi\n",
       "IiIQEBCYmJhmZmYyMjLu7u52dnaqqqqIiIjc3NwAAACW8nlqAAAAAXRSTlMAQObYZgAAAAlwSFlz\n",
       "AAAOxAAADsQBlSsOGwAAAjJJREFUSMdjYCAPzIMxlk9goA4ogVBcH6B8xrsB2JQ1kGwwD1QLD9yl\n",
       "PFhNfgwmH+AwBZv4SgjFt3W2AF6T2S8ACd4DOEz2xSJmDqU5D+B3M0MUEJ/GJsEIlOEtwBDmSwDi\n",
       "jskCDPwLcJsM0stwCRgX2OJ2UecvIDkLQ5xjAygIub8wuDEwCBsDwQNMkyF61y9g4CjA5mZekGwF\n",
       "hjC/AwODHgNDGsMlLtzhDNbLWcDAxoDTZLYFCIGT4PiUB4rkL2DQf9DLvQC/yRwGDCdxm8yJ8E5p\n",
       "F5i6CsSqDAz6AhKFsJDf+fsCNr28CQzdoHS/98YCLLLcCjDu1V0QWhNCxeNN82C9LL8YpgMpVwHG\n",
       "DVhk2aGRy7UV5ixjSOT/JWwy40eGGKCPvjPwOmCR5UmAeLgVHiqTwCSrAmGT+b4wpDAwMP+9uwWc\n",
       "wUJBIBBhL6Rw0ERkpQgw2Ywtc6Lp5QKbzK+AI6wS0E0Gu5kdv5OhbgaHBv8F7LLQBIUeGqcZ+B4Q\n",
       "Dud/DLbAcANG3wFsMWiAHoPKID0bGHgXEJM2NoHTwAo0V3D/g+ZliNFXb0EY14D4aUdHK97QAOtl\n",
       "T2AQBVK3y9HCg0ntpzrQL4gEUwpJ0P5Ax8b///8Tn8EQvRwKDKwCONU8RWJXgj3F5kBsFQHMv+y4\n",
       "K5Z2rGUdcQBY1jHY4ZLkM8AsthOINbkIiBfjkmTGkrZ0iDU5DuS0Czgk7+GuBwkC9gsk191EBvRj\n",
       "stsbhACwOAcAR+OX1jjePYQAAAAASUVORK5CYII=\n",
       "\" style=\"display:inline;vertical-align:middle;\" /></a></span>"
      ],
      "text/plain": [
       "{e in {2 .. 2^{t - 1} - 2}} |- (e - 1) < (2^{t - 1} - 1)"
      ]
     },
     "execution_count": 110,
     "metadata": {},
     "output_type": "execute_result"
    }
   ],
   "source": [
    "# this needed for the integral-bounding step in next cell below\n",
    "e_new_upper_bound_simp.add_left(Neg(one))"
   ]
  },
  {
   "cell_type": "code",
   "execution_count": 111,
   "metadata": {},
   "outputs": [
    {
     "data": {
      "text/html": [
       "<strong id=\"integral_bound\">integral_bound:</strong> <span style=\"font-size:20px;\"><a class=\"ProveItLink\" href=\"../../../__pv_it/theorems/f67ffeb951aaff9cc5f02f3801926b572b231a930/expr.ipynb\"><img src=\"data:image/png;base64,iVBORw0KGgoAAAANSUhEUgAAAKwAAAAYBAMAAACVRAuIAAAAMFBMVEX///8QEBAyMjKqqqpUVFRE\n",
       "RESYmJjc3NzMzMwiIiK6urpmZmaIiIh2dnbu7u4AAAAMEBwRAAAAAXRSTlMAQObYZgAAAAlwSFlz\n",
       "AAAOxAAADsQBlSsOGwAAAe1JREFUSMdjYCAZMBVAGXxJDFQE72GMnpPUNNYIzrIkTSPfKjyStZNu\n",
       "4De2uACHzkPr8FmqTMC1HK4PsIoz/2NgYN+t2oApU70pgoHhH25jIbpYHbAayzuBgaGUgfcXhgR7\n",
       "AMP9BVwCDByhQBCOxViILpB+HMa6MzAIYkiwFDAwCvA4vMDpWoguVGN5ImdOghsr/4DBHyPoGf8x\n",
       "sHznPnAPp7EQXSjGcuk8QHKtJwODP0bgskxgYPnBsQ0mXqt/B00BRBfYWL47p8HmFT1ADgQgmI8t\n",
       "gDg/EEic86H6VzZwXADx1eEy3ArgdPIHm67+A/hNBeniEQDG7jcGngUgAQW4VGEC2F1Yk8kUAo4F\n",
       "6WL/DExkf87cAlsjOXPmzKkgVokWWMFWbLq4A7DkSc2ZINCA0PVEmYEf6ig+uAaOraBQZsPq2BQC\n",
       "joXourSAgR8WWIhUAc4ltgzsmHmb+QJDOV5jwbpAuZQTGF8GIJEzKNkBGI08mFm7l4HhHN4IA+vi\n",
       "BUYZmwLDa7CzmAyQja3cvXsnpHQFRiXfJ2jmnb179wR8xkJ0gRPY2TRIMPC5rkMydv7//xCzODcA\n",
       "idnQaP7//78C3kQL1oWaebmuImVeSgCeooYGxoJyCSWAG3tAgXIJJeBhAnbxamdKTK0F6gYAv0eE\n",
       "w3ELTC0AAAAASUVORK5CYII=\n",
       "\" style=\"display:inline;vertical-align:middle;\" /></a> <a class=\"ProveItLink\" href=\"../../../__pv_it/_proof__fail_ineq/f53e14182b40d3967cdb524fe6a6d25aed2162880/proof.ipynb\" style=\"text-decoration: none\">&nbsp;&#x22A2;&nbsp;&nbsp;</a><a class=\"ProveItLink\" href=\"../../../__pv_it/_proof__fail_ineq/a12931226226ab29030ff04627302b421c32029d0/expr.ipynb\"><img src=\"data:image/png;base64,iVBORw0KGgoAAAANSUhEUgAAAOMAAAA/BAMAAADgXGIrAAAAMFBMVEX///92dnZEREQiIiKqqqpU\n",
       "VFTMzMyYmJgQEBDu7u7c3Ny6uroyMjKIiIhmZmYAAABumYecAAAAAXRSTlMAQObYZgAAAAlwSFlz\n",
       "AAAOxAAADsQBlSsOGwAABGtJREFUWMOlmMtrE0EYwL+8drPbJql48NJSKSgqSFOEqqCm4EW9GISi\n",
       "l9r4QESU5g9orYogio8UET2orQdFPDS9ekoQqyhCU0UoSGk8SbW2tbbpM8bd7mZ3dnd2d77kO2Qf\n",
       "mZnfzHyP+b4FkOU3mGRQvYrbwV2ED4CWUNb8pke9nt3L0v8zHpkZMM/hQJt6x4T01mGJwg3D04b2\n",
       "FETBgnyYtR/gOhYZNgwWhnBUyII4PT39i0By41H7EQ6lkMiuBPkUGRIL/nzSskq/A9KXRyKHDU98\n",
       "SiyIP1TtXrraxoL0r+CIlvYe6uBOSHiDQ/o26/eBBunnTMoZSfn/aMIRwZkMv6tNv+/IJC3uf7pJ\n",
       "kgENKZwcsSKDjsp8MLVsfNFJzGb5/JAUeV45r3LCigzPOscaI1L4R+yrtMfi1nOTaGTNIgbJFwgH\n",
       "yUl7VCrRpizW/8nZI+E2BuklAJkEi73RkDMDCGSEMNgZqBR5NIlAZoiYvK9iZDqOQM4MUS0JiQxe\n",
       "QSAJL/MvVoz0LiOQfwnvKlSMDM2zI8U5IvTNVoz0/2NHkm37o0zIRopDcHNOPTyGkyNUJCw9zkJs\n",
       "vzds9Qjhr0OPwIm142R0JJTQmMMmFBfvwkbFAErsnbyEyYwMoTO1eeAVA4gRCvZ/dOxTS2xzCZvC\n",
       "QM1yOXMa0RXMH3AeJ6gbE7eEXqSUQPgUbTRrOxRqcZl5RHcMfg6NrM1DWjkKOssHfd9+t04EMvAH\n",
       "CXzeIGUUvWBAPt0NCKRvHqnIW9CcgmNqqFYc58Fb9379OjKCTA0fJWEK4I4BGWBB6kdAF0O8i5QU\n",
       "mVVO1xbgVow+Pbjb3NQksyRyIotb5TUQViF0xRRG3M2HQHbi0nyhKIcBbzxlilwYJ4klcch5CGSP\n",
       "RJJ1pC5ZQgGBLCUYWXI5KMlOOJjPR17nzEjwv2NEcqyRWS4H1x1i9EJHgv9u9EsGCWpI/xpTiIsl\n",
       "5HLQ8p4NuV7O+LQY62ELPr3r5aDldTODVtRyRj+8vKtMyCl6ORhTTpL7u2RpdcxhwquUM8VJ9tPL\n",
       "vXvsaVNoEZf5yHtK+xq0xI7kNQ1mmDIfOQmglIMiLffpG5+kIWsWNLtgigRSPUgrB/VhiHetcIqG\n",
       "FNbYiidN4zlqOcgXKXVKEr5RU+BY+XEP2xcb+sRoiX7z+KicnTwmjFhBaoszbI3QbYMcs8lIKAff\n",
       "gl2iX1YhZ6iBLn2xQW4R6HGTYu5FO2RaPbJCxpzgoA1y0UPfb8qXwxYpiFKRQXV+Aena15N0Q64+\n",
       "oTscJd51g/CTWs541KATrAOhFeJuyMv0D6HbaPXWph56OSOqW55JQSD+zHWVNgF7AdX8k/xTD+3S\n",
       "Qn8cBk7+lrUDi+QLqOa98v42cTclsxtwNx8bH4mimvfL2nn6VcJ526CuMmQalzaFtRxP+N1TPpWe\n",
       "jTRgxmjEpaNCEaoV9BBjVSPDUWQHX65aZBpbftesVItsR/eor5LI30R38Va5sy8TeINrrQ75voI+\n",
       "L6pzEZzx/AfMy24t4Ckw9QAAAABJRU5ErkJggg==\n",
       "\" style=\"display:inline;vertical-align:middle;\" /></a></span><br>"
      ],
      "text/plain": [
       "integral_bound: {e in {2 .. 2^{t - 1} - 2}} |- (Integrate_{e - 1}^{2^{t - 1} - 1} (1 / l^{2})\\,dl) <= (1 / (e - 1))"
      ]
     },
     "execution_count": 111,
     "metadata": {},
     "output_type": "execute_result"
    }
   ],
   "source": [
    "integral_domain = bound13.rhs.operands[1].domain\n",
    "_a_sub = integral_domain.lower_bound\n",
    "_b_sub = integral_domain.upper_bound\n",
    "integral_bound = boundedInvSqrdIntegral.instantiate({a: _a_sub, b: _b_sub})"
   ]
  },
  {
   "cell_type": "code",
   "execution_count": 112,
   "metadata": {},
   "outputs": [
    {
     "data": {
      "text/html": [
       "<strong id=\"bound14\">bound14:</strong> <span style=\"font-size:20px;\"><a class=\"ProveItLink\" href=\"../../../__pv_it/theorems/f67ffeb951aaff9cc5f02f3801926b572b231a930/expr.ipynb\"><img src=\"data:image/png;base64,iVBORw0KGgoAAAANSUhEUgAAAKwAAAAYBAMAAACVRAuIAAAAMFBMVEX///8QEBAyMjKqqqpUVFRE\n",
       "RESYmJjc3NzMzMwiIiK6urpmZmaIiIh2dnbu7u4AAAAMEBwRAAAAAXRSTlMAQObYZgAAAAlwSFlz\n",
       "AAAOxAAADsQBlSsOGwAAAe1JREFUSMdjYCAZMBVAGXxJDFQE72GMnpPUNNYIzrIkTSPfKjyStZNu\n",
       "4De2uACHzkPr8FmqTMC1HK4PsIoz/2NgYN+t2oApU70pgoHhH25jIbpYHbAayzuBgaGUgfcXhgR7\n",
       "AMP9BVwCDByhQBCOxViILpB+HMa6MzAIYkiwFDAwCvA4vMDpWoguVGN5ImdOghsr/4DBHyPoGf8x\n",
       "sHznPnAPp7EQXSjGcuk8QHKtJwODP0bgskxgYPnBsQ0mXqt/B00BRBfYWL47p8HmFT1ADgQgmI8t\n",
       "gDg/EEic86H6VzZwXADx1eEy3ArgdPIHm67+A/hNBeniEQDG7jcGngUgAQW4VGEC2F1Yk8kUAo4F\n",
       "6WL/DExkf87cAlsjOXPmzKkgVokWWMFWbLq4A7DkSc2ZINCA0PVEmYEf6ig+uAaOraBQZsPq2BQC\n",
       "joXourSAgR8WWIhUAc4ltgzsmHmb+QJDOV5jwbpAuZQTGF8GIJEzKNkBGI08mFm7l4HhHN4IA+vi\n",
       "BUYZmwLDa7CzmAyQja3cvXsnpHQFRiXfJ2jmnb179wR8xkJ0gRPY2TRIMPC5rkMydv7//xCzODcA\n",
       "idnQaP7//78C3kQL1oWaebmuImVeSgCeooYGxoJyCSWAG3tAgXIJJeBhAnbxamdKTK0F6gYAv0eE\n",
       "w3ELTC0AAAAASUVORK5CYII=\n",
       "\" style=\"display:inline;vertical-align:middle;\" /></a> <a class=\"ProveItLink\" href=\"../../../__pv_it/_proof__fail_ineq/9cfd126ef83dd02c8009947650037ccc14426f990/proof.ipynb\" style=\"text-decoration: none\">&nbsp;&#x22A2;&nbsp;&nbsp;</a><a class=\"ProveItLink\" href=\"../../../__pv_it/_proof__fail_ineq/9e1746a4dce95e47427cec238814302d19de59190/expr.ipynb\"><img src=\"data:image/png;base64,iVBORw0KGgoAAAANSUhEUgAAAV0AAAA/BAMAAACx7QZhAAAAMFBMVEX///92dnZEREQiIiKqqqpU\n",
       "VFTMzMyYmJgQEBDu7u7c3Ny6uroyMjKIiIhmZmYAAABumYecAAAAAXRSTlMAQObYZgAAAAlwSFlz\n",
       "AAAOxAAADsQBlSsOGwAAB5JJREFUaN6tmmuIG0UcwCevTXYvLzm0iC2Jr6KC3OETP/TuxC9+KFxa\n",
       "OWylevFB8UtNQMUK6rW+qlXbaPEBahMrivihCfhFQbijtaggXmyhrWi96H2wYpvk2mti73oXZ3dn\n",
       "srOb/yQzl8yXbGZ3//ubmf9zdhHS21kEtnDR0XGQ/Go3os5N/ZEcfJRBvW2hKbj/d2fH8+T3sbtE\n",
       "xB6l4uM95p3Mgd19C85xDY2QIyFed5QcXN1bXHUX3P9Bmr3osrEMGkQtvOpzfLkvU0EjPeUNc9Th\n",
       "jO0iFB5Up5BWLpf/ZXm3HeMLvpcorvf1nvKmkmC3UmP/RQpazVtKt+rDPXzBnhI5GOop7xG4O5hg\n",
       "//kzWk37myj6tp0jIrxeagCjOa6OJ0Up38k4pTqa8yGuQfCyNrzoEB0610PcLzyrCl1TT9z+n7Zb\n",
       "mOMN2BM/mmnPq7Q6jVEye94aB8JnuBCOZIdA+qCUsbbvnrnouHqeEftbvSVGKNfgdpMlpkUAbgGq\n",
       "wHs4vLpzUR+aBnmdAl1EP8eJc3U8zldlLPK9N3Bs+7L9/IZaecNURgXG1XYbPzPw/DoF3ml6yWX4\n",
       "bLZkHW/Eotdu/Ueat69OI1IadiBFGV7TPfpr8NkJxnKX8NI2GlVI6CfTa/i86E2qGLCL345keIPG\n",
       "DLqr8NkBZppqQlkIwFshPiYM+6CdUrxmfhCJw2fPAWoozTtK9MBbb3eHIK8ZKCaj4Nm+OUbNplbK\n",
       "myc2rV0A1TchxzuqX1cpgGfDi7DpyfEGdpCD19olAqK8Wd08qfNznA1ebF1VeV437RuAkDYhOV63\n",
       "HmHPw2cjTPStJFfKG6JBZwZKKV+R5PVjg9POwWfzTMgfRivl9S7TJQJUSqlL8qp1RqLL7nKYB6jn\n",
       "hXhdgM9S6GykgIwnRG+I5QQF4gUJLZHwu+mSLVeasWpN7wURXKcA+1CzQHLnJsY4tvdIWkzgtdgP\n",
       "zMOPr1gK51qSzaiVH0quYUPpG9QcABcekK5DY3iQnNg1YNlYcFG6BIiMoAlT9YlqelhdXJ+TcJO2\n",
       "HKGAgpxsfdrSqchF+Yo7Q6o/KoZ9zJMkcUoVpSu3IgpwYPZaNpvaIc3bj9A6c5lINHJba3TsSmrS\n",
       "0mUzXpEIJzdoMKsgv9/xM9JMPRsnTD5qJmp/EcoABdUsIcI7HpWTqm04Po/8VZBXnbVcwUxOmjcu\n",
       "wjssuW5f53AY9pmLUiF4YTM2qFsYWTHpfTWcRmdhXpXhbcjNg7pL34EJFCFexPJWpHk9gyhrGlOk\n",
       "oTdDp43kUf3PcqYNAUkN0sxs2RNFKXOQsaLdh2uMPowzt1abT27AzeTdQXmdmzIMb+iS5KLFUbaA\n",
       "TiKQl7W3cd52EH9+AV4i1uL1LUs6naIeK65XYV7Gn61IHzrbm6cuyTuCtnhzdReov2y8iOVWYG+d\n",
       "eSM1QWlvX77ZCA1F71AYLX7M5UXrTcc7I+1/AyL+N1UVlFZCs4YqPXjFZ8fRC1E4XnB2DAT9bwkF\n",
       "CI1WPmS7fa+VCQtVm/01tIjyLQTteEdJrD54Zq3gVl822kycDiCXLQ0bbhpDTCi84Xj2LMBL0zwo\n",
       "DUyZuqLFUazQTrS1kYbzHSroAUcNa+WTAwURXmOTvr+le5jYlMfMz9RbjZakq2tMfc4qoztUWjhD\n",
       "onU7zsfGWXutFIBMrZ2rKYI7qlStAoARkG0NnCH6FsR4ccYRIoZ7H9Y1djVn0nLVm64KB1pHRt14\n",
       "BJhBn9nnG0S+mhgvjjD+ObgMnqBa2ydUvekhQitpTo+q0cHmgfrN30y9Pezsq2v+yHB4X2RxFFuZ\n",
       "NknfXvjFwsVGPL1bn3BOcFP6ZAIw+3mmbrDaV0klCvNqmFC95NzNIq6DerHwghDvW1hXGy2ZkZ/O\n",
       "wUSxzX4Jup1dkjoKFWBefb/E0oK/7MZQtXIMkYoYHlW41m6L6DS9ii1g3EunrtK14rDlSSivT1cq\n",
       "ukXrt69Yc1ojtv73OcEjBI8qSEc9DValZB6fdtQ8PHuL6Is0QRzB3chmLU21TbF7Gcop+KUWcidA\n",
       "r9fchQOdDEkgvVH21UikyOWd0J+RN2/COh5iH6ktg1WWl8MbSYNRMEV6lTkwJpocDyP0KzMIfMsI\n",
       "zGuoecAk+LRcnrVd9BJqOmZ11YmOvN+Amwk0BQvBDtZ4H6ANlcuMVP8U2p8DN9LM9wEuE3640bDX\n",
       "EbQaxDL3JX2deP1/gt03OLbKnE5bf4YHVzusVfzyTBHeSHMnqFMDA5Z5Vx8ezpi2qhMvp/Sk7jeb\n",
       "gM1Raqdg0pzBn+CzQX3MrikfftKepzLoEf11Zk6Sl74r46W6ym4ZabcRWXBZYjhnd/xxPKiFzvbG\n",
       "GTO9+jDngqMSwuj72Cy8KKpu0upZnGei65BrZbz5dDNmwc0noRDf0sjACWCnm0f7T1B/o62ek9lU\n",
       "jNGp4ZZU3wnLUujnVuoSty7vsjUl80WJf69hfRV2UirESrQwVZ5Z1Mvm4Yx+XbeC8yQ/0BZ7ytvH\n",
       "yRgnc10KHqNWlegpL1rNcSBT3Yn108+4tvf4g0Q3RyFu7k7sF8SWtFd7i4vUO+D+fcmuxH5Po0a6\n",
       "x7zoc7hb64pXpVXNhz0k/R+lrnjIJO31QwAAAABJRU5ErkJggg==\n",
       "\" style=\"display:inline;vertical-align:middle;\" /></a></span><br>"
      ],
      "text/plain": [
       "bound14: {e in {2 .. 2^{t - 1} - 2}} |- ((1 / 2) * (Integrate_{e - 1}^{2^{t - 1} - 1} (1 / l^{2})\\,dl)) <= ((1 / 2) * (1 / (e - 1)))"
      ]
     },
     "execution_count": 112,
     "metadata": {},
     "output_type": "execute_result"
    }
   ],
   "source": [
    "bound14 = bound13.rhs.deduce_bound(integral_bound)"
   ]
  },
  {
   "cell_type": "code",
   "execution_count": 113,
   "metadata": {},
   "outputs": [
    {
     "data": {
      "text/html": [
       "<strong id=\"bound15\">bound15:</strong> <span style=\"font-size:20px;\"><a class=\"ProveItLink\" href=\"../../../__pv_it/theorems/f67ffeb951aaff9cc5f02f3801926b572b231a930/expr.ipynb\"><img src=\"data:image/png;base64,iVBORw0KGgoAAAANSUhEUgAAAKwAAAAYBAMAAACVRAuIAAAAMFBMVEX///8QEBAyMjKqqqpUVFRE\n",
       "RESYmJjc3NzMzMwiIiK6urpmZmaIiIh2dnbu7u4AAAAMEBwRAAAAAXRSTlMAQObYZgAAAAlwSFlz\n",
       "AAAOxAAADsQBlSsOGwAAAe1JREFUSMdjYCAZMBVAGXxJDFQE72GMnpPUNNYIzrIkTSPfKjyStZNu\n",
       "4De2uACHzkPr8FmqTMC1HK4PsIoz/2NgYN+t2oApU70pgoHhH25jIbpYHbAayzuBgaGUgfcXhgR7\n",
       "AMP9BVwCDByhQBCOxViILpB+HMa6MzAIYkiwFDAwCvA4vMDpWoguVGN5ImdOghsr/4DBHyPoGf8x\n",
       "sHznPnAPp7EQXSjGcuk8QHKtJwODP0bgskxgYPnBsQ0mXqt/B00BRBfYWL47p8HmFT1ADgQgmI8t\n",
       "gDg/EEic86H6VzZwXADx1eEy3ArgdPIHm67+A/hNBeniEQDG7jcGngUgAQW4VGEC2F1Yk8kUAo4F\n",
       "6WL/DExkf87cAlsjOXPmzKkgVokWWMFWbLq4A7DkSc2ZINCA0PVEmYEf6ig+uAaOraBQZsPq2BQC\n",
       "joXourSAgR8WWIhUAc4ltgzsmHmb+QJDOV5jwbpAuZQTGF8GIJEzKNkBGI08mFm7l4HhHN4IA+vi\n",
       "BUYZmwLDa7CzmAyQja3cvXsnpHQFRiXfJ2jmnb179wR8xkJ0gRPY2TRIMPC5rkMydv7//xCzODcA\n",
       "idnQaP7//78C3kQL1oWaebmuImVeSgCeooYGxoJyCSWAG3tAgXIJJeBhAnbxamdKTK0F6gYAv0eE\n",
       "w3ELTC0AAAAASUVORK5CYII=\n",
       "\" style=\"display:inline;vertical-align:middle;\" /></a> <a class=\"ProveItLink\" href=\"../../../__pv_it/_proof__fail_ineq/a82a109711457acdb48571885e94f296cd43970e0/proof.ipynb\" style=\"text-decoration: none\">&nbsp;&#x22A2;&nbsp;&nbsp;</a><a class=\"ProveItLink\" href=\"../../../__pv_it/_proof__fail_ineq/e3f009102be56401de6e546b5d78472ea3e116420/expr.ipynb\"><img src=\"data:image/png;base64,iVBORw0KGgoAAAANSUhEUgAAAscAAABMBAMAAABzMAcvAAAAMFBMVEX////c3Nx2dnZERESIiIgi\n",
       "IiLMzMyYmJju7u4QEBCqqqpUVFRmZma6uroyMjIAAADVePneAAAAAXRSTlMAQObYZgAAAAlwSFlz\n",
       "AAAOxAAADsQBlSsOGwAADkZJREFUeNrVXH2MXFUVP7Pz9eZjdwYLMTGrOzEgxEZ3mwqC/tERIYBg\n",
       "On9YrALuRCwmhmTH+FFAbMdPQkB2+UhoA2Q3RP4gGGa0GsEaZ21pqmbtLooRQuKuGiOI0N2l3d1u\n",
       "7T7vfR/33XvfPe/Nm7k7xpPc9ux5b94993fPPefcj/cAKL0JanrTx2w6xXYHXd0kPS6oo4w2yjdD\n",
       "5NgNm0FbO1C0W+proow2eroeIn+63juQM7XoinZNj+KMJjIeDZEbj/YOY+hfiqxo9zRfRBlNlFsI\n",
       "kStuyEo6JPSpc6gdRWPTDrNFi3HnRlBGE43NhcgVN3yT/+Me0vhpbeoMTbWhaLps/596SgvIsXWU\n",
       "0URvhcn9NxgsJNKGXlUB+IM2deKVNhS9+ncOk9Tjpi/FGS2UPRciV9yQd20qbt1AYBnQFpNSp0IU\n",
       "/fbW5yAJekEeK6OMFhqohMgVN5A2Ghdfw4PcN6VNoStCFJ2GY/AAwODMzMycLpDjEyijtxNDO9ej\n",
       "9wB8r5rjQc7qc8qNqWCFzsFQ9UdpvZacXUcZLdSqh8gVN/wR4HDsYh7kfn3RuLAQrNAdBOTBLzu+\n",
       "5br366l0A2d0ZMlvh8iFG1LbCW2DZwAev6sOR7dfsX17zQI5pQ/k3EqYohfpz5RbVZTRQOn1ELnq\n",
       "hlsBlsTAp9Fd9C+HKJravQnTkRLK6HD5ayFy1Q0k8H0E+niQExqD8ZkQRfVMQCQfNYEyfk3atvHv\n",
       "OJqOI8kFk6tuiBfh/muudUCOfXC5TCXaaEc1UKHYdKyoHeT4Csr46Oftp6POmNvvjIo9knm4co/h\n",
       "R3SJz5OtPotabwDtVA5UpseW226Pasp7Qn+QWEYZX8woBT1SlD/l+HdrXmH88qT0o9aczPD0a27G\n",
       "JwjC6L4Ta+FJpTK9YHpMmmbE2O5rnKLvN1BGpn0Bj5TlzpLppGs+0o8mfYzwY+nu9Fy7LU6Eg1xQ\n",
       "3jLZhTPYGW76Zh1lpHWOBwMfKck/bUF/Wn2RyRkjklSFARpBHlBN9BE9tIF8cg5lpKBfjgKytQSe\n",
       "fVt9kcmzb+uNMG2AnFetXnSlRxsgz5ZRRqQ7IQrIAzS1zS+rLzJ5frnnIKdVeHalRxsg7x9BGZEe\n",
       "igSytQcxsI70wLrM9A7klCpR7kqPNkAem0AZpf5tggxvkJJZUV9k8sxKz0E2VNlDV3q0AfL4IsqI\n",
       "LrkZDeRGnYvk0kUmV4X6AZOjsnaQwawGphwnudpP6QK5sIIyosVXo4E8TvAZWlRfZPIhRX9mTaf+\n",
       "b730vDmhH+TRKb+M06PhdILx7usnz+gCObmOMgI9D9FAphs9jYr6IpM3VNPulpdPfW1dP8gnFaOD\n",
       "0yNnMj6t6o+OQB44hTICPRYR5DSJfDsX1Bc9uWr6lTS9wx9H9YPcUsyreT1Gz3pJx4gmkHPLKCME\n",
       "5dWIIBvkB8OuksPioosnV7UiZa56zYy2WtO3FH7PrOL8Dq/HmFmDSPP54XAd82dRRrCRpZBH+uTE\n",
       "9FtOew5PviEc3XHlHiP2l+k9qxYF49zzG+GLWMOK0cPrkTC9nkq3UancOGXnb6CM4GIngh/pl18K\n",
       "sGNaXSeTq2+ImxXYPBquBChk/XFae519p1FGyCQj7wANkxiDgMzk6huMyf9sIsg7JwIUonSvOa27\n",
       "zsQZlBEyssgV75+D0RKSRZVkRqR5c2rzQN7P0rU/+xWyJqvmuu460ybKCGlyOeqDyS8mEZCZHLmh\n",
       "zzzQC5B/6FfIHoNn6j0G+Vk7CDUi2xax/UmkZ5gcu+HkxuaB3FCBXBbnnAua68yaKGNNB37j9H81\n",
       "6oMLTZhEwi6TYzfca5Z6C3JNjAnLPQX56kvccBF5e7EwAiaCIZNjN7Cp9SbQvAJkSY+GWdVbZ7+J\n",
       "MmBcxIbRcGQ3lVkALH4xORrgZrW7RS9WrClAFvXI644JKXe3yc/EjnkdPBu50ckK7LV/ZK1oUfsx\n",
       "HFe7133YXuypSXz9zeyYbBO+x27UsV27Du7adZNaj1FpZaHQeaW2te51zdbH/Irr3xaIeI0vBDTY\n",
       "xmkCTHkj62bnKa7cxLZIY6ehp5Ys6TFU6ZklK0D2TC00b6Ygd+wuEg/C/9BdwHXF/x930TnI85oj\n",
       "j3W42wF5MRTkfj1h13jvYQYpYIwQ+CL3LQl8HadwKe1zLnq4G88uJD3G9Ew485CvhGcXYFx9rZvC\n",
       "RTatTDd5clk3yPRwd7sgG4/oqbMwF1tpA2QyGbmk48nINIwy3W8Xg3dNZiT6t3ZPfEcgyKIeA5oW\n",
       "iNL1NkGGfc602om/gycuC/Hx7pm/8RK303OTOGsuy4xI8RHQT+7h7saEf4FI1GO7tjr7HHeRddfc\n",
       "/Izgpuy+jo3AcODJNO/M31gZdriT44QIMpPvUM+ej3lRVukdi7hsoOgXF4XO369aT+b1yHtHQ7Nc\n",
       "UqlKNJ3//+oX25fcU5hpNyP1M9Lgp5QrQiZ4B5ltszWmoOWOuy++IdzD5C3lwEx7+VtaBXJiCpeN\n",
       "84098XDxJfI/Ld7hbtW+oqDHnV4/3eVJP6FQxJEZ/J774Ovb+sm4oAVil7vabaCMkJDZqmXWILfU\n",
       "Hsg7i952WkkEmclnmyH529Oq60+Ssb/il1me7Fl+sMKr9QQZgbR4h7tV+4q8Hlz+lvXsKVuCvlEp\n",
       "LhFZbObvVcjy3Vbqfw7o+3G0DMJ5jibu2TA/w1POri9XwV5t8YHc8tqTKIogB2+kci/F3q/aIjFI\n",
       "m9KLPpnlyd7xufdxOlPjfc0u3uHuWcXo4fXw3gw2uFsfoI5G+hWRbYG+c7GL/sahT9Nx+nInKbHL\n",
       "bnPWMPNuO/yMMITZPCnJt8+48IY6AvLDRCuni98JIsiu3GOU+VvsGeViXJ4YZn7BJ7M92b94Vah9\n",
       "3m0X73D3DkWw5fTw8rd3tbjFuOOknJB+RWQ/BjgIA7z7up6CNW2VjLtcAnF3LcTPqKcHwh7Jn6qp\n",
       "khrkGHnKvDPcShLIrtxjhNzjLYv+8RnTVO6oZoCd4+VltifjD14YVOdM3S7e4xUendNjYMOufhfp\n",
       "Fi440Rs+Jf2KyCbr0CoW+MeP08cfcAp76DrKCPSYKhuLrUJiTg0yPdzinH5KFyWQA49p5fmlJlUe\n",
       "Td3uUNUnszxZv9BrO+iwrdnFm3goMn5Oj1mudu/8B3W7MWlYUdnP6Ct5rwjpJ23/P53CbGAFZQT6\n",
       "rYsB70bjp676gOWddlG6kQeZtBkKdow8HySQC0syE4WOKNzjEceTJZrf94TPNEbsFyuE79GoXiQI\n",
       "1SNf8seBvD2GR+F6w+u37C9oRNsK4qd4/Ccs1W9VzDsW+w1BuSYa+ApkQCftVwdePXz4zE+EVOWc\n",
       "zEQhaiKHFDLqyfLlS7wwspBbo//ahQ0+1SwgVA86FuRPgdjjI3UKXuBectlnvUC8D+zCRsoEyqjW\n",
       "Nknach4HchkFeT+pK7fqcza2la/KTBT6LCmPKGTUk6WOe0Y1VMyu2GkYl4pBvypBDdUjSTxtpuyX\n",
       "WUeKb/+614VL0KjamSeffc4voIwqvfg8wLVcPSXfnMwFmbruBMtTxKyQyROdnGJ5gpjPkuSknhA8\n",
       "mb0DcwhSBOTUol1Y3apN0lA9MmQcjxXFSjPW2GZHIq1KibXTM8ZjYBeX2MuDfkYk63WG2M0zM1zE\n",
       "J+Pwfmke65z5s15nYFZz1PypsF67EWRWbYCcmPDLeE9m7cCsWuDSUMiHw5wqrIfqQQG9TiGDdFOo\n",
       "tFCzwH3FKWxGOYUyUi5JHU+SxFze0K/cK40h98xfnFZuIC8eMrlhduYu4s26312IngyMFcsXWy/A\n",
       "c3aRXAtSKMhdfNRQuIsnQXhNeLxq+eKngL0vagfHOspIfr4UBYl56yGjyFI/k4+iewGDrpe7XL7y\n",
       "IWowJZ9M8mQAK9YsIT1iFwbDBKqQ0VJcuceyqTixpdU+aa2QyMgsIcHDVaha06GvOMXtwzMoI09H\n",
       "HoxobnS6iqwXM7nN3CcmR9a2zVedP760W2ovzY0KL0sDaKvPkwFcSL+cYSVaea5LGk1coWelHA2c\n",
       "D03ZSeC570qOkcgumJk5JsjK2aaTUR7hMuqzKCPTx6MspNpNmUc+mMjkNpNdkBqXryRudp3Wbqm9\n",
       "sIeY5hHpgXv8ngz6rqLYJufsAoHO0NZDeir7FASpm/x7tzR6qGzUNEV3fuGV9N9bnCLHAT/jy3Mi\n",
       "+Iu/OLFhEYkjiwKTF59sbdswo9wttReSiimbSmbTBU5hE74AhRgu0oemCN2o+NGNWJ2xil2Q5gYA\n",
       "A8LiSzClXnNsElmxY3KbSYpTc7ptQ5fVZmZmfq8AOa1YRktPY6ocd4qr2VlcIWMR8vQLPR+WPzTl\n",
       "rDPJdDc6P6zZhS33NFHGR/FquyA/4AQD5GM0ntxmxt3GsZFeyU7XMEuGbYonbsOMasQuLCNexxXy\n",
       "vJb0oSkA5XdN0G+dbHEKS5OnUEYHHQyTH1QEHLptEzvutOALD03JIKu+MYJ9d4QCwYMxMIEr5Hkt\n",
       "6UNT1MoVK98GthW5Ter113FGB+2cC5FbDAs4t1KDLvrSNrG9EFOsCKtklD7mFDZyS7hCyZfdEbUE\n",
       "vuFzvuJH56uflSjahbmoZZTRQoVmiNxibqmL7mJQmFX42tsNYR+qo3oU2OdtpQ9NdUm5NZTRQn1r\n",
       "IXKLWRTN0Nu20Q6ycTZA0fwn3b+kD011SeNNlNFCxnKI3GJeEJ2Kt20jgKyjvYmlCIrGdfnMIspo\n",
       "qqAeIm/jpVmN7c1MR1A0r6nSx3FGDyVLIfJkW1Oc/Cb3ebt6dDR61lBGE2WXQuTZJegdGauRFe2e\n",
       "xmsoo4uOhsmP9hDkoI/Jb5oeh3BGm7+ohciTtd6B/Eo9uqLdUv8BlNFGqQMh8tSB3oF8SweKdm1l\n",
       "cyijj14Mk7/YO5c814miXdIPcEYH/Rc2acJp0giXCgAAAABJRU5ErkJggg==\n",
       "\" style=\"display:inline;vertical-align:middle;\" /></a></span><br>"
      ],
      "text/plain": [
       "bound15: {e in {2 .. 2^{t - 1} - 2}} |- ((1 / 4) * ((Sum_{l=-2^{t - 1} + 1}^{-(e + 1)} (1 / (l - (2^{t} * delta))^{2})) + (Sum_{l=e + 1}^{2^{t - 1}} (1 / (l - (2^{t} * delta))^{2})))) < ((1 / 2) * (1 / (e - 1)))"
      ]
     },
     "execution_count": 113,
     "metadata": {},
     "output_type": "execute_result"
    }
   ],
   "source": [
    "bound15 = bound13.apply_transitivity(bound14)"
   ]
  },
  {
   "cell_type": "code",
   "execution_count": 114,
   "metadata": {},
   "outputs": [
    {
     "data": {
      "text/html": [
       "<strong id=\"bound16\">bound16:</strong> <span style=\"font-size:20px;\"><a class=\"ProveItLink\" href=\"../../../__pv_it/theorems/f67ffeb951aaff9cc5f02f3801926b572b231a930/expr.ipynb\"><img src=\"data:image/png;base64,iVBORw0KGgoAAAANSUhEUgAAAKwAAAAYBAMAAACVRAuIAAAAMFBMVEX///8QEBAyMjKqqqpUVFRE\n",
       "RESYmJjc3NzMzMwiIiK6urpmZmaIiIh2dnbu7u4AAAAMEBwRAAAAAXRSTlMAQObYZgAAAAlwSFlz\n",
       "AAAOxAAADsQBlSsOGwAAAe1JREFUSMdjYCAZMBVAGXxJDFQE72GMnpPUNNYIzrIkTSPfKjyStZNu\n",
       "4De2uACHzkPr8FmqTMC1HK4PsIoz/2NgYN+t2oApU70pgoHhH25jIbpYHbAayzuBgaGUgfcXhgR7\n",
       "AMP9BVwCDByhQBCOxViILpB+HMa6MzAIYkiwFDAwCvA4vMDpWoguVGN5ImdOghsr/4DBHyPoGf8x\n",
       "sHznPnAPp7EQXSjGcuk8QHKtJwODP0bgskxgYPnBsQ0mXqt/B00BRBfYWL47p8HmFT1ADgQgmI8t\n",
       "gDg/EEic86H6VzZwXADx1eEy3ArgdPIHm67+A/hNBeniEQDG7jcGngUgAQW4VGEC2F1Yk8kUAo4F\n",
       "6WL/DExkf87cAlsjOXPmzKkgVokWWMFWbLq4A7DkSc2ZINCA0PVEmYEf6ig+uAaOraBQZsPq2BQC\n",
       "joXourSAgR8WWIhUAc4ltgzsmHmb+QJDOV5jwbpAuZQTGF8GIJEzKNkBGI08mFm7l4HhHN4IA+vi\n",
       "BUYZmwLDa7CzmAyQja3cvXsnpHQFRiXfJ2jmnb179wR8xkJ0gRPY2TRIMPC5rkMydv7//xCzODcA\n",
       "idnQaP7//78C3kQL1oWaebmuImVeSgCeooYGxoJyCSWAG3tAgXIJJeBhAnbxamdKTK0F6gYAv0eE\n",
       "w3ELTC0AAAAASUVORK5CYII=\n",
       "\" style=\"display:inline;vertical-align:middle;\" /></a> <a class=\"ProveItLink\" href=\"../../../__pv_it/_proof__fail_ineq/90b361e9abaf7db9263817f72e8c381ce6bc9c5f0/proof.ipynb\" style=\"text-decoration: none\">&nbsp;&#x22A2;&nbsp;&nbsp;</a><a class=\"ProveItLink\" href=\"../../../__pv_it/_proof__fail_ineq/fbbbc772dc2eba863b8e26a0dd5285559c1fc1a80/expr.ipynb\"><img src=\"data:image/png;base64,iVBORw0KGgoAAAANSUhEUgAAANMAAAAyBAMAAAA0MfPNAAAAMFBMVEX///+YmJjc3NyqqqoQEBDu\n",
       "7u5mZmYyMjJUVFRERES6urp2dnbMzMwiIiKIiIgAAAAs9KwDAAAAAXRSTlMAQObYZgAAAAlwSFlz\n",
       "AAAOxAAADsQBlSsOGwAAA6JJREFUWMOtmF1IFEEcwOfWXd3VvTuDwIrCpYcgesgHwYcIRQj6eEgi\n",
       "Sp/OohSK8CIKXyoD6YMePHzqofIegp6i88GIwu7eQ7ywQiLhejAQOT2NSyo5m6/dHXfnbGengbnd\n",
       "mZ2b38z/Y/4zA0DoZOSCtuzpAnLpTuCW5ic5kp5Bv1NVBry5/rAcqglm7e5tLspb3zAkQ1I68WO5\n",
       "yqw89R9kUNGCCKpVxjC2AxFUXa8E6oQQqn41PClWFkKBQQlVDYmh2sMrazonhkoUQqOGgRjKyIdG\n",
       "HRVERULbhbkiiNLgH4pfOeY1RzRhkXWBZ4D2ILMWH+Wrh2J4w2vYkMb9tRCf4GjU6CDP+ycHG3kd\n",
       "+OufENTCxqMHN7p8qEO09M3flZoSFXmWzmoNjvOIF6Ul7VXFr4+E8ELTnMYoswJATcWLqrVFEPH3\n",
       "Oy3sJvAfCBVbh/mPF6U6RWbCbUTd7S2iKCgHhDJKMK97UW1O8arztuciFUdOFBUfwqh4yiMSjLqM\n",
       "9PXuO1TUa7u+OGG7jSWMSmEUxByY8Rk7msuLnJkhsR1xJ53hZIVXTzWJUcsP3+4C9a9QR5G8NkZR\n",
       "EK6sgBh8bSWufMV1lQFhVDSPUWN4hqeQ/M0COEhRx6ECK0t41rjxPcYURshjA6USUnrSKfoTQXVg\n",
       "1Bp6P+3YiouKk6j0rBrKHfM//YygTGTn5sC4Mn4J9JQcFBRgvMBs4/6HAGO/yWT0jGopLuop/A5t\n",
       "As5lp98srHBmUVciKMUyGjUXBU08kgRnLGL2mFWct41d2K9U5Fe1Y78KREWLxQKDmoJ5cRv69MV1\n",
       "4YnQLtzrBpEEiDYa8wwqanenMMG6iS5MaVLc1/844MkgkWFRia7oEoNyVtlaf0iaJlVKCmTTW5G6\n",
       "+8ubl1ush5HzsXO7b3X/1AZ6abwapZ/2c8WBTyMWUDsC7RfRAr1FFO6hpVGO6ZJYppaBvhoMBVfN\n",
       "Sd7e4iNGKcS2YxzD1slc9DzQ14OhRsLumCJlZ34ldl+EAwEXdSz05uwHNx6TQMBDKRXpLSeYZY93\n",
       "JBDwUOG3nOCC7Qjs1okGAu3mHEo5FqWH30i/pKPf4Qnq1cwiHv54QKNGTQbsZVCFqqjm8IceaoLv\n",
       "AZhn+CQQ8FCzsgdU5XNfH6MEGgg2LQar0gdUIpEoDOdJppIEAtbVh9fwpY0hc3FRlxGyIpnLBLNT\n",
       "pPWM1MXPgkBbuYsfep0VLD2XvKS7FlzY1yVRwa8ez2Kj+AtYkUGiiZROHgAAAABJRU5ErkJggg==\n",
       "\" style=\"display:inline;vertical-align:middle;\" /></a></span><br>"
      ],
      "text/plain": [
       "bound16: {e in {2 .. 2^{t - 1} - 2}} |- [Pfail](e) < ((1 / 2) * (1 / (e - 1)))"
      ]
     },
     "execution_count": 114,
     "metadata": {},
     "output_type": "execute_result"
    }
   ],
   "source": [
    "bound16 = fail_ineq_lemma_inst.apply_transitivity(bound15)"
   ]
  },
  {
   "cell_type": "code",
   "execution_count": 115,
   "metadata": {},
   "outputs": [
    {
     "data": {
      "text/html": [
       "<strong id=\"distributed_format\">distributed_format:</strong> <span style=\"font-size:20px;\"><a class=\"ProveItLink\" href=\"../../../__pv_it/theorems/f67ffeb951aaff9cc5f02f3801926b572b231a930/expr.ipynb\"><img src=\"data:image/png;base64,iVBORw0KGgoAAAANSUhEUgAAAKwAAAAYBAMAAACVRAuIAAAAMFBMVEX///8QEBAyMjKqqqpUVFRE\n",
       "RESYmJjc3NzMzMwiIiK6urpmZmaIiIh2dnbu7u4AAAAMEBwRAAAAAXRSTlMAQObYZgAAAAlwSFlz\n",
       "AAAOxAAADsQBlSsOGwAAAe1JREFUSMdjYCAZMBVAGXxJDFQE72GMnpPUNNYIzrIkTSPfKjyStZNu\n",
       "4De2uACHzkPr8FmqTMC1HK4PsIoz/2NgYN+t2oApU70pgoHhH25jIbpYHbAayzuBgaGUgfcXhgR7\n",
       "AMP9BVwCDByhQBCOxViILpB+HMa6MzAIYkiwFDAwCvA4vMDpWoguVGN5ImdOghsr/4DBHyPoGf8x\n",
       "sHznPnAPp7EQXSjGcuk8QHKtJwODP0bgskxgYPnBsQ0mXqt/B00BRBfYWL47p8HmFT1ADgQgmI8t\n",
       "gDg/EEic86H6VzZwXADx1eEy3ArgdPIHm67+A/hNBeniEQDG7jcGngUgAQW4VGEC2F1Yk8kUAo4F\n",
       "6WL/DExkf87cAlsjOXPmzKkgVokWWMFWbLq4A7DkSc2ZINCA0PVEmYEf6ig+uAaOraBQZsPq2BQC\n",
       "joXourSAgR8WWIhUAc4ltgzsmHmb+QJDOV5jwbpAuZQTGF8GIJEzKNkBGI08mFm7l4HhHN4IA+vi\n",
       "BUYZmwLDa7CzmAyQja3cvXsnpHQFRiXfJ2jmnb179wR8xkJ0gRPY2TRIMPC5rkMydv7//xCzODcA\n",
       "idnQaP7//78C3kQL1oWaebmuImVeSgCeooYGxoJyCSWAG3tAgXIJJeBhAnbxamdKTK0F6gYAv0eE\n",
       "w3ELTC0AAAAASUVORK5CYII=\n",
       "\" style=\"display:inline;vertical-align:middle;\" /></a> <a class=\"ProveItLink\" href=\"../../../__pv_it/_proof__fail_ineq/1b5b805288cbd2a59f5421e0148c3715c317a8f40/proof.ipynb\" style=\"text-decoration: none\">&nbsp;&#x22A2;&nbsp;&nbsp;</a><a class=\"ProveItLink\" href=\"../../../__pv_it/_proof__fail_ineq/d2675fafeb3189ac0dca6b873d43f864c0a1e7130/expr.ipynb\"><img src=\"data:image/png;base64,iVBORw0KGgoAAAANSUhEUgAAAOAAAAAyBAMAAAC39cr2AAAAMFBMVEX///+qqqq6urpERESYmJgQ\n",
       "EBDc3Nx2dnaIiIgyMjJmZmZUVFTu7u4iIiLMzMwAAAAz/ewvAAAAAXRSTlMAQObYZgAAAAlwSFlz\n",
       "AAAOxAAADsQBlSsOGwAAAytJREFUWMO1WE1oE0EUfkk3u0l2s+YingQvns1FL/4FvPhzaEA8iEIX\n",
       "iiKCNAdvHlpFsIeCBQVBBQuK0mAhB6ugSHOT4qFBKGq1aS8iHqT+ERMbGmeym802eS+d6aRz2CUz\n",
       "771vZ96b974XANVxSFTQOgC9GGZaWPR7YTNL7eMFf9ifReyEitTeXz4QBtTG2ePtZE3IzhXSzE1h\n",
       "wHMOf0ZrQnYSaXXADyABGDqrDKhlZADhrjJgJCsFuMdRBfQERQFjeVXATyAFGKopAtprcoBWRRHQ\n",
       "zMgBwkFFwEheErDfUQNcSUsCzhFXf9gRDFJPzigL2ongYfpq4J5YDdjruXK6+kzMTl9RrTadlFUw\n",
       "fijhWf9kNbRfSoB2Zes11ieOn1t/JusPaE1aZVUJMFqWVvktrTG1yIebtI2atPpppR3G5QEXoS4+\n",
       "Ou6Q6c5sa6zykKi2fhLa82qctP0TFjZUmVfy4aaOVGUYZfWg0QlBdD4qfw/PtE9cJQTDI725+CzT\n",
       "XJwM9D+hLNUiXMdSm5eK9dytZbE+xvoLegqGd/kLs2SLEENIgP3HfQ+C0bUKtJoMlrxNByIZf+kR\n",
       "yRS0CfyA+HgOcEqIv/J0H6mB2Qq2DC2O9QUf3ddAAWYcIUCWfc0imL7vQ+O0+G1kYdp9vQaYWRYC\n",
       "dFNFwk8YcR4zb0afYuJYc9fvO3YpOE1Y4CQq1SB7fsjHGOcJl+ArJn4Mo4lJrJJTFtgYGgk0CHyv\n",
       "zMBQGq5h4tu7EGFIBOkfZaFJhOONbc5x90XYBTk8eoNfk9lGziy1xFew+tQMsofBWcqC622AE+43\n",
       "TniAq4TLd2P5x7t+Wn4DGtEErLjJ5XzwSCuE+E4s+rx6tAP0wLWokIAaLy/Mv2M+MWY+fc++ARM/\n",
       "AmSY2lmIBhIRZcF1tb6Qy/n828jzaLQeYy3CE7rlvpTLTQUmKQtuy51g1d+/7jaDjl4+irYI71Ci\n",
       "2CjBS/V6NVi1CAsA+zsMlMhcoeNtyB2Z2hTuZAjHaYaG91NfHAnARLJjqo/UHyS4cEoCEMmOFqm/\n",
       "r9ufe4InipWGCxSrp7YeSwoDfitAL4b4H7T3+fM/4xZhKuQXZIAAAAAASUVORK5CYII=\n",
       "\" style=\"display:inline;vertical-align:middle;\" /></a></span><br>"
      ],
      "text/plain": [
       "distributed_format: {e in {2 .. 2^{t - 1} - 2}} |- (1 / (2 * (e - 1))) = ((1 / 2) * (1 / (e - 1)))"
      ]
     },
     "execution_count": 115,
     "metadata": {},
     "output_type": "execute_result"
    }
   ],
   "source": [
    "# an adjustment to combine into a single fraction;\n",
    "# distribution() method not yet implemented for Div?\n",
    "distributed_format = frac(one, Mult(two, subtract(e, one))).factorization(frac(one, two))"
   ]
  },
  {
   "cell_type": "code",
   "execution_count": 116,
   "metadata": {},
   "outputs": [
    {
     "data": {
      "text/html": [
       "<span style=\"font-size:20px;\"><a class=\"ProveItLink\" href=\"../../../__pv_it/theorems/f67ffeb951aaff9cc5f02f3801926b572b231a930/expr.ipynb\"><img src=\"data:image/png;base64,iVBORw0KGgoAAAANSUhEUgAAAKwAAAAYBAMAAACVRAuIAAAAMFBMVEX///8QEBAyMjKqqqpUVFRE\n",
       "RESYmJjc3NzMzMwiIiK6urpmZmaIiIh2dnbu7u4AAAAMEBwRAAAAAXRSTlMAQObYZgAAAAlwSFlz\n",
       "AAAOxAAADsQBlSsOGwAAAe1JREFUSMdjYCAZMBVAGXxJDFQE72GMnpPUNNYIzrIkTSPfKjyStZNu\n",
       "4De2uACHzkPr8FmqTMC1HK4PsIoz/2NgYN+t2oApU70pgoHhH25jIbpYHbAayzuBgaGUgfcXhgR7\n",
       "AMP9BVwCDByhQBCOxViILpB+HMa6MzAIYkiwFDAwCvA4vMDpWoguVGN5ImdOghsr/4DBHyPoGf8x\n",
       "sHznPnAPp7EQXSjGcuk8QHKtJwODP0bgskxgYPnBsQ0mXqt/B00BRBfYWL47p8HmFT1ADgQgmI8t\n",
       "gDg/EEic86H6VzZwXADx1eEy3ArgdPIHm67+A/hNBeniEQDG7jcGngUgAQW4VGEC2F1Yk8kUAo4F\n",
       "6WL/DExkf87cAlsjOXPmzKkgVokWWMFWbLq4A7DkSc2ZINCA0PVEmYEf6ig+uAaOraBQZsPq2BQC\n",
       "joXourSAgR8WWIhUAc4ltgzsmHmb+QJDOV5jwbpAuZQTGF8GIJEzKNkBGI08mFm7l4HhHN4IA+vi\n",
       "BUYZmwLDa7CzmAyQja3cvXsnpHQFRiXfJ2jmnb179wR8xkJ0gRPY2TRIMPC5rkMydv7//xCzODcA\n",
       "idnQaP7//78C3kQL1oWaebmuImVeSgCeooYGxoJyCSWAG3tAgXIJJeBhAnbxamdKTK0F6gYAv0eE\n",
       "w3ELTC0AAAAASUVORK5CYII=\n",
       "\" style=\"display:inline;vertical-align:middle;\" /></a> <a class=\"ProveItLink\" href=\"../../../__pv_it/_proof__fail_ineq/220811cb1291a20fa374154d48316627d163ab4a0/proof.ipynb\" style=\"text-decoration: none\">&nbsp;&#x22A2;&nbsp;&nbsp;</a><a class=\"ProveItLink\" href=\"../../../__pv_it/_proof__fail_ineq/645be67badfbd0f3d13ee52a0c276024c19108860/expr.ipynb\"><img src=\"data:image/png;base64,iVBORw0KGgoAAAANSUhEUgAAAMEAAAAvBAMAAACoIrNdAAAAMFBMVEX///+YmJjc3NyqqqoQEBDu\n",
       "7u5mZmYyMjJUVFRERES6urp2dnbMzMwiIiKIiIgAAAAs9KwDAAAAAXRSTlMAQObYZgAAAAlwSFlz\n",
       "AAAOxAAADsQBlSsOGwAAAvBJREFUWMPtl0toE0EYgP9sskk23eyul1ZFYfEgiKg5CD2IkIsXLwYR\n",
       "bU9JBFtQpPGgeFEjiA88uPTkQUwOXpX0oIhSm7sUAz4QaWFVKkhJuxZqUUvqzOxmdrMPSSYpeMjA\n",
       "bPaf2dnvn/81G4CetdkMbGrjb17bZALAcp/QJ/QJ/wGhPucdk+ar5FclV65NwozqP/7Cb3CgTEAp\n",
       "IiT0tgC3j11WAgnfN+7fuZTxEA5Z0ufurEf2sAYgHHET+IIlxTJdE8QGQLjhJkSbmw7luiZI66j/\n",
       "cRMiVHRsb1hlIggG6utuwjAVL9C7nWfY9iBrAG90N+Ec9sWrb8gJz2loP2W0Enr73reeaMWaP66K\n",
       "FYAh66Cc1ln9sHz35XZIPMPrQzW+ZBEQk/sBEro9aGbeeYXZ0yV8Ix/HiSzqcMAiHEXOaSyRPZIn\n",
       "b6Xooo32m0EIa3jViebyrE2Qi2TkkZvQ6R5EHKjixBQ3dRZGDUpAVpJNwx/u1krSb1P1eCWicjbh\n",
       "IUASuRlpvq1bT8cMk8CpgsLbBBSjoQKcVM24JYj6gu87AquvahKipV+6af7Fuu4gzKK+uAVPfbIz\n",
       "zjchvgYRnrRU7ywkFWHBQUhWmyrW7DVDZtXYPf7AHgtX/N4uvkf2V1oJ2UxyyUGgBS/q8TCnwUyZ\n",
       "Sqf8ACPjq+h60UHg752W8juujvzkJ3LW+TBpTe3xLI+rEElTKe9rIQkTBv99xo1a0qRnPrIK8RUq\n",
       "pYMJEVTVpv3O6XeEwJnBKXkLdrwGcVqLw4VgQkxhP1eSRvMuWqFF2EMYKLIT7GpP9DSLsIcQKrAT\n",
       "Ptq7SdEi7CGE08yAqEYiHKsYKdMizF+Zx61KCaLBTNhqqp+zCHLR39MJ5j2gNN7ltJKs+xPCNVbC\n",
       "awBaBAWdFmGvpzVGAPdhbIxqhyPSKsItWbvSjGSmZEDHI41DsUaLsDMpb6xdRw+We/JZPxc8ta83\n",
       "fxwGg6fyvSEIgV+anNYbAq91zu6w7Q+a+IL6X9/FC0lgb7ZAAAAAAElFTkSuQmCC\n",
       "\" style=\"display:inline;vertical-align:middle;\" /></a></span>"
      ],
      "text/plain": [
       "{e in {2 .. 2^{t - 1} - 2}} |- [Pfail](e) < (1 / (2 * (e - 1)))"
      ]
     },
     "execution_count": 116,
     "metadata": {},
     "output_type": "execute_result"
    }
   ],
   "source": [
    "distributed_format.sub_left_side_into(bound16)"
   ]
  },
  {
   "cell_type": "code",
   "execution_count": 117,
   "metadata": {},
   "outputs": [
    {
     "ename": "KeyboardInterrupt",
     "evalue": "",
     "output_type": "error",
     "traceback": [
      "\u001b[0;31m---------------------------------------------------------------------------\u001b[0m",
      "\u001b[0;31mKeyboardInterrupt\u001b[0m                         Traceback (most recent call last)",
      "\u001b[0;32m<ipython-input-117-b046f9677097>\u001b[0m in \u001b[0;36m<module>\u001b[0;34m\u001b[0m\n\u001b[0;32m----> 1\u001b[0;31m \u001b[0mget_ipython\u001b[0m\u001b[0;34m(\u001b[0m\u001b[0;34m)\u001b[0m\u001b[0;34m.\u001b[0m\u001b[0mrun_line_magic\u001b[0m\u001b[0;34m(\u001b[0m\u001b[0;34m'qed'\u001b[0m\u001b[0;34m,\u001b[0m \u001b[0;34m''\u001b[0m\u001b[0;34m)\u001b[0m\u001b[0;34m\u001b[0m\u001b[0;34m\u001b[0m\u001b[0m\n\u001b[0m",
      "\u001b[0;32m~/.local/lib/python3.7/site-packages/IPython/core/displayhook.py\u001b[0m in \u001b[0;36m__call__\u001b[0;34m(self, result)\u001b[0m\n\u001b[1;32m    255\u001b[0m             \u001b[0mself\u001b[0m\u001b[0;34m.\u001b[0m\u001b[0mstart_displayhook\u001b[0m\u001b[0;34m(\u001b[0m\u001b[0;34m)\u001b[0m\u001b[0;34m\u001b[0m\u001b[0;34m\u001b[0m\u001b[0m\n\u001b[1;32m    256\u001b[0m             \u001b[0mself\u001b[0m\u001b[0;34m.\u001b[0m\u001b[0mwrite_output_prompt\u001b[0m\u001b[0;34m(\u001b[0m\u001b[0;34m)\u001b[0m\u001b[0;34m\u001b[0m\u001b[0;34m\u001b[0m\u001b[0m\n\u001b[0;32m--> 257\u001b[0;31m             \u001b[0mformat_dict\u001b[0m\u001b[0;34m,\u001b[0m \u001b[0mmd_dict\u001b[0m \u001b[0;34m=\u001b[0m \u001b[0mself\u001b[0m\u001b[0;34m.\u001b[0m\u001b[0mcompute_format_data\u001b[0m\u001b[0;34m(\u001b[0m\u001b[0mresult\u001b[0m\u001b[0;34m)\u001b[0m\u001b[0;34m\u001b[0m\u001b[0;34m\u001b[0m\u001b[0m\n\u001b[0m\u001b[1;32m    258\u001b[0m             \u001b[0mself\u001b[0m\u001b[0;34m.\u001b[0m\u001b[0mupdate_user_ns\u001b[0m\u001b[0;34m(\u001b[0m\u001b[0mresult\u001b[0m\u001b[0;34m)\u001b[0m\u001b[0;34m\u001b[0m\u001b[0;34m\u001b[0m\u001b[0m\n\u001b[1;32m    259\u001b[0m             \u001b[0mself\u001b[0m\u001b[0;34m.\u001b[0m\u001b[0mfill_exec_result\u001b[0m\u001b[0;34m(\u001b[0m\u001b[0mresult\u001b[0m\u001b[0;34m)\u001b[0m\u001b[0;34m\u001b[0m\u001b[0;34m\u001b[0m\u001b[0m\n",
      "\u001b[0;32m~/.local/lib/python3.7/site-packages/IPython/core/displayhook.py\u001b[0m in \u001b[0;36mcompute_format_data\u001b[0;34m(self, result)\u001b[0m\n\u001b[1;32m    149\u001b[0m \u001b[0;34m\u001b[0m\u001b[0m\n\u001b[1;32m    150\u001b[0m         \"\"\"\n\u001b[0;32m--> 151\u001b[0;31m         \u001b[0;32mreturn\u001b[0m \u001b[0mself\u001b[0m\u001b[0;34m.\u001b[0m\u001b[0mshell\u001b[0m\u001b[0;34m.\u001b[0m\u001b[0mdisplay_formatter\u001b[0m\u001b[0;34m.\u001b[0m\u001b[0mformat\u001b[0m\u001b[0;34m(\u001b[0m\u001b[0mresult\u001b[0m\u001b[0;34m)\u001b[0m\u001b[0;34m\u001b[0m\u001b[0;34m\u001b[0m\u001b[0m\n\u001b[0m\u001b[1;32m    152\u001b[0m \u001b[0;34m\u001b[0m\u001b[0m\n\u001b[1;32m    153\u001b[0m     \u001b[0;31m# This can be set to True by the write_output_prompt method in a subclass\u001b[0m\u001b[0;34m\u001b[0m\u001b[0;34m\u001b[0m\u001b[0;34m\u001b[0m\u001b[0m\n",
      "\u001b[0;32m~/.local/lib/python3.7/site-packages/IPython/core/formatters.py\u001b[0m in \u001b[0;36mformat\u001b[0;34m(self, obj, include, exclude)\u001b[0m\n\u001b[1;32m    178\u001b[0m             \u001b[0mmd\u001b[0m \u001b[0;34m=\u001b[0m \u001b[0;32mNone\u001b[0m\u001b[0;34m\u001b[0m\u001b[0;34m\u001b[0m\u001b[0m\n\u001b[1;32m    179\u001b[0m             \u001b[0;32mtry\u001b[0m\u001b[0;34m:\u001b[0m\u001b[0;34m\u001b[0m\u001b[0;34m\u001b[0m\u001b[0m\n\u001b[0;32m--> 180\u001b[0;31m                 \u001b[0mdata\u001b[0m \u001b[0;34m=\u001b[0m \u001b[0mformatter\u001b[0m\u001b[0;34m(\u001b[0m\u001b[0mobj\u001b[0m\u001b[0;34m)\u001b[0m\u001b[0;34m\u001b[0m\u001b[0;34m\u001b[0m\u001b[0m\n\u001b[0m\u001b[1;32m    181\u001b[0m             \u001b[0;32mexcept\u001b[0m\u001b[0;34m:\u001b[0m\u001b[0;34m\u001b[0m\u001b[0;34m\u001b[0m\u001b[0m\n\u001b[1;32m    182\u001b[0m                 \u001b[0;31m# FIXME: log the exception\u001b[0m\u001b[0;34m\u001b[0m\u001b[0;34m\u001b[0m\u001b[0;34m\u001b[0m\u001b[0m\n",
      "\u001b[0;32m<decorator-gen-10>\u001b[0m in \u001b[0;36m__call__\u001b[0;34m(self, obj)\u001b[0m\n",
      "\u001b[0;32m~/.local/lib/python3.7/site-packages/IPython/core/formatters.py\u001b[0m in \u001b[0;36mcatch_format_error\u001b[0;34m(method, self, *args, **kwargs)\u001b[0m\n\u001b[1;32m    222\u001b[0m     \u001b[0;34m\"\"\"show traceback on failed format call\"\"\"\u001b[0m\u001b[0;34m\u001b[0m\u001b[0;34m\u001b[0m\u001b[0m\n\u001b[1;32m    223\u001b[0m     \u001b[0;32mtry\u001b[0m\u001b[0;34m:\u001b[0m\u001b[0;34m\u001b[0m\u001b[0;34m\u001b[0m\u001b[0m\n\u001b[0;32m--> 224\u001b[0;31m         \u001b[0mr\u001b[0m \u001b[0;34m=\u001b[0m \u001b[0mmethod\u001b[0m\u001b[0;34m(\u001b[0m\u001b[0mself\u001b[0m\u001b[0;34m,\u001b[0m \u001b[0;34m*\u001b[0m\u001b[0margs\u001b[0m\u001b[0;34m,\u001b[0m \u001b[0;34m**\u001b[0m\u001b[0mkwargs\u001b[0m\u001b[0;34m)\u001b[0m\u001b[0;34m\u001b[0m\u001b[0;34m\u001b[0m\u001b[0m\n\u001b[0m\u001b[1;32m    225\u001b[0m     \u001b[0;32mexcept\u001b[0m \u001b[0mNotImplementedError\u001b[0m\u001b[0;34m:\u001b[0m\u001b[0;34m\u001b[0m\u001b[0;34m\u001b[0m\u001b[0m\n\u001b[1;32m    226\u001b[0m         \u001b[0;31m# don't warn on NotImplementedErrors\u001b[0m\u001b[0;34m\u001b[0m\u001b[0;34m\u001b[0m\u001b[0;34m\u001b[0m\u001b[0m\n",
      "\u001b[0;32m~/.local/lib/python3.7/site-packages/IPython/core/formatters.py\u001b[0m in \u001b[0;36m__call__\u001b[0;34m(self, obj)\u001b[0m\n\u001b[1;32m    700\u001b[0m                 \u001b[0mtype_pprinters\u001b[0m\u001b[0;34m=\u001b[0m\u001b[0mself\u001b[0m\u001b[0;34m.\u001b[0m\u001b[0mtype_printers\u001b[0m\u001b[0;34m,\u001b[0m\u001b[0;34m\u001b[0m\u001b[0;34m\u001b[0m\u001b[0m\n\u001b[1;32m    701\u001b[0m                 deferred_pprinters=self.deferred_printers)\n\u001b[0;32m--> 702\u001b[0;31m             \u001b[0mprinter\u001b[0m\u001b[0;34m.\u001b[0m\u001b[0mpretty\u001b[0m\u001b[0;34m(\u001b[0m\u001b[0mobj\u001b[0m\u001b[0;34m)\u001b[0m\u001b[0;34m\u001b[0m\u001b[0;34m\u001b[0m\u001b[0m\n\u001b[0m\u001b[1;32m    703\u001b[0m             \u001b[0mprinter\u001b[0m\u001b[0;34m.\u001b[0m\u001b[0mflush\u001b[0m\u001b[0;34m(\u001b[0m\u001b[0;34m)\u001b[0m\u001b[0;34m\u001b[0m\u001b[0;34m\u001b[0m\u001b[0m\n\u001b[1;32m    704\u001b[0m             \u001b[0;32mreturn\u001b[0m \u001b[0mstream\u001b[0m\u001b[0;34m.\u001b[0m\u001b[0mgetvalue\u001b[0m\u001b[0;34m(\u001b[0m\u001b[0;34m)\u001b[0m\u001b[0;34m\u001b[0m\u001b[0;34m\u001b[0m\u001b[0m\n",
      "\u001b[0;32m~/.local/lib/python3.7/site-packages/IPython/lib/pretty.py\u001b[0m in \u001b[0;36mpretty\u001b[0;34m(self, obj)\u001b[0m\n\u001b[1;32m    400\u001b[0m                         \u001b[0;32mif\u001b[0m \u001b[0mcls\u001b[0m \u001b[0;32mis\u001b[0m \u001b[0;32mnot\u001b[0m \u001b[0mobject\u001b[0m\u001b[0;31m \u001b[0m\u001b[0;31m\\\u001b[0m\u001b[0;34m\u001b[0m\u001b[0;34m\u001b[0m\u001b[0m\n\u001b[1;32m    401\u001b[0m                                 \u001b[0;32mand\u001b[0m \u001b[0mcallable\u001b[0m\u001b[0;34m(\u001b[0m\u001b[0mcls\u001b[0m\u001b[0;34m.\u001b[0m\u001b[0m__dict__\u001b[0m\u001b[0;34m.\u001b[0m\u001b[0mget\u001b[0m\u001b[0;34m(\u001b[0m\u001b[0;34m'__repr__'\u001b[0m\u001b[0;34m)\u001b[0m\u001b[0;34m)\u001b[0m\u001b[0;34m:\u001b[0m\u001b[0;34m\u001b[0m\u001b[0;34m\u001b[0m\u001b[0m\n\u001b[0;32m--> 402\u001b[0;31m                             \u001b[0;32mreturn\u001b[0m \u001b[0m_repr_pprint\u001b[0m\u001b[0;34m(\u001b[0m\u001b[0mobj\u001b[0m\u001b[0;34m,\u001b[0m \u001b[0mself\u001b[0m\u001b[0;34m,\u001b[0m \u001b[0mcycle\u001b[0m\u001b[0;34m)\u001b[0m\u001b[0;34m\u001b[0m\u001b[0;34m\u001b[0m\u001b[0m\n\u001b[0m\u001b[1;32m    403\u001b[0m \u001b[0;34m\u001b[0m\u001b[0m\n\u001b[1;32m    404\u001b[0m             \u001b[0;32mreturn\u001b[0m \u001b[0m_default_pprint\u001b[0m\u001b[0;34m(\u001b[0m\u001b[0mobj\u001b[0m\u001b[0;34m,\u001b[0m \u001b[0mself\u001b[0m\u001b[0;34m,\u001b[0m \u001b[0mcycle\u001b[0m\u001b[0;34m)\u001b[0m\u001b[0;34m\u001b[0m\u001b[0;34m\u001b[0m\u001b[0m\n",
      "\u001b[0;32m~/.local/lib/python3.7/site-packages/IPython/lib/pretty.py\u001b[0m in \u001b[0;36m_repr_pprint\u001b[0;34m(obj, p, cycle)\u001b[0m\n\u001b[1;32m    695\u001b[0m     \u001b[0;34m\"\"\"A pprint that just redirects to the normal repr function.\"\"\"\u001b[0m\u001b[0;34m\u001b[0m\u001b[0;34m\u001b[0m\u001b[0m\n\u001b[1;32m    696\u001b[0m     \u001b[0;31m# Find newlines and replace them with p.break_()\u001b[0m\u001b[0;34m\u001b[0m\u001b[0;34m\u001b[0m\u001b[0;34m\u001b[0m\u001b[0m\n\u001b[0;32m--> 697\u001b[0;31m     \u001b[0moutput\u001b[0m \u001b[0;34m=\u001b[0m \u001b[0mrepr\u001b[0m\u001b[0;34m(\u001b[0m\u001b[0mobj\u001b[0m\u001b[0;34m)\u001b[0m\u001b[0;34m\u001b[0m\u001b[0;34m\u001b[0m\u001b[0m\n\u001b[0m\u001b[1;32m    698\u001b[0m     \u001b[0;32mfor\u001b[0m \u001b[0midx\u001b[0m\u001b[0;34m,\u001b[0m\u001b[0moutput_line\u001b[0m \u001b[0;32min\u001b[0m \u001b[0menumerate\u001b[0m\u001b[0;34m(\u001b[0m\u001b[0moutput\u001b[0m\u001b[0;34m.\u001b[0m\u001b[0msplitlines\u001b[0m\u001b[0;34m(\u001b[0m\u001b[0;34m)\u001b[0m\u001b[0;34m)\u001b[0m\u001b[0;34m:\u001b[0m\u001b[0;34m\u001b[0m\u001b[0;34m\u001b[0m\u001b[0m\n\u001b[1;32m    699\u001b[0m         \u001b[0;32mif\u001b[0m \u001b[0midx\u001b[0m\u001b[0;34m:\u001b[0m\u001b[0;34m\u001b[0m\u001b[0;34m\u001b[0m\u001b[0m\n",
      "\u001b[0;32m/home/wwitzel/Prove-It/packages/proveit/_core_/proof.py\u001b[0m in \u001b[0;36m__repr__\u001b[0;34m(self)\u001b[0m\n\u001b[1;32m    568\u001b[0m             \u001b[0mout_str\u001b[0m \u001b[0;34m+=\u001b[0m \u001b[0mproof\u001b[0m\u001b[0;34m.\u001b[0m\u001b[0mproven_truth\u001b[0m\u001b[0;34m.\u001b[0m\u001b[0mstring\u001b[0m\u001b[0;34m(\u001b[0m\u001b[0mperform_usability_check\u001b[0m\u001b[0;34m=\u001b[0m\u001b[0;32mFalse\u001b[0m\u001b[0;34m)\u001b[0m\u001b[0;34m\u001b[0m\u001b[0;34m\u001b[0m\u001b[0m\n\u001b[1;32m    569\u001b[0m             \u001b[0mout_str\u001b[0m \u001b[0;34m+=\u001b[0m \u001b[0;34m'\\n'\u001b[0m\u001b[0;34m\u001b[0m\u001b[0;34m\u001b[0m\u001b[0m\n\u001b[0;32m--> 570\u001b[0;31m             \u001b[0;32mif\u001b[0m \u001b[0mproof\u001b[0m\u001b[0;34m.\u001b[0m\u001b[0mstep_type\u001b[0m\u001b[0;34m(\u001b[0m\u001b[0;34m)\u001b[0m \u001b[0;34m==\u001b[0m \u001b[0;34m'instantiation'\u001b[0m\u001b[0;34m:\u001b[0m\u001b[0;34m\u001b[0m\u001b[0;34m\u001b[0m\u001b[0m\n\u001b[0m\u001b[1;32m    571\u001b[0m                 \u001b[0mout_str\u001b[0m \u001b[0;34m+=\u001b[0m \u001b[0;34m'\\t'\u001b[0m \u001b[0;34m+\u001b[0m \u001b[0mproof\u001b[0m\u001b[0;34m.\u001b[0m\u001b[0m_mapping\u001b[0m\u001b[0;34m(\u001b[0m\u001b[0;34m'str'\u001b[0m\u001b[0;34m)\u001b[0m \u001b[0;34m+\u001b[0m \u001b[0;34m'\\n'\u001b[0m\u001b[0;34m\u001b[0m\u001b[0;34m\u001b[0m\u001b[0m\n\u001b[1;32m    572\u001b[0m             \u001b[0;32mif\u001b[0m \u001b[0mproof\u001b[0m\u001b[0;34m.\u001b[0m\u001b[0mstep_type\u001b[0m\u001b[0;34m(\u001b[0m\u001b[0;34m)\u001b[0m \u001b[0;32min\u001b[0m \u001b[0;34m(\u001b[0m\u001b[0;34m'axiom'\u001b[0m\u001b[0;34m,\u001b[0m \u001b[0;34m'theorem'\u001b[0m\u001b[0;34m,\u001b[0m \u001b[0;34m'conjecture'\u001b[0m\u001b[0;34m)\u001b[0m\u001b[0;34m:\u001b[0m\u001b[0;34m\u001b[0m\u001b[0;34m\u001b[0m\u001b[0m\n",
      "\u001b[0;32m/home/wwitzel/Prove-It/packages/proveit/_core_/proof.py\u001b[0m in \u001b[0;36mstep_type\u001b[0;34m(self)\u001b[0m\n\u001b[1;32m    715\u001b[0m \u001b[0;34m\u001b[0m\u001b[0m\n\u001b[1;32m    716\u001b[0m     \u001b[0;32mdef\u001b[0m \u001b[0mstep_type\u001b[0m\u001b[0;34m(\u001b[0m\u001b[0mself\u001b[0m\u001b[0;34m)\u001b[0m\u001b[0;34m:\u001b[0m\u001b[0;34m\u001b[0m\u001b[0;34m\u001b[0m\u001b[0m\n\u001b[0;32m--> 717\u001b[0;31m         \u001b[0;32mif\u001b[0m \u001b[0mself\u001b[0m\u001b[0;34m.\u001b[0m\u001b[0mis_conjecture\u001b[0m\u001b[0;34m(\u001b[0m\u001b[0;34m)\u001b[0m\u001b[0;34m:\u001b[0m\u001b[0;34m\u001b[0m\u001b[0;34m\u001b[0m\u001b[0m\n\u001b[0m\u001b[1;32m    718\u001b[0m             \u001b[0;32mreturn\u001b[0m \u001b[0;34m'conjecture'\u001b[0m\u001b[0;34m\u001b[0m\u001b[0;34m\u001b[0m\u001b[0m\n\u001b[1;32m    719\u001b[0m         \u001b[0;32mreturn\u001b[0m \u001b[0;34m'theorem'\u001b[0m\u001b[0;34m\u001b[0m\u001b[0;34m\u001b[0m\u001b[0m\n",
      "\u001b[0;32m/home/wwitzel/Prove-It/packages/proveit/_core_/proof.py\u001b[0m in \u001b[0;36mis_conjecture\u001b[0;34m(self)\u001b[0m\n\u001b[1;32m    835\u001b[0m         \u001b[0mA\u001b[0m \u001b[0;34m\"Theorem\"\u001b[0m \u001b[0mthat\u001b[0m \u001b[0;32mis\u001b[0m \u001b[0;32mnot\u001b[0m \u001b[0mfully\u001b[0m \u001b[0mproven\u001b[0m \u001b[0;32mis\u001b[0m \u001b[0ma\u001b[0m \u001b[0;34m\"conjecture\"\u001b[0m\u001b[0;34m.\u001b[0m\u001b[0;34m\u001b[0m\u001b[0;34m\u001b[0m\u001b[0m\n\u001b[1;32m    836\u001b[0m         '''\n\u001b[0;32m--> 837\u001b[0;31m         \u001b[0;32mreturn\u001b[0m \u001b[0;32mnot\u001b[0m \u001b[0mself\u001b[0m\u001b[0;34m.\u001b[0m\u001b[0mis_fully_proven\u001b[0m\u001b[0;34m(\u001b[0m\u001b[0;34m)\u001b[0m\u001b[0;34m\u001b[0m\u001b[0;34m\u001b[0m\u001b[0m\n\u001b[0m\u001b[1;32m    838\u001b[0m \u001b[0;34m\u001b[0m\u001b[0m\n\u001b[1;32m    839\u001b[0m     \u001b[0;32mdef\u001b[0m \u001b[0mall_requirements\u001b[0m\u001b[0;34m(\u001b[0m\u001b[0mself\u001b[0m\u001b[0;34m)\u001b[0m\u001b[0;34m:\u001b[0m\u001b[0;34m\u001b[0m\u001b[0;34m\u001b[0m\u001b[0m\n",
      "\u001b[0;32m/home/wwitzel/Prove-It/packages/proveit/_core_/proof.py\u001b[0m in \u001b[0;36mis_fully_proven\u001b[0;34m(self)\u001b[0m\n\u001b[1;32m    829\u001b[0m         proven, all the way to axioms which don't require proofs).\n\u001b[1;32m    830\u001b[0m         '''\n\u001b[0;32m--> 831\u001b[0;31m         \u001b[0;32mreturn\u001b[0m \u001b[0mself\u001b[0m\u001b[0;34m.\u001b[0m\u001b[0m_stored_theorem\u001b[0m\u001b[0;34m(\u001b[0m\u001b[0;34m)\u001b[0m\u001b[0;34m.\u001b[0m\u001b[0mis_complete\u001b[0m\u001b[0;34m(\u001b[0m\u001b[0;34m)\u001b[0m\u001b[0;34m\u001b[0m\u001b[0;34m\u001b[0m\u001b[0m\n\u001b[0m\u001b[1;32m    832\u001b[0m \u001b[0;34m\u001b[0m\u001b[0m\n\u001b[1;32m    833\u001b[0m     \u001b[0;32mdef\u001b[0m \u001b[0mis_conjecture\u001b[0m\u001b[0;34m(\u001b[0m\u001b[0mself\u001b[0m\u001b[0;34m)\u001b[0m\u001b[0;34m:\u001b[0m\u001b[0;34m\u001b[0m\u001b[0;34m\u001b[0m\u001b[0m\n",
      "\u001b[0;32m/home/wwitzel/Prove-It/packages/proveit/_core_/proof.py\u001b[0m in \u001b[0;36m_stored_theorem\u001b[0;34m(self)\u001b[0m\n\u001b[1;32m    747\u001b[0m     \u001b[0;32mdef\u001b[0m \u001b[0m_stored_theorem\u001b[0m\u001b[0;34m(\u001b[0m\u001b[0mself\u001b[0m\u001b[0;34m)\u001b[0m\u001b[0;34m:\u001b[0m\u001b[0;34m\u001b[0m\u001b[0;34m\u001b[0m\u001b[0m\n\u001b[1;32m    748\u001b[0m         \u001b[0;32mfrom\u001b[0m \u001b[0;34m.\u001b[0m\u001b[0m_theory_storage\u001b[0m \u001b[0;32mimport\u001b[0m \u001b[0mStoredTheorem\u001b[0m\u001b[0;34m\u001b[0m\u001b[0;34m\u001b[0m\u001b[0m\n\u001b[0;32m--> 749\u001b[0;31m         \u001b[0;32mreturn\u001b[0m \u001b[0mStoredTheorem\u001b[0m\u001b[0;34m(\u001b[0m\u001b[0mself\u001b[0m\u001b[0;34m.\u001b[0m\u001b[0mtheory\u001b[0m\u001b[0;34m,\u001b[0m \u001b[0mself\u001b[0m\u001b[0;34m.\u001b[0m\u001b[0mname\u001b[0m\u001b[0;34m)\u001b[0m\u001b[0;34m\u001b[0m\u001b[0;34m\u001b[0m\u001b[0m\n\u001b[0m\u001b[1;32m    750\u001b[0m \u001b[0;34m\u001b[0m\u001b[0m\n\u001b[1;32m    751\u001b[0m     \u001b[0;32mdef\u001b[0m \u001b[0mget_link\u001b[0m\u001b[0;34m(\u001b[0m\u001b[0mself\u001b[0m\u001b[0;34m)\u001b[0m\u001b[0;34m:\u001b[0m\u001b[0;34m\u001b[0m\u001b[0;34m\u001b[0m\u001b[0m\n",
      "\u001b[0;32m/home/wwitzel/Prove-It/packages/proveit/_core_/_theory_storage.py\u001b[0m in \u001b[0;36m__init__\u001b[0;34m(self, theory, name)\u001b[0m\n\u001b[1;32m   2467\u001b[0m         \u001b[0m__pv_it\u001b[0m \u001b[0mdatabase\u001b[0m \u001b[0mentries\u001b[0m\u001b[0;34m.\u001b[0m\u001b[0;34m\u001b[0m\u001b[0;34m\u001b[0m\u001b[0m\n\u001b[1;32m   2468\u001b[0m         '''\n\u001b[0;32m-> 2469\u001b[0;31m         \u001b[0mStoredSpecialStmt\u001b[0m\u001b[0;34m.\u001b[0m\u001b[0m__init__\u001b[0m\u001b[0;34m(\u001b[0m\u001b[0mself\u001b[0m\u001b[0;34m,\u001b[0m \u001b[0mtheory\u001b[0m\u001b[0;34m,\u001b[0m \u001b[0mname\u001b[0m\u001b[0;34m,\u001b[0m \u001b[0;34m'theorem'\u001b[0m\u001b[0;34m)\u001b[0m\u001b[0;34m\u001b[0m\u001b[0;34m\u001b[0m\u001b[0m\n\u001b[0m\u001b[1;32m   2470\u001b[0m \u001b[0;34m\u001b[0m\u001b[0m\n\u001b[1;32m   2471\u001b[0m     \u001b[0;32mdef\u001b[0m \u001b[0mget_proof_link\u001b[0m\u001b[0;34m(\u001b[0m\u001b[0mself\u001b[0m\u001b[0;34m)\u001b[0m\u001b[0;34m:\u001b[0m\u001b[0;34m\u001b[0m\u001b[0;34m\u001b[0m\u001b[0m\n",
      "\u001b[0;32m/home/wwitzel/Prove-It/packages/proveit/_core_/_theory_storage.py\u001b[0m in \u001b[0;36m__init__\u001b[0;34m(self, theory, name, kind)\u001b[0m\n\u001b[1;32m   2294\u001b[0m             \u001b[0mself\u001b[0m\u001b[0;34m.\u001b[0m\u001b[0mtheory_folder_storage\u001b[0m \u001b[0;34m=\u001b[0m\u001b[0;31m \u001b[0m\u001b[0;31m\\\u001b[0m\u001b[0;34m\u001b[0m\u001b[0;34m\u001b[0m\u001b[0m\n\u001b[1;32m   2295\u001b[0m                 \u001b[0mself\u001b[0m\u001b[0;34m.\u001b[0m\u001b[0mtheory\u001b[0m\u001b[0;34m.\u001b[0m\u001b[0m_theory_folder_storage\u001b[0m\u001b[0;34m(\u001b[0m\u001b[0;34m'theorems'\u001b[0m\u001b[0;34m)\u001b[0m\u001b[0;34m\u001b[0m\u001b[0;34m\u001b[0m\u001b[0m\n\u001b[0;32m-> 2296\u001b[0;31m             \u001b[0mhash_dir\u001b[0m \u001b[0;34m=\u001b[0m \u001b[0mself\u001b[0m\u001b[0;34m.\u001b[0m\u001b[0mtheory\u001b[0m\u001b[0;34m.\u001b[0m\u001b[0m_storage\u001b[0m\u001b[0;34m.\u001b[0m\u001b[0mget_theorem_hash\u001b[0m\u001b[0;34m(\u001b[0m\u001b[0mname\u001b[0m\u001b[0;34m)\u001b[0m\u001b[0;34m\u001b[0m\u001b[0;34m\u001b[0m\u001b[0m\n\u001b[0m\u001b[1;32m   2297\u001b[0m         \u001b[0;32melse\u001b[0m\u001b[0;34m:\u001b[0m\u001b[0;34m\u001b[0m\u001b[0;34m\u001b[0m\u001b[0m\n\u001b[1;32m   2298\u001b[0m             \u001b[0;32mraise\u001b[0m \u001b[0mValueError\u001b[0m\u001b[0;34m(\u001b[0m\u001b[0;34m\"kind must be 'axiom' or 'theorem'\"\u001b[0m\u001b[0;34m)\u001b[0m\u001b[0;34m\u001b[0m\u001b[0;34m\u001b[0m\u001b[0m\n",
      "\u001b[0;32m/home/wwitzel/Prove-It/packages/proveit/_core_/_theory_storage.py\u001b[0m in \u001b[0;36mget_theorem_hash\u001b[0;34m(self, name)\u001b[0m\n\u001b[1;32m    576\u001b[0m         folder).\n\u001b[1;32m    577\u001b[0m         '''\n\u001b[0;32m--> 578\u001b[0;31m         \u001b[0mlist\u001b[0m\u001b[0;34m(\u001b[0m\u001b[0mself\u001b[0m\u001b[0;34m.\u001b[0m\u001b[0m_load_special_names\u001b[0m\u001b[0;34m(\u001b[0m\u001b[0;34m'theorem'\u001b[0m\u001b[0;34m)\u001b[0m\u001b[0;34m)\u001b[0m\u001b[0;34m\u001b[0m\u001b[0;34m\u001b[0m\u001b[0m\n\u001b[0m\u001b[1;32m    579\u001b[0m         \u001b[0;32mtry\u001b[0m\u001b[0;34m:\u001b[0m\u001b[0;34m\u001b[0m\u001b[0;34m\u001b[0m\u001b[0m\n\u001b[1;32m    580\u001b[0m             \u001b[0;32mreturn\u001b[0m \u001b[0mself\u001b[0m\u001b[0;34m.\u001b[0m\u001b[0m_special_hash_ids\u001b[0m\u001b[0;34m[\u001b[0m\u001b[0;34m'theorem'\u001b[0m\u001b[0;34m]\u001b[0m\u001b[0;34m[\u001b[0m\u001b[0mname\u001b[0m\u001b[0;34m]\u001b[0m\u001b[0;34m\u001b[0m\u001b[0;34m\u001b[0m\u001b[0m\n",
      "\u001b[0;32m/home/wwitzel/Prove-It/packages/proveit/_core_/_theory_storage.py\u001b[0m in \u001b[0;36m_load_special_names\u001b[0;34m(self, kind)\u001b[0m\n\u001b[1;32m    543\u001b[0m                                 \u001b[0m_theory_folder_storage\u001b[0m\u001b[0;34m.\u001b[0m\u001b[0mpath\u001b[0m\u001b[0;34m,\u001b[0m \u001b[0mhash_folder\u001b[0m\u001b[0;34m,\u001b[0m\u001b[0;34m\u001b[0m\u001b[0;34m\u001b[0m\u001b[0m\n\u001b[1;32m    544\u001b[0m                                 'unique_rep.pv_it')\n\u001b[0;32m--> 545\u001b[0;31m                             \u001b[0;32mwith\u001b[0m \u001b[0mopen\u001b[0m\u001b[0;34m(\u001b[0m\u001b[0munique_rep_filename\u001b[0m\u001b[0;34m,\u001b[0m \u001b[0;34m'r'\u001b[0m\u001b[0;34m)\u001b[0m \u001b[0;32mas\u001b[0m \u001b[0mf\u001b[0m\u001b[0;34m:\u001b[0m\u001b[0;34m\u001b[0m\u001b[0;34m\u001b[0m\u001b[0m\n\u001b[0m\u001b[1;32m    546\u001b[0m                                 \u001b[0mrep\u001b[0m \u001b[0;34m=\u001b[0m \u001b[0mf\u001b[0m\u001b[0;34m.\u001b[0m\u001b[0mread\u001b[0m\u001b[0;34m(\u001b[0m\u001b[0;34m)\u001b[0m\u001b[0;34m\u001b[0m\u001b[0;34m\u001b[0m\u001b[0m\n\u001b[1;32m    547\u001b[0m                             \u001b[0mstorage_ids\u001b[0m \u001b[0;34m=\u001b[0m\u001b[0;31m \u001b[0m\u001b[0;31m\\\u001b[0m\u001b[0;34m\u001b[0m\u001b[0;34m\u001b[0m\u001b[0m\n",
      "\u001b[0;32m/projects/percept/linux_rhel6/anaconda3/lib/python3.7/_bootlocale.py\u001b[0m in \u001b[0;36mgetpreferredencoding\u001b[0;34m(do_setlocale)\u001b[0m\n\u001b[1;32m     31\u001b[0m                 \u001b[0;32mreturn\u001b[0m \u001b[0mlocale\u001b[0m\u001b[0;34m.\u001b[0m\u001b[0mgetpreferredencoding\u001b[0m\u001b[0;34m(\u001b[0m\u001b[0mdo_setlocale\u001b[0m\u001b[0;34m)\u001b[0m\u001b[0;34m\u001b[0m\u001b[0;34m\u001b[0m\u001b[0m\n\u001b[1;32m     32\u001b[0m     \u001b[0;32melse\u001b[0m\u001b[0;34m:\u001b[0m\u001b[0;34m\u001b[0m\u001b[0;34m\u001b[0m\u001b[0m\n\u001b[0;32m---> 33\u001b[0;31m         \u001b[0;32mdef\u001b[0m \u001b[0mgetpreferredencoding\u001b[0m\u001b[0;34m(\u001b[0m\u001b[0mdo_setlocale\u001b[0m\u001b[0;34m=\u001b[0m\u001b[0;32mTrue\u001b[0m\u001b[0;34m)\u001b[0m\u001b[0;34m:\u001b[0m\u001b[0;34m\u001b[0m\u001b[0;34m\u001b[0m\u001b[0m\n\u001b[0m\u001b[1;32m     34\u001b[0m             \u001b[0;32massert\u001b[0m \u001b[0;32mnot\u001b[0m \u001b[0mdo_setlocale\u001b[0m\u001b[0;34m\u001b[0m\u001b[0;34m\u001b[0m\u001b[0m\n\u001b[1;32m     35\u001b[0m             \u001b[0;32mif\u001b[0m \u001b[0msys\u001b[0m\u001b[0;34m.\u001b[0m\u001b[0mflags\u001b[0m\u001b[0;34m.\u001b[0m\u001b[0mutf8_mode\u001b[0m\u001b[0;34m:\u001b[0m\u001b[0;34m\u001b[0m\u001b[0;34m\u001b[0m\u001b[0m\n",
      "\u001b[0;31mKeyboardInterrupt\u001b[0m: "
     ]
    }
   ],
   "source": [
    "%qed"
   ]
  },
  {
   "cell_type": "code",
   "execution_count": null,
   "metadata": {},
   "outputs": [],
   "source": []
  }
 ],
 "metadata": {
  "kernelspec": {
   "display_name": "Python 3",
   "language": "python",
   "name": "python3"
  },
  "language_info": {
   "codemirror_mode": {
    "name": "ipython",
    "version": 3
   },
   "file_extension": ".py",
   "mimetype": "text/x-python",
   "name": "python",
   "nbconvert_exporter": "python",
   "pygments_lexer": "ipython3",
   "version": "3.7.3"
  }
 },
 "nbformat": 4,
 "nbformat_minor": 1
}
