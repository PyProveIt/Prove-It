{
 "cells": [
  {
   "cell_type": "markdown",
   "metadata": {},
   "source": [
    "Proof of <a class=\"ProveItLink\" href=\"../../../../../../_theory_nbs_/theory.ipynb\">proveit</a>.<a class=\"ProveItLink\" href=\"../../../../../_theory_nbs_/theory.ipynb\">physics</a>.<a class=\"ProveItLink\" href=\"../../../../_theory_nbs_/theory.ipynb\">quantum</a>.<a class=\"ProveItLink\" href=\"../../theory.ipynb\">QPE</a>.<a class=\"ProveItLink\" href=\"../../theorems.ipynb#_delta_diff_in_interval\">_delta_diff_in_interval</a> theorem\n",
    "========"
   ]
  },
  {
   "cell_type": "code",
   "execution_count": 1,
   "metadata": {},
   "outputs": [],
   "source": [
    "import proveit\n",
    "theory = proveit.Theory() # the theorem's theory\n",
    "from proveit import a, b, defaults, ExprTuple, l, m, n, x, y, z\n",
    "from proveit.logic import Equals, InSet\n",
    "from proveit.numbers import Add, frac, greater_eq, Less, LessEq, Mult, Neg, subtract\n",
    "from proveit.numbers import zero, one, two, Complex, IntervalCO, Real, RealNeg, RealPos\n",
    "from proveit.numbers.division import mult_frac_right\n",
    "from proveit.numbers.exponentiation import add_one_right_in_exp, quotient_of_posnat_powers\n",
    "from proveit.numbers.number_sets.real_numbers import neg_is_real_neg_if_pos_is_real_pos\n",
    "from proveit.physics.quantum.QPE import _full_domain, _t, _two_pow_t, _two_pow__t_minus_one\n",
    "from proveit.physics.quantum.QPE import (\n",
    "    _delta_is_real, _scaled_delta_in_interval, _t_in_natural_pos, _two_pow_t_is_nat_pos,\n",
    "    _two_pow_t_minus_one_is_nat_pos)"
   ]
  },
  {
   "cell_type": "code",
   "execution_count": 2,
   "metadata": {},
   "outputs": [
    {
     "data": {
      "text/html": [
       "Under these <a href=\"presumptions.txt\">presumptions</a>, we begin our proof of<br><strong id=\"_delta_diff_in_interval\">_delta_diff_in_interval:</strong> <a class=\"ProveItLink\" href=\"../../../__pv_it/theorems/b891aabb348b4ebf8ddb8088d09054176269d3200/expr.ipynb\"><img src=\"data:image/png;base64,iVBORw0KGgoAAAANSUhEUgAAAZMAAAAzBAMAAACgWfgIAAAAMFBMVEX///+IiIgiIiIQEBB2dnbu\n",
       "7u5ERETMzMzc3NwyMjK6urpmZmaYmJiqqqpUVFQAAAB6qHgnAAAAAXRSTlMAQObYZgAAAAlwSFlz\n",
       "AAAOxAAADsQBlSsOGwAABjVJREFUaN7NWl1oHFUUPrs7k5lkf2OpDz6060oUjTZFY6gvzVpE8KHN\n",
       "CG0hICS0dPtW17ZYStEsBqISMBtppSCti9IHQUysttKuxRUtWgQTqj4UpQmtFkFpIzRujYnr3bnn\n",
       "zs7vndmps/Q+9J5Mz7l7v3v+7wzAnTzEbduUO2g7u+nUlufueZft43CtNu1Bantr8CYqdP6Dz7bX\n",
       "djfhkicpqaslUH5BRFmH/xd6VHXF0x6g6PGqNJO62AoksSKdLzhyzNBpiysU8fd3FDONUsJ8C6CM\n",
       "FtRJ3uDIcQZ3XXHXylrFTDOph1sA5V7cU8qNI/64HyhM6vvgHT+2ns5fOnLIVSTe9gOFSbVPBw4l\n",
       "gt7e6wx2AYmpgh8oKNVxK3Ao+IOhRedgPYxE+7wfKEzqeOBQ1uGWnCNMhHlRfNEPFCY1F7SzSOgI\n",
       "I86pfoTZlfinHyhMaigVdKpHr7/qzLJKo3b4gcKk2tJBez0a1kZnlj2ilisLfqCgVCxovx+hGUxa\n",
       "dmZZFhg1VPEDBaXE5aADGD2yEOfIlp41q9AZykDBSntQ/P8ydqIhU5eRz/RZbehbrc60MXcjlOv9\n",
       "xysWmkkRn1FB/RwQlD48OZo7BPiQFzKFhaaLfJ3UAMDZ+nw0oCbwH7RnWlYk+LE/tuQHCpOaKcHL\n",
       "dc0PB5RWMOiP0KAfmvfE3RwU3W+0k6MSZoOBEl/BVEzXF1c86RBCOzIPeoai03yMeE97UHUxJvsZ\n",
       "TPbP8y3sXzp1TCpNaIVJJYnKH81kegOCwoIwxuTLc3xD/otOryvNGBiTSpK1PwXYFRAUAWu9AYX2\n",
       "xolFLvsTdDralK8wqQjpvN8AWe+OXxly7jhrkLhoZdb4jJE97z+lPY/i1j9XoUwU4lXupjJ0KjYH\n",
       "BaXCJL+0KUIJxBssIKzX/Omp6wp8gX+81Lieea5oWGnrll8hhmWpdFExXDgkMObTxa/RQll8M1Mf\n",
       "dfdJ1nBQvvvoIsTiM/c3oAyq7A8A6DjBIgVhsvF4qu71l8gaa3IliGsbjUI0Hepmsa2LPiJcncak\n",
       "PA0n4a5z7BQVupQtlGWQFrjnSzclDjenFR0UKNaP/hOAcv2gGlCSJdJ2a9tWobTZ3FgtwUQ+DPZQ\n",
       "DAYmVrWbJL6ppH0bGGw+Qv55CEKqkzSgxBS5KhZBLpfLZzlQzhMog8SpCFvJDEW4pS/9qtA+68WB\n",
       "O/lQRGe3h1Hi9eICbDdcwak7ScenK25aAdgEP8X0Wnm3EYzRzdeqeeVJuGwPgYUsLG51gO2gDJlU\n",
       "u1FXISfyqjI+UJ8c1LWuexX5MyxlX+iddYIidcH4N0iu2lzfymr7FCl0Zu3zNfMgzNvitRM8KGHT\n",
       "BTFKJVkUjWbhQi6Xm5VI1IIXCZUrWALw6dzOXK5igTJmTuHxSY3CUm/OyeTl8lt5zabFm/i042n7\n",
       "wmX8jPpW4Ecd3ZAaYucUPgH7zSXfOLxm+mU7rcjTsqkJGW0obNnQTFrHGAhL8qbDeU/lJCl6B+p/\n",
       "Z3W0pWQl6gmR/GJ0e3n3gVMcKFtBVM9h7MAhk1ouOSvfPH4DeEzzjfgKH0qiABESccVUg7aWrMTA\n",
       "7iFbN0KJaPnIAEV+5qaKf19BUq+0+2s1cITC7MQpCPcrcKOQVMCpbTZAiSxCgrCEdLS1zsO8nTOk\n",
       "SJvR5qny0kG5arxDsowrJH3m3zMlVEetpCFRtdDGNKwfHbz7pGizUGbogcc4ZWQPrBHz+raZ13qF\n",
       "Fyw0k+qzLj15263jMd3lETVgaYXXBH4kUMATKVcoIykLjVKyzd2mdLsd5atNXemF5+HQ116v9NgV\n",
       "tJ5u1ZVeFJ3kY0eO0wbHcYESHbbSVzTnCXZ0YI6ccsqRMV2r5H79/Z0NjVLJoK+/oRu35JRYfgAt\n",
       "wcZcX0rEs42kzWgmNRP4GzyXECZlIaQ0vMYFCqlHVptpJrUuaCRuL/BeKZdPMtr1BZ7cXS6nzXTr\n",
       "XuC56L+nVvub0XvABUqY9MBFM41SbfOBQ4HD2INkXSPEIri6vbPUVAu+ctlHDUDa4MYYnvUDhUk9\n",
       "EjwSCGH4v9uN0f3DEI5USz4Mcf1ch1lK0Q8UJvV+K5Bo3cgxPttB+4+ozvM/bUMp6UhLoHj8tM1+\n",
       "M26ftqHUoIroP0PK1/jfPwkTAAAAAElFTkSuQmCC\n",
       "\" style=\"display:inline;vertical-align:middle;\" /></a><br>(see <a class=\"ProveItLink\" href=\"../../../__pv_it/theorems/1cff5c2160fc08a372ddaccbf81c4b43eacefb310/dependencies.ipynb\">dependencies</a>)<br>"
      ],
      "text/plain": [
       "_delta_diff_in_interval: forall_{l in {-2^{t - 1} + 1 .. 2^{t - 1}}} ((delta - (l / 2^{t})) in [-(1 / 2),1 / 2))"
      ]
     },
     "execution_count": 2,
     "metadata": {},
     "output_type": "execute_result"
    }
   ],
   "source": [
    "%proving _delta_diff_in_interval"
   ]
  },
  {
   "cell_type": "markdown",
   "metadata": {},
   "source": [
    "One possibility:<br>\n",
    "We know $2^t \\delta \\in [0, 1)$,\n",
    "so we could look at $2^t \\delta - \\ell$, for $\\ell \\in \\{-2^{t-1}+1, \\ldots, 2^{t-1}\\}$.<br>\n",
    "Then $2^t \\delta - 2^{t-1} \\le 2^t \\delta - \\ell \\le 2^t \\delta + (2^{t-1}-1)$.<br>\n",
    "Then $0 - 2^{t-1} \\le 2^t \\delta - \\ell < 1 + (2^{t-1}-1)$.<br>\n",
    "Then $- 2^{t-1} \\le 2^t \\delta - \\ell < 2^{t-1}$.<br>\n",
    "Dividing everything by $2^{t}$ then gives:<br>\n",
    "$-\\frac{2^{t-1}}{2^t} \\le \\delta - \\frac{\\ell}{2^t} < \\frac{2^{t-1}}{2^t}$,<br>\n",
    "which further simplifies to:<br>\n",
    "$- \\frac{1}{2} \\le \\delta - \\frac{\\ell}{2^t} < \\frac{1}{2}$<br>"
   ]
  },
  {
   "cell_type": "code",
   "execution_count": 3,
   "metadata": {},
   "outputs": [
    {
     "data": {
      "text/html": [
       "<strong id=\"defaults.assumptions\">defaults.assumptions:</strong> <a class=\"ProveItLink\" href=\"../../../__pv_it/_proof__delta_diff_in_interval/9d44703202c90bf74d9fdb2fd6b052ac5a74ac8b0/expr.ipynb\"><img src=\"data:image/png;base64,iVBORw0KGgoAAAANSUhEUgAAAOQAAAAaBAMAAABV4e3XAAAAMFBMVEX///9UVFQiIiKIiIjMzMx2\n",
       "dnYQEBDc3NxEREQyMjLu7u5mZmaqqqq6urqYmJgAAAB66f/FAAAAAXRSTlMAQObYZgAAAAlwSFlz\n",
       "AAAOxAAADsQBlSsOGwAAAmhJREFUSMe9lj1oFFEQx//3ucnt3WUrSSDIuYVirlktgqQ6EG0sskQb\n",
       "bVy0lzTBgEJOCRiEhNNSFC8gooUYC4szIGJnZRoLbTxLCzHFQchhOOe9zd7tx+yxu3hOMfv2vfnv\n",
       "j3lvdnaBSDa+eDgo/ER0C1X9iiB+7QzOno6BZFRbwhW3Iog/9UcfYyAZ1bJwL7ngVzue26WTlxIg\n",
       "farbYpvLBrkNJjjzpOmdeJwoS68qOykeOgMoFrDQ8cV+dhFvtVaB7hBkdoahcaoxjdwpQDUp212f\n",
       "YGEwVOq4ulOykF0ju8cgN1vdIJFV5SqipJqYoFNTG+HI1CLyVkZ7Fsiy1HZOgUGyKokcb2Oe9jBt\n",
       "2AtndL3hR+a7SO2pxpUAsmgMQbIqiVTrEG/MSk3Of53jsqwg1cm+rzlV+PRiFCSrksiMhSm6/Lb3\n",
       "/xG3sWTpXa4chyJZlUSWulijy6S3PQEtT+i8kQQZVFGCVN8dPKDLdRs5qLcbntBjSIIMqpQ/wh2g\n",
       "SuA9OXNeJ6uL2Smq4sJDcavX5IEHTNX149d0XQtHcqpN6g2FA5GlTBh40V+6cN8d+ANJsuRUlykV\n",
       "RW7smCabTXqwdsf9aBM34yM5VVEE0pZS6Uy0TSk12Io9B8zFR3KqnGVX7Cwhvxm+LuxueNXt7cpQ\n",
       "ZM4uhcK+48JU8iUpW/jeRPnt4emuN4PIdK/XawxDpo7sH5WDat+FqOzuoyHv+jJ+uRtseKFWNBDT\n",
       "nB6rmsxiFGS/rcdD0pckazGLsxiFyQ+WeHmmmcWVD6NAPhf7ciLk30d5MwLm0rTz71M08R9tOfJ/\n",
       "7D+zd8BfyFCpsAu96a0AAAAASUVORK5CYII=\n",
       "\" style=\"display:inline;vertical-align:middle;\" /></a><br>"
      ],
      "text/plain": [
       "defaults.assumptions: (l in {-2^{t - 1} + 1 .. 2^{t - 1}})"
      ]
     },
     "execution_count": 3,
     "metadata": {},
     "output_type": "execute_result"
    }
   ],
   "source": [
    "defaults.assumptions = _delta_diff_in_interval.all_conditions()"
   ]
  },
  {
   "cell_type": "code",
   "execution_count": 4,
   "metadata": {},
   "outputs": [
    {
     "data": {
      "text/html": [
       "<span style=\"font-size:20px;\"> <a class=\"ProveItLink\" href=\"../_two_pow_t_is_nat_pos/thm_proof.ipynb\" style=\"text-decoration: none\">&nbsp;&#x22A2;&nbsp;&nbsp;</a><a class=\"ProveItLink\" href=\"../../../__pv_it/theorems/a2ce7dd1709eee58d9638162058f196f35f493ea0/expr.ipynb\"><img src=\"data:image/png;base64,iVBORw0KGgoAAAANSUhEUgAAAEUAAAAUBAMAAAApce1IAAAAMFBMVEX///+qqqqYmJiIiIgiIiLu\n",
       "7u4QEBBUVFS6urp2dnbMzMxEREQyMjJmZmbc3NwAAADzFso2AAAAAXRSTlMAQObYZgAAAAlwSFlz\n",
       "AAAOxAAADsQBlSsOGwAAASBJREFUKM9jYACDcwwEAesHXDK8cBbjAVxquGEMviknFxBSw8AjgCoT\n",
       "8ntPAMO0bw1QNXx3Ty9g4A9A076RowDiSLCa1wycPxja0K0oeTCJgSGB4fbubbt3KzDUMTCkMZiz\n",
       "ormncAPPAwYHmDn5AQz1Dy5zQixj3uLiA2bUKfMdQKgpYWCoX7BWCyzDcRjmrjr2BZYINUDgD7Ph\n",
       "DdzpdQwbuBuQ1HB9hskgYqSOYS2rqwMinFkKYDIHkNQwCUgnIPxwG8bgSnFxcfGGqmEoZUeoYYIb\n",
       "w7oByRyGcFYHOFeSge8BlOmArIbLAK6FawIDM8w7xnA1u4DYCq7myd27VzCj9iDIS3Av+P///wfu\n",
       "oOpWCGPNN6AZrNgTFcdsaFygAACJZEjHST5yjwAAAABJRU5ErkJggg==\n",
       "\" style=\"display:inline;vertical-align:middle;\" /></a></span>"
      ],
      "text/plain": [
       "|- 2^{t} in NaturalPos"
      ]
     },
     "execution_count": 4,
     "metadata": {},
     "output_type": "execute_result"
    }
   ],
   "source": [
    "# previously proven\n",
    "_two_pow_t_is_nat_pos"
   ]
  },
  {
   "cell_type": "code",
   "execution_count": 5,
   "metadata": {},
   "outputs": [
    {
     "data": {
      "text/html": [
       "<span style=\"font-size:20px;\"> <a class=\"ProveItLink\" href=\"../_two_pow_t_minus_one_is_nat_pos/thm_proof.ipynb\" style=\"text-decoration: none\">&nbsp;&#x22A2;&nbsp;&nbsp;</a><a class=\"ProveItLink\" href=\"../../../__pv_it/theorems/fdc5aaccce23f853b415834a94fd23eb3d98ce2b0/expr.ipynb\"><img src=\"data:image/png;base64,iVBORw0KGgoAAAANSUhEUgAAAFoAAAAUBAMAAAD/1DctAAAAMFBMVEX///+qqqqYmJiIiIgiIiLu\n",
       "7u4QEBBUVFS6urp2dnbMzMxEREQyMjJmZmbc3NwAAADzFso2AAAAAXRSTlMAQObYZgAAAAlwSFlz\n",
       "AAAOxAAADsQBlSsOGwAAAT9JREFUKM9jYACDcwxQEHSAgSBg/QBlcBk74FR0AcZghJvIiFv1BijN\n",
       "N+XkAuJVM/AI4DKb1X/3UQbO/Ayoar67pxcw8AfgdAm3QDsDQzzM7NcMnD8Y2hgYVu8GggeYqtn9\n",
       "OBUY2Bh4d+/O3r2JoY6BIY3BnBWnu9mlgcHLAjM7P4Ch/sFlzgB01cxbXHzAqh8ZvEGoLmFgqF+w\n",
       "VgsWOnN+GoAZHIeh+tkfVDFPYEEKE38swfUGZhn7A26GHUiquT5jUQ1PCuwPuC6EhCDikqUAi+oD\n",
       "CNUMiozbEBK3sSjmSnFxcfGGqmYPKINLMGEzmnUDktmsBSFwCUkGvgeYyh2QVDMs5obbOYGBOQBT\n",
       "tTE85oHxxrwaxnty9+4VLE6BpzMw4w5M2P///z/YHF7dCrH6fDaQjCGUnThmQ2IeBQAAYmtTOe5+\n",
       "TdwAAAAASUVORK5CYII=\n",
       "\" style=\"display:inline;vertical-align:middle;\" /></a></span>"
      ],
      "text/plain": [
       "|- 2^{t - 1} in NaturalPos"
      ]
     },
     "execution_count": 5,
     "metadata": {},
     "output_type": "execute_result"
    }
   ],
   "source": [
    "# previously proven\n",
    "_two_pow_t_minus_one_is_nat_pos"
   ]
  },
  {
   "cell_type": "code",
   "execution_count": 6,
   "metadata": {},
   "outputs": [
    {
     "data": {
      "text/html": [
       "<span style=\"font-size:20px;\"> <a class=\"ProveItLink\" href=\"../_scaled_delta_in_interval/thm_proof.ipynb\" style=\"text-decoration: none\">&nbsp;&#x22A2;&nbsp;&nbsp;</a><a class=\"ProveItLink\" href=\"../../../__pv_it/theorems/606435bff720c2e5a200cdcc6604d8d77afc504e0/expr.ipynb\"><img src=\"data:image/png;base64,iVBORw0KGgoAAAANSUhEUgAAAH4AAAAaBAMAAACDaPX3AAAAMFBMVEX///9UVFQiIiKIiIjMzMx2\n",
       "dnYQEBDc3NxEREQyMjLu7u5mZmaqqqq6urqYmJgAAAB66f/FAAAAAXRSTlMAQObYZgAAAAlwSFlz\n",
       "AAAOxAAADsQBlSsOGwAAAkpJREFUOMudlD1oFEEUx//J7rrJ3t7eKYKKQsIhCH6QD0HEQg8LG4us\n",
       "uVq8SsQmi1W6HDbaqJdCFAm6KohicYciflxjBG2NhQErI1hoIQieSCRfb3Zmd2b2buH0wc3cm3m/\n",
       "fW/evHlAIjfwf/KDT85PfbnZI+4KQ7eur0/3yD/ikz15vayte6Npy/HdqQWbDVeFMvha2Xh5LsDe\n",
       "NH86vZAnF3aVfq2bZRRCuWHhQ4ixLrxVeR5rx8n+KJDz2VGtVSwqln3sW42wk5/DvYBne+cd2h4M\n",
       "UVgAtgFnMebI8xtFdqClDt4bhlUT2jHivSYmaJoKMRQ8taQ/Z4WGXGx5uFSqc36gCPevwuM8xmnc\n",
       "AgyVT35VXF2jTaPK/386kvgvNGGuqPxt7ODaiBbp/Hvyneee7Fsy/gbxayp/CpcjxfylXX29j1iz\n",
       "ze81kPyMLy0j/jtmI6W/qPIzgUusvcp56PxvlX+HfZHyIrZpsExtj3w7nD9RIqmJ+H3kNf8T3L+X\n",
       "uO9nr2ENJj0mm8f/UPFP+XO1/C1y/i3sQIbvtCkDdP4//IsKP1CDp93fG4qVLH0YarG1o8cg8m+M\n",
       "KvVTRa6OUPLfcIjGC63WEzV/FcyzQ4n7n1Pqdz8elJ3lSDvDIn6Gz/SZkfX1ZZW3Dvqs/kRS7l4J\n",
       "E/5xZStQYvrmqVmq7wPYtJDVGJL6/3gxrl/RaZKz2sPR++su3d6feN2x5JZgVrP4L1n9477W43Zl\n",
       "8XuyeNnYLsn+1yGd/W8y3f8MdgVuRgKm/7H/p+VVT/AG0TSPmdA7ZhwAAAAASUVORK5CYII=\n",
       "\" style=\"display:inline;vertical-align:middle;\" /></a></span>"
      ],
      "text/plain": [
       "|- (2^{t} * delta) in [0,1)"
      ]
     },
     "execution_count": 6,
     "metadata": {},
     "output_type": "execute_result"
    }
   ],
   "source": [
    "# previously proven\n",
    "_scaled_delta_in_interval"
   ]
  },
  {
   "cell_type": "code",
   "execution_count": 7,
   "metadata": {},
   "outputs": [
    {
     "data": {
      "text/html": [
       "<strong id=\"scaled_delta_less_than_one\">scaled_delta_less_than_one:</strong> <span style=\"font-size:20px;\"> <a class=\"ProveItLink\" href=\"../../../__pv_it/_proof__delta_diff_in_interval/90d01d36e7afa6609ee854a74afaa7f2cd3796810/proof.ipynb\" style=\"text-decoration: none\">&nbsp;&#x22A2;&nbsp;&nbsp;</a><a class=\"ProveItLink\" href=\"../../../__pv_it/_proof__delta_diff_in_interval/8f6d29620a8cb47dd459b0868057446f0f726fc20/expr.ipynb\"><img src=\"data:image/png;base64,iVBORw0KGgoAAAANSUhEUgAAAF8AAAAaBAMAAAAj950ZAAAAMFBMVEX///9UVFQiIiKIiIjMzMx2\n",
       "dnYQEBDc3NxEREQyMjLu7u5mZmaqqqq6urqYmJgAAAB66f/FAAAAAXRSTlMAQObYZgAAAAlwSFlz\n",
       "AAAOxAAADsQBlSsOGwAAAZ9JREFUOMtjYIABzgIGIsFbCLUeTXgDLvU8UJmTaOIVuDSshFClmiGo\n",
       "4nwGODT0Qek5SGLsOzMKGLSwq2dPYGCo3tnCwPALSZCV4eICBkNMxU4LGBi4AxjYGxjiL/AmIEkw\n",
       "LgCFwgI05VzS84FC/BcYGAsY2BKYBZYgpJgFQOH8AMMGe6AG/wUMbL8YGL9zG0QhmfUHSHA3IARO\n",
       "FsA1GAEdoMDA+IVlnwOSUf1AGWaEIx/tQtggCWYxfUCx+uB5oOm88GAwikJyUgeY5Y8S6HwTGIGK\n",
       "Wb5A3RdkgOyHiWCWIooF9QU8QMXsfyHhvukBiqe1GVD8t34CkJAAm84F0SB5ADWUwDY8hAsxgVLW\n",
       "PwYWoJ/Yv+DUwBPAUI4cQV+AvgD64TtWJ0kAaVcGBitkP3xh4DyACCU0T5sBzdDevVsBWUMww0FQ\n",
       "WMHigcsIZlw8MP7uL2Bg+v///wRkDazGAaCQEEBEHCQiBPMnPmBgu4AroyCnpZeI/MsdgEsDRmqF\n",
       "AJYEXBoe4hCXwaVBHX+exgA48zQPDk9UECqX0MEu7MIAtk5mgn+yH7UAAAAASUVORK5CYII=\n",
       "\" style=\"display:inline;vertical-align:middle;\" /></a></span><br>"
      ],
      "text/plain": [
       "scaled_delta_less_than_one: |- (2^{t} * delta) < 1"
      ]
     },
     "execution_count": 7,
     "metadata": {},
     "output_type": "execute_result"
    }
   ],
   "source": [
    "scaled_delta_less_than_one = _scaled_delta_in_interval.derive_element_upper_bound()"
   ]
  },
  {
   "cell_type": "code",
   "execution_count": 8,
   "metadata": {},
   "outputs": [
    {
     "data": {
      "text/html": [
       "<strong id=\"scaled_delta_greatereq_than_zero\">scaled_delta_greatereq_than_zero:</strong> <span style=\"font-size:20px;\"> <a class=\"ProveItLink\" href=\"../../../__pv_it/_proof__delta_diff_in_interval/3db8a858b432d89a4fdeb6fb209a6ca2d3cc263a0/proof.ipynb\" style=\"text-decoration: none\">&nbsp;&#x22A2;&nbsp;&nbsp;</a><a class=\"ProveItLink\" href=\"../../../__pv_it/_proof__delta_diff_in_interval/0c183cc29d4bb6134e13faa723a568b458c1117b0/expr.ipynb\"><img src=\"data:image/png;base64,iVBORw0KGgoAAAANSUhEUgAAAGEAAAAaBAMAAABVzS+SAAAAMFBMVEX///8QEBC6urrMzMxUVFRE\n",
       "RESYmJgiIiLu7u6qqqoyMjLc3NxmZmaIiIh2dnYAAABcDckaAAAAAXRSTlMAQObYZgAAAAlwSFlz\n",
       "AAAOxAAADsQBlSsOGwAAAdNJREFUOMuNVDtLA0EQ/sj78rhE/4DxF3j2QgIWvorY20QsBEFIJ4KQ\n",
       "WNkISR3ER6EggpyF2AixUCIYQwTBTtJpExBBiRGNs7sxt3dxgwO3s3x73+58szML9LUj/Nd8ce4C\n",
       "L3Y4rGZsCaft2uHQrIoQEH+Gno4N+8KyiuFNCx8sSOD53hz8OZrojZsexgntX9k3EM1JYN01iUiS\n",
       "JofYMLtoUUyrwCn0VwzL20yycJuUlQz0rp7Fa+FfgRlgAPcBScc9Gw4o5CS0Zgd7eBbeTcBQDinz\n",
       "VpfCyjNRV0D0Au4PkaCnWmctkgEmgJQxtiCng218R0xivHNCOf275hHJzdqyoU290TiSQ6kO9xcj\n",
       "TFuZ9HJhHLZsCSkKMWFwxjdDJEaQ5RD+pO26P7FDaSjFka/DxTcLWVH5LyBEdiqgxSKdZfsjH2fK\n",
       "NadyfobPOmKNvmgaCXIlg8Xsc2aXM7YRMqWo8gYpIR0mfDGEdx03SBHAXUdErpGoQdXBc4VVrFsX\n",
       "W+TTSAw4q1TKsnK9prGT5+nbbIw7C9FFYWbb7ZYNbDyy8VJR7YPKVjtQ4FVlqzWl+Qo3IWlU2f9J\n",
       "xYKnoFjwm/37vNeUfU7X96ep35Lf98ppYbq/Hy5rc/oL5o+kAAAAAElFTkSuQmCC\n",
       "\" style=\"display:inline;vertical-align:middle;\" /></a></span><br>"
      ],
      "text/plain": [
       "scaled_delta_greatereq_than_zero: |- 0 <= (2^{t} * delta)"
      ]
     },
     "execution_count": 8,
     "metadata": {},
     "output_type": "execute_result"
    }
   ],
   "source": [
    "scaled_delta_greatereq_than_zero = _scaled_delta_in_interval.derive_element_lower_bound()"
   ]
  },
  {
   "cell_type": "code",
   "execution_count": 9,
   "metadata": {},
   "outputs": [
    {
     "data": {
      "text/html": [
       "<strong id=\"scaled_delta\">scaled_delta:</strong> <a class=\"ProveItLink\" href=\"../../../__pv_it/common/de61a41c2821d7fdb1c272bcbdcc8bf13f2450a80/expr.ipynb\"><img src=\"data:image/png;base64,iVBORw0KGgoAAAANSUhEUgAAACoAAAATBAMAAAAUmIINAAAAMFBMVEX///+qqqqYmJiIiIgiIiLu\n",
       "7u4QEBBUVFS6urp2dnbMzMxEREQyMjJmZmbc3NwAAADzFso2AAAAAXRSTlMAQObYZgAAAAlwSFlz\n",
       "AAAOxAAADsQBlSsOGwAAAMVJREFUGNNjYACDcwxYAOsHbKKMB7AI8k05uQCLMI8AEuftsX0MfHdP\n",
       "L2DgD0ASncBRyvCagfMHQxuyxlIgrmNgSGMwZ0Uy1xyI8wMY6h9c5kQyIh5oSQkDQ/2CtVpIJnB/\n",
       "BVP+qG4v/A2iuD6jiOow1IOMYylA8dE/BnmQ1bfhofEHSLBvYFgPFGVCKPUFYn4FhvVASpKB7wGS\n",
       "CfELgCYzcE1gYEb2L/8ChoMMDE/u3r2CbBunASPQSP////+guGyyJQMDAJtzLxL3qxHNAAAAAElF\n",
       "TkSuQmCC\n",
       "\" style=\"display:inline;vertical-align:middle;\" /></a><br>"
      ],
      "text/plain": [
       "scaled_delta: 2^{t} * delta"
      ]
     },
     "execution_count": 9,
     "metadata": {},
     "output_type": "execute_result"
    }
   ],
   "source": [
    "# for convenience, name the product 2^t * delta\n",
    "scaled_delta = _scaled_delta_in_interval.element"
   ]
  },
  {
   "cell_type": "code",
   "execution_count": 10,
   "metadata": {},
   "outputs": [
    {
     "data": {
      "text/html": [
       "<strong id=\"scaled_delta_minus_ell\">scaled_delta_minus_ell:</strong> <a class=\"ProveItLink\" href=\"../../../__pv_it/_proof__delta_diff_in_interval/55fde9abd77d082d2acdac07b777cdd24bec2e7a0/expr.ipynb\"><img src=\"data:image/png;base64,iVBORw0KGgoAAAANSUhEUgAAAFoAAAAaBAMAAADF3lZdAAAAMFBMVEX///9UVFQiIiKIiIjMzMx2\n",
       "dnYQEBDc3NxEREQyMjLu7u5mZmaqqqq6urqYmJgAAAB66f/FAAAAAXRSTlMAQObYZgAAAAlwSFlz\n",
       "AAAOxAAADsQBlSsOGwAAAY1JREFUOMuNlLFPwkAUh3+FQgUK7aiJAxoToyxVEwcnFmcadXKxiYtj\n",
       "FyOJgwwOTlp3hw4uTLg4IImR0UlcXYQ/wMjQhISoeNdiuF6vxLfc5evHu/de7gD+ImPjP/ERLA0O\n",
       "3wlldYyfOV4V2vVgOV7ZC/OCIbIvx+sNw5TmkY1VgaxYwGnzHBgyMIVXF2u8uuMhZ0Kp4aCTtxgu\n",
       "ubRtl7MLfWgdSDbSVlK/nfCkTkfa5eycg4qL9BDSIGfsT3j2i36scXbCwDo5twjJkx/LzIcrUkXS\n",
       "4uyzMuaCn/VDvP1C8uaHnP0JXPibSmi4BUcipuxx9ixw7W8WwkfaKjGVb84+BEoINdRw/CQ0b9a3\n",
       "64s0lshOHoxz9yZ901vzA5n0oXCV0K6prZo4YXDWI5UHudiY0V1aOraBLZZ7yDxFZ6J1TWySI0ut\n",
       "VpHlu2jTyXDz1t4MvLtIjEYjh+WpDZO2rnPX5B5Id+LeVOSe0AxmnB25g3SKVpzdE8H5OHt5yruM\n",
       "hPhdqjGFV6f+n/DxIGC/AC5YQHJWgWEAAAAASUVORK5CYII=\n",
       "\" style=\"display:inline;vertical-align:middle;\" /></a><br>"
      ],
      "text/plain": [
       "scaled_delta_minus_ell: (2^{t} * delta) - l"
      ]
     },
     "execution_count": 10,
     "metadata": {},
     "output_type": "execute_result"
    }
   ],
   "source": [
    "# for convenience, name the difference 2^t * delta - ell\n",
    "scaled_delta_minus_ell = subtract(scaled_delta, l)"
   ]
  },
  {
   "cell_type": "code",
   "execution_count": 11,
   "metadata": {},
   "outputs": [
    {
     "data": {
      "text/html": [
       "<strong id=\"ell_in_full_domain\">ell_in_full_domain:</strong> <a class=\"ProveItLink\" href=\"../../../__pv_it/theorems/8bc9b38cf75c7371ab646fd064ad09fc02345f250/expr.ipynb\"><img src=\"data:image/png;base64,iVBORw0KGgoAAAANSUhEUgAAANYAAAAYBAMAAAB0Lx7ZAAAAMFBMVEX///+qqqq6urru7u4QEBBE\n",
       "RERUVFTc3NyIiIgyMjJmZmaYmJjMzMwiIiJ2dnYAAACPW0xlAAAAAXRSTlMAQObYZgAAAAlwSFlz\n",
       "AAAOxAAADsQBlSsOGwAAAeBJREFUSMdjYCAMOAugDOadDMQD8nTZwxgnemmuSxLOkqW6LiMFFG7d\n",
       "zTdk2IWmq7AAqyqOSQaoAhPJ8heqLp5UkKFv/6ApkkeyqmplDAPDZzx28VzGYg02XawJQIL7A5rK\n",
       "twgmewDDewUmBwaeUCAIx2KX2crPmFZh1cV3AUhwTcBtF1sBA4sDR4INhr+YNsACHItdWHWB7eJt\n",
       "gIi03r07Ad0uls8MbN+5Gh5j2MXYgMcurLrAdtUfAAtoNmPz1wUGtj88qw/A0tb8F8TYhVUX2K79\n",
       "kDCejC0MQd7+gC2R4bULqy6wXamoJQoDw0oUNecbyLELUxeHA5DwgNiFSEXeKGquMZBjF6Yu9o/A\n",
       "DPIdzDxyFwgCQGKZwFKDeS6IexcY4lwBmAZx3b17xffu3QTcdmHTZTYR4jcGBlO42KlgZBXbGMjx\n",
       "FzZdLxWA+RlcTPAiBMOQzXzAUE66Xdh0MQIV8m94ANbTgDUdnmNgaCbdLmy6+IDhx6/cgFZUIpdR\n",
       "t1atuoDXLj5IdDP/hBG4dIHSPPc6aNQFGWDaxfv///8J+OxiS/mZDWbcghM4dPEh264Xi1lG4QSM\n",
       "DQwkAj6s4UOMXfCyl0K7WhhoAbiwxkW9AC3sMsEaEuzLaGBZXSIDAwB4aaUFdo5x/QAAAABJRU5E\n",
       "rkJggg==\n",
       "\" style=\"display:inline;vertical-align:middle;\" /></a><br>"
      ],
      "text/plain": [
       "ell_in_full_domain: l in {-2^{t - 1} + 1 .. 2^{t - 1}}"
      ]
     },
     "execution_count": 11,
     "metadata": {},
     "output_type": "execute_result"
    }
   ],
   "source": [
    "# for convenience, name the ell membership obj\n",
    "ell_in_full_domain = defaults.assumptions[0]"
   ]
  },
  {
   "cell_type": "code",
   "execution_count": 12,
   "metadata": {},
   "outputs": [
    {
     "data": {
      "text/html": [
       "<strong id=\"ell_upper_bound\">ell_upper_bound:</strong> <span style=\"font-size:20px;\"><a class=\"ProveItLink\" href=\"../../../__pv_it/theorems/8bc9b38cf75c7371ab646fd064ad09fc02345f250/expr.ipynb\"><img src=\"data:image/png;base64,iVBORw0KGgoAAAANSUhEUgAAANYAAAAYBAMAAAB0Lx7ZAAAAMFBMVEX///+qqqq6urru7u4QEBBE\n",
       "RERUVFTc3NyIiIgyMjJmZmaYmJjMzMwiIiJ2dnYAAACPW0xlAAAAAXRSTlMAQObYZgAAAAlwSFlz\n",
       "AAAOxAAADsQBlSsOGwAAAeBJREFUSMdjYCAMOAugDOadDMQD8nTZwxgnemmuSxLOkqW6LiMFFG7d\n",
       "zTdk2IWmq7AAqyqOSQaoAhPJ8heqLp5UkKFv/6ApkkeyqmplDAPDZzx28VzGYg02XawJQIL7A5rK\n",
       "twgmewDDewUmBwaeUCAIx2KX2crPmFZh1cV3AUhwTcBtF1sBA4sDR4INhr+YNsACHItdWHWB7eJt\n",
       "gIi03r07Ad0uls8MbN+5Gh5j2MXYgMcurLrAdtUfAAtoNmPz1wUGtj88qw/A0tb8F8TYhVUX2K79\n",
       "kDCejC0MQd7+gC2R4bULqy6wXamoJQoDw0oUNecbyLELUxeHA5DwgNiFSEXeKGquMZBjF6Yu9o/A\n",
       "DPIdzDxyFwgCQGKZwFKDeS6IexcY4lwBmAZx3b17xffu3QTcdmHTZTYR4jcGBlO42KlgZBXbGMjx\n",
       "FzZdLxWA+RlcTPAiBMOQzXzAUE66Xdh0MQIV8m94ANbTgDUdnmNgaCbdLmy6+IDhx6/cgFZUIpdR\n",
       "t1atuoDXLj5IdDP/hBG4dIHSPPc6aNQFGWDaxfv///8J+OxiS/mZDWbcghM4dPEh264Xi1lG4QSM\n",
       "DQwkAj6s4UOMXfCyl0K7WhhoAbiwxkW9AC3sMsEaEuzLaGBZXSIDAwB4aaUFdo5x/QAAAABJRU5E\n",
       "rkJggg==\n",
       "\" style=\"display:inline;vertical-align:middle;\" /></a> <a class=\"ProveItLink\" href=\"../../../__pv_it/_proof__delta_diff_in_interval/b7d2b6636356485290f4f0eaaa0d70b381445b3a0/proof.ipynb\" style=\"text-decoration: none\">&nbsp;&#x22A2;&nbsp;&nbsp;</a><a class=\"ProveItLink\" href=\"../../../__pv_it/_proof__delta_diff_in_interval/d959c94c6b67001a2d9a6245fbea5be37f398c430/expr.ipynb\"><img src=\"data:image/png;base64,iVBORw0KGgoAAAANSUhEUgAAAEYAAAAWBAMAAACPjvdAAAAAMFBMVEX///+qqqq6urru7u4QEBBE\n",
       "RERUVFTc3NyIiIgyMjJmZmaYmJjMzMwiIiJ2dnYAAACPW0xlAAAAAXRSTlMAQObYZgAAAAlwSFlz\n",
       "AAAOxAAADsQBlSsOGwAAAPlJREFUKM9jYMAOOAugDOadDLiAPYxxohenGkk4SxaXkrqbbwiqYZiI\n",
       "Ys7bP2jSVStjGBg+o6jh/oBwBMgz7AEM7xWYHBh4QoEgHKKGawJMyd7FIJKtgIHFgSPBBtkc3gYo\n",
       "p/cxmGL5zMD2navhMbKa+gOQsHoLVct2gYHtD8/qAzAfzn/BwLAfomTtBoSreT+geSMVrCRTAEno\n",
       "fAOaGg8wiaLmGpoSnu9gih3JLq4ANDUcDgyobmZg2IYe6KwJBqh+Z2B8wFCOqoZ/wwPUMGQ4x8DQ\n",
       "jKZGGeEJSVCgsN9ateoCqhrudWiW8/7//38CAw0B810wOIBVEgD+yEMMvKrdxwAAAABJRU5ErkJg\n",
       "gg==\n",
       "\" style=\"display:inline;vertical-align:middle;\" /></a></span><br>"
      ],
      "text/plain": [
       "ell_upper_bound: {l in {-2^{t - 1} + 1 .. 2^{t - 1}}} |- l <= 2^{t - 1}"
      ]
     },
     "execution_count": 12,
     "metadata": {},
     "output_type": "execute_result"
    }
   ],
   "source": [
    "ell_upper_bound = ell_in_full_domain.derive_element_upper_bound()"
   ]
  },
  {
   "cell_type": "code",
   "execution_count": 13,
   "metadata": {},
   "outputs": [
    {
     "data": {
      "text/html": [
       "<strong id=\"ell_lower_bound\">ell_lower_bound:</strong> <span style=\"font-size:20px;\"><a class=\"ProveItLink\" href=\"../../../__pv_it/theorems/8bc9b38cf75c7371ab646fd064ad09fc02345f250/expr.ipynb\"><img src=\"data:image/png;base64,iVBORw0KGgoAAAANSUhEUgAAANYAAAAYBAMAAAB0Lx7ZAAAAMFBMVEX///+qqqq6urru7u4QEBBE\n",
       "RERUVFTc3NyIiIgyMjJmZmaYmJjMzMwiIiJ2dnYAAACPW0xlAAAAAXRSTlMAQObYZgAAAAlwSFlz\n",
       "AAAOxAAADsQBlSsOGwAAAeBJREFUSMdjYCAMOAugDOadDMQD8nTZwxgnemmuSxLOkqW6LiMFFG7d\n",
       "zTdk2IWmq7AAqyqOSQaoAhPJ8heqLp5UkKFv/6ApkkeyqmplDAPDZzx28VzGYg02XawJQIL7A5rK\n",
       "twgmewDDewUmBwaeUCAIx2KX2crPmFZh1cV3AUhwTcBtF1sBA4sDR4INhr+YNsACHItdWHWB7eJt\n",
       "gIi03r07Ad0uls8MbN+5Gh5j2MXYgMcurLrAdtUfAAtoNmPz1wUGtj88qw/A0tb8F8TYhVUX2K79\n",
       "kDCejC0MQd7+gC2R4bULqy6wXamoJQoDw0oUNecbyLELUxeHA5DwgNiFSEXeKGquMZBjF6Yu9o/A\n",
       "DPIdzDxyFwgCQGKZwFKDeS6IexcY4lwBmAZx3b17xffu3QTcdmHTZTYR4jcGBlO42KlgZBXbGMjx\n",
       "FzZdLxWA+RlcTPAiBMOQzXzAUE66Xdh0MQIV8m94ANbTgDUdnmNgaCbdLmy6+IDhx6/cgFZUIpdR\n",
       "t1atuoDXLj5IdDP/hBG4dIHSPPc6aNQFGWDaxfv///8J+OxiS/mZDWbcghM4dPEh264Xi1lG4QSM\n",
       "DQwkAj6s4UOMXfCyl0K7WhhoAbiwxkW9AC3sMsEaEuzLaGBZXSIDAwB4aaUFdo5x/QAAAABJRU5E\n",
       "rkJggg==\n",
       "\" style=\"display:inline;vertical-align:middle;\" /></a> <a class=\"ProveItLink\" href=\"../../../__pv_it/_proof__delta_diff_in_interval/387a1a50cb93ed6f9d4a68e2c5c517a6a0806e2a0/proof.ipynb\" style=\"text-decoration: none\">&nbsp;&#x22A2;&nbsp;&nbsp;</a><a class=\"ProveItLink\" href=\"../../../__pv_it/_proof__delta_diff_in_interval/df26de15e6281c28c9df783cf413d8b0c3c4c5990/expr.ipynb\"><img src=\"data:image/png;base64,iVBORw0KGgoAAAANSUhEUgAAAIwAAAAaBAMAAACX0alTAAAAMFBMVEX///9UVFQiIiKIiIjMzMx2\n",
       "dnYQEBDc3NxEREQyMjLu7u5mZmaqqqq6urqYmJgAAAB66f/FAAAAAXRSTlMAQObYZgAAAAlwSFlz\n",
       "AAAOxAAADsQBlSsOGwAAAcpJREFUOMtjYEAHnAVQBtdLBlLAW1TuehjD2Qir8g3YTeFBEz8JZx3C\n",
       "qr4CuzErUbmlmiH4jeEzwCrch8afQ8A1DFrYBNkTEOzqnS0MDL/wGMMCMsIQQzjoCwN3AMLEBob4\n",
       "C7wJDCwdQNCOxZiFO0F2rF+AFJDgaOX7wMB/AS7GWMDAlsAssATDNbwPoAxmkDGcD+A6Hu0CU9wT\n",
       "GPwRZrP9YmD8zm0QhWEMjwGyMdwNMHEjqFImAwakxMGowMD4hWWfAyzO5gdjNYYZGppcQTDhegcG\n",
       "SRTfM33AmrRQjOGFRALXJrjn3jMwdKBo8DcgbAzLF7Apkgfg8hIMDBNRNCgyEDaG/S+YjWRMMgOD\n",
       "NtDgSUog4IAcegjAraSklqSkJAA3hgtiDDvcUyzf0VzzkIEY13xBC2JQmCMbwxPAUE5E2HxHi3AO\n",
       "gQWg4IEDVwYGK6JjCpH8+B8EMJghZS/t3bsV8BrDCnIIH1IuPAlKZPy3DBjuI1Ix0////yfgM4ZR\n",
       "7KccMMwF0IuOrcAccIFw+ciDkpqQ8hRSfAYQNoYXRSNyDkcUIQkMJAJIquBSgiU2CJAh1Rh1Yspi\n",
       "ggBHWcwTQJoxFcTVU4TALmyCABH0b3ili4TYAAAAAElFTkSuQmCC\n",
       "\" style=\"display:inline;vertical-align:middle;\" /></a></span><br>"
      ],
      "text/plain": [
       "ell_lower_bound: {l in {-2^{t - 1} + 1 .. 2^{t - 1}}} |- (-2^{t - 1} + 1) <= l"
      ]
     },
     "execution_count": 13,
     "metadata": {},
     "output_type": "execute_result"
    }
   ],
   "source": [
    "ell_lower_bound = ell_in_full_domain.derive_element_lower_bound()"
   ]
  },
  {
   "cell_type": "markdown",
   "metadata": {},
   "source": [
    "#### Preparing to use (-1) multiplier in $\\le$ Relation\n",
    "Further below, we need to multiply both sides of a $\\le$ relation by $-1$, but need to explicitly know that -1 < 0."
   ]
  },
  {
   "cell_type": "code",
   "execution_count": 14,
   "metadata": {},
   "outputs": [
    {
     "data": {
      "text/html": [
       "<span style=\"font-size:20px;\"> <a class=\"ProveItLink\" href=\"../../../__pv_it/_proof__delta_diff_in_interval/51c4c828cad189120a5edfc3f1f68999d9f3d3ec0/proof.ipynb\" style=\"text-decoration: none\">&nbsp;&#x22A2;&nbsp;&nbsp;</a><a class=\"ProveItLink\" href=\"../../../__pv_it/_proof__delta_diff_in_interval/089b0d278aeea79b0d51b9e2dfeb554ae96ea8f80/expr.ipynb\"><img src=\"data:image/png;base64,iVBORw0KGgoAAAANSUhEUgAAAE8AAAAVBAMAAAD1D64kAAAAMFBMVEX////MzMxUVFRERES6uroi\n",
       "IiIQEBCYmJhmZmYyMjLu7u52dnaqqqqIiIjc3NwAAACW8nlqAAAAAXRSTlMAQObYZgAAAAlwSFlz\n",
       "AAAOxAAADsQBlSsOGwAAASNJREFUKM9jYGB4wIAM+BhwAd4DKFyWC7gUnkZiiy5gYLiOqWT3DaCt\n",
       "XBPgfC6N+UCFnAvQ1XEe4IpjYOAoQBK6D1TE3oCusJSBYTMDAxsDmkKGLASfZx6INGJgOL+A4SSG\n",
       "wulwLnsE2Bk/GBjkDzB0YyjcBA+PaLA6LpDCAiT9MIWVUM7qWGjI/gYqvMAQg6HwGIT9IpwBSeEG\n",
       "hhSg2VNDQUAAqlAeLM00Bx5qQIX+F0AK0Ux0Q1MI8sz5A1isPopmNYMxA0P9AgZbDIXFaJ5hKGNg\n",
       "6EQKDBDYD0pJ8ABbGwuJTdYDXInAdICkTil/EjBCQxABDg3I7ktAj7IKoMUsXwCCzT4PiY2eBlBS\n",
       "CTKwQ+M/xpVwFxPQiHATatrnfYBdGQCH309Qvw6GFwAAAABJRU5ErkJggg==\n",
       "\" style=\"display:inline;vertical-align:middle;\" /></a></span>"
      ],
      "text/plain": [
       "|- (-1) < 0"
      ]
     },
     "execution_count": 14,
     "metadata": {},
     "output_type": "execute_result"
    }
   ],
   "source": [
    "Less(Neg(one), zero).prove()"
   ]
  },
  {
   "cell_type": "markdown",
   "metadata": {},
   "source": [
    "#### Upper Bound\n",
    "Working on upper bound, using information about the bounds on the individual pieces …"
   ]
  },
  {
   "cell_type": "code",
   "execution_count": 15,
   "metadata": {},
   "outputs": [
    {
     "data": {
      "text/html": [
       "<span style=\"font-size:20px;\"><a class=\"ProveItLink\" href=\"../../../__pv_it/theorems/8bc9b38cf75c7371ab646fd064ad09fc02345f250/expr.ipynb\"><img src=\"data:image/png;base64,iVBORw0KGgoAAAANSUhEUgAAANYAAAAYBAMAAAB0Lx7ZAAAAMFBMVEX///+qqqq6urru7u4QEBBE\n",
       "RERUVFTc3NyIiIgyMjJmZmaYmJjMzMwiIiJ2dnYAAACPW0xlAAAAAXRSTlMAQObYZgAAAAlwSFlz\n",
       "AAAOxAAADsQBlSsOGwAAAeBJREFUSMdjYCAMOAugDOadDMQD8nTZwxgnemmuSxLOkqW6LiMFFG7d\n",
       "zTdk2IWmq7AAqyqOSQaoAhPJ8heqLp5UkKFv/6ApkkeyqmplDAPDZzx28VzGYg02XawJQIL7A5rK\n",
       "twgmewDDewUmBwaeUCAIx2KX2crPmFZh1cV3AUhwTcBtF1sBA4sDR4INhr+YNsACHItdWHWB7eJt\n",
       "gIi03r07Ad0uls8MbN+5Gh5j2MXYgMcurLrAdtUfAAtoNmPz1wUGtj88qw/A0tb8F8TYhVUX2K79\n",
       "kDCejC0MQd7+gC2R4bULqy6wXamoJQoDw0oUNecbyLELUxeHA5DwgNiFSEXeKGquMZBjF6Yu9o/A\n",
       "DPIdzDxyFwgCQGKZwFKDeS6IexcY4lwBmAZx3b17xffu3QTcdmHTZTYR4jcGBlO42KlgZBXbGMjx\n",
       "FzZdLxWA+RlcTPAiBMOQzXzAUE66Xdh0MQIV8m94ANbTgDUdnmNgaCbdLmy6+IDhx6/cgFZUIpdR\n",
       "t1atuoDXLj5IdDP/hBG4dIHSPPc6aNQFGWDaxfv///8J+OxiS/mZDWbcghM4dPEh264Xi1lG4QSM\n",
       "DQwkAj6s4UOMXfCyl0K7WhhoAbiwxkW9AC3sMsEaEuzLaGBZXSIDAwB4aaUFdo5x/QAAAABJRU5E\n",
       "rkJggg==\n",
       "\" style=\"display:inline;vertical-align:middle;\" /></a> <a class=\"ProveItLink\" href=\"../../../__pv_it/_proof__delta_diff_in_interval/387a1a50cb93ed6f9d4a68e2c5c517a6a0806e2a0/proof.ipynb\" style=\"text-decoration: none\">&nbsp;&#x22A2;&nbsp;&nbsp;</a><a class=\"ProveItLink\" href=\"../../../__pv_it/_proof__delta_diff_in_interval/df26de15e6281c28c9df783cf413d8b0c3c4c5990/expr.ipynb\"><img src=\"data:image/png;base64,iVBORw0KGgoAAAANSUhEUgAAAIwAAAAaBAMAAACX0alTAAAAMFBMVEX///9UVFQiIiKIiIjMzMx2\n",
       "dnYQEBDc3NxEREQyMjLu7u5mZmaqqqq6urqYmJgAAAB66f/FAAAAAXRSTlMAQObYZgAAAAlwSFlz\n",
       "AAAOxAAADsQBlSsOGwAAAcpJREFUOMtjYEAHnAVQBtdLBlLAW1TuehjD2Qir8g3YTeFBEz8JZx3C\n",
       "qr4CuzErUbmlmiH4jeEzwCrch8afQ8A1DFrYBNkTEOzqnS0MDL/wGMMCMsIQQzjoCwN3AMLEBob4\n",
       "C7wJDCwdQNCOxZiFO0F2rF+AFJDgaOX7wMB/AS7GWMDAlsAssATDNbwPoAxmkDGcD+A6Hu0CU9wT\n",
       "GPwRZrP9YmD8zm0QhWEMjwGyMdwNMHEjqFImAwakxMGowMD4hWWfAyzO5gdjNYYZGppcQTDhegcG\n",
       "SRTfM33AmrRQjOGFRALXJrjn3jMwdKBo8DcgbAzLF7Apkgfg8hIMDBNRNCgyEDaG/S+YjWRMMgOD\n",
       "NtDgSUog4IAcegjAraSklqSkJAA3hgtiDDvcUyzf0VzzkIEY13xBC2JQmCMbwxPAUE5E2HxHi3AO\n",
       "gQWg4IEDVwYGK6JjCpH8+B8EMJghZS/t3bsV8BrDCnIIH1IuPAlKZPy3DBjuI1Ix0////yfgM4ZR\n",
       "7KccMMwF0IuOrcAccIFw+ciDkpqQ8hRSfAYQNoYXRSNyDkcUIQkMJAJIquBSgiU2CJAh1Rh1Yspi\n",
       "ggBHWcwTQJoxFcTVU4TALmyCABH0b3ili4TYAAAAAElFTkSuQmCC\n",
       "\" style=\"display:inline;vertical-align:middle;\" /></a></span>"
      ],
      "text/plain": [
       "{l in {-2^{t - 1} + 1 .. 2^{t - 1}}} |- (-2^{t - 1} + 1) <= l"
      ]
     },
     "execution_count": 15,
     "metadata": {},
     "output_type": "execute_result"
    }
   ],
   "source": [
    "# recall\n",
    "ell_lower_bound"
   ]
  },
  {
   "cell_type": "code",
   "execution_count": 16,
   "metadata": {},
   "outputs": [
    {
     "data": {
      "text/html": [
       "<strong id=\"negative_ell_upper_bound\">negative_ell_upper_bound:</strong> <span style=\"font-size:20px;\"><a class=\"ProveItLink\" href=\"../../../__pv_it/theorems/8bc9b38cf75c7371ab646fd064ad09fc02345f250/expr.ipynb\"><img src=\"data:image/png;base64,iVBORw0KGgoAAAANSUhEUgAAANYAAAAYBAMAAAB0Lx7ZAAAAMFBMVEX///+qqqq6urru7u4QEBBE\n",
       "RERUVFTc3NyIiIgyMjJmZmaYmJjMzMwiIiJ2dnYAAACPW0xlAAAAAXRSTlMAQObYZgAAAAlwSFlz\n",
       "AAAOxAAADsQBlSsOGwAAAeBJREFUSMdjYCAMOAugDOadDMQD8nTZwxgnemmuSxLOkqW6LiMFFG7d\n",
       "zTdk2IWmq7AAqyqOSQaoAhPJ8heqLp5UkKFv/6ApkkeyqmplDAPDZzx28VzGYg02XawJQIL7A5rK\n",
       "twgmewDDewUmBwaeUCAIx2KX2crPmFZh1cV3AUhwTcBtF1sBA4sDR4INhr+YNsACHItdWHWB7eJt\n",
       "gIi03r07Ad0uls8MbN+5Gh5j2MXYgMcurLrAdtUfAAtoNmPz1wUGtj88qw/A0tb8F8TYhVUX2K79\n",
       "kDCejC0MQd7+gC2R4bULqy6wXamoJQoDw0oUNecbyLELUxeHA5DwgNiFSEXeKGquMZBjF6Yu9o/A\n",
       "DPIdzDxyFwgCQGKZwFKDeS6IexcY4lwBmAZx3b17xffu3QTcdmHTZTYR4jcGBlO42KlgZBXbGMjx\n",
       "FzZdLxWA+RlcTPAiBMOQzXzAUE66Xdh0MQIV8m94ANbTgDUdnmNgaCbdLmy6+IDhx6/cgFZUIpdR\n",
       "t1atuoDXLj5IdDP/hBG4dIHSPPc6aNQFGWDaxfv///8J+OxiS/mZDWbcghM4dPEh264Xi1lG4QSM\n",
       "DQwkAj6s4UOMXfCyl0K7WhhoAbiwxkW9AC3sMsEaEuzLaGBZXSIDAwB4aaUFdo5x/QAAAABJRU5E\n",
       "rkJggg==\n",
       "\" style=\"display:inline;vertical-align:middle;\" /></a> <a class=\"ProveItLink\" href=\"../../../__pv_it/_proof__delta_diff_in_interval/1f6c21ac16d5e0abe401449ab3aa2084966f9b0e0/proof.ipynb\" style=\"text-decoration: none\">&nbsp;&#x22A2;&nbsp;&nbsp;</a><a class=\"ProveItLink\" href=\"../../../__pv_it/_proof__delta_diff_in_interval/52eefb8f1873cfd894ccb72e54998ac23e5f98760/expr.ipynb\"><img src=\"data:image/png;base64,iVBORw0KGgoAAAANSUhEUgAAAJsAAAAaBAMAAABSozPCAAAAMFBMVEX///9UVFQiIiKIiIjMzMx2\n",
       "dnYQEBDc3NxEREQyMjLu7u5mZmaqqqq6urqYmJgAAAB66f/FAAAAAXRSTlMAQObYZgAAAAlwSFlz\n",
       "AAAOxAAADsQBlSsOGwAAAiZJREFUSMdjYIABzgIog+slAyXgLYRaD+M7G2FTxU2kaTwbIPRJuMgh\n",
       "bMrYG4gzbiWEKtUMwWscw2NsggUYnD4oZw5+1zEwLcAUYz6AzLsM8kQCA0P1zhYGhl94jHMCGsUs\n",
       "gGncUQQz6AsD8wNgEAeAgiX+Am8CA0sHELRjGsclPR9oHBfEPq55SBITEGy+DwwMsxgY+C8wMBYw\n",
       "sCUwCyzB7Tp7kEeh5ixVRsT2A6SYBxr9moHBfwED2y8Gxu/cBlEEjNsBCzBVWCiyIQetAZC/gAGY\n",
       "yBgVGBi/sOxzgEqUzg/GapwZ3F8w804iKakHaud8wCAJMfsD3sQENu4+PGp5ZkMSyFYkJe+BmFWA\n",
       "oQPM8TcgbJy/A5zPOxFsNFKsMEiAnD2BYSKYo8hA2Lj6CwjjZoCN00FSkgxydQKDNjhasOQgrklK\n",
       "IOAAN2493DieiRDP5iJUsXwH8lk+QFz3kIEY18E8y6cNDcVcpPyRAHJ0Atg4ngCGciLCrgA9oSB5\n",
       "lkMAKMijAA5CVwYGK6JjFikZNyNU8D8IADq7AZSa2LV371bAa1w8yGHPMDJZIJJxtwzAGRZoJ9P/\n",
       "//8n4DNNMH8iMDttxCwZkLIsKA0yXWBgu0BsqT0Ps8xyQOUXgR1IHOD6hSHEtwGVvw+YVhKINI4P\n",
       "Ut5xKSGSI0M7ZvkvQ6RxTAWYYitQeBwFiLqCIMBWV7CjZHVzBkgaJgYQW5PB6lkCgHsBMaoAV3eA\n",
       "WWKnW08AAAAASUVORK5CYII=\n",
       "\" style=\"display:inline;vertical-align:middle;\" /></a></span><br>"
      ],
      "text/plain": [
       "negative_ell_upper_bound: {l in {-2^{t - 1} + 1 .. 2^{t - 1}}} |- (2^{t - 1} - 1) >= (-l)"
      ]
     },
     "execution_count": 16,
     "metadata": {},
     "output_type": "execute_result"
    }
   ],
   "source": [
    "# The deduce_bound() method called on the subtraction or difference is\n",
    "# actually being called on an Add and thus looking for relations involving\n",
    "# negative ell instead of ell; to make this work, we needed to explicitly\n",
    "# prove that our multiplier (-1) is less than zero (see work above)\n",
    "negative_ell_upper_bound = ell_lower_bound.left_mult_both_sides(Neg(one)).simplify()"
   ]
  },
  {
   "cell_type": "code",
   "execution_count": 17,
   "metadata": {},
   "outputs": [
    {
     "data": {
      "text/html": [
       "<strong id=\"negative_ell_upper_bound\">negative_ell_upper_bound:</strong> <span style=\"font-size:20px;\"><a class=\"ProveItLink\" href=\"../../../__pv_it/theorems/8bc9b38cf75c7371ab646fd064ad09fc02345f250/expr.ipynb\"><img src=\"data:image/png;base64,iVBORw0KGgoAAAANSUhEUgAAANYAAAAYBAMAAAB0Lx7ZAAAAMFBMVEX///+qqqq6urru7u4QEBBE\n",
       "RERUVFTc3NyIiIgyMjJmZmaYmJjMzMwiIiJ2dnYAAACPW0xlAAAAAXRSTlMAQObYZgAAAAlwSFlz\n",
       "AAAOxAAADsQBlSsOGwAAAeBJREFUSMdjYCAMOAugDOadDMQD8nTZwxgnemmuSxLOkqW6LiMFFG7d\n",
       "zTdk2IWmq7AAqyqOSQaoAhPJ8heqLp5UkKFv/6ApkkeyqmplDAPDZzx28VzGYg02XawJQIL7A5rK\n",
       "twgmewDDewUmBwaeUCAIx2KX2crPmFZh1cV3AUhwTcBtF1sBA4sDR4INhr+YNsACHItdWHWB7eJt\n",
       "gIi03r07Ad0uls8MbN+5Gh5j2MXYgMcurLrAdtUfAAtoNmPz1wUGtj88qw/A0tb8F8TYhVUX2K79\n",
       "kDCejC0MQd7+gC2R4bULqy6wXamoJQoDw0oUNecbyLELUxeHA5DwgNiFSEXeKGquMZBjF6Yu9o/A\n",
       "DPIdzDxyFwgCQGKZwFKDeS6IexcY4lwBmAZx3b17xffu3QTcdmHTZTYR4jcGBlO42KlgZBXbGMjx\n",
       "FzZdLxWA+RlcTPAiBMOQzXzAUE66Xdh0MQIV8m94ANbTgDUdnmNgaCbdLmy6+IDhx6/cgFZUIpdR\n",
       "t1atuoDXLj5IdDP/hBG4dIHSPPc6aNQFGWDaxfv///8J+OxiS/mZDWbcghM4dPEh264Xi1lG4QSM\n",
       "DQwkAj6s4UOMXfCyl0K7WhhoAbiwxkW9AC3sMsEaEuzLaGBZXSIDAwB4aaUFdo5x/QAAAABJRU5E\n",
       "rkJggg==\n",
       "\" style=\"display:inline;vertical-align:middle;\" /></a> <a class=\"ProveItLink\" href=\"../../../__pv_it/_proof__delta_diff_in_interval/8f12d51623f8ccad5cc95c54d1510f2b0655757b0/proof.ipynb\" style=\"text-decoration: none\">&nbsp;&#x22A2;&nbsp;&nbsp;</a><a class=\"ProveItLink\" href=\"../../../__pv_it/_proof__delta_diff_in_interval/011cceffbf3ec34dacaea5fdb713daab0c7dd9b90/expr.ipynb\"><img src=\"data:image/png;base64,iVBORw0KGgoAAAANSUhEUgAAANMAAAAaBAMAAADfznSWAAAAMFBMVEX////MzMxUVFRERES6uroi\n",
       "IiIQEBCYmJhmZmYyMjLu7u52dnaqqqqIiIjc3NwAAACW8nlqAAAAAXRSTlMAQObYZgAAAAlwSFlz\n",
       "AAAOxAAADsQBlSsOGwAAAqVJREFUSMelVk1o1EAUftt2m3R3sxuQircGi6AgdqEHT5U9tSBIVQgW\n",
       "VNrD0pt0BREvoijFhSJopRRUNCiixYNF6MGTe1SWwiLoTQ1IxVtb6MWK1plMJvNekqZZ9kE+3vx+\n",
       "eT/zZgA6lidSeXmv882ukJZWIc3chq9kvp6OW6wHkEIKN0nzQ2g0sKUQS1UsSwBw8YAbM3mJWkHd\n",
       "VFx5ZCZSwfUAjAbuPxUz9zhpddfoaF8j2SrIOhKaqnNlE4xa1ANTpPkTjdQfmFByEqj62aBhgQDs\n",
       "D41F+CGKgsgtfZmsnlPqD8hvwSjAvmEmbpQqd/gpo8ptgwAdmaEz2muKeEL8b4lm3JZSjwFMw6dc\n",
       "NFZjUvnOt1gEAb3Yqy3Wlv4wzvvagIOZMttKn3FgyL2bdyJUq4TqNgj4iLZZZ//X51v5+qLs/UyM\n",
       "MpCXDgEMmQcuy8i9+9OKpfoCApDr4Qb78panvjoX9B4hVF001ydjk45SjfuwiGYM8gh5Wz17rHqH\n",
       "aa6XiTv/pqAaMAVcQDMucYd7qd2FqObpMbLImbFSUK1XBFRZIi7YXMzMP/6foqT9Ug6cUDP45qxK\n",
       "LXmtMzLiIZm17WnbPquo3lQEVFHEuUE9U+G0SLBKizcqbJUpADmw23JQxgbJnkDVhKKbIlaugBE1\n",
       "oVRjdUErh4/wIM1AlBaZZTCc9Bn4FlGdbJEyVLgPII8F9bIva/X6bLID33ODroKAfuR5fsaylfC6\n",
       "cfLjPahaTO7s/E6kOjgzzyrCLa4yyJp01lpkXS8lr6a4TFdJS9ZAjV6xcCd6Y+9a2XeVMVLfZWWH\n",
       "E9HrGeBFcHJY8Ol9tb/dl4l3Ijx4TutOTPIepSnYaJMq60ootnD/t3bfFnuLelukeDHRYDXbY8Iv\n",
       "pg7fgXuJ7vjwH0xisdI4QyDiAAAAAElFTkSuQmCC\n",
       "\" style=\"display:inline;vertical-align:middle;\" /></a></span><br>"
      ],
      "text/plain": [
       "negative_ell_upper_bound: {l in {-2^{t - 1} + 1 .. 2^{t - 1}}} |- (-l) <= (-(-2^{t - 1} + 1))"
      ]
     },
     "execution_count": 17,
     "metadata": {},
     "output_type": "execute_result"
    }
   ],
   "source": [
    "# rewrite the bounding inequality so -l is on the left\n",
    "negative_ell_upper_bound = LessEq(Neg(l), Neg(ell_lower_bound.lhs)).prove()"
   ]
  },
  {
   "cell_type": "code",
   "execution_count": 18,
   "metadata": {},
   "outputs": [
    {
     "data": {
      "text/html": [
       "<strong id=\"scaled_delta_minus_ell_upper_bound\">scaled_delta_minus_ell_upper_bound:</strong> <span style=\"font-size:20px;\"><a class=\"ProveItLink\" href=\"../../../__pv_it/theorems/8bc9b38cf75c7371ab646fd064ad09fc02345f250/expr.ipynb\"><img src=\"data:image/png;base64,iVBORw0KGgoAAAANSUhEUgAAANYAAAAYBAMAAAB0Lx7ZAAAAMFBMVEX///+qqqq6urru7u4QEBBE\n",
       "RERUVFTc3NyIiIgyMjJmZmaYmJjMzMwiIiJ2dnYAAACPW0xlAAAAAXRSTlMAQObYZgAAAAlwSFlz\n",
       "AAAOxAAADsQBlSsOGwAAAeBJREFUSMdjYCAMOAugDOadDMQD8nTZwxgnemmuSxLOkqW6LiMFFG7d\n",
       "zTdk2IWmq7AAqyqOSQaoAhPJ8heqLp5UkKFv/6ApkkeyqmplDAPDZzx28VzGYg02XawJQIL7A5rK\n",
       "twgmewDDewUmBwaeUCAIx2KX2crPmFZh1cV3AUhwTcBtF1sBA4sDR4INhr+YNsACHItdWHWB7eJt\n",
       "gIi03r07Ad0uls8MbN+5Gh5j2MXYgMcurLrAdtUfAAtoNmPz1wUGtj88qw/A0tb8F8TYhVUX2K79\n",
       "kDCejC0MQd7+gC2R4bULqy6wXamoJQoDw0oUNecbyLELUxeHA5DwgNiFSEXeKGquMZBjF6Yu9o/A\n",
       "DPIdzDxyFwgCQGKZwFKDeS6IexcY4lwBmAZx3b17xffu3QTcdmHTZTYR4jcGBlO42KlgZBXbGMjx\n",
       "FzZdLxWA+RlcTPAiBMOQzXzAUE66Xdh0MQIV8m94ANbTgDUdnmNgaCbdLmy6+IDhx6/cgFZUIpdR\n",
       "t1atuoDXLj5IdDP/hBG4dIHSPPc6aNQFGWDaxfv///8J+OxiS/mZDWbcghM4dPEh264Xi1lG4QSM\n",
       "DQwkAj6s4UOMXfCyl0K7WhhoAbiwxkW9AC3sMsEaEuzLaGBZXSIDAwB4aaUFdo5x/QAAAABJRU5E\n",
       "rkJggg==\n",
       "\" style=\"display:inline;vertical-align:middle;\" /></a> <a class=\"ProveItLink\" href=\"../../../__pv_it/_proof__delta_diff_in_interval/25af8cc2349c4cb4dd919acfce0346e2075fd1620/proof.ipynb\" style=\"text-decoration: none\">&nbsp;&#x22A2;&nbsp;&nbsp;</a><a class=\"ProveItLink\" href=\"../../../__pv_it/_proof__delta_diff_in_interval/7846db75e741e2b23891fed00c2da02acd9630160/expr.ipynb\"><img src=\"data:image/png;base64,iVBORw0KGgoAAAANSUhEUgAAAPgAAAAaBAMAAABoc4yxAAAAMFBMVEX///9UVFQiIiKIiIjMzMx2\n",
       "dnYQEBDc3NxEREQyMjLu7u5mZmaqqqq6urqYmJgAAAB66f/FAAAAAXRSTlMAQObYZgAAAAlwSFlz\n",
       "AAAOxAAADsQBlSsOGwAAAzVJREFUSMe1VjFok0EUfn/yN2n+pknGBjq0IhTN0kZw6BQQXRNapy4G\n",
       "XFyELFXBoR0EM9XWuWgGl0yJgmBbkLbgIA7W1cVEQeggdggEgzG+u/vvv3v3X4IB+yAfuf/uvnfv\n",
       "3nd3D4BYogLnYgGvd0o7fgQA0DAmNS1EU1b61EmYVFnAey0vWTkkmxLQ3huUDyxu4ps25x9IK2ms\n",
       "WvEeS1YO9QAA1i/dNOJZtPj5ZvnmbZNmnfZqvMeSlcMWSEDb1SPcu1OByxZHkVr422SLNLeM7l0S\n",
       "uWBFiJdBwMO9RwA9bcIEfKrBkullpQPRTNj5PZqZsvpv8HLnSz5MlYADZvLWybQ2CRwWYMOMMnUG\n",
       "Xi/s/DXVZElXCOd1q2iPfecNnzrNVIrgVCBWjmZeKAYeYKJlah2T+yzsvE9aaSV9k5c756wIRbYI\n",
       "hFgPnO7U4pqmod/MlyntCOrkja5jfoJduhlFtV8mL3fOWRHYuWPgzIHTcd8WNIonSBEtG843cMRV\n",
       "1fy6L3ZpjgzKa8mjvOvPV8FnRciyT1kR1BlhOPqI65s28/sTf1+CwPJ+RA49aVm6WWdmkjgrQpU1\n",
       "qmKzyKFObTs4xO0Y82bYQD8Ob0XOmKTZqdIkhC4LzoqwwxocYJ7ubyWJQ+J9Y95t1iX0FH8VqDFB\n",
       "T98Oac2HL8m+gBxr5EDXlvdLhMjW53Hn9QvMLrLldtkhEc6zh2pnm/ogxuc95c2CRbM+K4KKvB30\n",
       "8bX8ARdzFTe2nUtlo2A6HxV52/I8dAQEzpMluK8vroNZ9yPVr9EMiq1YGWPbDV6R866AGami6wDL\n",
       "+oAOJA7Dak+3SkrtSnDOZkiV0kxeXe38zCLEcwcH5LCuwhHTvHHO05/R3/dge/LLWjaUaRdBiBck\n",
       "KwKPAiEyGAzIYZ24wm994xFJsUv8pXbJrKlQlKmLIMwLkhUhxpQbOxla/7QsH/W7/VTk/y4ZMJxP\n",
       "Y0WQr9oQa1je7rFeteGsCC7bfrc8bFjbVq5Z3vMbVM3l0c7bEmZBgs0WbJWMpcR1DklzdrTzBQl1\n",
       "S831v2s4GyuHZEmCxf69en1Hq9eRSVfVK6nbTdu31e218et2CyvCX3Yr6JSauPKAAAAAAElFTkSu\n",
       "QmCC\n",
       "\" style=\"display:inline;vertical-align:middle;\" /></a></span><br>"
      ],
      "text/plain": [
       "scaled_delta_minus_ell_upper_bound: {l in {-2^{t - 1} + 1 .. 2^{t - 1}}} |- ((2^{t} * delta) - l) < (-(-2^{t - 1}))"
      ]
     },
     "execution_count": 18,
     "metadata": {},
     "output_type": "execute_result"
    }
   ],
   "source": [
    "scaled_delta_minus_ell_upper_bound = (\n",
    "    scaled_delta_minus_ell.deduce_bound(\n",
    "        [scaled_delta_less_than_one, negative_ell_upper_bound]))"
   ]
  },
  {
   "cell_type": "markdown",
   "metadata": {},
   "source": [
    "And now a little simplification of the upper-bound expression:"
   ]
  },
  {
   "cell_type": "code",
   "execution_count": 19,
   "metadata": {},
   "outputs": [
    {
     "data": {
      "text/html": [
       "<strong id=\"scaled_delta_minus_ell_upper_bound\">scaled_delta_minus_ell_upper_bound:</strong> <span style=\"font-size:20px;\"><a class=\"ProveItLink\" href=\"../../../__pv_it/theorems/8bc9b38cf75c7371ab646fd064ad09fc02345f250/expr.ipynb\"><img src=\"data:image/png;base64,iVBORw0KGgoAAAANSUhEUgAAANYAAAAYBAMAAAB0Lx7ZAAAAMFBMVEX///+qqqq6urru7u4QEBBE\n",
       "RERUVFTc3NyIiIgyMjJmZmaYmJjMzMwiIiJ2dnYAAACPW0xlAAAAAXRSTlMAQObYZgAAAAlwSFlz\n",
       "AAAOxAAADsQBlSsOGwAAAeBJREFUSMdjYCAMOAugDOadDMQD8nTZwxgnemmuSxLOkqW6LiMFFG7d\n",
       "zTdk2IWmq7AAqyqOSQaoAhPJ8heqLp5UkKFv/6ApkkeyqmplDAPDZzx28VzGYg02XawJQIL7A5rK\n",
       "twgmewDDewUmBwaeUCAIx2KX2crPmFZh1cV3AUhwTcBtF1sBA4sDR4INhr+YNsACHItdWHWB7eJt\n",
       "gIi03r07Ad0uls8MbN+5Gh5j2MXYgMcurLrAdtUfAAtoNmPz1wUGtj88qw/A0tb8F8TYhVUX2K79\n",
       "kDCejC0MQd7+gC2R4bULqy6wXamoJQoDw0oUNecbyLELUxeHA5DwgNiFSEXeKGquMZBjF6Yu9o/A\n",
       "DPIdzDxyFwgCQGKZwFKDeS6IexcY4lwBmAZx3b17xffu3QTcdmHTZTYR4jcGBlO42KlgZBXbGMjx\n",
       "FzZdLxWA+RlcTPAiBMOQzXzAUE66Xdh0MQIV8m94ANbTgDUdnmNgaCbdLmy6+IDhx6/cgFZUIpdR\n",
       "t1atuoDXLj5IdDP/hBG4dIHSPPc6aNQFGWDaxfv///8J+OxiS/mZDWbcghM4dPEh264Xi1lG4QSM\n",
       "DQwkAj6s4UOMXfCyl0K7WhhoAbiwxkW9AC3sMsEaEuzLaGBZXSIDAwB4aaUFdo5x/QAAAABJRU5E\n",
       "rkJggg==\n",
       "\" style=\"display:inline;vertical-align:middle;\" /></a> <a class=\"ProveItLink\" href=\"../../../__pv_it/_proof__delta_diff_in_interval/e9a2366d123773e04e1c0f8ce73e0b9256e66ccc0/proof.ipynb\" style=\"text-decoration: none\">&nbsp;&#x22A2;&nbsp;&nbsp;</a><a class=\"ProveItLink\" href=\"../../../__pv_it/_proof__delta_diff_in_interval/e3f58766e3894ad904ed283e562486596a0ba4da0/expr.ipynb\"><img src=\"data:image/png;base64,iVBORw0KGgoAAAANSUhEUgAAAK0AAAAaBAMAAAA3TsG9AAAAMFBMVEX///9UVFQiIiKIiIjMzMx2\n",
       "dnYQEBDc3NxEREQyMjLu7u5mZmaqqqq6urqYmJgAAAB66f/FAAAAAXRSTlMAQObYZgAAAAlwSFlz\n",
       "AAAOxAAADsQBlSsOGwAAAptJREFUSMedVjFoE1EY/i655MwlTYKLBoRGKYh2aJpCB6csguCQEF10\n",
       "MSCIWw9BFBzq0KGTxkF0ELnBpYupFaFtQNrBoZNxcXAxVREcxICR0mCN773Lvbz77wWiH+Tj3d33\n",
       "vvvf///3XoAAEg7+H4/8wfM65++SgAaRrmqmJ0fY2p3BwJzLM06t+sSwQ7S3NfOtu3rfVF2OuO8K\n",
       "fAJunroY1KYLGoPPWlur+rCk+t6DTwxPVOHGdQenNQ4RV2uc2FLjtWrw6M7GEtBTdDG8czFLZ1e7\n",
       "iGZDsTYfl5BxVd9kBYJY1q60JmqK2OC6Bo0t3YHdQ6gMsQO8B84tMzjCN9OCIMNBvBbNPhuKRViJ\n",
       "Nu0GVp2n1PcIcA2ztprfMg+IUbwHYy9ZuKz0zW9uQ4sfYZVcV653eMcvuJh0XsZcxbfIB4yMPIyu\n",
       "+bqkTLnPdNEa8V1kivnh5adNzoeBydL5L362L/0qIMdHOS+UTsBh+y2LdYLm8gf7fZRJL8r1zRDd\n",
       "siSUA82arhvM0+wS/VEuHKzKrsoZ5k+ieyAJx4MLdlLM0zog+qv8Uctb79qwqBHae9OSZInsfS8w\n",
       "HqstfFdOcEzxuPZ483m+ua2hzTpGxrsbfNcfmCzfFsmDqONiifqmsyN9UxXcUnenLsvwID4Fh7Ks\n",
       "ZmWH5uENLCdcB0FngTPqg6744Gk/ZNqVYT/IupkVRMmHOT8ga7rZzKsPLmCbL5D0b+YDs/oqF1X0\n",
       "QrnRbK6RPIh3M4r0+/26+iA2J3YOkrj0K0YvlO9CNPBMv79PfOMtn/SbX1tzU90fvo04ufz9bAQa\n",
       "mr02vJ9pYNZ80mJXcy/cVDock6TDSd15MdahrZ5v4dDGP99Cx2jFJw3+5TymUP8/UGzqKu2OYfoX\n",
       "mDyjWeE5seoAAAAASUVORK5CYII=\n",
       "\" style=\"display:inline;vertical-align:middle;\" /></a></span><br>"
      ],
      "text/plain": [
       "scaled_delta_minus_ell_upper_bound: {l in {-2^{t - 1} + 1 .. 2^{t - 1}}} |- ((2^{t} * delta) - l) < 2^{t - 1}"
      ]
     },
     "execution_count": 19,
     "metadata": {},
     "output_type": "execute_result"
    }
   ],
   "source": [
    "scaled_delta_minus_ell_upper_bound = scaled_delta_minus_ell_upper_bound.inner_expr().upper.simplify()"
   ]
  },
  {
   "cell_type": "code",
   "execution_count": 20,
   "metadata": {},
   "outputs": [
    {
     "data": {
      "text/html": [
       "<strong id=\"upper_bound_judgment\">upper_bound_judgment:</strong> <span style=\"font-size:20px;\"><a class=\"ProveItLink\" href=\"../../../__pv_it/theorems/8bc9b38cf75c7371ab646fd064ad09fc02345f250/expr.ipynb\"><img src=\"data:image/png;base64,iVBORw0KGgoAAAANSUhEUgAAANYAAAAYBAMAAAB0Lx7ZAAAAMFBMVEX///+qqqq6urru7u4QEBBE\n",
       "RERUVFTc3NyIiIgyMjJmZmaYmJjMzMwiIiJ2dnYAAACPW0xlAAAAAXRSTlMAQObYZgAAAAlwSFlz\n",
       "AAAOxAAADsQBlSsOGwAAAeBJREFUSMdjYCAMOAugDOadDMQD8nTZwxgnemmuSxLOkqW6LiMFFG7d\n",
       "zTdk2IWmq7AAqyqOSQaoAhPJ8heqLp5UkKFv/6ApkkeyqmplDAPDZzx28VzGYg02XawJQIL7A5rK\n",
       "twgmewDDewUmBwaeUCAIx2KX2crPmFZh1cV3AUhwTcBtF1sBA4sDR4INhr+YNsACHItdWHWB7eJt\n",
       "gIi03r07Ad0uls8MbN+5Gh5j2MXYgMcurLrAdtUfAAtoNmPz1wUGtj88qw/A0tb8F8TYhVUX2K79\n",
       "kDCejC0MQd7+gC2R4bULqy6wXamoJQoDw0oUNecbyLELUxeHA5DwgNiFSEXeKGquMZBjF6Yu9o/A\n",
       "DPIdzDxyFwgCQGKZwFKDeS6IexcY4lwBmAZx3b17xffu3QTcdmHTZTYR4jcGBlO42KlgZBXbGMjx\n",
       "FzZdLxWA+RlcTPAiBMOQzXzAUE66Xdh0MQIV8m94ANbTgDUdnmNgaCbdLmy6+IDhx6/cgFZUIpdR\n",
       "t1atuoDXLj5IdDP/hBG4dIHSPPc6aNQFGWDaxfv///8J+OxiS/mZDWbcghM4dPEh264Xi1lG4QSM\n",
       "DQwkAj6s4UOMXfCyl0K7WhhoAbiwxkW9AC3sMsEaEuzLaGBZXSIDAwB4aaUFdo5x/QAAAABJRU5E\n",
       "rkJggg==\n",
       "\" style=\"display:inline;vertical-align:middle;\" /></a> <a class=\"ProveItLink\" href=\"../../../__pv_it/_proof__delta_diff_in_interval/175755859cfacb18798d59c11376924f666ed5a50/proof.ipynb\" style=\"text-decoration: none\">&nbsp;&#x22A2;&nbsp;&nbsp;</a><a class=\"ProveItLink\" href=\"../../../__pv_it/_proof__delta_diff_in_interval/adecc1ced13dd9450bd13bcfc8b7807f7663a7a70/expr.ipynb\"><img src=\"data:image/png;base64,iVBORw0KGgoAAAANSUhEUgAAAKIAAAAuBAMAAABZrt+LAAAAMFBMVEX////MzMxUVFRERES6uroi\n",
       "IiIQEBCYmJhmZmYyMjLu7u52dnaqqqqIiIjc3NwAAACW8nlqAAAAAXRSTlMAQObYZgAAAAlwSFlz\n",
       "AAAOxAAADsQBlSsOGwAAArpJREFUSMe9V0FoE0EUfdkmTZrsbhZEEDwkIF6KmIhni6cePMWiGNFi\n",
       "DuJBEGM9eVKQ4koRAoIeLGHFg4iIUehBQexFofRg6EVQhEARCoKm6KUVs85Oks3OzDazu4R+kslm\n",
       "8t/bP/P//H0BXJtoIaLV+xdPa8z8y6iE6XbvIvat1L3oxbbC+umBGVU3MrXLqC3Tjx9nXw2cNh5M\n",
       "xZsBCfWlRwbLuEoI7h4BFj1ejfgkPvPQpU2RzbxvYGKZjTFdg17E++PY9nhOOpmyOHiyLTCuI/MH\n",
       "WYtlTFWhtDBeiVc8nmsOwS0OnqoJjIeBS5gG9hwl1uoxjpPXNpSOln/sybuzkMscPCHu7FULhdZa\n",
       "mt1HkmKlBGUz1Xw78BxztuAhB/9lCIwHgYJxL2MxjAvd+7djdwYA9dBvMr7m4Dd9U30B+6718/Tm\n",
       "b9ONJMes6AYKljOydsCPMPZPmDpPxxmmJjr4RAL+yHle8WNM5IWpizSNxf6J2iKDUkSOMOaciWen\n",
       "HTvpRNPxY7wNf8Y592uZvLNVyjbNOmoVH8KkGCJdtdrAT2/PMOgefmAdx/KWiF6FLrSsY+S9H/ji\n",
       "mcoa9EheZx2z1YaYlwY04T6kRvSyaZY8U5mmmnfrasB4Qqzw76Y5L0zuJfmybZs5Ye++OuMpbssW\n",
       "fIrRtrfE9Bs7dalSxA4sNAS3MVSjNvWpHebXoxLiScg7dU9+fVhX92//2rBHY7JsYaSmnRsx4fPZ\n",
       "0fJh48zQn+0wRh9dyuChmfXxiRCisgjs7qp3LzNDldqLWSscQK7UkmJBDgNQFbQi6S/1EACqghil\n",
       "JhNnMgBVQQhRIlIAVUGMUpOYFEBVULwSIsYAgESbUWpykwJyTUapyU0KmIFXqQUwGcBVQUFNCpgL\n",
       "e2RlAE4FBfhDIwNwKkhuMgCvguSnUAYQVJC0GBnAf/+B9m3rYTyMAAAAAElFTkSuQmCC\n",
       "\" style=\"display:inline;vertical-align:middle;\" /></a></span><br>"
      ],
      "text/plain": [
       "upper_bound_judgment: {l in {-2^{t - 1} + 1 .. 2^{t - 1}}} |- (((2^{t} * delta) - l) / 2^{t}) < (2^{t - 1} / 2^{t})"
      ]
     },
     "execution_count": 20,
     "metadata": {},
     "output_type": "execute_result"
    }
   ],
   "source": [
    "upper_bound_judgment = scaled_delta_minus_ell_upper_bound.divide_both_sides(_two_pow_t)"
   ]
  },
  {
   "cell_type": "markdown",
   "metadata": {},
   "source": [
    "#### Lower Bound\n",
    "Working on lower bound, using information about the bounds on the individual pieces …"
   ]
  },
  {
   "cell_type": "code",
   "execution_count": 21,
   "metadata": {},
   "outputs": [
    {
     "data": {
      "text/html": [
       "<span style=\"font-size:20px;\"><a class=\"ProveItLink\" href=\"../../../__pv_it/theorems/8bc9b38cf75c7371ab646fd064ad09fc02345f250/expr.ipynb\"><img src=\"data:image/png;base64,iVBORw0KGgoAAAANSUhEUgAAANYAAAAYBAMAAAB0Lx7ZAAAAMFBMVEX///+qqqq6urru7u4QEBBE\n",
       "RERUVFTc3NyIiIgyMjJmZmaYmJjMzMwiIiJ2dnYAAACPW0xlAAAAAXRSTlMAQObYZgAAAAlwSFlz\n",
       "AAAOxAAADsQBlSsOGwAAAeBJREFUSMdjYCAMOAugDOadDMQD8nTZwxgnemmuSxLOkqW6LiMFFG7d\n",
       "zTdk2IWmq7AAqyqOSQaoAhPJ8heqLp5UkKFv/6ApkkeyqmplDAPDZzx28VzGYg02XawJQIL7A5rK\n",
       "twgmewDDewUmBwaeUCAIx2KX2crPmFZh1cV3AUhwTcBtF1sBA4sDR4INhr+YNsACHItdWHWB7eJt\n",
       "gIi03r07Ad0uls8MbN+5Gh5j2MXYgMcurLrAdtUfAAtoNmPz1wUGtj88qw/A0tb8F8TYhVUX2K79\n",
       "kDCejC0MQd7+gC2R4bULqy6wXamoJQoDw0oUNecbyLELUxeHA5DwgNiFSEXeKGquMZBjF6Yu9o/A\n",
       "DPIdzDxyFwgCQGKZwFKDeS6IexcY4lwBmAZx3b17xffu3QTcdmHTZTYR4jcGBlO42KlgZBXbGMjx\n",
       "FzZdLxWA+RlcTPAiBMOQzXzAUE66Xdh0MQIV8m94ANbTgDUdnmNgaCbdLmy6+IDhx6/cgFZUIpdR\n",
       "t1atuoDXLj5IdDP/hBG4dIHSPPc6aNQFGWDaxfv///8J+OxiS/mZDWbcghM4dPEh264Xi1lG4QSM\n",
       "DQwkAj6s4UOMXfCyl0K7WhhoAbiwxkW9AC3sMsEaEuzLaGBZXSIDAwB4aaUFdo5x/QAAAABJRU5E\n",
       "rkJggg==\n",
       "\" style=\"display:inline;vertical-align:middle;\" /></a> <a class=\"ProveItLink\" href=\"../../../__pv_it/_proof__delta_diff_in_interval/b7d2b6636356485290f4f0eaaa0d70b381445b3a0/proof.ipynb\" style=\"text-decoration: none\">&nbsp;&#x22A2;&nbsp;&nbsp;</a><a class=\"ProveItLink\" href=\"../../../__pv_it/_proof__delta_diff_in_interval/d959c94c6b67001a2d9a6245fbea5be37f398c430/expr.ipynb\"><img src=\"data:image/png;base64,iVBORw0KGgoAAAANSUhEUgAAAEYAAAAWBAMAAACPjvdAAAAAMFBMVEX///+qqqq6urru7u4QEBBE\n",
       "RERUVFTc3NyIiIgyMjJmZmaYmJjMzMwiIiJ2dnYAAACPW0xlAAAAAXRSTlMAQObYZgAAAAlwSFlz\n",
       "AAAOxAAADsQBlSsOGwAAAPlJREFUKM9jYMAOOAugDOadDLiAPYxxohenGkk4SxaXkrqbbwiqYZiI\n",
       "Ys7bP2jSVStjGBg+o6jh/oBwBMgz7AEM7xWYHBh4QoEgHKKGawJMyd7FIJKtgIHFgSPBBtkc3gYo\n",
       "p/cxmGL5zMD2navhMbKa+gOQsHoLVct2gYHtD8/qAzAfzn/BwLAfomTtBoSreT+geSMVrCRTAEno\n",
       "fAOaGg8wiaLmGpoSnu9gih3JLq4ANDUcDgyobmZg2IYe6KwJBqh+Z2B8wFCOqoZ/wwPUMGQ4x8DQ\n",
       "jKZGGeEJSVCgsN9ateoCqhrudWiW8/7//38CAw0B810wOIBVEgD+yEMMvKrdxwAAAABJRU5ErkJg\n",
       "gg==\n",
       "\" style=\"display:inline;vertical-align:middle;\" /></a></span>"
      ],
      "text/plain": [
       "{l in {-2^{t - 1} + 1 .. 2^{t - 1}}} |- l <= 2^{t - 1}"
      ]
     },
     "execution_count": 21,
     "metadata": {},
     "output_type": "execute_result"
    }
   ],
   "source": [
    "ell_upper_bound"
   ]
  },
  {
   "cell_type": "code",
   "execution_count": 22,
   "metadata": {},
   "outputs": [
    {
     "data": {
      "text/html": [
       "<a class=\"ProveItLink\" href=\"../../../__pv_it/common/91138182b232b0ec0bb7ca2f8cd7660c0c007ade0/expr.ipynb\"><img src=\"data:image/png;base64,iVBORw0KGgoAAAANSUhEUgAAADMAAAATBAMAAADPIygvAAAAMFBMVEX///+qqqqYmJiIiIgQEBBU\n",
       "VFS6urp2dnZERERmZmbc3NzMzMwiIiIyMjLu7u4AAAA/HxW5AAAAAXRSTlMAQObYZgAAAAlwSFlz\n",
       "AAAOxAAADsQBlSsOGwAAAJ5JREFUKM9jYEABt2CMRxdQJRj4PkAZ3MYH0KQY4WoZ0aS4aq5vwCHF\n",
       "wCuATRfXzBsbGPgfYJNawcD+jSGFgWFHBxAsQJGKYmBwYTDlw2aX/wOG+AWT2R9gkYphYIjfsFMb\n",
       "ZnPtdwNk951nwAW4P+OU4glAE3h7BgROA1kzcGpiCsApJc7AtQCHIwoYmB9gl1ozc+YcHOad////\n",
       "L6oIAFq+L8Ys92XAAAAAAElFTkSuQmCC\n",
       "\" style=\"display:inline;vertical-align:middle;\" /></a>"
      ],
      "text/plain": [
       "-2^{t - 1}"
      ]
     },
     "execution_count": 22,
     "metadata": {},
     "output_type": "execute_result"
    }
   ],
   "source": [
    "Neg(ell_upper_bound.rhs)"
   ]
  },
  {
   "cell_type": "code",
   "execution_count": 23,
   "metadata": {},
   "outputs": [
    {
     "data": {
      "text/html": [
       "<strong id=\"negative_ell_lower_bound\">negative_ell_lower_bound:</strong> <span style=\"font-size:20px;\"><a class=\"ProveItLink\" href=\"../../../__pv_it/theorems/8bc9b38cf75c7371ab646fd064ad09fc02345f250/expr.ipynb\"><img src=\"data:image/png;base64,iVBORw0KGgoAAAANSUhEUgAAANYAAAAYBAMAAAB0Lx7ZAAAAMFBMVEX///+qqqq6urru7u4QEBBE\n",
       "RERUVFTc3NyIiIgyMjJmZmaYmJjMzMwiIiJ2dnYAAACPW0xlAAAAAXRSTlMAQObYZgAAAAlwSFlz\n",
       "AAAOxAAADsQBlSsOGwAAAeBJREFUSMdjYCAMOAugDOadDMQD8nTZwxgnemmuSxLOkqW6LiMFFG7d\n",
       "zTdk2IWmq7AAqyqOSQaoAhPJ8heqLp5UkKFv/6ApkkeyqmplDAPDZzx28VzGYg02XawJQIL7A5rK\n",
       "twgmewDDewUmBwaeUCAIx2KX2crPmFZh1cV3AUhwTcBtF1sBA4sDR4INhr+YNsACHItdWHWB7eJt\n",
       "gIi03r07Ad0uls8MbN+5Gh5j2MXYgMcurLrAdtUfAAtoNmPz1wUGtj88qw/A0tb8F8TYhVUX2K79\n",
       "kDCejC0MQd7+gC2R4bULqy6wXamoJQoDw0oUNecbyLELUxeHA5DwgNiFSEXeKGquMZBjF6Yu9o/A\n",
       "DPIdzDxyFwgCQGKZwFKDeS6IexcY4lwBmAZx3b17xffu3QTcdmHTZTYR4jcGBlO42KlgZBXbGMjx\n",
       "FzZdLxWA+RlcTPAiBMOQzXzAUE66Xdh0MQIV8m94ANbTgDUdnmNgaCbdLmy6+IDhx6/cgFZUIpdR\n",
       "t1atuoDXLj5IdDP/hBG4dIHSPPc6aNQFGWDaxfv///8J+OxiS/mZDWbcghM4dPEh264Xi1lG4QSM\n",
       "DQwkAj6s4UOMXfCyl0K7WhhoAbiwxkW9AC3sMsEaEuzLaGBZXSIDAwB4aaUFdo5x/QAAAABJRU5E\n",
       "rkJggg==\n",
       "\" style=\"display:inline;vertical-align:middle;\" /></a> <a class=\"ProveItLink\" href=\"../../../__pv_it/_proof__delta_diff_in_interval/6cd3e470f5dc2601cc81f226e010d1e7a779d8ed0/proof.ipynb\" style=\"text-decoration: none\">&nbsp;&#x22A2;&nbsp;&nbsp;</a><a class=\"ProveItLink\" href=\"../../../__pv_it/_proof__delta_diff_in_interval/63b6c4f14498c7897d8f59e92239e35bceb4441d0/expr.ipynb\"><img src=\"data:image/png;base64,iVBORw0KGgoAAAANSUhEUgAAAIkAAAAaBAMAAABx+GIXAAAAMFBMVEX////MzMxUVFRERES6uroi\n",
       "IiIQEBCYmJhmZmYyMjLu7u52dnaqqqqIiIjc3NwAAACW8nlqAAAAAXRSTlMAQObYZgAAAAlwSFlz\n",
       "AAAOxAAADsQBlSsOGwAAAhtJREFUOMtjYCAdcD6AMrgqSdFWgspdD2PIXgUSHEQawtOAyj8JZx0F\n",
       "Yj4DMPMBsooHWExZicp9HbkR2RSGWhDBewBZiS8WU8zR+HNQ3MLAugBInEZIb/3IwFuAYQhfAoL9\n",
       "otOQgeEXqim8CsBwnoBQw/6BgWEWxBNIhnFsQBhowLDfgSWBgdEYCOygpnABTeVAVg80sQISh1sv\n",
       "wEX5HeBMpgcMbAm8CgtR3MIwnYGBDcntrECtbAsg7Ku7YKLyC+AK2H4xMP3juLAL1ZRm5GhjYHgv\n",
       "AExSMLeVwtReRShgCmBg+sjYLgCLrfl7QdQ1BoZuJFPqgZhbAZ4s+iC0JkpYs37ACH7/BSBPwYEy\n",
       "KIQRoe2pBaaMUbTIX8AwRV6AIQaJmwtKqIh49bQCU5NQtARhpqf3DgwpwAiZGgoCAoz/gEKMcBef\n",
       "1IPQEQgVwGg0wDRlPdgUGOAFOYMF5pbSLigDxS1FWNL2exQfMSsA45QnAD2mkU3h2cDwDjNcHjDY\n",
       "Inj8BcBUym6AnuqUkTRIMzDcwhZHm5BM8boAS+/IOeAaUpaK6OgIwDCljIFBFCkbgdIOqwMWq+CJ\n",
       "5f///xMwTGkCSgigCj3FUMTmQKAUAyY5drSCrB1DEVKexgpAeZrBDrUwgaSHpeD0EQhmMybgN4Ud\n",
       "lGcWowgxYykydfCbwgrSwoeSMe4RLnfRQS2RdQDegOEzIK8+Qgt8YEIAAOhheBzNSmYCAAAAAElF\n",
       "TkSuQmCC\n",
       "\" style=\"display:inline;vertical-align:middle;\" /></a></span><br>"
      ],
      "text/plain": [
       "negative_ell_lower_bound: {l in {-2^{t - 1} + 1 .. 2^{t - 1}}} |- (-l) >= (-2^{t - 1})"
      ]
     },
     "execution_count": 23,
     "metadata": {},
     "output_type": "execute_result"
    }
   ],
   "source": [
    "# The deduce_bound() method called on the subtraction or difference is\n",
    "# actually being called on an Add and thus looking for relations involving\n",
    "# negative ell instead of ell; to make this work, we needed to explicitly\n",
    "# prove that our multiplier (-1) is less than zero\n",
    "negative_ell_lower_bound = ell_upper_bound.left_mult_both_sides(Neg(one))"
   ]
  },
  {
   "cell_type": "code",
   "execution_count": 24,
   "metadata": {},
   "outputs": [
    {
     "data": {
      "text/html": [
       "<strong id=\"negative_ell_lower_bound\">negative_ell_lower_bound:</strong> <span style=\"font-size:20px;\"><a class=\"ProveItLink\" href=\"../../../__pv_it/theorems/8bc9b38cf75c7371ab646fd064ad09fc02345f250/expr.ipynb\"><img src=\"data:image/png;base64,iVBORw0KGgoAAAANSUhEUgAAANYAAAAYBAMAAAB0Lx7ZAAAAMFBMVEX///+qqqq6urru7u4QEBBE\n",
       "RERUVFTc3NyIiIgyMjJmZmaYmJjMzMwiIiJ2dnYAAACPW0xlAAAAAXRSTlMAQObYZgAAAAlwSFlz\n",
       "AAAOxAAADsQBlSsOGwAAAeBJREFUSMdjYCAMOAugDOadDMQD8nTZwxgnemmuSxLOkqW6LiMFFG7d\n",
       "zTdk2IWmq7AAqyqOSQaoAhPJ8heqLp5UkKFv/6ApkkeyqmplDAPDZzx28VzGYg02XawJQIL7A5rK\n",
       "twgmewDDewUmBwaeUCAIx2KX2crPmFZh1cV3AUhwTcBtF1sBA4sDR4INhr+YNsACHItdWHWB7eJt\n",
       "gIi03r07Ad0uls8MbN+5Gh5j2MXYgMcurLrAdtUfAAtoNmPz1wUGtj88qw/A0tb8F8TYhVUX2K79\n",
       "kDCejC0MQd7+gC2R4bULqy6wXamoJQoDw0oUNecbyLELUxeHA5DwgNiFSEXeKGquMZBjF6Yu9o/A\n",
       "DPIdzDxyFwgCQGKZwFKDeS6IexcY4lwBmAZx3b17xffu3QTcdmHTZTYR4jcGBlO42KlgZBXbGMjx\n",
       "FzZdLxWA+RlcTPAiBMOQzXzAUE66Xdh0MQIV8m94ANbTgDUdnmNgaCbdLmy6+IDhx6/cgFZUIpdR\n",
       "t1atuoDXLj5IdDP/hBG4dIHSPPc6aNQFGWDaxfv///8J+OxiS/mZDWbcghM4dPEh264Xi1lG4QSM\n",
       "DQwkAj6s4UOMXfCyl0K7WhhoAbiwxkW9AC3sMsEaEuzLaGBZXSIDAwB4aaUFdo5x/QAAAABJRU5E\n",
       "rkJggg==\n",
       "\" style=\"display:inline;vertical-align:middle;\" /></a> <a class=\"ProveItLink\" href=\"../../../__pv_it/_proof__delta_diff_in_interval/6cd3e470f5dc2601cc81f226e010d1e7a779d8ed0/proof.ipynb\" style=\"text-decoration: none\">&nbsp;&#x22A2;&nbsp;&nbsp;</a><a class=\"ProveItLink\" href=\"../../../__pv_it/_proof__delta_diff_in_interval/63b6c4f14498c7897d8f59e92239e35bceb4441d0/expr.ipynb\"><img src=\"data:image/png;base64,iVBORw0KGgoAAAANSUhEUgAAAIkAAAAaBAMAAABx+GIXAAAAMFBMVEX////MzMxUVFRERES6uroi\n",
       "IiIQEBCYmJhmZmYyMjLu7u52dnaqqqqIiIjc3NwAAACW8nlqAAAAAXRSTlMAQObYZgAAAAlwSFlz\n",
       "AAAOxAAADsQBlSsOGwAAAhtJREFUOMtjYCAdcD6AMrgqSdFWgspdD2PIXgUSHEQawtOAyj8JZx0F\n",
       "Yj4DMPMBsooHWExZicp9HbkR2RSGWhDBewBZiS8WU8zR+HNQ3MLAugBInEZIb/3IwFuAYQhfAoL9\n",
       "otOQgeEXqim8CsBwnoBQw/6BgWEWxBNIhnFsQBhowLDfgSWBgdEYCOygpnABTeVAVg80sQISh1sv\n",
       "wEX5HeBMpgcMbAm8CgtR3MIwnYGBDcntrECtbAsg7Ku7YKLyC+AK2H4xMP3juLAL1ZRm5GhjYHgv\n",
       "AExSMLeVwtReRShgCmBg+sjYLgCLrfl7QdQ1BoZuJFPqgZhbAZ4s+iC0JkpYs37ACH7/BSBPwYEy\n",
       "KIQRoe2pBaaMUbTIX8AwRV6AIQaJmwtKqIh49bQCU5NQtARhpqf3DgwpwAiZGgoCAoz/gEKMcBef\n",
       "1IPQEQgVwGg0wDRlPdgUGOAFOYMF5pbSLigDxS1FWNL2exQfMSsA45QnAD2mkU3h2cDwDjNcHjDY\n",
       "Inj8BcBUym6AnuqUkTRIMzDcwhZHm5BM8boAS+/IOeAaUpaK6OgIwDCljIFBFCkbgdIOqwMWq+CJ\n",
       "5f///xMwTGkCSgigCj3FUMTmQKAUAyY5drSCrB1DEVKexgpAeZrBDrUwgaSHpeD0EQhmMybgN4Ud\n",
       "lGcWowgxYykydfCbwgrSwoeSMe4RLnfRQS2RdQDegOEzIK8+Qgt8YEIAAOhheBzNSmYCAAAAAElF\n",
       "TkSuQmCC\n",
       "\" style=\"display:inline;vertical-align:middle;\" /></a></span><br>"
      ],
      "text/plain": [
       "negative_ell_lower_bound: {l in {-2^{t - 1} + 1 .. 2^{t - 1}}} |- (-l) >= (-2^{t - 1})"
      ]
     },
     "execution_count": 24,
     "metadata": {},
     "output_type": "execute_result"
    }
   ],
   "source": [
    "negative_ell_lower_bound = negative_ell_lower_bound.inner_expr().simplify()"
   ]
  },
  {
   "cell_type": "code",
   "execution_count": 25,
   "metadata": {},
   "outputs": [
    {
     "data": {
      "text/html": [
       "<span style=\"font-size:20px;\"><a class=\"ProveItLink\" href=\"../../../__pv_it/theorems/8bc9b38cf75c7371ab646fd064ad09fc02345f250/expr.ipynb\"><img src=\"data:image/png;base64,iVBORw0KGgoAAAANSUhEUgAAANYAAAAYBAMAAAB0Lx7ZAAAAMFBMVEX///+qqqq6urru7u4QEBBE\n",
       "RERUVFTc3NyIiIgyMjJmZmaYmJjMzMwiIiJ2dnYAAACPW0xlAAAAAXRSTlMAQObYZgAAAAlwSFlz\n",
       "AAAOxAAADsQBlSsOGwAAAeBJREFUSMdjYCAMOAugDOadDMQD8nTZwxgnemmuSxLOkqW6LiMFFG7d\n",
       "zTdk2IWmq7AAqyqOSQaoAhPJ8heqLp5UkKFv/6ApkkeyqmplDAPDZzx28VzGYg02XawJQIL7A5rK\n",
       "twgmewDDewUmBwaeUCAIx2KX2crPmFZh1cV3AUhwTcBtF1sBA4sDR4INhr+YNsACHItdWHWB7eJt\n",
       "gIi03r07Ad0uls8MbN+5Gh5j2MXYgMcurLrAdtUfAAtoNmPz1wUGtj88qw/A0tb8F8TYhVUX2K79\n",
       "kDCejC0MQd7+gC2R4bULqy6wXamoJQoDw0oUNecbyLELUxeHA5DwgNiFSEXeKGquMZBjF6Yu9o/A\n",
       "DPIdzDxyFwgCQGKZwFKDeS6IexcY4lwBmAZx3b17xffu3QTcdmHTZTYR4jcGBlO42KlgZBXbGMjx\n",
       "FzZdLxWA+RlcTPAiBMOQzXzAUE66Xdh0MQIV8m94ANbTgDUdnmNgaCbdLmy6+IDhx6/cgFZUIpdR\n",
       "t1atuoDXLj5IdDP/hBG4dIHSPPc6aNQFGWDaxfv///8J+OxiS/mZDWbcghM4dPEh264Xi1lG4QSM\n",
       "DQwkAj6s4UOMXfCyl0K7WhhoAbiwxkW9AC3sMsEaEuzLaGBZXSIDAwB4aaUFdo5x/QAAAABJRU5E\n",
       "rkJggg==\n",
       "\" style=\"display:inline;vertical-align:middle;\" /></a> <a class=\"ProveItLink\" href=\"../../../__pv_it/_proof__delta_diff_in_interval/6cd3e470f5dc2601cc81f226e010d1e7a779d8ed0/proof.ipynb\" style=\"text-decoration: none\">&nbsp;&#x22A2;&nbsp;&nbsp;</a><a class=\"ProveItLink\" href=\"../../../__pv_it/_proof__delta_diff_in_interval/63b6c4f14498c7897d8f59e92239e35bceb4441d0/expr.ipynb\"><img src=\"data:image/png;base64,iVBORw0KGgoAAAANSUhEUgAAAIkAAAAaBAMAAABx+GIXAAAAMFBMVEX////MzMxUVFRERES6uroi\n",
       "IiIQEBCYmJhmZmYyMjLu7u52dnaqqqqIiIjc3NwAAACW8nlqAAAAAXRSTlMAQObYZgAAAAlwSFlz\n",
       "AAAOxAAADsQBlSsOGwAAAhtJREFUOMtjYCAdcD6AMrgqSdFWgspdD2PIXgUSHEQawtOAyj8JZx0F\n",
       "Yj4DMPMBsooHWExZicp9HbkR2RSGWhDBewBZiS8WU8zR+HNQ3MLAugBInEZIb/3IwFuAYQhfAoL9\n",
       "otOQgeEXqim8CsBwnoBQw/6BgWEWxBNIhnFsQBhowLDfgSWBgdEYCOygpnABTeVAVg80sQISh1sv\n",
       "wEX5HeBMpgcMbAm8CgtR3MIwnYGBDcntrECtbAsg7Ku7YKLyC+AK2H4xMP3juLAL1ZRm5GhjYHgv\n",
       "AExSMLeVwtReRShgCmBg+sjYLgCLrfl7QdQ1BoZuJFPqgZhbAZ4s+iC0JkpYs37ACH7/BSBPwYEy\n",
       "KIQRoe2pBaaMUbTIX8AwRV6AIQaJmwtKqIh49bQCU5NQtARhpqf3DgwpwAiZGgoCAoz/gEKMcBef\n",
       "1IPQEQgVwGg0wDRlPdgUGOAFOYMF5pbSLigDxS1FWNL2exQfMSsA45QnAD2mkU3h2cDwDjNcHjDY\n",
       "Inj8BcBUym6AnuqUkTRIMzDcwhZHm5BM8boAS+/IOeAaUpaK6OgIwDCljIFBFCkbgdIOqwMWq+CJ\n",
       "5f///xMwTGkCSgigCj3FUMTmQKAUAyY5drSCrB1DEVKexgpAeZrBDrUwgaSHpeD0EQhmMybgN4Ud\n",
       "lGcWowgxYykydfCbwgrSwoeSMe4RLnfRQS2RdQDegOEzIK8+Qgt8YEIAAOhheBzNSmYCAAAAAElF\n",
       "TkSuQmCC\n",
       "\" style=\"display:inline;vertical-align:middle;\" /></a></span>"
      ],
      "text/plain": [
       "{l in {-2^{t - 1} + 1 .. 2^{t - 1}}} |- (-l) >= (-2^{t - 1})"
      ]
     },
     "execution_count": 25,
     "metadata": {},
     "output_type": "execute_result"
    }
   ],
   "source": [
    "negative_ell_lower_bound"
   ]
  },
  {
   "cell_type": "code",
   "execution_count": 26,
   "metadata": {},
   "outputs": [
    {
     "data": {
      "text/html": [
       "<a class=\"ProveItLink\" href=\"../../../__pv_it/_proof__delta_diff_in_interval/55fde9abd77d082d2acdac07b777cdd24bec2e7a0/expr.ipynb\"><img src=\"data:image/png;base64,iVBORw0KGgoAAAANSUhEUgAAAFoAAAAaBAMAAADF3lZdAAAAMFBMVEX///9UVFQiIiKIiIjMzMx2\n",
       "dnYQEBDc3NxEREQyMjLu7u5mZmaqqqq6urqYmJgAAAB66f/FAAAAAXRSTlMAQObYZgAAAAlwSFlz\n",
       "AAAOxAAADsQBlSsOGwAAAY1JREFUOMuNlLFPwkAUh3+FQgUK7aiJAxoToyxVEwcnFmcadXKxiYtj\n",
       "FyOJgwwOTlp3hw4uTLg4IImR0UlcXYQ/wMjQhISoeNdiuF6vxLfc5evHu/de7gD+ImPjP/ERLA0O\n",
       "3wlldYyfOV4V2vVgOV7ZC/OCIbIvx+sNw5TmkY1VgaxYwGnzHBgyMIVXF2u8uuMhZ0Kp4aCTtxgu\n",
       "ubRtl7MLfWgdSDbSVlK/nfCkTkfa5eycg4qL9BDSIGfsT3j2i36scXbCwDo5twjJkx/LzIcrUkXS\n",
       "4uyzMuaCn/VDvP1C8uaHnP0JXPibSmi4BUcipuxx9ixw7W8WwkfaKjGVb84+BEoINdRw/CQ0b9a3\n",
       "64s0lshOHoxz9yZ901vzA5n0oXCV0K6prZo4YXDWI5UHudiY0V1aOraBLZZ7yDxFZ6J1TWySI0ut\n",
       "VpHlu2jTyXDz1t4MvLtIjEYjh+WpDZO2rnPX5B5Id+LeVOSe0AxmnB25g3SKVpzdE8H5OHt5yruM\n",
       "hPhdqjGFV6f+n/DxIGC/AC5YQHJWgWEAAAAASUVORK5CYII=\n",
       "\" style=\"display:inline;vertical-align:middle;\" /></a>"
      ],
      "text/plain": [
       "(2^{t} * delta) - l"
      ]
     },
     "execution_count": 26,
     "metadata": {},
     "output_type": "execute_result"
    }
   ],
   "source": [
    "scaled_delta_minus_ell"
   ]
  },
  {
   "cell_type": "code",
   "execution_count": 27,
   "metadata": {},
   "outputs": [
    {
     "data": {
      "text/html": [
       "<span style=\"font-size:20px;\"> <a class=\"ProveItLink\" href=\"../../../__pv_it/_proof__delta_diff_in_interval/3db8a858b432d89a4fdeb6fb209a6ca2d3cc263a0/proof.ipynb\" style=\"text-decoration: none\">&nbsp;&#x22A2;&nbsp;&nbsp;</a><a class=\"ProveItLink\" href=\"../../../__pv_it/_proof__delta_diff_in_interval/6fe7f8ef6204b7c7c61d40c7db3a53b69f4dc0800/expr.ipynb\"><img src=\"data:image/png;base64,iVBORw0KGgoAAAANSUhEUgAAAGAAAAAaBAMAAAC6D0SsAAAAMFBMVEX///9UVFQiIiKIiIjMzMx2\n",
       "dnYQEBDc3NxEREQyMjLu7u5mZmaqqqq6urqYmJgAAAB66f/FAAAAAXRSTlMAQObYZgAAAAlwSFlz\n",
       "AAAOxAAADsQBlSsOGwAAActJREFUOMuNVL9Lw0AU/tKmjU3S2MFBwaEqIlqHquDg1MW5gTq5mNEx\n",
       "i1hwaAcHJ203QZEgKohD3aQKoqOT9S9Q/wBBMCKUar38vsSe+oa743vvu/e+l3cBPEvp+Ke9OFsj\n",
       "Ap+z4mXXcxfByyzCqbOtTS6FcSXPIGy7+z6FCc1VHVO94wUN2GhuAm0KTODBwMyP2ETpApBUCFWs\n",
       "tNIa5eEMqwvWAvEggPdxqKO/BU5HUotnjgJPPGP1+ck+H4/5qrJIVFE0kGyD+5DyywFB7JBFqrrs\n",
       "ccM59GUgtzFLCsiCM/nrAlXTDomJe0UqLqP/HHwHQ/Y59hpSd3tPbk/7bZD37CloEMIXtmyoGGq6\n",
       "UuNIMG/6QLpu5aio4N9Qt5GRUIKKLpNg4TMg7HqEd+RA6SNpa2QZtG8XfYJcd0pSkXYzPPt3xazJ\n",
       "+gJPNAleSUrOFy13bIKsYp2qSDSJCqLhI9rWKpQ2SQ8sAgu0BhOpG79L1IfTINUwT3Lnrq6yNKGE\n",
       "W8cfGY1pnBTwaCDW7XZroSGbU61OZKLDd1YaAJIt1kNxZylqksoiNIyeMK+xCE6vxVHbqEEbZhEm\n",
       "fn/TP4z5pmWGiPJf/6WoXfaGvwHODWz2Fe5bGQAAAABJRU5ErkJggg==\n",
       "\" style=\"display:inline;vertical-align:middle;\" /></a></span>"
      ],
      "text/plain": [
       "|- (2^{t} * delta) >= 0"
      ]
     },
     "execution_count": 27,
     "metadata": {},
     "output_type": "execute_result"
    }
   ],
   "source": [
    "scaled_delta_greatereq_than_zero.with_styles(direction='reversed')"
   ]
  },
  {
   "cell_type": "code",
   "execution_count": 28,
   "metadata": {},
   "outputs": [
    {
     "data": {
      "text/html": [
       "<strong id=\"scaled_delta_minus_ell_lower_bound\">scaled_delta_minus_ell_lower_bound:</strong> <span style=\"font-size:20px;\"><a class=\"ProveItLink\" href=\"../../../__pv_it/theorems/8bc9b38cf75c7371ab646fd064ad09fc02345f250/expr.ipynb\"><img src=\"data:image/png;base64,iVBORw0KGgoAAAANSUhEUgAAANYAAAAYBAMAAAB0Lx7ZAAAAMFBMVEX///+qqqq6urru7u4QEBBE\n",
       "RERUVFTc3NyIiIgyMjJmZmaYmJjMzMwiIiJ2dnYAAACPW0xlAAAAAXRSTlMAQObYZgAAAAlwSFlz\n",
       "AAAOxAAADsQBlSsOGwAAAeBJREFUSMdjYCAMOAugDOadDMQD8nTZwxgnemmuSxLOkqW6LiMFFG7d\n",
       "zTdk2IWmq7AAqyqOSQaoAhPJ8heqLp5UkKFv/6ApkkeyqmplDAPDZzx28VzGYg02XawJQIL7A5rK\n",
       "twgmewDDewUmBwaeUCAIx2KX2crPmFZh1cV3AUhwTcBtF1sBA4sDR4INhr+YNsACHItdWHWB7eJt\n",
       "gIi03r07Ad0uls8MbN+5Gh5j2MXYgMcurLrAdtUfAAtoNmPz1wUGtj88qw/A0tb8F8TYhVUX2K79\n",
       "kDCejC0MQd7+gC2R4bULqy6wXamoJQoDw0oUNecbyLELUxeHA5DwgNiFSEXeKGquMZBjF6Yu9o/A\n",
       "DPIdzDxyFwgCQGKZwFKDeS6IexcY4lwBmAZx3b17xffu3QTcdmHTZTYR4jcGBlO42KlgZBXbGMjx\n",
       "FzZdLxWA+RlcTPAiBMOQzXzAUE66Xdh0MQIV8m94ANbTgDUdnmNgaCbdLmy6+IDhx6/cgFZUIpdR\n",
       "t1atuoDXLj5IdDP/hBG4dIHSPPc6aNQFGWDaxfv///8J+OxiS/mZDWbcghM4dPEh264Xi1lG4QSM\n",
       "DQwkAj6s4UOMXfCyl0K7WhhoAbiwxkW9AC3sMsEaEuzLaGBZXSIDAwB4aaUFdo5x/QAAAABJRU5E\n",
       "rkJggg==\n",
       "\" style=\"display:inline;vertical-align:middle;\" /></a> <a class=\"ProveItLink\" href=\"../../../__pv_it/_proof__delta_diff_in_interval/cdfb804d601843121aef8a15af654b14757fbf370/proof.ipynb\" style=\"text-decoration: none\">&nbsp;&#x22A2;&nbsp;&nbsp;</a><a class=\"ProveItLink\" href=\"../../../__pv_it/_proof__delta_diff_in_interval/af34383b9764645bc1825cef48f22ef8ddc703060/expr.ipynb\"><img src=\"data:image/png;base64,iVBORw0KGgoAAAANSUhEUgAAANEAAAAaBAMAAADbO6SrAAAAMFBMVEX///9UVFQiIiKIiIjMzMx2\n",
       "dnYQEBDc3NxEREQyMjLu7u5mZmaqqqq6urqYmJgAAAB66f/FAAAAAXRSTlMAQObYZgAAAAlwSFlz\n",
       "AAAOxAAADsQBlSsOGwAAAxVJREFUSMetVj9oE1EY/13ukjSXyyW4aEForIpohqYWOjhlUQSHhOqi\n",
       "iwFBXMRD8A84tINDJ00GsaCUG3ToYqISaA1IO3QQB+Pi4GKL4iYGjBSDNb73Lnf33rtLzOAbvnv3\n",
       "u/e+3/fvffcAYSQs/Kfx0J08q3jYN08ANWl9PUxJKGi2hFe93Z9oM1kgyaZG3RVkvJH23w5TGgq+\n",
       "FV8NzxODMMUX6GzFE8CNo+ckS/Nh5oeAekV4jc89KHBM+Exn9zxBxmN+9doVC8fC7A8Bx7akhK/z\n",
       "PiFiE31lOOLO2l2gyy2O4r2NaVnlXAdBELjJWdhcKiBtC0xqhiSrBCZIKC+2UmVus0IX12w5dG0X\n",
       "1Jc5uMGnMbqLD8DpRTIsh0knLqRpzRChWIiV1cwTfwe1AwkpKkhWPPDpQR/e9ad7gcuY1oU8gVhV\n",
       "pPYREetC2UnmL3BJ/k0VL0hMkbwPqoddjzUu7NdsTFgvo7bAtAocp08ilCyUjva6wCm9TxarZYlp\n",
       "vsCBpkulZv0Ve4CJwpkvbtbO/6SlOguM09dxx9y2oHPjHTE91ZWYvoMHjUdOU1HEIp8KVMwnG4v0\n",
       "yQSKwjkxKwpRqHWkLfsggKkq82pMCLL2I8BULKBKn0zggBgmyyAK47vSlksQwNQSY0pkhFxmAkzz\n",
       "LeTokwk/+bUKM56arjOlK5N0HKLm7sAFWfSqTvQidX7RavC81VqcT9u+TbQL/oFG8haXoseKwQPN\n",
       "XL8iBJ/MoEu0kDwmo4RbfCPrkEz1feC7Tsb2Qb/KBaZNxAM/n6LFMszESeAE/63Depdce+mtkgdy\n",
       "J1fhKkIrQbVDam8WTrXHc81mlv92Fhs0EtJ5Sn/MuyDfjfhjd73ZfBGI3ldGxkSk1+sJhyI6wzqi\n",
       "FHOzEQKKrk/1er8CTM+BGO17sdagn3Sg7w0Ar/7jZ7/s9/IBI9DLB4CN4US0l2s0wlp50JLtwaDO\n",
       "zs+k0ylPDWdihb8frggbR0YElfWhTBFLukeMdGUY5R4hD3aPMEquGPUaFApuDiNy7kbCfU8er0YG\n",
       "zdYQpiQpob/BGcUGO36fRQAAAABJRU5ErkJggg==\n",
       "\" style=\"display:inline;vertical-align:middle;\" /></a></span><br>"
      ],
      "text/plain": [
       "scaled_delta_minus_ell_lower_bound: {l in {-2^{t - 1} + 1 .. 2^{t - 1}}} |- ((2^{t} * delta) - l) >= (-2^{t - 1})"
      ]
     },
     "execution_count": 28,
     "metadata": {},
     "output_type": "execute_result"
    }
   ],
   "source": [
    "# new?\n",
    "scaled_delta_minus_ell_lower_bound = (\n",
    "    scaled_delta_minus_ell.deduce_bound(\n",
    "        [scaled_delta_greatereq_than_zero.with_styles(direction='reversed'),\n",
    "         negative_ell_lower_bound]))"
   ]
  },
  {
   "cell_type": "markdown",
   "metadata": {},
   "source": [
    "#### Divide through by $2^t$ and Simplify"
   ]
  },
  {
   "cell_type": "code",
   "execution_count": 29,
   "metadata": {},
   "outputs": [
    {
     "data": {
      "text/html": [
       "<strong id=\"lower_bound_judgment\">lower_bound_judgment:</strong> <span style=\"font-size:20px;\"><a class=\"ProveItLink\" href=\"../../../__pv_it/theorems/8bc9b38cf75c7371ab646fd064ad09fc02345f250/expr.ipynb\"><img src=\"data:image/png;base64,iVBORw0KGgoAAAANSUhEUgAAANYAAAAYBAMAAAB0Lx7ZAAAAMFBMVEX///+qqqq6urru7u4QEBBE\n",
       "RERUVFTc3NyIiIgyMjJmZmaYmJjMzMwiIiJ2dnYAAACPW0xlAAAAAXRSTlMAQObYZgAAAAlwSFlz\n",
       "AAAOxAAADsQBlSsOGwAAAeBJREFUSMdjYCAMOAugDOadDMQD8nTZwxgnemmuSxLOkqW6LiMFFG7d\n",
       "zTdk2IWmq7AAqyqOSQaoAhPJ8heqLp5UkKFv/6ApkkeyqmplDAPDZzx28VzGYg02XawJQIL7A5rK\n",
       "twgmewDDewUmBwaeUCAIx2KX2crPmFZh1cV3AUhwTcBtF1sBA4sDR4INhr+YNsACHItdWHWB7eJt\n",
       "gIi03r07Ad0uls8MbN+5Gh5j2MXYgMcurLrAdtUfAAtoNmPz1wUGtj88qw/A0tb8F8TYhVUX2K79\n",
       "kDCejC0MQd7+gC2R4bULqy6wXamoJQoDw0oUNecbyLELUxeHA5DwgNiFSEXeKGquMZBjF6Yu9o/A\n",
       "DPIdzDxyFwgCQGKZwFKDeS6IexcY4lwBmAZx3b17xffu3QTcdmHTZTYR4jcGBlO42KlgZBXbGMjx\n",
       "FzZdLxWA+RlcTPAiBMOQzXzAUE66Xdh0MQIV8m94ANbTgDUdnmNgaCbdLmy6+IDhx6/cgFZUIpdR\n",
       "t1atuoDXLj5IdDP/hBG4dIHSPPc6aNQFGWDaxfv///8J+OxiS/mZDWbcghM4dPEh264Xi1lG4QSM\n",
       "DQwkAj6s4UOMXfCyl0K7WhhoAbiwxkW9AC3sMsEaEuzLaGBZXSIDAwB4aaUFdo5x/QAAAABJRU5E\n",
       "rkJggg==\n",
       "\" style=\"display:inline;vertical-align:middle;\" /></a> <a class=\"ProveItLink\" href=\"../../../__pv_it/_proof__delta_diff_in_interval/89ab4a5cd427dcce979bce1151530090ee21a3040/proof.ipynb\" style=\"text-decoration: none\">&nbsp;&#x22A2;&nbsp;&nbsp;</a><a class=\"ProveItLink\" href=\"../../../__pv_it/_proof__delta_diff_in_interval/8242ef95a17b562a365aef7da7b5e85a650ba5d70/expr.ipynb\"><img src=\"data:image/png;base64,iVBORw0KGgoAAAANSUhEUgAAAM8AAAA0BAMAAADf+nG2AAAAMFBMVEX////MzMxUVFRERES6uroi\n",
       "IiIQEBCYmJhmZmYyMjLu7u52dnaqqqqIiIjc3NwAAACW8nlqAAAAAXRSTlMAQObYZgAAAAlwSFlz\n",
       "AAAOxAAADsQBlSsOGwAABCBJREFUWMOtWE1oE0EUfpvmr8nmB0QRPBgQPSjYiOhBUIuHgoJYC2Ir\n",
       "lQYVb2ItCN5aEGlqUYoiQitlpYh4ahR6UJCWgkLpoUHwItQGRBEEbaBQrZq4M9lu5k3eJNOYodnu\n",
       "7MzON/N+v7cAbmvOQYPa+PrN0xFqeLJROKFl58ZYbEcDzknmpPnaB9wn9U33HCYDmrCcXmSG//vW\n",
       "9bw8Nzp0MXdSE8fTi/vRqbG4CGScc3rzAF+H7F09EiaH4ZgVkRaAqTwJtEcESd+PQ/MMOhG8cSQ6\n",
       "AtEkTLfCmrhLdtxRacXAMoUTEBX+CcIrELMwUDjBO8Fe8OTAn/KmhBcibOyGtGSQtKEvoi73AlyG\n",
       "NoBN++2Wc4DgLL/67b818BQiiceC4fxhIxZe0pelgM6LnasWtOTehZCOAN5ajrF52sGTD2ZfCW8c\n",
       "tceaJSX9iFOSEwUBOwFa4nfCFgZqHmDX4dJul41BYZ3ZhaQrW7f1UwfyZ6QHPbD12rppvPzNheAt\n",
       "sOtD/mx7FivYsyap2W47KKAlSb7GX2LSPXbp5rcdWEg50zZlM4WnX6GAOqS+L0FMWmC7ucQNKukG\n",
       "ohG+d8MGMpg5hx6cYc0Wq1EgljBk37pJRrfsOlBfeUdMcascxItPFElRYUF6GKAOBE3tjujMDHwX\n",
       "o2Ke68fEIbEpYRG2IC08D1EiRgaYMA7bv20AH8SBPA8jgSSaHevNVC6xHbuAkYEIsZ3Qqn15YZth\n",
       "ZzqNdv8aZpni8MKxE4TDLuH9f06nb1Gyu2D/Ntt6KRaLyJTDiwzD14rPP0yscFByomLxFwV0gC0X\n",
       "V8X/zxo54qJeKplmGx1QjQ7Sj58Jagn91APqZ8I5ohiMJhWZeipbPQ4QjQeeCcVgkzKXv3fDr/lH\n",
       "D2iSiS2apQc/qt+7vo4UyOsBxRJ1Ep25u060KGgCJeulVMd3l/xgTW+6f6RuoEOl7K4J5GuH4kaa\n",
       "y07m9joxlT9xI3yMeKcElKrvPNdvgwikcaL6gMrmvQHR1UGtBYcNF/7fGMZVA2IIiqj9CBUn/kTt\n",
       "kqBqq+KwqDiJkQGVE2hTy/LNFeopp/KoOJnMUPMYgRZKgmrNWKWj8XQrKk4kNocIdLkkkNsT7jSn\n",
       "Sx0qTXAqj4oTWCBX4wQ6ZmmZUxdlYozKo+JEzvgigW7Ts9td1IkYlcdcrUX1fg+US4LqqZM+uG8Z\n",
       "FSfKjG8nznJJUD11zigyKipOoqpEbBNotySo4fK0J3YAKk4CqgByUzseBcloGUxWaI32d/3E6yU9\n",
       "tk9OsAq2QBNounVS8QJTeaXJKAi0vtnJVL6iiKpBoEGrtCSovFdhCyoCTeuzMvVVUPmmeskWamO1\n",
       "p5yyGgG0pbbddDfko1mkJjcMN0Ry+KMTzQEb9B1Qnbkcbxlt1BfHfdWHn3FT+Aeun0jC8KX21wAA\n",
       "AABJRU5ErkJggg==\n",
       "\" style=\"display:inline;vertical-align:middle;\" /></a></span><br>"
      ],
      "text/plain": [
       "lower_bound_judgment: {l in {-2^{t - 1} + 1 .. 2^{t - 1}}} |- (((2^{t} * delta) - l) / 2^{t}) >= (-(2^{t - 1} / 2^{t}))"
      ]
     },
     "execution_count": 29,
     "metadata": {},
     "output_type": "execute_result"
    }
   ],
   "source": [
    "lower_bound_judgment = scaled_delta_minus_ell_lower_bound.divide_both_sides(_two_pow_t)"
   ]
  },
  {
   "cell_type": "markdown",
   "metadata": {},
   "source": [
    "We need to establish that $\\frac{2^{t-1}}{2^t} = \\frac{1}{2}$."
   ]
  },
  {
   "cell_type": "code",
   "execution_count": 30,
   "metadata": {},
   "outputs": [
    {
     "data": {
      "text/html": [
       "<strong id=\"exp_frac\">exp_frac:</strong> <a class=\"ProveItLink\" href=\"../../../__pv_it/_proof__delta_diff_in_interval/ae6ea6694268f371375a4b0753dcf2be085712f10/expr.ipynb\"><img src=\"data:image/png;base64,iVBORw0KGgoAAAANSUhEUgAAACcAAAAuBAMAAABZgh3OAAAAMFBMVEX///+qqqqYmJiIiIgiIiLu\n",
       "7u4QEBBUVFS6urp2dnbMzMxEREQyMjJmZmbc3NwAAADzFso2AAAAAXRSTlMAQObYZgAAAAlwSFlz\n",
       "AAAOxAAADsQBlSsOGwAAAQRJREFUKM9jYAADngcQmoFVhwEO4mGMxSYIQRk4SwTOeukzC1Xw7Z1d\n",
       "DAwHUVXybWCY38DwFVWQ/QEDWwJHAgPXbiDYBxVk+8rA/o+5IApVpQMD+y9eg6notrN84Lq0AOaO\n",
       "85MhjPUGDJjAHYsY7wYsgupYxBgnMLzDEFzJwGCKLsbne/euA7ogy////w8wDFHwHxN8oKb557CI\n",
       "saLZwHf39AIGRrQgfM3A+YNvyskFKIJ1DAxpDDwCqCrzAxjqH/AHoAqWMDDUL2jDtNufwZx1AZoY\n",
       "12eGy5wB6LFawLBWC133bSy+YSrAIijJwPcAXYxrAgMzui0MT+7evYLpyP///yB4AABDVUhLf8+0\n",
       "AAAAAElFTkSuQmCC\n",
       "\" style=\"display:inline;vertical-align:middle;\" /></a><br>"
      ],
      "text/plain": [
       "exp_frac: 2^{t - 1} / 2^{t}"
      ]
     },
     "execution_count": 30,
     "metadata": {},
     "output_type": "execute_result"
    }
   ],
   "source": [
    "exp_frac = frac(_two_pow__t_minus_one, _two_pow_t)"
   ]
  },
  {
   "cell_type": "code",
   "execution_count": 31,
   "metadata": {},
   "outputs": [
    {
     "data": {
      "text/html": [
       "<span style=\"font-size:20px;\"> <a class=\"ProveItLink\" href=\"../../axioms.ipynb#_t_in_natural_pos\" style=\"text-decoration: none\">&nbsp;&#x22A2;&nbsp;&nbsp;</a><a class=\"ProveItLink\" href=\"../../../__pv_it/axioms/43c5ca85739dab0e5d869af8d9f6b96cb94286c70/expr.ipynb\"><img src=\"data:image/png;base64,iVBORw0KGgoAAAANSUhEUgAAADwAAAATBAMAAAA+KHOiAAAAMFBMVEX///8QEBCYmJjMzMwyMjKI\n",
       "iIhERERUVFS6urp2dnZmZmaqqqrc3NwiIiLu7u4AAAAqt126AAAAAXRSTlMAQObYZgAAAAlwSFlz\n",
       "AAAOxAAADsQBlSsOGwAAAOZJREFUKM9jYMANFjDgBQmkS/PdT/Nj4JSXwKWbbUM7A8N7uG6+O6jS\n",
       "7Hc4FRgYGbjS0sTSkhgYuP+hSW9j8GHghevmugARDrt71wEsfSjgCJI07wSwbEscTPeBYtYJcOn2\n",
       "/PQAIMXjBzf8ABtDBkL3frAgywGENPOCt2/hobYEIo1w2gEGbe5EOPcmmDS8CwQJUGn2B4XwUPoB\n",
       "pp4h6+YreAvjcX9geAByP7I0gykbjMflwG0ApFgD4IEK5LKawRUXPAXT3jABlg1w94I8nKQApp9n\n",
       "PADTzP5iQPIJRkx15kICFQUAALDXOQj7yj+HAAAAAElFTkSuQmCC\n",
       "\" style=\"display:inline;vertical-align:middle;\" /></a></span>"
      ],
      "text/plain": [
       "|- t in NaturalPos"
      ]
     },
     "execution_count": 31,
     "metadata": {},
     "output_type": "execute_result"
    }
   ],
   "source": [
    "_t_in_natural_pos"
   ]
  },
  {
   "cell_type": "code",
   "execution_count": 32,
   "metadata": {},
   "outputs": [
    {
     "data": {
      "text/html": [
       "<span style=\"font-size:20px;\"> <a class=\"ProveItLink\" href=\"../../../../../../numbers/exponentiation/_theory_nbs_/proofs/add_one_right_in_exp/thm_proof.ipynb\" style=\"text-decoration: none\">&nbsp;&#x22A2;&nbsp;&nbsp;</a><a class=\"ProveItLink\" href=\"../../../../../../numbers/exponentiation/__pv_it/theorems/4ee22013bfc0b78f3fac2b9502afbf8f1dfa923a0/expr.ipynb\"><img src=\"data:image/png;base64,iVBORw0KGgoAAAANSUhEUgAAAQcAAAAaCAMAAACNSmlkAAAAOVBMVEX///82NjYbGxsSEhKIiIgi\n",
       "IiIQEBB2dnbu7u5ERETMzMzc3NwyMjK6urpmZmaYmJiqqqpUVFQAAAAnLjGdAAAAAXRSTlMAQObY\n",
       "ZgAAAAlwSFlzAAAOxAAADsQBlSsOGwAAA0RJREFUWMPNWVmypCAQdOYhq6z3P+zIIoIgi2MYj4+O\n",
       "6o4ilaSWhF6W3zboRj6BxHL7FeuVvLTc0Kg3Vcw+K4E85lIA1mdg7w4lSssPSHtz2WzEJJDnVLU+\n",
       "A3t14K20wkYZADTuxBKYy4sEsuBhFuzdQWRp+QFWvIBesK545mEpZMmDB9Pn7/I7GhgsrYSXbgkD\n",
       "epb0A7LCgwMTsUht7DseBCqtJJdFb5nY4MnysEMKsg9oP2TGgwOj+mnx+Z9heGkdP9gXVz2AbSZ4\n",
       "U8hKPHiwLTCL1Hc00LidtNjYPVtlf0vEzK6lkDUeHJgMzH6pKsBaWpEjAQYKOIAztCeQBw8MbQaB\n",
       "FAyudkD0IQ96KyymEWBtAlIXPlAgqpC1OPJgwokMgp8VvGY1uy3g5GpxuFdp0lxc5kLNKY3Emgxd\n",
       "92++sAdj+vgYkOWACJ2S3EpT5EogQqAItU1fLAylW1CL1MyFFfW17d8OHA9mQwHxliynQBOye2Ci\n",
       "d44VQSM8eGqtWuNXr1VcLGHcF1T2x5hBuQvu8nAHWe3CDkyBmyp5yHIhgoGwiwQ5xINmEcOwTjxA\n",
       "crO2k7HchZneKeQWshYPNLSKQ2NjJAFiF1kOZDyqUg/LqjxkkxeO/CNwRQ9cecDGPl+a5p5lLjSh\n",
       "tlofBiCT+sCCdAgiAq8seUKQ5TiuVTHF7stvnOx0G/lxus3rg/WiejTJLWyU7x2K3fOQuXT7xQDk\n",
       "pV9Yja+PBNjJgRdZzuMiJJb4nod8cggizwMEd90/WARYXSNa7Sd3kV39MAAZ13WA6ZBskKdHmCDL\n",
       "5eb2l6iFUk7vecgmH0Hk88Ko+gZEC2uAKNOgkfS5S/cEMgIZd1BfY8l2XIlxJsvpWRVDnUyEAalM\n",
       "tnnx9084z1TrpOPsak2N7c3DcQEGbYbzPfgxSmT5KbEYEnZFqKof4uQlOb0tVtFyPXHeHLvGMfg9\n",
       "GkowLqQCSNo8V6csZ4SeLWFPEkGreREn5+p011GieOmzjlD45NWlfjEcmmAqa4g2yKsBXNcPqntS\n",
       "0qq0Zk6Qb96VtMD4YNzVeeifXe/vJ4d28M0rxSbYaBmq8qAGap9CpTV8q/fmldE7YM/j8/b/i4E+\n",
       "92KRDGD/AEQlJbXDb94PAAAAAElFTkSuQmCC\n",
       "\" style=\"display:inline;vertical-align:middle;\" /></a></span>"
      ],
      "text/plain": [
       "|- forall_{a, b in Complex | a != 0} ((a^{b} * a) = a^{b + 1})"
      ]
     },
     "execution_count": 32,
     "metadata": {},
     "output_type": "execute_result"
    }
   ],
   "source": [
    "add_one_right_in_exp"
   ]
  },
  {
   "cell_type": "code",
   "execution_count": 33,
   "metadata": {},
   "outputs": [
    {
     "data": {
      "text/html": [
       "<strong id=\"two_pow_t_factored\">two_pow_t_factored:</strong> <span style=\"font-size:20px;\"> <a class=\"ProveItLink\" href=\"../../../__pv_it/_proof__delta_diff_in_interval/5b7d937156284c8ead686cb6f6e3f231b708b4e70/proof.ipynb\" style=\"text-decoration: none\">&nbsp;&#x22A2;&nbsp;&nbsp;</a><a class=\"ProveItLink\" href=\"../../../__pv_it/_proof__delta_diff_in_interval/fbc2ce07a6164733e8dffb405e83de528d31ae060/expr.ipynb\"><img src=\"data:image/png;base64,iVBORw0KGgoAAAANSUhEUgAAAHwAAAAaBAMAAACHnSXKAAAAMFBMVEX///9UVFQiIiKIiIjMzMx2\n",
       "dnYQEBDc3NxEREQyMjLu7u5mZmaqqqq6urqYmJgAAAB66f/FAAAAAXRSTlMAQObYZgAAAAlwSFlz\n",
       "AAAOxAAADsQBlSsOGwAAAa9JREFUOMtjYMAKOAugDK6XDLgBWNVbLBLrYQxnIyCxAYd2kCoebJIn\n",
       "4axDQFyBQztI1Uos4qWaIcja+Qyw6gar6sMmMwfFdgYt7LYDVbEnAPHuGQ5wseqdLQwMv1C1G2Lo\n",
       "hKniDgD5jfUvTJy9gSH+Am8CA0sHELRDta9fgKYbpoqB/wIDgzgDQxpMgrGAgS2BWWAJiu2cD9C0\n",
       "w1X5Aw3OX8AgD4totl8MjN+5DaJQtHM3oGmHqwLFqxADgzzM84wKDIxfWPbBuKXzg4EkcwK67TBV\n",
       "khC+PpIc0wf0gOL9hRnsEFUdYDbLZyQJf4xoZvkC9oISGAggq5oIMUoASbEihk3sfzFth6jSBpM7\n",
       "wNnjJwPWcALKYGqHqgLbzieAZNRDTJvYv2AIQVWBtR9lYIdFHANPAEM5ht+/o/sdpkoCJBvAwAxP\n",
       "V64MDFaEQx6mygyIi3bv3gR3p/bu3QroivnQ4x2u6j7QWv3//3/Co/P///8TMMJJAD3SYarYLjAQ\n",
       "BhhpHmFwABHaMXIcIlATiND+ELeUDBHa1XFLrSSsG0dZB0smhEAFPsm3BLXvwikDAAD/bHp3XpUp\n",
       "AAAAAElFTkSuQmCC\n",
       "\" style=\"display:inline;vertical-align:middle;\" /></a></span><br>"
      ],
      "text/plain": [
       "two_pow_t_factored: |- (2 * 2^{t - 1}) = 2^{t}"
      ]
     },
     "execution_count": 33,
     "metadata": {},
     "output_type": "execute_result"
    }
   ],
   "source": [
    "two_pow_t_factored = add_one_right_in_exp.instantiate(\n",
    "        {a: two, b: subtract(_t, one)})"
   ]
  },
  {
   "cell_type": "code",
   "execution_count": 34,
   "metadata": {},
   "outputs": [
    {
     "data": {
      "text/html": [
       "<a class=\"ProveItLink\" href=\"../../../__pv_it/_proof__delta_diff_in_interval/8d665f12542a71cdeb39d2c846db45f887a9e5770/expr.ipynb\"><img src=\"data:image/png;base64,iVBORw0KGgoAAAANSUhEUgAAAH4AAAAaBAMAAACDaPX3AAAAMFBMVEX///+qqqqYmJiIiIgiIiLu\n",
       "7u4QEBBUVFS6urp2dnbMzMxEREQyMjJmZmbc3NwAAADzFso2AAAAAXRSTlMAQObYZgAAAAlwSFlz\n",
       "AAAOxAAADsQBlSsOGwAAAdlJREFUOMuNVD1Iw0AU/vrfhjY6uAgObhVxyODP6qB0sZpZCs3kagU3\n",
       "RTu5WlAXFwtODmJxtCA6iQgq/kwa6OBSRBGkUEQaL5demnjXJg/yuO/e+/J+7t4BVG7hT5K19iIy\n",
       "5tyOfAl8RwR7ebY4HCfqnqHABe8auBfwh+zVAPne22t597rMueYE9PrcvpMfVFhZ/bzvqaj+S1d8\n",
       "zJLY+k0ZfSrnKWvAx+tZZ4OChps/ZdaQaGKLj5QqQa7goGj/zwRxDVKVyHmbn1exASxhKsLV31dE\n",
       "rIaoxjAFocKiK35yGMsqNmuPCa6AExXRBmIthilIKXsufqqCVWCzfDzK5U/ONzaN2I8d3wTSA8uz\n",
       "frdDdIimtyDq9DrVYefFCnO3LG72U/pm8GnGlAxdV60qFGdJyn++ZKYXLojiX1GdcW5l+ENuEvUi\n",
       "nJRsuz/mKVm32wIuiRB+UBjeip+26rYmIc07yST/Qcg1Qf0mP1DCZ2eenIDV34JUQkgVxF8j3xEw\n",
       "YW+4QKf/b7r+JMp/kmSX1fVpO1UnYBLUsGAYvyL+toqwYRj2w+AC9pAUur5U0aKf52y4q4nMn7fk\n",
       "1a4mSfPBT/ewrfjgz/ew5bzpQaWHMeDdgPee1hFP/jPwB6dreYijqbLYAAAAAElFTkSuQmCC\n",
       "\" style=\"display:inline;vertical-align:middle;\" /></a>"
      ],
      "text/plain": [
       "2^{t} = (2 * 2^{t - 1})"
      ]
     },
     "execution_count": 34,
     "metadata": {},
     "output_type": "execute_result"
    }
   ],
   "source": [
    "two_pow_t_factored.reversed()"
   ]
  },
  {
   "cell_type": "code",
   "execution_count": 35,
   "metadata": {},
   "outputs": [
    {
     "data": {
      "text/html": [
       "<strong id=\"exp_frac_judgment\">exp_frac_judgment:</strong> <span style=\"font-size:20px;\"> <a class=\"ProveItLink\" href=\"../../../__pv_it/_proof__delta_diff_in_interval/6854069899e3adb7b8c580a596c19b38707389b80/proof.ipynb\" style=\"text-decoration: none\">&nbsp;&#x22A2;&nbsp;&nbsp;</a><a class=\"ProveItLink\" href=\"../../../__pv_it/_proof__delta_diff_in_interval/233c57a39219125eeca9d0de3fc3e2535dd2202f0/expr.ipynb\"><img src=\"data:image/png;base64,iVBORw0KGgoAAAANSUhEUgAAAG8AAAAuBAMAAADU71qaAAAAMFBMVEX///+qqqqYmJiIiIgiIiLu\n",
       "7u4QEBBUVFS6urp2dnbMzMxEREQyMjJmZmbc3NwAAADzFso2AAAAAXRSTlMAQObYZgAAAAlwSFlz\n",
       "AAAOxAAADsQBlSsOGwAAAV5JREFUSMft1DFIw1AUBdBbmzQ2NNHBRXAXxKGD4tpBcFHa2cVOrmZw\n",
       "tk7OBXVxMeDkIHZWEB1FqKBu+iGDi4hSkIKI+JVKRe3Nf6EoOHiXZDg3L3kkAVrJRe9H2KOICzVz\n",
       "7ZOtsdgiNUMfZwOxRWZupjfEYoe5u9oDjswTmfFr2FxG01ikxomQKfeW4e6/5YAXqck04bykg1nT\n",
       "RGqcApwnL79uKsYZq+Gehe3dna7SnVKzm4cYaqbkHjVeTe5RM5xgIDOpKu6lHjXbwLhUZMafUaog\n",
       "9KixtNaHQjGJ+c+vxptsJfj5K+vONLoxf/kZP6fepbETPPF346uTECnzp0PNLbKP/tpxaCpSswTM\n",
       "I9dvnEjNQgmVqK9kLFKzCFTCFfNe4kwRE3Yo7JQZ9wHnWfO9cmMF2BmR/nbMXCZ4a5jpSfA2UzMI\n",
       "P5KKzLhVpIXNcHOt1IU0kJqi1s9S8at5BXM/rrmyTLrUAAAAAElFTkSuQmCC\n",
       "\" style=\"display:inline;vertical-align:middle;\" /></a></span><br>"
      ],
      "text/plain": [
       "exp_frac_judgment: |- (2^{t - 1} / 2^{t}) = (2^{t - 1} / 2^{t})"
      ]
     },
     "execution_count": 35,
     "metadata": {},
     "output_type": "execute_result"
    }
   ],
   "source": [
    "exp_frac_judgment = Equals(exp_frac, exp_frac).prove()"
   ]
  },
  {
   "cell_type": "code",
   "execution_count": 36,
   "metadata": {},
   "outputs": [
    {
     "data": {
      "text/html": [
       "<strong id=\"exp_frac_is_one_half\">exp_frac_is_one_half:</strong> <span style=\"font-size:20px;\"> <a class=\"ProveItLink\" href=\"../../../__pv_it/_proof__delta_diff_in_interval/f9b0729ee66bf2f37eb59703f0a7fbfb478d5dca0/proof.ipynb\" style=\"text-decoration: none\">&nbsp;&#x22A2;&nbsp;&nbsp;</a><a class=\"ProveItLink\" href=\"../../../__pv_it/_proof__delta_diff_in_interval/5931bd91322ac194ad0f74818431c73765d98f6f0/expr.ipynb\"><img src=\"data:image/png;base64,iVBORw0KGgoAAAANSUhEUgAAAFIAAAAuBAMAAABJ4lMSAAAAMFBMVEX///+qqqqYmJiIiIgiIiLu\n",
       "7u4QEBBUVFS6urp2dnbMzMxEREQyMjJmZmbc3NwAAADzFso2AAAAAXRSTlMAQObYZgAAAAlwSFlz\n",
       "AAAOxAAADsQBlSsOGwAAAWBJREFUOMtjYAADngcQmoFVhwE/iIcxFpsQUCkDZ4ngV/jSZxYRKt/e\n",
       "2cXAcBC/mVyuQIJvA8P8BoaveFWG3wHJsz9gYEvgSGDg2g0E+3CYyQxSyfaVgf0fc0EUXtvBKtkd\n",
       "GNh/8RpMJawSCFg+cF1aAAuF85PxqFxvQCC04SrdGYhUybuBWJXqDESqZJzA8I44lSsZGEyJUsnn\n",
       "e/euAyGVnP9Agfn///8DBBSyl/0pYhgFWMAVFxBwJ0vvf0zwAU0JP1h0gN2JBOAFHkEQT4wicOEk\n",
       "g0uW7+5pWC4HF05IBR4aeM3A+QOWVEGFE1KBhwbqGBjSoExw4YRU4KGB/ACGeqhvwYUTsMDDAUoY\n",
       "GOoXwHksH5AKPEzgj2CuN0Aq8DAL5c8ItjsDosDDBCwFcCaBwuk2gom/cGJCGEmgcJJk4IOlCfyF\n",
       "E9cEBuYAaGziL5ye3L17BeY1/IWT////fxgAxMaCr2vp1toAAAAASUVORK5CYII=\n",
       "\" style=\"display:inline;vertical-align:middle;\" /></a></span><br>"
      ],
      "text/plain": [
       "exp_frac_is_one_half: |- (2^{t - 1} / 2^{t}) = (1 / 2)"
      ]
     },
     "execution_count": 36,
     "metadata": {},
     "output_type": "execute_result"
    }
   ],
   "source": [
    "exp_frac_is_one_half = two_pow_t_factored.sub_left_side_into(\n",
    "        exp_frac_judgment.inner_expr().rhs.denominator)"
   ]
  },
  {
   "cell_type": "code",
   "execution_count": 37,
   "metadata": {},
   "outputs": [
    {
     "data": {
      "text/html": [
       "<strong id=\"neg_exp_frac_is_neg_one_half\">neg_exp_frac_is_neg_one_half:</strong> <span style=\"font-size:20px;\"> <a class=\"ProveItLink\" href=\"../../../__pv_it/_proof__delta_diff_in_interval/c2ce03b2349ad613286c175c9e8d03172086ac710/proof.ipynb\" style=\"text-decoration: none\">&nbsp;&#x22A2;&nbsp;&nbsp;</a><a class=\"ProveItLink\" href=\"../../../__pv_it/_proof__delta_diff_in_interval/548d6903b004a43e366816cca58cdabb0bd4c18b0/expr.ipynb\"><img src=\"data:image/png;base64,iVBORw0KGgoAAAANSUhEUgAAAKwAAAA0BAMAAADlKs7FAAAAMFBMVEX///+6urqqqqpmZmbu7u6I\n",
       "iIgiIiIQEBDc3NwyMjJ2dnaYmJhUVFTMzMxEREQAAAC0ii6rAAAAAXRSTlMAQObYZgAAAAlwSFlz\n",
       "AAAOxAAADsQBlSsOGwAAA0dJREFUWMOtmE9oE0EUxl/TZJO0m7Y3j+1VLy0ELSLoXkWkOehN2oJQ\n",
       "ERR7EGxLoAuCiAct1YOIaA4iCEp6K0KlBaEKFbIgCHowPYgnlbSNUKu2bmb/OH++2d2gc0izM7/v\n",
       "Y2Z23puXEqF2N/hyYo7+X0s3/C+F0+P/YNPjiM+pcI6plm36U3IpD6+JI7nH9xzelt5ZWts1pSeE\n",
       "zQpnWXzgUH5AmK3/iRov9R1D+Dk3cpO6NqjXEm3pqc6Wl6ZfPrQ4ODfFjb0mukL7iD5+c5sd2BoL\n",
       "2FWQEo1ZHGyUuJFZi2r2mbS4t5S6jG0FaWDrw4v8yCpRzTnYZYm2dBvbLhKw9eEZib1Eb18Ei3yy\n",
       "482n34a2M9CWwZmmOFb4DvT5FeQqS31bBhuSwkAOqSbc2hVoy+C6FCdHYTijJShS35bBr8Shbrhc\n",
       "+ow6JWlgy+CyOHSAcuj1LKPOssbWhQs/xRdWoQzKACMgICTpX1sXzmwLI9eKxUNovVmwN5KUqGqH\n",
       "cM+keGj39n7ABAiyjSSlN7P3FwI4u54oJXc1wArW9fDIUCLb7g2w30N6uF5KZItiTyt14cGBZNfb\n",
       "ltqnlbrwspPsvvsFzrKjh8fsZLa7apdeuktVK5ntNPvsnGDNO8R66TQdS2g7oXbppRNUY3+Ps0lc\n",
       "pN49tXnkOVUsSonBDR+uJSxRtLYYbm8ThL2N2oSq3c4rg5kFwWPaw5e3o3Jr64BppeWIMz0iPG21\n",
       "Ew5bNNgHuq8e/kq0X4jHHRC8fUDlw3WQ9nPrVO27cf5ZXKpZUFUB3Auym2lTdpLmhRt9U8Ukqafy\n",
       "YQOU8dkmmdvUjLxgWmXCHFD5sDkJZjtO5u8OYcAEt4MkZaoA7m7iWrCRWTkZc8GoUqMRwIVNaFsv\n",
       "dZYecc+3wE2gSv37ogWXoe0FKhxx2i0/XFUIDyPXTnnNq4ga1qhacD+KhyW5A5Z2snSJgw1wcFMV\n",
       "uh7zdkiVBioGI8UHolPxRa8sDVQePKMG79liUSyOkhT5ocqDl5VsbLi3hxhBX3CmEqShyoPzldgc\n",
       "3tHUpOSKHi5MxdoamvoFSgN4NNZW++N0NAI243ahYy7ZT2kJno+xfa+/necj4J7o8i59p51/UzD4\n",
       "D/k3Ho4zMPljAAAAAElFTkSuQmCC\n",
       "\" style=\"display:inline;vertical-align:middle;\" /></a></span><br>"
      ],
      "text/plain": [
       "neg_exp_frac_is_neg_one_half: |- (-(2^{t - 1} / 2^{t})) = (-(1 / 2))"
      ]
     },
     "execution_count": 37,
     "metadata": {},
     "output_type": "execute_result"
    }
   ],
   "source": [
    "neg_exp_frac_is_neg_one_half = exp_frac_is_one_half.left_mult_both_sides(Neg(one))"
   ]
  },
  {
   "cell_type": "markdown",
   "metadata": {},
   "source": [
    "We also need to establish that $-\\frac{2^{t-1}}{2^t} = \\frac{-2^{t-1}}{2^t}$."
   ]
  },
  {
   "cell_type": "code",
   "execution_count": 38,
   "metadata": {},
   "outputs": [
    {
     "data": {
      "text/html": [
       "<strong id=\"neg_is_mult_by_neg_one\">neg_is_mult_by_neg_one:</strong> <span style=\"font-size:20px;\"> <a class=\"ProveItLink\" href=\"../../../__pv_it/_proof__delta_diff_in_interval/c0d4d5fc44c0be57aefdd9a5ce47f64ebe01de560/proof.ipynb\" style=\"text-decoration: none\">&nbsp;&#x22A2;&nbsp;&nbsp;</a><a class=\"ProveItLink\" href=\"../../../__pv_it/_proof__delta_diff_in_interval/1b2ac32f3e0622d0e046937f2d51b8a9f162696c0/expr.ipynb\"><img src=\"data:image/png;base64,iVBORw0KGgoAAAANSUhEUgAAANQAAAAaBAMAAAA9Em/vAAAAMFBMVEX///9UVFQiIiKIiIjMzMx2\n",
       "dnYQEBDc3NxEREQyMjLu7u5mZmaqqqq6urqYmJgAAAB66f/FAAAAAXRSTlMAQObYZgAAAAlwSFlz\n",
       "AAAOxAAADsQBlSsOGwAAAtJJREFUSMelVk1oE0EU/vLTLNlN0uhFRaGpCKJVmkbowYOGiiB4aPy5\n",
       "6KV78iCULoViwEMLCslJrCB6ELsHD3oxtSKoASmFCt5y6tWIIvZQKFgpDYQ4s02yM/OmXX8e7DLz\n",
       "mO998+Z98wMQe9RpvLyP/7C4026Yq13fmjzEXG83oqcygKUNs/YHVJVO41yO/eZ5KzEvD0l0c0kw\n",
       "KmNGE0WFaO1Tt7XEviJvvJBHGJcf5gUqfNVE8SCODFPHTB27KlKlsux3T13jRTErhF1KxSGRRcmV\n",
       "zKqDnkhZ4Tibji1Mrfo4j15XooqkCZMHWRYcIwxyRujffncXaMhUQ6zuBX9IET1NrAAXysycbSqz\n",
       "Qag4xPTVaR6cY1RxP3tW37Fa0kaUhym1qSouemt+jH3ADQyZUq3wlFBxiFUXHGcZTcqXSshBzI6k\n",
       "n0lZxesYFWox4aLPed3jSlRvCRWHxKBQ4Wa3G2sgtGllr0tU1gxyAmQv0Je/+K2zDtd+8VoPE6qc\n",
       "JOUOlZ99KIPQRvRDZ3Gm5q7wmts4IIcZJIE/EwlyyBtCdUn0hNdVULKBsuSI/qTL5c1u4TC3fs9T\n",
       "VivoUa1KIKL96AZmJUeYSnu6pno45ASh+ih6+ukOaWKA735vyke0GkCFUHHIOBP5Aw+Wb1ONesLf\n",
       "QlsDqplNOasUTQrTeV1W4ySrle40gC80jKEs4DIMh9TKUWulX8Al4Tgu4Bap1Sb2i90CIm6wAjnk\n",
       "DqH64ffPA6c1ChS3zWS1ukAy/048w6q0xxxJ/sZAtZpRQSlbmvRgq7VFAr/S7rQRob9nYpYdUyd9\n",
       "GbdaLXKBW2nEagFXHD0DOSSsisXIBNz/delk19kOJ3tKvYil81d3/7uI2rsP0ejfg5QUZzFgcbj+\n",
       "D+0+JOxQH4c8V3ylAKqj9G2h2k5vC0M+5SJOwOJkt/fbLqZ/MRX++lVYDH7UWe6/vgNlew/8BiVu\n",
       "q3cw83EsAAAAAElFTkSuQmCC\n",
       "\" style=\"display:inline;vertical-align:middle;\" /></a></span><br>"
      ],
      "text/plain": [
       "neg_is_mult_by_neg_one: |- (-2^{t - 1}) = ((-1) * 2^{t - 1})"
      ]
     },
     "execution_count": 38,
     "metadata": {},
     "output_type": "execute_result"
    }
   ],
   "source": [
    "neg_is_mult_by_neg_one = Equals(Neg(_two_pow__t_minus_one),\n",
    "                                Mult(Neg(one), _two_pow__t_minus_one)).prove()"
   ]
  },
  {
   "cell_type": "code",
   "execution_count": 39,
   "metadata": {},
   "outputs": [
    {
     "data": {
      "text/html": [
       "<strong id=\"neg_numer_is_mult_by_neg_one\">neg_numer_is_mult_by_neg_one:</strong> <span style=\"font-size:20px;\"> <a class=\"ProveItLink\" href=\"../../../__pv_it/_proof__delta_diff_in_interval/edf0d12e944de9dc863e4c1dddd5ac6f617af0ab0/proof.ipynb\" style=\"text-decoration: none\">&nbsp;&#x22A2;&nbsp;&nbsp;</a><a class=\"ProveItLink\" href=\"../../../__pv_it/_proof__delta_diff_in_interval/7664824e1c9058b419bdcc8d265cb6f9f441202f0/expr.ipynb\"><img src=\"data:image/png;base64,iVBORw0KGgoAAAANSUhEUgAAANYAAAA0BAMAAAAEQduUAAAAMFBMVEX///+6urqqqqpmZmbu7u6I\n",
       "iIgiIiIQEBDc3NwyMjJ2dnaYmJhUVFTMzMxEREQAAAC0ii6rAAAAAXRSTlMAQObYZgAAAAlwSFlz\n",
       "AAAOxAAADsQBlSsOGwAAA0RJREFUWMOtWD1oU1EUvvl7L03fi1mck0noZKGDlA5mFZQGEXGygUqK\n",
       "0MIbHGpxeCBK6WLQ7mbQrZJABxEKZrKDg1kUdGkGEQeV2KaQ+hffe8lr78+595407yx99+Se77t/\n",
       "56+EQDLhDj+Sr8g4gsGZDz/eXx+LC8DJtrg5U8df5/xFfZZhpdmhS5Q4gbzlpmzcfsHM+VCUcF1l\n",
       "h2c1OJ5YNer3+7PfCXnMridehqnilKF9i5BUQ43jCX1v6Tap50iXm7MFc106+bw869tsanBIepUy\n",
       "t1xiOjGH2D88+RrOMRog1xz1nfJxtzU4xChRJmaXWL1U8wq7nvgdkMvhucyiGoe8pM2tMrH+JkrP\n",
       "uDlPwOuq8lwTDQ3OGgdhdOy50Ak2nj4P/uZdgCtR47kyTTVOqstB7JWAANCEokKD55qsqnEMHmYZ\n",
       "Oq4uoDQKPFfcUePscUEj0QZgk4eA0sx5z77iy8qQy+74c4+kOLvceAd8cl8kXOy+YsG+FqU494RY\n",
       "sA7Meu2izrCsxLF/s+NPhFyDIjbgzdmS8DbaSpxUj43cizMzUPQzgYfIvPBMj/ECECfrsOfS7/er\n",
       "AFcWWIBN6azdIy9bGDkljtlGZb1MB1Cu8IqHmtQ5jeKa/Akot1XBGBAoSgBiQw6W5R5nWnNG5wso\n",
       "ruQBpGyruQXHaeHKlD+Q8gE7vKHBWHBxXP/I+FIv4ubdHQS5IPxVmqfjuojkqkSwr3eDKiUM131R\n",
       "Bp61JFie6Y8oQy69LEWwr9HOcLz7qrujvI3xZKGlbTKgNIdrT9C+PM+MDk7TnvAxKgcog2J8iglH\n",
       "v3A0oiUde4GEGxTjVJMhi70oS9pLgJwSFONUk+GXD/soLsCSTsRAFg6KcdJVlAoyASzplTiAzi/G\n",
       "Y8wPVge3L9GSTrjwIowO1WTgSwXAkr70fUm6ppoMTx6VsFy8pd5Jl8lJkyGrRQnKkpYLkFIoxt9g\n",
       "qRKqw85DziwU44dYrh3lXU6DDf465gUhLLUwQjFuYLOIpB0IZU2MNEIxnkc+DVk7cPzEhGwpFuPf\n",
       "sM4laQeOs01NCxHDXpe2fF7VL7cQERe5qZ2xFRUV+78v8AirkXFJ800oH4vRcWXV/UNyMxqa/6Y9\n",
       "P2XiWmb+AAAAAElFTkSuQmCC\n",
       "\" style=\"display:inline;vertical-align:middle;\" /></a></span><br>"
      ],
      "text/plain": [
       "neg_numer_is_mult_by_neg_one: |- (-(2^{t - 1} / 2^{t})) = (((-1) * 2^{t - 1}) / 2^{t})"
      ]
     },
     "execution_count": 39,
     "metadata": {},
     "output_type": "execute_result"
    }
   ],
   "source": [
    "neg_numer_is_mult_by_neg_one = neg_is_mult_by_neg_one.substitution(\n",
    "        frac(Neg(_two_pow__t_minus_one), _two_pow_t))"
   ]
  },
  {
   "cell_type": "code",
   "execution_count": 40,
   "metadata": {},
   "outputs": [
    {
     "data": {
      "text/html": [
       "<strong id=\"neg_numer_is_neg_frac\">neg_numer_is_neg_frac:</strong> <a class=\"ProveItLink\" href=\"../../../__pv_it/_proof__delta_diff_in_interval/168a3d41565f49ffea6b4ccc28be57eae6a04df60/expr.ipynb\"><img src=\"data:image/png;base64,iVBORw0KGgoAAAANSUhEUgAAAPIAAAA0BAMAAABC93g+AAAAMFBMVEX///+6urqqqqpmZmbu7u6I\n",
       "iIgiIiIQEBDc3NwyMjJ2dnaYmJhUVFTMzMxEREQAAAC0ii6rAAAAAXRSTlMAQObYZgAAAAlwSFlz\n",
       "AAAOxAAADsQBlSsOGwAAA8NJREFUWMOtmE1oE0EUx1++Nl+7aS7isb3qpYWgpRQ0V1FpEAUP0hYq\n",
       "FcFiDoK1FFwQi3hQqR7Eg+QggqC04KEUlPRkhR6yIAh6MDmIJ5V+RGjrR00zWbNv5s3ua+0cQjN9\n",
       "/99/ZzLz5s0CUO2h+8fxe7AXjc2LLrf+sM4M74Wxnpdx8PfwvycLb0dGP+uhspRset4SDkw8feR4\n",
       "I+F9XgtdYhjreWbJE5V77ECyCz1j65NqXint6sub90TegdQKdORxJDzXgeeDxuvLS4x7It8CXIX9\n",
       "AJ++N5rtRhqzmhGNBzn78oyCJ/J6Hir2uSj+XSB8heYiKdl8eXPeyDcAFedQKo8j4T7NnQtcXb68\n",
       "CSn4Mrx77c7ms00xqk6b5E5wdrOWF6vjQOsHoU4uUExZSjY9z5CgBmUSJj3IUFZQk1eVstARMv9R\n",
       "D65IyabnLeK+ND2OL1TnIsPYhzeJuw5CglpNZapzkuGs51k/8XooQYzK0gNELpGk9PrS82LrqGcq\n",
       "lztMEeLEpLnSBO62mbxMEW++ra0N8jQkDg1Xegp372Py4jXW4Z5aJp5bSMOe88o635iKWR5voIfl\n",
       "nF4hfishPdbuOdG3vU8f8HjVAsuZykQtab+c1V7yeN1dvFJqTe1rSYuyczzP4pUdljP8Ivakg4ss\n",
       "1zk5y+IN2TznP2qXkEZKsnNqgcWbyfOcrzU/I6PNJtBCikbYdE7fY/GOMp1H1S4hNbpk53CRxauI\n",
       "ndEcyhh0bKlNRF5QxUIaz7blwtna3vvRZgLx41WY9wRfZzzmUHPMI0G8nc02+p21sz3M4s3YO1lh\n",
       "qAlppqCssBqLN6Tdz0k74CwWUrSHUuvyPtPz9JlkAH1b02USyzO35uJG46JlZFm8birsRt83gAMo\n",
       "220S2VNIx+T+KR6vSqS6RA1msrcvvgg6MYRUOSD6ebwO4pQ0bYgXYRqVqatqWEuasRUfFs8gUl28\n",
       "DuY61KnKB1XSQhqVnDI2j2cSqc4cBvN3CP3DJGoSV3oTd59l8tL0DcVYji2cVCsfXFfUgd0InrVK\n",
       "RlYLkcITz/e7ROmikbJ5dLl+Cax+Zy8qfR9eLxUYqan3YLX1so1JXieVSl7JHeSNrjPLdSZ5BrGh\n",
       "GyX0LcZiMnqYxjSPgn4EOM24KbMXt4anvnJIjORy+Iz9n7cVel5ZqQ2MRs2CU9tXGlnmlRU6XrIU\n",
       "KA1pppUh9eNZ48EPrbmIMKS+vMHASO3bx8HdObu8wNemIW3pbu5qutu86YDID/qFNL0b5zYv4PV4\n",
       "1OdCnHF2bix4fwG4MnFcWJP6HwAAAABJRU5ErkJggg==\n",
       "\" style=\"display:inline;vertical-align:middle;\" /></a><br>"
      ],
      "text/plain": [
       "neg_numer_is_neg_frac: (-(2^{t - 1} / 2^{t})) = ((-1) * (2^{t - 1} / 2^{t}))"
      ]
     },
     "execution_count": 40,
     "metadata": {},
     "output_type": "execute_result"
    }
   ],
   "source": [
    "neg_numer_is_neg_frac = (\n",
    "    neg_numer_is_mult_by_neg_one.inner_expr().rhs.\n",
    "    factorized(Neg(one), auto_simplify=False))"
   ]
  },
  {
   "cell_type": "code",
   "execution_count": 41,
   "metadata": {},
   "outputs": [
    {
     "data": {
      "text/html": [
       "<strong id=\"neg_numer_version_is_neg_one_half\">neg_numer_version_is_neg_one_half:</strong> <span style=\"font-size:20px;\"> <a class=\"ProveItLink\" href=\"../../../__pv_it/_proof__delta_diff_in_interval/c2ce03b2349ad613286c175c9e8d03172086ac710/proof.ipynb\" style=\"text-decoration: none\">&nbsp;&#x22A2;&nbsp;&nbsp;</a><a class=\"ProveItLink\" href=\"../../../__pv_it/_proof__delta_diff_in_interval/548d6903b004a43e366816cca58cdabb0bd4c18b0/expr.ipynb\"><img src=\"data:image/png;base64,iVBORw0KGgoAAAANSUhEUgAAAKwAAAA0BAMAAADlKs7FAAAAMFBMVEX///+6urqqqqpmZmbu7u6I\n",
       "iIgiIiIQEBDc3NwyMjJ2dnaYmJhUVFTMzMxEREQAAAC0ii6rAAAAAXRSTlMAQObYZgAAAAlwSFlz\n",
       "AAAOxAAADsQBlSsOGwAAA0dJREFUWMOtmE9oE0EUxl/TZJO0m7Y3j+1VLy0ELSLoXkWkOehN2oJQ\n",
       "ERR7EGxLoAuCiAct1YOIaA4iCEp6K0KlBaEKFbIgCHowPYgnlbSNUKu2bmb/OH++2d2gc0izM7/v\n",
       "Y2Z23puXEqF2N/hyYo7+X0s3/C+F0+P/YNPjiM+pcI6plm36U3IpD6+JI7nH9xzelt5ZWts1pSeE\n",
       "zQpnWXzgUH5AmK3/iRov9R1D+Dk3cpO6NqjXEm3pqc6Wl6ZfPrQ4ODfFjb0mukL7iD5+c5sd2BoL\n",
       "2FWQEo1ZHGyUuJFZi2r2mbS4t5S6jG0FaWDrw4v8yCpRzTnYZYm2dBvbLhKw9eEZib1Eb18Ei3yy\n",
       "482n34a2M9CWwZmmOFb4DvT5FeQqS31bBhuSwkAOqSbc2hVoy+C6FCdHYTijJShS35bBr8Shbrhc\n",
       "+ow6JWlgy+CyOHSAcuj1LKPOssbWhQs/xRdWoQzKACMgICTpX1sXzmwLI9eKxUNovVmwN5KUqGqH\n",
       "cM+keGj39n7ABAiyjSSlN7P3FwI4u54oJXc1wArW9fDIUCLb7g2w30N6uF5KZItiTyt14cGBZNfb\n",
       "ltqnlbrwspPsvvsFzrKjh8fsZLa7apdeuktVK5ntNPvsnGDNO8R66TQdS2g7oXbppRNUY3+Ps0lc\n",
       "pN49tXnkOVUsSonBDR+uJSxRtLYYbm8ThL2N2oSq3c4rg5kFwWPaw5e3o3Jr64BppeWIMz0iPG21\n",
       "Ew5bNNgHuq8e/kq0X4jHHRC8fUDlw3WQ9nPrVO27cf5ZXKpZUFUB3Auym2lTdpLmhRt9U8Ukqafy\n",
       "YQOU8dkmmdvUjLxgWmXCHFD5sDkJZjtO5u8OYcAEt4MkZaoA7m7iWrCRWTkZc8GoUqMRwIVNaFsv\n",
       "dZYecc+3wE2gSv37ogWXoe0FKhxx2i0/XFUIDyPXTnnNq4ga1qhacD+KhyW5A5Z2snSJgw1wcFMV\n",
       "uh7zdkiVBioGI8UHolPxRa8sDVQePKMG79liUSyOkhT5ocqDl5VsbLi3hxhBX3CmEqShyoPzldgc\n",
       "3tHUpOSKHi5MxdoamvoFSgN4NNZW++N0NAI243ahYy7ZT2kJno+xfa+/necj4J7o8i59p51/UzD4\n",
       "D/k3Ho4zMPljAAAAAElFTkSuQmCC\n",
       "\" style=\"display:inline;vertical-align:middle;\" /></a></span><br>"
      ],
      "text/plain": [
       "neg_numer_version_is_neg_one_half: |- (-(2^{t - 1} / 2^{t})) = (-(1 / 2))"
      ]
     },
     "execution_count": 41,
     "metadata": {},
     "output_type": "execute_result"
    }
   ],
   "source": [
    "neg_numer_version_is_neg_one_half = Equals(neg_numer_is_neg_frac.lhs,\n",
    "       neg_exp_frac_is_neg_one_half.rhs).conclude_via_transitivity()"
   ]
  },
  {
   "cell_type": "code",
   "execution_count": 42,
   "metadata": {},
   "outputs": [
    {
     "data": {
      "text/html": [
       "<strong id=\"lower_bound_neg_one_half\">lower_bound_neg_one_half:</strong> <span style=\"font-size:20px;\"><a class=\"ProveItLink\" href=\"../../../__pv_it/theorems/8bc9b38cf75c7371ab646fd064ad09fc02345f250/expr.ipynb\"><img src=\"data:image/png;base64,iVBORw0KGgoAAAANSUhEUgAAANYAAAAYBAMAAAB0Lx7ZAAAAMFBMVEX///+qqqq6urru7u4QEBBE\n",
       "RERUVFTc3NyIiIgyMjJmZmaYmJjMzMwiIiJ2dnYAAACPW0xlAAAAAXRSTlMAQObYZgAAAAlwSFlz\n",
       "AAAOxAAADsQBlSsOGwAAAeBJREFUSMdjYCAMOAugDOadDMQD8nTZwxgnemmuSxLOkqW6LiMFFG7d\n",
       "zTdk2IWmq7AAqyqOSQaoAhPJ8heqLp5UkKFv/6ApkkeyqmplDAPDZzx28VzGYg02XawJQIL7A5rK\n",
       "twgmewDDewUmBwaeUCAIx2KX2crPmFZh1cV3AUhwTcBtF1sBA4sDR4INhr+YNsACHItdWHWB7eJt\n",
       "gIi03r07Ad0uls8MbN+5Gh5j2MXYgMcurLrAdtUfAAtoNmPz1wUGtj88qw/A0tb8F8TYhVUX2K79\n",
       "kDCejC0MQd7+gC2R4bULqy6wXamoJQoDw0oUNecbyLELUxeHA5DwgNiFSEXeKGquMZBjF6Yu9o/A\n",
       "DPIdzDxyFwgCQGKZwFKDeS6IexcY4lwBmAZx3b17xffu3QTcdmHTZTYR4jcGBlO42KlgZBXbGMjx\n",
       "FzZdLxWA+RlcTPAiBMOQzXzAUE66Xdh0MQIV8m94ANbTgDUdnmNgaCbdLmy6+IDhx6/cgFZUIpdR\n",
       "t1atuoDXLj5IdDP/hBG4dIHSPPc6aNQFGWDaxfv///8J+OxiS/mZDWbcghM4dPEh264Xi1lG4QSM\n",
       "DQwkAj6s4UOMXfCyl0K7WhhoAbiwxkW9AC3sMsEaEuzLaGBZXSIDAwB4aaUFdo5x/QAAAABJRU5E\n",
       "rkJggg==\n",
       "\" style=\"display:inline;vertical-align:middle;\" /></a> <a class=\"ProveItLink\" href=\"../../../__pv_it/_proof__delta_diff_in_interval/588cc782e607e2ae3daaf6e4d8f6be4b696e708c0/proof.ipynb\" style=\"text-decoration: none\">&nbsp;&#x22A2;&nbsp;&nbsp;</a><a class=\"ProveItLink\" href=\"../../../__pv_it/_proof__delta_diff_in_interval/5b2b0bb0fddff83dc326a54e1bfe8fcd336219070/expr.ipynb\"><img src=\"data:image/png;base64,iVBORw0KGgoAAAANSUhEUgAAALMAAAAzBAMAAAAuiiQYAAAAMFBMVEX////MzMxUVFRERES6uroi\n",
       "IiIQEBCYmJhmZmYyMjLu7u52dnaqqqqIiIjc3NwAAACW8nlqAAAAAXRSTlMAQObYZgAAAAlwSFlz\n",
       "AAAOxAAADsQBlSsOGwAAA4ZJREFUWMOtWE1oE0EUfmmTbLObv4viLQGxgkIbBT0I/uCh4EGsBfGH\n",
       "SoMVr+qh0FsKRWwVpSgitCCLxUMP0iD0IoihoFB6aBH0pgakXm0gkDbU1JnZ3ezM7Jt1G/bBTibz\n",
       "5n15837mvSyAS68gdKpaH/omuvx/OiYvzJv2JFWxPpMzLjM9PVq9GBC56568ErlhT1YJ0tTzbHpp\n",
       "LttmGnDeTMkixkgWgz7qRf1k24Eo+wuMOiQqnCb0SLMySAlD1rjDwuvpJlMiz771EOX6AO5AxnS3\n",
       "pChvXEaZxqB/Cz5JMWi4ysY4ee6a0F8d4HboO5RjSig3MWhx0Yb+zERXyHMIoD/7RedMeZbwEpKx\n",
       "0zXMHkUMOjFBx8fW2gg8MVwtl9cKbYu5KJsIdLyMQUdbdHxpefYvHLjPuaarKTmI+raAQP80MWh4\n",
       "RodhNo0JGv6pJsnhk0VJwXUEeghQ6DX6i7fZdNLhLVJVD0KEQEeoAfQXVyhRN+SQ/IzUcOjFdQda\n",
       "aysdow5oMNiopPU3LBWLOHT3oGOQVUhzKuk1ZufkoCh2XEe8mMehNerH0/RYZUjx7qix1NQktzUM\n",
       "L3TuHg6tN8jwjjwbU1MP+A0fYJnmqRhXUH+LBIhkf6NlT26RZx8N6t3dbWHDd4oaOyeKjZe90Ccl\n",
       "0/duH7ZmJyhAVnVbbgS4UUdVjI/U4BMq7kN8eYEzr76lEi7RI59RMNMFfF1fclOHJLGCcnTTvILZ\n",
       "raxgX987s+SOas8iNUZ6HWf+UFt4zMHWaqotmXyHlXrlqR3GLSV0odMu4MIRK0qbqg3xmY6hT1nV\n",
       "TwkdG+zUIH12iljVYYHdjpcF6CLs7oWcMjP2CATotoHZLge6E3KDL2SD8CljtEJ1I5/oKWVcx33i\n",
       "OlDf6pMyE+pjbwaBTtaViV5G7yXSXAp9q5oiDUTUvZ48RJtLoW8V6Q0fxFteUbtbqGCyrLlMVAL5\n",
       "9DoiilY2i1hzmTEDQfciomzWj25nzeVAsEgsmV5R/8o2AkLfqqZcxSvK/KkqP6Qu8X2rD3kywy5p\n",
       "mipNSXPJ9a1+1FP0irJ7S3WFTAbO+mgdF80oqqK2h7p2DRctKcwpNpd7ChFHdEjhRKm59PdjGRON\n",
       "KrwoN5f+d18TE+1WmFRuLv1pDhO9ZEIItB9zy3Ao7yVSSC9j5EOBFv/+211KSK9TvNdvZDasVzWe\n",
       "Vy0LzIn/ACBBGq7WK0KjAAAAAElFTkSuQmCC\n",
       "\" style=\"display:inline;vertical-align:middle;\" /></a></span><br>"
      ],
      "text/plain": [
       "lower_bound_neg_one_half: {l in {-2^{t - 1} + 1 .. 2^{t - 1}}} |- (((2^{t} * delta) - l) / 2^{t}) >= (-(1 / 2))"
      ]
     },
     "execution_count": 42,
     "metadata": {},
     "output_type": "execute_result"
    }
   ],
   "source": [
    "# apply the reductions we've derived above to get our ±1/2 bounds\n",
    "lower_bound_neg_one_half = neg_numer_version_is_neg_one_half.sub_right_side_into(\n",
    "        lower_bound_judgment)"
   ]
  },
  {
   "cell_type": "code",
   "execution_count": 43,
   "metadata": {},
   "outputs": [
    {
     "data": {
      "text/html": [
       "<strong id=\"upper_bound_one_half\">upper_bound_one_half:</strong> <span style=\"font-size:20px;\"><a class=\"ProveItLink\" href=\"../../../__pv_it/theorems/8bc9b38cf75c7371ab646fd064ad09fc02345f250/expr.ipynb\"><img src=\"data:image/png;base64,iVBORw0KGgoAAAANSUhEUgAAANYAAAAYBAMAAAB0Lx7ZAAAAMFBMVEX///+qqqq6urru7u4QEBBE\n",
       "RERUVFTc3NyIiIgyMjJmZmaYmJjMzMwiIiJ2dnYAAACPW0xlAAAAAXRSTlMAQObYZgAAAAlwSFlz\n",
       "AAAOxAAADsQBlSsOGwAAAeBJREFUSMdjYCAMOAugDOadDMQD8nTZwxgnemmuSxLOkqW6LiMFFG7d\n",
       "zTdk2IWmq7AAqyqOSQaoAhPJ8heqLp5UkKFv/6ApkkeyqmplDAPDZzx28VzGYg02XawJQIL7A5rK\n",
       "twgmewDDewUmBwaeUCAIx2KX2crPmFZh1cV3AUhwTcBtF1sBA4sDR4INhr+YNsACHItdWHWB7eJt\n",
       "gIi03r07Ad0uls8MbN+5Gh5j2MXYgMcurLrAdtUfAAtoNmPz1wUGtj88qw/A0tb8F8TYhVUX2K79\n",
       "kDCejC0MQd7+gC2R4bULqy6wXamoJQoDw0oUNecbyLELUxeHA5DwgNiFSEXeKGquMZBjF6Yu9o/A\n",
       "DPIdzDxyFwgCQGKZwFKDeS6IexcY4lwBmAZx3b17xffu3QTcdmHTZTYR4jcGBlO42KlgZBXbGMjx\n",
       "FzZdLxWA+RlcTPAiBMOQzXzAUE66Xdh0MQIV8m94ANbTgDUdnmNgaCbdLmy6+IDhx6/cgFZUIpdR\n",
       "t1atuoDXLj5IdDP/hBG4dIHSPPc6aNQFGWDaxfv///8J+OxiS/mZDWbcghM4dPEh264Xi1lG4QSM\n",
       "DQwkAj6s4UOMXfCyl0K7WhhoAbiwxkW9AC3sMsEaEuzLaGBZXSIDAwB4aaUFdo5x/QAAAABJRU5E\n",
       "rkJggg==\n",
       "\" style=\"display:inline;vertical-align:middle;\" /></a> <a class=\"ProveItLink\" href=\"../../../__pv_it/_proof__delta_diff_in_interval/c0fb637483e8caa4a2a23ab5604c3680f06a39280/proof.ipynb\" style=\"text-decoration: none\">&nbsp;&#x22A2;&nbsp;&nbsp;</a><a class=\"ProveItLink\" href=\"../../../__pv_it/_proof__delta_diff_in_interval/f94c8d44a7fbe6612d7efeca2a2767a42cd7b3d30/expr.ipynb\"><img src=\"data:image/png;base64,iVBORw0KGgoAAAANSUhEUgAAAIYAAAAuBAMAAAAfGHwhAAAAMFBMVEX////MzMxUVFRERES6uroi\n",
       "IiIQEBCYmJhmZmYyMjLu7u52dnaqqqqIiIjc3NwAAACW8nlqAAAAAXRSTlMAQObYZgAAAAlwSFlz\n",
       "AAAOxAAADsQBlSsOGwAAAnFJREFUSMdjYIADzgcM5AOo3vXYhYkCvAcg9EkkMb7O5Ae+JJhxmoHh\n",
       "Rachw+vIjQgxbganBbwFaAq3fsTUzBgFIrkmMPAZMOx3YJiDJMW0AEjMQlPP/gHDiEWdv0AURwED\n",
       "0wMGtgSGX8j+UwASFWgaOCZgCQiwLjYg+sXA9I8lAUmK6w9IZgGqetYLuMwABiVTAAPTR16FhUhy\n",
       "9kD9nGgB8l4AlxndEDs+cFzYhZA6dN4AGLAKqOrrGXCZMR3Mlr/A2I6whn0C0y8QiapeGacZMWB2\n",
       "EKqrH/AA45EnAVV9Lk4zUsBBbgALzJ8QGxmBZjCC4nJlKAgEgpLCP/xmFMEFI0DEd7B+FlR38Cbg\n",
       "9QvPBoZ3yDH7ERwWPAEoypkVFuAywxaIpRkYbiHLfGTgBGYidgMU5fwFG3CZsQmYwyI6OlDs3Mtw\n",
       "CBRIqHr4vbCkMW5wIIkCE8f///9R4pH7Lkg7qwNqdunGNIJJ7ac6SKUArgz9lOisz96AS6ad+PLD\n",
       "Doc4nwHxZizGIc6MrzDkmYdq3wXsyu7hC4CIBQwUAt5oio1YHUupCQwvwik2gmkOush/UsAHNDP4\n",
       "waID5BeqhCkDw9pYouIWfyuAnagEsp5ATp1HIMyANThKKwA34OuYLIAjv+53QGkF4AaPGbi/YE1D\n",
       "4Bp8DlHu0GNgSMMmDq7BUVoBuEH+AgZ9bIEPrsFZEogyQ5WBQR9HWcr6AbUVgA/E4xCXv4DSCsAH\n",
       "GP/ikAhiQG4F4AWsCtjFOUgojZtxiBcRbwQ7Dmeg1eAEGqZ8WDMWeg2OL0Q3MPBiy30YNTge8LSj\n",
       "oxVrSKPX4PgSx///PxkAfDDP6NpgimwAAAAASUVORK5CYII=\n",
       "\" style=\"display:inline;vertical-align:middle;\" /></a></span><br>"
      ],
      "text/plain": [
       "upper_bound_one_half: {l in {-2^{t - 1} + 1 .. 2^{t - 1}}} |- (((2^{t} * delta) - l) / 2^{t}) < (1 / 2)"
      ]
     },
     "execution_count": 43,
     "metadata": {},
     "output_type": "execute_result"
    }
   ],
   "source": [
    "upper_bound_one_half = exp_frac_is_one_half.sub_right_side_into(\n",
    "        upper_bound_judgment)"
   ]
  },
  {
   "cell_type": "code",
   "execution_count": 44,
   "metadata": {},
   "outputs": [
    {
     "data": {
      "text/html": [
       "<span style=\"font-size:20px;\"><a class=\"ProveItLink\" href=\"../../../__pv_it/theorems/8bc9b38cf75c7371ab646fd064ad09fc02345f250/expr.ipynb\"><img src=\"data:image/png;base64,iVBORw0KGgoAAAANSUhEUgAAANYAAAAYBAMAAAB0Lx7ZAAAAMFBMVEX///+qqqq6urru7u4QEBBE\n",
       "RERUVFTc3NyIiIgyMjJmZmaYmJjMzMwiIiJ2dnYAAACPW0xlAAAAAXRSTlMAQObYZgAAAAlwSFlz\n",
       "AAAOxAAADsQBlSsOGwAAAeBJREFUSMdjYCAMOAugDOadDMQD8nTZwxgnemmuSxLOkqW6LiMFFG7d\n",
       "zTdk2IWmq7AAqyqOSQaoAhPJ8heqLp5UkKFv/6ApkkeyqmplDAPDZzx28VzGYg02XawJQIL7A5rK\n",
       "twgmewDDewUmBwaeUCAIx2KX2crPmFZh1cV3AUhwTcBtF1sBA4sDR4INhr+YNsACHItdWHWB7eJt\n",
       "gIi03r07Ad0uls8MbN+5Gh5j2MXYgMcurLrAdtUfAAtoNmPz1wUGtj88qw/A0tb8F8TYhVUX2K79\n",
       "kDCejC0MQd7+gC2R4bULqy6wXamoJQoDw0oUNecbyLELUxeHA5DwgNiFSEXeKGquMZBjF6Yu9o/A\n",
       "DPIdzDxyFwgCQGKZwFKDeS6IexcY4lwBmAZx3b17xffu3QTcdmHTZTYR4jcGBlO42KlgZBXbGMjx\n",
       "FzZdLxWA+RlcTPAiBMOQzXzAUE66Xdh0MQIV8m94ANbTgDUdnmNgaCbdLmy6+IDhx6/cgFZUIpdR\n",
       "t1atuoDXLj5IdDP/hBG4dIHSPPc6aNQFGWDaxfv///8J+OxiS/mZDWbcghM4dPEh264Xi1lG4QSM\n",
       "DQwkAj6s4UOMXfCyl0K7WhhoAbiwxkW9AC3sMsEaEuzLaGBZXSIDAwB4aaUFdo5x/QAAAABJRU5E\n",
       "rkJggg==\n",
       "\" style=\"display:inline;vertical-align:middle;\" /></a> <a class=\"ProveItLink\" href=\"../../../__pv_it/_proof__delta_diff_in_interval/89ab4a5cd427dcce979bce1151530090ee21a3040/proof.ipynb\" style=\"text-decoration: none\">&nbsp;&#x22A2;&nbsp;&nbsp;</a><a class=\"ProveItLink\" href=\"../../../__pv_it/_proof__delta_diff_in_interval/8242ef95a17b562a365aef7da7b5e85a650ba5d70/expr.ipynb\"><img src=\"data:image/png;base64,iVBORw0KGgoAAAANSUhEUgAAAM8AAAA0BAMAAADf+nG2AAAAMFBMVEX////MzMxUVFRERES6uroi\n",
       "IiIQEBCYmJhmZmYyMjLu7u52dnaqqqqIiIjc3NwAAACW8nlqAAAAAXRSTlMAQObYZgAAAAlwSFlz\n",
       "AAAOxAAADsQBlSsOGwAABCBJREFUWMOtWE1oE0EUfpvmr8nmB0QRPBgQPSjYiOhBUIuHgoJYC2Ir\n",
       "lQYVb2ItCN5aEGlqUYoiQitlpYh4ahR6UJCWgkLpoUHwItQGRBEEbaBQrZq4M9lu5k3eJNOYodnu\n",
       "7MzON/N+v7cAbmvOQYPa+PrN0xFqeLJROKFl58ZYbEcDzknmpPnaB9wn9U33HCYDmrCcXmSG//vW\n",
       "9bw8Nzp0MXdSE8fTi/vRqbG4CGScc3rzAF+H7F09EiaH4ZgVkRaAqTwJtEcESd+PQ/MMOhG8cSQ6\n",
       "AtEkTLfCmrhLdtxRacXAMoUTEBX+CcIrELMwUDjBO8Fe8OTAn/KmhBcibOyGtGSQtKEvoi73AlyG\n",
       "NoBN++2Wc4DgLL/67b818BQiiceC4fxhIxZe0pelgM6LnasWtOTehZCOAN5ajrF52sGTD2ZfCW8c\n",
       "tceaJSX9iFOSEwUBOwFa4nfCFgZqHmDX4dJul41BYZ3ZhaQrW7f1UwfyZ6QHPbD12rppvPzNheAt\n",
       "sOtD/mx7FivYsyap2W47KKAlSb7GX2LSPXbp5rcdWEg50zZlM4WnX6GAOqS+L0FMWmC7ucQNKukG\n",
       "ohG+d8MGMpg5hx6cYc0Wq1EgljBk37pJRrfsOlBfeUdMcascxItPFElRYUF6GKAOBE3tjujMDHwX\n",
       "o2Ke68fEIbEpYRG2IC08D1EiRgaYMA7bv20AH8SBPA8jgSSaHevNVC6xHbuAkYEIsZ3Qqn15YZth\n",
       "ZzqNdv8aZpni8MKxE4TDLuH9f06nb1Gyu2D/Ntt6KRaLyJTDiwzD14rPP0yscFByomLxFwV0gC0X\n",
       "V8X/zxo54qJeKplmGx1QjQ7Sj58Jagn91APqZ8I5ohiMJhWZeipbPQ4QjQeeCcVgkzKXv3fDr/lH\n",
       "D2iSiS2apQc/qt+7vo4UyOsBxRJ1Ep25u060KGgCJeulVMd3l/xgTW+6f6RuoEOl7K4J5GuH4kaa\n",
       "y07m9joxlT9xI3yMeKcElKrvPNdvgwikcaL6gMrmvQHR1UGtBYcNF/7fGMZVA2IIiqj9CBUn/kTt\n",
       "kqBqq+KwqDiJkQGVE2hTy/LNFeopp/KoOJnMUPMYgRZKgmrNWKWj8XQrKk4kNocIdLkkkNsT7jSn\n",
       "Sx0qTXAqj4oTWCBX4wQ6ZmmZUxdlYozKo+JEzvgigW7Ts9td1IkYlcdcrUX1fg+US4LqqZM+uG8Z\n",
       "FSfKjG8nznJJUD11zigyKipOoqpEbBNotySo4fK0J3YAKk4CqgByUzseBcloGUxWaI32d/3E6yU9\n",
       "tk9OsAq2QBNounVS8QJTeaXJKAi0vtnJVL6iiKpBoEGrtCSovFdhCyoCTeuzMvVVUPmmeskWamO1\n",
       "p5yyGgG0pbbddDfko1mkJjcMN0Ry+KMTzQEb9B1Qnbkcbxlt1BfHfdWHn3FT+Aeun0jC8KX21wAA\n",
       "AABJRU5ErkJggg==\n",
       "\" style=\"display:inline;vertical-align:middle;\" /></a></span>"
      ],
      "text/plain": [
       "{l in {-2^{t - 1} + 1 .. 2^{t - 1}}} |- (((2^{t} * delta) - l) / 2^{t}) >= (-(2^{t - 1} / 2^{t}))"
      ]
     },
     "execution_count": 44,
     "metadata": {},
     "output_type": "execute_result"
    }
   ],
   "source": [
    "# recall:\n",
    "lower_bound_judgment"
   ]
  },
  {
   "cell_type": "code",
   "execution_count": 45,
   "metadata": {},
   "outputs": [
    {
     "data": {
      "text/html": [
       "<strong id=\"frac_split\">frac_split:</strong> <span style=\"font-size:20px;\"><a class=\"ProveItLink\" href=\"../../../__pv_it/theorems/8bc9b38cf75c7371ab646fd064ad09fc02345f250/expr.ipynb\"><img src=\"data:image/png;base64,iVBORw0KGgoAAAANSUhEUgAAANYAAAAYBAMAAAB0Lx7ZAAAAMFBMVEX///+qqqq6urru7u4QEBBE\n",
       "RERUVFTc3NyIiIgyMjJmZmaYmJjMzMwiIiJ2dnYAAACPW0xlAAAAAXRSTlMAQObYZgAAAAlwSFlz\n",
       "AAAOxAAADsQBlSsOGwAAAeBJREFUSMdjYCAMOAugDOadDMQD8nTZwxgnemmuSxLOkqW6LiMFFG7d\n",
       "zTdk2IWmq7AAqyqOSQaoAhPJ8heqLp5UkKFv/6ApkkeyqmplDAPDZzx28VzGYg02XawJQIL7A5rK\n",
       "twgmewDDewUmBwaeUCAIx2KX2crPmFZh1cV3AUhwTcBtF1sBA4sDR4INhr+YNsACHItdWHWB7eJt\n",
       "gIi03r07Ad0uls8MbN+5Gh5j2MXYgMcurLrAdtUfAAtoNmPz1wUGtj88qw/A0tb8F8TYhVUX2K79\n",
       "kDCejC0MQd7+gC2R4bULqy6wXamoJQoDw0oUNecbyLELUxeHA5DwgNiFSEXeKGquMZBjF6Yu9o/A\n",
       "DPIdzDxyFwgCQGKZwFKDeS6IexcY4lwBmAZx3b17xffu3QTcdmHTZTYR4jcGBlO42KlgZBXbGMjx\n",
       "FzZdLxWA+RlcTPAiBMOQzXzAUE66Xdh0MQIV8m94ANbTgDUdnmNgaCbdLmy6+IDhx6/cgFZUIpdR\n",
       "t1atuoDXLj5IdDP/hBG4dIHSPPc6aNQFGWDaxfv///8J+OxiS/mZDWbcghM4dPEh264Xi1lG4QSM\n",
       "DQwkAj6s4UOMXfCyl0K7WhhoAbiwxkW9AC3sMsEaEuzLaGBZXSIDAwB4aaUFdo5x/QAAAABJRU5E\n",
       "rkJggg==\n",
       "\" style=\"display:inline;vertical-align:middle;\" /></a> <a class=\"ProveItLink\" href=\"../../../__pv_it/_proof__delta_diff_in_interval/20c0d783616052ac1df2beaaedb9d4909fe454a40/proof.ipynb\" style=\"text-decoration: none\">&nbsp;&#x22A2;&nbsp;&nbsp;</a><a class=\"ProveItLink\" href=\"../../../__pv_it/_proof__delta_diff_in_interval/57212083497f320b16f9c9a62a03eaf50a5f98960/expr.ipynb\"><img src=\"data:image/png;base64,iVBORw0KGgoAAAANSUhEUgAAAM0AAAAzBAMAAADGCpEzAAAAMFBMVEX////MzMxUVFRERES6uroi\n",
       "IiIQEBCYmJhmZmYyMjLu7u52dnaqqqqIiIjc3NwAAACW8nlqAAAAAXRSTlMAQObYZgAAAAlwSFlz\n",
       "AAAOxAAADsQBlSsOGwAAA+tJREFUWMO1WE1oE0EUfrvNT5v9yV4UwUMCoocqNj3ozVo8CApiLYit\n",
       "VBqseBNrT3pqQUpTihAUFdoiKz31lCr0IpSWgoL0kNCjog1IpSBogoVqaBN3Zn+ym87bTG06NDtp\n",
       "3jfvm5n3M/MWwGkteTjYZunPsH+u39p9pTO69UVZMvuPLqE6PpC/wkkjDvqKhZvWlxWAjfF2+NH7\n",
       "piqU4IKu1I6fLzIVncQYLPx7879IGtQELHbCtHuOZLGTNePCBZa2cBrjsfBSnHbNgyDmIZSEkgui\n",
       "ENnDmnHNTI3fUTva+Bv0GTL+SiCWA0kXJLJNJLp3XDDH0nYLtYyN/6Bb5he7QCwq8dcuzHlD1lJj\n",
       "oF8aa3OSKI+NbxkhzwmTu9Cce1eFLGcTzsY6bZilLDSH8tj4QJk8X9LvsZwwprlsK5Z2W/gYS9ma\n",
       "jvI4+Kfk0Ue/dntXnJcNn5RrtuQeS1k3HjkOPkvmcoe6RsL+LZOmMxEMHoH4ZeT5ddKMtQplVhQW\n",
       "8QB18JmczTNUdRJitC3KEfCuR2FZXMTdoIpv6rL2TZ6Dn26vLlLbyF2ecU1xhilCcZSnig+TlZ0z\n",
       "PkcBPrkhRWgxkl444RkXHWS4VgxPblV8ZMt4vDWyZk8q5Zn7AiwTo3n1Ri8z4nQNz+ou/G3jc8iw\n",
       "SaVS8fiw9IVQBDu9ETnBUHbW7DZedOyO4Cr+DNGmYRNa5zgUBsxuLtDqh1oktCOYdKw+TeSP2bf6\n",
       "w4bJznQgQjVRn0fYMftVf1iMWGoG80uOg1vetiJxyReWIXum5tjCrxzmCVvpoKnkC4vG93mFUczc\n",
       "Ip/67c+T+A/dozThmflTMtfxCNp0vyGh9D7X00x51DJkNT9YsGufPCK9aogJiBGeWbrSawyeJFT2\n",
       "0gpsnuggxGoEzhCbZ3/2MfctoxkWOtB9k6i/RTXP5e8A/ECh8SPlZP8A8Tml4BXwx+nCZ7bYLkGi\n",
       "I3iGLPDwyJv++cbumZcvNfVMA5lrS4UtTEJKA6cEiTFT2zeQNtX5KY2H6A+e7Bc7nRIky0yzpwHu\n",
       "0gsCR+vFApiWBtO+p/t9HdryUZ2L5wTmYaQ0cEqQNibmuCHQLvI59jAyHVoaOBfAAWx4P6xGuOwT\n",
       "w7c3WLBLEHUHP46fSFwb5xOBsZxdgoTL2FTicOQB38GAZ8husEsQEUtvj7kTTwAN1GppAFHkZhDe\n",
       "w3HegwmG6jvLCqjcLykwHe7SAKmRhDlQdF4erG50lQYBxA3WU6lR7n0Ls29U7tKgCTFDf6Xyl99A\n",
       "U2yPdZUGV3VoQDtc15R9DXnbpdS7A0rxhvDg75GsdqlBr+/qnCDCZKPeE/q/55ulXvAPexYsIEQI\n",
       "Lx8AAAAASUVORK5CYII=\n",
       "\" style=\"display:inline;vertical-align:middle;\" /></a></span><br>"
      ],
      "text/plain": [
       "frac_split: {l in {-2^{t - 1} + 1 .. 2^{t - 1}}} |- (((2^{t} * delta) - l) / 2^{t}) = (delta - (l / 2^{t}))"
      ]
     },
     "execution_count": 45,
     "metadata": {},
     "output_type": "execute_result"
    }
   ],
   "source": [
    "frac_split = lower_bound_judgment.lhs.distribution()"
   ]
  },
  {
   "cell_type": "code",
   "execution_count": 46,
   "metadata": {},
   "outputs": [
    {
     "data": {
      "text/html": [
       "<strong id=\"lower_bound_neg_one_half\">lower_bound_neg_one_half:</strong> <span style=\"font-size:20px;\"><a class=\"ProveItLink\" href=\"../../../__pv_it/theorems/8bc9b38cf75c7371ab646fd064ad09fc02345f250/expr.ipynb\"><img src=\"data:image/png;base64,iVBORw0KGgoAAAANSUhEUgAAANYAAAAYBAMAAAB0Lx7ZAAAAMFBMVEX///+qqqq6urru7u4QEBBE\n",
       "RERUVFTc3NyIiIgyMjJmZmaYmJjMzMwiIiJ2dnYAAACPW0xlAAAAAXRSTlMAQObYZgAAAAlwSFlz\n",
       "AAAOxAAADsQBlSsOGwAAAeBJREFUSMdjYCAMOAugDOadDMQD8nTZwxgnemmuSxLOkqW6LiMFFG7d\n",
       "zTdk2IWmq7AAqyqOSQaoAhPJ8heqLp5UkKFv/6ApkkeyqmplDAPDZzx28VzGYg02XawJQIL7A5rK\n",
       "twgmewDDewUmBwaeUCAIx2KX2crPmFZh1cV3AUhwTcBtF1sBA4sDR4INhr+YNsACHItdWHWB7eJt\n",
       "gIi03r07Ad0uls8MbN+5Gh5j2MXYgMcurLrAdtUfAAtoNmPz1wUGtj88qw/A0tb8F8TYhVUX2K79\n",
       "kDCejC0MQd7+gC2R4bULqy6wXamoJQoDw0oUNecbyLELUxeHA5DwgNiFSEXeKGquMZBjF6Yu9o/A\n",
       "DPIdzDxyFwgCQGKZwFKDeS6IexcY4lwBmAZx3b17xffu3QTcdmHTZTYR4jcGBlO42KlgZBXbGMjx\n",
       "FzZdLxWA+RlcTPAiBMOQzXzAUE66Xdh0MQIV8m94ANbTgDUdnmNgaCbdLmy6+IDhx6/cgFZUIpdR\n",
       "t1atuoDXLj5IdDP/hBG4dIHSPPc6aNQFGWDaxfv///8J+OxiS/mZDWbcghM4dPEh264Xi1lG4QSM\n",
       "DQwkAj6s4UOMXfCyl0K7WhhoAbiwxkW9AC3sMsEaEuzLaGBZXSIDAwB4aaUFdo5x/QAAAABJRU5E\n",
       "rkJggg==\n",
       "\" style=\"display:inline;vertical-align:middle;\" /></a> <a class=\"ProveItLink\" href=\"../../../__pv_it/_proof__delta_diff_in_interval/f3f306f32837a1a0abda078011e07f49bdc94a260/proof.ipynb\" style=\"text-decoration: none\">&nbsp;&#x22A2;&nbsp;&nbsp;</a><a class=\"ProveItLink\" href=\"../../../__pv_it/_proof__delta_diff_in_interval/ac1d907f474a5461e90059bf15f3da0187e535ea0/expr.ipynb\"><img src=\"data:image/png;base64,iVBORw0KGgoAAAANSUhEUgAAAKoAAAAyBAMAAAA+bV2fAAAAMFBMVEX///+6urqqqqpmZmbu7u6I\n",
       "iIgiIiIQEBDc3NwyMjJ2dnaYmJhUVFTMzMxEREQAAAC0ii6rAAAAAXRSTlMAQObYZgAAAAlwSFlz\n",
       "AAAOxAAADsQBlSsOGwAAA3ZJREFUWMOVmE1oE0EUx1+3m802u9v2IHgR2rMUKgSVerB71Ut70Js0\n",
       "hWIFUZqDYi3FLhTEkw2tB9FSc7EnIb2JoCQgqFCxAUHQS3MQT4rphxCtsW7ma7/mTdq57CTz+/93\n",
       "982bN5MA+K27Coqmf8XHEsoQvA7K9slFh9Zx2C4imtUmuWjjmGlUSQwF/AITWXV6fYYBYaX++okb\n",
       "gs1pTNRZoFdjTT4eU+bcEGyMYq58RLuhHo+4Mvg5OhcLfIaX5OMxJXVl8AzqWuadPk86PiN1JXBq\n",
       "F3X9wDtdFdlwXMlcCWxUUNebvKNJ7xxXMlcCb6ILy2mIrPklG48rmSuB36KPmsqL7jfZeFzJXAk8\n",
       "iy/yiliqZdl0zSKuPuzsoa49a2JBjkjWQULJXX041cBdj4gsT0umNKEseQLupsEzh+4kXtI6EwRD\n",
       "UmC689HP7+eW1zicrpFeBo65imKYqSe/Y0opPHKC1jRXWWKtLZo0j0PfMaUU3qSxS1WUrg5L2POX\n",
       "Q+k6isOD/fQptpWu+g6foqvipZhSCpfZAvmpDsFf8XrCtlzF4Ryd+oHBmtL1n+hpSyxZch4Ol8it\n",
       "rYK9q3S9HXQ7lunTllwcHiZjC57WVLpOhlxXqN2wi8MbrJI6Lddzk612nSysfdZopl4JIrDM3pwq\n",
       "hSQC07E9cOrKZxWu1gR/xA0FTN5Db/qRPVAEQpmligAtCU3o6j/IbIVXQcnD4RzJuqcwIAceRmpp\n",
       "ZMXm0HydZbmcuSg/Fek82juSHRh13YHBXmTIzK5UQWPR1v8kgbhyfuiHgDeR0w7ch8yWufqoGqku\n",
       "kc0wqjRrUOrlcA9Wz94B3BJzqNHio5PknKR3iiltD9J5DhtYRs25sOH1uMhu0joORJXpXbAbHLbz\n",
       "iOsbP8+rR/mDSNZITGmPg93ksKWoKlNwSa+iu0lSadQ57GyrNoCTGRqCBUndTyrZ7tCC8VOGf476\n",
       "+OoQpwy4FsCnUdezkSAnW1zZWQvgPmwZWKENUnp6iytfhmADS9jjYHroxEBSqRXhnoCxJHCKkHKR\n",
       "k6r0Xl8ALgQwcoK/m82eOswJ3pzIZscDuCyvvlP7+795/zvyuyGsNPwNphDAXUVo0zqQIEmVDHam\n",
       "27kayD4hVXJ4rJ0r+otzTAHbbULQUTjYr+MYvKh2/YwfwRYVcJt/HR4c5l8HAv8H/isSP97ScXgA\n",
       "AAAASUVORK5CYII=\n",
       "\" style=\"display:inline;vertical-align:middle;\" /></a></span><br>"
      ],
      "text/plain": [
       "lower_bound_neg_one_half: {l in {-2^{t - 1} + 1 .. 2^{t - 1}}} |- (delta - (l / 2^{t})) >= (-(1 / 2))"
      ]
     },
     "execution_count": 46,
     "metadata": {},
     "output_type": "execute_result"
    }
   ],
   "source": [
    "lower_bound_neg_one_half = frac_split.sub_right_side_into(\n",
    "        lower_bound_neg_one_half)"
   ]
  },
  {
   "cell_type": "code",
   "execution_count": 47,
   "metadata": {},
   "outputs": [
    {
     "data": {
      "text/html": [
       "<strong id=\"upper_bound_one_half\">upper_bound_one_half:</strong> <span style=\"font-size:20px;\"><a class=\"ProveItLink\" href=\"../../../__pv_it/theorems/8bc9b38cf75c7371ab646fd064ad09fc02345f250/expr.ipynb\"><img src=\"data:image/png;base64,iVBORw0KGgoAAAANSUhEUgAAANYAAAAYBAMAAAB0Lx7ZAAAAMFBMVEX///+qqqq6urru7u4QEBBE\n",
       "RERUVFTc3NyIiIgyMjJmZmaYmJjMzMwiIiJ2dnYAAACPW0xlAAAAAXRSTlMAQObYZgAAAAlwSFlz\n",
       "AAAOxAAADsQBlSsOGwAAAeBJREFUSMdjYCAMOAugDOadDMQD8nTZwxgnemmuSxLOkqW6LiMFFG7d\n",
       "zTdk2IWmq7AAqyqOSQaoAhPJ8heqLp5UkKFv/6ApkkeyqmplDAPDZzx28VzGYg02XawJQIL7A5rK\n",
       "twgmewDDewUmBwaeUCAIx2KX2crPmFZh1cV3AUhwTcBtF1sBA4sDR4INhr+YNsACHItdWHWB7eJt\n",
       "gIi03r07Ad0uls8MbN+5Gh5j2MXYgMcurLrAdtUfAAtoNmPz1wUGtj88qw/A0tb8F8TYhVUX2K79\n",
       "kDCejC0MQd7+gC2R4bULqy6wXamoJQoDw0oUNecbyLELUxeHA5DwgNiFSEXeKGquMZBjF6Yu9o/A\n",
       "DPIdzDxyFwgCQGKZwFKDeS6IexcY4lwBmAZx3b17xffu3QTcdmHTZTYR4jcGBlO42KlgZBXbGMjx\n",
       "FzZdLxWA+RlcTPAiBMOQzXzAUE66Xdh0MQIV8m94ANbTgDUdnmNgaCbdLmy6+IDhx6/cgFZUIpdR\n",
       "t1atuoDXLj5IdDP/hBG4dIHSPPc6aNQFGWDaxfv///8J+OxiS/mZDWbcghM4dPEh264Xi1lG4QSM\n",
       "DQwkAj6s4UOMXfCyl0K7WhhoAbiwxkW9AC3sMsEaEuzLaGBZXSIDAwB4aaUFdo5x/QAAAABJRU5E\n",
       "rkJggg==\n",
       "\" style=\"display:inline;vertical-align:middle;\" /></a> <a class=\"ProveItLink\" href=\"../../../__pv_it/_proof__delta_diff_in_interval/1cea461b437e2b293e0f95d039f10d1262b8a3db0/proof.ipynb\" style=\"text-decoration: none\">&nbsp;&#x22A2;&nbsp;&nbsp;</a><a class=\"ProveItLink\" href=\"../../../__pv_it/_proof__delta_diff_in_interval/099baeea0135db4e035b1f62e0e2705173438a8b0/expr.ipynb\"><img src=\"data:image/png;base64,iVBORw0KGgoAAAANSUhEUgAAAH4AAAAyBAMAAABol3KsAAAAMFBMVEX///+6urqqqqpmZmbu7u6I\n",
       "iIgiIiIQEBDc3NwyMjJ2dnaYmJhUVFTMzMxEREQAAAC0ii6rAAAAAXRSTlMAQObYZgAAAAlwSFlz\n",
       "AAAOxAAADsQBlSsOGwAAApdJREFUSMedlz9oE1Ecx38el0tyl0vdXIRmVQopRCtZahY3oR20LmId\n",
       "tI7pIFhFNJOjLSoiDpJBOxUaECodJJmsItiAIDglgzgJJjEBa4zx7t6766V9399B3pD3C7/f5+W9\n",
       "37/3QuSMdJ2YoX+jiPGRV38p8PpUGSjMorcx7apabV8T8zZcuSqmDaXyfL7rzYkVyOfFZFSU2pjg\n",
       "jXnIXxeTdpPj30A8MZDCY46/A3mrJYXJEublKsrANKWQrGHeqEE+7ntG62K+gZOv4W9b72F+ByfW\n",
       "pUD6jvm7mP+hB4lUQrzdx3zf9KW5CuJjvzHfPhd4UuVk00XTyyJV8vcOb/F1UFhpRQmldvacwo2L\n",
       "GJt0nKtSs4U0c9NiMb7GrTaMsciRWI3l7R7SZDMiQzosr/8KfTkR9lRVpt9P/gB/98WtU2HFolhs\n",
       "Kttk+X+BtPByRLHp/a61luqy/G3/IOsHus1Zj18taQOWX5IdZeZgIu56n5/Idnn96ZI7XJdMDOUQ\n",
       "kb8hrD9kAlAYSL5Pdov9/cN8eP/6wPHAePvf9Pw/oGRmPP8tevF/RVNq7pmcgy6hL1wYvWI83ryo\n",
       "vsN03yuh/NsaSYDsUdT8cy/qpEmv6H9Cmu3SvgE1KoB/SGY7sf68DuvHNXDCOA3490S3Aq9qHWBA\n",
       "Borb/QLtliZkVam6nGdAqWXAv3Nys37M71UtYEAWUzdFuqyL88ebwIDsDtd0TpviAKvzsCvh+8O5\n",
       "GT+/Ze4PcXWegfzsyFmRwSRKICvUUnvYwEAJcJIS/q7VThYGKAB2mWKF8EGRAXi/PMjlZoh7v/gG\n",
       "VXXnLg6He8FFzhkky1Hv2yNsb7ZXoniD701XoviNMd/P/vbXItZ/xKu/Rrzfo/4/PGGU/wHZ4sPG\n",
       "U24HegAAAABJRU5ErkJggg==\n",
       "\" style=\"display:inline;vertical-align:middle;\" /></a></span><br>"
      ],
      "text/plain": [
       "upper_bound_one_half: {l in {-2^{t - 1} + 1 .. 2^{t - 1}}} |- (delta - (l / 2^{t})) < (1 / 2)"
      ]
     },
     "execution_count": 47,
     "metadata": {},
     "output_type": "execute_result"
    }
   ],
   "source": [
    "upper_bound_one_half = frac_split.sub_right_side_into(\n",
    "        upper_bound_one_half)"
   ]
  },
  {
   "cell_type": "code",
   "execution_count": 48,
   "metadata": {},
   "outputs": [
    {
     "data": {
      "text/html": [
       "<span style=\"font-size:20px;\"><a class=\"ProveItLink\" href=\"../../../__pv_it/theorems/8bc9b38cf75c7371ab646fd064ad09fc02345f250/expr.ipynb\"><img src=\"data:image/png;base64,iVBORw0KGgoAAAANSUhEUgAAANYAAAAYBAMAAAB0Lx7ZAAAAMFBMVEX///+qqqq6urru7u4QEBBE\n",
       "RERUVFTc3NyIiIgyMjJmZmaYmJjMzMwiIiJ2dnYAAACPW0xlAAAAAXRSTlMAQObYZgAAAAlwSFlz\n",
       "AAAOxAAADsQBlSsOGwAAAeBJREFUSMdjYCAMOAugDOadDMQD8nTZwxgnemmuSxLOkqW6LiMFFG7d\n",
       "zTdk2IWmq7AAqyqOSQaoAhPJ8heqLp5UkKFv/6ApkkeyqmplDAPDZzx28VzGYg02XawJQIL7A5rK\n",
       "twgmewDDewUmBwaeUCAIx2KX2crPmFZh1cV3AUhwTcBtF1sBA4sDR4INhr+YNsACHItdWHWB7eJt\n",
       "gIi03r07Ad0uls8MbN+5Gh5j2MXYgMcurLrAdtUfAAtoNmPz1wUGtj88qw/A0tb8F8TYhVUX2K79\n",
       "kDCejC0MQd7+gC2R4bULqy6wXamoJQoDw0oUNecbyLELUxeHA5DwgNiFSEXeKGquMZBjF6Yu9o/A\n",
       "DPIdzDxyFwgCQGKZwFKDeS6IexcY4lwBmAZx3b17xffu3QTcdmHTZTYR4jcGBlO42KlgZBXbGMjx\n",
       "FzZdLxWA+RlcTPAiBMOQzXzAUE66Xdh0MQIV8m94ANbTgDUdnmNgaCbdLmy6+IDhx6/cgFZUIpdR\n",
       "t1atuoDXLj5IdDP/hBG4dIHSPPc6aNQFGWDaxfv///8J+OxiS/mZDWbcghM4dPEh264Xi1lG4QSM\n",
       "DQwkAj6s4UOMXfCyl0K7WhhoAbiwxkW9AC3sMsEaEuzLaGBZXSIDAwB4aaUFdo5x/QAAAABJRU5E\n",
       "rkJggg==\n",
       "\" style=\"display:inline;vertical-align:middle;\" /></a> <a class=\"ProveItLink\" href=\"../../../__pv_it/_proof__delta_diff_in_interval/97aa7aa4e61c8f77af4e9a0a79d4f0ac438785350/proof.ipynb\" style=\"text-decoration: none\">&nbsp;&#x22A2;&nbsp;&nbsp;</a><a class=\"ProveItLink\" href=\"../../../__pv_it/theorems/4b2316f54dd09816e91d090fb1c72486ac0d72c40/expr.ipynb\"><img src=\"data:image/png;base64,iVBORw0KGgoAAAANSUhEUgAAALwAAAAzBAMAAADfgX+VAAAAMFBMVEX///+6urqqqqpmZmbu7u6I\n",
       "iIgiIiIQEBDc3NwyMjJ2dnaYmJhUVFTMzMxEREQAAAC0ii6rAAAAAXRSTlMAQObYZgAAAAlwSFlz\n",
       "AAAOxAAADsQBlSsOGwAAA4lJREFUWMOdmE1oE0EUgF/WzSbN7rY9FLwI7VkKFYJKPdQ91IMgtAd7\n",
       "ExtQUgS1PfhTS7EBQfRig3+IiOZiT2JzEERQEhCsoLQBQdBLc5CeFNM2hdYa42Z+9qfdmdmdXHab\n",
       "fd+X6duZ92YXQPajDg5a4SLbK1zPj8CvtWbzQDjqE//XvwaOUusMSRkFRsRcAx2UjFhvnt1pdqg3\n",
       "rAHoNXx8IdSf6K+7aXn/zPJQyUmWfk+emIrC0cfrnj9GLQ+lDbP09IpySUZPqNfMuzNLZ9Q9GT2h\n",
       "ppj6Ej3pzsnoEeW74P8s0pO2soweUVqZqb9MT5S6jB5Ry8wla246c21DRo+oBebg4xPO6YqMHlHT\n",
       "7FJUdqpBKSejtylzm6nvKDrVYqgoo7ep+CZb3+UsuERZoE95NfM5h2rHCU72X9/1/+tH3Dxl+Hpj\n",
       "Ycstu59nnhQplajiX4d9vOaQqkUuyJgawj3B4HcefVVGb1PLOL/xMjfQ3JDR21RfD14Ca/zGuk5n\n",
       "yEr2XGi9TZXIov3Nz85ffIg9sCKM3qZG8YTp7atyA//hw20rSnJsah4Bet6ocwOv4cOjSLm3qaNI\n",
       "P5tTGtzALD7ko+mzsEQqu9nSH8+2PhfQkm2SD57xY3gqXLEvX3T06kMUXyHBxOmjsH4bzBp3HFiv\n",
       "VqONfgwnR23Y2Q+TnEzU5ODy04C2njC3doSvt3ZRo2jeP4feYC2dKqQreAYRoFe3dnwxTZZVaiR4\n",
       "I6jSO0JWrbrYxRt9dsfw16GPlcJk+mkFFHJH1D/k29jLwKKAgu3mjfQ3+n851HKRob8DqdXk3ONK\n",
       "qJLWCkZlvfVTVZjvpFQHa5P+EeCqk2tlja9HwQDHUG3PQWKCUhprQs5YsJTrIMkMaJk+PQoGQMU9\n",
       "UQdjk1LGBEP/AWCpspc2O0G3QsE0NgNGg1I6p5SNwykVQ4mqsJ2Me6/VKGWu8ZrNwRTOzuywSO+7\n",
       "+aQFtij2NsrefX55F3Ib5d+qnnepw0z9gC+3Av2A96mm6lLdrHWle8Yj3MJ6g+Gth9JYE38/JGlK\n",
       "dOEG3BMMSgFuORRr6pgFiFtBiQ3Se4PhO8BJl2I8/NxMpw+FfvjxBifPpNMZlyoFb0HGm02nvv4U\n",
       "Pbp5gzW7F+Zdqq0gajqxusRDP6XMSZFe65HRU+q0SC9+6OdRhiA7sbyM3qXu8gO/Bb9wecV/XeRS\n",
       "gtdF96VeFyHqPw5BH6gnV8YRAAAAAElFTkSuQmCC\n",
       "\" style=\"display:inline;vertical-align:middle;\" /></a></span>"
      ],
      "text/plain": [
       "{l in {-2^{t - 1} + 1 .. 2^{t - 1}}} |- (delta - (l / 2^{t})) in [-(1 / 2),1 / 2)"
      ]
     },
     "execution_count": 48,
     "metadata": {},
     "output_type": "execute_result"
    }
   ],
   "source": [
    "# Not explicitly needed, but nice to see the final result here:\n",
    "_delta_diff_in_interval.instance_expr.conclude()"
   ]
  },
  {
   "cell_type": "code",
   "execution_count": null,
   "metadata": {},
   "outputs": [],
   "source": [
    "%qed"
   ]
  },
  {
   "cell_type": "code",
   "execution_count": null,
   "metadata": {},
   "outputs": [],
   "source": []
  }
 ],
 "metadata": {
  "kernelspec": {
   "display_name": "Python 3",
   "language": "python",
   "name": "python3"
  },
  "language_info": {
   "codemirror_mode": {
    "name": "ipython",
    "version": 3
   },
   "file_extension": ".py",
   "mimetype": "text/x-python",
   "name": "python",
   "nbconvert_exporter": "python",
   "pygments_lexer": "ipython3",
   "version": "3.7.3"
  }
 },
 "nbformat": 4,
 "nbformat_minor": 1
}
