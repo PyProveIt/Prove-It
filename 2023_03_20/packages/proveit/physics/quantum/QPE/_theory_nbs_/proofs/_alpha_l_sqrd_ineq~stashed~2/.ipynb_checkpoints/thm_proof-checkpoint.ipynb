{
 "cells": [
  {
   "cell_type": "markdown",
   "metadata": {},
   "source": [
    "Proof of <a class=\"ProveItLink\" href=\"../../../../../../_theory_nbs_/theory.ipynb\">proveit</a>.<a class=\"ProveItLink\" href=\"../../../../../_theory_nbs_/theory.ipynb\">physics</a>.<a class=\"ProveItLink\" href=\"../../../../_theory_nbs_/theory.ipynb\">quantum</a>.<a class=\"ProveItLink\" href=\"../../theory.ipynb\">QPE</a>.<a class=\"ProveItLink\" href=\"../../theorems.ipynb#_alpha_l_sqrd_ineq\">_alpha_l_sqrd_ineq</a> theorem\n",
    "========"
   ]
  },
  {
   "cell_type": "code",
   "execution_count": 1,
   "metadata": {},
   "outputs": [],
   "source": [
    "import proveit\n",
    "theory = proveit.Theory() # the theorem's theory\n",
    "from proveit import l, defaults\n",
    "from proveit.logic import InSet\n",
    "from proveit.numbers import zero, greater, Integer, Abs\n",
    "from proveit.physics.quantum.QPE import (\n",
    "    _alpha_l_summed, _delta_is_real, _two_pow_t_is_nat_pos, \n",
    "    _scaled_delta_minus_l__in__real, _scaled_abs_delta_diff_interval,\n",
    "    _scaled_delta_not_eq_nonzeroInt,\n",
    "    _delta_diff_exp_not_one,\n",
    "    _delta_not_eq_scaledNonzeroInt, _delta_is_real,\n",
    "    _all_alpha_l_is_complex, _full_domain)"
   ]
  },
  {
   "cell_type": "code",
   "execution_count": 2,
   "metadata": {},
   "outputs": [
    {
     "data": {
      "text/html": [
       "Under these <a href=\"presumptions.txt\">presumptions</a>, we begin our proof of<br><strong id=\"_alpha_l_sqrd_ineq\">_alpha_l_sqrd_ineq:</strong> <a class=\"ProveItLink\" href=\"../../../__pv_it/theorems/c35cec684fdffe0db2f244b57075d3660f5b535e0/expr.ipynb\"><img src=\"data:image/png;base64,iVBORw0KGgoAAAANSUhEUgAAAc8AAAA/BAMAAAB0s161AAAAMFBMVEX///+IiIgiIiIQEBB2dnbu\n",
       "7u5ERETMzMzc3NwyMjK6urpmZmaYmJiqqqpUVFQAAAB6qHgnAAAAAXRSTlMAQObYZgAAAAlwSFlz\n",
       "AAAOxAAADsQBlSsOGwAABptJREFUaN7FmmuIVFUcwP/zuHPv7J3XGlvRBx0EkVxst7CyqHbWB2HU\n",
       "7nwQI4h2RBqFPuykkkToDm5oILTrB3uA2iTYp7BV1FhH2DESkiIH6stCuPNFIYLdsVzHfE3nnPs6\n",
       "596723Wde86BMzP3P2fumd895/+8F0BEO8lxLukQCGuBUZ6zPSoO9Lsiz9kiGVGc0kt8p3tZFKg6\n",
       "yne+37KCQIcKfOcLjgkCPcp5vvgtMZz85/1MDGgw16ozbfeofFMFMSpabZE1/esrj6AhMUo607Iz\n",
       "LfEIqtaFeNE73EHb7ooAjTW4g8ILIkAjdf6gE0UBoMkcf9CpioiIPsMfdKQmAHSi5CLc2HfVT9BQ\n",
       "twBQV+c3Bqf8BI3MCgD92014G0YKPoIG7vHnVG66SS/6Cxq/wx9Un5O29wp+WbOAc/V79RryTf6g\n",
       "gevk7TVKFEbmSV724Kea7jnq0W1ISF+I4f2DY3nhnivoPn+rAE2Ac/j9C46BUcMNVBlTrG042fo4\n",
       "pisLe7CS5PiBRm+5ge7b9ZG5pD+c8cGnFSGKJghX+YGGZt1Ae5pN42jReh9mHSxBDOlzlGeoW3fV\n",
       "UdNsrEn5kgOjpXxm6dJVYkDX9RXsoNIpf8JvDPo9wLtCQPeWpNVKlQGV/vRJiSbQ9fsUFDq2/5G5\n",
       "pAcMnz7/taCH7aRsSex18kaLBkzQpwHeC2TfqdMr6idoJIsmkoxCjmzG+dK66Sxc0A92W/78bbbO\n",
       "7hzWZ325Ay1Xb4YRDXTroLiQMx6G+CgNqlhbN9lsSdOuaz/S/HgK26JJxLg4X8LzGp4d1HSg07jC\n",
       "yzQRGtWeZgMAx7BJ60v08QJ8w4hM0BDyaWvXg5rhYYwwKIzi9TgNUMamwQJNlpQGmFAENEKCVRbU\n",
       "OYwFfR6SRVfQATR3fxWCJQbUJ/dCQN/Ad0pXQIBsGgs0llUa0igo5XL53DygzmEMqDILoSotMo1R\n",
       "Es29FoGDDbSFAYOVzmMdhWFki6Q6bNL+N6WB4XR8rPJ/K+ocdsz66hLIsxCs0CITVM1BbELG18AG\n",
       "CpOtKqxb6TwBTRTIQn5LJB9Sk2zPKuf1sPP9VdU5Qe3Doh1mdvQ5Bg2lKBHlXtb90qH2Yp0Jl3xy\n",
       "ZVY6P2MYEWQSLuXz+aqMTCh8gD7liw6Xcja/JZ+vOEAdnid+EGR8hm2w5yreuskqFpkhoC0yWpH1\n",
       "D/SiEzR4HHZq6WKNco6f2DMPtxV1DBu2Pi7WjRElCtpi3XrKP1ArnR80NmoygPwpa4yUrbvOzAO6\n",
       "EaSM+zDW6rbDCUZkT9NO0lZXWkqaq44W55ZFi04xEZnpfJcxQn0C/WMWNGQ4WxZU2XCDeLodRXm1\n",
       "+zAWNNx7hhGpt+cN6ueuTFTnlg3QmjT+XPFr9I67lc73MMY4zwQMbkmzp+0y6fxIiQLaDZ/H6P87\n",
       "l5WVqdt9v6N9aL9rg2QHxrcyp4cwnMhiT4m7lc7/4zh3W3q+MsiDgh5zimI3vGtY0DIYyFVDzLZ1\n",
       "sPvOQX/p4ydftYQJvIiHtG6m84pLjfXgw+q/fIQqJ6Qcorb73k+1yAJVK86nWZAsUcRV+CP09sC/\n",
       "+VnrZjrvNqn8sPnDfvpgt0Mk/ev9kl2yQEN4gW1hcIjUKxK3gK7DS7j4Fspq3dxG1/mXO6HL88hw\n",
       "tMbog73GjWSJNCQabcydlUEEGK1o3Vz7hgBQ7/cqH6dAUQAFl23fn9YUuR6ovWkJr0yhrChc07qp\n",
       "QiLu7V/2WixRKhToYdSv2QYcJq9DKTVlJTyx0cSsFrHTUXsyLQB0xOsjImGgQFcCKUkwbSV5fQrk\n",
       "89aeHinG0TaNd2vdaEMZAaAhr1f3Jw1Us14vIttEKsJvkdhpuS4DnATRVu4ayAhUrmvdaEtEPGgU\n",
       "9nivUknpK9qpQwXsd3MJ6K/mIRl3lwBi80SbqC0COEHxaOrbpqdnXslQ2zRSyzq3bjzD5BRSg+gm\n",
       "jsep5EO6LwIUvvS+yy0d3YwsSsWmaZtxgRGgg5Y1IIoCgVhO64aFaggBvezZv1APsPSho+O2gAHJ\n",
       "lM5ymdH5XriipdekG94lLQR0wKsJVAfvm2jb0bqctpc2kBNtNptMYBhux2cPlrRumOKKEFB1IY+I\n",
       "BAveZFrbq3ejBiiEE6SFBJ6xMW8yrZ3X+0NM2Ir2yEJ+tM2jjBj2HHPPV00LAg0upBi/yaOMFAiK\n",
       "WjdUtCQItG0hz5orKW8ykg3oXW/TIKpt4Dpb7FlhoJEUz9mGC8JApeU8ZzsM4tp+nldVM0X/AS/I\n",
       "D6XKeJgWAAAAAElFTkSuQmCC\n",
       "\" style=\"display:inline;vertical-align:middle;\" /></a><br>(see <a class=\"ProveItLink\" href=\"../../../__pv_it/theorems/81cbda00301c036b5e57ad206a931ffe484703250/dependencies.ipynb\">dependencies</a>)<br>"
      ],
      "text/plain": [
       "_alpha_l_sqrd_ineq: forall_{l in {-2^{t - 1} + 1 .. 2^{t - 1}} - {0}} (|alpha_{l}|^{2} <= (1 / (4 * (l - (2^{t} * delta))^{2})))"
      ]
     },
     "execution_count": 2,
     "metadata": {},
     "output_type": "execute_result"
    }
   ],
   "source": [
    "%proving _alpha_l_sqrd_ineq"
   ]
  },
  {
   "cell_type": "code",
   "execution_count": 3,
   "metadata": {},
   "outputs": [
    {
     "data": {
      "text/html": [
       "<strong id=\"defaults.assumptions\">defaults.assumptions:</strong> <a class=\"ProveItLink\" href=\"../../../__pv_it/_proof__alpha_l_sqrd_ineq/fd158b34af29b976c33469a2e26d05f886fbf0990/expr.ipynb\"><img src=\"data:image/png;base64,iVBORw0KGgoAAAANSUhEUgAAATAAAAAaBAMAAADClR0kAAAAMFBMVEX///9UVFQiIiKIiIjMzMx2\n",
       "dnYQEBDc3NxEREQyMjLu7u5mZmaqqqq6urqYmJgAAAB66f/FAAAAAXRSTlMAQObYZgAAAAlwSFlz\n",
       "AAAOxAAADsQBlSsOGwAAAz1JREFUSMfFl01oE0EUx1+STdbspjUnaaBIXMViezDtoUi9VEQvHrrW\n",
       "D9SLi3guvRQFBRsRLIKSehSLKYrYgxgPHmJBghfx1Fw8eGr1IIhIe4iURts6b2Z3u7P7siSh1Tm8\n",
       "TF7ef+a3b2bebACab8lxu6N933EVtp/NOl85neMDLQzfoqrkmlSJ+Jl0fnR771sAa1F13TVz1M/c\n",
       "+bIq+SYOnW0DTFapH4gQZ56buOidOcc8oIZDZ2ymKDsft5UxWXXsXiDAnUfpwk4vCKNaAPHDw3Is\n",
       "OmHBw3WjfAegHgKm9BJMlCofiOLznDvK0rUrzXr9IIxuss9lXyx3jnpAJ+FytcMCZYq1uwTYbLke\n",
       "5CJVo4Ew9CQrWg9LUBYPS1GY3bjAZV8sd3qGiIxDwoqlnwUy1rHkrAcBRqposK8AF2yw5JIwIwi4\n",
       "X4QcMYwC73CnZ4hEHSKreu5SACyVCwEjVTRYnq8oB9MnhcHiotZ4xOchJ3bAN0QkC5Ga8s7ZiRNP\n",
       "zjQDRqposN8sGRUBFrOEyeDpXOFb4pEbmwk+W3SFOnKhYKSKBNMQbEmAddSFmcJHm5TuDuBO38Yb\n",
       "ybUDFlQNBmLYPOovHsqTpdSEmcbNwOXJrVh0qmOSfB+0AxZU3ar4z+6YDWaC+ge/rwvTh8/Fc3XS\n",
       "YI3nDp1qhp1M7SH6jGF7S/qLimEcvGIY6cZghErLINkcH/cAOPMwsEX2jLOsGmsIxsy0m94XcsZO\n",
       "STX6C7STMUIVn/E5+Dxsjy0w4ItV+ySqYinzGt+oMphUo1MmXGsdjFItFP2evNjUy0VI4SDKqjBd\n",
       "7GMjzsfe2qhd/vNzAmCodTBKdZ4sF9/4GYhbnlOJy7j+1HfdDvrA1L75+WwoWHxV7KA1vE8KISq6\n",
       "jkUr2lW78ndawiyy1P4wxYV330nzoq/yRzc3NwthYJE9a3udYwPRUoiKBtPe9A/bYHpamITnpevT\n",
       "bftKSlTJIUIy1nQbDfFId6VuUsfcbBLMvcS3D8x5u1AsQs2dg7ATrQyN7wK94JQYNN2UvJuq0dvR\n",
       "tLGQu+A55r8HbNPwnV99vf1k6ungmO48E93SO3/KpEvjf2pb/5Ka/1/5T9pb2/wF/Cz7b4IQZloA\n",
       "AAAASUVORK5CYII=\n",
       "\" style=\"display:inline;vertical-align:middle;\" /></a><br>"
      ],
      "text/plain": [
       "defaults.assumptions: (l in ({-2^{t - 1} + 1 .. 2^{t - 1}} - {0}))"
      ]
     },
     "execution_count": 3,
     "metadata": {},
     "output_type": "execute_result"
    }
   ],
   "source": [
    "defaults.assumptions = _alpha_l_sqrd_ineq.conditions"
   ]
  },
  {
   "cell_type": "markdown",
   "metadata": {},
   "source": [
    "## Instantiate some needed theorems of this package"
   ]
  },
  {
   "cell_type": "code",
   "execution_count": 4,
   "metadata": {},
   "outputs": [
    {
     "data": {
      "text/html": [
       "<span style=\"font-size:20px;\"> <a class=\"ProveItLink\" href=\"../_two_pow_t_minus_one_is_nat_pos/thm_proof.ipynb\" style=\"text-decoration: none\">&nbsp;&#x22A2;&nbsp;&nbsp;</a><a class=\"ProveItLink\" href=\"../../../__pv_it/theorems/fdc5aaccce23f853b415834a94fd23eb3d98ce2b0/expr.ipynb\"><img src=\"data:image/png;base64,iVBORw0KGgoAAAANSUhEUgAAAFoAAAAUBAMAAAD/1DctAAAAMFBMVEX///+qqqqYmJiIiIgiIiLu\n",
       "7u4QEBBUVFS6urp2dnbMzMxEREQyMjJmZmbc3NwAAADzFso2AAAAAXRSTlMAQObYZgAAAAlwSFlz\n",
       "AAAOxAAADsQBlSsOGwAAAT9JREFUKM9jYACDcwxQEHSAgSBg/QBlcBk74FR0AcZghJvIiFv1BijN\n",
       "N+XkAuJVM/AI4DKb1X/3UQbO/Ayoar67pxcw8AfgdAm3QDsDQzzM7NcMnD8Y2hgYVu8GggeYqtn9\n",
       "OBUY2Bh4d+/O3r2JoY6BIY3BnBWnu9mlgcHLAjM7P4Ch/sFlzgB01cxbXHzAqh8ZvEGoLmFgqF+w\n",
       "VgsWOnN+GoAZHIeh+tkfVDFPYEEKE38swfUGZhn7A26GHUiquT5jUQ1PCuwPuC6EhCDikqUAi+oD\n",
       "CNUMiozbEBK3sSjmSnFxcfGGqmYPKINLMGEzmnUDktmsBSFwCUkGvgeYyh2QVDMs5obbOYGBOQBT\n",
       "tTE85oHxxrwaxnty9+4VLE6BpzMw4w5M2P///z/YHF7dCrH6fDaQjCGUnThmQ2IeBQAAYmtTOe5+\n",
       "TdwAAAAASUVORK5CYII=\n",
       "\" style=\"display:inline;vertical-align:middle;\" /></a></span>"
      ],
      "text/plain": [
       "|- 2^{t - 1} in NaturalPos"
      ]
     },
     "execution_count": 4,
     "metadata": {},
     "output_type": "execute_result"
    }
   ],
   "source": [
    "from proveit.physics.quantum.QPE import _two_pow_t_minus_one_is_nat_pos\n",
    "_two_pow_t_minus_one_is_nat_pos"
   ]
  },
  {
   "cell_type": "code",
   "execution_count": 5,
   "metadata": {},
   "outputs": [
    {
     "data": {
      "text/html": [
       "<span style=\"font-size:20px;\"><a class=\"ProveItLink\" href=\"../../../__pv_it/theorems/8bc9b38cf75c7371ab646fd064ad09fc02345f250/expr.ipynb\"><img src=\"data:image/png;base64,iVBORw0KGgoAAAANSUhEUgAAANYAAAAYBAMAAAB0Lx7ZAAAAMFBMVEX///+qqqq6urru7u4QEBBE\n",
       "RERUVFTc3NyIiIgyMjJmZmaYmJjMzMwiIiJ2dnYAAACPW0xlAAAAAXRSTlMAQObYZgAAAAlwSFlz\n",
       "AAAOxAAADsQBlSsOGwAAAeBJREFUSMdjYCAMOAugDOadDMQD8nTZwxgnemmuSxLOkqW6LiMFFG7d\n",
       "zTdk2IWmq7AAqyqOSQaoAhPJ8heqLp5UkKFv/6ApkkeyqmplDAPDZzx28VzGYg02XawJQIL7A5rK\n",
       "twgmewDDewUmBwaeUCAIx2KX2crPmFZh1cV3AUhwTcBtF1sBA4sDR4INhr+YNsACHItdWHWB7eJt\n",
       "gIi03r07Ad0uls8MbN+5Gh5j2MXYgMcurLrAdtUfAAtoNmPz1wUGtj88qw/A0tb8F8TYhVUX2K79\n",
       "kDCejC0MQd7+gC2R4bULqy6wXamoJQoDw0oUNecbyLELUxeHA5DwgNiFSEXeKGquMZBjF6Yu9o/A\n",
       "DPIdzDxyFwgCQGKZwFKDeS6IexcY4lwBmAZx3b17xffu3QTcdmHTZTYR4jcGBlO42KlgZBXbGMjx\n",
       "FzZdLxWA+RlcTPAiBMOQzXzAUE66Xdh0MQIV8m94ANbTgDUdnmNgaCbdLmy6+IDhx6/cgFZUIpdR\n",
       "t1atuoDXLj5IdDP/hBG4dIHSPPc6aNQFGWDaxfv///8J+OxiS/mZDWbcghM4dPEh264Xi1lG4QSM\n",
       "DQwkAj6s4UOMXfCyl0K7WhhoAbiwxkW9AC3sMsEaEuzLaGBZXSIDAwB4aaUFdo5x/QAAAABJRU5E\n",
       "rkJggg==\n",
       "\" style=\"display:inline;vertical-align:middle;\" /></a> <a class=\"ProveItLink\" href=\"../../../__pv_it/_proof__alpha_l_sqrd_ineq/987576baa155293b734c6727e6cececed04073390/proof.ipynb\" style=\"text-decoration: none\">&nbsp;&#x22A2;&nbsp;&nbsp;</a><a class=\"ProveItLink\" href=\"../../../__pv_it/theorems/7b8e14bfeec30fa2c83deb2740813fd8ea169a4c0/expr.ipynb\"><img src=\"data:image/png;base64,iVBORw0KGgoAAAANSUhEUgAAAC4AAAAQBAMAAACb51DZAAAAMFBMVEX///+qqqq6urru7u4QEBBE\n",
       "RERUVFTc3NyIiIgyMjJmZmaYmJjMzMwiIiJ2dnYAAACPW0xlAAAAAXRSTlMAQObYZgAAAAlwSFlz\n",
       "AAAOxAAADsQBlSsOGwAAANZJREFUGNNjYEADjFO+TL0bsoGB4e0fFHGOsAMMEziBDO4PKOJcCxg4\n",
       "NjwEMSagiLMVMJgyBwAZvA0Q/bF3b4JoZgaGNWwHgIx6EMHANMMApoMn4RSI2g/mVMKFGVgNgkFU\n",
       "KpgzHWGDHDfYZA8wB8lysCsZeL6DSd+7d+9ehThA4BEDgwEDhwPYFQFw5absQHY6A2sC2MYLcPEc\n",
       "oA+YPzDwb3gA4nXAXblAC+i5Cwz8ymDbOQXgrpzMwB4YwMC9DsxlTlWGiKtEuob6uz6AG8v0FBIO\n",
       "UAAAaDkwDDbpPcIAAAAASUVORK5CYII=\n",
       "\" style=\"display:inline;vertical-align:middle;\" /></a></span>"
      ],
      "text/plain": [
       "{l in {-2^{t - 1} + 1 .. 2^{t - 1}}} |- l in Integer"
      ]
     },
     "execution_count": 5,
     "metadata": {},
     "output_type": "execute_result"
    }
   ],
   "source": [
    "# to replace the l_non_zero.instantiate() approach\n",
    "InSet(l, Integer).prove(assumptions=[InSet(l, _full_domain)])"
   ]
  },
  {
   "cell_type": "code",
   "execution_count": 6,
   "metadata": {},
   "outputs": [
    {
     "data": {
      "text/html": [
       "<span style=\"font-size:20px;\"><a class=\"ProveItLink\" href=\"../../../__pv_it/theorems/ed797affc893612e66c0c5986a27df66999a2d7c0/expr.ipynb\"><img src=\"data:image/png;base64,iVBORw0KGgoAAAANSUhEUgAAAR8AAAAaBAMAAAB8w0V5AAAAMFBMVEX///+qqqq6urru7u4QEBBE\n",
       "RERUVFTc3NyIiIgyMjJmZmaYmJjMzMwiIiJ2dnYAAACPW0xlAAAAAXRSTlMAQObYZgAAAAlwSFlz\n",
       "AAAOxAAADsQBlSsOGwAAAxFJREFUSMfFV01oE0EUfsmSnybbTW6KBw3WWw/uoQgqkiA9CCINiN6E\n",
       "eIiiKF2hCgqaHETqybbgD4jaS/0JNOTgwYNgDupBkMaDguLSHFTaQ7BtDlqU1pnZ3XR35u26G4I+\n",
       "2M0w8773vnnz3psNgE+5bQ32ToB/6Q7FSzIjzklL5kAeb/i3FBCVcJnfgsyFOjsMBSAUEBXL49ui\n",
       "VqTtTtXW/XpwQhzqnIY4M/3ENtH3M9RMpEZe1weck33pbiLkRMlFVdDo+Hl9mLz6qULrN6czRvFt\n",
       "2z4rN+uQUj0IvVWR6CCoSEE4U+pHWXhE3kfJE6cKySVOqUp1bF7Pg7ICOwBeHSGiiYSk0w8QQhhK\n",
       "EfbCZiZhHznMFjVF+SX4glzhoCcBhuGaJObQoDW4gRDCUDihZAOUvEEI7tJzK7Ol+DH9o1GhbQ46\n",
       "osKo9lhRBUKbvQhhKJwQOUh6cozQDHlKbBPhOxY0zkPPAozW3zy3cmNxreyHEIbCCaWmQV42CV0l\n",
       "zwu2crFjMzoh7mUerSFPQhgKJ5QlhH6ZhHYSS0Vnj4dIXkgs+Wc3hERUPCf0ZuKn1GSqNDgwR47r\n",
       "AFvZINBHS2+sZof1F7ohJKJiy/wM9UMJrZEf2rNKGZB/sN0c0nX9vWFnGuDCFBns1ql8NlONl1ld\n",
       "H9b1Dx6EENSuSVrb95hhmrrMT7YJYRIh6RRhlM2YYZTyjgjJM3YXSTxAf4kQhlrkrm3mhyR1iIRO\n",
       "mTIqLFJg1hrOI3P01K0Q04ITQlD2/m8mbIElbZIsbKNG5jRI1Zp0ZbyjE81z9SA3Ia4GJoShlBza\n",
       "GHMst7+YVZYaKDuvQXaGdkKXK5VZ7yP7boQiS8xKqx4ol6vjHQzVzbJ/SvhVjQupaF27Yb5Tz6+v\n",
       "r3oSOjFyq2aVA3zyQLkQ2rNwBkxCDzeWwl/NqwP2o1CvCPkVF0KGdO4yQap+CQ32nJDUxmAv0Z7a\n",
       "CxE+LOx+nrg2mGga66m9kKGae++WDtIs1Fy/qS8d7z2fK4hNy0/sW9r1m5q0tP8kLv860P9l/0QS\n",
       "pJP+AUXY/t/p7aHUAAAAAElFTkSuQmCC\n",
       "\" style=\"display:inline;vertical-align:middle;\" /></a> <a class=\"ProveItLink\" href=\"../../../__pv_it/_proof__alpha_l_sqrd_ineq/897b641ed5fcc73bc4a267983008fca95ba3eda10/proof.ipynb\" style=\"text-decoration: none\">&nbsp;&#x22A2;&nbsp;&nbsp;</a><a class=\"ProveItLink\" href=\"../../../__pv_it/theorems/1c0a393185c39287f75ed1ba1ed21798414f720b0/expr.ipynb\"><img src=\"data:image/png;base64,iVBORw0KGgoAAAANSUhEUgAAAJYAAAAaBAMAAACnXbhyAAAAMFBMVEX///9UVFQiIiKIiIjMzMx2\n",
       "dnYQEBDc3NxEREQyMjLu7u5mZmaqqqq6urqYmJgAAAB66f/FAAAAAXRSTlMAQObYZgAAAAlwSFlz\n",
       "AAAOxAAADsQBlSsOGwAAAnxJREFUOMulVT1oFEEU/vZuc7u391smInJGUWMKowELC9FCLCxuUQux\n",
       "0EUb7bYRIxY5JEUSRE8E04icYJMqZyEaA5KUVp5tGhMEC8GYYiHmiJ5vZv9m52bB4IP9mNl573tv\n",
       "3pt5AyQk7+K/5EcEwIK01lboF9Kpiu0QSD5KixMKA6ORyjUfAXBn5HJysTymsPiayvUoApLnov/F\n",
       "Wy6OKiwyLcnhs+ntQ4zBcAK4vzgFdAWVAXxu4bhMdNFDtir9M41qad8sZdIGB8rC9U7JETQ05n5B\n",
       "igHlTVjdPi4bjbNApQMOmouck62+ijW4+/yaXMUm8ELB9TYP1JljglwX2lZh7GqsYe0wU7loGarG\n",
       "u9Dbg+GRiMsETrAJgVaD5ukfzghmj8lN1pG4JknjpD8sPW3Fce15CQyxyZDvcjNhtfKJYirJuflJ\n",
       "3xef414r3qP+cA6YZhMOqCcOU7mpEY/uSVyDTNGPfi7O1+1jB4j4CZtwwP7kZtwi8Ri/Ja6bbKnD\n",
       "h82Y69p3NhlFCFGarW0/ABaTxbnmh5kcpJG+xQ4K59Jv0L8jwR5nNyDGtR755tR/oFP+DGmPvBaT\n",
       "fI9WQzgTF0xxj0UbdwUjy6OMBXGIR6lKNnW/M9UErsL5hp9LDueAU6KVh/xyfx0ra3ZUx3GBy2qc\n",
       "Ds4KgTG6tFQTrS5hhVVTOl+VVSr2t6BxLkdcbWyYHd8HQabX6zVFq4FxflOle1x+Q/A6SMPgatgn\n",
       "frnmzA5yrCa5TlpH6ruPTML7WLri36HortohKKWvT7B4uinKuhOCUtYV/8rVNO29EajksKqvuv/S\n",
       "7/tD2F2/L9ohKGSX71DifZTlvep9bKUQ/QWOwZk3gofMTgAAAABJRU5ErkJggg==\n",
       "\" style=\"display:inline;vertical-align:middle;\" /></a></span>"
      ],
      "text/plain": [
       "{l in ({-2^{t - 1} + 1 .. 2^{t - 1}} - {0})} |- ((2^{t} * delta) - l) in Real"
      ]
     },
     "execution_count": 6,
     "metadata": {},
     "output_type": "execute_result"
    }
   ],
   "source": [
    "_scaled_delta_minus_l__in__real.instantiate()"
   ]
  },
  {
   "cell_type": "code",
   "execution_count": 7,
   "metadata": {},
   "outputs": [
    {
     "data": {
      "text/html": [
       "<span style=\"font-size:20px;\"><a class=\"ProveItLink\" href=\"../../../__pv_it/theorems/ed797affc893612e66c0c5986a27df66999a2d7c0/expr.ipynb\"><img src=\"data:image/png;base64,iVBORw0KGgoAAAANSUhEUgAAAR8AAAAaBAMAAAB8w0V5AAAAMFBMVEX///+qqqq6urru7u4QEBBE\n",
       "RERUVFTc3NyIiIgyMjJmZmaYmJjMzMwiIiJ2dnYAAACPW0xlAAAAAXRSTlMAQObYZgAAAAlwSFlz\n",
       "AAAOxAAADsQBlSsOGwAAAxFJREFUSMfFV01oE0EUfsmSnybbTW6KBw3WWw/uoQgqkiA9CCINiN6E\n",
       "eIiiKF2hCgqaHETqybbgD4jaS/0JNOTgwYNgDupBkMaDguLSHFTaQ7BtDlqU1pnZ3XR35u26G4I+\n",
       "2M0w8773vnnz3psNgE+5bQ32ToB/6Q7FSzIjzklL5kAeb/i3FBCVcJnfgsyFOjsMBSAUEBXL49ui\n",
       "VqTtTtXW/XpwQhzqnIY4M/3ENtH3M9RMpEZe1weck33pbiLkRMlFVdDo+Hl9mLz6qULrN6czRvFt\n",
       "2z4rN+uQUj0IvVWR6CCoSEE4U+pHWXhE3kfJE6cKySVOqUp1bF7Pg7ICOwBeHSGiiYSk0w8QQhhK\n",
       "EfbCZiZhHznMFjVF+SX4glzhoCcBhuGaJObQoDW4gRDCUDihZAOUvEEI7tJzK7Ol+DH9o1GhbQ46\n",
       "osKo9lhRBUKbvQhhKJwQOUh6cozQDHlKbBPhOxY0zkPPAozW3zy3cmNxreyHEIbCCaWmQV42CV0l\n",
       "zwu2crFjMzoh7mUerSFPQhgKJ5QlhH6ZhHYSS0Vnj4dIXkgs+Wc3hERUPCf0ZuKn1GSqNDgwR47r\n",
       "AFvZINBHS2+sZof1F7ohJKJiy/wM9UMJrZEf2rNKGZB/sN0c0nX9vWFnGuDCFBns1ql8NlONl1ld\n",
       "H9b1Dx6EENSuSVrb95hhmrrMT7YJYRIh6RRhlM2YYZTyjgjJM3YXSTxAf4kQhlrkrm3mhyR1iIRO\n",
       "mTIqLFJg1hrOI3P01K0Q04ITQlD2/m8mbIElbZIsbKNG5jRI1Zp0ZbyjE81z9SA3Ia4GJoShlBza\n",
       "GHMst7+YVZYaKDuvQXaGdkKXK5VZ7yP7boQiS8xKqx4ol6vjHQzVzbJ/SvhVjQupaF27Yb5Tz6+v\n",
       "r3oSOjFyq2aVA3zyQLkQ2rNwBkxCDzeWwl/NqwP2o1CvCPkVF0KGdO4yQap+CQ32nJDUxmAv0Z7a\n",
       "CxE+LOx+nrg2mGga66m9kKGae++WDtIs1Fy/qS8d7z2fK4hNy0/sW9r1m5q0tP8kLv860P9l/0QS\n",
       "pJP+AUXY/t/p7aHUAAAAAElFTkSuQmCC\n",
       "\" style=\"display:inline;vertical-align:middle;\" /></a> <a class=\"ProveItLink\" href=\"../../../__pv_it/_proof__alpha_l_sqrd_ineq/86c5fb66eb86f3f6e684ec86b08dc72ea5636c760/proof.ipynb\" style=\"text-decoration: none\">&nbsp;&#x22A2;&nbsp;&nbsp;</a><a class=\"ProveItLink\" href=\"../../../__pv_it/theorems/98aae8bf49ce8f648daaf118b44c80de0951dfb60/expr.ipynb\"><img src=\"data:image/png;base64,iVBORw0KGgoAAAANSUhEUgAAAM8AAAAzCAMAAAAHD6wPAAAAOVBMVEX///9RUVEMDAwGBga6urqq\n",
       "qqpmZmbu7u6IiIgiIiIQEBDc3NwyMjJ2dnaYmJhUVFTMzMxEREQAAABmSgG3AAAAAXRSTlMAQObY\n",
       "ZgAAAAlwSFlzAAAOxAAADsQBlSsOGwAABCZJREFUaN69mtm2pCoMQOm+zDP8/8dexbYEBA1VIk9n\n",
       "rWMlbMhEACHwoOjH8bOAoRH8zQfyVw2rABbYOzjOojd4kBevADmDnucxIvqTACJewLEaTeBBNjYE\n",
       "GDcdR0k1hYfqlgBhZ/MIjqbwlHJ3AUROdiEr0RQeVbjPIUAPRW5KYJ/FZWwLJc0cntJ9DgE4qgGc\n",
       "vrsZGbexr8+28TyyOTwudARoeEi4iFTGYGK85f5jBRuPgEkf55G8I4BEqAf5vq/5xQ65Qjyz6fSx\n",
       "j34Oj6/M6hDAIgfK0NeusBiAYxWPA070v1EeLrsCAjCp3mykXywrl5R4JNCY/w5XhA6xjgALjAji\n",
       "envokslixeMjML0N29si2HQEMJhSf709bP13xCUPhwbPcR7MeE8AzCiqAHky6NXWoil5AnSe+3eK\n",
       "ahkga2Cp6S4IzIFudjGQqpJeeWQY5Fl+j903FUvOY+JYgDSG0/s1XHhYpIPTcd9WX7IoHfBIfaGX\n",
       "nWBCAXg8OBXs0+HuAR6QWrfXBjZZpwkAHhLJ4HQY+BcXPGez4EEsozxguCPyg6qKhccCq4NsOiGy\n",
       "n3lQLHcZa34W+gldG7y/XciFpwzXp4r1PB3iSAwP8BQylGYX4Y3tPPaex+SLfa5YT9NZ61333QYV\n",
       "PLKwLK2axyey/2FgPrfw0GxujYq1no5at5OAbbTPI4oEpNvhuuYx9zwuXlWsLB6a/nwy9lGRMy2O\n",
       "8YGMp3EI+PAU0U7uMnIrxHtMZxsILvfnrKDBU1esgpbLm0zYx9/9p+Bh4XJ//sUDAokHtPSFumKt\n",
       "psPSzkC6W2P2Jq55QtjSK4PEA3VVsdbTSTyaoIfjAefNeGCLhk3qfrHbeO2vKtZ6OoavEXuE4ghd\n",
       "EvUL7NYSZadYsdY70pcODcinp4r1tLyGczOCw2In/5QZjrmAT0svP98warjzm52ym3oHf2Mud503\n",
       "SvV2YUF0p96pVwWbUNc7uhUmCGupyepR+zyPCulIgJEyQhv/bT1KWypNQ01+/hk+L0DOlclnpCwd\n",
       "QxaNDkBMaQW0/MibqTl4hH6eR6aJuDV0ZlPKBYBO+a1KnrfVHDxOTtiflE/cEmqwbAtwoJQcKFBN\n",
       "xmOhxeVwP0TEdPhjLf+BnfJBFwUiVv0qYHYc7Scml6ccGXYWoGCnYgYIvnlkmdpPTG1xT63/oZ9o\n",
       "NExNzkPlFHuj4UKAg16iSj+iJvFgYEYd47HuSgC4CXNX+pZq/t2X0Od5yJr2VO9+wcIPuNoOqNl4\n",
       "7PP3WT5l8arFIZs2fxcSrrputRo56b5RCboO0REwdN/YbpWc1WT3p7ANGuAR2yFY9xpeQwcO5cfU\n",
       "oNtbsC/zaU8AjrOfvPhJ7ynaAgRBswcP7/G88N5l0nukpgCs0Rvjvsfx0Hsx/dIDuNv3fP5nL13T\n",
       "yWSc/wHATTAPflUjiwAAAABJRU5ErkJggg==\n",
       "\" style=\"display:inline;vertical-align:middle;\" /></a></span>"
      ],
      "text/plain": [
       "{l in ({-2^{t - 1} + 1 .. 2^{t - 1}} - {0})} |- (pi * |delta - (l / 2^{t})|) in (0,pi / 2]"
      ]
     },
     "execution_count": 7,
     "metadata": {},
     "output_type": "execute_result"
    }
   ],
   "source": [
    "_scaled_abs_delta_diff_interval.instantiate()"
   ]
  },
  {
   "cell_type": "code",
   "execution_count": 8,
   "metadata": {},
   "outputs": [
    {
     "data": {
      "text/html": [
       "<span style=\"font-size:20px;\"><a class=\"ProveItLink\" href=\"../../../__pv_it/theorems/ed797affc893612e66c0c5986a27df66999a2d7c0/expr.ipynb\"><img src=\"data:image/png;base64,iVBORw0KGgoAAAANSUhEUgAAAR8AAAAaBAMAAAB8w0V5AAAAMFBMVEX///+qqqq6urru7u4QEBBE\n",
       "RERUVFTc3NyIiIgyMjJmZmaYmJjMzMwiIiJ2dnYAAACPW0xlAAAAAXRSTlMAQObYZgAAAAlwSFlz\n",
       "AAAOxAAADsQBlSsOGwAAAxFJREFUSMfFV01oE0EUfsmSnybbTW6KBw3WWw/uoQgqkiA9CCINiN6E\n",
       "eIiiKF2hCgqaHETqybbgD4jaS/0JNOTgwYNgDupBkMaDguLSHFTaQ7BtDlqU1pnZ3XR35u26G4I+\n",
       "2M0w8773vnnz3psNgE+5bQ32ToB/6Q7FSzIjzklL5kAeb/i3FBCVcJnfgsyFOjsMBSAUEBXL49ui\n",
       "VqTtTtXW/XpwQhzqnIY4M/3ENtH3M9RMpEZe1weck33pbiLkRMlFVdDo+Hl9mLz6qULrN6czRvFt\n",
       "2z4rN+uQUj0IvVWR6CCoSEE4U+pHWXhE3kfJE6cKySVOqUp1bF7Pg7ICOwBeHSGiiYSk0w8QQhhK\n",
       "EfbCZiZhHznMFjVF+SX4glzhoCcBhuGaJObQoDW4gRDCUDihZAOUvEEI7tJzK7Ol+DH9o1GhbQ46\n",
       "osKo9lhRBUKbvQhhKJwQOUh6cozQDHlKbBPhOxY0zkPPAozW3zy3cmNxreyHEIbCCaWmQV42CV0l\n",
       "zwu2crFjMzoh7mUerSFPQhgKJ5QlhH6ZhHYSS0Vnj4dIXkgs+Wc3hERUPCf0ZuKn1GSqNDgwR47r\n",
       "AFvZINBHS2+sZof1F7ohJKJiy/wM9UMJrZEf2rNKGZB/sN0c0nX9vWFnGuDCFBns1ql8NlONl1ld\n",
       "H9b1Dx6EENSuSVrb95hhmrrMT7YJYRIh6RRhlM2YYZTyjgjJM3YXSTxAf4kQhlrkrm3mhyR1iIRO\n",
       "mTIqLFJg1hrOI3P01K0Q04ITQlD2/m8mbIElbZIsbKNG5jRI1Zp0ZbyjE81z9SA3Ia4GJoShlBza\n",
       "GHMst7+YVZYaKDuvQXaGdkKXK5VZ7yP7boQiS8xKqx4ol6vjHQzVzbJ/SvhVjQupaF27Yb5Tz6+v\n",
       "r3oSOjFyq2aVA3zyQLkQ2rNwBkxCDzeWwl/NqwP2o1CvCPkVF0KGdO4yQap+CQ32nJDUxmAv0Z7a\n",
       "CxE+LOx+nrg2mGga66m9kKGae++WDtIs1Fy/qS8d7z2fK4hNy0/sW9r1m5q0tP8kLv860P9l/0QS\n",
       "pJP+AUXY/t/p7aHUAAAAAElFTkSuQmCC\n",
       "\" style=\"display:inline;vertical-align:middle;\" /></a> <a class=\"ProveItLink\" href=\"../../../__pv_it/_proof__alpha_l_sqrd_ineq/b3c92da35d61197b44defea7dbb76cfe6a8546280/proof.ipynb\" style=\"text-decoration: none\">&nbsp;&#x22A2;&nbsp;&nbsp;</a><a class=\"ProveItLink\" href=\"../../../__pv_it/theorems/a18b214ce0152a899e42592b64dfd1289740c2190/expr.ipynb\"><img src=\"data:image/png;base64,iVBORw0KGgoAAAANSUhEUgAAADoAAAArCAMAAAAe72skAAAAPFBMVEX///8NDQ0WFhYLCwsYGBgi\n",
       "IiLMzMyYmJiqqqqIiIju7u5UVFS6urp2dnZEREQQEBAyMjJmZmbc3NwAAAAACQg3AAAAAXRSTlMA\n",
       "QObYZgAAAAlwSFlzAAAOxAAADsQBlSsOGwAAATRJREFUSMfFVctuxCAMZNvlFQPB+P//teCt2k0g\n",
       "CviyPkSKlMlgZsZWaq2iJqOEZUmKVJjFUO2lyPKRViGJobu4VUNFCvW7+LwJ1CaEklVRCg3b8Z4K\n",
       "5j31/WN/Nosn0voaoPvOzEgIw9bTjOU8jCSEmeY3cgPSOfETdUcOU6QOHHVXkmdIbc09/NGi5np+\n",
       "tyfchbf+350TPEXKCTQnaMBJWzboHSl1VYUxv/2+9fr1eHV80ytD81HYPJes6Js8R7VwMkjR+1Mc\n",
       "bkkv79/FW+Ne/nNMWhDzK03uannYMWlp+kcKqkSd4ziQekwK3N++93q8BfVieLPNodmWFqciaH5W\n",
       "GwTZMNbEQ2Vb33eGqoHQq7g+yNnVBu06KYpXpAUpkg1aJFvSsMu8YNMVja20SFGuf+f/AAsoDS1/\n",
       "+gAzAAAAAElFTkSuQmCC\n",
       "\" style=\"display:inline;vertical-align:middle;\" /></a></span>"
      ],
      "text/plain": [
       "{l in ({-2^{t - 1} + 1 .. 2^{t - 1}} - {0})} |- delta != (l / 2^{t})"
      ]
     },
     "execution_count": 8,
     "metadata": {},
     "output_type": "execute_result"
    }
   ],
   "source": [
    "_delta_not_eq_scaledNonzeroInt.instantiate()"
   ]
  },
  {
   "cell_type": "code",
   "execution_count": 9,
   "metadata": {},
   "outputs": [
    {
     "data": {
      "text/html": [
       "<span style=\"font-size:20px;\"><a class=\"ProveItLink\" href=\"../../../__pv_it/theorems/ed797affc893612e66c0c5986a27df66999a2d7c0/expr.ipynb\"><img src=\"data:image/png;base64,iVBORw0KGgoAAAANSUhEUgAAAR8AAAAaBAMAAAB8w0V5AAAAMFBMVEX///+qqqq6urru7u4QEBBE\n",
       "RERUVFTc3NyIiIgyMjJmZmaYmJjMzMwiIiJ2dnYAAACPW0xlAAAAAXRSTlMAQObYZgAAAAlwSFlz\n",
       "AAAOxAAADsQBlSsOGwAAAxFJREFUSMfFV01oE0EUfsmSnybbTW6KBw3WWw/uoQgqkiA9CCINiN6E\n",
       "eIiiKF2hCgqaHETqybbgD4jaS/0JNOTgwYNgDupBkMaDguLSHFTaQ7BtDlqU1pnZ3XR35u26G4I+\n",
       "2M0w8773vnnz3psNgE+5bQ32ToB/6Q7FSzIjzklL5kAeb/i3FBCVcJnfgsyFOjsMBSAUEBXL49ui\n",
       "VqTtTtXW/XpwQhzqnIY4M/3ENtH3M9RMpEZe1weck33pbiLkRMlFVdDo+Hl9mLz6qULrN6czRvFt\n",
       "2z4rN+uQUj0IvVWR6CCoSEE4U+pHWXhE3kfJE6cKySVOqUp1bF7Pg7ICOwBeHSGiiYSk0w8QQhhK\n",
       "EfbCZiZhHznMFjVF+SX4glzhoCcBhuGaJObQoDW4gRDCUDihZAOUvEEI7tJzK7Ol+DH9o1GhbQ46\n",
       "osKo9lhRBUKbvQhhKJwQOUh6cozQDHlKbBPhOxY0zkPPAozW3zy3cmNxreyHEIbCCaWmQV42CV0l\n",
       "zwu2crFjMzoh7mUerSFPQhgKJ5QlhH6ZhHYSS0Vnj4dIXkgs+Wc3hERUPCf0ZuKn1GSqNDgwR47r\n",
       "AFvZINBHS2+sZof1F7ohJKJiy/wM9UMJrZEf2rNKGZB/sN0c0nX9vWFnGuDCFBns1ql8NlONl1ld\n",
       "H9b1Dx6EENSuSVrb95hhmrrMT7YJYRIh6RRhlM2YYZTyjgjJM3YXSTxAf4kQhlrkrm3mhyR1iIRO\n",
       "mTIqLFJg1hrOI3P01K0Q04ITQlD2/m8mbIElbZIsbKNG5jRI1Zp0ZbyjE81z9SA3Ia4GJoShlBza\n",
       "GHMst7+YVZYaKDuvQXaGdkKXK5VZ7yP7boQiS8xKqx4ol6vjHQzVzbJ/SvhVjQupaF27Yb5Tz6+v\n",
       "r3oSOjFyq2aVA3zyQLkQ2rNwBkxCDzeWwl/NqwP2o1CvCPkVF0KGdO4yQap+CQ32nJDUxmAv0Z7a\n",
       "CxE+LOx+nrg2mGga66m9kKGae++WDtIs1Fy/qS8d7z2fK4hNy0/sW9r1m5q0tP8kLv860P9l/0QS\n",
       "pJP+AUXY/t/p7aHUAAAAAElFTkSuQmCC\n",
       "\" style=\"display:inline;vertical-align:middle;\" /></a> <a class=\"ProveItLink\" href=\"../../../__pv_it/_proof__alpha_l_sqrd_ineq/94e49edbae3b5d2bfa98772954cf052337b361e50/proof.ipynb\" style=\"text-decoration: none\">&nbsp;&#x22A2;&nbsp;&nbsp;</a><a class=\"ProveItLink\" href=\"../../../__pv_it/theorems/01170b902d36c29d947fa99d44490c44d750bd310/expr.ipynb\"><img src=\"data:image/png;base64,iVBORw0KGgoAAAANSUhEUgAAAFwAAAAaCAMAAAANMMsbAAAAPFBMVEX///8NDQ0WFhYLCwsYGBhU\n",
       "VFQiIiKIiIjMzMx2dnYQEBDc3NxEREQyMjLu7u5mZmaqqqq6urqYmJgAAACZCzMOAAAAAXRSTlMA\n",
       "QObYZgAAAAlwSFlzAAAOxAAADsQBlSsOGwAAAaxJREFUSMetVtmShCAMZA/uG/7/XxeiIiAwUrV5\n",
       "0BoNbadzDUJP0xL9owVf/zJx7W23sF3r7vTaXaoNbNOASU40Z+tA6XtwFTrJ3Yyy1ULlfBAzEezx\n",
       "XIrzpNUKGMfJUcQR8ji/pHj4ntV6cRITmuVFSB5TZr2YhYhNSfnw+6pRM+S6iFAqGMpPCKBlxprf\n",
       "hHUYEW/jsSmV7GAh4IajRJYiPhbGxCsbdlQwqm0PktJOyREy3HDSidkwKxZ1yUEH0vmWuMyS47oQ\n",
       "yap/HHbxZOwHond9DZKrKkIWFxUcdI7MnI53cJaA/f7k680eZ1xdRUPwoi9TOpA7QWX0nwaSyDzJ\n",
       "3fuDNJmoayYXY/MA993EYZlLxTyMeJdvxwBHqmwtiR8pL+AuN5OcTVsDcEHXvCrNv78O5Qs/lbrl\n",
       "DDf7Q6PSWesjAL/GzqNadH8uBcpLyUpis5FpQjnNxXgpKJZDG/re0EKCRLDFKOeU8iIF/kAchWNk\n",
       "Cb+/urrZ4vh0a/Ft7H4q6mmmmNjfua0qYUEPu11w0s0/83aHviHeTaDlxnV7qm9t//5/yyez5q3n\n",
       "H7yxEStezkC9AAAAAElFTkSuQmCC\n",
       "\" style=\"display:inline;vertical-align:middle;\" /></a></span>"
      ],
      "text/plain": [
       "{l in ({-2^{t - 1} + 1 .. 2^{t - 1}} - {0})} |- (2^{t} * delta) != l"
      ]
     },
     "execution_count": 9,
     "metadata": {},
     "output_type": "execute_result"
    }
   ],
   "source": [
    "_scaled_delta_not_eq_nonzeroInt.instantiate()"
   ]
  },
  {
   "cell_type": "code",
   "execution_count": 10,
   "metadata": {},
   "outputs": [
    {
     "data": {
      "text/html": [
       "<span style=\"font-size:20px;\"><a class=\"ProveItLink\" href=\"../../../__pv_it/theorems/ed797affc893612e66c0c5986a27df66999a2d7c0/expr.ipynb\"><img src=\"data:image/png;base64,iVBORw0KGgoAAAANSUhEUgAAAR8AAAAaBAMAAAB8w0V5AAAAMFBMVEX///+qqqq6urru7u4QEBBE\n",
       "RERUVFTc3NyIiIgyMjJmZmaYmJjMzMwiIiJ2dnYAAACPW0xlAAAAAXRSTlMAQObYZgAAAAlwSFlz\n",
       "AAAOxAAADsQBlSsOGwAAAxFJREFUSMfFV01oE0EUfsmSnybbTW6KBw3WWw/uoQgqkiA9CCINiN6E\n",
       "eIiiKF2hCgqaHETqybbgD4jaS/0JNOTgwYNgDupBkMaDguLSHFTaQ7BtDlqU1pnZ3XR35u26G4I+\n",
       "2M0w8773vnnz3psNgE+5bQ32ToB/6Q7FSzIjzklL5kAeb/i3FBCVcJnfgsyFOjsMBSAUEBXL49ui\n",
       "VqTtTtXW/XpwQhzqnIY4M/3ENtH3M9RMpEZe1weck33pbiLkRMlFVdDo+Hl9mLz6qULrN6czRvFt\n",
       "2z4rN+uQUj0IvVWR6CCoSEE4U+pHWXhE3kfJE6cKySVOqUp1bF7Pg7ICOwBeHSGiiYSk0w8QQhhK\n",
       "EfbCZiZhHznMFjVF+SX4glzhoCcBhuGaJObQoDW4gRDCUDihZAOUvEEI7tJzK7Ol+DH9o1GhbQ46\n",
       "osKo9lhRBUKbvQhhKJwQOUh6cozQDHlKbBPhOxY0zkPPAozW3zy3cmNxreyHEIbCCaWmQV42CV0l\n",
       "zwu2crFjMzoh7mUerSFPQhgKJ5QlhH6ZhHYSS0Vnj4dIXkgs+Wc3hERUPCf0ZuKn1GSqNDgwR47r\n",
       "AFvZINBHS2+sZof1F7ohJKJiy/wM9UMJrZEf2rNKGZB/sN0c0nX9vWFnGuDCFBns1ql8NlONl1ld\n",
       "H9b1Dx6EENSuSVrb95hhmrrMT7YJYRIh6RRhlM2YYZTyjgjJM3YXSTxAf4kQhlrkrm3mhyR1iIRO\n",
       "mTIqLFJg1hrOI3P01K0Q04ITQlD2/m8mbIElbZIsbKNG5jRI1Zp0ZbyjE81z9SA3Ia4GJoShlBza\n",
       "GHMst7+YVZYaKDuvQXaGdkKXK5VZ7yP7boQiS8xKqx4ol6vjHQzVzbJ/SvhVjQupaF27Yb5Tz6+v\n",
       "r3oSOjFyq2aVA3zyQLkQ2rNwBkxCDzeWwl/NqwP2o1CvCPkVF0KGdO4yQap+CQ32nJDUxmAv0Z7a\n",
       "CxE+LOx+nrg2mGga66m9kKGae++WDtIs1Fy/qS8d7z2fK4hNy0/sW9r1m5q0tP8kLv860P9l/0QS\n",
       "pJP+AUXY/t/p7aHUAAAAAElFTkSuQmCC\n",
       "\" style=\"display:inline;vertical-align:middle;\" /></a> <a class=\"ProveItLink\" href=\"../../../__pv_it/_proof__alpha_l_sqrd_ineq/36005d31b7cf0a2bfece36c0ad7cee087f08f2460/proof.ipynb\" style=\"text-decoration: none\">&nbsp;&#x22A2;&nbsp;&nbsp;</a><a class=\"ProveItLink\" href=\"../../../__pv_it/theorems/ef4d30e95a6ad4022acf75b73087ace9fd2151de0/expr.ipynb\"><img src=\"data:image/png;base64,iVBORw0KGgoAAAANSUhEUgAAADwAAAASBAMAAAD1dKAHAAAAMFBMVEX///+YmJgyMjJmZmZERESI\n",
       "iIiqqqoQEBDu7u66uroiIiLc3NzMzMxUVFR2dnYAAAB9mGmPAAAAAXRSTlMAQObYZgAAAAlwSFlz\n",
       "AAAOxAAADsQBlSsOGwAAAPBJREFUKM9jYMABOJ4sUt3zAJcsQ2whQ/MXA1yyzJFAnSI4pQ+zNDAw\n",
       "8GJIh6xapQCib7CA7BdAk50UAWU4bIYJvXt7AMbk1oAxLpyDsnZN4KjmToCwmTZABXkeTISyShkY\n",
       "nFkbej+ApeHGGEyF+gAobsTHwAZ20PFVQOAAtnsfRJodyHv+goEZHEAtcDd6sEDo/gAGhvcJDFwT\n",
       "QBwuuPRkkL8ZJjDwA6WfA1WBBVkDEKF2AUgoMDA7MDDa8zAkQUTVEOGjvKFtMcjbghHMTxnsIIK9\n",
       "ng3wGKtfvAGueCVUeJ4XJFDRwIcABnzAdAJWYQC2KDplSIQKVwAAAABJRU5ErkJggg==\n",
       "\" style=\"display:inline;vertical-align:middle;\" /></a></span>"
      ],
      "text/plain": [
       "{l in ({-2^{t - 1} + 1 .. 2^{t - 1}} - {0})} |- alpha_{l} in Complex"
      ]
     },
     "execution_count": 10,
     "metadata": {},
     "output_type": "execute_result"
    }
   ],
   "source": [
    "_all_alpha_l_is_complex.instantiate()"
   ]
  },
  {
   "cell_type": "code",
   "execution_count": 11,
   "metadata": {},
   "outputs": [],
   "source": [
    "#_all_abs_alpha_l_are_nonneg.instantiate()"
   ]
  },
  {
   "cell_type": "code",
   "execution_count": 12,
   "metadata": {},
   "outputs": [],
   "source": [
    "#_all_abs_alpha_l_sqrd_are_real.instantiate()"
   ]
  },
  {
   "cell_type": "code",
   "execution_count": 13,
   "metadata": {},
   "outputs": [
    {
     "data": {
      "text/html": [
       "<span style=\"font-size:20px;\"><a class=\"ProveItLink\" href=\"../../../__pv_it/theorems/ed797affc893612e66c0c5986a27df66999a2d7c0/expr.ipynb\"><img src=\"data:image/png;base64,iVBORw0KGgoAAAANSUhEUgAAAR8AAAAaBAMAAAB8w0V5AAAAMFBMVEX///+qqqq6urru7u4QEBBE\n",
       "RERUVFTc3NyIiIgyMjJmZmaYmJjMzMwiIiJ2dnYAAACPW0xlAAAAAXRSTlMAQObYZgAAAAlwSFlz\n",
       "AAAOxAAADsQBlSsOGwAAAxFJREFUSMfFV01oE0EUfsmSnybbTW6KBw3WWw/uoQgqkiA9CCINiN6E\n",
       "eIiiKF2hCgqaHETqybbgD4jaS/0JNOTgwYNgDupBkMaDguLSHFTaQ7BtDlqU1pnZ3XR35u26G4I+\n",
       "2M0w8773vnnz3psNgE+5bQ32ToB/6Q7FSzIjzklL5kAeb/i3FBCVcJnfgsyFOjsMBSAUEBXL49ui\n",
       "VqTtTtXW/XpwQhzqnIY4M/3ENtH3M9RMpEZe1weck33pbiLkRMlFVdDo+Hl9mLz6qULrN6czRvFt\n",
       "2z4rN+uQUj0IvVWR6CCoSEE4U+pHWXhE3kfJE6cKySVOqUp1bF7Pg7ICOwBeHSGiiYSk0w8QQhhK\n",
       "EfbCZiZhHznMFjVF+SX4glzhoCcBhuGaJObQoDW4gRDCUDihZAOUvEEI7tJzK7Ol+DH9o1GhbQ46\n",
       "osKo9lhRBUKbvQhhKJwQOUh6cozQDHlKbBPhOxY0zkPPAozW3zy3cmNxreyHEIbCCaWmQV42CV0l\n",
       "zwu2crFjMzoh7mUerSFPQhgKJ5QlhH6ZhHYSS0Vnj4dIXkgs+Wc3hERUPCf0ZuKn1GSqNDgwR47r\n",
       "AFvZINBHS2+sZof1F7ohJKJiy/wM9UMJrZEf2rNKGZB/sN0c0nX9vWFnGuDCFBns1ql8NlONl1ld\n",
       "H9b1Dx6EENSuSVrb95hhmrrMT7YJYRIh6RRhlM2YYZTyjgjJM3YXSTxAf4kQhlrkrm3mhyR1iIRO\n",
       "mTIqLFJg1hrOI3P01K0Q04ITQlD2/m8mbIElbZIsbKNG5jRI1Zp0ZbyjE81z9SA3Ia4GJoShlBza\n",
       "GHMst7+YVZYaKDuvQXaGdkKXK5VZ7yP7boQiS8xKqx4ol6vjHQzVzbJ/SvhVjQupaF27Yb5Tz6+v\n",
       "r3oSOjFyq2aVA3zyQLkQ2rNwBkxCDzeWwl/NqwP2o1CvCPkVF0KGdO4yQap+CQ32nJDUxmAv0Z7a\n",
       "CxE+LOx+nrg2mGga66m9kKGae++WDtIs1Fy/qS8d7z2fK4hNy0/sW9r1m5q0tP8kLv860P9l/0QS\n",
       "pJP+AUXY/t/p7aHUAAAAAElFTkSuQmCC\n",
       "\" style=\"display:inline;vertical-align:middle;\" /></a> <a class=\"ProveItLink\" href=\"../../../__pv_it/_proof__alpha_l_sqrd_ineq/428ec54325d2c785d38cd4e6e9193ca1a6362b240/proof.ipynb\" style=\"text-decoration: none\">&nbsp;&#x22A2;&nbsp;&nbsp;</a><a class=\"ProveItLink\" href=\"../../../__pv_it/theorems/2cd54318b98124018e69cc6126a3d22285df188a0/expr.ipynb\"><img src=\"data:image/png;base64,iVBORw0KGgoAAAANSUhEUgAAAIwAAAAdCAMAAABPJHTqAAAAPFBMVEX///8NDQ0WFhYLCwsYGBgy\n",
       "MjK6urqIiIh2dnbMzMxERETc3NyYmJiqqqpmZmYiIiIQEBBUVFTu7u4AAABdz/weAAAAAXRSTlMA\n",
       "QObYZgAAAAlwSFlzAAAOxAAADsQBlSsOGwAAAg9JREFUSMfNV9uWpCAMdHeWa4Bw+f9/HRFsQRFs\n",
       "zzjbebClRahUKglO0x2DB2beNab7AMj2nLKHsWg+mCALPph6FIsnoxm2HBD/4wiUeN2a7Ks+ixbI\n",
       "6k1zy2POnTtzw/K938rTk9mqDqO9Q030wOBYMTlK5jRRDK2G5I5qwrwGBDHEnP2meOYx+ip+3N2R\n",
       "hS/AAIbF4ODeegdWnizEWUWaIjd1ynOYvPGgJt7iGnXeUQR6rRLYNsMjKYlIvZ8xzD8MPM/CzmDS\n",
       "2C4Q2Mw9OdabUFleNDS3kseddzkZ/xF2YVlOIiXlMo5g0oMExoqkHiFXq/UMW0LTJjOyEKd3hoQd\n",
       "mLgAwFYsqDsNk4/eyk6Y1NYGdCtDxU7VbAcGpBDiFUnDKpc2MHLZBmFuQZ3uheaVUUoOOkYJxjuL\n",
       "kVRbxDlV8SKOG5iUqWAYbymQaraUGTzWgmraPt0zGG9RK3u9FggctKUYwrJ/YSOaBNpgXFwcwvWa\n",
       "jaJ/fhEzIG2mlUoowRtc7N9XvLojmLC8Ja/X7FHni7oGo2DXV7vEZDAi1wR+vTLK7vHNiE4Lz4o5\n",
       "urOC0RDtjdbqZa+G+4mNkB+JeYXp/YMhnL9CZpJLkdRtKmnm75+knIZmTDpvPH9y7p791tRGqyhD\n",
       "9mtYdCsB+Ho+MBgI+6/EOGcDcWr6ddN8+hx74Gvh/mfGJxGDH0TM1Gts34D3GEnUBFdGAAAAAElF\n",
       "TkSuQmCC\n",
       "\" style=\"display:inline;vertical-align:middle;\" /></a></span>"
      ],
      "text/plain": [
       "{l in ({-2^{t - 1} + 1 .. 2^{t - 1}} - {0})} |- e^{2 * pi * i * (delta - (l / 2^{t}))} != 1"
      ]
     },
     "execution_count": 13,
     "metadata": {},
     "output_type": "execute_result"
    }
   ],
   "source": [
    "_delta_diff_exp_not_one.instantiate()"
   ]
  },
  {
   "cell_type": "code",
   "execution_count": 14,
   "metadata": {},
   "outputs": [
    {
     "data": {
      "text/html": [
       "<strong id=\"_alpha_l_summed_inst\">_alpha_l_summed_inst:</strong> <span style=\"font-size:20px;\"><a class=\"ProveItLink\" href=\"../../../__pv_it/theorems/ed797affc893612e66c0c5986a27df66999a2d7c0/expr.ipynb\"><img src=\"data:image/png;base64,iVBORw0KGgoAAAANSUhEUgAAAR8AAAAaBAMAAAB8w0V5AAAAMFBMVEX///+qqqq6urru7u4QEBBE\n",
       "RERUVFTc3NyIiIgyMjJmZmaYmJjMzMwiIiJ2dnYAAACPW0xlAAAAAXRSTlMAQObYZgAAAAlwSFlz\n",
       "AAAOxAAADsQBlSsOGwAAAxFJREFUSMfFV01oE0EUfsmSnybbTW6KBw3WWw/uoQgqkiA9CCINiN6E\n",
       "eIiiKF2hCgqaHETqybbgD4jaS/0JNOTgwYNgDupBkMaDguLSHFTaQ7BtDlqU1pnZ3XR35u26G4I+\n",
       "2M0w8773vnnz3psNgE+5bQ32ToB/6Q7FSzIjzklL5kAeb/i3FBCVcJnfgsyFOjsMBSAUEBXL49ui\n",
       "VqTtTtXW/XpwQhzqnIY4M/3ENtH3M9RMpEZe1weck33pbiLkRMlFVdDo+Hl9mLz6qULrN6czRvFt\n",
       "2z4rN+uQUj0IvVWR6CCoSEE4U+pHWXhE3kfJE6cKySVOqUp1bF7Pg7ICOwBeHSGiiYSk0w8QQhhK\n",
       "EfbCZiZhHznMFjVF+SX4glzhoCcBhuGaJObQoDW4gRDCUDihZAOUvEEI7tJzK7Ol+DH9o1GhbQ46\n",
       "osKo9lhRBUKbvQhhKJwQOUh6cozQDHlKbBPhOxY0zkPPAozW3zy3cmNxreyHEIbCCaWmQV42CV0l\n",
       "zwu2crFjMzoh7mUerSFPQhgKJ5QlhH6ZhHYSS0Vnj4dIXkgs+Wc3hERUPCf0ZuKn1GSqNDgwR47r\n",
       "AFvZINBHS2+sZof1F7ohJKJiy/wM9UMJrZEf2rNKGZB/sN0c0nX9vWFnGuDCFBns1ql8NlONl1ld\n",
       "H9b1Dx6EENSuSVrb95hhmrrMT7YJYRIh6RRhlM2YYZTyjgjJM3YXSTxAf4kQhlrkrm3mhyR1iIRO\n",
       "mTIqLFJg1hrOI3P01K0Q04ITQlD2/m8mbIElbZIsbKNG5jRI1Zp0ZbyjE81z9SA3Ia4GJoShlBza\n",
       "GHMst7+YVZYaKDuvQXaGdkKXK5VZ7yP7boQiS8xKqx4ol6vjHQzVzbJ/SvhVjQupaF27Yb5Tz6+v\n",
       "r3oSOjFyq2aVA3zyQLkQ2rNwBkxCDzeWwl/NqwP2o1CvCPkVF0KGdO4yQap+CQ32nJDUxmAv0Z7a\n",
       "CxE+LOx+nrg2mGga66m9kKGae++WDtIs1Fy/qS8d7z2fK4hNy0/sW9r1m5q0tP8kLv860P9l/0QS\n",
       "pJP+AUXY/t/p7aHUAAAAAElFTkSuQmCC\n",
       "\" style=\"display:inline;vertical-align:middle;\" /></a> <a class=\"ProveItLink\" href=\"../../../__pv_it/_proof__alpha_l_sqrd_ineq/81ff0a679fae80ab70a56ce00b45fc8f0bb0c90f0/proof.ipynb\" style=\"text-decoration: none\">&nbsp;&#x22A2;&nbsp;&nbsp;</a><a class=\"ProveItLink\" href=\"../../../__pv_it/theorems/d51f4263a518d8baf51506d4296bcb04932927750/expr.ipynb\"><img src=\"data:image/png;base64,iVBORw0KGgoAAAANSUhEUgAAARkAAABABAMAAADcyB6vAAAAMFBMVEX///+YmJgyMjJmZmZERESI\n",
       "iIiqqqoQEBDu7u66uroiIiLc3NzMzMxUVFR2dnYAAAB9mGmPAAAAAXRSTlMAQObYZgAAAAlwSFlz\n",
       "AAAOxAAADsQBlSsOGwAABlNJREFUaN7NWX9oW0Uc/yYvaV7yYlJ/4YTBrEwRZGtrLY4qa0SHE4VF\n",
       "FH/N2TqQgcKWiT/qqvYxRVFZk3/mRBgGirPbCn3aykYrJFBhUAYt+IcyKQ3C2Bi0je0617Xb8+7d\n",
       "ey/vx+XepXHZDvLje7ncfe6+P+/zAK5zk9BLcfQpZQWP1lotmhcBgp2OvoMuQXyAZ67gPVWCqSsA\n",
       "7CZfh0qz1luX0IQXeCb7XqkSzX60b31Hd5Z6bSehCYGC91zi3tXj8OXxezOAQE4i2EcUVod0d7t1\n",
       "oCaI73vPKFSkqN6ZPy1SSNttCn1Ba81OyZAl/WsOyxCSje1Ogy7skj3nn8hXgqYJ2lxmg7azE+0K\n",
       "hKyhsEfRy28azk5DiDR5zr+hIt0sQc6JXkAHtBkgnpFW6poIhO/QIcQmjQGbDaFu2dMhlitCs0ZD\n",
       "Iw2q6rKxf/zWgGxIllakZuIRJxJINi3gqCms95o+kqjQci+g16df12sWo6GJIMs9gqWYbjUQe20J\n",
       "bTNl2E3RFPZ4WcWEEbbGnSY2TrW5aD/0ghw8idD0IjRiAUIZgA9Lf0A9O2AjGli02JUuhLwMZ1rf\n",
       "wO+N9sVdHXobluGUAoEomveU4q+PdptopK0Ebjd8hE0lnILfnkRNwXYVJmcjFD2izYLxrcO5eAcN\n",
       "jdQkYdMYDk+6NDUEo6ZqnkZHYugt8q0phP/xiF8rlaEZPj2Gu1vJZjU0gSTAFoTz2dOb9EHHJaQc\n",
       "n2GQ8WBJeIeNJlDkR3NgXxP0qCqJ9P0mGuy9M8gmVNWYa+h1mTg+Uc8rJaGdnYXiCW404r43Pqba\n",
       "NdLCOMVZMxRhTz07ZRa40dyShRzVsAfQam7XHaEJuUkmmvYMN5p4PQSoW0Mp0ed23WaaEEox0ZTc\n",
       "uAya/cdwG8CRSVVVak0QQMbwjMv5EjQhcJmJ5gpwn83E26OjVE2JaK3PaBDdQvASs6K9yI8mniw3\n",
       "yy9oIueP26lC3QIzZy7woxG6Kiu3qf53kVkTL5pf55wrOTvEH+9+NVklGvEKs/Az9TjVs8HuMK4O\n",
       "EAbvq/qyozJD8QrUtg2yilH/co3RNLIsL3S5xmi2ZVhpqlhjNNOdNx2a2Zn8zYGmHfnpSEbslvQz\n",
       "ErTEc4wk0/SNQPMewBNB+YB76XSqxmjmklpx/FBMK97paOKq3jDetDZM/b+biSaEkuy586XakH02\n",
       "HPfTqs4mjdLLXKdeDtrs5kZYMa4FzqGDuL4+pZQj4RxohAT42qOYK2CjebAaME6uTbpfu0El3fFm\n",
       "9taXhbP4AujKDFY0YlUHtdvZQYrT58rF4qPu/BnR85TUsj5P87kKKhfXn4mD+O2LbjOjcDFZtqIY\n",
       "htiSdGFjflVA1mrOgYuhNztdlbnjNjFoWlerO38KS+TzL4APwN/Jew6YVCu1TzSd45W/tNBwPj2e\n",
       "dNn+2sM0Pf2a3iPDtBKXOdFgUs3Zh11EsLqVoO+9wTbsXyYpcI18nkH2lT/EqxpMqjn7sIuE+60m\n",
       "+Tn5nLE5GrMuDl8taRR2iJx2g0k1fJ1F8V4xdo/fpHctg2L6teW2MuvRLGDevFssQmuMV1UaqSZu\n",
       "+ilW0gVmcM5OUCq7XbZ9LLKrZvNgJ2FsLWUAnW8bl8WCCNt7NWKtAXo1dis46TcyYbyUhCdsFse+\n",
       "FZiEysP0s6PzbdJWTKhBYkwj1how94bQhPJCIYrJNf1STh462KzRzw6w6/Q7k68clUFluAipJiUO\n",
       "2zSVhoBNU+Shw1s2+88y0eSajLguKdxodFJNSB4qodmClK38bIsefVr8usPGLBSYaEIEbLQAQZkL\n",
       "jfhHn0Gq+eWIbKJBjiy1njeHffN8Rn/oYMuOHWyvjZFENdLS0sanqS+O3EVVqoNrS4lFPXMdtXY/\n",
       "xXZVibjcoKrO86E5AxL1Rujg2pRoijx0kKyWIl71iBz3evzuRINSyePUiOioXwMZ8tBBsFILPq9r\n",
       "/zqFB43Jt0VRFLlGHejg2h4DozqwOnjWA026UNHZRC+Njp6kDrRzbTE5SQGZq/fKx6nKNFU2tNu5\n",
       "tkaVHEPQdvRznrXKYmVoHpFdlTd/fbjoOeQljwuQw66+2nvwh9WiEbKeQyJMLs/Nt7XNr5r8y2U8\n",
       "h4RrR29NcYz5u1ZgfF0cgwLJGqE5wVNaigM1QtPANerX2oARiQ3/B4WMHm2NiyyuAAAAAElFTkSu\n",
       "QmCC\n",
       "\" style=\"display:inline;vertical-align:middle;\" /></a></span><br>"
      ],
      "text/plain": [
       "_alpha_l_summed_inst: {l in ({-2^{t - 1} + 1 .. 2^{t - 1}} - {0})} |- alpha_{l} = ((1 / 2^{t}) * ((1 - e^{2 * pi * i * ((2^{t} * delta) - l)}) / (1 - e^{2 * pi * i * (delta - (l / 2^{t}))})))"
      ]
     },
     "execution_count": 14,
     "metadata": {},
     "output_type": "execute_result"
    }
   ],
   "source": [
    "_alpha_l_summed_inst = _alpha_l_summed.instantiate()"
   ]
  },
  {
   "cell_type": "code",
   "execution_count": 15,
   "metadata": {},
   "outputs": [
    {
     "data": {
      "text/html": [
       "<strong id=\"numerator\">numerator:</strong> <a class=\"ProveItLink\" href=\"../../../__pv_it/_proof__alpha_l_sqrd_ineq/8c53ef1d43290dc3454f49364679cff627cec5130/expr.ipynb\"><img src=\"data:image/png;base64,iVBORw0KGgoAAAANSUhEUgAAAKoAAAAnCAMAAACohiO2AAAAOVBMVEX///+6urpERESqqqqYmJjc\n",
       "3Nx2dnaIiIgyMjJUVFTu7u4iIiJRUVEMDAwGBgbMzMwQEBBmZmYAAACJ/AOvAAAAAXRSTlMAQObY\n",
       "ZgAAAAlwSFlzAAAOxAAADsQBlSsOGwAAAkxJREFUWMPtmGt3gyAMhgG5hm1c/v+PXRUQUquiZ66n\n",
       "55gvWftyeQhJdCWBfIgF4i9cXTz5nWHbir8SVQ3Yp92X10jV2gqtciXqILFPxl9wKb56Wv4fqKCx\n",
       "z3vbMCzHalhbpSp/jcpdLQOOfTaLI5+Sg68Wd1XOoIKUxqyEwcvmwlpfJuEYc6BpJb9YD0wkSDmD\n",
       "Op4z2N1M1ciXSUMgTZRDKXHN1xaYlTOokT7qOLq9A0nkyyQReNOBqM0xk2ZtgVk5g8qhQRU2Tiae\n",
       "o1P+yh5Nqp3Ls7ymXmxjKVbOlpXMCQABBCc1QSuqHbBvJtUvlIsJaFhgQCRYqajOQj/pNBgehA+n\n",
       "BMhUOBk1ffQ070DJix2mMepxtzod08W1XJ8VT35SuQUd+1EFG8c6P906I25qKNPHETV9v0BNkwr2\n",
       "OMa7OSPpGDHHioma67TE8od8l97cjzo+G8X8fGeEmo4EQJPqFbOcAHaZqoCV7zkB+lEFc86FMjqo\n",
       "evAWlSnk8aRMI4jI18zZos8QhRV/ABWMt+NV+6nk2ydfTcKKWppM9nhSCbSSgFtb06sUxcoBVPB2\n",
       "4N70Vx7222bprnIA1Yx7iv6Mtg77zZyy+8oB1DjdLePdT4rw/MKx8Wjj+8prVNC2miv9LZnsbmlM\n",
       "YL9VqB1Kf1RdHMRo/d0XGPb7h9pUjiSAOvyvlcJ+9VVf9CgHUEN6cxTkTVZRZdyBAOs5VVa9G9UY\n",
       "H7XZqe5go34b6QP061N+svi69CeLi3L1Rr1Rb9Qb9Ua9UW/UP0B1n4LqfgF4Ehh2j3HfUgAAAABJ\n",
       "RU5ErkJggg==\n",
       "\" style=\"display:inline;vertical-align:middle;\" /></a><br>"
      ],
      "text/plain": [
       "numerator: |1 - e^{2 * pi * i * ((2^{t} * delta) - l)}|"
      ]
     },
     "execution_count": 15,
     "metadata": {},
     "output_type": "execute_result"
    }
   ],
   "source": [
    "numerator = Abs(_alpha_l_summed_inst.rhs.operands[1].numerator)"
   ]
  },
  {
   "cell_type": "code",
   "execution_count": 16,
   "metadata": {},
   "outputs": [
    {
     "data": {
      "text/html": [
       "<strong id=\"_alpha_l_summed_abs\">_alpha_l_summed_abs:</strong> <span style=\"font-size:20px;\"><a class=\"ProveItLink\" href=\"../../../__pv_it/theorems/ed797affc893612e66c0c5986a27df66999a2d7c0/expr.ipynb\"><img src=\"data:image/png;base64,iVBORw0KGgoAAAANSUhEUgAAAR8AAAAaBAMAAAB8w0V5AAAAMFBMVEX///+qqqq6urru7u4QEBBE\n",
       "RERUVFTc3NyIiIgyMjJmZmaYmJjMzMwiIiJ2dnYAAACPW0xlAAAAAXRSTlMAQObYZgAAAAlwSFlz\n",
       "AAAOxAAADsQBlSsOGwAAAxFJREFUSMfFV01oE0EUfsmSnybbTW6KBw3WWw/uoQgqkiA9CCINiN6E\n",
       "eIiiKF2hCgqaHETqybbgD4jaS/0JNOTgwYNgDupBkMaDguLSHFTaQ7BtDlqU1pnZ3XR35u26G4I+\n",
       "2M0w8773vnnz3psNgE+5bQ32ToB/6Q7FSzIjzklL5kAeb/i3FBCVcJnfgsyFOjsMBSAUEBXL49ui\n",
       "VqTtTtXW/XpwQhzqnIY4M/3ENtH3M9RMpEZe1weck33pbiLkRMlFVdDo+Hl9mLz6qULrN6czRvFt\n",
       "2z4rN+uQUj0IvVWR6CCoSEE4U+pHWXhE3kfJE6cKySVOqUp1bF7Pg7ICOwBeHSGiiYSk0w8QQhhK\n",
       "EfbCZiZhHznMFjVF+SX4glzhoCcBhuGaJObQoDW4gRDCUDihZAOUvEEI7tJzK7Ol+DH9o1GhbQ46\n",
       "osKo9lhRBUKbvQhhKJwQOUh6cozQDHlKbBPhOxY0zkPPAozW3zy3cmNxreyHEIbCCaWmQV42CV0l\n",
       "zwu2crFjMzoh7mUerSFPQhgKJ5QlhH6ZhHYSS0Vnj4dIXkgs+Wc3hERUPCf0ZuKn1GSqNDgwR47r\n",
       "AFvZINBHS2+sZof1F7ohJKJiy/wM9UMJrZEf2rNKGZB/sN0c0nX9vWFnGuDCFBns1ql8NlONl1ld\n",
       "H9b1Dx6EENSuSVrb95hhmrrMT7YJYRIh6RRhlM2YYZTyjgjJM3YXSTxAf4kQhlrkrm3mhyR1iIRO\n",
       "mTIqLFJg1hrOI3P01K0Q04ITQlD2/m8mbIElbZIsbKNG5jRI1Zp0ZbyjE81z9SA3Ia4GJoShlBza\n",
       "GHMst7+YVZYaKDuvQXaGdkKXK5VZ7yP7boQiS8xKqx4ol6vjHQzVzbJ/SvhVjQupaF27Yb5Tz6+v\n",
       "r3oSOjFyq2aVA3zyQLkQ2rNwBkxCDzeWwl/NqwP2o1CvCPkVF0KGdO4yQap+CQ32nJDUxmAv0Z7a\n",
       "CxE+LOx+nrg2mGga66m9kKGae++WDtIs1Fy/qS8d7z2fK4hNy0/sW9r1m5q0tP8kLv860P9l/0QS\n",
       "pJP+AUXY/t/p7aHUAAAAAElFTkSuQmCC\n",
       "\" style=\"display:inline;vertical-align:middle;\" /></a> <a class=\"ProveItLink\" href=\"../../../__pv_it/_proof__alpha_l_sqrd_ineq/4ffc7693ff565c39b6d6aa0d2cc323a156a9d9ef0/proof.ipynb\" style=\"text-decoration: none\">&nbsp;&#x22A2;&nbsp;&nbsp;</a><a class=\"ProveItLink\" href=\"../../../__pv_it/_proof__alpha_l_sqrd_ineq/a7b75a2c71e9c7064499b7d3d7b645e8c8b9815b0/expr.ipynb\"><img src=\"data:image/png;base64,iVBORw0KGgoAAAANSUhEUgAAATIAAABPCAMAAABf07lcAAAAP1BMVEX///+/v79RUVEMDAwGBgau\n",
       "rq6YmJgyMjJmZmZERESqqqoQEBDu7u4iIiJUVFTMzMyIiIi6urp2dnbc3NwAAAA4zmHvAAAAAXRS\n",
       "TlMAQObYZgAAAAlwSFlzAAAOxAAADsQBlSsOGwAAB99JREFUeNrlnOuioygMgN2ZXUDut/d/1i2g\n",
       "KAoV29hz2vKHOYNY/ExCAsFh+JFChjcpv2eg7MJ7u019cNn9JvYNyDQt6wRhLy1GN2+xavoGZNSW\n",
       "dSqowkejNnb0EmTY/AZkHJf1hEAQWhkxbz8MLwbqBL/CTsqfkzKklmGgsp6KKCUxKS1q2/bcNA3U\n",
       "ygv0gfFrkXFrpWz8BrO7G7OiUylziJt0p/2YufRTf765HwLXh5O3PI8svHYiDt8cLuq5EyXDanxk\n",
       "nhExat5gbpoHarwDRibx1ebf30yl8+oIrC3quZMjaPXEZrZMFXWbbzA35YHKEZaY8uZqZIivkDnh\n",
       "Y3FbaZn/NdVFp8XjYNPjo/2LFqZsygN1nsLOlieF7EHzbyfF5IQ7NCwGbEEmaFmvOi3/oec3THfD\n",
       "4D7b5u1ARwFJjJ4VsjwSdWb2jhfzG6lbpR23ycBPyNKfbBoIM0PlF+I1+qZy2E7K0TJluYmtNElD\n",
       "CtnpF/Bvmp4I9v3I3BiuVSxq4zio6AfEPwOy9P87ZKnT/NThGqayxTIBiBrn4hZTlprmgU5ixiAt\n",
       "2Wn+f2cfsx9ZiHlcjh/HwcgOxSw6Lao3Toop9qZsGs/c9HetS3DWTPrTvjE7jcyNSikyX010loMC\n",
       "2aiLuuw0UXGDm9QP7WZBP+iyaS1ZHkMR4/78/NuPjEsmggqyOEWuA5rFSC3IZt9gqstOs+Bpy0uP\n",
       "YuVjaFM2sUI0FBAy9IDAdiPjTFDEusMVJcr6fhHmsGmNzHgLhGw8r5f9yKSIPlH3LwhV1nd1XRw3\n",
       "FSbfMyi9FHV3AASZjzo3dodjczyNOpZTCTpuYqVwKCC9tFvrc+w71JBxLJai5sk4lX6NGF1Z35tQ\n",
       "OpoKZBpIM2XFj9UeSMqUpy6UftXnY1kfw73bxMrRwMyZzA/XIRvOu3xOl3WraNfTVFov7/lFpgwQ\n",
       "GUkLV9ArLw8Gw/h0ZFiPL8cnkNmjZSguGDJa6N+BjIDEmaRmEjuRSck8lgezIREe/xixDTLkIVbN\n",
       "cM2RPUT2Z3iT8mczG0F4Zqzmq3Qr5q8vbGO4PcA9q5PIpyK7Pe3zzqyrcv9YZAJgAYjWfIzPRYbD\n",
       "lNmc5PtcIV11iA99h3dFJoN/YFvOme3y2mxl2u3wHd4VGfHyaWTSS4CRvA0yG5TqSWSjJ9+FTDyN\n",
       "DH8XMh182SeRiceWkN4VGQo+1ZPI2Bcjs9ZK9Qgy/U3I6ILMhR0VztzgaAUZWa0wC7lB9lDilXoX\n",
       "ZKqJjEVZGcmg+ZyW1idl3qPhi4rJyEgKFAmO6TQpl6MXWV/QxeG2mn9U6MIqRCQzJVxZFveR005x\n",
       "L7L/yj+3JU+t5M5Fv7usnu+fGRmfbLhNIpN2ivtsmQfOVHsbKZuRsaRDA7xifg6y2ZZFxUQ3k6Zy\n",
       "Wlqvk/F684+ORnY2IMl52Kvu5MD837wyhG6TJbE6J708jwxfs5VGD4mc9voo3nWv76Wbuvc/paX1\n",
       "BkyoPUleQowfT72nkZVZU6l77QxPC9mUltYblm/u7AjBo9q/OrDSkdLC8lgwG3tEvcyamrrXUnFo\n",
       "PSyf0tJ6F3/KGDPKs/VmcFZge8fJX9A22huHL1yHCOWN5ZtYyI6UgI0+TN11ZSUQASz+yM3ij4wv\n",
       "lYVfxffm0oy27WeTDh26j0zyR0zZ3J1XNjDiur1uvWndFQcSv405eQR5I3d3y2SFtvXqG16N6Uem\n",
       "5SOmLHevnNexANvl23vErMOYVWrY/Zk2oz3pGPF+ZLzTacx52GV3MlYk5PmT06gaOwofXzFvC+qC\n",
       "9lzRPUmwbLG0XaqZ87A3Qsoqpvv59BBTy1KIBwGIHuzRgMXeD1EaaY0Hh0NOscKMOK3lMs58vsyy\n",
       "KQIkTWRU0j49ynnYJTKzB44Bgp3qbnmMQxVB6lDLdu8sJR8GUcIy3YqG67L+jhMDaw21CmmlmlIW\n",
       "Tm7JR3Lo8mmhvQ4wiGxZvzdHpNdEir15NjEFL5AcY2M6BbP4ywnkoGjMNWxMUcl9DwOjjzxiduv2\n",
       "Uw1IGqPY3Rf17myu0C7LacKPKe9yQhavWaRxtYY0Fl7EekEuHjyKBygXQaklL+/XoZbu8ZZmp1MQ\n",
       "K/ByGzHFTwe4jpmwQJtRcCuSfaojw7mTkuWR8RXMv1ky1SNB298MSO0sN0REozf2V0UfRx/Lbx1t\n",
       "zL1GYaxHyEJqvm9rFo/Pi7ofcfUljcWWud3DQmSxb8A7QUI5dgUaaGmEExI66sjyeeXomzf82mT/\n",
       "1FEEkoR6OuWPdMeMKUFWBzeJfdMJ5sOX20KbvoQQYukEC2+QZV8pOmiNlx6vCetY9NCszgf211/S\n",
       "mH8Csb3hBvlehnjobH8LrbFa61t4qyRjkivpmVR09PngV37zY3hCeQfZjZk+VqN8yl9UvH+5Ew+Y\n",
       "/Vf72nVZdiLG7IlepgP761W4ZoxJPcwXRoyXr0R2ZiWj96VvvqTRXMmQUBsdzL8SmWLQyOKxvvWX\n",
       "NFjLvwR7UuJfmi4gKSyy4sD+urtwu/gOSp/gDsP2TdGwa//7A/vNtX8NtwHJXpvHQy0gstqB/dYO\n",
       "E4Z7Tg1yfuzELGfgkNUO7MfuhO/XXQC16bVzZodBv6S79IDffbOeDx9fOKhg8NdOAD9TNOwXzPQX\n",
       "iBkD/sSssJ8vZMBSQb37bGIcPpIm42cjkxc8n/joNGPDLjDWin3yDCAucdbNB1szvib2P4u8edp8\n",
       "AM7kAAAAAElFTkSuQmCC\n",
       "\" style=\"display:inline;vertical-align:middle;\" /></a></span><br>"
      ],
      "text/plain": [
       "_alpha_l_summed_abs: {l in ({-2^{t - 1} + 1 .. 2^{t - 1}} - {0})} |- |alpha_{l}| = ((1 / 2^{t}) * (|1 - e^{2 * pi * i * ((2^{t} * delta) - l)}| / (2 * sin(pi * |delta - (l / 2^{t})|))))"
      ]
     },
     "execution_count": 16,
     "metadata": {},
     "output_type": "execute_result"
    }
   ],
   "source": [
    "# Avoid the chord-length simplification in the numerator by using 'preserve_expr':\n",
    "_alpha_l_summed_abs = _alpha_l_summed_inst.abs_both_sides(preserve_expr=numerator)"
   ]
  },
  {
   "cell_type": "code",
   "execution_count": 17,
   "metadata": {},
   "outputs": [
    {
     "data": {
      "text/html": [
       "<strong id=\"_alpha_l_summed_abs_dist\">_alpha_l_summed_abs_dist:</strong> <span style=\"font-size:20px;\"><a class=\"ProveItLink\" href=\"../../../__pv_it/theorems/ed797affc893612e66c0c5986a27df66999a2d7c0/expr.ipynb\"><img src=\"data:image/png;base64,iVBORw0KGgoAAAANSUhEUgAAAR8AAAAaBAMAAAB8w0V5AAAAMFBMVEX///+qqqq6urru7u4QEBBE\n",
       "RERUVFTc3NyIiIgyMjJmZmaYmJjMzMwiIiJ2dnYAAACPW0xlAAAAAXRSTlMAQObYZgAAAAlwSFlz\n",
       "AAAOxAAADsQBlSsOGwAAAxFJREFUSMfFV01oE0EUfsmSnybbTW6KBw3WWw/uoQgqkiA9CCINiN6E\n",
       "eIiiKF2hCgqaHETqybbgD4jaS/0JNOTgwYNgDupBkMaDguLSHFTaQ7BtDlqU1pnZ3XR35u26G4I+\n",
       "2M0w8773vnnz3psNgE+5bQ32ToB/6Q7FSzIjzklL5kAeb/i3FBCVcJnfgsyFOjsMBSAUEBXL49ui\n",
       "VqTtTtXW/XpwQhzqnIY4M/3ENtH3M9RMpEZe1weck33pbiLkRMlFVdDo+Hl9mLz6qULrN6czRvFt\n",
       "2z4rN+uQUj0IvVWR6CCoSEE4U+pHWXhE3kfJE6cKySVOqUp1bF7Pg7ICOwBeHSGiiYSk0w8QQhhK\n",
       "EfbCZiZhHznMFjVF+SX4glzhoCcBhuGaJObQoDW4gRDCUDihZAOUvEEI7tJzK7Ol+DH9o1GhbQ46\n",
       "osKo9lhRBUKbvQhhKJwQOUh6cozQDHlKbBPhOxY0zkPPAozW3zy3cmNxreyHEIbCCaWmQV42CV0l\n",
       "zwu2crFjMzoh7mUerSFPQhgKJ5QlhH6ZhHYSS0Vnj4dIXkgs+Wc3hERUPCf0ZuKn1GSqNDgwR47r\n",
       "AFvZINBHS2+sZof1F7ohJKJiy/wM9UMJrZEf2rNKGZB/sN0c0nX9vWFnGuDCFBns1ql8NlONl1ld\n",
       "H9b1Dx6EENSuSVrb95hhmrrMT7YJYRIh6RRhlM2YYZTyjgjJM3YXSTxAf4kQhlrkrm3mhyR1iIRO\n",
       "mTIqLFJg1hrOI3P01K0Q04ITQlD2/m8mbIElbZIsbKNG5jRI1Zp0ZbyjE81z9SA3Ia4GJoShlBza\n",
       "GHMst7+YVZYaKDuvQXaGdkKXK5VZ7yP7boQiS8xKqx4ol6vjHQzVzbJ/SvhVjQupaF27Yb5Tz6+v\n",
       "r3oSOjFyq2aVA3zyQLkQ2rNwBkxCDzeWwl/NqwP2o1CvCPkVF0KGdO4yQap+CQ32nJDUxmAv0Z7a\n",
       "CxE+LOx+nrg2mGga66m9kKGae++WDtIs1Fy/qS8d7z2fK4hNy0/sW9r1m5q0tP8kLv860P9l/0QS\n",
       "pJP+AUXY/t/p7aHUAAAAAElFTkSuQmCC\n",
       "\" style=\"display:inline;vertical-align:middle;\" /></a> <a class=\"ProveItLink\" href=\"../../../__pv_it/_proof__alpha_l_sqrd_ineq/02528343d6a6e52d05a8edfd5eb0d8e6b612099e0/proof.ipynb\" style=\"text-decoration: none\">&nbsp;&#x22A2;&nbsp;&nbsp;</a><a class=\"ProveItLink\" href=\"../../../__pv_it/_proof__alpha_l_sqrd_ineq/941b449c1c870b37611163ce55c29c087efc4a410/expr.ipynb\"><img src=\"data:image/png;base64,iVBORw0KGgoAAAANSUhEUgAAAQcAAABGCAMAAAD2BqHoAAAAOVBMVEX///9RUVEMDAwGBgaYmJgy\n",
       "MjJmZmZERESqqqoQEBDu7u4iIiJUVFTMzMyIiIi6urp2dnbc3NwAAAAd2yqnAAAAAXRSTlMAQObY\n",
       "ZgAAAAlwSFlzAAAOxAAADsQBlSsOGwAABatJREFUeNrtW+lirCoM9vSybwLv/7BXVnFBcI7T6unk\n",
       "D53GoPlIQoAwDBcSGh5Cb/5Q+s7OzaJpPXbMoc/FQZGyiZrtjOuoaj0UnOfiQHTZRAJ7OitQhRI8\n",
       "HgcGyybpxRHZeRayWi+Z8ywcgJwDGyibRHxlM8FpQDUKZs7tcGBaC1EbP6rXPdOF0NI6BsDG0BXd\n",
       "dMiEHUrO7XBwA4R4OzrAsklCBA2lfaA0IUBQ6yBxboeDHaeob2UTLl02ScggUM6SI4+jrUWtg8S5\n",
       "HQ6AFTgYbj1txzX+FZuFUDGLUhw7hZv38HHBuWWc1NEvGGIGDMXEOOPASdmUQkU3StqgLdl8B7PD\n",
       "gvNNOEjO+oX8w2xSf2qUYTqGwohD+E2DgrFZv8E/oyaTh0FY2kp4yJw34/BfiM0I2n4cDHbPSuqd\n",
       "AQ8yTG3+t8MhMNY4BKEMinuGyhwFRqemxIlMZgRO+tD30VdKcPpxcKmxMVm9YRQdfrEQKiwfR7/g\n",
       "2/DAFpyv7/GLfhwMllKi9DRSecSWOGBVNkuhpKoZTLR+gDfT0qAWHHoXHJig3HkA9RNEmfcWjj/j\n",
       "EOe72CyFsmEpzRaTZDltqnHBuQsOjHICqDgRS8umRXxsce6Cg3AKmRPRlMuyafgab3LugoP1Fo9B\n",
       "f76FhuMlVOkEoMn5ARwY5DPJNI0H0v1dY1M2x6G3zbmJPUhLjKMT2RbDZdOB2CHnNn6hTvdtVNkc\n",
       "7N+ZDs5dcEBhI8AMP0TfhIO2DQ0Zp2BUXP3TOAhBLRSNuQBxC38Mhnfj8Gd4CP15NMyPiw8fHD44\n",
       "PB2HrnPRX4CDri5S65wPDh8cPjh8cPjg8Htx0FoL+etxMG4nl1EzGLKDAyq21vjBLrN8Cg6yhgP1\n",
       "a2CMBsVy0cR5e3gyeW1R0BxBf9wcT0V/IQ6xckBTfySUiiaaONh/h7y2LO6bauujQzz1OR8fHm8P\n",
       "CQcfR1PRxG+MD94vwBQm5Fw08dM4gNb7T1ZJp/hfSqPVfKE1ANNUgbSaD4V/GAfSVPNsukLgRno+\n",
       "4tpqm4omrsIBvnRMweDladuyHiBI59LkrbapaOIiHJh9SazjEDjhYBCkHQefq3qAKJ2LDTfapqKJ\n",
       "HhwMQhDLQwY5HFhDQeX//dnxNMyjYGcHJEorccE6y7uXtmOdYTSH+iDfHi3qsOFjHAR7ITwkaRbP\n",
       "IFX1I1V7uSC8NVJ6xIDkeJQqKdrYj4MSL4SHLA3B3/s+9WCK7XFmwThR9VIshHqkaDZ40tNniv8r\n",
       "aYT/Hgdf3zOpK+uM8aXFuOqphMo94y6sU/xfW9NluwXcHjAmo2U7DiYVUAoOBrpqMQkpMkqJ+TtF\n",
       "yuVozP9RHQciiO0Z0xT/VziMLxnsrg2rAwZSg96+KNS1uEGH3rm5IO757F84Lvz0SLQESsq6Pbja\n",
       "cfGCLrkI2l60bVJdeXmGRGDnPaMvBHH4YS+N/VfZucDe/1cSX8VSC9ghI3TgkRd0ydmHvSZPKuIM\n",
       "s3CfseVzi0OdTsTBPzsbFs9+gBfz4uINvkpa4HJM96rSdjYIsrTv8hIcQGkNHFUYGz7TPDj9Pg4w\n",
       "CUuxvIZVvuEr25B8IWf9yvZwhV/4i4TGnGCEl7shBu4LGji4kkd7YNnMawFg7/fOVz7n+HBBmZb0\n",
       "uYli/YyIktfYFQ/t4yBwke3VDDfEFNnO1Yr7cPOVzyvnC8ORI97PSDj4OOkWRwEBuMIhTeo+j6jV\n",
       "m/pn3E4BaSaU6WpbceUz4QAuyB/ihSrYz0iDoJVS0wJGCkoFk8JSIQm2ufQ8DRJ2Xy2OcJiAUO21\n",
       "SL4Px7f55K03GumJ9UVPNI9X24pdjSvXF++jM+vN3h3I5ZXP1XrzpiTp1Tj4q23FlU9an97vRIJc\n",
       "i8PyaluxH2XujcPF+5Pbq22r/cnbEtEX4rBztW21X31fap5fnMBh52qbl0ZseD7JC6X/B1wxUWxh\n",
       "Y9y2AAAAAElFTkSuQmCC\n",
       "\" style=\"display:inline;vertical-align:middle;\" /></a></span><br>"
      ],
      "text/plain": [
       "_alpha_l_summed_abs_dist: {l in ({-2^{t - 1} + 1 .. 2^{t - 1}} - {0})} |- |alpha_{l}| = (|1 - e^{2 * pi * i * ((2^{t} * delta) - l)}| / (2 * 2^{t} * sin(pi * |delta - (l / 2^{t})|)))"
      ]
     },
     "execution_count": 17,
     "metadata": {},
     "output_type": "execute_result"
    }
   ],
   "source": [
    "_alpha_l_summed_abs_dist = _alpha_l_summed_abs.inner_expr().rhs.distribute(preserve_expr=numerator)"
   ]
  },
  {
   "cell_type": "markdown",
   "metadata": {},
   "source": [
    "## Bound the numerator and the denominator of the above right hand side"
   ]
  },
  {
   "cell_type": "markdown",
   "metadata": {},
   "source": [
    "### Use a triangle inequality for the numerator."
   ]
  },
  {
   "cell_type": "code",
   "execution_count": 18,
   "metadata": {},
   "outputs": [
    {
     "data": {
      "text/html": [
       "<strong id=\"numer_bound\">numer_bound:</strong> <span style=\"font-size:20px;\"><a class=\"ProveItLink\" href=\"../../../__pv_it/theorems/ed797affc893612e66c0c5986a27df66999a2d7c0/expr.ipynb\"><img src=\"data:image/png;base64,iVBORw0KGgoAAAANSUhEUgAAAR8AAAAaBAMAAAB8w0V5AAAAMFBMVEX///+qqqq6urru7u4QEBBE\n",
       "RERUVFTc3NyIiIgyMjJmZmaYmJjMzMwiIiJ2dnYAAACPW0xlAAAAAXRSTlMAQObYZgAAAAlwSFlz\n",
       "AAAOxAAADsQBlSsOGwAAAxFJREFUSMfFV01oE0EUfsmSnybbTW6KBw3WWw/uoQgqkiA9CCINiN6E\n",
       "eIiiKF2hCgqaHETqybbgD4jaS/0JNOTgwYNgDupBkMaDguLSHFTaQ7BtDlqU1pnZ3XR35u26G4I+\n",
       "2M0w8773vnnz3psNgE+5bQ32ToB/6Q7FSzIjzklL5kAeb/i3FBCVcJnfgsyFOjsMBSAUEBXL49ui\n",
       "VqTtTtXW/XpwQhzqnIY4M/3ENtH3M9RMpEZe1weck33pbiLkRMlFVdDo+Hl9mLz6qULrN6czRvFt\n",
       "2z4rN+uQUj0IvVWR6CCoSEE4U+pHWXhE3kfJE6cKySVOqUp1bF7Pg7ICOwBeHSGiiYSk0w8QQhhK\n",
       "EfbCZiZhHznMFjVF+SX4glzhoCcBhuGaJObQoDW4gRDCUDihZAOUvEEI7tJzK7Ol+DH9o1GhbQ46\n",
       "osKo9lhRBUKbvQhhKJwQOUh6cozQDHlKbBPhOxY0zkPPAozW3zy3cmNxreyHEIbCCaWmQV42CV0l\n",
       "zwu2crFjMzoh7mUerSFPQhgKJ5QlhH6ZhHYSS0Vnj4dIXkgs+Wc3hERUPCf0ZuKn1GSqNDgwR47r\n",
       "AFvZINBHS2+sZof1F7ohJKJiy/wM9UMJrZEf2rNKGZB/sN0c0nX9vWFnGuDCFBns1ql8NlONl1ld\n",
       "H9b1Dx6EENSuSVrb95hhmrrMT7YJYRIh6RRhlM2YYZTyjgjJM3YXSTxAf4kQhlrkrm3mhyR1iIRO\n",
       "mTIqLFJg1hrOI3P01K0Q04ITQlD2/m8mbIElbZIsbKNG5jRI1Zp0ZbyjE81z9SA3Ia4GJoShlBza\n",
       "GHMst7+YVZYaKDuvQXaGdkKXK5VZ7yP7boQiS8xKqx4ol6vjHQzVzbJ/SvhVjQupaF27Yb5Tz6+v\n",
       "r3oSOjFyq2aVA3zyQLkQ2rNwBkxCDzeWwl/NqwP2o1CvCPkVF0KGdO4yQap+CQ32nJDUxmAv0Z7a\n",
       "CxE+LOx+nrg2mGga66m9kKGae++WDtIs1Fy/qS8d7z2fK4hNy0/sW9r1m5q0tP8kLv860P9l/0QS\n",
       "pJP+AUXY/t/p7aHUAAAAAElFTkSuQmCC\n",
       "\" style=\"display:inline;vertical-align:middle;\" /></a> <a class=\"ProveItLink\" href=\"../../../__pv_it/_proof__alpha_l_sqrd_ineq/b527cc2936aa67f270e498e32499609303345c1c0/proof.ipynb\" style=\"text-decoration: none\">&nbsp;&#x22A2;&nbsp;&nbsp;</a><a class=\"ProveItLink\" href=\"../../../__pv_it/_proof__alpha_l_sqrd_ineq/56afd3f42471fb778e78d6505c544ae84936b9070/expr.ipynb\"><img src=\"data:image/png;base64,iVBORw0KGgoAAAANSUhEUgAAANIAAAAnCAMAAABNGObaAAAAOVBMVEX///+6urpERESqqqqYmJjc\n",
       "3Nx2dnaIiIgyMjJUVFTu7u4iIiJRUVEMDAwGBgbMzMwQEBBmZmYAAACJ/AOvAAAAAXRSTlMAQObY\n",
       "ZgAAAAlwSFlzAAAOxAAADsQBlSsOGwAAAshJREFUaN7tmOly4yAMgAGDMagtx/s/7JrLWPEB3llP\n",
       "0h3rj5oKFH3oMA5x5JdIf6D2xijEi24sO7fYT0CSA9Ypyu1pU3nkYW35BKRhxDoJ34lf8sNT4Z+E\n",
       "pCesc4zghu3aSR95qZZ3IXFT25ljnQVwJlNR8sPer5Y7kfQ4KnVwrHbcOLZoE84Z1zR5sht/WnmC\n",
       "LHcihXNz0OykCemyaXBklTVXRtrEjxwsljuRPJ3nljct8BHpskk4vprMFHIORnXkYLHcicT1CkmA\n",
       "jyJeT7v8lTXaVCe6ZdnntPkaoNhy93gYc+FppwUntYEqEgxYrzbVf0jjU+DDJgztCbZcRzKg+4ni\n",
       "Yj2TzEoKPaYBkJHSR0uzf0p2viGukXNNTek4jD/qxcXSRBLOTSzUwU8aL27y/UiChbXGxmpjxMRB\n",
       "Gz8GpPT/DVLaVPDCGmuWjqEhYMOKiNqLtKD87A8hUYMKeQ9Z/y7PwH6kcKcRonqiqqPw0KZaWiwX\n",
       "HmxbSWPL905Xg6tBq+jc2prPfiTBjDGLLyfrQa6RmEQab8pRCyJyeXG2matEYsum8CSMa382Aqh5\n",
       "UPUjaWXBxb1B1jeW2iQVqQzfrPGmkjhZgnLjZoZLii325XkPL5dFFdOp5qnajaQtDNyq/gmC9bkA\n",
       "bVrWSNrBwU0X/IXCi6cg+jsODNantQxti12VyzQcHaSXF5B8PBfGu5/I7vXieXLV4G3LKkvHSKDI\n",
       "PpKeoIop/EnG7lHPBNZnA6fDYlEX7heeY4T0Z8n4QQTpf3pphnUb/tTSGg+hIBS5gkS8vPzTg8T6\n",
       "8NVV9FhaQzy/PosLQ9ylNxdB3iS28aglJvaE1MvK0TeC1WA5lSA/CClciEydjS4IlJVKWT+pxjRz\n",
       "4Ke3ETWvrfktZ76OfP2Wnya//hn8x4j9n5E0bB+bT5YepAfpQXqQHqQH6UH6+0DNb0HqDvQPy04d\n",
       "Uw3en54AAAAASUVORK5CYII=\n",
       "\" style=\"display:inline;vertical-align:middle;\" /></a></span><br>"
      ],
      "text/plain": [
       "numer_bound: {l in ({-2^{t - 1} + 1 .. 2^{t - 1}} - {0})} |- |1 - e^{2 * pi * i * ((2^{t} * delta) - l)}| <= 2"
      ]
     },
     "execution_count": 18,
     "metadata": {},
     "output_type": "execute_result"
    }
   ],
   "source": [
    "numer_bound = numerator.deduce_triangle_bound()"
   ]
  },
  {
   "cell_type": "markdown",
   "metadata": {},
   "source": [
    "### Bound the sine in the denominator by a line"
   ]
  },
  {
   "cell_type": "code",
   "execution_count": 19,
   "metadata": {},
   "outputs": [
    {
     "data": {
      "text/html": [
       "<strong id=\"denom_sin\">denom_sin:</strong> <a class=\"ProveItLink\" href=\"../../../__pv_it/_proof__alpha_l_sqrd_ineq/71c340409815d096cf51374b7409b50a2edd65170/expr.ipynb\"><img src=\"data:image/png;base64,iVBORw0KGgoAAAANSUhEUgAAAJsAAAAzCAMAAAC38Io9AAAAOVBMVEX///9RUVEMDAwGBgZUVFSq\n",
       "qqpmZmZ2dnbc3NwQEBC6uroiIiJERETu7u4yMjKYmJiIiIjMzMwAAADXgg5WAAAAAXRSTlMAQObY\n",
       "ZgAAAAlwSFlzAAAOxAAADsQBlSsOGwAAAyNJREFUWMPFmemWpCAMhZlpVtmSvP/DDuKpUqvFTqq0\n",
       "x996+QhZUanrHvv/BBL+8EL4lG0WyCnLP9RV/QabwiiG005dzuYi4XcBE4Uytajr2VSlIwGnRSI+\n",
       "+DvYbDkUiFUiEkHdwfYi+xAwQeByNag72Pze3VaBIsgmwd3C9uJuq8BEnqsBlG9h02kkUNjhEHlv\n",
       "itkCjAQMMT0OCW9hw9eTWwUyAdP0zEW/hGwQxgKJmYAD8/D/Sgu0VnkkUHnRgMRMhdIzbbpuJJB5\n",
       "iwI3oMVsU4ahAO+wEnfNx3velpAY+6nWjTe3czgfBlYMScjWVpz0G13Yjs1t8/JEx4UikxVKv8X1\n",
       "ylZp2kKMQgGE0qAvYGMta8gIpTP7ixM21nFVZlXYSCfKH7MpatZHqABF+TJHLZZgPYCGQQpxgZbH\n",
       "jqWNNpQuYEttrunV/Fn7ozb7Suc2RnBuMg4rII6l5+5dv2e4HVsoauo9Jiwl5JnNNlnZrutgwwav\n",
       "AE+k/bwtw/aDMVts9oqUwKuVrdtxEyR63wCmfY7ItLb8f5492dq55BLX5wlM355V4MnWSHObxLr7\n",
       "sNhQLw6wStj9trvFkT73t8bm8yMWB2x25zu2LU1nY3m3GGdiZJypgcfQPmBz2zjNM+guY79Kd7Zi\n",
       "1BWxsMxbc2leqMorG2z9GubzJHci7WDOIhKi4o/ZtJocALipOVIIOqOmoNEkWluUXe5N5uT6YZFu\n",
       "ek6ClmmQ3xh1wYyO8KP+zVtblospUwY1i7FDdtsrYfOpe/KkvIvF4bu1Xol7JM541H0shH3cBHGL\n",
       "Ecv1bKEnJj2ngE2KCuJJQIcb7BaXtI6tZh4LaFb6rtzCLZ7rI/VGNB/5G28SQG6rKJ2du7tbUC5/\n",
       "F/DMbvuu2blfs6Ct+P7srGy45UxtOhHQzDuHiZl9ZWxVnwmwB6hor2czc9r3fiDAjj/umxI27BUJ\n",
       "8kAg8ruFy+9UfbTzEwcCgjtVpuEEbHHpxMtoiJQ0WcVdH6djgUk0puE9/z4GAlHWNkP6PTYnvU+5\n",
       "41/bscAkH4R+nk8u+kdZ3rgT+PHfLn7Khn3YfqL9AxK7If2l4c/qAAAAAElFTkSuQmCC\n",
       "\" style=\"display:inline;vertical-align:middle;\" /></a><br>"
      ],
      "text/plain": [
       "denom_sin: sin(pi * |delta - (l / 2^{t})|)"
      ]
     },
     "execution_count": 19,
     "metadata": {},
     "output_type": "execute_result"
    }
   ],
   "source": [
    "denom_sin = _alpha_l_summed_abs_dist.rhs.denominator.operands[2]"
   ]
  },
  {
   "cell_type": "code",
   "execution_count": 20,
   "metadata": {},
   "outputs": [
    {
     "data": {
      "text/html": [
       "<strong id=\"denom_sin_bound\">denom_sin_bound:</strong> <span style=\"font-size:20px;\"><a class=\"ProveItLink\" href=\"../../../__pv_it/theorems/ed797affc893612e66c0c5986a27df66999a2d7c0/expr.ipynb\"><img src=\"data:image/png;base64,iVBORw0KGgoAAAANSUhEUgAAAR8AAAAaBAMAAAB8w0V5AAAAMFBMVEX///+qqqq6urru7u4QEBBE\n",
       "RERUVFTc3NyIiIgyMjJmZmaYmJjMzMwiIiJ2dnYAAACPW0xlAAAAAXRSTlMAQObYZgAAAAlwSFlz\n",
       "AAAOxAAADsQBlSsOGwAAAxFJREFUSMfFV01oE0EUfsmSnybbTW6KBw3WWw/uoQgqkiA9CCINiN6E\n",
       "eIiiKF2hCgqaHETqybbgD4jaS/0JNOTgwYNgDupBkMaDguLSHFTaQ7BtDlqU1pnZ3XR35u26G4I+\n",
       "2M0w8773vnnz3psNgE+5bQ32ToB/6Q7FSzIjzklL5kAeb/i3FBCVcJnfgsyFOjsMBSAUEBXL49ui\n",
       "VqTtTtXW/XpwQhzqnIY4M/3ENtH3M9RMpEZe1weck33pbiLkRMlFVdDo+Hl9mLz6qULrN6czRvFt\n",
       "2z4rN+uQUj0IvVWR6CCoSEE4U+pHWXhE3kfJE6cKySVOqUp1bF7Pg7ICOwBeHSGiiYSk0w8QQhhK\n",
       "EfbCZiZhHznMFjVF+SX4glzhoCcBhuGaJObQoDW4gRDCUDihZAOUvEEI7tJzK7Ol+DH9o1GhbQ46\n",
       "osKo9lhRBUKbvQhhKJwQOUh6cozQDHlKbBPhOxY0zkPPAozW3zy3cmNxreyHEIbCCaWmQV42CV0l\n",
       "zwu2crFjMzoh7mUerSFPQhgKJ5QlhH6ZhHYSS0Vnj4dIXkgs+Wc3hERUPCf0ZuKn1GSqNDgwR47r\n",
       "AFvZINBHS2+sZof1F7ohJKJiy/wM9UMJrZEf2rNKGZB/sN0c0nX9vWFnGuDCFBns1ql8NlONl1ld\n",
       "H9b1Dx6EENSuSVrb95hhmrrMT7YJYRIh6RRhlM2YYZTyjgjJM3YXSTxAf4kQhlrkrm3mhyR1iIRO\n",
       "mTIqLFJg1hrOI3P01K0Q04ITQlD2/m8mbIElbZIsbKNG5jRI1Zp0ZbyjE81z9SA3Ia4GJoShlBza\n",
       "GHMst7+YVZYaKDuvQXaGdkKXK5VZ7yP7boQiS8xKqx4ol6vjHQzVzbJ/SvhVjQupaF27Yb5Tz6+v\n",
       "r3oSOjFyq2aVA3zyQLkQ2rNwBkxCDzeWwl/NqwP2o1CvCPkVF0KGdO4yQap+CQ32nJDUxmAv0Z7a\n",
       "CxE+LOx+nrg2mGga66m9kKGae++WDtIs1Fy/qS8d7z2fK4hNy0/sW9r1m5q0tP8kLv860P9l/0QS\n",
       "pJP+AUXY/t/p7aHUAAAAAElFTkSuQmCC\n",
       "\" style=\"display:inline;vertical-align:middle;\" /></a> <a class=\"ProveItLink\" href=\"../../../__pv_it/_proof__alpha_l_sqrd_ineq/82ae049f91f2f17a1d873ea2acc180b8740f86760/proof.ipynb\" style=\"text-decoration: none\">&nbsp;&#x22A2;&nbsp;&nbsp;</a><a class=\"ProveItLink\" href=\"../../../__pv_it/_proof__alpha_l_sqrd_ineq/b1b81aca409577108783218886b9a43fb126197d0/expr.ipynb\"><img src=\"data:image/png;base64,iVBORw0KGgoAAAANSUhEUgAAATcAAAAzCAMAAADFGr+iAAAAOVBMVEX///9RUVEMDAwGBgZUVFSq\n",
       "qqpmZmZ2dnbc3NwQEBC6uroiIiJERETu7u4yMjKYmJiIiIjMzMwAAADXgg5WAAAAAXRSTlMAQObY\n",
       "ZgAAAAlwSFlzAAAOxAAADsQBlSsOGwAABINJREFUaN7Nm9mWqyAQRbndCJTM/P/H3mhWOwW0mDQ8\n",
       "ZiWHnQMURaGEtGvscYGvZFP+4gtQyzYJaKV70D3HRi25wzfiZYlxV3SPsVFO2vvGZfAfAoMssI23\n",
       "ZjuglbJZQzr4RmyICHBKmtNBJVohmwDRxTdmYgLSktZ0UIlWyCYd6eLbXvdPYABNGtNBJVoZm0V1\n",
       "m88mYjHk1UzWro+hg0q0MjbgfXyLxxBCxiBIWzqoRCtic0H38Y2qhIDJCL8oOqhEK2KTuG/m+wYu\n",
       "ITAEfBRB0UElWgmbD76Pb/4w5VcBHRxexHdgO6KVsFFkp7+5vjlICih0gomj+61EK2ED5IL+yT5T\n",
       "UqITAhYdfXF0P5VoBWw+IFO97HX6EuYJAY3tFEkHlWgFbA479Pm+jdqlBLCTHEkHlWgFbArb59/3\n",
       "BDOgMP/GsuSYooMIki6X7YiWZhOQmH2gMn179TjSkmLQlo0H5G82dIIxk6jD9WMbQ/wAoQPLlKZl\n",
       "lcc9mw0j5idbOqHm/zTezKZTgddlSjvagA3Z7fZrdF5/AN/BNoQhU1qjf3HCtp/m2thrOpgTeRrd\n",
       "KDqyJQ+4PldaBV3NRsJuZmgeLxZt6egcrmmUtz2bd9Y5Q4SZdldvgAnnqEtt9BzCu7Gk9ECHoBqw\n",
       "HTWc5BqRhshwIt2OTc8ycjnnSzrsT2d8O0CcjwP31vn0mE41a1o2qDs2+Kx9W8mOuvzYUyL2NGcb\n",
       "5/qlex8tlnxokxGzTT/+5akTxJ3s9WKyfECv7TSbjCVwg2H7+cWOLiSqI+3ZZFBOkNW3ef5td6nD\n",
       "vFe7zVyHdVr8W+pWa41CG7m2BTh8tFVgYYsntKPZpRJHOqaiaDG2OBqa7RVx39EK55un71W9SLD9\n",
       "kMwz1Yf6GJL0TZ34ZmkcrT2b0H+7UsK3w0pgr75DWlrPo4m5NSxcp/RsnQ7T4UiIO9iG2aHpujvh\n",
       "G9/tWHriTKTy7zGd2MxAWsTeyL4gPvaFzSd+PlM6fQfb+15rOuq+HTNH39wujrppFgSeluZu2u1z\n",
       "iIyIs1FcHrLSCcmmJm9hG7lzjo+vuAVAtacBqB9UWKn3ea+aRoue+PaCczwHTYdEjrTLELW7znvl\n",
       "O4ybu9lSJ5mxZCpftLV0MZjEWWb7D7W0dXQd2ZInZ9vet6V0Ibg03Nec6+23smXXkRBtU7rYxGko\n",
       "KCcg6R5gk6a9b5vSxSaRgNODZxXdA2wUOsy3pXQxQlyAItNTCt/KZrEH4ex7mal04SjRsRiCrc7b\n",
       "Ts9g1LN5bKkv9253Dq/MkSUt2wgIbJUZSfcEW69757l04Zn1EYGn751bsDHosk6ZOhGg6OccGHwr\n",
       "29ghtzyULj4E8M/V4OgeYZOsvW+x0gXk70VYukfYOuxZ0dIF7MNLS7pn2Jo/pxovXXzHc6oN2XAT\n",
       "LoMtXrpYL+uyij0YuofYDG8dQ84ExswrJ8O/lc13eu8jLiAzS7K+x3sfbdicus+3/PeMrukeY6O3\n",
       "rYWx4OKk/Xttzdiu7zMavatoSu7Tr+geZLt8b9fXsk0C2nR5b7c123/HZkCHrBjPbAAAAABJRU5E\n",
       "rkJggg==\n",
       "\" style=\"display:inline;vertical-align:middle;\" /></a></span><br>"
      ],
      "text/plain": [
       "denom_sin_bound: {l in ({-2^{t - 1} + 1 .. 2^{t - 1}} - {0})} |- sin(pi * |delta - (l / 2^{t})|) > (2 * |delta - (l / 2^{t})|)"
      ]
     },
     "execution_count": 20,
     "metadata": {},
     "output_type": "execute_result"
    }
   ],
   "source": [
    "denom_sin_bound = denom_sin.deduce_linear_bound()"
   ]
  },
  {
   "cell_type": "code",
   "execution_count": 21,
   "metadata": {},
   "outputs": [
    {
     "data": {
      "text/html": [
       "<strong id=\"sin_bound_is_positive\">sin_bound_is_positive:</strong> <span style=\"font-size:20px;\"><a class=\"ProveItLink\" href=\"../../../__pv_it/theorems/ed797affc893612e66c0c5986a27df66999a2d7c0/expr.ipynb\"><img src=\"data:image/png;base64,iVBORw0KGgoAAAANSUhEUgAAAR8AAAAaBAMAAAB8w0V5AAAAMFBMVEX///+qqqq6urru7u4QEBBE\n",
       "RERUVFTc3NyIiIgyMjJmZmaYmJjMzMwiIiJ2dnYAAACPW0xlAAAAAXRSTlMAQObYZgAAAAlwSFlz\n",
       "AAAOxAAADsQBlSsOGwAAAxFJREFUSMfFV01oE0EUfsmSnybbTW6KBw3WWw/uoQgqkiA9CCINiN6E\n",
       "eIiiKF2hCgqaHETqybbgD4jaS/0JNOTgwYNgDupBkMaDguLSHFTaQ7BtDlqU1pnZ3XR35u26G4I+\n",
       "2M0w8773vnnz3psNgE+5bQ32ToB/6Q7FSzIjzklL5kAeb/i3FBCVcJnfgsyFOjsMBSAUEBXL49ui\n",
       "VqTtTtXW/XpwQhzqnIY4M/3ENtH3M9RMpEZe1weck33pbiLkRMlFVdDo+Hl9mLz6qULrN6czRvFt\n",
       "2z4rN+uQUj0IvVWR6CCoSEE4U+pHWXhE3kfJE6cKySVOqUp1bF7Pg7ICOwBeHSGiiYSk0w8QQhhK\n",
       "EfbCZiZhHznMFjVF+SX4glzhoCcBhuGaJObQoDW4gRDCUDihZAOUvEEI7tJzK7Ol+DH9o1GhbQ46\n",
       "osKo9lhRBUKbvQhhKJwQOUh6cozQDHlKbBPhOxY0zkPPAozW3zy3cmNxreyHEIbCCaWmQV42CV0l\n",
       "zwu2crFjMzoh7mUerSFPQhgKJ5QlhH6ZhHYSS0Vnj4dIXkgs+Wc3hERUPCf0ZuKn1GSqNDgwR47r\n",
       "AFvZINBHS2+sZof1F7ohJKJiy/wM9UMJrZEf2rNKGZB/sN0c0nX9vWFnGuDCFBns1ql8NlONl1ld\n",
       "H9b1Dx6EENSuSVrb95hhmrrMT7YJYRIh6RRhlM2YYZTyjgjJM3YXSTxAf4kQhlrkrm3mhyR1iIRO\n",
       "mTIqLFJg1hrOI3P01K0Q04ITQlD2/m8mbIElbZIsbKNG5jRI1Zp0ZbyjE81z9SA3Ia4GJoShlBza\n",
       "GHMst7+YVZYaKDuvQXaGdkKXK5VZ7yP7boQiS8xKqx4ol6vjHQzVzbJ/SvhVjQupaF27Yb5Tz6+v\n",
       "r3oSOjFyq2aVA3zyQLkQ2rNwBkxCDzeWwl/NqwP2o1CvCPkVF0KGdO4yQap+CQ32nJDUxmAv0Z7a\n",
       "CxE+LOx+nrg2mGga66m9kKGae++WDtIs1Fy/qS8d7z2fK4hNy0/sW9r1m5q0tP8kLv860P9l/0QS\n",
       "pJP+AUXY/t/p7aHUAAAAAElFTkSuQmCC\n",
       "\" style=\"display:inline;vertical-align:middle;\" /></a> <a class=\"ProveItLink\" href=\"../../../__pv_it/_proof__alpha_l_sqrd_ineq/85fbb1257cd07d9997616a9d45c77bfe507199030/proof.ipynb\" style=\"text-decoration: none\">&nbsp;&#x22A2;&nbsp;&nbsp;</a><a class=\"ProveItLink\" href=\"../../../__pv_it/_proof__alpha_l_sqrd_ineq/818e72b4690a7e60af9a3d3017d72113e7c7743b0/expr.ipynb\"><img src=\"data:image/png;base64,iVBORw0KGgoAAAANSUhEUgAAAKEAAAAzCAMAAADIIZjMAAAAOVBMVEX///9RUVEMDAwGBga6urqq\n",
       "qqpmZmbu7u6IiIgiIiIQEBDc3NwyMjJ2dnaYmJhUVFTMzMxEREQAAABmSgG3AAAAAXRSTlMAQObY\n",
       "ZgAAAAlwSFlzAAAOxAAADsQBlSsOGwAAAzhJREFUaN69WdmCpCAMZHfkCjf//7Gj9LZCNyhBXN7m\n",
       "sFKEHBUgpG8xcnPdBiAk+LO/wl34DYAHfgPBWfI4Q+LlOEVnyGSGRkb/BUDlKEGryWyGxMYKgHFj\n",
       "BBWo+QyZrgFIO8RQCjKfYQn6BqAwEooWyHyGqgjDA0CP1B0wDzAsw/AAWKJCY4nIH2DoQgNA45NF\n",
       "dnyCZwiiAUAjNhJ99A8w9B+HeQDwKLDH0WP9Bx060AQI2LINPXHxF93mHeENAIvMFR97aij6lFdU\n",
       "0wDg0SIzWT3CcOGiBQC4bA5dxt//pJiG0LMly0xzi8hAhKxuKcZ0XSe+DaxmFzfSt3KGJnaJIyOY\n",
       "SkFxdCEV0ufLiQE3KvCgaDfL9QearuSk2hLlCBeXjg/gxIBwExj6jopoUySYsFV4eqCkau9qqQN7\n",
       "HtL7DPNzW3/Stl6t/vUfm3UUl3i7Wo/ZDYTIbzMksTgJbirq77UJvzrku9jI2DZAHY1hAsNPDCFN\n",
       "uXH+ZriW1U+f1IME9mHBjTmxYAi6EneMF+rSvMmwT4N1pQOvz9QWGv42Q1kriFQz9c3QrC75mC5C\n",
       "5uljq392yXdIIa7lsXba8WsdADvDepdY9F7M+Ivhsvrwg6HNPShZ6YLUT328H4dNhsfI/4rDrdKU\n",
       "p0w35qpRbXjy3uXgOn7KLjMcwqu28zVTsl/75FrBGwYSQ03JQ5mivqe7baIVWeArybYlWwaM2OoN\n",
       "hpdWdYbuqtqsft66HnhSVGz5imzddIERwmAI8tioh8VEykVtXufMCOdTLC7oQ7qalHeFRHWj6+X7\n",
       "5BfXEH0SG8NwV0jKSG38oHJoenwCw0whZVmVA1Cc/JB6MsNMIWWVDNCDB24YRflwV0gL1AEcrujb\n",
       "LiWAnqQ2hbTKXV6LQ8DJI98VFNiJPiUDE2Qvcz+5bkFeOjwy0SeF5Jn1EyZ6wmD+KbNwAuCwtyJL\n",
       "T83GMbTuDAB9s5SLrDkMawoJkKmJzmYMw6pCggsRf2F+6i1xXSHduiXucSKCYV0hQTkIY5c2k3O5\n",
       "DbCMjYr+iRefOoAcvLMQ4T8xHH01e+LlsQqw6HGEiwFp0uutvvPAfP4C7u8y9OkKYIDgL1QPInxy\n",
       "7vlPAAAAAElFTkSuQmCC\n",
       "\" style=\"display:inline;vertical-align:middle;\" /></a></span><br>"
      ],
      "text/plain": [
       "sin_bound_is_positive: {l in ({-2^{t - 1} + 1 .. 2^{t - 1}} - {0})} |- (2 * |delta - (l / 2^{t})|) > 0"
      ]
     },
     "execution_count": 21,
     "metadata": {},
     "output_type": "execute_result"
    }
   ],
   "source": [
    "sin_bound_is_positive = denom_sin_bound.rhs.deduce_positive()"
   ]
  },
  {
   "cell_type": "code",
   "execution_count": 22,
   "metadata": {},
   "outputs": [
    {
     "data": {
      "text/html": [
       "<strong id=\"denom_sin_is_positive\">denom_sin_is_positive:</strong> <span style=\"font-size:20px;\"><a class=\"ProveItLink\" href=\"../../../__pv_it/theorems/ed797affc893612e66c0c5986a27df66999a2d7c0/expr.ipynb\"><img src=\"data:image/png;base64,iVBORw0KGgoAAAANSUhEUgAAAR8AAAAaBAMAAAB8w0V5AAAAMFBMVEX///+qqqq6urru7u4QEBBE\n",
       "RERUVFTc3NyIiIgyMjJmZmaYmJjMzMwiIiJ2dnYAAACPW0xlAAAAAXRSTlMAQObYZgAAAAlwSFlz\n",
       "AAAOxAAADsQBlSsOGwAAAxFJREFUSMfFV01oE0EUfsmSnybbTW6KBw3WWw/uoQgqkiA9CCINiN6E\n",
       "eIiiKF2hCgqaHETqybbgD4jaS/0JNOTgwYNgDupBkMaDguLSHFTaQ7BtDlqU1pnZ3XR35u26G4I+\n",
       "2M0w8773vnnz3psNgE+5bQ32ToB/6Q7FSzIjzklL5kAeb/i3FBCVcJnfgsyFOjsMBSAUEBXL49ui\n",
       "VqTtTtXW/XpwQhzqnIY4M/3ENtH3M9RMpEZe1weck33pbiLkRMlFVdDo+Hl9mLz6qULrN6czRvFt\n",
       "2z4rN+uQUj0IvVWR6CCoSEE4U+pHWXhE3kfJE6cKySVOqUp1bF7Pg7ICOwBeHSGiiYSk0w8QQhhK\n",
       "EfbCZiZhHznMFjVF+SX4glzhoCcBhuGaJObQoDW4gRDCUDihZAOUvEEI7tJzK7Ol+DH9o1GhbQ46\n",
       "osKo9lhRBUKbvQhhKJwQOUh6cozQDHlKbBPhOxY0zkPPAozW3zy3cmNxreyHEIbCCaWmQV42CV0l\n",
       "zwu2crFjMzoh7mUerSFPQhgKJ5QlhH6ZhHYSS0Vnj4dIXkgs+Wc3hERUPCf0ZuKn1GSqNDgwR47r\n",
       "AFvZINBHS2+sZof1F7ohJKJiy/wM9UMJrZEf2rNKGZB/sN0c0nX9vWFnGuDCFBns1ql8NlONl1ld\n",
       "H9b1Dx6EENSuSVrb95hhmrrMT7YJYRIh6RRhlM2YYZTyjgjJM3YXSTxAf4kQhlrkrm3mhyR1iIRO\n",
       "mTIqLFJg1hrOI3P01K0Q04ITQlD2/m8mbIElbZIsbKNG5jRI1Zp0ZbyjE81z9SA3Ia4GJoShlBza\n",
       "GHMst7+YVZYaKDuvQXaGdkKXK5VZ7yP7boQiS8xKqx4ol6vjHQzVzbJ/SvhVjQupaF27Yb5Tz6+v\n",
       "r3oSOjFyq2aVA3zyQLkQ2rNwBkxCDzeWwl/NqwP2o1CvCPkVF0KGdO4yQap+CQ32nJDUxmAv0Z7a\n",
       "CxE+LOx+nrg2mGga66m9kKGae++WDtIs1Fy/qS8d7z2fK4hNy0/sW9r1m5q0tP8kLv860P9l/0QS\n",
       "pJP+AUXY/t/p7aHUAAAAAElFTkSuQmCC\n",
       "\" style=\"display:inline;vertical-align:middle;\" /></a> <a class=\"ProveItLink\" href=\"../../../__pv_it/_proof__alpha_l_sqrd_ineq/79c21201a2e414ec6abd173a81f7402398dff96c0/proof.ipynb\" style=\"text-decoration: none\">&nbsp;&#x22A2;&nbsp;&nbsp;</a><a class=\"ProveItLink\" href=\"../../../__pv_it/_proof__alpha_l_sqrd_ineq/6d905c15335b6b3747c02ab0fae99c5617ceb2550/expr.ipynb\"><img src=\"data:image/png;base64,iVBORw0KGgoAAAANSUhEUgAAAMUAAAAzCAMAAAAQLTzGAAAAOVBMVEX///9RUVEMDAwGBgZUVFSq\n",
       "qqpmZmZ2dnbc3NwQEBC6uroiIiJERETu7u4yMjKYmJiIiIjMzMwAAADXgg5WAAAAAXRSTlMAQObY\n",
       "ZgAAAAlwSFlzAAAOxAAADsQBlSsOGwAAA7FJREFUaN7FmtlipCoQhjkT9rWK93/YEZmodMAGG3K4\n",
       "yU3ntz6ojVJC5i3+vwt0LItvfqA+fUIScNathKCB/AYFQbMQgwoynUKYiD8FmFkGETyZT0FCrAkI\n",
       "ughCKrmCgvuqgAlrKAyQFRQvst8CTC0JjaDICgpZhsUp4JfkXCWWULyExSmgo5wPAdEtoaC2JeAX\n",
       "BLjp0xymUNASYHF6ZGDEJRT46jengIswm4J2mvc16qiqLWCnlz7V6aR/RhszSlxLIMyOb4ydRWjU\n",
       "ozZd0RJwcXLlg95tGabQDpoCanKWsr3Wff9Ocq9sB3ngor0NDwNDqsYZKjtIsdmm6ZNMeaUQsasr\n",
       "FsCL/dKxXvZd5ING0Ke5XhV1Xb//B882+0yB4VrBDYNGAJ1A0fPYsHud6PEVFtmgEa77P24oShdw\n",
       "PtRTdW+dD52V+2KEfdg/FGkkFifqROVykEExbRpCAPBE+pTb0CsuASg0Eq1QMS/eNoJRFu0EilcN\n",
       "MMLVIjbVM7f/2Bx9pKGs7HDEZWOF0ExgAMS2EeluS58dRkGhfCUOuCuuJ+I7gvR+r4LDy3J1uFRO\n",
       "flqEGyBIAnhjhEwbwLq9sE1hagWD+UtiPSi2PyZakGes2P1sLgmClonblpnUxXPL/jvuDGcX7Lw5\n",
       "14EWf6xT4KCoF1vtj8e7TKGTsVvcZDfvokCa3e98GC+3cj9FjJ/HRZPiHLvluEhJVLrvPNSg4IWP\n",
       "883IeGOE20+hZ+7z0KPoJddkW8NmINvtTYO/BoW45iiXkFpVNZ8F/qupa6Jb/hxqpHFQnpqk5i3b\n",
       "718p4BqpkDYoihsjBKRcO2K7l3UK+i7TbueVOhC12acFAAi9ObxS1CGNiiKz8dQoqp5Nm0zvKDYM\n",
       "ECMQLjbqRVGSHNRGYo4LoF3pkPW0ZcP3C8m5z0N45hsdyHUv3Kfjwu6r3giFtHvEaSKF8QIfdoND\n",
       "VzI+nyJnGqXKTKAeNaGd0yg/n0Lt6Zum9HdJ5OrJPXnyIGfoLEwuqLh1QHUBGqdC7FVlzWzQxP1K\n",
       "5WpxoexcCuz10K9h4S2AOZCjDHxd+9XZw8FVU7V9/Is84G9M1QhXSzyK2xsBOn3CqTvr3hhFoHcC\n",
       "86fN1+57GgVLpVnKhkCYP/nv1RyhwL2/ANcQMCtes05/IyYNT8s0BJa8Ees8jAEKk++pvjUKWvPG\n",
       "24vp0X0joOOajyhwzVv7hoBhZM0C+3sUy76gWPM1S11Ae7JuvZ8ITPqyyC/9QOrtV174cfSlu+kT\n",
       "iL80cidmr3tuiwAAAABJRU5ErkJggg==\n",
       "\" style=\"display:inline;vertical-align:middle;\" /></a></span><br>"
      ],
      "text/plain": [
       "denom_sin_is_positive: {l in ({-2^{t - 1} + 1 .. 2^{t - 1}} - {0})} |- sin(pi * |delta - (l / 2^{t})|) > 0"
      ]
     },
     "execution_count": 22,
     "metadata": {},
     "output_type": "execute_result"
    }
   ],
   "source": [
    "denom_sin_is_positive = denom_sin_bound.apply_transitivity(sin_bound_is_positive)"
   ]
  },
  {
   "cell_type": "code",
   "execution_count": 23,
   "metadata": {},
   "outputs": [
    {
     "data": {
      "text/html": [
       "<strong id=\"denominator\">denominator:</strong> <a class=\"ProveItLink\" href=\"../../../__pv_it/_proof__alpha_l_sqrd_ineq/b675f5d046a6f733984f71d120db3ff0ccbb5ea30/expr.ipynb\"><img src=\"data:image/png;base64,iVBORw0KGgoAAAANSUhEUgAAANQAAAAzCAMAAADYQdYQAAAAOVBMVEX///9RUVEMDAwGBgaqqqqY\n",
       "mJiIiIgiIiLu7u4QEBBUVFS6urp2dnbMzMxEREQyMjJmZmbc3NwAAAAh1uUqAAAAAXRSTlMAQObY\n",
       "ZgAAAAlwSFlzAAAOxAAADsQBlSsOGwAAA8JJREFUaN7NWtt2pCAQZDfYXOT+/x8bwTOCDjjACLs8\n",
       "5QRTdkl30UVA6D8Y5p8DtA8lPzzAvn2DB6CKTuTEFzSDFJJkHisu0OOkBHHyHQCTWZwWjZ4nhRaX\n",
       "AxB8DifL7AhSRmcByDKFFAE0gtQF9gWA2YyyWhgaQcqeSyoC6BnizsQQUpeSigCrs8M5gaNDSHFV\n",
       "AtDjtYLUvaKZFIMSAHajq0o6OYSUvCZZBKAOqmF0V6ryymh/WrOalQFU9Q5MXZ9MVCb439ZmkiNa\n",
       "AliqpQLrvuyr3Atb02/DFSUAWvlSK4gWsp0U1H60ZlIrhSJAbXogjbssR22wr+es0UxVfIjFiPJX\n",
       "CUVljdF5xxNnbnXSssKCM9VIagt15T2SnJISW/1bFX5YM8EeM+vtJ1+dKaiLaYyJ9+4x7NRtrIiH\n",
       "5WaZsOMMbGpzU1O0pBPQGBPwB0j517KQWjxT03HGABLtHxE73BgTdfh7Uj5BeNiseGbvjzPSLB3i\n",
       "tzjZGpPqbHJOeeZe602Ku2t5RsICoJHVXkSlZsYCcCgoumBuH6YcE+bYqQdIqU/pX56h4W/J0RkT\n",
       "js9dmUg+uxArFnIBKcsxeePP+5bqRIrpT910eWYNLhP2ruXYlZL93MQA5cYXLAJ5E5P13wM7+TUp\n",
       "snd/RiVlduqIjHoXan0kpgKLIqnwaLKw/Jy46izZ6Yv+HB4p9vVUkzgOpu5tRICDVKC4pKtB0qRf\n",
       "Mut0PEAF2UukipTke67mXhTXWLrvayqQwr7nsLnupDzjf09fClcgZU71YbaY3U1MNKzRotEj6SdD\n",
       "HwWZAi3PBMYhfH/8WiAlUvWjnmGub4krJbubzDehsMT4kbFW5ZnkOMr3nzsdfSUFadGDh3HiJiYB\n",
       "XtRbqETnyi4ujuz1pnM7VGlmVz8BAGLdioUxTiV3jEusXOz8T5uv8kvA70htrEC0cEqc63mfGnlM\n",
       "hkvZ9pWfitYhca7nNkkMJFVtfFtIHdbh5FxZVx/dNZqtR81ZTjQViaiwrj6679RPP08qMRXJjsF6\n",
       "DhH6BmcDVuqwDqlzTQG4G8lpkz/6vFAc1iF1rqznEKFXKSqz+6cZeNOC1LkmAHasTow7zAzWIXWu\n",
       "XYeZncOwIen3bh3YtegGjrVy+20jlbEOCcDo7Lv4mIdI5awDaxen4frXQiprHViFU39QKp7+92je\n",
       "Okz992jlUjWQyluHeMY25SaFFo8LxQ3A6qbc5JFjLocUAAhGUwaoeaRmXeMZc+EqD7BqNG18Pkx5\n",
       "6Gqcnnnh7+MlRvl15XobHzn9AoAHKVtn36ZYAAAAAElFTkSuQmCC\n",
       "\" style=\"display:inline;vertical-align:middle;\" /></a><br>"
      ],
      "text/plain": [
       "denominator: 2 * 2^{t} * sin(pi * |delta - (l / 2^{t})|)"
      ]
     },
     "execution_count": 23,
     "metadata": {},
     "output_type": "execute_result"
    }
   ],
   "source": [
    "denominator = _alpha_l_summed_abs_dist.rhs.denominator"
   ]
  },
  {
   "cell_type": "code",
   "execution_count": 24,
   "metadata": {},
   "outputs": [
    {
     "data": {
      "text/html": [
       "<strong id=\"denom_bound\">denom_bound:</strong> <span style=\"font-size:20px;\"><a class=\"ProveItLink\" href=\"../../../__pv_it/theorems/ed797affc893612e66c0c5986a27df66999a2d7c0/expr.ipynb\"><img src=\"data:image/png;base64,iVBORw0KGgoAAAANSUhEUgAAAR8AAAAaBAMAAAB8w0V5AAAAMFBMVEX///+qqqq6urru7u4QEBBE\n",
       "RERUVFTc3NyIiIgyMjJmZmaYmJjMzMwiIiJ2dnYAAACPW0xlAAAAAXRSTlMAQObYZgAAAAlwSFlz\n",
       "AAAOxAAADsQBlSsOGwAAAxFJREFUSMfFV01oE0EUfsmSnybbTW6KBw3WWw/uoQgqkiA9CCINiN6E\n",
       "eIiiKF2hCgqaHETqybbgD4jaS/0JNOTgwYNgDupBkMaDguLSHFTaQ7BtDlqU1pnZ3XR35u26G4I+\n",
       "2M0w8773vnnz3psNgE+5bQ32ToB/6Q7FSzIjzklL5kAeb/i3FBCVcJnfgsyFOjsMBSAUEBXL49ui\n",
       "VqTtTtXW/XpwQhzqnIY4M/3ENtH3M9RMpEZe1weck33pbiLkRMlFVdDo+Hl9mLz6qULrN6czRvFt\n",
       "2z4rN+uQUj0IvVWR6CCoSEE4U+pHWXhE3kfJE6cKySVOqUp1bF7Pg7ICOwBeHSGiiYSk0w8QQhhK\n",
       "EfbCZiZhHznMFjVF+SX4glzhoCcBhuGaJObQoDW4gRDCUDihZAOUvEEI7tJzK7Ol+DH9o1GhbQ46\n",
       "osKo9lhRBUKbvQhhKJwQOUh6cozQDHlKbBPhOxY0zkPPAozW3zy3cmNxreyHEIbCCaWmQV42CV0l\n",
       "zwu2crFjMzoh7mUerSFPQhgKJ5QlhH6ZhHYSS0Vnj4dIXkgs+Wc3hERUPCf0ZuKn1GSqNDgwR47r\n",
       "AFvZINBHS2+sZof1F7ohJKJiy/wM9UMJrZEf2rNKGZB/sN0c0nX9vWFnGuDCFBns1ql8NlONl1ld\n",
       "H9b1Dx6EENSuSVrb95hhmrrMT7YJYRIh6RRhlM2YYZTyjgjJM3YXSTxAf4kQhlrkrm3mhyR1iIRO\n",
       "mTIqLFJg1hrOI3P01K0Q04ITQlD2/m8mbIElbZIsbKNG5jRI1Zp0ZbyjE81z9SA3Ia4GJoShlBza\n",
       "GHMst7+YVZYaKDuvQXaGdkKXK5VZ7yP7boQiS8xKqx4ol6vjHQzVzbJ/SvhVjQupaF27Yb5Tz6+v\n",
       "r3oSOjFyq2aVA3zyQLkQ2rNwBkxCDzeWwl/NqwP2o1CvCPkVF0KGdO4yQap+CQ32nJDUxmAv0Z7a\n",
       "CxE+LOx+nrg2mGga66m9kKGae++WDtIs1Fy/qS8d7z2fK4hNy0/sW9r1m5q0tP8kLv860P9l/0QS\n",
       "pJP+AUXY/t/p7aHUAAAAAElFTkSuQmCC\n",
       "\" style=\"display:inline;vertical-align:middle;\" /></a> <a class=\"ProveItLink\" href=\"../../../__pv_it/_proof__alpha_l_sqrd_ineq/c33aee81ba6f247f6b6146c8a97c35bac17ccead0/proof.ipynb\" style=\"text-decoration: none\">&nbsp;&#x22A2;&nbsp;&nbsp;</a><a class=\"ProveItLink\" href=\"../../../__pv_it/_proof__alpha_l_sqrd_ineq/29c062e08b1c71d33af393ca692db994ea8412680/expr.ipynb\"><img src=\"data:image/png;base64,iVBORw0KGgoAAAANSUhEUgAAAcUAAAAzCAMAAADRo+MGAAAAOVBMVEX///9RUVEMDAwGBga6urqq\n",
       "qqpmZmbu7u6IiIgiIiIQEBDc3NwyMjJ2dnaYmJhUVFTMzMxEREQAAABmSgG3AAAAAXRSTlMAQObY\n",
       "ZgAAAAlwSFlzAAAOxAAADsQBlSsOGwAABlJJREFUeNrdXOuWoyAMdndULqII7/+wq/ZMJUg6CQLt\n",
       "rP9oepJ8CZCQoF33Yc/4dga/GqRbW+j/oxR9V8LOQDgR/hQNyyl7R8fSII/HLi2c+LOUIgC7VQGE\n",
       "0bCYsm/1YgKVnZs4ca4AcFZ+vTAYFPhPNCylbDMvRhjTILvFtHAiRUrGNF18gsFsoRlsDWXbrUWI\n",
       "MQ1y0lMDJ5KkZHhxNCkGCu6HaqmgbDsvQoxpkEq2WIokKfou328GgwZRIxqWUbadFyN1UiAX3cKJ\n",
       "NCl8VaZUyNgeA9NxM5ZXtpkXI4xJkLpJakOTUipkdF3vwZ4YDYso28yLEcYUSOlFAycSpfC9aB3C\n",
       "wMCMxtjiyjbzYoQxBVLZFkuRKIXvRS0RBgN0xcDwTGWT6JsYEyBX36JqQ5Wi+YwnhIHwAHs0LKFs\n",
       "Ky/GGBMgLZOnyUrBqVK+2Du1Rhk4eCp2qrSyubb6uokxAVLzdg/h86YfUcpfLmNnO4EwWOAUXsj5\n",
       "jS60oWK2+nsT4xXk6nnn4SGrpkGWwl4FG+MZYSCgUEHVgWsStq30TYxXkJKVgU+zMnNG0CBL4Xux\n",
       "FxJjEK0p6hLjmSTDVvomxitIxw2LQw4ispTv/02j0Y5izGVEp2luYHTFwuJQBmSM8QpSB0eRaRxN\n",
       "uql2Ul7m65NG9iLtmF7c1O5tzqEtBDjDuDQTQzpQFrUJgYDZqjhI4c8azuSOH/uEYk9K/3Ke9n5E\n",
       "wvzI1M/mHrs1yGf6Dh/iOcnY/WwTAgG1VXGQa3CKssfi1gnZJ0Vu6dKLuCiwfEEy9ZO2AMBILFEL\n",
       "8DfUJgQCaqviIAd/7t362AFsIraflFF2M38GhVJo+gk/3AcYbQFwKMxCUBa1CYGA2qo4yCUoU9gj\n",
       "+ttE4eKkrOOSkaIu5GLIUz+XWcoEi8PDyQ6HYk63n4CyqE0IBNRWxUFes2qF5gA4ZZWLlKabzJ72\n",
       "rkaPk5RWYrn7rP3jGVH9Bjt4VwAg5HFhKVVisSQOGihyPqEKyDmeDXjwwCni0GWfg48Su7IDLP4B\n",
       "KfPcD/O6yHVF9duvS9i8eQoA6qhFfj2FL2qMxVxMgiPnE+qAHGM2eDkfp/RHy1k+akXPA1dQAQml\n",
       "rJuH5dTJF5vNtE+AIa8kDQAqeEJUKllgGeHau5gER84n1AFpo5U/uiBsGoRy+YPyTk7d6cXjr2H2\n",
       "G0lxIMsOBf05/u66sLEgjDqfJ2p/eU4GT4AwhVTp1L83IOWPlcVtQiE0ARmpvIRzSI0YJf7Dlig8\n",
       "ohzNi6t97L8JQecqXjPL7jledK+8iNqERmgBEm4fw17pmVI1IZyy/y6+UzvEi9EmNW4APK6fOCZo\n",
       "5lXCjB3VvtxRUeR8QjWQc5iQrUe5TiYCLk451D78td+lRrwIpGwAxF7hxfU7AOYVbDOym+mS3UwU\n",
       "5HxCPZAyCK+TGvcnMWFxysOLR3az13Uf/jOxFyUI4nLn42dcv1nuaTgH1tmOhQB/aGogJ42VgJxP\n",
       "qAgyPOKqR/w0qdMPRnkElllKOfdbvNPaitV6bdfB+dNo8NTv9gloX3hxQyhZl9CCdiw8SsETaVTK\n",
       "kYRTP4qcT6gIcqBViG8+dCmcptDZPAjasbA4NXfoUKjlrrK5T3GQxfraLx+6FAbAZ/MAtGNLVMOX\n",
       "z/EiEaRv8tomuzNFeIKuQpAkaLCqhg4f3le2gReJIFWT16XIUhgAg65CcDbQeEWUehOjuknKg7RN\n",
       "XtKwusI0fTYPwnasxs/v1hdWtsVapIFcmtzvJ0thG3BvHoTtWHCxKLr87wor2yK7oYFcczuVzPSG\n",
       "KOWLzXiL7WE7NmAwwWxmol44qG6SCiB1k9c0at0qPpoHYTv2k24VNwQ5NgmMVClMZa7NAx3HFGxY\n",
       "QNlGOyoFZN/k3E+VwgOYaB4EDKIdlP62TW2T1ACpmpwYiVJYAFPNA40lKZycpbJJaoD8qCyVAzDZ\n",
       "PNAwmnTY8J1ZahWQv/SN8HTz4D97I5wO8pMWIwNgunlw3hKEa8/ZCjtHfS8yQJomi5EkRZeyUA/9\n",
       "0DPdUtUkdUCuTb5atFb6alGagYIndzVUUPbtXoSopGuxGClSSgG8/QWxmiapBPI3f80vyaCHgaQ3\n",
       "VZR9sxevqEyLaipBSqGPThr4ZU0jqij7Xi+mUH3IV25va7EzEBCfMB/2ldvSIP8B2WVcwr30DWMA\n",
       "AAAASUVORK5CYII=\n",
       "\" style=\"display:inline;vertical-align:middle;\" /></a></span><br>"
      ],
      "text/plain": [
       "denom_bound: {l in ({-2^{t - 1} + 1 .. 2^{t - 1}} - {0})} |- (2 * 2^{t} * sin(pi * |delta - (l / 2^{t})|)) > (2 * 2 * 2^{t} * |delta - (l / 2^{t})|)"
      ]
     },
     "execution_count": 24,
     "metadata": {},
     "output_type": "execute_result"
    }
   ],
   "source": [
    "denom_bound = denominator.deduce_bound(denom_sin_bound)"
   ]
  },
  {
   "cell_type": "code",
   "execution_count": 25,
   "metadata": {},
   "outputs": [
    {
     "data": {
      "text/html": [
       "<strong id=\"denom_is_positive\">denom_is_positive:</strong> <span style=\"font-size:20px;\"><a class=\"ProveItLink\" href=\"../../../__pv_it/theorems/ed797affc893612e66c0c5986a27df66999a2d7c0/expr.ipynb\"><img src=\"data:image/png;base64,iVBORw0KGgoAAAANSUhEUgAAAR8AAAAaBAMAAAB8w0V5AAAAMFBMVEX///+qqqq6urru7u4QEBBE\n",
       "RERUVFTc3NyIiIgyMjJmZmaYmJjMzMwiIiJ2dnYAAACPW0xlAAAAAXRSTlMAQObYZgAAAAlwSFlz\n",
       "AAAOxAAADsQBlSsOGwAAAxFJREFUSMfFV01oE0EUfsmSnybbTW6KBw3WWw/uoQgqkiA9CCINiN6E\n",
       "eIiiKF2hCgqaHETqybbgD4jaS/0JNOTgwYNgDupBkMaDguLSHFTaQ7BtDlqU1pnZ3XR35u26G4I+\n",
       "2M0w8773vnnz3psNgE+5bQ32ToB/6Q7FSzIjzklL5kAeb/i3FBCVcJnfgsyFOjsMBSAUEBXL49ui\n",
       "VqTtTtXW/XpwQhzqnIY4M/3ENtH3M9RMpEZe1weck33pbiLkRMlFVdDo+Hl9mLz6qULrN6czRvFt\n",
       "2z4rN+uQUj0IvVWR6CCoSEE4U+pHWXhE3kfJE6cKySVOqUp1bF7Pg7ICOwBeHSGiiYSk0w8QQhhK\n",
       "EfbCZiZhHznMFjVF+SX4glzhoCcBhuGaJObQoDW4gRDCUDihZAOUvEEI7tJzK7Ol+DH9o1GhbQ46\n",
       "osKo9lhRBUKbvQhhKJwQOUh6cozQDHlKbBPhOxY0zkPPAozW3zy3cmNxreyHEIbCCaWmQV42CV0l\n",
       "zwu2crFjMzoh7mUerSFPQhgKJ5QlhH6ZhHYSS0Vnj4dIXkgs+Wc3hERUPCf0ZuKn1GSqNDgwR47r\n",
       "AFvZINBHS2+sZof1F7ohJKJiy/wM9UMJrZEf2rNKGZB/sN0c0nX9vWFnGuDCFBns1ql8NlONl1ld\n",
       "H9b1Dx6EENSuSVrb95hhmrrMT7YJYRIh6RRhlM2YYZTyjgjJM3YXSTxAf4kQhlrkrm3mhyR1iIRO\n",
       "mTIqLFJg1hrOI3P01K0Q04ITQlD2/m8mbIElbZIsbKNG5jRI1Zp0ZbyjE81z9SA3Ia4GJoShlBza\n",
       "GHMst7+YVZYaKDuvQXaGdkKXK5VZ7yP7boQiS8xKqx4ol6vjHQzVzbJ/SvhVjQupaF27Yb5Tz6+v\n",
       "r3oSOjFyq2aVA3zyQLkQ2rNwBkxCDzeWwl/NqwP2o1CvCPkVF0KGdO4yQap+CQ32nJDUxmAv0Z7a\n",
       "CxE+LOx+nrg2mGga66m9kKGae++WDtIs1Fy/qS8d7z2fK4hNy0/sW9r1m5q0tP8kLv860P9l/0QS\n",
       "pJP+AUXY/t/p7aHUAAAAAElFTkSuQmCC\n",
       "\" style=\"display:inline;vertical-align:middle;\" /></a> <a class=\"ProveItLink\" href=\"../../../__pv_it/_proof__alpha_l_sqrd_ineq/ec30d3da79ac9e83583591ce7ab9048146cfd1890/proof.ipynb\" style=\"text-decoration: none\">&nbsp;&#x22A2;&nbsp;&nbsp;</a><a class=\"ProveItLink\" href=\"../../../__pv_it/_proof__alpha_l_sqrd_ineq/e364daf1edc4a1da84a01abb4ba1d610baae08cd0/expr.ipynb\"><img src=\"data:image/png;base64,iVBORw0KGgoAAAANSUhEUgAAARkAAAAzCAMAAACUjozBAAAAOVBMVEX///9RUVEMDAwGBga6urqq\n",
       "qqpmZmbu7u6IiIgiIiIQEBDc3NwyMjJ2dnaYmJhUVFTMzMxEREQAAABmSgG3AAAAAXRSTlMAQObY\n",
       "ZgAAAAlwSFlzAAAOxAAADsQBlSsOGwAABSNJREFUaN7VW9uCrCgMdHeUO3L5/489ottKlHQTtNk5\n",
       "vDE4KShDJQR7GH5ZY/+7gUsLvsfCP6KouwjJAA88/9OpS2xu7kHMZ5RHmBm8BFycurQp2y7E2OFx\n",
       "ZqyM/mpgkuChU5fQZtODmBoUus/MsWTAOsifa5uyVroDMVUodGaYKRqQcOPKNrWQoofLVKGou2Zf\n",
       "BiYFtOXUrfVH1WUvVaGQp6KhzBwGDIzfpiWcqy7yW4eibsrMYWCMYPOeulVNRN6BmEoUMjMuYAYM\n",
       "VF1DF2HpuqhMHQqZGSUwAxN8FxPZAXzskf3WoiiyXY0Z4BGQdurWuCNxMqYpwtei/FA3qcINBJjf\n",
       "BWq6p2ibicc2/a1E+Zd6EHMDxwzM0J9mogb7SMuBJtO2mSpRqLtpsWsxAxyCcuJKBYlJbaWxDbpU\n",
       "jUJmZuQCNXByVOLuCFSZmZqqD7Uor+c0MypUsDkzi1N7T2hUlg9oxky5gnKMvI19Ws2fUaqYWdY7\n",
       "upY8K2fGQk20VRJprWB63XxH1qzD+u9jYcX7yPj25Y+RIbLNiAtzrdmnApo7DngX3xNc6iSNxzZ1\n",
       "q/eqwtqPEbHEgjc6wzEBFsSFCfcAMyfYmlnM646zIWWGh26odae4glgeI0wMlv46c5S6hfE43Wfm\n",
       "5Kqwy81czgL+y5fnLDd1K1+ukK0eI57NDaFprs6z94WFxtMc8PgIPQ92uS3URTby/PJeruFUojqF\n",
       "j3gxC2EGbVJg9EYxLYQTSNC2Km6N4Qub3BTDA8xAGxeTQp42AH8xs6RJ51eDb0Z8hK+Icj/QSjfB\n",
       "E02OYu04WT8L7/GFpbqoa3MawIw61ftMQVcYB9Ue+1oqO+PjZ2J8ZFwLZmLfplv2kqWcGYpfSBN6\n",
       "EP7NwnQidWo76QJmJMxgpCwm9UxfmbHLm4HPsZB5lkFGLg/IGIQ+BCysj+ZRD6IEGJVzoH/2mstx\n",
       "OudGHm2nK17aYWCnAsZZWU45RrPPhm/MjMvcT3Oec7+QDBs5P7CI2SYbVcx4t229EtDhbT7e15la\n",
       "Zo6ruk1nUiyFu2lKjOlSUo6PpL/zV/xBmIEobFl4fLMwvnpL401Pw25y2bK2qc/LfG0eNfzqSqKg\n",
       "fPjIanzlIF1AIswAFJ5owtLRzWd88wGtQYFhqWL9/3RTIzKd05KlViAWH9mYWRU4HQA3TsyZmRxl\n",
       "CZVp0L5ZmBUpbreV09RAOGxfovbiV+l0oDzMweQmZKaUyWAj20a1Qgg7LgKilOPeReX8FOIxEZDp\n",
       "heQM7h0zCzWCdJ+RldPUNW9DulyUbsA4s8L5VWvG4futHoVSEzkKAFk5DZ4O7IB2+YdrS2pJr63V\n",
       "oxCY2QsAoJx280SJO9yXGrkKUdGy0kCm1go/yE60U6rs8hlENQqBmaw0kCUFCq+x0gq75EuVtubU\n",
       "F3xmLwDk5bTcwCmNdbTcce5yd1uNQn5PqQCQl9MUXmNVtNO7by0RfQflh2x4UdW8nPaTH5yB4mrq\n",
       "JaXqcq39rZu4tQCQl9Oeu4kbWBehqUUhTuZaAFBnIcK6n9vYJderRaExUygAZAZOu4d84w+LDd+L\n",
       "2+x5ZkoFAIWpfkOo+VXRicJMsQCgoAQNWLfuPf2dX6OVCwBPfo32q5yGwEy5AHBcy0AfCU0h2HRx\n",
       "miqUZ76uX32EQ5dpevu+y5fS/jtfSiMGJEwtZWM+K0IPp6lBeYqZh76u/5t/kVE2MEL1GW8UFEyP\n",
       "01MFykO/4jHwVzzmToj5Jb/8uj2LZIBDJngLMX8AwmE7Sd0qfX0AAAAASUVORK5CYII=\n",
       "\" style=\"display:inline;vertical-align:middle;\" /></a></span><br>"
      ],
      "text/plain": [
       "denom_is_positive: {l in ({-2^{t - 1} + 1 .. 2^{t - 1}} - {0})} |- (2 * 2^{t} * sin(pi * |delta - (l / 2^{t})|)) > 0"
      ]
     },
     "execution_count": 25,
     "metadata": {},
     "output_type": "execute_result"
    }
   ],
   "source": [
    "# We should try to eliminate having to do this step manually.  It should be managable, sorting w.r.t. zero.\n",
    "denom_is_positive = denominator.deduce_bound(denom_sin_is_positive)"
   ]
  },
  {
   "cell_type": "markdown",
   "metadata": {},
   "source": [
    "### Now we use the numerator and denominator bounds to bound $|\\alpha_l|$"
   ]
  },
  {
   "cell_type": "code",
   "execution_count": 26,
   "metadata": {},
   "outputs": [
    {
     "data": {
      "text/html": [
       "<span style=\"font-size:20px;\"><a class=\"ProveItLink\" href=\"../../../__pv_it/theorems/ed797affc893612e66c0c5986a27df66999a2d7c0/expr.ipynb\"><img src=\"data:image/png;base64,iVBORw0KGgoAAAANSUhEUgAAAR8AAAAaBAMAAAB8w0V5AAAAMFBMVEX///+qqqq6urru7u4QEBBE\n",
       "RERUVFTc3NyIiIgyMjJmZmaYmJjMzMwiIiJ2dnYAAACPW0xlAAAAAXRSTlMAQObYZgAAAAlwSFlz\n",
       "AAAOxAAADsQBlSsOGwAAAxFJREFUSMfFV01oE0EUfsmSnybbTW6KBw3WWw/uoQgqkiA9CCINiN6E\n",
       "eIiiKF2hCgqaHETqybbgD4jaS/0JNOTgwYNgDupBkMaDguLSHFTaQ7BtDlqU1pnZ3XR35u26G4I+\n",
       "2M0w8773vnnz3psNgE+5bQ32ToB/6Q7FSzIjzklL5kAeb/i3FBCVcJnfgsyFOjsMBSAUEBXL49ui\n",
       "VqTtTtXW/XpwQhzqnIY4M/3ENtH3M9RMpEZe1weck33pbiLkRMlFVdDo+Hl9mLz6qULrN6czRvFt\n",
       "2z4rN+uQUj0IvVWR6CCoSEE4U+pHWXhE3kfJE6cKySVOqUp1bF7Pg7ICOwBeHSGiiYSk0w8QQhhK\n",
       "EfbCZiZhHznMFjVF+SX4glzhoCcBhuGaJObQoDW4gRDCUDihZAOUvEEI7tJzK7Ol+DH9o1GhbQ46\n",
       "osKo9lhRBUKbvQhhKJwQOUh6cozQDHlKbBPhOxY0zkPPAozW3zy3cmNxreyHEIbCCaWmQV42CV0l\n",
       "zwu2crFjMzoh7mUerSFPQhgKJ5QlhH6ZhHYSS0Vnj4dIXkgs+Wc3hERUPCf0ZuKn1GSqNDgwR47r\n",
       "AFvZINBHS2+sZof1F7ohJKJiy/wM9UMJrZEf2rNKGZB/sN0c0nX9vWFnGuDCFBns1ql8NlONl1ld\n",
       "H9b1Dx6EENSuSVrb95hhmrrMT7YJYRIh6RRhlM2YYZTyjgjJM3YXSTxAf4kQhlrkrm3mhyR1iIRO\n",
       "mTIqLFJg1hrOI3P01K0Q04ITQlD2/m8mbIElbZIsbKNG5jRI1Zp0ZbyjE81z9SA3Ia4GJoShlBza\n",
       "GHMst7+YVZYaKDuvQXaGdkKXK5VZ7yP7boQiS8xKqx4ol6vjHQzVzbJ/SvhVjQupaF27Yb5Tz6+v\n",
       "r3oSOjFyq2aVA3zyQLkQ2rNwBkxCDzeWwl/NqwP2o1CvCPkVF0KGdO4yQap+CQ32nJDUxmAv0Z7a\n",
       "CxE+LOx+nrg2mGga66m9kKGae++WDtIs1Fy/qS8d7z2fK4hNy0/sW9r1m5q0tP8kLv860P9l/0QS\n",
       "pJP+AUXY/t/p7aHUAAAAAElFTkSuQmCC\n",
       "\" style=\"display:inline;vertical-align:middle;\" /></a> <a class=\"ProveItLink\" href=\"../../../__pv_it/_proof__alpha_l_sqrd_ineq/02528343d6a6e52d05a8edfd5eb0d8e6b612099e0/proof.ipynb\" style=\"text-decoration: none\">&nbsp;&#x22A2;&nbsp;&nbsp;</a><a class=\"ProveItLink\" href=\"../../../__pv_it/_proof__alpha_l_sqrd_ineq/941b449c1c870b37611163ce55c29c087efc4a410/expr.ipynb\"><img src=\"data:image/png;base64,iVBORw0KGgoAAAANSUhEUgAAAQcAAABGCAMAAAD2BqHoAAAAOVBMVEX///9RUVEMDAwGBgaYmJgy\n",
       "MjJmZmZERESqqqoQEBDu7u4iIiJUVFTMzMyIiIi6urp2dnbc3NwAAAAd2yqnAAAAAXRSTlMAQObY\n",
       "ZgAAAAlwSFlzAAAOxAAADsQBlSsOGwAABatJREFUeNrtW+lirCoM9vSybwLv/7BXVnFBcI7T6unk\n",
       "D53GoPlIQoAwDBcSGh5Cb/5Q+s7OzaJpPXbMoc/FQZGyiZrtjOuoaj0UnOfiQHTZRAJ7OitQhRI8\n",
       "HgcGyybpxRHZeRayWi+Z8ywcgJwDGyibRHxlM8FpQDUKZs7tcGBaC1EbP6rXPdOF0NI6BsDG0BXd\n",
       "dMiEHUrO7XBwA4R4OzrAsklCBA2lfaA0IUBQ6yBxboeDHaeob2UTLl02ScggUM6SI4+jrUWtg8S5\n",
       "HQ6AFTgYbj1txzX+FZuFUDGLUhw7hZv38HHBuWWc1NEvGGIGDMXEOOPASdmUQkU3StqgLdl8B7PD\n",
       "gvNNOEjO+oX8w2xSf2qUYTqGwohD+E2DgrFZv8E/oyaTh0FY2kp4yJw34/BfiM0I2n4cDHbPSuqd\n",
       "AQ8yTG3+t8MhMNY4BKEMinuGyhwFRqemxIlMZgRO+tD30VdKcPpxcKmxMVm9YRQdfrEQKiwfR7/g\n",
       "2/DAFpyv7/GLfhwMllKi9DRSecSWOGBVNkuhpKoZTLR+gDfT0qAWHHoXHJig3HkA9RNEmfcWjj/j\n",
       "EOe72CyFsmEpzRaTZDltqnHBuQsOjHICqDgRS8umRXxsce6Cg3AKmRPRlMuyafgab3LugoP1Fo9B\n",
       "f76FhuMlVOkEoMn5ARwY5DPJNI0H0v1dY1M2x6G3zbmJPUhLjKMT2RbDZdOB2CHnNn6hTvdtVNkc\n",
       "7N+ZDs5dcEBhI8AMP0TfhIO2DQ0Zp2BUXP3TOAhBLRSNuQBxC38Mhnfj8Gd4CP15NMyPiw8fHD44\n",
       "PB2HrnPRX4CDri5S65wPDh8cPjh8cPjg8Htx0FoL+etxMG4nl1EzGLKDAyq21vjBLrN8Cg6yhgP1\n",
       "a2CMBsVy0cR5e3gyeW1R0BxBf9wcT0V/IQ6xckBTfySUiiaaONh/h7y2LO6bauujQzz1OR8fHm8P\n",
       "CQcfR1PRxG+MD94vwBQm5Fw08dM4gNb7T1ZJp/hfSqPVfKE1ANNUgbSaD4V/GAfSVPNsukLgRno+\n",
       "4tpqm4omrsIBvnRMweDladuyHiBI59LkrbapaOIiHJh9SazjEDjhYBCkHQefq3qAKJ2LDTfapqKJ\n",
       "HhwMQhDLQwY5HFhDQeX//dnxNMyjYGcHJEorccE6y7uXtmOdYTSH+iDfHi3qsOFjHAR7ITwkaRbP\n",
       "IFX1I1V7uSC8NVJ6xIDkeJQqKdrYj4MSL4SHLA3B3/s+9WCK7XFmwThR9VIshHqkaDZ40tNniv8r\n",
       "aYT/Hgdf3zOpK+uM8aXFuOqphMo94y6sU/xfW9NluwXcHjAmo2U7DiYVUAoOBrpqMQkpMkqJ+TtF\n",
       "yuVozP9RHQciiO0Z0xT/VziMLxnsrg2rAwZSg96+KNS1uEGH3rm5IO757F84Lvz0SLQESsq6Pbja\n",
       "cfGCLrkI2l60bVJdeXmGRGDnPaMvBHH4YS+N/VfZucDe/1cSX8VSC9ghI3TgkRd0ydmHvSZPKuIM\n",
       "s3CfseVzi0OdTsTBPzsbFs9+gBfz4uINvkpa4HJM96rSdjYIsrTv8hIcQGkNHFUYGz7TPDj9Pg4w\n",
       "CUuxvIZVvuEr25B8IWf9yvZwhV/4i4TGnGCEl7shBu4LGji4kkd7YNnMawFg7/fOVz7n+HBBmZb0\n",
       "uYli/YyIktfYFQ/t4yBwke3VDDfEFNnO1Yr7cPOVzyvnC8ORI97PSDj4OOkWRwEBuMIhTeo+j6jV\n",
       "m/pn3E4BaSaU6WpbceUz4QAuyB/ihSrYz0iDoJVS0wJGCkoFk8JSIQm2ufQ8DRJ2Xy2OcJiAUO21\n",
       "SL4Px7f55K03GumJ9UVPNI9X24pdjSvXF++jM+vN3h3I5ZXP1XrzpiTp1Tj4q23FlU9an97vRIJc\n",
       "i8PyaluxH2XujcPF+5Pbq22r/cnbEtEX4rBztW21X31fap5fnMBh52qbl0ZseD7JC6X/B1wxUWxh\n",
       "Y9y2AAAAAElFTkSuQmCC\n",
       "\" style=\"display:inline;vertical-align:middle;\" /></a></span>"
      ],
      "text/plain": [
       "{l in ({-2^{t - 1} + 1 .. 2^{t - 1}} - {0})} |- |alpha_{l}| = (|1 - e^{2 * pi * i * ((2^{t} * delta) - l)}| / (2 * 2^{t} * sin(pi * |delta - (l / 2^{t})|)))"
      ]
     },
     "execution_count": 26,
     "metadata": {},
     "output_type": "execute_result"
    }
   ],
   "source": [
    "# recall from earlier:\n",
    "_alpha_l_summed_abs_dist"
   ]
  },
  {
   "cell_type": "code",
   "execution_count": 27,
   "metadata": {},
   "outputs": [
    {
     "data": {
      "text/html": [
       "<strong id=\"rhs_bound\">rhs_bound:</strong> <span style=\"font-size:20px;\"><a class=\"ProveItLink\" href=\"../../../__pv_it/theorems/ed797affc893612e66c0c5986a27df66999a2d7c0/expr.ipynb\"><img src=\"data:image/png;base64,iVBORw0KGgoAAAANSUhEUgAAAR8AAAAaBAMAAAB8w0V5AAAAMFBMVEX///+qqqq6urru7u4QEBBE\n",
       "RERUVFTc3NyIiIgyMjJmZmaYmJjMzMwiIiJ2dnYAAACPW0xlAAAAAXRSTlMAQObYZgAAAAlwSFlz\n",
       "AAAOxAAADsQBlSsOGwAAAxFJREFUSMfFV01oE0EUfsmSnybbTW6KBw3WWw/uoQgqkiA9CCINiN6E\n",
       "eIiiKF2hCgqaHETqybbgD4jaS/0JNOTgwYNgDupBkMaDguLSHFTaQ7BtDlqU1pnZ3XR35u26G4I+\n",
       "2M0w8773vnnz3psNgE+5bQ32ToB/6Q7FSzIjzklL5kAeb/i3FBCVcJnfgsyFOjsMBSAUEBXL49ui\n",
       "VqTtTtXW/XpwQhzqnIY4M/3ENtH3M9RMpEZe1weck33pbiLkRMlFVdDo+Hl9mLz6qULrN6czRvFt\n",
       "2z4rN+uQUj0IvVWR6CCoSEE4U+pHWXhE3kfJE6cKySVOqUp1bF7Pg7ICOwBeHSGiiYSk0w8QQhhK\n",
       "EfbCZiZhHznMFjVF+SX4glzhoCcBhuGaJObQoDW4gRDCUDihZAOUvEEI7tJzK7Ol+DH9o1GhbQ46\n",
       "osKo9lhRBUKbvQhhKJwQOUh6cozQDHlKbBPhOxY0zkPPAozW3zy3cmNxreyHEIbCCaWmQV42CV0l\n",
       "zwu2crFjMzoh7mUerSFPQhgKJ5QlhH6ZhHYSS0Vnj4dIXkgs+Wc3hERUPCf0ZuKn1GSqNDgwR47r\n",
       "AFvZINBHS2+sZof1F7ohJKJiy/wM9UMJrZEf2rNKGZB/sN0c0nX9vWFnGuDCFBns1ql8NlONl1ld\n",
       "H9b1Dx6EENSuSVrb95hhmrrMT7YJYRIh6RRhlM2YYZTyjgjJM3YXSTxAf4kQhlrkrm3mhyR1iIRO\n",
       "mTIqLFJg1hrOI3P01K0Q04ITQlD2/m8mbIElbZIsbKNG5jRI1Zp0ZbyjE81z9SA3Ia4GJoShlBza\n",
       "GHMst7+YVZYaKDuvQXaGdkKXK5VZ7yP7boQiS8xKqx4ol6vjHQzVzbJ/SvhVjQupaF27Yb5Tz6+v\n",
       "r3oSOjFyq2aVA3zyQLkQ2rNwBkxCDzeWwl/NqwP2o1CvCPkVF0KGdO4yQap+CQ32nJDUxmAv0Z7a\n",
       "CxE+LOx+nrg2mGga66m9kKGae++WDtIs1Fy/qS8d7z2fK4hNy0/sW9r1m5q0tP8kLv860P9l/0QS\n",
       "pJP+AUXY/t/p7aHUAAAAAElFTkSuQmCC\n",
       "\" style=\"display:inline;vertical-align:middle;\" /></a> <a class=\"ProveItLink\" href=\"../../../__pv_it/_proof__alpha_l_sqrd_ineq/79a3515ffe076619c230f7e92f4debd2b260a5080/proof.ipynb\" style=\"text-decoration: none\">&nbsp;&#x22A2;&nbsp;&nbsp;</a><a class=\"ProveItLink\" href=\"../../../__pv_it/_proof__alpha_l_sqrd_ineq/a329778f4351791bb4b6c16fb2e72d18540533320/expr.ipynb\"><img src=\"data:image/png;base64,iVBORw0KGgoAAAANSUhEUgAAAWwAAABGCAMAAADfAV5vAAAAOVBMVEX///+6urpERESqqqqYmJjc\n",
       "3Nx2dnaIiIgyMjJUVFTu7u4iIiJRUVEMDAwGBgbMzMwQEBBmZmYAAACJ/AOvAAAAAXRSTlMAQObY\n",
       "ZgAAAAlwSFlzAAAOxAAADsQBlSsOGwAABl5JREFUeNrtXO1isyoMVuSbdwfk/i/2FBAFBcHS2q2a\n",
       "P2wNweQxhIBA161p7P4I/RlFd0i9sW20KgvV9jnqBnuPyBCXDr+th/Yk10LIucHeowHHpSOYQJbA\n",
       "7PuCN9g1xGlcTuiJcdjWpTzXysK5wV4TlMuABuNyIhF7vwsxMDv6LZxrgs0xZizjigpvGlaRUOzn\n",
       "kPeuJbVpjzPdRZxrgm18bRTFiE2j0gsNYxd4+ujTDQpzDcyca4Kt+0dOoWXpleCo9EJohEE+14vJ\n",
       "bzHLNTBzrgk25AHYSGhLaO2h/q+pjISWPFCBqU26eYzoY851B0g8hRE+cgS7JVAvYIshLgOh5Qci\n",
       "tYN02KjBdRdzvglsKXi9kK3MHxg/CoI4dkPgBLb7V/VT+32XeIKtQx4RgroXJXUu5s+cbwD7Pzf0\n",
       "j1TXg42AqSuVjR2gkzY9s/8asN3vG7CdkAfe1FFyjsy9gVICT2iJ+b0KFf3j9ONnG/Vgmxk3mtc9\n",
       "QNezijASCS2BAkxhRGxDNo85P18URurBRkBKOfraI1mcLwQbkKiMhSY8UYemYAHBJufpSMxRlwKb\n",
       "MyVMwFA2/Qjn00swXsD2KdtUxkLe2QnmcaIYZH6kjzmXApsrMUDF6sfQuNwn0Rc5lwKbGdRQfWQX\n",
       "Mi53I5Mocy4FtrYRAsDquc+4XkramW7CMudssA/lwg1gcyoWkj7fdYSrWwYoLveG3ArOqWAfzIVf\n",
       "7dlSD8hQvQYcxGX5texyzvZs8kGwO02ONo1IXGbNQjWcS4E9upVl1H2IvglsrAswcqFgTwS5wW61\n",
       "gTGlKStkGqPQ9GNYfwXY//5Kjvrvazz7D00IbrBvsG+wb7BvsG+w11TMhW+wX0VVufAN9m3DDfYN\n",
       "9m1Di6IDRTfY5ygKxchvzz5FUSIw/+U2yL8C9r6iHH9u8fdihEYBbxROmoHQ4Vfqpb+HimD/HgXv\n",
       "MHLTs3TBARL2hQpHD6D7M2OheKYNTgR5YerXpukJB+2H4jMOZ/UD3Yjn90/BF2babZoekn5q1svp\n",
       "602I9xI7cZgPGPC44hmJNk2PSPOnRtKKTZdqHtGoAjW4xHuJJ/FXbnnMmdqm6SI9UiDTY7rnDHs+\n",
       "ihTM/F7fOR9e0DN+GIpJnNTuEs/aWja1TdNJ2kY8rBMj2cxBWFCcnx33eqzo8fsmsErfXEGhvGF1\n",
       "4llbK0xt03SSZrZLqIQXBpz9GVnm8bqvB7vWN1cv0IvTuqw6a2uFqW2aTtLKegVLfM0MOM98WJY1\n",
       "QmrudHUTbH9mbCU+girprK0VprZp6j3bnptgibPnC6d/Zt2V1ByemRsGde/Tnxlbu1udgllbK0xt\n",
       "0zRqVWTTDcN5dB2+fRmSQEJoh6g5xSSpGhEhjAQLFH5IUdPawJg1YWCDrnJOf2ZsZUN/pOtlbc2b\n",
       "2qypiro8yQYDYs82bmcH7gCBcQlqw5hgg6k+d1Ew6YRxP2AJiZRZE8zhf/ZMqJrPfmt5ILyRo6a2\n",
       "axqCLbJR33LkCLfG9HYzvFEcWGlgG9TLNQyuTTnYAwNE5pVA5g0NWj4PNqoZjEu25k1t1zQAOxhf\n",
       "uI5Slu3Is1QQGrhjFxPYturiNmKJGiDKmMJH2APoDETOmToutV0fXcRtk9VgZ23dMzWtaVrRpKbL\n",
       "QXsYvmsRRlaY8IK5AsfCxeE02HSWlSy+Cip4xM/cG+Qzk9Sf2bNrnS1r666pzZrOB+3t1W8oNQPN\n",
       "c8zvxlehsbIEtjm7uDMJ5hYpSGsVD24CXGJ25RJI1qJdU9s1nRW12XdqNTLPsepZWM32tzTYDHTB\n",
       "/C7Tz12cl8V5Uxfc+xWsOx3NRrIW7ZvarqmfrovRUCIpznMc2HaANGsyDma6AnvOfW3CnTmcautg\n",
       "YlKqYrDt3BVe4U2A/hGwLs/OWlQwtV1Tv2LmojhNpZ05jvMmTAjB/SMiK8W4ZFoxOQA9Xx0wexsw\n",
       "T2Q7YD9sIOV1lPneL5GYQdbNobMWFUxt1/Ttu3HUgbWRmqFtusIrXCU/uDbSZE2Tpm8H+8iqXyXh\n",
       "1U2AB1f9TgI7oenbwZbq1SbYixHCmwBVPm37LNhrTd+/qY8NrzUhusIrGnfQLwN7o+n7wX7xN8jt\n",
       "FV7lb5CfAXur6QnbVQf8QhNSV3gVvq5/COyEpmfsDS7uGzmgROoKLyt+zh7sNk1/xUZs+VHx8x5l\n",
       "pf8H+i1hRS7MXNEAAAAASUVORK5CYII=\n",
       "\" style=\"display:inline;vertical-align:middle;\" /></a></span><br>"
      ],
      "text/plain": [
       "rhs_bound: {l in ({-2^{t - 1} + 1 .. 2^{t - 1}} - {0})} |- (|1 - e^{2 * pi * i * ((2^{t} * delta) - l)}| / (2 * 2^{t} * sin(pi * |delta - (l / 2^{t})|))) < (1 / (2 * 2^{t} * |delta - (l / 2^{t})|))"
      ]
     },
     "execution_count": 27,
     "metadata": {},
     "output_type": "execute_result"
    }
   ],
   "source": [
    "rhs_bound = _alpha_l_summed_abs_dist.rhs.deduce_bound([numer_bound, denom_bound])"
   ]
  },
  {
   "cell_type": "code",
   "execution_count": 28,
   "metadata": {},
   "outputs": [
    {
     "data": {
      "text/html": [
       "<strong id=\"alpha_l_bound\">alpha_l_bound:</strong> <span style=\"font-size:20px;\"><a class=\"ProveItLink\" href=\"../../../__pv_it/theorems/ed797affc893612e66c0c5986a27df66999a2d7c0/expr.ipynb\"><img src=\"data:image/png;base64,iVBORw0KGgoAAAANSUhEUgAAAR8AAAAaBAMAAAB8w0V5AAAAMFBMVEX///+qqqq6urru7u4QEBBE\n",
       "RERUVFTc3NyIiIgyMjJmZmaYmJjMzMwiIiJ2dnYAAACPW0xlAAAAAXRSTlMAQObYZgAAAAlwSFlz\n",
       "AAAOxAAADsQBlSsOGwAAAxFJREFUSMfFV01oE0EUfsmSnybbTW6KBw3WWw/uoQgqkiA9CCINiN6E\n",
       "eIiiKF2hCgqaHETqybbgD4jaS/0JNOTgwYNgDupBkMaDguLSHFTaQ7BtDlqU1pnZ3XR35u26G4I+\n",
       "2M0w8773vnnz3psNgE+5bQ32ToB/6Q7FSzIjzklL5kAeb/i3FBCVcJnfgsyFOjsMBSAUEBXL49ui\n",
       "VqTtTtXW/XpwQhzqnIY4M/3ENtH3M9RMpEZe1weck33pbiLkRMlFVdDo+Hl9mLz6qULrN6czRvFt\n",
       "2z4rN+uQUj0IvVWR6CCoSEE4U+pHWXhE3kfJE6cKySVOqUp1bF7Pg7ICOwBeHSGiiYSk0w8QQhhK\n",
       "EfbCZiZhHznMFjVF+SX4glzhoCcBhuGaJObQoDW4gRDCUDihZAOUvEEI7tJzK7Ol+DH9o1GhbQ46\n",
       "osKo9lhRBUKbvQhhKJwQOUh6cozQDHlKbBPhOxY0zkPPAozW3zy3cmNxreyHEIbCCaWmQV42CV0l\n",
       "zwu2crFjMzoh7mUerSFPQhgKJ5QlhH6ZhHYSS0Vnj4dIXkgs+Wc3hERUPCf0ZuKn1GSqNDgwR47r\n",
       "AFvZINBHS2+sZof1F7ohJKJiy/wM9UMJrZEf2rNKGZB/sN0c0nX9vWFnGuDCFBns1ql8NlONl1ld\n",
       "H9b1Dx6EENSuSVrb95hhmrrMT7YJYRIh6RRhlM2YYZTyjgjJM3YXSTxAf4kQhlrkrm3mhyR1iIRO\n",
       "mTIqLFJg1hrOI3P01K0Q04ITQlD2/m8mbIElbZIsbKNG5jRI1Zp0ZbyjE81z9SA3Ia4GJoShlBza\n",
       "GHMst7+YVZYaKDuvQXaGdkKXK5VZ7yP7boQiS8xKqx4ol6vjHQzVzbJ/SvhVjQupaF27Yb5Tz6+v\n",
       "r3oSOjFyq2aVA3zyQLkQ2rNwBkxCDzeWwl/NqwP2o1CvCPkVF0KGdO4yQap+CQ32nJDUxmAv0Z7a\n",
       "CxE+LOx+nrg2mGga66m9kKGae++WDtIs1Fy/qS8d7z2fK4hNy0/sW9r1m5q0tP8kLv860P9l/0QS\n",
       "pJP+AUXY/t/p7aHUAAAAAElFTkSuQmCC\n",
       "\" style=\"display:inline;vertical-align:middle;\" /></a> <a class=\"ProveItLink\" href=\"../../../__pv_it/_proof__alpha_l_sqrd_ineq/d2d2062b1cca71483903aa82ab8c24b18e1ded6c0/proof.ipynb\" style=\"text-decoration: none\">&nbsp;&#x22A2;&nbsp;&nbsp;</a><a class=\"ProveItLink\" href=\"../../../__pv_it/_proof__alpha_l_sqrd_ineq/fb270ab2f3dfa8aa201a80a213b13a2323ecded50/expr.ipynb\"><img src=\"data:image/png;base64,iVBORw0KGgoAAAANSUhEUgAAALsAAAA0CAMAAADlqLlVAAAANlBMVEX///8MDAwGBgaYmJgyMjJm\n",
       "ZmZERESqqqoQEBDu7u4iIiJUVFTMzMyIiIi6urp2dnbc3NwAAABSWCMZAAAAAXRSTlMAQObYZgAA\n",
       "AAlwSFlzAAAOxAAADsQBlSsOGwAAAmZJREFUaN7tmtu2oyAMQD0DQQiEy///7CjW1lahYjlTmWUe\n",
       "2oeYslcScnG1674mBlXXpCgNPDTKPghd7Bf7xX6xX+wX+3/H7g9o6ogLn57gbLmmhmgtA9esSfYq\n",
       "kbvYW2DvuW+UnSGoE/rdOadNnp3QqRPmjMfhS0nf+T7BrhzSOfNdRi4BHalhlQwrdg/ITnpXYaIF\n",
       "3rl4H1/ZNe83TMOXZSKUYqKVMaHB7WM/hd9VoNuEERHRtpQzM7uMtzI0dVch5gwb0t7c031VIxUh\n",
       "1auRUPj8XEGW5hOhc4wNYODonu7bvalahZelBrNLF+ZrQrQq3XFZ+UywbVHMPrs0yx46qjmLqZD1\n",
       "uwcuxR5/oN3BDmT3snsALkxe8xzrFfvgTatVsQvkpzOwF7Gw2ozGO+TOZNi1OpLukzmZ5C5s3u5t\n",
       "MdZSZjWJtjYbkT6S7uXXZXV+3PT1xs680CTeBsh7Luxr2XMFqcWuMX4Gk9FY+aZGin2vOuYKUov9\n",
       "5pGQ0ww5oTL53us+iF05Q7Y+uwmU0wB1m/1M3trFGJ0D/a4OO+qsxgAzycP9eCH6YL7EDmJRgnlC\n",
       "s/HAn3ghRAzPzK44PsSk1oSH+YfCll5HSGnWD/xELBbZD5z78zl6P1Zd74s0j6Cr6HHG957moWLO\n",
       "mNgwtibjtGZ5eGR/u5Mp53Rsv4zqsXuEUbBE8zyQ0Fgl94z6408RQl+NHafLw0s0z4c7Ive+Ldmx\n",
       "Ig0hwuq96dd3D6YmdsXbY48BGnzeQ8caZI//+fDAfHvsXqhfmQn+AftY119aRSvsXhhjXl6et8Iu\n",
       "H2PMOdjN5+Z/ATL6JLYbuCaZAAAAAElFTkSuQmCC\n",
       "\" style=\"display:inline;vertical-align:middle;\" /></a></span><br>"
      ],
      "text/plain": [
       "alpha_l_bound: {l in ({-2^{t - 1} + 1 .. 2^{t - 1}} - {0})} |- |alpha_{l}| < (1 / (2 * 2^{t} * |delta - (l / 2^{t})|))"
      ]
     },
     "execution_count": 28,
     "metadata": {},
     "output_type": "execute_result"
    }
   ],
   "source": [
    "alpha_l_bound = _alpha_l_summed_abs_dist.apply_transitivity(rhs_bound)"
   ]
  },
  {
   "cell_type": "markdown",
   "metadata": {},
   "source": [
    "## Simplify (rearrange) and square both sides"
   ]
  },
  {
   "cell_type": "code",
   "execution_count": 30,
   "metadata": {},
   "outputs": [
    {
     "data": {
      "text/html": [
       "<strong id=\"alpha_l_bound_v2\">alpha_l_bound_v2:</strong> <span style=\"font-size:20px;\"><a class=\"ProveItLink\" href=\"../../../__pv_it/theorems/ed797affc893612e66c0c5986a27df66999a2d7c0/expr.ipynb\"><img src=\"data:image/png;base64,iVBORw0KGgoAAAANSUhEUgAAAR8AAAAaBAMAAAB8w0V5AAAAMFBMVEX///+qqqq6urru7u4QEBBE\n",
       "RERUVFTc3NyIiIgyMjJmZmaYmJjMzMwiIiJ2dnYAAACPW0xlAAAAAXRSTlMAQObYZgAAAAlwSFlz\n",
       "AAAOxAAADsQBlSsOGwAAAxFJREFUSMfFV01oE0EUfsmSnybbTW6KBw3WWw/uoQgqkiA9CCINiN6E\n",
       "eIiiKF2hCgqaHETqybbgD4jaS/0JNOTgwYNgDupBkMaDguLSHFTaQ7BtDlqU1pnZ3XR35u26G4I+\n",
       "2M0w8773vnnz3psNgE+5bQ32ToB/6Q7FSzIjzklL5kAeb/i3FBCVcJnfgsyFOjsMBSAUEBXL49ui\n",
       "VqTtTtXW/XpwQhzqnIY4M/3ENtH3M9RMpEZe1weck33pbiLkRMlFVdDo+Hl9mLz6qULrN6czRvFt\n",
       "2z4rN+uQUj0IvVWR6CCoSEE4U+pHWXhE3kfJE6cKySVOqUp1bF7Pg7ICOwBeHSGiiYSk0w8QQhhK\n",
       "EfbCZiZhHznMFjVF+SX4glzhoCcBhuGaJObQoDW4gRDCUDihZAOUvEEI7tJzK7Ol+DH9o1GhbQ46\n",
       "osKo9lhRBUKbvQhhKJwQOUh6cozQDHlKbBPhOxY0zkPPAozW3zy3cmNxreyHEIbCCaWmQV42CV0l\n",
       "zwu2crFjMzoh7mUerSFPQhgKJ5QlhH6ZhHYSS0Vnj4dIXkgs+Wc3hERUPCf0ZuKn1GSqNDgwR47r\n",
       "AFvZINBHS2+sZof1F7ohJKJiy/wM9UMJrZEf2rNKGZB/sN0c0nX9vWFnGuDCFBns1ql8NlONl1ld\n",
       "H9b1Dx6EENSuSVrb95hhmrrMT7YJYRIh6RRhlM2YYZTyjgjJM3YXSTxAf4kQhlrkrm3mhyR1iIRO\n",
       "mTIqLFJg1hrOI3P01K0Q04ITQlD2/m8mbIElbZIsbKNG5jRI1Zp0ZbyjE81z9SA3Ia4GJoShlBza\n",
       "GHMst7+YVZYaKDuvQXaGdkKXK5VZ7yP7boQiS8xKqx4ol6vjHQzVzbJ/SvhVjQupaF27Yb5Tz6+v\n",
       "r3oSOjFyq2aVA3zyQLkQ2rNwBkxCDzeWwl/NqwP2o1CvCPkVF0KGdO4yQap+CQ32nJDUxmAv0Z7a\n",
       "CxE+LOx+nrg2mGga66m9kKGae++WDtIs1Fy/qS8d7z2fK4hNy0/sW9r1m5q0tP8kLv860P9l/0QS\n",
       "pJP+AUXY/t/p7aHUAAAAAElFTkSuQmCC\n",
       "\" style=\"display:inline;vertical-align:middle;\" /></a> <a class=\"ProveItLink\" href=\"../../../__pv_it/_proof__alpha_l_sqrd_ineq/d2d2062b1cca71483903aa82ab8c24b18e1ded6c0/proof.ipynb\" style=\"text-decoration: none\">&nbsp;&#x22A2;&nbsp;&nbsp;</a><a class=\"ProveItLink\" href=\"../../../__pv_it/_proof__alpha_l_sqrd_ineq/fb270ab2f3dfa8aa201a80a213b13a2323ecded50/expr.ipynb\"><img src=\"data:image/png;base64,iVBORw0KGgoAAAANSUhEUgAAALsAAAA0CAMAAADlqLlVAAAANlBMVEX///8MDAwGBgaYmJgyMjJm\n",
       "ZmZERESqqqoQEBDu7u4iIiJUVFTMzMyIiIi6urp2dnbc3NwAAABSWCMZAAAAAXRSTlMAQObYZgAA\n",
       "AAlwSFlzAAAOxAAADsQBlSsOGwAAAmZJREFUaN7tmtu2oyAMQD0DQQiEy///7CjW1lahYjlTmWUe\n",
       "2oeYslcScnG1674mBlXXpCgNPDTKPghd7Bf7xX6xX+wX+3/H7g9o6ogLn57gbLmmhmgtA9esSfYq\n",
       "kbvYW2DvuW+UnSGoE/rdOadNnp3QqRPmjMfhS0nf+T7BrhzSOfNdRi4BHalhlQwrdg/ITnpXYaIF\n",
       "3rl4H1/ZNe83TMOXZSKUYqKVMaHB7WM/hd9VoNuEERHRtpQzM7uMtzI0dVch5gwb0t7c031VIxUh\n",
       "1auRUPj8XEGW5hOhc4wNYODonu7bvalahZelBrNLF+ZrQrQq3XFZ+UywbVHMPrs0yx46qjmLqZD1\n",
       "uwcuxR5/oN3BDmT3snsALkxe8xzrFfvgTatVsQvkpzOwF7Gw2ozGO+TOZNi1OpLukzmZ5C5s3u5t\n",
       "MdZSZjWJtjYbkT6S7uXXZXV+3PT1xs680CTeBsh7Luxr2XMFqcWuMX4Gk9FY+aZGin2vOuYKUov9\n",
       "5pGQ0ww5oTL53us+iF05Q7Y+uwmU0wB1m/1M3trFGJ0D/a4OO+qsxgAzycP9eCH6YL7EDmJRgnlC\n",
       "s/HAn3ghRAzPzK44PsSk1oSH+YfCll5HSGnWD/xELBbZD5z78zl6P1Zd74s0j6Cr6HHG957moWLO\n",
       "mNgwtibjtGZ5eGR/u5Mp53Rsv4zqsXuEUbBE8zyQ0Fgl94z6408RQl+NHafLw0s0z4c7Ive+Ldmx\n",
       "Ig0hwuq96dd3D6YmdsXbY48BGnzeQ8caZI//+fDAfHvsXqhfmQn+AftY119aRSvsXhhjXl6et8Iu\n",
       "H2PMOdjN5+Z/ATL6JLYbuCaZAAAAAElFTkSuQmCC\n",
       "\" style=\"display:inline;vertical-align:middle;\" /></a></span><br>"
      ],
      "text/plain": [
       "alpha_l_bound_v2: {l in ({-2^{t - 1} + 1 .. 2^{t - 1}} - {0})} |- |alpha_{l}| < (1 / (2 * 2^{t} * |delta - (l / 2^{t})|))"
      ]
     },
     "execution_count": 30,
     "metadata": {},
     "output_type": "execute_result"
    }
   ],
   "source": [
    "alpha_l_bound_v2 = alpha_l_bound.inner_expr().rhs.denominator.commute(0, 1)"
   ]
  },
  {
   "cell_type": "code",
   "execution_count": 31,
   "metadata": {},
   "outputs": [
    {
     "data": {
      "text/html": [
       "<strong id=\"alpha_l_bound_v3\">alpha_l_bound_v3:</strong> <span style=\"font-size:20px;\"><a class=\"ProveItLink\" href=\"../../../__pv_it/theorems/ed797affc893612e66c0c5986a27df66999a2d7c0/expr.ipynb\"><img src=\"data:image/png;base64,iVBORw0KGgoAAAANSUhEUgAAAR8AAAAaBAMAAAB8w0V5AAAAMFBMVEX///+qqqq6urru7u4QEBBE\n",
       "RERUVFTc3NyIiIgyMjJmZmaYmJjMzMwiIiJ2dnYAAACPW0xlAAAAAXRSTlMAQObYZgAAAAlwSFlz\n",
       "AAAOxAAADsQBlSsOGwAAAxFJREFUSMfFV01oE0EUfsmSnybbTW6KBw3WWw/uoQgqkiA9CCINiN6E\n",
       "eIiiKF2hCgqaHETqybbgD4jaS/0JNOTgwYNgDupBkMaDguLSHFTaQ7BtDlqU1pnZ3XR35u26G4I+\n",
       "2M0w8773vnnz3psNgE+5bQ32ToB/6Q7FSzIjzklL5kAeb/i3FBCVcJnfgsyFOjsMBSAUEBXL49ui\n",
       "VqTtTtXW/XpwQhzqnIY4M/3ENtH3M9RMpEZe1weck33pbiLkRMlFVdDo+Hl9mLz6qULrN6czRvFt\n",
       "2z4rN+uQUj0IvVWR6CCoSEE4U+pHWXhE3kfJE6cKySVOqUp1bF7Pg7ICOwBeHSGiiYSk0w8QQhhK\n",
       "EfbCZiZhHznMFjVF+SX4glzhoCcBhuGaJObQoDW4gRDCUDihZAOUvEEI7tJzK7Ol+DH9o1GhbQ46\n",
       "osKo9lhRBUKbvQhhKJwQOUh6cozQDHlKbBPhOxY0zkPPAozW3zy3cmNxreyHEIbCCaWmQV42CV0l\n",
       "zwu2crFjMzoh7mUerSFPQhgKJ5QlhH6ZhHYSS0Vnj4dIXkgs+Wc3hERUPCf0ZuKn1GSqNDgwR47r\n",
       "AFvZINBHS2+sZof1F7ohJKJiy/wM9UMJrZEf2rNKGZB/sN0c0nX9vWFnGuDCFBns1ql8NlONl1ld\n",
       "H9b1Dx6EENSuSVrb95hhmrrMT7YJYRIh6RRhlM2YYZTyjgjJM3YXSTxAf4kQhlrkrm3mhyR1iIRO\n",
       "mTIqLFJg1hrOI3P01K0Q04ITQlD2/m8mbIElbZIsbKNG5jRI1Zp0ZbyjE81z9SA3Ia4GJoShlBza\n",
       "GHMst7+YVZYaKDuvQXaGdkKXK5VZ7yP7boQiS8xKqx4ol6vjHQzVzbJ/SvhVjQupaF27Yb5Tz6+v\n",
       "r3oSOjFyq2aVA3zyQLkQ2rNwBkxCDzeWwl/NqwP2o1CvCPkVF0KGdO4yQap+CQ32nJDUxmAv0Z7a\n",
       "CxE+LOx+nrg2mGga66m9kKGae++WDtIs1Fy/qS8d7z2fK4hNy0/sW9r1m5q0tP8kLv860P9l/0QS\n",
       "pJP+AUXY/t/p7aHUAAAAAElFTkSuQmCC\n",
       "\" style=\"display:inline;vertical-align:middle;\" /></a> <a class=\"ProveItLink\" href=\"../../../__pv_it/_proof__alpha_l_sqrd_ineq/824e5549ed674ce13ad8da2246200a7d79f1e3940/proof.ipynb\" style=\"text-decoration: none\">&nbsp;&#x22A2;&nbsp;&nbsp;</a><a class=\"ProveItLink\" href=\"../../../__pv_it/_proof__alpha_l_sqrd_ineq/2b4c9a6fb2596d17e36d33ee637affa1fd65bf990/expr.ipynb\"><img src=\"data:image/png;base64,iVBORw0KGgoAAAANSUhEUgAAAM4AAAA0CAMAAAD1yPeJAAAANlBMVEX///8MDAwGBgaYmJgyMjJm\n",
       "ZmZERESqqqoQEBDu7u4iIiJUVFTMzMyIiIi6urp2dnbc3NwAAABSWCMZAAAAAXRSTlMAQObYZgAA\n",
       "AAlwSFlzAAAOxAAADsQBlSsOGwAAAvpJREFUaN7tWtt6gyAMdoNwCCDw/i87pWItBcUWv9V+5qIX\n",
       "M6n5c066rvt/0ii7byGpgPrvgTOQueBccC44F5wLzgXngvMJcNzuB83J+nbvsv3eB41JKeGpIt8C\n",
       "p7GnLzjfA4dT9z1wCII8hXestUpvwDFo5SmCzeHwKYXrHC/BkRbNWXJHBE0ZdEYOy7t/huMAyWlK\n",
       "AdwAAO1syPYnOIryjKj/PApaC3YDIEJugK2E86Hekd5Ms1NQGvuTB1uEI0LO+7OXAgjBRoYU0nPq\n",
       "PBdqadDsKtSkaq6AnQrHUrUUh8fKZi0hg6pgzZw6hTa6o/PwOkXFXgdEey/EHSt2S+zlyrhAqocc\n",
       "SdO/5EV3w4n2XooTU4LjO9NkBGVp7ZB+1TsOqGA1tsI+Ix6v9k9ag+mr4TgAynT+kUhZOF2FM9i8\n",
       "VxWhnFhlEjfq/QUhhKz1/UpIzCzOIrV6BY6Sr6ROFJfTvcHo0kFCb+/FITZENvonkAuWQiuO0tG+\n",
       "+1JnFqfv90URTKJylws9WWvBUrjXiDmI6iaPWKoScWDvXy0wfPqMHw2mLL3YKNSs7j4VS1XqXNG1\n",
       "IcxVLEVTliGY5ErucMV9lYFjqUrg9I2Oddrnhh/GUhYwXbYHT42Djj58QSMxv0O3cU42halKWTQQ\n",
       "XdTHjcnFX9Foblu+yalmkYLS3yMMIcuS4fwNsckeDCwp3kmX9qu7ePjKFnDIgxcg5x2Scd+C8ydo\n",
       "SgKcFxT4mb3TINj42AScWwu2IssiWmTQhdDa1zrI5M77FzMdWlpubVBsk2WpT4CzufJKa1UYHog5\n",
       "orI5hJEwN1OITZalPuNmwjfHgtEn41cZBJ7CIe/3HbylZC5GorFWWB70scbY7Q7aTzmCmalAdUeS\n",
       "qC00O6xK5A3OcpVqOLPtmBSbbaMWw55LChP1UaTFIXDCf1c5IC4RJ8fG2lDb+AFwHJN5cTz6hw1J\n",
       "28MZ+03SwpJbwXHEbWs4jmmtk59kkkvOgVR3Z9sBR9xHtUfxD/rVSbcU/wN7DSpIBjMOOQAAAABJ\n",
       "RU5ErkJggg==\n",
       "\" style=\"display:inline;vertical-align:middle;\" /></a></span><br>"
      ],
      "text/plain": [
       "alpha_l_bound_v3: {l in ({-2^{t - 1} + 1 .. 2^{t - 1}} - {0})} |- |alpha_{l}| < (1 / (2 * (2^{t} * |delta - (l / 2^{t})|)))"
      ]
     },
     "execution_count": 31,
     "metadata": {},
     "output_type": "execute_result"
    }
   ],
   "source": [
    "alpha_l_bound_v3 = alpha_l_bound_v2.inner_expr().rhs.denominator.associate(1, 2)"
   ]
  },
  {
   "cell_type": "code",
   "execution_count": 32,
   "metadata": {},
   "outputs": [
    {
     "data": {
      "text/html": [
       "<strong id=\"alpha_l_bound_v4\">alpha_l_bound_v4:</strong> <span style=\"font-size:20px;\"><a class=\"ProveItLink\" href=\"../../../__pv_it/theorems/ed797affc893612e66c0c5986a27df66999a2d7c0/expr.ipynb\"><img src=\"data:image/png;base64,iVBORw0KGgoAAAANSUhEUgAAAR8AAAAaBAMAAAB8w0V5AAAAMFBMVEX///+qqqq6urru7u4QEBBE\n",
       "RERUVFTc3NyIiIgyMjJmZmaYmJjMzMwiIiJ2dnYAAACPW0xlAAAAAXRSTlMAQObYZgAAAAlwSFlz\n",
       "AAAOxAAADsQBlSsOGwAAAxFJREFUSMfFV01oE0EUfsmSnybbTW6KBw3WWw/uoQgqkiA9CCINiN6E\n",
       "eIiiKF2hCgqaHETqybbgD4jaS/0JNOTgwYNgDupBkMaDguLSHFTaQ7BtDlqU1pnZ3XR35u26G4I+\n",
       "2M0w8773vnnz3psNgE+5bQ32ToB/6Q7FSzIjzklL5kAeb/i3FBCVcJnfgsyFOjsMBSAUEBXL49ui\n",
       "VqTtTtXW/XpwQhzqnIY4M/3ENtH3M9RMpEZe1weck33pbiLkRMlFVdDo+Hl9mLz6qULrN6czRvFt\n",
       "2z4rN+uQUj0IvVWR6CCoSEE4U+pHWXhE3kfJE6cKySVOqUp1bF7Pg7ICOwBeHSGiiYSk0w8QQhhK\n",
       "EfbCZiZhHznMFjVF+SX4glzhoCcBhuGaJObQoDW4gRDCUDihZAOUvEEI7tJzK7Ol+DH9o1GhbQ46\n",
       "osKo9lhRBUKbvQhhKJwQOUh6cozQDHlKbBPhOxY0zkPPAozW3zy3cmNxreyHEIbCCaWmQV42CV0l\n",
       "zwu2crFjMzoh7mUerSFPQhgKJ5QlhH6ZhHYSS0Vnj4dIXkgs+Wc3hERUPCf0ZuKn1GSqNDgwR47r\n",
       "AFvZINBHS2+sZof1F7ohJKJiy/wM9UMJrZEf2rNKGZB/sN0c0nX9vWFnGuDCFBns1ql8NlONl1ld\n",
       "H9b1Dx6EENSuSVrb95hhmrrMT7YJYRIh6RRhlM2YYZTyjgjJM3YXSTxAf4kQhlrkrm3mhyR1iIRO\n",
       "mTIqLFJg1hrOI3P01K0Q04ITQlD2/m8mbIElbZIsbKNG5jRI1Zp0ZbyjE81z9SA3Ia4GJoShlBza\n",
       "GHMst7+YVZYaKDuvQXaGdkKXK5VZ7yP7boQiS8xKqx4ol6vjHQzVzbJ/SvhVjQupaF27Yb5Tz6+v\n",
       "r3oSOjFyq2aVA3zyQLkQ2rNwBkxCDzeWwl/NqwP2o1CvCPkVF0KGdO4yQap+CQ32nJDUxmAv0Z7a\n",
       "CxE+LOx+nrg2mGga66m9kKGae++WDtIs1Fy/qS8d7z2fK4hNy0/sW9r1m5q0tP8kLv860P9l/0QS\n",
       "pJP+AUXY/t/p7aHUAAAAAElFTkSuQmCC\n",
       "\" style=\"display:inline;vertical-align:middle;\" /></a> <a class=\"ProveItLink\" href=\"../../../__pv_it/_proof__alpha_l_sqrd_ineq/f6a17aa526179b496f2e0d7632e5148f8d7a8d900/proof.ipynb\" style=\"text-decoration: none\">&nbsp;&#x22A2;&nbsp;&nbsp;</a><a class=\"ProveItLink\" href=\"../../../__pv_it/_proof__alpha_l_sqrd_ineq/3eb57ffcc18fc044037d7cc0aca912c8ce25d61d0/expr.ipynb\"><img src=\"data:image/png;base64,iVBORw0KGgoAAAANSUhEUgAAALsAAAAvBAMAAABJSaYMAAAAMFBMVEX///+YmJgyMjJmZmZERESq\n",
       "qqoQEBDu7u4iIiJUVFTMzMyIiIi6urp2dnbc3NwAAADPGwW7AAAAAXRSTlMAQObYZgAAAAlwSFlz\n",
       "AAAOxAAADsQBlSsOGwAAArVJREFUWMPtlj9oE3EUx7+XmD+X610rnZyMoKiLtomDIMUDJxU0uHUo\n",
       "ZhAXxd7goqWkGgQlSgI66GJv7CLNZEFBs4pLppZaSw906KJeCxKIxfi7S+y933nBC7lzkPyG3/3I\n",
       "e++T93vv/d7vB/QzFjSENxKPj4eJB94O8AP8AP/v8QZZK73iN4y/aXwka7nWG/3Z9NGREPE+xn+J\n",
       "jx0LEy8UteDw66s6j5ceacEFZ7OWuKHkCH62FGTsrwFnJO2W+Rv/6U6QqY2aQEZGLN3Bi4d2hcOt\n",
       "/obJ8HEVWF5BtP4nPgjvC1XWPHJI1sIJzjDDLwOFkFIbVSGcTuESKcyZkldhKqTDRozujZfqs8pZ\n",
       "37sUXcMEd6y8Ct8SS7n2ukAxmSvGe3jr757ahxptCkK7KSjZgzqnPsVSkzkHa6/O73inSe7OLJd1\n",
       "Dm9WPVraZ8g7FJ9IQ1GxUfty94OjJFo7Pew23c97f6rmgX8OXKX46AhEA/E8aPFKFTaNuk0zPN6z\n",
       "IU9rmDeIOA7EGxB/okFfyt/ZFHcnq2TjXlE3dDf+KTCvEzwLuTgHsTmUp1oXGTriCr7S9Hd9lOnm\n",
       "JuxF0pQqtx2Nycvs3MsV3kwwfeFTPyj+gL1YrEarKw4oLTasmbcTVV/4ZIXi79mLB0iNO3H8ZsSa\n",
       "7HrL83bxqi/8CTt52x38devLjnlnFCyXnyDF8CnT0jty3xrWXy8afvBC2/kixe9ztjbGpi0bPeTy\n",
       "/qWvl8EUFMMVnFgdX2lZNu24x+Z4w7MJH/hUHZJG8OfZ5wWwRHWaiLBGJKi85ZbsA7+ZzZ6kqV1l\n",
       "BV3MZjlP1zBpJaTOW+7M+MCXW61til9g8WaXHFeE8muLnHSxRuu9vsqYelLvuk/vhtwbXhjrJhwP\n",
       "Ao8LXWSKGgj+ZhfZHqNvvNVQlaq37I23/i8kORqiJWkLgwAAAABJRU5ErkJggg==\n",
       "\" style=\"display:inline;vertical-align:middle;\" /></a></span><br>"
      ],
      "text/plain": [
       "alpha_l_bound_v4: {l in ({-2^{t - 1} + 1 .. 2^{t - 1}} - {0})} |- |alpha_{l}| < (1 / (2 * |(2^{t} * delta) - l|))"
      ]
     },
     "execution_count": 32,
     "metadata": {},
     "output_type": "execute_result"
    }
   ],
   "source": [
    "alpha_l_bound_v4 = alpha_l_bound_v3.inner_expr().rhs.denominator.operands[1].distribute(1)"
   ]
  },
  {
   "cell_type": "code",
   "execution_count": 33,
   "metadata": {},
   "outputs": [
    {
     "data": {
      "text/html": [
       "<strong id=\"alpha_l_bound_v5\">alpha_l_bound_v5:</strong> <span style=\"font-size:20px;\"><a class=\"ProveItLink\" href=\"../../../__pv_it/theorems/ed797affc893612e66c0c5986a27df66999a2d7c0/expr.ipynb\"><img src=\"data:image/png;base64,iVBORw0KGgoAAAANSUhEUgAAAR8AAAAaBAMAAAB8w0V5AAAAMFBMVEX///+qqqq6urru7u4QEBBE\n",
       "RERUVFTc3NyIiIgyMjJmZmaYmJjMzMwiIiJ2dnYAAACPW0xlAAAAAXRSTlMAQObYZgAAAAlwSFlz\n",
       "AAAOxAAADsQBlSsOGwAAAxFJREFUSMfFV01oE0EUfsmSnybbTW6KBw3WWw/uoQgqkiA9CCINiN6E\n",
       "eIiiKF2hCgqaHETqybbgD4jaS/0JNOTgwYNgDupBkMaDguLSHFTaQ7BtDlqU1pnZ3XR35u26G4I+\n",
       "2M0w8773vnnz3psNgE+5bQ32ToB/6Q7FSzIjzklL5kAeb/i3FBCVcJnfgsyFOjsMBSAUEBXL49ui\n",
       "VqTtTtXW/XpwQhzqnIY4M/3ENtH3M9RMpEZe1weck33pbiLkRMlFVdDo+Hl9mLz6qULrN6czRvFt\n",
       "2z4rN+uQUj0IvVWR6CCoSEE4U+pHWXhE3kfJE6cKySVOqUp1bF7Pg7ICOwBeHSGiiYSk0w8QQhhK\n",
       "EfbCZiZhHznMFjVF+SX4glzhoCcBhuGaJObQoDW4gRDCUDihZAOUvEEI7tJzK7Ol+DH9o1GhbQ46\n",
       "osKo9lhRBUKbvQhhKJwQOUh6cozQDHlKbBPhOxY0zkPPAozW3zy3cmNxreyHEIbCCaWmQV42CV0l\n",
       "zwu2crFjMzoh7mUerSFPQhgKJ5QlhH6ZhHYSS0Vnj4dIXkgs+Wc3hERUPCf0ZuKn1GSqNDgwR47r\n",
       "AFvZINBHS2+sZof1F7ohJKJiy/wM9UMJrZEf2rNKGZB/sN0c0nX9vWFnGuDCFBns1ql8NlONl1ld\n",
       "H9b1Dx6EENSuSVrb95hhmrrMT7YJYRIh6RRhlM2YYZTyjgjJM3YXSTxAf4kQhlrkrm3mhyR1iIRO\n",
       "mTIqLFJg1hrOI3P01K0Q04ITQlD2/m8mbIElbZIsbKNG5jRI1Zp0ZbyjE81z9SA3Ia4GJoShlBza\n",
       "GHMst7+YVZYaKDuvQXaGdkKXK5VZ7yP7boQiS8xKqx4ol6vjHQzVzbJ/SvhVjQupaF27Yb5Tz6+v\n",
       "r3oSOjFyq2aVA3zyQLkQ2rNwBkxCDzeWwl/NqwP2o1CvCPkVF0KGdO4yQap+CQ32nJDUxmAv0Z7a\n",
       "CxE+LOx+nrg2mGga66m9kKGae++WDtIs1Fy/qS8d7z2fK4hNy0/sW9r1m5q0tP8kLv860P9l/0QS\n",
       "pJP+AUXY/t/p7aHUAAAAAElFTkSuQmCC\n",
       "\" style=\"display:inline;vertical-align:middle;\" /></a> <a class=\"ProveItLink\" href=\"../../../__pv_it/_proof__alpha_l_sqrd_ineq/5b834adb23dfa1619c45f83614865ecb0ef147100/proof.ipynb\" style=\"text-decoration: none\">&nbsp;&#x22A2;&nbsp;&nbsp;</a><a class=\"ProveItLink\" href=\"../../../__pv_it/_proof__alpha_l_sqrd_ineq/004ecfc9fdcf0d7af2a1bafdf6f830643d299baf0/expr.ipynb\"><img src=\"data:image/png;base64,iVBORw0KGgoAAAANSUhEUgAAALsAAAAvBAMAAABJSaYMAAAAMFBMVEX///+YmJgyMjJmZmZERESq\n",
       "qqoQEBDu7u4iIiJUVFTMzMyIiIi6urp2dnbc3NwAAADPGwW7AAAAAXRSTlMAQObYZgAAAAlwSFlz\n",
       "AAAOxAAADsQBlSsOGwAAArVJREFUWMPtl09o03AUx79Zli5/1rTiyZMVFPWiW+tBkGLBm4IWbzsM\n",
       "exAvE5eDFxVpZxGUKSu4g15cj17E3AYKmpuIl5425xwL6GEXXRxIocrqL8m2/PJrqilLPEh/tK/p\n",
       "ey+f/t6fvKTAbtYzDfGtoUfH48QDb/r4Pr6P//d4kzpWe8Wvmn/z+EQdJ43e6E8mj6ZjxIdY/yVe\n",
       "OBYnnqtq0eFXlup+vPJQiy45a8bQNbVI4W9PR5n7CeCMot2wtvGfp6IsLW8B2SSEzBZeOrRjTLV3\n",
       "tyyCTxSAhUXwjU58FLsv62R4FCEa8SQnRfALQDmm0vIFcKdlXKQa89Z0UGOqf5i4A2anWnU7Z2XP\n",
       "PL+MvO+yCmr8oJmhFN3PMr2N7GXz/Zb/zlX7QKPP59yhoOYO1mn8hxaDHyelyp6FHbvnh3eakmbw\n",
       "lh6wvS9I/qLxnMU8ZmagFrBqfL3z0VNKduSHGfwpIwD/FLhC4/mM386nIZlIlEA3s1IjYi+DD0zu\n",
       "pIY5kzKLut+eIK8mpE006ZB+2BY31y/pn62z+MfAXJ3CrzMeJOVSBVJruERrL5DsDKTD3T5m6OD2\n",
       "M8a8I0VLqd30lGOXyBxI1kLh5Z80fpaxHnDkC53XF72my0hNW4bCizUaP8FY7zryPuRRL2vrpkDa\n",
       "VyiFwp9wirXh4uVN59uRe/aygVed9ilsO5ftxpqFTPCyFQbPuZuvunilxJgd/D4v1BEivttoDIfa\n",
       "/ThUqjEHa1pncoQGvtFt2bLzDqESAi83oGgePpVu+O3nyPs5ME/rWhggg4grhMCv5XInqdKm3jKX\n",
       "1RIZS9VcrkLrljFmF6QRAj/Tbm9QeC7P/m8m+SY3Pd+oSL6yQxSNXp/KAtzFete4EQGeG+nmPBoF\n",
       "Hue7+KqFSPDXu/gOmj3jlYBEq3qw72vX/ze8XBsagjb/rwAAAABJRU5ErkJggg==\n",
       "\" style=\"display:inline;vertical-align:middle;\" /></a></span><br>"
      ],
      "text/plain": [
       "alpha_l_bound_v5: {l in ({-2^{t - 1} + 1 .. 2^{t - 1}} - {0})} |- |alpha_{l}| < (1 / (2 * |l - (2^{t} * delta)|))"
      ]
     },
     "execution_count": 33,
     "metadata": {},
     "output_type": "execute_result"
    }
   ],
   "source": [
    "alpha_l_bound_v5 = alpha_l_bound_v4.inner_expr().rhs.denominator.operands[1].reverse_difference()"
   ]
  },
  {
   "cell_type": "code",
   "execution_count": 34,
   "metadata": {},
   "outputs": [
    {
     "data": {
      "text/html": [
       "<strong id=\"alpha_l_sqrd_bound_v1\">alpha_l_sqrd_bound_v1:</strong> <span style=\"font-size:20px;\"><a class=\"ProveItLink\" href=\"../../../__pv_it/theorems/ed797affc893612e66c0c5986a27df66999a2d7c0/expr.ipynb\"><img src=\"data:image/png;base64,iVBORw0KGgoAAAANSUhEUgAAAR8AAAAaBAMAAAB8w0V5AAAAMFBMVEX///+qqqq6urru7u4QEBBE\n",
       "RERUVFTc3NyIiIgyMjJmZmaYmJjMzMwiIiJ2dnYAAACPW0xlAAAAAXRSTlMAQObYZgAAAAlwSFlz\n",
       "AAAOxAAADsQBlSsOGwAAAxFJREFUSMfFV01oE0EUfsmSnybbTW6KBw3WWw/uoQgqkiA9CCINiN6E\n",
       "eIiiKF2hCgqaHETqybbgD4jaS/0JNOTgwYNgDupBkMaDguLSHFTaQ7BtDlqU1pnZ3XR35u26G4I+\n",
       "2M0w8773vnnz3psNgE+5bQ32ToB/6Q7FSzIjzklL5kAeb/i3FBCVcJnfgsyFOjsMBSAUEBXL49ui\n",
       "VqTtTtXW/XpwQhzqnIY4M/3ENtH3M9RMpEZe1weck33pbiLkRMlFVdDo+Hl9mLz6qULrN6czRvFt\n",
       "2z4rN+uQUj0IvVWR6CCoSEE4U+pHWXhE3kfJE6cKySVOqUp1bF7Pg7ICOwBeHSGiiYSk0w8QQhhK\n",
       "EfbCZiZhHznMFjVF+SX4glzhoCcBhuGaJObQoDW4gRDCUDihZAOUvEEI7tJzK7Ol+DH9o1GhbQ46\n",
       "osKo9lhRBUKbvQhhKJwQOUh6cozQDHlKbBPhOxY0zkPPAozW3zy3cmNxreyHEIbCCaWmQV42CV0l\n",
       "zwu2crFjMzoh7mUerSFPQhgKJ5QlhH6ZhHYSS0Vnj4dIXkgs+Wc3hERUPCf0ZuKn1GSqNDgwR47r\n",
       "AFvZINBHS2+sZof1F7ohJKJiy/wM9UMJrZEf2rNKGZB/sN0c0nX9vWFnGuDCFBns1ql8NlONl1ld\n",
       "H9b1Dx6EENSuSVrb95hhmrrMT7YJYRIh6RRhlM2YYZTyjgjJM3YXSTxAf4kQhlrkrm3mhyR1iIRO\n",
       "mTIqLFJg1hrOI3P01K0Q04ITQlD2/m8mbIElbZIsbKNG5jRI1Zp0ZbyjE81z9SA3Ia4GJoShlBza\n",
       "GHMst7+YVZYaKDuvQXaGdkKXK5VZ7yP7boQiS8xKqx4ol6vjHQzVzbJ/SvhVjQupaF27Yb5Tz6+v\n",
       "r3oSOjFyq2aVA3zyQLkQ2rNwBkxCDzeWwl/NqwP2o1CvCPkVF0KGdO4yQap+CQ32nJDUxmAv0Z7a\n",
       "CxE+LOx+nrg2mGga66m9kKGae++WDtIs1Fy/qS8d7z2fK4hNy0/sW9r1m5q0tP8kLv860P9l/0QS\n",
       "pJP+AUXY/t/p7aHUAAAAAElFTkSuQmCC\n",
       "\" style=\"display:inline;vertical-align:middle;\" /></a> <a class=\"ProveItLink\" href=\"../../../__pv_it/_proof__alpha_l_sqrd_ineq/77809fe9586de580b3b2db4da38e659bc8822e3a0/proof.ipynb\" style=\"text-decoration: none\">&nbsp;&#x22A2;&nbsp;&nbsp;</a><a class=\"ProveItLink\" href=\"../../../__pv_it/_proof__alpha_l_sqrd_ineq/2709a7e09bcf119368d39d5f8f33f1346bbb440f0/expr.ipynb\"><img src=\"data:image/png;base64,iVBORw0KGgoAAAANSUhEUgAAAO4AAAA3BAMAAAD58Wv2AAAAMFBMVEX///+YmJgyMjJmZmZERESq\n",
       "qqoQEBDu7u4iIiJUVFTMzMyIiIi6urp2dnbc3NwAAADPGwW7AAAAAXRSTlMAQObYZgAAAAlwSFlz\n",
       "AAAOxAAADsQBlSsOGwAABCJJREFUWMPFmE1oE0EUx992m+/sJn5c9GIEP/CgxERQEDEg+NGDBA/F\n",
       "i7QHUUTQULyUIkkNorVK48GvgyYgiAiSeFBRkAYPvZpTtbSlgRYpCFKrUqglcSc7uzu7mTU7djRz\n",
       "2F2Gt/PbmX3v/d8MwP9vnukHqTZgQQQx0w5uqCwvt4MrpNrDBZCcr3PX6mmXdG966tivfOHVc/3X\n",
       "8IN8xPE7D52Pat9O4vssfHXqCpFWFv2xpda/NadOt+vZXofcz9WWJoHWXBhsXN31+oJD7jBw4XYz\n",
       "5imhlw+3I8rGdVf4cIM1Nu5oig8XdrBxh4ATtyfFolH+ZV7cdIlFo3y9vLidGRaNcud4cYUai0YV\n",
       "w7y4nm/akykRVekaNVp1MKTkKEbOaQ9TZO8UXaMOOxGsu4u3HZgdtePSNOo0P8WfseNSNMrznR93\n",
       "U5nOpWmU/xc/brFE55o0yrVLvf3kx01H7fyKiKms6mICx+ovlCNQ0xMFCjdwC3t2oMaRmzC482XP\n",
       "BTlp5V7WtV5a4sd1RwzueYBDgVT/gok7O2jkbI5cb0bnigowJoErQnJ9W4mUoHpafZVN5fYaLqws\n",
       "+fhHECstuHzma3CRJs4kwVv+z+scUrjjSmTZ+1Xtn/iVmADhoB9OWONoYFiLI1r80iRKxvddlO6q\n",
       "RcoV1PSa1+IkHGjOG7f+kDemKH0vcT4n/WF22/FgybAPNeWrm6mmwQScJ1fwELEukiuNFMzmrgrI\n",
       "8S2FRmTorRK8By8MTrpi5S6U6JNQdEEtEuQEzJTJ+W6y2PUBzIG0In/aSXzQPVSuG1Nq1oX9ZTsu\n",
       "qDroq4K7l+TGLGa7AR4BnIGOJNH5Bq1bVB+6J9laF/R2RXWJJfDVSFPrpkn5qIspyFdDZMWSRqCz\n",
       "+tB6yfSWfPMtnXtXnW8GfMukVFvcDf3W+wD5wpipckXBv1nn5pmKBG0C3gWCK1jSmKi6zAi88Rj/\n",
       "13Xnh3Kd0LlMJVMxaa0W0Di+hGWzF8bFyX7JWOi1kE+hK+bKTKWLHuxDptLEsufwNr7Om4PHG42U\n",
       "UYMeZfLdGldgSn0idmOxMcN0ROUWGy7Sdx21G+jrGkG2R68GF5FPJKCocIsa18d0UBfEiWODOq+o\n",
       "yn1lXRXEFYwtTRalpzBiwpjGDZWYsnlWy0dfiXU+5qGs8ymQycydLqB/iw5ypsweyuLQzwFeE9xv\n",
       "kmWvp8zFX4EAOXSoAEjI12vcISases4gZ+PxDMFdGWg+JZqPx/eZ+koutPAHMJf1nEFAwe9VapUI\n",
       "wV1nOfTwKx81Uq8vmjon3zU0B3M7c2xc2OlEB2/YvS1nsP0H1vPuJ1UH3HW2cRjG9ldZy5NAwgG3\n",
       "026bPIftJdZlppyLUriehM3Lx7H9e/Z6zKSpdtL1xWaxqqq9f/tfFIIczr37CK/6DWQJgKIqic+l\n",
       "AAAAAElFTkSuQmCC\n",
       "\" style=\"display:inline;vertical-align:middle;\" /></a></span><br>"
      ],
      "text/plain": [
       "alpha_l_sqrd_bound_v1: {l in ({-2^{t - 1} + 1 .. 2^{t - 1}} - {0})} |- |alpha_{l}|^{2} < (1 / (2 * |l - (2^{t} * delta)|))^{2}"
      ]
     },
     "execution_count": 34,
     "metadata": {},
     "output_type": "execute_result"
    }
   ],
   "source": [
    "alpha_l_sqrd_bound_v1 = alpha_l_bound_v5.square_both_sides()"
   ]
  },
  {
   "cell_type": "code",
   "execution_count": 35,
   "metadata": {},
   "outputs": [
    {
     "data": {
      "text/html": [
       "<strong id=\"alpha_l_sqrd_bound_v2\">alpha_l_sqrd_bound_v2:</strong> <span style=\"font-size:20px;\"><a class=\"ProveItLink\" href=\"../../../__pv_it/theorems/ed797affc893612e66c0c5986a27df66999a2d7c0/expr.ipynb\"><img src=\"data:image/png;base64,iVBORw0KGgoAAAANSUhEUgAAAR8AAAAaBAMAAAB8w0V5AAAAMFBMVEX///+qqqq6urru7u4QEBBE\n",
       "RERUVFTc3NyIiIgyMjJmZmaYmJjMzMwiIiJ2dnYAAACPW0xlAAAAAXRSTlMAQObYZgAAAAlwSFlz\n",
       "AAAOxAAADsQBlSsOGwAAAxFJREFUSMfFV01oE0EUfsmSnybbTW6KBw3WWw/uoQgqkiA9CCINiN6E\n",
       "eIiiKF2hCgqaHETqybbgD4jaS/0JNOTgwYNgDupBkMaDguLSHFTaQ7BtDlqU1pnZ3XR35u26G4I+\n",
       "2M0w8773vnnz3psNgE+5bQ32ToB/6Q7FSzIjzklL5kAeb/i3FBCVcJnfgsyFOjsMBSAUEBXL49ui\n",
       "VqTtTtXW/XpwQhzqnIY4M/3ENtH3M9RMpEZe1weck33pbiLkRMlFVdDo+Hl9mLz6qULrN6czRvFt\n",
       "2z4rN+uQUj0IvVWR6CCoSEE4U+pHWXhE3kfJE6cKySVOqUp1bF7Pg7ICOwBeHSGiiYSk0w8QQhhK\n",
       "EfbCZiZhHznMFjVF+SX4glzhoCcBhuGaJObQoDW4gRDCUDihZAOUvEEI7tJzK7Ol+DH9o1GhbQ46\n",
       "osKo9lhRBUKbvQhhKJwQOUh6cozQDHlKbBPhOxY0zkPPAozW3zy3cmNxreyHEIbCCaWmQV42CV0l\n",
       "zwu2crFjMzoh7mUerSFPQhgKJ5QlhH6ZhHYSS0Vnj4dIXkgs+Wc3hERUPCf0ZuKn1GSqNDgwR47r\n",
       "AFvZINBHS2+sZof1F7ohJKJiy/wM9UMJrZEf2rNKGZB/sN0c0nX9vWFnGuDCFBns1ql8NlONl1ld\n",
       "H9b1Dx6EENSuSVrb95hhmrrMT7YJYRIh6RRhlM2YYZTyjgjJM3YXSTxAf4kQhlrkrm3mhyR1iIRO\n",
       "mTIqLFJg1hrOI3P01K0Q04ITQlD2/m8mbIElbZIsbKNG5jRI1Zp0ZbyjE81z9SA3Ia4GJoShlBza\n",
       "GHMst7+YVZYaKDuvQXaGdkKXK5VZ7yP7boQiS8xKqx4ol6vjHQzVzbJ/SvhVjQupaF27Yb5Tz6+v\n",
       "r3oSOjFyq2aVA3zyQLkQ2rNwBkxCDzeWwl/NqwP2o1CvCPkVF0KGdO4yQap+CQ32nJDUxmAv0Z7a\n",
       "CxE+LOx+nrg2mGga66m9kKGae++WDtIs1Fy/qS8d7z2fK4hNy0/sW9r1m5q0tP8kLv860P9l/0QS\n",
       "pJP+AUXY/t/p7aHUAAAAAElFTkSuQmCC\n",
       "\" style=\"display:inline;vertical-align:middle;\" /></a> <a class=\"ProveItLink\" href=\"../../../__pv_it/_proof__alpha_l_sqrd_ineq/daba2f57b0f07f7e9df28c2b96bec1e4a3c4dbb30/proof.ipynb\" style=\"text-decoration: none\">&nbsp;&#x22A2;&nbsp;&nbsp;</a><a class=\"ProveItLink\" href=\"../../../__pv_it/_proof__alpha_l_sqrd_ineq/0676368e52a6ab0f7cd66ce492ba0388867aaf8f0/expr.ipynb\"><img src=\"data:image/png;base64,iVBORw0KGgoAAAANSUhEUgAAAN4AAAAzBAMAAAAKk6vYAAAAMFBMVEX///+YmJgyMjJmZmZERESq\n",
       "qqoQEBDu7u4iIiJUVFTMzMyIiIi6urp2dnbc3NwAAADPGwW7AAAAAXRSTlMAQObYZgAAAAlwSFlz\n",
       "AAAOxAAADsQBlSsOGwAAA3dJREFUWMPtmE1IVFEUgI/Oz5sf351Bhf4WjVBBi2pyhISQ3EUGIi7E\n",
       "jeQiclP4kGgT4YBEZQNKEWaLZsCNCDHTovyhyJVtp1VKig+cIAh0kkJQcTr3XZ25783fG3nvrTzM\n",
       "3PvenTPz3XvuOeeeNwAGyaQEForw8pKlPIAvR7wjnvm8R0tjlvKC0Gwpbxc2YlbyjpnNk7lrQpvF\n",
       "w9lzVdant8xdi/MAnieHwo33n/cfipcyOY40PBIkspW81NSEZCWvP5PJ3XfKpvN4OX7FnPWJK28K\n",
       "8Wa+m2NPEoEH8k8tT1hMmLR/zgTYg9NCVMUjzX6z/OUagC2QhE4V70VH9jJjpCDvNoLuSdBSjGfw\n",
       "+oQdBP0DiFhlT8rrBSFttr8IK+MS5TUB1KVjjoAmHoSZaWN5NrCFKU/8dkpqSdiS+fFubAD65sl2\n",
       "Lr+4vubxoNbQfFYl8TyfN59ntIjhHM/2qQRPLnmbqw1QLhYYlvc/nZRK5uuseDuK5/gD+bDvZWlu\n",
       "bO1ce01C0Vc6ch2bOf53i5RKPfjVxjaeJ45oVB1JIKEzMaBunpVkzRi8Z/Oj3Rqs6wucAJBWWJ3n\n",
       "13daozOAlQiIu2TxAjcRWjpXMxtiR9qm9B1wNj+4ZXD28rxGjc5lgLcAd6CaN/0s9cqgoo+dM5NJ\n",
       "6+I58bUF7j2e91yjg5PplyAq+/hqZJDC+9h+9+l3Yzw53GFwb/Nn5rZm+3DbXgNEYwv8qH0LmwbG\n",
       "a9DPa2EJIc3xqjSWodkJZQRmhdz+OV79xXaJ8Zb089jU4gmO525Vq1Qrp4lnB66KOYPWQlSircKr\n",
       "1c97rLTPNDWBSlyKm7hGYeJkLtT34BYutovxuvTz7ioWU1Y0GGC8uJJiBp5SGaYupQRLUzaCNrFB\n",
       "G8SRF2e8eIW8E2wdQcb7qHVhyqsazd4P0YzsVyALjLdQmT0xf6xz9rwhFLBnD6ieBQZjyqZ1M163\n",
       "ft5NfL8DmOZ4f0S1ih3305MELx99vhicxa6e8er189CVyVAoFOZ4uw81Jw2a8lcopHoWFxOOURZN\n",
       "y9mg0vdXHNoLS7kAx6tLqlU8OJmRTGZTNfjjM20jjBfRz3PFoOx5NFzsy4SdsSRcQSEQLM+rK5Hs\n",
       "qb6tkvKyvTzPXqzUSTH9VCV1x/3yPKG1xFyX86dcUogme80V0PldpBSRFX3vwfL/Ax2gWBOpmLwc\n",
       "AAAAAElFTkSuQmCC\n",
       "\" style=\"display:inline;vertical-align:middle;\" /></a></span><br>"
      ],
      "text/plain": [
       "alpha_l_sqrd_bound_v2: {l in ({-2^{t - 1} + 1 .. 2^{t - 1}} - {0})} |- |alpha_{l}|^{2} < (1 / (2 * |l - (2^{t} * delta)|)^{2})"
      ]
     },
     "execution_count": 35,
     "metadata": {},
     "output_type": "execute_result"
    }
   ],
   "source": [
    "alpha_l_sqrd_bound_v2 = alpha_l_sqrd_bound_v1.inner_expr().rhs.distribute()"
   ]
  },
  {
   "cell_type": "code",
   "execution_count": 36,
   "metadata": {},
   "outputs": [
    {
     "data": {
      "text/html": [
       "<strong id=\"alpha_l_sqrd_bound_v3\">alpha_l_sqrd_bound_v3:</strong> <span style=\"font-size:20px;\"><a class=\"ProveItLink\" href=\"../../../__pv_it/theorems/ed797affc893612e66c0c5986a27df66999a2d7c0/expr.ipynb\"><img src=\"data:image/png;base64,iVBORw0KGgoAAAANSUhEUgAAAR8AAAAaBAMAAAB8w0V5AAAAMFBMVEX///+qqqq6urru7u4QEBBE\n",
       "RERUVFTc3NyIiIgyMjJmZmaYmJjMzMwiIiJ2dnYAAACPW0xlAAAAAXRSTlMAQObYZgAAAAlwSFlz\n",
       "AAAOxAAADsQBlSsOGwAAAxFJREFUSMfFV01oE0EUfsmSnybbTW6KBw3WWw/uoQgqkiA9CCINiN6E\n",
       "eIiiKF2hCgqaHETqybbgD4jaS/0JNOTgwYNgDupBkMaDguLSHFTaQ7BtDlqU1pnZ3XR35u26G4I+\n",
       "2M0w8773vnnz3psNgE+5bQ32ToB/6Q7FSzIjzklL5kAeb/i3FBCVcJnfgsyFOjsMBSAUEBXL49ui\n",
       "VqTtTtXW/XpwQhzqnIY4M/3ENtH3M9RMpEZe1weck33pbiLkRMlFVdDo+Hl9mLz6qULrN6czRvFt\n",
       "2z4rN+uQUj0IvVWR6CCoSEE4U+pHWXhE3kfJE6cKySVOqUp1bF7Pg7ICOwBeHSGiiYSk0w8QQhhK\n",
       "EfbCZiZhHznMFjVF+SX4glzhoCcBhuGaJObQoDW4gRDCUDihZAOUvEEI7tJzK7Ol+DH9o1GhbQ46\n",
       "osKo9lhRBUKbvQhhKJwQOUh6cozQDHlKbBPhOxY0zkPPAozW3zy3cmNxreyHEIbCCaWmQV42CV0l\n",
       "zwu2crFjMzoh7mUerSFPQhgKJ5QlhH6ZhHYSS0Vnj4dIXkgs+Wc3hERUPCf0ZuKn1GSqNDgwR47r\n",
       "AFvZINBHS2+sZof1F7ohJKJiy/wM9UMJrZEf2rNKGZB/sN0c0nX9vWFnGuDCFBns1ql8NlONl1ld\n",
       "H9b1Dx6EENSuSVrb95hhmrrMT7YJYRIh6RRhlM2YYZTyjgjJM3YXSTxAf4kQhlrkrm3mhyR1iIRO\n",
       "mTIqLFJg1hrOI3P01K0Q04ITQlD2/m8mbIElbZIsbKNG5jRI1Zp0ZbyjE81z9SA3Ia4GJoShlBza\n",
       "GHMst7+YVZYaKDuvQXaGdkKXK5VZ7yP7boQiS8xKqx4ol6vjHQzVzbJ/SvhVjQupaF27Yb5Tz6+v\n",
       "r3oSOjFyq2aVA3zyQLkQ2rNwBkxCDzeWwl/NqwP2o1CvCPkVF0KGdO4yQap+CQ32nJDUxmAv0Z7a\n",
       "CxE+LOx+nrg2mGga66m9kKGae++WDtIs1Fy/qS8d7z2fK4hNy0/sW9r1m5q0tP8kLv860P9l/0QS\n",
       "pJP+AUXY/t/p7aHUAAAAAElFTkSuQmCC\n",
       "\" style=\"display:inline;vertical-align:middle;\" /></a> <a class=\"ProveItLink\" href=\"../../../__pv_it/_proof__alpha_l_sqrd_ineq/9b52f872b90e57cad9f97c94306ec1658b18ed460/proof.ipynb\" style=\"text-decoration: none\">&nbsp;&#x22A2;&nbsp;&nbsp;</a><a class=\"ProveItLink\" href=\"../../../__pv_it/_proof__alpha_l_sqrd_ineq/611eea88dd6f2575f092a080780dbcc14d81200c0/expr.ipynb\"><img src=\"data:image/png;base64,iVBORw0KGgoAAAANSUhEUgAAANMAAAAzBAMAAAD/bSBoAAAAMFBMVEX///+YmJgyMjJmZmZERESq\n",
       "qqoQEBDu7u4iIiJUVFTMzMyIiIi6urp2dnbc3NwAAADPGwW7AAAAAXRSTlMAQObYZgAAAAlwSFlz\n",
       "AAAOxAAADsQBlSsOGwAAAyRJREFUWMPtV01oE0EUfsk2P5tNtlEP4kXTg+hJ0vSgIMWAB6GCDd56\n",
       "EHvwIoruwUuVkmooKlWIIEpPBryUgri3SgXJTcRLTq2xli6kh140a0GKQRrf7ITs7MTIdNndUz/4\n",
       "tt1vNvvNvHkz+wbACyQeQkCYyu0EZQXKvtW+lUdWsfV5LSArCaSZgKwGq2orIKuQ5p+Vwd+kXAQw\n",
       "tSvy1Df+ZmHvaSG/2H7mwkq94NuS4K0a8CMgK3Vs8XRAVtF22+zeRk75GkA28Uua51br9co/rJSn\n",
       "mucB3KrGbqkF3mp6zoe5ugFwXtGmTIdV474PaSGhRy4FkQxrJR+3t8W2JzBJ0uUBVlZBqvWx8nBU\n",
       "RR1gowDxqv8BHESrFYCij2kxXX9J5yoPoXMJuMwn+705z5I9C2fo29cPLElrMNq7hD1bWH+gWWHe\n",
       "/kTjrSDk1cZ02Gll6j1WHuILG7OzVUEro78WNnplo3tU+c9226eOKPTXioym5q4Zn/EvIWySWV9m\n",
       "f7Lc7/yUtf+/gtHgKx3UGrkxsLK4W2/AJ01JYzeQalY1BCMdL9s1Ke5fIZOrUzOg5mGj+v3BV6bg\n",
       "IAM5Qbm5+Fo0md/ZVhJ2UspwdWoaZAOik8DuZgr5zSHK2+226PnzoG0VJYPUne2oRXdA3gW2HIz9\n",
       "Ii0apXiZF7atyHQ0K8521OQZkFvJSVYdR4twmlIYHxgrsqkc49pH6YSaSvmuLU5cxS9GqkwpCjXN\n",
       "WA0hn3MPDFnXt7qkr9o7TUbeIVdK4fgBYzUL1mfbgVnr+hgSw3Zkm0YEl0RkklIUR6lVbJvc3MQs\n",
       "sSr02MlHBBWqAflAdFDMWCNPoFXCpBSNn94ZValjpfDdtKyO2KuQLPiflgVJlKT4qJLz86+u15hg\n",
       "DZS13gBGao4KPNay5igyQymOqD1XF7GuSdeczajBG4AlVmtBGDfGUJ5yD2dJ++k63n3kljBqamlk\n",
       "xNH7NZggE1ijFD8gj//uvnwBuznKtaMWx/LLkdSp98SB1EaErhCviGkUWx26QigrplEMd+gOlwQ1\n",
       "a53kKV3ijqBGMGBQuoSqi2nWPt2hhb8goi35axHRJAAAAABJRU5ErkJggg==\n",
       "\" style=\"display:inline;vertical-align:middle;\" /></a></span><br>"
      ],
      "text/plain": [
       "alpha_l_sqrd_bound_v3: {l in ({-2^{t - 1} + 1 .. 2^{t - 1}} - {0})} |- |alpha_{l}|^{2} < (1 / (4 * (l - (2^{t} * delta))^{2}))"
      ]
     },
     "execution_count": 36,
     "metadata": {},
     "output_type": "execute_result"
    }
   ],
   "source": [
    "alpha_l_sqrd_bound_v3 = alpha_l_sqrd_bound_v2.inner_expr().rhs.denominator.distribute()"
   ]
  },
  {
   "cell_type": "code",
   "execution_count": 37,
   "metadata": {},
   "outputs": [
    {
     "ename": "KeyboardInterrupt",
     "evalue": "",
     "output_type": "error",
     "traceback": [
      "\u001b[0;31m---------------------------------------------------------------------------\u001b[0m",
      "\u001b[0;31mKeyboardInterrupt\u001b[0m                         Traceback (most recent call last)",
      "\u001b[0;32m<ipython-input-37-b046f9677097>\u001b[0m in \u001b[0;36m<module>\u001b[0;34m\u001b[0m\n\u001b[0;32m----> 1\u001b[0;31m \u001b[0mget_ipython\u001b[0m\u001b[0;34m(\u001b[0m\u001b[0;34m)\u001b[0m\u001b[0;34m.\u001b[0m\u001b[0mrun_line_magic\u001b[0m\u001b[0;34m(\u001b[0m\u001b[0;34m'qed'\u001b[0m\u001b[0;34m,\u001b[0m \u001b[0;34m''\u001b[0m\u001b[0;34m)\u001b[0m\u001b[0;34m\u001b[0m\u001b[0;34m\u001b[0m\u001b[0m\n\u001b[0m",
      "\u001b[0;32m~/.local/lib/python3.7/site-packages/IPython/core/interactiveshell.py\u001b[0m in \u001b[0;36mrun_line_magic\u001b[0;34m(self, magic_name, line, _stack_depth)\u001b[0m\n\u001b[1;32m   2305\u001b[0m                 \u001b[0mkwargs\u001b[0m\u001b[0;34m[\u001b[0m\u001b[0;34m'local_ns'\u001b[0m\u001b[0;34m]\u001b[0m \u001b[0;34m=\u001b[0m \u001b[0msys\u001b[0m\u001b[0;34m.\u001b[0m\u001b[0m_getframe\u001b[0m\u001b[0;34m(\u001b[0m\u001b[0mstack_depth\u001b[0m\u001b[0;34m)\u001b[0m\u001b[0;34m.\u001b[0m\u001b[0mf_locals\u001b[0m\u001b[0;34m\u001b[0m\u001b[0;34m\u001b[0m\u001b[0m\n\u001b[1;32m   2306\u001b[0m             \u001b[0;32mwith\u001b[0m \u001b[0mself\u001b[0m\u001b[0;34m.\u001b[0m\u001b[0mbuiltin_trap\u001b[0m\u001b[0;34m:\u001b[0m\u001b[0;34m\u001b[0m\u001b[0;34m\u001b[0m\u001b[0m\n\u001b[0;32m-> 2307\u001b[0;31m                 \u001b[0mresult\u001b[0m \u001b[0;34m=\u001b[0m \u001b[0mfn\u001b[0m\u001b[0;34m(\u001b[0m\u001b[0;34m*\u001b[0m\u001b[0margs\u001b[0m\u001b[0;34m,\u001b[0m \u001b[0;34m**\u001b[0m\u001b[0mkwargs\u001b[0m\u001b[0;34m)\u001b[0m\u001b[0;34m\u001b[0m\u001b[0;34m\u001b[0m\u001b[0m\n\u001b[0m\u001b[1;32m   2308\u001b[0m             \u001b[0;32mreturn\u001b[0m \u001b[0mresult\u001b[0m\u001b[0;34m\u001b[0m\u001b[0;34m\u001b[0m\u001b[0m\n\u001b[1;32m   2309\u001b[0m \u001b[0;34m\u001b[0m\u001b[0m\n",
      "\u001b[0;32m<decorator-gen-143>\u001b[0m in \u001b[0;36mqed\u001b[0;34m(self, line)\u001b[0m\n",
      "\u001b[0;32m~/.local/lib/python3.7/site-packages/IPython/core/magic.py\u001b[0m in \u001b[0;36m<lambda>\u001b[0;34m(f, *a, **k)\u001b[0m\n\u001b[1;32m    185\u001b[0m     \u001b[0;31m# but it's overkill for just that one bit of state.\u001b[0m\u001b[0;34m\u001b[0m\u001b[0;34m\u001b[0m\u001b[0;34m\u001b[0m\u001b[0m\n\u001b[1;32m    186\u001b[0m     \u001b[0;32mdef\u001b[0m \u001b[0mmagic_deco\u001b[0m\u001b[0;34m(\u001b[0m\u001b[0marg\u001b[0m\u001b[0;34m)\u001b[0m\u001b[0;34m:\u001b[0m\u001b[0;34m\u001b[0m\u001b[0;34m\u001b[0m\u001b[0m\n\u001b[0;32m--> 187\u001b[0;31m         \u001b[0mcall\u001b[0m \u001b[0;34m=\u001b[0m \u001b[0;32mlambda\u001b[0m \u001b[0mf\u001b[0m\u001b[0;34m,\u001b[0m \u001b[0;34m*\u001b[0m\u001b[0ma\u001b[0m\u001b[0;34m,\u001b[0m \u001b[0;34m**\u001b[0m\u001b[0mk\u001b[0m\u001b[0;34m:\u001b[0m \u001b[0mf\u001b[0m\u001b[0;34m(\u001b[0m\u001b[0;34m*\u001b[0m\u001b[0ma\u001b[0m\u001b[0;34m,\u001b[0m \u001b[0;34m**\u001b[0m\u001b[0mk\u001b[0m\u001b[0;34m)\u001b[0m\u001b[0;34m\u001b[0m\u001b[0;34m\u001b[0m\u001b[0m\n\u001b[0m\u001b[1;32m    188\u001b[0m \u001b[0;34m\u001b[0m\u001b[0m\n\u001b[1;32m    189\u001b[0m         \u001b[0;32mif\u001b[0m \u001b[0mcallable\u001b[0m\u001b[0;34m(\u001b[0m\u001b[0marg\u001b[0m\u001b[0;34m)\u001b[0m\u001b[0;34m:\u001b[0m\u001b[0;34m\u001b[0m\u001b[0;34m\u001b[0m\u001b[0m\n",
      "\u001b[0;32m/home/wwitzel/Prove-It/packages/proveit/magics.py\u001b[0m in \u001b[0;36mqed\u001b[0;34m(self, line)\u001b[0m\n\u001b[1;32m    978\u001b[0m     \u001b[0;34m@\u001b[0m\u001b[0mline_magic\u001b[0m\u001b[0;34m\u001b[0m\u001b[0;34m\u001b[0m\u001b[0m\n\u001b[1;32m    979\u001b[0m     \u001b[0;32mdef\u001b[0m \u001b[0mqed\u001b[0m\u001b[0;34m(\u001b[0m\u001b[0mself\u001b[0m\u001b[0;34m,\u001b[0m \u001b[0mline\u001b[0m\u001b[0;34m)\u001b[0m\u001b[0;34m:\u001b[0m\u001b[0;34m\u001b[0m\u001b[0;34m\u001b[0m\u001b[0m\n\u001b[0;32m--> 980\u001b[0;31m         \u001b[0;32mreturn\u001b[0m \u001b[0mProveItMagicCommands\u001b[0m\u001b[0;34m.\u001b[0m\u001b[0mqed\u001b[0m\u001b[0;34m(\u001b[0m\u001b[0mself\u001b[0m\u001b[0;34m)\u001b[0m\u001b[0;34m\u001b[0m\u001b[0;34m\u001b[0m\u001b[0m\n\u001b[0m\u001b[1;32m    981\u001b[0m \u001b[0;34m\u001b[0m\u001b[0m\n\u001b[1;32m    982\u001b[0m     \u001b[0;34m@\u001b[0m\u001b[0mline_magic\u001b[0m\u001b[0;34m\u001b[0m\u001b[0;34m\u001b[0m\u001b[0m\n",
      "\u001b[0;32m/home/wwitzel/Prove-It/packages/proveit/magics.py\u001b[0m in \u001b[0;36mqed\u001b[0;34m(self)\u001b[0m\n\u001b[1;32m    650\u001b[0m     \u001b[0;32mdef\u001b[0m \u001b[0mqed\u001b[0m\u001b[0;34m(\u001b[0m\u001b[0mself\u001b[0m\u001b[0;34m)\u001b[0m\u001b[0;34m:\u001b[0m\u001b[0;34m\u001b[0m\u001b[0;34m\u001b[0m\u001b[0m\n\u001b[1;32m    651\u001b[0m         \u001b[0;32mimport\u001b[0m \u001b[0mproveit\u001b[0m\u001b[0;34m\u001b[0m\u001b[0;34m\u001b[0m\u001b[0m\n\u001b[0;32m--> 652\u001b[0;31m         \u001b[0mproof\u001b[0m \u001b[0;34m=\u001b[0m \u001b[0mJudgment\u001b[0m\u001b[0;34m.\u001b[0m\u001b[0mtheorem_being_proven\u001b[0m\u001b[0;34m.\u001b[0m\u001b[0mproven_truth\u001b[0m\u001b[0;34m.\u001b[0m\u001b[0m_qed\u001b[0m\u001b[0;34m(\u001b[0m\u001b[0;34m)\u001b[0m\u001b[0;34m\u001b[0m\u001b[0;34m\u001b[0m\u001b[0m\n\u001b[0m\u001b[1;32m    653\u001b[0m         \u001b[0mproof\u001b[0m\u001b[0;34m.\u001b[0m\u001b[0m_repr_html_\u001b[0m\u001b[0;34m(\u001b[0m\u001b[0;34m)\u001b[0m  \u001b[0;31m# generate expressions that should be referenced\u001b[0m\u001b[0;34m\u001b[0m\u001b[0;34m\u001b[0m\u001b[0m\n\u001b[1;32m    654\u001b[0m         \u001b[0;31m# clean unreferenced expressions, but only when \"display latex\"\u001b[0m\u001b[0;34m\u001b[0m\u001b[0;34m\u001b[0m\u001b[0;34m\u001b[0m\u001b[0m\n",
      "\u001b[0;32m/home/wwitzel/Prove-It/packages/proveit/_core_/judgment.py\u001b[0m in \u001b[0;36m_qed\u001b[0;34m(self)\u001b[0m\n\u001b[1;32m    360\u001b[0m             \u001b[0;32mif\u001b[0m \u001b[0;32mnot\u001b[0m \u001b[0mproof\u001b[0m\u001b[0;34m.\u001b[0m\u001b[0mis_usable\u001b[0m\u001b[0;34m(\u001b[0m\u001b[0;34m)\u001b[0m\u001b[0;34m:\u001b[0m\u001b[0;34m\u001b[0m\u001b[0;34m\u001b[0m\u001b[0m\n\u001b[1;32m    361\u001b[0m                 \u001b[0mproof\u001b[0m\u001b[0;34m.\u001b[0m\u001b[0mproven_truth\u001b[0m\u001b[0;34m.\u001b[0m\u001b[0mraise_unusable_proof\u001b[0m\u001b[0;34m(\u001b[0m\u001b[0;34m)\u001b[0m\u001b[0;34m\u001b[0m\u001b[0;34m\u001b[0m\u001b[0m\n\u001b[0;32m--> 362\u001b[0;31m             \u001b[0mJudgment\u001b[0m\u001b[0;34m.\u001b[0m\u001b[0mtheorem_being_proven\u001b[0m\u001b[0;34m.\u001b[0m\u001b[0m_recordProof\u001b[0m\u001b[0;34m(\u001b[0m\u001b[0mproof\u001b[0m\u001b[0;34m)\u001b[0m\u001b[0;34m\u001b[0m\u001b[0;34m\u001b[0m\u001b[0m\n\u001b[0m\u001b[1;32m    363\u001b[0m         \u001b[0;32mfinally\u001b[0m\u001b[0;34m:\u001b[0m\u001b[0;34m\u001b[0m\u001b[0;34m\u001b[0m\u001b[0m\n\u001b[1;32m    364\u001b[0m             \u001b[0mJudgment\u001b[0m\u001b[0;34m.\u001b[0m\u001b[0mqed_in_progress\u001b[0m \u001b[0;34m=\u001b[0m \u001b[0;32mFalse\u001b[0m\u001b[0;34m\u001b[0m\u001b[0;34m\u001b[0m\u001b[0m\n",
      "\u001b[0;32m/home/wwitzel/Prove-It/packages/proveit/_core_/proof.py\u001b[0m in \u001b[0;36m_recordProof\u001b[0;34m(self, proof)\u001b[0m\n\u001b[1;32m    959\u001b[0m         for theorems that depend upon the one being proven) appropriately.\n\u001b[1;32m    960\u001b[0m         '''\n\u001b[0;32m--> 961\u001b[0;31m         \u001b[0mself\u001b[0m\u001b[0;34m.\u001b[0m\u001b[0m_stored_theorem\u001b[0m\u001b[0;34m(\u001b[0m\u001b[0;34m)\u001b[0m\u001b[0;34m.\u001b[0m\u001b[0m_recordProof\u001b[0m\u001b[0;34m(\u001b[0m\u001b[0mproof\u001b[0m\u001b[0;34m)\u001b[0m\u001b[0;34m\u001b[0m\u001b[0;34m\u001b[0m\u001b[0m\n\u001b[0m\u001b[1;32m    962\u001b[0m \u001b[0;34m\u001b[0m\u001b[0m\n\u001b[1;32m    963\u001b[0m     \u001b[0;32mdef\u001b[0m \u001b[0mremove_proof\u001b[0m\u001b[0;34m(\u001b[0m\u001b[0mself\u001b[0m\u001b[0;34m)\u001b[0m\u001b[0;34m:\u001b[0m\u001b[0;34m\u001b[0m\u001b[0;34m\u001b[0m\u001b[0m\n",
      "\u001b[0;32m/home/wwitzel/Prove-It/packages/proveit/_core_/_theory_storage.py\u001b[0m in \u001b[0;36m_recordProof\u001b[0;34m(self, proof)\u001b[0m\n\u001b[1;32m   2728\u001b[0m                               used_axiom_name in used_axiom_names]\n\u001b[1;32m   2729\u001b[0m         stored_used_theorems = [Theory.get_stored_theorem(used_theorem_name) \n\u001b[0;32m-> 2730\u001b[0;31m                                 for used_theorem_name in used_theorem_names]\n\u001b[0m\u001b[1;32m   2731\u001b[0m \u001b[0;34m\u001b[0m\u001b[0m\n\u001b[1;32m   2732\u001b[0m         \u001b[0;31m# record axioms/theorems that this theorem directly uses\u001b[0m\u001b[0;34m\u001b[0m\u001b[0;34m\u001b[0m\u001b[0;34m\u001b[0m\u001b[0m\n",
      "\u001b[0;32m/home/wwitzel/Prove-It/packages/proveit/_core_/_theory_storage.py\u001b[0m in \u001b[0;36m<listcomp>\u001b[0;34m(.0)\u001b[0m\n\u001b[1;32m   2728\u001b[0m                               used_axiom_name in used_axiom_names]\n\u001b[1;32m   2729\u001b[0m         stored_used_theorems = [Theory.get_stored_theorem(used_theorem_name) \n\u001b[0;32m-> 2730\u001b[0;31m                                 for used_theorem_name in used_theorem_names]\n\u001b[0m\u001b[1;32m   2731\u001b[0m \u001b[0;34m\u001b[0m\u001b[0m\n\u001b[1;32m   2732\u001b[0m         \u001b[0;31m# record axioms/theorems that this theorem directly uses\u001b[0m\u001b[0;34m\u001b[0m\u001b[0;34m\u001b[0m\u001b[0;34m\u001b[0m\u001b[0m\n",
      "\u001b[0;32m/home/wwitzel/Prove-It/packages/proveit/_core_/theory.py\u001b[0m in \u001b[0;36mget_stored_theorem\u001b[0;34m(fullname)\u001b[0m\n\u001b[1;32m    514\u001b[0m     \u001b[0;34m@\u001b[0m\u001b[0mstaticmethod\u001b[0m\u001b[0;34m\u001b[0m\u001b[0;34m\u001b[0m\u001b[0m\n\u001b[1;32m    515\u001b[0m     \u001b[0;32mdef\u001b[0m \u001b[0mget_stored_theorem\u001b[0m\u001b[0;34m(\u001b[0m\u001b[0mfullname\u001b[0m\u001b[0;34m)\u001b[0m\u001b[0;34m:\u001b[0m\u001b[0;34m\u001b[0m\u001b[0;34m\u001b[0m\u001b[0m\n\u001b[0;32m--> 516\u001b[0;31m         \u001b[0;32mreturn\u001b[0m \u001b[0mTheory\u001b[0m\u001b[0;34m.\u001b[0m\u001b[0mget_stored_stmt\u001b[0m\u001b[0;34m(\u001b[0m\u001b[0mfullname\u001b[0m\u001b[0;34m,\u001b[0m \u001b[0;34m'theorem'\u001b[0m\u001b[0;34m)\u001b[0m\u001b[0;34m\u001b[0m\u001b[0;34m\u001b[0m\u001b[0m\n\u001b[0m\u001b[1;32m    517\u001b[0m \u001b[0;34m\u001b[0m\u001b[0m\n\u001b[1;32m    518\u001b[0m     \u001b[0;34m@\u001b[0m\u001b[0mstaticmethod\u001b[0m\u001b[0;34m\u001b[0m\u001b[0;34m\u001b[0m\u001b[0m\n",
      "\u001b[0;32m/home/wwitzel/Prove-It/packages/proveit/_core_/theory.py\u001b[0m in \u001b[0;36mget_stored_stmt\u001b[0;34m(fullname, kind)\u001b[0m\n\u001b[1;32m    526\u001b[0m             \u001b[0;32mreturn\u001b[0m \u001b[0mStoredAxiom\u001b[0m\u001b[0;34m(\u001b[0m\u001b[0mtheory\u001b[0m\u001b[0;34m,\u001b[0m \u001b[0mstmt_name\u001b[0m\u001b[0;34m)\u001b[0m\u001b[0;34m\u001b[0m\u001b[0;34m\u001b[0m\u001b[0m\n\u001b[1;32m    527\u001b[0m         \u001b[0;32melif\u001b[0m \u001b[0mkind\u001b[0m \u001b[0;34m==\u001b[0m \u001b[0;34m'theorem'\u001b[0m\u001b[0;34m:\u001b[0m\u001b[0;34m\u001b[0m\u001b[0;34m\u001b[0m\u001b[0m\n\u001b[0;32m--> 528\u001b[0;31m             \u001b[0;32mreturn\u001b[0m \u001b[0mStoredTheorem\u001b[0m\u001b[0;34m(\u001b[0m\u001b[0mtheory\u001b[0m\u001b[0;34m,\u001b[0m \u001b[0mstmt_name\u001b[0m\u001b[0;34m)\u001b[0m\u001b[0;34m\u001b[0m\u001b[0;34m\u001b[0m\u001b[0m\n\u001b[0m\u001b[1;32m    529\u001b[0m         \u001b[0;32melse\u001b[0m\u001b[0;34m:\u001b[0m\u001b[0;34m\u001b[0m\u001b[0;34m\u001b[0m\u001b[0m\n\u001b[1;32m    530\u001b[0m             raise TheoryException(\n",
      "\u001b[0;32m/home/wwitzel/Prove-It/packages/proveit/_core_/_theory_storage.py\u001b[0m in \u001b[0;36m__init__\u001b[0;34m(self, theory, name)\u001b[0m\n\u001b[1;32m   2471\u001b[0m         \u001b[0m__pv_it\u001b[0m \u001b[0mdatabase\u001b[0m \u001b[0mentries\u001b[0m\u001b[0;34m.\u001b[0m\u001b[0;34m\u001b[0m\u001b[0;34m\u001b[0m\u001b[0m\n\u001b[1;32m   2472\u001b[0m         '''\n\u001b[0;32m-> 2473\u001b[0;31m         \u001b[0mStoredSpecialStmt\u001b[0m\u001b[0;34m.\u001b[0m\u001b[0m__init__\u001b[0m\u001b[0;34m(\u001b[0m\u001b[0mself\u001b[0m\u001b[0;34m,\u001b[0m \u001b[0mtheory\u001b[0m\u001b[0;34m,\u001b[0m \u001b[0mname\u001b[0m\u001b[0;34m,\u001b[0m \u001b[0;34m'theorem'\u001b[0m\u001b[0;34m)\u001b[0m\u001b[0;34m\u001b[0m\u001b[0;34m\u001b[0m\u001b[0m\n\u001b[0m\u001b[1;32m   2474\u001b[0m \u001b[0;34m\u001b[0m\u001b[0m\n\u001b[1;32m   2475\u001b[0m     \u001b[0;32mdef\u001b[0m \u001b[0mget_proof_link\u001b[0m\u001b[0;34m(\u001b[0m\u001b[0mself\u001b[0m\u001b[0;34m)\u001b[0m\u001b[0;34m:\u001b[0m\u001b[0;34m\u001b[0m\u001b[0;34m\u001b[0m\u001b[0m\n",
      "\u001b[0;32m/home/wwitzel/Prove-It/packages/proveit/_core_/_theory_storage.py\u001b[0m in \u001b[0;36m__init__\u001b[0;34m(self, theory, name, kind)\u001b[0m\n\u001b[1;32m   2296\u001b[0m             \u001b[0mself\u001b[0m\u001b[0;34m.\u001b[0m\u001b[0mtheory_folder_storage\u001b[0m \u001b[0;34m=\u001b[0m\u001b[0;31m \u001b[0m\u001b[0;31m\\\u001b[0m\u001b[0;34m\u001b[0m\u001b[0;34m\u001b[0m\u001b[0m\n\u001b[1;32m   2297\u001b[0m                 \u001b[0mself\u001b[0m\u001b[0;34m.\u001b[0m\u001b[0mtheory\u001b[0m\u001b[0;34m.\u001b[0m\u001b[0m_theory_folder_storage\u001b[0m\u001b[0;34m(\u001b[0m\u001b[0;34m'theorems'\u001b[0m\u001b[0;34m)\u001b[0m\u001b[0;34m\u001b[0m\u001b[0;34m\u001b[0m\u001b[0m\n\u001b[0;32m-> 2298\u001b[0;31m             \u001b[0mhash_dir\u001b[0m \u001b[0;34m=\u001b[0m \u001b[0mself\u001b[0m\u001b[0;34m.\u001b[0m\u001b[0mtheory\u001b[0m\u001b[0;34m.\u001b[0m\u001b[0m_storage\u001b[0m\u001b[0;34m.\u001b[0m\u001b[0mget_theorem_hash\u001b[0m\u001b[0;34m(\u001b[0m\u001b[0mname\u001b[0m\u001b[0;34m)\u001b[0m\u001b[0;34m\u001b[0m\u001b[0;34m\u001b[0m\u001b[0m\n\u001b[0m\u001b[1;32m   2299\u001b[0m         \u001b[0;32melse\u001b[0m\u001b[0;34m:\u001b[0m\u001b[0;34m\u001b[0m\u001b[0;34m\u001b[0m\u001b[0m\n\u001b[1;32m   2300\u001b[0m             \u001b[0;32mraise\u001b[0m \u001b[0mValueError\u001b[0m\u001b[0;34m(\u001b[0m\u001b[0;34m\"kind must be 'axiom' or 'theorem'\"\u001b[0m\u001b[0;34m)\u001b[0m\u001b[0;34m\u001b[0m\u001b[0;34m\u001b[0m\u001b[0m\n",
      "\u001b[0;32m/home/wwitzel/Prove-It/packages/proveit/_core_/_theory_storage.py\u001b[0m in \u001b[0;36mget_theorem_hash\u001b[0;34m(self, name)\u001b[0m\n\u001b[1;32m    576\u001b[0m         folder).\n\u001b[1;32m    577\u001b[0m         '''\n\u001b[0;32m--> 578\u001b[0;31m         \u001b[0mlist\u001b[0m\u001b[0;34m(\u001b[0m\u001b[0mself\u001b[0m\u001b[0;34m.\u001b[0m\u001b[0m_load_special_names\u001b[0m\u001b[0;34m(\u001b[0m\u001b[0;34m'theorem'\u001b[0m\u001b[0;34m)\u001b[0m\u001b[0;34m)\u001b[0m\u001b[0;34m\u001b[0m\u001b[0;34m\u001b[0m\u001b[0m\n\u001b[0m\u001b[1;32m    579\u001b[0m         \u001b[0;32mtry\u001b[0m\u001b[0;34m:\u001b[0m\u001b[0;34m\u001b[0m\u001b[0;34m\u001b[0m\u001b[0m\n\u001b[1;32m    580\u001b[0m             \u001b[0;32mreturn\u001b[0m \u001b[0mself\u001b[0m\u001b[0;34m.\u001b[0m\u001b[0m_special_hash_ids\u001b[0m\u001b[0;34m[\u001b[0m\u001b[0;34m'theorem'\u001b[0m\u001b[0;34m]\u001b[0m\u001b[0;34m[\u001b[0m\u001b[0mname\u001b[0m\u001b[0;34m]\u001b[0m\u001b[0;34m\u001b[0m\u001b[0;34m\u001b[0m\u001b[0m\n",
      "\u001b[0;32m/home/wwitzel/Prove-It/packages/proveit/_core_/_theory_storage.py\u001b[0m in \u001b[0;36m_load_special_names\u001b[0;34m(self, kind)\u001b[0m\n\u001b[1;32m    547\u001b[0m                             \u001b[0mstorage_ids\u001b[0m \u001b[0;34m=\u001b[0m\u001b[0;31m \u001b[0m\u001b[0;31m\\\u001b[0m\u001b[0;34m\u001b[0m\u001b[0;34m\u001b[0m\u001b[0m\n\u001b[1;32m    548\u001b[0m                                 \u001b[0m_theory_folder_storage\u001b[0m\u001b[0;34m.\u001b[0m\u001b[0;31m\\\u001b[0m\u001b[0;34m\u001b[0m\u001b[0;34m\u001b[0m\u001b[0m\n\u001b[0;32m--> 549\u001b[0;31m                                 \u001b[0m_extractReferencedStorageIds\u001b[0m\u001b[0;34m(\u001b[0m\u001b[0mrep\u001b[0m\u001b[0;34m)\u001b[0m\u001b[0;34m\u001b[0m\u001b[0;34m\u001b[0m\u001b[0m\n\u001b[0m\u001b[1;32m    550\u001b[0m                             \u001b[0mstorage_id\u001b[0m \u001b[0;34m=\u001b[0m \u001b[0mstorage_ids\u001b[0m\u001b[0;34m[\u001b[0m\u001b[0;36m0\u001b[0m\u001b[0;34m]\u001b[0m\u001b[0;34m\u001b[0m\u001b[0;34m\u001b[0m\u001b[0m\n\u001b[1;32m    551\u001b[0m                         \u001b[0mexpr_id\u001b[0m \u001b[0;34m=\u001b[0m \u001b[0mstorage_id\u001b[0m\u001b[0;34m\u001b[0m\u001b[0;34m\u001b[0m\u001b[0m\n",
      "\u001b[0;32m/home/wwitzel/Prove-It/packages/proveit/_core_/_theory_storage.py\u001b[0m in \u001b[0;36m_extractReferencedStorageIds\u001b[0;34m(self, unique_rep, storage_ids)\u001b[0m\n\u001b[1;32m   1161\u001b[0m         \u001b[0;32mif\u001b[0m \u001b[0mstorage_ids\u001b[0m \u001b[0;32mis\u001b[0m \u001b[0;32mNone\u001b[0m\u001b[0;34m:\u001b[0m\u001b[0;34m\u001b[0m\u001b[0;34m\u001b[0m\u001b[0m\n\u001b[1;32m   1162\u001b[0m             \u001b[0;32mif\u001b[0m \u001b[0munique_rep\u001b[0m\u001b[0;34m[\u001b[0m\u001b[0;34m:\u001b[0m\u001b[0;36m6\u001b[0m\u001b[0;34m]\u001b[0m \u001b[0;34m==\u001b[0m \u001b[0;34m'Proof:'\u001b[0m\u001b[0;34m:\u001b[0m\u001b[0;34m\u001b[0m\u001b[0;34m\u001b[0m\u001b[0m\n\u001b[0;32m-> 1163\u001b[0;31m                 \u001b[0mstorage_ids\u001b[0m \u001b[0;34m=\u001b[0m \u001b[0mProof\u001b[0m\u001b[0;34m.\u001b[0m\u001b[0m_extractReferencedObjIds\u001b[0m\u001b[0;34m(\u001b[0m\u001b[0munique_rep\u001b[0m\u001b[0;34m[\u001b[0m\u001b[0;36m6\u001b[0m\u001b[0;34m:\u001b[0m\u001b[0;34m]\u001b[0m\u001b[0;34m)\u001b[0m\u001b[0;34m\u001b[0m\u001b[0;34m\u001b[0m\u001b[0m\n\u001b[0m\u001b[1;32m   1164\u001b[0m             \u001b[0;32melif\u001b[0m \u001b[0munique_rep\u001b[0m\u001b[0;34m[\u001b[0m\u001b[0;34m:\u001b[0m\u001b[0;36m9\u001b[0m\u001b[0;34m]\u001b[0m \u001b[0;34m==\u001b[0m \u001b[0;34m'Judgment:'\u001b[0m\u001b[0;34m:\u001b[0m\u001b[0;34m\u001b[0m\u001b[0;34m\u001b[0m\u001b[0m\n\u001b[1;32m   1165\u001b[0m                 storage_ids = Judgment._extractReferencedObjIds(\n",
      "\u001b[0;32m/home/wwitzel/Prove-It/packages/proveit/_core_/proof.py\u001b[0m in \u001b[0;36m_extractReferencedObjIds\u001b[0;34m(unique_rep)\u001b[0m\n\u001b[1;32m    304\u001b[0m         \u001b[0;31m# Everything else coming between the punctuation,\u001b[0m\u001b[0;34m\u001b[0m\u001b[0;34m\u001b[0m\u001b[0;34m\u001b[0m\u001b[0m\n\u001b[1;32m    305\u001b[0m         \u001b[0;31m# ';', ':', ',', '{', '}', '[', ']', is a represented object.\u001b[0m\u001b[0;34m\u001b[0m\u001b[0;34m\u001b[0m\u001b[0;34m\u001b[0m\u001b[0m\n\u001b[0;32m--> 306\u001b[0;31m         \u001b[0mobj_ids\u001b[0m \u001b[0;34m=\u001b[0m \u001b[0mre\u001b[0m\u001b[0;34m.\u001b[0m\u001b[0msplit\u001b[0m\u001b[0;34m(\u001b[0m\u001b[0;34mr\"\\{|\\[|,|:|;|\\]|\\}\"\u001b[0m\u001b[0;34m,\u001b[0m \u001b[0mremaining\u001b[0m\u001b[0;34m)\u001b[0m\u001b[0;34m\u001b[0m\u001b[0;34m\u001b[0m\u001b[0m\n\u001b[0m\u001b[1;32m    307\u001b[0m         \u001b[0;31m# Remove the '*' marks, marking the \"equality replacement\u001b[0m\u001b[0;34m\u001b[0m\u001b[0;34m\u001b[0m\u001b[0;34m\u001b[0m\u001b[0m\n\u001b[1;32m    308\u001b[0m         \u001b[0;31m# requirements\".\u001b[0m\u001b[0;34m\u001b[0m\u001b[0;34m\u001b[0m\u001b[0;34m\u001b[0m\u001b[0m\n",
      "\u001b[0;32m/projects/percept/linux_rhel6/anaconda3/lib/python3.7/re.py\u001b[0m in \u001b[0;36msplit\u001b[0;34m(pattern, string, maxsplit, flags)\u001b[0m\n\u001b[1;32m    211\u001b[0m     \u001b[0;32mand\u001b[0m \u001b[0mthe\u001b[0m \u001b[0mremainder\u001b[0m \u001b[0mof\u001b[0m \u001b[0mthe\u001b[0m \u001b[0mstring\u001b[0m \u001b[0;32mis\u001b[0m \u001b[0mreturned\u001b[0m \u001b[0;32mas\u001b[0m \u001b[0mthe\u001b[0m \u001b[0mfinal\u001b[0m \u001b[0melement\u001b[0m\u001b[0;34m\u001b[0m\u001b[0;34m\u001b[0m\u001b[0m\n\u001b[1;32m    212\u001b[0m     of the list.\"\"\"\n\u001b[0;32m--> 213\u001b[0;31m     \u001b[0;32mreturn\u001b[0m \u001b[0m_compile\u001b[0m\u001b[0;34m(\u001b[0m\u001b[0mpattern\u001b[0m\u001b[0;34m,\u001b[0m \u001b[0mflags\u001b[0m\u001b[0;34m)\u001b[0m\u001b[0;34m.\u001b[0m\u001b[0msplit\u001b[0m\u001b[0;34m(\u001b[0m\u001b[0mstring\u001b[0m\u001b[0;34m,\u001b[0m \u001b[0mmaxsplit\u001b[0m\u001b[0;34m)\u001b[0m\u001b[0;34m\u001b[0m\u001b[0;34m\u001b[0m\u001b[0m\n\u001b[0m\u001b[1;32m    214\u001b[0m \u001b[0;34m\u001b[0m\u001b[0m\n\u001b[1;32m    215\u001b[0m \u001b[0;32mdef\u001b[0m \u001b[0mfindall\u001b[0m\u001b[0;34m(\u001b[0m\u001b[0mpattern\u001b[0m\u001b[0;34m,\u001b[0m \u001b[0mstring\u001b[0m\u001b[0;34m,\u001b[0m \u001b[0mflags\u001b[0m\u001b[0;34m=\u001b[0m\u001b[0;36m0\u001b[0m\u001b[0;34m)\u001b[0m\u001b[0;34m:\u001b[0m\u001b[0;34m\u001b[0m\u001b[0;34m\u001b[0m\u001b[0m\n",
      "\u001b[0;31mKeyboardInterrupt\u001b[0m: "
     ]
    }
   ],
   "source": [
    "%qed"
   ]
  },
  {
   "cell_type": "markdown",
   "metadata": {},
   "source": []
  }
 ],
 "metadata": {
  "kernelspec": {
   "display_name": "Python 3",
   "language": "python",
   "name": "python3"
  },
  "language_info": {
   "codemirror_mode": {
    "name": "ipython",
    "version": 3
   },
   "file_extension": ".py",
   "mimetype": "text/x-python",
   "name": "python",
   "nbconvert_exporter": "python",
   "pygments_lexer": "ipython3",
   "version": "3.7.3"
  }
 },
 "nbformat": 4,
 "nbformat_minor": 1
}
