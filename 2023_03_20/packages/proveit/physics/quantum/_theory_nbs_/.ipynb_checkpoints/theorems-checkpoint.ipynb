{
 "cells": [
  {
   "cell_type": "markdown",
   "metadata": {},
   "source": [
    "Theorems (or conjectures) for the theory of <a class=\"ProveItLink\" href=\"theory.ipynb\">proveit.physics.quantum</a>\n",
    "========"
   ]
  },
  {
   "cell_type": "code",
   "execution_count": 1,
   "metadata": {},
   "outputs": [],
   "source": [
    "import proveit\n",
    "# Prepare this notebook for defining the theorems of a theory:\n",
    "%theorems_notebook # Keep this at the top following 'import proveit'.\n",
    "from proveit import (Operation, Function, IndexedVar, \n",
    "                     ExprTuple, ExprRange, var_range, ExprArray)\n",
    "from proveit import (a, b, c, d, f, g, h, i, j, k, l, m, n, p, \n",
    "                     t, u, x, y, z, alpha, \n",
    "                     A, B, C, D, E, F, G, P, Q, R, S, U, V, W, X, Y, \n",
    "                     Psi, Px, Py)\n",
    "from proveit.core_expr_types import (\n",
    "    x_1_to_n, b_1_to_j, A_1_to_l, A_1_to_m, B_1_to_i, \n",
    "    B_1_to_m, C_1_to_n)\n",
    "from proveit.core_expr_types.expr_arrays import Aij, Bij, Cij, Dij, Eij, Pij, Qij, Rij, Sij, B11_to_Bmn, D11_to_Dmn, S11_to_Smn\n",
    "from proveit.linear_algebra import VecAdd, VecSum, LinMap, TensorProd\n",
    "from proveit.logic import (Implies, Iff, And, Equals, Forall, \n",
    "                           Set, InSet, Union, InClass)\n",
    "from proveit.numbers import (zero, one, two, three, subtract, \n",
    "                             Abs, Add, Complex, Exp, Mult, \n",
    "                             Natural, NaturalPos, Sum)\n",
    "from proveit.numbers.number_sets import Interval \n",
    "from proveit.physics.quantum import (\n",
    "    Ket, Meas, QubitRegisterSpace, \n",
    "    NumKet, NumBra, RegisterSU, Qmult)\n",
    "from proveit.physics.quantum import (\n",
    "        H, inv_root2, ket0, ket1, ket_plus, QubitSpace, SPACE, CONTROL, I)#, pregated_controlled_ngate, \n",
    "        #pregated_controlled_ngate_with_merge)\n",
    "from proveit.physics.quantum.circuits import MultiQuditGate, Gate, Qcircuit, QcircuitEquiv, Input, Output, MultiWire\n",
    "from proveit.statistics import Prob\n",
    "\n",
    "# from proveit.physics.quantum.common import I, H, Hgate, CTRL_DN, WIRE_DN, WIRE_LINK, PASS, \\\n",
    "#     , QubitRegisterSpace, RegisterSU \n",
    "from proveit.linear_algebra import MatrixMult, ScalarMult, SU"
   ]
  },
  {
   "cell_type": "code",
   "execution_count": 2,
   "metadata": {},
   "outputs": [
    {
     "name": "stdout",
     "output_type": "stream",
     "text": [
      "Defining theorems for theory 'proveit.physics.quantum'\n",
      "Subsequent end-of-cell assignments will define theorems\n",
      "'%end theorems' will finalize the definitions\n"
     ]
    }
   ],
   "source": [
    "%begin theorems"
   ]
  },
  {
   "cell_type": "markdown",
   "metadata": {},
   "source": [
    "### *The following 3 cells require updates to Circuit class before they can proceed.<br/>These then affect a handful of theorems/expressions below that refer to the Circuits.*"
   ]
  },
  {
   "cell_type": "code",
   "execution_count": 3,
   "metadata": {},
   "outputs": [],
   "source": [
    "def controlled_ngate(a, b, x, y):\n",
    "    return Circuit(ExprArray(ExprTuple(Input(a), I, MultiQubitGate(CONTROL, Set(one, two)), Output(b)),\n",
    "                    ExprTuple(Input(x), MultiWire(n), MultiQubitGate(U, Set(one, two)), Output(y))))"
   ]
  },
  {
   "cell_type": "code",
   "execution_count": 4,
   "metadata": {},
   "outputs": [
    {
     "data": {
      "text/html": [
       "<strong id=\"ket_plus_distributed\"><a class=\"ProveItLink\" href=\"proofs/ket_plus_distributed/thm_proof.ipynb\">ket_plus_distributed</a> (conjecture without proof):<br></strong> <a class=\"ProveItLink\" href=\"../__pv_it/theorems/60db8f1f954f92f6402ab8354fd9318bc027a7d60/theorem_expr.ipynb\"><img src=\"data:image/png;base64,iVBORw0KGgoAAAANSUhEUgAAATgAAAAyBAMAAAA6vdqLAAAAMFBMVEX////c3NxERESYmJhmZmZU\n",
       "VFQQEBAiIiIyMjKqqqqIiIi6urp2dnbu7u7MzMwAAAASOpYoAAAAAXRSTlMAQObYZgAABM1JREFU\n",
       "WMOdWTtoFEEY/i+X5Mzm9gwWWl4iPhqFVBYi5MBHEyQpgoKiEUENqEFFooViiqjbiFeIggRyILE0\n",
       "KSzskkLBF3iNDwTxGks5jQYfSYyzN//eznNnZv8iPzc7359vZv/XzgAY5RVV+VnzVPAHtY+c8Al2\n",
       "eKPzVL+2mv1E+8QN/8SO3DRVnt1asuOaB454rR1OOo5RfTceOZs0f5tm3BW/zYbcO+oq/ulo4O2z\n",
       "FYv5kjO54t/ZuOgmqlpK8c6v2Oy0IM54jR1+LlqaqloahyvKUXf8FTO5HK74Itgan+pSjbrj1XY4\n",
       "6aNTst+tjedKqiB0xyvt8HIBZ3ZbG1c+ToE3TCNSWKK6Pmtt3P+rGEyBV9rhpBVjZh9YG4dAMZYG\n",
       "H5jItWNeP+FgfEbhyWnwM6aIqPfSt/vDwXixV/aONHiiv8YpTb8K7ztbJUXjBcxhZX63WUgaPNGv\n",
       "Yv9SFIwtmN+ZdN164PdudTPUj5PPyfUhDZ7omFxB0Tccx0V0JzZVxPjLXTX4gj+/ya5rxIci4ImO\n",
       "yYG8Yv8n1Z9LBuNryv55yKFP/ZNmGPGNVkXAE90g11EJ/z6QHRlzTb1iML4D4Dl4vRwI4H4zrkz4\n",
       "Rqsi4IlmyH2Qy/4frHNlg/HNYWn3x7ntZsgZ8Y0QFvBEM+RapMQS7XBfzWB8EWCuDD3096JEzoin\n",
       "+UXAL7LkOuZ1KSA5H+Znw8XOVWCS/l6QyJnwSE7AL7DkaEQ8D0KZoDBMSW+qycYzyw2/Qo8ekciZ\n",
       "8EhOwI9w5Pql0orkBnTGfSRHdq4+H2XKUxI5Ex7JCfhThFw+CG6OBMFgM9HE0oYpZ5iqVU4aOWKc\n",
       "fa2YKccA38BYEFy3wiM5Dh9qducmDeQUfdpgMyBIRKLTjkk7Z8RTcgKeJ9cT+9x1u9ca+cxGEpHV\n",
       "KNwv2b9W3ucE/CWWXEYqMnmM1jddNkkY1mkDwi5a1yUERF5KlR7muRk+TxWbPhMZz5X9UYAXQvMW\n",
       "pxITnrYqAv4ESy4n9/PYpffxDcthaeX+y+laszjLFcKIp62KgOcqxGO5fCG5Kc54ZlzdVXTS8u4v\n",
       "y+UrDZ7oBjm/4bBHtR1snWtuW8tq4201ofB/EhpqN3xU+ClTxcEO7vBaruV5D/6ejTXZ+Ae+W2Ak\n",
       "FZ7omFxW0ddcxnTE8X4BbyG/JBvfyYc4m87S4Il+FPfSimQ0gC+CbW79c7Af4CQT07gL2/nMzb7I\n",
       "NHiFHeE0oip/MOV7w+o3rE1dip48FT65tw89mfpu4Q/nMnC7CsPaFq0ou0cqfLGS4qOadvPXqmk/\n",
       "qm3xxo/qyFnQ9zpno66vc1mL2Qpa33XCbzUdR3RiUM3RgHpIos6rNNsJtagOYNLgjQc50aEfPSzL\n",
       "fFyKitweLcJb0R66OeE94xGYEK7+AmYjr2R0U1W4uuDbzXcD7fjRcwZ9pwuuhvoOZLqcjl3d8RbH\n",
       "rsKBdbGUDdkW5sHTYSeSDqwd8BPmA+tozhr6HtpWcuF/2fD66UHdatRXIM745KsUlPU0WWZGaTZd\n",
       "vhOq26urvzTzNZcbznirS5IO7ADvUXXjlmH+kGbcFT8ENrIX0zENnqlS8uysriA64rPdVuTasMQd\n",
       "AvV5Ci/6q0g3vOWVZnQO0Gp1mXtEXwld8FT/B/xj/LYOVF2hAAAAAElFTkSuQmCC\n",
       "\" style=\"display:inline;vertical-align:middle;\" /></a><br>"
      ],
      "text/plain": [
       "ket_plus_distributed: |+〉 = (((1 / sqrt(2)) * |0〉) + ((1 / sqrt(2)) * |1〉))"
      ]
     },
     "execution_count": 4,
     "metadata": {},
     "output_type": "execute_result"
    }
   ],
   "source": [
    "ket_plus_distributed = Equals(\n",
    "    ket_plus, Add(ScalarMult(inv_root2, ket0), \n",
    "                  ScalarMult(inv_root2, ket1)))"
   ]
  },
  {
   "cell_type": "code",
   "execution_count": 5,
   "metadata": {},
   "outputs": [
    {
     "data": {
      "text/html": [
       "<strong id=\"scaled_qubit_state_in_qubit_space\"><a class=\"ProveItLink\" href=\"proofs/scaled_qubit_state_in_qubit_space/thm_proof.ipynb\">scaled_qubit_state_in_qubit_space</a> (conjecture without proof):<br></strong> <a class=\"ProveItLink\" href=\"../__pv_it/theorems/ba1026f31bea96241e4e2701cf11b1f8d13e6e9d0/theorem_expr.ipynb\"><img src=\"data:image/png;base64,iVBORw0KGgoAAAANSUhEUgAAAQAAAAAcBAMAAAB8P3wBAAAAMFBMVEX///8QEBCIiIhmZma6urrM\n",
       "zMxUVFQiIiJERETc3Nzu7u6qqqp2dnaYmJgyMjIAAAAcRTyBAAAAAXRSTlMAQObYZgAABAtJREFU\n",
       "SMfFV2tIFFEUPu7O7O7MzqxC/YmghoroR4+liEJUlsKCCNqIHlCURFH9CSnSighRqLGCBEOl52Ak\n",
       "tFouRPT8sa4YUVYLPajI8odBbyyKyig7587M7ozu7KoIXpg7d869M/e753znMQBj0dqrNBjLJtV4\n",
       "uoe+elt5TeYFfGi4ALw1/G9QcMCVH8i+ujTbgjXD1oA3JHyHJWxYNwoAPozACP4+kBKjBMBNujyT\n",
       "fhtH43nxpf06AMaGrowAAnSTEw7z55DQYkX6uR2DJLMPft0bRDfA4VQdwP1sWiwFKYq3gJPj0LcC\n",
       "Dke9PFCw+g+c/xsEOUjIdQAN2AsVGQGw6Qan+Yl4PXbyN8X+LHtQ8CYIy6EYzRBlAOhk7IgZOEAK\n",
       "uu8wLfRht89hUswzNj5cfpDuT3NwN0+Q/3jrCJKnggGQ70Ui9VlI+CoSuejERRn3EByJ2qNHikrD\n",
       "fkHSo6jk9Pf3ArjydC/4paqDogHfWW0FkKuqh2NOToAsdpFJIT7VEpEap5+YqegEQSoY+4slqyxv\n",
       "cn06gK0A1QO/6oO1VgCeMPicPMqHivSRh9SHxAmiaUsxJu/yIrTXNmcQYousp/yhA1gMoi0w+49t\n",
       "2xyAVisALjiQz9fvlBn8CpQYdEI1VrnoqHRJmtTHIeZrbI3JcSFoBYDRkAHwgst0cfH2vIS4TuM/\n",
       "mW+agagUZiWfm9sL4cIR2GjYxIvqz0Hdu1GhRRJ95B91TDMAm9hRJ33BRtKKDVaGGgCkhNcUPb8R\n",
       "Afk0wG0Q39sAPEjFQ/noSQ1exMBvAAgYAHJww7Z7JClj8lwlCSDl5R88aTQgdFM2ic+fHuaIS8VX\n",
       "UQRNmg3AWb6E1nQCWQxNsj4MYJDCZ5igFQE9srjzpjD1S9k4zxQ+ZgCMb2NG1HNB9RbksbbTG2Ih\n",
       "9+UL0k5+iw2Ary5EOcyjxFjoli+lKOkxSJiLV1uKSNocIELoJJybZOw01AvXbfcCuIJb8PAZ4DyJ\n",
       "b94gw/b/tAHwL8BuIcg9IZG05G9OASBvllDoLgH5EW9KV0SPswRVoPMkqZmiY1qzqqUiCAOgWwv1\n",
       "sVZVVeXU6nTZ8BuLudw44PeqaqVwNWzzZo7WdHYl3HFT2jSlsZCo/Van2/ZlpusVTd5tvmtEQkRC\n",
       "iPheHpiB3I3E4YEAXjKIPG5GZIB8JWlJGJ8pFBvc5e7qodjWAoqlHjgndUsgETahIAzxtPVAD7T0\n",
       "atBBw9qOVJ4pGEYysrVWzQKg6UkcXegoDVu+HAqnBVDbpRREwUf2FB++22qKVxK5hpqOre3Z4IrI\n",
       "hRzIWhHNUCttz56oc0FSnQnAnlEqyVggT1+SyZnqaTk2WkXplZH9HDQMtSouz/Zf4A+NCEA++y8o\n",
       "g7Fu/wGpbRQtnkW1xAAAAABJRU5ErkJggg==\n",
       "\" style=\"display:inline;vertical-align:middle;\" /></a><br>"
      ],
      "text/plain": [
       "scaled_qubit_state_in_qubit_space: forall_{x in Complex^{2}} [forall_{alpha in Complex} ((alpha * x) in Complex^{2})]"
      ]
     },
     "execution_count": 5,
     "metadata": {},
     "output_type": "execute_result"
    }
   ],
   "source": [
    "scaled_qubit_state_in_qubit_space = Forall(\n",
    "        x,\n",
    "        Forall(alpha,\n",
    "               InSet(ScalarMult(alpha, x), QubitSpace),\n",
    "               domain=Complex),\n",
    "        domain=QubitSpace)"
   ]
  },
  {
   "cell_type": "code",
   "execution_count": 6,
   "metadata": {},
   "outputs": [
    {
     "data": {
      "text/html": [
       "<strong id=\"transformed_qubit_state_in_qubit_space\"><a class=\"ProveItLink\" href=\"proofs/transformed_qubit_state_in_qubit_space/thm_proof.ipynb\">transformed_qubit_state_in_qubit_space</a> (conjecture without proof):<br></strong> <a class=\"ProveItLink\" href=\"../__pv_it/theorems/5a5aae581d10e750726e726ed69227420a3c63980/theorem_expr.ipynb\"><img src=\"data:image/png;base64,iVBORw0KGgoAAAANSUhEUgAAARoAAAAcBAMAAABMs20gAAAAMFBMVEX///8QEBCIiIhmZma6urrM\n",
       "zMxUVFQiIiJERETc3Nzu7u6qqqp2dnaYmJgyMjIAAAAcRTyBAAAAAXRSTlMAQObYZgAABKJJREFU\n",
       "SMfNl32IFGUYwJ/bnZndmZ2ZO8j/+sPJwj/MajIiOy5ZEi1IcEXs7o+LO8LrCCS2ojY0ZEHR3TRa\n",
       "Is6DPhxOWGoTPZCIK4XlDgS/aKEPVPpY/AC90s64TE90fZ73fWd29sP9ACUHZt6Zd555n9/7vM/H\n",
       "OwD/+zG1xYH75tAzSrF16eFEps3x5Wg70qGMfB0svJES7zeXjrc925fbkg5F1VlYyW5H7gXNdJvy\n",
       "kTnQC/eKJkhmVws1Ou+44CH8YCOnYR70W0Makxqj0CrNbgqRL0EdvrIDwqUzXv/rNZKPb77yno1B\n",
       "hbcPc5pjzWwbB30cG7PlMKTB4SIGyyy2C8r9+6oF192APTdtMGyaAqcZJbMmG9Kw16Mtr9SDZEnU\n",
       "YM7gTbcvlK1KOUPBjj9sWAUrcLXGGQ3NmU2+gd+Q6Y61CqPOsbAF6KRJDJZfaF28PZlIMPf4uQNV\n",
       "K7b85/cfoLMlGY1xNJfb1cSLf83lvmrZmQ1SSiOuxqlred+bc+zat0g82mRuzeooldCIgS4eU9dS\n",
       "qZqsIx9P+2k6U6nt+Tsbg31RDqmicMofYojGEuHYwk8WW8KhNNdHtcG1vkGkOU4zBJCuVhCGXj+N\n",
       "EoNwBvpuWfLfwvKLp/q1Jx9wgtdQY54qTcTLv2Gy+Yd4vkloTG/eeCuEjL/Tg+IGupp/3j//fznN\n",
       "ctAq6kRk5/CrJuz300g2BQThvyQcMgqvMbU2Dc8qzbOuvEnAm5DhKulm0o4+JyHEt3yiLo3tp1Fn\n",
       "OU0IAm4q0Q4+VdD6HPkv8aWX/eLwGA6Kd4u4UAdAFpRBsgv080qT9XIZBew8nNVNbD9mw3J7wQBd\n",
       "1lzGg6avJft9NJqg0Qsht+vkRA6MzwAOgnaxguYEXcM2005CGI8Bl2aIVxrTXQFT0Ohk+yO8r9Py\n",
       "aMqZYlqpYxu1SFVu8umFMYnGWfEN+WXWqaD5QkbNnQXSzoSMq6fApYnzSuMZOCxWSp8pB/hAjK4v\n",
       "0KXDG/hHRiMUoXV5nUqvxwBz3ghFWQU4fYrs1r23giY8gk46kKHqw4TgxdK0oFHjvNJE3MyiCC9G\n",
       "QuGyEecJVCC8OOjlwPAjeCsVK2MKDsQpQC8B7KHu7yZo9NJ/FTSRZ/DyENokw4XwgwuCRkryYiC5\n",
       "+ZxlDgrms6AOsZ7V4x/B59j2sKdN3sjLdjpfpxxflhrxFhUt1ZtKpaxP19Wr4f/guRStL4QC+BVL\n",
       "LEgzyOuAXPRnDloUfdsS3pNdMPYcreN5/rTV9QJ52fy3Y26WSgoag97KMzIPx+AYBUE1zWk8DwO8\n",
       "ImLWpFCMdBGNjMNQpZG8GjBPVIbqQxPpfNX2RO3W07R8+5vdelEHnUDVnhhM1t3f9IKMTsuE0KGX\n",
       "A5zBPS3pYJXG8JJ1j6iaNRtgq0E92e/4aLI/TR4F2EG3ey9vi9WlkTacoIaEgmunCKyHUt5GYJUm\n",
       "6CXjNXRJ1yrc16i6/VK79wugSzTd+1ULPSpM7XUo42y3VXOkG9G8c5d2oiLVHyr7R7HuTtRo9OvB\n",
       "1/ku0EhMr+ZzlAPt/1SNtvrPkGj2PzXB1s+3UY1E26bpZv9T78J9ddwGCao78UDir+sAAAAASUVO\n",
       "RK5CYII=\n",
       "\" style=\"display:inline;vertical-align:middle;\" /></a><br>"
      ],
      "text/plain": [
       "transformed_qubit_state_in_qubit_space: forall_{x in Complex^{2}} [forall_{U in SU(2)} ((U . x) in Complex^{2})]"
      ]
     },
     "execution_count": 6,
     "metadata": {},
     "output_type": "execute_result"
    }
   ],
   "source": [
    "transformed_qubit_state_in_qubit_space = Forall(\n",
    "        x,\n",
    "        Forall(U,\n",
    "               InSet(Qmult(U, x), QubitSpace),\n",
    "               domain=SU(two)),\n",
    "        domain=QubitSpace)"
   ]
  },
  {
   "cell_type": "code",
   "execution_count": 7,
   "metadata": {},
   "outputs": [],
   "source": [
    "# See prepend_num_ket_with_one_ket in quantum.algebra\n",
    "# multi_tensor_prod_induct_1 = Forall(t,\n",
    "#        Forall(k,\n",
    "#               Equals(TensorProd(Ket(one), NumKet(k, t)),\n",
    "#                      NumKet(Add(Exp(two, t), k), Add(t, one))),\n",
    "#               domain=Interval(zero, subtract(Exp(two, t), one))),\n",
    "#        domain=NaturalPos)"
   ]
  },
  {
   "cell_type": "code",
   "execution_count": 8,
   "metadata": {},
   "outputs": [],
   "source": [
    "# See prepend_num_ket_with_zero_ket in quantum.algebra\n",
    "# multi_tensor_prod_induct_0 = Forall(t,\n",
    "#        Forall(k,\n",
    "#               Equals(TensorProd(Ket(zero), NumKet(k, t)),\n",
    "#                      NumKet(k, Add(t, one))),\n",
    "#               domain=Interval(zero, subtract(Exp(two, t), one))),\n",
    "#        domain=NaturalPos)"
   ]
  },
  {
   "cell_type": "code",
   "execution_count": 9,
   "metadata": {},
   "outputs": [],
   "source": [
    "# single_time_equiv = Forall ((h, k, m), Forall((var_range(A, [one, one], [m, k]), var_range(B, one, m), \n",
    "#                                                 var_range(C, [one, one], [m, h]), var_range(D, one, m), \n",
    "#                                                 var_range(S, one, m), var_range(R, [one, one], [m, k]), \n",
    "#                                                 var_range(Q, [one, one], [m, h])), \n",
    "#         Implies(\n",
    "#             CircuitEquiv(\n",
    "#                         Circuit(ExprArray(ExprRange(i, ExprTuple(MultiQubitGate(IndexedVar(B, i), IndexedVar(S, i))), one, m))),\n",
    "#                         Circuit(ExprArray(ExprRange(i, ExprTuple(MultiQubitGate(IndexedVar(D, i), IndexedVar(S, i))), one, m)))\n",
    "#             ),\n",
    "#             CircuitEquiv(\n",
    "#                         Circuit(ExprArray(ExprRange(i, ExprTuple(ExprRange(j, MultiQubitGate(Aij, Rij), one, k), \n",
    "#                                             MultiQubitGate(IndexedVar(B, i), IndexedVar(S, i)),\n",
    "#                                             ExprRange(j, MultiQubitGate(Cij, Qij), one, h)), \n",
    "#                                     one, m))),\n",
    "#                         Circuit(ExprArray(ExprRange(i, ExprTuple(ExprRange(j, MultiQubitGate(Aij, Rij), one, k), \n",
    "#                                             MultiQubitGate(IndexedVar(D, i), IndexedVar(S, i)),\n",
    "#                                             ExprRange(j, MultiQubitGate(Cij, Qij), one, h)), \n",
    "#                                     one, m)))\n",
    "#             )\n",
    "#         ).with_wrapping_at(2)\n",
    "#     ).wrap_params(), domain=NaturalPos)"
   ]
  },
  {
   "cell_type": "code",
   "execution_count": 10,
   "metadata": {},
   "outputs": [],
   "source": [
    "# single_time_equiv_judgement = Forall ((h, k, m), Forall((var_range(A, [one, one], [m, k]), var_range(B, one, m), \n",
    "#                                                 var_range(C, [one, one], [m, h]), var_range(D, one, m), \n",
    "#                                                 var_range(S, one, m), var_range(R, [one, one], [m, k]), \n",
    "#                                                 var_range(Q, [one, one], [m, h])), \n",
    "#         Implies(And(\n",
    "#             CircuitEquiv(\n",
    "#                         Circuit(ExprArray(ExprRange(i, ExprTuple(MultiQubitGate(IndexedVar(B, i), IndexedVar(S, i))), one, m))),\n",
    "#                         Circuit(ExprArray(ExprRange(i, ExprTuple(MultiQubitGate(IndexedVar(D, i), IndexedVar(S, i))), one, m)))\n",
    "#             ), Circuit(ExprArray( ExprRange(i, ExprTuple(ExprRange(j, MultiQubitGate(Aij, Rij), one, k), \n",
    "#                                             MultiQubitGate(IndexedVar(B, i), IndexedVar(S, i)),\n",
    "#                                             ExprRange(j, MultiQubitGate(Cij, Qij), one, h)), \n",
    "#                                     one, m)))),\n",
    "            \n",
    "#                         Circuit(ExprArray(ExprRange(i, ExprTuple(ExprRange(j, MultiQubitGate(Aij, Rij), one, k), \n",
    "#                                             MultiQubitGate(IndexedVar(D, i), IndexedVar(S, i)),\n",
    "#                                             ExprRange(j, MultiQubitGate(Cij, Qij), one, h)), \n",
    "#                                     one, m))\n",
    "#             )\n",
    "#         ).with_wrapping_at(2)\n",
    "#     ).wrap_params(), domain=NaturalPos)"
   ]
  },
  {
   "cell_type": "code",
   "execution_count": 11,
   "metadata": {},
   "outputs": [],
   "source": [
    "# temporal_circuit_substitution = Forall ((g, h, k, m, n), \n",
    "#                                         Forall((var_range(A, [one, one], [m, g]), var_range(B, [one, one], [m, h]), \n",
    "#                                                 var_range(C, [one, one], [m, k]), D11_to_Dmn,\n",
    "                                                                 \n",
    "#                                                 var_range(P, [one, one], [m, g]), var_range(Q, [one, one], [m, h]), \n",
    "#                                                 var_range(R, [one, one], [m, k]), S11_to_Smn), \n",
    "#         Implies(\n",
    "#             And(CircuitEquiv(\n",
    "#                         Circuit(ExprArray(ExprRange(i, ExprTuple(ExprRange(j, MultiQubitGate(Bij, Qij), one, h)), one, m))),\n",
    "#                         Circuit(ExprArray(ExprRange(i, ExprTuple(ExprRange(j, MultiQubitGate(Dij, Sij), one, n)), one, m)))\n",
    "#                             ),\n",
    "#                 Circuit(ExprArray(ExprRange(i, ExprTuple(ExprRange(j, MultiQubitGate(Aij, Pij), one, g), \n",
    "#                                   ExprRange(j, MultiQubitGate(Bij, Qij), one, h),\n",
    "#                                   ExprRange(j, MultiQubitGate(Cij, Rij), one, k)), \n",
    "#                                             one, m)))),\n",
    "        \n",
    "#             Circuit(ExprArray(ExprRange(i, ExprTuple(ExprRange(j, MultiQubitGate(Aij, Pij), one, g), \n",
    "#                                 ExprRange(j, MultiQubitGate(Dij, Sij), one, n),\n",
    "#                                 ExprRange(j, MultiQubitGate(Cij, Rij), one, k)), \n",
    "#                         one, m)))\n",
    "            \n",
    "#         ).with_wrapping_at(2)\n",
    "#     ).wrap_params(), domain=NaturalPos)"
   ]
  },
  {
   "cell_type": "code",
   "execution_count": null,
   "metadata": {},
   "outputs": [],
   "source": []
  },
  {
   "cell_type": "code",
   "execution_count": 12,
   "metadata": {},
   "outputs": [],
   "source": [
    "# temporal_circuit_equiv = Forall ((h, k, m, n), Forall((var_range(A, [one, one], [m, k]), B11_to_Bmn, \n",
    "#                                                 var_range(C, [one, one], [m, h]), D11_to_Dmn, \n",
    "#                                                 S11_to_Smn, var_range(R, [one, one], [m, k]), \n",
    "#                                                 var_range(Q, [one, one], [m, h])), \n",
    "#         Implies(\n",
    "#             CircuitEquiv(\n",
    "#                         Circuit(ExprArray(ExprRange(i, ExprTuple(ExprRange(j, MultiQubitGate(Bij, Sij), one, n)), one, m))),\n",
    "#                         Circuit(ExprArray(ExprRange(i, ExprTuple(ExprRange(j, MultiQubitGate(Dij, Sij), one, n)), one, m)))\n",
    "#             ),\n",
    "#             CircuitEquiv(\n",
    "#                         Circuit(ExprArray(ExprRange(i, ExprTuple(ExprRange(j, MultiQubitGate(Aij, Rij), one, k), \n",
    "#                                             ExprRange(j, MultiQubitGate(Bij, Sij), one, n),\n",
    "#                                             ExprRange(j, MultiQubitGate(Cij, Qij), one, h)), \n",
    "#                                     one, m))),\n",
    "#                         Circuit(ExprArray(ExprRange(i, ExprTuple(ExprRange(j, MultiQubitGate(Aij, Rij), one, k), \n",
    "#                                             ExprRange(j, MultiQubitGate(Dij, Sij), one, n),\n",
    "#                                             ExprRange(j, MultiQubitGate(Cij, Qij), one, h)), \n",
    "#                                     one, m)))\n",
    "#             )\n",
    "#         ).with_wrapping_at(2)\n",
    "#     ).wrap_params(), domain=NaturalPos)"
   ]
  },
  {
   "cell_type": "code",
   "execution_count": 13,
   "metadata": {},
   "outputs": [],
   "source": [
    "# single_space_equiv = Forall((k, m, n), Forall((var_range(A, [one, one], [m, n]), var_range(B, one, n),\n",
    "#                                               var_range(C, [one, one], [k, n]), var_range(D, one, n),\n",
    "#                                               S11_to_Smn, var_range(Q, one, n), \n",
    "#                                               var_range(R, [one, one], [k, n])),\n",
    "#         Implies(\n",
    "#             CircuitEquiv(\n",
    "#                     Circuit(ExprArray(ExprTuple(ExprRange(j, Gate(IndexedVar(B, j)), one, n)))),\n",
    "#                     Circuit(ExprArray(ExprTuple(ExprRange(j, Gate(IndexedVar(D, j)), one, n))))\n",
    "#             ),\n",
    "#             CircuitEquiv(\n",
    "#                     Circuit(ExprArray(ExprRange(i, ExprTuple(ExprRange(j, MultiQubitGate(Aij, Sij), one, n)), one, m),\n",
    "#                             ExprTuple(ExprRange(j, Gate(IndexedVar(B, j)), one, n)),\n",
    "#                             ExprRange(i, ExprTuple(ExprRange(j, MultiQubitGate(Cij, Rij), one, n)), one, k))),\n",
    "#                     Circuit(ExprArray(ExprRange(i, ExprTuple(ExprRange(j, MultiQubitGate(Aij, Sij), one, n)), one, m),\n",
    "#                             ExprTuple(ExprRange(j, Gate(IndexedVar(D, j)), one, n)),\n",
    "#                             ExprRange(i, ExprTuple(ExprRange(j, MultiQubitGate(Cij, Rij), one, n)), one, k)))\n",
    "#             )\n",
    "#         ).with_wrapping_at(2)\n",
    "#     ).wrap_params(), domain=NaturalPos)"
   ]
  },
  {
   "cell_type": "code",
   "execution_count": 14,
   "metadata": {},
   "outputs": [],
   "source": [
    "# double_space_equiv = Forall((h, k, m, n), Forall((var_range(A, [one, one], [m, n]), var_range(B, one, n),\n",
    "#                                               var_range(C, [one, one], [k, n]), var_range(D, one, n), \n",
    "#                                               var_range(E, [one, one], [h, n]), var_range(F, one, n), \n",
    "#                                               var_range(G, one, n), \n",
    "#                                               S11_to_Smn, var_range(Q, [one, one], [h, n]), \n",
    "#                                               var_range(R, [one, one], [k, n])),\n",
    "#         Implies(\n",
    "#             CircuitEquiv(\n",
    "#                     Circuit(ExprArray(ExprTuple(ExprRange(j, MultiQubitGate(IndexedVar(B, j), Set(Add(m, one), Add(m, k, two))), one, n)),\n",
    "#                             ExprTuple(ExprRange(j, MultiQubitGate(IndexedVar(D, j), Set(Add(m, one), Add(m, k, two))), one, n)))),\n",
    "#                     Circuit(ExprArray(ExprTuple(ExprRange(j, MultiQubitGate(IndexedVar(F, j), Set(Add(m, one), Add(m, k, two))), one, n)),\n",
    "#                             ExprTuple(ExprRange(j, MultiQubitGate(IndexedVar(G, j), Set(Add(m, one), Add(m, k, two))), one, n))))\n",
    "#             ),\n",
    "#             CircuitEquiv(\n",
    "#                     Circuit(ExprArray(ExprRange(i, ExprTuple(ExprRange(j, MultiQubitGate(Aij, Sij), one, n)), one, m),\n",
    "#                             ExprTuple(ExprRange(j, MultiQubitGate(IndexedVar(B, j), Set(Add(m, one), Add(m, k, two))), one, n)),\n",
    "#                             ExprRange(i, ExprTuple(ExprRange(j, MultiQubitGate(Cij, Rij), one, n)), one, k),\n",
    "#                             ExprTuple(ExprRange(j, MultiQubitGate(IndexedVar(D, j), Set(Add(m, one), Add(m, k, two))), one, n)),\n",
    "#                             ExprRange(i, ExprTuple(ExprRange(j, MultiQubitGate(Eij, Qij), one, n)), one, h))),\n",
    "#                     Circuit(ExprArray(ExprRange(i, ExprTuple(ExprRange(j, MultiQubitGate(Aij, Sij), one, n)), one, m),\n",
    "#                             ExprTuple(ExprRange(j, MultiQubitGate(IndexedVar(F, j), Set(Add(m, one), Add(m, k, two))), one, n)),\n",
    "#                             ExprRange(i, ExprTuple(ExprRange(j, MultiQubitGate(Cij, Rij), one, n)), one, k),\n",
    "#                             ExprTuple(ExprRange(j, MultiQubitGate(IndexedVar(G, j), Set(Add(m, one), Add(m, k, two))), one, n)),\n",
    "#                             ExprRange(i, ExprTuple(ExprRange(j, MultiQubitGate(Eij, Qij), one, n)), one, h))))\n",
    "#             ).with_wrapping_at(2)\n",
    "#     ).wrap_params(), domain=NaturalPos)"
   ]
  },
  {
   "cell_type": "code",
   "execution_count": 15,
   "metadata": {},
   "outputs": [],
   "source": [
    "# # need to form an Iter to replace x_etc here\n",
    "# # summed_qubit_state_in_qubit_space = Forall(x_etc, InSet(Add(x_etc), QubitSpace), domain=QubitSpace)\n",
    "# summed_qubit_state_in_qubit_space = Forall(\n",
    "#     n,\n",
    "#     Forall(\n",
    "#         x_1_to_n,\n",
    "#         InSet(Add(x_1_to_n), QubitSpace),\n",
    "#         domain=QubitSpace),\n",
    "#     domain=NaturalPos)"
   ]
  },
  {
   "cell_type": "code",
   "execution_count": 16,
   "metadata": {},
   "outputs": [],
   "source": [
    "# scaled_qubit_register_state_in_qubit_register_space = Forall(\n",
    "#         n,\n",
    "#         Forall(x,\n",
    "#                Forall(alpha, InSet(ScalarMult(alpha, x), QubitRegisterSpace(n)),\n",
    "#                       domain=Complex),\n",
    "#                domain=QubitRegisterSpace(n)),\n",
    "#         domain=NaturalPos)"
   ]
  },
  {
   "cell_type": "code",
   "execution_count": 17,
   "metadata": {},
   "outputs": [
    {
     "data": {
      "text/html": [
       "<strong id=\"register_ket_in_qubit_register_space\"><a class=\"ProveItLink\" href=\"proofs/register_ket_in_qubit_register_space/thm_proof.ipynb\">register_ket_in_qubit_register_space</a> (conjecture without proof):<br></strong> <a class=\"ProveItLink\" href=\"../__pv_it/theorems/eb97e972f9d00ce421d475de44598154106674100/theorem_expr.ipynb\"><img src=\"data:image/png;base64,iVBORw0KGgoAAAANSUhEUgAAAXEAAAAmBAMAAADAVbZsAAAAMFBMVEX///8QEBCIiIhmZma6urrM\n",
       "zMxUVFQiIiJERETc3Nzu7u6qqqp2dnaYmJgyMjIAAAAcRTyBAAAAAXRSTlMAQObYZgAABdVJREFU\n",
       "WMPFmH1oW1UUwE9e8pLmJWnayv7ohi5zgkXa8tgEtbiRVVSYollnpWKxoahUHFLWDqdorRVc2ik+\n",
       "P3BlqH1VmNh1TVCDg63bwyh+bININ//Q6YIDQUWpusGWWur9esn7yGvSvpBceMm9eeed97vnnnvO\n",
       "uQEo3oT6egXK0gJpuxqEKP501tfLJUnXQZlaq30V99EvR2nk/WUCd61dpaGbT4fUPhetBvlkZHXP\n",
       "dQNMS+rgz2qQP74y8dRLDC8lw7QCc+euF9Hgdbny5PzVFYn7JXeGOojcJihH4Oy10IhG7mjlyWuj\n",
       "pUg9oHY8Epoq9m8OnN3Aed/vhyyef7by5BNSKQuTm54n7L0EdxFy71r04Q65SJD7pfLkWzEYe6PP\n",
       "cmE0SL4s+NOY/B2/zIEj4lTwFv+u8uQN2HnDtO8MWwht0vQ9yFeeRRN4SIG2h2ECPPdg8okwJSeb\n",
       "4Kdi5LVlyIDey5RceLFf6xQGIeLFrUN/70VxJIW6G9F1Gs1UQY7DnSHmVij5KTz4vRi5P2FYyNWk\n",
       "/nlm81oc3CzW0Y/vdS7AB4siBHB/Al3TYWjPv5tEHEQ+jic6XIycSIzbcxZnPyMPYjO0FBZyoHsB\n",
       "N/KSCyLcC3cij8HC7Z9rnIubp+TYkMSiy/s5XpVT9sg9w4z8fmy/Gf167Ht6iMYfdO8c3n5ukf/j\n",
       "2Biar8mqvquUPPDt1NSB4jv0/NTURzY3alBk5F/hUY02RPIjqjPgwCHixRVCjqUlZF3OVO7xCyy2\n",
       "XInFnivwHkVPHozF9tksdYMhRn4RZm8Dn1bbjKyJnEJ0p7ZKy5oMucjIHwMYLfAeUU/ujmArcQ35\n",
       "maN93tys3123tul1dAF05B0xnmaxZYF7a1G/RZ/I9WJo1yntWgtfNqH9w8jvACFTnNwlEs8czP2I\n",
       "Cp+A4tPFtm/gKZ2Knbegj135FMrIfdmbBNS9WSOZ9+VfEbmoJUd51Nj+Y+Qe4LRxmh/4AjZETeTI\n",
       "RCgaCGTpDqe2AJzA6Rl0S/kM9Ehzs+fzP9wNRI61ngQld15Dhg9q3nndX6iR7gB6yXC31jfM5P8y\n",
       "cn/ak/sNMx31y045tXlgc0JHfgYvrwv3AvsPyoQoHoF1Wo2DKL19POwpRu7pHcHD4xq75m1+EWcX\n",
       "9/I2V8m9mdzsCdNsSPSbvQXew1nPL3ZEkXsBJeqR4Hm9zpOyO9JlRa56SzxM8vcoBLZ0bKS38vHj\n",
       "ZXTNEXLZqjQWVG+B0UeBKSFMyeQbhchr3sbZ78ftWVovEHIZduuV7ka+1xK2II+z2HIB4gkF2zmw\n",
       "Le2QDMVKH37VDUjSlbGKLV41tsAnCIwqIcJJ/5HuAuQ+vN2CKBAJ9M4uYvMGY+o+BMfTOvLJXNwO\n",
       "KpS8D4IRBWe/gzdCkFrWk/PMDSQ0viIfjjGbB6zjOYmzRAllSoKSKkBOYtGOpgTwe2OxEegSiZ/r\n",
       "nXBOjcEx1MYoOZ9LFo4oJd8P3CYZ8HbohW3sDX3bmRDJr/zW9QPqkdWcQ12XVPKAzJRQpiS8i7VG\n",
       "jOQ/oKuJr5MgqtrcGFtcikt/RNbbvCajqXKJZ66B23n26Ncs+zuM1W9tyFS5ZXX1OVESpTZ3dVjV\n",
       "5yN8fwi+VP2cE0k8947BONHzyLGj+mryM52f++u05MjvvPMwmDSWZcZEHTcVqERPjpwqIUxnUZFi\n",
       "Rf4b9KJcmmDk0JwiftcIO4hh1y8t6Z5784VeLbkvqyHH2c8VhWZjyc8b3fr7wsfZHDlVgplcQ2Fw\n",
       "L38makI+pSFavp3Q1xsqeSBkIf+kYbzHJEGqCONpjjCVdppbOTmJ1RzbCTVWp5QZg1Oby7yTkr1z\n",
       "6KRUGnm+bqFH32LNJ+qG44UP4nbIvS2l/bGmObTEE6U88alu1GYWWFf5sz+XKYuWuir8r7imHEoc\n",
       "6SqQ/1wOJa3V+C+3JmRfh7exGuTCHvs6PkyshPxKLFQe9AOSbRWvkl0ae620f606O6XykHsjtpeN\n",
       "5GBvZyf8DzqQmDZjcwpyAAAAAElFTkSuQmCC\n",
       "\" style=\"display:inline;vertical-align:middle;\" /></a><br>"
      ],
      "text/plain": [
       "register_ket_in_qubit_register_space: forall_{n in NaturalPos} [forall_{k in {0 .. 2^{n} - 1}} (|k〉_{n} in (Complex^{2})^{otimes n})]"
      ]
     },
     "execution_count": 17,
     "metadata": {},
     "output_type": "execute_result"
    }
   ],
   "source": [
    "register_ket_in_qubit_register_space = Forall(\n",
    "        n,\n",
    "        Forall(k, InSet(NumKet(k, n), QubitRegisterSpace(n)),\n",
    "               domain = Interval(zero, subtract(Exp(two, n), one))),\n",
    "        domain=NaturalPos)"
   ]
  },
  {
   "cell_type": "code",
   "execution_count": 18,
   "metadata": {},
   "outputs": [
    {
     "data": {
      "text/html": [
       "<strong id=\"register_qubit_complex_amplitude\"><a class=\"ProveItLink\" href=\"proofs/register_qubit_complex_amplitude/thm_proof.ipynb\">register_qubit_complex_amplitude</a> (conjecture without proof):<br></strong> <a class=\"ProveItLink\" href=\"../__pv_it/theorems/66e43f883b451aba8ac4bf94bd99844cf6a550c70/theorem_expr.ipynb\"><img src=\"data:image/png;base64,iVBORw0KGgoAAAANSUhEUgAAAggAAAAmBAMAAABT634/AAAAMFBMVEX///8QEBCIiIhmZma6urrM\n",
       "zMxUVFQiIiJERETc3Nzu7u6qqqp2dnaYmJgyMjIAAAAcRTyBAAAAAXRSTlMAQObYZgAABuNJREFU\n",
       "aN7tmX2IVFUUwM++mTcz772ZWbeQWCscU8uPiqmNSlEZDUywcNZYtVp0kATrD1lSWqOw0YLGjz8m\n",
       "LRTFdkxaYcXdpdxSdOnhalmmDH5AouaQFSEUE6nYqmznfrw398682RlxKpE5cN57c9959+N37z33\n",
       "3DsApUWvqzPh1mVb3X1we8ljdcP4pQwIQypS5Da4/WSYfSkJoaUiBe6oQqhCqEKoQqhCqEL4LyEE\n",
       "+P0lVDVlJ3ff4RC2cmUyh98PovojdvITqHuLZGAkBQgZcjtXCkIZVuVAqEQ2rEpxpnZr9ZUtAgT3\n",
       "lIFfI4yNJ1nw8aMr/lwehlcFCEfI7WIpCGVYlQOhEtlQCSaZckEAwbA0Eu4hFy+pfCb/26ZrsP1G\n",
       "GDoFCJvwqsVLQSjDqhwIlciGygmufGjj1qa2OwdhZgpaQd8HShp/H8j3H54QwPkw+EM5CEH0I/7u\n",
       "UhDKsCoHQiWyofImVyY+HBOzUjkIO4YghGA9GwXWluWH1lY6KE7VoKUnzHZEHELgu46OjSUdYxlW\n",
       "5UCoRDZEtBamXD5G/UZwjP7LCKErBrCazBzmKOeN48ZhMhx1HAY/C6vD1UTibYdyTHl1KGJ1s6tD\n",
       "BbIhooSZcjmKegF6J1gQApcQQhu2YD/5Te10yxPpsRf4U58AYREDli9hGQKzGhGyE5vToByQjxn8\n",
       "T0+UfqtxUMfLEIoUVkrc585Iv31ppjm/qF9TPrxhQTCuIYRZaeYZA3QS2IuEZk7jTz8KEJ5xcKCF\n",
       "EJiV116DNfzyLHwhffItLJEYNOB3HlOCUKSwQmF1bj6cBBXv40GLiW+93Uw5Iqyr0T9OT1sQtOsI\n",
       "4TzW1YVq0GnjsysetiB8KUDwMidqV33pQRgRK4DArLqI99H3N6TBwLYsg9qU7K0WJE/0ns31H35n\n",
       "ZCQIeYW5has0Bf3sFldbwIiAOi3p3wJC1jURpkxcUdS7xWBpBUJYSRqDDVGz5E3jHygZGmE0888W\n",
       "CBD8aa9d9s6+ybDHn3Kl+hqWNnSLEJjVs9TN7u2gjdMvQ43k6ZdBW+SzuHcwCCwb/dgVhsJnXVnK\n",
       "KNsWI5k9X78RyujYggkYFY81AyBkLUMgXL0LVwkQGrtb3Zf42skgbLKzvuhxgKBl5thL6NrNKegN\n",
       "hf2F04FZ9akP0sFHG6f+Dd60PIi/Snmi8waDQLPRwciCBIGntFsdoZrw6RqYb9Kx3I4QvEkFhKyt\n",
       "6XDi1ANhFg91RdoiOQjaurrDUb52uul0qMmFGBRCivWovXdY/Qo2f/LskWTGovT0rHeAQK3g991d\n",
       "qSBYEPrBG5IhvI7j/ZHIIBBoNsowI+seKkLgKcR70Y7wROG0Sfqxk0aGATDHKmLWlmM8eT/UA/W1\n",
       "56Gr28xFjHpdyup/5hhddk19o/DRnZEdI3yOdQ1MTdckWWjf49/V7ACBWMEVxLudpqHDw5FQI0PA\n",
       "1agd9qdFCHq9DIFmc6+RdcWk6cBScACwjvCC+2UsKqm/Rke7dhaU3WLWZNlD1T5pgX6gK+FiqI2a\n",
       "+WEzDdNdzNO8ZddjyrrUzgQymiRCqMWWbH4InZxOG94DZp8DBGKl3rUWYG4ikQip7wLxCbWRgmCW\n",
       "yAw0wWLoQJxrShBINvCTkQ2GJAg8Jc73WBshsIusD9s78GsjBr3glnCTnIl6Qu4hbI+wFpTHU7kN\n",
       "1JKBCxG2dkIwSj9pf89y4uqU4UtJ2i8ihAB5uxCmgro8kViFELYSBxTNg0CslHijBh5rJBSsDm7T\n",
       "Hc2vav5IoIU9aWSZW7Mh8JQzwDpiBhg7CYR3Bkhr46CdO+UYNtdEXWaUrYROW2nqvqwd/HPvt2YK\n",
       "Dgjk84ShMEmFGBsJ7tlFzhN8obkK+KPcJ8BIFidoa2AThTF/3x4JiuHgE6h8sCU7Rl4deMoG3hHT\n",
       "QeuxeaqZohuoNvDOjAp7sjwInqjDBsqeu6F8CFoWlvXAIfJ4kkRBzhCCSc9oMvI4BOV72m1qPTTS\n",
       "2Gb4wIAU4D91JeQMQVt83ZQh8BSsAO0IXAYmhqgLJ/0ZK2wBcfuo00E5Ku7O8yB0Om6lhZcyBCzo\n",
       "4TT4cNVxr4iAZ9CTJQV9gti4QcURQsESaaXEgXUEmm44xPoKZ5BZ8lDluDOE4xyXo6wudrw2JrGq\n",
       "zOO1W4KgH/urIFgiKQZZ+Uj85U1hym+LeEAYKXm81snvo0kf5fzSGtTTxY4lk7d+xig4vEElb++Q\n",
       "P6pBiut9VkcoYiQavH1Pm9eny/lUPQI3AWGD/UI8feq9w4/c8yBMsF88L5QevsMhuISr9D+BkXNn\n",
       "Sqr658u/K1UIVQg3DeFqIlSBArscg5D/U8Yk+vmlDGlqSlagSLXpxdsMwkdNUXr5BxFTGiCe/Yuz\n",
       "AAAAAElFTkSuQmCC\n",
       "\" style=\"display:inline;vertical-align:middle;\" /></a><br>"
      ],
      "text/plain": [
       "register_qubit_complex_amplitude: forall_{n in NaturalPos} [forall_{k in {0 .. 2^{n} - 1}} [forall_{Psi | |Psi〉 in (Complex^{2})^{otimes n}} (({n}_〈k| . |Psi〉) in Complex)]]"
      ]
     },
     "execution_count": 18,
     "metadata": {},
     "output_type": "execute_result"
    }
   ],
   "source": [
    "register_qubit_complex_amplitude = Forall(\n",
    "       n,\n",
    "       Forall(k,\n",
    "              Forall(Psi,\n",
    "                     InSet(Qmult(NumBra(k, n), Ket(Psi)), Complex),\n",
    "                     conditions = [InSet(Ket(Psi), QubitRegisterSpace(n))]),\n",
    "              domain=Interval(zero, subtract(Exp(two, n),one))),\n",
    "       domain=NaturalPos)"
   ]
  },
  {
   "cell_type": "code",
   "execution_count": 19,
   "metadata": {},
   "outputs": [
    {
     "data": {
      "text/html": [
       "<strong id=\"register_qubit_born_rule\"><a class=\"ProveItLink\" href=\"proofs/register_qubit_born_rule/thm_proof.ipynb\">register_qubit_born_rule</a> (conjecture without proof):<br></strong> <a class=\"ProveItLink\" href=\"../__pv_it/theorems/0c9e90bfecebae3fb2f528296f0778da9ec17e280/theorem_expr.ipynb\"><img src=\"data:image/png;base64,iVBORw0KGgoAAAANSUhEUgAAAuEAAAAmBAMAAACYHFiEAAAAMFBMVEX///8QEBCIiIhmZma6urrM\n",
       "zMxUVFQiIiJERETc3Nzu7u6qqqp2dnaYmJgyMjIAAAAcRTyBAAAAAXRSTlMAQObYZgAACVxJREFU\n",
       "aN7lmn+MFNUdwL87u7O7M7N7HLY25UfThcaTCthNMba1aJYa0T+sLKYHthLZkGKxoWZaMSmtJVea\n",
       "kkPaMJIGiYo3J01J0LKTyFlR8cYexqBI12ob2xTdStuUqrCBk5bz4Pp97+3OvDc7uzuwm1uS/Sb3\n",
       "dt677/f7Zj/zne9835sFaCiDU2dCC6RFbpqTZGHy51RzpA1PnWqyJgCq1kw8CJeAXN2OSW9jHyGz\n",
       "0jSS3a2Zd/clADwyvR2zSrnOJT6YneQJE1++DtsPO5f43ZM94SG4F9uHzE4lLp+d7BnXw0oDIJrr\n",
       "VOJducmecR0MZPBKj3Uq8QFj8uccJojf61TiN7TM07fcCp8fcYe1SvcH5OCNTiV+Wc367UTdIuad\n",
       "dd6Rg87RMn7EHQ5nWDeRpjdXhiNeJCNHG6BqrBSIeCvcNCHKR/TjzxOb7j4mhloiU3PB+FNdIFlF\n",
       "/BpehTQ3njz/bUzdOdZ9kxWGNkf8NTLynwaoGisFIt4KN80s8Uvs8zxAfHpA4tCVrk9c51VoE9LL\n",
       "49iN2BFy90SLHPEd5OL3NUDVWCkQ8Va4aULCOqsRxzHNngpKfIpVl7hm8yqI+DmI6fCkBfNp967n\n",
       "nyWcpRJHvAs/E1YDVI2VAhFvhZsmJMYutjSKf+NBiS8x6xKPG7zKQVC/T4j/3YC9tPvZiQl6Xc5y\n",
       "xJOv7tnzcCNUjZUCEW+FmyZkSppBwoCLjgYl/grUJf64oILNH7IxXT3DLoWjJX/M1yr/6+9/oGGR\n",
       "0VApWK3SAjfNEE+xD0yqA+lIz69npzjit96zrSe1oqcK/TE48JU6xF8XVLB5NxPTlXGWbhwt9RxP\n",
       "fDXAZp/TswVUNZQulHgL3DQhebY5vtIG7QFIxN+Pd3PE7f6Ueiqj0aEjJ4gco6w+ln51jqFL0NET\n",
       "aYG4LqhgM2zF9Mg59h/3Qp3iid8IatHn9NICKqY0ywkKGa/tvHmixcjPxJJL7gN5Lvi4aUK+frSJ\n",
       "x8AAI/6FtYe/aMKdsVwk6xKXrQ2AoVkpZ9yVzNhVaqF2jEfSggo2A3ZMT47SspEzG+eJx0DiX4zI\n",
       "9x2EWTkvcaYUc+65h/ABYGvCNkXCiAo05QV4laO2j5sLqqGZr8N4ayAfyYLtgY0q4nBdya7WVhoY\n",
       "Zj7D53FVHUV0EPVWUuFP1M3j4ayggk2sGNPpzbOMNzvNE08UYs4/nhy5Hp5NmGHTS5wp5c2yDrxI\n",
       "8Y8JlYAhn01+9aiLOILEtaKPGx/JcC2qeZNbHJYD7AP4xufhkCVM4iu24Gmfh/h/yxse4pNTK5Hq\n",
       "MZTy1jerNtYjTuPQVcFGnhHTl5DpX6hJXCkuc5YIWx4x4UAqnYCRBfctsDhUTOnmig4hns/CDOHc\n",
       "MsqoNgf0esSZG/XIGW+k91Xap05+D7+HE35RA7RffGdVF+QxlgwoSI9BQZiEXx6uJ+1T1Ij3FDaE\n",
       "rCKfrt5kQeLhIsRsWGKYTh7/F839GbJC5/N4jidOkiSnQpodL838OTnezD85hawCm3FRmrz+9s+R\n",
       "NIsyNLQtUZXHqRKMyD1MhxBfacBPvDkPVst99YhTNyqJpxrETRp69F2s+sKCAqwA9Q5T/gDgd3S0\n",
       "AOshJUzCT0+eVyrWQitET2ol+eVTlXKcCHnP/eafZqdnr6bEcSGOeeYGxfOceBfylu0X44wY4cqp\n",
       "0GaQrmfJSs8xU4RaBZ5GMslFhZDB9j2GEr9dUU2cKMGH+/Jm0SFusn0xLspToEtv1SVO3EjTtVLk\n",
       "cn/is8xhWJSFe7Dz9v49pLhJPkZuUPU4jhyHQkIyxEn4QP03NnvP0YpI8HS8Uh3SZNQ15m6yvPUZ\n",
       "+JTZQ4ljnOIl+iDhcboGpmT9iVNiJHdwKtwqn6z0atTjtEx95EqYYqqU8hDYI9XEaS17JgtMB9bS\n",
       "GPfsxY1gOGmvC8TVaT5uZmilMIk7EiZST5YnHrKG4VoapZE0K75uGiJPwt+QE50PO22Ym6lMwpkz\n",
       "4khM/cdHtC7jPdEFN0VBJg2fPJOqnJ3yhA6jsJASx4yJMfv0Xzxot4CEhY0PcUqM1AK8CmkWnzx/\n",
       "DS0SOOKRUYF4kjSrYBHIP+zv34jEd8aqiRMl+bItZZ070jSPiwu3ZMXkln4Uk34nWG5XuYH3tFIX\n",
       "+dYkTL7LXnRXiHelhsn2fRxDkQaiDn8lDNTrMD3DM6AV4GvufGXzNWQ6TNHb8hbs7R0jRoIntCuv\n",
       "yKsq02hK7oYf111zQq1ahRAr78r67NbS7Ot0k2PV++OXw0IZcizGI7fzNZW7sS31LVWYDolxb60C\n",
       "t8JNQt8vxqlcq5VC5ERJmGTCNk88nBuGT+IZWrCLuuiD5/aTgJkgBcYtADuPuufFmVM5FM+p/8RH\n",
       "BBoJnogduwm6veBCWalPKWUvijgl5m7MeYmv5rt0ZpG4UoJ1Q/AyOcQc+Tf/Vwnx1HKJ6ZA8LqVZ\n",
       "Pb7DVB6kuer95x8Un2Q+eZwV84+W5tCDVbAUYhZPXJk2LOGxkoblGLipSA4e7XXs7vJ8bdecSk4b\n",
       "ezyb7AY0Ejw5dtpY1ZoIozzZZ18McUbM3Xz2EKcrPadLX7CKxPEs5xUgjqcf2ZCBqD/xLiN6BdWh\n",
       "xGHeCB1dasg0kEMTE0IJonwJE6YvcWXNuF2+sebAgCxUh9u3HiYxkWXngEVJ+AlS3VBZ7PnaZfN7\n",
       "Sc1WgIgFn74fEjoxEjw5dnR3Q5DF+J2UtebFEGfEAP7oTzyZ4rt0f8H3rduc/o3+GyJenRcDLhl9\n",
       "ibPqEO+NEobp2wmBOFuYxBkqUHVQFmbh98xMuPUEc/IVsdK/zST3r6qLnly7TTXfum2o+9bt6qq3\n",
       "blc4R3v5EXc4bvLdYQOafc/ZFHH1yGm85kstDJPjsP1VzwoIV7RwgFYJKD/CkRObspUXXJwI5mRB\n",
       "yV6paTOpkeDJsXujXXtodLXVHPHBgL9D8OyrCGL5rTndroR5HObyBsWa5iRVuWc01+PJscu3623I\n",
       "jOaJK/MDzSS/VtuNZtQkrjilaZw3KNQ0FyUuenLtpGJ7gEvdzRO/yP1xoXyHmsSdnRCIcJR31TYX\n",
       "BY14T7v4Z21bJFS4JIj77MZXQltz/7HfPbwq8FT7BU+c3TvtIc5+td6Rv62Np9oxqzKtc4mr97dj\n",
       "1t3WBRLP+xXpFy4tctOcPNyG33rCL+nTs3+ryZoABUfvN1sxb4vcNHmDZ9twY9EFrdLby5r/A2G5\n",
       "UkU+wB+DAAAAAElFTkSuQmCC\n",
       "\" style=\"display:inline;vertical-align:middle;\" /></a><br>"
      ],
      "text/plain": [
       "register_qubit_born_rule: forall_{n in NaturalPos} [forall_{k in {0 .. 2^{n} - 1}} [forall_{Psi, m | |Psi〉 in (Complex^{2})^{otimes n}, m = MEAS(|Psi〉)} (Pr_{m}[m = k] = |{n}_〈k| . |Psi〉|^{2})]]"
      ]
     },
     "execution_count": 19,
     "metadata": {},
     "output_type": "execute_result"
    }
   ],
   "source": [
    "register_qubit_born_rule = Forall(\n",
    "       n,\n",
    "       Forall(k,\n",
    "              Forall((Psi, m),\n",
    "                     Equals(Prob(Equals(m, k), m),\n",
    "                            Exp(Abs(Qmult(NumBra(k, n), Ket(Psi))), two)),\n",
    "                     conditions = [InSet(Ket(Psi), QubitRegisterSpace(n)), Equals(m, Meas(Ket(Psi)))]),\n",
    "              domain=Interval(zero, subtract(Exp(two, n), one))),\n",
    "        domain=NaturalPos)"
   ]
  },
  {
   "cell_type": "code",
   "execution_count": 20,
   "metadata": {},
   "outputs": [
    {
     "data": {
      "text/html": [
       "<strong id=\"register_qubit_all_probs\"><a class=\"ProveItLink\" href=\"proofs/register_qubit_all_probs/thm_proof.ipynb\">register_qubit_all_probs</a> (conjecture without proof):<br></strong> <a class=\"ProveItLink\" href=\"../__pv_it/theorems/b65d6cb5621e91c738e80d00ea429fc05f480cd80/theorem_expr.ipynb\"><img src=\"data:image/png;base64,iVBORw0KGgoAAAANSUhEUgAAAlMAAABABAMAAADMsu/HAAAAMFBMVEX///8QEBCIiIhmZma6urrM\n",
       "zMxUVFQiIiJERETc3Nzu7u6qqqp2dnaYmJgyMjIAAAAcRTyBAAAAAXRSTlMAQObYZgAACexJREFU\n",
       "eNrVnH9sG2cZx5+cfXbuh52qqIi2m5KV0XWloxZDjE7r6hYxkKqq7pBg0qbGKxsq1bRGbBogBvXy\n",
       "x8haQTyK2I9qypVqrdZptbs1W1GIfCNbBxtKDaUMtFYJVKVjsMZd03RJkx3v3b3v3fuef7yX2Ybc\n",
       "SfHZ/r73+PXnnnve533eiwECualfuhlODJ5y37hjbvQrbBgfzYmO/AnvYx2/h/vhxUzUUb5+Ux1f\n",
       "L8GXeg0j78vWlYEjc4GU0oWfvAI/gM5sJEW50lfrsNvNl9YPFPyhKs0N7348Ze+lBfAg9CWjcEOy\n",
       "Iaj2Jn1ILYFC9V28j3agh4K2H35TbAiq8EIfUqBQqaP4yTDNrQGo4FYfUqBQ9eGLQRo3uSUaiCqX\n",
       "50uBQtWD960Z9HCC9K0HbTvrRKXO40tBQqVM4ieFLOqSHk41zqvkD/hSkFDFM/jJu+hv88BRjVFf\n",
       "qcv2cY0rBQlVJx7uxBn00G4YjLh7x5a6wmCRKwUJ1Xa8jzShN/FRrhQgVPIEGZPSjTcuTHKlAKGK\n",
       "jeMnI8kmnIdprhQgVK2kE73NsP53rhQgVG1kAPywGdaPp3hSgFBt1HFnpptivYMnBQjVcRyi1PFm\n",
       "WM9leFKAUI3hVDA+hfcGtXXUaz06jycFCNVlErNwfU8xLtlPnttwtzGvXuuRSZ4UHFQSieZ95FJZ\n",
       "c9kR375Sd2I1w5OCg0q5SCbLpPoSNdxc9Na6s7ZpnhQcVAKZ4a8kcUk0XE8IVR/r4XNnazI6Zw0X\n",
       "4Ynq336CoLKmOKe5qHw0a+oWItfYGufsjhhZR8Zz2r8Yj377jKdK8FrVPPwRM+ypFiqp+pIUlhCq\n",
       "t8z9e1xUPpo1dYuQHGG7M69pNbrKmqGv1brIJyqIJxxUcKHCNY8NXSConjTBZbiofDRr6hYnQ9SY\n",
       "40py+0VvKxHFFeUDv6ja8i6q9jJ1/zGclrQTVHHkr2qei8pHs6ZuLbjf0O5eXxvLljEF5HvCtF9U\n",
       "GzUKlVYexqboT0SoYm8ePPgEP6z7aNbcKSAZWqiSnmosqjCnjoz7RfUGuKh2ZKuisiVzBPywp+dh\n",
       "HyMgv9n/HBWMeYNxGxp9+hKwbtu6JRSq8LGnlmwRf3uP1+YZGFw1K1T3AjxWoW+6B1WVZv9XVHsN\n",
       "nW3VqYOCTqj+s/wjFCq1tRty18Jh89XweXM7Y8W6K8IvZgiqMTvdoGQHlS2ZqL4M8miFviU8qKo0\n",
       "87+FT7/TaFSK4bnYVt73h89rIOYfgq9QqO6MjkKfDiPeEW5quVwkqHpTVb2q10EVBYEuwosPvAbX\n",
       "pMtReZr52Wyfvut3WRDR/rMgpX0fhDe3/zk8zZOZUX3NBTYa91ovZXmciVVaLgkFDbZ6U7VPULGq\n",
       "N1kdVZKgUovuvTfPD62Go6oW0spR0c1Yb6EemQtXtXcZsQuUJIjrsuoe9p6oSpvKWDrCQRX1XIF4\n",
       "WqiU2LBeALgJYL63ZLCle5aopNFvOOKupzUY7EioMHTjAzfmGVR2M3l4wutbreTR1q51hO8AHD32\n",
       "UMeojA5fBTG4Xo8x90TR2wHTmWTdPIi2FHJ8LIe/vcwsakmX2bQKJ1ohFCpiq2//tLA0ZaFCU8SH\n",
       "ITwpO8Hon5bJpLm0z6Ki5Aqo4LF7bMNmPEJbf//P1QqxymomsyeMQYW1/cQ7RR2e3Qmbdeu2qP0I\n",
       "VTQrAHNPFLUVzBNwQDcPoi3J6ZqxCmILy9Iq62sh5rG1xZZtQtpCdRWgSzI0uof9zBHI5XVPWK/k\n",
       "VW5Yh5e6bMNZe6LXr75wVyVUZjNhkVIKL6iMCmuRLPbOSAr+hjjpcAi9E8/GQL9eAOaeKGobRhMB\n",
       "eaxoHsRY+ldtVBvZL0jKfn3o7aevg7ZkSDdRSeMm+7juGS63QluqFiqhHFVbh21Yky08/aAPVUJl\n",
       "NoPFSilknmnHvakL0NaQX9jeGYXwnahBVt5mfmxROgXCESD3RJ04uSSx5F73I95CH3EIffGox9IN\n",
       "NVGJbJ0qNDZhlx2sGxi2wCaI5q28qguEBCirPanTLhDQcEnyqjJUobs/Wk1JFqqYZhleC+L3e3q6\n",
       "EapnopVQWc3+oZTiZncc96ZQYS2DyxBPQOwFs3P7DqKvrKRhEMJuXffPV8MntaUQMe9j+SmKOcuv\n",
       "gHy2U0MHsZZerjWxgb21CsULYBn0ibWydaidrZPNTUGJ4VtESNteFb6dGafpetUXlVKLadtxbwoV\n",
       "1t4B2zu/Bsrz5ofsMAsA4QxIp0+64fhXXTAOt7j9zT4Kh1IF8yDGkvkaD1cE1Q6NTrdrlE1L6PT/\n",
       "VfWLqr16i3a2tIcMP9gPr1snHOBU1dLe43tKy4B2bwoV1nZj77wNpH6Ht+hJXyMd4jz4ofsSCs+d\n",
       "hT8COoixBJudiHgJwJsrttaqdITTKND98k2/qIzqLQwWFTK8ogit6GX4x0nU82qopK3TOuPeFCqs\n",
       "Id6Wd6Kh7mZ0gWjEPlsoSAkZqZSKmEPz+wDroeUnKXP6eofH0m01SnvwhutgNWoevlDJl6s2wJK3\n",
       "YLysp5tTMLaG8Sc1x70pVDiRyIDtnQeQW7wOqh1OYvToI+2EPuRXsQx582Qawu8BvGodxFg6VbZO\n",
       "sLJYIVOI1UB1Xc2CsWAXjMXqa9ZYmnVtXR6+iLq6Ke+4N5OCmpqC/kzvhKiG3nkXj3IhOkUQFyNv\n",
       "iWel+zRSJbcvqsO6eRBj6QvOKSJVqIJeIVNY27BVjqrSx12GyFfK1qmXpncKdKM4++kec0+5JznP\n",
       "WnJCnEjWCTrJpSy5mcK+i3WvcjRrcUvJVke12xHooDvIHP/r6p+VYSwpRbpq7pSk7EyBuJf0Mlk9\n",
       "rWOV4xJP+pioYlAd1SpH2ECFRvbW6Rolig2MpX1UdkOyBtKZMWu6dv5cu2FUWI+Ybem+xJMasQ4Y\n",
       "oh6Za5PyPUHzHTSytKXlVL0lxZ7/UEPvWWjr4kkBumehgF1RmWmG9c4ETwoQKnILqDzRDOsr8zwp\n",
       "QKii5BL5XjOsb+dKAUKlkjXT49kmWP8UVwoQKoksGvfhGH6NG8tXrKjTeHiGKwXpFv9zZPDGV2LU\n",
       "mQDEdCVdn+3IFFcKEqoRnC3EcLaQcxIQBG2qzlwhwZWChKqNZOd4Nuj+r1YuBYsbcxpqSEFCpZIb\n",
       "FF613WlIXEoynyz8qD7b5/lSoP518irSadu93j+S07aaBedip+b999zZRvVLfClQqEZwcMKLThPO\n",
       "RYO8an59M8AEXwoUqjgJVv+xqjLzd1Gxqr77/g9rfClQqMRJ14vQDDyzSYL7zdpCse4R8GofUrB+\n",
       "Z+FtkkeZmVVrxzcFUrdI1JdXRdI+pGChipC48S3zcsxGPuNk60MNOQU1JZ+o5srP5/ybRK2G3pQq\n",
       "LeRLfn8+Rx6YGz+fA8+SDqUaiirLl9YPDGj/BXM5md1BSk6JAAAAAElFTkSuQmCC\n",
       "\" style=\"display:inline;vertical-align:middle;\" /></a><br>"
      ],
      "text/plain": [
       "register_qubit_all_probs: forall_{n in NaturalPos} [forall_{Psi, m | |Psi〉 in (Complex^{2})^{otimes n}, m = MEAS(|Psi〉)} ((Sum_{k=0}^{2^{n} - 1} Pr_{m}[m = k]) = 1)]"
      ]
     },
     "execution_count": 20,
     "metadata": {},
     "output_type": "execute_result"
    }
   ],
   "source": [
    "register_qubit_all_probs = Forall(\n",
    "        n,\n",
    "        Forall((Psi, m),\n",
    "               Equals(Sum(k, Prob(Equals(m, k), m),\n",
    "                                domain=Interval(zero, subtract(Exp(two, n), one))),\n",
    "                      one),\n",
    "               conditions = [InSet(Ket(Psi), QubitRegisterSpace(n)), Equals(m, Meas(Ket(Psi)))]),\n",
    "        domain=NaturalPos)"
   ]
  },
  {
   "cell_type": "code",
   "execution_count": 21,
   "metadata": {},
   "outputs": [],
   "source": [
    "# ## This one requires pregated_controlled_ngate, defined at the top of this page,\n",
    "# ## but that pregated_controlled_ngate requires the Circuit class\n",
    "# pregated_controlled_ngate_equiv = Forall(\n",
    "#         n,\n",
    "#         Forall(U,\n",
    "#                Forall(u,\n",
    "#                       Forall((a, b),\n",
    "#                              Forall((x, y),\n",
    "#                                     Equals(pregated_controlled_ngate,\n",
    "#                                            controlled_ngate(\n",
    "#                                                Qmult(u, a), b, x, y)),\n",
    "#                                     domain=QubitRegisterSpace(n)),\n",
    "#                              domain=QubitSpace),\n",
    "#                       domain=SU(two)),\n",
    "#                domain=RegisterSU(n)),\n",
    "#         domain=NaturalPos)"
   ]
  },
  {
   "cell_type": "code",
   "execution_count": 22,
   "metadata": {},
   "outputs": [],
   "source": [
    "# ## This one requires controlled_ngate, defined at the top of this page,\n",
    "# ## but that controlled_ngate requires the Circuit class\n",
    "# controlled_ngate_equiv = Forall(\n",
    "#         n,\n",
    "#         Forall(U,\n",
    "#                Forall((a, b, c),\n",
    "#                       Forall((x, y, z),\n",
    "#                              Iff(Equals(controlled_ngate(a, b, x, y),\n",
    "#                                         controlled_ngate(a, c, x, z)),\n",
    "#                                  Equals(TensorProd(b, y), TensorProd(c, z))),\n",
    "#                              domain=QubitRegisterSpace(n)),\n",
    "#                       domain=QubitSpace),\n",
    "#                domain=RegisterSU(n)),\n",
    "#         domain=NaturalPos)"
   ]
  },
  {
   "cell_type": "code",
   "execution_count": 23,
   "metadata": {},
   "outputs": [],
   "source": [
    "# ## This one requires controlled_ngate, defined at the top of this page,\n",
    "# ## but that controlled_ngate requires the Circuit class\n",
    "# superposition_controlled_ngate = Forall(\n",
    "#         n,\n",
    "#         Forall(U,\n",
    "#                Forall((a, b, c, d),\n",
    "#                       Forall((x, y),\n",
    "#                              Implies(And(controlled_ngate(a, c, x, y),\n",
    "#                                          controlled_ngate(b, d, x, y)),\n",
    "#                                      controlled_ngate(Add(a, b), Add(c, d), x, y)),\n",
    "#                              domain=QubitRegisterSpace(n)),\n",
    "#                       domain=QubitSpace),\n",
    "#                domain=RegisterSU(n)),\n",
    "#         domain=NaturalPos)"
   ]
  },
  {
   "cell_type": "code",
   "execution_count": 24,
   "metadata": {},
   "outputs": [],
   "source": [
    "# ## This one requires pregated_controlled_ngate, defined at the top of this page,\n",
    "# ## but that pregated_controlled_ngate requires the Circuit class\n",
    "# pregated_controlled_ngate_merger = Forall(\n",
    "#     (n, k),\n",
    "#     Forall(U,\n",
    "#            Forall(u,\n",
    "#                   Forall((a, b),\n",
    "#                          Forall(c,\n",
    "#                                 Forall(d,\n",
    "#                                        Forall((x, y),\n",
    "#                                               Implies(pregated_controlled_ngate,\n",
    "#                                                       Implies(pregated_controlled_ngate_with_merge,\n",
    "#                                                               Equals(d, TensorProd(c, b)))),\n",
    "#                                               domain=QubitRegisterSpace(n)),\n",
    "#                                        domain=QubitRegisterSpace(Add(k, one))),\n",
    "#                                 domain=QubitRegisterSpace(k)),\n",
    "#                          domain=QubitSpace),\n",
    "#                   domain=SU(two)),\n",
    "#            domain=RegisterSU(n)),\n",
    "#     domain=NaturalPos)"
   ]
  },
  {
   "cell_type": "code",
   "execution_count": 25,
   "metadata": {},
   "outputs": [],
   "source": [
    "# TOOK REALLY LONG TO RUN... MORE TESTING NEEDED\n",
    "#register_bra_over_summed_ket = Forall(\n",
    " #   n,\n",
    "  #  Forall(U,\n",
    "   #        Forall(l,\n",
    "    #              Forall(f,\n",
    "     #                    Equals(MatrixProd(RegisterBra(l, n),\n",
    "      #                                     MatrixProd(U, Sum(k, ScalarProd(Operation(f, k), RegisterKet(k, n)),\n",
    "       #                                                      domain=Interval(zero, subtract(Exp(two, n), one))))),\n",
    "        #                        Sum(k, Mult(Operation(f, k),\n",
    "         #                                   MatrixProd(RegisterBra(l, n), U, RegisterKet(k, n))),\n",
    "          #                          domain=Interval(zero, subtract(Exp(two, n), one))))),\n",
    "           #       domain=Interval(zero, subtract(Exp(two, n), one))),\n",
    "           #domain=SU(Exp(two, n))),\n",
    "    #domain=NaturalPos)"
   ]
  },
  {
   "cell_type": "code",
   "execution_count": 26,
   "metadata": {},
   "outputs": [
    {
     "name": "stdout",
     "output_type": "stream",
     "text": [
      "Adding theorem register_ket_in_qubit_register_space to proveit.physics.quantum theory\n",
      "Adding theorem register_qubit_complex_amplitude to proveit.physics.quantum theory\n",
      "Adding theorem register_qubit_born_rule to proveit.physics.quantum theory\n",
      "Adding theorem register_qubit_all_probs to proveit.physics.quantum theory\n",
      "register_ket_in_qubit_register_space expression notebook is being updated\n",
      "register_qubit_complex_amplitude expression notebook is being updated\n",
      "register_qubit_born_rule expression notebook is being updated\n",
      "register_qubit_all_probs expression notebook is being updated\n",
      "These theorems may now be imported from the theory package: proveit.physics.quantum\n"
     ]
    }
   ],
   "source": [
    "%end theorems"
   ]
  },
  {
   "cell_type": "code",
   "execution_count": null,
   "metadata": {},
   "outputs": [],
   "source": []
  }
 ],
 "metadata": {
  "kernelspec": {
   "display_name": "Python 3",
   "language": "python",
   "name": "python3"
  },
  "language_info": {
   "codemirror_mode": {
    "name": "ipython",
    "version": 3
   },
   "file_extension": ".py",
   "mimetype": "text/x-python",
   "name": "python",
   "nbconvert_exporter": "python",
   "pygments_lexer": "ipython3",
   "version": "3.7.3"
  }
 },
 "nbformat": 4,
 "nbformat_minor": 1
}
