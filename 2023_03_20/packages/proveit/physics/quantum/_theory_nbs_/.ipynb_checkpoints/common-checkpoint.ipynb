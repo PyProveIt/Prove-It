{
 "cells": [
  {
   "cell_type": "markdown",
   "metadata": {},
   "source": [
    "Common expressions for the theory of <a class=\"ProveItLink\" href=\"theory.ipynb\">proveit.physics.quantum</a>\n",
    "========"
   ]
  },
  {
   "cell_type": "code",
   "execution_count": 1,
   "metadata": {},
   "outputs": [],
   "source": [
    "import proveit\n",
    "# Automation is not needed when building common expressions:\n",
    "%common_expressions_notebook # Keep this at the top following 'import proveit'.\n",
    "from proveit import IndexedVar, Lambda, Function\n",
    "from proveit import a, b, c, d, k, l, m, n, u, x, y, A, B, C, D, P, Q, U, V\n",
    "from proveit import Variable, Literal, ExprRange, ExprArray, ExprTuple\n",
    "# from proveit.multi_expression import Block\n",
    "from proveit.core_expr_types import A_1_to_m, b_1_to_j, n_k\n",
    "from proveit.logic import Equals, Set, InSet, CartExp\n",
    "from proveit.numbers import sqrt, Add, subtract, frac, Exp\n",
    "from proveit.numbers import zero, one, two, three, Interval\n",
    "from proveit.numbers import Complex\n",
    "from proveit.linear_algebra import VecSum, LinMap, SU, TensorExp, Norm\n",
    "from proveit.physics.quantum import Ket, Bra"
   ]
  },
  {
   "cell_type": "code",
   "execution_count": 2,
   "metadata": {},
   "outputs": [
    {
     "name": "stdout",
     "output_type": "stream",
     "text": [
      "Defining common sub-expressions for theory 'proveit.physics.quantum'\n",
      "Subsequent end-of-cell assignments will define common sub-expressions\n",
      "%end_common will finalize the definitions\n"
     ]
    }
   ],
   "source": [
    "%begin common"
   ]
  },
  {
   "cell_type": "code",
   "execution_count": 3,
   "metadata": {},
   "outputs": [
    {
     "data": {
      "text/html": [
       "<strong id=\"PLUS\">PLUS:</strong> <a class=\"ProveItLink\" href=\"../__pv_it/common/af7474ecb679aafadbff60eb0f517b3d905ff7830/common_expr.ipynb\"><img src=\"data:image/png;base64,iVBORw0KGgoAAAANSUhEUgAAAA4AAAAOBAMAAADtZjDiAAAAHlBMVEX///9UVFQQEBAiIiJmZmaI\n",
       "iIiqqqqYmJi6uroAAAAAFVhYAAAAAXRSTlMAQObYZgAAAAlwSFlzAAAOxAAADsQBlSsOGwAAAB9J\n",
       "REFUCNdjYGBgaGeAgFRiaGdjYyVjY0Oi1SPRIHsAgDEGyG9xCpgAAAAASUVORK5CYII=\n",
       "\" style=\"display:inline;vertical-align:middle;\" /></a><br>"
      ],
      "text/plain": [
       "PLUS: +"
      ]
     },
     "execution_count": 3,
     "metadata": {},
     "output_type": "execute_result"
    }
   ],
   "source": [
    "# For positive X eigenstate\n",
    "PLUS = Literal(string_format='+', latex_format='+')"
   ]
  },
  {
   "cell_type": "code",
   "execution_count": 4,
   "metadata": {},
   "outputs": [
    {
     "data": {
      "text/html": [
       "<strong id=\"MINUS\">MINUS:</strong> <a class=\"ProveItLink\" href=\"../__pv_it/common/445fd3ac93cf9771d50d0b8d320bed4cbe73a7f80/common_expr.ipynb\"><img src=\"data:image/png;base64,iVBORw0KGgoAAAANSUhEUgAAAA4AAAABBAMAAAAcMII3AAAAElBMVEX////MzMwiIiIyMjLu7u4A\n",
       "AADe/Ps1AAAAAXRSTlMAQObYZgAAAAlwSFlzAAAOxAAADsQBlSsOGwAAAA1JREFUCNdjcFYCAUUA\n",
       "BKYBD24TAeoAAAAASUVORK5CYII=\n",
       "\" style=\"display:inline;vertical-align:middle;\" /></a><br>"
      ],
      "text/plain": [
       "MINUS: -"
      ]
     },
     "execution_count": 4,
     "metadata": {},
     "output_type": "execute_result"
    }
   ],
   "source": [
    "# For negative X eigenstate\n",
    "MINUS = Literal(string_format='-', latex_format='-') "
   ]
  },
  {
   "cell_type": "code",
   "execution_count": 5,
   "metadata": {},
   "outputs": [
    {
     "data": {
      "text/html": [
       "<strong id=\"ket0\">ket0:</strong> <a class=\"ProveItLink\" href=\"../__pv_it/common/bc22fb3302ec2cfc6aed62d0aa8ee36b0813e3270/common_expr.ipynb\"><img src=\"data:image/png;base64,iVBORw0KGgoAAAANSUhEUgAAABQAAAAVBAMAAAC0+9ObAAAAMFBMVEX///8QEBBUVFRERESYmJgi\n",
       "IiLu7u6qqqoyMjJmZmbMzMyIiIi6urp2dnbc3NwAAADV54WuAAAAAXRSTlMAQObYZgAAAAlwSFlz\n",
       "AAAOxAAADsQBlSsOGwAAAKFJREFUCNdFzjsKwkAQgOEfE12NrnoEa6s9gXiEdNYWFlbaWgjp0kkO\n",
       "IBI8hqdIZxGLgAewkaQQwZ0srAMDH8O8qGgjsvlwDPKWurygspYpm4pYGMZow10YzFA1T+EkI2ro\n",
       "V5Y7yzeqsHwVRB/snOMXztJQMLLVqxtTDRxlmSGs4SQnpgwSxkYOr1jn6L1wW86h65/k8OfCs5d4\n",
       "Dpdwc+zADy0bMnyBILXJAAAAAElFTkSuQmCC\n",
       "\" style=\"display:inline;vertical-align:middle;\" /></a><br>\n",
       "<strong id=\"ket1\">ket1:</strong> <a class=\"ProveItLink\" href=\"../__pv_it/common/57cbcececeb3a772f3462a38bcf9836042f3091f0/common_expr.ipynb\"><img src=\"data:image/png;base64,iVBORw0KGgoAAAANSUhEUgAAABQAAAAVBAMAAAC0+9ObAAAAMFBMVEX///+qqqpERESYmJgQEBAy\n",
       "MjJmZmZUVFTu7u4iIiLMzMyIiIi6urp2dnbc3NwAAABKL6MlAAAAAXRSTlMAQObYZgAAAAlwSFlz\n",
       "AAAOxAAADsQBlSsOGwAAAGxJREFUCNdjeMAABlxAfAfCZFoAYa5sYGBMADE5yuIbGBgmQET3A5kX\n",
       "EcxHCCbrAziT8QKcCdQHZ+YgmMsRTFkEMw7O5FMAM+8DnccrAGKW+4cbMHDCHckghmDqwZkcAXAm\n",
       "twEDwy4Ik52BAQAwyyxNjOm0YwAAAABJRU5ErkJggg==\n",
       "\" style=\"display:inline;vertical-align:middle;\" /></a><br>\n",
       "<strong id=\"ket_plus\">ket_plus:</strong> <a class=\"ProveItLink\" href=\"../__pv_it/common/b9907a4ca6602d038bf27bdfa2858604717503d70/common_expr.ipynb\"><img src=\"data:image/png;base64,iVBORw0KGgoAAAANSUhEUgAAABoAAAAVBAMAAACqMuMoAAAAMFBMVEX////u7u4yMjJERERUVFQQ\n",
       "EBAiIiJmZmaqqqqYmJjMzMyIiIi6urp2dnbc3NwAAAC2AzRPAAAAAXRSTlMAQObYZgAAAAlwSFlz\n",
       "AAAOxAAADsQBlSsOGwAAAGtJREFUGNNjeMAAA1xAfAfOY16AzOMoQOYxJEB5PBNA5A0oj2MDiHyM\n",
       "wmN6gMzjuIDMAxqDzKsB8tjT0lLD0tIcGBiWoMj1ovD0kHl8Bsg83gZkHhuKW9pRXG2H7CNGBWQe\n",
       "N1DBLjiPhYEBAE7AJzRYAofZAAAAAElFTkSuQmCC\n",
       "\" style=\"display:inline;vertical-align:middle;\" /></a><br>\n",
       "<strong id=\"ket_minus\">ket_minus:</strong> <a class=\"ProveItLink\" href=\"../__pv_it/common/68ee2ecb41bb76234ba6cd21c2e5d43a181725840/common_expr.ipynb\"><img src=\"data:image/png;base64,iVBORw0KGgoAAAANSUhEUgAAABoAAAAVBAMAAACqMuMoAAAALVBMVEX///+YmJhUVFRmZmaqqqpE\n",
       "REQiIiIyMjLu7u7MzMyIiIi6urp2dnbc3NwAAABhMgNFAAAAAXRSTlMAQObYZgAAAAlwSFlzAAAO\n",
       "xAAADsQBlSsOGwAAAGBJREFUGNNjuMAAA5xAfBrOY52AzGMxQOYxJKDwjqDwrqLw2C8g81gOIPOA\n",
       "xiDzrIE8jrI0EADaPQlFzgeFV4vM4w1A5vE4IPPYUNzijMKLReZxFCDzuAQYGFbCeUwMDAD6ghvW\n",
       "5tqr8AAAAABJRU5ErkJggg==\n",
       "\" style=\"display:inline;vertical-align:middle;\" /></a><br>"
      ],
      "text/plain": [
       "ket0: |0〉\n",
       "ket1: |1〉\n",
       "ket_plus: |+〉\n",
       "ket_minus: |-〉"
      ]
     },
     "execution_count": 5,
     "metadata": {},
     "output_type": "execute_result"
    }
   ],
   "source": [
    "ket0, ket1, ket_plus, ket_minus = Ket(zero), Ket(one), Ket(PLUS), Ket(MINUS)"
   ]
  },
  {
   "cell_type": "code",
   "execution_count": 6,
   "metadata": {},
   "outputs": [
    {
     "data": {
      "text/html": [
       "<strong id=\"psi\">psi:</strong> <a class=\"ProveItLink\" href=\"../__pv_it/common/0792d8e8646ae7654862bb6a66054cc6abdbdd200/common_expr.ipynb\"><img src=\"data:image/png;base64,iVBORw0KGgoAAAANSUhEUgAAAA4AAAASBAMAAACZcvICAAAAMFBMVEX///9UVFS6urpEREQyMjLc\n",
       "3NwQEBAiIiKYmJhmZmbMzMyqqqru7u52dnaIiIgAAAD3zc1EAAAAAXRSTlMAQObYZgAAAAlwSFlz\n",
       "AAAOxAAADsQBlSsOGwAAAGpJREFUCNdjYAACPgYI4IXS56D0Lih9AYh5XjYwXOArYODlTuBp4PvD\n",
       "sJqzgCOAIYHhANsDoLYJDAz7D/Ay8DxgYJjCEM3Ad4CBYTJDD4MSUKNawAUOBSDNJWv3FGwa1waI\n",
       "qSBFyLaCXQEAGLwVNWDNKAgAAAAASUVORK5CYII=\n",
       "\" style=\"display:inline;vertical-align:middle;\" /></a><br>"
      ],
      "text/plain": [
       "psi: psi"
      ]
     },
     "execution_count": 6,
     "metadata": {},
     "output_type": "execute_result"
    }
   ],
   "source": [
    "psi = Variable('psi', r'\\psi')"
   ]
  },
  {
   "cell_type": "code",
   "execution_count": 7,
   "metadata": {},
   "outputs": [
    {
     "data": {
      "text/html": [
       "<strong id=\"varphi\">varphi:</strong> <a class=\"ProveItLink\" href=\"../__pv_it/common/eff3454ef41960bf5bb736e8ee0e81bb07107e080/common_expr.ipynb\"><img src=\"data:image/png;base64,iVBORw0KGgoAAAANSUhEUgAAAAwAAAAOBAMAAADpk+DfAAAAMFBMVEX////c3NwQEBAiIiKIiIiq\n",
       "qqp2dnZUVFSYmJhmZmbu7u5EREQyMjK6urrMzMwAAACjE6D8AAAAAXRSTlMAQObYZgAAAAlwSFlz\n",
       "AAAOxAAADsQBlSsOGwAAAFhJREFUCNdj4HvAwHt+FwMnA8Ob3jKGOAaGAgZuhgQGjgVAIQcGFgaG\n",
       "JQwTGO4xMMximAFkLH/AwHPkXKctAwND838zIMnA2QAiGZgegKn3YJLBGULJgQgAWD8S3YrWNYEA\n",
       "AAAASUVORK5CYII=\n",
       "\" style=\"display:inline;vertical-align:middle;\" /></a><br>"
      ],
      "text/plain": [
       "varphi: varphi"
      ]
     },
     "execution_count": 7,
     "metadata": {},
     "output_type": "execute_result"
    }
   ],
   "source": [
    "varphi = Variable('varphi', r'\\varphi')"
   ]
  },
  {
   "cell_type": "code",
   "execution_count": 8,
   "metadata": {},
   "outputs": [
    {
     "data": {
      "text/html": [
       "<strong id=\"ket_psi\">ket_psi:</strong> <a class=\"ProveItLink\" href=\"../__pv_it/common/85db9cb8edfd9bae55ae16b1acc577987cc735250/common_expr.ipynb\"><img src=\"data:image/png;base64,iVBORw0KGgoAAAANSUhEUgAAABgAAAAVBAMAAACuxzMVAAAAMFBMVEX///9UVFREREQyMjIQEBAi\n",
       "IiKYmJhmZmaqqqru7u7MzMyIiIi6urp2dnbc3NwAAACKehgKAAAAAXRSTlMAQObYZgAAAAlwSFlz\n",
       "AAAOxAAADsQBlSsOGwAAALRJREFUGNM1z68KwlAUx/Gv/+a2y3wDwS6ITyB7hD3Cqk20GtYEQVy3\n",
       "aDOuCQYxGA2LhoWLyVeweY7bvfALHw73/MHSvFBSObSPDgb8hUMkSRwOkpfDVvJ2KCUdKwguKaVJ\n",
       "8EtB5MdBar7aoeLcTzxLDGtB3i2ks0w5aYN9HhEUsFOs+GBymCmWzHnCYKR42NK7y0qZIhyObzK0\n",
       "V28QZrrFpob+hkkNPYBg2lT+96VwdWe34AcH7zAzQ5OqIAAAAABJRU5ErkJggg==\n",
       "\" style=\"display:inline;vertical-align:middle;\" /></a><br>"
      ],
      "text/plain": [
       "ket_psi: |psi〉"
      ]
     },
     "execution_count": 8,
     "metadata": {},
     "output_type": "execute_result"
    }
   ],
   "source": [
    "ket_psi = Ket(psi)"
   ]
  },
  {
   "cell_type": "code",
   "execution_count": 9,
   "metadata": {},
   "outputs": [
    {
     "data": {
      "text/html": [
       "<strong id=\"bra_psi\">bra_psi:</strong> <a class=\"ProveItLink\" href=\"../__pv_it/common/63c6563714e79390c97c131842aefc3b0c5e915a0/common_expr.ipynb\"><img src=\"data:image/png;base64,iVBORw0KGgoAAAANSUhEUgAAABgAAAAVBAMAAACuxzMVAAAAMFBMVEX///8QEBBUVFS6urqYmJiI\n",
       "iIgyMjLu7u5mZmYiIiKqqqp2dnZERETc3NzMzMwAAADeqXKjAAAAAXRSTlMAQObYZgAAAAlwSFlz\n",
       "AAAOxAAADsQBlSsOGwAAALVJREFUGNM1z6sOwjAYBeBDslJYYdkj4DFcXqAOO4HAQHiEGtAkJCjE\n",
       "HmESBUtwKAyWTBMEmhfAcvp3q2m/Jv/lAPigPhXQvze4AqbwDxXQlV8TcBJsAp6Cs0CvBaVAWeiF\n",
       "RalygvUmTrVVP2ICfDt5VCEl9oBrZey8I+asvDgDnRFb4oAXlCN6XO+IGaa+dcwJ46qMRrJBDiTD\n",
       "xzKsc+OVFHWEtw/garRdCCCIshBNgEETe/UHneAq2RnwWgMAAAAASUVORK5CYII=\n",
       "\" style=\"display:inline;vertical-align:middle;\" /></a><br>"
      ],
      "text/plain": [
       "bra_psi: 〈psi|"
      ]
     },
     "execution_count": 9,
     "metadata": {},
     "output_type": "execute_result"
    }
   ],
   "source": [
    "bra_psi = Bra(psi)"
   ]
  },
  {
   "cell_type": "code",
   "execution_count": 10,
   "metadata": {},
   "outputs": [
    {
     "data": {
      "text/html": [
       "<strong id=\"ket_varphi\">ket_varphi:</strong> <a class=\"ProveItLink\" href=\"../__pv_it/common/c9a1043629ff97823c162335c02491b28faa23df0/common_expr.ipynb\"><img src=\"data:image/png;base64,iVBORw0KGgoAAAANSUhEUgAAABgAAAAVBAMAAACuxzMVAAAAMFBMVEX///8QEBAiIiKqqqpUVFSY\n",
       "mJhmZmbu7u5EREQyMjLMzMyIiIi6urp2dnbc3NwAAADC3l7hAAAAAXRSTlMAQObYZgAAAAlwSFlz\n",
       "AAAOxAAADsQBlSsOGwAAAKxJREFUGNNNziEOwkAQheE/FLbQUg6A6g1A4bgAqg7bkOAQPUJPQDAI\n",
       "DFkBBlULCoHBNcFWVCIJCsnOFpKdZJL5MsnLo+Y3gdnqj6524KUOiF08XDxd9GrBCe6fDK8UpATb\n",
       "WykJFZ6mDTmsDCKYy5uDQQgFfgFTA0VfozLYCxKFP4NBLmm783FxhWgs6IzeJphW02BpG0waDC3W\n",
       "FsFLbn9jEcaCMIGLydQCU+kLNEstLjtI0vEAAAAASUVORK5CYII=\n",
       "\" style=\"display:inline;vertical-align:middle;\" /></a><br>"
      ],
      "text/plain": [
       "ket_varphi: |varphi〉"
      ]
     },
     "execution_count": 10,
     "metadata": {},
     "output_type": "execute_result"
    }
   ],
   "source": [
    "ket_varphi = Ket(varphi)"
   ]
  },
  {
   "cell_type": "code",
   "execution_count": 11,
   "metadata": {},
   "outputs": [
    {
     "data": {
      "text/html": [
       "<strong id=\"bra_varphi\">bra_varphi:</strong> <a class=\"ProveItLink\" href=\"../__pv_it/common/1c3613f29e51fee59dc4396d8f9530ed1869cf290/common_expr.ipynb\"><img src=\"data:image/png;base64,iVBORw0KGgoAAAANSUhEUgAAABgAAAAVBAMAAACuxzMVAAAAMFBMVEX///8QEBBUVFS6urqYmJiI\n",
       "iIgyMjLu7u5mZmYiIiKqqqp2dnZERETc3NzMzMwAAADeqXKjAAAAAXRSTlMAQObYZgAAAAlwSFlz\n",
       "AAAOxAAADsQBlSsOGwAAAKxJREFUGNNN0KEKwlAUxvE/urnrdHsE8QlEFsxr1gUxikHMS+aBFtve\n",
       "QKNxsGbaE8gewLBgFqtg8FznhXvL4cfhnPNxgYb/qyGoDEoYnC30sXCxcbPgrS24MTxh9kkFej4j\n",
       "3ESFIAK/oQOVYC+XYK7bJQtwIcFLBDtQdBuUXjCsUbHCm+jVfgHb5eM4/SXIwTm9izbOVcrBZLtL\n",
       "GRn0UsKXgZPg5gaMCdpvWH0B5OQqZmL8picAAAAASUVORK5CYII=\n",
       "\" style=\"display:inline;vertical-align:middle;\" /></a><br>"
      ],
      "text/plain": [
       "bra_varphi: 〈varphi|"
      ]
     },
     "execution_count": 11,
     "metadata": {},
     "output_type": "execute_result"
    }
   ],
   "source": [
    "bra_varphi = Bra(varphi)"
   ]
  },
  {
   "cell_type": "markdown",
   "metadata": {},
   "source": [
    "These `Variable` version of $\\lvert \\psi \\rangle$ and $\\lvert v \\rangle$ are useful in theorems applicable to any ket where there is no reference to the complementary $\\langle \\psi \\rvert$ or $\\langle v \\rvert$:"
   ]
  },
  {
   "cell_type": "code",
   "execution_count": 12,
   "metadata": {},
   "outputs": [
    {
     "data": {
      "text/html": [
       "<strong id=\"var_ket_psi\">var_ket_psi:</strong> <a class=\"ProveItLink\" href=\"../__pv_it/common/798a4b85c58eead0b86ebff17277cd7c4a79a3160/common_expr.ipynb\"><img src=\"data:image/png;base64,iVBORw0KGgoAAAANSUhEUgAAABgAAAAVBAMAAACuxzMVAAAAMFBMVEX///9UVFREREQyMjIQEBAi\n",
       "IiKYmJhmZmaqqqru7u7MzMyIiIi6urp2dnbc3NwAAACKehgKAAAAAXRSTlMAQObYZgAAAAlwSFlz\n",
       "AAAOxAAADsQBlSsOGwAAALRJREFUGNM1z68KwlAUx/Gv/+a2y3wDwS6ITyB7hD3Cqk20GtYEQVy3\n",
       "aDOuCQYxGA2LhoWLyVeweY7bvfALHw73/MHSvFBSObSPDgb8hUMkSRwOkpfDVvJ2KCUdKwguKaVJ\n",
       "8EtB5MdBar7aoeLcTzxLDGtB3i2ks0w5aYN9HhEUsFOs+GBymCmWzHnCYKR42NK7y0qZIhyObzK0\n",
       "V28QZrrFpob+hkkNPYBg2lT+96VwdWe34AcH7zAzQ5OqIAAAAABJRU5ErkJggg==\n",
       "\" style=\"display:inline;vertical-align:middle;\" /></a><br>"
      ],
      "text/plain": [
       "var_ket_psi: |psi>"
      ]
     },
     "execution_count": 12,
     "metadata": {},
     "output_type": "execute_result"
    }
   ],
   "source": [
    "var_ket_psi = Variable('|psi>', r'\\lvert \\psi \\rangle')"
   ]
  },
  {
   "cell_type": "code",
   "execution_count": 13,
   "metadata": {},
   "outputs": [
    {
     "data": {
      "text/html": [
       "<strong id=\"var_ket_v\">var_ket_v:</strong> <a class=\"ProveItLink\" href=\"../__pv_it/common/4a4e4b6201c337502c2aae379d189f8e94b5ef7a0/common_expr.ipynb\"><img src=\"data:image/png;base64,iVBORw0KGgoAAAANSUhEUgAAABUAAAAVBAMAAABbObilAAAAMFBMVEX///9EREQyMjJmZmZUVFQQ\n",
       "EBCqqqoiIiKYmJju7u7MzMyIiIi6urp2dnbc3NwAAACsuMTlAAAAAXRSTlMAQObYZgAAAAlwSFlz\n",
       "AAAOxAAADsQBlSsOGwAAAI1JREFUCNdjeMAAAQuA+A6ULYXETkZisyOxeRMQbD4BBJtBD8Tm3NvA\n",
       "UMbAkAti87IFMISANd9hWMasABJkPgBkT2DdwLCMgYHLAaQ3fwLDBgYGtgsgtjkDwwUGBqYHILYI\n",
       "AxvQhQ/B5l9ieA00/xqYzezRAGQXIOxlM0CwGR8g2JOQ3LwDiHdB2Q4MDACdFyeZRGM/gAAAAABJ\n",
       "RU5ErkJggg==\n",
       "\" style=\"display:inline;vertical-align:middle;\" /></a><br>"
      ],
      "text/plain": [
       "var_ket_v: |v>"
      ]
     },
     "execution_count": 13,
     "metadata": {},
     "output_type": "execute_result"
    }
   ],
   "source": [
    "var_ket_v = Variable('|v>', r'\\lvert v \\rangle')"
   ]
  },
  {
   "cell_type": "code",
   "execution_count": 14,
   "metadata": {},
   "outputs": [
    {
     "data": {
      "text/html": [
       "<strong id=\"var_ket_u\">var_ket_u:</strong> <a class=\"ProveItLink\" href=\"../__pv_it/common/e9ccc523355dd5c57db74023629fa3172587db260/common_expr.ipynb\"><img src=\"data:image/png;base64,iVBORw0KGgoAAAANSUhEUgAAABYAAAAVBAMAAACwDgOmAAAAMFBMVEX///9EREQyMjIiIiIQEBCq\n",
       "qqpUVFSYmJhmZmbu7u7MzMyIiIi6urp2dnbc3NwAAAC7WRo4AAAAAXRSTlMAQObYZgAAAAlwSFlz\n",
       "AAAOxAAADsQBlSsOGwAAAJFJREFUCNdjeMAAAVxAfAfKZlyAYLM2INgMBkjsq0jsh0hspgdANueO\n",
       "Aga2CQysF4BsXlYHhnqw5jsMSzkMGJKA7B4gewLLBgZvIHsZSO/5CXy/gOxYELuZgfsDkK0HYosx\n",
       "MApUMvAJgNhtDEsuXGDgDQCxp92Oy17AwIxkbwQSWw7B5lRAsLkLGBh2QdlsDAwAhFop1twhoeQA\n",
       "AAAASUVORK5CYII=\n",
       "\" style=\"display:inline;vertical-align:middle;\" /></a><br>"
      ],
      "text/plain": [
       "var_ket_u: |u>"
      ]
     },
     "execution_count": 14,
     "metadata": {},
     "output_type": "execute_result"
    }
   ],
   "source": [
    "var_ket_u = Variable('|u>', r'\\lvert u \\rangle')"
   ]
  },
  {
   "cell_type": "code",
   "execution_count": 15,
   "metadata": {},
   "outputs": [
    {
     "data": {
      "text/html": [
       "<strong id=\"var_ket_utilde\">var_ket_utilde:</strong> <a class=\"ProveItLink\" href=\"../__pv_it/common/5aa2c87cda82ffd5249982ad47996f47f760d0430/common_expr.ipynb\"><img src=\"data:image/png;base64,iVBORw0KGgoAAAANSUhEUgAAAAwAAAAOBAMAAADpk+DfAAAAMFBMVEX///9EREQQEBB2dnZmZmZU\n",
       "VFTc3NyIiIi6urqYmJju7u6qqqoyMjIiIiLMzMwAAAA6AttDAAAAAXRSTlMAQObYZgAAAAlwSFlz\n",
       "AAAOxAAADsQBlSsOGwAAAFRJREFUCNdjYOC7s2sGAwPD8mWxExiwA66SCQysCxiYuRUY5jMwvGa5\n",
       "wBDDwLCAqYBBHSjZv4DtH5DyZWD/AKREGRgFZjEwuDI8MjBgYFhqvi38AQA8KBLSkLHXIgAAAABJ\n",
       "RU5ErkJggg==\n",
       "\" style=\"display:inline;vertical-align:middle;\" /></a><br>"
      ],
      "text/plain": [
       "var_ket_utilde: |~u~>"
      ]
     },
     "execution_count": 15,
     "metadata": {},
     "output_type": "execute_result"
    }
   ],
   "source": [
    "var_ket_utilde = Variable('|~u~>', r'\\tilde{u}')"
   ]
  },
  {
   "cell_type": "code",
   "execution_count": 16,
   "metadata": {},
   "outputs": [
    {
     "data": {
      "text/html": [
       "<strong id=\"l_ket_domain\">l_ket_domain:</strong> <a class=\"ProveItLink\" href=\"../__pv_it/common/b1443c33c5077ebb1192b95829e24b79918efe550/common_expr.ipynb\"><img src=\"data:image/png;base64,iVBORw0KGgoAAAANSUhEUgAAABsAAAAXBAMAAAAIOCkdAAAAMFBMVEX///+qqqq6urpmZmaYmJgQ\n",
       "EBBUVFTMzMzc3NyIiIgyMjIiIiJERER2dnbu7u4AAADcB0J/AAAAAXRSTlMAQObYZgAAAAlwSFlz\n",
       "AAAOxAAADsQBlSsOGwAAAKpJREFUGNNjYEACXQLIPAaeBhQuKwqPoQfBfHstj8EXwTVgsGYwQnA/\n",
       "MfQX7EOY7Afk3gSZ/Pb0qhm1QPo2WJgz1YHP/jADA/s+MNdSl4GBBcjteQDisRucA5LJDBwGHCCd\n",
       "bA8OAMknDD3lxSBpHg4DsJ74//9BVBv7BWR31jI5IHObmSag+JEDRTEP2GQ4YALbywTnW6oBCSs4\n",
       "l/OUBZ+0AVI4HP1tAWMDALZLKPT6RgzjAAAAAElFTkSuQmCC\n",
       "\" style=\"display:inline;vertical-align:middle;\" /></a><br>"
      ],
      "text/plain": [
       "l_ket_domain: Complex^{2^{l}}"
      ]
     },
     "execution_count": 16,
     "metadata": {},
     "output_type": "execute_result"
    }
   ],
   "source": [
    "l_ket_domain = CartExp(Complex, Exp(two, l))"
   ]
  },
  {
   "cell_type": "code",
   "execution_count": 17,
   "metadata": {},
   "outputs": [
    {
     "data": {
      "text/html": [
       "<strong id=\"m_ket_domain\">m_ket_domain:</strong> <a class=\"ProveItLink\" href=\"../__pv_it/common/9fee07e90eb989b12a953b9e90059fbd9aaf0dc90/common_expr.ipynb\"><img src=\"data:image/png;base64,iVBORw0KGgoAAAANSUhEUgAAACMAAAAUBAMAAAD1iJl/AAAAMFBMVEX///+qqqq6urpmZmaYmJgQ\n",
       "EBBUVFTMzMzc3NyIiIgyMjIiIiJERER2dnbu7u4AAADcB0J/AAAAAXRSTlMAQObYZgAAAAlwSFlz\n",
       "AAAOxAAADsQBlSsOGwAAALZJREFUGNNjYEACziLOitcR3LfX8hgkD7AqyCKEDBisGXgKXjEYIoQ+\n",
       "MfQXcDPIMmxwgAv5AYWeMUxiyGwAmXJ61YxaIH0bLs2Z6sBnf5iBgX0fXMhSl4GBBSjU8wAmwm5w\n",
       "DkgmM3AYcDRAhdgeHACSTxh6yothyng4DMB0/P//MI1t7BcY0EAtkwO6UDPTBHQhHg4MjTxgG1EA\n",
       "E9hdTChilmpAwgpFiPOUBZ+0AarWt0d/WyDzAQ6iLFR8plqhAAAAAElFTkSuQmCC\n",
       "\" style=\"display:inline;vertical-align:middle;\" /></a><br>"
      ],
      "text/plain": [
       "m_ket_domain: Complex^{2^{m}}"
      ]
     },
     "execution_count": 17,
     "metadata": {},
     "output_type": "execute_result"
    }
   ],
   "source": [
    "m_ket_domain = CartExp(Complex, Exp(two, m))"
   ]
  },
  {
   "cell_type": "code",
   "execution_count": 18,
   "metadata": {},
   "outputs": [
    {
     "data": {
      "text/html": [
       "<strong id=\"nk_ket_domain\">nk_ket_domain:</strong> <a class=\"ProveItLink\" href=\"../__pv_it/common/bf35da959ffa6268aab29fb2714453e7d8ba4d690/common_expr.ipynb\"><img src=\"data:image/png;base64,iVBORw0KGgoAAAANSUhEUgAAACcAAAAUBAMAAAD8YzkFAAAAMFBMVEX///+qqqq6urpmZmaYmJgQ\n",
       "EBBUVFTMzMzc3NyIiIgyMjIiIiJERER2dnbu7u4AAADcB0J/AAAAAXRSTlMAQObYZgAAAAlwSFlz\n",
       "AAAOxAAADsQBlSsOGwAAAM5JREFUGNNjYEACziqyDAw2SAJvr+UxSB7gZmAQRhI0YLBmYCvoYmAw\n",
       "QRL8xNBfwM0wRY9hRecEuKAfUPAZg6wDww+5AyDTTq+aUQukb4Ml2b89AJKcqQ589oeBvH1gQc4b\n",
       "+xoYGCx1GRhYgII9D8CCzA1XBBjYDc4BmckMHAYcDXAL2B6AzH3C0FNe/AAuyMNhAKbj//9HuK+N\n",
       "/QIDBqhlcsAUbGaagCnIw4FFOw/YdjTABHYnE5qopRqQsEIT5DxlwSdtgG7A26O/LVBFAM1yMoxH\n",
       "yA3MAAAAAElFTkSuQmCC\n",
       "\" style=\"display:inline;vertical-align:middle;\" /></a><br>"
      ],
      "text/plain": [
       "nk_ket_domain: Complex^{2^{n_{k}}}"
      ]
     },
     "execution_count": 18,
     "metadata": {},
     "output_type": "execute_result"
    }
   ],
   "source": [
    "nk_ket_domain = CartExp(Complex, Exp(two, n_k))"
   ]
  },
  {
   "cell_type": "code",
   "execution_count": 19,
   "metadata": {},
   "outputs": [
    {
     "data": {
      "text/html": [
       "<strong id=\"normalized_var_ket_psi\">normalized_var_ket_psi:</strong> <a class=\"ProveItLink\" href=\"../__pv_it/common/69814b8070f626630a4b536859f1cf252d9b54120/common_expr.ipynb\"><img src=\"data:image/png;base64,iVBORw0KGgoAAAANSUhEUgAAAEoAAAAVBAMAAAATJmVgAAAAMFBMVEX///9UVFREREQyMjIQEBAi\n",
       "IiKYmJhmZmaqqqru7u7MzMyIiIi6urp2dnbc3NwAAACKehgKAAAAAXRSTlMAQObYZgAAAAlwSFlz\n",
       "AAAOxAAADsQBlSsOGwAAAOpJREFUKM9jeMDAAEQQwAUi4DxkcAeMIIBpAQMSD6sqbgYGjgJsqrgi\n",
       "kVTxAnEAFlUTi38iqZoNxDewmcWNrKoLiB8RVHUBiJkf4FPFuT2B4QJ3AAPHBXyqeDkcOBNAvACo\n",
       "qtJQEAhEVbWCPYDtAYMDA0MNPrMmsGwABgQwtBbidX3/BF4Gzg0MDL14VRUzvGDgnsDAYIfPXQxF\n",
       "DJkMZxgY+BTwmnXkwQW2A8BYasCiivcfTBWXrPY+oAArlrBnFPksBgt7rgaQSDuBlANyOgODHgFV\n",
       "oHTDwGlAyCywbxJwqdoFRlCHQgUwAADYlWee4YxAOgAAAABJRU5ErkJggg==\n",
       "\" style=\"display:inline;vertical-align:middle;\" /></a><br>"
      ],
      "text/plain": [
       "normalized_var_ket_psi: ||psi>| = 1"
      ]
     },
     "execution_count": 19,
     "metadata": {},
     "output_type": "execute_result"
    }
   ],
   "source": [
    "normalized_var_ket_psi = Equals(Norm(var_ket_psi), one)"
   ]
  },
  {
   "cell_type": "code",
   "execution_count": 20,
   "metadata": {},
   "outputs": [
    {
     "data": {
      "text/html": [
       "<strong id=\"normalized_var_ket_u\">normalized_var_ket_u:</strong> <a class=\"ProveItLink\" href=\"../__pv_it/common/f7b2047f2781f48ebdd5b93df8dad4fcf8fcd0990/common_expr.ipynb\"><img src=\"data:image/png;base64,iVBORw0KGgoAAAANSUhEUgAAAEgAAAAVBAMAAAAX07VdAAAAMFBMVEX///9EREQyMjIiIiIQEBCq\n",
       "qqpUVFSYmJhmZmbu7u7MzMyIiIi6urp2dnbc3NwAAAC7WRo4AAAAAXRSTlMAQObYZgAAAAlwSFlz\n",
       "AAAOxAAADsQBlSsOGwAAAMhJREFUKM9jeMDAAERgwAUiYBwUcAeMwIBxAQOCg0sRawM2RVyWKIoY\n",
       "DLAomtb0E1XRVWwmcaMpekiMIqYH+BRx7ihgYJvAwHoBnyJeVgeGeojLwYqajUHADFXRUg4DhiSg\n",
       "QA8+kyawbGDwBgosw+vw8xP4fgEFYvEqambg/gAU0MPnJgYxBkaBSgY+AbwmtTEsuXCBgTcAiyLe\n",
       "fzBF027HZS9gYMYS4mwpn9JRQjyCiKTCIEeEIk4FIhRxF+BStAuMIG6E8jEAAKIgYGwmM9ZUAAAA\n",
       "AElFTkSuQmCC\n",
       "\" style=\"display:inline;vertical-align:middle;\" /></a><br>"
      ],
      "text/plain": [
       "normalized_var_ket_u: ||u>| = 1"
      ]
     },
     "execution_count": 20,
     "metadata": {},
     "output_type": "execute_result"
    }
   ],
   "source": [
    "normalized_var_ket_u = Equals(Norm(var_ket_u), one)"
   ]
  },
  {
   "cell_type": "code",
   "execution_count": 21,
   "metadata": {},
   "outputs": [
    {
     "data": {
      "text/html": [
       "<strong id=\"m_bit_interval\">m_bit_interval:</strong> <a class=\"ProveItLink\" href=\"../__pv_it/common/74557729fd5cd70d9984171c74bfdadff37d6b150/common_expr.ipynb\"><img src=\"data:image/png;base64,iVBORw0KGgoAAAANSUhEUgAAAHsAAAAVBAMAAACUF4xmAAAAMFBMVEX///9ERETMzMxUVFSYmJgQ\n",
       "EBDc3NxmZmYiIiJ2dnaqqqoyMjKIiIi6urru7u4AAAB85a56AAAAAXRSTlMAQObYZgAAAAlwSFlz\n",
       "AAAOxAAADsQBlSsOGwAAAXpJREFUOMtjYGDgu8uAG7CU6BzmcVTAIsO2DEKfvodH+5OrDqwGPAbY\n",
       "pJTlQCTXPyAx83gCpnx6tRBD3mkGfgX2CehSGg+AhDCIxdnAwMC9gK8N03UCDPMvMNgwqDJwLECV\n",
       "4TPfD9I+A6bdg4FhIoZ25gQG1gCGIIaDDPlM6HLnUbQDnbH+AboS1n8MzN/YPgDtd2THr/07A4P+\n",
       "AgzbGxiYP/EaMGxjSD6HVzsfSLsDlsDl+IAjQhDa2TcwsP0Eaj+ARRVWQbj2oyBWqgNE+wQsqpoZ\n",
       "8GnPB/o3eS8wIoDa72OxiF0Amfe6AwSaENr5rBcwMBU+AAfd+gWY2p0Z8NrOCbSZgRGYIgUZGPwx\n",
       "Io6BawJDGj7t4LgGRZwrA0M1phpNBoZz+LRPhcU7xwK+ILDw+w1AL/2GJtr28vIGHNrnJyAnG77K\n",
       "w5A8yVEAJNqhkf7///8N2HUbx292QNJOHqCGdp4AcrWDQ5vtF5m6+UIghYoVWbrZJgMTGgDNNG5B\n",
       "y7F8hgAAAABJRU5ErkJggg==\n",
       "\" style=\"display:inline;vertical-align:middle;\" /></a><br>"
      ],
      "text/plain": [
       "m_bit_interval: {0 .. 2^{m} - 1}"
      ]
     },
     "execution_count": 21,
     "metadata": {},
     "output_type": "execute_result"
    }
   ],
   "source": [
    "m_bit_interval = Interval(zero, subtract(Exp(two, m), one))"
   ]
  },
  {
   "cell_type": "code",
   "execution_count": 22,
   "metadata": {},
   "outputs": [
    {
     "data": {
      "text/html": [
       "<strong id=\"I\">I:</strong> <a class=\"ProveItLink\" href=\"../__pv_it/common/51b66f0810ce0726813ca9e4eb1f8747515d0d020/common_expr.ipynb\"><img src=\"data:image/png;base64,iVBORw0KGgoAAAANSUhEUgAAAAsAAAAOBAMAAAALT/umAAAAIVBMVEX///8yMjK6urqIiIjMzMwi\n",
       "IiLu7u5UVFRERER2dnYAAAB3YTUGAAAAAXRSTlMAQObYZgAAAAlwSFlzAAAOxAAADsQBlSsOGwAA\n",
       "AENJREFUCNdjYGCYsao9gQEIloIIBpaVYIp5EZjiWACmuATAlJYBmJrlAKakwCTDCjDJtBhMcS4B\n",
       "U6xgbeldyycwMAAAGKAK+BrZNVAAAAAASUVORK5CYII=\n",
       "\" style=\"display:inline;vertical-align:middle;\" /></a><br>"
      ],
      "text/plain": [
       "I: I"
      ]
     },
     "execution_count": 22,
     "metadata": {},
     "output_type": "execute_result"
    }
   ],
   "source": [
    "# Identity operation\n",
    "I = Literal('I')"
   ]
  },
  {
   "cell_type": "code",
   "execution_count": 23,
   "metadata": {},
   "outputs": [
    {
     "data": {
      "text/html": [
       "<strong id=\"X\">X:</strong> <a class=\"ProveItLink\" href=\"../__pv_it/common/d428480ac9882b1412f7ede37b71e3a30f3c2e9e0/common_expr.ipynb\"><img src=\"data:image/png;base64,iVBORw0KGgoAAAANSUhEUgAAABIAAAAOBAMAAADQ9FGEAAAAMFBMVEX///+6urp2dnZmZmbMzMzc\n",
       "3NxUVFSqqqoyMjIiIiLu7u6IiIgQEBBERESYmJgAAAD8nk9dAAAAAXRSTlMAQObYZgAAAAlwSFlz\n",
       "AAAOxAAADsQBlSsOGwAAAGJJREFUCNdjYGB4+/80w8o/7QxAkF/AwH4VxGDwv8AQDGYwcHzlSoCw\n",
       "+D4vY4CC81kwlv4GGCt/ApTBHPYRyjJh+QthMDkwzA8AszYyMLxXADHWAkn+X0CG7/kjDCz9Pw0Y\n",
       "ACSDGRgx1Y4QAAAAAElFTkSuQmCC\n",
       "\" style=\"display:inline;vertical-align:middle;\" /></a><br>\n",
       "<strong id=\"Y\">Y:</strong> <a class=\"ProveItLink\" href=\"../__pv_it/common/863ddb89daa26b425e81508eb744e2de573298830/common_expr.ipynb\"><img src=\"data:image/png;base64,iVBORw0KGgoAAAANSUhEUgAAABAAAAAOBAMAAADUAYG5AAAALVBMVEX///9mZmZ2dnaYmJhEREQy\n",
       "MjK6urqIiIiqqqrc3NwQEBAiIiJUVFTu7u4AAAALmDhgAAAAAXRSTlMAQObYZgAAAAlwSFlzAAAO\n",
       "xAAADsQBlSsOGwAAAFlJREFUCNdjuLNvzQQGjnXLGRjyAhgYGJyBmPslAwN7ApDB/oiBoQNIM/C+\n",
       "YmArADEY/BImgWmGvrMCEAbXGwjNwPIWyuAKgDLmKUAZdglQhh+UFnl3HEQBAG/UEc2QlRZ8AAAA\n",
       "AElFTkSuQmCC\n",
       "\" style=\"display:inline;vertical-align:middle;\" /></a><br>\n",
       "<strong id=\"Z\">Z:</strong> <a class=\"ProveItLink\" href=\"../__pv_it/common/2c528f33b8384666a054a8146aa84d2f45cc85490/common_expr.ipynb\"><img src=\"data:image/png;base64,iVBORw0KGgoAAAANSUhEUgAAAA4AAAAOBAMAAADtZjDiAAAAMFBMVEX///+IiIh2dnbMzMxERETc\n",
       "3NyqqqpmZmbu7u6YmJi6uroiIiJUVFQyMjIQEBAAAADo4HZ1AAAAAXRSTlMAQObYZgAAAAlwSFlz\n",
       "AAAOxAAADsQBlSsOGwAAAGlJREFUCNdjYGB4//bM2d8MDFw/GRi6XzAwsCcwMNwLYGDgYWBg+czA\n",
       "wMDMwFC/gAEEmH6CKYb5AmCK7TuEu/4ASA0D8xegXiAdd4GBYSUDA8fuBgaGHQwMvE8ZGGwdGBjO\n",
       "b3G5938CAwCJ4RktCz21/gAAAABJRU5ErkJggg==\n",
       "\" style=\"display:inline;vertical-align:middle;\" /></a><br>"
      ],
      "text/plain": [
       "X: X\n",
       "Y: Y\n",
       "Z: Z"
      ]
     },
     "execution_count": 23,
     "metadata": {},
     "output_type": "execute_result"
    }
   ],
   "source": [
    "# Pauli's X, Y, Z\n",
    "X, Y, Z = Literal('X'), Literal('Y'), Literal('Z')"
   ]
  },
  {
   "cell_type": "code",
   "execution_count": 24,
   "metadata": {},
   "outputs": [
    {
     "data": {
      "text/html": [
       "<strong id=\"H\">H:</strong> <a class=\"ProveItLink\" href=\"../__pv_it/common/e874333991a6db337cd004ff6daee55a9e80aa5b0/common_expr.ipynb\"><img src=\"data:image/png;base64,iVBORw0KGgoAAAANSUhEUgAAABMAAAAOBAMAAAA/Njq6AAAAMFBMVEX///+qqqq6urpmZmbc3Nx2\n",
       "dnbMzMwiIiIyMjLu7u4QEBCYmJhERERUVFSIiIgAAAC1GkgDAAAAAXRSTlMAQObYZgAAAAlwSFlz\n",
       "AAAOxAAADsQBlSsOGwAAAHdJREFUCNdjYGB4+/8sw971ZycwAMEPIF4OYjCwfWVgYPkMZrJ+YmDg\n",
       "/ghmcnxgYOD5CWbyH2Bg4CoAM/Vr7969bwBmxicwMLwXADP7gfg82FSGP1CjGRiY/kGMBhn7jYGB\n",
       "7xOYyQ4y9gOINff83wfM5/88YGAAAGSzI0JDrqMtAAAAAElFTkSuQmCC\n",
       "\" style=\"display:inline;vertical-align:middle;\" /></a><br>"
      ],
      "text/plain": [
       "H: H"
      ]
     },
     "execution_count": 24,
     "metadata": {},
     "output_type": "execute_result"
    }
   ],
   "source": [
    "# Hadamard\n",
    "H = Literal('H')"
   ]
  },
  {
   "cell_type": "code",
   "execution_count": 25,
   "metadata": {},
   "outputs": [
    {
     "data": {
      "text/html": [
       "<strong id=\"MEAS\">MEAS:</strong> <a class=\"ProveItLink\" href=\"../__pv_it/common/f979aba16bdc989b94eb839b931688f10a3892ba0/common_expr.ipynb\"><img src=\"data:image/png;base64,iVBORw0KGgoAAAANSUhEUgAAAEQAAAAPBAMAAACvonQuAAAAMFBMVEX///92dnYiIiLu7u4yMjJm\n",
       "Zmbc3Ny6urrMzMxUVFQQEBCIiIiqqqpERESYmJgAAABHv321AAAAAXRSTlMAQObYZgAAAAlwSFlz\n",
       "AAAOxAAADsQBlSsOGwAAAWxJREFUKM91UD1Lw1AUPW3MR01MM4lO1bFTszioLRSctXXonqEgOthZ\n",
       "FO3qVBeHiiVdRBDE/IFSF2eL4OBkJkVBWrH0w1bjvS8OLgZyznn33XfuB/DPV/x7eAuuCfXPU6Bx\n",
       "8VC9uxTRnMCbdeuZ2fUIDvssu/Q3WBgB45SHTIdYec0TvrBU3wkW+FJ2HcICYGaJzSKhudQiGWGr\n",
       "ZU6ZTpQJB/SKS8hyHdgosZzoQIfGzl6TGlS/AY1TZZ1qeG2W8Rb2RZsybn1ACmbCibaNHgzbZXmQ\n",
       "rPVEbA8Vi6gdDLklPGljpCFGTZSVOZGSR+mISGoE9fA4gqeMfpdhwaYl3RfcVlixH6acGY45YPkF\n",
       "OJInhoqTHbczprDmYzWNGBuqbKXb/ArROiSqpXxwyMGJh0kuHWGrTUr1xfwGGcncdRRoOqj4LGl6\n",
       "9RzY4t33IM8DsyRjqTXsYieVtLGYG1ZrV1lkghUYj11LVo+rtMAfQ5JnE3T893YAAAAASUVORK5C\n",
       "YII=\n",
       "\" style=\"display:inline;vertical-align:middle;\" /></a><br>"
      ],
      "text/plain": [
       "MEAS: MEAS"
      ]
     },
     "execution_count": 25,
     "metadata": {},
     "output_type": "execute_result"
    }
   ],
   "source": [
    "# Measurement Gate\n",
    "MEAS = Literal('MEAS')"
   ]
  },
  {
   "cell_type": "code",
   "execution_count": 26,
   "metadata": {},
   "outputs": [
    {
     "data": {
      "text/html": [
       "<strong id=\"SWAP\">SWAP:</strong> <a class=\"ProveItLink\" href=\"../__pv_it/common/902f20c460094c8657e9ffd918d3504c42ee83b10/common_expr.ipynb\"><img src=\"data:image/png;base64,iVBORw0KGgoAAAANSUhEUgAAAEMAAAAPBAMAAABNfm9XAAAAMFBMVEX///8iIiIQEBDc3NxUVFTM\n",
       "zMwyMjLu7u6IiIhERES6urqYmJh2dnZmZmaqqqoAAACoC7eKAAAAAXRSTlMAQObYZgAAAAlwSFlz\n",
       "AAAOxAAADsQBlSsOGwAAAVxJREFUKM9tUbFKA0EQfXDEi3eXBPwC8wcpUwiKCnaSxlo/QPAKi3RJ\n",
       "KxZRCwk2l8JCVNBKO42NhQaMcCCCIUmRwsokxsOY6Plm9xrBhdm5mXk78+Yd8O8x1v6EyUbNrtz2\n",
       "DzDfW0K7fy65iS6vuDdc3H+SsAzTgzUGnC/AmlPP3gSCFHvtuUCiDlzA+NYQR3f23+VeLRJMS+WA\n",
       "I5gDdh8BxwrhzHyIK7FUqgJnHL4CBMD2J1BVkGz8R5wnRlhhnJMwDaMzhp1RkHpyJG4IxPgMdhgu\n",
       "0E3BIZ+8QlitGNlL2bhpSSLv9XlvoGMOozkJGANZelC7r0TKNPnhuUUEls5sNXzOwGRXl21agd2a\n",
       "WRdpvbLJPXuRLHI2abOU5+GKfC6jOUKNsuixaNNeRIMd8lHi40RRYyoi8liFI6Jfc91d/QunRY6M\n",
       "hikJDv1l8ae0O8XEC1y8hut4DssK8QsUJWzbqX4p/gAAAABJRU5ErkJggg==\n",
       "\" style=\"display:inline;vertical-align:middle;\" /></a><br>"
      ],
      "text/plain": [
       "SWAP: SWAP"
      ]
     },
     "execution_count": 26,
     "metadata": {},
     "output_type": "execute_result"
    }
   ],
   "source": [
    "# Swap Gate - for use in a MultiQubitGate that connects to the second swap gate. \n",
    "SWAP = Literal('SWAP')"
   ]
  },
  {
   "cell_type": "code",
   "execution_count": 27,
   "metadata": {},
   "outputs": [
    {
     "data": {
      "text/html": [
       "<strong id=\"SPACE\">SPACE:</strong> <a class=\"ProveItLink\" href=\"../__pv_it/common/da64fd011a176dba524c15edb4c0c73d9ce4b38f0/common_expr.ipynb\"><img src=\"data:image/png;base64,iVBORw0KGgoAAAANSUhEUgAAAE0AAAAPBAMAAABTt1/kAAAAMFBMVEX///8iIiIQEBDc3NxUVFTM\n",
       "zMwyMjLu7u6IiIhERES6urqYmJh2dnZmZmaqqqoAAACoC7eKAAAAAXRSTlMAQObYZgAAAAlwSFlz\n",
       "AAAOxAAADsQBlSsOGwAAAYRJREFUKM9tUT1Iw1AYvBo0afqjuDrYTd2qg5PQgkFwsV2c6+ZoBwed\n",
       "ms2xtYh0kRRxcLKZnCMODhYaQZCKxTo4SlurpQUh3nuJTg28993du/fzXYAx3+o4EfFWPVKFZo2M\n",
       "0ydf2ZPzwYlhr0ErLxmbsyXyClSLZXoHKOflRk/M2mIeH3O+rtEXc4Fr6jkT6JjCEcskAfU4S9QH\n",
       "ag4JPdPkl1wtshYd4bttEE4tEOkJoFGlj/trNrBNTdxt0QDFLLa5zIFJVz7WBPXCT1Y+e0R5KK9F\n",
       "x4bSE1DNCl23BY543jqkR7kRZ+AKOQfRYZCG3jOspN+/9Sna+6rfVyV3kUoj1A980W8s/yX4SkO4\n",
       "GxDtrJUpYUJSlf10ERU1Qlpo+zH5xxPPICR978QlKELbJ00x3pwT+NhiKCGTA6jVRKRHwBvLi4iv\n",
       "Grzblncpoo8o94sslTTwwN7S//8UWOEI8zBmo98Rz3Oc8wz34nGLsOlVpO3Q20XcGjhQm8YzG9nw\n",
       "DKM8AH4Bjr11Fpliod4AAAAASUVORK5CYII=\n",
       "\" style=\"display:inline;vertical-align:middle;\" /></a><br>"
      ],
      "text/plain": [
       "SPACE: SPACE"
      ]
     },
     "execution_count": 27,
     "metadata": {},
     "output_type": "execute_result"
    }
   ],
   "source": [
    "# SPACE: is used as a blank space holder in situations like classically controlled circuits \n",
    "SPACE = Literal('SPACE')"
   ]
  },
  {
   "cell_type": "code",
   "execution_count": 28,
   "metadata": {},
   "outputs": [
    {
     "data": {
      "text/html": [
       "<strong id=\"WIRE\">WIRE:</strong> <a class=\"ProveItLink\" href=\"../__pv_it/common/fa3620a78c6fa47e0d3a903554945016a208e3f20/common_expr.ipynb\"><img src=\"data:image/png;base64,iVBORw0KGgoAAAANSUhEUgAAAEAAAAAOBAMAAABtFQfxAAAAMFBMVEX////MzMyIiIhmZmbc3NyY\n",
       "mJiqqqru7u4iIiJUVFS6urpEREQQEBAyMjJ2dnYAAACaCNjsAAAAAXRSTlMAQObYZgAAAAlwSFlz\n",
       "AAAOxAAADsQBlSsOGwAAAUlJREFUGNM1UD1Lw1AUPW0jkUjT/gOzOAnWf2BwEwQz6Vi6uRnq5KRr\n",
       "QbDgUEpEuujgYIuDtDpkLVVQnIV0FmxtjWjtl+e+1MA79913z7n33OB9dIeznxJ2Rw5Mf1gClqeN\n",
       "+1swPjbK9QcYE8D8BYwi31JHBAyBLcnGwoL2GRFMKS22CbE+sBBCSbEPfQAkv4ArIWQqhHiPL2Ek\n",
       "Q141WqJGtPAFkh9sVVMxjhjQhJabYM7GbCpSNWiFKF5IfgyTPvJyNfqC1ZuV07TEghdKHiCnD6MJ\n",
       "Zk+wa+ueKzGtqaV818LYqPxPB17Zva2UlJG5tu6iqZaUqfy41mEx+h22brHTNn3sKELVEiPceW91\n",
       "ZijODhnKAkcRuuIt8c2LFYsMbfBkuWBd1XEisElC1rrEPA0ZLT5c87xJRfem59yk03GQeHEOgkHZ\n",
       "e3rGH5M8bMvyPJuKAAAAAElFTkSuQmCC\n",
       "\" style=\"display:inline;vertical-align:middle;\" /></a><br>"
      ],
      "text/plain": [
       "WIRE: WIRE"
      ]
     },
     "execution_count": 28,
     "metadata": {},
     "output_type": "execute_result"
    }
   ],
   "source": [
    "# WIRE: is used to explicitly denote a classical wire.  The classical version of 'I'\n",
    "WIRE = Literal('WIRE')"
   ]
  },
  {
   "cell_type": "code",
   "execution_count": null,
   "metadata": {},
   "outputs": [],
   "source": []
  },
  {
   "cell_type": "code",
   "execution_count": 29,
   "metadata": {},
   "outputs": [
    {
     "data": {
      "text/html": [
       "<strong id=\"CONTROL\">CONTROL:</strong> <a class=\"ProveItLink\" href=\"../__pv_it/common/f3dc5d2a12aa7d8cdfd8981d2c35970c615f6b8e0/common_expr.ipynb\"><img src=\"data:image/png;base64,iVBORw0KGgoAAAANSUhEUgAAAHAAAAAOBAMAAAAF5oXJAAAAMFBMVEX///+6uroyMjLMzMwiIiJm\n",
       "ZmaqqqoQEBB2dnbc3NyYmJhUVFRERESIiIju7u4AAABBACUiAAAAAXRSTlMAQObYZgAAAAlwSFlz\n",
       "AAAOxAAADsQBlSsOGwAAAhRJREFUKM89kk9oE1EQxn+bf91tzCan6i2CoohK9uKphxYUPKg0gkJu\n",
       "1bugYEEPQoMgBAoml+Ixe/WUUMilURo8eImSXKRCS1214sGK1mo1TZo487a6sDNvdr5v3jczC7jr\n",
       "zWWnKP5NaRl51kceVu5BsHm5eaG9dEU/tF+91MzXwoIvbm10Wh2rGySuyemhR/KofujUIRawFjAH\n",
       "WmsAVflmH4MlBfxUw9Z5MbMVPrTE35fXutUTENRxfsFNiO7DoR7uGUmOibToH0M8GYg5DMc1WJHX\n",
       "fi+JCRyf8V3YgNQORHpEpiWZ/C7xtkLtXbXnsE1U9iDORXiMJaghZIQk4KkW5YzCd8JYxGsdPlI1\n",
       "7c1mlFjzyWs0ZnKkWziXcH7oOS710wZa7prkgZ+pqMr0NEVT1NDJvn7b8LD39RyT/rPFf9D/3v2N\n",
       "qoxvWyqL2o2wZsV9FhgKfLtDqJl5kwsYqUvpvPI4AzswowrC8Ym6ImnT2Tu5LadXMKNhwgv9Z6mn\n",
       "KjuLhjEXiunLRXViSnTvidFmn+oGzdZM9RUZqiX6sgUl6Bp1r3twO29GTFKGammzdapd0xZT8u+Y\n",
       "lajKmNnNuNkU8aGOLhrdI2xPN5LySUh8RLCpu7gv9PZNpZh+IkNDfCKu1p1g1WPrlA5WkmVhfGo3\n",
       "zJQmC9fVf5k/IVZ/v4XO4LkqKJV84md9oo1HVxWQ6zdzff4CYPWrkbmmHvkAAAAASUVORK5CYII=\n",
       "\" style=\"display:inline;vertical-align:middle;\" /></a><br>"
      ],
      "text/plain": [
       "CONTROL: CONTROL"
      ]
     },
     "execution_count": 29,
     "metadata": {},
     "output_type": "execute_result"
    }
   ],
   "source": [
    "# CONTROL: indicates a controlled MultiQubitGate\n",
    "CONTROL = Literal('CONTROL')"
   ]
  },
  {
   "cell_type": "code",
   "execution_count": 30,
   "metadata": {},
   "outputs": [
    {
     "data": {
      "text/html": [
       "<strong id=\"CLASSICAL_CONTROL\">CLASSICAL_CONTROL:</strong> <a class=\"ProveItLink\" href=\"../__pv_it/common/a2476a354616e7dd3d0a3ab483bda8f7bd0ec7210/common_expr.ipynb\"><img src=\"data:image/png;base64,iVBORw0KGgoAAAANSUhEUgAAAPoAAAAPBAMAAAA/nc+kAAAAMFBMVEX///+6uroyMjLMzMwiIiJm\n",
       "ZmaqqqoQEBB2dnbc3NyYmJhUVFRERESIiIju7u4AAABBACUiAAAAAXRSTlMAQObYZgAAAAlwSFlz\n",
       "AAAOxAAADsQBlSsOGwAAA4lJREFUOMutVE1oE1EQ/jZN2t3UbnqqokgFwR/8aUA8KygI/tAIFgoV\n",
       "jKi3QnsoePEnF6FSMEEQvUiCN08NgYo21fSgXqJsbooWu6KeWqmtWk0bu87M27dZ8eDFhb5J33zz\n",
       "zXsz3zzg78/agn9+N/GfPnumPGll0FFZmlQbkS+8tvaNxju1MZ3GE9r7XC0X7gimh5e33q7CnyQE\n",
       "6R/jvRkvCaPnkvvxePlwtXSCN6ovnqMJ0LGv3qH1FP1KHPSZhiT7S9hO04iz47KLC0flaJ4gvwVX\n",
       "0CTmVqDEG04RiLp462IE4Gs1gHwxBFCx84doOZMDDmR8poE6LbEUcC8w4rSfJmmDnYhVKAAtP3Vy\n",
       "TWLvJttGWGOQcCZQhPUdOEvYX8C6ehPgx253aVlPf7Odism885UvS5k2B0ackSv0wxhmzPVskmux\n",
       "qLNrkgiXqJ1qZ74n9i5YBcSXgXeEJdJIvQlQseYyr/t1K+m728Fb3VTGfYEBVz+b5vumWJe12XQg\n",
       "kDBJlm9gUqIYjgA3YFCqNaBTYQ9MNwEqNi/d/kB/Sz5VqnWF1oWffDtt2GlJp2z+P4YhlkxCD4cm\n",
       "sYQjtsiI8QL4oGhTckpMwzoWAqjYbM1nMPwmGmlpSdzzHjWNQV0zfwUa61Ii6dZK0SQKEq0zgnQq\n",
       "7rycAd0vX08kQwAV25vT1fObGIO1KpPh/GgarlW0HmRPiXxVGcMkCrIwzEWPLRriHk+rA+bsKTcE\n",
       "ULFXxef6jSA70zfQUFxnOgPDzjbplM1qe9ZXmfaVYodJEgKZzfD5rIbJUkTFVbqkYmdCABXbK+Ob\n",
       "VI2I08zUZBTjfMS0Ntw1RCXyHNfDn39u4n25u08iEPsiLcTv3JK0I+oqVM+FYgigYnnSeTDRTWnb\n",
       "ufBguc5xx1xtxKkmPSOFR3RYiQFF+M8Fk7C+0f6VxUMx/fJsf1dqIiUPpUIAFZtnwdzgxtD93wAb\n",
       "VUXPk+kPjDgtDuBqGgXVChZDhzyXmqRlxVcDw6IipPiyUtMaa7OlCVCxPF4bXFU9cw0WPyZODqcy\n",
       "MOlavlGlpSkz+Jy3Ic+WlDErXQ1IXiUxv5PsR84rnYqsSfbbZMZrXQFAx36qTtBZ7JJXLnlF21ly\n",
       "MejtQGrTwAOusRh7ynvI/TpdPsmvqrcXrc5SZq5ntdyzioTneT4JXX7iGkPmrm6jlYU55jQec8lG\n",
       "RwuI7SkEABX7G9YgZikEUPNXAAAAAElFTkSuQmCC\n",
       "\" style=\"display:inline;vertical-align:middle;\" /></a><br>"
      ],
      "text/plain": [
       "CLASSICAL_CONTROL: CLASSICAL\\_CONTROL"
      ]
     },
     "execution_count": 30,
     "metadata": {},
     "output_type": "execute_result"
    }
   ],
   "source": [
    "# CLASSICAL_CONTROL: indicates a classically controlled MultiQubitGate\n",
    "CLASSICAL_CONTROL = Literal('CLASSICAL\\_CONTROL')"
   ]
  },
  {
   "cell_type": "code",
   "execution_count": 31,
   "metadata": {},
   "outputs": [],
   "source": [
    "# LEGACY\n",
    "# CTRL_UP, CTRL_DN, CTRL_UPDN = (\n",
    "#     Literal('CTRL\\_UP'),\n",
    "#     Literal('CTRL\\_DN'),\n",
    "#     Literal('CTRL\\_UPDN'))"
   ]
  },
  {
   "cell_type": "code",
   "execution_count": 32,
   "metadata": {},
   "outputs": [],
   "source": [
    "# LEGACY\n",
    "# # WIRE_UP: wire goes up to link with another wire\n",
    "# # WIRE_DN: wire goes down to link with another wire\n",
    "# # WIRE_LINK: link destination for WIRE_UP or WIRE_DN\n",
    "# WIRE_UP, WIRE_DN, WIRE_LINK = (Literal('WIRE\\_UP'),\n",
    "#                                Literal('WIRE\\_DN'),\n",
    "#                                Literal('WIRE\\_LINK'))"
   ]
  },
  {
   "cell_type": "code",
   "execution_count": 33,
   "metadata": {},
   "outputs": [
    {
     "data": {
      "text/html": [
       "<strong id=\"QubitSpace\">QubitSpace:</strong> <a class=\"ProveItLink\" href=\"../__pv_it/common/b194ab1c4258bed32fef631c442d91ad648bd1580/common_expr.ipynb\"><img src=\"data:image/png;base64,iVBORw0KGgoAAAANSUhEUgAAABcAAAATBAMAAACJlYuFAAAAMFBMVEX///+qqqq6urpmZmaYmJgQ\n",
       "EBBUVFTMzMzc3NyIiIgyMjIiIiJERER2dnbu7u4AAADcB0J/AAAAAXRSTlMAQObYZgAAAAlwSFlz\n",
       "AAAOxAAADsQBlSsOGwAAAJJJREFUCNdjYICCt9fyGODAgMEawfnE0F8A5/hBOG9Pr5pRC6RvAzFn\n",
       "qgOf/WEGBvZ9QI6lLgMDC5DT8wAoYHAOKJLMwGHA0cDA9uAAkPOEoae8+AEDD4cB2LT4//8ZGNrY\n",
       "LyAsq2VyQHCamSYgODwcSMp4wKZBARPYHiYoz1INSFhBOZynLPikDeB+PPrbAsICABL/JJdN5WPi\n",
       "AAAAAElFTkSuQmCC\n",
       "\" style=\"display:inline;vertical-align:middle;\" /></a><br>"
      ],
      "text/plain": [
       "QubitSpace: Complex^{2}"
      ]
     },
     "execution_count": 33,
     "metadata": {},
     "output_type": "execute_result"
    }
   ],
   "source": [
    "QubitSpace = CartExp(Complex, two)"
   ]
  },
  {
   "cell_type": "code",
   "execution_count": 34,
   "metadata": {},
   "outputs": [],
   "source": [
    "# These eventually moved to separate definitions inside the quantum/quantum_ops.py file\n",
    "# QubitRegisterSpace = lambda n : TensorExp(Exp(Complex, two), n) \n",
    "# RegisterSU = lambda n : SU(Exp(two, n))"
   ]
  },
  {
   "cell_type": "code",
   "execution_count": 35,
   "metadata": {},
   "outputs": [
    {
     "data": {
      "text/html": [
       "<strong id=\"inv_root2\">inv_root2:</strong> <a class=\"ProveItLink\" href=\"../__pv_it/common/c8b5993df7cd8527652affb78bd7910edc3167040/common_expr.ipynb\"><img src=\"data:image/png;base64,iVBORw0KGgoAAAANSUhEUgAAABwAAAAwBAMAAADwTQfqAAAAMFBMVEX///+qqqq6urpERESYmJgQ\n",
       "EBDc3Nx2dnaIiIgyMjJmZmZUVFTu7u4iIiLMzMwAAAAz/ewvAAAAAXRSTlMAQObYZgAAAAlwSFlz\n",
       "AAAOxAAADsQBlSsOGwAAAMtJREFUKM9jYAADvjsMSOD0yj/IXAaOQcll/4bM4976cwvDgIL/KIAq\n",
       "Rr5HNcoORZLPAIXLrYDCzWRgWzX5AZy7iCGZgf0TjMczgWEbA0MojMslwBB/gGF/ApR7loFhLwPD\n",
       "fpjmEjB5H4gZQVZcANv9A0i0TgDGSQOIy7sBKHT8H5ABVrsYbMdvBgYPEINlA1hwfQIDOJGJM7CB\n",
       "LMpfwFgAMqiAgeMAkGb+wwmicletWgtSxPRDCmzp//8/wZqnTkPxnPwGFC5nApwJAHspS/3UCbgE\n",
       "AAAAAElFTkSuQmCC\n",
       "\" style=\"display:inline;vertical-align:middle;\" /></a><br>"
      ],
      "text/plain": [
       "inv_root2: 1 / sqrt(2)"
      ]
     },
     "execution_count": 35,
     "metadata": {},
     "output_type": "execute_result"
    }
   ],
   "source": [
    "inv_root2 = frac(one, sqrt(two))"
   ]
  },
  {
   "cell_type": "code",
   "execution_count": 36,
   "metadata": {},
   "outputs": [
    {
     "data": {
      "text/html": [
       "<strong id=\"B1\">B1:</strong> <a class=\"ProveItLink\" href=\"../__pv_it/common/0508ae9f5ee15a29deda7d70a7656dedf15e79310/common_expr.ipynb\"><img src=\"data:image/png;base64,iVBORw0KGgoAAAANSUhEUgAAABoAAAAOBAMAAADDIxFwAAAAMFBMVEX///92dnaqqqoiIiLu7u5m\n",
       "Zma6urqIiIjc3NwQEBDMzMwyMjJUVFRERESYmJgAAAAeMT9/AAAAAXRSTlMAQObYZgAAAAlwSFlz\n",
       "AAAOxAAADsQBlSsOGwAAAIZJREFUCNdjYGB4+//Mmb0LGBi4TBhAYC4DA88vBp/oLyAOx3cGBrav\n",
       "DAzsYB7fLyD+DuPxfGBg4J4B43FeYGA5vADGW3+9/PQDBhivvoGBaR6cdxOI5eEq/wDx+wIoj+sf\n",
       "kDifAOWx/wCK/Ibp457AwJC5BchgBArz3P9z5vQlkCNO/j4HAD+HMSbxTzZ6AAAAAElFTkSuQmCC\n",
       "\" style=\"display:inline;vertical-align:middle;\" /></a><br>\n",
       "<strong id=\"B2\">B2:</strong> <a class=\"ProveItLink\" href=\"../__pv_it/common/4e809df56addb29b8cd788f8095b21eb392291210/common_expr.ipynb\"><img src=\"data:image/png;base64,iVBORw0KGgoAAAANSUhEUgAAABsAAAAOBAMAAAAs4XpOAAAAMFBMVEX///92dnaqqqoiIiLu7u5m\n",
       "Zma6urqIiIjc3NwQEBDMzMwyMjJUVFRERESYmJgAAAAeMT9/AAAAAXRSTlMAQObYZgAAAAlwSFlz\n",
       "AAAOxAAADsQBlSsOGwAAALBJREFUCNdjYGB4+//Mmb0LGDhCgQQIzGVg4PnF0MvA+A3E4/jOwMD2\n",
       "leEEA8NMEJfvFxB/Z5jvwHC+Acjl+cDAwD2D4TADw3mQZs4LDCyHwabYg4j118tPPwAxuL6DyPoG\n",
       "BqZ5IAbzARB5E4jlQYpjwdb+AeL3BUDTwZJc/4DE+QQGBkUGDqBF7D+AQr+BWICB3QFo5QQGhswt\n",
       "DAzNoaHBQEfc/3Pm9CWQpf///2YAAJxOM9fO1b4/AAAAAElFTkSuQmCC\n",
       "\" style=\"display:inline;vertical-align:middle;\" /></a><br>\n",
       "<strong id=\"B3\">B3:</strong> <a class=\"ProveItLink\" href=\"../__pv_it/common/7d8ac3002bb0e82f0eee2f57c8bddac912b8e09f0/common_expr.ipynb\"><img src=\"data:image/png;base64,iVBORw0KGgoAAAANSUhEUgAAABsAAAAOBAMAAAAs4XpOAAAAMFBMVEX///92dnaqqqoiIiLu7u5m\n",
       "Zma6urqIiIjc3NwQEBDMzMwyMjJUVFRERESYmJgAAAAeMT9/AAAAAXRSTlMAQObYZgAAAAlwSFlz\n",
       "AAAOxAAADsQBlSsOGwAAAKtJREFUCNdjYGB4+//Mmb0LGDgEYxMYQGAuAwPPLwZXBqZPIB7HdwYG\n",
       "tq8M9Qosv0Fcvl9A/J0hM4EBzOX5wMDAPQPIYPoH4nJeYGA5vADISH4A4q6/Xn4axFh+BiTGUN/A\n",
       "wDQPxICYfBOI5cES8x2AxB8gfl/AsIqB4b4CAwMXyLzzCQz/HcBc9h9AIaCNcyCKuScwMGRuYWB4\n",
       "B7aX5/6fM6cvAdWzhQK9AADLRDXquQ/24QAAAABJRU5ErkJggg==\n",
       "\" style=\"display:inline;vertical-align:middle;\" /></a><br>"
      ],
      "text/plain": [
       "B1: B1\n",
       "B2: B2\n",
       "B3: B3"
      ]
     },
     "execution_count": 36,
     "metadata": {},
     "output_type": "execute_result"
    }
   ],
   "source": [
    "B1, B2, B3 = Variable('B1'), Variable('B2'), Variable('B3')"
   ]
  },
  {
   "cell_type": "code",
   "execution_count": 37,
   "metadata": {},
   "outputs": [
    {
     "data": {
      "text/html": [
       "<strong id=\"C1\">C1:</strong> <a class=\"ProveItLink\" href=\"../__pv_it/common/a909fb79b8e180eb74b5fa189a326aa15be89a020/common_expr.ipynb\"><img src=\"data:image/png;base64,iVBORw0KGgoAAAANSUhEUgAAABkAAAAOBAMAAAAoFKpzAAAAMFBMVEX///+6uroyMjLMzMwiIiJm\n",
       "ZmaqqqoQEBB2dnbc3NyYmJhUVFRERESIiIju7u4AAABBACUiAAAAAXRSTlMAQObYZgAAAAlwSFlz\n",
       "AAAOxAAADsQBlSsOGwAAAHhJREFUCNdjYGDgu7N7F2cDA4PJAwYguH6PgS1kAd9WfRDvjTOQiJ/A\n",
       "wHAfxFMHEeIMEB7HN5BqUyhvvgOI9xjK67/AAAUgnv8EZF49mPUAJgfisBlAeSCbGDhgKueDTOmD\n",
       "8dh+MTBIgF3YD1L19PRWARBnd732AgBBLS7MD9VRQgAAAABJRU5ErkJggg==\n",
       "\" style=\"display:inline;vertical-align:middle;\" /></a><br>\n",
       "<strong id=\"C2\">C2:</strong> <a class=\"ProveItLink\" href=\"../__pv_it/common/5663a9e3666848eb65cb77624cc33e2b4cee4dda0/common_expr.ipynb\"><img src=\"data:image/png;base64,iVBORw0KGgoAAAANSUhEUgAAABoAAAAOBAMAAADDIxFwAAAAMFBMVEX///+6uroyMjLMzMwiIiJm\n",
       "ZmaqqqoQEBB2dnbc3NyYmJhUVFRERESIiIju7u4AAABBACUiAAAAAXRSTlMAQObYZgAAAAlwSFlz\n",
       "AAAOxAAADsQBlSsOGwAAAKFJREFUCNdjYGDgu7N7F2cDw9SgwwxAcP0eA1vIAs4DDP0CDAxvnIEi\n",
       "8RO4JzCwFzAwqD8A8sQZ2P8xcP9k4PgGUm3KwO3AwP2ZYb4DiPcYRLB8YOi/wAAD9hcY/CfAed4M\n",
       "DPVgBsgk1gMMDP4gDpsBkFgNtglIcIBEGhhmMswHmdIHxBYMDEBH/WJgkABq43QNDQVa9vT0VgGQ\n",
       "Zf///1cAABjEKQ5S+6igAAAAAElFTkSuQmCC\n",
       "\" style=\"display:inline;vertical-align:middle;\" /></a><br>\n",
       "<strong id=\"C3\">C3:</strong> <a class=\"ProveItLink\" href=\"../__pv_it/common/ea7b5d87fa5f2cd0c6d1bf8e947035d8048618910/common_expr.ipynb\"><img src=\"data:image/png;base64,iVBORw0KGgoAAAANSUhEUgAAABoAAAAOBAMAAADDIxFwAAAAMFBMVEX///+6uroyMjLMzMwiIiJm\n",
       "ZmaqqqoQEBB2dnbc3NyYmJhUVFRERESIiIju7u4AAABBACUiAAAAAXRSTlMAQObYZgAAAAlwSFlz\n",
       "AAAOxAAADsQBlSsOGwAAAKJJREFUCNdjYGDgu7N7F2cDw4zWgwxAcP0eA1vIAr4AhvwEBoY3zkCR\n",
       "+Am83xjeKzAwqD8A8sQZGAsZ+BUYOL6BVJuCiPwFDPMdQIzHQMzoxcDQf4EBAphvb2Zg8J/AAANA\n",
       "M+vBDJBJDOz/GPxBNJsBA7MBA883oE1AHgcDA/8/EG8+yJQ+oLINIJVsvxgYJIDauBaA7GN4enqr\n",
       "AEivaOhBBgBTnymtKY9x9AAAAABJRU5ErkJggg==\n",
       "\" style=\"display:inline;vertical-align:middle;\" /></a><br>"
      ],
      "text/plain": [
       "C1: C1\n",
       "C2: C2\n",
       "C3: C3"
      ]
     },
     "execution_count": 37,
     "metadata": {},
     "output_type": "execute_result"
    }
   ],
   "source": [
    "C1, C2, C3 = Variable('C1'), Variable('C2'), Variable('C3')"
   ]
  },
  {
   "cell_type": "code",
   "execution_count": 38,
   "metadata": {},
   "outputs": [],
   "source": [
    "# Duplicate of I??\n",
    "#I, IB, IC = Variable('I'), Variable('IB'), Variable('IC')"
   ]
  },
  {
   "cell_type": "code",
   "execution_count": 39,
   "metadata": {},
   "outputs": [],
   "source": [
    "# pregated_controlled_ngate = Circuit(ExprArray(ExprTuple(Input(a), Gate(u), MultiQubitGate(CONTROL, Set(one, two)), Output(b)),\n",
    "#                                    ExprTuple(Input(x), MultiWire(n), MultiQubitGate(U, Set(one, two)), Output(y))))"
   ]
  },
  {
   "cell_type": "code",
   "execution_count": 40,
   "metadata": {},
   "outputs": [],
   "source": [
    "# pregated_controlled_ngate_with_merge = Circuit(ExprArray(ExprTuple(Input(c), MultiWire(k), MultiWire(k).with_implicit_style(), MultiQubitGate(MultiWire(k).with_implicit_style(), Set(one, two)), SPACE, SPACE),\n",
    "#                                              ExprTuple(Input(a), Gate(u), MultiQubitGate(CONTROL, Set(two, three)), MultiQubitGate(I, Set(one, two)), MultiWire(Add(k, one)), Output(d)),\n",
    "#                                              ExprTuple(Input(x), MultiWire(n), MultiQubitGate(U, Set(two, three)), Output(y), SPACE, SPACE)))"
   ]
  },
  {
   "cell_type": "code",
   "execution_count": 41,
   "metadata": {},
   "outputs": [
    {
     "name": "stdout",
     "output_type": "stream",
     "text": [
      "These common expressions may now be imported from the theory package: proveit.physics.quantum\n"
     ]
    }
   ],
   "source": [
    "%end common"
   ]
  },
  {
   "cell_type": "code",
   "execution_count": null,
   "metadata": {},
   "outputs": [],
   "source": []
  }
 ],
 "metadata": {
  "kernelspec": {
   "display_name": "Python 3",
   "language": "python",
   "name": "python3"
  },
  "language_info": {
   "codemirror_mode": {
    "name": "ipython",
    "version": 3
   },
   "file_extension": ".py",
   "mimetype": "text/x-python",
   "name": "python",
   "nbconvert_exporter": "python",
   "pygments_lexer": "ipython3",
   "version": "3.7.3"
  }
 },
 "nbformat": 4,
 "nbformat_minor": 1
}
