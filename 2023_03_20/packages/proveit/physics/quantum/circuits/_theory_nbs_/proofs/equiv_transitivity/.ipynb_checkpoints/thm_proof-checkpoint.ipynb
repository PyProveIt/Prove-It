{
 "cells": [
  {
   "cell_type": "markdown",
   "metadata": {},
   "source": [
    "Proof of <a class=\"ProveItLink\" href=\"../../../../../../_theory_nbs_/theory.ipynb\">proveit</a>.<a class=\"ProveItLink\" href=\"../../../../../_theory_nbs_/theory.ipynb\">physics</a>.<a class=\"ProveItLink\" href=\"../../../../_theory_nbs_/theory.ipynb\">quantum</a>.<a class=\"ProveItLink\" href=\"../../theory.ipynb\">circuits</a>.<a class=\"ProveItLink\" href=\"../../theorems.ipynb#equiv_transitivity\">equiv_transitivity</a> theorem\n",
    "========"
   ]
  },
  {
   "cell_type": "code",
   "execution_count": 1,
   "metadata": {},
   "outputs": [],
   "source": [
    "import proveit\n",
    "theory = proveit.Theory() # the theorem's theory"
   ]
  },
  {
   "cell_type": "code",
   "execution_count": 2,
   "metadata": {},
   "outputs": [
    {
     "data": {
      "text/html": [
       "Under these <a href=\"presumptions.txt\">presumptions</a>, we begin our proof of<br><strong id=\"equiv_transitivity\">equiv_transitivity:</strong> <a class=\"ProveItLink\" href=\"../../../__pv_it/theorems/bdb7e4055a06e4cd7f35a1042286b9e95797b1c60/expr.ipynb\"><img src=\"data:image/png;base64,iVBORw0KGgoAAAANSUhEUgAAAPcAAAAXBAMAAAAl5sTiAAAAMFBMVEX///+IiIgiIiIQEBB2dnbu\n",
       "7u5ERETMzMzc3NwyMjK6urpmZmaYmJiqqqpUVFQAAAB6qHgnAAAAAXRSTlMAQObYZgAAAAlwSFlz\n",
       "AAAOxAAADsQBlSsOGwAAA0BJREFUSMe1Vl1IFFEU/kZ3dmdnd7YN0SSsxB4MoswoosLaaH0sh5Si\n",
       "9iXo5ylSkHqJQqvnVjApgsx+zJegxcxIQzffxJeBoBeDpB58MCxKMymrc+/dmbmM6RrsXph7v733\n",
       "zPnO/c65cxfIV9OyrLcgj22dCKFtqfX79Eww8C733EaMD8EvfFA/bqFeEUtqyfQnLaakgQH283bu\n",
       "yY+L4b0gL1gzQsFExFxRMYzeNDqAK0ybk7knfyWGoR98KIPaCVzi+GgldcMtGCNdTMBn5Z58G+99\n",
       "1+f4SMmN3NI3cdxOjHgIFJoIk/TBPKRcFFqrssBHVgAbvnXxePgMiRAk5u0VFTtyTx4S9ZYyfrlz\n",
       "Ju+T5aw/RlGQHC+AM9LaP/zYQP0PcrYtQLcCM96VumgGhEmcG9D4cVN38amLP+P9TRwpU/EGFpDf\n",
       "fq2+yfHgWLnmrK3vq60VqMAScWu/+c/eCta2Mlhlf10MKgu/6ZNygXA5FF4sOp3MU5DJ6yz4dpPT\n",
       "tGQlwMG7hIAHFvyi0FDIfZYMDn337ny/LXOATqERFfXWU82HSAphfjbf0Pq4TK43RzF+4jSvHseK\n",
       "A+P54xh8MHaSt5RErpLCX73kVXzXpJbO4mx7zSejneItC0dYvjQmxGWZXAlOIIXQZKLLtRKAqmLo\n",
       "wgCSpErAkmRn1bLRSz7MZPexAFjlHergrvFSFGPZ2CTfUrltbZNHQ21M8dFqyUoAUjzcHsUHicLP\n",
       "yuoJPfe8OU+yFVYZYfZpu8brrQdF3GwE6hTfUspDrjdRckNnqZ1zrQTIzO6VyNk50piujd7bix2+\n",
       "R6Z9GiO8Wvvin/lZI59Jlq9CFqAlkYfih2cdD7aVC6gxSYwMDpRDbZw38fbPTa/uifNT/I0C+z12\n",
       "4SR5EDXAUwYiFLrSIpFHoc05DmwrF1CbpqfUtqjM+im46iBKzypLjUGbhboZaIC6B1grya5Tuhds\n",
       "gYWVY56Zre+C4uxmbKVXD2m6D+rwnUANRmfi/SR2s4VE32pTIn82gcS87VpYueaZL+DggWK34rL9\n",
       "U1l0lRoOku45/9K3xzK+1WzX9KLoum2gmysh717OeWsW8lLvRNoGYayEPI28Ny1vnv8Cd3za2/MC\n",
       "DXcAAAAASUVORK5CYII=\n",
       "\" style=\"display:inline;vertical-align:middle;\" /></a><br>(see <a class=\"ProveItLink\" href=\"../../../__pv_it/theorems/76207b02f73f728ecc982b029fe57603fbc0d00a0/dependencies.ipynb\">dependencies</a>)<br>"
      ],
      "text/plain": [
       "<IPython.core.display.HTML object>"
      ]
     },
     "metadata": {},
     "output_type": "display_data"
    },
    {
     "name": "stdout",
     "output_type": "stream",
     "text": [
      "equiv_transitivity may now be readily provable (assuming required theorems are usable).  Simply execute \"%qed\".\n"
     ]
    }
   ],
   "source": [
    "%proving equiv_transitivity"
   ]
  },
  {
   "cell_type": "code",
   "execution_count": null,
   "metadata": {},
   "outputs": [],
   "source": []
  }
 ],
 "metadata": {
  "kernelspec": {
   "display_name": "Python 3",
   "language": "python",
   "name": "python3"
  },
  "language_info": {
   "codemirror_mode": {
    "name": "ipython",
    "version": 3
   },
   "file_extension": ".py",
   "mimetype": "text/x-python",
   "name": "python",
   "nbconvert_exporter": "python",
   "pygments_lexer": "ipython3",
   "version": "3.7.3"
  }
 },
 "nbformat": 4,
 "nbformat_minor": 1
}
