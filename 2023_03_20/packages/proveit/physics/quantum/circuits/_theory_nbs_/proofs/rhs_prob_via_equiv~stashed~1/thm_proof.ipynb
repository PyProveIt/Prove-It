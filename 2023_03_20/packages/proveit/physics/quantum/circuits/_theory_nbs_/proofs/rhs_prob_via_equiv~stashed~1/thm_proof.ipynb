{
 "cells": [
  {
   "cell_type": "markdown",
   "metadata": {},
   "source": [
    "Proof of <a class=\"ProveItLink\" href=\"../../../../../../_theory_nbs_/theory.ipynb\">proveit</a>.<a class=\"ProveItLink\" href=\"../../../../../_theory_nbs_/theory.ipynb\">physics</a>.<a class=\"ProveItLink\" href=\"../../../../_theory_nbs_/theory.ipynb\">quantum</a>.<a class=\"ProveItLink\" href=\"../../theory.ipynb\">circuits</a>.<a class=\"ProveItLink\" href=\"../../theorems.ipynb#rhs_prob_via_equiv\">rhs_prob_via_equiv</a> theorem\n",
    "========"
   ]
  },
  {
   "cell_type": "code",
   "execution_count": 1,
   "metadata": {},
   "outputs": [],
   "source": [
    "import proveit\n",
    "theory = proveit.Theory() # the theorem's theory"
   ]
  },
  {
   "cell_type": "code",
   "execution_count": 2,
   "metadata": {},
   "outputs": [
    {
     "data": {
      "text/html": [
       "Under these <a href=\"presumptions.txt\">presumptions</a>, we begin our proof of<br><strong id=\"rhs_prob_via_equiv\">rhs_prob_via_equiv:</strong> <a class=\"ProveItLink\" href=\"../../../__pv_it/theorems/598c88f0b3fb7f17caf30397dded42379d17c8d90/expr.ipynb\"><img src=\"data:image/png;base64,iVBORw0KGgoAAAANSUhEUgAAAXwAAAAZBAMAAADAh4ikAAAAMFBMVEX///+IiIgiIiIQEBB2dnbu\n",
       "7u5ERETMzMzc3NwyMjK6urpmZmaYmJiqqqpUVFQAAAB6qHgnAAAAAXRSTlMAQObYZgAAAAlwSFlz\n",
       "AAAOxAAADsQBlSsOGwAABQhJREFUWMPNmF1oHFUUx/+b3dmd/exG+1Co1rhUFFp1I6W12kjE9Skk\n",
       "mVbpg5WaoKZ9sHZSxUeztPXBl2wEK8WPZovGIohZNI3UFl0rCGmCHWofWio4CBJCNY3Y0MSY6Ln3\n",
       "zkxmb2aXYaGQC7tz5z/nzvzuueecubuAr5bKPIBV1wKZB31aRrEq28Qqwc9XF/I1RqwS/IBRXTjp\n",
       "PeSkwDfZ4Rcf+P4M62uX0f/w0nRP2SUAP/43Pf2ejkDZe8Zljv8N6x/3ge/PsK6mDAB9JtTtbgHY\n",
       "SiXjFnDMe9Axjv8mfatdPvD9GdbV4uTJAq3uxVaXAPUvILYAjHsPGuf4UQ0IGT7w/RnW1YIQ+H1N\n",
       "LgEJ8nyCphDUvAdpDD9R9pOYZOHPsK521cIfHnAJSM3QAx+lj3fwM5kqzyOZzBZflceXYV1txMLv\n",
       "ND5rvnzcEhDsgvKbTktuSua9v/d2aFwm/K+Bl90Xty4X2sSrbnzHUFrMuHT3Kzz5gLRXknrifyjw\n",
       "d+4AHr/yryWgr7txijk+wdfkywxrD7Fu65QR6uIy4fdDrZieidxa/qQxWj83vm2obOPSGwu5UZ11\n",
       "wlx8akvbH2LORfb9jL5iWpZstcjBkbZ9Vp+9+wsbc3fTIcOdwzcD9+SRpAkhma28R8Q4gcQMlwk/\n",
       "rIWK9oUNPUWYiXSMFZjeOyR82zC0KDCbEMg6+EiZiJZYZy8/7TQQa12JT3JoO+U/efU8cKelPsbw\n",
       "RVE74Qh4kdnTdCMz8gouIjDLZcJPpp2EPMt8YwZ1zLGzSxK+bXiqWfCWmA/c+AF+yt8PsdfSXgWb\n",
       "ydeee4nWH7hOhXIl/gfL+Ev0uUi3iWXlu8winOUy2zQMfE+uPDcxab3fzIKGFi98bkgtLTwUNLCr\n",
       "XIEfyr790Vnw4heIUpy1OyV64icRNEwuIT65h5axBcpmd/AI/HcdIcKS4AYZJpuk2A81YU2Jywy/\n",
       "nbz0/HD+EHaL2O/TsNkTv527M4AzXCrcNT4JN75ySY+1HFV5oqXjdLiGeA+1V5QLcxFR0ZlMUx5r\n",
       "Zi+liW/tROiW8ZkQoBCIzLMold+VFKQ/aFxm+EfIUW9tQAGfO/jNnvhHeOaeskL2PJTrbvx7G4uI\n",
       "zILnTUxnafGpNVjdaao8rrg8yqZUZqmzt2QZdLA6I2r+JkeI0h0+Zg6Lyzn0Qpd6v5AZfkrn8/0Z\n",
       "Y3RfgwfPoic+N8RI7gavnMReKLrwGXYkiySbYzzXMUu1yR4dTovqIWTYqaP+Y/UPUVkbXGKUX/z9\n",
       "pyWkDi5NTx1gJw1FCf/X3rV5ITsb5m2E87rwfrXUtXZ6RM2nQfkxrMv4TYiwYxrqreXgQVBPcUcL\n",
       "GXbqxOyTBl0CrBAOywXgjCPb+Oqceh9VRo4fSMdMpbUaPkXYGoMuq7NQNmGl91nqxii+aQEb7TGF\n",
       "/GGNhgjZCh5a41128CRKEmCFcE7G3+jINn7infUa1H3Wa2u9FmnB0cEnPfDjT0D57n26PHYzN2rA\n",
       "/dqiyfffzGM/8JWJPfNF1hNtrPE0aIgliwcO5toOOED7ZUKXsGKXqyw6so0v0uPZHvba4kJSuLTa\n",
       "r62kqx+uvPSJ85gu956mYojcdtcQwvKvxavzZVu28RsM16aBtaHa+EPV8eN5uSP2AEM18NV0dWGd\n",
       "95B17t+6nacl/HJt/HJ1fDxtHS/YQmhBk4bcxn8aelw7zm4Hv8b/PGqVXaV2+//n2fE/U0N3swpL\n",
       "QQwAAAAASUVORK5CYII=\n",
       "\" style=\"display:inline;vertical-align:middle;\" /></a><br>(see <a class=\"ProveItLink\" href=\"../../../__pv_it/theorems/ae79c07a6a126eb977c3ba4302698f141a51c1210/dependencies.ipynb\">dependencies</a>)<br>"
      ],
      "text/plain": [
       "rhs_prob_via_equiv: forall_{p in [0,1]} [forall_{A, B | Pr(A) = p, A equiv B} (Pr(B) = p)]"
      ]
     },
     "execution_count": 2,
     "metadata": {},
     "output_type": "execute_result"
    }
   ],
   "source": [
    "%proving rhs_prob_via_equiv"
   ]
  },
  {
   "cell_type": "code",
   "execution_count": null,
   "metadata": {},
   "outputs": [],
   "source": []
  }
 ],
 "metadata": {
  "kernelspec": {
   "display_name": "Python 3",
   "language": "python",
   "name": "python3"
  }
 },
 "nbformat": 4,
 "nbformat_minor": 0
}