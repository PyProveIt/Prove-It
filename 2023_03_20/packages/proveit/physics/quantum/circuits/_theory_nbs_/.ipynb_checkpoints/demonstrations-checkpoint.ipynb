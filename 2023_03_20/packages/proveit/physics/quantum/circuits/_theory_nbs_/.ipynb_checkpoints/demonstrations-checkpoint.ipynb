{
 "cells": [
  {
   "cell_type": "markdown",
   "metadata": {},
   "source": [
    "Demonstrations for the theory of <a class=\"ProveItLink\" href=\"theory.ipynb\">proveit.physics.quantum.circuits</a>\n",
    "========"
   ]
  },
  {
   "cell_type": "code",
   "execution_count": 1,
   "metadata": {},
   "outputs": [],
   "source": [
    "import proveit\n",
    "from proveit import Function, IndexedVar, ExprRange, ExprTuple, VertExprArray\n",
    "from proveit import i, j, k, l, m, n, A, B, P, Q, R, S\n",
    "from proveit.logic import Set\n",
    "from proveit.numbers import one, two, three\n",
    "from proveit.core_expr_types import a_i, b_i, c_i\n",
    "from proveit.core_expr_types.expr_arrays import Aij, Bij, Cij, Dij, Eij, Pij, Qij, Rij, Sij, Tij, Uij, Vij, B11_to_Bmn, D11_to_Dmn, S11_to_Smn\n",
    "from proveit.physics.quantum import I, X, Y, Z, H, CONTROL\n",
    "from proveit.physics.quantum.circuits import Qcircuit, Input, Output, MultiQubitElem, Gate, target\n",
    "%begin demonstrations"
   ]
  },
  {
   "cell_type": "code",
   "execution_count": 2,
   "metadata": {},
   "outputs": [
    {
     "data": {
      "text/html": [
       "<a class=\"ProveItLink\" href=\"../__pv_it/demonstrations/e6a7c15b15a0b3d6104d92c832c1e45b17b71cdd0/expr.ipynb\"><img src=\"data:image/png;base64,iVBORw0KGgoAAAANSUhEUgAAAH0AAABFBAMAAACVh/TWAAAAMFBMVEX////MzMxmZmZ2dnaYmJhE\n",
       "REQyMjK6urqIiIiqqqrc3NwQEBAiIiJUVFTu7u4AAACILWO2AAAAAXRSTlMAQObYZgAAAAlwSFlz\n",
       "AAAOxAAADsQBlSsOGwAAAXNJREFUWMNjYCAG/EcFDKSCDyg8/lH99Nf/9vzeBQyc+3eQbX99ApAI\n",
       "Id/9PL8YGDgKyNfP8ZmBYSYF4cf3m4G9gZLwjy9YTFH8zb+ngEX/f2IAWD/3X1j8o0kQaT/rP8rS\n",
       "H3cCZfrXG1Cm37+AMv3xlOU/1f83RsufIaqf0vprFIyCUUAA8GOrtAjI4MvWH4iQGdVPZf0s8b8b\n",
       "+M5vm4Cpn+P+1wsst7/eI2A/708GhqkLsNnPD2w/cB8g5H7GrwxcCljdLw9sP6xXIOj//AVvsfvf\n",
       "Hth+8J9AUL+/3gXs+vNBbYgHBPVz/32AXf9XIN5DOP6Yf2CPP/Y/d+/e/YShH6Na4/2DXYb5IzAO\n",
       "f6LJfMC0X+t+AVb72T7Am5D43M8kIB+AVT9/ACQJENBvCO4oYNFf3wBJAvj1A3sYLJ+x6rcXYGDo\n",
       "LyCgny8YFDwPsOk/j2hC4tTPGP1bgEHs/yFM/XxXgc1H1f8Ro+XP4NVPTv0FAEbJRH1DojyKAAAA\n",
       "AElFTkSuQmCC\n",
       "\" style=\"display:inline;vertical-align:middle;\" /></a>"
      ],
      "text/plain": [
       "QCIRCUIT(([GATE]{operation:I}, [GATE]{operation:X}), ([GATE]{operation:Y}, [GATE]{operation:H}))"
      ]
     },
     "execution_count": 2,
     "metadata": {},
     "output_type": "execute_result"
    }
   ],
   "source": [
    "Qcircuit(VertExprArray([Gate(I), Gate(X)], [Gate(Y), Gate(H)]))"
   ]
  },
  {
   "cell_type": "code",
   "execution_count": 3,
   "metadata": {},
   "outputs": [
    {
     "data": {
      "text/html": [
       "<a class=\"ProveItLink\" href=\"../__pv_it/demonstrations/34b5a49db2e0322fc5d69893ff446e367bcfd9680/expr.ipynb\"><img src=\"data:image/png;base64,iVBORw0KGgoAAAANSUhEUgAAAG8AAABFBAMAAAC23KUDAAAAMFBMVEX///+YmJi6urqIiIiqqqpU\n",
       "VFTu7u4yMjJ2dnbMzMzc3NxEREQQEBAiIiJmZmYAAACM4xYyAAAAAXRSTlMAQObYZgAAAAlwSFlz\n",
       "AAAOxAAADsQBlSsOGwAAAX9JREFUSMft1j1OwzAUAOBHg9pKhL4jNDdobwADO0goXUCChb03gBuU\n",
       "G8DIVhATLB0QI6IHQEr3Lh6gAkIxL0SA/BPbsboUxWorRc0n/z2/ZwBj42ID58aEJ6zgouBRcn8O\n",
       "q4935Xvs9OnnymOo6+8AQWSGradbFQavAFuWOSacnyqw/gG1rhk2KRzH6qqOogvLqjYIzlS43Zto\n",
       "IDe2bxi+/Oyj9IdtqGszawBoFwfCvhW2khtNyA1P7CGHulhtR55wBH5wync9ewSo4EKhcwkokVUq\n",
       "WMF/AVFXEVwgA/PzUkJp+q4Q5bziCnk2VCa/GBykOyv7aa8YYv5hcg9IhTUcG3pk+eIo8IwK63Bi\n",
       "hyjDARXW9mYxRCiAx1lxPfSAKX0fwAEyEdbmcRx/KtB+P2q+0ZY8Sy8zh6E22O8dqdwc8TLfytLb\n",
       "0enmW2mFXIIDuqVtRCaI+shJ/u5IRZBlkItjqO/R/WjKr83HiqF4Ip0PMkqJzD0DgG/qWF7Ii0vA\n",
       "F8rZOoUCC/YkAAAAAElFTkSuQmCC\n",
       "\" style=\"display:inline;vertical-align:middle;\" /></a>"
      ],
      "text/plain": [
       "QCIRCUIT(([MULTI_QUBIT_ELEM]{element:CONTROL, targets:{2}}, [GATE]{operation:X}), ([GATE]{operation:Y}, [GATE]{operation:H}))"
      ]
     },
     "execution_count": 3,
     "metadata": {},
     "output_type": "execute_result"
    }
   ],
   "source": [
    "Qcircuit(VertExprArray([MultiQubitElem(CONTROL, Set(two)), target], [Gate(Y), Gate(H)]))"
   ]
  },
  {
   "cell_type": "code",
   "execution_count": 4,
   "metadata": {},
   "outputs": [
    {
     "data": {
      "text/html": [
       "<a class=\"ProveItLink\" href=\"../__pv_it/demonstrations/5001f64e8863ae78744d3a0352cf8344569c86890/expr.ipynb\"><img src=\"data:image/png;base64,iVBORw0KGgoAAAANSUhEUgAAAGAAAABGBAMAAADBQ4wgAAAAIVBMVEX////u7u4yMjJ2dnbMzMzc\n",
       "3NxEREQQEBAiIiJmZmYAAAAPe/OpAAAAAXRSTlMAQObYZgAAAAlwSFlzAAAOxAAADsQBlSsOGwAA\n",
       "APVJREFUSMftlj0OwjAMhSNYqCfOwRGYOAKHgCswsyFxgo5GQoDeKQmgVkrS/Dy1wBKrHerki+3E\n",
       "dmNMRgRqGIGqMISdrEYIQN8Pyg18mLiJ5rQfBKJRnIGN51H/DskcwDEHgBTHwswqLpO7NCpo09x3\n",
       "3Lb6S2UPLrCdTQ1lk0/Z9Fa2gLRIVYEK/B8Q2zU0VKXWV78cB1ROyavnAl7f0ZLToEWIprqGhF0r\n",
       "3WbiQGSnuhGUtspuRL72fyi0MAJAOIokQJ8DfdJ8LtHZytdDaRFWoAI/Adrblpq/AK4UsAYeFLCy\n",
       "BbR0m8uYm/EULtFBm/bg3JXNE4GR5/Ea/Oz+AAAAAElFTkSuQmCC\n",
       "\" style=\"display:inline;vertical-align:middle;\" /></a>"
      ],
      "text/plain": [
       "QCIRCUIT(([MULTI_QUBIT_ELEM]{element:CONTROL, targets:{2}}, [GATE]{operation:X}, [GATE]{operation:I}), ([GATE]{operation:X}, [GATE]{operation:X}, [MULTI_QUBIT_ELEM]{element:CONTROL, targets:{1, 2}}))"
      ]
     },
     "execution_count": 4,
     "metadata": {},
     "output_type": "execute_result"
    }
   ],
   "source": [
    "Qcircuit(VertExprArray([MultiQubitElem(CONTROL, Set(two)), target, Gate(I)], \n",
    "         [target, target, MultiQubitElem(CONTROL, Set(one, two))]))"
   ]
  },
  {
   "cell_type": "code",
   "execution_count": 5,
   "metadata": {},
   "outputs": [],
   "source": [
    "%end demonstrations"
   ]
  },
  {
   "cell_type": "code",
   "execution_count": null,
   "metadata": {},
   "outputs": [],
   "source": []
  }
 ],
 "metadata": {
  "kernelspec": {
   "display_name": "Python 3",
   "language": "python",
   "name": "python3"
  },
  "language_info": {
   "codemirror_mode": {
    "name": "ipython",
    "version": 3
   },
   "file_extension": ".py",
   "mimetype": "text/x-python",
   "name": "python",
   "nbconvert_exporter": "python",
   "pygments_lexer": "ipython3",
   "version": "3.7.3"
  }
 },
 "nbformat": 4,
 "nbformat_minor": 1
}
