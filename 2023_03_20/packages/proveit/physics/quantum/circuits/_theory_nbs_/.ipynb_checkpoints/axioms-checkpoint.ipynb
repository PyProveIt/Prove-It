{
 "cells": [
  {
   "cell_type": "markdown",
   "metadata": {},
   "source": [
    "Axioms for the theory of <a class=\"ProveItLink\" href=\"theory.ipynb\">proveit.physics.quantum.circuits</a>\n",
    "========"
   ]
  },
  {
   "cell_type": "code",
   "execution_count": 1,
   "metadata": {},
   "outputs": [],
   "source": [
    "import proveit\n",
    "# Prepare this notebook for defining the axioms of a theory:\n",
    "%axioms_notebook # Keep this at the top following 'import proveit'.\n",
    "\n",
    "from proveit import k, l, A, B, S\n",
    "from proveit.logic import Forall, Equals\n",
    "from proveit.numbers import one, NaturalPos\n",
    "from proveit.core_expr_types.expr_arrays import (\n",
    "    A11_to_Akl, B11_to_Bkl, A11_to_Akl_varray, B11_to_Bkl_varray)\n",
    "from proveit.physics.quantum.circuits import (\n",
    "    Input, Output, Measure, Gate, MultiQubitElem)\n",
    "from proveit.physics.quantum.circuits import circuit_Akl, circuit_Bkl "
   ]
  },
  {
   "cell_type": "code",
   "execution_count": 2,
   "metadata": {},
   "outputs": [
    {
     "name": "stdout",
     "output_type": "stream",
     "text": [
      "Defining axioms for theory 'proveit.physics.quantum.circuits'\n",
      "Subsequent end-of-cell assignments will define axioms\n",
      "%end_axioms will finalize the definitions\n"
     ]
    }
   ],
   "source": [
    "%begin axioms"
   ]
  },
  {
   "cell_type": "markdown",
   "metadata": {},
   "source": [
    "Quantum circuits of the same dimension are equal if and only if their contents are equal."
   ]
  },
  {
   "cell_type": "code",
   "execution_count": 3,
   "metadata": {},
   "outputs": [
    {
     "data": {
      "text/html": [
       "<strong id=\"qcircuit_eq_def\">qcircuit_eq_def:</strong> <a class=\"ProveItLink\" href=\"../__pv_it/axioms/9c224193e7663bc336b686c01589a35d9e53b4c60/axiom_expr.ipynb\"><img src=\"data:image/png;base64,iVBORw0KGgoAAAANSUhEUgAAA9cAAAFFCAMAAADRmO56AAAAUVBMVEX///+Dg4O+vr6fn59RUVGT\n",
       "k5M9PT1GRkbOzs6/v79aWlrf39+IiIgiIiIQEBB2dnbu7u5ERETMzMzc3NwyMjK6urpmZmaYmJiq\n",
       "qqpUVFQAAADN+RFeAAAAAXRSTlMAQObYZgAAAAlwSFlzAAAOxAAADsQBlSsOGwAAIABJREFUeNrt\n",
       "fYm27CqOpbP7dVVlpefZ/P+HdkyOYweTBBhPm7XyZhw/JMRGm8kYJUnYVItXmhIkJKToKXvzL7je\n",
       "WhTDI3VAGAkpfnqSb5i24HUDcJGQdiV3DF7/TcnHAZAjIV2D1/13Tt5iKEdCugiv63nAbiogjoR0\n",
       "EV4nbfn+/2IE4khIV+H18FlWtwAcCekyvE7y7JnyAoAjIV2H1339/Lcq/56UFFWlqw1lKOWbWhBK\n",
       "S5nsayXSXXndTPM/s0PlNcHrKJlcBfe3IJQW97JsknUl+qLoqxC53ARJup0N8JDkK4lqZSRev4bq\n",
       "YnEErRCELTRSJlfB/S0IpcW9LKvkkD3/TfMQudwESbqdDfCQ5CuJaWUsXo/patesq/PUqoiUyVVw\n",
       "fwtCaXEvyy459RQnoeVyEyTpdjbAQ5KvJKaVsXj9IPWw8KE0ae3fhZAyuQrub0EoLe5l2SXz53he\n",
       "ZkOIXG6CJN3OBnhI8pXEtDIar4uxLRcOlfSt3esImaiCTTvylW9qAUNLX3nnIkuuzGxEOgz9ZFnX\n",
       "0XLRBZcmkHQ7G0CxgKfE0AjEbHRJk5XReN3k02L+Ny8WmsUW+fK3LlM3pr3tQzG19qpR5lkp1Fmw\n",
       "zMSyYJW5Yp6h/avH2C+B1MG0zMXDaaV/aeZrXVe+Z4H6ptLkstugU78wYZFF31SaTAQQdOpZbbWs\n",
       "hqGpNNl4Vq4KMFgZjdfJolPsi6KYxKPO9Zh9a778rc30cMPSZrFSMMnVeZYKtRYsM7EsWGXm7pd8\n",
       "tST9YgKmNXKVi2XlSnJl5odyojM2lSaX3QaN4NKERRZ9U2kyEUDQSPLaaqHE1FSabDwrf1t5f16v\n",
       "5n9PK188X9Z8hYI600NznbtoX59M/8uzVqixYJmJZcFKkDlNXtSjbZo0tcK0zMXDaSVZ/a7rks7S\n",
       "VJpcdht0gpUyi76pNJkIIOgkWW21rIahqTTZeFauJKtD8bp79zjvVyyys5SFMVNSdd9c63+MgsP7\n",
       "qJsiz0eh2YJlpvdvhQFmwbcFWjGTFtGMZWU1cp2LY+VScmHmg/Xla7+mT0xNpc/1skFvgk5w0GWR\n",
       "msqWyQaCTnKgtZJCib6pDNk4Vi4kh+JIvO5fC+2yF22ndJb62TvpM71Prr1z1Xmz+Mco+FnCKPL0\n",
       "NcGCZab3b4UBZsG3BWoxs5ZaTEuyaIz8ycWwciW5MHNoRfE8DjEmGl7bcr1s0JqgFXyZoMoiNZUt\n",
       "kwUEreSfBcamkpXom8qQjWPlUtK0LB92vi/l06OtWnY0ZCrKJNXkMgpm5ajO81FotmCZ6WuBajPS\n",
       "IDhbQNhp/cmSFk1WNjYj17k4Vq4k9WaSmkrVVhSgFG0lZVE1lTETq6kUbTVyW4rYVN9sfCuXkl+f\n",
       "Phyv6zR/frrZ5H+/HzPEUp+pFUJkiSqXRbBIG2Wej0KzBctMXwsUBhgFPxZ09iPZv1n6JikGK0yr\n",
       "XCwrV5I6M0lNpWwrigmKtpKyqJrKmIkFgqKt7E0l5aA11ZzNwcql5OzTRxyvFb3SQOobFbkogkMw\n",
       "C1SZCIKEswWDF0zuVpLM5NvgaIKz7mAgDO4tFbOpDszrIVgmV8H9LQimZkh2B2pTpIb9QTh+Uw0H\n",
       "vo+07exPkKipycqgbYHkAb1fY1B4vwevaU7ST/Ynv0k4pEB6gmIoRHgLCo8T69GQF1dEXgG9R2OQ\n",
       "+oQ9eN2T6jTmpfWJ3CoODRlGT2Dv2kImd572xUNeJFdEXgG9e2OQ+oQdeE1wkuT5yf9gfQJes2Q6\n",
       "1wVSROQvymsZ+s5jtUpojvi8Lmk91dTan4DXPJnJ8ZrniMhflNcK6Cf3O7cJfUJ8Xk8tTUlnfQJe\n",
       "M2Uat4tVYiJ/VV7L0DceN+rY+4TovCY5SZK0rf3J8Xntvm+3jXdVmUuDxkQ+WAMeDHkF9G6NQewT\n",
       "ovOa5CTJKLF/JPUHUm2aNgivA6lxd2+7AZTCauFwY5Ij8jvzOqIBJBkZeqfGoPYJsXk9EofrzP6E\n",
       "hHArgrhFIDXu3mU3gDZqOFyax0Z+qISYHqm1XKAptlMTBHmqAbTCZOir3INj6bF4TXMS585NSN1I\n",
       "EEIGUuPOa4IBpMJG/qLOBfn8vf6bRO1VcXc1gZCnGUArTIZ+9Fhh2/qEyLwmOsn7Gg/zExLC/WTd\n",
       "OqS4RSA17rwmGEAsjH1fmwPyzaeVO9H7VNxDTRjkiQYQ5+4y9MI9rpWtT4jMa5qTlKKyPiEhXDSF\n",
       "qP0JGUiNO68pBtAKmwTzdj8X5IdPIYO5FxfbqQmDPNEAIq9l6NmNQe8T4vKa6CSD1BkNxCnLujZN\n",
       "mqRWQbtbBFLjzmuSAbTCOsGMkeaC/PT5o80bn4p7qAmDPNEAIq9l6NmNQe8TNuD1f/73P55OUkmj\n",
       "ekWbDP4g3D/nK4M3IQOpcec1yQDqbJC5WeOC/HtZWk6Z176Zj5owyBMNoO6hy9AL950zS5/wf/43\n",
       "5nhdEafhmfUJBeHuebGMtUu0ukUgNe68phlA9K6KN/dzQb4WVZqmUzv4VdxHTRDkqQZQeS1DX/lM\n",
       "xPPDzMOJTjJIPjxQJyy/42zSiPch+XJYrEdWf1jdYqGmLIrp734pnhp3Xi/rMWTLpZ7dAimlvLmf\n",
       "C/Lp2wHG94FhHvI6NXsgv66HN/IK6FOPibi5T4jKa6KTTNI77kl0fF6nVd/303tFX6fpX5ey+sPq\n",
       "Fks1T4b1GV9NOe9yyD/svF4a8JgbLpAgWKBoHdYmrAvy8zuY114fE3mdmj2QXxngj7wC+tpjR9zc\n",
       "J0TlNdFJcmF/kmiOCi561Hf3Ok8RxuVUYfmH5YjhSs3T/uavn6SrmW+yVfzg1aNZI2G1QAUb55N+\n",
       "F+Q/U4t5G5mHvEbNHsiv6+GPvAJ6XmMw+oSovM5JhXksr5c956f1stzGa7OelZqh1HvXVrPBdT2G\n",
       "KmnSgl4RObWCcfWJC/L1vMX36cZZyOvU7ID8Tz38kVdAz2oMTp8Qk9dEJxmll2GjqNje9bn3/nsA\n",
       "05HXv2oes7IsieldPwZMaTOWf69dHLyr5xxLdkH+syz9DiiOvP5VEx35HwP8kVdA33ucETf2CTF5\n",
       "TXSSXlo49OTthW9tmvy7vdB48FpSk9SLW2gieNevAXn63Bz3GTUGwfjw1wH5pH2b3OWfAKqOvP5V\n",
       "Exv5XwP8kVdAz2oMTp8Qk9dEJ2mll9wt+SDtpzZlJcSrNcbnj8KV1wo1qxCJm3uXZEAj+mU8Cxfv\n",
       "qjkvTdnIJ9P3Y4kxSdx5LauJi7xkQADkFdDXHm+wjX1CTF4TnSSXNvBz8ms+fW1c19fr1DxWu00T\n",
       "z7uk5qqSLksaH+8qORf9RUdeq+YCyCugLz1uXTT2CTF5TXQSn11Dm3e9A5k5u0VT1XXdl75q3L1r\n",
       "Sh/T0aSgV0SJL/0wRHTktR3qFZBXQC/cT6YY+4SYvKY5SSOZ29A7Na1bFK0o0k8gs/kPvlvknzcY\n",
       "nmrcvesZyXwaaroFipTRPw+Mj7xILoy8AvrM41tNU5+wAa//Lf7Hx0lGadd8JL9sISA8kkREJDXs\n",
       "6SjXAuVyiLwHGx/5aA24B/IK6FuPDXFTn/CveOM10UlS6X17Sj+VY79rtwziFoHUeHgX0QLVjJJ+\n",
       "eDE+8rEacBfkFdBPHidJTX1CxHk40UkKaZuvoL8MsNZmSIK4RSA1Ht41JK7e1QtyrIn4yMdqwF2Q\n",
       "V0DPaAxWBx2R10QnmaSaTvS6n/E+0pi3573boaV7Tmzko95HGht5BfSFxwlxU58QkddEJ6mkS2cq\n",
       "yzU0x+X11tkceU1eNMdHfrv7ww+AvAJ6RmOwOuiIvCY6SStla8HrkDIp/SxEC14HlZGhTz0Oppj6\n",
       "hIi8JjpJJq0aMvreAnhtT4NgvJcpwOuAMjL0g8fBFFOfEJHXRCfJpWw5eL0Tr3Pw+sC8NslG5HVO\n",
       "5XVqfaJH+Ojxr8V29aC25MjhdWzkxZWRV0A/XoHXKc2XBuuTLfvUbdWI/evB4vVwFOCvgHxgXo9H\n",
       "4TXJSYSUTYDXIevRMQ6HgtdBKyJD352f14LK69H6BLz2ah/6xxwBkAevTdDXHjchdUfhNclJ/vu/\n",
       "/sf6BLz2SP/5r/+iZg2BPHhtgp7RGKwOegNel0Pp4yQYrzFeY7z27aCbITivPcdr8Bq8Bq8POF6D\n",
       "1+A1eA1eg9fgNXgNXoPX4DV4DV6D1+A1eA1eg9fgNXgNXoPX4DV4DV6D1+A1eA1eg9fg9d15je80\n",
       "9+I1vtMEry3A/j/rk5B96u3uVfg3h9exkb/2vQoy9P8+D691cQGITuI3XoPXe43X4HXs8drUJ/zr\n",
       "YvNw8Bq8vguv77S+Bq/Ba/AavD5AXADweosGPCLy4HUw72raILwOpMbdve0GgNfbIA9eH5HXrQji\n",
       "FoHUuHuX3YDj8HqohJgeqa1qn4r7qAmCPNUA8Do6rwnXPVLcIpAad15Trq080HidvyOxTeag7WI7\n",
       "NYGQpxkAXkfndT9pjOG5RSA17rwmGHAgXjefG6U7c4QXsZ2aMMgTDQCvY/O6aApLV0tyi0Bq3HlN\n",
       "MeBAvB4+xg7mG+PFdmrCIE80ALyOzOsmTVKrrN0tAqlx5zXJgAPxevr80eaNT8U91IRBnmgAeB2Z\n",
       "1/1zYTp4EzKQGndekww4EK/fy9Jyyrz2zXzUhEGeaAB4HZfX3fg0pvAlZCA17rymGXAcXteiStN0\n",
       "age/ivuoCYI81YCb8NrzfHj/T2N9QkO4f219TK/f5fD3ArgsimkqyW6xULOSZKpx5/WyHkO2WOoR\n",
       "LFCk8p9/qHC6IZ++O/YxH/jI69Tsgfy6HgGQV0DPaAwF0W55Pjyt+r6fxGsuVadptuJJn1HdYqlm\n",
       "JclQU4pW98PO66UBj7lhl3Aqssd4XX3CMr/2+pjI69TsgfzKgBDIYx5OEbQcDSzf3av4oD/+eZfo\n",
       "nuNfbVIj1GpWkhw1Wa/9watHs2wvggWb8NpS0mdqMW8j85DXqNkD+XU9AiAPXgcYNT6tl+USr59x\n",
       "hhaNYtazUrOSZKlxnw2u6zFUSZMW9IrsMF7X8xbfJDo28jo1OyD/U48AyIPX/t7VfRplPoC58K7X\n",
       "3Io4D/9Vs5RkqHH3rh8DprQZy+Vrl+Jw8/DPsvRRTstHXq8mOvI/BgRAHrz29q4mnxdJH2vW3lVn\n",
       "tG0XSc1Skq7G3bt+DcjT5+Y43YIdeN2+Te7ytuQjr1cTG/lfAwIgD157eldZCfFqjfH5o5C8q6nK\n",
       "hOAWCjVLSaoad++SDGhE39ecikTn9fT9WGIWZSGvVxMXecmAEMiD1wHW1z9p6V3NY83aNC5usZJ0\n",
       "V8NZX6+bq0q6LGnoFdlhvPZCXqvmCsiD11t5V1m8utq6rvvSwS1mSU817t41pY/5X1LQK3IYXhMN\n",
       "1naoV0AevA7tXU3RiiJ92JY/VOWr9xAct5glPdW4e1f1gHYaaroFu/OaibxOzSWQB6/Djxrf0YMk\n",
       "IiKpYU9HuRYcYLxmGRytAfdAHrzezLu6MohbBFLj4V1EC47Da5rBsRpwF+QRF8DyxN27hiSIWwRS\n",
       "4+FdQ+LqXTvFBRjCVPzMyJ87LkA5qEsjfkRwu/tIY9+eh/tI90I+8Hht+makGYLzGvcMR8sGXie4\n",
       "Pxzra/AavAavwWvwGrwGr8Fr8Bq8Bq834TXiX+/Fa8S/Bq8343XYfngDNWL/emzD662BvwLy4DV4\n",
       "DV6D1+A1eA1eg9fgNXgNXoPX4DV4DV6D1+A1eA1eX43Xe8YFAK/taZu4AOC1E/SICwBeY7zGeI15\n",
       "OHgNXoPX4DV4DV6D1+D1ZXjdZ4s0gde78trQGOA1eI3xGuM1eA1eg9fgNXgNXoPX4PWevPb5qM6i\n",
       "x7X4YJqOvb4G8lhfb8jrQN2ucFOzZSYRzrm2GK9DGXwl5DFeg9fgNXgNXoPX4DV4fXBee8QFAK/t\n",
       "aZu4AOC1E/SICwBeY7zGeL0i2n3iAoDX4DXm4Vhfg9fgNXgNXoPX4DV4DV6D1+A1eA1eg9fgNXgN\n",
       "XoPX4DV4DV6D1+A1eA1eg9fgNXgNXoPX4DV4DV6D1+A1eA1eg9f78fpIcQHAaznFiQsAXpOgR1wA\n",
       "8BrjNcZrzMNXTVCKNgSvuWrCZ/qz4CS89jX4SsiD18FHjawPMl4z1WyQ6WvBWcZrT4OvhDx4jXk4\n",
       "5uGYh9+T1443Tgqn5KgmkdcBnpq49diC124li9sjD15fbrz+m0ZivL4t8uA15uHgNebh4DV4DV6D\n",
       "1+A1eA1eg9fgNXgNXoPXOJeiy6TancW5lLsgj7gAlif83v4o51IUu7OxT0dEjgtwlHMpB0AecQEw\n",
       "D8c8HPNwG9EQFwC8Bq+xvgavwWvwGrwGr8Fr8PpwvJ6+f40DeB3Fu5a7s+D1XZCPzOu+m/9qG/A6\n",
       "zqix2J0Fr++CfGRe1/OA3VRXnYfjXoW9eI17FfZbX7ef/1yMV+U17lXYbbzGvQq78Xr4LKvb5LK8\n",
       "Pto8fMfdG+yb3WQeniR59kx5AV6D1+D1dXjd189/qxK8Bq/B6+vwupnmf1ip2IbXW5wPB6+/KfL5\n",
       "cPDaBP3G58OfQ3Xxft01ZOn3v5bTug5N1j9zDfm7C+g1xnvFBcB4jfEa47VvB/2JCzCmf7tmeff3\n",
       "n8fPwzqdqurxfJyS4qGrLw28xjwcvAavDzEPf5J6+AzTzdLs/j3V7t8L8OeBtPTJ5s8E/Pi8Tmj3\n",
       "RG6lxvXeys3qEY/XQP4QvC7G+SX2UCVNOq+cs9fYnX6Pl4712DXpk9dF3/fZ43/dsXkdoJMNqkbs\n",
       "X49IvA4M/BWQ34HXTT7vmk1pM5b5m5rl67+Wf8fQxvoxDx+784zX4DV4fWdeJ1M9L6/TR1vWy+V1\n",
       "Nyx5/WBzWoHX4DV4fQZez6kR38X0vLwe2uqVxjevy2LeYgOvwWvw+hy8fiyvuyxp5uX1U7AuVuN1\n",
       "0o2fLbYCvAavwetT8HpKkzp7MLYsXlV5MfjvINrw3kebzMWB1+A1eH0sXlcPUk5DndT5o0n79MXj\n",
       "pvrMzOvs/YU2eA1eg9en4vVfWjRpWTzX1x21OPAavAavD8rrrnQuDrwGr8Hrg/J6SPbhdVPbn4DX\n",
       "Xt5FxjME8uC1Efq6TuLy2jl5xwXorE/A61jjdQdeH3a8vnFcAPAa83DMw8Hrm/A6Aa/34rV7Y5yc\n",
       "17kYrE+MrshLgdSI0M6xlQFJ0tHzcpAXQN4B+g683qRXFYE65/DetdloshWvEyAPXutTJvlSBl7v\n",
       "xOsMvAavA/G6Fan1CXjtkX8UOTUrB3nw2gV6RmOcnNeVKKxPwGuP/IPIqFk5yIPXLtAzGuPkvJ5E\n",
       "b30CXnvkTwU5/gMHefDaBXpGY5yc172YrE8YKDdtGO9y0uOxn8qsB8O7CkEOw8ZB/li8Doh8wIrL\n",
       "0DMa4+S89qy7kJaIYbzLSY/HrZjMejC8q6cPwhzkFwYMlRDTI7VV7YW8h54gyJPK5/Bahr7nzEVP\n",
       "zetBmpkMnLmK+N2XCMNrNz3heG0rn+FdFX0zjIP8yoC8+szjaz/knfUEQp5QPofXMvQVZ094X157\n",
       "xgXopB3CjrNn+FOffhJNCF676QnHa1v5DO9q6YfIOMgvDWg+3toZRiOxqZ4wyFPK5/Bahr71ONFH\n",
       "iAtwoPG6EcL6hNxWRVOIOgCvHfUE47W1fIZ35YL+PRcDebEaLerP/6deyLvrCYM8pXwOr2XoGY1x\n",
       "8nn4I19jfUJEuUmT1FwqjdeuekLx2l4+w7s4XxowkF8aMId/avPGC3l3PWGQp5TP4bUMvcdnH2fj\n",
       "dSZ9HJgxPhdc1ad/LkwHf1676gnFa3v5dO9qOKsaBvLysrScMr99Mw89YZCnlM/gtQx943Es5Wy8\n",
       "niQPnhyPM3bPm9DNRytIvHbWE4jXhPLp3tVxdiEZyIulB1Rpmk6tb4/qoScI8qTyWSd4W5/GODmv\n",
       "U2mTInU8HtG/esT3K9hy+ENwESaUxOuFnrIopqmk6gnE62U9luFOKRVRwMs4vcdAXiylXh4w5oMf\n",
       "8is9OyC/roc38groWY1xcl779WpLt6j6vp/er2DrNF0c2BtbDq+Xep5u3mdUPWF4vSx/He6UUBHF\n",
       "EMzYgWUgvzCg+kwuX3t9Hsiv9OyA/Kp8f+QV0E8+H7ifjNeltAlbOm3Llu/udT6AOy68qy8Y3rXS\n",
       "81xvNt89TJse8a1Aq/th9651PZr1TKJge1fG2alhIL/IOJ9S+2wjOyO/0rMD8ut6eCOvgD7z2DY7\n",
       "G68flW2sTxLtUcHV7PUpm8u8zjqLkqU7r/Q872778y6rnm+BvfYHsx6rcKeEishMZe3UuCBfz4vy\n",
       "6b3r5or8Wk985H/q4Yu8AvrSZ9vsdLwupM2awmH7Zo4WOB/AXHhXKRi7N796HtZkVD0hZoM/5S/D\n",
       "nVIq8ptGzmF7DvLSsvThCK0X8r96YiP/U74v8gromY1xcl53Um07ev3n+jRzT1h9zFl419/ayO5d\n",
       "kp6kzkqqngDe9Vv+MtwppSJey2sO8n8GtG+Tu/wTUt0ReUlPZOR/y/dFPvTy+nS8TnJhf2Juq7IS\n",
       "4tUa4/NH8eNdf2sjm3cp9DR/0cqsery9Syp/Fe6UUhF3JJn5vwGXvx9LzM3thLxCT1TkpfK9kfdy\n",
       "60vwupcO1/Xk43ba+iy8K/uLZcL+WrB5rM6ahqgn4Pdcc3stw51SKiI1DnPmR0beEBAKyKuhr72m\n",
       "4SeLC/Ca/BXWJ468XoYJdfGupqrrui+JesJ71xzulFyRn5RyZ35k5G28vjvyCuhTv2uczxUX4DU/\n",
       "ye1PeG7RFK0oHk2xDBPq4l35Z6uTpie8d83hTskV+UktewOWiryWj0BeB32bexLtZPPwR0fWWZ+w\n",
       "h4159CBlt8MyurtIEkR05BdlPY1KaotkU4MvirwC+trnsNkpeZ3ICw/qUsRWn58woc7eRdKzpXcR\n",
       "K/IzmXQ4B0FEPpTBF0VeAf3kcyjlnLwuJIsLIgi2+gxJGO8akp29a3AoqnTZqCEiH8rgayKvgL70\n",
       "2zU7Ja9LaYpSEicth7qP9Gi356WMD9m5yOPeQib0To1xcl4/Kl1anxyf1x5pEwNyp0vyaMgf/Z7h\n",
       "fZFXQJ/3yf14nWSF/Ql4zcufOi7oSMiD15uMU1fj9ShpGUnzFvDaMKF2fKlJQh68ZkHv3Bgn53XS\n",
       "V/Yn4DUn/+R8BT0FefCaBb17Y5yc10k22J+A1/T8Xe4+8SMgD15zoPdpjJPzupaqXhPA2Cm6enAU\n",
       "w0dXzzqPNgXyPhbI0Ps0xk689owLsOjTGvsTJGoqvTwJyAeFvuyCEO1McQH+UtvZn1wvNZnPDO0O\n",
       "CCkg8gPtpOmk8/B+sj+5Yio8ankPhBQQFRN4fQ5ej9KSbtQt8hr3S5g9RDcrKnd+AzLmNxm2ZIjy\n",
       "Abw+A69LqaFKbdO17pVoRbRmIBfVuR4wVCFEi/Wq9g130a2LkiHqRANen4DXU2t/Mo9S7puio4jG\n",
       "a0ZRru821QhRYr3qhkV30Y2L2uSFMHi9Oa9r6avfWvsdsDWGrGk9Gq2bZxTVuN2joUaIFOtVZ4ez\n",
       "6NZFyRA1fpePgNdReN229ifzlok1hqx+/8VddNOiqsxpot+qW5gQ61XnHM6imxclQ+QGGngdk9ej\n",
       "NPSMuuGaEENW2+mnvldMbVRU7UIkDUKkWK+aya676OZFyRDV2/c+4LUnr9vM/mSe39pjyCbhRTcu\n",
       "qnK4+UqDECnWaxJadPuiZIiqHLw+Nq8ZnTElhmwSXHTrokb+NEKDEC3WaxJYNEJRMkTjzVbY5+M1\n",
       "4y4oXSzc9R820VUQVoKow3CtjnSrK4sfF1mDkD5mrbWa+jC1wREyRKTVliVDJFrwejte+58PL0Vl\n",
       "fTI7hC4W7jo8q010FYTVLGqM0Egoah1vVVcW+9WSDiF9zForQvowtcERMkSk1ZYlQzTF2gQ9Rjrd\n",
       "+fBByjloZA2xcNd/WETXQVjNoqYIjYSifuKtasrquOsDHUKGmLU2hAxhakMjZIpIqyvLJ3oExus9\n",
       "eF1J9laaGhhi4dq81hD+1ibqMgtPNJFudWVxI6hqEDLFrLVU0xSmNjBCxoi02rJkiEQOXh+X16XI\n",
       "rE8+HbQ+Fq7N9Qzhb0N7rSnSrbasijen1CFkiFlrq6YhTG1ohEwRafVlyRBVt5qIn43XgzSdGtQT\n",
       "LFMsXIvrmcLfBvZaY6RbbVkpb06pQcgUs9ZWTUOY2tC8NkWk1ZclQ5TeaiJ+Nl5P0gGLSXXkwhwL\n",
       "1+h65vC3Qb3WEulWW1bN29xVImSOWWuupjFMbVhemyPS6suSIapvtSN+Nl67xwnmrK9/BtVFENbg\n",
       "6+s14qt4q4bVI+se2jsipIBIiBK8Piiv6ctrjdeWBdv1VkFYt/XadbxVfVmtYFx9ckuEFBCxQAOv\n",
       "o/J6lN7EjoL0Dd4qIuv8B3W4WwRh5Yly0zreqr6snnPc+ZYIKSDq73RG/GS87qXNj567HeJxnjDm\n",
       "UURjWYNgfFB8S4QUELFAA6+j8rqV8rXMg7+d+yKri7g+M5dVc17G3hIhBUT1nd5gn4zXufQSMme+\n",
       "lvT4UCHmLVmDZcnMaJpbIqSAqIx3/w14zeT1zXc5F7WuGXnviJACInGjkymReV0OmjOf/5A+mW+k\n",
       "Lre5Uyf8lzL63PqmCCkgym70rWb5zz96jwg/rfIcr0fplc0osjs6bUvf270pQgqI2httiJ9rHp5K\n",
       "Z4bSm31X+0kTfY/7pggpIJpudJL0XLwupFcVhe3lxcXiAszrFkGOYVGI6pa8liFigAZeR+X1JLXM\n",
       "ZGuri8UF+JKV3BEYELpmXAAtRMWNZi7n4nUl3SBdWe6UvlxcgNlFyYtmI0KXjAugg6i40U7DuXjd\n",
       "Sj7aWnh9ubgA86KZfMbChNA14wLoIEpvdDDlXLzOpJ2PzLwXcsG4AJ+mIbeNCaGLxgXQQDTc6I3f\n",
       "uXidSz6aG3l9xbgAXBc1IXTRuADg9el4nVqfrOa3V4wLwFyQmxC6alwANUQjeH1YXg/WJ4t0zbgA\n",
       "bF4P+ta4aFwA8PpcvBaSjwoTr3VxAdb32NtEV7kJog7DtTougKHP7SCnAAAI9UlEQVSsju6iBoT0\n",
       "cQGs1dTHBQiOkCEugKksGaIOvN6K155xAeRsJkFtXIDVPfZW0VVus2jYuACGsv5N/5jDgJA+LoAV\n",
       "IX1cgOAIGeICmMqSIfr3jb6AOVdcACH+r/XJnwtp4wL83GNvEV3ltogGjQtgKIvFay1C+rgAVoT0\n",
       "cQGCI2SIC2Aq6968Pts8fKQL6uMC/NxjbxFd5baKuszCE3VcAENZNYfXo7YxtHEBbNU0xAUIjZAp\n",
       "LoCpLBmiGry+AK+NcQFW99hbRX9yFwGPLZnjAmjLCsJrY1wAczWNcQHCImSOC6AvC7y+JK/NcQFW\n",
       "99hbRde5TaLcZIkLoC0rCK+NcQHM1TTGBQiKkCUugL4s8PqCvLbFBVjdY28VXeU2iHKTNS6AtqwA\n",
       "vLbEBTBV0xIXICBC1rgA+rLA64uur3/S0mvX99hbB9Vlbp4oM/3ceq8vK8h4fWmEwOtb8fp1nfx8\n",
       "jz3RaZe33vNE2aPT6tZ7Q1kb8voiCIHXt+D16tb7+R57Wlrdes8T5ab1rfeGsjbg9cUQAq9vMl5/\n",
       "RyV3649z6/0m4/WlEAKv78Xrq9x6vx2vr4EQeH0vXl/j1vsteX0NhMDrm83DL99sQAi8PllcADkb\n",
       "UfBqyXTtOxDSQMQA7dIOcry4ABivMV5jvMY8HLwGr8Fr8Bq8Bq/Ba/D6MM3WZ4s0ASHwGrzGeA1e\n",
       "g9fgNXgNXoPX4DV4DV6D1+A11tfgNXgNXmO8Bq/Ba/AavAavwWvwGrwGr20palyAC6cwcQFuBhHi\n",
       "ArzTvy40XtvjbmwhullZG4zXF0MI4/U95uGZe/j1rI/XHsSytpiHXwsh8Brr613Gk9uuryON7uA1\n",
       "eL3HeHJbXkca3cFr8PpSzQaEwGvwGrwGr8Fr8Bq8Bq/Ba/AavAavwevNeB397ey2Uld4f72xFHh9\n",
       "i/E6+tvZTaUu8f56WynwGvNwzMMxDwevwWvwGrwGrwmpqR2zEQWv1251YGjvAFFdw0G26kZ043VH\n",
       "G3s6N8Fbj9ddAogwXmMeHjRtcxr6SvPwjc6Lg9fg9ZZpk9PQNT1y/E0RUkDEAO0KvE4OwOtckGKB\n",
       "ydmIglf7uriju+hNEVJA1N2I191NeH2xr4s34PXVvr8Grw/A64zmfHK2TAzJDRPDRW+KEHh9BF63\n",
       "IqWIy9mIgldLo8ipWW+KkAIiBmiXdpCIvK5EQRGXsxEFr5YGkVGz3hQhBUQM0C7tIBF5PQnSqknO\n",
       "RhS8WkrpO1U3RUgBURpxe+/IDhKR172YKOJyNqLg1VIhKmrWmyKkgIgB2qUdJCKviZDfu61WZO03\n",
       "6AIuDlF/o5mLqa4ReT3QpkhytuFGc6vVopm8GXZThBQQVTfaQTTVNSKvO9pWpZytu9Ee5yK19ENk\n",
       "N0VIAVF7oy/bTHWNyOuG9mpRztbc6J3kIuWC/j3XPRFSQMQA7dIOEpHXidD9B1s2ouDFEucLhnsi\n",
       "pIDoRp99GOsak9cZ7WtCOZtVsHFfXjYRV6asshrO3Dq75YeaMkTNjRYkxrrG5PVEO+0oZ7MKtu61\n",
       "aCPOYFlldZy9MANCQyXE9EhtxZ6heogmMcqSIeputIForGtMXqe0dxByNpvg6L68HCOuTHllpZwz\n",
       "ZEaE8urDfT47PUQjlCVDlN7o4J2xrjF5TexM+b1wPzkvLz1ENy5r4uzsmhBqPq9DOv6rXQ/RJEJZ\n",
       "MkTTjbbDjXWNyeuSNl7J2SyCRVO4jiceoluXlXF2gErjpz315//Zr3Y9RJMIZckQZTfaNjPWNSav\n",
       "H5Y0NIMbjmCTPqYkbt20h+jWZZW8HSADQtOniducPTPxEE22L0uGqLzRtpm5rlF5XdA2zuRsRsH+\n",
       "uXJ1+/7YQ3TrskbekW8DQu91azllrstrJ9EIZckQjTc6J2+ua1RedzTY5WwmwW58Fum0XeIhunlZ\n",
       "zJWiHqFaVGmaTu3g0pLOojHKwvL6ILxOclppcjaDYP/ac3l7dTn8bR+Vk7WwhWhZFNNU0kVdhuuv\n",
       "mUOWWs3MmSZo86fv5hjzgY3QSnRjhNZmLhFiQJTf6Nidua5xed3TNo7kbHrBtOr7fnp/z1Sn6eJL\n",
       "89G2+74UfdKuzyii30v15B/Esh5t0tnMrLkzSi1CVT7P1GsuQivRjRFalbVGiAxRfaNpuKWucXnd\n",
       "0SaicjatYPnu1+ebI8aF1/aWslaiz/NazZcaRtHvpXryD1pZj4ISm5ns7TwtQnP7f/aZOQitRDdG\n",
       "aG3mCiEyROmNpuGWusbldZLT9ivlbDrBj79kuczrrLPPjL+iQ7n02iz0qcy1mUOVNGlhLKtlb+xq\n",
       "EKrnDbXpfdSUgdBadFuEfsxcIUSGqL3RV22WukbmdUo7xyxn0wh2H2+YT2guvLa01OxX9DEFzIii\n",
       "7PRT1pQ2Y/l5naMuy2E3T4PQZ9360NhyEfoV3RKhn7KWCJEhqm902MxW18i8TogrIDmbUrCZO63q\n",
       "U+bCay2LR0k0qbOSujJnpt+y8vS5OW4qa3I4X6GG9tOvd3lbMhGSRDdE6LesJUJkiKYbHUqx1TU2\n",
       "rwsa9nI2hWBZCfFyg/H5o/jxWuMKUCHaVCV13clLUlmN6PvaWFbpsgGkgnb6fk0xr8aoCClEN0NI\n",
       "KmuFEBWi8ka7Zta6xuZ1SZsrydlogguvzTpW7908lsBN4yTKTY/FY5clprJSl0PrV0WIClF6o2/Q\n",
       "rXWNzeuHRSXN8NJF8O215dPBRcI509xUdV33pYsof3RKHzPapDCUlfdujX01hFgQ5Te6a9la1+i8\n",
       "TjLaFE7OZhdsilYUDx+o88d0rk85W7a5eCYnUXaqHvhMQ60vK3VcKF4OIQ5E6Y1W1/a6xuf1SJsu\n",
       "ydlGxjzL4z1mzFego2ZC7Xhw84IIkSEqbxSijFDX+LxOetpd13K2nnxJtsfqr4vY62vKmpwvA78c\n",
       "QnSIphvdoE6o6w68TjJazypny6hdskfXHbPXV5fV5e7EuRpCZIh8QDtbotR1E16/kn4jvqa1gZyt\n",
       "vkXj+RzlugdCCoiyG93baKlrJj47IaFn/8MrGQrvaMtAOVt3gzcZpZeH3gEhBUTljWhtq+ubfkPy\n",
       "/wHdwCjQMxMqMwAAAABJRU5ErkJggg==\n",
       "\" style=\"display:inline;vertical-align:middle;\" /></a><br>"
      ],
      "text/plain": [
       "qcircuit_eq_def: forall_{k, l in NaturalPos} [forall_{A_{1, 1}, A_{1, 2}, ..., A_{1, l}, A_{2, 1}, A_{2, 2}, ..., A_{2, l}, ......, A_{k, 1}, A_{k, 2}, ..., A_{k, l}, B_{1, 1}, B_{1, 2}, ..., B_{1, l}, B_{2, 1}, B_{2, 2}, ..., B_{2, l}, ......, B_{k, 1}, B_{k, 2}, ..., B_{k, l}} ((QCIRCUIT(VertExprArray((A_{1, 1}, A_{1, 2}, ..., A_{1, l}), (A_{2, 1}, A_{2, 2}, ..., A_{2, l}), ..., (A_{k, 1}, A_{k, 2}, ..., A_{k, l}))) = QCIRCUIT(VertExprArray((B_{1, 1}, B_{1, 2}, ..., B_{1, l}), (B_{2, 1}, B_{2, 2}, ..., B_{2, l}), ..., (B_{k, 1}, B_{k, 2}, ..., B_{k, l})))) =  \\\\ (VertExprArray((A_{1, 1}, A_{1, 2}, ..., A_{1, l}), (A_{2, 1}, A_{2, 2}, ..., A_{2, l}), ..., (A_{k, 1}, A_{k, 2}, ..., A_{k, l})) = VertExprArray((B_{1, 1}, B_{1, 2}, ..., B_{1, l}), (B_{2, 1}, B_{2, 2}, ..., B_{2, l}), ..., (B_{k, 1}, B_{k, 2}, ..., B_{k, l}))))]"
      ]
     },
     "execution_count": 3,
     "metadata": {},
     "output_type": "execute_result"
    }
   ],
   "source": [
    "qcircuit_eq_def = Forall(\n",
    "    (k, l), Forall(\n",
    "        (A11_to_Akl, B11_to_Bkl),\n",
    "        Equals(Equals(circuit_Akl, circuit_Bkl),\n",
    "               Equals(A11_to_Akl_varray, B11_to_Bkl_varray))\n",
    "        .with_wrap_after_operator()).with_wrapping(),\n",
    "    domain=NaturalPos)"
   ]
  },
  {
   "cell_type": "markdown",
   "metadata": {},
   "source": [
    "Quantum circuit inputs/outputs are equal only when their output states are equal"
   ]
  },
  {
   "cell_type": "code",
   "execution_count": 4,
   "metadata": {},
   "outputs": [
    {
     "data": {
      "text/html": [
       "<strong id=\"qcircuit_input_eq_def\">qcircuit_input_eq_def:</strong> <a class=\"ProveItLink\" href=\"../__pv_it/axioms/164d0483ec7898d6af1554d8476daacb346a379b0/axiom_expr.ipynb\"><img src=\"data:image/png;base64,iVBORw0KGgoAAAANSUhEUgAAAZMAAAAZBAMAAAAGbt5YAAAAMFBMVEX///+IiIgiIiIQEBB2dnbu\n",
       "7u5ERETMzMzc3NwyMjK6urpmZmaYmJiqqqpUVFQAAAB6qHgnAAAAAXRSTlMAQObYZgAAAAlwSFlz\n",
       "AAAOxAAADsQBlSsOGwAAA45JREFUWMPNWE1IVFEUPjPOmx+dGcfaSg6zCRLDon8yZuGiTfZqIbSp\n",
       "JPqBCoeClr0BIXDTCGJERAoSbgqHEKOCmgoEa+GQbaKgoYUhkjNClmY53Z/3HH33XOdm+ejAe5e5\n",
       "533vnfOde849dwBWlWAfub0Cp6RqHYHvyRVKO+aK/+S6AbUucjsGzslzbDJZxg0pcLl4M+R2wUFX\n",
       "3Lo458qyoVOGqYyYwBz99UHyVAd1utFBV1w5ce4tH3rFRG5fnJ48C1BrAh/TyZuSNw/RjIpLP9z5\n",
       "z13RZvFFTjK2KD5dQTIkn4CAzoFXV0uaH+Sq7pN+uHeNBo8Up6dvJFDVbbE4ZfiQF1MmRZbWYBqC\n",
       "aQ6kLnmy+Cd9lCNDl1mEEaUmuwDC31HNsEg9Hw4eFn0fI1NjxJ2dHBgkTgdkKzdKbhvkxTyfXGPp\n",
       "nCHJuoCqNgoz7zgkUifynSdXd5KHkgK3x2I7JJ8M02U6KbUII0pJgiQiwRlUNahj+Ur3wI8ZLLjH\n",
       "N5OxxQQ+BDjNFOJC8tIcOiPlFiOKy4MYla0yZLhAVsIeVGUwdqoYPpYrZc99MOL2N/u+1Wxi2lET\n",
       "eB38DKLtZvorC83DFtkBqrgjbxYQopSEVB7tEx7RlFBkGtg9DSmhTrvmAMapCeMm0Kt7GNzziwc/\n",
       "Ci5rJ3HT0lAvM8giqrgkBUVXjLaaScZCdQlrqk4IruxjVp9/khfKrJfY6aHVwzCBoQjP+oFtPPik\n",
       "uBWUooIRpSZ1SQjtx1WpBOrKEeJ21K6pzpkp128Bu3j/EuE2V2ThaEbFFZQotVw5RS5JyTCS9lxp\n",
       "4LSBu9H+ZoPYGaZb3xsLeKiHWQaPOC21rz8vpSc1dUJiD0qUmiwC3w+UKlgbbbPojlFAggsGLbIj\n",
       "FrCDOT9glvQXoE0tEd+IVnprfZlE/bH4ftI9AW8iXgozLWYv6J2za7qJj3t1s14zYJiFeqg5zwiZ\n",
       "WlZFKmdRnrgOJUqtZyRG+eZx3VNh5hJAa7EHQu3ztmZwgrY/bDvYsgLosjKuiRifWJ5yFX3Splkk\n",
       "SkkCJJj9PaDYg7nL7sP+6ArgPbLys1oc/LOg1St0xjhRShKmvflF5c44WPYQSxvOErDqAGjPbvma\n",
       "YPRr83BpD79MV7aT55UgUt7PlQNdw4AhO4HUqy9OniKRBrW1HOgcBrz7P57t/ZEyVSSJATPYYTQU\n",
       "d8yTdfzHxfH/wfS/AP4G03wIoDoMrpEAAAAASUVORK5CYII=\n",
       "\" style=\"display:inline;vertical-align:middle;\" /></a><br>"
      ],
      "text/plain": [
       "qcircuit_input_eq_def: forall_{A, B} (([INPUT]{state:A} = [INPUT]{state:B}) = (A = B))"
      ]
     },
     "execution_count": 4,
     "metadata": {},
     "output_type": "execute_result"
    }
   ],
   "source": [
    "qcircuit_input_eq_def = Forall(\n",
    "    (A, B), Equals(Equals(Input(A), Input(B)),\n",
    "                   Equals(A, B)))"
   ]
  },
  {
   "cell_type": "code",
   "execution_count": 5,
   "metadata": {},
   "outputs": [
    {
     "data": {
      "text/html": [
       "<strong id=\"qcircuit_output_eq_def\">qcircuit_output_eq_def:</strong> <a class=\"ProveItLink\" href=\"../__pv_it/axioms/28cf1f5c54fc30793d1978bc8bdee18d662f82780/axiom_expr.ipynb\"><img src=\"data:image/png;base64,iVBORw0KGgoAAAANSUhEUgAAAZMAAAAZBAMAAAAGbt5YAAAAMFBMVEX///+IiIgiIiIQEBB2dnbu\n",
       "7u5ERETMzMzc3NwyMjK6urpmZmaYmJiqqqpUVFQAAAB6qHgnAAAAAXRSTlMAQObYZgAAAAlwSFlz\n",
       "AAAOxAAADsQBlSsOGwAAA4ZJREFUWMPNWEtoE0EY/pNm82g2bVTwVGyIB8FSqeIDhUoOOXixrh4K\n",
       "Xnwc1IJCgoJHE6kIXmyhVkRECyK9KA1SKlqoUUGoHhqsCKLQniqlmFRpq/XROI+dSbsz292udvGH\n",
       "3U125tv9v3/+1yzAsqL2oNMrcEvCqwj8gI5IzjUqwWOrBlQ60ekwuCfPZDezFjRMgYvFn0enMy5S\n",
       "8WriPU+BXK6YYaqjOnAc//toMqsdk25ykYpnXLz3ll7uiIGcWihOngKo04FP8M0bJk/uxxGVsOOr\n",
       "nf+GijIrd3IUsWVxdhWKkFIaQhoFXlguaH6go7bHhgqhaWeqM8NyuSUmpzy9lMSQ6UCu1ZcDNUeB\n",
       "mJKvIH9RANsoo9lQacwhFWZYLgPiDHrZdyAtDI2gWyOIzg4KVBHpkJnnxtBprR2Nhr47pKIblss6\n",
       "YcZ76sHRetHeJXR0ZelSYuC2eHy7yXtqsJtO2lDId+mbQyrMsEz6NFm84ho4lhfAOwGObELXFh34\n",
       "COAEGRAdyY9j6KQNhS56fi/5/zCOZYsNJDMskwxxozDBx8cr0fMAMgnjkwNzazaQ0WEdeBWCBKLs\n",
       "IuPnfyYHmFeG8MBtGwrlIr8crgozLHc4Ick00jdAh5CnPcirR/FajepAv+YjcB81rBoDD6skXuzE\n",
       "DeL7y1xotFcXAjM2VTdAuWGZHBWo7CFanx4sCWnWj/T0Yc/O6MBIlEZ971YaHyi5Ta9wVcIQXHBY\n",
       "Eplh+aqkpVQOoqIQM47UIvXUL+jHXQbspP1LlOpcVYBD+RVSWT84NOcsVrhheaxkjbHSSP0LvE3G\n",
       "J2eQnjW49L1hwP3dxD7wmJql7vUnnsHwmk5Yl2iUgb46WxVuWPMMdhx7cF5WheuR9hmcZF8yYDsh\n",
       "36un9OegTPHlb5JmetlmYaMzKtywTF4IU1r0XtAvlK4uxHG3pudrAqwh7tmfLBGDTC3KItWzUjsZ\n",
       "5b602bMl3LC81gpTzgK0lrshkpo3NIMT5WLxOqmbm5cAPSzimpHy6cUhV2XVg5HWOZV1RIUb1rwH\n",
       "86Yte9nYEiCybG1BSUBwFpSGFXXGSmpeg3fla06YVAxr3hmrlptY3HBWgOG9oDy9GWiG4ZnkQOXZ\n",
       "53Dqd3O/okr2K21WoMsyYMTYhGFWn93cRUr8tNUK1CYD3vsf9/bBqEWZzcqAedlmNJJwjckqfnFx\n",
       "/TuY9hfAP7pfC8rOYS89AAAAAElFTkSuQmCC\n",
       "\" style=\"display:inline;vertical-align:middle;\" /></a><br>"
      ],
      "text/plain": [
       "qcircuit_output_eq_def: forall_{A, B} (([OUTPUT]{state:A} = [OUTPUT]{state:B}) = (A = B))"
      ]
     },
     "execution_count": 5,
     "metadata": {},
     "output_type": "execute_result"
    }
   ],
   "source": [
    "qcircuit_output_eq_def = Forall(\n",
    "    (A, B), Equals(Equals(Output(A), Output(B)),\n",
    "                   Equals(A, B)))"
   ]
  },
  {
   "cell_type": "code",
   "execution_count": 6,
   "metadata": {},
   "outputs": [
    {
     "data": {
      "text/html": [
       "<strong id=\"qcircuit_input_part_eq_def\">qcircuit_input_part_eq_def:</strong> <a class=\"ProveItLink\" href=\"../__pv_it/axioms/23d26dadccd987a38cd1256f1d577d6a33a257200/axiom_expr.ipynb\"><img src=\"data:image/png;base64,iVBORw0KGgoAAAANSUhEUgAAAuEAAAAmBAMAAACYHFiEAAAAMFBMVEX///+IiIgiIiIQEBB2dnbu\n",
       "7u5ERETMzMzc3NwyMjK6urpmZmaYmJiqqqpUVFQAAAB6qHgnAAAAAXRSTlMAQObYZgAAAAlwSFlz\n",
       "AAAOxAAADsQBlSsOGwAAB2tJREFUaN7dW2tsFFUUPtud2Xns7HYbhfgCmmICBEMqUUER0phqgIos\n",
       "hZgYAi1RasIjrfSHEhN2K4pBA21S25howqr8VNkICQkLZYEEgpB0kATUiF39AYLQpVLYPijrfcxM\n",
       "S2ems+zc8GNusjvTmfvNuee755773TtbAKcSyufTUFg5Qr6DKni18B3ukMF8PupcN5Qp9KlBWrML\n",
       "vFu2RF0i/UwZP02+lTYPM65kXCKZMi48Tw7NUQ8zDptdIpkyLlWRwxdeJhxWRt0hmTLeQx4Wuu1p\n",
       "xoMZd0imjD9NvkuqPM24OOAOyZJxgQZ3zNNpHOAdd0iWjIfryeGytwmHE1bh64CJjyJZMl5K10l3\n",
       "7Wvs9ALjrRbruymUd1tZ/M0oEjFO+PxjYsbD5Oiw8oyRnhQmyHN7JsS/OdeuAalqJVGUBG6813v1\n",
       "XcY2S5LmynTqkm6a7pzM9/Z2NoEvbSAR44fwH19OzHgQG5fiE/vXTb28OcF2gfV1far9yga3DvjG\n",
       "4uLRjxJdtomtzaA5kt/StJqF6y+gbJsD6DCQiPFteDzUT8y4gAfCDgf3rtJsbr/iDGYt+0zUg2bE\n",
       "BpbUV7MPngEiAPuSbG36zLwepocu8/AW+wDkYYAzBhIxLqFUzqkOeRz30TIH9xbRsLLP+ouXW4ab\n",
       "T/NethHypU16Inzg0o2g3RG2NkM506VK8s19bL6joEtKnzZfEiQ6U1COkZxmzrPo6LRd0k/baivH\n",
       "xcg0y46Nad5zlda4faiB7xfHeBZ92uNsbQqmYRGizLT4zAMmjMJamo8+aR2JuZ9bUfGcE+P+iorp\n",
       "Tiubu2MVi9VIhR5yT25/PXUddX1ZdVRun7JkV3bODTrxZEI1RDqtLjsEWxe0TNWCs66/qVhdgbLo\n",
       "2hmMbfImMRakzCRDd60mEv5v9CguoyMx4wcB1jsxHmyCgIOQFEdsxRMtP0CMNs3/EtQm4XwczST+\n",
       "I61pffKvS1/aTkJhJgQiMEfVVY+Sz/9j14kVpNglMuFO2dSvgbFN6CPfPxHLc0i30UBShX5Tm2Lr\n",
       "yq7iu3Q/tU9jfDeIGfvJnDKOauymPWy/5KSMx2wZT0JrRgssCA0h7+UBKCnnDbnV85m6NU63CYQc\n",
       "vD2q7Fc03iouxH2Iv/Np1jb7TXpRpUNYvGeqOy0OoZcxh5U6EjMeiHJI/B3XxpM4eymcyGB+7lsB\n",
       "rYeldAOMjDah8UAN1bl7y45p408eohnQTjn7NqayVBJJSeDR/M3vHcBEGN7vPwVGn/VDgx5MuBwt\n",
       "So5DAPnJ5VjbHDalDlJzcqrrjqku6kPAekG4qSMx46GIpMPeu7wB/uSiwaiJ8XPaxLmchvBxgEfI\n",
       "vQjECozxFSjHl+vewx3guy4NkFPd+1kp2nc9CXzb8F7Bgx8/tDRvlAIZL81QpcDWpjXjPIrY/0wt\n",
       "wFGPxZJcOZZxaDuG8y8eGAfx8jOS5MDEuKSQMSA306Hwr7bg8QNdjxbAOPazcky8nU+gpIm31EuI\n",
       "PeBH5JzxhOFR79fixkWLyuMxlFHCQ4xtmvM4ySpB9Jk+vk0CTlJZ1CGh8rF5HJZhtX1SfBSewpcv\n",
       "/t7CQU1qdioxlnHuN9IAn0S9Wwj8M5oy0XdxRJoCW220ipw2lsE4p+aQg/LAB9h7iXqv3OZHfKQX\n",
       "kzhDGd7/gj4HisvjKItCrI21TZMiCeAo/N5qFwNPJMIgNlSvIwnj2zGLf+1a+Qm5fJFbs9cc4yJd\n",
       "30ToGlfsO9tFhqMvv8lQTbSxdRHrdm7HTaNKAAnU2irkvS/3Kx7dXBtHF6t8jpwI83AYdhrBVEW1\n",
       "VRGlHXX0i1HGNkWT6sZVRTx8G8dLfwld/a5DF5CirschjMl7VhVkEp4XITnZzDhcIYHa5COJQSmH\n",
       "tbTCmqNGyxaAFi2WW0b5Dgg1DhIFJF0vuwawbcqkV57ILkIjsvdVEikqPDmJ1P28+hpsu3Xlwi3y\n",
       "6OSPXTeKI/wy3kbSkhw7m8KQ6Uo58I2DUbiQH/fCMYx30sjrzZKEjjR2a8Xhg6B0NjRsRoyvkiwY\n",
       "p3mz+g2yLA4nQSSGoyAb2wyd1LV6Ryak5MPfY2Vn0+Kt4gxH0EcG0mBcqf9WFKpojMvnTHpcKxEQ\n",
       "yUzjV4FMObI6ZhNsP+2USo8zzpWbLp1xBB02kAbj4cgWji49fwaYavNGAqedEVhF5nG0gluFX5aG\n",
       "jdzVHaWTkaP5kszDZ5ydzYD5SQGHfWwtLAnSYDwQD5+CHVirz4obgm884/szsHow0awqe6prUHpq\n",
       "VoMfHlhs1CMCFgkupybL2UXxh004Q5sWG0e8UyalXUKQ9791419r2GC9r3JfUU0n9LF04G4Eb5d9\n",
       "Fl3X4oB5bBRZzHtOOTr+RJsKaAY/4XHGl7hDFsO4YjrRRgiVTXUJbzO+0B2S6S+EaO9zbZ4m3Ffp\n",
       "DsmUcT/dFZrnacb9qjskU8a1nzGf9jTjj7tEsv39OH3fIqU9TLg43yWSLeO1RDjxMz3MeK3qElkQ\n",
       "4wX/H5BI/0tmp4d/67nJHbKw/wN6gPIpJb7Js4TzCffI/wFb4cD2tpDvGgAAAABJRU5ErkJggg==\n",
       "\" style=\"display:inline;vertical-align:middle;\" /></a><br>"
      ],
      "text/plain": [
       "qcircuit_input_part_eq_def: forall_{k in NaturalPos} [forall_{A, B, S} (([MULTI_QUBIT_ELEM]{element:[INPUT]{state:A, part:k}, targets:S} = [MULTI_QUBIT_ELEM]{element:[INPUT]{state:B, part:k}, targets:S}) = (A = B))]"
      ]
     },
     "execution_count": 6,
     "metadata": {},
     "output_type": "execute_result"
    }
   ],
   "source": [
    "qcircuit_input_part_eq_def = Forall(\n",
    "    k, Forall(\n",
    "        (A, B, S), Equals(Equals(MultiQubitElem(Input(A, part=k),\n",
    "                                                targets=S),\n",
    "                                 MultiQubitElem(Input(B, part=k),\n",
    "                                                targets=S)),\n",
    "                          Equals(A, B))),\n",
    "    domain=NaturalPos)"
   ]
  },
  {
   "cell_type": "code",
   "execution_count": 7,
   "metadata": {},
   "outputs": [
    {
     "data": {
      "text/html": [
       "<strong id=\"qcircuit_output_part_eq_def\">qcircuit_output_part_eq_def:</strong> <a class=\"ProveItLink\" href=\"../__pv_it/axioms/e83897a682c84c2f4ac3c792bdf9c13e98501ac70/axiom_expr.ipynb\"><img src=\"data:image/png;base64,iVBORw0KGgoAAAANSUhEUgAAAuEAAAAmBAMAAACYHFiEAAAAMFBMVEX///+IiIgiIiIQEBB2dnbu\n",
       "7u5ERETMzMzc3NwyMjK6urpmZmaYmJiqqqpUVFQAAAB6qHgnAAAAAXRSTlMAQObYZgAAAAlwSFlz\n",
       "AAAOxAAADsQBlSsOGwAABxVJREFUaN7dW2tsFFUUPtvd2Znd2dkukRANCrWQqKkhi6I28sgm4gMI\n",
       "ZQLERAnuEgQThHSkPw128AExRmjCIyQYGJU/JEoXqalarC0kGB5Jh4QIKoFiDNoQSstDXi3rfcxM\n",
       "dzuznenMROLcZHfuduebc893zz2Pe7cAdk0oFDrAWfuRvPMqBLUx27wh+UJBtL9X6Hb6VJ7e2Q7B\n",
       "bWtFj8iwr4wfJe+JpgAznuj2iPSVcfYZcmkQA8w4rPGI9JXxWIZctgaZcFgkekP6yvh58jDhRqAZ\n",
       "57u9IX1lfDJ5r8gEmnHuljekn4yz1LgbA+3GAd70hvST8WSOXC4Gm3A4bGW+Nhh5COkn45W0Thpw\n",
       "tML+vxnkZov67hEbpT4fQiLGCZ9nR2Y8Sa42lWcjmUnWkZ+L9Y1Yny2vKvPN7y2ZY654OlLo7d0u\n",
       "+SGzIm9mKFNOKU1sqMNAIsZ/wB92jMw4r+AHyiMr1UUT/T5HaY31XRF9QvLWsGgKXu1zZ5rPIrd3\n",
       "0w+ZvNmSXyuvlCZ2m4FEjL+H10NuZMZZvBA22OjUQ725I3/Rbr0SPtEdVJmdmTbXFS3XDxC/64fM\n",
       "kJnXg2WV0sUeN5CI8Rhy5RHVxo/jOZpvo9QsWlM58fqRDy3NDcZr1+Yy4QWh4il3NTaCJvr9kCmY\n",
       "h54uq5QulsRLgkS9BPIxMbvIeQJd7YzrOjUVJ+n4+tCgZX6pG+EL1rA4isqs5IrxJLKvWK0fMlnT\n",
       "0IWmskrpYmMdOhJz/1R19TQ7xsPV1ZPsqBwozlhGbnmB3rx32vF2dH/n2Bdh79RTO85d7aWLbRec\n",
       "+paEs/3jFXbLd2MuaNGt8LLbDCOcA+YPyQ+ZjCkZ4zMlSlmJjXTrSMx4K8AKO8Z5CaI2iSQ3WDZ5\n",
       "MtmNytIFAU8rTA0ItfA9wPQzA1CjKyWcmYE7a2VYBhWXtTQIBefCvZLwzVeT5sCRNS4b09Phi0yg\n",
       "vukbInkKibkdxUqVjEkXSyNBv8b4JuAshpwpYRzdsYkOrHzJSRlvdMA4D9w90AwLzitI+2YZqkHU\n",
       "tRdufc3u0PYNGqVo2lg4zLhC2p2NT5RBmOGPzOvDn12hliplIVZI60jMeFSMoOTvkBYduJq5cBhx\n",
       "nC+tgFbAXLoBRlYmW98y7y3yec+YTs3Jxe/QAKTYqz+urf0f2tsJkEWSXl8gYyJ07fkZkjGJlZlo\n",
       "DiqN0MXfccf4cvRaIPki05TxhJVSpSzEsn06EjMupGI67J2Lq+BcRORFE+MntcC5gJrwIYAHyHcp\n",
       "aLS38YLRiGAG6XLVYLwyB0sun5dxV9e+YmcrlXwHfz2kPbI6ZtBhATwkk3zG5teV8kWmNeNFShU1\n",
       "XWw8Xcw4NHVi/4snEws9m8rjomAY47EEGUC8gY7jklbwhIHWo6PyKjx6TSqyceF57DS3Eu2JM8uq\n",
       "zZJhb3lDewa7txuu/DiLg9YVxQ+ZZj9OvIqhVPGYDLFCVbEfh/k42z7CjYWH8Z9P/7Y+AvPaatqU\n",
       "YsYjv5LAGYpR7WYC86SWmei7OByN1Jvtc5Wv0Gv3kE+VKvPQvFHeSsgg2neJWZXoOx17KUN7PGze\n",
       "3V5wCBUn7G1/ZA5YVKUlSlmITeR0JGH8A8zihU8XfUT+fDqydI/Zxjla36Rojcv1n2gnFhEqrDay\n",
       "Jjr3WdsKhcMrrJ7G/y0yMxmZFExcJ+PVPYdq3wNZiXQaJGSGMV17HgW1OnduPIZkfqmdw3uUyZn8\n",
       "Gk79ipWyEEsmjdPzcUhi8qaqbJyY52nIjzMzDn8RpyKFiENKVMEb9IalPxlLejp1ankb5Zn62yL8\n",
       "UqBnc7s6JyjAXji5+NF91y6jkfxJVtIaCO0nHa6lTmGvzFpXT+abj1/qdffDjGT9vd4e/YTSo0zW\n",
       "FLvZqlKlLMRWKDrS2K3l7rZCYvvKlWsQ44tjFoxTvzm7jvi0ZB44IliEuLHNsJ1Oa240VOy8D9ut\n",
       "HmVanCo+Zgt630AajCdyX3Bshtp4/KQpH9daCjiydxBWIX6TZP1Fm2AH6KSkA854xLyre9wWdNBA\n",
       "GownU2sjtPQ8BjChzIkEdjuDsBiFRxEW5lGH74ak4bu6yLMSozpYnnIfGPcoM2rOjKKyXejKGUiD\n",
       "8aic/Bk24Fz9CdlI+IYzfqAbltxWGtTE7tnzkHtqUPl3W14x7ssSf+c0YSZt37W//3PCvcq02Dhi\n",
       "7DwpnRKCLD11Y15aucp6X6WkqaYOfSx1/W9DsFuzhUGvt8E8OIR0c84ZF4d3tFBAPfjhgDM+xxvS\n",
       "DeMJU0dbITRtyirBZnymN6SvvxCisx9pCjThobQ3pK+Mh+nu23OBZjysekP6yrh2AHs00Iw/5BHp\n",
       "7+/HP6NVZ0eACedqPSL9ZXwhSZyYxwPM+ELVI9IR447/D4iju3MfB/i3nqu9IZ39H9Ao2kZKvBRY\n",
       "whnFO/Jf2/Go8L7QFzQAAAAASUVORK5CYII=\n",
       "\" style=\"display:inline;vertical-align:middle;\" /></a><br>"
      ],
      "text/plain": [
       "qcircuit_output_part_eq_def: forall_{k in NaturalPos} [forall_{A, B, S} (([MULTI_QUBIT_ELEM]{element:[OUTPUT]{state:A, part:k}, targets:S} = [MULTI_QUBIT_ELEM]{element:[OUTPUT]{state:B, part:k}, targets:S}) = (A = B))]"
      ]
     },
     "execution_count": 7,
     "metadata": {},
     "output_type": "execute_result"
    }
   ],
   "source": [
    "qcircuit_output_part_eq_def = Forall(\n",
    "    k, Forall(\n",
    "        (A, B, S), Equals(Equals(MultiQubitElem(Output(A, part=k),\n",
    "                                                targets=S),\n",
    "                                 MultiQubitElem(Output(B, part=k),\n",
    "                                                targets=S)),\n",
    "                          Equals(A, B))),\n",
    "    domain=NaturalPos)"
   ]
  },
  {
   "cell_type": "code",
   "execution_count": 8,
   "metadata": {},
   "outputs": [
    {
     "name": "stdout",
     "output_type": "stream",
     "text": [
      "These axioms may now be imported from the theory package: proveit.physics.quantum.circuits\n"
     ]
    }
   ],
   "source": [
    "%end axioms"
   ]
  },
  {
   "cell_type": "code",
   "execution_count": null,
   "metadata": {},
   "outputs": [],
   "source": []
  }
 ],
 "metadata": {
  "kernelspec": {
   "display_name": "Python 3",
   "language": "python",
   "name": "python3"
  },
  "language_info": {
   "codemirror_mode": {
    "name": "ipython",
    "version": 3
   },
   "file_extension": ".py",
   "mimetype": "text/x-python",
   "name": "python",
   "nbconvert_exporter": "python",
   "pygments_lexer": "ipython3",
   "version": "3.7.3"
  }
 },
 "nbformat": 4,
 "nbformat_minor": 1
}
