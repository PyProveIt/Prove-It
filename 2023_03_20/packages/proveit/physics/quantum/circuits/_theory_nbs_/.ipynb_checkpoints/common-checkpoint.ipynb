{
 "cells": [
  {
   "cell_type": "markdown",
   "metadata": {},
   "source": [
    "Common expressions for the theory of <a class=\"ProveItLink\" href=\"theory.ipynb\">proveit.physics.quantum.circuits</a>\n",
    "========"
   ]
  },
  {
   "cell_type": "code",
   "execution_count": 1,
   "metadata": {},
   "outputs": [],
   "source": [
    "import proveit\n",
    "# Prepare this notebook for defining the common expressions of a theory:\n",
    "%common_expressions_notebook # Keep this at the top following 'import proveit'.\n",
    "\n",
    "from proveit import (Function, Variable, IndexedVar, Conditional, ConditionalSet,\n",
    "                     ExprRange, ExprTuple, VertExprArray, var_range)\n",
    "from proveit import a, b, i, j, k, l, m, n, p, t, A, B, C, D, N, P, Q, R, S, U, pi\n",
    "from proveit.core_expr_types import (\n",
    "    a_i, b_i, c_i, i_k, j_k, n_k, n_1_to_m, A_k, A_1_to_m,\n",
    "    U_1_to_m, U_1_to_i, V_1_to_j)\n",
    "from proveit.core_expr_types.expr_arrays import (\n",
    "    Aij, Bij, Cij, Dij, Eij, Pij, Qij, Rij, Sij, Tij, Uij, Vij, \n",
    "    A11_to_Akl, A11_to_Akl_varray, B11_to_Bmn, D11_to_Dmn, S11_to_Smn)\n",
    "from proveit.logic import And, Equals, NotEquals, Set, InSet, CartExp, Disjoint\n",
    "from proveit.numbers import NaturalPos, Complex, Interval, zero, one, two, three\n",
    "from proveit.numbers import Add, Neg, subtract, frac, sqrt, Exp, exp2pi_i, greater\n",
    "from proveit.linear_algebra import VecAdd, ScalarMult, TensorProd\n",
    "from proveit.functions import InvImage\n",
    "from proveit.physics.quantum import (\n",
    "    I, X, Y, Z, H, Ket, varphi, ket_plus, ket0, ket1, var_ket_u, m_ket_domain, \n",
    "    var_ket_psi, NumKet)\n",
    "from proveit.physics.quantum.circuits import (\n",
    "    Qcircuit, Gate, Input, Output, Measure, MultiQubitElem,\n",
    "    control_elem, multi_wire, multi_gate_entries, \n",
    "    multi_input_entries, multi_output_entries, multi_measure_entries)"
   ]
  },
  {
   "cell_type": "code",
   "execution_count": 2,
   "metadata": {},
   "outputs": [
    {
     "name": "stdout",
     "output_type": "stream",
     "text": [
      "Defining common sub-expressions for theory 'proveit.physics.quantum.circuits'\n",
      "Subsequent end-of-cell assignments will define common sub-expressions\n",
      "%end_common will finalize the definitions\n"
     ]
    }
   ],
   "source": [
    "%begin common"
   ]
  },
  {
   "cell_type": "code",
   "execution_count": 3,
   "metadata": {},
   "outputs": [
    {
     "data": {
      "text/html": [
       "<strong id=\"Igate\">Igate:</strong> <a class=\"ProveItLink\" href=\"../__pv_it/common/3503baca64886f46b3e1879abd140991d3d5b9850/common_expr.ipynb\"><img src=\"data:image/png;base64,iVBORw0KGgoAAAANSUhEUgAAACoAAAABAQMAAACSZq7tAAAABlBMVEX///8AAABVwtN+AAAAAXRS\n",
       "TlMAQObYZgAAAAlwSFlzAAAOxAAADsQBlSsOGwAAAAxJREFUCNdj+A8CBwAUswW8iVMLZgAAAABJ\n",
       "RU5ErkJggg==\n",
       "\" style=\"display:inline;vertical-align:middle;\" /></a><br>\n",
       "<strong id=\"Xgate\">Xgate:</strong> <a class=\"ProveItLink\" href=\"../__pv_it/common/61bb58f835d328a2fa4e9676966bb3ab0d97addf0/common_expr.ipynb\"><img src=\"data:image/png;base64,iVBORw0KGgoAAAANSUhEUgAAAEkAAAAbBAMAAADCG78TAAAAMFBMVEX///+6urp2dnZmZmbMzMzc\n",
       "3NxUVFSqqqoyMjIiIiLu7u6IiIgQEBBERESYmJgAAAD8nk9dAAAAAXRSTlMAQObYZgAAAAlwSFlz\n",
       "AAAOxAAADsQBlSsOGwAAAIVJREFUOMtjYICD/2iAASv4gMrlH7aq+O7/2cA1/0QBAbPYvjMw1AYQ\n",
       "spHlLwOrAWF39QcsI8L1760SiFDF820BpipE7EJVMf2GhgSGDLJZbD+JCVXTfAHCqpgd/C8QVqXC\n",
       "wPmVoCpuAQa+T4RUcV0CeXsBflUsd/44MHj8nzxsUzSevA0A6aZmjq/joZIAAAAASUVORK5CYII=\n",
       "\" style=\"display:inline;vertical-align:middle;\" /></a><br>\n",
       "<strong id=\"Ygate\">Ygate:</strong> <a class=\"ProveItLink\" href=\"../__pv_it/common/b385a2eb560a4837fac718d803396fcf41964b8f0/common_expr.ipynb\"><img src=\"data:image/png;base64,iVBORw0KGgoAAAANSUhEUgAAAEcAAAAbBAMAAADc0o+gAAAALVBMVEX///9mZmZ2dnaYmJhEREQy\n",
       "MjK6urqIiIiqqqrc3NwQEBAiIiJUVFTu7u4AAAALmDhgAAAAAXRSTlMAQObYZgAAAAlwSFlzAAAO\n",
       "xAAADsQBlSsOGwAAAHpJREFUKM9jYICDd6jgAQM2gCrKxzDsFPGefnWSgaHrVQFek9ieAgkWAwLW\n",
       "7ZvAwFBGyE11CgwcDYQU3VvAkE7QdyzPOBUwFaHFKMebi9AgwB7VEPa6A0QEpt8FIhQtJSJaOB8R\n",
       "oYj5GRGKWB4QVsTo96ZgeCZf3DkYAN/1XST0jTKZAAAAAElFTkSuQmCC\n",
       "\" style=\"display:inline;vertical-align:middle;\" /></a><br>\n",
       "<strong id=\"Zgate\">Zgate:</strong> <a class=\"ProveItLink\" href=\"../__pv_it/common/6f47285aaf0684dbeb79bd463f8189fa171dedb70/common_expr.ipynb\"><img src=\"data:image/png;base64,iVBORw0KGgoAAAANSUhEUgAAAEYAAAAbBAMAAAAzEOSeAAAAMFBMVEX///+IiIh2dnbMzMxERETc\n",
       "3NyqqqpmZmbu7u6YmJi6uroiIiJUVFQyMjIQEBAAAADo4HZ1AAAAAXRSTlMAQObYZgAAAAlwSFlz\n",
       "AAAOxAAADsQBlSsOGwAAAIRJREFUKM9jYIAD/v8ogAEb4MfDG/pq3r89c/Y3fjVcPxkYul/gV8Oe\n",
       "wMBwLwC/Gh4GBpbPBNzDzMBQv4Cgv5h+YvgLIxbnC6DHMIY5bN8Jh8/6AyA34XfzF6D/CaiJu8DA\n",
       "sBK/Go7dDQwMO/Cr4X3KwGDrgF/N+S0u9/5PGGZpFVc+BQCeekz5fgGmpAAAAABJRU5ErkJggg==\n",
       "\" style=\"display:inline;vertical-align:middle;\" /></a><br>\n",
       "<strong id=\"Hgate\">Hgate:</strong> <a class=\"ProveItLink\" href=\"../__pv_it/common/3efef594f5c52244e84666647bb84a430a91fa420/common_expr.ipynb\"><img src=\"data:image/png;base64,iVBORw0KGgoAAAANSUhEUgAAAEkAAAAbBAMAAADCG78TAAAAMFBMVEX///+qqqq6urpmZmbc3Nx2\n",
       "dnbMzMwiIiIyMjLu7u4QEBCYmJhERERUVFSIiIgAAAC1GkgDAAAAAXRSTlMAQObYZgAAAAlwSFlz\n",
       "AAAOxAAADsQBlSsOGwAAAJRJREFUOMtjYICD/2iAASv4gMrlH7aq+O7/ucB9689NAmbxNzAwcBUQ\n",
       "sjE/gIHB34CQqngFBob9AoRU9QPx+QmEVP0B4uUYfkTELlgV0/e7d+9+BqtCk0E2i/UbMDQ+Egov\n",
       "DiDJ85OQKv4DkCDDr0r/ASTI8KuKT2BgeK9ASFU9KLgIxDbnnf/3GGz+nxu2KRpP3gYAgV9tygvv\n",
       "busAAAAASUVORK5CYII=\n",
       "\" style=\"display:inline;vertical-align:middle;\" /></a><br>"
      ],
      "text/plain": [
       "Igate: [GATE]{operation:I}\n",
       "Xgate: [GATE]{operation:X}\n",
       "Ygate: [GATE]{operation:Y}\n",
       "Zgate: [GATE]{operation:Z}\n",
       "Hgate: [GATE]{operation:H}"
      ]
     },
     "execution_count": 3,
     "metadata": {},
     "output_type": "execute_result"
    }
   ],
   "source": [
    "Igate, Xgate, Ygate, Zgate, Hgate = Gate(I), Gate(X), Gate(Y), Gate(Z), Gate(H)"
   ]
  },
  {
   "cell_type": "code",
   "execution_count": 4,
   "metadata": {},
   "outputs": [
    {
     "data": {
      "text/html": [
       "<strong id=\"target\">target:</strong> <a class=\"ProveItLink\" href=\"../__pv_it/common/626482ba4c30b1107a896916c67b4276b7b870dd0/common_expr.ipynb\"><img src=\"data:image/png;base64,iVBORw0KGgoAAAANSUhEUgAAADsAAAASAQMAAADfSDQOAAAABlBMVEX///8AAABVwtN+AAAAAXRS\n",
       "TlMAQObYZgAAAAlwSFlzAAAOxAAADsQBlSsOGwAAAElJREFUCNdjYGBgkGOAgvIDEJqxJQHCYGYR\n",
       "gDCYWDggDBYEgwXC4IExOCCM/xDwAFmKBcGAameDMZhgVjCyGECdcQTqDAZ7EAEA82sMyezQr9IA\n",
       "AAAASUVORK5CYII=\n",
       "\" style=\"display:inline;vertical-align:middle;\" /></a><br>"
      ],
      "text/plain": [
       "target: [GATE]{operation:X}"
      ]
     },
     "execution_count": 4,
     "metadata": {},
     "output_type": "execute_result"
    }
   ],
   "source": [
    "target = Gate(X).with_implicit_representation()"
   ]
  },
  {
   "cell_type": "code",
   "execution_count": 5,
   "metadata": {},
   "outputs": [
    {
     "data": {
      "text/html": [
       "<strong id=\"qubit_meas\">qubit_meas:</strong> <a class=\"ProveItLink\" href=\"../__pv_it/common/3e8a7f4feee99b354a7c96bca1bea3a62ffe354c0/common_expr.ipynb\"><img src=\"data:image/png;base64,iVBORw0KGgoAAAANSUhEUgAAAIoAAAAeCAMAAADErnYDAAAARVBMVEX///8aGhrOzs6hoaGurq56\n",
       "enofHx8dHR1UVFREREQyMjIQEBAiIiKYmJhmZmaqqqru7u7MzMyIiIi6urp2dnbc3NwAAAB6ytqD\n",
       "AAAAAXRSTlMAQObYZgAAAAlwSFlzAAAOxAAADsQBlSsOGwAAAcNJREFUWMPtl9t2wiAQRamtllyA\n",
       "4fr/n1oCJECicknr6oM8RD2ycjYwM5kg1DFM3UAvGOYXZ71RXo0CuhdFHyV+CmXgNbP0HUclH9+s\n",
       "B0XiKuDc1jtmmnBXRk+gjLoeBYZpThwzFOU/5n4UolDLrow0cUxRQIR5rBcFvqEJxbDEMUVhIUj0\n",
       "0Ityu6IWFGkgcUxR1PHA21C+JtSEoubU0cePoMSjCPcnU30o02cbyoiFwGx1dJpCzK4HLI7wWzZ3\n",
       "oVxvqAkFzAj2ooPjonGGqP1KFs1vMZUdKPBxaUNhbt2TCI6LBv63OxWfXRw/bQgetQzlViJDoaOb\n",
       "p4KjPzTHp2I+Pw8Wk/ttMZvTlHdlVi6L1mDxKAufXiQBFSlkIsghZqNURnEQ1EendQwoNq+JlaSs\n",
       "KSzmDkiM2VWuQLF1DCayOoZaM+nlfIisKrfmCGKr22WHWkbBlmKgm2MocRyrQYj1WOZytd2TKJJF\n",
       "bF0yY0VJdNyqLY87UXo0myMJjLvsaWoSvOOmifggG3QZZSdh2dZg7VCc46apRyusKXF8QGdQvGPc\n",
       "ldhAkWYU0KdQvKM4do/4BR1/botR73i/B/13lD95ff8Brrwmv4zRKbAAAAAASUVORK5CYII=\n",
       "\" style=\"display:inline;vertical-align:middle;\" /></a><br>"
      ],
      "text/plain": [
       "qubit_meas: QCIRCUIT(([INPUT]{state:|psi>}), ([MEASURE]{basis:Z}), ([OUTPUT]{state:|b〉}))"
      ]
     },
     "execution_count": 5,
     "metadata": {},
     "output_type": "execute_result"
    }
   ],
   "source": [
    "qubit_meas = Qcircuit(VertExprArray([Input(var_ket_psi)], [Measure(Z)], [Output(Ket(b))]))"
   ]
  },
  {
   "cell_type": "code",
   "execution_count": 6,
   "metadata": {},
   "outputs": [
    {
     "data": {
      "text/html": [
       "<strong id=\"register_meas\">register_meas:</strong> <a class=\"ProveItLink\" href=\"../__pv_it/common/2d48169dcb1c2bb911e5308171c8fa8a8c0d6b1d0/common_expr.ipynb\"><img src=\"data:image/png;base64,iVBORw0KGgoAAAANSUhEUgAAAJ0AAAAeCAMAAAAB3OySAAAAS1BMVEX///8oKCgkJCSysrLOzs6h\n",
       "oaGurq56enofHx8dHR1UVFREREQyMjIQEBAiIiKYmJhmZmaqqqru7u7MzMyIiIi6urp2dnbc3NwA\n",
       "AACq3r2CAAAAAXRSTlMAQObYZgAAAAlwSFlzAAAOxAAADsQBlSsOGwAAAg5JREFUWMPtmOty4yAM\n",
       "hdV2dttCHIwQiPd/0uXm2A72GpNMO7tT/0hm8BmfLxIScgB6Lt90wTdd/mmiH7p/hw75iXRcL5mH\n",
       "6KRpoeM2U2f3n99DZ0VTZivbbdOVjNKnHh+gu3Af3bbpSuby17WfTjnoo9s2XcqQyprupcNP7KXb\n",
       "NF3KdMk9y166j3fopds0XcpcvXnO0f0eoJtu0zTJkEaV6SilX7s+uuHXKTpLAtmRLMXodmQOdPjV\n",
       "GAjJY0Nd7Bi/f8ApOgdSBDL0vFcXUWY0jOGWiqKcm9H20H2+naKzFq5xs7E3e6ZRFsI1UNl2ue0Y\n",
       "8fdhaWecModj1toWfQTSOV8L07vtmQRubioHG8+vEKZu8ipW3A1VoZNGXGDPNMvGIODYcAhbitbP\n",
       "bPOieOW0dIIuc3kFeDNVozJEAkjFs63QhfwrTFuhpeH5mg3Mi5uQm+kGV/LmJlNUdgjFOYQkB8Qi\n",
       "swNHhbJth4WHVZTuj4l855gulwNdQJnJlJFiPOON0d3aohFOEjG0HbS+YgsPUsuCaOt3yQeF0gvT\n",
       "2GNM7BxXvWjaRh/MC3d09yfs5UhxcFZMpkMIG8kY2DDz3WQ0n9+SD+kqa2FPTe41XTFlX+KnZOhu\n",
       "N5nbC0NTNzYSHqObTNP0GquXRYjXHLt5BlXn6ZAfpNs2pXpiFl/wTlbZCnja9fM++9/SfdG/PH8A\n",
       "qBAvApTyZ0UAAAAASUVORK5CYII=\n",
       "\" style=\"display:inline;vertical-align:middle;\" /></a><br>"
      ],
      "text/plain": [
       "register_meas: QCIRCUIT(([MULTI_QUBIT_ELEM]{element:[INPUT]{state:|psi>, part:1}, targets:{1 .. m}}, [MULTI_QUBIT_ELEM]{element:[INPUT]{state:|psi>, part:2}, targets:{1 .. m}}, ..., [MULTI_QUBIT_ELEM]{element:[INPUT]{state:|psi>, part:m}, targets:{1 .. m}}), ([MULTI_QUBIT_ELEM]{element:[MEASURE]{basis:Z, part:1}, targets:{1 .. m}}, [MULTI_QUBIT_ELEM]{element:[MEASURE]{basis:Z, part:2}, targets:{1 .. m}}, ..., [MULTI_QUBIT_ELEM]{element:[MEASURE]{basis:Z, part:m}, targets:{1 .. m}}), ([MULTI_QUBIT_ELEM]{element:[OUTPUT]{state:|n〉_{m}, part:1}, targets:{1 .. m}}, [MULTI_QUBIT_ELEM]{element:[OUTPUT]{state:|n〉_{m}, part:2}, targets:{1 .. m}}, ..., [MULTI_QUBIT_ELEM]{element:[OUTPUT]{state:|n〉_{m}, part:m}, targets:{1 .. m}}))"
      ]
     },
     "execution_count": 6,
     "metadata": {},
     "output_type": "execute_result"
    }
   ],
   "source": [
    "register_meas = Qcircuit(VertExprArray(\n",
    "    list(multi_input_entries(var_ket_psi, one, m, (one, m))), \n",
    "    list(multi_measure_entries(Z, one, m, (one, m))),\n",
    "    list(multi_output_entries(NumKet(n, m), one, m, (one, m)))))"
   ]
  },
  {
   "cell_type": "code",
   "execution_count": 7,
   "metadata": {},
   "outputs": [
    {
     "data": {
      "text/html": [
       "<strong id=\"circuit_Am\">circuit_Am:</strong> <a class=\"ProveItLink\" href=\"../__pv_it/common/cc4cf5f1d500d4be73808b814d8b03503ce22bb30/common_expr.ipynb\"><img src=\"data:image/png;base64,iVBORw0KGgoAAAANSUhEUgAAAVYAAABYBAMAAABc/MJ0AAAAMFBMVEX///8iIiLc3Nx2dnZmZmbM\n",
       "zMy6urpUVFSYmJhERESqqqoQEBAyMjKIiIju7u4AAACSi8d0AAAAAXRSTlMAQObYZgAAAAlwSFlz\n",
       "AAAOxAAADsQBlSsOGwAAAvNJREFUaN7t2z9sElEcB/Bfr3dtpXAwOOlCxE1Jia6aXmITtgYjHY0s\n",
       "RuPURbtoyuCfxYHBJk4FN51g000SYzctJCZqgpHEwTRKRA1RGxJ8KBDy7o77gg9j8XfJNQRevr8P\n",
       "r/fu3sGDqLe1Bm69ZkGsGaloJrY6OW3Oz9peDA5qFsTiwGbur7OVrWxlK1v/hrWGWc0ShqiBVikP\n",
       "s1Ywa6CIISqgVcqDrObjHGT9sAshpDh3q5QHWXdubSFW8+7VFIKQ4lytch5irT1Nvr/sbTUrK8tr\n",
       "CW+EHOfa/XIeYr1PSTrjbfWlDcuIeSPkODerLQ8bW0lsbBkWNmiS4NiS8tjKVrayla1snTxrBLNq\n",
       "MQwRAa1SHt9vsZWtbIWsWhGzHlVqlatiVn8ds24rtfrro1jzmNXXUmrNj2SNf4Gs+npYpVWuClmn\n",
       "Iw3IemwxodBqqwpZo4FdxKqV3uYUWm1VIavl+45YdcqnFVptVRHrTM74ilgv0bmYOqu9KmLVSfuG\n",
       "WC1aWFVntVdFrK+X4j+IzNse1sCdpfUMmcfXqoMQn8QJ3mx2Hgyy/q46wOr0zWf7w+XPRGfLTs36\n",
       "zqg1UTUkukMP9RAOcVPtqf7+7gPXZt2q0uZYuO8d6GI/KPZ7Hv0qak8VKJjSGiqOgW7V4Y6Bi52L\n",
       "p4d1Jv3rqjhXVWPtVL1+483qqw3UqhXEn2zY03pE7PvaV5rpkAJrp6p58xE9pJeg1cw2q/Sg9cTL\n",
       "utN6Tr5sU5y0Tlf/3NqtqtWK1KBTQ89fvY7Xbo9sqpy/zpaMAh0Yl/UwHVJonU8EMlo9MR6rtrGy\n",
       "rNC6IHp2LmMNaY1sn0Ss830nSQXWC+QPa9eqfG/IVraydVKte+mzYv6+gK1sZStb2crWcVj30lqy\n",
       "d1vJWWSN3onzFrJGT45zXaMn50HHwMcXV5BjwHwWTyH/XCnOfe2jlDdxa0qpjI2tQAgbNGVwbEl5\n",
       "mDUKzrXBNdBRdK49yhpovt9iK1vZytb/0frP/+b0JwkpjxMwo4SZAAAAAElFTkSuQmCC\n",
       "\" style=\"display:inline;vertical-align:middle;\" /></a><br>"
      ],
      "text/plain": [
       "circuit_Am: QCIRCUIT(A_{1}, A_{2}, ..., A_{m})"
      ]
     },
     "execution_count": 7,
     "metadata": {},
     "output_type": "execute_result"
    }
   ],
   "source": [
    "circuit_Am = Qcircuit(VertExprArray(\n",
    "    ExprRange(i, IndexedVar(A, i), one, m)))"
   ]
  },
  {
   "cell_type": "code",
   "execution_count": 8,
   "metadata": {},
   "outputs": [
    {
     "data": {
      "text/html": [
       "<strong id=\"circuit_Bn\">circuit_Bn:</strong> <a class=\"ProveItLink\" href=\"../__pv_it/common/d5c6eddbae91fe830777139cdfc010dd0697ad7b0/common_expr.ipynb\"><img src=\"data:image/png;base64,iVBORw0KGgoAAAANSUhEUgAAAVIAAABYBAMAAABVF2IOAAAAMFBMVEX///8iIiLc3Nx2dnZmZmbM\n",
       "zMy6urpUVFSYmJhERESqqqoQEBAyMjKIiIju7u4AAACSi8d0AAAAAXRSTlMAQObYZgAAAAlwSFlz\n",
       "AAAOxAAADsQBlSsOGwAAAwJJREFUaN7t2z9oE1EYAPCv11wvNs0lg+7FuIYWXBwUb3MrJ14XQZJF\n",
       "HBzUQYMQaAb/IAh1KYiitpvgUjpVEMxiUYqagOCSYMChiB4WMValNb7TNOZyf77v8AXa8D1ICOHL\n",
       "+355733Xd7krQKe1wtp6JywVGhe5u1aL2F9XW4eQ1iUNC0tF7i40LCAZS1nKUpaytB9SmybVKzSp\n",
       "TZTa0aU1mjRZpklrRGktslR/Ok+SfvxJkgZ355b2xhGkH66vUKT67WKeIg3uzi3tjcOl9jNr7SIu\n",
       "1WvTUwUTl4Z055J64nDpQ7DgBC4dLamGOolLQ7pzST1xlIqyaBWlGrSKsogVZUWvfZaylKUsZSlL\n",
       "d6o0Q5MqkzRphijN8HkUS1nK0kGSxh9sFIpzuPRGq1B4YcqS+mTFxzRxC2DGxMf0MYDWlDam3qy4\n",
       "dKICcM5ApcoWwMhXaVJvVlw6K77ZbAWVxsV4xrekSb1ZcemMeKyOo1JNvDu2JE3qzYpLxfpb24dX\n",
       "lFhY+gVpFeWTFZWqP+pvnxOOUrl79WJJ2lHKJysqTX4BeFTCpe/GYXRZmtQnKyrdswgw3AT9JiK9\n",
       "Kx5HTf1goREm/VwG0Deh/RQsbWcNlPpeGj3/p6ZPVf3Cui5lbjgFW4lBLN35pE93Q86BZy9sP2FZ\n",
       "3VLfK6j/PpMTc6B9A1gIH1P1u1Ow+VReacqY/e2sUWZfrD/IlVGps7DUTYg35EjbWa9crRtk6ar4\n",
       "0/OkgUrHxMI6+0q8GE7LkP7Nql9bhiWq9LKz8ZgHTKo5O4o7zqvjDQnSdlbFLsOvyLu+BdquT7kv\n",
       "c9enVUYW+yU9APslShNmzDD7I1XmpqckSidg6GRUaeb1EYo00XVQlCA9A8lDfB7FUpaydICku+eX\n",
       "Xv6dn6UsZSlLWcrS/5Punju73q9YGuVuucOnDcrdciHduaSeOMLsf3pziTL7+stjecrsB3fnnv3e\n",
       "uIG6qxOqtIpKpmkVVSVWVDV67WeJO2ni3cdZojTL51EsZSlLWcpSb9vh/8X5G7tnoobeGe6dAAAA\n",
       "AElFTkSuQmCC\n",
       "\" style=\"display:inline;vertical-align:middle;\" /></a><br>"
      ],
      "text/plain": [
       "circuit_Bn: QCIRCUIT(B_{1}, B_{2}, ..., B_{n})"
      ]
     },
     "execution_count": 8,
     "metadata": {},
     "output_type": "execute_result"
    }
   ],
   "source": [
    "circuit_Bn = Qcircuit(VertExprArray(\n",
    "    ExprRange(i, IndexedVar(B, i), one, n)))"
   ]
  },
  {
   "cell_type": "code",
   "execution_count": 9,
   "metadata": {},
   "outputs": [
    {
     "data": {
      "text/html": [
       "<strong id=\"circuit_Bk\">circuit_Bk:</strong> <a class=\"ProveItLink\" href=\"../__pv_it/common/44ae73297a4fd409bf84328c19d312589a4259980/common_expr.ipynb\"><img src=\"data:image/png;base64,iVBORw0KGgoAAAANSUhEUgAAAVEAAABYBAMAAAC+INkNAAAAMFBMVEX///8iIiLc3Nx2dnZmZmbM\n",
       "zMy6urpUVFSYmJhERESqqqoQEBAyMjKIiIju7u4AAACSi8d0AAAAAXRSTlMAQObYZgAAAAlwSFlz\n",
       "AAAOxAAADsQBlSsOGwAAAwtJREFUaN7t2z9oE1EYAPDPK+elaXPNoKsEOlUoqZNLwXMQN4l4nRMH\n",
       "Jwd10CBEGweRLrZLQRQxo+AiTgpKs1iUolxRcEkw0KFKDQbtHxVLfSdJG+7y3vedfZWmfAcXDvL4\n",
       "vl/fe9/lXfIKsHkMbKiOrXbKZg1aOGKztnbtxwAojrY3G6p2DVo4YjNgKUtZylKW/j+p7dGkdRoh\n",
       "EE4qrUeXJso0aYUmDYSTSivRpUu/SFJ7pkQiBMJJu14aTiq17xRyFOnnW7MUQjCcTCoPJ5PalbFT\n",
       "+Qwurb90Fy/jhFA4iVQRTiaNF03HHMGlD8GFM7g0FE4iVYSTz1PToVWUS6uoQDhpRbnRK4qlLGUp\n",
       "S1nK0t0qNUZo0kGaNBBOKh3k5yiWspSle0o6sZHPv86g0tiDtXxhWps0nJXQp88ArBW8T/umAMYz\n",
       "2vo0lBWXGusA+5dxadoDuODokoaz4tKY+Mti67h0UvTnpKdLGs6KSy3Rov8JLh0X51xKlzScFZeK\n",
       "+WdfwivKn1iLB7VVVDgrLs3erxaK+F3K/Fn98ErfXSqcFZd+TEH8KS5NfAN4VNQmDWfFpffEeSwD\n",
       "n8pqae9jgJ4VWDh6XUWwf4uXr+XmhULazHrD6yzt+NPoml/XnllNbgXs+Jvnxb/F6sBxZbgD4tzn\n",
       "NC/QrNCX66RrdOxT84df1zmIJ9V9mhUjb63CKqQzGka/lTUdYfT9+WeKocKkYmJBtgy39UhbWSeM\n",
       "d2Rpv5h/59/i0jnxmfK8Ji6O6KioVtZrh5dSRKnlLzzuAiq96q8oSv64HdIg3cz6omRGXvVhfdo6\n",
       "hmoaV33G8gnYKanhGCl90tjUWWOnpENjbk2f1PJO90SVGqPfPYp0pu2muH1pb8q6yc9RLGUpS/eQ\n",
       "tHu+6eXv+VnKUpaylKUs3Z60e3Z22aPnHMpuuYVZ16LslguGk0gV4aSjb785maOM/pf3VyjDGgwn\n",
       "G315OPk87ZpdnZBI0ipqnlZRgXDSipr/h5U0cffxMHElTdx9PMzPUSxlKUtZytIOmN39X5x/AGYN\n",
       "TIsvafT0AAAAAElFTkSuQmCC\n",
       "\" style=\"display:inline;vertical-align:middle;\" /></a><br>"
      ],
      "text/plain": [
       "circuit_Bk: QCIRCUIT(B_{1}, B_{2}, ..., B_{k})"
      ]
     },
     "execution_count": 9,
     "metadata": {},
     "output_type": "execute_result"
    }
   ],
   "source": [
    "circuit_Bk = Qcircuit(VertExprArray(\n",
    "    ExprRange(i, IndexedVar(B, i), one, k)))"
   ]
  },
  {
   "cell_type": "code",
   "execution_count": 10,
   "metadata": {},
   "outputs": [
    {
     "data": {
      "text/html": [
       "<strong id=\"circuit_Dm\">circuit_Dm:</strong> <a class=\"ProveItLink\" href=\"../__pv_it/common/1411609a2bd912f768376548905f705ae78108e00/common_expr.ipynb\"><img src=\"data:image/png;base64,iVBORw0KGgoAAAANSUhEUgAAAVsAAABYBAMAAACpAknEAAAAMFBMVEX///8iIiLc3Nx2dnZmZmbM\n",
       "zMy6urpUVFSYmJhERESqqqoQEBAyMjKIiIju7u4AAACSi8d0AAAAAXRSTlMAQObYZgAAAAlwSFlz\n",
       "AAAOxAAADsQBlSsOGwAAAupJREFUaN7t2z9oE1EcB/BfQ9KkaHKLsxRukA4xdXISopPQJeA5SVFn\n",
       "B4OgIYOaTQpiHIRSEJJuji4OTi2CXeuBIIVDCx1U9DAg9o9W4nuxadp37937vbsrJe3vIEeGb14+\n",
       "vPx+L3e5C8DuZnXDtg4y1x0MmERs/1vv3SwI2zrInCV7SeRYSIC4xCUucYl7qFwfyfWRDh/L9SNx\n",
       "PSTXQ3I9LNeLwi0stFFcMadyCDk1VxwQx/36aAnFFXMqh5BTc8UBUVz/rfP5LoIbyCkcYk5d4uKA\n",
       "KO4LcOAKghvIKRxiTskNDIhsNQfZag6y1RxsqzmRVgbiEpe4xCUucY8O10ZybSTXxnJtOlcjLnGJ\n",
       "e/y4K93Z+uy4nivJxeHmW1u1uTsRZncbIPcbMbvBXKzZtRYBmm1jbuYv203puZJcLO71dwDpl8bc\n",
       "/C+2u93QciW5WNxPFYDRTWPuGE+UJrVcSS4Wt8UeqZ/GXOsp/2SqWq4kF4u7xQtsw5jLawia+tmV\n",
       "5OJwe62QM59dXkPw8IaWK8nFWsh4K2TXjbm8huAPFB5ruDu5tfMPQh0/2PpU2N55EsLttYIVujJI\n",
       "L9PyGsptwrSLy5Xh4oAruZY7Uma7U/0nytj/Vmg2RK786rC1v4a+sdfOh89uP7cOpUoSxcBbofDa\n",
       "+FutV0PPQcvt554kxOWtMLYIucvTH/IzFTT3JAvcLOu5uzk4l0irLbMvCVYzX241TlTzVSw329qo\n",
       "zV0CLXeQy5xOglvv1urP2AHTWQ+sSnrS/AByHnkAObGa6AHkfbgGI+0D46bKqfEkua9gBUqZA+NO\n",
       "XHVWE+SmOmx+Z9LGXHv5Aoq7sGctToA7WoU3cOYjnasRl7jEPWbcIfs5mq5NEJe4xCUucYl7KNwh\n",
       "u+1tbcnJYm4qDOQUDjGn5AYGxBXD9/f3UMUg5lQOIacuBnHAI3lDLLjIVnORreZiW82NtDIUkdwi\n",
       "klvEcot0rkZc4hKXuMSNzx2CP97+A/UzX9xdcYJ/AAAAAElFTkSuQmCC\n",
       "\" style=\"display:inline;vertical-align:middle;\" /></a><br>"
      ],
      "text/plain": [
       "circuit_Dm: QCIRCUIT(D_{1}, D_{2}, ..., D_{m})"
      ]
     },
     "execution_count": 10,
     "metadata": {},
     "output_type": "execute_result"
    }
   ],
   "source": [
    "circuit_Dm = Qcircuit(VertExprArray(\n",
    "    ExprRange(i, IndexedVar(D, i), one, m)))"
   ]
  },
  {
   "cell_type": "code",
   "execution_count": 11,
   "metadata": {},
   "outputs": [
    {
     "data": {
      "text/html": [
       "<strong id=\"circuit_AjBkCl\">circuit_AjBkCl:</strong> <a class=\"ProveItLink\" href=\"../__pv_it/common/83af9be63cc63ccdd48ca80382fba4c36ed973ee0/common_expr.ipynb\"><img src=\"data:image/png;base64,iVBORw0KGgoAAAANSUhEUgAAA8EAAABYBAMAAAAn5+glAAAAMFBMVEX///8iIiLc3Nx2dnZmZmbM\n",
       "zMy6urpUVFSYmJhERESqqqoQEBAyMjKIiIju7u4AAACSi8d0AAAAAXRSTlMAQObYZgAAAAlwSFlz\n",
       "AAAOxAAADsQBlSsOGwAABsNJREFUeNrtnUFoHFUYx19md7PpJtmXQyuCIIvrpWrIqgcv1a5YDR4s\n",
       "W9ycRLIeCqIH60EXIZr1IFIQG8GiKJoICopCgycFawNiqRTbDQZKIaELPcRS165t09qSsL5Jdja7\n",
       "M7PvfcN8bWL4DySH8M///73vNzvzzWSzI0Rzq2u3pkxqZTWaXWCZpBXHYlcLvFa52WTCd6sJzdZi\n",
       "rJPJwHYbkyoZZMx2nDIJwiAMwiAMwiAMwiAMwiAMwiAMwiAMwv7NSZZpxlVar6s0wlXaclzFBU+V\n",
       "DGsNa8cqa1eRCPfP0FY9T+v1PI3wPK2HruKCp0qGtYa1Y5W1q0iEL96k7WHHpii9dsk6Ee4sk7ri\n",
       "gqdKhrWGtWOVtasohJMfjxUo+RfePU7ptUvWiXBnmdQVFzxVMqw1pB2rzKUiEE7Oj+wt5sz51V/z\n",
       "i6+Ze+2WdSCskUldccFTJcNaw9mxytwqAuFEKZaNZcyr/lrkxbPmXrtlHQhrZFJXXPBUybDWcHas\n",
       "MreKdB6OZWnTR5428+Rpk1aeNsu4igueKhnWGtaOVdauAmEQBmEQBmEQBmEQBmEQBmEQBmEQBmEQ\n",
       "BmEQ3pKErQxt1Wlar9M0wmlaD13FBU+VDGsNa8cqa1fhXTx4Fw8IgzAIgzAIgzAIgzAI3zrC1gzN\n",
       "+AFWwtRUEA5PuK9GMz7NSpiUerBeLP6WM6b2TF4vjh1ma6I3tYNd9aNiKc0mIxJ2uVEIH6ERTtRZ\n",
       "CdNSfxQivmRO7Z0QYjzH1kRPqr+u/2hFfHknl4xYnNuNQnj4MolwdDzFSZiUaq0I0X3VnDpUFuKV\n",
       "LFcTvam+uuQHap+KXmaSEYvzuBEIR9JLJMIP7c4xEqal9ihRz4o59ZAq7VCZi7A31VfX97P61j3N\n",
       "JCMW53EjEB7sv0khbJXPTTESpqXG1U/7vjenjquvkykuwt5UX91uux+xLJOMWJzHjUA4m/iXQjgq\n",
       "jpQYCdNS1fk1+ap50rJPnIs72CYtb6qfzvpn9aiZ45ERi/O6mQl3T8WuUAi/JEYzfISd1Jw+dfSz\n",
       "hTHCfhW7sXDmBN8FiTfVTxdZIdkRZcTivG5mwlFhXVd7xXum/KwYOiCSDxcrLITXUoXYoU89lxKJ\n",
       "H4T4c0ZPuF9NHt+WxPlH3mIh3Eh9u6zVdTXGHUPrHBlPcY7bYo1O+Oye4RtCPD9rGtI/3DM+ocBE\n",
       "B3S9vqRQJJdF45uG8Fqqsdef2meeXGxhQE94m5o8IktqJ3xcZ7daU7NCY6roLWir6139WdLUOkfG\n",
       "U5zjlpjxJez3iYn2P5Tbx/Yv/GQtV8BV5TUgZMFqjsDSx67LHgG2C+ebMVUYUu3XuZqREy2EfT/2\n",
       "8cDq8HtNDOV0dtvbKjSmDumr61rN/8rUOkfGU5zjFs1oG9K6d0TV113thH33a5XdNS16Ki2EQxyl\n",
       "G6nJuSltasyexsYLbYT9jEfVWTN+Tbzf0sQQR2kn9aD1h063dlGaMbXOkfEU57h1FchH6RcbtyMN\n",
       "hLtLjfuMkQEOwo3U6PrBxjfVPr/G1FHLRFidOMWobfUgx3nYSX3zvosp3VhrDz2Riql1TRlLcY7b\n",
       "JfKkZdnXzpMpI+H77bOdvf/s45i0nNS/I1n95b3SvXzKTPik2gV/UoXF7ma5qdBIPToV0+rU1WP3\n",
       "Y+YXhyPjKa7h9h2VcHJyuSK+qf9iKvNC/ZRITC5nhPU5w9XSempfSZcat/+g8IkwEn7D/kuBfbzf\n",
       "WWFoopNqXX3ScAPx6eJTwkzYkbEU57g9Eei+tCCU6Wz3inuY7kuveaRIqabXsHNoyFopjqulxr3L\n",
       "iRcsUnW01vEWd0flFhG2Do/s5ST8nOAkvHMkX+FrYry8L8JImLe4Wjko4fTpRynGvS0jOQfhM7T9\n",
       "ateVMiX1WMvFR/gmbkvF36HoiK3jLe6ZQuDXcPB7ahyET9yGVLzHY+MI9+2fBuEtTTg6VwHhLU34\n",
       "9qSCMAiDMAiDMAiDMAhvJGH8h7jY4v8hjk95EPgcDxAGYRAGYRAGYRAGYRAGYRAGYRAGYRAGYRAG\n",
       "4U1EGE/UMq/1//1EreSu/VnKk+LOH8/HCU/Fc8s6ENbIpK644KmSYa3h7FhlbhXpyZa/Dxcox5C/\n",
       "5l6nHC9dsk5H6c4yqSsueKpkWGtIO1aZS4Wn0+LptGrrH6BNH7O0mWeWNmnN0mYZV3HBUyXDWsPa\n",
       "scraVbR3ABCfnD5I6/UgjfAgrYdWOWSqZFhrWDtWmRX8KfGCthrXhnfxbAoZCIMwCIMwCIMwCIMw\n",
       "CIMwCIMwCIMwCDe3unZb/22trEazCyyTtOJY7GqB1yo3m6wF639lW+D07jZ/sgAAAABJRU5ErkJg\n",
       "gg==\n",
       "\" style=\"display:inline;vertical-align:middle;\" /></a><br>"
      ],
      "text/plain": [
       "circuit_AjBkCl: QCIRCUIT(A_{1}, A_{2}, ..., A_{j},B_{1}, B_{2}, ..., B_{k},C_{1}, C_{2}, ..., C_{l})"
      ]
     },
     "execution_count": 11,
     "metadata": {},
     "output_type": "execute_result"
    }
   ],
   "source": [
    "circuit_AjBkCl = Qcircuit(VertExprArray(\n",
    "    ExprRange(i, IndexedVar(A, i), one, j),\n",
    "    ExprRange(i, IndexedVar(B, i), one, k),\n",
    "    ExprRange(i, IndexedVar(C, i), one, l)))"
   ]
  },
  {
   "cell_type": "code",
   "execution_count": 12,
   "metadata": {},
   "outputs": [
    {
     "data": {
      "text/html": [
       "<strong id=\"circuit_AjDmCl\">circuit_AjDmCl:</strong> <a class=\"ProveItLink\" href=\"../__pv_it/common/702d5588351084eeb31bc15e0977e5d16881bd270/common_expr.ipynb\"><img src=\"data:image/png;base64,iVBORw0KGgoAAAANSUhEUgAAA8sAAABYBAMAAAAwxXjsAAAAMFBMVEX///8iIiLc3Nx2dnZmZmbM\n",
       "zMy6urpUVFSYmJhERESqqqoQEBAyMjKIiIju7u4AAACSi8d0AAAAAXRSTlMAQObYZgAAAAlwSFlz\n",
       "AAAOxAAADsQBlSsOGwAABydJREFUeNrtnVFoW1UYx7+kSdq1zU0fVARBihFkaG3UB1/URR1WEUfE\n",
       "9GmMxYeB6INF0FBQmzcZiK0wqQOxFRQUhPXFBx90RXH4omuhMArFBfawjRkbN9y62hHvTXKTm5N7\n",
       "zvnn3iPV8h1oHsK/3/873+/ec869uckharWasrVkKaWsioXrWZYyokN7gRYFt94NGfm2KimaJ7BK\n",
       "luo5nAlXWJcy24serHdBlmLMjJkxM2bGzJgZM2NmzIyZMTNmxsyYGXM4zNYKFriCFaiCYa5QEFdY\n",
       "J8MsdFaBuYJWHMwQLDMm61RBmJPLWCE3sAJtYJg3KIgrrJNhFjqrwLyBYgYzBMuMyTpVEOYr29hh\n",
       "dnoRKZAgk2GWy5SusE6GWeisHLMYUH5igRmCZcZknSoEs/Xx2wXE//J7Z5ACCTIZZrlM6QrrJJjF\n",
       "zsoxiwGl1mCGYJkxmaACMFsbk4eKOb1/5af8xTf1BRJlEswKmdIV1vlj7uqsfIUhBpRZgxmCZcZk\n",
       "ogrAPFiKZ+MZfSG/pDy9pC+QKJNgVsiUrrDOH3NXZ6WYuwLKrMEMwTJjMlEFzc3xLLbIyWOzWh5b\n",
       "guUpiCusk83NQmcVS7A8ugQDMwTLjMk6VYyZMTNmxsyYGTNjZsyMmTEzZsbMmBkzY2bMjJkxM+Z6\n",
       "i2awQqaxAqUxzGkK4grrZJiFziowp1HMYIZgmTFZp4ofEuKHhBgzY2bMjJkxM2bGzJgZ825hji5j\n",
       "gR8wihl1ZcyGMA9XscBnjWKGXNdr89Pzo4F0YTAnF24WT74BVrwyXyyljcmCmSKYT2GYB2tGMWOu\n",
       "O0QD24F0oc7mlD3UzC5CFU9+V6bP7zQlAzGL0RDME1chzLGZUZOYIdf4Lfvl+UC6UJiPrtj9XUIq\n",
       "bn2Ys6VXDclAzF3RAMx96b8gzA8fyBnEjLkmHdHrpSC6UJjP211NbCEVH/7efkksGZKBmLuiAZjH\n",
       "ktsI5ujK+UWDmDHXfc6745kgulCYF5wOX0MqfsApSufnCCFkIOauaADm7OAWgjlGp0oGMWOuqTln\n",
       "BJ0KoguF+aZTxhtAxaN/1gfRnBkZiLk7mh5zYjF+DcH8Kh3NmMPsuubUrs4cSbP6s9lHFwZzfaof\n",
       "QM7mvlsQGFAGYu6Opscco6h92Frv6/yzND5F1iPFshHMDVei29WuzhxJMwVtdk3dhUffNXNB5Uz1\n",
       "/deBikea6yBNhq7Mm2BwzG60i1Uc8/rBCXuIOrKqW+ScODgzZ9OJjagKtGlfiFg71HxRYG64ag9u\n",
       "Z46kv/XZNXVZelKFuZ3Z5rISc32qTyEr7aH6e5YuQ1fmTbAqSbBVQ220wWVfzH4/BOl8690Z6j/z\n",
       "k3mulCt2rBFKFaKtBXLKJ1zEWRbcRu6L1pU0rs6hMLClz66pu07jOZ/0WrJWZpGsqheNqX62JGL2\n",
       "sY7U/+kLXYauzJtgTZJgu4a6aLGMshfeQyRm/93Vidn3fLG9I0s0UPZgDjFoN12ttUWla32OvDKn\n",
       "zc7VfeDFHGLQdqZ661saePbIueRx5fKhcfGa0WXoyrwJBh+03WiRAjxov9K8i6kpZKLUvD3ZN2IC\n",
       "c9M11h52fF3rc+Qn+uxaOnrIyNzsTPX7lunSa6WhqeSUctHrHGB9ZV2GLZknwRAr7Wa0TXgJFnUm\n",
       "oIVRbSHvd2Ys5yB60cQSzHX9oy+rvg1gv/lyVo+5pYvfbQSzfQQm7GHzwQ1K5dojo6+1fZWZeEKf\n",
       "oSvzJBjiurkZ7WsUs7WwU6avaj/q0rxc+5UGF3YyFP3UwAVV23W4pHLtX7hRPPkUaYvY1u0vm8A8\n",
       "XStOn3Du7L5Dhyminles54rP6DNsyTwJhrnZ2Yj2dE/3tAlI02330j2G7mk3YoxivQazi2ajo0Zu\n",
       "jzTbN7RO43HIGsvQm2D4DyLvKP9LmKMfTR4yifkwGcW8fzJfNog5WrXP5+Mxg5i9CYbHXF3pFXP6\n",
       "7ONI4CHPgt0E5nMYPjA7Ou3d+iA85sQU/UD3/YZYgxl6EwyP+YVCz2dz73fhTGD+uWdXfnpE04v/\n",
       "HubhY0uMee9jjq2VGTPxk52MmTEzZsbMmBkzY2bMexczf43dF/Ne+xo7/yiFL2b+7RHGzJgZM2Nm\n",
       "zIyZMTNmxsyYGTNjZsyMmTEzZsbMmP9fmHm7MV/Me227MeuxY1lk88ALZ/L9wOaBokyCWSFTusI6\n",
       "yeaBYmelmLsCyqzBDMEyYzJRBW0F+stEARlNfl97CxnuBJls0JbLlK6wTrYVqNBZ+aAtBpRagxmC\n",
       "ZcZkgoo39uWNfd2WHMEWOatYgVaxJdgqBXGFddJtukfQJdgqugQDMwTLjMk6VdhjBdhu8DSGFWgM\n",
       "wzxGQVxhnfSxghUU8xiKGcwQLDMm61TxQ0L8kBBjZsyMmTEzZsbMmBkzY2bMjJkxM2bGzJj9Wk3Z\n",
       "2v+tlFWxcD3LUkZ0aC/QouDWuyHzsP0HARin7J74Un4AAAAASUVORK5CYII=\n",
       "\" style=\"display:inline;vertical-align:middle;\" /></a><br>"
      ],
      "text/plain": [
       "circuit_AjDmCl: QCIRCUIT(A_{1}, A_{2}, ..., A_{j},D_{1}, D_{2}, ..., D_{m},C_{1}, C_{2}, ..., C_{l})"
      ]
     },
     "execution_count": 12,
     "metadata": {},
     "output_type": "execute_result"
    }
   ],
   "source": [
    "circuit_AjDmCl = Qcircuit(VertExprArray(\n",
    "    ExprRange(i, IndexedVar(A, i), one, j),\n",
    "    ExprRange(i, IndexedVar(D, i), one, m),\n",
    "    ExprRange(i, IndexedVar(C, i), one, l)))"
   ]
  },
  {
   "cell_type": "code",
   "execution_count": 13,
   "metadata": {},
   "outputs": [
    {
     "data": {
      "text/html": [
       "<strong id=\"circuit_aUb\">circuit_aUb:</strong> <a class=\"ProveItLink\" href=\"../__pv_it/common/04e5d420a5af1de5ec46b1867c88ba26136942ec0/common_expr.ipynb\"><img src=\"data:image/png;base64,iVBORw0KGgoAAAANSUhEUgAAAXIAAABYBAMAAAAaSmHeAAAAMFBMVEX////MzMwyMjKqqqoiIiJm\n",
       "ZmaYmJju7u5EREQQEBC6urqIiIh2dnZUVFTc3NwAAAAqL9KcAAAAAXRSTlMAQObYZgAAAAlwSFlz\n",
       "AAAOxAAADsQBlSsOGwAAA4NJREFUaN7t2z9ME1EcB/BfW8oBbe9KYjcHHIgJDHZylcQwmGhsXBjU\n",
       "pA4uJMbGwUAKaRnUyYTBsBhDHR2MJ0EXxFQSEwcjiH8SRUwXJ0CvYMQoWl+hxPrevb5f7l1IkN8l\n",
       "fQtf7vfh+nvH3fUVQNisSoPNwcX+7q2C21tFsTmA2KxGP3RQMcvtFxruzdEwkZzkJCc5yf9ruWGj\n",
       "5FmcPIuUc1U9ySMdKPkETj6BlHNVPckH1zByYzyJkXMxuZyr6kVuXJ0vIOQDF7owci4mlfNVPciN\n",
       "ifa+xbhSnj2QGH6plvMxmVyo6kEeSgdSgaJSfhgSsF8t52MyuVDVU58HUqgZmsDN0ARyhnJVSU5y\n",
       "kpOc5CQn+Q7KzSJKvoyTLyPlXFW6DyU5yUlOch25+frrK4iNdyvkLjEN+crJE0l4t6r5pCj6gw2P\n",
       "lMdcjOkc89kCQKSo2S3B6v76lHIxpiM/xF7hjKbcyrNhTikXYzry7+wVU/T5wA2F/B7rNkN93SLG\n",
       "NORtP9kwpJqhnZsT7MNjW5KajQM0F5RyMaYhj5bZ0K+Sbz52vFNqWZekjlVbTn1WFGMa8qZRNqQU\n",
       "8raq2BiDcI97yvgltpyDimnIc3PC3BLl0ao47EBT0T0V+saGJYDLHQ3ltZjxfDHTSJ5jezFWoTZI\n",
       "5UfSrIFthTy4MJ2E1jzkqj1qiR/ab7bcCwhM1b0nFWksXPfeWS4f2DdVW6AXtgdub079pImWBPm/\n",
       "ydxB4zfkbLgo+fuiztYbF+ppeMxrMatgln3ollm3kyJ/zI9k4CbkkjAfKrl3C5sHsZJSXos1Z3yR\n",
       "MxR8BDh/bmru4YhMfgpgA1rsUK/sxNAJZvVBvUK+HduaN7ryYApW4mD0j8EtmJbJj0PbGhgLT1bu\n",
       "y65brp8GhLwWg30ZP/6HPnvD5qeZ7YAynJHJ1yC8jrmiVMm3rxmv+XiVG7MDo3BUVqwMg2kf5Z/g\n",
       "s3/y1ngkbzpxSbG3cAX8k5sj7X3+yb+wo96cT0mKDT9NY+TmzIaNkLfWnZT15XchWDIXMnQfSnKS\n",
       "k5zkfsl375N/+pyI5CQnOclJTvK9Jd+9Ky2NmdspxOrWoa5EDLG6lY9JV7fyVT2tKO4+W0B0y6UH\n",
       "7zHdwsXkK4q5qntrFTdEelAzdBI3QyeRM5Sr6u3OAvdthSWcfAl7Z+HDtxXoPpTkJCc5yUm+4/Ld\n",
       "8a35P6DmVEZZFKFJAAAAAElFTkSuQmCC\n",
       "\" style=\"display:inline;vertical-align:middle;\" /></a><br>"
      ],
      "text/plain": [
       "circuit_aUb: QCIRCUIT(([MULTI_QUBIT_ELEM]{element:[INPUT]{state:a, part:1}, targets:{1 .. k}}, [MULTI_QUBIT_ELEM]{element:[INPUT]{state:a, part:2}, targets:{1 .. k}}, ..., [MULTI_QUBIT_ELEM]{element:[INPUT]{state:a, part:k}, targets:{1 .. k}}),U_{1}, U_{2}, ..., U_{m}, ([MULTI_QUBIT_ELEM]{element:[OUTPUT]{state:b, part:1}, targets:{1 .. k}}, [MULTI_QUBIT_ELEM]{element:[OUTPUT]{state:b, part:2}, targets:{1 .. k}}, ..., [MULTI_QUBIT_ELEM]{element:[OUTPUT]{state:b, part:k}, targets:{1 .. k}}))"
      ]
     },
     "execution_count": 13,
     "metadata": {},
     "output_type": "execute_result"
    }
   ],
   "source": [
    "circuit_aUb = Qcircuit(VertExprArray(\n",
    "    [*multi_input_entries(a, one, k, (one, k))],\n",
    "    U_1_to_m,\n",
    "    [*multi_output_entries(b, one, k, (one, k))]))"
   ]
  },
  {
   "cell_type": "code",
   "execution_count": 14,
   "metadata": {},
   "outputs": [
    {
     "data": {
      "text/html": [
       "<strong id=\"circuit_aU\">circuit_aU:</strong> <a class=\"ProveItLink\" href=\"../__pv_it/common/78ea6a3740a8c89efc5fda2f5b73175089fa2a5a0/common_expr.ipynb\"><img src=\"data:image/png;base64,iVBORw0KGgoAAAANSUhEUgAAAWwAAABYBAMAAAAjLdCFAAAAMFBMVEX////MzMwyMjKqqqoiIiJm\n",
       "ZmaYmJju7u5EREQQEBC6urqIiIh2dnZUVFTc3NwAAAAqL9KcAAAAAXRSTlMAQObYZgAAAAlwSFlz\n",
       "AAAOxAAADsQBlSsOGwAAA4pJREFUaN7tmz9oE1Ecx7/5e02TXFKwg1ShDi4t2AxFR2/pICJm0YIi\n",
       "FKeiiKGDKCqNi06KLg4ONg4OnYy1ooOWUxdBsWn9AxorWUShjb1WUVFEX2Jazpf7V94rePo7yMsN\n",
       "n3z5cO/3jvfuXoDm46fTsUylnChDKvYHaXs4ISmLM8cIGZiLE2mTNmmTNmn7X1spetLmMEMMA44L\n",
       "asc7PWlzmCGGAWOC2sc+etLmMEMMgzKSEdJWTk8XPGjzmCGEAUcPdYloK2Nt/TNpV+0mzBDBWGVv\n",
       "aD85JaAdGghkA7qrdhNmiGDAZrRjnVBtB7KeapvDDDEMTBukTdqkTdqkTdqkvSraqu5Jm8MMMQyY\n",
       "o7UkaZM2aa+mdnS7P6/2JRekunNHBi8Xi87a6rNPT5Ec6ZajbZVmJlWohlvYZAGI625XO/GNNXdk\n",
       "XW2LNDMZzEXzs7pzWA/7RHJu2sHaD/plaVukmcn1SE5suewc9pV9kq61ncqzpiRL2yLNTO5B7AbS\n",
       "jmGt31lzwlX7Git+RZelbZFmJjXM76pZq68nijZIYoE1B1y1J1lMtCBL2yLNRIayGGzVKsBopeWL\n",
       "TVj4PGvcJ67baiNA2g3QIs1EJtMoBzQdykVENJuw4VJTmVloKz+aRoCAtlWaiRwCzuFFGhEDYd0m\n",
       "bOsAq6EilP2O2qHPrJmF8ngm5+izWLsQnY0TW6yRZqd9sPEdy2O4XkkW77drZZaooGPcpN389r0+\n",
       "Ap6wjjX1mtVL+r5a2WUbJ7ZYI40/eHK4iMN2XTfZ6K9ex6udMOqllCqoCxKKpJFmQ6r5pfrNYDpU\n",
       "sSkS1utvXLVDbEQnK4jmpGgvpe3uuBsfTPNkYuklQ0sx1Gd3GwhmUU27amMj1Poz9IQm407yO+3I\n",
       "6ECsFC/xZHh5pJTvVa/bhT18Xr+lu2gnzu6tf6/JSZmT1NPejSGVjug8eXUl8+1eTxNX9YzMiWsZ\n",
       "axHO8OSUfO23+CBR+wJuYz7Ak5p0bfVUW788bTapLmMwwpHR4gq053oeedCOmTc0CWu3lrAJ1Vsc\n",
       "Gcz5ci353p9L4Af+1C7RcxLS/u+1ffpYnt7dkDZpkzZpkzZp/1PaPt2+qNy/kvWyWZTHDBEMONHV\n",
       "nhTZLAqle1/BQ5HwmCGEAUM3X4nVtj83QiOuedLmMEMMA8ZFlwneNvmr3nbvq143+c/SWpK0SZu0\n",
       "SZu0/0ptH/xh/Bc6a1yz2GCi7gAAAABJRU5ErkJggg==\n",
       "\" style=\"display:inline;vertical-align:middle;\" /></a><br>"
      ],
      "text/plain": [
       "circuit_aU: QCIRCUIT(([MULTI_QUBIT_ELEM]{element:[INPUT]{state:a, part:1}, targets:{1 .. k}}, [MULTI_QUBIT_ELEM]{element:[INPUT]{state:a, part:2}, targets:{1 .. k}}, ..., [MULTI_QUBIT_ELEM]{element:[INPUT]{state:a, part:k}, targets:{1 .. k}}),U_{1}, U_{2}, ..., U_{m})"
      ]
     },
     "execution_count": 14,
     "metadata": {},
     "output_type": "execute_result"
    }
   ],
   "source": [
    "circuit_aU = Qcircuit(VertExprArray(\n",
    "    [*multi_input_entries(a, one, k, (one, k))],\n",
    "    U_1_to_m))"
   ]
  },
  {
   "cell_type": "code",
   "execution_count": 15,
   "metadata": {},
   "outputs": [
    {
     "data": {
      "text/html": [
       "<strong id=\"circuit_Ua\">circuit_Ua:</strong> <a class=\"ProveItLink\" href=\"../__pv_it/common/7046089dc6bb41a69740c2df7f027e9c665e7d6a0/common_expr.ipynb\"><img src=\"data:image/png;base64,iVBORw0KGgoAAAANSUhEUgAAAWMAAABYBAMAAADSJosIAAAAMFBMVEX///8iIiLc3Nx2dnZmZmbM\n",
       "zMy6urpUVFSYmJhERESqqqoQEBAyMjKIiIju7u4AAACSi8d0AAAAAXRSTlMAQObYZgAAAAlwSFlz\n",
       "AAAOxAAADsQBlSsOGwAAAxFJREFUaN7t2z9oE1EcB/BfzpyxaXPpUBAcNJAhdCiNg4ig5MTBTQ68\n",
       "jkIWcXAJ/h1spYPWRTSL4Bg3t3azW7PYTXoRRYcIgQwiGpKlglL/HPUSknfvz+/1Tmnr7yA3tN/7\n",
       "/T5c3r3cNa8Ag+2XbNONZeOoNpLkbT3J77K6sSxEr6YqQ2QiE5nIRN7d5A6qieWhyMIYS+5EITdR\n",
       "TTJ1FFkYY8nNCGRrrYZp8vk7iiyMMWSmqx7504N1RBPr6XwZQRbHGDLTVYvceel+vKlsYjXnLtx2\n",
       "lGRJbJTMdtUiPwcXLiqbpBdN2ywqyZLYKJntqnn5uajRZ9qosSyMsZefG2XGIDKRiUxkIhP5/yPn\n",
       "UU2MIoosjLHkPD37EZnIRCZy+OjCscM1uLPlKZpIY9pkTjWds1zyH+EzReV5kcX0z3K4mg55w38l\n",
       "W8omspg+OVxNh/zNf6XUTWQxfXK4mgb54A9/11Y2kca0yZxqGuQDm/5uSdlEGtMmc6qFyxjXX3tc\n",
       "cmLF36lvF6UxbTKnWrjM1dzYTy65W/F3FWUTaUybzKkWKmOtQnKSS15e9N8CD6yH8iZBrH3yroxs\n",
       "bfV33TqimpSc7EGiOPwl8uDokuMPrRxcagwdKo7ZcJYXG/xsqr9L2IhqLHmk4HgVumXuWS4F080z\n",
       "+VkOYl9h1olhYJR4cxxTpuvBY/6MsexP6NfU5CD2KB5yUO3e/Q+V909E5BrMp3M88oQNBUdN7sfg\n",
       "eByX359q1tIqvIB3gjJjXnoqyf/0O3Vj+zpQkPsx82gsn37b1YxOHTbhnGjGWDhReCu9+VSRg226\n",
       "FePNZ8ozV+DIju+XcWTDNnLxkcedTNXoOX+XPD3ntuIjz/rn+VDV3iE5v3EG02RteEVRZPIVmMgZ\n",
       "Cy169iMykYlM5H3wJ3H6roTIRCYykYlM5F1P3oNL+9rrbgqxgPL0ZRuzgFIcGyWzXfUGxpc3txBv\n",
       "pfXqfBkxMMQxZmAwXff9YmBooJpkJlFkYYy9/BpRZowZ3C0+bmG7gV3YPkPPfkQmMpGJTOR/St4r\n",
       "/9T8G07F/Kh8zhvqAAAAAElFTkSuQmCC\n",
       "\" style=\"display:inline;vertical-align:middle;\" /></a><br>"
      ],
      "text/plain": [
       "circuit_Ua: QCIRCUIT(U_{1}, U_{2}, ..., U_{m}, ([MULTI_QUBIT_ELEM]{element:[OUTPUT]{state:a, part:1}, targets:{1 .. k}}, [MULTI_QUBIT_ELEM]{element:[OUTPUT]{state:a, part:2}, targets:{1 .. k}}, ..., [MULTI_QUBIT_ELEM]{element:[OUTPUT]{state:a, part:k}, targets:{1 .. k}}))"
      ]
     },
     "execution_count": 15,
     "metadata": {},
     "output_type": "execute_result"
    }
   ],
   "source": [
    "circuit_Ua = Qcircuit(VertExprArray(\n",
    "    U_1_to_m,\n",
    "    [*multi_output_entries(a, one, k, (one, k))]))"
   ]
  },
  {
   "cell_type": "code",
   "execution_count": 16,
   "metadata": {},
   "outputs": [
    {
     "data": {
      "text/html": [
       "<strong id=\"circuit_Ub\">circuit_Ub:</strong> <a class=\"ProveItLink\" href=\"../__pv_it/common/1f22d3d970b6d5916ffe891aacec60c39dfe765e0/common_expr.ipynb\"><img src=\"data:image/png;base64,iVBORw0KGgoAAAANSUhEUgAAAWEAAABYBAMAAADW01s1AAAAMFBMVEX///8iIiLc3Nx2dnZmZmbM\n",
       "zMy6urpUVFSYmJhERESqqqoQEBAyMjKIiIju7u4AAACSi8d0AAAAAXRSTlMAQObYZgAAAAlwSFlz\n",
       "AAAOxAAADsQBlSsOGwAAA1BJREFUaN7tm01oE0EUx183jalpspuDIChoIIfSQ2j0IkIhKx70Yl1w\n",
       "e+9FPLZ+Q/2gB603yUUUvOTorb3ZW3PQeiqmKOghgYUeVDQ0Iq0fVOP0M9ndmZ237iCtvoHMIfP4\n",
       "/3+ZfTM7OzsB2C5GK6C0w1qoMKOlQM0VySkGrq2JCjMguppMhoiJmIiJmIh3JHED59FAEetVJHEj\n",
       "AnEN51FDEacrSOLanxPrs2WMhzDMbfXxB47YIxeK+MO9OYyHMMz98x/dHEERe+TCEDee2++uyj3E\n",
       "YZ1iem146LqFIPbKhSF+Ajack3uIwzrFkhNxM15AEHvlwo08G5d5NmrkxU3kyLMjzBVETMRETMRE\n",
       "TMT/C3EO55FDEWsFJHGOnvOImIiJmIjbrdrFz+OQmJ2XePQd3l+GG6tVNcQctRB9HFth1StprxTZ\n",
       "I326oKqP/WohiFNrOkNSj5fs0+2oIvarhSA2Sqwak3p8Z5+Esjz2q/m37x5nBK2jLJv0gsxjz09W\n",
       "Laoi5qj5ZVKiFVXRAuiR7jvFllk1qYqYo+aXMcqC1oNrKSX16JpmlamKmKPmlxl1+K3614AEbXss\n",
       "jXmzPQoxR80vc0TQmvzGqjzA+0qgx9QEm7qrsHjsdhCxvrpVLVUQasHEL+rjrhfDrpQ6CvF6e2R2\n",
       "vGZudmZ7LMuu5Ale2PZ3+7aqLhOh5iV2CeqrzlKW93tizY0LlMwE9nFxI3dWYMBSkBVF3uTmkUn+\n",
       "gl7uLZY1QCIrJZ5iw+ASwH01xJtqd+7Wx94+EMh0V8Dg7+o+A21t41lCzCbHPss9HiIQb6jpkzPw\n",
       "FN4IZLoKMFrmrysengE5MRy/sn6J4oeU3PPW1bRGBZbhpECGTcdnnaB7uIx4s/Q7ClebiWp8Gg6I\n",
       "iC19BqITa6aWVUfca6VLWtPiyyQm9poKiPuHbUcd8QDr5Z6SKVgJXT4duLLTBr9UER6znaeDIhNf\n",
       "gFRWu+XQcx4REzERE/FW2X073vQehIiJmIiJmIiJeGcS774TeotzdgJxClIc5joFOXjeRJ2C9MqF\n",
       "yopPr69hrqMwzH3SdP7UCCorPHL/+GleWMB5LKBGXjqDHHkLEeaKPM4jj1vRY0+l5+k5j4iJmIiJ\n",
       "mIj/BvHu+Pfxb5h6sp8cWBqZAAAAAElFTkSuQmCC\n",
       "\" style=\"display:inline;vertical-align:middle;\" /></a><br>"
      ],
      "text/plain": [
       "circuit_Ub: QCIRCUIT(U_{1}, U_{2}, ..., U_{m}, ([MULTI_QUBIT_ELEM]{element:[OUTPUT]{state:b, part:1}, targets:{1 .. k}}, [MULTI_QUBIT_ELEM]{element:[OUTPUT]{state:b, part:2}, targets:{1 .. k}}, ..., [MULTI_QUBIT_ELEM]{element:[OUTPUT]{state:b, part:k}, targets:{1 .. k}}))"
      ]
     },
     "execution_count": 16,
     "metadata": {},
     "output_type": "execute_result"
    }
   ],
   "source": [
    "circuit_Ub = Qcircuit(VertExprArray(\n",
    "    U_1_to_m,\n",
    "    [*multi_output_entries(b, one, k, (one, k))]))"
   ]
  },
  {
   "cell_type": "code",
   "execution_count": 17,
   "metadata": {},
   "outputs": [
    {
     "data": {
      "text/html": [
       "<strong id=\"circuit_b\">circuit_b:</strong> <a class=\"ProveItLink\" href=\"../__pv_it/common/c8165e679fc01f73411d195287ffd82ad577b2e40/common_expr.ipynb\"><img src=\"data:image/png;base64,iVBORw0KGgoAAAANSUhEUgAAACwAAAAXBAMAAACCF7BcAAAAMFBMVEX///+YmJjMzMzc3NyIiIhU\n",
       "VFR2dna6urqqqqpmZmYyMjIiIiIQEBBERETu7u4AAAD7tRWPAAAAAXRSTlMAQObYZgAAAAlwSFlz\n",
       "AAAOxAAADsQBlSsOGwAAAMVJREFUKM9jYMAAjFsYsILjWMSYGZg/YBHmesB4wSQBQ1iVgdW57zAD\n",
       "350NKMLTGXg8GBSAuiagCG9gsJ8JFGXgb0AW5ZjAIMu+wYCBof4BsjCrAkMI0wagldkoZrxiYLjM\n",
       "EAg0ZalLBJKwCJTm+/XgPdAo/v9wALHjHwOPA8KPF6AMzgUM/AhPscGcxZ3AUI9wIjeMAXT2fIQT\n",
       "K+HCCnwHEQ4JgrtfgHcCstdhDgybiBQxDljjhesBVmFb7LGYgV04AMYAAKWaLvy+X9x/AAAAAElF\n",
       "TkSuQmCC\n",
       "\" style=\"display:inline;vertical-align:middle;\" /></a><br>"
      ],
      "text/plain": [
       "circuit_b: QCIRCUIT(([MULTI_QUBIT_ELEM]{element:[INPUT]{state:b, part:1}, targets:{1 .. k}}, [MULTI_QUBIT_ELEM]{element:[INPUT]{state:b, part:2}, targets:{1 .. k}}, ..., [MULTI_QUBIT_ELEM]{element:[INPUT]{state:b, part:k}, targets:{1 .. k}}))"
      ]
     },
     "execution_count": 17,
     "metadata": {},
     "output_type": "execute_result"
    }
   ],
   "source": [
    "circuit_b = Qcircuit(VertExprArray(\n",
    "    [*multi_input_entries(b, one, k, (one, k))]))"
   ]
  },
  {
   "cell_type": "code",
   "execution_count": 18,
   "metadata": {},
   "outputs": [
    {
     "data": {
      "text/html": [
       "<strong id=\"circuit_Akm\">circuit_Akm:</strong> <a class=\"ProveItLink\" href=\"../__pv_it/common/c283b45506a02854cc54103d25aa11de037169420/common_expr.ipynb\"><img src=\"data:image/png;base64,iVBORw0KGgoAAAANSUhEUgAAAhUAAAC6BAMAAADrH6JfAAAAMFBMVEX///8QEBAiIiLu7u5ERES6\n",
       "urqYmJiIiIjMzMx2dnZUVFRmZmaqqqoyMjLc3NwAAABb1yYoAAAAAXRSTlMAQObYZgAAAAlwSFlz\n",
       "AAAOxAAADsQBlSsOGwAACeJJREFUeNrtnVtsFGUUx0+73e2U3c70RSVApMYHIxizJgZSfWANJBA1\n",
       "ttrEB0PCRmtCYowbJTTghQUfIF7SjQ+akiBNRGvUhI1G5RJ1gzxbiCaGFylKQhCxixahIKyzM9/u\n",
       "XL6Z831z6dLimQfo5fScM7/5vrl8nX//AM1Nq0XarEQQLVEV5LZaHJtPMQ2ibPafrkbKVI05LkwS\n",
       "YkEsiAWxCMpCPRYXi/NR20MvV9VI/cqx6BYC7+yf3remImZxUtjKptrDax71b6+KIa9K9+vTsgSL\n",
       "CXFuLQfqFSGLTE3c4zTA1Fg0FhNSk8WjZQkWh64LE48UAPonRSzS+ydFiZRLAB3Xo7GQ6Ne7ZTGL\n",
       "rrOXhYm3FfUJIGTx/t6icOjqtbqjsZDp17tlMYsznf8KE+snAmVaNEfUwraKKFF9ro/kIrGQ6de7\n",
       "ZTGLcuYf7lsPDn8Jby8+s7VgzfJfx0Qs0jCRdydKfP3ygHL82+Fx2yxeFu3c6dWvXMtCFsmKMsPN\n",
       "6nuhowDLKgobzcnp4d0HhNfU9TBScmfaMQlrof0zGGGjdcPaLZ8WI7Hw6leyZSGLtHG6TTxvfLLC\n",
       "vHS3l0C5DA8BsCPQdR0eWO0K4lmU61eIxOgnWWiGwt36lCh29IDGRszeycS+rCsoGIu06/LAkvi0\n",
       "zMWhLDYdPqQPp50vGnCHe81zsD7vZ2ANwCU2y3vqnzuDOBadjxzen9NbTde/bYaCok9trdSRA40N\n",
       "3eP1z11BwViY/VobS+LTMheHsUjoTf6l/3/EvEMwWUwM1OeblVjTj/cVVxDHYqX+tV7QBlTjNM9C\n",
       "L9ZPETYWepZVY64gF4tV+rBLXGMfcCwa/VrbEbRld1zVZ0XEHHIAd7hZ1CFftSXekIfMVTcL9wJJ\n",
       "WR+oPZDK2nfTGBdli0VSH8ETZVeQK1G7ngiWNz7QXFVYv89tHB7bvM62jz4tc3Hei1Em8ifZrbOD\n",
       "RVsZkhdtib/LQtclKKLjIplnd8ddvVZlWKx3NWCxSP+tnzIKijMo0Bwx+008eyssgq22ffRu+XUu\n",
       "Dpkjqj6tjNszBwtlIXSX4KdGYnVpFlKXkhWUxSlgd5Q7sjYW24twArqbLE7pLF4orHcGBWHB+lVX\n",
       "HoPLcNC2j94t/8DF+bNI9F/LwtHaCRcLODf6Ibxx4eOjF4wr9OjouwDfbEbPF/fXfoRM/7USqKtt\n",
       "lUE9uHtA2b/orf5Fxsl9dDQP6Z/zzqAALJr9LigoPXCPvZJ3y1yczPqFk4XPhp472XYO/rR16LM5\n",
       "goI+jxhTotiZU6tFYSUuTpJFnwyLPgELdd2uLxIlQYfOoDAspvQjnsqVhZW4OAkWZ0++B9sr6p6Z\n",
       "ApLYEeTDok0/3ytLjFDkaDmCwrB4Cron1fGssBIXJ7vGJ3yysgdha3wZmUSZsM/sgSv5FMNYJLMS\n",
       "SZtBGItBmfYG42AxKMliMCCLlEzSlMzab14mUz4OFnlJFvn5tw4utfb7f/udQFV+N4gFsSAWxKK1\n",
       "LObwuyjV+PsN9uJLnMMm4gG90S0TC2JBLIgFsSAWxIJYEAtiQSyIRatapudUWr8gFsSCWBCLOFiQ\n",
       "ZoI0E15lSDNBmgmPMqSZANJMeJQhzQSQZoIvY9dMMC0DrplgQbhmom/3B8bXUM0EC4qmmWBJhJoJ\n",
       "vhhfxq6ZYFoGXDPBgnDNRBk+N44WqplgQdE0EyyJUDPBF+PKODQTDS0DqplgQbhm4iJM1acCrplg\n",
       "QdE0EyyJUDPBF8M1Ew0tA6qZYEG4ZuIZszKumWBB0TQTLIlQM8EX48aFUzPBtAy4ZsIMEmgm4B3j\n",
       "X1wzYQZF1EyYScSaCa6Yu4xLM8G0DLhmwgwSaCaUO43v4JoJMyiiZsJMItZMcMVcZdyaCaZlwDUT\n",
       "ZpBAM3HafD8Y10yYQRE1E6ySUDPBFfNdvzB3k2kZ/DZ7EK6ZUMsq9mziCIqmmcArcXHSmom6lkHA\n",
       "ohmEayZO73oTebvcGRRNM4FX4uKkNRNt+LtdjiBcM7G0hj2/O4OiaSbwSlwcaSZIMyEohrEgzcSc\n",
       "WgcnzcQc+p0AsSAWxIJYCFnMs3dRaqSZuCEtEwtiQSyIBbEgFsSCWBALYkEsiMUcYBHxsc7rWThY\n",
       "3eANxNay72GpxjW4tJDDQWt5y8SCWBALYkEsiAWxIBbEglgQC2JBLIgFsSAWxIJY3CwsDIlTHCwM\n",
       "wVRLWMTSsldiQ+IUy7hY3ioWQVsO9lZT5PejmvskXdcYRhDs50K1XJ0H54vldO6k6wixIBZ0fxHm\n",
       "/sK6ltD9hXUt0VreMs0RYkEsiMV8ZmFeS4iFdS0hFnSvRWs5N3Ath+YIsSAWxIJYzBKLufM+eK3l\n",
       "LaOHNL5RNqs/AqSZIBbEglgQC2JBLIgFsSAWxIJYEIv5zSK2v9ql1WL7q2UIi1hs7/zWAKpxHW0t\n",
       "/gFYna1xqhELYkEsbhIW2LmuJSzOx8bifNT2sHXwiFXkWIjd6jxN5DxYhPO9C8ripMw++/ne4Sxk\n",
       "3Oq8TOR4FiF97wKyyMj9msDH9w5nIeFW52kix7MI6XsXkIVMv+Dre4ezkHCr8zSR41mE9L0LyEKm\n",
       "X/D1vUNZyLjVeZrIcSzC+t4FYyHVL/j63qEsvNzqpEzkOBZhfe+CsfDsF6R971AWXm51UiZyHIuw\n",
       "vnfBWHhVAXnfO5SF4VYHKwyv2tRd5ndQ3zt4uuDNwu5718iE+t6xoGAsyq7rEOtG6HvHF+NYmG51\n",
       "ynCv8aVb2Dm4gvjeQduAJwuH7x3LhPvesSAXCz+vN3sV28a6Efre8cXst7k2tzrIGL2pbP9Q3zuY\n",
       "4u6XwcrELO1YJtz3jgVpkl5vtiq2bQpvubnxxbhxYbrVMRap3JlSA7Kv7x0MqVu8xoXD945lwn3v\n",
       "WFCgOcKqfLVza+dQ0daN0PeOL+Zm0XCrM1kseO37241xh/rejf9x3yTPwul718iE+t6xoCAsWJUV\n",
       "j+fbxjrHbN0Ife/4Ym4WDbc6k0XbK2Cwxn3vbqsoHuPC6XvXyIT63rGgICxYld9eBa2YLtm6Efre\n",
       "8cVcLJpudSaLqcPseof53qlXD3icO12+d41MqO8dCwrAolllHLZDe8XWjdD3ji/mt35hshhK9qL3\n",
       "+qZPZu4JFVm/MC3tBJkcQUGfU+vbQtgEU4qtG5/N8r3jiyEsEjptpbckYNGno97R5c+CWdrhmZxB\n",
       "IVjoF4VxGErbuvHZLN87vpgPC3XPTEFZAo/BR9hzj+l71zG5YKM/C2Zph2dyBoVgkRyDX+D3l2zd\n",
       "+GyW7x1fDFvjk/OQq0is8QXzvQszR7huQhTDWEh5yFnmeAiLYL53EVhIWfX5FcNY5GWSpmTWfqUy\n",
       "5WNgkZJE4Vls3q2Dx1Zl3rGIIYxYEAtiMRvF5vL7F157Efv7F/8B9npAsttahW4AAAAASUVORK5C\n",
       "YII=\n",
       "\" style=\"display:inline;vertical-align:middle;\" /></a><br>"
      ],
      "text/plain": [
       "circuit_Akm: QCIRCUIT(([MULTI_QUBIT_ELEM]{element:A_{1, 1}, targets:R_{1, 1}}, [MULTI_QUBIT_ELEM]{element:A_{1, 2}, targets:R_{1, 2}}, ..., [MULTI_QUBIT_ELEM]{element:A_{1, k}, targets:R_{1, k}}), ([MULTI_QUBIT_ELEM]{element:A_{2, 1}, targets:R_{2, 1}}, [MULTI_QUBIT_ELEM]{element:A_{2, 2}, targets:R_{2, 2}}, ..., [MULTI_QUBIT_ELEM]{element:A_{2, k}, targets:R_{2, k}}), ..., ([MULTI_QUBIT_ELEM]{element:A_{m, 1}, targets:R_{m, 1}}, [MULTI_QUBIT_ELEM]{element:A_{m, 2}, targets:R_{m, 2}}, ..., [MULTI_QUBIT_ELEM]{element:A_{m, k}, targets:R_{m, k}}))"
      ]
     },
     "execution_count": 18,
     "metadata": {},
     "output_type": "execute_result"
    }
   ],
   "source": [
    "circuit_Akm = Qcircuit(VertExprArray(\n",
    "    ExprRange(i, [ExprRange(j, MultiQubitElem(Aij, Rij), one, k)], one, m)))"
   ]
  },
  {
   "cell_type": "code",
   "execution_count": 19,
   "metadata": {},
   "outputs": [
    {
     "data": {
      "text/html": [
       "<strong id=\"circuit_Bkm\">circuit_Bkm:</strong> <a class=\"ProveItLink\" href=\"../__pv_it/common/7b59f4d196b30b625a5e7562e3bb54d7e802f2a70/common_expr.ipynb\"><img src=\"data:image/png;base64,iVBORw0KGgoAAAANSUhEUgAAAgwAAAC6BAMAAAAwpAh9AAAAMFBMVEX///92dnaqqqoiIiLu7u5m\n",
       "Zma6urqIiIjc3NwQEBDMzMwyMjJUVFRERESYmJgAAAAeMT9/AAAAAXRSTlMAQObYZgAAAAlwSFlz\n",
       "AAAOxAAADsQBlSsOGwAACPpJREFUeNrtnU9oHFUcx39JN5vZzWYn4kHQggvVg7coBsHT5iSC1hQt\n",
       "igcJmEtBaNRKBFu7iqIHS4qgFu2fxSClvaSCB3tQg3/IodEsIlR76YLaQ0voWGwrbTXOznuzs7P7\n",
       "5vd7b+cl7ba/B92Seb98f7/9ZHZ29vG++wNoDnc1zbCvg450ScTw1MqQYrj2dazEYYMxMAbGwBh6\n",
       "F4OLvh2tMYaV1aWlr6qUwr1bRs7gGGzpWEiiykOeDQcAClcI1eFpeNwjyrelkzqJMg+FwbkMkL1I\n",
       "yG4FKB7DK7Slkz6JMg+FoejDLV4mZP2Y7DReoS2d9EmUeSgMBX9yaB+umv0PIF/FK7SlkzqJOg+F\n",
       "IVeDzHftv5J5+pXJ/PFnZhblj6t3khXa0jFPopWHwjB/cuZEvX1qrgInYcO3MF8RP59fvVYhKrSl\n",
       "Y55EKw+FYXcF+g8CbA6uKJlzYup+P2N1eC+4Mmdm1+recFJEumqdzG1LZUpnfOP3iA6KQRYbDSGi\n",
       "ztNyspwjMfzm/7u7mp8Zbfxw+OXgWP6CPzsyXAO3eZ0ZuCQnZaSr1hmAgVFKZwKeRHRQDCJJdFSK\n",
       "qPNEQ5aDYbjWOIemoT/Qg03BY7+v4dYiWZ9x5kJzUl2+0HEnnSuUziWYrSbpPOH/dTNXQT4kJGl5\n",
       "DkIkod5obOrA0HarmvcvqrA8GccQ0J1oymYW/Hfsv9swqHWK5VYMap0/YhjiOhsm/IcxkA9JSZ47\n",
       "vHNwpRoVo87z59mZhddPtTwt9WJPAHjwH1/lKsQxwAcA2yebso25gRH8bAh1oG+U1IHbkbMKe1HI\n",
       "JJu31XMLgwuRiDJP5sxB2A87E86GNuUh/1Ky7Yt2DEeq8DkMhbID/hVoI+AYQh2YK5M6+Qe7xCCT\n",
       "vPUauNWAZ1i2Ko/zyDH/NmqLFobC6WtLJ36GdgzOlo2T+eX9n57eH8hmf1gq4RiaOs4vtM6ecncY\n",
       "mkkW4QhsKLVgUOYpTOf3wgN6Z0P8WhOWrx7oJVKOt+FdSseZcCrdnQ3h+Bh2wWy+pWzlyFUHa45X\n",
       "NcWQGaExjBPlO6eOPkXp7Dn6WXk8DQbH88+HlYGoGPWY9c+HYm0iKofG4Nz113T+fXjjmzuSZRuT\n",
       "R0qNyOQKc6urHqVzyL9QUzoohuwCfAnv7YhE1OMFGKo4i+WoHM3Vp36N9YySxk2wLR1yiauktejU\n",
       "b7gIN0VLZssaFdrSoTA0RfAxZYihTksWdSq0pUNhKOotQdZ5SbaXF+hd28UyBsbAGBiDOQZbWyZs\n",
       "b/NwbRdrtqNEh9166LjXtV7GwBgYA2NgDIyBMTAGxsAYGANjMMrGnzB5vYExMAbGwBh6CgMbCRKe\n",
       "KRsJUiQBNhIk5qEwsJEgeGQjQfDIRoLgkY0EwWPMSCD3+GNGAmkVwI0EqI6YTNJBMbQbCaQIZSSQ\n",
       "5WgbCcQef9RIIK0CuJEA1RGTSToohnYjgRShjASyHG0jQbjHHzESSKsAbiRAdcSkWsfQSCBFKCOB\n",
       "LEfbSCD3+GNGAmkVwI0EqI6YVOsYGgmkCGUkkOXoGwnEHn/USCCsAoSRANWRk33GL4pOI4FMRxkJ\n",
       "REZ9I4HY448aCYRVgDASoDpycs74EtlpJJDpKCOByKhvJBB7/FEjgbAKEEYCVEdMKnVQDAojgUxH\n",
       "GQlERm0jgdzjnzAEBmEVwI0EqI6cxHXQm4rISCB9C8oRGQlkRm0jQWOPP4phPLAKAGUkQHWEkQDX\n",
       "QTFERgIpoh6RkUCWo20kOITtkxJGgpxYnMeNBKiOMBLgOiiGbNNIkEv6+p7GiIwEshw2EpgswrGR\n",
       "ILz5ogYbCW7uJVleoGcMjIExMAaV8o36fZFrtc3Ds8duPXR47xNjYAyMgTEwBsbAGBgDY2AMjOFm\n",
       "wOCmc3d3qeN2by5P9yGS/HO466njdn1a2KqXMTAGxsAYGANjYAyMgTEwBsbAGBgDY2AMjIExMIZ1\n",
       "xdCw+9jA0O4WWisM+nmMyg/sPjbOhrF1OhvGjOo12pDkWvpSGVc3OvibgnH6rn/hRr02jPElkt8p\n",
       "GANj4PsG5MlE7xa39n3D2DrcN/CLgjEwBsbQwxiM3qhuXgxGb1T8ouBlF1524dsnvjYwBsbAGK43\n",
       "hh7bM+2uzZ7pYPAOesbAGBgDY2AMjIExMAbGwBgYA2NgDJrD1ndJWf9OKtd6sdincM/SH9mzfbK4\n",
       "a3RuMgbGwBh6EgO6FnkLYcBOizXGUGx8vf0pUqGza5hnXYfGoJkEjLqciaO5GsBylVBVdA3zrOto\n",
       "nA1aScCsy5k4OjsNsH2CkFV0DfOs62hg0EoCZl3OxNHz1Xg7GOVQdA3zrOtoYNBKAmZdzsTRZf/f\n",
       "8Qququoa5lnX0cCgkwQMu5yJowcAHnu4fUqja5hnXUcDgzIJpOtyFhzN/zuz8+uOKY2uYZ51HRqD\n",
       "Ogmk63IWHG00B7qvLjuYwe/yBYV0OQtjPKWO7CeG6sRjTDDIJNEoPoTk6QhDMPi/C31XZAczyE0G\n",
       "/2FdzsIYT6kj+4mhOvGYOIbE9l6tSVrGh0iejjB1e6/gqLsgOkyK9jyzIgbrchbGqHVkPzFUJx6j\n",
       "2d4rVmxzOB5Wb3uYesdAMDfv/0rhUvgUV5wXm3QTupyFMZ5SR/YTQ3XiMSYvCpkkal9WrL0zAnSX\n",
       "MxmGvCh2+5eS+WPhU1x889Hg0oJ1OZMxnlpH9BPDdWIxJhhEkpb2ZYVX79mXlKczDMFw3H+X/aQc\n",
       "PsWPSkG3KLTLmYzx1DqinxiuE4sxwSCStLQvy70E1aQ8nWHJGH5sdGQuhU/RufisfDEldzkLYzy1\n",
       "TtBPjNCJxRhgCJNE7ctmt1aT83SEaXzQFt0Na887yM1ZLEb9QVv0E8N14jFdfNCO2petZEeT7yk7\n",
       "wvQwjPv85vpwDFGMGoPoYIbrxGO6wBC1L1vMj44k5ukIozGIDmbDlcLZ5PLjMWoMooMZrhOP6QJD\n",
       "1L7sV/gp+WN3R5jm6lNJYz2jpLH61KWO8eqTTjc1ILuctR/VaRoWxXjWdYwxTOlhmDLDoNM0rKix\n",
       "FtmtjjGGuh6GOq9M9+DKtI0wxsAYGEP6VDfs/gb7xXak+h8/nuawLDRv/gAAAABJRU5ErkJggg==\n",
       "\" style=\"display:inline;vertical-align:middle;\" /></a><br>"
      ],
      "text/plain": [
       "circuit_Bkm: QCIRCUIT(([MULTI_QUBIT_ELEM]{element:B_{1, 1}, targets:S_{1, 1}}, [MULTI_QUBIT_ELEM]{element:B_{1, 2}, targets:S_{1, 2}}, ..., [MULTI_QUBIT_ELEM]{element:B_{1, k}, targets:S_{1, k}}), ([MULTI_QUBIT_ELEM]{element:B_{2, 1}, targets:S_{2, 1}}, [MULTI_QUBIT_ELEM]{element:B_{2, 2}, targets:S_{2, 2}}, ..., [MULTI_QUBIT_ELEM]{element:B_{2, k}, targets:S_{2, k}}), ..., ([MULTI_QUBIT_ELEM]{element:B_{m, 1}, targets:S_{m, 1}}, [MULTI_QUBIT_ELEM]{element:B_{m, 2}, targets:S_{m, 2}}, ..., [MULTI_QUBIT_ELEM]{element:B_{m, k}, targets:S_{m, k}}))"
      ]
     },
     "execution_count": 19,
     "metadata": {},
     "output_type": "execute_result"
    }
   ],
   "source": [
    "circuit_Bkm = Qcircuit(VertExprArray(\n",
    "    ExprRange(i, [ExprRange(j, MultiQubitElem(Bij, Sij), one, k)], one, m)))"
   ]
  },
  {
   "cell_type": "code",
   "execution_count": 20,
   "metadata": {},
   "outputs": [
    {
     "data": {
      "text/html": [
       "<strong id=\"circuit_Bkn\">circuit_Bkn:</strong> <a class=\"ProveItLink\" href=\"../__pv_it/common/35056868991e7f8816a6b0761eb0d72cafa4df0e0/common_expr.ipynb\"><img src=\"data:image/png;base64,iVBORw0KGgoAAAANSUhEUgAAAgQAAAC6BAMAAAAjc0iJAAAAMFBMVEX///92dnaqqqoiIiLu7u5m\n",
       "Zma6urqIiIjc3NwQEBDMzMwyMjJUVFRERESYmJgAAAAeMT9/AAAAAXRSTlMAQObYZgAAAAlwSFlz\n",
       "AAAOxAAADsQBlSsOGwAACPdJREFUeNrtnV9oHFUUxk/TzXZ3k+yk+CBo0QXxQUGsYEGKD5sHEUHb\n",
       "LVoVHySgLwWhKVLyYKWrKPpSUoRiqf2ztEhpFRLBlz5Ug/8KNpIggliQBtQ+VEqnpU1t+ifO7r13\n",
       "sjNz57t3dmfDhpyBtknn7He+/c3szO7lSw6RvzkL7WyLOpSWDtraMxvXxqE2tuYHuynppFGX7OGM\n",
       "gBEwAkbQjQg0F313SRBcWpiaOl0zSTy8ZfACRtC+jsam25LZaBfDWXCIqH/eoDkwQi+4hrOgbR0L\n",
       "BFZNNF0wgtwNoux1g+hWouIERtC+jgUCqyaaLhhB0YNavGEQ9WqyIxhB+zoWCKyaaLpgBP1em779\n",
       "WDN7l6hQwwja17FAYNNE1wUjyM9Q5vvwFSbzys7hwqlXR8/IbxfuM94RtDr0zOjL9MW+j3aNWOhY\n",
       "INA3MbvFCMZ/Hz07G951rEq/0+rvaLwqvr+8cLtqQKDVKTxVvzY9XSr8Z6FjgUDbxMItRrC7Sj2H\n",
       "iTY1rh+Zf8WuJ7xutYG95Mh+mXcX9qqdojKCQOhk1k6Vm3RWD1Jhnv4gutukM7TuB62OBQJpVh19\n",
       "5FZtUbsRBJ4/erBWGF1f/+b42+LgXfX2Dg7MkONfVXrn5E5ZGUEgdHqpd/2iDo2XiK7Qn0Q3mnQq\n",
       "9KJWxwKBaKL+D7pV52HUbgTB7fqZM0I9jUp6qPF3j6fgzCyKenQzV/2degRCxxnOzS/q0OPDRHcW\n",
       "EQidORqr6XTqX2ZueX9tnpBfRBBIs2qDbuUWtUuhZYRC/RSdHg4iaHCt+KKZSe+OfC2EIPQ2VuoU\n",
       "ywEE9bPguo9A6vwdQBDys6H+8qnIL2LMFl8/vtPo9p+LoxWKbdMMdo13oSrcoiAC2ke0fdgXre/r\n",
       "HcRngdKhVeubdPIVys75CJQO3UNxZwF+Icgmm7bN5qsGt5kLh2l/zFkQatnnXTi2fR1GcKJGX1Gf\n",
       "Eu31rjfrCCNQOnSs3KRTOEB9g3RaIlA6hSdbRCCbfPAOOWWD29yzE3TNCkH/+dtTZ3+lMILclnXD\n",
       "hemDR88fbIhmf5wqYQS+Tu63Zh36cO1P9OXNnx+7Odmks6fcGgK/yRnaZnTbP5Lda3cWBK8avnXt\n",
       "Bi+H6jnTxyadXCVXbe0sUNsB2lowdcnXeiu1pAgyg2YEQwYEuXMnXzLp7Dn5eXmoHQQ5lzY+auoy\n",
       "RquP1oYSIMjdf2Wk8Am99+298aL1nSdK9cp4BHnv/mDSOeJdlHU61giyk7Rj1tTlLVrzgN4uetPY\n",
       "Y7H8UrJYNWpRx/6FYN1FaxcheNMsmS1bIGhRJyECiy56uwjBrFmzaLN22KJOQgQWXfR2efl0WSyi\n",
       "O2mbZQSMgBEwAvzwbo1YOKmbtU5yxN2TO3MA0nxEem4ZASNgBIyAETACRsAIGAEjYAQrGgF/UuT1\n",
       "AkbACBgBI+hKBBzG5zA+h/GJw/jEYXziMD5xGJ+6JYwvc/IojC/j9jiMr3RAGD+qkziMD92qMyRq\n",
       "N4IgEMYXOXkYxpdxexzGlzoojB/VSRzGh27VV1G7EQSBML7KyYMwvozb4zC+1EFh/KhO4jA+disf\n",
       "F7WLw/gyJ4/C+DJuj8P4UgeF8TU69ZokYXzoVobxY9o0gw2F8UVOHobxRdzeEMaXOiiMH9FJHsYH\n",
       "bv0wftRuGEEojC9y8jCML+L2hjC+1EFh/IhO8jA+cOuH8aN2QwjCYXyRk4dhfBG3N4TxpQ4K40d0\n",
       "kofxkVsVxo/ajbtXCgQyJx+zCQQibo/D+FBH7ozoJA7jwy4qjB+1CxBkBhs5eYhgqBG3J1MYH+qI\n",
       "MH5UJ3EYH3aRYXyN3RgEMox/BOWSRBg/L+4AOIwPdUQYP6qTOIwPu8gwvsYuetPIYXwO43MYfwUv\n",
       "n/IiOiNgBIyAESyniIXDYfylcssIGAEjYASMgBEwAkbACBgBI2AE2k2zeLcEOmjtcCncag9Dap/S\n",
       "3dYOvruUbhkBI2AEjIARMAJGwAgYASNgBIyAETACRsAIGAEjsBBt/GSMk5JOxxGk4TZqZkNKZ8GG\n",
       "JTkLkrhNlMxpN+HjJu66eSKx2aRuu/1a0PjRLL4cMgJGwAj4fUHwrrBi3xcs3hXcpXTLLwRGwAgY\n",
       "QTciEHeFFY1A3BX4hcBLJrxkwm+N+FrACBgBI+gCBCmlepPpOC1mkJ1OZJDtj0BrBzf1R3AYnxEw\n",
       "AkbACBgBI2AEjIARMAJGwAhSceukk6RKTQciSC341TZsHXYn7ZOtA7/gixgBI2AEywZBJ3/36XJB\n",
       "0LkmEEGx/qvWzxkVovOo3M7opNFE0wWeBfkZoumaQVMzj8rtkE77TXRdIIKxEaLtFYOoZh6V2yGd\n",
       "9pvoukAEl2vN40diNs08KrdDOu030XWBCKa9P6eqWFM3j8rtkE7bTbRdIIJDRM9vDO+ymEfl2uiY\n",
       "p2clQ6BvYuEWISjcGd31TWSXxTwq10bHPD0rEQJ9Exu3CEF9CM0js3IyFv0lX0JgepaqcbU6cqCV\n",
       "0gHTs2J0IALZRG3QbagIIPAeSavm5WQsyg+LgwemZ6kaV6sjB1rJGjQ9S6+DR0fJJmqDbkNFzQhC\n",
       "P6fkTIoJhWIUzJioQdOzVI1eRw60kjVoelaMDhwdpczKDbsNFulXDhpgx70H9M+pp3cpt8PnGjM9\n",
       "S9W4Wh050ErWoOlZMTrwhSCbyMFY2G2oCLwQdnsXjvEJ9fTOvP9c40KCpmfJGlevIwZaKR00PUuv\n",
       "AxGIJv5gLOQ2XAQQnPLuo5+V1dP7tFRo/IumZ8kaV68jBlopHTQ9S68DEYgm/mAs5DZcFI/gl/rU\n",
       "3pJ6ernrr4ldYHqWqnH1Oo2BVr4OmJ6l14EIVBM5GAu7DRVZfFgWU/Jm3siBt12BmpipTo2BVlgn\n",
       "WNPCh2U5GAt3CRXZIRjyyB1bhREs1ujdiclYWCdY0wICORgLdwkVmRGIyVgD1f6L8aLBGr07MRkL\n",
       "6wRrWkAgB2PhLqEiy1WjksXqS8nijW1aOninTRddG4TAHzWFPoWVze7S0sE7bbpo2yAERQvNooW7\n",
       "tHTwTpsu2jZdvYjOK8hwYwSMgBF0DkG35gvSNxto8z978Lj/kwBxYwAAAABJRU5ErkJggg==\n",
       "\" style=\"display:inline;vertical-align:middle;\" /></a><br>"
      ],
      "text/plain": [
       "circuit_Bkn: QCIRCUIT(([MULTI_QUBIT_ELEM]{element:B_{1, 1}, targets:S_{1, 1}}, [MULTI_QUBIT_ELEM]{element:B_{1, 2}, targets:S_{1, 2}}, ..., [MULTI_QUBIT_ELEM]{element:B_{1, k}, targets:S_{1, k}}), ([MULTI_QUBIT_ELEM]{element:B_{2, 1}, targets:S_{2, 1}}, [MULTI_QUBIT_ELEM]{element:B_{2, 2}, targets:S_{2, 2}}, ..., [MULTI_QUBIT_ELEM]{element:B_{2, k}, targets:S_{2, k}}), ..., ([MULTI_QUBIT_ELEM]{element:B_{n, 1}, targets:S_{n, 1}}, [MULTI_QUBIT_ELEM]{element:B_{n, 2}, targets:S_{n, 2}}, ..., [MULTI_QUBIT_ELEM]{element:B_{n, k}, targets:S_{n, k}}))"
      ]
     },
     "execution_count": 20,
     "metadata": {},
     "output_type": "execute_result"
    }
   ],
   "source": [
    "circuit_Bkn = Qcircuit(VertExprArray(\n",
    "    ExprRange(i, [ExprRange(j, MultiQubitElem(Bij, Sij), one, k)], one, n)))"
   ]
  },
  {
   "cell_type": "code",
   "execution_count": 21,
   "metadata": {},
   "outputs": [
    {
     "data": {
      "text/html": [
       "<strong id=\"circuit_Ckm\">circuit_Ckm:</strong> <a class=\"ProveItLink\" href=\"../__pv_it/common/9409e71b95da935401690877122eab45d9cf673b0/common_expr.ipynb\"><img src=\"data:image/png;base64,iVBORw0KGgoAAAANSUhEUgAAAggAAAC6BAMAAAA5T6gHAAAAMFBMVEX///+6uroyMjLMzMwiIiJm\n",
       "ZmaqqqoQEBB2dnbc3NyYmJhUVFRERESIiIju7u4AAABBACUiAAAAAXRSTlMAQObYZgAAAAlwSFlz\n",
       "AAAOxAAADsQBlSsOGwAACe9JREFUeNrtnV1oHFUUx0+ySTazSXbzIFQQYh+EKghdbGsfpLRgI35U\n",
       "m2KFKn6sqG9iK00LWmqX4kOh2OalUrV1V6tvQePnQ2PaQAWRqA3id5uyoMVQLG6t/VBq48zcO9mZ\n",
       "+3Hund1JSOiZh23cPXvPmd/cuffO9Z/8AaaP3FQDR7XWTkLNoMdU44c6VQ7qP8LfrTbQTjXhOLuK\n",
       "CQJBIAgEYX5AUAzoswfh7NhweT/6/d/WDK8e+/B+HEL25PBhp4g1k1099vGa4ZvGNRCqWN22OTRp\n",
       "TBC6tlfgmXvRZk9UoB/gMA7hx1PQtr6MNdN1BNKroKNcPwRzDk0aA4Ts53mA1n/QZofAuQDwJArh\n",
       "jzvdlycGsGY6AEp90NZdNwSLHJo0BgjNL7kvTZuwVp0yZC4CnEIhLKq4LwvQ6l4HeL8AXZW6IVjk\n",
       "0KQxQNhbcF9SfVirTS7dqwDdGIT2i95Py9Dq3AaOVrzW6oRgk0OTBofg/O3fE3nho9MT6+C2LQdP\n",
       "BKOLe5Phs0PJD/hVHKMe+747tejhiZHgjX5kdjBCUOdQldsfb3Zo/0/1Seoe6ByH+wqpYKwo9Rkg\n",
       "7B1XtbN0AL6Glk9hJb+PvaGlfgjqHIpy5TQ4hBb+vezb/j9nFvr/tBQhdR6+APiXh7o3WTREhLCW\n",
       "nWZ213Cl1hrcDbAy37kJcnyo9oaWaEgcCGulIVFTbuaiIgqBkPZTZ2HFdz7SCdbtV7rnfBm+Agj6\n",
       "iXuTRUNECDv8nyqt0Op9zEIh5RaTK3aOQo5fQ29oiYbEgcBzhHqAplwvjRSF9QQ/9VMAT/tvtbFW\n",
       "N7qDy5UwBP8mC4dIPcH/KJ/rds6HQs+5gaMhCN7QEg0RIPzpXrTsX/wHqSewHKHMmnKFEUyuGKKr\n",
       "UrZCKAoQPLQXQq2ymywCQdit8GfvdshUwmfo94S+EARvaImGCM20eGNPb/BDTp3jkRUnugbzSLl+\n",
       "GjEqp1yOs9nB+157RYCQ7oOmc6FW2U2G9YSSd5p7vLZW1UJhC8CN3SEI3tASDYk1O7AcZxaU00Nd\n",
       "Q0i5XhopClsnbCxD0x7hDCG1GZqLcOt0q81XTRDa3DHpeu92XVoJQVieh5uhuQZhsf9hOCQOBJ7j\n",
       "zW8hl28tIuV6aaQodNn86PA68QwB9u36AO649NGzl3yUu49fGTFAgNNjn3irKecbCEFwNuzuTh3d\n",
       "dvvxbX4P+GxqbFwIibVi5DlGYDm0FLTl8jRilM2jdBSC8kAh8GMfvBaCoDwiIfEeoNixGU5CKWUq\n",
       "V4yyhDBphjBpgOAcW/J4tohCiIbUAcGpuld5sNVQrhRlAWH/4ldgecHZeXlc22wkRAMh7Y7jqa1+\n",
       "qO6IhtQBoWkIboE3ThnKlaJsd5YK5v2ZgsXOUpu5mbb69hNil6upGIHQVDG2OB2CQegxV9aTAASL\n",
       "cnUVIxAy5iYzNnuMZXM75QQgZKw6QoY2WufvlrvtewSBIBAEgpA4BJijIg3Ve7mZEmnURy6Ja530\n",
       "NxIslyAQBIJAEAgCQSAIBIEgEASCQBDoKXKeSf1pU4UgEASCQBC0k8zsQSCpP0n9fW4k9SepP0n9\n",
       "gaT+02+T1B9EqT+X4UOLXurPQ3Cp/+TuI/5/IlJ/HtKQ1F9XblTqr6hYyBGV+nMZPib15yG41L8P\n",
       "1vtXCJH685CGpP66cqNSf0XFYk+ISP0DGT4i9echuNT/HJS8UQaT+vOQhqT+unKjI5iiYlTqH8jw\n",
       "Eak/D8Gl/u+xM8Sk/jykIam/rtyo1F9RsTg7RKX+XIaPSf1ZiEHqDy/7r5jUn4U0JvXXlCtI/eWK\n",
       "xRxRqT+X4WNSfxZikPqnHvA/waT+LKQxqb+mXEHqL1csLZsjUn8uw8ek/izEIPU/wIYvTOrPQhqT\n",
       "+ivLlaT+csW6mZOdIZfhq49wCC71d/oc/Qo/EtKY1B8rV4yylvp7MnwUwnQILvU/sGRZRfskEglp\n",
       "SOqPlStFWUv905i8KRKCS/13RAbg6BENaUjqj5UrRZHUH0jqHwcCSf2v8Y1W2nInCASBIBCE6bfn\n",
       "kUhjiqT+s1guQSAIBIEgEASCQBAIAkEgCASBIMRsUfX/b2e6mQT+5H81SQjVZB7jc7EuU7Xuq5tQ\n",
       "uQSBIBAEgkAQCAJBIAgEgSAQBIJAEAgCQSAIBIEgJAbB/wWcxiH4v8wz8xD8NMlD8H8BJ4Ge0Ds7\n",
       "PaE3FoRY8p4GZULTZ2OblF3QWF+rp9w5Pib00sBIswNBIAi0TpBOpTZDXMvrhN6ZXyfQ7UAQCAJB\n",
       "mHcQ2GB/rfeEXoJAiyXaVJmlTRW6HQgCQSAIBKGOY2puaJun4pabKIQ4lyH+BU7+G0BSf4JAEAgC\n",
       "QSAIBIEgEASCQBAIAkGY8XIT+tNNuUS0XTiE3Iz9salqMhc4l3R/q85MtyQIBIEgzC8I2Kh5zUDA\n",
       "dptnGoKFy5bCEUyGYDYWU1l1xYNgzgFaRzAUgoXLlsIRTIJgYSymsuqKBcEiB2gdwTAINi5bCkcw\n",
       "EYKNsZjKqisOBJscoHUEwyAsqoDJZUvlCCZCsDAWU1p1xYFgkwO0jmAIBBuXLZUjmAjBwlhMadUV\n",
       "B4JNDtA6giEQNC5bRkcwAYLGWMzsCBYDgiaHqtz+eLOD2mXL7AgmQFAbi1k4gsWAoMkBlo5gCITA\n",
       "ZevMQu81w6fBFr0jGLwzroAQGItxny8egzmC8VQxILRIQ6Ku3KgjmFyxCIG7bKUmWH9/nn2COIJB\n",
       "ulsBITAW4z5fPAZzBOOpBAg6M6xwjtChKTfqCCZXHF6dhl222vzCHB6IOIJBSVrkQs1YjPt88RjM\n",
       "EYynylmaYYVyhKYtTbnCCKasOIyeu2xxCJnRg8UArcYRDAadn+SeEBiLcZ8vHoM5gvFUMW6HIMe7\n",
       "hyaGfjmGlRt1BJMrlmYH7uTFIHT8/NwLPkrEEWzk1d8H5NkhMBZjPl88BnME46nizA4sR/atF2Eb\n",
       "nMDKFRzBpIpFCIGTF4OQ/gF8dpgj2PZCSrFOCIzFmM8Xj8EcwXiqOOsElsM5uxDOwwasXMERTKpY\n",
       "mjO4yxaDUHqIz8J6RzDnwoPKZTM3FvN9voIYzBGMp4q1bGY5OsZTm+AufbmiI5hcsW7iZBAGm1Yh\n",
       "TxHMJXD0Okf/KM18voIY9cEMuniqOh6l0/muUaeaN5U77QgmV4xAyBZhJLWqiEKYdK/D0nY9BM/n\n",
       "qxajfhJhjmA8VR0QSm77mdE+Q7k1RzC5Yg0EZ+fl8dRW+BIO57XVM0ewzoGOQ3oIns9XLUZ5cEcw\n",
       "nqoOCDdA84AzUjGUW3MEkyvG1pEWTl41Fy5kZ6lgbqYtgZ0lm3LVFWMQLJy8ai5cegg2Tl09CUDo\n",
       "sWKgqhiDUDY3mbHYY7Rx6ionAKFsBSEz33ebE8oxnyAkEEYQCAJBaATCXNUnqCAkq0/4H+XJtVat\n",
       "pjazAAAAAElFTkSuQmCC\n",
       "\" style=\"display:inline;vertical-align:middle;\" /></a><br>"
      ],
      "text/plain": [
       "circuit_Ckm: QCIRCUIT(([MULTI_QUBIT_ELEM]{element:C_{1, 1}, targets:T_{1, 1}}, [MULTI_QUBIT_ELEM]{element:C_{1, 2}, targets:T_{1, 2}}, ..., [MULTI_QUBIT_ELEM]{element:C_{1, k}, targets:T_{1, k}}), ([MULTI_QUBIT_ELEM]{element:C_{2, 1}, targets:T_{2, 1}}, [MULTI_QUBIT_ELEM]{element:C_{2, 2}, targets:T_{2, 2}}, ..., [MULTI_QUBIT_ELEM]{element:C_{2, k}, targets:T_{2, k}}), ..., ([MULTI_QUBIT_ELEM]{element:C_{m, 1}, targets:T_{m, 1}}, [MULTI_QUBIT_ELEM]{element:C_{m, 2}, targets:T_{m, 2}}, ..., [MULTI_QUBIT_ELEM]{element:C_{m, k}, targets:T_{m, k}}))"
      ]
     },
     "execution_count": 21,
     "metadata": {},
     "output_type": "execute_result"
    }
   ],
   "source": [
    "circuit_Ckm = Qcircuit(VertExprArray(\n",
    "    ExprRange(i, [ExprRange(j, MultiQubitElem(Cij, Tij), one, k)], one, m)))"
   ]
  },
  {
   "cell_type": "code",
   "execution_count": 22,
   "metadata": {},
   "outputs": [
    {
     "data": {
      "text/html": [
       "<strong id=\"circuit_Dkn\">circuit_Dkn:</strong> <a class=\"ProveItLink\" href=\"../__pv_it/common/b80559e6fdc7611a5a8ee9867b5ef5ed76befe2a0/common_expr.ipynb\"><img src=\"data:image/png;base64,iVBORw0KGgoAAAANSUhEUgAAAgwAAAC6BAMAAAAwpAh9AAAAMFBMVEX///8iIiLu7u52dna6uroQ\n",
       "EBBmZmbMzMyqqqqYmJgyMjLc3NxUVFRERESIiIgAAACK51z6AAAAAXRSTlMAQObYZgAAAAlwSFlz\n",
       "AAAOxAAADsQBlSsOGwAACVpJREFUeNrtnV+IVFUcx3/uzu7seHe9S9D2kNTCYuBLbviU/XEVfAv0\n",
       "IdKIcpIyIojxoYwInXrpKdxCEgJxn3orlwIJUteisnC1JajAFCeEiP5sk7tqmrrdc+85M3Punvs7\n",
       "vzNndnPwd8DB3fl67nc+95y59x7Ozy9ArYVzXq1a78mvozmgNU+/WccJwatVjX9tooUt1jn+e8bA\n",
       "GBgDY2gTDCH29b6gGP6cO3PyzDjeweG7l5fhy6sVFMOyc9cnz57AOwo++/tr6N36YSYGlBHZr9kw\n",
       "PhquAhT+sXS7diT6mMOW0RCOARwo4x11zkYv58EDA8mv0TCKIX8jennW0uvB6E/3oAXD7gh+9ya8\n",
       "o6VCus0HA8mv0TCKYdnl6GXjKN7r9ehPr+274a8SQO6KZX5ORS/HfDCQ/BoNoxj6xGeYGEY7zYkz\n",
       "MGTDcE5M/hnc3sZoxHQM+2Cg+DUbRjHE52d36gTBPdPPwKuPHf0j+ZLpFGdgrw2DOAP5a4D2tDYa\n",
       "MYURHwxmvxTDKAYxo+FAim7+TuirwPJy/t/4xyVixhctGOJJW0iPhlRPt4s5Cz4YjH5JhlEMYkbD\n",
       "tyMd78U/rRxLuhmG/GX4HiCZ6quOxTNa18y7YIoz0DvbsXpSfDVJbaqnjmvxnNU1bhikX/VL1LAu\n",
       "QjGIGQ0XYdfPMdTp/gR5dN2bgbMAN+If90TfSEElpUljiCdtuKkbusX7iTbdU49weRR0jRsG6VeN\n",
       "AtSwLkIxiBldiNy9Hv/Uk/S6Z0S8UetVzOjO8ZQmjSGetAdGw5FADAupTfUUz9kHQNekPumq6NR1\n",
       "XAX5Emb5lQ03rIk0DKn71HhGr5hKfUQB91JDr/Lyo2nSKzBi0nY8CYVBDYPeU2c1Hqy6JtQtLRFz\n",
       "egDkS5jh991900WrYV0UmldgwtqMPp3+iF1FyM02jLFoJp8Ay2gQk7ZPTMLO/gYMek89FyJ74ymN\n",
       "06SQfjv2Pg5P2AynRNikELd164rpj5jfDEuH4QPV69IiHC7ZMEQ3brn4JO4YbMCQ6ul9CI6nNU4Y\n",
       "pN/g3jG4YDOcEiEYes9dmzz7AqQ/Ihxa/QW8dvH4WxeTr9uHvqqABcPJucmTP4gTHXwHDRhSPXWe\n",
       "eRHSGhcMNb+9ldwmq2FdRHrQ1jGYGzoaVDsEnzZiMDZN4/hoJSdbqbtYshnWRVQMQwQMQzYMwY87\n",
       "t4nbZQyDrmkKwwQseaVkM6yLKBg+PvgwvFQO1sxUsnvVNRkYuqILR35LrM0+S5qmKQyPwLL7rYZ1\n",
       "EXn1qUxYwylTVp96CB31NLne4Gq4JqJiyA3a+6xrMAzrCe7W+2OgGK6LqBgKhE4LpLXIUUJPo/4Y\n",
       "KIbrIl6SbdcF+rD1fhkDY2AMjMHp87Zsm0fY8u0XRgxzi7OdpLXwvXoK/1fDjIExMAbGwBgYA2Ng\n",
       "DIyBMTAGxkBv/ITJ6w2MgTEwBsbQbhi4kCDDKRcSZLzJhQRkv1xIkG2YCwnsGLiQoDajuZBALySQ\n",
       "O/zRQgKlwQsJhh78HOb3pBcSSI1PIQFuWBfRCwnkDn+0kEBp8EKCIjwN83vSCwmkxqeQADesi+iF\n",
       "BGqHP1ZIoDR4IcEsTJTm96QXEkiNTyGBxbAmohcSqB3+WCGB0uCFBO9IDFghgdT4FBLghnWRQyGB\n",
       "3OGPFhJIjaWQAO6D+T2lCgkSjVchAWY4JXIoJJA7/NFCAqmxFBLkbwNDT3ohQaLxKiTADKdEDoUE\n",
       "coc/WkggNZZCgiODpp70QoJE41VIgBrWRQ6FBHKHf0bTNHghQVAMkMdATeNVSIAa1kX0QgKxwx/H\n",
       "UNfghQRHdr48mP28rWl8Cglww7qIXkjQpa27p5uuwQsJtmI7rnSNTyEBblgXcSGB0yIcFxLEjQsJ\n",
       "bvklWV6gZwyMgTEwBtOvb+L/L5ILCZo+OO99YgyMgTEwBsbAGBgDY2AMjIEx3FwYQr+nMjA8fFbd\n",
       "jutowO0wzmsJrXvGrzZ3QkNHw4yBMTAGxsAYGANjYAyMgTEwBsbAGBgDY2AMjIExtBEGUezTEgxx\n",
       "sdAiYIgNtxxDXOzTktEwsDgYYsNUDG77mlq334gsTwaPo4Gq22Hm2uC7YYC/IvlKwRgYA983IBjq\n",
       "V4tb+75hYKHvG3hSMAbGwBjaGkNyteDRMMAY+PaJl10WcdmFJwVjYAyMgTH4tblW7ZkO23rPdCsG\n",
       "gldPXEjAGBgDY2AMjIExMAbGwBgYA2NgDO2EoWW7u3z3iVVpH8nXb8ZDeLVV59h33BAxeC8lMAbG\n",
       "wBjaFQO6FnkLYcCGxUJioGST2ULD6PFjxpQzJwwkv2bD6GigZJNZQsMc4sdMKWduo4Hk12gYxUDJ\n",
       "JrOEhjnEj5lSztwwkPwaDaMYKNlkltAwh/gxU8qZGwaSX6NhFAMlm8wSGuYQP2ZKOXPDQPFrNoxi\n",
       "oGSTWULDHOLHTClnbhjMfimGMQykbDJLaJhD/Jgp5cwJg9kvyTB6wUyyyWDlmPipcFfyFpZyBm9X\n",
       "jBhk/JiMLpMiNOVMHc3pgin9yoYbVk2aQTDIbLL8dJKw9GjyFpZyBl0jRgwyfkxGl0kRmnKmjqZj\n",
       "yIz3avRb+yVqWDVppmp8am/MJoOe2FcglVjKGUzMu/GtTdrCFRVdJkVoypk6GjHeS/Or7sdww7JN\n",
       "mI6j0ZXZZBJDYerosIKblXIG+4PzhtGg4sdkdJkUoSln6mguk0JlqT2/6xe7YZlypswgk0JlkyUY\n",
       "en9/I44FQ1POTn2yYnw+hlpcWhJdJkVoypk6mgsG6XflhtGucZvhWsqZNINgUNlkCYauXyFOqkNT\n",
       "zp4q5w2joRaXlkSXSRGacqaO5oJB+v3oNwgHbYZrKWfSTDaGWjZZgmFieyl5D0k5Cy49Z/iKrMel\n",
       "xdFlSoSmnKmjOWCo+T0FG+yGZcqZMkN40E4w7M/1Y8+ISQLi1LoAedBOosuUKKMlsWPqaM08aG+G\n",
       "7XmrYZlypszQMEQ3uafy/cM4hqEI8Y5OBIOILquLMp63k5QzdbQmMERXiDvetBqWKWfKjB1DsGam\n",
       "kt8CP8E3pexek5SzvvHefQgGEV1WF2WcpSTlTB2tCQy5Y3B+1GpYppwpM8TVJ0o2WT1YDFt9KhM6\n",
       "6vFffSIZNuayYRgo2WT1YDEEAyl9bL0/Bophcy4bhoGSTVagrEWS0sdG/TFQDJtz2Xhlug0wtELG\n",
       "GBgDY/A8zs28v2Eh/DYe5z/iNwW7O0yxlAAAAABJRU5ErkJggg==\n",
       "\" style=\"display:inline;vertical-align:middle;\" /></a><br>"
      ],
      "text/plain": [
       "circuit_Dkn: QCIRCUIT(([MULTI_QUBIT_ELEM]{element:D_{1, 1}, targets:U_{1, 1}}, [MULTI_QUBIT_ELEM]{element:D_{1, 2}, targets:U_{1, 2}}, ..., [MULTI_QUBIT_ELEM]{element:D_{1, k}, targets:U_{1, k}}), ([MULTI_QUBIT_ELEM]{element:D_{2, 1}, targets:U_{2, 1}}, [MULTI_QUBIT_ELEM]{element:D_{2, 2}, targets:U_{2, 2}}, ..., [MULTI_QUBIT_ELEM]{element:D_{2, k}, targets:U_{2, k}}), ..., ([MULTI_QUBIT_ELEM]{element:D_{n, 1}, targets:U_{n, 1}}, [MULTI_QUBIT_ELEM]{element:D_{n, 2}, targets:U_{n, 2}}, ..., [MULTI_QUBIT_ELEM]{element:D_{n, k}, targets:U_{n, k}}))"
      ]
     },
     "execution_count": 22,
     "metadata": {},
     "output_type": "execute_result"
    }
   ],
   "source": [
    "circuit_Dkn = Qcircuit(VertExprArray(\n",
    "    ExprRange(i, [ExprRange(j, MultiQubitElem(Dij, Uij), one, k)], one, n)))"
   ]
  },
  {
   "cell_type": "code",
   "execution_count": 23,
   "metadata": {},
   "outputs": [
    {
     "data": {
      "text/html": [
       "<strong id=\"circuit_AkClm\">circuit_AkClm:</strong> <a class=\"ProveItLink\" href=\"../__pv_it/common/a27bb60a2a928f5b3ea9c7e7a7573e771e242e390/common_expr.ipynb\"><img src=\"data:image/png;base64,iVBORw0KGgoAAAANSUhEUgAAAhUAAAGCBAMAAAClQSwrAAAAMFBMVEX///8QEBAiIiLu7u5ERES6\n",
       "urqYmJiIiIjMzMx2dnZUVFRmZmaqqqoyMjLc3NwAAABb1yYoAAAAAXRSTlMAQObYZgAAAAlwSFlz\n",
       "AAAOxAAADsQBlSsOGwAAEqVJREFUeNrtnW2MHVUZx5/d2929272902gUAsSuQEWpkashxYUPXYUE\n",
       "Uo1d3MREQ8KN1ITEEK5S2VBfWPADRDTdQKJpE+xGkJqi6aaKvEW5QUxMDBbUxPDFLtpIEHEv0FpK\n",
       "S9eZOWfuzJyX5znzsre722c+bG/3Pvc8z/zmnJkzZ+d//wDdzVsstMUNQbGGOuC2LZaxWZJ5UGRL\n",
       "frpTqKVOyXF5GmEWzIJZMIusLOovlMXi9aLloZerTqF63VisI4EPbTv68DVtmsVhspQdi1uv+ay9\n",
       "vA6GvONcr6VkBxaH6La9cai/Q7KoLdI1HgVYmC3G4pDTYDGU7MDiqdNkw7taANvmKRYjB+aphqrH\n",
       "AdacLsbCoV5zyTSL4VffJhu+c9ofACSLH++dJruun2tdMRYu9ZpLplm8MnSKbNg/EVSPUmOk3rqz\n",
       "TTUUjPVd44VYuNRrLplmMVf7n/bWVVOPwQ/Of2VnKx7l/5ilWIzAoabaUOXxb05UX/zt1L7EKL60\n",
       "2LnTVK9bySSLgXb1hDaqPwZrWnBpuyp788DRqT1PkNfUG2DXjNrS3fNwLfT/HHbJ3nrjtXc8Ol2I\n",
       "halex5JJFiPh6bZyS/ifzeLS3T8D1bfhUwDyCAyfhiuvVoJ0FnPBFaKye38DuqHwEX9ITK9ZD57s\n",
       "MXvnKw83lKBsLEaUy4NsxFKyFoey2PH0U353uufrIdypUXEO9sf9CbgG4Lgc5euD/6eDNBZDn3n6\n",
       "wLhf6kjwtgiFqj+0vZk14+DJrvti8H8lKBsLUW+8yUYsJWtxGIuKX+Sb/r/PihmCYHFoIhhvccOe\n",
       "f7zfUYI0Flf4vxsFb6IenuZl6LHgFJFg4beyZVYJUlhs8btd5V35QmMR1Rtvz6Ilq3Edy4qI6HIA\n",
       "H1RZBJBPJhq+sQm1kyoLdYFkzu+o62GwkdzNsF/MxSwG/B58aE4JUhrq9xuCTdELT8ki6/3qzVOz\n",
       "t1+X2EdLyVqceTFKIP+CnDqnWPTNwcCxRMPPNGD4OEyj/WKgKWfHw6NxZjjfr2oiZjHyln/KaFXT\n",
       "QZnGiKi38pX3w3mwM7GP5pK/q8UhY6TuD6twepZiUT0X1s3AX6OG6xsaMHh8oI2yeBnkjPLuRoLF\n",
       "XdPwEqzrsnjZZ3Fr64Z0UBYWst76FS/A2/BkYh/NJf9Ji7OzqGx7twHPLb6ksIDXdv8UvvfGz557\n",
       "I7xC7979Q4Df3I6eLy5f/AvUtr07A/WrE5mh/uSeieqB876/7bzw5L57dxNG/tZMB2Vg0a13bau6\n",
       "Hj6azGQuWYtzWb9Is7Bs6LlTbq/BfxMVWrZUUNb7kXBITA+N1zvTZCYtzpHFmAuLMYJF/bp7f1mZ\n",
       "ISpMB+VhseAf8cHxOTKTFufA4tXDP4K72vUHT7SQhlNBFhZ9/vm+ekEYihytVFAeFl+CdfP1fQ0y\n",
       "kxbnusZH3lklg7A1vppLQ7W89+yZM1mSYSwGGg6NdoMwFpMu5U2WwWLSkcVkRhaDLo0Ouqz9Nl1a\n",
       "apbBounIorny1sGd1n7Ptr8JdNx3g1kwC2bBLHrLYhk/i9Ipv95sD76U2W0KHtAzXTKzYBbMglkw\n",
       "C2bBLJgFs2AWzIJZ9Kpkvk/l9QtmwSyYBbMogwVrJlgzYUrDmgnWTBjSsGYCWDNhSMOaCWDNhJ4m\n",
       "qZmQWgZcMyGDcM3E2J6Hwt+hmgkZVEwzIRshNRN6Mj1NUjMhtQy4ZkIG4ZqJOTgYHi1UMyGDimkm\n",
       "ZCOkZkJPpqVJaSYiLQOqmZBBuGbiGCwEQwHXTMigYpoJ2QipmdCT4ZqJSMuAaiZkEK6ZuElkxjUT\n",
       "MqiYZkI2Qmom9GRav0hrJqSWAddMiCBCMwH3hz9xzYQIKqiZEI3QmgktmZpG0UxILQOumRBBhGai\n",
       "elH4Dq6ZEEEFNROiEVozoSVT0qiaCallwDUTIojQTBwRzwfjmgkRVFAzITORmgktmXX9Quym1DLY\n",
       "tmQQrpmoz9Wxe5NUUDHNBJ5Ji3PWTARaBoJFNwjXTBy59z7k6fJ0UDHNBJ5Ji3PWTPThz3algnDN\n",
       "xIZF7P49HVRMM4Fn0uJYM8GaCSIZxoI1E8tqHZw1E8vobwLMglkwC2ZBslhhz6IssmbijJTMLJgF\n",
       "s2AWzIJZMAtmwSyYBbNgFsuARcHbOtO9cLa82QsorWTrYemU1bm8nN3B63nJzIJZMAtmwSyYBbNg\n",
       "FsyCWTALZsEsmAWzYBbMglmsFhahxKkMFqFgqicsSinZ1HAocSqlX2zqFYusJWd7qqnw81HdfXLO\n",
       "G3YjyPa5XCV3VsD5YhOfO/k6wiyYBc8v8swv4msJzy/ia4nX85J5jDALZsEsVjILcS1hFvG1hFnw\n",
       "XIvXcs7gWg6PEWbBLJgFs1giFsvnefDFnpeMHtLyetmSfgRYM8EsmAWzYBbMglkwC2bBLJgFs2AW\n",
       "K5tFad/a5S2W9q1lCItSbO9sawCdso62V34H7CxVP/WYBbNgFquEBXau6wmL10tj8XrR8rB18IJZ\n",
       "3FjQbnVGEzkDi3y+d1lZHHbZZ5vvHc7Cxa3OZCKns8jpe5eRRc3tzwQW3zuchYNbndFETmeR0/cu\n",
       "IwuXesHqe4ezcHCrM5rI6Sxy+t5lZOFSL1h971AWLm51RhM5jUVe37tsLJzqBavvHcrC5FbnZCKn\n",
       "scjre5eNhbFecPa9Q1mY3OqcTOQ0Fnl977KxMGUBd987lEXoVgebQ6/awUvEO6jvHXy5ZWaR9L2L\n",
       "WkJ972RQNhZzynVIVkP63unJNBbCra46NRr+6n3yHNxGfO+gb8LIIuV7J1vCfe9kkMLC5vWWzJLY\n",
       "ZDWk752eLDnNTbjVQS2srS73D/W9gwVtvgxxS9LSTraE+97JIM/R6y2RJbEt4CV3Nz2Z1i+EW51k\n",
       "MTj+ykwE2ep7B9vrd5j6Rcr3TraE+97JoExjRGb59T07h7ZPJ6ohfe/0ZCqLyK1OsFj7nd99IOx3\n",
       "qO/dvv98fF5nkfa9i1pCfe9kUBYWMsvm65t9s0OziWpI3zs9mcoicqsTLPq+BSFr3PfunHbV0C/S\n",
       "vndRS6jvnQzKwkJm+ee3wZsemUlUQ/re6ckUFl23OsFi4Wl5vcN87+onnzCcOxXfu6gl1PdOBmVg\n",
       "0c2yD+6C/naiGtL3Tk9mW78QLLYPjKJzfeGTOf75OrJ+ISztiJZSQVnvU4PtXNgBC9VENZYt9r3T\n",
       "kyEsKj7t6ugMwWLMR333sJ2FtLTDW0oH5WDhXxT2wfaRRDWWLfa905NZWNQfPNGqXgCfg0ew+x7h\n",
       "e7dmfu3NdhbS0g5vKR2Ug8XALPwd/n1bohrLFvve6cmwNT43D7m2wxpfNt+7PGNEqyZHMoyFk4dc\n",
       "bI6HsMjme1eAhZNVny0ZxqLp0uigy9qvU0vNElgMOqIwJltx6+ClZVlxLLDamAWzYBZnkAU/f1GU\n",
       "YKEetJQfAX5GiVkwC2bBLJgFs2AWzIJZMAtmwSxWOAuvtHvf0h3TO6XXS3wJgldar+mU3Ws6S9RT\n",
       "mQWzYBarhgV+jj67WODfHdQDFlds3d98FW3hExfvv3DrLy6hWFR27H+kjj7AUblw608u3v/nVhEW\n",
       "dBZLyQ4shs5pwB8/hDa8swHvAXiEYvG126B2sIk1NPQQ9I3C2mYRFnQWS8k0i8qnpwFGTqMNz0L9\n",
       "JMDvCRaXf9j/8cw81tBagIU5qE0UYOGQxVIyzWLde/0fA+uxdutNGDwFcBvB4sXgYYjr0Qr/BXBr\n",
       "G4YaBVg4ZLGUTLPY2/Z/VOewhgf8A/oWwATOYvhU8Oo+tES/iQONoL3cLFyyWEomWdTfDAfKtPKW\n",
       "qkDwRzl1HVkIQz6pni0V0UQwiotcR8xZnEomWQwfN72jKhCCUU6x2NsytaSKJoJRXISFOYtTySSL\n",
       "fvlRqYcQ2glNgRCM8nSIzuIysbdSDyGDNdFEMIrTIdlYXKadNbGSE/3zFppFX/huReohIu2EqkAI\n",
       "Rnk6RGexIXzVkHoIqa/QRBPBKE6HqCxsmgnxWmZJ9Aes5HgzJEtPcwOc4bt/iDQA4vlfTYEgRnky\n",
       "xNOWBS4L35yWeogoWBVNBKM4HaK2Y9VMhPXKLIkdQkuOt2dNe5/mLGYWMwoLVYEgRnmKhdYvwmv+\n",
       "cKSHkMGqaCIcxemQbGMkyhKLJrCSY8mEIZl+HQk+OtxQWKgKhMFTNIuFYG8fAKmHkMGqaEKO4mRI\n",
       "xuuIyJIQTSAlV2LJhAuLQNU38ICyo6oCAda9RbOo+SetLwZjNNRDRCwU0QQcDt9MhmRjIbMkRBNI\n",
       "yfVYMuHEovKr/Y+pO6oqEPZsO7qPZAFXbX00mNsIPUTEQhFNPLy4taWEZJx3yixd0QRaciyZcGKR\n",
       "PrfURpHJHMFCbkIPEbEwbqmQfPfsXdEEWnIsmcjKYoxmMUaykHoIjEU6JBeLWDSBlhxLJrKwEHqI\n",
       "QDthbTgVYmUh9RBBsPVopUJysRjoiibQkmPJhCEZvq7VpheG2k7rWg6iiVo561oOJduSoSwcFAjd\n",
       "EJyFg2hishQWjqKJycwsHBQIg27rnU26pWYpLBxFE81VsQ7eOWvXwfFfMgtmwSzOIAt+/iLXkV+S\n",
       "g1HqR4CfUWIWzIJZMAtmwSyYBbNgFsyCWTCLFc6C79l5LYdZMAtmsRpY8N+KsHZYM4GxYM1E/Jo1\n",
       "E93XrJmIX7NmovuaNRPxa9ZMxK97p5mQagZMMyFDKM3E2J6Hwv8imgkZUlAzgZYcb4ZkWp60ZiIy\n",
       "gEA0EzKE0kzMwcHwaCGaCRlSUDOBlhxvhmSEZiJSMyCaCRlCaSaOwUJwDsI0EzKkoGYCL7m7GZJp\n",
       "/SKtmYjUDIhmQoZQmombRG5MMyFDCmom0JJjzYQhmX4dSWsmpJoB00yIEFIzAfeHPzHNhAgpqplA\n",
       "Sk5qJvRkep60ZkKqGTDNhAghNRPVi8J3MM2ECCmqmUBKTmom9GSGOXhKMyHVDJhmQoSQmokj4tSF\n",
       "aSZESFHNBFZyQjOhJ7PPEcSOSjWDeUuGUJqJ+lzdfs+QCimqmcBKjjUThmQoi7FQzYCy6IZQmokj\n",
       "995nfVQ7HVJQM4GWHGsmDMmseYQgog970i0VQmkmNiDfMpwOKaiZQEuONROGZPi6VpteGGo7rWux\n",
       "ZiLeWDMRb026pWYpLM4qzcTZ+91B+C+ZBbNgFmeQBT9/kevIL8nBKPUjwM8oMQtmwSyYBbNgFsyC\n",
       "WTALZsEsmMWqZVH0Htdwm50tb3Yvx9JKth6WTlmdy8vZHbyel8wsmAWzYBbMglkwC2bBLJgFs2AW\n",
       "zIJZMAtmwSxWNotQ4lQGi1Aw1RMWpZRsajiUOJXSLzb1ikUpJZ+lYyTbI16FHxbr7pNz3nBIQbbP\n",
       "5Sq5swL6xSa+jvA1lVkwC55r5ZlrxdcSnmvF1xKea/H5glkwC2aRhYW4ljCL+FrC8wtey+G1HD53\n",
       "MgtmwSyYxepjsXyeB+/0vGT0kJbXy5b0I8CaCWbBLJgFs2AWzIJZMAtmwSyYxQplUdp3dnnlfGcZ\n",
       "wcIr6+mx8vAbPuiV3Ps6S9JVPWbBLJgFs1iNLIhTfw9YkO5punGahQVlG6d7vVHfierlyGIu2Y0F\n",
       "6Z6mG6eZWZC2cbrXWw4WDuZ0Fq83mgXtnqYbpxlZ0LZxutdbdhYu5nQWrzeaBemeZjBOM7KgbeN0\n",
       "r7fsLBzM6WxebyQL2j3NYJxmZEHbxuleb9lZOJjT2bzeSBZG9zTKOM3EwmgbR3m9ZWZhMadz8noj\n",
       "WZjc00jjNBMLo20c5fWWmYXZnM7N641kEbmnbQ4edoIrw3Iwr7cDNhaRbZywVRNxmNfblZ08LPq1\n",
       "syZSshJEspDuadWpsE/VQiKI1xs8b2MR2cZJW7UwDvN6q72Qh0WUJd6QkpUgul+EodNQC1kIbyjE\n",
       "603YQhn7hbSNk7ZqYRzm9Ram0lnYfe9SWeINKzkd5GHLNwmPNsmifyKCbPF6g43GyTLEtnHSVm1j\n",
       "t19YvN7CVLp/HuJ7l8wS27ghJStBHrawk/RoEyy2iKNn93qrdKzXkcg2LrRVE3GY19uWfNcRkSVh\n",
       "42YvWQ0ix0jk0SZYPC9OynavNzE6jfOLyDYutFUTcZjX2/P55hciS8LGzV6yGkTPO6V7mmAhTOIQ\n",
       "rzcxOs1zcGkbF9qqSVM6xOvtyZxzcJEltnFDSlaCnO/ZBYuNiBlSyKJ/krpnF7Zq/Yh/k7Bn29jI\n",
       "eZ8qxkTXxg0pWQnKwqIyA50WymIMvCGKRWCrFsWZbxaE11uYKjeL2MYNKVkJcmVRf/BEq3oBPD5h\n",
       "DRZebyPfoFgEtmpRnPloCa+3MFVuFrGNG1KyEpRpXYv2aGs7rmu1qYZq+ddyMpZsS0awID3aIm81\n",
       "igXtwTZZEotJFxaTOVg0qUYHHdc7aQ+2Zkksmi4smrz2u6LXwcsMZhbMglkwi6VisWyfRSm7XmOy\n",
       "/wMyzbCMcRkM1AAAAABJRU5ErkJggg==\n",
       "\" style=\"display:inline;vertical-align:middle;\" /></a><br>"
      ],
      "text/plain": [
       "circuit_AkClm: QCIRCUIT(([MULTI_QUBIT_ELEM]{element:A_{1, 1}, targets:R_{1, 1}}, [MULTI_QUBIT_ELEM]{element:A_{1, 2}, targets:R_{1, 2}}, ..., [MULTI_QUBIT_ELEM]{element:A_{1, k}, targets:R_{1, k}},[MULTI_QUBIT_ELEM]{element:C_{1, 1}, targets:T_{1, 1}}, [MULTI_QUBIT_ELEM]{element:C_{1, 2}, targets:T_{1, 2}}, ..., [MULTI_QUBIT_ELEM]{element:C_{1, l}, targets:T_{1, l}}), ([MULTI_QUBIT_ELEM]{element:A_{2, 1}, targets:R_{2, 1}}, [MULTI_QUBIT_ELEM]{element:A_{2, 2}, targets:R_{2, 2}}, ..., [MULTI_QUBIT_ELEM]{element:A_{2, k}, targets:R_{2, k}},[MULTI_QUBIT_ELEM]{element:C_{2, 1}, targets:T_{2, 1}}, [MULTI_QUBIT_ELEM]{element:C_{2, 2}, targets:T_{2, 2}}, ..., [MULTI_QUBIT_ELEM]{element:C_{2, l}, targets:T_{2, l}}), ..., ([MULTI_QUBIT_ELEM]{element:A_{m, 1}, targets:R_{m, 1}}, [MULTI_QUBIT_ELEM]{element:A_{m, 2}, targets:R_{m, 2}}, ..., [MULTI_QUBIT_ELEM]{element:A_{m, k}, targets:R_{m, k}},[MULTI_QUBIT_ELEM]{element:C_{m, 1}, targets:T_{m, 1}}, [MULTI_QUBIT_ELEM]{element:C_{m, 2}, targets:T_{m, 2}}, ..., [MULTI_QUBIT_ELEM]{element:C_{m, l}, targets:T_{m, l}}))"
      ]
     },
     "execution_count": 23,
     "metadata": {},
     "output_type": "execute_result"
    }
   ],
   "source": [
    "circuit_AkClm = Qcircuit(VertExprArray(\n",
    "    ExprRange(i, [ExprRange(j, MultiQubitElem(Aij, Rij), one, k),\n",
    "                  ExprRange(j, MultiQubitElem(Cij, Tij), one, l)],\n",
    "              one, m)))"
   ]
  },
  {
   "cell_type": "code",
   "execution_count": 24,
   "metadata": {},
   "outputs": [
    {
     "data": {
      "text/html": [
       "<strong id=\"circuit_BkClm\">circuit_BkClm:</strong> <a class=\"ProveItLink\" href=\"../__pv_it/common/98e11e2a56ec419ec33191948793b3de5a683f5a0/common_expr.ipynb\"><img src=\"data:image/png;base64,iVBORw0KGgoAAAANSUhEUgAAAgwAAAGCBAMAAAB++oYJAAAAMFBMVEX///92dnaqqqoiIiLu7u5m\n",
       "Zma6urqIiIjc3NwQEBDMzMwyMjJUVFRERESYmJgAAAAeMT9/AAAAAXRSTlMAQObYZgAAAAlwSFlz\n",
       "AAAOxAAADsQBlSsOGwAAEWBJREFUeNrtnV2MJFUZhr+Z6Znp6Z3tGiKJiZDQCXKhe+H4M5iYKD0X\n",
       "hmhgdyeAGBNxjHOziQmjoqthVwYDkQtwNvgDQWA7bghZbnaNXrgXykQge8HATpQE3WxCJyoXkA0F\n",
       "8pcFGavrnOr6O+c7X1XXNDu7byW00PXN+516prqq+njeeYn6m7c5yFa9DrsN1kRtvlmZBti86nUq\n",
       "qeM2YAAGYACG7YvBY29HW4zh7Ob6+p87LoWrFmZe5jFUpVNBE1Mf59nwCNH0OYfqzmW63ncMvyqd\n",
       "gZsY+7gw1N8hmnjLIXsTUfM4P8KqdAZvYuzjwtAM4DbfccgGNRPL/Air0hm8ibGPC8N0sHPHg7zq\n",
       "xAdEjQ4/wqp0Bm5i7uPCMLVBtaeyP1K7+YeLjRNf339S/+fmx5wjrEqneBNRHxeGYy/uf7ab3XVk\n",
       "hV6ksb/SsRX1369tvr/iGGFVOsWbiPq4MNyxQqOPEu0Oryi1V9WuTwcdOzsPkad71g5uHop2qkrP\n",
       "rFO7ZL3t0pm//GlGh8WgBxtvSsTcJ3GyvOrE8M/gnys6jf2zvf94/Afhe403gr0zOzfI619nxt/W\n",
       "O3WlZ9YZp/FZl85euoHRYTGoJvG7WsTcJ970cDgM7/fOoWUaDfXoyvB1NNDwNmLZgHHtjf5O8/CV\n",
       "jrdYP+fSeZtWOzadPcFvt/Ye6RdLk8QxKBHLeOPtyhyGzKNqI7io0qnFNIaQ7t6+bG0tuGO/mcFg\n",
       "1mm2kxjMOv9OYUjrjO0NXuZIv9ia3PL4gcmznXgw5j7/eWX/2k9PJw7LPNkTAp58N1B5j9IY6NdE\n",
       "ty72ZXv7xmf4syHSoZFZpw59hDmruA+FbrJ7X3dqbXItFjH2qb38KD1MByxnQ0Z5R3Ap2ffHLIaj\n",
       "Hfo97Yhkx4Mr0OXEY4h06EjbqdP4XEkMusldt5PXCXlGwzb1qV97PHiMWhBhmH7p/fVn/0ZZDPWF\n",
       "yxcbpx7+3UsPh7ITz6y3eAx9nfoLbp372uUw9JucpKM01kpgMPaZXm4cos/Izob0tSYavnljL5F6\n",
       "u5vucenU99ZXyp0N0fYQHaTVRmLYxm2qM7lR9ztFMdRm3BjmHcOvn37iRpfOfU881p4fBEPdD86H\n",
       "s+PxYMzbanA+NDf2xsNxY6hf9vpy436688mP2mV7O4+2epX2EU5tbvouncPBhdqlw2KYWKM/0b23\n",
       "xSLm7bu0Y6V+sh0PRzj7NCqYz2gJHoKr0nFOcbVEk06jBSfhltySE23BCKvScWHoi/DbUkEMXbdk\n",
       "UzLCqnRcGJqyKcgupmS38wS9V/VggQEYgAEYimOoaslE1cs8vKoHW2xFiYTdMHS8D3W8wAAMwAAM\n",
       "wAAMwAAMwAAMwAAMhbrhGybmG4ABGIABGLYVBhgJLEcKI8EATQhGAmsfFwYYCcJXGAnCVxgJwlcY\n",
       "CcLXlJFAr/HnjATaKsAbCVgdtdOmw2LIGgm0iMtIoIcjNhKoNf6skUBbBXgjAaujdtp0WAxZI4EW\n",
       "cRkJ9HDERoJojT9jJNBWAd5IwOqonWadgkYCLeIyEujhiI0Eeo0/ZyTQVgHeSMDqqJ1mnYJGAi3i\n",
       "MhLo4ciNBGqNP2skUFYBh5GA1dE7Rwp/KPJGAt3OZSRQHeVGArXGnzUSKKuAw0jA6uidRwpfIvNG\n",
       "At3OZSRQHeVGArXGnzUSKKuAw0jA6qidRh0Wg8FIoNu5jASqo9hIoNf4WzaFQVkFeCMBq6N38jrs\n",
       "Q0VsJNC+BeMWGwl0R7GRoLfGn8UwH1oFyGUkYHWUkYDXYTHERgItYt5iI4EejthIcJhbJ6WMBFNq\n",
       "cp43ErA6ykjA67AYJvpGginbn+/pbbGRQA8HRoIik3AwEkQPX64NRoILe0oWE/TAAAzAAAwm5fP1\n",
       "70Vu1TIPvzp2w9DB2idgAAZgAAZgAAZgAAZgAAZguBAweIO5u0vqeOXN5YN9iXT+Orxh6nilT4uq\n",
       "xgsMwAAMwAAMwAAMwAAMwAAMwAAMwAAMwAAMwDBUDD27TxUYsm6hrcIg71No+KHdp4qzYW5IZ8Nc\n",
       "ofEWWpDkVfRHZTxpdfg7pcLtS//A+XptmMMlEncKYAAGPDcwBxPfLS7u54a5ITw34EMBDMAADNsY\n",
       "Q6Eb1YWLodCNCh8KTLtg2gWPT7g2AAMwAMOHjWGbrZn2tmbNdLhhBT0wAAMwAAMwAAMwAAMwAAMw\n",
       "AAMwCLeq/pZU5X+Tyqt8sNy3cL+iX7Jf9cnibdG5CQzAAAzbEgM7F3kRYeBOiy3G0Oz9efvTToV8\n",
       "aphfuY4bg7AJFUo5U+9ObRCd6jhUDalhfuU6grNB1ISKpZypd1eXiW7d65A1pIb5lesIMIiaULGU\n",
       "M/Xua510HIxxM6SG+ZXrCDCImlCxlDP17qngnxMrvKopNcyvXEeAQdKECqacqXcfIbruC9ldgtQw\n",
       "v3IdAQZjExos5Sx8t/G//Qf+ktslSA3zK9dxYzA3ocFSzsJ3e+FAn+jqBDP6l/5AMSlnUY1v1NF5\n",
       "YqxOuqYIBt0k3pqfZ/rkyhgMwc/SyDmdYEZTi+H/cClnUY1v1NF5YqxOuiaNwRrvlWyS2H7D9MmV\n",
       "meO9wne9NZUwqeJ5VlUNl3IW1Zh1dJ4Yq5OuEcZ7pQbb3+o+N95smXnFQLjvWPAj029Hh3i2/r0+\n",
       "XUvKWVTjG3V0nhirk64p8qHQTeL4subGz2fInXKmy5gPxR3BpeTY8egQT/7sK+GlhUs50zW+WUfl\n",
       "ifE6qZoiGFSTRHzZ9I8//qCtT76MwXAiuMv+th0d4gOtMC2KTTnTNb5ZR+WJ8TqpmiIYVJNEfNnU\n",
       "96lj65Mvs2N4rpfI3IoOsf7WN/SHyZ5yFtX4Zp0wT8yhk6opgCFqEseXrd7UsffJlQm+aKt0w43v\n",
       "1JmHs1SN+Yu2yhPjddI1Jb5ox/FlZydm7c+UuTIZhvmA35ERHkNcY8agEsx4nXRNCQxxfNnJxuyM\n",
       "tU+uzI1BJZjtXJl+xT78dI0Zg0ow43XSNSUwxPFl/6Dn7V+7c2XC2aeWYD6jJZh9KqlTePZJkqZG\n",
       "zpSz7LuS0LC4xq9cpzCGJRmGpWIYJKFhTcFcZFmdwhi6MgxdzExvw5lp5rQABmAAhiFiwPqG8uyG\n",
       "oYNFP8AADMAADMAADMAADMAADMAADNsNQ1VfWqv+8utVPy3A+f/9in7HfsXnirc1J6cHDMAADNsS\n",
       "A/9HTS4eDOzAtxrDtWfWu3eyP1/77Jmnvrj+h2UeQ+3g+vP1mQF0JBjcg7X0cWGYfKBNV32JlZ18\n",
       "mqZmabrLY/jJbTR6Q3cAHQEGwWAtfRwYan/vEI2/y8pOE63updFFFsP1vbXM31oZQMeNQTJYSx8H\n",
       "hh2/Cl4mDrGyvyB6rUWTbRbDid7ufYPouDFIBmvp48BwRSt4afBOjQDrqTZNsJfIkXBV6mOD6Lgx\n",
       "SAZr6cNjqP83vKZ0sheZ9MJ8ol+67hSrs71/++ogOk4MlsGK+vAYRt4x7skuzK+/5cJwxfLAOk4M\n",
       "lsGK+vAYxvT1RpsEdmuDUnZhfvON/k5dmcVwjRpA7ZL1dlxk1EmXFMEwlrs4cn0Smxo5g2EqHEZN\n",
       "mwQa+8NTO78wf/rN/k5tJ8hiOBz+W3ucxmfjIqNOuiSDwWokSA423rg+8aZH7lm+t/cAh8qfjNZD\n",
       "jyoM2YX5vdtwf+eVua//4dkQ/lzHW6yfi4uMOumSTaGRIDXYeGP6JDY1cs8y9eBHN+GZDIbMwvzw\n",
       "NpzBkD0bwieGEWq2k8do1EmXFPlQRIONHQJsn1sePzB5tpPAwNwpeledkXYGQ2ZhfngbdmDoOSTp\n",
       "0p7YbFxk1kmVFLpTqMEmHAJcn937ulNrk2siDPSpLk1cSlkM6YX5RE+2XRhGPyD6dq/qSDsxPKNO\n",
       "qqTQc4MabMIhwPW563byOqF9Q4Ch9s31r1EOQ3ph/shzm2eWHRjoy2ee6T291l9IDs+okyop9jCt\n",
       "Bhs7BNg+J+kojbVkGDLXmlnm4YzHoLe76Z7E8IxbqqTMF+3YIcD2eYgO0mqjMIZ5N4bajAND/fQT\n",
       "N8ZFxi1dUgZD7BBg+/jB+XB2PD4sAQZlEqhf9rrdAN3b2bg/rLRjmArubHGRcUuXlMEQOwS4PhNr\n",
       "9Ce697b4sKSzTy33DM6oZPZptJxO4dknoZGgVWwSTmIAWJJgWCqnUxiDzEjQPywhBokBoCvB0C2n\n",
       "UxhDV4ShiZnp7TgzzY8XGIABGIaGAesbSv6ehqODRT/AAAzAAAzAAAzAAAzAAAzAAAzbDQO+aGPa\n",
       "BRiAARjwf9dsLwzswGEkKDRYgpGA6UMwEggwwEgAI0FfGUYCGAli5bSRQK/xZ40EOk+ANxLoIs5I\n",
       "kNcpYSTg+iTOFdVRbCTQa/xZI4HOE+CNBLqIMxLkdUoYCbg+8aY7io0E0Rp/zkig8wR4I4Eu4owE\n",
       "Bh0qbCTg+iT4qo5iI0G0xp8zEug8Ad5IoIs4I0Fep4SRgO3TNxLojnIjgV7jzxoJVJ6Aw0igilgj\n",
       "QU6njJGA6ZMwEqiOciOBXuPPGglUnoDDSKCKWCNBTqeMkYDpkzASqI5yI4Fe488aCcI8AZeRQBWx\n",
       "RoKcThkjAdcnNhKojnIjgV7jb94UBpUn4DAS6CLzlioZzEjA9omNBKqj2EjQW+PPYqjNhHkC5DIS\n",
       "6CLjli4ZzEjA9ukbCfRhiY0EU9yfndVGgsPqbsMbCQ4zy87SJYMZCbg+E30jgT4sGAmKTMLBSKAe\n",
       "xAWaXQmGbjkdGAkwMy0dLzAAAzAMDQPWN5T8PQ1HB4t+gAEYgAEYgAEYgAEYgAEYgAEYLhgM3mDf\n",
       "TUvqeKW/GnuDpfs5fx3eMHW80qdFVeMFBmAABmAABmAABmAABmAABmAABmAABmAAhmFh6Nl9qsCQ\n",
       "cwttEQZ5n0LDD+0+VZwNc0M6G+bwoSg+3kKLpbyKFl150urw1KbC7Uv/wPl6NszhToEbJjAAAx6f\n",
       "mIOJ7xYX9+PTHB6fcG0ABmAABu6gC92oLlwMhW5UmHbBtAueG3CnAAZgAAZg+LAxbLM107Q1a6bD\n",
       "DSvogQEYgAEYgAEYgAEYgAEYgAEYSn6nK7V2yKv2L1J5FQ/W9eWz9Ndzb2t0SrxbxdkCDMAADMBw\n",
       "/mNwzEVuNQZnLlc+LsuMwZW95dBxzEwLB0u2eC8XBmcuVz4uy4jBmb3l0BFhcIeI2eK9HBjcuVz5\n",
       "uCwTBnf2lkNHgkEQImaL93JgcOdy5eOyTBjc2VsOHQkGQYiYLd6LxyDI5VrMxWWZMLiztxw6AgyS\n",
       "EDFbvBePwZjL5YrLMmAwZm8V0hFgMIeIyeK9eAzGXC5XXJYBgzF7q5COAIM5REwW78Vj0LlcOrzr\n",
       "OlXMxHtd55sxRNlbKnGrdsqqo8O28joCDNdkL45Mn2wRj0HncunwrtHwULl4r9HjZgxR9pZO3Npl\n",
       "1dFhW3kdAQY92MS79j7ZIsfZEB5bRyfTqOQfLt4rrDCdDTp7SyduLVh1dNhWXodPOUsNNt7sfbJF\n",
       "aQzZh1Wdy6UPcmyxT9cS7xVWePmH3ih7SyduXW3V0WFbBh3iUs6Sg42Tu7g+mSL7dE948dW5XOog\n",
       "96gdTLzXHtudIgoKCxO3ar5dR4Vt7Sl1p1CDjZO7mD7ZIv5DEeVyqYPcpXYw8V67bM8NUVBYmLil\n",
       "rjFcvNeuMhj0YOPkLqZPtsjxFKlzudRBLugbjj3ea8H6MK2DwsLELZ0uxsR7LZR6itSD7Sd3cX0y\n",
       "RbIv2uogr27bH84SFcwXbZW4NcbE66iwrbyO6KuV2vrJXVyfTJEYQ22G/GUWQ1TBYOglbs2TN2mV\n",
       "0fFeeR05hji5i+uTKRJh0OFdNy/aZRMVDIZe4tbR1viPrDo63iuvI8cw0U/uYvpki+SzT+68rFHZ\n",
       "7FOrjE6BD4W4T6JIjsGdl7UkwuAOCluqBIMkkKxfJMfQdWp2RRiapXSKY5AEkvWLMCW7PSfoKx4s\n",
       "MAADMABDOQzn5zKPqgdrWObxfyALhM9/V9cTAAAAAElFTkSuQmCC\n",
       "\" style=\"display:inline;vertical-align:middle;\" /></a><br>"
      ],
      "text/plain": [
       "circuit_BkClm: QCIRCUIT(([MULTI_QUBIT_ELEM]{element:B_{1, 1}, targets:S_{1, 1}}, [MULTI_QUBIT_ELEM]{element:B_{1, 2}, targets:S_{1, 2}}, ..., [MULTI_QUBIT_ELEM]{element:B_{1, k}, targets:S_{1, k}},[MULTI_QUBIT_ELEM]{element:C_{1, 1}, targets:T_{1, 1}}, [MULTI_QUBIT_ELEM]{element:C_{1, 2}, targets:T_{1, 2}}, ..., [MULTI_QUBIT_ELEM]{element:C_{1, l}, targets:T_{1, l}}), ([MULTI_QUBIT_ELEM]{element:B_{2, 1}, targets:S_{2, 1}}, [MULTI_QUBIT_ELEM]{element:B_{2, 2}, targets:S_{2, 2}}, ..., [MULTI_QUBIT_ELEM]{element:B_{2, k}, targets:S_{2, k}},[MULTI_QUBIT_ELEM]{element:C_{2, 1}, targets:T_{2, 1}}, [MULTI_QUBIT_ELEM]{element:C_{2, 2}, targets:T_{2, 2}}, ..., [MULTI_QUBIT_ELEM]{element:C_{2, l}, targets:T_{2, l}}), ..., ([MULTI_QUBIT_ELEM]{element:B_{m, 1}, targets:S_{m, 1}}, [MULTI_QUBIT_ELEM]{element:B_{m, 2}, targets:S_{m, 2}}, ..., [MULTI_QUBIT_ELEM]{element:B_{m, k}, targets:S_{m, k}},[MULTI_QUBIT_ELEM]{element:C_{m, 1}, targets:T_{m, 1}}, [MULTI_QUBIT_ELEM]{element:C_{m, 2}, targets:T_{m, 2}}, ..., [MULTI_QUBIT_ELEM]{element:C_{m, l}, targets:T_{m, l}}))"
      ]
     },
     "execution_count": 24,
     "metadata": {},
     "output_type": "execute_result"
    }
   ],
   "source": [
    "circuit_BkClm = Qcircuit(VertExprArray(\n",
    "    ExprRange(i, [ExprRange(j, MultiQubitElem(Bij, Sij), one, k),\n",
    "                  ExprRange(j, MultiQubitElem(Cij, Tij), one, l)],\n",
    "              one, m)))"
   ]
  },
  {
   "cell_type": "code",
   "execution_count": 25,
   "metadata": {},
   "outputs": [
    {
     "data": {
      "text/html": [
       "<strong id=\"no_1tok_in_Ts\">no_1tok_in_Ts:</strong> <a class=\"ProveItLink\" href=\"../__pv_it/common/88e556f81f83bd0093ba76d1cc31b0124e0d45e00/common_expr.ipynb\"><img src=\"data:image/png;base64,iVBORw0KGgoAAAANSUhEUgAAAuIAAABIBAMAAABB1Y2tAAAAMFBMVEX///9mZmaYmJhUVFQyMjJE\n",
       "RESqqqru7u7MzMx2dnbc3Ny6uroQEBAiIiKIiIgAAACI3CwYAAAAAXRSTlMAQObYZgAAAAlwSFlz\n",
       "AAAOxAAADsQBlSsOGwAACuJJREFUeNrtnH9sG2cZx584js++xI4ZQyP8qFxpaJOQqCFdC2I0LtNA\n",
       "0KFaKtCpqjpLDKqNjd4olag2Fk+d0P5YF6NUQhVL5gIFdZTFEhIVYqJZI7VIZVqmshbYytx2YmNs\n",
       "Jq3WJGu2hffn+Xx+37vXZ/uuGvdIjX2+e+/7PN87v+97rz8qgFLo0j33V5za/aqM/pShtfBVrBV5\n",
       "1xT0u13bq8a/ZDtSGwyndvGb0O4/Xc1iLcgrpLBnM0B/1VXizZOgH6NvJ+j5+CaPWAl+9MLw2U2r\n",
       "/2lvuwM32CvIQts6i1/6sijLTLfFYNezQjGBYy9V4DA9JHGGfnQ4Y5fXzm76wgvDXxM551bvJvTv\n",
       "vPvXaAn6L9K3I/RLyTcBSuTvDwAuGICq+oy97QTS+vRGkQnRNCkL5/HlrovBeqGYIKYqcJRkBr1X\n",
       "6CdsEzXn8qm1MDALvaJr51bvBH5nuFq+BMAO0tgnvI1Os7kGIAs6cua7ggwA/iuSGCyYJqzsuhjM\n",
       "i8UEaVXsunwTDnD5XnRh0hCriB13rBfvj6RVHJd9CWnjadAzEEFVvaqewVHDNGHA6LZY/4JYTOi4\n",
       "LM4xefg5wKoCpIyWHKf1kv0n2nB8jJgQy0E/uvKoqop6Bo+DaUI0022xxLRYrBXH4xeZPBYeMXAW\n",
       "rTj+eH3/F53tTky+tgS/nIH4+Vou8VIB7qt9FG8+/MxTF6qxkVNr0CE9pIMdmG0pg1vgruuYCYls\n",
       "t8Wi2dhPDLuYIPbXxir6bVl47FOvwMRx0Facw5vx2z5SWwffene4wOXhWckJ3Ool+8cdDdeOQ2IJ\n",
       "H78LYBZGC/F/QF8VbcKpQvwKJMltR2+bKVH3dK0sA+1S7G40CUnhmy+S67IYjGa+g6YcjWKCeKAA\n",
       "T1TQ5dHykARtHvaWYRvahOQaGCvD83V5/aLkDG71voHfX+/oeF8OTx/QrOZpA6qo+0+WIL6IJzlb\n",
       "AS4xE5JkUEBdG2j0ZN/nVdGZnSiD2JXfx7+KDsBDWmy6DTFt/7DhJgY7flN4uGwTE8TXyVylL9t/\n",
       "AlJ4tP076sqKaE7ZNw2DGeo4lcfDSL1Ky0zLrd4p3PweR8dHq6ARE5KXX8cD7hhq8jY24RsA7zET\n",
       "Bkjfh7o2eOxN0uPV2HdeX12RZdBzrEhed34JHT/XhlgP9My6icHHbmwWE9yH76EUsOPw8jY0M52P\n",
       "I18HS9jxPAxWqeNUHg8jZpUWw13r1VajksYcHR/jJmgTy2lkwg50zstCE0jXdi+9oDyXhzbLMkiu\n",
       "/zB53Yfa9k+3ITZY0RfdxOCvHyg2iQnGRtPx3S+jbmM+hnIZzIscJ8NIrHksca03sQH9eVrtHv81\n",
       "RBbZbXfRYkKCf9No12ZznDxjCTMYLRzFJsQWrId7EYsY3HG5mDbfv9gk5nCP6wasKrJ7PG1xvMR7\n",
       "FTKM0DOtvLGWPX+7ar3kmfReR8ejeda1fg8/5A0WBtLQv2SaECUm9FV512ZxXHMeu1cZo4Uqm7ZF\n",
       "8uxBw5MYnoK4iEUWtPmUXcwWuNmtrB+PVfET5Tw8g6bRFdPx9dhxIk+GEeq49sljMAMXVOslc8RP\n",
       "WJ/rmseCk9B7CZd8jwFbkAnxP0O0hB24FZuQyCX4hCu60Oj4aM7M4An6uK69BfxjgNUwWiyx2SGZ\n",
       "ceEdnsTwMoaLWG9OW0zYxepHmFuHKzCSQf7GTkBfGTn+aBG+gu2OEsf3Ycfp5JI8xxPH9QdzsAhD\n",
       "qvWS/UN8pzjum3zt3eyev6z9Q+3fFfyoemD/5wFt7nnns99+JwvDP8X9H5Iev+PyugbHk2d4BsPP\n",
       "3UKfOnBHmGTTum9CaoXBTEjivpEc70VM3+wq1leAc682iZlHkD9nUTbaUG3sVPzmmfsnaz/DcxV9\n",
       "aLyCNn84MvPjO2ag93MGlU/ctLypynuV3mp8Gk6r1kscfxGYnkLQxYGm+Jv5ztKPbzevudPzFT7y\n",
       "t+Ttdo9iB+DJDohBzBCuxTjIU8cHiqm8PldUTAHv12fFesKFjamicMdKqwm7WS4lZROusawMtiym\n",
       "3/7IdW2LmSuDllUUc0CWyaMqtRJMobs8kk8rpoD392REeuKnoek7JTv4LyuHNk7CowV939to0kGG\n",
       "mDdcTtmDe+886fWq3sQGlpfn2hZD8aBte2ss5yyPq4wfh99BtKyvMxRTwM+kB4V64lF0cq1kWpW3\n",
       "btHOIEWXmwvOp3wgw2tIBSmGwn4NDl0wFORj9e+kSgoafibdItRrMZ6yroxaM9U/6JjCIbw29frV\n",
       "LOYsD0fs94ljCvo42psqQ4cjAj6Gr2KCyEAYYYQRxvsiQkJIKYWQEOpsrQophIRQs2MhIRQSQjRC\n",
       "QigkhJzFQkIIQkJIHiEhFBJCrYu9jwmh3eNkidUfQoiKBUYI1YUtMy3fCaE0fBx8I4SoWGCEkCls\n",
       "Mdx/QmgJyE9l/hBCVCwwQqguXA//CaEbbI53lRCiYoERQkw4aEKIDsY+EULsd9ygCCEy9wmcEIqf\n",
       "4Y77QAhRscAIIbJ+EjghdNDgjvtACFGxwAghnXTaARNCelovg1+EEBMLjBAiwkETQgcfecjwjRCi\n",
       "YoERQlg4eELoueVl/wghKhYYIYSFQ0LIqxiEhNBVI+YsHxJCvkcGwggjjDD+L0JKxXSB6ZEdr/3R\n",
       "McMOwTtO2fpFD+GQUTVdYHpSssnCK0cc2ynCO17VoVP0EDmTClUjhnq6ABDdJQF4yFItW/tqDIoP\n",
       "qcA73tVVilWjh+i0X4GqEUM9nQeItJwE4MGn2nntgij/9eYDuAu8411dpVhFeogsOSlQNWKop/MA\n",
       "UU9GAvCQU6WEjtcX293gHc/qKsUq0kPMcVlwqkYC9XQeIBqQATxyxyk+pATveFZXKVaRHnJ23KRq\n",
       "JFBP5wGiO2UAj9xxig8pwTue1VWKVUmAhCpVI4J6Og8QDZEDBQCP3HGKD7nDO+2oqxSrQA/RBTlV\n",
       "qkYE9XQeICL3iAjgwUu1YscpPuQK77SlrlKsAj1EQpmqwb/G7iSwSDcBotNkfQsDPCP4HUOW+IRV\n",
       "6DjFh1zhHQ/qjROdDtBD5PooUzUY6iGr/F0FiE6SSeoC7VM5RYTiFxtA5jjDh9zgHQ/qDYZ3gh4i\n",
       "Y6MyVYN7N9qjdxMgOmkOGUN0qGO/3cU/ZMgcZ/iQG7zjQb0hOkEPNdzjblQN6d3ID+ldBYhOm0MG\n",
       "+cX8Bu44eXwVOs7wIVd4x4N6x+kh8hSgStUQqGcUuOOtAkT4GBWAaBsfMrQ5c4ZgOM5VGD7kCO94\n",
       "UzfpIUOpWJaAgKNpxGtUqZpovXfzABCRnSoAEZldbeRDBllJoTAOnWiyVQizBDDxIRu801xt6+qc\n",
       "HmJK1mKtCdjpoUaO5vmGN3hdSJGqoVDPkOl4qwARAWoUAKK9HOBhaD2miEhbfKrem9+iKztmCWDi\n",
       "QzZ4p7Faj+qcHjpr2Iu1JtBMD8lju2SJwh4mVfOiiWy1yvQ0AzVigChZ5G+O0OUOvUzbJmZdtJzg\n",
       "HY/qnB6KGSrF1hOQh52zcaVq5qpe/4uhRNM6hhggMpeCBlP4f/jBFBFtq+R4T0ak5Vmd00MJUHW8\n",
       "J+M8ctoXgV2pmhUVrwCRHaiRAkRbeNP/QPw4oYho29S0i5YTvONRndNDtLk6PSRfL7N/oETVFCxt\n",
       "1Zke+8WVAkS7rJ0BfSFt9XmXaa4TvNOOutlcnR7qQFiomm4zPbrFnYbf2Q6scWzWGXhHqg4B0UPg\n",
       "L9OTgSDDm/r/AF9rtN1lFTkiAAAAAElFTkSuQmCC\n",
       "\" style=\"display:inline;vertical-align:middle;\" /></a><br>"
      ],
      "text/plain": [
       "no_1tok_in_Ts: disjoint(T_{1, 1}, {1 .. k}), disjoint(T_{1, 2}, {1 .. k}), ..., disjoint(T_{1, m}, {1 .. k}),  \\\\ disjoint(T_{2, 1}, {1 .. k}), disjoint(T_{2, 2}, {1 .. k}), ..., disjoint(T_{2, m}, {1 .. k}),  \\\\ ......, disjoint(T_{l, 1}, {1 .. k}), disjoint(T_{l, 2}, {1 .. k}), ..., disjoint(T_{l, m}, {1 .. k})"
      ]
     },
     "execution_count": 25,
     "metadata": {},
     "output_type": "execute_result"
    }
   ],
   "source": [
    "no_1tok_in_Ts = (ExprRange(i, ExprRange(j, Disjoint(Tij, Interval(one, k)), one, m), one, l)\n",
    "                 .with_wrapping_at(8, 16))"
   ]
  },
  {
   "cell_type": "code",
   "execution_count": 26,
   "metadata": {},
   "outputs": [
    {
     "data": {
      "text/html": [
       "<strong id=\"circuit_permuted_Akm\">circuit_permuted_Akm:</strong> <a class=\"ProveItLink\" href=\"../__pv_it/common/653f6bd255ebf3d4812278fe4129944682f8070d0/common_expr.ipynb\"><img src=\"data:image/png;base64,iVBORw0KGgoAAAANSUhEUgAAAy4AAADJBAMAAAA3NHs/AAAAMFBMVEX///8QEBAiIiLu7u5ERES6\n",
       "urqYmJiIiIjMzMx2dnZUVFRmZmaqqqoyMjLc3NwAAABb1yYoAAAAAXRSTlMAQObYZgAAAAlwSFlz\n",
       "AAAOxAAADsQBlSsOGwAAE3BJREFUeNrtnX9sHMXZxx97fXd7vrs9SxV9o1AVV/njLQRFWwklhQrl\n",
       "EFGD2qp236JKfYUU874JVEGIaxthxbTNJSAZ9aXyiVatHLXkpKRvUAHl9KbQJhH0SvmHVsVGoCBo\n",
       "VR8hUkTzUh+N3Tgkjt+Z2R+3Ozuzu7O+s903z0g5H3c7z/PM9zMzNzN79wDgluLSSpZW2/Fq+Q0t\n",
       "S6tQxJEUYQWL11lrJR23OnxdlzRBLsgFuSAX5IJckAtySV52hb+d6xaXCL9QXyUu6eHIS3IrwCVf\n",
       "D3/fKHWHS5RfOBtwFrq56RiXP0RfItBExOUDVde62X5+e9TF90u5GNOqjh9V8Jsu83q3wgZJ8qD8\n",
       "gmhx6t8fi8uMahgFz/PPk397lr6w7Uuyi3tNGZeCch+d9vvNDM0d2daQXbwhEZdCkoHjEaRvJEoQ\n",
       "oSYCLvkl1TBe9QzJAfo4BzBbk1ycqcm4TKlKkK9yfoslMD6SXT2WiMtUEi4eQd6FKEGEmgi45I41\n",
       "FT/ZPFN7jkqlXyT95Krkau2CjMvJq4rNf4DzCxNkrhqSRb/VTMJFOShOkBMQJYhQEwGXpw5V1MI4\n",
       "9OY2WlitIl19ZBbIUJaGcVrCJfv+gprf7CLze5frF/aRGGZkXAojCbgoB8ULMg+Rgog0CXIxyvsa\n",
       "amEYd7afT5j2nDxRkl3+SwmXc5kriu0/a/r90k9GfU66Gi0l4KIelF8Q/QJECiLSJMglB1MjIRY+\n",
       "N/o8/OD6c2PW6mb88PhBE8633/6WM83fJLXwTQmXev4fIX61Xz0yrL/+0uhRq7ljn917GIy63y+d\n",
       "xs9Ip/HMQAIu4UFFC5IZjBZEpEmQyz0wUQ1ZAW6CvjLc1NCtUVl9rpEtQX+73z5HH3Zs3/uMfC7c\n",
       "YQq5pBr6pZDIDzRhO/Q+CxNsmsr2/xl+BHDY7zc1N3rw11ILqQvqXCKCihakfzpaEJEmQS719soh\n",
       "zzQo+1Z0VdAX4A4A1o30xjuQboHWfn8bm1+b2hFTamOiIuSS8yylXgv4hRtpxb4BKLLB/EShBg8B\n",
       "mH6/2atw250+GxmvggvqXAJBcTYjBekriQWJ0iTAJfPFU8dK7tGG9qBzSrDZ2itMkM+eS1SFi2xy\n",
       "gSuQueA18g59eJ0Yqwps0GdkwTgs5LLn1Mk59+ji1oOHfXVAv0JtklYWWXPMYgP2mbzfwgANzrGh\n",
       "Tf7CtE9fWPDGfFB6bRHsh63TIi6+oPwnOvEEKdSCgvhOXySaAH8bcwt5f9Ce0mswTubtFFv6jlov\n",
       "Tg3TWdwJg84NfQNecxvpA+liW2tBG+wZeYvFwJ9+aETvv9tGbiNN/x9fHcjP01na5UIH/h0Bv8Ua\n",
       "aB+5NnKQG4Svgxu8Ns+1t+XUow+99eCbXFBO8diMFISZ5QRx5tUwTQLjhdjptQ3nyMUvk79vMGEG\n",
       "3e5xuR1GdhCKdX68pMiQnqoLbLBnMCucx2jv+ZT9wvNkdUmu8tSxxku9zeVJGgY/XnaMQP6ya6M4\n",
       "bCxAwXSDN9TnMX9Q7hgw4wvCxgsviF3CNOG5pEbYqi79wn1PQ69d66eeMHrqkJpvh1Gow70mr0+O\n",
       "DORDZT1ow4qBfXIHuHzNWuY+cN/uCgzCf9JIPXUArieyD7e5/AnSHwtw+Y0J2YtQsW2kTUIi23CD\n",
       "tz6Zlbj4g3rgG6O1h8luyWMzUhDGxS9I+oXxsczOSrgmPBd6bEB2ppt3NA+w88uXnRNROwx9HRSq\n",
       "8KYTxtaS8WmfkSPUBgnjofI9QRtWDML1GDtHGWpqu67qg+yo8ElfHYD9FXgbCg4XbQ7OVHi/xg0m\n",
       "pC+mfufaIJ3XOmZmwauvx/xBabs+DuvpaY7HZqQg/aWAIJu/MtJToycvYZpwXG5ZegPyQ4vV98Zg\n",
       "Fu62a93tCQPOT/4cvv/h0698yObJqfG9TX4hnp2cHIHcWyNBG1YM9wr2L9rQogmvLL1tbKkZrRRp\n",
       "i77BV4dodOLgsH5s/RND61k0C6NPBTYAk5M/BnjxYdcGHDCB/bWCT6vuX7igjC3TsEDPVTw2IwWh\n",
       "myZOkPe+C8UKPTcK00R2/2U7/BZ+b9d6zBuGv7woXIjLbFgxnAy7/9JXzg/ka9ZW/jEvF27vPh3i\n",
       "17FBt916W8NcLcn5mMdgf1kfgJt9NiMFSV0IinoU9kNvI1wTGZd18Ayrx89jXLmRf6FnOMSGFcPp\n",
       "MC49lf46abdRN5r+eQz4XYPcr22D7Lr/5p1zEp2PeQ32VDIlo1Xxz2NRglwXFHUd7IFZPVwTCRfj\n",
       "qrHB/cwehVslYWiBw6NcVWZDq1rP5OfJbGHSPGOSj9izj/+X6akTPBtuyP06Noy7Hj8OmbIbfLLz\n",
       "ZI/BWTJi0qW612a0ICcCohotMmJ25sI1kXBJv/WICX1NeH/mJwBfhv0N42eXysEqf1zkj9L0AZkN\n",
       "/RPWs3QtjMuDo8fpxTfQFXy7TuDGy8xpuV/HRg/dhBD/TvC7ISkX2+C/Q6FpHDW9NqMF2R8QNVWD\n",
       "v8Bfvx2uiYQL637Wxgc0MiXEP2F+Vmojb09BzTAuJ9yNm7eOkl+vDbgF3OA3JebiNei3GV36G0JB\n",
       "ojSRcOll1l6yzDUhZcbW53aZDfiq9bL8/j4tNztX++oo+fXaoO7t4EPu77ciuHgN+mzGKJ77+15B\n",
       "ojSRcDl0nG1eTftAJx3/3kP73i5nA6wRHv59mOxldvkP/XXU/Hpt0EMtO/jk34fxGvTbjFNeFYoa\n",
       "pYlsPWYV032IX3aF28iZoePF7mQd8Ku5D1Y5LnMW9zWN+xuzBL4/ZnJ/hZqEc+leWVPft4z72gpq\n",
       "glyQC3JBLsgFuXSbyzX7u1fRa2vnd68d7ICr2LtWvwmrJQhyQS7IBbkgF+SCXJALckEuyAW5IBfk\n",
       "glyQC3JBLsgFuayUIHjO7y2Y3xLvi4UDQC7IBbkgF+SCXJALclEs/4T5LbvKBfNbhhfMbxleML9l\n",
       "HE1EXDC/JWB+S8D8lpjfEjC/Jea3tATB/JaA+S0xv2VcQTC/JWB+S8xvGVuQbue3ZMkiYZn5LWnW\n",
       "StX8llad5eW3tILvbH7LmIJE5reUaBI3vyVLFgnLzG9Js1aq5re06iwvv6UVfGfzW8YUJDK/pUST\n",
       "wHiR5LdkySJhmfktWdZKxfyWVp3l5be0gu9sfsuYgkTmt5RownOR5bdkySJhmfktWdZKxfyWVp3l\n",
       "5be0gu9sfsuYgkTmt5RownOR5rekPQGWm9+SdnPV/JaszjLzW7LgO5zfMp4g0fktxZpwXOT5LWmy\n",
       "SFqWld+SZq1UzW+pW+eNy8pvyYLvcH7LeIJE57cUayK7/xLITend1LeLYn5LtkFXzG95VpS/RzG/\n",
       "JQu+w/kt4wkSnd9SrImMSyA3JU0WGSxq+S1Z1krF/JZWncDBuFp+SxZ8h/NbxhQkKr+lRBMJl0B+\n",
       "S5YsMng4opbfkmWtVMxvyZ4Fz4Ybcr/B/JZW8J3NbxlXkKj8lhJNJFwC+S17hN8gVcxvybJWKua3\n",
       "vEH09VDF/JZW8J3NbxlXkKj8lhJNJFwwvyXmt1z9/JZRXDC/Jea3jFiPWQXzW/IGAfNbdqfg92CR\n",
       "C3JBLsgFuSAX9jL+7hVWKSjMb7kCTcDf7yMX5IJckAtyQS7IBbkgF+SCXJALckEuyAW5IBfkglyQ\n",
       "S0Ca0NPzLpbO+I13EyCZxdXl0oW+q9YlW53t2K1OxVVELsgFuSAX5IJckAtyQS7IBbkgF+SCXJAL\n",
       "ckEuyAW5IBfkglyQC3JBLsgFuawAF5a0czW48IlC1woXFtcaGC8bV4kLy+i5BrmwuHAe+/86j3Xk\n",
       "h5rFFf6BaKsj0becabgzYnRUkGt+vGzE9RjOY8gFuSAX5IJcrqV9ZXtNhvvKNbWv3Ij7SpzHkAty\n",
       "QS7IBblcS1ysNRlyWXPjZSPuX9ba/qWz8xjuXwDvi+HnPn6+IBfkglyQC3JBLshlLXIBzA/DddS1\n",
       "kR+mI31s2YN1rTUB81whF+SCXJALckEuyAW5IBfkglyQC3JBLsgFuSAX5NK5sko/kVzpH2fGU7K4\n",
       "Gv9f0dYa6PitbnT8hMOs1dXRuNyRhlyQC3JBLsgFuSAX5KJYdkW8X+8Slyi/uVXikh6OvqbefS75\n",
       "esQFZ7vDJdKvUeK9hW6qOsblDzGuOdsdLrrZfn57ZP8pd47Lowp+4X7eW6trk6tHEG06zpgqx+Bi\n",
       "TKuGUfA8/3zk1RtkEnyg3P5pFb+9ZhIuHyTh4hGkbyROhQ0xuBSUB86rntligDzsWfrCti9Jrx6T\n",
       "STCjPHdV/X4zQ3NHtjVkV2dqSbjMJOHiEeRdiBREoIkoqClVLmnP1J5jUs0BzNZkl281xRLklb+k\n",
       "+ADvt1gC4yPZ1dqFBFzySb456RXkBEQKItBEFNTJq4phHHpzGy0V1h66+tAvkvErtVIYEUuQO9ZU\n",
       "85tdZH7vcv3CBJmnh6RWTifgohwUL8g8RAoi0EQQVPb9BcUwjDvbzyco+AyxUJCGkSuJJXjqUEXR\n",
       "8VnT7xf2EQszUiF/mYCLelB+QXQ2SMMFEWgiCOpc5opqHOfbT7/lfEJNlKTz/IBQAqO8r6Ha/rrf\n",
       "L/0w0Oekl39TnUuCoPyCZAajBRFoIgiqnv9HmMvPjT4PP7j+3Ji1shs/PH7QhP52v33OmeZvklpI\n",
       "XRBKkIOpsKWL9qtHhvXXXxo9anXDsc/uPQxw2O+XTuNn5NP4DlOZS0RQ0YL0T0cLItAkGFSqoV9y\n",
       "XnmNofSvzDdBXxluaujWqKw+18iWQGu/v40JsH3vM87wz7Nppew1sSCU4B6YqHrr+P3CgSZsh95n\n",
       "YYLZy/b/GX4EYPr9puZGD/5aHvxERZkLHxTflkhB+kpiQSI0CQaVa69o0sOwedo+JEj/q70JqFIb\n",
       "dwCwQaU33oG0z9o77HOvqR0x3eMR7UHnEMQyYswLJai3Vyy7tMlfmPbhxH/Y4d9Ide0bgCLrv08U\n",
       "avBQwG/2Ktx2pxt8wMjscIALyz7AHrh0AIKg/Ac6MQUp1IKCCOzwmngPI6xX95w66czQt4E+SqbH\n",
       "r7P/uM7uc2S6vUR750U2ucAVyFzw6sPSRrxO2mV3M60G42TuT1XbRrR57hDEmmG/eOpYyamTg9yg\n",
       "7bfHOl7Sr1CbpPcVmcRmsQH7TN5vYYAG5wQfMLKVcfE3eKNTmf3sPjQod86pKgjCzHKCCOzwmrT4\n",
       "8aKRZv/dfuF5MugIlwJtv2FfOTVMZ3EnDDov9g0E+i0ZcFtt9zly/cvk7xvgGjGE89gW8mTQqVMc\n",
       "JhcxvzBrj/55Oku7XOhnxR0Bv8UaaB+5wQeMzCrPY76g3Pc8bYkUxBovnCBBO0bUPEYH16fIju2+\n",
       "3RUYtLhk6YokXTpXdbrH5XYY2UEo1nl9UmRIT9Uh/cJ9T0MvWFx+Cq4RaybmJSBWegecOmmTBMr8\n",
       "wk5jrzte6m0uT9IweC47RiB/2Q0+YIR9NClx8Qf1wvhYZmfF15ZIQRgXvyAiO7wmgaC+xlab2q6r\n",
       "+iA9J6Nc2Elt//d+90k2I9QhNd8Oo1CHe73TCRyhbMlAPlTWN+9oHmDHSy87p6qWEeF6LDXCVpNu\n",
       "HdI+64T46P9+hn1QXk9kH25z+ROkP8b7hd+YkL0IjzrB80aU12P+oDZ/ZaSnRg9zPG2JFKS/FBBE\n",
       "ZCdqPcaOmYaaxpaa0UqVLC70L/R8B9iCQl8HhSq86YSxtWR8OrBHeJc4eah8z3tjZP642+ZyN7hG\n",
       "0qL9Cz1GIjtit84B0/IL/9LQ2VX7K/A2FBwu2hycqfB+jRtMSF9MveYEzxu5V3X/4g/qve9CsULP\n",
       "ezxtiRSEbUz8gojspMP3L9rQogmvLL1Nln75gXzN4qLTps2esmU4P/lz+P6HT7/yIZsvp8b3Nvk9\n",
       "QnZycgRyb42Qde1v4fc2l8fANZKrBSW4ZekNyA8tVp06dMfM/BqX7YWvceLgsH5s/RND69nHzcLo\n",
       "U4G9yeTkjwFefNgNnjdyUpELH9RR2A+9DV9bIgWhA4EXRGCH10R2/6Wn0l/XS555bGdqUHS+8SL/\n",
       "Qo/n7tw6eIb5ducxy4jsfMxb5zz8zfKbLv2bITq3mA7x6wTPG0lyPuYNah3sgVnd15ZoQa6LZSfG\n",
       "+Zi1dGmeMZ3P/UxZq8JRfbAqqHNjQDDP0ftVY4P7uT8KrhHZebKnjnHX48eJX7gV+ssHsqJ7KVW5\n",
       "Xyd43kii82RvUC3S03fmfG2JFuRELDtxzpNpeXD0OMCXwfjZpTL0NfVPkOf/LTjA0wJHaXp7kZh+\n",
       "6xGTVIb3Z35CbblGdodIYNfpoSt4UnV/o6/Z/w3RuXhD7tcJnjeSriXkYgeVqsFf4K/f9rUlWpD9\n",
       "sezshnhcGGVrTwa3kGEjOdb542Lg9OhZfxe2N09aqW1kU4gE3jrEL0gODfMzp+V++eAdI73NhFy8\n",
       "QXFtiRakvxHHzqaYXG5mdqwJ9CWAr8Y/Sm3fZ+9t2LVtU7aR0Pv73jrkMWUm8MsH7xhJfH/fG5S/\n",
       "LTGK5/6+3E6s+/t04X+ZteWH9ikZjMTn0r63e+g4M2U6h0K2kdDvw3jqUL/pJH754G0jyb8P422I\n",
       "vy1xyqsx7Ch+H0ZzHxQK/z0u032wyvHQpU+7znL98sHnTJk3UZEExbUlTgl8f0xg57gal26WtfR9\n",
       "y+SXdUsT5IJckAtyQS7IBblcm1yK18TvkeP2vlX+PfL/ASSqeotFG3kMAAAAAElFTkSuQmCC\n",
       "\" style=\"display:inline;vertical-align:middle;\" /></a><br>"
      ],
      "text/plain": [
       "circuit_permuted_Akm: QCIRCUIT(([MULTI_QUBIT_ELEM]{element:A_{p(1), 1}, targets:p^*(R_{p(1), 1})}, [MULTI_QUBIT_ELEM]{element:A_{p(1), 2}, targets:p^*(R_{p(1), 2})}, ..., [MULTI_QUBIT_ELEM]{element:A_{p(1), k}, targets:p^*(R_{p(1), k})}), ([MULTI_QUBIT_ELEM]{element:A_{p(2), 1}, targets:p^*(R_{p(2), 1})}, [MULTI_QUBIT_ELEM]{element:A_{p(2), 2}, targets:p^*(R_{p(2), 2})}, ..., [MULTI_QUBIT_ELEM]{element:A_{p(2), k}, targets:p^*(R_{p(2), k})}), ..., ([MULTI_QUBIT_ELEM]{element:A_{p(m), 1}, targets:p^*(R_{p(m), 1})}, [MULTI_QUBIT_ELEM]{element:A_{p(m), 2}, targets:p^*(R_{p(m), 2})}, ..., [MULTI_QUBIT_ELEM]{element:A_{p(m), k}, targets:p^*(R_{p(m), k})}))"
      ]
     },
     "execution_count": 26,
     "metadata": {},
     "output_type": "execute_result"
    }
   ],
   "source": [
    "circuit_permuted_Akm = Qcircuit(VertExprArray(\n",
    "    ExprRange(i, [ExprRange(j, \n",
    "                            MultiQubitElem(IndexedVar(A, [pi, j]), \n",
    "                                           Function(InvImage(p), IndexedVar(R, [pi, j]))), \n",
    "                            one, k)], \n",
    "              one, m)))"
   ]
  },
  {
   "cell_type": "code",
   "execution_count": 27,
   "metadata": {},
   "outputs": [
    {
     "data": {
      "text/html": [
       "<strong id=\"circuit_permuted_Bkn\">circuit_permuted_Bkn:</strong> <a class=\"ProveItLink\" href=\"../__pv_it/common/0024bdf55a45baa112af78d2ac2021ea4e88e7f20/common_expr.ipynb\"><img src=\"data:image/png;base64,iVBORw0KGgoAAAANSUhEUgAAAxwAAADJBAMAAABbMik6AAAAMFBMVEX///92dnaqqqoiIiLu7u5m\n",
       "Zma6urqIiIjc3NwQEBDMzMwyMjJUVFRERESYmJgAAAAeMT9/AAAAAXRSTlMAQObYZgAAAAlwSFlz\n",
       "AAAOxAAADsQBlSsOGwAAEPZJREFUeNrtnXtoXFUex3/J3Jnc3JnMTF1hQYtOcQW7KkZp2VL84/qH\n",
       "yGIfEzbWsj4YWf8pWJqulFnZiLOrRUVKglC31NodWpZQHyRCQQptd6jWQpNuBhFqC7WB3UaqtU1L\n",
       "mr6bPefc950759w7c2cmrb8DSe9k7vl9f+d8zvvO/ApgptRsE1PLZblptqlpytOHFDQvpVojOxXy\n",
       "fY30CnEgDsSBOBAH4kAciANgkvtutlE4fMk2GUcyx3072gQc7Vnu25sahMOf7BR3axE6jvv5b8vl\n",
       "xuBQVOv6aUGD6QsPR3DZKV6Np0LBYXNKGhHc+4MYx8+zY2P7isFciNuuv2fNoiddbfBY5I2jObKB\n",
       "cCRPXh8bPR4Uh82prgmBUxFV3Ds+AkhcDebCAlsHHKR+9MHyag2sv0rvaIpssN7RSQaT8YBNxO7U\n",
       "uyBwqqMkxCFfAohdDDZj2cbtaJr8eob8rVpHXal64miObDAcA2SEW5eFmp3qAYFT0rQQR5I00eSl\n",
       "QC7cu+8ETawdpehigpiI9VXrzBOeOJojGwzHOWL6XB/U7NQMCJyC/UIcCfJmfEsgF+Rvreth0gpj\n",
       "N8mMVq2TR8ueOJojGwzHOPnZU4BanVJo2+c6BS8IcZABU/qSM2BKz27IKXtW5w+xV0NfDc1XYaP1\n",
       "9qv0ltm7qufvGPTEIZJ9Mr8KPtn8dn9fXbLBcJDpbNlSXt3zneroFjkFrwlxDB/Nj05wLOwswFGI\n",
       "HIBh1mzSo5m2MiSsxd0o6+Wz16s2qti0Jw6BrLKEzomPZ5TLUI9sIBzKjXz/fu6alu9UYkTkFKxT\n",
       "RTjeKED7dmNvxQw5R75HSdUVuwYhRStPyeyF5BRI1tsnWA96fXZQf/0Aayf2Mlz1xCGQjaRpxmMA\n",
       "N6Ee2UA4OkgtL5ywG3RYFDrVVfZyylGu4aIIxzE6HxWNgwfpJ2Mvv0JbHigXyI1popSiZiW4AB3T\n",
       "diN79aF6xjwmoBmzlgl5xhOHU/aJ+V85ZYczAOdppbPZ3oesNG9MrZR14VhJ3pGu6RcVOEibg7ar\n",
       "zuOObACn4qWKurCORmjFkrVbzo3DfUhwHczlhFSCITIox+giUsl3ay2X2E6VDRx0DOgatNfLYvJD\n",
       "WpR0QXu5TMv4EpgmJA0HXzYLf3DKPkL8vmGW3IdsFKLdlbKuJ6KRrJ6VXaRcj0tTJWuxt0zXsVkU\n",
       "OsWMOpzSbkuzieZVtvzOeSGwNVOFdrxxnSP55z7y727GodvqHVkTR1s3eeVqpqQ6QdabySotY1w1\n",
       "Tcieg5VLdgYGig5Z2hAvWiUXy6ZyRKhCNtBgNUyqMjFjlkNr8ap/p2jvcNUFS6xcrGJpKfmDFR0w\n",
       "lWuQfPHsYYjoue6wuQCbyQSUM3HEs3BaddULvZNsy06dPVOEbu1lW8Y0oc17Kb7s/6ijdtnOLMRm\n",
       "rJKLZZMqAVAhGwgHmc5geMQ0+OLQBkdBhE5RHE6nTv2Yz+rVqeHQ1kMcHHHS3dbshhXrCjvhPT3X\n",
       "/XYcu4rwOcQNHCvLsnMpeITIk9l+PkiTl5VueUTLqJ23MhPeKyu3LPzKKatshXga9hkl9yFLG2uF\n",
       "bCAce0iuD1XD4Io1E50Fu0WhU4myyylpcjtsMc557/OzskrQY7NvAN7qhwFYq+daa8ch98zPKePb\n",
       "dpzcxobPofUF90o6Gjs4lgH5qZI8FStrGWNl00TSa99RIasscslunPc1fHrl8MNXSj5lYadaKRsE\n",
       "xxF6qGkZfOuvkHJYFDpFtzoOp+SnRmBaL5eG47TfA/ajsBAe0nN9ZnfBmZ7zXklrZ2ftg+16f1Ws\n",
       "UkRLvAN2Q3aTWq8s3R5XyNZywG4YPARrHBaFTsWm3TYSfbFBvVwajuf94tgKB1m+isEK3LsQZ+rM\n",
       "mVfFRFYpVwxWVc6snLJyVi7UKbsR3qmUrQWHYXArPKM4ByuRUx+4bXQWo9mifbDa7xOHfFleZE7l\n",
       "eXiiigvGGs51tKqdhxbeVI2pvKPPNFHlRNcpu+njf6n1ycrHP+6tlK0Fh2FwCpb+1m5R7FSP28YA\n",
       "RHYUSbmktFaxPk509S3LFxtU6CrA3/79a4DvYFdGvvu8x7nkg9fcBxuKufL+Kd9Ls7KMxJJh4gxw\n",
       "cBiy/6Qr8LpkO+nmoUK2Fhy6wVgJ1k/YLYqd2uW28Qp03EP/Vd7XKjZZ8omDtTZtwwIS6akZ30ea\n",
       "Bxxt4yXtejmYJpbwcDRathYcdoN2i+KUyHjZoOVq1zeKBZ84IszSaq2OChBTfdeL+dD6MT2vbkg3\n",
       "wX9W3mhZLxxTAhx2gzaLPpL1rNxug/7zsvZnH8/K9acovWyfqWpHSJD0f+Dfro/ibRdZ5juN0xrd\n",
       "BP+TJI2W5X6SxLvr2A3aLfpJC7xsTGpHJ1DDJ0lU85f/5HxOL5m/tNTLxdFoWa+C+/ubBC6LfpLr\n",
       "c1YSOMsVVQPiaFiaQ59C9Pu35nqFOBAH4kAciANx1IDjl/lVTa/KmAtf1ay7nUNruldD2marTSEO\n",
       "xIE4EAfiQByIA3EgDsSBOBAH4kAciANxIA7EgTgQB7+EeMBuJIyF2JSETwMRB+JAHIgDcSAOxHFr\n",
       "4bjVYiE2EAfGQuTLYixEd4PBWIhWwliIAXBgLMRGy2IsRHfCWIhWwliIQXBgLMQGy2IsxIrxEmMh\n",
       "WgljIfrHgbEQq8piLERwxEJksQWhrliImolgsRAN2TpiIdplw4mF6NMpbixEWsI6YiGy2IJQVyxE\n",
       "zUSwWIiGbB2xEO2y4cRC9OkUNxYiLWEdsRBZbEGoKxaiZiJYLERDto5YiHbZcGIh+nSKGwuRlbD2\n",
       "WIgstiBNtcdC1EwEi4VoyNYRC9EuG04sRJ9OcWMhshLWEQuRwqepjliIzETAWIi6bD2xEG2yIcVC\n",
       "9OcUPxYiLWEdsRBpbEG2z6k9FiIzETAWoiFbRyxEm2xIsRD9OcWPhUhLWEcsRPse2EqBYiEyEwFj\n",
       "IdYsa8VCtMmGFAvRn1P8WIi0hHXEQqSxBStToFiIzETAWIg1y1qxEG2yIcVC9OkULxYiK2HtsRBZ\n",
       "bMHKE5MgsRA1E8FiIdYsa8VCtMuGEwvRr1O8WIishLXHQuz0/OxioFiImolgsRBrlrViIdplw4mF\n",
       "6NcpXixEVkKMhRgcB8ZCbJhsLTgwFmLDZDEWovlLSxgL0SoXxkKs42/N9QpxIA7EgTgQB+KoAQd+\n",
       "VbP6KhhjITZJFr9XjjgQB+JAHIgDcSAOxIE4EAfiQByIA3EgDsSBOBAH4vhF4GjIEXGTZP2dvvtv\n",
       "HqFYCak1TN16slPhdrhUi0cLxIE4EAfiQByIA3EgDsSBOBAH4kAciANxIA7EgTgQB+JAHIgDcSAO\n",
       "xIE4wq8XFtmx+Tjql20ADuZUi3vH4tb0jsVzsXcsxsHqNhusQvmOYYu+2livEW3IMysylC+BpsL+\n",
       "KukvqHcsxpUVDlaIA3EgDsSB28BbfBtora5wGzgXtoGLcRuIgxXiQByIA3Egjlsch7a6QhxzpXcs\n",
       "xn3HHNl3hDhY4b5jbs0duO/AqRxxIA7EgTgQB+JAHLcJjtsrJkldhZgLMUla2BowYg/iQByIA3Eg\n",
       "DsSBOBAH4kAciANxIA7EgTgQB+JAHM3G0aL/urDV/2Oix59Szf2u42zLu1qq5bJcHM3t6VOIA3Eg\n",
       "DsSBOBAH4kAcVdIk991oo3AElW0GjmSO/3628Tjas9y35XJjcASW5S3/w8Jxv+D9TY3BoajW9dOC\n",
       "e38ID0fIsqlQcNickkZEvaevITjituvvBfdG1NBwhCwbDg6bU10TopsXiXAkT14fGz0e0IUFtlFh\n",
       "kPXSnnS1sbyj5FUvLZLl4vh5dmxsXxFqd+pdEDgF/cLe0UlG2fFgTiRt43Y0TZtFHyyv1uilac96\n",
       "aZEst3d8BJC4GnT2tjnVAwKnYKUqwjFAxrN12UAu3LvvBE2sMlN0MfEMcavquLnfs15aJMvDIV8C\n",
       "iF0MiMPu1AyInIpPiHCcI5bO9QVyQf7Wuh6mvEmTilU18YJnvbRIlocjSewlLwXEYXNKYR2S61S0\n",
       "LMIxTn72FIL5sNG6fJX8xG4SX6oOPK951kuLZHk4EuSW+Jagc4flVEe30KmOQREOMmAuW8qRk57d\n",
       "kFP2rM4fYq+Gvhqar0LCWtyN0ltm7+IYWKd61YtI9sn8Kvhk89v9feHK8nCQ6Uz6kjud8Z1KjAid\n",
       "ik0LcCg38v37jb88wAg679pZgKMQOQDDrCmnRzNtxGvr7RNs5Jm9XqhqYrjoUS8iWWUJnRMfzyiX\n",
       "IUxZLo7ho/lRY6narhnuC+JUV9nLKYcN5aoARwcxvXDC3OOvGDG28v/VzTxKS9Y1CCl6k5LZC0mH\n",
       "tb2sB70+O1jVxEDOo16cstK8MVXLk/ydvm1IU9ePAdwEf7KWCY7syhH9y+D0ogLHGwVo3+48gtHO\n",
       "Wnw6FS9V1IXbhjzjxuF6cEkqGtr01d0yUPJk/HtJ67qaMeUC8TZNwKdoISW4AB3T9nrRo0NFZ6qa\n",
       "WMnqhSsbhWi3nucDvW1nAM7TPsCmVh+yNhPVZSNZPSu7SLmOS47RhZI2WEklfXBJB3AqknU7VWFD\n",
       "mnGd17h7R6pkLSdWkU5K6jLORsMBvdcSA6mygYMOfl2D7mZKWrl0oaqJAa9RwymbyslXtTyy3nIe\n",
       "IZV5wyy5D1nLBE+WO1hdB3OxFzXOAneDf6dY73DWhduGLBqshkn+xAycOnumCN1aXbZl2B5VXm/2\n",
       "jqyJo62bvHLVC21K8nRVE2zSSXFlkyrxk+VJlt9OGw3xolVysaxlgifLw6HQIWg8l3zx7GGIAJz6\n",
       "MU8U7wD/TlEcTqcqbGizDgcHGTBheESavKx0yyNaXWqHpYf+/ns2JW0mi5SciSOehdOq3cgRLU80\n",
       "XdWE5xLHJUuLxvIk/vIbttTszEJsxiq5D1nTBE+Wh4NOZ8o1WLGusBPeA2lyO2zRz2h9OpUou5yq\n",
       "tCFcWe0h93yoyk+V5KmYbi7GVgj/yCjsrl1F+BziBo6VZXmpe3kfJbP9fKhq4rTXBsAlCztVLU/n\n",
       "n4GN3spWiKdhn1FyH7KmCZ4sD0ecDDxrdsNb/WS0W0vsjgCpu7Xg3ym6qXA4VWkjKdh3HKHHZhl6\n",
       "0tI+2F7S6lKhhZIv/lHfdvbMzynj23ac3MaGz6H1BffyPho7OMYx8bxHvbhl6d6W5Rl4Rl/4b5z3\n",
       "NXx65fDDV0o+ZU0THFkejgQ91PyGXByFhfAQed0XI3X3Gfh3ijZ9p1MVNqIlfwfsncVEVinbRppk\n",
       "+U+yR57n3H/ozIlM8A6PjDwb4R0tz8+x7kJtsqYJH7LcA/atcJDWYGcxmi1qA41fpz5wl6vChvjM\n",
       "SksDhTdVYx7u6IMnCNidbR55Hq04hUkLTHCPVvU88vGPe0keKQ2HlO50TbK6CX+yPBzyZXkRncoH\n",
       "ILKjCHkI4FSPu1wVNsQnulr6Kd8L8B3Id5/vg64C7Mp0FRI/epyYXKh4GDYoMJHkPXjQ83TSbUFX\n",
       "QXmfXP+nWJOsbsKfLA9H8osNKjX0CnTcQw0HcGqXu1wVNs74fBrIwGq7KFhOfjLeZy4PXqt44HVA\n",
       "YCJS4NSLK087NEeWh4P1O33rBlI5iFOJjJdTdhtLfOJ4jHmijZCriTuq7xPNpwUmuA+tXXlehubI\n",
       "8nBEMrolw65/p6xn5XanbDb8Pitvu8hKcadx1JL0Xy/taa4J7idJ3HkmGijL+3S7Hce9vcysah5d\n",
       "BXBqgUe57DYCfpJEMn8FSJNcE1FV3EybIstLHreptt++k+tzVpLbRm8wHI1Lc+hTiLXfFlZCHIgD\n",
       "cSAOxIE4EMdtiCPVmq+wplr8zVmv1LJvzv4f7nmkEc+CDvwAAAAASUVORK5CYII=\n",
       "\" style=\"display:inline;vertical-align:middle;\" /></a><br>"
      ],
      "text/plain": [
       "circuit_permuted_Bkn: QCIRCUIT(([MULTI_QUBIT_ELEM]{element:B_{p(1), 1}, targets:p^*(S_{p(1), 1})}, [MULTI_QUBIT_ELEM]{element:B_{p(1), 2}, targets:p^*(S_{p(1), 2})}, ..., [MULTI_QUBIT_ELEM]{element:B_{p(1), k}, targets:p^*(S_{p(1), k})}), ([MULTI_QUBIT_ELEM]{element:B_{p(2), 1}, targets:p^*(S_{p(2), 1})}, [MULTI_QUBIT_ELEM]{element:B_{p(2), 2}, targets:p^*(S_{p(2), 2})}, ..., [MULTI_QUBIT_ELEM]{element:B_{p(2), k}, targets:p^*(S_{p(2), k})}), ..., ([MULTI_QUBIT_ELEM]{element:B_{p(n), 1}, targets:p^*(S_{p(n), 1})}, [MULTI_QUBIT_ELEM]{element:B_{p(n), 2}, targets:p^*(S_{p(n), 2})}, ..., [MULTI_QUBIT_ELEM]{element:B_{p(n), k}, targets:p^*(S_{p(n), k})}))"
      ]
     },
     "execution_count": 27,
     "metadata": {},
     "output_type": "execute_result"
    }
   ],
   "source": [
    "circuit_permuted_Bkn = Qcircuit(VertExprArray(\n",
    "    ExprRange(i, [ExprRange(j, \n",
    "                            MultiQubitElem(IndexedVar(B, [pi, j]), \n",
    "                                           Function(InvImage(p), IndexedVar(S, [pi, j]))), \n",
    "                            one, k)], \n",
    "              one, n)))"
   ]
  },
  {
   "cell_type": "code",
   "execution_count": 28,
   "metadata": {},
   "outputs": [
    {
     "data": {
      "text/html": [
       "<strong id=\"circuit_compressed_inputAm\">circuit_compressed_inputAm:</strong> <a class=\"ProveItLink\" href=\"../__pv_it/common/60d1e3e6501808286248aa546b18773be61df5c50/common_expr.ipynb\"><img src=\"data:image/png;base64,iVBORw0KGgoAAAANSUhEUgAAADUAAAAVBAMAAAAUZLt1AAAAMFBMVEX///8QEBAiIiLu7u5ERES6\n",
       "urqYmJiIiIjMzMx2dnZUVFRmZmaqqqoyMjLc3NwAAABb1yYoAAAAAXRSTlMAQObYZgAAAAlwSFlz\n",
       "AAAOxAAADsQBlSsOGwAAAN5JREFUKM9jYMAAfAy4Aa9Bdkb5gjIPbHJdzKliDFIMVVDuW2S5rXzm\n",
       "Fxh+MOyEcu8jyykwcBVwCDDoQHg8/5GkeDYwMDawO/B9aABzudc/QMhxNTC8B+pkc9gA5s6b34CQ\n",
       "s2VgiGLgfcC33ADsoYL6Awi5dBRHczOcT0DwLqPIxTD0TwBS/P/hACG3geH9AjiH8wCyNnbv3esd\n",
       "4DwmFCPNgcYpwHnRKHJAfzAJwHkrkKVYgW7k/YAUYkjgIRCz/IPx2AqQpEz+X2bg8f87AR55uCP2\n",
       "CZ5In4NHbgESGwCrBjhz1uwwTQAAAABJRU5ErkJggg==\n",
       "\" style=\"display:inline;vertical-align:middle;\" /></a><br>"
      ],
      "text/plain": [
       "circuit_compressed_inputAm: QCIRCUIT(([MULTI_QUBIT_ELEM]{element:[INPUT]{state:A, part:1}, targets:{1 .. m}}, [MULTI_QUBIT_ELEM]{element:[INPUT]{state:A, part:2}, targets:{1 .. m}}, ..., [MULTI_QUBIT_ELEM]{element:[INPUT]{state:A, part:m}, targets:{1 .. m}}))"
      ]
     },
     "execution_count": 28,
     "metadata": {},
     "output_type": "execute_result"
    }
   ],
   "source": [
    "circuit_compressed_inputAm = Qcircuit(\n",
    "    VertExprArray([*multi_input_entries(A, one, m, (one, m))]))"
   ]
  },
  {
   "cell_type": "code",
   "execution_count": 29,
   "metadata": {},
   "outputs": [
    {
     "data": {
      "text/html": [
       "<strong id=\"circuit_compressed_outputAm\">circuit_compressed_outputAm:</strong> <a class=\"ProveItLink\" href=\"../__pv_it/common/692966d20ce1ee599d82797efc451498b5f60d970/common_expr.ipynb\"><img src=\"data:image/png;base64,iVBORw0KGgoAAAANSUhEUgAAACoAAAAPBAMAAABgjEDtAAAAMFBMVEX///8QEBAiIiLu7u5ERES6\n",
       "urqYmJiIiIjMzMx2dnZUVFRmZmaqqqoyMjLc3NwAAABb1yYoAAAAAXRSTlMAQObYZgAAAAlwSFlz\n",
       "AAAOxAAADsQBlSsOGwAAAGVJREFUGNNjYMAAfBcYsADeD9hEz2MV3fUPiyDnyx9YRJ+z/8EiuoHn\n",
       "GwPDfziAWMJ6gOMnplJuBr5fmKIlu3d9wRBkLmBg+ITFAAYGRQzRMCC+jxEyAkDC/wGaqf5/DRiO\n",
       "/L8JABOKI6OXgb1DAAAAAElFTkSuQmCC\n",
       "\" style=\"display:inline;vertical-align:middle;\" /></a><br>"
      ],
      "text/plain": [
       "circuit_compressed_outputAm: QCIRCUIT(([MULTI_QUBIT_ELEM]{element:[OUTPUT]{state:A, part:1}, targets:{1 .. m}}, [MULTI_QUBIT_ELEM]{element:[OUTPUT]{state:A, part:2}, targets:{1 .. m}}, ..., [MULTI_QUBIT_ELEM]{element:[OUTPUT]{state:A, part:m}, targets:{1 .. m}}))"
      ]
     },
     "execution_count": 29,
     "metadata": {},
     "output_type": "execute_result"
    }
   ],
   "source": [
    "circuit_compressed_outputAm = Qcircuit(\n",
    "    VertExprArray([*multi_output_entries(A, one, m, (one, m))]))"
   ]
  },
  {
   "cell_type": "code",
   "execution_count": 30,
   "metadata": {},
   "outputs": [
    {
     "data": {
      "text/html": [
       "<strong id=\"circuit_expanded_inputBm\">circuit_expanded_inputBm:</strong> <a class=\"ProveItLink\" href=\"../__pv_it/common/7f781cee6746e3e96c6e02d656248e30387020b40/common_expr.ipynb\"><img src=\"data:image/png;base64,iVBORw0KGgoAAAANSUhEUgAAADoAAACkBAMAAAA0+SAoAAAAMFBMVEX///92dnaqqqoiIiLu7u5m\n",
       "Zma6urqIiIjc3NwQEBDMzMwyMjJUVFRERESYmJgAAAAeMT9/AAAAAXRSTlMAQObYZgAAAAlwSFlz\n",
       "AAAOxAAADsQBlSsOGwAAAZNJREFUWMPtmD9IAlEcx7+Vf0/ToKElSGhqr6XJ9oiD9mh1SihwyMig\n",
       "MbnGKKpbQmqxoSGH6qCgQcNoiVq6oS1ElzTUsnepoPJ+b5Eg8n3gwPPD73jvHXz5/Q4AfC/VTPoZ\n",
       "FO57IKtTVgsDSypl86wuH6Zsll2pGGX3gdlpSiqfkegluWTnBzBhwvbGtYPbQF8ZieWfu1oL1r3f\n",
       "YCdSAsa5tUkT8BYpu842kzylbApw7AUJe1fLZC4CoGqbdGE3rkYgkUh+hX+bojOjN7ycbKSoinle\n",
       "bSNFi9B0OkVf+baZohgWpagyKUrReFDwqlyqK0bb+MmRoPiwvnuJRCL509gqQj3V7fNrnfT0acj9\n",
       "SiS9RM7qNsme3mq9vWWyBy2xPvadHCbK9Y8QfLwFwLMjmDRs1+Sqko+RtEkumbXe/QekfWLXWMuT\n",
       "/W3JX4VgSlG+rEll0beQiDpzOm/SUCqYC5luw2l0Wg+bNEJn2FyFX7cPdZ6FNXY9sB+3OMZAgFr6\n",
       "LtagKdS7KLDqnJ2wDgPn2Fpp//MbMDm8xTflfTsAAAAASUVORK5CYII=\n",
       "\" style=\"display:inline;vertical-align:middle;\" /></a><br>"
      ],
      "text/plain": [
       "circuit_expanded_inputBm: QCIRCUIT(([INPUT]{state:B_{1}}, [INPUT]{state:B_{2}}, ..., [INPUT]{state:B_{m}}))"
      ]
     },
     "execution_count": 30,
     "metadata": {},
     "output_type": "execute_result"
    }
   ],
   "source": [
    "circuit_expanded_inputBm = Qcircuit(\n",
    "    VertExprArray([ExprRange(k, Input(IndexedVar(B, k)), one, m)]))"
   ]
  },
  {
   "cell_type": "code",
   "execution_count": 31,
   "metadata": {},
   "outputs": [
    {
     "data": {
      "text/html": [
       "<strong id=\"circuit_expanded_outputBm\">circuit_expanded_outputBm:</strong> <a class=\"ProveItLink\" href=\"../__pv_it/common/7377bb5447973767c3e1c6114d961af62ff203630/common_expr.ipynb\"><img src=\"data:image/png;base64,iVBORw0KGgoAAAANSUhEUgAAADkAAACkBAMAAADfzpsrAAAAMFBMVEX///92dnaqqqoiIiLu7u5m\n",
       "Zma6urqIiIjc3NwQEBDMzMwyMjJUVFRERESYmJgAAAAeMT9/AAAAAXRSTlMAQObYZgAAAAlwSFlz\n",
       "AAAOxAAADsQBlSsOGwAAAUlJREFUWMNjYEAHfPf/nDl9iwEX4LzAwHB+AS7Z/gIGhvwAXLLvgfre\n",
       "F+CSPQ/EOxtwyc5lYPCxwiXJ9be8Zh9OJ7P/YGDQfMDA8hrE+Y8EwLK8ExgYGH8xLC/Gqpf/ADBE\n",
       "vjMwKGOVXf+AgYHnGy7ZeqBn1m/AJbuTgYFttgMO2bP/z5zZq8CASy8MUCDbuF+cYRSMglFAEzDk\n",
       "S1GMchJaijrKHMGmF1qKBjAE4ylFvzH0L8Bdij7BLgsrRRmE8ZWiXCb4StFeBzxRxRHA0YBbtnfV\n",
       "Ujya50MDZxSMglEwCgYzYPmNV9qUOFP+o4MRHRqj/h0Fo2AUDOdxE8yS/wNSix8HgI2bMOAbN3n6\n",
       "qvxA3S0cLX6WZ/MY5jDU4Gjxc7hvYPjFEIirxc9TwDWBwQhnXCxgv8DxAVdk9AN1813AFRk5DNwN\n",
       "HMcdAD2pvpaWpswPAAAAAElFTkSuQmCC\n",
       "\" style=\"display:inline;vertical-align:middle;\" /></a><br>"
      ],
      "text/plain": [
       "circuit_expanded_outputBm: QCIRCUIT(([OUTPUT]{state:B_{1}}, [OUTPUT]{state:B_{2}}, ..., [OUTPUT]{state:B_{m}}))"
      ]
     },
     "execution_count": 31,
     "metadata": {},
     "output_type": "execute_result"
    }
   ],
   "source": [
    "circuit_expanded_outputBm = Qcircuit(\n",
    "    VertExprArray([ExprRange(k, Output(IndexedVar(B, k)), one, m)]))"
   ]
  },
  {
   "cell_type": "code",
   "execution_count": 32,
   "metadata": {},
   "outputs": [
    {
     "data": {
      "text/html": [
       "<strong id=\"N_0_to_m\">N_0_to_m:</strong> <a class=\"ProveItLink\" href=\"../__pv_it/common/9fe42e10fed35f8c302161ad37279382d9169cdc0/common_expr.ipynb\"><img src=\"data:image/png;base64,iVBORw0KGgoAAAANSUhEUgAAAIoAAAASBAMAAAB2nFt5AAAAMFBMVEX///+YmJhmZmZ2dnbc3Nyq\n",
       "qqoiIiJUVFTu7u4QEBAyMjK6urrMzMxERESIiIgAAADdQ9CtAAAAAXRSTlMAQObYZgAAAAlwSFlz\n",
       "AAAOxAAADsQBlSsOGwAAAaZJREFUOMuFkzFPwmAQhl9aaEoKLX8Awbi42ZE4EOKiG4wuJsTB6CSr\n",
       "iymLDibqD8DooLMsxKgxsLoYRjfYNCYQFKIIGr2WFr72k3pJG77Lw9O76xVA66cG5fLEgBNq4wu4\n",
       "+XyET/BMowBIBoNEP+i2Cd/wMspaDxBZotLIALq/xcuIB11KskSqqkPJ+Vu8jIAtSrJEUjqGaPhb\n",
       "vIyARAxJFxF4pew/Fg9TgZZ3TYEKfXcPig+OSUEYKmWIacdEhS6Ub4Hi2XSLw0xqQ/CbkjO4G7eI\n",
       "bD2FSDs/3WIzk6ASGktACVrGfg5tQ48GFfKxOAzTIapzCPYRzjmDgvKm+1tsJjD78KTGa1aHkIaI\n",
       "9CHFYIwGBWyXRxaZF7BM8ToWLqi0+3t0DnRMS7gpD+ggmyUkMLIc0YStrPljcnKYlRdoNUHH/ukF\n",
       "JepmR1oOGwbknQF1FrUtkvmprNMlJZ2bi9nFPSRmha3phtiNteayynXkYkpoIRuZnNu48nyUlkX/\n",
       "6/WMI9ihauLMDovpeeCQJRa7TchNzsIySgHnWH72ENx/VP4d8V78AnFhdxmtlsKlAAAAAElFTkSu\n",
       "QmCC\n",
       "\" style=\"display:inline;vertical-align:middle;\" /></a><br>"
      ],
      "text/plain": [
       "N_0_to_m: N_{0}, N_{1}, ..., N_{m}"
      ]
     },
     "execution_count": 32,
     "metadata": {},
     "output_type": "execute_result"
    }
   ],
   "source": [
    "N_0_to_m = var_range(N, zero, m)"
   ]
  },
  {
   "cell_type": "code",
   "execution_count": 33,
   "metadata": {},
   "outputs": [
    {
     "data": {
      "text/html": [
       "<strong id=\"N_0\">N_0:</strong> <a class=\"ProveItLink\" href=\"../__pv_it/common/5c54b0126d1d20ea4fb86148769344fc9e332cf50/common_expr.ipynb\"><img src=\"data:image/png;base64,iVBORw0KGgoAAAANSUhEUgAAABkAAAARBAMAAADalBo9AAAAMFBMVEX///+YmJhmZmZ2dnbc3Nyq\n",
       "qqoiIiJUVFTu7u4QEBAyMjK6urrMzMxERESIiIgAAADdQ9CtAAAAAXRSTlMAQObYZgAAAAlwSFlz\n",
       "AAAOxAAADsQBlSsOGwAAAKNJREFUCNdjYGB4+/8AA/f6uQ0MEHC/gIGBDcbhjv3CwMAM5TAwd39m\n",
       "YNgK4zExZDIwWCB48gIMCjDeVgb+BAYDGM+Cgek39wYGZjuwiAIDy1/mBgY5hr0gHlDovhMDwxwG\n",
       "fgegdQEMDPuVGVh+MHACWUBFDGy/GXh+MLAJMDC0ARUzfgDxOB8wtM9fCuReAKnkD2CAA4gpMPCO\n",
       "YTuCA7RdgwEAmZAi1dMpNskAAAAASUVORK5CYII=\n",
       "\" style=\"display:inline;vertical-align:middle;\" /></a><br>"
      ],
      "text/plain": [
       "N_0: N_{0}"
      ]
     },
     "execution_count": 33,
     "metadata": {},
     "output_type": "execute_result"
    }
   ],
   "source": [
    "N_0 = IndexedVar(N, zero)"
   ]
  },
  {
   "cell_type": "code",
   "execution_count": 34,
   "metadata": {},
   "outputs": [
    {
     "data": {
      "text/html": [
       "<strong id=\"N_m\">N_m:</strong> <a class=\"ProveItLink\" href=\"../__pv_it/common/74253b2891872fd780054174601dbebfc5c1a3d70/common_expr.ipynb\"><img src=\"data:image/png;base64,iVBORw0KGgoAAAANSUhEUgAAAB8AAAARBAMAAADXimp6AAAAMFBMVEX///+YmJhmZmZ2dnbc3Nyq\n",
       "qqoiIiJUVFTu7u4QEBAyMjK6urrMzMxERESIiIgAAADdQ9CtAAAAAXRSTlMAQObYZgAAAAlwSFlz\n",
       "AAAOxAAADsQBlSsOGwAAAK9JREFUGNNjYGB4+/8AA/f6uQ0McHC/gIGBDYnPHfuFgYEZwWdg7v7M\n",
       "wLAVSYCJIZOBwQJFQF6AQQFJYCsDfwKDAZKABQPTb+4NSAIKDCx/mZFsBam+74TE5w5gYNivzMAg\n",
       "JPOu4OEdkDOAqtl+M3BIT2SYzvAcKNAGxIwfGFj6FjD8YQCqbJ+/FChygYGB/QHPBIZUJLM4D/Bd\n",
       "YPlwACHgD1TDeAHJxdsZuBxY6hoA8NMpJ3/tqa0AAAAASUVORK5CYII=\n",
       "\" style=\"display:inline;vertical-align:middle;\" /></a><br>"
      ],
      "text/plain": [
       "N_m: N_{m}"
      ]
     },
     "execution_count": 34,
     "metadata": {},
     "output_type": "execute_result"
    }
   ],
   "source": [
    "N_m = IndexedVar(N, m)"
   ]
  },
  {
   "cell_type": "code",
   "execution_count": 35,
   "metadata": {},
   "outputs": [
    {
     "data": {
      "text/html": [
       "<strong id=\"N_km1\">N_km1:</strong> <a class=\"ProveItLink\" href=\"../__pv_it/common/83bb9089fd29d5dcddb77072b027afb4e59d7ba60/common_expr.ipynb\"><img src=\"data:image/png;base64,iVBORw0KGgoAAAANSUhEUgAAAC0AAAARBAMAAAC7jDh/AAAAMFBMVEX///+YmJhmZmZ2dnbc3Nyq\n",
       "qqoiIiJUVFTu7u4QEBAyMjK6urrMzMxERESIiIgAAADdQ9CtAAAAAXRSTlMAQObYZgAAAAlwSFlz\n",
       "AAAOxAAADsQBlSsOGwAAAMJJREFUGNNjYGB4+/8AA/f6uQ0M6OB+AQMDG6Ywd+wXBgZmDGEG5u7P\n",
       "DAxbMcWZGDIZGCywicsLMChgim9l4E9gMMAUt2Bg+s29gYExDy7SuABEKjCw/GUGOnM2TJjnXQKI\n",
       "Ahpx34mBgeUDXD0rSJw7gIFhvzIDA+MFPwNkcZARbL8ZGNifRExBFm8DYkagGZxPGQ4gibfPXwpk\n",
       "XWBg8Fc6wHD2LhA4QNTDgCx3ggOyOTBQx5NggE38CkMh1HwWq88PAJjaL6g4D5n4AAAAAElFTkSu\n",
       "QmCC\n",
       "\" style=\"display:inline;vertical-align:middle;\" /></a><br>"
      ],
      "text/plain": [
       "N_km1: N_{k - 1}"
      ]
     },
     "execution_count": 35,
     "metadata": {},
     "output_type": "execute_result"
    }
   ],
   "source": [
    "N_km1 = IndexedVar(N, subtract(k, one))"
   ]
  },
  {
   "cell_type": "code",
   "execution_count": 36,
   "metadata": {},
   "outputs": [
    {
     "data": {
      "text/html": [
       "<strong id=\"kth_start\">kth_start:</strong> <a class=\"ProveItLink\" href=\"../__pv_it/common/843836abeeb643b5482714ba1a31a75a78e562e20/common_expr.ipynb\"><img src=\"data:image/png;base64,iVBORw0KGgoAAAANSUhEUgAAAFIAAAARBAMAAAC8zuZqAAAAMFBMVEX///+YmJhmZmZ2dnbc3Nyq\n",
       "qqoiIiJUVFTu7u4QEBAyMjK6urrMzMxERESIiIgAAADdQ9CtAAAAAXRSTlMAQObYZgAAAAlwSFlz\n",
       "AAAOxAAADsQBlSsOGwAAAOtJREFUKM9jYGB4+/8AA/f6uQ0MeABPBpi6X8DAwIZXYbvWDxDFHfuF\n",
       "gYEZu5KNUJoPrJK5+zMDw1bsKuNQVDIxZDIwWBCnUl6AQYEYlVsZ+BMYDIhRacHA9Jt7AwNjHlye\n",
       "Qwq7SgUGlr/MwECaDVd57hmYUktLm5mWlo5QCbT4vhMDA8sHhKVhWM3kDmBg2K/MwMB4wc8Av0qQ\n",
       "xWy/GRjYn0RMwa+yDYgZgTZzPmU4gFMlMzAa2+cvBbIuMDD4Kx1g4LkLBFcwVbJX/ipE+EKWO8EB\n",
       "p5kooI4nAdNHG7GpvMJQCHOn83o7THkAPWxE8ffzTy4AAAAASUVORK5CYII=\n",
       "\" style=\"display:inline;vertical-align:middle;\" /></a><br>"
      ],
      "text/plain": [
       "kth_start: N_{k - 1} + 1"
      ]
     },
     "execution_count": 36,
     "metadata": {},
     "output_type": "execute_result"
    }
   ],
   "source": [
    "kth_start = Add(N_km1, one)"
   ]
  },
  {
   "cell_type": "code",
   "execution_count": 37,
   "metadata": {},
   "outputs": [
    {
     "data": {
      "text/html": [
       "<strong id=\"kth_end\">kth_end:</strong> <a class=\"ProveItLink\" href=\"../__pv_it/common/fcd3a648dbeeac75d9329c0811c5edf8d9226dd80/common_expr.ipynb\"><img src=\"data:image/png;base64,iVBORw0KGgoAAAANSUhEUgAAABoAAAARBAMAAAAxo6E+AAAAMFBMVEX///+YmJhmZmZ2dnbc3Nyq\n",
       "qqoiIiJUVFTu7u4QEBAyMjK6urrMzMxERESIiIgAAADdQ9CtAAAAAXRSTlMAQObYZgAAAAlwSFlz\n",
       "AAAOxAAADsQBlSsOGwAAAKRJREFUCNdjYGB4+/8AA/f6uQ0MEHC/gIGBDcbhjv3CwMAM5TAwd39m\n",
       "YNgK4zExZDIwWCB48gIMCjDeVgb+BAYDGM+Cgek39wYGxjwwT4GB5S8z0ILZYB5Q0X0nBgaWD2Dr\n",
       "AhgY9iszMDBe8AOKgxSx/WZgYH8SMYWBoQ0ozwhUxfmU4QBD+/ylQO4FBgZ/pQMMCCDLneCA4NXx\n",
       "JBggeFcYCg8AAI5HI9j2U0qsAAAAAElFTkSuQmCC\n",
       "\" style=\"display:inline;vertical-align:middle;\" /></a><br>"
      ],
      "text/plain": [
       "kth_end: N_{k}"
      ]
     },
     "execution_count": 37,
     "metadata": {},
     "output_type": "execute_result"
    }
   ],
   "source": [
    "kth_end = N_k = IndexedVar(N, k)"
   ]
  },
  {
   "cell_type": "code",
   "execution_count": 38,
   "metadata": {},
   "outputs": [
    {
     "data": {
      "text/html": [
       "<strong id=\"each_Nk_is_partial_sum\">each_Nk_is_partial_sum:</strong> <a class=\"ProveItLink\" href=\"../__pv_it/common/70122675648c328bc4ee234dd73403686b826d700/common_expr.ipynb\"><img src=\"data:image/png;base64,iVBORw0KGgoAAAANSUhEUgAAAswAAAAVBAMAAACgUaXnAAAAMFBMVEX////MzMxUVFRERES6uroi\n",
       "IiIQEBCYmJhmZmYyMjLu7u52dnaqqqqIiIjc3NwAAACW8nlqAAAAAXRSTlMAQObYZgAAAAlwSFlz\n",
       "AAAOxAAADsQBlSsOGwAABU1JREFUWMOlmVuIG1UYx//ZzW0nySRFCiLILr5IC4W0fRPchnrpi6Xx\n",
       "slJFZKuioA9NvbEVpXkpYteHfRNE2sELIqIbKj7YdiEgEUVkwxapha4EFqFStFtcULfQ9Zw5k+TM\n",
       "Od+cORM/OLOz5/vn/Gb+M+eSEwA9xETP8J8aLhKGq32ol+RqRgGM1GhSrEovteOkB+V/YuRXkl5H\n",
       "uiuKLSD+cuMAIzWaGKvSf2Tl4lYF6TPPerrs/C89lBpShVlebBnTVFwKih0gLm0BGKnR5Ngw3Vng\n",
       "/+ybAjLE5yfaztPA+/75BX4wy/EZjGkqJjxR7AAxaQtAOC7YNToCNkzP81c1/e0toECIXgO+AuZ8\n",
       "0hP8aJbjbRjTOKBX5Zqi2AFi0haAsH02TCsFiR7Ss/y88PFN4CFCtAdY9pDlT7D0co0dzXLMmtP4\n",
       "iah7MShWgOz/BoSHXBumlYJGD+g/+A8LjwPnCM0/wGQbE/xZZlJVdjTLiwvGNH0p7wXFBhCXtgCE\n",
       "wopppYi0WdDnRQMnGmgSQxK3uYHClD8JnGZHoxz5ljE9uJT0ypdL9/brzgbFBhCXtgAoM5sF00ox\n",
       "QB/cee2ivLARdG426wnlOloDs2b8YN66rJdMdpHjL+lpfB88m0i5eO2VNHUphfFdWOyvRI8HxQZA\n",
       "pRMCQhHJTIiV0K09XeeWVC3oT/HTc8hvpGvE4prb3EKRDbmpKX+SNcqRaRvTg0u5P1PF9UpQ950o\n",
       "VoC4tAVADjsmbBR9dLr2KNwbUrWgP8dPm3D/KngoLCnPymE2H+oitQ6MVVBifUGWO8e1maJGpz/1\n",
       "x+yTMzPPz8w8ws68xRqfWkX1pCgE4POzO1VCRJoGOOfv8jSAHASTjmhFcJcDtONsoLgpCQTdb4C5\n",
       "u+8q8Bbu06fA5TbSs/6K2KkjJL/zZ9pmLZ1arSvTxDKwo1/9oCgEoImT5P1q6QhAHvm6BlCW+SrT\n",
       "YDOpGN5lgC6uY2xBEgg67w5p1tcPsVH+CMq98KC0FzjhoVgX6/h3EZKjo45h/qChpH206sIO4G8n\n",
       "qO6IQgA2RMeXB0kiHQ0o1/zuGwaoX07UmyLHZloByHcZoJnH5YYXznfA52PeEzIbcDeRVb66vw68\n",
       "w5bXbNXD7+N3yHLZxyDGu3Rac+El1rEKQfUrohCAN4Y+9iMiTQNynm9zGCAHwZw7tjp1aTcMWEWh\n",
       "2pxtseGqNRQJOl9vfMK/rawjtYlMQ53TnCP+Oi3HDRyvyHLCZn/lR6RVF9jdlxaOBdXzfiEB+Fol\n",
       "RKQjACjUVYDzL/uzyHo1OyGYzqsv4BmsGLCqQrWZPfrLuTuGIkHfDnx49AN2WuU2Z5U5wplfYS9M\n",
       "poYx3g1SXVlO2Jyq02nVhXQdzt3toPoxv5CA1JMqISIdAcB2TwMc5m8PX/0eppjuFwu4gXkDVlWo\n",
       "Nj/ApG9KIkHPDLslGzTK5H7fb9LrXaGGpUE8rIxat+1l0dP7tGSOWxeFAqxpM7+aNgPce3QAtQ6V\n",
       "Gh3rpmbF+i1GkeLkad1mpZmAnpO+1gRTIL0hNNwJMdg8R04OQxcO6DbzXZl8gwS4TbdH7MQQ6QjA\n",
       "VfypASK2dwaLpUqp6q5X7BUdcutoIOrTp4e5VewnfwGQtwKmjTaP98w2Q7d5LSgEYG3b7drrTKdp\n",
       "gLt72ykdQITU6HX2IuaqTXtFh2xxIOrTP5JmsKVT1EdC3knya2eWtE2QKpV2v7lJ/XwhqqeVZycB\n",
       "jm5taR8i0xGA7NbWug4gQmp0PyZ67i7PWkGYEBL16W43bmf615A3ZvkfSX/FKfVEsQXEX24cYKRG\n",
       "E2PD9P8Anr+V8xwzQMkAAAAASUVORK5CYII=\n",
       "\" style=\"display:inline;vertical-align:middle;\" /></a><br>"
      ],
      "text/plain": [
       "each_Nk_is_partial_sum: (N_{0} = 0)and (N_{1} = (N_{1 - 1} + n_{1})) and  (N_{2} = (N_{2 - 1} + n_{2})) and  ... and  (N_{m} = (N_{m - 1} + n_{m}))"
      ]
     },
     "execution_count": 38,
     "metadata": {},
     "output_type": "execute_result"
    }
   ],
   "source": [
    "each_Nk_is_partial_sum = And(Equals(N_0, zero),\n",
    "                        ExprRange(k, Equals(N_k, Add(N_km1, n_k)), one, m))"
   ]
  },
  {
   "cell_type": "code",
   "execution_count": 39,
   "metadata": {},
   "outputs": [
    {
     "data": {
      "text/html": [
       "<strong id=\"input_Ak_nk\">input_Ak_nk:</strong> <a class=\"ProveItLink\" href=\"../__pv_it/common/bb826463bbde9b3613eb6ae0311587bfa9657f200/common_expr.ipynb\"><img src=\"data:image/png;base64,iVBORw0KGgoAAAANSUhEUgAAAW4AAABXBAMAAADWjrJtAAAAMFBMVEX///8QEBAiIiLu7u5ERES6\n",
       "urqYmJiIiIjMzMx2dnZUVFRmZmaqqqoyMjLc3NwAAABb1yYoAAAAAXRSTlMAQObYZgAAAAlwSFlz\n",
       "AAAOxAAADsQBlSsOGwAABeFJREFUaN7tml9oHEUcx3+5vb/JdS8BY7GFJqZCafOQqxjE+tADBaFC\n",
       "b6m0QklIkEIFLY1SkFpr1rz4YCGLeRCEGqvSYI3mKAVtQ/VoC6E+mBbtQ6uYrQga23JJa2o1JufM\n",
       "zt3+nb3MbDb0DvcL2b3d2f3Nd+fPb24/OYBlStgJfummynvHLe+VHX7ON9/xT9Kcd0wxBF1PPZ28\n",
       "gzax7D2A7tmnPAQ4UJQhMvUAMRz+kM92suheliC7LWfv0ItbtQr/QZv1FetwC5BFXkNpczB2NYy5\n",
       "j6wbpX2sku+uLAqg0APsqhggcmFRbxtu3x8My65lh1h8D/UoEMnTA0xUDJDo/Bs9tjffYl9/3nVU\n",
       "zrP4zoUaIZH24rsBHkaP7c13A0z26gfdD710Bh3tPTgE3asv/vzt7RN5S7XCl4ek+OWvXxux+I7e\n",
       "RVG8+d7fCzlvvrtg0DQ2myShHZLr4CzA2u/uQrut2gEVnoHQKAySKdFwCQ/SPNzWBymf7y5Iteoz\n",
       "I9bI5TsHBTSpX+gjR9cAJiXku0eFNkg7fG8EGJTDjZAiXXQd79AQ+UbaaYTA3bKPzfcQNMxFJIhu\n",
       "0Absvzy2Y8+Oj2UA6iRy+CPAVtRxncMqfgS77zgKnVLCGUhpHv+4QjobCpkhIwTS269qu5NtbU1t\n",
       "bZvcfedA/BPPjGaSLH9Cm1RRV0XfjwPuKyiA7juVgSdHJ1X80e47OYeLdd/xU2mS48OLOSME1jm2\n",
       "9kZDJItSrTijHR2VuIYJoHQAe8SDRnsnm/EAvqr5VhztndN9kyUO5bHIvGKEYPeNk2fPaYBo5jel\n",
       "tPiyKoJG6Cr0uCM3N6vl8S2nctDzu3pVewyLb1iLKpIM31oKwHmsQzJCsPvGQySEurD+zfPr0BF9\n",
       "XgrUs9dxq6FFa3U+rh1fVoWNqEmh/4iKx8jRku/EIrn8LRl1wyqLbwF73w9GCKrvcoCtKAMJC6WT\n",
       "j6K/KGq0ujdAds2D+A6HHit+D8nsgiLOf1XKJ3tflyA+MvHEht2zo6glPtXWk/pjC8fJInX6fSk+\n",
       "tuZIdk3Zt3BsAfV2GBXhEPGnkbY7fesBQjlj1mxpwRMRJYXCuOyev0OVvvlEMzvE8vjmkLkqPQS1\n",
       "vStqT6RVdV93zle4s75vILFM33oIi+9dLGFG4q2Ku2+lwp1htf5F7cMmLt/mJU4PgTQ99R5PmO1w\n",
       "XC4tvpR52ccQYffsF1zfybiWuCW0uZfeNrACujHqW6jpUQgUKFCgQIECBfr/KuD2K8LtxfEfZNr5\n",
       "auf2v0Jizv09rXq5PXoJanL3Xb3cviUN1Ierdm7/EcCY7Oq7irk9QAfJezXG7SH+l7arNW4PIZKk\n",
       "ao3bwynS6rXG7aOkuWuO218EUYXa4/ZxBWJaoqsKbo/PsHH7X8bHT2rF94nba3eYPzBy+45ikdR1\n",
       "v7h9u/lWE8mvLW5vnKktbm+cqSluTyH5NcHtfSD5AbcPFChQoECBAgXyVZ2SX5F46P2t5VYWu5L2\n",
       "yzcPvZ9abmWTuC4Lg3fTAK3YI71n4PZL6F1ta2bwdAmfTVHLvdF7lt/bM/i2MHib9LfMfppvj/Se\n",
       "5ff2DL4tDN6miYq+vdF7pt/bM/i2MHgu397oPQu3f/7j6QOml2gbvS/7NjF4Tt9e6D0Lt1e29QmL\n",
       "pqxgpff4YhuD5/Ltjd4zcPuI9AiI90p4HRz0XnwQby0MnnTLPjbfnug9C7cXhDmN8jaXRr2V3ouf\n",
       "S+T5zQwey0nv6b4p9B4Mej9D983E7ZMzUH+pjNft9B7e0f5VbGXwms6xtbcnes/E7ZHpVG+a4HUn\n",
       "vYdtYGfwPL490Xs2bl+noLVcIXgdHPReyydWBs/jm4ne28XG7QsyHI7KBK+Dg95rvq0M3s33MMlA\n",
       "/PTeJkZuvwNNl5dLeB0c9B77tjB4N3oPJ1quaSmIn967iInbE7zu+r3KeZGf9J4uJm5P8PoSvs0X\n",
       "+Unv6WLi9gSvU/QK/SI/6f0S4uT2JRXy/r3yudD7FZF4xjfjbPT+PzX4U691z3ncAAAAAElFTkSu\n",
       "QmCC\n",
       "\" style=\"display:inline;vertical-align:middle;\" /></a><br>"
      ],
      "text/plain": [
       "input_Ak_nk: [MULTI_QUBIT_ELEM]{element:[INPUT]{state:A_{k}, part:1}, targets:{N_{k - 1} + 1 .. N_{k}}},  \\\\ [MULTI_QUBIT_ELEM]{element:[INPUT]{state:A_{k}, part:2}, targets:{N_{k - 1} + 1 .. N_{k}}}, ...,  \\\\ [MULTI_QUBIT_ELEM]{element:[INPUT]{state:A_{k}, part:n_{k}}, targets:{N_{k - 1} + 1 .. N_{k}}}"
      ]
     },
     "execution_count": 39,
     "metadata": {},
     "output_type": "execute_result"
    }
   ],
   "source": [
    "input_Ak_nk = (list(multi_input_entries(A_k, kth_start, kth_end, (one, n_k),\n",
    "                                        check_part_index_span=True))[0]\n",
    "               .with_wrapping_at(2, 6))"
   ]
  },
  {
   "cell_type": "code",
   "execution_count": 40,
   "metadata": {},
   "outputs": [
    {
     "data": {
      "text/html": [
       "<strong id=\"output_Ak_nk\">output_Ak_nk:</strong> <a class=\"ProveItLink\" href=\"../__pv_it/common/5b0ac3501f026d02aee05b105981235a4863b6a30/common_expr.ipynb\"><img src=\"data:image/png;base64,iVBORw0KGgoAAAANSUhEUgAAAXUAAABXBAMAAAAJwMhyAAAAMFBMVEX///8QEBAiIiLu7u5ERES6\n",
       "urqYmJiIiIjMzMx2dnZUVFRmZmaqqqoyMjLc3NwAAABb1yYoAAAAAXRSTlMAQObYZgAAAAlwSFlz\n",
       "AAAOxAAADsQBlSsOGwAABfJJREFUaN7tm39oG1UcwL/NJemlSS+tOKYrbF0mjLVgM2GK3R+LOBD8\n",
       "YzkmThgrLTKYoLIghbLNaRyCIJMe9A9RKHb+WFWKDWOia9kMWhjzD9vB/KMq9hSh1g76M7W1v3z3\n",
       "7vJyl+Rd3l3TpoH7Qi655OW9z737vnc/PhxAUYN7vmhV3Zdt/EkYsd/gxeeKxs5/Grb+p+pphor3\n",
       "5f06MIcWldFFgJaZp21U0L4eB8/Ygyq0u8c6+7AJu099a745l//netzof2ixz7QNWgVRxOsK6yuz\n",
       "FgNr9N8mtfdKM/ZTUZSqUt4CnjbTCjxDa6R/7LD7JhbpP15gYe9qlcCTzJ9UMdMKfIeW0KbbZx+v\n",
       "XKFn6TILe8JVA76wHXY/7EWbbp89EVjIrLQ8/PIA2s1nznVBy847v/84+2XS0PThjq/hvbrx8zED\n",
       "u3cBUdhjP9sGCdvsniS/pFutFblGCOyGmwB1Py1Ao7Fp/lFwx6AhyWtDxD+Ca4BZkrTW2E9BsJ6M\n",
       "lMoaq+x+ENA04d2vrf6C5h0RsbfKEIJwNrtLAn4RngLQdtUfylBE6fKdiI5RL8ZIpY+PsLF3gT/l\n",
       "EbXWhZVCrOsk1KmxfXBgHr3t0H7+FeAI2omHPpKVzchm70QZtARHAf7Fq//8rG49TEVQ0laIZJh0\n",
       "4N3vD4X2PhAK9dDZEyDMKyNFbb35N4sHddQxs2ibpzPswQgc7huWlY/Z7MMIbz7Dzl8Pq8cA9xra\n",
       "3ildqtSz9TtKl+gkab1btJoyoIx1b2RcyvR7YAd0yjCK2aXsfl/OsKuHQjTHeZZRsdPCOYvsysTa\n",
       "eiPdemDOYrqfQK8xgKo3fthN8j0eTEDr3/Io3hQDe0UCPCkdO54alDmuCXVZ7/2DsjV2JV1cqXTr\n",
       "Pv1YZTi3EZTy6LBY8TrE8Rd3Ze4AIPY3L8tKvnRr7D51YuEfgmoJ7hnYOYXzLHrtTPL0ftcq4FbT\n",
       "CyUeQy8vyhe1df0cSYqYZHt0NQxD66MwNRjX5pkz50Xge28/uf/kTB/qkS9wB1RdWb2qniN88Bm8\n",
       "O/P50ExPmp27sor2vBt1w/K3AG8fRSHnspMKGiEzipr3KIMzAlrrhvk9xH5SedpTL6fz3cr5hK45\n",
       "b+S4QO93htYN7AF29l6+Xtoge1Xski+HnZyLMbRuYPexQxyDq2rSNFhi1x8K3XLVS+lR1L0Us1KN\n",
       "2rpffw30hPXz4ZMzX1m65FqB4sVB/T6KwabHZF/RqproAyeccMIJJ5xwwgknLN1mcNwBvhbeJHcg\n",
       "DN6L5/u+HNzBX+BL0a/5trc7QBdTtXT27e0O9oShX6ayb2938DFAf5zKvs3dAUATXpajOwAe38Ur\n",
       "S3cALjyBlaU7gOt4WZbuwKseN8rSHdwBQYbydAe8BJVKF5fSHeR8w+gO/hwcvIa3YUvdwZGR7A+G\n",
       "bGd0B03r6+pft9QduBJaWfyBahPKwB1QbUIZuAOqTSgDd1DQJmxjd1B0m+C4AyeccMIJJ5xwwolS\n",
       "R+kMwkbcgRqlMwgszx2YRgkNAoM7YLnyK4lBYHnugIHdxCDgu0DUuzQbMAhMzx0wsJsYBLhtym7f\n",
       "IDA9d8DAbmIQCrDbNwgs7uCFTybadde63DcXRP7urY5eAzvdIBRkt2kQmNyB9GyM042KSzI8A64+\n",
       "5YYrbruQQSjAbtsgsLgDj/gICIuZQgcAOuPuGgiqdyVoBoF7lY2d2SDYcQccl8KTuFaIR9UHJXcE\n",
       "gpiTZhDgndfw27VQqDYUaqCz2zUIbO4gMA1VI6RQIKUUIuxUgwDfs/W7XYPA5g4QeLAtnC6E+z1B\n",
       "2KkGgZHdtkFgcwcVEgyHJVKoDjUmZthpBoGR3cQgmJ+HsbmDqThc9MZJobfiaKdUG9jzGYRcds0g\n",
       "GGUA3SCYZzujOziOhtArmULCjQ9Fvn/X5eiuNLvRIPCKQTiWy04MArECYG4QmILJHZBCeY+raugN\n",
       "Qm6/MzBYZ2dyB6SQCbveIGTYT7AzWGdncgekUFZQDAJMjL1vncFv+0rIojvQ0n/TDMIWxBYZhP8B\n",
       "Hp9bto9z6KcAAAAASUVORK5CYII=\n",
       "\" style=\"display:inline;vertical-align:middle;\" /></a><br>"
      ],
      "text/plain": [
       "output_Ak_nk: [MULTI_QUBIT_ELEM]{element:[OUTPUT]{state:A_{k}, part:1}, targets:{N_{k - 1} + 1 .. N_{k}}},  \\\\ [MULTI_QUBIT_ELEM]{element:[OUTPUT]{state:A_{k}, part:2}, targets:{N_{k - 1} + 1 .. N_{k}}}, ...,  \\\\ [MULTI_QUBIT_ELEM]{element:[OUTPUT]{state:A_{k}, part:n_{k}}, targets:{N_{k - 1} + 1 .. N_{k}}}"
      ]
     },
     "execution_count": 40,
     "metadata": {},
     "output_type": "execute_result"
    }
   ],
   "source": [
    "output_Ak_nk = (list(multi_output_entries(A_k, kth_start, kth_end, (one, n_k),\n",
    "                                          check_part_index_span=True))[0]\n",
    "               .with_wrapping_at(2, 6))"
   ]
  },
  {
   "cell_type": "code",
   "execution_count": 41,
   "metadata": {},
   "outputs": [
    {
     "data": {
      "text/html": [
       "<strong id=\"consolidated_input_A_1_to_m\">consolidated_input_A_1_to_m:</strong> <a class=\"ProveItLink\" href=\"../__pv_it/common/b2ca89f3c404725307855517d3654c42fcac710c0/common_expr.ipynb\"><img src=\"data:image/png;base64,iVBORw0KGgoAAAANSUhEUgAAAfwAAABXBAMAAAAT0Oq5AAAAMFBMVEX///8QEBAiIiLu7u5ERES6\n",
       "urqYmJiIiIjMzMx2dnZUVFRmZmaqqqoyMjLc3NwAAABb1yYoAAAAAXRSTlMAQObYZgAAAAlwSFlz\n",
       "AAAOxAAADsQBlSsOGwAAB4RJREFUeNrtXFtsFFUY/rqz2529dFqNAkIia3kwgNHFcAnUhBowEk3s\n",
       "qtFEAmmjGIg8UCKlUkAWYoIC2hUepCTQJahVLLIx3mhTbQIJwQdaojyABoZIgqVoW0qxtbT1nLl3\n",
       "d2Yv7bS77c6XMDn7z/z/Od+5/Od09mOBiQLmleSe486nHPpvvTCtowxgMra/nOSDe5alGvqqji2v\n",
       "c5QBYuEs6QVWd8Vv3i6/rtnbTS7sLL1bm4aCcFx9QPF7LkX23iEdY0vnKAOocMkF+3/kMivuFP/q\n",
       "qj59lw9Y0tSte68kDNhUt/0p0vec5OXilppPpDgNg8qg1dS8rTuYil0TQA/tcmFVCXkupPuMo0wq\n",
       "7DCmD6cufceZQU0Xp07/SG1QKu32g6kQq2vrlWws4bgoEOulsasBdLFVLhwoDcHRrD+BykdM37Wg\n",
       "j/TsiOlz5TukJrEvkMt8gdIN5z3p9ntkxJhnYt1UuxpAF2y/XIrYCuDym03fg0dIz46Yvgct0szz\n",
       "uHgwESFSxHtXbvMRoEin0apdDSBi9UPrG4hh7ZYDWD313JVfbh+XeieSe5c8nBz9osrv8OGMG1Xl\n",
       "SdDfUIbIiOmvQrW0Ht/FERRhMV1PzWyftMJ5F89EmJgVq7GrASTcF2DmwvswmoAZ5+9irrxIm3Fb\n",
       "u0jj0Wcfh70cc5pZKQV5Wg3pr0K+T5tRNqZGP4IOkjoXkvhhuD6KwC30KEey9OJDx+ing+30VhQ0\n",
       "djGABpfJxhEg9Et5FMKv0CdT5ecAOb28Xq48ubDVgL4tBLYXTwPSJLxWZkj/ADw9Dk1y6mhOhb3z\n",
       "+caTxWArfUJSbhCT6KbGhjuU1zf0kyesk69VuxhAi9+BpWQ2LqjlaU8o9Mm87ygmSytHaatQK7lR\n",
       "WPjI/YWFYQ39asKhD8uBf4WPNy/CkH4E3B3t4mROUP75Qwri0l8EOnng9QmBaoK0lQwZi9tADzqC\n",
       "5FPbQWjXlsJFsksBhtPPL0ZRfQtPi+rok51/kDh0aOa8z2D0W0gX3VHps9/6DemTEShp1w7MxdTm\n",
       "PkhClui3oYISo/mJpNM3BPpcyBnQoy/bxQC53++ucq4JqqPvfRDVPC4J9EPSIoWjnxTXcFsS0qej\n",
       "36/Shz1sRJ/upKWngPXrKsObV9Ce86fAnp436AGXNmQfG4IzQFr5qnyQ3Q+2+QOgIna3VuxSgIUv\n",
       "luWEnWFl7QfzIyj9i78k9EZIWqTAE2RU627N4xPRz4nA0aOhb5z56by39YB5cwqmo4oYPtYnqt8p\n",
       "12jXDooNcb5GPmwLgSugR0lePGRX0OV9jq6pAXJZ2ioVFLsU4M/tyA96RJ4XeGY2CP0d+3g68Q+L\n",
       "9BnKYAP5N7WZNR79WrFn2GnIC+G34fRd4jagNETAk+Rfbie4Ra3oxSnDjU9sdDTmD/0Kb8lASGwI\n",
       "PfYs8TMlA36cGSIDd510mZ0eb45BWsO2iLyYJbsSoA47YRMnyeW1VQGwdWcXP7qyq55sEl/SnmeO\n",
       "DpC7dnJK6v+RHJqWE/Cx9I/PvCyeIdprPsOeri/OdIUV+u6jA59jWENoc2f+Qa4k9brL2QI8Zrzv\n",
       "F8ZdE0JDct/Bbs0JhotwhOPaILtZzyPKPg2b0MHKaz8Ocotf4oxH3+jPJl+iVZwTdBZznUFD+t7E\n",
       "9PFU5WmN7fr7e4kPc3abrudwO9dJxn+NJwn67vJdrhj6jrLR0u8ggXOLI4b0XXEP/of7Yvt/ZoI9\n",
       "c1gKDeMKbop/As6J+6Sdd6+LV6v+6aQg0RMrkcdzdWRAmgw3+PHByq6vTY/J3Uv6rdgUfXs5JjLa\n",
       "65Psp0PNsGDBggULFixYsGDBgoUJBkvekBwmtLyhvWmFrj075A1cMWoDujF82SBvcPPIKTCiP/nl\n",
       "DTndcA+mSH8SyRvcPrh7U6Q/qeQNsIlJJ0vlDagWStkqb5C+JMhWeYNHDJWt8oa3pGNHdsobvCH8\n",
       "I49+FsobSFDhLDUe8gYGmSZv4OY2NgqmsZE3KK0XvMklw+QNNpKpRF5jIm9QWi8UbLOiklCWyRtO\n",
       "R+fg7JI3qLt5NsobmLH5yn+iyBucE+hdnyVvsGDBggULFixYsGDBwgTHgkByz93iTa02Q+QNzotJ\n",
       "vqNlP/WbST9D5A3CG2rdX2+I9hRee5uFTJE37Df+9YYoz8SvvlJAJsgbJPpG/38/ytNU+pkgb0hA\n",
       "P8rTTPoZIW9IQD/K00z6aZM3MD9sDbAXfqqsS4L+cE8z6adN3rCLx7Ow1dNvQgU0GdKP9kz82jt5\n",
       "pE3eMBuoDtoLkC/OHW6KIX3ZU1mv90xjnzZ5A0s45IfsxcgXuoM7ETCkL3sqWEK/2IOqYOgcMf20\n",
       "yRu8PfQxhT72LjMefclTweGAeXM/TfIGYfQjKn1RjapLX/JU6vB2m8U+jfKGGUBpQEPfOPNLnkod\n",
       "LtNSXxrlDTuDZHLkRdGXfr1BrUfjqdRh2saXLnmDkOxOHQqwJ6fvK5mu0pd/vUGtR+Op1GHqoVdM\n",
       "RDTiuMsbYk99cSHXMUb0x13ekBp9pQ7T6adH3jAcG5Ouw9OKzMVI5Q3Jq1HnlU3CV31cQ5L82+pN\n",
       "qvF/tlnuWdur2lsAAAAASUVORK5CYII=\n",
       "\" style=\"display:inline;vertical-align:middle;\" /></a><br>"
      ],
      "text/plain": [
       "consolidated_input_A_1_to_m: [MULTI_QUBIT_ELEM]{element:[INPUT]{state:(A_{1} otimes  A_{2} otimes  ... otimes  A_{m}), part:(N_{k - 1} + 1)}, targets:{1 .. N_{m}}},  \\\\ [MULTI_QUBIT_ELEM]{element:[INPUT]{state:(A_{1} otimes  A_{2} otimes  ... otimes  A_{m}), part:(N_{k - 1} + 2)}, targets:{1 .. N_{m}}}, ...,  \\\\ [MULTI_QUBIT_ELEM]{element:[INPUT]{state:(A_{1} otimes  A_{2} otimes  ... otimes  A_{m}), part:N_{k}}, targets:{1 .. N_{m}}}"
      ]
     },
     "execution_count": 41,
     "metadata": {},
     "output_type": "execute_result"
    }
   ],
   "source": [
    "consolidated_input_A_1_to_m = ExprRange(\n",
    "    i, MultiQubitElem(Input(TensorProd(A_1_to_m), part=i),\n",
    "                      targets=Interval(one, N_m)), kth_start, kth_end).with_wrapping_at(2, 6)"
   ]
  },
  {
   "cell_type": "code",
   "execution_count": 42,
   "metadata": {},
   "outputs": [
    {
     "data": {
      "text/html": [
       "<strong id=\"consolidated_output_A_1_to_m\">consolidated_output_A_1_to_m:</strong> <a class=\"ProveItLink\" href=\"../__pv_it/common/457ea45905d5ca8698c3a57c2a0c0de1637110920/common_expr.ipynb\"><img src=\"data:image/png;base64,iVBORw0KGgoAAAANSUhEUgAAAgIAAABXBAMAAACEtzCSAAAAMFBMVEX///8QEBAiIiLu7u5ERES6\n",
       "urqYmJiIiIjMzMx2dnZUVFRmZmaqqqoyMjLc3NwAAABb1yYoAAAAAXRSTlMAQObYZgAAAAlwSFlz\n",
       "AAAOxAAADsQBlSsOGwAAB2tJREFUeNrtmmtsFFUUx//d6XZn2XZajRBSEijlgxGNrARsBBNqwEg0\n",
       "oWOMJpga+gGjiSEUoVSxwEBMUES6QiKUBFh8tAaL3ShqaEXLIzEkhpYIHzDGro+ElILlVSyPtt47\n",
       "r52dnenOlCm7dOYk7d69c/bcO78599wzMwe4J4V50aLihfgIrHOdBp0XbRi4OPoE1r5gUZH9LGzf\n",
       "esElg84uGwYs6q4aEuDvemDYGbLTDLvzr5oe01vNjdon0GFAIH/I+u/T6UaURgWZnG9YAHMOXzXs\n",
       "D5aYH9NZpap2pXVQaQUaGlZKrVCLup7ebthhNGtDXcNFFpMb/uNkoKChjr9KsWpOwOSY3uoICAS7\n",
       "+xUXJKdUxovNPXsFuXNTGEyNgbsa6RpKQCEQnH0DqDR2o+oRE9BbHQGBc4Hbcutdci2Zp8XrVr2+\n",
       "XT7TReTfLD7lV0a6xlKvEAhhKrDdaQJ6qyMgEMu/rrT2AHODYdFsh+yXoWAcTCx13ka6slue+rit\n",
       "EcirbQj7T9XtvtAyvVmZ6/IqxKwRmFv7LT6cdG5NtQUCyVbtE/C3szfk0ePBOBNjaOCqRL0cv9Zh\n",
       "D+biiRTXNtKVJWc8ZsZwJB7qRM4PvVU+ZXqVKCxBxBIB9lHkVmN6OyuHqFCnKQG91UCRXQIhcDeJ\n",
       "Qy8DxgE7ewC6m8TQGwXTsD9MvgW3xuihZNHrJu2uUeT3EQL+QfhKGKgEtiPU5+eR92Aiz1lmQsAX\n",
       "AduPpwDZPf+sMiUgW00E3tvpznhIFWkTXNXWeo3EuzfFgBqKiptX4Lm2lnLCJiTSbTWI4HrdJAIx\n",
       "MLfI6S0epDASBGLgrtF1M17VpKMSQ6WlU+8vLY1qCNSTyHIDC4D/xK/nz5jHCMVqYkf93Wa6Sehf\n",
       "IZ9HqTegeyc1iTJQ1yrkuX46QINAD+k9J1lXRwDXwLT+Mig2VQIEVwXxG06Tfhw18YEOnppQCbAH\n",
       "w6YEZKsJ2c3bXQSgwVQiwEUCPD0rOu8i5IVFAt2oMSKg0/1u05rAUkHjA0d4sogLIpRAUA44wJJD\n",
       "JESWn4ukI0B94FaCgJToGRJQrL7xem109UIlfbQjL8lZLZkL2/4+UENM0vxETJVJXN3CRhDgU3Zx\n",
       "ve7jz1flRANRNQ70kxPwD26lBApkAtRVfX0khKw7NjkdgZwY/H0aAuZ7gWyVeXUCirGGdmgjoYV7\n",
       "BI7qV8SludTQZX2CxB1KnUbhjWEEFpPPOnrR5pF4zAzIDb3u32tRKISka1swGTMjhECg/yRdAcFO\n",
       "icBM8pdHuObUQTAlEJSCPzuRus/pZALyscRENFa5sk7045BuN1S1hokCFQNhHB86K80ll2Y5n2LW\n",
       "0K/IrxiIgJtPOmlGNIeyFNfzw0pDr9uEDfBJmVFBY+3nwOa6ldtqWopJ134xm5gzhUYoEjN72wSw\n",
       "C4gsSiUwbt9Ao9joafgcmy9/cfxyVCWgHlMnorU6rpotwiP6fKDUxo2iOJfXBHa1pq8H/xLAb2FT\n",
       "lcEPdLoTsQq9rBoJh5Gl/pK4qQ+YZe5p05wcIVDOXRJ0qvl2CTA/12l+wi187xvy8WTtMUP3Sda9\n",
       "RLxgacgKgSa2JCUS+qvulEAv8YK88phONWgdQHfXjlSsSspgJbOM4g+cl24WfcPfoS9CozDMqMZ3\n",
       "V2kTvZdREOeawnL6qEhZRh5o+VuK407bTJ/oqfKY1p2qMWakp9mqMzfDE0888cQTTzzxxBNPPPFk\n",
       "bIpXQeGaCgqu7bRg1O+eCop/EOwz6ndPBcVXwH1mBNxRQTElDEOc7qmg+ARoEewRGGsVFMAM8b97\n",
       "KyjAiu/JXFxBIb9scHEFBQ5KsaPdtRUUeRIHF1dQnAAXh5srKOhg9HKPXgUFk5KwZVcFxV9tbV+L\n",
       "JBysoEie9zzdbWC2VVDMGBqSTs3BCorkefumma0G11RQHBuWgBsqKCImBlxTQcHchZKC7K6gCNyr\n",
       "zwm9CgpPPPHEE0888cQTTzzxxB0y2+JDXu6k47ee2VFBEThjtfZh83yHCWRJBUUHPbDR8EV9RT/w\n",
       "yuXEeT/rMIEsqaDYBjBfdhkezr1J/k1LUnVUsqCCQj2t9YYEKunz/MioEciGCoo0BLYviYgvh0aJ\n",
       "QDZUUKQhEPMVQft21GECmaqgYL5/h2dP/VjbZIFA3vWkV5fOEshYBcXGOJ6Brxn1chQ5bEqALIAr\n",
       "SQFkhaMEMlZB8RBZIEJuEQolD+ImmBIgrvYTry0q7W2/kzPOlgoKlkSfwkhuOQrFh/rcAd6UAFkA\n",
       "veXahcgcaHfOBTJWQUHcBIXlKgF8MN/cB+jrae2ruOAZRxdBhiooRB+IJQhIiZ4hAbKD+m9FNGN0\n",
       "hB0kkLkKikkECK8hYL4X0AUwg9eM8ZGTd0WZq6DYIOAsCnQE9kobQ2Ic+oUusuXQjOHgbpipCgoR\n",
       "/qFdPNtSvKWiOEFg/5TfpJ1BHYeMsm+AGMklLXUMp+8LRMlMBQVspTnqGKNH4K5XUNgikBhjNAhk\n",
       "poIiSVZYH+Nwdj/sGmkFhfVEj5kwNh8Tcq0WEXC77igj/B8n9ARS/l2OSgAAAABJRU5ErkJggg==\n",
       "\" style=\"display:inline;vertical-align:middle;\" /></a><br>"
      ],
      "text/plain": [
       "consolidated_output_A_1_to_m: [MULTI_QUBIT_ELEM]{element:[OUTPUT]{state:(A_{1} otimes  A_{2} otimes  ... otimes  A_{m}), part:(N_{k - 1} + 1)}, targets:{1 .. N_{m}}},  \\\\ [MULTI_QUBIT_ELEM]{element:[OUTPUT]{state:(A_{1} otimes  A_{2} otimes  ... otimes  A_{m}), part:(N_{k - 1} + 2)}, targets:{1 .. N_{m}}}, ...,  \\\\ [MULTI_QUBIT_ELEM]{element:[OUTPUT]{state:(A_{1} otimes  A_{2} otimes  ... otimes  A_{m}), part:N_{k}}, targets:{1 .. N_{m}}}"
      ]
     },
     "execution_count": 42,
     "metadata": {},
     "output_type": "execute_result"
    }
   ],
   "source": [
    "consolidated_output_A_1_to_m = ExprRange(\n",
    "    i, MultiQubitElem(Output(TensorProd(A_1_to_m), part=i),\n",
    "                      targets=Interval(one, N_m)), kth_start, kth_end).with_wrapping_at(2, 6)"
   ]
  },
  {
   "cell_type": "code",
   "execution_count": 43,
   "metadata": {},
   "outputs": [
    {
     "data": {
      "text/html": [
       "<strong id=\"circuit_Ui_outAm\">circuit_Ui_outAm:</strong> <a class=\"ProveItLink\" href=\"../__pv_it/common/79430742dcb5ffb765a59dc51f1580fc6f2134030/common_expr.ipynb\"><img src=\"data:image/png;base64,iVBORw0KGgoAAAANSUhEUgAAAlwAAAKqBAMAAAAd+Z2HAAAAMFBMVEX///8iIiLc3Nx2dnZmZmbM\n",
       "zMy6urpUVFSYmJhERESqqqoQEBAyMjKIiIju7u4AAACSi8d0AAAAAXRSTlMAQObYZgAAAAlwSFlz\n",
       "AAAOxAAADsQBlSsOGwAAGCdJREFUeNrt3XtsXNWdB/Df3HnYHtt3PBDJ6kYLszirikfqCfkjlQjJ\n",
       "QCy8rQI7aYOi8pCnqrZEWbqZdkuSDQn2H+2iVm2xVqAsQokH+sduipANDZgKVbGaNgiiYqNGzQZi\n",
       "MlkQAXUjnEnsvEy85z5n7sx9nDuZMWem3yN5PB7fc2bux+ece+54fvdH1Jzl40yNGpJecPhFbMGj\n",
       "+Nh0hntTt1c6UfVOdh7O1wp+0z4HLq+KMzb3PDf1aNXt1x0z3juzwZ5lVHn4+EKaIpO/cYUL32D3\n",
       "qKXmngbhGnV5mqR6K/9w0h5jhXo7kiUKuGqdXn/V9vHSmisahKu/4DxOU/qdky5ckf2sgaB9A5uN\n",
       "UWvLZanZIFzBnlnnuYmHK/jxOaIt9g285MplqdkgXMs7Lzv+boCHK0RLidZUw2Wp2SBcqejF4ug4\n",
       "8tW+HUSt0yvzkSPvrb5lsHunleuj6XvooQPLj01ZuJ4aolR1XCU1G4MrkgufK/7U/hqdStGLidAE\n",
       "tX+9dyhQ1rvC11HbFHXnwvp0t1652UKxLv2Y4JPLUvP9huAKkXSBHft+pi8qshSdY1yRAgW6ZCrn\n",
       "CiQpPEvPEWkdUnpduV1DoblIxmyClU8m+LgsNXtzjcB1vK//EtHD7+pcKZLPM73vFBS5Cq4Btkvn\n",
       "6Fmiz1WtXeqaPkXSpWDebIL1weku9ftd8fgb8Xi3M5elpryrxItvgV226Qz/ph6txpxW+jKbhc6y\n",
       "78+bXHSJ5P5fFdS75VyjGeXXBhdt3KevzUaWFZtgJdrF17ssNYOHG6B3hdjXUgsX610vZtjk1JFU\n",
       "uIIVvet8kUtdiUfYY1vXVcNlrTmabwAuZR05WcLF5q5ZJhIpfEPh6ijjak9RZK6ESzmasdFEgblq\n",
       "uKw172iAqV4aU05FEkWuV+hUknF1zr6gDMTghM61NqHNSq8qne4tC9cp9tU648EV1A+ln7GDgDyv\n",
       "P2it2QALCXlkPk/7Fw4VuXZMbyPa9N4HK/48OM7GynZtEbn94JtD6p1lK7fRpiuP7b+SNbhOH3yb\n",
       "3RnWdvpbz7KSqORqeXx+h3ZoVSbDJfqJZGnNxjlnVEvJVO+jrLBpwrZ3cTw5uIqn2E3G1TN5pzZY\n",
       "sr643rdpgk2Iq89N+WlFq7m+kXqXfmgfHE/42VGHlXg1RX698bj8Fqm/Vl7Sqlzzcy1CARe4wAUu\n",
       "cIGr8bhi4AIXuMAFLnCBC1zgAhe4wAUucIELXOASm4vABS5wgQtc4AKXWhYhnlE0LsQz+npSjnjG\n",
       "ZeufsX0c8YzWokWgSMO01nbUIZ7ROk5T6reWBLWPOXIhntGcmzSu9qvUUnDkQjyjUfR4xpYuapl1\n",
       "5EI8Y0U8IwW0p0I8I1c8Iw2oQIhn5ItnpG6tjy1WPKOoAXqc8YyhYa2P5RYpnlHU3sUZz/ikvkTL\n",
       "IJ6RI54xmqSbjN6FeEbyimf8JtEH6pEA8Ywc8YzSkr4+VQDxjDzxjAF2XNAOdohn1AriGUXgQjxj\n",
       "aUE8Y8LPjiKe0VdBPKNoBVzgAhe4wAUufHoQXOACF7jABS5wgQtc4AIXuMAFLnCBC1wNVMAFLnCB\n",
       "C1zgAhe4wAUucIELXOACF7jABS5wgQtcf6VcStgduLhLMcK9VkXE0PWalBkMRsxd4AIXuMAFLqy7\n",
       "xFp3YTCCC1zgAhe4wAUucGGZimUqBiO4wAUucIFrcXcJXOACF7jABS5wgQtc4AIXuMAFLnCBC1x4\n",
       "vwtc4AIXuMAFLkG46px4XTCu265xJ+udeF0wrslr3Md6J14XiyvqEqqW5OGqd+J1wbJ/DiYc55IU\n",
       "N5dL4vXIkDFqq0u8LhbX7WvTjrMSP5dL4vXolCuXZ+J1sbJ/Tp3MOdUZ4OdySbzuweWZeF0orhCN\n",
       "DpnjwiHl+vee6DleTCAo33s0Ez5y9/RuK5dj4nVPLo/E60JxbaGB4oTukHI9uWdKLpgbbUjQXgrs\n",
       "pAF9zvNKvO7B5Zl4XSiuFPVmzSzp9inXI5kvkTRrJlW/no3SdNsYxbRe6Zl43YPLIfG6cKHr2i48\n",
       "3Tc4bGZJt0+5LstzFL1qJFUPX2aNJduGKaYyeCReD8XjS1+Ox7POXJ6J10XqXWdIGQtGLliHlOvR\n",
       "GWqZMFLHsu5HsWGTyzvxukfv8ky8LhKXgjJWymWXcp1ZxYbyOoXau1JFLs/E6+5c3onXBeJSlpAd\n",
       "M0Uu+5Tr7Um2H0mD4gDbv0wJl1fidXcu78TrAnHdyr7aCkUu25Tr1JumE61pg+LBNB2iDiuXW+J1\n",
       "k0tPvK7mXPeReF0crk8X3qHoyHzS5LJNuU7fZid8PzUppHWrMuHB8QdGxk0u18TrBpeZeH2JecOV\n",
       "eF3A97tKpnrn8rzbKXbFNpW9y72Aq+wUu2m4jCzprinXi0nVraXeideFffPZb8p1rdQ78XqTvVdf\n",
       "78Tr+E+QrwIucIELXOACFz49CC5wgQtc4AIXuMAFLnCBC1zgAhe4wAWuBirgAhe4wAUucDUSV52D\n",
       "GUXkkiaq3sl6BzOKyNXBkdVtgz1LvYMZReQadXkaLfxE/uGkPUa9gxlF5OovOI/TlH7npAuXSzAj\n",
       "bTZGbXXBjAJyBXtmnecmHi6XYEZ6yZXLM5hRQK7lnZcdfzfAw+USzOjB5RnMKCBXKnqxODocQhpN\n",
       "ro+m76GHDiw/NmXhcgxm9OTyCGYUjyuSC58r/uQQ0mhwha+jtinqzoX16c4rmNGDyzOYUTyuEEkX\n",
       "iD5c9YS2qLANaTS5AkkKz9JzRFqHtAQzGk1QSTCjB5elpuUj1CKm4tXWPn39l5TQs7s0LtuQRpNr\n",
       "gO3SOXqW6HNVyxLMaDRhBjPSXfH4G/F4tzOXpaZdMKNwvUtms9BZojklUIocQxoNrtGM8muDyxrM\n",
       "aDRBJSEbHr3LUtMumFE4rhD7YoenXxS57EIaS3vX+SKXJZjxF765rDVH8w3ApawjJ4sHJoeQRoOr\n",
       "PUWRuRIuSzBj8djGyWWteUcDTPXSmHIqkjBP6hxCGmltQpuVXlU63VsWLjMksXheWMmlBzOq+aoq\n",
       "gxnVmg2wkJBH5vO0f+EQ0c1a93EIadx+8M0h9c6yldto05XH9l/JGlzFkETWRHkwo8FlBjOqk2FF\n",
       "MKP65I1yzqidHEoJY6r3UVbYNGHbuzievJG4br5/Y/4auYwmLFybeVrRajYS10F9FeYa0lhZ3rdp\n",
       "wn8wo1ZzfQNxGYd2nyGN9Q5mpOZ6r77ewYyE/wT5LOACF7jABS5w4dOD4AIXuMAFLnCBC1zgAhe4\n",
       "wAUucIELXOBqoAIucIELXOACF+IZheZCPKOvJ+WIZ1y2/hnbxxHPaC1aBIo0TGttRx3iGa3jNKV+\n",
       "a0lQ+5gjF+IZzblJ42q/Si0FRy7EMxpFj2ds6aKWWUcuxDNWxDNSQHsqxDNyxTPSgAqEeEa+eEbq\n",
       "1voY4hm54hlDw1ofyyGekSee8Ul9iZZBPCNHPGM0STcZvQvxjMUDk0M84zeJPlCPBIhn5IhnlJb0\n",
       "9akCiGfkiWcMsOOCdrBDPKN+coh4Rh9PinhGX0+KeEZ/T6of2hHP6IfLb0E8o2gFXOACF7jAJQQX\n",
       "Pg4HLnCBC1zgAhe4wAUucIELXOACF7jAJTgXgQtc4AIXuMAFLnCBC1zgAhe4wAUucIELXOCqiusM\n",
       "P9cZbi55qlm5TvBzneDm6pxoUi75YI6Xy23Tslb/cnkxuT6bWDSuT588zMvltqm1Vfk/tbjfReIq\n",
       "hmzXm+vMHzaefoyPy3VTS6vyifvv255u5MHoFGT+37RRiUW133SGf1NLq9GhcCpsuVSBbeh6TcrM\n",
       "4s5dzIB7qt/IPdWHU816ZAQXuMAFLnB9IVyLuExtBq7FW6ZiMIILXOBqTK4efq4ebi4p2axcxM9F\n",
       "3Fy+nxRczbnuagKuxVx3YTCCC1zgajAu6ftnd1LLwT/Wlsuu1eboXUHlMph/qnXvsmm1ObjUvA33\n",
       "1ZrLptXmCKGKKZfBzNaay6bV5uDaOkUkJ2vNZdNqc3CtTRO1ZmrNZdNqc3AtJe0i1bXl0luVE03G\n",
       "JV9gNy2ll8OvBZfRanCqybjULBfLzcvhu3GpJ/2WC0w7cumtNt9gDCrpUW4vveivI5d60l96gWln\n",
       "LqPV5uOa0Y74HFw+BqPeauRYs3FFr6oZnmrMpbd6JpZvtiPj70lSPuBWWy691a8833QLieCee6n2\n",
       "XHqre5uOyxg+teXS1xNX0+Di54pOpJqTq+xy+LXqXbsTTdq7anwStMg7RF/snwJc4AIXuMAFLrG4\n",
       "6px4XTCu265xJ+udeF2wj8NNXuM+1jvxulgftoy6ZFlN8nDVO/G6WFyhwYTjXJLi5nJJvB4ZMkZt\n",
       "dYnXxeK6fW3acVbi53JJvB6dcuXyTLwuFJc0dTLnBDHAz+WSeN2DyzPxulBcIRodMseFQ8r17z3R\n",
       "c7z4jol879FM+Mjd07utXI6J1z25PBKvC8W1hQaKE7pDyvXknim5YG60IUF7KbCTBvQ5zyvxugeX\n",
       "Z+J1obhS1JsleeV29dBkn3I9kvkSSbNmUvXr2ShNt41RTOuVnonXPbgcEq8750evMHAOC3fZdMGD\n",
       "yz7leufTfYPDbECE1Ldz7VOuy/Kc8s8lPal6+DJrLNk2TDGVwSPxeigeX/pyPJ515vJMvC5S7zpD\n",
       "yliIZaRZncsu5Xp0hlomjKTqrPtRbNjk8k687tG7PBOvi8SloIxRa97ksku5zqxiQ3k9qbrau1JF\n",
       "Ls/E6+5c3onXBeJSlpDqRw2DXcbcZZNyvT3J9iNpHLcOsP3LlHB5JV535/JOvG595TbX0nDict3U\n",
       "0qrNZTdsuW5lX23KQW+DNtXbplxX/u4nWtPGOd+DaTpEHVYut8TrJpeeeF39SIyPxOvWV/7h4Y0t\n",
       "nBd1cd3UelGX1f+U4rioy6cL71B0ZD5JkvZWgH3Kdfo2O+H7qZmXXVq3KhMeHH9gZNzkck28bnCZ\n",
       "ideXmDdcidfLXvn/Hd3GOxjdNi27ZNAf+zM+3jVaRjcZU73zu1HFpOo2p9gV21T2Lvf3uhwTr4t3\n",
       "QSrpmfvv8+QqSaruyGWXeN08xXYtzonXy1/5u/xT/bvcU31nlw+udn2F55py/eCC/Vs99U68Xv7K\n",
       "l/NzLed/e7CKi+n5TbmulXonXm+y9+rrnXgd/wnyVcAFLnCBC1xCcOHjcOACF7jABS5wgQtc4AIX\n",
       "uMAFLnCBC1yCcxG4wAUucIELXOACF7jABS5wgQtc4AIXuMAFLnCBC1y1Lkir5KsgrRIGI7jABS5w\n",
       "gQtc4MIyFctUDEZwgQtc4AIXuLDuwroLXBiM4AIXuMAFLnB98cX5ms8um87UrNXKaz7XoMygd2Ew\n",
       "ggtc4AIXuMAFLnCBC1zgAhe4alrwnyBfBf8JwmAEF7jABS5wgQvrLqy7MBjBBS5wgQtc4AIXlqlY\n",
       "poILgxFc4AIXuMAFLnCBC1zgAhe4wAWuReNC0i5wgQtc4AIXuMAFLnCBC1zgAhe4wAUuwbkIXOAC\n",
       "F7jABS5wsSJ/t7btSS8IznXbNe3eiX+psf+mfWJzTXLtRfgG24ejV9lN58gs0aNX9lXVRkXlPUJz\n",
       "Rd2v8BjUvp1ef9X+113KbdsFdnOD1yt1aKO88gqhuUKDCbday4xO4Ma1ZYS1kXRqIjLk2kZ5ZbG5\n",
       "bl+bdqt1lIdrzdYkRXJOTUSnXNsoryw0lzR1Muc23Zzn4UoFxiiYr5KrvLLQXCEaHSr9+dFf/6if\n",
       "PfDzP62hR3/7y9/919ntOcuufjR9Dz10YPmxKQtX60XWULVcZZWF5tpCA9ZJ542MvISir9B6ogMv\n",
       "XKQl1l0NX0dtU9SdCxd07QllcsrRWeOY4JurovL7InOlqDdreeBNotEM49qaoDjly7kCSQrP0nNE\n",
       "F7WHb1W6JhtK/5ipWK5+MsHFVVG5V58cBLvms7YHT/cNDls2+z3RZymij9cmFLlyrgG2L+foWaLP\n",
       "1R+/fFgb0NQ7vKZ81ptWx2koHl/6cjyedeSqqCzvygnbu86wx7vKuWLD9NHO0YRyt5xrNEN0qcgV\n",
       "/lpeW5u1FVIVY7CLr3eVVw4eFncwstfJDkyt//Dwsc6fpIu9K/oaDSTokMqVLO9d54tc1JZV5z+K\n",
       "nE9aWuHnqqg8mheWS1lBdszQJ/881J7tzJpzVzqWoq1/nzik6lm42lMUmSvhUo+MylC6MWNphZ+r\n",
       "ovId4k71tyodpEBfOUGxdEhzOZKQryfGdfKBhDIQV+tcQe1QGH6VOpL0loVLVlyeIksrtlx6G/I8\n",
       "FaNrKyuLu5D4dOEdio7MJ2k3PUgBbYZ98+fHMhTe/dKHf/vIlZ1ELf+qjo2Wx+d3aCdFK7fRpiuP\n",
       "7b+SNbjkx+dZzTb2g97Kt55lJVHJZbah/Bn06NqKyqKfBKnlVTpOvWFj7vJRgl32rdj2LtdiVhaf\n",
       "S5phf9yfhK6Rq7SVUq7IEM/bgmZl8bkiWfodffkD9X63L67OMftW2P6vPjflo6Fi5fXiD8ZieeTK\n",
       "D/xwSZdr/GYqya83EpffsmxnbduTVuWamWsxCrjABS5wgQtc+PQguMAFLnCBC1zgAhe4wAUucIEL\n",
       "XOACF7gaqIALXOACF7i+UC4E6PkqCNCz/aP3vWUbOoQAPWvR4ylupuCc7a8RoGcpeoDeD4jecOZC\n",
       "gJ5R9AC9g3myZUWAnnW60QP0vk80mHbkQoBeeYAe0Y3qLQL0uAL0KKwGHiBAjy9AjwLqZj4C9Di5\n",
       "HAP0ROTiDtCjr6m3/AF6ejxj9QF6IsYzcgfotWp9kD9AT49npCYM0KvoXZUBer8kKUHuAXrlY9BX\n",
       "gF6xiB+gVxqJaB+gF05Sp7IbbgF61cUzVlQWP0CvNBLRPkDv7/r67lLZXAL0POMZ3QL0ipXFD9Ar\n",
       "jUS0D9C7cWFhXjspcg7Q84pndA3Qa4R4RrOUxDNeQ4CeRzyje0E8Y/kptmtp0HjG6gP0nOIZ+d5F\n",
       "NSuLH6BXEol4DQF6tYlnRICeL38E6F1rARe4wAUucIELH4cDF7jABS5wgQtc4AIXuMAFLnCBC1zg\n",
       "AlcDFXCBC1zgAhe4wAUucIELXOACF7jABS5wgQtc4ALXXymXEXAHLq6iB9yB64sqgoWu167MYO7C\n",
       "VA8ucIELXODCMhXLVAxGcIELXOACF7iw7sK6C4MRXOACF7jABa4m5kIIFbjABS5wgQtc4AIXuMAF\n",
       "LnCBC1zgApfgXAQucIELXOBqaq6PM7Vt75aEkFzSRE32rvNwvrZc4X/Li8jVUZtoHjWj4vGFNEUm\n",
       "f+MFZ5t5vaJyW1ZErlH31pOcXFpWshG2iwEvLYfM6+WVLanThOHqL7hVkFJ+uCL7C+SSvnizMXBt\n",
       "ucorC8kV7Jl1nZJ8cQU/PqdmPnUoL7lylVcWkmt552W3CgO+uEK0VMt8Wg1XeWUhuVLRi5YRceSr\n",
       "fTuIWqdX5iNH3lt9y2C3mu4tcux/79xrqSffezQTPnL39G4r11NDlKqay1pZRK5ILnzO8kD7a3Qq\n",
       "RS8mQhPU/vXeIf3zk8G23fSZZSG0IUF7KbBTSW6sFjWj4hYlY3SySq7yyp1j4nGFSLpgXVdkKTrH\n",
       "uCIFCnTJxsdNvxsYpt506XbXs4Gabhuj2JB2SFAzKq6h0FykfLkq/4yPq7yydFk8ruN9/ZesXCmS\n",
       "z7N9/E5BkTO48p9lrLmqw2xfYsm2YYqp+SqlXep+pki6FCxfRzz8rvrtrnj8jXi825mrovLptwUK\n",
       "XVcbldnOni3noksk9/+qoN41Psw8SrSrdDPWAyk2bHLRxn36Im1kWcWTPs/Xuyoqr86I1ruUPK7s\n",
       "ePSjH09n/+eZkt71YiZcUJJfMy5tJcSsLsolOcLV3pUqctEedSIk2rrO0hw/V0Xl6FXhBqOycJwk\n",
       "+d9fp3E6Zs5ds3SeIoVvKFwdOtev2asPluYIP8B2LlPCpRwZlaEUmLM0x89VUTko3FQvKa9oJCGd\n",
       "maBZWqdxvUKnkoyrc/YFZSAGJ1QuaZY6J35cmiP8wTQdog4r1yn21TpDpc3ZcumZ19UoD3lef7Ci\n",
       "snALCXlkPk/7Fw5Ry1R4jP5G49oxvY1o03sfrPjz4DgbH9vVhWOki+QdudJM49K6VZnw4PgDI+Mm\n",
       "1+mDb7M7w2Q0F1ZSif9HJZeZeV2dGJfo83pZZVHPGdXFVrpzWJpJG1O9Y7HmCLc5xa5ozrZ3uRaz\n",
       "srhcvexv2jqc8uIqyxHuyFXSnIVrMw+XWVlcrkeoIyHtVtc8gaxzbWuOcGt53745Vnom7/TzxplZ\n",
       "OTQhKleJyOB4oqq3B3tzVOPylyGHFaPXNYt8XN7Iq1WqV5H6a+zVw87t/x8TISNKLtluXwAAAABJ\n",
       "RU5ErkJggg==\n",
       "\" style=\"display:inline;vertical-align:middle;\" /></a><br>"
      ],
      "text/plain": [
       "circuit_Ui_outAm: QCIRCUIT(U_{1}, ..., U_{i}, ([MULTI_QUBIT_ELEM]{element:[OUTPUT]{state:A_{1}, part:1}, targets:{N_{1 - 1} + 1 .. N_{1}}}, [MULTI_QUBIT_ELEM]{element:[OUTPUT]{state:A_{1}, part:2}, targets:{N_{1 - 1} + 1 .. N_{1}}}, ..., [MULTI_QUBIT_ELEM]{element:[OUTPUT]{state:A_{1}, part:n_{1}}, targets:{N_{1 - 1} + 1 .. N_{1}}}, [MULTI_QUBIT_ELEM]{element:[OUTPUT]{state:A_{2}, part:1}, targets:{N_{2 - 1} + 1 .. N_{2}}}, [MULTI_QUBIT_ELEM]{element:[OUTPUT]{state:A_{2}, part:2}, targets:{N_{2 - 1} + 1 .. N_{2}}}, ..., [MULTI_QUBIT_ELEM]{element:[OUTPUT]{state:A_{2}, part:n_{2}}, targets:{N_{2 - 1} + 1 .. N_{2}}}, ......, [MULTI_QUBIT_ELEM]{element:[OUTPUT]{state:A_{m}, part:1}, targets:{N_{m - 1} + 1 .. N_{m}}}, [MULTI_QUBIT_ELEM]{element:[OUTPUT]{state:A_{m}, part:2}, targets:{N_{m - 1} + 1 .. N_{m}}}, ..., [MULTI_QUBIT_ELEM]{element:[OUTPUT]{state:A_{m}, part:n_{m}}, targets:{N_{m - 1} + 1 .. N_{m}}}))"
      ]
     },
     "execution_count": 43,
     "metadata": {},
     "output_type": "execute_result"
    }
   ],
   "source": [
    "circuit_Ui_outAm = Qcircuit(\n",
    "    VertExprArray(U_1_to_i.with_front_expansion(1), \n",
    "                  [ExprRange(k, output_Ak_nk, one, m)]))"
   ]
  },
  {
   "cell_type": "code",
   "execution_count": 44,
   "metadata": {},
   "outputs": [
    {
     "data": {
      "text/html": [
       "<strong id=\"circuit_inAm_Vj\">circuit_inAm_Vj:</strong> <a class=\"ProveItLink\" href=\"../__pv_it/common/a0bf363d5b7b924f983f426f381643728fbd19940/common_expr.ipynb\"><img src=\"data:image/png;base64,iVBORw0KGgoAAAANSUhEUgAAAloAAAKqBAMAAAAQ5+3AAAAAMFBMVEX///8QEBAiIiLu7u5ERES6\n",
       "urqYmJiIiIjMzMx2dnZUVFRmZmaqqqoyMjLc3NwAAABb1yYoAAAAAXRSTlMAQObYZgAAAAlwSFlz\n",
       "AAAOxAAADsQBlSsOGwAAF3ZJREFUeNrt3Q9sFNedB/Cfd7zeXe8yNlVCU5Bi40SqAlXZRCEIRydc\n",
       "Ed1FRKr3UiW5Q0ZYup5yalLhJNyhQhGb6KSkkJYNlq4KJ4JpEkiJiVdJehV2ubgRuijVHTZKuDso\n",
       "ipdeJOo4qc0fUztg+978292ZnZl9sx47b8z3SSz7Z97D7+P33rxZ9rc/Ir+K9IhfLX2eo2CULyqv\n",
       "uvN7fv0Q0deSTi/VzbiXwpEzM9yH8jdqKUMcfbnD9unEFXYTaZ0g2nRpvWsDz9lZmGpWdznVHXP/\n",
       "2eq4jyw+gL9RS5edHSmm/dV84or9y41qP79kN3e4Ttg3h2xHTnFNrS3hteI9zkvGiDEK3LTaWlkD\n",
       "GdsDHjXu7LLVKq4ZEK1XDqYdK+3g0ercnKFwv+0BH7hrFdcMhpbcsavfcbm6zqOVDdVTLFmJVnHN\n",
       "YGjFaaA9/2DTN57oZY8e/1Enbfr6h5/87vLRfpPW/dt+RT9ddnF7h0mr5hprpSKtoprB0GqjvUVr\n",
       "zuKUtJISt9MJomWnrtFK89iKfpuqO2hFf3Ralx5kN2wqXTZOB960TDUj9UHQytIoO3ffN6g9Okc0\n",
       "kGJam3PUREmrVihD0Qn6DtE17ekLyqhkU+m91COFJtgp8Id8Wqaa8o0AaEUe6utpoeg2fR78nmhd\n",
       "lmj1wZwCZ9Xay+blJD1A9Gf14WdntKlMoy2dhSaInn9a/evtpqbFTU0rnLXMNZvPi6+1hr3CfthE\n",
       "Qauuhe7vHsgpd61aAymiqwWt6LtJbU9WPZ0tNMHK+5xjy1TzQMphi12uY9xHFm/2+Rs1T0RiJ6Zi\n",
       "rXXZxK20N0dnVa2MdWxdL2hp++82tgBdz1SiZaqZuCL+TAyzlWfRWKGryrqVrsvS5j/mzqp4Jq2q\n",
       "LIXHi7TU81gn+7MqVYmWqWYsAKv8BWWETBe6ejon3UVMa9eLOWUWHtC1YtpJMHobLcrQxyYtSam5\n",
       "hcpoHdSuF9YNGjdkrRmAHcS9Mx9RonUqUxhbj29PUfTIB2u/ufFSN1HtL9UxUXto6rB2JfTy67T7\n",
       "0hsnL3UZWtKhKTY9q7U+Rx9g5bs2WkcbzqmbulDWuCFzzcBc+WiX1oV1y0Mx9dB1bJX/x6FVuKpe\n",
       "UFrygUntYmaFJ63i/Xe+CaLhoZ97aUWrGR8MztjSy8ZLb3nq5w3/3sG9uz1wWl7LSLdfLQ1304LX\n",
       "mpcCLWhBC1rQglZwtMagBS1oQQta0IIWtKAFLWhBC1rQgha0oCWYFkELWtCCFrSgdbNrzUt8olha\n",
       "oscniqVVPj5R7vs4bfc84hNNRQ8r+ZRi47YvN6r9RHyiVvT4xLeIFjtrIT5RL3p8YkOSbEkRn2ha\n",
       "evX4xF8Q9aQdtRCfaIlPJFql3iI+kSc+kaJq9AXiE7niEymknt8Rn8gVn0jvqrdzH58oeMQdX3xi\n",
       "jbZ1nPv4RMHHFl984ock5wjxiXzxidEMRZTuIj6RJz7xD319b6tqiE/kiE9cNTMzpV0JIT6RCPGJ\n",
       "QmghPrF4s4b4RC/9RHyil4L4ROEKtKAFLWhBC1rB0cJnA6EFLWhBC1rQgha0oAUtaEELWtCCFrRE\n",
       "0yJoQQta0IIWtKAFLWhBC1rQgha0oAUtaEELWtCCFrRmU6QpaHkoK6HltczMVREoCh3rFlZ5aEEL\n",
       "WtDCfgv7LcxEaEELWtCCFrSghd0pdqeYidCCFrSgBa0FrIU4H2hBC1rQgha0oAUtaEELWtCCFrSg\n",
       "BS3RtAha0IIWtKAFLWj5lw5dPiW+ljw4y076lw5993rhtRbNcmc5y3ToW2fSFB66RXtpg/BaA87V\n",
       "Yjxas02H3tpFFNJf2Se8Vu+0Y40Rfq2K06GHT04Xfi3Ca8WGJxxr7ODXqjgdemz1pJrRNBhaFyOO\n",
       "ideMROg8WhWnQ4/Tci2jaSC0solr+fsOidAfe3V4a0ehhr/p0OO0pZ2yAdEK90cnC4/sE6FnNnRI\n",
       "hcXN53TobUr+Z2PBe0pwrTjJXxZyl9smQg+n7iR5In+Mz+nQOyk+Hk7ph4/2i621ta/3aj53uX0i\n",
       "dEkaVzZVxjE+p0PPknyVWWuHS8cUrjpRo9AltvhcpnyeVvtE6Ikxqh3MH+NzOnQ2CVtHjMNjZ4Qe\n",
       "W8rCvNykZZMInVHVtSeNY/xNh67sOjYfNw4fSAqtpewchwpds0+EXpVh3cgYx/ibDl3ZdYTGjcNf\n",
       "EnqVl5WUwMouXO+afSL00TTtrEkbx/iSDj0fvHEP+1MzZhwu9A5Cap1K0smZs4WxZZsI/WGi5icL\n",
       "3fclHbq+JDY3nGe3LYHQIutAcE3t/b7bXt54Q8JtbFHZ1qHFmQ49QFpG7nK3ROhO+c39SYeuHX4i\n",
       "GGNLKx4ToetC/qVDl5YESauy4ls6dHl//8LXmvsCLWhBC1rQglZwtPDZQGhBC1rQgha0oAUtaEEL\n",
       "WtCCFrSgBS3RtAha0IIWtKAFrZtdy7fgRPo8FxCtLyrvo3/BidHXksHQGuLoi3003SyDE0011Q9H\n",
       "i6+VcMnipkejNJ+4Yv9yo9rPioMTi2uaPmQorla8x3nJMEIUI25aFQcnmmoGROuVg2nHSjt4tCoO\n",
       "TjTVDIaW3LGr33G5us6jVXFwoqlmMLTiNNCef+AQopjX8jc40VQzGFpttLdozbEPUTS0fA5ONNUs\n",
       "/nC0uFpZGu0i6eWjWndsQxTzWm7Bifkm+IMTTTWdPxwtkFbkob6eFjYd4tpEsA1RzGu5BSfmm+AP\n",
       "TjTXbFaiWOrEzpK7hpRY3bqUPGFo2YQoGlpuwYn5Jog7ONFc80BK/LHFBhI7MdUkC1o2IYrFY8sp\n",
       "ODHfBL+WqWbiivgzMdyufzmLfkqyD1E0tFyDE4vOapxappqxAKzyF5QRMl24kLMPUaSYdhJ0DU4s\n",
       "uhZ0DU7UbshaMwA7iHtnPqJE61SGZP2i2D5EsfbQ1GHtSsglOJE1wRecGNK+/8FUMzBXPvoF4Z+M\n",
       "dctDMfXQaII8ByeqNQOkJT/4wjuz1Mo3QV6DE7WaAdKqMjYgKzxpFe+/qwp7GI/BiVrN+GBwZqJe\n",
       "PIYo+hicSHe3B07La/EtOJGGu2nBa81LgRa0oAUtaEErOFr4bCC0oAUtaEELWtCCFrSgBS1oQQta\n",
       "0IKWaFoELWhBC1rQgtbNroX4RC8F8Yk2Re77OG33POITTUUPK/mUYuO2Lzeq/UR8olb0+MS3iBY7\n",
       "ayE+US96fGJDkmxJEZ9oWnr1+MRfEPWkHbUQn2iJTyRapd4iPpEnPpGiavQF4hO54hMppJ7fEZ/I\n",
       "FZ9I76q3iE/kik+s0baOiE/kik/8kOQcIT6RLz4xmqGI0l3EJ/LEJ/6hr+9tVQ3xiRzxiatmZrT8\n",
       "kIhP1C8IEZ/IrYX4RC9aiE/0NBP1gvhEL1peC+IThSvQgha0oAUtwqfdoAUtaEELWtCCFrSgBS1o\n",
       "QQta0IIWtKA1bwVa0IIWtKAFLWhBC1rQgha0oAUtaEELWtCC1k2qJXVwa63h1nJpNNhakUFurZ3c\n",
       "Wi6N+l2kqfnUuvsGr5bU0M+r5dKo72XlPGpJf3ksxal17w/OcGq5NRrkmSjtfOGdo2kurTX/u6f5\n",
       "DS4t10bnpszMVTF1LNEezUZNXwPjGIX+H7SHfuL0M/I3GuxVPprlXuX3cK/yLo1CC1rQgtbNrjW/\n",
       "u9PAj62V0MJMhBa0oAUtf7TkDLfWMLeWS6PB1rKWoL3TPL/7raBrze9+K/BamInQgha0oOWgFRm6\n",
       "2k/RVSt91SrTaIDHlvp9lht9Hlvujc73XPGx9Srlu/e6fNZybzTAWso32UbSPmu5Nxpgrdrpkqu/\n",
       "2Wu5NxpgLSWbSZffWu6NBlir5hrVpPzW0huNLjit8KQyZ+4b9FVLa5RC6YWmJV1lcya6rbGslrIr\n",
       "UN8bMb1BMubc6EKciXRZmTOJ8lrqV2evtL5BMubS6ELUWrWWuLQ8Xfmoja75zcLTam2ZAy210ex/\n",
       "LTyt91JzoKU0KiX/deFpPUFzoKU2Sv+98LRoLrS0Mg0tfq1o/cLUkg9MdvivFemaJy2a57Hl85WP\n",
       "/k5EO7S4tc48S9Di1vr1O9Dyck6EFrSCrOVbOnT5lPha8uAsO+lfOvTd64XXWjTLneUs06FvnUlT\n",
       "eOgW7aUNXFpf5afdBpy1Yjxas02H3sp20CH9lX1cWl/lJyl7px07OMKvVXE69PDJ6cKvRXit2PCE\n",
       "I8QOfq2K06HHVk+qGU2DoXUx4ph4zUiEzqNVcTr0OC3XMpoGQiubuJa/75AI/bFXh7cWXfL7mw49\n",
       "TlvaKRsQrXB/dLLwyD4RemZDh1RY3HxOh96m5H82FrynBNeKk8zOZmv3v6o+sk2EHk7dSfJE/hif\n",
       "06F3Unw8nNJbH+0XW2trX+9VJWe1mjHYPhG6JI0rmyrjGJ/ToWdJvsqstdalYwpXXZlc6CUdc05w\n",
       "XqJVSaOFTRBbfC4TjdNoWteySYSeGKPawfwxPqdDZ5OwdcT4CWJnhB5bysLMzkl/V9CySYTOqOra\n",
       "k8Yx/qZDV3Ydm48bP8FAUmgtZec4VDgb2SdCr8qwbmSMY/xNh67sOkLjxk/wktCrvKz8L4eyC49q\n",
       "Fy32idDZb31nTdo4xpd06PlPctzD/tQoP7jaOs8OwuaLLpy0bL49Y6yCRo1Vq3UqSSdn2DD6VOuk\n",
       "fSL0h4man8wf4086dH1JbG44z25bSG+dR0s68DdZzm9mWXtmTy3nN7O4NVoyxrJyTl+3yh5jv5fP\n",
       "X1lWmA5da51rdyr9Ty/vt/78xY7XOWeiW6PW8ukLe5LltIxj3LQqT4eutc63l/+qv1GqQd9UuCVC\n",
       "b3D4+ht/0qFrrZ/g0oo0cq/yT3Ov8i6NOhSPidD18eRfOnRpCd+7gfzfhHeR/93AefomPN/Socv7\n",
       "+4V/pzkABVrQgha0oEXIQwYtaEELWtCCFrSgBS1oQQta0IIWtKAFrXkr0IIWtKAFLWhBC1rQgha0\n",
       "oAUtaEELWtCCFrSgBa0Fr4XsR54Ksh9hJkILWtCCFrSgBS3sTrE7xUyEFrSgBS1oQQv7Ley3oIWZ\n",
       "CC1oQQta0IIWtPwtM3NQynWM+0iX72l2aRRjCzMRWtCCFrSgBS1oQQta0IIWtPB/PsKMLfyfD2Yi\n",
       "tKAFLWhBC1rYb2G/hZkILWhBC1rQgha0sDvF7hRamInQgha0oAUtaEELWtCCFrSgBS1ozVt/oAUt\n",
       "aEELWtCCFrSgBS1oQQta0IIWtKA171oELWhBC1rQgtZNrrU65Wtz8imxteTB2fQucibpr/7u9UJr\n",
       "LeLbVz5nrzKgPL11Jk3hoVvKuUXvsHvWWnmD0FoD7pUy6q305pC9xT71trWLKFQOq/nEFdvnLZX3\n",
       "Ca3VO+26jmT1O7tctMInWRsxxzYeNWatrZa1stBaseEJ13WJRyu2epKozbGND1y1rJWF1roYueFW\n",
       "ZS+PVpyWE3VWqGWtLLRWNnHNNC9O/0vfYaKabS8nw6d/fODznhXdJi3p1ztS0dP/vu2IWWtLO2Ur\n",
       "1jJXFlkr3B+dND1RdSvdk6Xf5uKDVPWb0faQZWw9l6O/olA37c1pT59QbtqorlE/HXjXslZ+SmCt\n",
       "OMlfmjcUXZQYZ1rhaQo1SmTVuotNznR1PdW1ayeBJcptJ8XHw9ZdqvRDPi1r5dF+cbW29vVeNWtl\n",
       "SbrO+vq30wqcVSvKFrm6THUL1XWoWMfUbmZJvhqzrmvPP63+9XZT0+KmphXOWtbK0jGFq07E72mW\n",
       "WKcvW7XoKkm9/zmt3rVosWFHdS15LdqzXt+TtY6U/Gvv840ta+XYGWHHVpz9YaekJ/5hW9c/PVg0\n",
       "tn6bijKtjKIVKxlb2YKWuvMOs8Gw+bipFX6tksoDSWG1lI3jEEl/v4SW0vb8ujVB1yk8/TNFa5FZ\n",
       "i5axvqWKtJQzmDKPQuOmVvi1Siq/JOwqL9crVx45ec0gTdBxTet2uifDtCITp5RZGBvUtQ5qJ8Fn\n",
       "03SWFpm17mF/asaouBVbrZh+1bBusChWtqSysDsIqXUqSSdnzlJtR7SevqVpHd72OtHuHz+z7x97\n",
       "lrJZclTbOB5tOKeeBeXj+1PRnqUvti7NazU3nGd3WshoJfoAK98t1ao9NHVYvaOuhXqsrLWy6NeJ\n",
       "6iYrHWmRx9LGKu+h7LNvxXZsuZZ8ZfG1RtmvtqYlO0utolZMWo/yNJSvLL7WRlqUk4+o63ioy5PW\n",
       "U/atsDI89HMvDeUrnxBeq+iE3rM056WTtjvv2RRpSYC0vBa5118ueX//AtaapwItaEELWtCCVnC0\n",
       "8NlAaEELWtCCFrSgBS1oQQta0IIWtKAFLdG0CFrQgha0oLUAtRBx56Eg4s6ujJx40PZ5RNyZihYl\n",
       "IbfQQdsph4g70zzVPupXm6OqekctRNwZPdS0qq5Q7bSjFiLu9KJH3NU2Uu2EoxYi7qwRdxRSG0fE\n",
       "nekJp4g72qvGEyDizryhcIi4IzUMzEPEHa/Wgoy4i7eoWyb+iDs9PrHCiDshtfgj7n6g3nqIuNPj\n",
       "E6myiDsh4xP1iLuSsVUScZfI0J+oTMSdpXiLuDNfHYg5trSIO1N8on3E3U+InlH+dom4qyw+saSy\n",
       "8BF3pvhE24g7eWVfX6NyxyXirmx8olvEXaGy8BF3pvhE24i7EJu86nsVLhF35eITXSPuAhCfmC/F\n",
       "8YmVx5CViU90L4hPtFxVu5ZgxifOIuLOKT6Rq+Qrix9xV4gsnE3EnS/xiYi489IeIu5mX6AFLWhB\n",
       "C1rQCo4WPu0GLWhBC1rQgha0oAUtaEELWtCCFrSgJZoWQQta0IIWtKAFLWhBC1rQgha0oAUtaEEL\n",
       "WtCCFrSgNZuSj6CDFk9ZCS3MxLksM3NVxIhCx9jCTIQWtKAFLexOsTvFTIQWtKAFLWhBC/st7Lcw\n",
       "E6EFLWhBC1rQWuhaiIqCFrSgBS1oQQta0IIWtKAFLWhBC1rQEk2LoAUtaEELWgtUS3rE3/Y+zwmp\n",
       "9YU/vdv5PX+1oq8lRdQa8qVzCSXTX6R1gmjTpfXlDn7OLj2itXJ1l4BaCfdwnxinVqxR7aGSP/aO\n",
       "cnP2zSHblOmWylqLgmnFe3Juh4940mprzZFzYuFwu35nl62WpbKQWq8cTLsdvsOTVufmjJqW1GG2\n",
       "drhqWSqLqCV37Op3W2uve9LKhuoplqxQy1JZRK04DbQXP970jSd62ROP/6iTNn39w09+d/moivnY\n",
       "q8NbO0wV79/2K/rpsovbO0xaNdfUpLuVaZkri6jVRnvN68zilLSSErcrKQyXnbpmfDgys6FDmjYN\n",
       "um9TdQet6I/qz8aVHKdsHl12OS+4a1krR+rF08rSqPlMfY5oIMW0NueoiZK6Vjh1J8kTxYeFMhSd\n",
       "oO8QXdMeX1BGKJtH76VKdqn3DXJpWSvLN4TTijzU19Nieub3ROuyRKsP5hQ4XUuSxrUdVb7sZRN0\n",
       "kh4g+rP68LMz2rSm0ZZO69K3TZ1S8aam5V9raupy1Cqp3HxeNK017IlGq1ZdC93fPZBT7hozMTFG\n",
       "tYPFhw2klHTpea3ou0ltc1Y9XZIzNtHIN7aslQ+oGelFikJX8sLXU82/Pb898v10YWwlbqW9OTqr\n",
       "aqnLGqOqa08Wpe5Wxtb1gpa2825jc/Z6xtQcv5a1cuKKaDNR2S8uGqP7/rq9qivSlV+30nVZ2vzH\n",
       "3FkVT9WqytBAsrModXdVlsLjRVrqGUyZR6tSpub4tayVY8Kt8heUUTFN/7eT6tJx7dx4OifdRUxr\n",
       "14s5ZRYe0LRG07Sz5mdFqbujt9GiDH1s0pIUli1kas5W66B2+aDGbqzTJ3hJZeF2EPfOfESJ1qkM\n",
       "HaFnKaTtUs89vj1F0SMfrP3mxkvdbAr+Uh0HD7NF98niBOA08vLrtPvSGycvdRla0qEp1kQ1e6A3\n",
       "989Kiu9cqdbRhnPaHk/5dYS0paqksphXPmq5jbbSaNRYtxyLJXV36V6+tDnbseVajMrCaslj7Df6\n",
       "/XhZLUvqbiet4uaKtcLtHFj5ysJqhbvoE/rsGfX+Cpe65tTd5o1bvX1zrPsHJrnGlLVyfFDUmVgE\n",
       "cumtit4NLNl5z7rc3S6+VsVlpNvf9oa7nbeU9oX/yKI9KX+j/w/Mgmt5NIxn/gAAAABJRU5ErkJg\n",
       "gg==\n",
       "\" style=\"display:inline;vertical-align:middle;\" /></a><br>"
      ],
      "text/plain": [
       "circuit_inAm_Vj: QCIRCUIT(([MULTI_QUBIT_ELEM]{element:[INPUT]{state:A_{1}, part:1}, targets:{N_{1 - 1} + 1 .. N_{1}}}, [MULTI_QUBIT_ELEM]{element:[INPUT]{state:A_{1}, part:2}, targets:{N_{1 - 1} + 1 .. N_{1}}}, ..., [MULTI_QUBIT_ELEM]{element:[INPUT]{state:A_{1}, part:n_{1}}, targets:{N_{1 - 1} + 1 .. N_{1}}}, [MULTI_QUBIT_ELEM]{element:[INPUT]{state:A_{2}, part:1}, targets:{N_{2 - 1} + 1 .. N_{2}}}, [MULTI_QUBIT_ELEM]{element:[INPUT]{state:A_{2}, part:2}, targets:{N_{2 - 1} + 1 .. N_{2}}}, ..., [MULTI_QUBIT_ELEM]{element:[INPUT]{state:A_{2}, part:n_{2}}, targets:{N_{2 - 1} + 1 .. N_{2}}}, ......, [MULTI_QUBIT_ELEM]{element:[INPUT]{state:A_{m}, part:1}, targets:{N_{m - 1} + 1 .. N_{m}}}, [MULTI_QUBIT_ELEM]{element:[INPUT]{state:A_{m}, part:2}, targets:{N_{m - 1} + 1 .. N_{m}}}, ..., [MULTI_QUBIT_ELEM]{element:[INPUT]{state:A_{m}, part:n_{m}}, targets:{N_{m - 1} + 1 .. N_{m}}}),V_{1}, ..., V_{j})"
      ]
     },
     "execution_count": 44,
     "metadata": {},
     "output_type": "execute_result"
    }
   ],
   "source": [
    "circuit_inAm_Vj = Qcircuit(\n",
    "    VertExprArray([ExprRange(k, input_Ak_nk, one, m)], \n",
    "                  V_1_to_j.with_front_expansion(1)))"
   ]
  },
  {
   "cell_type": "code",
   "execution_count": 45,
   "metadata": {},
   "outputs": [
    {
     "data": {
      "text/html": [
       "<strong id=\"circuit_Ui_Vj\">circuit_Ui_Vj:</strong> <a class=\"ProveItLink\" href=\"../__pv_it/common/36514b1af8ea273568bb37bcb8fc156972cba2a90/common_expr.ipynb\"><img src=\"data:image/png;base64,iVBORw0KGgoAAAANSUhEUgAAAnkAAABYBAMAAAB7SPwoAAAAMFBMVEX///8iIiLc3Nx2dnZmZmbM\n",
       "zMy6urpUVFSYmJhERESqqqoQEBAyMjKIiIju7u4AAACSi8d0AAAAAXRSTlMAQObYZgAAAAlwSFlz\n",
       "AAAOxAAADsQBlSsOGwAABIhJREFUeNrtnT9ME1Ecxx/9QwHhyoBxMJEmDISBWF2MCYZzchIxlsml\n",
       "C3EyoBFN1GgHo5uyaVxkdDCB3YEOSlwIRSEuNWkkBv9hi0SkBsF3HGi9u3fvB/crMfF7CRcSvnz7\n",
       "6ef1vesdcAjxe4uv+2x/Yuu7FSuRyGiPWB2uyi0u1FvF10q7FStRyGhVVeKCPdiDPdiDPdiDPdiD\n",
       "vf/V3gKtlzW2QLFn5ChVtFRALrW9PE0LayxPsdeUpVTRUgG5lPaM8RHSEHPGHCmFvU8/KI9ISwXk\n",
       "Utr7cGeC8vCsMUfK257x4Hqa8IRJqaBcKnsLz1PzQ/pe1pgz5WnPyPf1XOnVVdFSgblU9h6LlDij\n",
       "18Iac6Y87TVkomY0qauipQJzqY8aKdrhgDWWohw1oialipYKyAV7sAd7sAd7sAd7sAd7sAd7sLe7\n",
       "9tpoWlhjbRR7oSSlipYKyKW2J2haqhjDzzVgD/ZgD/ZgD/Zgz+d7QxcWr4rY+KSmt71134i4tprj\n",
       "oXS3edhrmiqPiGhri39Vfv2hEKcXTRYud5nutRdelrtX2lHpTsvnk+QaY1eb12uvmJW7c5oqY1Xu\n",
       "agd5uNxlOnuNVqBH+3yn5EekwGXP1eZlb8+Y3Gm9PJUfMS4uV5nOXnzYwejdW3b2BqIsqyn/Htem\n",
       "XspAzHKO6ux27A3I1cfQTsnan3I3x2XP3eZlL/bVcdbp+Yg3E9TzXII9V5nOXrcc3bq0rjf8Te5u\n",
       "c9lzt5UUK/IgZQnlmxOuMp29/dYSpO2tsdYgk4tyq+2tr726FcKwinsZvlHdKuul2jO+20vQ+6xv\n",
       "b3FwY3WcO3KDg3KzTRzztVe7ZE1cDZgYSMq5xsRllwmxl2qvYUXuOkX0TbNv72hGvjXMydfLcX8t\n",
       "2c3DfjFLaNPMXKMsDevARHE4Jri47DLVzPX4K62NJeiwtFgB6fFnWtbqGE6IZXGw1y9WY03ulq1P\n",
       "dG3+ZEIsWhNXAybizXKuMXHZZd5cJa/XXrhkT6IG/yHutuf33UrKnc+Qzbbzg/5naq3WYVkDJmrW\n",
       "kmxcdpkxM0KeuWvyiSS0kKPyre1F65NDHOuL3Wbk1vztPRom2KsvCzYuuyzSkCUfc5+J0JAestEU\n",
       "7dboRg9wUNptoY/N/vZOpQn2ItaZJhOXXfYlbNLPc++fFATIo5c2VvmOAgul3Vaf87d3iwJWZzJy\n",
       "2WWNme1eodJBbl6RMUMJvitBxXeEK1QkMF6ueKI69jr6UgU+yicRLnu8XGe3e3U01LWUI/SOV7yh\n",
       "CE45/1JvjwbGy/Ua15YDcL2AvR1zNfaPwd6OuSIzBdjj5oI92IM92IO9rQ2//ajnUtvDb97quWAP\n",
       "9mAP9mAP9mAP9mAP9mAP9nbTHu5mQ+FS2ZubSMUIt0hijTlT3ndS6uo3CXdSIqUCcyln7ueZy5TX\n",
       "NGvMkVLcxWvyRFpfRUsF5VLawx3kCFzqo8Y07XDAGpumHDWamilVtFRALrW9TpoW1lgn6eoo6Z6Y\n",
       "tFRALrU9QdNSxRh+rgF7sAd7sAd7sAd7sAd7/5A9/EewbXKJX1s3P5fZolxZAAAAAElFTkSuQmCC\n",
       "\" style=\"display:inline;vertical-align:middle;\" /></a><br>"
      ],
      "text/plain": [
       "circuit_Ui_Vj: QCIRCUIT(U_{1}, U_{2}, ..., U_{i},V_{1}, V_{2}, ..., V_{j})"
      ]
     },
     "execution_count": 45,
     "metadata": {},
     "output_type": "execute_result"
    }
   ],
   "source": [
    "circuit_Ui_Vj = Qcircuit(VertExprArray(U_1_to_i, V_1_to_j))"
   ]
  },
  {
   "cell_type": "code",
   "execution_count": 46,
   "metadata": {},
   "outputs": [
    {
     "data": {
      "text/html": [
       "<strong id=\"circuit_Akl\">circuit_Akl:</strong> <a class=\"ProveItLink\" href=\"../__pv_it/common/2406d8f754e1fac9501752f634f1423e0a08de260/common_expr.ipynb\"><img src=\"data:image/png;base64,iVBORw0KGgoAAAANSUhEUgAAASYAAAC6BAMAAADxOf1lAAAAMFBMVEX///8QEBAiIiLu7u5ERES6\n",
       "urqYmJiIiIjMzMx2dnZUVFRmZmaqqqoyMjLc3NwAAABb1yYoAAAAAXRSTlMAQObYZgAAAAlwSFlz\n",
       "AAAOxAAADsQBlSsOGwAABYpJREFUeNrtnE2IHEUUx192srMTp+3OJbdgRmTxkMscRNlcNuBFENyF\n",
       "BU8eFpKrsIjiJcTRiwEPDrmIAT9AUMhlBz3IZi9D9LrMgCdPu4FACKLbiEoSso7dXdXT01XVVa+q\n",
       "dpNx5zXM7ny8qvfr6q9X/Z//AIyXaFS1FDGVITGglsiyg6iyo+JpZWosE9h1QEzEdBRM4dDMJMXE\n",
       "ukMrNucwMD0bm5mkmFg3FLE5h4FpgGAaeDINLJlu/WtmkmIsmaT2eqZT9x8YmeQYOya5vZ7p3sJj\n",
       "I5McY8ckt9cz9YJ/jExyjB2T3F7LNN9vPDQxKWKsmBTttUxNCB8B1N7OXrw8VDKxmKUb3xQxVkys\n",
       "ff3F7AVPpWN6d/vWXwAfv5M+b7zfUjKxmB58X8RYMbH2cCZ7wVLpmGobAH8m/29nbwVKJh7zN+x3\n",
       "xjHltLWD5M/ykD8RmXj7kL99W2ISSrdm8nheZBKuEjzm0iST0M355DHX408qctQv3usWTOrqLluH\n",
       "N5PHrmGc8hi4DhXjpN92vP0zV396Tj1OZabwdPJnZU/LNI5pvODElLc/cQU6CKbaykEbfh79qmMq\n",
       "Yu62XZjG7fe3O4AZp/Gi23Z5vdEL95y2HV8uz7f2bJmWDEx3r33SXvJg+q7R6ta6eKb7u5/Bh/3w\n",
       "i4cb1UznkqNoHOPA9AZ822mczVLha98+ovbtu9Uq4yWwq8fn22amcYwr05odUx0xR6iDJ9P6E5m3\n",
       "oOYIT2suFU3h/I6YZpzpkO+JRYdwT8z2nkTk+Tn2vgcxERMxERMxEdNxZ5rGuoBqOmKaFSbSynBM\n",
       "pJWhmEgrwzGRVoZimtTKap/fbINBK+Mx7loZl9ywWlkTmi0waGU8xl0rY92gtbJoNXwABq2Mx7hr\n",
       "ZVxyw2pl9TZj0mllPMZdK+OSG1org1OqbVfWyliMh1bGukFrZfCRYh8XtDIW46GVsW7QWln4qnwu\n",
       "ELUyFuOhlbFu0FrZb/AHmLQyFuOulfFusFpZ+Nq1H8CglfEYd60s7QbwWtkJdhBotTIe466VnWMH\n",
       "I2llpJW5zxFofkdMxDS998TofiYxERMxERMxEdPTZYoU9YC46C7nqGu+pSEtQqxoXL2uEWZAIvRg\n",
       "EhMxERMxERMxERMxERMxHS1TqpuamLIYD6ZMl7VgynRTA1MW4zNO56tyaG5fVt98LGYbFc2Xhx45\n",
       "jmh/ysaQjjtiOubnp+LYm57zU3Hs2Z6faH8ipv8P0/Jw+pjYsUfnzNmp6ehcQEwzyOSnt0QYvSWy\n",
       "/QFA9aphBsTqc9LviImYiImYiImYppgJ8XXOyPy1Uj3TyKIDHXdsXnf092hjy0Elplln0tfjrkyi\n",
       "yVnF9Hs1k3alqnKYmESTs4pp15NJzGFiGpiZgpEn08CSSTQ5K5iam3t+TGIOA5NkclYwfflVx4tJ\n",
       "ymFgkkzOMlO48UHfi0nKYWCSTM4yUxMG615MUg49k2xylpnegk+7PkxyDj1TyUi9qWbqwf7XuYP6\n",
       "QmzPNGmkZjn0TJNGathRMi28vr15MXdQB0OZqdKzXMrBjdQ7EpN4CSj/6PCWWPNk776S9NHKHdTN\n",
       "rnBBSSMqPcuTObiRegsUHZTWofyjw4vKcUqSzZ3OHdRzq9bbrmykXjRuu5KRuharmObX+bUhc1Av\n",
       "2+/jJSM1y6FjKhupg6GK6U7yOJmehzMH9Y41U9lIHQwNTIKROttXRKaXRr9AsHLQ5Q7qLVsmwUjN\n",
       "cqDqp4xpbk1XPzEH9WLb5XqXLsxIzXJgmZYgWtAwpQ7qWhfiDVem1Eid58AwMSN18z0NU+qgbpyF\n",
       "H1ddmVIjdZ4DXfv2zbVv4FiriDmwTLlJWse05smU58Ay1RFzhHVPpvqTmUsdybzlkOZ3VjmI6fgx\n",
       "HfL9J6sckx38Bw/0ibu6/ggeAAAAAElFTkSuQmCC\n",
       "\" style=\"display:inline;vertical-align:middle;\" /></a><br>"
      ],
      "text/plain": [
       "circuit_Akl: QCIRCUIT((A_{1, 1}, A_{1, 2}, ..., A_{1, l}), (A_{2, 1}, A_{2, 2}, ..., A_{2, l}), ..., (A_{k, 1}, A_{k, 2}, ..., A_{k, l}))"
      ]
     },
     "execution_count": 46,
     "metadata": {},
     "output_type": "execute_result"
    }
   ],
   "source": [
    "circuit_Akl = Qcircuit(A11_to_Akl_varray)"
   ]
  },
  {
   "cell_type": "code",
   "execution_count": 47,
   "metadata": {},
   "outputs": [
    {
     "data": {
      "text/html": [
       "<strong id=\"m_wire\">m_wire:</strong> <a class=\"ProveItLink\" href=\"../__pv_it/common/778d226d44a25de48dc423ff06f4a094bb8e66f20/common_expr.ipynb\"><img src=\"data:image/png;base64,iVBORw0KGgoAAAANSUhEUgAAAWYAAAAVBAMAAACHyVn+AAAAMFBMVEX////MzMxUVFRERES6uroQ\n",
       "EBCYmJjc3NxmZmaIiIh2dnaqqqoiIiIyMjLu7u4AAADPKdDkAAAAAXRSTlMAQObYZgAAAAlwSFlz\n",
       "AAAOxAAADsQBlSsOGwAAAc1JREFUSMdjYKANYCdTbiDBbDxyLBMGpZO5F+CQqFphwsAwbVC6+S0O\n",
       "cb4Ghv0bGHgfDEY3t+EQ5/zN8P4CA1vDYHRzAK6kHMLAf4GBIW4wJucLuOX2JzAwXAOzmAqAZYjB\n",
       "YHEzBzALeupVTZ4gtdgBPaSPAYlFkDLvIANDjcBgcTMvMCwXGE3g++bAjZZKGCcpAslcCKdGAOTs\n",
       "QQJ4NjCwOBxmYP/JwPYBI21sYGDYCq1cDpIXzP+xAZyq+YlTzerAwMf3hYH7HwMHKGXz3TkDAhD3\n",
       "sf5jYJCHqqs5SFXXUQSAbmbg/gByMCtq5cIowMD8m4HBlVg30zdtMDBdYOBZwOBfgFJ/8P8Du3kP\n",
       "ZWkDDyCttuJDYjMDWxTAEH7vwKDLnoASAQrgtJGMNQ9SoXbk+0uScmD9BtIC1sWlwMBQL8CQz8Bg\n",
       "xYWiiC0BXD53oZZ1EG0k2ocdnCHJ4zzngMQJMGJgPMDA4MPAMIOBwWM6qiqPDmAbieEIpE4Bupcd\n",
       "XPtAtJ2hQkBzk2bGPiQ2/rzFfoAa9mEFXKQpRy4hMvBXkwnUsA8reEla8kduyTMX4FNaTA37sAPS\n",
       "uhOcKB7A2/Qxp4Z91AeV+HxXQJnZAHCfpokMYVLLAAAAAElFTkSuQmCC\n",
       "\" style=\"display:inline;vertical-align:middle;\" /></a><br>"
      ],
      "text/plain": [
       "m_wire: [GATE]{operation:I}, [GATE]{operation:I}, ..(m - 3) ×.., [GATE]{operation:I}"
      ]
     },
     "execution_count": 47,
     "metadata": {},
     "output_type": "execute_result"
    }
   ],
   "source": [
    "m_wire = multi_wire(m)"
   ]
  },
  {
   "cell_type": "code",
   "execution_count": 48,
   "metadata": {},
   "outputs": [
    {
     "data": {
      "text/html": [
       "<strong id=\"n_wire\">n_wire:</strong> <a class=\"ProveItLink\" href=\"../__pv_it/common/c38a4ec23b18bc6d3bf31a2eed6ca122912b08000/common_expr.ipynb\"><img src=\"data:image/png;base64,iVBORw0KGgoAAAANSUhEUgAAAWAAAAAVBAMAAACK1ym5AAAAMFBMVEX////MzMxUVFRERES6uroQ\n",
       "EBCYmJjc3NxmZmaIiIh2dnaqqqoiIiIyMjLu7u4AAADPKdDkAAAAAXRSTlMAQObYZgAAAAlwSFlz\n",
       "AAAOxAAADsQBlSsOGwAAAZ9JREFUSMdjYKANYMcpU8AwKMFsnDKeg9K93AuwBvuqZgcGzoTB6OC3\n",
       "WEVfMHD/ZmC4Nxgd3IZVdP4Gvr8MDBmD0cEBWEVdHRiADmZ9MAiT8AVcEt8YGHjBiZgJWFqwGwwW\n",
       "B3MA85ynXtXkCegSPkDHcimAM+BBBoYagcHiYFAgLjCawPcdTVxSCehENkjw1wiA3DxIAM8GBhaH\n",
       "wwzsHzGSBLCU4IYkcPaD5AXwf2wAp2p+4lSzOjDw8X1h4P4HZPPdOQMCUMfFP2Bg/ABh1hykqtMo\n",
       "AkAHM3B/YGBCy3uCDAz2wLAPINLB9E0SINfyJ6CWYP8fgBzMfYCiJIEHPCBbNTOweGBdwLD/AWoN\n",
       "HQROEmwG2DIdFQpnUK1EomogAaZBJVe9AMNcNtQwTAOXwxwLUIo1iB7SLMMBzjwgWfUJMGJgBMa6\n",
       "DwPDo2xUJSwdwMYPA48DuOIAOpYdnMYhes5QIYi5H5CtGl9+qqGCZdgBF/mqM0huGHFRIUm8JF81\n",
       "M+5+BY4GxEsqOHgC+ar5cDdrcPhlAsPAgkqcMtMpMxgA2EajXOtIE08AAAAASUVORK5CYII=\n",
       "\" style=\"display:inline;vertical-align:middle;\" /></a><br>"
      ],
      "text/plain": [
       "n_wire: [GATE]{operation:I}, [GATE]{operation:I}, ..(n - 3) ×.., [GATE]{operation:I}"
      ]
     },
     "execution_count": 48,
     "metadata": {},
     "output_type": "execute_result"
    }
   ],
   "source": [
    "n_wire = multi_wire(n)"
   ]
  },
  {
   "cell_type": "code",
   "execution_count": 49,
   "metadata": {},
   "outputs": [
    {
     "data": {
      "text/html": [
       "<strong id=\"circuit_Im_Akl_In\">circuit_Im_Akl_In:</strong> <a class=\"ProveItLink\" href=\"../__pv_it/common/ccf865cbe6ce57abe65f870404ed84b49d1e7e810/common_expr.ipynb\"><img src=\"data:image/png;base64,iVBORw0KGgoAAAANSUhEUgAAAS8AAAECBAMAAABdwkwDAAAAMFBMVEX///8QEBB2dnZERESIiIiY\n",
       "mJiqqqoiIiK6urpmZmZUVFTMzMzu7u4yMjLc3NwAAAAZNUwxAAAAAXRSTlMAQObYZgAAAAlwSFlz\n",
       "AAAOxAAADsQBlSsOGwAAB5BJREFUeNrtnU1oXFUUx09C5nvyXjYVsdAG0QiCkH3FDjZ+FSuBZNFS\n",
       "hQEXpWjJE0QadJEsXKRkMRSKTXExi7gxgq8QFNvNEJplcXAd7NB0oxQzVLRirHFm3qt5X/fcc+99\n",
       "5KM5BzrtzPvf8//lvXn3fZyeF4CEsEAeYo29FYskWQvUrQcbcjCxxiZ80ok1DesbcObsWP21Y3oa\n",
       "GlipnrmyfHJgwlWxvlo+fQiegZMYmFhDAyvMrM6O99UH6irWjnWrCZtwGQMTa2hgObh/Cmy3MKxg\n",
       "na1BsVIagk8QLkRDAzsPsAjXIVdVsC660OcOjFptVwyGaGhgSwCH4QRslBSsbwNsdMAzozUxGKIh\n",
       "gZWbYLU762yioGA9CXAJBlvWIrLrIhoSWKYC+Tr8DL++rWC9RphfEQ0JTDBfBdJupR+drD82O1vr\n",
       "EfgvttLwtugn7q/KVxim6a6fXPc7Mg3+S8IaG9GwzhG2JKYhbUpHw3qOADZnCJavaVgvEcCWDMGK\n",
       "roa1QwBzDMFyGtadGUYaqIYCNqlhbXYyRgTTORlbJ2xJVEMAs0Y1rEcIYCOGYIL5CreuE8DqhmBF\n",
       "fWuDIF6McHBwcHBwcHDsVtjYpbWCBg3ly2/BzaLoAlt5cCTaip8zGIMlabA9wwTMasrBKJrET9qC\n",
       "BBSwwbbclKJBwaIJKGBTBNMpU7ApDbBr/8pNKRoULJqAANZ/d1NqStGgYLEEBLB7A39KTSkaFCyW\n",
       "gABWy/4hNaVoULBYAjlYvlp6IDOlaFCweAI5WAGsvwHK7/XerDYTTYOa8rNfN5TBQgm+pYGdWLj2\n",
       "O8DyG91/l8acRLCgpgAFJ66JFCCiYMEEcCEZLHLgKFcAHnb+PtdbmHWix5iYxp6xNuOaSAECNbmc\n",
       "gBFfY91i2EdRMEyTaXhgKpsybHKRtCk/7/y5IwELa6DfUQULJSi3KWDWUOfleAsFi2jge9UvfzhB\n",
       "tkkAKx9/1ID3t37CwKIa62XF6SKSwKuKk8/HsE0Z1vwCv2kcK7cT5OZVwVYIYCtgHbv5pQHYCtgD\n",
       "KmB37zwH16vWSw8qYlNP0+ddeumAeQkKbyqfWlcJh5uq1iEpnkAFLN+Qm1I0KNjjBCpgGcIBmqJB\n",
       "wTJPwlVSateV9l694GWwXQNL+/6YndL9MfJPQNXYKXgwGIMxGIMxGIMx2D4G27OnPXwGy2D7BYzL\n",
       "glwWlIFxWVARjMuCimB7vCy48uI33TdoWdDTGJQF/QRKZcEafAGysqCnMSgLegnUyoJ/wUa33QQt\n",
       "C3oag7Kgb6JUFnw3BIZpDMqCvolaWRBeAJCVBT2NQVmwl0CxLFj6TAgW0RiUBXsJFMuC6w0RWFRj\n",
       "UBbsJVArC1o1qwWS6puv0S8LegnUyoLrN39oyMqCnsagLOglUCsLHu3stbKyoKcxKAt6CbgsyGVB\n",
       "LgsyGIPtHthO3LizuV7JYAzGYAzGYAx28MBsQgcgpqE8JMHWeX6CTfiJMY2t8onNYAzGYAzGYAzG\n",
       "YAzGYAz2RIN1a9oysGi5WxVMNB417dW0ZWts2nCNTaMeyO1UG3+CqVDzeG1QrptUnjuXyndsmvdK\n",
       "BjvA89j2nrnX5rFpo3mMv2MMtr/BvD1zL66xaT4f27HzMd4rGYzB9gHYXq0l9YLLggzGYAzGYAzG\n",
       "YPsHjPI7n5R+L1RaDextwpK2yui0/ucwgzHYToHFmtMTwDANqWdEpYFd1FueBIZpUm9gF/WWJ4FN\n",
       "mYJNaYDFmtMTwDBN6g3sot7yBDBUk3oDu6i3PAEM1aTewC7qLU8AQzWpN7CLesvjYLgm9Qb2YG95\n",
       "5uPeG//x1m1M4/e6K4EFE8gb2IO95fB0743/5Ok2pvHb0JXAQgkukMD83nLLF55LAgtr/Db0MBje\n",
       "WR9OcDkZLHKu5veWZ0bvDW+DoRq/DZ3YWZ+Q4CIA3lkf7C0vvvPhEeEai2i8PnaVTRlKIG9gD/aW\n",
       "970OrggsqvH62BXAwgnkDezB3vKNBVf0HYtpvD52OlgkgbyBPbhsIu+0hJsyrPH72BWPldsJ5A3s\n",
       "wWWLJWe4PIyD+ZpuG7oeWDcBpYE9uOwV+MotPdV78rQQzNcc9fYjDbBuAkoDe2xZlnBqndU87fk/\n",
       "qhrn/PMEsHlDMEoDe2zZOAFs3BCM0sCe1lVS6g3sqV++qcgYjMF2E8wm3JSztwyfmG38wG0ODg4O\n",
       "Dg6Ogxe29u/ClYdFEbVEYIRPxONx68HGmbNjNQnYWubK8lsGYMnjcesb5dOH4AjOVaqvzo73tbTB\n",
       "BONx66vWrSb8g4MVZu6fAruhDSYYj1s7UKzkh3CwHMAizOpvSsF41Dpbgz63UHNRsPMAh2GhpA2W\n",
       "PB63LrqwAbnvcLCl7l3nTz/QBksej1vfBrgEA8+jXOUm5Ovw6rgumGA8bj1JmMUyFTCaxwTjces1\n",
       "AthgAwMTFiBk49ekV6AGAdijfeUhvvbtrxLW2AiYbcoRDesc5UjpGII5GtZzBK58zQxMMH5OMkPJ\n",
       "o+iagQnGL2luJdI6J4HlNKzFMxRtviGBTWpYi2co2lRHAlvTsF6nnOKOmoEJxq9rzlC0+YYCJhiP\n",
       "W9cpOyWYgRX1rXf7Kuk/mc4oDxDIvecAAAAASUVORK5CYII=\n",
       "\" style=\"display:inline;vertical-align:middle;\" /></a><br>"
      ],
      "text/plain": [
       "circuit_Im_Akl_In: QCIRCUIT(([GATE]{operation:I}, [GATE]{operation:I}, ..(m - 3) ×.., [GATE]{operation:I},A_{1, 1}, A_{2, 1}, ..., A_{k, 1},[GATE]{operation:I}, [GATE]{operation:I}, ..(n - 3) ×.., [GATE]{operation:I}), ([GATE]{operation:I}, [GATE]{operation:I}, ..(m - 3) ×.., [GATE]{operation:I},A_{1, 2}, A_{2, 2}, ..., A_{k, 2},[GATE]{operation:I}, [GATE]{operation:I}, ..(n - 3) ×.., [GATE]{operation:I}), ..., ([GATE]{operation:I}, [GATE]{operation:I}, ..(m - 3) ×.., [GATE]{operation:I},A_{1, l}, A_{2, l}, ..., A_{k, l},[GATE]{operation:I}, [GATE]{operation:I}, ..(n - 3) ×.., [GATE]{operation:I}))"
      ]
     },
     "execution_count": 49,
     "metadata": {},
     "output_type": "execute_result"
    }
   ],
   "source": [
    "circuit_Im_Akl_In = Qcircuit(VertExprArray(\n",
    "    ExprRange(j, ExprTuple(multi_wire(m), \n",
    "                           ExprRange(i, Aij, one, k),\n",
    "                           multi_wire(n)),\n",
    "              one, l)))"
   ]
  },
  {
   "cell_type": "code",
   "execution_count": 50,
   "metadata": {},
   "outputs": [
    {
     "data": {
      "text/html": [
       "<strong id=\"phase_kickback_circuit\">phase_kickback_circuit:</strong> <a class=\"ProveItLink\" href=\"../__pv_it/common/ec59ed10fcac0480d8649201c2308dcb9b9cd1b40/common_expr.ipynb\"><img src=\"data:image/png;base64,iVBORw0KGgoAAAANSUhEUgAAAU8AAABRBAMAAACgSDmeAAAAMFBMVEX////u7u4yMjJERERUVFQQ\n",
       "EBAiIiJmZmaqqqqYmJjMzMyIiIi6urp2dnbc3NwAAAC2AzRPAAAAAXRSTlMAQObYZgAAAAlwSFlz\n",
       "AAAOxAAADsQBlSsOGwAABc5JREFUaN7tmk9oHFUYwL/JbvbPbGZ3aG1FJCSHHuzBNlIvBglTba1U\n",
       "rLkoVK2N0GwKHrLFGlBSWUSJILHbQy9acCmmkV6yl2qNYPegBxHJoFICWclI4r9LslsRUmtY35+Z\n",
       "2dl5bzfzLzHF+Q7fzjz2fe+333vf+7PvA/jP5YMtaOO+XqboUrvvJ8tYCz8dki2FJ9rViJvKj4hf\n",
       "DNmLErl2FSb0xuNDTptI9xnKlySYBncAaPqvYL8u0A7IlNN/tzVrtfChqYIFfQSgQp8iRebrkQId\n",
       "ADIB/bVer2OkvbisAJePm9+zWojJutIaHRkAaHqQNCMtvMkbBL8YDxKqJ5z5QyIvGLRLSx+73AR6\n",
       "RaYWUoquKo3fW/QPGleJxQdgtwbsODxnPFyRBVWAL7sRropAuyEFEkgWUOHIfuREbEGo6ariMA6c\n",
       "gWbK2GJyCKQ+mDcKvzEe/jH8/hCILwH0TQP+3AtTWgp+R7BWj95AoPOGw7FqgMKQf9AZGVuMKJCo\n",
       "wZJR+J4xtmr6w2+wQmL5K7Pro1CCdxlQYuFVXRHQLjLK5/2DfkqayeRAXIMOzQaawiPz8Aik+6+e\n",
       "wcOk9LUJmjyqTKsMKLFwDagioIkS1ktuOdPfr5eaSx4jzfQg0NuQUG2gUTQ77Tp9Uems16votUMm\n",
       "EU379q2/HgUGlFiYk6mygHZovpeqA6SZVRXEO42hZIBG0Lz9BKRr3DXL+osNUGJhpkiVBTShchex\n",
       "4QHnoHtM0HWAcRtoB5pkbpOplpVIngeKLayWqbKA8qNptF7nzVuZuim4H4VbpHSEdr0KXcijH+OS\n",
       "sWz22Wz2FH6MoRGBvr7Oa4WOAt2MCYot9JSpsoKOcyxIyLST6WDE4lEUTIk1gEnWo+LaysrPG5ox\n",
       "QbGF1SJVFYhns8PPZbOK7oL6xlJtGH4Gv9u7Hg3GJBqJ+zhdf8fJADJBsYUZjSqrRyc5lToQSK31\n",
       "vq3Q/P44aSY5CPHexp7HjHpU8JoMacegxAIn6k0XOO/6iO39Gm3mNOwqgpS3z6NoI7D7+LevOAJd\n",
       "RI4kFi4CVRZQ/ravRTBRuQ7dPx60vM+RlQnuXTiK4sO+MnXhnhm7VXICeujkngK1cFZXFlApz52e\n",
       "Rvtbm+yDHIxZ3jvLjUV5wg4KLzqc5JosNK31FDTGr5ZpbTGVRxuN1SKzeyIywGxKzrkEHWB2TxR0\n",
       "wjXoToALTaDioNmMwJ6nptyBEgtJRVeWTcmAK9B0Qa9801r6pNlMqsBUieZdgRILMU1XFfuJxino\n",
       "dzUQcPSJL9vOTLM6Vcsz04ZitWCemRqgHBe07foHIY47fUlu2vip7QgmXe9yGqfQ2UbHgDvQ8/JO\n",
       "bCSX1lye691IXDbUxtIKNKa+gR16dVqG7SGtQBPP44A8aV3qtycoDGuwraQl6Ntwl4BCCBqChqAh\n",
       "aAgagoagIWgIGoKGoCFoCBqC/v9AM813IdsXtHq3ODYE9Saa/iluNqh5EVb0Vt/4y5lNKQkYVCrr\n",
       "D/3+QNmUks0CnfAHyl6CY9Dl0VN5OIxv24IDjfkEned6dBGZT6mBepR/Q+gcdIkLuh/0P/uDA/WY\n",
       "ameCMiklBPRP0O9LggPl3mI7ARU+K0BUZq+IMChOuYDuoEDvfx3goJfrJgoqJQbhI040YVAJp/td\n",
       "CgpUfQeSVa/RVIFP4kMkYWmcAxobRCoXEKiYHyPJT/GyN1C5swQvAJtSgkF7FKQUzl7KpRBQATWD\n",
       "2gJR8RhMczShc5Lj0fMFFKWloLq+q0YuzdtfmLYBHYNUlROMuGwR2ZW0oEDRGLsBXlPWEOjDEOm7\n",
       "wE5vBNSYnQIBjShwICm7TwI0QM/ClKqyCwbpejTXHwsMNK6IJyQvaZU66D0L7z9VZCcNkpKYg+Vi\n",
       "YKDC09eXZ70kqjatTBPcJfSHI6Wgd08eUn+bQAe2apsX0XyBCr1bBbrD3zaPTSnZLNDPvdU3kkqi\n",
       "m31mShlnHQUClvC4HLTUt9NfOv8CK3tLmeD/VN8AAAAASUVORK5CYII=\n",
       "\" style=\"display:inline;vertical-align:middle;\" /></a><br>"
      ],
      "text/plain": [
       "phase_kickback_circuit: QCIRCUIT(([INPUT]{state:|+〉},[MULTI_QUBIT_ELEM]{element:[INPUT]{state:|u>, part:1}, targets:{2 .. m + 2}}, [MULTI_QUBIT_ELEM]{element:[INPUT]{state:|u>, part:2}, targets:{2 .. m + 2}}, ..., [MULTI_QUBIT_ELEM]{element:[INPUT]{state:|u>, part:(m + 1)}, targets:{2 .. m + 2}}), ([MULTI_QUBIT_ELEM]{element:CONTROL, targets:{2}},[MULTI_QUBIT_ELEM]{element:[GATE]{operation:U, part:1}, targets:{2 .. m + 2}}, [MULTI_QUBIT_ELEM]{element:[GATE]{operation:U, part:2}, targets:{2 .. m + 2}}, ..., [MULTI_QUBIT_ELEM]{element:[GATE]{operation:U, part:(m + 1)}, targets:{2 .. m + 2}}), ([OUTPUT]{state:((1 / sqrt(2)) * (|0〉 + (e^{2 * pi * i * varphi} * |1〉)))},[MULTI_QUBIT_ELEM]{element:[OUTPUT]{state:|u>, part:1}, targets:{2 .. m + 2}}, [MULTI_QUBIT_ELEM]{element:[OUTPUT]{state:|u>, part:2}, targets:{2 .. m + 2}}, ..., [MULTI_QUBIT_ELEM]{element:[OUTPUT]{state:|u>, part:(m + 1)}, targets:{2 .. m + 2}}))"
      ]
     },
     "execution_count": 50,
     "metadata": {},
     "output_type": "execute_result"
    }
   ],
   "source": [
    "phase_kickback_circuit = Qcircuit(VertExprArray(\n",
    "    [Input(ket_plus), *multi_input_entries(var_ket_u, two, Add(m, two), (one, Add(m, one)))],\n",
    "    [control_elem(two), *multi_gate_entries(U, two, Add(m, two), (one, Add(m, one)))],\n",
    "    [Output(ScalarMult(frac(one, sqrt(two)), VecAdd(ket0, ScalarMult(exp2pi_i(varphi), ket1)))),\n",
    "      *multi_output_entries(var_ket_u, two, Add(m, two), (one, Add(m, one)))]))"
   ]
  },
  {
   "cell_type": "code",
   "execution_count": 51,
   "metadata": {},
   "outputs": [
    {
     "data": {
      "text/html": [
       "<strong id=\"phase_kickback_on_register_circuit\">phase_kickback_on_register_circuit:</strong> <a class=\"ProveItLink\" href=\"../__pv_it/common/5b46861730c031d8d38813444559c47b137a4f3e0/common_expr.ipynb\"><img src=\"data:image/png;base64,iVBORw0KGgoAAAANSUhEUgAAAkMAAAEoBAMAAACpzOisAAAAMFBMVEX////u7u4yMjJERERUVFQQ\n",
       "EBAiIiJmZmaqqqqYmJjMzMyIiIi6urp2dnbc3NwAAAC2AzRPAAAAAXRSTlMAQObYZgAAAAlwSFlz\n",
       "AAAOxAAADsQBlSsOGwAAD0BJREFUeNrtnWuMG9UVgM/Yu36uPdZSiCja7iJFKgiVLII/pCgYCA9F\n",
       "arpVAYm2YZ2K7EZUEKfQtDyCVlEhVFHKUhVVQFRZEUmqROrujyZNQCX+AVURquJShKIGGtOFAKrI\n",
       "2lBQAgnuvXcensed8R17/BjvOZHvjm98j+d8c+5z5lwDBE8uHvNByXPQx5J4KWfNihfdCuxiqfTO\n",
       "6owhc12jr4nqSQAlZkO0HaCs8uN8PK+aHM01VG3Qkh7Xkn5AJJGa97ZyGC7YPj6s/JGL6S8aqjZq\n",
       "eR60xCDp+mGhfRbWbFJpEVF4lhmXOvGY5jJGuVatjBmG6BT5Puorl9O8Wdh9lw3R3oyiJZLREoOk\n",
       "6lV6ZfsQVQRyvCF6XzHuMrioDLbKlJ7QzSP/J23+KMXeUERD5fTa3RZE0q0rCBWqJZnVEj6i7UFC\n",
       "tJUZF89BahyOa5mvac1uScvZm5FKErw8QkCVCKIRSEKK/EtfZfaiowQR1SJVtYSPKBIkROeYceEs\n",
       "xKqwoGXuAK0N0tzpKkjcDTC+D+jfy2FPOQkfEkx/WG9HtKA5mpJYETH8qZngIEpUmXFyHhJnIFS2\n",
       "IJojFks3TwN8AKdZH/WKXtEGYB6eBOAgYloeAC2xImK629jbtYoo/cb5eVNGMseMGyWIzkKsZEF0\n",
       "iLwu3PhMNr1y/2Za7+Zf1RHF12T3lbiImJaDoCVcRHBl73qRVQbGmHGLJUh8CXp7rSG6kbxugXR1\n",
       "UOk5Qxmlk2IVaNtn1wEXEdNyLKMlfEQ7RU8wumFVlxGFx3VE5wEetSC6mrzO6l2/ZVTO3JGHiGqZ\n",
       "K2gJH5Fwe72pVit0C5H0CU1DWaWilWCIeNELNGvL1NQdU1P30MPlpLEiY6HzXLi0xT2wbkZXpSOi\n",
       "WhaLWsJHFC2KnWWKfH2uY4hky3hzml3NvNZcx87U3V/zIvKRxJnTp9/lqTMODKdNiKiW0aKWmBDp\n",
       "+BNZsZMOkbOtekXELhlLRsdar2iqF5H6Fq/WG1ENEfEi+FJUlY6IalksaAnfi1ibLtfaIBXtkk1r\n",
       "HiBWznCi3zW9VxHFJyA6Vu+KjYh+ljFOrgQQMS1zZS3hIwqVe7Giqa3srLlHU5pr2AgXFuoDOg3R\n",
       "TeR10V2v/0QY0cmyOixs1KMt9HBzHTa/TU4oxi07scbQzWiI2MBmyyfzoohWTy6fVbQ8oyd8RMeF\n",
       "O/3PPE55W0d0GEbevKH+dqhaX8aoTy41RBY3EFoMUbQ8qCd8RLkWTG43onHIwxbD+x8ZjFtlncYO\n",
       "FptAtMp9jrbDsFTXk4iSM2TiauxpttaNo6trFi8veUfEtLjM9Bn+cLl3EV0A8LQJ0Z66cclZ66cT\n",
       "E94RMS3xrJbwF0OGoTcRpWdVO94ydmmk/3lRPbQXuc3DuRm1RMpawkd0pEcR/b0KEu3jE+uN85Ax\n",
       "tyLD0Jxw166TdefN9igi+BZE6VkumPop1zl3rNQUIT/vgDSNqNKMhqcyF9BTz6eNNUDkPppXiWa0\n",
       "pPOIWrsDEik9TJ1o/z5/Tr4zUulowdgPaBswaZqyISKzbChD4KTDiH4JiKgPBREhIkSEiBARIkJE\n",
       "iAgRISJEhIgQESJCRIgIESEiRISIEBEiQkSICBEhIkSEiIKAKHhx+p1GFMA4/Y57UfDi9LuPSBrr\n",
       "8Tj9zj6lBkGM0+/4c9fBi9PvPqLW4vT/9ueiyYvaEKfffUStxelPSBUbIp/j9LuOqMU4/bIhBKJN\n",
       "cfqdRuR7nH7YXtF8jtPvfLCVRVqN038YbIj8jdN3M5Abw99rcfqpzLwdka9x+m4GcoNCey1OfwWL\n",
       "7W1jnL6bgfzQ4iUXp+9mID+GH+P0MU6/uxVNbWUDFqffheY6aHH6rp3+ppXt6PT7Kk5fbsvQsa/i\n",
       "9NuCqL/i9NuCqL/i9H1H1H9x+r4j6r84ff8rWt/F6fMQtba833dx+rKfC03KzLPf4vT9R9R3cfr+\n",
       "I+q7OP02IOq3OP02IAJEhIgQESJCRIgIESEiRISIEBEiQkSICBEhIkSEiBARIkJEiAgRISJEhIgQ\n",
       "ESJCRIgIESEiRISIEBEiQkSIqK8RRfKIqIGwcFVE5CYSVjRsixARIkJEfdajyW7xUk7/1yjYSuZt\n",
       "XhDYcZHs5i1OPwvbKGRPFnLBoAgiQkSICBEhIkSEiBARIlpaiMqespciouQMP/91RKQJZ0uS9DsP\n",
       "FDk7AS1VRBKZ10v3m/OWsT0kL0VEikSJs8Qsu2EdnaHbUv4OESkySDHlzHmvFoEgGswgIibbgG54\n",
       "Y82NnQUIscZoLbjs8bg0EG0FeOX6a6wbQ/6V4Ell6dGpAqTvXdqI6L6FT1kzD6wuAMTHWO92L6Xk\n",
       "gojtpuuEiLfLrggiR6XNitf7p0bZSF4/teXSHi2m7PZ36o/3urdF0y6I2CJvM1407TMir3fhjUJ3\n",
       "1ryPHQ1PUVF5TGYgoZx5esroRA67B8s1l0V7Tr75onpQ2pS0iJcgks5Z8vYDXD8DQxMcRD61ReaL\n",
       "2uNtEalosQqY+/dahiJSf0uiYUXr++b622RYNBYzO8rtrKLFx4Wa6/5H9CbAQPYSc96zbFyk7F+L\n",
       "nT7sJY5yrWXGOvRzMo2FSJEeryGv/yxtRBHHWnRKbI7W9LhI+VmJAIyL4o4DhocEp7FNj4umAzIu\n",
       "glUO+SI70C6RJbULHPJFNgVfIojSDr9t8DIgIh8EESGiHkCkdPyIyM2LppcCov5fUmvdi/p+SQ2b\n",
       "a0SEiBARIgooIi9P7y/RAAeMamwoGNXouyAiRISIEBH2aL0+LsKKhogQESJCRIgIESEiRISIEBEi\n",
       "QkSICBEhIkSEiBARIkJEiAgRISJEhIgQESJCRIgIESEiRISIEBEiQkSICBFx5Lm+RnTxmC1rl9vn\n",
       "40X2Z+TNGwyZ6xp9S5Qm+WAiSryUs2bFXE3ZrvzJwxYvX8N2u1gIqBfFbIiG9V2DE/aPS6rTnYPF\n",
       "QiPVRi3PUwec7wqiRpFETSC6FuBt5ShspxBWtx56miFKb6rVvgJlJ0KYhd13mT5r1BKhW4Ott/pW\n",
       "/bDQPkSVVt3Jhig9wYxLnXiMV+Xe14/eIq9l35hlW1dRREPl9NrdNkR7M4qWZJYkf7IoSxX1w5VB\n",
       "QkT36yLGXQYXlcHmYXRzT7X6rIcRyCTfLYFUIohGIAkp8s+MSLp1BfEeqkWiO++OZhwRbQ8SIrlI\n",
       "jYvnIDUOx7XM17QDfb/BhQzsKUM4kYfE3QTRnnISPiSY0nmzFx0lVI5rjhaadUQUCRKiuQw1Lpyl\n",
       "Wy7rfdAOzXe0bZjT+TRtjReGspr9AzAPT5qaZA0R0/IAddBxHiKGPzUTIESHmHEy8Y4zECpbECXp\n",
       "p792Zx4W9u+jteYRZb9Kiii+JruvBId+YUfEtBykpSd4iHboo4LeRJR+47ylK76RGTdKEJ2FWMmC\n",
       "aID0+dKdv7odJpVg20uVXor1aNs+u85cYTRETMsxcjBUdUQEV/auF9nkambcYgkSX4LeXmuIwuRi\n",
       "D+Rgkbd7N6tjwxxETMsc6dYTXzgj2tlVRFu+X/aAaLmO6DzAoxZEIdL0yLP66Mg8ZKLNyfY4BxHV\n",
       "skhwpM85I4p0E1GkVvuCr9Cyua4SOzetVLQSDBEveoEhnpq6Y2rqHqaLdFhz5OMljjY2Ovzg93VN\n",
       "OiKqZbRo33/XiChabCMitvcOS3i79wCcrNU+F/puJXZuudZc0z2od3K8aO7Xp09nRDTpiKgWNhi3\n",
       "VzQdf4J2jb5tp2ydbkxrF5+dmXg5jbx5owMFEWl04tV6I2qqaKJTLR0R1TJHKnviK2cvipW6WNFW\n",
       "EAJuV/1Z89ubmHHxCYiO1btivUcjGdHvif06jo6IaWnUo4XKXUTUqKJZRiQHFeM2woWF+oBOHxeR\n",
       "kY20YdeheVFEJ8vqsPAZ2uc5j4s8rJR0tLlWrJ4xL48dY6NrWHZijaGb0RAxP4huukK0oq2eXD6r\n",
       "aHmQFsw6Izre3U7/U7elhrBleWywqC9j1CeXGiK2dT54aIt0Lc5zNEV3rrtDR9fR5GHL8pg602ey\n",
       "yjaN3doEolXuM/0djZc6u4tIGleXx/RVjgndOG2J0SB7vCNiWuK0jv0WHKexIpvwdgXRR+ppvmXM\n",
       "vE03jvN7XAMznhExLRGK4H7nJbVh6E1EQyczbG/lhGnFlJztiyoPjtONidti1MJduzYgOtKjiCBU\n",
       "goeV5THj8ojrIG4nNCP8OyDJev3O9iqiWJU0RdrymC4i99E8SpRehM3gi7TlDoiz0vui5EKqy2NB\n",
       "kbbcR3P+v8fpJHyyh/ei6z6iyN0QOOkwolgWETUeXSMiRISIEBEiQkSICBEhIkSEiBARIkJEiAgR\n",
       "ISJEhIgQESJCRIgIEbVJZJebqrJQyBkvz1awv5yn4uI8Yjf37R+TEREiQkRNIXJ7MqT3EenBsYU2\n",
       "IvJUUO6sUY1Ff0xtZR8h8mKUB23bxRC9t+meGbj5k3mepelbPr8NBiav8IzIVFDurFEetEUEvegk\n",
       "KZAs8Z0hReOU/tKEFxkLyp01yoM2gdBYZtcKUB8K5Fgaou83N4HIWFDurFEetAmExjK7PgXDc7wW\n",
       "S2WqI9sEImNBubNGedAmEBpL7aJRhDDiYOkx0kRJpSYQGQvKnTVKSNslDwHcIPKsMrUrReN9djlY\n",
       "erJgeJ7XCyJjQbmzRglpKz0O8YpI00btitBorbyDpRtA3QTIKyJjQbmzRoloS8xsYZHtjUNjqV2j\n",
       "WdZqSL/hWCr9j7VT0jurMzZEjrGxhoJK0KDcWaNEtEnwQxicFwmNpXY9NUsawXk4cMg6syDvYmdJ\n",
       "8l/iDtGcWZVrbGy9IIwCtBydW7Eb1bpPDlVZHFPj0NiK2mqkyMV+guNFrJ36N8hFFqTsoaKpBWGb\n",
       "fxVN2CghbeSaHwWR0FiGSO3zuYgqrBLGM54RKQU//vG/fEMkbJSQtnAWro5nBEJjWUUjzcxaB0Sx\n",
       "KsFHzymV84ZIK3iZf14kbJQY8GxiXUokNJbaFcrDewUHRPBNSK+hf/dmPPZoasGqf4iEjRLSJn3n\n",
       "8HsvioTGMrv+eSubwnIRpa55hI1pr/I8R2MFlT105M4a5WEgKhAaa7T0CZc1jQ/gdFOLIcns130e\n",
       "XcfyfiISCI0VRJReuX9zU4ii8//wGZGHeF8BbQKhsQZLP15xwtHSQWVw4h1R4qGCz4iGwU9ERzwh\n",
       "Csiq4xE/EOnBsdk+QuTFKH9lid4B6QgiN0FEiAgRmaXm6ckQwSc85B58MuT/DZ6YiXELznUAAAAA\n",
       "SUVORK5CYII=\n",
       "\" style=\"display:inline;vertical-align:middle;\" /></a><br>"
      ],
      "text/plain": [
       "phase_kickback_on_register_circuit: QCIRCUIT(([INPUT]{state:|+〉}, [INPUT]{state:|+〉}, ..(t - 3) ×.., [INPUT]{state:|+〉},[MULTI_QUBIT_ELEM]{element:[INPUT]{state:|u>, part:1}, targets:{t + 1 .. t + m}}, [MULTI_QUBIT_ELEM]{element:[INPUT]{state:|u>, part:2}, targets:{t + 1 .. t + m}}, ..., [MULTI_QUBIT_ELEM]{element:[INPUT]{state:|u>, part:m}, targets:{t + 1 .. t + m}}),([MULTI_QUBIT_ELEM]{element:CONTROL, targets:{t + 1}}, [GATE]{operation:I}, ..., [GATE]{operation:I},[MULTI_QUBIT_ELEM]{element:[GATE]{operation:U_{1}, part:1}, targets:{t + 1 .. t + m}}, [MULTI_QUBIT_ELEM]{element:[GATE]{operation:U_{1}, part:2}, targets:{t + 1 .. t + m}}, ..., [MULTI_QUBIT_ELEM]{element:[GATE]{operation:U_{1}, part:m}, targets:{t + 1 .. t + m}}), ([GATE]{operation:I}, [MULTI_QUBIT_ELEM]{element:CONTROL, targets:{t + 1}}, ..., [GATE]{operation:I},[MULTI_QUBIT_ELEM]{element:[GATE]{operation:U_{2}, part:1}, targets:{t + 1 .. t + m}}, [MULTI_QUBIT_ELEM]{element:[GATE]{operation:U_{2}, part:2}, targets:{t + 1 .. t + m}}, ..., [MULTI_QUBIT_ELEM]{element:[GATE]{operation:U_{2}, part:m}, targets:{t + 1 .. t + m}}), ..., ([GATE]{operation:I}, [GATE]{operation:I}, ..., [MULTI_QUBIT_ELEM]{element:CONTROL, targets:{t + 1}},[MULTI_QUBIT_ELEM]{element:[GATE]{operation:U_{t}, part:1}, targets:{t + 1 .. t + m}}, [MULTI_QUBIT_ELEM]{element:[GATE]{operation:U_{t}, part:2}, targets:{t + 1 .. t + m}}, ..., [MULTI_QUBIT_ELEM]{element:[GATE]{operation:U_{t}, part:m}, targets:{t + 1 .. t + m}}), ([OUTPUT]{state:((1 / sqrt(2)) * (|0〉 + (e^{2 * pi * i * varphi_{1}} * |1〉)))}, [OUTPUT]{state:((1 / sqrt(2)) * (|0〉 + (e^{2 * pi * i * varphi_{2}} * |1〉)))}, ..., [OUTPUT]{state:((1 / sqrt(2)) * (|0〉 + (e^{2 * pi * i * varphi_{t}} * |1〉)))},[MULTI_QUBIT_ELEM]{element:[OUTPUT]{state:|u>, part:1}, targets:{t + 1 .. t + m}}, [MULTI_QUBIT_ELEM]{element:[OUTPUT]{state:|u>, part:2}, targets:{t + 1 .. t + m}}, ..., [MULTI_QUBIT_ELEM]{element:[OUTPUT]{state:|u>, part:m}, targets:{t + 1 .. t + m}}))"
      ]
     },
     "execution_count": 51,
     "metadata": {},
     "output_type": "execute_result"
    }
   ],
   "source": [
    "phase_kickback_on_register_circuit = Qcircuit(VertExprArray(\n",
    "    [ExprRange(i, Input(ket_plus), one, t), \n",
    "     *multi_input_entries(var_ket_u, Add(t, one), Add(t, m), (one, m))],\n",
    "    ExprRange(i,\n",
    "              [ExprRange(j, ConditionalSet(\n",
    "                  Conditional(control_elem(Add(t, one)),\n",
    "                              Equals(i, j)),\n",
    "                  Conditional(Gate(I), NotEquals(i, j))),\n",
    "                         one, t).with_case_simplification(),\n",
    "               *multi_gate_entries(IndexedVar(U, i), Add(t, one), Add(t, m), (one, m))], \n",
    "              one, t).with_case_simplification(),\n",
    "    [ExprRange(i, Output(ScalarMult(frac(one, sqrt(two)), \n",
    "                                    VecAdd(ket0, ScalarMult(exp2pi_i(IndexedVar(varphi, i)), ket1)))),\n",
    "               one, t),\n",
    "      *multi_output_entries(var_ket_u, Add(t, one), Add(t, m), (one, m))]))"
   ]
  },
  {
   "cell_type": "code",
   "execution_count": 52,
   "metadata": {},
   "outputs": [
    {
     "name": "stdout",
     "output_type": "stream",
     "text": [
      "Removing phase_kickback_on_register_circuit from proveit.physics.quantum.circuits theory\n",
      "phase_kickback_on_register_circuit expression notebook is being updated\n",
      "These common expressions may now be imported from the theory package: proveit.physics.quantum.circuits\n"
     ]
    }
   ],
   "source": [
    "%end common"
   ]
  },
  {
   "cell_type": "code",
   "execution_count": 53,
   "metadata": {},
   "outputs": [],
   "source": [
    "# circuit_aUVc = Circuit(ExprArray(ExprRange(\n",
    "#         i, ExprTuple(Input(a_i), \n",
    "#                      ExprRange(j, MultiQubitGate(Uij, Rij), one, m),\n",
    "#                      ExprRange(j, MultiQubitGate(Vij, Sij), one, n),\n",
    "#                      Output(c_i)), \n",
    "#         one, k)))"
   ]
  },
  {
   "cell_type": "code",
   "execution_count": 54,
   "metadata": {},
   "outputs": [],
   "source": [
    "# circuit_aUb = Circuit(ExprArray(ExprRange(\n",
    "#         i, ExprTuple(Input(a_i), \n",
    "#                      ExprRange(j, MultiQubitGate(Uij, Rij), one, m),\n",
    "#                      Output(b_i)), \n",
    "#         one, k)))"
   ]
  },
  {
   "cell_type": "code",
   "execution_count": 55,
   "metadata": {},
   "outputs": [],
   "source": [
    "# print(circuit_aUb.latex())"
   ]
  },
  {
   "cell_type": "code",
   "execution_count": 56,
   "metadata": {},
   "outputs": [],
   "source": [
    "# circuit_bVc = Circuit(ExprArray(ExprRange(\n",
    "#         i, ExprTuple(Input(b_i), \n",
    "#                      ExprRange(j, MultiQubitGate(Vij, Sij), one, n),\n",
    "#                      Output(c_i)), \n",
    "#         one, k)))"
   ]
  },
  {
   "cell_type": "code",
   "execution_count": 57,
   "metadata": {},
   "outputs": [],
   "source": [
    "# from proveit import i, U"
   ]
  },
  {
   "cell_type": "code",
   "execution_count": 58,
   "metadata": {},
   "outputs": [],
   "source": [
    "# U_j = IndexedVar(U, j)"
   ]
  },
  {
   "cell_type": "code",
   "execution_count": 59,
   "metadata": {},
   "outputs": [],
   "source": [
    "# Circuit(ExprArray([ExprRange(i, Input(a_i), one, k)], \n",
    "#                    ExprRange(j, U_j, one, m)),\n",
    "#                   [ExprRange(i, Output(b_i), k)])"
   ]
  },
  {
   "cell_type": "code",
   "execution_count": 60,
   "metadata": {},
   "outputs": [],
   "source": [
    "# circuit_B = Circuit(ExprArray(ExprRange(\n",
    "#         i, ExprTuple(ExprRange(j, Bij, one, m)), \n",
    "#         one, k)))"
   ]
  },
  {
   "cell_type": "code",
   "execution_count": 61,
   "metadata": {},
   "outputs": [],
   "source": [
    "# print(circuit_B.latex())"
   ]
  },
  {
   "cell_type": "code",
   "execution_count": 62,
   "metadata": {},
   "outputs": [],
   "source": [
    "# circuit_D = Circuit(ExprArray(ExprRange(\n",
    "#         i, ExprTuple(ExprRange(j, Dij, one, m)), \n",
    "#         one, k)))"
   ]
  },
  {
   "cell_type": "code",
   "execution_count": 63,
   "metadata": {},
   "outputs": [],
   "source": [
    "# # THIS WILL BE CORRECT WHEN WE CHANGE TO COLUMN-MAJOR ORDER\n",
    "# circuit_ABCvert = Circuit(ExprArray(ExprRange(\n",
    "#         i, ExprTuple(ExprRange(j, Aij, one, l), ExprRange(j, Bij, one, m), ExprRange(j, Cij, one, n)), \n",
    "#         one, k)))"
   ]
  },
  {
   "cell_type": "code",
   "execution_count": 64,
   "metadata": {},
   "outputs": [],
   "source": [
    "# # THIS WILL BE CORRECT WHEN WE CHANGE TO COLUMN-MAJOR ORDER\n",
    "# circuit_ADCvert = Circuit(ExprArray(ExprRange(\n",
    "#         i, ExprTuple(ExprRange(j, Aij, one, l), ExprRange(j, Dij, one, m), ExprRange(j, Cij, one, n)), \n",
    "#         one, k)))"
   ]
  },
  {
   "cell_type": "code",
   "execution_count": 65,
   "metadata": {},
   "outputs": [],
   "source": [
    "# circuit_A_detailed = Circuit(ExprArray(ExprRange(\n",
    "#         i, ExprTuple(ExprRange(j, MultiQubitGate(Aij, Rij), one, m)), \n",
    "#         one, k)))"
   ]
  },
  {
   "cell_type": "code",
   "execution_count": 66,
   "metadata": {},
   "outputs": [],
   "source": [
    "# circuit_B_detailed = Circuit(ExprArray(ExprRange(\n",
    "#         i, ExprTuple(ExprRange(j, MultiQubitGate(Bij, Sij), one, m)), \n",
    "#         one, k)))"
   ]
  },
  {
   "cell_type": "code",
   "execution_count": 67,
   "metadata": {},
   "outputs": [],
   "source": [
    "# permuted_Aij = IndexedVar(A, [Function(P, i), j])"
   ]
  },
  {
   "cell_type": "code",
   "execution_count": 68,
   "metadata": {},
   "outputs": [],
   "source": [
    "# permuted_Bij = IndexedVar(B, [Function(P, i), j])"
   ]
  },
  {
   "cell_type": "code",
   "execution_count": 69,
   "metadata": {},
   "outputs": [],
   "source": [
    "# permuted_Rij = Function(Q, IndexedVar(R, [Function(P, i), j]))"
   ]
  },
  {
   "cell_type": "code",
   "execution_count": 70,
   "metadata": {},
   "outputs": [],
   "source": [
    "# permuted_Sij = Function(Q, IndexedVar(S, [Function(P, i), j]))"
   ]
  },
  {
   "cell_type": "code",
   "execution_count": 71,
   "metadata": {},
   "outputs": [],
   "source": [
    "# permuted_circuit_A = Circuit(ExprArray(ExprRange(\n",
    "#         i, ExprTuple(ExprRange(j, MultiQubitGate(permuted_Aij, permuted_Rij), one, m)), \n",
    "#         one, k)))"
   ]
  },
  {
   "cell_type": "code",
   "execution_count": 72,
   "metadata": {},
   "outputs": [],
   "source": [
    "# permuted_circuit_B = Circuit(ExprArray(ExprRange(\n",
    "#         i, ExprTuple(ExprRange(j, MultiQubitGate(permuted_Bij, permuted_Sij), one, m)), \n",
    "#         one, k)))"
   ]
  },
  {
   "cell_type": "code",
   "execution_count": 73,
   "metadata": {},
   "outputs": [],
   "source": [
    "# %end common"
   ]
  },
  {
   "cell_type": "code",
   "execution_count": null,
   "metadata": {},
   "outputs": [],
   "source": []
  }
 ],
 "metadata": {
  "kernelspec": {
   "display_name": "Python 3",
   "language": "python",
   "name": "python3"
  },
  "language_info": {
   "codemirror_mode": {
    "name": "ipython",
    "version": 3
   },
   "file_extension": ".py",
   "mimetype": "text/x-python",
   "name": "python",
   "nbconvert_exporter": "python",
   "pygments_lexer": "ipython3",
   "version": "3.7.3"
  }
 },
 "nbformat": 4,
 "nbformat_minor": 1
}
