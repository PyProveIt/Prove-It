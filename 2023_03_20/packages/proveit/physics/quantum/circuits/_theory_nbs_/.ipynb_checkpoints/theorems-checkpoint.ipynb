{
 "cells": [
  {
   "cell_type": "markdown",
   "metadata": {},
   "source": [
    "Theorems (or conjectures) for the theory of <a class=\"ProveItLink\" href=\"theory.ipynb\">proveit.physics.quantum.circuits</a>\n",
    "========"
   ]
  },
  {
   "cell_type": "code",
   "execution_count": 1,
   "metadata": {},
   "outputs": [],
   "source": [
    "import proveit\n",
    "# Prepare this notebook for defining the theorems of a theory:\n",
    "%theorems_notebook # Keep this at the top following 'import proveit'.\n",
    "from proveit import defaults\n",
    "#defaults.automation = True # Hack for ExprRange simplification to go through\n",
    "\n",
    "from proveit import a, b, i, j, k, l, m, n, p, t, A, B, C, N, P, Q, S, U, X\n",
    "from proveit import Function, Lambda, ExprRange, var_range, IndexedVar, VertExprArray\n",
    "from proveit.core_expr_types import (\n",
    "    a_1_to_k, b_1_to_k, c_1_to_k, i_1_to_m, j_1_to_m, n_1_to_m,\n",
    "    A_1_to_j, A_1_to_m, B_1_to_k, B_1_to_m, B_1_to_n, C_1_to_l, \n",
    "    D_1_to_m, U_1_to_i, U_1_to_m, V_1_to_j)\n",
    "from proveit.core_expr_types.expr_arrays import (\n",
    "    A11_to_Akl, A11_to_Akm, B11_to_Bkl, B11_to_Bkm, B11_to_Bkn, \n",
    "    C11_to_Clm, C11_to_Ckm, D11_to_Dkn,\n",
    "    R11_to_Rkm, S11_to_Skm, S11_to_Skn, T11_to_Tlm, T11_to_Tkm, U11_to_Ukn, V11_to_Vkm,\n",
    "    A11_to_Akl_varray, B11_to_Bkl_varray)\n",
    "from proveit.logic import (And, Implies, Iff, Forall, Equals, NotEquals,\n",
    "                           Set, InSet, SetOfAll, EmptySet, InClass,\n",
    "                           Bijections)\n",
    "from proveit.numbers import (\n",
    "    Natural, NaturalPos, Interval, Abs, Mult, Exp, sqrd, zero, one, two, exp2pi_i)\n",
    "from proveit.linear_algebra import ScalarMult, MatrixMult, TensorProd, Unitary\n",
    "from proveit.statistics import Prob, ProbOfAll, prob_domain, SampleSpaces\n",
    "from proveit.physics.quantum import (\n",
    "    QubitSpace,SPACE, var_ket_psi, varphi, nk_ket_domain, m_ket_domain, var_ket_u, \n",
    "    normalized_var_ket_u, var_ket_v, Z, m_bit_interval, \n",
    "    var_ket_psi, l_ket_domain, m_ket_domain, normalized_var_ket_psi,\n",
    "    RegisterU)\n",
    "from proveit.physics.quantum import (\n",
    "    Qmult, Ket, Bra, NumKet, NumBra)\n",
    "from proveit.physics.quantum.circuits import (\n",
    "    Qcircuit, QcircuitEquiv, Gate, MultiQubitElem, Input, Output, Measure,\n",
    "    multi_input_entries, multi_output_entries)\n",
    "from proveit.physics.quantum.circuits import (\n",
    "    unitary_gate_op, qubit_meas, register_meas,\n",
    "    circuit_Am, circuit_Bn, circuit_Bk, circuit_Dm,\n",
    "    circuit_AjBkCl, circuit_AjDmCl,\n",
    "    circuit_aUb, circuit_aU, circuit_Ua, circuit_Ub, circuit_b,\n",
    "    circuit_Akl, circuit_Bkl,\n",
    "    circuit_Akm, circuit_Bkm, circuit_Bkn, circuit_Ckm, circuit_Dkn,\n",
    "    circuit_permuted_Akm, circuit_permuted_Bkn,\n",
    "    circuit_AkClm, circuit_BkClm, no_1tok_in_Ts,\n",
    "    circuit_compressed_inputAm, circuit_compressed_outputAm,\n",
    "    circuit_expanded_inputBm, circuit_expanded_outputBm,\n",
    "    input_Ak_nk, output_Ak_nk, N_0_to_m, N_m, each_Nk_is_partial_sum,\n",
    "    consolidated_input_A_1_to_m, consolidated_output_A_1_to_m,\n",
    "    circuit_Ui_psi_m, circuit_psi_m_Vj, circuit_Ui_Vj,\n",
    "    circuit__u_Akl_v, circuit__psi_m__u_Akl_v, circuit__u_Akl_v__psi_m,\n",
    "    phase_kickback_circuit, phase_kickback_on_register_circuit\n",
    "    )\n",
    "#from proveit.physics.quantum.circuit import CircuitEquiv\n",
    "#from proveit.physics.quantum.circuits import (\n",
    "#    circuit_aUVc, circuit_aUb, circuit_bVc, \n",
    "#    circuit_A_detailed, circuit_B_detailed, permuted_circuit_A, permuted_circuit_B,\n",
    "#    circuit_B, circuit_D, circuit_ABCvert, circuit_ADCvert\n",
    "#)"
   ]
  },
  {
   "cell_type": "code",
   "execution_count": 2,
   "metadata": {},
   "outputs": [
    {
     "name": "stdout",
     "output_type": "stream",
     "text": [
      "Defining theorems for theory 'proveit.physics.quantum.circuits'\n",
      "Subsequent end-of-cell assignments will define theorems\n",
      "'%end theorems' will finalize the definitions\n"
     ]
    }
   ],
   "source": [
    "#defaults.automation = False # Hack for ExprRange simplification to go through\n",
    "%begin theorems\n",
    "#defaults.automation = True # Hack for ExprRange simplification to go through\n",
    "#print(\"We need automation to simplify ExprRanges in Qcircuits\")"
   ]
  },
  {
   "cell_type": "markdown",
   "metadata": {},
   "source": [
    "### MultiQubitElem unary reduction"
   ]
  },
  {
   "cell_type": "code",
   "execution_count": 3,
   "metadata": {},
   "outputs": [
    {
     "data": {
      "text/html": [
       "<strong id=\"unary_multi_qubit_elem_reduction\"><a class=\"ProveItLink\" href=\"proofs/unary_multi_qubit_elem_reduction/thm_proof.ipynb\">unary_multi_qubit_elem_reduction</a> (conjecture without proof):<br></strong> <a class=\"ProveItLink\" href=\"../__pv_it/theorems/abf8178e5b69d2a1b8cc4e1adef03600224d2ee30/theorem_expr.ipynb\"><img src=\"data:image/png;base64,iVBORw0KGgoAAAANSUhEUgAAAQoAAAAmBAMAAADO/MgDAAAAMFBMVEX///+IiIgiIiIQEBB2dnbu\n",
       "7u5ERETMzMzc3NwyMjK6urpmZmaYmJiqqqpUVFQAAAB6qHgnAAAAAXRSTlMAQObYZgAAAAlwSFlz\n",
       "AAAOxAAADsQBlSsOGwAAAvxJREFUWMO9mM9rE0EUx79NNtnETZp6VIsNQcGD+AslQtQGbA8i4hrB\n",
       "S8EU/EEOiqEHwUsTEfRQaNJDioeKBf8AAwqVgqAIFU/uqSehBZGil6TG/qBpqLub7M46dLITgvNO\n",
       "w8zszuf75r2Ztwsw7D3EmK/UZlBZFkSBMZU99kUUBEJsvfKZNs/t8Bkvxn3mSDDZ5rEq18sjvBTX\n",
       "mVuypIqjYIfgIYijCGyywmJNIAVuM/p7R0VSfGK94UN3FNmOKAoazND4RvXn8t1QhD9HOSgWdk4i\n",
       "VXuhtzxlzBs9z6kZX9EFhZwZWebxRUVDOGMmSRHjRpTSYfDTnYJIoc2jKnEeitwoJsxGTxVB/WSQ\n",
       "NGrCBQ5f2FJoW4RngYciuOlrnhThDYT0QAzSE/5wUNhSaHuLpwUeilD9ZmsLG8CpWOw0PWGbg8KW\n",
       "QttR9KfzPDky+KN1uevLzQF36NOswUFhS6HtHErp2V0plJhpFvzVvlZjFZhEQO8OP8jg+wqIi9xz\n",
       "xJICjOydx6PE44PNtzYQjWg8vqhESQD4VUknh7eMd9bwnq1dDjJyZVcpKfIR+PtwTJObF0IjnDQp\n",
       "3O54ZdJapq57oc8Mzp41yb5H+XxhS/EkIW/glhVO28osY0f+tTl5nVCg+NFsJobREQWRktMMp941\n",
       "99eICw8KHHEhZXE8b8cFrjTrz4EsiU6eHCFSlvQ11wnF1Dhyqrsv9utHdJKk5JMm28UyqYtX3Skc\n",
       "Ugxf1AnF5X68cj8vbugEkTWSkr2mE6Rrjpoi4U7hkKIHth7PNsVYCUOuFA8H45Bf/jaVyyQZhp1L\n",
       "T7tSOKRAjht16rRFoUR9hzu62cO2fkXFAKk137hROKUAE0O/MF5bWayZexuaOqB2RCFZyTYSU32V\n",
       "GXKzq13c7FK+w1rLzyh/05rIio9V2fnLIileMyq70AmRFJdYH9JbIinOd4r3Pyh6mI73ZsV9LXuZ\n",
       "qRAqCvtzgH3soRlhEIGz7LFUXhRFqs3ZFCiJorjXbvCZqL9rRrn5F3swOufSNkUtAAAAAElFTkSu\n",
       "QmCC\n",
       "\" style=\"display:inline;vertical-align:middle;\" /></a><br>"
      ],
      "text/plain": [
       "<IPython.core.display.HTML object>"
      ]
     },
     "metadata": {},
     "output_type": "display_data"
    }
   ],
   "source": [
    "# for use in reducing a MultiQubitElem to a gate within a Circuit.\n",
    "unary_multi_qubit_elem_reduction = Forall(\n",
    "    X, Equals(MultiQubitElem(X, EmptySet), X))"
   ]
  },
  {
   "cell_type": "code",
   "execution_count": 4,
   "metadata": {},
   "outputs": [
    {
     "data": {
      "text/html": [
       "<strong id=\"unary_multi_gate_reduction\"><a class=\"ProveItLink\" href=\"proofs/unary_multi_gate_reduction/thm_proof.ipynb\">unary_multi_gate_reduction</a> (conjecture without proof):<br></strong> <a class=\"ProveItLink\" href=\"../__pv_it/theorems/69e1ba6955a39125a65e17d43ee2de6220a3118b0/theorem_expr.ipynb\"><img src=\"data:image/png;base64,iVBORw0KGgoAAAANSUhEUgAAAjUAAAAmBAMAAADO5ne3AAAAMFBMVEX///+IiIgiIiIQEBB2dnbu\n",
       "7u5ERETMzMzc3NwyMjK6urpmZmaYmJiqqqpUVFQAAAB6qHgnAAAAAXRSTlMAQObYZgAAAAlwSFlz\n",
       "AAAOxAAADsQBlSsOGwAABblJREFUaN7dmn9oE1ccwL9p7nqXXtJmbMhkW61xA0dA6ia0qJOAbqwO\n",
       "8TZlf0xmCs4ydKXZ9tf+mL1ScYjMBqZSLOvyx4Y41GSwKVroWgqD/YCl4Kwb0kQ26jbs2tnWtrZZ\n",
       "9n5cYu7ycrl4iZA8CMl938v7vve5732/3/dNABgtllwGM02KQuU1/iTZWjIpM7vHTU4zmLurLvkw\n",
       "WkngvEeh2C2xcQYN2DyMW1waJc54Edi8L1ckG2gvApsTUJlsdsmW2bjmypSNzhdOZ4WYuGU2Vb5y\n",
       "ZaO9zGIjLlhm0ylXKBt4yzKbiRK6Av5Lw+6PlZKyGbHMZtmMfjH4QMtf+YVhtzAhl5JNT5SyIX7n\n",
       "hp5NLXG2Q4brWzCj3zFtvMlncrp5fl8Dy6CotDpeSjZVEcrmCr7o1bORQnhfimGKNG1Gf4w9iqNv\n",
       "ey+zYx2HATgirC4qJQMsszmag40UpGwOYcNv1bMR8H05YqihNmhG/yDbuo6p7zYDNnXM0xqVFofN\n",
       "ZznY2KYpGwd6crlolr/BB64dhhrscRP6ucPzzO4nTLAJM50hlRaFjSuZg41rnrJxIqfiyPbFP6E3\n",
       "Yzda5zOhv8uWYLqZJRNstjK7tkLR2EhTCpuNkFDj1HMez4ZsNnaPZ43PWMOQCf0RF41mZzf8OIjG\n",
       "Dz/2Ipxdf7V3/M4/UQ2bPY9cgQ82ddW7M9j0w9Vvsiem0qKweXlngM2GX1bZXALYTyRyJhspANUM\n",
       "m/bpAl0e/TVRYZZePx/iveBqhssAm64vg1drN8JaqHbDumgq9mFnyC+7rm9mLJtIbY052Ege0sw8\n",
       "76J7VZTNBv5V2RwHkczEN2WyQbLjjGkzQkenCTYSiP+lbjfEQohNWAEPugs6Nuj4IczDvnTO1I1s\n",
       "zLVwXujNdgVUKias240EsaEcbGZVNtUyFyJ2nNDkfvthO4rTq1MpnHc7jMQ1bMKh7Dn1ZacVA4N3\n",
       "aU8fgB99+Y2dCsakZ4M5z0IbvWHodp3GS98cYOwrJd37qfbQWNAJkwrOQ6dPu+g0pSWVjctNXfGZ\n",
       "9Ro2o8QVb8SX704cgHFOluRC7YZH7uNOmk1dK+yZjCn4o55NDHG+e5+NcBGpquq7xDrgqtKWkGW7\n",
       "iUBPPIfdpNhAcJhcu/s1bBxOtDERf0/Cq7nhjnDwyoB3IFQAGwm91mTYjWsjdCqk7ONVPVeG3Szd\n",
       "Z0PSXn80zDAcVUrrI5b8je3gwFRrHn8DO0jx2IbdZAYb7lfU52zt8sGTWDT2Wxen9Tc9+ePUuXR+\n",
       "RfxNoC4C4Y+UEwSVho09AjX3MtjgMPSz7I+6s+ZVpVyjZX/zKvrQkINNKk5BN4F8Bh7VsBG34Nz3\n",
       "8V+aeQJ3jHvzcy0bvzuffhFvoIMePD5R+KcBsVn1oYKfpxaVDUcDk9AEDh+c0rD5C/wBMohfxNrU\n",
       "ZEuVFiGGo61UNbLZiKn8BmqJ6X69bUrWnMNv4f6nIFBD7GMMIiu0bOyRPPr5jkUZriVp5bR/uD4E\n",
       "ws3R3asvzEwinX8QZbW/L96mZ4htf8OhmVvXZuJpNu1g+4quyJs6/kFaap0N3hY9CDNyv3uaGoUN\n",
       "PSSBrBpFz0AAnKfa2toRm90ObX7jaC2kftNX0Oq5BlMDrLDpxm5tIceZYU7D5lzm2S7N5ruaBkXw\n",
       "UbupGdV5vcZyZvN68iS4OhZ9TDZk9jQbaQvw357OYnNTaPDRrPkHgHpdjWKuEDbrClq9rTHPAFJF\n",
       "KFn9hlSH8tX93obbATiCnjXhWYXWuzKy90QB+i/M/FnI6sVEngG7hkrJhhwVTdVE+ZfaDrBGHSxh\n",
       "vfjYpGH34cmS1ovDitV68UgJ2TzQJovGpgWssvGHKpXNC5bZcMFyZZPnd00aCaz9Ht5UpmzyNXvU\n",
       "OpvvK5TNSrDOxjFk2m7L6b9JYnMR2PBroRLba1EjNmb/73dUrkQ275DEO9f//UxbX6AC0fDp1OR/\n",
       "BW7CGifZa2AAAAAASUVORK5CYII=\n",
       "\" style=\"display:inline;vertical-align:middle;\" /></a><br>"
      ],
      "text/plain": [
       "<IPython.core.display.HTML object>"
      ]
     },
     "metadata": {},
     "output_type": "display_data"
    }
   ],
   "source": [
    "unary_multi_gate_reduction = Forall(\n",
    "    A, Forall(\n",
    "        k, Equals(MultiQubitElem(Gate(A, part=one), \n",
    "                                 Interval(k, k)),                   \n",
    "                  Gate(A)),\n",
    "        domain=NaturalPos))"
   ]
  },
  {
   "cell_type": "code",
   "execution_count": 5,
   "metadata": {},
   "outputs": [
    {
     "data": {
      "text/html": [
       "<strong id=\"unary_multi_input_reduction\"><a class=\"ProveItLink\" href=\"proofs/unary_multi_input_reduction/thm_proof.ipynb\">unary_multi_input_reduction</a> (conjecture without proof):<br></strong> <a class=\"ProveItLink\" href=\"../__pv_it/theorems/69d0a4882dab727f32db291b43147f3c129e3a820/theorem_expr.ipynb\"><img src=\"data:image/png;base64,iVBORw0KGgoAAAANSUhEUgAAAjAAAAAmBAMAAAAoz7zzAAAAMFBMVEX///+IiIgiIiIQEBB2dnbu\n",
       "7u5ERETMzMzc3NwyMjK6urpmZmaYmJiqqqpUVFQAAAB6qHgnAAAAAXRSTlMAQObYZgAAAAlwSFlz\n",
       "AAAOxAAADsQBlSsOGwAABhBJREFUaN7dmn9oG2UYx59r7nqX5i69yYbOylbLRKEgqU4sbpbAqFBh\n",
       "erNj4K/lhjMKWgyd/7Y73FBkdA2sQrE4TkVwwy3d2O/KTB1zTv8wYsHhZE1xDAWr1Vns1pb6vu+9\n",
       "ueSae69pkj/kXmjueJ437733ued93u89DQCrjS/MQSktlAH/NOE9cvhiYZrd51qJY50HP7VuzTo+\n",
       "UjEYOekrMHK2WmB2ab4CA13VAjPgLy7QqVUHjDLtMzChbHXA1ER9BkaaqQ6Y3T5LMQA7qwPmBoO7\n",
       "fZYoU1Ac9nT3GWXetv09kdXjQnXAMEQgb+bOXinvBlZ/4ukWb5QZqU/mTmpZT6w/Y4EhueZndzBM\n",
       "X36CM55gVICr3hMV72PmdOGlRrdQsqy12UrAcOgKw6ysOWyBOYcPg+5gmL68HpryBIMycw2jg3XY\n",
       "ftZ9V+Px3Qdd525Z+cZKwOCrswYIJS0wvTgj6O5gmD67hZNeYAQUMbz7q9Q+euQ8wNS7ftWyVgZm\n",
       "C/rbzOjBTVlgghpj8ggM02e3QNYLjJJggm0oAUzKNY9Y1srA/Ij+3mYps38tMHIaAWAkX6Yv//ii\n",
       "XmB45lIUZ0sAs8nVtQkqB4NnHWRsbOI83ZUeampaz9qVWL48mDQTzJbPEZg7AMaI4dD6b8+jvqMr\n",
       "2+FQy9jgtb//yDjACMcaTPHAmRUTBWAOwtjJ4qEta/lghIY0RLlGUBjPVJijYE4DvAxA81zICcby\n",
       "MRJnfm9zBRP9AV6AtVou+z5sCs2gtMJZgA1X5qB5UcR0G7ADaiZht2FnQGFOubLRZd7EykVYubOJ\n",
       "tCwTDK9EhDS+LAvtXxTMfpDQKCQTpEHOOMBYvqJrFwhfJhgxcxy+hgDqbdIHDeMmApMyoAm0IjDr\n",
       "0FiJ2kguBPeggzJzRCxeh9QqzZcbMT2hRtmACN1zXdo/FEythhOCTmWH7gBj+b5UqemtE6bc5gCT\n",
       "MllgBGhBSxl1FS20QwAxFJbPPW1gRovB4IVdH63VoZ5ca//7mP9GNw2Ws27/AH8u2G2qVDBaQOXJ\n",
       "CullDDBLwSgqzq8YiIQe/xkHGMsXwHcvrombSrYdTpYYMVijRfG+SNcyAlOvw/OT4wY+XQxGuY3d\n",
       "NhjxFNp6aoZOu+kvau0wy02+4xpPhMQYo0sODCRHCZgPs7J2v60v6CsB8fXjsxH0oJTREET5keMj\n",
       "50oAE0oi0Kvs7E8iRnkMJ5EBAiZaFDHDNhgibGOZlEvIUCuz3LFkjkFZrg84ja1cczkGNuMCsC6o\n",
       "0xx0Qa0TDPF9Ja0EDq99pedTNeqImH72rhTSZa3OtPUCzjGJ+mFIvWMMEE4OMLABL8s8GLzpfKfF\n",
       "MmrRyNTKR8rerk/BRTjsoVxzuxLswXR16cVGDi6BknaAIb6Jvk5jmyXY2n9ygompTDB1rTx8k1eY\n",
       "BwxhHQoKWNtj4GXUQcHw9GVrVwIFUtAB5jeIJUgn4Ra+EtXY1FqBjvnYiMomW7lKOR0D4QRZSmG1\n",
       "D01WjDrAEF9LRoTPLDAhTneACQyzBV7vEyuM/DvJwdE1JogT32+99+jNSTTwdSJgw7/c+t2azomn\n",
       "TPHPtp432mwwXcAds7Rvs/1uZ1srACNe33EXMF/iQLztKDvoUGNelNIQMorKDtIsSneX4/F4RkkI\n",
       "0aRDxwR1D+XbQ2DSGxpa1vyXvO9KlK9IYuWqZ7G2AExYVfcCbCuux8j6RxK8Sd99jjjXTijiAWYV\n",
       "SaPG/w4MR+LwVc+RC8AIIztRfrm7GExY7eaRosGITOCc6V6e9gBDVuWz1PLgsubPLZVbQ8nywZCI\n",
       "F1gDWJWeAjBExiwSeFZPI3wJJFyJ6x6kxau8QJ/3AEOC6x7LcPTmr8sqSS8lbDvTFUQMQZ/2fP0r\n",
       "BCOjoKhTWaXNrfG4m6R6jfHEbQVSZqVt36Sne+9kmTXfO+11wOqRMhaDwSDD2jJrvhfAb63DWQyn\n",
       "KVJYbjE8ZvoNzONOMO71mBK2j6TPuNC0X/n/rh/1GZhApkpgLvsMzGqoEphg2ldcpNZqgREe8BWY\n",
       "ZzJLgin1N3jv+urf+q+TT8/f4JUcfAkfcRFs9fEfZdjHBjvxfowAAAAASUVORK5CYII=\n",
       "\" style=\"display:inline;vertical-align:middle;\" /></a><br>"
      ],
      "text/plain": [
       "<IPython.core.display.HTML object>"
      ]
     },
     "metadata": {},
     "output_type": "display_data"
    }
   ],
   "source": [
    "unary_multi_input_reduction = Forall(\n",
    "    var_ket_psi, Forall(\n",
    "        k, Equals(MultiQubitElem(Input(var_ket_psi, part=one), \n",
    "                                 Interval(k, k)),                   \n",
    "                  Input(var_ket_psi)),\n",
    "        domain=NaturalPos))"
   ]
  },
  {
   "cell_type": "code",
   "execution_count": 6,
   "metadata": {},
   "outputs": [
    {
     "data": {
      "text/html": [
       "<strong id=\"unary_multi_output_reduction\"><a class=\"ProveItLink\" href=\"proofs/unary_multi_output_reduction/thm_proof.ipynb\">unary_multi_output_reduction</a> (conjecture without proof):<br></strong> <a class=\"ProveItLink\" href=\"../__pv_it/theorems/a6e6e9f67ded206cf22711ed4ebb2f41c906b2ef0/theorem_expr.ipynb\"><img src=\"data:image/png;base64,iVBORw0KGgoAAAANSUhEUgAAAjAAAAAmBAMAAAAoz7zzAAAAMFBMVEX///+IiIgiIiIQEBB2dnbu\n",
       "7u5ERETMzMzc3NwyMjK6urpmZmaYmJiqqqpUVFQAAAB6qHgnAAAAAXRSTlMAQObYZgAAAAlwSFlz\n",
       "AAAOxAAADsQBlSsOGwAABclJREFUaN7dmn+IG0UUx98mu8nmx+b2qEXtUQ2HoCJILIpF67mc3h9V\n",
       "W+NV+ocgl0KNglbD1T8UuWuwIqicF7gKpQVdf/whojRqq70evaaWevS/QAWLWpuCCNW2V8HzYq/H\n",
       "OTM7u5fZH5fJJn/IPkg2zBs23/3MmzdvJgHwsnNL14DHElUIjknvkcuxpTnvPr9y3msagmTDWeN6\n",
       "T9tgkqVAgUnWOgVmZzZQYGBHp8DsCRYX2JLtDBhlLmBgErXOgAlpAQMj1zsDZlfAUgzA9s6A+b1p\n",
       "j6L5IepT6VP6iiN8xudtvXSd6AyY5kXgI+aHSMHXAwj7Vg7K0Wf8gfHSNV41wJBc84s7GE+fZdE6\n",
       "pwAB5ekyX21lr8BR89Z1bh7a+mI7YJy6QmUDzBF82esOxtO3XA9d4RQgolfavYORvqU/P3AH04/f\n",
       "9ru69i938AvGqStRMsCM4nmacwfj6bMsVeIU8AR6bXJPEuaA3bwCmEVX12L7YJy6hCsGmBiSI1bd\n",
       "wXj6LAvXOAX8iF5vuucQDjBx12qJtrYFxqlLmTfAJCsIgEfy9fRZ1qVxCsD9YkXXBZ8DjJhx89DW\n",
       "tsA4dUUX6aq0rrf3bq9Vycu3DKbCIUDqqYAmpEEhFOMTj01dRNC7H87GJ9ZuHJu98xIDRvqyR49O\n",
       "HO4+3wAmVlMedWKjrb7BsLqsk4drFMy3AGjBo8OWYMEYPsdI2de2JgJEJSNVhDkzy4Xvg8EynC6i\n",
       "LBc+Ol4J2SJmuAjbIHQJdtFxnESvocrZ3c4hoK2r2NzZS6zWui7T/qJg3gUZ3YWk2AokqwwYw+fY\n",
       "TjTMAx4wI4l0sggZusqhgQblKgITr0MoLYEdzC3oroVIxgxGeQNest+uvuqch7R1vOozYmy6TPub\n",
       "golkRZ2CUenVAmP4vlNp0+sH9WQfA+aAS1XatWSZISAbVkUSk6MGmDJICyhkP6ljRnYweIp3aZEc\n",
       "dJFvlS/gb/h6xu3RaKt0gY9MM12mLVAwiorzKwYioy84zIAxfGGsLXpTXldqA3Co9YhBNZoIEnrO\n",
       "H0ww8A9I02fr5KMNDAom6MpZYOA1PJdvn3KrmmmruM9v8mV12cFA6TgB82Etmb0V3mG3BMQ3jj9h\n",
       "EcrxBGji1FdTR1oDMwljIGTNWtGImNM6qppjGgYjOiKmvAwGF7bSYnzeeWOz9VzWZ46x6bLnGNiE\n",
       "D4BzkjonwA6IsGCI73v5OhDwjFdGPlU1JmLGeVYl+AZOwmdWrYhzzDwal3j9FQwmxoKB+/EEbQCD\n",
       "Fp3knLQoOKtu2vqQ7+Wa1cVs/zCY3ZhuTn46LcAMKBUGDPGdH9tS3ErCvDDwEwtmSOUR8HFRS+pW\n",
       "rRhbD4MaAiPMn8HTSCxRMI8b6XVnAfZAjAGTKknzRqchVGlL/5pVt9Hqv45hdZmVuFnHQKpAplJK\n",
       "HUPlTlRjwBDfXdUofG6ASQg5Bky4zCMg+tu2G/D2jJYfF7v/QAlv7er+NbN9SNPlAdJ8+cH3yaDI\n",
       "Bzfr0dm+kZf6LDCRKvSsXt7h3UF3xbTVPxhWl1ngXWWOHXIQ0k/KFUgUHccO8gIqZ07l8/mqUpC0\n",
       "ElPHxHJcFWaUjMnPYCXfFqy/7Q6cupjD2gYwKVV9A23lnecxydxHMrxsRAx8wc6dRIZLgEDSx3P/\n",
       "OzCMLrN8TdvASFPbUSivcYJJqcMiqmgwIh2Emi0BcgkgMSbRnXio1tIDrGrWYdI/GEaXeW5Vs4Eh\n",
       "ZYytwDN6FlMzID+Lq/W99PCqYcnkGxmyjTbyeny2r9jKAzQrbKUNbURMgy52+9cIJomCIq56HW0+\n",
       "mc+7nb0+31TA9Vbk+XsAeXpFMvJmn7+de+k6ULSDwfhS2RbPfE9A0GwjexhOo1tq9TB8SA8amAdY\n",
       "MO7nMc1NLAWMi5DpDBi4N2BgwtUOgTkVMDA3QofAxCqB4iKv7xQY6bZAgRmsNgXD+x+8twL1s/4L\n",
       "5H3F/+BxB18hQFwkq/r4D1wBwLJQfyqmAAAAAElFTkSuQmCC\n",
       "\" style=\"display:inline;vertical-align:middle;\" /></a><br>"
      ],
      "text/plain": [
       "<IPython.core.display.HTML object>"
      ]
     },
     "metadata": {},
     "output_type": "display_data"
    }
   ],
   "source": [
    "unary_multi_output_reduction = Forall(\n",
    "    var_ket_psi, Forall(\n",
    "        k, Equals(MultiQubitElem(Output(var_ket_psi, part=one), \n",
    "                                 Interval(k, k)),                   \n",
    "                  Output(var_ket_psi)),\n",
    "        domain=NaturalPos))"
   ]
  },
  {
   "cell_type": "code",
   "execution_count": 7,
   "metadata": {},
   "outputs": [
    {
     "data": {
      "text/html": [
       "<strong id=\"unary_multi_meas_reduction\"><a class=\"ProveItLink\" href=\"proofs/unary_multi_meas_reduction/thm_proof.ipynb\">unary_multi_meas_reduction</a> (conjecture without proof):<br></strong> <a class=\"ProveItLink\" href=\"../__pv_it/theorems/2906393fcda3256c043b6304a8bc5567199bc6b30/theorem_expr.ipynb\"><img src=\"data:image/png;base64,iVBORw0KGgoAAAANSUhEUgAAAg8AAAAmCAMAAAB0x4hHAAAARVBMVEX///96enptbW0rKyvf399e\n",
       "Xl6fn58oKCiIiIgiIiIQEBB2dnbu7u5ERETMzMzc3NwyMjK6urpmZmaYmJiqqqpUVFQAAABUAbZI\n",
       "AAAAAXRSTlMAQObYZgAAAAlwSFlzAAAOxAAADsQBlSsOGwAABsZJREFUeNrtnImS3CgMhr1J7S43\n",
       "4nz/R43BB5jGNj20x92poSqVVFq+4EP6JbCHobVZPzYzvK5pO/y0exsDloYjjC9rP9a6196L7j4f\n",
       "Mw4w+I9pGHOt3gsIgTcEkPt4MNB5AguABPuw+agodvKd7si49+BBkL6hFKA/jIV05+6d7pzbt+AB\n",
       "aNfhiMvhY5vCbxQ1WM7AbTxY3zVHnP5wGWe+6UpWcx6kCziqGnTcbTzgLvfw/3+fLuz/5d9wEemA\n",
       "itmPSqV3+lx6eTsPoss9uL8gUaX0+ktA4RIMrnYcp7fz4HqmB6I3jiNTHbFfWlnXcVfcKKeHQ59h\n",
       "Qm7noaeuxfCNOCBQPZ5NOM6+5zHk7ypvv3gtYNiMhzTK1pzz0Gx9Ei46soO1rGlGpeTGBlx03Ap+\n",
       "ZnwXGcw4we0TNbflaw+iKzUlwzs9jCpKHOuMh1QxA3nOQ7P1cRHE92jzTA5PtDvfDsTGYTKn4Skl\n",
       "Q9eRhScynNw2nWG40kHsrwVUJo+GjAexACt5Q7xotj6WDx21SWMyR4emfN43D44sLdEXefBPhP/c\n",
       "NuPhwtq1TB1cetHKwCGf64dlSYPaFv3Qan3YSIcU4SxzM2L+GzXH/xfxoJ44bGOb8aCuK6JsUCu8\n",
       "qBOPUVBkPCwT7mzOTjy0Wh9PmI4MIbuwm7kG0hq7hH8RD5Q8cRCpepgrAwbeyMWtF7X0sVdsnl8Q\n",
       "HBqhTTy0Wl+VXkhXgs8cTsQrINRo7aYLGIQoZfF/kaUgrfPYbasXBQ9MIxQmlwCiJUIO7fAALnRs\n",
       "2xLKxjbnAa7CYRMTSi/KHi7L1vGIPGhR+OFDHhqtK+qtluA83RTNsOZoHLKi9kuICvI6zAUb/MYk\n",
       "loi2Mjw1PvYPIspyHjoOB27KRGhRXqEHrZWkheutLSLV0DefHmetI6aqvN8fvOijW1rjbeQhTrll\n",
       "3gnuNaW6okJnHjbWp3Fsx2t/nQeLsqGMD2i3owJuColq5kFFKzx2AhtOeZhKuiLMKE4ePdkKgPVS\n",
       "2dGJtMSprW0+F7S4yD9YPxx4UfC78XuqRwVO1+UOg0uMi3pUZm1wKeQk1uE3MytGvSOw2pR1fVdJ\n",
       "ml7zPdJNujkld2wOlkzRyAO4MtWu8bCAGvqH883MiZNgLQBrYprHsrBlDhYi/EsG/7iTKl5UPvKg\n",
       "NzyEObcGlWnpsFIhWHjIrck6sAI5zlW0ChF7jpaX+gfvhkp6MSf7nkc14KydeNAtPNgZ1HDwIw+D\n",
       "0IuHx6CbJ3dhm60qXOYfmB8OvOgpD+PwmvW5iY3lLbPLQ2adzrw+sh1/01E4UK01Hv+ol/KQQqNY\n",
       "fLnbuJvMP9iA6yQBlu0WWBeipu4fdJWHtbrIRjvVWAQrbPOF/sv0QzZpKl4UTvRDKCas+yrH7MQY\n",
       "7cSwz0OyNnyQcXUp1V6tsEqipc/1jp58RX4xgz8OItT0g5ixH/WDkCsPcMjDKDvXeFblYc4OzHhQ\n",
       "GOeWskdhmyefl+UXuZ589KJ4P9+beZCpQBTlA6vtN1l5SNYOSctG0cZSfmPFGC+sOuSBtdePDuoP\n",
       "MPWsIrCZZlFGsygMIw/ICyvXOEGh4IFuMghBxOJM4ICHUF9lI3E0fyYo/pHVYjPbb6k/ZPlmxYvC\n",
       "fr63rG8mfzCRICuKL61vrtZjVj9ecRwTk/MwUoD4EQ/zNOyqT7q1DGvLbN+M8inevnDIIkYxUs6T\n",
       "uezgHM3wcY54cCavZ1MaDhbhCGG535ZS59GM10QabVITPVQlSmH7PfVJPOx70Vo9ShU8ZENlJ48p\n",
       "DnhIXM2ywQCPzU48MLowuFO1go7Fj7NlQbhyKx3FLzzDhesX2bLjgxet1avZHg8y/sTwUbxIoZEP\n",
       "Cg8jf4Ju/MOgLDpJwTq0M/wtPFy4vrmsZ1W8qISDeyp5MOBpqEbZoYUHhwaBow9IStlEMpE71Vhf\n",
       "Z/84OcHuQh4Q6Z650Oro+i7zzHp32pPRtz8q7Hl3sdgil6sIPNXh3GkOdo2DiErhuq34PZX26ebX\n",
       "MsC1+6Oe2g+T0r2X7ZdjNOiH5oDIe5z6nfsnpe7ZzCtpOvri/ZM7++X+qSg3lVKsu/ZPmi6/y3/2\n",
       "Vzd4iNreWVe7Kk0O9y4emO/S1r8//v2LX9/w/kXrfntib+chZ/IrzdGPpoFx9B2Xie/jzCMc38dh\n",
       "Zxr5vvc3Sd9aDv15f7MJPKt5/CAC7H9pIHMPN/LQ+7q/+tz3u/lbvfGP8oG48fsP3a+0hu8/fJqT\n",
       "YILCe33/QW72nt7Iw26G/MQpPu77MPBu30hiW4n5FA8v/n6UhA91+H9T42lAn/1+1OtdlfgZj7vd\n",
       "w4PI/AP6KIyITt9LYQAAAABJRU5ErkJggg==\n",
       "\" style=\"display:inline;vertical-align:middle;\" /></a><br>"
      ],
      "text/plain": [
       "<IPython.core.display.HTML object>"
      ]
     },
     "metadata": {},
     "output_type": "display_data"
    }
   ],
   "source": [
    "unary_multi_meas_reduction = Forall(\n",
    "    B, Forall(\n",
    "        k, Equals(MultiQubitElem(Measure(B, part=one), \n",
    "                                 Interval(k, k)),                   \n",
    "                  Measure(B)),\n",
    "        domain=NaturalPos))"
   ]
  },
  {
   "cell_type": "markdown",
   "metadata": {},
   "source": [
    "### Unitary gate"
   ]
  },
  {
   "cell_type": "code",
   "execution_count": 8,
   "metadata": {},
   "outputs": [
    {
     "data": {
      "text/html": [
       "<strong id=\"unitary_gate_operation\"><a class=\"ProveItLink\" href=\"proofs/unitary_gate_operation/thm_proof.ipynb\">unitary_gate_operation</a> (conjecture without proof):<br></strong> <a class=\"ProveItLink\" href=\"../__pv_it/theorems/f628798af2826f7f020e4424383e99919e1801750/theorem_expr.ipynb\"><img src=\"data:image/png;base64,iVBORw0KGgoAAAANSUhEUgAAAi4AAAAmBAMAAAARqA2oAAAAMFBMVEX///+IiIgiIiIQEBB2dnbu\n",
       "7u5ERETMzMzc3NwyMjK6urpmZmaYmJiqqqpUVFQAAAB6qHgnAAAAAXRSTlMAQObYZgAAAAlwSFlz\n",
       "AAAOxAAADsQBlSsOGwAAB19JREFUaN7NmmtsFFUUgM/szuxMd2fa8cVDlGyKRn/hhthgNMJoKAoJ\n",
       "smJDYoK0GlwIAlnAaCIBVsEaf9DWKIREEwYxxhAJFVQeFVxCgCAYl4T4goTlDfFVCEVaWup9dB8z\n",
       "987MUnZYb9Ldzp67Z+797rnnnHt2AEppWn9/Gvxpu9iPIhnwt0mr3QXf93eVpkjL+jXECEfzbvC7\n",
       "LYp7COoqzeUg+5Ha5jsXNeshqDQXmTOAxXHfucB8D0GluVQZ7Gcf+Y8FXoi7CyrN5QQ7Pq00n9dv\n",
       "bWVwa8WCSnN5gP0oYJT0zU7LVc1N3le55i6oMBeZYxvL47eBC8xyF1SYS3UT+9m54otUnuAguTgp\n",
       "2Ov0hb3/By41nGyxt/hicu6fUHJwXJwUtDrljlRQB2TGx725VJP3Mme9y9FyKqf6/z43r7C1rrHT\n",
       "EtCd22+Ci3Lq8l9QPf4DFwWBdnZTP1gQ1MFO/LbWm0vExGE1VV4uP5Hx3ABYkc/l1E6Wi4j+ojdj\n",
       "L2IPernbTUGESR5n7ugqCOpgGebb5M1FxobVXOZ9dJGsLuKiXsm7nDaWy/PobwqHS8sjozNwultn\n",
       "uFRh6TduCoROZjBCV0FQB1XI/YuZEvzLas7gbrWNy3GRL+c+CmZZLr9wloQMfyoyYsFg7aUGL3TW\n",
       "TYH2rwMXKqgDFbmMqlL87mH0Xu6Ty5Ucl3B3fkoGy8XgbGHCZR02/DjLZTMyIclwUyD3OXChAhSP\n",
       "xtTWPloKl2Bt7SijzFx6c1zEvvCH909KMSFqMkgj0mAIUdAMDpereONx/MtUFHxU002B1OvAhQoQ\n",
       "l20Ar3IHLVq5RJIQuuUTnbrr8M6j+Yip9A1wke5KQ3BXa5oJoJNB1GJSGg85ynIJX0IvDRwuo7Ad\n",
       "uSu4RF631OI2uogLFSAuLaDws5OIlQvq1cLt92vxhU5ec0HQGgw3jTC1IfB4YeGozSqXJzyFYASi\n",
       "EgndNi5LI1E1BTGggdPKRcS+4AeWi3QjZ0fOCq442AsVIC6huGhaO7zztamOY7ggq0KbdcmNtPIK\n",
       "nVjDmHrYeh7ba8NzZ60wSXxDq/9jXsOQ3cP0mNQJs6W2Qjku3EO4XKUxhK7OZtPKJR7URQJ4mfW0\n",
       "iLkEYjn2NRaBhvfC21wF+Xbdicv1AS6aXux25ZEJU8vW4yBn53IEu10N3XYj7QYLSJ+Z+KZb4NDx\n",
       "Q5ueQVM18lyQ6YTw+8Jzc2H6BfjZSMkxiGpGQLXZywAXalx2e0FHbhEkpOsoay+N2VzYsdoLsaNn\n",
       "3RV4coG2PUXCDrT5tT0RMMSOLR07LVyqVJ2mPTrthrmIxDx7oDV5pClo4juvznFR0AQjyJNGkAOD\n",
       "eh1UA0KmlBXM6mF8Lgafyw5YBUKcyT0xlxPIJBWdw6Uzx8tZgad/gSloKup3C0cK+5MgYNenLf1C\n",
       "N1h7EX+L0yqAQbsNcEHubB/iEkq+SGrYUyiX9Vk1/hAoyAbuwxv+gImPcNvsh/pelkurLR7Bt0j9\n",
       "Rjb37BwIO2KK5YJLONUpdwVO8Qhy8QhWoEnP2JAOZoUsTCdqk/W/c7goOAtrNLG9kG6Ui0Jymqch\n",
       "gOw0iuZ0jHCR9C4B1wSbQMLD0VbhUYpx3ToSiayN3F18YmnUbVw2pAwccu25J+GSd6+2ePQxKOfd\n",
       "FShs/iJeKwgwl2pE/d3hUJOMGPAl5RIRmlgugG91ArmQJO1GuYSb6JFrJtwLJ9HsPydclJeiAhzA\n",
       "B9IwXn91Bo7w6/rth5wn8EAu9p/BPvifcWTgwXYbF/nMy3jjBTj5Lq72XeCejxZ85aFA7mFqHqe7\n",
       "/8wL8nWGk7AYAhk4mEgkMlpSMtqY/IW2HeRwSrrhSolIRc2FxOYNuo+q9VU4y3wd1DWJxHz5rSQ3\n",
       "xK/hVHyb7PmuTHgd43BBrrol6V1n4ClwrJZSQZ7LWBgCrTKaB7EX2KQ71F92k0MY6QZ3Yi4ymofS\n",
       "ruSTbLqPIGDuU5ClbAeZuA3kd4GTFG7lZE0x+7QE8sU5vPPRxD/0EuovPAVi1OELVJDjonQii9kf\n",
       "oRkt2o1C1oHLp+TcQRNfZF9Did9tfnNJftJ34AQU24u+EohzIcn0yu0g6pw6A8tK7bJPi9it1Db4\n",
       "uhRPQcip0kYFOS7hLApjLfeAMhtdLFqbi3IsF+0Mji+kG0gTJiTJOowvqsfPgcUZ7G47ZiFzEZC/\n",
       "a8aWLk1KbOMMopE9yEt9zHKTYJEePBeegpq0awmRqWM2JBJmCXXMom6fWaeFLARzIekLyeukiYm5\n",
       "TqMOsVUzeK34YmjeKw6yvuukYLNThY0KylDfjaRsV+E45qLiLbLe6xgZcyo8+/17wCR3QTnq3vXF\n",
       "F+gUp5J8lxjvWQ+9Ug9nb5m3g8uT7oJycJGKL+KWXyfig1g2sbTi16393ijE3AWV/r0xyMlrxoL/\n",
       "LZhxF1SaC++ZjoO3gctwD0HFn3/5hJPxpn3HojzmIag4l2lsvJQe9p3LtIyHoFQuvj1fp3AedXvf\n",
       "9weD5rkLSn6+zsf2HodV0ud7Sqan4D9/1l8LDfK/yQAAAABJRU5ErkJggg==\n",
       "\" style=\"display:inline;vertical-align:middle;\" /></a><br>"
      ],
      "text/plain": [
       "<IPython.core.display.HTML object>"
      ]
     },
     "metadata": {},
     "output_type": "display_data"
    }
   ],
   "source": [
    "unitary_gate_operation = Forall(m, Forall((U, var_ket_psi), Equals(Prob(unitary_gate_op), one),\n",
    "                                   domains=(RegisterU(m), m_ket_domain)),\n",
    "                                domain=NaturalPos)"
   ]
  },
  {
   "cell_type": "markdown",
   "metadata": {},
   "source": [
    "### Equality of quantum circuit elements"
   ]
  },
  {
   "cell_type": "code",
   "execution_count": 9,
   "metadata": {},
   "outputs": [
    {
     "data": {
      "text/html": [
       "<strong id=\"qcircuit_input_eq\"><a class=\"ProveItLink\" href=\"proofs/qcircuit_input_eq/thm_proof.ipynb\">qcircuit_input_eq</a> (conjecture without proof):<br></strong> <a class=\"ProveItLink\" href=\"../__pv_it/theorems/359b19c1ffc2014a371bc1bd498e9badb49474df0/theorem_expr.ipynb\"><img src=\"data:image/png;base64,iVBORw0KGgoAAAANSUhEUgAAAVEAAAAZBAMAAAB6JADEAAAAMFBMVEX///+IiIgiIiIQEBB2dnbu\n",
       "7u5ERETMzMzc3NwyMjK6urpmZmaYmJiqqqpUVFQAAAB6qHgnAAAAAXRSTlMAQObYZgAAAAlwSFlz\n",
       "AAAOxAAADsQBlSsOGwAAAtFJREFUWMPNV89rE1EQ/tJkk02ySVe9Ci251kMVUQ9WcshBKNq1giCC\n",
       "RsR6UElA8GgKPXkxvVRExBZEelG6YImoUGMFwR/Q/AGCwYMSikkKhjbWNr59u9ls63uNfZHVgQ27\n",
       "mZ1535v53swsIC7v4JaEOzOP6K4hlZMdmZ+Ge/KqI+srLiLt0oCicfNRJCP9LiL1EJjPjZs7IiyP\n",
       "c1U3/zpSqQbcECVs9xRXNSmI502jXL6dZqruAUHCAF9BwG1G4xaFhmjoDgDRZaYmByh5glbE604+\n",
       "LyqjgsVoCQitMlW7yLUvFtsv4rbE1RwdSoshVUg8lSWmaoZk8ClwkT5onL4gsd2OcCOj9nDYFI5R\n",
       "KfIso1WS30NsrpHN34JMTaWD9K/rq4kcDYm/+dJJO0KB1OzgpebDfX7r+5QXi6k3CekzOx9Zcn79\n",
       "mo+eYt+amYFeePo3IB1qRWjeJAyVPt56j5GhBaxhS/VPD+n5HSW6ye6WraU6RzBGVPNATe81M6BD\n",
       "qTqRhq6ptqtFYKFtTHVki2Ix7RlF5DBblTVCPW42VdVc2lvAcN6J1BNsrTsAaU87pJ7LLypJMZ5e\n",
       "MDLIzn7GKCfHJugCeGaC3/3+K5xI1fA4ciNE8qSKfJizHX3hLHeCJK9XLKbr5FpQuWcfY3SP0xYD\n",
       "5yEtOpGG0h67wRMOn9WdFY6dfHSJjQSBn+Snwm59rykzaZhmExXNomJ2yoE0nDhes6uIDvnHhl3+\n",
       "LiGjk1SFkHpWCNo6WzfXessiLaEiZpxVSoW83Mw+4XDIbnZe9ubHDNMVIaRBkooHE+D1fUseEXYV\n",
       "pDjkGqQ+R/aNEK3ZB1DDsL71LHWqMYFIqh4XABpNrZdLV/mzlLXsEUgv7wYG8PZ7IldwIH1SxJm6\n",
       "FT1lMjHY8hRwcz5VNteLiOPe3876m5sz/+aZ5+F2kP7T76j8dpBG4q4B3XrUl/+n731SEX8BDku7\n",
       "00iShIMAAAAASUVORK5CYII=\n",
       "\" style=\"display:inline;vertical-align:middle;\" /></a><br>"
      ],
      "text/plain": [
       "<IPython.core.display.HTML object>"
      ]
     },
     "metadata": {},
     "output_type": "display_data"
    }
   ],
   "source": [
    "qcircuit_input_eq = Forall(\n",
    "    (A, B), Equals(Input(A), Input(B)), condition=Equals(A, B))"
   ]
  },
  {
   "cell_type": "code",
   "execution_count": 10,
   "metadata": {},
   "outputs": [
    {
     "data": {
      "text/html": [
       "<strong id=\"qcircuit_input_neq\"><a class=\"ProveItLink\" href=\"proofs/qcircuit_input_neq/thm_proof.ipynb\">qcircuit_input_neq</a> (conjecture without proof):<br></strong> <a class=\"ProveItLink\" href=\"../__pv_it/theorems/e18ee79f07334f9a2fd213931e76d19e3796d6050/theorem_expr.ipynb\"><img src=\"data:image/png;base64,iVBORw0KGgoAAAANSUhEUgAAAVEAAAAZCAMAAAC/1O3FAAAARVBMVEX///8NDQ0WFhYLCwsYGBg2\n",
       "NjYbGxsSEhKIiIgiIiIQEBB2dnbu7u5ERETMzMzc3NwyMjK6urpmZmaYmJiqqqpUVFQAAAA0WiBi\n",
       "AAAAAXRSTlMAQObYZgAAAAlwSFlzAAAOxAAADsQBlSsOGwAAAtNJREFUaN7dWenO4jAM7N5p7vv9\n",
       "H3WboyX5ICy2VkYiEgh+TNOOx2M73ba3rOC2z1v+jXtH/4GEbka9bWtpt49cgb1rZxWI01ESbbSX\n",
       "jdItFame03BaQjVZNrLCpr9qhDVUkhGYMOCdQmkyO8uHSHUi99WMKfQ2oyWaUJ6ock7HsqB42JLn\n",
       "tpuMiFRJmBG2FjOaUYXMPd4kljKAUl8wodsnWf1lO8YpUkYS4xIOZ3Kr3C4DWj1WSwTfy+KCitGE\n",
       "iJ0wIiPdEFseQt8wZEBP5Gr++YpUQypK6Gwgn/y7z0K4YRu2sQx0JV+Fsv/8Ub4ROk3dZiwHhETX\n",
       "MJh0fp2McD22HtkL4Ud/vmNkAmzCrYD9FuGP54uRBlKJdhuVadcgq3CnPMVQf8Ukh7DfDGLB6AS4\n",
       "YnMP7G0weAR1sUT/Zkv50VpAsfOuzooxluwQxxe2lY3RyKa65DQfnSP55iZrRmdAMksgVqO+Rj+R\n",
       "SpS1Shg5KDVMN187TaRsfmZe9Cf3sGZ0AjixBiIZZcr7o9YrhI9+/9bcFB4Nxc/80yBlm96KWjnw\n",
       "s3k7NREh+DReVn0ltAG8KuvP8QkLYNcukBrZop0xTZdFT/RnSoBKfa/1ZdAeNKZn76tuKJNfMjoD\n",
       "WHgCHHs2WM4X+0WcBuBPDfVZCBNowgvnTQ5KOuqzSMNU0ygx43XVlyl9AEj1DDjH8dWwB/wYipdo\n",
       "t9GDWVD37O/thY3+ernhwcKqe7oBStb//qXOrH8APC8Jifp1UKXgQ1PETy22bes4LCg2LARRuiEp\n",
       "Gley1pdV1g+A+VDiERB+9iRVzvWZYvkhqCSarmMS2Fgh79LPV0OVPlu36SKyYLMobfp0YfUYMA1e\n",
       "D4GnRxGdjwaywfra8R89xSo+y1odXyyLieaYa5fUjO7PjclJKKOvmjjReyZNLtF/KGo5LKwYjS9X\n",
       "nEiejxQLf2b/H96efOb7+prUfwHx+ytwIDVWgwAAAABJRU5ErkJggg==\n",
       "\" style=\"display:inline;vertical-align:middle;\" /></a><br>"
      ],
      "text/plain": [
       "<IPython.core.display.HTML object>"
      ]
     },
     "metadata": {},
     "output_type": "display_data"
    }
   ],
   "source": [
    "qcircuit_input_neq = Forall(\n",
    "    (A, B), NotEquals(Input(A), Input(B)), condition=NotEquals(A, B))"
   ]
  },
  {
   "cell_type": "code",
   "execution_count": 11,
   "metadata": {},
   "outputs": [
    {
     "data": {
      "text/html": [
       "<strong id=\"qcircuit_output_eq\"><a class=\"ProveItLink\" href=\"proofs/qcircuit_output_eq/thm_proof.ipynb\">qcircuit_output_eq</a> (conjecture without proof):<br></strong> <a class=\"ProveItLink\" href=\"../__pv_it/theorems/23650686b97a1e6ce8f90535bd97f71f751a127b0/theorem_expr.ipynb\"><img src=\"data:image/png;base64,iVBORw0KGgoAAAANSUhEUgAAAVEAAAAZBAMAAAB6JADEAAAAMFBMVEX///+IiIgiIiIQEBB2dnbu\n",
       "7u5ERETMzMzc3NwyMjK6urpmZmaYmJiqqqpUVFQAAAB6qHgnAAAAAXRSTlMAQObYZgAAAAlwSFlz\n",
       "AAAOxAAADsQBlSsOGwAAAsxJREFUWMPNV09o02AUf7X9mjRNuqjgSVDqcR6miHpw0kNvQw3zJIJO\n",
       "xHlROhA8bpXtbHtwIiJuILKLsICjokKtEwT/wHryJFg8KGXYbbJa63T15UuafK26pF8l+iAl+fre\n",
       "l9/33u/9CQC/vAS/JNqduaL7hlQc6sr8BPgnT7uyvuAj0k0aQMm4ecsTkT4fkQYQ5iPj5gYPyxNe\n",
       "jpP9O0hJFWCUl7A90x6UIst8yJ43KpXrI8zCLdwLGRAqcmw2pnlQeseJFPYDxGrMcw5ALiBanr22\n",
       "eFHKf+UsSysA0hqzsBWvvfH4Pp7Nyh50QhM1PqQy2skrzMIsRvABwDn6oP2hL5Dfbzbs4YVXAj9a\n",
       "toxTKbkbxpA1kYMs15C0V0GkpuQAXbq8lsxRKoebSsdtZgupuYHzzYfbHpDqync+nwaHgLxnMyqD\n",
       "+RvWQjSLQ+bx5Z0Q6GtBeszJt3mTMFR6f92/YYuZSFJRWPVYSBxT04VnNpcLrMJpxKioZkLN7DH9\n",
       "roO8zCKVLqm2/iLAQgc+jYK4zufTHWlQDrELGcPBWbOpquarg0UYLLBIAxGHV/1AdneAdNvj/Bc+\n",
       "np41YslGfyyNP0cmKSB4aILf/uojsEjVaBZywygFrB2v87b5B/fGgsH4zOdTIxQLalvuwzg944zF\n",
       "wHkgiyxSaSRgN3jk8CmdrXDuU+UuLqCCkYhLbBN8RplJ3TSXXNIsKmamGaTR5NGqXTt0EL+1nHJD\n",
       "uYfXFN9Agg1DqLe0EOc/i7RIRZhlq5QKYq0ZfeSwZJfyoFvfp8NWKs2DNIKmdyahte875+8pkgSI\n",
       "VSC9TPQlzC67emc0GNS9zlIkVdfgTeMaB9BYar1Svtg+S1mvPQzkyU2hH16sJnNFBun9EpysW96T\n",
       "p5IDjr3g53wqt9cLhbkPu1l/8nPmbyfR3U6Q/tPvqEInSJWEb0A3HvXF/+l7HyviT7NjvSwu05PV\n",
       "AAAAAElFTkSuQmCC\n",
       "\" style=\"display:inline;vertical-align:middle;\" /></a><br>"
      ],
      "text/plain": [
       "<IPython.core.display.HTML object>"
      ]
     },
     "metadata": {},
     "output_type": "display_data"
    }
   ],
   "source": [
    "qcircuit_output_eq = Forall(\n",
    "    (A, B), Equals(Output(A), Output(B)), condition=Equals(A, B))"
   ]
  },
  {
   "cell_type": "code",
   "execution_count": 12,
   "metadata": {},
   "outputs": [
    {
     "data": {
      "text/html": [
       "<strong id=\"qcircuit_output_neq\"><a class=\"ProveItLink\" href=\"proofs/qcircuit_output_neq/thm_proof.ipynb\">qcircuit_output_neq</a> (conjecture without proof):<br></strong> <a class=\"ProveItLink\" href=\"../__pv_it/theorems/03307f228209df915ec93658c635c0e847180a860/theorem_expr.ipynb\"><img src=\"data:image/png;base64,iVBORw0KGgoAAAANSUhEUgAAAVEAAAAZCAMAAAC/1O3FAAAARVBMVEX///8NDQ0WFhYLCwsYGBg2\n",
       "NjYbGxsSEhKIiIgiIiIQEBB2dnbu7u5ERETMzMzc3NwyMjK6urpmZmaYmJiqqqpUVFQAAAA0WiBi\n",
       "AAAAAXRSTlMAQObYZgAAAAlwSFlzAAAOxAAADsQBlSsOGwAAAtxJREFUaN7dWYtu2zAMdLdulfV+\n",
       "//+nzpJlR2pC21kJBoiABinak6zT8UjK0/SSEdz0fsO/cO3o35DQyaiXLS3t9JYjsFetrAJxOEqi\n",
       "heayULqFItU+DaclVJNFIyts+j1HWEMlGYF2NpfsQ2kyO8uLSHUi99WMluhtviLRhOaTKue0DAue\n",
       "kS1xbpvJiEgVhBnL1mK+wqhCjD2+yi5lgFJf/h6afZLlXzaj2UfK52y5hPfoJq/Z3GWg/GM1RfC5\n",
       "DC6oGE1YZyeMyOcWiZkeQlsvZKBOcjX+fP0v1YWifLY3kAe/3UchkmEbNrEMW5WvQpk/f5dPJJ2m\n",
       "5jKWG8jRCpkmbR8bI1z3pUf2Qvjei+8YGQCTcBCwPQ7S9nwx0kAp0WajMs0atAW3yVN0+VcMJx/m\n",
       "m0EAjA6A/Wzuga0MvtSC5kdjCLBYJHHmVe6pfvdkUZ0VYyzZcFA+VR4jG/KS07x3ieRX54AZHQHJ\n",
       "gEBUjfoqiUQpUbYmwsgDnLp0S/N9R8rGPfOiPzkHmNEB4AQMxGSUKe+XXK+OffTXx+qmOIeo+BaT\n",
       "GqwMTStFrez4mbwdCoYQfOqnUN8JXQFelfG1/AQA2LSLkZnkKoF8UolZ1I5+iwgw1bdcXxrtTmN6\n",
       "9L7qhjJ5kNERwMIBsK/ZEGK+ePLxXLi3hnrLgwns+sL2PJ2SlvwsUtfVrJSYfg71rUvvAFIdAcdz\n",
       "/Mlw4VIbiivRZqMLsxbuOe5Rvb/ubriwAFVPN0CJ+r9/1Bb1D4DblD/u6/fbK3XYNEXcrsWuqzoO\n",
       "H9R9GdDOvlRDUqxcyZpfoKjvAOOlxCMg0t2TVDnXTcXyRRBJNO3XJPH47mncazVU6bN1ky4iCzaL\n",
       "UqYPk6jHgKHxegjc/IjofjSQNdb7iic1BXQWYK6OF98KJJprrllSMzofV79OPsvo1SsQovdMmlyi\n",
       "J4oCGwOI0Xg540TyeKQY/39nj9DYvef7+hrU/wCC3CtwINj26AAAAABJRU5ErkJggg==\n",
       "\" style=\"display:inline;vertical-align:middle;\" /></a><br>"
      ],
      "text/plain": [
       "<IPython.core.display.HTML object>"
      ]
     },
     "metadata": {},
     "output_type": "display_data"
    }
   ],
   "source": [
    "qcircuit_output_neq = Forall(\n",
    "    (A, B), NotEquals(Output(A), Output(B)), condition=NotEquals(A, B))"
   ]
  },
  {
   "cell_type": "code",
   "execution_count": 13,
   "metadata": {},
   "outputs": [
    {
     "data": {
      "text/html": [
       "<strong id=\"qcircuit_input_part_eq\"><a class=\"ProveItLink\" href=\"proofs/qcircuit_input_part_eq/thm_proof.ipynb\">qcircuit_input_part_eq</a> (conjecture without proof):<br></strong> <a class=\"ProveItLink\" href=\"../__pv_it/theorems/02e5424b5a02d068158ce398acb010855650ba230/theorem_expr.ipynb\"><img src=\"data:image/png;base64,iVBORw0KGgoAAAANSUhEUgAAApwAAAAmBAMAAACbq1asAAAAMFBMVEX///+IiIgiIiIQEBB2dnbu\n",
       "7u5ERETMzMzc3NwyMjK6urpmZmaYmJiqqqpUVFQAAAB6qHgnAAAAAXRSTlMAQObYZgAAAAlwSFlz\n",
       "AAAOxAAADsQBlSsOGwAABo9JREFUaN7dmn9o1GYYx5/zLpdccte7MvEfRV11sNFN6qZTVpVj636o\n",
       "WA+VwRTXE7EDmWtmYTCGNuKmf8hsQS0yhx6bIIKz5+x0s6xaBw5/sEYQdZvYc4y5Tqyttbb2h7f3\n",
       "R5K72uQSckeEvHCXN3mTPHk/ed7v87zvHYBpCaXTZ6AA5WdwbXkvhr9Pp/ssnBtKFcSkkHIvTvY5\n",
       "up3tHM7z4OLym9M42dluxumXHcYZiLoZJzPbYZwdMTfjhFaHcU53NU2olxzFyfa5G6c/6ijOori7\n",
       "cQbLHMUZNp4JcA0uwMmNUJyE1Q0TnEVkm8/cqE4yjvndOWPm2qkGLX82Ry/YepZz6a6uRrHANksp\n",
       "zlN4s9cEp5DA3ZbywNmeI+br4/SptJMGahWBd7vtPcyrSHz6C2zzJ4pzM/bUuAlOFvvwtnwGQ2eO\n",
       "HGNA9/AOVSZk/ctakGDZkwmuB4AfKrDNKRRnAOWDPtlMO/eg7ZJ8cC4wbPF9rusoMFHZNhkkrOgq\n",
       "PmIvbKBLgz0FttkhEpxBpIgB01B0CW3zihgPDFu2eEZ0MyvVfd7Qv4wfRueI9rIMNF4Dcwtss06m\n",
       "kf3lkpJZpji9JSXT8polDhu2JEO07fCsi63o1baNfxMOz7yy9+b9Ljpm9sOVH0h8ODYxwe76sfiW\n",
       "Ei7Sb9t9Fm8cmL9EKzZhVfEp+LR8y+SIqc2qMxTnSYB1pjgFEfz5zBK5EaMWXmYVz30lwZRCaC4W\n",
       "9fLrwzRUoi4Mh67Pw5WNEqyBcXe1HKE9/dgoNn5fgssMwyxjTXHnGUs22edx9JkhswOmNsMRinMn\n",
       "cDqJZXQ0TnTKTmrJyMfUij501hCnANxjUFwCOhKoa00SlKDbKF0LDXzH7lVmqXWiv0zLYJkJ6TJ7\n",
       "73aKBKF5lmyOiwLbD2u1wZXDZjhKcfpjPpQGnVUUlitdBL+ksvAoafw6WER2lpNBwtY0L/6A7B8s\n",
       "biNH1NyAmaNd98lQxQlVaPhBo75NaGl9SGv70IhBZlculXAv1a4J80TthYSj/jh1A9o0aA8nwgNL\n",
       "RQs2iSA+gGqAHlOb4STFGYrgSOTFmeXH/6yHm76YEBuL87ISiZZScTkL8Axpi0AdZOP0ZdwwOBU8\n",
       "ZWbeySA49zWc4Tisutsh4aratXH7TtKnGMTNGZzIRxly07RWrGaheDS0RyzYRJ4L8DCDU7MZzhh9\n",
       "Eic0tOEVEUwe3+RGJOmDsTgDQWKfr6WPcUdJzL1AZ0wazkMzMwE0CcFuM5wC+kzL8s7Qa1gcd5Ou\n",
       "EcGpkptEzTuTGk4GK1CfLe1k8ci9l7Bgk3jnkIYzp01VO2EJTirPceNhEj587Y8tPljcUtqSGIXT\n",
       "9zsRRU+A6ux8YF5UpuLcKJyR/ZkAKsMydV7KGUX2I+hzIKNjInrJTdul3aSnpGvtsSqZACxH6WBC\n",
       "wxlC00DBXq7hQXGFfWTJpjeJZUrFmdNmWInssBUTuvXl8i8Ikmu+1Qd1vJOjeXhEaKDzikut5P15\n",
       "0h9CNk4PipFCNSrocP2ki7e1Md1jEPGxGtTQaLlLYqbjMTNlk4QH3ULatU6oEkmlVkQOFFBxCigy\n",
       "VdqTzgCy+e0esGKTnYN/RWhUcOa0Wa/knVCEwcyUWZ640jVITtDBCYQML1I1RLL4Pj1j9elUNs5D\n",
       "VFIVfWXuaDvl+spZ8ygGV9O7qae0TU4Ae+vyimeP9t5Fj/U3GQ8bwHOMVLjmygR7b8GmGvJiBf5O\n",
       "l2wvia953NW5QdkxsQk7Kv6Dzb23r/amzGzWJbIW6LihkxBsrK7egHCuCOjhpEpXUdmnyCI3SNMi\n",
       "vjsbZ3PFPS1TQizrNcVoNO/nvqewrlY4m+THGxVnMP4Nx0apd/KXx+adqjIC16/IIt9PcnB1+SSu\n",
       "jHWoF9XBPh+JnTYjO+52nK9nLx8XRTb66OToAsBko+VjLAcjsAIxi8GyJKoIKSiSsnAeyVqMQTGQ\n",
       "Kc0s0JnPqWY8BZyFs/lRNk6/VPQrbEO+xL4gKamPDs7jKVj1KFErBw9ULEbqUysLnzW/kxWKhAXA\n",
       "nP5KOfn8g4oTGaWpMhW6o73/Ok6zgDaHs3HSwPBW9XqDOfuoIo+pZBIlo+JPgqsLPzAGZ44lkFFX\n",
       "xp6sWMAZLHM3Tl+DXZzBMRULOJlBd+P0ynZx6hbJ7ISF7sZJ023n/gXiFV2Nc77DOIMNbqbpaXAY\n",
       "J3ztZpxbJadxLpPcS5N5CazjLMx/47k97sXpJ4Cs/Te+UGW7e3GuVCv/A7eDRaqY1OwnAAAAAElF\n",
       "TkSuQmCC\n",
       "\" style=\"display:inline;vertical-align:middle;\" /></a><br>"
      ],
      "text/plain": [
       "<IPython.core.display.HTML object>"
      ]
     },
     "metadata": {},
     "output_type": "display_data"
    }
   ],
   "source": [
    "qcircuit_input_part_eq = Forall(\n",
    "    k, Forall(\n",
    "        (A, B, S), Equals(MultiQubitElem(Input(A, part=k), targets=S),\n",
    "                          MultiQubitElem(Input(B, part=k), targets=S)),\n",
    "        condition=Equals(A, B)),\n",
    "    domain=NaturalPos)"
   ]
  },
  {
   "cell_type": "code",
   "execution_count": 14,
   "metadata": {},
   "outputs": [
    {
     "data": {
      "text/html": [
       "<strong id=\"qcircuit_input_part_neq\"><a class=\"ProveItLink\" href=\"proofs/qcircuit_input_part_neq/thm_proof.ipynb\">qcircuit_input_part_neq</a> (conjecture without proof):<br></strong> <a class=\"ProveItLink\" href=\"../__pv_it/theorems/042c6cfdc47790907d5f0f5437733b2835dfad730/theorem_expr.ipynb\"><img src=\"data:image/png;base64,iVBORw0KGgoAAAANSUhEUgAAApwAAAAmCAMAAABeW7utAAAARVBMVEX///8NDQ0WFhYLCwsYGBg2\n",
       "NjYbGxsSEhKIiIgiIiIQEBB2dnbu7u5ERETMzMzc3NwyMjK6urpmZmaYmJiqqqpUVFQAAAA0WiBi\n",
       "AAAAAXRSTlMAQObYZgAAAAlwSFlzAAAOxAAADsQBlSsOGwAABshJREFUeNrtXImyrCgMddbHvsP/\n",
       "f+qwKILatqJzS32m6m72NRpySE4C2nVniHFedHcVUaZ75XZCBBk9GABFztFr7JWsVPb19B2FwQqO\n",
       "6Ing1OL18z1F26eDk51l1Cs/LtQ8HJwCv06+Le0sAflAcBr3Bs77SlkuPBCc8A2cNxbu+IPByd7A\n",
       "eW/WiR8MTktfB9+6YEcPBmfbUgC/VfdJPTg5cGcKcI6wMvogOE9RdTSr86YK3x2oMCmCe4dLKYw7\n",
       "LRttbEgOmjpnvQjKLm4nVAU4VT5V8IPgPEXVwazQhDLjdp02LbmE2smrQPR164RowxdKkLaOXdtO\n",
       "JQpwsiHe8QNsLYHzFFUHKWdTflZ2T8DlUx+5fUv5Kp3fupDFmigUdyD+lE5d207gSs45LLdjcxSc\n",
       "p6g6JqjFc5jjHfGkAxOnyZ0Ngv5aEjQGzqaspPurageubafJrgjg1D0/PFIT9OA8Q9XBeqihy8mB\n",
       "n67bpxObxh6Mdl1O9jUba2N/sq32tH1AEohf206WXRGrdQSDIHwcnGeo+vliXYXpWpwnBcJaKZsO\n",
       "aQAwJvEoMFhwYx20tsSy8MYbXJTQRAEQ+DcTSHEAbB06iHOYtVvYSOcT5SQWsvPsXDe00U6SXRHB\n",
       "qaIKSk4A5wmqzmpEbJ/hJkzXaj4h5EecxLrRhEiTSDpShoeRg2o2msZwlOHNIB+qAWjNvIOgw15F\n",
       "uxdjKs57+Pdf4fvu6MkcBR49op67x+z8ZmibnV3mHRGc3A7f9hdwE3DOVZHdUWw6k1b+WskJ+y7J\n",
       "XWW+sIn9yN5pMo46hOn6E6cZxz2+2RjR0gIqC9yJoqVwTgB1Dv1o4AQJNwbp8+z8amibnTlOpCZ8\n",
       "iHQ4tYE0nNBXDlX4SPeVhloHZ6kq3R9iZYPOKYxV2QqRGAANxgOzMr9SMKheUDTwnN29Q0CVT22O\n",
       "znsmpCddROLoNGGnnbg0JEizpQkSBpnSKhaUZ7mmLqdUbZimPUbqyu+QndsM3W9nproJnAaMNQwa\n",
       "dDFgKZURd4GK9FTjGzhLVWkwylCmYxcXjJMp/Ls3svsMzkpBjskzRc2Rk6TxdHChoRcRS5Q1JjlN\n",
       "LToNCqVYFWFkPnvBZ3pIkvlO3ZKcGzi7ITPUxfohO78YOrdzo6ETcHo4aTCQttyk6m/E+I9Uzuff\n",
       "wFmoihOdoXIwrEoDNJKedPgzOGsFmcDMFDWDc3AE+hA5TZitiUwNG0WhKulNGH1ZxqMcUNSSz8hA\n",
       "gPZuUImc888/EvPcyznZkHBtFcgO2bluaLOdE84Z+pJDh1LTjgN/RyCzB8OM5CDcJfb5D/ovuQbO\n",
       "UVWMbTlHpMsFawjUk+KafwZnpUDij4pyQbSzWpdD88stcTHWz2PPxRjPThOV07Qf/eC40S9IZYYx\n",
       "B6fpQ7Rq6miIxlKzp5weT+I8O1cNbbezrta9T3Pv2gJuCOJkBIlhPq0buTVy8rINDsrVqLhKobWy\n",
       "rBw0Rys40Sk2kwJFg/zyX3pZUZ7e+zq+fAiYtCo0YzOQRL4fnQYcMzynOSxKp4U1KeLdOx5hkSZH\n",
       "F4sZOFWqInBTt9I0Mk5vUJqKqEb3MTtXDW22k9d9znDl3JUHoSWQA0oCp4ckoBvB2RWQkazmhZEp\n",
       "ElvqIEZVhTKdJPVSwRjNFxRVk3kr3/TFZPSWCb/gMqJoAGzMEMwCAwiGQFqH+raftXj0cXzsBShQ\n",
       "eJ37ai2czcIpzCsvJqzqpFV1//B/D5w27/qYXPagnWuGNtvJMvGYbpnjLnFNLWKoCjcUwEnwUOV8\n",
       "B2dJk7C/94JzJDTxkfaQlBY+grNSUETzmaJxuE9Z1Requ6KYsxc3rmjn+JjNFJyeckroOSDDVeTs\n",
       "pAGb+pzTnBwQxGrKWbBqGf+udonQZQUhrf/7Dx3S+lRR2e94MDgF+Q3AiXPfZApOCzoGAwLHRZ60\n",
       "Gw+sc4clcPbUIFAIgsfCLS1IxCPpaaZqDYEuK+iqzTiloonoU57SgJd8K4M+fVX4inZS+wmcYceL\n",
       "Db1WPjS4GUyttd3gVJF/EOWE9MzZBKrgcOicm8SlTVjsDJtR+YeCqFTQVdOlVDSriI5viIqsi1/P\n",
       "bfDkwHlNO8d+y+fHNAgOSXRrd//rYxpmw5GlVtL47xvLcHrNjHyGsO43EDm2TX7qGSJJvh9ZB+fW\n",
       "XXgada/cWPDo6J8Cp95wZBWcZmsMJ06+Hr6xIPPj4Nws/Myp98rtpGyLP/FdSYi9Pn5C4HwkON83\n",
       "IN44cJa+e+T7OYV+vXxP4dUDTo8EJ4H89fMdhcCqv3gaOC/1Tngu3pd53VGKDWpnvhP+aunhrYnu\n",
       "GDhnTcD/AHcafxsaMtSGAAAAAElFTkSuQmCC\n",
       "\" style=\"display:inline;vertical-align:middle;\" /></a><br>"
      ],
      "text/plain": [
       "<IPython.core.display.HTML object>"
      ]
     },
     "metadata": {},
     "output_type": "display_data"
    }
   ],
   "source": [
    "qcircuit_input_part_neq = Forall(\n",
    "    k, Forall(\n",
    "        (A, B, S), NotEquals(MultiQubitElem(Input(A, part=k), targets=S),\n",
    "                             MultiQubitElem(Input(B, part=k), targets=S)),\n",
    "        condition=NotEquals(A, B)),\n",
    "    domain=NaturalPos)"
   ]
  },
  {
   "cell_type": "code",
   "execution_count": 15,
   "metadata": {},
   "outputs": [
    {
     "data": {
      "text/html": [
       "<strong id=\"qcircuit_output_part_eq\"><a class=\"ProveItLink\" href=\"proofs/qcircuit_output_part_eq/thm_proof.ipynb\">qcircuit_output_part_eq</a> (conjecture without proof):<br></strong> <a class=\"ProveItLink\" href=\"../__pv_it/theorems/e19defb827c04ede8ebaec0e64f5af71ea3423ec0/theorem_expr.ipynb\"><img src=\"data:image/png;base64,iVBORw0KGgoAAAANSUhEUgAAApwAAAAmBAMAAACbq1asAAAAMFBMVEX///+IiIgiIiIQEBB2dnbu\n",
       "7u5ERETMzMzc3NwyMjK6urpmZmaYmJiqqqpUVFQAAAB6qHgnAAAAAXRSTlMAQObYZgAAAAlwSFlz\n",
       "AAAOxAAADsQBlSsOGwAABkVJREFUaN7dmn1sE2UYwJ+ud73r9fqxKP6hMMjUKJkug4ioZEtDqgEm\n",
       "UsdCooQxY5gJiquSqMSElixi1ECbLCxGiUyzhH9ULmyByMI2MJGgRA5JnBpx9R+Qr3ULGx0bs74f\n",
       "d9fOtfR2vZzx3mS72/V973mf3/u8z8e7AhRt3kxmAExox8G27YUw/t2fGdfR15s0RaQnaV+c3IP0\n",
       "usw6nKfBxu1Hq3Fyy+yM0yVbjNMdtDNOdpnFOIfCdsYJfRbjfMDWNCEesxQnN25vnK6gpTh9zfbG\n",
       "KdZYitOvqxL44H+Lk5+mOAmr34vg9JFrKbVRNKan14E7frphaaEZ9obETkM21fr38OVXTJFZRXEe\n",
       "w5ePi+D04IHuWAk4z+rp5M3kf67mWJ8WGPcSsK3GpuVEPigVMUPmNxTnTmypzUVwctiGd5eyGS7r\n",
       "qkNTeVeMl5Sb6QLDJMM1VzwAcEgyQ+ZCitON8kFGLuY796Hr2lJw1unptGpdXkNxKKoJBbIDPxr1\n",
       "ucFNg4aeDZghcyhCcIrII7qLhqIz6JooBeeYHnceWJh3XaOKakxN/nGHkApvG5tWCv20x8yQGZVp\n",
       "ZF9aWflYUZzOysr7S6oSb+vZ6zBEop3Q/mzvNRQnykNhoX3B6j2p6uu0Tk1660lttbH8GOxYsatC\n",
       "MavNYxGj03ocoOkhU2RuHqA4jwJsKYrTEwFXKVUiP62j01cQpUvmfAoaJDgf8yTAeTw+UCapM77Q\n",
       "hifNPQyuAFTL3IQSnzOZv2a86HAlbtU6ioub5RX7wRSZ/gDFuRf4ZOHApuBEXfbSWr/AxDR3nh86\n",
       "pwenBPGkYhLgnUSqCRNQtogFVbWhD+UdeGOWBYFLw8tZk3++9YaxVXYgOOcHTJHpD1KcrjCD0qCT\n",
       "ihHzVWvg22QOHiWN3wJryB/riY1zrT31NF3rKj9Bnqi5AbtcG/fWVOiIuiOESR26vdqboq9xS8BO\n",
       "oXd1TWAtNdW6T2Xd1Bi0AIxqY/sNpZ3gQp6RSZsi0y9RnN4AjkRO/NkbF7fCH0zYE56N85wSidbR\n",
       "YHES4C7yWQCikIuTyZqhuAgcNXewTn9Ga3S90aNFqmpwE9i+CxPkVlVtcS9dnaFO/LGmmoj3pKyP\n",
       "X1bkCJkCUk0cNUWmihMSJ3AChkPBUVwgBSQGZuN0i8R8he3Uiq8qibkTaMWk4Ty4JFumSyCOzGGz\n",
       "YyVqcizlfCdyVPiYtIzMCNhpIa1ZylRWtSY8/bAh3xlFG903aYpM1XfCWpxUfsffDfPx48HfdjFQ\n",
       "31vV2zkDJ/MrGexwU+9WC+wjSinOz8AZ+CxbccjQoNalfPHILuCMbUTzY2k0e2HiHayam6omjrPT\n",
       "DvJiCTsPTbWf0E+PMd+5ELnFaMIUmX4lskMbJvTnnvXvESSDzKauPNbJ0zw84CHC+dEzfWQTODKv\n",
       "QS5OByq2PC2oocfx+T9cUt/BjhZVrQ37Mho33U9AQxCp5kj/gjcdkyCq+RJsmtxwy7EBdaiqHQ4C\n",
       "Y/CUph2t4pNhU2TGlbwTfBjMEpkTiCkNgnRPHpxAyAgR6g2RW2yiPTb1J3NxHqQuVfGv7FXtjxXF\n",
       "NNuQ2Qfe1lsko3BfK78CsHPBvJX3purQNIefJnFDhvvmkb4fha7AzhuXfr5BZEtf9103RvNiZni4\n",
       "Q/GApcqMduYc0PFTR0HsaGnZhnA2uvPhpIl26LlxxS3ykzQtEkZycfaEUppHQSzjmsfomIuabsn6\n",
       "E7ZSZZJ/3qg4xeYveC5IrVM4NzvvVD0j8GnFLRIXLcjq8UmzstchHlE3ey0qxbTSodvuOFfmHh/7\n",
       "Am8ytDj6HqCi0PExdgfT0EiCGiohGvFXEXyxHJxfIpespg/8OLBV2bOGudRUZUnrcZYq8/VcnK6Y\n",
       "7xTsRrbELY4pqU8enN1J2Hirc7ssHgjVbwPYLnve7VmVE4o8dcD2f6J0Pj0WOpLNzPQmhmTVUnUx\n",
       "q2mWLPN2Lk4afp9p2VqgZp/R5Fk32USpYP3xH+xfS5djYhbOOxyBzBgZ/veNDpxijb1xMgmjOMVZ\n",
       "NzpwspP2xumUjeLM24o6ntX2xknTbeu+BeKM2BpnrcU4xYSdaToSFuOE/XbG2RazGmdDzL402UdB\n",
       "P05zvhvP77MvThcBpO+78Wa19+2L80X15h+dr1eJvYhb/wAAAABJRU5ErkJggg==\n",
       "\" style=\"display:inline;vertical-align:middle;\" /></a><br>"
      ],
      "text/plain": [
       "<IPython.core.display.HTML object>"
      ]
     },
     "metadata": {},
     "output_type": "display_data"
    }
   ],
   "source": [
    "qcircuit_output_part_eq = Forall(\n",
    "    k, Forall(\n",
    "        (A, B, S), Equals(MultiQubitElem(Output(A, part=k), targets=S),\n",
    "                          MultiQubitElem(Output(B, part=k), targets=S)),\n",
    "        condition=Equals(A, B)),\n",
    "    domain=NaturalPos)"
   ]
  },
  {
   "cell_type": "code",
   "execution_count": 16,
   "metadata": {},
   "outputs": [
    {
     "data": {
      "text/html": [
       "<strong id=\"qcircuit_output_part_neq\"><a class=\"ProveItLink\" href=\"proofs/qcircuit_output_part_neq/thm_proof.ipynb\">qcircuit_output_part_neq</a> (conjecture without proof):<br></strong> <a class=\"ProveItLink\" href=\"../__pv_it/theorems/882397ee5aebc392e6787a107769597dc38480f90/theorem_expr.ipynb\"><img src=\"data:image/png;base64,iVBORw0KGgoAAAANSUhEUgAAApwAAAAmCAMAAABeW7utAAAARVBMVEX///8NDQ0WFhYLCwsYGBg2\n",
       "NjYbGxsSEhKIiIgiIiIQEBB2dnbu7u5ERETMzMzc3NwyMjK6urpmZmaYmJiqqqpUVFQAAAA0WiBi\n",
       "AAAAAXRSTlMAQObYZgAAAAlwSFlzAAAOxAAADsQBlSsOGwAABqRJREFUeNrtXImWrCgMddbHvsP/\n",
       "f+qwKIJapTXS5fLMOb3ZZTTkktwEtOtaiHFedHcWUaZ75HJCBBk9GABF2ug19kxWKvt4+orCYAVH\n",
       "dEdwavH4+Zqi7d3ByVoZ9cjXhZqbg1Pgx8mXpZ0lIG8ITuOewHldKcuFG4ITPoHzwsIdvzE42RM4\n",
       "r8068Y3Baenj4EsX7OjG4Gy4FMDP2pJSN04O3JkCnCOsjN4Jziaq9mZ13q7sdzvKTorgp2OoFMad\n",
       "lus2tkoOmjpnvQjKzmMnVAU4Vf6U4DvB2UTVzvF2zVQZ95GuaR0m1IdkC0Rfb7jm/4fSTFDCuXXs\n",
       "NHYqUYCTDfGO75iQCZxNVO2knO1SsbKfRGE+9ZH7bH1fpfM3rG6xdhSKOxB/SqdOYydwJeccltux\n",
       "2QvOJqp2hoJmnsMcfxBPOjBxmvywa9BfS4L10NMuK+n+qtqB09hp8qgHcOqeH+6JOT04W6jaWQ+1\n",
       "6nJy4Ofw9jnGprEHo48uJ/tCjq3OB9mw9rR9lBKIn8ZOlkc9VusIBkF4PzhbqDpJsa7CHC6USYGw\n",
       "VsqmQxoAjEk8CgwW3FgHrS2xLPyIGFzU1UQBEEg5E0hxAGwdOohzeFucbknnE+UkFrLz2EnyqEdw\n",
       "qvhpShqAs4GqVo2IfSJNmMPVJEPIDzmJxaQJkSYxd6QMD8MJ1WyIjeEow5tBPlQD0Jp5W0GHDYz2\n",
       "DfBUnPfw77/C9zbRkzkKPHxEPaEPtrPLFCOCk9vh2+e12gScc1Xk44A1nUlv/nqTE/YHTo/0akyE\n",
       "TZRI9k6TcdghTDc1cZpx3OObjWEuraqyQKgoWorxBFDn0FcDJ0jAMUifyc4cElITPkQ6nNpAGk6Y\n",
       "Kocq/Ev3lYZ6D85SVboVxMoGnVMYq7IVIjEAGowHZmV+pWBQvaBooDSyjduo8qnN0XnPhPSki0gc\n",
       "nSbstD2XxglptjRrwshTWgWI8qzV25eqHTZ79PhRrSq/o+3MrDaB04CxhkHDaQxYSmXEXWAdPatY\n",
       "A2epKtldhjIdG7ZgnDfh496g7jU4KwU5Js8UfRg53ZKUszt9Ci409CJiibLGJKepRadBoRSrIozM\n",
       "Zy84TQ9J0jQNnCtmDpmhLtaPtnMCTg8nDQbSlvtR/TWN/5fK+XwNnIWqONEZKu/NqjQWI79Jh1+D\n",
       "s1aQucpMUdu0PjgCvYicJkzhxKaG3aNQlZwnjL4s41GOKGrJaWRgRW/6MpFz/vlHYp5NOCcbMq6t\n",
       "AtnBdk44Z+hLDh1KTTsO/MVBZgqGGclBuCHsUx30X/IdOEdVMbbldJAuF+6cQD0prvlrcFYKJH6p\n",
       "KBdELap1OXTE3BIXY/3k9lyM8ew0UTlN+9EPjhsdg1SmHXOnmT5Eq7U2h2hZavaU0wNKnMnOulr3\n",
       "Ps29awu4IYiTESSG+bRu5NbIycs2OChXo+KChNbKsnJ8HK3gRKfYTAoUDfLLf+llRXkmg/1O40PA\n",
       "pFWlGZuBJBL+6DTgmOE5zWFROi0sVBHv3vEIi9w5uljMnKZSGYHXAqJpyTi9QWkqohryB9vJ6z5n\n",
       "uEjuyoNQ/ufYkcDpIQnoRnB2BWQkq3lhZIrEljqIUVVNTCdJvVQwRvMFRdXE3SPEF5PRWyb8gsuI\n",
       "ogGwMW0wCwwgGAJpHerbftbi0cfxWRigQOF17ku4cDYLpzCvvJjFqpNW1f3DHw+cNu/6mFz2YDtZ\n",
       "5hjTLXPcJa6pRQxV4doBnAQPVc46OEuahP19FvQioYmPDIekFPASnJWCIprPFI0j+3Or+kJ1B4v5\n",
       "yuLGwXaOj9lMwekpp4SeAzJcRc5OGrCpzznNyQFBrKacBYGW8e9qlwhdVhDS+r//0CGtTxWVrY0b\n",
       "g1OQ3wCcOLdIpuC0oGMwIHBc5Ekb78B7OrQEzp4aBApB8FijpbWHeCQ9zVQtF9BlBV21GadUNBH9\n",
       "c09pwKM3VOvvrAofbCe1r8AZdrzY0FblQ4ObwdRa+xicKnINopyQniWbQBUcDp1zk3izCYudYd8p\n",
       "f1EQlQq6arqUimYV0Q9tiIqsix/qNviNwHm4nWO/5fVjGgSHJLp1vWX1MQ2z4chSK2n8+MYynB6e\n",
       "fH9MWPcbiBw7JN96hkiS9SPvwbl1F55G3SMXFjw6+lvg1BuOvAWn2RrDSaPV9UeOEWS+Ds7NwltO\n",
       "vUcuJ2Vb/I7vSkLs8fEdAuctwfm8AfHCgbP03S3fzyn04+VrCq+eZbolOAnkj5+vKARW/cVm4DzV\n",
       "O+G5eF7mdUUpNqi1fCf82dLDUxNdMXDOmoD/AUdufxv6TFTGAAAAAElFTkSuQmCC\n",
       "\" style=\"display:inline;vertical-align:middle;\" /></a><br>"
      ],
      "text/plain": [
       "<IPython.core.display.HTML object>"
      ]
     },
     "metadata": {},
     "output_type": "display_data"
    }
   ],
   "source": [
    "qcircuit_output_part_neq = Forall(\n",
    "    k, Forall(\n",
    "        (A, B, S), NotEquals(MultiQubitElem(Output(A, part=k), targets=S),\n",
    "                             MultiQubitElem(Output(B, part=k), targets=S)),\n",
    "        condition=NotEquals(A, B)),\n",
    "    domain=NaturalPos)"
   ]
  },
  {
   "cell_type": "code",
   "execution_count": 17,
   "metadata": {},
   "outputs": [
    {
     "data": {
      "text/html": [
       "<strong id=\"qcircuit_eq\"><a class=\"ProveItLink\" href=\"proofs/qcircuit_eq/thm_proof.ipynb\">qcircuit_eq</a> (conjecture without proof):<br></strong> <a class=\"ProveItLink\" href=\"../__pv_it/theorems/b2246802e5f49f8ac00cdc076d3910dc4be1e4ca0/theorem_expr.ipynb\"><img src=\"data:image/png;base64,iVBORw0KGgoAAAANSUhEUgAAA9cAAAFFCAMAAADRmO56AAAAUVBMVEX///+Dg4O+vr6fn59RUVGT\n",
       "k5M9PT1GRkbOzs6/v79aWlrf39+IiIgiIiIQEBB2dnbu7u5ERETMzMzc3NwyMjK6urpmZmaYmJiq\n",
       "qqpUVFQAAADN+RFeAAAAAXRSTlMAQObYZgAAAAlwSFlzAAAOxAAADsQBlSsOGwAAIABJREFUeNrt\n",
       "XYmWxCpudZLJJJPxjlf+/0NTazeYTRKYqsbinHnTrx4S4krXLMaoqtKWUT7KXnHhwiV7aZ78S653\n",
       "lN16KzMjzIVL/nIn37qfwWvB4HLh8lFy5+D175R8WxlyLlzK4PXyMyefeCjnwqUQXo/vAVsMjDgX\n",
       "LoXwupr65/93GyPOhUspvF5fy+qJAefCpRheV21zL23HgHPhUg6vl/H+z6H//aWHqOqpNvSplJ9q\n",
       "QSotffVZK7lclddif//jHVDtCIg6SCWq4OctSKWF3lZIchzk0nXLkKIWTRCkm2xAhCReSVYrM/H6\n",
       "MVR3yhG0TgK20ECVqIKftyCVFnpbQcm1uf+zblPUogmCdJMNiJDEK8lpZS5eb7W2azaPbR1UBKpE\n",
       "Ffy8Bam00NsKS+4LJEhgtWiCIN1kAyIk8UpyWpmL1zdSr0oM1dUU/i4EVIkq+HkLUmmhtxWWbO/j\n",
       "ed+sKWrRBEG6yQZESOKV5LQyG6+7beqVgKqWKRx1gEpQQTFteOWnWoDQsgzRtcCSmplC1uu67IF1\n",
       "HawWXFA1AaSbbADEApwSjxOA1eCSPiuz8Vq0uzL/ey8WhLJFrv7tqjRv9RL6UMyufRDWOppClwVq\n",
       "JZQFWuUBeYb2tx/bogLpgkmthcNJ06+a+VjX9c9ZoNtVjlphG1zqFROUKm5XOSoBQHCpR/lK7YbH\n",
       "VY5qOCu1BjxWZuN1pTwUl67rdnnr87g1Pz1X/3ZWuoVhH7LYKli19jqqQqcFaiWUBVpl7H7Jj5Zq\n",
       "USZgTiO1WigrNUnNzBfl5Ox1laNW2AaHoGqCUsXtKkclAAgOSZyvFCU+Vzmq4aw8evnzvNbmf3cr\n",
       "HzxXe66hYK900zy2FO36yfTfOrpChwVqJZQFmiBymqz0YxKiroMwqbVwOGmSw3FdV80BVzlqhW1w\n",
       "CQ7WKm5XOSoBQHBJonyldsPjKkc1nJWa5PBVvJ6fT5znKxYzWPrOW6ka5p9a+j+8guvzqJulzkuh\n",
       "3wK10vNviwF+wacFTjGfFim2fggaqdfCWKlKKmbeWN8/9muWyucqd62HDW4TXIKrq4rhqlClEAgu\n",
       "yRXmJYsSt6s81TBWKpJr9028Xh4L7X6R02wNlvH+dHJXep5ce9YaW6H8wyv4WsJY6iwjwAK10vNv\n",
       "iwF+wacFdjG/llHuKlkcRh5qIazUJBUz10l29+MQW+XgdajWwwanCU7Bhwm2KoarQpUCIDglfy3w\n",
       "uspU4naVpxrGSlXStyxfP3xfyuuJpnl281Tq+qp21PIKNv1mr/NS6LdArfRjgW0z0iP4tgCw03qo\n",
       "Unei6UXISL0WxkpN0m0myFU2X0GAsvjKqGJzlbcSylUWX21YTwFd9VMNb6Uq+RPTX8frsW7vn26K\n",
       "9vfv2wyxd1eapJRNZasVEOxqYa3zUui3QK30Y4HFAK/gy4I5fCT7WGURVbcGYdJqoazUJF1mglxl\n",
       "9RXEBIuvjCo2V3kroUCw+CrsKqMGzFXvagQrVcl3TH/jeG15Kq2gZ6OlFkRwTWaBrRJAEHC2YI2C\n",
       "iW4lyEy8DUQTyLqTgbDSPZXTVV/M6zVZJarg5y1IpmatPg7UqUitnwfh+1218n2kXLgUVz7C6wl2\n",
       "t7hZbbrApeSiifko+goIWSCKA63AWPgErxfYZwpmteUSOUS6iF5eAyELRN3OsfBhXm8t6CFkVnMK\n",
       "Cvq9aSLflWvgplrysgsI7d8vJkTtepGOfiuve5ipZjW34ETvxCSzuQjc1EzdoLAhtA5S7rcy4e/p\n",
       "iBA9uykTornMXR1qt/LzeocNW2Y1p+BGTzK2yWy8RjS1E69ZtyPUPrXtEs/OCNGTmzIh2su8m57Y\n",
       "rey8HuUMUzKDBZed/KyOED2xKUG72MiOkJD168m/oFcOdNGzmzIhErLIy+mJ3crO6wk2XJvVnIKd\n",
       "6KjjSYToqU0NDWmiP9k9PL7+v8YHB1n09KZMiGigfX2hdSs3rzfYcG1WcwqKuqqJj+oI0XObGilE\n",
       "ciD0zpg6teiZSYTo6U2ZEI3nP30+UWjdys3rCfb0Mas5BZd7RNN2DSNET25qIFxa6UDouXDt94a6\n",
       "vCaJnt+UCdHQlshrWrcy8xr48EE8jOf7122SlEgkQvTspjb8NMKB0CiHuq73aaU4kiyaoSkToq3M\n",
       "FTapW5l5/bx3BzAr66GCy2Nv4fn6vl+VFab2LyHRvuv23w9bw6KE4frHyrVRCehoS6ItcCBUP72x\n",
       "PV+BoRDSRM9FSLcShJAFIllm/jdKt/LyupegXXuzmlOwHpZl2Z//dazr36mo9i9B0TvvlgYk2r9h\n",
       "Nv8ANXWbcyrrYFdb6FdLLoTes7jHrh0OIU30XIS0pmAIWSDac22C5i2Ubp3A63//37/drW0wozag\n",
       "YP98sL++ya42NQI2f9RqovctJ/ELn1f0fWuO5Q9IU7d29GmWta0Zuz5wIfSaJLw3mjEIaaLnIqRb\n",
       "CULIAtEsi0zsSOnWf/5fzvF6gE3DzWouwVe4NC2e15ro2sOjljYL/7VyHSpRdyEzJXK3xIHQ+N6s\n",
       "25+75QiEdNFTETpYCUPIApEsc+eM0K2s8/BegqLBrOYSnN95tSWa10fR2xywqc6J2kNTey22/vd1\n",
       "jqOtATf5ciH0WrjenDJhETqKnojQoSkYQhaIhjIn4oRuZeX1CptQmNUcgqL96bhARq0hWo3KN3FJ\n",
       "o/bYVFvfN8dDbdW4yZcL2unZ+Ny+sq0geH0UPQ+hY1MwhCwQ1WVOxAndysrrHXYoxaxmFewHKR9x\n",
       "sN3/6DBRaxHVcjMkjFqjKSEX9cpMV1sjbhfUDu3+8znFViFnNKboWQgZTQERskA0lrkjTuhWVl63\n",
       "sMbMakBB1Pr6MKje1sBCnBG1BuJDNTeVCK8eJeabyysiZIEIB9rfWWCju5WT18mX146ofd6mjgo9\n",
       "MYzjuPQUUfToVN8mtFUXNHOSiKtPLomQBSIUaH+n4LuVk9cb7O21WQ0oKLpJdvXrNvX3v0CHu3sh\n",
       "iaI3QW7o7OsYbGvBnAu+JEIWiJYyz4jju5WT1wts+W9WW7D7BhHnCXMeRdz8nhkwjr8gQhaIUKD9\n",
       "nYLvVk5eT7BTKWa1CXlCdqYvsuaM6zN/WyPmreUlEbJANJb5BhvfrZy8bmGv4cxqLfL9XcSHCjlv\n",
       "yVoDS2aEay6JkAWiPt/9NzkLvls5eQ3c1bvMLmcQhxFR94oIWSCSZZ5MQXfrBF7/S/6v9XcBe+iY\n",
       "1USZD+FQaeBz64siZIGoKfNbTXS3/iPfeL3B3sWY1TbZXDFoJ/gm6EURskA0lbkhju5Wxnl4DTs1\n",
       "Y1arC/2uNlB2+B73RRGyQLSXeZJ0x3/el43XHWyz3qwWFCwsL8CrLBKc7KEr8/UOASIEaH+7o9/D\n",
       "6x1mm1ktKFhYXoAfsoIfBB6EyswL4ISoK3Pmgu5WRl4PsKuhzWohweLyArx9CV40exEqMi+AC6Ku\n",
       "zJ0GdLcy8nqC8dqsFhIsLi/Ae9EMPozgQ6jMvAAuiOoyD6agu5WR1w1s7W9WCwgWmBfg5Rqwb3wI\n",
       "FZoXwAHRWuYbP3S3MvK6hfHarOYXLDEvANaXPoQKzQvAvP4eXtewGK1RgkXmBUAuyH0IlZoXwA7R\n",
       "Viavt6/m9QqL0RUjWGZeADSvV7c3Cs0LwLz+El5LGK/Nal5BV14A/R77kKhWGyBKGK7teQE8bc1w\n",
       "X3oQcucFCHbTnRcgOUKevAC+tkyI5jJ5PX81rzdYjG4IQWdeAO0e+6CoVtsvmjYvgKetEf4xhwch\n",
       "d16AIELuvADJEfLkBfC1ZUI0lvkFDLpbJ/C6X+0m/M8//xciblbzCLrzAhzusQ+IarUDoknzAnja\n",
       "+vc//wmF3IOQOy9AECF3XoDkCHnyAvjaMiFCgPaXCrpbYj3h2ZJvvHbnBTjcYx8Q1WoHRSmz8Mqe\n",
       "F8DTVpLx2pMXINRNT16A1Aj58gL42uLxusx5uDcvgHaPfVD0ULtLeGzJnxfA2VYSXnvzAvi76c0L\n",
       "kBYhf14Ad1vM6yJ57c8LoN1jHxTVa/tEsSWQF8DZVhJee/MC+LvpzQuQFKFAXgB3W8zrAnkdygug\n",
       "3WMfFNVqe0TRuw2hvADOthLwOpAXwNfNQF6AhAgF8wK422JelzkPPxY1avV77IODqlobJ4osh1vv\n",
       "3W2l2Q8vGSHm9aV4/bhO/n2PPTBo1VvvcaLo0Um79d7T1om8LgQh5vUleK3dev++xx5WtFvvcaLY\n",
       "ot9672nrBF4XhhDz+iLj9c+oRLf+e269P2W8Lgoh5vW1eF3Krffn8boMhJjX1+J1Gbfen8nrMhBi\n",
       "Xl9sHn41X14UIeZ1Tl678gJI+d+wGP1vmmBp5V8YXl8SIQtE/yqT1+hu/QeP1zxeX2O8HvpLxALP\n",
       "w5nXl+L1ODCvmdfM6+LW12vHvGZef50vl0YpOyME4rUG2vnXJTOvmdc8Xmcer6tqmzbmNfOaeV0Y\n",
       "r6t+Uq9YYl4zr5nXBfBaTJ2omNfMa15fl7S+biZRTEeZ1zxe83j9KPNwhVhgXjOvL8VrMVXMa+Y1\n",
       "87owXg8j8zqm8PnwVDjy+XA0RB7QxDVi4VlKOh8ezrtxhuhpbZ0wXheGEH/PdY15eEM/T9RkPIoE\n",
       "bOuMeXhZCDGveX39kfHksuvrTKM785p5/Ynx5LK8zjS6M6+Z1yX7kvfDmdfMa+Y185p5zbxmXjOv\n",
       "mdfMa+Y185p5nY7X2d/OnitVwvvrk6WY15cYr7O/nT1Vqoj31+dKMa95Hs7zcJ6HM6+Z18xr5jXz\n",
       "Wl0drXYTln+ATt6LMfzLRaIW3O+rImSBaCwSiv4f/8AJiPTplqLH6zn4C4/XjBCP1zwPP/tpespp\n",
       "6JLm4SedF2deM6/PLKechh7hmeMvipAFIgRozOusvG7lGvzlEmWGh+hFEbJANDOvi+N1YbcGnMDr\n",
       "0u5VYF7/HV43Row20NGorFsDECF6UYSY13+I15Osg79comyyhVa9KEIWiBCgMa+z8nqQXfCXS5RV\n",
       "NtCqF0XIAhECNOZ1Vl7vRtbD/e/mQYwpNXxFe1GELBDVcmJefyWvF7kHf7lE6SQ4P8VFEbJAhACN\n",
       "eZ2V15fxVZisywmPgMIhWsqcuRSQF2A1ZlJrmXOr8KK5hnvxkghZIBrK3EEsIC/AbOxozmXucYbK\n",
       "BD9EdlGELBBNZX7ZVsA8XBhvIEWZ7yRDpZXw77muiZAFIgRozOusvL7VE8FfrlAwrrwmQhaIyvzs\n",
       "owheN8ZHh03oM8SIFKg5s6ei2hKYuXVzyQ81TYhEoQuSEni9G4ci99AxyYneiynjDBbV1ozZC/Mg\n",
       "tA5S7rcy4fPERohWOdoyIZoL3UAsgde18aqiDry82OjLyy3jyhTXVo05Q+ZFqB1e3MezM0I0Q1sm\n",
       "RHWhB+9K4DX+Kbzs5OVlhOjJbe2YnV0fQuL16mfGv9qNEK0ytGVCtBd60VsJvO6NYa33D3Sd6Kjj\n",
       "SYTo2W01GE/6EFpfra74V7sRolWGtkyImjK3zYrg9c05IviL+qCvb9Mv2mM6QvTstnrcDpAHof3l\n",
       "4qlFz0wiRKvz2zIh6kt9j18ErztjE6jzbZwt95Ur7b6QCNGz29pwR749CD3Xrf3eUJfXJNEMbZkQ\n",
       "baWeky+C17Phndnjr3m7N0naLokQPb0t5ErRjdAoh7qu92mleJIsmqOt6yyvy+B11crwL+o4WAna\n",
       "czpC9PS2WqRjnPXrpzu2Fs/OCNEcbaHChHkdWyLzAtxrGvtLi3PHqR6WZdlf3zP16++2cL+HuqaK\n",
       "9l237z1E9OfyLfMPYFvV2tQhM0fs48aJ0NC+Z+ojFiFN9GSEdDNVhOAQjcV+rlpAXoDHpLIL/vLu\n",
       "8NP/z1syxrpWbsvYArGkid6H06UBif5cvmX+AWvrNq7MITPR23lOhN6x/thnxiGkiZ6MkNaWjhAY\n",
       "orrYdEZlzMOrtg3/8ju9vcfN6z9vStQuXXhm/CN6P4cpfoa8JfWaWzdTqKDb25rQG7sOhMb3htr+\n",
       "PGqKQEgXPRehg5kaQmCIpmK/aiuE17Vx3Lm2H4CeX9HwPqGpRm3jPzKti97XDr9R2yQ+bX0wcx0q\n",
       "UXe+tgi7eQ6EXuvWm8YJi5Auei5CBzM1hKAQjeXe8lYIrytzoWRdOon3A3p4talEbe/vmSF6W9o1\n",
       "MFF0Oba112LrX69p7W3thPMV9sXlawyb26lHImSInojQsS0VITBEe6GHUgridWd0w/yl6gcpH2Gw\n",
       "3f/oDlHrXQFaRKux6YHrTuSeh9FWW99fenna6ikbQBaEqv3na4o39lCELKKnIWS2pSIEhagv+JK3\n",
       "UnjdG1OqHjTJUqIWuwIUQ08VxQ7fcllGb1s15dB6qQhBIaoL/ga9FF7fnNQHf/FHbTOjkBDL7X+C\n",
       "JIott8Xj3FS+tlrSZxaFIgSFqC34ruVieF01XfgXV9T295qywnyrIIZxHJeeIoqfdda3GW3Vuduq\n",
       "iQvF4hDCQFSXu7ouideboWULzrNEN8nu/pa2vbW01Jgt21beC0kUXYZbP/Z1dLbVU4+sF4cQAqK+\n",
       "6JSi5fC6WobwL+4Ip5uf82jD5thFouorDyEwRHvRN6gXxOuqWcO/OErE6m/OOJuztzW3dBNKQwgM\n",
       "UQxozGtQicwL8NsXw1Uj1HkRU7Kcszl7WzFHPkpDCAxRU/a9jQXkBVCewSL8S3mlj4rQKyBkgagv\n",
       "/DrWkubh1TSHfzHawJdEepJiKGVyC0QTM1PNhbwsEHkL9FhnlMTrZQ//YrRBcGQaPYmj6wSZLuI4\n",
       "VjbkZVUg8hbokc4oiNebsVTcwotH5rWn0K9HyId8mby2QI9zRjm87o2O9wAomNe+tTf1oGVG5Avl\n",
       "tQk9zhnl8Hqfwr8wr3Ey1He8GZEvlNexL9yL4fVofE08QlJQMa99RdDuE8mJfKm8NqEXODoUwutp\n",
       "Cv8CQTic6g7Ea6oa8rYwvh+Q6BoaikNpyH+W1+mQT9R3E3qMM0rh9WYMERsoY6TRm3CqOxCvE6mh\n",
       "hzcgZZ+EuIbwuQYaeWgKPXmemiTIg1MByooCPcYZpfB6asK/QBAGpLqDhEUiNXReQ1L2gUYNwg1g\n",
       "BORhKfTkeWoSIQ9MBQhqzIQe4YxCeE1+uB17A0h1BwmLRGrovIak7IM0tuFX2ATkgSn05Hlq0iAP\n",
       "TQUIasyEfsMQoghek++uOvQGkuoOEBaJ1NB5DUrZB2sMfYERAXlgCj15npo0yENTAcI4ZEIPd0YZ\n",
       "eQF6OQR/gSAMSnUXDotEaui8hqXskzCWIlNtUZAHptCT56lJgzw0FSCMQyb0cGeUkRdgNWquQFkd\n",
       "YVCqu3BYJFJD5zUsZR+osRl7Fy8FeWAKPXmemjTIQ1MBwniNyHZR6Dx8MDoxALul9QaW6i4YFonU\n",
       "0HkNTNkHnA0id84IyENT6Mnz1CRBHpwKEMghE3qwM4rgdS+b4C8QhNVUd2peKv1fgmGhqNFyVCHV\n",
       "0Hmt9kNLXAWwwMJT1EScgryeQg+HvEvNJ5DX+xGNvAV6sDNIvP79tGRbv4HXqzE2rdAJi4qwmupO\n",
       "y0ulJ6kKhYWqRstRhVND57WWsk9LXAWwwCg1biJOQV5LoYdE3qXmE8jrqQCjkbdAD3YGidfLj8GT\n",
       "+AZe78ZBiF3O6Og6pLpT89do/xIIC02NnqMKrsabYVJi+qEnrgpbYPEOakecgvwhhR4KeZeaTyCv\n",
       "9yMaeQv0YGeQeD2+B2yR5O63aF4D8xoHTgZ6MvLpTvHr0dToOaoQanwZJlH90BNXhS2wwYaJEALy\n",
       "vkx/CIN1NR9A/tCPeOQt0EOdQVtfv/Mvdds38Dpiea08OX0Z+RDj9VGNkqMKNeyTZ4MHA7TEVaRR\n",
       "Y5KIO4MoyPsy/SHG66Oa7MgfDIhH3gI91Bk0Xq/v2PmKfbPNeGO6yQEbXb6MfIiwMLPzjcoNNhmi\n",
       "62iAlriKFF0L5ow4AXlfpj8Mr42sf5mRPxoQj7wFeqgziPvhbXMvbfcVvF6MzYQFvNfzQtifkQ8c\n",
       "FhY1So6qDNFlGKAnriJF1yoRqy008v5Mf3Bem2ryIm8YkAB5C/RQZxB5/bR46L+C15NRbwK/+XYj\n",
       "TN0304uaoyrPqHFwl5a4irh7g3iDnR15p5oCkLdAD3UGkddif/8DVbpTeN0aL/Va8DvXUHT1XVRY\n",
       "aDmqPhFdeuIqUnT1mAs8syPvfKAWgLwFeqgzqOdS7kN191zCq+/f+/1wULlZ7rXW9vkIsH/lEpsX\n",
       "gL5r6AkLNS/V+1/wYaHlqKKroUeXnrgKYIEVX/jJlOzIy6pg5C3QA51BzQuw1b+7Zur793dK8bHe\n",
       "h+H2+7ZX3a2BpffwOnK8FsYjTMBHmHDFDSQiM6lBT0exFlhKA/+uLj/y2Rz4CeQt0AOdQT5HOlVr\n",
       "/falum/ynHT8bBlst1rLzwT8FF5vxquVDfyyBXAnZ58kLBKpiYguoAXWNTN4Qzw/8rkc+BHkLdAD\n",
       "nUHmdbe9Xydo79+faY/qn+Ol27jNor7zuluWpbn9b07N69o4g1PDj0gFEV6rJGGRSE1EdK0VNbp2\n",
       "+EnS/MjncuBHkLdAD3QGmdei3X82CH7fv/eP/9r/7sVv420evs1njtedsfXfwd/MfNl9pF93e97D\n",
       "axK8QZof+WLvLXRAD3QG/Xuu/b1+V9+/P5fX86ry+sbmejiR17vR0x0eiF9/z7A8rR9gmQ4+COdH\n",
       "/rx7hr8AeQv0QGfEf6epvX9/Lq/XaXiU7cnrvntvsZ3C68G4TGoIXC/FvEbyGrxozo986bxuaM6I\n",
       "57X2/r157BGMnTZeV/P2Wuuf8v56MmJpYl6nlKnhB1Mm5nVSGRN6oDPief1+//54/S6rB4N/D6Kt\n",
       "z3203W9DFK8bYyehgW/0MK8hLke8l+mY1wllTOiBzojn9fv9++P1+1I/eCzeF6OPzfML7TN53Rqx\n",
       "1DKvP8TrlnldCq9/i8LCvruvr4Hf90Xzug7+4oH4y/Pay/P6AVW9YXhdZwa+aOQt0G/ZeT1TvwKJ\n",
       "5vUa/OXMZ+q5auTn+4Hi9fotwJeA/FfwmuzRSF5LI5Yk8zplP2bE4VDmddKOmNDP+efh1BKZF8D8\n",
       "PAT6wQjzGlQQ3xCkQJ557YMe6IwC8gJI+V/BX5jXuXj9X8zrb+B1AfeHm9Wk3JjX6foxYni9Ma8T\n",
       "dsSEfmReM6+Z18xr5jXzmnnNvGZeM6+Z18xr5jXzmnnNvGZeM6+Z18xr5jXzmnnNvGZeM6+Z18xr\n",
       "5jXzmnn9Z3jN33N9iNf8PVfpvI7MCxDFa/7++mO8TmNw2d9fk3lNzQvwReO1+XkI8IMR5jWsIL4h\n",
       "yI982bw2oQc64+rzcOY1j9cljtfMa+Y185p5zbxmXjOvmdd/jtdiSsJrqppkWSfCBjCvz0Geef2N\n",
       "vJ5kEl4nUkMP77AB38PrdZByv5VpGGM6HqMmCfJQA5jX2XkNuBYOEhaJ1NB5Dbne7ovG6/aZ6Gn3\n",
       "J3eW56lJhDzMAOZ1dl4vuxQJCJlIDZ3XAAO+iNfidT3x7E8XIs9TkwZ5oAHM69y87kQXeNSCwiKR\n",
       "GjqvIQZ8Ea/Xl7Gr//pxeZ6aNMgDDWBeZ+a1qKs6KBsOi0Rq6LwGGfBFvN5f/zK1IqbjEWrSIA80\n",
       "gHmdmdfLfWG6RhMykRo6r0EGfBGvn8vSfm+i9s1i1KRBHmgA8zovr+d7Iu9ghqlgWCRSQ+c1zIDv\n",
       "4fUoh7qu92mN63iMmiTIQw24CK8/mRfgOM5W4pWZvV9/XwD3XbfvPTgsFDWaJFINnddqP9ZGWeoB\n",
       "LLCUc/ICKK3Xzwf71q545F1qPoG83o8EyF88L0Ci8boelmXZ5WMuNdZ1o/FkaaBhoarRJHFq6LxW\n",
       "DbjNDecK05FPjNfDK6XzY68PibxLzSeQ1wxIgTzPwxNEV/98vMoX+ttvdMn5Pv6NsLDQ1GiSCDW9\n",
       "nFx/BKNL74dQawMs+ASvX1OL9zYyCnmXmk8gr/cjAfLMa4hg4GTg65Vj0xq8vq8TFKf49WhqNEmM\n",
       "mmZx/oHrxzpUou7gHTmF1/6WxvcW3y5nPPIONR9A/tCPBMgzr+NHjfnllPcBTCW6HnMr4DTuqEaV\n",
       "RKihzwYPBuy12Hr1tUv3dfPw17L01s6ER96tJjvyBwMSIM+8jo4u0b4XSS9r9OgaG9i2i6FGlYSr\n",
       "oUfX0YC2vm+Owy34AK+np8lzO/V45N1qciN/NCAB8szryOjqBykf3tjuf3RGdImhrwBhYVGjSkLV\n",
       "0KPLMEDIZRkxHcnO6/3nY4m3KAp5t5q8yBsGpECeeZ1g9+ZQ1OgStxWWEJSw0CTpajC7srq7hmpu\n",
       "KgHvyCf2zWKQd6opAXnm9VnR1XePR+04jktPCIu3ZKQaenTt9W3+V3XwjnwNr4EGOx+oJSDPvE4d\n",
       "XaKbZFffbGtvqlptvxITFm/JSDX06Bpu0O7rCLfg47xGIu9SUwTyzOv0o8bP6AESkZnUoKejWAu+\n",
       "YLxGGZzNgZ9Annl9WnTNfZKwSKQmIrqAFnwPr2EG53LgR5DnvACnRddaJQmLRGoiomut/hiv1zQd\n",
       "/8vIc16AwC8Rs8GEYQFQ8423510iL8B33lvIeQFOW+Vl5fXZ1f7U+jorr78SeV5fM6+Z18xr5jXz\n",
       "mnnNvGZeM6+Z18xr5jXzmnnNvP4grwvJay+vkNdenujAr0SeeU2NrrTP4RPUyM/34xxenw18Ccgz\n",
       "r5nXzGvmNfOaec28Zl4zr5nXzGvmNa588nw485p5XSKvCzgfHpUXgHmdNEZSIM+89kH/L56HM695\n",
       "vOZ5OPOaec28Zl4zr5nXzGvmNfOaec28Zl4zr7+V10ujlJ15zbxmXvN4zbxmXjOvmdfMa+Z1guiK\n",
       "+PgmgZp0HwMl6kdGXjPyzOvTeC0TPXYlTc2ZlZLx+pz1dSqDS0Keec28zsfrc8Zr5jXzmnnNvGZe\n",
       "fzuv+9VuAvAyauY185p5feQU/M73ZxHrt43XUXkBmNdJYyQp8sxrzgvA4zWP1zxeM6+Z18xr5jXz\n",
       "mnnNvGZeM6+Z18xr5jXzmnnNvGZeM6+Z18xr5jXzmnnNvGZeM69E3z5rAAAI2klEQVSZ18xr5jXz\n",
       "mnnNvGZeM6+Z1+Xz+pvyAjCvmdcl8JrzAjCvE8ZIUuSZ15wXgMdrHq95vGZeM6+Z18zr6/G6l1MK\n",
       "XmPVpK/0a8Ef4XWswSUhz7xOPmo0S5LxGqnmhEo/FvyV8TrS4JKQZ15DBIlXTkpSIaqpzPlCpCZs\n",
       "P87gNa1leXnkmdfFra9/hxteX18WeeY175sxr3nfjHnNvGZeM6+Z18xr5jXzmnnNvGZeM6/5/bWr\n",
       "km13lt9fXwX5i+cFOON8+Le8v7bszuZ+i5r5fPi3vL/+AuTp58MLyAvA83Ceh/M8nOfhzGvmNfOa\n",
       "ec28Zl4zr5nXzGvmNfOaeQ2qpO7OMq+vgjzzuvjxWtmdZV5fBXnmNc/Dmdc8D2deh5zC9yp8itd8\n",
       "rwLz+sTxmu9V+NR4zfcqMK95Hs7zcJ6HM6+Z18xr5nUmXnNeAOY18zotrwvIC2B+HgL8YIR5DSuI\n",
       "bwiSIs+8tkAPdAbPw5nXPF7zPLx4XsPuiaTooTafTNOX85qRZ16fxusUD9mkauTn+5GH16mBLwF5\n",
       "5jXzmnnNvGZeM6+Z18xr5jXzmnnNvGZeM6+Z18xr5jXzmnnNvGZeM6+Z18xr5jXzmnnNvGZeM6+Z\n",
       "12cVMVbMa+Y185rijHGsPl3c4/UMi6WZJsi8PoHXM/Oax2ueh/N4zbxmXjOvP8Trinn9KV7TnDFi\n",
       "PzbJyOtWgnKBmdWAgsxrWJnhMZICeea1D3qgM+bL81oiSyI1MnVwnGXAabyWjPw1ed3AgsSs1qB4\n",
       "neYhjIUlfXSdNpogYgSDfCqDC0a+TF5PsoaIm9WAgsxrWNlkC62KQZ55TYEe6AyEz7LzepAdRNys\n",
       "BhRkXkNd3kCrYpBnXlOgBzoD4bPsvN7lAhE3qwEFmdewUiuZ59C+YF7H1DehBzoD4bPsvF7kDhE3\n",
       "qwEFv5DXEfsu50VXJwdoVQzy38Xrr0TeAj3QGQifZec1uQuoTh37I6Y00UXSE3ErJrIfiOha4IMw\n",
       "Bvkv4/XJorT6JvRAZyyYKWtmXq+wuYRZbcVMQqSx9ZMmukh6EkZXoH1EdA3wzTAM8ooB6yDlfivT\n",
       "MEYhH6EnCfKg9jG8NqEHOmPAbB1n5vUM29Mzq82YzcBDfzaZhtc0Pel4HWofEV0T/BAZBnnNgHZ4\n",
       "rc/HOOTJehIhD2gfw2sTeqAzJuzBv4y8FrB3cGY1gXl5d6i67FKk4DVNTzpeh9pHRFcrwd8GYZCX\n",
       "mlz9ei4sUcjT9aRBHtI+htcm9EBnIHyWndeVlKCsMGY1oKAF5U50fkSAvCbqScbrYPuI6MJ8QoBA\n",
       "XmpRNb7+v45Cnq4nDfKQ9jG8NqEHOgP72UdWXjewr/7Mag3ic0GtP6Kuav8MBsZrqp5UvA63D48u\n",
       "gVnVIJBXDdhf/zK1Igp5up40yEPaR/DahB7oDIE9lpKV1zvsVKJZbaceZ1zuC9M1ntdUPal4HW4f\n",
       "Hl0zZhcSgby5LO33Jm7fLEJPGuQh7aNO8E40Z8zY19dZeV3DNuvNajXxeMS83a3ponlN1pOI14D2\n",
       "4dFVY07vIZCXagQMdV3vU+wTNUJPEuRB7aNOBHU0Z6B8lp3X5IfTTHvdch/mblOY59GKfv3V0e8S\n",
       "xWtFT991+95D9STitdqPtVGWeoCOWIZgxNYqAnmphuEjArZ2jUNe0/MB5PV+RCNvgR7ojB39HXxO\n",
       "Xvew3VWzWk/blq2HZVn259GKsa6VE7bbhOG1qudOsaWB6pE/HZhcfwACU23/NjdUV7zhjliWzIgt\n",
       "GATySsXhtRp87PVFIK/p+QDyWvvxyFugBzqjwW6bZeX1zTwB64WACIbOBvbPx+v7xPymRNfSBZSo\n",
       "4azpue8jiZ+t6aCenw4szj+Q/RD6TCLYEZOpqC0YEvLv06evbWQy8pqeDyCv9yMWeQv0QGf06G2z\n",
       "vLzuYLswZrWOsn3zcl/TmrxuZsSooelZezW6QnqSzAb1fqxDJeoO3pFj2TCH7THIq8vS9T19nGOQ\n",
       "1/XkR/7Qj1jkLdADnYH0WXZezzD7zGozvGM//ZlfTnkfwFSiq5eI3ZujnlusN1A9KaLr0P5ei61/\n",
       "v3YBdCRyqQZH3liW3gJhikL+qCc38of2Y5HPubzOy+uqhbVmVmvRyzzxnroML3OU6PpdG4Wjy9BT\n",
       "jU0P1ZMguo7tt/V9cxzeETqSyPq/9aanyXM79THIG3oyI39sPxZ5eli3eJLm5fUCOw5nVlvA5+ie\n",
       "/ekHKR/e2O5/dIfo+l0bhaLLokcMPVhPdHQZ7Qu5LCOmI4ZzkFM6MPJvA/afjyXegwwJeYuerMgb\n",
       "7ccib4Ee6IwRPw3PzOsZ9h7OrDaDX+A5+6NEVzP3iPW1XsRtuSsEUE/6rwVvi7y5qQS8I4dSY6d0\n",
       "YOTdBjDyDuiBzqgJtz3n5XXVwjb2zGptm4bXffeoU1OjSwzjOC49UE/66Nrr22y06uAdOZQJvbMK\n",
       "RT7E66sjb4Ee6Ay8z7LzuoadNzar1dCDyo7+iG6S3c0VY3t79i31TI2u9vUKA6YnfXQNN2z3dYR3\n",
       "5Ogb7MElMPJOPjLyDuiBziD4LDuvK+BSwawGXWME+7OBqodh2eghUiUR3fBNVTv6gAPcZRUjj4Me\n",
       "6AyKz7LzuoMZaVYDCgZRnvs00QXSc2Z0ATuilZ6wAwNFPpXBZSJvgR7oDJLPsvO6h00qzGpAwSDK\n",
       "a5Umutbqw9G1EpqqER+yY5FPZXCZyFugBzqD5LPsvL6Z2cN609ME/959pGcacFyjLhSHwpD/g/eR\n",
       "ZkTeAj3QGTSfZed11cDGXbNa0/05XkeUMwyoKSs1KPLffn/4R5Gnj1NEn+Xn9QabV5jVYILMa8+E\n",
       "mpgdE4Q88xoFPdAZVJ/l53W1wO6kNquBBJnXzrIPVGMgyDOvUdADnUH12Qd4XTWwR5BZDSLIvHaV\n",
       "ue3J1gCQZ15joAc6g+yzU3j9KO7d+RFmrFkNIvjlWZjh0ZLcgGaO8GkYecnII6AHOoPis+YcWKp+\n",
       "fRSPRTNs596sNouKC9Utc4w0I58UeqAzSD570m+t/h+U1ynO5nbO2wAAAABJRU5ErkJggg==\n",
       "\" style=\"display:inline;vertical-align:middle;\" /></a><br>"
      ],
      "text/plain": [
       "<IPython.core.display.HTML object>"
      ]
     },
     "metadata": {},
     "output_type": "display_data"
    }
   ],
   "source": [
    "qcircuit_eq = Forall(\n",
    "    (k, l), Forall(\n",
    "        (A11_to_Akl, B11_to_Bkl),\n",
    "        Implies(Equals(A11_to_Akl_varray, B11_to_Bkl_varray),\n",
    "                Equals(circuit_Akl, circuit_Bkl))\n",
    "        .with_wrap_after_operator()).with_wrapping(),\n",
    "    domain=NaturalPos)"
   ]
  },
  {
   "cell_type": "code",
   "execution_count": 18,
   "metadata": {},
   "outputs": [
    {
     "data": {
      "text/html": [
       "<strong id=\"qcircuit_neq\"><a class=\"ProveItLink\" href=\"proofs/qcircuit_neq/thm_proof.ipynb\">qcircuit_neq</a> (conjecture without proof):<br></strong> <a class=\"ProveItLink\" href=\"../__pv_it/theorems/76ab71fc554eb36e72921ca0ad9f548ebcb8b9d00/theorem_expr.ipynb\"><img src=\"data:image/png;base64,iVBORw0KGgoAAAANSUhEUgAAA9cAAAFFCAMAAADRmO56AAAAXVBMVEX///+Dg4O+vr6fn58NDQ0W\n",
       "FhYLCwsYGBhRUVGTk5M9PT1GRkbOzs6/v79aWlrf39+IiIgiIiIQEBB2dnbu7u5ERETMzMzc3Nwy\n",
       "MjK6urpmZmaYmJiqqqpUVFQAAAAehbydAAAAAXRSTlMAQObYZgAAAAlwSFlzAAAOxAAADsQBlSsO\n",
       "GwAAIABJREFUeNrtXYmWxKitdV72vEziHa/8/2em9jZmkwSm3Fick0lPDRLiStcsxqgo4pZePspa\n",
       "cOHCJXmpnvyLrreXzXwrIyPMhUv6ciffvB7Ba8HgcuHyVXKn4PXPlHyZGXIuXPLg9fSZkw88lHPh\n",
       "kgmv+/eALTpGnAuXTHhdDO3z/5uFEefCJRdez69l9cCAc+GSDa+LurqXumHAuXDJh9dTf/9n1/78\n",
       "0kJUtVQb2ljKD7Uglpa2+K6VXK7Ka7G+//EOqLoHRB2kElXw+xbE0kJvyyfZd3JqmqmLUYsmCNJN\n",
       "NiBAEq8kqZWJeP0YqpvNEbRGArbQQJWogt+3IJYWelteybm6/7OsY9SiCYJ0kw0IkMQrSWllKl4v\n",
       "pbJrNvZ16VUEqkQV/L4FsbTQ2/JLrhMkSGC1aIIg3WQDAiTxSlJamYrXN1LPmxgqi8H/XQioElXw\n",
       "+xbE0kJvyy9Z38fztppj1KIJgnSTDQiQxCtJaWUyXjfL0G4CqpgGf9QBKkEFxbDglR9qAULL1AXX\n",
       "AksqZgpZzvO0etZ1sFpwwa0JIN1kAyAW4JQ4nACsBpd0WZmM16JeN/O/92JBbLbIt3/bKo1LOfk+\n",
       "FDNr74SxjqLQZsG2EsoCpXKHPEP7049l2gJpg2lbC4eTon9r5mNd1z5ngXZXWWr5bbCp35iwqWJ3\n",
       "laUSAASbepSvtt1wuMpSDWel0oDDymS8LjYPxalpmlXe+twv1afn27+tlW5h2PosNgoWtbnOVqHV\n",
       "gm0llAVKZex+yUdLMW0mYFYjlVooKxVJxcwX5eTodJWllt8Gi+DWhE0Vu6sslQAgWCRxvtoocbnK\n",
       "Ug1n5d7L3+e1Mv+7W/ng+bbnCgrmSjfNfU3Rrp5M/6mjKrRYsK2EskARRE6TN/0YhChLL0zbWjic\n",
       "FMluv64rRo+rLLX8NtgEO2MVu6sslQAg2CRRvtp2w+EqSzWclYpkdypej88nzvMVix4sbeOsVHTj\n",
       "p5b6D6fg/DzqZqjzUui2YFvp+bfBALfg0wKrmEuLFEvbeY1Ua2Gs3EpuzLyxvn3s10yFy1X2Wg8b\n",
       "7CbYBGdbFc1Vvko+EGySM8xLBiV2VzmqYazcSM7NmXg9PRba7SSH0Rgs/f3pZK/0PLn2rNXXYvMP\n",
       "p+BrCWOoM/UAC7aVnn8bDHALPi0wi7m19HLdksVi5K4WwkpFcmPmPMjmfhxiKSy89tV62GA1wSr4\n",
       "MMFURXOVr5IHBKvkjwVOV+lK7K5yVMNYuZV0LcvnL9+X8nqiKZ5dHJWatigttZyCVbuY67wUui3Y\n",
       "VvpYYNqMdAi+LQDstO6qlI2oWuEzUq2FsVKRtJsJcpXJVxCgDL7Sqphc5ayEcpXBVwvWU0BXfarh\n",
       "rdxKfmL6dLzuy/r+6aaof/6+zRBbe6VBSlkVploewaYUxjovhW4LtpU+FhgMcAq+LBj9R7L3VSZR\n",
       "NLMXJqUWykpF0mYmyFVGX0FMMPhKq2JylbMSCgSDr/yu0mrAXPWuRrByK/mO6TOO14an0gx6Nhpq\n",
       "QQTnaBaYKgEEAWcL5iCY6FaCzMTbQDSBrDsaCDPdUylddWJez9EqUQW/b0E0NXPxdaAORWr+Pgjn\n",
       "d9XM95Fy4ZJd+QqvB9jd4nq14QKXkosq5KPoKyBkgCgMtAxj4Ru8nmCfKejVpkvkEGkCenkNhAwQ\n",
       "NSvHwpd5vdSgh5BezSoo6PemiXRXroGbqsnLLiC0v7/oENXzRTp6Vl63MFP1anbBgd6JQSZzEbip\n",
       "kbpBYUJo7qRcb2XA39MRIHp0UzpEY567OtRupef1Chu29GpWwYWeZGyRyXiNaGolXrNuRqh+alsl\n",
       "np0Bogc3pUO05nk3PbFbyXndyxGmZAQLTiv5WR0gemBTgnaxkRkhIcvXk39Crxzookc3pUMkZJaX\n",
       "0xO7lZzXA2y41qtZBRvRUMeTANFDm+oq0kR/MHu4f/1/iQ8OsujhTekQ0UA7faF1KzWvF9hwrVez\n",
       "CoqyKImP6gDRY5vqKUSyIPTOmDrU6JlJgOjhTekQ9cc/fb5RaN1KzesB9vTRq1kFp3tE03YNA0QP\n",
       "bqojXFppQei5cG3Xirq8Joke35QOUVfnyGtatxLzGvjwQTyMx/vXbZKUSCRA9OimFvw0woJQL7uy\n",
       "LNdhpjiSLJqgKR2iJc8VNqlbiXn9vHcHMCtroYLTY2/h+fq+nTcrTOVffKJt06w/H7b6RQnD9cfK\n",
       "udoS0NKWRFtgQah8emN5vgJDIaSIHouQaiUIIQNEMs/8b5RupeV1K0G79no1q2DZTdO0Pv9rX5Y/\n",
       "U1HlX7yid95NFUi0fcOs/wFq6jbn3KyDbW2hXy3ZEHrP4h67djiEFNFjEVKagiFkgGhNtQmatlC6\n",
       "dQCv//uf/9pbW2BGLUDB9vlgf32TXSzbCFjcUauI3recxA98TtH3rTmGPyBN3dpRp1nGtkbs+sCG\n",
       "0GuS8N5oxiCkiB6LkGolCCEDRKPMMrEjpVv/95+U43UHm4br1WyCr3CpajyvFdG5hUctbRb+Y+Xc\n",
       "FaJsfGZK5G6JBaH+vVm3PnfLEQipoocitLMShpABIpnnzhmhW0nn4a0ERYNezSY4vvNqSzSv96K3\n",
       "OWBVHBO1u6bWUiztz+scS1sdbvJlQ+i1cL05ZcAitBc9EKFdUzCEDBB1eU7ECd1KyusZNqHQq1kE\n",
       "Rf3puEBGrSZa9Jtv4qJG7b6purxvjvvaKnGTLxu0w7PxsX5lW0Hwei96HEL7pmAIGSAq85yIE7qV\n",
       "lNcr7FCKXs0o2HZSPuJguf/RYKLWIKrkZogYtVpTQk7bKzNtbfW4XVAztOvnc4qlQM5odNGjENKa\n",
       "AiJkgKjPc0ec0K2kvK5hjenVgIKo9fVuUL2tgYU4Imo1xLtirArhXz1KzDeXV0TIABEOtN+zwEZ3\n",
       "KyWvoy+vLVH7vE0dFXqi6/t+aimi6NGpvE1oi8Zr5iARV59cEiEDRCjQfk/BdyslrxfY22u9GlBQ\n",
       "NINsytdt6u9/gQ5390ISRW+C3NBZ597b1oQ5F3xJhAwQTXmeEcd3KyWvJ9jyX682YfcNAs4TpjyK\n",
       "uLg902Ecf0GEDBChQPs9Bd+tlLweYKdS9GoD8oTsSF9kjQnXZ+62esxby0siZICoz/MNNr5bKXld\n",
       "w17D6dVq5Pu7gA8VUt6SNXuWzAjXXBIhA0RtuvtvUhZ8t1LyGrird5ldTi8OPaLuFREyQCTzPJmC\n",
       "7tYBvP5D/tv4u4A9dPRqIs+HsK9U8Ln1RREyQFTl+a0mult/SjdeL7B3MXq1RVZXDNoBvgl6UYQM\n",
       "EA15boiju5VwHl7CTs3o1cpMv6v1lBW+x31RhAwQrXmeJF3xn/cl43UD26zXq3kFM8sL8CqTBCd7\n",
       "aPJ8vUOACAHa7+7oeXi9wmzTq3kFM8sL8CEr+EHgQCjPvABWiJo8Zy7obiXkdQe7Glqv5hPMLi/A\n",
       "25fgRbMToSzzAtggavLcaUB3KyGvBxiv9Wo+wezyArwXzeDDCC6E8swLYIOozPNgCrpbCXldwdb+\n",
       "ejWPYIZ5AV6uAfvGhVCmeQEsEM15vvFDdyshr2sYr/VqbsEc8wJgfelCKNO8AMzr8/C6hMVoiRLM\n",
       "Mi8AckHuQijXvABmiJY8eb2cmtczLEZnjGCeeQHQvJ7t3sg0LwDz+iS8ljBe69Wcgra8AOo99j5R\n",
       "pTZAlDBcm/MCONoa4b50IGTPC+Dtpj0vQHSEHHkBXG3pEI158no8Na8XWIwuCEFrXgDlHnuvqFLb\n",
       "LRo3L4CjrR7+MYcDIXteAC9C9rwA0RFy5AVwtaVD1Of5BQy6Wwfwup3NJvz/v/4NEderOQTteQF2\n",
       "99h7RJXaHtGoeQEcbf33X/+CQu5AyJ4XwIuQPS9AdIQceQFcbekQIUD7TQXdLTEf8GxJN17b8wLs\n",
       "7rH3iCq1vaKUWXhhzgvgaCvKeO3IC+DrpiMvQGyEXHkBXG3xeJ3nPNyZF0C5x94ruqvdRDy25M4L\n",
       "YG0rCq+deQHc3XTmBYiLkDsvgL0t5nWWvHbnBVDusfeKqrVdotjiyQtgbSsKr515AdzddOYFiIqQ\n",
       "Jy+AvS3mdYa89uUFUO6x94oqtR2i6N0GX14Aa1sReO3JC+DqpicvQESEvHkB7G0xr/Och+/LNmrV\n",
       "e+y9g+q2Nk4UWXa33tvbirMfnjNCzOtL8fpxnfz7Hntg0G5vvceJokcn5dZ7R1sH8joThJjXl+C1\n",
       "cuv9+x57WFFuvceJYot6672jrQN4nRlCzOuLjNefUYlu/XluvT9kvM4KIeb1tXidy633Vl/up6UX\n",
       "RYh5fS1e53Hrvd2XfccIMa8vOA/P3Jddzwgxr1Pz2pYXQMp/wnj9T5pgbuUPmy/7tWCELBD9kSev\n",
       "0d36E4/Xv+4Z3YmCEcKP112bYSzwPDwbX45rwbwm8LrvmNfM6/P6chDMa9L6em6Y18zr0/lyqh7l\n",
       "73+7/3NlhEC8foH2LMdfl8y8Zl4TfWkYrpnXQAIsw8K8Zl6f0ZfjVDCvqbwu2mF7xRLzmnl9Fl+a\n",
       "hmvmNZAAYmhEwbxmXp9uff3XvzyXiry+Jqyvq0Fk01HmdVbj9dAGQHvx8Xrs8ooF5nU2vlymgnlN\n",
       "5LUYCuY18/qUvjQP18xrCAG6nnkdUvh8eCwcNV8uTREC7QUgchykFnnFgrvkdD7cn3fjCNHD2jI8\n",
       "oy3D9VUR4u+5rjEPr+jniaqER5GAbem+tB6EvChCzGteX39lPInsS+uV3RdFiHnNvP7KeBI7aIvf\n",
       "wutEozvzmnmdsy95P5x5zbxmXjOvmdfMa+Y185p5zbxmXjOvmdfxeJ387eyxUgfwOjOEmNfXGK+T\n",
       "v509VOqI8TovhJjXPA/neTjPw5nXzGvmNfOaea2sjmazCdM/QCfvRe//5SJRC+73VREyQNRnCUX7\n",
       "j3/gBET8dEvB4/Xo/YXHa0aIx2uehx/9ND3kNHRO8/CDzoszr5nXR5ZDTkP38MzxF0XIABECNOZ1\n",
       "Ul7Xcvb+cokywkP0oggZIBqZ19nxOrNbAw7gdW73KjCvfw+vKy1GK+holNetAYgQvShCzOtfxOtB\n",
       "lt5fLlEWWUOrXhQhA0QI0JjXSXndycb7yyXKLCto1YsiZIAIARrzOimvVy3r4fp78yCGlBK+or0o\n",
       "QgaISjkwr0/J60mu3l8uURoJzk9xUYQMECFAY14n5fVlfOUn63TAIyBziKY8Zy4Z5AWYtZnUnOfc\n",
       "yr9oLuFevCRCBoi6PHcQM8gLMGo7mmOee5y+MsAPkV0UIQNEQ55ftmUwDxfaG0iR5ztJX6kl/Huu\n",
       "ayJkgAgBGvM6Ka9v9YT3lysUjCuviZABojw/+8iC15X20WHl+wwxIAVqyuypqLYEZm5dXfJDTR0i\n",
       "kemCJAder9qhyNV3THKg92JIOINFtTVi9sIcCM2dlOutDPg8sQGiRYq2dIjGTDcQc+B1qb2qKD0v\n",
       "Lxb68nJJuDLFtVVizpA5Eaq7F/fx7AwQTdCWDlGZ6cG7HHiNfwpPK3l5GSB6cFsrZmfXhZB4vfoZ\n",
       "8a92A0SLBG3pEK2ZXvSWA69bbVhr3QNdIxrqeBIgenRbFcaTLoTmV6sz/tVugGiRoC0doirPbbMs\n",
       "eH1zjvD+sn3Ql7fpF+0xHSB6dFstbgfIgdD6cvFQo2cmAaLF8W3pELW5vsfPgteNtgnUuDbOpvvK\n",
       "lXZfSIDo0W0tuCPfDoSe69Z2rajLa5JogrZ0iJZcz8lnwetR887o8Ne43JskbZcEiB7eFnKlaEeo\n",
       "l11ZluswUzxJFk3R1nWW13nwuqil/5ftOFgI2nM6QPTwtmqkY6z1y6c7lhrPzgDRFG2hwoR5HVoC\n",
       "8wLca2r7S5N1x6nspmlaX98ztfPPtnC7+rq2FW2bZl1biOjn8i39D2BbxVyVPjN77OPGilBXv2fq\n",
       "PRYhRfRghFQztwjBIeqz/Vw1g7wAj0ll4/3l3eGn/5+3ZPRlubktY/HEkiJ6H06nCiT6uXxL/wPW\n",
       "1m1cGX1morfzrAi9Y/2xz4xDSBE9GCGlLRUhMERltumM8piHF3Xt/+VnenuPm9d/XjZROzX+mfFH\n",
       "9H4OU3yGvCn2mls1U2xBN7c1oDd2LQj17w219XnUFIGQKnosQjszFYTAEA3ZftWWCa9L7bhzaT4A\n",
       "Pb6i4X1Ccxu1lfvItCp6Xzv8RG0V+bT1zsy5K0TZuNoi7OZZEHqtW28aByxCquixCO3MVBCCQtTn\n",
       "e8tbJrwu9IWScekk3g/o7tXmJmpbd8800dvSroKJosu+rbUUS/t6TWtuayWcrzAvLl9j2FgPLRIh\n",
       "TfRAhPZtbRECQ7RmeiglI143Wjf0X4q2k/IRBsv9j2YXtc4VoEG06KsWuO5E7nlobdXl/aWXo62W\n",
       "sgFkQKhYP19TvLGHImQQPQwhva0tQlCI2owvecuF1602pWpBk6xN1GJXgKJrqaLY4VtOU+9sq6Qc\n",
       "Ws8VIShEZcbfoOfC65uTWu8v7qitRhQSYrr9T5BEseW2eByrwtVWTfrMIlOEoBDVGd+1nA2vi6rx\n",
       "/2KL2vZeUxaYbxVE1/f91FJE8bPO8jajLRp7WyVxoZgdQhiIynxX1znxetG0LN55lmgG2dzf0ta3\n",
       "lqYSs2Vby3shiaJLd+vHOvfWtlrqkfXsEEJA1GadUjQfXhdT5//FHuF081MebVgsu0hUffkhBIZo\n",
       "zfoG9Yx4XVSz/xdLCVj9jQlnc+a2xppuQm4IgSEKAY15DSqBeQF++qK5qoc6L2BKlnI2Z24r5MhH\n",
       "bgiBIaryvrcxg7wAm2ew8P+SX2mDIvQKCBkgajO/jjWneXgxjP5ftDbwJZKeqBhKGd0CUYXMVFMh\n",
       "LzNE3gA91hk58Xpa/b9obRAcGUdP5Og6QKYJOI6VDHlZZIi8AXqkMzLi9aItFRf/4pF57Sj06xHS\n",
       "IZ8nrw3Q45yRD69breMtAArmtWvtTT1omRD5THmtQ49zRj68Xgf/L8xrnAz1HW9C5DPldegL92x4\n",
       "3WtfE/eQFFTMa1cRtPtEUiKfK6916AWODpnwehj8v0AQ9qe6A/Gaqoa8LYzvByS6uoriUBry3+V1\n",
       "POQj9V2HHuOMXHi9aEPEAsoYqfXGn+oOxOtIaujhDUjZJyGuIXyugUYemkJPHqcmCvLgVICyoECP\n",
       "cUYuvB4q/y8QhAGp7iBhEUkNndeQlH2gUYNwAxgBeVgKPXmcmkjIA1MBghrToUc4IxNekx9u+94A\n",
       "Ut1BwiKSGjqvISn7II0t+BU2AXlgCj15nJo4yENTAYIa06FfMITIgtfku6t2vYGkugOERSQ1dF6D\n",
       "UvbBGkNfYERAHphCTx6nJg7y0FSAMA7p0MOdkUdegFZ23l8gCINS3fnDIpIaOq9hKfskjKXIVFsU\n",
       "5IEp9ORxauIgD00FCOOQDj3cGXnkBZi1mjNQVkUYlOrOHxaR1NB5DUvZB2psxN7FS0EemEJPHqcm\n",
       "DvLQVIAwXiOyXWQ6D++0TnTAbim9gaW684ZFJDV0XgNT9gFng8idMwLy0BR68jg1UZAHpwIEckiH\n",
       "HuyMLHjdysr7CwThbaq7bV4q9V+8YbFRo+SoQqqh83rbDyVxFcACA09RE3EK8moKPRzyNjXfQF7t\n",
       "RzDyBujBziDx+ufTkmU+A69nbWyaoROWLcLbVHdKXio1SZUvLLZqlBxVODV0Xisp+5TEVQALtFLi\n",
       "JuIU5JUUekjkbWq+gbyaCjAYeQP0YGeQeD19DB7EGXi9agchVjmio2uX6m6bv0b5F09YKGrUHFVw\n",
       "Nc4MkxLTDzVxld8Cg3dQO+IU5Hcp9FDI29R8A3m1H8HIG6AHO4PE6/49YIsod78F8xqY19hzMtCR\n",
       "kU91iluPokbNUYVQ48owieqHmrjKb4EJNkyEEJB3ZfpDGKyq+QLyu36EI2+AHuoM2vr6nX+pWc7A\n",
       "64Dl9ebJ6crIhxiv92o2OapQwz55NrgzQElcRRo1Bom4M4iCvCvTH2K83qtJjvzOgHDkDdBDnUHj\n",
       "9fyOnVPsmy3aG9NFdtjocmXkQ4SFnp2v39xgkyC69gYoiatI0TVhzogTkHdl+sPwWsv6lxj5vQHh\n",
       "yBughzqDuB9eV/dSN6fg9aRtJkzgvZ4Xwu6MfOCwMKjZ5KhKEF2aAWriKlJ0zRKx2kIj7870B+e1\n",
       "riYt8poBEZA3QA91BpHXT4u79hS8HrR6A/jNtx1h6r6ZWrY5qtKMGjt3KYmriLs3iDfYyZG3qskA\n",
       "eQP0UGcQeS3W9z9QpTmE17X2Uq8Gv3P1RVfbBIWFkqPqG9GlJq4iRVeLucAzOfLWB2oGyBughzqD\n",
       "ei7lPlQ3zyX89v17u+4OKlfTvdZcPx8B5q9cQvMC0HcNHWGxzUv1/hd8WCg5quhq6NGlJq4CWGDE\n",
       "F34yJTnyssgYeQP0QGdQ8wIs5c+u2fb9+zuleF+uXXf7fVmL5tbA1Dp4HTheC+0RJuAjjL/iAhKR\n",
       "idSgp6NYCwylgn9Xlx75ZA78BvIG6IHOIJ8jHYq5fPtyu2/ynHR8tgyWW63pMwE/hNeL9mplAb9s\n",
       "AdzJ2UYJi0hqAqILaIFxzQzeEE+PfCoHfgV5A/RAZ5B53Szv1wnK+/dn2qPyc7x06ZdRlHdeN9M0\n",
       "Vbf/jbF5XWpncEr4ESkvwnMRJSwiqQmIrrmgRtcKP0maHvlUDvwK8gbogc4g81rU62eD4Of9e/v4\n",
       "r+3PXvzS3+bhy3jkeN1oW/8N/M3Mye4jPd3teQ+vSfAGaXrks7230AI90Bn077nW9/p9+/79ubwe\n",
       "5y2vb2wuuwN5vWo9XeGBePp7huVh/QDLNPBBOD3yx90zfALkDdADnRH+naby/v25vJ6H7lGWJ6/b\n",
       "5r3FdgivO+0yqc5zvRTzGslr8KI5PfK587qiOSOc18r79+qxR9A3ynhdjMtrrX/I++tBi6WBeR1T\n",
       "poQfTBmY11FldOiBzgjn9fv9++P1uyweDP45iDY/99FWtw1BvK60nYQKvtHDvIa4HPFepmFeR5TR\n",
       "oQc6I5zX7/fvj9fvU/ngsXhfjN5Xzy+0j+R1rcVSzbz+Eq9r5nUuvP4pGxa2zX19Dfy+L5jXpfcX\n",
       "B8Qnz2svj+sHVPWC4XWZGPiskTdAvyTn9Uj9CiSY17P3lyOfqceqkd/vB4rX81mAzwH5U/Ca7NFA\n",
       "XkstliTzOmY/RsThUOZ11I7o0I/p5+HUEpgXQP88BPrBCPMaVBDfEMRAnnntgh7ojAzyAkj5Z+8v\n",
       "zOtUvP4z8/oMvM7g/nC9mpQL8zpeP3oMrxfmdcSO6ND3zGvmNfOaec28Zl4zr5nXzGvmNfOaec28\n",
       "Zl4zr5nXzGvmNfOaec28Zl4zr5nXzGvmNfOaec28Zl4zr38Nr/l7ri/xmr/nyp3XgXkBgnjN319/\n",
       "jddxDM77+2syr6l5AU40XuufhwA/GGFewwriG4L0yOfNax16oDOuPg9nXvN4neN4zbxmXjOvmdfM\n",
       "a+Y185p5/et4LYYovKaqiZZ1wm8A8/oY5JnXZ+T1IKPwOpIaenj7DTgPr+dOyvVWhq4P6XiImijI\n",
       "Qw1gXifnNeBaOEhYRFJD5zXkersTjdf1M9HT6k7uLI9TEwl5mAHM6+S8nlYpIhAykho6rwEGnIjX\n",
       "4nU98ehOFyKPUxMHeaABzOvUvG5E43nUgsIikho6ryEGnIjX88vY2X39uDxOTRzkgQYwrxPzWpRF\n",
       "6ZX1h0UkNXRegww4Ea/X178MtQjpeICaOMgDDWBeJ+b1dF+YzsGEjKSGzmuQASfi9XNZ2q5V0L5Z\n",
       "iJo4yAMNYF6n5fV4T+TtzTDlDYtIaui8hhlwHl73sivLch3msI6HqImCPNSAi/D6m3kB9uNsIV6Z\n",
       "2dv55wVw2zTr2oLDYqNGkUSqofN624+52iz1ABYYyjF5ATatl88H+1LPeORtar6BvNqPCMhfPC9A\n",
       "pPG67KZpWuVjLtWXZaXwZKqgYbFVo0ji1NB5vTXgNjccC0xHvjFed6+Uzo+9PiTyNjXfQF4xIAby\n",
       "PA+PEF3t8/EqX+gvP9Elx/v418PCQlGjSCLUtHKw/eGNLrUfYlsbYME3eP2aWry3kVHI29R8A3m1\n",
       "HxGQZ15DBD0nA1+vHKta4/V9nbBxiluPokaRxKipJusfuH7MXSHKBt6RQ3jtbql/b/GtcsQjb1Hz\n",
       "BeR3/YiAPPM6fNQYX055H8DcRNdjbgWcxu3VbCURauizwZ0BaymWdvvapTndPPy1LL21M+CRt6tJ\n",
       "jvzOgAjIM6+Do0vU70XSyxo1uvoKtu2iqdlKwtXQo2tvQF3eN8fhFnyB18PT5LEeWjzydjWpkd8b\n",
       "EAF55nVgdLWdlA9vLPc/Gi26RNcWgLAwqNlKQtXQo0szQMhp6jEdSc7r9fOxxFsUhbxdTVrkNQNi\n",
       "IM+8jrB7syvb6BK3FZYQlLBQJOlqMLuyqru6YqwKAe/IN/bNQpC3qskBeeb1UdHVNo9Hbd/3U0sI\n",
       "i7dkoBp6dK3lbf5XNPCOnIbXQIOtD9QckGdex44u0QyyKW+21TdVtbJfiQmLt2SgGnp0dTdo17mH\n",
       "W/B1XiORt6nJAnnmdfxR4zN6gERkIjXo6SjWghOM1yiDkznwG8gzrw+LrrGNEhaR1AREF9CC8/Aa\n",
       "ZnAqB34Fec4LcFh0zUWUsIikJiC65uKX8XqO0/HfjDznBfD8EjAbjBgWADVnvD3vEnkBznlvIecF\n",
       "OGyVl5TXR1f7VevrpLw+JfK8vmZeM6+Z18xr5jXzmnnNvGZeM6+Z18xr5jXzmnn9RV5nktdeXiGv\n",
       "vTzQgadEnnlNja64z+ED1Mjv9+MYXh8NfA7IM6+Z18xr5jXzmnnNvGZeM6+Z18Yytcxr5rWlfPN8\n",
       "OPM6JEb6jsfrc/I6g/PhQXkBmNchMaLleY6BPPPaBf0fPA9nXh88Xvcrr695Hs68zo3XnWBeM6+Z\n",
       "15nxelwL5jXzmnmdGa8HwbxmXjOvc+H1VD3K3/92/+fKvGZeM68zGq8NwzXzmnnNvP7dvB6ngnnN\n",
       "vP4tvA74+CaCmngfA0Xqhz1GTMM1Ix8XeeZ1rOiSkR67kqbmyErReP1YX//1L89V9nq/tW30AAAJ\n",
       "b0lEQVQc8rK4OvLMa+Z1Ol4/h+s2wGXMa+Y18/qMvF6mgnnNvHaWdjabALyMmnn9BV6bh2vm9Vl4\n",
       "jbjz/VnEfLbxOigvAPOaFCNLA/UF8zqE15wXgMfrlOO1Zbjm8Zrn4czr38vruSmY18xr5nVmvK5a\n",
       "5jXzmnmdG6/7gnnNvGZeZ7e+Zl4zr5nXzGvmNfOaec28Zl4zr5nXzGvmNfOaec28Zl4zr5nXzGvm\n",
       "NaGcKS8A85p5nQOvOS8A8zpijERFnnnNeQF4vObxmsdr5jXzmnnNvL4er1s5xOA1Vk38Sj8W/BJe\n",
       "hxqcE/LM6+ijRjVFGa+Rag6o9LHgt4zXgQbnhDzzGiJIvHJSkgpRTaHPFwI1YftxBK9pLcvLI8+8\n",
       "zm59XU28vi6ujjzzmvfNmNe8b8a8Zl4zr5nXzGvmNfOaec28Zl4zr5nX/P7aVsm0O8vvr6+C/MXz\n",
       "AhxxPvws768Nu7Op36ImPh9+lvfXJ0Cefj48g7wAPA/neTjPw3kezrxmXjOvmdfMa+Y185p5zbxm\n",
       "XjOvmdegStvdWeb1VZBnXmc/Xm92Z5nXV0Geec3zcOY1z8OZ1z6n8L0K3+I136vAvD5wvOZ7Fb41\n",
       "XvO9CsxrnofzPJzn4cxr5jXzmnmdiNecF4B5zbyOy+sM8gLon4cAPxhhXsMK4huCqMgzrw3QA53B\n",
       "83DmNY/XPA/PnteweyIpeqjNR9N0cl4z8szrw3gd4yEbVY38fj/S8Do28Dkgz7xmXjOvmdfMa+Y1\n",
       "85p5zbxmXjOvmdfMa+Y185p5zbxmXjOvmdfMa+Y185p5zbxmXjOvmdfMa+Y18/qoIvqCec28Zl5T\n",
       "nNH3xbeLfbweYbE00gSZ1wfwemRe83jN83Aer5nXzGvm9Zd4XTCvv8VrmjN67McmCXldS1AuML0a\n",
       "UJB5DSsjPEZiIM+8dkEPdMZ4eV5LZImkRsYOjqMMOIzXkpG/Jq8rWJDo1SoUr+M8hLGwxI+uw0YT\n",
       "RIxgkI9lcMbI58nrQZYQcb0aUJB5DSuLrKFVMcgzrynQA52B8FlyXneygYjr1YCCzGuoyytoVQzy\n",
       "zGsK9EBnIHyWnNernCDiejWgIPMaVspN5jm0L5jXIfV16IHOQPgsOa8nuULE9WpAwRPyOmDf5bjo\n",
       "amQHrYpB/ly8PiXyBuiBzkD4LDmvyV1AdWrfHzHEiS6SnoBbMZH9QETXBB+EMcifjNcHi9Lq69AD\n",
       "nTFhpqyJeT3D5hJ6tRkzCZHa1k+c6CLpiRhdnvYR0dXBN8MwyG8MmDsp11sZuj4I+QA9UZAHtY/h\n",
       "tQ490BkdZus4Ma9H2J6eXm3EbAbu+rPIOLym6YnHa1/7iOga4IfIMMgrBtTda33ehyFP1hMJeUD7\n",
       "GF7r0AOdMWAP/iXktYC9g9OrCczLu13VaZUiBq9peuLx2tc+IrpqCf42CIO8VOTK13NhCkKericO\n",
       "8pD2MbzWoQc6A+Gz5LwupARlhdGrAQUNKDeicSMC5DVRTzRee9tHRBfmEwIE8lKJqv71/2UQ8nQ9\n",
       "cZCHtI/htQ490BnYzz6S8rqCffWnV6sQnwsq/RFlUbpnMDBeU/XE4rW/fXh0CcyqBoH81oD19S9D\n",
       "LYKQp+uJgzykfQSvdeiBzhDYYylJeb3CTiXq1VbqccbpvjCdw3lN1ROL1/724dE1YnYhEcjry9J2\n",
       "rcL2zQL0xEEe0j7qBO9Ac8aIfX2dlNclbLNer1YSj0eMy92aJpjXZD2ReA1oHx5dJeb0HgJ5uY2A\n",
       "rizLdQh9ogboiYI8qH3UiaCG5gyUz5LzmvxwGmmvW+7D3G0K8zxa0c4/OtpVoni90dM2zbq2UD2R\n",
       "eL3tx1xtlnqAjhiGYMTWKgJ5uQ3DRwQs9RyGvKLnC8ir/QhG3gA90Bkr+jv4lLxuYburerWWti1b\n",
       "dtM0rc+jFX1Zbk7YLgOG11s9d4pNFVSP/HRgsP0BCMxt+7e54XbF6++IYcmM2IJBIL+p2L1Wg4+9\n",
       "vgDkFT1fQF5pPxx5A/RAZ1TYbbOkvL6ZJ2C9EBBB39nA9vl4fZ+YXzbRNTUeJdtwVvTc95HEZ2va\n",
       "q+fTgcn6B7IfQp1JeDuiMxW1BUNC/n369LWNTEZe0fMF5NV+hCJvgB7ojBa9bZaW1w1sF0av1lC2\n",
       "b17uq2qd19WIGDUUPXO7jS6fniizQbUfc1eIsoF3ZF8WzGF7DPLbZen8nj6OIciretIjv+tHKPIG\n",
       "6IHOQPosOa9HmH16tRHesU9/xpdT3gcwN9HVSsTuzV7PLdYrqJ4Y0bVrfy3F0r5fuwA6ErhUgyOv\n",
       "LUtvgTAEIb/Xkxr5XfuhyKdcXqfldVHDWtOr1ehlnnhPXbqXOZvo+lkb+aNL01P0VQvVEyG69u3X\n",
       "5X1zHN4ROpLI+j/1hqfJYz20IchrehIjv28/FHl6WNd4kqbl9QQ7DqdXm8Dn6J79aTspH95Y7n80\n",
       "u+j6WRv5osugR3QtWE9wdGntCzlNPaYjmnOQUzow8m8D1s/HEu9BhoS8QU9S5LX2Q5E3QA90Ro+f\n",
       "hifm9Qh7D6dXG8Ev8Kz92URXNbaI9bVaxG25KwRQT/yvBW+LvLEqBLwju1Jip3Rg5O0GMPIW6IHO\n",
       "KAm3PafldVHDNvb0anUdh9dt86hTUqNLdH3fTy1QT/zoWsvbbLRo4B3ZlQG9swpF3sfrqyNvgB7o\n",
       "DLzPkvO6hJ031quV0IPKlv6IZpDNzRV9fXv2TeVIja769QoDpid+dHU3bNe5h3dk7xvswSUw8lY+\n",
       "MvIW6IHOIPgsOa8L4FJBrwZdY3j7s4Cq+2FZ6CFSRBFd8E0VK/qAA9xlBSOPgx7oDIrPkvO6gRmp\n",
       "VwMKelEe2zjRBdJzZHQBO6KUlrADA0U+lsF5Im+AHugMks+S87qFTSr0akBBL8pzESe65uLL0TUT\n",
       "mioRH7JjkY9lcJ7IG6AHOoPks+S8vpnZwnrT0gR/332kRxqwX6NOFIfCkP+F95EmRN4APdAZNJ8l\n",
       "53VRwcZdvVrV/DpeB5QjDCgpKzUo8me/P/yryNPHKaLP0vN6gc0r9GowQea1Y0JNzI4JQp55jYIe\n",
       "6Ayqz9Lzuphgd1Lr1UCCzGtrWTuqMRDkmdco6IHOoPrsC7wuKtgjSK8GEWRe28pYt2RrAMgzrzHQ\n",
       "A51B9tkhvH4U++58DzNWrwYRPHkWZni0RDegGgN86kdeMvII6IHOoPisOgaWop0fxWHRCNu516uN\n",
       "ouBCdcsYIs3IR4Ue6AySz570m4v/Af8dqlshT05DAAAAAElFTkSuQmCC\n",
       "\" style=\"display:inline;vertical-align:middle;\" /></a><br>"
      ],
      "text/plain": [
       "<IPython.core.display.HTML object>"
      ]
     },
     "metadata": {},
     "output_type": "display_data"
    }
   ],
   "source": [
    "qcircuit_neq = Forall(\n",
    "    (k, l), Forall(\n",
    "        (A11_to_Akl, B11_to_Bkl),\n",
    "        Implies(NotEquals(A11_to_Akl_varray, B11_to_Bkl_varray),\n",
    "                NotEquals(circuit_Akl, circuit_Bkl))\n",
    "        .with_wrap_after_operator()).with_wrapping(),\n",
    "    domain=NaturalPos)"
   ]
  },
  {
   "cell_type": "markdown",
   "metadata": {},
   "source": [
    "### Quantum measurement probabilities and sample spaces \n",
    "(These may need to be promoted to axioms.)"
   ]
  },
  {
   "cell_type": "code",
   "execution_count": 19,
   "metadata": {},
   "outputs": [
    {
     "data": {
      "text/html": [
       "<strong id=\"born_rule_on_qubit\"><a class=\"ProveItLink\" href=\"proofs/born_rule_on_qubit/thm_proof.ipynb\">born_rule_on_qubit</a> (conjecture without proof):<br></strong> <a class=\"ProveItLink\" href=\"../__pv_it/theorems/874e27eb6c791e7595c0bf280da7dea6a739a32c0/theorem_expr.ipynb\"><img src=\"data:image/png;base64,iVBORw0KGgoAAAANSUhEUgAAAjgAAAAmCAMAAAD+6BEGAAAAS1BMVEX///8oKCgkJCSysrLOzs6h\n",
       "oaGurq56enofHx8dHR2IiIgiIiIQEBB2dnbu7u5ERETMzMzc3NwyMjK6urpmZmaYmJiqqqpUVFQA\n",
       "AABaDN2vAAAAAXRSTlMAQObYZgAAAAlwSFlzAAAOxAAADsQBlSsOGwAAB29JREFUeNrlnIvSmyoQ\n",
       "gD3tnNMW5SYgvP+THgTlJuKaOCZNmGnnT9ywXD6W3YWk676gyOk6qXcqZCRfoPKF3OjrpN6rsJ58\n",
       "gcpXFTVeJ/V2fdPfoPJFq3Igl0m9X6HTN6h8SRnxdVLAYkDlGp/jJuAJxlqTW1W+uEyGXCYFBucy\n",
       "obdxzeT8r/97vcHzpcfXSb0jONzwO4bRiFkVu1Pliz0ckClhlxqcW8HpKL5jHBWJ4Nyk8rVF0+ek\n",
       "KmuLPcUE4RBwOFyjGiB2qV4Xh3QzPMP9GZV/eTHqOSkstkucPQNO+HQTnFxtUyM3gCgn1Mdp9e1W\n",
       "N9dnMYPjVEZHZ1Kfxw1btmOue2O01pSqhtTRDCI/TvIJcITuwOAQOvQAjb08AQ6eknp3wCm6uTzj\n",
       "lGQqZfjI+IEujzIRDjdlfBhbUm1wlq29fwKcOMgQizNKgEY5ngCnz+qtg1N00z/j9iOcJyqZrhqx\n",
       "T3FxxmjR9QIJbkg1wSEortoHwVG4OwPOugs1NSIDB2cxI6FeAeime8YpY0ySVOV6aoU/MSE46BIc\n",
       "ZvqGVBOciQGX2O5Mkj/kDDhiDfaaGifDwOB4xyXUWwWn7KZ7NmQ5S6dSLbv++IHcdNG8rOAIMzak\n",
       "muBg6Ka+y8TvX90ZcEIY09TIAN7x0g0y5uFRFZyymxXH2asc+rkMHxmbx3BpBQfbPotxQBNO3A11\n",
       "4KUiqfyIIjfkE34MnP+G7hQ4o0ZIT0caCSByXCYfeclQbw7OTjcr4HiV0pkm+okHEEmo6sEhaHBj\n",
       "N8iJh/FuBbRu1HA32Sknat7cCcA93mNi+PcUOMRYN4L4iK+l0aDEU+6Toktw+mXa13pzcHa6WQHH\n",
       "q+R6/c8fSaQOe6O5YkJSHMQ0eG8tMCzJrib7N+KN1oTngGg8AafHGKPldW/HhEBs/TxqbHLHNGrW\n",
       "6W3GQcd3mPj1uzsFjj9AG9CRRoOBFmfJBcR6M3D2ulkFB6/GZnkanTA35aoyoohKjTia6yax82zc\n",
       "+m/Mq7fTFXtG1nsvOHdIaf435o3WhOeZ9axdqBFGRHBSFaOuS1VHnCyjHOFl+hFw/vw8B46Ps/0c\n",
       "tTQaCQRnoS/Wm4Gz180qOE5gQsE1pkUWKLxmSFM61061nbOJ4jkTzZI9W+NC0kq5SpWtSdDwEC1G\n",
       "dxrPgJO1pgZOrHjX4mTgSKB36UfNrVEcQ9XochzemNi9SdH8oFPrTl6FOXRywOAsLk6st3CO693c\n",
       "B8dSo1Axf9yPpVwmSMolRsO+Tp+PoEmVAyskVzbcg5ianR4BJ29N1eKEimHg4FPgzGvUtQERSFhl\n",
       "UjqCSfyh05cAi+OaJb270dII9nGWoCrWW4BT7+aujzOncNZkzjy4Aml3Gtozny+MqM4bAlsS0MGr\n",
       "XgffOuokkVzZ4H5DnR4Fp9IaODg8jap2weFHUVUnqT8fFgKUyDEBmzTL+INnJAHAYfOtKXWoER5V\n",
       "UTdssd4SnGo3q+B4lTxkwKgzU3au0XJF0H2WhGZPfIqHpaSLqKPevpKJZLdc4/U3FnpVzq/oQeBU\n",
       "WrM+l3Qtag8cEhcjy/I32fkOSZds3asc+GzClYDlSs0Wm479g3MjdAyOtv2i8lAjh+dx/N4T6y3A\n",
       "qXezAk5QqVmcM07mKbBDqeY33cmnCNOuiFqDkdGOQJyrefIsKCKBn40sgDOgjWEYEQGAU2nNCYtj\n",
       "w+6lp9o2N7hhQptBT1up/RFnGlMUQrmjwyqzwSZLGvtHgHBcY6mONTIjwJljV0+st0wAVrtZTQCW\n",
       "77n508jtdN6bx850+JU9dYyJen579mSkTiRtI9wdVb9Vmc1WZfcqBPJxNq05A84IOoBrSIVRYxG0\n",
       "w+Nxs+WmyzITpjt1raKtEXLtFddt5TZzXOlmBZytSjeCvZh3Oq6CP8qiR7A4xx2pLDLryLDUd0C6\n",
       "4RzzAegcb1pzYqvqJOjKUUMqjFpiHyk/BGfDDRk3aJ0Ap6kR9x0YnMJX2oJT6WYFnK3KdY3bVY4T\n",
       "7yamlTl2k4cTa0FmSeviKFokoL3/i5DPPBH8WFRVaQ3c4ijQndCGVBzaPQZgeRwtoOnlymS1NVIN\n",
       "B6fLv4i5BafSzdolL10Fh0hJF8uKVv+aRUzsbpTGUx2bQyYmESokVzYwRnOa2IlxPBoPHRicbWtq\n",
       "4MSKC+8YcubfkIpLMRpSdR4cRrsnwGlrhFxyDPUpdGBxtkor4GxV0ixvEueT4HlL2HPC0mFPJAs2\n",
       "MrEzeZyyNXWLs7Mc5XNSaOvSHS/wLROEnwMnV9vUKCDfOYj16erbrW5un1VU0jV4WiQQZNjFjqEv\n",
       "Iu5c7AQ4ZWvOgAO7V33x7etbv+WA778PU1FJc4OlQUfmu6Yyi5tyMTZOYHDK1pwBhwBiVajUe4Iz\n",
       "3H8Br6KymI9nr1qwvU5x1lDMV8U7reFnGgZbkNcu2zvBQfd/VQV9wbdjuniIdoXUG4LzHgbnE8sL\n",
       "fuXkxh8dQPd7OGjsvqOM6jqpdyt84F+g8kWF9Pwyqbfr2vQFKl+3LEG/W8f/wl+3o+obVL6QHHad\n",
       "1FsZHPE6lf8Dm2GVmDDWfDgAAAAASUVORK5CYII=\n",
       "\" style=\"display:inline;vertical-align:middle;\" /></a><br>"
      ],
      "text/plain": [
       "<IPython.core.display.HTML object>"
      ]
     },
     "metadata": {},
     "output_type": "display_data"
    }
   ],
   "source": [
    "born_rule_on_qubit = Forall(\n",
    "    (var_ket_psi, b), \n",
    "    Equals(Prob(qubit_meas),\n",
    "           sqrd(Abs(Qmult(Bra(b), var_ket_psi)))),\n",
    "    domains=(QubitSpace, Set(zero, one)),\n",
    "    condition=normalized_var_ket_psi)"
   ]
  },
  {
   "cell_type": "code",
   "execution_count": 20,
   "metadata": {},
   "outputs": [
    {
     "data": {
      "text/html": [
       "<strong id=\"born_rule_on_register\"><a class=\"ProveItLink\" href=\"proofs/born_rule_on_register/thm_proof.ipynb\">born_rule_on_register</a> (conjecture without proof):<br></strong> <a class=\"ProveItLink\" href=\"../__pv_it/theorems/743f06ebe04a8fea26f0b975482a8c38891261e70/theorem_expr.ipynb\"><img src=\"data:image/png;base64,iVBORw0KGgoAAAANSUhEUgAAA64AAADbCAMAAABa3zyvAAAAllBMVEX///+wsLAmJiY2NjYZGRmO\n",
       "jo4/Pz8uLi4nJycbGxttbW0rKyteXl4kJCQoKCiysrKDg4Nubm5WVlYJCQmlpaUICAgaGhpycnKh\n",
       "oaGurq4fHx8dHR1aWlp6enpRUVGfn5+Tk5POzs6/v7+IiIgiIiIQEBB2dnbu7u5ERETMzMzc3Nwy\n",
       "MjK6urpmZmaYmJiqqqpUVFQAAABVqaUOAAAAAXRSTlMAQObYZgAAAAlwSFlzAAAOxAAADsQBlSsO\n",
       "GwAAFgNJREFUeNrtnYm25ChyhuXlHI9n3O22Z2zPdLuqywMCCW3o/V/OWjOFhBYEZMLNP87prrp5\n",
       "KTJA8REQBChJIBA30l4S9BMEEgKuzgpBIBDgCoFAgGt8ko9rEwm13EpR+im7EFH6xpULh7jyxkEl\n",
       "gvJwnvFWGaqs9Kn7dX/esrqTMjhcg1TrslTST9mllG3G/eKa5e5wrdvMRceykEbwjTK9zday1f7k\n",
       "iAsRptMXScTSpNxL2TWvVPjEtZTuJsOVq5lSWgf0nLXK1O3+T8A1QOEGNsUt7K/j1SeuhXCGK3Hj\n",
       "W4c2B2QZWmWAa2QiCz9lffisfWuqWeIK17Jtna05ZRbSk86Aa+y45m3ppazGNbdt7gtX/ht3hitt\n",
       "mbPeFW0TzqPWKQNc45Ki8FNWI5m1e921pl+/Ja5wdelcuzbTgJ61RhngGpU0Bg6zae2C37U1CHvW\n",
       "9Lc0cYarbAuntkFCMlQCXKPGtaB+yu74rdwPrulf3eFK28qpR0tDcq8pcI0ZV5PB39pRdIvXxguu\n",
       "//PfiTtcW7f+sAlp9bpVBrjGJNJgeiqt13RtW3vB9b/+Ei6uidO5tXNlgGtEwg12GLn9bmRrLbuV\n",
       "ufwWt7kN0joe7lMZ4BqR1AYztdp+VufOuy4B5X8WyZLY9s1KblbsLJwHvlEGuEYkmcH8NrPf33CF\n",
       "q+pNi/9UPwwM16QNKdi0Vga4xjQXpl7KesZVPTeS/5k/qg8S1yyk2fBaGeAa01yYeSnrFdf1Ia//\n",
       "+GVRf4i4kpBmw2tlgGs8Ig3yHmRbBoHrmlZeqN8QHq55SLHhtTLANR5JWz9l90n4Zovr5gC1LDdA\n",
       "v1lJTY0BHVNfKQNcsXTdN5X/dbF2Vfo+u1DotUpupGgDurlgpQxwjUYag53UxsUZUAfedTOMCPe4\n",
       "uvauVUh5wytlgGs0UhnEQCoX8RJfWU2OcXV9BUTdBnTqdaUMcI1GCoPEh8JF6uuH4pqHtPO6Uga4\n",
       "RiOpwYZg6mLz8ENx5SG9WGClDHCNRkwilk6imx+Ka9KGlCihKgNcYxFhMOgLJw7i+/c8fFytldwK\n",
       "DekQnaoMcI1FGoO9mcbFPo4D7/qCV1p58K5FSKFhVRngGosQg2wb4iQzxwMJPiaLzpWUIaUhqsoA\n",
       "11iEGewvMCd7EZ+KaxXSC1lUZYBrLCINjEg6MbhPxZWFlDWsKgNcY5HM4A6xzMl9Y5+LKw0JVwpc\n",
       "I5TCAMHCEa7fYsDVuZIkpDwJVRngGouY3Fbv5mb7T/WudUh5EqoywDUWSQ0QTIErcAWu78WVeCkL\n",
       "XNfShIRrA1wjxbX2Uha4Alfg+la7bIGrhZQh4Vq+DNe/t/8X4gMOVK1zu/zhpexRLZ8ZGf57SNe/\n",
       "qMr8ogD6C3AN2C5/91IW3hW4YjLswS4bL2WB69ZAAsJVVQZrV+DqjYRIz7sCV+D6kbjGeYAOuAJX\n",
       "eFd4V+AKXH3i+i0GXL8BV+AKXP1618eNw/CuwBW4ho5rlgNX4Apc48C1lFi7AlfgGgmuhQCuwBW4\n",
       "xoFrzRLgClyBaxS48t84cA0NV17zEO0+ULXOpPouvJTdF3/Xgv/6LXGFq4drwfn37wFZq6KMUMYm\n",
       "UbsdGOBd4V018rc0cYYrvCtwBa5ecU3/ClyBK3CNA9dvvybAFbgC1zhw/e3fgStwBa7OcbUVfX0/\n",
       "506/BbgCV+DqNsX/CS//SQUZKf7AFbiGNBlW8JQ/CeUjTIaBK3ANCFdlUpz/zNRPgStwBa7B4Lpa\n",
       "wS4SmlrgClyBa1C4ruNNrF5+AXAFrsA1HFzXtPJC/QbgGgyuuGfYLa4/vJQ9qsU6MryxJ1nuLHDf\n",
       "pqTOQHDPMLzrh65d1b7PEue4wrsCV+DqBVcugCtwBa6R4Hq3EHAFrsAVuAJX4ApcgStwBa6vxhXX\n",
       "ggNX4ArvCu8KXIFraLjilVbAFbjGgutrugW4AlfgClyBK3AFrsA1TFyRM+zWLn94KXtUy7cYugU5\n",
       "w/Cu8K7wrpgMA1fgClyBK3AFrsAVuAJX4ApcgStwBa7AFbgCV+AKXD8PVw/vYnQvHpQErsAV3hXe\n",
       "FbgCV+AKXIErcD0ngdeyoEXrTWhWlcAVuAJXB7g2RUFyv3bNS0alAK7AFbja4ZoX1WtsOi8kB64v\n",
       "wJXXPES7D1StM6m+Cy9lj0jYz54n2evGvJKW95S8ayDfvwdkrYoyQhmbRO12YIB3/aLeVVYvNdmi\n",
       "hnfFZBi43sT1599f3Ph/y4ArcAWut3CVzctbzxhwBa7A9QauhL2h+VnzCbhyxqQaWQOuwNUKV07f\n",
       "Ysj0E3DtQwIVBa7A9c43aoOuVfOW9pPaRMlIcW3LJBFtDlyBqyPvqr5Q+YVCP8C79nuMwBW4usO1\n",
       "flcisT4h8euFmhgmw8B1LZo+yC+RkL3LlMvqFFdx1iSXuO5bUb5X8qjT59/lFKEm4LoZw7e+Ksuv\n",
       "4Fq8rQfoKa6bRmW5P1zZXq6VyPZKHnX69DuxGg7PcJWPn5raDRfuanSKa2BqGSEoJG1bKWWW1S5w\n",
       "JWM3VBdwFfJtPVCY49pUb8CVNZdwXXX6+DvR/SiEAa7PJUJh6YXm+7fd1ehEAlXrHNcfqk0N3Ii0\n",
       "OC97amxM6760QdfSatOV2iQvaqfhipJbgugtA7HDlSaXcF11+vA7keV5rpydOLsWPJd7Pv2uG3NX\n",
       "o1PvGphahhNcMeLajbDM2rtyonULWu/aEIs28NZmKl3lxt516+n8e9etR9fiuu704Xfp5p18p2vX\n",
       "gt9vqX6R6KxGt2vXsNS6iWveUmtcm1w7bmlx5VbhDaswlWjNcb0zFFviul0va3Fdd/pOdae4zpH6\n",
       "whkXzmp0i2tYat3EtdQ5LENcmX5VoA81tW/sAnNc7yx07HDV7EtrcV13+l1ck5T2kjJnXDir0S2u\n",
       "Yal1E1fWfVwWKWnYwjCv4spJVY+WQwYf3bAvgGtJJBeMZFMoh70Y1zH7SlFCxXWn02/jOq4R7PfX\n",
       "nlxcqLFmjsOzOdu57sBIrSONq6auq7Jh+ftw5SQdui2tGrGw26u4sqRJ+/P6neWMRkG/AK4sySTp\n",
       "Z+3iZrBpjWtFFyLPcKWT71wooeK60+m3cR1i9WYBe3bMxXmNeTpVxA7Pe2xPLGjK1NN0hMnkulqr\n",
       "+MBRBLNsSB9Vbki36kjL9fhdqX8nQlNbtfr9LVwp6zpr+oxSZV14Ede8GfLJ616Fsf+VzKE4cS3L\n",
       "hGbJM5fv/HY2p961HMxJVULBda/Tb+M6+Bt23EpBq75Encp9617kI+zUmBOZZcPHzYhY3Y1I5UF0\n",
       "YD6xcODZckKmAbUpkutqPb90ePy1xt5JVkkiSN/JQ8Aly4eFyirlPVP/zsS28kft8+/1w80Jrssv\n",
       "KuSdtWvX+pRMY+34BPNlPfobt21wtYsMa79aUXJsFO8T5ZNmMvNcvhTXkT1VCQXXvU6/j2sfrN/r\n",
       "15mwRiasq2eacJ7hqq+xeobmJ7TS/oODrKP5xMKOZ5vquozrQq2n8RP157nBPOvv5Gsy1qeLDZMB\n",
       "Oq47aFJfx5UohXS4PocbE1yre6GmwZxY8thWUPrTg3e12ne9GmpqhnJyerDmi1crXOeDQ0slVqEm\n",
       "faffx7Uz4Xpne+1BWNOVqB6z4DNcnzXWVd0ZZLVs2RMtMaiW7tva48SC3rOZ4rpo6MP4xVhlJVYN\n",
       "ZmPn1kOLB367QZF0f0p1PnuI61T5XLvWuz70N8GV3cO1KiadCN/GUWONDI+MdJ/zR5NGq5OdyV1I\n",
       "SzRZu24qngPDSyVWuOo73QJX1kx7kmttnoQ1eVN2E8POTFhVVbT7rzziYq6R12UfHElF766W31yM\n",
       "/6IvRI+DTsOJBb1nU829pKe4Pho6EFV2Le1HBJqP2WDLBvM6n5I6k50N+xNcl5XPtb8f12wcAss5\n",
       "YfULhJqSIdTfuzA2N2m2un6Alca4Hi0nthVPV0QulVjjqu10C1zFtCRda7MgrMk7f9OUV73rXKPg\n",
       "pAezV6Fc9HNe5E9c08PEmeHEwo5nW5l7QfhFtQZyOvfZfT+ZLhoZmvpscCOaxz9jPCGmuKqVT6Wm\n",
       "31fZLPVlXHNlGUhvTobLbtzsHmFdzqPXF8B1DO90Zlbnc5Nmq+s+qJhLXDUVj1NbRYkVrvpOt8A1\n",
       "kbkC16zNgrA+KaNKSHYR17nGnrBe4cGhjiba9IvtMdw7ToYPbU1o9l3yh7kLxdybglxWK+tb2//L\n",
       "7p8Mz3nI+382uH5eT9y/ZoKa4qpWPp0quO1dheyUkOwRjWxT5bqz62kSuWQZeYx5NPkCuI6TKi7H\n",
       "eB59Wt0YcGhc4qqrmCZrJdZpEtpOt8H1ac6KNgvCelw5mwM1Wlz192/30aSqSvIkX45z01TiLNS0\n",
       "PbFwsHYVaXJdrWxqbb+oGBQb1Hs2OM/La/uru2vXZeVT401wdXwt+MM68qf9Nmsf/S0GXA9T/Ocm\n",
       "9YbV+xbRnp+BvXgt+DTz3lS8zWndZjVpOn0vScroWnBVmwVhQ8pjOSd8s1Pv+lxz9ezn/T9f+skp\n",
       "LETIvHM16srm/z186/rEgl2oaUUZLftFxdgLQzRo0eAp1HSa9rqL67LyKdZkMRk+tmuDJMTFgmF1\n",
       "M/9XSEKcmjRYXe966iw5DU6beFdNxds05S2umk534V3X2jwJG2fehwt3LRcDjGRIYRKLKN2MFmNk\n",
       "QWOeiul/8+ixObGwHQ9Y0TJyD9eupZ0LZItV67PBgg2IMXIX10Xlj9rvh5qc4fockNbZrl8A17lJ\n",
       "g9X1EVghCXeJq67igp/iqul0F7iutXkQltMx/GyMq9KZrPco5QFaVmKOK6+qbEqGJHPYLn9q282M\n",
       "q9Op1C6ui8rn2nW4PoebF3nX54Kk/nK4kjuZrbbH0zeboBrvutXQydr1gLALzb6+2ippCLg+N0Yf\n",
       "1Jk0+BjXReVHaRIWCJqUJdtxRyax47pp1K2rLy7iSnZHbrlX8qjTd6oL9K6mgrh+uHnRmOM6h6HK\n",
       "2+oc4PqIcZXk7bheqsUA19sXcgiHuLqyW7x047y040PiIjdSK1NnKZJ7wPUxBEgeB67XI8Pk9hca\n",
       "DIztZSWBq29cX9gB4nyQv/+8hPp3rvMgfPX76L2reWKuYKwa1xjX15fwrsA1FgkZV/Ob/Xm/z9CM\n",
       "ahYcuAJX4PoyXCtjZEiv4XSerq6AK3AFri/DNTVfsab9RHjKe045cAWuwPVFuN7dNG+mLyie3yOn\n",
       "Z6O9wRC4+sR1vn87MAlUrXN4fngpe1TLxcjwdBjleZ1YztiFrepyPim5uKVHDOcL5z8u4frNvYEE\n",
       "hOvZteDwrvCuht518o6P68T6BNXmbIKcEzkfh1redjOAqqcV3hWTYeBqj+t4dux5nRi5aEpTZFhF\n",
       "u0N1h1bgClyBqz2uqeY6serhMXmxuDtF5TAdTTFX6hR0h1bgClyB60EtWtnDdb5ObAT15LL1fLzi\n",
       "edSzTC/iqhXgClyBq/FkeL5OjA73jnSdzA/r5k9clRODmAwDV+B66xsvRoan91uMHnWcEXfkiiOO\n",
       "xjuypslwnSm0GoaakDMMXIGrgXedNmLG68RGG8pYcjgbHl4nNu+7Lq47u7GRA+8KXIGrAa75OJkd\n",
       "zyyPd0iX1cnbRMqqqua9Wfrco533dkQBXIErcPWBa0Kt3uolrl5NAFyBK3C1x7W2epfG5QMCwBW4\n",
       "Ald7XNd3KJo518svOAeuwBW4OsCVZ/e/5jrqwNUnrvr7t98ugap1OmV0ey34BTF5YaS4fbcVua5q\n",
       "e1lJOwO5di34i6zV6FpweFd41yu4vqYL4F0xGQauwBW4AlfgClyBK3AFrsAVuAJX4ApcgWu0uMb2\n",
       "wkjgClzhXeFdgStwBa7AFbgCV+AKXIErcAWuwBW4Alfg+n5ccS24W1x/eCl7VIvzyDCt3OOKa8Hh\n",
       "XeFdfXjX6R1W8K6YDAPXCCbDdhgAV+AKXLF2Ba7AFbgCV+AKXIErcAWuwHVTiyboyt+Hq0DOMHAF\n",
       "rkbetSEWNdpFhqsc3hW4AlcTXEtmU6XVvmvGgStwBa4muAr5th4oEuAKXIGrCa5J8bYeoMAVuAJX\n",
       "M1yzd5lyWQFX4ApczXAl9Zs6oCqBK64Fj0VCuRacv2s2TA2UtDMQXAsO7/pVvGtSNW9p/45Xh3cF\n",
       "rsD1gIT3uFdOE+AKXIGrKa4JYW9oftYAV+AKXM1x3UXHozCWAFfgClxv4Jr86fcXN/6PWQJcgStw\n",
       "PaxlN3tevnQ+zDNyR0ngClzhXcfJafa6TixpeU9J4ApcgevIUFG9xqbzTIoEuAJX4GqBa5I0RUE8\n",
       "9yTPWSGFjZLAFbgC14mmWha0aL0JLc5TMoArcAWunkjw0S3AFbgCVy9BVx/dgsgwcA3RLksvZeFd\n",
       "gStwxWQYuAJX4ApcX4BrSNbaJsA1PkkN7DJ1YsOfimsZEq4lcAWuwBW4AlefQg3skjrC9TMjw8AV\n",
       "uFpL0RIvZeFd19K0aTjtU5UBrrFI1jIvZYHrWuqWhtM+VRngGovItvJSFriuhbRFOO1TlQGusUjV\n",
       "Si9lgetaWJuF0z5VGeAai5gYkRuD+1RcKydzEy/KANdYpDaYotVOpnPWQddr527erKRu5U/Ceeyq\n",
       "MsA1FikN4pWlk9imteNqnRV6qXct2iacx64qA1xjEWHgh4STncNPxTVt83Aeu6oMcI1GWgO9Wxdt\n",
       "/FRcQ8rwXykDXKMRanAqjro4QecVVy5CxVWElCWxUga4RiPSwDClCyP2imuWh4prGdK260oZ4BqN\n",
       "EIP9BeJiL8I+MnxghtLZZPib835mIT10BlyjxNVk1HfiIXx610IEu3aVIQWGV8oA12iEG4R7uYvQ\n",
       "sD9c+S8sCRZXGlKkaaUMcI1HqIHi1EEj/eGa/SsPFlceUqRprQxwjUeYgWUyB1bsDdfyD3USLK6N\n",
       "k3xrT8oA15gWr9JL2Zfj+i9/SsLFNeSlK3CNSdLWT9kX41r/oQwY17QN+IkD14ikMsiOq+wz6Xzh\n",
       "+s//lISLax7SXHijDHCNajbMvJTdJcFWdDUm7B//wem3uMWVhDQX3igDXKOaDad+yr7Auz7wXXMc\n",
       "mHctAooLb5UBrjEJMUgFJrZpw9z6cvF2weozevKTSJbEWuNK3BoHC8lSGXCNGNfEZGFluwgTre3y\n",
       "t93CmuQ/M/VDS5Ojbq9+kCHlSGyVAa5RCTOwJmZpebX1QbJ2A2vns3/jD7/oAlfpNCGfhxRo0igD\n",
       "XKMSbjBX45bzOmltuu0Tyucgss6QsDS50unpVBKSbWiUAa6xrV65l7LapWtpj+uaVl6oC09rXLvZ\n",
       "sMPFaxrQpWo6ZYBrZEKZn7IenGtH4mYvR5YboC2/pGxTZ+6VhLRy1SkDXCOTxkD7xqKlpYOr7LfW\n",
       "lGcXChmv512tN3lIN7VqlQGusUmV+Sm78VnCA65cuMfV0TsL+ooCug5crwxwjW86XPspq9KaOZgW\n",
       "vuJqtXHa6MS/lmlAU2G9Mn5xHUQGh2uQal3X38Cq8psWKJxk4r0KV0fq0jKgp7xRhip5ndTFleqr\n",
       "mU89SBmYuQeqlsHAK/yUdS4vw9WNXYRkEVtlRquttT9BIJ+GKwQCXIErBBIFri94pdWHy/8DLzPw\n",
       "B0WwNewAAAAASUVORK5CYII=\n",
       "\" style=\"display:inline;vertical-align:middle;\" /></a><br>"
      ],
      "text/plain": [
       "<IPython.core.display.HTML object>"
      ]
     },
     "metadata": {},
     "output_type": "display_data"
    }
   ],
   "source": [
    "born_rule_on_register = Forall(\n",
    "    m, Forall(\n",
    "        n, Forall(var_ket_psi, \n",
    "                  Equals(Prob(register_meas),\n",
    "                         sqrd(Abs(Qmult(NumBra(n, m), var_ket_psi)))),\n",
    "                  domain=m_ket_domain,\n",
    "                  condition=normalized_var_ket_psi),\n",
    "        domain=m_bit_interval),\n",
    "    domain=NaturalPos)"
   ]
  },
  {
   "cell_type": "code",
   "execution_count": 21,
   "metadata": {},
   "outputs": [
    {
     "data": {
      "text/html": [
       "<strong id=\"qubit_meas_sample_space\"><a class=\"ProveItLink\" href=\"proofs/qubit_meas_sample_space/thm_proof.ipynb\">qubit_meas_sample_space</a> (conjecture without proof):<br></strong> <a class=\"ProveItLink\" href=\"../__pv_it/theorems/0b26348e3bb1f12125dea7b5c8c2a055669480b00/theorem_expr.ipynb\"><img src=\"data:image/png;base64,iVBORw0KGgoAAAANSUhEUgAAAlMAAAAyCAMAAABPqK4MAAAAS1BMVEX///8oKCgkJCSysrLOzs6h\n",
       "oaGurq56enofHx8dHR2IiIgiIiIQEBB2dnbu7u5ERETMzMzc3NwyMjK6urpmZmaYmJiqqqpUVFQA\n",
       "AABaDN2vAAAAAXRSTlMAQObYZgAAAAlwSFlzAAAOxAAADsQBlSsOGwAACM5JREFUeNrtnemWpCgQ\n",
       "Rp2eMzPd7Mjm+z/psMqi6VZ2t2SnP+pkVWKAcI34CNAahl4OyobP8dyDUNJdm436jNujDwZ7g8rg\n",
       "z6g9/NCwr/aq8TNmjz+w6am1HPHPkD3/gD3pEwg+A9ZD9EP9SCqFPuPVxTHKbpqKWoEOYI+JBQXf\n",
       "fe4qpl40Cphql8rh2Ke8EnAk7w3V2ItMh6YR7KbXLicQvjdTeurjpmFTHejMve2eDh23BYf3Dn9k\n",
       "6mM2ZRqFDu/NVU23FTokDeVbMzXQPhxxG+puDn2/mCnz3kypLlQ6a8PFh6lHB78egjtoyf+FTBH+\n",
       "YeodL5Ciw61ecbvsS0zN+2s2meInanx7proQVIgeHhYsXlNxhSlhDsW+utrtGt+eKWy7Kl+jfmQk\n",
       "JJO8xlSY1Gr5BaZyanWfKUIRPFDjT2WKSHvo4fjUko1Ne05bWBHpYpBi2YPPkujgGlNxPQdeZ0rh\n",
       "4ThTebEL/i6miF+x0qdyLXXi+4qFlfFiySinj/SletKXmCIRRayvMkV+kFNMpYZu1vgzmcIB6lN7\n",
       "zaj5qoW1uJKWoHY7/3clPNglpjQ7eKu8xOX7f8MZpkRK72/WeCdTgEJ75PEfo1+ll5m6YmHRn9ai\n",
       "ijLqoTspF6kE3+h9pvDRkP4Kl3/RcIopDI/UeN8igBgBaWfIoWJ1makrFhb96YBEjnaIHrrhG7er\n",
       "e+x1Vi2IZSBVYAr4Udb4GlPon3NMjQYAo/dqxHctVvLlFgc9TfmuUgBgTLwMlxwACgZhfwrHIsJK\n",
       "yvjMSGCKS+DDXmGhLpasORWPsQ9p6RwG7JfFnYLcZ+mjRHiUphH8W/pfaCDFq8L2M+ArBmTz/f4h\n",
       "20EYx+3BxYO2HoaoeY8MvMTUf9+HU0yRyQ4yCU51q0Z4k2xdc4bArXaPflC08zjSdxV0pNs7UaTN\n",
       "jQgJJ8flzBRzhT0XhYWyWLbGkTUmEJvPIbS5Yr/1gpv0owyknk+l16K4NICDwQ1c1dW0/oz50t5s\n",
       "MH1fy7s1bWjq4SR0YwuSG1xmZ8L2qpSzHqKXFFeY+vH3OabCLg8E9mok4z0Pwq3eWUQZNHk/7ikI\n",
       "W+RC0tiHpLDFI8z19CQSUwEvP8fIFspi2Zq/o92v6Rzh9wsXc3OIkouKLo826Z35dwYMdZ6TUGMt\n",
       "a4pd9pih40yBqtAaUwwAuMeU2NyZ7i6ChIHF2SuynLnc3cZS/Jm9+PvyRN93wSdMuK7x2KzjypQ9\n",
       "KBZ70MU3sWFE4MAUnVsWmZI58eeYimoiCfRkoSyWrJEJVwrEngMnWoWcwJQGM/ZzA3lwKDKWljL2\n",
       "Aw5z9JC6oeIwU9FeMrjqp1afEKtjHx8l2RM23mPgnE7YEVRTBU664b+ZirZ9PwWxn/vtCip7kXds\n",
       "MSIrITTqTOEdEJFG65Ip0DAVPJdjSk9SuYPVFspiydqcLcznEAynMi8dtx2OVoNlLgRws0EyuPwX\n",
       "D4WBmp0rCxzxWYjtMlXaSwaPM4WbeR9GbIcp5zE8wnFetDPxmzJRhXf8xv2fjjPlaYo3wFaNW+0/\n",
       "c6x0VRoAB452YohtMVX6Kb1ioSw2W5tXNeZzOGlcLxpjaiqJFOrvbtsztgVUp1ryTaG5nvsLkwEc\n",
       "YKq2F0vF7yVNh3rFFGgjhUF7TFGP8CDEoQTVtCRqYH/hBNphpmwzCVJ7NQYXcEeOZentYLxg11g/\n",
       "9lYBMb7CVBRKLOmpmDQTlYWyWLYWZ0h6Pkf7dhRvHohf5B3e1IHnhtaWVD5P7wqL+QxFVIo9ox0G\n",
       "eICp2l5cVTzupxbqg7/enhqTj1ZBWiSUOJbLnYbKI7Up9PDNPlOuV6ncrfG+ZftRL3NfXmWPKjFl\n",
       "70frAsaSKR/UnOImEBfzPj9h5pWFsli2xv1tY4umc8IzfTQPZvJkhpVcGOBjR5Cb2OfqgzPRA2Pi\n",
       "pet+qadKe8HgCab04sbezaMzgymYdePeIE4LoqwhVcrzY7kEg6XarxHdtgJGDBW1tjSDkNgYEfoA\n",
       "aGClDmBmQoZpan8OeJwcIqNRAPhizCDk5lxcSuDGo7RQFMvW/Cpz6Nt4jsAAgCLZPKv4mgvrAa03\n",
       "4mrW1CwXixp9ICeYKu1FkX489i1TnAfWZli+h3c3JkxLYsi4V+Jl+n6vRnTjqqrAtFqbOezh5J3F\n",
       "FuMF1riwfsV6FlwoqZxS4dhDgcE5P5XszQYP+6nhyl6XYtWC8l2mFsAYcTTZvsbUZo1P2D/1U5la\n",
       "rvkHSS4ljd4fJJ07RzyCbSCU7EzsK+wlg2tMceuaV1hd3IgHmMKvXM6hnCejwxeY2q7xCUxBc2ex\n",
       "xZyKr3PB28klwS5AbU9ZNvJTs72tnOeLw6ALfipfojrPFOFfYWq7xm2mFH55MsPynpVC4QQWv6vY\n",
       "To66GPI0uRNn0nMbTM2TRQFOM6XaBb/XwwKW7nP/Xvv6czN1tds1zo1nI11JjkdIMSg8bVqx6uP1\n",
       "TkvBSOv73JB7mJrRNOQ0U6wN0G/yLNb85r+07GW1SKDHJaAFnb9NK1a6h/e6rWR6mnE+5W15/Zms\n",
       "2JsN8hO23/SZ0ZRPl1mcRmr8N1mW6J6Y6uOZ0UGid2TKzrmB89ql/ArU8LDDQXfJlOnj2fZ2OQPe\n",
       "u3H+l76DIzMFIBmArNeCg3Jinqn8rqrElFgMFwPqaTspO3kHR9yqk/MmHb8vNj9Z5rK8liFRuCk2\n",
       "sswUAi1TQ7tZ2G2pediDKaqTdwW1DcVTvy+MzW13okmaYtnLIhJmMCH2TYvYZ4Nf7QQe+F8IYDeP\n",
       "xNZ75QmEvb5tDmRSpqCZWHlpwGxpdN4m6lw3PKsn+nn3YuuoCEVdvhmMweI1pBYI5TfFkVaj+20s\n",
       "7rF6grc1usBKPasjaEdP7o+NFNWmx3fEsnKuwWTYAVUse83UYAxc0py5uV9esXr+vE9MHQUQ9sbv\n",
       "3C+WvRbUVNne5zMFdU8dD+jwBxxttqDeH/V4pnBn76z5M/6HUTOxq8QSGx/uBUR3OZ5R/wlQsZdX\n",
       "yZ+uIFmH737//E/IZ8vCjNT/FtmnBIqSd14AAAAASUVORK5CYII=\n",
       "\" style=\"display:inline;vertical-align:middle;\" /></a><br>"
      ],
      "text/plain": [
       "<IPython.core.display.HTML object>"
      ]
     },
     "metadata": {},
     "output_type": "display_data"
    }
   ],
   "source": [
    "qubit_meas_sample_space = Forall(\n",
    "    var_ket_psi, InClass(SetOfAll(b, qubit_meas, domain=Set(zero, one)),\n",
    "                         SampleSpaces),\n",
    "    domain=QubitSpace, condition=normalized_var_ket_psi)"
   ]
  },
  {
   "cell_type": "code",
   "execution_count": 22,
   "metadata": {},
   "outputs": [
    {
     "data": {
      "text/html": [
       "<strong id=\"qubit_meas_bijection\"><a class=\"ProveItLink\" href=\"proofs/qubit_meas_bijection/thm_proof.ipynb\">qubit_meas_bijection</a> (conjecture without proof):<br></strong> <a class=\"ProveItLink\" href=\"../__pv_it/theorems/b07d5189c85af8888f35b494db19d1f38c9c80aa0/theorem_expr.ipynb\"><img src=\"data:image/png;base64,iVBORw0KGgoAAAANSUhEUgAAAnYAAABYCAMAAABPs0qkAAAAe1BMVEX///9ycnIXFxeOjo4/Pz8r\n",
       "KysuLi4nJyeDg4MbGxsEBAQGBgZ6enqhoaGurq4ZGRnf398dHR0kJCQoKCgfHx8WFhYNDQ3Ozs49\n",
       "PT1GRkaIiIgiIiIQEBB2dnbu7u5ERETMzMzc3NwyMjK6urpmZmaYmJiqqqpUVFQAAADgbjrKAAAA\n",
       "AXRSTlMAQObYZgAAAAlwSFlzAAAOxAAADsQBlSsOGwAADWJJREFUeNrtnXvbrKYRwG2ftmnaps3T\n",
       "nCYpyk1B+P6fsF4RvMDgur7O6fLHyZtdF1B+DjMDzBQFolI3h1+1tiv6RJ2qLZAVVrOl9/1tMxTd\n",
       "liUrUBZljr9rzfV1PrWIcAArJMNJDUrq2tjzPYmdrjE+CW0wYldUGuGzZtFen8NOVDgFP28xYtdY\n",
       "ie9Rm6hgOoddTS/soAWVi15BhhC7wnB8Co1tLseuvVQbt5ddlKeS4sFOWnT2Wx3Xwk5hV14p7G7F\n",
       "TnrzFSJFgZfY7Im4sDuFnbjW9XAndgWnGLETliATdon35Ax2x6rGjuorXiKKSRB2EtykrjBiV/AK\n",
       "mWZHrsfu2L1Mt6KVi1ewc7+OYxe2G2vSU5MwYdfi0u5Maj6csGO8KuEoS9Dwj8C36gXsGlPAsXP3\n",
       "EG2yVBixKywmRymzKdPbSbtaQSvVFiZ1Ji2qfAG7WmZgt9xDrElVo8TOWIGnszopmx12cCkecQT6\n",
       "2LFpeqftaew0LbKwm+8h1iSxKLFrLMXTWZ60OWfsmuMryWpOrQwIu3Z6PSU/jd2337Kwc/cQa7J1\n",
       "YmODHeFlVx46m1k8RgWzyRluxo4GVwYDslaVIu+djx3dzpSZ2NFfRBZ2yz1EmhROrK+wa2rCHi1B\n",
       "0MyyOi2ZZ+xqQ4hxc1NIawk1ZCfVnig9YkeGX7b0HHbs36bIwm65h0iTzHU/xE7Wz55zCZ5Z1iR8\n",
       "xZ4la7unzpyJGoLW8gMXxP7w06LtJgSm+0fFAEbFEVHm3zILO/8eIk06l1KIXf3w5XaBx5at0r79\n",
       "CbtxlbUi+/KNcLY3S+0Pv2gL1f1e98M46iOqOYOd+IUWWdj59xBp0kmNFXaPd6Eg2ZYKUe1m7Ea3\n",
       "ghuRX/9TBsV6YrOJiNB++Nk49ENVo1YozBnsfv4Xy8POv4dIk1btYSeq+V6futujTk9dzyit5VDs\n",
       "hsX9xsmxFa6Nvys+Je0msUMXH8qiaaX3NEE+314xtOvfQ0S528eOPX5vkcKyLqsAWuiE3TBYyonx\n",
       "EDsRaNtp7HqxI/uLJtMwoTZZny339z+r4H8B0s6/h0iTB7rd4/d4aItk110NcAHP2IlgG3I4BuEY\n",
       "ypQlW6ju+ehuTJtRRqYcd9ZBF+ilPwWfQbBb7iHW5IElS54uSwQWz10FcPVM2JluLPjinwu0iJXf\n",
       "jkWE/eS2rWQ/x+qpltQyhd2BrvjHtxBGAHbePUSalEd+u/rhi+3MWhzYQWyf2YFiqDoSYnQFb6US\n",
       "2HUKPeWESOD0ZfewWi9QQBwoyz2UMaHR7GPHDG/Ys4dTYKBOQl6PExufap7CbvCiHAjLfezWPaU6\n",
       "ccFBu+kmlw35m8WxhvLnLo517xKOzU8twH9yBjtVpYffW2fiMond5v1g9RrMLOxiTS4raNhOv9U4\n",
       "TFkC8WufwE4fz91u+OkRQVFL1hXTAC46xC7aJDdYsTM4lscoxOI+gR07FvaLtFvg1/nYCV68gl20\n",
       "ycUOx4adsgbH22Hegp1v8q4F7FbpTde/JYrJTOzCdmNNekedsWFHcazKcqveg52+1oF068kxugwd\n",
       "PuxQHFus34Udu3Z18FbsqhYtdgSHv7iEqKCnjmfTGit2xBs5bNhpHP7i6m3YFZVAip0n7D7YvQs7\n",
       "8i7sLo0zdmPoHeL3Gxt2LRbs9LuwK2qMIdcKWUns2C3D1T50COwbsWMlwpBrrAwcjtiwa3rslm3T\n",
       "T92FbyFreGdjFz/9xMte4ct9Iopd7Iroe+y2Tcun7r777++/QUTAUE5wJ7BRx565KRw8AD///nsv\n",
       "5KZL6VP3BYCkXVH2770qPuXLZHA/ABDRNUi7Qk8i+7ErFkDsms/If3nRcOyK8axRRT/YfcqN2KlB\n",
       "u+Hsg92n3IidNPM/84HQxVCK2cEtCQ8Pq/DvYTP4ugK1+v6D3f8tdoOgm3Z6LT8bND69M+CEK0Mk\n",
       "6U/Ks8DdzMO/qdzW5yqcvw9tof1Fgw923yd2LXEGxfIzEv6/IIbz/qw8N7KPJkL7OLuigmNHgov2\n",
       "sBOElMixI6XACEupvwK7jjlNVujIcajVxIZS0/Ok4wn5MVAgb8DYTfXNFe5Ku6LFjZ0sa4lSSDXl\n",
       "RU7zPOxoOzfb/6whZjiW3L+5clTG3PZqpsV0VtnZIkns/PrmCp+KXTjPq+QVAXUVzlxu/U2V5Rdg\n",
       "tzwwPgT86D4mU2KroZ4lsEYrW0cLZQUBYBfWN101fa/4XPQjsFvN82XyCr+YL0hzcdVGqsbq+7Er\n",
       "jFhwkawf/Q4T3X847A9oXJ800/Ozra0NdycfYBfWN204eOwk63eBVKkrwh5c63C3N26kip5Vfx92\n",
       "ITqGDKrYGOmq/1fXo0hqCyGaQ6X5ULfz6xsrRIFdYyztJHqnYRDKANhdPMfeKu0u6vxL2HUj2Mk0\n",
       "qZ0JIJYVjMmkKFgGdn59k02RN8k2XyPtRkN9sN/LD3Z3SLtOPlFPq1uWMCQduKEkT9rN9bkKMUyy\n",
       "A3ZiGFhOPti9GzumFJ+Cd5A5xpabWhntZlwlciZZr765wj3sJK3tHs752LEmyaBnGm2x6zdT0Am7\n",
       "8VSjUdNn57A7k8MsChQshxk8hdnN2B2gM3vZHEqM9jNhfDAjfjtXX8xdfPhEQFaWhx2pASGPhNld\n",
       "hV5JO6ZHaVe/Ju3O5DCLAgXLYQZPYXYnds0hdrO52uQESYlg58zfhrwfOxcLiVKiNo2Icu4LNwns\n",
       "mO1MqCFenPQ2jr+MHTCHWQwoYA6zjBRmj8Bups2wa7Bz9BqWj12Zid0cC6nnZXVWghlVO8WCbvlZ\n",
       "zfNU0UGP9eg90gQysAPmMIsBBcxhlpHC7GuxW6GQ5f+U4d9sT6lhq+8hBRaYaoOdHv5D1w+CxLB7\n",
       "l1Z+JofZMVDsr8AcZhkpzG7ErsURFYCDAlNtsBvn0HZtNV2F3Xbf1sU5zI6B4j+yHOxAKcxuxE7j\n",
       "iIFiQEckNtiNv9rEY78Ku62mZGHYQXOYHQLV/KCLHOxAKcyuWWIBYUdwRHyCxUNbY8dm7PSbJtly\n",
       "4xe4NofZIVB/+XORhR0ohRm9ZEEZhB3FkSEA1s0FuzGLjZzS2KwVwwU78pqK0a56VdeJ8c/MYXYE\n",
       "lP6hycIOmMLskqw9IOwUjgN+GiSUHXZySukwY0ePsJMvhm4OMpgxHtuydiaH2QFQ7I9/KrKwA6Yw\n",
       "Y/UFp2lA2HEcsYsbkOUzYSfNlOCJjbw1x9KuYMbL4cDq/vzct7//rS8/Dn/+6HKVfful//fXv7kv\n",
       "1xnMmpKkxj+Wwwyyt2T69Nsf5M6nkVxSwBRm/estbsGuxhGpHZQgwEk7oaa3dhTl7bFJUdD6pXVc\n",
       "P4OZrBVLKlnHOcxS0m6BaQ1kWtoBU5gVbUnukXYVkkTG1ko4dm71gfPxFT50oLSvadFhBrOCxmLl\n",
       "nclhZj3mvDH7qYDnMMtJYUaviPUHwg5L0JYSsvNp6y6unH3B9i3Z10yK9RCaKoldVg4zuwOdyyUF\n",
       "y2GWkcKsuSSgLgQ7iSXnmIGsjm0Xx/pwXKx/h5lvk1AnOi/228mLc5jtpjBbcklBcphlpDDjl7hw\n",
       "Idg1WNJnE4jFvcWOKUrG3fqlW/43prK10RdgRzdzUnqVIiuHmd1CF+SSshaGHSyFWcXvwo7gyIYC\n",
       "fD+22PmiaU+b+Io12YwcZjsZyra5pHI2PkVbvA87g8OQBaaCjGK3+359BXYZOcx2EpStc0nZPOxi\n",
       "Ld63JluiCQNZAkzZBbvt6gPb1boUWMdQl2GXkcMMlEsqB7toi7dhx7BYFL0ZoDOw264+7FLnJdlO\n",
       "1n2dtFv6pLOx28kllYNdtMXbsGstmkPsDaCr3qZ2qUxSfZDUgFUM4OJtZOTO5DC74AgPPIVZAjtN\n",
       "D5EV1HOUA7BDo9r1D8XmYPey5TwcjGW8FG0fR+PgvOybBMaV2J1RTMVOduc5xBKlxNMS5qgc1ORg\n",
       "V1k01BUqvZ5yHXbzwdhhsu5XbffPy36n2BVmJmsO8tVNjCNgfXymhrtv56gcbZ2BnbCIAsU0aV/P\n",
       "Zdi5g7GyN7n6A7L752W/V+zmRTK1nEqdwBq+Way79gx2BNEc291xdRt288HYDrtiOFoenpeN9IB/\n",
       "D9gJS4hhoQHSTjsYhx1U7UvY1RUi6rqXpLkLO3cw1sdu57zs9olevOhzZ+gd5haCSMkKorwgX8Wc\n",
       "mk0M2C0hGGfsmhKOncCyRDGPgbkLO3cwdsCun1X3z8vuuHlwBlUM+95Ho+kwazxhJ2qxYFeRNXbd\n",
       "u8ig2BlkKYOSe/0vtGTHg7GsPzqkq35T3c552T2JsSz9YiuextUrcMp4Qb4KYcbTzeMkazeTbDfL\n",
       "EiB2zCKLPMlS0vkBQWQZr1AmbBSlF3LZjvqb8B83MTGTQlbgSZagmxBIQtw9ImR2awRG7PxH10ns\n",
       "AR7/ZMVkNBAyhsFg9KxJUeHLzlXS52P3HRShyDBlekG+HFh9UBnWm1itH5UDjh2x+LSQNi6gP9hd\n",
       "rTIsQb7atY0e+N7A2DGLUQdR/IPd15RmtTgTxnEDY2c4yruPZu34YPfGsnJXBuMgvFOfUeyaCqeh\n",
       "L2L9LvW5NMafAnr0h0taclYB+8dP+PcoGJqIdvdJY/zFJZXGOEj6/T+JW/RklsS8NgAAAABJRU5E\n",
       "rkJggg==\n",
       "\" style=\"display:inline;vertical-align:middle;\" /></a><br>"
      ],
      "text/plain": [
       "<IPython.core.display.HTML object>"
      ]
     },
     "metadata": {},
     "output_type": "display_data"
    }
   ],
   "source": [
    "qubit_meas_bijection = Forall(\n",
    "    var_ket_psi, \n",
    "    InSet(Lambda(b, qubit_meas),\n",
    "          Bijections(Set(zero, one), \n",
    "                     SetOfAll(b, qubit_meas, domain=Set(zero, one))))\n",
    "    .with_wrap_after_operator(),\n",
    "    domain=QubitSpace, condition=normalized_var_ket_psi)"
   ]
  },
  {
   "cell_type": "code",
   "execution_count": 23,
   "metadata": {},
   "outputs": [
    {
     "data": {
      "text/html": [
       "<strong id=\"register_meas_sample_space\"><a class=\"ProveItLink\" href=\"proofs/register_meas_sample_space/thm_proof.ipynb\">register_meas_sample_space</a> (conjecture without proof):<br></strong> <a class=\"ProveItLink\" href=\"../__pv_it/theorems/1854a0f6c51e19046510f169d97a9c04c4aad4dc0/theorem_expr.ipynb\"><img src=\"data:image/png;base64,iVBORw0KGgoAAAANSUhEUgAAA1MAAADjCAMAAABXRL5GAAAAflBMVEX///+Ojo4bGxsnJycuLi4X\n",
       "Fxc/Pz+/v79tbW0rKyteXl6fn5+hoaGurq4ZGRnf398dHR0kJCQoKCgfHx9aWlp6enpRUVGTk5PO\n",
       "zs49PT1GRkaIiIgiIiIQEBB2dnbu7u5ERETMzMzc3NwyMjK6urpmZmaYmJiqqqpUVFQAAADIodwo\n",
       "AAAAAXRSTlMAQObYZgAAAAlwSFlzAAAOxAAADsQBlSsOGwAAFM1JREFUeNrtnYe2pLgRhnFc27v2\n",
       "npnZGe9aICGhxPu/oIndBNFAI1Lrr3PuhL6gpkR9qiAhoiggyWQEgewgImZhKq4sbj5kH6Fh2pZJ\n",
       "GO49ZCdJdIBKs8tpnS8SmOstROYiPKVtdrUryr0dBLmAfaXBqcxzCaYg+4nITWgqZ2M3xQyYWmc2\n",
       "qJu+kDQOTGEzdlM6T8+1rle4MOGRKV+Dh8xTlHleREIkMDc1GkRUbk+2rle4pNwfU1sGj6HasQA8\n",
       "k/csCXwMIdsMzYd1vcBFWn+x36bBY6w22JmOhYLKqGzOhsaRs7Ot6wUumfDGFPHmpXwD+nGSZwEp\n",
       "y0Z2Fef0dOuaxkVTbzWKzYPHsCdzDngmR+6A+kYPvbIHS9tuXdO4fPvdG1PbB49B0gBH9WL8ouEo\n",
       "mw4Jsh7c9GbrmsSFfuW+mPLspsrhKUftb/KOhlOlYKPcJ87V+dY1hQv7YiNfTFnfMb5E8PdqmA2m\n",
       "b/TIJ+ce5hI2W9cULvaL8MaUj8FjGPIawDMhJJzgz44mfH0wtdm6JnDhX2nkjanc+0RknmvAMyE8\n",
       "nMpfku9iGFsbmcDl1/8wMHXXhCqUZHOcTvliaqNMNubzSzSYOk6yPJAlkWY863kxP9XF6N9J77/5\n",
       "1QgAUy9EhbLmT40zx0sx1XdMyS/1Z2DqhqK9Llq5tEM2F2ZqEAN+//ZoHUzdsEgRyAxVMq55X4ep\n",
       "4cPx3SUUOZi6XeoeyDOkjmLMZZga3gKqe18Apm5na0HM+grH2JHn33303/etTA2vjGVzRxx8jUe0\n",
       "+EkShzEjbhxPZXhi6jcvNYqOWLngoCOvEUytzd2DKPwRx+S2p9jvu2emeBp5Z8q/n0LsNy02jNVJ\n",
       "1FHfvOg6Cib8M4V86kgJ5JlN61DzymuTwNStB/AgVvyljqXZYApM7cRUEBt2ZGAKTB2XvAcx6et6\n",
       "evzHDw/TCFsbOYIpL4ru3OIniQ5j0jdxMHUNP3XAOwjgp8DULkyRazJ1hICpY8WEwpQGU2AKTO1s\n",
       "BGAKTO0iMhSmDJgCU8cID+Pp+f/98bvDMC6whvYYprCG9kj59Y8/4Kfgp+Cn4KfAFJgCU2AKTIEp\n",
       "MAWmwBSYAlNgCkydyRTqfh+sNZiCn4KfAlNgCkxBwNT1mMLzU2AKTHlmCs96gCkwBT8FpsBUaQT/\n",
       "dXx2jT0zD2AKdb8j5Sf4qcv6qceuZPBT8FNgygtTKQdTYApMeWRKWuRTYApM+WQqE2AKTIEpj0xp\n",
       "GoEpMAWmPDLVfbEbmAJTt2Dq2ntm0q/cF1PYMxNMwU9FEftiI19MwU+BKTAVRfaLAFNgCkz5Y4p/\n",
       "pRGYAlNgyh9Tv/6HgSkwFSpTG8Xd3LfvXr8ETIEp76J+ON7oebU1tE/EBrRhDe2thP34EYKa14/9\n",
       "ehAlv/Q+QOwHPwWm1jLVDwK/f2s/BVNgCky9xdQgrXouoah/AabAFJhaxdSwUEF1t30wBabA1Eqm\n",
       "hkixbHQEmAJTN2HqGnW/ITFWemcKdT8wFVyNontH0gUHwU+BKTC1mCkmwBSYAlM+mXr3IDAFpsAU\n",
       "mAJTYApMgSkw9TAC7JnptTtR95sW7JkJPwU/BT/1UUzhHQRgCkzdzrrAFJgCU2AKTIEpMAUBU2AK\n",
       "TIEpz0xdYs/MIwR7ZoIp+Cn4KTAFpsAUBEyBKTAFpsAUmAJTYApMgakPlcvumXkMU1hDe6Rgz0z4\n",
       "Kfgp+CkwBabAVMBMMW2zON9N4lRJMAWmAmLKZBnhu3YwkzS2AkyBqTCY4pk6pHN5ZhmYAlNXYGrn\n",
       "uh9JxVH6yVi+d43+tYbAT+02Ylt1oIIs0/BTYOrDmfr687Eq/isFU2Dqo5my5mgdKQVTYOqDmSL0\n",
       "eCVTA6bA1McyxeITlJz6UjAFpnZh6r97MeWsgClzhpZEr7lGMLWTYM/MPaxr8Fq2wySGn4Kf+lCm\n",
       "9Ekm516nBKbA1FWYcszY8mWNpCf1qVTzBIhZnZZ0JwE6YGrEFHNx1hM6HvVTvoip7Cw943mmRlql\n",
       "/I3upEDnNVP28V+jg2Gq0JyvYKoemI1awpSwZ+mZvcGUWb/eI87tNe8zU4WYaLlGPEvsthYmmHqG\n",
       "4ZkIhik9u7V/z/qo2xE4a2rytFHcGXT2r3HsfdfX/VWeXROpuBwmTbzm6jK7tQUnU7xtVqThxH52\n",
       "dqztWh9rEghqFvgpsyXbiLcMkYqv91Mjne6bMdC67/QaIlK7tQV372Ts3d69LVNFOiVXMGW4e9Rx\n",
       "MrXF4NgmFyBc76qaY+qNkTS+RpGCpHEhzw7LmgAhfZupd1pwM9XWfrMoGKbofErQtT46ER27mdoU\n",
       "v2zUdD1Tb0T8Mo/Pv6kyI4POSpNaE/02U++0MOHFk5L3OKHBMCXyhC1iihGla6ZIZUaG7sxUdART\n",
       "klgmKEmbysv6+07Pr/yJbHQHTZ4/hwxNCKWsKkMoQUpdZfGnLFlMqFbK6g5TQpEq7Ou00D+sba2s\n",
       "YlBaBXTtOZwUv8xGTNVx+KHTKloZrZU0lJ/AFIuT+bG56lwamaTcVaJgqg7p4k9gihamRMpAU7xZ\n",
       "pSjSUXkyUy7vSso9OrLqykx5h1Vl6nH5kADPdfG5TsoPkkSWNqAeTPHy4IqLTgvdw56tiaRoTCb8\n",
       "cQ5LB13YMFVVf9eVgHvj1DCvfpVnS0PKQqMhxbUUFz0YJFX/30S8aL39/WqmWLxk+Citj5tIFd2l\n",
       "y69J6i+V92dKyihOK2/NHTotzGXyk5NvZ6LCtE1qfSsKZDVopNWdy9PK3kuN61qfqYaFiqkar0qj\n",
       "Zwvdw56tZVnTeHuOrCIeMq7glDZGX/esiBWtSLdjbJ4pXeMpjSuhVJYIUpomK+98yqt1cYPlpmn/\n",
       "31S8aL39/aBXHZ092DNT50ucY6lt0S0JaQaQWmPeG3mcb425GFP9a6y1YpU9maaawt+ZbkrPzb55\n",
       "na8Uko5+03QCk7RmqjqiilYbplRdDlINU7xhiPZb6B7WtsbaoPd5TpynvaG93TOzLP9O9REnNi3j\n",
       "UGOjMqJs9i2ZYIoMPmhPZmm5u49Jabk4hie1tyx9VNzPB18z1W/dxRQnJJ6P/eiSBWv1GFPZHY0e\n",
       "5fS+X/Xup9jGqZ+FNQpTHWeb73ojoRJxfG45nTlKc7qtoFSZsLLGdJkiA6Zqz1UyZXKlS+H9FrqH\n",
       "ta3xtuL5PIfROM/V2E8VQOmJ8qhqJz1McYR6BH1upkRju0oMTqa1Serq7AqyQhdS/G374dtLpgat\n",
       "O/1UZBYwFakFUNXWVwbR1fc2RaZ+GO8/9ovVEUzVNBW/YA+dtNLFgGQjohesVhJJcvYMleM2t4ZS\n",
       "gmPKZIi/Yqrrp4yjhe5hj9Zar/U8R7BB5PNgipqmjDLs2udDOYYbWcRutJwZUyoufmRXGVmcFGkW\n",
       "VTPRov7mx8lM8/pgEU3MTM4w5Wp9A1OFw5YLmUqr7y1zkOr600+oUURVibd0wbTViWmZFMeVkT2Z\n",
       "DwXj00sUERn7gGb3KFF2QmX7RQbEhYOpJlHibT7V5DOy10L3sGdrWe3bzeOceobf6jFTojlk2LUd\n",
       "F2t44W2MnPBThR8qmiLtI9xp3z8bYR7WT1lE1jLlar39vUpb0cuZknmyjClZpKOFyrqxocG0+E2Z\n",
       "qosTpAhOeKuTYFXdq/yFmg0F6RUWJ2WjpD2uPqr3kKooIDkv7C7rMlUFdWXFgcW0U/erqqGi10L3\n",
       "sGdrItH1oe05pvLYnX3nnqtMLG88Wb9rpe4yVZBEUjdTgpXGXFx3dZvq1bjPkzXTbayQlVsSr2XK\n",
       "1fomPxUls9FfU7PhlqbkEaDG0ScwJSs1mK2rPY1OZXW9znTnKnoLFqEckVHZVPYDUBtJRa2V9W0j\n",
       "hhSpDuE2Tyw3afFnRLO8RCSzugjFZHVUkpSJvlCKlLbUbaFz2LO1apVtbQ7NOZISQrr1PcfKrX7X\n",
       "6qx2AaZmitG2lDHOp4oTy8SjHuQ47Z3MuVw2DzWZT41b38bU/DrQRz/x58nDRdzONbSXY+r1GtpW\n",
       "p4RH1YhZBD4z90rPO/lDRNK0tzZpsYdTPg8b1fTGTPW7ltOen2rDx8H8VNpEs4UzEvpZRuic3NQo\n",
       "ZpfeTDI1bn1T7FcEf3PL8h7W11kCM9xa9q75VK/LxTOHKAdUnc496pDmaXRnOZqpYdc+Z0frlGKQ\n",
       "wDLa9VOFL6HdSufzZEErDih5lylX61v8FJ+NXx7W9xwZRhtNfABTrU7SNhVAYcnMaJPc/JnE2Po8\n",
       "bJ6pYdeKtrLK47qM3P8iXi7VaCoSSqW0uX2krZLxJ3xFIKhmA8BJphytu5gSRcg8Btf9nK9e6qee\n",
       "tSb9eUyR9etF7/3svCwTLOHrsEWx38j4aBlWTY/p5kmCMEM05k5ezpSjdbefchvBG/tRkPEAYKPb\n",
       "MzXS6o3BGHu8bGRqDmf2NPJHbU++PY69YGrU+s5MvW1dE0y9/Qy18MmUF3DB1K5M6Q4JD5Is24Gp\n",
       "UetrmDpyz0w3U+TtNadrRqh84TWCqd3E056ZQ8tmXloSTUNTrYvFX3QBP7V+TZ2gVNVh84qUB37q\n",
       "A/zULeR8ptZvTcvqZ+SqC88YmHKaL9EUTIXKlFr9ZdUDSs0yda3AlMt67badI8DUrZlav/BAVuvJ\n",
       "mtUei1eBB8VUyq9obGDqGKbMm2tOTdN+59Wi7ZyJe7ujoJgqH+FiYOpKTO31jmyHXTdLvZ97q3BK\n",
       "F0zbybgxXvqcRRLV4y7tX4uY+tR3ZEuqtQZTgfqpxs889lbR1R4Hsxm4bZ4W6G3iWNE0gRTqfmAq\n",
       "FKbqxyeee6uUM056wXqLpu7X56/gaQopMAWmQmGqqjcM9lZRD9/DsvgpfViS+v7wXpsinkIKTIGp\n",
       "+zPlkimm2r1Vappmtijl9Z6L9ZXLZClTLgFTYOpTY792b5Xqcexytzj2smn2ZKr3AAtiPzAFpqJm\n",
       "F+XaN9UBYIGXeHUF9QYhTeynU9QowNSlZLBnZiXO7S7XytI9M5taeL23Sl2cSGn0MvirqsTt/FRn\n",
       "25XVtXQviu7c4idJu2cm/NS+forXsVu9twqpVhpJNbMxtVRKtXNY8XMuqy2viwx+Cn4qYKaieNPI\n",
       "Lha/JQBMgalQmNKbtpddvgIXTIGpUJga7bi0yk2lEZgCU2BqmLmm73/LCh7BFJg6k6kD19CWzubt\n",
       "PTrIChcX1BpaMBW2nzpKU/gpMAWmwBSYAlNgCkyBKTAFpsAUmAJTYOrSTLn2zDy27nciU6j7HSk/\n",
       "wU/BT8FPwU+BKTAFpsAUmAJTYApMgSkwBabAFJg6l6lL1v1i5Z8p1P3AVMB+qnnpAPwUmAJTvvzU\n",
       "xtsBpsAUmEI+BabAFJgCU2AKTIEpMOXbCA5d73dalwrU/c4XrPfbYcQ25P0Gt9X9FD/Eq8BPwU8d\n",
       "zJTc8t7mTfNTKQNTYOoTmRL2LD2zCEyBqU9kKsrO0jMGU2DqM5lKT+pTqcAUmPpMpshJJqckmAJT\n",
       "JzK137tyInZS8BevuEb/WkPgp/bzU5EyZ2g54R7hp8DUBzB1iqNicQSmwNSnMhURerySqQFTYOpz\n",
       "mZo08P2E0ghMgakPZir658/HqviPNAJTYOo4cb0je781tLXYI8M/lpJ3rtG/1hC8I3vHEZtueTXi\n",
       "OpGxPNKrwE/BT53DVCQzdUjn8tSKCEyBqQCYiiKTZWRfZ8U4zaw4mAAwBaZOY6qweW2zON9N4mx+\n",
       "ehlMgamPYuoSyoMpMHUQU/vW/S6kPOp+YAp+Cn4KTIEpMAUBU2AKTIEpMAWmwBSYAlNgKiCmUPf7\n",
       "YK3B1O5mJeGn4KfAFGI/MAWmwBSYghRMhaBm4jACMAWmdhEJpsAUmAJT6yW+KlPLVp+DKTB1Ocny\n",
       "8aPlO+6ZucI6vR203zUe0eInicmTENRMc3pRP3UAU/BTx4rO4xDUtLkCU2DqGCF5FoKaKrf3Y4oJ\n",
       "MHVHoXkaqpqXZyrlYOqeA7gKQU3tcMeemPq+F1PSeov9voOpQ5N3EoKa0lGK8bSG9re9mMqEN6Z+\n",
       "884U1tC+uHG5CUFN4ZgyuHjspylqFPeUJA9jpiHPxc2Y+vY7mLqrrbEg9IzHD3tcmyn6lYOpm8ZE\n",
       "SRiK2rEVXJop9sVGYOqmuXsWhqJkXN+8NFP2iwBTdzU1GoaijsHjykz9FNMITN01JDJhKMrGhb8r\n",
       "M/X3vzEwddvUnQWjqdiHqY0y2ZbPLwFTR47eSSiq0pEZ+DAMlm909HkXnMe///rP3v83+ykCpg4T\n",
       "41ha+rEJld3B1ESe+3l+queX9F9kj7KNTMW+159tHkmQTn2GJPkOpqa3zu/lY6Ki6M9/75OWb73L\n",
       "nou7m0eSoOzsg0UN7cCHqdmtjj53IEX/JDrOdDtT0vfEvs6DScNXCw8n9Csti3o3Nebai3MtU8OK\n",
       "JMv6EepmpgqP7DehWjSSaOo55+JU3YBkElRYnCTeTW2zm4ocxFg5d8T64STxaY2LRhLe9Dal5NUU\n",
       "KKPU2pmLY7oZZegNXECWBIRUMYJIz6Ymt288MMaFpwsOWinUa0DyYiThxKZp1c2m5kAXw5ZMX0Tk\n",
       "5U/Ri1oZrZU0lDvaJE03m+sv+uGhLKJoTdP6NbWCSeGfKSb8M+Xcj2OHkUSpBxKN/SflB/l0N5Xj\n",
       "nCgyXUMK8BIZGZdJmvswZQPLNOlI302mJvN0e/8dscdL7aStN6T6I4lWuvAkVT+STgZV27+oujyZ\n",
       "TjE0q5kqNwooE0llbs0UC6lCUStMfZqa8JGMHsWUn6t1jCRMy6RAqeSMdWO8OgfiFVPx62oFLZEp\n",
       "fkofFUd6mil5+T2+SC7CYqrQmO1lapdnypcMO0wwUtJT9qzs4MAz/mQqeVkL4nFxDCvGNlLEgZaI\n",
       "aaaijFw8skpUFJrEl0sgb8eUI4UoyxBJ5ZrSSgrqeFPMq2O/l+Vl4YigedqK6DFlsmvvnkICnLcz\n",
       "l3PNH8BUWYZQKuIR745YxC6qUUSiGNnFzF1pmRIXr1OzIJdBqvRqTB3wDoKdg8Hy6mJuyjoDG9Yo\n",
       "IkK6m6pFjLZ/PLwU53xuLvcuNQqbRiFKjAXVnqUihlSLJkTKh0yVc74dZHhZy+CdwmEyP2YImuWU\n",
       "3IApmYS5YosnWKm2Y/BDyxxI7mX/F2cqloHedilg+of0cxwaU0zirkN2Ff8lOp7hqS1I0MI9EyDu\n",
       "9MzW/wEUGYCg1v5owAAAAABJRU5ErkJggg==\n",
       "\" style=\"display:inline;vertical-align:middle;\" /></a><br>"
      ],
      "text/plain": [
       "<IPython.core.display.HTML object>"
      ]
     },
     "metadata": {},
     "output_type": "display_data"
    }
   ],
   "source": [
    "register_meas_sample_space = Forall(\n",
    "    (m, var_ket_psi), InClass(SetOfAll(n, register_meas, \n",
    "                                       domain=m_bit_interval),\n",
    "                              SampleSpaces),\n",
    "    domains=(NaturalPos, m_ket_domain),\n",
    "    condition=normalized_var_ket_psi)"
   ]
  },
  {
   "cell_type": "code",
   "execution_count": 24,
   "metadata": {},
   "outputs": [
    {
     "data": {
      "text/html": [
       "<strong id=\"register_meas_bijection\"><a class=\"ProveItLink\" href=\"proofs/register_meas_bijection/thm_proof.ipynb\">register_meas_bijection</a> (conjecture without proof):<br></strong> <a class=\"ProveItLink\" href=\"../__pv_it/theorems/e2fcfd6c3261fa8cab19c68374f028f6d62adbb30/theorem_expr.ipynb\"><img src=\"data:image/png;base64,iVBORw0KGgoAAAANSUhEUgAAA8EAAAG9CAMAAAAC6YShAAAApVBMVEX///++vr4aGhoYGBgEBAQG\n",
       "BgZpaWkHBweDg4Nubm5WVlYJCQltbW1eXl6hoaGurq4ZGRnf39+Ojo4bGxsnJycrKysuLi4XFxc/\n",
       "Pz8dHR0kJCQoKCgfHx9aWlp6enqfn58WFhYNDQ2/v79RUVGTk5POzs49PT1GRkaIiIgiIiIQEBB2\n",
       "dnbu7u5ERETMzMzc3NwyMjK6urpmZmaYmJiqqqpUVFQAAADl5zMWAAAAAXRSTlMAQObYZgAAAAlw\n",
       "SFlzAAAOxAAADsQBlSsOGwAAIABJREFUeNrt3Qv7rKadB3B22+32abvJJmm6uZz8s83J6aIgCIjv\n",
       "/6Wtt7no6IiC9y/P06Q5Z4YR5OMPEJEQpJOk3CmhnpCQdio42IeQkJAgGAkJCYKRkB4pVW/+UtTj\n",
       "RLvcLwwnqRYWzGVAwTwLcTJkxDt/EmGkPrfqLpL0W50iZ6ZIarlfGE4qT/iighMRTrDJkyCng3Ur\n",
       "q6x+YyF4RtVdI2Uxfy9YLvwLbwlHckHByobrRes8VPOJTe/1AUBnVt3ZEx8ptb9g7lGvBeEFBacy\n",
       "mGAaKAJXZZYQHLDqzp5sShYWPPYLC4e24aZvGAklWOV5uDGYTSA4YNWdPIlcLSx49BfeB/A8F0sJ\n",
       "/vQlmOAoZ+HOicwzCA5XdSdPaUoWFpymXl9PfIPwYNNnP4tQgoOG4KLMEQSHq7pzp2w0QPoKznK/\n",
       "W0LGF8dQ0+c/WRJKsM3TkGdF5BSCg1XdyUNwRBYWnHpeFJVvN3qo6dufZDDBUa7DRpIYgoNV3dWv\n",
       "WJ6Cva+JxUA4W0LwbxEjwQTnga/82UuZIXh21Z062fEeqqdg6z1AzHOzhOAf/ofvVzB56ZVD8Oyq\n",
       "O3PiDjcx/QRz/9ukuW8azCvkjwReSmC7QwcInl11Z07GocfhJ9j492nCxeBntP/4vvXf+bbH2DP6\n",
       "ZxAcqOpOPep36OL6CU7877KEEtyKuebvqmV6b4JJHkNwoKo7dSfaYZ7YSzD3XxQZSHDn2Z7vfmi7\n",
       "3p3gpNMXhODZVXfqTjRbWLAJ0KMJIrgDmH0rn/Lfo2DaqTkInl11px7zq4UF21ztQXD34Vqetn9g\n",
       "h4JFZ0oVgmdX3YlTnJOFBccB2l2ef3gL7l5Y1NgnVj7G3iw5BAepuosPg70EhxgGF+fjlwDj4FaR\n",
       "EocPrXqMPSltd18geHbVnTdlTvdqfQRnIR6aDRCDuxcWGV5w8Bis24tEIHh21Z25oGxhwTrEnMJC\n",
       "a7ICCw6+OURn0x4Inl11Z+5sZAsLTkOsUb2oYNG+rQnBs6vuvCl2um/mIzgOcWfuooJ5ewIdgmdX\n",
       "3XmT25Sdj+Agk4IXFUzaT1VC8OyqO22SblcqD8EyyLXw82exe8G+x9iXotYQBIJnV91pU+Z2q8dD\n",
       "cBbiZpJ/DF7hzWdLxOC0NaMKwbOr7rSJui1d8RBMgyyOWUJH+G5b+GO0rYl8CJ5ddadNzG3O3UMw\n",
       "CzKrf1XB7X12IXh21Z34QmUXFmyDVORVBbNWDwaCZ1fdaVPitjubh+AkyP5v1xUcQXCIqjvxcH9p\n",
       "wWkgwR8HEBz+GGlrXQIEz6660ybH1wx4CA7zIoOrxmDT3lQEgudW3WlTvLjgGIIhGIIXFEwXF0wh\n",
       "eHbKIDhM1Z1YsFlcsIFgCIbgbVudh+Acgj2SguAwVXdiwU6LR3/Lv8z/hd+DHOc156J/az0X8mcI\n",
       "dk/iGvvs/N+/viwu+FfEYAheP33zr38hBofpRWcQHCiQoBeNGHxVwUd9PhiCIRiC6+8f8+lCCIZg\n",
       "CEYMhmAI3l7wxwEEf0AwBEPw6jH4vnM0YjAEQ/ABBScCgiEYgg8rWFmMgyEYgo8rOJUQDMEQfFjB\n",
       "hhEIhmAIPqzgT18gGIKPLNjpuQNuZleG/iwDHOdiO76zn0UowUvs+M4/f376L2kA0zn9hhh8hRjM\n",
       "f7IklGDEYMRgCF5bsP1JQjAEQ/BRBYufGYFgCIbgowr+5r85BEMwBK8h2DMNZPcR9EcgGIIheCiX\n",
       "YE82PHn+um0bTzZAMATvvRfdIht/1foT9KIhGIL3Lbjdm/741P5TCIZgCN614M5w+LEcq/4LCIZg\n",
       "CN6x4O50FjPP+UMwBEPwrgV3AfP05RMQDMEnFXz4Hd97fFo1MFje6hj7Kx77RUPwu+T43MEJV3SI\n",
       "hAQXjBi8o9R+KAS96NMJ5hKCEYMh+LiC534IgiEYgiEYgiEYgiEYCYKx43tIwVgXDcEQjBgMwRAM\n",
       "wa/fx5vPIBiCjyt4nbqEYAiGYAiGYAiGYAiGYAh+SodfF71OXWJdNASv3+p+d6sNxGDE4GMl7PgO\n",
       "wRCMGAzBEAzBEAzBEAzBEAzBEAzBEAzBEAzBEDw5LfFmz9BpiWOEYAhGDEYMhmAIhmAIhmAIXlAH\n",
       "NzaN8sVSlGgFwRAMwQsJztKUikXPF1csshKCIRiCwwsWqV7lXInUcgiG4CMK5mZ2ZTjuSD16nMNP\n",
       "DdBErlVdKlLzjnF26G9teiwNYELwLF97jsFWr1hfPDWIwcdI2PH9IIJ//nXdGvuvBIIRgyE4mGCb\n",
       "rV1ljEEwBENwIMGUrV9nSQbBEAzBQQTzaIsBVgTBEAzBU3PpnefV2RaVRs2UY4RgCIbggfjWeYn3\n",
       "ailCDIZgCA4g2Gx0f7R/hSUEQ/A1BfdkLdx0JBudIqXHBcvRMkEwBJ9DMHuNaIlwEpxuVW3RuOCX\n",
       "UiUCgiH4/IJp9c9MuwiWdqtqS2cIzjQEQ/BWghfd8b3V1ll/kOud51U+N4Mjn8WYvd339jG+9izm\n",
       "3PnCju8Q7Otr3RjMafNnmUMMzuj8gvPcpwuuxfQY/FImxOBFE3Z8nyOYSk/BWUNDJg6Cvc6Q19mV\n",
       "fe8aHhMskwUE0yQqUgqw6EXPFcxHxnrTBN/7xal0ELxlxU0X3C1TAMEqpRxWIXiCYEUtl4wmdGB0\n",
       "F80VzKk2tWBa5ZGxMwhuV1fGAguWKfxC8DTBjCSWlqNI2W82S2YKZiSLy50ECsF1xUdnENypriiw\n",
       "4FQCKgRPEqwUiUqjMhcDUZd2p2ndBIuM6CInU/5MXP1pe93TMQV3q2t8t7yJguEUgqcJ5kU4KVth\n",
       "9qicf/5v1Ep5rmYILrKLaTMMrsfSonWzt3c3dR/BfnPRvb/dPsa6VO3qEjaoYBHfKj0BWAh260UX\n",
       "jbH8p02HRr4qVbN60XUrZ+R+Q6k9aAwfgyMdWnDfTFa7uqYPhN8K5oALwZMF142xaKu8V7B4mVtx\n",
       "FayLjGX50WZ2tT3GO+pcdLu6qjIZbQSlllDjsM7yfS86glMInio4Zk28ZL2t6HVuxVlwEVDKHTFV\n",
       "HcM7N0+PKrhVXVWZuFFx8bm46FBT6ymYUkCF4GmC6zkZmhJzix+tTrPH/WAVy7KZmya/zgKmgwpu\n",
       "V1dVJslpGZfLv9DMUzBJM0iF4EmCVRVyuTX9X2NitmAiLEvofVFXRM4guF1dTZnK+0uinHCPMl/B\n",
       "3CYKt4QheDwtuuP7ffWSyAaDee+TDbsT/P7JhluZYlHedCsD9Pgzw6M7viuWYFXllQXvYcf3e1t/\n",
       "WiHYfQ3DGVZVNmWSeROHTUL0tGaIJxsmJOz4vr7gx7DwZQOsEwi+lUmV81fljJ+044uaIRgx+ECC\n",
       "HzOrL7tBnkAwNd7NEIIheI+C6eto0JLDC34plSUQDMGnFOyWi7vg2YcqQwpeohlCMAQfV7DzXDSd\n",
       "/XuKegrGju8QDMG+MXj62mPJmE7UxKEqYjAEQ/ASgqe/xoGXt3Sy+ijdn5iHYAiG4CUE68mKaHmA\n",
       "zcOGRkMwBEPwloLj6aPfuOxBN48LxxyCIRiCtxOczVxfmDX5p4+fsbeHORIIhuCjC150x3e3XNzm\n",
       "opvHfR47zAnGkvG9bVTU4GOPu7YyEk//chIcfi4aO75DcBBfh4nBTQy97zBXPqyYjfWsBbW2YWqe\n",
       "YnhldwAwYvDuE3Z8P6Tg+oG9xw5z1LHdN3PRbe2F3iHAEIwYDMFLCK5mpTo7zOl7XOXp05Z8bZpx\n",
       "fbpFK08ZDQGGYAiG4Gm59KUhwbcd5mq78fs1HqJCmtSHqWJXwX0JgiEYgkP0om87zEWlXVUcO3+b\n",
       "NX8IziL0oiEYgpcQ7DYXfXsdTBV36650gVm+oxXbp160SVqAJ85kYV00BEOwXwxu7gbVO8zVDT5h\n",
       "5G032hjyuB/8tPncjLtJiMEQDMF+gkXdC653mKPVGkml6fuDV1rr2z3j6HHv+HaDSaYQDMEQvJJg\n",
       "Egmfn5HOe6hDMARD8BKCjdfLVNyfi4BgCIbgJQS/7HI5KQS7v4gIgiEYghcR7PM6sAn6IRiCdyLY\n",
       "aV30oju+u6QJbx+Vs18mRCccae54jJ5pdMd3pKGEddEHjcFrVRxiMGIwBEMwBEMwBEMwEgRDMARD\n",
       "MARDMARDMAT353K0t49CMARDMGIwBEMwBEMwBEMwBEMwBEMwBEMwBEMwBCNB8ERfh9nx3T1FOrxg\n",
       "7PgOwWsnx+cOzheDm1edIQafNrUfCkEv+nS9aM/rMwQjBkMwxsEQDMEQDMFIEAzBEAzBELyo4L65\n",
       "6M3OkMS6aAiGYO8YnNH5GfrNRWvheowQDMEQPKRDMY8cve4HJxyCIRiCfQVLu1W1pQSCIRiCfQWT\n",
       "dKtqiyAYgiHYX3Cy0SlSGoIhGIL9BdON9k/WCoIheC+CD7zjO+EbdaOjCcfol7Dj++yEHd8PEIOJ\n",
       "zraotIHQjxiMGAzBEwVvEoR5RCAYgiE4hGBC2fp1lmQQDMEQHEbwIKflEmMEgiEYggMJJt//um6N\n",
       "/S0hEAzBEDw5l8GnBuyaHWme0DnHCMEQjBg83K1N5FrVpSI17xghGIIheNhVqlc5VyKxkkAwBENw\n",
       "YMGEZGlKlw3EXLDUSp9jhGAIhuA3woxNo3yxFKXji0cgGIIheE0d4esSgiEYgody+ThAXWIuGoLX\n",
       "Tmvs+K4QgyF4/YQd39GLhmDEYAiGYN9mSCAYgrcUHAdp11cVrCAYgiEYgiEYgmcLjgIJvuZcNARD\n",
       "8NaC05wGOc5rxuAsjyEYgjcVnOQMgmcnk0cQDMGbCra5huDZibZeDgPBELy+YJ1bCJ6dWJ5AMARv\n",
       "KrjdBiF46vVPQzAEbyrY5GmQ4/zw/L5L2vYY+2cRKARD8NtW9/vCglVrNnWr+JYH+9C6MThtXWEh\n",
       "eELCju+BBMs8h+DZKc4FBCMGbyq4+AkJwfPz5BAMwdsKjkI8XrikYC53K1i2hyAQDMEbCLYhGvaS\n",
       "ghOxW8GqPQ0IwRC8gWAaYkmH91z0GyU2WC86+Fw0bS9og2AI3kCwCnE7acEYnMr9joNt+/RAMARv\n",
       "IJiHmIxeTvC3muxXcNRuhBAMwRsILpqh3LHgv/62X8G8cy8dgiF4C8EsQMteTPBfUrJfwVlnTTkE\n",
       "Q/AWglWAZxuWEsz/KncsuDMMhmAI3kQwifPdCk7/QnYsuFtxEAzBmwjWraWBexL823/yHQsW3c4L\n",
       "BEPwC67Fd3yvutHMX7Bn6suQkB//FPRHAgum3csrBE9I2PE9nGASx/7HGS4G30l3ae8tBqfdaoNg\n",
       "xOBtBFPfpdHcd9/4/Nnv48ryVeu/vQXTwE2QQTAE70Iw8Z2NlrnnUDq/l/fpDz8+tU17+oiC7Aj2\n",
       "SPalBUIwBG8kmHlWpvE9G/mrX0I+fWnH5dxXXBry1PDXyx4EQ/BGgrnnXJb1DeJ9Qpl5rgd/wSps\n",
       "k6GvdQ7BELyR4KI5cq8LgO9AOn8JwISn7YrwFlx0o0MOhGNNIBiC9yKYRD5B2DsEkx6fVo19YnoQ\n",
       "jsO1mb5rHgRD8GaCM6/nEyPiL7hbpMThQ5OH+zbUieF9t6YgGII3E0x0Mh9wLMML5jK84EAvqKhy\n",
       "6qsuCIbg7QSTyMwFnPifiTV2uqv7vmGisOrtj0PwVMGPs5GZiwuuklfrFDMHiTILUc6VBIc52uJy\n",
       "1525i0LsSX89wfpej6k8q2CnHd+5qZLfhLDasA5XExxoFPxS0/UJMIDpnKod38Ut6MiEnFVwdonT\n",
       "eTDBSKHGwWnT8WMZBEMw0vEE37otKbm24BDj4I3Lufybz5CWTxOmA5q56DgqU8wuL5j5j4ORkHxT\n",
       "NRlgpwjW1SMxyZo3lozOjNEqY2JPgiVaD9JeGE8RLO3tH86pFa+7N/jf3fBXGS0nvzOaFLFfkYwN\n",
       "frP4/1S+yf329xB8/J49uvZ+gqvwy973HmWky0+Y2L4ifcxh1yNq0wOGJtpSSUlcrqUj1Xt8ylX3\n",
       "uv3RpP3/mXyT++3vW4mbFIJ3JTjYhyD4jeCMDs9jCWqTpIyalrDiw5q/E0w7f3D7Mk9soSNLGJHl\n",
       "qodytE6q+BsR4y64nXufYEFpBMEQfDnBBV8z8MyY1s1INSs+oe/d537Bt7U6Wna+zHiVvam+XZEu\n",
       "Qjkt/m3bHeG3gju598ZgkkFwu1OSQfC0JNURBbOsuSlstCnimCXU1K+rpPcQmYlMFb3gwiDTWkfF\n",
       "/9SzO1V8iRhOovJrsgZ+/zI3ov5wNa59M3k1JLgvdwh2agfJtk35bTu8PXiR7+lSFWSJ+uqCZTO8\n",
       "5UbFBbvyv0ozRe/3QUMUkTRTAzG4iLFFVkWgTbK7xMeXM5ndcTBO6FTBfbnf/l4nt2Qg+KUH5XN3\n",
       "e/mnLW4vNc63vVS9lDuShxNMbF2XktNyPFzuuKZLq8o8Cy7c0qRfsOQlncKYEXWXu/Vlw82tLaR5\n",
       "/uZB2AHBfbkjBo8n6tesQzTld+3w/lLjfNtLVU+5jyf4niy9TTWVrd6kdXjLasGc3Sa8XsfBxRfL\n",
       "gWodowVrfVkI5Xbfd3Ac/Jr7BMGr7Pi+w+S9p9Uiuw480v1JmnzjS9Wi14NFBffs+B4LUgVamRNx\n",
       "s3KPweXd3KYv/OIuUuVAVZrHZNPTl5uZLMLnCn7NHb3o0RR5v0ZCh9j5Z7CNslAzWYG33yu3LBPH\n",
       "EPwag2XexGGTVHH2MRKqVxvS9hnl7DkGF3GyPinNCPjxZckqdYzOFdyXO3rRi7dr/6Y83A75jzyU\n",
       "YP9LVbcdbh+E5wquhiZl70ZaWi3Xuk02iKju87RLJuLsPm+ldXLb2pQ2M8+JeFAvutR6tDUMCu7J\n",
       "vU+wZGn+epm4qOAQWzsnQXbA7U2fPkggwSr4VjNm+81rZo+DX66UrOygDt9XyB7uHjs3JI5fdhfc\n",
       "k3t/DO5tRdcUHOL1CoF2oe9JX8cklODAu9DX1wRxFsFjReUPUvf5ZjV7R+E3gl9yh+DRYtPtm/Jg\n",
       "Oyxf5xRIcOg3wQR4hdVxBJsnd/f2YvkCgl9yh+AVBAd8G1s73z99IsEEh34bG1niRed7FVx3cLun\n",
       "J0hOssloKHfp/EOXFWy2z2SgHSZ/+ALB+xG8/6YMwfMzCfhW8qG/2NtbySEYghGDX8LrM9p/fE/y\n",
       "kO80hmAIhuBlBbdirvm7apmGYAiG4F0L7mzC8d0PbdcQDMEjp+N3CN5ScAcw+1Y+5Q/BHoJ/QwyG\n",
       "4OUFL/1OY8RgCD6p4I/tMxl/p3Hx9/kOCrp4lhAMwdsI/iXAOLhVzcHfaex7jBAMwWfuRX8EFhz+\n",
       "ncaLxGD0oiEY42Cyzk53GAdDMARDMARDMARDMARDMARDMARDcJE+fxbbZ7KG4CAFXTxLCIbgQ8bg\n",
       "Fd58hhgMwRC836YMwRAMwRAMwUdOF93xHYLPL7hnx3fEYAiGYMTgQwr+5pdvTlbsj51kcoSC7q3Y\n",
       "//YLBCMGIwYjBkMwBEMwBEMwBEMwBEMwBEMwBEMwBEMwBB+j2JiLPm6xIRiCEYMRgyEYgiEYgiH4\n",
       "woLxfDAEhzgd2PF9M8F4unBJwdjxHYIRgxGDzyL4t/zLyYq9jx3fVxB8wrnoP0MwYvDuY/Bt62jE\n",
       "YMRgCD6i4ERAMARD8GEFK4txMARD8HEFpxKCIRiCDyvYMALBEAzBRxXMf+QQDMEQPJx2vuP7pw8S\n",
       "SDB2fIdgxODVY/DXMQklGDEYgiF4dcHxVxAMwc6nA+ui9yb44xOBYH/BWBcNwdsI5v/+BYIRgyF4\n",
       "DcGeaSC7j6A/AsEQXMYFw09W7H092fDk+eu2bTzZ8JqkgWDE4D31oltkq2msxx+gF40YDMH7Ftzu\n",
       "Tt+msW5/CMEQDMG7FtwZDn/68sgegiEYgncuuDudxcxz/hAMwRC8a8FdwDzt/AIEQzAE9xZ7H3PR\n",
       "3aZo1cBgedOCLp4lBEPwccfBrWpOSHDBiMEQDMFrCeYSgiEYgo8reO6HIPi6gvVnCcEQfEbB/PPn\n",
       "CwBGDIZgxOArCMaO7wtkgh3fZybs+I4YjBiMGAzBEOybCd58BsEQfGTBRykoBEMwBEMwBEMwBEMw\n",
       "BENwXeyPnWRyhILurdgQDMGIwYjBEAzBEAzBEAzBEAzBXqcDO75D8CkFY8d3CIZgxGAIhmAIhuDt\n",
       "BZ9tx/ddvH30MAXdW7Gx4ztiMGIwYjAEQzAEQzAEn1kwNzaN8sVSlGgFwRAMwQtlkqUpFYu2Ia5Y\n",
       "ZCUEQzAEh89EpHqV9iNSyyEYgq8neOEnG2iyWoWpSC1c0MWzhGAI3lkMtnrFwvDUIAZDMAQHzOTn\n",
       "X9ctzn8lEAzBBxPMzfNLwvToJ9YUbLO1a4MxCL6o4KPu+C4ojZ7+Mxr9xIqCKVu/PpIMgrtXcOz4\n",
       "vu9edPbkk8Zjn1hRMI+26JJEEIxe9Ju0wx3fn3wqmzNWnC1qKONrCu6dlNXZFtVBzZRjPLZg7Ph+\n",
       "uhgsqhicqHYs2iYG83Sb+ogQgyH42IJFdV4TurFgs1H77l9hCcEQ3COYK7XeEcpMDgtO8jxnjWBT\n",
       "BWKrmz/zFNzzo8Ipk2SjZqP0eEHlWJHcmgyF4GMLpqmaWzVGG0GpLUZtiXPjEbYXRScGc1PH4NQl\n",
       "BvPxYrPXi1T3kPsFp1udymhc8EuhEjGnyTAIPrTg7FYxjFHt1rmWWqdlY+FGxUWLim1xGbCjvxnd\n",
       "TkBiRwTznAhB0qIoMuYOgouTK6YIrq8KmXYQLO1WpzKdITibsXYsyi0EH1owa2CUYHjkQliWS4ZY\n",
       "rojktGxnJR/9/kLOrU7vJ4C9UpQszdkj3LIqO0afLimdT3SawGgbaDV21hvleud5lU+AinwWY/b2\n",
       "VNrH+NqxmHHnS+cpBJ9BsKn+xRKHb9dPwMXlONXSZtQajf4ufSfYL9nxMPLc2HlzIWDZeAzOPAaJ\n",
       "3MuGFtNjcLdIx5ABwUEE113bzKWW4upDtswjFuVzO0WEzEdnUUIJprJnGKymCM7EU19iRLBXq/Fq\n",
       "cbLvXcNjgmUy/YeiraeyIDiI4FzXf+HwfRvVgU+UcOs4bBKiVxL8OtZjDiO558Z+7xinclzwlidz\n",
       "uuBOkZySyiMI3pHg3+cJ5jfBzjcHo7xcPdU0GmkpX0nwy1hP5jF3E8ypNrXgeo11xk4gWFHLJaPN\n",
       "jfNsxridbTwbjR3f/WKwTmsGrP4L1x6VmNr3egjuX/bsHoTbPUUexQ5xp2rsjGRxOYN+P5joBIJZ\n",
       "MQCi5SVY9l7f3OYR1P4Foxc9IFjGpiXY9XIcTb0H8RAsc7+lxvR5mpZHTmsuysYuMqKLBm7KstcX\n",
       "kdbCp2MKVopESVWp4rVI7ucmg+BDCb7v+C5tqprZIFaPiRwjqx6eMuFp9EiiRzDhNs06H//0H38s\n",
       "03fV//3u/vVPP5f//Ocf739ZpeeZK5M7rWIoG3vx+zFthsH1YFo8X4Z6tz73Ecw979P0/Hb7GOtC\n",
       "8ao2bnOQYtbd3WTLO0rY8d0nBgvdhLB6HJw5XozN9HbyJJilXr021fo6cxq615M+VTNn5H5DqTVq\n",
       "DB+DIx1acN9MVlZ9zjYG5wyEZRRtiQMx2G8c3KyQSpK6Mp1qqWomUs4UnPmdCpG2v65dCNeNvRzz\n",
       "y7KGmnm31sztUeeia7vFX/B7kaatdpVxvKkNCPYTfFvREd+auMPXq+s85TMFM7+ZrJcbJpHDREwj\n",
       "uLhMlQOI5lGO9t3TowqOWXNVZLciTVrt6lZ/ELx7wdWqKh6LnlFcdzwnI12mibOe7P6boe8Hqzx2\n",
       "FKxiWbZz07TY9gqmgwqup7BoSoy4Fcl9tWt9YjZeVgnBYQRzzagVvaO4zniuefPIpPNubZyn1gQQ\n",
       "zF77hfF4P7pZ/CAsS+h9VVdETiBY1ffzrcmeijRhtavLijYIPoLg9VLwX3RYnH9fviSyoWje+2TD\n",
       "7gS/f7LhVqQJq11NHhMIhuBNBavxk3tv7E+j9857GM6wqrIp0pTVrkmeQPChBdPVL8Hauf/teDdG\n",
       "jHcE7439MS7s7oB1AsG3Ik1Z7RrjCf+DC5Zrr8fhsfvaa8ccx3fZecTgx6XLnE4wNXOaDHbZ2VGa\n",
       "s+O71Gu+lEAy919z7h6MC6avw0FLji74pVBz1mNhx/ejx+AdpXqDaJ5EIivvYw7sG71UK5wieHb1\n",
       "yZCCAzUZ7FV5PME73PGdPDaIrvr15crp/n2jlxPsPBdNZ3daFPUUjB3fIXivMfi+QbQsT1VCh/aN\n",
       "3j4GT197LBnTiZo4VEUMhuBDCb5tEP24F9LaN3o/gqe/xoGXR988NZJyCIbgE8fglLYE9+wbvblg\n",
       "PfnHqudvm8WpRkMwBJ9S8H2D6EpwQof2jd5c8PQb6Coue9DNyjHnB4EgGIKPJbjZIJrbXBd95/Ih\n",
       "4J59o7cXnM18ECBr8k8fP2ObYvVvMQnBEHwwwR7F/lgok57G1Tzu89hhTjCWjD8coKJGCnvctZX1\n",
       "HiYyEs6CP3ZZdxAMwdvHEdcY3MTQ+w5z5bOK2VjPWlB7e/DLPMXwyu4AYMRgCIbgJQTXD+w9dpij\n",
       "jo3wtoNRS3uhdwgwBEMwBC8huJqV6uww93hYY2Cfv+qLdRMUrTxlNAQYgq8p+HcInp1JXxoSfNth\n",
       "rrYbv1/jISqkSX15VbGr4L50WcHY8R2Cg/aibzvMRaVdVdQnf5s1fwhuvUUVvWjE4DmC97ku2qfY\n",
       "K85F3xZ4VnG37koXmN9uehzbp160SVqAJ85knXAuGuuiEYNXjcHN3aB6h7k6fiSMvO1GG0Me94Of\n",
       "Np+bcTcJMRiCIdhPsKh7wfUOc7RaI6k0fV+hSmt9u2ccPe4d324wyRSCIRiCVxJMIuHzM9J5lzAI\n",
       "hmAIXkKw8XqZivtzERAMwRC8hODuJpfTQrD7zpAQDMEQvIhg7rE/6wT9EAzBVxHc++LQIJn0Ny45\n",
       "e3tHOqHi84UKuniWEAzB+47Ba5UKMRiCIRiCIRiCIRiCIXidNGfHdwiG4AMIxo7vEAzBiMFnEcwN\n",
       "P1mxV3yyYVvBJ3yyQRoIRgxGDEYMhmAIhmAIhmAIhmAIhmAIhmAIhmAIhmAIPkaxdzkXHenwgrHj\n",
       "OwQjBq8Ug5tEn/1SAAAF8ElEQVRXnSEGQzAEH7MX7dniIBiCIRjjYAg+WFPGju8QfErB2PEdgiEY\n",
       "MfgsgrHju2sm27UaiR3fIRgx2DuTjM7P0G8uWot1AiZiMASfWbBiHjl63Q9OOARDMAT7ZiLtVmVK\n",
       "CQRDMAR7Z5JuVaYIgiEYgv0zSTZqNkpDMARDsH8mdKP2rRUEQ/BlBC+34zvhG3Wjo+UKuniWEAzB\n",
       "+4nBRGdblGgg9CMGQzAET8xkkyDMIwLBEAzBQTKhbP0CJRkEX1MwdnxfIJNk9X40YwSCu90S7PgO\n",
       "wXMz+f7XdYvzt4RAMHrRb69n2PF9UiZ2zY40T+iyBV08y4kJO74jBi8cg4tubbJahalIrRowEYMh\n",
       "+AKCiUr1Ku1HJFYSCIZgCA6eSZamdNla44KlVq7NDYIh+BqCy9kDm0b5YilKxxePQDAEQ/B+m/Im\n",
       "xwjBELyHYn/sJJMjFHRvxYZgCEYMRgyGYAiGYAiGYAiGYAiGYAiG4MsKVhAMwRCMGHy0YmMu+rjF\n",
       "hmAIRgy+RAy+AGAS5waCIfiMghUEQzAEQ/DeUwTBEAzBB05pTiEYgs8oOMvjKwhOcgbBG2Xi+AgS\n",
       "BM8TbPLoCoJtrq8oeMEd3ydQCPahhQu6eJaLCKZ5egXBOrdXFLyPGLyC4AvHYJYnVxDsWEwIhuCj\n",
       "Cda5voJg49bVgOC1BXMJwX6CE7dJ2qMn5TZhB8FrC04EBPsJTvPsCoJlnkPw7Ew+FhOsbKhe9MdV\n",
       "Bce5uILg4nzISwoO8mTDL4sJTmUowb/ssu5WEHyNBxvKRVnqkoL33Ys2jIQSfNVetLzGgo7yhrCB\n",
       "4L0J5j9yCPYUrK5xO7i8760heG+CP30QCPYUTHN2DcFulyoIXlPw1zGBYF/B9hpT0UWHzWkyGoLX\n",
       "FBx/BcHegqOLTGSVJZUQvCfB/E+fCAT7CuZXmcgq11UaCJ6ZiWfqy5GQ5A9fQv7IRQVnbgv+zzEQ\n",
       "thC8eQy+kX6hjRg8T/BlhsHlqCuH4JkzCFkgwc9o//F967+9BdNrCo7zywAm2mH12fkE+zdsmedh\n",
       "ng9uxVzzd9Uy7dkQo+AP6HhfuFYRLK7TiS670exygkM0bOO7bC9/9UvIdz+0XXsKtsHXNXhfuFYR\n",
       "TC/UiS46HPHlBIdo2Nb3Mp/3AGbfyqeOgr9gFXx1sNl+vbGD4DS+EODieqWuJjhAw+aOL6x5L7jT\n",
       "Fnna7ut7Cy56G4EHwi4XLsMCD5UF03yKYHGVBVm3lmKvJjhAw/YOwaTHp1Xdj/gKVnkcNGS6XLhE\n",
       "EwAZo+8gccasLQ7O6MwYrTLW0zvnprmmMTtFsL3Mco6mdkbLezrB3g1b+e+E+NoOReLwocknN+ic\n",
       "zvCFS1CbJJXurFZnioukerOJUzkVoYtazGjxoViRjPXkSZtqztIJgvmV5rHqArOrCfZt2MUVQIYX\n",
       "zGV4wa7bkfpeuLS+h9BGW1z+wZuGUwZzWU6LJaIaPui+yadsjmB6uuY6PhLmVxPs17BVnvh309bY\n",
       "6a4+uzYc4NaFy2hTRMmqHunTyLfWJqtGFQ/PCRveCC7jMCv/ZQIJjjW5WorY5QR7NWwZ4l7FWoLD\n",
       "HG3PhYsbFRfoStT8ubdcj11FJTh6P6fFCqC8OA+0iMeWymHBKnIXTC82Cq7qaUToGQWHa9h7F7xU\n",
       "jUlOS6ulF/UEVaTiITh+O2MoojFrN8EkpdxRMD/A23DCJ51cT/DW6XiCX4ci5WRVXIXdpEoFcVFN\n",
       "MN960W9XVsiesYhIbkm2BGcpdRRsk0s2p/e9HQiG4N4BpyinsIgg4nkYRu39L9/NZBFZDFeldIvB\n",
       "MnbtRauYX7I5ibflhuAlBK/w5rOFe9XlwUUiK+eTn5pPM+tE6dOuueXt39s/7hFYCKG5m2D3maxI\n",
       "XbQ9KQnBSBPbTOmTVguwZCK6gssVHU9ARTnjJZ7msuPxC5Rkac7oJMFc4bz0Cq6SRU0gDclh5dhV\n",
       "dbWFSk2e0e77JXs9PaZKuLwhuYTmaDHBdTs0qGMkpAVTGnxbAZFmqFYkpNVGXYG9yZmPJP8/Fz64\n",
       "Bh5Wr3AAAAAASUVORK5CYII=\n",
       "\" style=\"display:inline;vertical-align:middle;\" /></a><br>"
      ],
      "text/plain": [
       "<IPython.core.display.HTML object>"
      ]
     },
     "metadata": {},
     "output_type": "display_data"
    }
   ],
   "source": [
    "register_meas_bijection = Forall(\n",
    "    (m, var_ket_psi), \n",
    "    InSet(Lambda(n, register_meas),\n",
    "          Bijections(m_bit_interval,\n",
    "                     SetOfAll(n, register_meas, domain=m_bit_interval)))\n",
    "    .with_wrap_after_operator(),\n",
    "    domains=(NaturalPos, m_ket_domain),\n",
    "    condition=normalized_var_ket_psi)"
   ]
  },
  {
   "cell_type": "markdown",
   "metadata": {},
   "source": [
    "### Circuit equivalences and uses\n",
    "\n",
    "Circuits are equivalent when the function in the same way -- they have the same output for any possible input."
   ]
  },
  {
   "cell_type": "code",
   "execution_count": 26,
   "metadata": {},
   "outputs": [
    {
     "data": {
      "text/html": [
       "<strong id=\"equiv_symmetry\"><a class=\"ProveItLink\" href=\"proofs/equiv_symmetry/thm_proof.ipynb\">equiv_symmetry</a> (conjecture without proof):<br></strong> <a class=\"ProveItLink\" href=\"../__pv_it/theorems/7d522a0da74ffc221e27826843ef9bda885fc77b0/theorem_expr.ipynb\"><img src=\"data:image/png;base64,iVBORw0KGgoAAAANSUhEUgAAAPgAAAAWBAMAAAAfsUzKAAAAMFBMVEX///8AAAAAAAAAAAAAAAAA\n",
       "AAAAAAAAAAAAAAAAAAAAAAAAAAAAAAAAAAAAAAAAAAAv3aB7AAAAD3RSTlMAq1RmmUTNIjK7EInv\n",
       "3XZ/CtNrAAAACXBIWXMAAA7EAAAOxAGVKw4bAAADlklEQVRIx71VTWgTQRR++d9umjQFKQpKAoIg\n",
       "Ks2hFHqoTWkVSxGLXopUbRFRY8F4EcTaRPTiQRJEUESa9FLoQalePPTQWPGfShTFgkaiPagg/dHa\n",
       "WqvG92Z2YzI77fbkwOzMvnnf+38zAMsNF30iYM6zAlrxiKyABz7g9AaWYTgJ4MjJcSi+cynYfuA4\n",
       "H/2sl/NYh/CzCWddvrLyaIxI/WNkS0HfcZwTchyAc5ot6toX5APb25IzlVVXwRvkuG1EOyxXPkBQ\n",
       "Zv5jAMsP2rw79wY0i0lLnnSkZDgc1Vy551M9GmPhtPIEgD8GYY47S/FJyJU34bSTka4/GKZZsj8I\n",
       "Az5QQhqD3Y/Zs4VkOByN82yZALUL4DynRTFoB0JQAwxHdruXSGuaTGXRQq9taACzvyq2T6/BOyOU\n",
       "iycyHEo9zWJFYbIccbzmRw0IaMhBeYrhbOiZc4mUU8Q30M6CAXQ+JIHkff6+XtS5KTL7oAwH0Ov9\n",
       "ylYqgKlfbfzMj7M7As4gx41ls0/lyu0Ea9Uypa6L6XS1wADVJOSWDAcQsn77R9PrAounfxyd8HHc\n",
       "DoBrJeeFoZsHEO+brAoardsNcdJTS/udWRrPCzhwBJRFA0JZmHxPEm2dHHcCXKx41Ufs+MLscIvm\n",
       "o4diSm0CUxGw3mNOMRVZrdpDEKXdZkEDw2FYXDMgmAVerMHNaJs1zXFlKTfLh5tnyJYBb1prC6Kz\n",
       "/F7HORIT3fBebvZTn8QFOsPB5+bGBYPnZSjajXWoTHOcNcfrrf0ZWywhsE2LysmFBsNNdhOgIoNr\n",
       "h0y5iuy/DcorfLxtHGkN17mV0XNdHBmAG0Eh7ApVjr9NlIT97SEhW4TgMpwd51uD8jiKtnxHjzMa\n",
       "7naYxRC281tgoma1HiPytU/LlDIn5twR1G7QOjG2hNujXb6lOcfigTgWmy2h4XqYqHb4wo7rQV2l\n",
       "CdH7AZzoX0dY9KKH9Mzr3Vg0COeikCQND2I32vwgVdTFFlZJrcN+1muoOaoFWKHYXEQGeg0uiXIG\n",
       "82GwJudQyiuxnzKgJudSsDF/TDhZQw8UJcVDKgo4fHSizIhRvHv1uh4ntpjZu+vKiJRxMwicKcFh\n",
       "iioC6hC4foL6Uidq17/JsBuunxpT5U3FOPtdUHcdUkahdnG4pfDMlFHOrpgJOmXs5ohZsBISnLX0\n",
       "VyWeQTPlRuvUhAlE6tVe4b+XPV3LC/JK3Ow1Uf5RhgvCfx1/ATaa+Cg0tP60AAAAAElFTkSuQmCC\n",
       "\" style=\"display:inline;vertical-align:middle;\" /></a><br>"
      ],
      "text/plain": [
       "<IPython.core.display.HTML object>"
      ]
     },
     "metadata": {},
     "output_type": "display_data"
    }
   ],
   "source": [
    "equiv_symmetry = Forall(\n",
    "    (A, B), Equals(QcircuitEquiv(B, A), QcircuitEquiv(A, B)))"
   ]
  },
  {
   "cell_type": "code",
   "execution_count": 27,
   "metadata": {},
   "outputs": [
    {
     "name": "stdout",
     "output_type": "stream",
     "text": [
      "Renaming equiv_reflexivity to equiv_reversal\n"
     ]
    },
    {
     "data": {
      "text/html": [
       "<strong id=\"equiv_reversal\"><a class=\"ProveItLink\" href=\"proofs/equiv_reversal/thm_proof.ipynb\">equiv_reversal</a> (conjecture without proof):<br></strong> <a class=\"ProveItLink\" href=\"../__pv_it/theorems/b83e82f3fdff4b3991e78773ff796299fb803bbb0/theorem_expr.ipynb\"><img src=\"data:image/png;base64,iVBORw0KGgoAAAANSUhEUgAAALoAAAAXBAMAAABOokjyAAAAMFBMVEX///+IiIgiIiIQEBB2dnbu\n",
       "7u5ERETMzMzc3NwyMjK6urpmZmaYmJiqqqpUVFQAAAB6qHgnAAAAAXRSTlMAQObYZgAAAAlwSFlz\n",
       "AAAOxAAADsQBlSsOGwAAAsdJREFUSMetVU1oE1EQ/tLuJptkG1e8VhuDUFAPtfhDhUgOOQjFNlYQ\n",
       "aqH0oLagkoDgSUykIHgxgVIRKTYo0otiwFDxB409CKFCgz0qmJOlFBILVq1S48zLbtgm0qVbH7zZ\n",
       "2TdvvjfzzbxdwPZQtmjfeOzcyHgT8GhAkfVPNsBbQoAa/VNaHBavg50FkpphnaTZCrxg/Y4N9H4W\n",
       "zUNAOcba7qt7oMfKR1dIuCO4xgwN2UB/xSJJwT7JkOLIob8IV0Y3essJyizDB0Aq2EDvYDFHcc8x\n",
       "HT6ai7H7Cd14vJcTOgQ1RynYoT3FskxzjCEljr9y1GgXrY0DngA6A4GDNtC9IZaHqZzttTW5ZsRn\n",
       "Cho9wDPgnFiK1Lk3+KwbbnZ3fd++a+IfxseI8+F54BYUUWn5iDBc+R2eFk3gNLaeihmaK5rtHtb1\n",
       "Jk7d8ROYz4lYAmLoPZNBkrV5QolIaV6R1oRB9cPRsQ69twCpi7AIZQbYoa82s5OTdko/GkJ3XHhZ\n",
       "5jaMU3m0alGnDoiHLwP1qxndc1nDxzNnAcp1iTrEjL6NIlSXG9BPksVPzwc0U2/Fknav6lVAX86M\n",
       "7nAXKVPvwgDBBSHvNzMTp52+Xw3o1PVNnP8HmifGBQieC0uydXYBZnTNm2JS8pSasvz+tVEEJ3d5\n",
       "GzVjPFXPu4ebnPN/R3NULE3pjM5AXjKje2JUBu95Ghe5JoPGbZTYa4zsXZH60EfZm+qNLDMtwsmG\n",
       "y2IbQSfTJnRvuGfFcKOaKAYPLiL2S6VUut1wz09XxtESXaUy7a2VmUDFKUH6cJg7UoNSawqqiaf2\n",
       "0m79A/Ab2iMqc0EOQVmBvM/EDHO4ZjCTjKDPYAaz1tc5ZyjHIL+56woi/y08XTChPy1iYDVd3aRO\n",
       "hrsv1XydCSv0G/WfJpPutPCVLT/bI3XvDzeBjusWdkd9crnNoG9pKP8B4y+uRKwphQbjIgAAAABJ\n",
       "RU5ErkJggg==\n",
       "\" style=\"display:inline;vertical-align:middle;\" /></a><br>"
      ],
      "text/plain": [
       "<IPython.core.display.HTML object>"
      ]
     },
     "metadata": {},
     "output_type": "display_data"
    }
   ],
   "source": [
    "equiv_reversal= Forall(\n",
    "    (A, B), QcircuitEquiv(B, A), condition=QcircuitEquiv(A, B))"
   ]
  },
  {
   "cell_type": "code",
   "execution_count": null,
   "metadata": {},
   "outputs": [],
   "source": [
    "equiv_transitivity = Forall(\n",
    "    (A, B, C), QcircuitEquiv(A, C), \n",
    "    conditions=[QcircuitEquiv(A, B), QcircuitEquiv(B, C)])"
   ]
  },
  {
   "cell_type": "markdown",
   "metadata": {},
   "source": [
    "Circuits are equivalent when they are the same except for a temporal section which is equivalent.  The up/down arrows denote entire columns which may be instantiated with `ExprTuple`s."
   ]
  },
  {
   "cell_type": "code",
   "execution_count": null,
   "metadata": {},
   "outputs": [],
   "source": [
    "circuit_equiv_temporal_sub = Forall(\n",
    "    (j, k, l, m), Forall(\n",
    "        (A_1_to_j, B_1_to_k, C_1_to_l, D_1_to_m),\n",
    "        Implies(QcircuitEquiv(circuit_Bk, circuit_Dm),\n",
    "                QcircuitEquiv(circuit_AjBkCl, circuit_AjDmCl).with_wrap_before_operator())\n",
    "        .with_wrap_after_operator()).with_wrapping(),\n",
    "    domain=Natural)"
   ]
  },
  {
   "cell_type": "markdown",
   "metadata": {},
   "source": [
    "If a quantum circuit is \"true\", meaning that its inputs and outputs have all been specified and are consistent, then an equivalent quantum circuit is also true.  Note that a circuit cannot be provably \"true\" if it has any non-specified inputs or outputs."
   ]
  },
  {
   "cell_type": "code",
   "execution_count": null,
   "metadata": {},
   "outputs": [],
   "source": [
    "prob_eq_via_equiv = Forall((A, B), Equals(Prob(A), Prob(B)), \n",
    "                           conditions=QcircuitEquiv(A, B))"
   ]
  },
  {
   "cell_type": "code",
   "execution_count": null,
   "metadata": {},
   "outputs": [],
   "source": [
    "rhs_prob_via_equiv = Forall(Q, Forall((A, B), Function(Q, Prob(B)), \n",
    "                                      conditions=(Function(Q, Prob(A)),\n",
    "                                                  QcircuitEquiv(A, B))))"
   ]
  },
  {
   "cell_type": "code",
   "execution_count": null,
   "metadata": {},
   "outputs": [],
   "source": [
    "lhs_prob_via_equiv = Forall(Q, Forall((A, B), Function(Q, Prob(A)), \n",
    "                                      conditions=(Function(Q, Prob(B)),\n",
    "                                                  QcircuitEquiv(A, B))))"
   ]
  },
  {
   "cell_type": "markdown",
   "metadata": {},
   "source": [
    "A quantum circuit applied to some input is equivalent to its output in the form of a circuit input.  That is, if a circuit produces some output, it is interchangable with that output when fed as an input in a broader circuit."
   ]
  },
  {
   "cell_type": "code",
   "execution_count": null,
   "metadata": {},
   "outputs": [],
   "source": [
    "circuit_output_equiv = Forall(\n",
    "    (k, m), Forall(\n",
    "        (a, b, U_1_to_m),\n",
    "        Implies(circuit_aUb, \n",
    "                QcircuitEquiv(circuit_aU, circuit_b))),\n",
    "    domain=NaturalPos)"
   ]
  },
  {
   "cell_type": "markdown",
   "metadata": {},
   "source": [
    "Circuit equivalence is preserved under the permutation of qubit row indices."
   ]
  },
  {
   "cell_type": "code",
   "execution_count": null,
   "metadata": {},
   "outputs": [],
   "source": [
    "from proveit import Literal, Function\n",
    "circuit_equiv_qubit_permutation = Forall(\n",
    "    (k, m, n),\n",
    "    Forall(p,\n",
    "           Forall((A11_to_Akm, R11_to_Rkm, B11_to_Bkn, S11_to_Skn),\n",
    "                  Equals(QcircuitEquiv(circuit_Akm, circuit_Bkn),\n",
    "                         QcircuitEquiv(circuit_permuted_Akm, circuit_permuted_Bkn))\n",
    "                  .with_wrap_after_operator()).with_wrapping(),\n",
    "           domain=Function(Literal('Perm', latex_format=r'\\textrm{Perm}'),\n",
    "                           Interval(one, k))), # TODO, ADD Perm\\n\",\n",
    "    domain=NaturalPos)"
   ]
  },
  {
   "cell_type": "code",
   "execution_count": null,
   "metadata": {},
   "outputs": [],
   "source": [
    "circuit_equiv_qubit_permutation.instance_expr.instance_expr.instance_expr.operands"
   ]
  },
  {
   "cell_type": "code",
   "execution_count": null,
   "metadata": {},
   "outputs": [],
   "source": [
    "%%latex\n",
    "$(x_1, ..., x_n) \\\\\n",
    "p^{\\leftarrow}((x_1, ..., x_n)) = (p^{-1}(x_1), ..., p^{-1}(x_n)) \\\\\n",
    "p^{\\leftarrow}(S) = \\{y~|~p(y) \\in S\\}\n",
    "$\n",
    "U on (3, 1, 2)"
   ]
  },
  {
   "cell_type": "markdown",
   "metadata": {},
   "source": [
    "Circuits are equivalent when they are the same except for a top section which is equivalent as long as there are no multi-gate that cross the top and bottom sections and there is no control or swap across the sections.  There could be a control in the top section with a target in the bottom section as long as circuit equivalence accounts for control on external targets as part of the output that must all be consistent for each possible input."
   ]
  },
  {
   "cell_type": "code",
   "execution_count": null,
   "metadata": {},
   "outputs": [],
   "source": [
    "circuit_equiv_top_sub= Forall(\n",
    "    (k, l, m),\n",
    "    Forall((A11_to_Akm, B11_to_Bkm, C11_to_Clm),\n",
    "           Forall((R11_to_Rkm, S11_to_Skm, T11_to_Tlm),\n",
    "                  Implies(QcircuitEquiv(circuit_Akm, circuit_Bkm),\n",
    "                          QcircuitEquiv(circuit_AkClm, circuit_BkClm))\n",
    "                  .with_wrap_after_operator(),\n",
    "                  conditions=no_1tok_in_Ts)\n",
    "           .with_wrap_before_condition().with_wrapping())\n",
    "    .with_wrapping(),\n",
    "    domain=NaturalPos)"
   ]
  },
  {
   "cell_type": "markdown",
   "metadata": {},
   "source": [
    "### Circuit inputs and outputs in different forms"
   ]
  },
  {
   "cell_type": "code",
   "execution_count": null,
   "metadata": {},
   "outputs": [],
   "source": [
    "input_as_tensor_prod = Forall(\n",
    "    m, Forall(\n",
    "        (A, B_1_to_m),\n",
    "        Iff(QcircuitEquiv(circuit_compressed_inputAm, circuit_expanded_inputBm),\n",
    "            Equals(A, TensorProd(B_1_to_m)))),\n",
    "    domain=NaturalPos)"
   ]
  },
  {
   "cell_type": "code",
   "execution_count": null,
   "metadata": {},
   "outputs": [],
   "source": [
    "output_as_tensor_prod = Forall(\n",
    "    m, Forall(\n",
    "        (A, B_1_to_m),\n",
    "        Iff(QcircuitEquiv(circuit_compressed_outputAm, circuit_expanded_outputBm),\n",
    "            Equals(A, TensorProd(B_1_to_m)))),\n",
    "    domain=NaturalPos)"
   ]
  },
  {
   "cell_type": "code",
   "execution_count": null,
   "metadata": {},
   "outputs": [],
   "source": [
    "consolidated_input_A_1_to_m"
   ]
  },
  {
   "cell_type": "code",
   "execution_count": null,
   "metadata": {},
   "outputs": [],
   "source": [
    "input_consolidation = Forall(\n",
    "    m, Forall(\n",
    "        n_1_to_m, Forall(\n",
    "            A_1_to_m,\n",
    "                Forall(N_0_to_m,\n",
    "                       QcircuitEquiv(\n",
    "                           Qcircuit(VertExprArray(\n",
    "                               [ExprRange(k, input_Ak_nk, one, m)])),\n",
    "                           Qcircuit(VertExprArray(\n",
    "                               [ExprRange(k, consolidated_input_A_1_to_m, one, m)]))),\n",
    "                       domain=Natural, condition=each_Nk_is_partial_sum).with_wrapping(),\n",
    "            domains=[ExprRange(k, nk_ket_domain, one, m)]).with_wrapping(),\n",
    "        domain=NaturalPos).with_wrapping(),\n",
    "    domain=NaturalPos)"
   ]
  },
  {
   "cell_type": "code",
   "execution_count": null,
   "metadata": {},
   "outputs": [],
   "source": [
    "output_consolidation = Forall(\n",
    "    m, Forall(\n",
    "        n_1_to_m, Forall(\n",
    "            A_1_to_m,\n",
    "                Forall(N_0_to_m,\n",
    "                       QcircuitEquiv(\n",
    "                           Qcircuit(VertExprArray(\n",
    "                               [ExprRange(k, output_Ak_nk, one, m)])),\n",
    "                           Qcircuit(VertExprArray(\n",
    "                               [ExprRange(k, consolidated_output_A_1_to_m,\n",
    "                                          one, m)]))),\n",
    "                       domain=Natural, condition=each_Nk_is_partial_sum).with_wrapping(),\n",
    "            domains=[ExprRange(k, nk_ket_domain, one, m)]).with_wrapping(),\n",
    "        domain=NaturalPos).with_wrapping(),\n",
    "    domain=NaturalPos)"
   ]
  },
  {
   "cell_type": "markdown",
   "metadata": {},
   "source": [
    "### Quantum circuit experiment extensions"
   ]
  },
  {
   "cell_type": "markdown",
   "metadata": {},
   "source": [
    "The probability for a particular experiment outcome is the product of the outcome probabilities for a first part of the experiment and a second part of the experiment given that the state at the end of the first part matches the state at the beginning of the second part so they can happen in succession.  If one of these is ideal (probability 1), there is no need to retain intermediate labels."
   ]
  },
  {
   "cell_type": "code",
   "execution_count": null,
   "metadata": {},
   "outputs": [],
   "source": [
    "concat_onto_ideal_expt = Forall(\n",
    "    (i, j, m), Forall(\n",
    "        var_ket_psi, \n",
    "        Forall(\n",
    "            (U_1_to_i, V_1_to_j),\n",
    "            Implies(Equals(Prob(circuit_Ui_psi_m), one),\n",
    "                    Equals(Prob(circuit_Ui_Vj),\n",
    "                           Prob(circuit_psi_m_Vj))\n",
    "                    .with_wrap_after_operator())\n",
    "            .with_wrap_after_operator()).with_wrapping(),\n",
    "        domain=m_ket_domain).with_wrapping(),\n",
    "    domain=NaturalPos).with_wrapping()"
   ]
  },
  {
   "cell_type": "code",
   "execution_count": null,
   "metadata": {},
   "outputs": [],
   "source": [
    "concat_ideal_expt = Forall(\n",
    "    (i, j, m), Forall(\n",
    "        var_ket_psi, \n",
    "        Forall(\n",
    "            (U_1_to_i, V_1_to_j),\n",
    "            Implies(Equals(Prob(circuit_psi_m_Vj), one),\n",
    "                    Equals(Prob(circuit_Ui_Vj),\n",
    "                           Prob(circuit_Ui_psi_m))\n",
    "                    .with_wrap_after_operator())\n",
    "            .with_wrap_after_operator()).with_wrapping(),\n",
    "        domain=m_ket_domain).with_wrapping(),\n",
    "    domain=NaturalPos).with_wrapping()"
   ]
  },
  {
   "cell_type": "markdown",
   "metadata": {},
   "source": [
    "If neither experiment is ideal (both have probability less than one), it may not be right to remove the intermediate input/output labels.  Let's revisit this later."
   ]
  },
  {
   "cell_type": "code",
   "execution_count": null,
   "metadata": {},
   "outputs": [],
   "source": [
    "# concatenation_prob = Forall(\n",
    "#     (i, j, m), Forall(\n",
    "#         n_1_to_m,\n",
    "#         Forall(\n",
    "#             A_1_to_m, \n",
    "#             Forall(\n",
    "#                 N_0_to_m, Forall(\n",
    "#                     (U_1_to_i, V_1_to_j),\n",
    "#                     Equals(Prob(circuit_Ui_Vj),\n",
    "#                            Mult(Prob(circuit_Ui_outAm), Prob(circuit_inAm_Vj)))\n",
    "#                     .with_wrap_after_operator()).with_wrapping(),\n",
    "#                 domain=Natural, condition=each_Nk_is_partial_sum).with_wrapping(),\n",
    "#             domains=[ExprRange(k, nk_ket_domain, one, m)]).with_wrapping(),\n",
    "#         domain=NaturalPos).with_wrapping(),\n",
    "#     domain=NaturalPos).with_wrapping()"
   ]
  },
  {
   "cell_type": "markdown",
   "metadata": {},
   "source": [
    "Adding idle qubits is a trivial way to expand a quantum circuit and doesn't affect outcome probabilities."
   ]
  },
  {
   "cell_type": "code",
   "execution_count": null,
   "metadata": {},
   "outputs": [],
   "source": [
    "trivial_expansion_above = Forall(\n",
    "    (k, l, m), Forall(\n",
    "        (var_ket_u, var_ket_v), Forall(\n",
    "            var_ket_psi, Forall(\n",
    "                A11_to_Akl, \n",
    "                Equals(Prob(circuit__u_Akl_v),\n",
    "                       Prob(circuit__psi_m__u_Akl_v))\n",
    "                .with_wrap_after_operator()).with_wrapping(),\n",
    "            domain=m_ket_domain),\n",
    "        domain=l_ket_domain),\n",
    "    domain=NaturalPos)"
   ]
  },
  {
   "cell_type": "code",
   "execution_count": null,
   "metadata": {},
   "outputs": [],
   "source": [
    "trivial_expansion_below = Forall(\n",
    "    (k, l, m), Forall(\n",
    "        (var_ket_u, var_ket_v), Forall(\n",
    "            var_ket_psi, Forall(\n",
    "                A11_to_Akl, \n",
    "                Equals(Prob(circuit__u_Akl_v),\n",
    "                       Prob(circuit__u_Akl_v__psi_m))\n",
    "                .with_wrap_after_operator()).with_wrapping(),\n",
    "            domain=m_ket_domain),\n",
    "        domain=l_ket_domain),\n",
    "    domain=NaturalPos)"
   ]
  },
  {
   "cell_type": "code",
   "execution_count": null,
   "metadata": {},
   "outputs": [],
   "source": [
    "# Whether this is valid depends upon what we regard as being in Q.C.\n",
    "# It might not be safe.\n",
    "# equate_outputs = Forall(\n",
    "#     (k, m), Forall(\n",
    "#         (a, b, U_1_to_m),\n",
    "#         Implies(And(InSet(circuit_Ua, QC), \n",
    "#                     InSet(circuit_Ub, QC))\n",
    "#                 .with_wrap_after_operator(),\n",
    "#                 Equals(a, b))),\n",
    "#     domain=NaturalPos)"
   ]
  },
  {
   "cell_type": "markdown",
   "metadata": {},
   "source": [
    "### Useful circuit truths"
   ]
  },
  {
   "cell_type": "code",
   "execution_count": null,
   "metadata": {},
   "outputs": [],
   "source": [
    "phase_kickback = Forall(\n",
    "    m, Forall(\n",
    "        U, Forall(\n",
    "            var_ket_u, Forall(\n",
    "                varphi, Equals(Prob(phase_kickback_circuit), one),\n",
    "                condition=Equals(Qmult(U, var_ket_u,),\n",
    "                                 ScalarMult(exp2pi_i(varphi), var_ket_u))),\n",
    "            domain=m_ket_domain, condition=normalized_var_ket_u),\n",
    "        domain=Unitary(Exp(two, m))),\n",
    "    domain=NaturalPos)"
   ]
  },
  {
   "cell_type": "code",
   "execution_count": null,
   "metadata": {},
   "outputs": [],
   "source": [
    "phase_kickbacks_on_register = Forall(\n",
    "    (m, t), Forall(\n",
    "        var_range(U, one, t), Forall(\n",
    "            var_ket_u, Forall(\n",
    "                var_range(varphi, one, t), \n",
    "                Equals(Prob(phase_kickback_on_register_circuit), one),\n",
    "                conditions=ExprRange(i, Equals(MatrixMult(IndexedVar(U, i), var_ket_u),\n",
    "                                               ScalarMult(exp2pi_i(IndexedVar(varphi, i)), \n",
    "                                                          var_ket_u)),\n",
    "                                     one, t)).with_wrapping(),\n",
    "            domain=m_ket_domain, condition=normalized_var_ket_u),\n",
    "        domain=Unitary(Exp(two, m))),\n",
    "    domain=NaturalPos)"
   ]
  },
  {
   "cell_type": "code",
   "execution_count": null,
   "metadata": {},
   "outputs": [],
   "source": [
    "%end theorems"
   ]
  },
  {
   "cell_type": "code",
   "execution_count": null,
   "metadata": {},
   "outputs": [],
   "source": [
    "# sub_circuit_inputs = Forall(\n",
    "#     (k, m, n),\n",
    "#     Forall(\n",
    "#         (a_1_to_k, b_1_to_k, c_1_to_k, U11_to_Ukm, V11_to_Vkm, R11_to_Rkm, S11_to_Skm),\n",
    "#         Implies(And(circuit_aUVc, circuit_aUb),\n",
    "#                circuit_bVc).with_wrap_after_operator()),\n",
    "#     domain=NaturalPos)"
   ]
  },
  {
   "cell_type": "code",
   "execution_count": null,
   "metadata": {},
   "outputs": [],
   "source": [
    "# sub_circuit_inputs.instance_expr.instance_expr"
   ]
  },
  {
   "cell_type": "code",
   "execution_count": null,
   "metadata": {},
   "outputs": [],
   "source": [
    "# qubit_permutation = Forall(\n",
    "#     (P, Q), Forall(\n",
    "#         (k, m, n),\n",
    "#         Forall(\n",
    "#             (A11_to_Akm, R11_to_Rkm, B11_to_Bkn, S11_to_Skn),\n",
    "#             Implies(CircuitEquiv(circuit_A_detailed, circuit_B_detailed),\n",
    "#                     CircuitEquiv(permuted_circuit_A, permuted_circuit_B)).with_wrap_after_operator()),\n",
    "#         domain=NaturalPos))"
   ]
  },
  {
   "cell_type": "code",
   "execution_count": null,
   "metadata": {},
   "outputs": [],
   "source": [
    "# qubit_permutation.instance_expr.instance_expr.instance_expr"
   ]
  },
  {
   "cell_type": "code",
   "execution_count": null,
   "metadata": {},
   "outputs": [],
   "source": [
    "# qubit_range_circuit_substitution = Forall(\n",
    "#     (k, l, m, n), Forall(\n",
    "#         (A11_to_Akl, B11_to_Bkm, C11_to_Ckn, D11_to_Dkm),\n",
    "#         Implies(CircuitEquiv(circuit_B, circuit_D),\n",
    "#                 CircuitEquiv(circuit_ABCvert, circuit_ADCvert)).with_wrap_after_operator()),\n",
    "#     domain=NaturalPos)"
   ]
  },
  {
   "cell_type": "code",
   "execution_count": null,
   "metadata": {},
   "outputs": [],
   "source": [
    "# qubit_range_circuit_substitution.instance_expr.instance_expr"
   ]
  },
  {
   "cell_type": "code",
   "execution_count": null,
   "metadata": {},
   "outputs": [],
   "source": [
    "# %end theorems"
   ]
  },
  {
   "cell_type": "code",
   "execution_count": null,
   "metadata": {},
   "outputs": [],
   "source": []
  }
 ],
 "metadata": {
  "kernelspec": {
   "display_name": "Python 3",
   "language": "python",
   "name": "python3"
  },
  "language_info": {
   "codemirror_mode": {
    "name": "ipython",
    "version": 3
   },
   "file_extension": ".py",
   "mimetype": "text/x-python",
   "name": "python",
   "nbconvert_exporter": "python",
   "pygments_lexer": "ipython3",
   "version": "3.7.3"
  }
 },
 "nbformat": 4,
 "nbformat_minor": 1
}
